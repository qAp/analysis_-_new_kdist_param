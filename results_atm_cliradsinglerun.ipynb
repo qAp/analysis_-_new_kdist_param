{
 "cells": [
  {
   "cell_type": "code",
   "execution_count": 1157,
   "metadata": {
    "collapsed": true
   },
   "outputs": [],
   "source": [
    "import os\n",
    "import ast\n",
    "import json\n",
    "import importlib \n",
    "import itertools\n",
    "import collections\n",
    "import pprint\n",
    "\n",
    "from bokeh.io import output_notebook, show\n",
    "from bokeh.layouts import gridplot\n",
    "from bokeh.plotting import figure\n",
    "from bokeh.models import Range1d, Legend, ColumnDataSource, FactorRange\n",
    "from bokeh.palettes import all_palettes\n",
    "from bokeh.transform import factor_cmap\n",
    "\n",
    "import matplotlib\n",
    "import matplotlib.pyplot as plt\n",
    "import numpy as np\n",
    "import pandas as pd\n",
    "import xarray as xr\n",
    "\n",
    "\n",
    "import climatools.lblnew.bestfit_params as bestfits\n",
    "from climatools.lblnew import setup_bestfit, setup_overlap\n",
    "import climatools.lblnew.pipeline as pipe_lblnew\n",
    "import climatools.cliradlw.setup as setup_cliradlw\n",
    "import climatools.cliradlw.pipeline as pipe_cliradlw\n",
    "\n",
    "import climatools.html.html as climahtml\n",
    "from climatools.lblnew.dataio import *\n",
    "from climatools.plot.plot import *\n",
    "\n",
    "\n",
    "from IPython import display\n",
    "\n",
    "#importlib.reload(bestfits)\n",
    "#importlib.reload(setup_bestfit)\n",
    "#importlib.reload(setup_overlap)\n",
    "#importlib.reload(pipe_lblnew)\n",
    "#importlib.reload(setup_cliradlw)\n",
    "#importlib.reload(pipe_cliradlw)"
   ]
  },
  {
   "cell_type": "code",
   "execution_count": 1158,
   "metadata": {
    "scrolled": true
   },
   "outputs": [
    {
     "data": {
      "text/html": [
       "\n",
       "    <div class=\"bk-root\">\n",
       "        <a href=\"https://bokeh.pydata.org\" target=\"_blank\" class=\"bk-logo bk-logo-small bk-logo-notebook\"></a>\n",
       "        <span id=\"d2bf8b5d-b8c5-4f7e-b8f8-6665ce09b9ad\">Loading BokehJS ...</span>\n",
       "    </div>"
      ]
     },
     "metadata": {},
     "output_type": "display_data"
    },
    {
     "data": {
      "application/javascript": [
       "\n",
       "(function(root) {\n",
       "  function now() {\n",
       "    return new Date();\n",
       "  }\n",
       "\n",
       "  var force = true;\n",
       "\n",
       "  if (typeof (root._bokeh_onload_callbacks) === \"undefined\" || force === true) {\n",
       "    root._bokeh_onload_callbacks = [];\n",
       "    root._bokeh_is_loading = undefined;\n",
       "  }\n",
       "\n",
       "  var JS_MIME_TYPE = 'application/javascript';\n",
       "  var HTML_MIME_TYPE = 'text/html';\n",
       "  var EXEC_MIME_TYPE = 'application/vnd.bokehjs_exec.v0+json';\n",
       "  var CLASS_NAME = 'output_bokeh rendered_html';\n",
       "\n",
       "  /**\n",
       "   * Render data to the DOM node\n",
       "   */\n",
       "  function render(props, node) {\n",
       "    var script = document.createElement(\"script\");\n",
       "    node.appendChild(script);\n",
       "  }\n",
       "\n",
       "  /**\n",
       "   * Handle when an output is cleared or removed\n",
       "   */\n",
       "  function handleClearOutput(event, handle) {\n",
       "    var cell = handle.cell;\n",
       "\n",
       "    var id = cell.output_area._bokeh_element_id;\n",
       "    var server_id = cell.output_area._bokeh_server_id;\n",
       "    // Clean up Bokeh references\n",
       "    if (id !== undefined) {\n",
       "      Bokeh.index[id].model.document.clear();\n",
       "      delete Bokeh.index[id];\n",
       "    }\n",
       "\n",
       "    if (server_id !== undefined) {\n",
       "      // Clean up Bokeh references\n",
       "      var cmd = \"from bokeh.io.state import curstate; print(curstate().uuid_to_server['\" + server_id + \"'].get_sessions()[0].document.roots[0]._id)\";\n",
       "      cell.notebook.kernel.execute(cmd, {\n",
       "        iopub: {\n",
       "          output: function(msg) {\n",
       "            var element_id = msg.content.text.trim();\n",
       "            Bokeh.index[element_id].model.document.clear();\n",
       "            delete Bokeh.index[element_id];\n",
       "          }\n",
       "        }\n",
       "      });\n",
       "      // Destroy server and session\n",
       "      var cmd = \"import bokeh.io.notebook as ion; ion.destroy_server('\" + server_id + \"')\";\n",
       "      cell.notebook.kernel.execute(cmd);\n",
       "    }\n",
       "  }\n",
       "\n",
       "  /**\n",
       "   * Handle when a new output is added\n",
       "   */\n",
       "  function handleAddOutput(event, handle) {\n",
       "    var output_area = handle.output_area;\n",
       "    var output = handle.output;\n",
       "\n",
       "    // limit handleAddOutput to display_data with EXEC_MIME_TYPE content only\n",
       "    if ((output.output_type != \"display_data\") || (!output.data.hasOwnProperty(EXEC_MIME_TYPE))) {\n",
       "      return\n",
       "    }\n",
       "\n",
       "    var toinsert = output_area.element.find(\".\" + CLASS_NAME.split(' ')[0]);\n",
       "\n",
       "    if (output.metadata[EXEC_MIME_TYPE][\"id\"] !== undefined) {\n",
       "      toinsert[toinsert.length - 1].firstChild.textContent = output.data[JS_MIME_TYPE];\n",
       "      // store reference to embed id on output_area\n",
       "      output_area._bokeh_element_id = output.metadata[EXEC_MIME_TYPE][\"id\"];\n",
       "    }\n",
       "    if (output.metadata[EXEC_MIME_TYPE][\"server_id\"] !== undefined) {\n",
       "      var bk_div = document.createElement(\"div\");\n",
       "      bk_div.innerHTML = output.data[HTML_MIME_TYPE];\n",
       "      var script_attrs = bk_div.children[0].attributes;\n",
       "      for (var i = 0; i < script_attrs.length; i++) {\n",
       "        toinsert[toinsert.length - 1].firstChild.setAttribute(script_attrs[i].name, script_attrs[i].value);\n",
       "      }\n",
       "      // store reference to server id on output_area\n",
       "      output_area._bokeh_server_id = output.metadata[EXEC_MIME_TYPE][\"server_id\"];\n",
       "    }\n",
       "  }\n",
       "\n",
       "  function register_renderer(events, OutputArea) {\n",
       "\n",
       "    function append_mime(data, metadata, element) {\n",
       "      // create a DOM node to render to\n",
       "      var toinsert = this.create_output_subarea(\n",
       "        metadata,\n",
       "        CLASS_NAME,\n",
       "        EXEC_MIME_TYPE\n",
       "      );\n",
       "      this.keyboard_manager.register_events(toinsert);\n",
       "      // Render to node\n",
       "      var props = {data: data, metadata: metadata[EXEC_MIME_TYPE]};\n",
       "      render(props, toinsert[toinsert.length - 1]);\n",
       "      element.append(toinsert);\n",
       "      return toinsert\n",
       "    }\n",
       "\n",
       "    /* Handle when an output is cleared or removed */\n",
       "    events.on('clear_output.CodeCell', handleClearOutput);\n",
       "    events.on('delete.Cell', handleClearOutput);\n",
       "\n",
       "    /* Handle when a new output is added */\n",
       "    events.on('output_added.OutputArea', handleAddOutput);\n",
       "\n",
       "    /**\n",
       "     * Register the mime type and append_mime function with output_area\n",
       "     */\n",
       "    OutputArea.prototype.register_mime_type(EXEC_MIME_TYPE, append_mime, {\n",
       "      /* Is output safe? */\n",
       "      safe: true,\n",
       "      /* Index of renderer in `output_area.display_order` */\n",
       "      index: 0\n",
       "    });\n",
       "  }\n",
       "\n",
       "  // register the mime type if in Jupyter Notebook environment and previously unregistered\n",
       "  if (root.Jupyter !== undefined) {\n",
       "    var events = require('base/js/events');\n",
       "    var OutputArea = require('notebook/js/outputarea').OutputArea;\n",
       "\n",
       "    if (OutputArea.prototype.mime_types().indexOf(EXEC_MIME_TYPE) == -1) {\n",
       "      register_renderer(events, OutputArea);\n",
       "    }\n",
       "  }\n",
       "\n",
       "  \n",
       "  if (typeof (root._bokeh_timeout) === \"undefined\" || force === true) {\n",
       "    root._bokeh_timeout = Date.now() + 5000;\n",
       "    root._bokeh_failed_load = false;\n",
       "  }\n",
       "\n",
       "  var NB_LOAD_WARNING = {'data': {'text/html':\n",
       "     \"<div style='background-color: #fdd'>\\n\"+\n",
       "     \"<p>\\n\"+\n",
       "     \"BokehJS does not appear to have successfully loaded. If loading BokehJS from CDN, this \\n\"+\n",
       "     \"may be due to a slow or bad network connection. Possible fixes:\\n\"+\n",
       "     \"</p>\\n\"+\n",
       "     \"<ul>\\n\"+\n",
       "     \"<li>re-rerun `output_notebook()` to attempt to load from CDN again, or</li>\\n\"+\n",
       "     \"<li>use INLINE resources instead, as so:</li>\\n\"+\n",
       "     \"</ul>\\n\"+\n",
       "     \"<code>\\n\"+\n",
       "     \"from bokeh.resources import INLINE\\n\"+\n",
       "     \"output_notebook(resources=INLINE)\\n\"+\n",
       "     \"</code>\\n\"+\n",
       "     \"</div>\"}};\n",
       "\n",
       "  function display_loaded() {\n",
       "    var el = document.getElementById(\"d2bf8b5d-b8c5-4f7e-b8f8-6665ce09b9ad\");\n",
       "    if (el != null) {\n",
       "      el.textContent = \"BokehJS is loading...\";\n",
       "    }\n",
       "    if (root.Bokeh !== undefined) {\n",
       "      if (el != null) {\n",
       "        el.textContent = \"BokehJS \" + root.Bokeh.version + \" successfully loaded.\";\n",
       "      }\n",
       "    } else if (Date.now() < root._bokeh_timeout) {\n",
       "      setTimeout(display_loaded, 100)\n",
       "    }\n",
       "  }\n",
       "\n",
       "\n",
       "  function run_callbacks() {\n",
       "    try {\n",
       "      root._bokeh_onload_callbacks.forEach(function(callback) { callback() });\n",
       "    }\n",
       "    finally {\n",
       "      delete root._bokeh_onload_callbacks\n",
       "    }\n",
       "    console.info(\"Bokeh: all callbacks have finished\");\n",
       "  }\n",
       "\n",
       "  function load_libs(js_urls, callback) {\n",
       "    root._bokeh_onload_callbacks.push(callback);\n",
       "    if (root._bokeh_is_loading > 0) {\n",
       "      console.log(\"Bokeh: BokehJS is being loaded, scheduling callback at\", now());\n",
       "      return null;\n",
       "    }\n",
       "    if (js_urls == null || js_urls.length === 0) {\n",
       "      run_callbacks();\n",
       "      return null;\n",
       "    }\n",
       "    console.log(\"Bokeh: BokehJS not loaded, scheduling load and callback at\", now());\n",
       "    root._bokeh_is_loading = js_urls.length;\n",
       "    for (var i = 0; i < js_urls.length; i++) {\n",
       "      var url = js_urls[i];\n",
       "      var s = document.createElement('script');\n",
       "      s.src = url;\n",
       "      s.async = false;\n",
       "      s.onreadystatechange = s.onload = function() {\n",
       "        root._bokeh_is_loading--;\n",
       "        if (root._bokeh_is_loading === 0) {\n",
       "          console.log(\"Bokeh: all BokehJS libraries loaded\");\n",
       "          run_callbacks()\n",
       "        }\n",
       "      };\n",
       "      s.onerror = function() {\n",
       "        console.warn(\"failed to load library \" + url);\n",
       "      };\n",
       "      console.log(\"Bokeh: injecting script tag for BokehJS library: \", url);\n",
       "      document.getElementsByTagName(\"head\")[0].appendChild(s);\n",
       "    }\n",
       "  };var element = document.getElementById(\"d2bf8b5d-b8c5-4f7e-b8f8-6665ce09b9ad\");\n",
       "  if (element == null) {\n",
       "    console.log(\"Bokeh: ERROR: autoload.js configured with elementid 'd2bf8b5d-b8c5-4f7e-b8f8-6665ce09b9ad' but no matching script tag was found. \")\n",
       "    return false;\n",
       "  }\n",
       "\n",
       "  var js_urls = [\"https://cdn.pydata.org/bokeh/release/bokeh-0.12.16.min.js\", \"https://cdn.pydata.org/bokeh/release/bokeh-widgets-0.12.16.min.js\", \"https://cdn.pydata.org/bokeh/release/bokeh-tables-0.12.16.min.js\", \"https://cdn.pydata.org/bokeh/release/bokeh-gl-0.12.16.min.js\"];\n",
       "\n",
       "  var inline_js = [\n",
       "    function(Bokeh) {\n",
       "      Bokeh.set_log_level(\"info\");\n",
       "    },\n",
       "    \n",
       "    function(Bokeh) {\n",
       "      \n",
       "    },\n",
       "    function(Bokeh) {\n",
       "      console.log(\"Bokeh: injecting CSS: https://cdn.pydata.org/bokeh/release/bokeh-0.12.16.min.css\");\n",
       "      Bokeh.embed.inject_css(\"https://cdn.pydata.org/bokeh/release/bokeh-0.12.16.min.css\");\n",
       "      console.log(\"Bokeh: injecting CSS: https://cdn.pydata.org/bokeh/release/bokeh-widgets-0.12.16.min.css\");\n",
       "      Bokeh.embed.inject_css(\"https://cdn.pydata.org/bokeh/release/bokeh-widgets-0.12.16.min.css\");\n",
       "      console.log(\"Bokeh: injecting CSS: https://cdn.pydata.org/bokeh/release/bokeh-tables-0.12.16.min.css\");\n",
       "      Bokeh.embed.inject_css(\"https://cdn.pydata.org/bokeh/release/bokeh-tables-0.12.16.min.css\");\n",
       "    }\n",
       "  ];\n",
       "\n",
       "  function run_inline_js() {\n",
       "    \n",
       "    if ((root.Bokeh !== undefined) || (force === true)) {\n",
       "      for (var i = 0; i < inline_js.length; i++) {\n",
       "        inline_js[i].call(root, root.Bokeh);\n",
       "      }if (force === true) {\n",
       "        display_loaded();\n",
       "      }} else if (Date.now() < root._bokeh_timeout) {\n",
       "      setTimeout(run_inline_js, 100);\n",
       "    } else if (!root._bokeh_failed_load) {\n",
       "      console.log(\"Bokeh: BokehJS failed to load within specified timeout.\");\n",
       "      root._bokeh_failed_load = true;\n",
       "    } else if (force !== true) {\n",
       "      var cell = $(document.getElementById(\"d2bf8b5d-b8c5-4f7e-b8f8-6665ce09b9ad\")).parents('.cell').data().cell;\n",
       "      cell.output_area.append_execute_result(NB_LOAD_WARNING)\n",
       "    }\n",
       "\n",
       "  }\n",
       "\n",
       "  if (root._bokeh_is_loading === 0) {\n",
       "    console.log(\"Bokeh: BokehJS loaded, going straight to plotting\");\n",
       "    run_inline_js();\n",
       "  } else {\n",
       "    load_libs(js_urls, function() {\n",
       "      console.log(\"Bokeh: BokehJS plotting callback run at\", now());\n",
       "      run_inline_js();\n",
       "    });\n",
       "  }\n",
       "}(window));"
      ],
      "application/vnd.bokehjs_load.v0+json": "\n(function(root) {\n  function now() {\n    return new Date();\n  }\n\n  var force = true;\n\n  if (typeof (root._bokeh_onload_callbacks) === \"undefined\" || force === true) {\n    root._bokeh_onload_callbacks = [];\n    root._bokeh_is_loading = undefined;\n  }\n\n  \n\n  \n  if (typeof (root._bokeh_timeout) === \"undefined\" || force === true) {\n    root._bokeh_timeout = Date.now() + 5000;\n    root._bokeh_failed_load = false;\n  }\n\n  var NB_LOAD_WARNING = {'data': {'text/html':\n     \"<div style='background-color: #fdd'>\\n\"+\n     \"<p>\\n\"+\n     \"BokehJS does not appear to have successfully loaded. If loading BokehJS from CDN, this \\n\"+\n     \"may be due to a slow or bad network connection. Possible fixes:\\n\"+\n     \"</p>\\n\"+\n     \"<ul>\\n\"+\n     \"<li>re-rerun `output_notebook()` to attempt to load from CDN again, or</li>\\n\"+\n     \"<li>use INLINE resources instead, as so:</li>\\n\"+\n     \"</ul>\\n\"+\n     \"<code>\\n\"+\n     \"from bokeh.resources import INLINE\\n\"+\n     \"output_notebook(resources=INLINE)\\n\"+\n     \"</code>\\n\"+\n     \"</div>\"}};\n\n  function display_loaded() {\n    var el = document.getElementById(\"d2bf8b5d-b8c5-4f7e-b8f8-6665ce09b9ad\");\n    if (el != null) {\n      el.textContent = \"BokehJS is loading...\";\n    }\n    if (root.Bokeh !== undefined) {\n      if (el != null) {\n        el.textContent = \"BokehJS \" + root.Bokeh.version + \" successfully loaded.\";\n      }\n    } else if (Date.now() < root._bokeh_timeout) {\n      setTimeout(display_loaded, 100)\n    }\n  }\n\n\n  function run_callbacks() {\n    try {\n      root._bokeh_onload_callbacks.forEach(function(callback) { callback() });\n    }\n    finally {\n      delete root._bokeh_onload_callbacks\n    }\n    console.info(\"Bokeh: all callbacks have finished\");\n  }\n\n  function load_libs(js_urls, callback) {\n    root._bokeh_onload_callbacks.push(callback);\n    if (root._bokeh_is_loading > 0) {\n      console.log(\"Bokeh: BokehJS is being loaded, scheduling callback at\", now());\n      return null;\n    }\n    if (js_urls == null || js_urls.length === 0) {\n      run_callbacks();\n      return null;\n    }\n    console.log(\"Bokeh: BokehJS not loaded, scheduling load and callback at\", now());\n    root._bokeh_is_loading = js_urls.length;\n    for (var i = 0; i < js_urls.length; i++) {\n      var url = js_urls[i];\n      var s = document.createElement('script');\n      s.src = url;\n      s.async = false;\n      s.onreadystatechange = s.onload = function() {\n        root._bokeh_is_loading--;\n        if (root._bokeh_is_loading === 0) {\n          console.log(\"Bokeh: all BokehJS libraries loaded\");\n          run_callbacks()\n        }\n      };\n      s.onerror = function() {\n        console.warn(\"failed to load library \" + url);\n      };\n      console.log(\"Bokeh: injecting script tag for BokehJS library: \", url);\n      document.getElementsByTagName(\"head\")[0].appendChild(s);\n    }\n  };var element = document.getElementById(\"d2bf8b5d-b8c5-4f7e-b8f8-6665ce09b9ad\");\n  if (element == null) {\n    console.log(\"Bokeh: ERROR: autoload.js configured with elementid 'd2bf8b5d-b8c5-4f7e-b8f8-6665ce09b9ad' but no matching script tag was found. \")\n    return false;\n  }\n\n  var js_urls = [\"https://cdn.pydata.org/bokeh/release/bokeh-0.12.16.min.js\", \"https://cdn.pydata.org/bokeh/release/bokeh-widgets-0.12.16.min.js\", \"https://cdn.pydata.org/bokeh/release/bokeh-tables-0.12.16.min.js\", \"https://cdn.pydata.org/bokeh/release/bokeh-gl-0.12.16.min.js\"];\n\n  var inline_js = [\n    function(Bokeh) {\n      Bokeh.set_log_level(\"info\");\n    },\n    \n    function(Bokeh) {\n      \n    },\n    function(Bokeh) {\n      console.log(\"Bokeh: injecting CSS: https://cdn.pydata.org/bokeh/release/bokeh-0.12.16.min.css\");\n      Bokeh.embed.inject_css(\"https://cdn.pydata.org/bokeh/release/bokeh-0.12.16.min.css\");\n      console.log(\"Bokeh: injecting CSS: https://cdn.pydata.org/bokeh/release/bokeh-widgets-0.12.16.min.css\");\n      Bokeh.embed.inject_css(\"https://cdn.pydata.org/bokeh/release/bokeh-widgets-0.12.16.min.css\");\n      console.log(\"Bokeh: injecting CSS: https://cdn.pydata.org/bokeh/release/bokeh-tables-0.12.16.min.css\");\n      Bokeh.embed.inject_css(\"https://cdn.pydata.org/bokeh/release/bokeh-tables-0.12.16.min.css\");\n    }\n  ];\n\n  function run_inline_js() {\n    \n    if ((root.Bokeh !== undefined) || (force === true)) {\n      for (var i = 0; i < inline_js.length; i++) {\n        inline_js[i].call(root, root.Bokeh);\n      }if (force === true) {\n        display_loaded();\n      }} else if (Date.now() < root._bokeh_timeout) {\n      setTimeout(run_inline_js, 100);\n    } else if (!root._bokeh_failed_load) {\n      console.log(\"Bokeh: BokehJS failed to load within specified timeout.\");\n      root._bokeh_failed_load = true;\n    } else if (force !== true) {\n      var cell = $(document.getElementById(\"d2bf8b5d-b8c5-4f7e-b8f8-6665ce09b9ad\")).parents('.cell').data().cell;\n      cell.output_area.append_execute_result(NB_LOAD_WARNING)\n    }\n\n  }\n\n  if (root._bokeh_is_loading === 0) {\n    console.log(\"Bokeh: BokehJS loaded, going straight to plotting\");\n    run_inline_js();\n  } else {\n    load_libs(js_urls, function() {\n      console.log(\"Bokeh: BokehJS plotting callback run at\", now());\n      run_inline_js();\n    });\n  }\n}(window));"
     },
     "metadata": {},
     "output_type": "display_data"
    }
   ],
   "source": [
    "output_notebook()"
   ]
  },
  {
   "cell_type": "code",
   "execution_count": 1159,
   "metadata": {
    "collapsed": true
   },
   "outputs": [],
   "source": [
    "'''\n",
    "Get the clirad-lw and lblnew `param`s for all spectral bands.  \n",
    "These are returned by functions `clirad_params_atm` and\n",
    "`lblnew_params_atm`, respectively.\n",
    "'''\n",
    "\n",
    "def molecules_byband_atm():\n",
    "    return {1: {'h2o': 'atmpro'},\n",
    "            2: {'h2o': 'atmpro'}, \n",
    "            3: {'co2': 0.0004, 'h2o': 'atmpro', 'n2o': 3.2e-07},\n",
    "            4: {'co2': 0.0004, 'h2o': 'atmpro'},\n",
    "            5: {'co2': 0.0004, 'h2o': 'atmpro'},\n",
    "            6: {'co2': 0.0004, 'h2o': 'atmpro'},\n",
    "            7: {'co2': 0.0004, 'h2o': 'atmpro', 'o3': 'atmpro'},\n",
    "            8: {'h2o': 'atmpro'},\n",
    "            9: {'ch4': 1.8e-06, 'h2o': 'atmpro', 'n2o': 3.2e-07},\n",
    "            10: {'h2o': 'atmpro'},\n",
    "            11: {'co2': 0.0004, 'h2o': 'atmpro'}}\n",
    "\n",
    "\n",
    "def greyabsorbers_by_band_atm():\n",
    "    return {1: {'con': 'atmpro'},\n",
    "            2: {'con': 'atmpro'},\n",
    "            3: {'con': 'atmpro'},\n",
    "            4: {'con': 'atmpro'},\n",
    "            5: {'con': 'atmpro'},\n",
    "            6: {'con': 'atmpro'}, \n",
    "            7: {'con': 'atmpro'},\n",
    "            8: {'con': 'atmpro', 'n2o': 3.2e-7}, \n",
    "            9: {'con': 'atmpro'}, \n",
    "            10: None,\n",
    "            11: None}\n",
    "\n",
    "\n",
    "def clirad_params_atm(atmpro='mls'):\n",
    "    d = {}\n",
    "    for band, molecule in molecules_byband_atm().items():\n",
    "        for param in setup_cliradlw.test_cases():\n",
    "            if [band] == param['band'] and molecule == param['molecule']:\n",
    "                param['atmpro'] = atmpro\n",
    "                d[band] = param\n",
    "                break                \n",
    "    return d\n",
    "\n",
    "\n",
    "def clirad_params_atm_singlerun(atmpro='mls'):\n",
    "    '''\n",
    "    Returns param of clirad-lw run that is equivalent to the total\n",
    "    of all the runs listed in molecules_byband_atm().  In order\n",
    "    for the output to be compatible with clirad_data_atm(), it will\n",
    "    be a list.\n",
    "    '''\n",
    "    param0 = {'band': [1, 2, 3, 4, 5, 6, 7, 8, 9, 10, 11],\n",
    "              'commitnumber': '8f82f9b',\n",
    "              'molecule': {'ch4': 1.8e-06,\n",
    "                           'co2': 0.0004,\n",
    "                           'h2o': 'atmpro',\n",
    "                           'n2o': 3.2e-07,\n",
    "                           'o3': 'atmpro'}}\n",
    "    \n",
    "    d_atmpros = {'mls': 294, 'saw': 257, 'trp': 300}\n",
    "    \n",
    "    param = param0.copy()\n",
    "    param['atmpro'] = atmpro\n",
    "    param['tsfc'] = d_atmpros[atmpro]\n",
    "    \n",
    "    d = {}\n",
    "    d['all'] = param\n",
    "    return d\n",
    "\n",
    "\n",
    "def analysis_dirs_atm(atmpro='mls'):\n",
    "    params = clirad_params_atm(atmpro=atmpro)\n",
    "    return {band: pipe_cliradlw.get_analysis_dir(param=param,\n",
    "                                                 setup=setup_cliradlw) \n",
    "            for band, param in params.items()}\n",
    "\n",
    "\n",
    "def lblnew_params_atm(atmpro='mls'):\n",
    "    dirs = analysis_dirs_atm(atmpro=atmpro)\n",
    "    \n",
    "    d = {}\n",
    "    for band, dirname in dirs.items():\n",
    "        with open(os.path.join(dirname, 'param.py'), \n",
    "                  mode='r', encoding='utf-8') as f:\n",
    "            _, l = f.readlines()\n",
    "        \n",
    "        s = l.split('=')[1].strip()\n",
    "        d[band] = ast.literal_eval(s)\n",
    "        \n",
    "    return d\n"
   ]
  },
  {
   "cell_type": "code",
   "execution_count": 1160,
   "metadata": {
    "collapsed": true
   },
   "outputs": [],
   "source": [
    "def db_getdir():\n",
    "    atmpro = 'mls'\n",
    "    params = clirad_params_atm_singlerun(atmpro=atmpro)\n",
    "    param = params['all']\n",
    "    \n",
    "    fdir = pipe_cliradlw.get_fortran_dir(param=param, \n",
    "                                         setup=setup_cliradlw)\n",
    "    return fdir\n",
    "\n",
    "\n",
    "def db_ktable():\n",
    "    fdir = db_getdir()    \n",
    "    fpath = os.path.join(fdir, 'ktable.dat')\n",
    "    \n",
    "    df = pd.read_csv(fpath, sep=r'\\s+')\n",
    "    df = df.set_index(['band', 'mid', 'il', 'it', 'g'])\n",
    "    ds = xr.Dataset.from_dataframe(df)\n",
    "    return ds\n",
    "\n",
    "\n",
    "def db_ng_dgs():\n",
    "    fdir = db_getdir()\n",
    "    fpath = os.path.join(fdir, 'ng_dgs.dat')\n",
    "    \n",
    "    df = pd.read_csv(fpath, sep=r'\\s+')\n",
    "    df = df.set_index(['band', 'mid', 'g'])\n",
    "    ds = xr.Dataset.from_dataframe(df)\n",
    "    return ds\n"
   ]
  },
  {
   "cell_type": "code",
   "execution_count": 1161,
   "metadata": {
    "collapsed": true
   },
   "outputs": [],
   "source": [
    "def show_makeup():\n",
    "    df = pd.DataFrame()\n",
    "\n",
    "    for band, molecule in molecules_byband_atm().items():\n",
    "        for name, conc in molecule.items():\n",
    "            df.loc[name, band] = str(conc)\n",
    "\n",
    "    df = df.fillna(0)\n",
    "    df.columns.name = 'clirad band'\n",
    "    df.index.name = 'molecule'\n",
    "    \n",
    "    display.display(df)\n",
    "    \n",
    "    display.display(\n",
    "        display.Markdown('*TABLE.* Non-grey absorbers in the atmosphere.'))\n",
    "\n",
    "\n",
    "def show_grey_makeup():\n",
    "    df = pd.DataFrame()\n",
    "    \n",
    "    for band, molecule in greyabsorbers_by_band_atm().items():\n",
    "        if molecule == None:\n",
    "            pass\n",
    "        else:\n",
    "            for name, conc in molecule.items():\n",
    "                df.loc[name, band] = str(conc)\n",
    "                \n",
    "    df = df.fillna(0)\n",
    "    df.columns.name = 'clirad band'\n",
    "    df.index.name = 'absorber'\n",
    "    \n",
    "    display.display(df)\n",
    "    display.display(\n",
    "        display.Markdown('*TABLE.* Grey absorbers in the atmosphere.')\n",
    "    )"
   ]
  },
  {
   "cell_type": "code",
   "execution_count": 1162,
   "metadata": {
    "collapsed": true
   },
   "outputs": [],
   "source": [
    "def load_output_file(path_csv):\n",
    "    '''\n",
    "    Load lblnew output .csv file to xarray.Dataset\n",
    "    \n",
    "    Parameters\n",
    "    ----------\n",
    "    path_csv: str\n",
    "              Path to the .csv file to be loaded.\n",
    "    ds: xarray.Dataset\n",
    "        Data in the input file in the form of an xarray.Dataset.\n",
    "    '''\n",
    "    toindex = ['band', 'pressure', 'igg', 'g']    \n",
    "    df = pd.read_csv(path_csv, sep=r'\\s+')\n",
    "    df = df.set_index([i for i in toindex if i in df.columns])\n",
    "    df = df.rename(columns={'sfu': 'flug',\n",
    "                            'sfd': 'fldg',\n",
    "                            'fnet': 'fnetg',\n",
    "                            'coolr': 'coolrg'})\n",
    "    ds = xr.Dataset.from_dataframe(df)\n",
    "\n",
    "    for l in ('level', 'layer'):\n",
    "        if l in ds.data_vars:\n",
    "            if len(ds[l].dims) > 1:\n",
    "                surface = {d: 0 for d in ds.dims if d != 'pressure'}\n",
    "                coord_level = ds[l][surface]\n",
    "                ds.coords[l] = ('pressure', coord_level)\n",
    "            else:\n",
    "                ds.coords[l] = ('pressure', ds[l])\n",
    "    \n",
    "    return ds"
   ]
  },
  {
   "cell_type": "code",
   "execution_count": 1163,
   "metadata": {
    "collapsed": true
   },
   "outputs": [],
   "source": [
    "def lblnew_setup(param=None):\n",
    "    if 'ng_refs' in param:\n",
    "        return {'setup': setup_bestfit,\n",
    "                'fname_flux_crd': 'output_flux.dat',\n",
    "                'fname_cool_crd': 'output_coolr.dat',\n",
    "                'fname_flux_wgt': 'output_wfluxg.dat',\n",
    "                'fname_cool_wgt': 'output_wcoolrg.dat'}\n",
    "    else:\n",
    "        return {'setup': setup_overlap,\n",
    "                'fname_flux_crd': 'output_flux.dat',\n",
    "                'fname_cool_crd': 'output_coolr.dat',\n",
    "                'fname_flux_wgt': 'output_wflux.dat',\n",
    "                'fname_cool_wgt': 'output_wcoolr.dat'}\n",
    "\n",
    "    \n",
    "def load_lblnew_data(param):\n",
    "    \n",
    "    fname_dsname = [('fname_flux_crd', 'ds_flux_crd'),\n",
    "                    ('fname_cool_crd', 'ds_cool_crd'),\n",
    "                    ('fname_flux_wgt', 'ds_flux_wgt'),\n",
    "                    ('fname_cool_wgt', 'ds_cool_wgt')]\n",
    "    \n",
    "    d = lblnew_setup(param)\n",
    "    dir_fortran = pipe_lblnew.get_dir_case(param, setup=d['setup'])\n",
    "    \n",
    "    data_dict = {}\n",
    "    for fname, dsname in fname_dsname:\n",
    "        fpath = os.path.join(dir_fortran, d[fname])\n",
    "        data_dict[dsname] = load_output_file(fpath)\n",
    "    return data_dict"
   ]
  },
  {
   "cell_type": "code",
   "execution_count": 1164,
   "metadata": {
    "collapsed": true
   },
   "outputs": [],
   "source": [
    "def crd_data_atm(params_atm):\n",
    "    '''\n",
    "    Parameters\n",
    "    ----------\n",
    "    \n",
    "    params_atm: dict\n",
    "                Parameter dictionary for each band.\n",
    "                \n",
    "    d: dict\n",
    "       'flux': xr.Dataset. [pressure, band]\n",
    "               Fluxes.\n",
    "       'cool': xr.Dataset. [pressure, band]\n",
    "               Cooling rate.\n",
    "    \n",
    "    '''\n",
    "    \n",
    "    results_atm = {band: load_lblnew_data(param) \n",
    "                   for band, param in params_atm.items()}\n",
    "    \n",
    "    bands = [band for band, _ in params_atm.items()]\n",
    "    fluxs = [d['ds_flux_crd'] for _, d in results_atm.items()]\n",
    "    cools = [d['ds_cool_crd'] for _, d in results_atm.items()]\n",
    "    \n",
    "    d = {}\n",
    "    d['flux'] = xr.concat(fluxs, dim=bands).rename({'concat_dim': 'band'})\n",
    "    d['cool'] = xr.concat(cools, dim=bands).rename({'concat_dim': 'band'})\n",
    "    return d        \n",
    "        \n",
    "        \n",
    "\n",
    "def clirad_data_atm(params_atm):\n",
    "    \n",
    "    dirnames = [pipe_cliradlw.get_fortran_dir(param,\n",
    "                                              setup=setup_cliradlw)\n",
    "                for _, param in params_atm.items()]\n",
    "    \n",
    "    fpaths_flux = [os.path.join(n, 'output_flux.dat') for n in dirnames]\n",
    "    fpaths_cool = [os.path.join(n, 'output_coolr.dat') for n in dirnames]\n",
    "    \n",
    "    fluxs = [load_output_file(p) for p in fpaths_flux]    \n",
    "    cools = [load_output_file(p) for p in fpaths_cool]\n",
    "    \n",
    "    d = {}\n",
    "    d['flux'] = sum(fluxs)\n",
    "    d['cool'] = sum(cools)\n",
    "    return d\n",
    "\n"
   ]
  },
  {
   "cell_type": "code",
   "execution_count": 1165,
   "metadata": {
    "collapsed": true
   },
   "outputs": [],
   "source": [
    "\n",
    "\n",
    "import rtmtools.clirad.sw.wrangle as cliradwrangle\n",
    "\n",
    "import importlib\n",
    "importlib.reload(cliradwrangle)\n",
    "\n",
    "def oldclirad_data_atm():\n",
    "    '''\n",
    "    Load the OLD clirad's results. mls only.\n",
    "    '''\n",
    "    fpath = os.path.join('/chia_cluster/home/jackyu/radiation',\n",
    "                         'clirad-lw',\n",
    "                         'LW',\n",
    "                         'examples',\n",
    "                         'mls75_h2o_atmpro_co2_.0004_o3_atmpro_n2o_3.2e-7_ch4_1.8e-6_H2012',\n",
    "                         'OUTPUT_CLIRAD.dat')\n",
    "    \n",
    "    ds = cliradwrangle.load_OUTPUT_CLIRAD(readfrom=fpath)\n",
    "    \n",
    "    ds_cool = xr.Dataset()\n",
    "    ds_cool.coords['pressure'] = ('pressure', ds['layer_pressure'])\n",
    "    ds_cool.coords['band'] = ('band', ds['spectral_band'])\n",
    "    ds_cool['coolrg'] = (('band', 'pressure'), - ds['heating_rate'])\n",
    "    \n",
    "    ds_flux = xr.Dataset()\n",
    "    ds_flux.coords['pressure'] = ('pressure', ds['level_pressure'])\n",
    "    ds_flux.coords['band'] = ('band', ds['spectral_band'])\n",
    "    ds_flux['flug'] = (('band', 'pressure'), ds['flux_up'])\n",
    "    ds_flux['fldg'] = (('band', 'pressure'), ds['flux_down'])\n",
    "    ds_flux['fnetg'] = (('band', 'pressure'), ds['net_flux'])\n",
    "    \n",
    "    \n",
    "    d = {}\n",
    "    d['cool'] = ds_cool\n",
    "    d['flux'] = ds_flux\n",
    "    return d\n"
   ]
  },
  {
   "cell_type": "code",
   "execution_count": 1166,
   "metadata": {
    "collapsed": true
   },
   "outputs": [],
   "source": [
    "def fmt_cool(ds_in):\n",
    "    ds = ds_in.copy(deep=True)\n",
    "    if 'igg' in ds.dims:\n",
    "        ds = ds.sel(igg=1)\n",
    "\n",
    "    if 'g' in ds.dims:\n",
    "        ds = ds.sum('g')\n",
    "            \n",
    "    if 'band' in ds.dims:\n",
    "        try:\n",
    "            ds = ds.squeeze('band')\n",
    "        except ValueError:\n",
    "            ds = ds.sum('band')\n",
    "                \n",
    "    return ds['coolrg']\n",
    "\n",
    "\n",
    "\n",
    "def nice_xlims(pltdata=None, prange=None):\n",
    "    \n",
    "    def get_slice(srs):\n",
    "        return srs.sel(pressure=slice(*prange))\n",
    "    \n",
    "    srss = [d['srs'] for d in pltdata]\n",
    "    vmin = min([get_slice(srs).min() for srs in srss])\n",
    "    vmax = max([get_slice(srs).max() for srs in srss])\n",
    "    dv = (vmax - vmin) * .01\n",
    "    return float(vmin - dv), float(vmax + dv)\n",
    "\n",
    "\n",
    "    \n",
    "def plt_cool_bokeh(pltdata=None, \n",
    "                   y_axis_type='linear', prange=(50, 1050)):\n",
    "    \n",
    "    ymin = 1e-2 \n",
    "    ymax = 1020\n",
    "    \n",
    "    p2 = figure(y_axis_type=y_axis_type, plot_width=300)\n",
    "    xmin, xmax = nice_xlims(pltdata, prange=prange)\n",
    "    \n",
    "    rs = []\n",
    "    for d in pltdata:\n",
    "        rd = []\n",
    "        if 'marker' in d:\n",
    "            r_mark = getattr(p2, d['marker'])(d['srs'].values, \n",
    "                        d['srs'].coords['pressure'].values,\n",
    "                        color=d['color'], alpha=.7)\n",
    "            rd.append(r_mark)\n",
    "        r_line = p2.line(d['srs'].values, \n",
    "                         d['srs'].coords['pressure'].values,\n",
    "                         color=d['color'], alpha=d['alpha'], \n",
    "                         line_width=d['line_width'], \n",
    "                         line_dash=d['line_dash'])\n",
    "        rd.append(r_line)\n",
    "      \n",
    "        rs.append(rd)\n",
    "        \n",
    "    p2.y_range = Range1d(ymax, ymin)  \n",
    "    p2.yaxis.axis_label = 'pressure [mb]'\n",
    "    \n",
    "    p2.x_range = Range1d(xmin, xmax)\n",
    "    p2.xaxis.axis_label = 'cooling rate [K/day]'\n",
    "    \n",
    "    items = [(d['label'], r) for r, d in zip(rs, pltdata)]\n",
    "    legend = Legend(items=items, location=(10, 0))\n",
    "    legend.label_text_font_size = '8pt'\n",
    "    p2.add_layout(legend, 'above')\n",
    "    p2.legend.orientation = 'horizontal'\n",
    "    p2.legend.location = 'top_center'\n",
    "    \n",
    "    return p2"
   ]
  },
  {
   "cell_type": "code",
   "execution_count": 1167,
   "metadata": {
    "collapsed": true
   },
   "outputs": [],
   "source": [
    "def pltdata_cool(atmpro='mls'):\n",
    "    \n",
    "    d_clirad_singlerun = clirad_data_atm(\n",
    "        clirad_params_atm_singlerun(atmpro=atmpro))\n",
    "    d_clirad = clirad_data_atm(clirad_params_atm(atmpro=atmpro))\n",
    "    d_crd = crd_data_atm(lblnew_params_atm(atmpro=atmpro))\n",
    "\n",
    "    ds_clirad_singlerun = d_clirad_singlerun['cool']\n",
    "    ds_clirad = d_clirad['cool']\n",
    "    ds_crd = d_crd['cool']\n",
    "\n",
    "    colors = all_palettes['Set1'][4]\n",
    "    \n",
    "    data = [\n",
    "        {'label': 'CLIRAD (single-run)',\n",
    "        'srs': fmt_cool(ds_clirad_singlerun),\n",
    "        'line_dash': 'dashed', 'line_width': 5,\n",
    "        'color': colors[1], 'alpha': .6},\n",
    "        {'label': 'CRD',\n",
    "         'srs': fmt_cool(ds_crd),\n",
    "         'line_dash': 'solid', 'line_width': 1.5,\n",
    "         'marker': 'circle', 'marker_size': 5,\n",
    "         'color': colors[2], 'alpha': 1}\n",
    "    ]\n",
    "#        {'label': 'CLIRAD',\n",
    "#         'srs': fmt_cool(ds_clirad),\n",
    "#         'line_dash': 'dashed', 'line_width': 5,\n",
    "#         'color': colors[0], 'alpha': .6}\n",
    "        \n",
    "\n",
    "    \n",
    "    # include old CLIRAD's results for mls profile\n",
    "    if atmpro == 'mls':\n",
    "        d_oldclirad = oldclirad_data_atm()\n",
    "        ds_oldclirad = d_oldclirad['cool']        \n",
    "        data.append(\n",
    "            {'label': 'old CLIRAD (H2012)',\n",
    "             'srs': fmt_cool(ds_oldclirad),\n",
    "             'line_dash': 'solid', 'line_width': 1.5,\n",
    "             'marker': 'square', 'marker_size': 3,\n",
    "             'color': colors[3], 'alpha': .5})\n",
    "    return data\n",
    "\n",
    "\n",
    "def pltdata_cooldiff(atmpro='mls'):\n",
    "    \n",
    "    d_clirad_singlerun = clirad_data_atm(\n",
    "        clirad_params_atm_singlerun(atmpro=atmpro))\n",
    "    d_clirad = clirad_data_atm(clirad_params_atm(atmpro=atmpro))\n",
    "    d_crd = crd_data_atm(lblnew_params_atm(atmpro=atmpro))\n",
    "    \n",
    "    ds_clirad_singlerun = d_clirad_singlerun['cool']\n",
    "    ds_clirad = d_clirad['cool']\n",
    "    ds_crd = d_crd['cool']\n",
    "    \n",
    "    ds_diff = ds_clirad_singlerun - ds_crd\n",
    "    \n",
    "    colors = all_palettes['Set1'][4]\n",
    "    \n",
    "    data = [\n",
    "        {'label': 'CLIRAD (single-run) - CRD',\n",
    "         'srs': fmt_cool(ds_diff),\n",
    "         'line_dash': 'solid', 'line_width': 1.5, \n",
    "         'marker': 'circle', 'marker_size': 7,\n",
    "         'color': colors[3], 'alpha': .8}\n",
    "    ]\n",
    "    \n",
    "    # include old CLIRAD's results for mls profile\n",
    "    if atmpro == 'mls':\n",
    "        d_oldclirad = oldclirad_data_atm()\n",
    "        ds_oldclirad = d_oldclirad['cool']\n",
    "        ds_oldclirad.coords['pressure'] = ds_crd.coords['pressure']\n",
    "        ds_diff_old = ds_oldclirad.sum('band') - ds_crd.sum('band')\n",
    "        data.append(\n",
    "            {'label': 'old CLIRAD (H2012) - CRD',\n",
    "             'srs': fmt_cool(ds_diff_old),\n",
    "             'line_dash': 'dashed', 'line_width': 4,\n",
    "             'color': colors[1], 'alpha': .5}\n",
    "        )\n",
    "    return data\n",
    "\n",
    "\n",
    "def show_cool(atmpro='mls'):\n",
    "    \n",
    "    data_cool = pltdata_cool(atmpro=atmpro)\n",
    "    p_cool_liny = plt_cool_bokeh(pltdata=data_cool)\n",
    "    p_cool_logy = plt_cool_bokeh(pltdata=data_cool, \n",
    "                                 y_axis_type='log',\n",
    "                                 prange=(.01, 200))\n",
    "    \n",
    "    data_cooldiff = pltdata_cooldiff(atmpro=atmpro)\n",
    "    p_cooldiff_logy = plt_cool_bokeh(pltdata=data_cooldiff,\n",
    "                                     y_axis_type='log',\n",
    "                                     prange=(.01, 200))\n",
    "    \n",
    "    everything = gridplot(p_cool_liny, p_cool_logy, \n",
    "                          p_cooldiff_logy,\n",
    "                          ncols=3)\n",
    "    show(everything)\n",
    "    display.display(\n",
    "        display.Markdown('*FIGURE.* Cooling rates & difference.'))\n",
    "\n",
    "\n",
    "    "
   ]
  },
  {
   "cell_type": "code",
   "execution_count": null,
   "metadata": {
    "collapsed": true
   },
   "outputs": [],
   "source": []
  },
  {
   "cell_type": "code",
   "execution_count": 1168,
   "metadata": {
    "collapsed": true,
    "scrolled": false
   },
   "outputs": [],
   "source": [
    "\n",
    "\n",
    "def hist_band_vs_flux(da, title='Title'):\n",
    "       \n",
    "    bands = [str(b.values) for b in da['band']]\n",
    "\n",
    "    source = ColumnDataSource(\n",
    "        data={'band': bands, 'flux': da.values})\n",
    "\n",
    "    p = figure(x_range=bands, title=title)\n",
    "    p.vbar(source=source, x='band', top='flux', width=.9)\n",
    "\n",
    "    p.yaxis.axis_label = 'flux (W m-2)'\n",
    "    p.xaxis.axis_label = 'spectral band'\n",
    "    \n",
    "    return p\n",
    "\n",
    "\n",
    "def show_hist_flux(atmpro='mls'):\n",
    "    ds_crd = crd_data_atm(lblnew_params_atm(atmpro=atmpro))['flux']\n",
    "    ds_clirad = clirad_data_atm(\n",
    "        clirad_params_atm(atmpro=atmpro))['flux']\n",
    "    ds_clirad_singlerun = clirad_data_atm(\n",
    "        clirad_params_atm_singlerun(atmpro=atmpro))['flux']\n",
    "    \n",
    "    ip, varname = 0, 'flug'\n",
    "    da = (ds_clirad_singlerun - ds_crd).isel(pressure=ip)[varname]\n",
    "    p_toa = hist_band_vs_flux(da, \n",
    "        title='TOA flux. CLIRAD (single-run) - CRD.')\n",
    "\n",
    "    ip, varname = -1, 'fldg'\n",
    "    da = (ds_clirad_singlerun - ds_crd).isel(pressure=ip)[varname]\n",
    "    p_sfc = hist_band_vs_flux(da, \n",
    "        title='SFC flux. CLIRAD (single-run) - CRD.')    \n",
    "    \n",
    "    atm_crd = (ds_crd.isel(pressure=0) \n",
    "               - ds_crd.isel(pressure=-1))['fnetg']\n",
    "    atm_clirad_singlerun = (ds_clirad_singlerun.isel(pressure=0) \n",
    "                  - ds_clirad_singlerun.isel(pressure=-1))['fnetg']\n",
    "    da = atm_clirad_singlerun - atm_crd\n",
    "    p_atm = hist_band_vs_flux(da, \n",
    "        title='Atmosphere heating. CLIRAD (single-run) - CRD.')\n",
    "\n",
    "    everything = gridplot(p_toa, p_sfc, p_atm, ncols=3, \n",
    "                          plot_width=300, plot_height=300)\n",
    "    \n",
    "    show(everything)\n",
    "    display.display(\n",
    "        display.Markdown('*FIGURE.* Difference between CLIRAD and CRD'\n",
    "          ' in TOA, SFC and net atmosphere flux,'\n",
    "          ' in each spectral band.'))\n",
    "\n",
    "\n",
    "    \n",
    "def show_tb_flux(atmpro='mls'):\n",
    "    \n",
    "    def fmt(da_in):\n",
    "        da = da_in.copy(deep=True)\n",
    "        if 'igg' in da.dims:\n",
    "            da = da.sel(igg=1)\n",
    "            \n",
    "        if 'g' in da.dims:\n",
    "            da = da.sum('g')\n",
    "        \n",
    "        if 'band' in da.dims:\n",
    "            try:\n",
    "                da = da.squeeze('band')\n",
    "            except ValueError:\n",
    "                da = da.sum('band')\n",
    "                \n",
    "        return da\n",
    "    \n",
    "    ds_crd = crd_data_atm(lblnew_params_atm(atmpro=atmpro))['flux']\n",
    "    olr_crd = ds_crd['flug'].isel(pressure=0)\n",
    "    sfc_crd = ds_crd['fldg'].isel(pressure=-1)\n",
    "    atm_crd = (ds_crd.isel(pressure=0)\n",
    "               - ds_crd.isel(pressure=-1))['fnetg']\n",
    "    \n",
    "    ds_clirad = clirad_data_atm(\n",
    "        clirad_params_atm(atmpro=atmpro))['flux']\n",
    "    olr_clirad = ds_clirad['flug'].isel(pressure=0)\n",
    "    sfc_clirad = ds_clirad['fldg'].isel(pressure=-1)\n",
    "    atm_clirad = (ds_clirad.isel(pressure=0)\n",
    "                  - ds_clirad.isel(pressure=-1))['fnetg']\n",
    "\n",
    "    ds_clirad_singlerun = clirad_data_atm(\n",
    "        clirad_params_atm_singlerun(atmpro=atmpro))['flux']\n",
    "    olr_clirad_singlerun = ds_clirad_singlerun['flug'].isel(pressure=0)\n",
    "    sfc_clirad_singlerun = ds_clirad_singlerun['fldg'].isel(pressure=-1)\n",
    "    atm_clirad_singlerun = (ds_clirad_singlerun.isel(pressure=0)\n",
    "                  - ds_clirad_singlerun.isel(pressure=-1))['fnetg']\n",
    "    \n",
    "    if atmpro == 'mls':\n",
    "        ds_oldclirad = oldclirad_data_atm()['flux']\n",
    "        ds_oldclirad['pressure'] = ds_crd['pressure']\n",
    "        olr_oldclirad = ds_oldclirad['flug'].isel(pressure=0)\n",
    "        sfc_oldclirad = ds_oldclirad['fldg'].isel(pressure=-1)\n",
    "        atm_oldclirad = (ds_oldclirad.isel(pressure=0)\n",
    "                         - ds_oldclirad.isel(pressure=-1))['fnetg']\n",
    "        \n",
    "    \n",
    "    \n",
    "    df = pd.DataFrame()\n",
    "    df.index.name = 'Sum over bands'\n",
    "    \n",
    "    if atmpro == 'mls':\n",
    "        df.loc['old CLIRAD - CRD', \n",
    "               'OLR flux'] = (fmt(olr_oldclirad)\n",
    "                              - fmt(olr_crd)).values\n",
    "        df.loc['old CLIRAD - CRD', \n",
    "               'SFC flux'] = (fmt(sfc_oldclirad)\n",
    "                              - fmt(sfc_crd)).values\n",
    "        df.loc['old CLIRAD - CRD', \n",
    "               'ATM heating'] = (fmt(atm_oldclirad)\n",
    "                                 - fmt(atm_crd)).values\n",
    "    \n",
    "    df.loc['CLIRAD (single-run) - CRD', \n",
    "           'OLR flux'] = (fmt(olr_clirad_singlerun) \n",
    "                          - fmt(olr_crd)).values\n",
    "    df.loc['CLIRAD (single-run) - CRD', \n",
    "           'SFC flux'] = (fmt(sfc_clirad_singlerun) \n",
    "                          - fmt(sfc_crd)).values\n",
    "    df.loc['CLIRAD (single-run) - CRD', \n",
    "           'ATM heating'] = (fmt(atm_clirad_singlerun) \n",
    "                             - fmt(atm_crd)).values\n",
    "\n",
    "    df.loc['CRD', 'OLR flux'] = fmt(olr_crd).values\n",
    "    df.loc['CRD', 'SFC flux'] = fmt(sfc_crd).values\n",
    "    df.loc['CRD', 'ATM heating'] = fmt(atm_crd).values\n",
    "        \n",
    "    df = df.astype('float').round(2)\n",
    "    \n",
    "    display.display(df)\n",
    "    display.display(\n",
    "        display.Markdown('*TABLE.* Difference between CLIRAD and CRD'\n",
    "          ' in TOA, SFC and net atmosphere flux,'\n",
    "          ' over all spectral bands. CRD\\'s'\n",
    "          ' TOA, SFC and net atmosphere flux,'\n",
    "          ' over all spectral bands.'))\n"
   ]
  },
  {
   "cell_type": "code",
   "execution_count": 1169,
   "metadata": {
    "scrolled": false
   },
   "outputs": [
    {
     "data": {
      "text/markdown": [
       "## Results over entire range of molecules and spectral bands"
      ],
      "text/plain": [
       "<IPython.core.display.Markdown object>"
      ]
     },
     "metadata": {},
     "output_type": "display_data"
    },
    {
     "data": {
      "text/markdown": [
       "### Table of Contents"
      ],
      "text/plain": [
       "<IPython.core.display.Markdown object>"
      ]
     },
     "metadata": {},
     "output_type": "display_data"
    },
    {
     "data": {
      "text/html": [
       "<a href=\"#Makeup_of_atmosphere.\">Makeup of atmosphere.</a>"
      ],
      "text/plain": [
       "<IPython.core.display.HTML object>"
      ]
     },
     "metadata": {},
     "output_type": "display_data"
    },
    {
     "data": {
      "text/markdown": [
       "**mid-latitude summer**"
      ],
      "text/plain": [
       "<IPython.core.display.Markdown object>"
      ]
     },
     "metadata": {},
     "output_type": "display_data"
    },
    {
     "data": {
      "text/html": [
       "<a href=\"#Cooling_rates._mls.\">Cooling rates. mls.</a>"
      ],
      "text/plain": [
       "<IPython.core.display.HTML object>"
      ]
     },
     "metadata": {},
     "output_type": "display_data"
    },
    {
     "data": {
      "text/html": [
       "<a href=\"#Fluxes._mls.\">Fluxes. mls.</a>"
      ],
      "text/plain": [
       "<IPython.core.display.HTML object>"
      ]
     },
     "metadata": {},
     "output_type": "display_data"
    },
    {
     "data": {
      "text/markdown": [
       "**sub-arctic winter**"
      ],
      "text/plain": [
       "<IPython.core.display.Markdown object>"
      ]
     },
     "metadata": {},
     "output_type": "display_data"
    },
    {
     "data": {
      "text/html": [
       "<a href=\"#Cooling_rates._saw.\">Cooling rates. saw.</a>"
      ],
      "text/plain": [
       "<IPython.core.display.HTML object>"
      ]
     },
     "metadata": {},
     "output_type": "display_data"
    },
    {
     "data": {
      "text/html": [
       "<a href=\"#Fluxes._saw.\">Fluxes. saw.</a>"
      ],
      "text/plain": [
       "<IPython.core.display.HTML object>"
      ]
     },
     "metadata": {},
     "output_type": "display_data"
    },
    {
     "data": {
      "text/markdown": [
       "**tropical**"
      ],
      "text/plain": [
       "<IPython.core.display.Markdown object>"
      ]
     },
     "metadata": {},
     "output_type": "display_data"
    },
    {
     "data": {
      "text/html": [
       "<a href=\"#Cooling_rates._trp.\">Cooling rates. trp.</a>"
      ],
      "text/plain": [
       "<IPython.core.display.HTML object>"
      ]
     },
     "metadata": {},
     "output_type": "display_data"
    },
    {
     "data": {
      "text/html": [
       "<a href=\"#Fluxes._trp.\">Fluxes. trp.</a>"
      ],
      "text/plain": [
       "<IPython.core.display.HTML object>"
      ]
     },
     "metadata": {},
     "output_type": "display_data"
    },
    {
     "data": {
      "text/html": [
       "<a id=\"Makeup_of_atmosphere.\"></a>"
      ],
      "text/plain": [
       "<IPython.core.display.HTML object>"
      ]
     },
     "metadata": {},
     "output_type": "display_data"
    },
    {
     "data": {
      "text/markdown": [
       "# Makeup of atmosphere."
      ],
      "text/plain": [
       "<IPython.core.display.Markdown object>"
      ]
     },
     "metadata": {},
     "output_type": "display_data"
    },
    {
     "data": {
      "text/html": [
       "<div>\n",
       "<style scoped>\n",
       "    .dataframe tbody tr th:only-of-type {\n",
       "        vertical-align: middle;\n",
       "    }\n",
       "\n",
       "    .dataframe tbody tr th {\n",
       "        vertical-align: top;\n",
       "    }\n",
       "\n",
       "    .dataframe thead th {\n",
       "        text-align: right;\n",
       "    }\n",
       "</style>\n",
       "<table border=\"1\" class=\"dataframe\">\n",
       "  <thead>\n",
       "    <tr style=\"text-align: right;\">\n",
       "      <th>clirad band</th>\n",
       "      <th>1</th>\n",
       "      <th>2</th>\n",
       "      <th>3</th>\n",
       "      <th>4</th>\n",
       "      <th>5</th>\n",
       "      <th>6</th>\n",
       "      <th>7</th>\n",
       "      <th>8</th>\n",
       "      <th>9</th>\n",
       "      <th>10</th>\n",
       "      <th>11</th>\n",
       "    </tr>\n",
       "    <tr>\n",
       "      <th>molecule</th>\n",
       "      <th></th>\n",
       "      <th></th>\n",
       "      <th></th>\n",
       "      <th></th>\n",
       "      <th></th>\n",
       "      <th></th>\n",
       "      <th></th>\n",
       "      <th></th>\n",
       "      <th></th>\n",
       "      <th></th>\n",
       "      <th></th>\n",
       "    </tr>\n",
       "  </thead>\n",
       "  <tbody>\n",
       "    <tr>\n",
       "      <th>h2o</th>\n",
       "      <td>atmpro</td>\n",
       "      <td>atmpro</td>\n",
       "      <td>atmpro</td>\n",
       "      <td>atmpro</td>\n",
       "      <td>atmpro</td>\n",
       "      <td>atmpro</td>\n",
       "      <td>atmpro</td>\n",
       "      <td>atmpro</td>\n",
       "      <td>atmpro</td>\n",
       "      <td>atmpro</td>\n",
       "      <td>atmpro</td>\n",
       "    </tr>\n",
       "    <tr>\n",
       "      <th>co2</th>\n",
       "      <td>0</td>\n",
       "      <td>0</td>\n",
       "      <td>0.0004</td>\n",
       "      <td>0.0004</td>\n",
       "      <td>0.0004</td>\n",
       "      <td>0.0004</td>\n",
       "      <td>0.0004</td>\n",
       "      <td>0</td>\n",
       "      <td>0</td>\n",
       "      <td>0</td>\n",
       "      <td>0.0004</td>\n",
       "    </tr>\n",
       "    <tr>\n",
       "      <th>n2o</th>\n",
       "      <td>0</td>\n",
       "      <td>0</td>\n",
       "      <td>3.2e-07</td>\n",
       "      <td>0</td>\n",
       "      <td>0</td>\n",
       "      <td>0</td>\n",
       "      <td>0</td>\n",
       "      <td>0</td>\n",
       "      <td>3.2e-07</td>\n",
       "      <td>0</td>\n",
       "      <td>0</td>\n",
       "    </tr>\n",
       "    <tr>\n",
       "      <th>o3</th>\n",
       "      <td>0</td>\n",
       "      <td>0</td>\n",
       "      <td>0</td>\n",
       "      <td>0</td>\n",
       "      <td>0</td>\n",
       "      <td>0</td>\n",
       "      <td>atmpro</td>\n",
       "      <td>0</td>\n",
       "      <td>0</td>\n",
       "      <td>0</td>\n",
       "      <td>0</td>\n",
       "    </tr>\n",
       "    <tr>\n",
       "      <th>ch4</th>\n",
       "      <td>0</td>\n",
       "      <td>0</td>\n",
       "      <td>0</td>\n",
       "      <td>0</td>\n",
       "      <td>0</td>\n",
       "      <td>0</td>\n",
       "      <td>0</td>\n",
       "      <td>0</td>\n",
       "      <td>1.8e-06</td>\n",
       "      <td>0</td>\n",
       "      <td>0</td>\n",
       "    </tr>\n",
       "  </tbody>\n",
       "</table>\n",
       "</div>"
      ],
      "text/plain": [
       "clirad band      1       2        3       4       5       6       7       8   \\\n",
       "molecule                                                                       \n",
       "h2o          atmpro  atmpro   atmpro  atmpro  atmpro  atmpro  atmpro  atmpro   \n",
       "co2               0       0   0.0004  0.0004  0.0004  0.0004  0.0004       0   \n",
       "n2o               0       0  3.2e-07       0       0       0       0       0   \n",
       "o3                0       0        0       0       0       0  atmpro       0   \n",
       "ch4               0       0        0       0       0       0       0       0   \n",
       "\n",
       "clirad band       9       10      11  \n",
       "molecule                              \n",
       "h2o           atmpro  atmpro  atmpro  \n",
       "co2                0       0  0.0004  \n",
       "n2o          3.2e-07       0       0  \n",
       "o3                 0       0       0  \n",
       "ch4          1.8e-06       0       0  "
      ]
     },
     "metadata": {},
     "output_type": "display_data"
    },
    {
     "data": {
      "text/markdown": [
       "*TABLE.* Non-grey absorbers in the atmosphere."
      ],
      "text/plain": [
       "<IPython.core.display.Markdown object>"
      ]
     },
     "metadata": {},
     "output_type": "display_data"
    },
    {
     "data": {
      "text/html": [
       "<div>\n",
       "<style scoped>\n",
       "    .dataframe tbody tr th:only-of-type {\n",
       "        vertical-align: middle;\n",
       "    }\n",
       "\n",
       "    .dataframe tbody tr th {\n",
       "        vertical-align: top;\n",
       "    }\n",
       "\n",
       "    .dataframe thead th {\n",
       "        text-align: right;\n",
       "    }\n",
       "</style>\n",
       "<table border=\"1\" class=\"dataframe\">\n",
       "  <thead>\n",
       "    <tr style=\"text-align: right;\">\n",
       "      <th>clirad band</th>\n",
       "      <th>1</th>\n",
       "      <th>2</th>\n",
       "      <th>3</th>\n",
       "      <th>4</th>\n",
       "      <th>5</th>\n",
       "      <th>6</th>\n",
       "      <th>7</th>\n",
       "      <th>8</th>\n",
       "      <th>9</th>\n",
       "    </tr>\n",
       "    <tr>\n",
       "      <th>absorber</th>\n",
       "      <th></th>\n",
       "      <th></th>\n",
       "      <th></th>\n",
       "      <th></th>\n",
       "      <th></th>\n",
       "      <th></th>\n",
       "      <th></th>\n",
       "      <th></th>\n",
       "      <th></th>\n",
       "    </tr>\n",
       "  </thead>\n",
       "  <tbody>\n",
       "    <tr>\n",
       "      <th>con</th>\n",
       "      <td>atmpro</td>\n",
       "      <td>atmpro</td>\n",
       "      <td>atmpro</td>\n",
       "      <td>atmpro</td>\n",
       "      <td>atmpro</td>\n",
       "      <td>atmpro</td>\n",
       "      <td>atmpro</td>\n",
       "      <td>atmpro</td>\n",
       "      <td>atmpro</td>\n",
       "    </tr>\n",
       "    <tr>\n",
       "      <th>n2o</th>\n",
       "      <td>0</td>\n",
       "      <td>0</td>\n",
       "      <td>0</td>\n",
       "      <td>0</td>\n",
       "      <td>0</td>\n",
       "      <td>0</td>\n",
       "      <td>0</td>\n",
       "      <td>3.2e-07</td>\n",
       "      <td>0</td>\n",
       "    </tr>\n",
       "  </tbody>\n",
       "</table>\n",
       "</div>"
      ],
      "text/plain": [
       "clirad band       1       2       3       4       5       6       7        8  \\\n",
       "absorber                                                                       \n",
       "con          atmpro  atmpro  atmpro  atmpro  atmpro  atmpro  atmpro   atmpro   \n",
       "n2o               0       0       0       0       0       0       0  3.2e-07   \n",
       "\n",
       "clirad band       9  \n",
       "absorber             \n",
       "con          atmpro  \n",
       "n2o               0  "
      ]
     },
     "metadata": {},
     "output_type": "display_data"
    },
    {
     "data": {
      "text/markdown": [
       "*TABLE.* Grey absorbers in the atmosphere."
      ],
      "text/plain": [
       "<IPython.core.display.Markdown object>"
      ]
     },
     "metadata": {},
     "output_type": "display_data"
    },
    {
     "data": {
      "text/html": [
       "<a id=\"Cooling_rates._mls.\"></a>"
      ],
      "text/plain": [
       "<IPython.core.display.HTML object>"
      ]
     },
     "metadata": {},
     "output_type": "display_data"
    },
    {
     "data": {
      "text/markdown": [
       "# Cooling rates. mls."
      ],
      "text/plain": [
       "<IPython.core.display.Markdown object>"
      ]
     },
     "metadata": {},
     "output_type": "display_data"
    },
    {
     "data": {
      "text/html": [
       "\n",
       "<div class=\"bk-root\">\n",
       "    <div class=\"bk-plotdiv\" id=\"f25aac03-818d-43f9-b64a-bc279379993e\"></div>\n",
       "</div>"
      ]
     },
     "metadata": {},
     "output_type": "display_data"
    },
    {
     "data": {
      "application/javascript": [
       "(function(root) {\n",
       "  function embed_document(root) {\n",
       "    \n",
       "  var docs_json = {\"9fe58ef1-d646-4030-b857-2bde3dad7969\":{\"roots\":{\"references\":[{\"attributes\":{\"label\":{\"value\":\"CRD\"},\"renderers\":[{\"id\":\"5564980a-ad91-4386-8162-0ab6439d79c7\",\"type\":\"GlyphRenderer\"},{\"id\":\"7763e9d2-5a38-4701-8f27-23e83c461621\",\"type\":\"GlyphRenderer\"}]},\"id\":\"d4a2f0ed-4f34-4c45-971a-f5c8bdc2e095\",\"type\":\"LegendItem\"},{\"attributes\":{},\"id\":\"2597fa93-b18a-40e9-808b-f3429622bef9\",\"type\":\"BasicTicker\"},{\"attributes\":{\"label\":{\"value\":\"CLIRAD (single-run)\"},\"renderers\":[{\"id\":\"c12868a6-c1cd-4095-b8ed-a148885190fe\",\"type\":\"GlyphRenderer\"}]},\"id\":\"1d2dea8b-1cf0-4cd2-8b48-0720b5dfd092\",\"type\":\"LegendItem\"},{\"attributes\":{},\"id\":\"bd52a237-a4fd-4958-b1f8-069ca492c4fb\",\"type\":\"UnionRenderers\"},{\"attributes\":{\"dimension\":1,\"plot\":{\"id\":\"90b682d2-cbff-43c5-83e0-83387964dbf1\",\"subtype\":\"Figure\",\"type\":\"Plot\"},\"ticker\":{\"id\":\"79f905f0-61f3-4366-b2b0-8c367a88611f\",\"type\":\"LogTicker\"}},\"id\":\"64ca7a7e-005d-4456-9530-9322efb42b0f\",\"type\":\"Grid\"},{\"attributes\":{\"data_source\":{\"id\":\"4df02c7c-0574-4ced-855c-b86563b3a35f\",\"type\":\"ColumnDataSource\"},\"glyph\":{\"id\":\"8ebd6671-bd00-4834-a195-457ae38894a0\",\"type\":\"Square\"},\"hover_glyph\":null,\"muted_glyph\":null,\"nonselection_glyph\":{\"id\":\"3bb677b5-1b44-4a9b-b82e-b7b96eb85cf1\",\"type\":\"Square\"},\"selection_glyph\":null,\"view\":{\"id\":\"b7ed03e6-ad47-44f6-8e2a-da49b90f65a9\",\"type\":\"CDSView\"}},\"id\":\"686bc769-f02f-42c9-8c03-c12436c1eca0\",\"type\":\"GlyphRenderer\"},{\"attributes\":{\"callback\":null,\"end\":2.3135570711804605,\"start\":-0.22320708756646002},\"id\":\"ab529474-180d-4d4a-9e25-bc71c12f48d9\",\"type\":\"Range1d\"},{\"attributes\":{\"axis_label\":\"cooling rate [K/day]\",\"formatter\":{\"id\":\"4a51c24f-9fe9-46ac-80b8-175903d49698\",\"type\":\"BasicTickFormatter\"},\"plot\":{\"id\":\"cc04ae8d-38d1-4747-aad7-f46647bc22a3\",\"subtype\":\"Figure\",\"type\":\"Plot\"},\"ticker\":{\"id\":\"2597fa93-b18a-40e9-808b-f3429622bef9\",\"type\":\"BasicTicker\"}},\"id\":\"f1746ba6-afb1-4b6a-a805-480d9f0414a3\",\"type\":\"LinearAxis\"},{\"attributes\":{\"plot\":{\"id\":\"cc04ae8d-38d1-4747-aad7-f46647bc22a3\",\"subtype\":\"Figure\",\"type\":\"Plot\"},\"ticker\":{\"id\":\"2597fa93-b18a-40e9-808b-f3429622bef9\",\"type\":\"BasicTicker\"}},\"id\":\"2046477f-ebd3-41d0-979e-3b34accd6772\",\"type\":\"Grid\"},{\"attributes\":{\"label\":{\"value\":\"old CLIRAD (H2012)\"},\"renderers\":[{\"id\":\"16571b21-5b5b-48e9-a631-7cea1ff7dc94\",\"type\":\"GlyphRenderer\"},{\"id\":\"7e210cfa-7204-484e-a232-78ef85df3d4e\",\"type\":\"GlyphRenderer\"}]},\"id\":\"c4276ae5-8429-41f3-b987-babebf66ef64\",\"type\":\"LegendItem\"},{\"attributes\":{\"axis_label\":\"pressure [mb]\",\"formatter\":{\"id\":\"6ee6f79d-4b54-4b99-8dea-eb0de322dc8c\",\"type\":\"BasicTickFormatter\"},\"plot\":{\"id\":\"cc04ae8d-38d1-4747-aad7-f46647bc22a3\",\"subtype\":\"Figure\",\"type\":\"Plot\"},\"ticker\":{\"id\":\"9021e4ec-e3df-4749-80ae-6812cea52d10\",\"type\":\"BasicTicker\"}},\"id\":\"c05febc3-af6e-4161-b2a7-85011676a9b5\",\"type\":\"LinearAxis\"},{\"attributes\":{\"active_drag\":\"auto\",\"active_inspect\":\"auto\",\"active_scroll\":\"auto\",\"active_tap\":\"auto\",\"tools\":[{\"id\":\"eb605b30-f7f8-4cc9-84de-e0494bd8a4e8\",\"type\":\"PanTool\"},{\"id\":\"c862d718-0739-4019-8aba-6cbf59ea6b83\",\"type\":\"WheelZoomTool\"},{\"id\":\"68338cee-3312-47ee-bb41-c63f073ede44\",\"type\":\"BoxZoomTool\"},{\"id\":\"bc513e2e-f04c-4928-981e-cc2ccce37694\",\"type\":\"SaveTool\"},{\"id\":\"83469bea-be02-48f8-b75d-e58690c88950\",\"type\":\"ResetTool\"},{\"id\":\"5b5daa39-5c70-4666-bf1a-b19b08a86c48\",\"type\":\"HelpTool\"}]},\"id\":\"f875043d-0654-450a-8c41-bc9b9ee078e0\",\"type\":\"Toolbar\"},{\"attributes\":{},\"id\":\"2fa7a38a-a7fa-4d6e-bd62-6f3fd91b1761\",\"type\":\"LinearScale\"},{\"attributes\":{\"label\":{\"value\":\"old CLIRAD (H2012)\"},\"renderers\":[{\"id\":\"686bc769-f02f-42c9-8c03-c12436c1eca0\",\"type\":\"GlyphRenderer\"},{\"id\":\"66c4849c-5291-4b28-b286-4235de94ff74\",\"type\":\"GlyphRenderer\"}]},\"id\":\"49fb86b8-98bf-4699-9237-7a953a7111e9\",\"type\":\"LegendItem\"},{\"attributes\":{},\"id\":\"3a989890-bacb-4c27-9cc7-30632bfa82d2\",\"type\":\"LinearScale\"},{\"attributes\":{\"tools\":[{\"id\":\"eb605b30-f7f8-4cc9-84de-e0494bd8a4e8\",\"type\":\"PanTool\"},{\"id\":\"c862d718-0739-4019-8aba-6cbf59ea6b83\",\"type\":\"WheelZoomTool\"},{\"id\":\"68338cee-3312-47ee-bb41-c63f073ede44\",\"type\":\"BoxZoomTool\"},{\"id\":\"bc513e2e-f04c-4928-981e-cc2ccce37694\",\"type\":\"SaveTool\"},{\"id\":\"83469bea-be02-48f8-b75d-e58690c88950\",\"type\":\"ResetTool\"},{\"id\":\"5b5daa39-5c70-4666-bf1a-b19b08a86c48\",\"type\":\"HelpTool\"},{\"id\":\"b14906f6-5378-4ec2-9235-3523fd064159\",\"type\":\"PanTool\"},{\"id\":\"73abe141-f3f7-4882-8c56-ec408fd87879\",\"type\":\"WheelZoomTool\"},{\"id\":\"bc6cbc60-e417-4da1-b3e1-37fe53698024\",\"type\":\"BoxZoomTool\"},{\"id\":\"a0988876-ba31-4c5c-81fc-313f06547031\",\"type\":\"SaveTool\"},{\"id\":\"359fc934-5a8f-4ddc-8e14-d124c6eb7e12\",\"type\":\"ResetTool\"},{\"id\":\"3db6e206-7768-4c5c-a3cb-88d7e4e9204d\",\"type\":\"HelpTool\"},{\"id\":\"97749c6f-32a5-4bc5-93ed-fffdb1fa3e34\",\"type\":\"PanTool\"},{\"id\":\"520b9e17-32f5-46cd-a61a-204ec4bb2c67\",\"type\":\"WheelZoomTool\"},{\"id\":\"43f3b918-4e5d-4d74-811a-af55805c4f56\",\"type\":\"BoxZoomTool\"},{\"id\":\"719bc915-37e4-43ad-a5b5-ca643ec59319\",\"type\":\"SaveTool\"},{\"id\":\"3b167052-5ccc-43b6-99c4-1183d4eccb9f\",\"type\":\"ResetTool\"},{\"id\":\"fe0e9583-111a-4c9d-88dd-66ceaed0974d\",\"type\":\"HelpTool\"}]},\"id\":\"ca39db9f-5733-4ea1-8fe7-9f23e2d71666\",\"type\":\"ProxyToolbar\"},{\"attributes\":{\"callback\":null,\"data\":{\"x\":{\"__ndarray__\":\"zhhdnl3RU0CKgDdE+dxEQP6f5duhdUFAMJBr6ewEQkAADxZQyK45QBmX3ka8EDZAjl8alnlwL0CeYJlYHKIqQJoaoQNWxSJAwL4t7BozIUBMkS56I6AXQBxPe4ld/BRAnMjiKz2HCkCJCgdQ/WcBQKJTvluRvOg/j/JpYJwB9j+fcxKIKREEQOwUvOtLFw1AV0At7oRoEkD5lECKxjYXQAdydNQ0jR1ACbyvRZLfI0CO3MmPRGApQCcUNq4qNylA6VN9h30SJECRnP+HbGofQDQKaukXmhlAteFC/mL9E0CTDffT91MQQEkVAKh1YwtAqFesCIQRBkATatBMXLz/P4fvYPUXo/Y/tDrQnFTK8T/fneFQ7xLnP14aDQuCJtc/5BrOx2LRzT+fE4V0bnvHP3ueIXamhrA/cWaxNtALrr92uqPyMJK3P6q5+U821+g/ckrZjXL49z/TaxRJZAUAQPzVLij27QFAige8XqaCAEAv4Q7keaX+P0VyKG35kv0/XHVqXZRQ/T/+RskYEAv9PwKD1IjB3fw/JBko3yJ2/D//mRCM5iX7P/btQHcr5vo/xTCcdQr9+j+f/V+tjrf6P0Wt2HvLrvo/9IV/x6br+z/bYX40veD8P8+HZwkyUvw/CkxgoI8l/D8QA+bsYB78P2eu9w7DDvw/khNJm3qS+j8vZ0xHVJ75Py0d1shscPk/NKgVKiiK+T/NNtzstIr5P4ps72zyaPc/TlSpuPUj9j9S2qZu6gj1P2XVmdu6VPQ/t/WgjjEZ9D+np734CoH0P1P4Q57qwfo/\",\"dtype\":\"float64\",\"shape\":[75]},\"y\":{\"__ndarray__\":\"hLndy31yND/6fmq8dJNIP8n9DkWBPlE/aDum7souWD/b4a/JGvVgP9f34SAhymc/ZvM4DOavcD+z0M5pFmh3PxuC4zJuaoA/xjcUPlsHhz8uHAjJAiaQP9ieWRKgppY/oI7HDFTGnz+a5h2n6EimPzS6g9iZQq8/IuAQqtTstT9SSZ2AJsK+P4nS3uALk8U/ih9j7lpCzj+ASL99HTjVP4enV8oyxN0/ACL99nXg5D9fmEwVjErtPyUGgZVDi/Q/AiuHFtnO/D9OYhBYOTQEQPHSTWIQWAxA4XoUrkfhE0D8qfHSTeIbQMh2vp8ajyNArkfhehRuK0Bcj8L1KDwzQFyPwvUo/DpAPgrXo3DtQkDNzMzMzIxKQClcj8L1eFJAKVyPwvVoWECamZmZmVleQGZmZmZmJmJAAAAAAAAgZUCamZmZmRloQJqZmZmZEWtAmpmZmZkJbkCamZmZmYFwQGZmZmZm/nFAZmZmZmZ6c0BmZmZmZvZ0QDQzMzMzc3ZAAAAAAADwd0AAAAAAAGx5QAAAAAAA6HpAzMzMzMxkfEDMzMzMzOB9QM3MzMzMXH9AzczMzMxsgEAzMzMzMyuBQDMzMzMz6YFAMzMzMzOngkCamZmZmWWDQAAAAAAAJIRAAAAAAADihEAAAAAAAKCFQGZmZmZmXoZAzczMzMwch0DNzMzMzNqHQM3MzMzMmIhAMzMzMzNXiUCamZmZmRWKQAAAAAAA1IpAAAAAAACSi0AAAAAAAFCMQGZmZmZmDo1AzczMzMzMjUDNzMzMzIqOQM3MzMzMSI9A\",\"dtype\":\"float64\",\"shape\":[75]}},\"selected\":{\"id\":\"dac2bc3c-99c0-4d74-be56-d0cae31f0546\",\"type\":\"Selection\"},\"selection_policy\":{\"id\":\"a1a49c96-b36a-4995-8909-d016fb6d484f\",\"type\":\"UnionRenderers\"}},\"id\":\"377de040-92e2-48f1-b4db-5e0391b655e5\",\"type\":\"ColumnDataSource\"},{\"attributes\":{\"data_source\":{\"id\":\"377de040-92e2-48f1-b4db-5e0391b655e5\",\"type\":\"ColumnDataSource\"},\"glyph\":{\"id\":\"93adade2-26b9-48f7-bb10-dc5c4114128a\",\"type\":\"Line\"},\"hover_glyph\":null,\"muted_glyph\":null,\"nonselection_glyph\":{\"id\":\"053668e6-bb61-4c8c-92c4-7cfc20e6f63c\",\"type\":\"Line\"},\"selection_glyph\":null,\"view\":{\"id\":\"1d44a541-6fba-4460-bd7e-ac7f10f37202\",\"type\":\"CDSView\"}},\"id\":\"66c4849c-5291-4b28-b286-4235de94ff74\",\"type\":\"GlyphRenderer\"},{\"attributes\":{\"children\":[{\"id\":\"ec7eeaa5-8d78-481a-b7f4-7ef0ef4b7acf\",\"type\":\"Row\"}]},\"id\":\"8968fe9c-54ca-4490-aafb-0c03d42fe8d9\",\"type\":\"Column\"},{\"attributes\":{\"dimension\":1,\"plot\":{\"id\":\"cc04ae8d-38d1-4747-aad7-f46647bc22a3\",\"subtype\":\"Figure\",\"type\":\"Plot\"},\"ticker\":{\"id\":\"9021e4ec-e3df-4749-80ae-6812cea52d10\",\"type\":\"BasicTicker\"}},\"id\":\"c82403e4-e079-41d5-adef-c5e230d598f0\",\"type\":\"Grid\"},{\"attributes\":{\"active_drag\":\"auto\",\"active_inspect\":\"auto\",\"active_scroll\":\"auto\",\"active_tap\":\"auto\",\"tools\":[{\"id\":\"b14906f6-5378-4ec2-9235-3523fd064159\",\"type\":\"PanTool\"},{\"id\":\"73abe141-f3f7-4882-8c56-ec408fd87879\",\"type\":\"WheelZoomTool\"},{\"id\":\"bc6cbc60-e417-4da1-b3e1-37fe53698024\",\"type\":\"BoxZoomTool\"},{\"id\":\"a0988876-ba31-4c5c-81fc-313f06547031\",\"type\":\"SaveTool\"},{\"id\":\"359fc934-5a8f-4ddc-8e14-d124c6eb7e12\",\"type\":\"ResetTool\"},{\"id\":\"3db6e206-7768-4c5c-a3cb-88d7e4e9204d\",\"type\":\"HelpTool\"}]},\"id\":\"bbd8ce55-fbb8-4f04-9fe6-ce9a63d74c9a\",\"type\":\"Toolbar\"},{\"attributes\":{\"line_alpha\":0.5,\"line_color\":\"#984ea3\",\"line_width\":1.5,\"x\":{\"field\":\"x\"},\"y\":{\"field\":\"y\"}},\"id\":\"93adade2-26b9-48f7-bb10-dc5c4114128a\",\"type\":\"Line\"},{\"attributes\":{\"items\":[{\"id\":\"7e1110d3-f669-4fef-84d9-5e6856620845\",\"type\":\"LegendItem\"},{\"id\":\"d4a2f0ed-4f34-4c45-971a-f5c8bdc2e095\",\"type\":\"LegendItem\"},{\"id\":\"c4276ae5-8429-41f3-b987-babebf66ef64\",\"type\":\"LegendItem\"}],\"label_text_font_size\":{\"value\":\"8pt\"},\"location\":\"top_center\",\"orientation\":\"horizontal\",\"plot\":{\"id\":\"95cd9ae4-0e59-4bee-922d-73376a5356d0\",\"subtype\":\"Figure\",\"type\":\"Plot\"}},\"id\":\"6c6c7d84-cc4e-47e8-a545-6685ced8bed1\",\"type\":\"Legend\"},{\"attributes\":{\"fill_alpha\":{\"value\":0.1},\"fill_color\":{\"value\":\"#1f77b4\"},\"line_alpha\":{\"value\":0.1},\"line_color\":{\"value\":\"#1f77b4\"},\"x\":{\"field\":\"x\"},\"y\":{\"field\":\"y\"}},\"id\":\"3bb677b5-1b44-4a9b-b82e-b7b96eb85cf1\",\"type\":\"Square\"},{\"attributes\":{\"plot\":{\"id\":\"90b682d2-cbff-43c5-83e0-83387964dbf1\",\"subtype\":\"Figure\",\"type\":\"Plot\"},\"ticker\":{\"id\":\"60726256-0955-4b00-8444-325991d7185b\",\"type\":\"BasicTicker\"}},\"id\":\"7acc574c-67db-4c66-a13e-506269b241e7\",\"type\":\"Grid\"},{\"attributes\":{\"callback\":null,\"end\":13.587992067591857,\"start\":-0.33483515683786},\"id\":\"b821639e-ea3e-4b7a-8d11-269dc5465947\",\"type\":\"Range1d\"},{\"attributes\":{\"children\":[{\"id\":\"4bf8e41d-a65c-4c4f-a900-60d9beb1fc71\",\"type\":\"ToolbarBox\"},{\"id\":\"8968fe9c-54ca-4490-aafb-0c03d42fe8d9\",\"type\":\"Column\"}]},\"id\":\"da1ac248-b56c-4bca-9592-3888e5f13101\",\"type\":\"Column\"},{\"attributes\":{\"items\":[{\"id\":\"1d2dea8b-1cf0-4cd2-8b48-0720b5dfd092\",\"type\":\"LegendItem\"},{\"id\":\"03ee3da3-837a-4f0f-b50b-ce5756bc5e8e\",\"type\":\"LegendItem\"},{\"id\":\"49fb86b8-98bf-4699-9237-7a953a7111e9\",\"type\":\"LegendItem\"}],\"label_text_font_size\":{\"value\":\"8pt\"},\"location\":\"top_center\",\"orientation\":\"horizontal\",\"plot\":{\"id\":\"cc04ae8d-38d1-4747-aad7-f46647bc22a3\",\"subtype\":\"Figure\",\"type\":\"Plot\"}},\"id\":\"5927777f-3080-4485-9d3a-89e45f58fc5f\",\"type\":\"Legend\"},{\"attributes\":{},\"id\":\"4163da13-6e4a-4b16-89de-a7eeea07f5f7\",\"type\":\"LinearScale\"},{\"attributes\":{\"children\":[{\"id\":\"cc04ae8d-38d1-4747-aad7-f46647bc22a3\",\"subtype\":\"Figure\",\"type\":\"Plot\"},{\"id\":\"95cd9ae4-0e59-4bee-922d-73376a5356d0\",\"subtype\":\"Figure\",\"type\":\"Plot\"},{\"id\":\"90b682d2-cbff-43c5-83e0-83387964dbf1\",\"subtype\":\"Figure\",\"type\":\"Plot\"}]},\"id\":\"ec7eeaa5-8d78-481a-b7f4-7ef0ef4b7acf\",\"type\":\"Row\"},{\"attributes\":{\"source\":{\"id\":\"4df02c7c-0574-4ced-855c-b86563b3a35f\",\"type\":\"ColumnDataSource\"}},\"id\":\"b7ed03e6-ad47-44f6-8e2a-da49b90f65a9\",\"type\":\"CDSView\"},{\"attributes\":{\"source\":{\"id\":\"377de040-92e2-48f1-b4db-5e0391b655e5\",\"type\":\"ColumnDataSource\"}},\"id\":\"1d44a541-6fba-4460-bd7e-ac7f10f37202\",\"type\":\"CDSView\"},{\"attributes\":{\"num_minor_ticks\":10},\"id\":\"fc6da165-4092-48ac-9430-74f0d9db57f4\",\"type\":\"LogTicker\"},{\"attributes\":{},\"id\":\"ca90ca99-ceb9-46d0-bbde-b6b16e04d953\",\"type\":\"Selection\"},{\"attributes\":{\"label\":{\"value\":\"CLIRAD (single-run)\"},\"renderers\":[{\"id\":\"240c4d5c-3fb0-40c0-bb26-c4d8ef65dd54\",\"type\":\"GlyphRenderer\"}]},\"id\":\"7e1110d3-f669-4fef-84d9-5e6856620845\",\"type\":\"LegendItem\"},{\"attributes\":{\"above\":[{\"id\":\"6c6c7d84-cc4e-47e8-a545-6685ced8bed1\",\"type\":\"Legend\"}],\"below\":[{\"id\":\"0a011052-7836-4908-a3f7-236395df54ae\",\"type\":\"LinearAxis\"}],\"left\":[{\"id\":\"dfbbf052-6e6b-49ef-aeef-e68e3bbee4c9\",\"type\":\"LogAxis\"}],\"plot_width\":300,\"renderers\":[{\"id\":\"0a011052-7836-4908-a3f7-236395df54ae\",\"type\":\"LinearAxis\"},{\"id\":\"144b78df-3526-4a26-ac22-8eef281e0307\",\"type\":\"Grid\"},{\"id\":\"dfbbf052-6e6b-49ef-aeef-e68e3bbee4c9\",\"type\":\"LogAxis\"},{\"id\":\"bd9c59b8-a31f-46bf-a696-d79a91f170ea\",\"type\":\"Grid\"},{\"id\":\"4bafa492-05bd-49f2-9ba1-54681d89bc66\",\"type\":\"BoxAnnotation\"},{\"id\":\"240c4d5c-3fb0-40c0-bb26-c4d8ef65dd54\",\"type\":\"GlyphRenderer\"},{\"id\":\"5564980a-ad91-4386-8162-0ab6439d79c7\",\"type\":\"GlyphRenderer\"},{\"id\":\"7763e9d2-5a38-4701-8f27-23e83c461621\",\"type\":\"GlyphRenderer\"},{\"id\":\"16571b21-5b5b-48e9-a631-7cea1ff7dc94\",\"type\":\"GlyphRenderer\"},{\"id\":\"7e210cfa-7204-484e-a232-78ef85df3d4e\",\"type\":\"GlyphRenderer\"},{\"id\":\"6c6c7d84-cc4e-47e8-a545-6685ced8bed1\",\"type\":\"Legend\"}],\"title\":{\"id\":\"80d28d9e-7ece-4015-aa55-ea7dd57d3ad4\",\"type\":\"Title\"},\"toolbar\":{\"id\":\"bbd8ce55-fbb8-4f04-9fe6-ce9a63d74c9a\",\"type\":\"Toolbar\"},\"toolbar_location\":null,\"x_range\":{\"id\":\"b821639e-ea3e-4b7a-8d11-269dc5465947\",\"type\":\"Range1d\"},\"x_scale\":{\"id\":\"4163da13-6e4a-4b16-89de-a7eeea07f5f7\",\"type\":\"LinearScale\"},\"y_range\":{\"id\":\"791787a4-441a-4128-b575-39d12bfa2bc8\",\"type\":\"Range1d\"},\"y_scale\":{\"id\":\"1f18bc76-bf83-4dba-911a-ec4b66e27de8\",\"type\":\"LogScale\"}},\"id\":\"95cd9ae4-0e59-4bee-922d-73376a5356d0\",\"subtype\":\"Figure\",\"type\":\"Plot\"},{\"attributes\":{\"callback\":null,\"end\":0.01,\"start\":1020},\"id\":\"5096405f-861b-457b-b3b2-842206adf6e6\",\"type\":\"Range1d\"},{\"attributes\":{},\"id\":\"9021e4ec-e3df-4749-80ae-6812cea52d10\",\"type\":\"BasicTicker\"},{\"attributes\":{\"line_alpha\":0.1,\"line_color\":\"#1f77b4\",\"line_width\":1.5,\"x\":{\"field\":\"x\"},\"y\":{\"field\":\"y\"}},\"id\":\"053668e6-bb61-4c8c-92c4-7cfc20e6f63c\",\"type\":\"Line\"},{\"attributes\":{\"toolbar\":{\"id\":\"ca39db9f-5733-4ea1-8fe7-9f23e2d71666\",\"type\":\"ProxyToolbar\"},\"toolbar_location\":\"above\"},\"id\":\"4bf8e41d-a65c-4c4f-a900-60d9beb1fc71\",\"type\":\"ToolbarBox\"},{\"attributes\":{\"callback\":null,\"data\":{\"x\":{\"__ndarray__\":\"FRQETjrXRUDWnCPW5RZDQIyH7qyy4kFAWX3YbF8+QEAY+Xtqbz88QLyGKPnbPDdAIAxeKo3pMUCERhrL1uUpQFY4aqncGiJA9xv6N8czGkCCy45z3dwUQE5dCmCftRFAVlvS2m9LDUD705OmEZUDQEiA9duN9fU/XgvU5pGO+j+hG49/cDIFQI/d2a5UDgtAclVA5xPgEEBaNfy5jhYWQJvu5nWI/B1AucEfnlPUJEDhdVuVcssqQGPun4Qg+ylALdKiCDJOJEBZaUuMGkcgQBZuu+83YxtAAsInDkIFFkCRoiFxXigRQNp1phAt4AtAHLIhQwkICEDlqkyrg8sCQAfURH6nBfo/3P2ndpVF8T8TEeWCt3nnP4Qtuh8i6Ns/PvfkezcSzT85P/B2YUfAP+OzCBCH/KK/e1u1Fxpjyb+/yCCDVdmDv9Qh8mpewuc/MukPY5p+9z+gbdyR8RYAQJi3lljLlwFA2GCTJsUGAEDHQqyyekP+P5isjrsIIv0/6koh27Rq/D9VnUrH0jv8P+ZeQG1kV/w/xQxkqFDu+z9jdSlVJnP7PwOyt3PPB/s/pq3wsk+9+j9W6t1Ibof6P680IUt1hfo/LhJVXoSb+z8eXnx2ZXz8PwlX1QWb/vw/3QbN6ZT9/D+cHQfn1V38P/YUl2y+Rvs/nd6jf0QW+j+1PJxzwf/4P9uwotV0bfg/FXmFSss8+D/b6twu4Df4P+7hEWM5tPc/Nx/GyPOk9j+/WveHFHT1Px+6o3b0iPQ/g/ZUEWER9D9mIX9GsET0PxMydhOT7/o/\",\"dtype\":\"float64\",\"shape\":[75]},\"y\":{\"__ndarray__\":\"GhExyth1ND/Sv8nbtpRIP2vylNV0PVE/aTum7souWD/At0SJ8fVgPw3Iuahxymc/MSNhhJWvcD/bTfBN02d3P2zb5nxnaoA/CD5h5MAGhz8NmeH1TyaQP+zrCsc9p5Y/LbKd76fGnz/bLW5ISEmmPww9YvTcQq8/JV2OstnstT8Er5Y7M8G+P0c+r3jqkcU/5h99k6ZBzj88bCIzFzjVP4enV8oyxN0//yH99nXg5D8qOpLLf0jtP5kqGJXUifQ/c9cS8kHP/D+/DpwzojQEQIEmwoanVwxA4lgXt9HgE0BSSZ2AJuIbQAMJih9jjiNA5q4l5INuK0AwTKYKRj0zQNv5fmq8/DpAaCJseHrtQkB/+zpwzoxKQM3MzMzMeFJAZmZmZmZqWEAAAAAAAFxeQM3MzMzMJmJAmpmZmZkfZUBmZmZmZhhoQDMzMzMzEWtAAAAAAAAKbkBmZmZmZoFwQM3MzMzM/XFAMzMzMzN6c0CamZmZmfZ0QAAAAAAAc3ZAZmZmZmbvd0DNzMzMzGt5QDMzMzMz6HpAmpmZmZlkfEAAAAAAAOF9QGZmZmZmXX9AZmZmZuZsgECamZmZGSuBQM3MzMxM6YFAAAAAAICngkAzMzMzs2WDQGZmZmbmI4RAmpmZmRnihEDNzMzMTKCFQAAAAACAXoZAMzMzM7Mch0BmZmZm5tqHQJqZmZkZmYhAzczMzExXiUAAAAAAgBWKQDMzMzOz04pAZmZmZuaRi0CamZmZGVCMQM3MzMxMDo1AAAAAAIDMjUAzMzMzs4qOQGZmZmbmSI9A\",\"dtype\":\"float64\",\"shape\":[75]}},\"selected\":{\"id\":\"d154fe4f-d7b0-48a9-95d3-b2a17c678e4b\",\"type\":\"Selection\"},\"selection_policy\":{\"id\":\"27ddc274-54cc-4386-a310-76c744a8a73d\",\"type\":\"UnionRenderers\"}},\"id\":\"3563e519-ef0d-4d88-9020-2e5f4698fa5f\",\"type\":\"ColumnDataSource\"},{\"attributes\":{\"axis_label\":\"cooling rate [K/day]\",\"formatter\":{\"id\":\"2f316599-bc1e-4137-812a-91ad25ffa8df\",\"type\":\"BasicTickFormatter\"},\"plot\":{\"id\":\"95cd9ae4-0e59-4bee-922d-73376a5356d0\",\"subtype\":\"Figure\",\"type\":\"Plot\"},\"ticker\":{\"id\":\"206f809b-0ea0-40fd-9ce6-4455c022c23c\",\"type\":\"BasicTicker\"}},\"id\":\"0a011052-7836-4908-a3f7-236395df54ae\",\"type\":\"LinearAxis\"},{\"attributes\":{\"line_alpha\":0.1,\"line_color\":\"#1f77b4\",\"line_dash\":[6],\"line_width\":5,\"x\":{\"field\":\"x\"},\"y\":{\"field\":\"y\"}},\"id\":\"0f3bb58b-ab37-4098-be71-ccc14e16c91f\",\"type\":\"Line\"},{\"attributes\":{\"axis_label\":\"pressure [mb]\",\"formatter\":{\"id\":\"47c465b4-cb99-4143-ab2b-0f38e90b739e\",\"type\":\"LogTickFormatter\"},\"plot\":{\"id\":\"95cd9ae4-0e59-4bee-922d-73376a5356d0\",\"subtype\":\"Figure\",\"type\":\"Plot\"},\"ticker\":{\"id\":\"fc6da165-4092-48ac-9430-74f0d9db57f4\",\"type\":\"LogTicker\"}},\"id\":\"dfbbf052-6e6b-49ef-aeef-e68e3bbee4c9\",\"type\":\"LogAxis\"},{\"attributes\":{\"plot\":{\"id\":\"95cd9ae4-0e59-4bee-922d-73376a5356d0\",\"subtype\":\"Figure\",\"type\":\"Plot\"},\"ticker\":{\"id\":\"206f809b-0ea0-40fd-9ce6-4455c022c23c\",\"type\":\"BasicTicker\"}},\"id\":\"144b78df-3526-4a26-ac22-8eef281e0307\",\"type\":\"Grid\"},{\"attributes\":{},\"id\":\"a0988876-ba31-4c5c-81fc-313f06547031\",\"type\":\"SaveTool\"},{\"attributes\":{\"data_source\":{\"id\":\"37628725-078e-4993-8e47-e4e5aebc743b\",\"type\":\"ColumnDataSource\"},\"glyph\":{\"id\":\"58e245f7-1dff-4f2a-80d5-0d9642537881\",\"type\":\"Line\"},\"hover_glyph\":null,\"muted_glyph\":null,\"nonselection_glyph\":{\"id\":\"08b3983e-052a-4cd0-b413-e8158f811e23\",\"type\":\"Line\"},\"selection_glyph\":null,\"view\":{\"id\":\"31b91aec-128b-476f-9476-1544936cfcb3\",\"type\":\"CDSView\"}},\"id\":\"2e62a4f6-86b1-41eb-97bf-dd044b75eefa\",\"type\":\"GlyphRenderer\"},{\"attributes\":{\"plot\":null,\"text\":\"\"},\"id\":\"ecd6c60e-5a70-4789-807a-d631f66025b5\",\"type\":\"Title\"},{\"attributes\":{\"callback\":null,\"data\":{\"x\":{\"__ndarray__\":\"zcbUSk4YRMC/t1RLLK8gwGgVoL8IdALAc2CvKYi+/D/WVGaYomIOQINDLNfHyQ5ATcn83NwdBEDjDoeRfSjlP6Tfcs8XtOm/XgX4iCfY9b+PLllCI4zxv5TUqz5qMt+/QAV5OtRxsD94dWBXha7ZP8s7cbrqId8/tHfa2I021D/WrP38Z0yhP7qXnRpUt9C/jJpA4nk24L+GQcwnTangvx+q+rEpAdK/YCpV0rAKf7/6SkNcm7erv9qulEq35dO/IL+KYvVf178vB2bNqmWxv3ge6ffHfNg/UYVujm1M1z8fTZ/eStC3P/el+nP5iZc/d0yJW3Td0D/Qyl4ZdpnVP72KkmMYvcM/U4vC2HT0nL+30tlLbQVzP67JoZwkca4/YjAXfRfEfj+3GE+cJeqrv55qzCqo3ra/CNACqw6Gub/Lzryy0OW1v3CWnR0RirC/fCH3lL03r790OO8tH0Gdv+C6ZE327ba/BI1vAb+ZuL8H8hkOEY2rv+ywHWND6a6/KByQS/e2s79kxtwCOOeyvy+5G51Pp6u/Dj2bIg2zor9AMUjjQV6Yv+tSf9+W5JS/1vhJGZ+nlL8OV5NUG12Zv4zH8GxYWZu/nWXRqPq9k7/I/+lrNaJWPz6raLO3gqA/+dqfno5trD+mc/ksGu2tP3Iw9W9ufqU/ln1uoZnSlT/gYVf+sHFaP8DNw9d/J0I/3myhCAKUgT96L1QXU12eP4RfxiHWc6g/4xbvBFGwrz/ydex8TB+yP3YKkvhFW7M/Vg5TMCEltD+MCiXwn9e0P8lQ/rZzVrQ/\",\"dtype\":\"float64\",\"shape\":[75]},\"y\":{\"__ndarray__\":\"GhExyth1ND/Sv8nbtpRIP2vylNV0PVE/aTum7souWD/At0SJ8fVgPw3Iuahxymc/MSNhhJWvcD/bTfBN02d3P2zb5nxnaoA/CD5h5MAGhz8NmeH1TyaQP+zrCsc9p5Y/LbKd76fGnz/bLW5ISEmmPww9YvTcQq8/JV2OstnstT8Er5Y7M8G+P0c+r3jqkcU/5h99k6ZBzj88bCIzFzjVP4enV8oyxN0//yH99nXg5D8qOpLLf0jtP5kqGJXUifQ/c9cS8kHP/D+/DpwzojQEQIEmwoanVwxA4lgXt9HgE0BSSZ2AJuIbQAMJih9jjiNA5q4l5INuK0AwTKYKRj0zQNv5fmq8/DpAaCJseHrtQkB/+zpwzoxKQM3MzMzMeFJAZmZmZmZqWEAAAAAAAFxeQM3MzMzMJmJAmpmZmZkfZUBmZmZmZhhoQDMzMzMzEWtAAAAAAAAKbkBmZmZmZoFwQM3MzMzM/XFAMzMzMzN6c0CamZmZmfZ0QAAAAAAAc3ZAZmZmZmbvd0DNzMzMzGt5QDMzMzMz6HpAmpmZmZlkfEAAAAAAAOF9QGZmZmZmXX9AZmZmZuZsgECamZmZGSuBQM3MzMxM6YFAAAAAAICngkAzMzMzs2WDQGZmZmbmI4RAmpmZmRnihEDNzMzMTKCFQAAAAACAXoZAMzMzM7Mch0BmZmZm5tqHQJqZmZkZmYhAzczMzExXiUAAAAAAgBWKQDMzMzOz04pAZmZmZuaRi0CamZmZGVCMQM3MzMxMDo1AAAAAAIDMjUAzMzMzs4qOQGZmZmbmSI9A\",\"dtype\":\"float64\",\"shape\":[75]}},\"selected\":{\"id\":\"f0e10512-0fb7-45ca-92bd-e9f2c6199e16\",\"type\":\"Selection\"},\"selection_policy\":{\"id\":\"5fa7ffc1-32dc-4e7e-9f7b-118ecdc17b7b\",\"type\":\"UnionRenderers\"}},\"id\":\"37628725-078e-4993-8e47-e4e5aebc743b\",\"type\":\"ColumnDataSource\"},{\"attributes\":{\"source\":{\"id\":\"37628725-078e-4993-8e47-e4e5aebc743b\",\"type\":\"ColumnDataSource\"}},\"id\":\"31b91aec-128b-476f-9476-1544936cfcb3\",\"type\":\"CDSView\"},{\"attributes\":{\"line_alpha\":0.8,\"line_color\":\"#984ea3\",\"line_width\":1.5,\"x\":{\"field\":\"x\"},\"y\":{\"field\":\"y\"}},\"id\":\"58e245f7-1dff-4f2a-80d5-0d9642537881\",\"type\":\"Line\"},{\"attributes\":{\"line_alpha\":0.1,\"line_color\":\"#1f77b4\",\"line_width\":1.5,\"x\":{\"field\":\"x\"},\"y\":{\"field\":\"y\"}},\"id\":\"08b3983e-052a-4cd0-b413-e8158f811e23\",\"type\":\"Line\"},{\"attributes\":{},\"id\":\"206f809b-0ea0-40fd-9ce6-4455c022c23c\",\"type\":\"BasicTicker\"},{\"attributes\":{\"callback\":null,\"data\":{\"x\":{\"__ndarray__\":\"QEr14GpmEsDQUQomvS0TwECOLtAVRQnAyG4E7w1kFUAwCG6K07rzP2jG3ETKaAVAIDSvE8+a1D84WLw0a3bwP8B2CVgEGd6/gAEb8SXj5T+gXWifLPzZv1BIY1h4OdU/gFTeaCAF0r/AU/RFxYvAP0h4oPen7Ly/wKOQ+b0VoD/gKRbxqoK7vwA09+KM5nu/QBvKVo2Xv78AEqWWOp7Ov3BzIslj9ti/gApK0VUU37/gyd0OWm7ov0D75ws5Mua/wIc6h4XW3r+Q48y885XWvwB/tLThVLC/IP++3wZjwr+A8gVsXEm9vwDRmm/daKO/gI3nfaiUkj/AQE7cYBOdv+BkMo6PXa2/AKoyxVLtcD9A4+/aVS+Av6A9GyNwb46/cNIdfcBUiz8AHIdAy8FcP5BuzJoOMok/b2ce0np0pD8UEyzBK56QP8Beg9VHjZ+/gPKVd3D5n7+AD/jI4QOjv8DcwbQ4Uai/AG61+C87or/ASYzDVZqev2D75C8ty6C/ANT1m/xjlb9Ar8iri82Xv0BrLlVYt5W/ABSboWSMa78ghb8UGtelv0BWMP2VTZ2/AMakubnjcr+ACh1oBKqKv0CiEj/MA5G/AADjcuinMj/Ajj/XEoCaPwDwRGmfKYS/AAyIEFfOZj8AItboev6lP1AvBF6BP7c/QN1dRRBwqj9ACvj956WkP8BM5jLOU7A/kB8XOk4Itz8Ay8mloMS8P8Bl77ruFZ4/QHOrAh4hnz8g3sjPVdmmP/C+80esF7A/gAETBSmitD+gbg0US524P7C02mPse7E/\",\"dtype\":\"float64\",\"shape\":[75]},\"y\":{\"__ndarray__\":\"GhExyth1ND/Sv8nbtpRIP2vylNV0PVE/aTum7souWD/At0SJ8fVgPw3Iuahxymc/MSNhhJWvcD/bTfBN02d3P2zb5nxnaoA/CD5h5MAGhz8NmeH1TyaQP+zrCsc9p5Y/LbKd76fGnz/bLW5ISEmmPww9YvTcQq8/JV2OstnstT8Er5Y7M8G+P0c+r3jqkcU/5h99k6ZBzj88bCIzFzjVP4enV8oyxN0//yH99nXg5D8qOpLLf0jtP5kqGJXUifQ/c9cS8kHP/D+/DpwzojQEQIEmwoanVwxA4lgXt9HgE0BSSZ2AJuIbQAMJih9jjiNA5q4l5INuK0AwTKYKRj0zQNv5fmq8/DpAaCJseHrtQkB/+zpwzoxKQM3MzMzMeFJAZmZmZmZqWEAAAAAAAFxeQM3MzMzMJmJAmpmZmZkfZUBmZmZmZhhoQDMzMzMzEWtAAAAAAAAKbkBmZmZmZoFwQM3MzMzM/XFAMzMzMzN6c0CamZmZmfZ0QAAAAAAAc3ZAZmZmZmbvd0DNzMzMzGt5QDMzMzMz6HpAmpmZmZlkfEAAAAAAAOF9QGZmZmZmXX9AZmZmZuZsgECamZmZGSuBQM3MzMxM6YFAAAAAAICngkAzMzMzs2WDQGZmZmbmI4RAmpmZmRnihEDNzMzMTKCFQAAAAACAXoZAMzMzM7Mch0BmZmZm5tqHQJqZmZkZmYhAzczMzExXiUAAAAAAgBWKQDMzMzOz04pAZmZmZuaRi0CamZmZGVCMQM3MzMxMDo1AAAAAAIDMjUAzMzMzs4qOQGZmZmbmSI9A\",\"dtype\":\"float64\",\"shape\":[75]}},\"selected\":{\"id\":\"8a62257a-26cb-444a-b542-edddbf95a2d6\",\"type\":\"Selection\"},\"selection_policy\":{\"id\":\"bd52a237-a4fd-4958-b1f8-069ca492c4fb\",\"type\":\"UnionRenderers\"}},\"id\":\"3385d1ef-cdc4-4dfc-9199-f2ab0e8db646\",\"type\":\"ColumnDataSource\"},{\"attributes\":{},\"id\":\"1f18bc76-bf83-4dba-911a-ec4b66e27de8\",\"type\":\"LogScale\"},{\"attributes\":{\"overlay\":{\"id\":\"4bafa492-05bd-49f2-9ba1-54681d89bc66\",\"type\":\"BoxAnnotation\"}},\"id\":\"bc6cbc60-e417-4da1-b3e1-37fe53698024\",\"type\":\"BoxZoomTool\"},{\"attributes\":{\"ticker\":null},\"id\":\"dbd4d887-f4fb-4fcb-99f6-73bba46a18ae\",\"type\":\"LogTickFormatter\"},{\"attributes\":{},\"id\":\"359fc934-5a8f-4ddc-8e14-d124c6eb7e12\",\"type\":\"ResetTool\"},{\"attributes\":{\"callback\":null,\"data\":{\"x\":{\"__ndarray__\":\"cm1sTMT3VEDEyvjosEJHQOKI6DjzCUNArgQWV9awPkB9Lm8XG3M4QEz+Qv6iYzNA7eV8HaPLLkCX1QHyTpMoQFBmYSYetiNAUB04GtGpH0AmFyVE5j8ZQJca9QPGqBNALJP+OOHHDEBNxaf7QF8AQKtislomWuw/cW2dcO6A9T/uJJvfPu0EQIaQLTI/JQ1AxGiII+PmEkCJvfVeuCsYQD6ZBhGbHB9AXQw69DTYJEAsubcwKucqQNuT9D5OmipAJyi3szEJJUBlNebh5WkgQDDcPHBr2xlArtlANXuQFEBdJadFHckQQI2Avh0ZsQtAjYiwt1rsBUCL0SDoVBgAQK6C0nEEjvc/CggLSme58T9sXU2orFPnP0v0JYz9Gdg/vT38vxYczD9nBQTe6kHHP1IhkEXJwKo/8OZnhCVAub+xtVgCpmqzP6DUpY6g0+k/PKK3T1h4+D8RTDjQc1EAQG/dAQs7TwJAQt2eHpPLAEBWEh074x//PyCap9ZSGf4/rEzaTySm/T+7aXhHRmr9P688KeqeNP0/ruZ4EemD/D8olrZcn9T7P0+vNc9hW/s/i9VVL+4P+z+0NzC24uz6P8731Kza8vo/xFf4SHzq+z+gYyHpvHb8P68ROkiFevw/BAjYdCga/D8AUp8VbW77P3JrF/nKmvo/qCQeGfq++T/dplwHJfn4P2G4p+Uva/g/OzZ0RqMZ+D8dmn/iar73P/OuA7Ka8PY/gaaeQHGn9T9hkyjAH1L0P3aZGhdAU/M/n8VP/g7P8j+90HxHNvfyPwhNBtgrqvk/\",\"dtype\":\"float64\",\"shape\":[75]},\"y\":{\"__ndarray__\":\"GhExyth1ND/Sv8nbtpRIP2vylNV0PVE/aTum7souWD/At0SJ8fVgPw3Iuahxymc/MSNhhJWvcD/bTfBN02d3P2zb5nxnaoA/CD5h5MAGhz8NmeH1TyaQP+zrCsc9p5Y/LbKd76fGnz/bLW5ISEmmPww9YvTcQq8/JV2OstnstT8Er5Y7M8G+P0c+r3jqkcU/5h99k6ZBzj88bCIzFzjVP4enV8oyxN0//yH99nXg5D8qOpLLf0jtP5kqGJXUifQ/c9cS8kHP/D+/DpwzojQEQIEmwoanVwxA4lgXt9HgE0BSSZ2AJuIbQAMJih9jjiNA5q4l5INuK0AwTKYKRj0zQNv5fmq8/DpAaCJseHrtQkB/+zpwzoxKQM3MzMzMeFJAZmZmZmZqWEAAAAAAAFxeQM3MzMzMJmJAmpmZmZkfZUBmZmZmZhhoQDMzMzMzEWtAAAAAAAAKbkBmZmZmZoFwQM3MzMzM/XFAMzMzMzN6c0CamZmZmfZ0QAAAAAAAc3ZAZmZmZmbvd0DNzMzMzGt5QDMzMzMz6HpAmpmZmZlkfEAAAAAAAOF9QGZmZmZmXX9AZmZmZuZsgECamZmZGSuBQM3MzMxM6YFAAAAAAICngkAzMzMzs2WDQGZmZmbmI4RAmpmZmRnihEDNzMzMTKCFQAAAAACAXoZAMzMzM7Mch0BmZmZm5tqHQJqZmZkZmYhAzczMzExXiUAAAAAAgBWKQDMzMzOz04pAZmZmZuaRi0CamZmZGVCMQM3MzMxMDo1AAAAAAIDMjUAzMzMzs4qOQGZmZmbmSI9A\",\"dtype\":\"float64\",\"shape\":[75]}},\"selected\":{\"id\":\"3e953adc-eb03-49ac-af37-a14df45aa411\",\"type\":\"Selection\"},\"selection_policy\":{\"id\":\"507bdd66-1681-4999-8951-f5080ce9f413\",\"type\":\"UnionRenderers\"}},\"id\":\"cf22a41a-6a46-43d6-8bd6-b6b3c0e48593\",\"type\":\"ColumnDataSource\"},{\"attributes\":{\"fill_alpha\":{\"value\":0.1},\"fill_color\":{\"value\":\"#1f77b4\"},\"line_alpha\":{\"value\":0.1},\"line_color\":{\"value\":\"#1f77b4\"},\"x\":{\"field\":\"x\"},\"y\":{\"field\":\"y\"}},\"id\":\"704edcd7-5c85-461d-af11-77801f9b9182\",\"type\":\"Square\"},{\"attributes\":{\"fill_alpha\":{\"value\":0.7},\"fill_color\":{\"value\":\"#4daf4a\"},\"line_alpha\":{\"value\":0.7},\"line_color\":{\"value\":\"#4daf4a\"},\"x\":{\"field\":\"x\"},\"y\":{\"field\":\"y\"}},\"id\":\"6614ea70-1cdc-4eb4-84ef-509cb09bf1ed\",\"type\":\"Circle\"},{\"attributes\":{\"data_source\":{\"id\":\"33f16775-d857-4d12-b5fb-6f5b10d15c0c\",\"type\":\"ColumnDataSource\"},\"glyph\":{\"id\":\"4150c737-ae4c-49cd-bdd6-1a86edcea0f7\",\"type\":\"Line\"},\"hover_glyph\":null,\"muted_glyph\":null,\"nonselection_glyph\":{\"id\":\"ed106ed1-45a1-4046-91b4-ec234188a42f\",\"type\":\"Line\"},\"selection_glyph\":null,\"view\":{\"id\":\"2dadafb4-623b-4bb8-9258-f0ea8a3a106a\",\"type\":\"CDSView\"}},\"id\":\"7763e9d2-5a38-4701-8f27-23e83c461621\",\"type\":\"GlyphRenderer\"},{\"attributes\":{},\"id\":\"22d7f00e-4827-48cd-a9f9-b3475456f1ca\",\"type\":\"Selection\"},{\"attributes\":{\"line_alpha\":0.6,\"line_color\":\"#377eb8\",\"line_dash\":[6],\"line_width\":5,\"x\":{\"field\":\"x\"},\"y\":{\"field\":\"y\"}},\"id\":\"d41e76d0-7730-43cb-b604-40a08436ac69\",\"type\":\"Line\"},{\"attributes\":{\"data_source\":{\"id\":\"ae1e07c7-a27c-4fd1-8bef-2a9bd73aadfb\",\"type\":\"ColumnDataSource\"},\"glyph\":{\"id\":\"55598ac9-b6bd-4ef0-97bf-2379e1fafe67\",\"type\":\"Line\"},\"hover_glyph\":null,\"muted_glyph\":null,\"nonselection_glyph\":{\"id\":\"bcc4f515-0caa-431f-aa55-c8d763f6f4ef\",\"type\":\"Line\"},\"selection_glyph\":null,\"view\":{\"id\":\"615b6142-6b8d-45d7-a471-d21dc992f18b\",\"type\":\"CDSView\"}},\"id\":\"7e210cfa-7204-484e-a232-78ef85df3d4e\",\"type\":\"GlyphRenderer\"},{\"attributes\":{\"data_source\":{\"id\":\"17767664-1cfe-45cd-9702-e2a98302e29e\",\"type\":\"ColumnDataSource\"},\"glyph\":{\"id\":\"b26b0d3b-0c76-47e5-9162-126bc148c139\",\"type\":\"Square\"},\"hover_glyph\":null,\"muted_glyph\":null,\"nonselection_glyph\":{\"id\":\"704edcd7-5c85-461d-af11-77801f9b9182\",\"type\":\"Square\"},\"selection_glyph\":null,\"view\":{\"id\":\"e0e1f5e9-0c49-4ec4-9cad-f2132f5624f3\",\"type\":\"CDSView\"}},\"id\":\"16571b21-5b5b-48e9-a631-7cea1ff7dc94\",\"type\":\"GlyphRenderer\"},{\"attributes\":{},\"id\":\"f0e10512-0fb7-45ca-92bd-e9f2c6199e16\",\"type\":\"Selection\"},{\"attributes\":{\"source\":{\"id\":\"17767664-1cfe-45cd-9702-e2a98302e29e\",\"type\":\"ColumnDataSource\"}},\"id\":\"e0e1f5e9-0c49-4ec4-9cad-f2132f5624f3\",\"type\":\"CDSView\"},{\"attributes\":{},\"id\":\"60726256-0955-4b00-8444-325991d7185b\",\"type\":\"BasicTicker\"},{\"attributes\":{\"data_source\":{\"id\":\"3db6c95f-0146-4886-9d95-32bedaa89b30\",\"type\":\"ColumnDataSource\"},\"glyph\":{\"id\":\"6614ea70-1cdc-4eb4-84ef-509cb09bf1ed\",\"type\":\"Circle\"},\"hover_glyph\":null,\"muted_glyph\":null,\"nonselection_glyph\":{\"id\":\"bb8f8727-f8f7-4ea6-aefe-0f6d129241d0\",\"type\":\"Circle\"},\"selection_glyph\":null,\"view\":{\"id\":\"7e17cef5-15a6-4518-920f-34faeb9100ad\",\"type\":\"CDSView\"}},\"id\":\"5564980a-ad91-4386-8162-0ab6439d79c7\",\"type\":\"GlyphRenderer\"},{\"attributes\":{},\"id\":\"2f316599-bc1e-4137-812a-91ad25ffa8df\",\"type\":\"BasicTickFormatter\"},{\"attributes\":{\"source\":{\"id\":\"33f16775-d857-4d12-b5fb-6f5b10d15c0c\",\"type\":\"ColumnDataSource\"}},\"id\":\"2dadafb4-623b-4bb8-9258-f0ea8a3a106a\",\"type\":\"CDSView\"},{\"attributes\":{\"source\":{\"id\":\"ae1e07c7-a27c-4fd1-8bef-2a9bd73aadfb\",\"type\":\"ColumnDataSource\"}},\"id\":\"615b6142-6b8d-45d7-a471-d21dc992f18b\",\"type\":\"CDSView\"},{\"attributes\":{\"callback\":null,\"data\":{\"x\":{\"__ndarray__\":\"zhhdnl3RU0CKgDdE+dxEQP6f5duhdUFAMJBr6ewEQkAADxZQyK45QBmX3ka8EDZAjl8alnlwL0CeYJlYHKIqQJoaoQNWxSJAwL4t7BozIUBMkS56I6AXQBxPe4ld/BRAnMjiKz2HCkCJCgdQ/WcBQKJTvluRvOg/j/JpYJwB9j+fcxKIKREEQOwUvOtLFw1AV0At7oRoEkD5lECKxjYXQAdydNQ0jR1ACbyvRZLfI0CO3MmPRGApQCcUNq4qNylA6VN9h30SJECRnP+HbGofQDQKaukXmhlAteFC/mL9E0CTDffT91MQQEkVAKh1YwtAqFesCIQRBkATatBMXLz/P4fvYPUXo/Y/tDrQnFTK8T/fneFQ7xLnP14aDQuCJtc/5BrOx2LRzT+fE4V0bnvHP3ueIXamhrA/cWaxNtALrr92uqPyMJK3P6q5+U821+g/ckrZjXL49z/TaxRJZAUAQPzVLij27QFAige8XqaCAEAv4Q7keaX+P0VyKG35kv0/XHVqXZRQ/T/+RskYEAv9PwKD1IjB3fw/JBko3yJ2/D//mRCM5iX7P/btQHcr5vo/xTCcdQr9+j+f/V+tjrf6P0Wt2HvLrvo/9IV/x6br+z/bYX40veD8P8+HZwkyUvw/CkxgoI8l/D8QA+bsYB78P2eu9w7DDvw/khNJm3qS+j8vZ0xHVJ75Py0d1shscPk/NKgVKiiK+T/NNtzstIr5P4ps72zyaPc/TlSpuPUj9j9S2qZu6gj1P2XVmdu6VPQ/t/WgjjEZ9D+np734CoH0P1P4Q57qwfo/\",\"dtype\":\"float64\",\"shape\":[75]},\"y\":{\"__ndarray__\":\"hLndy31yND/6fmq8dJNIP8n9DkWBPlE/aDum7souWD/b4a/JGvVgP9f34SAhymc/ZvM4DOavcD+z0M5pFmh3PxuC4zJuaoA/xjcUPlsHhz8uHAjJAiaQP9ieWRKgppY/oI7HDFTGnz+a5h2n6EimPzS6g9iZQq8/IuAQqtTstT9SSZ2AJsK+P4nS3uALk8U/ih9j7lpCzj+ASL99HTjVP4enV8oyxN0/ACL99nXg5D9fmEwVjErtPyUGgZVDi/Q/AiuHFtnO/D9OYhBYOTQEQPHSTWIQWAxA4XoUrkfhE0D8qfHSTeIbQMh2vp8ajyNArkfhehRuK0Bcj8L1KDwzQFyPwvUo/DpAPgrXo3DtQkDNzMzMzIxKQClcj8L1eFJAKVyPwvVoWECamZmZmVleQGZmZmZmJmJAAAAAAAAgZUCamZmZmRloQJqZmZmZEWtAmpmZmZkJbkCamZmZmYFwQGZmZmZm/nFAZmZmZmZ6c0BmZmZmZvZ0QDQzMzMzc3ZAAAAAAADwd0AAAAAAAGx5QAAAAAAA6HpAzMzMzMxkfEDMzMzMzOB9QM3MzMzMXH9AzczMzMxsgEAzMzMzMyuBQDMzMzMz6YFAMzMzMzOngkCamZmZmWWDQAAAAAAAJIRAAAAAAADihEAAAAAAAKCFQGZmZmZmXoZAzczMzMwch0DNzMzMzNqHQM3MzMzMmIhAMzMzMzNXiUCamZmZmRWKQAAAAAAA1IpAAAAAAACSi0AAAAAAAFCMQGZmZmZmDo1AzczMzMzMjUDNzMzMzIqOQM3MzMzMSI9A\",\"dtype\":\"float64\",\"shape\":[75]}},\"selected\":{\"id\":\"aef9e8e1-2d9b-4e03-942c-668b2b61b4fb\",\"type\":\"Selection\"},\"selection_policy\":{\"id\":\"c4d81b67-6c78-4660-a229-8518ee718fbb\",\"type\":\"UnionRenderers\"}},\"id\":\"ae1e07c7-a27c-4fd1-8bef-2a9bd73aadfb\",\"type\":\"ColumnDataSource\"},{\"attributes\":{\"axis_label\":\"cooling rate [K/day]\",\"formatter\":{\"id\":\"0792b199-583a-4d48-89ca-2b147993442e\",\"type\":\"BasicTickFormatter\"},\"plot\":{\"id\":\"90b682d2-cbff-43c5-83e0-83387964dbf1\",\"subtype\":\"Figure\",\"type\":\"Plot\"},\"ticker\":{\"id\":\"60726256-0955-4b00-8444-325991d7185b\",\"type\":\"BasicTicker\"}},\"id\":\"00048649-5736-45c5-bd38-3b269e1f34a7\",\"type\":\"LinearAxis\"},{\"attributes\":{\"line_alpha\":0.1,\"line_color\":\"#1f77b4\",\"line_width\":1.5,\"x\":{\"field\":\"x\"},\"y\":{\"field\":\"y\"}},\"id\":\"ed106ed1-45a1-4046-91b4-ec234188a42f\",\"type\":\"Line\"},{\"attributes\":{},\"id\":\"3db6e206-7768-4c5c-a3cb-88d7e4e9204d\",\"type\":\"HelpTool\"},{\"attributes\":{\"data_source\":{\"id\":\"e2f3ebb4-7309-40a3-9e88-26a065dcc721\",\"type\":\"ColumnDataSource\"},\"glyph\":{\"id\":\"d41e76d0-7730-43cb-b604-40a08436ac69\",\"type\":\"Line\"},\"hover_glyph\":null,\"muted_glyph\":null,\"nonselection_glyph\":{\"id\":\"8a42f61c-fde7-4930-98e4-d51665c95937\",\"type\":\"Line\"},\"selection_glyph\":null,\"view\":{\"id\":\"4d3be9f1-6759-4312-9efa-48e922ea3bc9\",\"type\":\"CDSView\"}},\"id\":\"c12868a6-c1cd-4095-b8ed-a148885190fe\",\"type\":\"GlyphRenderer\"},{\"attributes\":{},\"id\":\"73abe141-f3f7-4882-8c56-ec408fd87879\",\"type\":\"WheelZoomTool\"},{\"attributes\":{},\"id\":\"b14906f6-5378-4ec2-9235-3523fd064159\",\"type\":\"PanTool\"},{\"attributes\":{\"above\":[{\"id\":\"7557f134-bf0e-4370-b20e-00d3ee48a099\",\"type\":\"Legend\"}],\"below\":[{\"id\":\"00048649-5736-45c5-bd38-3b269e1f34a7\",\"type\":\"LinearAxis\"}],\"left\":[{\"id\":\"45d069f3-5f97-4206-bb89-fa1754e07c8f\",\"type\":\"LogAxis\"}],\"plot_width\":300,\"renderers\":[{\"id\":\"00048649-5736-45c5-bd38-3b269e1f34a7\",\"type\":\"LinearAxis\"},{\"id\":\"7acc574c-67db-4c66-a13e-506269b241e7\",\"type\":\"Grid\"},{\"id\":\"45d069f3-5f97-4206-bb89-fa1754e07c8f\",\"type\":\"LogAxis\"},{\"id\":\"64ca7a7e-005d-4456-9530-9322efb42b0f\",\"type\":\"Grid\"},{\"id\":\"b48569ab-80fb-4b5d-8968-2266f3161c36\",\"type\":\"BoxAnnotation\"},{\"id\":\"820bfbac-ded1-484d-b991-39d9f439ff18\",\"type\":\"GlyphRenderer\"},{\"id\":\"2e62a4f6-86b1-41eb-97bf-dd044b75eefa\",\"type\":\"GlyphRenderer\"},{\"id\":\"2df7f064-ef08-42c2-b590-1c1d416657bf\",\"type\":\"GlyphRenderer\"},{\"id\":\"7557f134-bf0e-4370-b20e-00d3ee48a099\",\"type\":\"Legend\"}],\"title\":{\"id\":\"ecd6c60e-5a70-4789-807a-d631f66025b5\",\"type\":\"Title\"},\"toolbar\":{\"id\":\"e1ca33e1-a76e-49ab-be55-06a571ac82fe\",\"type\":\"Toolbar\"},\"toolbar_location\":null,\"x_range\":{\"id\":\"29cb3894-c24b-4a97-a385-e5baad4a5848\",\"type\":\"Range1d\"},\"x_scale\":{\"id\":\"a986b10c-ec12-436f-b97d-1c795479a1ae\",\"type\":\"LinearScale\"},\"y_range\":{\"id\":\"5096405f-861b-457b-b3b2-842206adf6e6\",\"type\":\"Range1d\"},\"y_scale\":{\"id\":\"30243392-d0fd-40d2-9275-faf79cb466ae\",\"type\":\"LogScale\"}},\"id\":\"90b682d2-cbff-43c5-83e0-83387964dbf1\",\"subtype\":\"Figure\",\"type\":\"Plot\"},{\"attributes\":{\"num_minor_ticks\":10},\"id\":\"79f905f0-61f3-4366-b2b0-8c367a88611f\",\"type\":\"LogTicker\"},{\"attributes\":{\"source\":{\"id\":\"3563e519-ef0d-4d88-9020-2e5f4698fa5f\",\"type\":\"ColumnDataSource\"}},\"id\":\"e74db5ee-48f2-4413-82aa-0c0c38aac139\",\"type\":\"CDSView\"},{\"attributes\":{\"fill_alpha\":{\"value\":0.7},\"fill_color\":{\"value\":\"#984ea3\"},\"line_alpha\":{\"value\":0.7},\"line_color\":{\"value\":\"#984ea3\"},\"x\":{\"field\":\"x\"},\"y\":{\"field\":\"y\"}},\"id\":\"b26b0d3b-0c76-47e5-9162-126bc148c139\",\"type\":\"Square\"},{\"attributes\":{},\"id\":\"c862d718-0739-4019-8aba-6cbf59ea6b83\",\"type\":\"WheelZoomTool\"},{\"attributes\":{\"line_alpha\":0.5,\"line_color\":\"#984ea3\",\"line_width\":1.5,\"x\":{\"field\":\"x\"},\"y\":{\"field\":\"y\"}},\"id\":\"55598ac9-b6bd-4ef0-97bf-2379e1fafe67\",\"type\":\"Line\"},{\"attributes\":{\"source\":{\"id\":\"3db6c95f-0146-4886-9d95-32bedaa89b30\",\"type\":\"ColumnDataSource\"}},\"id\":\"7e17cef5-15a6-4518-920f-34faeb9100ad\",\"type\":\"CDSView\"},{\"attributes\":{\"fill_alpha\":{\"value\":0.1},\"fill_color\":{\"value\":\"#1f77b4\"},\"line_alpha\":{\"value\":0.1},\"line_color\":{\"value\":\"#1f77b4\"},\"x\":{\"field\":\"x\"},\"y\":{\"field\":\"y\"}},\"id\":\"bb8f8727-f8f7-4ea6-aefe-0f6d129241d0\",\"type\":\"Circle\"},{\"attributes\":{\"callback\":null,\"data\":{\"x\":{\"__ndarray__\":\"cm1sTMT3VEDEyvjosEJHQOKI6DjzCUNArgQWV9awPkB9Lm8XG3M4QEz+Qv6iYzNA7eV8HaPLLkCX1QHyTpMoQFBmYSYetiNAUB04GtGpH0AmFyVE5j8ZQJca9QPGqBNALJP+OOHHDEBNxaf7QF8AQKtislomWuw/cW2dcO6A9T/uJJvfPu0EQIaQLTI/JQ1AxGiII+PmEkCJvfVeuCsYQD6ZBhGbHB9AXQw69DTYJEAsubcwKucqQNuT9D5OmipAJyi3szEJJUBlNebh5WkgQDDcPHBr2xlArtlANXuQFEBdJadFHckQQI2Avh0ZsQtAjYiwt1rsBUCL0SDoVBgAQK6C0nEEjvc/CggLSme58T9sXU2orFPnP0v0JYz9Gdg/vT38vxYczD9nBQTe6kHHP1IhkEXJwKo/8OZnhCVAub+xtVgCpmqzP6DUpY6g0+k/PKK3T1h4+D8RTDjQc1EAQG/dAQs7TwJAQt2eHpPLAEBWEh074x//PyCap9ZSGf4/rEzaTySm/T+7aXhHRmr9P688KeqeNP0/ruZ4EemD/D8olrZcn9T7P0+vNc9hW/s/i9VVL+4P+z+0NzC24uz6P8731Kza8vo/xFf4SHzq+z+gYyHpvHb8P68ROkiFevw/BAjYdCga/D8AUp8VbW77P3JrF/nKmvo/qCQeGfq++T/dplwHJfn4P2G4p+Uva/g/OzZ0RqMZ+D8dmn/iar73P/OuA7Ka8PY/gaaeQHGn9T9hkyjAH1L0P3aZGhdAU/M/n8VP/g7P8j+90HxHNvfyPwhNBtgrqvk/\",\"dtype\":\"float64\",\"shape\":[75]},\"y\":{\"__ndarray__\":\"GhExyth1ND/Sv8nbtpRIP2vylNV0PVE/aTum7souWD/At0SJ8fVgPw3Iuahxymc/MSNhhJWvcD/bTfBN02d3P2zb5nxnaoA/CD5h5MAGhz8NmeH1TyaQP+zrCsc9p5Y/LbKd76fGnz/bLW5ISEmmPww9YvTcQq8/JV2OstnstT8Er5Y7M8G+P0c+r3jqkcU/5h99k6ZBzj88bCIzFzjVP4enV8oyxN0//yH99nXg5D8qOpLLf0jtP5kqGJXUifQ/c9cS8kHP/D+/DpwzojQEQIEmwoanVwxA4lgXt9HgE0BSSZ2AJuIbQAMJih9jjiNA5q4l5INuK0AwTKYKRj0zQNv5fmq8/DpAaCJseHrtQkB/+zpwzoxKQM3MzMzMeFJAZmZmZmZqWEAAAAAAAFxeQM3MzMzMJmJAmpmZmZkfZUBmZmZmZhhoQDMzMzMzEWtAAAAAAAAKbkBmZmZmZoFwQM3MzMzM/XFAMzMzMzN6c0CamZmZmfZ0QAAAAAAAc3ZAZmZmZmbvd0DNzMzMzGt5QDMzMzMz6HpAmpmZmZlkfEAAAAAAAOF9QGZmZmZmXX9AZmZmZuZsgECamZmZGSuBQM3MzMxM6YFAAAAAAICngkAzMzMzs2WDQGZmZmbmI4RAmpmZmRnihEDNzMzMTKCFQAAAAACAXoZAMzMzM7Mch0BmZmZm5tqHQJqZmZkZmYhAzczMzExXiUAAAAAAgBWKQDMzMzOz04pAZmZmZuaRi0CamZmZGVCMQM3MzMxMDo1AAAAAAIDMjUAzMzMzs4qOQGZmZmbmSI9A\",\"dtype\":\"float64\",\"shape\":[75]}},\"selected\":{\"id\":\"2662b465-964b-42b4-aa32-a9b7d24de0d4\",\"type\":\"Selection\"},\"selection_policy\":{\"id\":\"723eecb8-8288-4881-9945-40a053fe5103\",\"type\":\"UnionRenderers\"}},\"id\":\"3db6c95f-0146-4886-9d95-32bedaa89b30\",\"type\":\"ColumnDataSource\"},{\"attributes\":{\"line_alpha\":0.1,\"line_color\":\"#1f77b4\",\"line_dash\":[6],\"line_width\":5,\"x\":{\"field\":\"x\"},\"y\":{\"field\":\"y\"}},\"id\":\"8a42f61c-fde7-4930-98e4-d51665c95937\",\"type\":\"Line\"},{\"attributes\":{},\"id\":\"30243392-d0fd-40d2-9275-faf79cb466ae\",\"type\":\"LogScale\"},{\"attributes\":{\"line_alpha\":0.1,\"line_color\":\"#1f77b4\",\"line_width\":1.5,\"x\":{\"field\":\"x\"},\"y\":{\"field\":\"y\"}},\"id\":\"bcc4f515-0caa-431f-aa55-c8d763f6f4ef\",\"type\":\"Line\"},{\"attributes\":{},\"id\":\"eb605b30-f7f8-4cc9-84de-e0494bd8a4e8\",\"type\":\"PanTool\"},{\"attributes\":{\"callback\":null,\"data\":{\"x\":{\"__ndarray__\":\"cm1sTMT3VEDEyvjosEJHQOKI6DjzCUNArgQWV9awPkB9Lm8XG3M4QEz+Qv6iYzNA7eV8HaPLLkCX1QHyTpMoQFBmYSYetiNAUB04GtGpH0AmFyVE5j8ZQJca9QPGqBNALJP+OOHHDEBNxaf7QF8AQKtislomWuw/cW2dcO6A9T/uJJvfPu0EQIaQLTI/JQ1AxGiII+PmEkCJvfVeuCsYQD6ZBhGbHB9AXQw69DTYJEAsubcwKucqQNuT9D5OmipAJyi3szEJJUBlNebh5WkgQDDcPHBr2xlArtlANXuQFEBdJadFHckQQI2Avh0ZsQtAjYiwt1rsBUCL0SDoVBgAQK6C0nEEjvc/CggLSme58T9sXU2orFPnP0v0JYz9Gdg/vT38vxYczD9nBQTe6kHHP1IhkEXJwKo/8OZnhCVAub+xtVgCpmqzP6DUpY6g0+k/PKK3T1h4+D8RTDjQc1EAQG/dAQs7TwJAQt2eHpPLAEBWEh074x//PyCap9ZSGf4/rEzaTySm/T+7aXhHRmr9P688KeqeNP0/ruZ4EemD/D8olrZcn9T7P0+vNc9hW/s/i9VVL+4P+z+0NzC24uz6P8731Kza8vo/xFf4SHzq+z+gYyHpvHb8P68ROkiFevw/BAjYdCga/D8AUp8VbW77P3JrF/nKmvo/qCQeGfq++T/dplwHJfn4P2G4p+Uva/g/OzZ0RqMZ+D8dmn/iar73P/OuA7Ka8PY/gaaeQHGn9T9hkyjAH1L0P3aZGhdAU/M/n8VP/g7P8j+90HxHNvfyPwhNBtgrqvk/\",\"dtype\":\"float64\",\"shape\":[75]},\"y\":{\"__ndarray__\":\"GhExyth1ND/Sv8nbtpRIP2vylNV0PVE/aTum7souWD/At0SJ8fVgPw3Iuahxymc/MSNhhJWvcD/bTfBN02d3P2zb5nxnaoA/CD5h5MAGhz8NmeH1TyaQP+zrCsc9p5Y/LbKd76fGnz/bLW5ISEmmPww9YvTcQq8/JV2OstnstT8Er5Y7M8G+P0c+r3jqkcU/5h99k6ZBzj88bCIzFzjVP4enV8oyxN0//yH99nXg5D8qOpLLf0jtP5kqGJXUifQ/c9cS8kHP/D+/DpwzojQEQIEmwoanVwxA4lgXt9HgE0BSSZ2AJuIbQAMJih9jjiNA5q4l5INuK0AwTKYKRj0zQNv5fmq8/DpAaCJseHrtQkB/+zpwzoxKQM3MzMzMeFJAZmZmZmZqWEAAAAAAAFxeQM3MzMzMJmJAmpmZmZkfZUBmZmZmZhhoQDMzMzMzEWtAAAAAAAAKbkBmZmZmZoFwQM3MzMzM/XFAMzMzMzN6c0CamZmZmfZ0QAAAAAAAc3ZAZmZmZmbvd0DNzMzMzGt5QDMzMzMz6HpAmpmZmZlkfEAAAAAAAOF9QGZmZmZmXX9AZmZmZuZsgECamZmZGSuBQM3MzMxM6YFAAAAAAICngkAzMzMzs2WDQGZmZmbmI4RAmpmZmRnihEDNzMzMTKCFQAAAAACAXoZAMzMzM7Mch0BmZmZm5tqHQJqZmZkZmYhAzczMzExXiUAAAAAAgBWKQDMzMzOz04pAZmZmZuaRi0CamZmZGVCMQM3MzMxMDo1AAAAAAIDMjUAzMzMzs4qOQGZmZmbmSI9A\",\"dtype\":\"float64\",\"shape\":[75]}},\"selected\":{\"id\":\"ca90ca99-ceb9-46d0-bbde-b6b16e04d953\",\"type\":\"Selection\"},\"selection_policy\":{\"id\":\"be321eef-fc00-4c96-b4a8-90d6a3ca6187\",\"type\":\"UnionRenderers\"}},\"id\":\"33f16775-d857-4d12-b5fb-6f5b10d15c0c\",\"type\":\"ColumnDataSource\"},{\"attributes\":{\"bottom_units\":\"screen\",\"fill_alpha\":{\"value\":0.5},\"fill_color\":{\"value\":\"lightgrey\"},\"left_units\":\"screen\",\"level\":\"overlay\",\"line_alpha\":{\"value\":1.0},\"line_color\":{\"value\":\"black\"},\"line_dash\":[4,4],\"line_width\":{\"value\":2},\"plot\":null,\"render_mode\":\"css\",\"right_units\":\"screen\",\"top_units\":\"screen\"},\"id\":\"4bafa492-05bd-49f2-9ba1-54681d89bc66\",\"type\":\"BoxAnnotation\"},{\"attributes\":{\"line_color\":\"#4daf4a\",\"line_width\":1.5,\"x\":{\"field\":\"x\"},\"y\":{\"field\":\"y\"}},\"id\":\"4150c737-ae4c-49cd-bdd6-1a86edcea0f7\",\"type\":\"Line\"},{\"attributes\":{\"above\":[{\"id\":\"5927777f-3080-4485-9d3a-89e45f58fc5f\",\"type\":\"Legend\"}],\"below\":[{\"id\":\"f1746ba6-afb1-4b6a-a805-480d9f0414a3\",\"type\":\"LinearAxis\"}],\"left\":[{\"id\":\"c05febc3-af6e-4161-b2a7-85011676a9b5\",\"type\":\"LinearAxis\"}],\"plot_width\":300,\"renderers\":[{\"id\":\"f1746ba6-afb1-4b6a-a805-480d9f0414a3\",\"type\":\"LinearAxis\"},{\"id\":\"2046477f-ebd3-41d0-979e-3b34accd6772\",\"type\":\"Grid\"},{\"id\":\"c05febc3-af6e-4161-b2a7-85011676a9b5\",\"type\":\"LinearAxis\"},{\"id\":\"c82403e4-e079-41d5-adef-c5e230d598f0\",\"type\":\"Grid\"},{\"id\":\"b3ab3481-c6a5-4894-913c-eee980bf8bab\",\"type\":\"BoxAnnotation\"},{\"id\":\"c12868a6-c1cd-4095-b8ed-a148885190fe\",\"type\":\"GlyphRenderer\"},{\"id\":\"bec4beb9-01da-44c9-9861-6b2e4916d77a\",\"type\":\"GlyphRenderer\"},{\"id\":\"f3243f4a-45ba-479c-859a-9d23a3427e6b\",\"type\":\"GlyphRenderer\"},{\"id\":\"686bc769-f02f-42c9-8c03-c12436c1eca0\",\"type\":\"GlyphRenderer\"},{\"id\":\"66c4849c-5291-4b28-b286-4235de94ff74\",\"type\":\"GlyphRenderer\"},{\"id\":\"5927777f-3080-4485-9d3a-89e45f58fc5f\",\"type\":\"Legend\"}],\"title\":{\"id\":\"75ecd5e5-04c8-4f04-811b-34d7fa424425\",\"type\":\"Title\"},\"toolbar\":{\"id\":\"f875043d-0654-450a-8c41-bc9b9ee078e0\",\"type\":\"Toolbar\"},\"toolbar_location\":null,\"x_range\":{\"id\":\"ab529474-180d-4d4a-9e25-bc71c12f48d9\",\"type\":\"Range1d\"},\"x_scale\":{\"id\":\"3a989890-bacb-4c27-9cc7-30632bfa82d2\",\"type\":\"LinearScale\"},\"y_range\":{\"id\":\"e41e151b-27df-4bae-9483-aa374bb6448d\",\"type\":\"Range1d\"},\"y_scale\":{\"id\":\"2fa7a38a-a7fa-4d6e-bd62-6f3fd91b1761\",\"type\":\"LinearScale\"}},\"id\":\"cc04ae8d-38d1-4747-aad7-f46647bc22a3\",\"subtype\":\"Figure\",\"type\":\"Plot\"},{\"attributes\":{\"callback\":null,\"end\":0.01,\"start\":1020},\"id\":\"e41e151b-27df-4bae-9483-aa374bb6448d\",\"type\":\"Range1d\"},{\"attributes\":{\"callback\":null,\"data\":{\"x\":{\"__ndarray__\":\"zhhdnl3RU0CKgDdE+dxEQP6f5duhdUFAMJBr6ewEQkAADxZQyK45QBmX3ka8EDZAjl8alnlwL0CeYJlYHKIqQJoaoQNWxSJAwL4t7BozIUBMkS56I6AXQBxPe4ld/BRAnMjiKz2HCkCJCgdQ/WcBQKJTvluRvOg/j/JpYJwB9j+fcxKIKREEQOwUvOtLFw1AV0At7oRoEkD5lECKxjYXQAdydNQ0jR1ACbyvRZLfI0CO3MmPRGApQCcUNq4qNylA6VN9h30SJECRnP+HbGofQDQKaukXmhlAteFC/mL9E0CTDffT91MQQEkVAKh1YwtAqFesCIQRBkATatBMXLz/P4fvYPUXo/Y/tDrQnFTK8T/fneFQ7xLnP14aDQuCJtc/5BrOx2LRzT+fE4V0bnvHP3ueIXamhrA/cWaxNtALrr92uqPyMJK3P6q5+U821+g/ckrZjXL49z/TaxRJZAUAQPzVLij27QFAige8XqaCAEAv4Q7keaX+P0VyKG35kv0/XHVqXZRQ/T/+RskYEAv9PwKD1IjB3fw/JBko3yJ2/D//mRCM5iX7P/btQHcr5vo/xTCcdQr9+j+f/V+tjrf6P0Wt2HvLrvo/9IV/x6br+z/bYX40veD8P8+HZwkyUvw/CkxgoI8l/D8QA+bsYB78P2eu9w7DDvw/khNJm3qS+j8vZ0xHVJ75Py0d1shscPk/NKgVKiiK+T/NNtzstIr5P4ps72zyaPc/TlSpuPUj9j9S2qZu6gj1P2XVmdu6VPQ/t/WgjjEZ9D+np734CoH0P1P4Q57qwfo/\",\"dtype\":\"float64\",\"shape\":[75]},\"y\":{\"__ndarray__\":\"hLndy31yND/6fmq8dJNIP8n9DkWBPlE/aDum7souWD/b4a/JGvVgP9f34SAhymc/ZvM4DOavcD+z0M5pFmh3PxuC4zJuaoA/xjcUPlsHhz8uHAjJAiaQP9ieWRKgppY/oI7HDFTGnz+a5h2n6EimPzS6g9iZQq8/IuAQqtTstT9SSZ2AJsK+P4nS3uALk8U/ih9j7lpCzj+ASL99HTjVP4enV8oyxN0/ACL99nXg5D9fmEwVjErtPyUGgZVDi/Q/AiuHFtnO/D9OYhBYOTQEQPHSTWIQWAxA4XoUrkfhE0D8qfHSTeIbQMh2vp8ajyNArkfhehRuK0Bcj8L1KDwzQFyPwvUo/DpAPgrXo3DtQkDNzMzMzIxKQClcj8L1eFJAKVyPwvVoWECamZmZmVleQGZmZmZmJmJAAAAAAAAgZUCamZmZmRloQJqZmZmZEWtAmpmZmZkJbkCamZmZmYFwQGZmZmZm/nFAZmZmZmZ6c0BmZmZmZvZ0QDQzMzMzc3ZAAAAAAADwd0AAAAAAAGx5QAAAAAAA6HpAzMzMzMxkfEDMzMzMzOB9QM3MzMzMXH9AzczMzMxsgEAzMzMzMyuBQDMzMzMz6YFAMzMzMzOngkCamZmZmWWDQAAAAAAAJIRAAAAAAADihEAAAAAAAKCFQGZmZmZmXoZAzczMzMwch0DNzMzMzNqHQM3MzMzMmIhAMzMzMzNXiUCamZmZmRWKQAAAAAAA1IpAAAAAAACSi0AAAAAAAFCMQGZmZmZmDo1AzczMzMzMjUDNzMzMzIqOQM3MzMzMSI9A\",\"dtype\":\"float64\",\"shape\":[75]}},\"selected\":{\"id\":\"c2c80137-8dd3-4545-ab01-c3c44adbe1e3\",\"type\":\"Selection\"},\"selection_policy\":{\"id\":\"5c9196f1-330f-42b7-ac42-e3196629cc91\",\"type\":\"UnionRenderers\"}},\"id\":\"17767664-1cfe-45cd-9702-e2a98302e29e\",\"type\":\"ColumnDataSource\"},{\"attributes\":{},\"id\":\"a986b10c-ec12-436f-b97d-1c795479a1ae\",\"type\":\"LinearScale\"},{\"attributes\":{\"fill_alpha\":{\"value\":0.7},\"fill_color\":{\"value\":\"#984ea3\"},\"line_alpha\":{\"value\":0.7},\"line_color\":{\"value\":\"#984ea3\"},\"x\":{\"field\":\"x\"},\"y\":{\"field\":\"y\"}},\"id\":\"4578b169-7d31-45aa-8851-913417d0a645\",\"type\":\"Circle\"},{\"attributes\":{\"dimension\":1,\"plot\":{\"id\":\"95cd9ae4-0e59-4bee-922d-73376a5356d0\",\"subtype\":\"Figure\",\"type\":\"Plot\"},\"ticker\":{\"id\":\"fc6da165-4092-48ac-9430-74f0d9db57f4\",\"type\":\"LogTicker\"}},\"id\":\"bd9c59b8-a31f-46bf-a696-d79a91f170ea\",\"type\":\"Grid\"},{\"attributes\":{\"axis_label\":\"pressure [mb]\",\"formatter\":{\"id\":\"dbd4d887-f4fb-4fcb-99f6-73bba46a18ae\",\"type\":\"LogTickFormatter\"},\"plot\":{\"id\":\"90b682d2-cbff-43c5-83e0-83387964dbf1\",\"subtype\":\"Figure\",\"type\":\"Plot\"},\"ticker\":{\"id\":\"79f905f0-61f3-4366-b2b0-8c367a88611f\",\"type\":\"LogTicker\"}},\"id\":\"45d069f3-5f97-4206-bb89-fa1754e07c8f\",\"type\":\"LogAxis\"},{\"attributes\":{\"source\":{\"id\":\"e2f3ebb4-7309-40a3-9e88-26a065dcc721\",\"type\":\"ColumnDataSource\"}},\"id\":\"4d3be9f1-6759-4312-9efa-48e922ea3bc9\",\"type\":\"CDSView\"},{\"attributes\":{\"callback\":null,\"data\":{\"x\":{\"__ndarray__\":\"FRQETjrXRUDWnCPW5RZDQIyH7qyy4kFAWX3YbF8+QEAY+Xtqbz88QLyGKPnbPDdAIAxeKo3pMUCERhrL1uUpQFY4aqncGiJA9xv6N8czGkCCy45z3dwUQE5dCmCftRFAVlvS2m9LDUD705OmEZUDQEiA9duN9fU/XgvU5pGO+j+hG49/cDIFQI/d2a5UDgtAclVA5xPgEEBaNfy5jhYWQJvu5nWI/B1AucEfnlPUJEDhdVuVcssqQGPun4Qg+ylALdKiCDJOJEBZaUuMGkcgQBZuu+83YxtAAsInDkIFFkCRoiFxXigRQNp1phAt4AtAHLIhQwkICEDlqkyrg8sCQAfURH6nBfo/3P2ndpVF8T8TEeWCt3nnP4Qtuh8i6Ns/PvfkezcSzT85P/B2YUfAP+OzCBCH/KK/e1u1Fxpjyb+/yCCDVdmDv9Qh8mpewuc/MukPY5p+9z+gbdyR8RYAQJi3lljLlwFA2GCTJsUGAEDHQqyyekP+P5isjrsIIv0/6koh27Rq/D9VnUrH0jv8P+ZeQG1kV/w/xQxkqFDu+z9jdSlVJnP7PwOyt3PPB/s/pq3wsk+9+j9W6t1Ibof6P680IUt1hfo/LhJVXoSb+z8eXnx2ZXz8PwlX1QWb/vw/3QbN6ZT9/D+cHQfn1V38P/YUl2y+Rvs/nd6jf0QW+j+1PJxzwf/4P9uwotV0bfg/FXmFSss8+D/b6twu4Df4P+7hEWM5tPc/Nx/GyPOk9j+/WveHFHT1Px+6o3b0iPQ/g/ZUEWER9D9mIX9GsET0PxMydhOT7/o/\",\"dtype\":\"float64\",\"shape\":[75]},\"y\":{\"__ndarray__\":\"GhExyth1ND/Sv8nbtpRIP2vylNV0PVE/aTum7souWD/At0SJ8fVgPw3Iuahxymc/MSNhhJWvcD/bTfBN02d3P2zb5nxnaoA/CD5h5MAGhz8NmeH1TyaQP+zrCsc9p5Y/LbKd76fGnz/bLW5ISEmmPww9YvTcQq8/JV2OstnstT8Er5Y7M8G+P0c+r3jqkcU/5h99k6ZBzj88bCIzFzjVP4enV8oyxN0//yH99nXg5D8qOpLLf0jtP5kqGJXUifQ/c9cS8kHP/D+/DpwzojQEQIEmwoanVwxA4lgXt9HgE0BSSZ2AJuIbQAMJih9jjiNA5q4l5INuK0AwTKYKRj0zQNv5fmq8/DpAaCJseHrtQkB/+zpwzoxKQM3MzMzMeFJAZmZmZmZqWEAAAAAAAFxeQM3MzMzMJmJAmpmZmZkfZUBmZmZmZhhoQDMzMzMzEWtAAAAAAAAKbkBmZmZmZoFwQM3MzMzM/XFAMzMzMzN6c0CamZmZmfZ0QAAAAAAAc3ZAZmZmZmbvd0DNzMzMzGt5QDMzMzMz6HpAmpmZmZlkfEAAAAAAAOF9QGZmZmZmXX9AZmZmZuZsgECamZmZGSuBQM3MzMxM6YFAAAAAAICngkAzMzMzs2WDQGZmZmbmI4RAmpmZmRnihEDNzMzMTKCFQAAAAACAXoZAMzMzM7Mch0BmZmZm5tqHQJqZmZkZmYhAzczMzExXiUAAAAAAgBWKQDMzMzOz04pAZmZmZuaRi0CamZmZGVCMQM3MzMxMDo1AAAAAAIDMjUAzMzMzs4qOQGZmZmbmSI9A\",\"dtype\":\"float64\",\"shape\":[75]}},\"selected\":{\"id\":\"c0d4c8da-19b3-4438-b4bc-a589c362e982\",\"type\":\"Selection\"},\"selection_policy\":{\"id\":\"c323ebd7-e6ef-44a1-9805-c1f8af22537c\",\"type\":\"UnionRenderers\"}},\"id\":\"e2f3ebb4-7309-40a3-9e88-26a065dcc721\",\"type\":\"ColumnDataSource\"},{\"attributes\":{\"plot\":null,\"text\":\"\"},\"id\":\"75ecd5e5-04c8-4f04-811b-34d7fa424425\",\"type\":\"Title\"},{\"attributes\":{},\"id\":\"fe0e9583-111a-4c9d-88dd-66ceaed0974d\",\"type\":\"HelpTool\"},{\"attributes\":{\"bottom_units\":\"screen\",\"fill_alpha\":{\"value\":0.5},\"fill_color\":{\"value\":\"lightgrey\"},\"left_units\":\"screen\",\"level\":\"overlay\",\"line_alpha\":{\"value\":1.0},\"line_color\":{\"value\":\"black\"},\"line_dash\":[4,4],\"line_width\":{\"value\":2},\"plot\":null,\"render_mode\":\"css\",\"right_units\":\"screen\",\"top_units\":\"screen\"},\"id\":\"b48569ab-80fb-4b5d-8968-2266f3161c36\",\"type\":\"BoxAnnotation\"},{\"attributes\":{\"items\":[{\"id\":\"2b6b9fe4-d9c3-47c0-835a-0411e3fbb4dd\",\"type\":\"LegendItem\"},{\"id\":\"42ba14e7-70d5-414a-a494-e4eaa2ff042d\",\"type\":\"LegendItem\"}],\"label_text_font_size\":{\"value\":\"8pt\"},\"location\":\"top_center\",\"orientation\":\"horizontal\",\"plot\":{\"id\":\"90b682d2-cbff-43c5-83e0-83387964dbf1\",\"subtype\":\"Figure\",\"type\":\"Plot\"}},\"id\":\"7557f134-bf0e-4370-b20e-00d3ee48a099\",\"type\":\"Legend\"},{\"attributes\":{\"source\":{\"id\":\"07636bf6-537d-4da1-bb83-3bebbb147bdf\",\"type\":\"ColumnDataSource\"}},\"id\":\"1a3bbbfe-f08c-4479-9632-4450352851d5\",\"type\":\"CDSView\"},{\"attributes\":{},\"id\":\"3e953adc-eb03-49ac-af37-a14df45aa411\",\"type\":\"Selection\"},{\"attributes\":{\"label\":{\"value\":\"old CLIRAD (H2012) - CRD\"},\"renderers\":[{\"id\":\"2df7f064-ef08-42c2-b590-1c1d416657bf\",\"type\":\"GlyphRenderer\"}]},\"id\":\"42ba14e7-70d5-414a-a494-e4eaa2ff042d\",\"type\":\"LegendItem\"},{\"attributes\":{},\"id\":\"aef9e8e1-2d9b-4e03-942c-668b2b61b4fb\",\"type\":\"Selection\"},{\"attributes\":{\"source\":{\"id\":\"cf22a41a-6a46-43d6-8bd6-b6b3c0e48593\",\"type\":\"ColumnDataSource\"}},\"id\":\"e0b68c05-75b9-491a-9ed4-004104d09a37\",\"type\":\"CDSView\"},{\"attributes\":{\"callback\":null,\"data\":{\"x\":{\"__ndarray__\":\"cm1sTMT3VEDEyvjosEJHQOKI6DjzCUNArgQWV9awPkB9Lm8XG3M4QEz+Qv6iYzNA7eV8HaPLLkCX1QHyTpMoQFBmYSYetiNAUB04GtGpH0AmFyVE5j8ZQJca9QPGqBNALJP+OOHHDEBNxaf7QF8AQKtislomWuw/cW2dcO6A9T/uJJvfPu0EQIaQLTI/JQ1AxGiII+PmEkCJvfVeuCsYQD6ZBhGbHB9AXQw69DTYJEAsubcwKucqQNuT9D5OmipAJyi3szEJJUBlNebh5WkgQDDcPHBr2xlArtlANXuQFEBdJadFHckQQI2Avh0ZsQtAjYiwt1rsBUCL0SDoVBgAQK6C0nEEjvc/CggLSme58T9sXU2orFPnP0v0JYz9Gdg/vT38vxYczD9nBQTe6kHHP1IhkEXJwKo/8OZnhCVAub+xtVgCpmqzP6DUpY6g0+k/PKK3T1h4+D8RTDjQc1EAQG/dAQs7TwJAQt2eHpPLAEBWEh074x//PyCap9ZSGf4/rEzaTySm/T+7aXhHRmr9P688KeqeNP0/ruZ4EemD/D8olrZcn9T7P0+vNc9hW/s/i9VVL+4P+z+0NzC24uz6P8731Kza8vo/xFf4SHzq+z+gYyHpvHb8P68ROkiFevw/BAjYdCga/D8AUp8VbW77P3JrF/nKmvo/qCQeGfq++T/dplwHJfn4P2G4p+Uva/g/OzZ0RqMZ+D8dmn/iar73P/OuA7Ka8PY/gaaeQHGn9T9hkyjAH1L0P3aZGhdAU/M/n8VP/g7P8j+90HxHNvfyPwhNBtgrqvk/\",\"dtype\":\"float64\",\"shape\":[75]},\"y\":{\"__ndarray__\":\"GhExyth1ND/Sv8nbtpRIP2vylNV0PVE/aTum7souWD/At0SJ8fVgPw3Iuahxymc/MSNhhJWvcD/bTfBN02d3P2zb5nxnaoA/CD5h5MAGhz8NmeH1TyaQP+zrCsc9p5Y/LbKd76fGnz/bLW5ISEmmPww9YvTcQq8/JV2OstnstT8Er5Y7M8G+P0c+r3jqkcU/5h99k6ZBzj88bCIzFzjVP4enV8oyxN0//yH99nXg5D8qOpLLf0jtP5kqGJXUifQ/c9cS8kHP/D+/DpwzojQEQIEmwoanVwxA4lgXt9HgE0BSSZ2AJuIbQAMJih9jjiNA5q4l5INuK0AwTKYKRj0zQNv5fmq8/DpAaCJseHrtQkB/+zpwzoxKQM3MzMzMeFJAZmZmZmZqWEAAAAAAAFxeQM3MzMzMJmJAmpmZmZkfZUBmZmZmZhhoQDMzMzMzEWtAAAAAAAAKbkBmZmZmZoFwQM3MzMzM/XFAMzMzMzN6c0CamZmZmfZ0QAAAAAAAc3ZAZmZmZmbvd0DNzMzMzGt5QDMzMzMz6HpAmpmZmZlkfEAAAAAAAOF9QGZmZmZmXX9AZmZmZuZsgECamZmZGSuBQM3MzMxM6YFAAAAAAICngkAzMzMzs2WDQGZmZmbmI4RAmpmZmRnihEDNzMzMTKCFQAAAAACAXoZAMzMzM7Mch0BmZmZm5tqHQJqZmZkZmYhAzczMzExXiUAAAAAAgBWKQDMzMzOz04pAZmZmZuaRi0CamZmZGVCMQM3MzMxMDo1AAAAAAIDMjUAzMzMzs4qOQGZmZmbmSI9A\",\"dtype\":\"float64\",\"shape\":[75]}},\"selected\":{\"id\":\"a80f066b-3958-4614-b325-bbfe58016f14\",\"type\":\"Selection\"},\"selection_policy\":{\"id\":\"9fa12dd8-f3e5-4649-997d-17d82f32aed2\",\"type\":\"UnionRenderers\"}},\"id\":\"424fde13-c52c-4c92-8be2-5702aadbf97b\",\"type\":\"ColumnDataSource\"},{\"attributes\":{\"callback\":null,\"end\":0.7044705543218612,\"start\":-1.3857645798625338},\"id\":\"29cb3894-c24b-4a97-a385-e5baad4a5848\",\"type\":\"Range1d\"},{\"attributes\":{},\"id\":\"c323ebd7-e6ef-44a1-9805-c1f8af22537c\",\"type\":\"UnionRenderers\"},{\"attributes\":{},\"id\":\"be321eef-fc00-4c96-b4a8-90d6a3ca6187\",\"type\":\"UnionRenderers\"},{\"attributes\":{},\"id\":\"97749c6f-32a5-4bc5-93ed-fffdb1fa3e34\",\"type\":\"PanTool\"},{\"attributes\":{\"line_alpha\":0.5,\"line_color\":\"#377eb8\",\"line_dash\":[6],\"line_width\":4,\"x\":{\"field\":\"x\"},\"y\":{\"field\":\"y\"}},\"id\":\"8bb13524-b8da-4189-94cb-3137511197a7\",\"type\":\"Line\"},{\"attributes\":{\"overlay\":{\"id\":\"b48569ab-80fb-4b5d-8968-2266f3161c36\",\"type\":\"BoxAnnotation\"}},\"id\":\"43f3b918-4e5d-4d74-811a-af55805c4f56\",\"type\":\"BoxZoomTool\"},{\"attributes\":{\"fill_alpha\":{\"value\":0.1},\"fill_color\":{\"value\":\"#1f77b4\"},\"line_alpha\":{\"value\":0.1},\"line_color\":{\"value\":\"#1f77b4\"},\"x\":{\"field\":\"x\"},\"y\":{\"field\":\"y\"}},\"id\":\"62fdfdbb-eefb-440e-8eb2-dcb217d01be1\",\"type\":\"Circle\"},{\"attributes\":{\"ticker\":null},\"id\":\"47c465b4-cb99-4143-ab2b-0f38e90b739e\",\"type\":\"LogTickFormatter\"},{\"attributes\":{\"source\":{\"id\":\"424fde13-c52c-4c92-8be2-5702aadbf97b\",\"type\":\"ColumnDataSource\"}},\"id\":\"2a3a0904-a789-4747-8114-9b5655bb53aa\",\"type\":\"CDSView\"},{\"attributes\":{},\"id\":\"507bdd66-1681-4999-8951-f5080ce9f413\",\"type\":\"UnionRenderers\"},{\"attributes\":{},\"id\":\"c0d4c8da-19b3-4438-b4bc-a589c362e982\",\"type\":\"Selection\"},{\"attributes\":{\"bottom_units\":\"screen\",\"fill_alpha\":{\"value\":0.5},\"fill_color\":{\"value\":\"lightgrey\"},\"left_units\":\"screen\",\"level\":\"overlay\",\"line_alpha\":{\"value\":1.0},\"line_color\":{\"value\":\"black\"},\"line_dash\":[4,4],\"line_width\":{\"value\":2},\"plot\":null,\"render_mode\":\"css\",\"right_units\":\"screen\",\"top_units\":\"screen\"},\"id\":\"b3ab3481-c6a5-4894-913c-eee980bf8bab\",\"type\":\"BoxAnnotation\"},{\"attributes\":{\"fill_alpha\":{\"value\":0.1},\"fill_color\":{\"value\":\"#1f77b4\"},\"line_alpha\":{\"value\":0.1},\"line_color\":{\"value\":\"#1f77b4\"},\"x\":{\"field\":\"x\"},\"y\":{\"field\":\"y\"}},\"id\":\"46c7e51b-2b4f-49ca-a58d-8f7188e10ad4\",\"type\":\"Circle\"},{\"attributes\":{},\"id\":\"9df58eba-3103-4b16-b613-2875814a859d\",\"type\":\"UnionRenderers\"},{\"attributes\":{\"line_alpha\":0.1,\"line_color\":\"#1f77b4\",\"line_width\":1.5,\"x\":{\"field\":\"x\"},\"y\":{\"field\":\"y\"}},\"id\":\"a495d484-394b-43f7-a919-6dddb42fd3cb\",\"type\":\"Line\"},{\"attributes\":{},\"id\":\"719bc915-37e4-43ad-a5b5-ca643ec59319\",\"type\":\"SaveTool\"},{\"attributes\":{},\"id\":\"9fa12dd8-f3e5-4649-997d-17d82f32aed2\",\"type\":\"UnionRenderers\"},{\"attributes\":{\"plot\":null,\"text\":\"\"},\"id\":\"80d28d9e-7ece-4015-aa55-ea7dd57d3ad4\",\"type\":\"Title\"},{\"attributes\":{\"fill_alpha\":{\"value\":0.7},\"fill_color\":{\"value\":\"#984ea3\"},\"line_alpha\":{\"value\":0.7},\"line_color\":{\"value\":\"#984ea3\"},\"x\":{\"field\":\"x\"},\"y\":{\"field\":\"y\"}},\"id\":\"8ebd6671-bd00-4834-a195-457ae38894a0\",\"type\":\"Square\"},{\"attributes\":{\"line_alpha\":0.6,\"line_color\":\"#377eb8\",\"line_dash\":[6],\"line_width\":5,\"x\":{\"field\":\"x\"},\"y\":{\"field\":\"y\"}},\"id\":\"7bef8e75-cba4-4321-a9c3-ab081a31c733\",\"type\":\"Line\"},{\"attributes\":{\"label\":{\"value\":\"CLIRAD (single-run) - CRD\"},\"renderers\":[{\"id\":\"820bfbac-ded1-484d-b991-39d9f439ff18\",\"type\":\"GlyphRenderer\"},{\"id\":\"2e62a4f6-86b1-41eb-97bf-dd044b75eefa\",\"type\":\"GlyphRenderer\"}]},\"id\":\"2b6b9fe4-d9c3-47c0-835a-0411e3fbb4dd\",\"type\":\"LegendItem\"},{\"attributes\":{\"data_source\":{\"id\":\"3563e519-ef0d-4d88-9020-2e5f4698fa5f\",\"type\":\"ColumnDataSource\"},\"glyph\":{\"id\":\"7bef8e75-cba4-4321-a9c3-ab081a31c733\",\"type\":\"Line\"},\"hover_glyph\":null,\"muted_glyph\":null,\"nonselection_glyph\":{\"id\":\"0f3bb58b-ab37-4098-be71-ccc14e16c91f\",\"type\":\"Line\"},\"selection_glyph\":null,\"view\":{\"id\":\"e74db5ee-48f2-4413-82aa-0c0c38aac139\",\"type\":\"CDSView\"}},\"id\":\"240c4d5c-3fb0-40c0-bb26-c4d8ef65dd54\",\"type\":\"GlyphRenderer\"},{\"attributes\":{},\"id\":\"6ee6f79d-4b54-4b99-8dea-eb0de322dc8c\",\"type\":\"BasicTickFormatter\"},{\"attributes\":{\"callback\":null,\"data\":{\"x\":{\"__ndarray__\":\"zhhdnl3RU0CKgDdE+dxEQP6f5duhdUFAMJBr6ewEQkAADxZQyK45QBmX3ka8EDZAjl8alnlwL0CeYJlYHKIqQJoaoQNWxSJAwL4t7BozIUBMkS56I6AXQBxPe4ld/BRAnMjiKz2HCkCJCgdQ/WcBQKJTvluRvOg/j/JpYJwB9j+fcxKIKREEQOwUvOtLFw1AV0At7oRoEkD5lECKxjYXQAdydNQ0jR1ACbyvRZLfI0CO3MmPRGApQCcUNq4qNylA6VN9h30SJECRnP+HbGofQDQKaukXmhlAteFC/mL9E0CTDffT91MQQEkVAKh1YwtAqFesCIQRBkATatBMXLz/P4fvYPUXo/Y/tDrQnFTK8T/fneFQ7xLnP14aDQuCJtc/5BrOx2LRzT+fE4V0bnvHP3ueIXamhrA/cWaxNtALrr92uqPyMJK3P6q5+U821+g/ckrZjXL49z/TaxRJZAUAQPzVLij27QFAige8XqaCAEAv4Q7keaX+P0VyKG35kv0/XHVqXZRQ/T/+RskYEAv9PwKD1IjB3fw/JBko3yJ2/D//mRCM5iX7P/btQHcr5vo/xTCcdQr9+j+f/V+tjrf6P0Wt2HvLrvo/9IV/x6br+z/bYX40veD8P8+HZwkyUvw/CkxgoI8l/D8QA+bsYB78P2eu9w7DDvw/khNJm3qS+j8vZ0xHVJ75Py0d1shscPk/NKgVKiiK+T/NNtzstIr5P4ps72zyaPc/TlSpuPUj9j9S2qZu6gj1P2XVmdu6VPQ/t/WgjjEZ9D+np734CoH0P1P4Q57qwfo/\",\"dtype\":\"float64\",\"shape\":[75]},\"y\":{\"__ndarray__\":\"hLndy31yND/6fmq8dJNIP8n9DkWBPlE/aDum7souWD/b4a/JGvVgP9f34SAhymc/ZvM4DOavcD+z0M5pFmh3PxuC4zJuaoA/xjcUPlsHhz8uHAjJAiaQP9ieWRKgppY/oI7HDFTGnz+a5h2n6EimPzS6g9iZQq8/IuAQqtTstT9SSZ2AJsK+P4nS3uALk8U/ih9j7lpCzj+ASL99HTjVP4enV8oyxN0/ACL99nXg5D9fmEwVjErtPyUGgZVDi/Q/AiuHFtnO/D9OYhBYOTQEQPHSTWIQWAxA4XoUrkfhE0D8qfHSTeIbQMh2vp8ajyNArkfhehRuK0Bcj8L1KDwzQFyPwvUo/DpAPgrXo3DtQkDNzMzMzIxKQClcj8L1eFJAKVyPwvVoWECamZmZmVleQGZmZmZmJmJAAAAAAAAgZUCamZmZmRloQJqZmZmZEWtAmpmZmZkJbkCamZmZmYFwQGZmZmZm/nFAZmZmZmZ6c0BmZmZmZvZ0QDQzMzMzc3ZAAAAAAADwd0AAAAAAAGx5QAAAAAAA6HpAzMzMzMxkfEDMzMzMzOB9QM3MzMzMXH9AzczMzMxsgEAzMzMzMyuBQDMzMzMz6YFAMzMzMzOngkCamZmZmWWDQAAAAAAAJIRAAAAAAADihEAAAAAAAKCFQGZmZmZmXoZAzczMzMwch0DNzMzMzNqHQM3MzMzMmIhAMzMzMzNXiUCamZmZmRWKQAAAAAAA1IpAAAAAAACSi0AAAAAAAFCMQGZmZmZmDo1AzczMzMzMjUDNzMzMzIqOQM3MzMzMSI9A\",\"dtype\":\"float64\",\"shape\":[75]}},\"selected\":{\"id\":\"226f22a0-975a-4529-857d-7be6d2118a0d\",\"type\":\"Selection\"},\"selection_policy\":{\"id\":\"9df58eba-3103-4b16-b613-2875814a859d\",\"type\":\"UnionRenderers\"}},\"id\":\"4df02c7c-0574-4ced-855c-b86563b3a35f\",\"type\":\"ColumnDataSource\"},{\"attributes\":{},\"id\":\"4a51c24f-9fe9-46ac-80b8-175903d49698\",\"type\":\"BasicTickFormatter\"},{\"attributes\":{},\"id\":\"226f22a0-975a-4529-857d-7be6d2118a0d\",\"type\":\"Selection\"},{\"attributes\":{},\"id\":\"2662b465-964b-42b4-aa32-a9b7d24de0d4\",\"type\":\"Selection\"},{\"attributes\":{},\"id\":\"a80f066b-3958-4614-b325-bbfe58016f14\",\"type\":\"Selection\"},{\"attributes\":{},\"id\":\"8a62257a-26cb-444a-b542-edddbf95a2d6\",\"type\":\"Selection\"},{\"attributes\":{},\"id\":\"d154fe4f-d7b0-48a9-95d3-b2a17c678e4b\",\"type\":\"Selection\"},{\"attributes\":{},\"id\":\"c4d81b67-6c78-4660-a229-8518ee718fbb\",\"type\":\"UnionRenderers\"},{\"attributes\":{},\"id\":\"723eecb8-8288-4881-9945-40a053fe5103\",\"type\":\"UnionRenderers\"},{\"attributes\":{\"callback\":null,\"end\":0.01,\"start\":1020},\"id\":\"791787a4-441a-4128-b575-39d12bfa2bc8\",\"type\":\"Range1d\"},{\"attributes\":{\"active_drag\":\"auto\",\"active_inspect\":\"auto\",\"active_scroll\":\"auto\",\"active_tap\":\"auto\",\"tools\":[{\"id\":\"97749c6f-32a5-4bc5-93ed-fffdb1fa3e34\",\"type\":\"PanTool\"},{\"id\":\"520b9e17-32f5-46cd-a61a-204ec4bb2c67\",\"type\":\"WheelZoomTool\"},{\"id\":\"43f3b918-4e5d-4d74-811a-af55805c4f56\",\"type\":\"BoxZoomTool\"},{\"id\":\"719bc915-37e4-43ad-a5b5-ca643ec59319\",\"type\":\"SaveTool\"},{\"id\":\"3b167052-5ccc-43b6-99c4-1183d4eccb9f\",\"type\":\"ResetTool\"},{\"id\":\"fe0e9583-111a-4c9d-88dd-66ceaed0974d\",\"type\":\"HelpTool\"}]},\"id\":\"e1ca33e1-a76e-49ab-be55-06a571ac82fe\",\"type\":\"Toolbar\"},{\"attributes\":{},\"id\":\"27ddc274-54cc-4386-a310-76c744a8a73d\",\"type\":\"UnionRenderers\"},{\"attributes\":{},\"id\":\"520b9e17-32f5-46cd-a61a-204ec4bb2c67\",\"type\":\"WheelZoomTool\"},{\"attributes\":{\"label\":{\"value\":\"CRD\"},\"renderers\":[{\"id\":\"bec4beb9-01da-44c9-9861-6b2e4916d77a\",\"type\":\"GlyphRenderer\"},{\"id\":\"f3243f4a-45ba-479c-859a-9d23a3427e6b\",\"type\":\"GlyphRenderer\"}]},\"id\":\"03ee3da3-837a-4f0f-b50b-ce5756bc5e8e\",\"type\":\"LegendItem\"},{\"attributes\":{},\"id\":\"dac2bc3c-99c0-4d74-be56-d0cae31f0546\",\"type\":\"Selection\"},{\"attributes\":{},\"id\":\"83469bea-be02-48f8-b75d-e58690c88950\",\"type\":\"ResetTool\"},{\"attributes\":{\"data_source\":{\"id\":\"07636bf6-537d-4da1-bb83-3bebbb147bdf\",\"type\":\"ColumnDataSource\"},\"glyph\":{\"id\":\"4578b169-7d31-45aa-8851-913417d0a645\",\"type\":\"Circle\"},\"hover_glyph\":null,\"muted_glyph\":null,\"nonselection_glyph\":{\"id\":\"62fdfdbb-eefb-440e-8eb2-dcb217d01be1\",\"type\":\"Circle\"},\"selection_glyph\":null,\"view\":{\"id\":\"1a3bbbfe-f08c-4479-9632-4450352851d5\",\"type\":\"CDSView\"}},\"id\":\"820bfbac-ded1-484d-b991-39d9f439ff18\",\"type\":\"GlyphRenderer\"},{\"attributes\":{\"line_color\":\"#4daf4a\",\"line_width\":1.5,\"x\":{\"field\":\"x\"},\"y\":{\"field\":\"y\"}},\"id\":\"725c5025-609f-4bdd-b3cb-af2b64d02e06\",\"type\":\"Line\"},{\"attributes\":{},\"id\":\"0792b199-583a-4d48-89ca-2b147993442e\",\"type\":\"BasicTickFormatter\"},{\"attributes\":{},\"id\":\"bc513e2e-f04c-4928-981e-cc2ccce37694\",\"type\":\"SaveTool\"},{\"attributes\":{\"callback\":null,\"data\":{\"x\":{\"__ndarray__\":\"zcbUSk4YRMC/t1RLLK8gwGgVoL8IdALAc2CvKYi+/D/WVGaYomIOQINDLNfHyQ5ATcn83NwdBEDjDoeRfSjlP6Tfcs8XtOm/XgX4iCfY9b+PLllCI4zxv5TUqz5qMt+/QAV5OtRxsD94dWBXha7ZP8s7cbrqId8/tHfa2I021D/WrP38Z0yhP7qXnRpUt9C/jJpA4nk24L+GQcwnTangvx+q+rEpAdK/YCpV0rAKf7/6SkNcm7erv9qulEq35dO/IL+KYvVf178vB2bNqmWxv3ge6ffHfNg/UYVujm1M1z8fTZ/eStC3P/el+nP5iZc/d0yJW3Td0D/Qyl4ZdpnVP72KkmMYvcM/U4vC2HT0nL+30tlLbQVzP67JoZwkca4/YjAXfRfEfj+3GE+cJeqrv55qzCqo3ra/CNACqw6Gub/Lzryy0OW1v3CWnR0RirC/fCH3lL03r790OO8tH0Gdv+C6ZE327ba/BI1vAb+ZuL8H8hkOEY2rv+ywHWND6a6/KByQS/e2s79kxtwCOOeyvy+5G51Pp6u/Dj2bIg2zor9AMUjjQV6Yv+tSf9+W5JS/1vhJGZ+nlL8OV5NUG12Zv4zH8GxYWZu/nWXRqPq9k7/I/+lrNaJWPz6raLO3gqA/+dqfno5trD+mc/ksGu2tP3Iw9W9ufqU/ln1uoZnSlT/gYVf+sHFaP8DNw9d/J0I/3myhCAKUgT96L1QXU12eP4RfxiHWc6g/4xbvBFGwrz/ydex8TB+yP3YKkvhFW7M/Vg5TMCEltD+MCiXwn9e0P8lQ/rZzVrQ/\",\"dtype\":\"float64\",\"shape\":[75]},\"y\":{\"__ndarray__\":\"GhExyth1ND/Sv8nbtpRIP2vylNV0PVE/aTum7souWD/At0SJ8fVgPw3Iuahxymc/MSNhhJWvcD/bTfBN02d3P2zb5nxnaoA/CD5h5MAGhz8NmeH1TyaQP+zrCsc9p5Y/LbKd76fGnz/bLW5ISEmmPww9YvTcQq8/JV2OstnstT8Er5Y7M8G+P0c+r3jqkcU/5h99k6ZBzj88bCIzFzjVP4enV8oyxN0//yH99nXg5D8qOpLLf0jtP5kqGJXUifQ/c9cS8kHP/D+/DpwzojQEQIEmwoanVwxA4lgXt9HgE0BSSZ2AJuIbQAMJih9jjiNA5q4l5INuK0AwTKYKRj0zQNv5fmq8/DpAaCJseHrtQkB/+zpwzoxKQM3MzMzMeFJAZmZmZmZqWEAAAAAAAFxeQM3MzMzMJmJAmpmZmZkfZUBmZmZmZhhoQDMzMzMzEWtAAAAAAAAKbkBmZmZmZoFwQM3MzMzM/XFAMzMzMzN6c0CamZmZmfZ0QAAAAAAAc3ZAZmZmZmbvd0DNzMzMzGt5QDMzMzMz6HpAmpmZmZlkfEAAAAAAAOF9QGZmZmZmXX9AZmZmZuZsgECamZmZGSuBQM3MzMxM6YFAAAAAAICngkAzMzMzs2WDQGZmZmbmI4RAmpmZmRnihEDNzMzMTKCFQAAAAACAXoZAMzMzM7Mch0BmZmZm5tqHQJqZmZkZmYhAzczMzExXiUAAAAAAgBWKQDMzMzOz04pAZmZmZuaRi0CamZmZGVCMQM3MzMxMDo1AAAAAAIDMjUAzMzMzs4qOQGZmZmbmSI9A\",\"dtype\":\"float64\",\"shape\":[75]}},\"selected\":{\"id\":\"22d7f00e-4827-48cd-a9f9-b3475456f1ca\",\"type\":\"Selection\"},\"selection_policy\":{\"id\":\"7e0107d8-37cb-412b-841a-c0761a0695e3\",\"type\":\"UnionRenderers\"}},\"id\":\"07636bf6-537d-4da1-bb83-3bebbb147bdf\",\"type\":\"ColumnDataSource\"},{\"attributes\":{},\"id\":\"a1a49c96-b36a-4995-8909-d016fb6d484f\",\"type\":\"UnionRenderers\"},{\"attributes\":{},\"id\":\"7e0107d8-37cb-412b-841a-c0761a0695e3\",\"type\":\"UnionRenderers\"},{\"attributes\":{\"data_source\":{\"id\":\"424fde13-c52c-4c92-8be2-5702aadbf97b\",\"type\":\"ColumnDataSource\"},\"glyph\":{\"id\":\"725c5025-609f-4bdd-b3cb-af2b64d02e06\",\"type\":\"Line\"},\"hover_glyph\":null,\"muted_glyph\":null,\"nonselection_glyph\":{\"id\":\"a495d484-394b-43f7-a919-6dddb42fd3cb\",\"type\":\"Line\"},\"selection_glyph\":null,\"view\":{\"id\":\"2a3a0904-a789-4747-8114-9b5655bb53aa\",\"type\":\"CDSView\"}},\"id\":\"f3243f4a-45ba-479c-859a-9d23a3427e6b\",\"type\":\"GlyphRenderer\"},{\"attributes\":{},\"id\":\"5b5daa39-5c70-4666-bf1a-b19b08a86c48\",\"type\":\"HelpTool\"},{\"attributes\":{\"source\":{\"id\":\"3385d1ef-cdc4-4dfc-9199-f2ab0e8db646\",\"type\":\"ColumnDataSource\"}},\"id\":\"50dd16ff-0412-4b6d-9a84-831aef55e251\",\"type\":\"CDSView\"},{\"attributes\":{},\"id\":\"c2c80137-8dd3-4545-ab01-c3c44adbe1e3\",\"type\":\"Selection\"},{\"attributes\":{\"line_alpha\":0.1,\"line_color\":\"#1f77b4\",\"line_dash\":[6],\"line_width\":4,\"x\":{\"field\":\"x\"},\"y\":{\"field\":\"y\"}},\"id\":\"23d1f309-5853-4abd-bd61-1520cd19da5b\",\"type\":\"Line\"},{\"attributes\":{},\"id\":\"5c9196f1-330f-42b7-ac42-e3196629cc91\",\"type\":\"UnionRenderers\"},{\"attributes\":{\"fill_alpha\":{\"value\":0.7},\"fill_color\":{\"value\":\"#4daf4a\"},\"line_alpha\":{\"value\":0.7},\"line_color\":{\"value\":\"#4daf4a\"},\"x\":{\"field\":\"x\"},\"y\":{\"field\":\"y\"}},\"id\":\"ca547be6-12b1-4801-9baa-3a21514436b9\",\"type\":\"Circle\"},{\"attributes\":{\"data_source\":{\"id\":\"cf22a41a-6a46-43d6-8bd6-b6b3c0e48593\",\"type\":\"ColumnDataSource\"},\"glyph\":{\"id\":\"ca547be6-12b1-4801-9baa-3a21514436b9\",\"type\":\"Circle\"},\"hover_glyph\":null,\"muted_glyph\":null,\"nonselection_glyph\":{\"id\":\"46c7e51b-2b4f-49ca-a58d-8f7188e10ad4\",\"type\":\"Circle\"},\"selection_glyph\":null,\"view\":{\"id\":\"e0b68c05-75b9-491a-9ed4-004104d09a37\",\"type\":\"CDSView\"}},\"id\":\"bec4beb9-01da-44c9-9861-6b2e4916d77a\",\"type\":\"GlyphRenderer\"},{\"attributes\":{},\"id\":\"5fa7ffc1-32dc-4e7e-9f7b-118ecdc17b7b\",\"type\":\"UnionRenderers\"},{\"attributes\":{},\"id\":\"3b167052-5ccc-43b6-99c4-1183d4eccb9f\",\"type\":\"ResetTool\"},{\"attributes\":{\"data_source\":{\"id\":\"3385d1ef-cdc4-4dfc-9199-f2ab0e8db646\",\"type\":\"ColumnDataSource\"},\"glyph\":{\"id\":\"8bb13524-b8da-4189-94cb-3137511197a7\",\"type\":\"Line\"},\"hover_glyph\":null,\"muted_glyph\":null,\"nonselection_glyph\":{\"id\":\"23d1f309-5853-4abd-bd61-1520cd19da5b\",\"type\":\"Line\"},\"selection_glyph\":null,\"view\":{\"id\":\"50dd16ff-0412-4b6d-9a84-831aef55e251\",\"type\":\"CDSView\"}},\"id\":\"2df7f064-ef08-42c2-b590-1c1d416657bf\",\"type\":\"GlyphRenderer\"},{\"attributes\":{\"overlay\":{\"id\":\"b3ab3481-c6a5-4894-913c-eee980bf8bab\",\"type\":\"BoxAnnotation\"}},\"id\":\"68338cee-3312-47ee-bb41-c63f073ede44\",\"type\":\"BoxZoomTool\"}],\"root_ids\":[\"da1ac248-b56c-4bca-9592-3888e5f13101\"]},\"title\":\"Bokeh Application\",\"version\":\"0.12.16\"}};\n",
       "  var render_items = [{\"docid\":\"9fe58ef1-d646-4030-b857-2bde3dad7969\",\"elementid\":\"f25aac03-818d-43f9-b64a-bc279379993e\",\"modelid\":\"da1ac248-b56c-4bca-9592-3888e5f13101\"}];\n",
       "  root.Bokeh.embed.embed_items_notebook(docs_json, render_items);\n",
       "\n",
       "  }\n",
       "  if (root.Bokeh !== undefined) {\n",
       "    embed_document(root);\n",
       "  } else {\n",
       "    var attempts = 0;\n",
       "    var timer = setInterval(function(root) {\n",
       "      if (root.Bokeh !== undefined) {\n",
       "        embed_document(root);\n",
       "        clearInterval(timer);\n",
       "      }\n",
       "      attempts++;\n",
       "      if (attempts > 100) {\n",
       "        console.log(\"Bokeh: ERROR: Unable to run BokehJS code because BokehJS library is missing\")\n",
       "        clearInterval(timer);\n",
       "      }\n",
       "    }, 10, root)\n",
       "  }\n",
       "})(window);"
      ],
      "application/vnd.bokehjs_exec.v0+json": ""
     },
     "metadata": {
      "application/vnd.bokehjs_exec.v0+json": {
       "id": "da1ac248-b56c-4bca-9592-3888e5f13101"
      }
     },
     "output_type": "display_data"
    },
    {
     "data": {
      "text/markdown": [
       "*FIGURE.* Cooling rates & difference."
      ],
      "text/plain": [
       "<IPython.core.display.Markdown object>"
      ]
     },
     "metadata": {},
     "output_type": "display_data"
    },
    {
     "data": {
      "text/html": [
       "<a id=\"Fluxes._mls.\"></a>"
      ],
      "text/plain": [
       "<IPython.core.display.HTML object>"
      ]
     },
     "metadata": {},
     "output_type": "display_data"
    },
    {
     "data": {
      "text/markdown": [
       "# Fluxes. mls."
      ],
      "text/plain": [
       "<IPython.core.display.Markdown object>"
      ]
     },
     "metadata": {},
     "output_type": "display_data"
    },
    {
     "data": {
      "text/html": [
       "\n",
       "<div class=\"bk-root\">\n",
       "    <div class=\"bk-plotdiv\" id=\"e4742f95-a8be-4ec8-a4f5-d707ff16c995\"></div>\n",
       "</div>"
      ]
     },
     "metadata": {},
     "output_type": "display_data"
    },
    {
     "data": {
      "application/javascript": [
       "(function(root) {\n",
       "  function embed_document(root) {\n",
       "    \n",
       "  var docs_json = {\"38a73238-6957-456a-9652-d09d3dabeb4e\":{\"roots\":{\"references\":[{\"attributes\":{},\"id\":\"a3bddbc2-7cdd-4477-b647-e017b6f106c0\",\"type\":\"BasicTicker\"},{\"attributes\":{},\"id\":\"b76fa942-4a18-4a6e-b10c-78c4add1cb73\",\"type\":\"UnionRenderers\"},{\"attributes\":{},\"id\":\"02b07447-17cc-4528-9434-8e82ccb35c8d\",\"type\":\"Selection\"},{\"attributes\":{},\"id\":\"9ffc2166-931e-4195-9a1b-0f874b2df2e4\",\"type\":\"CategoricalTickFormatter\"},{\"attributes\":{\"callback\":null,\"data\":{\"band\":[\"1\",\"2\",\"3\",\"4\",\"5\",\"6\",\"7\",\"8\",\"9\",\"10\",\"11\"],\"flux\":{\"__ndarray__\":\"AEILCRhdyD+AzEHQ0arSP4APCkrRytO/QL3EWKZf0z8AelORCmPQPwBUa2EW2rG/ABjPoKF/2D8ASdv4E5W5vwDgfyvZsZG/YNQ5UPHJwD9A78EQ3sOwPw==\",\"dtype\":\"float64\",\"shape\":[11]}},\"selected\":{\"id\":\"92abeefc-96ec-4cac-b567-dacc683c665e\",\"type\":\"Selection\"},\"selection_policy\":{\"id\":\"b76fa942-4a18-4a6e-b10c-78c4add1cb73\",\"type\":\"UnionRenderers\"}},\"id\":\"a2d7a3e1-4ed9-498b-81b7-435daa5e1e7d\",\"type\":\"ColumnDataSource\"},{\"attributes\":{\"axis_label\":\"flux (W m-2)\",\"formatter\":{\"id\":\"42246898-f813-483a-b3af-881183b3d936\",\"type\":\"BasicTickFormatter\"},\"plot\":{\"id\":\"5627629d-ad45-4488-9824-7ad6dcf9b6bc\",\"subtype\":\"Figure\",\"type\":\"Plot\"},\"ticker\":{\"id\":\"bc44ff1f-b99c-413d-abf4-ba09d546a040\",\"type\":\"BasicTicker\"}},\"id\":\"5e54da89-a4ed-411b-b5d2-a6ed438045af\",\"type\":\"LinearAxis\"},{\"attributes\":{\"dimension\":1,\"plot\":{\"id\":\"a1eb4da6-8f46-4981-ae05-1e2656a0447f\",\"subtype\":\"Figure\",\"type\":\"Plot\"},\"ticker\":{\"id\":\"a3bddbc2-7cdd-4477-b647-e017b6f106c0\",\"type\":\"BasicTicker\"}},\"id\":\"61f0f485-c6cc-4016-9756-a48f498c9d38\",\"type\":\"Grid\"},{\"attributes\":{},\"id\":\"ef05852a-bf70-481f-a17f-0275299bcecd\",\"type\":\"CategoricalTickFormatter\"},{\"attributes\":{},\"id\":\"6f25427b-d156-4c71-bb9f-8153a743323d\",\"type\":\"CategoricalTicker\"},{\"attributes\":{\"plot\":{\"id\":\"5627629d-ad45-4488-9824-7ad6dcf9b6bc\",\"subtype\":\"Figure\",\"type\":\"Plot\"},\"ticker\":{\"id\":\"6f25427b-d156-4c71-bb9f-8153a743323d\",\"type\":\"CategoricalTicker\"}},\"id\":\"c6820f7c-c1a3-40d5-b22e-5703660f0334\",\"type\":\"Grid\"},{\"attributes\":{\"source\":{\"id\":\"a41d9b60-1494-4074-9968-238686879b9e\",\"type\":\"ColumnDataSource\"}},\"id\":\"13d9d407-192c-43d7-8b10-79281458fd2c\",\"type\":\"CDSView\"},{\"attributes\":{},\"id\":\"33a47644-0bf3-4852-8c76-b715710acdbc\",\"type\":\"BasicTickFormatter\"},{\"attributes\":{},\"id\":\"42246898-f813-483a-b3af-881183b3d936\",\"type\":\"BasicTickFormatter\"},{\"attributes\":{\"plot\":null,\"text\":\"SFC flux. CLIRAD (single-run) - CRD.\"},\"id\":\"bbc11d88-6e77-45a5-b5f6-16c8acdae8d5\",\"type\":\"Title\"},{\"attributes\":{},\"id\":\"14ef6dd2-323c-4be6-8975-a348fdd69b4e\",\"type\":\"UnionRenderers\"},{\"attributes\":{\"below\":[{\"id\":\"b16096ab-ad57-4a52-9edc-627a5e643e3e\",\"type\":\"CategoricalAxis\"}],\"left\":[{\"id\":\"5e54da89-a4ed-411b-b5d2-a6ed438045af\",\"type\":\"LinearAxis\"}],\"plot_height\":300,\"plot_width\":300,\"renderers\":[{\"id\":\"b16096ab-ad57-4a52-9edc-627a5e643e3e\",\"type\":\"CategoricalAxis\"},{\"id\":\"c6820f7c-c1a3-40d5-b22e-5703660f0334\",\"type\":\"Grid\"},{\"id\":\"5e54da89-a4ed-411b-b5d2-a6ed438045af\",\"type\":\"LinearAxis\"},{\"id\":\"6fb5037f-2dce-4c77-8c87-79719afa1ce9\",\"type\":\"Grid\"},{\"id\":\"e99faf91-3941-4324-818d-a04d6f7793d7\",\"type\":\"BoxAnnotation\"},{\"id\":\"2bbab4a3-6c89-4274-9adb-9588dd8a7761\",\"type\":\"GlyphRenderer\"}],\"title\":{\"id\":\"bbc11d88-6e77-45a5-b5f6-16c8acdae8d5\",\"type\":\"Title\"},\"toolbar\":{\"id\":\"d73515f6-1250-4755-900d-3f891237de5b\",\"type\":\"Toolbar\"},\"toolbar_location\":null,\"x_range\":{\"id\":\"d3cc2333-7fdb-48d4-9817-92ec370b9d80\",\"type\":\"FactorRange\"},\"x_scale\":{\"id\":\"1705c05b-c2b6-40d3-a274-99c427ff1630\",\"type\":\"CategoricalScale\"},\"y_range\":{\"id\":\"0d73b139-2d07-488b-ab59-9c87762f4f36\",\"type\":\"DataRange1d\"},\"y_scale\":{\"id\":\"28a0466a-c265-4566-bcc4-3e272dc6c4f2\",\"type\":\"LinearScale\"}},\"id\":\"5627629d-ad45-4488-9824-7ad6dcf9b6bc\",\"subtype\":\"Figure\",\"type\":\"Plot\"},{\"attributes\":{},\"id\":\"92abeefc-96ec-4cac-b567-dacc683c665e\",\"type\":\"Selection\"},{\"attributes\":{\"axis_label\":\"flux (W m-2)\",\"formatter\":{\"id\":\"5c706727-5df0-4465-b6fe-8808ee752296\",\"type\":\"BasicTickFormatter\"},\"plot\":{\"id\":\"a1eb4da6-8f46-4981-ae05-1e2656a0447f\",\"subtype\":\"Figure\",\"type\":\"Plot\"},\"ticker\":{\"id\":\"a3bddbc2-7cdd-4477-b647-e017b6f106c0\",\"type\":\"BasicTicker\"}},\"id\":\"e589683a-cb6b-4e4e-afcf-8024478e2e91\",\"type\":\"LinearAxis\"},{\"attributes\":{},\"id\":\"bc44ff1f-b99c-413d-abf4-ba09d546a040\",\"type\":\"BasicTicker\"},{\"attributes\":{\"children\":[{\"id\":\"0c6165f2-c6c1-4f2c-af3b-a31d189b8cec\",\"subtype\":\"Figure\",\"type\":\"Plot\"},{\"id\":\"5627629d-ad45-4488-9824-7ad6dcf9b6bc\",\"subtype\":\"Figure\",\"type\":\"Plot\"},{\"id\":\"a1eb4da6-8f46-4981-ae05-1e2656a0447f\",\"subtype\":\"Figure\",\"type\":\"Plot\"}]},\"id\":\"4262702e-7058-45b6-bf46-f28c14005cb8\",\"type\":\"Row\"},{\"attributes\":{\"data_source\":{\"id\":\"a41d9b60-1494-4074-9968-238686879b9e\",\"type\":\"ColumnDataSource\"},\"glyph\":{\"id\":\"002b5709-ff15-4900-bc8c-5ddc36d0ea38\",\"type\":\"VBar\"},\"hover_glyph\":null,\"muted_glyph\":null,\"nonselection_glyph\":{\"id\":\"d3a61e2f-218d-4f4c-8c95-91c866ec4f9e\",\"type\":\"VBar\"},\"selection_glyph\":null,\"view\":{\"id\":\"13d9d407-192c-43d7-8b10-79281458fd2c\",\"type\":\"CDSView\"}},\"id\":\"2bbab4a3-6c89-4274-9adb-9588dd8a7761\",\"type\":\"GlyphRenderer\"},{\"attributes\":{},\"id\":\"0f0fe53a-4a03-4967-bd70-200c73c5ed38\",\"type\":\"CategoricalTicker\"},{\"attributes\":{\"fill_alpha\":{\"value\":0.1},\"fill_color\":{\"value\":\"#1f77b4\"},\"line_alpha\":{\"value\":0.1},\"line_color\":{\"value\":\"#1f77b4\"},\"top\":{\"field\":\"flux\"},\"width\":{\"value\":0.9},\"x\":{\"field\":\"band\"}},\"id\":\"4238dc17-a0c6-41ee-a957-794eca1de31e\",\"type\":\"VBar\"},{\"attributes\":{},\"id\":\"9c53ff0f-f397-4f1c-b1f5-b9d9a5cbcbfd\",\"type\":\"LinearScale\"},{\"attributes\":{\"below\":[{\"id\":\"0ae23ab7-d7ab-4294-a5c8-cf0f4eb7d1f6\",\"type\":\"CategoricalAxis\"}],\"left\":[{\"id\":\"e589683a-cb6b-4e4e-afcf-8024478e2e91\",\"type\":\"LinearAxis\"}],\"plot_height\":300,\"plot_width\":300,\"renderers\":[{\"id\":\"0ae23ab7-d7ab-4294-a5c8-cf0f4eb7d1f6\",\"type\":\"CategoricalAxis\"},{\"id\":\"41772e6e-c594-4988-ac6a-ffaadb812c83\",\"type\":\"Grid\"},{\"id\":\"e589683a-cb6b-4e4e-afcf-8024478e2e91\",\"type\":\"LinearAxis\"},{\"id\":\"61f0f485-c6cc-4016-9756-a48f498c9d38\",\"type\":\"Grid\"},{\"id\":\"f7cea7c8-8067-4e6a-bcbc-f865548aa6de\",\"type\":\"BoxAnnotation\"},{\"id\":\"9d82cf9b-21bd-4861-b9e1-7c78ea3eb067\",\"type\":\"GlyphRenderer\"}],\"title\":{\"id\":\"af8a75b5-b3fe-455a-9efc-0b33cd169a9d\",\"type\":\"Title\"},\"toolbar\":{\"id\":\"8e2267e6-a825-48bf-b2eb-0498af11add7\",\"type\":\"Toolbar\"},\"toolbar_location\":null,\"x_range\":{\"id\":\"8bf129a5-730f-4449-a8ea-291196124ebc\",\"type\":\"FactorRange\"},\"x_scale\":{\"id\":\"af907bbd-d89e-44f8-9288-0d7db72b71ff\",\"type\":\"CategoricalScale\"},\"y_range\":{\"id\":\"7a5d2ecd-c62d-40c4-9c3f-8b060cda5857\",\"type\":\"DataRange1d\"},\"y_scale\":{\"id\":\"63b7e117-4e27-4cfd-a3ce-9d3c285601e4\",\"type\":\"LinearScale\"}},\"id\":\"a1eb4da6-8f46-4981-ae05-1e2656a0447f\",\"subtype\":\"Figure\",\"type\":\"Plot\"},{\"attributes\":{\"fill_color\":{\"value\":\"#1f77b4\"},\"line_color\":{\"value\":\"#1f77b4\"},\"top\":{\"field\":\"flux\"},\"width\":{\"value\":0.9},\"x\":{\"field\":\"band\"}},\"id\":\"dfb3e4f2-dbd5-45f6-a45b-50d446d1e25f\",\"type\":\"VBar\"},{\"attributes\":{},\"id\":\"28a0466a-c265-4566-bcc4-3e272dc6c4f2\",\"type\":\"LinearScale\"},{\"attributes\":{\"fill_alpha\":{\"value\":0.1},\"fill_color\":{\"value\":\"#1f77b4\"},\"line_alpha\":{\"value\":0.1},\"line_color\":{\"value\":\"#1f77b4\"},\"top\":{\"field\":\"flux\"},\"width\":{\"value\":0.9},\"x\":{\"field\":\"band\"}},\"id\":\"a23b6fdb-a520-4f23-ae61-3f58e14867a0\",\"type\":\"VBar\"},{\"attributes\":{\"data_source\":{\"id\":\"9d699276-affd-4c70-bd84-2ef4df3f4d90\",\"type\":\"ColumnDataSource\"},\"glyph\":{\"id\":\"dfb3e4f2-dbd5-45f6-a45b-50d446d1e25f\",\"type\":\"VBar\"},\"hover_glyph\":null,\"muted_glyph\":null,\"nonselection_glyph\":{\"id\":\"4238dc17-a0c6-41ee-a957-794eca1de31e\",\"type\":\"VBar\"},\"selection_glyph\":null,\"view\":{\"id\":\"14470e5a-1ad9-4c63-bc1a-e53f7bfd4cb5\",\"type\":\"CDSView\"}},\"id\":\"9d82cf9b-21bd-4861-b9e1-7c78ea3eb067\",\"type\":\"GlyphRenderer\"},{\"attributes\":{\"overlay\":{\"id\":\"e99faf91-3941-4324-818d-a04d6f7793d7\",\"type\":\"BoxAnnotation\"}},\"id\":\"cdc8a254-e28f-4aa0-ab7f-f0716d2e3386\",\"type\":\"BoxZoomTool\"},{\"attributes\":{},\"id\":\"63b7e117-4e27-4cfd-a3ce-9d3c285601e4\",\"type\":\"LinearScale\"},{\"attributes\":{},\"id\":\"cdd61c6c-cf0d-4544-ba44-af81b61d58a2\",\"type\":\"CategoricalScale\"},{\"attributes\":{\"data_source\":{\"id\":\"a2d7a3e1-4ed9-498b-81b7-435daa5e1e7d\",\"type\":\"ColumnDataSource\"},\"glyph\":{\"id\":\"0ec9e53e-2789-4556-b27a-8479fe506738\",\"type\":\"VBar\"},\"hover_glyph\":null,\"muted_glyph\":null,\"nonselection_glyph\":{\"id\":\"a23b6fdb-a520-4f23-ae61-3f58e14867a0\",\"type\":\"VBar\"},\"selection_glyph\":null,\"view\":{\"id\":\"2c770810-a4ac-479b-b0d1-193268118f6e\",\"type\":\"CDSView\"}},\"id\":\"72f619af-a4f5-48e7-9df8-6a1d5c3b808d\",\"type\":\"GlyphRenderer\"},{\"attributes\":{},\"id\":\"34554919-f2a4-4d3a-9edd-c45330a1c092\",\"type\":\"ResetTool\"},{\"attributes\":{\"overlay\":{\"id\":\"f7cea7c8-8067-4e6a-bcbc-f865548aa6de\",\"type\":\"BoxAnnotation\"}},\"id\":\"c0ff1b48-5c9a-47a2-a3d6-b71374a99c54\",\"type\":\"BoxZoomTool\"},{\"attributes\":{},\"id\":\"3dfe83ab-46c5-4f4a-849e-a92797a3e7cc\",\"type\":\"ResetTool\"},{\"attributes\":{},\"id\":\"1df6ae6a-5c46-470b-a2ce-119bddfc6335\",\"type\":\"SaveTool\"},{\"attributes\":{\"axis_label\":\"spectral band\",\"formatter\":{\"id\":\"fb88fd4c-7f52-44fb-b3a2-1bf3a2d366ea\",\"type\":\"CategoricalTickFormatter\"},\"plot\":{\"id\":\"0c6165f2-c6c1-4f2c-af3b-a31d189b8cec\",\"subtype\":\"Figure\",\"type\":\"Plot\"},\"ticker\":{\"id\":\"0f0fe53a-4a03-4967-bd70-200c73c5ed38\",\"type\":\"CategoricalTicker\"}},\"id\":\"e086fc06-2bda-41cf-bb73-0e8594669eda\",\"type\":\"CategoricalAxis\"},{\"attributes\":{\"dimension\":1,\"plot\":{\"id\":\"0c6165f2-c6c1-4f2c-af3b-a31d189b8cec\",\"subtype\":\"Figure\",\"type\":\"Plot\"},\"ticker\":{\"id\":\"6ab1ccb5-02f4-4da9-9084-96596e322a51\",\"type\":\"BasicTicker\"}},\"id\":\"b60283a5-23cb-4e0a-8dad-c25ee5cfe3e5\",\"type\":\"Grid\"},{\"attributes\":{\"tools\":[{\"id\":\"f6b059f3-64b2-4740-be86-cd564f082d24\",\"type\":\"PanTool\"},{\"id\":\"375d1b71-94ad-49a9-8064-af170d03b604\",\"type\":\"WheelZoomTool\"},{\"id\":\"c6ee0ea4-d4c5-47f9-bb43-479316b12d86\",\"type\":\"BoxZoomTool\"},{\"id\":\"2492f52e-1038-4247-ad28-c2927ff0335e\",\"type\":\"SaveTool\"},{\"id\":\"34554919-f2a4-4d3a-9edd-c45330a1c092\",\"type\":\"ResetTool\"},{\"id\":\"b631804b-0e22-4769-8b54-b400cb93e262\",\"type\":\"HelpTool\"},{\"id\":\"18fd8ec5-0c04-498c-af5a-79d03602d9a8\",\"type\":\"PanTool\"},{\"id\":\"87f3e0ea-9ebf-485d-964e-578e5f711d34\",\"type\":\"WheelZoomTool\"},{\"id\":\"cdc8a254-e28f-4aa0-ab7f-f0716d2e3386\",\"type\":\"BoxZoomTool\"},{\"id\":\"1df6ae6a-5c46-470b-a2ce-119bddfc6335\",\"type\":\"SaveTool\"},{\"id\":\"3dfe83ab-46c5-4f4a-849e-a92797a3e7cc\",\"type\":\"ResetTool\"},{\"id\":\"5218230a-f763-49b4-bb5a-b8481880e9ed\",\"type\":\"HelpTool\"},{\"id\":\"ab95a328-d83a-4290-a70f-48757241eef1\",\"type\":\"PanTool\"},{\"id\":\"ad98d1f2-e1b2-434a-84b7-f996db7cd5dc\",\"type\":\"WheelZoomTool\"},{\"id\":\"c0ff1b48-5c9a-47a2-a3d6-b71374a99c54\",\"type\":\"BoxZoomTool\"},{\"id\":\"eeaa3db2-6ba6-41bd-b260-8528471f43e1\",\"type\":\"SaveTool\"},{\"id\":\"ea6f7d22-b6d9-4029-a292-443303c912a7\",\"type\":\"ResetTool\"},{\"id\":\"ff81a27e-772e-4aa3-990c-067519d4e5c4\",\"type\":\"HelpTool\"}]},\"id\":\"9627a4a0-c09b-407c-acf7-04848f3cea17\",\"type\":\"ProxyToolbar\"},{\"attributes\":{},\"id\":\"ab95a328-d83a-4290-a70f-48757241eef1\",\"type\":\"PanTool\"},{\"attributes\":{\"axis_label\":\"spectral band\",\"formatter\":{\"id\":\"9ffc2166-931e-4195-9a1b-0f874b2df2e4\",\"type\":\"CategoricalTickFormatter\"},\"plot\":{\"id\":\"a1eb4da6-8f46-4981-ae05-1e2656a0447f\",\"subtype\":\"Figure\",\"type\":\"Plot\"},\"ticker\":{\"id\":\"f7215c10-9619-49c9-90bd-d7269f8f4371\",\"type\":\"CategoricalTicker\"}},\"id\":\"0ae23ab7-d7ab-4294-a5c8-cf0f4eb7d1f6\",\"type\":\"CategoricalAxis\"},{\"attributes\":{\"bottom_units\":\"screen\",\"fill_alpha\":{\"value\":0.5},\"fill_color\":{\"value\":\"lightgrey\"},\"left_units\":\"screen\",\"level\":\"overlay\",\"line_alpha\":{\"value\":1.0},\"line_color\":{\"value\":\"black\"},\"line_dash\":[4,4],\"line_width\":{\"value\":2},\"plot\":null,\"render_mode\":\"css\",\"right_units\":\"screen\",\"top_units\":\"screen\"},\"id\":\"f7cea7c8-8067-4e6a-bcbc-f865548aa6de\",\"type\":\"BoxAnnotation\"},{\"attributes\":{\"callback\":null},\"id\":\"4662b822-4cf0-477b-8ba6-9200b125a0a4\",\"type\":\"DataRange1d\"},{\"attributes\":{\"plot\":{\"id\":\"a1eb4da6-8f46-4981-ae05-1e2656a0447f\",\"subtype\":\"Figure\",\"type\":\"Plot\"},\"ticker\":{\"id\":\"f7215c10-9619-49c9-90bd-d7269f8f4371\",\"type\":\"CategoricalTicker\"}},\"id\":\"41772e6e-c594-4988-ac6a-ffaadb812c83\",\"type\":\"Grid\"},{\"attributes\":{},\"id\":\"c4b27b2d-7e87-4e66-8b7a-cbc18ed56db4\",\"type\":\"UnionRenderers\"},{\"attributes\":{},\"id\":\"ad98d1f2-e1b2-434a-84b7-f996db7cd5dc\",\"type\":\"WheelZoomTool\"},{\"attributes\":{\"callback\":null,\"data\":{\"band\":[\"1\",\"2\",\"3\",\"4\",\"5\",\"6\",\"7\",\"8\",\"9\",\"10\",\"11\"],\"flux\":{\"__ndarray__\":\"AAAAAyUF9r4AgsR29wDYPwCfjzLiAtO/AFBWDFcHsD8AYMsr19vfPwDchqzJrrM/AEwuIXqtlz9gN3gVCPHBvwBuhhvw+cU/AKBF71TAjT8ArDGNy12APw==\",\"dtype\":\"float64\",\"shape\":[11]}},\"selected\":{\"id\":\"02b07447-17cc-4528-9434-8e82ccb35c8d\",\"type\":\"Selection\"},\"selection_policy\":{\"id\":\"14ef6dd2-323c-4be6-8975-a348fdd69b4e\",\"type\":\"UnionRenderers\"}},\"id\":\"a41d9b60-1494-4074-9968-238686879b9e\",\"type\":\"ColumnDataSource\"},{\"attributes\":{},\"id\":\"ea6f7d22-b6d9-4029-a292-443303c912a7\",\"type\":\"ResetTool\"},{\"attributes\":{},\"id\":\"5c706727-5df0-4465-b6fe-8808ee752296\",\"type\":\"BasicTickFormatter\"},{\"attributes\":{},\"id\":\"eeaa3db2-6ba6-41bd-b260-8528471f43e1\",\"type\":\"SaveTool\"},{\"attributes\":{\"source\":{\"id\":\"9d699276-affd-4c70-bd84-2ef4df3f4d90\",\"type\":\"ColumnDataSource\"}},\"id\":\"14470e5a-1ad9-4c63-bc1a-e53f7bfd4cb5\",\"type\":\"CDSView\"},{\"attributes\":{\"bottom_units\":\"screen\",\"fill_alpha\":{\"value\":0.5},\"fill_color\":{\"value\":\"lightgrey\"},\"left_units\":\"screen\",\"level\":\"overlay\",\"line_alpha\":{\"value\":1.0},\"line_color\":{\"value\":\"black\"},\"line_dash\":[4,4],\"line_width\":{\"value\":2},\"plot\":null,\"render_mode\":\"css\",\"right_units\":\"screen\",\"top_units\":\"screen\"},\"id\":\"57c002b1-e62f-4f47-9b49-116ad14344c1\",\"type\":\"BoxAnnotation\"},{\"attributes\":{\"below\":[{\"id\":\"e086fc06-2bda-41cf-bb73-0e8594669eda\",\"type\":\"CategoricalAxis\"}],\"left\":[{\"id\":\"766325ad-ec1e-4764-a83c-d8a191e21202\",\"type\":\"LinearAxis\"}],\"plot_height\":300,\"plot_width\":300,\"renderers\":[{\"id\":\"e086fc06-2bda-41cf-bb73-0e8594669eda\",\"type\":\"CategoricalAxis\"},{\"id\":\"cbb9fcad-5df9-4f69-9f0b-2a464ba99e6d\",\"type\":\"Grid\"},{\"id\":\"766325ad-ec1e-4764-a83c-d8a191e21202\",\"type\":\"LinearAxis\"},{\"id\":\"b60283a5-23cb-4e0a-8dad-c25ee5cfe3e5\",\"type\":\"Grid\"},{\"id\":\"57c002b1-e62f-4f47-9b49-116ad14344c1\",\"type\":\"BoxAnnotation\"},{\"id\":\"72f619af-a4f5-48e7-9df8-6a1d5c3b808d\",\"type\":\"GlyphRenderer\"}],\"title\":{\"id\":\"292a2045-7648-4b73-9f11-4624a6f092ae\",\"type\":\"Title\"},\"toolbar\":{\"id\":\"52de4492-ea78-484c-8751-e17ddf4fd45b\",\"type\":\"Toolbar\"},\"toolbar_location\":null,\"x_range\":{\"id\":\"28436edd-62a7-4b85-bf51-70d5ee139bbb\",\"type\":\"FactorRange\"},\"x_scale\":{\"id\":\"cdd61c6c-cf0d-4544-ba44-af81b61d58a2\",\"type\":\"CategoricalScale\"},\"y_range\":{\"id\":\"4662b822-4cf0-477b-8ba6-9200b125a0a4\",\"type\":\"DataRange1d\"},\"y_scale\":{\"id\":\"9c53ff0f-f397-4f1c-b1f5-b9d9a5cbcbfd\",\"type\":\"LinearScale\"}},\"id\":\"0c6165f2-c6c1-4f2c-af3b-a31d189b8cec\",\"subtype\":\"Figure\",\"type\":\"Plot\"},{\"attributes\":{\"active_drag\":\"auto\",\"active_inspect\":\"auto\",\"active_scroll\":\"auto\",\"active_tap\":\"auto\",\"tools\":[{\"id\":\"f6b059f3-64b2-4740-be86-cd564f082d24\",\"type\":\"PanTool\"},{\"id\":\"375d1b71-94ad-49a9-8064-af170d03b604\",\"type\":\"WheelZoomTool\"},{\"id\":\"c6ee0ea4-d4c5-47f9-bb43-479316b12d86\",\"type\":\"BoxZoomTool\"},{\"id\":\"2492f52e-1038-4247-ad28-c2927ff0335e\",\"type\":\"SaveTool\"},{\"id\":\"34554919-f2a4-4d3a-9edd-c45330a1c092\",\"type\":\"ResetTool\"},{\"id\":\"b631804b-0e22-4769-8b54-b400cb93e262\",\"type\":\"HelpTool\"}]},\"id\":\"52de4492-ea78-484c-8751-e17ddf4fd45b\",\"type\":\"Toolbar\"},{\"attributes\":{\"source\":{\"id\":\"a2d7a3e1-4ed9-498b-81b7-435daa5e1e7d\",\"type\":\"ColumnDataSource\"}},\"id\":\"2c770810-a4ac-479b-b0d1-193268118f6e\",\"type\":\"CDSView\"},{\"attributes\":{},\"id\":\"6ab1ccb5-02f4-4da9-9084-96596e322a51\",\"type\":\"BasicTicker\"},{\"attributes\":{},\"id\":\"375d1b71-94ad-49a9-8064-af170d03b604\",\"type\":\"WheelZoomTool\"},{\"attributes\":{\"plot\":null,\"text\":\"Atmosphere heating. CLIRAD (single-run) - CRD.\"},\"id\":\"af8a75b5-b3fe-455a-9efc-0b33cd169a9d\",\"type\":\"Title\"},{\"attributes\":{},\"id\":\"5218230a-f763-49b4-bb5a-b8481880e9ed\",\"type\":\"HelpTool\"},{\"attributes\":{\"callback\":null},\"id\":\"7a5d2ecd-c62d-40c4-9c3f-8b060cda5857\",\"type\":\"DataRange1d\"},{\"attributes\":{\"plot\":null,\"text\":\"TOA flux. CLIRAD (single-run) - CRD.\"},\"id\":\"292a2045-7648-4b73-9f11-4624a6f092ae\",\"type\":\"Title\"},{\"attributes\":{},\"id\":\"1705c05b-c2b6-40d3-a274-99c427ff1630\",\"type\":\"CategoricalScale\"},{\"attributes\":{\"callback\":null,\"factors\":[\"1\",\"2\",\"3\",\"4\",\"5\",\"6\",\"7\",\"8\",\"9\",\"10\",\"11\"]},\"id\":\"8bf129a5-730f-4449-a8ea-291196124ebc\",\"type\":\"FactorRange\"},{\"attributes\":{\"children\":[{\"id\":\"4262702e-7058-45b6-bf46-f28c14005cb8\",\"type\":\"Row\"}]},\"id\":\"5f5ada3e-e8aa-4e99-9f0f-d7eebada3e14\",\"type\":\"Column\"},{\"attributes\":{\"dimension\":1,\"plot\":{\"id\":\"5627629d-ad45-4488-9824-7ad6dcf9b6bc\",\"subtype\":\"Figure\",\"type\":\"Plot\"},\"ticker\":{\"id\":\"bc44ff1f-b99c-413d-abf4-ba09d546a040\",\"type\":\"BasicTicker\"}},\"id\":\"6fb5037f-2dce-4c77-8c87-79719afa1ce9\",\"type\":\"Grid\"},{\"attributes\":{\"fill_alpha\":{\"value\":0.1},\"fill_color\":{\"value\":\"#1f77b4\"},\"line_alpha\":{\"value\":0.1},\"line_color\":{\"value\":\"#1f77b4\"},\"top\":{\"field\":\"flux\"},\"width\":{\"value\":0.9},\"x\":{\"field\":\"band\"}},\"id\":\"d3a61e2f-218d-4f4c-8c95-91c866ec4f9e\",\"type\":\"VBar\"},{\"attributes\":{},\"id\":\"87f3e0ea-9ebf-485d-964e-578e5f711d34\",\"type\":\"WheelZoomTool\"},{\"attributes\":{},\"id\":\"ff81a27e-772e-4aa3-990c-067519d4e5c4\",\"type\":\"HelpTool\"},{\"attributes\":{},\"id\":\"f7215c10-9619-49c9-90bd-d7269f8f4371\",\"type\":\"CategoricalTicker\"},{\"attributes\":{\"fill_color\":{\"value\":\"#1f77b4\"},\"line_color\":{\"value\":\"#1f77b4\"},\"top\":{\"field\":\"flux\"},\"width\":{\"value\":0.9},\"x\":{\"field\":\"band\"}},\"id\":\"002b5709-ff15-4900-bc8c-5ddc36d0ea38\",\"type\":\"VBar\"},{\"attributes\":{},\"id\":\"18fd8ec5-0c04-498c-af5a-79d03602d9a8\",\"type\":\"PanTool\"},{\"attributes\":{\"callback\":null,\"factors\":[\"1\",\"2\",\"3\",\"4\",\"5\",\"6\",\"7\",\"8\",\"9\",\"10\",\"11\"]},\"id\":\"d3cc2333-7fdb-48d4-9817-92ec370b9d80\",\"type\":\"FactorRange\"},{\"attributes\":{},\"id\":\"b631804b-0e22-4769-8b54-b400cb93e262\",\"type\":\"HelpTool\"},{\"attributes\":{\"callback\":null,\"factors\":[\"1\",\"2\",\"3\",\"4\",\"5\",\"6\",\"7\",\"8\",\"9\",\"10\",\"11\"]},\"id\":\"28436edd-62a7-4b85-bf51-70d5ee139bbb\",\"type\":\"FactorRange\"},{\"attributes\":{},\"id\":\"af907bbd-d89e-44f8-9288-0d7db72b71ff\",\"type\":\"CategoricalScale\"},{\"attributes\":{\"callback\":null},\"id\":\"0d73b139-2d07-488b-ab59-9c87762f4f36\",\"type\":\"DataRange1d\"},{\"attributes\":{},\"id\":\"9d9c0991-3f54-477f-b737-9e51321cbc95\",\"type\":\"Selection\"},{\"attributes\":{\"toolbar\":{\"id\":\"9627a4a0-c09b-407c-acf7-04848f3cea17\",\"type\":\"ProxyToolbar\"},\"toolbar_location\":\"above\"},\"id\":\"23bc714d-9664-4982-8b0c-6b52b5585a5c\",\"type\":\"ToolbarBox\"},{\"attributes\":{\"fill_color\":{\"value\":\"#1f77b4\"},\"line_color\":{\"value\":\"#1f77b4\"},\"top\":{\"field\":\"flux\"},\"width\":{\"value\":0.9},\"x\":{\"field\":\"band\"}},\"id\":\"0ec9e53e-2789-4556-b27a-8479fe506738\",\"type\":\"VBar\"},{\"attributes\":{},\"id\":\"f6b059f3-64b2-4740-be86-cd564f082d24\",\"type\":\"PanTool\"},{\"attributes\":{\"bottom_units\":\"screen\",\"fill_alpha\":{\"value\":0.5},\"fill_color\":{\"value\":\"lightgrey\"},\"left_units\":\"screen\",\"level\":\"overlay\",\"line_alpha\":{\"value\":1.0},\"line_color\":{\"value\":\"black\"},\"line_dash\":[4,4],\"line_width\":{\"value\":2},\"plot\":null,\"render_mode\":\"css\",\"right_units\":\"screen\",\"top_units\":\"screen\"},\"id\":\"e99faf91-3941-4324-818d-a04d6f7793d7\",\"type\":\"BoxAnnotation\"},{\"attributes\":{\"axis_label\":\"flux (W m-2)\",\"formatter\":{\"id\":\"33a47644-0bf3-4852-8c76-b715710acdbc\",\"type\":\"BasicTickFormatter\"},\"plot\":{\"id\":\"0c6165f2-c6c1-4f2c-af3b-a31d189b8cec\",\"subtype\":\"Figure\",\"type\":\"Plot\"},\"ticker\":{\"id\":\"6ab1ccb5-02f4-4da9-9084-96596e322a51\",\"type\":\"BasicTicker\"}},\"id\":\"766325ad-ec1e-4764-a83c-d8a191e21202\",\"type\":\"LinearAxis\"},{\"attributes\":{\"overlay\":{\"id\":\"57c002b1-e62f-4f47-9b49-116ad14344c1\",\"type\":\"BoxAnnotation\"}},\"id\":\"c6ee0ea4-d4c5-47f9-bb43-479316b12d86\",\"type\":\"BoxZoomTool\"},{\"attributes\":{\"active_drag\":\"auto\",\"active_inspect\":\"auto\",\"active_scroll\":\"auto\",\"active_tap\":\"auto\",\"tools\":[{\"id\":\"ab95a328-d83a-4290-a70f-48757241eef1\",\"type\":\"PanTool\"},{\"id\":\"ad98d1f2-e1b2-434a-84b7-f996db7cd5dc\",\"type\":\"WheelZoomTool\"},{\"id\":\"c0ff1b48-5c9a-47a2-a3d6-b71374a99c54\",\"type\":\"BoxZoomTool\"},{\"id\":\"eeaa3db2-6ba6-41bd-b260-8528471f43e1\",\"type\":\"SaveTool\"},{\"id\":\"ea6f7d22-b6d9-4029-a292-443303c912a7\",\"type\":\"ResetTool\"},{\"id\":\"ff81a27e-772e-4aa3-990c-067519d4e5c4\",\"type\":\"HelpTool\"}]},\"id\":\"8e2267e6-a825-48bf-b2eb-0498af11add7\",\"type\":\"Toolbar\"},{\"attributes\":{\"callback\":null,\"data\":{\"band\":[\"1\",\"2\",\"3\",\"4\",\"5\",\"6\",\"7\",\"8\",\"9\",\"10\",\"11\"],\"flux\":{\"__ndarray__\":\"AIMde81dyD8AYEI3wVi1vwDYAox4/Ii/gF6tJMO7zj/APGNfsvHOvwAAiSZQxMK/gIzWUdUE1z8A5hw8E5qkP8AoB7MJMMi/QL8FwBXcvT+AeTwtP3CtPw==\",\"dtype\":\"float64\",\"shape\":[11]}},\"selected\":{\"id\":\"9d9c0991-3f54-477f-b737-9e51321cbc95\",\"type\":\"Selection\"},\"selection_policy\":{\"id\":\"c4b27b2d-7e87-4e66-8b7a-cbc18ed56db4\",\"type\":\"UnionRenderers\"}},\"id\":\"9d699276-affd-4c70-bd84-2ef4df3f4d90\",\"type\":\"ColumnDataSource\"},{\"attributes\":{\"active_drag\":\"auto\",\"active_inspect\":\"auto\",\"active_scroll\":\"auto\",\"active_tap\":\"auto\",\"tools\":[{\"id\":\"18fd8ec5-0c04-498c-af5a-79d03602d9a8\",\"type\":\"PanTool\"},{\"id\":\"87f3e0ea-9ebf-485d-964e-578e5f711d34\",\"type\":\"WheelZoomTool\"},{\"id\":\"cdc8a254-e28f-4aa0-ab7f-f0716d2e3386\",\"type\":\"BoxZoomTool\"},{\"id\":\"1df6ae6a-5c46-470b-a2ce-119bddfc6335\",\"type\":\"SaveTool\"},{\"id\":\"3dfe83ab-46c5-4f4a-849e-a92797a3e7cc\",\"type\":\"ResetTool\"},{\"id\":\"5218230a-f763-49b4-bb5a-b8481880e9ed\",\"type\":\"HelpTool\"}]},\"id\":\"d73515f6-1250-4755-900d-3f891237de5b\",\"type\":\"Toolbar\"},{\"attributes\":{},\"id\":\"fb88fd4c-7f52-44fb-b3a2-1bf3a2d366ea\",\"type\":\"CategoricalTickFormatter\"},{\"attributes\":{\"children\":[{\"id\":\"23bc714d-9664-4982-8b0c-6b52b5585a5c\",\"type\":\"ToolbarBox\"},{\"id\":\"5f5ada3e-e8aa-4e99-9f0f-d7eebada3e14\",\"type\":\"Column\"}]},\"id\":\"9c0df594-db77-4641-8002-926a3002933c\",\"type\":\"Column\"},{\"attributes\":{\"plot\":{\"id\":\"0c6165f2-c6c1-4f2c-af3b-a31d189b8cec\",\"subtype\":\"Figure\",\"type\":\"Plot\"},\"ticker\":{\"id\":\"0f0fe53a-4a03-4967-bd70-200c73c5ed38\",\"type\":\"CategoricalTicker\"}},\"id\":\"cbb9fcad-5df9-4f69-9f0b-2a464ba99e6d\",\"type\":\"Grid\"},{\"attributes\":{},\"id\":\"2492f52e-1038-4247-ad28-c2927ff0335e\",\"type\":\"SaveTool\"},{\"attributes\":{\"axis_label\":\"spectral band\",\"formatter\":{\"id\":\"ef05852a-bf70-481f-a17f-0275299bcecd\",\"type\":\"CategoricalTickFormatter\"},\"plot\":{\"id\":\"5627629d-ad45-4488-9824-7ad6dcf9b6bc\",\"subtype\":\"Figure\",\"type\":\"Plot\"},\"ticker\":{\"id\":\"6f25427b-d156-4c71-bb9f-8153a743323d\",\"type\":\"CategoricalTicker\"}},\"id\":\"b16096ab-ad57-4a52-9edc-627a5e643e3e\",\"type\":\"CategoricalAxis\"}],\"root_ids\":[\"9c0df594-db77-4641-8002-926a3002933c\"]},\"title\":\"Bokeh Application\",\"version\":\"0.12.16\"}};\n",
       "  var render_items = [{\"docid\":\"38a73238-6957-456a-9652-d09d3dabeb4e\",\"elementid\":\"e4742f95-a8be-4ec8-a4f5-d707ff16c995\",\"modelid\":\"9c0df594-db77-4641-8002-926a3002933c\"}];\n",
       "  root.Bokeh.embed.embed_items_notebook(docs_json, render_items);\n",
       "\n",
       "  }\n",
       "  if (root.Bokeh !== undefined) {\n",
       "    embed_document(root);\n",
       "  } else {\n",
       "    var attempts = 0;\n",
       "    var timer = setInterval(function(root) {\n",
       "      if (root.Bokeh !== undefined) {\n",
       "        embed_document(root);\n",
       "        clearInterval(timer);\n",
       "      }\n",
       "      attempts++;\n",
       "      if (attempts > 100) {\n",
       "        console.log(\"Bokeh: ERROR: Unable to run BokehJS code because BokehJS library is missing\")\n",
       "        clearInterval(timer);\n",
       "      }\n",
       "    }, 10, root)\n",
       "  }\n",
       "})(window);"
      ],
      "application/vnd.bokehjs_exec.v0+json": ""
     },
     "metadata": {
      "application/vnd.bokehjs_exec.v0+json": {
       "id": "9c0df594-db77-4641-8002-926a3002933c"
      }
     },
     "output_type": "display_data"
    },
    {
     "data": {
      "text/markdown": [
       "*FIGURE.* Difference between CLIRAD and CRD in TOA, SFC and net atmosphere flux, in each spectral band."
      ],
      "text/plain": [
       "<IPython.core.display.Markdown object>"
      ]
     },
     "metadata": {},
     "output_type": "display_data"
    },
    {
     "data": {
      "text/html": [
       "<div>\n",
       "<style scoped>\n",
       "    .dataframe tbody tr th:only-of-type {\n",
       "        vertical-align: middle;\n",
       "    }\n",
       "\n",
       "    .dataframe tbody tr th {\n",
       "        vertical-align: top;\n",
       "    }\n",
       "\n",
       "    .dataframe thead th {\n",
       "        text-align: right;\n",
       "    }\n",
       "</style>\n",
       "<table border=\"1\" class=\"dataframe\">\n",
       "  <thead>\n",
       "    <tr style=\"text-align: right;\">\n",
       "      <th></th>\n",
       "      <th>OLR flux</th>\n",
       "      <th>SFC flux</th>\n",
       "      <th>ATM heating</th>\n",
       "    </tr>\n",
       "    <tr>\n",
       "      <th>Sum over bands</th>\n",
       "      <th></th>\n",
       "      <th></th>\n",
       "      <th></th>\n",
       "    </tr>\n",
       "  </thead>\n",
       "  <tbody>\n",
       "    <tr>\n",
       "      <th>old CLIRAD - CRD</th>\n",
       "      <td>0.09</td>\n",
       "      <td>1.54</td>\n",
       "      <td>-1.31</td>\n",
       "    </tr>\n",
       "    <tr>\n",
       "      <th>CLIRAD (single-run) - CRD</th>\n",
       "      <td>1.12</td>\n",
       "      <td>0.79</td>\n",
       "      <td>0.33</td>\n",
       "    </tr>\n",
       "    <tr>\n",
       "      <th>CRD</th>\n",
       "      <td>-290.39</td>\n",
       "      <td>308.14</td>\n",
       "      <td>-174.89</td>\n",
       "    </tr>\n",
       "  </tbody>\n",
       "</table>\n",
       "</div>"
      ],
      "text/plain": [
       "                           OLR flux  SFC flux  ATM heating\n",
       "Sum over bands                                            \n",
       "old CLIRAD - CRD               0.09      1.54        -1.31\n",
       "CLIRAD (single-run) - CRD      1.12      0.79         0.33\n",
       "CRD                         -290.39    308.14      -174.89"
      ]
     },
     "metadata": {},
     "output_type": "display_data"
    },
    {
     "data": {
      "text/markdown": [
       "*TABLE.* Difference between CLIRAD and CRD in TOA, SFC and net atmosphere flux, over all spectral bands. CRD's TOA, SFC and net atmosphere flux, over all spectral bands."
      ],
      "text/plain": [
       "<IPython.core.display.Markdown object>"
      ]
     },
     "metadata": {},
     "output_type": "display_data"
    },
    {
     "data": {
      "text/html": [
       "<a id=\"Cooling_rates._saw.\"></a>"
      ],
      "text/plain": [
       "<IPython.core.display.HTML object>"
      ]
     },
     "metadata": {},
     "output_type": "display_data"
    },
    {
     "data": {
      "text/markdown": [
       "# Cooling rates. saw."
      ],
      "text/plain": [
       "<IPython.core.display.Markdown object>"
      ]
     },
     "metadata": {},
     "output_type": "display_data"
    },
    {
     "data": {
      "text/html": [
       "\n",
       "<div class=\"bk-root\">\n",
       "    <div class=\"bk-plotdiv\" id=\"2e9c880c-2dfa-430e-a8d6-1720a15461d2\"></div>\n",
       "</div>"
      ]
     },
     "metadata": {},
     "output_type": "display_data"
    },
    {
     "data": {
      "application/javascript": [
       "(function(root) {\n",
       "  function embed_document(root) {\n",
       "    \n",
       "  var docs_json = {\"b2896eb4-ea99-4197-8e38-8f5250baf3c4\":{\"roots\":{\"references\":[{\"attributes\":{},\"id\":\"4086a860-5f03-4d93-994a-4552e1746d7e\",\"type\":\"Selection\"},{\"attributes\":{},\"id\":\"0f1ee3dd-3762-4136-bc39-1bbd0ee14ae3\",\"type\":\"UnionRenderers\"},{\"attributes\":{},\"id\":\"23022b31-1dc4-4ff3-85ad-5ab909933e22\",\"type\":\"Selection\"},{\"attributes\":{\"callback\":null,\"end\":0.01,\"start\":1020},\"id\":\"ccfe1c04-d916-4305-aba0-bf4c0eddb80c\",\"type\":\"Range1d\"},{\"attributes\":{\"ticker\":null},\"id\":\"79e33e50-1a63-47aa-8183-6114d0b088a9\",\"type\":\"LogTickFormatter\"},{\"attributes\":{},\"id\":\"d147279d-903b-4de5-b02d-f72e9127dd13\",\"type\":\"BasicTickFormatter\"},{\"attributes\":{\"dimension\":1,\"plot\":{\"id\":\"d85642d9-064e-4b2b-9bea-e5d43e867744\",\"subtype\":\"Figure\",\"type\":\"Plot\"},\"ticker\":{\"id\":\"7b3e8370-413f-4171-b5da-a0426f5556e4\",\"type\":\"BasicTicker\"}},\"id\":\"801a7faf-169a-4517-b0ef-d0138a2c4f64\",\"type\":\"Grid\"},{\"attributes\":{\"callback\":null,\"data\":{\"x\":{\"__ndarray__\":\"0CYBcvU5UkCik9zf2GVBQF1VoNfLZ0BAVLxhiVXTPUDD1Wu1wJM6QFJyB025jjdAU6Aw5+b/NECYe1uuDfgyQB6bYtVTbTFAPxYSAF1HMEA00pYVm9QuQLolHbMzgC1AntlwirGsLECv+G9SjE4rQJH6ZLBp0ShAsLZQyPd/JkDyjgyf2PwkQLgyNGsrJyRAA13QbJD6I0C8hy0ilI4kQOVTXCEgcSZAovOGvZSGJUBVc/ZmUOIgQOf/6GHAyRlAcE8fAOBSFEDRur1U//gPQGFD9ZbokghAQsqHuSqSA0C91ci3W0UBQCtRQfvz7/4/kh8pntyB+j9t1/n+4TX1P773MAUjFfI/RgzR+CI28T8hBW8WHK7uPzVKjJfU8uk/0FPt4/z65T/wVYqzMPDhPz7K9C5CXuE/8+hSn9hY4T/9PPCkR6rhP1XsIC599OA/66X1nBCX3z/YbRM56QjcPz4dkSQc/dM/S7Wb8Fq00T+/yQdmX0vcP7TrGf476eM/WqNPJoWO7D9qOH1bcwDzP2bw+R5DQ/Y/RLSuQOQp+D8+aif8yAz5P0Wv6eBKRfk/0i2+IN4R+T/ik8QNFZr4PyS5UD5j/Pc/yJ68zXRG9z/2CHPL54H2P59SOhwKtPU/npkP8dfg9D8NlmVcdQz0P80ugRvuOvM/byxiAHN18j9USVZie8nxP5l9lNXYSPE/OB+F0UYP8T8Y7dsUCTHxP3EBgTHPcPE/bfx15p8S8T8FT+xkGtTuP6mdG7rkxuk/pboqTkHX5D/CrN8qGYngP7R4ZaL+htU/\",\"dtype\":\"float64\",\"shape\":[75]},\"y\":{\"__ndarray__\":\"GhExyth1ND/Sv8nbtpRIP2vylNV0PVE/aTum7souWD/At0SJ8fVgPw3Iuahxymc/MSNhhJWvcD/bTfBN02d3P2zb5nxnaoA/CD5h5MAGhz8NmeH1TyaQP+zrCsc9p5Y/LbKd76fGnz/bLW5ISEmmPww9YvTcQq8/JV2OstnstT8Er5Y7M8G+P0c+r3jqkcU/5h99k6ZBzj88bCIzFzjVP4enV8oyxN0//yH99nXg5D8qOpLLf0jtP5kqGJXUifQ/c9cS8kHP/D+/DpwzojQEQIEmwoanVwxA4lgXt9HgE0BSSZ2AJuIbQAMJih9jjiNA5q4l5INuK0AwTKYKRj0zQNv5fmq8/DpAaCJseHrtQkB/+zpwzoxKQM3MzMzMeFJAZmZmZmZqWEAAAAAAAFxeQM3MzMzMJmJAmpmZmZkfZUBmZmZmZhhoQDMzMzMzEWtAAAAAAAAKbkBmZmZmZoFwQM3MzMzM/XFAMzMzMzN6c0CamZmZmfZ0QAAAAAAAc3ZAZmZmZmbvd0DNzMzMzGt5QDMzMzMz6HpAmpmZmZlkfEAAAAAAAOF9QGZmZmZmXX9AZmZmZuZsgECamZmZGSuBQM3MzMxM6YFAAAAAAICngkAzMzMzs2WDQGZmZmbmI4RAmpmZmRnihEDNzMzMTKCFQAAAAACAXoZAMzMzM7Mch0BmZmZm5tqHQJqZmZkZmYhAzczMzExXiUAAAAAAgBWKQDMzMzOz04pAZmZmZuaRi0CamZmZGVCMQM3MzMxMDo1AAAAAAIDMjUAzMzMzs4qOQGZmZmbmSI9A\",\"dtype\":\"float64\",\"shape\":[75]}},\"selected\":{\"id\":\"66fd9844-18a8-4b67-9d03-a656f703a496\",\"type\":\"Selection\"},\"selection_policy\":{\"id\":\"175dadb4-e8f4-4278-a65f-bfcd073e14d8\",\"type\":\"UnionRenderers\"}},\"id\":\"855894ec-8a8d-47e7-8f75-5942987fa16b\",\"type\":\"ColumnDataSource\"},{\"attributes\":{},\"id\":\"2bd38cce-9d97-46be-874c-40cfa046c7cd\",\"type\":\"BasicTickFormatter\"},{\"attributes\":{\"axis_label\":\"pressure [mb]\",\"formatter\":{\"id\":\"2bd38cce-9d97-46be-874c-40cfa046c7cd\",\"type\":\"BasicTickFormatter\"},\"plot\":{\"id\":\"d85642d9-064e-4b2b-9bea-e5d43e867744\",\"subtype\":\"Figure\",\"type\":\"Plot\"},\"ticker\":{\"id\":\"7b3e8370-413f-4171-b5da-a0426f5556e4\",\"type\":\"BasicTicker\"}},\"id\":\"dd7931d2-8d30-43b6-87a9-695e199b9fa4\",\"type\":\"LinearAxis\"},{\"attributes\":{\"children\":[{\"id\":\"d85642d9-064e-4b2b-9bea-e5d43e867744\",\"subtype\":\"Figure\",\"type\":\"Plot\"},{\"id\":\"152f841e-248c-444d-b607-e32c30b2cd8a\",\"subtype\":\"Figure\",\"type\":\"Plot\"},{\"id\":\"53860a65-951e-408d-bd10-f4f6424b2b81\",\"subtype\":\"Figure\",\"type\":\"Plot\"}]},\"id\":\"a6e79fb9-d331-4d28-a2bb-a809cb66fad9\",\"type\":\"Row\"},{\"attributes\":{\"source\":{\"id\":\"a3dbb550-a6d0-4b3c-8449-b0ac72feb7a1\",\"type\":\"ColumnDataSource\"}},\"id\":\"90b127fb-effe-4b6d-ab6b-26078396db9d\",\"type\":\"CDSView\"},{\"attributes\":{},\"id\":\"197f1f9a-3c8b-4a57-8782-e8cbb1f792d3\",\"type\":\"UnionRenderers\"},{\"attributes\":{\"children\":[{\"id\":\"38377353-b8de-496e-84ec-cf2d5a9d7f57\",\"type\":\"ToolbarBox\"},{\"id\":\"e01a2016-0504-4a27-9579-416ee9ae9eab\",\"type\":\"Column\"}]},\"id\":\"56719b22-ebd4-472f-b074-90ce8a214668\",\"type\":\"Column\"},{\"attributes\":{},\"id\":\"7b3e8370-413f-4171-b5da-a0426f5556e4\",\"type\":\"BasicTicker\"},{\"attributes\":{},\"id\":\"66fd9844-18a8-4b67-9d03-a656f703a496\",\"type\":\"Selection\"},{\"attributes\":{},\"id\":\"edf83877-66e1-4046-a3d5-6b7492e5e6f8\",\"type\":\"UnionRenderers\"},{\"attributes\":{\"data_source\":{\"id\":\"855894ec-8a8d-47e7-8f75-5942987fa16b\",\"type\":\"ColumnDataSource\"},\"glyph\":{\"id\":\"b5f9107b-140a-4702-ae69-0a9d92241686\",\"type\":\"Circle\"},\"hover_glyph\":null,\"muted_glyph\":null,\"nonselection_glyph\":{\"id\":\"b8b42606-0e56-4355-a485-386a4f97c8eb\",\"type\":\"Circle\"},\"selection_glyph\":null,\"view\":{\"id\":\"46fd8f7c-49f7-480e-81ab-1124f645c4e0\",\"type\":\"CDSView\"}},\"id\":\"0cbf1020-4c64-4d39-ab27-dc41448e753b\",\"type\":\"GlyphRenderer\"},{\"attributes\":{\"data_source\":{\"id\":\"a3dbb550-a6d0-4b3c-8449-b0ac72feb7a1\",\"type\":\"ColumnDataSource\"},\"glyph\":{\"id\":\"d089568a-0409-4479-bf3a-f6010796a316\",\"type\":\"Line\"},\"hover_glyph\":null,\"muted_glyph\":null,\"nonselection_glyph\":{\"id\":\"861dae23-9377-47b5-89a4-7cd53336c9f7\",\"type\":\"Line\"},\"selection_glyph\":null,\"view\":{\"id\":\"90b127fb-effe-4b6d-ab6b-26078396db9d\",\"type\":\"CDSView\"}},\"id\":\"a3bb0710-9c67-4de8-8e9b-e1d3e5d52502\",\"type\":\"GlyphRenderer\"},{\"attributes\":{\"fill_alpha\":{\"value\":0.1},\"fill_color\":{\"value\":\"#1f77b4\"},\"line_alpha\":{\"value\":0.1},\"line_color\":{\"value\":\"#1f77b4\"},\"x\":{\"field\":\"x\"},\"y\":{\"field\":\"y\"}},\"id\":\"b8b42606-0e56-4355-a485-386a4f97c8eb\",\"type\":\"Circle\"},{\"attributes\":{\"plot\":null,\"text\":\"\"},\"id\":\"f27d79f9-d0f8-4a18-9c1f-e8b68c7b8d66\",\"type\":\"Title\"},{\"attributes\":{\"children\":[{\"id\":\"a6e79fb9-d331-4d28-a2bb-a809cb66fad9\",\"type\":\"Row\"}]},\"id\":\"e01a2016-0504-4a27-9579-416ee9ae9eab\",\"type\":\"Column\"},{\"attributes\":{\"label\":{\"value\":\"CLIRAD (single-run) - CRD\"},\"renderers\":[{\"id\":\"f09ae9e6-c5ff-469d-8e80-0b224661d488\",\"type\":\"GlyphRenderer\"},{\"id\":\"a3bb0710-9c67-4de8-8e9b-e1d3e5d52502\",\"type\":\"GlyphRenderer\"}]},\"id\":\"90a84640-d2fe-4a20-8ba1-0e1d611449ba\",\"type\":\"LegendItem\"},{\"attributes\":{\"plot\":null,\"text\":\"\"},\"id\":\"e81c26de-fff7-4b00-a411-73ef22a3ed4b\",\"type\":\"Title\"},{\"attributes\":{},\"id\":\"2be1d75b-d663-488c-a0ed-abb4a9bce066\",\"type\":\"BasicTicker\"},{\"attributes\":{\"active_drag\":\"auto\",\"active_inspect\":\"auto\",\"active_scroll\":\"auto\",\"active_tap\":\"auto\",\"tools\":[{\"id\":\"c3cc4979-5c77-4118-b9af-130d264250aa\",\"type\":\"PanTool\"},{\"id\":\"0827ec5c-31a4-4612-a86b-4a318da9c27a\",\"type\":\"WheelZoomTool\"},{\"id\":\"5611d6f8-f29c-458e-a42d-b99c75ff64d0\",\"type\":\"BoxZoomTool\"},{\"id\":\"4e07a27c-3168-4025-912e-3cdc99514a54\",\"type\":\"SaveTool\"},{\"id\":\"54770971-e1a0-48a6-9fd9-7ce7e9fc5c89\",\"type\":\"ResetTool\"},{\"id\":\"2a082e7b-2073-48f2-abe3-9003ae536292\",\"type\":\"HelpTool\"}]},\"id\":\"52e32939-4d39-49a5-8510-0bd244e59b59\",\"type\":\"Toolbar\"},{\"attributes\":{\"toolbar\":{\"id\":\"421c19fa-721d-4101-9f7d-9d7715bd1460\",\"type\":\"ProxyToolbar\"},\"toolbar_location\":\"above\"},\"id\":\"38377353-b8de-496e-84ec-cf2d5a9d7f57\",\"type\":\"ToolbarBox\"},{\"attributes\":{\"tools\":[{\"id\":\"b3ff4959-0016-4eae-b950-73e52f5cd384\",\"type\":\"PanTool\"},{\"id\":\"d83c38ed-6d18-4dc2-bcad-551655b9ee52\",\"type\":\"WheelZoomTool\"},{\"id\":\"cb208ebd-f183-4632-b9ce-e9372cbee35f\",\"type\":\"BoxZoomTool\"},{\"id\":\"5a37727d-468f-4ff5-8654-9e9c36e35991\",\"type\":\"SaveTool\"},{\"id\":\"3f6a5e85-2b89-460a-9c89-bff3449c03c0\",\"type\":\"ResetTool\"},{\"id\":\"45a61a84-f957-42c5-907a-67c758a177e9\",\"type\":\"HelpTool\"},{\"id\":\"2ddb82eb-3277-42ca-bad8-f41cbe27d9c6\",\"type\":\"PanTool\"},{\"id\":\"b4010a98-86b7-4e3b-bf0c-c2b8ea9567c9\",\"type\":\"WheelZoomTool\"},{\"id\":\"5f1a6986-7839-4c38-98e7-a0cb33bf084a\",\"type\":\"BoxZoomTool\"},{\"id\":\"3ebee1fa-abb6-4c47-999d-78d0fc3fc582\",\"type\":\"SaveTool\"},{\"id\":\"c1cc3d6d-c8b9-495f-9f00-30d03bd08a8f\",\"type\":\"ResetTool\"},{\"id\":\"bc47a130-ec0c-4046-938a-9f212db29e0e\",\"type\":\"HelpTool\"},{\"id\":\"c3cc4979-5c77-4118-b9af-130d264250aa\",\"type\":\"PanTool\"},{\"id\":\"0827ec5c-31a4-4612-a86b-4a318da9c27a\",\"type\":\"WheelZoomTool\"},{\"id\":\"5611d6f8-f29c-458e-a42d-b99c75ff64d0\",\"type\":\"BoxZoomTool\"},{\"id\":\"4e07a27c-3168-4025-912e-3cdc99514a54\",\"type\":\"SaveTool\"},{\"id\":\"54770971-e1a0-48a6-9fd9-7ce7e9fc5c89\",\"type\":\"ResetTool\"},{\"id\":\"2a082e7b-2073-48f2-abe3-9003ae536292\",\"type\":\"HelpTool\"}]},\"id\":\"421c19fa-721d-4101-9f7d-9d7715bd1460\",\"type\":\"ProxyToolbar\"},{\"attributes\":{},\"id\":\"e5874a97-2c4a-4429-b263-314d6681129d\",\"type\":\"UnionRenderers\"},{\"attributes\":{},\"id\":\"13ee71f0-8b7c-4af4-a085-007390ced4cc\",\"type\":\"BasicTickFormatter\"},{\"attributes\":{},\"id\":\"bc12b086-5ce8-4827-840b-aa720dceed94\",\"type\":\"Selection\"},{\"attributes\":{\"plot\":{\"id\":\"d85642d9-064e-4b2b-9bea-e5d43e867744\",\"subtype\":\"Figure\",\"type\":\"Plot\"},\"ticker\":{\"id\":\"2be1d75b-d663-488c-a0ed-abb4a9bce066\",\"type\":\"BasicTicker\"}},\"id\":\"0a1c9972-2d42-418c-b61f-562c4746f19c\",\"type\":\"Grid\"},{\"attributes\":{\"source\":{\"id\":\"855894ec-8a8d-47e7-8f75-5942987fa16b\",\"type\":\"ColumnDataSource\"}},\"id\":\"46fd8f7c-49f7-480e-81ab-1124f645c4e0\",\"type\":\"CDSView\"},{\"attributes\":{},\"id\":\"0f061209-b6bb-478b-9445-1731fb66e258\",\"type\":\"Selection\"},{\"attributes\":{},\"id\":\"175dadb4-e8f4-4278-a65f-bfcd073e14d8\",\"type\":\"UnionRenderers\"},{\"attributes\":{\"ticker\":null},\"id\":\"daf87b9b-9e19-48eb-be02-71117bc5d9be\",\"type\":\"LogTickFormatter\"},{\"attributes\":{\"callback\":null,\"end\":16.436989857875947,\"start\":0.29783215711705},\"id\":\"fda132ed-6b78-4c2c-8532-5e489c85dd5c\",\"type\":\"Range1d\"},{\"attributes\":{\"fill_alpha\":{\"value\":0.7},\"fill_color\":{\"value\":\"#4daf4a\"},\"line_alpha\":{\"value\":0.7},\"line_color\":{\"value\":\"#4daf4a\"},\"x\":{\"field\":\"x\"},\"y\":{\"field\":\"y\"}},\"id\":\"b5f9107b-140a-4702-ae69-0a9d92241686\",\"type\":\"Circle\"},{\"attributes\":{\"plot\":null,\"text\":\"\"},\"id\":\"6d2b642a-ed34-4218-885d-df2160ff3363\",\"type\":\"Title\"},{\"attributes\":{\"label\":{\"value\":\"CRD\"},\"renderers\":[{\"id\":\"b5dbacaa-4633-4aef-92e6-2fca383db934\",\"type\":\"GlyphRenderer\"},{\"id\":\"fda9b82c-235f-44fa-8de6-9df55391f667\",\"type\":\"GlyphRenderer\"}]},\"id\":\"e1933f75-99a6-40de-96d4-57dcbb3398f1\",\"type\":\"LegendItem\"},{\"attributes\":{\"line_alpha\":0.1,\"line_color\":\"#1f77b4\",\"line_dash\":[6],\"line_width\":5,\"x\":{\"field\":\"x\"},\"y\":{\"field\":\"y\"}},\"id\":\"639aa207-a4aa-4237-bc57-581aec06a9bb\",\"type\":\"Line\"},{\"attributes\":{\"plot\":{\"id\":\"152f841e-248c-444d-b607-e32c30b2cd8a\",\"subtype\":\"Figure\",\"type\":\"Plot\"},\"ticker\":{\"id\":\"d7542395-4be6-4ff0-8c91-fc28e10b7e44\",\"type\":\"BasicTicker\"}},\"id\":\"d2fbd859-d254-4680-b966-3356e828bfe1\",\"type\":\"Grid\"},{\"attributes\":{\"fill_alpha\":{\"value\":0.7},\"fill_color\":{\"value\":\"#4daf4a\"},\"line_alpha\":{\"value\":0.7},\"line_color\":{\"value\":\"#4daf4a\"},\"x\":{\"field\":\"x\"},\"y\":{\"field\":\"y\"}},\"id\":\"aa128fa7-a704-4976-9197-1f9ab5fb6b6f\",\"type\":\"Circle\"},{\"attributes\":{},\"id\":\"361c40b6-02bd-44a4-8e11-75a08c574e39\",\"type\":\"UnionRenderers\"},{\"attributes\":{\"line_alpha\":0.6,\"line_color\":\"#377eb8\",\"line_dash\":[6],\"line_width\":5,\"x\":{\"field\":\"x\"},\"y\":{\"field\":\"y\"}},\"id\":\"703a8cda-985a-4492-a2fa-03e415a50b37\",\"type\":\"Line\"},{\"attributes\":{\"callback\":null,\"data\":{\"x\":{\"__ndarray__\":\"/3gEEI2UQEB0c9Dyc4w8QD4Snx5gWT5AFZGcg+DzPkDYuZ5UNgY+QOQFUWxaiTtAJ8DHxwLZN0CaDBxtwNEzQHB3T1JOgDBAqgJPUzdBLUAe/HRqAFAsQFSv4d6I2CxANirWFRW2LUCUHZfp5zstQOmztrvKoCpAP9+BL/hHJ0AOuwcTjXUkQH9IUrXU0CJAw/AV2NWiIkADs+SX97kjQBnUSknZKCZAob123iaqJUC4+jy7qSYhQET39BNTYRlA8h7eZutmE0DRGDGap7MPQNFp3YuZvQpAbUJm/ObPBUCXEVqHsCYCQKiqyakxdP8/TACEl5IJ/T+x36gvONj4P/WeSfiLL/Q/Ne11Qx4f8T9KO/snl8XuPwAFjDANXOw/ECia+rR+5z/5xrZqtSrhP87q9DpG090/BhYs5hIw3T8TpNj1dqrePxgwooWPUd4/oFDDMBzn3D+hGPElCWPaPxcG4a4W8tI/SPcufN8E0T+Jx6v2fkPcP6Ojb0QSwOM/zctF4t2z6z9opHhLdyvyP4FPJXk/b/U/u1x3mN2T9z9xG3Lf+XH4P5hGdwrobvg/Vn3mdk49+D9YubJsL+/3P7/luSDMffc/5EORdUbl9j8uE9yIYjP2P7kamugzgPU/QlxJFNm49D8sS/Y7lOnzPzVsLhNSEvM/nKsN3cpI8j/zk0wAFaHxP6Zz65TTLvE/Fg7ZiLQN8T8jxFOXpVDxP4PdzMKAqPE/RD1PzBJe8T9HiM/2GIfvP1JwtsmBh+o/vb6j/cCS5T/xD0UD5EPhP++YhMum7NY/\",\"dtype\":\"float64\",\"shape\":[75]},\"y\":{\"__ndarray__\":\"GhExyth1ND/Sv8nbtpRIP2vylNV0PVE/aTum7souWD/At0SJ8fVgPw3Iuahxymc/MSNhhJWvcD/bTfBN02d3P2zb5nxnaoA/CD5h5MAGhz8NmeH1TyaQP+zrCsc9p5Y/LbKd76fGnz/bLW5ISEmmPww9YvTcQq8/JV2OstnstT8Er5Y7M8G+P0c+r3jqkcU/5h99k6ZBzj88bCIzFzjVP4enV8oyxN0//yH99nXg5D8qOpLLf0jtP5kqGJXUifQ/c9cS8kHP/D+/DpwzojQEQIEmwoanVwxA4lgXt9HgE0BSSZ2AJuIbQAMJih9jjiNA5q4l5INuK0AwTKYKRj0zQNv5fmq8/DpAaCJseHrtQkB/+zpwzoxKQM3MzMzMeFJAZmZmZmZqWEAAAAAAAFxeQM3MzMzMJmJAmpmZmZkfZUBmZmZmZhhoQDMzMzMzEWtAAAAAAAAKbkBmZmZmZoFwQM3MzMzM/XFAMzMzMzN6c0CamZmZmfZ0QAAAAAAAc3ZAZmZmZmbvd0DNzMzMzGt5QDMzMzMz6HpAmpmZmZlkfEAAAAAAAOF9QGZmZmZmXX9AZmZmZuZsgECamZmZGSuBQM3MzMxM6YFAAAAAAICngkAzMzMzs2WDQGZmZmbmI4RAmpmZmRnihEDNzMzMTKCFQAAAAACAXoZAMzMzM7Mch0BmZmZm5tqHQJqZmZkZmYhAzczMzExXiUAAAAAAgBWKQDMzMzOz04pAZmZmZuaRi0CamZmZGVCMQM3MzMxMDo1AAAAAAIDMjUAzMzMzs4qOQGZmZmbmSI9A\",\"dtype\":\"float64\",\"shape\":[75]}},\"selected\":{\"id\":\"23022b31-1dc4-4ff3-85ad-5ab909933e22\",\"type\":\"Selection\"},\"selection_policy\":{\"id\":\"0f1ee3dd-3762-4136-bc39-1bbd0ee14ae3\",\"type\":\"UnionRenderers\"}},\"id\":\"e5691c44-39d5-46a6-9827-ca0ef1d11d43\",\"type\":\"ColumnDataSource\"},{\"attributes\":{},\"id\":\"c42c417a-4350-4f8d-8e0a-42cc3615ec0e\",\"type\":\"LogScale\"},{\"attributes\":{},\"id\":\"6c618982-e46c-4a4d-8929-16e78c0771f1\",\"type\":\"LinearScale\"},{\"attributes\":{\"items\":[{\"id\":\"90a84640-d2fe-4a20-8ba1-0e1d611449ba\",\"type\":\"LegendItem\"}],\"label_text_font_size\":{\"value\":\"8pt\"},\"location\":\"top_center\",\"orientation\":\"horizontal\",\"plot\":{\"id\":\"53860a65-951e-408d-bd10-f4f6424b2b81\",\"subtype\":\"Figure\",\"type\":\"Plot\"}},\"id\":\"6f413fb5-97fe-4664-a244-ad862ebdfa70\",\"type\":\"Legend\"},{\"attributes\":{\"above\":[{\"id\":\"821d3e49-8c49-45fc-85ca-f0410ac97db8\",\"type\":\"Legend\"}],\"below\":[{\"id\":\"aefa1b11-5d2a-45d1-a8a5-09ac61e11c5e\",\"type\":\"LinearAxis\"}],\"left\":[{\"id\":\"dd7931d2-8d30-43b6-87a9-695e199b9fa4\",\"type\":\"LinearAxis\"}],\"plot_width\":300,\"renderers\":[{\"id\":\"aefa1b11-5d2a-45d1-a8a5-09ac61e11c5e\",\"type\":\"LinearAxis\"},{\"id\":\"0a1c9972-2d42-418c-b61f-562c4746f19c\",\"type\":\"Grid\"},{\"id\":\"dd7931d2-8d30-43b6-87a9-695e199b9fa4\",\"type\":\"LinearAxis\"},{\"id\":\"801a7faf-169a-4517-b0ef-d0138a2c4f64\",\"type\":\"Grid\"},{\"id\":\"0cdbb390-6d57-473f-8608-fab855f41dde\",\"type\":\"BoxAnnotation\"},{\"id\":\"0ee8db09-1015-4508-82c0-de20ee29f30a\",\"type\":\"GlyphRenderer\"},{\"id\":\"0cbf1020-4c64-4d39-ab27-dc41448e753b\",\"type\":\"GlyphRenderer\"},{\"id\":\"b9d4198d-ea44-4276-94fe-6cb61f3b7698\",\"type\":\"GlyphRenderer\"},{\"id\":\"821d3e49-8c49-45fc-85ca-f0410ac97db8\",\"type\":\"Legend\"}],\"title\":{\"id\":\"e81c26de-fff7-4b00-a411-73ef22a3ed4b\",\"type\":\"Title\"},\"toolbar\":{\"id\":\"2a04b73e-54da-4c74-8af0-569a6e2a25bc\",\"type\":\"Toolbar\"},\"toolbar_location\":null,\"x_range\":{\"id\":\"497a312f-2301-4f6e-b9ed-b58d414a8c14\",\"type\":\"Range1d\"},\"x_scale\":{\"id\":\"6c618982-e46c-4a4d-8929-16e78c0771f1\",\"type\":\"LinearScale\"},\"y_range\":{\"id\":\"ccfe1c04-d916-4305-aba0-bf4c0eddb80c\",\"type\":\"Range1d\"},\"y_scale\":{\"id\":\"f8ceea9c-004f-49b4-a109-d3ee574976d9\",\"type\":\"LinearScale\"}},\"id\":\"d85642d9-064e-4b2b-9bea-e5d43e867744\",\"subtype\":\"Figure\",\"type\":\"Plot\"},{\"attributes\":{\"num_minor_ticks\":10},\"id\":\"eaa32884-48a8-4cc9-8564-4190a0248aa8\",\"type\":\"LogTicker\"},{\"attributes\":{\"source\":{\"id\":\"fc05e2dc-20ad-4b93-bc40-72be8c3221b6\",\"type\":\"ColumnDataSource\"}},\"id\":\"eff4ee4f-e0d9-421a-981c-a8c3d3faf4f5\",\"type\":\"CDSView\"},{\"attributes\":{\"callback\":null,\"end\":0.9897391746271391,\"start\":-1.6775373671211389},\"id\":\"18ce5774-ece3-44b5-8b08-a7e9bdcfa351\",\"type\":\"Range1d\"},{\"attributes\":{\"callback\":null,\"data\":{\"x\":{\"__ndarray__\":\"/3gEEI2UQEB0c9Dyc4w8QD4Snx5gWT5AFZGcg+DzPkDYuZ5UNgY+QOQFUWxaiTtAJ8DHxwLZN0CaDBxtwNEzQHB3T1JOgDBAqgJPUzdBLUAe/HRqAFAsQFSv4d6I2CxANirWFRW2LUCUHZfp5zstQOmztrvKoCpAP9+BL/hHJ0AOuwcTjXUkQH9IUrXU0CJAw/AV2NWiIkADs+SX97kjQBnUSknZKCZAob123iaqJUC4+jy7qSYhQET39BNTYRlA8h7eZutmE0DRGDGap7MPQNFp3YuZvQpAbUJm/ObPBUCXEVqHsCYCQKiqyakxdP8/TACEl5IJ/T+x36gvONj4P/WeSfiLL/Q/Ne11Qx4f8T9KO/snl8XuPwAFjDANXOw/ECia+rR+5z/5xrZqtSrhP87q9DpG090/BhYs5hIw3T8TpNj1dqrePxgwooWPUd4/oFDDMBzn3D+hGPElCWPaPxcG4a4W8tI/SPcufN8E0T+Jx6v2fkPcP6Ojb0QSwOM/zctF4t2z6z9opHhLdyvyP4FPJXk/b/U/u1x3mN2T9z9xG3Lf+XH4P5hGdwrobvg/Vn3mdk49+D9YubJsL+/3P7/luSDMffc/5EORdUbl9j8uE9yIYjP2P7kamugzgPU/QlxJFNm49D8sS/Y7lOnzPzVsLhNSEvM/nKsN3cpI8j/zk0wAFaHxP6Zz65TTLvE/Fg7ZiLQN8T8jxFOXpVDxP4PdzMKAqPE/RD1PzBJe8T9HiM/2GIfvP1JwtsmBh+o/vb6j/cCS5T/xD0UD5EPhP++YhMum7NY/\",\"dtype\":\"float64\",\"shape\":[75]},\"y\":{\"__ndarray__\":\"GhExyth1ND/Sv8nbtpRIP2vylNV0PVE/aTum7souWD/At0SJ8fVgPw3Iuahxymc/MSNhhJWvcD/bTfBN02d3P2zb5nxnaoA/CD5h5MAGhz8NmeH1TyaQP+zrCsc9p5Y/LbKd76fGnz/bLW5ISEmmPww9YvTcQq8/JV2OstnstT8Er5Y7M8G+P0c+r3jqkcU/5h99k6ZBzj88bCIzFzjVP4enV8oyxN0//yH99nXg5D8qOpLLf0jtP5kqGJXUifQ/c9cS8kHP/D+/DpwzojQEQIEmwoanVwxA4lgXt9HgE0BSSZ2AJuIbQAMJih9jjiNA5q4l5INuK0AwTKYKRj0zQNv5fmq8/DpAaCJseHrtQkB/+zpwzoxKQM3MzMzMeFJAZmZmZmZqWEAAAAAAAFxeQM3MzMzMJmJAmpmZmZkfZUBmZmZmZhhoQDMzMzMzEWtAAAAAAAAKbkBmZmZmZoFwQM3MzMzM/XFAMzMzMzN6c0CamZmZmfZ0QAAAAAAAc3ZAZmZmZmbvd0DNzMzMzGt5QDMzMzMz6HpAmpmZmZlkfEAAAAAAAOF9QGZmZmZmXX9AZmZmZuZsgECamZmZGSuBQM3MzMxM6YFAAAAAAICngkAzMzMzs2WDQGZmZmbmI4RAmpmZmRnihEDNzMzMTKCFQAAAAACAXoZAMzMzM7Mch0BmZmZm5tqHQJqZmZkZmYhAzczMzExXiUAAAAAAgBWKQDMzMzOz04pAZmZmZuaRi0CamZmZGVCMQM3MzMxMDo1AAAAAAIDMjUAzMzMzs4qOQGZmZmbmSI9A\",\"dtype\":\"float64\",\"shape\":[75]}},\"selected\":{\"id\":\"9aace361-8519-4385-ae05-e4879449e8d5\",\"type\":\"Selection\"},\"selection_policy\":{\"id\":\"3ec9c5e8-0417-4c52-95c8-ddc20919609d\",\"type\":\"UnionRenderers\"}},\"id\":\"fc05e2dc-20ad-4b93-bc40-72be8c3221b6\",\"type\":\"ColumnDataSource\"},{\"attributes\":{\"items\":[{\"id\":\"01ffc05c-a547-4c8e-9a73-565e61fa3829\",\"type\":\"LegendItem\"},{\"id\":\"e1933f75-99a6-40de-96d4-57dcbb3398f1\",\"type\":\"LegendItem\"}],\"label_text_font_size\":{\"value\":\"8pt\"},\"location\":\"top_center\",\"orientation\":\"horizontal\",\"plot\":{\"id\":\"152f841e-248c-444d-b607-e32c30b2cd8a\",\"subtype\":\"Figure\",\"type\":\"Plot\"}},\"id\":\"dfbfac8b-0638-4838-aba2-ea9dd38ddbfe\",\"type\":\"Legend\"},{\"attributes\":{\"line_alpha\":0.6,\"line_color\":\"#377eb8\",\"line_dash\":[6],\"line_width\":5,\"x\":{\"field\":\"x\"},\"y\":{\"field\":\"y\"}},\"id\":\"70b7390b-35da-41ad-bd22-38747c4f05d5\",\"type\":\"Line\"},{\"attributes\":{\"axis_label\":\"pressure [mb]\",\"formatter\":{\"id\":\"79e33e50-1a63-47aa-8183-6114d0b088a9\",\"type\":\"LogTickFormatter\"},\"plot\":{\"id\":\"152f841e-248c-444d-b607-e32c30b2cd8a\",\"subtype\":\"Figure\",\"type\":\"Plot\"},\"ticker\":{\"id\":\"eaa32884-48a8-4cc9-8564-4190a0248aa8\",\"type\":\"LogTicker\"}},\"id\":\"ef8b8a4a-3503-436a-9dc8-46f068666eff\",\"type\":\"LogAxis\"},{\"attributes\":{\"dimension\":1,\"plot\":{\"id\":\"152f841e-248c-444d-b607-e32c30b2cd8a\",\"subtype\":\"Figure\",\"type\":\"Plot\"},\"ticker\":{\"id\":\"eaa32884-48a8-4cc9-8564-4190a0248aa8\",\"type\":\"LogTicker\"}},\"id\":\"11f95680-e0f9-4a3a-9730-3068b1c7c4bb\",\"type\":\"Grid\"},{\"attributes\":{\"callback\":null,\"end\":0.01,\"start\":1020},\"id\":\"7d0295ba-247a-4525-9441-788f3e832cad\",\"type\":\"Range1d\"},{\"attributes\":{\"data_source\":{\"id\":\"fc05e2dc-20ad-4b93-bc40-72be8c3221b6\",\"type\":\"ColumnDataSource\"},\"glyph\":{\"id\":\"703a8cda-985a-4492-a2fa-03e415a50b37\",\"type\":\"Line\"},\"hover_glyph\":null,\"muted_glyph\":null,\"nonselection_glyph\":{\"id\":\"adbf460f-b8d7-4230-8d67-5edab3f41db3\",\"type\":\"Line\"},\"selection_glyph\":null,\"view\":{\"id\":\"eff4ee4f-e0d9-421a-981c-a8c3d3faf4f5\",\"type\":\"CDSView\"}},\"id\":\"7fd87f7f-59ee-4ff6-ac67-b575abddd5e5\",\"type\":\"GlyphRenderer\"},{\"attributes\":{},\"id\":\"ff6e7c27-a9c7-43fe-aee8-dce1f5276292\",\"type\":\"LogScale\"},{\"attributes\":{\"line_alpha\":0.1,\"line_color\":\"#1f77b4\",\"line_dash\":[6],\"line_width\":5,\"x\":{\"field\":\"x\"},\"y\":{\"field\":\"y\"}},\"id\":\"adbf460f-b8d7-4230-8d67-5edab3f41db3\",\"type\":\"Line\"},{\"attributes\":{\"items\":[{\"id\":\"5982b0f4-c32f-4071-8805-9b0c9283d3f5\",\"type\":\"LegendItem\"},{\"id\":\"dd7861ec-985c-4b10-bcaf-f6b27edb2dce\",\"type\":\"LegendItem\"}],\"label_text_font_size\":{\"value\":\"8pt\"},\"location\":\"top_center\",\"orientation\":\"horizontal\",\"plot\":{\"id\":\"d85642d9-064e-4b2b-9bea-e5d43e867744\",\"subtype\":\"Figure\",\"type\":\"Plot\"}},\"id\":\"821d3e49-8c49-45fc-85ca-f0410ac97db8\",\"type\":\"Legend\"},{\"attributes\":{},\"id\":\"d83c38ed-6d18-4dc2-bcad-551655b9ee52\",\"type\":\"WheelZoomTool\"},{\"attributes\":{\"source\":{\"id\":\"a7bd4f68-f85f-46d9-9dec-80d2cbba2ba5\",\"type\":\"ColumnDataSource\"}},\"id\":\"acdbedc9-9086-4dff-bfb1-a727e29e4d80\",\"type\":\"CDSView\"},{\"attributes\":{},\"id\":\"b3ff4959-0016-4eae-b950-73e52f5cd384\",\"type\":\"PanTool\"},{\"attributes\":{},\"id\":\"a803f0aa-e469-4245-895c-4ab5af05b7b4\",\"type\":\"Selection\"},{\"attributes\":{\"line_color\":\"#4daf4a\",\"line_width\":1.5,\"x\":{\"field\":\"x\"},\"y\":{\"field\":\"y\"}},\"id\":\"57a12d37-375f-488d-90ce-854735b55082\",\"type\":\"Line\"},{\"attributes\":{},\"id\":\"160dcb8f-52c1-4c57-acf0-077ade56e2b6\",\"type\":\"Selection\"},{\"attributes\":{\"callback\":null,\"data\":{\"x\":{\"__ndarray__\":\"pNT9013fQ8BHz6Iz9/wYwNfDDIW8sQPAIkyto68I8j+fIJf5rJMLQIecTPoI1Q9As/64BN/IBkBfIBLYVzbrP1R1ZGKwoO2/pE6pZhVs+r+osA5Z1ST0v5zMboda9dS/aQlVtjiW4D9MTnJyudXuP2yVG7UQ9uw/6REl5gwA2T+4fJqAcenQv5ajHl5rZeW/7sOmS6l75b/2lhpJkZPavw7zXwS2EcK/3f/kdxDJsT9k2KERVRbBPyUpAn1TG7q/7g8mKJN+zb9FgCij7lWhv4gzQaeHVdE/WMHzFuLt0T9TeyfymSq8P7AvC9G1h6A/vwXXyq89xD8cQniFsRLNP745xZhH08A/0hEfW7UEd7/IKTaMEXtnP0nW/cfESbM/DkTNaoE7qD/N3nEaaa+Yv7um0ov4pLO/he/mYXkGtr+HVx9QYaiyv5xE/bRWu6y/aqqSYaN/pb+PUyUyAV6av25yAVtXsJC/OcCXjW7vhb9A2QhwvYE/v54IJNXclHS/tPE6gehUm78zgJIAgp+qv3kclLp0gKq/TPHqBtXAor9a2amW41mjv4wVTc5azKq/Xw/2OvWRqr8pUTsitFylv6rZtGXHpZ+/NbnWCpZLmL/lcb2lUKGTv7/yG9AZ64m/Ca4eY27/g7/icKU3kHCBv8NLYSkEToS/fmhAqhFUhr9CsNoEMTOEv9bxCalABXq/oBYSwYokOb+8C9d3gpx/Py0I7qXI2Is/1DVQdrnckj9GKGc80l+WPytVWvOhE5g/5YIg7/Vvlz/qZawMW1mXP64D8pGCWpY/\",\"dtype\":\"float64\",\"shape\":[75]},\"y\":{\"__ndarray__\":\"GhExyth1ND/Sv8nbtpRIP2vylNV0PVE/aTum7souWD/At0SJ8fVgPw3Iuahxymc/MSNhhJWvcD/bTfBN02d3P2zb5nxnaoA/CD5h5MAGhz8NmeH1TyaQP+zrCsc9p5Y/LbKd76fGnz/bLW5ISEmmPww9YvTcQq8/JV2OstnstT8Er5Y7M8G+P0c+r3jqkcU/5h99k6ZBzj88bCIzFzjVP4enV8oyxN0//yH99nXg5D8qOpLLf0jtP5kqGJXUifQ/c9cS8kHP/D+/DpwzojQEQIEmwoanVwxA4lgXt9HgE0BSSZ2AJuIbQAMJih9jjiNA5q4l5INuK0AwTKYKRj0zQNv5fmq8/DpAaCJseHrtQkB/+zpwzoxKQM3MzMzMeFJAZmZmZmZqWEAAAAAAAFxeQM3MzMzMJmJAmpmZmZkfZUBmZmZmZhhoQDMzMzMzEWtAAAAAAAAKbkBmZmZmZoFwQM3MzMzM/XFAMzMzMzN6c0CamZmZmfZ0QAAAAAAAc3ZAZmZmZmbvd0DNzMzMzGt5QDMzMzMz6HpAmpmZmZlkfEAAAAAAAOF9QGZmZmZmXX9AZmZmZuZsgECamZmZGSuBQM3MzMxM6YFAAAAAAICngkAzMzMzs2WDQGZmZmbmI4RAmpmZmRnihEDNzMzMTKCFQAAAAACAXoZAMzMzM7Mch0BmZmZm5tqHQJqZmZkZmYhAzczMzExXiUAAAAAAgBWKQDMzMzOz04pAZmZmZuaRi0CamZmZGVCMQM3MzMxMDo1AAAAAAIDMjUAzMzMzs4qOQGZmZmbmSI9A\",\"dtype\":\"float64\",\"shape\":[75]}},\"selected\":{\"id\":\"0f061209-b6bb-478b-9445-1731fb66e258\",\"type\":\"Selection\"},\"selection_policy\":{\"id\":\"197f1f9a-3c8b-4a57-8782-e8cbb1f792d3\",\"type\":\"UnionRenderers\"}},\"id\":\"a7bd4f68-f85f-46d9-9dec-80d2cbba2ba5\",\"type\":\"ColumnDataSource\"},{\"attributes\":{},\"id\":\"ce7bb7c2-f933-40d4-bcea-8d437c0d49bc\",\"type\":\"UnionRenderers\"},{\"attributes\":{\"axis_label\":\"cooling rate [K/day]\",\"formatter\":{\"id\":\"b4b35bd4-02c6-430d-aecc-cfc76ad5ff4e\",\"type\":\"BasicTickFormatter\"},\"plot\":{\"id\":\"152f841e-248c-444d-b607-e32c30b2cd8a\",\"subtype\":\"Figure\",\"type\":\"Plot\"},\"ticker\":{\"id\":\"d7542395-4be6-4ff0-8c91-fc28e10b7e44\",\"type\":\"BasicTicker\"}},\"id\":\"7a4f1fdb-045b-4b69-96d4-94a800570df0\",\"type\":\"LinearAxis\"},{\"attributes\":{\"source\":{\"id\":\"9190a9d8-6c92-4ee1-a043-5c1ba8142b32\",\"type\":\"ColumnDataSource\"}},\"id\":\"4ff43cc3-7c3e-4232-858c-8f36c4aa3f14\",\"type\":\"CDSView\"},{\"attributes\":{},\"id\":\"54770971-e1a0-48a6-9fd9-7ce7e9fc5c89\",\"type\":\"ResetTool\"},{\"attributes\":{\"line_alpha\":0.1,\"line_color\":\"#1f77b4\",\"line_width\":1.5,\"x\":{\"field\":\"x\"},\"y\":{\"field\":\"y\"}},\"id\":\"574fb60e-5dc0-4f4c-b661-58811a6f8c5e\",\"type\":\"Line\"},{\"attributes\":{\"source\":{\"id\":\"0428ed12-204b-4fe5-89fa-5ace1373bd3a\",\"type\":\"ColumnDataSource\"}},\"id\":\"763e1cd1-15b4-4825-b2a5-7060a6a601b5\",\"type\":\"CDSView\"},{\"attributes\":{\"overlay\":{\"id\":\"0cdbb390-6d57-473f-8608-fab855f41dde\",\"type\":\"BoxAnnotation\"}},\"id\":\"cb208ebd-f183-4632-b9ce-e9372cbee35f\",\"type\":\"BoxZoomTool\"},{\"attributes\":{\"fill_alpha\":{\"value\":0.1},\"fill_color\":{\"value\":\"#1f77b4\"},\"line_alpha\":{\"value\":0.1},\"line_color\":{\"value\":\"#1f77b4\"},\"x\":{\"field\":\"x\"},\"y\":{\"field\":\"y\"}},\"id\":\"a95f2adf-7e1f-4553-9794-3a4c43879868\",\"type\":\"Circle\"},{\"attributes\":{},\"id\":\"2a082e7b-2073-48f2-abe3-9003ae536292\",\"type\":\"HelpTool\"},{\"attributes\":{\"line_alpha\":0.8,\"line_color\":\"#984ea3\",\"line_width\":1.5,\"x\":{\"field\":\"x\"},\"y\":{\"field\":\"y\"}},\"id\":\"d089568a-0409-4479-bf3a-f6010796a316\",\"type\":\"Line\"},{\"attributes\":{\"bottom_units\":\"screen\",\"fill_alpha\":{\"value\":0.5},\"fill_color\":{\"value\":\"lightgrey\"},\"left_units\":\"screen\",\"level\":\"overlay\",\"line_alpha\":{\"value\":1.0},\"line_color\":{\"value\":\"black\"},\"line_dash\":[4,4],\"line_width\":{\"value\":2},\"plot\":null,\"render_mode\":\"css\",\"right_units\":\"screen\",\"top_units\":\"screen\"},\"id\":\"003e894b-ff86-4fb3-a18a-5f69a6807463\",\"type\":\"BoxAnnotation\"},{\"attributes\":{\"active_drag\":\"auto\",\"active_inspect\":\"auto\",\"active_scroll\":\"auto\",\"active_tap\":\"auto\",\"tools\":[{\"id\":\"b3ff4959-0016-4eae-b950-73e52f5cd384\",\"type\":\"PanTool\"},{\"id\":\"d83c38ed-6d18-4dc2-bcad-551655b9ee52\",\"type\":\"WheelZoomTool\"},{\"id\":\"cb208ebd-f183-4632-b9ce-e9372cbee35f\",\"type\":\"BoxZoomTool\"},{\"id\":\"5a37727d-468f-4ff5-8654-9e9c36e35991\",\"type\":\"SaveTool\"},{\"id\":\"3f6a5e85-2b89-460a-9c89-bff3449c03c0\",\"type\":\"ResetTool\"},{\"id\":\"45a61a84-f957-42c5-907a-67c758a177e9\",\"type\":\"HelpTool\"}]},\"id\":\"2a04b73e-54da-4c74-8af0-569a6e2a25bc\",\"type\":\"Toolbar\"},{\"attributes\":{\"above\":[{\"id\":\"6f413fb5-97fe-4664-a244-ad862ebdfa70\",\"type\":\"Legend\"}],\"below\":[{\"id\":\"bf06823e-f86c-4dae-8c86-d6a4ee832cd1\",\"type\":\"LinearAxis\"}],\"left\":[{\"id\":\"26a08535-aead-47d1-a9d6-f729c31a0222\",\"type\":\"LogAxis\"}],\"plot_width\":300,\"renderers\":[{\"id\":\"bf06823e-f86c-4dae-8c86-d6a4ee832cd1\",\"type\":\"LinearAxis\"},{\"id\":\"a508b439-aefa-4d93-ac5a-07b677043956\",\"type\":\"Grid\"},{\"id\":\"26a08535-aead-47d1-a9d6-f729c31a0222\",\"type\":\"LogAxis\"},{\"id\":\"c0966159-9ff7-46e5-a77a-f80384c3eed9\",\"type\":\"Grid\"},{\"id\":\"003e894b-ff86-4fb3-a18a-5f69a6807463\",\"type\":\"BoxAnnotation\"},{\"id\":\"f09ae9e6-c5ff-469d-8e80-0b224661d488\",\"type\":\"GlyphRenderer\"},{\"id\":\"a3bb0710-9c67-4de8-8e9b-e1d3e5d52502\",\"type\":\"GlyphRenderer\"},{\"id\":\"6f413fb5-97fe-4664-a244-ad862ebdfa70\",\"type\":\"Legend\"}],\"title\":{\"id\":\"f27d79f9-d0f8-4a18-9c1f-e8b68c7b8d66\",\"type\":\"Title\"},\"toolbar\":{\"id\":\"52e32939-4d39-49a5-8510-0bd244e59b59\",\"type\":\"Toolbar\"},\"toolbar_location\":null,\"x_range\":{\"id\":\"18ce5774-ece3-44b5-8b08-a7e9bdcfa351\",\"type\":\"Range1d\"},\"x_scale\":{\"id\":\"c2fb29fe-422a-4f22-96a5-fccfb99d2423\",\"type\":\"LinearScale\"},\"y_range\":{\"id\":\"7d0295ba-247a-4525-9441-788f3e832cad\",\"type\":\"Range1d\"},\"y_scale\":{\"id\":\"ff6e7c27-a9c7-43fe-aee8-dce1f5276292\",\"type\":\"LogScale\"}},\"id\":\"53860a65-951e-408d-bd10-f4f6424b2b81\",\"subtype\":\"Figure\",\"type\":\"Plot\"},{\"attributes\":{\"callback\":null,\"data\":{\"x\":{\"__ndarray__\":\"0CYBcvU5UkCik9zf2GVBQF1VoNfLZ0BAVLxhiVXTPUDD1Wu1wJM6QFJyB025jjdAU6Aw5+b/NECYe1uuDfgyQB6bYtVTbTFAPxYSAF1HMEA00pYVm9QuQLolHbMzgC1AntlwirGsLECv+G9SjE4rQJH6ZLBp0ShAsLZQyPd/JkDyjgyf2PwkQLgyNGsrJyRAA13QbJD6I0C8hy0ilI4kQOVTXCEgcSZAovOGvZSGJUBVc/ZmUOIgQOf/6GHAyRlAcE8fAOBSFEDRur1U//gPQGFD9ZbokghAQsqHuSqSA0C91ci3W0UBQCtRQfvz7/4/kh8pntyB+j9t1/n+4TX1P773MAUjFfI/RgzR+CI28T8hBW8WHK7uPzVKjJfU8uk/0FPt4/z65T/wVYqzMPDhPz7K9C5CXuE/8+hSn9hY4T/9PPCkR6rhP1XsIC599OA/66X1nBCX3z/YbRM56QjcPz4dkSQc/dM/S7Wb8Fq00T+/yQdmX0vcP7TrGf476eM/WqNPJoWO7D9qOH1bcwDzP2bw+R5DQ/Y/RLSuQOQp+D8+aif8yAz5P0Wv6eBKRfk/0i2+IN4R+T/ik8QNFZr4PyS5UD5j/Pc/yJ68zXRG9z/2CHPL54H2P59SOhwKtPU/npkP8dfg9D8NlmVcdQz0P80ugRvuOvM/byxiAHN18j9USVZie8nxP5l9lNXYSPE/OB+F0UYP8T8Y7dsUCTHxP3EBgTHPcPE/bfx15p8S8T8FT+xkGtTuP6mdG7rkxuk/pboqTkHX5D/CrN8qGYngP7R4ZaL+htU/\",\"dtype\":\"float64\",\"shape\":[75]},\"y\":{\"__ndarray__\":\"GhExyth1ND/Sv8nbtpRIP2vylNV0PVE/aTum7souWD/At0SJ8fVgPw3Iuahxymc/MSNhhJWvcD/bTfBN02d3P2zb5nxnaoA/CD5h5MAGhz8NmeH1TyaQP+zrCsc9p5Y/LbKd76fGnz/bLW5ISEmmPww9YvTcQq8/JV2OstnstT8Er5Y7M8G+P0c+r3jqkcU/5h99k6ZBzj88bCIzFzjVP4enV8oyxN0//yH99nXg5D8qOpLLf0jtP5kqGJXUifQ/c9cS8kHP/D+/DpwzojQEQIEmwoanVwxA4lgXt9HgE0BSSZ2AJuIbQAMJih9jjiNA5q4l5INuK0AwTKYKRj0zQNv5fmq8/DpAaCJseHrtQkB/+zpwzoxKQM3MzMzMeFJAZmZmZmZqWEAAAAAAAFxeQM3MzMzMJmJAmpmZmZkfZUBmZmZmZhhoQDMzMzMzEWtAAAAAAAAKbkBmZmZmZoFwQM3MzMzM/XFAMzMzMzN6c0CamZmZmfZ0QAAAAAAAc3ZAZmZmZmbvd0DNzMzMzGt5QDMzMzMz6HpAmpmZmZlkfEAAAAAAAOF9QGZmZmZmXX9AZmZmZuZsgECamZmZGSuBQM3MzMxM6YFAAAAAAICngkAzMzMzs2WDQGZmZmbmI4RAmpmZmRnihEDNzMzMTKCFQAAAAACAXoZAMzMzM7Mch0BmZmZm5tqHQJqZmZkZmYhAzczMzExXiUAAAAAAgBWKQDMzMzOz04pAZmZmZuaRi0CamZmZGVCMQM3MzMxMDo1AAAAAAIDMjUAzMzMzs4qOQGZmZmbmSI9A\",\"dtype\":\"float64\",\"shape\":[75]}},\"selected\":{\"id\":\"bc12b086-5ce8-4827-840b-aa720dceed94\",\"type\":\"Selection\"},\"selection_policy\":{\"id\":\"361c40b6-02bd-44a4-8e11-75a08c574e39\",\"type\":\"UnionRenderers\"}},\"id\":\"0428ed12-204b-4fe5-89fa-5ace1373bd3a\",\"type\":\"ColumnDataSource\"},{\"attributes\":{\"data_source\":{\"id\":\"0428ed12-204b-4fe5-89fa-5ace1373bd3a\",\"type\":\"ColumnDataSource\"},\"glyph\":{\"id\":\"aa128fa7-a704-4976-9197-1f9ab5fb6b6f\",\"type\":\"Circle\"},\"hover_glyph\":null,\"muted_glyph\":null,\"nonselection_glyph\":{\"id\":\"a95f2adf-7e1f-4553-9794-3a4c43879868\",\"type\":\"Circle\"},\"selection_glyph\":null,\"view\":{\"id\":\"763e1cd1-15b4-4825-b2a5-7060a6a601b5\",\"type\":\"CDSView\"}},\"id\":\"b5dbacaa-4633-4aef-92e6-2fca383db934\",\"type\":\"GlyphRenderer\"},{\"attributes\":{},\"id\":\"2ddb82eb-3277-42ca-bad8-f41cbe27d9c6\",\"type\":\"PanTool\"},{\"attributes\":{\"data_source\":{\"id\":\"9190a9d8-6c92-4ee1-a043-5c1ba8142b32\",\"type\":\"ColumnDataSource\"},\"glyph\":{\"id\":\"57a12d37-375f-488d-90ce-854735b55082\",\"type\":\"Line\"},\"hover_glyph\":null,\"muted_glyph\":null,\"nonselection_glyph\":{\"id\":\"574fb60e-5dc0-4f4c-b661-58811a6f8c5e\",\"type\":\"Line\"},\"selection_glyph\":null,\"view\":{\"id\":\"4ff43cc3-7c3e-4232-858c-8f36c4aa3f14\",\"type\":\"CDSView\"}},\"id\":\"fda9b82c-235f-44fa-8de6-9df55391f667\",\"type\":\"GlyphRenderer\"},{\"attributes\":{\"line_alpha\":0.1,\"line_color\":\"#1f77b4\",\"line_width\":1.5,\"x\":{\"field\":\"x\"},\"y\":{\"field\":\"y\"}},\"id\":\"861dae23-9377-47b5-89a4-7cd53336c9f7\",\"type\":\"Line\"},{\"attributes\":{\"callback\":null,\"end\":1.5925520597826701,\"start\":0.25278747673033},\"id\":\"497a312f-2301-4f6e-b9ed-b58d414a8c14\",\"type\":\"Range1d\"},{\"attributes\":{\"callback\":null,\"data\":{\"x\":{\"__ndarray__\":\"0CYBcvU5UkCik9zf2GVBQF1VoNfLZ0BAVLxhiVXTPUDD1Wu1wJM6QFJyB025jjdAU6Aw5+b/NECYe1uuDfgyQB6bYtVTbTFAPxYSAF1HMEA00pYVm9QuQLolHbMzgC1AntlwirGsLECv+G9SjE4rQJH6ZLBp0ShAsLZQyPd/JkDyjgyf2PwkQLgyNGsrJyRAA13QbJD6I0C8hy0ilI4kQOVTXCEgcSZAovOGvZSGJUBVc/ZmUOIgQOf/6GHAyRlAcE8fAOBSFEDRur1U//gPQGFD9ZbokghAQsqHuSqSA0C91ci3W0UBQCtRQfvz7/4/kh8pntyB+j9t1/n+4TX1P773MAUjFfI/RgzR+CI28T8hBW8WHK7uPzVKjJfU8uk/0FPt4/z65T/wVYqzMPDhPz7K9C5CXuE/8+hSn9hY4T/9PPCkR6rhP1XsIC599OA/66X1nBCX3z/YbRM56QjcPz4dkSQc/dM/S7Wb8Fq00T+/yQdmX0vcP7TrGf476eM/WqNPJoWO7D9qOH1bcwDzP2bw+R5DQ/Y/RLSuQOQp+D8+aif8yAz5P0Wv6eBKRfk/0i2+IN4R+T/ik8QNFZr4PyS5UD5j/Pc/yJ68zXRG9z/2CHPL54H2P59SOhwKtPU/npkP8dfg9D8NlmVcdQz0P80ugRvuOvM/byxiAHN18j9USVZie8nxP5l9lNXYSPE/OB+F0UYP8T8Y7dsUCTHxP3EBgTHPcPE/bfx15p8S8T8FT+xkGtTuP6mdG7rkxuk/pboqTkHX5D/CrN8qGYngP7R4ZaL+htU/\",\"dtype\":\"float64\",\"shape\":[75]},\"y\":{\"__ndarray__\":\"GhExyth1ND/Sv8nbtpRIP2vylNV0PVE/aTum7souWD/At0SJ8fVgPw3Iuahxymc/MSNhhJWvcD/bTfBN02d3P2zb5nxnaoA/CD5h5MAGhz8NmeH1TyaQP+zrCsc9p5Y/LbKd76fGnz/bLW5ISEmmPww9YvTcQq8/JV2OstnstT8Er5Y7M8G+P0c+r3jqkcU/5h99k6ZBzj88bCIzFzjVP4enV8oyxN0//yH99nXg5D8qOpLLf0jtP5kqGJXUifQ/c9cS8kHP/D+/DpwzojQEQIEmwoanVwxA4lgXt9HgE0BSSZ2AJuIbQAMJih9jjiNA5q4l5INuK0AwTKYKRj0zQNv5fmq8/DpAaCJseHrtQkB/+zpwzoxKQM3MzMzMeFJAZmZmZmZqWEAAAAAAAFxeQM3MzMzMJmJAmpmZmZkfZUBmZmZmZhhoQDMzMzMzEWtAAAAAAAAKbkBmZmZmZoFwQM3MzMzM/XFAMzMzMzN6c0CamZmZmfZ0QAAAAAAAc3ZAZmZmZmbvd0DNzMzMzGt5QDMzMzMz6HpAmpmZmZlkfEAAAAAAAOF9QGZmZmZmXX9AZmZmZuZsgECamZmZGSuBQM3MzMxM6YFAAAAAAICngkAzMzMzs2WDQGZmZmbmI4RAmpmZmRnihEDNzMzMTKCFQAAAAACAXoZAMzMzM7Mch0BmZmZm5tqHQJqZmZkZmYhAzczMzExXiUAAAAAAgBWKQDMzMzOz04pAZmZmZuaRi0CamZmZGVCMQM3MzMxMDo1AAAAAAIDMjUAzMzMzs4qOQGZmZmbmSI9A\",\"dtype\":\"float64\",\"shape\":[75]}},\"selected\":{\"id\":\"160dcb8f-52c1-4c57-acf0-077ade56e2b6\",\"type\":\"Selection\"},\"selection_policy\":{\"id\":\"ce7bb7c2-f933-40d4-bcea-8d437c0d49bc\",\"type\":\"UnionRenderers\"}},\"id\":\"9190a9d8-6c92-4ee1-a043-5c1ba8142b32\",\"type\":\"ColumnDataSource\"},{\"attributes\":{\"callback\":null,\"data\":{\"x\":{\"__ndarray__\":\"pNT9013fQ8BHz6Iz9/wYwNfDDIW8sQPAIkyto68I8j+fIJf5rJMLQIecTPoI1Q9As/64BN/IBkBfIBLYVzbrP1R1ZGKwoO2/pE6pZhVs+r+osA5Z1ST0v5zMboda9dS/aQlVtjiW4D9MTnJyudXuP2yVG7UQ9uw/6REl5gwA2T+4fJqAcenQv5ajHl5rZeW/7sOmS6l75b/2lhpJkZPavw7zXwS2EcK/3f/kdxDJsT9k2KERVRbBPyUpAn1TG7q/7g8mKJN+zb9FgCij7lWhv4gzQaeHVdE/WMHzFuLt0T9TeyfymSq8P7AvC9G1h6A/vwXXyq89xD8cQniFsRLNP745xZhH08A/0hEfW7UEd7/IKTaMEXtnP0nW/cfESbM/DkTNaoE7qD/N3nEaaa+Yv7um0ov4pLO/he/mYXkGtr+HVx9QYaiyv5xE/bRWu6y/aqqSYaN/pb+PUyUyAV6av25yAVtXsJC/OcCXjW7vhb9A2QhwvYE/v54IJNXclHS/tPE6gehUm78zgJIAgp+qv3kclLp0gKq/TPHqBtXAor9a2amW41mjv4wVTc5azKq/Xw/2OvWRqr8pUTsitFylv6rZtGXHpZ+/NbnWCpZLmL/lcb2lUKGTv7/yG9AZ64m/Ca4eY27/g7/icKU3kHCBv8NLYSkEToS/fmhAqhFUhr9CsNoEMTOEv9bxCalABXq/oBYSwYokOb+8C9d3gpx/Py0I7qXI2Is/1DVQdrnckj9GKGc80l+WPytVWvOhE5g/5YIg7/Vvlz/qZawMW1mXP64D8pGCWpY/\",\"dtype\":\"float64\",\"shape\":[75]},\"y\":{\"__ndarray__\":\"GhExyth1ND/Sv8nbtpRIP2vylNV0PVE/aTum7souWD/At0SJ8fVgPw3Iuahxymc/MSNhhJWvcD/bTfBN02d3P2zb5nxnaoA/CD5h5MAGhz8NmeH1TyaQP+zrCsc9p5Y/LbKd76fGnz/bLW5ISEmmPww9YvTcQq8/JV2OstnstT8Er5Y7M8G+P0c+r3jqkcU/5h99k6ZBzj88bCIzFzjVP4enV8oyxN0//yH99nXg5D8qOpLLf0jtP5kqGJXUifQ/c9cS8kHP/D+/DpwzojQEQIEmwoanVwxA4lgXt9HgE0BSSZ2AJuIbQAMJih9jjiNA5q4l5INuK0AwTKYKRj0zQNv5fmq8/DpAaCJseHrtQkB/+zpwzoxKQM3MzMzMeFJAZmZmZmZqWEAAAAAAAFxeQM3MzMzMJmJAmpmZmZkfZUBmZmZmZhhoQDMzMzMzEWtAAAAAAAAKbkBmZmZmZoFwQM3MzMzM/XFAMzMzMzN6c0CamZmZmfZ0QAAAAAAAc3ZAZmZmZmbvd0DNzMzMzGt5QDMzMzMz6HpAmpmZmZlkfEAAAAAAAOF9QGZmZmZmXX9AZmZmZuZsgECamZmZGSuBQM3MzMxM6YFAAAAAAICngkAzMzMzs2WDQGZmZmbmI4RAmpmZmRnihEDNzMzMTKCFQAAAAACAXoZAMzMzM7Mch0BmZmZm5tqHQJqZmZkZmYhAzczMzExXiUAAAAAAgBWKQDMzMzOz04pAZmZmZuaRi0CamZmZGVCMQM3MzMxMDo1AAAAAAIDMjUAzMzMzs4qOQGZmZmbmSI9A\",\"dtype\":\"float64\",\"shape\":[75]}},\"selected\":{\"id\":\"4086a860-5f03-4d93-994a-4552e1746d7e\",\"type\":\"Selection\"},\"selection_policy\":{\"id\":\"edf83877-66e1-4046-a3d5-6b7492e5e6f8\",\"type\":\"UnionRenderers\"}},\"id\":\"a3dbb550-a6d0-4b3c-8449-b0ac72feb7a1\",\"type\":\"ColumnDataSource\"},{\"attributes\":{},\"id\":\"b4b35bd4-02c6-430d-aecc-cfc76ad5ff4e\",\"type\":\"BasicTickFormatter\"},{\"attributes\":{},\"id\":\"5a37727d-468f-4ff5-8654-9e9c36e35991\",\"type\":\"SaveTool\"},{\"attributes\":{},\"id\":\"4e07a27c-3168-4025-912e-3cdc99514a54\",\"type\":\"SaveTool\"},{\"attributes\":{\"overlay\":{\"id\":\"003e894b-ff86-4fb3-a18a-5f69a6807463\",\"type\":\"BoxAnnotation\"}},\"id\":\"5611d6f8-f29c-458e-a42d-b99c75ff64d0\",\"type\":\"BoxZoomTool\"},{\"attributes\":{\"label\":{\"value\":\"CLIRAD (single-run)\"},\"renderers\":[{\"id\":\"7fd87f7f-59ee-4ff6-ac67-b575abddd5e5\",\"type\":\"GlyphRenderer\"}]},\"id\":\"01ffc05c-a547-4c8e-9a73-565e61fa3829\",\"type\":\"LegendItem\"},{\"attributes\":{},\"id\":\"d7542395-4be6-4ff0-8c91-fc28e10b7e44\",\"type\":\"BasicTicker\"},{\"attributes\":{},\"id\":\"f8ceea9c-004f-49b4-a109-d3ee574976d9\",\"type\":\"LinearScale\"},{\"attributes\":{},\"id\":\"96f08de9-46e5-4d8a-8ab5-6c6be2366457\",\"type\":\"LinearScale\"},{\"attributes\":{\"bottom_units\":\"screen\",\"fill_alpha\":{\"value\":0.5},\"fill_color\":{\"value\":\"lightgrey\"},\"left_units\":\"screen\",\"level\":\"overlay\",\"line_alpha\":{\"value\":1.0},\"line_color\":{\"value\":\"black\"},\"line_dash\":[4,4],\"line_width\":{\"value\":2},\"plot\":null,\"render_mode\":\"css\",\"right_units\":\"screen\",\"top_units\":\"screen\"},\"id\":\"0cdbb390-6d57-473f-8608-fab855f41dde\",\"type\":\"BoxAnnotation\"},{\"attributes\":{},\"id\":\"3ec9c5e8-0417-4c52-95c8-ddc20919609d\",\"type\":\"UnionRenderers\"},{\"attributes\":{\"axis_label\":\"cooling rate [K/day]\",\"formatter\":{\"id\":\"13ee71f0-8b7c-4af4-a085-007390ced4cc\",\"type\":\"BasicTickFormatter\"},\"plot\":{\"id\":\"d85642d9-064e-4b2b-9bea-e5d43e867744\",\"subtype\":\"Figure\",\"type\":\"Plot\"},\"ticker\":{\"id\":\"2be1d75b-d663-488c-a0ed-abb4a9bce066\",\"type\":\"BasicTicker\"}},\"id\":\"aefa1b11-5d2a-45d1-a8a5-09ac61e11c5e\",\"type\":\"LinearAxis\"},{\"attributes\":{},\"id\":\"b4010a98-86b7-4e3b-bf0c-c2b8ea9567c9\",\"type\":\"WheelZoomTool\"},{\"attributes\":{\"source\":{\"id\":\"9a8a67df-e6aa-4d09-9831-fe207c982d68\",\"type\":\"ColumnDataSource\"}},\"id\":\"96074b41-3e33-4ead-a095-90fc20b44dc4\",\"type\":\"CDSView\"},{\"attributes\":{},\"id\":\"c1cc3d6d-c8b9-495f-9f00-30d03bd08a8f\",\"type\":\"ResetTool\"},{\"attributes\":{\"line_alpha\":0.1,\"line_color\":\"#1f77b4\",\"line_width\":1.5,\"x\":{\"field\":\"x\"},\"y\":{\"field\":\"y\"}},\"id\":\"79badb02-20a5-406f-bb7a-dd15b3ec2d06\",\"type\":\"Line\"},{\"attributes\":{\"plot\":{\"id\":\"53860a65-951e-408d-bd10-f4f6424b2b81\",\"subtype\":\"Figure\",\"type\":\"Plot\"},\"ticker\":{\"id\":\"c55680ac-4108-4717-b728-b4c8739a0147\",\"type\":\"BasicTicker\"}},\"id\":\"a508b439-aefa-4d93-ac5a-07b677043956\",\"type\":\"Grid\"},{\"attributes\":{\"bottom_units\":\"screen\",\"fill_alpha\":{\"value\":0.5},\"fill_color\":{\"value\":\"lightgrey\"},\"left_units\":\"screen\",\"level\":\"overlay\",\"line_alpha\":{\"value\":1.0},\"line_color\":{\"value\":\"black\"},\"line_dash\":[4,4],\"line_width\":{\"value\":2},\"plot\":null,\"render_mode\":\"css\",\"right_units\":\"screen\",\"top_units\":\"screen\"},\"id\":\"ec6d7f7d-a58d-48a6-a4c5-922bf5605a6a\",\"type\":\"BoxAnnotation\"},{\"attributes\":{\"label\":{\"value\":\"CRD\"},\"renderers\":[{\"id\":\"0cbf1020-4c64-4d39-ab27-dc41448e753b\",\"type\":\"GlyphRenderer\"},{\"id\":\"b9d4198d-ea44-4276-94fe-6cb61f3b7698\",\"type\":\"GlyphRenderer\"}]},\"id\":\"dd7861ec-985c-4b10-bcaf-f6b27edb2dce\",\"type\":\"LegendItem\"},{\"attributes\":{},\"id\":\"c2fb29fe-422a-4f22-96a5-fccfb99d2423\",\"type\":\"LinearScale\"},{\"attributes\":{},\"id\":\"bc47a130-ec0c-4046-938a-9f212db29e0e\",\"type\":\"HelpTool\"},{\"attributes\":{\"axis_label\":\"cooling rate [K/day]\",\"formatter\":{\"id\":\"d147279d-903b-4de5-b02d-f72e9127dd13\",\"type\":\"BasicTickFormatter\"},\"plot\":{\"id\":\"53860a65-951e-408d-bd10-f4f6424b2b81\",\"subtype\":\"Figure\",\"type\":\"Plot\"},\"ticker\":{\"id\":\"c55680ac-4108-4717-b728-b4c8739a0147\",\"type\":\"BasicTicker\"}},\"id\":\"bf06823e-f86c-4dae-8c86-d6a4ee832cd1\",\"type\":\"LinearAxis\"},{\"attributes\":{\"data_source\":{\"id\":\"9a8a67df-e6aa-4d09-9831-fe207c982d68\",\"type\":\"ColumnDataSource\"},\"glyph\":{\"id\":\"23f6c4dc-e3d4-4319-a13a-7c1ab4495366\",\"type\":\"Line\"},\"hover_glyph\":null,\"muted_glyph\":null,\"nonselection_glyph\":{\"id\":\"79badb02-20a5-406f-bb7a-dd15b3ec2d06\",\"type\":\"Line\"},\"selection_glyph\":null,\"view\":{\"id\":\"96074b41-3e33-4ead-a095-90fc20b44dc4\",\"type\":\"CDSView\"}},\"id\":\"b9d4198d-ea44-4276-94fe-6cb61f3b7698\",\"type\":\"GlyphRenderer\"},{\"attributes\":{\"active_drag\":\"auto\",\"active_inspect\":\"auto\",\"active_scroll\":\"auto\",\"active_tap\":\"auto\",\"tools\":[{\"id\":\"2ddb82eb-3277-42ca-bad8-f41cbe27d9c6\",\"type\":\"PanTool\"},{\"id\":\"b4010a98-86b7-4e3b-bf0c-c2b8ea9567c9\",\"type\":\"WheelZoomTool\"},{\"id\":\"5f1a6986-7839-4c38-98e7-a0cb33bf084a\",\"type\":\"BoxZoomTool\"},{\"id\":\"3ebee1fa-abb6-4c47-999d-78d0fc3fc582\",\"type\":\"SaveTool\"},{\"id\":\"c1cc3d6d-c8b9-495f-9f00-30d03bd08a8f\",\"type\":\"ResetTool\"},{\"id\":\"bc47a130-ec0c-4046-938a-9f212db29e0e\",\"type\":\"HelpTool\"}]},\"id\":\"ef395771-22c3-4fcb-a466-c556f79ee998\",\"type\":\"Toolbar\"},{\"attributes\":{},\"id\":\"3f6a5e85-2b89-460a-9c89-bff3449c03c0\",\"type\":\"ResetTool\"},{\"attributes\":{\"overlay\":{\"id\":\"ec6d7f7d-a58d-48a6-a4c5-922bf5605a6a\",\"type\":\"BoxAnnotation\"}},\"id\":\"5f1a6986-7839-4c38-98e7-a0cb33bf084a\",\"type\":\"BoxZoomTool\"},{\"attributes\":{\"callback\":null,\"end\":0.01,\"start\":1020},\"id\":\"56f013d5-1f2a-4cec-b6c6-04b6152f029d\",\"type\":\"Range1d\"},{\"attributes\":{},\"id\":\"c55680ac-4108-4717-b728-b4c8739a0147\",\"type\":\"BasicTicker\"},{\"attributes\":{},\"id\":\"c3cc4979-5c77-4118-b9af-130d264250aa\",\"type\":\"PanTool\"},{\"attributes\":{\"dimension\":1,\"plot\":{\"id\":\"53860a65-951e-408d-bd10-f4f6424b2b81\",\"subtype\":\"Figure\",\"type\":\"Plot\"},\"ticker\":{\"id\":\"efdf15f8-778d-409e-861b-86bb3f301cf1\",\"type\":\"LogTicker\"}},\"id\":\"c0966159-9ff7-46e5-a77a-f80384c3eed9\",\"type\":\"Grid\"},{\"attributes\":{\"label\":{\"value\":\"CLIRAD (single-run)\"},\"renderers\":[{\"id\":\"0ee8db09-1015-4508-82c0-de20ee29f30a\",\"type\":\"GlyphRenderer\"}]},\"id\":\"5982b0f4-c32f-4071-8805-9b0c9283d3f5\",\"type\":\"LegendItem\"},{\"attributes\":{\"data_source\":{\"id\":\"a7bd4f68-f85f-46d9-9dec-80d2cbba2ba5\",\"type\":\"ColumnDataSource\"},\"glyph\":{\"id\":\"ed9eb8aa-1e74-4e45-aacb-a11103ea16a3\",\"type\":\"Circle\"},\"hover_glyph\":null,\"muted_glyph\":null,\"nonselection_glyph\":{\"id\":\"698c6d70-a244-41aa-804e-e391f7fa77f1\",\"type\":\"Circle\"},\"selection_glyph\":null,\"view\":{\"id\":\"acdbedc9-9086-4dff-bfb1-a727e29e4d80\",\"type\":\"CDSView\"}},\"id\":\"f09ae9e6-c5ff-469d-8e80-0b224661d488\",\"type\":\"GlyphRenderer\"},{\"attributes\":{},\"id\":\"0827ec5c-31a4-4612-a86b-4a318da9c27a\",\"type\":\"WheelZoomTool\"},{\"attributes\":{\"fill_alpha\":{\"value\":0.7},\"fill_color\":{\"value\":\"#984ea3\"},\"line_alpha\":{\"value\":0.7},\"line_color\":{\"value\":\"#984ea3\"},\"x\":{\"field\":\"x\"},\"y\":{\"field\":\"y\"}},\"id\":\"ed9eb8aa-1e74-4e45-aacb-a11103ea16a3\",\"type\":\"Circle\"},{\"attributes\":{\"fill_alpha\":{\"value\":0.1},\"fill_color\":{\"value\":\"#1f77b4\"},\"line_alpha\":{\"value\":0.1},\"line_color\":{\"value\":\"#1f77b4\"},\"x\":{\"field\":\"x\"},\"y\":{\"field\":\"y\"}},\"id\":\"698c6d70-a244-41aa-804e-e391f7fa77f1\",\"type\":\"Circle\"},{\"attributes\":{\"num_minor_ticks\":10},\"id\":\"efdf15f8-778d-409e-861b-86bb3f301cf1\",\"type\":\"LogTicker\"},{\"attributes\":{\"data_source\":{\"id\":\"e5691c44-39d5-46a6-9827-ca0ef1d11d43\",\"type\":\"ColumnDataSource\"},\"glyph\":{\"id\":\"70b7390b-35da-41ad-bd22-38747c4f05d5\",\"type\":\"Line\"},\"hover_glyph\":null,\"muted_glyph\":null,\"nonselection_glyph\":{\"id\":\"639aa207-a4aa-4237-bc57-581aec06a9bb\",\"type\":\"Line\"},\"selection_glyph\":null,\"view\":{\"id\":\"486263c2-9f77-4850-b3de-57651d47e952\",\"type\":\"CDSView\"}},\"id\":\"0ee8db09-1015-4508-82c0-de20ee29f30a\",\"type\":\"GlyphRenderer\"},{\"attributes\":{\"line_color\":\"#4daf4a\",\"line_width\":1.5,\"x\":{\"field\":\"x\"},\"y\":{\"field\":\"y\"}},\"id\":\"23f6c4dc-e3d4-4319-a13a-7c1ab4495366\",\"type\":\"Line\"},{\"attributes\":{},\"id\":\"3ebee1fa-abb6-4c47-999d-78d0fc3fc582\",\"type\":\"SaveTool\"},{\"attributes\":{\"callback\":null,\"data\":{\"x\":{\"__ndarray__\":\"0CYBcvU5UkCik9zf2GVBQF1VoNfLZ0BAVLxhiVXTPUDD1Wu1wJM6QFJyB025jjdAU6Aw5+b/NECYe1uuDfgyQB6bYtVTbTFAPxYSAF1HMEA00pYVm9QuQLolHbMzgC1AntlwirGsLECv+G9SjE4rQJH6ZLBp0ShAsLZQyPd/JkDyjgyf2PwkQLgyNGsrJyRAA13QbJD6I0C8hy0ilI4kQOVTXCEgcSZAovOGvZSGJUBVc/ZmUOIgQOf/6GHAyRlAcE8fAOBSFEDRur1U//gPQGFD9ZbokghAQsqHuSqSA0C91ci3W0UBQCtRQfvz7/4/kh8pntyB+j9t1/n+4TX1P773MAUjFfI/RgzR+CI28T8hBW8WHK7uPzVKjJfU8uk/0FPt4/z65T/wVYqzMPDhPz7K9C5CXuE/8+hSn9hY4T/9PPCkR6rhP1XsIC599OA/66X1nBCX3z/YbRM56QjcPz4dkSQc/dM/S7Wb8Fq00T+/yQdmX0vcP7TrGf476eM/WqNPJoWO7D9qOH1bcwDzP2bw+R5DQ/Y/RLSuQOQp+D8+aif8yAz5P0Wv6eBKRfk/0i2+IN4R+T/ik8QNFZr4PyS5UD5j/Pc/yJ68zXRG9z/2CHPL54H2P59SOhwKtPU/npkP8dfg9D8NlmVcdQz0P80ugRvuOvM/byxiAHN18j9USVZie8nxP5l9lNXYSPE/OB+F0UYP8T8Y7dsUCTHxP3EBgTHPcPE/bfx15p8S8T8FT+xkGtTuP6mdG7rkxuk/pboqTkHX5D/CrN8qGYngP7R4ZaL+htU/\",\"dtype\":\"float64\",\"shape\":[75]},\"y\":{\"__ndarray__\":\"GhExyth1ND/Sv8nbtpRIP2vylNV0PVE/aTum7souWD/At0SJ8fVgPw3Iuahxymc/MSNhhJWvcD/bTfBN02d3P2zb5nxnaoA/CD5h5MAGhz8NmeH1TyaQP+zrCsc9p5Y/LbKd76fGnz/bLW5ISEmmPww9YvTcQq8/JV2OstnstT8Er5Y7M8G+P0c+r3jqkcU/5h99k6ZBzj88bCIzFzjVP4enV8oyxN0//yH99nXg5D8qOpLLf0jtP5kqGJXUifQ/c9cS8kHP/D+/DpwzojQEQIEmwoanVwxA4lgXt9HgE0BSSZ2AJuIbQAMJih9jjiNA5q4l5INuK0AwTKYKRj0zQNv5fmq8/DpAaCJseHrtQkB/+zpwzoxKQM3MzMzMeFJAZmZmZmZqWEAAAAAAAFxeQM3MzMzMJmJAmpmZmZkfZUBmZmZmZhhoQDMzMzMzEWtAAAAAAAAKbkBmZmZmZoFwQM3MzMzM/XFAMzMzMzN6c0CamZmZmfZ0QAAAAAAAc3ZAZmZmZmbvd0DNzMzMzGt5QDMzMzMz6HpAmpmZmZlkfEAAAAAAAOF9QGZmZmZmXX9AZmZmZuZsgECamZmZGSuBQM3MzMxM6YFAAAAAAICngkAzMzMzs2WDQGZmZmbmI4RAmpmZmRnihEDNzMzMTKCFQAAAAACAXoZAMzMzM7Mch0BmZmZm5tqHQJqZmZkZmYhAzczMzExXiUAAAAAAgBWKQDMzMzOz04pAZmZmZuaRi0CamZmZGVCMQM3MzMxMDo1AAAAAAIDMjUAzMzMzs4qOQGZmZmbmSI9A\",\"dtype\":\"float64\",\"shape\":[75]}},\"selected\":{\"id\":\"a803f0aa-e469-4245-895c-4ab5af05b7b4\",\"type\":\"Selection\"},\"selection_policy\":{\"id\":\"e5874a97-2c4a-4429-b263-314d6681129d\",\"type\":\"UnionRenderers\"}},\"id\":\"9a8a67df-e6aa-4d09-9831-fe207c982d68\",\"type\":\"ColumnDataSource\"},{\"attributes\":{\"axis_label\":\"pressure [mb]\",\"formatter\":{\"id\":\"daf87b9b-9e19-48eb-be02-71117bc5d9be\",\"type\":\"LogTickFormatter\"},\"plot\":{\"id\":\"53860a65-951e-408d-bd10-f4f6424b2b81\",\"subtype\":\"Figure\",\"type\":\"Plot\"},\"ticker\":{\"id\":\"efdf15f8-778d-409e-861b-86bb3f301cf1\",\"type\":\"LogTicker\"}},\"id\":\"26a08535-aead-47d1-a9d6-f729c31a0222\",\"type\":\"LogAxis\"},{\"attributes\":{\"source\":{\"id\":\"e5691c44-39d5-46a6-9827-ca0ef1d11d43\",\"type\":\"ColumnDataSource\"}},\"id\":\"486263c2-9f77-4850-b3de-57651d47e952\",\"type\":\"CDSView\"},{\"attributes\":{},\"id\":\"9aace361-8519-4385-ae05-e4879449e8d5\",\"type\":\"Selection\"},{\"attributes\":{},\"id\":\"45a61a84-f957-42c5-907a-67c758a177e9\",\"type\":\"HelpTool\"},{\"attributes\":{\"above\":[{\"id\":\"dfbfac8b-0638-4838-aba2-ea9dd38ddbfe\",\"type\":\"Legend\"}],\"below\":[{\"id\":\"7a4f1fdb-045b-4b69-96d4-94a800570df0\",\"type\":\"LinearAxis\"}],\"left\":[{\"id\":\"ef8b8a4a-3503-436a-9dc8-46f068666eff\",\"type\":\"LogAxis\"}],\"plot_width\":300,\"renderers\":[{\"id\":\"7a4f1fdb-045b-4b69-96d4-94a800570df0\",\"type\":\"LinearAxis\"},{\"id\":\"d2fbd859-d254-4680-b966-3356e828bfe1\",\"type\":\"Grid\"},{\"id\":\"ef8b8a4a-3503-436a-9dc8-46f068666eff\",\"type\":\"LogAxis\"},{\"id\":\"11f95680-e0f9-4a3a-9730-3068b1c7c4bb\",\"type\":\"Grid\"},{\"id\":\"ec6d7f7d-a58d-48a6-a4c5-922bf5605a6a\",\"type\":\"BoxAnnotation\"},{\"id\":\"7fd87f7f-59ee-4ff6-ac67-b575abddd5e5\",\"type\":\"GlyphRenderer\"},{\"id\":\"b5dbacaa-4633-4aef-92e6-2fca383db934\",\"type\":\"GlyphRenderer\"},{\"id\":\"fda9b82c-235f-44fa-8de6-9df55391f667\",\"type\":\"GlyphRenderer\"},{\"id\":\"dfbfac8b-0638-4838-aba2-ea9dd38ddbfe\",\"type\":\"Legend\"}],\"title\":{\"id\":\"6d2b642a-ed34-4218-885d-df2160ff3363\",\"type\":\"Title\"},\"toolbar\":{\"id\":\"ef395771-22c3-4fcb-a466-c556f79ee998\",\"type\":\"Toolbar\"},\"toolbar_location\":null,\"x_range\":{\"id\":\"fda132ed-6b78-4c2c-8532-5e489c85dd5c\",\"type\":\"Range1d\"},\"x_scale\":{\"id\":\"96f08de9-46e5-4d8a-8ab5-6c6be2366457\",\"type\":\"LinearScale\"},\"y_range\":{\"id\":\"56f013d5-1f2a-4cec-b6c6-04b6152f029d\",\"type\":\"Range1d\"},\"y_scale\":{\"id\":\"c42c417a-4350-4f8d-8e0a-42cc3615ec0e\",\"type\":\"LogScale\"}},\"id\":\"152f841e-248c-444d-b607-e32c30b2cd8a\",\"subtype\":\"Figure\",\"type\":\"Plot\"}],\"root_ids\":[\"56719b22-ebd4-472f-b074-90ce8a214668\"]},\"title\":\"Bokeh Application\",\"version\":\"0.12.16\"}};\n",
       "  var render_items = [{\"docid\":\"b2896eb4-ea99-4197-8e38-8f5250baf3c4\",\"elementid\":\"2e9c880c-2dfa-430e-a8d6-1720a15461d2\",\"modelid\":\"56719b22-ebd4-472f-b074-90ce8a214668\"}];\n",
       "  root.Bokeh.embed.embed_items_notebook(docs_json, render_items);\n",
       "\n",
       "  }\n",
       "  if (root.Bokeh !== undefined) {\n",
       "    embed_document(root);\n",
       "  } else {\n",
       "    var attempts = 0;\n",
       "    var timer = setInterval(function(root) {\n",
       "      if (root.Bokeh !== undefined) {\n",
       "        embed_document(root);\n",
       "        clearInterval(timer);\n",
       "      }\n",
       "      attempts++;\n",
       "      if (attempts > 100) {\n",
       "        console.log(\"Bokeh: ERROR: Unable to run BokehJS code because BokehJS library is missing\")\n",
       "        clearInterval(timer);\n",
       "      }\n",
       "    }, 10, root)\n",
       "  }\n",
       "})(window);"
      ],
      "application/vnd.bokehjs_exec.v0+json": ""
     },
     "metadata": {
      "application/vnd.bokehjs_exec.v0+json": {
       "id": "56719b22-ebd4-472f-b074-90ce8a214668"
      }
     },
     "output_type": "display_data"
    },
    {
     "data": {
      "text/markdown": [
       "*FIGURE.* Cooling rates & difference."
      ],
      "text/plain": [
       "<IPython.core.display.Markdown object>"
      ]
     },
     "metadata": {},
     "output_type": "display_data"
    },
    {
     "data": {
      "text/html": [
       "<a id=\"Fluxes._saw.\"></a>"
      ],
      "text/plain": [
       "<IPython.core.display.HTML object>"
      ]
     },
     "metadata": {},
     "output_type": "display_data"
    },
    {
     "data": {
      "text/markdown": [
       "# Fluxes. saw."
      ],
      "text/plain": [
       "<IPython.core.display.Markdown object>"
      ]
     },
     "metadata": {},
     "output_type": "display_data"
    },
    {
     "data": {
      "text/html": [
       "\n",
       "<div class=\"bk-root\">\n",
       "    <div class=\"bk-plotdiv\" id=\"54d7469a-6992-4e8b-a58d-380713f2141b\"></div>\n",
       "</div>"
      ]
     },
     "metadata": {},
     "output_type": "display_data"
    },
    {
     "data": {
      "application/javascript": [
       "(function(root) {\n",
       "  function embed_document(root) {\n",
       "    \n",
       "  var docs_json = {\"4a19e9da-8663-44cc-bc44-0d787fea8b13\":{\"roots\":{\"references\":[{\"attributes\":{\"callback\":null,\"data\":{\"band\":[\"1\",\"2\",\"3\",\"4\",\"5\",\"6\",\"7\",\"8\",\"9\",\"10\",\"11\"],\"flux\":{\"__ndarray__\":\"AEDdJAaBZb8Asg5HV+nAv4DgnBGlveC/AOp+TkF+tj8AHbkkvV7IPyB+nlCZrLm/AD0w26kUsD/ga9jnGC20vwAmr84xIJM/AJDEy9O5oj8A+eRZMI5tPw==\",\"dtype\":\"float64\",\"shape\":[11]}},\"selected\":{\"id\":\"afec860c-c865-4ac1-b194-ee0b5a2d69cc\",\"type\":\"Selection\"},\"selection_policy\":{\"id\":\"89814f1c-53a1-49af-9836-a77c20e2541b\",\"type\":\"UnionRenderers\"}},\"id\":\"5f151a05-8303-43f8-a700-d4db97208457\",\"type\":\"ColumnDataSource\"},{\"attributes\":{\"children\":[{\"id\":\"76a8bfb6-9eaf-458e-bbc8-dbd445907c54\",\"type\":\"ToolbarBox\"},{\"id\":\"94347b31-ae0e-4c49-a123-0373bbd9ced8\",\"type\":\"Column\"}]},\"id\":\"cfb99ab7-53a9-4707-9d9c-87faa8204b76\",\"type\":\"Column\"},{\"attributes\":{},\"id\":\"d310cba1-5d3d-4d3d-a411-dcbcfd5655f4\",\"type\":\"Selection\"},{\"attributes\":{\"toolbar\":{\"id\":\"ccb1cae8-16c8-46f5-a162-2b06e4044174\",\"type\":\"ProxyToolbar\"},\"toolbar_location\":\"above\"},\"id\":\"76a8bfb6-9eaf-458e-bbc8-dbd445907c54\",\"type\":\"ToolbarBox\"},{\"attributes\":{\"callback\":null,\"data\":{\"band\":[\"1\",\"2\",\"3\",\"4\",\"5\",\"6\",\"7\",\"8\",\"9\",\"10\",\"11\"],\"flux\":{\"__ndarray__\":\"gGLUtfY+xz8ABgWlaOWyPwCnJVZGI7O/4NU5BmSv0D8AounsZHC4PwBAAg02dY6/QIl6wac50j8AHErtRbSNvwBDfBY6ZaA/AGgLdJJSdb9AysVzETqTPw==\",\"dtype\":\"float64\",\"shape\":[11]}},\"selected\":{\"id\":\"d310cba1-5d3d-4d3d-a411-dcbcfd5655f4\",\"type\":\"Selection\"},\"selection_policy\":{\"id\":\"89231c37-d7e2-41b6-871d-c4bb18ce1794\",\"type\":\"UnionRenderers\"}},\"id\":\"0153f12f-9cad-4665-bdfd-82e8d083e76a\",\"type\":\"ColumnDataSource\"},{\"attributes\":{\"tools\":[{\"id\":\"1942e16d-160f-41ec-be92-c2a39513b665\",\"type\":\"PanTool\"},{\"id\":\"114c57f6-764d-4c49-a497-79e0a047b996\",\"type\":\"WheelZoomTool\"},{\"id\":\"2183d85a-7d77-4eec-ba4d-69cf7ad4e6a6\",\"type\":\"BoxZoomTool\"},{\"id\":\"6ff6ae45-cdcb-467f-9576-e4db2ec8e62d\",\"type\":\"SaveTool\"},{\"id\":\"ddcf09f4-8cb4-4d11-9d4a-b39edab2f518\",\"type\":\"ResetTool\"},{\"id\":\"ccf91d6c-1800-4882-a9e2-81f148d453cc\",\"type\":\"HelpTool\"},{\"id\":\"880cd63c-b37d-4993-84ee-e3612924b576\",\"type\":\"PanTool\"},{\"id\":\"5cf1b5a0-f227-44e9-9194-3d9e164770d1\",\"type\":\"WheelZoomTool\"},{\"id\":\"27240d08-aa77-4a61-91e5-b75bb16b2ef2\",\"type\":\"BoxZoomTool\"},{\"id\":\"38087769-5a25-4f18-8f09-ce81623547b7\",\"type\":\"SaveTool\"},{\"id\":\"f663138f-f987-409b-ae5b-f114c541e4cf\",\"type\":\"ResetTool\"},{\"id\":\"347a761e-33fc-4a62-8c52-fee5b17d03a5\",\"type\":\"HelpTool\"},{\"id\":\"e62936b7-b81b-421a-9f32-f1237af828bf\",\"type\":\"PanTool\"},{\"id\":\"60b1a0d6-b3bb-4ee2-9b46-4288899d9236\",\"type\":\"WheelZoomTool\"},{\"id\":\"e3be1ec4-988e-4080-9dea-09ecdc4b28ed\",\"type\":\"BoxZoomTool\"},{\"id\":\"c639acb8-91d2-4d19-8228-7ca68012a432\",\"type\":\"SaveTool\"},{\"id\":\"60d1958a-9ed0-4934-8049-eda47b716410\",\"type\":\"ResetTool\"},{\"id\":\"63a45a5e-cfbc-4eca-8af1-8c4a44bd47af\",\"type\":\"HelpTool\"}]},\"id\":\"ccb1cae8-16c8-46f5-a162-2b06e4044174\",\"type\":\"ProxyToolbar\"},{\"attributes\":{\"plot\":{\"id\":\"7a77e917-a8f7-496d-b744-9557f7cac7d1\",\"subtype\":\"Figure\",\"type\":\"Plot\"},\"ticker\":{\"id\":\"288b07e2-a4b3-4c20-9860-f6395b26b318\",\"type\":\"CategoricalTicker\"}},\"id\":\"4e3b09bc-a223-43a8-8d37-eaec143f7f1c\",\"type\":\"Grid\"},{\"attributes\":{\"axis_label\":\"flux (W m-2)\",\"formatter\":{\"id\":\"944fc846-482b-4012-af08-fe30b577712a\",\"type\":\"BasicTickFormatter\"},\"plot\":{\"id\":\"7a77e917-a8f7-496d-b744-9557f7cac7d1\",\"subtype\":\"Figure\",\"type\":\"Plot\"},\"ticker\":{\"id\":\"206b501b-047a-4967-b936-7425b02562f0\",\"type\":\"BasicTicker\"}},\"id\":\"78d3a9d2-bd4a-40a1-af6b-40a727b3501b\",\"type\":\"LinearAxis\"},{\"attributes\":{},\"id\":\"6ff6ae45-cdcb-467f-9576-e4db2ec8e62d\",\"type\":\"SaveTool\"},{\"attributes\":{\"callback\":null},\"id\":\"6442d59f-4432-43f6-9c24-a6d79fb60eda\",\"type\":\"DataRange1d\"},{\"attributes\":{},\"id\":\"944fc846-482b-4012-af08-fe30b577712a\",\"type\":\"BasicTickFormatter\"},{\"attributes\":{},\"id\":\"127d92d3-8d2c-483d-977e-7cdfec935d1a\",\"type\":\"LinearScale\"},{\"attributes\":{\"callback\":null,\"factors\":[\"1\",\"2\",\"3\",\"4\",\"5\",\"6\",\"7\",\"8\",\"9\",\"10\",\"11\"]},\"id\":\"caf8fd83-dd6d-430f-9021-924cacba81bc\",\"type\":\"FactorRange\"},{\"attributes\":{},\"id\":\"1942e16d-160f-41ec-be92-c2a39513b665\",\"type\":\"PanTool\"},{\"attributes\":{},\"id\":\"7beaf4aa-c2ba-4c11-9eed-c4c7ed3eeeb0\",\"type\":\"CategoricalTickFormatter\"},{\"attributes\":{\"fill_color\":{\"value\":\"#1f77b4\"},\"line_color\":{\"value\":\"#1f77b4\"},\"top\":{\"field\":\"flux\"},\"width\":{\"value\":0.9},\"x\":{\"field\":\"band\"}},\"id\":\"3d04b624-8809-445a-8b96-2254ed13bd83\",\"type\":\"VBar\"},{\"attributes\":{\"fill_alpha\":{\"value\":0.1},\"fill_color\":{\"value\":\"#1f77b4\"},\"line_alpha\":{\"value\":0.1},\"line_color\":{\"value\":\"#1f77b4\"},\"top\":{\"field\":\"flux\"},\"width\":{\"value\":0.9},\"x\":{\"field\":\"band\"}},\"id\":\"1a55fd1b-8278-488b-a53f-0583bbe684df\",\"type\":\"VBar\"},{\"attributes\":{\"dimension\":1,\"plot\":{\"id\":\"8aba2c7a-95a3-499c-8724-4c7ad2878b31\",\"subtype\":\"Figure\",\"type\":\"Plot\"},\"ticker\":{\"id\":\"aaffa5c5-0dfa-4bfc-94bd-d0acd5107018\",\"type\":\"BasicTicker\"}},\"id\":\"850a1a94-afc8-4e38-b508-e956ef1a42e0\",\"type\":\"Grid\"},{\"attributes\":{\"fill_color\":{\"value\":\"#1f77b4\"},\"line_color\":{\"value\":\"#1f77b4\"},\"top\":{\"field\":\"flux\"},\"width\":{\"value\":0.9},\"x\":{\"field\":\"band\"}},\"id\":\"f9a6f777-a6df-4125-8464-b27d9288738a\",\"type\":\"VBar\"},{\"attributes\":{\"plot\":{\"id\":\"8aba2c7a-95a3-499c-8724-4c7ad2878b31\",\"subtype\":\"Figure\",\"type\":\"Plot\"},\"ticker\":{\"id\":\"766003b3-7dc6-4090-9c32-1851c2a14fc9\",\"type\":\"CategoricalTicker\"}},\"id\":\"77936a0a-ce78-42ae-a121-0f417a08d67a\",\"type\":\"Grid\"},{\"attributes\":{},\"id\":\"9c41be4d-d658-46ba-86cd-1ce253f8a3d8\",\"type\":\"BasicTickFormatter\"},{\"attributes\":{\"data_source\":{\"id\":\"5f151a05-8303-43f8-a700-d4db97208457\",\"type\":\"ColumnDataSource\"},\"glyph\":{\"id\":\"3d04b624-8809-445a-8b96-2254ed13bd83\",\"type\":\"VBar\"},\"hover_glyph\":null,\"muted_glyph\":null,\"nonselection_glyph\":{\"id\":\"7d6e5c67-cfab-477b-a417-5275b3b09519\",\"type\":\"VBar\"},\"selection_glyph\":null,\"view\":{\"id\":\"2830d394-f2d5-4ab1-b8a6-f9fd9612c48d\",\"type\":\"CDSView\"}},\"id\":\"427d4472-9013-4573-bb99-76a1cb1eba02\",\"type\":\"GlyphRenderer\"},{\"attributes\":{},\"id\":\"114c57f6-764d-4c49-a497-79e0a047b996\",\"type\":\"WheelZoomTool\"},{\"attributes\":{},\"id\":\"031bbb5f-9b65-40e6-b6cc-dd554adadce8\",\"type\":\"CategoricalTickFormatter\"},{\"attributes\":{},\"id\":\"1c83d140-c558-4667-a929-e534a52174ac\",\"type\":\"BasicTickFormatter\"},{\"attributes\":{},\"id\":\"89814f1c-53a1-49af-9836-a77c20e2541b\",\"type\":\"UnionRenderers\"},{\"attributes\":{},\"id\":\"89231c37-d7e2-41b6-871d-c4bb18ce1794\",\"type\":\"UnionRenderers\"},{\"attributes\":{\"callback\":null,\"factors\":[\"1\",\"2\",\"3\",\"4\",\"5\",\"6\",\"7\",\"8\",\"9\",\"10\",\"11\"]},\"id\":\"c9b4ce97-3535-4572-b23a-ad345cc2f3ad\",\"type\":\"FactorRange\"},{\"attributes\":{\"plot\":null,\"text\":\"TOA flux. CLIRAD (single-run) - CRD.\"},\"id\":\"fd26ed45-7615-4290-ad6c-137bf01055b1\",\"type\":\"Title\"},{\"attributes\":{},\"id\":\"38087769-5a25-4f18-8f09-ce81623547b7\",\"type\":\"SaveTool\"},{\"attributes\":{\"fill_alpha\":{\"value\":0.1},\"fill_color\":{\"value\":\"#1f77b4\"},\"line_alpha\":{\"value\":0.1},\"line_color\":{\"value\":\"#1f77b4\"},\"top\":{\"field\":\"flux\"},\"width\":{\"value\":0.9},\"x\":{\"field\":\"band\"}},\"id\":\"3e0036ef-5963-44fb-a569-5297cce68f51\",\"type\":\"VBar\"},{\"attributes\":{},\"id\":\"ccf91d6c-1800-4882-a9e2-81f148d453cc\",\"type\":\"HelpTool\"},{\"attributes\":{\"overlay\":{\"id\":\"1eb92c79-551c-470e-ac39-e23c5a1c6819\",\"type\":\"BoxAnnotation\"}},\"id\":\"27240d08-aa77-4a61-91e5-b75bb16b2ef2\",\"type\":\"BoxZoomTool\"},{\"attributes\":{\"children\":[{\"id\":\"8aba2c7a-95a3-499c-8724-4c7ad2878b31\",\"subtype\":\"Figure\",\"type\":\"Plot\"},{\"id\":\"c28a69ba-1b86-4cae-9d0b-1ab507a1f6a8\",\"subtype\":\"Figure\",\"type\":\"Plot\"},{\"id\":\"7a77e917-a8f7-496d-b744-9557f7cac7d1\",\"subtype\":\"Figure\",\"type\":\"Plot\"}]},\"id\":\"cdfe4cd0-2544-4c41-870a-36d3e0eb2ead\",\"type\":\"Row\"},{\"attributes\":{},\"id\":\"c39c15e9-7184-41b0-a898-1cfef367e5ea\",\"type\":\"CategoricalTicker\"},{\"attributes\":{\"source\":{\"id\":\"efe009f4-240d-4ff1-8d94-2267830758a6\",\"type\":\"ColumnDataSource\"}},\"id\":\"9d578717-e7c7-4da6-be99-da23d84cffeb\",\"type\":\"CDSView\"},{\"attributes\":{\"axis_label\":\"flux (W m-2)\",\"formatter\":{\"id\":\"1c83d140-c558-4667-a929-e534a52174ac\",\"type\":\"BasicTickFormatter\"},\"plot\":{\"id\":\"8aba2c7a-95a3-499c-8724-4c7ad2878b31\",\"subtype\":\"Figure\",\"type\":\"Plot\"},\"ticker\":{\"id\":\"aaffa5c5-0dfa-4bfc-94bd-d0acd5107018\",\"type\":\"BasicTicker\"}},\"id\":\"60b55854-da84-46eb-9653-2b875e329080\",\"type\":\"LinearAxis\"},{\"attributes\":{\"axis_label\":\"spectral band\",\"formatter\":{\"id\":\"031bbb5f-9b65-40e6-b6cc-dd554adadce8\",\"type\":\"CategoricalTickFormatter\"},\"plot\":{\"id\":\"c28a69ba-1b86-4cae-9d0b-1ab507a1f6a8\",\"subtype\":\"Figure\",\"type\":\"Plot\"},\"ticker\":{\"id\":\"c39c15e9-7184-41b0-a898-1cfef367e5ea\",\"type\":\"CategoricalTicker\"}},\"id\":\"38b9e800-6244-4ea3-889b-803b150250e8\",\"type\":\"CategoricalAxis\"},{\"attributes\":{\"callback\":null},\"id\":\"ba38bc57-11bd-45f3-a49d-1c7adc278a98\",\"type\":\"DataRange1d\"},{\"attributes\":{\"bottom_units\":\"screen\",\"fill_alpha\":{\"value\":0.5},\"fill_color\":{\"value\":\"lightgrey\"},\"left_units\":\"screen\",\"level\":\"overlay\",\"line_alpha\":{\"value\":1.0},\"line_color\":{\"value\":\"black\"},\"line_dash\":[4,4],\"line_width\":{\"value\":2},\"plot\":null,\"render_mode\":\"css\",\"right_units\":\"screen\",\"top_units\":\"screen\"},\"id\":\"22c5aedb-1fc0-47d4-b878-45900ddd9615\",\"type\":\"BoxAnnotation\"},{\"attributes\":{\"plot\":null,\"text\":\"Atmosphere heating. CLIRAD (single-run) - CRD.\"},\"id\":\"ef2efce9-b1d2-4a89-b5cd-df574a8e1477\",\"type\":\"Title\"},{\"attributes\":{},\"id\":\"c639acb8-91d2-4d19-8228-7ca68012a432\",\"type\":\"SaveTool\"},{\"attributes\":{\"fill_alpha\":{\"value\":0.1},\"fill_color\":{\"value\":\"#1f77b4\"},\"line_alpha\":{\"value\":0.1},\"line_color\":{\"value\":\"#1f77b4\"},\"top\":{\"field\":\"flux\"},\"width\":{\"value\":0.9},\"x\":{\"field\":\"band\"}},\"id\":\"7d6e5c67-cfab-477b-a417-5275b3b09519\",\"type\":\"VBar\"},{\"attributes\":{\"callback\":null,\"data\":{\"band\":[\"1\",\"2\",\"3\",\"4\",\"5\",\"6\",\"7\",\"8\",\"9\",\"10\",\"11\"],\"flux\":{\"__ndarray__\":\"gOIKWg6Vxz8AZUNIJ1zKP2BFireEstw/AGTOOK8fxj8A/fGoQk24vwBBZJEm3rU/wCMPRBZpzD+AUnx8QnawPwAooORpVIs/gEM6lz1kpb+Au8+vtRCPPw==\",\"dtype\":\"float64\",\"shape\":[11]}},\"selected\":{\"id\":\"7287d143-e093-45be-a69a-5e318e03aed6\",\"type\":\"Selection\"},\"selection_policy\":{\"id\":\"e8f03970-a56a-4423-a12d-4b8ac67315a8\",\"type\":\"UnionRenderers\"}},\"id\":\"efe009f4-240d-4ff1-8d94-2267830758a6\",\"type\":\"ColumnDataSource\"},{\"attributes\":{\"bottom_units\":\"screen\",\"fill_alpha\":{\"value\":0.5},\"fill_color\":{\"value\":\"lightgrey\"},\"left_units\":\"screen\",\"level\":\"overlay\",\"line_alpha\":{\"value\":1.0},\"line_color\":{\"value\":\"black\"},\"line_dash\":[4,4],\"line_width\":{\"value\":2},\"plot\":null,\"render_mode\":\"css\",\"right_units\":\"screen\",\"top_units\":\"screen\"},\"id\":\"02b344aa-2d3c-41e6-a4fe-ebbfc9a11d39\",\"type\":\"BoxAnnotation\"},{\"attributes\":{\"data_source\":{\"id\":\"efe009f4-240d-4ff1-8d94-2267830758a6\",\"type\":\"ColumnDataSource\"},\"glyph\":{\"id\":\"f9a6f777-a6df-4125-8464-b27d9288738a\",\"type\":\"VBar\"},\"hover_glyph\":null,\"muted_glyph\":null,\"nonselection_glyph\":{\"id\":\"1a55fd1b-8278-488b-a53f-0583bbe684df\",\"type\":\"VBar\"},\"selection_glyph\":null,\"view\":{\"id\":\"9d578717-e7c7-4da6-be99-da23d84cffeb\",\"type\":\"CDSView\"}},\"id\":\"4b12175d-e8f6-4bbb-b5a0-cd62960a733a\",\"type\":\"GlyphRenderer\"},{\"attributes\":{\"below\":[{\"id\":\"0797dc9e-8f2b-4886-83b7-4aef64d50530\",\"type\":\"CategoricalAxis\"}],\"left\":[{\"id\":\"60b55854-da84-46eb-9653-2b875e329080\",\"type\":\"LinearAxis\"}],\"plot_height\":300,\"plot_width\":300,\"renderers\":[{\"id\":\"0797dc9e-8f2b-4886-83b7-4aef64d50530\",\"type\":\"CategoricalAxis\"},{\"id\":\"77936a0a-ce78-42ae-a121-0f417a08d67a\",\"type\":\"Grid\"},{\"id\":\"60b55854-da84-46eb-9653-2b875e329080\",\"type\":\"LinearAxis\"},{\"id\":\"850a1a94-afc8-4e38-b508-e956ef1a42e0\",\"type\":\"Grid\"},{\"id\":\"22c5aedb-1fc0-47d4-b878-45900ddd9615\",\"type\":\"BoxAnnotation\"},{\"id\":\"4ff00857-38b5-4549-bbfc-5c1e125d717a\",\"type\":\"GlyphRenderer\"}],\"title\":{\"id\":\"fd26ed45-7615-4290-ad6c-137bf01055b1\",\"type\":\"Title\"},\"toolbar\":{\"id\":\"4a627aa3-c447-4fb0-a62a-3cd47af7e089\",\"type\":\"Toolbar\"},\"toolbar_location\":null,\"x_range\":{\"id\":\"a707ad38-4e23-4e78-8d1a-395d78a4b531\",\"type\":\"FactorRange\"},\"x_scale\":{\"id\":\"8e39a5e2-bf1d-4f5f-9c7d-b26aff0ed9dd\",\"type\":\"CategoricalScale\"},\"y_range\":{\"id\":\"ba38bc57-11bd-45f3-a49d-1c7adc278a98\",\"type\":\"DataRange1d\"},\"y_scale\":{\"id\":\"127d92d3-8d2c-483d-977e-7cdfec935d1a\",\"type\":\"LinearScale\"}},\"id\":\"8aba2c7a-95a3-499c-8724-4c7ad2878b31\",\"subtype\":\"Figure\",\"type\":\"Plot\"},{\"attributes\":{\"source\":{\"id\":\"0153f12f-9cad-4665-bdfd-82e8d083e76a\",\"type\":\"ColumnDataSource\"}},\"id\":\"11ca6cce-356a-465e-9b35-c342f700eb58\",\"type\":\"CDSView\"},{\"attributes\":{},\"id\":\"60d1958a-9ed0-4934-8049-eda47b716410\",\"type\":\"ResetTool\"},{\"attributes\":{\"children\":[{\"id\":\"cdfe4cd0-2544-4c41-870a-36d3e0eb2ead\",\"type\":\"Row\"}]},\"id\":\"94347b31-ae0e-4c49-a123-0373bbd9ced8\",\"type\":\"Column\"},{\"attributes\":{},\"id\":\"766003b3-7dc6-4090-9c32-1851c2a14fc9\",\"type\":\"CategoricalTicker\"},{\"attributes\":{\"callback\":null,\"factors\":[\"1\",\"2\",\"3\",\"4\",\"5\",\"6\",\"7\",\"8\",\"9\",\"10\",\"11\"]},\"id\":\"a707ad38-4e23-4e78-8d1a-395d78a4b531\",\"type\":\"FactorRange\"},{\"attributes\":{},\"id\":\"1337c702-169c-4d0c-9457-7bfffd4cd4d0\",\"type\":\"CategoricalScale\"},{\"attributes\":{},\"id\":\"aee8daba-3422-44e9-bf34-595153d00693\",\"type\":\"CategoricalScale\"},{\"attributes\":{},\"id\":\"7287d143-e093-45be-a69a-5e318e03aed6\",\"type\":\"Selection\"},{\"attributes\":{\"plot\":null,\"text\":\"SFC flux. CLIRAD (single-run) - CRD.\"},\"id\":\"788a55a8-a96a-4a59-ad72-e41954b412b5\",\"type\":\"Title\"},{\"attributes\":{},\"id\":\"7a8e0c44-7e6c-42b8-ac63-7756aca3bc7d\",\"type\":\"LinearScale\"},{\"attributes\":{\"overlay\":{\"id\":\"22c5aedb-1fc0-47d4-b878-45900ddd9615\",\"type\":\"BoxAnnotation\"}},\"id\":\"2183d85a-7d77-4eec-ba4d-69cf7ad4e6a6\",\"type\":\"BoxZoomTool\"},{\"attributes\":{},\"id\":\"f663138f-f987-409b-ae5b-f114c541e4cf\",\"type\":\"ResetTool\"},{\"attributes\":{\"data_source\":{\"id\":\"0153f12f-9cad-4665-bdfd-82e8d083e76a\",\"type\":\"ColumnDataSource\"},\"glyph\":{\"id\":\"e79cf171-fa45-48f8-8f3a-6692db67ca7f\",\"type\":\"VBar\"},\"hover_glyph\":null,\"muted_glyph\":null,\"nonselection_glyph\":{\"id\":\"3e0036ef-5963-44fb-a569-5297cce68f51\",\"type\":\"VBar\"},\"selection_glyph\":null,\"view\":{\"id\":\"11ca6cce-356a-465e-9b35-c342f700eb58\",\"type\":\"CDSView\"}},\"id\":\"4ff00857-38b5-4549-bbfc-5c1e125d717a\",\"type\":\"GlyphRenderer\"},{\"attributes\":{},\"id\":\"206b501b-047a-4967-b936-7425b02562f0\",\"type\":\"BasicTicker\"},{\"attributes\":{},\"id\":\"60b1a0d6-b3bb-4ee2-9b46-4288899d9236\",\"type\":\"WheelZoomTool\"},{\"attributes\":{\"overlay\":{\"id\":\"02b344aa-2d3c-41e6-a4fe-ebbfc9a11d39\",\"type\":\"BoxAnnotation\"}},\"id\":\"e3be1ec4-988e-4080-9dea-09ecdc4b28ed\",\"type\":\"BoxZoomTool\"},{\"attributes\":{\"fill_color\":{\"value\":\"#1f77b4\"},\"line_color\":{\"value\":\"#1f77b4\"},\"top\":{\"field\":\"flux\"},\"width\":{\"value\":0.9},\"x\":{\"field\":\"band\"}},\"id\":\"e79cf171-fa45-48f8-8f3a-6692db67ca7f\",\"type\":\"VBar\"},{\"attributes\":{},\"id\":\"347a761e-33fc-4a62-8c52-fee5b17d03a5\",\"type\":\"HelpTool\"},{\"attributes\":{},\"id\":\"63a45a5e-cfbc-4eca-8af1-8c4a44bd47af\",\"type\":\"HelpTool\"},{\"attributes\":{\"bottom_units\":\"screen\",\"fill_alpha\":{\"value\":0.5},\"fill_color\":{\"value\":\"lightgrey\"},\"left_units\":\"screen\",\"level\":\"overlay\",\"line_alpha\":{\"value\":1.0},\"line_color\":{\"value\":\"black\"},\"line_dash\":[4,4],\"line_width\":{\"value\":2},\"plot\":null,\"render_mode\":\"css\",\"right_units\":\"screen\",\"top_units\":\"screen\"},\"id\":\"1eb92c79-551c-470e-ac39-e23c5a1c6819\",\"type\":\"BoxAnnotation\"},{\"attributes\":{\"below\":[{\"id\":\"38b9e800-6244-4ea3-889b-803b150250e8\",\"type\":\"CategoricalAxis\"}],\"left\":[{\"id\":\"2c283077-8cea-4e24-93dd-0c8354b7fc0c\",\"type\":\"LinearAxis\"}],\"plot_height\":300,\"plot_width\":300,\"renderers\":[{\"id\":\"38b9e800-6244-4ea3-889b-803b150250e8\",\"type\":\"CategoricalAxis\"},{\"id\":\"9d361e15-7c63-41f7-a7c6-3e5eaad4cd2d\",\"type\":\"Grid\"},{\"id\":\"2c283077-8cea-4e24-93dd-0c8354b7fc0c\",\"type\":\"LinearAxis\"},{\"id\":\"98f11c8c-07ad-4521-9262-8b983e2fcba2\",\"type\":\"Grid\"},{\"id\":\"1eb92c79-551c-470e-ac39-e23c5a1c6819\",\"type\":\"BoxAnnotation\"},{\"id\":\"427d4472-9013-4573-bb99-76a1cb1eba02\",\"type\":\"GlyphRenderer\"}],\"title\":{\"id\":\"788a55a8-a96a-4a59-ad72-e41954b412b5\",\"type\":\"Title\"},\"toolbar\":{\"id\":\"a5f7d0f5-1deb-4f8e-9d71-1813413cbdc5\",\"type\":\"Toolbar\"},\"toolbar_location\":null,\"x_range\":{\"id\":\"c9b4ce97-3535-4572-b23a-ad345cc2f3ad\",\"type\":\"FactorRange\"},\"x_scale\":{\"id\":\"1337c702-169c-4d0c-9457-7bfffd4cd4d0\",\"type\":\"CategoricalScale\"},\"y_range\":{\"id\":\"31c027f7-c8fa-4eb4-8ba2-4f02a36b15b6\",\"type\":\"DataRange1d\"},\"y_scale\":{\"id\":\"7a8e0c44-7e6c-42b8-ac63-7756aca3bc7d\",\"type\":\"LinearScale\"}},\"id\":\"c28a69ba-1b86-4cae-9d0b-1ab507a1f6a8\",\"subtype\":\"Figure\",\"type\":\"Plot\"},{\"attributes\":{},\"id\":\"9af71ebe-bb06-4d6a-8e0c-da37c6aeee02\",\"type\":\"BasicTicker\"},{\"attributes\":{\"dimension\":1,\"plot\":{\"id\":\"7a77e917-a8f7-496d-b744-9557f7cac7d1\",\"subtype\":\"Figure\",\"type\":\"Plot\"},\"ticker\":{\"id\":\"206b501b-047a-4967-b936-7425b02562f0\",\"type\":\"BasicTicker\"}},\"id\":\"83322826-47d8-4052-980d-142fd7bbbce9\",\"type\":\"Grid\"},{\"attributes\":{\"axis_label\":\"spectral band\",\"formatter\":{\"id\":\"7beaf4aa-c2ba-4c11-9eed-c4c7ed3eeeb0\",\"type\":\"CategoricalTickFormatter\"},\"plot\":{\"id\":\"7a77e917-a8f7-496d-b744-9557f7cac7d1\",\"subtype\":\"Figure\",\"type\":\"Plot\"},\"ticker\":{\"id\":\"288b07e2-a4b3-4c20-9860-f6395b26b318\",\"type\":\"CategoricalTicker\"}},\"id\":\"a85f2888-174c-4046-ab05-a0d84e24279f\",\"type\":\"CategoricalAxis\"},{\"attributes\":{},\"id\":\"aaffa5c5-0dfa-4bfc-94bd-d0acd5107018\",\"type\":\"BasicTicker\"},{\"attributes\":{},\"id\":\"5cf1b5a0-f227-44e9-9194-3d9e164770d1\",\"type\":\"WheelZoomTool\"},{\"attributes\":{\"below\":[{\"id\":\"a85f2888-174c-4046-ab05-a0d84e24279f\",\"type\":\"CategoricalAxis\"}],\"left\":[{\"id\":\"78d3a9d2-bd4a-40a1-af6b-40a727b3501b\",\"type\":\"LinearAxis\"}],\"plot_height\":300,\"plot_width\":300,\"renderers\":[{\"id\":\"a85f2888-174c-4046-ab05-a0d84e24279f\",\"type\":\"CategoricalAxis\"},{\"id\":\"4e3b09bc-a223-43a8-8d37-eaec143f7f1c\",\"type\":\"Grid\"},{\"id\":\"78d3a9d2-bd4a-40a1-af6b-40a727b3501b\",\"type\":\"LinearAxis\"},{\"id\":\"83322826-47d8-4052-980d-142fd7bbbce9\",\"type\":\"Grid\"},{\"id\":\"02b344aa-2d3c-41e6-a4fe-ebbfc9a11d39\",\"type\":\"BoxAnnotation\"},{\"id\":\"4b12175d-e8f6-4bbb-b5a0-cd62960a733a\",\"type\":\"GlyphRenderer\"}],\"title\":{\"id\":\"ef2efce9-b1d2-4a89-b5cd-df574a8e1477\",\"type\":\"Title\"},\"toolbar\":{\"id\":\"bdc3f6e8-8ad8-4fa0-b8bf-12c2ba5c0362\",\"type\":\"Toolbar\"},\"toolbar_location\":null,\"x_range\":{\"id\":\"caf8fd83-dd6d-430f-9021-924cacba81bc\",\"type\":\"FactorRange\"},\"x_scale\":{\"id\":\"aee8daba-3422-44e9-bf34-595153d00693\",\"type\":\"CategoricalScale\"},\"y_range\":{\"id\":\"6442d59f-4432-43f6-9c24-a6d79fb60eda\",\"type\":\"DataRange1d\"},\"y_scale\":{\"id\":\"6eb05145-506d-48d5-abbb-6922847ce5bc\",\"type\":\"LinearScale\"}},\"id\":\"7a77e917-a8f7-496d-b744-9557f7cac7d1\",\"subtype\":\"Figure\",\"type\":\"Plot\"},{\"attributes\":{\"axis_label\":\"spectral band\",\"formatter\":{\"id\":\"bb285c2f-b80f-4283-b0c7-db800374512c\",\"type\":\"CategoricalTickFormatter\"},\"plot\":{\"id\":\"8aba2c7a-95a3-499c-8724-4c7ad2878b31\",\"subtype\":\"Figure\",\"type\":\"Plot\"},\"ticker\":{\"id\":\"766003b3-7dc6-4090-9c32-1851c2a14fc9\",\"type\":\"CategoricalTicker\"}},\"id\":\"0797dc9e-8f2b-4886-83b7-4aef64d50530\",\"type\":\"CategoricalAxis\"},{\"attributes\":{},\"id\":\"6eb05145-506d-48d5-abbb-6922847ce5bc\",\"type\":\"LinearScale\"},{\"attributes\":{},\"id\":\"8e39a5e2-bf1d-4f5f-9c7d-b26aff0ed9dd\",\"type\":\"CategoricalScale\"},{\"attributes\":{},\"id\":\"bb285c2f-b80f-4283-b0c7-db800374512c\",\"type\":\"CategoricalTickFormatter\"},{\"attributes\":{\"active_drag\":\"auto\",\"active_inspect\":\"auto\",\"active_scroll\":\"auto\",\"active_tap\":\"auto\",\"tools\":[{\"id\":\"e62936b7-b81b-421a-9f32-f1237af828bf\",\"type\":\"PanTool\"},{\"id\":\"60b1a0d6-b3bb-4ee2-9b46-4288899d9236\",\"type\":\"WheelZoomTool\"},{\"id\":\"e3be1ec4-988e-4080-9dea-09ecdc4b28ed\",\"type\":\"BoxZoomTool\"},{\"id\":\"c639acb8-91d2-4d19-8228-7ca68012a432\",\"type\":\"SaveTool\"},{\"id\":\"60d1958a-9ed0-4934-8049-eda47b716410\",\"type\":\"ResetTool\"},{\"id\":\"63a45a5e-cfbc-4eca-8af1-8c4a44bd47af\",\"type\":\"HelpTool\"}]},\"id\":\"bdc3f6e8-8ad8-4fa0-b8bf-12c2ba5c0362\",\"type\":\"Toolbar\"},{\"attributes\":{},\"id\":\"e8f03970-a56a-4423-a12d-4b8ac67315a8\",\"type\":\"UnionRenderers\"},{\"attributes\":{},\"id\":\"e62936b7-b81b-421a-9f32-f1237af828bf\",\"type\":\"PanTool\"},{\"attributes\":{\"plot\":{\"id\":\"c28a69ba-1b86-4cae-9d0b-1ab507a1f6a8\",\"subtype\":\"Figure\",\"type\":\"Plot\"},\"ticker\":{\"id\":\"c39c15e9-7184-41b0-a898-1cfef367e5ea\",\"type\":\"CategoricalTicker\"}},\"id\":\"9d361e15-7c63-41f7-a7c6-3e5eaad4cd2d\",\"type\":\"Grid\"},{\"attributes\":{},\"id\":\"288b07e2-a4b3-4c20-9860-f6395b26b318\",\"type\":\"CategoricalTicker\"},{\"attributes\":{\"callback\":null},\"id\":\"31c027f7-c8fa-4eb4-8ba2-4f02a36b15b6\",\"type\":\"DataRange1d\"},{\"attributes\":{\"dimension\":1,\"plot\":{\"id\":\"c28a69ba-1b86-4cae-9d0b-1ab507a1f6a8\",\"subtype\":\"Figure\",\"type\":\"Plot\"},\"ticker\":{\"id\":\"9af71ebe-bb06-4d6a-8e0c-da37c6aeee02\",\"type\":\"BasicTicker\"}},\"id\":\"98f11c8c-07ad-4521-9262-8b983e2fcba2\",\"type\":\"Grid\"},{\"attributes\":{},\"id\":\"880cd63c-b37d-4993-84ee-e3612924b576\",\"type\":\"PanTool\"},{\"attributes\":{\"active_drag\":\"auto\",\"active_inspect\":\"auto\",\"active_scroll\":\"auto\",\"active_tap\":\"auto\",\"tools\":[{\"id\":\"1942e16d-160f-41ec-be92-c2a39513b665\",\"type\":\"PanTool\"},{\"id\":\"114c57f6-764d-4c49-a497-79e0a047b996\",\"type\":\"WheelZoomTool\"},{\"id\":\"2183d85a-7d77-4eec-ba4d-69cf7ad4e6a6\",\"type\":\"BoxZoomTool\"},{\"id\":\"6ff6ae45-cdcb-467f-9576-e4db2ec8e62d\",\"type\":\"SaveTool\"},{\"id\":\"ddcf09f4-8cb4-4d11-9d4a-b39edab2f518\",\"type\":\"ResetTool\"},{\"id\":\"ccf91d6c-1800-4882-a9e2-81f148d453cc\",\"type\":\"HelpTool\"}]},\"id\":\"4a627aa3-c447-4fb0-a62a-3cd47af7e089\",\"type\":\"Toolbar\"},{\"attributes\":{\"axis_label\":\"flux (W m-2)\",\"formatter\":{\"id\":\"9c41be4d-d658-46ba-86cd-1ce253f8a3d8\",\"type\":\"BasicTickFormatter\"},\"plot\":{\"id\":\"c28a69ba-1b86-4cae-9d0b-1ab507a1f6a8\",\"subtype\":\"Figure\",\"type\":\"Plot\"},\"ticker\":{\"id\":\"9af71ebe-bb06-4d6a-8e0c-da37c6aeee02\",\"type\":\"BasicTicker\"}},\"id\":\"2c283077-8cea-4e24-93dd-0c8354b7fc0c\",\"type\":\"LinearAxis\"},{\"attributes\":{\"active_drag\":\"auto\",\"active_inspect\":\"auto\",\"active_scroll\":\"auto\",\"active_tap\":\"auto\",\"tools\":[{\"id\":\"880cd63c-b37d-4993-84ee-e3612924b576\",\"type\":\"PanTool\"},{\"id\":\"5cf1b5a0-f227-44e9-9194-3d9e164770d1\",\"type\":\"WheelZoomTool\"},{\"id\":\"27240d08-aa77-4a61-91e5-b75bb16b2ef2\",\"type\":\"BoxZoomTool\"},{\"id\":\"38087769-5a25-4f18-8f09-ce81623547b7\",\"type\":\"SaveTool\"},{\"id\":\"f663138f-f987-409b-ae5b-f114c541e4cf\",\"type\":\"ResetTool\"},{\"id\":\"347a761e-33fc-4a62-8c52-fee5b17d03a5\",\"type\":\"HelpTool\"}]},\"id\":\"a5f7d0f5-1deb-4f8e-9d71-1813413cbdc5\",\"type\":\"Toolbar\"},{\"attributes\":{\"source\":{\"id\":\"5f151a05-8303-43f8-a700-d4db97208457\",\"type\":\"ColumnDataSource\"}},\"id\":\"2830d394-f2d5-4ab1-b8a6-f9fd9612c48d\",\"type\":\"CDSView\"},{\"attributes\":{},\"id\":\"afec860c-c865-4ac1-b194-ee0b5a2d69cc\",\"type\":\"Selection\"},{\"attributes\":{},\"id\":\"ddcf09f4-8cb4-4d11-9d4a-b39edab2f518\",\"type\":\"ResetTool\"}],\"root_ids\":[\"cfb99ab7-53a9-4707-9d9c-87faa8204b76\"]},\"title\":\"Bokeh Application\",\"version\":\"0.12.16\"}};\n",
       "  var render_items = [{\"docid\":\"4a19e9da-8663-44cc-bc44-0d787fea8b13\",\"elementid\":\"54d7469a-6992-4e8b-a58d-380713f2141b\",\"modelid\":\"cfb99ab7-53a9-4707-9d9c-87faa8204b76\"}];\n",
       "  root.Bokeh.embed.embed_items_notebook(docs_json, render_items);\n",
       "\n",
       "  }\n",
       "  if (root.Bokeh !== undefined) {\n",
       "    embed_document(root);\n",
       "  } else {\n",
       "    var attempts = 0;\n",
       "    var timer = setInterval(function(root) {\n",
       "      if (root.Bokeh !== undefined) {\n",
       "        embed_document(root);\n",
       "        clearInterval(timer);\n",
       "      }\n",
       "      attempts++;\n",
       "      if (attempts > 100) {\n",
       "        console.log(\"Bokeh: ERROR: Unable to run BokehJS code because BokehJS library is missing\")\n",
       "        clearInterval(timer);\n",
       "      }\n",
       "    }, 10, root)\n",
       "  }\n",
       "})(window);"
      ],
      "application/vnd.bokehjs_exec.v0+json": ""
     },
     "metadata": {
      "application/vnd.bokehjs_exec.v0+json": {
       "id": "cfb99ab7-53a9-4707-9d9c-87faa8204b76"
      }
     },
     "output_type": "display_data"
    },
    {
     "data": {
      "text/markdown": [
       "*FIGURE.* Difference between CLIRAD and CRD in TOA, SFC and net atmosphere flux, in each spectral band."
      ],
      "text/plain": [
       "<IPython.core.display.Markdown object>"
      ]
     },
     "metadata": {},
     "output_type": "display_data"
    },
    {
     "data": {
      "text/html": [
       "<div>\n",
       "<style scoped>\n",
       "    .dataframe tbody tr th:only-of-type {\n",
       "        vertical-align: middle;\n",
       "    }\n",
       "\n",
       "    .dataframe tbody tr th {\n",
       "        vertical-align: top;\n",
       "    }\n",
       "\n",
       "    .dataframe thead th {\n",
       "        text-align: right;\n",
       "    }\n",
       "</style>\n",
       "<table border=\"1\" class=\"dataframe\">\n",
       "  <thead>\n",
       "    <tr style=\"text-align: right;\">\n",
       "      <th></th>\n",
       "      <th>OLR flux</th>\n",
       "      <th>SFC flux</th>\n",
       "      <th>ATM heating</th>\n",
       "    </tr>\n",
       "    <tr>\n",
       "      <th>Sum over bands</th>\n",
       "      <th></th>\n",
       "      <th></th>\n",
       "      <th></th>\n",
       "    </tr>\n",
       "  </thead>\n",
       "  <tbody>\n",
       "    <tr>\n",
       "      <th>CLIRAD (single-run) - CRD</th>\n",
       "      <td>0.84</td>\n",
       "      <td>-0.44</td>\n",
       "      <td>1.27</td>\n",
       "    </tr>\n",
       "    <tr>\n",
       "      <th>CRD</th>\n",
       "      <td>-201.06</td>\n",
       "      <td>166.03</td>\n",
       "      <td>-119.67</td>\n",
       "    </tr>\n",
       "  </tbody>\n",
       "</table>\n",
       "</div>"
      ],
      "text/plain": [
       "                           OLR flux  SFC flux  ATM heating\n",
       "Sum over bands                                            \n",
       "CLIRAD (single-run) - CRD      0.84     -0.44         1.27\n",
       "CRD                         -201.06    166.03      -119.67"
      ]
     },
     "metadata": {},
     "output_type": "display_data"
    },
    {
     "data": {
      "text/markdown": [
       "*TABLE.* Difference between CLIRAD and CRD in TOA, SFC and net atmosphere flux, over all spectral bands. CRD's TOA, SFC and net atmosphere flux, over all spectral bands."
      ],
      "text/plain": [
       "<IPython.core.display.Markdown object>"
      ]
     },
     "metadata": {},
     "output_type": "display_data"
    },
    {
     "data": {
      "text/html": [
       "<a id=\"Cooling_rates._trp.\"></a>"
      ],
      "text/plain": [
       "<IPython.core.display.HTML object>"
      ]
     },
     "metadata": {},
     "output_type": "display_data"
    },
    {
     "data": {
      "text/markdown": [
       "# Cooling rates. trp."
      ],
      "text/plain": [
       "<IPython.core.display.Markdown object>"
      ]
     },
     "metadata": {},
     "output_type": "display_data"
    },
    {
     "data": {
      "text/html": [
       "\n",
       "<div class=\"bk-root\">\n",
       "    <div class=\"bk-plotdiv\" id=\"82de7dc6-c1ad-4f6e-8aad-d184bd008e5d\"></div>\n",
       "</div>"
      ]
     },
     "metadata": {},
     "output_type": "display_data"
    },
    {
     "data": {
      "application/javascript": [
       "(function(root) {\n",
       "  function embed_document(root) {\n",
       "    \n",
       "  var docs_json = {\"511016f8-3891-401e-898b-e55345594d07\":{\"roots\":{\"references\":[{\"attributes\":{\"callback\":null,\"end\":0.01,\"start\":1020},\"id\":\"984d8a7c-96b6-427a-8cd4-6bb562eb654f\",\"type\":\"Range1d\"},{\"attributes\":{},\"id\":\"c78097ba-1beb-4244-bbe1-0601e6ec5b1c\",\"type\":\"Selection\"},{\"attributes\":{\"callback\":null,\"data\":{\"x\":{\"__ndarray__\":\"hQDizhf+Q8C9K7VPP4cgwJ45ivCkvwLAPrgd1IsN/D+7olvZiCgOQMfUJ5JPyw5AuoTPxstSBEDfsAhjqs7mPyG2aQPjFui/skYKbTIs9b8pmp3aPUHxvycIBbz0t96/evs4oRCitj+B1IFWZZfdPxqZq9kgTuE/lkgHH1bO1j/w/UZOEheyP4s6Gj7pbdG/+wyRYP474b+smxPTmVbhv1avJCCRsdO/LsHmAh7iur/uITsdI6mhv0XyCaug5Mu/da5/Dt1Y17/0SZ1RPmu7v1IJJSPzfdQ/kf0YDzym1T+PyE3OmIe4P7jzyz26Y4k/NR64+Gpozj+4volZXD7UP0WpJ1BRZME/OGepDTb1q790Wc7i3Kyav5cLhRLWcaM/rtdtlD7jnL8aKsAueeCyv2Wpn2hd166/ar+6uSL5q79JzvJIH9auv/oMy14/yq+/pHIp76m9sb+lGi6utlOov4Vb7kFUgbC/MhV07Slyv79SUDv5Zz20v5Z+ZH9eqK6/a4fNmQ9Vtb+gYJ66nz+1v/WnYBCUlqy/VJbOBzizn78Ay7ktF52UvwWi9HOtN5a/sayJvugWnr+GXu8dPU6fv2mqpry+3I6/brMXGwRnjj+CthimMBumPyLtjj5Gdqw/6Cp6xg+spz/6H0XpR82XPwCoGcKZrhM/pA4f0Td7fb/obh9nEuRkP/aoiDn57Zk/0BtJk+X8qz9pu9nNcjOyPxw4oFwM4rI/yDVB3u/zsz86WCrHOQe1P7GEpHPfIbY/yHpoq4sluj+M7Z3fXC2+Pykcaqn2yL8/\",\"dtype\":\"float64\",\"shape\":[75]},\"y\":{\"__ndarray__\":\"GhExyth1ND/Sv8nbtpRIP2vylNV0PVE/aTum7souWD/At0SJ8fVgPw3Iuahxymc/MSNhhJWvcD/bTfBN02d3P2zb5nxnaoA/CD5h5MAGhz8NmeH1TyaQP+zrCsc9p5Y/LbKd76fGnz/bLW5ISEmmPww9YvTcQq8/JV2OstnstT8Er5Y7M8G+P0c+r3jqkcU/5h99k6ZBzj88bCIzFzjVP4enV8oyxN0//yH99nXg5D8qOpLLf0jtP5kqGJXUifQ/c9cS8kHP/D+/DpwzojQEQIEmwoanVwxA4lgXt9HgE0BSSZ2AJuIbQAMJih9jjiNA5q4l5INuK0AwTKYKRj0zQNv5fmq8/DpAaCJseHrtQkB/+zpwzoxKQM3MzMzMeFJAZmZmZmZqWEAAAAAAAFxeQM3MzMzMJmJAmpmZmZkfZUBmZmZmZhhoQDMzMzMzEWtAAAAAAAAKbkBmZmZmZoFwQM3MzMzM/XFAMzMzMzN6c0CamZmZmfZ0QAAAAAAAc3ZAZmZmZmbvd0DNzMzMzGt5QDMzMzMz6HpAmpmZmZlkfEAAAAAAAOF9QGZmZmZmXX9AZmZmZuZsgECamZmZGSuBQM3MzMxM6YFAAAAAAICngkAzMzMzs2WDQGZmZmbmI4RAmpmZmRnihEDNzMzMTKCFQAAAAACAXoZAMzMzM7Mch0BmZmZm5tqHQJqZmZkZmYhAzczMzExXiUAAAAAAgBWKQDMzMzOz04pAZmZmZuaRi0CamZmZGVCMQM3MzMxMDo1AAAAAAIDMjUAzMzMzs4qOQGZmZmbmSI9A\",\"dtype\":\"float64\",\"shape\":[75]}},\"selected\":{\"id\":\"c3255fd2-2a49-4368-b1b3-ee83d309d995\",\"type\":\"Selection\"},\"selection_policy\":{\"id\":\"521902db-1638-47b7-884c-3548f3e791a8\",\"type\":\"UnionRenderers\"}},\"id\":\"2057c3df-6708-40ca-828c-66ee8691bf0c\",\"type\":\"ColumnDataSource\"},{\"attributes\":{},\"id\":\"63a16134-8b63-465c-b19e-afd5a0ac1362\",\"type\":\"SaveTool\"},{\"attributes\":{\"label\":{\"value\":\"CLIRAD (single-run)\"},\"renderers\":[{\"id\":\"5f100eda-ca52-4d1a-adad-ac13ff928ebf\",\"type\":\"GlyphRenderer\"}]},\"id\":\"cfe4c2de-fe44-4be6-ab3c-e9d69db59683\",\"type\":\"LegendItem\"},{\"attributes\":{\"callback\":null,\"end\":2.3923464390465905,\"start\":-0.50603741456559},\"id\":\"4c409e60-1e4f-44fb-8d20-469fb8b633cb\",\"type\":\"Range1d\"},{\"attributes\":{\"data_source\":{\"id\":\"a17c9712-8ba5-44ed-b644-b4e46356d1ac\",\"type\":\"ColumnDataSource\"},\"glyph\":{\"id\":\"06460a1f-b2af-4c4a-8df1-53bb9b6e3dd2\",\"type\":\"Line\"},\"hover_glyph\":null,\"muted_glyph\":null,\"nonselection_glyph\":{\"id\":\"7b8abb73-15a2-40b4-b26b-3d2b13643c93\",\"type\":\"Line\"},\"selection_glyph\":null,\"view\":{\"id\":\"7f4b84f8-dece-4517-a974-cf88e6b9ee94\",\"type\":\"CDSView\"}},\"id\":\"5f100eda-ca52-4d1a-adad-ac13ff928ebf\",\"type\":\"GlyphRenderer\"},{\"attributes\":{\"axis_label\":\"cooling rate [K/day]\",\"formatter\":{\"id\":\"53bb4e68-b158-4495-9813-2e1b376972cf\",\"type\":\"BasicTickFormatter\"},\"plot\":{\"id\":\"9561f960-e181-4ee5-8523-37862f6e1ded\",\"subtype\":\"Figure\",\"type\":\"Plot\"},\"ticker\":{\"id\":\"219c97b3-4c55-4904-a397-8720855e50e0\",\"type\":\"BasicTicker\"}},\"id\":\"eb1b3753-d5bb-47ad-a9bc-f6015154d8b3\",\"type\":\"LinearAxis\"},{\"attributes\":{\"line_alpha\":0.6,\"line_color\":\"#377eb8\",\"line_dash\":[6],\"line_width\":5,\"x\":{\"field\":\"x\"},\"y\":{\"field\":\"y\"}},\"id\":\"06460a1f-b2af-4c4a-8df1-53bb9b6e3dd2\",\"type\":\"Line\"},{\"attributes\":{},\"id\":\"1c0e6110-4dd1-4f50-ae40-e20396ca5e45\",\"type\":\"WheelZoomTool\"},{\"attributes\":{},\"id\":\"73419dce-5db5-4466-a000-f35969242022\",\"type\":\"Selection\"},{\"attributes\":{},\"id\":\"fb2a25af-30c0-455f-a805-60bc085b7f89\",\"type\":\"BasicTickFormatter\"},{\"attributes\":{\"label\":{\"value\":\"CLIRAD (single-run) - CRD\"},\"renderers\":[{\"id\":\"5907d2f8-2d01-49a2-aadb-a7bd017de005\",\"type\":\"GlyphRenderer\"},{\"id\":\"bf6c97ed-86a0-4bda-af0f-454c3a971349\",\"type\":\"GlyphRenderer\"}]},\"id\":\"7e85edbc-34c1-4614-a9c7-8df415d23942\",\"type\":\"LegendItem\"},{\"attributes\":{},\"id\":\"eb221b0a-0b4b-4bc2-b5ac-28537b15483d\",\"type\":\"BasicTickFormatter\"},{\"attributes\":{},\"id\":\"bce5a9d2-82ff-4f39-9549-8532f2828e7c\",\"type\":\"Selection\"},{\"attributes\":{},\"id\":\"4e72b10c-6f41-4f30-a654-b2c0c3f7fe7d\",\"type\":\"ResetTool\"},{\"attributes\":{\"line_alpha\":0.6,\"line_color\":\"#377eb8\",\"line_dash\":[6],\"line_width\":5,\"x\":{\"field\":\"x\"},\"y\":{\"field\":\"y\"}},\"id\":\"02342124-ca6d-496b-91b6-13f31eb0986b\",\"type\":\"Line\"},{\"attributes\":{\"callback\":null,\"end\":0.559427922866886,\"start\":-1.3419310516822867},\"id\":\"64d4f03f-7e43-4b58-b28d-ab6650e541c1\",\"type\":\"Range1d\"},{\"attributes\":{\"line_color\":\"#4daf4a\",\"line_width\":1.5,\"x\":{\"field\":\"x\"},\"y\":{\"field\":\"y\"}},\"id\":\"11e8638b-dfd1-4974-b957-95be2f36a853\",\"type\":\"Line\"},{\"attributes\":{},\"id\":\"cce8d1f3-1385-4874-943f-330bed46e295\",\"type\":\"LinearScale\"},{\"attributes\":{\"dimension\":1,\"plot\":{\"id\":\"7ff3a69e-62d3-4e42-89ce-f40227a56c2c\",\"subtype\":\"Figure\",\"type\":\"Plot\"},\"ticker\":{\"id\":\"1f17d163-8705-4486-ba87-cab86fdd02d3\",\"type\":\"LogTicker\"}},\"id\":\"3c58423e-c73d-46d1-9123-a9a1b3a3bfdf\",\"type\":\"Grid\"},{\"attributes\":{\"source\":{\"id\":\"1c691341-3758-4c78-b7ab-09cdbabc030a\",\"type\":\"ColumnDataSource\"}},\"id\":\"1ecbe5ab-bd20-46b9-875a-0596866ea993\",\"type\":\"CDSView\"},{\"attributes\":{\"overlay\":{\"id\":\"be10fa20-300e-472a-b799-17407f9351a7\",\"type\":\"BoxAnnotation\"}},\"id\":\"c570a41a-8c81-4436-9c99-f5d6c03bcd75\",\"type\":\"BoxZoomTool\"},{\"attributes\":{\"line_alpha\":0.1,\"line_color\":\"#1f77b4\",\"line_width\":1.5,\"x\":{\"field\":\"x\"},\"y\":{\"field\":\"y\"}},\"id\":\"71b4f433-a4a0-4143-84dd-1dfd4391165b\",\"type\":\"Line\"},{\"attributes\":{},\"id\":\"72c02824-d792-4244-afe7-ece555d4decd\",\"type\":\"HelpTool\"},{\"attributes\":{\"above\":[{\"id\":\"2ecf2580-1d91-4789-9657-6f8bf23e02f7\",\"type\":\"Legend\"}],\"below\":[{\"id\":\"48fb762c-6234-4003-a733-787724c15c16\",\"type\":\"LinearAxis\"}],\"left\":[{\"id\":\"ab2787ba-c35c-4b24-8f3f-cdde38d789e8\",\"type\":\"LinearAxis\"}],\"plot_width\":300,\"renderers\":[{\"id\":\"48fb762c-6234-4003-a733-787724c15c16\",\"type\":\"LinearAxis\"},{\"id\":\"1bc096de-7f8d-4123-ab60-bfed865dbe76\",\"type\":\"Grid\"},{\"id\":\"ab2787ba-c35c-4b24-8f3f-cdde38d789e8\",\"type\":\"LinearAxis\"},{\"id\":\"befb1cd7-b647-4fdb-9977-8106a92063bd\",\"type\":\"Grid\"},{\"id\":\"31584091-bf4e-42ad-bc37-55f1361ae593\",\"type\":\"BoxAnnotation\"},{\"id\":\"4277aa37-e378-4231-9941-756c5cb84e43\",\"type\":\"GlyphRenderer\"},{\"id\":\"70837b9b-2ce1-4c02-8ddc-de2351c0b8b0\",\"type\":\"GlyphRenderer\"},{\"id\":\"bfd3a1ba-7d6a-4f63-8e02-a1e443503071\",\"type\":\"GlyphRenderer\"},{\"id\":\"2ecf2580-1d91-4789-9657-6f8bf23e02f7\",\"type\":\"Legend\"}],\"title\":{\"id\":\"49062c05-617a-4164-b1fe-9d8244a5f926\",\"type\":\"Title\"},\"toolbar\":{\"id\":\"022db66b-acdb-44af-a00c-cc030062d6d4\",\"type\":\"Toolbar\"},\"toolbar_location\":null,\"x_range\":{\"id\":\"4c409e60-1e4f-44fb-8d20-469fb8b633cb\",\"type\":\"Range1d\"},\"x_scale\":{\"id\":\"65896f07-617e-4411-9f36-67c11b9d97e9\",\"type\":\"LinearScale\"},\"y_range\":{\"id\":\"f4016480-465a-457e-864f-d75d35455a3c\",\"type\":\"Range1d\"},\"y_scale\":{\"id\":\"e6d54049-3745-4248-947c-a1fc5f9402b2\",\"type\":\"LinearScale\"}},\"id\":\"0d534bbb-3a1b-4e40-bf6c-87290d1df7c3\",\"subtype\":\"Figure\",\"type\":\"Plot\"},{\"attributes\":{\"items\":[{\"id\":\"cfe4c2de-fe44-4be6-ab3c-e9d69db59683\",\"type\":\"LegendItem\"},{\"id\":\"0d7d7cb7-e835-4e49-a98d-7f648e5ed689\",\"type\":\"LegendItem\"}],\"label_text_font_size\":{\"value\":\"8pt\"},\"location\":\"top_center\",\"orientation\":\"horizontal\",\"plot\":{\"id\":\"7ff3a69e-62d3-4e42-89ce-f40227a56c2c\",\"subtype\":\"Figure\",\"type\":\"Plot\"}},\"id\":\"532cd323-c839-48bc-bfb7-3c265dde5557\",\"type\":\"Legend\"},{\"attributes\":{},\"id\":\"2e07d133-3d94-482b-87e8-eff3ccf3a09d\",\"type\":\"PanTool\"},{\"attributes\":{\"callback\":null,\"end\":0.01,\"start\":1020},\"id\":\"0c14b195-4a5b-4a53-84a0-06637252cb66\",\"type\":\"Range1d\"},{\"attributes\":{\"source\":{\"id\":\"a17c9712-8ba5-44ed-b644-b4e46356d1ac\",\"type\":\"ColumnDataSource\"}},\"id\":\"7f4b84f8-dece-4517-a974-cf88e6b9ee94\",\"type\":\"CDSView\"},{\"attributes\":{\"active_drag\":\"auto\",\"active_inspect\":\"auto\",\"active_scroll\":\"auto\",\"active_tap\":\"auto\",\"tools\":[{\"id\":\"3e62f7d0-c09f-4260-8215-4c1ec85f7408\",\"type\":\"PanTool\"},{\"id\":\"71418565-6d75-46d2-8b1d-c5d5defa7e70\",\"type\":\"WheelZoomTool\"},{\"id\":\"7e699c8e-d921-46ca-aa3c-29ae439d57cc\",\"type\":\"BoxZoomTool\"},{\"id\":\"99b024dc-3d9b-4b7a-acb9-c5afc76c70c0\",\"type\":\"SaveTool\"},{\"id\":\"8c597256-e338-4963-9837-da86cf3e8122\",\"type\":\"ResetTool\"},{\"id\":\"86851dac-04bf-47a1-95cb-e9f4b6e84dc8\",\"type\":\"HelpTool\"}]},\"id\":\"398a14a3-7095-4b43-925b-36a1ec37110d\",\"type\":\"Toolbar\"},{\"attributes\":{\"callback\":null,\"data\":{\"x\":{\"__ndarray__\":\"R/KIaN7AVEClCeJMyPNGQOvRhpxr30JAptxzhxx4PkA7SssMElA4QK6Bp3CyUDNAsVXpjES9LkBFhUV0+5coQMHYwqbbySNA6f09nM3nH0CaSd/3eYoZQDmgiAOW8BNAPYqARh3eDEBkm4vCgvr+P9D+5tWhQfY/P8DwKRnSAkBq38kb17ILQDT7IWuSsxFAUr2Rjm0FFkAinq3s9XgbQGCHwtYcqSFAG64kT303J0C7dRDneyooQD9JYrbK8yRA9S3bneHhIUAIymSuUMMcQIkHLe6VEBdAAau3cITREkA6CiNvkQIPQJU39ki7IQlAaAvwok1UA0BXLQiS4+L7P0xzDpJ2hPI/NNuPGMbJ5z91mUVYxqfSPxqwUPSxZca/G11peifD3L8QzNj5t2jTvwzOozTL360/SPJ4VI1VzD9KJ0nXEIncP8yDdlvHt+4/Et49nYLW9z++2teD4Jn+P+568eH/bwFALf5D9lmAAkCiZAicVOkCQPPT4jNKxwJAOjp3wTzBAUBSQsKNGisBQG4OmjqJwQBAJ3sZoHFuAEA5Ar0Sdi0AQGy4rw5+9f8/7W4nSrC3/z8mPr8zj4T/P4UYRHCQS/8/embVKYcF/z+5YXG+LLP+P/qb8BVUgf4/KvafTtyO/j/avAK1Ppv+PwJV9VVm2P0/JFtYlU/n/D9sN+q2fiX6Pw44e41PNPc/Opt+Z/wN9T+x3vcSW1vzP9ofvWQJlvI/8sciQQBW8j80sfkQa17yPzg5qng2r/I/Oh14WJBh8z+VZjnpctj0P6CcrSuCqQBA\",\"dtype\":\"float64\",\"shape\":[75]},\"y\":{\"__ndarray__\":\"GhExyth1ND/Sv8nbtpRIP2vylNV0PVE/aTum7souWD/At0SJ8fVgPw3Iuahxymc/MSNhhJWvcD/bTfBN02d3P2zb5nxnaoA/CD5h5MAGhz8NmeH1TyaQP+zrCsc9p5Y/LbKd76fGnz/bLW5ISEmmPww9YvTcQq8/JV2OstnstT8Er5Y7M8G+P0c+r3jqkcU/5h99k6ZBzj88bCIzFzjVP4enV8oyxN0//yH99nXg5D8qOpLLf0jtP5kqGJXUifQ/c9cS8kHP/D+/DpwzojQEQIEmwoanVwxA4lgXt9HgE0BSSZ2AJuIbQAMJih9jjiNA5q4l5INuK0AwTKYKRj0zQNv5fmq8/DpAaCJseHrtQkB/+zpwzoxKQM3MzMzMeFJAZmZmZmZqWEAAAAAAAFxeQM3MzMzMJmJAmpmZmZkfZUBmZmZmZhhoQDMzMzMzEWtAAAAAAAAKbkBmZmZmZoFwQM3MzMzM/XFAMzMzMzN6c0CamZmZmfZ0QAAAAAAAc3ZAZmZmZmbvd0DNzMzMzGt5QDMzMzMz6HpAmpmZmZlkfEAAAAAAAOF9QGZmZmZmXX9AZmZmZuZsgECamZmZGSuBQM3MzMxM6YFAAAAAAICngkAzMzMzs2WDQGZmZmbmI4RAmpmZmRnihEDNzMzMTKCFQAAAAACAXoZAMzMzM7Mch0BmZmZm5tqHQJqZmZkZmYhAzczMzExXiUAAAAAAgBWKQDMzMzOz04pAZmZmZuaRi0CamZmZGVCMQM3MzMxMDo1AAAAAAIDMjUAzMzMzs4qOQGZmZmbmSI9A\",\"dtype\":\"float64\",\"shape\":[75]}},\"selected\":{\"id\":\"cbd219e1-65b8-4b66-b112-84ed1ca6e14a\",\"type\":\"Selection\"},\"selection_policy\":{\"id\":\"83c148e2-1cd1-4d83-bf93-a81aeab0a06b\",\"type\":\"UnionRenderers\"}},\"id\":\"1b476c63-eb26-45f3-a965-154b33497af5\",\"type\":\"ColumnDataSource\"},{\"attributes\":{},\"id\":\"6644b05f-4195-41c1-8e5f-7574ff7bd088\",\"type\":\"UnionRenderers\"},{\"attributes\":{\"active_drag\":\"auto\",\"active_inspect\":\"auto\",\"active_scroll\":\"auto\",\"active_tap\":\"auto\",\"tools\":[{\"id\":\"2e07d133-3d94-482b-87e8-eff3ccf3a09d\",\"type\":\"PanTool\"},{\"id\":\"5ce0fb45-15a7-4d4b-8bc3-28dba8dee364\",\"type\":\"WheelZoomTool\"},{\"id\":\"c570a41a-8c81-4436-9c99-f5d6c03bcd75\",\"type\":\"BoxZoomTool\"},{\"id\":\"80a9e512-5f11-47a7-af97-ea04d655b540\",\"type\":\"SaveTool\"},{\"id\":\"4e72b10c-6f41-4f30-a654-b2c0c3f7fe7d\",\"type\":\"ResetTool\"},{\"id\":\"7bc32f08-1a67-4988-8fa4-d130b4e164c4\",\"type\":\"HelpTool\"}]},\"id\":\"8614e76c-a348-4346-8398-807a7d6c1f15\",\"type\":\"Toolbar\"},{\"attributes\":{\"bottom_units\":\"screen\",\"fill_alpha\":{\"value\":0.5},\"fill_color\":{\"value\":\"lightgrey\"},\"left_units\":\"screen\",\"level\":\"overlay\",\"line_alpha\":{\"value\":1.0},\"line_color\":{\"value\":\"black\"},\"line_dash\":[4,4],\"line_width\":{\"value\":2},\"plot\":null,\"render_mode\":\"css\",\"right_units\":\"screen\",\"top_units\":\"screen\"},\"id\":\"be10fa20-300e-472a-b799-17407f9351a7\",\"type\":\"BoxAnnotation\"},{\"attributes\":{\"line_color\":\"#4daf4a\",\"line_width\":1.5,\"x\":{\"field\":\"x\"},\"y\":{\"field\":\"y\"}},\"id\":\"b216cd12-381c-44a7-9b8f-a96c093bde82\",\"type\":\"Line\"},{\"attributes\":{},\"id\":\"7bc32f08-1a67-4988-8fa4-d130b4e164c4\",\"type\":\"HelpTool\"},{\"attributes\":{\"above\":[{\"id\":\"532cd323-c839-48bc-bfb7-3c265dde5557\",\"type\":\"Legend\"}],\"below\":[{\"id\":\"901c8660-2b6e-4d7f-94d4-92aebe4aefbc\",\"type\":\"LinearAxis\"}],\"left\":[{\"id\":\"6d304d7d-a0cb-494e-a36c-ce3a523d6812\",\"type\":\"LogAxis\"}],\"plot_width\":300,\"renderers\":[{\"id\":\"901c8660-2b6e-4d7f-94d4-92aebe4aefbc\",\"type\":\"LinearAxis\"},{\"id\":\"a58dfdfc-cad6-497d-9423-1f76f3ab3c73\",\"type\":\"Grid\"},{\"id\":\"6d304d7d-a0cb-494e-a36c-ce3a523d6812\",\"type\":\"LogAxis\"},{\"id\":\"3c58423e-c73d-46d1-9123-a9a1b3a3bfdf\",\"type\":\"Grid\"},{\"id\":\"be10fa20-300e-472a-b799-17407f9351a7\",\"type\":\"BoxAnnotation\"},{\"id\":\"5f100eda-ca52-4d1a-adad-ac13ff928ebf\",\"type\":\"GlyphRenderer\"},{\"id\":\"8997c58e-1d41-4b2a-baef-a36adaae0b4b\",\"type\":\"GlyphRenderer\"},{\"id\":\"5bc562f2-1681-4531-aa00-03ee998c69bb\",\"type\":\"GlyphRenderer\"},{\"id\":\"532cd323-c839-48bc-bfb7-3c265dde5557\",\"type\":\"Legend\"}],\"title\":{\"id\":\"3fd87114-a951-4e9f-bffa-5b1da3c72829\",\"type\":\"Title\"},\"toolbar\":{\"id\":\"8614e76c-a348-4346-8398-807a7d6c1f15\",\"type\":\"Toolbar\"},\"toolbar_location\":null,\"x_range\":{\"id\":\"1659ddb4-dee9-4fdd-83e3-af4ebbe73636\",\"type\":\"Range1d\"},\"x_scale\":{\"id\":\"f5ffb413-8dea-4f26-876f-67639b4e4775\",\"type\":\"LinearScale\"},\"y_range\":{\"id\":\"984d8a7c-96b6-427a-8cd4-6bb562eb654f\",\"type\":\"Range1d\"},\"y_scale\":{\"id\":\"d5a9f87a-41e1-415a-ba7c-80b56db4c619\",\"type\":\"LogScale\"}},\"id\":\"7ff3a69e-62d3-4e42-89ce-f40227a56c2c\",\"subtype\":\"Figure\",\"type\":\"Plot\"},{\"attributes\":{\"line_alpha\":0.1,\"line_color\":\"#1f77b4\",\"line_width\":1.5,\"x\":{\"field\":\"x\"},\"y\":{\"field\":\"y\"}},\"id\":\"f9c8f1f5-3332-477f-bc91-c010fdf7f37b\",\"type\":\"Line\"},{\"attributes\":{\"data_source\":{\"id\":\"1c691341-3758-4c78-b7ab-09cdbabc030a\",\"type\":\"ColumnDataSource\"},\"glyph\":{\"id\":\"11e8638b-dfd1-4974-b957-95be2f36a853\",\"type\":\"Line\"},\"hover_glyph\":null,\"muted_glyph\":null,\"nonselection_glyph\":{\"id\":\"71b4f433-a4a0-4143-84dd-1dfd4391165b\",\"type\":\"Line\"},\"selection_glyph\":null,\"view\":{\"id\":\"1ecbe5ab-bd20-46b9-875a-0596866ea993\",\"type\":\"CDSView\"}},\"id\":\"bfd3a1ba-7d6a-4f63-8e02-a1e443503071\",\"type\":\"GlyphRenderer\"},{\"attributes\":{\"plot\":{\"id\":\"7ff3a69e-62d3-4e42-89ce-f40227a56c2c\",\"subtype\":\"Figure\",\"type\":\"Plot\"},\"ticker\":{\"id\":\"9d8c5bc0-8ae9-4872-bf21-2cdbcac38b97\",\"type\":\"BasicTicker\"}},\"id\":\"a58dfdfc-cad6-497d-9423-1f76f3ab3c73\",\"type\":\"Grid\"},{\"attributes\":{\"items\":[{\"id\":\"7e85edbc-34c1-4614-a9c7-8df415d23942\",\"type\":\"LegendItem\"}],\"label_text_font_size\":{\"value\":\"8pt\"},\"location\":\"top_center\",\"orientation\":\"horizontal\",\"plot\":{\"id\":\"9561f960-e181-4ee5-8523-37862f6e1ded\",\"subtype\":\"Figure\",\"type\":\"Plot\"}},\"id\":\"d2a7edd2-2160-4686-bf59-051d8dc114ea\",\"type\":\"Legend\"},{\"attributes\":{\"axis_label\":\"cooling rate [K/day]\",\"formatter\":{\"id\":\"a6dc8944-8729-43e3-9920-84ccf6a8af61\",\"type\":\"BasicTickFormatter\"},\"plot\":{\"id\":\"7ff3a69e-62d3-4e42-89ce-f40227a56c2c\",\"subtype\":\"Figure\",\"type\":\"Plot\"},\"ticker\":{\"id\":\"9d8c5bc0-8ae9-4872-bf21-2cdbcac38b97\",\"type\":\"BasicTicker\"}},\"id\":\"901c8660-2b6e-4d7f-94d4-92aebe4aefbc\",\"type\":\"LinearAxis\"},{\"attributes\":{},\"id\":\"21450dcd-33da-442c-af42-bda66d9a0a2d\",\"type\":\"Selection\"},{\"attributes\":{\"bottom_units\":\"screen\",\"fill_alpha\":{\"value\":0.5},\"fill_color\":{\"value\":\"lightgrey\"},\"left_units\":\"screen\",\"level\":\"overlay\",\"line_alpha\":{\"value\":1.0},\"line_color\":{\"value\":\"black\"},\"line_dash\":[4,4],\"line_width\":{\"value\":2},\"plot\":null,\"render_mode\":\"css\",\"right_units\":\"screen\",\"top_units\":\"screen\"},\"id\":\"31584091-bf4e-42ad-bc37-55f1361ae593\",\"type\":\"BoxAnnotation\"},{\"attributes\":{},\"id\":\"e6d54049-3745-4248-947c-a1fc5f9402b2\",\"type\":\"LinearScale\"},{\"attributes\":{},\"id\":\"8c606312-1e68-4fee-9772-c5dfea6b9d0f\",\"type\":\"ResetTool\"},{\"attributes\":{},\"id\":\"0e870de0-07d1-4828-a37f-694fd7c147ed\",\"type\":\"UnionRenderers\"},{\"attributes\":{\"num_minor_ticks\":10},\"id\":\"1f17d163-8705-4486-ba87-cab86fdd02d3\",\"type\":\"LogTicker\"},{\"attributes\":{\"callback\":null,\"data\":{\"x\":{\"__ndarray__\":\"R/KIaN7AVEClCeJMyPNGQOvRhpxr30JAptxzhxx4PkA7SssMElA4QK6Bp3CyUDNAsVXpjES9LkBFhUV0+5coQMHYwqbbySNA6f09nM3nH0CaSd/3eYoZQDmgiAOW8BNAPYqARh3eDEBkm4vCgvr+P9D+5tWhQfY/P8DwKRnSAkBq38kb17ILQDT7IWuSsxFAUr2Rjm0FFkAinq3s9XgbQGCHwtYcqSFAG64kT303J0C7dRDneyooQD9JYrbK8yRA9S3bneHhIUAIymSuUMMcQIkHLe6VEBdAAau3cITREkA6CiNvkQIPQJU39ki7IQlAaAvwok1UA0BXLQiS4+L7P0xzDpJ2hPI/NNuPGMbJ5z91mUVYxqfSPxqwUPSxZca/G11peifD3L8QzNj5t2jTvwzOozTL360/SPJ4VI1VzD9KJ0nXEIncP8yDdlvHt+4/Et49nYLW9z++2teD4Jn+P+568eH/bwFALf5D9lmAAkCiZAicVOkCQPPT4jNKxwJAOjp3wTzBAUBSQsKNGisBQG4OmjqJwQBAJ3sZoHFuAEA5Ar0Sdi0AQGy4rw5+9f8/7W4nSrC3/z8mPr8zj4T/P4UYRHCQS/8/embVKYcF/z+5YXG+LLP+P/qb8BVUgf4/KvafTtyO/j/avAK1Ppv+PwJV9VVm2P0/JFtYlU/n/D9sN+q2fiX6Pw44e41PNPc/Opt+Z/wN9T+x3vcSW1vzP9ofvWQJlvI/8sciQQBW8j80sfkQa17yPzg5qng2r/I/Oh14WJBh8z+VZjnpctj0P6CcrSuCqQBA\",\"dtype\":\"float64\",\"shape\":[75]},\"y\":{\"__ndarray__\":\"GhExyth1ND/Sv8nbtpRIP2vylNV0PVE/aTum7souWD/At0SJ8fVgPw3Iuahxymc/MSNhhJWvcD/bTfBN02d3P2zb5nxnaoA/CD5h5MAGhz8NmeH1TyaQP+zrCsc9p5Y/LbKd76fGnz/bLW5ISEmmPww9YvTcQq8/JV2OstnstT8Er5Y7M8G+P0c+r3jqkcU/5h99k6ZBzj88bCIzFzjVP4enV8oyxN0//yH99nXg5D8qOpLLf0jtP5kqGJXUifQ/c9cS8kHP/D+/DpwzojQEQIEmwoanVwxA4lgXt9HgE0BSSZ2AJuIbQAMJih9jjiNA5q4l5INuK0AwTKYKRj0zQNv5fmq8/DpAaCJseHrtQkB/+zpwzoxKQM3MzMzMeFJAZmZmZmZqWEAAAAAAAFxeQM3MzMzMJmJAmpmZmZkfZUBmZmZmZhhoQDMzMzMzEWtAAAAAAAAKbkBmZmZmZoFwQM3MzMzM/XFAMzMzMzN6c0CamZmZmfZ0QAAAAAAAc3ZAZmZmZmbvd0DNzMzMzGt5QDMzMzMz6HpAmpmZmZlkfEAAAAAAAOF9QGZmZmZmXX9AZmZmZuZsgECamZmZGSuBQM3MzMxM6YFAAAAAAICngkAzMzMzs2WDQGZmZmbmI4RAmpmZmRnihEDNzMzMTKCFQAAAAACAXoZAMzMzM7Mch0BmZmZm5tqHQJqZmZkZmYhAzczMzExXiUAAAAAAgBWKQDMzMzOz04pAZmZmZuaRi0CamZmZGVCMQM3MzMxMDo1AAAAAAIDMjUAzMzMzs4qOQGZmZmbmSI9A\",\"dtype\":\"float64\",\"shape\":[75]}},\"selected\":{\"id\":\"bce5a9d2-82ff-4f39-9549-8532f2828e7c\",\"type\":\"Selection\"},\"selection_policy\":{\"id\":\"0e870de0-07d1-4828-a37f-694fd7c147ed\",\"type\":\"UnionRenderers\"}},\"id\":\"1c691341-3758-4c78-b7ab-09cdbabc030a\",\"type\":\"ColumnDataSource\"},{\"attributes\":{},\"id\":\"9d8c5bc0-8ae9-4872-bf21-2cdbcac38b97\",\"type\":\"BasicTicker\"},{\"attributes\":{\"axis_label\":\"pressure [mb]\",\"formatter\":{\"id\":\"8b3bedbf-2721-47ea-81af-479a3c845938\",\"type\":\"LogTickFormatter\"},\"plot\":{\"id\":\"7ff3a69e-62d3-4e42-89ce-f40227a56c2c\",\"subtype\":\"Figure\",\"type\":\"Plot\"},\"ticker\":{\"id\":\"1f17d163-8705-4486-ba87-cab86fdd02d3\",\"type\":\"LogTicker\"}},\"id\":\"6d304d7d-a0cb-494e-a36c-ce3a523d6812\",\"type\":\"LogAxis\"},{\"attributes\":{},\"id\":\"de7fedc2-519a-4bfa-b6a4-9516beed0021\",\"type\":\"Selection\"},{\"attributes\":{},\"id\":\"5ce0fb45-15a7-4d4b-8bc3-28dba8dee364\",\"type\":\"WheelZoomTool\"},{\"attributes\":{\"above\":[{\"id\":\"d2a7edd2-2160-4686-bf59-051d8dc114ea\",\"type\":\"Legend\"}],\"below\":[{\"id\":\"eb1b3753-d5bb-47ad-a9bc-f6015154d8b3\",\"type\":\"LinearAxis\"}],\"left\":[{\"id\":\"ff23052f-1b76-4405-9205-d72ffbc03d7b\",\"type\":\"LogAxis\"}],\"plot_width\":300,\"renderers\":[{\"id\":\"eb1b3753-d5bb-47ad-a9bc-f6015154d8b3\",\"type\":\"LinearAxis\"},{\"id\":\"97262554-8cd5-41f6-90b4-5b0f71f43c40\",\"type\":\"Grid\"},{\"id\":\"ff23052f-1b76-4405-9205-d72ffbc03d7b\",\"type\":\"LogAxis\"},{\"id\":\"1cee38b1-92d3-4725-9025-65d0391297db\",\"type\":\"Grid\"},{\"id\":\"71337f53-9495-47fb-a2ba-1655628b6f99\",\"type\":\"BoxAnnotation\"},{\"id\":\"5907d2f8-2d01-49a2-aadb-a7bd017de005\",\"type\":\"GlyphRenderer\"},{\"id\":\"bf6c97ed-86a0-4bda-af0f-454c3a971349\",\"type\":\"GlyphRenderer\"},{\"id\":\"d2a7edd2-2160-4686-bf59-051d8dc114ea\",\"type\":\"Legend\"}],\"title\":{\"id\":\"2eed16d3-0a2d-4ab4-86dc-4cf92ca0f5f3\",\"type\":\"Title\"},\"toolbar\":{\"id\":\"398a14a3-7095-4b43-925b-36a1ec37110d\",\"type\":\"Toolbar\"},\"toolbar_location\":null,\"x_range\":{\"id\":\"64d4f03f-7e43-4b58-b28d-ab6650e541c1\",\"type\":\"Range1d\"},\"x_scale\":{\"id\":\"cce8d1f3-1385-4874-943f-330bed46e295\",\"type\":\"LinearScale\"},\"y_range\":{\"id\":\"0c14b195-4a5b-4a53-84a0-06637252cb66\",\"type\":\"Range1d\"},\"y_scale\":{\"id\":\"9984131e-f183-4dfb-b138-4ea30031cba8\",\"type\":\"LogScale\"}},\"id\":\"9561f960-e181-4ee5-8523-37862f6e1ded\",\"subtype\":\"Figure\",\"type\":\"Plot\"},{\"attributes\":{\"label\":{\"value\":\"CLIRAD (single-run)\"},\"renderers\":[{\"id\":\"4277aa37-e378-4231-9941-756c5cb84e43\",\"type\":\"GlyphRenderer\"}]},\"id\":\"64acd726-fea7-4187-a475-19bbf557fe15\",\"type\":\"LegendItem\"},{\"attributes\":{\"items\":[{\"id\":\"64acd726-fea7-4187-a475-19bbf557fe15\",\"type\":\"LegendItem\"},{\"id\":\"47b482e7-d347-41be-ad0a-f59dbb1c0ea7\",\"type\":\"LegendItem\"}],\"label_text_font_size\":{\"value\":\"8pt\"},\"location\":\"top_center\",\"orientation\":\"horizontal\",\"plot\":{\"id\":\"0d534bbb-3a1b-4e40-bf6c-87290d1df7c3\",\"subtype\":\"Figure\",\"type\":\"Plot\"}},\"id\":\"2ecf2580-1d91-4789-9657-6f8bf23e02f7\",\"type\":\"Legend\"},{\"attributes\":{},\"id\":\"81de76b1-bb55-4974-be44-818db28053db\",\"type\":\"UnionRenderers\"},{\"attributes\":{},\"id\":\"80a9e512-5f11-47a7-af97-ea04d655b540\",\"type\":\"SaveTool\"},{\"attributes\":{\"active_drag\":\"auto\",\"active_inspect\":\"auto\",\"active_scroll\":\"auto\",\"active_tap\":\"auto\",\"tools\":[{\"id\":\"a36c00c1-8ac9-44a2-aaef-6155f0f41129\",\"type\":\"PanTool\"},{\"id\":\"1c0e6110-4dd1-4f50-ae40-e20396ca5e45\",\"type\":\"WheelZoomTool\"},{\"id\":\"5e457073-7844-4236-bf80-62d898a79001\",\"type\":\"BoxZoomTool\"},{\"id\":\"63a16134-8b63-465c-b19e-afd5a0ac1362\",\"type\":\"SaveTool\"},{\"id\":\"8c606312-1e68-4fee-9772-c5dfea6b9d0f\",\"type\":\"ResetTool\"},{\"id\":\"72c02824-d792-4244-afe7-ece555d4decd\",\"type\":\"HelpTool\"}]},\"id\":\"022db66b-acdb-44af-a00c-cc030062d6d4\",\"type\":\"Toolbar\"},{\"attributes\":{\"data_source\":{\"id\":\"1b476c63-eb26-45f3-a965-154b33497af5\",\"type\":\"ColumnDataSource\"},\"glyph\":{\"id\":\"b216cd12-381c-44a7-9b8f-a96c093bde82\",\"type\":\"Line\"},\"hover_glyph\":null,\"muted_glyph\":null,\"nonselection_glyph\":{\"id\":\"f9c8f1f5-3332-477f-bc91-c010fdf7f37b\",\"type\":\"Line\"},\"selection_glyph\":null,\"view\":{\"id\":\"89b6ea6b-aaca-4c91-bab1-5eadf6b6ba10\",\"type\":\"CDSView\"}},\"id\":\"5bc562f2-1681-4531-aa00-03ee998c69bb\",\"type\":\"GlyphRenderer\"},{\"attributes\":{\"label\":{\"value\":\"CRD\"},\"renderers\":[{\"id\":\"70837b9b-2ce1-4c02-8ddc-de2351c0b8b0\",\"type\":\"GlyphRenderer\"},{\"id\":\"bfd3a1ba-7d6a-4f63-8e02-a1e443503071\",\"type\":\"GlyphRenderer\"}]},\"id\":\"47b482e7-d347-41be-ad0a-f59dbb1c0ea7\",\"type\":\"LegendItem\"},{\"attributes\":{},\"id\":\"219c97b3-4c55-4904-a397-8720855e50e0\",\"type\":\"BasicTicker\"},{\"attributes\":{\"label\":{\"value\":\"CRD\"},\"renderers\":[{\"id\":\"8997c58e-1d41-4b2a-baef-a36adaae0b4b\",\"type\":\"GlyphRenderer\"},{\"id\":\"5bc562f2-1681-4531-aa00-03ee998c69bb\",\"type\":\"GlyphRenderer\"}]},\"id\":\"0d7d7cb7-e835-4e49-a98d-7f648e5ed689\",\"type\":\"LegendItem\"},{\"attributes\":{\"data_source\":{\"id\":\"2057c3df-6708-40ca-828c-66ee8691bf0c\",\"type\":\"ColumnDataSource\"},\"glyph\":{\"id\":\"3d855936-f874-4736-a636-af7d42bc2aba\",\"type\":\"Circle\"},\"hover_glyph\":null,\"muted_glyph\":null,\"nonselection_glyph\":{\"id\":\"743a3e38-126f-4791-9e07-b5e0fdc7bd39\",\"type\":\"Circle\"},\"selection_glyph\":null,\"view\":{\"id\":\"f11fa1c2-7be6-4926-bcaa-1c00d7e65d8e\",\"type\":\"CDSView\"}},\"id\":\"5907d2f8-2d01-49a2-aadb-a7bd017de005\",\"type\":\"GlyphRenderer\"},{\"attributes\":{},\"id\":\"9984131e-f183-4dfb-b138-4ea30031cba8\",\"type\":\"LogScale\"},{\"attributes\":{},\"id\":\"8c597256-e338-4963-9837-da86cf3e8122\",\"type\":\"ResetTool\"},{\"attributes\":{\"children\":[{\"id\":\"0d534bbb-3a1b-4e40-bf6c-87290d1df7c3\",\"subtype\":\"Figure\",\"type\":\"Plot\"},{\"id\":\"7ff3a69e-62d3-4e42-89ce-f40227a56c2c\",\"subtype\":\"Figure\",\"type\":\"Plot\"},{\"id\":\"9561f960-e181-4ee5-8523-37862f6e1ded\",\"subtype\":\"Figure\",\"type\":\"Plot\"}]},\"id\":\"ba82434f-4ec7-4c3d-a7f6-8e48a3930f9c\",\"type\":\"Row\"},{\"attributes\":{},\"id\":\"99b024dc-3d9b-4b7a-acb9-c5afc76c70c0\",\"type\":\"SaveTool\"},{\"attributes\":{\"callback\":null,\"data\":{\"x\":{\"__ndarray__\":\"hQDizhf+Q8C9K7VPP4cgwJ45ivCkvwLAPrgd1IsN/D+7olvZiCgOQMfUJ5JPyw5AuoTPxstSBEDfsAhjqs7mPyG2aQPjFui/skYKbTIs9b8pmp3aPUHxvycIBbz0t96/evs4oRCitj+B1IFWZZfdPxqZq9kgTuE/lkgHH1bO1j/w/UZOEheyP4s6Gj7pbdG/+wyRYP474b+smxPTmVbhv1avJCCRsdO/LsHmAh7iur/uITsdI6mhv0XyCaug5Mu/da5/Dt1Y17/0SZ1RPmu7v1IJJSPzfdQ/kf0YDzym1T+PyE3OmIe4P7jzyz26Y4k/NR64+Gpozj+4volZXD7UP0WpJ1BRZME/OGepDTb1q790Wc7i3Kyav5cLhRLWcaM/rtdtlD7jnL8aKsAueeCyv2Wpn2hd166/ar+6uSL5q79JzvJIH9auv/oMy14/yq+/pHIp76m9sb+lGi6utlOov4Vb7kFUgbC/MhV07Slyv79SUDv5Zz20v5Z+ZH9eqK6/a4fNmQ9Vtb+gYJ66nz+1v/WnYBCUlqy/VJbOBzizn78Ay7ktF52UvwWi9HOtN5a/sayJvugWnr+GXu8dPU6fv2mqpry+3I6/brMXGwRnjj+CthimMBumPyLtjj5Gdqw/6Cp6xg+spz/6H0XpR82XPwCoGcKZrhM/pA4f0Td7fb/obh9nEuRkP/aoiDn57Zk/0BtJk+X8qz9pu9nNcjOyPxw4oFwM4rI/yDVB3u/zsz86WCrHOQe1P7GEpHPfIbY/yHpoq4sluj+M7Z3fXC2+Pykcaqn2yL8/\",\"dtype\":\"float64\",\"shape\":[75]},\"y\":{\"__ndarray__\":\"GhExyth1ND/Sv8nbtpRIP2vylNV0PVE/aTum7souWD/At0SJ8fVgPw3Iuahxymc/MSNhhJWvcD/bTfBN02d3P2zb5nxnaoA/CD5h5MAGhz8NmeH1TyaQP+zrCsc9p5Y/LbKd76fGnz/bLW5ISEmmPww9YvTcQq8/JV2OstnstT8Er5Y7M8G+P0c+r3jqkcU/5h99k6ZBzj88bCIzFzjVP4enV8oyxN0//yH99nXg5D8qOpLLf0jtP5kqGJXUifQ/c9cS8kHP/D+/DpwzojQEQIEmwoanVwxA4lgXt9HgE0BSSZ2AJuIbQAMJih9jjiNA5q4l5INuK0AwTKYKRj0zQNv5fmq8/DpAaCJseHrtQkB/+zpwzoxKQM3MzMzMeFJAZmZmZmZqWEAAAAAAAFxeQM3MzMzMJmJAmpmZmZkfZUBmZmZmZhhoQDMzMzMzEWtAAAAAAAAKbkBmZmZmZoFwQM3MzMzM/XFAMzMzMzN6c0CamZmZmfZ0QAAAAAAAc3ZAZmZmZmbvd0DNzMzMzGt5QDMzMzMz6HpAmpmZmZlkfEAAAAAAAOF9QGZmZmZmXX9AZmZmZuZsgECamZmZGSuBQM3MzMxM6YFAAAAAAICngkAzMzMzs2WDQGZmZmbmI4RAmpmZmRnihEDNzMzMTKCFQAAAAACAXoZAMzMzM7Mch0BmZmZm5tqHQJqZmZkZmYhAzczMzExXiUAAAAAAgBWKQDMzMzOz04pAZmZmZuaRi0CamZmZGVCMQM3MzMxMDo1AAAAAAIDMjUAzMzMzs4qOQGZmZmbmSI9A\",\"dtype\":\"float64\",\"shape\":[75]}},\"selected\":{\"id\":\"9694ed04-08c3-4e25-9368-d8b3f89bc60b\",\"type\":\"Selection\"},\"selection_policy\":{\"id\":\"937cc03f-afdb-4368-a79d-2f9d00a5d43e\",\"type\":\"UnionRenderers\"}},\"id\":\"b7bb070f-074d-4ca3-8ba7-cbe5e5ddb225\",\"type\":\"ColumnDataSource\"},{\"attributes\":{\"fill_alpha\":{\"value\":0.1},\"fill_color\":{\"value\":\"#1f77b4\"},\"line_alpha\":{\"value\":0.1},\"line_color\":{\"value\":\"#1f77b4\"},\"x\":{\"field\":\"x\"},\"y\":{\"field\":\"y\"}},\"id\":\"04e9d0ce-dbc4-4503-bc14-9b3a6ab43235\",\"type\":\"Circle\"},{\"attributes\":{\"source\":{\"id\":\"b7bb070f-074d-4ca3-8ba7-cbe5e5ddb225\",\"type\":\"ColumnDataSource\"}},\"id\":\"2da702f9-bb88-4577-9697-15d03f99aaad\",\"type\":\"CDSView\"},{\"attributes\":{\"line_alpha\":0.1,\"line_color\":\"#1f77b4\",\"line_width\":1.5,\"x\":{\"field\":\"x\"},\"y\":{\"field\":\"y\"}},\"id\":\"3d271379-83f7-4df1-a463-3ab9d1a9e691\",\"type\":\"Line\"},{\"attributes\":{\"callback\":null,\"data\":{\"x\":{\"__ndarray__\":\"R/KIaN7AVEClCeJMyPNGQOvRhpxr30JAptxzhxx4PkA7SssMElA4QK6Bp3CyUDNAsVXpjES9LkBFhUV0+5coQMHYwqbbySNA6f09nM3nH0CaSd/3eYoZQDmgiAOW8BNAPYqARh3eDEBkm4vCgvr+P9D+5tWhQfY/P8DwKRnSAkBq38kb17ILQDT7IWuSsxFAUr2Rjm0FFkAinq3s9XgbQGCHwtYcqSFAG64kT303J0C7dRDneyooQD9JYrbK8yRA9S3bneHhIUAIymSuUMMcQIkHLe6VEBdAAau3cITREkA6CiNvkQIPQJU39ki7IQlAaAvwok1UA0BXLQiS4+L7P0xzDpJ2hPI/NNuPGMbJ5z91mUVYxqfSPxqwUPSxZca/G11peifD3L8QzNj5t2jTvwzOozTL360/SPJ4VI1VzD9KJ0nXEIncP8yDdlvHt+4/Et49nYLW9z++2teD4Jn+P+568eH/bwFALf5D9lmAAkCiZAicVOkCQPPT4jNKxwJAOjp3wTzBAUBSQsKNGisBQG4OmjqJwQBAJ3sZoHFuAEA5Ar0Sdi0AQGy4rw5+9f8/7W4nSrC3/z8mPr8zj4T/P4UYRHCQS/8/embVKYcF/z+5YXG+LLP+P/qb8BVUgf4/KvafTtyO/j/avAK1Ppv+PwJV9VVm2P0/JFtYlU/n/D9sN+q2fiX6Pw44e41PNPc/Opt+Z/wN9T+x3vcSW1vzP9ofvWQJlvI/8sciQQBW8j80sfkQa17yPzg5qng2r/I/Oh14WJBh8z+VZjnpctj0P6CcrSuCqQBA\",\"dtype\":\"float64\",\"shape\":[75]},\"y\":{\"__ndarray__\":\"GhExyth1ND/Sv8nbtpRIP2vylNV0PVE/aTum7souWD/At0SJ8fVgPw3Iuahxymc/MSNhhJWvcD/bTfBN02d3P2zb5nxnaoA/CD5h5MAGhz8NmeH1TyaQP+zrCsc9p5Y/LbKd76fGnz/bLW5ISEmmPww9YvTcQq8/JV2OstnstT8Er5Y7M8G+P0c+r3jqkcU/5h99k6ZBzj88bCIzFzjVP4enV8oyxN0//yH99nXg5D8qOpLLf0jtP5kqGJXUifQ/c9cS8kHP/D+/DpwzojQEQIEmwoanVwxA4lgXt9HgE0BSSZ2AJuIbQAMJih9jjiNA5q4l5INuK0AwTKYKRj0zQNv5fmq8/DpAaCJseHrtQkB/+zpwzoxKQM3MzMzMeFJAZmZmZmZqWEAAAAAAAFxeQM3MzMzMJmJAmpmZmZkfZUBmZmZmZhhoQDMzMzMzEWtAAAAAAAAKbkBmZmZmZoFwQM3MzMzM/XFAMzMzMzN6c0CamZmZmfZ0QAAAAAAAc3ZAZmZmZmbvd0DNzMzMzGt5QDMzMzMz6HpAmpmZmZlkfEAAAAAAAOF9QGZmZmZmXX9AZmZmZuZsgECamZmZGSuBQM3MzMxM6YFAAAAAAICngkAzMzMzs2WDQGZmZmbmI4RAmpmZmRnihEDNzMzMTKCFQAAAAACAXoZAMzMzM7Mch0BmZmZm5tqHQJqZmZkZmYhAzczMzExXiUAAAAAAgBWKQDMzMzOz04pAZmZmZuaRi0CamZmZGVCMQM3MzMxMDo1AAAAAAIDMjUAzMzMzs4qOQGZmZmbmSI9A\",\"dtype\":\"float64\",\"shape\":[75]}},\"selected\":{\"id\":\"de7fedc2-519a-4bfa-b6a4-9516beed0021\",\"type\":\"Selection\"},\"selection_policy\":{\"id\":\"81de76b1-bb55-4974-be44-818db28053db\",\"type\":\"UnionRenderers\"}},\"id\":\"a7f7ea92-1cc8-413c-bbe0-4f24e96ed48f\",\"type\":\"ColumnDataSource\"},{\"attributes\":{},\"id\":\"86851dac-04bf-47a1-95cb-e9f4b6e84dc8\",\"type\":\"HelpTool\"},{\"attributes\":{\"axis_label\":\"pressure [mb]\",\"formatter\":{\"id\":\"eb221b0a-0b4b-4bc2-b5ac-28537b15483d\",\"type\":\"BasicTickFormatter\"},\"plot\":{\"id\":\"0d534bbb-3a1b-4e40-bf6c-87290d1df7c3\",\"subtype\":\"Figure\",\"type\":\"Plot\"},\"ticker\":{\"id\":\"9f12fbd6-478d-4bc3-b72c-a4e9b7558b09\",\"type\":\"BasicTicker\"}},\"id\":\"ab2787ba-c35c-4b24-8f3f-cdde38d789e8\",\"type\":\"LinearAxis\"},{\"attributes\":{\"children\":[{\"id\":\"5b1e95a6-2131-4e87-930c-036b8744b702\",\"type\":\"ToolbarBox\"},{\"id\":\"496b1255-e280-4bb7-b73a-012c561c617b\",\"type\":\"Column\"}]},\"id\":\"73c8852f-55a7-4db5-b8ca-b17b6438781c\",\"type\":\"Column\"},{\"attributes\":{\"data_source\":{\"id\":\"e62d5209-bb8d-4d31-803c-7641afc208a7\",\"type\":\"ColumnDataSource\"},\"glyph\":{\"id\":\"02342124-ca6d-496b-91b6-13f31eb0986b\",\"type\":\"Line\"},\"hover_glyph\":null,\"muted_glyph\":null,\"nonselection_glyph\":{\"id\":\"0762e428-45bc-4da8-8376-36c7f32f780a\",\"type\":\"Line\"},\"selection_glyph\":null,\"view\":{\"id\":\"0fc261d4-fb92-4745-a46d-ab405ec93289\",\"type\":\"CDSView\"}},\"id\":\"4277aa37-e378-4231-9941-756c5cb84e43\",\"type\":\"GlyphRenderer\"},{\"attributes\":{},\"id\":\"5faf5349-a36e-48ba-bdfc-18dd55fda475\",\"type\":\"BasicTicker\"},{\"attributes\":{\"line_alpha\":0.8,\"line_color\":\"#984ea3\",\"line_width\":1.5,\"x\":{\"field\":\"x\"},\"y\":{\"field\":\"y\"}},\"id\":\"30b93a32-6a34-443a-a97b-c7f4b478f289\",\"type\":\"Line\"},{\"attributes\":{\"callback\":null,\"end\":12.208582536163687,\"start\":-0.60322787097269},\"id\":\"1659ddb4-dee9-4fdd-83e3-af4ebbe73636\",\"type\":\"Range1d\"},{\"attributes\":{},\"id\":\"d5a9f87a-41e1-415a-ba7c-80b56db4c619\",\"type\":\"LogScale\"},{\"attributes\":{\"toolbar\":{\"id\":\"28576eb5-6645-40a2-b69e-4af5b29320c5\",\"type\":\"ProxyToolbar\"},\"toolbar_location\":\"above\"},\"id\":\"5b1e95a6-2131-4e87-930c-036b8744b702\",\"type\":\"ToolbarBox\"},{\"attributes\":{\"fill_alpha\":{\"value\":0.1},\"fill_color\":{\"value\":\"#1f77b4\"},\"line_alpha\":{\"value\":0.1},\"line_color\":{\"value\":\"#1f77b4\"},\"x\":{\"field\":\"x\"},\"y\":{\"field\":\"y\"}},\"id\":\"743a3e38-126f-4791-9e07-b5e0fdc7bd39\",\"type\":\"Circle\"},{\"attributes\":{},\"id\":\"9f12fbd6-478d-4bc3-b72c-a4e9b7558b09\",\"type\":\"BasicTicker\"},{\"attributes\":{\"tools\":[{\"id\":\"a36c00c1-8ac9-44a2-aaef-6155f0f41129\",\"type\":\"PanTool\"},{\"id\":\"1c0e6110-4dd1-4f50-ae40-e20396ca5e45\",\"type\":\"WheelZoomTool\"},{\"id\":\"5e457073-7844-4236-bf80-62d898a79001\",\"type\":\"BoxZoomTool\"},{\"id\":\"63a16134-8b63-465c-b19e-afd5a0ac1362\",\"type\":\"SaveTool\"},{\"id\":\"8c606312-1e68-4fee-9772-c5dfea6b9d0f\",\"type\":\"ResetTool\"},{\"id\":\"72c02824-d792-4244-afe7-ece555d4decd\",\"type\":\"HelpTool\"},{\"id\":\"2e07d133-3d94-482b-87e8-eff3ccf3a09d\",\"type\":\"PanTool\"},{\"id\":\"5ce0fb45-15a7-4d4b-8bc3-28dba8dee364\",\"type\":\"WheelZoomTool\"},{\"id\":\"c570a41a-8c81-4436-9c99-f5d6c03bcd75\",\"type\":\"BoxZoomTool\"},{\"id\":\"80a9e512-5f11-47a7-af97-ea04d655b540\",\"type\":\"SaveTool\"},{\"id\":\"4e72b10c-6f41-4f30-a654-b2c0c3f7fe7d\",\"type\":\"ResetTool\"},{\"id\":\"7bc32f08-1a67-4988-8fa4-d130b4e164c4\",\"type\":\"HelpTool\"},{\"id\":\"3e62f7d0-c09f-4260-8215-4c1ec85f7408\",\"type\":\"PanTool\"},{\"id\":\"71418565-6d75-46d2-8b1d-c5d5defa7e70\",\"type\":\"WheelZoomTool\"},{\"id\":\"7e699c8e-d921-46ca-aa3c-29ae439d57cc\",\"type\":\"BoxZoomTool\"},{\"id\":\"99b024dc-3d9b-4b7a-acb9-c5afc76c70c0\",\"type\":\"SaveTool\"},{\"id\":\"8c597256-e338-4963-9837-da86cf3e8122\",\"type\":\"ResetTool\"},{\"id\":\"86851dac-04bf-47a1-95cb-e9f4b6e84dc8\",\"type\":\"HelpTool\"}]},\"id\":\"28576eb5-6645-40a2-b69e-4af5b29320c5\",\"type\":\"ProxyToolbar\"},{\"attributes\":{},\"id\":\"71418565-6d75-46d2-8b1d-c5d5defa7e70\",\"type\":\"WheelZoomTool\"},{\"attributes\":{\"children\":[{\"id\":\"ba82434f-4ec7-4c3d-a7f6-8e48a3930f9c\",\"type\":\"Row\"}]},\"id\":\"496b1255-e280-4bb7-b73a-012c561c617b\",\"type\":\"Column\"},{\"attributes\":{\"source\":{\"id\":\"1b476c63-eb26-45f3-a965-154b33497af5\",\"type\":\"ColumnDataSource\"}},\"id\":\"89b6ea6b-aaca-4c91-bab1-5eadf6b6ba10\",\"type\":\"CDSView\"},{\"attributes\":{\"callback\":null,\"data\":{\"x\":{\"__ndarray__\":\"R/KIaN7AVEClCeJMyPNGQOvRhpxr30JAptxzhxx4PkA7SssMElA4QK6Bp3CyUDNAsVXpjES9LkBFhUV0+5coQMHYwqbbySNA6f09nM3nH0CaSd/3eYoZQDmgiAOW8BNAPYqARh3eDEBkm4vCgvr+P9D+5tWhQfY/P8DwKRnSAkBq38kb17ILQDT7IWuSsxFAUr2Rjm0FFkAinq3s9XgbQGCHwtYcqSFAG64kT303J0C7dRDneyooQD9JYrbK8yRA9S3bneHhIUAIymSuUMMcQIkHLe6VEBdAAau3cITREkA6CiNvkQIPQJU39ki7IQlAaAvwok1UA0BXLQiS4+L7P0xzDpJ2hPI/NNuPGMbJ5z91mUVYxqfSPxqwUPSxZca/G11peifD3L8QzNj5t2jTvwzOozTL360/SPJ4VI1VzD9KJ0nXEIncP8yDdlvHt+4/Et49nYLW9z++2teD4Jn+P+568eH/bwFALf5D9lmAAkCiZAicVOkCQPPT4jNKxwJAOjp3wTzBAUBSQsKNGisBQG4OmjqJwQBAJ3sZoHFuAEA5Ar0Sdi0AQGy4rw5+9f8/7W4nSrC3/z8mPr8zj4T/P4UYRHCQS/8/embVKYcF/z+5YXG+LLP+P/qb8BVUgf4/KvafTtyO/j/avAK1Ppv+PwJV9VVm2P0/JFtYlU/n/D9sN+q2fiX6Pw44e41PNPc/Opt+Z/wN9T+x3vcSW1vzP9ofvWQJlvI/8sciQQBW8j80sfkQa17yPzg5qng2r/I/Oh14WJBh8z+VZjnpctj0P6CcrSuCqQBA\",\"dtype\":\"float64\",\"shape\":[75]},\"y\":{\"__ndarray__\":\"GhExyth1ND/Sv8nbtpRIP2vylNV0PVE/aTum7souWD/At0SJ8fVgPw3Iuahxymc/MSNhhJWvcD/bTfBN02d3P2zb5nxnaoA/CD5h5MAGhz8NmeH1TyaQP+zrCsc9p5Y/LbKd76fGnz/bLW5ISEmmPww9YvTcQq8/JV2OstnstT8Er5Y7M8G+P0c+r3jqkcU/5h99k6ZBzj88bCIzFzjVP4enV8oyxN0//yH99nXg5D8qOpLLf0jtP5kqGJXUifQ/c9cS8kHP/D+/DpwzojQEQIEmwoanVwxA4lgXt9HgE0BSSZ2AJuIbQAMJih9jjiNA5q4l5INuK0AwTKYKRj0zQNv5fmq8/DpAaCJseHrtQkB/+zpwzoxKQM3MzMzMeFJAZmZmZmZqWEAAAAAAAFxeQM3MzMzMJmJAmpmZmZkfZUBmZmZmZhhoQDMzMzMzEWtAAAAAAAAKbkBmZmZmZoFwQM3MzMzM/XFAMzMzMzN6c0CamZmZmfZ0QAAAAAAAc3ZAZmZmZmbvd0DNzMzMzGt5QDMzMzMz6HpAmpmZmZlkfEAAAAAAAOF9QGZmZmZmXX9AZmZmZuZsgECamZmZGSuBQM3MzMxM6YFAAAAAAICngkAzMzMzs2WDQGZmZmbmI4RAmpmZmRnihEDNzMzMTKCFQAAAAACAXoZAMzMzM7Mch0BmZmZm5tqHQJqZmZkZmYhAzczMzExXiUAAAAAAgBWKQDMzMzOz04pAZmZmZuaRi0CamZmZGVCMQM3MzMxMDo1AAAAAAIDMjUAzMzMzs4qOQGZmZmbmSI9A\",\"dtype\":\"float64\",\"shape\":[75]}},\"selected\":{\"id\":\"c78097ba-1beb-4244-bbe1-0601e6ec5b1c\",\"type\":\"Selection\"},\"selection_policy\":{\"id\":\"2a0b8483-58c1-4468-a3a5-a15578a88450\",\"type\":\"UnionRenderers\"}},\"id\":\"653a2e17-901e-4f36-ab78-fcb1d04b821d\",\"type\":\"ColumnDataSource\"},{\"attributes\":{\"bottom_units\":\"screen\",\"fill_alpha\":{\"value\":0.5},\"fill_color\":{\"value\":\"lightgrey\"},\"left_units\":\"screen\",\"level\":\"overlay\",\"line_alpha\":{\"value\":1.0},\"line_color\":{\"value\":\"black\"},\"line_dash\":[4,4],\"line_width\":{\"value\":2},\"plot\":null,\"render_mode\":\"css\",\"right_units\":\"screen\",\"top_units\":\"screen\"},\"id\":\"71337f53-9495-47fb-a2ba-1655628b6f99\",\"type\":\"BoxAnnotation\"},{\"attributes\":{\"line_alpha\":0.1,\"line_color\":\"#1f77b4\",\"line_dash\":[6],\"line_width\":5,\"x\":{\"field\":\"x\"},\"y\":{\"field\":\"y\"}},\"id\":\"7b8abb73-15a2-40b4-b26b-3d2b13643c93\",\"type\":\"Line\"},{\"attributes\":{\"source\":{\"id\":\"a7f7ea92-1cc8-413c-bbe0-4f24e96ed48f\",\"type\":\"ColumnDataSource\"}},\"id\":\"12679bb7-4973-4cdc-b2c8-6ebe1e6f428c\",\"type\":\"CDSView\"},{\"attributes\":{\"plot\":null,\"text\":\"\"},\"id\":\"49062c05-617a-4164-b1fe-9d8244a5f926\",\"type\":\"Title\"},{\"attributes\":{},\"id\":\"f5ffb413-8dea-4f26-876f-67639b4e4775\",\"type\":\"LinearScale\"},{\"attributes\":{\"overlay\":{\"id\":\"71337f53-9495-47fb-a2ba-1655628b6f99\",\"type\":\"BoxAnnotation\"}},\"id\":\"7e699c8e-d921-46ca-aa3c-29ae439d57cc\",\"type\":\"BoxZoomTool\"},{\"attributes\":{\"fill_alpha\":{\"value\":0.7},\"fill_color\":{\"value\":\"#984ea3\"},\"line_alpha\":{\"value\":0.7},\"line_color\":{\"value\":\"#984ea3\"},\"x\":{\"field\":\"x\"},\"y\":{\"field\":\"y\"}},\"id\":\"3d855936-f874-4736-a636-af7d42bc2aba\",\"type\":\"Circle\"},{\"attributes\":{},\"id\":\"3e62f7d0-c09f-4260-8215-4c1ec85f7408\",\"type\":\"PanTool\"},{\"attributes\":{},\"id\":\"65896f07-617e-4411-9f36-67c11b9d97e9\",\"type\":\"LinearScale\"},{\"attributes\":{\"plot\":{\"id\":\"9561f960-e181-4ee5-8523-37862f6e1ded\",\"subtype\":\"Figure\",\"type\":\"Plot\"},\"ticker\":{\"id\":\"219c97b3-4c55-4904-a397-8720855e50e0\",\"type\":\"BasicTicker\"}},\"id\":\"97262554-8cd5-41f6-90b4-5b0f71f43c40\",\"type\":\"Grid\"},{\"attributes\":{\"axis_label\":\"pressure [mb]\",\"formatter\":{\"id\":\"1ff951fb-e0f9-467b-8ec6-b3cc878957a2\",\"type\":\"LogTickFormatter\"},\"plot\":{\"id\":\"9561f960-e181-4ee5-8523-37862f6e1ded\",\"subtype\":\"Figure\",\"type\":\"Plot\"},\"ticker\":{\"id\":\"0882d0b9-89e1-48d8-be07-80eaab006900\",\"type\":\"LogTicker\"}},\"id\":\"ff23052f-1b76-4405-9205-d72ffbc03d7b\",\"type\":\"LogAxis\"},{\"attributes\":{\"callback\":null,\"data\":{\"x\":{\"__ndarray__\":\"DeQvAqWDRUC2vvR4+NFCQFEufk1xs0FAFdxaonocQECUvvYnIxU8QEd87GIcKjdAcZtOv/voMUBSEHYa5gQqQF49jHZtSCJAPWz7AMGcGkAR4zeBKjoVQLhPyLcWBRJAGlKKyy2TDUBDCBYMLjADQFzLvEKy6P4/UqnR7eOrBUBZFzyuj0MMQI1XQNeznBBAs5t/wu3dE0CsKkuyIk4ZQOVhwU2QCyFAmOAeE7kBJ0CaOvPD0hgoQHghtjM4hCRAgTBntRonIUDfVB61o1UcQB5YXyB1WBhA2zqpMegrFEB+eJU1zsYPQIgDNAMfOwlATI17UtQ6BUCCTjVUPXkAQHRoE7wAsfQ/wUS1t3IK5j/gsxiK+PzQPzJtr288icG/lzqwY1uR3r+X1ohF1iDYvwRse39G8l6/bUIKpkRXxT+BzSruTK7YP/zSiWUju+w/6UZL/qe69j/qaWbOQtf9PxII4j/16wBAhF3YpsiEAUAeij5caUcCQPlB5bmoTAJAAM6oRJQWAUBMT+2PHYEAQM6LWOouTwBA+t0JMAsvAECkjmHkOwQAQOTl31ifnP8/O0gtp1Q//z+tgEc/Vgf/PzHLyvLWDf8/4JULMlVC/z9tJ6JDBmT/P2IT5UcGZf8/gcfTzDxM/z9a0afUc/r+P2ddXBC12P0/FjyHXdTJ/D8jxx3A8C/6P7BaYXIHnPc/GeQYlOPt9T9oetU/kn70P1sjhyoqxPM/T9sGPz+V8z+4Vmyt3q7zP4OB5G9UEfQ/56QuE+kD9T9sRTO3SLv2P4Ht+ODJpwFA\",\"dtype\":\"float64\",\"shape\":[75]},\"y\":{\"__ndarray__\":\"GhExyth1ND/Sv8nbtpRIP2vylNV0PVE/aTum7souWD/At0SJ8fVgPw3Iuahxymc/MSNhhJWvcD/bTfBN02d3P2zb5nxnaoA/CD5h5MAGhz8NmeH1TyaQP+zrCsc9p5Y/LbKd76fGnz/bLW5ISEmmPww9YvTcQq8/JV2OstnstT8Er5Y7M8G+P0c+r3jqkcU/5h99k6ZBzj88bCIzFzjVP4enV8oyxN0//yH99nXg5D8qOpLLf0jtP5kqGJXUifQ/c9cS8kHP/D+/DpwzojQEQIEmwoanVwxA4lgXt9HgE0BSSZ2AJuIbQAMJih9jjiNA5q4l5INuK0AwTKYKRj0zQNv5fmq8/DpAaCJseHrtQkB/+zpwzoxKQM3MzMzMeFJAZmZmZmZqWEAAAAAAAFxeQM3MzMzMJmJAmpmZmZkfZUBmZmZmZhhoQDMzMzMzEWtAAAAAAAAKbkBmZmZmZoFwQM3MzMzM/XFAMzMzMzN6c0CamZmZmfZ0QAAAAAAAc3ZAZmZmZmbvd0DNzMzMzGt5QDMzMzMz6HpAmpmZmZlkfEAAAAAAAOF9QGZmZmZmXX9AZmZmZuZsgECamZmZGSuBQM3MzMxM6YFAAAAAAICngkAzMzMzs2WDQGZmZmbmI4RAmpmZmRnihEDNzMzMTKCFQAAAAACAXoZAMzMzM7Mch0BmZmZm5tqHQJqZmZkZmYhAzczMzExXiUAAAAAAgBWKQDMzMzOz04pAZmZmZuaRi0CamZmZGVCMQM3MzMxMDo1AAAAAAIDMjUAzMzMzs4qOQGZmZmbmSI9A\",\"dtype\":\"float64\",\"shape\":[75]}},\"selected\":{\"id\":\"73419dce-5db5-4466-a000-f35969242022\",\"type\":\"Selection\"},\"selection_policy\":{\"id\":\"d5b127aa-2589-41cd-b573-ae9df21e9c30\",\"type\":\"UnionRenderers\"}},\"id\":\"a17c9712-8ba5-44ed-b644-b4e46356d1ac\",\"type\":\"ColumnDataSource\"},{\"attributes\":{\"dimension\":1,\"plot\":{\"id\":\"0d534bbb-3a1b-4e40-bf6c-87290d1df7c3\",\"subtype\":\"Figure\",\"type\":\"Plot\"},\"ticker\":{\"id\":\"9f12fbd6-478d-4bc3-b72c-a4e9b7558b09\",\"type\":\"BasicTicker\"}},\"id\":\"befb1cd7-b647-4fdb-9977-8106a92063bd\",\"type\":\"Grid\"},{\"attributes\":{},\"id\":\"937cc03f-afdb-4368-a79d-2f9d00a5d43e\",\"type\":\"UnionRenderers\"},{\"attributes\":{\"data_source\":{\"id\":\"a7f7ea92-1cc8-413c-bbe0-4f24e96ed48f\",\"type\":\"ColumnDataSource\"},\"glyph\":{\"id\":\"b799443d-56cf-4e31-a0ba-182c2777d66c\",\"type\":\"Circle\"},\"hover_glyph\":null,\"muted_glyph\":null,\"nonselection_glyph\":{\"id\":\"04e9d0ce-dbc4-4503-bc14-9b3a6ab43235\",\"type\":\"Circle\"},\"selection_glyph\":null,\"view\":{\"id\":\"12679bb7-4973-4cdc-b2c8-6ebe1e6f428c\",\"type\":\"CDSView\"}},\"id\":\"70837b9b-2ce1-4c02-8ddc-de2351c0b8b0\",\"type\":\"GlyphRenderer\"},{\"attributes\":{\"data_source\":{\"id\":\"b7bb070f-074d-4ca3-8ba7-cbe5e5ddb225\",\"type\":\"ColumnDataSource\"},\"glyph\":{\"id\":\"30b93a32-6a34-443a-a97b-c7f4b478f289\",\"type\":\"Line\"},\"hover_glyph\":null,\"muted_glyph\":null,\"nonselection_glyph\":{\"id\":\"3d271379-83f7-4df1-a463-3ab9d1a9e691\",\"type\":\"Line\"},\"selection_glyph\":null,\"view\":{\"id\":\"2da702f9-bb88-4577-9697-15d03f99aaad\",\"type\":\"CDSView\"}},\"id\":\"bf6c97ed-86a0-4bda-af0f-454c3a971349\",\"type\":\"GlyphRenderer\"},{\"attributes\":{\"axis_label\":\"cooling rate [K/day]\",\"formatter\":{\"id\":\"fb2a25af-30c0-455f-a805-60bc085b7f89\",\"type\":\"BasicTickFormatter\"},\"plot\":{\"id\":\"0d534bbb-3a1b-4e40-bf6c-87290d1df7c3\",\"subtype\":\"Figure\",\"type\":\"Plot\"},\"ticker\":{\"id\":\"5faf5349-a36e-48ba-bdfc-18dd55fda475\",\"type\":\"BasicTicker\"}},\"id\":\"48fb762c-6234-4003-a733-787724c15c16\",\"type\":\"LinearAxis\"},{\"attributes\":{\"source\":{\"id\":\"e62d5209-bb8d-4d31-803c-7641afc208a7\",\"type\":\"ColumnDataSource\"}},\"id\":\"0fc261d4-fb92-4745-a46d-ab405ec93289\",\"type\":\"CDSView\"},{\"attributes\":{\"fill_alpha\":{\"value\":0.7},\"fill_color\":{\"value\":\"#4daf4a\"},\"line_alpha\":{\"value\":0.7},\"line_color\":{\"value\":\"#4daf4a\"},\"x\":{\"field\":\"x\"},\"y\":{\"field\":\"y\"}},\"id\":\"b799443d-56cf-4e31-a0ba-182c2777d66c\",\"type\":\"Circle\"},{\"attributes\":{\"plot\":{\"id\":\"0d534bbb-3a1b-4e40-bf6c-87290d1df7c3\",\"subtype\":\"Figure\",\"type\":\"Plot\"},\"ticker\":{\"id\":\"5faf5349-a36e-48ba-bdfc-18dd55fda475\",\"type\":\"BasicTicker\"}},\"id\":\"1bc096de-7f8d-4123-ab60-bfed865dbe76\",\"type\":\"Grid\"},{\"attributes\":{},\"id\":\"53bb4e68-b158-4495-9813-2e1b376972cf\",\"type\":\"BasicTickFormatter\"},{\"attributes\":{},\"id\":\"9694ed04-08c3-4e25-9368-d8b3f89bc60b\",\"type\":\"Selection\"},{\"attributes\":{\"plot\":null,\"text\":\"\"},\"id\":\"2eed16d3-0a2d-4ab4-86dc-4cf92ca0f5f3\",\"type\":\"Title\"},{\"attributes\":{\"callback\":null,\"end\":0.01,\"start\":1020},\"id\":\"f4016480-465a-457e-864f-d75d35455a3c\",\"type\":\"Range1d\"},{\"attributes\":{\"line_alpha\":0.1,\"line_color\":\"#1f77b4\",\"line_dash\":[6],\"line_width\":5,\"x\":{\"field\":\"x\"},\"y\":{\"field\":\"y\"}},\"id\":\"0762e428-45bc-4da8-8376-36c7f32f780a\",\"type\":\"Line\"},{\"attributes\":{},\"id\":\"521902db-1638-47b7-884c-3548f3e791a8\",\"type\":\"UnionRenderers\"},{\"attributes\":{\"source\":{\"id\":\"2057c3df-6708-40ca-828c-66ee8691bf0c\",\"type\":\"ColumnDataSource\"}},\"id\":\"f11fa1c2-7be6-4926-bcaa-1c00d7e65d8e\",\"type\":\"CDSView\"},{\"attributes\":{},\"id\":\"2a0b8483-58c1-4468-a3a5-a15578a88450\",\"type\":\"UnionRenderers\"},{\"attributes\":{},\"id\":\"cbd219e1-65b8-4b66-b112-84ed1ca6e14a\",\"type\":\"Selection\"},{\"attributes\":{\"callback\":null,\"data\":{\"x\":{\"__ndarray__\":\"DeQvAqWDRUC2vvR4+NFCQFEufk1xs0FAFdxaonocQECUvvYnIxU8QEd87GIcKjdAcZtOv/voMUBSEHYa5gQqQF49jHZtSCJAPWz7AMGcGkAR4zeBKjoVQLhPyLcWBRJAGlKKyy2TDUBDCBYMLjADQFzLvEKy6P4/UqnR7eOrBUBZFzyuj0MMQI1XQNeznBBAs5t/wu3dE0CsKkuyIk4ZQOVhwU2QCyFAmOAeE7kBJ0CaOvPD0hgoQHghtjM4hCRAgTBntRonIUDfVB61o1UcQB5YXyB1WBhA2zqpMegrFEB+eJU1zsYPQIgDNAMfOwlATI17UtQ6BUCCTjVUPXkAQHRoE7wAsfQ/wUS1t3IK5j/gsxiK+PzQPzJtr288icG/lzqwY1uR3r+X1ohF1iDYvwRse39G8l6/bUIKpkRXxT+BzSruTK7YP/zSiWUju+w/6UZL/qe69j/qaWbOQtf9PxII4j/16wBAhF3YpsiEAUAeij5caUcCQPlB5bmoTAJAAM6oRJQWAUBMT+2PHYEAQM6LWOouTwBA+t0JMAsvAECkjmHkOwQAQOTl31ifnP8/O0gtp1Q//z+tgEc/Vgf/PzHLyvLWDf8/4JULMlVC/z9tJ6JDBmT/P2IT5UcGZf8/gcfTzDxM/z9a0afUc/r+P2ddXBC12P0/FjyHXdTJ/D8jxx3A8C/6P7BaYXIHnPc/GeQYlOPt9T9oetU/kn70P1sjhyoqxPM/T9sGPz+V8z+4Vmyt3q7zP4OB5G9UEfQ/56QuE+kD9T9sRTO3SLv2P4Ht+ODJpwFA\",\"dtype\":\"float64\",\"shape\":[75]},\"y\":{\"__ndarray__\":\"GhExyth1ND/Sv8nbtpRIP2vylNV0PVE/aTum7souWD/At0SJ8fVgPw3Iuahxymc/MSNhhJWvcD/bTfBN02d3P2zb5nxnaoA/CD5h5MAGhz8NmeH1TyaQP+zrCsc9p5Y/LbKd76fGnz/bLW5ISEmmPww9YvTcQq8/JV2OstnstT8Er5Y7M8G+P0c+r3jqkcU/5h99k6ZBzj88bCIzFzjVP4enV8oyxN0//yH99nXg5D8qOpLLf0jtP5kqGJXUifQ/c9cS8kHP/D+/DpwzojQEQIEmwoanVwxA4lgXt9HgE0BSSZ2AJuIbQAMJih9jjiNA5q4l5INuK0AwTKYKRj0zQNv5fmq8/DpAaCJseHrtQkB/+zpwzoxKQM3MzMzMeFJAZmZmZmZqWEAAAAAAAFxeQM3MzMzMJmJAmpmZmZkfZUBmZmZmZhhoQDMzMzMzEWtAAAAAAAAKbkBmZmZmZoFwQM3MzMzM/XFAMzMzMzN6c0CamZmZmfZ0QAAAAAAAc3ZAZmZmZmbvd0DNzMzMzGt5QDMzMzMz6HpAmpmZmZlkfEAAAAAAAOF9QGZmZmZmXX9AZmZmZuZsgECamZmZGSuBQM3MzMxM6YFAAAAAAICngkAzMzMzs2WDQGZmZmbmI4RAmpmZmRnihEDNzMzMTKCFQAAAAACAXoZAMzMzM7Mch0BmZmZm5tqHQJqZmZkZmYhAzczMzExXiUAAAAAAgBWKQDMzMzOz04pAZmZmZuaRi0CamZmZGVCMQM3MzMxMDo1AAAAAAIDMjUAzMzMzs4qOQGZmZmbmSI9A\",\"dtype\":\"float64\",\"shape\":[75]}},\"selected\":{\"id\":\"21450dcd-33da-442c-af42-bda66d9a0a2d\",\"type\":\"Selection\"},\"selection_policy\":{\"id\":\"6644b05f-4195-41c1-8e5f-7574ff7bd088\",\"type\":\"UnionRenderers\"}},\"id\":\"e62d5209-bb8d-4d31-803c-7641afc208a7\",\"type\":\"ColumnDataSource\"},{\"attributes\":{\"plot\":null,\"text\":\"\"},\"id\":\"3fd87114-a951-4e9f-bffa-5b1da3c72829\",\"type\":\"Title\"},{\"attributes\":{\"dimension\":1,\"plot\":{\"id\":\"9561f960-e181-4ee5-8523-37862f6e1ded\",\"subtype\":\"Figure\",\"type\":\"Plot\"},\"ticker\":{\"id\":\"0882d0b9-89e1-48d8-be07-80eaab006900\",\"type\":\"LogTicker\"}},\"id\":\"1cee38b1-92d3-4725-9025-65d0391297db\",\"type\":\"Grid\"},{\"attributes\":{},\"id\":\"a36c00c1-8ac9-44a2-aaef-6155f0f41129\",\"type\":\"PanTool\"},{\"attributes\":{\"source\":{\"id\":\"653a2e17-901e-4f36-ab78-fcb1d04b821d\",\"type\":\"ColumnDataSource\"}},\"id\":\"d5cd35f1-c288-46f5-b258-4a1173694915\",\"type\":\"CDSView\"},{\"attributes\":{},\"id\":\"c3255fd2-2a49-4368-b1b3-ee83d309d995\",\"type\":\"Selection\"},{\"attributes\":{\"data_source\":{\"id\":\"653a2e17-901e-4f36-ab78-fcb1d04b821d\",\"type\":\"ColumnDataSource\"},\"glyph\":{\"id\":\"889d0ef3-abb0-463a-98b0-06baba58111c\",\"type\":\"Circle\"},\"hover_glyph\":null,\"muted_glyph\":null,\"nonselection_glyph\":{\"id\":\"514d1f48-bc87-4a03-afcf-b6a6ebe081c6\",\"type\":\"Circle\"},\"selection_glyph\":null,\"view\":{\"id\":\"d5cd35f1-c288-46f5-b258-4a1173694915\",\"type\":\"CDSView\"}},\"id\":\"8997c58e-1d41-4b2a-baef-a36adaae0b4b\",\"type\":\"GlyphRenderer\"},{\"attributes\":{\"fill_alpha\":{\"value\":0.1},\"fill_color\":{\"value\":\"#1f77b4\"},\"line_alpha\":{\"value\":0.1},\"line_color\":{\"value\":\"#1f77b4\"},\"x\":{\"field\":\"x\"},\"y\":{\"field\":\"y\"}},\"id\":\"514d1f48-bc87-4a03-afcf-b6a6ebe081c6\",\"type\":\"Circle\"},{\"attributes\":{\"num_minor_ticks\":10},\"id\":\"0882d0b9-89e1-48d8-be07-80eaab006900\",\"type\":\"LogTicker\"},{\"attributes\":{},\"id\":\"a6dc8944-8729-43e3-9920-84ccf6a8af61\",\"type\":\"BasicTickFormatter\"},{\"attributes\":{\"fill_alpha\":{\"value\":0.7},\"fill_color\":{\"value\":\"#4daf4a\"},\"line_alpha\":{\"value\":0.7},\"line_color\":{\"value\":\"#4daf4a\"},\"x\":{\"field\":\"x\"},\"y\":{\"field\":\"y\"}},\"id\":\"889d0ef3-abb0-463a-98b0-06baba58111c\",\"type\":\"Circle\"},{\"attributes\":{\"ticker\":null},\"id\":\"8b3bedbf-2721-47ea-81af-479a3c845938\",\"type\":\"LogTickFormatter\"},{\"attributes\":{\"ticker\":null},\"id\":\"1ff951fb-e0f9-467b-8ec6-b3cc878957a2\",\"type\":\"LogTickFormatter\"},{\"attributes\":{\"overlay\":{\"id\":\"31584091-bf4e-42ad-bc37-55f1361ae593\",\"type\":\"BoxAnnotation\"}},\"id\":\"5e457073-7844-4236-bf80-62d898a79001\",\"type\":\"BoxZoomTool\"},{\"attributes\":{},\"id\":\"83c148e2-1cd1-4d83-bf93-a81aeab0a06b\",\"type\":\"UnionRenderers\"},{\"attributes\":{},\"id\":\"d5b127aa-2589-41cd-b573-ae9df21e9c30\",\"type\":\"UnionRenderers\"}],\"root_ids\":[\"73c8852f-55a7-4db5-b8ca-b17b6438781c\"]},\"title\":\"Bokeh Application\",\"version\":\"0.12.16\"}};\n",
       "  var render_items = [{\"docid\":\"511016f8-3891-401e-898b-e55345594d07\",\"elementid\":\"82de7dc6-c1ad-4f6e-8aad-d184bd008e5d\",\"modelid\":\"73c8852f-55a7-4db5-b8ca-b17b6438781c\"}];\n",
       "  root.Bokeh.embed.embed_items_notebook(docs_json, render_items);\n",
       "\n",
       "  }\n",
       "  if (root.Bokeh !== undefined) {\n",
       "    embed_document(root);\n",
       "  } else {\n",
       "    var attempts = 0;\n",
       "    var timer = setInterval(function(root) {\n",
       "      if (root.Bokeh !== undefined) {\n",
       "        embed_document(root);\n",
       "        clearInterval(timer);\n",
       "      }\n",
       "      attempts++;\n",
       "      if (attempts > 100) {\n",
       "        console.log(\"Bokeh: ERROR: Unable to run BokehJS code because BokehJS library is missing\")\n",
       "        clearInterval(timer);\n",
       "      }\n",
       "    }, 10, root)\n",
       "  }\n",
       "})(window);"
      ],
      "application/vnd.bokehjs_exec.v0+json": ""
     },
     "metadata": {
      "application/vnd.bokehjs_exec.v0+json": {
       "id": "73c8852f-55a7-4db5-b8ca-b17b6438781c"
      }
     },
     "output_type": "display_data"
    },
    {
     "data": {
      "text/markdown": [
       "*FIGURE.* Cooling rates & difference."
      ],
      "text/plain": [
       "<IPython.core.display.Markdown object>"
      ]
     },
     "metadata": {},
     "output_type": "display_data"
    },
    {
     "data": {
      "text/html": [
       "<a id=\"Fluxes._trp.\"></a>"
      ],
      "text/plain": [
       "<IPython.core.display.HTML object>"
      ]
     },
     "metadata": {},
     "output_type": "display_data"
    },
    {
     "data": {
      "text/markdown": [
       "# Fluxes. trp."
      ],
      "text/plain": [
       "<IPython.core.display.Markdown object>"
      ]
     },
     "metadata": {},
     "output_type": "display_data"
    },
    {
     "data": {
      "text/html": [
       "\n",
       "<div class=\"bk-root\">\n",
       "    <div class=\"bk-plotdiv\" id=\"07706e39-df26-421b-be8b-57a0b88591f8\"></div>\n",
       "</div>"
      ]
     },
     "metadata": {},
     "output_type": "display_data"
    },
    {
     "data": {
      "application/javascript": [
       "(function(root) {\n",
       "  function embed_document(root) {\n",
       "    \n",
       "  var docs_json = {\"1db11db1-b752-46ba-a265-531bcfc5f0d8\":{\"roots\":{\"references\":[{\"attributes\":{},\"id\":\"f0362bee-7ab7-445c-b24b-117e407214ee\",\"type\":\"BasicTickFormatter\"},{\"attributes\":{\"callback\":null,\"data\":{\"band\":[\"1\",\"2\",\"3\",\"4\",\"5\",\"6\",\"7\",\"8\",\"9\",\"10\",\"11\"],\"flux\":{\"__ndarray__\":\"AADADkbs874Ak+S5vg/QPwAq5Eo9C8q/AHSERUWcrj8AMLq8OVzjP+DPm4pUGN0/wORV52Idsj8AQGTbs/iOPwD/I9Oh09E/AFDtmpDWiD8Asw6iEFywPw==\",\"dtype\":\"float64\",\"shape\":[11]}},\"selected\":{\"id\":\"a33b830a-0dd9-4312-bbe3-fabbee22ac8b\",\"type\":\"Selection\"},\"selection_policy\":{\"id\":\"e612fab1-4d41-48a2-b05f-f3889b44c99f\",\"type\":\"UnionRenderers\"}},\"id\":\"082c58a8-7c13-4a44-9197-d952b3159236\",\"type\":\"ColumnDataSource\"},{\"attributes\":{},\"id\":\"029ca6e7-ab41-46e0-b06e-307c1142ed3e\",\"type\":\"CategoricalTicker\"},{\"attributes\":{\"callback\":null},\"id\":\"9f6af02f-0405-4939-93a5-312e0390e4ab\",\"type\":\"DataRange1d\"},{\"attributes\":{\"callback\":null},\"id\":\"3109257e-db45-435e-86a1-26af6291d277\",\"type\":\"DataRange1d\"},{\"attributes\":{\"plot\":{\"id\":\"d9ab33c6-e1bb-4e69-a565-97f9c5987b45\",\"subtype\":\"Figure\",\"type\":\"Plot\"},\"ticker\":{\"id\":\"27464a79-f2b9-4ff2-bcfe-81857963527a\",\"type\":\"CategoricalTicker\"}},\"id\":\"068f71b2-a72e-4b80-9c47-3db6ba2b6992\",\"type\":\"Grid\"},{\"attributes\":{},\"id\":\"d7d4a91c-c9fa-4b56-8801-4e3081f0a859\",\"type\":\"CategoricalTickFormatter\"},{\"attributes\":{},\"id\":\"37e2ec76-8e06-4654-b6e1-2793073b4f63\",\"type\":\"PanTool\"},{\"attributes\":{},\"id\":\"aa28409c-adcf-4f09-b126-9a15854eb47c\",\"type\":\"LinearScale\"},{\"attributes\":{},\"id\":\"3e8e1186-b154-4bd7-a88e-b382fac7bcd7\",\"type\":\"ResetTool\"},{\"attributes\":{\"plot\":{\"id\":\"8683ff41-735c-4bbf-a807-f9e4e836a983\",\"subtype\":\"Figure\",\"type\":\"Plot\"},\"ticker\":{\"id\":\"029ca6e7-ab41-46e0-b06e-307c1142ed3e\",\"type\":\"CategoricalTicker\"}},\"id\":\"ff607fc1-4b9d-4322-beaf-2f1e9fe17416\",\"type\":\"Grid\"},{\"attributes\":{\"children\":[{\"id\":\"f254eccc-2d11-44d1-a725-c6e9484ed851\",\"subtype\":\"Figure\",\"type\":\"Plot\"},{\"id\":\"8683ff41-735c-4bbf-a807-f9e4e836a983\",\"subtype\":\"Figure\",\"type\":\"Plot\"},{\"id\":\"d9ab33c6-e1bb-4e69-a565-97f9c5987b45\",\"subtype\":\"Figure\",\"type\":\"Plot\"}]},\"id\":\"47b670b3-db02-47a6-80db-d0449e52d4da\",\"type\":\"Row\"},{\"attributes\":{\"dimension\":1,\"plot\":{\"id\":\"f254eccc-2d11-44d1-a725-c6e9484ed851\",\"subtype\":\"Figure\",\"type\":\"Plot\"},\"ticker\":{\"id\":\"e23a83bc-3e99-4002-8099-f76e0844b75c\",\"type\":\"BasicTicker\"}},\"id\":\"58c1d467-2fdb-458e-ab4d-c4e7f6552ec8\",\"type\":\"Grid\"},{\"attributes\":{},\"id\":\"ee8f890a-fd3b-45f0-9eda-9292d1040888\",\"type\":\"CategoricalScale\"},{\"attributes\":{\"axis_label\":\"flux (W m-2)\",\"formatter\":{\"id\":\"a796f722-a825-474a-b298-533349994b8c\",\"type\":\"BasicTickFormatter\"},\"plot\":{\"id\":\"d9ab33c6-e1bb-4e69-a565-97f9c5987b45\",\"subtype\":\"Figure\",\"type\":\"Plot\"},\"ticker\":{\"id\":\"ce2cd111-e6ea-405f-84be-2efe5069379a\",\"type\":\"BasicTicker\"}},\"id\":\"82a832f8-609e-48a2-89c1-9357bd4f4c82\",\"type\":\"LinearAxis\"},{\"attributes\":{\"bottom_units\":\"screen\",\"fill_alpha\":{\"value\":0.5},\"fill_color\":{\"value\":\"lightgrey\"},\"left_units\":\"screen\",\"level\":\"overlay\",\"line_alpha\":{\"value\":1.0},\"line_color\":{\"value\":\"black\"},\"line_dash\":[4,4],\"line_width\":{\"value\":2},\"plot\":null,\"render_mode\":\"css\",\"right_units\":\"screen\",\"top_units\":\"screen\"},\"id\":\"358a7f69-6e0a-4416-9307-c116737979c1\",\"type\":\"BoxAnnotation\"},{\"attributes\":{},\"id\":\"95c7d81a-c98a-49b7-949c-d7da19c45538\",\"type\":\"CategoricalTickFormatter\"},{\"attributes\":{},\"id\":\"d851aed7-0455-421a-93c5-533145c0f3cf\",\"type\":\"Selection\"},{\"attributes\":{\"fill_alpha\":{\"value\":0.1},\"fill_color\":{\"value\":\"#1f77b4\"},\"line_alpha\":{\"value\":0.1},\"line_color\":{\"value\":\"#1f77b4\"},\"top\":{\"field\":\"flux\"},\"width\":{\"value\":0.9},\"x\":{\"field\":\"band\"}},\"id\":\"5da6279d-f95b-43d6-8735-d384852ca093\",\"type\":\"VBar\"},{\"attributes\":{},\"id\":\"13ef7ac1-8c18-4b4c-91dc-005bcb2607c8\",\"type\":\"BasicTicker\"},{\"attributes\":{},\"id\":\"bd203b86-4f4f-4804-890d-8094f2e5deb7\",\"type\":\"HelpTool\"},{\"attributes\":{\"callback\":null,\"data\":{\"band\":[\"1\",\"2\",\"3\",\"4\",\"5\",\"6\",\"7\",\"8\",\"9\",\"10\",\"11\"],\"flux\":{\"__ndarray__\":\"AID6S2L7yj8AhLZzzD+yPwDn9AapJbm/oFGioVYD4D9gJ6H0hZDSv4DY6Qd1kd+/gFDj3vyGxT8Atr3dkhzAv4DhOmtcJNC/wG+hI6BfwD/ARu3ZzlKpPw==\",\"dtype\":\"float64\",\"shape\":[11]}},\"selected\":{\"id\":\"8ddc006b-e862-4ffa-8edd-088efe4d8360\",\"type\":\"Selection\"},\"selection_policy\":{\"id\":\"c17b986c-38d8-4411-bd55-ae0f5057d1bf\",\"type\":\"UnionRenderers\"}},\"id\":\"131e4084-a60a-4608-8cc3-2e6ef57a10c4\",\"type\":\"ColumnDataSource\"},{\"attributes\":{\"below\":[{\"id\":\"2ff4e4c3-3523-4f89-930a-96c173750538\",\"type\":\"CategoricalAxis\"}],\"left\":[{\"id\":\"46cf9d37-978d-4fb4-9247-474740de4f84\",\"type\":\"LinearAxis\"}],\"plot_height\":300,\"plot_width\":300,\"renderers\":[{\"id\":\"2ff4e4c3-3523-4f89-930a-96c173750538\",\"type\":\"CategoricalAxis\"},{\"id\":\"5e692fe6-7218-4f1c-b315-618a3bc41f29\",\"type\":\"Grid\"},{\"id\":\"46cf9d37-978d-4fb4-9247-474740de4f84\",\"type\":\"LinearAxis\"},{\"id\":\"58c1d467-2fdb-458e-ab4d-c4e7f6552ec8\",\"type\":\"Grid\"},{\"id\":\"5edc1beb-1357-4f61-ab42-0448b8da3aac\",\"type\":\"BoxAnnotation\"},{\"id\":\"7926b382-c74b-4158-a8e2-9fa28c4cddcf\",\"type\":\"GlyphRenderer\"}],\"title\":{\"id\":\"6534aa5e-1c04-466f-b94b-04f56cca96c2\",\"type\":\"Title\"},\"toolbar\":{\"id\":\"a8af8508-dfca-499e-810a-e4207cdadb29\",\"type\":\"Toolbar\"},\"toolbar_location\":null,\"x_range\":{\"id\":\"bd5789fc-75b6-45d6-991e-6e430fac76e2\",\"type\":\"FactorRange\"},\"x_scale\":{\"id\":\"b57fddbe-0cec-493d-b668-89227eb3cdd5\",\"type\":\"CategoricalScale\"},\"y_range\":{\"id\":\"d46d0a56-90a5-49ae-9ac8-82f83484480d\",\"type\":\"DataRange1d\"},\"y_scale\":{\"id\":\"38fd5101-426a-4d62-9663-fa83d01e1048\",\"type\":\"LinearScale\"}},\"id\":\"f254eccc-2d11-44d1-a725-c6e9484ed851\",\"subtype\":\"Figure\",\"type\":\"Plot\"},{\"attributes\":{},\"id\":\"5eed3c72-fff3-4934-b5c8-a4a2cfaf4894\",\"type\":\"SaveTool\"},{\"attributes\":{},\"id\":\"ce2cd111-e6ea-405f-84be-2efe5069379a\",\"type\":\"BasicTicker\"},{\"attributes\":{\"axis_label\":\"flux (W m-2)\",\"formatter\":{\"id\":\"7ce4cc37-33e5-4ce2-9df6-db7aa06e7cf8\",\"type\":\"BasicTickFormatter\"},\"plot\":{\"id\":\"8683ff41-735c-4bbf-a807-f9e4e836a983\",\"subtype\":\"Figure\",\"type\":\"Plot\"},\"ticker\":{\"id\":\"13ef7ac1-8c18-4b4c-91dc-005bcb2607c8\",\"type\":\"BasicTicker\"}},\"id\":\"36006e08-1740-4fcb-94dc-221d4418927a\",\"type\":\"LinearAxis\"},{\"attributes\":{},\"id\":\"09ecb6fa-f577-449b-b2b6-88db88c58781\",\"type\":\"CategoricalTickFormatter\"},{\"attributes\":{},\"id\":\"75b0bf6c-3193-4113-8104-75200eb83973\",\"type\":\"LinearScale\"},{\"attributes\":{},\"id\":\"e23a83bc-3e99-4002-8099-f76e0844b75c\",\"type\":\"BasicTicker\"},{\"attributes\":{\"axis_label\":\"flux (W m-2)\",\"formatter\":{\"id\":\"f0362bee-7ab7-445c-b24b-117e407214ee\",\"type\":\"BasicTickFormatter\"},\"plot\":{\"id\":\"f254eccc-2d11-44d1-a725-c6e9484ed851\",\"subtype\":\"Figure\",\"type\":\"Plot\"},\"ticker\":{\"id\":\"e23a83bc-3e99-4002-8099-f76e0844b75c\",\"type\":\"BasicTicker\"}},\"id\":\"46cf9d37-978d-4fb4-9247-474740de4f84\",\"type\":\"LinearAxis\"},{\"attributes\":{\"axis_label\":\"spectral band\",\"formatter\":{\"id\":\"95c7d81a-c98a-49b7-949c-d7da19c45538\",\"type\":\"CategoricalTickFormatter\"},\"plot\":{\"id\":\"8683ff41-735c-4bbf-a807-f9e4e836a983\",\"subtype\":\"Figure\",\"type\":\"Plot\"},\"ticker\":{\"id\":\"029ca6e7-ab41-46e0-b06e-307c1142ed3e\",\"type\":\"CategoricalTicker\"}},\"id\":\"6990db0b-8be9-4cff-b569-709e859ab698\",\"type\":\"CategoricalAxis\"},{\"attributes\":{\"below\":[{\"id\":\"e47f17d2-0755-4a4c-8077-ed6ee56c5463\",\"type\":\"CategoricalAxis\"}],\"left\":[{\"id\":\"82a832f8-609e-48a2-89c1-9357bd4f4c82\",\"type\":\"LinearAxis\"}],\"plot_height\":300,\"plot_width\":300,\"renderers\":[{\"id\":\"e47f17d2-0755-4a4c-8077-ed6ee56c5463\",\"type\":\"CategoricalAxis\"},{\"id\":\"068f71b2-a72e-4b80-9c47-3db6ba2b6992\",\"type\":\"Grid\"},{\"id\":\"82a832f8-609e-48a2-89c1-9357bd4f4c82\",\"type\":\"LinearAxis\"},{\"id\":\"a3c1bbe9-2e4c-4683-8791-4a13dca5a321\",\"type\":\"Grid\"},{\"id\":\"f75e77f9-d561-42f3-9cc2-c91a6baa6faa\",\"type\":\"BoxAnnotation\"},{\"id\":\"09e43717-4dea-4ce4-818a-d74dd1f4fd19\",\"type\":\"GlyphRenderer\"}],\"title\":{\"id\":\"e9dff76a-5a06-4383-892d-1f0bf1fbc593\",\"type\":\"Title\"},\"toolbar\":{\"id\":\"e682168f-4b38-4640-ad90-5980adb906c5\",\"type\":\"Toolbar\"},\"toolbar_location\":null,\"x_range\":{\"id\":\"2cade0f8-4ab3-46aa-8e3f-775fbf93583f\",\"type\":\"FactorRange\"},\"x_scale\":{\"id\":\"ee8f890a-fd3b-45f0-9eda-9292d1040888\",\"type\":\"CategoricalScale\"},\"y_range\":{\"id\":\"3109257e-db45-435e-86a1-26af6291d277\",\"type\":\"DataRange1d\"},\"y_scale\":{\"id\":\"aa28409c-adcf-4f09-b126-9a15854eb47c\",\"type\":\"LinearScale\"}},\"id\":\"d9ab33c6-e1bb-4e69-a565-97f9c5987b45\",\"subtype\":\"Figure\",\"type\":\"Plot\"},{\"attributes\":{\"dimension\":1,\"plot\":{\"id\":\"d9ab33c6-e1bb-4e69-a565-97f9c5987b45\",\"subtype\":\"Figure\",\"type\":\"Plot\"},\"ticker\":{\"id\":\"ce2cd111-e6ea-405f-84be-2efe5069379a\",\"type\":\"BasicTicker\"}},\"id\":\"a3c1bbe9-2e4c-4683-8791-4a13dca5a321\",\"type\":\"Grid\"},{\"attributes\":{},\"id\":\"ed877afb-7330-439b-9de7-eff99f23f415\",\"type\":\"UnionRenderers\"},{\"attributes\":{\"bottom_units\":\"screen\",\"fill_alpha\":{\"value\":0.5},\"fill_color\":{\"value\":\"lightgrey\"},\"left_units\":\"screen\",\"level\":\"overlay\",\"line_alpha\":{\"value\":1.0},\"line_color\":{\"value\":\"black\"},\"line_dash\":[4,4],\"line_width\":{\"value\":2},\"plot\":null,\"render_mode\":\"css\",\"right_units\":\"screen\",\"top_units\":\"screen\"},\"id\":\"f75e77f9-d561-42f3-9cc2-c91a6baa6faa\",\"type\":\"BoxAnnotation\"},{\"attributes\":{\"active_drag\":\"auto\",\"active_inspect\":\"auto\",\"active_scroll\":\"auto\",\"active_tap\":\"auto\",\"tools\":[{\"id\":\"37e2ec76-8e06-4654-b6e1-2793073b4f63\",\"type\":\"PanTool\"},{\"id\":\"a7662115-a3d9-4d17-8c74-d1957aee8dcb\",\"type\":\"WheelZoomTool\"},{\"id\":\"ca178c84-9d57-4f0a-8169-f8cbefcdfb42\",\"type\":\"BoxZoomTool\"},{\"id\":\"5eed3c72-fff3-4934-b5c8-a4a2cfaf4894\",\"type\":\"SaveTool\"},{\"id\":\"3e8e1186-b154-4bd7-a88e-b382fac7bcd7\",\"type\":\"ResetTool\"},{\"id\":\"bd203b86-4f4f-4804-890d-8094f2e5deb7\",\"type\":\"HelpTool\"}]},\"id\":\"e682168f-4b38-4640-ad90-5980adb906c5\",\"type\":\"Toolbar\"},{\"attributes\":{\"callback\":null,\"factors\":[\"1\",\"2\",\"3\",\"4\",\"5\",\"6\",\"7\",\"8\",\"9\",\"10\",\"11\"]},\"id\":\"2cade0f8-4ab3-46aa-8e3f-775fbf93583f\",\"type\":\"FactorRange\"},{\"attributes\":{\"fill_color\":{\"value\":\"#1f77b4\"},\"line_color\":{\"value\":\"#1f77b4\"},\"top\":{\"field\":\"flux\"},\"width\":{\"value\":0.9},\"x\":{\"field\":\"band\"}},\"id\":\"2c5e8657-1a09-4ab5-9fae-dc1a38eb56fe\",\"type\":\"VBar\"},{\"attributes\":{},\"id\":\"a7662115-a3d9-4d17-8c74-d1957aee8dcb\",\"type\":\"WheelZoomTool\"},{\"attributes\":{\"fill_color\":{\"value\":\"#1f77b4\"},\"line_color\":{\"value\":\"#1f77b4\"},\"top\":{\"field\":\"flux\"},\"width\":{\"value\":0.9},\"x\":{\"field\":\"band\"}},\"id\":\"05d4011c-fbc2-4366-8e86-58b400c324bb\",\"type\":\"VBar\"},{\"attributes\":{},\"id\":\"a58d53b8-81b6-49ec-aaa7-a65aa5a5cf7e\",\"type\":\"CategoricalScale\"},{\"attributes\":{\"children\":[{\"id\":\"47b670b3-db02-47a6-80db-d0449e52d4da\",\"type\":\"Row\"}]},\"id\":\"c8b1a2ad-fab8-471f-86f6-84bcd9d26687\",\"type\":\"Column\"},{\"attributes\":{\"source\":{\"id\":\"131e4084-a60a-4608-8cc3-2e6ef57a10c4\",\"type\":\"ColumnDataSource\"}},\"id\":\"6b3370cb-fc45-40ff-a388-f711e9acbb60\",\"type\":\"CDSView\"},{\"attributes\":{},\"id\":\"27464a79-f2b9-4ff2-bcfe-81857963527a\",\"type\":\"CategoricalTicker\"},{\"attributes\":{\"data_source\":{\"id\":\"131e4084-a60a-4608-8cc3-2e6ef57a10c4\",\"type\":\"ColumnDataSource\"},\"glyph\":{\"id\":\"05d4011c-fbc2-4366-8e86-58b400c324bb\",\"type\":\"VBar\"},\"hover_glyph\":null,\"muted_glyph\":null,\"nonselection_glyph\":{\"id\":\"5da6279d-f95b-43d6-8735-d384852ca093\",\"type\":\"VBar\"},\"selection_glyph\":null,\"view\":{\"id\":\"6b3370cb-fc45-40ff-a388-f711e9acbb60\",\"type\":\"CDSView\"}},\"id\":\"09e43717-4dea-4ce4-818a-d74dd1f4fd19\",\"type\":\"GlyphRenderer\"},{\"attributes\":{\"overlay\":{\"id\":\"f75e77f9-d561-42f3-9cc2-c91a6baa6faa\",\"type\":\"BoxAnnotation\"}},\"id\":\"ca178c84-9d57-4f0a-8169-f8cbefcdfb42\",\"type\":\"BoxZoomTool\"},{\"attributes\":{\"callback\":null,\"factors\":[\"1\",\"2\",\"3\",\"4\",\"5\",\"6\",\"7\",\"8\",\"9\",\"10\",\"11\"]},\"id\":\"9e06acb6-c53b-430a-b9f6-2319062847cd\",\"type\":\"FactorRange\"},{\"attributes\":{\"plot\":null,\"text\":\"Atmosphere heating. CLIRAD (single-run) - CRD.\"},\"id\":\"e9dff76a-5a06-4383-892d-1f0bf1fbc593\",\"type\":\"Title\"},{\"attributes\":{\"dimension\":1,\"plot\":{\"id\":\"8683ff41-735c-4bbf-a807-f9e4e836a983\",\"subtype\":\"Figure\",\"type\":\"Plot\"},\"ticker\":{\"id\":\"13ef7ac1-8c18-4b4c-91dc-005bcb2607c8\",\"type\":\"BasicTicker\"}},\"id\":\"27fd6c7d-e029-4b37-96c3-13530d14e45e\",\"type\":\"Grid\"},{\"attributes\":{\"axis_label\":\"spectral band\",\"formatter\":{\"id\":\"d7d4a91c-c9fa-4b56-8801-4e3081f0a859\",\"type\":\"CategoricalTickFormatter\"},\"plot\":{\"id\":\"d9ab33c6-e1bb-4e69-a565-97f9c5987b45\",\"subtype\":\"Figure\",\"type\":\"Plot\"},\"ticker\":{\"id\":\"27464a79-f2b9-4ff2-bcfe-81857963527a\",\"type\":\"CategoricalTicker\"}},\"id\":\"e47f17d2-0755-4a4c-8077-ed6ee56c5463\",\"type\":\"CategoricalAxis\"},{\"attributes\":{},\"id\":\"98226c05-143f-43ac-9479-c384932311ce\",\"type\":\"WheelZoomTool\"},{\"attributes\":{\"callback\":null,\"factors\":[\"1\",\"2\",\"3\",\"4\",\"5\",\"6\",\"7\",\"8\",\"9\",\"10\",\"11\"]},\"id\":\"bd5789fc-75b6-45d6-991e-6e430fac76e2\",\"type\":\"FactorRange\"},{\"attributes\":{},\"id\":\"18d2cada-1e23-435f-83d8-9c69526da206\",\"type\":\"HelpTool\"},{\"attributes\":{\"plot\":{\"id\":\"f254eccc-2d11-44d1-a725-c6e9484ed851\",\"subtype\":\"Figure\",\"type\":\"Plot\"},\"ticker\":{\"id\":\"a7d95958-88b2-43de-a079-ba5986478121\",\"type\":\"CategoricalTicker\"}},\"id\":\"5e692fe6-7218-4f1c-b315-618a3bc41f29\",\"type\":\"Grid\"},{\"attributes\":{},\"id\":\"797b2516-4457-45e4-928a-9422760628c4\",\"type\":\"SaveTool\"},{\"attributes\":{\"tools\":[{\"id\":\"afa813f4-479d-4841-976f-d11453291489\",\"type\":\"PanTool\"},{\"id\":\"98226c05-143f-43ac-9479-c384932311ce\",\"type\":\"WheelZoomTool\"},{\"id\":\"e286e79f-ba9c-4d40-84d7-bfbb98e4fc46\",\"type\":\"BoxZoomTool\"},{\"id\":\"797b2516-4457-45e4-928a-9422760628c4\",\"type\":\"SaveTool\"},{\"id\":\"a5ea3b15-a7ca-4e2f-b2b2-ecf4ccf86772\",\"type\":\"ResetTool\"},{\"id\":\"18d2cada-1e23-435f-83d8-9c69526da206\",\"type\":\"HelpTool\"},{\"id\":\"2677eeed-0630-4cb4-9860-8fab641edce4\",\"type\":\"PanTool\"},{\"id\":\"59f32629-a9da-4564-8434-2f8cde96e10a\",\"type\":\"WheelZoomTool\"},{\"id\":\"792b70bb-82fc-42cc-aef6-5063edd49440\",\"type\":\"BoxZoomTool\"},{\"id\":\"cffae0f1-54d0-4c4a-9153-4bd1cd8d5636\",\"type\":\"SaveTool\"},{\"id\":\"8ddb85a2-900d-4b94-b250-9c89713de795\",\"type\":\"ResetTool\"},{\"id\":\"eb81726a-fc7f-44e3-9b52-44b77ada85bc\",\"type\":\"HelpTool\"},{\"id\":\"37e2ec76-8e06-4654-b6e1-2793073b4f63\",\"type\":\"PanTool\"},{\"id\":\"a7662115-a3d9-4d17-8c74-d1957aee8dcb\",\"type\":\"WheelZoomTool\"},{\"id\":\"ca178c84-9d57-4f0a-8169-f8cbefcdfb42\",\"type\":\"BoxZoomTool\"},{\"id\":\"5eed3c72-fff3-4934-b5c8-a4a2cfaf4894\",\"type\":\"SaveTool\"},{\"id\":\"3e8e1186-b154-4bd7-a88e-b382fac7bcd7\",\"type\":\"ResetTool\"},{\"id\":\"bd203b86-4f4f-4804-890d-8094f2e5deb7\",\"type\":\"HelpTool\"}]},\"id\":\"c64a71fa-b514-4694-bb1c-15193ff7d0d7\",\"type\":\"ProxyToolbar\"},{\"attributes\":{\"toolbar\":{\"id\":\"c64a71fa-b514-4694-bb1c-15193ff7d0d7\",\"type\":\"ProxyToolbar\"},\"toolbar_location\":\"above\"},\"id\":\"9594d7aa-5332-4fea-8ebc-7a315e6dcfc2\",\"type\":\"ToolbarBox\"},{\"attributes\":{},\"id\":\"b57fddbe-0cec-493d-b668-89227eb3cdd5\",\"type\":\"CategoricalScale\"},{\"attributes\":{},\"id\":\"e612fab1-4d41-48a2-b05f-f3889b44c99f\",\"type\":\"UnionRenderers\"},{\"attributes\":{\"callback\":null,\"data\":{\"band\":[\"1\",\"2\",\"3\",\"4\",\"5\",\"6\",\"7\",\"8\",\"9\",\"10\",\"11\"],\"flux\":{\"__ndarray__\":\"AMHG9e/6yj8ARFVMpZ/UP4B4l4v4TtO/8GLvxRft4T/AUBVT6SfUPwBIcOoDyaO/gHhF8L+Vzj8AbToCuFm8vwDADTFe85o/4PGprSLtwT+A2YcGcwW9Pw==\",\"dtype\":\"float64\",\"shape\":[11]}},\"selected\":{\"id\":\"d851aed7-0455-421a-93c5-533145c0f3cf\",\"type\":\"Selection\"},\"selection_policy\":{\"id\":\"ed877afb-7330-439b-9de7-eff99f23f415\",\"type\":\"UnionRenderers\"}},\"id\":\"92c1c9eb-2154-4994-b1c6-eda5da6523ed\",\"type\":\"ColumnDataSource\"},{\"attributes\":{\"plot\":null,\"text\":\"SFC flux. CLIRAD (single-run) - CRD.\"},\"id\":\"22e61f05-c305-4a7e-81f7-26ab013edf82\",\"type\":\"Title\"},{\"attributes\":{\"fill_alpha\":{\"value\":0.1},\"fill_color\":{\"value\":\"#1f77b4\"},\"line_alpha\":{\"value\":0.1},\"line_color\":{\"value\":\"#1f77b4\"},\"top\":{\"field\":\"flux\"},\"width\":{\"value\":0.9},\"x\":{\"field\":\"band\"}},\"id\":\"d5ee50ee-c56c-4230-bdf0-fb6b6789f9b7\",\"type\":\"VBar\"},{\"attributes\":{},\"id\":\"7ce4cc37-33e5-4ce2-9df6-db7aa06e7cf8\",\"type\":\"BasicTickFormatter\"},{\"attributes\":{},\"id\":\"c17b986c-38d8-4411-bd55-ae0f5057d1bf\",\"type\":\"UnionRenderers\"},{\"attributes\":{\"source\":{\"id\":\"082c58a8-7c13-4a44-9197-d952b3159236\",\"type\":\"ColumnDataSource\"}},\"id\":\"821351b0-1c4e-4697-ae8d-b56ce07fcd8d\",\"type\":\"CDSView\"},{\"attributes\":{},\"id\":\"8ddc006b-e862-4ffa-8edd-088efe4d8360\",\"type\":\"Selection\"},{\"attributes\":{},\"id\":\"a5ea3b15-a7ca-4e2f-b2b2-ecf4ccf86772\",\"type\":\"ResetTool\"},{\"attributes\":{},\"id\":\"8ddb85a2-900d-4b94-b250-9c89713de795\",\"type\":\"ResetTool\"},{\"attributes\":{\"bottom_units\":\"screen\",\"fill_alpha\":{\"value\":0.5},\"fill_color\":{\"value\":\"lightgrey\"},\"left_units\":\"screen\",\"level\":\"overlay\",\"line_alpha\":{\"value\":1.0},\"line_color\":{\"value\":\"black\"},\"line_dash\":[4,4],\"line_width\":{\"value\":2},\"plot\":null,\"render_mode\":\"css\",\"right_units\":\"screen\",\"top_units\":\"screen\"},\"id\":\"5edc1beb-1357-4f61-ab42-0448b8da3aac\",\"type\":\"BoxAnnotation\"},{\"attributes\":{\"overlay\":{\"id\":\"358a7f69-6e0a-4416-9307-c116737979c1\",\"type\":\"BoxAnnotation\"}},\"id\":\"792b70bb-82fc-42cc-aef6-5063edd49440\",\"type\":\"BoxZoomTool\"},{\"attributes\":{},\"id\":\"a33b830a-0dd9-4312-bbe3-fabbee22ac8b\",\"type\":\"Selection\"},{\"attributes\":{\"data_source\":{\"id\":\"082c58a8-7c13-4a44-9197-d952b3159236\",\"type\":\"ColumnDataSource\"},\"glyph\":{\"id\":\"2c5e8657-1a09-4ab5-9fae-dc1a38eb56fe\",\"type\":\"VBar\"},\"hover_glyph\":null,\"muted_glyph\":null,\"nonselection_glyph\":{\"id\":\"87f80be7-84cc-4415-a325-7eb7aef563e9\",\"type\":\"VBar\"},\"selection_glyph\":null,\"view\":{\"id\":\"821351b0-1c4e-4697-ae8d-b56ce07fcd8d\",\"type\":\"CDSView\"}},\"id\":\"4352428c-49f7-46db-ad57-6153ee1183c2\",\"type\":\"GlyphRenderer\"},{\"attributes\":{\"below\":[{\"id\":\"6990db0b-8be9-4cff-b569-709e859ab698\",\"type\":\"CategoricalAxis\"}],\"left\":[{\"id\":\"36006e08-1740-4fcb-94dc-221d4418927a\",\"type\":\"LinearAxis\"}],\"plot_height\":300,\"plot_width\":300,\"renderers\":[{\"id\":\"6990db0b-8be9-4cff-b569-709e859ab698\",\"type\":\"CategoricalAxis\"},{\"id\":\"ff607fc1-4b9d-4322-beaf-2f1e9fe17416\",\"type\":\"Grid\"},{\"id\":\"36006e08-1740-4fcb-94dc-221d4418927a\",\"type\":\"LinearAxis\"},{\"id\":\"27fd6c7d-e029-4b37-96c3-13530d14e45e\",\"type\":\"Grid\"},{\"id\":\"358a7f69-6e0a-4416-9307-c116737979c1\",\"type\":\"BoxAnnotation\"},{\"id\":\"4352428c-49f7-46db-ad57-6153ee1183c2\",\"type\":\"GlyphRenderer\"}],\"title\":{\"id\":\"22e61f05-c305-4a7e-81f7-26ab013edf82\",\"type\":\"Title\"},\"toolbar\":{\"id\":\"ee678f93-1624-4f7a-a763-3f3fe6248efd\",\"type\":\"Toolbar\"},\"toolbar_location\":null,\"x_range\":{\"id\":\"9e06acb6-c53b-430a-b9f6-2319062847cd\",\"type\":\"FactorRange\"},\"x_scale\":{\"id\":\"a58d53b8-81b6-49ec-aaa7-a65aa5a5cf7e\",\"type\":\"CategoricalScale\"},\"y_range\":{\"id\":\"9f6af02f-0405-4939-93a5-312e0390e4ab\",\"type\":\"DataRange1d\"},\"y_scale\":{\"id\":\"75b0bf6c-3193-4113-8104-75200eb83973\",\"type\":\"LinearScale\"}},\"id\":\"8683ff41-735c-4bbf-a807-f9e4e836a983\",\"subtype\":\"Figure\",\"type\":\"Plot\"},{\"attributes\":{\"data_source\":{\"id\":\"92c1c9eb-2154-4994-b1c6-eda5da6523ed\",\"type\":\"ColumnDataSource\"},\"glyph\":{\"id\":\"77217b48-497a-4097-b27f-f239d94afb10\",\"type\":\"VBar\"},\"hover_glyph\":null,\"muted_glyph\":null,\"nonselection_glyph\":{\"id\":\"d5ee50ee-c56c-4230-bdf0-fb6b6789f9b7\",\"type\":\"VBar\"},\"selection_glyph\":null,\"view\":{\"id\":\"28855c6f-f39d-4d67-b7f7-bff39b62e19b\",\"type\":\"CDSView\"}},\"id\":\"7926b382-c74b-4158-a8e2-9fa28c4cddcf\",\"type\":\"GlyphRenderer\"},{\"attributes\":{},\"id\":\"38fd5101-426a-4d62-9663-fa83d01e1048\",\"type\":\"LinearScale\"},{\"attributes\":{\"children\":[{\"id\":\"9594d7aa-5332-4fea-8ebc-7a315e6dcfc2\",\"type\":\"ToolbarBox\"},{\"id\":\"c8b1a2ad-fab8-471f-86f6-84bcd9d26687\",\"type\":\"Column\"}]},\"id\":\"18ee69d2-ab37-4691-8089-5239748f64e9\",\"type\":\"Column\"},{\"attributes\":{\"plot\":null,\"text\":\"TOA flux. CLIRAD (single-run) - CRD.\"},\"id\":\"6534aa5e-1c04-466f-b94b-04f56cca96c2\",\"type\":\"Title\"},{\"attributes\":{\"fill_color\":{\"value\":\"#1f77b4\"},\"line_color\":{\"value\":\"#1f77b4\"},\"top\":{\"field\":\"flux\"},\"width\":{\"value\":0.9},\"x\":{\"field\":\"band\"}},\"id\":\"77217b48-497a-4097-b27f-f239d94afb10\",\"type\":\"VBar\"},{\"attributes\":{\"callback\":null},\"id\":\"d46d0a56-90a5-49ae-9ac8-82f83484480d\",\"type\":\"DataRange1d\"},{\"attributes\":{},\"id\":\"afa813f4-479d-4841-976f-d11453291489\",\"type\":\"PanTool\"},{\"attributes\":{},\"id\":\"59f32629-a9da-4564-8434-2f8cde96e10a\",\"type\":\"WheelZoomTool\"},{\"attributes\":{\"fill_alpha\":{\"value\":0.1},\"fill_color\":{\"value\":\"#1f77b4\"},\"line_alpha\":{\"value\":0.1},\"line_color\":{\"value\":\"#1f77b4\"},\"top\":{\"field\":\"flux\"},\"width\":{\"value\":0.9},\"x\":{\"field\":\"band\"}},\"id\":\"87f80be7-84cc-4415-a325-7eb7aef563e9\",\"type\":\"VBar\"},{\"attributes\":{},\"id\":\"eb81726a-fc7f-44e3-9b52-44b77ada85bc\",\"type\":\"HelpTool\"},{\"attributes\":{\"axis_label\":\"spectral band\",\"formatter\":{\"id\":\"09ecb6fa-f577-449b-b2b6-88db88c58781\",\"type\":\"CategoricalTickFormatter\"},\"plot\":{\"id\":\"f254eccc-2d11-44d1-a725-c6e9484ed851\",\"subtype\":\"Figure\",\"type\":\"Plot\"},\"ticker\":{\"id\":\"a7d95958-88b2-43de-a079-ba5986478121\",\"type\":\"CategoricalTicker\"}},\"id\":\"2ff4e4c3-3523-4f89-930a-96c173750538\",\"type\":\"CategoricalAxis\"},{\"attributes\":{},\"id\":\"a7d95958-88b2-43de-a079-ba5986478121\",\"type\":\"CategoricalTicker\"},{\"attributes\":{\"overlay\":{\"id\":\"5edc1beb-1357-4f61-ab42-0448b8da3aac\",\"type\":\"BoxAnnotation\"}},\"id\":\"e286e79f-ba9c-4d40-84d7-bfbb98e4fc46\",\"type\":\"BoxZoomTool\"},{\"attributes\":{},\"id\":\"cffae0f1-54d0-4c4a-9153-4bd1cd8d5636\",\"type\":\"SaveTool\"},{\"attributes\":{\"active_drag\":\"auto\",\"active_inspect\":\"auto\",\"active_scroll\":\"auto\",\"active_tap\":\"auto\",\"tools\":[{\"id\":\"afa813f4-479d-4841-976f-d11453291489\",\"type\":\"PanTool\"},{\"id\":\"98226c05-143f-43ac-9479-c384932311ce\",\"type\":\"WheelZoomTool\"},{\"id\":\"e286e79f-ba9c-4d40-84d7-bfbb98e4fc46\",\"type\":\"BoxZoomTool\"},{\"id\":\"797b2516-4457-45e4-928a-9422760628c4\",\"type\":\"SaveTool\"},{\"id\":\"a5ea3b15-a7ca-4e2f-b2b2-ecf4ccf86772\",\"type\":\"ResetTool\"},{\"id\":\"18d2cada-1e23-435f-83d8-9c69526da206\",\"type\":\"HelpTool\"}]},\"id\":\"a8af8508-dfca-499e-810a-e4207cdadb29\",\"type\":\"Toolbar\"},{\"attributes\":{},\"id\":\"a796f722-a825-474a-b298-533349994b8c\",\"type\":\"BasicTickFormatter\"},{\"attributes\":{},\"id\":\"2677eeed-0630-4cb4-9860-8fab641edce4\",\"type\":\"PanTool\"},{\"attributes\":{\"active_drag\":\"auto\",\"active_inspect\":\"auto\",\"active_scroll\":\"auto\",\"active_tap\":\"auto\",\"tools\":[{\"id\":\"2677eeed-0630-4cb4-9860-8fab641edce4\",\"type\":\"PanTool\"},{\"id\":\"59f32629-a9da-4564-8434-2f8cde96e10a\",\"type\":\"WheelZoomTool\"},{\"id\":\"792b70bb-82fc-42cc-aef6-5063edd49440\",\"type\":\"BoxZoomTool\"},{\"id\":\"cffae0f1-54d0-4c4a-9153-4bd1cd8d5636\",\"type\":\"SaveTool\"},{\"id\":\"8ddb85a2-900d-4b94-b250-9c89713de795\",\"type\":\"ResetTool\"},{\"id\":\"eb81726a-fc7f-44e3-9b52-44b77ada85bc\",\"type\":\"HelpTool\"}]},\"id\":\"ee678f93-1624-4f7a-a763-3f3fe6248efd\",\"type\":\"Toolbar\"},{\"attributes\":{\"source\":{\"id\":\"92c1c9eb-2154-4994-b1c6-eda5da6523ed\",\"type\":\"ColumnDataSource\"}},\"id\":\"28855c6f-f39d-4d67-b7f7-bff39b62e19b\",\"type\":\"CDSView\"}],\"root_ids\":[\"18ee69d2-ab37-4691-8089-5239748f64e9\"]},\"title\":\"Bokeh Application\",\"version\":\"0.12.16\"}};\n",
       "  var render_items = [{\"docid\":\"1db11db1-b752-46ba-a265-531bcfc5f0d8\",\"elementid\":\"07706e39-df26-421b-be8b-57a0b88591f8\",\"modelid\":\"18ee69d2-ab37-4691-8089-5239748f64e9\"}];\n",
       "  root.Bokeh.embed.embed_items_notebook(docs_json, render_items);\n",
       "\n",
       "  }\n",
       "  if (root.Bokeh !== undefined) {\n",
       "    embed_document(root);\n",
       "  } else {\n",
       "    var attempts = 0;\n",
       "    var timer = setInterval(function(root) {\n",
       "      if (root.Bokeh !== undefined) {\n",
       "        embed_document(root);\n",
       "        clearInterval(timer);\n",
       "      }\n",
       "      attempts++;\n",
       "      if (attempts > 100) {\n",
       "        console.log(\"Bokeh: ERROR: Unable to run BokehJS code because BokehJS library is missing\")\n",
       "        clearInterval(timer);\n",
       "      }\n",
       "    }, 10, root)\n",
       "  }\n",
       "})(window);"
      ],
      "application/vnd.bokehjs_exec.v0+json": ""
     },
     "metadata": {
      "application/vnd.bokehjs_exec.v0+json": {
       "id": "18ee69d2-ab37-4691-8089-5239748f64e9"
      }
     },
     "output_type": "display_data"
    },
    {
     "data": {
      "text/markdown": [
       "*FIGURE.* Difference between CLIRAD and CRD in TOA, SFC and net atmosphere flux, in each spectral band."
      ],
      "text/plain": [
       "<IPython.core.display.Markdown object>"
      ]
     },
     "metadata": {},
     "output_type": "display_data"
    },
    {
     "data": {
      "text/html": [
       "<div>\n",
       "<style scoped>\n",
       "    .dataframe tbody tr th:only-of-type {\n",
       "        vertical-align: middle;\n",
       "    }\n",
       "\n",
       "    .dataframe tbody tr th {\n",
       "        vertical-align: top;\n",
       "    }\n",
       "\n",
       "    .dataframe thead th {\n",
       "        text-align: right;\n",
       "    }\n",
       "</style>\n",
       "<table border=\"1\" class=\"dataframe\">\n",
       "  <thead>\n",
       "    <tr style=\"text-align: right;\">\n",
       "      <th></th>\n",
       "      <th>OLR flux</th>\n",
       "      <th>SFC flux</th>\n",
       "      <th>ATM heating</th>\n",
       "    </tr>\n",
       "    <tr>\n",
       "      <th>Sum over bands</th>\n",
       "      <th></th>\n",
       "      <th></th>\n",
       "      <th></th>\n",
       "    </tr>\n",
       "  </thead>\n",
       "  <tbody>\n",
       "    <tr>\n",
       "      <th>CLIRAD (single-run) - CRD</th>\n",
       "      <td>1.48</td>\n",
       "      <td>1.61</td>\n",
       "      <td>-0.13</td>\n",
       "    </tr>\n",
       "    <tr>\n",
       "      <th>CRD</th>\n",
       "      <td>-303.40</td>\n",
       "      <td>337.24</td>\n",
       "      <td>-181.37</td>\n",
       "    </tr>\n",
       "  </tbody>\n",
       "</table>\n",
       "</div>"
      ],
      "text/plain": [
       "                           OLR flux  SFC flux  ATM heating\n",
       "Sum over bands                                            \n",
       "CLIRAD (single-run) - CRD      1.48      1.61        -0.13\n",
       "CRD                         -303.40    337.24      -181.37"
      ]
     },
     "metadata": {},
     "output_type": "display_data"
    },
    {
     "data": {
      "text/markdown": [
       "*TABLE.* Difference between CLIRAD and CRD in TOA, SFC and net atmosphere flux, over all spectral bands. CRD's TOA, SFC and net atmosphere flux, over all spectral bands."
      ],
      "text/plain": [
       "<IPython.core.display.Markdown object>"
      ]
     },
     "metadata": {},
     "output_type": "display_data"
    }
   ],
   "source": [
    "def show_html(s):\n",
    "    display.display(display.HTML(s))\n",
    "\n",
    "    \n",
    "def show_markdown(s):\n",
    "    display.display(display.Markdown(s))\n",
    "\n",
    "\n",
    "def script():\n",
    "    \n",
    "    d_atm = {'mls': 'mid-latitude summer',\n",
    "             'saw': 'sub-arctic winter',\n",
    "             'trp': 'tropical'}\n",
    "    \n",
    "    title = ('## Results over entire range of molecules'\n",
    "             ' and spectral bands')\n",
    "    \n",
    "    s_makeup = 'Makeup of atmosphere.'\n",
    "    s_atmpro = '# {}'\n",
    "    s_cool = 'Cooling rates. {}.'\n",
    "    s_flux = 'Fluxes. {}.'\n",
    "    \n",
    "    atmpros = ['mls', 'saw', 'trp']\n",
    "    \n",
    "    # TOC\n",
    "    show_markdown(title)\n",
    "    show_markdown('### Table of Contents')\n",
    "    show_html(climahtml.getHTML_hrefanchor(s_makeup))\n",
    "    for atmpro in atmpros:\n",
    "        show_markdown('**' + d_atm[atmpro] + '**')\n",
    "        show_html(climahtml.getHTML_hrefanchor(s_cool.format(atmpro)))\n",
    "        show_html(climahtml.getHTML_hrefanchor(s_flux.format(atmpro)))\n",
    "\n",
    "        \n",
    "    # Atmosphere makeup\n",
    "    show_html(climahtml.getHTML_idanchor(s_makeup))\n",
    "    show_markdown(climahtml.getMarkdown_sectitle(s_makeup))\n",
    "    show_makeup()\n",
    "    show_grey_makeup()\n",
    "        \n",
    "    for atmpro in atmpros:\n",
    "        show_html(climahtml.getHTML_idanchor(s_cool.format(atmpro)))\n",
    "        show_markdown(\n",
    "            climahtml.getMarkdown_sectitle(s_cool.format(atmpro)))\n",
    "        show_cool(atmpro=atmpro)\n",
    "        show_html(climahtml.getHTML_idanchor(s_flux.format(atmpro)))\n",
    "        show_markdown(\n",
    "            climahtml.getMarkdown_sectitle(s_flux.format(atmpro)))\n",
    "        show_hist_flux(atmpro=atmpro)\n",
    "        show_tb_flux(atmpro=atmpro)\n",
    "    \n",
    "    \n",
    "script()  "
   ]
  },
  {
   "cell_type": "code",
   "execution_count": null,
   "metadata": {
    "collapsed": true
   },
   "outputs": [],
   "source": []
  },
  {
   "cell_type": "code",
   "execution_count": 1156,
   "metadata": {},
   "outputs": [
    {
     "data": {
      "text/html": [
       "<script>\n",
       "code_show=true; \n",
       "function code_toggle() {\n",
       " if (code_show){\n",
       " $('div.input').hide();\n",
       " } else {\n",
       " $('div.input').show();\n",
       " }\n",
       " code_show = !code_show\n",
       "} \n",
       "$( document ).ready(code_toggle);\n",
       "</script>\n",
       "<form action=\"javascript:code_toggle()\"><input type=\"submit\" value=\"Click here to toggle on/off the raw code.\"></form>"
      ],
      "text/plain": [
       "<IPython.core.display.HTML object>"
      ]
     },
     "execution_count": 1156,
     "metadata": {},
     "output_type": "execute_result"
    }
   ],
   "source": [
    "display.HTML('''<script>\n",
    "code_show=true; \n",
    "function code_toggle() {\n",
    " if (code_show){\n",
    " $('div.input').hide();\n",
    " } else {\n",
    " $('div.input').show();\n",
    " }\n",
    " code_show = !code_show\n",
    "} \n",
    "$( document ).ready(code_toggle);\n",
    "</script>\n",
    "<form action=\"javascript:code_toggle()\"><input type=\"submit\" value=\"Click here to toggle on/off the raw code.\"></form>''')"
   ]
  },
  {
   "cell_type": "code",
   "execution_count": null,
   "metadata": {
    "collapsed": true
   },
   "outputs": [],
   "source": []
  }
 ],
 "metadata": {
  "kernelspec": {
   "display_name": "Python 3",
   "language": "python",
   "name": "python3"
  },
  "language_info": {
   "codemirror_mode": {
    "name": "ipython",
    "version": 3
   },
   "file_extension": ".py",
   "mimetype": "text/x-python",
   "name": "python",
   "nbconvert_exporter": "python",
   "pygments_lexer": "ipython3",
   "version": "3.6.1"
  }
 },
 "nbformat": 4,
 "nbformat_minor": 2
}
