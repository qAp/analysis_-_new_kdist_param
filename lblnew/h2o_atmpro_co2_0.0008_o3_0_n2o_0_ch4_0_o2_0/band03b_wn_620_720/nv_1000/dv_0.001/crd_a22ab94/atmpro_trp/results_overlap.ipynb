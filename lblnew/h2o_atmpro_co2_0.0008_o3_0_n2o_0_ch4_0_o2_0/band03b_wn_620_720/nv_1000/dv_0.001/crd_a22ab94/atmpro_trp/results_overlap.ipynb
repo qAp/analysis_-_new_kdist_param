{
 "cells": [
  {
   "cell_type": "code",
   "execution_count": 1,
   "metadata": {
    "collapsed": true
   },
   "outputs": [],
   "source": [
    "%matplotlib inline\n",
    "import os\n",
    "import re\n",
    "import io\n",
    "import itertools\n",
    "import pprint\n",
    "\n",
    "import matplotlib\n",
    "import matplotlib.pyplot as plt\n",
    "import numpy as np\n",
    "import pandas as pd\n",
    "import xarray as xr\n",
    "\n",
    "import climatools.lblnew.bestfit_params as bestfits\n",
    "from climatools.lblnew import setup_bestfit, setup_overlap\n",
    "import climatools.lblnew.pipeline as pipe_lblnew\n",
    "\n",
    "import climatools.html.html as climahtml\n",
    "from climatools.lblnew.dataio import *\n",
    "from climatools.plot.plot import *\n",
    "\n",
    "import IPython.display as display"
   ]
  },
  {
   "cell_type": "code",
   "execution_count": 2,
   "metadata": {
    "collapsed": true
   },
   "outputs": [],
   "source": [
    "%run param.py"
   ]
  },
  {
   "cell_type": "code",
   "execution_count": 3,
   "metadata": {
    "collapsed": true
   },
   "outputs": [
    {
     "name": "stdout",
     "output_type": "stream",
     "text": [
      "The history saving thread hit an unexpected error (OperationalError('database is locked',)).History will not be written to the database."
     ]
    }
   ],
   "source": [
    "def load_output_file(path_csv):\n",
    "    '''\n",
    "    Load lblnew output .csv file to xarray.Dataset\n",
    "    \n",
    "    Parameters\n",
    "    ----------\n",
    "    path_csv: str\n",
    "              Path to the .csv file to be loaded.\n",
    "    ds: xarray.Dataset\n",
    "        Data in the input file in the form of an xarray.Dataset.\n",
    "    '''\n",
    "    toindex = ['band', 'pressure', 'igg', 'g']    \n",
    "    df = pd.read_csv(path_csv, sep=r'\\s+')\n",
    "    df = df.set_index([i for i in toindex if i in df.columns])\n",
    "    df = df.rename(columns={'sfu': 'flug',\n",
    "                            'sfd': 'fldg',\n",
    "                            'fnet': 'fnetg',\n",
    "                            'coolr': 'coolrg'})\n",
    "    ds = xr.Dataset.from_dataframe(df)\n",
    "\n",
    "    for l in ('level', 'layer'):\n",
    "        if l in ds.data_vars:\n",
    "            if len(ds[l].dims) > 1:\n",
    "                surface = {d: 0 for d in ds.dims if d != 'pressure'}\n",
    "                coord_level = ds[l][surface]\n",
    "                ds.coords[l] = ('pressure', coord_level)\n",
    "            else:\n",
    "                ds.coords[l] = ('pressure', ds[l])\n",
    "    \n",
    "    return ds"
   ]
  },
  {
   "cell_type": "code",
   "execution_count": 4,
   "metadata": {
    "collapsed": true
   },
   "outputs": [
    {
     "name": "stdout",
     "output_type": "stream",
     "text": [
      "\n"
     ]
    }
   ],
   "source": [
    "def lblnew_setup(param=None):\n",
    "    if 'ng_refs' in param:\n",
    "        return {'setup': setup_bestfit,\n",
    "                'fname_flux_crd': 'output_flux.dat',\n",
    "                'fname_cool_crd': 'output_coolr.dat',\n",
    "                'fname_flux_wgt': 'output_wfluxg.dat',\n",
    "                'fname_cool_wgt': 'output_wcoolrg.dat'}\n",
    "    else:\n",
    "        return {'setup': setup_overlap,\n",
    "                'fname_flux_crd': 'output_flux.dat',\n",
    "                'fname_cool_crd': 'output_coolr.dat',\n",
    "                'fname_flux_wgt': 'output_wflux.dat',\n",
    "                'fname_cool_wgt': 'output_wcoolr.dat'}\n",
    "\n",
    "    \n",
    "def load_lblnew_data(param):\n",
    "    \n",
    "    fname_dsname = [('fname_flux_crd', 'ds_flux_crd'),\n",
    "                    ('fname_cool_crd', 'ds_cool_crd'),\n",
    "                    ('fname_flux_wgt', 'ds_flux_wgt'),\n",
    "                    ('fname_cool_wgt', 'ds_cool_wgt')]\n",
    "    \n",
    "    d = lblnew_setup(param)\n",
    "    dir_fortran = pipe_lblnew.get_dir_case(param, setup=d['setup'])\n",
    "    \n",
    "    data_dict = {}\n",
    "    for fname, dsname in fname_dsname:\n",
    "        fpath = os.path.join(dir_fortran, d[fname])\n",
    "        data_dict[dsname] = load_output_file(fpath)\n",
    "    return data_dict\n",
    "    \n",
    "\n",
    "    \n",
    "    "
   ]
  },
  {
   "cell_type": "code",
   "execution_count": 5,
   "metadata": {
    "collapsed": true
   },
   "outputs": [],
   "source": [
    "d = load_lblnew_data(PARAM)\n",
    "\n",
    "DS_FLUX_CRD = d['ds_flux_crd']\n",
    "DS_COOL_CRD = d['ds_cool_crd']\n",
    "DS_FLUX_WGT = d['ds_flux_wgt']\n",
    "DS_COOL_WGT = d['ds_cool_wgt']"
   ]
  },
  {
   "cell_type": "code",
   "execution_count": 6,
   "metadata": {
    "collapsed": true
   },
   "outputs": [],
   "source": [
    "def fmt_cool(ds_in):\n",
    "    ds = ds_in.copy(deep=True)\n",
    "    if 'igg' in ds.dims:\n",
    "        ds = ds.sel(igg=1)\n",
    "\n",
    "    if 'g' in ds.dims:\n",
    "        ds = ds.sum('g')\n",
    "            \n",
    "    if 'band' in ds.dims:\n",
    "        try:\n",
    "            ds = ds.squeeze('band')\n",
    "        except ValueError:\n",
    "            ds = ds.sum('band')\n",
    "                \n",
    "    return ds['coolrg']\n",
    "\n",
    "\n",
    "def pltdata_cooling_1(ds_cool_crd=None, ds_cool_wgt=None):\n",
    "    data = [\n",
    "        {'label': 'CRD',\n",
    "         'srs': fmt_cool(ds_cool_crd),\n",
    "         'linestyle': '-', 'color': 'blue', 'marker': None},\n",
    "        {'label': 'WGT igg=10',\n",
    "         'srs': fmt_cool(ds_cool_wgt.sel(igg=10)),\n",
    "         'linestyle': '--', 'color': 'red', 'marker': None},\n",
    "        {'label': 'WGT igg=1',\n",
    "         'srs': fmt_cool(ds_cool_wgt.sel(igg=1)),\n",
    "         'linestyle': '--', 'color': 'green', 'marker': None}\n",
    "        ]\n",
    "    return data\n",
    "\n",
    "\n",
    "def plt_cooling(pltdata=None):\n",
    "    '''\n",
    "    Plots a list of cooling rate profiles.\n",
    "    \n",
    "    Parameter\n",
    "    ---------\n",
    "    pltdata: list-like\n",
    "             List of dictionaries each of which contains the following\n",
    "             fields:\n",
    "                 label -- \n",
    "    '''\n",
    "    \n",
    "    plot_args = {'index_on_yaxis': True,\n",
    "                 'yincrease': False,\n",
    "                 'linewidth': 2,\n",
    "                 'grid': True,\n",
    "                 'alpha': .7}\n",
    "    \n",
    "    yscales = ['linear', 'log']\n",
    "    varlims = [(50, 1050), (1e-2, 200)]\n",
    "    \n",
    "    fig, axs = plt.subplots(ncols=len(yscales), nrows=1,\n",
    "                            figsize=(15, 6))\n",
    "    \n",
    "    axs = axs.flatten()\n",
    "    \n",
    "    for ax, yscale, varlim in zip(axs, yscales, varlims):\n",
    "        for d in pltdata:\n",
    "            d['srs'].climaviz.plot(ax=ax,\n",
    "                                  yscale=yscale,\n",
    "                                   varlim_from_indexrange=varlim,\n",
    "                                  label=d['label'],\n",
    "                                  linestyle=d['linestyle'],\n",
    "                                  color=d['color'],\n",
    "                                  marker=d['marker'],\n",
    "                                  **plot_args)\n",
    "            \n",
    "        ax.set_title('')\n",
    "        \n",
    "        ax.set_ylabel('Pressure (mb)')\n",
    "        ax.set_ylim(top=1e-2)\n",
    "        ax.set_ylim(bottom=None)\n",
    "    \n",
    "        ax.set_xlabel('Cooling rate (degree per day)')\n",
    "    return fig, axs\n",
    "\n",
    "\n",
    "\n",
    "def script_plt_cooling():\n",
    "    pltdata = pltdata_cooling_1(\n",
    "        ds_cool_crd=DS_COOL_CRD,\n",
    "        ds_cool_wgt=DS_COOL_WGT)\n",
    "    fig, axs = plt_cooling(pltdata=pltdata)\n",
    "    display.display(fig)\n",
    "    print('''FIGURE. Cooling rate profiles.''')\n",
    "    plt.close(fig)"
   ]
  },
  {
   "cell_type": "code",
   "execution_count": 7,
   "metadata": {
    "collapsed": true
   },
   "outputs": [],
   "source": [
    "def fmt_flux(ds_in):\n",
    "    ds = ds_in.copy(deep=True)\n",
    "    \n",
    "    for l in ('level', 'layer'):\n",
    "        if l in ds.data_vars:\n",
    "            if len(ds[l].dims) > 1:\n",
    "                surface = {d: 0 for d in ds.dims if d != 'pressure'}\n",
    "                coord_level = ds[l][surface]\n",
    "                ds.coords[l] = ('pressure', coord_level)\n",
    "            else:\n",
    "                ds.coords[l] = ('pressure', ds[l])\n",
    "        \n",
    "    ds = ds.isel(pressure=[0, 23, -1])\n",
    "    \n",
    "    if 'igg' in ds.dims:\n",
    "        if ds.dims['igg'] > 1:\n",
    "            print('Select an igg value to view in table.')\n",
    "            raise ValueError\n",
    "        else:\n",
    "            ds = ds.squeeze('igg').drop('igg')\n",
    "    else:\n",
    "        if 'igg' in ds.coords:\n",
    "            ds = ds.drop('igg')\n",
    "\n",
    "    if 'g' in ds.dims:\n",
    "        ds = ds.sum('g')\n",
    "            \n",
    "    if 'band' in ds.dims:\n",
    "        try:\n",
    "            ds = ds.squeeze('band').drop('band')\n",
    "        except ValueError:\n",
    "            ds = ds.sum('band')\n",
    "                \n",
    "    df = ds.to_dataframe()\n",
    "    df = df.set_index('level', append=True)               \n",
    "    return df\n",
    "\n",
    "\n",
    "def tbdata_flux(ds_flux_crd=None, ds_flux_wgt=None):\n",
    "    ilevels = [0, 23, -1]\n",
    "            \n",
    "    benchmark = {'label': 'CRD',\n",
    "                 'df': fmt_flux(ds_flux_crd)}\n",
    "    tbs = [{'label': 'WGT igg=10',\n",
    "            'df': fmt_flux(ds_flux_wgt.sel(igg=10))},\n",
    "           {'label': 'WGT igg=1',\n",
    "            'df': fmt_flux(ds_flux_wgt.sel(igg=1))}]\n",
    "    \n",
    "    data = {'benchmark': benchmark, 'others': tbs}\n",
    "    return data\n",
    "\n",
    "\n",
    "def tb_flux(tbdata=None):\n",
    "    benchmark = tbdata['benchmark']\n",
    "    others = tbdata['others']\n",
    "    \n",
    "    def show_tb(d=None):\n",
    "        display.display(d['df'])\n",
    "        print('Table.', 'Fluxes.', d['label'])\n",
    "        \n",
    "    def show_tbdiff(d0=None, d=None):\n",
    "        df = d['df']\n",
    "        df.index = d0['df'].index\n",
    "        display.display(df - d0['df'])\n",
    "        print('Table.', 'Fluxes.', \n",
    "              '({}) - ({})'.format(d['label'], d0['label']))\n",
    "        \n",
    "    show_tb(benchmark)\n",
    "    for d in others:\n",
    "        show_tb(d)\n",
    "        \n",
    "    for d in others:\n",
    "        show_tbdiff(d=d, d0=benchmark)\n",
    "        \n",
    "        \n",
    "def script_tb_flux():\n",
    "    data = tbdata_flux(ds_flux_crd=DS_FLUX_CRD,\n",
    "                       ds_flux_wgt=DS_FLUX_WGT)\n",
    "    tb_flux(tbdata=data)"
   ]
  },
  {
   "cell_type": "code",
   "execution_count": 8,
   "metadata": {
    "collapsed": true
   },
   "outputs": [],
   "source": [
    "def band_map():\n",
    "    '''\n",
    "    Maps spectral bands in lblnew to spectral bands in clirad.\n",
    "    '''\n",
    "    lblnew2clirad = {'1': '1',\n",
    "            '2': '2',\n",
    "            '3a': '3',\n",
    "            '3b': '4',\n",
    "            '3c': '5',\n",
    "            '4': '6', \n",
    "            '5': '7',\n",
    "            '6': '8',\n",
    "            '7': '9', \n",
    "            '8': '10',\n",
    "            '9': '11'}\n",
    "    \n",
    "    clirad2lblnew = {clirad: lblnew \n",
    "                     for lblnew, clirad in lblnew2clirad.items()}\n",
    "    return clirad2lblnew\n",
    "\n",
    "\n",
    "def gasbands():\n",
    "    bmap = band_map()\n",
    "    gases = list(PARAM['molecule'].keys())\n",
    "    \n",
    "    bands = [PARAM['band']]\n",
    "    return list(itertools.product(gases, bands))\n",
    "\n",
    "\n",
    "def print_bestfit_params():\n",
    "    print('Best-fit values for each (gas, band)')\n",
    "    print('------------------------------------')\n",
    "    for gas, band in gasbands():\n",
    "        print('o {} band{}'.format(gas, band))\n",
    "        param = bestfits.kdist_params(molecule=gas, band=band)\n",
    "        for name, value in param.items():\n",
    "            print(2 * ' ' + '{} = {}'.format(name, value))\n",
    "\n",
    "        \n",
    "def print_input_param():        \n",
    "    for name, value in PARAM.items():\n",
    "        print('{} = {}'.format(name, value))\n"
   ]
  },
  {
   "cell_type": "code",
   "execution_count": 9,
   "metadata": {
    "collapsed": true,
    "scrolled": false
   },
   "outputs": [],
   "source": [
    "def show_html(s):\n",
    "    display.display(display.HTML(s))\n",
    "\n",
    "    \n",
    "def show_markdown(s):\n",
    "    display.display(display.Markdown(s))\n",
    "\n",
    "    \n",
    "def script():\n",
    "    \n",
    "    title = '### LBLNEW-OVERLAP'\n",
    "    s_input = 'Input Parameters'\n",
    "    s_bestfits = 'Best-fit Parameters'\n",
    "    s_plt_cooling = 'Cooling Rate Profiles'\n",
    "    s_tb_flux = 'Flux Comparison'\n",
    "    \n",
    "    # title\n",
    "    show_markdown(title)\n",
    "    \n",
    "    # TOC\n",
    "    show_markdown('### Table of Contents')\n",
    "    show_html(climahtml.getHTML_hrefanchor(s_input))\n",
    "    show_html(climahtml.getHTML_hrefanchor(s_plt_cooling))\n",
    "    show_html(climahtml.getHTML_hrefanchor(s_tb_flux))\n",
    "    show_html(climahtml.getHTML_hrefanchor(s_bestfits))\n",
    "    \n",
    "    # Input parameters\n",
    "    show_html(climahtml.getHTML_idanchor(s_input))\n",
    "    show_markdown(climahtml.getMarkdown_sectitle(s_input))\n",
    "    print_input_param()\n",
    "    \n",
    "    # Cooling rate profiles\n",
    "    show_html(climahtml.getHTML_idanchor(s_plt_cooling))\n",
    "    show_markdown(climahtml.getMarkdown_sectitle(s_plt_cooling))\n",
    "    script_plt_cooling()\n",
    "    \n",
    "    # Flux comparison\n",
    "    show_html(climahtml.getHTML_idanchor(s_tb_flux))\n",
    "    show_markdown(climahtml.getMarkdown_sectitle(s_tb_flux))\n",
    "    script_tb_flux()\n",
    "    \n",
    "    # Best-fit values\n",
    "    show_html(climahtml.getHTML_idanchor(s_bestfits))\n",
    "    show_markdown(climahtml.getMarkdown_sectitle(s_bestfits))\n",
    "    print_bestfit_params()\n",
    "   \n",
    "    "
   ]
  },
  {
   "cell_type": "code",
   "execution_count": 10,
   "metadata": {
    "scrolled": false
   },
   "outputs": [
    {
     "data": {
      "text/markdown": [
       "### LBLNEW-OVERLAP"
      ],
      "text/plain": [
       "<IPython.core.display.Markdown object>"
      ]
     },
     "metadata": {},
     "output_type": "display_data"
    },
    {
     "data": {
      "text/markdown": [
       "### Table of Contents"
      ],
      "text/plain": [
       "<IPython.core.display.Markdown object>"
      ]
     },
     "metadata": {},
     "output_type": "display_data"
    },
    {
     "data": {
      "text/html": [
       "<a href=\"#Input_Parameters\">Input Parameters</a>"
      ],
      "text/plain": [
       "<IPython.core.display.HTML object>"
      ]
     },
     "metadata": {},
     "output_type": "display_data"
    },
    {
     "data": {
      "text/html": [
       "<a href=\"#Cooling_Rate_Profiles\">Cooling Rate Profiles</a>"
      ],
      "text/plain": [
       "<IPython.core.display.HTML object>"
      ]
     },
     "metadata": {},
     "output_type": "display_data"
    },
    {
     "data": {
      "text/html": [
       "<a href=\"#Flux_Comparison\">Flux Comparison</a>"
      ],
      "text/plain": [
       "<IPython.core.display.HTML object>"
      ]
     },
     "metadata": {},
     "output_type": "display_data"
    },
    {
     "data": {
      "text/html": [
       "<a href=\"#Best-fit_Parameters\">Best-fit Parameters</a>"
      ],
      "text/plain": [
       "<IPython.core.display.HTML object>"
      ]
     },
     "metadata": {},
     "output_type": "display_data"
    },
    {
     "data": {
      "text/html": [
       "<a id=\"Input_Parameters\"></a>"
      ],
      "text/plain": [
       "<IPython.core.display.HTML object>"
      ]
     },
     "metadata": {},
     "output_type": "display_data"
    },
    {
     "data": {
      "text/markdown": [
       "# Input Parameters"
      ],
      "text/plain": [
       "<IPython.core.display.Markdown object>"
      ]
     },
     "metadata": {},
     "output_type": "display_data"
    },
    {
     "name": "stdout",
     "output_type": "stream",
     "text": [
      "commitnumber = a22ab94\n",
      "molecule = {'h2o': 'atmpro', 'co2': 0.0008}\n",
      "band = 3b\n",
      "nv = 1000\n",
      "dv = 0.001\n",
      "atmpro = trp\n",
      "tsfc = 300\n"
     ]
    },
    {
     "data": {
      "text/html": [
       "<a id=\"Cooling_Rate_Profiles\"></a>"
      ],
      "text/plain": [
       "<IPython.core.display.HTML object>"
      ]
     },
     "metadata": {},
     "output_type": "display_data"
    },
    {
     "data": {
      "text/markdown": [
       "# Cooling Rate Profiles"
      ],
      "text/plain": [
       "<IPython.core.display.Markdown object>"
      ]
     },
     "metadata": {},
     "output_type": "display_data"
    },
    {
     "data": {
      "image/png": "[encoded data removed]",
      "text/plain": [
       "<matplotlib.figure.Figure at 0x2ad338730e48>"
      ]
     },
     "metadata": {},
     "output_type": "display_data"
    },
    {
     "name": "stdout",
     "output_type": "stream",
     "text": [
      "FIGURE. Cooling rate profiles.\n"
     ]
    },
    {
     "data": {
      "text/html": [
       "<a id=\"Flux_Comparison\"></a>"
      ],
      "text/plain": [
       "<IPython.core.display.HTML object>"
      ]
     },
     "metadata": {},
     "output_type": "display_data"
    },
    {
     "data": {
      "text/markdown": [
       "# Flux Comparison"
      ],
      "text/plain": [
       "<IPython.core.display.Markdown object>"
      ]
     },
     "metadata": {},
     "output_type": "display_data"
    },
    {
     "data": {
      "text/html": [
       "<div>\n",
       "<style scoped>\n",
       "    .dataframe tbody tr th:only-of-type {\n",
       "        vertical-align: middle;\n",
       "    }\n",
       "\n",
       "    .dataframe tbody tr th {\n",
       "        vertical-align: top;\n",
       "    }\n",
       "\n",
       "    .dataframe thead th {\n",
       "        text-align: right;\n",
       "    }\n",
       "</style>\n",
       "<table border=\"1\" class=\"dataframe\">\n",
       "  <thead>\n",
       "    <tr style=\"text-align: right;\">\n",
       "      <th></th>\n",
       "      <th></th>\n",
       "      <th>flug</th>\n",
       "      <th>fldg</th>\n",
       "      <th>fnetg</th>\n",
       "    </tr>\n",
       "    <tr>\n",
       "      <th>pressure</th>\n",
       "      <th>level</th>\n",
       "      <th></th>\n",
       "      <th></th>\n",
       "      <th></th>\n",
       "    </tr>\n",
       "  </thead>\n",
       "  <tbody>\n",
       "    <tr>\n",
       "      <th>0.0000</th>\n",
       "      <th>1</th>\n",
       "      <td>-16.227359</td>\n",
       "      <td>0.000000</td>\n",
       "      <td>-16.227359</td>\n",
       "    </tr>\n",
       "    <tr>\n",
       "      <th>1.0685</th>\n",
       "      <th>24</th>\n",
       "      <td>-16.360831</td>\n",
       "      <td>1.154499</td>\n",
       "      <td>-15.206332</td>\n",
       "    </tr>\n",
       "    <tr>\n",
       "      <th>1013.0000</th>\n",
       "      <th>76</th>\n",
       "      <td>-47.067549</td>\n",
       "      <td>46.693212</td>\n",
       "      <td>-0.374337</td>\n",
       "    </tr>\n",
       "  </tbody>\n",
       "</table>\n",
       "</div>"
      ],
      "text/plain": [
       "                      flug       fldg      fnetg\n",
       "pressure  level                                 \n",
       "0.0000    1     -16.227359   0.000000 -16.227359\n",
       "1.0685    24    -16.360831   1.154499 -15.206332\n",
       "1013.0000 76    -47.067549  46.693212  -0.374337"
      ]
     },
     "metadata": {},
     "output_type": "display_data"
    },
    {
     "name": "stdout",
     "output_type": "stream",
     "text": [
      "Table. Fluxes. CRD\n"
     ]
    },
    {
     "data": {
      "text/html": [
       "<div>\n",
       "<style scoped>\n",
       "    .dataframe tbody tr th:only-of-type {\n",
       "        vertical-align: middle;\n",
       "    }\n",
       "\n",
       "    .dataframe tbody tr th {\n",
       "        vertical-align: top;\n",
       "    }\n",
       "\n",
       "    .dataframe thead th {\n",
       "        text-align: right;\n",
       "    }\n",
       "</style>\n",
       "<table border=\"1\" class=\"dataframe\">\n",
       "  <thead>\n",
       "    <tr style=\"text-align: right;\">\n",
       "      <th></th>\n",
       "      <th></th>\n",
       "      <th>flug</th>\n",
       "      <th>fldg</th>\n",
       "      <th>fnetg</th>\n",
       "    </tr>\n",
       "    <tr>\n",
       "      <th>pressure</th>\n",
       "      <th>level</th>\n",
       "      <th></th>\n",
       "      <th></th>\n",
       "      <th></th>\n",
       "    </tr>\n",
       "  </thead>\n",
       "  <tbody>\n",
       "    <tr>\n",
       "      <th>0.0000</th>\n",
       "      <th>1</th>\n",
       "      <td>-16.072794</td>\n",
       "      <td>0.000000</td>\n",
       "      <td>-16.072794</td>\n",
       "    </tr>\n",
       "    <tr>\n",
       "      <th>1.0685</th>\n",
       "      <th>24</th>\n",
       "      <td>-16.215884</td>\n",
       "      <td>1.163338</td>\n",
       "      <td>-15.052546</td>\n",
       "    </tr>\n",
       "    <tr>\n",
       "      <th>1013.0000</th>\n",
       "      <th>76</th>\n",
       "      <td>-47.067549</td>\n",
       "      <td>46.717333</td>\n",
       "      <td>-0.350216</td>\n",
       "    </tr>\n",
       "  </tbody>\n",
       "</table>\n",
       "</div>"
      ],
      "text/plain": [
       "                      flug       fldg      fnetg\n",
       "pressure  level                                 \n",
       "0.0000    1     -16.072794   0.000000 -16.072794\n",
       "1.0685    24    -16.215884   1.163338 -15.052546\n",
       "1013.0000 76    -47.067549  46.717333  -0.350216"
      ]
     },
     "metadata": {},
     "output_type": "display_data"
    },
    {
     "name": "stdout",
     "output_type": "stream",
     "text": [
      "Table. Fluxes. WGT igg=10\n"
     ]
    },
    {
     "data": {
      "text/html": [
       "<div>\n",
       "<style scoped>\n",
       "    .dataframe tbody tr th:only-of-type {\n",
       "        vertical-align: middle;\n",
       "    }\n",
       "\n",
       "    .dataframe tbody tr th {\n",
       "        vertical-align: top;\n",
       "    }\n",
       "\n",
       "    .dataframe thead th {\n",
       "        text-align: right;\n",
       "    }\n",
       "</style>\n",
       "<table border=\"1\" class=\"dataframe\">\n",
       "  <thead>\n",
       "    <tr style=\"text-align: right;\">\n",
       "      <th></th>\n",
       "      <th></th>\n",
       "      <th>flug</th>\n",
       "      <th>fldg</th>\n",
       "      <th>fnetg</th>\n",
       "    </tr>\n",
       "    <tr>\n",
       "      <th>pressure</th>\n",
       "      <th>level</th>\n",
       "      <th></th>\n",
       "      <th></th>\n",
       "      <th></th>\n",
       "    </tr>\n",
       "  </thead>\n",
       "  <tbody>\n",
       "    <tr>\n",
       "      <th>0.0000</th>\n",
       "      <th>1</th>\n",
       "      <td>-16.139245</td>\n",
       "      <td>0.000000</td>\n",
       "      <td>-16.139245</td>\n",
       "    </tr>\n",
       "    <tr>\n",
       "      <th>1.0685</th>\n",
       "      <th>24</th>\n",
       "      <td>-16.286229</td>\n",
       "      <td>1.189634</td>\n",
       "      <td>-15.096596</td>\n",
       "    </tr>\n",
       "    <tr>\n",
       "      <th>1013.0000</th>\n",
       "      <th>76</th>\n",
       "      <td>-47.067549</td>\n",
       "      <td>46.712415</td>\n",
       "      <td>-0.355134</td>\n",
       "    </tr>\n",
       "  </tbody>\n",
       "</table>\n",
       "</div>"
      ],
      "text/plain": [
       "                      flug       fldg      fnetg\n",
       "pressure  level                                 \n",
       "0.0000    1     -16.139245   0.000000 -16.139245\n",
       "1.0685    24    -16.286229   1.189634 -15.096596\n",
       "1013.0000 76    -47.067549  46.712415  -0.355134"
      ]
     },
     "metadata": {},
     "output_type": "display_data"
    },
    {
     "name": "stdout",
     "output_type": "stream",
     "text": [
      "Table. Fluxes. WGT igg=1\n"
     ]
    },
    {
     "data": {
      "text/html": [
       "<div>\n",
       "<style scoped>\n",
       "    .dataframe tbody tr th:only-of-type {\n",
       "        vertical-align: middle;\n",
       "    }\n",
       "\n",
       "    .dataframe tbody tr th {\n",
       "        vertical-align: top;\n",
       "    }\n",
       "\n",
       "    .dataframe thead th {\n",
       "        text-align: right;\n",
       "    }\n",
       "</style>\n",
       "<table border=\"1\" class=\"dataframe\">\n",
       "  <thead>\n",
       "    <tr style=\"text-align: right;\">\n",
       "      <th></th>\n",
       "      <th></th>\n",
       "      <th>flug</th>\n",
       "      <th>fldg</th>\n",
       "      <th>fnetg</th>\n",
       "    </tr>\n",
       "    <tr>\n",
       "      <th>pressure</th>\n",
       "      <th>level</th>\n",
       "      <th></th>\n",
       "      <th></th>\n",
       "      <th></th>\n",
       "    </tr>\n",
       "  </thead>\n",
       "  <tbody>\n",
       "    <tr>\n",
       "      <th>0.0000</th>\n",
       "      <th>1</th>\n",
       "      <td>0.154565</td>\n",
       "      <td>0.000000</td>\n",
       "      <td>0.154565</td>\n",
       "    </tr>\n",
       "    <tr>\n",
       "      <th>1.0685</th>\n",
       "      <th>24</th>\n",
       "      <td>0.144947</td>\n",
       "      <td>0.008839</td>\n",
       "      <td>0.153786</td>\n",
       "    </tr>\n",
       "    <tr>\n",
       "      <th>1013.0000</th>\n",
       "      <th>76</th>\n",
       "      <td>0.000000</td>\n",
       "      <td>0.024121</td>\n",
       "      <td>0.024121</td>\n",
       "    </tr>\n",
       "  </tbody>\n",
       "</table>\n",
       "</div>"
      ],
      "text/plain": [
       "                     flug      fldg     fnetg\n",
       "pressure  level                              \n",
       "0.0000    1      0.154565  0.000000  0.154565\n",
       "1.0685    24     0.144947  0.008839  0.153786\n",
       "1013.0000 76     0.000000  0.024121  0.024121"
      ]
     },
     "metadata": {},
     "output_type": "display_data"
    },
    {
     "name": "stdout",
     "output_type": "stream",
     "text": [
      "Table. Fluxes. (WGT igg=10) - (CRD)\n"
     ]
    },
    {
     "data": {
      "text/html": [
       "<div>\n",
       "<style scoped>\n",
       "    .dataframe tbody tr th:only-of-type {\n",
       "        vertical-align: middle;\n",
       "    }\n",
       "\n",
       "    .dataframe tbody tr th {\n",
       "        vertical-align: top;\n",
       "    }\n",
       "\n",
       "    .dataframe thead th {\n",
       "        text-align: right;\n",
       "    }\n",
       "</style>\n",
       "<table border=\"1\" class=\"dataframe\">\n",
       "  <thead>\n",
       "    <tr style=\"text-align: right;\">\n",
       "      <th></th>\n",
       "      <th></th>\n",
       "      <th>flug</th>\n",
       "      <th>fldg</th>\n",
       "      <th>fnetg</th>\n",
       "    </tr>\n",
       "    <tr>\n",
       "      <th>pressure</th>\n",
       "      <th>level</th>\n",
       "      <th></th>\n",
       "      <th></th>\n",
       "      <th></th>\n",
       "    </tr>\n",
       "  </thead>\n",
       "  <tbody>\n",
       "    <tr>\n",
       "      <th>0.0000</th>\n",
       "      <th>1</th>\n",
       "      <td>0.088114</td>\n",
       "      <td>0.000000</td>\n",
       "      <td>0.088114</td>\n",
       "    </tr>\n",
       "    <tr>\n",
       "      <th>1.0685</th>\n",
       "      <th>24</th>\n",
       "      <td>0.074602</td>\n",
       "      <td>0.035135</td>\n",
       "      <td>0.109736</td>\n",
       "    </tr>\n",
       "    <tr>\n",
       "      <th>1013.0000</th>\n",
       "      <th>76</th>\n",
       "      <td>0.000000</td>\n",
       "      <td>0.019203</td>\n",
       "      <td>0.019203</td>\n",
       "    </tr>\n",
       "  </tbody>\n",
       "</table>\n",
       "</div>"
      ],
      "text/plain": [
       "                     flug      fldg     fnetg\n",
       "pressure  level                              \n",
       "0.0000    1      0.088114  0.000000  0.088114\n",
       "1.0685    24     0.074602  0.035135  0.109736\n",
       "1013.0000 76     0.000000  0.019203  0.019203"
      ]
     },
     "metadata": {},
     "output_type": "display_data"
    },
    {
     "name": "stdout",
     "output_type": "stream",
     "text": [
      "Table. Fluxes. (WGT igg=1) - (CRD)\n"
     ]
    },
    {
     "data": {
      "text/html": [
       "<a id=\"Best-fit_Parameters\"></a>"
      ],
      "text/plain": [
       "<IPython.core.display.HTML object>"
      ]
     },
     "metadata": {},
     "output_type": "display_data"
    },
    {
     "data": {
      "text/markdown": [
       "# Best-fit Parameters"
      ],
      "text/plain": [
       "<IPython.core.display.Markdown object>"
      ]
     },
     "metadata": {},
     "output_type": "display_data"
    },
    {
     "name": "stdout",
     "output_type": "stream",
     "text": [
      "Best-fit values for each (gas, band)\n",
      "------------------------------------\n",
      "o h2o band3b\n",
      "  molecule = h2o\n",
      "  band = 3b\n",
      "  commitnumber = a06b618\n",
      "  vmin = 620\n",
      "  vmax = 720\n",
      "  dv = 0.001\n",
      "  nv = 1000\n",
      "  ref_pts = [(600, 250)]\n",
      "  ng_refs = [6]\n",
      "  ng_adju = [0]\n",
      "  klin = 1e-24\n",
      "  option_wgt_k = 1\n",
      "  wgt = [(0.8, 0.8, 0.8, 0.6, 0.6, 0.9)]\n",
      "  w_diffuse = [(1.66, 1.66, 1.66, 1.55, 1.5, 1.66)]\n",
      "  option_wgt_flux = 1\n",
      "  atmpro = trp\n",
      "  tsfc = 294\n",
      "  conc = None\n",
      "  option_compute_btable = 0\n",
      "  option_compute_ktable = 1\n",
      "o co2 band3b\n",
      "  molecule = co2\n",
      "  band = 3b\n",
      "  commitnumber = a06b618\n",
      "  vmin = 620\n",
      "  vmax = 720\n",
      "  dv = 0.001\n",
      "  nv = 1000\n",
      "  ref_pts = [(1, 250), (10, 250)]\n",
      "  ng_refs = [5, 2]\n",
      "  ng_adju = [0, 0]\n",
      "  klin = 0\n",
      "  option_wgt_k = 1\n",
      "  wgt = [(0, 0.6, 0.5, 0.7, 0.8), (0.8, 0.7)]\n",
      "  w_diffuse = [(1.66, 1.66, 1.66, 1.66, 1.66), (1.66, 1.66)]\n",
      "  option_wgt_flux = 1\n",
      "  atmpro = mls\n",
      "  tsfc = 294\n",
      "  conc = 0.0004\n",
      "  option_compute_btable = 0\n",
      "  option_compute_ktable = 1\n"
     ]
    }
   ],
   "source": [
    "script()"
   ]
  },
  {
   "cell_type": "code",
   "execution_count": 11,
   "metadata": {},
   "outputs": [
    {
     "data": {
      "text/html": [
       "<script>\n",
       "code_show=true; \n",
       "function code_toggle() {\n",
       " if (code_show){\n",
       " $('div.input').hide();\n",
       " } else {\n",
       " $('div.input').show();\n",
       " }\n",
       " code_show = !code_show\n",
       "} \n",
       "$( document ).ready(code_toggle);\n",
       "</script>\n",
       "<form action=\"javascript:code_toggle()\"><input type=\"submit\" value=\"Click here to toggle on/off the raw code.\"></form>"
      ],
      "text/plain": [
       "<IPython.core.display.HTML object>"
      ]
     },
     "execution_count": 11,
     "metadata": {},
     "output_type": "execute_result"
    }
   ],
   "source": [
    "display.HTML('''<script>\n",
    "code_show=true; \n",
    "function code_toggle() {\n",
    " if (code_show){\n",
    " $('div.input').hide();\n",
    " } else {\n",
    " $('div.input').show();\n",
    " }\n",
    " code_show = !code_show\n",
    "} \n",
    "$( document ).ready(code_toggle);\n",
    "</script>\n",
    "<form action=\"javascript:code_toggle()\"><input type=\"submit\" value=\"Click here to toggle on/off the raw code.\"></form>''')"
   ]
  },
  {
   "cell_type": "code",
   "execution_count": 12,
   "metadata": {
    "collapsed": true
   },
   "outputs": [],
   "source": []
  }
 ],
 "metadata": {
  "kernelspec": {
   "display_name": "Python 3",
   "language": "python",
   "name": "python3"
  },
  "language_info": {
   "codemirror_mode": {
    "name": "ipython",
    "version": 3
   },
   "file_extension": ".py",
   "mimetype": "text/x-python",
   "name": "python",
   "nbconvert_exporter": "python",
   "pygments_lexer": "ipython3",
   "version": "3.6.1"
  }
 },
 "nbformat": 4,
 "nbformat_minor": 2
}
