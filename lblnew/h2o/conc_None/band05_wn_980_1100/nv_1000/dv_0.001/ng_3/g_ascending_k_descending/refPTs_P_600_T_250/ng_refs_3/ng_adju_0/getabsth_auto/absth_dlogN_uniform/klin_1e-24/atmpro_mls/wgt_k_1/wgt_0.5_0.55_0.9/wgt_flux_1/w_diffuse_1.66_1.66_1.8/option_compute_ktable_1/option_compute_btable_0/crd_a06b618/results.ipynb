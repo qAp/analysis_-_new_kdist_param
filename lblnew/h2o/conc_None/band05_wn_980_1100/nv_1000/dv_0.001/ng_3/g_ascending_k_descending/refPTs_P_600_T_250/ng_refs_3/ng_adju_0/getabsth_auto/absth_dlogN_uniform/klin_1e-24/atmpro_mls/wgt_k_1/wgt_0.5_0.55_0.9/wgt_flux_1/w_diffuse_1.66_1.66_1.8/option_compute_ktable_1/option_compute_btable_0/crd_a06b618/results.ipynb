{
 "cells": [
  {
   "cell_type": "code",
   "execution_count": 1,
   "metadata": {
    "collapsed": true
   },
   "outputs": [],
   "source": [
    "%reload_ext autoreload\n",
    "%autoreload 2\n",
    "%matplotlib inline"
   ]
  },
  {
   "cell_type": "code",
   "execution_count": 2,
   "metadata": {
    "collapsed": true
   },
   "outputs": [],
   "source": [
    "import io\n",
    "\n",
    "import numpy as np\n",
    "import pymongo\n",
    "\n",
    "from bokeh.io import output_notebook, show\n",
    "from bokeh.palettes import all_palettes\n",
    "from bokeh.layouts import gridplot\n",
    "\n",
    "from IPython import display\n",
    "\n",
    "from climatools.cliradlw.dataset import load_output_file\n",
    "import climatools.html.html as climahtml\n",
    "from climatools.plot.plot import *"
   ]
  },
  {
   "cell_type": "code",
   "execution_count": 3,
   "metadata": {},
   "outputs": [
    {
     "name": "stdout",
     "output_type": "stream",
     "text": [
      "The history saving thread hit an unexpected error (OperationalError('database is locked',)).History will not be written to the database.\n"
     ]
    },
    {
     "data": {
      "text/html": [
       "\n",
       "    <div class=\"bk-root\">\n",
       "        <a href=\"https://bokeh.pydata.org\" target=\"_blank\" class=\"bk-logo bk-logo-small bk-logo-notebook\"></a>\n",
       "        <span id=\"6fb3ee7e-0e72-461a-880c-afc19660b202\">Loading BokehJS ...</span>\n",
       "    </div>"
      ]
     },
     "metadata": {},
     "output_type": "display_data"
    },
    {
     "data": {
      "application/javascript": [
       "\n",
       "(function(root) {\n",
       "  function now() {\n",
       "    return new Date();\n",
       "  }\n",
       "\n",
       "  var force = true;\n",
       "\n",
       "  if (typeof (root._bokeh_onload_callbacks) === \"undefined\" || force === true) {\n",
       "    root._bokeh_onload_callbacks = [];\n",
       "    root._bokeh_is_loading = undefined;\n",
       "  }\n",
       "\n",
       "  var JS_MIME_TYPE = 'application/javascript';\n",
       "  var HTML_MIME_TYPE = 'text/html';\n",
       "  var EXEC_MIME_TYPE = 'application/vnd.bokehjs_exec.v0+json';\n",
       "  var CLASS_NAME = 'output_bokeh rendered_html';\n",
       "\n",
       "  /**\n",
       "   * Render data to the DOM node\n",
       "   */\n",
       "  function render(props, node) {\n",
       "    var script = document.createElement(\"script\");\n",
       "    node.appendChild(script);\n",
       "  }\n",
       "\n",
       "  /**\n",
       "   * Handle when an output is cleared or removed\n",
       "   */\n",
       "  function handleClearOutput(event, handle) {\n",
       "    var cell = handle.cell;\n",
       "\n",
       "    var id = cell.output_area._bokeh_element_id;\n",
       "    var server_id = cell.output_area._bokeh_server_id;\n",
       "    // Clean up Bokeh references\n",
       "    if (id !== undefined) {\n",
       "      Bokeh.index[id].model.document.clear();\n",
       "      delete Bokeh.index[id];\n",
       "    }\n",
       "\n",
       "    if (server_id !== undefined) {\n",
       "      // Clean up Bokeh references\n",
       "      var cmd = \"from bokeh.io.state import curstate; print(curstate().uuid_to_server['\" + server_id + \"'].get_sessions()[0].document.roots[0]._id)\";\n",
       "      cell.notebook.kernel.execute(cmd, {\n",
       "        iopub: {\n",
       "          output: function(msg) {\n",
       "            var element_id = msg.content.text.trim();\n",
       "            Bokeh.index[element_id].model.document.clear();\n",
       "            delete Bokeh.index[element_id];\n",
       "          }\n",
       "        }\n",
       "      });\n",
       "      // Destroy server and session\n",
       "      var cmd = \"import bokeh.io.notebook as ion; ion.destroy_server('\" + server_id + \"')\";\n",
       "      cell.notebook.kernel.execute(cmd);\n",
       "    }\n",
       "  }\n",
       "\n",
       "  /**\n",
       "   * Handle when a new output is added\n",
       "   */\n",
       "  function handleAddOutput(event, handle) {\n",
       "    var output_area = handle.output_area;\n",
       "    var output = handle.output;\n",
       "\n",
       "    // limit handleAddOutput to display_data with EXEC_MIME_TYPE content only\n",
       "    if ((output.output_type != \"display_data\") || (!output.data.hasOwnProperty(EXEC_MIME_TYPE))) {\n",
       "      return\n",
       "    }\n",
       "\n",
       "    var toinsert = output_area.element.find(\".\" + CLASS_NAME.split(' ')[0]);\n",
       "\n",
       "    if (output.metadata[EXEC_MIME_TYPE][\"id\"] !== undefined) {\n",
       "      toinsert[toinsert.length - 1].firstChild.textContent = output.data[JS_MIME_TYPE];\n",
       "      // store reference to embed id on output_area\n",
       "      output_area._bokeh_element_id = output.metadata[EXEC_MIME_TYPE][\"id\"];\n",
       "    }\n",
       "    if (output.metadata[EXEC_MIME_TYPE][\"server_id\"] !== undefined) {\n",
       "      var bk_div = document.createElement(\"div\");\n",
       "      bk_div.innerHTML = output.data[HTML_MIME_TYPE];\n",
       "      var script_attrs = bk_div.children[0].attributes;\n",
       "      for (var i = 0; i < script_attrs.length; i++) {\n",
       "        toinsert[toinsert.length - 1].firstChild.setAttribute(script_attrs[i].name, script_attrs[i].value);\n",
       "      }\n",
       "      // store reference to server id on output_area\n",
       "      output_area._bokeh_server_id = output.metadata[EXEC_MIME_TYPE][\"server_id\"];\n",
       "    }\n",
       "  }\n",
       "\n",
       "  function register_renderer(events, OutputArea) {\n",
       "\n",
       "    function append_mime(data, metadata, element) {\n",
       "      // create a DOM node to render to\n",
       "      var toinsert = this.create_output_subarea(\n",
       "        metadata,\n",
       "        CLASS_NAME,\n",
       "        EXEC_MIME_TYPE\n",
       "      );\n",
       "      this.keyboard_manager.register_events(toinsert);\n",
       "      // Render to node\n",
       "      var props = {data: data, metadata: metadata[EXEC_MIME_TYPE]};\n",
       "      render(props, toinsert[toinsert.length - 1]);\n",
       "      element.append(toinsert);\n",
       "      return toinsert\n",
       "    }\n",
       "\n",
       "    /* Handle when an output is cleared or removed */\n",
       "    events.on('clear_output.CodeCell', handleClearOutput);\n",
       "    events.on('delete.Cell', handleClearOutput);\n",
       "\n",
       "    /* Handle when a new output is added */\n",
       "    events.on('output_added.OutputArea', handleAddOutput);\n",
       "\n",
       "    /**\n",
       "     * Register the mime type and append_mime function with output_area\n",
       "     */\n",
       "    OutputArea.prototype.register_mime_type(EXEC_MIME_TYPE, append_mime, {\n",
       "      /* Is output safe? */\n",
       "      safe: true,\n",
       "      /* Index of renderer in `output_area.display_order` */\n",
       "      index: 0\n",
       "    });\n",
       "  }\n",
       "\n",
       "  // register the mime type if in Jupyter Notebook environment and previously unregistered\n",
       "  if (root.Jupyter !== undefined) {\n",
       "    var events = require('base/js/events');\n",
       "    var OutputArea = require('notebook/js/outputarea').OutputArea;\n",
       "\n",
       "    if (OutputArea.prototype.mime_types().indexOf(EXEC_MIME_TYPE) == -1) {\n",
       "      register_renderer(events, OutputArea);\n",
       "    }\n",
       "  }\n",
       "\n",
       "  \n",
       "  if (typeof (root._bokeh_timeout) === \"undefined\" || force === true) {\n",
       "    root._bokeh_timeout = Date.now() + 5000;\n",
       "    root._bokeh_failed_load = false;\n",
       "  }\n",
       "\n",
       "  var NB_LOAD_WARNING = {'data': {'text/html':\n",
       "     \"<div style='background-color: #fdd'>\\n\"+\n",
       "     \"<p>\\n\"+\n",
       "     \"BokehJS does not appear to have successfully loaded. If loading BokehJS from CDN, this \\n\"+\n",
       "     \"may be due to a slow or bad network connection. Possible fixes:\\n\"+\n",
       "     \"</p>\\n\"+\n",
       "     \"<ul>\\n\"+\n",
       "     \"<li>re-rerun `output_notebook()` to attempt to load from CDN again, or</li>\\n\"+\n",
       "     \"<li>use INLINE resources instead, as so:</li>\\n\"+\n",
       "     \"</ul>\\n\"+\n",
       "     \"<code>\\n\"+\n",
       "     \"from bokeh.resources import INLINE\\n\"+\n",
       "     \"output_notebook(resources=INLINE)\\n\"+\n",
       "     \"</code>\\n\"+\n",
       "     \"</div>\"}};\n",
       "\n",
       "  function display_loaded() {\n",
       "    var el = document.getElementById(\"6fb3ee7e-0e72-461a-880c-afc19660b202\");\n",
       "    if (el != null) {\n",
       "      el.textContent = \"BokehJS is loading...\";\n",
       "    }\n",
       "    if (root.Bokeh !== undefined) {\n",
       "      if (el != null) {\n",
       "        el.textContent = \"BokehJS \" + root.Bokeh.version + \" successfully loaded.\";\n",
       "      }\n",
       "    } else if (Date.now() < root._bokeh_timeout) {\n",
       "      setTimeout(display_loaded, 100)\n",
       "    }\n",
       "  }\n",
       "\n",
       "\n",
       "  function run_callbacks() {\n",
       "    try {\n",
       "      root._bokeh_onload_callbacks.forEach(function(callback) { callback() });\n",
       "    }\n",
       "    finally {\n",
       "      delete root._bokeh_onload_callbacks\n",
       "    }\n",
       "    console.info(\"Bokeh: all callbacks have finished\");\n",
       "  }\n",
       "\n",
       "  function load_libs(js_urls, callback) {\n",
       "    root._bokeh_onload_callbacks.push(callback);\n",
       "    if (root._bokeh_is_loading > 0) {\n",
       "      console.log(\"Bokeh: BokehJS is being loaded, scheduling callback at\", now());\n",
       "      return null;\n",
       "    }\n",
       "    if (js_urls == null || js_urls.length === 0) {\n",
       "      run_callbacks();\n",
       "      return null;\n",
       "    }\n",
       "    console.log(\"Bokeh: BokehJS not loaded, scheduling load and callback at\", now());\n",
       "    root._bokeh_is_loading = js_urls.length;\n",
       "    for (var i = 0; i < js_urls.length; i++) {\n",
       "      var url = js_urls[i];\n",
       "      var s = document.createElement('script');\n",
       "      s.src = url;\n",
       "      s.async = false;\n",
       "      s.onreadystatechange = s.onload = function() {\n",
       "        root._bokeh_is_loading--;\n",
       "        if (root._bokeh_is_loading === 0) {\n",
       "          console.log(\"Bokeh: all BokehJS libraries loaded\");\n",
       "          run_callbacks()\n",
       "        }\n",
       "      };\n",
       "      s.onerror = function() {\n",
       "        console.warn(\"failed to load library \" + url);\n",
       "      };\n",
       "      console.log(\"Bokeh: injecting script tag for BokehJS library: \", url);\n",
       "      document.getElementsByTagName(\"head\")[0].appendChild(s);\n",
       "    }\n",
       "  };var element = document.getElementById(\"6fb3ee7e-0e72-461a-880c-afc19660b202\");\n",
       "  if (element == null) {\n",
       "    console.log(\"Bokeh: ERROR: autoload.js configured with elementid '6fb3ee7e-0e72-461a-880c-afc19660b202' but no matching script tag was found. \")\n",
       "    return false;\n",
       "  }\n",
       "\n",
       "  var js_urls = [\"https://cdn.pydata.org/bokeh/release/bokeh-0.12.16.min.js\", \"https://cdn.pydata.org/bokeh/release/bokeh-widgets-0.12.16.min.js\", \"https://cdn.pydata.org/bokeh/release/bokeh-tables-0.12.16.min.js\", \"https://cdn.pydata.org/bokeh/release/bokeh-gl-0.12.16.min.js\"];\n",
       "\n",
       "  var inline_js = [\n",
       "    function(Bokeh) {\n",
       "      Bokeh.set_log_level(\"info\");\n",
       "    },\n",
       "    \n",
       "    function(Bokeh) {\n",
       "      \n",
       "    },\n",
       "    function(Bokeh) {\n",
       "      console.log(\"Bokeh: injecting CSS: https://cdn.pydata.org/bokeh/release/bokeh-0.12.16.min.css\");\n",
       "      Bokeh.embed.inject_css(\"https://cdn.pydata.org/bokeh/release/bokeh-0.12.16.min.css\");\n",
       "      console.log(\"Bokeh: injecting CSS: https://cdn.pydata.org/bokeh/release/bokeh-widgets-0.12.16.min.css\");\n",
       "      Bokeh.embed.inject_css(\"https://cdn.pydata.org/bokeh/release/bokeh-widgets-0.12.16.min.css\");\n",
       "      console.log(\"Bokeh: injecting CSS: https://cdn.pydata.org/bokeh/release/bokeh-tables-0.12.16.min.css\");\n",
       "      Bokeh.embed.inject_css(\"https://cdn.pydata.org/bokeh/release/bokeh-tables-0.12.16.min.css\");\n",
       "    }\n",
       "  ];\n",
       "\n",
       "  function run_inline_js() {\n",
       "    \n",
       "    if ((root.Bokeh !== undefined) || (force === true)) {\n",
       "      for (var i = 0; i < inline_js.length; i++) {\n",
       "        inline_js[i].call(root, root.Bokeh);\n",
       "      }if (force === true) {\n",
       "        display_loaded();\n",
       "      }} else if (Date.now() < root._bokeh_timeout) {\n",
       "      setTimeout(run_inline_js, 100);\n",
       "    } else if (!root._bokeh_failed_load) {\n",
       "      console.log(\"Bokeh: BokehJS failed to load within specified timeout.\");\n",
       "      root._bokeh_failed_load = true;\n",
       "    } else if (force !== true) {\n",
       "      var cell = $(document.getElementById(\"6fb3ee7e-0e72-461a-880c-afc19660b202\")).parents('.cell').data().cell;\n",
       "      cell.output_area.append_execute_result(NB_LOAD_WARNING)\n",
       "    }\n",
       "\n",
       "  }\n",
       "\n",
       "  if (root._bokeh_is_loading === 0) {\n",
       "    console.log(\"Bokeh: BokehJS loaded, going straight to plotting\");\n",
       "    run_inline_js();\n",
       "  } else {\n",
       "    load_libs(js_urls, function() {\n",
       "      console.log(\"Bokeh: BokehJS plotting callback run at\", now());\n",
       "      run_inline_js();\n",
       "    });\n",
       "  }\n",
       "}(window));"
      ],
      "application/vnd.bokehjs_load.v0+json": "\n(function(root) {\n  function now() {\n    return new Date();\n  }\n\n  var force = true;\n\n  if (typeof (root._bokeh_onload_callbacks) === \"undefined\" || force === true) {\n    root._bokeh_onload_callbacks = [];\n    root._bokeh_is_loading = undefined;\n  }\n\n  \n\n  \n  if (typeof (root._bokeh_timeout) === \"undefined\" || force === true) {\n    root._bokeh_timeout = Date.now() + 5000;\n    root._bokeh_failed_load = false;\n  }\n\n  var NB_LOAD_WARNING = {'data': {'text/html':\n     \"<div style='background-color: #fdd'>\\n\"+\n     \"<p>\\n\"+\n     \"BokehJS does not appear to have successfully loaded. If loading BokehJS from CDN, this \\n\"+\n     \"may be due to a slow or bad network connection. Possible fixes:\\n\"+\n     \"</p>\\n\"+\n     \"<ul>\\n\"+\n     \"<li>re-rerun `output_notebook()` to attempt to load from CDN again, or</li>\\n\"+\n     \"<li>use INLINE resources instead, as so:</li>\\n\"+\n     \"</ul>\\n\"+\n     \"<code>\\n\"+\n     \"from bokeh.resources import INLINE\\n\"+\n     \"output_notebook(resources=INLINE)\\n\"+\n     \"</code>\\n\"+\n     \"</div>\"}};\n\n  function display_loaded() {\n    var el = document.getElementById(\"6fb3ee7e-0e72-461a-880c-afc19660b202\");\n    if (el != null) {\n      el.textContent = \"BokehJS is loading...\";\n    }\n    if (root.Bokeh !== undefined) {\n      if (el != null) {\n        el.textContent = \"BokehJS \" + root.Bokeh.version + \" successfully loaded.\";\n      }\n    } else if (Date.now() < root._bokeh_timeout) {\n      setTimeout(display_loaded, 100)\n    }\n  }\n\n\n  function run_callbacks() {\n    try {\n      root._bokeh_onload_callbacks.forEach(function(callback) { callback() });\n    }\n    finally {\n      delete root._bokeh_onload_callbacks\n    }\n    console.info(\"Bokeh: all callbacks have finished\");\n  }\n\n  function load_libs(js_urls, callback) {\n    root._bokeh_onload_callbacks.push(callback);\n    if (root._bokeh_is_loading > 0) {\n      console.log(\"Bokeh: BokehJS is being loaded, scheduling callback at\", now());\n      return null;\n    }\n    if (js_urls == null || js_urls.length === 0) {\n      run_callbacks();\n      return null;\n    }\n    console.log(\"Bokeh: BokehJS not loaded, scheduling load and callback at\", now());\n    root._bokeh_is_loading = js_urls.length;\n    for (var i = 0; i < js_urls.length; i++) {\n      var url = js_urls[i];\n      var s = document.createElement('script');\n      s.src = url;\n      s.async = false;\n      s.onreadystatechange = s.onload = function() {\n        root._bokeh_is_loading--;\n        if (root._bokeh_is_loading === 0) {\n          console.log(\"Bokeh: all BokehJS libraries loaded\");\n          run_callbacks()\n        }\n      };\n      s.onerror = function() {\n        console.warn(\"failed to load library \" + url);\n      };\n      console.log(\"Bokeh: injecting script tag for BokehJS library: \", url);\n      document.getElementsByTagName(\"head\")[0].appendChild(s);\n    }\n  };var element = document.getElementById(\"6fb3ee7e-0e72-461a-880c-afc19660b202\");\n  if (element == null) {\n    console.log(\"Bokeh: ERROR: autoload.js configured with elementid '6fb3ee7e-0e72-461a-880c-afc19660b202' but no matching script tag was found. \")\n    return false;\n  }\n\n  var js_urls = [\"https://cdn.pydata.org/bokeh/release/bokeh-0.12.16.min.js\", \"https://cdn.pydata.org/bokeh/release/bokeh-widgets-0.12.16.min.js\", \"https://cdn.pydata.org/bokeh/release/bokeh-tables-0.12.16.min.js\", \"https://cdn.pydata.org/bokeh/release/bokeh-gl-0.12.16.min.js\"];\n\n  var inline_js = [\n    function(Bokeh) {\n      Bokeh.set_log_level(\"info\");\n    },\n    \n    function(Bokeh) {\n      \n    },\n    function(Bokeh) {\n      console.log(\"Bokeh: injecting CSS: https://cdn.pydata.org/bokeh/release/bokeh-0.12.16.min.css\");\n      Bokeh.embed.inject_css(\"https://cdn.pydata.org/bokeh/release/bokeh-0.12.16.min.css\");\n      console.log(\"Bokeh: injecting CSS: https://cdn.pydata.org/bokeh/release/bokeh-widgets-0.12.16.min.css\");\n      Bokeh.embed.inject_css(\"https://cdn.pydata.org/bokeh/release/bokeh-widgets-0.12.16.min.css\");\n      console.log(\"Bokeh: injecting CSS: https://cdn.pydata.org/bokeh/release/bokeh-tables-0.12.16.min.css\");\n      Bokeh.embed.inject_css(\"https://cdn.pydata.org/bokeh/release/bokeh-tables-0.12.16.min.css\");\n    }\n  ];\n\n  function run_inline_js() {\n    \n    if ((root.Bokeh !== undefined) || (force === true)) {\n      for (var i = 0; i < inline_js.length; i++) {\n        inline_js[i].call(root, root.Bokeh);\n      }if (force === true) {\n        display_loaded();\n      }} else if (Date.now() < root._bokeh_timeout) {\n      setTimeout(run_inline_js, 100);\n    } else if (!root._bokeh_failed_load) {\n      console.log(\"Bokeh: BokehJS failed to load within specified timeout.\");\n      root._bokeh_failed_load = true;\n    } else if (force !== true) {\n      var cell = $(document.getElementById(\"6fb3ee7e-0e72-461a-880c-afc19660b202\")).parents('.cell').data().cell;\n      cell.output_area.append_execute_result(NB_LOAD_WARNING)\n    }\n\n  }\n\n  if (root._bokeh_is_loading === 0) {\n    console.log(\"Bokeh: BokehJS loaded, going straight to plotting\");\n    run_inline_js();\n  } else {\n    load_libs(js_urls, function() {\n      console.log(\"Bokeh: BokehJS plotting callback run at\", now());\n      run_inline_js();\n    });\n  }\n}(window));"
     },
     "metadata": {},
     "output_type": "display_data"
    }
   ],
   "source": [
    "output_notebook()"
   ]
  },
  {
   "cell_type": "code",
   "execution_count": 4,
   "metadata": {
    "collapsed": true
   },
   "outputs": [],
   "source": [
    "def make_query(param=None):\n",
    "    '''\n",
    "    Returns the MongoDB query for a lblnew \n",
    "    run's document.\n",
    "    \n",
    "    Parameters\n",
    "    ----------\n",
    "    param: dict\n",
    "    lblnew-bestfit input parameters.\n",
    "    '''\n",
    "    return {'param.' + name: value for name, value in param.items()}   "
   ]
  },
  {
   "cell_type": "code",
   "execution_count": 5,
   "metadata": {
    "collapsed": true
   },
   "outputs": [],
   "source": [
    "def print_input_param():\n",
    "    '''\n",
    "    Print to screen the input parameters \n",
    "    of the lblnew run.\n",
    "    '''\n",
    "    df = pd.DataFrame(columns=['lblnew'])\n",
    "    for name, value in sorted(PARAM.items()):\n",
    "        df.loc[name, 'lblnew'] = value\n",
    "    \n",
    "    df.index.name = 'Input parameter'\n",
    "    df.columns.name = 'Run'\n",
    "    \n",
    "    pd.set_option('display.max_colwidth', -1)\n",
    "    display.display(df)\n",
    "    pd.reset_option('display.max_colwidth')"
   ]
  },
  {
   "cell_type": "code",
   "execution_count": 6,
   "metadata": {
    "collapsed": true
   },
   "outputs": [],
   "source": [
    "def fmt_cool(ds_in):\n",
    "    ds = ds_in.copy(deep=True)\n",
    "    \n",
    "    if 'i' in ds.dims:                                                                                               \n",
    "        ds = ds.sel(i=ds.dims['i']) \n",
    "        \n",
    "    if 'band' in ds.dims:\n",
    "        try:\n",
    "            ds = ds.squeeze('band')\n",
    "        except ValueError:\n",
    "            ds = ds.sum('band') \n",
    "            \n",
    "    return ds['coolrg']\n",
    "\n",
    "\n",
    "\n",
    "def pltdata_cool(g=None):\n",
    "    '''\n",
    "    Define the plotting data for cooling rate\n",
    "    profile plots.  Add/remove entries in\n",
    "    the `data` list.\n",
    "    \n",
    "    Parameters\n",
    "    ----------\n",
    "    g: int\n",
    "        g-interval to be plotted.  If None,\n",
    "        the sum over all g-intervals will be\n",
    "        plotted.\n",
    "    data: dict\n",
    "        Plot data, including colour, line attributes, etc.\n",
    "    '''\n",
    "    colors = all_palettes['Set1'][4]\n",
    "    \n",
    "    if g == None:\n",
    "        ds_cool_crd = DS_COOL_CRD.sum('g')\n",
    "        ds_cool_wgt = DS_COOL_WGT.sum('g')\n",
    "    else:\n",
    "        ds_cool_crd = DS_COOL_CRD.sel(g=g)\n",
    "        ds_cool_wgt = DS_COOL_WGT.sel(g=g)\n",
    "    \n",
    "    data = [\n",
    "        {'label': 'CRD',\n",
    "         'srs': fmt_cool(ds_cool_crd),\n",
    "         'line_dash': 'solid', 'line_width':1.5,\n",
    "         'marker': 'circle', 'mark_size': 5,\n",
    "         'color': colors[2], 'alpha': 1},\n",
    "        {'label': 'WGT igg=1',\n",
    "         'srs': fmt_cool(ds_cool_wgt.sel(igg=1)),\n",
    "         'line_dash': 'solid', 'line_width': 3,\n",
    "         'marker': 'square', 'marker_size': 5,\n",
    "         'color': colors[3], 'alpha': .6},\n",
    "        {'label': 'WGT igg=10',\n",
    "         'srs': fmt_cool(ds_cool_wgt.sel(igg=10)),\n",
    "         'line_dash': 'solid', 'line_width': 2,\n",
    "         'marker': 'triangle', 'marker_size': 2,\n",
    "         'color': colors[1], 'alpha': .3}]\n",
    "    return data\n",
    "\n",
    "\n",
    "\n",
    "def plt_cool(pltdata=None):\n",
    "    '''\n",
    "    Plot cooling rate profiles on linear\n",
    "    and log pressure axes.\n",
    "    \n",
    "    Parameters\n",
    "    ----------\n",
    "    pltdata: dict\n",
    "        Plot data, including colour, line attributes, etc.\n",
    "    everything: bokeh.models.layouts.Column\n",
    "        Cooling rate profile plot.\n",
    "    '''\n",
    "    plin = plt_vert_profile_bokeh(pltdata=pltdata, \n",
    "                                  y_axis_type='linear',\n",
    "                                  prange=(50, 1050))\n",
    "    plin.plot_width, plin.plot_height = 400, 500\n",
    "    \n",
    "    plog = plt_vert_profile_bokeh(pltdata=pltdata,\n",
    "                                  y_axis_type='log',\n",
    "                                  prange=(.01, 200)) \n",
    "    plog.plot_width, plog.plot_height = 400, 500\n",
    "    \n",
    "    everything = gridplot(plin, plog, ncols=2)\n",
    "    return everything\n",
    "    \n",
    "    \n",
    "\n",
    "def script_plt_cool():\n",
    "    '''\n",
    "    Script to plot the cooling rate profiles\n",
    "    in each g-interval and the total \n",
    "    cooling rate profile over all g-intervals.\n",
    "    '''\n",
    "    ng = sum(PARAM['ng_refs'])\n",
    "    for g in np.arange(1, ng + 1):\n",
    "        data = pltdata_cool(g=g)\n",
    "        p = plt_cool(pltdata=data)\n",
    "        show(p)\n",
    "        display.display(\n",
    "            display.Markdown(f'*FIGURE.* Cooling rates. g={g}'))\n",
    "    \n",
    "    data = pltdata_cool()\n",
    "    p = plt_cool(pltdata=data)\n",
    "    show(p)\n",
    "    display.display(\n",
    "        display.Markdown(f'*FIGURE.* Cooling rates. Summed over g.'))\n",
    "    \n"
   ]
  },
  {
   "cell_type": "code",
   "execution_count": 7,
   "metadata": {
    "collapsed": true
   },
   "outputs": [],
   "source": [
    "def fmt_flux(ds_in, ilevels=None):\n",
    "    ds = ds_in.copy(deep=True)\n",
    "    \n",
    "    for l in ('level', 'layer'):\n",
    "        if l in ds.data_vars:\n",
    "            if len(ds[l].dims) > 1:\n",
    "                surface = {d: 0 for d in ds.dims if d != 'pressure'}\n",
    "                coord_level = ds[l][surface]\n",
    "                ds.coords[l] = ('pressure', coord_level)\n",
    "            else:\n",
    "                ds.coords[l] = ('pressure', ds[l])\n",
    "    \n",
    "    if ilevels:\n",
    "        ds = ds.isel(pressure=ilevels)\n",
    "\n",
    "    if 'i' in ds.dims:                                                                                               \n",
    "        ds = ds.sel(i=ds.dims['i'])\n",
    "        \n",
    "    #if 'igg' in ds.dims:\n",
    "    #    ds = ds.squeeze('igg').drop('igg')\n",
    "        \n",
    "    if 'igg' in ds:\n",
    "        if ds['igg'].shape == (1,):\n",
    "            ds = ds.squeeze('igg').drop('igg')\n",
    "        elif ds['igg'].shape == ():\n",
    "            ds = ds.drop('igg')\n",
    "            \n",
    "    if 'g' in ds:\n",
    "        if ds['g'].shape == (1,):\n",
    "            ds = ds.squeeze('g').drop('g')\n",
    "        elif ds['g'].shape == ():\n",
    "            ds = ds.drop('g')\n",
    "            \n",
    "    if 'band' in ds.dims:\n",
    "        try:\n",
    "            ds = ds.squeeze('band').drop('band')\n",
    "        except ValueError:\n",
    "            ds = ds.sum('band')\n",
    "                \n",
    "    df = ds.to_dataframe()\n",
    "    df = df.set_index('level', append=True)               \n",
    "    return df\n",
    "\n",
    "\n",
    "def tbdata_flux():\n",
    "    '''\n",
    "    Define the flux data to be tabulated for\n",
    "    the g-intervals.  Add/remove entries in the\n",
    "    `tbs` list.\n",
    "    \n",
    "    Parameters\n",
    "    ----------\n",
    "    data: dict\n",
    "        Flux data, including how each set is to be\n",
    "        labeled in the output table.\n",
    "    '''\n",
    "    tropopauses = {'mls': 40, 'saw': 45, 'trp': 37}\n",
    "    atmpro = PARAM['atmpro']\n",
    "    ilevels = [0, tropopauses[atmpro], -1]\n",
    "    \n",
    "    benchmark = {'label': 'CRD',\n",
    "                 'df': fmt_flux(DS_FLUX_CRD, ilevels=ilevels)}\n",
    "    \n",
    "    tbs = [{'label': 'WGT igg=1',\n",
    "            'df': fmt_flux(DS_FLUX_WGT.sel(igg=[1]), ilevels=ilevels)},\n",
    "           {'label': 'WGT igg=10',\n",
    "            'df': fmt_flux(DS_FLUX_WGT.sel(igg=[10]), ilevels=ilevels)}]\n",
    "    \n",
    "    data = {'benchmark': benchmark, 'others': tbs}\n",
    "    return data\n",
    "\n",
    "\n",
    "\n",
    "def tbdata_flux_sumg():\n",
    "    '''\n",
    "    Define the total flux data, over all g-intervals,\n",
    "    to be tabulated.\n",
    "    \n",
    "    Parameters\n",
    "    ----------\n",
    "    data: dict\n",
    "        Flux data, including how each set is to e\n",
    "        labeled in the output table.\n",
    "    '''\n",
    "    tropopauses = {'mls': 40, 'saw': 45, 'trp': 37}\n",
    "    \n",
    "    atmpro = PARAM['atmpro']\n",
    "    ilevels = [0, tropopauses[atmpro], -1]\n",
    "    \n",
    "    benchmark = {'label': 'CRD',\n",
    "                 'df': fmt_flux(DS_FLUX_CRD.sum('g'), ilevels=ilevels)}\n",
    "    \n",
    "    tbs = [{'label': 'WGT igg=1',\n",
    "            'df': fmt_flux(DS_FLUX_WGT.sel(igg=[1]).sum('g'), \n",
    "                           ilevels=ilevels)},\n",
    "           {'label': 'WGT igg=10',\n",
    "            'df': fmt_flux(DS_FLUX_WGT.sel(igg=[10]).sum('g'), \n",
    "                           ilevels=ilevels)}]\n",
    "    \n",
    "    data = {'benchmark': benchmark, 'others': tbs}\n",
    "    return data\n",
    "\n",
    "\n",
    "def tb_flux(tbdata=None):\n",
    "    '''\n",
    "    Display flux table for each set, and display\n",
    "    the difference between each set and the set\n",
    "    that is specified to be the benchmark.\n",
    "    \n",
    "    Parameters\n",
    "    ----------\n",
    "    tbdata: dict\n",
    "        Flux data, including how each set it to be\n",
    "        labeled in the output table.\n",
    "    '''\n",
    "    benchmark = tbdata['benchmark']\n",
    "    others = tbdata['others']\n",
    "    \n",
    "    def show_tb(d=None):\n",
    "        display.display(d['df'])\n",
    "        display.display(display.Markdown(\n",
    "            f\"*TABLE.* Fluxes. {d['label']}\"))\n",
    "        \n",
    "    def show_tbdiff(d0=None, d=None):\n",
    "        df = d['df']\n",
    "        df.index = d0['df'].index\n",
    "        display.display(df - d0['df'])\n",
    "        display.display(display.Markdown(\n",
    "            f\"*TABLE.* Fluxes. ({d['label']}) - ({d0['label']})\"))\n",
    "        \n",
    "    show_tb(benchmark)\n",
    "    for d in others:\n",
    "        show_tb(d)\n",
    "        \n",
    "    for d in others:\n",
    "        show_tbdiff(d=d, d0=benchmark)\n",
    "        \n",
    "\n",
    "        \n",
    "def script_tb_flux():\n",
    "    '''\n",
    "    Script to display the flux tables in \n",
    "    each g-interval, and the flux table\n",
    "    for the total flux, over all g-intervals.\n",
    "    '''\n",
    "    tb_flux(tbdata=tbdata_flux())\n",
    "    tb_flux(tbdata=tbdata_flux_sumg())\n"
   ]
  },
  {
   "cell_type": "code",
   "execution_count": 8,
   "metadata": {
    "collapsed": true
   },
   "outputs": [],
   "source": [
    "def script_gsummary():\n",
    "    '''\n",
    "    Script to display how the g-intervals\n",
    "    are defined according the hyperparameters\n",
    "    chosen for this lblnew-bestfit run.\n",
    "    '''\n",
    "    ng_refs = PARAM['ng_refs']\n",
    "    p_refs = list(zip(*PARAM['ref_pts']))[0]\n",
    "    ng = sum(ng_refs)\n",
    "    df_abscom = pd.read_csv(io.StringIO(DOC['abscom']), \n",
    "                            sep=r'\\s+', index_col=[0])\n",
    "    df_dgdgs = pd.read_csv(io.StringIO(DOC['dgdgs']), \n",
    "                            sep=r'\\s+', index_col=[0])\n",
    "    \n",
    "    # absth(g + 1) / absth(g)\n",
    "    df_abscom_copy = df_abscom.copy()\n",
    "    df_abscom_copy.index = df_abscom.index + 1\n",
    "    df_absratio = df_abscom / df_abscom_copy\n",
    "    df_absratio.columns = ['k(ig) / k(ig - 1)']\n",
    "    df_absratio = df_absratio.loc[: ng]    \n",
    "    \n",
    "    df_dgdgs_cumsum = df_dgdgs.cumsum(axis=0)\n",
    "    df_dgdgs_cumsum.columns = ['dg cumsum', 'dgs cumsum']\n",
    "    \n",
    "    data_pref = np.concatenate([p_ref * np.ones((ng_ref,)) \n",
    "                                for ng_ref, p_ref \n",
    "                                in zip(ng_refs, p_refs)], axis=0)\n",
    "    df_pref = pd.DataFrame(data_pref, \n",
    "                           index=df_dgdgs.index, columns=['pref'])\n",
    "    \n",
    "    df_all = pd.concat([df_abscom, df_absratio,\n",
    "                        df_dgdgs, df_dgdgs_cumsum,\n",
    "                        df_pref], axis=1) \n",
    "    \n",
    "    display.display(df_all)\n",
    "    display.display(display.Markdown(\n",
    "        (f\"TABLE. g-interval summary.  \"\n",
    "         f\"*abscom* is the lower bound of the g-interval.\")))\n",
    "    \n"
   ]
  },
  {
   "cell_type": "code",
   "execution_count": 9,
   "metadata": {
    "collapsed": true
   },
   "outputs": [],
   "source": [
    "def script_flux_to_excel():\n",
    "    '''\n",
    "    Script to save the lblnew-bestfit run's\n",
    "    output flux to excel file and display the\n",
    "    link to download the excel file.\n",
    "    '''\n",
    "    fname = 'lblnew-bestfit_flux.xlsx'\n",
    "    writer = pd.ExcelWriter(fname)\n",
    "    \n",
    "    ds = DS_FLUX_CRD\n",
    "    for g in ds.coords['g']:\n",
    "        df = ds.sel(g=g).to_dataframe()\n",
    "        df.to_excel(writer, f'crd flux g={int(g)}')\n",
    "                \n",
    "    ds = DS_FLUX_WGT\n",
    "    for g in ds.coords['g']:\n",
    "        df = ds.sel(g=g, igg=1).to_dataframe()\n",
    "        df.to_excel(writer, f'wgt igg=1 flux g={int(g)}')\n",
    "        \n",
    "        df = ds.sel(g=g, igg=10).to_dataframe()\n",
    "        df.to_excel(writer, f'wgt igg=10 flux g={int(g)}')\n",
    "        \n",
    "    writer.save()    \n",
    "    html_download = f'Download: <a href=\"./{fname}\">{fname}</a>'\n",
    "    display.display(display.HTML(html_download))\n",
    "\n",
    "\n",
    "def script_cool_to_excel():\n",
    "    '''\n",
    "    Script to save the lblnew-bestfit run's\n",
    "    output cooling rate to excel file and display\n",
    "    the link to download the excel file.\n",
    "    '''\n",
    "    fname = 'lblnew-bestfit_cool.xlsx'\n",
    "    writer = pd.ExcelWriter(fname)\n",
    "    \n",
    "    ds = DS_COOL_CRD\n",
    "    for g in ds.coords['g']:\n",
    "        df = ds.sel(g=g).to_dataframe()\n",
    "        df.to_excel(writer, f'crd cool g={int(g)}')\n",
    "        \n",
    "    ds = DS_COOL_WGT\n",
    "    for g in ds.coords['g']:\n",
    "        df = ds.sel(g=g, igg=1).to_dataframe()\n",
    "        df.to_excel(writer, f'wgt igg=1 cool g={int(g)}')\n",
    "        \n",
    "        df = ds.sel(g=g, igg=10).to_dataframe()\n",
    "        df.to_excel(writer, f'wgt igg=10 cool g={int(g)}')\n",
    "        \n",
    "    writer.save()\n",
    "    html_download = f'Download: <a href=\"./{fname}\">{fname}</a>'\n",
    "    display.display(display.HTML(html_download))"
   ]
  },
  {
   "cell_type": "code",
   "execution_count": 10,
   "metadata": {
    "collapsed": true
   },
   "outputs": [],
   "source": [
    "def show_html(s):\n",
    "    display.display(display.HTML(s))\n",
    "\n",
    "    \n",
    "def show_markdown(s):\n",
    "    display.display(display.Markdown(s))"
   ]
  },
  {
   "cell_type": "code",
   "execution_count": 11,
   "metadata": {
    "collapsed": true
   },
   "outputs": [],
   "source": [
    "def script():\n",
    "    title = ('### lblnew-bestfit' \n",
    "             if 'ng_refs' in PARAM else '### lblnew-overlap')\n",
    "    s_input = 'Input Parameters'\n",
    "    s_plt_cool = 'Cooling Rate Profiles'\n",
    "    s_tb_flux = 'Flux Comparison'\n",
    "    s_gsummary = 'g-interval Summary'\n",
    "    s_download = 'Download Data'\n",
    "    \n",
    "    # title\n",
    "    show_markdown(title)\n",
    "    \n",
    "    # TOC\n",
    "    show_markdown('### Table of Contents')\n",
    "    show_html(climahtml.getHTML_hrefanchor(s_input))\n",
    "    show_html(climahtml.getHTML_hrefanchor(s_plt_cool))\n",
    "    show_html(climahtml.getHTML_hrefanchor(s_tb_flux))\n",
    "    show_html(climahtml.getHTML_hrefanchor(s_gsummary))\n",
    "    show_html(climahtml.getHTML_hrefanchor(s_download))\n",
    "    \n",
    "    # Input parameters\n",
    "    show_html(climahtml.getHTML_idanchor(s_input))\n",
    "    show_markdown(climahtml.getMarkdown_sectitle(s_input))\n",
    "    print_input_param()\n",
    "    \n",
    "    # Cooling rate profiles\n",
    "    show_html(climahtml.getHTML_idanchor(s_plt_cool))\n",
    "    show_markdown(climahtml.getMarkdown_sectitle(s_plt_cool))\n",
    "    script_plt_cool()\n",
    "    \n",
    "    # Flux comparison\n",
    "    show_html(climahtml.getHTML_idanchor(s_tb_flux))\n",
    "    show_markdown(climahtml.getMarkdown_sectitle(s_tb_flux))\n",
    "    script_tb_flux()\n",
    "    \n",
    "    # g-interval summary\n",
    "    show_html(climahtml.getHTML_idanchor(s_gsummary))\n",
    "    show_markdown(climahtml.getMarkdown_sectitle(s_gsummary))\n",
    "    script_gsummary()\n",
    "    \n",
    "    # Download cooling rate and fluxes\n",
    "    show_html(climahtml.getHTML_idanchor(s_download))\n",
    "    show_markdown(climahtml.getMarkdown_sectitle(s_download))\n",
    "    script_flux_to_excel()\n",
    "    script_cool_to_excel()"
   ]
  },
  {
   "cell_type": "code",
   "execution_count": 12,
   "metadata": {
    "collapsed": true
   },
   "outputs": [],
   "source": [
    "%run param.py\n",
    "\n",
    "client = pymongo.MongoClient('localhost', 27017, connect=False)\n",
    "db = client.lblnew\n",
    "\n",
    "\n",
    "DOC = db.bestfit_lw.find_one(make_query(param=PARAM))\n",
    "DS_FLUX_CRD = load_output_file(io.StringIO(DOC['output_fluxg']))\n",
    "DS_COOL_CRD = load_output_file(io.StringIO(DOC['output_coolrg']))\n",
    "DS_FLUX_WGT = load_output_file(io.StringIO(DOC['output_wfluxg']))\n",
    "DS_COOL_WGT = load_output_file(io.StringIO(DOC['output_wcoolrg']))"
   ]
  },
  {
   "cell_type": "code",
   "execution_count": 13,
   "metadata": {
    "scrolled": false
   },
   "outputs": [
    {
     "data": {
      "text/markdown": [
       "### lblnew-bestfit"
      ],
      "text/plain": [
       "<IPython.core.display.Markdown object>"
      ]
     },
     "metadata": {},
     "output_type": "display_data"
    },
    {
     "data": {
      "text/markdown": [
       "### Table of Contents"
      ],
      "text/plain": [
       "<IPython.core.display.Markdown object>"
      ]
     },
     "metadata": {},
     "output_type": "display_data"
    },
    {
     "data": {
      "text/html": [
       "<a href=\"#Input_Parameters\">Input Parameters</a>"
      ],
      "text/plain": [
       "<IPython.core.display.HTML object>"
      ]
     },
     "metadata": {},
     "output_type": "display_data"
    },
    {
     "data": {
      "text/html": [
       "<a href=\"#Cooling_Rate_Profiles\">Cooling Rate Profiles</a>"
      ],
      "text/plain": [
       "<IPython.core.display.HTML object>"
      ]
     },
     "metadata": {},
     "output_type": "display_data"
    },
    {
     "data": {
      "text/html": [
       "<a href=\"#Flux_Comparison\">Flux Comparison</a>"
      ],
      "text/plain": [
       "<IPython.core.display.HTML object>"
      ]
     },
     "metadata": {},
     "output_type": "display_data"
    },
    {
     "data": {
      "text/html": [
       "<a href=\"#g-interval_Summary\">g-interval Summary</a>"
      ],
      "text/plain": [
       "<IPython.core.display.HTML object>"
      ]
     },
     "metadata": {},
     "output_type": "display_data"
    },
    {
     "data": {
      "text/html": [
       "<a href=\"#Download_Data\">Download Data</a>"
      ],
      "text/plain": [
       "<IPython.core.display.HTML object>"
      ]
     },
     "metadata": {},
     "output_type": "display_data"
    },
    {
     "data": {
      "text/html": [
       "<a id=\"Input_Parameters\"></a>"
      ],
      "text/plain": [
       "<IPython.core.display.HTML object>"
      ]
     },
     "metadata": {},
     "output_type": "display_data"
    },
    {
     "data": {
      "text/markdown": [
       "# Input Parameters"
      ],
      "text/plain": [
       "<IPython.core.display.Markdown object>"
      ]
     },
     "metadata": {},
     "output_type": "display_data"
    },
    {
     "data": {
      "text/html": [
       "<div>\n",
       "<style scoped>\n",
       "    .dataframe tbody tr th:only-of-type {\n",
       "        vertical-align: middle;\n",
       "    }\n",
       "\n",
       "    .dataframe tbody tr th {\n",
       "        vertical-align: top;\n",
       "    }\n",
       "\n",
       "    .dataframe thead th {\n",
       "        text-align: right;\n",
       "    }\n",
       "</style>\n",
       "<table border=\"1\" class=\"dataframe\">\n",
       "  <thead>\n",
       "    <tr style=\"text-align: right;\">\n",
       "      <th>Run</th>\n",
       "      <th>lblnew</th>\n",
       "    </tr>\n",
       "    <tr>\n",
       "      <th>Input parameter</th>\n",
       "      <th></th>\n",
       "    </tr>\n",
       "  </thead>\n",
       "  <tbody>\n",
       "    <tr>\n",
       "      <th>atmpro</th>\n",
       "      <td>mls</td>\n",
       "    </tr>\n",
       "    <tr>\n",
       "      <th>band</th>\n",
       "      <td>5</td>\n",
       "    </tr>\n",
       "    <tr>\n",
       "      <th>commitnumber</th>\n",
       "      <td>a06b618</td>\n",
       "    </tr>\n",
       "    <tr>\n",
       "      <th>conc</th>\n",
       "      <td>None</td>\n",
       "    </tr>\n",
       "    <tr>\n",
       "      <th>dv</th>\n",
       "      <td>0.001</td>\n",
       "    </tr>\n",
       "    <tr>\n",
       "      <th>klin</th>\n",
       "      <td>1e-24</td>\n",
       "    </tr>\n",
       "    <tr>\n",
       "      <th>molecule</th>\n",
       "      <td>h2o</td>\n",
       "    </tr>\n",
       "    <tr>\n",
       "      <th>ng_adju</th>\n",
       "      <td>[0]</td>\n",
       "    </tr>\n",
       "    <tr>\n",
       "      <th>ng_refs</th>\n",
       "      <td>[3]</td>\n",
       "    </tr>\n",
       "    <tr>\n",
       "      <th>nv</th>\n",
       "      <td>1000</td>\n",
       "    </tr>\n",
       "    <tr>\n",
       "      <th>option_compute_btable</th>\n",
       "      <td>0</td>\n",
       "    </tr>\n",
       "    <tr>\n",
       "      <th>option_compute_ktable</th>\n",
       "      <td>1</td>\n",
       "    </tr>\n",
       "    <tr>\n",
       "      <th>option_wgt_flux</th>\n",
       "      <td>1</td>\n",
       "    </tr>\n",
       "    <tr>\n",
       "      <th>option_wgt_k</th>\n",
       "      <td>1</td>\n",
       "    </tr>\n",
       "    <tr>\n",
       "      <th>ref_pts</th>\n",
       "      <td>[[600, 250]]</td>\n",
       "    </tr>\n",
       "    <tr>\n",
       "      <th>tsfc</th>\n",
       "      <td>294</td>\n",
       "    </tr>\n",
       "    <tr>\n",
       "      <th>vmax</th>\n",
       "      <td>1100</td>\n",
       "    </tr>\n",
       "    <tr>\n",
       "      <th>vmin</th>\n",
       "      <td>980</td>\n",
       "    </tr>\n",
       "    <tr>\n",
       "      <th>w_diffuse</th>\n",
       "      <td>[[1.66, 1.66, 1.8]]</td>\n",
       "    </tr>\n",
       "    <tr>\n",
       "      <th>wgt</th>\n",
       "      <td>[[0.5, 0.55, 0.9]]</td>\n",
       "    </tr>\n",
       "  </tbody>\n",
       "</table>\n",
       "</div>"
      ],
      "text/plain": [
       "Run                                 lblnew\n",
       "Input parameter                           \n",
       "atmpro                 mls                \n",
       "band                   5                  \n",
       "commitnumber           a06b618            \n",
       "conc                   None               \n",
       "dv                     0.001              \n",
       "klin                   1e-24              \n",
       "molecule               h2o                \n",
       "ng_adju                [0]                \n",
       "ng_refs                [3]                \n",
       "nv                     1000               \n",
       "option_compute_btable  0                  \n",
       "option_compute_ktable  1                  \n",
       "option_wgt_flux        1                  \n",
       "option_wgt_k           1                  \n",
       "ref_pts                [[600, 250]]       \n",
       "tsfc                   294                \n",
       "vmax                   1100               \n",
       "vmin                   980                \n",
       "w_diffuse              [[1.66, 1.66, 1.8]]\n",
       "wgt                    [[0.5, 0.55, 0.9]] "
      ]
     },
     "metadata": {},
     "output_type": "display_data"
    },
    {
     "data": {
      "text/html": [
       "<a id=\"Cooling_Rate_Profiles\"></a>"
      ],
      "text/plain": [
       "<IPython.core.display.HTML object>"
      ]
     },
     "metadata": {},
     "output_type": "display_data"
    },
    {
     "data": {
      "text/markdown": [
       "# Cooling Rate Profiles"
      ],
      "text/plain": [
       "<IPython.core.display.Markdown object>"
      ]
     },
     "metadata": {},
     "output_type": "display_data"
    },
    {
     "data": {
      "text/html": [
       "\n",
       "<div class=\"bk-root\">\n",
       "    <div class=\"bk-plotdiv\" id=\"d6a73eac-5bdc-4c54-b01f-27ece49760f3\"></div>\n",
       "</div>"
      ]
     },
     "metadata": {},
     "output_type": "display_data"
    },
    {
     "data": {
      "application/javascript": [
       "(function(root) {\n",
       "  function embed_document(root) {\n",
       "    \n",
       "  var docs_json = {\"2d16636c-f34e-4302-a227-e91fe49a571c\":{\"roots\":{\"references\":[{\"attributes\":{\"line_alpha\":0.1,\"line_color\":\"#1f77b4\",\"line_width\":2,\"x\":{\"field\":\"x\"},\"y\":{\"field\":\"y\"}},\"id\":\"a383e0cb-4373-4551-bb37-71ac226ee8e8\",\"type\":\"Line\"},{\"attributes\":{\"data_source\":{\"id\":\"11b7929d-28d9-414e-9423-11b6805742e1\",\"type\":\"ColumnDataSource\"},\"glyph\":{\"id\":\"470484b8-987d-442a-b3b2-da0ef0572e42\",\"type\":\"Line\"},\"hover_glyph\":null,\"muted_glyph\":null,\"nonselection_glyph\":{\"id\":\"a383e0cb-4373-4551-bb37-71ac226ee8e8\",\"type\":\"Line\"},\"selection_glyph\":null,\"view\":{\"id\":\"7a1540a4-3efe-4772-b579-936ebb1407b0\",\"type\":\"CDSView\"}},\"id\":\"e6e4119d-49fe-4b0a-9b0e-426070313361\",\"type\":\"GlyphRenderer\"},{\"attributes\":{\"source\":{\"id\":\"11b7929d-28d9-414e-9423-11b6805742e1\",\"type\":\"ColumnDataSource\"}},\"id\":\"7a1540a4-3efe-4772-b579-936ebb1407b0\",\"type\":\"CDSView\"},{\"attributes\":{\"plot\":{\"id\":\"82d24404-eef3-4b21-a736-44c8b853b0d9\",\"subtype\":\"Figure\",\"type\":\"Plot\"},\"ticker\":{\"id\":\"507e6fae-4914-4331-995e-2049d0d5facf\",\"type\":\"BasicTicker\"}},\"id\":\"301e776a-4d06-4eb9-85b4-e2444d827adf\",\"type\":\"Grid\"},{\"attributes\":{\"source\":{\"id\":\"e76e1f38-b88b-49eb-936b-22776ab7d7a6\",\"type\":\"ColumnDataSource\"}},\"id\":\"534e657b-61f8-4b64-ba7e-a31e5718c309\",\"type\":\"CDSView\"},{\"attributes\":{\"data_source\":{\"id\":\"e76e1f38-b88b-49eb-936b-22776ab7d7a6\",\"type\":\"ColumnDataSource\"},\"glyph\":{\"id\":\"eefd2744-6084-428c-8dba-2417ba487194\",\"type\":\"Triangle\"},\"hover_glyph\":null,\"muted_glyph\":null,\"nonselection_glyph\":{\"id\":\"dcd3f32f-d2e6-4540-878c-e66061dc91bb\",\"type\":\"Triangle\"},\"selection_glyph\":null,\"view\":{\"id\":\"534e657b-61f8-4b64-ba7e-a31e5718c309\",\"type\":\"CDSView\"}},\"id\":\"fd339add-cf00-4edf-a4d7-63f1bba6a89e\",\"type\":\"GlyphRenderer\"},{\"attributes\":{},\"id\":\"507e6fae-4914-4331-995e-2049d0d5facf\",\"type\":\"BasicTicker\"},{\"attributes\":{\"callback\":null,\"data\":{\"x\":{\"__ndarray__\":\"OsYLQvqOtb6aPcm9jKW1vh5UmKxP1LW+2BzdbwoEtr56LtV03TG2vp24mQ+fXba+trxHUSmHtr4rpnkhW662vtO5baUR07a+KPlA7ib1tr4rWClcdxS3vpu5JV7kMLe+YDAollFKt74djEUJ5GG3vmPvnrbrjLe+WOEgYfIbt766/md9tkezvra4G6piXKK+QxNjcyHUpT4EISyOgS/HPpllLhi1Kdo+egWr2QFp6D618/teFJ7yPrG2mereO/M+I2Ap+sUL7D7Coe+vErvhPlUpMwiLINQ+nNYs4OdNwz40WrZLutKnPmz4hDwUZJO+mayTqbMfr76KhQ14hvq1vqem03ooJrm+7NGP96esur4oFqMVhY67vgRVgzI6+ru+3SLxz4covL7jRgYn8Ey8vpiaawRPXry+SOn6zCegvb4kVyOh4cTGvqGmWAnMKd2+HKLDrMt17b6C1ijK54L3vkt7Tc83wvu+ft0c/46G6r7lVwVqqYL2Pr+cOAzDfRU/jby82VdAJz9Z6PdGRrQ0P16Q9ubxhUA/0u1jV7b4Rz+DUT6nO1lQP0LWlqOHZlU/rKWzpaQNWz8/nRtoeJJgP8S1mxb8umM/tDQzU9PXZz8+ZCxEF7VrP84A3Er9pW4/MVU/nvUjcD+NZuHC7CtwPzx+rDa42m4/7c7umh0TbD9l+It1Q3VoP/2jVxGajmQ/GWLFxeLSYD9STP6g1+NaP0mTwf+FxlQ/cl1bqg2lTj8Hx/fn7sVFPzTjgSoSVj8/ka5YziWmOT9TV+oUhYg9P5derHdG9Es/\",\"dtype\":\"float64\",\"shape\":[75]},\"y\":{\"__ndarray__\":\"GhExyth1ND/Sv8nbtpRIP2vylNV0PVE/aTum7souWD/At0SJ8fVgPw3Iuahxymc/MSNhhJWvcD/bTfBN02d3P2zb5nxnaoA/CD5h5MAGhz8NmeH1TyaQP+zrCsc9p5Y/LbKd76fGnz/bLW5ISEmmPww9YvTcQq8/JV2OstnstT8Er5Y7M8G+P0c+r3jqkcU/5h99k6ZBzj88bCIzFzjVP4enV8oyxN0//yH99nXg5D8qOpLLf0jtP5kqGJXUifQ/c9cS8kHP/D+/DpwzojQEQIEmwoanVwxA4lgXt9HgE0BSSZ2AJuIbQAMJih9jjiNA5q4l5INuK0AwTKYKRj0zQNv5fmq8/DpAaCJseHrtQkB/+zpwzoxKQM3MzMzMeFJAZmZmZmZqWEAAAAAAAFxeQM3MzMzMJmJAmpmZmZkfZUBmZmZmZhhoQDMzMzMzEWtAAAAAAAAKbkBmZmZmZoFwQM3MzMzM/XFAMzMzMzN6c0CamZmZmfZ0QAAAAAAAc3ZAZmZmZmbvd0DNzMzMzGt5QDMzMzMz6HpAmpmZmZlkfEAAAAAAAOF9QGZmZmZmXX9AZmZmZuZsgECamZmZGSuBQM3MzMxM6YFAAAAAAICngkAzMzMzs2WDQGZmZmbmI4RAmpmZmRnihEDNzMzMTKCFQAAAAACAXoZAMzMzM7Mch0BmZmZm5tqHQJqZmZkZmYhAzczMzExXiUAAAAAAgBWKQDMzMzOz04pAZmZmZuaRi0CamZmZGVCMQM3MzMxMDo1AAAAAAIDMjUAzMzMzs4qOQGZmZmbmSI9A\",\"dtype\":\"float64\",\"shape\":[75]}},\"selected\":{\"id\":\"ba333104-18b1-4417-89ef-4cb67a88e997\",\"type\":\"Selection\"},\"selection_policy\":{\"id\":\"26643a31-fea3-4cc7-8c31-7d0c874b2ad0\",\"type\":\"UnionRenderers\"}},\"id\":\"11b7929d-28d9-414e-9423-11b6805742e1\",\"type\":\"ColumnDataSource\"},{\"attributes\":{\"active_drag\":\"auto\",\"active_inspect\":\"auto\",\"active_scroll\":\"auto\",\"active_tap\":\"auto\",\"tools\":[{\"id\":\"deaa03ac-0c21-4982-8cd7-4cf3429786bb\",\"type\":\"PanTool\"},{\"id\":\"fd8695e8-4970-43d7-9873-58da748abc52\",\"type\":\"WheelZoomTool\"},{\"id\":\"0a4d1435-f5b7-4f9d-8a30-5eeb93173d0d\",\"type\":\"BoxZoomTool\"},{\"id\":\"cbd68ba3-5b6b-4243-b5b4-f256660a1f9a\",\"type\":\"SaveTool\"},{\"id\":\"fcd1b7d6-f495-40a8-9546-ff8e9340ab77\",\"type\":\"ResetTool\"},{\"id\":\"98ff3b0b-11de-4ca9-a32c-d853103f9c05\",\"type\":\"HelpTool\"}]},\"id\":\"922ce635-c645-4ec4-bde1-67dcd33a8aab\",\"type\":\"Toolbar\"},{\"attributes\":{\"line_alpha\":0.3,\"line_color\":\"#377eb8\",\"line_width\":2,\"x\":{\"field\":\"x\"},\"y\":{\"field\":\"y\"}},\"id\":\"470484b8-987d-442a-b3b2-da0ef0572e42\",\"type\":\"Line\"},{\"attributes\":{},\"id\":\"acfe2632-ef94-4cb0-998a-57ad985be140\",\"type\":\"Selection\"},{\"attributes\":{\"label\":{\"value\":\"CRD\"},\"renderers\":[{\"id\":\"7aaf2fb8-0130-4684-a54d-04776eea4810\",\"type\":\"GlyphRenderer\"},{\"id\":\"3bc2a0d2-1ef5-43a6-891a-521e393229c4\",\"type\":\"GlyphRenderer\"}]},\"id\":\"48c30cf7-e0c9-453c-ba60-1f7af9806e46\",\"type\":\"LegendItem\"},{\"attributes\":{\"callback\":null,\"end\":5.256789893699999e-05,\"start\":-3.316976637e-06},\"id\":\"15acc90a-0310-40ae-a68b-4f71865ab6a3\",\"type\":\"Range1d\"},{\"attributes\":{\"label\":{\"value\":\"WGT igg=10\"},\"renderers\":[{\"id\":\"fd339add-cf00-4edf-a4d7-63f1bba6a89e\",\"type\":\"GlyphRenderer\"},{\"id\":\"e6e4119d-49fe-4b0a-9b0e-426070313361\",\"type\":\"GlyphRenderer\"}]},\"id\":\"f24c3f53-37fd-4be4-be00-bf9402ee7473\",\"type\":\"LegendItem\"},{\"attributes\":{\"axis_label\":\"cooling rate [K/day]\",\"formatter\":{\"id\":\"70cc14b8-4578-475e-8baa-e8eaeb71ca2e\",\"type\":\"BasicTickFormatter\"},\"plot\":{\"id\":\"82d24404-eef3-4b21-a736-44c8b853b0d9\",\"subtype\":\"Figure\",\"type\":\"Plot\"},\"ticker\":{\"id\":\"507e6fae-4914-4331-995e-2049d0d5facf\",\"type\":\"BasicTicker\"}},\"id\":\"d2caeda9-465b-4aa9-bb1e-d744f858a9c4\",\"type\":\"LinearAxis\"},{\"attributes\":{\"label\":{\"value\":\"WGT igg=1\"},\"renderers\":[{\"id\":\"26a686a8-af3d-497b-ac40-f1e72ebd1a2d\",\"type\":\"GlyphRenderer\"},{\"id\":\"2b45326c-1c01-47d2-b745-6ba2a1483469\",\"type\":\"GlyphRenderer\"}]},\"id\":\"838e78fb-3bc4-4466-9119-2a57c7cc42d0\",\"type\":\"LegendItem\"},{\"attributes\":{\"items\":[{\"id\":\"563760f4-c128-4f25-a81a-dace41a6f785\",\"type\":\"LegendItem\"},{\"id\":\"b2054369-0610-460b-b9ae-298ad5a5bf17\",\"type\":\"LegendItem\"},{\"id\":\"646a9a21-f006-47c7-ba25-bf877fb87cac\",\"type\":\"LegendItem\"}],\"label_text_font_size\":{\"value\":\"8pt\"},\"location\":\"top_center\",\"orientation\":\"horizontal\",\"plot\":{\"id\":\"82d24404-eef3-4b21-a736-44c8b853b0d9\",\"subtype\":\"Figure\",\"type\":\"Plot\"}},\"id\":\"e0ffa5aa-eacb-446e-aa39-c2a517e0c02c\",\"type\":\"Legend\"},{\"attributes\":{},\"id\":\"49ec49b3-c4af-4c60-a4ea-cdfe2049155e\",\"type\":\"LinearScale\"},{\"attributes\":{},\"id\":\"5a3ae6ff-5290-4c46-ba9b-508e67544a19\",\"type\":\"LogScale\"},{\"attributes\":{\"axis_label\":\"pressure [mb]\",\"formatter\":{\"id\":\"3d239843-7726-493b-845e-0d0f95c5934b\",\"type\":\"LogTickFormatter\"},\"plot\":{\"id\":\"82d24404-eef3-4b21-a736-44c8b853b0d9\",\"subtype\":\"Figure\",\"type\":\"Plot\"},\"ticker\":{\"id\":\"60636eef-be92-4c51-96b1-f41f54603550\",\"type\":\"LogTicker\"}},\"id\":\"ea3b910a-8395-4378-8f0c-d674c3a21999\",\"type\":\"LogAxis\"},{\"attributes\":{\"num_minor_ticks\":10},\"id\":\"60636eef-be92-4c51-96b1-f41f54603550\",\"type\":\"LogTicker\"},{\"attributes\":{\"dimension\":1,\"plot\":{\"id\":\"82d24404-eef3-4b21-a736-44c8b853b0d9\",\"subtype\":\"Figure\",\"type\":\"Plot\"},\"ticker\":{\"id\":\"60636eef-be92-4c51-96b1-f41f54603550\",\"type\":\"LogTicker\"}},\"id\":\"731bc14d-b5d4-4a35-abb1-b109f5398597\",\"type\":\"Grid\"},{\"attributes\":{\"line_color\":\"#4daf4a\",\"line_width\":1.5,\"x\":{\"field\":\"x\"},\"y\":{\"field\":\"y\"}},\"id\":\"539926c4-0884-461e-bba0-cf07bb4bb2da\",\"type\":\"Line\"},{\"attributes\":{\"bottom_units\":\"screen\",\"fill_alpha\":{\"value\":0.5},\"fill_color\":{\"value\":\"lightgrey\"},\"left_units\":\"screen\",\"level\":\"overlay\",\"line_alpha\":{\"value\":1.0},\"line_color\":{\"value\":\"black\"},\"line_dash\":[4,4],\"line_width\":{\"value\":2},\"plot\":null,\"render_mode\":\"css\",\"right_units\":\"screen\",\"top_units\":\"screen\"},\"id\":\"4932ad76-f4e7-4560-9fb4-2ffa91f20143\",\"type\":\"BoxAnnotation\"},{\"attributes\":{},\"id\":\"deaa03ac-0c21-4982-8cd7-4cf3429786bb\",\"type\":\"PanTool\"},{\"attributes\":{},\"id\":\"fd8695e8-4970-43d7-9873-58da748abc52\",\"type\":\"WheelZoomTool\"},{\"attributes\":{\"overlay\":{\"id\":\"4932ad76-f4e7-4560-9fb4-2ffa91f20143\",\"type\":\"BoxAnnotation\"}},\"id\":\"0a4d1435-f5b7-4f9d-8a30-5eeb93173d0d\",\"type\":\"BoxZoomTool\"},{\"attributes\":{},\"id\":\"cbd68ba3-5b6b-4243-b5b4-f256660a1f9a\",\"type\":\"SaveTool\"},{\"attributes\":{},\"id\":\"fcd1b7d6-f495-40a8-9546-ff8e9340ab77\",\"type\":\"ResetTool\"},{\"attributes\":{},\"id\":\"98ff3b0b-11de-4ca9-a32c-d853103f9c05\",\"type\":\"HelpTool\"},{\"attributes\":{\"callback\":null,\"end\":0.01,\"start\":1020},\"id\":\"faee7bbc-5cd2-4472-8b77-ad62cb7e9171\",\"type\":\"Range1d\"},{\"attributes\":{\"source\":{\"id\":\"d426ae7c-bb0d-4b9f-8325-a7f52eb50537\",\"type\":\"ColumnDataSource\"}},\"id\":\"b8b2c489-79b6-45ad-8753-42520b7c80e7\",\"type\":\"CDSView\"},{\"attributes\":{\"callback\":null,\"data\":{\"x\":{\"__ndarray__\":\"ar3/StDqv74TLt7KxPm/viQ+A4p9CsC+f0dDe/0VwL60keXGQB7Avku5iQneIsC+4F5f+xkkwL7cwqtSoSHAvgU9n9Y0G8C+h1HckKEQwL77RDS3rgHAvv0CspNE3L++DYAbPHqrv75EjtKgTWy/vuv34+bxar6+jtq3NoAwub7xhwLGjtWhvvW4UeP/WLg+MDH03qT51D64SSJKkOjmPiuDylEbUvU+Rc3ugVcpAj9BmHWGL4cKPxtOYt0BRgs/r/M/O0BpBD+LbHYwNST7Ppz1tBXJ5vA+bpuwSfai4z79vXXaobrUPpvfZ6Ub4cE+BYWadp80lD7LswL/5yqsvr2nvktRrre+Viy/9Ij5u76ueS3leCS+vnm9ymqv8r6+cb2W1D2+vr7db1CVv1K+vtzTar5J7L2+KtnCqEqyvr7gJhcY0YTGvn2Z9eFq89m+G0SmSNxS5b6AahfYibzkviOM7/yvBtI+AFf4T481BT+UCQcuLUYaP5BhXC5j7yg/1TCiTZatND9P8ioiHWA/Px9RY71CQkY/+BhM8sJbTT8dsnaU+XlSP/RBYVxij1Y/vvZ/35XVWj8g66xExy9fP+rSGwMtw2E/XAhhkiusZD80Vejm2EZnP9Acc01qMGk/3Q1RbqNNaj/sjKBFd49qP8boEvXWBWo/gp9g2orRaD/TpPpolh9nP+Y7QanZJmU/k2dffP8NYz91VdsvUdRgP2CwG7Ytylw/elim64KrVz+g+CK7getSPzGUAC5pSU4/YPxUwQRtST/vN8eyAZVIPzenGamz7lE/\",\"dtype\":\"float64\",\"shape\":[75]},\"y\":{\"__ndarray__\":\"GhExyth1ND/Sv8nbtpRIP2vylNV0PVE/aTum7souWD/At0SJ8fVgPw3Iuahxymc/MSNhhJWvcD/bTfBN02d3P2zb5nxnaoA/CD5h5MAGhz8NmeH1TyaQP+zrCsc9p5Y/LbKd76fGnz/bLW5ISEmmPww9YvTcQq8/JV2OstnstT8Er5Y7M8G+P0c+r3jqkcU/5h99k6ZBzj88bCIzFzjVP4enV8oyxN0//yH99nXg5D8qOpLLf0jtP5kqGJXUifQ/c9cS8kHP/D+/DpwzojQEQIEmwoanVwxA4lgXt9HgE0BSSZ2AJuIbQAMJih9jjiNA5q4l5INuK0AwTKYKRj0zQNv5fmq8/DpAaCJseHrtQkB/+zpwzoxKQM3MzMzMeFJAZmZmZmZqWEAAAAAAAFxeQM3MzMzMJmJAmpmZmZkfZUBmZmZmZhhoQDMzMzMzEWtAAAAAAAAKbkBmZmZmZoFwQM3MzMzM/XFAMzMzMzN6c0CamZmZmfZ0QAAAAAAAc3ZAZmZmZmbvd0DNzMzMzGt5QDMzMzMz6HpAmpmZmZlkfEAAAAAAAOF9QGZmZmZmXX9AZmZmZuZsgECamZmZGSuBQM3MzMxM6YFAAAAAAICngkAzMzMzs2WDQGZmZmbmI4RAmpmZmRnihEDNzMzMTKCFQAAAAACAXoZAMzMzM7Mch0BmZmZm5tqHQJqZmZkZmYhAzczMzExXiUAAAAAAgBWKQDMzMzOz04pAZmZmZuaRi0CamZmZGVCMQM3MzMxMDo1AAAAAAIDMjUAzMzMzs4qOQGZmZmbmSI9A\",\"dtype\":\"float64\",\"shape\":[75]}},\"selected\":{\"id\":\"45ae8261-5ec4-4893-9a41-2468ff1c12e7\",\"type\":\"Selection\"},\"selection_policy\":{\"id\":\"7775367c-f4e8-47ff-8eae-ff02c15cdde4\",\"type\":\"UnionRenderers\"}},\"id\":\"e8402dfb-190f-463f-8b18-45f5973cfc46\",\"type\":\"ColumnDataSource\"},{\"attributes\":{\"fill_alpha\":{\"value\":0.1},\"fill_color\":{\"value\":\"#1f77b4\"},\"line_alpha\":{\"value\":0.1},\"line_color\":{\"value\":\"#1f77b4\"},\"x\":{\"field\":\"x\"},\"y\":{\"field\":\"y\"}},\"id\":\"acee0f71-19f9-4cdc-9540-62fc160a0712\",\"type\":\"Circle\"},{\"attributes\":{\"fill_alpha\":{\"value\":0.7},\"fill_color\":{\"value\":\"#4daf4a\"},\"line_alpha\":{\"value\":0.7},\"line_color\":{\"value\":\"#4daf4a\"},\"x\":{\"field\":\"x\"},\"y\":{\"field\":\"y\"}},\"id\":\"9a2f4f6d-3744-4893-8c07-c370cd9a0d3f\",\"type\":\"Circle\"},{\"attributes\":{\"callback\":null,\"data\":{\"x\":{\"__ndarray__\":\"ar3/StDqv74TLt7KxPm/viQ+A4p9CsC+f0dDe/0VwL60keXGQB7Avku5iQneIsC+4F5f+xkkwL7cwqtSoSHAvgU9n9Y0G8C+h1HckKEQwL77RDS3rgHAvv0CspNE3L++DYAbPHqrv75EjtKgTWy/vuv34+bxar6+jtq3NoAwub7xhwLGjtWhvvW4UeP/WLg+MDH03qT51D64SSJKkOjmPiuDylEbUvU+Rc3ugVcpAj9BmHWGL4cKPxtOYt0BRgs/r/M/O0BpBD+LbHYwNST7Ppz1tBXJ5vA+bpuwSfai4z79vXXaobrUPpvfZ6Ub4cE+BYWadp80lD7LswL/5yqsvr2nvktRrre+Viy/9Ij5u76ueS3leCS+vnm9ymqv8r6+cb2W1D2+vr7db1CVv1K+vtzTar5J7L2+KtnCqEqyvr7gJhcY0YTGvn2Z9eFq89m+G0SmSNxS5b6AahfYibzkviOM7/yvBtI+AFf4T481BT+UCQcuLUYaP5BhXC5j7yg/1TCiTZatND9P8ioiHWA/Px9RY71CQkY/+BhM8sJbTT8dsnaU+XlSP/RBYVxij1Y/vvZ/35XVWj8g66xExy9fP+rSGwMtw2E/XAhhkiusZD80Vejm2EZnP9Acc01qMGk/3Q1RbqNNaj/sjKBFd49qP8boEvXWBWo/gp9g2orRaD/TpPpolh9nP+Y7QanZJmU/k2dffP8NYz91VdsvUdRgP2CwG7Ytylw/elim64KrVz+g+CK7getSPzGUAC5pSU4/YPxUwQRtST/vN8eyAZVIPzenGamz7lE/\",\"dtype\":\"float64\",\"shape\":[75]},\"y\":{\"__ndarray__\":\"GhExyth1ND/Sv8nbtpRIP2vylNV0PVE/aTum7souWD/At0SJ8fVgPw3Iuahxymc/MSNhhJWvcD/bTfBN02d3P2zb5nxnaoA/CD5h5MAGhz8NmeH1TyaQP+zrCsc9p5Y/LbKd76fGnz/bLW5ISEmmPww9YvTcQq8/JV2OstnstT8Er5Y7M8G+P0c+r3jqkcU/5h99k6ZBzj88bCIzFzjVP4enV8oyxN0//yH99nXg5D8qOpLLf0jtP5kqGJXUifQ/c9cS8kHP/D+/DpwzojQEQIEmwoanVwxA4lgXt9HgE0BSSZ2AJuIbQAMJih9jjiNA5q4l5INuK0AwTKYKRj0zQNv5fmq8/DpAaCJseHrtQkB/+zpwzoxKQM3MzMzMeFJAZmZmZmZqWEAAAAAAAFxeQM3MzMzMJmJAmpmZmZkfZUBmZmZmZhhoQDMzMzMzEWtAAAAAAAAKbkBmZmZmZoFwQM3MzMzM/XFAMzMzMzN6c0CamZmZmfZ0QAAAAAAAc3ZAZmZmZmbvd0DNzMzMzGt5QDMzMzMz6HpAmpmZmZlkfEAAAAAAAOF9QGZmZmZmXX9AZmZmZuZsgECamZmZGSuBQM3MzMxM6YFAAAAAAICngkAzMzMzs2WDQGZmZmbmI4RAmpmZmRnihEDNzMzMTKCFQAAAAACAXoZAMzMzM7Mch0BmZmZm5tqHQJqZmZkZmYhAzczMzExXiUAAAAAAgBWKQDMzMzOz04pAZmZmZuaRi0CamZmZGVCMQM3MzMxMDo1AAAAAAIDMjUAzMzMzs4qOQGZmZmbmSI9A\",\"dtype\":\"float64\",\"shape\":[75]}},\"selected\":{\"id\":\"90209935-69bb-4d0a-b6aa-069c4971cde2\",\"type\":\"Selection\"},\"selection_policy\":{\"id\":\"7225e1a1-b0db-4473-9a87-8d9c130f0ffe\",\"type\":\"UnionRenderers\"}},\"id\":\"d426ae7c-bb0d-4b9f-8325-a7f52eb50537\",\"type\":\"ColumnDataSource\"},{\"attributes\":{\"data_source\":{\"id\":\"d426ae7c-bb0d-4b9f-8325-a7f52eb50537\",\"type\":\"ColumnDataSource\"},\"glyph\":{\"id\":\"9a2f4f6d-3744-4893-8c07-c370cd9a0d3f\",\"type\":\"Circle\"},\"hover_glyph\":null,\"muted_glyph\":null,\"nonselection_glyph\":{\"id\":\"acee0f71-19f9-4cdc-9540-62fc160a0712\",\"type\":\"Circle\"},\"selection_glyph\":null,\"view\":{\"id\":\"b8b2c489-79b6-45ad-8753-42520b7c80e7\",\"type\":\"CDSView\"}},\"id\":\"673f177c-3ac5-4d22-a19f-9e57c73b9890\",\"type\":\"GlyphRenderer\"},{\"attributes\":{\"toolbar\":{\"id\":\"b0511fce-f662-490c-885d-3209dfcd8067\",\"type\":\"ProxyToolbar\"},\"toolbar_location\":\"above\"},\"id\":\"c1691065-fa68-4ede-9291-1d9c8e365b2c\",\"type\":\"ToolbarBox\"},{\"attributes\":{\"fill_alpha\":{\"value\":0.7},\"fill_color\":{\"value\":\"#4daf4a\"},\"line_alpha\":{\"value\":0.7},\"line_color\":{\"value\":\"#4daf4a\"},\"x\":{\"field\":\"x\"},\"y\":{\"field\":\"y\"}},\"id\":\"3b46b7f0-e8f8-40b7-a16c-d6ec7c3fc1a2\",\"type\":\"Circle\"},{\"attributes\":{\"data_source\":{\"id\":\"13cc4280-5590-4aa5-9699-2cf33fca1394\",\"type\":\"ColumnDataSource\"},\"glyph\":{\"id\":\"7f23d72f-582a-4eec-b430-40c3d7c38763\",\"type\":\"Line\"},\"hover_glyph\":null,\"muted_glyph\":null,\"nonselection_glyph\":{\"id\":\"0869579a-8562-42fa-97a7-37f354f7d1b5\",\"type\":\"Line\"},\"selection_glyph\":null,\"view\":{\"id\":\"f726f18f-b59d-4c36-8ee5-3f34cf19b3f6\",\"type\":\"CDSView\"}},\"id\":\"58055218-24fa-4b45-bf7f-6fa09630de47\",\"type\":\"GlyphRenderer\"},{\"attributes\":{},\"id\":\"7225e1a1-b0db-4473-9a87-8d9c130f0ffe\",\"type\":\"UnionRenderers\"},{\"attributes\":{},\"id\":\"45ae8261-5ec4-4893-9a41-2468ff1c12e7\",\"type\":\"Selection\"},{\"attributes\":{},\"id\":\"7b1118bc-6f62-4b85-9576-ce84cd3fd2dc\",\"type\":\"PanTool\"},{\"attributes\":{},\"id\":\"7775367c-f4e8-47ff-8eae-ff02c15cdde4\",\"type\":\"UnionRenderers\"},{\"attributes\":{\"bottom_units\":\"screen\",\"fill_alpha\":{\"value\":0.5},\"fill_color\":{\"value\":\"lightgrey\"},\"left_units\":\"screen\",\"level\":\"overlay\",\"line_alpha\":{\"value\":1.0},\"line_color\":{\"value\":\"black\"},\"line_dash\":[4,4],\"line_width\":{\"value\":2},\"plot\":null,\"render_mode\":\"css\",\"right_units\":\"screen\",\"top_units\":\"screen\"},\"id\":\"449260b3-b610-4869-b9dd-9e6d9150abc2\",\"type\":\"BoxAnnotation\"},{\"attributes\":{},\"id\":\"1f4c6eeb-3133-40ff-9fcd-09f1b0d6c7bb\",\"type\":\"Selection\"},{\"attributes\":{},\"id\":\"b5d5581a-bca2-4203-aea0-091f4f6a09c1\",\"type\":\"UnionRenderers\"},{\"attributes\":{\"callback\":null,\"end\":0.01,\"start\":1020},\"id\":\"ad173d9b-b633-435b-b7df-520bf5327eec\",\"type\":\"Range1d\"},{\"attributes\":{},\"id\":\"1de67332-6db6-4e8d-a4b0-60092e06ee17\",\"type\":\"Selection\"},{\"attributes\":{},\"id\":\"8a26feae-a7e7-4eb0-926f-b2f98eb0f3de\",\"type\":\"UnionRenderers\"},{\"attributes\":{},\"id\":\"66134dbc-96ca-4e6b-9121-bb87ee37b644\",\"type\":\"WheelZoomTool\"},{\"attributes\":{},\"id\":\"c149407c-8ab8-4b4f-8749-d7870efa0c46\",\"type\":\"Selection\"},{\"attributes\":{},\"id\":\"0d1a6f3f-a2a3-4968-8de5-e67122d3f28f\",\"type\":\"UnionRenderers\"},{\"attributes\":{\"overlay\":{\"id\":\"449260b3-b610-4869-b9dd-9e6d9150abc2\",\"type\":\"BoxAnnotation\"}},\"id\":\"baa451dc-0b1f-4257-b20e-d484f3ff75ed\",\"type\":\"BoxZoomTool\"},{\"attributes\":{},\"id\":\"b9ba1606-1c73-4840-974e-1cb4e46691c0\",\"type\":\"Selection\"},{\"attributes\":{},\"id\":\"66f23b80-6ca7-47d7-9a36-7dd3e708a4b4\",\"type\":\"SaveTool\"},{\"attributes\":{\"source\":{\"id\":\"e8402dfb-190f-463f-8b18-45f5973cfc46\",\"type\":\"ColumnDataSource\"}},\"id\":\"d2cb9e4e-3405-4044-8ff7-02be552fbd86\",\"type\":\"CDSView\"},{\"attributes\":{},\"id\":\"b7505851-37b1-492a-a0e6-f2404de06a45\",\"type\":\"UnionRenderers\"},{\"attributes\":{\"children\":[{\"id\":\"c1691065-fa68-4ede-9291-1d9c8e365b2c\",\"type\":\"ToolbarBox\"},{\"id\":\"435d6640-b3a6-449d-901f-03585622eb3f\",\"type\":\"Column\"}]},\"id\":\"ce1bb45d-98e5-47d4-ad9d-fd412fb72b79\",\"type\":\"Column\"},{\"attributes\":{},\"id\":\"f1e0477f-645f-4b04-a68e-260f31fabf49\",\"type\":\"ResetTool\"},{\"attributes\":{},\"id\":\"775590af-772f-4d84-8870-44d8540e1fc4\",\"type\":\"HelpTool\"},{\"attributes\":{\"tools\":[{\"id\":\"7b1118bc-6f62-4b85-9576-ce84cd3fd2dc\",\"type\":\"PanTool\"},{\"id\":\"66134dbc-96ca-4e6b-9121-bb87ee37b644\",\"type\":\"WheelZoomTool\"},{\"id\":\"baa451dc-0b1f-4257-b20e-d484f3ff75ed\",\"type\":\"BoxZoomTool\"},{\"id\":\"66f23b80-6ca7-47d7-9a36-7dd3e708a4b4\",\"type\":\"SaveTool\"},{\"id\":\"f1e0477f-645f-4b04-a68e-260f31fabf49\",\"type\":\"ResetTool\"},{\"id\":\"775590af-772f-4d84-8870-44d8540e1fc4\",\"type\":\"HelpTool\"},{\"id\":\"deaa03ac-0c21-4982-8cd7-4cf3429786bb\",\"type\":\"PanTool\"},{\"id\":\"fd8695e8-4970-43d7-9873-58da748abc52\",\"type\":\"WheelZoomTool\"},{\"id\":\"0a4d1435-f5b7-4f9d-8a30-5eeb93173d0d\",\"type\":\"BoxZoomTool\"},{\"id\":\"cbd68ba3-5b6b-4243-b5b4-f256660a1f9a\",\"type\":\"SaveTool\"},{\"id\":\"fcd1b7d6-f495-40a8-9546-ff8e9340ab77\",\"type\":\"ResetTool\"},{\"id\":\"98ff3b0b-11de-4ca9-a32c-d853103f9c05\",\"type\":\"HelpTool\"}]},\"id\":\"b0511fce-f662-490c-885d-3209dfcd8067\",\"type\":\"ProxyToolbar\"},{\"attributes\":{\"fill_alpha\":{\"value\":0.7},\"fill_color\":{\"value\":\"#984ea3\"},\"line_alpha\":{\"value\":0.7},\"line_color\":{\"value\":\"#984ea3\"},\"x\":{\"field\":\"x\"},\"y\":{\"field\":\"y\"}},\"id\":\"2dc2c777-30ff-4741-92bb-5e8fdacde4bb\",\"type\":\"Square\"},{\"attributes\":{\"source\":{\"id\":\"f16a17bd-21cd-4838-b85e-d02867676def\",\"type\":\"ColumnDataSource\"}},\"id\":\"12b35083-dfd7-446a-b37c-6ccea90a1163\",\"type\":\"CDSView\"},{\"attributes\":{\"data_source\":{\"id\":\"b2abb2f6-e449-4749-8b40-c266a7d5b598\",\"type\":\"ColumnDataSource\"},\"glyph\":{\"id\":\"33c80533-38b5-454d-a3a8-9da410f9eeea\",\"type\":\"Line\"},\"hover_glyph\":null,\"muted_glyph\":null,\"nonselection_glyph\":{\"id\":\"4a4a5d2a-76b6-44a6-9208-d18b53459329\",\"type\":\"Line\"},\"selection_glyph\":null,\"view\":{\"id\":\"861fa35b-b2e3-41cb-bddd-240b2056641d\",\"type\":\"CDSView\"}},\"id\":\"3bc2a0d2-1ef5-43a6-891a-521e393229c4\",\"type\":\"GlyphRenderer\"},{\"attributes\":{\"callback\":null,\"data\":{\"x\":{\"__ndarray__\":\"Ll7jf5jltr4MA9kQgfm2vnMCTggqIre+cryq+8lKt756G0Ir0XC3vidLPwsKlLe+RfZvt0q0t76wXSR1ZNG3vvGZ93Yv67e+8Db7lnoBuL5ce8ZKGhS4vjZZmALlIri+91CS17EtuL6kMl82jTS4vtL0iC8RJ7i+rHyHrGbftr6UMJ1oDAWxvlyqZFFLsoq+evnvokKqtj5u1YC/Hd7QPoWP3BVjguE+YW1Al6B97z4eeZc49Zz3Phm7IA2OXvg+R+68TAL88T7gZnsB2kbnPvy5lN4Gkds+F6uv1oT5zD60YKKZF0C4PqIXGekRN4Y+rNwjm3SApr7Ww7LWdPGzvrj5kns4dLi+b0X0SLy9ur48JVETECi8vudEHy4y9by+P113qLpJvb5zxIg36G+9vmAU+PwTgL2+c/X5you0vr5vanX2kDrHvgSF7BcZsdy+LWbCRecf6743Lsax1izzvujTu0z/OvC+JFYi42Q/3z5EETc1F6ELP5M6JT8WmiA/lpQyyAYALz9KP2sDWm85P00ThyzvKEM/qTKR/8GLSj84lFhU72lRP9t+Uh0NCFY/0ODRLxoFWz8pT/f+IR1gPxs0Kmdlv2I/d4Z8Gq81Zj9+OHjBCGNpP+G9Hmm7xGs/aRqDs3wibT8kG0s961htP+Eng2Q3c2w/AqVqweecaj9CSlpTExtoP9dAgZtvQmU/oed0dDNXYj8uwshWjeFeP3DtJYWpEVk/llMHZOtsUz9hTVtUngVNPxmJnwmnvEU/v73UBEyzQT+6ntmPw0lCP/bwyR0DFU4/\",\"dtype\":\"float64\",\"shape\":[75]},\"y\":{\"__ndarray__\":\"GhExyth1ND/Sv8nbtpRIP2vylNV0PVE/aTum7souWD/At0SJ8fVgPw3Iuahxymc/MSNhhJWvcD/bTfBN02d3P2zb5nxnaoA/CD5h5MAGhz8NmeH1TyaQP+zrCsc9p5Y/LbKd76fGnz/bLW5ISEmmPww9YvTcQq8/JV2OstnstT8Er5Y7M8G+P0c+r3jqkcU/5h99k6ZBzj88bCIzFzjVP4enV8oyxN0//yH99nXg5D8qOpLLf0jtP5kqGJXUifQ/c9cS8kHP/D+/DpwzojQEQIEmwoanVwxA4lgXt9HgE0BSSZ2AJuIbQAMJih9jjiNA5q4l5INuK0AwTKYKRj0zQNv5fmq8/DpAaCJseHrtQkB/+zpwzoxKQM3MzMzMeFJAZmZmZmZqWEAAAAAAAFxeQM3MzMzMJmJAmpmZmZkfZUBmZmZmZhhoQDMzMzMzEWtAAAAAAAAKbkBmZmZmZoFwQM3MzMzM/XFAMzMzMzN6c0CamZmZmfZ0QAAAAAAAc3ZAZmZmZmbvd0DNzMzMzGt5QDMzMzMz6HpAmpmZmZlkfEAAAAAAAOF9QGZmZmZmXX9AZmZmZuZsgECamZmZGSuBQM3MzMxM6YFAAAAAAICngkAzMzMzs2WDQGZmZmbmI4RAmpmZmRnihEDNzMzMTKCFQAAAAACAXoZAMzMzM7Mch0BmZmZm5tqHQJqZmZkZmYhAzczMzExXiUAAAAAAgBWKQDMzMzOz04pAZmZmZuaRi0CamZmZGVCMQM3MzMxMDo1AAAAAAIDMjUAzMzMzs4qOQGZmZmbmSI9A\",\"dtype\":\"float64\",\"shape\":[75]}},\"selected\":{\"id\":\"1de67332-6db6-4e8d-a4b0-60092e06ee17\",\"type\":\"Selection\"},\"selection_policy\":{\"id\":\"8a26feae-a7e7-4eb0-926f-b2f98eb0f3de\",\"type\":\"UnionRenderers\"}},\"id\":\"f16a17bd-21cd-4838-b85e-d02867676def\",\"type\":\"ColumnDataSource\"},{\"attributes\":{\"callback\":null,\"data\":{\"x\":{\"__ndarray__\":\"Ll7jf5jltr4MA9kQgfm2vnMCTggqIre+cryq+8lKt756G0Ir0XC3vidLPwsKlLe+RfZvt0q0t76wXSR1ZNG3vvGZ93Yv67e+8Db7lnoBuL5ce8ZKGhS4vjZZmALlIri+91CS17EtuL6kMl82jTS4vtL0iC8RJ7i+rHyHrGbftr6UMJ1oDAWxvlyqZFFLsoq+evnvokKqtj5u1YC/Hd7QPoWP3BVjguE+YW1Al6B97z4eeZc49Zz3Phm7IA2OXvg+R+68TAL88T7gZnsB2kbnPvy5lN4Gkds+F6uv1oT5zD60YKKZF0C4PqIXGekRN4Y+rNwjm3SApr7Ww7LWdPGzvrj5kns4dLi+b0X0SLy9ur48JVETECi8vudEHy4y9by+P113qLpJvb5zxIg36G+9vmAU+PwTgL2+c/X5you0vr5vanX2kDrHvgSF7BcZsdy+LWbCRecf6743Lsax1izzvujTu0z/OvC+JFYi42Q/3z5EETc1F6ELP5M6JT8WmiA/lpQyyAYALz9KP2sDWm85P00ThyzvKEM/qTKR/8GLSj84lFhU72lRP9t+Uh0NCFY/0ODRLxoFWz8pT/f+IR1gPxs0Kmdlv2I/d4Z8Gq81Zj9+OHjBCGNpP+G9Hmm7xGs/aRqDs3wibT8kG0s961htP+Eng2Q3c2w/AqVqweecaj9CSlpTExtoP9dAgZtvQmU/oed0dDNXYj8uwshWjeFeP3DtJYWpEVk/llMHZOtsUz9hTVtUngVNPxmJnwmnvEU/v73UBEyzQT+6ntmPw0lCP/bwyR0DFU4/\",\"dtype\":\"float64\",\"shape\":[75]},\"y\":{\"__ndarray__\":\"GhExyth1ND/Sv8nbtpRIP2vylNV0PVE/aTum7souWD/At0SJ8fVgPw3Iuahxymc/MSNhhJWvcD/bTfBN02d3P2zb5nxnaoA/CD5h5MAGhz8NmeH1TyaQP+zrCsc9p5Y/LbKd76fGnz/bLW5ISEmmPww9YvTcQq8/JV2OstnstT8Er5Y7M8G+P0c+r3jqkcU/5h99k6ZBzj88bCIzFzjVP4enV8oyxN0//yH99nXg5D8qOpLLf0jtP5kqGJXUifQ/c9cS8kHP/D+/DpwzojQEQIEmwoanVwxA4lgXt9HgE0BSSZ2AJuIbQAMJih9jjiNA5q4l5INuK0AwTKYKRj0zQNv5fmq8/DpAaCJseHrtQkB/+zpwzoxKQM3MzMzMeFJAZmZmZmZqWEAAAAAAAFxeQM3MzMzMJmJAmpmZmZkfZUBmZmZmZhhoQDMzMzMzEWtAAAAAAAAKbkBmZmZmZoFwQM3MzMzM/XFAMzMzMzN6c0CamZmZmfZ0QAAAAAAAc3ZAZmZmZmbvd0DNzMzMzGt5QDMzMzMz6HpAmpmZmZlkfEAAAAAAAOF9QGZmZmZmXX9AZmZmZuZsgECamZmZGSuBQM3MzMxM6YFAAAAAAICngkAzMzMzs2WDQGZmZmbmI4RAmpmZmRnihEDNzMzMTKCFQAAAAACAXoZAMzMzM7Mch0BmZmZm5tqHQJqZmZkZmYhAzczMzExXiUAAAAAAgBWKQDMzMzOz04pAZmZmZuaRi0CamZmZGVCMQM3MzMxMDo1AAAAAAIDMjUAzMzMzs4qOQGZmZmbmSI9A\",\"dtype\":\"float64\",\"shape\":[75]}},\"selected\":{\"id\":\"51128e3a-a90d-41f5-92ff-b84b3cf0a31c\",\"type\":\"Selection\"},\"selection_policy\":{\"id\":\"f9486686-6f62-436b-8000-d9bd4fd191d5\",\"type\":\"UnionRenderers\"}},\"id\":\"5b0ae380-37bb-4039-9c2a-7aa1b8fbeaf5\",\"type\":\"ColumnDataSource\"},{\"attributes\":{\"line_alpha\":0.6,\"line_color\":\"#984ea3\",\"line_width\":3,\"x\":{\"field\":\"x\"},\"y\":{\"field\":\"y\"}},\"id\":\"57e251e0-fffa-4597-bec2-d3f4645b6bd5\",\"type\":\"Line\"},{\"attributes\":{},\"id\":\"70cc14b8-4578-475e-8baa-e8eaeb71ca2e\",\"type\":\"BasicTickFormatter\"},{\"attributes\":{\"fill_alpha\":{\"value\":0.7},\"fill_color\":{\"value\":\"#377eb8\"},\"line_alpha\":{\"value\":0.7},\"line_color\":{\"value\":\"#377eb8\"},\"x\":{\"field\":\"x\"},\"y\":{\"field\":\"y\"}},\"id\":\"4dabcb7c-0723-4960-aff0-29ca882a5219\",\"type\":\"Triangle\"},{\"attributes\":{\"line_alpha\":0.1,\"line_color\":\"#1f77b4\",\"line_width\":3,\"x\":{\"field\":\"x\"},\"y\":{\"field\":\"y\"}},\"id\":\"b46662a6-3ea5-4691-bde1-b28e0a24e612\",\"type\":\"Line\"},{\"attributes\":{\"callback\":null,\"data\":{\"x\":{\"__ndarray__\":\"ar3/StDqv74TLt7KxPm/viQ+A4p9CsC+f0dDe/0VwL60keXGQB7Avku5iQneIsC+4F5f+xkkwL7cwqtSoSHAvgU9n9Y0G8C+h1HckKEQwL77RDS3rgHAvv0CspNE3L++DYAbPHqrv75EjtKgTWy/vuv34+bxar6+jtq3NoAwub7xhwLGjtWhvvW4UeP/WLg+MDH03qT51D64SSJKkOjmPiuDylEbUvU+Rc3ugVcpAj9BmHWGL4cKPxtOYt0BRgs/r/M/O0BpBD+LbHYwNST7Ppz1tBXJ5vA+bpuwSfai4z79vXXaobrUPpvfZ6Ub4cE+BYWadp80lD7LswL/5yqsvr2nvktRrre+Viy/9Ij5u76ueS3leCS+vnm9ymqv8r6+cb2W1D2+vr7db1CVv1K+vtzTar5J7L2+KtnCqEqyvr7gJhcY0YTGvn2Z9eFq89m+G0SmSNxS5b6AahfYibzkviOM7/yvBtI+AFf4T481BT+UCQcuLUYaP5BhXC5j7yg/1TCiTZatND9P8ioiHWA/Px9RY71CQkY/+BhM8sJbTT8dsnaU+XlSP/RBYVxij1Y/vvZ/35XVWj8g66xExy9fP+rSGwMtw2E/XAhhkiusZD80Vejm2EZnP9Acc01qMGk/3Q1RbqNNaj/sjKBFd49qP8boEvXWBWo/gp9g2orRaD/TpPpolh9nP+Y7QanZJmU/k2dffP8NYz91VdsvUdRgP2CwG7Ytylw/elim64KrVz+g+CK7getSPzGUAC5pSU4/YPxUwQRtST/vN8eyAZVIPzenGamz7lE/\",\"dtype\":\"float64\",\"shape\":[75]},\"y\":{\"__ndarray__\":\"GhExyth1ND/Sv8nbtpRIP2vylNV0PVE/aTum7souWD/At0SJ8fVgPw3Iuahxymc/MSNhhJWvcD/bTfBN02d3P2zb5nxnaoA/CD5h5MAGhz8NmeH1TyaQP+zrCsc9p5Y/LbKd76fGnz/bLW5ISEmmPww9YvTcQq8/JV2OstnstT8Er5Y7M8G+P0c+r3jqkcU/5h99k6ZBzj88bCIzFzjVP4enV8oyxN0//yH99nXg5D8qOpLLf0jtP5kqGJXUifQ/c9cS8kHP/D+/DpwzojQEQIEmwoanVwxA4lgXt9HgE0BSSZ2AJuIbQAMJih9jjiNA5q4l5INuK0AwTKYKRj0zQNv5fmq8/DpAaCJseHrtQkB/+zpwzoxKQM3MzMzMeFJAZmZmZmZqWEAAAAAAAFxeQM3MzMzMJmJAmpmZmZkfZUBmZmZmZhhoQDMzMzMzEWtAAAAAAAAKbkBmZmZmZoFwQM3MzMzM/XFAMzMzMzN6c0CamZmZmfZ0QAAAAAAAc3ZAZmZmZmbvd0DNzMzMzGt5QDMzMzMz6HpAmpmZmZlkfEAAAAAAAOF9QGZmZmZmXX9AZmZmZuZsgECamZmZGSuBQM3MzMxM6YFAAAAAAICngkAzMzMzs2WDQGZmZmbmI4RAmpmZmRnihEDNzMzMTKCFQAAAAACAXoZAMzMzM7Mch0BmZmZm5tqHQJqZmZkZmYhAzczMzExXiUAAAAAAgBWKQDMzMzOz04pAZmZmZuaRi0CamZmZGVCMQM3MzMxMDo1AAAAAAIDMjUAzMzMzs4qOQGZmZmbmSI9A\",\"dtype\":\"float64\",\"shape\":[75]}},\"selected\":{\"id\":\"1086fbfd-2552-4fd6-bc0a-647e5c55e31a\",\"type\":\"Selection\"},\"selection_policy\":{\"id\":\"5cf933d4-7f0d-4221-a7e8-8477274c5e67\",\"type\":\"UnionRenderers\"}},\"id\":\"b2abb2f6-e449-4749-8b40-c266a7d5b598\",\"type\":\"ColumnDataSource\"},{\"attributes\":{\"callback\":null,\"data\":{\"x\":{\"__ndarray__\":\"OsYLQvqOtb6aPcm9jKW1vh5UmKxP1LW+2BzdbwoEtr56LtV03TG2vp24mQ+fXba+trxHUSmHtr4rpnkhW662vtO5baUR07a+KPlA7ib1tr4rWClcdxS3vpu5JV7kMLe+YDAollFKt74djEUJ5GG3vmPvnrbrjLe+WOEgYfIbt766/md9tkezvra4G6piXKK+QxNjcyHUpT4EISyOgS/HPpllLhi1Kdo+egWr2QFp6D618/teFJ7yPrG2mereO/M+I2Ap+sUL7D7Coe+vErvhPlUpMwiLINQ+nNYs4OdNwz40WrZLutKnPmz4hDwUZJO+mayTqbMfr76KhQ14hvq1vqem03ooJrm+7NGP96esur4oFqMVhY67vgRVgzI6+ru+3SLxz4covL7jRgYn8Ey8vpiaawRPXry+SOn6zCegvb4kVyOh4cTGvqGmWAnMKd2+HKLDrMt17b6C1ijK54L3vkt7Tc83wvu+ft0c/46G6r7lVwVqqYL2Pr+cOAzDfRU/jby82VdAJz9Z6PdGRrQ0P16Q9ubxhUA/0u1jV7b4Rz+DUT6nO1lQP0LWlqOHZlU/rKWzpaQNWz8/nRtoeJJgP8S1mxb8umM/tDQzU9PXZz8+ZCxEF7VrP84A3Er9pW4/MVU/nvUjcD+NZuHC7CtwPzx+rDa42m4/7c7umh0TbD9l+It1Q3VoP/2jVxGajmQ/GWLFxeLSYD9STP6g1+NaP0mTwf+FxlQ/cl1bqg2lTj8Hx/fn7sVFPzTjgSoSVj8/ka5YziWmOT9TV+oUhYg9P5derHdG9Es/\",\"dtype\":\"float64\",\"shape\":[75]},\"y\":{\"__ndarray__\":\"GhExyth1ND/Sv8nbtpRIP2vylNV0PVE/aTum7souWD/At0SJ8fVgPw3Iuahxymc/MSNhhJWvcD/bTfBN02d3P2zb5nxnaoA/CD5h5MAGhz8NmeH1TyaQP+zrCsc9p5Y/LbKd76fGnz/bLW5ISEmmPww9YvTcQq8/JV2OstnstT8Er5Y7M8G+P0c+r3jqkcU/5h99k6ZBzj88bCIzFzjVP4enV8oyxN0//yH99nXg5D8qOpLLf0jtP5kqGJXUifQ/c9cS8kHP/D+/DpwzojQEQIEmwoanVwxA4lgXt9HgE0BSSZ2AJuIbQAMJih9jjiNA5q4l5INuK0AwTKYKRj0zQNv5fmq8/DpAaCJseHrtQkB/+zpwzoxKQM3MzMzMeFJAZmZmZmZqWEAAAAAAAFxeQM3MzMzMJmJAmpmZmZkfZUBmZmZmZhhoQDMzMzMzEWtAAAAAAAAKbkBmZmZmZoFwQM3MzMzM/XFAMzMzMzN6c0CamZmZmfZ0QAAAAAAAc3ZAZmZmZmbvd0DNzMzMzGt5QDMzMzMz6HpAmpmZmZlkfEAAAAAAAOF9QGZmZmZmXX9AZmZmZuZsgECamZmZGSuBQM3MzMxM6YFAAAAAAICngkAzMzMzs2WDQGZmZmbmI4RAmpmZmRnihEDNzMzMTKCFQAAAAACAXoZAMzMzM7Mch0BmZmZm5tqHQJqZmZkZmYhAzczMzExXiUAAAAAAgBWKQDMzMzOz04pAZmZmZuaRi0CamZmZGVCMQM3MzMxMDo1AAAAAAIDMjUAzMzMzs4qOQGZmZmbmSI9A\",\"dtype\":\"float64\",\"shape\":[75]}},\"selected\":{\"id\":\"c149407c-8ab8-4b4f-8749-d7870efa0c46\",\"type\":\"Selection\"},\"selection_policy\":{\"id\":\"0d1a6f3f-a2a3-4968-8de5-e67122d3f28f\",\"type\":\"UnionRenderers\"}},\"id\":\"13cc4280-5590-4aa5-9699-2cf33fca1394\",\"type\":\"ColumnDataSource\"},{\"attributes\":{\"data_source\":{\"id\":\"1f48709b-df8e-4bb4-8d18-530a29ebb87d\",\"type\":\"ColumnDataSource\"},\"glyph\":{\"id\":\"4dabcb7c-0723-4960-aff0-29ca882a5219\",\"type\":\"Triangle\"},\"hover_glyph\":null,\"muted_glyph\":null,\"nonselection_glyph\":{\"id\":\"bde848fa-7a7c-456b-b388-ae3c1ac2bb7b\",\"type\":\"Triangle\"},\"selection_glyph\":null,\"view\":{\"id\":\"1fdeb229-433e-4039-9519-a5a615212e69\",\"type\":\"CDSView\"}},\"id\":\"360f5438-e3b4-49c1-baf5-36d0318f0463\",\"type\":\"GlyphRenderer\"},{\"attributes\":{\"line_alpha\":0.1,\"line_color\":\"#1f77b4\",\"line_width\":1.5,\"x\":{\"field\":\"x\"},\"y\":{\"field\":\"y\"}},\"id\":\"884bc77d-7201-4b24-b021-431c5e40f56d\",\"type\":\"Line\"},{\"attributes\":{\"callback\":null,\"data\":{\"x\":{\"__ndarray__\":\"Ll7jf5jltr4MA9kQgfm2vnMCTggqIre+cryq+8lKt756G0Ir0XC3vidLPwsKlLe+RfZvt0q0t76wXSR1ZNG3vvGZ93Yv67e+8Db7lnoBuL5ce8ZKGhS4vjZZmALlIri+91CS17EtuL6kMl82jTS4vtL0iC8RJ7i+rHyHrGbftr6UMJ1oDAWxvlyqZFFLsoq+evnvokKqtj5u1YC/Hd7QPoWP3BVjguE+YW1Al6B97z4eeZc49Zz3Phm7IA2OXvg+R+68TAL88T7gZnsB2kbnPvy5lN4Gkds+F6uv1oT5zD60YKKZF0C4PqIXGekRN4Y+rNwjm3SApr7Ww7LWdPGzvrj5kns4dLi+b0X0SLy9ur48JVETECi8vudEHy4y9by+P113qLpJvb5zxIg36G+9vmAU+PwTgL2+c/X5you0vr5vanX2kDrHvgSF7BcZsdy+LWbCRecf6743Lsax1izzvujTu0z/OvC+JFYi42Q/3z5EETc1F6ELP5M6JT8WmiA/lpQyyAYALz9KP2sDWm85P00ThyzvKEM/qTKR/8GLSj84lFhU72lRP9t+Uh0NCFY/0ODRLxoFWz8pT/f+IR1gPxs0Kmdlv2I/d4Z8Gq81Zj9+OHjBCGNpP+G9Hmm7xGs/aRqDs3wibT8kG0s961htP+Eng2Q3c2w/AqVqweecaj9CSlpTExtoP9dAgZtvQmU/oed0dDNXYj8uwshWjeFeP3DtJYWpEVk/llMHZOtsUz9hTVtUngVNPxmJnwmnvEU/v73UBEyzQT+6ntmPw0lCP/bwyR0DFU4/\",\"dtype\":\"float64\",\"shape\":[75]},\"y\":{\"__ndarray__\":\"GhExyth1ND/Sv8nbtpRIP2vylNV0PVE/aTum7souWD/At0SJ8fVgPw3Iuahxymc/MSNhhJWvcD/bTfBN02d3P2zb5nxnaoA/CD5h5MAGhz8NmeH1TyaQP+zrCsc9p5Y/LbKd76fGnz/bLW5ISEmmPww9YvTcQq8/JV2OstnstT8Er5Y7M8G+P0c+r3jqkcU/5h99k6ZBzj88bCIzFzjVP4enV8oyxN0//yH99nXg5D8qOpLLf0jtP5kqGJXUifQ/c9cS8kHP/D+/DpwzojQEQIEmwoanVwxA4lgXt9HgE0BSSZ2AJuIbQAMJih9jjiNA5q4l5INuK0AwTKYKRj0zQNv5fmq8/DpAaCJseHrtQkB/+zpwzoxKQM3MzMzMeFJAZmZmZmZqWEAAAAAAAFxeQM3MzMzMJmJAmpmZmZkfZUBmZmZmZhhoQDMzMzMzEWtAAAAAAAAKbkBmZmZmZoFwQM3MzMzM/XFAMzMzMzN6c0CamZmZmfZ0QAAAAAAAc3ZAZmZmZmbvd0DNzMzMzGt5QDMzMzMz6HpAmpmZmZlkfEAAAAAAAOF9QGZmZmZmXX9AZmZmZuZsgECamZmZGSuBQM3MzMxM6YFAAAAAAICngkAzMzMzs2WDQGZmZmbmI4RAmpmZmRnihEDNzMzMTKCFQAAAAACAXoZAMzMzM7Mch0BmZmZm5tqHQJqZmZkZmYhAzczMzExXiUAAAAAAgBWKQDMzMzOz04pAZmZmZuaRi0CamZmZGVCMQM3MzMxMDo1AAAAAAIDMjUAzMzMzs4qOQGZmZmbmSI9A\",\"dtype\":\"float64\",\"shape\":[75]}},\"selected\":{\"id\":\"1f4c6eeb-3133-40ff-9fcd-09f1b0d6c7bb\",\"type\":\"Selection\"},\"selection_policy\":{\"id\":\"b5d5581a-bca2-4203-aea0-091f4f6a09c1\",\"type\":\"UnionRenderers\"}},\"id\":\"1e9029f1-4c3e-42c0-80bc-b567bdd08ac7\",\"type\":\"ColumnDataSource\"},{\"attributes\":{\"data_source\":{\"id\":\"e8402dfb-190f-463f-8b18-45f5973cfc46\",\"type\":\"ColumnDataSource\"},\"glyph\":{\"id\":\"539926c4-0884-461e-bba0-cf07bb4bb2da\",\"type\":\"Line\"},\"hover_glyph\":null,\"muted_glyph\":null,\"nonselection_glyph\":{\"id\":\"884bc77d-7201-4b24-b021-431c5e40f56d\",\"type\":\"Line\"},\"selection_glyph\":null,\"view\":{\"id\":\"d2cb9e4e-3405-4044-8ff7-02be552fbd86\",\"type\":\"CDSView\"}},\"id\":\"3b46b4f0-e4ab-4453-be0e-6bbd3793d706\",\"type\":\"GlyphRenderer\"},{\"attributes\":{\"fill_alpha\":{\"value\":0.1},\"fill_color\":{\"value\":\"#1f77b4\"},\"line_alpha\":{\"value\":0.1},\"line_color\":{\"value\":\"#1f77b4\"},\"x\":{\"field\":\"x\"},\"y\":{\"field\":\"y\"}},\"id\":\"bde848fa-7a7c-456b-b388-ae3c1ac2bb7b\",\"type\":\"Triangle\"},{\"attributes\":{\"children\":[{\"id\":\"02be714b-e3ad-45de-bb22-ea2d74399c99\",\"type\":\"Row\"}]},\"id\":\"435d6640-b3a6-449d-901f-03585622eb3f\",\"type\":\"Column\"},{\"attributes\":{\"data_source\":{\"id\":\"f16a17bd-21cd-4838-b85e-d02867676def\",\"type\":\"ColumnDataSource\"},\"glyph\":{\"id\":\"2dc2c777-30ff-4741-92bb-5e8fdacde4bb\",\"type\":\"Square\"},\"hover_glyph\":null,\"muted_glyph\":null,\"nonselection_glyph\":{\"id\":\"07b4f393-5358-4a48-b99f-89c19f538399\",\"type\":\"Square\"},\"selection_glyph\":null,\"view\":{\"id\":\"12b35083-dfd7-446a-b37c-6ccea90a1163\",\"type\":\"CDSView\"}},\"id\":\"3f9e7486-ee10-4ca9-9d64-156ed44469c0\",\"type\":\"GlyphRenderer\"},{\"attributes\":{\"fill_alpha\":{\"value\":0.1},\"fill_color\":{\"value\":\"#1f77b4\"},\"line_alpha\":{\"value\":0.1},\"line_color\":{\"value\":\"#1f77b4\"},\"x\":{\"field\":\"x\"},\"y\":{\"field\":\"y\"}},\"id\":\"07b4f393-5358-4a48-b99f-89c19f538399\",\"type\":\"Square\"},{\"attributes\":{\"data_source\":{\"id\":\"1e9029f1-4c3e-42c0-80bc-b567bdd08ac7\",\"type\":\"ColumnDataSource\"},\"glyph\":{\"id\":\"57e251e0-fffa-4597-bec2-d3f4645b6bd5\",\"type\":\"Line\"},\"hover_glyph\":null,\"muted_glyph\":null,\"nonselection_glyph\":{\"id\":\"b46662a6-3ea5-4691-bde1-b28e0a24e612\",\"type\":\"Line\"},\"selection_glyph\":null,\"view\":{\"id\":\"e010cbd4-fde4-4dd1-8f6e-95a6355704c7\",\"type\":\"CDSView\"}},\"id\":\"9c160f77-ba45-4d26-b52a-f20377f5034f\",\"type\":\"GlyphRenderer\"},{\"attributes\":{\"source\":{\"id\":\"b2abb2f6-e449-4749-8b40-c266a7d5b598\",\"type\":\"ColumnDataSource\"}},\"id\":\"861fa35b-b2e3-41cb-bddd-240b2056641d\",\"type\":\"CDSView\"},{\"attributes\":{\"callback\":null,\"data\":{\"x\":{\"__ndarray__\":\"ar3/StDqv74TLt7KxPm/viQ+A4p9CsC+f0dDe/0VwL60keXGQB7Avku5iQneIsC+4F5f+xkkwL7cwqtSoSHAvgU9n9Y0G8C+h1HckKEQwL77RDS3rgHAvv0CspNE3L++DYAbPHqrv75EjtKgTWy/vuv34+bxar6+jtq3NoAwub7xhwLGjtWhvvW4UeP/WLg+MDH03qT51D64SSJKkOjmPiuDylEbUvU+Rc3ugVcpAj9BmHWGL4cKPxtOYt0BRgs/r/M/O0BpBD+LbHYwNST7Ppz1tBXJ5vA+bpuwSfai4z79vXXaobrUPpvfZ6Ub4cE+BYWadp80lD7LswL/5yqsvr2nvktRrre+Viy/9Ij5u76ueS3leCS+vnm9ymqv8r6+cb2W1D2+vr7db1CVv1K+vtzTar5J7L2+KtnCqEqyvr7gJhcY0YTGvn2Z9eFq89m+G0SmSNxS5b6AahfYibzkviOM7/yvBtI+AFf4T481BT+UCQcuLUYaP5BhXC5j7yg/1TCiTZatND9P8ioiHWA/Px9RY71CQkY/+BhM8sJbTT8dsnaU+XlSP/RBYVxij1Y/vvZ/35XVWj8g66xExy9fP+rSGwMtw2E/XAhhkiusZD80Vejm2EZnP9Acc01qMGk/3Q1RbqNNaj/sjKBFd49qP8boEvXWBWo/gp9g2orRaD/TpPpolh9nP+Y7QanZJmU/k2dffP8NYz91VdsvUdRgP2CwG7Ytylw/elim64KrVz+g+CK7getSPzGUAC5pSU4/YPxUwQRtST/vN8eyAZVIPzenGamz7lE/\",\"dtype\":\"float64\",\"shape\":[75]},\"y\":{\"__ndarray__\":\"GhExyth1ND/Sv8nbtpRIP2vylNV0PVE/aTum7souWD/At0SJ8fVgPw3Iuahxymc/MSNhhJWvcD/bTfBN02d3P2zb5nxnaoA/CD5h5MAGhz8NmeH1TyaQP+zrCsc9p5Y/LbKd76fGnz/bLW5ISEmmPww9YvTcQq8/JV2OstnstT8Er5Y7M8G+P0c+r3jqkcU/5h99k6ZBzj88bCIzFzjVP4enV8oyxN0//yH99nXg5D8qOpLLf0jtP5kqGJXUifQ/c9cS8kHP/D+/DpwzojQEQIEmwoanVwxA4lgXt9HgE0BSSZ2AJuIbQAMJih9jjiNA5q4l5INuK0AwTKYKRj0zQNv5fmq8/DpAaCJseHrtQkB/+zpwzoxKQM3MzMzMeFJAZmZmZmZqWEAAAAAAAFxeQM3MzMzMJmJAmpmZmZkfZUBmZmZmZhhoQDMzMzMzEWtAAAAAAAAKbkBmZmZmZoFwQM3MzMzM/XFAMzMzMzN6c0CamZmZmfZ0QAAAAAAAc3ZAZmZmZmbvd0DNzMzMzGt5QDMzMzMz6HpAmpmZmZlkfEAAAAAAAOF9QGZmZmZmXX9AZmZmZuZsgECamZmZGSuBQM3MzMxM6YFAAAAAAICngkAzMzMzs2WDQGZmZmbmI4RAmpmZmRnihEDNzMzMTKCFQAAAAACAXoZAMzMzM7Mch0BmZmZm5tqHQJqZmZkZmYhAzczMzExXiUAAAAAAgBWKQDMzMzOz04pAZmZmZuaRi0CamZmZGVCMQM3MzMxMDo1AAAAAAIDMjUAzMzMzs4qOQGZmZmbmSI9A\",\"dtype\":\"float64\",\"shape\":[75]}},\"selected\":{\"id\":\"acfe2632-ef94-4cb0-998a-57ad985be140\",\"type\":\"Selection\"},\"selection_policy\":{\"id\":\"14595de3-fbfa-43cf-a59a-bf6c325a0a6c\",\"type\":\"UnionRenderers\"}},\"id\":\"9d2aabb4-c4cd-4217-9892-e9082e908331\",\"type\":\"ColumnDataSource\"},{\"attributes\":{\"callback\":null,\"data\":{\"x\":{\"__ndarray__\":\"Ll7jf5jltr4MA9kQgfm2vnMCTggqIre+cryq+8lKt756G0Ir0XC3vidLPwsKlLe+RfZvt0q0t76wXSR1ZNG3vvGZ93Yv67e+8Db7lnoBuL5ce8ZKGhS4vjZZmALlIri+91CS17EtuL6kMl82jTS4vtL0iC8RJ7i+rHyHrGbftr6UMJ1oDAWxvlyqZFFLsoq+evnvokKqtj5u1YC/Hd7QPoWP3BVjguE+YW1Al6B97z4eeZc49Zz3Phm7IA2OXvg+R+68TAL88T7gZnsB2kbnPvy5lN4Gkds+F6uv1oT5zD60YKKZF0C4PqIXGekRN4Y+rNwjm3SApr7Ww7LWdPGzvrj5kns4dLi+b0X0SLy9ur48JVETECi8vudEHy4y9by+P113qLpJvb5zxIg36G+9vmAU+PwTgL2+c/X5you0vr5vanX2kDrHvgSF7BcZsdy+LWbCRecf6743Lsax1izzvujTu0z/OvC+JFYi42Q/3z5EETc1F6ELP5M6JT8WmiA/lpQyyAYALz9KP2sDWm85P00ThyzvKEM/qTKR/8GLSj84lFhU72lRP9t+Uh0NCFY/0ODRLxoFWz8pT/f+IR1gPxs0Kmdlv2I/d4Z8Gq81Zj9+OHjBCGNpP+G9Hmm7xGs/aRqDs3wibT8kG0s961htP+Eng2Q3c2w/AqVqweecaj9CSlpTExtoP9dAgZtvQmU/oed0dDNXYj8uwshWjeFeP3DtJYWpEVk/llMHZOtsUz9hTVtUngVNPxmJnwmnvEU/v73UBEyzQT+6ntmPw0lCP/bwyR0DFU4/\",\"dtype\":\"float64\",\"shape\":[75]},\"y\":{\"__ndarray__\":\"GhExyth1ND/Sv8nbtpRIP2vylNV0PVE/aTum7souWD/At0SJ8fVgPw3Iuahxymc/MSNhhJWvcD/bTfBN02d3P2zb5nxnaoA/CD5h5MAGhz8NmeH1TyaQP+zrCsc9p5Y/LbKd76fGnz/bLW5ISEmmPww9YvTcQq8/JV2OstnstT8Er5Y7M8G+P0c+r3jqkcU/5h99k6ZBzj88bCIzFzjVP4enV8oyxN0//yH99nXg5D8qOpLLf0jtP5kqGJXUifQ/c9cS8kHP/D+/DpwzojQEQIEmwoanVwxA4lgXt9HgE0BSSZ2AJuIbQAMJih9jjiNA5q4l5INuK0AwTKYKRj0zQNv5fmq8/DpAaCJseHrtQkB/+zpwzoxKQM3MzMzMeFJAZmZmZmZqWEAAAAAAAFxeQM3MzMzMJmJAmpmZmZkfZUBmZmZmZhhoQDMzMzMzEWtAAAAAAAAKbkBmZmZmZoFwQM3MzMzM/XFAMzMzMzN6c0CamZmZmfZ0QAAAAAAAc3ZAZmZmZmbvd0DNzMzMzGt5QDMzMzMz6HpAmpmZmZlkfEAAAAAAAOF9QGZmZmZmXX9AZmZmZuZsgECamZmZGSuBQM3MzMxM6YFAAAAAAICngkAzMzMzs2WDQGZmZmbmI4RAmpmZmRnihEDNzMzMTKCFQAAAAACAXoZAMzMzM7Mch0BmZmZm5tqHQJqZmZkZmYhAzczMzExXiUAAAAAAgBWKQDMzMzOz04pAZmZmZuaRi0CamZmZGVCMQM3MzMxMDo1AAAAAAIDMjUAzMzMzs4qOQGZmZmbmSI9A\",\"dtype\":\"float64\",\"shape\":[75]}},\"selected\":{\"id\":\"e019379b-58a9-4338-ab52-ffdd4b33b2e4\",\"type\":\"Selection\"},\"selection_policy\":{\"id\":\"152ffc7d-b0bf-4164-8ea2-1c59c6c706a0\",\"type\":\"UnionRenderers\"}},\"id\":\"b81789ca-a86f-4a24-92e3-e3a83070a031\",\"type\":\"ColumnDataSource\"},{\"attributes\":{\"callback\":null,\"data\":{\"x\":{\"__ndarray__\":\"OsYLQvqOtb6aPcm9jKW1vh5UmKxP1LW+2BzdbwoEtr56LtV03TG2vp24mQ+fXba+trxHUSmHtr4rpnkhW662vtO5baUR07a+KPlA7ib1tr4rWClcdxS3vpu5JV7kMLe+YDAollFKt74djEUJ5GG3vmPvnrbrjLe+WOEgYfIbt766/md9tkezvra4G6piXKK+QxNjcyHUpT4EISyOgS/HPpllLhi1Kdo+egWr2QFp6D618/teFJ7yPrG2mereO/M+I2Ap+sUL7D7Coe+vErvhPlUpMwiLINQ+nNYs4OdNwz40WrZLutKnPmz4hDwUZJO+mayTqbMfr76KhQ14hvq1vqem03ooJrm+7NGP96esur4oFqMVhY67vgRVgzI6+ru+3SLxz4covL7jRgYn8Ey8vpiaawRPXry+SOn6zCegvb4kVyOh4cTGvqGmWAnMKd2+HKLDrMt17b6C1ijK54L3vkt7Tc83wvu+ft0c/46G6r7lVwVqqYL2Pr+cOAzDfRU/jby82VdAJz9Z6PdGRrQ0P16Q9ubxhUA/0u1jV7b4Rz+DUT6nO1lQP0LWlqOHZlU/rKWzpaQNWz8/nRtoeJJgP8S1mxb8umM/tDQzU9PXZz8+ZCxEF7VrP84A3Er9pW4/MVU/nvUjcD+NZuHC7CtwPzx+rDa42m4/7c7umh0TbD9l+It1Q3VoP/2jVxGajmQ/GWLFxeLSYD9STP6g1+NaP0mTwf+FxlQ/cl1bqg2lTj8Hx/fn7sVFPzTjgSoSVj8/ka5YziWmOT9TV+oUhYg9P5derHdG9Es/\",\"dtype\":\"float64\",\"shape\":[75]},\"y\":{\"__ndarray__\":\"GhExyth1ND/Sv8nbtpRIP2vylNV0PVE/aTum7souWD/At0SJ8fVgPw3Iuahxymc/MSNhhJWvcD/bTfBN02d3P2zb5nxnaoA/CD5h5MAGhz8NmeH1TyaQP+zrCsc9p5Y/LbKd76fGnz/bLW5ISEmmPww9YvTcQq8/JV2OstnstT8Er5Y7M8G+P0c+r3jqkcU/5h99k6ZBzj88bCIzFzjVP4enV8oyxN0//yH99nXg5D8qOpLLf0jtP5kqGJXUifQ/c9cS8kHP/D+/DpwzojQEQIEmwoanVwxA4lgXt9HgE0BSSZ2AJuIbQAMJih9jjiNA5q4l5INuK0AwTKYKRj0zQNv5fmq8/DpAaCJseHrtQkB/+zpwzoxKQM3MzMzMeFJAZmZmZmZqWEAAAAAAAFxeQM3MzMzMJmJAmpmZmZkfZUBmZmZmZhhoQDMzMzMzEWtAAAAAAAAKbkBmZmZmZoFwQM3MzMzM/XFAMzMzMzN6c0CamZmZmfZ0QAAAAAAAc3ZAZmZmZmbvd0DNzMzMzGt5QDMzMzMz6HpAmpmZmZlkfEAAAAAAAOF9QGZmZmZmXX9AZmZmZuZsgECamZmZGSuBQM3MzMxM6YFAAAAAAICngkAzMzMzs2WDQGZmZmbmI4RAmpmZmRnihEDNzMzMTKCFQAAAAACAXoZAMzMzM7Mch0BmZmZm5tqHQJqZmZkZmYhAzczMzExXiUAAAAAAgBWKQDMzMzOz04pAZmZmZuaRi0CamZmZGVCMQM3MzMxMDo1AAAAAAIDMjUAzMzMzs4qOQGZmZmbmSI9A\",\"dtype\":\"float64\",\"shape\":[75]}},\"selected\":{\"id\":\"b9ba1606-1c73-4840-974e-1cb4e46691c0\",\"type\":\"Selection\"},\"selection_policy\":{\"id\":\"b7505851-37b1-492a-a0e6-f2404de06a45\",\"type\":\"UnionRenderers\"}},\"id\":\"1f48709b-df8e-4bb4-8d18-530a29ebb87d\",\"type\":\"ColumnDataSource\"},{\"attributes\":{\"line_color\":\"#4daf4a\",\"line_width\":1.5,\"x\":{\"field\":\"x\"},\"y\":{\"field\":\"y\"}},\"id\":\"33c80533-38b5-454d-a3a8-9da410f9eeea\",\"type\":\"Line\"},{\"attributes\":{\"line_alpha\":0.3,\"line_color\":\"#377eb8\",\"line_width\":2,\"x\":{\"field\":\"x\"},\"y\":{\"field\":\"y\"}},\"id\":\"7f23d72f-582a-4eec-b430-40c3d7c38763\",\"type\":\"Line\"},{\"attributes\":{\"source\":{\"id\":\"1e9029f1-4c3e-42c0-80bc-b567bdd08ac7\",\"type\":\"ColumnDataSource\"}},\"id\":\"e010cbd4-fde4-4dd1-8f6e-95a6355704c7\",\"type\":\"CDSView\"},{\"attributes\":{\"line_alpha\":0.1,\"line_color\":\"#1f77b4\",\"line_width\":2,\"x\":{\"field\":\"x\"},\"y\":{\"field\":\"y\"}},\"id\":\"0869579a-8562-42fa-97a7-37f354f7d1b5\",\"type\":\"Line\"},{\"attributes\":{\"source\":{\"id\":\"1f48709b-df8e-4bb4-8d18-530a29ebb87d\",\"type\":\"ColumnDataSource\"}},\"id\":\"1fdeb229-433e-4039-9519-a5a615212e69\",\"type\":\"CDSView\"},{\"attributes\":{\"line_alpha\":0.6,\"line_color\":\"#984ea3\",\"line_width\":3,\"x\":{\"field\":\"x\"},\"y\":{\"field\":\"y\"}},\"id\":\"c401e65f-b2f7-4f2a-a641-fae335fb8dd5\",\"type\":\"Line\"},{\"attributes\":{\"source\":{\"id\":\"13cc4280-5590-4aa5-9699-2cf33fca1394\",\"type\":\"ColumnDataSource\"}},\"id\":\"f726f18f-b59d-4c36-8ee5-3f34cf19b3f6\",\"type\":\"CDSView\"},{\"attributes\":{\"plot\":null,\"text\":\"\"},\"id\":\"3c1cac5b-b264-495f-8e71-76ac8705d435\",\"type\":\"Title\"},{\"attributes\":{\"children\":[{\"id\":\"38d43ddc-2a00-4984-a4a5-59c2e33491d4\",\"subtype\":\"Figure\",\"type\":\"Plot\"},{\"id\":\"82d24404-eef3-4b21-a736-44c8b853b0d9\",\"subtype\":\"Figure\",\"type\":\"Plot\"}]},\"id\":\"02be714b-e3ad-45de-bb22-ea2d74399c99\",\"type\":\"Row\"},{\"attributes\":{\"source\":{\"id\":\"9d2aabb4-c4cd-4217-9892-e9082e908331\",\"type\":\"ColumnDataSource\"}},\"id\":\"a7b32cdd-f99f-4ed6-bab6-f0de0db126c9\",\"type\":\"CDSView\"},{\"attributes\":{\"label\":{\"value\":\"CRD\"},\"renderers\":[{\"id\":\"673f177c-3ac5-4d22-a19f-9e57c73b9890\",\"type\":\"GlyphRenderer\"},{\"id\":\"3b46b4f0-e4ab-4453-be0e-6bbd3793d706\",\"type\":\"GlyphRenderer\"}]},\"id\":\"563760f4-c128-4f25-a81a-dace41a6f785\",\"type\":\"LegendItem\"},{\"attributes\":{\"ticker\":null},\"id\":\"3d239843-7726-493b-845e-0d0f95c5934b\",\"type\":\"LogTickFormatter\"},{\"attributes\":{\"line_alpha\":0.1,\"line_color\":\"#1f77b4\",\"line_width\":1.5,\"x\":{\"field\":\"x\"},\"y\":{\"field\":\"y\"}},\"id\":\"4a4a5d2a-76b6-44a6-9208-d18b53459329\",\"type\":\"Line\"},{\"attributes\":{\"label\":{\"value\":\"WGT igg=1\"},\"renderers\":[{\"id\":\"3f9e7486-ee10-4ca9-9d64-156ed44469c0\",\"type\":\"GlyphRenderer\"},{\"id\":\"9c160f77-ba45-4d26-b52a-f20377f5034f\",\"type\":\"GlyphRenderer\"}]},\"id\":\"b2054369-0610-460b-b9ae-298ad5a5bf17\",\"type\":\"LegendItem\"},{\"attributes\":{},\"id\":\"51128e3a-a90d-41f5-92ff-b84b3cf0a31c\",\"type\":\"Selection\"},{\"attributes\":{\"label\":{\"value\":\"WGT igg=10\"},\"renderers\":[{\"id\":\"360f5438-e3b4-49c1-baf5-36d0318f0463\",\"type\":\"GlyphRenderer\"},{\"id\":\"58055218-24fa-4b45-bf7f-6fa09630de47\",\"type\":\"GlyphRenderer\"}]},\"id\":\"646a9a21-f006-47c7-ba25-bf877fb87cac\",\"type\":\"LegendItem\"},{\"attributes\":{\"fill_alpha\":{\"value\":0.1},\"fill_color\":{\"value\":\"#1f77b4\"},\"line_alpha\":{\"value\":0.1},\"line_color\":{\"value\":\"#1f77b4\"},\"x\":{\"field\":\"x\"},\"y\":{\"field\":\"y\"}},\"id\":\"452713b0-49a2-4964-b375-51cf6b08f26b\",\"type\":\"Circle\"},{\"attributes\":{},\"id\":\"5cf933d4-7f0d-4221-a7e8-8477274c5e67\",\"type\":\"UnionRenderers\"},{\"attributes\":{\"source\":{\"id\":\"b81789ca-a86f-4a24-92e3-e3a83070a031\",\"type\":\"ColumnDataSource\"}},\"id\":\"68d2c8be-860b-498c-b558-9ea5d5aafc41\",\"type\":\"CDSView\"},{\"attributes\":{},\"id\":\"14595de3-fbfa-43cf-a59a-bf6c325a0a6c\",\"type\":\"UnionRenderers\"},{\"attributes\":{},\"id\":\"986a6ce9-8e25-43e5-9d92-75c65cb99e40\",\"type\":\"BasicTickFormatter\"},{\"attributes\":{\"fill_alpha\":{\"value\":0.1},\"fill_color\":{\"value\":\"#1f77b4\"},\"line_alpha\":{\"value\":0.1},\"line_color\":{\"value\":\"#1f77b4\"},\"x\":{\"field\":\"x\"},\"y\":{\"field\":\"y\"}},\"id\":\"8095f280-c70c-428f-9e9d-50137bc9d670\",\"type\":\"Square\"},{\"attributes\":{\"data_source\":{\"id\":\"9d2aabb4-c4cd-4217-9892-e9082e908331\",\"type\":\"ColumnDataSource\"},\"glyph\":{\"id\":\"3b46b7f0-e8f8-40b7-a16c-d6ec7c3fc1a2\",\"type\":\"Circle\"},\"hover_glyph\":null,\"muted_glyph\":null,\"nonselection_glyph\":{\"id\":\"452713b0-49a2-4964-b375-51cf6b08f26b\",\"type\":\"Circle\"},\"selection_glyph\":null,\"view\":{\"id\":\"a7b32cdd-f99f-4ed6-bab6-f0de0db126c9\",\"type\":\"CDSView\"}},\"id\":\"7aaf2fb8-0130-4684-a54d-04776eea4810\",\"type\":\"GlyphRenderer\"},{\"attributes\":{},\"id\":\"ed4a0427-0672-4bb5-977e-ac489aaf7a51\",\"type\":\"BasicTickFormatter\"},{\"attributes\":{},\"id\":\"1086fbfd-2552-4fd6-bc0a-647e5c55e31a\",\"type\":\"Selection\"},{\"attributes\":{},\"id\":\"e019379b-58a9-4338-ab52-ffdd4b33b2e4\",\"type\":\"Selection\"},{\"attributes\":{},\"id\":\"f9486686-6f62-436b-8000-d9bd4fd191d5\",\"type\":\"UnionRenderers\"},{\"attributes\":{\"fill_alpha\":{\"value\":0.7},\"fill_color\":{\"value\":\"#984ea3\"},\"line_alpha\":{\"value\":0.7},\"line_color\":{\"value\":\"#984ea3\"},\"x\":{\"field\":\"x\"},\"y\":{\"field\":\"y\"}},\"id\":\"12fe61c4-5caf-43d7-a92f-a8722be76a49\",\"type\":\"Square\"},{\"attributes\":{},\"id\":\"152ffc7d-b0bf-4164-8ea2-1c59c6c706a0\",\"type\":\"UnionRenderers\"},{\"attributes\":{},\"id\":\"ba333104-18b1-4417-89ef-4cb67a88e997\",\"type\":\"Selection\"},{\"attributes\":{},\"id\":\"26643a31-fea3-4cc7-8c31-7d0c874b2ad0\",\"type\":\"UnionRenderers\"},{\"attributes\":{\"data_source\":{\"id\":\"b81789ca-a86f-4a24-92e3-e3a83070a031\",\"type\":\"ColumnDataSource\"},\"glyph\":{\"id\":\"12fe61c4-5caf-43d7-a92f-a8722be76a49\",\"type\":\"Square\"},\"hover_glyph\":null,\"muted_glyph\":null,\"nonselection_glyph\":{\"id\":\"8095f280-c70c-428f-9e9d-50137bc9d670\",\"type\":\"Square\"},\"selection_glyph\":null,\"view\":{\"id\":\"68d2c8be-860b-498c-b558-9ea5d5aafc41\",\"type\":\"CDSView\"}},\"id\":\"26a686a8-af3d-497b-ac40-f1e72ebd1a2d\",\"type\":\"GlyphRenderer\"},{\"attributes\":{},\"id\":\"29413970-ed98-451d-9676-367f86586dc7\",\"type\":\"Selection\"},{\"attributes\":{},\"id\":\"2b64f77e-8bcb-4a75-9eb6-a686e6775ce0\",\"type\":\"UnionRenderers\"},{\"attributes\":{\"plot\":null,\"text\":\"\"},\"id\":\"e6a0e79e-767c-45b0-8a37-d9f58a77c025\",\"type\":\"Title\"},{\"attributes\":{},\"id\":\"90209935-69bb-4d0a-b6aa-069c4971cde2\",\"type\":\"Selection\"},{\"attributes\":{\"dimension\":1,\"plot\":{\"id\":\"38d43ddc-2a00-4984-a4a5-59c2e33491d4\",\"subtype\":\"Figure\",\"type\":\"Plot\"},\"ticker\":{\"id\":\"45e6aa13-e0e2-4bde-9a97-542897a61ceb\",\"type\":\"BasicTicker\"}},\"id\":\"f03de8a6-7752-44e1-9171-d2244bd24a10\",\"type\":\"Grid\"},{\"attributes\":{},\"id\":\"45e6aa13-e0e2-4bde-9a97-542897a61ceb\",\"type\":\"BasicTicker\"},{\"attributes\":{\"axis_label\":\"pressure [mb]\",\"formatter\":{\"id\":\"ed4a0427-0672-4bb5-977e-ac489aaf7a51\",\"type\":\"BasicTickFormatter\"},\"plot\":{\"id\":\"38d43ddc-2a00-4984-a4a5-59c2e33491d4\",\"subtype\":\"Figure\",\"type\":\"Plot\"},\"ticker\":{\"id\":\"45e6aa13-e0e2-4bde-9a97-542897a61ceb\",\"type\":\"BasicTicker\"}},\"id\":\"e01f29bb-cb2e-4aa0-b34c-2723b6e41d8d\",\"type\":\"LinearAxis\"},{\"attributes\":{\"source\":{\"id\":\"5b0ae380-37bb-4039-9c2a-7aa1b8fbeaf5\",\"type\":\"ColumnDataSource\"}},\"id\":\"e5b28502-3cad-49a2-84b3-716f7aafb6b8\",\"type\":\"CDSView\"},{\"attributes\":{\"plot\":{\"id\":\"38d43ddc-2a00-4984-a4a5-59c2e33491d4\",\"subtype\":\"Figure\",\"type\":\"Plot\"},\"ticker\":{\"id\":\"ed2b2e30-f6ae-441c-9940-0079389e65c6\",\"type\":\"BasicTicker\"}},\"id\":\"f7a5f8ff-23c2-4d9d-a7f7-58c7200e4329\",\"type\":\"Grid\"},{\"attributes\":{},\"id\":\"ed2b2e30-f6ae-441c-9940-0079389e65c6\",\"type\":\"BasicTicker\"},{\"attributes\":{\"axis_label\":\"cooling rate [K/day]\",\"formatter\":{\"id\":\"986a6ce9-8e25-43e5-9d92-75c65cb99e40\",\"type\":\"BasicTickFormatter\"},\"plot\":{\"id\":\"38d43ddc-2a00-4984-a4a5-59c2e33491d4\",\"subtype\":\"Figure\",\"type\":\"Plot\"},\"ticker\":{\"id\":\"ed2b2e30-f6ae-441c-9940-0079389e65c6\",\"type\":\"BasicTicker\"}},\"id\":\"236d55db-f266-4c51-a9db-a80bd7474178\",\"type\":\"LinearAxis\"},{\"attributes\":{},\"id\":\"b7e235b6-9a56-4e0b-96d9-4ab844c8bce6\",\"type\":\"LinearScale\"},{\"attributes\":{\"callback\":null,\"end\":0.00398788612725,\"start\":-6.621885225e-05},\"id\":\"bd3071c2-6363-455f-95f9-01d1de62a18a\",\"type\":\"Range1d\"},{\"attributes\":{},\"id\":\"3d812fdd-f825-44ce-99d6-2a2cf65177b9\",\"type\":\"LinearScale\"},{\"attributes\":{\"above\":[{\"id\":\"e0ffa5aa-eacb-446e-aa39-c2a517e0c02c\",\"type\":\"Legend\"}],\"below\":[{\"id\":\"d2caeda9-465b-4aa9-bb1e-d744f858a9c4\",\"type\":\"LinearAxis\"}],\"left\":[{\"id\":\"ea3b910a-8395-4378-8f0c-d674c3a21999\",\"type\":\"LogAxis\"}],\"plot_height\":500,\"plot_width\":400,\"renderers\":[{\"id\":\"d2caeda9-465b-4aa9-bb1e-d744f858a9c4\",\"type\":\"LinearAxis\"},{\"id\":\"301e776a-4d06-4eb9-85b4-e2444d827adf\",\"type\":\"Grid\"},{\"id\":\"ea3b910a-8395-4378-8f0c-d674c3a21999\",\"type\":\"LogAxis\"},{\"id\":\"731bc14d-b5d4-4a35-abb1-b109f5398597\",\"type\":\"Grid\"},{\"id\":\"4932ad76-f4e7-4560-9fb4-2ffa91f20143\",\"type\":\"BoxAnnotation\"},{\"id\":\"673f177c-3ac5-4d22-a19f-9e57c73b9890\",\"type\":\"GlyphRenderer\"},{\"id\":\"3b46b4f0-e4ab-4453-be0e-6bbd3793d706\",\"type\":\"GlyphRenderer\"},{\"id\":\"3f9e7486-ee10-4ca9-9d64-156ed44469c0\",\"type\":\"GlyphRenderer\"},{\"id\":\"9c160f77-ba45-4d26-b52a-f20377f5034f\",\"type\":\"GlyphRenderer\"},{\"id\":\"360f5438-e3b4-49c1-baf5-36d0318f0463\",\"type\":\"GlyphRenderer\"},{\"id\":\"58055218-24fa-4b45-bf7f-6fa09630de47\",\"type\":\"GlyphRenderer\"},{\"id\":\"e0ffa5aa-eacb-446e-aa39-c2a517e0c02c\",\"type\":\"Legend\"}],\"title\":{\"id\":\"e6a0e79e-767c-45b0-8a37-d9f58a77c025\",\"type\":\"Title\"},\"toolbar\":{\"id\":\"922ce635-c645-4ec4-bde1-67dcd33a8aab\",\"type\":\"Toolbar\"},\"toolbar_location\":null,\"x_range\":{\"id\":\"15acc90a-0310-40ae-a68b-4f71865ab6a3\",\"type\":\"Range1d\"},\"x_scale\":{\"id\":\"49ec49b3-c4af-4c60-a4ea-cdfe2049155e\",\"type\":\"LinearScale\"},\"y_range\":{\"id\":\"faee7bbc-5cd2-4472-8b77-ad62cb7e9171\",\"type\":\"Range1d\"},\"y_scale\":{\"id\":\"5a3ae6ff-5290-4c46-ba9b-508e67544a19\",\"type\":\"LogScale\"}},\"id\":\"82d24404-eef3-4b21-a736-44c8b853b0d9\",\"subtype\":\"Figure\",\"type\":\"Plot\"},{\"attributes\":{\"items\":[{\"id\":\"48c30cf7-e0c9-453c-ba60-1f7af9806e46\",\"type\":\"LegendItem\"},{\"id\":\"838e78fb-3bc4-4466-9119-2a57c7cc42d0\",\"type\":\"LegendItem\"},{\"id\":\"f24c3f53-37fd-4be4-be00-bf9402ee7473\",\"type\":\"LegendItem\"}],\"label_text_font_size\":{\"value\":\"8pt\"},\"location\":\"top_center\",\"orientation\":\"horizontal\",\"plot\":{\"id\":\"38d43ddc-2a00-4984-a4a5-59c2e33491d4\",\"subtype\":\"Figure\",\"type\":\"Plot\"}},\"id\":\"18539949-c7bf-421d-a460-c918b93e1712\",\"type\":\"Legend\"},{\"attributes\":{\"active_drag\":\"auto\",\"active_inspect\":\"auto\",\"active_scroll\":\"auto\",\"active_tap\":\"auto\",\"tools\":[{\"id\":\"7b1118bc-6f62-4b85-9576-ce84cd3fd2dc\",\"type\":\"PanTool\"},{\"id\":\"66134dbc-96ca-4e6b-9121-bb87ee37b644\",\"type\":\"WheelZoomTool\"},{\"id\":\"baa451dc-0b1f-4257-b20e-d484f3ff75ed\",\"type\":\"BoxZoomTool\"},{\"id\":\"66f23b80-6ca7-47d7-9a36-7dd3e708a4b4\",\"type\":\"SaveTool\"},{\"id\":\"f1e0477f-645f-4b04-a68e-260f31fabf49\",\"type\":\"ResetTool\"},{\"id\":\"775590af-772f-4d84-8870-44d8540e1fc4\",\"type\":\"HelpTool\"}]},\"id\":\"9152da3a-767f-4ebe-9193-3fd054cca0a3\",\"type\":\"Toolbar\"},{\"attributes\":{\"above\":[{\"id\":\"18539949-c7bf-421d-a460-c918b93e1712\",\"type\":\"Legend\"}],\"below\":[{\"id\":\"236d55db-f266-4c51-a9db-a80bd7474178\",\"type\":\"LinearAxis\"}],\"left\":[{\"id\":\"e01f29bb-cb2e-4aa0-b34c-2723b6e41d8d\",\"type\":\"LinearAxis\"}],\"plot_height\":500,\"plot_width\":400,\"renderers\":[{\"id\":\"236d55db-f266-4c51-a9db-a80bd7474178\",\"type\":\"LinearAxis\"},{\"id\":\"f7a5f8ff-23c2-4d9d-a7f7-58c7200e4329\",\"type\":\"Grid\"},{\"id\":\"e01f29bb-cb2e-4aa0-b34c-2723b6e41d8d\",\"type\":\"LinearAxis\"},{\"id\":\"f03de8a6-7752-44e1-9171-d2244bd24a10\",\"type\":\"Grid\"},{\"id\":\"449260b3-b610-4869-b9dd-9e6d9150abc2\",\"type\":\"BoxAnnotation\"},{\"id\":\"7aaf2fb8-0130-4684-a54d-04776eea4810\",\"type\":\"GlyphRenderer\"},{\"id\":\"3bc2a0d2-1ef5-43a6-891a-521e393229c4\",\"type\":\"GlyphRenderer\"},{\"id\":\"26a686a8-af3d-497b-ac40-f1e72ebd1a2d\",\"type\":\"GlyphRenderer\"},{\"id\":\"2b45326c-1c01-47d2-b745-6ba2a1483469\",\"type\":\"GlyphRenderer\"},{\"id\":\"fd339add-cf00-4edf-a4d7-63f1bba6a89e\",\"type\":\"GlyphRenderer\"},{\"id\":\"e6e4119d-49fe-4b0a-9b0e-426070313361\",\"type\":\"GlyphRenderer\"},{\"id\":\"18539949-c7bf-421d-a460-c918b93e1712\",\"type\":\"Legend\"}],\"title\":{\"id\":\"3c1cac5b-b264-495f-8e71-76ac8705d435\",\"type\":\"Title\"},\"toolbar\":{\"id\":\"9152da3a-767f-4ebe-9193-3fd054cca0a3\",\"type\":\"Toolbar\"},\"toolbar_location\":null,\"x_range\":{\"id\":\"bd3071c2-6363-455f-95f9-01d1de62a18a\",\"type\":\"Range1d\"},\"x_scale\":{\"id\":\"3d812fdd-f825-44ce-99d6-2a2cf65177b9\",\"type\":\"LinearScale\"},\"y_range\":{\"id\":\"ad173d9b-b633-435b-b7df-520bf5327eec\",\"type\":\"Range1d\"},\"y_scale\":{\"id\":\"b7e235b6-9a56-4e0b-96d9-4ab844c8bce6\",\"type\":\"LinearScale\"}},\"id\":\"38d43ddc-2a00-4984-a4a5-59c2e33491d4\",\"subtype\":\"Figure\",\"type\":\"Plot\"},{\"attributes\":{\"fill_alpha\":{\"value\":0.7},\"fill_color\":{\"value\":\"#377eb8\"},\"line_alpha\":{\"value\":0.7},\"line_color\":{\"value\":\"#377eb8\"},\"x\":{\"field\":\"x\"},\"y\":{\"field\":\"y\"}},\"id\":\"eefd2744-6084-428c-8dba-2417ba487194\",\"type\":\"Triangle\"},{\"attributes\":{\"line_alpha\":0.1,\"line_color\":\"#1f77b4\",\"line_width\":3,\"x\":{\"field\":\"x\"},\"y\":{\"field\":\"y\"}},\"id\":\"f0474aed-b374-446a-8102-1b0052060b8e\",\"type\":\"Line\"},{\"attributes\":{\"callback\":null,\"data\":{\"x\":{\"__ndarray__\":\"OsYLQvqOtb6aPcm9jKW1vh5UmKxP1LW+2BzdbwoEtr56LtV03TG2vp24mQ+fXba+trxHUSmHtr4rpnkhW662vtO5baUR07a+KPlA7ib1tr4rWClcdxS3vpu5JV7kMLe+YDAollFKt74djEUJ5GG3vmPvnrbrjLe+WOEgYfIbt766/md9tkezvra4G6piXKK+QxNjcyHUpT4EISyOgS/HPpllLhi1Kdo+egWr2QFp6D618/teFJ7yPrG2mereO/M+I2Ap+sUL7D7Coe+vErvhPlUpMwiLINQ+nNYs4OdNwz40WrZLutKnPmz4hDwUZJO+mayTqbMfr76KhQ14hvq1vqem03ooJrm+7NGP96esur4oFqMVhY67vgRVgzI6+ru+3SLxz4covL7jRgYn8Ey8vpiaawRPXry+SOn6zCegvb4kVyOh4cTGvqGmWAnMKd2+HKLDrMt17b6C1ijK54L3vkt7Tc83wvu+ft0c/46G6r7lVwVqqYL2Pr+cOAzDfRU/jby82VdAJz9Z6PdGRrQ0P16Q9ubxhUA/0u1jV7b4Rz+DUT6nO1lQP0LWlqOHZlU/rKWzpaQNWz8/nRtoeJJgP8S1mxb8umM/tDQzU9PXZz8+ZCxEF7VrP84A3Er9pW4/MVU/nvUjcD+NZuHC7CtwPzx+rDa42m4/7c7umh0TbD9l+It1Q3VoP/2jVxGajmQ/GWLFxeLSYD9STP6g1+NaP0mTwf+FxlQ/cl1bqg2lTj8Hx/fn7sVFPzTjgSoSVj8/ka5YziWmOT9TV+oUhYg9P5derHdG9Es/\",\"dtype\":\"float64\",\"shape\":[75]},\"y\":{\"__ndarray__\":\"GhExyth1ND/Sv8nbtpRIP2vylNV0PVE/aTum7souWD/At0SJ8fVgPw3Iuahxymc/MSNhhJWvcD/bTfBN02d3P2zb5nxnaoA/CD5h5MAGhz8NmeH1TyaQP+zrCsc9p5Y/LbKd76fGnz/bLW5ISEmmPww9YvTcQq8/JV2OstnstT8Er5Y7M8G+P0c+r3jqkcU/5h99k6ZBzj88bCIzFzjVP4enV8oyxN0//yH99nXg5D8qOpLLf0jtP5kqGJXUifQ/c9cS8kHP/D+/DpwzojQEQIEmwoanVwxA4lgXt9HgE0BSSZ2AJuIbQAMJih9jjiNA5q4l5INuK0AwTKYKRj0zQNv5fmq8/DpAaCJseHrtQkB/+zpwzoxKQM3MzMzMeFJAZmZmZmZqWEAAAAAAAFxeQM3MzMzMJmJAmpmZmZkfZUBmZmZmZhhoQDMzMzMzEWtAAAAAAAAKbkBmZmZmZoFwQM3MzMzM/XFAMzMzMzN6c0CamZmZmfZ0QAAAAAAAc3ZAZmZmZmbvd0DNzMzMzGt5QDMzMzMz6HpAmpmZmZlkfEAAAAAAAOF9QGZmZmZmXX9AZmZmZuZsgECamZmZGSuBQM3MzMxM6YFAAAAAAICngkAzMzMzs2WDQGZmZmbmI4RAmpmZmRnihEDNzMzMTKCFQAAAAACAXoZAMzMzM7Mch0BmZmZm5tqHQJqZmZkZmYhAzczMzExXiUAAAAAAgBWKQDMzMzOz04pAZmZmZuaRi0CamZmZGVCMQM3MzMxMDo1AAAAAAIDMjUAzMzMzs4qOQGZmZmbmSI9A\",\"dtype\":\"float64\",\"shape\":[75]}},\"selected\":{\"id\":\"29413970-ed98-451d-9676-367f86586dc7\",\"type\":\"Selection\"},\"selection_policy\":{\"id\":\"2b64f77e-8bcb-4a75-9eb6-a686e6775ce0\",\"type\":\"UnionRenderers\"}},\"id\":\"e76e1f38-b88b-49eb-936b-22776ab7d7a6\",\"type\":\"ColumnDataSource\"},{\"attributes\":{\"data_source\":{\"id\":\"5b0ae380-37bb-4039-9c2a-7aa1b8fbeaf5\",\"type\":\"ColumnDataSource\"},\"glyph\":{\"id\":\"c401e65f-b2f7-4f2a-a641-fae335fb8dd5\",\"type\":\"Line\"},\"hover_glyph\":null,\"muted_glyph\":null,\"nonselection_glyph\":{\"id\":\"f0474aed-b374-446a-8102-1b0052060b8e\",\"type\":\"Line\"},\"selection_glyph\":null,\"view\":{\"id\":\"e5b28502-3cad-49a2-84b3-716f7aafb6b8\",\"type\":\"CDSView\"}},\"id\":\"2b45326c-1c01-47d2-b745-6ba2a1483469\",\"type\":\"GlyphRenderer\"},{\"attributes\":{\"fill_alpha\":{\"value\":0.1},\"fill_color\":{\"value\":\"#1f77b4\"},\"line_alpha\":{\"value\":0.1},\"line_color\":{\"value\":\"#1f77b4\"},\"x\":{\"field\":\"x\"},\"y\":{\"field\":\"y\"}},\"id\":\"dcd3f32f-d2e6-4540-878c-e66061dc91bb\",\"type\":\"Triangle\"}],\"root_ids\":[\"ce1bb45d-98e5-47d4-ad9d-fd412fb72b79\"]},\"title\":\"Bokeh Application\",\"version\":\"0.12.16\"}};\n",
       "  var render_items = [{\"docid\":\"2d16636c-f34e-4302-a227-e91fe49a571c\",\"elementid\":\"d6a73eac-5bdc-4c54-b01f-27ece49760f3\",\"modelid\":\"ce1bb45d-98e5-47d4-ad9d-fd412fb72b79\"}];\n",
       "  root.Bokeh.embed.embed_items_notebook(docs_json, render_items);\n",
       "\n",
       "  }\n",
       "  if (root.Bokeh !== undefined) {\n",
       "    embed_document(root);\n",
       "  } else {\n",
       "    var attempts = 0;\n",
       "    var timer = setInterval(function(root) {\n",
       "      if (root.Bokeh !== undefined) {\n",
       "        embed_document(root);\n",
       "        clearInterval(timer);\n",
       "      }\n",
       "      attempts++;\n",
       "      if (attempts > 100) {\n",
       "        console.log(\"Bokeh: ERROR: Unable to run BokehJS code because BokehJS library is missing\")\n",
       "        clearInterval(timer);\n",
       "      }\n",
       "    }, 10, root)\n",
       "  }\n",
       "})(window);"
      ],
      "application/vnd.bokehjs_exec.v0+json": ""
     },
     "metadata": {
      "application/vnd.bokehjs_exec.v0+json": {
       "id": "ce1bb45d-98e5-47d4-ad9d-fd412fb72b79"
      }
     },
     "output_type": "display_data"
    },
    {
     "data": {
      "text/markdown": [
       "*FIGURE.* Cooling rates. g=1"
      ],
      "text/plain": [
       "<IPython.core.display.Markdown object>"
      ]
     },
     "metadata": {},
     "output_type": "display_data"
    },
    {
     "data": {
      "text/html": [
       "\n",
       "<div class=\"bk-root\">\n",
       "    <div class=\"bk-plotdiv\" id=\"79b6ba7f-0bea-4169-adf0-1ea0f9034762\"></div>\n",
       "</div>"
      ]
     },
     "metadata": {},
     "output_type": "display_data"
    },
    {
     "data": {
      "application/javascript": [
       "(function(root) {\n",
       "  function embed_document(root) {\n",
       "    \n",
       "  var docs_json = {\"c96b64d0-0db9-48c5-a5a3-aeeec3ecf17e\":{\"roots\":{\"references\":[{\"attributes\":{},\"id\":\"0a457aa2-a3c9-4ef4-9fec-22daf9d92817\",\"type\":\"Selection\"},{\"attributes\":{},\"id\":\"566506be-17cf-482a-8704-c56ff95a264f\",\"type\":\"Selection\"},{\"attributes\":{},\"id\":\"2a157a9f-8928-4730-ac12-223e388dd0c3\",\"type\":\"UnionRenderers\"},{\"attributes\":{},\"id\":\"61a0667f-8996-4618-b558-499e0ae02a47\",\"type\":\"Selection\"},{\"attributes\":{},\"id\":\"da7b07fb-fcb8-4d84-b84c-bc2c9858395b\",\"type\":\"UnionRenderers\"},{\"attributes\":{},\"id\":\"e2a28ab5-2f3c-45fd-87d9-580dff8564e0\",\"type\":\"BasicTickFormatter\"},{\"attributes\":{},\"id\":\"600b0b33-7822-4a68-a107-0f27d7761865\",\"type\":\"UnionRenderers\"},{\"attributes\":{},\"id\":\"f2ca8518-6372-4ac2-b298-07b15f2fa7b9\",\"type\":\"Selection\"},{\"attributes\":{},\"id\":\"bf849a5f-f0e9-45ec-99fb-511fc18b8d20\",\"type\":\"UnionRenderers\"},{\"attributes\":{\"plot\":null,\"text\":\"\"},\"id\":\"e30cd6e2-c56d-4532-90a7-881a481313ef\",\"type\":\"Title\"},{\"attributes\":{\"toolbar\":{\"id\":\"f78caa8b-f8a4-4549-a79a-5d9916da9d5f\",\"type\":\"ProxyToolbar\"},\"toolbar_location\":\"above\"},\"id\":\"8021d5e3-51ee-431f-b656-1f1f5028a67a\",\"type\":\"ToolbarBox\"},{\"attributes\":{},\"id\":\"01d02eae-573c-472b-a0a5-6caba582d139\",\"type\":\"UnionRenderers\"},{\"attributes\":{},\"id\":\"7ec028d4-dee9-44a4-aacf-648edc069364\",\"type\":\"UnionRenderers\"},{\"attributes\":{\"ticker\":null},\"id\":\"85e265e8-9f6f-42fa-baa0-6a8647818c04\",\"type\":\"LogTickFormatter\"},{\"attributes\":{},\"id\":\"5f979bcd-2bab-44e6-84a5-8c3c0f1dd6c4\",\"type\":\"Selection\"},{\"attributes\":{},\"id\":\"d5dbfdc6-ece9-4dd5-9f89-d415cd345dfa\",\"type\":\"Selection\"},{\"attributes\":{},\"id\":\"9ea68329-3ecb-43eb-8058-42371d43471b\",\"type\":\"Selection\"},{\"attributes\":{},\"id\":\"b4896a23-af0e-4a55-be6f-7efb14c1abb0\",\"type\":\"UnionRenderers\"},{\"attributes\":{},\"id\":\"d26e60e4-8718-45f2-af67-3e9d4a3e5ee9\",\"type\":\"Selection\"},{\"attributes\":{},\"id\":\"fc3ca035-2e6c-480a-a3dc-6389a1277297\",\"type\":\"UnionRenderers\"},{\"attributes\":{},\"id\":\"74219864-af39-4baa-a94c-0fe95cd70d50\",\"type\":\"Selection\"},{\"attributes\":{},\"id\":\"d743c126-86ed-4957-8ed8-472b6413f29f\",\"type\":\"UnionRenderers\"},{\"attributes\":{\"children\":[{\"id\":\"8021d5e3-51ee-431f-b656-1f1f5028a67a\",\"type\":\"ToolbarBox\"},{\"id\":\"90927515-98fe-4b2f-aade-aafe2938835b\",\"type\":\"Column\"}]},\"id\":\"81053e00-a160-4e60-89ca-d1aa3e41e392\",\"type\":\"Column\"},{\"attributes\":{\"tools\":[{\"id\":\"4513eda3-fd26-448c-87c7-d9424bbcb480\",\"type\":\"PanTool\"},{\"id\":\"e075fb69-4bd8-4dd5-aafa-bffeaec3dcdb\",\"type\":\"WheelZoomTool\"},{\"id\":\"dc946092-8d18-44ae-acd9-e26b25e04d2d\",\"type\":\"BoxZoomTool\"},{\"id\":\"1f7b08dd-3ad0-43fc-b830-065577a2a5e5\",\"type\":\"SaveTool\"},{\"id\":\"a4950f1f-c5dd-483c-aefa-d57231ee3b82\",\"type\":\"ResetTool\"},{\"id\":\"40bf66ce-f774-4941-bf9d-4229bd747f27\",\"type\":\"HelpTool\"},{\"id\":\"bf81a33a-9879-4759-90ec-0740bff78390\",\"type\":\"PanTool\"},{\"id\":\"716facda-f895-4cc6-b678-135b78bff79a\",\"type\":\"WheelZoomTool\"},{\"id\":\"8a4c6876-8068-4b12-8eec-0d018bd5265f\",\"type\":\"BoxZoomTool\"},{\"id\":\"bd834a5c-de08-4ef9-95bc-3121571bc551\",\"type\":\"SaveTool\"},{\"id\":\"82174e02-2b46-41ae-8997-13eb41b1959e\",\"type\":\"ResetTool\"},{\"id\":\"de6c7b6b-95c9-4ab7-b832-3947c97c5736\",\"type\":\"HelpTool\"}]},\"id\":\"f78caa8b-f8a4-4549-a79a-5d9916da9d5f\",\"type\":\"ProxyToolbar\"},{\"attributes\":{\"line_alpha\":0.1,\"line_color\":\"#1f77b4\",\"line_width\":3,\"x\":{\"field\":\"x\"},\"y\":{\"field\":\"y\"}},\"id\":\"c55f467a-9e9d-498e-a55e-36370780a366\",\"type\":\"Line\"},{\"attributes\":{\"overlay\":{\"id\":\"c5c84cff-6692-4eb0-9139-08a84e8ef52c\",\"type\":\"BoxAnnotation\"}},\"id\":\"dc946092-8d18-44ae-acd9-e26b25e04d2d\",\"type\":\"BoxZoomTool\"},{\"attributes\":{},\"id\":\"e075fb69-4bd8-4dd5-aafa-bffeaec3dcdb\",\"type\":\"WheelZoomTool\"},{\"attributes\":{},\"id\":\"a4950f1f-c5dd-483c-aefa-d57231ee3b82\",\"type\":\"ResetTool\"},{\"attributes\":{},\"id\":\"1f7b08dd-3ad0-43fc-b830-065577a2a5e5\",\"type\":\"SaveTool\"},{\"attributes\":{\"data_source\":{\"id\":\"439c1501-f75f-48e0-bb0b-5d9bc6dd22f6\",\"type\":\"ColumnDataSource\"},\"glyph\":{\"id\":\"6cde10fd-83e0-4b27-9220-9ad2bcb2f233\",\"type\":\"Line\"},\"hover_glyph\":null,\"muted_glyph\":null,\"nonselection_glyph\":{\"id\":\"c55f467a-9e9d-498e-a55e-36370780a366\",\"type\":\"Line\"},\"selection_glyph\":null,\"view\":{\"id\":\"21753b37-f690-4712-a599-08d921014cb5\",\"type\":\"CDSView\"}},\"id\":\"7c982b0a-d5ac-45b3-908e-812bf9b5ef68\",\"type\":\"GlyphRenderer\"},{\"attributes\":{\"line_color\":\"#4daf4a\",\"line_width\":1.5,\"x\":{\"field\":\"x\"},\"y\":{\"field\":\"y\"}},\"id\":\"ea87c64e-72ec-4ddc-aa42-0606e5706c43\",\"type\":\"Line\"},{\"attributes\":{},\"id\":\"4513eda3-fd26-448c-87c7-d9424bbcb480\",\"type\":\"PanTool\"},{\"attributes\":{\"source\":{\"id\":\"ec1c7464-3caf-4b12-a391-2142b5964516\",\"type\":\"ColumnDataSource\"}},\"id\":\"8420bbd3-ddf2-4939-ae86-a338d2a6a5d4\",\"type\":\"CDSView\"},{\"attributes\":{\"callback\":null,\"data\":{\"x\":{\"__ndarray__\":\"xCYSGnyhsL41gsKqKLawvhGe6FOd4bC+M3XeNjMPsb43/HDnZzyxvjU4bxcEabG+GJk7bR6Vsb4uc/Kul8CxvnrCpfxj67G+YUtyYokVsr5QyKE88D6yvphl132dZ7K+GPUW45SPsr4cbwybR7myvohdKRyaKrO+e/Hc8IsOtL455WlfZDi0vlso3b3BKrK+gqG3qB+9qL5ENUlDUAFjvuQ6a9DEYrQ+710upkJzyz7+C+bC2eXXPv5KVRzP6Ng+zbdlJpeZ0D7I0AzMbS3BPi8H2AWarqY+UXINncAJjr6oN24w4d2pvq4RUR+kZrK+la4Hp4Kutb4FYUjZ94G3vje+lEfbf7i+uuvj1YVaub5bwPOCE066vsVMcWtia7u+lrI1zTbRvL4dpZQn3Fm+vmW2F+eRwb++M0TOraVVwb6GUu17hmPMvjDCg1duFuS+LkLn8/Ro9762YnR+qh4Hv28BlVViuxO/bxWUSWj6GL80aJT//ucav6dSBdBZEBm/CPXhOdieEb+H/x1gvRXUvmyH7cwXyxo/r7lbG8JBMT/txqG50dc/Pw1w892ct0k/2uyl+FpBUz8+Obij4GpbPxKX7xpl1mI/T2DbFrVYaj+u0V2Xe+9xP1zi8TmjqXc/wM/kFaJgfj9W2T52bAODP3L5CjD+Roc/+noPrrjsiz/78Gbsz26QP+b0X2Ft/pI/eNozriyPlT/GlHUjHwCYP38BZLifK5o/ivZxZzj7mz8e6hvxlHCdP4w+AFgGnZ4/EisGvIqUnz+8p2OvJjigP4aOgH6do6A/\",\"dtype\":\"float64\",\"shape\":[75]},\"y\":{\"__ndarray__\":\"GhExyth1ND/Sv8nbtpRIP2vylNV0PVE/aTum7souWD/At0SJ8fVgPw3Iuahxymc/MSNhhJWvcD/bTfBN02d3P2zb5nxnaoA/CD5h5MAGhz8NmeH1TyaQP+zrCsc9p5Y/LbKd76fGnz/bLW5ISEmmPww9YvTcQq8/JV2OstnstT8Er5Y7M8G+P0c+r3jqkcU/5h99k6ZBzj88bCIzFzjVP4enV8oyxN0//yH99nXg5D8qOpLLf0jtP5kqGJXUifQ/c9cS8kHP/D+/DpwzojQEQIEmwoanVwxA4lgXt9HgE0BSSZ2AJuIbQAMJih9jjiNA5q4l5INuK0AwTKYKRj0zQNv5fmq8/DpAaCJseHrtQkB/+zpwzoxKQM3MzMzMeFJAZmZmZmZqWEAAAAAAAFxeQM3MzMzMJmJAmpmZmZkfZUBmZmZmZhhoQDMzMzMzEWtAAAAAAAAKbkBmZmZmZoFwQM3MzMzM/XFAMzMzMzN6c0CamZmZmfZ0QAAAAAAAc3ZAZmZmZmbvd0DNzMzMzGt5QDMzMzMz6HpAmpmZmZlkfEAAAAAAAOF9QGZmZmZmXX9AZmZmZuZsgECamZmZGSuBQM3MzMxM6YFAAAAAAICngkAzMzMzs2WDQGZmZmbmI4RAmpmZmRnihEDNzMzMTKCFQAAAAACAXoZAMzMzM7Mch0BmZmZm5tqHQJqZmZkZmYhAzczMzExXiUAAAAAAgBWKQDMzMzOz04pAZmZmZuaRi0CamZmZGVCMQM3MzMxMDo1AAAAAAIDMjUAzMzMzs4qOQGZmZmbmSI9A\",\"dtype\":\"float64\",\"shape\":[75]}},\"selected\":{\"id\":\"d5dbfdc6-ece9-4dd5-9f89-d415cd345dfa\",\"type\":\"Selection\"},\"selection_policy\":{\"id\":\"7ec028d4-dee9-44a4-aacf-648edc069364\",\"type\":\"UnionRenderers\"}},\"id\":\"2aa4224a-d040-4cbc-b6c7-51df4d96f6e5\",\"type\":\"ColumnDataSource\"},{\"attributes\":{\"data_source\":{\"id\":\"0d0f3286-9b8b-4089-b93e-246a00b4eb43\",\"type\":\"ColumnDataSource\"},\"glyph\":{\"id\":\"322e66bb-406c-4c4c-b523-ac64a044058b\",\"type\":\"Triangle\"},\"hover_glyph\":null,\"muted_glyph\":null,\"nonselection_glyph\":{\"id\":\"c3162888-c878-48dc-8701-867fd9346faf\",\"type\":\"Triangle\"},\"selection_glyph\":null,\"view\":{\"id\":\"c2f267c9-96e2-4524-bac7-d903529d2ff7\",\"type\":\"CDSView\"}},\"id\":\"36f0eb00-21ab-4aac-825f-884b5dc3e657\",\"type\":\"GlyphRenderer\"},{\"attributes\":{\"fill_alpha\":{\"value\":0.1},\"fill_color\":{\"value\":\"#1f77b4\"},\"line_alpha\":{\"value\":0.1},\"line_color\":{\"value\":\"#1f77b4\"},\"x\":{\"field\":\"x\"},\"y\":{\"field\":\"y\"}},\"id\":\"c3162888-c878-48dc-8701-867fd9346faf\",\"type\":\"Triangle\"},{\"attributes\":{\"line_alpha\":0.1,\"line_color\":\"#1f77b4\",\"line_width\":2,\"x\":{\"field\":\"x\"},\"y\":{\"field\":\"y\"}},\"id\":\"d4fb4a24-5af9-4626-87b3-16e0cae50b36\",\"type\":\"Line\"},{\"attributes\":{\"fill_alpha\":{\"value\":0.1},\"fill_color\":{\"value\":\"#1f77b4\"},\"line_alpha\":{\"value\":0.1},\"line_color\":{\"value\":\"#1f77b4\"},\"x\":{\"field\":\"x\"},\"y\":{\"field\":\"y\"}},\"id\":\"1630ee91-b6b9-44cc-842e-b6f6f3f9f7fc\",\"type\":\"Square\"},{\"attributes\":{\"callback\":null,\"data\":{\"x\":{\"__ndarray__\":\"xCYSGnyhsL41gsKqKLawvhGe6FOd4bC+M3XeNjMPsb43/HDnZzyxvjU4bxcEabG+GJk7bR6Vsb4uc/Kul8CxvnrCpfxj67G+YUtyYokVsr5QyKE88D6yvphl132dZ7K+GPUW45SPsr4cbwybR7myvohdKRyaKrO+e/Hc8IsOtL455WlfZDi0vlso3b3BKrK+gqG3qB+9qL5ENUlDUAFjvuQ6a9DEYrQ+710upkJzyz7+C+bC2eXXPv5KVRzP6Ng+zbdlJpeZ0D7I0AzMbS3BPi8H2AWarqY+UXINncAJjr6oN24w4d2pvq4RUR+kZrK+la4Hp4Kutb4FYUjZ94G3vje+lEfbf7i+uuvj1YVaub5bwPOCE066vsVMcWtia7u+lrI1zTbRvL4dpZQn3Fm+vmW2F+eRwb++M0TOraVVwb6GUu17hmPMvjDCg1duFuS+LkLn8/Ro9762YnR+qh4Hv28BlVViuxO/bxWUSWj6GL80aJT//ucav6dSBdBZEBm/CPXhOdieEb+H/x1gvRXUvmyH7cwXyxo/r7lbG8JBMT/txqG50dc/Pw1w892ct0k/2uyl+FpBUz8+Obij4GpbPxKX7xpl1mI/T2DbFrVYaj+u0V2Xe+9xP1zi8TmjqXc/wM/kFaJgfj9W2T52bAODP3L5CjD+Roc/+noPrrjsiz/78Gbsz26QP+b0X2Ft/pI/eNozriyPlT/GlHUjHwCYP38BZLifK5o/ivZxZzj7mz8e6hvxlHCdP4w+AFgGnZ4/EisGvIqUnz+8p2OvJjigP4aOgH6do6A/\",\"dtype\":\"float64\",\"shape\":[75]},\"y\":{\"__ndarray__\":\"GhExyth1ND/Sv8nbtpRIP2vylNV0PVE/aTum7souWD/At0SJ8fVgPw3Iuahxymc/MSNhhJWvcD/bTfBN02d3P2zb5nxnaoA/CD5h5MAGhz8NmeH1TyaQP+zrCsc9p5Y/LbKd76fGnz/bLW5ISEmmPww9YvTcQq8/JV2OstnstT8Er5Y7M8G+P0c+r3jqkcU/5h99k6ZBzj88bCIzFzjVP4enV8oyxN0//yH99nXg5D8qOpLLf0jtP5kqGJXUifQ/c9cS8kHP/D+/DpwzojQEQIEmwoanVwxA4lgXt9HgE0BSSZ2AJuIbQAMJih9jjiNA5q4l5INuK0AwTKYKRj0zQNv5fmq8/DpAaCJseHrtQkB/+zpwzoxKQM3MzMzMeFJAZmZmZmZqWEAAAAAAAFxeQM3MzMzMJmJAmpmZmZkfZUBmZmZmZhhoQDMzMzMzEWtAAAAAAAAKbkBmZmZmZoFwQM3MzMzM/XFAMzMzMzN6c0CamZmZmfZ0QAAAAAAAc3ZAZmZmZmbvd0DNzMzMzGt5QDMzMzMz6HpAmpmZmZlkfEAAAAAAAOF9QGZmZmZmXX9AZmZmZuZsgECamZmZGSuBQM3MzMxM6YFAAAAAAICngkAzMzMzs2WDQGZmZmbmI4RAmpmZmRnihEDNzMzMTKCFQAAAAACAXoZAMzMzM7Mch0BmZmZm5tqHQJqZmZkZmYhAzczMzExXiUAAAAAAgBWKQDMzMzOz04pAZmZmZuaRi0CamZmZGVCMQM3MzMxMDo1AAAAAAIDMjUAzMzMzs4qOQGZmZmbmSI9A\",\"dtype\":\"float64\",\"shape\":[75]}},\"selected\":{\"id\":\"085fbc7f-e078-4121-9926-e2f83b391459\",\"type\":\"Selection\"},\"selection_policy\":{\"id\":\"225ba05e-287e-4c08-b87c-5626124e5851\",\"type\":\"UnionRenderers\"}},\"id\":\"439c1501-f75f-48e0-bb0b-5d9bc6dd22f6\",\"type\":\"ColumnDataSource\"},{\"attributes\":{\"source\":{\"id\":\"0d0f3286-9b8b-4089-b93e-246a00b4eb43\",\"type\":\"ColumnDataSource\"}},\"id\":\"c2f267c9-96e2-4524-bac7-d903529d2ff7\",\"type\":\"CDSView\"},{\"attributes\":{},\"id\":\"225ba05e-287e-4c08-b87c-5626124e5851\",\"type\":\"UnionRenderers\"},{\"attributes\":{\"fill_alpha\":{\"value\":0.7},\"fill_color\":{\"value\":\"#984ea3\"},\"line_alpha\":{\"value\":0.7},\"line_color\":{\"value\":\"#984ea3\"},\"x\":{\"field\":\"x\"},\"y\":{\"field\":\"y\"}},\"id\":\"0e63cc4f-32d9-4f3e-9a1e-9ca9af3ba757\",\"type\":\"Square\"},{\"attributes\":{\"source\":{\"id\":\"439c1501-f75f-48e0-bb0b-5d9bc6dd22f6\",\"type\":\"ColumnDataSource\"}},\"id\":\"21753b37-f690-4712-a599-08d921014cb5\",\"type\":\"CDSView\"},{\"attributes\":{\"data_source\":{\"id\":\"ec1c7464-3caf-4b12-a391-2142b5964516\",\"type\":\"ColumnDataSource\"},\"glyph\":{\"id\":\"0e63cc4f-32d9-4f3e-9a1e-9ca9af3ba757\",\"type\":\"Square\"},\"hover_glyph\":null,\"muted_glyph\":null,\"nonselection_glyph\":{\"id\":\"1630ee91-b6b9-44cc-842e-b6f6f3f9f7fc\",\"type\":\"Square\"},\"selection_glyph\":null,\"view\":{\"id\":\"8420bbd3-ddf2-4939-ae86-a338d2a6a5d4\",\"type\":\"CDSView\"}},\"id\":\"05746720-28c0-4fd4-94d1-44774b107e41\",\"type\":\"GlyphRenderer\"},{\"attributes\":{\"source\":{\"id\":\"98a0cd00-9a90-4b04-a643-412a8fe053d4\",\"type\":\"ColumnDataSource\"}},\"id\":\"a1f1179f-72ba-4a68-b3b2-1199374c40df\",\"type\":\"CDSView\"},{\"attributes\":{\"above\":[{\"id\":\"b6079dd6-90bc-411f-bc86-1b9ba5191f3a\",\"type\":\"Legend\"}],\"below\":[{\"id\":\"5d148c52-c3a9-4d27-a151-dcb3bc825b34\",\"type\":\"LinearAxis\"}],\"left\":[{\"id\":\"c490362f-e068-4fa1-b2d3-dde6621f320f\",\"type\":\"LogAxis\"}],\"plot_height\":500,\"plot_width\":400,\"renderers\":[{\"id\":\"5d148c52-c3a9-4d27-a151-dcb3bc825b34\",\"type\":\"LinearAxis\"},{\"id\":\"e18a115e-b75b-4d98-80bd-83a3e4119b48\",\"type\":\"Grid\"},{\"id\":\"c490362f-e068-4fa1-b2d3-dde6621f320f\",\"type\":\"LogAxis\"},{\"id\":\"2f5aba58-af5a-4482-9727-8ec0a9026f75\",\"type\":\"Grid\"},{\"id\":\"b638c48b-4555-4bc7-8d5b-c95b85a3316b\",\"type\":\"BoxAnnotation\"},{\"id\":\"0dc8d2ae-1b56-4661-844a-8e99a6290c0b\",\"type\":\"GlyphRenderer\"},{\"id\":\"2b29aa38-4192-4827-9191-82306c9d2ad2\",\"type\":\"GlyphRenderer\"},{\"id\":\"77fb75a2-aa22-4bfd-9c0b-a957e54d07c2\",\"type\":\"GlyphRenderer\"},{\"id\":\"afa632ae-44ab-4669-86cc-dd555a30277b\",\"type\":\"GlyphRenderer\"},{\"id\":\"8d653c9e-401e-4759-a5f6-ffa95d36f426\",\"type\":\"GlyphRenderer\"},{\"id\":\"0faabc67-ab31-4dd5-ac79-5580160ce166\",\"type\":\"GlyphRenderer\"},{\"id\":\"b6079dd6-90bc-411f-bc86-1b9ba5191f3a\",\"type\":\"Legend\"}],\"title\":{\"id\":\"e30cd6e2-c56d-4532-90a7-881a481313ef\",\"type\":\"Title\"},\"toolbar\":{\"id\":\"c2ecf9e3-db78-41fd-a5f9-0f2203df071a\",\"type\":\"Toolbar\"},\"toolbar_location\":null,\"x_range\":{\"id\":\"05cc2aba-b973-4532-8754-0cce278f24ac\",\"type\":\"Range1d\"},\"x_scale\":{\"id\":\"4b51d10f-2223-45e5-89fa-f967816961f4\",\"type\":\"LinearScale\"},\"y_range\":{\"id\":\"ee12b144-980e-454e-be9b-2e3abf24469f\",\"type\":\"Range1d\"},\"y_scale\":{\"id\":\"9eb0492f-9bec-48b5-a44b-f1a2cfe3140b\",\"type\":\"LogScale\"}},\"id\":\"d27c8bda-eb8f-48b9-a81e-be89614002be\",\"subtype\":\"Figure\",\"type\":\"Plot\"},{\"attributes\":{\"line_alpha\":0.6,\"line_color\":\"#984ea3\",\"line_width\":3,\"x\":{\"field\":\"x\"},\"y\":{\"field\":\"y\"}},\"id\":\"6cde10fd-83e0-4b27-9220-9ad2bcb2f233\",\"type\":\"Line\"},{\"attributes\":{\"source\":{\"id\":\"f0ce1289-931b-4ef8-ad8e-0bc74be5ab54\",\"type\":\"ColumnDataSource\"}},\"id\":\"f5c802da-4085-448b-b2f6-89f2a4ed3800\",\"type\":\"CDSView\"},{\"attributes\":{\"line_alpha\":0.3,\"line_color\":\"#377eb8\",\"line_width\":2,\"x\":{\"field\":\"x\"},\"y\":{\"field\":\"y\"}},\"id\":\"09f6dea3-b466-4186-87af-c6a963372b4d\",\"type\":\"Line\"},{\"attributes\":{\"source\":{\"id\":\"d41e14ed-9ebd-4d6e-9dba-a2e92655b726\",\"type\":\"ColumnDataSource\"}},\"id\":\"b978cba6-7a2d-491e-87e7-a97af49de713\",\"type\":\"CDSView\"},{\"attributes\":{},\"id\":\"085fbc7f-e078-4121-9926-e2f83b391459\",\"type\":\"Selection\"},{\"attributes\":{\"callback\":null,\"data\":{\"x\":{\"__ndarray__\":\"FJzOtkNlub7PUbpqLIK5vlZ8YCgzv7m+Soj/piD+ub6OAqBDBjy6vug0sTV7eLq+vesrSZ2zur5c+jBMSu26vg1mLZBZJbu+4zXntplbu75mEbZ6D5C7vqz9aI2Dwru+tfgI/+/yu75sJEluJSS8vmQt/Gz5o7y+sIhdcQZgvb6yO2mK1TK8vi94FyPKn7a+mVA7PMmmo74NLic8Tq6sPglp2Ydm6cs+bGU5e/ii3j7sd3P1ZwHpPt25ieIH6Ok+xKg3ZQjy4T6TUpykhoDUPqs6euDuxcI+kgkmLc5ZoD62WsxaNpKjvqJJV/uCeLS+s2c4wJbIur7dnn+e3Be+viSyIgdacL++4deRfDEJwL6zcAxEy0XAvnoAEo1ohMC+5a4YERfwwL4q9sek/n/BvpVdMD5nCMK+4bYR+JRxw74WyWAMt33Pvln6vf0T/eW+4WFvXR0s+b4gY7PyskEIvzSkSFFK/xO/c38NueD6F787jzJA/5cXv9jXU6F/4hG/VnPjIioN8L4GXVMa62EVP/TRpWvwCS8/yTNMjPjoPT/6G/mguZRIP6aN7SyvmVI/vZr/uP2pWj/fbAk2u2BiP2xv3lnulWg/INunW2XKcD81zJbNmFl2P4ddyq/V1Hw/VsX8ZucXgj/D/5rPYCOGP2EaP7r8eoo/MfCfGKAHjz9BRdD2utWRP6Up7rf3IpQ/hcjBIyxVlj+9rzRqakuYP/QyDh474pk/RaEy7JoKmz+vFrSdqtObP1UpAyjCXZw/tMcnPiDLnD8s1yyuKUSdP6/FJcme/Z0/\",\"dtype\":\"float64\",\"shape\":[75]},\"y\":{\"__ndarray__\":\"GhExyth1ND/Sv8nbtpRIP2vylNV0PVE/aTum7souWD/At0SJ8fVgPw3Iuahxymc/MSNhhJWvcD/bTfBN02d3P2zb5nxnaoA/CD5h5MAGhz8NmeH1TyaQP+zrCsc9p5Y/LbKd76fGnz/bLW5ISEmmPww9YvTcQq8/JV2OstnstT8Er5Y7M8G+P0c+r3jqkcU/5h99k6ZBzj88bCIzFzjVP4enV8oyxN0//yH99nXg5D8qOpLLf0jtP5kqGJXUifQ/c9cS8kHP/D+/DpwzojQEQIEmwoanVwxA4lgXt9HgE0BSSZ2AJuIbQAMJih9jjiNA5q4l5INuK0AwTKYKRj0zQNv5fmq8/DpAaCJseHrtQkB/+zpwzoxKQM3MzMzMeFJAZmZmZmZqWEAAAAAAAFxeQM3MzMzMJmJAmpmZmZkfZUBmZmZmZhhoQDMzMzMzEWtAAAAAAAAKbkBmZmZmZoFwQM3MzMzM/XFAMzMzMzN6c0CamZmZmfZ0QAAAAAAAc3ZAZmZmZmbvd0DNzMzMzGt5QDMzMzMz6HpAmpmZmZlkfEAAAAAAAOF9QGZmZmZmXX9AZmZmZuZsgECamZmZGSuBQM3MzMxM6YFAAAAAAICngkAzMzMzs2WDQGZmZmbmI4RAmpmZmRnihEDNzMzMTKCFQAAAAACAXoZAMzMzM7Mch0BmZmZm5tqHQJqZmZkZmYhAzczMzExXiUAAAAAAgBWKQDMzMzOz04pAZmZmZuaRi0CamZmZGVCMQM3MzMxMDo1AAAAAAIDMjUAzMzMzs4qOQGZmZmbmSI9A\",\"dtype\":\"float64\",\"shape\":[75]}},\"selected\":{\"id\":\"0a457aa2-a3c9-4ef4-9fec-22daf9d92817\",\"type\":\"Selection\"},\"selection_policy\":{\"id\":\"2a157a9f-8928-4730-ac12-223e388dd0c3\",\"type\":\"UnionRenderers\"}},\"id\":\"e61c7d1a-d0ed-4e39-9ebf-1f5db978357e\",\"type\":\"ColumnDataSource\"},{\"attributes\":{\"callback\":null,\"data\":{\"x\":{\"__ndarray__\":\"xCYSGnyhsL41gsKqKLawvhGe6FOd4bC+M3XeNjMPsb43/HDnZzyxvjU4bxcEabG+GJk7bR6Vsb4uc/Kul8CxvnrCpfxj67G+YUtyYokVsr5QyKE88D6yvphl132dZ7K+GPUW45SPsr4cbwybR7myvohdKRyaKrO+e/Hc8IsOtL455WlfZDi0vlso3b3BKrK+gqG3qB+9qL5ENUlDUAFjvuQ6a9DEYrQ+710upkJzyz7+C+bC2eXXPv5KVRzP6Ng+zbdlJpeZ0D7I0AzMbS3BPi8H2AWarqY+UXINncAJjr6oN24w4d2pvq4RUR+kZrK+la4Hp4Kutb4FYUjZ94G3vje+lEfbf7i+uuvj1YVaub5bwPOCE066vsVMcWtia7u+lrI1zTbRvL4dpZQn3Fm+vmW2F+eRwb++M0TOraVVwb6GUu17hmPMvjDCg1duFuS+LkLn8/Ro9762YnR+qh4Hv28BlVViuxO/bxWUSWj6GL80aJT//ucav6dSBdBZEBm/CPXhOdieEb+H/x1gvRXUvmyH7cwXyxo/r7lbG8JBMT/txqG50dc/Pw1w892ct0k/2uyl+FpBUz8+Obij4GpbPxKX7xpl1mI/T2DbFrVYaj+u0V2Xe+9xP1zi8TmjqXc/wM/kFaJgfj9W2T52bAODP3L5CjD+Roc/+noPrrjsiz/78Gbsz26QP+b0X2Ft/pI/eNozriyPlT/GlHUjHwCYP38BZLifK5o/ivZxZzj7mz8e6hvxlHCdP4w+AFgGnZ4/EisGvIqUnz+8p2OvJjigP4aOgH6do6A/\",\"dtype\":\"float64\",\"shape\":[75]},\"y\":{\"__ndarray__\":\"GhExyth1ND/Sv8nbtpRIP2vylNV0PVE/aTum7souWD/At0SJ8fVgPw3Iuahxymc/MSNhhJWvcD/bTfBN02d3P2zb5nxnaoA/CD5h5MAGhz8NmeH1TyaQP+zrCsc9p5Y/LbKd76fGnz/bLW5ISEmmPww9YvTcQq8/JV2OstnstT8Er5Y7M8G+P0c+r3jqkcU/5h99k6ZBzj88bCIzFzjVP4enV8oyxN0//yH99nXg5D8qOpLLf0jtP5kqGJXUifQ/c9cS8kHP/D+/DpwzojQEQIEmwoanVwxA4lgXt9HgE0BSSZ2AJuIbQAMJih9jjiNA5q4l5INuK0AwTKYKRj0zQNv5fmq8/DpAaCJseHrtQkB/+zpwzoxKQM3MzMzMeFJAZmZmZmZqWEAAAAAAAFxeQM3MzMzMJmJAmpmZmZkfZUBmZmZmZhhoQDMzMzMzEWtAAAAAAAAKbkBmZmZmZoFwQM3MzMzM/XFAMzMzMzN6c0CamZmZmfZ0QAAAAAAAc3ZAZmZmZmbvd0DNzMzMzGt5QDMzMzMz6HpAmpmZmZlkfEAAAAAAAOF9QGZmZmZmXX9AZmZmZuZsgECamZmZGSuBQM3MzMxM6YFAAAAAAICngkAzMzMzs2WDQGZmZmbmI4RAmpmZmRnihEDNzMzMTKCFQAAAAACAXoZAMzMzM7Mch0BmZmZm5tqHQJqZmZkZmYhAzczMzExXiUAAAAAAgBWKQDMzMzOz04pAZmZmZuaRi0CamZmZGVCMQM3MzMxMDo1AAAAAAIDMjUAzMzMzs4qOQGZmZmbmSI9A\",\"dtype\":\"float64\",\"shape\":[75]}},\"selected\":{\"id\":\"f2ca8518-6372-4ac2-b298-07b15f2fa7b9\",\"type\":\"Selection\"},\"selection_policy\":{\"id\":\"bf849a5f-f0e9-45ec-99fb-511fc18b8d20\",\"type\":\"UnionRenderers\"}},\"id\":\"ec1c7464-3caf-4b12-a391-2142b5964516\",\"type\":\"ColumnDataSource\"},{\"attributes\":{\"callback\":null,\"data\":{\"x\":{\"__ndarray__\":\"xCYSGnyhsL41gsKqKLawvhGe6FOd4bC+M3XeNjMPsb43/HDnZzyxvjU4bxcEabG+GJk7bR6Vsb4uc/Kul8CxvnrCpfxj67G+YUtyYokVsr5QyKE88D6yvphl132dZ7K+GPUW45SPsr4cbwybR7myvohdKRyaKrO+e/Hc8IsOtL455WlfZDi0vlso3b3BKrK+gqG3qB+9qL5ENUlDUAFjvuQ6a9DEYrQ+710upkJzyz7+C+bC2eXXPv5KVRzP6Ng+zbdlJpeZ0D7I0AzMbS3BPi8H2AWarqY+UXINncAJjr6oN24w4d2pvq4RUR+kZrK+la4Hp4Kutb4FYUjZ94G3vje+lEfbf7i+uuvj1YVaub5bwPOCE066vsVMcWtia7u+lrI1zTbRvL4dpZQn3Fm+vmW2F+eRwb++M0TOraVVwb6GUu17hmPMvjDCg1duFuS+LkLn8/Ro9762YnR+qh4Hv28BlVViuxO/bxWUSWj6GL80aJT//ucav6dSBdBZEBm/CPXhOdieEb+H/x1gvRXUvmyH7cwXyxo/r7lbG8JBMT/txqG50dc/Pw1w892ct0k/2uyl+FpBUz8+Obij4GpbPxKX7xpl1mI/T2DbFrVYaj+u0V2Xe+9xP1zi8TmjqXc/wM/kFaJgfj9W2T52bAODP3L5CjD+Roc/+noPrrjsiz/78Gbsz26QP+b0X2Ft/pI/eNozriyPlT/GlHUjHwCYP38BZLifK5o/ivZxZzj7mz8e6hvxlHCdP4w+AFgGnZ4/EisGvIqUnz+8p2OvJjigP4aOgH6do6A/\",\"dtype\":\"float64\",\"shape\":[75]},\"y\":{\"__ndarray__\":\"GhExyth1ND/Sv8nbtpRIP2vylNV0PVE/aTum7souWD/At0SJ8fVgPw3Iuahxymc/MSNhhJWvcD/bTfBN02d3P2zb5nxnaoA/CD5h5MAGhz8NmeH1TyaQP+zrCsc9p5Y/LbKd76fGnz/bLW5ISEmmPww9YvTcQq8/JV2OstnstT8Er5Y7M8G+P0c+r3jqkcU/5h99k6ZBzj88bCIzFzjVP4enV8oyxN0//yH99nXg5D8qOpLLf0jtP5kqGJXUifQ/c9cS8kHP/D+/DpwzojQEQIEmwoanVwxA4lgXt9HgE0BSSZ2AJuIbQAMJih9jjiNA5q4l5INuK0AwTKYKRj0zQNv5fmq8/DpAaCJseHrtQkB/+zpwzoxKQM3MzMzMeFJAZmZmZmZqWEAAAAAAAFxeQM3MzMzMJmJAmpmZmZkfZUBmZmZmZhhoQDMzMzMzEWtAAAAAAAAKbkBmZmZmZoFwQM3MzMzM/XFAMzMzMzN6c0CamZmZmfZ0QAAAAAAAc3ZAZmZmZmbvd0DNzMzMzGt5QDMzMzMz6HpAmpmZmZlkfEAAAAAAAOF9QGZmZmZmXX9AZmZmZuZsgECamZmZGSuBQM3MzMxM6YFAAAAAAICngkAzMzMzs2WDQGZmZmbmI4RAmpmZmRnihEDNzMzMTKCFQAAAAACAXoZAMzMzM7Mch0BmZmZm5tqHQJqZmZkZmYhAzczMzExXiUAAAAAAgBWKQDMzMzOz04pAZmZmZuaRi0CamZmZGVCMQM3MzMxMDo1AAAAAAIDMjUAzMzMzs4qOQGZmZmbmSI9A\",\"dtype\":\"float64\",\"shape\":[75]}},\"selected\":{\"id\":\"9ea68329-3ecb-43eb-8058-42371d43471b\",\"type\":\"Selection\"},\"selection_policy\":{\"id\":\"b4896a23-af0e-4a55-be6f-7efb14c1abb0\",\"type\":\"UnionRenderers\"}},\"id\":\"e1814df4-ee7d-4714-aed0-5f90b3632166\",\"type\":\"ColumnDataSource\"},{\"attributes\":{\"callback\":null,\"data\":{\"x\":{\"__ndarray__\":\"Spv30In2rb7d3oyXnx2uvlltY2xQcK6+m61uYV7Hrr7umdjrzx2vvriTVjukc6++3rPIxbHIr76ke7Toew6wvvXNr8QqOLC+v5r58WBhsL799UnYG4qwvnmMXH9WsrC+of/LfRvasL5ruTCp4gOxvjFm0RWVd7G+vITpCutzsr4PKL2G1v6yvha/xNIAyrG+1D6hbyUkq74DW93OE/6RvmxPeVU7Mag+Ws8BTxTnwz7cceq9DTDSPrSJDntqAdM+JkRwE0+GyD6EonoogTG3Pp4a6wQEJZM+3UjtAWOLnL5j/ubK6oKsvlw9XfhnY7K+lLsQCDzEtL6djUxK6f61vgMQP0woora+012E1YtBt75YnN3CrAC4vgFPMefo67i+kboDVHEmur4Z8rQPaoq7vr3eOiAt0by+OXBPczl+v74jnCOa+ujJvtPC0fGNguK+pl+sVjvc9b51fWJoZ/oFv/Xk3JwXOxO/BoChyG4xGb/gEDIWX78cv/f6xCOGth2/iTYTBuw2Gr+0Z1D/3bkPv9Nwqm6Us/A+xSBD7MY0Ij/4VGGvRbo0PzwbQpM6ZkI/QTwSAzUsTT9h2VKkl6FVPzUy2K3Wq14/6uuOSAEJZj8ZFyPWj8JuP1O6onoFx3Q/do3R0+tKez+aa4QGKniBP92JeDxE24U/6EaVt9zGij/Bfl+O5BOQP3k9r7CU8JI/VQnzdx/ilT+cj9UnZcSYP/IDLPmlbJs/BGRrWoK8nT9PlsLSrKufPw+QynWcoKA/xY9ShRZEoT+l/iaGd8ihP61jmdSJMaI/\",\"dtype\":\"float64\",\"shape\":[75]},\"y\":{\"__ndarray__\":\"GhExyth1ND/Sv8nbtpRIP2vylNV0PVE/aTum7souWD/At0SJ8fVgPw3Iuahxymc/MSNhhJWvcD/bTfBN02d3P2zb5nxnaoA/CD5h5MAGhz8NmeH1TyaQP+zrCsc9p5Y/LbKd76fGnz/bLW5ISEmmPww9YvTcQq8/JV2OstnstT8Er5Y7M8G+P0c+r3jqkcU/5h99k6ZBzj88bCIzFzjVP4enV8oyxN0//yH99nXg5D8qOpLLf0jtP5kqGJXUifQ/c9cS8kHP/D+/DpwzojQEQIEmwoanVwxA4lgXt9HgE0BSSZ2AJuIbQAMJih9jjiNA5q4l5INuK0AwTKYKRj0zQNv5fmq8/DpAaCJseHrtQkB/+zpwzoxKQM3MzMzMeFJAZmZmZmZqWEAAAAAAAFxeQM3MzMzMJmJAmpmZmZkfZUBmZmZmZhhoQDMzMzMzEWtAAAAAAAAKbkBmZmZmZoFwQM3MzMzM/XFAMzMzMzN6c0CamZmZmfZ0QAAAAAAAc3ZAZmZmZmbvd0DNzMzMzGt5QDMzMzMz6HpAmpmZmZlkfEAAAAAAAOF9QGZmZmZmXX9AZmZmZuZsgECamZmZGSuBQM3MzMxM6YFAAAAAAICngkAzMzMzs2WDQGZmZmbmI4RAmpmZmRnihEDNzMzMTKCFQAAAAACAXoZAMzMzM7Mch0BmZmZm5tqHQJqZmZkZmYhAzczMzExXiUAAAAAAgBWKQDMzMzOz04pAZmZmZuaRi0CamZmZGVCMQM3MzMxMDo1AAAAAAIDMjUAzMzMzs4qOQGZmZmbmSI9A\",\"dtype\":\"float64\",\"shape\":[75]}},\"selected\":{\"id\":\"83cf9f54-c342-49f4-884b-e337df90ecb1\",\"type\":\"Selection\"},\"selection_policy\":{\"id\":\"aa91f85c-4f92-4dc3-b538-1a6f039df6f2\",\"type\":\"UnionRenderers\"}},\"id\":\"d41e14ed-9ebd-4d6e-9dba-a2e92655b726\",\"type\":\"ColumnDataSource\"},{\"attributes\":{\"fill_alpha\":{\"value\":0.1},\"fill_color\":{\"value\":\"#1f77b4\"},\"line_alpha\":{\"value\":0.1},\"line_color\":{\"value\":\"#1f77b4\"},\"x\":{\"field\":\"x\"},\"y\":{\"field\":\"y\"}},\"id\":\"e38a91a4-23b6-4241-aebf-c95b7620e47e\",\"type\":\"Square\"},{\"attributes\":{},\"id\":\"aa91f85c-4f92-4dc3-b538-1a6f039df6f2\",\"type\":\"UnionRenderers\"},{\"attributes\":{\"fill_alpha\":{\"value\":0.7},\"fill_color\":{\"value\":\"#377eb8\"},\"line_alpha\":{\"value\":0.7},\"line_color\":{\"value\":\"#377eb8\"},\"x\":{\"field\":\"x\"},\"y\":{\"field\":\"y\"}},\"id\":\"322e66bb-406c-4c4c-b523-ac64a044058b\",\"type\":\"Triangle\"},{\"attributes\":{\"callback\":null,\"data\":{\"x\":{\"__ndarray__\":\"Spv30In2rb7d3oyXnx2uvlltY2xQcK6+m61uYV7Hrr7umdjrzx2vvriTVjukc6++3rPIxbHIr76ke7Toew6wvvXNr8QqOLC+v5r58WBhsL799UnYG4qwvnmMXH9WsrC+of/LfRvasL5ruTCp4gOxvjFm0RWVd7G+vITpCutzsr4PKL2G1v6yvha/xNIAyrG+1D6hbyUkq74DW93OE/6RvmxPeVU7Mag+Ws8BTxTnwz7cceq9DTDSPrSJDntqAdM+JkRwE0+GyD6EonoogTG3Pp4a6wQEJZM+3UjtAWOLnL5j/ubK6oKsvlw9XfhnY7K+lLsQCDzEtL6djUxK6f61vgMQP0woora+012E1YtBt75YnN3CrAC4vgFPMefo67i+kboDVHEmur4Z8rQPaoq7vr3eOiAt0by+OXBPczl+v74jnCOa+ujJvtPC0fGNguK+pl+sVjvc9b51fWJoZ/oFv/Xk3JwXOxO/BoChyG4xGb/gEDIWX78cv/f6xCOGth2/iTYTBuw2Gr+0Z1D/3bkPv9Nwqm6Us/A+xSBD7MY0Ij/4VGGvRbo0PzwbQpM6ZkI/QTwSAzUsTT9h2VKkl6FVPzUy2K3Wq14/6uuOSAEJZj8ZFyPWj8JuP1O6onoFx3Q/do3R0+tKez+aa4QGKniBP92JeDxE24U/6EaVt9zGij/Bfl+O5BOQP3k9r7CU8JI/VQnzdx/ilT+cj9UnZcSYP/IDLPmlbJs/BGRrWoK8nT9PlsLSrKufPw+QynWcoKA/xY9ShRZEoT+l/iaGd8ihP61jmdSJMaI/\",\"dtype\":\"float64\",\"shape\":[75]},\"y\":{\"__ndarray__\":\"GhExyth1ND/Sv8nbtpRIP2vylNV0PVE/aTum7souWD/At0SJ8fVgPw3Iuahxymc/MSNhhJWvcD/bTfBN02d3P2zb5nxnaoA/CD5h5MAGhz8NmeH1TyaQP+zrCsc9p5Y/LbKd76fGnz/bLW5ISEmmPww9YvTcQq8/JV2OstnstT8Er5Y7M8G+P0c+r3jqkcU/5h99k6ZBzj88bCIzFzjVP4enV8oyxN0//yH99nXg5D8qOpLLf0jtP5kqGJXUifQ/c9cS8kHP/D+/DpwzojQEQIEmwoanVwxA4lgXt9HgE0BSSZ2AJuIbQAMJih9jjiNA5q4l5INuK0AwTKYKRj0zQNv5fmq8/DpAaCJseHrtQkB/+zpwzoxKQM3MzMzMeFJAZmZmZmZqWEAAAAAAAFxeQM3MzMzMJmJAmpmZmZkfZUBmZmZmZhhoQDMzMzMzEWtAAAAAAAAKbkBmZmZmZoFwQM3MzMzM/XFAMzMzMzN6c0CamZmZmfZ0QAAAAAAAc3ZAZmZmZmbvd0DNzMzMzGt5QDMzMzMz6HpAmpmZmZlkfEAAAAAAAOF9QGZmZmZmXX9AZmZmZuZsgECamZmZGSuBQM3MzMxM6YFAAAAAAICngkAzMzMzs2WDQGZmZmbmI4RAmpmZmRnihEDNzMzMTKCFQAAAAACAXoZAMzMzM7Mch0BmZmZm5tqHQJqZmZkZmYhAzczMzExXiUAAAAAAgBWKQDMzMzOz04pAZmZmZuaRi0CamZmZGVCMQM3MzMxMDo1AAAAAAIDMjUAzMzMzs4qOQGZmZmbmSI9A\",\"dtype\":\"float64\",\"shape\":[75]}},\"selected\":{\"id\":\"301635b4-2756-4494-bcb2-9e36e57c8f6a\",\"type\":\"Selection\"},\"selection_policy\":{\"id\":\"81f75040-130b-4cc9-b1a9-8c6455526873\",\"type\":\"UnionRenderers\"}},\"id\":\"0d0f3286-9b8b-4089-b93e-246a00b4eb43\",\"type\":\"ColumnDataSource\"},{\"attributes\":{\"data_source\":{\"id\":\"d41e14ed-9ebd-4d6e-9dba-a2e92655b726\",\"type\":\"ColumnDataSource\"},\"glyph\":{\"id\":\"09f6dea3-b466-4186-87af-c6a963372b4d\",\"type\":\"Line\"},\"hover_glyph\":null,\"muted_glyph\":null,\"nonselection_glyph\":{\"id\":\"d4fb4a24-5af9-4626-87b3-16e0cae50b36\",\"type\":\"Line\"},\"selection_glyph\":null,\"view\":{\"id\":\"b978cba6-7a2d-491e-87e7-a97af49de713\",\"type\":\"CDSView\"}},\"id\":\"2ceb3d10-abae-4f03-a485-e76a47990cbc\",\"type\":\"GlyphRenderer\"},{\"attributes\":{\"active_drag\":\"auto\",\"active_inspect\":\"auto\",\"active_scroll\":\"auto\",\"active_tap\":\"auto\",\"tools\":[{\"id\":\"bf81a33a-9879-4759-90ec-0740bff78390\",\"type\":\"PanTool\"},{\"id\":\"716facda-f895-4cc6-b678-135b78bff79a\",\"type\":\"WheelZoomTool\"},{\"id\":\"8a4c6876-8068-4b12-8eec-0d018bd5265f\",\"type\":\"BoxZoomTool\"},{\"id\":\"bd834a5c-de08-4ef9-95bc-3121571bc551\",\"type\":\"SaveTool\"},{\"id\":\"82174e02-2b46-41ae-8997-13eb41b1959e\",\"type\":\"ResetTool\"},{\"id\":\"de6c7b6b-95c9-4ab7-b832-3947c97c5736\",\"type\":\"HelpTool\"}]},\"id\":\"c2ecf9e3-db78-41fd-a5f9-0f2203df071a\",\"type\":\"Toolbar\"},{\"attributes\":{\"label\":{\"value\":\"CRD\"},\"renderers\":[{\"id\":\"81f2b11e-fe5a-4591-a85f-dbc629b7c256\",\"type\":\"GlyphRenderer\"},{\"id\":\"dcc33ff3-4a30-4850-b33a-24170321837b\",\"type\":\"GlyphRenderer\"}]},\"id\":\"f03942a2-faf2-4662-b323-14943e41f04f\",\"type\":\"LegendItem\"},{\"attributes\":{\"data_source\":{\"id\":\"e1814df4-ee7d-4714-aed0-5f90b3632166\",\"type\":\"ColumnDataSource\"},\"glyph\":{\"id\":\"a7aae73f-a2e7-4719-b588-4d6b0f8ee807\",\"type\":\"Square\"},\"hover_glyph\":null,\"muted_glyph\":null,\"nonselection_glyph\":{\"id\":\"e38a91a4-23b6-4241-aebf-c95b7620e47e\",\"type\":\"Square\"},\"selection_glyph\":null,\"view\":{\"id\":\"6cd34f83-97f3-419c-a4bc-a36ce093704f\",\"type\":\"CDSView\"}},\"id\":\"77fb75a2-aa22-4bfd-9c0b-a957e54d07c2\",\"type\":\"GlyphRenderer\"},{\"attributes\":{\"callback\":null,\"end\":1.2514191485999999e-05,\"start\":-3.9151000860000005e-06},\"id\":\"05cc2aba-b973-4532-8754-0cce278f24ac\",\"type\":\"Range1d\"},{\"attributes\":{\"label\":{\"value\":\"WGT igg=1\"},\"renderers\":[{\"id\":\"05746720-28c0-4fd4-94d1-44774b107e41\",\"type\":\"GlyphRenderer\"},{\"id\":\"7c982b0a-d5ac-45b3-908e-812bf9b5ef68\",\"type\":\"GlyphRenderer\"}]},\"id\":\"9808e7b7-8cd1-4fdb-8b7a-5e533034e1db\",\"type\":\"LegendItem\"},{\"attributes\":{},\"id\":\"4b51d10f-2223-45e5-89fa-f967816961f4\",\"type\":\"LinearScale\"},{\"attributes\":{\"source\":{\"id\":\"ace87b5e-c80b-4cae-a16b-4d05a24c8810\",\"type\":\"ColumnDataSource\"}},\"id\":\"bd5c6b6b-7e84-4f8e-84e4-aeb0c561b675\",\"type\":\"CDSView\"},{\"attributes\":{\"label\":{\"value\":\"WGT igg=10\"},\"renderers\":[{\"id\":\"36f0eb00-21ab-4aac-825f-884b5dc3e657\",\"type\":\"GlyphRenderer\"},{\"id\":\"2ceb3d10-abae-4f03-a485-e76a47990cbc\",\"type\":\"GlyphRenderer\"}]},\"id\":\"e4f0e084-8685-4abc-aedf-bed300709694\",\"type\":\"LegendItem\"},{\"attributes\":{\"line_alpha\":0.6,\"line_color\":\"#984ea3\",\"line_width\":3,\"x\":{\"field\":\"x\"},\"y\":{\"field\":\"y\"}},\"id\":\"d6e00a03-84d8-4366-8ec2-97f0e8a9036d\",\"type\":\"Line\"},{\"attributes\":{},\"id\":\"716facda-f895-4cc6-b678-135b78bff79a\",\"type\":\"WheelZoomTool\"},{\"attributes\":{\"line_alpha\":0.1,\"line_color\":\"#1f77b4\",\"line_width\":3,\"x\":{\"field\":\"x\"},\"y\":{\"field\":\"y\"}},\"id\":\"2a69b079-e276-40dd-b3b9-85d93c35ebbe\",\"type\":\"Line\"},{\"attributes\":{\"items\":[{\"id\":\"ad427ce3-db6a-4cbb-bff4-cf3132dbd8cd\",\"type\":\"LegendItem\"},{\"id\":\"adf4ef9a-1c80-4673-861c-51faab536528\",\"type\":\"LegendItem\"},{\"id\":\"4eb3a643-6c58-4135-8be5-151f12054ba5\",\"type\":\"LegendItem\"}],\"label_text_font_size\":{\"value\":\"8pt\"},\"location\":\"top_center\",\"orientation\":\"horizontal\",\"plot\":{\"id\":\"d27c8bda-eb8f-48b9-a81e-be89614002be\",\"subtype\":\"Figure\",\"type\":\"Plot\"}},\"id\":\"b6079dd6-90bc-411f-bc86-1b9ba5191f3a\",\"type\":\"Legend\"},{\"attributes\":{\"line_alpha\":0.1,\"line_color\":\"#1f77b4\",\"line_width\":2,\"x\":{\"field\":\"x\"},\"y\":{\"field\":\"y\"}},\"id\":\"2092c41a-5e80-490b-b6ff-8e0b97eb1513\",\"type\":\"Line\"},{\"attributes\":{},\"id\":\"bf81a33a-9879-4759-90ec-0740bff78390\",\"type\":\"PanTool\"},{\"attributes\":{\"source\":{\"id\":\"e1814df4-ee7d-4714-aed0-5f90b3632166\",\"type\":\"ColumnDataSource\"}},\"id\":\"6cd34f83-97f3-419c-a4bc-a36ce093704f\",\"type\":\"CDSView\"},{\"attributes\":{},\"id\":\"9eb0492f-9bec-48b5-a44b-f1a2cfe3140b\",\"type\":\"LogScale\"},{\"attributes\":{\"source\":{\"id\":\"2aa4224a-d040-4cbc-b6c7-51df4d96f6e5\",\"type\":\"ColumnDataSource\"}},\"id\":\"c895f93b-9ce4-40da-b7e1-9bd1d88644a7\",\"type\":\"CDSView\"},{\"attributes\":{\"bottom_units\":\"screen\",\"fill_alpha\":{\"value\":0.5},\"fill_color\":{\"value\":\"lightgrey\"},\"left_units\":\"screen\",\"level\":\"overlay\",\"line_alpha\":{\"value\":1.0},\"line_color\":{\"value\":\"black\"},\"line_dash\":[4,4],\"line_width\":{\"value\":2},\"plot\":null,\"render_mode\":\"css\",\"right_units\":\"screen\",\"top_units\":\"screen\"},\"id\":\"b638c48b-4555-4bc7-8d5b-c95b85a3316b\",\"type\":\"BoxAnnotation\"},{\"attributes\":{\"callback\":null,\"end\":0.01,\"start\":1020},\"id\":\"ccd66adc-7a94-4b4c-94be-1714ed2da62f\",\"type\":\"Range1d\"},{\"attributes\":{\"overlay\":{\"id\":\"b638c48b-4555-4bc7-8d5b-c95b85a3316b\",\"type\":\"BoxAnnotation\"}},\"id\":\"8a4c6876-8068-4b12-8eec-0d018bd5265f\",\"type\":\"BoxZoomTool\"},{\"attributes\":{},\"id\":\"bd834a5c-de08-4ef9-95bc-3121571bc551\",\"type\":\"SaveTool\"},{\"attributes\":{\"callback\":null,\"data\":{\"x\":{\"__ndarray__\":\"FJzOtkNlub7PUbpqLIK5vlZ8YCgzv7m+Soj/piD+ub6OAqBDBjy6vug0sTV7eLq+vesrSZ2zur5c+jBMSu26vg1mLZBZJbu+4zXntplbu75mEbZ6D5C7vqz9aI2Dwru+tfgI/+/yu75sJEluJSS8vmQt/Gz5o7y+sIhdcQZgvb6yO2mK1TK8vi94FyPKn7a+mVA7PMmmo74NLic8Tq6sPglp2Ydm6cs+bGU5e/ii3j7sd3P1ZwHpPt25ieIH6Ok+xKg3ZQjy4T6TUpykhoDUPqs6euDuxcI+kgkmLc5ZoD62WsxaNpKjvqJJV/uCeLS+s2c4wJbIur7dnn+e3Be+viSyIgdacL++4deRfDEJwL6zcAxEy0XAvnoAEo1ohMC+5a4YERfwwL4q9sek/n/BvpVdMD5nCMK+4bYR+JRxw74WyWAMt33Pvln6vf0T/eW+4WFvXR0s+b4gY7PyskEIvzSkSFFK/xO/c38NueD6F787jzJA/5cXv9jXU6F/4hG/VnPjIioN8L4GXVMa62EVP/TRpWvwCS8/yTNMjPjoPT/6G/mguZRIP6aN7SyvmVI/vZr/uP2pWj/fbAk2u2BiP2xv3lnulWg/INunW2XKcD81zJbNmFl2P4ddyq/V1Hw/VsX8ZucXgj/D/5rPYCOGP2EaP7r8eoo/MfCfGKAHjz9BRdD2utWRP6Up7rf3IpQ/hcjBIyxVlj+9rzRqakuYP/QyDh474pk/RaEy7JoKmz+vFrSdqtObP1UpAyjCXZw/tMcnPiDLnD8s1yyuKUSdP6/FJcme/Z0/\",\"dtype\":\"float64\",\"shape\":[75]},\"y\":{\"__ndarray__\":\"GhExyth1ND/Sv8nbtpRIP2vylNV0PVE/aTum7souWD/At0SJ8fVgPw3Iuahxymc/MSNhhJWvcD/bTfBN02d3P2zb5nxnaoA/CD5h5MAGhz8NmeH1TyaQP+zrCsc9p5Y/LbKd76fGnz/bLW5ISEmmPww9YvTcQq8/JV2OstnstT8Er5Y7M8G+P0c+r3jqkcU/5h99k6ZBzj88bCIzFzjVP4enV8oyxN0//yH99nXg5D8qOpLLf0jtP5kqGJXUifQ/c9cS8kHP/D+/DpwzojQEQIEmwoanVwxA4lgXt9HgE0BSSZ2AJuIbQAMJih9jjiNA5q4l5INuK0AwTKYKRj0zQNv5fmq8/DpAaCJseHrtQkB/+zpwzoxKQM3MzMzMeFJAZmZmZmZqWEAAAAAAAFxeQM3MzMzMJmJAmpmZmZkfZUBmZmZmZhhoQDMzMzMzEWtAAAAAAAAKbkBmZmZmZoFwQM3MzMzM/XFAMzMzMzN6c0CamZmZmfZ0QAAAAAAAc3ZAZmZmZmbvd0DNzMzMzGt5QDMzMzMz6HpAmpmZmZlkfEAAAAAAAOF9QGZmZmZmXX9AZmZmZuZsgECamZmZGSuBQM3MzMxM6YFAAAAAAICngkAzMzMzs2WDQGZmZmbmI4RAmpmZmRnihEDNzMzMTKCFQAAAAACAXoZAMzMzM7Mch0BmZmZm5tqHQJqZmZkZmYhAzczMzExXiUAAAAAAgBWKQDMzMzOz04pAZmZmZuaRi0CamZmZGVCMQM3MzMxMDo1AAAAAAIDMjUAzMzMzs4qOQGZmZmbmSI9A\",\"dtype\":\"float64\",\"shape\":[75]}},\"selected\":{\"id\":\"5f979bcd-2bab-44e6-84a5-8c3c0f1dd6c4\",\"type\":\"Selection\"},\"selection_policy\":{\"id\":\"600b0b33-7822-4a68-a107-0f27d7761865\",\"type\":\"UnionRenderers\"}},\"id\":\"ace87b5e-c80b-4cae-a16b-4d05a24c8810\",\"type\":\"ColumnDataSource\"},{\"attributes\":{},\"id\":\"82174e02-2b46-41ae-8997-13eb41b1959e\",\"type\":\"ResetTool\"},{\"attributes\":{},\"id\":\"de6c7b6b-95c9-4ab7-b832-3947c97c5736\",\"type\":\"HelpTool\"},{\"attributes\":{\"line_alpha\":0.1,\"line_color\":\"#1f77b4\",\"line_width\":1.5,\"x\":{\"field\":\"x\"},\"y\":{\"field\":\"y\"}},\"id\":\"900d79a2-fe85-439e-817c-8b78d64b9127\",\"type\":\"Line\"},{\"attributes\":{\"data_source\":{\"id\":\"2aa4224a-d040-4cbc-b6c7-51df4d96f6e5\",\"type\":\"ColumnDataSource\"},\"glyph\":{\"id\":\"d6e00a03-84d8-4366-8ec2-97f0e8a9036d\",\"type\":\"Line\"},\"hover_glyph\":null,\"muted_glyph\":null,\"nonselection_glyph\":{\"id\":\"2a69b079-e276-40dd-b3b9-85d93c35ebbe\",\"type\":\"Line\"},\"selection_glyph\":null,\"view\":{\"id\":\"c895f93b-9ce4-40da-b7e1-9bd1d88644a7\",\"type\":\"CDSView\"}},\"id\":\"afa632ae-44ab-4669-86cc-dd555a30277b\",\"type\":\"GlyphRenderer\"},{\"attributes\":{\"data_source\":{\"id\":\"ace87b5e-c80b-4cae-a16b-4d05a24c8810\",\"type\":\"ColumnDataSource\"},\"glyph\":{\"id\":\"ea87c64e-72ec-4ddc-aa42-0606e5706c43\",\"type\":\"Line\"},\"hover_glyph\":null,\"muted_glyph\":null,\"nonselection_glyph\":{\"id\":\"900d79a2-fe85-439e-817c-8b78d64b9127\",\"type\":\"Line\"},\"selection_glyph\":null,\"view\":{\"id\":\"bd5c6b6b-7e84-4f8e-84e4-aeb0c561b675\",\"type\":\"CDSView\"}},\"id\":\"2b29aa38-4192-4827-9191-82306c9d2ad2\",\"type\":\"GlyphRenderer\"},{\"attributes\":{\"callback\":null,\"data\":{\"x\":{\"__ndarray__\":\"Spv30In2rb7d3oyXnx2uvlltY2xQcK6+m61uYV7Hrr7umdjrzx2vvriTVjukc6++3rPIxbHIr76ke7Toew6wvvXNr8QqOLC+v5r58WBhsL799UnYG4qwvnmMXH9WsrC+of/LfRvasL5ruTCp4gOxvjFm0RWVd7G+vITpCutzsr4PKL2G1v6yvha/xNIAyrG+1D6hbyUkq74DW93OE/6RvmxPeVU7Mag+Ws8BTxTnwz7cceq9DTDSPrSJDntqAdM+JkRwE0+GyD6EonoogTG3Pp4a6wQEJZM+3UjtAWOLnL5j/ubK6oKsvlw9XfhnY7K+lLsQCDzEtL6djUxK6f61vgMQP0woora+012E1YtBt75YnN3CrAC4vgFPMefo67i+kboDVHEmur4Z8rQPaoq7vr3eOiAt0by+OXBPczl+v74jnCOa+ujJvtPC0fGNguK+pl+sVjvc9b51fWJoZ/oFv/Xk3JwXOxO/BoChyG4xGb/gEDIWX78cv/f6xCOGth2/iTYTBuw2Gr+0Z1D/3bkPv9Nwqm6Us/A+xSBD7MY0Ij/4VGGvRbo0PzwbQpM6ZkI/QTwSAzUsTT9h2VKkl6FVPzUy2K3Wq14/6uuOSAEJZj8ZFyPWj8JuP1O6onoFx3Q/do3R0+tKez+aa4QGKniBP92JeDxE24U/6EaVt9zGij/Bfl+O5BOQP3k9r7CU8JI/VQnzdx/ilT+cj9UnZcSYP/IDLPmlbJs/BGRrWoK8nT9PlsLSrKufPw+QynWcoKA/xY9ShRZEoT+l/iaGd8ihP61jmdSJMaI/\",\"dtype\":\"float64\",\"shape\":[75]},\"y\":{\"__ndarray__\":\"GhExyth1ND/Sv8nbtpRIP2vylNV0PVE/aTum7souWD/At0SJ8fVgPw3Iuahxymc/MSNhhJWvcD/bTfBN02d3P2zb5nxnaoA/CD5h5MAGhz8NmeH1TyaQP+zrCsc9p5Y/LbKd76fGnz/bLW5ISEmmPww9YvTcQq8/JV2OstnstT8Er5Y7M8G+P0c+r3jqkcU/5h99k6ZBzj88bCIzFzjVP4enV8oyxN0//yH99nXg5D8qOpLLf0jtP5kqGJXUifQ/c9cS8kHP/D+/DpwzojQEQIEmwoanVwxA4lgXt9HgE0BSSZ2AJuIbQAMJih9jjiNA5q4l5INuK0AwTKYKRj0zQNv5fmq8/DpAaCJseHrtQkB/+zpwzoxKQM3MzMzMeFJAZmZmZmZqWEAAAAAAAFxeQM3MzMzMJmJAmpmZmZkfZUBmZmZmZhhoQDMzMzMzEWtAAAAAAAAKbkBmZmZmZoFwQM3MzMzM/XFAMzMzMzN6c0CamZmZmfZ0QAAAAAAAc3ZAZmZmZmbvd0DNzMzMzGt5QDMzMzMz6HpAmpmZmZlkfEAAAAAAAOF9QGZmZmZmXX9AZmZmZuZsgECamZmZGSuBQM3MzMxM6YFAAAAAAICngkAzMzMzs2WDQGZmZmbmI4RAmpmZmRnihEDNzMzMTKCFQAAAAACAXoZAMzMzM7Mch0BmZmZm5tqHQJqZmZkZmYhAzczMzExXiUAAAAAAgBWKQDMzMzOz04pAZmZmZuaRi0CamZmZGVCMQM3MzMxMDo1AAAAAAIDMjUAzMzMzs4qOQGZmZmbmSI9A\",\"dtype\":\"float64\",\"shape\":[75]}},\"selected\":{\"id\":\"74219864-af39-4baa-a94c-0fe95cd70d50\",\"type\":\"Selection\"},\"selection_policy\":{\"id\":\"d743c126-86ed-4957-8ed8-472b6413f29f\",\"type\":\"UnionRenderers\"}},\"id\":\"fadc8967-1a96-44f9-9af8-6bc9a7684c71\",\"type\":\"ColumnDataSource\"},{\"attributes\":{},\"id\":\"301635b4-2756-4494-bcb2-9e36e57c8f6a\",\"type\":\"Selection\"},{\"attributes\":{\"fill_alpha\":{\"value\":0.7},\"fill_color\":{\"value\":\"#377eb8\"},\"line_alpha\":{\"value\":0.7},\"line_color\":{\"value\":\"#377eb8\"},\"x\":{\"field\":\"x\"},\"y\":{\"field\":\"y\"}},\"id\":\"4b39d80a-a839-4450-b651-19d5544372f8\",\"type\":\"Triangle\"},{\"attributes\":{\"callback\":null,\"data\":{\"x\":{\"__ndarray__\":\"Spv30In2rb7d3oyXnx2uvlltY2xQcK6+m61uYV7Hrr7umdjrzx2vvriTVjukc6++3rPIxbHIr76ke7Toew6wvvXNr8QqOLC+v5r58WBhsL799UnYG4qwvnmMXH9WsrC+of/LfRvasL5ruTCp4gOxvjFm0RWVd7G+vITpCutzsr4PKL2G1v6yvha/xNIAyrG+1D6hbyUkq74DW93OE/6RvmxPeVU7Mag+Ws8BTxTnwz7cceq9DTDSPrSJDntqAdM+JkRwE0+GyD6EonoogTG3Pp4a6wQEJZM+3UjtAWOLnL5j/ubK6oKsvlw9XfhnY7K+lLsQCDzEtL6djUxK6f61vgMQP0woora+012E1YtBt75YnN3CrAC4vgFPMefo67i+kboDVHEmur4Z8rQPaoq7vr3eOiAt0by+OXBPczl+v74jnCOa+ujJvtPC0fGNguK+pl+sVjvc9b51fWJoZ/oFv/Xk3JwXOxO/BoChyG4xGb/gEDIWX78cv/f6xCOGth2/iTYTBuw2Gr+0Z1D/3bkPv9Nwqm6Us/A+xSBD7MY0Ij/4VGGvRbo0PzwbQpM6ZkI/QTwSAzUsTT9h2VKkl6FVPzUy2K3Wq14/6uuOSAEJZj8ZFyPWj8JuP1O6onoFx3Q/do3R0+tKez+aa4QGKniBP92JeDxE24U/6EaVt9zGij/Bfl+O5BOQP3k9r7CU8JI/VQnzdx/ilT+cj9UnZcSYP/IDLPmlbJs/BGRrWoK8nT9PlsLSrKufPw+QynWcoKA/xY9ShRZEoT+l/iaGd8ihP61jmdSJMaI/\",\"dtype\":\"float64\",\"shape\":[75]},\"y\":{\"__ndarray__\":\"GhExyth1ND/Sv8nbtpRIP2vylNV0PVE/aTum7souWD/At0SJ8fVgPw3Iuahxymc/MSNhhJWvcD/bTfBN02d3P2zb5nxnaoA/CD5h5MAGhz8NmeH1TyaQP+zrCsc9p5Y/LbKd76fGnz/bLW5ISEmmPww9YvTcQq8/JV2OstnstT8Er5Y7M8G+P0c+r3jqkcU/5h99k6ZBzj88bCIzFzjVP4enV8oyxN0//yH99nXg5D8qOpLLf0jtP5kqGJXUifQ/c9cS8kHP/D+/DpwzojQEQIEmwoanVwxA4lgXt9HgE0BSSZ2AJuIbQAMJih9jjiNA5q4l5INuK0AwTKYKRj0zQNv5fmq8/DpAaCJseHrtQkB/+zpwzoxKQM3MzMzMeFJAZmZmZmZqWEAAAAAAAFxeQM3MzMzMJmJAmpmZmZkfZUBmZmZmZhhoQDMzMzMzEWtAAAAAAAAKbkBmZmZmZoFwQM3MzMzM/XFAMzMzMzN6c0CamZmZmfZ0QAAAAAAAc3ZAZmZmZmbvd0DNzMzMzGt5QDMzMzMz6HpAmpmZmZlkfEAAAAAAAOF9QGZmZmZmXX9AZmZmZuZsgECamZmZGSuBQM3MzMxM6YFAAAAAAICngkAzMzMzs2WDQGZmZmbmI4RAmpmZmRnihEDNzMzMTKCFQAAAAACAXoZAMzMzM7Mch0BmZmZm5tqHQJqZmZkZmYhAzczMzExXiUAAAAAAgBWKQDMzMzOz04pAZmZmZuaRi0CamZmZGVCMQM3MzMxMDo1AAAAAAIDMjUAzMzMzs4qOQGZmZmbmSI9A\",\"dtype\":\"float64\",\"shape\":[75]}},\"selected\":{\"id\":\"d26e60e4-8718-45f2-af67-3e9d4a3e5ee9\",\"type\":\"Selection\"},\"selection_policy\":{\"id\":\"fc3ca035-2e6c-480a-a3dc-6389a1277297\",\"type\":\"UnionRenderers\"}},\"id\":\"2d146784-bfcc-47f7-9eb5-56fe9b2b168b\",\"type\":\"ColumnDataSource\"},{\"attributes\":{\"fill_alpha\":{\"value\":0.7},\"fill_color\":{\"value\":\"#4daf4a\"},\"line_alpha\":{\"value\":0.7},\"line_color\":{\"value\":\"#4daf4a\"},\"x\":{\"field\":\"x\"},\"y\":{\"field\":\"y\"}},\"id\":\"ec7991a7-8317-489d-93ff-55732281fa8d\",\"type\":\"Circle\"},{\"attributes\":{\"source\":{\"id\":\"fadc8967-1a96-44f9-9af8-6bc9a7684c71\",\"type\":\"ColumnDataSource\"}},\"id\":\"6adff343-2dbf-46f6-a7fb-15f5e4eaa6b2\",\"type\":\"CDSView\"},{\"attributes\":{\"fill_alpha\":{\"value\":0.7},\"fill_color\":{\"value\":\"#984ea3\"},\"line_alpha\":{\"value\":0.7},\"line_color\":{\"value\":\"#984ea3\"},\"x\":{\"field\":\"x\"},\"y\":{\"field\":\"y\"}},\"id\":\"a7aae73f-a2e7-4719-b588-4d6b0f8ee807\",\"type\":\"Square\"},{\"attributes\":{\"fill_alpha\":{\"value\":0.1},\"fill_color\":{\"value\":\"#1f77b4\"},\"line_alpha\":{\"value\":0.1},\"line_color\":{\"value\":\"#1f77b4\"},\"x\":{\"field\":\"x\"},\"y\":{\"field\":\"y\"}},\"id\":\"79599bb5-55bb-4da0-9446-0fc3edfe0cb0\",\"type\":\"Triangle\"},{\"attributes\":{\"line_alpha\":0.3,\"line_color\":\"#377eb8\",\"line_width\":2,\"x\":{\"field\":\"x\"},\"y\":{\"field\":\"y\"}},\"id\":\"1f89286c-d4f1-497f-b80a-b21830d68e36\",\"type\":\"Line\"},{\"attributes\":{\"children\":[{\"id\":\"3b4138db-8881-4824-abb8-a669f5a9c237\",\"type\":\"Row\"}]},\"id\":\"90927515-98fe-4b2f-aade-aafe2938835b\",\"type\":\"Column\"},{\"attributes\":{\"data_source\":{\"id\":\"fadc8967-1a96-44f9-9af8-6bc9a7684c71\",\"type\":\"ColumnDataSource\"},\"glyph\":{\"id\":\"4b39d80a-a839-4450-b651-19d5544372f8\",\"type\":\"Triangle\"},\"hover_glyph\":null,\"muted_glyph\":null,\"nonselection_glyph\":{\"id\":\"79599bb5-55bb-4da0-9446-0fc3edfe0cb0\",\"type\":\"Triangle\"},\"selection_glyph\":null,\"view\":{\"id\":\"6adff343-2dbf-46f6-a7fb-15f5e4eaa6b2\",\"type\":\"CDSView\"}},\"id\":\"8d653c9e-401e-4759-a5f6-ffa95d36f426\",\"type\":\"GlyphRenderer\"},{\"attributes\":{\"callback\":null,\"data\":{\"x\":{\"__ndarray__\":\"FJzOtkNlub7PUbpqLIK5vlZ8YCgzv7m+Soj/piD+ub6OAqBDBjy6vug0sTV7eLq+vesrSZ2zur5c+jBMSu26vg1mLZBZJbu+4zXntplbu75mEbZ6D5C7vqz9aI2Dwru+tfgI/+/yu75sJEluJSS8vmQt/Gz5o7y+sIhdcQZgvb6yO2mK1TK8vi94FyPKn7a+mVA7PMmmo74NLic8Tq6sPglp2Ydm6cs+bGU5e/ii3j7sd3P1ZwHpPt25ieIH6Ok+xKg3ZQjy4T6TUpykhoDUPqs6euDuxcI+kgkmLc5ZoD62WsxaNpKjvqJJV/uCeLS+s2c4wJbIur7dnn+e3Be+viSyIgdacL++4deRfDEJwL6zcAxEy0XAvnoAEo1ohMC+5a4YERfwwL4q9sek/n/BvpVdMD5nCMK+4bYR+JRxw74WyWAMt33Pvln6vf0T/eW+4WFvXR0s+b4gY7PyskEIvzSkSFFK/xO/c38NueD6F787jzJA/5cXv9jXU6F/4hG/VnPjIioN8L4GXVMa62EVP/TRpWvwCS8/yTNMjPjoPT/6G/mguZRIP6aN7SyvmVI/vZr/uP2pWj/fbAk2u2BiP2xv3lnulWg/INunW2XKcD81zJbNmFl2P4ddyq/V1Hw/VsX8ZucXgj/D/5rPYCOGP2EaP7r8eoo/MfCfGKAHjz9BRdD2utWRP6Up7rf3IpQ/hcjBIyxVlj+9rzRqakuYP/QyDh474pk/RaEy7JoKmz+vFrSdqtObP1UpAyjCXZw/tMcnPiDLnD8s1yyuKUSdP6/FJcme/Z0/\",\"dtype\":\"float64\",\"shape\":[75]},\"y\":{\"__ndarray__\":\"GhExyth1ND/Sv8nbtpRIP2vylNV0PVE/aTum7souWD/At0SJ8fVgPw3Iuahxymc/MSNhhJWvcD/bTfBN02d3P2zb5nxnaoA/CD5h5MAGhz8NmeH1TyaQP+zrCsc9p5Y/LbKd76fGnz/bLW5ISEmmPww9YvTcQq8/JV2OstnstT8Er5Y7M8G+P0c+r3jqkcU/5h99k6ZBzj88bCIzFzjVP4enV8oyxN0//yH99nXg5D8qOpLLf0jtP5kqGJXUifQ/c9cS8kHP/D+/DpwzojQEQIEmwoanVwxA4lgXt9HgE0BSSZ2AJuIbQAMJih9jjiNA5q4l5INuK0AwTKYKRj0zQNv5fmq8/DpAaCJseHrtQkB/+zpwzoxKQM3MzMzMeFJAZmZmZmZqWEAAAAAAAFxeQM3MzMzMJmJAmpmZmZkfZUBmZmZmZhhoQDMzMzMzEWtAAAAAAAAKbkBmZmZmZoFwQM3MzMzM/XFAMzMzMzN6c0CamZmZmfZ0QAAAAAAAc3ZAZmZmZmbvd0DNzMzMzGt5QDMzMzMz6HpAmpmZmZlkfEAAAAAAAOF9QGZmZmZmXX9AZmZmZuZsgECamZmZGSuBQM3MzMxM6YFAAAAAAICngkAzMzMzs2WDQGZmZmbmI4RAmpmZmRnihEDNzMzMTKCFQAAAAACAXoZAMzMzM7Mch0BmZmZm5tqHQJqZmZkZmYhAzczMzExXiUAAAAAAgBWKQDMzMzOz04pAZmZmZuaRi0CamZmZGVCMQM3MzMxMDo1AAAAAAIDMjUAzMzMzs4qOQGZmZmbmSI9A\",\"dtype\":\"float64\",\"shape\":[75]}},\"selected\":{\"id\":\"566506be-17cf-482a-8704-c56ff95a264f\",\"type\":\"Selection\"},\"selection_policy\":{\"id\":\"01d02eae-573c-472b-a0a5-6caba582d139\",\"type\":\"UnionRenderers\"}},\"id\":\"98a0cd00-9a90-4b04-a643-412a8fe053d4\",\"type\":\"ColumnDataSource\"},{\"attributes\":{\"data_source\":{\"id\":\"2d146784-bfcc-47f7-9eb5-56fe9b2b168b\",\"type\":\"ColumnDataSource\"},\"glyph\":{\"id\":\"1f89286c-d4f1-497f-b80a-b21830d68e36\",\"type\":\"Line\"},\"hover_glyph\":null,\"muted_glyph\":null,\"nonselection_glyph\":{\"id\":\"2092c41a-5e80-490b-b6ff-8e0b97eb1513\",\"type\":\"Line\"},\"selection_glyph\":null,\"view\":{\"id\":\"14c46f1b-26f4-488e-a56a-fe16bf0cd80d\",\"type\":\"CDSView\"}},\"id\":\"0faabc67-ab31-4dd5-ac79-5580160ce166\",\"type\":\"GlyphRenderer\"},{\"attributes\":{\"fill_alpha\":{\"value\":0.1},\"fill_color\":{\"value\":\"#1f77b4\"},\"line_alpha\":{\"value\":0.1},\"line_color\":{\"value\":\"#1f77b4\"},\"x\":{\"field\":\"x\"},\"y\":{\"field\":\"y\"}},\"id\":\"e61f82e0-0b1f-4249-b053-483a67c9227b\",\"type\":\"Circle\"},{\"attributes\":{\"source\":{\"id\":\"2d146784-bfcc-47f7-9eb5-56fe9b2b168b\",\"type\":\"ColumnDataSource\"}},\"id\":\"14c46f1b-26f4-488e-a56a-fe16bf0cd80d\",\"type\":\"CDSView\"},{\"attributes\":{},\"id\":\"40bf66ce-f774-4941-bf9d-4229bd747f27\",\"type\":\"HelpTool\"},{\"attributes\":{\"plot\":null,\"text\":\"\"},\"id\":\"315eb803-6d07-4aef-92ac-5891858f8f33\",\"type\":\"Title\"},{\"attributes\":{},\"id\":\"81f75040-130b-4cc9-b1a9-8c6455526873\",\"type\":\"UnionRenderers\"},{\"attributes\":{\"children\":[{\"id\":\"fc42ebe6-d25f-41d5-a075-faddbe8a7601\",\"subtype\":\"Figure\",\"type\":\"Plot\"},{\"id\":\"d27c8bda-eb8f-48b9-a81e-be89614002be\",\"subtype\":\"Figure\",\"type\":\"Plot\"}]},\"id\":\"3b4138db-8881-4824-abb8-a669f5a9c237\",\"type\":\"Row\"},{\"attributes\":{\"label\":{\"value\":\"CRD\"},\"renderers\":[{\"id\":\"0dc8d2ae-1b56-4661-844a-8e99a6290c0b\",\"type\":\"GlyphRenderer\"},{\"id\":\"2b29aa38-4192-4827-9191-82306c9d2ad2\",\"type\":\"GlyphRenderer\"}]},\"id\":\"ad427ce3-db6a-4cbb-bff4-cf3132dbd8cd\",\"type\":\"LegendItem\"},{\"attributes\":{\"callback\":null,\"end\":0.01,\"start\":1020},\"id\":\"ee12b144-980e-454e-be9b-2e3abf24469f\",\"type\":\"Range1d\"},{\"attributes\":{},\"id\":\"4f9ae66a-2aed-49ee-87ab-5c2b7b09f8aa\",\"type\":\"BasicTickFormatter\"},{\"attributes\":{\"bottom_units\":\"screen\",\"fill_alpha\":{\"value\":0.5},\"fill_color\":{\"value\":\"lightgrey\"},\"left_units\":\"screen\",\"level\":\"overlay\",\"line_alpha\":{\"value\":1.0},\"line_color\":{\"value\":\"black\"},\"line_dash\":[4,4],\"line_width\":{\"value\":2},\"plot\":null,\"render_mode\":\"css\",\"right_units\":\"screen\",\"top_units\":\"screen\"},\"id\":\"c5c84cff-6692-4eb0-9139-08a84e8ef52c\",\"type\":\"BoxAnnotation\"},{\"attributes\":{\"data_source\":{\"id\":\"98a0cd00-9a90-4b04-a643-412a8fe053d4\",\"type\":\"ColumnDataSource\"},\"glyph\":{\"id\":\"ec7991a7-8317-489d-93ff-55732281fa8d\",\"type\":\"Circle\"},\"hover_glyph\":null,\"muted_glyph\":null,\"nonselection_glyph\":{\"id\":\"e61f82e0-0b1f-4249-b053-483a67c9227b\",\"type\":\"Circle\"},\"selection_glyph\":null,\"view\":{\"id\":\"a1f1179f-72ba-4a68-b3b2-1199374c40df\",\"type\":\"CDSView\"}},\"id\":\"0dc8d2ae-1b56-4661-844a-8e99a6290c0b\",\"type\":\"GlyphRenderer\"},{\"attributes\":{\"label\":{\"value\":\"WGT igg=1\"},\"renderers\":[{\"id\":\"77fb75a2-aa22-4bfd-9c0b-a957e54d07c2\",\"type\":\"GlyphRenderer\"},{\"id\":\"afa632ae-44ab-4669-86cc-dd555a30277b\",\"type\":\"GlyphRenderer\"}]},\"id\":\"adf4ef9a-1c80-4673-861c-51faab536528\",\"type\":\"LegendItem\"},{\"attributes\":{},\"id\":\"0ad78b70-9505-4d1e-a60f-cb6b56eb9d16\",\"type\":\"BasicTickFormatter\"},{\"attributes\":{},\"id\":\"83cf9f54-c342-49f4-884b-e337df90ecb1\",\"type\":\"Selection\"},{\"attributes\":{\"label\":{\"value\":\"WGT igg=10\"},\"renderers\":[{\"id\":\"8d653c9e-401e-4759-a5f6-ffa95d36f426\",\"type\":\"GlyphRenderer\"},{\"id\":\"0faabc67-ab31-4dd5-ac79-5580160ce166\",\"type\":\"GlyphRenderer\"}]},\"id\":\"4eb3a643-6c58-4135-8be5-151f12054ba5\",\"type\":\"LegendItem\"},{\"attributes\":{\"callback\":null,\"end\":0.0358906734404,\"start\":-0.00046982148039999993},\"id\":\"f4aca918-c470-41ec-8c1d-f1fe0b91c717\",\"type\":\"Range1d\"},{\"attributes\":{\"above\":[{\"id\":\"294a0edd-66c9-4012-a1f3-f86dffe2d54f\",\"type\":\"Legend\"}],\"below\":[{\"id\":\"3b8df7ba-d180-466e-a54f-72a766646ae0\",\"type\":\"LinearAxis\"}],\"left\":[{\"id\":\"346629e6-8432-40c8-930d-4a03bf8d559e\",\"type\":\"LinearAxis\"}],\"plot_height\":500,\"plot_width\":400,\"renderers\":[{\"id\":\"3b8df7ba-d180-466e-a54f-72a766646ae0\",\"type\":\"LinearAxis\"},{\"id\":\"60e84ef9-c144-4e11-b749-6f305b13576f\",\"type\":\"Grid\"},{\"id\":\"346629e6-8432-40c8-930d-4a03bf8d559e\",\"type\":\"LinearAxis\"},{\"id\":\"e3621b1e-b800-408b-9c9e-1ab332af8167\",\"type\":\"Grid\"},{\"id\":\"c5c84cff-6692-4eb0-9139-08a84e8ef52c\",\"type\":\"BoxAnnotation\"},{\"id\":\"81f2b11e-fe5a-4591-a85f-dbc629b7c256\",\"type\":\"GlyphRenderer\"},{\"id\":\"dcc33ff3-4a30-4850-b33a-24170321837b\",\"type\":\"GlyphRenderer\"},{\"id\":\"05746720-28c0-4fd4-94d1-44774b107e41\",\"type\":\"GlyphRenderer\"},{\"id\":\"7c982b0a-d5ac-45b3-908e-812bf9b5ef68\",\"type\":\"GlyphRenderer\"},{\"id\":\"36f0eb00-21ab-4aac-825f-884b5dc3e657\",\"type\":\"GlyphRenderer\"},{\"id\":\"2ceb3d10-abae-4f03-a485-e76a47990cbc\",\"type\":\"GlyphRenderer\"},{\"id\":\"294a0edd-66c9-4012-a1f3-f86dffe2d54f\",\"type\":\"Legend\"}],\"title\":{\"id\":\"315eb803-6d07-4aef-92ac-5891858f8f33\",\"type\":\"Title\"},\"toolbar\":{\"id\":\"3d12bc34-041d-4b53-af19-96fee9c7e3f8\",\"type\":\"Toolbar\"},\"toolbar_location\":null,\"x_range\":{\"id\":\"f4aca918-c470-41ec-8c1d-f1fe0b91c717\",\"type\":\"Range1d\"},\"x_scale\":{\"id\":\"e4525c7b-15f5-4499-b2bc-c61dd62f2cdb\",\"type\":\"LinearScale\"},\"y_range\":{\"id\":\"ccd66adc-7a94-4b4c-94be-1714ed2da62f\",\"type\":\"Range1d\"},\"y_scale\":{\"id\":\"be39caa4-e5ad-47b8-a52a-f083c2bd5b68\",\"type\":\"LinearScale\"}},\"id\":\"fc42ebe6-d25f-41d5-a075-faddbe8a7601\",\"subtype\":\"Figure\",\"type\":\"Plot\"},{\"attributes\":{},\"id\":\"fe77e2c8-46a4-47bf-a39a-5d7c35de0961\",\"type\":\"BasicTicker\"},{\"attributes\":{\"items\":[{\"id\":\"f03942a2-faf2-4662-b323-14943e41f04f\",\"type\":\"LegendItem\"},{\"id\":\"9808e7b7-8cd1-4fdb-8b7a-5e533034e1db\",\"type\":\"LegendItem\"},{\"id\":\"e4f0e084-8685-4abc-aedf-bed300709694\",\"type\":\"LegendItem\"}],\"label_text_font_size\":{\"value\":\"8pt\"},\"location\":\"top_center\",\"orientation\":\"horizontal\",\"plot\":{\"id\":\"fc42ebe6-d25f-41d5-a075-faddbe8a7601\",\"subtype\":\"Figure\",\"type\":\"Plot\"}},\"id\":\"294a0edd-66c9-4012-a1f3-f86dffe2d54f\",\"type\":\"Legend\"},{\"attributes\":{},\"id\":\"e4525c7b-15f5-4499-b2bc-c61dd62f2cdb\",\"type\":\"LinearScale\"},{\"attributes\":{},\"id\":\"3ce0652e-da43-41ff-8aef-4679a868dbec\",\"type\":\"BasicTicker\"},{\"attributes\":{\"active_drag\":\"auto\",\"active_inspect\":\"auto\",\"active_scroll\":\"auto\",\"active_tap\":\"auto\",\"tools\":[{\"id\":\"4513eda3-fd26-448c-87c7-d9424bbcb480\",\"type\":\"PanTool\"},{\"id\":\"e075fb69-4bd8-4dd5-aafa-bffeaec3dcdb\",\"type\":\"WheelZoomTool\"},{\"id\":\"dc946092-8d18-44ae-acd9-e26b25e04d2d\",\"type\":\"BoxZoomTool\"},{\"id\":\"1f7b08dd-3ad0-43fc-b830-065577a2a5e5\",\"type\":\"SaveTool\"},{\"id\":\"a4950f1f-c5dd-483c-aefa-d57231ee3b82\",\"type\":\"ResetTool\"},{\"id\":\"40bf66ce-f774-4941-bf9d-4229bd747f27\",\"type\":\"HelpTool\"}]},\"id\":\"3d12bc34-041d-4b53-af19-96fee9c7e3f8\",\"type\":\"Toolbar\"},{\"attributes\":{},\"id\":\"c18988c1-8ffa-45bb-a399-c6fa5a7dadb4\",\"type\":\"BasicTicker\"},{\"attributes\":{\"dimension\":1,\"plot\":{\"id\":\"fc42ebe6-d25f-41d5-a075-faddbe8a7601\",\"subtype\":\"Figure\",\"type\":\"Plot\"},\"ticker\":{\"id\":\"c18988c1-8ffa-45bb-a399-c6fa5a7dadb4\",\"type\":\"BasicTicker\"}},\"id\":\"e3621b1e-b800-408b-9c9e-1ab332af8167\",\"type\":\"Grid\"},{\"attributes\":{\"axis_label\":\"pressure [mb]\",\"formatter\":{\"id\":\"0ad78b70-9505-4d1e-a60f-cb6b56eb9d16\",\"type\":\"BasicTickFormatter\"},\"plot\":{\"id\":\"fc42ebe6-d25f-41d5-a075-faddbe8a7601\",\"subtype\":\"Figure\",\"type\":\"Plot\"},\"ticker\":{\"id\":\"c18988c1-8ffa-45bb-a399-c6fa5a7dadb4\",\"type\":\"BasicTicker\"}},\"id\":\"346629e6-8432-40c8-930d-4a03bf8d559e\",\"type\":\"LinearAxis\"},{\"attributes\":{\"axis_label\":\"cooling rate [K/day]\",\"formatter\":{\"id\":\"4f9ae66a-2aed-49ee-87ab-5c2b7b09f8aa\",\"type\":\"BasicTickFormatter\"},\"plot\":{\"id\":\"fc42ebe6-d25f-41d5-a075-faddbe8a7601\",\"subtype\":\"Figure\",\"type\":\"Plot\"},\"ticker\":{\"id\":\"3ce0652e-da43-41ff-8aef-4679a868dbec\",\"type\":\"BasicTicker\"}},\"id\":\"3b8df7ba-d180-466e-a54f-72a766646ae0\",\"type\":\"LinearAxis\"},{\"attributes\":{\"plot\":{\"id\":\"fc42ebe6-d25f-41d5-a075-faddbe8a7601\",\"subtype\":\"Figure\",\"type\":\"Plot\"},\"ticker\":{\"id\":\"3ce0652e-da43-41ff-8aef-4679a868dbec\",\"type\":\"BasicTicker\"}},\"id\":\"60e84ef9-c144-4e11-b749-6f305b13576f\",\"type\":\"Grid\"},{\"attributes\":{\"axis_label\":\"cooling rate [K/day]\",\"formatter\":{\"id\":\"e2a28ab5-2f3c-45fd-87d9-580dff8564e0\",\"type\":\"BasicTickFormatter\"},\"plot\":{\"id\":\"d27c8bda-eb8f-48b9-a81e-be89614002be\",\"subtype\":\"Figure\",\"type\":\"Plot\"},\"ticker\":{\"id\":\"fe77e2c8-46a4-47bf-a39a-5d7c35de0961\",\"type\":\"BasicTicker\"}},\"id\":\"5d148c52-c3a9-4d27-a151-dcb3bc825b34\",\"type\":\"LinearAxis\"},{\"attributes\":{},\"id\":\"be39caa4-e5ad-47b8-a52a-f083c2bd5b68\",\"type\":\"LinearScale\"},{\"attributes\":{\"num_minor_ticks\":10},\"id\":\"d7ac2c40-c620-4fbb-a528-981e8189eacc\",\"type\":\"LogTicker\"},{\"attributes\":{\"axis_label\":\"pressure [mb]\",\"formatter\":{\"id\":\"85e265e8-9f6f-42fa-baa0-6a8647818c04\",\"type\":\"LogTickFormatter\"},\"plot\":{\"id\":\"d27c8bda-eb8f-48b9-a81e-be89614002be\",\"subtype\":\"Figure\",\"type\":\"Plot\"},\"ticker\":{\"id\":\"d7ac2c40-c620-4fbb-a528-981e8189eacc\",\"type\":\"LogTicker\"}},\"id\":\"c490362f-e068-4fa1-b2d3-dde6621f320f\",\"type\":\"LogAxis\"},{\"attributes\":{\"fill_alpha\":{\"value\":0.1},\"fill_color\":{\"value\":\"#1f77b4\"},\"line_alpha\":{\"value\":0.1},\"line_color\":{\"value\":\"#1f77b4\"},\"x\":{\"field\":\"x\"},\"y\":{\"field\":\"y\"}},\"id\":\"ae10cca2-a10d-4749-8137-1228e7128b0a\",\"type\":\"Circle\"},{\"attributes\":{\"fill_alpha\":{\"value\":0.7},\"fill_color\":{\"value\":\"#4daf4a\"},\"line_alpha\":{\"value\":0.7},\"line_color\":{\"value\":\"#4daf4a\"},\"x\":{\"field\":\"x\"},\"y\":{\"field\":\"y\"}},\"id\":\"38b45793-fd57-40e7-b42d-a5f6b2ecd1bf\",\"type\":\"Circle\"},{\"attributes\":{\"plot\":{\"id\":\"d27c8bda-eb8f-48b9-a81e-be89614002be\",\"subtype\":\"Figure\",\"type\":\"Plot\"},\"ticker\":{\"id\":\"fe77e2c8-46a4-47bf-a39a-5d7c35de0961\",\"type\":\"BasicTicker\"}},\"id\":\"e18a115e-b75b-4d98-80bd-83a3e4119b48\",\"type\":\"Grid\"},{\"attributes\":{\"line_alpha\":0.1,\"line_color\":\"#1f77b4\",\"line_width\":1.5,\"x\":{\"field\":\"x\"},\"y\":{\"field\":\"y\"}},\"id\":\"3cdf188f-c933-4b30-9886-85f86cc02d54\",\"type\":\"Line\"},{\"attributes\":{\"line_color\":\"#4daf4a\",\"line_width\":1.5,\"x\":{\"field\":\"x\"},\"y\":{\"field\":\"y\"}},\"id\":\"bc34aad6-0847-433d-abbc-433b20980242\",\"type\":\"Line\"},{\"attributes\":{\"callback\":null,\"data\":{\"x\":{\"__ndarray__\":\"FJzOtkNlub7PUbpqLIK5vlZ8YCgzv7m+Soj/piD+ub6OAqBDBjy6vug0sTV7eLq+vesrSZ2zur5c+jBMSu26vg1mLZBZJbu+4zXntplbu75mEbZ6D5C7vqz9aI2Dwru+tfgI/+/yu75sJEluJSS8vmQt/Gz5o7y+sIhdcQZgvb6yO2mK1TK8vi94FyPKn7a+mVA7PMmmo74NLic8Tq6sPglp2Ydm6cs+bGU5e/ii3j7sd3P1ZwHpPt25ieIH6Ok+xKg3ZQjy4T6TUpykhoDUPqs6euDuxcI+kgkmLc5ZoD62WsxaNpKjvqJJV/uCeLS+s2c4wJbIur7dnn+e3Be+viSyIgdacL++4deRfDEJwL6zcAxEy0XAvnoAEo1ohMC+5a4YERfwwL4q9sek/n/BvpVdMD5nCMK+4bYR+JRxw74WyWAMt33Pvln6vf0T/eW+4WFvXR0s+b4gY7PyskEIvzSkSFFK/xO/c38NueD6F787jzJA/5cXv9jXU6F/4hG/VnPjIioN8L4GXVMa62EVP/TRpWvwCS8/yTNMjPjoPT/6G/mguZRIP6aN7SyvmVI/vZr/uP2pWj/fbAk2u2BiP2xv3lnulWg/INunW2XKcD81zJbNmFl2P4ddyq/V1Hw/VsX8ZucXgj/D/5rPYCOGP2EaP7r8eoo/MfCfGKAHjz9BRdD2utWRP6Up7rf3IpQ/hcjBIyxVlj+9rzRqakuYP/QyDh474pk/RaEy7JoKmz+vFrSdqtObP1UpAyjCXZw/tMcnPiDLnD8s1yyuKUSdP6/FJcme/Z0/\",\"dtype\":\"float64\",\"shape\":[75]},\"y\":{\"__ndarray__\":\"GhExyth1ND/Sv8nbtpRIP2vylNV0PVE/aTum7souWD/At0SJ8fVgPw3Iuahxymc/MSNhhJWvcD/bTfBN02d3P2zb5nxnaoA/CD5h5MAGhz8NmeH1TyaQP+zrCsc9p5Y/LbKd76fGnz/bLW5ISEmmPww9YvTcQq8/JV2OstnstT8Er5Y7M8G+P0c+r3jqkcU/5h99k6ZBzj88bCIzFzjVP4enV8oyxN0//yH99nXg5D8qOpLLf0jtP5kqGJXUifQ/c9cS8kHP/D+/DpwzojQEQIEmwoanVwxA4lgXt9HgE0BSSZ2AJuIbQAMJih9jjiNA5q4l5INuK0AwTKYKRj0zQNv5fmq8/DpAaCJseHrtQkB/+zpwzoxKQM3MzMzMeFJAZmZmZmZqWEAAAAAAAFxeQM3MzMzMJmJAmpmZmZkfZUBmZmZmZhhoQDMzMzMzEWtAAAAAAAAKbkBmZmZmZoFwQM3MzMzM/XFAMzMzMzN6c0CamZmZmfZ0QAAAAAAAc3ZAZmZmZmbvd0DNzMzMzGt5QDMzMzMz6HpAmpmZmZlkfEAAAAAAAOF9QGZmZmZmXX9AZmZmZuZsgECamZmZGSuBQM3MzMxM6YFAAAAAAICngkAzMzMzs2WDQGZmZmbmI4RAmpmZmRnihEDNzMzMTKCFQAAAAACAXoZAMzMzM7Mch0BmZmZm5tqHQJqZmZkZmYhAzczMzExXiUAAAAAAgBWKQDMzMzOz04pAZmZmZuaRi0CamZmZGVCMQM3MzMxMDo1AAAAAAIDMjUAzMzMzs4qOQGZmZmbmSI9A\",\"dtype\":\"float64\",\"shape\":[75]}},\"selected\":{\"id\":\"61a0667f-8996-4618-b558-499e0ae02a47\",\"type\":\"Selection\"},\"selection_policy\":{\"id\":\"da7b07fb-fcb8-4d84-b84c-bc2c9858395b\",\"type\":\"UnionRenderers\"}},\"id\":\"f0ce1289-931b-4ef8-ad8e-0bc74be5ab54\",\"type\":\"ColumnDataSource\"},{\"attributes\":{\"data_source\":{\"id\":\"e61c7d1a-d0ed-4e39-9ebf-1f5db978357e\",\"type\":\"ColumnDataSource\"},\"glyph\":{\"id\":\"38b45793-fd57-40e7-b42d-a5f6b2ecd1bf\",\"type\":\"Circle\"},\"hover_glyph\":null,\"muted_glyph\":null,\"nonselection_glyph\":{\"id\":\"ae10cca2-a10d-4749-8137-1228e7128b0a\",\"type\":\"Circle\"},\"selection_glyph\":null,\"view\":{\"id\":\"83c7e5f6-2e70-4c14-b711-518157f00080\",\"type\":\"CDSView\"}},\"id\":\"81f2b11e-fe5a-4591-a85f-dbc629b7c256\",\"type\":\"GlyphRenderer\"},{\"attributes\":{\"dimension\":1,\"plot\":{\"id\":\"d27c8bda-eb8f-48b9-a81e-be89614002be\",\"subtype\":\"Figure\",\"type\":\"Plot\"},\"ticker\":{\"id\":\"d7ac2c40-c620-4fbb-a528-981e8189eacc\",\"type\":\"LogTicker\"}},\"id\":\"2f5aba58-af5a-4482-9727-8ec0a9026f75\",\"type\":\"Grid\"},{\"attributes\":{\"data_source\":{\"id\":\"f0ce1289-931b-4ef8-ad8e-0bc74be5ab54\",\"type\":\"ColumnDataSource\"},\"glyph\":{\"id\":\"bc34aad6-0847-433d-abbc-433b20980242\",\"type\":\"Line\"},\"hover_glyph\":null,\"muted_glyph\":null,\"nonselection_glyph\":{\"id\":\"3cdf188f-c933-4b30-9886-85f86cc02d54\",\"type\":\"Line\"},\"selection_glyph\":null,\"view\":{\"id\":\"f5c802da-4085-448b-b2f6-89f2a4ed3800\",\"type\":\"CDSView\"}},\"id\":\"dcc33ff3-4a30-4850-b33a-24170321837b\",\"type\":\"GlyphRenderer\"},{\"attributes\":{\"source\":{\"id\":\"e61c7d1a-d0ed-4e39-9ebf-1f5db978357e\",\"type\":\"ColumnDataSource\"}},\"id\":\"83c7e5f6-2e70-4c14-b711-518157f00080\",\"type\":\"CDSView\"}],\"root_ids\":[\"81053e00-a160-4e60-89ca-d1aa3e41e392\"]},\"title\":\"Bokeh Application\",\"version\":\"0.12.16\"}};\n",
       "  var render_items = [{\"docid\":\"c96b64d0-0db9-48c5-a5a3-aeeec3ecf17e\",\"elementid\":\"79b6ba7f-0bea-4169-adf0-1ea0f9034762\",\"modelid\":\"81053e00-a160-4e60-89ca-d1aa3e41e392\"}];\n",
       "  root.Bokeh.embed.embed_items_notebook(docs_json, render_items);\n",
       "\n",
       "  }\n",
       "  if (root.Bokeh !== undefined) {\n",
       "    embed_document(root);\n",
       "  } else {\n",
       "    var attempts = 0;\n",
       "    var timer = setInterval(function(root) {\n",
       "      if (root.Bokeh !== undefined) {\n",
       "        embed_document(root);\n",
       "        clearInterval(timer);\n",
       "      }\n",
       "      attempts++;\n",
       "      if (attempts > 100) {\n",
       "        console.log(\"Bokeh: ERROR: Unable to run BokehJS code because BokehJS library is missing\")\n",
       "        clearInterval(timer);\n",
       "      }\n",
       "    }, 10, root)\n",
       "  }\n",
       "})(window);"
      ],
      "application/vnd.bokehjs_exec.v0+json": ""
     },
     "metadata": {
      "application/vnd.bokehjs_exec.v0+json": {
       "id": "81053e00-a160-4e60-89ca-d1aa3e41e392"
      }
     },
     "output_type": "display_data"
    },
    {
     "data": {
      "text/markdown": [
       "*FIGURE.* Cooling rates. g=2"
      ],
      "text/plain": [
       "<IPython.core.display.Markdown object>"
      ]
     },
     "metadata": {},
     "output_type": "display_data"
    },
    {
     "data": {
      "text/html": [
       "\n",
       "<div class=\"bk-root\">\n",
       "    <div class=\"bk-plotdiv\" id=\"214b8dc4-135d-49be-b395-24d6894f1e1f\"></div>\n",
       "</div>"
      ]
     },
     "metadata": {},
     "output_type": "display_data"
    },
    {
     "data": {
      "application/javascript": [
       "(function(root) {\n",
       "  function embed_document(root) {\n",
       "    \n",
       "  var docs_json = {\"32eafe78-5d46-4bf7-a537-8fabfa42b046\":{\"roots\":{\"references\":[{\"attributes\":{},\"id\":\"8d10f6fe-dc21-4dba-bc4d-1b0ea54b3bbf\",\"type\":\"BasicTickFormatter\"},{\"attributes\":{},\"id\":\"86d1233c-9bee-404d-8822-ee45ec6f313e\",\"type\":\"Selection\"},{\"attributes\":{},\"id\":\"8e169ab8-dc73-4025-9b03-fea184285da0\",\"type\":\"Selection\"},{\"attributes\":{},\"id\":\"05cd41a3-689c-4e4a-a6cb-da3942cc1dda\",\"type\":\"UnionRenderers\"},{\"attributes\":{},\"id\":\"73fd5c3c-c3a6-48ee-b754-8beb0a25c83a\",\"type\":\"UnionRenderers\"},{\"attributes\":{},\"id\":\"7c12d9c2-e795-472b-ab96-d056fb4b35d1\",\"type\":\"UnionRenderers\"},{\"attributes\":{},\"id\":\"be8fd3d4-eaa9-4f50-b21e-36541e6bfd26\",\"type\":\"Selection\"},{\"attributes\":{},\"id\":\"599936f0-9ed5-43f3-9934-fd0fc463a2e7\",\"type\":\"BasicTickFormatter\"},{\"attributes\":{\"line_color\":\"#4daf4a\",\"line_width\":1.5,\"x\":{\"field\":\"x\"},\"y\":{\"field\":\"y\"}},\"id\":\"19ddf046-40be-4eb9-934a-a88a9ae01e9c\",\"type\":\"Line\"},{\"attributes\":{},\"id\":\"ee40fa8f-bc46-4fec-b277-dd00dce6f531\",\"type\":\"Selection\"},{\"attributes\":{},\"id\":\"35cd2c38-5d6e-4696-921f-07b739c0136c\",\"type\":\"UnionRenderers\"},{\"attributes\":{\"plot\":null,\"text\":\"\"},\"id\":\"f2847094-cefa-4df5-b700-bf0598b4c3df\",\"type\":\"Title\"},{\"attributes\":{\"callback\":null,\"data\":{\"x\":{\"__ndarray__\":\"/92SqIiDhL6O+QSDSZWEvgFNmLXi34S+3lQgz8Iihb6XW/nt6FCFvh8wn5XEl4W+50cHzrvdhb5Yl7rNZxmGvruWSZ15WYa+vUL/2FiZhr6auvcRrtiGvodRHRi0GIe+19IFHhpYh74IYlkaQ5yHvpzsYQFjXoi+7ke8vBJFir7HCKyMjkuMvgp/NFxssIy+UvVp/biwib7n6zQM/luAvoZxOjzx5WA+uH/m/GPrlT4jFOBn3RyoPrLwW7qtdqk+m3cQRMv0nD6J5bODSz2DPqxnyUC9S2a+KyCn52nog77Ks6ZylHqLvlg4bANOXI++KnE37PqskL5U7oNDUzCRvtX8tk0atJG+aD7dkKiikr5YNiQaSg6UvkjE/ffuFpa+N1wzJmrPmL78Qb7y2+ibvleVJ/j3CJ++RSm2J1j8ob6A3QNbKIqvvgoD8UjKLMi+9FoiPEy13r5wGwOkHaTwvvlUtlGliP++ojWx5COOBr9PIYF+xY4Mv+R4EtwU6RC/wWO2tkxvEr8g2ErPSMkRvwDBCt/mGwu/aiWcZgrd7r4FvyFxIF0JP4G660U7JCM/R9vp0tr1Mj+3aEWCGiJAP9aY6KMDUkk/FQGgWwfGUz9RxyyB8LZdPzfu+KbVhmU/mICzItc+bj89nYS5MYJ0PyoHusMUT3s/wjgXwtPrgT98zvRKDfiGP074MHFnA40/rl7gGiEBkj/Jcad0sP6VP58B1FjrWZo/Kubey5YPnz/Co4OxYhGiP6jfha3ZyqQ/qXg4jhO3pz/iUHF86uGqPzAuvUwAPa4/\",\"dtype\":\"float64\",\"shape\":[75]},\"y\":{\"__ndarray__\":\"GhExyth1ND/Sv8nbtpRIP2vylNV0PVE/aTum7souWD/At0SJ8fVgPw3Iuahxymc/MSNhhJWvcD/bTfBN02d3P2zb5nxnaoA/CD5h5MAGhz8NmeH1TyaQP+zrCsc9p5Y/LbKd76fGnz/bLW5ISEmmPww9YvTcQq8/JV2OstnstT8Er5Y7M8G+P0c+r3jqkcU/5h99k6ZBzj88bCIzFzjVP4enV8oyxN0//yH99nXg5D8qOpLLf0jtP5kqGJXUifQ/c9cS8kHP/D+/DpwzojQEQIEmwoanVwxA4lgXt9HgE0BSSZ2AJuIbQAMJih9jjiNA5q4l5INuK0AwTKYKRj0zQNv5fmq8/DpAaCJseHrtQkB/+zpwzoxKQM3MzMzMeFJAZmZmZmZqWEAAAAAAAFxeQM3MzMzMJmJAmpmZmZkfZUBmZmZmZhhoQDMzMzMzEWtAAAAAAAAKbkBmZmZmZoFwQM3MzMzM/XFAMzMzMzN6c0CamZmZmfZ0QAAAAAAAc3ZAZmZmZmbvd0DNzMzMzGt5QDMzMzMz6HpAmpmZmZlkfEAAAAAAAOF9QGZmZmZmXX9AZmZmZuZsgECamZmZGSuBQM3MzMxM6YFAAAAAAICngkAzMzMzs2WDQGZmZmbmI4RAmpmZmRnihEDNzMzMTKCFQAAAAACAXoZAMzMzM7Mch0BmZmZm5tqHQJqZmZkZmYhAzczMzExXiUAAAAAAgBWKQDMzMzOz04pAZmZmZuaRi0CamZmZGVCMQM3MzMxMDo1AAAAAAIDMjUAzMzMzs4qOQGZmZmbmSI9A\",\"dtype\":\"float64\",\"shape\":[75]}},\"selected\":{\"id\":\"5f04ef37-e348-42a1-83ca-5c6afeef05fe\",\"type\":\"Selection\"},\"selection_policy\":{\"id\":\"a2eccb0a-5d0d-49c5-984f-7879fb144e5d\",\"type\":\"UnionRenderers\"}},\"id\":\"e0ae4549-714e-4102-a444-e4c4233f766c\",\"type\":\"ColumnDataSource\"},{\"attributes\":{\"toolbar\":{\"id\":\"c692c4f5-b38a-4f5d-8042-c97ec2939d55\",\"type\":\"ProxyToolbar\"},\"toolbar_location\":\"above\"},\"id\":\"84bc2bc0-bd81-4b01-acd2-0f98715b152d\",\"type\":\"ToolbarBox\"},{\"attributes\":{},\"id\":\"481ce90c-fb09-448c-b5fa-53f0cb2ba313\",\"type\":\"UnionRenderers\"},{\"attributes\":{},\"id\":\"a2eccb0a-5d0d-49c5-984f-7879fb144e5d\",\"type\":\"UnionRenderers\"},{\"attributes\":{\"ticker\":null},\"id\":\"8a29345e-3ea8-4c16-be01-b314f33ff753\",\"type\":\"LogTickFormatter\"},{\"attributes\":{},\"id\":\"e15eef57-97ed-4a5b-b549-7e963be4b0f9\",\"type\":\"Selection\"},{\"attributes\":{},\"id\":\"5f04ef37-e348-42a1-83ca-5c6afeef05fe\",\"type\":\"Selection\"},{\"attributes\":{},\"id\":\"4ecf95a9-a408-41f1-be19-7dbc27090758\",\"type\":\"Selection\"},{\"attributes\":{},\"id\":\"c8c34116-653f-46af-a27f-bdcda1773136\",\"type\":\"LinearScale\"},{\"attributes\":{},\"id\":\"2ed691ee-6211-4b7c-9344-cea8d4be7bd8\",\"type\":\"UnionRenderers\"},{\"attributes\":{},\"id\":\"b784e8e1-e78a-4242-8aaf-b83d373c1b91\",\"type\":\"Selection\"},{\"attributes\":{},\"id\":\"c5a55d6f-98e3-4e3d-ac55-9b847f6b1873\",\"type\":\"UnionRenderers\"},{\"attributes\":{},\"id\":\"d23949ac-ebb5-4483-925e-b5e00a2d14b5\",\"type\":\"Selection\"},{\"attributes\":{},\"id\":\"92e624b4-04a9-4d11-aae7-76b9d7e32cb7\",\"type\":\"Selection\"},{\"attributes\":{},\"id\":\"96da058e-c3b5-40d6-aed4-3e69e618cc37\",\"type\":\"UnionRenderers\"},{\"attributes\":{\"children\":[{\"id\":\"84bc2bc0-bd81-4b01-acd2-0f98715b152d\",\"type\":\"ToolbarBox\"},{\"id\":\"59f84640-8b1b-4f3d-923d-e2ea08cd46d2\",\"type\":\"Column\"}]},\"id\":\"390ca410-22bd-48dd-9856-4ba48f67a8bb\",\"type\":\"Column\"},{\"attributes\":{\"fill_alpha\":{\"value\":0.7},\"fill_color\":{\"value\":\"#4daf4a\"},\"line_alpha\":{\"value\":0.7},\"line_color\":{\"value\":\"#4daf4a\"},\"x\":{\"field\":\"x\"},\"y\":{\"field\":\"y\"}},\"id\":\"9e451726-7e20-4f2d-946a-d7e55b9457f4\",\"type\":\"Circle\"},{\"attributes\":{\"source\":{\"id\":\"2d8d68e8-834c-4548-8d11-bf5a36ee2773\",\"type\":\"ColumnDataSource\"}},\"id\":\"ebdaa2a8-8b0b-4cea-a612-3ba275deecee\",\"type\":\"CDSView\"},{\"attributes\":{\"tools\":[{\"id\":\"07483e8f-512b-4717-bf0d-2069e8f09609\",\"type\":\"PanTool\"},{\"id\":\"7812da32-4ef1-412c-9453-897b7dfbf780\",\"type\":\"WheelZoomTool\"},{\"id\":\"809b60e6-9205-41a5-aab1-36610b4d5d8c\",\"type\":\"BoxZoomTool\"},{\"id\":\"81d568a1-f02d-40d9-a403-9705f54ea1f4\",\"type\":\"SaveTool\"},{\"id\":\"9f3aeca4-aa62-440a-b78b-80bdf90f2cad\",\"type\":\"ResetTool\"},{\"id\":\"75317f29-73de-4aef-a7f7-c06ab3b2ae8b\",\"type\":\"HelpTool\"},{\"id\":\"f4f5cdab-d749-433d-baa2-38a821d2a9aa\",\"type\":\"PanTool\"},{\"id\":\"267cb481-1419-4ba0-bcef-96bdc2784452\",\"type\":\"WheelZoomTool\"},{\"id\":\"7603add9-be1f-4286-85da-d4b70375b6ce\",\"type\":\"BoxZoomTool\"},{\"id\":\"5c5884ce-4614-4f11-a15d-1c3f323091a3\",\"type\":\"SaveTool\"},{\"id\":\"92409e9b-99eb-40a1-b2f0-edc4357d7231\",\"type\":\"ResetTool\"},{\"id\":\"960f82d7-4217-4058-a1f2-0f2610f8c29b\",\"type\":\"HelpTool\"}]},\"id\":\"c692c4f5-b38a-4f5d-8042-c97ec2939d55\",\"type\":\"ProxyToolbar\"},{\"attributes\":{\"fill_alpha\":{\"value\":0.1},\"fill_color\":{\"value\":\"#1f77b4\"},\"line_alpha\":{\"value\":0.1},\"line_color\":{\"value\":\"#1f77b4\"},\"x\":{\"field\":\"x\"},\"y\":{\"field\":\"y\"}},\"id\":\"00dd0d55-24a0-4441-a644-0fb9c56d02dd\",\"type\":\"Circle\"},{\"attributes\":{\"dimension\":1,\"plot\":{\"id\":\"e02da45f-483c-4865-bbff-5f49562593bb\",\"subtype\":\"Figure\",\"type\":\"Plot\"},\"ticker\":{\"id\":\"4223f743-0a91-4174-8634-0be3b64a86a4\",\"type\":\"LogTicker\"}},\"id\":\"87a789c2-305e-4998-b868-a59f9a6c92ff\",\"type\":\"Grid\"},{\"attributes\":{},\"id\":\"722446c6-42e2-44a9-9195-d52dc25ea6ba\",\"type\":\"UnionRenderers\"},{\"attributes\":{\"callback\":null,\"data\":{\"x\":{\"__ndarray__\":\"/92SqIiDhL6O+QSDSZWEvgFNmLXi34S+3lQgz8Iihb6XW/nt6FCFvh8wn5XEl4W+50cHzrvdhb5Yl7rNZxmGvruWSZ15WYa+vUL/2FiZhr6auvcRrtiGvodRHRi0GIe+19IFHhpYh74IYlkaQ5yHvpzsYQFjXoi+7ke8vBJFir7HCKyMjkuMvgp/NFxssIy+UvVp/biwib7n6zQM/luAvoZxOjzx5WA+uH/m/GPrlT4jFOBn3RyoPrLwW7qtdqk+m3cQRMv0nD6J5bODSz2DPqxnyUC9S2a+KyCn52nog77Ks6ZylHqLvlg4bANOXI++KnE37PqskL5U7oNDUzCRvtX8tk0atJG+aD7dkKiikr5YNiQaSg6UvkjE/ffuFpa+N1wzJmrPmL78Qb7y2+ibvleVJ/j3CJ++RSm2J1j8ob6A3QNbKIqvvgoD8UjKLMi+9FoiPEy13r5wGwOkHaTwvvlUtlGliP++ojWx5COOBr9PIYF+xY4Mv+R4EtwU6RC/wWO2tkxvEr8g2ErPSMkRvwDBCt/mGwu/aiWcZgrd7r4FvyFxIF0JP4G660U7JCM/R9vp0tr1Mj+3aEWCGiJAP9aY6KMDUkk/FQGgWwfGUz9RxyyB8LZdPzfu+KbVhmU/mICzItc+bj89nYS5MYJ0PyoHusMUT3s/wjgXwtPrgT98zvRKDfiGP074MHFnA40/rl7gGiEBkj/Jcad0sP6VP58B1FjrWZo/Kubey5YPnz/Co4OxYhGiP6jfha3ZyqQ/qXg4jhO3pz/iUHF86uGqPzAuvUwAPa4/\",\"dtype\":\"float64\",\"shape\":[75]},\"y\":{\"__ndarray__\":\"GhExyth1ND/Sv8nbtpRIP2vylNV0PVE/aTum7souWD/At0SJ8fVgPw3Iuahxymc/MSNhhJWvcD/bTfBN02d3P2zb5nxnaoA/CD5h5MAGhz8NmeH1TyaQP+zrCsc9p5Y/LbKd76fGnz/bLW5ISEmmPww9YvTcQq8/JV2OstnstT8Er5Y7M8G+P0c+r3jqkcU/5h99k6ZBzj88bCIzFzjVP4enV8oyxN0//yH99nXg5D8qOpLLf0jtP5kqGJXUifQ/c9cS8kHP/D+/DpwzojQEQIEmwoanVwxA4lgXt9HgE0BSSZ2AJuIbQAMJih9jjiNA5q4l5INuK0AwTKYKRj0zQNv5fmq8/DpAaCJseHrtQkB/+zpwzoxKQM3MzMzMeFJAZmZmZmZqWEAAAAAAAFxeQM3MzMzMJmJAmpmZmZkfZUBmZmZmZhhoQDMzMzMzEWtAAAAAAAAKbkBmZmZmZoFwQM3MzMzM/XFAMzMzMzN6c0CamZmZmfZ0QAAAAAAAc3ZAZmZmZmbvd0DNzMzMzGt5QDMzMzMz6HpAmpmZmZlkfEAAAAAAAOF9QGZmZmZmXX9AZmZmZuZsgECamZmZGSuBQM3MzMxM6YFAAAAAAICngkAzMzMzs2WDQGZmZmbmI4RAmpmZmRnihEDNzMzMTKCFQAAAAACAXoZAMzMzM7Mch0BmZmZm5tqHQJqZmZkZmYhAzczMzExXiUAAAAAAgBWKQDMzMzOz04pAZmZmZuaRi0CamZmZGVCMQM3MzMxMDo1AAAAAAIDMjUAzMzMzs4qOQGZmZmbmSI9A\",\"dtype\":\"float64\",\"shape\":[75]}},\"selected\":{\"id\":\"4ecf95a9-a408-41f1-be19-7dbc27090758\",\"type\":\"Selection\"},\"selection_policy\":{\"id\":\"2ed691ee-6211-4b7c-9344-cea8d4be7bd8\",\"type\":\"UnionRenderers\"}},\"id\":\"09929dc9-05fd-4f54-8112-d1d6a61ce50f\",\"type\":\"ColumnDataSource\"},{\"attributes\":{},\"id\":\"f4f5cdab-d749-433d-baa2-38a821d2a9aa\",\"type\":\"PanTool\"},{\"attributes\":{\"fill_alpha\":{\"value\":0.1},\"fill_color\":{\"value\":\"#1f77b4\"},\"line_alpha\":{\"value\":0.1},\"line_color\":{\"value\":\"#1f77b4\"},\"x\":{\"field\":\"x\"},\"y\":{\"field\":\"y\"}},\"id\":\"20558e9f-a844-4a7a-a08f-55f75d591fe5\",\"type\":\"Square\"},{\"attributes\":{\"data_source\":{\"id\":\"09929dc9-05fd-4f54-8112-d1d6a61ce50f\",\"type\":\"ColumnDataSource\"},\"glyph\":{\"id\":\"b7d9a915-1edf-4cd4-bb08-de70aa9a2695\",\"type\":\"Square\"},\"hover_glyph\":null,\"muted_glyph\":null,\"nonselection_glyph\":{\"id\":\"20558e9f-a844-4a7a-a08f-55f75d591fe5\",\"type\":\"Square\"},\"selection_glyph\":null,\"view\":{\"id\":\"552e1991-88a2-47ca-872b-d1c5c2e20371\",\"type\":\"CDSView\"}},\"id\":\"a7c9861e-8c0e-49ba-a6b5-e88d7dcabd87\",\"type\":\"GlyphRenderer\"},{\"attributes\":{\"callback\":null,\"data\":{\"x\":{\"__ndarray__\":\"ZuF1/slChr4Eoa/B1SaGvsm9Fefpnoa+m0cxqgfvhr46EEZmtO2Gvrn/P14gUIe+W8Qp92iTh75TtonbFNqHvryU7ANpB4i++fjPtYxOiL4IZNudMIqIvj/xbcKZzYi+e3DqvewIib4b/yS/wk2Jvk3kc5kzCoq+dKuYHNXVi76XU8ceRoiNvhzu4jOlP42+P0Ykr8T8iL4kQuRUX916vt2oNg7d3nU+NBdBUixnnD6d7kfeY0GtPlwoD4koyq4+C5rNsjs8oj7rT7Txy22MPm2vx0D7Uy6+CX8GP7h5gb5OqrAAt7SKvrVn0hOlo4++ebyEVd8rkb7VYmi4Yu6RvsxDsoOonZK+PlEw89exk77VCXRp8EiVvoGA8OeMh5e+ybkybGF9mr7Rx8nxR9edvuj2GyTQnKC+rSXY3+1Eo77AY4TRbuGwvj9cnvdAz8m+RHWqYhxV4L56x58QU57xvsHbPh0vlwC/88c+65KJB7+ebnzuf3QNv1H1OyaWIxG/LYO8VIYmEr91Qi5Ug4sQvy8lelpdcwW/lwCbNb+k1D74DyjqNgYVP6ZpKV7UaSk/GXWqTuB8Nz8nHQ/+FEZDP7X2qkHIiU0/1BgpIuenVj8FS5TFzcVgP8VA+ahv82c/CYm1smSZcD9SCgrgfml2PzgLcENJln0/ReKEmyolgz8DiA7DP1OIPwf4/p4JYY4//wNbDrymkj+f1rvfa3+WP5tMW6pypJo/+v1lbvMDnz8Vo4um48yhP/qcEV7oNaQ/K9++BCrApj8Br/dkw2+pP1GGqphKP6w/\",\"dtype\":\"float64\",\"shape\":[75]},\"y\":{\"__ndarray__\":\"GhExyth1ND/Sv8nbtpRIP2vylNV0PVE/aTum7souWD/At0SJ8fVgPw3Iuahxymc/MSNhhJWvcD/bTfBN02d3P2zb5nxnaoA/CD5h5MAGhz8NmeH1TyaQP+zrCsc9p5Y/LbKd76fGnz/bLW5ISEmmPww9YvTcQq8/JV2OstnstT8Er5Y7M8G+P0c+r3jqkcU/5h99k6ZBzj88bCIzFzjVP4enV8oyxN0//yH99nXg5D8qOpLLf0jtP5kqGJXUifQ/c9cS8kHP/D+/DpwzojQEQIEmwoanVwxA4lgXt9HgE0BSSZ2AJuIbQAMJih9jjiNA5q4l5INuK0AwTKYKRj0zQNv5fmq8/DpAaCJseHrtQkB/+zpwzoxKQM3MzMzMeFJAZmZmZmZqWEAAAAAAAFxeQM3MzMzMJmJAmpmZmZkfZUBmZmZmZhhoQDMzMzMzEWtAAAAAAAAKbkBmZmZmZoFwQM3MzMzM/XFAMzMzMzN6c0CamZmZmfZ0QAAAAAAAc3ZAZmZmZmbvd0DNzMzMzGt5QDMzMzMz6HpAmpmZmZlkfEAAAAAAAOF9QGZmZmZmXX9AZmZmZuZsgECamZmZGSuBQM3MzMxM6YFAAAAAAICngkAzMzMzs2WDQGZmZmbmI4RAmpmZmRnihEDNzMzMTKCFQAAAAACAXoZAMzMzM7Mch0BmZmZm5tqHQJqZmZkZmYhAzczMzExXiUAAAAAAgBWKQDMzMzOz04pAZmZmZuaRi0CamZmZGVCMQM3MzMxMDo1AAAAAAIDMjUAzMzMzs4qOQGZmZmbmSI9A\",\"dtype\":\"float64\",\"shape\":[75]}},\"selected\":{\"id\":\"86d1233c-9bee-404d-8822-ee45ec6f313e\",\"type\":\"Selection\"},\"selection_policy\":{\"id\":\"05cd41a3-689c-4e4a-a6cb-da3942cc1dda\",\"type\":\"UnionRenderers\"}},\"id\":\"713f09d4-eb0c-40ae-8d3c-ede9ed84bee5\",\"type\":\"ColumnDataSource\"},{\"attributes\":{\"source\":{\"id\":\"4aa9fd59-bd41-4409-ae46-dba5d53d2b00\",\"type\":\"ColumnDataSource\"}},\"id\":\"09fd5835-e55f-48e2-ab43-6e1e59cb3efc\",\"type\":\"CDSView\"},{\"attributes\":{\"line_alpha\":0.6,\"line_color\":\"#984ea3\",\"line_width\":3,\"x\":{\"field\":\"x\"},\"y\":{\"field\":\"y\"}},\"id\":\"1743a942-70fd-4c02-b279-370864875ead\",\"type\":\"Line\"},{\"attributes\":{\"line_alpha\":0.1,\"line_color\":\"#1f77b4\",\"line_width\":3,\"x\":{\"field\":\"x\"},\"y\":{\"field\":\"y\"}},\"id\":\"a33ff51a-c139-44c2-b646-4963156b8e03\",\"type\":\"Line\"},{\"attributes\":{\"line_alpha\":0.1,\"line_color\":\"#1f77b4\",\"line_width\":2,\"x\":{\"field\":\"x\"},\"y\":{\"field\":\"y\"}},\"id\":\"6cf978e3-8080-4041-928a-7cfb22e32aee\",\"type\":\"Line\"},{\"attributes\":{\"source\":{\"id\":\"09929dc9-05fd-4f54-8112-d1d6a61ce50f\",\"type\":\"ColumnDataSource\"}},\"id\":\"552e1991-88a2-47ca-872b-d1c5c2e20371\",\"type\":\"CDSView\"},{\"attributes\":{\"source\":{\"id\":\"e0ae4549-714e-4102-a444-e4c4233f766c\",\"type\":\"ColumnDataSource\"}},\"id\":\"1bdf1d42-52ef-4e9c-bd46-8d1c22c64d5d\",\"type\":\"CDSView\"},{\"attributes\":{\"callback\":null,\"data\":{\"x\":{\"__ndarray__\":\"ZuF1/slChr4Eoa/B1SaGvsm9Fefpnoa+m0cxqgfvhr46EEZmtO2Gvrn/P14gUIe+W8Qp92iTh75TtonbFNqHvryU7ANpB4i++fjPtYxOiL4IZNudMIqIvj/xbcKZzYi+e3DqvewIib4b/yS/wk2Jvk3kc5kzCoq+dKuYHNXVi76XU8ceRoiNvhzu4jOlP42+P0Ykr8T8iL4kQuRUX916vt2oNg7d3nU+NBdBUixnnD6d7kfeY0GtPlwoD4koyq4+C5rNsjs8oj7rT7Txy22MPm2vx0D7Uy6+CX8GP7h5gb5OqrAAt7SKvrVn0hOlo4++ebyEVd8rkb7VYmi4Yu6RvsxDsoOonZK+PlEw89exk77VCXRp8EiVvoGA8OeMh5e+ybkybGF9mr7Rx8nxR9edvuj2GyTQnKC+rSXY3+1Eo77AY4TRbuGwvj9cnvdAz8m+RHWqYhxV4L56x58QU57xvsHbPh0vlwC/88c+65KJB7+ebnzuf3QNv1H1OyaWIxG/LYO8VIYmEr91Qi5Ug4sQvy8lelpdcwW/lwCbNb+k1D74DyjqNgYVP6ZpKV7UaSk/GXWqTuB8Nz8nHQ/+FEZDP7X2qkHIiU0/1BgpIuenVj8FS5TFzcVgP8VA+ahv82c/CYm1smSZcD9SCgrgfml2PzgLcENJln0/ReKEmyolgz8DiA7DP1OIPwf4/p4JYY4//wNbDrymkj+f1rvfa3+WP5tMW6pypJo/+v1lbvMDnz8Vo4um48yhP/qcEV7oNaQ/K9++BCrApj8Br/dkw2+pP1GGqphKP6w/\",\"dtype\":\"float64\",\"shape\":[75]},\"y\":{\"__ndarray__\":\"GhExyth1ND/Sv8nbtpRIP2vylNV0PVE/aTum7souWD/At0SJ8fVgPw3Iuahxymc/MSNhhJWvcD/bTfBN02d3P2zb5nxnaoA/CD5h5MAGhz8NmeH1TyaQP+zrCsc9p5Y/LbKd76fGnz/bLW5ISEmmPww9YvTcQq8/JV2OstnstT8Er5Y7M8G+P0c+r3jqkcU/5h99k6ZBzj88bCIzFzjVP4enV8oyxN0//yH99nXg5D8qOpLLf0jtP5kqGJXUifQ/c9cS8kHP/D+/DpwzojQEQIEmwoanVwxA4lgXt9HgE0BSSZ2AJuIbQAMJih9jjiNA5q4l5INuK0AwTKYKRj0zQNv5fmq8/DpAaCJseHrtQkB/+zpwzoxKQM3MzMzMeFJAZmZmZmZqWEAAAAAAAFxeQM3MzMzMJmJAmpmZmZkfZUBmZmZmZhhoQDMzMzMzEWtAAAAAAAAKbkBmZmZmZoFwQM3MzMzM/XFAMzMzMzN6c0CamZmZmfZ0QAAAAAAAc3ZAZmZmZmbvd0DNzMzMzGt5QDMzMzMz6HpAmpmZmZlkfEAAAAAAAOF9QGZmZmZmXX9AZmZmZuZsgECamZmZGSuBQM3MzMxM6YFAAAAAAICngkAzMzMzs2WDQGZmZmbmI4RAmpmZmRnihEDNzMzMTKCFQAAAAACAXoZAMzMzM7Mch0BmZmZm5tqHQJqZmZkZmYhAzczMzExXiUAAAAAAgBWKQDMzMzOz04pAZmZmZuaRi0CamZmZGVCMQM3MzMxMDo1AAAAAAIDMjUAzMzMzs4qOQGZmZmbmSI9A\",\"dtype\":\"float64\",\"shape\":[75]}},\"selected\":{\"id\":\"be8fd3d4-eaa9-4f50-b21e-36541e6bfd26\",\"type\":\"Selection\"},\"selection_policy\":{\"id\":\"73fd5c3c-c3a6-48ee-b754-8beb0a25c83a\",\"type\":\"UnionRenderers\"}},\"id\":\"162cb615-e06d-49c2-9038-6f7c093c32c5\",\"type\":\"ColumnDataSource\"},{\"attributes\":{\"data_source\":{\"id\":\"713f09d4-eb0c-40ae-8d3c-ede9ed84bee5\",\"type\":\"ColumnDataSource\"},\"glyph\":{\"id\":\"9e451726-7e20-4f2d-946a-d7e55b9457f4\",\"type\":\"Circle\"},\"hover_glyph\":null,\"muted_glyph\":null,\"nonselection_glyph\":{\"id\":\"00dd0d55-24a0-4441-a644-0fb9c56d02dd\",\"type\":\"Circle\"},\"selection_glyph\":null,\"view\":{\"id\":\"b4ddf101-4c08-4ee6-8118-8b0cdcd227ec\",\"type\":\"CDSView\"}},\"id\":\"7b839c2c-8ccc-41e0-a040-7446402ee8f3\",\"type\":\"GlyphRenderer\"},{\"attributes\":{\"line_alpha\":0.1,\"line_color\":\"#1f77b4\",\"line_width\":1.5,\"x\":{\"field\":\"x\"},\"y\":{\"field\":\"y\"}},\"id\":\"5cb89125-9631-445b-a5ae-a4dc9ae1bc0e\",\"type\":\"Line\"},{\"attributes\":{\"callback\":null,\"data\":{\"x\":{\"__ndarray__\":\"ZuF1/slChr4Eoa/B1SaGvsm9Fefpnoa+m0cxqgfvhr46EEZmtO2Gvrn/P14gUIe+W8Qp92iTh75TtonbFNqHvryU7ANpB4i++fjPtYxOiL4IZNudMIqIvj/xbcKZzYi+e3DqvewIib4b/yS/wk2Jvk3kc5kzCoq+dKuYHNXVi76XU8ceRoiNvhzu4jOlP42+P0Ykr8T8iL4kQuRUX916vt2oNg7d3nU+NBdBUixnnD6d7kfeY0GtPlwoD4koyq4+C5rNsjs8oj7rT7Txy22MPm2vx0D7Uy6+CX8GP7h5gb5OqrAAt7SKvrVn0hOlo4++ebyEVd8rkb7VYmi4Yu6RvsxDsoOonZK+PlEw89exk77VCXRp8EiVvoGA8OeMh5e+ybkybGF9mr7Rx8nxR9edvuj2GyTQnKC+rSXY3+1Eo77AY4TRbuGwvj9cnvdAz8m+RHWqYhxV4L56x58QU57xvsHbPh0vlwC/88c+65KJB7+ebnzuf3QNv1H1OyaWIxG/LYO8VIYmEr91Qi5Ug4sQvy8lelpdcwW/lwCbNb+k1D74DyjqNgYVP6ZpKV7UaSk/GXWqTuB8Nz8nHQ/+FEZDP7X2qkHIiU0/1BgpIuenVj8FS5TFzcVgP8VA+ahv82c/CYm1smSZcD9SCgrgfml2PzgLcENJln0/ReKEmyolgz8DiA7DP1OIPwf4/p4JYY4//wNbDrymkj+f1rvfa3+WP5tMW6pypJo/+v1lbvMDnz8Vo4um48yhP/qcEV7oNaQ/K9++BCrApj8Br/dkw2+pP1GGqphKP6w/\",\"dtype\":\"float64\",\"shape\":[75]},\"y\":{\"__ndarray__\":\"GhExyth1ND/Sv8nbtpRIP2vylNV0PVE/aTum7souWD/At0SJ8fVgPw3Iuahxymc/MSNhhJWvcD/bTfBN02d3P2zb5nxnaoA/CD5h5MAGhz8NmeH1TyaQP+zrCsc9p5Y/LbKd76fGnz/bLW5ISEmmPww9YvTcQq8/JV2OstnstT8Er5Y7M8G+P0c+r3jqkcU/5h99k6ZBzj88bCIzFzjVP4enV8oyxN0//yH99nXg5D8qOpLLf0jtP5kqGJXUifQ/c9cS8kHP/D+/DpwzojQEQIEmwoanVwxA4lgXt9HgE0BSSZ2AJuIbQAMJih9jjiNA5q4l5INuK0AwTKYKRj0zQNv5fmq8/DpAaCJseHrtQkB/+zpwzoxKQM3MzMzMeFJAZmZmZmZqWEAAAAAAAFxeQM3MzMzMJmJAmpmZmZkfZUBmZmZmZhhoQDMzMzMzEWtAAAAAAAAKbkBmZmZmZoFwQM3MzMzM/XFAMzMzMzN6c0CamZmZmfZ0QAAAAAAAc3ZAZmZmZmbvd0DNzMzMzGt5QDMzMzMz6HpAmpmZmZlkfEAAAAAAAOF9QGZmZmZmXX9AZmZmZuZsgECamZmZGSuBQM3MzMxM6YFAAAAAAICngkAzMzMzs2WDQGZmZmbmI4RAmpmZmRnihEDNzMzMTKCFQAAAAACAXoZAMzMzM7Mch0BmZmZm5tqHQJqZmZkZmYhAzczMzExXiUAAAAAAgBWKQDMzMzOz04pAZmZmZuaRi0CamZmZGVCMQM3MzMxMDo1AAAAAAIDMjUAzMzMzs4qOQGZmZmbmSI9A\",\"dtype\":\"float64\",\"shape\":[75]}},\"selected\":{\"id\":\"e15eef57-97ed-4a5b-b549-7e963be4b0f9\",\"type\":\"Selection\"},\"selection_policy\":{\"id\":\"7c12d9c2-e795-472b-ab96-d056fb4b35d1\",\"type\":\"UnionRenderers\"}},\"id\":\"4aa9fd59-bd41-4409-ae46-dba5d53d2b00\",\"type\":\"ColumnDataSource\"},{\"attributes\":{\"callback\":null,\"end\":0.01,\"start\":1020},\"id\":\"ebe01d81-ab4d-4ca0-82c6-a651c8601b6b\",\"type\":\"Range1d\"},{\"attributes\":{\"num_minor_ticks\":10},\"id\":\"4223f743-0a91-4174-8634-0be3b64a86a4\",\"type\":\"LogTicker\"},{\"attributes\":{\"line_alpha\":0.1,\"line_color\":\"#1f77b4\",\"line_width\":1.5,\"x\":{\"field\":\"x\"},\"y\":{\"field\":\"y\"}},\"id\":\"56c8f813-3cb9-45ae-837e-e8ae94f3cde2\",\"type\":\"Line\"},{\"attributes\":{\"data_source\":{\"id\":\"e0ae4549-714e-4102-a444-e4c4233f766c\",\"type\":\"ColumnDataSource\"},\"glyph\":{\"id\":\"1743a942-70fd-4c02-b279-370864875ead\",\"type\":\"Line\"},\"hover_glyph\":null,\"muted_glyph\":null,\"nonselection_glyph\":{\"id\":\"a33ff51a-c139-44c2-b646-4963156b8e03\",\"type\":\"Line\"},\"selection_glyph\":null,\"view\":{\"id\":\"1bdf1d42-52ef-4e9c-bd46-8d1c22c64d5d\",\"type\":\"CDSView\"}},\"id\":\"8c2b38a7-0793-4fea-b62d-225ad295d444\",\"type\":\"GlyphRenderer\"},{\"attributes\":{\"data_source\":{\"id\":\"4aa9fd59-bd41-4409-ae46-dba5d53d2b00\",\"type\":\"ColumnDataSource\"},\"glyph\":{\"id\":\"19ddf046-40be-4eb9-934a-a88a9ae01e9c\",\"type\":\"Line\"},\"hover_glyph\":null,\"muted_glyph\":null,\"nonselection_glyph\":{\"id\":\"56c8f813-3cb9-45ae-837e-e8ae94f3cde2\",\"type\":\"Line\"},\"selection_glyph\":null,\"view\":{\"id\":\"09fd5835-e55f-48e2-ab43-6e1e59cb3efc\",\"type\":\"CDSView\"}},\"id\":\"5bdc0a78-d2a9-4de1-9e70-0cfda97d0c60\",\"type\":\"GlyphRenderer\"},{\"attributes\":{\"callback\":null,\"data\":{\"x\":{\"__ndarray__\":\"8w3a5FO/gr5ExtEOktKCvnBtUqlTD4O+fGQNP5U/g74IppjZqH6Dvlw22zpNuYO+68hdeLnxg74F+FIxJy2EvlfbtK6SaYS+dyLO51ejhL7M0ux459yEvjVW/vc1GIW+ga9/TOJRhb4YOtWL7ZCFvpgye+bAQ4a+v+yk0xIEiL6/3ir0IOiJvrdPd/uPVYq+ADpq3r+1h77eF4u9i8B+vhothaLg7lg+6ebORhFnkz6Y6e35ZpGlPmrGVc9lyaY+jGKFoLa+mT4WrSWwCZ+APizjU6423ma+M+SU2ieXgr7a39Zwd12Jvltnsoim0Yy+SMhqjdmSjr7SCAaycXePvnMTJ3OrMJC+AWPHWZUIkb4mBicFI1OSvjpXYclPLZS+f5b09seolr6TuDKFaX2ZvkJEhXwtWJy+c6ZIAoBtoL5Ot6QvXtGsvkwwAuWpGsa+kpZyR5Ma3L7DRU5DuX7uvrlXCc257/y+tYOVWSG9BL/9qcuDtVQKv5bdiXHtTw+/IfDDmHouEb/s8BY4aMkQv7IvptbMaQq/YRtOoSjn8r53SQBSddMDPxT69ZocVSA/ELnuLwuMMD8fz0UGN3E8P6QdOoFrcEY/UZkX7oCVUT9+vbIyqX9aP4GwdgRON2M/cNUwHWUGaz+2V73Ax4ByP8TjZBsmxXg/rNje9TlBgD+id13RQ/OEP2twN5UAjYo/Tab4YmmMkD+0ZIstz0aUP80pXOp7aJg/RDDoZnrnnD99XM+bgOKgPz8JaRYzhaM/PZNbZTZgpj9Btiem3XipP0nawjC2yaw/\",\"dtype\":\"float64\",\"shape\":[75]},\"y\":{\"__ndarray__\":\"GhExyth1ND/Sv8nbtpRIP2vylNV0PVE/aTum7souWD/At0SJ8fVgPw3Iuahxymc/MSNhhJWvcD/bTfBN02d3P2zb5nxnaoA/CD5h5MAGhz8NmeH1TyaQP+zrCsc9p5Y/LbKd76fGnz/bLW5ISEmmPww9YvTcQq8/JV2OstnstT8Er5Y7M8G+P0c+r3jqkcU/5h99k6ZBzj88bCIzFzjVP4enV8oyxN0//yH99nXg5D8qOpLLf0jtP5kqGJXUifQ/c9cS8kHP/D+/DpwzojQEQIEmwoanVwxA4lgXt9HgE0BSSZ2AJuIbQAMJih9jjiNA5q4l5INuK0AwTKYKRj0zQNv5fmq8/DpAaCJseHrtQkB/+zpwzoxKQM3MzMzMeFJAZmZmZmZqWEAAAAAAAFxeQM3MzMzMJmJAmpmZmZkfZUBmZmZmZhhoQDMzMzMzEWtAAAAAAAAKbkBmZmZmZoFwQM3MzMzM/XFAMzMzMzN6c0CamZmZmfZ0QAAAAAAAc3ZAZmZmZmbvd0DNzMzMzGt5QDMzMzMz6HpAmpmZmZlkfEAAAAAAAOF9QGZmZmZmXX9AZmZmZuZsgECamZmZGSuBQM3MzMxM6YFAAAAAAICngkAzMzMzs2WDQGZmZmbmI4RAmpmZmRnihEDNzMzMTKCFQAAAAACAXoZAMzMzM7Mch0BmZmZm5tqHQJqZmZkZmYhAzczMzExXiUAAAAAAgBWKQDMzMzOz04pAZmZmZuaRi0CamZmZGVCMQM3MzMxMDo1AAAAAAIDMjUAzMzMzs4qOQGZmZmbmSI9A\",\"dtype\":\"float64\",\"shape\":[75]}},\"selected\":{\"id\":\"92e624b4-04a9-4d11-aae7-76b9d7e32cb7\",\"type\":\"Selection\"},\"selection_policy\":{\"id\":\"96da058e-c3b5-40d6-aed4-3e69e618cc37\",\"type\":\"UnionRenderers\"}},\"id\":\"2317e3d6-c609-42a6-a270-c1142abbc98b\",\"type\":\"ColumnDataSource\"},{\"attributes\":{\"fill_alpha\":{\"value\":0.7},\"fill_color\":{\"value\":\"#377eb8\"},\"line_alpha\":{\"value\":0.7},\"line_color\":{\"value\":\"#377eb8\"},\"x\":{\"field\":\"x\"},\"y\":{\"field\":\"y\"}},\"id\":\"37614755-2d5c-4ec7-a1c5-05229c2e2786\",\"type\":\"Triangle\"},{\"attributes\":{\"callback\":null,\"data\":{\"x\":{\"__ndarray__\":\"8w3a5FO/gr5ExtEOktKCvnBtUqlTD4O+fGQNP5U/g74IppjZqH6Dvlw22zpNuYO+68hdeLnxg74F+FIxJy2EvlfbtK6SaYS+dyLO51ejhL7M0ux459yEvjVW/vc1GIW+ga9/TOJRhb4YOtWL7ZCFvpgye+bAQ4a+v+yk0xIEiL6/3ir0IOiJvrdPd/uPVYq+ADpq3r+1h77eF4u9i8B+vhothaLg7lg+6ebORhFnkz6Y6e35ZpGlPmrGVc9lyaY+jGKFoLa+mT4WrSWwCZ+APizjU6423ma+M+SU2ieXgr7a39Zwd12Jvltnsoim0Yy+SMhqjdmSjr7SCAaycXePvnMTJ3OrMJC+AWPHWZUIkb4mBicFI1OSvjpXYclPLZS+f5b09seolr6TuDKFaX2ZvkJEhXwtWJy+c6ZIAoBtoL5Ot6QvXtGsvkwwAuWpGsa+kpZyR5Ma3L7DRU5DuX7uvrlXCc257/y+tYOVWSG9BL/9qcuDtVQKv5bdiXHtTw+/IfDDmHouEb/s8BY4aMkQv7IvptbMaQq/YRtOoSjn8r53SQBSddMDPxT69ZocVSA/ELnuLwuMMD8fz0UGN3E8P6QdOoFrcEY/UZkX7oCVUT9+vbIyqX9aP4GwdgRON2M/cNUwHWUGaz+2V73Ax4ByP8TjZBsmxXg/rNje9TlBgD+id13RQ/OEP2twN5UAjYo/Tab4YmmMkD+0ZIstz0aUP80pXOp7aJg/RDDoZnrnnD99XM+bgOKgPz8JaRYzhaM/PZNbZTZgpj9Btiem3XipP0nawjC2yaw/\",\"dtype\":\"float64\",\"shape\":[75]},\"y\":{\"__ndarray__\":\"GhExyth1ND/Sv8nbtpRIP2vylNV0PVE/aTum7souWD/At0SJ8fVgPw3Iuahxymc/MSNhhJWvcD/bTfBN02d3P2zb5nxnaoA/CD5h5MAGhz8NmeH1TyaQP+zrCsc9p5Y/LbKd76fGnz/bLW5ISEmmPww9YvTcQq8/JV2OstnstT8Er5Y7M8G+P0c+r3jqkcU/5h99k6ZBzj88bCIzFzjVP4enV8oyxN0//yH99nXg5D8qOpLLf0jtP5kqGJXUifQ/c9cS8kHP/D+/DpwzojQEQIEmwoanVwxA4lgXt9HgE0BSSZ2AJuIbQAMJih9jjiNA5q4l5INuK0AwTKYKRj0zQNv5fmq8/DpAaCJseHrtQkB/+zpwzoxKQM3MzMzMeFJAZmZmZmZqWEAAAAAAAFxeQM3MzMzMJmJAmpmZmZkfZUBmZmZmZhhoQDMzMzMzEWtAAAAAAAAKbkBmZmZmZoFwQM3MzMzM/XFAMzMzMzN6c0CamZmZmfZ0QAAAAAAAc3ZAZmZmZmbvd0DNzMzMzGt5QDMzMzMz6HpAmpmZmZlkfEAAAAAAAOF9QGZmZmZmXX9AZmZmZuZsgECamZmZGSuBQM3MzMxM6YFAAAAAAICngkAzMzMzs2WDQGZmZmbmI4RAmpmZmRnihEDNzMzMTKCFQAAAAACAXoZAMzMzM7Mch0BmZmZm5tqHQJqZmZkZmYhAzczMzExXiUAAAAAAgBWKQDMzMzOz04pAZmZmZuaRi0CamZmZGVCMQM3MzMxMDo1AAAAAAIDMjUAzMzMzs4qOQGZmZmbmSI9A\",\"dtype\":\"float64\",\"shape\":[75]}},\"selected\":{\"id\":\"b784e8e1-e78a-4242-8aaf-b83d373c1b91\",\"type\":\"Selection\"},\"selection_policy\":{\"id\":\"c5a55d6f-98e3-4e3d-ac55-9b847f6b1873\",\"type\":\"UnionRenderers\"}},\"id\":\"a42e03ef-9a79-43eb-8dfd-f63833dbfe00\",\"type\":\"ColumnDataSource\"},{\"attributes\":{\"source\":{\"id\":\"2317e3d6-c609-42a6-a270-c1142abbc98b\",\"type\":\"ColumnDataSource\"}},\"id\":\"ec7cc773-5100-44a0-b3c1-3dd10c122c6f\",\"type\":\"CDSView\"},{\"attributes\":{\"fill_alpha\":{\"value\":0.7},\"fill_color\":{\"value\":\"#984ea3\"},\"line_alpha\":{\"value\":0.7},\"line_color\":{\"value\":\"#984ea3\"},\"x\":{\"field\":\"x\"},\"y\":{\"field\":\"y\"}},\"id\":\"b7d9a915-1edf-4cd4-bb08-de70aa9a2695\",\"type\":\"Square\"},{\"attributes\":{},\"id\":\"bc0b7c6a-a346-496b-8c35-75c91b82d8f8\",\"type\":\"Selection\"},{\"attributes\":{\"fill_alpha\":{\"value\":0.1},\"fill_color\":{\"value\":\"#1f77b4\"},\"line_alpha\":{\"value\":0.1},\"line_color\":{\"value\":\"#1f77b4\"},\"x\":{\"field\":\"x\"},\"y\":{\"field\":\"y\"}},\"id\":\"17cc8c34-6640-4f28-8336-88d2ddfd7d15\",\"type\":\"Triangle\"},{\"attributes\":{\"line_alpha\":0.3,\"line_color\":\"#377eb8\",\"line_width\":2,\"x\":{\"field\":\"x\"},\"y\":{\"field\":\"y\"}},\"id\":\"44081c19-a651-4d99-99d1-7c4414e1e6ca\",\"type\":\"Line\"},{\"attributes\":{\"children\":[{\"id\":\"eb47a275-5fe1-4a87-802c-f917b644b132\",\"type\":\"Row\"}]},\"id\":\"59f84640-8b1b-4f3d-923d-e2ea08cd46d2\",\"type\":\"Column\"},{\"attributes\":{\"data_source\":{\"id\":\"2317e3d6-c609-42a6-a270-c1142abbc98b\",\"type\":\"ColumnDataSource\"},\"glyph\":{\"id\":\"37614755-2d5c-4ec7-a1c5-05229c2e2786\",\"type\":\"Triangle\"},\"hover_glyph\":null,\"muted_glyph\":null,\"nonselection_glyph\":{\"id\":\"17cc8c34-6640-4f28-8336-88d2ddfd7d15\",\"type\":\"Triangle\"},\"selection_glyph\":null,\"view\":{\"id\":\"ec7cc773-5100-44a0-b3c1-3dd10c122c6f\",\"type\":\"CDSView\"}},\"id\":\"82368096-5104-4ca3-9022-7c0e06aec17b\",\"type\":\"GlyphRenderer\"},{\"attributes\":{\"data_source\":{\"id\":\"a42e03ef-9a79-43eb-8dfd-f63833dbfe00\",\"type\":\"ColumnDataSource\"},\"glyph\":{\"id\":\"44081c19-a651-4d99-99d1-7c4414e1e6ca\",\"type\":\"Line\"},\"hover_glyph\":null,\"muted_glyph\":null,\"nonselection_glyph\":{\"id\":\"6cf978e3-8080-4041-928a-7cfb22e32aee\",\"type\":\"Line\"},\"selection_glyph\":null,\"view\":{\"id\":\"34f2eefe-3c19-4ef8-bca8-f8788022e7b9\",\"type\":\"CDSView\"}},\"id\":\"bc1ff705-93e1-4795-98c9-ec119e0d5e6a\",\"type\":\"GlyphRenderer\"},{\"attributes\":{\"source\":{\"id\":\"a42e03ef-9a79-43eb-8dfd-f63833dbfe00\",\"type\":\"ColumnDataSource\"}},\"id\":\"34f2eefe-3c19-4ef8-bca8-f8788022e7b9\",\"type\":\"CDSView\"},{\"attributes\":{\"plot\":null,\"text\":\"\"},\"id\":\"bb3623af-b01e-430d-a38c-2b3aa248d4f3\",\"type\":\"Title\"},{\"attributes\":{\"children\":[{\"id\":\"d3d8c0b3-a0bd-4a5b-ab83-2c5162a63542\",\"subtype\":\"Figure\",\"type\":\"Plot\"},{\"id\":\"e02da45f-483c-4865-bbff-5f49562593bb\",\"subtype\":\"Figure\",\"type\":\"Plot\"}]},\"id\":\"eb47a275-5fe1-4a87-802c-f917b644b132\",\"type\":\"Row\"},{\"attributes\":{\"label\":{\"value\":\"CRD\"},\"renderers\":[{\"id\":\"f2b76dc1-2a99-4091-b0e3-a265adc9ce42\",\"type\":\"GlyphRenderer\"},{\"id\":\"5bdc0a78-d2a9-4de1-9e70-0cfda97d0c60\",\"type\":\"GlyphRenderer\"}]},\"id\":\"90ac24b6-3bca-43fb-a883-467e658c7f06\",\"type\":\"LegendItem\"},{\"attributes\":{\"bottom_units\":\"screen\",\"fill_alpha\":{\"value\":0.5},\"fill_color\":{\"value\":\"lightgrey\"},\"left_units\":\"screen\",\"level\":\"overlay\",\"line_alpha\":{\"value\":1.0},\"line_color\":{\"value\":\"black\"},\"line_dash\":[4,4],\"line_width\":{\"value\":2},\"plot\":null,\"render_mode\":\"css\",\"right_units\":\"screen\",\"top_units\":\"screen\"},\"id\":\"d12dd145-8cf1-41fe-997d-bd8bc6b13f25\",\"type\":\"BoxAnnotation\"},{\"attributes\":{},\"id\":\"4ad61148-8378-4de5-99c4-1cc3103426c1\",\"type\":\"BasicTickFormatter\"},{\"attributes\":{},\"id\":\"50dbb303-57d5-4d70-b9c3-99f502ebf3f5\",\"type\":\"Selection\"},{\"attributes\":{\"line_color\":\"#4daf4a\",\"line_width\":1.5,\"x\":{\"field\":\"x\"},\"y\":{\"field\":\"y\"}},\"id\":\"9cb21a74-3700-40ca-9203-634a9c0aa6b3\",\"type\":\"Line\"},{\"attributes\":{},\"id\":\"75317f29-73de-4aef-a7f7-c06ab3b2ae8b\",\"type\":\"HelpTool\"},{\"attributes\":{\"label\":{\"value\":\"WGT igg=1\"},\"renderers\":[{\"id\":\"a7c9861e-8c0e-49ba-a6b5-e88d7dcabd87\",\"type\":\"GlyphRenderer\"},{\"id\":\"8c2b38a7-0793-4fea-b62d-225ad295d444\",\"type\":\"GlyphRenderer\"}]},\"id\":\"fc940ab1-7044-4fa6-bd42-09419bfb9e0d\",\"type\":\"LegendItem\"},{\"attributes\":{\"source\":{\"id\":\"713f09d4-eb0c-40ae-8d3c-ede9ed84bee5\",\"type\":\"ColumnDataSource\"}},\"id\":\"b4ddf101-4c08-4ee6-8118-8b0cdcd227ec\",\"type\":\"CDSView\"},{\"attributes\":{\"label\":{\"value\":\"WGT igg=10\"},\"renderers\":[{\"id\":\"82368096-5104-4ca3-9022-7c0e06aec17b\",\"type\":\"GlyphRenderer\"},{\"id\":\"bc1ff705-93e1-4795-98c9-ec119e0d5e6a\",\"type\":\"GlyphRenderer\"}]},\"id\":\"bcda0bf1-6fcb-46f3-88e5-c2c90f605eef\",\"type\":\"LegendItem\"},{\"attributes\":{\"callback\":null,\"data\":{\"x\":{\"__ndarray__\":\"/92SqIiDhL6O+QSDSZWEvgFNmLXi34S+3lQgz8Iihb6XW/nt6FCFvh8wn5XEl4W+50cHzrvdhb5Yl7rNZxmGvruWSZ15WYa+vUL/2FiZhr6auvcRrtiGvodRHRi0GIe+19IFHhpYh74IYlkaQ5yHvpzsYQFjXoi+7ke8vBJFir7HCKyMjkuMvgp/NFxssIy+UvVp/biwib7n6zQM/luAvoZxOjzx5WA+uH/m/GPrlT4jFOBn3RyoPrLwW7qtdqk+m3cQRMv0nD6J5bODSz2DPqxnyUC9S2a+KyCn52nog77Ks6ZylHqLvlg4bANOXI++KnE37PqskL5U7oNDUzCRvtX8tk0atJG+aD7dkKiikr5YNiQaSg6UvkjE/ffuFpa+N1wzJmrPmL78Qb7y2+ibvleVJ/j3CJ++RSm2J1j8ob6A3QNbKIqvvgoD8UjKLMi+9FoiPEy13r5wGwOkHaTwvvlUtlGliP++ojWx5COOBr9PIYF+xY4Mv+R4EtwU6RC/wWO2tkxvEr8g2ErPSMkRvwDBCt/mGwu/aiWcZgrd7r4FvyFxIF0JP4G660U7JCM/R9vp0tr1Mj+3aEWCGiJAP9aY6KMDUkk/FQGgWwfGUz9RxyyB8LZdPzfu+KbVhmU/mICzItc+bj89nYS5MYJ0PyoHusMUT3s/wjgXwtPrgT98zvRKDfiGP074MHFnA40/rl7gGiEBkj/Jcad0sP6VP58B1FjrWZo/Kubey5YPnz/Co4OxYhGiP6jfha3ZyqQ/qXg4jhO3pz/iUHF86uGqPzAuvUwAPa4/\",\"dtype\":\"float64\",\"shape\":[75]},\"y\":{\"__ndarray__\":\"GhExyth1ND/Sv8nbtpRIP2vylNV0PVE/aTum7souWD/At0SJ8fVgPw3Iuahxymc/MSNhhJWvcD/bTfBN02d3P2zb5nxnaoA/CD5h5MAGhz8NmeH1TyaQP+zrCsc9p5Y/LbKd76fGnz/bLW5ISEmmPww9YvTcQq8/JV2OstnstT8Er5Y7M8G+P0c+r3jqkcU/5h99k6ZBzj88bCIzFzjVP4enV8oyxN0//yH99nXg5D8qOpLLf0jtP5kqGJXUifQ/c9cS8kHP/D+/DpwzojQEQIEmwoanVwxA4lgXt9HgE0BSSZ2AJuIbQAMJih9jjiNA5q4l5INuK0AwTKYKRj0zQNv5fmq8/DpAaCJseHrtQkB/+zpwzoxKQM3MzMzMeFJAZmZmZmZqWEAAAAAAAFxeQM3MzMzMJmJAmpmZmZkfZUBmZmZmZhhoQDMzMzMzEWtAAAAAAAAKbkBmZmZmZoFwQM3MzMzM/XFAMzMzMzN6c0CamZmZmfZ0QAAAAAAAc3ZAZmZmZmbvd0DNzMzMzGt5QDMzMzMz6HpAmpmZmZlkfEAAAAAAAOF9QGZmZmZmXX9AZmZmZuZsgECamZmZGSuBQM3MzMxM6YFAAAAAAICngkAzMzMzs2WDQGZmZmbmI4RAmpmZmRnihEDNzMzMTKCFQAAAAACAXoZAMzMzM7Mch0BmZmZm5tqHQJqZmZkZmYhAzczMzExXiUAAAAAAgBWKQDMzMzOz04pAZmZmZuaRi0CamZmZGVCMQM3MzMxMDo1AAAAAAIDMjUAzMzMzs4qOQGZmZmbmSI9A\",\"dtype\":\"float64\",\"shape\":[75]}},\"selected\":{\"id\":\"50dbb303-57d5-4d70-b9c3-99f502ebf3f5\",\"type\":\"Selection\"},\"selection_policy\":{\"id\":\"722446c6-42e2-44a9-9195-d52dc25ea6ba\",\"type\":\"UnionRenderers\"}},\"id\":\"4350d7af-467b-4063-9629-d84fbe251501\",\"type\":\"ColumnDataSource\"},{\"attributes\":{\"fill_alpha\":{\"value\":0.7},\"fill_color\":{\"value\":\"#984ea3\"},\"line_alpha\":{\"value\":0.7},\"line_color\":{\"value\":\"#984ea3\"},\"x\":{\"field\":\"x\"},\"y\":{\"field\":\"y\"}},\"id\":\"b636bc1b-6cfd-4164-a14f-789ffd53c350\",\"type\":\"Square\"},{\"attributes\":{\"callback\":null,\"data\":{\"x\":{\"__ndarray__\":\"/92SqIiDhL6O+QSDSZWEvgFNmLXi34S+3lQgz8Iihb6XW/nt6FCFvh8wn5XEl4W+50cHzrvdhb5Yl7rNZxmGvruWSZ15WYa+vUL/2FiZhr6auvcRrtiGvodRHRi0GIe+19IFHhpYh74IYlkaQ5yHvpzsYQFjXoi+7ke8vBJFir7HCKyMjkuMvgp/NFxssIy+UvVp/biwib7n6zQM/luAvoZxOjzx5WA+uH/m/GPrlT4jFOBn3RyoPrLwW7qtdqk+m3cQRMv0nD6J5bODSz2DPqxnyUC9S2a+KyCn52nog77Ks6ZylHqLvlg4bANOXI++KnE37PqskL5U7oNDUzCRvtX8tk0atJG+aD7dkKiikr5YNiQaSg6UvkjE/ffuFpa+N1wzJmrPmL78Qb7y2+ibvleVJ/j3CJ++RSm2J1j8ob6A3QNbKIqvvgoD8UjKLMi+9FoiPEy13r5wGwOkHaTwvvlUtlGliP++ojWx5COOBr9PIYF+xY4Mv+R4EtwU6RC/wWO2tkxvEr8g2ErPSMkRvwDBCt/mGwu/aiWcZgrd7r4FvyFxIF0JP4G660U7JCM/R9vp0tr1Mj+3aEWCGiJAP9aY6KMDUkk/FQGgWwfGUz9RxyyB8LZdPzfu+KbVhmU/mICzItc+bj89nYS5MYJ0PyoHusMUT3s/wjgXwtPrgT98zvRKDfiGP074MHFnA40/rl7gGiEBkj/Jcad0sP6VP58B1FjrWZo/Kubey5YPnz/Co4OxYhGiP6jfha3ZyqQ/qXg4jhO3pz/iUHF86uGqPzAuvUwAPa4/\",\"dtype\":\"float64\",\"shape\":[75]},\"y\":{\"__ndarray__\":\"GhExyth1ND/Sv8nbtpRIP2vylNV0PVE/aTum7souWD/At0SJ8fVgPw3Iuahxymc/MSNhhJWvcD/bTfBN02d3P2zb5nxnaoA/CD5h5MAGhz8NmeH1TyaQP+zrCsc9p5Y/LbKd76fGnz/bLW5ISEmmPww9YvTcQq8/JV2OstnstT8Er5Y7M8G+P0c+r3jqkcU/5h99k6ZBzj88bCIzFzjVP4enV8oyxN0//yH99nXg5D8qOpLLf0jtP5kqGJXUifQ/c9cS8kHP/D+/DpwzojQEQIEmwoanVwxA4lgXt9HgE0BSSZ2AJuIbQAMJih9jjiNA5q4l5INuK0AwTKYKRj0zQNv5fmq8/DpAaCJseHrtQkB/+zpwzoxKQM3MzMzMeFJAZmZmZmZqWEAAAAAAAFxeQM3MzMzMJmJAmpmZmZkfZUBmZmZmZhhoQDMzMzMzEWtAAAAAAAAKbkBmZmZmZoFwQM3MzMzM/XFAMzMzMzN6c0CamZmZmfZ0QAAAAAAAc3ZAZmZmZmbvd0DNzMzMzGt5QDMzMzMz6HpAmpmZmZlkfEAAAAAAAOF9QGZmZmZmXX9AZmZmZuZsgECamZmZGSuBQM3MzMxM6YFAAAAAAICngkAzMzMzs2WDQGZmZmbmI4RAmpmZmRnihEDNzMzMTKCFQAAAAACAXoZAMzMzM7Mch0BmZmZm5tqHQJqZmZkZmYhAzczMzExXiUAAAAAAgBWKQDMzMzOz04pAZmZmZuaRi0CamZmZGVCMQM3MzMxMDo1AAAAAAIDMjUAzMzMzs4qOQGZmZmbmSI9A\",\"dtype\":\"float64\",\"shape\":[75]}},\"selected\":{\"id\":\"ee40fa8f-bc46-4fec-b277-dd00dce6f531\",\"type\":\"Selection\"},\"selection_policy\":{\"id\":\"35cd2c38-5d6e-4696-921f-07b739c0136c\",\"type\":\"UnionRenderers\"}},\"id\":\"a5233066-9775-473d-b4f9-54cfd8b42571\",\"type\":\"ColumnDataSource\"},{\"attributes\":{\"fill_alpha\":{\"value\":0.1},\"fill_color\":{\"value\":\"#1f77b4\"},\"line_alpha\":{\"value\":0.1},\"line_color\":{\"value\":\"#1f77b4\"},\"x\":{\"field\":\"x\"},\"y\":{\"field\":\"y\"}},\"id\":\"b73afce7-5066-42cf-8ada-822e400d93c3\",\"type\":\"Square\"},{\"attributes\":{\"data_source\":{\"id\":\"dcb85b44-1b5a-4d82-a83e-8b31357869ed\",\"type\":\"ColumnDataSource\"},\"glyph\":{\"id\":\"1437c927-fe33-4869-b8b9-9177749a6ad6\",\"type\":\"Triangle\"},\"hover_glyph\":null,\"muted_glyph\":null,\"nonselection_glyph\":{\"id\":\"21e87095-fa91-4049-b6b5-b91cc9929efb\",\"type\":\"Triangle\"},\"selection_glyph\":null,\"view\":{\"id\":\"1a27f23e-c1d1-4134-b7a3-3574e248177a\",\"type\":\"CDSView\"}},\"id\":\"19c588f6-a0a3-46b9-b557-5c6fcc18cdae\",\"type\":\"GlyphRenderer\"},{\"attributes\":{\"fill_alpha\":{\"value\":0.1},\"fill_color\":{\"value\":\"#1f77b4\"},\"line_alpha\":{\"value\":0.1},\"line_color\":{\"value\":\"#1f77b4\"},\"x\":{\"field\":\"x\"},\"y\":{\"field\":\"y\"}},\"id\":\"21e87095-fa91-4049-b6b5-b91cc9929efb\",\"type\":\"Triangle\"},{\"attributes\":{\"line_alpha\":0.1,\"line_color\":\"#1f77b4\",\"line_width\":2,\"x\":{\"field\":\"x\"},\"y\":{\"field\":\"y\"}},\"id\":\"2250d3f8-49cc-4d8c-9217-5ea04b34c0e0\",\"type\":\"Line\"},{\"attributes\":{\"callback\":null,\"data\":{\"x\":{\"__ndarray__\":\"8w3a5FO/gr5ExtEOktKCvnBtUqlTD4O+fGQNP5U/g74IppjZqH6Dvlw22zpNuYO+68hdeLnxg74F+FIxJy2EvlfbtK6SaYS+dyLO51ejhL7M0ux459yEvjVW/vc1GIW+ga9/TOJRhb4YOtWL7ZCFvpgye+bAQ4a+v+yk0xIEiL6/3ir0IOiJvrdPd/uPVYq+ADpq3r+1h77eF4u9i8B+vhothaLg7lg+6ebORhFnkz6Y6e35ZpGlPmrGVc9lyaY+jGKFoLa+mT4WrSWwCZ+APizjU6423ma+M+SU2ieXgr7a39Zwd12Jvltnsoim0Yy+SMhqjdmSjr7SCAaycXePvnMTJ3OrMJC+AWPHWZUIkb4mBicFI1OSvjpXYclPLZS+f5b09seolr6TuDKFaX2ZvkJEhXwtWJy+c6ZIAoBtoL5Ot6QvXtGsvkwwAuWpGsa+kpZyR5Ma3L7DRU5DuX7uvrlXCc257/y+tYOVWSG9BL/9qcuDtVQKv5bdiXHtTw+/IfDDmHouEb/s8BY4aMkQv7IvptbMaQq/YRtOoSjn8r53SQBSddMDPxT69ZocVSA/ELnuLwuMMD8fz0UGN3E8P6QdOoFrcEY/UZkX7oCVUT9+vbIyqX9aP4GwdgRON2M/cNUwHWUGaz+2V73Ax4ByP8TjZBsmxXg/rNje9TlBgD+id13RQ/OEP2twN5UAjYo/Tab4YmmMkD+0ZIstz0aUP80pXOp7aJg/RDDoZnrnnD99XM+bgOKgPz8JaRYzhaM/PZNbZTZgpj9Btiem3XipP0nawjC2yaw/\",\"dtype\":\"float64\",\"shape\":[75]},\"y\":{\"__ndarray__\":\"GhExyth1ND/Sv8nbtpRIP2vylNV0PVE/aTum7souWD/At0SJ8fVgPw3Iuahxymc/MSNhhJWvcD/bTfBN02d3P2zb5nxnaoA/CD5h5MAGhz8NmeH1TyaQP+zrCsc9p5Y/LbKd76fGnz/bLW5ISEmmPww9YvTcQq8/JV2OstnstT8Er5Y7M8G+P0c+r3jqkcU/5h99k6ZBzj88bCIzFzjVP4enV8oyxN0//yH99nXg5D8qOpLLf0jtP5kqGJXUifQ/c9cS8kHP/D+/DpwzojQEQIEmwoanVwxA4lgXt9HgE0BSSZ2AJuIbQAMJih9jjiNA5q4l5INuK0AwTKYKRj0zQNv5fmq8/DpAaCJseHrtQkB/+zpwzoxKQM3MzMzMeFJAZmZmZmZqWEAAAAAAAFxeQM3MzMzMJmJAmpmZmZkfZUBmZmZmZhhoQDMzMzMzEWtAAAAAAAAKbkBmZmZmZoFwQM3MzMzM/XFAMzMzMzN6c0CamZmZmfZ0QAAAAAAAc3ZAZmZmZmbvd0DNzMzMzGt5QDMzMzMz6HpAmpmZmZlkfEAAAAAAAOF9QGZmZmZmXX9AZmZmZuZsgECamZmZGSuBQM3MzMxM6YFAAAAAAICngkAzMzMzs2WDQGZmZmbmI4RAmpmZmRnihEDNzMzMTKCFQAAAAACAXoZAMzMzM7Mch0BmZmZm5tqHQJqZmZkZmYhAzczMzExXiUAAAAAAgBWKQDMzMzOz04pAZmZmZuaRi0CamZmZGVCMQM3MzMxMDo1AAAAAAIDMjUAzMzMzs4qOQGZmZmbmSI9A\",\"dtype\":\"float64\",\"shape\":[75]}},\"selected\":{\"id\":\"d23949ac-ebb5-4483-925e-b5e00a2d14b5\",\"type\":\"Selection\"},\"selection_policy\":{\"id\":\"a7d1f339-468d-4e09-a6d1-b65c402c03f6\",\"type\":\"UnionRenderers\"}},\"id\":\"dcb85b44-1b5a-4d82-a83e-8b31357869ed\",\"type\":\"ColumnDataSource\"},{\"attributes\":{\"line_alpha\":0.1,\"line_color\":\"#1f77b4\",\"line_width\":3,\"x\":{\"field\":\"x\"},\"y\":{\"field\":\"y\"}},\"id\":\"5a459ca5-f8f6-4a76-bd84-08362a326612\",\"type\":\"Line\"},{\"attributes\":{\"source\":{\"id\":\"dcb85b44-1b5a-4d82-a83e-8b31357869ed\",\"type\":\"ColumnDataSource\"}},\"id\":\"1a27f23e-c1d1-4134-b7a3-3574e248177a\",\"type\":\"CDSView\"},{\"attributes\":{\"data_source\":{\"id\":\"4350d7af-467b-4063-9629-d84fbe251501\",\"type\":\"ColumnDataSource\"},\"glyph\":{\"id\":\"a4dea988-1cf9-407b-8300-d315b78f01a8\",\"type\":\"Line\"},\"hover_glyph\":null,\"muted_glyph\":null,\"nonselection_glyph\":{\"id\":\"5a459ca5-f8f6-4a76-bd84-08362a326612\",\"type\":\"Line\"},\"selection_glyph\":null,\"view\":{\"id\":\"bb93fe65-36ba-4aa1-9ac2-91ff328dff51\",\"type\":\"CDSView\"}},\"id\":\"63f0f3c7-f450-4410-87ea-e4f72b2d2afb\",\"type\":\"GlyphRenderer\"},{\"attributes\":{\"source\":{\"id\":\"4350d7af-467b-4063-9629-d84fbe251501\",\"type\":\"ColumnDataSource\"}},\"id\":\"bb93fe65-36ba-4aa1-9ac2-91ff328dff51\",\"type\":\"CDSView\"},{\"attributes\":{\"data_source\":{\"id\":\"a5233066-9775-473d-b4f9-54cfd8b42571\",\"type\":\"ColumnDataSource\"},\"glyph\":{\"id\":\"b636bc1b-6cfd-4164-a14f-789ffd53c350\",\"type\":\"Square\"},\"hover_glyph\":null,\"muted_glyph\":null,\"nonselection_glyph\":{\"id\":\"b73afce7-5066-42cf-8ada-822e400d93c3\",\"type\":\"Square\"},\"selection_glyph\":null,\"view\":{\"id\":\"d8eb4828-fa4f-4e67-96ca-0dcf11b9ce6c\",\"type\":\"CDSView\"}},\"id\":\"0fef6f70-031c-4146-a523-17c57536033b\",\"type\":\"GlyphRenderer\"},{\"attributes\":{},\"id\":\"74deff09-831c-495f-933e-69cf0762be7b\",\"type\":\"BasicTicker\"},{\"attributes\":{\"above\":[{\"id\":\"b474e2b1-4851-49e3-a989-494b89d3ab84\",\"type\":\"Legend\"}],\"below\":[{\"id\":\"0389a947-1d8d-4bdf-8b4d-bba26e1374c8\",\"type\":\"LinearAxis\"}],\"left\":[{\"id\":\"29017d47-03d7-461f-8260-377aec04224d\",\"type\":\"LogAxis\"}],\"plot_height\":500,\"plot_width\":400,\"renderers\":[{\"id\":\"0389a947-1d8d-4bdf-8b4d-bba26e1374c8\",\"type\":\"LinearAxis\"},{\"id\":\"eb6313ef-e1fb-42cf-b941-3c5387b64270\",\"type\":\"Grid\"},{\"id\":\"29017d47-03d7-461f-8260-377aec04224d\",\"type\":\"LogAxis\"},{\"id\":\"87a789c2-305e-4998-b868-a59f9a6c92ff\",\"type\":\"Grid\"},{\"id\":\"34789248-7078-4984-92a7-5f20adc2a86a\",\"type\":\"BoxAnnotation\"},{\"id\":\"f2b76dc1-2a99-4091-b0e3-a265adc9ce42\",\"type\":\"GlyphRenderer\"},{\"id\":\"5bdc0a78-d2a9-4de1-9e70-0cfda97d0c60\",\"type\":\"GlyphRenderer\"},{\"id\":\"a7c9861e-8c0e-49ba-a6b5-e88d7dcabd87\",\"type\":\"GlyphRenderer\"},{\"id\":\"8c2b38a7-0793-4fea-b62d-225ad295d444\",\"type\":\"GlyphRenderer\"},{\"id\":\"82368096-5104-4ca3-9022-7c0e06aec17b\",\"type\":\"GlyphRenderer\"},{\"id\":\"bc1ff705-93e1-4795-98c9-ec119e0d5e6a\",\"type\":\"GlyphRenderer\"},{\"id\":\"b474e2b1-4851-49e3-a989-494b89d3ab84\",\"type\":\"Legend\"}],\"title\":{\"id\":\"f2847094-cefa-4df5-b700-bf0598b4c3df\",\"type\":\"Title\"},\"toolbar\":{\"id\":\"953eb962-996a-470f-9838-ee1cb1f00463\",\"type\":\"Toolbar\"},\"toolbar_location\":null,\"x_range\":{\"id\":\"480627a4-69a0-418b-9f8c-4acd951ea817\",\"type\":\"Range1d\"},\"x_scale\":{\"id\":\"e6266eaa-ba5f-4678-b151-297184a0f30b\",\"type\":\"LinearScale\"},\"y_range\":{\"id\":\"111bd3d0-254b-435f-8605-90a648c14b08\",\"type\":\"Range1d\"},\"y_scale\":{\"id\":\"31ff4775-b941-4941-a8a0-54ce1236c63b\",\"type\":\"LogScale\"}},\"id\":\"e02da45f-483c-4865-bbff-5f49562593bb\",\"subtype\":\"Figure\",\"type\":\"Plot\"},{\"attributes\":{\"callback\":null,\"end\":0.059650446750450004,\"start\":-0.00066161779545},\"id\":\"fb8861ee-ce2e-423c-8a97-4278fb60ad68\",\"type\":\"Range1d\"},{\"attributes\":{\"source\":{\"id\":\"a5233066-9775-473d-b4f9-54cfd8b42571\",\"type\":\"ColumnDataSource\"}},\"id\":\"d8eb4828-fa4f-4e67-96ca-0dcf11b9ce6c\",\"type\":\"CDSView\"},{\"attributes\":{\"axis_label\":\"cooling rate [K/day]\",\"formatter\":{\"id\":\"4ad61148-8378-4de5-99c4-1cc3103426c1\",\"type\":\"BasicTickFormatter\"},\"plot\":{\"id\":\"d3d8c0b3-a0bd-4a5b-ab83-2c5162a63542\",\"subtype\":\"Figure\",\"type\":\"Plot\"},\"ticker\":{\"id\":\"74deff09-831c-495f-933e-69cf0762be7b\",\"type\":\"BasicTicker\"}},\"id\":\"876f5a06-f1a4-487d-82f3-69db623638b5\",\"type\":\"LinearAxis\"},{\"attributes\":{\"source\":{\"id\":\"162cb615-e06d-49c2-9038-6f7c093c32c5\",\"type\":\"ColumnDataSource\"}},\"id\":\"debc1d91-1181-4547-bceb-ceb041a5c309\",\"type\":\"CDSView\"},{\"attributes\":{\"line_alpha\":0.3,\"line_color\":\"#377eb8\",\"line_width\":2,\"x\":{\"field\":\"x\"},\"y\":{\"field\":\"y\"}},\"id\":\"1c8822d5-b6bf-44aa-9963-04bd48edac3b\",\"type\":\"Line\"},{\"attributes\":{\"source\":{\"id\":\"0730b200-3233-46d5-b96e-8a391f8fe275\",\"type\":\"ColumnDataSource\"}},\"id\":\"192a569b-a9e6-4b88-8c7c-6e3628440b85\",\"type\":\"CDSView\"},{\"attributes\":{\"data_source\":{\"id\":\"162cb615-e06d-49c2-9038-6f7c093c32c5\",\"type\":\"ColumnDataSource\"},\"glyph\":{\"id\":\"9cb21a74-3700-40ca-9203-634a9c0aa6b3\",\"type\":\"Line\"},\"hover_glyph\":null,\"muted_glyph\":null,\"nonselection_glyph\":{\"id\":\"5cb89125-9631-445b-a5ae-a4dc9ae1bc0e\",\"type\":\"Line\"},\"selection_glyph\":null,\"view\":{\"id\":\"debc1d91-1181-4547-bceb-ceb041a5c309\",\"type\":\"CDSView\"}},\"id\":\"79929e3a-9099-4b33-902c-9f5d28c9e84b\",\"type\":\"GlyphRenderer\"},{\"attributes\":{\"callback\":null,\"data\":{\"x\":{\"__ndarray__\":\"8w3a5FO/gr5ExtEOktKCvnBtUqlTD4O+fGQNP5U/g74IppjZqH6Dvlw22zpNuYO+68hdeLnxg74F+FIxJy2EvlfbtK6SaYS+dyLO51ejhL7M0ux459yEvjVW/vc1GIW+ga9/TOJRhb4YOtWL7ZCFvpgye+bAQ4a+v+yk0xIEiL6/3ir0IOiJvrdPd/uPVYq+ADpq3r+1h77eF4u9i8B+vhothaLg7lg+6ebORhFnkz6Y6e35ZpGlPmrGVc9lyaY+jGKFoLa+mT4WrSWwCZ+APizjU6423ma+M+SU2ieXgr7a39Zwd12Jvltnsoim0Yy+SMhqjdmSjr7SCAaycXePvnMTJ3OrMJC+AWPHWZUIkb4mBicFI1OSvjpXYclPLZS+f5b09seolr6TuDKFaX2ZvkJEhXwtWJy+c6ZIAoBtoL5Ot6QvXtGsvkwwAuWpGsa+kpZyR5Ma3L7DRU5DuX7uvrlXCc257/y+tYOVWSG9BL/9qcuDtVQKv5bdiXHtTw+/IfDDmHouEb/s8BY4aMkQv7IvptbMaQq/YRtOoSjn8r53SQBSddMDPxT69ZocVSA/ELnuLwuMMD8fz0UGN3E8P6QdOoFrcEY/UZkX7oCVUT9+vbIyqX9aP4GwdgRON2M/cNUwHWUGaz+2V73Ax4ByP8TjZBsmxXg/rNje9TlBgD+id13RQ/OEP2twN5UAjYo/Tab4YmmMkD+0ZIstz0aUP80pXOp7aJg/RDDoZnrnnD99XM+bgOKgPz8JaRYzhaM/PZNbZTZgpj9Btiem3XipP0nawjC2yaw/\",\"dtype\":\"float64\",\"shape\":[75]},\"y\":{\"__ndarray__\":\"GhExyth1ND/Sv8nbtpRIP2vylNV0PVE/aTum7souWD/At0SJ8fVgPw3Iuahxymc/MSNhhJWvcD/bTfBN02d3P2zb5nxnaoA/CD5h5MAGhz8NmeH1TyaQP+zrCsc9p5Y/LbKd76fGnz/bLW5ISEmmPww9YvTcQq8/JV2OstnstT8Er5Y7M8G+P0c+r3jqkcU/5h99k6ZBzj88bCIzFzjVP4enV8oyxN0//yH99nXg5D8qOpLLf0jtP5kqGJXUifQ/c9cS8kHP/D+/DpwzojQEQIEmwoanVwxA4lgXt9HgE0BSSZ2AJuIbQAMJih9jjiNA5q4l5INuK0AwTKYKRj0zQNv5fmq8/DpAaCJseHrtQkB/+zpwzoxKQM3MzMzMeFJAZmZmZmZqWEAAAAAAAFxeQM3MzMzMJmJAmpmZmZkfZUBmZmZmZhhoQDMzMzMzEWtAAAAAAAAKbkBmZmZmZoFwQM3MzMzM/XFAMzMzMzN6c0CamZmZmfZ0QAAAAAAAc3ZAZmZmZmbvd0DNzMzMzGt5QDMzMzMz6HpAmpmZmZlkfEAAAAAAAOF9QGZmZmZmXX9AZmZmZuZsgECamZmZGSuBQM3MzMxM6YFAAAAAAICngkAzMzMzs2WDQGZmZmbmI4RAmpmZmRnihEDNzMzMTKCFQAAAAACAXoZAMzMzM7Mch0BmZmZm5tqHQJqZmZkZmYhAzczMzExXiUAAAAAAgBWKQDMzMzOz04pAZmZmZuaRi0CamZmZGVCMQM3MzMxMDo1AAAAAAIDMjUAzMzMzs4qOQGZmZmbmSI9A\",\"dtype\":\"float64\",\"shape\":[75]}},\"selected\":{\"id\":\"bc0b7c6a-a346-496b-8c35-75c91b82d8f8\",\"type\":\"Selection\"},\"selection_policy\":{\"id\":\"13e95f02-ca05-4b96-ae26-9a911f753adc\",\"type\":\"UnionRenderers\"}},\"id\":\"0730b200-3233-46d5-b96e-8a391f8fe275\",\"type\":\"ColumnDataSource\"},{\"attributes\":{\"fill_alpha\":{\"value\":0.7},\"fill_color\":{\"value\":\"#377eb8\"},\"line_alpha\":{\"value\":0.7},\"line_color\":{\"value\":\"#377eb8\"},\"x\":{\"field\":\"x\"},\"y\":{\"field\":\"y\"}},\"id\":\"1437c927-fe33-4869-b8b9-9177749a6ad6\",\"type\":\"Triangle\"},{\"attributes\":{\"line_alpha\":0.6,\"line_color\":\"#984ea3\",\"line_width\":3,\"x\":{\"field\":\"x\"},\"y\":{\"field\":\"y\"}},\"id\":\"a4dea988-1cf9-407b-8300-d315b78f01a8\",\"type\":\"Line\"},{\"attributes\":{\"data_source\":{\"id\":\"0730b200-3233-46d5-b96e-8a391f8fe275\",\"type\":\"ColumnDataSource\"},\"glyph\":{\"id\":\"1c8822d5-b6bf-44aa-9963-04bd48edac3b\",\"type\":\"Line\"},\"hover_glyph\":null,\"muted_glyph\":null,\"nonselection_glyph\":{\"id\":\"2250d3f8-49cc-4d8c-9217-5ea04b34c0e0\",\"type\":\"Line\"},\"selection_glyph\":null,\"view\":{\"id\":\"192a569b-a9e6-4b88-8c7c-6e3628440b85\",\"type\":\"CDSView\"}},\"id\":\"3fbb5757-bdf8-43aa-93f9-7ce2bbfef6dd\",\"type\":\"GlyphRenderer\"},{\"attributes\":{\"active_drag\":\"auto\",\"active_inspect\":\"auto\",\"active_scroll\":\"auto\",\"active_tap\":\"auto\",\"tools\":[{\"id\":\"f4f5cdab-d749-433d-baa2-38a821d2a9aa\",\"type\":\"PanTool\"},{\"id\":\"267cb481-1419-4ba0-bcef-96bdc2784452\",\"type\":\"WheelZoomTool\"},{\"id\":\"7603add9-be1f-4286-85da-d4b70375b6ce\",\"type\":\"BoxZoomTool\"},{\"id\":\"5c5884ce-4614-4f11-a15d-1c3f323091a3\",\"type\":\"SaveTool\"},{\"id\":\"92409e9b-99eb-40a1-b2f0-edc4357d7231\",\"type\":\"ResetTool\"},{\"id\":\"960f82d7-4217-4058-a1f2-0f2610f8c29b\",\"type\":\"HelpTool\"}]},\"id\":\"953eb962-996a-470f-9838-ee1cb1f00463\",\"type\":\"Toolbar\"},{\"attributes\":{\"active_drag\":\"auto\",\"active_inspect\":\"auto\",\"active_scroll\":\"auto\",\"active_tap\":\"auto\",\"tools\":[{\"id\":\"07483e8f-512b-4717-bf0d-2069e8f09609\",\"type\":\"PanTool\"},{\"id\":\"7812da32-4ef1-412c-9453-897b7dfbf780\",\"type\":\"WheelZoomTool\"},{\"id\":\"809b60e6-9205-41a5-aab1-36610b4d5d8c\",\"type\":\"BoxZoomTool\"},{\"id\":\"81d568a1-f02d-40d9-a403-9705f54ea1f4\",\"type\":\"SaveTool\"},{\"id\":\"9f3aeca4-aa62-440a-b78b-80bdf90f2cad\",\"type\":\"ResetTool\"},{\"id\":\"75317f29-73de-4aef-a7f7-c06ab3b2ae8b\",\"type\":\"HelpTool\"}]},\"id\":\"16803861-75d3-44af-9750-f58fbad311d6\",\"type\":\"Toolbar\"},{\"attributes\":{\"label\":{\"value\":\"CRD\"},\"renderers\":[{\"id\":\"7b839c2c-8ccc-41e0-a040-7446402ee8f3\",\"type\":\"GlyphRenderer\"},{\"id\":\"79929e3a-9099-4b33-902c-9f5d28c9e84b\",\"type\":\"GlyphRenderer\"}]},\"id\":\"e557a377-eef2-4a99-8c45-5b982e6eb0ec\",\"type\":\"LegendItem\"},{\"attributes\":{\"callback\":null,\"end\":9.3684166e-07,\"start\":-1.02539966e-06},\"id\":\"480627a4-69a0-418b-9f8c-4acd951ea817\",\"type\":\"Range1d\"},{\"attributes\":{\"label\":{\"value\":\"WGT igg=1\"},\"renderers\":[{\"id\":\"0fef6f70-031c-4146-a523-17c57536033b\",\"type\":\"GlyphRenderer\"},{\"id\":\"63f0f3c7-f450-4410-87ea-e4f72b2d2afb\",\"type\":\"GlyphRenderer\"}]},\"id\":\"a6105eea-bdd2-4af8-a6c8-d5e161e1f175\",\"type\":\"LegendItem\"},{\"attributes\":{},\"id\":\"e6266eaa-ba5f-4678-b151-297184a0f30b\",\"type\":\"LinearScale\"},{\"attributes\":{\"label\":{\"value\":\"WGT igg=10\"},\"renderers\":[{\"id\":\"19c588f6-a0a3-46b9-b557-5c6fcc18cdae\",\"type\":\"GlyphRenderer\"},{\"id\":\"3fbb5757-bdf8-43aa-93f9-7ce2bbfef6dd\",\"type\":\"GlyphRenderer\"}]},\"id\":\"830064fd-1555-4ade-b359-5c561bdc69ce\",\"type\":\"LegendItem\"},{\"attributes\":{\"bottom_units\":\"screen\",\"fill_alpha\":{\"value\":0.5},\"fill_color\":{\"value\":\"lightgrey\"},\"left_units\":\"screen\",\"level\":\"overlay\",\"line_alpha\":{\"value\":1.0},\"line_color\":{\"value\":\"black\"},\"line_dash\":[4,4],\"line_width\":{\"value\":2},\"plot\":null,\"render_mode\":\"css\",\"right_units\":\"screen\",\"top_units\":\"screen\"},\"id\":\"34789248-7078-4984-92a7-5f20adc2a86a\",\"type\":\"BoxAnnotation\"},{\"attributes\":{\"items\":[{\"id\":\"90ac24b6-3bca-43fb-a883-467e658c7f06\",\"type\":\"LegendItem\"},{\"id\":\"fc940ab1-7044-4fa6-bd42-09419bfb9e0d\",\"type\":\"LegendItem\"},{\"id\":\"bcda0bf1-6fcb-46f3-88e5-c2c90f605eef\",\"type\":\"LegendItem\"}],\"label_text_font_size\":{\"value\":\"8pt\"},\"location\":\"top_center\",\"orientation\":\"horizontal\",\"plot\":{\"id\":\"e02da45f-483c-4865-bbff-5f49562593bb\",\"subtype\":\"Figure\",\"type\":\"Plot\"}},\"id\":\"b474e2b1-4851-49e3-a989-494b89d3ab84\",\"type\":\"Legend\"},{\"attributes\":{},\"id\":\"267cb481-1419-4ba0-bcef-96bdc2784452\",\"type\":\"WheelZoomTool\"},{\"attributes\":{},\"id\":\"31ff4775-b941-4941-a8a0-54ce1236c63b\",\"type\":\"LogScale\"},{\"attributes\":{\"axis_label\":\"cooling rate [K/day]\",\"formatter\":{\"id\":\"599936f0-9ed5-43f3-9934-fd0fc463a2e7\",\"type\":\"BasicTickFormatter\"},\"plot\":{\"id\":\"e02da45f-483c-4865-bbff-5f49562593bb\",\"subtype\":\"Figure\",\"type\":\"Plot\"},\"ticker\":{\"id\":\"2a1a6937-9b7a-4414-bd36-3139d452d9e7\",\"type\":\"BasicTicker\"}},\"id\":\"0389a947-1d8d-4bdf-8b4d-bba26e1374c8\",\"type\":\"LinearAxis\"},{\"attributes\":{},\"id\":\"2a1a6937-9b7a-4414-bd36-3139d452d9e7\",\"type\":\"BasicTicker\"},{\"attributes\":{\"overlay\":{\"id\":\"34789248-7078-4984-92a7-5f20adc2a86a\",\"type\":\"BoxAnnotation\"}},\"id\":\"7603add9-be1f-4286-85da-d4b70375b6ce\",\"type\":\"BoxZoomTool\"},{\"attributes\":{},\"id\":\"5c5884ce-4614-4f11-a15d-1c3f323091a3\",\"type\":\"SaveTool\"},{\"attributes\":{},\"id\":\"92409e9b-99eb-40a1-b2f0-edc4357d7231\",\"type\":\"ResetTool\"},{\"attributes\":{},\"id\":\"960f82d7-4217-4058-a1f2-0f2610f8c29b\",\"type\":\"HelpTool\"},{\"attributes\":{},\"id\":\"a7d1f339-468d-4e09-a6d1-b65c402c03f6\",\"type\":\"UnionRenderers\"},{\"attributes\":{\"fill_alpha\":{\"value\":0.7},\"fill_color\":{\"value\":\"#4daf4a\"},\"line_alpha\":{\"value\":0.7},\"line_color\":{\"value\":\"#4daf4a\"},\"x\":{\"field\":\"x\"},\"y\":{\"field\":\"y\"}},\"id\":\"767cc468-1e93-403e-b187-cf7a63b6fac0\",\"type\":\"Circle\"},{\"attributes\":{},\"id\":\"be219efa-7ef7-41f3-843a-352a4d1eed22\",\"type\":\"LinearScale\"},{\"attributes\":{\"plot\":{\"id\":\"d3d8c0b3-a0bd-4a5b-ab83-2c5162a63542\",\"subtype\":\"Figure\",\"type\":\"Plot\"},\"ticker\":{\"id\":\"74deff09-831c-495f-933e-69cf0762be7b\",\"type\":\"BasicTicker\"}},\"id\":\"d7cbd070-70b3-4cc0-ad66-5d1329fb2dc1\",\"type\":\"Grid\"},{\"attributes\":{\"callback\":null,\"data\":{\"x\":{\"__ndarray__\":\"ZuF1/slChr4Eoa/B1SaGvsm9Fefpnoa+m0cxqgfvhr46EEZmtO2Gvrn/P14gUIe+W8Qp92iTh75TtonbFNqHvryU7ANpB4i++fjPtYxOiL4IZNudMIqIvj/xbcKZzYi+e3DqvewIib4b/yS/wk2Jvk3kc5kzCoq+dKuYHNXVi76XU8ceRoiNvhzu4jOlP42+P0Ykr8T8iL4kQuRUX916vt2oNg7d3nU+NBdBUixnnD6d7kfeY0GtPlwoD4koyq4+C5rNsjs8oj7rT7Txy22MPm2vx0D7Uy6+CX8GP7h5gb5OqrAAt7SKvrVn0hOlo4++ebyEVd8rkb7VYmi4Yu6RvsxDsoOonZK+PlEw89exk77VCXRp8EiVvoGA8OeMh5e+ybkybGF9mr7Rx8nxR9edvuj2GyTQnKC+rSXY3+1Eo77AY4TRbuGwvj9cnvdAz8m+RHWqYhxV4L56x58QU57xvsHbPh0vlwC/88c+65KJB7+ebnzuf3QNv1H1OyaWIxG/LYO8VIYmEr91Qi5Ug4sQvy8lelpdcwW/lwCbNb+k1D74DyjqNgYVP6ZpKV7UaSk/GXWqTuB8Nz8nHQ/+FEZDP7X2qkHIiU0/1BgpIuenVj8FS5TFzcVgP8VA+ahv82c/CYm1smSZcD9SCgrgfml2PzgLcENJln0/ReKEmyolgz8DiA7DP1OIPwf4/p4JYY4//wNbDrymkj+f1rvfa3+WP5tMW6pypJo/+v1lbvMDnz8Vo4um48yhP/qcEV7oNaQ/K9++BCrApj8Br/dkw2+pP1GGqphKP6w/\",\"dtype\":\"float64\",\"shape\":[75]},\"y\":{\"__ndarray__\":\"GhExyth1ND/Sv8nbtpRIP2vylNV0PVE/aTum7souWD/At0SJ8fVgPw3Iuahxymc/MSNhhJWvcD/bTfBN02d3P2zb5nxnaoA/CD5h5MAGhz8NmeH1TyaQP+zrCsc9p5Y/LbKd76fGnz/bLW5ISEmmPww9YvTcQq8/JV2OstnstT8Er5Y7M8G+P0c+r3jqkcU/5h99k6ZBzj88bCIzFzjVP4enV8oyxN0//yH99nXg5D8qOpLLf0jtP5kqGJXUifQ/c9cS8kHP/D+/DpwzojQEQIEmwoanVwxA4lgXt9HgE0BSSZ2AJuIbQAMJih9jjiNA5q4l5INuK0AwTKYKRj0zQNv5fmq8/DpAaCJseHrtQkB/+zpwzoxKQM3MzMzMeFJAZmZmZmZqWEAAAAAAAFxeQM3MzMzMJmJAmpmZmZkfZUBmZmZmZhhoQDMzMzMzEWtAAAAAAAAKbkBmZmZmZoFwQM3MzMzM/XFAMzMzMzN6c0CamZmZmfZ0QAAAAAAAc3ZAZmZmZmbvd0DNzMzMzGt5QDMzMzMz6HpAmpmZmZlkfEAAAAAAAOF9QGZmZmZmXX9AZmZmZuZsgECamZmZGSuBQM3MzMxM6YFAAAAAAICngkAzMzMzs2WDQGZmZmbmI4RAmpmZmRnihEDNzMzMTKCFQAAAAACAXoZAMzMzM7Mch0BmZmZm5tqHQJqZmZkZmYhAzczMzExXiUAAAAAAgBWKQDMzMzOz04pAZmZmZuaRi0CamZmZGVCMQM3MzMxMDo1AAAAAAIDMjUAzMzMzs4qOQGZmZmbmSI9A\",\"dtype\":\"float64\",\"shape\":[75]}},\"selected\":{\"id\":\"8e169ab8-dc73-4025-9b03-fea184285da0\",\"type\":\"Selection\"},\"selection_policy\":{\"id\":\"481ce90c-fb09-448c-b5fa-53f0cb2ba313\",\"type\":\"UnionRenderers\"}},\"id\":\"2d8d68e8-834c-4548-8d11-bf5a36ee2773\",\"type\":\"ColumnDataSource\"},{\"attributes\":{\"fill_alpha\":{\"value\":0.1},\"fill_color\":{\"value\":\"#1f77b4\"},\"line_alpha\":{\"value\":0.1},\"line_color\":{\"value\":\"#1f77b4\"},\"x\":{\"field\":\"x\"},\"y\":{\"field\":\"y\"}},\"id\":\"eab369ac-24b9-4b47-8560-ed14035ddb5d\",\"type\":\"Circle\"},{\"attributes\":{\"above\":[{\"id\":\"f249aea3-57ac-4d42-8e1d-fb68b6bbbfab\",\"type\":\"Legend\"}],\"below\":[{\"id\":\"876f5a06-f1a4-487d-82f3-69db623638b5\",\"type\":\"LinearAxis\"}],\"left\":[{\"id\":\"e3e32faf-090c-46d0-8301-7442e82d1326\",\"type\":\"LinearAxis\"}],\"plot_height\":500,\"plot_width\":400,\"renderers\":[{\"id\":\"876f5a06-f1a4-487d-82f3-69db623638b5\",\"type\":\"LinearAxis\"},{\"id\":\"d7cbd070-70b3-4cc0-ad66-5d1329fb2dc1\",\"type\":\"Grid\"},{\"id\":\"e3e32faf-090c-46d0-8301-7442e82d1326\",\"type\":\"LinearAxis\"},{\"id\":\"77bf52d5-4f24-4cea-bfcf-da0c24132975\",\"type\":\"Grid\"},{\"id\":\"d12dd145-8cf1-41fe-997d-bd8bc6b13f25\",\"type\":\"BoxAnnotation\"},{\"id\":\"7b839c2c-8ccc-41e0-a040-7446402ee8f3\",\"type\":\"GlyphRenderer\"},{\"id\":\"79929e3a-9099-4b33-902c-9f5d28c9e84b\",\"type\":\"GlyphRenderer\"},{\"id\":\"0fef6f70-031c-4146-a523-17c57536033b\",\"type\":\"GlyphRenderer\"},{\"id\":\"63f0f3c7-f450-4410-87ea-e4f72b2d2afb\",\"type\":\"GlyphRenderer\"},{\"id\":\"19c588f6-a0a3-46b9-b557-5c6fcc18cdae\",\"type\":\"GlyphRenderer\"},{\"id\":\"3fbb5757-bdf8-43aa-93f9-7ce2bbfef6dd\",\"type\":\"GlyphRenderer\"},{\"id\":\"f249aea3-57ac-4d42-8e1d-fb68b6bbbfab\",\"type\":\"Legend\"}],\"title\":{\"id\":\"bb3623af-b01e-430d-a38c-2b3aa248d4f3\",\"type\":\"Title\"},\"toolbar\":{\"id\":\"16803861-75d3-44af-9750-f58fbad311d6\",\"type\":\"Toolbar\"},\"toolbar_location\":null,\"x_range\":{\"id\":\"fb8861ee-ce2e-423c-8a97-4278fb60ad68\",\"type\":\"Range1d\"},\"x_scale\":{\"id\":\"be219efa-7ef7-41f3-843a-352a4d1eed22\",\"type\":\"LinearScale\"},\"y_range\":{\"id\":\"ebe01d81-ab4d-4ca0-82c6-a651c8601b6b\",\"type\":\"Range1d\"},\"y_scale\":{\"id\":\"c8c34116-653f-46af-a27f-bdcda1773136\",\"type\":\"LinearScale\"}},\"id\":\"d3d8c0b3-a0bd-4a5b-ab83-2c5162a63542\",\"subtype\":\"Figure\",\"type\":\"Plot\"},{\"attributes\":{},\"id\":\"13e95f02-ca05-4b96-ae26-9a911f753adc\",\"type\":\"UnionRenderers\"},{\"attributes\":{\"items\":[{\"id\":\"e557a377-eef2-4a99-8c45-5b982e6eb0ec\",\"type\":\"LegendItem\"},{\"id\":\"a6105eea-bdd2-4af8-a6c8-d5e161e1f175\",\"type\":\"LegendItem\"},{\"id\":\"830064fd-1555-4ade-b359-5c561bdc69ce\",\"type\":\"LegendItem\"}],\"label_text_font_size\":{\"value\":\"8pt\"},\"location\":\"top_center\",\"orientation\":\"horizontal\",\"plot\":{\"id\":\"d3d8c0b3-a0bd-4a5b-ab83-2c5162a63542\",\"subtype\":\"Figure\",\"type\":\"Plot\"}},\"id\":\"f249aea3-57ac-4d42-8e1d-fb68b6bbbfab\",\"type\":\"Legend\"},{\"attributes\":{\"callback\":null,\"end\":0.01,\"start\":1020},\"id\":\"111bd3d0-254b-435f-8605-90a648c14b08\",\"type\":\"Range1d\"},{\"attributes\":{\"data_source\":{\"id\":\"2d8d68e8-834c-4548-8d11-bf5a36ee2773\",\"type\":\"ColumnDataSource\"},\"glyph\":{\"id\":\"767cc468-1e93-403e-b187-cf7a63b6fac0\",\"type\":\"Circle\"},\"hover_glyph\":null,\"muted_glyph\":null,\"nonselection_glyph\":{\"id\":\"eab369ac-24b9-4b47-8560-ed14035ddb5d\",\"type\":\"Circle\"},\"selection_glyph\":null,\"view\":{\"id\":\"ebdaa2a8-8b0b-4cea-a612-3ba275deecee\",\"type\":\"CDSView\"}},\"id\":\"f2b76dc1-2a99-4091-b0e3-a265adc9ce42\",\"type\":\"GlyphRenderer\"},{\"attributes\":{\"dimension\":1,\"plot\":{\"id\":\"d3d8c0b3-a0bd-4a5b-ab83-2c5162a63542\",\"subtype\":\"Figure\",\"type\":\"Plot\"},\"ticker\":{\"id\":\"a0169aa1-ff08-4dfd-a29c-d58502886612\",\"type\":\"BasicTicker\"}},\"id\":\"77bf52d5-4f24-4cea-bfcf-da0c24132975\",\"type\":\"Grid\"},{\"attributes\":{},\"id\":\"9f3aeca4-aa62-440a-b78b-80bdf90f2cad\",\"type\":\"ResetTool\"},{\"attributes\":{\"overlay\":{\"id\":\"d12dd145-8cf1-41fe-997d-bd8bc6b13f25\",\"type\":\"BoxAnnotation\"}},\"id\":\"809b60e6-9205-41a5-aab1-36610b4d5d8c\",\"type\":\"BoxZoomTool\"},{\"attributes\":{\"plot\":{\"id\":\"e02da45f-483c-4865-bbff-5f49562593bb\",\"subtype\":\"Figure\",\"type\":\"Plot\"},\"ticker\":{\"id\":\"2a1a6937-9b7a-4414-bd36-3139d452d9e7\",\"type\":\"BasicTicker\"}},\"id\":\"eb6313ef-e1fb-42cf-b941-3c5387b64270\",\"type\":\"Grid\"},{\"attributes\":{},\"id\":\"7812da32-4ef1-412c-9453-897b7dfbf780\",\"type\":\"WheelZoomTool\"},{\"attributes\":{\"axis_label\":\"pressure [mb]\",\"formatter\":{\"id\":\"8d10f6fe-dc21-4dba-bc4d-1b0ea54b3bbf\",\"type\":\"BasicTickFormatter\"},\"plot\":{\"id\":\"d3d8c0b3-a0bd-4a5b-ab83-2c5162a63542\",\"subtype\":\"Figure\",\"type\":\"Plot\"},\"ticker\":{\"id\":\"a0169aa1-ff08-4dfd-a29c-d58502886612\",\"type\":\"BasicTicker\"}},\"id\":\"e3e32faf-090c-46d0-8301-7442e82d1326\",\"type\":\"LinearAxis\"},{\"attributes\":{},\"id\":\"a0169aa1-ff08-4dfd-a29c-d58502886612\",\"type\":\"BasicTicker\"},{\"attributes\":{},\"id\":\"07483e8f-512b-4717-bf0d-2069e8f09609\",\"type\":\"PanTool\"},{\"attributes\":{},\"id\":\"81d568a1-f02d-40d9-a403-9705f54ea1f4\",\"type\":\"SaveTool\"},{\"attributes\":{\"axis_label\":\"pressure [mb]\",\"formatter\":{\"id\":\"8a29345e-3ea8-4c16-be01-b314f33ff753\",\"type\":\"LogTickFormatter\"},\"plot\":{\"id\":\"e02da45f-483c-4865-bbff-5f49562593bb\",\"subtype\":\"Figure\",\"type\":\"Plot\"},\"ticker\":{\"id\":\"4223f743-0a91-4174-8634-0be3b64a86a4\",\"type\":\"LogTicker\"}},\"id\":\"29017d47-03d7-461f-8260-377aec04224d\",\"type\":\"LogAxis\"}],\"root_ids\":[\"390ca410-22bd-48dd-9856-4ba48f67a8bb\"]},\"title\":\"Bokeh Application\",\"version\":\"0.12.16\"}};\n",
       "  var render_items = [{\"docid\":\"32eafe78-5d46-4bf7-a537-8fabfa42b046\",\"elementid\":\"214b8dc4-135d-49be-b395-24d6894f1e1f\",\"modelid\":\"390ca410-22bd-48dd-9856-4ba48f67a8bb\"}];\n",
       "  root.Bokeh.embed.embed_items_notebook(docs_json, render_items);\n",
       "\n",
       "  }\n",
       "  if (root.Bokeh !== undefined) {\n",
       "    embed_document(root);\n",
       "  } else {\n",
       "    var attempts = 0;\n",
       "    var timer = setInterval(function(root) {\n",
       "      if (root.Bokeh !== undefined) {\n",
       "        embed_document(root);\n",
       "        clearInterval(timer);\n",
       "      }\n",
       "      attempts++;\n",
       "      if (attempts > 100) {\n",
       "        console.log(\"Bokeh: ERROR: Unable to run BokehJS code because BokehJS library is missing\")\n",
       "        clearInterval(timer);\n",
       "      }\n",
       "    }, 10, root)\n",
       "  }\n",
       "})(window);"
      ],
      "application/vnd.bokehjs_exec.v0+json": ""
     },
     "metadata": {
      "application/vnd.bokehjs_exec.v0+json": {
       "id": "390ca410-22bd-48dd-9856-4ba48f67a8bb"
      }
     },
     "output_type": "display_data"
    },
    {
     "data": {
      "text/markdown": [
       "*FIGURE.* Cooling rates. g=3"
      ],
      "text/plain": [
       "<IPython.core.display.Markdown object>"
      ]
     },
     "metadata": {},
     "output_type": "display_data"
    },
    {
     "data": {
      "text/html": [
       "\n",
       "<div class=\"bk-root\">\n",
       "    <div class=\"bk-plotdiv\" id=\"552d7bcf-1dc2-4380-a261-08c3946f7805\"></div>\n",
       "</div>"
      ]
     },
     "metadata": {},
     "output_type": "display_data"
    },
    {
     "data": {
      "application/javascript": [
       "(function(root) {\n",
       "  function embed_document(root) {\n",
       "    \n",
       "  var docs_json = {\"d052d4ec-567d-4b19-82ed-6bd4e443eb01\":{\"roots\":{\"references\":[{\"attributes\":{\"callback\":null,\"end\":0.01,\"start\":1020},\"id\":\"1e294c88-5a65-4c0b-ab65-035662191118\",\"type\":\"Range1d\"},{\"attributes\":{\"callback\":null,\"end\":0.09354135088030999,\"start\":-0.00107592893131},\"id\":\"c37fce16-bed5-4c41-86ac-b5ad7f649793\",\"type\":\"Range1d\"},{\"attributes\":{\"items\":[{\"id\":\"b4148409-2fd5-4315-9f6a-24c63d0e333e\",\"type\":\"LegendItem\"},{\"id\":\"a3cc49b7-0dd3-4fd1-9bda-f9fceffb6ec8\",\"type\":\"LegendItem\"},{\"id\":\"d62ad655-d0e2-48ad-8a23-5ff05e5c9e74\",\"type\":\"LegendItem\"}],\"label_text_font_size\":{\"value\":\"8pt\"},\"location\":\"top_center\",\"orientation\":\"horizontal\",\"plot\":{\"id\":\"9f3d633e-4f83-4ec5-a219-ec9aaa96ab51\",\"subtype\":\"Figure\",\"type\":\"Plot\"}},\"id\":\"89e4c7ac-e512-45bd-8e16-bdd8d7d8092c\",\"type\":\"Legend\"},{\"attributes\":{},\"id\":\"fa3b010a-64c2-4786-83f3-07312e873704\",\"type\":\"BasicTicker\"},{\"attributes\":{\"active_drag\":\"auto\",\"active_inspect\":\"auto\",\"active_scroll\":\"auto\",\"active_tap\":\"auto\",\"tools\":[{\"id\":\"ac03f5da-6b7a-460f-85ae-fc209f50bfa8\",\"type\":\"PanTool\"},{\"id\":\"1578ffaf-dc43-402c-b809-55e04ccf61be\",\"type\":\"WheelZoomTool\"},{\"id\":\"81978a00-929c-4434-abb2-7934db8f203b\",\"type\":\"BoxZoomTool\"},{\"id\":\"838d36a9-ba4f-424c-8e93-7a7bc5104cd2\",\"type\":\"SaveTool\"},{\"id\":\"72787687-bd6a-4e90-bfa6-419b60f17526\",\"type\":\"ResetTool\"},{\"id\":\"78b6990b-ea40-4e17-b6b6-2078e9f57bcf\",\"type\":\"HelpTool\"}]},\"id\":\"193d2fe6-7975-4e72-9dd2-694d7d2718b7\",\"type\":\"Toolbar\"},{\"attributes\":{},\"id\":\"f7e13b2a-db2d-49fe-b9d4-5bc69aa872dd\",\"type\":\"LinearScale\"},{\"attributes\":{\"line_color\":\"#4daf4a\",\"line_width\":1.5,\"x\":{\"field\":\"x\"},\"y\":{\"field\":\"y\"}},\"id\":\"0b91c7db-e4bc-4c44-b246-2bbd0150b138\",\"type\":\"Line\"},{\"attributes\":{},\"id\":\"27426d67-f12b-4479-ba73-c445ae1f96e3\",\"type\":\"BasicTicker\"},{\"attributes\":{\"above\":[{\"id\":\"89e4c7ac-e512-45bd-8e16-bdd8d7d8092c\",\"type\":\"Legend\"}],\"below\":[{\"id\":\"e3d7d003-38ed-4a84-8a91-cad4185006c0\",\"type\":\"LinearAxis\"}],\"left\":[{\"id\":\"e01b0e92-2b89-4cfc-bc95-097ffd6abbc6\",\"type\":\"LinearAxis\"}],\"plot_height\":500,\"plot_width\":400,\"renderers\":[{\"id\":\"e3d7d003-38ed-4a84-8a91-cad4185006c0\",\"type\":\"LinearAxis\"},{\"id\":\"04581db9-bccb-45ac-9226-5b9b0151064f\",\"type\":\"Grid\"},{\"id\":\"e01b0e92-2b89-4cfc-bc95-097ffd6abbc6\",\"type\":\"LinearAxis\"},{\"id\":\"e4c4ff58-d07e-4e85-ae59-8919ac70b9c1\",\"type\":\"Grid\"},{\"id\":\"75817ccf-59b4-41ad-8257-48e2e1115995\",\"type\":\"BoxAnnotation\"},{\"id\":\"fd88930d-0fd4-4536-a3a9-fe0747332fdb\",\"type\":\"GlyphRenderer\"},{\"id\":\"082ffcac-d59f-4c5e-89c9-f62109e0373b\",\"type\":\"GlyphRenderer\"},{\"id\":\"72e135d7-2018-4074-a743-fe3952d8cd72\",\"type\":\"GlyphRenderer\"},{\"id\":\"5a836dda-74f9-4253-a177-ca6a2dda2d93\",\"type\":\"GlyphRenderer\"},{\"id\":\"b5b1b1d7-5000-46ac-8ba2-e386ed91331f\",\"type\":\"GlyphRenderer\"},{\"id\":\"7e571cb4-2f1b-4049-8124-c4ac7ea4dfd7\",\"type\":\"GlyphRenderer\"},{\"id\":\"89e4c7ac-e512-45bd-8e16-bdd8d7d8092c\",\"type\":\"Legend\"}],\"title\":{\"id\":\"47b01d57-0673-4943-83e1-2181e558d9ce\",\"type\":\"Title\"},\"toolbar\":{\"id\":\"193d2fe6-7975-4e72-9dd2-694d7d2718b7\",\"type\":\"Toolbar\"},\"toolbar_location\":null,\"x_range\":{\"id\":\"c37fce16-bed5-4c41-86ac-b5ad7f649793\",\"type\":\"Range1d\"},\"x_scale\":{\"id\":\"f7e13b2a-db2d-49fe-b9d4-5bc69aa872dd\",\"type\":\"LinearScale\"},\"y_range\":{\"id\":\"1e294c88-5a65-4c0b-ab65-035662191118\",\"type\":\"Range1d\"},\"y_scale\":{\"id\":\"49e76f4b-4ada-4b37-8921-74b96e26b871\",\"type\":\"LinearScale\"}},\"id\":\"9f3d633e-4f83-4ec5-a219-ec9aaa96ab51\",\"subtype\":\"Figure\",\"type\":\"Plot\"},{\"attributes\":{\"dimension\":1,\"plot\":{\"id\":\"9f3d633e-4f83-4ec5-a219-ec9aaa96ab51\",\"subtype\":\"Figure\",\"type\":\"Plot\"},\"ticker\":{\"id\":\"27426d67-f12b-4479-ba73-c445ae1f96e3\",\"type\":\"BasicTicker\"}},\"id\":\"e4c4ff58-d07e-4e85-ae59-8919ac70b9c1\",\"type\":\"Grid\"},{\"attributes\":{},\"id\":\"ff8962bf-1898-4fd2-931e-6e3c497263ed\",\"type\":\"UnionRenderers\"},{\"attributes\":{\"bottom_units\":\"screen\",\"fill_alpha\":{\"value\":0.5},\"fill_color\":{\"value\":\"lightgrey\"},\"left_units\":\"screen\",\"level\":\"overlay\",\"line_alpha\":{\"value\":1.0},\"line_color\":{\"value\":\"black\"},\"line_dash\":[4,4],\"line_width\":{\"value\":2},\"plot\":null,\"render_mode\":\"css\",\"right_units\":\"screen\",\"top_units\":\"screen\"},\"id\":\"75817ccf-59b4-41ad-8257-48e2e1115995\",\"type\":\"BoxAnnotation\"},{\"attributes\":{\"source\":{\"id\":\"7fe60caf-0d21-41b6-b93e-b6f72818e133\",\"type\":\"ColumnDataSource\"}},\"id\":\"f27180fc-6eb5-4ec8-947d-b913203721e5\",\"type\":\"CDSView\"},{\"attributes\":{\"callback\":null,\"data\":{\"x\":{\"__ndarray__\":\"WfCD18ILxb45Ev51KSHFvhLVdNnhT8W+IJ42xip/xb6RITkYq6vFvrA0sVoD2MW+LDw2T5ACxr7kEeeOlCrGvqJHo1PhUMa+VLVGihd1xr6AndMkEJfGvn+0uYHMtsa+NQA1/yTUxr4AZ1uarvDGvvdH79W7Lse+k/t9ekobx75yS85McWPEvodNkLMYF7m+O6ibu25WnD6km5guOzXQPlQxJqGhH+Q+bZxZMOaE8z6//I+UUlf+Pl7tCEJ3ZP8+GJ5mQzuW9j6oao2iKt/rPhMozqRCOt4+72FkLmLayT6buVnMUYefPsV1m6JLi7O+m7zT1/2Mwr44EG7AwN/HvpO7SiuNsMq+YcCHIXZgzL6X+WYO27zNvl8ByCso886+uHnO/7IT0L6EPvPW/rDQvgZshvj4QNG+n2SczoCX0r4q2pHEUMDdvroi27oWPfS+AIbo0h1TBr/Fg6xUkoMUv6eLMX1LrB+/b0Xd9sEmIb86cDkk1l4bv8qsmluEigG/Y9DMn+jxGT9EERjasKw0PyoYNLiT0EQ/dU/ScZdYUT/rE0rGzCpaPxnXhHoxpGI/PiKZ7vWBaT/7YrJ4jO1wP7H4ibUl9XU/qPOT77M4fT/hjzIMXgeDPzTc/uC1J4g/oA6AAKYIjj9f9ykRYE2SP4BjhDWrBZY/fq5AMOM/mj+BoUz8OO6eP5RMtIY3FKI/DWvRG5rtpD9ZycQ2dPanP/owxdRSC6s/9qjI9M4grj8Dg7HR4Z6wP4k+1ronOLI/lHAnDhPksz+MLwodnLG1Pz1y2ut4rLc/\",\"dtype\":\"float64\",\"shape\":[75]},\"y\":{\"__ndarray__\":\"GhExyth1ND/Sv8nbtpRIP2vylNV0PVE/aTum7souWD/At0SJ8fVgPw3Iuahxymc/MSNhhJWvcD/bTfBN02d3P2zb5nxnaoA/CD5h5MAGhz8NmeH1TyaQP+zrCsc9p5Y/LbKd76fGnz/bLW5ISEmmPww9YvTcQq8/JV2OstnstT8Er5Y7M8G+P0c+r3jqkcU/5h99k6ZBzj88bCIzFzjVP4enV8oyxN0//yH99nXg5D8qOpLLf0jtP5kqGJXUifQ/c9cS8kHP/D+/DpwzojQEQIEmwoanVwxA4lgXt9HgE0BSSZ2AJuIbQAMJih9jjiNA5q4l5INuK0AwTKYKRj0zQNv5fmq8/DpAaCJseHrtQkB/+zpwzoxKQM3MzMzMeFJAZmZmZmZqWEAAAAAAAFxeQM3MzMzMJmJAmpmZmZkfZUBmZmZmZhhoQDMzMzMzEWtAAAAAAAAKbkBmZmZmZoFwQM3MzMzM/XFAMzMzMzN6c0CamZmZmfZ0QAAAAAAAc3ZAZmZmZmbvd0DNzMzMzGt5QDMzMzMz6HpAmpmZmZlkfEAAAAAAAOF9QGZmZmZmXX9AZmZmZuZsgECamZmZGSuBQM3MzMxM6YFAAAAAAICngkAzMzMzs2WDQGZmZmbmI4RAmpmZmRnihEDNzMzMTKCFQAAAAACAXoZAMzMzM7Mch0BmZmZm5tqHQJqZmZkZmYhAzczMzExXiUAAAAAAgBWKQDMzMzOz04pAZmZmZuaRi0CamZmZGVCMQM3MzMxMDo1AAAAAAIDMjUAzMzMzs4qOQGZmZmbmSI9A\",\"dtype\":\"float64\",\"shape\":[75]}},\"selected\":{\"id\":\"b6843012-e310-421f-b65a-d65c96bf2271\",\"type\":\"Selection\"},\"selection_policy\":{\"id\":\"4ade4c88-b8ca-4ee8-83e0-22f989ecd5f1\",\"type\":\"UnionRenderers\"}},\"id\":\"ab46dc3d-a63c-4cea-bcbe-bd9a3efe27d2\",\"type\":\"ColumnDataSource\"},{\"attributes\":{},\"id\":\"ac03f5da-6b7a-460f-85ae-fc209f50bfa8\",\"type\":\"PanTool\"},{\"attributes\":{\"fill_alpha\":{\"value\":0.1},\"fill_color\":{\"value\":\"#1f77b4\"},\"line_alpha\":{\"value\":0.1},\"line_color\":{\"value\":\"#1f77b4\"},\"x\":{\"field\":\"x\"},\"y\":{\"field\":\"y\"}},\"id\":\"5371dd0f-8324-4452-9dfb-0bb074861688\",\"type\":\"Square\"},{\"attributes\":{\"axis_label\":\"pressure [mb]\",\"formatter\":{\"id\":\"afcd63ac-07ff-4ad0-ac8f-bf3c3b24e0e7\",\"type\":\"BasicTickFormatter\"},\"plot\":{\"id\":\"9f3d633e-4f83-4ec5-a219-ec9aaa96ab51\",\"subtype\":\"Figure\",\"type\":\"Plot\"},\"ticker\":{\"id\":\"27426d67-f12b-4479-ba73-c445ae1f96e3\",\"type\":\"BasicTicker\"}},\"id\":\"e01b0e92-2b89-4cfc-bc95-097ffd6abbc6\",\"type\":\"LinearAxis\"},{\"attributes\":{\"data_source\":{\"id\":\"ab46dc3d-a63c-4cea-bcbe-bd9a3efe27d2\",\"type\":\"ColumnDataSource\"},\"glyph\":{\"id\":\"1cce74d7-0771-4312-b04e-c42812acc0f8\",\"type\":\"Square\"},\"hover_glyph\":null,\"muted_glyph\":null,\"nonselection_glyph\":{\"id\":\"5371dd0f-8324-4452-9dfb-0bb074861688\",\"type\":\"Square\"},\"selection_glyph\":null,\"view\":{\"id\":\"1f91112e-09d6-4302-958e-72ae41f3e100\",\"type\":\"CDSView\"}},\"id\":\"72e135d7-2018-4074-a743-fe3952d8cd72\",\"type\":\"GlyphRenderer\"},{\"attributes\":{\"axis_label\":\"cooling rate [K/day]\",\"formatter\":{\"id\":\"3846e06e-2bf6-4894-9668-df6bd369f914\",\"type\":\"BasicTickFormatter\"},\"plot\":{\"id\":\"9f3d633e-4f83-4ec5-a219-ec9aaa96ab51\",\"subtype\":\"Figure\",\"type\":\"Plot\"},\"ticker\":{\"id\":\"fa3b010a-64c2-4786-83f3-07312e873704\",\"type\":\"BasicTicker\"}},\"id\":\"e3d7d003-38ed-4a84-8a91-cad4185006c0\",\"type\":\"LinearAxis\"},{\"attributes\":{\"plot\":{\"id\":\"9f3d633e-4f83-4ec5-a219-ec9aaa96ab51\",\"subtype\":\"Figure\",\"type\":\"Plot\"},\"ticker\":{\"id\":\"fa3b010a-64c2-4786-83f3-07312e873704\",\"type\":\"BasicTicker\"}},\"id\":\"04581db9-bccb-45ac-9226-5b9b0151064f\",\"type\":\"Grid\"},{\"attributes\":{},\"id\":\"49e76f4b-4ada-4b37-8921-74b96e26b871\",\"type\":\"LinearScale\"},{\"attributes\":{\"source\":{\"id\":\"c748c4e2-cccb-469e-9b7a-51c824fcb655\",\"type\":\"ColumnDataSource\"}},\"id\":\"68e806bd-2905-46dd-b906-691b520d25cc\",\"type\":\"CDSView\"},{\"attributes\":{\"callback\":null,\"data\":{\"x\":{\"__ndarray__\":\"WfCD18ILxb45Ev51KSHFvhLVdNnhT8W+IJ42xip/xb6RITkYq6vFvrA0sVoD2MW+LDw2T5ACxr7kEeeOlCrGvqJHo1PhUMa+VLVGihd1xr6AndMkEJfGvn+0uYHMtsa+NQA1/yTUxr4AZ1uarvDGvvdH79W7Lse+k/t9ekobx75yS85McWPEvodNkLMYF7m+O6ibu25WnD6km5guOzXQPlQxJqGhH+Q+bZxZMOaE8z6//I+UUlf+Pl7tCEJ3ZP8+GJ5mQzuW9j6oao2iKt/rPhMozqRCOt4+72FkLmLayT6buVnMUYefPsV1m6JLi7O+m7zT1/2Mwr44EG7AwN/HvpO7SiuNsMq+YcCHIXZgzL6X+WYO27zNvl8ByCso886+uHnO/7IT0L6EPvPW/rDQvgZshvj4QNG+n2SczoCX0r4q2pHEUMDdvroi27oWPfS+AIbo0h1TBr/Fg6xUkoMUv6eLMX1LrB+/b0Xd9sEmIb86cDkk1l4bv8qsmluEigG/Y9DMn+jxGT9EERjasKw0PyoYNLiT0EQ/dU/ScZdYUT/rE0rGzCpaPxnXhHoxpGI/PiKZ7vWBaT/7YrJ4jO1wP7H4ibUl9XU/qPOT77M4fT/hjzIMXgeDPzTc/uC1J4g/oA6AAKYIjj9f9ykRYE2SP4BjhDWrBZY/fq5AMOM/mj+BoUz8OO6eP5RMtIY3FKI/DWvRG5rtpD9ZycQ2dPanP/owxdRSC6s/9qjI9M4grj8Dg7HR4Z6wP4k+1ronOLI/lHAnDhPksz+MLwodnLG1Pz1y2ut4rLc/\",\"dtype\":\"float64\",\"shape\":[75]},\"y\":{\"__ndarray__\":\"GhExyth1ND/Sv8nbtpRIP2vylNV0PVE/aTum7souWD/At0SJ8fVgPw3Iuahxymc/MSNhhJWvcD/bTfBN02d3P2zb5nxnaoA/CD5h5MAGhz8NmeH1TyaQP+zrCsc9p5Y/LbKd76fGnz/bLW5ISEmmPww9YvTcQq8/JV2OstnstT8Er5Y7M8G+P0c+r3jqkcU/5h99k6ZBzj88bCIzFzjVP4enV8oyxN0//yH99nXg5D8qOpLLf0jtP5kqGJXUifQ/c9cS8kHP/D+/DpwzojQEQIEmwoanVwxA4lgXt9HgE0BSSZ2AJuIbQAMJih9jjiNA5q4l5INuK0AwTKYKRj0zQNv5fmq8/DpAaCJseHrtQkB/+zpwzoxKQM3MzMzMeFJAZmZmZmZqWEAAAAAAAFxeQM3MzMzMJmJAmpmZmZkfZUBmZmZmZhhoQDMzMzMzEWtAAAAAAAAKbkBmZmZmZoFwQM3MzMzM/XFAMzMzMzN6c0CamZmZmfZ0QAAAAAAAc3ZAZmZmZmbvd0DNzMzMzGt5QDMzMzMz6HpAmpmZmZlkfEAAAAAAAOF9QGZmZmZmXX9AZmZmZuZsgECamZmZGSuBQM3MzMxM6YFAAAAAAICngkAzMzMzs2WDQGZmZmbmI4RAmpmZmRnihEDNzMzMTKCFQAAAAACAXoZAMzMzM7Mch0BmZmZm5tqHQJqZmZkZmYhAzczMzExXiUAAAAAAgBWKQDMzMzOz04pAZmZmZuaRi0CamZmZGVCMQM3MzMxMDo1AAAAAAIDMjUAzMzMzs4qOQGZmZmbmSI9A\",\"dtype\":\"float64\",\"shape\":[75]}},\"selected\":{\"id\":\"862515aa-ccab-46a6-803d-e440e2fe8da0\",\"type\":\"Selection\"},\"selection_policy\":{\"id\":\"522b8cf1-b66c-4bc2-8d5d-a7e4a75ba058\",\"type\":\"UnionRenderers\"}},\"id\":\"d836979b-5319-44c0-b32d-fd2bcdbaa548\",\"type\":\"ColumnDataSource\"},{\"attributes\":{\"line_alpha\":0.1,\"line_color\":\"#1f77b4\",\"line_width\":1.5,\"x\":{\"field\":\"x\"},\"y\":{\"field\":\"y\"}},\"id\":\"df10cfbb-962e-4d37-a6fa-751279b59258\",\"type\":\"Line\"},{\"attributes\":{\"data_source\":{\"id\":\"c748c4e2-cccb-469e-9b7a-51c824fcb655\",\"type\":\"ColumnDataSource\"},\"glyph\":{\"id\":\"0b91c7db-e4bc-4c44-b246-2bbd0150b138\",\"type\":\"Line\"},\"hover_glyph\":null,\"muted_glyph\":null,\"nonselection_glyph\":{\"id\":\"df10cfbb-962e-4d37-a6fa-751279b59258\",\"type\":\"Line\"},\"selection_glyph\":null,\"view\":{\"id\":\"68e806bd-2905-46dd-b906-691b520d25cc\",\"type\":\"CDSView\"}},\"id\":\"082ffcac-d59f-4c5e-89c9-f62109e0373b\",\"type\":\"GlyphRenderer\"},{\"attributes\":{\"line_alpha\":0.6,\"line_color\":\"#984ea3\",\"line_width\":3,\"x\":{\"field\":\"x\"},\"y\":{\"field\":\"y\"}},\"id\":\"75f85456-bf69-4c15-af89-b46d2d831717\",\"type\":\"Line\"},{\"attributes\":{\"source\":{\"id\":\"ab46dc3d-a63c-4cea-bcbe-bd9a3efe27d2\",\"type\":\"ColumnDataSource\"}},\"id\":\"1f91112e-09d6-4302-958e-72ae41f3e100\",\"type\":\"CDSView\"},{\"attributes\":{},\"id\":\"f3543131-f5dd-4f22-a613-b81952c7a67c\",\"type\":\"UnionRenderers\"},{\"attributes\":{\"fill_alpha\":{\"value\":0.1},\"fill_color\":{\"value\":\"#1f77b4\"},\"line_alpha\":{\"value\":0.1},\"line_color\":{\"value\":\"#1f77b4\"},\"x\":{\"field\":\"x\"},\"y\":{\"field\":\"y\"}},\"id\":\"9361b3f3-c53e-4d89-9271-ea033673d343\",\"type\":\"Circle\"},{\"attributes\":{\"fill_alpha\":{\"value\":0.1},\"fill_color\":{\"value\":\"#1f77b4\"},\"line_alpha\":{\"value\":0.1},\"line_color\":{\"value\":\"#1f77b4\"},\"x\":{\"field\":\"x\"},\"y\":{\"field\":\"y\"}},\"id\":\"ce0cf7ac-bab7-4091-aff3-b70e60a60a2d\",\"type\":\"Circle\"},{\"attributes\":{},\"id\":\"4ade4c88-b8ca-4ee8-83e0-22f989ecd5f1\",\"type\":\"UnionRenderers\"},{\"attributes\":{\"source\":{\"id\":\"d836979b-5319-44c0-b32d-fd2bcdbaa548\",\"type\":\"ColumnDataSource\"}},\"id\":\"4270382c-00cc-47ff-921d-c9ef39db51b8\",\"type\":\"CDSView\"},{\"attributes\":{\"fill_alpha\":{\"value\":0.7},\"fill_color\":{\"value\":\"#4daf4a\"},\"line_alpha\":{\"value\":0.7},\"line_color\":{\"value\":\"#4daf4a\"},\"x\":{\"field\":\"x\"},\"y\":{\"field\":\"y\"}},\"id\":\"dc5a4dac-ec44-41ab-834b-f001a04dda1c\",\"type\":\"Circle\"},{\"attributes\":{\"fill_alpha\":{\"value\":0.7},\"fill_color\":{\"value\":\"#984ea3\"},\"line_alpha\":{\"value\":0.7},\"line_color\":{\"value\":\"#984ea3\"},\"x\":{\"field\":\"x\"},\"y\":{\"field\":\"y\"}},\"id\":\"1cce74d7-0771-4312-b04e-c42812acc0f8\",\"type\":\"Square\"},{\"attributes\":{\"data_source\":{\"id\":\"7fe60caf-0d21-41b6-b93e-b6f72818e133\",\"type\":\"ColumnDataSource\"},\"glyph\":{\"id\":\"dc5a4dac-ec44-41ab-834b-f001a04dda1c\",\"type\":\"Circle\"},\"hover_glyph\":null,\"muted_glyph\":null,\"nonselection_glyph\":{\"id\":\"9361b3f3-c53e-4d89-9271-ea033673d343\",\"type\":\"Circle\"},\"selection_glyph\":null,\"view\":{\"id\":\"f27180fc-6eb5-4ec8-947d-b913203721e5\",\"type\":\"CDSView\"}},\"id\":\"fd88930d-0fd4-4536-a3a9-fe0747332fdb\",\"type\":\"GlyphRenderer\"},{\"attributes\":{},\"id\":\"f6b07e78-58e9-4fb4-9d2f-440ef848d352\",\"type\":\"Selection\"},{\"attributes\":{},\"id\":\"72787687-bd6a-4e90-bfa6-419b60f17526\",\"type\":\"ResetTool\"},{\"attributes\":{\"callback\":null,\"data\":{\"x\":{\"__ndarray__\":\"1YrOoDYMzr4BOuf2ZSDOvizYpLwFVM6+HiBmSf6Dzr7/8xkvH6vOvrtTRqod1M6+BPFnLx/3zr5v23zG5xXPvli59C5YLs++COysN1dDz77uA21+WVLPvmhftKw9XM++aeNw6cNfz75KKYCzFV3Pvu1Qh+MYKM++VjzUpaAFzb4OtaHYUmfEvtjPIWTu636+66TzkeW80T4V9Dpvun3oPvXm0/8m5fg+IHz66YQ2Bj/7yqWJR54QP5p8FDyWHRE/SBRZQ7MuCT/odMA4mT4AP7Q26lGUPvM+C+KGS6xi5D5UrRZXtXLRPjtR/Fl/qqY+kPXyt2YGur68iA2mdFTIvmr15rkK482+Gryrehg+0L5i1+jhkgDRvqO3uu9Yd9G+bDJ1FHHP0b6Js9S2IzLSvp9iNhPgktK+cZY04vrN077rEJ3GnznfvhQvUNZMtfS+SN+L2QwABr++kIR4/x8Tv1IZGeB2Khu/7LewhuIkGb/sedMSJBgIv+7rUSphsQ0/qrGJLERGLj95HNqJ20pAP0kjpQKJrUw/b7RuW8Q8Vj+N4MrpXApgP2f+iQomK2Y/YRcV1mWvbT/d1PELEmVzPwKAsrbG3Xg/wlKxdjplgD8pjuoR9i+FPylGgFVhs4o/qeb1TQF8kD8UFIQI//2TPxftnYzL45c/LH1etZYwnD/ubrvSpnGgP5PmSt4r/KI/u1zUENSupT+G+PU3sHKoP0qd5VGoKas/ZIKpRKPErT8ZY5+BCiewP/uZZYv3brE/ewtsG7fFsj+7m2whFjq0PzEbQ83H5rU/\",\"dtype\":\"float64\",\"shape\":[75]},\"y\":{\"__ndarray__\":\"GhExyth1ND/Sv8nbtpRIP2vylNV0PVE/aTum7souWD/At0SJ8fVgPw3Iuahxymc/MSNhhJWvcD/bTfBN02d3P2zb5nxnaoA/CD5h5MAGhz8NmeH1TyaQP+zrCsc9p5Y/LbKd76fGnz/bLW5ISEmmPww9YvTcQq8/JV2OstnstT8Er5Y7M8G+P0c+r3jqkcU/5h99k6ZBzj88bCIzFzjVP4enV8oyxN0//yH99nXg5D8qOpLLf0jtP5kqGJXUifQ/c9cS8kHP/D+/DpwzojQEQIEmwoanVwxA4lgXt9HgE0BSSZ2AJuIbQAMJih9jjiNA5q4l5INuK0AwTKYKRj0zQNv5fmq8/DpAaCJseHrtQkB/+zpwzoxKQM3MzMzMeFJAZmZmZmZqWEAAAAAAAFxeQM3MzMzMJmJAmpmZmZkfZUBmZmZmZhhoQDMzMzMzEWtAAAAAAAAKbkBmZmZmZoFwQM3MzMzM/XFAMzMzMzN6c0CamZmZmfZ0QAAAAAAAc3ZAZmZmZmbvd0DNzMzMzGt5QDMzMzMz6HpAmpmZmZlkfEAAAAAAAOF9QGZmZmZmXX9AZmZmZuZsgECamZmZGSuBQM3MzMxM6YFAAAAAAICngkAzMzMzs2WDQGZmZmbmI4RAmpmZmRnihEDNzMzMTKCFQAAAAACAXoZAMzMzM7Mch0BmZmZm5tqHQJqZmZkZmYhAzczMzExXiUAAAAAAgBWKQDMzMzOz04pAZmZmZuaRi0CamZmZGVCMQM3MzMxMDo1AAAAAAIDMjUAzMzMzs4qOQGZmZmbmSI9A\",\"dtype\":\"float64\",\"shape\":[75]}},\"selected\":{\"id\":\"f6b07e78-58e9-4fb4-9d2f-440ef848d352\",\"type\":\"Selection\"},\"selection_policy\":{\"id\":\"ff8962bf-1898-4fd2-931e-6e3c497263ed\",\"type\":\"UnionRenderers\"}},\"id\":\"c748c4e2-cccb-469e-9b7a-51c824fcb655\",\"type\":\"ColumnDataSource\"},{\"attributes\":{\"fill_alpha\":{\"value\":0.7},\"fill_color\":{\"value\":\"#4daf4a\"},\"line_alpha\":{\"value\":0.7},\"line_color\":{\"value\":\"#4daf4a\"},\"x\":{\"field\":\"x\"},\"y\":{\"field\":\"y\"}},\"id\":\"85397750-5836-49d1-8cb0-5b5f200441dc\",\"type\":\"Circle\"},{\"attributes\":{\"data_source\":{\"id\":\"d836979b-5319-44c0-b32d-fd2bcdbaa548\",\"type\":\"ColumnDataSource\"},\"glyph\":{\"id\":\"75f85456-bf69-4c15-af89-b46d2d831717\",\"type\":\"Line\"},\"hover_glyph\":null,\"muted_glyph\":null,\"nonselection_glyph\":{\"id\":\"1ba40355-2985-472c-8b32-93ea0e610b27\",\"type\":\"Line\"},\"selection_glyph\":null,\"view\":{\"id\":\"4270382c-00cc-47ff-921d-c9ef39db51b8\",\"type\":\"CDSView\"}},\"id\":\"5a836dda-74f9-4253-a177-ca6a2dda2d93\",\"type\":\"GlyphRenderer\"},{\"attributes\":{\"fill_alpha\":{\"value\":0.1},\"fill_color\":{\"value\":\"#1f77b4\"},\"line_alpha\":{\"value\":0.1},\"line_color\":{\"value\":\"#1f77b4\"},\"x\":{\"field\":\"x\"},\"y\":{\"field\":\"y\"}},\"id\":\"601bd00d-a41c-4efa-8c09-20f530ece26d\",\"type\":\"Triangle\"},{\"attributes\":{\"line_alpha\":0.1,\"line_color\":\"#1f77b4\",\"line_width\":3,\"x\":{\"field\":\"x\"},\"y\":{\"field\":\"y\"}},\"id\":\"1ba40355-2985-472c-8b32-93ea0e610b27\",\"type\":\"Line\"},{\"attributes\":{},\"id\":\"838d36a9-ba4f-424c-8e93-7a7bc5104cd2\",\"type\":\"SaveTool\"},{\"attributes\":{\"callback\":null,\"data\":{\"x\":{\"__ndarray__\":\"z2qR0xRxw77o8rRlV4fDvjws+isxt8O+GxA7JNbnw74YSPpCTRjEvqI0UGpNR8S+4eebsdx0xL5oQCz4PaHEvpkR+l83zMS+Gyyabnn1xL5BdMgRGB3Fvm0IQc4gQ8W++BLCrlRnxb5mdvgx8ovFvvTdn3R85sW+1oE/4y9Ixr5QQVWRyMHEvmiFQSfkQr6+InSx5+d6lr7lHGS2uvnDPrMUgGPLSN0+h/Chd//97T55/0UGo9b3PlEH2LeEsvg+IM4Euqd98T7GjL/7vuPkPjkzJdseJdU+e76LBBImvT5LuMy2HA+WvmLIlNih1rq+dPVDhzgTxL4hak38LvTHvsM97tE96sm+QATDkSwYy74FOuVM/RHMvul8Boa7+My+hwHZkJX8zb6Q8wNMWhvPvpny8eBhEdC+LqtbUEhV0b6OEJjjGfHbvhxR3zcPT/O+LGt1/+LOBb8TPSXPxK0Uv9tM+QHKsyC/yO6nqmhwI7/zR8u+hyQivwNNUdC54Be/gJMSpUja6D5OPhDyYBUpP9QBA3rjyT4/KEVqza7uSz8Nqaa9aCZWP5FRS0AkUmA/CDmc+WDjZj/Uww0ba/FuPyQr6yaBVnQ/o/ZmicpVez+GNurs3u2BP30JJpHV2oY/sKZUAAp5jD9e5SkkQmeRP6cN66tC+pQ/qOkXCm8GmT+fub/lLpydPxf1uh50ZKE/8i3SmXJEpD+KbLjnuFynP3ojwiHFkKo/mjdTl5LMrT9gQ2hgt4ewP4pORNg9MrI/MGolm8zrsz/KRDwbM761P7h3nY+Itbc/\",\"dtype\":\"float64\",\"shape\":[75]},\"y\":{\"__ndarray__\":\"GhExyth1ND/Sv8nbtpRIP2vylNV0PVE/aTum7souWD/At0SJ8fVgPw3Iuahxymc/MSNhhJWvcD/bTfBN02d3P2zb5nxnaoA/CD5h5MAGhz8NmeH1TyaQP+zrCsc9p5Y/LbKd76fGnz/bLW5ISEmmPww9YvTcQq8/JV2OstnstT8Er5Y7M8G+P0c+r3jqkcU/5h99k6ZBzj88bCIzFzjVP4enV8oyxN0//yH99nXg5D8qOpLLf0jtP5kqGJXUifQ/c9cS8kHP/D+/DpwzojQEQIEmwoanVwxA4lgXt9HgE0BSSZ2AJuIbQAMJih9jjiNA5q4l5INuK0AwTKYKRj0zQNv5fmq8/DpAaCJseHrtQkB/+zpwzoxKQM3MzMzMeFJAZmZmZmZqWEAAAAAAAFxeQM3MzMzMJmJAmpmZmZkfZUBmZmZmZhhoQDMzMzMzEWtAAAAAAAAKbkBmZmZmZoFwQM3MzMzM/XFAMzMzMzN6c0CamZmZmfZ0QAAAAAAAc3ZAZmZmZmbvd0DNzMzMzGt5QDMzMzMz6HpAmpmZmZlkfEAAAAAAAOF9QGZmZmZmXX9AZmZmZuZsgECamZmZGSuBQM3MzMxM6YFAAAAAAICngkAzMzMzs2WDQGZmZmbmI4RAmpmZmRnihEDNzMzMTKCFQAAAAACAXoZAMzMzM7Mch0BmZmZm5tqHQJqZmZkZmYhAzczMzExXiUAAAAAAgBWKQDMzMzOz04pAZmZmZuaRi0CamZmZGVCMQM3MzMxMDo1AAAAAAIDMjUAzMzMzs4qOQGZmZmbmSI9A\",\"dtype\":\"float64\",\"shape\":[75]}},\"selected\":{\"id\":\"014ea4d7-704f-42bb-b42f-33bee0e80e31\",\"type\":\"Selection\"},\"selection_policy\":{\"id\":\"620f3995-cb2b-47e2-84e3-3ad20a53477d\",\"type\":\"UnionRenderers\"}},\"id\":\"1f892e3a-7fec-431b-b9e3-7bc5e8cb67a2\",\"type\":\"ColumnDataSource\"},{\"attributes\":{},\"id\":\"78b6990b-ea40-4e17-b6b6-2078e9f57bcf\",\"type\":\"HelpTool\"},{\"attributes\":{\"fill_alpha\":{\"value\":0.7},\"fill_color\":{\"value\":\"#377eb8\"},\"line_alpha\":{\"value\":0.7},\"line_color\":{\"value\":\"#377eb8\"},\"x\":{\"field\":\"x\"},\"y\":{\"field\":\"y\"}},\"id\":\"56c90948-9e62-4c48-9b5a-4044693d8a9d\",\"type\":\"Triangle\"},{\"attributes\":{\"overlay\":{\"id\":\"75817ccf-59b4-41ad-8257-48e2e1115995\",\"type\":\"BoxAnnotation\"}},\"id\":\"81978a00-929c-4434-abb2-7934db8f203b\",\"type\":\"BoxZoomTool\"},{\"attributes\":{\"callback\":null,\"data\":{\"x\":{\"__ndarray__\":\"z2qR0xRxw77o8rRlV4fDvjws+isxt8O+GxA7JNbnw74YSPpCTRjEvqI0UGpNR8S+4eebsdx0xL5oQCz4PaHEvpkR+l83zMS+Gyyabnn1xL5BdMgRGB3Fvm0IQc4gQ8W++BLCrlRnxb5mdvgx8ovFvvTdn3R85sW+1oE/4y9Ixr5QQVWRyMHEvmiFQSfkQr6+InSx5+d6lr7lHGS2uvnDPrMUgGPLSN0+h/Chd//97T55/0UGo9b3PlEH2LeEsvg+IM4Euqd98T7GjL/7vuPkPjkzJdseJdU+e76LBBImvT5LuMy2HA+WvmLIlNih1rq+dPVDhzgTxL4hak38LvTHvsM97tE96sm+QATDkSwYy74FOuVM/RHMvul8Boa7+My+hwHZkJX8zb6Q8wNMWhvPvpny8eBhEdC+LqtbUEhV0b6OEJjjGfHbvhxR3zcPT/O+LGt1/+LOBb8TPSXPxK0Uv9tM+QHKsyC/yO6nqmhwI7/zR8u+hyQivwNNUdC54Be/gJMSpUja6D5OPhDyYBUpP9QBA3rjyT4/KEVqza7uSz8Nqaa9aCZWP5FRS0AkUmA/CDmc+WDjZj/Uww0ba/FuPyQr6yaBVnQ/o/ZmicpVez+GNurs3u2BP30JJpHV2oY/sKZUAAp5jD9e5SkkQmeRP6cN66tC+pQ/qOkXCm8GmT+fub/lLpydPxf1uh50ZKE/8i3SmXJEpD+KbLjnuFynP3ojwiHFkKo/mjdTl5LMrT9gQ2hgt4ewP4pORNg9MrI/MGolm8zrsz/KRDwbM761P7h3nY+Itbc/\",\"dtype\":\"float64\",\"shape\":[75]},\"y\":{\"__ndarray__\":\"GhExyth1ND/Sv8nbtpRIP2vylNV0PVE/aTum7souWD/At0SJ8fVgPw3Iuahxymc/MSNhhJWvcD/bTfBN02d3P2zb5nxnaoA/CD5h5MAGhz8NmeH1TyaQP+zrCsc9p5Y/LbKd76fGnz/bLW5ISEmmPww9YvTcQq8/JV2OstnstT8Er5Y7M8G+P0c+r3jqkcU/5h99k6ZBzj88bCIzFzjVP4enV8oyxN0//yH99nXg5D8qOpLLf0jtP5kqGJXUifQ/c9cS8kHP/D+/DpwzojQEQIEmwoanVwxA4lgXt9HgE0BSSZ2AJuIbQAMJih9jjiNA5q4l5INuK0AwTKYKRj0zQNv5fmq8/DpAaCJseHrtQkB/+zpwzoxKQM3MzMzMeFJAZmZmZmZqWEAAAAAAAFxeQM3MzMzMJmJAmpmZmZkfZUBmZmZmZhhoQDMzMzMzEWtAAAAAAAAKbkBmZmZmZoFwQM3MzMzM/XFAMzMzMzN6c0CamZmZmfZ0QAAAAAAAc3ZAZmZmZmbvd0DNzMzMzGt5QDMzMzMz6HpAmpmZmZlkfEAAAAAAAOF9QGZmZmZmXX9AZmZmZuZsgECamZmZGSuBQM3MzMxM6YFAAAAAAICngkAzMzMzs2WDQGZmZmbmI4RAmpmZmRnihEDNzMzMTKCFQAAAAACAXoZAMzMzM7Mch0BmZmZm5tqHQJqZmZkZmYhAzczMzExXiUAAAAAAgBWKQDMzMzOz04pAZmZmZuaRi0CamZmZGVCMQM3MzMxMDo1AAAAAAIDMjUAzMzMzs4qOQGZmZmbmSI9A\",\"dtype\":\"float64\",\"shape\":[75]}},\"selected\":{\"id\":\"d15100e4-da39-4d3b-8fc1-b4918d69b2aa\",\"type\":\"Selection\"},\"selection_policy\":{\"id\":\"1f3bbe20-6091-4461-89a2-f98a03253523\",\"type\":\"UnionRenderers\"}},\"id\":\"2d9aec36-7bd3-4e82-8a39-81530114b96f\",\"type\":\"ColumnDataSource\"},{\"attributes\":{\"data_source\":{\"id\":\"1f892e3a-7fec-431b-b9e3-7bc5e8cb67a2\",\"type\":\"ColumnDataSource\"},\"glyph\":{\"id\":\"56c90948-9e62-4c48-9b5a-4044693d8a9d\",\"type\":\"Triangle\"},\"hover_glyph\":null,\"muted_glyph\":null,\"nonselection_glyph\":{\"id\":\"601bd00d-a41c-4efa-8c09-20f530ece26d\",\"type\":\"Triangle\"},\"selection_glyph\":null,\"view\":{\"id\":\"d213597f-4a2a-4f6d-81ca-1f08fca929a9\",\"type\":\"CDSView\"}},\"id\":\"b5b1b1d7-5000-46ac-8ba2-e386ed91331f\",\"type\":\"GlyphRenderer\"},{\"attributes\":{},\"id\":\"1578ffaf-dc43-402c-b809-55e04ccf61be\",\"type\":\"WheelZoomTool\"},{\"attributes\":{\"source\":{\"id\":\"1f892e3a-7fec-431b-b9e3-7bc5e8cb67a2\",\"type\":\"ColumnDataSource\"}},\"id\":\"d213597f-4a2a-4f6d-81ca-1f08fca929a9\",\"type\":\"CDSView\"},{\"attributes\":{\"callback\":null,\"end\":6.6018085746e-05,\"start\":-8.171996346e-06},\"id\":\"73756a41-8128-435d-904d-edfae94ca86c\",\"type\":\"Range1d\"},{\"attributes\":{\"source\":{\"id\":\"01df33e5-bc81-4123-8c2a-7256b3d2aaf9\",\"type\":\"ColumnDataSource\"}},\"id\":\"3421a834-e83a-49f1-8644-b31141b8a509\",\"type\":\"CDSView\"},{\"attributes\":{\"children\":[{\"id\":\"b7a6a8f8-336b-4c2d-b6f8-463bd40ab433\",\"type\":\"Row\"}]},\"id\":\"d940e5dd-c773-4836-a73c-5795c33b3692\",\"type\":\"Column\"},{\"attributes\":{\"data_source\":{\"id\":\"3f31b621-02f0-4843-91eb-ab1888b32933\",\"type\":\"ColumnDataSource\"},\"glyph\":{\"id\":\"23a8bb05-76ac-471d-af22-e1d8e373bf03\",\"type\":\"Line\"},\"hover_glyph\":null,\"muted_glyph\":null,\"nonselection_glyph\":{\"id\":\"17301fda-915b-40ac-8ffe-c26a08d721cd\",\"type\":\"Line\"},\"selection_glyph\":null,\"view\":{\"id\":\"f52cbc1d-e2f0-4608-bd47-fc5a58164a00\",\"type\":\"CDSView\"}},\"id\":\"64bac66e-54d7-4e10-908a-437188d14d52\",\"type\":\"GlyphRenderer\"},{\"attributes\":{\"fill_alpha\":{\"value\":0.7},\"fill_color\":{\"value\":\"#377eb8\"},\"line_alpha\":{\"value\":0.7},\"line_color\":{\"value\":\"#377eb8\"},\"x\":{\"field\":\"x\"},\"y\":{\"field\":\"y\"}},\"id\":\"b5031f0d-cf0f-48d7-a89d-908624b40348\",\"type\":\"Triangle\"},{\"attributes\":{\"callback\":null,\"data\":{\"x\":{\"__ndarray__\":\"z2qR0xRxw77o8rRlV4fDvjws+isxt8O+GxA7JNbnw74YSPpCTRjEvqI0UGpNR8S+4eebsdx0xL5oQCz4PaHEvpkR+l83zMS+Gyyabnn1xL5BdMgRGB3Fvm0IQc4gQ8W++BLCrlRnxb5mdvgx8ovFvvTdn3R85sW+1oE/4y9Ixr5QQVWRyMHEvmiFQSfkQr6+InSx5+d6lr7lHGS2uvnDPrMUgGPLSN0+h/Chd//97T55/0UGo9b3PlEH2LeEsvg+IM4Euqd98T7GjL/7vuPkPjkzJdseJdU+e76LBBImvT5LuMy2HA+WvmLIlNih1rq+dPVDhzgTxL4hak38LvTHvsM97tE96sm+QATDkSwYy74FOuVM/RHMvul8Boa7+My+hwHZkJX8zb6Q8wNMWhvPvpny8eBhEdC+LqtbUEhV0b6OEJjjGfHbvhxR3zcPT/O+LGt1/+LOBb8TPSXPxK0Uv9tM+QHKsyC/yO6nqmhwI7/zR8u+hyQivwNNUdC54Be/gJMSpUja6D5OPhDyYBUpP9QBA3rjyT4/KEVqza7uSz8Nqaa9aCZWP5FRS0AkUmA/CDmc+WDjZj/Uww0ba/FuPyQr6yaBVnQ/o/ZmicpVez+GNurs3u2BP30JJpHV2oY/sKZUAAp5jD9e5SkkQmeRP6cN66tC+pQ/qOkXCm8GmT+fub/lLpydPxf1uh50ZKE/8i3SmXJEpD+KbLjnuFynP3ojwiHFkKo/mjdTl5LMrT9gQ2hgt4ewP4pORNg9MrI/MGolm8zrsz/KRDwbM761P7h3nY+Itbc/\",\"dtype\":\"float64\",\"shape\":[75]},\"y\":{\"__ndarray__\":\"GhExyth1ND/Sv8nbtpRIP2vylNV0PVE/aTum7souWD/At0SJ8fVgPw3Iuahxymc/MSNhhJWvcD/bTfBN02d3P2zb5nxnaoA/CD5h5MAGhz8NmeH1TyaQP+zrCsc9p5Y/LbKd76fGnz/bLW5ISEmmPww9YvTcQq8/JV2OstnstT8Er5Y7M8G+P0c+r3jqkcU/5h99k6ZBzj88bCIzFzjVP4enV8oyxN0//yH99nXg5D8qOpLLf0jtP5kqGJXUifQ/c9cS8kHP/D+/DpwzojQEQIEmwoanVwxA4lgXt9HgE0BSSZ2AJuIbQAMJih9jjiNA5q4l5INuK0AwTKYKRj0zQNv5fmq8/DpAaCJseHrtQkB/+zpwzoxKQM3MzMzMeFJAZmZmZmZqWEAAAAAAAFxeQM3MzMzMJmJAmpmZmZkfZUBmZmZmZhhoQDMzMzMzEWtAAAAAAAAKbkBmZmZmZoFwQM3MzMzM/XFAMzMzMzN6c0CamZmZmfZ0QAAAAAAAc3ZAZmZmZmbvd0DNzMzMzGt5QDMzMzMz6HpAmpmZmZlkfEAAAAAAAOF9QGZmZmZmXX9AZmZmZuZsgECamZmZGSuBQM3MzMxM6YFAAAAAAICngkAzMzMzs2WDQGZmZmbmI4RAmpmZmRnihEDNzMzMTKCFQAAAAACAXoZAMzMzM7Mch0BmZmZm5tqHQJqZmZkZmYhAzczMzExXiUAAAAAAgBWKQDMzMzOz04pAZmZmZuaRi0CamZmZGVCMQM3MzMxMDo1AAAAAAIDMjUAzMzMzs4qOQGZmZmbmSI9A\",\"dtype\":\"float64\",\"shape\":[75]}},\"selected\":{\"id\":\"acb532d7-6dd2-4d12-8b06-ab83fad17f7f\",\"type\":\"Selection\"},\"selection_policy\":{\"id\":\"5444b319-38e8-4268-ad95-9f4cb46a761d\",\"type\":\"UnionRenderers\"}},\"id\":\"5a5b3b2f-b500-4442-bc9d-9672b42ac7f4\",\"type\":\"ColumnDataSource\"},{\"attributes\":{\"data_source\":{\"id\":\"5a5b3b2f-b500-4442-bc9d-9672b42ac7f4\",\"type\":\"ColumnDataSource\"},\"glyph\":{\"id\":\"b5031f0d-cf0f-48d7-a89d-908624b40348\",\"type\":\"Triangle\"},\"hover_glyph\":null,\"muted_glyph\":null,\"nonselection_glyph\":{\"id\":\"8241a812-6ed0-44dc-b104-ca5fd8c604ec\",\"type\":\"Triangle\"},\"selection_glyph\":null,\"view\":{\"id\":\"37ec1657-0655-48cb-ad1e-c8f567a5322e\",\"type\":\"CDSView\"}},\"id\":\"ac09dfbd-1173-481d-9100-b95eba83c345\",\"type\":\"GlyphRenderer\"},{\"attributes\":{},\"id\":\"522b8cf1-b66c-4bc2-8d5d-a7e4a75ba058\",\"type\":\"UnionRenderers\"},{\"attributes\":{\"callback\":null,\"data\":{\"x\":{\"__ndarray__\":\"z2qR0xRxw77o8rRlV4fDvjws+isxt8O+GxA7JNbnw74YSPpCTRjEvqI0UGpNR8S+4eebsdx0xL5oQCz4PaHEvpkR+l83zMS+Gyyabnn1xL5BdMgRGB3Fvm0IQc4gQ8W++BLCrlRnxb5mdvgx8ovFvvTdn3R85sW+1oE/4y9Ixr5QQVWRyMHEvmiFQSfkQr6+InSx5+d6lr7lHGS2uvnDPrMUgGPLSN0+h/Chd//97T55/0UGo9b3PlEH2LeEsvg+IM4Euqd98T7GjL/7vuPkPjkzJdseJdU+e76LBBImvT5LuMy2HA+WvmLIlNih1rq+dPVDhzgTxL4hak38LvTHvsM97tE96sm+QATDkSwYy74FOuVM/RHMvul8Boa7+My+hwHZkJX8zb6Q8wNMWhvPvpny8eBhEdC+LqtbUEhV0b6OEJjjGfHbvhxR3zcPT/O+LGt1/+LOBb8TPSXPxK0Uv9tM+QHKsyC/yO6nqmhwI7/zR8u+hyQivwNNUdC54Be/gJMSpUja6D5OPhDyYBUpP9QBA3rjyT4/KEVqza7uSz8Nqaa9aCZWP5FRS0AkUmA/CDmc+WDjZj/Uww0ba/FuPyQr6yaBVnQ/o/ZmicpVez+GNurs3u2BP30JJpHV2oY/sKZUAAp5jD9e5SkkQmeRP6cN66tC+pQ/qOkXCm8GmT+fub/lLpydPxf1uh50ZKE/8i3SmXJEpD+KbLjnuFynP3ojwiHFkKo/mjdTl5LMrT9gQ2hgt4ewP4pORNg9MrI/MGolm8zrsz/KRDwbM761P7h3nY+Itbc/\",\"dtype\":\"float64\",\"shape\":[75]},\"y\":{\"__ndarray__\":\"GhExyth1ND/Sv8nbtpRIP2vylNV0PVE/aTum7souWD/At0SJ8fVgPw3Iuahxymc/MSNhhJWvcD/bTfBN02d3P2zb5nxnaoA/CD5h5MAGhz8NmeH1TyaQP+zrCsc9p5Y/LbKd76fGnz/bLW5ISEmmPww9YvTcQq8/JV2OstnstT8Er5Y7M8G+P0c+r3jqkcU/5h99k6ZBzj88bCIzFzjVP4enV8oyxN0//yH99nXg5D8qOpLLf0jtP5kqGJXUifQ/c9cS8kHP/D+/DpwzojQEQIEmwoanVwxA4lgXt9HgE0BSSZ2AJuIbQAMJih9jjiNA5q4l5INuK0AwTKYKRj0zQNv5fmq8/DpAaCJseHrtQkB/+zpwzoxKQM3MzMzMeFJAZmZmZmZqWEAAAAAAAFxeQM3MzMzMJmJAmpmZmZkfZUBmZmZmZhhoQDMzMzMzEWtAAAAAAAAKbkBmZmZmZoFwQM3MzMzM/XFAMzMzMzN6c0CamZmZmfZ0QAAAAAAAc3ZAZmZmZmbvd0DNzMzMzGt5QDMzMzMz6HpAmpmZmZlkfEAAAAAAAOF9QGZmZmZmXX9AZmZmZuZsgECamZmZGSuBQM3MzMxM6YFAAAAAAICngkAzMzMzs2WDQGZmZmbmI4RAmpmZmRnihEDNzMzMTKCFQAAAAACAXoZAMzMzM7Mch0BmZmZm5tqHQJqZmZkZmYhAzczMzExXiUAAAAAAgBWKQDMzMzOz04pAZmZmZuaRi0CamZmZGVCMQM3MzMxMDo1AAAAAAIDMjUAzMzMzs4qOQGZmZmbmSI9A\",\"dtype\":\"float64\",\"shape\":[75]}},\"selected\":{\"id\":\"db5ee0f7-f040-4935-b834-d745c21e2d64\",\"type\":\"Selection\"},\"selection_policy\":{\"id\":\"22a406b8-67da-4b2c-83d2-ca00941f83e5\",\"type\":\"UnionRenderers\"}},\"id\":\"3f31b621-02f0-4843-91eb-ab1888b32933\",\"type\":\"ColumnDataSource\"},{\"attributes\":{},\"id\":\"3846e06e-2bf6-4894-9668-df6bd369f914\",\"type\":\"BasicTickFormatter\"},{\"attributes\":{\"bottom_units\":\"screen\",\"fill_alpha\":{\"value\":0.5},\"fill_color\":{\"value\":\"lightgrey\"},\"left_units\":\"screen\",\"level\":\"overlay\",\"line_alpha\":{\"value\":1.0},\"line_color\":{\"value\":\"black\"},\"line_dash\":[4,4],\"line_width\":{\"value\":2},\"plot\":null,\"render_mode\":\"css\",\"right_units\":\"screen\",\"top_units\":\"screen\"},\"id\":\"56ada9e0-f30f-4221-ac15-cea27fd4494a\",\"type\":\"BoxAnnotation\"},{\"attributes\":{\"fill_alpha\":{\"value\":0.1},\"fill_color\":{\"value\":\"#1f77b4\"},\"line_alpha\":{\"value\":0.1},\"line_color\":{\"value\":\"#1f77b4\"},\"x\":{\"field\":\"x\"},\"y\":{\"field\":\"y\"}},\"id\":\"8241a812-6ed0-44dc-b104-ca5fd8c604ec\",\"type\":\"Triangle\"},{\"attributes\":{\"line_alpha\":0.3,\"line_color\":\"#377eb8\",\"line_width\":2,\"x\":{\"field\":\"x\"},\"y\":{\"field\":\"y\"}},\"id\":\"23a8bb05-76ac-471d-af22-e1d8e373bf03\",\"type\":\"Line\"},{\"attributes\":{\"source\":{\"id\":\"3f31b621-02f0-4843-91eb-ab1888b32933\",\"type\":\"ColumnDataSource\"}},\"id\":\"f52cbc1d-e2f0-4608-bd47-fc5a58164a00\",\"type\":\"CDSView\"},{\"attributes\":{\"items\":[{\"id\":\"6be039ee-aa3a-4805-bbb6-6814bb83b9ed\",\"type\":\"LegendItem\"},{\"id\":\"47126ceb-3331-439f-8d45-9741e64a9045\",\"type\":\"LegendItem\"},{\"id\":\"96b0dd15-3a16-4e29-ab04-a69fc743dbd7\",\"type\":\"LegendItem\"}],\"label_text_font_size\":{\"value\":\"8pt\"},\"location\":\"top_center\",\"orientation\":\"horizontal\",\"plot\":{\"id\":\"eb84b31c-4be6-4764-8be3-42741f84599e\",\"subtype\":\"Figure\",\"type\":\"Plot\"}},\"id\":\"7572669b-b618-4fe9-af4b-ecbaf6cfbed5\",\"type\":\"Legend\"},{\"attributes\":{\"plot\":null,\"text\":\"\"},\"id\":\"47b01d57-0673-4943-83e1-2181e558d9ce\",\"type\":\"Title\"},{\"attributes\":{\"label\":{\"value\":\"WGT igg=1\"},\"renderers\":[{\"id\":\"ad31ff50-1dc1-4aab-89f4-4ad9c70019fe\",\"type\":\"GlyphRenderer\"},{\"id\":\"559ea5c1-35e1-4044-b771-2298c25f3daf\",\"type\":\"GlyphRenderer\"}]},\"id\":\"47126ceb-3331-439f-8d45-9741e64a9045\",\"type\":\"LegendItem\"},{\"attributes\":{\"source\":{\"id\":\"5a5b3b2f-b500-4442-bc9d-9672b42ac7f4\",\"type\":\"ColumnDataSource\"}},\"id\":\"37ec1657-0655-48cb-ad1e-c8f567a5322e\",\"type\":\"CDSView\"},{\"attributes\":{\"children\":[{\"id\":\"9f3d633e-4f83-4ec5-a219-ec9aaa96ab51\",\"subtype\":\"Figure\",\"type\":\"Plot\"},{\"id\":\"eb84b31c-4be6-4764-8be3-42741f84599e\",\"subtype\":\"Figure\",\"type\":\"Plot\"}]},\"id\":\"b7a6a8f8-336b-4c2d-b6f8-463bd40ab433\",\"type\":\"Row\"},{\"attributes\":{\"callback\":null,\"data\":{\"x\":{\"__ndarray__\":\"1YrOoDYMzr4BOuf2ZSDOvizYpLwFVM6+HiBmSf6Dzr7/8xkvH6vOvrtTRqod1M6+BPFnLx/3zr5v23zG5xXPvli59C5YLs++COysN1dDz77uA21+WVLPvmhftKw9XM++aeNw6cNfz75KKYCzFV3Pvu1Qh+MYKM++VjzUpaAFzb4OtaHYUmfEvtjPIWTu636+66TzkeW80T4V9Dpvun3oPvXm0/8m5fg+IHz66YQ2Bj/7yqWJR54QP5p8FDyWHRE/SBRZQ7MuCT/odMA4mT4AP7Q26lGUPvM+C+KGS6xi5D5UrRZXtXLRPjtR/Fl/qqY+kPXyt2YGur68iA2mdFTIvmr15rkK482+Gryrehg+0L5i1+jhkgDRvqO3uu9Yd9G+bDJ1FHHP0b6Js9S2IzLSvp9iNhPgktK+cZY04vrN077rEJ3GnznfvhQvUNZMtfS+SN+L2QwABr++kIR4/x8Tv1IZGeB2Khu/7LewhuIkGb/sedMSJBgIv+7rUSphsQ0/qrGJLERGLj95HNqJ20pAP0kjpQKJrUw/b7RuW8Q8Vj+N4MrpXApgP2f+iQomK2Y/YRcV1mWvbT/d1PELEmVzPwKAsrbG3Xg/wlKxdjplgD8pjuoR9i+FPylGgFVhs4o/qeb1TQF8kD8UFIQI//2TPxftnYzL45c/LH1etZYwnD/ubrvSpnGgP5PmSt4r/KI/u1zUENSupT+G+PU3sHKoP0qd5VGoKas/ZIKpRKPErT8ZY5+BCiewP/uZZYv3brE/ewtsG7fFsj+7m2whFjq0PzEbQ83H5rU/\",\"dtype\":\"float64\",\"shape\":[75]},\"y\":{\"__ndarray__\":\"GhExyth1ND/Sv8nbtpRIP2vylNV0PVE/aTum7souWD/At0SJ8fVgPw3Iuahxymc/MSNhhJWvcD/bTfBN02d3P2zb5nxnaoA/CD5h5MAGhz8NmeH1TyaQP+zrCsc9p5Y/LbKd76fGnz/bLW5ISEmmPww9YvTcQq8/JV2OstnstT8Er5Y7M8G+P0c+r3jqkcU/5h99k6ZBzj88bCIzFzjVP4enV8oyxN0//yH99nXg5D8qOpLLf0jtP5kqGJXUifQ/c9cS8kHP/D+/DpwzojQEQIEmwoanVwxA4lgXt9HgE0BSSZ2AJuIbQAMJih9jjiNA5q4l5INuK0AwTKYKRj0zQNv5fmq8/DpAaCJseHrtQkB/+zpwzoxKQM3MzMzMeFJAZmZmZmZqWEAAAAAAAFxeQM3MzMzMJmJAmpmZmZkfZUBmZmZmZhhoQDMzMzMzEWtAAAAAAAAKbkBmZmZmZoFwQM3MzMzM/XFAMzMzMzN6c0CamZmZmfZ0QAAAAAAAc3ZAZmZmZmbvd0DNzMzMzGt5QDMzMzMz6HpAmpmZmZlkfEAAAAAAAOF9QGZmZmZmXX9AZmZmZuZsgECamZmZGSuBQM3MzMxM6YFAAAAAAICngkAzMzMzs2WDQGZmZmbmI4RAmpmZmRnihEDNzMzMTKCFQAAAAACAXoZAMzMzM7Mch0BmZmZm5tqHQJqZmZkZmYhAzczMzExXiUAAAAAAgBWKQDMzMzOz04pAZmZmZuaRi0CamZmZGVCMQM3MzMxMDo1AAAAAAIDMjUAzMzMzs4qOQGZmZmbmSI9A\",\"dtype\":\"float64\",\"shape\":[75]}},\"selected\":{\"id\":\"e32219f5-92b8-430d-9037-d8db07e5a818\",\"type\":\"Selection\"},\"selection_policy\":{\"id\":\"1b33d769-238b-4a62-b23c-2bbcfb683595\",\"type\":\"UnionRenderers\"}},\"id\":\"f7d4b9c9-6f31-4421-989d-a2d49647a6a8\",\"type\":\"ColumnDataSource\"},{\"attributes\":{\"callback\":null,\"data\":{\"x\":{\"__ndarray__\":\"WfCD18ILxb45Ev51KSHFvhLVdNnhT8W+IJ42xip/xb6RITkYq6vFvrA0sVoD2MW+LDw2T5ACxr7kEeeOlCrGvqJHo1PhUMa+VLVGihd1xr6AndMkEJfGvn+0uYHMtsa+NQA1/yTUxr4AZ1uarvDGvvdH79W7Lse+k/t9ekobx75yS85McWPEvodNkLMYF7m+O6ibu25WnD6km5guOzXQPlQxJqGhH+Q+bZxZMOaE8z6//I+UUlf+Pl7tCEJ3ZP8+GJ5mQzuW9j6oao2iKt/rPhMozqRCOt4+72FkLmLayT6buVnMUYefPsV1m6JLi7O+m7zT1/2Mwr44EG7AwN/HvpO7SiuNsMq+YcCHIXZgzL6X+WYO27zNvl8ByCso886+uHnO/7IT0L6EPvPW/rDQvgZshvj4QNG+n2SczoCX0r4q2pHEUMDdvroi27oWPfS+AIbo0h1TBr/Fg6xUkoMUv6eLMX1LrB+/b0Xd9sEmIb86cDkk1l4bv8qsmluEigG/Y9DMn+jxGT9EERjasKw0PyoYNLiT0EQ/dU/ScZdYUT/rE0rGzCpaPxnXhHoxpGI/PiKZ7vWBaT/7YrJ4jO1wP7H4ibUl9XU/qPOT77M4fT/hjzIMXgeDPzTc/uC1J4g/oA6AAKYIjj9f9ykRYE2SP4BjhDWrBZY/fq5AMOM/mj+BoUz8OO6eP5RMtIY3FKI/DWvRG5rtpD9ZycQ2dPanP/owxdRSC6s/9qjI9M4grj8Dg7HR4Z6wP4k+1ronOLI/lHAnDhPksz+MLwodnLG1Pz1y2ut4rLc/\",\"dtype\":\"float64\",\"shape\":[75]},\"y\":{\"__ndarray__\":\"GhExyth1ND/Sv8nbtpRIP2vylNV0PVE/aTum7souWD/At0SJ8fVgPw3Iuahxymc/MSNhhJWvcD/bTfBN02d3P2zb5nxnaoA/CD5h5MAGhz8NmeH1TyaQP+zrCsc9p5Y/LbKd76fGnz/bLW5ISEmmPww9YvTcQq8/JV2OstnstT8Er5Y7M8G+P0c+r3jqkcU/5h99k6ZBzj88bCIzFzjVP4enV8oyxN0//yH99nXg5D8qOpLLf0jtP5kqGJXUifQ/c9cS8kHP/D+/DpwzojQEQIEmwoanVwxA4lgXt9HgE0BSSZ2AJuIbQAMJih9jjiNA5q4l5INuK0AwTKYKRj0zQNv5fmq8/DpAaCJseHrtQkB/+zpwzoxKQM3MzMzMeFJAZmZmZmZqWEAAAAAAAFxeQM3MzMzMJmJAmpmZmZkfZUBmZmZmZhhoQDMzMzMzEWtAAAAAAAAKbkBmZmZmZoFwQM3MzMzM/XFAMzMzMzN6c0CamZmZmfZ0QAAAAAAAc3ZAZmZmZmbvd0DNzMzMzGt5QDMzMzMz6HpAmpmZmZlkfEAAAAAAAOF9QGZmZmZmXX9AZmZmZuZsgECamZmZGSuBQM3MzMxM6YFAAAAAAICngkAzMzMzs2WDQGZmZmbmI4RAmpmZmRnihEDNzMzMTKCFQAAAAACAXoZAMzMzM7Mch0BmZmZm5tqHQJqZmZkZmYhAzczMzExXiUAAAAAAgBWKQDMzMzOz04pAZmZmZuaRi0CamZmZGVCMQM3MzMxMDo1AAAAAAIDMjUAzMzMzs4qOQGZmZmbmSI9A\",\"dtype\":\"float64\",\"shape\":[75]}},\"selected\":{\"id\":\"f33d86f3-ff42-438e-9217-b8c7ccda7fa3\",\"type\":\"Selection\"},\"selection_policy\":{\"id\":\"e2f7beb6-1045-445c-b5c1-86428e3e7145\",\"type\":\"UnionRenderers\"}},\"id\":\"01df33e5-bc81-4123-8c2a-7256b3d2aaf9\",\"type\":\"ColumnDataSource\"},{\"attributes\":{\"label\":{\"value\":\"CRD\"},\"renderers\":[{\"id\":\"709d8fac-68c5-4688-8a66-661aa4be9cd2\",\"type\":\"GlyphRenderer\"},{\"id\":\"0f90fdd7-d912-4c4e-82d0-84d2e7a12ee1\",\"type\":\"GlyphRenderer\"}]},\"id\":\"6be039ee-aa3a-4805-bbb6-6814bb83b9ed\",\"type\":\"LegendItem\"},{\"attributes\":{\"line_alpha\":0.1,\"line_color\":\"#1f77b4\",\"line_width\":2,\"x\":{\"field\":\"x\"},\"y\":{\"field\":\"y\"}},\"id\":\"17301fda-915b-40ac-8ffe-c26a08d721cd\",\"type\":\"Line\"},{\"attributes\":{\"line_alpha\":0.1,\"line_color\":\"#1f77b4\",\"line_width\":1.5,\"x\":{\"field\":\"x\"},\"y\":{\"field\":\"y\"}},\"id\":\"83188078-8e2b-4a5b-a8de-8fcfe623c06a\",\"type\":\"Line\"},{\"attributes\":{\"line_color\":\"#4daf4a\",\"line_width\":1.5,\"x\":{\"field\":\"x\"},\"y\":{\"field\":\"y\"}},\"id\":\"93810a68-28ec-4d08-ae51-0ab80db32cd2\",\"type\":\"Line\"},{\"attributes\":{},\"id\":\"014ea4d7-704f-42bb-b42f-33bee0e80e31\",\"type\":\"Selection\"},{\"attributes\":{\"label\":{\"value\":\"WGT igg=10\"},\"renderers\":[{\"id\":\"ac09dfbd-1173-481d-9100-b95eba83c345\",\"type\":\"GlyphRenderer\"},{\"id\":\"64bac66e-54d7-4e10-908a-437188d14d52\",\"type\":\"GlyphRenderer\"}]},\"id\":\"96b0dd15-3a16-4e29-ab04-a69fc743dbd7\",\"type\":\"LegendItem\"},{\"attributes\":{},\"id\":\"afcd63ac-07ff-4ad0-ac8f-bf3c3b24e0e7\",\"type\":\"BasicTickFormatter\"},{\"attributes\":{},\"id\":\"a922df5d-02f6-4b3f-be3e-107411796a6f\",\"type\":\"Selection\"},{\"attributes\":{},\"id\":\"862515aa-ccab-46a6-803d-e440e2fe8da0\",\"type\":\"Selection\"},{\"attributes\":{\"line_alpha\":0.6,\"line_color\":\"#984ea3\",\"line_width\":3,\"x\":{\"field\":\"x\"},\"y\":{\"field\":\"y\"}},\"id\":\"3036fb0f-fe14-4943-a971-737ffbf02d71\",\"type\":\"Line\"},{\"attributes\":{\"data_source\":{\"id\":\"f7d4b9c9-6f31-4421-989d-a2d49647a6a8\",\"type\":\"ColumnDataSource\"},\"glyph\":{\"id\":\"93810a68-28ec-4d08-ae51-0ab80db32cd2\",\"type\":\"Line\"},\"hover_glyph\":null,\"muted_glyph\":null,\"nonselection_glyph\":{\"id\":\"83188078-8e2b-4a5b-a8de-8fcfe623c06a\",\"type\":\"Line\"},\"selection_glyph\":null,\"view\":{\"id\":\"1dfa25df-27a5-43e9-81fa-95dadce550ba\",\"type\":\"CDSView\"}},\"id\":\"0f90fdd7-d912-4c4e-82d0-84d2e7a12ee1\",\"type\":\"GlyphRenderer\"},{\"attributes\":{\"data_source\":{\"id\":\"107a6274-c6e8-4421-86f2-514c189e9a3c\",\"type\":\"ColumnDataSource\"},\"glyph\":{\"id\":\"85397750-5836-49d1-8cb0-5b5f200441dc\",\"type\":\"Circle\"},\"hover_glyph\":null,\"muted_glyph\":null,\"nonselection_glyph\":{\"id\":\"ce0cf7ac-bab7-4091-aff3-b70e60a60a2d\",\"type\":\"Circle\"},\"selection_glyph\":null,\"view\":{\"id\":\"fc10e036-4d32-4796-a4a3-180cc3228003\",\"type\":\"CDSView\"}},\"id\":\"709d8fac-68c5-4688-8a66-661aa4be9cd2\",\"type\":\"GlyphRenderer\"},{\"attributes\":{\"callback\":null,\"data\":{\"x\":{\"__ndarray__\":\"WfCD18ILxb45Ev51KSHFvhLVdNnhT8W+IJ42xip/xb6RITkYq6vFvrA0sVoD2MW+LDw2T5ACxr7kEeeOlCrGvqJHo1PhUMa+VLVGihd1xr6AndMkEJfGvn+0uYHMtsa+NQA1/yTUxr4AZ1uarvDGvvdH79W7Lse+k/t9ekobx75yS85McWPEvodNkLMYF7m+O6ibu25WnD6km5guOzXQPlQxJqGhH+Q+bZxZMOaE8z6//I+UUlf+Pl7tCEJ3ZP8+GJ5mQzuW9j6oao2iKt/rPhMozqRCOt4+72FkLmLayT6buVnMUYefPsV1m6JLi7O+m7zT1/2Mwr44EG7AwN/HvpO7SiuNsMq+YcCHIXZgzL6X+WYO27zNvl8ByCso886+uHnO/7IT0L6EPvPW/rDQvgZshvj4QNG+n2SczoCX0r4q2pHEUMDdvroi27oWPfS+AIbo0h1TBr/Fg6xUkoMUv6eLMX1LrB+/b0Xd9sEmIb86cDkk1l4bv8qsmluEigG/Y9DMn+jxGT9EERjasKw0PyoYNLiT0EQ/dU/ScZdYUT/rE0rGzCpaPxnXhHoxpGI/PiKZ7vWBaT/7YrJ4jO1wP7H4ibUl9XU/qPOT77M4fT/hjzIMXgeDPzTc/uC1J4g/oA6AAKYIjj9f9ykRYE2SP4BjhDWrBZY/fq5AMOM/mj+BoUz8OO6eP5RMtIY3FKI/DWvRG5rtpD9ZycQ2dPanP/owxdRSC6s/9qjI9M4grj8Dg7HR4Z6wP4k+1ronOLI/lHAnDhPksz+MLwodnLG1Pz1y2ut4rLc/\",\"dtype\":\"float64\",\"shape\":[75]},\"y\":{\"__ndarray__\":\"GhExyth1ND/Sv8nbtpRIP2vylNV0PVE/aTum7souWD/At0SJ8fVgPw3Iuahxymc/MSNhhJWvcD/bTfBN02d3P2zb5nxnaoA/CD5h5MAGhz8NmeH1TyaQP+zrCsc9p5Y/LbKd76fGnz/bLW5ISEmmPww9YvTcQq8/JV2OstnstT8Er5Y7M8G+P0c+r3jqkcU/5h99k6ZBzj88bCIzFzjVP4enV8oyxN0//yH99nXg5D8qOpLLf0jtP5kqGJXUifQ/c9cS8kHP/D+/DpwzojQEQIEmwoanVwxA4lgXt9HgE0BSSZ2AJuIbQAMJih9jjiNA5q4l5INuK0AwTKYKRj0zQNv5fmq8/DpAaCJseHrtQkB/+zpwzoxKQM3MzMzMeFJAZmZmZmZqWEAAAAAAAFxeQM3MzMzMJmJAmpmZmZkfZUBmZmZmZhhoQDMzMzMzEWtAAAAAAAAKbkBmZmZmZoFwQM3MzMzM/XFAMzMzMzN6c0CamZmZmfZ0QAAAAAAAc3ZAZmZmZmbvd0DNzMzMzGt5QDMzMzMz6HpAmpmZmZlkfEAAAAAAAOF9QGZmZmZmXX9AZmZmZuZsgECamZmZGSuBQM3MzMxM6YFAAAAAAICngkAzMzMzs2WDQGZmZmbmI4RAmpmZmRnihEDNzMzMTKCFQAAAAACAXoZAMzMzM7Mch0BmZmZm5tqHQJqZmZkZmYhAzczMzExXiUAAAAAAgBWKQDMzMzOz04pAZmZmZuaRi0CamZmZGVCMQM3MzMxMDo1AAAAAAIDMjUAzMzMzs4qOQGZmZmbmSI9A\",\"dtype\":\"float64\",\"shape\":[75]}},\"selected\":{\"id\":\"0f4e969b-e205-4a26-9f67-c86014956961\",\"type\":\"Selection\"},\"selection_policy\":{\"id\":\"c513b70f-354d-4fc1-8b53-50993b98535f\",\"type\":\"UnionRenderers\"}},\"id\":\"9441646d-29b1-4884-990a-a8ee5df82139\",\"type\":\"ColumnDataSource\"},{\"attributes\":{},\"id\":\"b6843012-e310-421f-b65a-d65c96bf2271\",\"type\":\"Selection\"},{\"attributes\":{},\"id\":\"dd902a27-223a-49bc-8b4f-96ab7f76bbf9\",\"type\":\"ResetTool\"},{\"attributes\":{\"line_alpha\":0.1,\"line_color\":\"#1f77b4\",\"line_width\":3,\"x\":{\"field\":\"x\"},\"y\":{\"field\":\"y\"}},\"id\":\"cdea5edf-1fca-4ad7-94a7-00eb81944e75\",\"type\":\"Line\"},{\"attributes\":{\"callback\":null,\"end\":0.01,\"start\":1020},\"id\":\"4709a9e2-e69f-4bfd-b04e-992dadf7c90f\",\"type\":\"Range1d\"},{\"attributes\":{},\"id\":\"9cb41f69-3a2c-4ca7-a659-73a998720aec\",\"type\":\"HelpTool\"},{\"attributes\":{\"source\":{\"id\":\"9441646d-29b1-4884-990a-a8ee5df82139\",\"type\":\"ColumnDataSource\"}},\"id\":\"6f93f58d-4e60-401b-997f-a19e02a454f7\",\"type\":\"CDSView\"},{\"attributes\":{},\"id\":\"5ba24e5a-f9ac-46db-8e3e-47b545326ab5\",\"type\":\"SaveTool\"},{\"attributes\":{\"callback\":null,\"data\":{\"x\":{\"__ndarray__\":\"1YrOoDYMzr4BOuf2ZSDOvizYpLwFVM6+HiBmSf6Dzr7/8xkvH6vOvrtTRqod1M6+BPFnLx/3zr5v23zG5xXPvli59C5YLs++COysN1dDz77uA21+WVLPvmhftKw9XM++aeNw6cNfz75KKYCzFV3Pvu1Qh+MYKM++VjzUpaAFzb4OtaHYUmfEvtjPIWTu636+66TzkeW80T4V9Dpvun3oPvXm0/8m5fg+IHz66YQ2Bj/7yqWJR54QP5p8FDyWHRE/SBRZQ7MuCT/odMA4mT4AP7Q26lGUPvM+C+KGS6xi5D5UrRZXtXLRPjtR/Fl/qqY+kPXyt2YGur68iA2mdFTIvmr15rkK482+Gryrehg+0L5i1+jhkgDRvqO3uu9Yd9G+bDJ1FHHP0b6Js9S2IzLSvp9iNhPgktK+cZY04vrN077rEJ3GnznfvhQvUNZMtfS+SN+L2QwABr++kIR4/x8Tv1IZGeB2Khu/7LewhuIkGb/sedMSJBgIv+7rUSphsQ0/qrGJLERGLj95HNqJ20pAP0kjpQKJrUw/b7RuW8Q8Vj+N4MrpXApgP2f+iQomK2Y/YRcV1mWvbT/d1PELEmVzPwKAsrbG3Xg/wlKxdjplgD8pjuoR9i+FPylGgFVhs4o/qeb1TQF8kD8UFIQI//2TPxftnYzL45c/LH1etZYwnD/ubrvSpnGgP5PmSt4r/KI/u1zUENSupT+G+PU3sHKoP0qd5VGoKas/ZIKpRKPErT8ZY5+BCiewP/uZZYv3brE/ewtsG7fFsj+7m2whFjq0PzEbQ83H5rU/\",\"dtype\":\"float64\",\"shape\":[75]},\"y\":{\"__ndarray__\":\"GhExyth1ND/Sv8nbtpRIP2vylNV0PVE/aTum7souWD/At0SJ8fVgPw3Iuahxymc/MSNhhJWvcD/bTfBN02d3P2zb5nxnaoA/CD5h5MAGhz8NmeH1TyaQP+zrCsc9p5Y/LbKd76fGnz/bLW5ISEmmPww9YvTcQq8/JV2OstnstT8Er5Y7M8G+P0c+r3jqkcU/5h99k6ZBzj88bCIzFzjVP4enV8oyxN0//yH99nXg5D8qOpLLf0jtP5kqGJXUifQ/c9cS8kHP/D+/DpwzojQEQIEmwoanVwxA4lgXt9HgE0BSSZ2AJuIbQAMJih9jjiNA5q4l5INuK0AwTKYKRj0zQNv5fmq8/DpAaCJseHrtQkB/+zpwzoxKQM3MzMzMeFJAZmZmZmZqWEAAAAAAAFxeQM3MzMzMJmJAmpmZmZkfZUBmZmZmZhhoQDMzMzMzEWtAAAAAAAAKbkBmZmZmZoFwQM3MzMzM/XFAMzMzMzN6c0CamZmZmfZ0QAAAAAAAc3ZAZmZmZmbvd0DNzMzMzGt5QDMzMzMz6HpAmpmZmZlkfEAAAAAAAOF9QGZmZmZmXX9AZmZmZuZsgECamZmZGSuBQM3MzMxM6YFAAAAAAICngkAzMzMzs2WDQGZmZmbmI4RAmpmZmRnihEDNzMzMTKCFQAAAAACAXoZAMzMzM7Mch0BmZmZm5tqHQJqZmZkZmYhAzczMzExXiUAAAAAAgBWKQDMzMzOz04pAZmZmZuaRi0CamZmZGVCMQM3MzMxMDo1AAAAAAIDMjUAzMzMzs4qOQGZmZmbmSI9A\",\"dtype\":\"float64\",\"shape\":[75]}},\"selected\":{\"id\":\"d31ddb03-6b64-4ff5-85ab-133cb39be3ad\",\"type\":\"Selection\"},\"selection_policy\":{\"id\":\"68eb9a85-6dcc-4008-97fe-2de0dc3a4e1e\",\"type\":\"UnionRenderers\"}},\"id\":\"107a6274-c6e8-4421-86f2-514c189e9a3c\",\"type\":\"ColumnDataSource\"},{\"attributes\":{\"fill_alpha\":{\"value\":0.1},\"fill_color\":{\"value\":\"#1f77b4\"},\"line_alpha\":{\"value\":0.1},\"line_color\":{\"value\":\"#1f77b4\"},\"x\":{\"field\":\"x\"},\"y\":{\"field\":\"y\"}},\"id\":\"c76c69b5-d599-4ecd-8f2c-646045608235\",\"type\":\"Square\"},{\"attributes\":{\"fill_alpha\":{\"value\":0.7},\"fill_color\":{\"value\":\"#984ea3\"},\"line_alpha\":{\"value\":0.7},\"line_color\":{\"value\":\"#984ea3\"},\"x\":{\"field\":\"x\"},\"y\":{\"field\":\"y\"}},\"id\":\"1ec821ef-b872-4ed8-99b7-0bc90ad570b3\",\"type\":\"Square\"},{\"attributes\":{\"data_source\":{\"id\":\"01df33e5-bc81-4123-8c2a-7256b3d2aaf9\",\"type\":\"ColumnDataSource\"},\"glyph\":{\"id\":\"3036fb0f-fe14-4943-a971-737ffbf02d71\",\"type\":\"Line\"},\"hover_glyph\":null,\"muted_glyph\":null,\"nonselection_glyph\":{\"id\":\"cdea5edf-1fca-4ad7-94a7-00eb81944e75\",\"type\":\"Line\"},\"selection_glyph\":null,\"view\":{\"id\":\"3421a834-e83a-49f1-8644-b31141b8a509\",\"type\":\"CDSView\"}},\"id\":\"559ea5c1-35e1-4044-b771-2298c25f3daf\",\"type\":\"GlyphRenderer\"},{\"attributes\":{\"data_source\":{\"id\":\"9441646d-29b1-4884-990a-a8ee5df82139\",\"type\":\"ColumnDataSource\"},\"glyph\":{\"id\":\"1ec821ef-b872-4ed8-99b7-0bc90ad570b3\",\"type\":\"Square\"},\"hover_glyph\":null,\"muted_glyph\":null,\"nonselection_glyph\":{\"id\":\"c76c69b5-d599-4ecd-8f2c-646045608235\",\"type\":\"Square\"},\"selection_glyph\":null,\"view\":{\"id\":\"6f93f58d-4e60-401b-997f-a19e02a454f7\",\"type\":\"CDSView\"}},\"id\":\"ad31ff50-1dc1-4aab-89f4-4ad9c70019fe\",\"type\":\"GlyphRenderer\"},{\"attributes\":{\"source\":{\"id\":\"f7d4b9c9-6f31-4421-989d-a2d49647a6a8\",\"type\":\"ColumnDataSource\"}},\"id\":\"1dfa25df-27a5-43e9-81fa-95dadce550ba\",\"type\":\"CDSView\"},{\"attributes\":{\"source\":{\"id\":\"107a6274-c6e8-4421-86f2-514c189e9a3c\",\"type\":\"ColumnDataSource\"}},\"id\":\"fc10e036-4d32-4796-a4a3-180cc3228003\",\"type\":\"CDSView\"},{\"attributes\":{},\"id\":\"d15100e4-da39-4d3b-8fc1-b4918d69b2aa\",\"type\":\"Selection\"},{\"attributes\":{},\"id\":\"c72ca256-72dc-43bd-a98b-3641986a196a\",\"type\":\"BasicTickFormatter\"},{\"attributes\":{\"children\":[{\"id\":\"4bc3dbfd-9fa3-448f-a760-0bb5504839fe\",\"type\":\"ToolbarBox\"},{\"id\":\"d940e5dd-c773-4836-a73c-5795c33b3692\",\"type\":\"Column\"}]},\"id\":\"f03ba237-b3ee-4b52-850a-fb197b3f920c\",\"type\":\"Column\"},{\"attributes\":{},\"id\":\"620f3995-cb2b-47e2-84e3-3ad20a53477d\",\"type\":\"UnionRenderers\"},{\"attributes\":{\"toolbar\":{\"id\":\"d6a05d4e-2e80-45a7-b869-b730368093d3\",\"type\":\"ProxyToolbar\"},\"toolbar_location\":\"above\"},\"id\":\"4bc3dbfd-9fa3-448f-a760-0bb5504839fe\",\"type\":\"ToolbarBox\"},{\"attributes\":{},\"id\":\"acb532d7-6dd2-4d12-8b06-ab83fad17f7f\",\"type\":\"Selection\"},{\"attributes\":{},\"id\":\"1f3bbe20-6091-4461-89a2-f98a03253523\",\"type\":\"UnionRenderers\"},{\"attributes\":{},\"id\":\"d31ddb03-6b64-4ff5-85ab-133cb39be3ad\",\"type\":\"Selection\"},{\"attributes\":{\"ticker\":null},\"id\":\"7fb69d9e-11e0-4d0e-854a-25afbb1f515d\",\"type\":\"LogTickFormatter\"},{\"attributes\":{\"plot\":null,\"text\":\"\"},\"id\":\"debdfa8f-1b00-4088-aa70-01b77394c8e0\",\"type\":\"Title\"},{\"attributes\":{},\"id\":\"1b33d769-238b-4a62-b23c-2bbcfb683595\",\"type\":\"UnionRenderers\"},{\"attributes\":{},\"id\":\"5444b319-38e8-4268-ad95-9f4cb46a761d\",\"type\":\"UnionRenderers\"},{\"attributes\":{},\"id\":\"22a406b8-67da-4b2c-83d2-ca00941f83e5\",\"type\":\"UnionRenderers\"},{\"attributes\":{},\"id\":\"68eb9a85-6dcc-4008-97fe-2de0dc3a4e1e\",\"type\":\"UnionRenderers\"},{\"attributes\":{},\"id\":\"e2f7beb6-1045-445c-b5c1-86428e3e7145\",\"type\":\"UnionRenderers\"},{\"attributes\":{},\"id\":\"c513b70f-354d-4fc1-8b53-50993b98535f\",\"type\":\"UnionRenderers\"},{\"attributes\":{},\"id\":\"e32219f5-92b8-430d-9037-d8db07e5a818\",\"type\":\"Selection\"},{\"attributes\":{},\"id\":\"0f4e969b-e205-4a26-9f67-c86014956961\",\"type\":\"Selection\"},{\"attributes\":{},\"id\":\"f33d86f3-ff42-438e-9217-b8c7ccda7fa3\",\"type\":\"Selection\"},{\"attributes\":{\"callback\":null,\"data\":{\"x\":{\"__ndarray__\":\"1YrOoDYMzr4BOuf2ZSDOvizYpLwFVM6+HiBmSf6Dzr7/8xkvH6vOvrtTRqod1M6+BPFnLx/3zr5v23zG5xXPvli59C5YLs++COysN1dDz77uA21+WVLPvmhftKw9XM++aeNw6cNfz75KKYCzFV3Pvu1Qh+MYKM++VjzUpaAFzb4OtaHYUmfEvtjPIWTu636+66TzkeW80T4V9Dpvun3oPvXm0/8m5fg+IHz66YQ2Bj/7yqWJR54QP5p8FDyWHRE/SBRZQ7MuCT/odMA4mT4AP7Q26lGUPvM+C+KGS6xi5D5UrRZXtXLRPjtR/Fl/qqY+kPXyt2YGur68iA2mdFTIvmr15rkK482+Gryrehg+0L5i1+jhkgDRvqO3uu9Yd9G+bDJ1FHHP0b6Js9S2IzLSvp9iNhPgktK+cZY04vrN077rEJ3GnznfvhQvUNZMtfS+SN+L2QwABr++kIR4/x8Tv1IZGeB2Khu/7LewhuIkGb/sedMSJBgIv+7rUSphsQ0/qrGJLERGLj95HNqJ20pAP0kjpQKJrUw/b7RuW8Q8Vj+N4MrpXApgP2f+iQomK2Y/YRcV1mWvbT/d1PELEmVzPwKAsrbG3Xg/wlKxdjplgD8pjuoR9i+FPylGgFVhs4o/qeb1TQF8kD8UFIQI//2TPxftnYzL45c/LH1etZYwnD/ubrvSpnGgP5PmSt4r/KI/u1zUENSupT+G+PU3sHKoP0qd5VGoKas/ZIKpRKPErT8ZY5+BCiewP/uZZYv3brE/ewtsG7fFsj+7m2whFjq0PzEbQ83H5rU/\",\"dtype\":\"float64\",\"shape\":[75]},\"y\":{\"__ndarray__\":\"GhExyth1ND/Sv8nbtpRIP2vylNV0PVE/aTum7souWD/At0SJ8fVgPw3Iuahxymc/MSNhhJWvcD/bTfBN02d3P2zb5nxnaoA/CD5h5MAGhz8NmeH1TyaQP+zrCsc9p5Y/LbKd76fGnz/bLW5ISEmmPww9YvTcQq8/JV2OstnstT8Er5Y7M8G+P0c+r3jqkcU/5h99k6ZBzj88bCIzFzjVP4enV8oyxN0//yH99nXg5D8qOpLLf0jtP5kqGJXUifQ/c9cS8kHP/D+/DpwzojQEQIEmwoanVwxA4lgXt9HgE0BSSZ2AJuIbQAMJih9jjiNA5q4l5INuK0AwTKYKRj0zQNv5fmq8/DpAaCJseHrtQkB/+zpwzoxKQM3MzMzMeFJAZmZmZmZqWEAAAAAAAFxeQM3MzMzMJmJAmpmZmZkfZUBmZmZmZhhoQDMzMzMzEWtAAAAAAAAKbkBmZmZmZoFwQM3MzMzM/XFAMzMzMzN6c0CamZmZmfZ0QAAAAAAAc3ZAZmZmZmbvd0DNzMzMzGt5QDMzMzMz6HpAmpmZmZlkfEAAAAAAAOF9QGZmZmZmXX9AZmZmZuZsgECamZmZGSuBQM3MzMxM6YFAAAAAAICngkAzMzMzs2WDQGZmZmbmI4RAmpmZmRnihEDNzMzMTKCFQAAAAACAXoZAMzMzM7Mch0BmZmZm5tqHQJqZmZkZmYhAzczMzExXiUAAAAAAgBWKQDMzMzOz04pAZmZmZuaRi0CamZmZGVCMQM3MzMxMDo1AAAAAAIDMjUAzMzMzs4qOQGZmZmbmSI9A\",\"dtype\":\"float64\",\"shape\":[75]}},\"selected\":{\"id\":\"a922df5d-02f6-4b3f-be3e-107411796a6f\",\"type\":\"Selection\"},\"selection_policy\":{\"id\":\"f3543131-f5dd-4f22-a613-b81952c7a67c\",\"type\":\"UnionRenderers\"}},\"id\":\"7fe60caf-0d21-41b6-b93e-b6f72818e133\",\"type\":\"ColumnDataSource\"},{\"attributes\":{},\"id\":\"db5ee0f7-f040-4935-b834-d745c21e2d64\",\"type\":\"Selection\"},{\"attributes\":{\"tools\":[{\"id\":\"ac03f5da-6b7a-460f-85ae-fc209f50bfa8\",\"type\":\"PanTool\"},{\"id\":\"1578ffaf-dc43-402c-b809-55e04ccf61be\",\"type\":\"WheelZoomTool\"},{\"id\":\"81978a00-929c-4434-abb2-7934db8f203b\",\"type\":\"BoxZoomTool\"},{\"id\":\"838d36a9-ba4f-424c-8e93-7a7bc5104cd2\",\"type\":\"SaveTool\"},{\"id\":\"72787687-bd6a-4e90-bfa6-419b60f17526\",\"type\":\"ResetTool\"},{\"id\":\"78b6990b-ea40-4e17-b6b6-2078e9f57bcf\",\"type\":\"HelpTool\"},{\"id\":\"b3f694be-3cb5-4c15-b148-40af7774ff1e\",\"type\":\"PanTool\"},{\"id\":\"4d085e40-26c3-4f48-850a-ea0a778477fe\",\"type\":\"WheelZoomTool\"},{\"id\":\"e8c0b816-3168-4d1e-8ba8-d19cdb84951f\",\"type\":\"BoxZoomTool\"},{\"id\":\"5ba24e5a-f9ac-46db-8e3e-47b545326ab5\",\"type\":\"SaveTool\"},{\"id\":\"dd902a27-223a-49bc-8b4f-96ab7f76bbf9\",\"type\":\"ResetTool\"},{\"id\":\"9cb41f69-3a2c-4ca7-a659-73a998720aec\",\"type\":\"HelpTool\"}]},\"id\":\"d6a05d4e-2e80-45a7-b869-b730368093d3\",\"type\":\"ProxyToolbar\"},{\"attributes\":{\"line_alpha\":0.3,\"line_color\":\"#377eb8\",\"line_width\":2,\"x\":{\"field\":\"x\"},\"y\":{\"field\":\"y\"}},\"id\":\"fe9759a4-82d0-4539-bbb9-c0f191070db2\",\"type\":\"Line\"},{\"attributes\":{\"above\":[{\"id\":\"7572669b-b618-4fe9-af4b-ecbaf6cfbed5\",\"type\":\"Legend\"}],\"below\":[{\"id\":\"97a13952-9a3c-40e3-a468-66bfa5df81b4\",\"type\":\"LinearAxis\"}],\"left\":[{\"id\":\"bc51759f-78bf-4eee-9ed3-e2930936aa50\",\"type\":\"LogAxis\"}],\"plot_height\":500,\"plot_width\":400,\"renderers\":[{\"id\":\"97a13952-9a3c-40e3-a468-66bfa5df81b4\",\"type\":\"LinearAxis\"},{\"id\":\"d8fb384c-25e7-4739-8908-9b7d3c34fa0e\",\"type\":\"Grid\"},{\"id\":\"bc51759f-78bf-4eee-9ed3-e2930936aa50\",\"type\":\"LogAxis\"},{\"id\":\"71ce5a84-068b-42be-9b71-ba79746514b8\",\"type\":\"Grid\"},{\"id\":\"56ada9e0-f30f-4221-ac15-cea27fd4494a\",\"type\":\"BoxAnnotation\"},{\"id\":\"709d8fac-68c5-4688-8a66-661aa4be9cd2\",\"type\":\"GlyphRenderer\"},{\"id\":\"0f90fdd7-d912-4c4e-82d0-84d2e7a12ee1\",\"type\":\"GlyphRenderer\"},{\"id\":\"ad31ff50-1dc1-4aab-89f4-4ad9c70019fe\",\"type\":\"GlyphRenderer\"},{\"id\":\"559ea5c1-35e1-4044-b771-2298c25f3daf\",\"type\":\"GlyphRenderer\"},{\"id\":\"ac09dfbd-1173-481d-9100-b95eba83c345\",\"type\":\"GlyphRenderer\"},{\"id\":\"64bac66e-54d7-4e10-908a-437188d14d52\",\"type\":\"GlyphRenderer\"},{\"id\":\"7572669b-b618-4fe9-af4b-ecbaf6cfbed5\",\"type\":\"Legend\"}],\"title\":{\"id\":\"debdfa8f-1b00-4088-aa70-01b77394c8e0\",\"type\":\"Title\"},\"toolbar\":{\"id\":\"3c1595f2-b3a3-4798-aabd-083fb70cc00d\",\"type\":\"Toolbar\"},\"toolbar_location\":null,\"x_range\":{\"id\":\"73756a41-8128-435d-904d-edfae94ca86c\",\"type\":\"Range1d\"},\"x_scale\":{\"id\":\"581ced24-3432-42bb-90be-44b3aa216ffa\",\"type\":\"LinearScale\"},\"y_range\":{\"id\":\"4709a9e2-e69f-4bfd-b04e-992dadf7c90f\",\"type\":\"Range1d\"},\"y_scale\":{\"id\":\"7807b309-03e3-4f69-b496-83ce1df710aa\",\"type\":\"LogScale\"}},\"id\":\"eb84b31c-4be6-4764-8be3-42741f84599e\",\"subtype\":\"Figure\",\"type\":\"Plot\"},{\"attributes\":{\"line_alpha\":0.1,\"line_color\":\"#1f77b4\",\"line_width\":2,\"x\":{\"field\":\"x\"},\"y\":{\"field\":\"y\"}},\"id\":\"5a640373-2b80-4f9d-a2f8-0a6b046cc833\",\"type\":\"Line\"},{\"attributes\":{\"data_source\":{\"id\":\"2d9aec36-7bd3-4e82-8a39-81530114b96f\",\"type\":\"ColumnDataSource\"},\"glyph\":{\"id\":\"fe9759a4-82d0-4539-bbb9-c0f191070db2\",\"type\":\"Line\"},\"hover_glyph\":null,\"muted_glyph\":null,\"nonselection_glyph\":{\"id\":\"5a640373-2b80-4f9d-a2f8-0a6b046cc833\",\"type\":\"Line\"},\"selection_glyph\":null,\"view\":{\"id\":\"29a91d3b-85ee-4776-ba52-dffa32a95cde\",\"type\":\"CDSView\"}},\"id\":\"7e571cb4-2f1b-4049-8124-c4ac7ea4dfd7\",\"type\":\"GlyphRenderer\"},{\"attributes\":{\"source\":{\"id\":\"2d9aec36-7bd3-4e82-8a39-81530114b96f\",\"type\":\"ColumnDataSource\"}},\"id\":\"29a91d3b-85ee-4776-ba52-dffa32a95cde\",\"type\":\"CDSView\"},{\"attributes\":{\"active_drag\":\"auto\",\"active_inspect\":\"auto\",\"active_scroll\":\"auto\",\"active_tap\":\"auto\",\"tools\":[{\"id\":\"b3f694be-3cb5-4c15-b148-40af7774ff1e\",\"type\":\"PanTool\"},{\"id\":\"4d085e40-26c3-4f48-850a-ea0a778477fe\",\"type\":\"WheelZoomTool\"},{\"id\":\"e8c0b816-3168-4d1e-8ba8-d19cdb84951f\",\"type\":\"BoxZoomTool\"},{\"id\":\"5ba24e5a-f9ac-46db-8e3e-47b545326ab5\",\"type\":\"SaveTool\"},{\"id\":\"dd902a27-223a-49bc-8b4f-96ab7f76bbf9\",\"type\":\"ResetTool\"},{\"id\":\"9cb41f69-3a2c-4ca7-a659-73a998720aec\",\"type\":\"HelpTool\"}]},\"id\":\"3c1595f2-b3a3-4798-aabd-083fb70cc00d\",\"type\":\"Toolbar\"},{\"attributes\":{\"label\":{\"value\":\"CRD\"},\"renderers\":[{\"id\":\"fd88930d-0fd4-4536-a3a9-fe0747332fdb\",\"type\":\"GlyphRenderer\"},{\"id\":\"082ffcac-d59f-4c5e-89c9-f62109e0373b\",\"type\":\"GlyphRenderer\"}]},\"id\":\"b4148409-2fd5-4315-9f6a-24c63d0e333e\",\"type\":\"LegendItem\"},{\"attributes\":{\"label\":{\"value\":\"WGT igg=1\"},\"renderers\":[{\"id\":\"72e135d7-2018-4074-a743-fe3952d8cd72\",\"type\":\"GlyphRenderer\"},{\"id\":\"5a836dda-74f9-4253-a177-ca6a2dda2d93\",\"type\":\"GlyphRenderer\"}]},\"id\":\"a3cc49b7-0dd3-4fd1-9bda-f9fceffb6ec8\",\"type\":\"LegendItem\"},{\"attributes\":{},\"id\":\"581ced24-3432-42bb-90be-44b3aa216ffa\",\"type\":\"LinearScale\"},{\"attributes\":{\"label\":{\"value\":\"WGT igg=10\"},\"renderers\":[{\"id\":\"b5b1b1d7-5000-46ac-8ba2-e386ed91331f\",\"type\":\"GlyphRenderer\"},{\"id\":\"7e571cb4-2f1b-4049-8124-c4ac7ea4dfd7\",\"type\":\"GlyphRenderer\"}]},\"id\":\"d62ad655-d0e2-48ad-8a23-5ff05e5c9e74\",\"type\":\"LegendItem\"},{\"attributes\":{\"plot\":{\"id\":\"eb84b31c-4be6-4764-8be3-42741f84599e\",\"subtype\":\"Figure\",\"type\":\"Plot\"},\"ticker\":{\"id\":\"9a7caf0d-2920-4c95-819d-073e258e5e95\",\"type\":\"BasicTicker\"}},\"id\":\"d8fb384c-25e7-4739-8908-9b7d3c34fa0e\",\"type\":\"Grid\"},{\"attributes\":{\"overlay\":{\"id\":\"56ada9e0-f30f-4221-ac15-cea27fd4494a\",\"type\":\"BoxAnnotation\"}},\"id\":\"e8c0b816-3168-4d1e-8ba8-d19cdb84951f\",\"type\":\"BoxZoomTool\"},{\"attributes\":{},\"id\":\"7807b309-03e3-4f69-b496-83ce1df710aa\",\"type\":\"LogScale\"},{\"attributes\":{\"axis_label\":\"cooling rate [K/day]\",\"formatter\":{\"id\":\"c72ca256-72dc-43bd-a98b-3641986a196a\",\"type\":\"BasicTickFormatter\"},\"plot\":{\"id\":\"eb84b31c-4be6-4764-8be3-42741f84599e\",\"subtype\":\"Figure\",\"type\":\"Plot\"},\"ticker\":{\"id\":\"9a7caf0d-2920-4c95-819d-073e258e5e95\",\"type\":\"BasicTicker\"}},\"id\":\"97a13952-9a3c-40e3-a468-66bfa5df81b4\",\"type\":\"LinearAxis\"},{\"attributes\":{},\"id\":\"9a7caf0d-2920-4c95-819d-073e258e5e95\",\"type\":\"BasicTicker\"},{\"attributes\":{\"axis_label\":\"pressure [mb]\",\"formatter\":{\"id\":\"7fb69d9e-11e0-4d0e-854a-25afbb1f515d\",\"type\":\"LogTickFormatter\"},\"plot\":{\"id\":\"eb84b31c-4be6-4764-8be3-42741f84599e\",\"subtype\":\"Figure\",\"type\":\"Plot\"},\"ticker\":{\"id\":\"4db0d920-d217-4289-b6c1-acaf4948283c\",\"type\":\"LogTicker\"}},\"id\":\"bc51759f-78bf-4eee-9ed3-e2930936aa50\",\"type\":\"LogAxis\"},{\"attributes\":{\"num_minor_ticks\":10},\"id\":\"4db0d920-d217-4289-b6c1-acaf4948283c\",\"type\":\"LogTicker\"},{\"attributes\":{\"dimension\":1,\"plot\":{\"id\":\"eb84b31c-4be6-4764-8be3-42741f84599e\",\"subtype\":\"Figure\",\"type\":\"Plot\"},\"ticker\":{\"id\":\"4db0d920-d217-4289-b6c1-acaf4948283c\",\"type\":\"LogTicker\"}},\"id\":\"71ce5a84-068b-42be-9b71-ba79746514b8\",\"type\":\"Grid\"},{\"attributes\":{},\"id\":\"b3f694be-3cb5-4c15-b148-40af7774ff1e\",\"type\":\"PanTool\"},{\"attributes\":{},\"id\":\"4d085e40-26c3-4f48-850a-ea0a778477fe\",\"type\":\"WheelZoomTool\"}],\"root_ids\":[\"f03ba237-b3ee-4b52-850a-fb197b3f920c\"]},\"title\":\"Bokeh Application\",\"version\":\"0.12.16\"}};\n",
       "  var render_items = [{\"docid\":\"d052d4ec-567d-4b19-82ed-6bd4e443eb01\",\"elementid\":\"552d7bcf-1dc2-4380-a261-08c3946f7805\",\"modelid\":\"f03ba237-b3ee-4b52-850a-fb197b3f920c\"}];\n",
       "  root.Bokeh.embed.embed_items_notebook(docs_json, render_items);\n",
       "\n",
       "  }\n",
       "  if (root.Bokeh !== undefined) {\n",
       "    embed_document(root);\n",
       "  } else {\n",
       "    var attempts = 0;\n",
       "    var timer = setInterval(function(root) {\n",
       "      if (root.Bokeh !== undefined) {\n",
       "        embed_document(root);\n",
       "        clearInterval(timer);\n",
       "      }\n",
       "      attempts++;\n",
       "      if (attempts > 100) {\n",
       "        console.log(\"Bokeh: ERROR: Unable to run BokehJS code because BokehJS library is missing\")\n",
       "        clearInterval(timer);\n",
       "      }\n",
       "    }, 10, root)\n",
       "  }\n",
       "})(window);"
      ],
      "application/vnd.bokehjs_exec.v0+json": ""
     },
     "metadata": {
      "application/vnd.bokehjs_exec.v0+json": {
       "id": "f03ba237-b3ee-4b52-850a-fb197b3f920c"
      }
     },
     "output_type": "display_data"
    },
    {
     "data": {
      "text/markdown": [
       "*FIGURE.* Cooling rates. Summed over g."
      ],
      "text/plain": [
       "<IPython.core.display.Markdown object>"
      ]
     },
     "metadata": {},
     "output_type": "display_data"
    },
    {
     "data": {
      "text/html": [
       "<a id=\"Flux_Comparison\"></a>"
      ],
      "text/plain": [
       "<IPython.core.display.HTML object>"
      ]
     },
     "metadata": {},
     "output_type": "display_data"
    },
    {
     "data": {
      "text/markdown": [
       "# Flux Comparison"
      ],
      "text/plain": [
       "<IPython.core.display.Markdown object>"
      ]
     },
     "metadata": {},
     "output_type": "display_data"
    },
    {
     "data": {
      "text/html": [
       "<div>\n",
       "<style scoped>\n",
       "    .dataframe tbody tr th:only-of-type {\n",
       "        vertical-align: middle;\n",
       "    }\n",
       "\n",
       "    .dataframe tbody tr th {\n",
       "        vertical-align: top;\n",
       "    }\n",
       "\n",
       "    .dataframe thead th {\n",
       "        text-align: right;\n",
       "    }\n",
       "</style>\n",
       "<table border=\"1\" class=\"dataframe\">\n",
       "  <thead>\n",
       "    <tr style=\"text-align: right;\">\n",
       "      <th></th>\n",
       "      <th></th>\n",
       "      <th></th>\n",
       "      <th>flug</th>\n",
       "      <th>fldg</th>\n",
       "      <th>fnetg</th>\n",
       "    </tr>\n",
       "    <tr>\n",
       "      <th>g</th>\n",
       "      <th>pressure</th>\n",
       "      <th>level</th>\n",
       "      <th></th>\n",
       "      <th></th>\n",
       "      <th></th>\n",
       "    </tr>\n",
       "  </thead>\n",
       "  <tbody>\n",
       "    <tr>\n",
       "      <th rowspan=\"3\" valign=\"top\">1</th>\n",
       "      <th>0.000</th>\n",
       "      <th>1</th>\n",
       "      <td>-0.145757</td>\n",
       "      <td>0.000000</td>\n",
       "      <td>-0.145757</td>\n",
       "    </tr>\n",
       "    <tr>\n",
       "      <th>180.875</th>\n",
       "      <th>41</th>\n",
       "      <td>-0.145826</td>\n",
       "      <td>0.000052</td>\n",
       "      <td>-0.145774</td>\n",
       "    </tr>\n",
       "    <tr>\n",
       "      <th>1013.000</th>\n",
       "      <th>76</th>\n",
       "      <td>-0.224141</td>\n",
       "      <td>0.218270</td>\n",
       "      <td>-0.005871</td>\n",
       "    </tr>\n",
       "    <tr>\n",
       "      <th rowspan=\"3\" valign=\"top\">2</th>\n",
       "      <th>0.000</th>\n",
       "      <th>1</th>\n",
       "      <td>-1.805177</td>\n",
       "      <td>0.000000</td>\n",
       "      <td>-1.805177</td>\n",
       "    </tr>\n",
       "    <tr>\n",
       "      <th>180.875</th>\n",
       "      <th>41</th>\n",
       "      <td>-1.805239</td>\n",
       "      <td>0.000023</td>\n",
       "      <td>-1.805216</td>\n",
       "    </tr>\n",
       "    <tr>\n",
       "      <th>1013.000</th>\n",
       "      <th>76</th>\n",
       "      <td>-2.027257</td>\n",
       "      <td>1.203782</td>\n",
       "      <td>-0.823476</td>\n",
       "    </tr>\n",
       "    <tr>\n",
       "      <th rowspan=\"3\" valign=\"top\">3</th>\n",
       "      <th>0.000</th>\n",
       "      <th>1</th>\n",
       "      <td>-28.954024</td>\n",
       "      <td>0.000000</td>\n",
       "      <td>-28.954024</td>\n",
       "    </tr>\n",
       "    <tr>\n",
       "      <th>180.875</th>\n",
       "      <th>41</th>\n",
       "      <td>-28.954035</td>\n",
       "      <td>0.000003</td>\n",
       "      <td>-28.954032</td>\n",
       "    </tr>\n",
       "    <tr>\n",
       "      <th>1013.000</th>\n",
       "      <th>76</th>\n",
       "      <td>-29.102839</td>\n",
       "      <td>1.221556</td>\n",
       "      <td>-27.881283</td>\n",
       "    </tr>\n",
       "  </tbody>\n",
       "</table>\n",
       "</div>"
      ],
      "text/plain": [
       "                       flug      fldg      fnetg\n",
       "g pressure level                                \n",
       "1 0.000    1      -0.145757  0.000000  -0.145757\n",
       "  180.875  41     -0.145826  0.000052  -0.145774\n",
       "  1013.000 76     -0.224141  0.218270  -0.005871\n",
       "2 0.000    1      -1.805177  0.000000  -1.805177\n",
       "  180.875  41     -1.805239  0.000023  -1.805216\n",
       "  1013.000 76     -2.027257  1.203782  -0.823476\n",
       "3 0.000    1     -28.954024  0.000000 -28.954024\n",
       "  180.875  41    -28.954035  0.000003 -28.954032\n",
       "  1013.000 76    -29.102839  1.221556 -27.881283"
      ]
     },
     "metadata": {},
     "output_type": "display_data"
    },
    {
     "data": {
      "text/markdown": [
       "*TABLE.* Fluxes. CRD"
      ],
      "text/plain": [
       "<IPython.core.display.Markdown object>"
      ]
     },
     "metadata": {},
     "output_type": "display_data"
    },
    {
     "data": {
      "text/html": [
       "<div>\n",
       "<style scoped>\n",
       "    .dataframe tbody tr th:only-of-type {\n",
       "        vertical-align: middle;\n",
       "    }\n",
       "\n",
       "    .dataframe tbody tr th {\n",
       "        vertical-align: top;\n",
       "    }\n",
       "\n",
       "    .dataframe thead th {\n",
       "        text-align: right;\n",
       "    }\n",
       "</style>\n",
       "<table border=\"1\" class=\"dataframe\">\n",
       "  <thead>\n",
       "    <tr style=\"text-align: right;\">\n",
       "      <th></th>\n",
       "      <th></th>\n",
       "      <th></th>\n",
       "      <th>flug</th>\n",
       "      <th>fldg</th>\n",
       "      <th>fnetg</th>\n",
       "    </tr>\n",
       "    <tr>\n",
       "      <th>g</th>\n",
       "      <th>pressure</th>\n",
       "      <th>level</th>\n",
       "      <th></th>\n",
       "      <th></th>\n",
       "      <th></th>\n",
       "    </tr>\n",
       "  </thead>\n",
       "  <tbody>\n",
       "    <tr>\n",
       "      <th rowspan=\"3\" valign=\"top\">1</th>\n",
       "      <th>0.000</th>\n",
       "      <th>1</th>\n",
       "      <td>-0.143162</td>\n",
       "      <td>0.000000</td>\n",
       "      <td>-0.143162</td>\n",
       "    </tr>\n",
       "    <tr>\n",
       "      <th>180.875</th>\n",
       "      <th>41</th>\n",
       "      <td>-0.143222</td>\n",
       "      <td>0.000033</td>\n",
       "      <td>-0.143188</td>\n",
       "    </tr>\n",
       "    <tr>\n",
       "      <th>1013.000</th>\n",
       "      <th>76</th>\n",
       "      <td>-0.219255</td>\n",
       "      <td>0.215376</td>\n",
       "      <td>-0.003879</td>\n",
       "    </tr>\n",
       "    <tr>\n",
       "      <th rowspan=\"3\" valign=\"top\">2</th>\n",
       "      <th>0.000</th>\n",
       "      <th>1</th>\n",
       "      <td>-1.811210</td>\n",
       "      <td>0.000000</td>\n",
       "      <td>-1.811210</td>\n",
       "    </tr>\n",
       "    <tr>\n",
       "      <th>180.875</th>\n",
       "      <th>41</th>\n",
       "      <td>-1.811259</td>\n",
       "      <td>0.000016</td>\n",
       "      <td>-1.811244</td>\n",
       "    </tr>\n",
       "    <tr>\n",
       "      <th>1013.000</th>\n",
       "      <th>76</th>\n",
       "      <td>-2.010970</td>\n",
       "      <td>1.176906</td>\n",
       "      <td>-0.834064</td>\n",
       "    </tr>\n",
       "    <tr>\n",
       "      <th rowspan=\"3\" valign=\"top\">3</th>\n",
       "      <th>0.000</th>\n",
       "      <th>1</th>\n",
       "      <td>-28.981421</td>\n",
       "      <td>0.000000</td>\n",
       "      <td>-28.981421</td>\n",
       "    </tr>\n",
       "    <tr>\n",
       "      <th>180.875</th>\n",
       "      <th>41</th>\n",
       "      <td>-28.981432</td>\n",
       "      <td>0.000003</td>\n",
       "      <td>-28.981429</td>\n",
       "    </tr>\n",
       "    <tr>\n",
       "      <th>1013.000</th>\n",
       "      <th>76</th>\n",
       "      <td>-29.124012</td>\n",
       "      <td>1.227942</td>\n",
       "      <td>-27.896070</td>\n",
       "    </tr>\n",
       "  </tbody>\n",
       "</table>\n",
       "</div>"
      ],
      "text/plain": [
       "                       flug      fldg      fnetg\n",
       "g pressure level                                \n",
       "1 0.000    1      -0.143162  0.000000  -0.143162\n",
       "  180.875  41     -0.143222  0.000033  -0.143188\n",
       "  1013.000 76     -0.219255  0.215376  -0.003879\n",
       "2 0.000    1      -1.811210  0.000000  -1.811210\n",
       "  180.875  41     -1.811259  0.000016  -1.811244\n",
       "  1013.000 76     -2.010970  1.176906  -0.834064\n",
       "3 0.000    1     -28.981421  0.000000 -28.981421\n",
       "  180.875  41    -28.981432  0.000003 -28.981429\n",
       "  1013.000 76    -29.124012  1.227942 -27.896070"
      ]
     },
     "metadata": {},
     "output_type": "display_data"
    },
    {
     "data": {
      "text/markdown": [
       "*TABLE.* Fluxes. WGT igg=1"
      ],
      "text/plain": [
       "<IPython.core.display.Markdown object>"
      ]
     },
     "metadata": {},
     "output_type": "display_data"
    },
    {
     "data": {
      "text/html": [
       "<div>\n",
       "<style scoped>\n",
       "    .dataframe tbody tr th:only-of-type {\n",
       "        vertical-align: middle;\n",
       "    }\n",
       "\n",
       "    .dataframe tbody tr th {\n",
       "        vertical-align: top;\n",
       "    }\n",
       "\n",
       "    .dataframe thead th {\n",
       "        text-align: right;\n",
       "    }\n",
       "</style>\n",
       "<table border=\"1\" class=\"dataframe\">\n",
       "  <thead>\n",
       "    <tr style=\"text-align: right;\">\n",
       "      <th></th>\n",
       "      <th></th>\n",
       "      <th></th>\n",
       "      <th>flug</th>\n",
       "      <th>fldg</th>\n",
       "      <th>fnetg</th>\n",
       "    </tr>\n",
       "    <tr>\n",
       "      <th>g</th>\n",
       "      <th>pressure</th>\n",
       "      <th>level</th>\n",
       "      <th></th>\n",
       "      <th></th>\n",
       "      <th></th>\n",
       "    </tr>\n",
       "  </thead>\n",
       "  <tbody>\n",
       "    <tr>\n",
       "      <th rowspan=\"3\" valign=\"top\">1</th>\n",
       "      <th>0.000</th>\n",
       "      <th>1</th>\n",
       "      <td>-0.142654</td>\n",
       "      <td>0.000000</td>\n",
       "      <td>-0.142654</td>\n",
       "    </tr>\n",
       "    <tr>\n",
       "      <th>180.875</th>\n",
       "      <th>41</th>\n",
       "      <td>-0.142709</td>\n",
       "      <td>0.000028</td>\n",
       "      <td>-0.142682</td>\n",
       "    </tr>\n",
       "    <tr>\n",
       "      <th>1013.000</th>\n",
       "      <th>76</th>\n",
       "      <td>-0.219255</td>\n",
       "      <td>0.215928</td>\n",
       "      <td>-0.003327</td>\n",
       "    </tr>\n",
       "    <tr>\n",
       "      <th rowspan=\"3\" valign=\"top\">2</th>\n",
       "      <th>0.000</th>\n",
       "      <th>1</th>\n",
       "      <td>-1.818893</td>\n",
       "      <td>0.000000</td>\n",
       "      <td>-1.818893</td>\n",
       "    </tr>\n",
       "    <tr>\n",
       "      <th>180.875</th>\n",
       "      <th>41</th>\n",
       "      <td>-1.818938</td>\n",
       "      <td>0.000013</td>\n",
       "      <td>-1.818924</td>\n",
       "    </tr>\n",
       "    <tr>\n",
       "      <th>1013.000</th>\n",
       "      <th>76</th>\n",
       "      <td>-2.010970</td>\n",
       "      <td>1.200041</td>\n",
       "      <td>-0.810928</td>\n",
       "    </tr>\n",
       "    <tr>\n",
       "      <th rowspan=\"3\" valign=\"top\">3</th>\n",
       "      <th>0.000</th>\n",
       "      <th>1</th>\n",
       "      <td>-28.992883</td>\n",
       "      <td>0.000000</td>\n",
       "      <td>-28.992883</td>\n",
       "    </tr>\n",
       "    <tr>\n",
       "      <th>180.875</th>\n",
       "      <th>41</th>\n",
       "      <td>-28.992892</td>\n",
       "      <td>0.000002</td>\n",
       "      <td>-28.992890</td>\n",
       "    </tr>\n",
       "    <tr>\n",
       "      <th>1013.000</th>\n",
       "      <th>76</th>\n",
       "      <td>-29.124012</td>\n",
       "      <td>1.144920</td>\n",
       "      <td>-27.979092</td>\n",
       "    </tr>\n",
       "  </tbody>\n",
       "</table>\n",
       "</div>"
      ],
      "text/plain": [
       "                       flug      fldg      fnetg\n",
       "g pressure level                                \n",
       "1 0.000    1      -0.142654  0.000000  -0.142654\n",
       "  180.875  41     -0.142709  0.000028  -0.142682\n",
       "  1013.000 76     -0.219255  0.215928  -0.003327\n",
       "2 0.000    1      -1.818893  0.000000  -1.818893\n",
       "  180.875  41     -1.818938  0.000013  -1.818924\n",
       "  1013.000 76     -2.010970  1.200041  -0.810928\n",
       "3 0.000    1     -28.992883  0.000000 -28.992883\n",
       "  180.875  41    -28.992892  0.000002 -28.992890\n",
       "  1013.000 76    -29.124012  1.144920 -27.979092"
      ]
     },
     "metadata": {},
     "output_type": "display_data"
    },
    {
     "data": {
      "text/markdown": [
       "*TABLE.* Fluxes. WGT igg=10"
      ],
      "text/plain": [
       "<IPython.core.display.Markdown object>"
      ]
     },
     "metadata": {},
     "output_type": "display_data"
    },
    {
     "data": {
      "text/html": [
       "<div>\n",
       "<style scoped>\n",
       "    .dataframe tbody tr th:only-of-type {\n",
       "        vertical-align: middle;\n",
       "    }\n",
       "\n",
       "    .dataframe tbody tr th {\n",
       "        vertical-align: top;\n",
       "    }\n",
       "\n",
       "    .dataframe thead th {\n",
       "        text-align: right;\n",
       "    }\n",
       "</style>\n",
       "<table border=\"1\" class=\"dataframe\">\n",
       "  <thead>\n",
       "    <tr style=\"text-align: right;\">\n",
       "      <th></th>\n",
       "      <th></th>\n",
       "      <th></th>\n",
       "      <th>flug</th>\n",
       "      <th>fldg</th>\n",
       "      <th>fnetg</th>\n",
       "    </tr>\n",
       "    <tr>\n",
       "      <th>g</th>\n",
       "      <th>pressure</th>\n",
       "      <th>level</th>\n",
       "      <th></th>\n",
       "      <th></th>\n",
       "      <th></th>\n",
       "    </tr>\n",
       "  </thead>\n",
       "  <tbody>\n",
       "    <tr>\n",
       "      <th rowspan=\"3\" valign=\"top\">1</th>\n",
       "      <th>0.000</th>\n",
       "      <th>1</th>\n",
       "      <td>0.002596</td>\n",
       "      <td>0.000000e+00</td>\n",
       "      <td>0.002596</td>\n",
       "    </tr>\n",
       "    <tr>\n",
       "      <th>180.875</th>\n",
       "      <th>41</th>\n",
       "      <td>0.002605</td>\n",
       "      <td>-1.909021e-05</td>\n",
       "      <td>0.002586</td>\n",
       "    </tr>\n",
       "    <tr>\n",
       "      <th>1013.000</th>\n",
       "      <th>76</th>\n",
       "      <td>0.004886</td>\n",
       "      <td>-2.893660e-03</td>\n",
       "      <td>0.001992</td>\n",
       "    </tr>\n",
       "    <tr>\n",
       "      <th rowspan=\"3\" valign=\"top\">2</th>\n",
       "      <th>0.000</th>\n",
       "      <th>1</th>\n",
       "      <td>-0.006032</td>\n",
       "      <td>0.000000e+00</td>\n",
       "      <td>-0.006032</td>\n",
       "    </tr>\n",
       "    <tr>\n",
       "      <th>180.875</th>\n",
       "      <th>41</th>\n",
       "      <td>-0.006020</td>\n",
       "      <td>-7.412705e-06</td>\n",
       "      <td>-0.006028</td>\n",
       "    </tr>\n",
       "    <tr>\n",
       "      <th>1013.000</th>\n",
       "      <th>76</th>\n",
       "      <td>0.016288</td>\n",
       "      <td>-2.687580e-02</td>\n",
       "      <td>-0.010588</td>\n",
       "    </tr>\n",
       "    <tr>\n",
       "      <th rowspan=\"3\" valign=\"top\">3</th>\n",
       "      <th>0.000</th>\n",
       "      <th>1</th>\n",
       "      <td>-0.027397</td>\n",
       "      <td>0.000000e+00</td>\n",
       "      <td>-0.027397</td>\n",
       "    </tr>\n",
       "    <tr>\n",
       "      <th>180.875</th>\n",
       "      <th>41</th>\n",
       "      <td>-0.027397</td>\n",
       "      <td>-2.517526e-07</td>\n",
       "      <td>-0.027397</td>\n",
       "    </tr>\n",
       "    <tr>\n",
       "      <th>1013.000</th>\n",
       "      <th>76</th>\n",
       "      <td>-0.021173</td>\n",
       "      <td>6.386000e-03</td>\n",
       "      <td>-0.014787</td>\n",
       "    </tr>\n",
       "  </tbody>\n",
       "</table>\n",
       "</div>"
      ],
      "text/plain": [
       "                      flug          fldg     fnetg\n",
       "g pressure level                                  \n",
       "1 0.000    1      0.002596  0.000000e+00  0.002596\n",
       "  180.875  41     0.002605 -1.909021e-05  0.002586\n",
       "  1013.000 76     0.004886 -2.893660e-03  0.001992\n",
       "2 0.000    1     -0.006032  0.000000e+00 -0.006032\n",
       "  180.875  41    -0.006020 -7.412705e-06 -0.006028\n",
       "  1013.000 76     0.016288 -2.687580e-02 -0.010588\n",
       "3 0.000    1     -0.027397  0.000000e+00 -0.027397\n",
       "  180.875  41    -0.027397 -2.517526e-07 -0.027397\n",
       "  1013.000 76    -0.021173  6.386000e-03 -0.014787"
      ]
     },
     "metadata": {},
     "output_type": "display_data"
    },
    {
     "data": {
      "text/markdown": [
       "*TABLE.* Fluxes. (WGT igg=1) - (CRD)"
      ],
      "text/plain": [
       "<IPython.core.display.Markdown object>"
      ]
     },
     "metadata": {},
     "output_type": "display_data"
    },
    {
     "data": {
      "text/html": [
       "<div>\n",
       "<style scoped>\n",
       "    .dataframe tbody tr th:only-of-type {\n",
       "        vertical-align: middle;\n",
       "    }\n",
       "\n",
       "    .dataframe tbody tr th {\n",
       "        vertical-align: top;\n",
       "    }\n",
       "\n",
       "    .dataframe thead th {\n",
       "        text-align: right;\n",
       "    }\n",
       "</style>\n",
       "<table border=\"1\" class=\"dataframe\">\n",
       "  <thead>\n",
       "    <tr style=\"text-align: right;\">\n",
       "      <th></th>\n",
       "      <th></th>\n",
       "      <th></th>\n",
       "      <th>flug</th>\n",
       "      <th>fldg</th>\n",
       "      <th>fnetg</th>\n",
       "    </tr>\n",
       "    <tr>\n",
       "      <th>g</th>\n",
       "      <th>pressure</th>\n",
       "      <th>level</th>\n",
       "      <th></th>\n",
       "      <th></th>\n",
       "      <th></th>\n",
       "    </tr>\n",
       "  </thead>\n",
       "  <tbody>\n",
       "    <tr>\n",
       "      <th rowspan=\"3\" valign=\"top\">1</th>\n",
       "      <th>0.000</th>\n",
       "      <th>1</th>\n",
       "      <td>0.003104</td>\n",
       "      <td>0.000000e+00</td>\n",
       "      <td>0.003104</td>\n",
       "    </tr>\n",
       "    <tr>\n",
       "      <th>180.875</th>\n",
       "      <th>41</th>\n",
       "      <td>0.003117</td>\n",
       "      <td>-2.457644e-05</td>\n",
       "      <td>0.003092</td>\n",
       "    </tr>\n",
       "    <tr>\n",
       "      <th>1013.000</th>\n",
       "      <th>76</th>\n",
       "      <td>0.004886</td>\n",
       "      <td>-2.341830e-03</td>\n",
       "      <td>0.002544</td>\n",
       "    </tr>\n",
       "    <tr>\n",
       "      <th rowspan=\"3\" valign=\"top\">2</th>\n",
       "      <th>0.000</th>\n",
       "      <th>1</th>\n",
       "      <td>-0.013716</td>\n",
       "      <td>0.000000e+00</td>\n",
       "      <td>-0.013716</td>\n",
       "    </tr>\n",
       "    <tr>\n",
       "      <th>180.875</th>\n",
       "      <th>41</th>\n",
       "      <td>-0.013698</td>\n",
       "      <td>-9.975535e-06</td>\n",
       "      <td>-0.013708</td>\n",
       "    </tr>\n",
       "    <tr>\n",
       "      <th>1013.000</th>\n",
       "      <th>76</th>\n",
       "      <td>0.016288</td>\n",
       "      <td>-3.740300e-03</td>\n",
       "      <td>0.012547</td>\n",
       "    </tr>\n",
       "    <tr>\n",
       "      <th rowspan=\"3\" valign=\"top\">3</th>\n",
       "      <th>0.000</th>\n",
       "      <th>1</th>\n",
       "      <td>-0.038859</td>\n",
       "      <td>0.000000e+00</td>\n",
       "      <td>-0.038859</td>\n",
       "    </tr>\n",
       "    <tr>\n",
       "      <th>180.875</th>\n",
       "      <th>41</th>\n",
       "      <td>-0.038857</td>\n",
       "      <td>-4.943093e-07</td>\n",
       "      <td>-0.038858</td>\n",
       "    </tr>\n",
       "    <tr>\n",
       "      <th>1013.000</th>\n",
       "      <th>76</th>\n",
       "      <td>-0.021173</td>\n",
       "      <td>-7.663600e-02</td>\n",
       "      <td>-0.097809</td>\n",
       "    </tr>\n",
       "  </tbody>\n",
       "</table>\n",
       "</div>"
      ],
      "text/plain": [
       "                      flug          fldg     fnetg\n",
       "g pressure level                                  \n",
       "1 0.000    1      0.003104  0.000000e+00  0.003104\n",
       "  180.875  41     0.003117 -2.457644e-05  0.003092\n",
       "  1013.000 76     0.004886 -2.341830e-03  0.002544\n",
       "2 0.000    1     -0.013716  0.000000e+00 -0.013716\n",
       "  180.875  41    -0.013698 -9.975535e-06 -0.013708\n",
       "  1013.000 76     0.016288 -3.740300e-03  0.012547\n",
       "3 0.000    1     -0.038859  0.000000e+00 -0.038859\n",
       "  180.875  41    -0.038857 -4.943093e-07 -0.038858\n",
       "  1013.000 76    -0.021173 -7.663600e-02 -0.097809"
      ]
     },
     "metadata": {},
     "output_type": "display_data"
    },
    {
     "data": {
      "text/markdown": [
       "*TABLE.* Fluxes. (WGT igg=10) - (CRD)"
      ],
      "text/plain": [
       "<IPython.core.display.Markdown object>"
      ]
     },
     "metadata": {},
     "output_type": "display_data"
    },
    {
     "data": {
      "text/html": [
       "<div>\n",
       "<style scoped>\n",
       "    .dataframe tbody tr th:only-of-type {\n",
       "        vertical-align: middle;\n",
       "    }\n",
       "\n",
       "    .dataframe tbody tr th {\n",
       "        vertical-align: top;\n",
       "    }\n",
       "\n",
       "    .dataframe thead th {\n",
       "        text-align: right;\n",
       "    }\n",
       "</style>\n",
       "<table border=\"1\" class=\"dataframe\">\n",
       "  <thead>\n",
       "    <tr style=\"text-align: right;\">\n",
       "      <th></th>\n",
       "      <th></th>\n",
       "      <th>flug</th>\n",
       "      <th>fldg</th>\n",
       "      <th>fnetg</th>\n",
       "    </tr>\n",
       "    <tr>\n",
       "      <th>pressure</th>\n",
       "      <th>level</th>\n",
       "      <th></th>\n",
       "      <th></th>\n",
       "      <th></th>\n",
       "    </tr>\n",
       "  </thead>\n",
       "  <tbody>\n",
       "    <tr>\n",
       "      <th>0.000</th>\n",
       "      <th>1</th>\n",
       "      <td>-30.904959</td>\n",
       "      <td>0.000000</td>\n",
       "      <td>-30.904959</td>\n",
       "    </tr>\n",
       "    <tr>\n",
       "      <th>180.875</th>\n",
       "      <th>41</th>\n",
       "      <td>-30.905100</td>\n",
       "      <td>0.000078</td>\n",
       "      <td>-30.905022</td>\n",
       "    </tr>\n",
       "    <tr>\n",
       "      <th>1013.000</th>\n",
       "      <th>76</th>\n",
       "      <td>-31.354237</td>\n",
       "      <td>2.643608</td>\n",
       "      <td>-28.710630</td>\n",
       "    </tr>\n",
       "  </tbody>\n",
       "</table>\n",
       "</div>"
      ],
      "text/plain": [
       "                     flug      fldg      fnetg\n",
       "pressure level                                \n",
       "0.000    1     -30.904959  0.000000 -30.904959\n",
       "180.875  41    -30.905100  0.000078 -30.905022\n",
       "1013.000 76    -31.354237  2.643608 -28.710630"
      ]
     },
     "metadata": {},
     "output_type": "display_data"
    },
    {
     "data": {
      "text/markdown": [
       "*TABLE.* Fluxes. CRD"
      ],
      "text/plain": [
       "<IPython.core.display.Markdown object>"
      ]
     },
     "metadata": {},
     "output_type": "display_data"
    },
    {
     "data": {
      "text/html": [
       "<div>\n",
       "<style scoped>\n",
       "    .dataframe tbody tr th:only-of-type {\n",
       "        vertical-align: middle;\n",
       "    }\n",
       "\n",
       "    .dataframe tbody tr th {\n",
       "        vertical-align: top;\n",
       "    }\n",
       "\n",
       "    .dataframe thead th {\n",
       "        text-align: right;\n",
       "    }\n",
       "</style>\n",
       "<table border=\"1\" class=\"dataframe\">\n",
       "  <thead>\n",
       "    <tr style=\"text-align: right;\">\n",
       "      <th></th>\n",
       "      <th></th>\n",
       "      <th>flug</th>\n",
       "      <th>fldg</th>\n",
       "      <th>fnetg</th>\n",
       "    </tr>\n",
       "    <tr>\n",
       "      <th>pressure</th>\n",
       "      <th>level</th>\n",
       "      <th></th>\n",
       "      <th></th>\n",
       "      <th></th>\n",
       "    </tr>\n",
       "  </thead>\n",
       "  <tbody>\n",
       "    <tr>\n",
       "      <th>0.000</th>\n",
       "      <th>1</th>\n",
       "      <td>-30.935792</td>\n",
       "      <td>0.000000</td>\n",
       "      <td>-30.935792</td>\n",
       "    </tr>\n",
       "    <tr>\n",
       "      <th>180.875</th>\n",
       "      <th>41</th>\n",
       "      <td>-30.935913</td>\n",
       "      <td>0.000052</td>\n",
       "      <td>-30.935861</td>\n",
       "    </tr>\n",
       "    <tr>\n",
       "      <th>1013.000</th>\n",
       "      <th>76</th>\n",
       "      <td>-31.354237</td>\n",
       "      <td>2.620224</td>\n",
       "      <td>-28.734013</td>\n",
       "    </tr>\n",
       "  </tbody>\n",
       "</table>\n",
       "</div>"
      ],
      "text/plain": [
       "                     flug      fldg      fnetg\n",
       "pressure level                                \n",
       "0.000    1     -30.935792  0.000000 -30.935792\n",
       "180.875  41    -30.935913  0.000052 -30.935861\n",
       "1013.000 76    -31.354237  2.620224 -28.734013"
      ]
     },
     "metadata": {},
     "output_type": "display_data"
    },
    {
     "data": {
      "text/markdown": [
       "*TABLE.* Fluxes. WGT igg=1"
      ],
      "text/plain": [
       "<IPython.core.display.Markdown object>"
      ]
     },
     "metadata": {},
     "output_type": "display_data"
    },
    {
     "data": {
      "text/html": [
       "<div>\n",
       "<style scoped>\n",
       "    .dataframe tbody tr th:only-of-type {\n",
       "        vertical-align: middle;\n",
       "    }\n",
       "\n",
       "    .dataframe tbody tr th {\n",
       "        vertical-align: top;\n",
       "    }\n",
       "\n",
       "    .dataframe thead th {\n",
       "        text-align: right;\n",
       "    }\n",
       "</style>\n",
       "<table border=\"1\" class=\"dataframe\">\n",
       "  <thead>\n",
       "    <tr style=\"text-align: right;\">\n",
       "      <th></th>\n",
       "      <th></th>\n",
       "      <th>flug</th>\n",
       "      <th>fldg</th>\n",
       "      <th>fnetg</th>\n",
       "    </tr>\n",
       "    <tr>\n",
       "      <th>pressure</th>\n",
       "      <th>level</th>\n",
       "      <th></th>\n",
       "      <th></th>\n",
       "      <th></th>\n",
       "    </tr>\n",
       "  </thead>\n",
       "  <tbody>\n",
       "    <tr>\n",
       "      <th>0.000</th>\n",
       "      <th>1</th>\n",
       "      <td>-30.954430</td>\n",
       "      <td>0.000000</td>\n",
       "      <td>-30.954430</td>\n",
       "    </tr>\n",
       "    <tr>\n",
       "      <th>180.875</th>\n",
       "      <th>41</th>\n",
       "      <td>-30.954539</td>\n",
       "      <td>0.000043</td>\n",
       "      <td>-30.954496</td>\n",
       "    </tr>\n",
       "    <tr>\n",
       "      <th>1013.000</th>\n",
       "      <th>76</th>\n",
       "      <td>-31.354237</td>\n",
       "      <td>2.560889</td>\n",
       "      <td>-28.793347</td>\n",
       "    </tr>\n",
       "  </tbody>\n",
       "</table>\n",
       "</div>"
      ],
      "text/plain": [
       "                     flug      fldg      fnetg\n",
       "pressure level                                \n",
       "0.000    1     -30.954430  0.000000 -30.954430\n",
       "180.875  41    -30.954539  0.000043 -30.954496\n",
       "1013.000 76    -31.354237  2.560889 -28.793347"
      ]
     },
     "metadata": {},
     "output_type": "display_data"
    },
    {
     "data": {
      "text/markdown": [
       "*TABLE.* Fluxes. WGT igg=10"
      ],
      "text/plain": [
       "<IPython.core.display.Markdown object>"
      ]
     },
     "metadata": {},
     "output_type": "display_data"
    },
    {
     "data": {
      "text/html": [
       "<div>\n",
       "<style scoped>\n",
       "    .dataframe tbody tr th:only-of-type {\n",
       "        vertical-align: middle;\n",
       "    }\n",
       "\n",
       "    .dataframe tbody tr th {\n",
       "        vertical-align: top;\n",
       "    }\n",
       "\n",
       "    .dataframe thead th {\n",
       "        text-align: right;\n",
       "    }\n",
       "</style>\n",
       "<table border=\"1\" class=\"dataframe\">\n",
       "  <thead>\n",
       "    <tr style=\"text-align: right;\">\n",
       "      <th></th>\n",
       "      <th></th>\n",
       "      <th>flug</th>\n",
       "      <th>fldg</th>\n",
       "      <th>fnetg</th>\n",
       "    </tr>\n",
       "    <tr>\n",
       "      <th>pressure</th>\n",
       "      <th>level</th>\n",
       "      <th></th>\n",
       "      <th></th>\n",
       "      <th></th>\n",
       "    </tr>\n",
       "  </thead>\n",
       "  <tbody>\n",
       "    <tr>\n",
       "      <th>0.000</th>\n",
       "      <th>1</th>\n",
       "      <td>-3.083319e-02</td>\n",
       "      <td>0.000000</td>\n",
       "      <td>-0.030833</td>\n",
       "    </tr>\n",
       "    <tr>\n",
       "      <th>180.875</th>\n",
       "      <th>41</th>\n",
       "      <td>-3.081232e-02</td>\n",
       "      <td>-0.000027</td>\n",
       "      <td>-0.030839</td>\n",
       "    </tr>\n",
       "    <tr>\n",
       "      <th>1013.000</th>\n",
       "      <th>76</th>\n",
       "      <td>4.300000e-07</td>\n",
       "      <td>-0.023383</td>\n",
       "      <td>-0.023383</td>\n",
       "    </tr>\n",
       "  </tbody>\n",
       "</table>\n",
       "</div>"
      ],
      "text/plain": [
       "                        flug      fldg     fnetg\n",
       "pressure level                                  \n",
       "0.000    1     -3.083319e-02  0.000000 -0.030833\n",
       "180.875  41    -3.081232e-02 -0.000027 -0.030839\n",
       "1013.000 76     4.300000e-07 -0.023383 -0.023383"
      ]
     },
     "metadata": {},
     "output_type": "display_data"
    },
    {
     "data": {
      "text/markdown": [
       "*TABLE.* Fluxes. (WGT igg=1) - (CRD)"
      ],
      "text/plain": [
       "<IPython.core.display.Markdown object>"
      ]
     },
     "metadata": {},
     "output_type": "display_data"
    },
    {
     "data": {
      "text/html": [
       "<div>\n",
       "<style scoped>\n",
       "    .dataframe tbody tr th:only-of-type {\n",
       "        vertical-align: middle;\n",
       "    }\n",
       "\n",
       "    .dataframe tbody tr th {\n",
       "        vertical-align: top;\n",
       "    }\n",
       "\n",
       "    .dataframe thead th {\n",
       "        text-align: right;\n",
       "    }\n",
       "</style>\n",
       "<table border=\"1\" class=\"dataframe\">\n",
       "  <thead>\n",
       "    <tr style=\"text-align: right;\">\n",
       "      <th></th>\n",
       "      <th></th>\n",
       "      <th>flug</th>\n",
       "      <th>fldg</th>\n",
       "      <th>fnetg</th>\n",
       "    </tr>\n",
       "    <tr>\n",
       "      <th>pressure</th>\n",
       "      <th>level</th>\n",
       "      <th></th>\n",
       "      <th></th>\n",
       "      <th></th>\n",
       "    </tr>\n",
       "  </thead>\n",
       "  <tbody>\n",
       "    <tr>\n",
       "      <th>0.000</th>\n",
       "      <th>1</th>\n",
       "      <td>-4.947086e-02</td>\n",
       "      <td>0.000000</td>\n",
       "      <td>-0.049471</td>\n",
       "    </tr>\n",
       "    <tr>\n",
       "      <th>180.875</th>\n",
       "      <th>41</th>\n",
       "      <td>-4.943855e-02</td>\n",
       "      <td>-0.000035</td>\n",
       "      <td>-0.049474</td>\n",
       "    </tr>\n",
       "    <tr>\n",
       "      <th>1013.000</th>\n",
       "      <th>76</th>\n",
       "      <td>4.300000e-07</td>\n",
       "      <td>-0.082718</td>\n",
       "      <td>-0.082718</td>\n",
       "    </tr>\n",
       "  </tbody>\n",
       "</table>\n",
       "</div>"
      ],
      "text/plain": [
       "                        flug      fldg     fnetg\n",
       "pressure level                                  \n",
       "0.000    1     -4.947086e-02  0.000000 -0.049471\n",
       "180.875  41    -4.943855e-02 -0.000035 -0.049474\n",
       "1013.000 76     4.300000e-07 -0.082718 -0.082718"
      ]
     },
     "metadata": {},
     "output_type": "display_data"
    },
    {
     "data": {
      "text/markdown": [
       "*TABLE.* Fluxes. (WGT igg=10) - (CRD)"
      ],
      "text/plain": [
       "<IPython.core.display.Markdown object>"
      ]
     },
     "metadata": {},
     "output_type": "display_data"
    },
    {
     "data": {
      "text/html": [
       "<a id=\"g-interval_Summary\"></a>"
      ],
      "text/plain": [
       "<IPython.core.display.HTML object>"
      ]
     },
     "metadata": {},
     "output_type": "display_data"
    },
    {
     "data": {
      "text/markdown": [
       "# g-interval Summary"
      ],
      "text/plain": [
       "<IPython.core.display.Markdown object>"
      ]
     },
     "metadata": {},
     "output_type": "display_data"
    },
    {
     "data": {
      "text/html": [
       "<div>\n",
       "<style scoped>\n",
       "    .dataframe tbody tr th:only-of-type {\n",
       "        vertical-align: middle;\n",
       "    }\n",
       "\n",
       "    .dataframe tbody tr th {\n",
       "        vertical-align: top;\n",
       "    }\n",
       "\n",
       "    .dataframe thead th {\n",
       "        text-align: right;\n",
       "    }\n",
       "</style>\n",
       "<table border=\"1\" class=\"dataframe\">\n",
       "  <thead>\n",
       "    <tr style=\"text-align: right;\">\n",
       "      <th></th>\n",
       "      <th>abscom</th>\n",
       "      <th>k(ig) / k(ig - 1)</th>\n",
       "      <th>dg</th>\n",
       "      <th>dgs</th>\n",
       "      <th>dg cumsum</th>\n",
       "      <th>dgs cumsum</th>\n",
       "      <th>pref</th>\n",
       "    </tr>\n",
       "    <tr>\n",
       "      <th>g</th>\n",
       "      <th></th>\n",
       "      <th></th>\n",
       "      <th></th>\n",
       "      <th></th>\n",
       "      <th></th>\n",
       "      <th></th>\n",
       "      <th></th>\n",
       "    </tr>\n",
       "  </thead>\n",
       "  <tbody>\n",
       "    <tr>\n",
       "      <th>1</th>\n",
       "      <td>1.352671e-23</td>\n",
       "      <td>NaN</td>\n",
       "      <td>0.007533</td>\n",
       "      <td>0.006993</td>\n",
       "      <td>0.007533</td>\n",
       "      <td>0.006993</td>\n",
       "      <td>600.0</td>\n",
       "    </tr>\n",
       "    <tr>\n",
       "      <th>2</th>\n",
       "      <td>1.000008e-24</td>\n",
       "      <td>0.073928</td>\n",
       "      <td>0.065850</td>\n",
       "      <td>0.064137</td>\n",
       "      <td>0.073383</td>\n",
       "      <td>0.071130</td>\n",
       "      <td>600.0</td>\n",
       "    </tr>\n",
       "    <tr>\n",
       "      <th>3</th>\n",
       "      <td>1.361273e-27</td>\n",
       "      <td>0.001361</td>\n",
       "      <td>0.926617</td>\n",
       "      <td>0.928870</td>\n",
       "      <td>1.000000</td>\n",
       "      <td>1.000000</td>\n",
       "      <td>600.0</td>\n",
       "    </tr>\n",
       "  </tbody>\n",
       "</table>\n",
       "</div>"
      ],
      "text/plain": [
       "         abscom  k(ig) / k(ig - 1)        dg       dgs  dg cumsum  dgs cumsum  \\\n",
       "g                                                                               \n",
       "1  1.352671e-23                NaN  0.007533  0.006993   0.007533    0.006993   \n",
       "2  1.000008e-24           0.073928  0.065850  0.064137   0.073383    0.071130   \n",
       "3  1.361273e-27           0.001361  0.926617  0.928870   1.000000    1.000000   \n",
       "\n",
       "    pref  \n",
       "g         \n",
       "1  600.0  \n",
       "2  600.0  \n",
       "3  600.0  "
      ]
     },
     "metadata": {},
     "output_type": "display_data"
    },
    {
     "data": {
      "text/markdown": [
       "TABLE. g-interval summary.  *abscom* is the lower bound of the g-interval."
      ],
      "text/plain": [
       "<IPython.core.display.Markdown object>"
      ]
     },
     "metadata": {},
     "output_type": "display_data"
    },
    {
     "data": {
      "text/html": [
       "<a id=\"Download_Data\"></a>"
      ],
      "text/plain": [
       "<IPython.core.display.HTML object>"
      ]
     },
     "metadata": {},
     "output_type": "display_data"
    },
    {
     "data": {
      "text/markdown": [
       "# Download Data"
      ],
      "text/plain": [
       "<IPython.core.display.Markdown object>"
      ]
     },
     "metadata": {},
     "output_type": "display_data"
    },
    {
     "data": {
      "text/html": [
       "Download: <a href=\"./lblnew-bestfit_flux.xlsx\">lblnew-bestfit_flux.xlsx</a>"
      ],
      "text/plain": [
       "<IPython.core.display.HTML object>"
      ]
     },
     "metadata": {},
     "output_type": "display_data"
    },
    {
     "data": {
      "text/html": [
       "Download: <a href=\"./lblnew-bestfit_cool.xlsx\">lblnew-bestfit_cool.xlsx</a>"
      ],
      "text/plain": [
       "<IPython.core.display.HTML object>"
      ]
     },
     "metadata": {},
     "output_type": "display_data"
    }
   ],
   "source": [
    "script()"
   ]
  },
  {
   "cell_type": "code",
   "execution_count": 14,
   "metadata": {},
   "outputs": [
    {
     "data": {
      "text/html": [
       "<script>\n",
       "code_show=true; \n",
       "function code_toggle() {\n",
       " if (code_show){\n",
       " $('div.input').hide();\n",
       " } else {\n",
       " $('div.input').show();\n",
       " }\n",
       " code_show = !code_show\n",
       "} \n",
       "$( document ).ready(code_toggle);\n",
       "</script>\n",
       "<form action=\"javascript:code_toggle()\"><input type=\"submit\" value=\"Click here to toggle on/off the raw code.\"></form>"
      ],
      "text/plain": [
       "<IPython.core.display.HTML object>"
      ]
     },
     "execution_count": 14,
     "metadata": {},
     "output_type": "execute_result"
    }
   ],
   "source": [
    "display.HTML('''<script>\n",
    "code_show=true; \n",
    "function code_toggle() {\n",
    " if (code_show){\n",
    " $('div.input').hide();\n",
    " } else {\n",
    " $('div.input').show();\n",
    " }\n",
    " code_show = !code_show\n",
    "} \n",
    "$( document ).ready(code_toggle);\n",
    "</script>\n",
    "<form action=\"javascript:code_toggle()\"><input type=\"submit\" value=\"Click here to toggle on/off the raw code.\"></form>''')"
   ]
  },
  {
   "cell_type": "code",
   "execution_count": 15,
   "metadata": {
    "collapsed": true
   },
   "outputs": [],
   "source": []
  }
 ],
 "metadata": {
  "kernelspec": {
   "display_name": "Python 3",
   "language": "python",
   "name": "python3"
  },
  "language_info": {
   "codemirror_mode": {
    "name": "ipython",
    "version": 3
   },
   "file_extension": ".py",
   "mimetype": "text/x-python",
   "name": "python",
   "nbconvert_exporter": "python",
   "pygments_lexer": "ipython3",
   "version": "3.6.1"
  }
 },
 "nbformat": 4,
 "nbformat_minor": 2
}
