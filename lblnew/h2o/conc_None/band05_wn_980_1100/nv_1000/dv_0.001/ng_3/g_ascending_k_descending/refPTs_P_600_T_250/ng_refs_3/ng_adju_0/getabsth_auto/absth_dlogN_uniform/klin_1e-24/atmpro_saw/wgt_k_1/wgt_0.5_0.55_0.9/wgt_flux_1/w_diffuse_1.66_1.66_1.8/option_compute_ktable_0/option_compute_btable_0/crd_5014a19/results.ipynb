{
 "cells": [
  {
   "cell_type": "code",
   "execution_count": 1,
   "metadata": {
    "collapsed": true
   },
   "outputs": [],
   "source": [
    "%reload_ext autoreload\n",
    "%autoreload 2\n",
    "%matplotlib inline"
   ]
  },
  {
   "cell_type": "code",
   "execution_count": 2,
   "metadata": {
    "collapsed": true
   },
   "outputs": [],
   "source": [
    "import io\n",
    "\n",
    "import numpy as np\n",
    "import pymongo\n",
    "\n",
    "from bokeh.io import output_notebook, show\n",
    "from bokeh.palettes import all_palettes\n",
    "from bokeh.layouts import gridplot\n",
    "\n",
    "from IPython import display\n",
    "\n",
    "from climatools.cliradlw.dataset import load_output_file\n",
    "import climatools.html.html as climahtml\n",
    "from climatools.plot.plot import *"
   ]
  },
  {
   "cell_type": "code",
   "execution_count": 3,
   "metadata": {},
   "outputs": [
    {
     "data": {
      "text/html": [
       "\n",
       "    <div class=\"bk-root\">\n",
       "        <a href=\"https://bokeh.pydata.org\" target=\"_blank\" class=\"bk-logo bk-logo-small bk-logo-notebook\"></a>\n",
       "        <span id=\"d8020089-2905-4336-b288-7c388cb5cabb\">Loading BokehJS ...</span>\n",
       "    </div>"
      ]
     },
     "metadata": {},
     "output_type": "display_data"
    },
    {
     "data": {
      "application/javascript": [
       "\n",
       "(function(root) {\n",
       "  function now() {\n",
       "    return new Date();\n",
       "  }\n",
       "\n",
       "  var force = true;\n",
       "\n",
       "  if (typeof (root._bokeh_onload_callbacks) === \"undefined\" || force === true) {\n",
       "    root._bokeh_onload_callbacks = [];\n",
       "    root._bokeh_is_loading = undefined;\n",
       "  }\n",
       "\n",
       "  var JS_MIME_TYPE = 'application/javascript';\n",
       "  var HTML_MIME_TYPE = 'text/html';\n",
       "  var EXEC_MIME_TYPE = 'application/vnd.bokehjs_exec.v0+json';\n",
       "  var CLASS_NAME = 'output_bokeh rendered_html';\n",
       "\n",
       "  /**\n",
       "   * Render data to the DOM node\n",
       "   */\n",
       "  function render(props, node) {\n",
       "    var script = document.createElement(\"script\");\n",
       "    node.appendChild(script);\n",
       "  }\n",
       "\n",
       "  /**\n",
       "   * Handle when an output is cleared or removed\n",
       "   */\n",
       "  function handleClearOutput(event, handle) {\n",
       "    var cell = handle.cell;\n",
       "\n",
       "    var id = cell.output_area._bokeh_element_id;\n",
       "    var server_id = cell.output_area._bokeh_server_id;\n",
       "    // Clean up Bokeh references\n",
       "    if (id !== undefined) {\n",
       "      Bokeh.index[id].model.document.clear();\n",
       "      delete Bokeh.index[id];\n",
       "    }\n",
       "\n",
       "    if (server_id !== undefined) {\n",
       "      // Clean up Bokeh references\n",
       "      var cmd = \"from bokeh.io.state import curstate; print(curstate().uuid_to_server['\" + server_id + \"'].get_sessions()[0].document.roots[0]._id)\";\n",
       "      cell.notebook.kernel.execute(cmd, {\n",
       "        iopub: {\n",
       "          output: function(msg) {\n",
       "            var element_id = msg.content.text.trim();\n",
       "            Bokeh.index[element_id].model.document.clear();\n",
       "            delete Bokeh.index[element_id];\n",
       "          }\n",
       "        }\n",
       "      });\n",
       "      // Destroy server and session\n",
       "      var cmd = \"import bokeh.io.notebook as ion; ion.destroy_server('\" + server_id + \"')\";\n",
       "      cell.notebook.kernel.execute(cmd);\n",
       "    }\n",
       "  }\n",
       "\n",
       "  /**\n",
       "   * Handle when a new output is added\n",
       "   */\n",
       "  function handleAddOutput(event, handle) {\n",
       "    var output_area = handle.output_area;\n",
       "    var output = handle.output;\n",
       "\n",
       "    // limit handleAddOutput to display_data with EXEC_MIME_TYPE content only\n",
       "    if ((output.output_type != \"display_data\") || (!output.data.hasOwnProperty(EXEC_MIME_TYPE))) {\n",
       "      return\n",
       "    }\n",
       "\n",
       "    var toinsert = output_area.element.find(\".\" + CLASS_NAME.split(' ')[0]);\n",
       "\n",
       "    if (output.metadata[EXEC_MIME_TYPE][\"id\"] !== undefined) {\n",
       "      toinsert[toinsert.length - 1].firstChild.textContent = output.data[JS_MIME_TYPE];\n",
       "      // store reference to embed id on output_area\n",
       "      output_area._bokeh_element_id = output.metadata[EXEC_MIME_TYPE][\"id\"];\n",
       "    }\n",
       "    if (output.metadata[EXEC_MIME_TYPE][\"server_id\"] !== undefined) {\n",
       "      var bk_div = document.createElement(\"div\");\n",
       "      bk_div.innerHTML = output.data[HTML_MIME_TYPE];\n",
       "      var script_attrs = bk_div.children[0].attributes;\n",
       "      for (var i = 0; i < script_attrs.length; i++) {\n",
       "        toinsert[toinsert.length - 1].firstChild.setAttribute(script_attrs[i].name, script_attrs[i].value);\n",
       "      }\n",
       "      // store reference to server id on output_area\n",
       "      output_area._bokeh_server_id = output.metadata[EXEC_MIME_TYPE][\"server_id\"];\n",
       "    }\n",
       "  }\n",
       "\n",
       "  function register_renderer(events, OutputArea) {\n",
       "\n",
       "    function append_mime(data, metadata, element) {\n",
       "      // create a DOM node to render to\n",
       "      var toinsert = this.create_output_subarea(\n",
       "        metadata,\n",
       "        CLASS_NAME,\n",
       "        EXEC_MIME_TYPE\n",
       "      );\n",
       "      this.keyboard_manager.register_events(toinsert);\n",
       "      // Render to node\n",
       "      var props = {data: data, metadata: metadata[EXEC_MIME_TYPE]};\n",
       "      render(props, toinsert[toinsert.length - 1]);\n",
       "      element.append(toinsert);\n",
       "      return toinsert\n",
       "    }\n",
       "\n",
       "    /* Handle when an output is cleared or removed */\n",
       "    events.on('clear_output.CodeCell', handleClearOutput);\n",
       "    events.on('delete.Cell', handleClearOutput);\n",
       "\n",
       "    /* Handle when a new output is added */\n",
       "    events.on('output_added.OutputArea', handleAddOutput);\n",
       "\n",
       "    /**\n",
       "     * Register the mime type and append_mime function with output_area\n",
       "     */\n",
       "    OutputArea.prototype.register_mime_type(EXEC_MIME_TYPE, append_mime, {\n",
       "      /* Is output safe? */\n",
       "      safe: true,\n",
       "      /* Index of renderer in `output_area.display_order` */\n",
       "      index: 0\n",
       "    });\n",
       "  }\n",
       "\n",
       "  // register the mime type if in Jupyter Notebook environment and previously unregistered\n",
       "  if (root.Jupyter !== undefined) {\n",
       "    var events = require('base/js/events');\n",
       "    var OutputArea = require('notebook/js/outputarea').OutputArea;\n",
       "\n",
       "    if (OutputArea.prototype.mime_types().indexOf(EXEC_MIME_TYPE) == -1) {\n",
       "      register_renderer(events, OutputArea);\n",
       "    }\n",
       "  }\n",
       "\n",
       "  \n",
       "  if (typeof (root._bokeh_timeout) === \"undefined\" || force === true) {\n",
       "    root._bokeh_timeout = Date.now() + 5000;\n",
       "    root._bokeh_failed_load = false;\n",
       "  }\n",
       "\n",
       "  var NB_LOAD_WARNING = {'data': {'text/html':\n",
       "     \"<div style='background-color: #fdd'>\\n\"+\n",
       "     \"<p>\\n\"+\n",
       "     \"BokehJS does not appear to have successfully loaded. If loading BokehJS from CDN, this \\n\"+\n",
       "     \"may be due to a slow or bad network connection. Possible fixes:\\n\"+\n",
       "     \"</p>\\n\"+\n",
       "     \"<ul>\\n\"+\n",
       "     \"<li>re-rerun `output_notebook()` to attempt to load from CDN again, or</li>\\n\"+\n",
       "     \"<li>use INLINE resources instead, as so:</li>\\n\"+\n",
       "     \"</ul>\\n\"+\n",
       "     \"<code>\\n\"+\n",
       "     \"from bokeh.resources import INLINE\\n\"+\n",
       "     \"output_notebook(resources=INLINE)\\n\"+\n",
       "     \"</code>\\n\"+\n",
       "     \"</div>\"}};\n",
       "\n",
       "  function display_loaded() {\n",
       "    var el = document.getElementById(\"d8020089-2905-4336-b288-7c388cb5cabb\");\n",
       "    if (el != null) {\n",
       "      el.textContent = \"BokehJS is loading...\";\n",
       "    }\n",
       "    if (root.Bokeh !== undefined) {\n",
       "      if (el != null) {\n",
       "        el.textContent = \"BokehJS \" + root.Bokeh.version + \" successfully loaded.\";\n",
       "      }\n",
       "    } else if (Date.now() < root._bokeh_timeout) {\n",
       "      setTimeout(display_loaded, 100)\n",
       "    }\n",
       "  }\n",
       "\n",
       "\n",
       "  function run_callbacks() {\n",
       "    try {\n",
       "      root._bokeh_onload_callbacks.forEach(function(callback) { callback() });\n",
       "    }\n",
       "    finally {\n",
       "      delete root._bokeh_onload_callbacks\n",
       "    }\n",
       "    console.info(\"Bokeh: all callbacks have finished\");\n",
       "  }\n",
       "\n",
       "  function load_libs(js_urls, callback) {\n",
       "    root._bokeh_onload_callbacks.push(callback);\n",
       "    if (root._bokeh_is_loading > 0) {\n",
       "      console.log(\"Bokeh: BokehJS is being loaded, scheduling callback at\", now());\n",
       "      return null;\n",
       "    }\n",
       "    if (js_urls == null || js_urls.length === 0) {\n",
       "      run_callbacks();\n",
       "      return null;\n",
       "    }\n",
       "    console.log(\"Bokeh: BokehJS not loaded, scheduling load and callback at\", now());\n",
       "    root._bokeh_is_loading = js_urls.length;\n",
       "    for (var i = 0; i < js_urls.length; i++) {\n",
       "      var url = js_urls[i];\n",
       "      var s = document.createElement('script');\n",
       "      s.src = url;\n",
       "      s.async = false;\n",
       "      s.onreadystatechange = s.onload = function() {\n",
       "        root._bokeh_is_loading--;\n",
       "        if (root._bokeh_is_loading === 0) {\n",
       "          console.log(\"Bokeh: all BokehJS libraries loaded\");\n",
       "          run_callbacks()\n",
       "        }\n",
       "      };\n",
       "      s.onerror = function() {\n",
       "        console.warn(\"failed to load library \" + url);\n",
       "      };\n",
       "      console.log(\"Bokeh: injecting script tag for BokehJS library: \", url);\n",
       "      document.getElementsByTagName(\"head\")[0].appendChild(s);\n",
       "    }\n",
       "  };var element = document.getElementById(\"d8020089-2905-4336-b288-7c388cb5cabb\");\n",
       "  if (element == null) {\n",
       "    console.log(\"Bokeh: ERROR: autoload.js configured with elementid 'd8020089-2905-4336-b288-7c388cb5cabb' but no matching script tag was found. \")\n",
       "    return false;\n",
       "  }\n",
       "\n",
       "  var js_urls = [\"https://cdn.pydata.org/bokeh/release/bokeh-0.12.16.min.js\", \"https://cdn.pydata.org/bokeh/release/bokeh-widgets-0.12.16.min.js\", \"https://cdn.pydata.org/bokeh/release/bokeh-tables-0.12.16.min.js\", \"https://cdn.pydata.org/bokeh/release/bokeh-gl-0.12.16.min.js\"];\n",
       "\n",
       "  var inline_js = [\n",
       "    function(Bokeh) {\n",
       "      Bokeh.set_log_level(\"info\");\n",
       "    },\n",
       "    \n",
       "    function(Bokeh) {\n",
       "      \n",
       "    },\n",
       "    function(Bokeh) {\n",
       "      console.log(\"Bokeh: injecting CSS: https://cdn.pydata.org/bokeh/release/bokeh-0.12.16.min.css\");\n",
       "      Bokeh.embed.inject_css(\"https://cdn.pydata.org/bokeh/release/bokeh-0.12.16.min.css\");\n",
       "      console.log(\"Bokeh: injecting CSS: https://cdn.pydata.org/bokeh/release/bokeh-widgets-0.12.16.min.css\");\n",
       "      Bokeh.embed.inject_css(\"https://cdn.pydata.org/bokeh/release/bokeh-widgets-0.12.16.min.css\");\n",
       "      console.log(\"Bokeh: injecting CSS: https://cdn.pydata.org/bokeh/release/bokeh-tables-0.12.16.min.css\");\n",
       "      Bokeh.embed.inject_css(\"https://cdn.pydata.org/bokeh/release/bokeh-tables-0.12.16.min.css\");\n",
       "    }\n",
       "  ];\n",
       "\n",
       "  function run_inline_js() {\n",
       "    \n",
       "    if ((root.Bokeh !== undefined) || (force === true)) {\n",
       "      for (var i = 0; i < inline_js.length; i++) {\n",
       "        inline_js[i].call(root, root.Bokeh);\n",
       "      }if (force === true) {\n",
       "        display_loaded();\n",
       "      }} else if (Date.now() < root._bokeh_timeout) {\n",
       "      setTimeout(run_inline_js, 100);\n",
       "    } else if (!root._bokeh_failed_load) {\n",
       "      console.log(\"Bokeh: BokehJS failed to load within specified timeout.\");\n",
       "      root._bokeh_failed_load = true;\n",
       "    } else if (force !== true) {\n",
       "      var cell = $(document.getElementById(\"d8020089-2905-4336-b288-7c388cb5cabb\")).parents('.cell').data().cell;\n",
       "      cell.output_area.append_execute_result(NB_LOAD_WARNING)\n",
       "    }\n",
       "\n",
       "  }\n",
       "\n",
       "  if (root._bokeh_is_loading === 0) {\n",
       "    console.log(\"Bokeh: BokehJS loaded, going straight to plotting\");\n",
       "    run_inline_js();\n",
       "  } else {\n",
       "    load_libs(js_urls, function() {\n",
       "      console.log(\"Bokeh: BokehJS plotting callback run at\", now());\n",
       "      run_inline_js();\n",
       "    });\n",
       "  }\n",
       "}(window));"
      ],
      "application/vnd.bokehjs_load.v0+json": "\n(function(root) {\n  function now() {\n    return new Date();\n  }\n\n  var force = true;\n\n  if (typeof (root._bokeh_onload_callbacks) === \"undefined\" || force === true) {\n    root._bokeh_onload_callbacks = [];\n    root._bokeh_is_loading = undefined;\n  }\n\n  \n\n  \n  if (typeof (root._bokeh_timeout) === \"undefined\" || force === true) {\n    root._bokeh_timeout = Date.now() + 5000;\n    root._bokeh_failed_load = false;\n  }\n\n  var NB_LOAD_WARNING = {'data': {'text/html':\n     \"<div style='background-color: #fdd'>\\n\"+\n     \"<p>\\n\"+\n     \"BokehJS does not appear to have successfully loaded. If loading BokehJS from CDN, this \\n\"+\n     \"may be due to a slow or bad network connection. Possible fixes:\\n\"+\n     \"</p>\\n\"+\n     \"<ul>\\n\"+\n     \"<li>re-rerun `output_notebook()` to attempt to load from CDN again, or</li>\\n\"+\n     \"<li>use INLINE resources instead, as so:</li>\\n\"+\n     \"</ul>\\n\"+\n     \"<code>\\n\"+\n     \"from bokeh.resources import INLINE\\n\"+\n     \"output_notebook(resources=INLINE)\\n\"+\n     \"</code>\\n\"+\n     \"</div>\"}};\n\n  function display_loaded() {\n    var el = document.getElementById(\"d8020089-2905-4336-b288-7c388cb5cabb\");\n    if (el != null) {\n      el.textContent = \"BokehJS is loading...\";\n    }\n    if (root.Bokeh !== undefined) {\n      if (el != null) {\n        el.textContent = \"BokehJS \" + root.Bokeh.version + \" successfully loaded.\";\n      }\n    } else if (Date.now() < root._bokeh_timeout) {\n      setTimeout(display_loaded, 100)\n    }\n  }\n\n\n  function run_callbacks() {\n    try {\n      root._bokeh_onload_callbacks.forEach(function(callback) { callback() });\n    }\n    finally {\n      delete root._bokeh_onload_callbacks\n    }\n    console.info(\"Bokeh: all callbacks have finished\");\n  }\n\n  function load_libs(js_urls, callback) {\n    root._bokeh_onload_callbacks.push(callback);\n    if (root._bokeh_is_loading > 0) {\n      console.log(\"Bokeh: BokehJS is being loaded, scheduling callback at\", now());\n      return null;\n    }\n    if (js_urls == null || js_urls.length === 0) {\n      run_callbacks();\n      return null;\n    }\n    console.log(\"Bokeh: BokehJS not loaded, scheduling load and callback at\", now());\n    root._bokeh_is_loading = js_urls.length;\n    for (var i = 0; i < js_urls.length; i++) {\n      var url = js_urls[i];\n      var s = document.createElement('script');\n      s.src = url;\n      s.async = false;\n      s.onreadystatechange = s.onload = function() {\n        root._bokeh_is_loading--;\n        if (root._bokeh_is_loading === 0) {\n          console.log(\"Bokeh: all BokehJS libraries loaded\");\n          run_callbacks()\n        }\n      };\n      s.onerror = function() {\n        console.warn(\"failed to load library \" + url);\n      };\n      console.log(\"Bokeh: injecting script tag for BokehJS library: \", url);\n      document.getElementsByTagName(\"head\")[0].appendChild(s);\n    }\n  };var element = document.getElementById(\"d8020089-2905-4336-b288-7c388cb5cabb\");\n  if (element == null) {\n    console.log(\"Bokeh: ERROR: autoload.js configured with elementid 'd8020089-2905-4336-b288-7c388cb5cabb' but no matching script tag was found. \")\n    return false;\n  }\n\n  var js_urls = [\"https://cdn.pydata.org/bokeh/release/bokeh-0.12.16.min.js\", \"https://cdn.pydata.org/bokeh/release/bokeh-widgets-0.12.16.min.js\", \"https://cdn.pydata.org/bokeh/release/bokeh-tables-0.12.16.min.js\", \"https://cdn.pydata.org/bokeh/release/bokeh-gl-0.12.16.min.js\"];\n\n  var inline_js = [\n    function(Bokeh) {\n      Bokeh.set_log_level(\"info\");\n    },\n    \n    function(Bokeh) {\n      \n    },\n    function(Bokeh) {\n      console.log(\"Bokeh: injecting CSS: https://cdn.pydata.org/bokeh/release/bokeh-0.12.16.min.css\");\n      Bokeh.embed.inject_css(\"https://cdn.pydata.org/bokeh/release/bokeh-0.12.16.min.css\");\n      console.log(\"Bokeh: injecting CSS: https://cdn.pydata.org/bokeh/release/bokeh-widgets-0.12.16.min.css\");\n      Bokeh.embed.inject_css(\"https://cdn.pydata.org/bokeh/release/bokeh-widgets-0.12.16.min.css\");\n      console.log(\"Bokeh: injecting CSS: https://cdn.pydata.org/bokeh/release/bokeh-tables-0.12.16.min.css\");\n      Bokeh.embed.inject_css(\"https://cdn.pydata.org/bokeh/release/bokeh-tables-0.12.16.min.css\");\n    }\n  ];\n\n  function run_inline_js() {\n    \n    if ((root.Bokeh !== undefined) || (force === true)) {\n      for (var i = 0; i < inline_js.length; i++) {\n        inline_js[i].call(root, root.Bokeh);\n      }if (force === true) {\n        display_loaded();\n      }} else if (Date.now() < root._bokeh_timeout) {\n      setTimeout(run_inline_js, 100);\n    } else if (!root._bokeh_failed_load) {\n      console.log(\"Bokeh: BokehJS failed to load within specified timeout.\");\n      root._bokeh_failed_load = true;\n    } else if (force !== true) {\n      var cell = $(document.getElementById(\"d8020089-2905-4336-b288-7c388cb5cabb\")).parents('.cell').data().cell;\n      cell.output_area.append_execute_result(NB_LOAD_WARNING)\n    }\n\n  }\n\n  if (root._bokeh_is_loading === 0) {\n    console.log(\"Bokeh: BokehJS loaded, going straight to plotting\");\n    run_inline_js();\n  } else {\n    load_libs(js_urls, function() {\n      console.log(\"Bokeh: BokehJS plotting callback run at\", now());\n      run_inline_js();\n    });\n  }\n}(window));"
     },
     "metadata": {},
     "output_type": "display_data"
    }
   ],
   "source": [
    "output_notebook()"
   ]
  },
  {
   "cell_type": "code",
   "execution_count": 4,
   "metadata": {
    "collapsed": true
   },
   "outputs": [],
   "source": [
    "def make_query(param=None):\n",
    "    '''\n",
    "    Returns the MongoDB query for a lblnew \n",
    "    run's document.\n",
    "    \n",
    "    Parameters\n",
    "    ----------\n",
    "    param: dict\n",
    "    lblnew-bestfit input parameters.\n",
    "    '''\n",
    "    return {'param.' + name: value for name, value in param.items()}   "
   ]
  },
  {
   "cell_type": "code",
   "execution_count": 5,
   "metadata": {
    "collapsed": true
   },
   "outputs": [],
   "source": [
    "def print_input_param():\n",
    "    '''\n",
    "    Print to screen the input parameters \n",
    "    of the lblnew run.\n",
    "    '''\n",
    "    df = pd.DataFrame(columns=['lblnew'])\n",
    "    for name, value in sorted(PARAM.items()):\n",
    "        df.loc[name, 'lblnew'] = value\n",
    "    \n",
    "    df.index.name = 'Input parameter'\n",
    "    df.columns.name = 'Run'\n",
    "    \n",
    "    pd.set_option('display.max_colwidth', -1)\n",
    "    display.display(df)\n",
    "    pd.reset_option('display.max_colwidth')"
   ]
  },
  {
   "cell_type": "code",
   "execution_count": 6,
   "metadata": {
    "collapsed": true
   },
   "outputs": [],
   "source": [
    "def fmt_cool(ds_in):\n",
    "    ds = ds_in.copy(deep=True)\n",
    "    \n",
    "    if 'i' in ds.dims:                                                                                               \n",
    "        ds = ds.sel(i=ds.dims['i']) \n",
    "        \n",
    "    if 'band' in ds.dims:\n",
    "        try:\n",
    "            ds = ds.squeeze('band')\n",
    "        except ValueError:\n",
    "            ds = ds.sum('band') \n",
    "            \n",
    "    return ds['coolrg']\n",
    "\n",
    "\n",
    "\n",
    "def pltdata_cool(g=None):\n",
    "    '''\n",
    "    Define the plotting data for cooling rate\n",
    "    profile plots.  Add/remove entries in\n",
    "    the `data` list.\n",
    "    \n",
    "    Parameters\n",
    "    ----------\n",
    "    g: int\n",
    "        g-interval to be plotted.  If None,\n",
    "        the sum over all g-intervals will be\n",
    "        plotted.\n",
    "    data: dict\n",
    "        Plot data, including colour, line attributes, etc.\n",
    "    '''\n",
    "    colors = all_palettes['Set1'][4]\n",
    "    \n",
    "    if g == None:\n",
    "        ds_cool_crd = DS_COOL_CRD.sum('g')\n",
    "        ds_cool_wgt = DS_COOL_WGT.sum('g')\n",
    "    else:\n",
    "        ds_cool_crd = DS_COOL_CRD.sel(g=g)\n",
    "        ds_cool_wgt = DS_COOL_WGT.sel(g=g)\n",
    "    \n",
    "    data = [\n",
    "        {'label': 'CRD',\n",
    "         'srs': fmt_cool(ds_cool_crd),\n",
    "         'line_dash': 'solid', 'line_width':1.5,\n",
    "         'marker': 'circle', 'mark_size': 5,\n",
    "         'color': colors[2], 'alpha': 1},\n",
    "        {'label': 'WGT igg=1',\n",
    "         'srs': fmt_cool(ds_cool_wgt.sel(igg=1)),\n",
    "         'line_dash': 'solid', 'line_width': 3,\n",
    "         'marker': 'square', 'marker_size': 5,\n",
    "         'color': colors[3], 'alpha': .6},\n",
    "        {'label': 'WGT igg=10',\n",
    "         'srs': fmt_cool(ds_cool_wgt.sel(igg=10)),\n",
    "         'line_dash': 'solid', 'line_width': 2,\n",
    "         'marker': 'triangle', 'marker_size': 2,\n",
    "         'color': colors[1], 'alpha': .3}]\n",
    "    return data\n",
    "\n",
    "\n",
    "\n",
    "def plt_cool(pltdata=None):\n",
    "    '''\n",
    "    Plot cooling rate profiles on linear\n",
    "    and log pressure axes.\n",
    "    \n",
    "    Parameters\n",
    "    ----------\n",
    "    pltdata: dict\n",
    "        Plot data, including colour, line attributes, etc.\n",
    "    everything: bokeh.models.layouts.Column\n",
    "        Cooling rate profile plot.\n",
    "    '''\n",
    "    plin = plt_vert_profile_bokeh(pltdata=pltdata, \n",
    "                                  y_axis_type='linear',\n",
    "                                  prange=(50, 1050))\n",
    "    plin.plot_width, plin.plot_height = 400, 500\n",
    "    \n",
    "    plog = plt_vert_profile_bokeh(pltdata=pltdata,\n",
    "                                  y_axis_type='log',\n",
    "                                  prange=(.01, 200)) \n",
    "    plog.plot_width, plog.plot_height = 400, 500\n",
    "    \n",
    "    everything = gridplot(plin, plog, ncols=2)\n",
    "    return everything\n",
    "    \n",
    "    \n",
    "\n",
    "def script_plt_cool():\n",
    "    '''\n",
    "    Script to plot the cooling rate profiles\n",
    "    in each g-interval and the total \n",
    "    cooling rate profile over all g-intervals.\n",
    "    '''\n",
    "    ng = sum(PARAM['ng_refs'])\n",
    "    for g in np.arange(1, ng + 1):\n",
    "        data = pltdata_cool(g=g)\n",
    "        p = plt_cool(pltdata=data)\n",
    "        show(p)\n",
    "        display.display(\n",
    "            display.Markdown(f'*FIGURE.* Cooling rates. g={g}'))\n",
    "    \n",
    "    data = pltdata_cool()\n",
    "    p = plt_cool(pltdata=data)\n",
    "    show(p)\n",
    "    display.display(\n",
    "        display.Markdown(f'*FIGURE.* Cooling rates. Summed over g.'))\n",
    "    \n"
   ]
  },
  {
   "cell_type": "code",
   "execution_count": 7,
   "metadata": {
    "collapsed": true
   },
   "outputs": [],
   "source": [
    "def fmt_flux(ds_in, ilevels=None):\n",
    "    ds = ds_in.copy(deep=True)\n",
    "    \n",
    "    for l in ('level', 'layer'):\n",
    "        if l in ds.data_vars:\n",
    "            if len(ds[l].dims) > 1:\n",
    "                surface = {d: 0 for d in ds.dims if d != 'pressure'}\n",
    "                coord_level = ds[l][surface]\n",
    "                ds.coords[l] = ('pressure', coord_level)\n",
    "            else:\n",
    "                ds.coords[l] = ('pressure', ds[l])\n",
    "    \n",
    "    if ilevels:\n",
    "        ds = ds.isel(pressure=ilevels)\n",
    "\n",
    "    if 'i' in ds.dims:                                                                                               \n",
    "        ds = ds.sel(i=ds.dims['i'])\n",
    "        \n",
    "    #if 'igg' in ds.dims:\n",
    "    #    ds = ds.squeeze('igg').drop('igg')\n",
    "        \n",
    "    if 'igg' in ds:\n",
    "        if ds['igg'].shape == (1,):\n",
    "            ds = ds.squeeze('igg').drop('igg')\n",
    "        elif ds['igg'].shape == ():\n",
    "            ds = ds.drop('igg')\n",
    "            \n",
    "    if 'g' in ds:\n",
    "        if ds['g'].shape == (1,):\n",
    "            ds = ds.squeeze('g').drop('g')\n",
    "        elif ds['g'].shape == ():\n",
    "            ds = ds.drop('g')\n",
    "            \n",
    "    if 'band' in ds.dims:\n",
    "        try:\n",
    "            ds = ds.squeeze('band').drop('band')\n",
    "        except ValueError:\n",
    "            ds = ds.sum('band')\n",
    "                \n",
    "    df = ds.to_dataframe()\n",
    "    df = df.set_index('level', append=True)               \n",
    "    return df\n",
    "\n",
    "\n",
    "def tbdata_flux():\n",
    "    '''\n",
    "    Define the flux data to be tabulated for\n",
    "    the g-intervals.  Add/remove entries in the\n",
    "    `tbs` list.\n",
    "    \n",
    "    Parameters\n",
    "    ----------\n",
    "    data: dict\n",
    "        Flux data, including how each set is to be\n",
    "        labeled in the output table.\n",
    "    '''\n",
    "    tropopauses = {'mls': 40, 'saw': 45, 'trp': 37}\n",
    "    atmpro = PARAM['atmpro']\n",
    "    ilevels = [0, tropopauses[atmpro], -1]\n",
    "    \n",
    "    benchmark = {'label': 'CRD',\n",
    "                 'df': fmt_flux(DS_FLUX_CRD, ilevels=ilevels)}\n",
    "    \n",
    "    tbs = [{'label': 'WGT igg=1',\n",
    "            'df': fmt_flux(DS_FLUX_WGT.sel(igg=[1]), ilevels=ilevels)},\n",
    "           {'label': 'WGT igg=10',\n",
    "            'df': fmt_flux(DS_FLUX_WGT.sel(igg=[10]), ilevels=ilevels)}]\n",
    "    \n",
    "    data = {'benchmark': benchmark, 'others': tbs}\n",
    "    return data\n",
    "\n",
    "\n",
    "\n",
    "def tbdata_flux_sumg():\n",
    "    '''\n",
    "    Define the total flux data, over all g-intervals,\n",
    "    to be tabulated.\n",
    "    \n",
    "    Parameters\n",
    "    ----------\n",
    "    data: dict\n",
    "        Flux data, including how each set is to e\n",
    "        labeled in the output table.\n",
    "    '''\n",
    "    tropopauses = {'mls': 40, 'saw': 45, 'trp': 37}\n",
    "    \n",
    "    atmpro = PARAM['atmpro']\n",
    "    ilevels = [0, tropopauses[atmpro], -1]\n",
    "    \n",
    "    benchmark = {'label': 'CRD',\n",
    "                 'df': fmt_flux(DS_FLUX_CRD.sum('g'), ilevels=ilevels)}\n",
    "    \n",
    "    tbs = [{'label': 'WGT igg=1',\n",
    "            'df': fmt_flux(DS_FLUX_WGT.sel(igg=[1]).sum('g'), \n",
    "                           ilevels=ilevels)},\n",
    "           {'label': 'WGT igg=10',\n",
    "            'df': fmt_flux(DS_FLUX_WGT.sel(igg=[10]).sum('g'), \n",
    "                           ilevels=ilevels)}]\n",
    "    \n",
    "    data = {'benchmark': benchmark, 'others': tbs}\n",
    "    return data\n",
    "\n",
    "\n",
    "def tb_flux(tbdata=None):\n",
    "    '''\n",
    "    Display flux table for each set, and display\n",
    "    the difference between each set and the set\n",
    "    that is specified to be the benchmark.\n",
    "    \n",
    "    Parameters\n",
    "    ----------\n",
    "    tbdata: dict\n",
    "        Flux data, including how each set it to be\n",
    "        labeled in the output table.\n",
    "    '''\n",
    "    benchmark = tbdata['benchmark']\n",
    "    others = tbdata['others']\n",
    "    \n",
    "    def show_tb(d=None):\n",
    "        display.display(d['df'])\n",
    "        display.display(display.Markdown(\n",
    "            f\"*TABLE.* Fluxes. {d['label']}\"))\n",
    "        \n",
    "    def show_tbdiff(d0=None, d=None):\n",
    "        df = d['df']\n",
    "        df.index = d0['df'].index\n",
    "        display.display(df - d0['df'])\n",
    "        display.display(display.Markdown(\n",
    "            f\"*TABLE.* Fluxes. ({d['label']}) - ({d0['label']})\"))\n",
    "        \n",
    "    show_tb(benchmark)\n",
    "    for d in others:\n",
    "        show_tb(d)\n",
    "        \n",
    "    for d in others:\n",
    "        show_tbdiff(d=d, d0=benchmark)\n",
    "        \n",
    "\n",
    "        \n",
    "def script_tb_flux():\n",
    "    '''\n",
    "    Script to display the flux tables in \n",
    "    each g-interval, and the flux table\n",
    "    for the total flux, over all g-intervals.\n",
    "    '''\n",
    "    tb_flux(tbdata=tbdata_flux())\n",
    "    tb_flux(tbdata=tbdata_flux_sumg())\n"
   ]
  },
  {
   "cell_type": "code",
   "execution_count": 8,
   "metadata": {
    "collapsed": true
   },
   "outputs": [],
   "source": [
    "def script_gsummary():\n",
    "    '''\n",
    "    Script to display how the g-intervals\n",
    "    are defined according the hyperparameters\n",
    "    chosen for this lblnew-bestfit run.\n",
    "    '''\n",
    "    ng_refs = PARAM['ng_refs']\n",
    "    p_refs = list(zip(*PARAM['ref_pts']))[0]\n",
    "    ng = sum(ng_refs)\n",
    "    df_abscom = pd.read_csv(io.StringIO(DOC['abscom']), \n",
    "                            sep=r'\\s+', index_col=[0])\n",
    "    df_dgdgs = pd.read_csv(io.StringIO(DOC['dgdgs']), \n",
    "                            sep=r'\\s+', index_col=[0])\n",
    "    \n",
    "    # absth(g + 1) / absth(g)\n",
    "    df_abscom_copy = df_abscom.copy()\n",
    "    df_abscom_copy.index = df_abscom.index + 1\n",
    "    df_absratio = df_abscom / df_abscom_copy\n",
    "    df_absratio.columns = ['k(ig) / k(ig - 1)']\n",
    "    df_absratio = df_absratio.loc[: ng]    \n",
    "    \n",
    "    df_dgdgs_cumsum = df_dgdgs.cumsum(axis=0)\n",
    "    df_dgdgs_cumsum.columns = ['dg cumsum', 'dgs cumsum']\n",
    "    \n",
    "    data_pref = np.concatenate([p_ref * np.ones((ng_ref,)) \n",
    "                                for ng_ref, p_ref \n",
    "                                in zip(ng_refs, p_refs)], axis=0)\n",
    "    df_pref = pd.DataFrame(data_pref, \n",
    "                           index=df_dgdgs.index, columns=['pref'])\n",
    "    \n",
    "    df_all = pd.concat([df_abscom, df_absratio,\n",
    "                        df_dgdgs, df_dgdgs_cumsum,\n",
    "                        df_pref], axis=1) \n",
    "    \n",
    "    display.display(df_all)\n",
    "    display.display(display.Markdown(\n",
    "        (f\"TABLE. g-interval summary.  \"\n",
    "         f\"*abscom* is the lower bound of the g-interval.\")))\n",
    "    \n"
   ]
  },
  {
   "cell_type": "code",
   "execution_count": 9,
   "metadata": {
    "collapsed": true
   },
   "outputs": [],
   "source": [
    "def script_flux_to_excel():\n",
    "    '''\n",
    "    Script to save the lblnew-bestfit run's\n",
    "    output flux to excel file and display the\n",
    "    link to download the excel file.\n",
    "    '''\n",
    "    fname = 'lblnew-bestfit_flux.xlsx'\n",
    "    writer = pd.ExcelWriter(fname)\n",
    "    \n",
    "    ds = DS_FLUX_CRD\n",
    "    for g in ds.coords['g']:\n",
    "        df = ds.sel(g=g).to_dataframe()\n",
    "        df.to_excel(writer, f'crd flux g={int(g)}')\n",
    "                \n",
    "    ds = DS_FLUX_WGT\n",
    "    for g in ds.coords['g']:\n",
    "        df = ds.sel(g=g, igg=1).to_dataframe()\n",
    "        df.to_excel(writer, f'wgt igg=1 flux g={int(g)}')\n",
    "        \n",
    "        df = ds.sel(g=g, igg=10).to_dataframe()\n",
    "        df.to_excel(writer, f'wgt igg=10 flux g={int(g)}')\n",
    "        \n",
    "    writer.save()    \n",
    "    html_download = f'Download: <a href=\"./{fname}\">{fname}</a>'\n",
    "    display.display(display.HTML(html_download))\n",
    "\n",
    "\n",
    "def script_cool_to_excel():\n",
    "    '''\n",
    "    Script to save the lblnew-bestfit run's\n",
    "    output cooling rate to excel file and display\n",
    "    the link to download the excel file.\n",
    "    '''\n",
    "    fname = 'lblnew-bestfit_cool.xlsx'\n",
    "    writer = pd.ExcelWriter(fname)\n",
    "    \n",
    "    ds = DS_COOL_CRD\n",
    "    for g in ds.coords['g']:\n",
    "        df = ds.sel(g=g).to_dataframe()\n",
    "        df.to_excel(writer, f'crd cool g={int(g)}')\n",
    "        \n",
    "    ds = DS_COOL_WGT\n",
    "    for g in ds.coords['g']:\n",
    "        df = ds.sel(g=g, igg=1).to_dataframe()\n",
    "        df.to_excel(writer, f'wgt igg=1 cool g={int(g)}')\n",
    "        \n",
    "        df = ds.sel(g=g, igg=10).to_dataframe()\n",
    "        df.to_excel(writer, f'wgt igg=10 cool g={int(g)}')\n",
    "        \n",
    "    writer.save()\n",
    "    html_download = f'Download: <a href=\"./{fname}\">{fname}</a>'\n",
    "    display.display(display.HTML(html_download))"
   ]
  },
  {
   "cell_type": "code",
   "execution_count": 10,
   "metadata": {
    "collapsed": true
   },
   "outputs": [],
   "source": [
    "def show_html(s):\n",
    "    display.display(display.HTML(s))\n",
    "\n",
    "    \n",
    "def show_markdown(s):\n",
    "    display.display(display.Markdown(s))"
   ]
  },
  {
   "cell_type": "code",
   "execution_count": 11,
   "metadata": {
    "collapsed": true
   },
   "outputs": [],
   "source": [
    "def script():\n",
    "    title = ('### lblnew-bestfit' \n",
    "             if 'ng_refs' in PARAM else '### lblnew-overlap')\n",
    "    s_input = 'Input Parameters'\n",
    "    s_plt_cool = 'Cooling Rate Profiles'\n",
    "    s_tb_flux = 'Flux Comparison'\n",
    "    s_gsummary = 'g-interval Summary'\n",
    "    s_download = 'Download Data'\n",
    "    \n",
    "    # title\n",
    "    show_markdown(title)\n",
    "    \n",
    "    # TOC\n",
    "    show_markdown('### Table of Contents')\n",
    "    show_html(climahtml.getHTML_hrefanchor(s_input))\n",
    "    show_html(climahtml.getHTML_hrefanchor(s_plt_cool))\n",
    "    show_html(climahtml.getHTML_hrefanchor(s_tb_flux))\n",
    "    show_html(climahtml.getHTML_hrefanchor(s_gsummary))\n",
    "    show_html(climahtml.getHTML_hrefanchor(s_download))\n",
    "    \n",
    "    # Input parameters\n",
    "    show_html(climahtml.getHTML_idanchor(s_input))\n",
    "    show_markdown(climahtml.getMarkdown_sectitle(s_input))\n",
    "    print_input_param()\n",
    "    \n",
    "    # Cooling rate profiles\n",
    "    show_html(climahtml.getHTML_idanchor(s_plt_cool))\n",
    "    show_markdown(climahtml.getMarkdown_sectitle(s_plt_cool))\n",
    "    script_plt_cool()\n",
    "    \n",
    "    # Flux comparison\n",
    "    show_html(climahtml.getHTML_idanchor(s_tb_flux))\n",
    "    show_markdown(climahtml.getMarkdown_sectitle(s_tb_flux))\n",
    "    script_tb_flux()\n",
    "    \n",
    "    # g-interval summary\n",
    "    show_html(climahtml.getHTML_idanchor(s_gsummary))\n",
    "    show_markdown(climahtml.getMarkdown_sectitle(s_gsummary))\n",
    "    script_gsummary()\n",
    "    \n",
    "    # Download cooling rate and fluxes\n",
    "    show_html(climahtml.getHTML_idanchor(s_download))\n",
    "    show_markdown(climahtml.getMarkdown_sectitle(s_download))\n",
    "    script_flux_to_excel()\n",
    "    script_cool_to_excel()"
   ]
  },
  {
   "cell_type": "code",
   "execution_count": 12,
   "metadata": {
    "collapsed": true
   },
   "outputs": [],
   "source": [
    "%run param.py\n",
    "\n",
    "client = pymongo.MongoClient('localhost', 27017, connect=False)\n",
    "db = client.lblnew\n",
    "\n",
    "\n",
    "DOC = db.bestfit_lw.find_one(make_query(param=PARAM))\n",
    "DS_FLUX_CRD = load_output_file(io.StringIO(DOC['output_fluxg']))\n",
    "DS_COOL_CRD = load_output_file(io.StringIO(DOC['output_coolrg']))\n",
    "DS_FLUX_WGT = load_output_file(io.StringIO(DOC['output_wfluxg']))\n",
    "DS_COOL_WGT = load_output_file(io.StringIO(DOC['output_wcoolrg']))"
   ]
  },
  {
   "cell_type": "code",
   "execution_count": 13,
   "metadata": {
    "scrolled": false
   },
   "outputs": [
    {
     "data": {
      "text/markdown": [
       "### lblnew-bestfit"
      ],
      "text/plain": [
       "<IPython.core.display.Markdown object>"
      ]
     },
     "metadata": {},
     "output_type": "display_data"
    },
    {
     "data": {
      "text/markdown": [
       "### Table of Contents"
      ],
      "text/plain": [
       "<IPython.core.display.Markdown object>"
      ]
     },
     "metadata": {},
     "output_type": "display_data"
    },
    {
     "data": {
      "text/html": [
       "<a href=\"#Input_Parameters\">Input Parameters</a>"
      ],
      "text/plain": [
       "<IPython.core.display.HTML object>"
      ]
     },
     "metadata": {},
     "output_type": "display_data"
    },
    {
     "data": {
      "text/html": [
       "<a href=\"#Cooling_Rate_Profiles\">Cooling Rate Profiles</a>"
      ],
      "text/plain": [
       "<IPython.core.display.HTML object>"
      ]
     },
     "metadata": {},
     "output_type": "display_data"
    },
    {
     "data": {
      "text/html": [
       "<a href=\"#Flux_Comparison\">Flux Comparison</a>"
      ],
      "text/plain": [
       "<IPython.core.display.HTML object>"
      ]
     },
     "metadata": {},
     "output_type": "display_data"
    },
    {
     "data": {
      "text/html": [
       "<a href=\"#g-interval_Summary\">g-interval Summary</a>"
      ],
      "text/plain": [
       "<IPython.core.display.HTML object>"
      ]
     },
     "metadata": {},
     "output_type": "display_data"
    },
    {
     "data": {
      "text/html": [
       "<a href=\"#Download_Data\">Download Data</a>"
      ],
      "text/plain": [
       "<IPython.core.display.HTML object>"
      ]
     },
     "metadata": {},
     "output_type": "display_data"
    },
    {
     "data": {
      "text/html": [
       "<a id=\"Input_Parameters\"></a>"
      ],
      "text/plain": [
       "<IPython.core.display.HTML object>"
      ]
     },
     "metadata": {},
     "output_type": "display_data"
    },
    {
     "data": {
      "text/markdown": [
       "# Input Parameters"
      ],
      "text/plain": [
       "<IPython.core.display.Markdown object>"
      ]
     },
     "metadata": {},
     "output_type": "display_data"
    },
    {
     "data": {
      "text/html": [
       "<div>\n",
       "<style scoped>\n",
       "    .dataframe tbody tr th:only-of-type {\n",
       "        vertical-align: middle;\n",
       "    }\n",
       "\n",
       "    .dataframe tbody tr th {\n",
       "        vertical-align: top;\n",
       "    }\n",
       "\n",
       "    .dataframe thead th {\n",
       "        text-align: right;\n",
       "    }\n",
       "</style>\n",
       "<table border=\"1\" class=\"dataframe\">\n",
       "  <thead>\n",
       "    <tr style=\"text-align: right;\">\n",
       "      <th>Run</th>\n",
       "      <th>lblnew</th>\n",
       "    </tr>\n",
       "    <tr>\n",
       "      <th>Input parameter</th>\n",
       "      <th></th>\n",
       "    </tr>\n",
       "  </thead>\n",
       "  <tbody>\n",
       "    <tr>\n",
       "      <th>atmpro</th>\n",
       "      <td>saw</td>\n",
       "    </tr>\n",
       "    <tr>\n",
       "      <th>band</th>\n",
       "      <td>5</td>\n",
       "    </tr>\n",
       "    <tr>\n",
       "      <th>commitnumber</th>\n",
       "      <td>5014a19</td>\n",
       "    </tr>\n",
       "    <tr>\n",
       "      <th>conc</th>\n",
       "      <td>None</td>\n",
       "    </tr>\n",
       "    <tr>\n",
       "      <th>dv</th>\n",
       "      <td>0.001</td>\n",
       "    </tr>\n",
       "    <tr>\n",
       "      <th>klin</th>\n",
       "      <td>1e-24</td>\n",
       "    </tr>\n",
       "    <tr>\n",
       "      <th>molecule</th>\n",
       "      <td>h2o</td>\n",
       "    </tr>\n",
       "    <tr>\n",
       "      <th>ng_adju</th>\n",
       "      <td>[0]</td>\n",
       "    </tr>\n",
       "    <tr>\n",
       "      <th>ng_refs</th>\n",
       "      <td>[3]</td>\n",
       "    </tr>\n",
       "    <tr>\n",
       "      <th>nv</th>\n",
       "      <td>1000</td>\n",
       "    </tr>\n",
       "    <tr>\n",
       "      <th>option_compute_btable</th>\n",
       "      <td>0</td>\n",
       "    </tr>\n",
       "    <tr>\n",
       "      <th>option_compute_ktable</th>\n",
       "      <td>0</td>\n",
       "    </tr>\n",
       "    <tr>\n",
       "      <th>option_wgt_flux</th>\n",
       "      <td>1</td>\n",
       "    </tr>\n",
       "    <tr>\n",
       "      <th>option_wgt_k</th>\n",
       "      <td>1</td>\n",
       "    </tr>\n",
       "    <tr>\n",
       "      <th>ref_pts</th>\n",
       "      <td>[[600, 250]]</td>\n",
       "    </tr>\n",
       "    <tr>\n",
       "      <th>tsfc</th>\n",
       "      <td>257</td>\n",
       "    </tr>\n",
       "    <tr>\n",
       "      <th>vmax</th>\n",
       "      <td>1100</td>\n",
       "    </tr>\n",
       "    <tr>\n",
       "      <th>vmin</th>\n",
       "      <td>980</td>\n",
       "    </tr>\n",
       "    <tr>\n",
       "      <th>w_diffuse</th>\n",
       "      <td>[[1.66, 1.66, 1.8]]</td>\n",
       "    </tr>\n",
       "    <tr>\n",
       "      <th>wgt</th>\n",
       "      <td>[[0.5, 0.55, 0.9]]</td>\n",
       "    </tr>\n",
       "  </tbody>\n",
       "</table>\n",
       "</div>"
      ],
      "text/plain": [
       "Run                                 lblnew\n",
       "Input parameter                           \n",
       "atmpro                 saw                \n",
       "band                   5                  \n",
       "commitnumber           5014a19            \n",
       "conc                   None               \n",
       "dv                     0.001              \n",
       "klin                   1e-24              \n",
       "molecule               h2o                \n",
       "ng_adju                [0]                \n",
       "ng_refs                [3]                \n",
       "nv                     1000               \n",
       "option_compute_btable  0                  \n",
       "option_compute_ktable  0                  \n",
       "option_wgt_flux        1                  \n",
       "option_wgt_k           1                  \n",
       "ref_pts                [[600, 250]]       \n",
       "tsfc                   257                \n",
       "vmax                   1100               \n",
       "vmin                   980                \n",
       "w_diffuse              [[1.66, 1.66, 1.8]]\n",
       "wgt                    [[0.5, 0.55, 0.9]] "
      ]
     },
     "metadata": {},
     "output_type": "display_data"
    },
    {
     "data": {
      "text/html": [
       "<a id=\"Cooling_Rate_Profiles\"></a>"
      ],
      "text/plain": [
       "<IPython.core.display.HTML object>"
      ]
     },
     "metadata": {},
     "output_type": "display_data"
    },
    {
     "data": {
      "text/markdown": [
       "# Cooling Rate Profiles"
      ],
      "text/plain": [
       "<IPython.core.display.Markdown object>"
      ]
     },
     "metadata": {},
     "output_type": "display_data"
    },
    {
     "data": {
      "text/html": [
       "\n",
       "<div class=\"bk-root\">\n",
       "    <div class=\"bk-plotdiv\" id=\"6201446f-22ac-48db-bd7f-e7dec88d81af\"></div>\n",
       "</div>"
      ]
     },
     "metadata": {},
     "output_type": "display_data"
    },
    {
     "data": {
      "application/javascript": [
       "(function(root) {\n",
       "  function embed_document(root) {\n",
       "    \n",
       "  var docs_json = {\"80f5f40b-acf9-4fac-b087-c8f312581071\":{\"roots\":{\"references\":[{\"attributes\":{\"data_source\":{\"id\":\"223f7a25-b76f-4bad-8610-63ba92719859\",\"type\":\"ColumnDataSource\"},\"glyph\":{\"id\":\"e65f4d7f-cef6-4a4b-8157-57545c9004c2\",\"type\":\"Square\"},\"hover_glyph\":null,\"muted_glyph\":null,\"nonselection_glyph\":{\"id\":\"ccddfc68-596d-4c92-b1e2-c43e8595b012\",\"type\":\"Square\"},\"selection_glyph\":null,\"view\":{\"id\":\"5f853beb-c79e-4b00-b34c-19e4fbbcc27c\",\"type\":\"CDSView\"}},\"id\":\"0244f74c-361d-420b-97ba-cd00406008c4\",\"type\":\"GlyphRenderer\"},{\"attributes\":{\"source\":{\"id\":\"223f7a25-b76f-4bad-8610-63ba92719859\",\"type\":\"ColumnDataSource\"}},\"id\":\"5f853beb-c79e-4b00-b34c-19e4fbbcc27c\",\"type\":\"CDSView\"},{\"attributes\":{\"callback\":null,\"data\":{\"x\":{\"__ndarray__\":\"ashWSpYLqL626XftqI6nvna9yZYk/KW+MIeMjZJto76N7mgWo1WfvisR6ifV2pS+RTLMgc0Ve76I7/+7p1iHPvJAsyZjraE+5DA+DN9SsD5HbJtj36q5Preed2GhmsI+kAimi9ihyT6NfLoWF4vQPtuGvO9b39M+weTsTvoZ1z6CS1osEK3aPqFOnz6XpN4+t4e62/GE4T737CaUW/PjPutLZbeBW+Y+cwR6Q02C5D7dZYPZyiDcPtVnkEycnNA+LTtgsbWMwT6yfWJeQ+GsPgUjMxtOY3Y+fMs9tAKFlr4SPYkDeeWhvugFCcJqsaW+Xfxy9wJZqL6VkRXFBCuqvpwMwbj4AKu+2dm0sBz8qr70atlc/oOqvko/FI5Tt6m+YXBFaBHfqL5js+fFLNGovgzd23iOQLG+6Hfsg3TCtr51xDB3kkG9vhg0VZi9Q8G+7e10y+ngw76R6xXG5PPGvphow7tSTsq+tHQgU5lLzL4O+LgaQzbKvlcEYIRAGcK+I919CNRMn74QwELysRzTPp/myq96R/A+XgpWf9SpAj/8sgMbxcMRPzyj73yBHh4/PTM+/oJqJz9jk5foP/0wP/4bZ+ZbSDc/Qoki0P1bPj80UI20/vNCP4YFPtmpxkY/IQThZ/92Sj+lm0Lwrt5NP+IYPQfzb1A/QbcGG7+1UT97K7vt9b9SP6Pf6yFijlM/tyT9efcgVD/TDRvESm5UP+SVMWe5UVQ/wuWCCVSlUz+GEn3kNTtSPwMwxgkRRVA/61HNhj2KTD/EfzsCGMxIP46it3NgaUU/\",\"dtype\":\"float64\",\"shape\":[75]},\"y\":{\"__ndarray__\":\"GhExyth1ND/Sv8nbtpRIP2vylNV0PVE/aTum7souWD/At0SJ8fVgPw3Iuahxymc/MSNhhJWvcD/bTfBN02d3P2zb5nxnaoA/CD5h5MAGhz8NmeH1TyaQP+zrCsc9p5Y/LbKd76fGnz/bLW5ISEmmPww9YvTcQq8/JV2OstnstT8Er5Y7M8G+P0c+r3jqkcU/5h99k6ZBzj88bCIzFzjVP4enV8oyxN0//yH99nXg5D8qOpLLf0jtP5kqGJXUifQ/c9cS8kHP/D+/DpwzojQEQIEmwoanVwxA4lgXt9HgE0BSSZ2AJuIbQAMJih9jjiNA5q4l5INuK0AwTKYKRj0zQNv5fmq8/DpAaCJseHrtQkB/+zpwzoxKQM3MzMzMeFJAZmZmZmZqWEAAAAAAAFxeQM3MzMzMJmJAmpmZmZkfZUBmZmZmZhhoQDMzMzMzEWtAAAAAAAAKbkBmZmZmZoFwQM3MzMzM/XFAMzMzMzN6c0CamZmZmfZ0QAAAAAAAc3ZAZmZmZmbvd0DNzMzMzGt5QDMzMzMz6HpAmpmZmZlkfEAAAAAAAOF9QGZmZmZmXX9AZmZmZuZsgECamZmZGSuBQM3MzMxM6YFAAAAAAICngkAzMzMzs2WDQGZmZmbmI4RAmpmZmRnihEDNzMzMTKCFQAAAAACAXoZAMzMzM7Mch0BmZmZm5tqHQJqZmZkZmYhAzczMzExXiUAAAAAAgBWKQDMzMzOz04pAZmZmZuaRi0CamZmZGVCMQM3MzMxMDo1AAAAAAIDMjUAzMzMzs4qOQGZmZmbmSI9A\",\"dtype\":\"float64\",\"shape\":[75]}},\"selected\":{\"id\":\"fad97713-9188-467d-993a-d6ad056a5019\",\"type\":\"Selection\"},\"selection_policy\":{\"id\":\"98872c63-60af-458e-a12d-ee5feea90141\",\"type\":\"UnionRenderers\"}},\"id\":\"a197dbf2-0444-4206-978e-9bab071a86ea\",\"type\":\"ColumnDataSource\"},{\"attributes\":{},\"id\":\"4e9422bc-022c-4eb0-aa7d-6ddd98df3c92\",\"type\":\"UnionRenderers\"},{\"attributes\":{\"fill_alpha\":{\"value\":0.1},\"fill_color\":{\"value\":\"#1f77b4\"},\"line_alpha\":{\"value\":0.1},\"line_color\":{\"value\":\"#1f77b4\"},\"x\":{\"field\":\"x\"},\"y\":{\"field\":\"y\"}},\"id\":\"d2d43221-9227-4999-8076-15067fd2792c\",\"type\":\"Square\"},{\"attributes\":{\"line_alpha\":0.1,\"line_color\":\"#1f77b4\",\"line_width\":1.5,\"x\":{\"field\":\"x\"},\"y\":{\"field\":\"y\"}},\"id\":\"7787a9ba-f089-4e6e-bb19-252126879be2\",\"type\":\"Line\"},{\"attributes\":{},\"id\":\"b4759f22-49c7-4644-96aa-ba7f45c62198\",\"type\":\"UnionRenderers\"},{\"attributes\":{},\"id\":\"fe48b338-ebce-43ee-af03-3bf6311b2dc0\",\"type\":\"Selection\"},{\"attributes\":{},\"id\":\"fac41f1f-681f-4df8-86d1-6428f63ae2ba\",\"type\":\"UnionRenderers\"},{\"attributes\":{},\"id\":\"44838892-4c3a-464c-ac65-5d5512ec653f\",\"type\":\"Selection\"},{\"attributes\":{},\"id\":\"bb4bc299-753c-47b3-8475-624b3b0ca8b1\",\"type\":\"Selection\"},{\"attributes\":{},\"id\":\"de93eaea-6c72-46e7-84ed-969408e9deac\",\"type\":\"UnionRenderers\"},{\"attributes\":{},\"id\":\"976d1efa-3a44-41d7-bb6b-7dac93dcc823\",\"type\":\"Selection\"},{\"attributes\":{},\"id\":\"1181882c-b77a-486f-a49f-6ab9c77734c6\",\"type\":\"UnionRenderers\"},{\"attributes\":{\"tools\":[{\"id\":\"0aa6336b-b542-4207-a6c6-70eca5504dd2\",\"type\":\"PanTool\"},{\"id\":\"2d06d506-ac06-4b0a-88d7-a0deba755be8\",\"type\":\"WheelZoomTool\"},{\"id\":\"85264cd6-6f26-4340-9184-555b79cf3a8c\",\"type\":\"BoxZoomTool\"},{\"id\":\"b38668f1-f16a-4ff9-9a05-9a4ca7e63f13\",\"type\":\"SaveTool\"},{\"id\":\"dbb054a7-1851-46a3-b476-57af3b729fae\",\"type\":\"ResetTool\"},{\"id\":\"222da80d-4215-48cd-8d5e-27e0110c56e4\",\"type\":\"HelpTool\"},{\"id\":\"907dc768-7899-48a1-b195-71e6d339d944\",\"type\":\"PanTool\"},{\"id\":\"1a9478c2-2697-4fd9-922c-e3b6bf0deba9\",\"type\":\"WheelZoomTool\"},{\"id\":\"c0da3719-4510-48a0-9604-98c5d8dfd405\",\"type\":\"BoxZoomTool\"},{\"id\":\"6f0b628f-09b9-468b-8bbf-b165d921a253\",\"type\":\"SaveTool\"},{\"id\":\"1f495906-1fb2-41a0-82a3-a85bc6efc2ad\",\"type\":\"ResetTool\"},{\"id\":\"984f7329-0d06-47db-9cc3-109475fcfe94\",\"type\":\"HelpTool\"}]},\"id\":\"cb589c41-5ab4-41ed-b8d7-2990329be6e0\",\"type\":\"ProxyToolbar\"},{\"attributes\":{\"toolbar\":{\"id\":\"cb589c41-5ab4-41ed-b8d7-2990329be6e0\",\"type\":\"ProxyToolbar\"},\"toolbar_location\":\"above\"},\"id\":\"7dd2d27b-9ac9-4780-826f-37d6f336eddb\",\"type\":\"ToolbarBox\"},{\"attributes\":{},\"id\":\"6034bafa-4f2e-42d3-baf7-4fe192744e38\",\"type\":\"Selection\"},{\"attributes\":{},\"id\":\"b2f2c1be-bfaf-459b-a0ca-aab5ea7dc866\",\"type\":\"UnionRenderers\"},{\"attributes\":{\"children\":[{\"id\":\"7dd2d27b-9ac9-4780-826f-37d6f336eddb\",\"type\":\"ToolbarBox\"},{\"id\":\"50a1927c-dba5-4afc-9b23-fec2192770c2\",\"type\":\"Column\"}]},\"id\":\"939c4930-2e56-4b60-a898-0b840a8c8878\",\"type\":\"Column\"},{\"attributes\":{\"callback\":null,\"data\":{\"x\":{\"__ndarray__\":\"ashWSpYLqL626XftqI6nvna9yZYk/KW+MIeMjZJto76N7mgWo1WfvisR6ifV2pS+RTLMgc0Ve76I7/+7p1iHPvJAsyZjraE+5DA+DN9SsD5HbJtj36q5Preed2GhmsI+kAimi9ihyT6NfLoWF4vQPtuGvO9b39M+weTsTvoZ1z6CS1osEK3aPqFOnz6XpN4+t4e62/GE4T737CaUW/PjPutLZbeBW+Y+cwR6Q02C5D7dZYPZyiDcPtVnkEycnNA+LTtgsbWMwT6yfWJeQ+GsPgUjMxtOY3Y+fMs9tAKFlr4SPYkDeeWhvugFCcJqsaW+Xfxy9wJZqL6VkRXFBCuqvpwMwbj4AKu+2dm0sBz8qr70atlc/oOqvko/FI5Tt6m+YXBFaBHfqL5js+fFLNGovgzd23iOQLG+6Hfsg3TCtr51xDB3kkG9vhg0VZi9Q8G+7e10y+ngw76R6xXG5PPGvphow7tSTsq+tHQgU5lLzL4O+LgaQzbKvlcEYIRAGcK+I919CNRMn74QwELysRzTPp/myq96R/A+XgpWf9SpAj/8sgMbxcMRPzyj73yBHh4/PTM+/oJqJz9jk5foP/0wP/4bZ+ZbSDc/Qoki0P1bPj80UI20/vNCP4YFPtmpxkY/IQThZ/92Sj+lm0Lwrt5NP+IYPQfzb1A/QbcGG7+1UT97K7vt9b9SP6Pf6yFijlM/tyT9efcgVD/TDRvESm5UP+SVMWe5UVQ/wuWCCVSlUz+GEn3kNTtSPwMwxgkRRVA/61HNhj2KTD/EfzsCGMxIP46it3NgaUU/\",\"dtype\":\"float64\",\"shape\":[75]},\"y\":{\"__ndarray__\":\"GhExyth1ND/Sv8nbtpRIP2vylNV0PVE/aTum7souWD/At0SJ8fVgPw3Iuahxymc/MSNhhJWvcD/bTfBN02d3P2zb5nxnaoA/CD5h5MAGhz8NmeH1TyaQP+zrCsc9p5Y/LbKd76fGnz/bLW5ISEmmPww9YvTcQq8/JV2OstnstT8Er5Y7M8G+P0c+r3jqkcU/5h99k6ZBzj88bCIzFzjVP4enV8oyxN0//yH99nXg5D8qOpLLf0jtP5kqGJXUifQ/c9cS8kHP/D+/DpwzojQEQIEmwoanVwxA4lgXt9HgE0BSSZ2AJuIbQAMJih9jjiNA5q4l5INuK0AwTKYKRj0zQNv5fmq8/DpAaCJseHrtQkB/+zpwzoxKQM3MzMzMeFJAZmZmZmZqWEAAAAAAAFxeQM3MzMzMJmJAmpmZmZkfZUBmZmZmZhhoQDMzMzMzEWtAAAAAAAAKbkBmZmZmZoFwQM3MzMzM/XFAMzMzMzN6c0CamZmZmfZ0QAAAAAAAc3ZAZmZmZmbvd0DNzMzMzGt5QDMzMzMz6HpAmpmZmZlkfEAAAAAAAOF9QGZmZmZmXX9AZmZmZuZsgECamZmZGSuBQM3MzMxM6YFAAAAAAICngkAzMzMzs2WDQGZmZmbmI4RAmpmZmRnihEDNzMzMTKCFQAAAAACAXoZAMzMzM7Mch0BmZmZm5tqHQJqZmZkZmYhAzczMzExXiUAAAAAAgBWKQDMzMzOz04pAZmZmZuaRi0CamZmZGVCMQM3MzMxMDo1AAAAAAIDMjUAzMzMzs4qOQGZmZmbmSI9A\",\"dtype\":\"float64\",\"shape\":[75]}},\"selected\":{\"id\":\"fe48b338-ebce-43ee-af03-3bf6311b2dc0\",\"type\":\"Selection\"},\"selection_policy\":{\"id\":\"fac41f1f-681f-4df8-86d1-6428f63ae2ba\",\"type\":\"UnionRenderers\"}},\"id\":\"0a9e2d24-389e-4332-aa28-5399f85f0d90\",\"type\":\"ColumnDataSource\"},{\"attributes\":{\"source\":{\"id\":\"0a9e2d24-389e-4332-aa28-5399f85f0d90\",\"type\":\"ColumnDataSource\"}},\"id\":\"90765585-11ee-4e89-a99f-1a1a6a6134c3\",\"type\":\"CDSView\"},{\"attributes\":{\"data_source\":{\"id\":\"0a9e2d24-389e-4332-aa28-5399f85f0d90\",\"type\":\"ColumnDataSource\"},\"glyph\":{\"id\":\"23ffd422-ecbe-43b3-9a2b-d4916dfd2803\",\"type\":\"Square\"},\"hover_glyph\":null,\"muted_glyph\":null,\"nonselection_glyph\":{\"id\":\"d2d43221-9227-4999-8076-15067fd2792c\",\"type\":\"Square\"},\"selection_glyph\":null,\"view\":{\"id\":\"90765585-11ee-4e89-a99f-1a1a6a6134c3\",\"type\":\"CDSView\"}},\"id\":\"56a49564-f1f2-44c7-85ba-5f315ea36ffd\",\"type\":\"GlyphRenderer\"},{\"attributes\":{\"data_source\":{\"id\":\"59a0bb20-a1e1-41af-b33e-bd8fc6fa3008\",\"type\":\"ColumnDataSource\"},\"glyph\":{\"id\":\"e7eecdaa-eda3-4aab-a474-8c0073ad9fad\",\"type\":\"Line\"},\"hover_glyph\":null,\"muted_glyph\":null,\"nonselection_glyph\":{\"id\":\"7787a9ba-f089-4e6e-bb19-252126879be2\",\"type\":\"Line\"},\"selection_glyph\":null,\"view\":{\"id\":\"44af12fe-b1a6-4b3f-bdb6-779de1024f3a\",\"type\":\"CDSView\"}},\"id\":\"3196b0a9-8ea8-4915-a326-6ef9d2df4aa0\",\"type\":\"GlyphRenderer\"},{\"attributes\":{\"line_alpha\":0.1,\"line_color\":\"#1f77b4\",\"line_width\":2,\"x\":{\"field\":\"x\"},\"y\":{\"field\":\"y\"}},\"id\":\"efa4f036-4eca-4e3b-ad1e-25977610e8eb\",\"type\":\"Line\"},{\"attributes\":{\"line_alpha\":0.1,\"line_color\":\"#1f77b4\",\"line_width\":3,\"x\":{\"field\":\"x\"},\"y\":{\"field\":\"y\"}},\"id\":\"4d131a53-a11a-4286-a934-5a7d11b0fdca\",\"type\":\"Line\"},{\"attributes\":{\"source\":{\"id\":\"53f20184-e8fb-4623-8514-2456c9cfca73\",\"type\":\"ColumnDataSource\"}},\"id\":\"f9b9acd2-e537-485f-bf00-560b8a22dc83\",\"type\":\"CDSView\"},{\"attributes\":{\"source\":{\"id\":\"59a0bb20-a1e1-41af-b33e-bd8fc6fa3008\",\"type\":\"ColumnDataSource\"}},\"id\":\"44af12fe-b1a6-4b3f-bdb6-779de1024f3a\",\"type\":\"CDSView\"},{\"attributes\":{\"line_color\":\"#4daf4a\",\"line_width\":1.5,\"x\":{\"field\":\"x\"},\"y\":{\"field\":\"y\"}},\"id\":\"e7eecdaa-eda3-4aab-a474-8c0073ad9fad\",\"type\":\"Line\"},{\"attributes\":{\"callback\":null,\"data\":{\"x\":{\"__ndarray__\":\"ashWSpYLqL626XftqI6nvna9yZYk/KW+MIeMjZJto76N7mgWo1WfvisR6ifV2pS+RTLMgc0Ve76I7/+7p1iHPvJAsyZjraE+5DA+DN9SsD5HbJtj36q5Preed2GhmsI+kAimi9ihyT6NfLoWF4vQPtuGvO9b39M+weTsTvoZ1z6CS1osEK3aPqFOnz6XpN4+t4e62/GE4T737CaUW/PjPutLZbeBW+Y+cwR6Q02C5D7dZYPZyiDcPtVnkEycnNA+LTtgsbWMwT6yfWJeQ+GsPgUjMxtOY3Y+fMs9tAKFlr4SPYkDeeWhvugFCcJqsaW+Xfxy9wJZqL6VkRXFBCuqvpwMwbj4AKu+2dm0sBz8qr70atlc/oOqvko/FI5Tt6m+YXBFaBHfqL5js+fFLNGovgzd23iOQLG+6Hfsg3TCtr51xDB3kkG9vhg0VZi9Q8G+7e10y+ngw76R6xXG5PPGvphow7tSTsq+tHQgU5lLzL4O+LgaQzbKvlcEYIRAGcK+I919CNRMn74QwELysRzTPp/myq96R/A+XgpWf9SpAj/8sgMbxcMRPzyj73yBHh4/PTM+/oJqJz9jk5foP/0wP/4bZ+ZbSDc/Qoki0P1bPj80UI20/vNCP4YFPtmpxkY/IQThZ/92Sj+lm0Lwrt5NP+IYPQfzb1A/QbcGG7+1UT97K7vt9b9SP6Pf6yFijlM/tyT9efcgVD/TDRvESm5UP+SVMWe5UVQ/wuWCCVSlUz+GEn3kNTtSPwMwxgkRRVA/61HNhj2KTD/EfzsCGMxIP46it3NgaUU/\",\"dtype\":\"float64\",\"shape\":[75]},\"y\":{\"__ndarray__\":\"GhExyth1ND/Sv8nbtpRIP2vylNV0PVE/aTum7souWD/At0SJ8fVgPw3Iuahxymc/MSNhhJWvcD/bTfBN02d3P2zb5nxnaoA/CD5h5MAGhz8NmeH1TyaQP+zrCsc9p5Y/LbKd76fGnz/bLW5ISEmmPww9YvTcQq8/JV2OstnstT8Er5Y7M8G+P0c+r3jqkcU/5h99k6ZBzj88bCIzFzjVP4enV8oyxN0//yH99nXg5D8qOpLLf0jtP5kqGJXUifQ/c9cS8kHP/D+/DpwzojQEQIEmwoanVwxA4lgXt9HgE0BSSZ2AJuIbQAMJih9jjiNA5q4l5INuK0AwTKYKRj0zQNv5fmq8/DpAaCJseHrtQkB/+zpwzoxKQM3MzMzMeFJAZmZmZmZqWEAAAAAAAFxeQM3MzMzMJmJAmpmZmZkfZUBmZmZmZhhoQDMzMzMzEWtAAAAAAAAKbkBmZmZmZoFwQM3MzMzM/XFAMzMzMzN6c0CamZmZmfZ0QAAAAAAAc3ZAZmZmZmbvd0DNzMzMzGt5QDMzMzMz6HpAmpmZmZlkfEAAAAAAAOF9QGZmZmZmXX9AZmZmZuZsgECamZmZGSuBQM3MzMxM6YFAAAAAAICngkAzMzMzs2WDQGZmZmbmI4RAmpmZmRnihEDNzMzMTKCFQAAAAACAXoZAMzMzM7Mch0BmZmZm5tqHQJqZmZkZmYhAzczMzExXiUAAAAAAgBWKQDMzMzOz04pAZmZmZuaRi0CamZmZGVCMQM3MzMxMDo1AAAAAAIDMjUAzMzMzs4qOQGZmZmbmSI9A\",\"dtype\":\"float64\",\"shape\":[75]}},\"selected\":{\"id\":\"976d1efa-3a44-41d7-bb6b-7dac93dcc823\",\"type\":\"Selection\"},\"selection_policy\":{\"id\":\"1181882c-b77a-486f-a49f-6ab9c77734c6\",\"type\":\"UnionRenderers\"}},\"id\":\"53f20184-e8fb-4623-8514-2456c9cfca73\",\"type\":\"ColumnDataSource\"},{\"attributes\":{\"data_source\":{\"id\":\"53f20184-e8fb-4623-8514-2456c9cfca73\",\"type\":\"ColumnDataSource\"},\"glyph\":{\"id\":\"6ff41dcf-4c7b-4fe9-b693-297e2611d955\",\"type\":\"Line\"},\"hover_glyph\":null,\"muted_glyph\":null,\"nonselection_glyph\":{\"id\":\"4d131a53-a11a-4286-a934-5a7d11b0fdca\",\"type\":\"Line\"},\"selection_glyph\":null,\"view\":{\"id\":\"f9b9acd2-e537-485f-bf00-560b8a22dc83\",\"type\":\"CDSView\"}},\"id\":\"fc81b18c-7922-4d46-8937-b2e893dbe4ee\",\"type\":\"GlyphRenderer\"},{\"attributes\":{\"fill_alpha\":{\"value\":0.7},\"fill_color\":{\"value\":\"#984ea3\"},\"line_alpha\":{\"value\":0.7},\"line_color\":{\"value\":\"#984ea3\"},\"x\":{\"field\":\"x\"},\"y\":{\"field\":\"y\"}},\"id\":\"23ffd422-ecbe-43b3-9a2b-d4916dfd2803\",\"type\":\"Square\"},{\"attributes\":{\"line_alpha\":0.6,\"line_color\":\"#984ea3\",\"line_width\":3,\"x\":{\"field\":\"x\"},\"y\":{\"field\":\"y\"}},\"id\":\"6ff41dcf-4c7b-4fe9-b693-297e2611d955\",\"type\":\"Line\"},{\"attributes\":{\"fill_alpha\":{\"value\":0.7},\"fill_color\":{\"value\":\"#377eb8\"},\"line_alpha\":{\"value\":0.7},\"line_color\":{\"value\":\"#377eb8\"},\"x\":{\"field\":\"x\"},\"y\":{\"field\":\"y\"}},\"id\":\"55936853-1cab-4172-bd86-b9b07d300caf\",\"type\":\"Triangle\"},{\"attributes\":{\"callback\":null,\"data\":{\"x\":{\"__ndarray__\":\"ATzzV/sepr7BvcOsEdGlvlfecj0HuqS+aHxdYn3Wor7BVZUizu6fvulQPLOQxJe+quyO3RxKib4q8LR1JIVgPo8TwZL5FpU+KomH77Sjpj5fipsQG+eyPrmX4deLTbw+rkwwp7Xkwz7hn/1+gP/JPl5AoarFdc8+aDbt4s9h0j732ss2LVLVPrK6N//oldg+QGrpH8c03D5R8CN4cxvgPos7o0qvF+I+MQwqnhyR4D4Rm4qs54LWPmlYZhoIGco+qO5iROiMuj4uBfMgPYGjPoCX9oj3Lmi+1QvS2XJkmb4aSokopuehvo0LgLMH2qS+vZCiJq/jpr7ouyDvAUiovtuRGUu4+6i+06EuNHsbqb4DOwnaW+SovvHp8njCY6i+eGBZPPvOp779GLV4/tmnvsOUCZyZlrC+bHEk1UDhtb4yVST5sSC8vg9xTtG6ksC+WvLu3qwWw76nEpSlZQzGvkcwV4jfTMm+lGUU0qCky76p2fIAivzKvqAtk+uurMW+KmasAM0qur5JraIey0e/PtDCZeZKW+U+oaM7vbVx+z48/H4GEbkLP4pAYobYcRg/jff/dxWdIz9pzzaYyD8tP0tvDl0DizQ/VNWvQtFoOz9Roe5wFnxBP3s+GAlncUU/ROxQ7GhlST93RZV7XCxNP0iSL/xnUFA/xDix34nUUT9gFqGzaBxTP7vFJcrDIlQ/plr2qcTjVD+4jTnhu1NVPybboH0DT1U/+AfsV+qzVD9ZO1nMeVZTP/RgTOe8Z1E/n70bumPXTj/Rena5MBpLP9/mOPrVtEc/\",\"dtype\":\"float64\",\"shape\":[75]},\"y\":{\"__ndarray__\":\"GhExyth1ND/Sv8nbtpRIP2vylNV0PVE/aTum7souWD/At0SJ8fVgPw3Iuahxymc/MSNhhJWvcD/bTfBN02d3P2zb5nxnaoA/CD5h5MAGhz8NmeH1TyaQP+zrCsc9p5Y/LbKd76fGnz/bLW5ISEmmPww9YvTcQq8/JV2OstnstT8Er5Y7M8G+P0c+r3jqkcU/5h99k6ZBzj88bCIzFzjVP4enV8oyxN0//yH99nXg5D8qOpLLf0jtP5kqGJXUifQ/c9cS8kHP/D+/DpwzojQEQIEmwoanVwxA4lgXt9HgE0BSSZ2AJuIbQAMJih9jjiNA5q4l5INuK0AwTKYKRj0zQNv5fmq8/DpAaCJseHrtQkB/+zpwzoxKQM3MzMzMeFJAZmZmZmZqWEAAAAAAAFxeQM3MzMzMJmJAmpmZmZkfZUBmZmZmZhhoQDMzMzMzEWtAAAAAAAAKbkBmZmZmZoFwQM3MzMzM/XFAMzMzMzN6c0CamZmZmfZ0QAAAAAAAc3ZAZmZmZmbvd0DNzMzMzGt5QDMzMzMz6HpAmpmZmZlkfEAAAAAAAOF9QGZmZmZmXX9AZmZmZuZsgECamZmZGSuBQM3MzMxM6YFAAAAAAICngkAzMzMzs2WDQGZmZmbmI4RAmpmZmRnihEDNzMzMTKCFQAAAAACAXoZAMzMzM7Mch0BmZmZm5tqHQJqZmZkZmYhAzczMzExXiUAAAAAAgBWKQDMzMzOz04pAZmZmZuaRi0CamZmZGVCMQM3MzMxMDo1AAAAAAIDMjUAzMzMzs4qOQGZmZmbmSI9A\",\"dtype\":\"float64\",\"shape\":[75]}},\"selected\":{\"id\":\"6034bafa-4f2e-42d3-baf7-4fe192744e38\",\"type\":\"Selection\"},\"selection_policy\":{\"id\":\"b2f2c1be-bfaf-459b-a0ca-aab5ea7dc866\",\"type\":\"UnionRenderers\"}},\"id\":\"856de62f-9131-42d8-891e-3ae7a3e3eea1\",\"type\":\"ColumnDataSource\"},{\"attributes\":{\"source\":{\"id\":\"d5014764-ae3d-4e4d-b8fe-c588be2ca763\",\"type\":\"ColumnDataSource\"}},\"id\":\"16dd92b3-b709-4b98-a5ee-52820e6718e6\",\"type\":\"CDSView\"},{\"attributes\":{\"callback\":null,\"data\":{\"x\":{\"__ndarray__\":\"ATzzV/sepr7BvcOsEdGlvlfecj0HuqS+aHxdYn3Wor7BVZUizu6fvulQPLOQxJe+quyO3RxKib4q8LR1JIVgPo8TwZL5FpU+KomH77Sjpj5fipsQG+eyPrmX4deLTbw+rkwwp7Xkwz7hn/1+gP/JPl5AoarFdc8+aDbt4s9h0j732ss2LVLVPrK6N//oldg+QGrpH8c03D5R8CN4cxvgPos7o0qvF+I+MQwqnhyR4D4Rm4qs54LWPmlYZhoIGco+qO5iROiMuj4uBfMgPYGjPoCX9oj3Lmi+1QvS2XJkmb4aSokopuehvo0LgLMH2qS+vZCiJq/jpr7ouyDvAUiovtuRGUu4+6i+06EuNHsbqb4DOwnaW+SovvHp8njCY6i+eGBZPPvOp779GLV4/tmnvsOUCZyZlrC+bHEk1UDhtb4yVST5sSC8vg9xTtG6ksC+WvLu3qwWw76nEpSlZQzGvkcwV4jfTMm+lGUU0qCky76p2fIAivzKvqAtk+uurMW+KmasAM0qur5JraIey0e/PtDCZeZKW+U+oaM7vbVx+z48/H4GEbkLP4pAYobYcRg/jff/dxWdIz9pzzaYyD8tP0tvDl0DizQ/VNWvQtFoOz9Roe5wFnxBP3s+GAlncUU/ROxQ7GhlST93RZV7XCxNP0iSL/xnUFA/xDix34nUUT9gFqGzaBxTP7vFJcrDIlQ/plr2qcTjVD+4jTnhu1NVPybboH0DT1U/+AfsV+qzVD9ZO1nMeVZTP/RgTOe8Z1E/n70bumPXTj/Rena5MBpLP9/mOPrVtEc/\",\"dtype\":\"float64\",\"shape\":[75]},\"y\":{\"__ndarray__\":\"GhExyth1ND/Sv8nbtpRIP2vylNV0PVE/aTum7souWD/At0SJ8fVgPw3Iuahxymc/MSNhhJWvcD/bTfBN02d3P2zb5nxnaoA/CD5h5MAGhz8NmeH1TyaQP+zrCsc9p5Y/LbKd76fGnz/bLW5ISEmmPww9YvTcQq8/JV2OstnstT8Er5Y7M8G+P0c+r3jqkcU/5h99k6ZBzj88bCIzFzjVP4enV8oyxN0//yH99nXg5D8qOpLLf0jtP5kqGJXUifQ/c9cS8kHP/D+/DpwzojQEQIEmwoanVwxA4lgXt9HgE0BSSZ2AJuIbQAMJih9jjiNA5q4l5INuK0AwTKYKRj0zQNv5fmq8/DpAaCJseHrtQkB/+zpwzoxKQM3MzMzMeFJAZmZmZmZqWEAAAAAAAFxeQM3MzMzMJmJAmpmZmZkfZUBmZmZmZhhoQDMzMzMzEWtAAAAAAAAKbkBmZmZmZoFwQM3MzMzM/XFAMzMzMzN6c0CamZmZmfZ0QAAAAAAAc3ZAZmZmZmbvd0DNzMzMzGt5QDMzMzMz6HpAmpmZmZlkfEAAAAAAAOF9QGZmZmZmXX9AZmZmZuZsgECamZmZGSuBQM3MzMxM6YFAAAAAAICngkAzMzMzs2WDQGZmZmbmI4RAmpmZmRnihEDNzMzMTKCFQAAAAACAXoZAMzMzM7Mch0BmZmZm5tqHQJqZmZkZmYhAzczMzExXiUAAAAAAgBWKQDMzMzOz04pAZmZmZuaRi0CamZmZGVCMQM3MzMxMDo1AAAAAAIDMjUAzMzMzs4qOQGZmZmbmSI9A\",\"dtype\":\"float64\",\"shape\":[75]}},\"selected\":{\"id\":\"bb4bc299-753c-47b3-8475-624b3b0ca8b1\",\"type\":\"Selection\"},\"selection_policy\":{\"id\":\"de93eaea-6c72-46e7-84ed-969408e9deac\",\"type\":\"UnionRenderers\"}},\"id\":\"d5014764-ae3d-4e4d-b8fe-c588be2ca763\",\"type\":\"ColumnDataSource\"},{\"attributes\":{\"fill_alpha\":{\"value\":0.1},\"fill_color\":{\"value\":\"#1f77b4\"},\"line_alpha\":{\"value\":0.1},\"line_color\":{\"value\":\"#1f77b4\"},\"x\":{\"field\":\"x\"},\"y\":{\"field\":\"y\"}},\"id\":\"648d6d24-7be1-4e7b-a408-49023326d8a5\",\"type\":\"Triangle\"},{\"attributes\":{\"line_alpha\":0.3,\"line_color\":\"#377eb8\",\"line_width\":2,\"x\":{\"field\":\"x\"},\"y\":{\"field\":\"y\"}},\"id\":\"a84d42f4-14f6-49e6-8629-fe0c50b3d469\",\"type\":\"Line\"},{\"attributes\":{\"children\":[{\"id\":\"807d196e-bfca-4880-9a52-e7ff557b0001\",\"type\":\"Row\"}]},\"id\":\"50a1927c-dba5-4afc-9b23-fec2192770c2\",\"type\":\"Column\"},{\"attributes\":{\"data_source\":{\"id\":\"d5014764-ae3d-4e4d-b8fe-c588be2ca763\",\"type\":\"ColumnDataSource\"},\"glyph\":{\"id\":\"55936853-1cab-4172-bd86-b9b07d300caf\",\"type\":\"Triangle\"},\"hover_glyph\":null,\"muted_glyph\":null,\"nonselection_glyph\":{\"id\":\"648d6d24-7be1-4e7b-a408-49023326d8a5\",\"type\":\"Triangle\"},\"selection_glyph\":null,\"view\":{\"id\":\"16dd92b3-b709-4b98-a5ee-52820e6718e6\",\"type\":\"CDSView\"}},\"id\":\"c02333bf-8f2e-4f8c-8489-02a3e4ec376a\",\"type\":\"GlyphRenderer\"},{\"attributes\":{\"data_source\":{\"id\":\"856de62f-9131-42d8-891e-3ae7a3e3eea1\",\"type\":\"ColumnDataSource\"},\"glyph\":{\"id\":\"a84d42f4-14f6-49e6-8629-fe0c50b3d469\",\"type\":\"Line\"},\"hover_glyph\":null,\"muted_glyph\":null,\"nonselection_glyph\":{\"id\":\"efa4f036-4eca-4e3b-ad1e-25977610e8eb\",\"type\":\"Line\"},\"selection_glyph\":null,\"view\":{\"id\":\"a816b957-a532-44b0-be4e-40fb532853c2\",\"type\":\"CDSView\"}},\"id\":\"7caa62d3-7cb2-4e12-bce8-9760ea157117\",\"type\":\"GlyphRenderer\"},{\"attributes\":{\"source\":{\"id\":\"856de62f-9131-42d8-891e-3ae7a3e3eea1\",\"type\":\"ColumnDataSource\"}},\"id\":\"a816b957-a532-44b0-be4e-40fb532853c2\",\"type\":\"CDSView\"},{\"attributes\":{\"plot\":null,\"text\":\"\"},\"id\":\"1738952f-1dba-42c0-9f5c-c25a0120bc6c\",\"type\":\"Title\"},{\"attributes\":{\"children\":[{\"id\":\"c2968a0d-cfbc-426d-8a2e-47ce6f34ba9a\",\"subtype\":\"Figure\",\"type\":\"Plot\"},{\"id\":\"b5b21ccf-7809-46fc-b773-576dda96be1c\",\"subtype\":\"Figure\",\"type\":\"Plot\"}]},\"id\":\"807d196e-bfca-4880-9a52-e7ff557b0001\",\"type\":\"Row\"},{\"attributes\":{\"label\":{\"value\":\"CRD\"},\"renderers\":[{\"id\":\"ec6cf5a7-7f90-4c1b-8800-c1bef2f1f43e\",\"type\":\"GlyphRenderer\"},{\"id\":\"3196b0a9-8ea8-4915-a326-6ef9d2df4aa0\",\"type\":\"GlyphRenderer\"}]},\"id\":\"06bddaa9-a395-45cd-b497-47260b8e7984\",\"type\":\"LegendItem\"},{\"attributes\":{},\"id\":\"566fcad2-f4b8-4492-9883-fd568f06b2b2\",\"type\":\"Selection\"},{\"attributes\":{\"label\":{\"value\":\"WGT igg=1\"},\"renderers\":[{\"id\":\"56a49564-f1f2-44c7-85ba-5f315ea36ffd\",\"type\":\"GlyphRenderer\"},{\"id\":\"fc81b18c-7922-4d46-8937-b2e893dbe4ee\",\"type\":\"GlyphRenderer\"}]},\"id\":\"21f17d58-c8c4-4e28-b647-b56e2cc98f26\",\"type\":\"LegendItem\"},{\"attributes\":{\"fill_alpha\":{\"value\":0.7},\"fill_color\":{\"value\":\"#4daf4a\"},\"line_alpha\":{\"value\":0.7},\"line_color\":{\"value\":\"#4daf4a\"},\"x\":{\"field\":\"x\"},\"y\":{\"field\":\"y\"}},\"id\":\"1f5ef209-ef3b-4a63-8a02-6f5d2bdf48f3\",\"type\":\"Circle\"},{\"attributes\":{},\"id\":\"d3316d38-5037-4f19-8de4-5dfdb5969c8b\",\"type\":\"Selection\"},{\"attributes\":{\"label\":{\"value\":\"WGT igg=10\"},\"renderers\":[{\"id\":\"c02333bf-8f2e-4f8c-8489-02a3e4ec376a\",\"type\":\"GlyphRenderer\"},{\"id\":\"7caa62d3-7cb2-4e12-bce8-9760ea157117\",\"type\":\"GlyphRenderer\"}]},\"id\":\"eca72b15-d61f-4117-93fe-3185da981b7c\",\"type\":\"LegendItem\"},{\"attributes\":{},\"id\":\"6c85282c-342c-4726-8775-942bdddb2d92\",\"type\":\"UnionRenderers\"},{\"attributes\":{},\"id\":\"e97aa6f6-c00e-4602-a284-30c5bdac5de8\",\"type\":\"UnionRenderers\"},{\"attributes\":{},\"id\":\"f951f37a-53c5-4b04-b30f-9f4b34c7f13e\",\"type\":\"BasicTickFormatter\"},{\"attributes\":{},\"id\":\"f9bfcf67-8d83-4d17-87f9-58dae81dda8c\",\"type\":\"UnionRenderers\"},{\"attributes\":{},\"id\":\"026d53be-9577-4d4d-beb9-964eee0daecd\",\"type\":\"UnionRenderers\"},{\"attributes\":{},\"id\":\"70be4b5f-8f1e-4c66-92fa-87693f0e1187\",\"type\":\"Selection\"},{\"attributes\":{},\"id\":\"e00f3daf-bf25-433c-bc7e-7961c55e19b1\",\"type\":\"Selection\"},{\"attributes\":{},\"id\":\"72f26a2f-4393-4685-848f-dacb4b1a7052\",\"type\":\"UnionRenderers\"},{\"attributes\":{},\"id\":\"fad97713-9188-467d-993a-d6ad056a5019\",\"type\":\"Selection\"},{\"attributes\":{},\"id\":\"98872c63-60af-458e-a12d-ee5feea90141\",\"type\":\"UnionRenderers\"},{\"attributes\":{},\"id\":\"af8b1c86-aeaf-4776-9e80-94c96702e8a5\",\"type\":\"BasicTickFormatter\"},{\"attributes\":{},\"id\":\"c95b0055-f7d7-4480-a03c-479fc2a6e013\",\"type\":\"Selection\"},{\"attributes\":{\"ticker\":null},\"id\":\"46bbc432-374f-4284-b21f-b8420888b858\",\"type\":\"LogTickFormatter\"},{\"attributes\":{\"plot\":null,\"text\":\"\"},\"id\":\"a21a702e-9620-4c0d-b705-8b430a264127\",\"type\":\"Title\"},{\"attributes\":{},\"id\":\"0aa6336b-b542-4207-a6c6-70eca5504dd2\",\"type\":\"PanTool\"},{\"attributes\":{\"bottom_units\":\"screen\",\"fill_alpha\":{\"value\":0.5},\"fill_color\":{\"value\":\"lightgrey\"},\"left_units\":\"screen\",\"level\":\"overlay\",\"line_alpha\":{\"value\":1.0},\"line_color\":{\"value\":\"black\"},\"line_dash\":[4,4],\"line_width\":{\"value\":2},\"plot\":null,\"render_mode\":\"css\",\"right_units\":\"screen\",\"top_units\":\"screen\"},\"id\":\"033879c7-c89b-4c52-ad99-f54ba5d13308\",\"type\":\"BoxAnnotation\"},{\"attributes\":{\"source\":{\"id\":\"a197dbf2-0444-4206-978e-9bab071a86ea\",\"type\":\"ColumnDataSource\"}},\"id\":\"5cb26826-90d5-452e-ac83-3cdd01f46ca6\",\"type\":\"CDSView\"},{\"attributes\":{},\"id\":\"2d06d506-ac06-4b0a-88d7-a0deba755be8\",\"type\":\"WheelZoomTool\"},{\"attributes\":{\"overlay\":{\"id\":\"033879c7-c89b-4c52-ad99-f54ba5d13308\",\"type\":\"BoxAnnotation\"}},\"id\":\"85264cd6-6f26-4340-9184-555b79cf3a8c\",\"type\":\"BoxZoomTool\"},{\"attributes\":{},\"id\":\"b38668f1-f16a-4ff9-9a05-9a4ca7e63f13\",\"type\":\"SaveTool\"},{\"attributes\":{},\"id\":\"dbb054a7-1851-46a3-b476-57af3b729fae\",\"type\":\"ResetTool\"},{\"attributes\":{},\"id\":\"222da80d-4215-48cd-8d5e-27e0110c56e4\",\"type\":\"HelpTool\"},{\"attributes\":{\"fill_alpha\":{\"value\":0.1},\"fill_color\":{\"value\":\"#1f77b4\"},\"line_alpha\":{\"value\":0.1},\"line_color\":{\"value\":\"#1f77b4\"},\"x\":{\"field\":\"x\"},\"y\":{\"field\":\"y\"}},\"id\":\"ccddfc68-596d-4c92-b1e2-c43e8595b012\",\"type\":\"Square\"},{\"attributes\":{\"fill_alpha\":{\"value\":0.1},\"fill_color\":{\"value\":\"#1f77b4\"},\"line_alpha\":{\"value\":0.1},\"line_color\":{\"value\":\"#1f77b4\"},\"x\":{\"field\":\"x\"},\"y\":{\"field\":\"y\"}},\"id\":\"af593c4c-3b44-4003-970a-d663f0248e58\",\"type\":\"Circle\"},{\"attributes\":{\"callback\":null,\"data\":{\"x\":{\"__ndarray__\":\"42puvHBAsr4Xoj8fgaCxvodhqhrphK++6xha4GPAqb7RhlrchoKhvjQoJbHW4Ii+3KnKIjCLkT5l5HTOcT6sPgpSIWyvjLo+oueh8ukYxT737R477dTOPiSWig/MadU+PJETYKq03D6RkLgI4jbiPmZ0ONrhqOU+NLihSDX/6D57Ivz6wq/sPj4ItRsMY/A+Qgfr4fKl8j5gl4euYCT1PmBEHT5cmfc+a7WCtdWn9T6t/ax6fPbtPtd8T13uEOI+nrxXfxj30z4o2335+KDCPmCyILlK4KQ+rIVu/0e7j758lV6Osgalvhd3qoMdJKy+B2GvkY9LsL4MNRIMQamxvkqRWWgO0rG+7vAaa9stsb64AqZQWDGwvsXm8BVB862+aeu3N7rVq75Dnhip8BKrvkKPFxNMk7K+D4GoAF4/uL42fd+b3P++vvtaQghONcK+mLO5HN/xxL5KA8XmvjHIvueYGSDvt8u+5dwrYfd+zb4c4p6sjSXKvqhsFoCmpL6+xw66VN9Bpz6PcHQ5AqHePoD4kXRsFPY+NzS3EHOvBz/aSG9OtK8VP/iK+Ehj1SE/xMAx/ykIKz/uCbPPfSozP3LvQ2xftDk/5WlUUatrQD8lxsnIXhxEP2O1E4u6u0c/u3ShZyseSz8ol0cPfiNOP2476xPoW1A/Uxs78SxrUT/FoRnsz0NSP0X+5qvH6VI/V2F9BAFgUz+jgxy19ZxTP6juNl0CeFM/TpNTY9TBUj/y+O49+UdRPzvS3QWgf04/9CrC7NpdSj8JvRFDrIVGP/aJbvg0D0M/\",\"dtype\":\"float64\",\"shape\":[75]},\"y\":{\"__ndarray__\":\"GhExyth1ND/Sv8nbtpRIP2vylNV0PVE/aTum7souWD/At0SJ8fVgPw3Iuahxymc/MSNhhJWvcD/bTfBN02d3P2zb5nxnaoA/CD5h5MAGhz8NmeH1TyaQP+zrCsc9p5Y/LbKd76fGnz/bLW5ISEmmPww9YvTcQq8/JV2OstnstT8Er5Y7M8G+P0c+r3jqkcU/5h99k6ZBzj88bCIzFzjVP4enV8oyxN0//yH99nXg5D8qOpLLf0jtP5kqGJXUifQ/c9cS8kHP/D+/DpwzojQEQIEmwoanVwxA4lgXt9HgE0BSSZ2AJuIbQAMJih9jjiNA5q4l5INuK0AwTKYKRj0zQNv5fmq8/DpAaCJseHrtQkB/+zpwzoxKQM3MzMzMeFJAZmZmZmZqWEAAAAAAAFxeQM3MzMzMJmJAmpmZmZkfZUBmZmZmZhhoQDMzMzMzEWtAAAAAAAAKbkBmZmZmZoFwQM3MzMzM/XFAMzMzMzN6c0CamZmZmfZ0QAAAAAAAc3ZAZmZmZmbvd0DNzMzMzGt5QDMzMzMz6HpAmpmZmZlkfEAAAAAAAOF9QGZmZmZmXX9AZmZmZuZsgECamZmZGSuBQM3MzMxM6YFAAAAAAICngkAzMzMzs2WDQGZmZmbmI4RAmpmZmRnihEDNzMzMTKCFQAAAAACAXoZAMzMzM7Mch0BmZmZm5tqHQJqZmZkZmYhAzczMzExXiUAAAAAAgBWKQDMzMzOz04pAZmZmZuaRi0CamZmZGVCMQM3MzMxMDo1AAAAAAIDMjUAzMzMzs4qOQGZmZmbmSI9A\",\"dtype\":\"float64\",\"shape\":[75]}},\"selected\":{\"id\":\"e00f3daf-bf25-433c-bc7e-7961c55e19b1\",\"type\":\"Selection\"},\"selection_policy\":{\"id\":\"72f26a2f-4393-4685-848f-dacb4b1a7052\",\"type\":\"UnionRenderers\"}},\"id\":\"0de66895-22f5-42f2-834a-c3015e0973ce\",\"type\":\"ColumnDataSource\"},{\"attributes\":{\"data_source\":{\"id\":\"5ba82879-b2af-4737-9c71-70b7d0400ee1\",\"type\":\"ColumnDataSource\"},\"glyph\":{\"id\":\"1f5ef209-ef3b-4a63-8a02-6f5d2bdf48f3\",\"type\":\"Circle\"},\"hover_glyph\":null,\"muted_glyph\":null,\"nonselection_glyph\":{\"id\":\"af593c4c-3b44-4003-970a-d663f0248e58\",\"type\":\"Circle\"},\"selection_glyph\":null,\"view\":{\"id\":\"fd322267-01c1-4a82-b045-2edf46697870\",\"type\":\"CDSView\"}},\"id\":\"a2daa576-2a66-44aa-be03-0e74511e8e67\",\"type\":\"GlyphRenderer\"},{\"attributes\":{\"callback\":null,\"data\":{\"x\":{\"__ndarray__\":\"ashWSpYLqL626XftqI6nvna9yZYk/KW+MIeMjZJto76N7mgWo1WfvisR6ifV2pS+RTLMgc0Ve76I7/+7p1iHPvJAsyZjraE+5DA+DN9SsD5HbJtj36q5Preed2GhmsI+kAimi9ihyT6NfLoWF4vQPtuGvO9b39M+weTsTvoZ1z6CS1osEK3aPqFOnz6XpN4+t4e62/GE4T737CaUW/PjPutLZbeBW+Y+cwR6Q02C5D7dZYPZyiDcPtVnkEycnNA+LTtgsbWMwT6yfWJeQ+GsPgUjMxtOY3Y+fMs9tAKFlr4SPYkDeeWhvugFCcJqsaW+Xfxy9wJZqL6VkRXFBCuqvpwMwbj4AKu+2dm0sBz8qr70atlc/oOqvko/FI5Tt6m+YXBFaBHfqL5js+fFLNGovgzd23iOQLG+6Hfsg3TCtr51xDB3kkG9vhg0VZi9Q8G+7e10y+ngw76R6xXG5PPGvphow7tSTsq+tHQgU5lLzL4O+LgaQzbKvlcEYIRAGcK+I919CNRMn74QwELysRzTPp/myq96R/A+XgpWf9SpAj/8sgMbxcMRPzyj73yBHh4/PTM+/oJqJz9jk5foP/0wP/4bZ+ZbSDc/Qoki0P1bPj80UI20/vNCP4YFPtmpxkY/IQThZ/92Sj+lm0Lwrt5NP+IYPQfzb1A/QbcGG7+1UT97K7vt9b9SP6Pf6yFijlM/tyT9efcgVD/TDRvESm5UP+SVMWe5UVQ/wuWCCVSlUz+GEn3kNTtSPwMwxgkRRVA/61HNhj2KTD/EfzsCGMxIP46it3NgaUU/\",\"dtype\":\"float64\",\"shape\":[75]},\"y\":{\"__ndarray__\":\"GhExyth1ND/Sv8nbtpRIP2vylNV0PVE/aTum7souWD/At0SJ8fVgPw3Iuahxymc/MSNhhJWvcD/bTfBN02d3P2zb5nxnaoA/CD5h5MAGhz8NmeH1TyaQP+zrCsc9p5Y/LbKd76fGnz/bLW5ISEmmPww9YvTcQq8/JV2OstnstT8Er5Y7M8G+P0c+r3jqkcU/5h99k6ZBzj88bCIzFzjVP4enV8oyxN0//yH99nXg5D8qOpLLf0jtP5kqGJXUifQ/c9cS8kHP/D+/DpwzojQEQIEmwoanVwxA4lgXt9HgE0BSSZ2AJuIbQAMJih9jjiNA5q4l5INuK0AwTKYKRj0zQNv5fmq8/DpAaCJseHrtQkB/+zpwzoxKQM3MzMzMeFJAZmZmZmZqWEAAAAAAAFxeQM3MzMzMJmJAmpmZmZkfZUBmZmZmZhhoQDMzMzMzEWtAAAAAAAAKbkBmZmZmZoFwQM3MzMzM/XFAMzMzMzN6c0CamZmZmfZ0QAAAAAAAc3ZAZmZmZmbvd0DNzMzMzGt5QDMzMzMz6HpAmpmZmZlkfEAAAAAAAOF9QGZmZmZmXX9AZmZmZuZsgECamZmZGSuBQM3MzMxM6YFAAAAAAICngkAzMzMzs2WDQGZmZmbmI4RAmpmZmRnihEDNzMzMTKCFQAAAAACAXoZAMzMzM7Mch0BmZmZm5tqHQJqZmZkZmYhAzczMzExXiUAAAAAAgBWKQDMzMzOz04pAZmZmZuaRi0CamZmZGVCMQM3MzMxMDo1AAAAAAIDMjUAzMzMzs4qOQGZmZmbmSI9A\",\"dtype\":\"float64\",\"shape\":[75]}},\"selected\":{\"id\":\"d3316d38-5037-4f19-8de4-5dfdb5969c8b\",\"type\":\"Selection\"},\"selection_policy\":{\"id\":\"f9bfcf67-8d83-4d17-87f9-58dae81dda8c\",\"type\":\"UnionRenderers\"}},\"id\":\"223f7a25-b76f-4bad-8610-63ba92719859\",\"type\":\"ColumnDataSource\"},{\"attributes\":{},\"id\":\"8e085a49-575d-44b6-8d37-ce5f120c022f\",\"type\":\"BasicTickFormatter\"},{\"attributes\":{\"line_alpha\":0.1,\"line_color\":\"#1f77b4\",\"line_width\":1.5,\"x\":{\"field\":\"x\"},\"y\":{\"field\":\"y\"}},\"id\":\"076c5570-b1d3-443f-b98c-ee944c353a6c\",\"type\":\"Line\"},{\"attributes\":{\"line_color\":\"#4daf4a\",\"line_width\":1.5,\"x\":{\"field\":\"x\"},\"y\":{\"field\":\"y\"}},\"id\":\"1d300376-85a9-4a4c-95be-f1f0459645a6\",\"type\":\"Line\"},{\"attributes\":{\"fill_alpha\":{\"value\":0.7},\"fill_color\":{\"value\":\"#984ea3\"},\"line_alpha\":{\"value\":0.7},\"line_color\":{\"value\":\"#984ea3\"},\"x\":{\"field\":\"x\"},\"y\":{\"field\":\"y\"}},\"id\":\"e65f4d7f-cef6-4a4b-8157-57545c9004c2\",\"type\":\"Square\"},{\"attributes\":{\"callback\":null,\"data\":{\"x\":{\"__ndarray__\":\"42puvHBAsr4Xoj8fgaCxvodhqhrphK++6xha4GPAqb7RhlrchoKhvjQoJbHW4Ii+3KnKIjCLkT5l5HTOcT6sPgpSIWyvjLo+oueh8ukYxT737R477dTOPiSWig/MadU+PJETYKq03D6RkLgI4jbiPmZ0ONrhqOU+NLihSDX/6D57Ivz6wq/sPj4ItRsMY/A+Qgfr4fKl8j5gl4euYCT1PmBEHT5cmfc+a7WCtdWn9T6t/ax6fPbtPtd8T13uEOI+nrxXfxj30z4o2335+KDCPmCyILlK4KQ+rIVu/0e7j758lV6Osgalvhd3qoMdJKy+B2GvkY9LsL4MNRIMQamxvkqRWWgO0rG+7vAaa9stsb64AqZQWDGwvsXm8BVB862+aeu3N7rVq75Dnhip8BKrvkKPFxNMk7K+D4GoAF4/uL42fd+b3P++vvtaQghONcK+mLO5HN/xxL5KA8XmvjHIvueYGSDvt8u+5dwrYfd+zb4c4p6sjSXKvqhsFoCmpL6+xw66VN9Bpz6PcHQ5AqHePoD4kXRsFPY+NzS3EHOvBz/aSG9OtK8VP/iK+Ehj1SE/xMAx/ykIKz/uCbPPfSozP3LvQ2xftDk/5WlUUatrQD8lxsnIXhxEP2O1E4u6u0c/u3ShZyseSz8ol0cPfiNOP2476xPoW1A/Uxs78SxrUT/FoRnsz0NSP0X+5qvH6VI/V2F9BAFgUz+jgxy19ZxTP6juNl0CeFM/TpNTY9TBUj/y+O49+UdRPzvS3QWgf04/9CrC7NpdSj8JvRFDrIVGP/aJbvg0D0M/\",\"dtype\":\"float64\",\"shape\":[75]},\"y\":{\"__ndarray__\":\"GhExyth1ND/Sv8nbtpRIP2vylNV0PVE/aTum7souWD/At0SJ8fVgPw3Iuahxymc/MSNhhJWvcD/bTfBN02d3P2zb5nxnaoA/CD5h5MAGhz8NmeH1TyaQP+zrCsc9p5Y/LbKd76fGnz/bLW5ISEmmPww9YvTcQq8/JV2OstnstT8Er5Y7M8G+P0c+r3jqkcU/5h99k6ZBzj88bCIzFzjVP4enV8oyxN0//yH99nXg5D8qOpLLf0jtP5kqGJXUifQ/c9cS8kHP/D+/DpwzojQEQIEmwoanVwxA4lgXt9HgE0BSSZ2AJuIbQAMJih9jjiNA5q4l5INuK0AwTKYKRj0zQNv5fmq8/DpAaCJseHrtQkB/+zpwzoxKQM3MzMzMeFJAZmZmZmZqWEAAAAAAAFxeQM3MzMzMJmJAmpmZmZkfZUBmZmZmZhhoQDMzMzMzEWtAAAAAAAAKbkBmZmZmZoFwQM3MzMzM/XFAMzMzMzN6c0CamZmZmfZ0QAAAAAAAc3ZAZmZmZmbvd0DNzMzMzGt5QDMzMzMz6HpAmpmZmZlkfEAAAAAAAOF9QGZmZmZmXX9AZmZmZuZsgECamZmZGSuBQM3MzMxM6YFAAAAAAICngkAzMzMzs2WDQGZmZmbmI4RAmpmZmRnihEDNzMzMTKCFQAAAAACAXoZAMzMzM7Mch0BmZmZm5tqHQJqZmZkZmYhAzczMzExXiUAAAAAAgBWKQDMzMzOz04pAZmZmZuaRi0CamZmZGVCMQM3MzMxMDo1AAAAAAIDMjUAzMzMzs4qOQGZmZmbmSI9A\",\"dtype\":\"float64\",\"shape\":[75]}},\"selected\":{\"id\":\"566fcad2-f4b8-4492-9883-fd568f06b2b2\",\"type\":\"Selection\"},\"selection_policy\":{\"id\":\"026d53be-9577-4d4d-beb9-964eee0daecd\",\"type\":\"UnionRenderers\"}},\"id\":\"5ba82879-b2af-4737-9c71-70b7d0400ee1\",\"type\":\"ColumnDataSource\"},{\"attributes\":{\"data_source\":{\"id\":\"0de66895-22f5-42f2-834a-c3015e0973ce\",\"type\":\"ColumnDataSource\"},\"glyph\":{\"id\":\"1d300376-85a9-4a4c-95be-f1f0459645a6\",\"type\":\"Line\"},\"hover_glyph\":null,\"muted_glyph\":null,\"nonselection_glyph\":{\"id\":\"076c5570-b1d3-443f-b98c-ee944c353a6c\",\"type\":\"Line\"},\"selection_glyph\":null,\"view\":{\"id\":\"c6eb3eaf-2941-4c98-a344-65f3c38ce031\",\"type\":\"CDSView\"}},\"id\":\"9572439b-657f-4d66-81ef-2dcbfc8f5bea\",\"type\":\"GlyphRenderer\"},{\"attributes\":{\"source\":{\"id\":\"0de66895-22f5-42f2-834a-c3015e0973ce\",\"type\":\"ColumnDataSource\"}},\"id\":\"c6eb3eaf-2941-4c98-a344-65f3c38ce031\",\"type\":\"CDSView\"},{\"attributes\":{\"source\":{\"id\":\"5ba82879-b2af-4737-9c71-70b7d0400ee1\",\"type\":\"ColumnDataSource\"}},\"id\":\"fd322267-01c1-4a82-b045-2edf46697870\",\"type\":\"CDSView\"},{\"attributes\":{\"above\":[{\"id\":\"d5d03b6d-5a30-4df1-b7c0-87484e406b95\",\"type\":\"Legend\"}],\"below\":[{\"id\":\"8af03ff1-52bd-48ab-8fae-63003e8ef606\",\"type\":\"LinearAxis\"}],\"left\":[{\"id\":\"47b509c3-ecdc-4a5a-92a6-1e40df479d52\",\"type\":\"LogAxis\"}],\"plot_height\":500,\"plot_width\":400,\"renderers\":[{\"id\":\"8af03ff1-52bd-48ab-8fae-63003e8ef606\",\"type\":\"LinearAxis\"},{\"id\":\"fb6a0a1e-3ad0-46c2-9fb6-f85cc92e709a\",\"type\":\"Grid\"},{\"id\":\"47b509c3-ecdc-4a5a-92a6-1e40df479d52\",\"type\":\"LogAxis\"},{\"id\":\"c6225cff-bf86-45b3-a0bc-ee370658dee1\",\"type\":\"Grid\"},{\"id\":\"0066bd4d-232a-486e-ae14-a8dc16bebb21\",\"type\":\"BoxAnnotation\"},{\"id\":\"ec6cf5a7-7f90-4c1b-8800-c1bef2f1f43e\",\"type\":\"GlyphRenderer\"},{\"id\":\"3196b0a9-8ea8-4915-a326-6ef9d2df4aa0\",\"type\":\"GlyphRenderer\"},{\"id\":\"56a49564-f1f2-44c7-85ba-5f315ea36ffd\",\"type\":\"GlyphRenderer\"},{\"id\":\"fc81b18c-7922-4d46-8937-b2e893dbe4ee\",\"type\":\"GlyphRenderer\"},{\"id\":\"c02333bf-8f2e-4f8c-8489-02a3e4ec376a\",\"type\":\"GlyphRenderer\"},{\"id\":\"7caa62d3-7cb2-4e12-bce8-9760ea157117\",\"type\":\"GlyphRenderer\"},{\"id\":\"d5d03b6d-5a30-4df1-b7c0-87484e406b95\",\"type\":\"Legend\"}],\"title\":{\"id\":\"a21a702e-9620-4c0d-b705-8b430a264127\",\"type\":\"Title\"},\"toolbar\":{\"id\":\"852a6cef-8c4d-43f9-951d-0ab8f8526904\",\"type\":\"Toolbar\"},\"toolbar_location\":null,\"x_range\":{\"id\":\"dea5ae0c-4571-4fc5-896a-200e82bbaf9d\",\"type\":\"Range1d\"},\"x_scale\":{\"id\":\"7d865ed1-6a1c-458b-b769-84ea24e37cac\",\"type\":\"LinearScale\"},\"y_range\":{\"id\":\"045d2105-44ae-4a82-bcd8-8db4598dcd48\",\"type\":\"Range1d\"},\"y_scale\":{\"id\":\"a865b35b-2b15-492d-a11b-8f06f9c919f2\",\"type\":\"LogScale\"}},\"id\":\"b5b21ccf-7809-46fc-b773-576dda96be1c\",\"subtype\":\"Figure\",\"type\":\"Plot\"},{\"attributes\":{\"line_alpha\":0.3,\"line_color\":\"#377eb8\",\"line_width\":2,\"x\":{\"field\":\"x\"},\"y\":{\"field\":\"y\"}},\"id\":\"450726dc-d5f3-4c8e-ac9b-7980ccb6c22f\",\"type\":\"Line\"},{\"attributes\":{\"line_alpha\":0.1,\"line_color\":\"#1f77b4\",\"line_width\":2,\"x\":{\"field\":\"x\"},\"y\":{\"field\":\"y\"}},\"id\":\"7fedab01-5b09-472f-bd7f-fcc73b1aef6f\",\"type\":\"Line\"},{\"attributes\":{\"data_source\":{\"id\":\"6444d31b-83ac-44e2-8580-89e01dd697cd\",\"type\":\"ColumnDataSource\"},\"glyph\":{\"id\":\"450726dc-d5f3-4c8e-ac9b-7980ccb6c22f\",\"type\":\"Line\"},\"hover_glyph\":null,\"muted_glyph\":null,\"nonselection_glyph\":{\"id\":\"7fedab01-5b09-472f-bd7f-fcc73b1aef6f\",\"type\":\"Line\"},\"selection_glyph\":null,\"view\":{\"id\":\"f09dc503-e743-4fba-91d6-95d98849ed57\",\"type\":\"CDSView\"}},\"id\":\"6344cae8-c9bb-4e65-bb62-24772baa1695\",\"type\":\"GlyphRenderer\"},{\"attributes\":{\"dimension\":1,\"plot\":{\"id\":\"c2968a0d-cfbc-426d-8a2e-47ce6f34ba9a\",\"subtype\":\"Figure\",\"type\":\"Plot\"},\"ticker\":{\"id\":\"bdf91389-a450-43dc-97bd-09fe1f7e6c02\",\"type\":\"BasicTicker\"}},\"id\":\"6d303314-5494-4d61-9f88-fba4ee29bfb6\",\"type\":\"Grid\"},{\"attributes\":{\"label\":{\"value\":\"WGT igg=10\"},\"renderers\":[{\"id\":\"98575eb1-ee7a-4c89-8139-be96dd50649d\",\"type\":\"GlyphRenderer\"},{\"id\":\"6344cae8-c9bb-4e65-bb62-24772baa1695\",\"type\":\"GlyphRenderer\"}]},\"id\":\"57a441a2-d635-458c-aaea-9d861ac6301f\",\"type\":\"LegendItem\"},{\"attributes\":{\"data_source\":{\"id\":\"6631d53a-b88b-416f-81a2-2ebdaecd4add\",\"type\":\"ColumnDataSource\"},\"glyph\":{\"id\":\"ddd19983-b4dd-40bd-a1f0-45d1ab758d20\",\"type\":\"Triangle\"},\"hover_glyph\":null,\"muted_glyph\":null,\"nonselection_glyph\":{\"id\":\"851f903b-defa-49aa-9007-0207ef7fe525\",\"type\":\"Triangle\"},\"selection_glyph\":null,\"view\":{\"id\":\"75ee1e83-a3af-4e29-8ea8-1a3dfe3a15d8\",\"type\":\"CDSView\"}},\"id\":\"98575eb1-ee7a-4c89-8139-be96dd50649d\",\"type\":\"GlyphRenderer\"},{\"attributes\":{\"fill_alpha\":{\"value\":0.1},\"fill_color\":{\"value\":\"#1f77b4\"},\"line_alpha\":{\"value\":0.1},\"line_color\":{\"value\":\"#1f77b4\"},\"x\":{\"field\":\"x\"},\"y\":{\"field\":\"y\"}},\"id\":\"851f903b-defa-49aa-9007-0207ef7fe525\",\"type\":\"Triangle\"},{\"attributes\":{\"callback\":null,\"end\":0.01,\"start\":1020},\"id\":\"ad38ae0e-3fff-4dd1-9512-3b33ff4dcd30\",\"type\":\"Range1d\"},{\"attributes\":{},\"id\":\"bdf91389-a450-43dc-97bd-09fe1f7e6c02\",\"type\":\"BasicTicker\"},{\"attributes\":{\"axis_label\":\"cooling rate [K/day]\",\"formatter\":{\"id\":\"af8b1c86-aeaf-4776-9e80-94c96702e8a5\",\"type\":\"BasicTickFormatter\"},\"plot\":{\"id\":\"b5b21ccf-7809-46fc-b773-576dda96be1c\",\"subtype\":\"Figure\",\"type\":\"Plot\"},\"ticker\":{\"id\":\"428a98da-cfcc-402a-9f66-1c8c9ab198f4\",\"type\":\"BasicTicker\"}},\"id\":\"8af03ff1-52bd-48ab-8fae-63003e8ef606\",\"type\":\"LinearAxis\"},{\"attributes\":{\"axis_label\":\"pressure [mb]\",\"formatter\":{\"id\":\"8e085a49-575d-44b6-8d37-ce5f120c022f\",\"type\":\"BasicTickFormatter\"},\"plot\":{\"id\":\"c2968a0d-cfbc-426d-8a2e-47ce6f34ba9a\",\"subtype\":\"Figure\",\"type\":\"Plot\"},\"ticker\":{\"id\":\"bdf91389-a450-43dc-97bd-09fe1f7e6c02\",\"type\":\"BasicTicker\"}},\"id\":\"d3a9b437-cdd3-473f-af69-c9fb082f8146\",\"type\":\"LinearAxis\"},{\"attributes\":{\"fill_alpha\":{\"value\":0.7},\"fill_color\":{\"value\":\"#377eb8\"},\"line_alpha\":{\"value\":0.7},\"line_color\":{\"value\":\"#377eb8\"},\"x\":{\"field\":\"x\"},\"y\":{\"field\":\"y\"}},\"id\":\"ddd19983-b4dd-40bd-a1f0-45d1ab758d20\",\"type\":\"Triangle\"},{\"attributes\":{\"callback\":null,\"data\":{\"x\":{\"__ndarray__\":\"ATzzV/sepr7BvcOsEdGlvlfecj0HuqS+aHxdYn3Wor7BVZUizu6fvulQPLOQxJe+quyO3RxKib4q8LR1JIVgPo8TwZL5FpU+KomH77Sjpj5fipsQG+eyPrmX4deLTbw+rkwwp7Xkwz7hn/1+gP/JPl5AoarFdc8+aDbt4s9h0j732ss2LVLVPrK6N//oldg+QGrpH8c03D5R8CN4cxvgPos7o0qvF+I+MQwqnhyR4D4Rm4qs54LWPmlYZhoIGco+qO5iROiMuj4uBfMgPYGjPoCX9oj3Lmi+1QvS2XJkmb4aSokopuehvo0LgLMH2qS+vZCiJq/jpr7ouyDvAUiovtuRGUu4+6i+06EuNHsbqb4DOwnaW+SovvHp8njCY6i+eGBZPPvOp779GLV4/tmnvsOUCZyZlrC+bHEk1UDhtb4yVST5sSC8vg9xTtG6ksC+WvLu3qwWw76nEpSlZQzGvkcwV4jfTMm+lGUU0qCky76p2fIAivzKvqAtk+uurMW+KmasAM0qur5JraIey0e/PtDCZeZKW+U+oaM7vbVx+z48/H4GEbkLP4pAYobYcRg/jff/dxWdIz9pzzaYyD8tP0tvDl0DizQ/VNWvQtFoOz9Roe5wFnxBP3s+GAlncUU/ROxQ7GhlST93RZV7XCxNP0iSL/xnUFA/xDix34nUUT9gFqGzaBxTP7vFJcrDIlQ/plr2qcTjVD+4jTnhu1NVPybboH0DT1U/+AfsV+qzVD9ZO1nMeVZTP/RgTOe8Z1E/n70bumPXTj/Rena5MBpLP9/mOPrVtEc/\",\"dtype\":\"float64\",\"shape\":[75]},\"y\":{\"__ndarray__\":\"GhExyth1ND/Sv8nbtpRIP2vylNV0PVE/aTum7souWD/At0SJ8fVgPw3Iuahxymc/MSNhhJWvcD/bTfBN02d3P2zb5nxnaoA/CD5h5MAGhz8NmeH1TyaQP+zrCsc9p5Y/LbKd76fGnz/bLW5ISEmmPww9YvTcQq8/JV2OstnstT8Er5Y7M8G+P0c+r3jqkcU/5h99k6ZBzj88bCIzFzjVP4enV8oyxN0//yH99nXg5D8qOpLLf0jtP5kqGJXUifQ/c9cS8kHP/D+/DpwzojQEQIEmwoanVwxA4lgXt9HgE0BSSZ2AJuIbQAMJih9jjiNA5q4l5INuK0AwTKYKRj0zQNv5fmq8/DpAaCJseHrtQkB/+zpwzoxKQM3MzMzMeFJAZmZmZmZqWEAAAAAAAFxeQM3MzMzMJmJAmpmZmZkfZUBmZmZmZhhoQDMzMzMzEWtAAAAAAAAKbkBmZmZmZoFwQM3MzMzM/XFAMzMzMzN6c0CamZmZmfZ0QAAAAAAAc3ZAZmZmZmbvd0DNzMzMzGt5QDMzMzMz6HpAmpmZmZlkfEAAAAAAAOF9QGZmZmZmXX9AZmZmZuZsgECamZmZGSuBQM3MzMxM6YFAAAAAAICngkAzMzMzs2WDQGZmZmbmI4RAmpmZmRnihEDNzMzMTKCFQAAAAACAXoZAMzMzM7Mch0BmZmZm5tqHQJqZmZkZmYhAzczMzExXiUAAAAAAgBWKQDMzMzOz04pAZmZmZuaRi0CamZmZGVCMQM3MzMxMDo1AAAAAAIDMjUAzMzMzs4qOQGZmZmbmSI9A\",\"dtype\":\"float64\",\"shape\":[75]}},\"selected\":{\"id\":\"f9203bdd-3f1f-4200-b619-5f4112a28173\",\"type\":\"Selection\"},\"selection_policy\":{\"id\":\"e97aa6f6-c00e-4602-a284-30c5bdac5de8\",\"type\":\"UnionRenderers\"}},\"id\":\"6444d31b-83ac-44e2-8580-89e01dd697cd\",\"type\":\"ColumnDataSource\"},{\"attributes\":{\"plot\":{\"id\":\"c2968a0d-cfbc-426d-8a2e-47ce6f34ba9a\",\"subtype\":\"Figure\",\"type\":\"Plot\"},\"ticker\":{\"id\":\"aeb240c6-560b-4c61-a2ee-66197b4569cc\",\"type\":\"BasicTicker\"}},\"id\":\"19718ded-cf41-48f3-8a1d-02cc6df11e13\",\"type\":\"Grid\"},{\"attributes\":{\"source\":{\"id\":\"6444d31b-83ac-44e2-8580-89e01dd697cd\",\"type\":\"ColumnDataSource\"}},\"id\":\"f09dc503-e743-4fba-91d6-95d98849ed57\",\"type\":\"CDSView\"},{\"attributes\":{},\"id\":\"aeb240c6-560b-4c61-a2ee-66197b4569cc\",\"type\":\"BasicTicker\"},{\"attributes\":{\"source\":{\"id\":\"6631d53a-b88b-416f-81a2-2ebdaecd4add\",\"type\":\"ColumnDataSource\"}},\"id\":\"75ee1e83-a3af-4e29-8ea8-1a3dfe3a15d8\",\"type\":\"CDSView\"},{\"attributes\":{\"label\":{\"value\":\"CRD\"},\"renderers\":[{\"id\":\"a2daa576-2a66-44aa-be03-0e74511e8e67\",\"type\":\"GlyphRenderer\"},{\"id\":\"9572439b-657f-4d66-81ef-2dcbfc8f5bea\",\"type\":\"GlyphRenderer\"}]},\"id\":\"a47ff1ca-7283-4f8c-989e-4a7f0e6e2774\",\"type\":\"LegendItem\"},{\"attributes\":{\"callback\":null,\"end\":2.2749356328000003e-05,\"start\":-2.0912471280000003e-06},\"id\":\"dea5ae0c-4571-4fc5-896a-200e82bbaf9d\",\"type\":\"Range1d\"},{\"attributes\":{},\"id\":\"7d865ed1-6a1c-458b-b769-84ea24e37cac\",\"type\":\"LinearScale\"},{\"attributes\":{\"axis_label\":\"cooling rate [K/day]\",\"formatter\":{\"id\":\"f951f37a-53c5-4b04-b30f-9f4b34c7f13e\",\"type\":\"BasicTickFormatter\"},\"plot\":{\"id\":\"c2968a0d-cfbc-426d-8a2e-47ce6f34ba9a\",\"subtype\":\"Figure\",\"type\":\"Plot\"},\"ticker\":{\"id\":\"aeb240c6-560b-4c61-a2ee-66197b4569cc\",\"type\":\"BasicTicker\"}},\"id\":\"91584bb0-5e76-4474-817f-1ee4069b1564\",\"type\":\"LinearAxis\"},{\"attributes\":{},\"id\":\"0999fd84-e0a4-4fef-b8a6-ae64b24f0408\",\"type\":\"LinearScale\"},{\"attributes\":{\"active_drag\":\"auto\",\"active_inspect\":\"auto\",\"active_scroll\":\"auto\",\"active_tap\":\"auto\",\"tools\":[{\"id\":\"907dc768-7899-48a1-b195-71e6d339d944\",\"type\":\"PanTool\"},{\"id\":\"1a9478c2-2697-4fd9-922c-e3b6bf0deba9\",\"type\":\"WheelZoomTool\"},{\"id\":\"c0da3719-4510-48a0-9604-98c5d8dfd405\",\"type\":\"BoxZoomTool\"},{\"id\":\"6f0b628f-09b9-468b-8bbf-b165d921a253\",\"type\":\"SaveTool\"},{\"id\":\"1f495906-1fb2-41a0-82a3-a85bc6efc2ad\",\"type\":\"ResetTool\"},{\"id\":\"984f7329-0d06-47db-9cc3-109475fcfe94\",\"type\":\"HelpTool\"}]},\"id\":\"852a6cef-8c4d-43f9-951d-0ab8f8526904\",\"type\":\"Toolbar\"},{\"attributes\":{},\"id\":\"a865b35b-2b15-492d-a11b-8f06f9c919f2\",\"type\":\"LogScale\"},{\"attributes\":{\"callback\":null,\"end\":0.0013147541819270002,\"start\":-1.6568374627e-05},\"id\":\"688f568a-c66e-4326-bfea-3599e88de0ac\",\"type\":\"Range1d\"},{\"attributes\":{\"label\":{\"value\":\"WGT igg=1\"},\"renderers\":[{\"id\":\"0244f74c-361d-420b-97ba-cd00406008c4\",\"type\":\"GlyphRenderer\"},{\"id\":\"ffc22e73-a8db-4d26-af8b-ccc36d0223ae\",\"type\":\"GlyphRenderer\"}]},\"id\":\"48ee5a91-15df-41d6-9a4e-5ece763ec7e1\",\"type\":\"LegendItem\"},{\"attributes\":{},\"id\":\"047a1113-57a4-4782-93ad-840811986a1e\",\"type\":\"LinearScale\"},{\"attributes\":{\"items\":[{\"id\":\"06bddaa9-a395-45cd-b497-47260b8e7984\",\"type\":\"LegendItem\"},{\"id\":\"21f17d58-c8c4-4e28-b647-b56e2cc98f26\",\"type\":\"LegendItem\"},{\"id\":\"eca72b15-d61f-4117-93fe-3185da981b7c\",\"type\":\"LegendItem\"}],\"label_text_font_size\":{\"value\":\"8pt\"},\"location\":\"top_center\",\"orientation\":\"horizontal\",\"plot\":{\"id\":\"b5b21ccf-7809-46fc-b773-576dda96be1c\",\"subtype\":\"Figure\",\"type\":\"Plot\"}},\"id\":\"d5d03b6d-5a30-4df1-b7c0-87484e406b95\",\"type\":\"Legend\"},{\"attributes\":{\"plot\":{\"id\":\"b5b21ccf-7809-46fc-b773-576dda96be1c\",\"subtype\":\"Figure\",\"type\":\"Plot\"},\"ticker\":{\"id\":\"428a98da-cfcc-402a-9f66-1c8c9ab198f4\",\"type\":\"BasicTicker\"}},\"id\":\"fb6a0a1e-3ad0-46c2-9fb6-f85cc92e709a\",\"type\":\"Grid\"},{\"attributes\":{\"callback\":null,\"data\":{\"x\":{\"__ndarray__\":\"ATzzV/sepr7BvcOsEdGlvlfecj0HuqS+aHxdYn3Wor7BVZUizu6fvulQPLOQxJe+quyO3RxKib4q8LR1JIVgPo8TwZL5FpU+KomH77Sjpj5fipsQG+eyPrmX4deLTbw+rkwwp7Xkwz7hn/1+gP/JPl5AoarFdc8+aDbt4s9h0j732ss2LVLVPrK6N//oldg+QGrpH8c03D5R8CN4cxvgPos7o0qvF+I+MQwqnhyR4D4Rm4qs54LWPmlYZhoIGco+qO5iROiMuj4uBfMgPYGjPoCX9oj3Lmi+1QvS2XJkmb4aSokopuehvo0LgLMH2qS+vZCiJq/jpr7ouyDvAUiovtuRGUu4+6i+06EuNHsbqb4DOwnaW+SovvHp8njCY6i+eGBZPPvOp779GLV4/tmnvsOUCZyZlrC+bHEk1UDhtb4yVST5sSC8vg9xTtG6ksC+WvLu3qwWw76nEpSlZQzGvkcwV4jfTMm+lGUU0qCky76p2fIAivzKvqAtk+uurMW+KmasAM0qur5JraIey0e/PtDCZeZKW+U+oaM7vbVx+z48/H4GEbkLP4pAYobYcRg/jff/dxWdIz9pzzaYyD8tP0tvDl0DizQ/VNWvQtFoOz9Roe5wFnxBP3s+GAlncUU/ROxQ7GhlST93RZV7XCxNP0iSL/xnUFA/xDix34nUUT9gFqGzaBxTP7vFJcrDIlQ/plr2qcTjVD+4jTnhu1NVPybboH0DT1U/+AfsV+qzVD9ZO1nMeVZTP/RgTOe8Z1E/n70bumPXTj/Rena5MBpLP9/mOPrVtEc/\",\"dtype\":\"float64\",\"shape\":[75]},\"y\":{\"__ndarray__\":\"GhExyth1ND/Sv8nbtpRIP2vylNV0PVE/aTum7souWD/At0SJ8fVgPw3Iuahxymc/MSNhhJWvcD/bTfBN02d3P2zb5nxnaoA/CD5h5MAGhz8NmeH1TyaQP+zrCsc9p5Y/LbKd76fGnz/bLW5ISEmmPww9YvTcQq8/JV2OstnstT8Er5Y7M8G+P0c+r3jqkcU/5h99k6ZBzj88bCIzFzjVP4enV8oyxN0//yH99nXg5D8qOpLLf0jtP5kqGJXUifQ/c9cS8kHP/D+/DpwzojQEQIEmwoanVwxA4lgXt9HgE0BSSZ2AJuIbQAMJih9jjiNA5q4l5INuK0AwTKYKRj0zQNv5fmq8/DpAaCJseHrtQkB/+zpwzoxKQM3MzMzMeFJAZmZmZmZqWEAAAAAAAFxeQM3MzMzMJmJAmpmZmZkfZUBmZmZmZhhoQDMzMzMzEWtAAAAAAAAKbkBmZmZmZoFwQM3MzMzM/XFAMzMzMzN6c0CamZmZmfZ0QAAAAAAAc3ZAZmZmZmbvd0DNzMzMzGt5QDMzMzMz6HpAmpmZmZlkfEAAAAAAAOF9QGZmZmZmXX9AZmZmZuZsgECamZmZGSuBQM3MzMxM6YFAAAAAAICngkAzMzMzs2WDQGZmZmbmI4RAmpmZmRnihEDNzMzMTKCFQAAAAACAXoZAMzMzM7Mch0BmZmZm5tqHQJqZmZkZmYhAzczMzExXiUAAAAAAgBWKQDMzMzOz04pAZmZmZuaRi0CamZmZGVCMQM3MzMxMDo1AAAAAAIDMjUAzMzMzs4qOQGZmZmbmSI9A\",\"dtype\":\"float64\",\"shape\":[75]}},\"selected\":{\"id\":\"70be4b5f-8f1e-4c66-92fa-87693f0e1187\",\"type\":\"Selection\"},\"selection_policy\":{\"id\":\"6c85282c-342c-4726-8775-942bdddb2d92\",\"type\":\"UnionRenderers\"}},\"id\":\"6631d53a-b88b-416f-81a2-2ebdaecd4add\",\"type\":\"ColumnDataSource\"},{\"attributes\":{},\"id\":\"428a98da-cfcc-402a-9f66-1c8c9ab198f4\",\"type\":\"BasicTicker\"},{\"attributes\":{\"axis_label\":\"pressure [mb]\",\"formatter\":{\"id\":\"46bbc432-374f-4284-b21f-b8420888b858\",\"type\":\"LogTickFormatter\"},\"plot\":{\"id\":\"b5b21ccf-7809-46fc-b773-576dda96be1c\",\"subtype\":\"Figure\",\"type\":\"Plot\"},\"ticker\":{\"id\":\"353453f7-2069-4849-bd1f-e78711b32796\",\"type\":\"LogTicker\"}},\"id\":\"47b509c3-ecdc-4a5a-92a6-1e40df479d52\",\"type\":\"LogAxis\"},{\"attributes\":{\"items\":[{\"id\":\"a47ff1ca-7283-4f8c-989e-4a7f0e6e2774\",\"type\":\"LegendItem\"},{\"id\":\"48ee5a91-15df-41d6-9a4e-5ece763ec7e1\",\"type\":\"LegendItem\"},{\"id\":\"57a441a2-d635-458c-aaea-9d861ac6301f\",\"type\":\"LegendItem\"}],\"label_text_font_size\":{\"value\":\"8pt\"},\"location\":\"top_center\",\"orientation\":\"horizontal\",\"plot\":{\"id\":\"c2968a0d-cfbc-426d-8a2e-47ce6f34ba9a\",\"subtype\":\"Figure\",\"type\":\"Plot\"}},\"id\":\"f90c40ee-b81d-46e5-8107-1872d717e540\",\"type\":\"Legend\"},{\"attributes\":{\"num_minor_ticks\":10},\"id\":\"353453f7-2069-4849-bd1f-e78711b32796\",\"type\":\"LogTicker\"},{\"attributes\":{\"dimension\":1,\"plot\":{\"id\":\"b5b21ccf-7809-46fc-b773-576dda96be1c\",\"subtype\":\"Figure\",\"type\":\"Plot\"},\"ticker\":{\"id\":\"353453f7-2069-4849-bd1f-e78711b32796\",\"type\":\"LogTicker\"}},\"id\":\"c6225cff-bf86-45b3-a0bc-ee370658dee1\",\"type\":\"Grid\"},{\"attributes\":{},\"id\":\"f9203bdd-3f1f-4200-b619-5f4112a28173\",\"type\":\"Selection\"},{\"attributes\":{\"active_drag\":\"auto\",\"active_inspect\":\"auto\",\"active_scroll\":\"auto\",\"active_tap\":\"auto\",\"tools\":[{\"id\":\"0aa6336b-b542-4207-a6c6-70eca5504dd2\",\"type\":\"PanTool\"},{\"id\":\"2d06d506-ac06-4b0a-88d7-a0deba755be8\",\"type\":\"WheelZoomTool\"},{\"id\":\"85264cd6-6f26-4340-9184-555b79cf3a8c\",\"type\":\"BoxZoomTool\"},{\"id\":\"b38668f1-f16a-4ff9-9a05-9a4ca7e63f13\",\"type\":\"SaveTool\"},{\"id\":\"dbb054a7-1851-46a3-b476-57af3b729fae\",\"type\":\"ResetTool\"},{\"id\":\"222da80d-4215-48cd-8d5e-27e0110c56e4\",\"type\":\"HelpTool\"}]},\"id\":\"728ede49-94eb-4a73-9810-e1d5e2c91db4\",\"type\":\"Toolbar\"},{\"attributes\":{\"bottom_units\":\"screen\",\"fill_alpha\":{\"value\":0.5},\"fill_color\":{\"value\":\"lightgrey\"},\"left_units\":\"screen\",\"level\":\"overlay\",\"line_alpha\":{\"value\":1.0},\"line_color\":{\"value\":\"black\"},\"line_dash\":[4,4],\"line_width\":{\"value\":2},\"plot\":null,\"render_mode\":\"css\",\"right_units\":\"screen\",\"top_units\":\"screen\"},\"id\":\"0066bd4d-232a-486e-ae14-a8dc16bebb21\",\"type\":\"BoxAnnotation\"},{\"attributes\":{},\"id\":\"907dc768-7899-48a1-b195-71e6d339d944\",\"type\":\"PanTool\"},{\"attributes\":{\"above\":[{\"id\":\"f90c40ee-b81d-46e5-8107-1872d717e540\",\"type\":\"Legend\"}],\"below\":[{\"id\":\"91584bb0-5e76-4474-817f-1ee4069b1564\",\"type\":\"LinearAxis\"}],\"left\":[{\"id\":\"d3a9b437-cdd3-473f-af69-c9fb082f8146\",\"type\":\"LinearAxis\"}],\"plot_height\":500,\"plot_width\":400,\"renderers\":[{\"id\":\"91584bb0-5e76-4474-817f-1ee4069b1564\",\"type\":\"LinearAxis\"},{\"id\":\"19718ded-cf41-48f3-8a1d-02cc6df11e13\",\"type\":\"Grid\"},{\"id\":\"d3a9b437-cdd3-473f-af69-c9fb082f8146\",\"type\":\"LinearAxis\"},{\"id\":\"6d303314-5494-4d61-9f88-fba4ee29bfb6\",\"type\":\"Grid\"},{\"id\":\"033879c7-c89b-4c52-ad99-f54ba5d13308\",\"type\":\"BoxAnnotation\"},{\"id\":\"a2daa576-2a66-44aa-be03-0e74511e8e67\",\"type\":\"GlyphRenderer\"},{\"id\":\"9572439b-657f-4d66-81ef-2dcbfc8f5bea\",\"type\":\"GlyphRenderer\"},{\"id\":\"0244f74c-361d-420b-97ba-cd00406008c4\",\"type\":\"GlyphRenderer\"},{\"id\":\"ffc22e73-a8db-4d26-af8b-ccc36d0223ae\",\"type\":\"GlyphRenderer\"},{\"id\":\"98575eb1-ee7a-4c89-8139-be96dd50649d\",\"type\":\"GlyphRenderer\"},{\"id\":\"6344cae8-c9bb-4e65-bb62-24772baa1695\",\"type\":\"GlyphRenderer\"},{\"id\":\"f90c40ee-b81d-46e5-8107-1872d717e540\",\"type\":\"Legend\"}],\"title\":{\"id\":\"1738952f-1dba-42c0-9f5c-c25a0120bc6c\",\"type\":\"Title\"},\"toolbar\":{\"id\":\"728ede49-94eb-4a73-9810-e1d5e2c91db4\",\"type\":\"Toolbar\"},\"toolbar_location\":null,\"x_range\":{\"id\":\"688f568a-c66e-4326-bfea-3599e88de0ac\",\"type\":\"Range1d\"},\"x_scale\":{\"id\":\"047a1113-57a4-4782-93ad-840811986a1e\",\"type\":\"LinearScale\"},\"y_range\":{\"id\":\"ad38ae0e-3fff-4dd1-9512-3b33ff4dcd30\",\"type\":\"Range1d\"},\"y_scale\":{\"id\":\"0999fd84-e0a4-4fef-b8a6-ae64b24f0408\",\"type\":\"LinearScale\"}},\"id\":\"c2968a0d-cfbc-426d-8a2e-47ce6f34ba9a\",\"subtype\":\"Figure\",\"type\":\"Plot\"},{\"attributes\":{},\"id\":\"1a9478c2-2697-4fd9-922c-e3b6bf0deba9\",\"type\":\"WheelZoomTool\"},{\"attributes\":{\"overlay\":{\"id\":\"0066bd4d-232a-486e-ae14-a8dc16bebb21\",\"type\":\"BoxAnnotation\"}},\"id\":\"c0da3719-4510-48a0-9604-98c5d8dfd405\",\"type\":\"BoxZoomTool\"},{\"attributes\":{},\"id\":\"6f0b628f-09b9-468b-8bbf-b165d921a253\",\"type\":\"SaveTool\"},{\"attributes\":{},\"id\":\"1f495906-1fb2-41a0-82a3-a85bc6efc2ad\",\"type\":\"ResetTool\"},{\"attributes\":{\"line_alpha\":0.6,\"line_color\":\"#984ea3\",\"line_width\":3,\"x\":{\"field\":\"x\"},\"y\":{\"field\":\"y\"}},\"id\":\"cfdc014b-5a8c-4c4d-b372-0fb369d5893b\",\"type\":\"Line\"},{\"attributes\":{},\"id\":\"984f7329-0d06-47db-9cc3-109475fcfe94\",\"type\":\"HelpTool\"},{\"attributes\":{\"fill_alpha\":{\"value\":0.7},\"fill_color\":{\"value\":\"#4daf4a\"},\"line_alpha\":{\"value\":0.7},\"line_color\":{\"value\":\"#4daf4a\"},\"x\":{\"field\":\"x\"},\"y\":{\"field\":\"y\"}},\"id\":\"0be8549a-31d4-4403-88b9-4cd85dccd932\",\"type\":\"Circle\"},{\"attributes\":{\"callback\":null,\"data\":{\"x\":{\"__ndarray__\":\"42puvHBAsr4Xoj8fgaCxvodhqhrphK++6xha4GPAqb7RhlrchoKhvjQoJbHW4Ii+3KnKIjCLkT5l5HTOcT6sPgpSIWyvjLo+oueh8ukYxT737R477dTOPiSWig/MadU+PJETYKq03D6RkLgI4jbiPmZ0ONrhqOU+NLihSDX/6D57Ivz6wq/sPj4ItRsMY/A+Qgfr4fKl8j5gl4euYCT1PmBEHT5cmfc+a7WCtdWn9T6t/ax6fPbtPtd8T13uEOI+nrxXfxj30z4o2335+KDCPmCyILlK4KQ+rIVu/0e7j758lV6Osgalvhd3qoMdJKy+B2GvkY9LsL4MNRIMQamxvkqRWWgO0rG+7vAaa9stsb64AqZQWDGwvsXm8BVB862+aeu3N7rVq75Dnhip8BKrvkKPFxNMk7K+D4GoAF4/uL42fd+b3P++vvtaQghONcK+mLO5HN/xxL5KA8XmvjHIvueYGSDvt8u+5dwrYfd+zb4c4p6sjSXKvqhsFoCmpL6+xw66VN9Bpz6PcHQ5AqHePoD4kXRsFPY+NzS3EHOvBz/aSG9OtK8VP/iK+Ehj1SE/xMAx/ykIKz/uCbPPfSozP3LvQ2xftDk/5WlUUatrQD8lxsnIXhxEP2O1E4u6u0c/u3ShZyseSz8ol0cPfiNOP2476xPoW1A/Uxs78SxrUT/FoRnsz0NSP0X+5qvH6VI/V2F9BAFgUz+jgxy19ZxTP6juNl0CeFM/TpNTY9TBUj/y+O49+UdRPzvS3QWgf04/9CrC7NpdSj8JvRFDrIVGP/aJbvg0D0M/\",\"dtype\":\"float64\",\"shape\":[75]},\"y\":{\"__ndarray__\":\"GhExyth1ND/Sv8nbtpRIP2vylNV0PVE/aTum7souWD/At0SJ8fVgPw3Iuahxymc/MSNhhJWvcD/bTfBN02d3P2zb5nxnaoA/CD5h5MAGhz8NmeH1TyaQP+zrCsc9p5Y/LbKd76fGnz/bLW5ISEmmPww9YvTcQq8/JV2OstnstT8Er5Y7M8G+P0c+r3jqkcU/5h99k6ZBzj88bCIzFzjVP4enV8oyxN0//yH99nXg5D8qOpLLf0jtP5kqGJXUifQ/c9cS8kHP/D+/DpwzojQEQIEmwoanVwxA4lgXt9HgE0BSSZ2AJuIbQAMJih9jjiNA5q4l5INuK0AwTKYKRj0zQNv5fmq8/DpAaCJseHrtQkB/+zpwzoxKQM3MzMzMeFJAZmZmZmZqWEAAAAAAAFxeQM3MzMzMJmJAmpmZmZkfZUBmZmZmZhhoQDMzMzMzEWtAAAAAAAAKbkBmZmZmZoFwQM3MzMzM/XFAMzMzMzN6c0CamZmZmfZ0QAAAAAAAc3ZAZmZmZmbvd0DNzMzMzGt5QDMzMzMz6HpAmpmZmZlkfEAAAAAAAOF9QGZmZmZmXX9AZmZmZuZsgECamZmZGSuBQM3MzMxM6YFAAAAAAICngkAzMzMzs2WDQGZmZmbmI4RAmpmZmRnihEDNzMzMTKCFQAAAAACAXoZAMzMzM7Mch0BmZmZm5tqHQJqZmZkZmYhAzczMzExXiUAAAAAAgBWKQDMzMzOz04pAZmZmZuaRi0CamZmZGVCMQM3MzMxMDo1AAAAAAIDMjUAzMzMzs4qOQGZmZmbmSI9A\",\"dtype\":\"float64\",\"shape\":[75]}},\"selected\":{\"id\":\"c95b0055-f7d7-4480-a03c-479fc2a6e013\",\"type\":\"Selection\"},\"selection_policy\":{\"id\":\"4e9422bc-022c-4eb0-aa7d-6ddd98df3c92\",\"type\":\"UnionRenderers\"}},\"id\":\"a2728ee7-3a9f-4308-802b-4702cc60bec8\",\"type\":\"ColumnDataSource\"},{\"attributes\":{\"fill_alpha\":{\"value\":0.1},\"fill_color\":{\"value\":\"#1f77b4\"},\"line_alpha\":{\"value\":0.1},\"line_color\":{\"value\":\"#1f77b4\"},\"x\":{\"field\":\"x\"},\"y\":{\"field\":\"y\"}},\"id\":\"978c793c-99c8-4275-85c6-098125543d56\",\"type\":\"Circle\"},{\"attributes\":{\"line_alpha\":0.1,\"line_color\":\"#1f77b4\",\"line_width\":3,\"x\":{\"field\":\"x\"},\"y\":{\"field\":\"y\"}},\"id\":\"74c8e061-2bcc-40b3-9c41-4a70831e70aa\",\"type\":\"Line\"},{\"attributes\":{\"callback\":null,\"data\":{\"x\":{\"__ndarray__\":\"42puvHBAsr4Xoj8fgaCxvodhqhrphK++6xha4GPAqb7RhlrchoKhvjQoJbHW4Ii+3KnKIjCLkT5l5HTOcT6sPgpSIWyvjLo+oueh8ukYxT737R477dTOPiSWig/MadU+PJETYKq03D6RkLgI4jbiPmZ0ONrhqOU+NLihSDX/6D57Ivz6wq/sPj4ItRsMY/A+Qgfr4fKl8j5gl4euYCT1PmBEHT5cmfc+a7WCtdWn9T6t/ax6fPbtPtd8T13uEOI+nrxXfxj30z4o2335+KDCPmCyILlK4KQ+rIVu/0e7j758lV6Osgalvhd3qoMdJKy+B2GvkY9LsL4MNRIMQamxvkqRWWgO0rG+7vAaa9stsb64AqZQWDGwvsXm8BVB862+aeu3N7rVq75Dnhip8BKrvkKPFxNMk7K+D4GoAF4/uL42fd+b3P++vvtaQghONcK+mLO5HN/xxL5KA8XmvjHIvueYGSDvt8u+5dwrYfd+zb4c4p6sjSXKvqhsFoCmpL6+xw66VN9Bpz6PcHQ5AqHePoD4kXRsFPY+NzS3EHOvBz/aSG9OtK8VP/iK+Ehj1SE/xMAx/ykIKz/uCbPPfSozP3LvQ2xftDk/5WlUUatrQD8lxsnIXhxEP2O1E4u6u0c/u3ShZyseSz8ol0cPfiNOP2476xPoW1A/Uxs78SxrUT/FoRnsz0NSP0X+5qvH6VI/V2F9BAFgUz+jgxy19ZxTP6juNl0CeFM/TpNTY9TBUj/y+O49+UdRPzvS3QWgf04/9CrC7NpdSj8JvRFDrIVGP/aJbvg0D0M/\",\"dtype\":\"float64\",\"shape\":[75]},\"y\":{\"__ndarray__\":\"GhExyth1ND/Sv8nbtpRIP2vylNV0PVE/aTum7souWD/At0SJ8fVgPw3Iuahxymc/MSNhhJWvcD/bTfBN02d3P2zb5nxnaoA/CD5h5MAGhz8NmeH1TyaQP+zrCsc9p5Y/LbKd76fGnz/bLW5ISEmmPww9YvTcQq8/JV2OstnstT8Er5Y7M8G+P0c+r3jqkcU/5h99k6ZBzj88bCIzFzjVP4enV8oyxN0//yH99nXg5D8qOpLLf0jtP5kqGJXUifQ/c9cS8kHP/D+/DpwzojQEQIEmwoanVwxA4lgXt9HgE0BSSZ2AJuIbQAMJih9jjiNA5q4l5INuK0AwTKYKRj0zQNv5fmq8/DpAaCJseHrtQkB/+zpwzoxKQM3MzMzMeFJAZmZmZmZqWEAAAAAAAFxeQM3MzMzMJmJAmpmZmZkfZUBmZmZmZhhoQDMzMzMzEWtAAAAAAAAKbkBmZmZmZoFwQM3MzMzM/XFAMzMzMzN6c0CamZmZmfZ0QAAAAAAAc3ZAZmZmZmbvd0DNzMzMzGt5QDMzMzMz6HpAmpmZmZlkfEAAAAAAAOF9QGZmZmZmXX9AZmZmZuZsgECamZmZGSuBQM3MzMxM6YFAAAAAAICngkAzMzMzs2WDQGZmZmbmI4RAmpmZmRnihEDNzMzMTKCFQAAAAACAXoZAMzMzM7Mch0BmZmZm5tqHQJqZmZkZmYhAzczMzExXiUAAAAAAgBWKQDMzMzOz04pAZmZmZuaRi0CamZmZGVCMQM3MzMxMDo1AAAAAAIDMjUAzMzMzs4qOQGZmZmbmSI9A\",\"dtype\":\"float64\",\"shape\":[75]}},\"selected\":{\"id\":\"44838892-4c3a-464c-ac65-5d5512ec653f\",\"type\":\"Selection\"},\"selection_policy\":{\"id\":\"b4759f22-49c7-4644-96aa-ba7f45c62198\",\"type\":\"UnionRenderers\"}},\"id\":\"59a0bb20-a1e1-41af-b33e-bd8fc6fa3008\",\"type\":\"ColumnDataSource\"},{\"attributes\":{\"callback\":null,\"end\":0.01,\"start\":1020},\"id\":\"045d2105-44ae-4a82-bcd8-8db4598dcd48\",\"type\":\"Range1d\"},{\"attributes\":{\"data_source\":{\"id\":\"a197dbf2-0444-4206-978e-9bab071a86ea\",\"type\":\"ColumnDataSource\"},\"glyph\":{\"id\":\"cfdc014b-5a8c-4c4d-b372-0fb369d5893b\",\"type\":\"Line\"},\"hover_glyph\":null,\"muted_glyph\":null,\"nonselection_glyph\":{\"id\":\"74c8e061-2bcc-40b3-9c41-4a70831e70aa\",\"type\":\"Line\"},\"selection_glyph\":null,\"view\":{\"id\":\"5cb26826-90d5-452e-ac83-3cdd01f46ca6\",\"type\":\"CDSView\"}},\"id\":\"ffc22e73-a8db-4d26-af8b-ccc36d0223ae\",\"type\":\"GlyphRenderer\"},{\"attributes\":{\"data_source\":{\"id\":\"a2728ee7-3a9f-4308-802b-4702cc60bec8\",\"type\":\"ColumnDataSource\"},\"glyph\":{\"id\":\"0be8549a-31d4-4403-88b9-4cd85dccd932\",\"type\":\"Circle\"},\"hover_glyph\":null,\"muted_glyph\":null,\"nonselection_glyph\":{\"id\":\"978c793c-99c8-4275-85c6-098125543d56\",\"type\":\"Circle\"},\"selection_glyph\":null,\"view\":{\"id\":\"5aeef04b-6ef8-4fa1-a61a-6d3953b30455\",\"type\":\"CDSView\"}},\"id\":\"ec6cf5a7-7f90-4c1b-8800-c1bef2f1f43e\",\"type\":\"GlyphRenderer\"},{\"attributes\":{\"source\":{\"id\":\"a2728ee7-3a9f-4308-802b-4702cc60bec8\",\"type\":\"ColumnDataSource\"}},\"id\":\"5aeef04b-6ef8-4fa1-a61a-6d3953b30455\",\"type\":\"CDSView\"}],\"root_ids\":[\"939c4930-2e56-4b60-a898-0b840a8c8878\"]},\"title\":\"Bokeh Application\",\"version\":\"0.12.16\"}};\n",
       "  var render_items = [{\"docid\":\"80f5f40b-acf9-4fac-b087-c8f312581071\",\"elementid\":\"6201446f-22ac-48db-bd7f-e7dec88d81af\",\"modelid\":\"939c4930-2e56-4b60-a898-0b840a8c8878\"}];\n",
       "  root.Bokeh.embed.embed_items_notebook(docs_json, render_items);\n",
       "\n",
       "  }\n",
       "  if (root.Bokeh !== undefined) {\n",
       "    embed_document(root);\n",
       "  } else {\n",
       "    var attempts = 0;\n",
       "    var timer = setInterval(function(root) {\n",
       "      if (root.Bokeh !== undefined) {\n",
       "        embed_document(root);\n",
       "        clearInterval(timer);\n",
       "      }\n",
       "      attempts++;\n",
       "      if (attempts > 100) {\n",
       "        console.log(\"Bokeh: ERROR: Unable to run BokehJS code because BokehJS library is missing\")\n",
       "        clearInterval(timer);\n",
       "      }\n",
       "    }, 10, root)\n",
       "  }\n",
       "})(window);"
      ],
      "application/vnd.bokehjs_exec.v0+json": ""
     },
     "metadata": {
      "application/vnd.bokehjs_exec.v0+json": {
       "id": "939c4930-2e56-4b60-a898-0b840a8c8878"
      }
     },
     "output_type": "display_data"
    },
    {
     "data": {
      "text/markdown": [
       "*FIGURE.* Cooling rates. g=1"
      ],
      "text/plain": [
       "<IPython.core.display.Markdown object>"
      ]
     },
     "metadata": {},
     "output_type": "display_data"
    },
    {
     "data": {
      "text/html": [
       "\n",
       "<div class=\"bk-root\">\n",
       "    <div class=\"bk-plotdiv\" id=\"9c73cc5c-d450-4444-898e-8a393abaf9e8\"></div>\n",
       "</div>"
      ]
     },
     "metadata": {},
     "output_type": "display_data"
    },
    {
     "data": {
      "application/javascript": [
       "(function(root) {\n",
       "  function embed_document(root) {\n",
       "    \n",
       "  var docs_json = {\"21b81373-8f3d-4daa-a008-d7dfc8efb08a\":{\"roots\":{\"references\":[{\"attributes\":{},\"id\":\"9769f83c-71ce-42e0-83e5-910eb85c314d\",\"type\":\"Selection\"},{\"attributes\":{\"num_minor_ticks\":10},\"id\":\"f8686374-9017-4413-a9e0-7ad38ee63f8f\",\"type\":\"LogTicker\"},{\"attributes\":{},\"id\":\"f19d47f3-f207-413c-a0c9-7340e35db1f7\",\"type\":\"PanTool\"},{\"attributes\":{\"dimension\":1,\"plot\":{\"id\":\"256640c7-283d-45c9-8df5-5bd49849cc5e\",\"subtype\":\"Figure\",\"type\":\"Plot\"},\"ticker\":{\"id\":\"f8686374-9017-4413-a9e0-7ad38ee63f8f\",\"type\":\"LogTicker\"}},\"id\":\"32a60965-ab04-4714-b34f-6e7651426736\",\"type\":\"Grid\"},{\"attributes\":{\"fill_alpha\":{\"value\":0.7},\"fill_color\":{\"value\":\"#4daf4a\"},\"line_alpha\":{\"value\":0.7},\"line_color\":{\"value\":\"#4daf4a\"},\"x\":{\"field\":\"x\"},\"y\":{\"field\":\"y\"}},\"id\":\"275fa300-8df7-4d5a-b6b6-02efa96abd5e\",\"type\":\"Circle\"},{\"attributes\":{\"line_color\":\"#4daf4a\",\"line_width\":1.5,\"x\":{\"field\":\"x\"},\"y\":{\"field\":\"y\"}},\"id\":\"b8e69846-a243-42b2-95de-20bc3e471274\",\"type\":\"Line\"},{\"attributes\":{\"data_source\":{\"id\":\"8b8630e5-f112-4d77-916f-0313d57714c2\",\"type\":\"ColumnDataSource\"},\"glyph\":{\"id\":\"275fa300-8df7-4d5a-b6b6-02efa96abd5e\",\"type\":\"Circle\"},\"hover_glyph\":null,\"muted_glyph\":null,\"nonselection_glyph\":{\"id\":\"b9411ebc-460d-4299-9805-7bffcd946981\",\"type\":\"Circle\"},\"selection_glyph\":null,\"view\":{\"id\":\"5bd00843-70fe-495d-97b4-21b18be75eb9\",\"type\":\"CDSView\"}},\"id\":\"81423f3e-d7d0-41f9-9807-729c1eb05694\",\"type\":\"GlyphRenderer\"},{\"attributes\":{\"line_alpha\":0.1,\"line_color\":\"#1f77b4\",\"line_width\":1.5,\"x\":{\"field\":\"x\"},\"y\":{\"field\":\"y\"}},\"id\":\"f0dc31f2-55b8-4c8c-8a1c-352b96b1a678\",\"type\":\"Line\"},{\"attributes\":{\"fill_alpha\":{\"value\":0.1},\"fill_color\":{\"value\":\"#1f77b4\"},\"line_alpha\":{\"value\":0.1},\"line_color\":{\"value\":\"#1f77b4\"},\"x\":{\"field\":\"x\"},\"y\":{\"field\":\"y\"}},\"id\":\"b9411ebc-460d-4299-9805-7bffcd946981\",\"type\":\"Circle\"},{\"attributes\":{\"axis_label\":\"pressure [mb]\",\"formatter\":{\"id\":\"79d27997-60f4-451b-b56b-73048573f931\",\"type\":\"LogTickFormatter\"},\"plot\":{\"id\":\"256640c7-283d-45c9-8df5-5bd49849cc5e\",\"subtype\":\"Figure\",\"type\":\"Plot\"},\"ticker\":{\"id\":\"f8686374-9017-4413-a9e0-7ad38ee63f8f\",\"type\":\"LogTicker\"}},\"id\":\"b92d1848-e406-4c5a-b157-3f03ff5f20a5\",\"type\":\"LogAxis\"},{\"attributes\":{\"callback\":null,\"data\":{\"x\":{\"__ndarray__\":\"h7qz2uoopL4z0+Z4X9ajvtGijETay6K+4WVIgncZob6o8l5d0TedvhhZCDIrTJa++hHM++kOir708SCblolNvl7wnO0XLY0+tlZDDkYVoT5aq8jeckqtPtMtPlucLrY+fzbLkk5dvz7OBbFgUI7EPuLISz6q6cg+ms+rki0kzT52pUGcv+nQPvoNYJC4g9M+xMNEZghm1j7sescsH5fZPrhLnnJDv9w+Z8GBiS1G2j7kKA55acXRPn9iE24FdsQ+ggjdSpaDtD6fTMSyT36cPo7ZmU36mnS+jhD55s0kl77Vm3rnA36fvgxG6h5vEKK+AWQ0652go76Bde3pvqqkvpFkXb/tLqW+KsvFErhXpb4ph9sNcWmlvl+VmMAWd6W+nE5DwpKRpb7FCIFXxjWmvowMB9sUsa++oLeMR0Jrtb6H+pBWezC8viWlbpja/MC+XiqnQ2z+w77jLwhWjJTHvqaTrQJSoMu+v4VAoTP4zr5O9PUYmn7PvlKnGr8eWcu+WYSjLKFCxb7dL5HAfLejPsk1iBxxAOM+sD/7dhig+z6sWrWLyaANP/Ub9gyoPhs/6aEG0dCkJj/g2oYjIXAxP2q6kQfYRjk/RJfWTsZmQT+oC3AZBOxGP1DriJ/oDU0/CKvmv6TNUT/191qg+S1VPxatjuocjVg/taB8JNrTWz8A22vR4+9eP2RcybtX52A/CTingmguYj+b+G3//zxjP+nUm63R7WM/+w0wPoccZD/y3TQdBJRjP+bGCyGbb2I/jUizeWUlYT9M6rYSYrhfP/2+7bQ2R10/\",\"dtype\":\"float64\",\"shape\":[75]},\"y\":{\"__ndarray__\":\"GhExyth1ND/Sv8nbtpRIP2vylNV0PVE/aTum7souWD/At0SJ8fVgPw3Iuahxymc/MSNhhJWvcD/bTfBN02d3P2zb5nxnaoA/CD5h5MAGhz8NmeH1TyaQP+zrCsc9p5Y/LbKd76fGnz/bLW5ISEmmPww9YvTcQq8/JV2OstnstT8Er5Y7M8G+P0c+r3jqkcU/5h99k6ZBzj88bCIzFzjVP4enV8oyxN0//yH99nXg5D8qOpLLf0jtP5kqGJXUifQ/c9cS8kHP/D+/DpwzojQEQIEmwoanVwxA4lgXt9HgE0BSSZ2AJuIbQAMJih9jjiNA5q4l5INuK0AwTKYKRj0zQNv5fmq8/DpAaCJseHrtQkB/+zpwzoxKQM3MzMzMeFJAZmZmZmZqWEAAAAAAAFxeQM3MzMzMJmJAmpmZmZkfZUBmZmZmZhhoQDMzMzMzEWtAAAAAAAAKbkBmZmZmZoFwQM3MzMzM/XFAMzMzMzN6c0CamZmZmfZ0QAAAAAAAc3ZAZmZmZmbvd0DNzMzMzGt5QDMzMzMz6HpAmpmZmZlkfEAAAAAAAOF9QGZmZmZmXX9AZmZmZuZsgECamZmZGSuBQM3MzMxM6YFAAAAAAICngkAzMzMzs2WDQGZmZmbmI4RAmpmZmRnihEDNzMzMTKCFQAAAAACAXoZAMzMzM7Mch0BmZmZm5tqHQJqZmZkZmYhAzczMzExXiUAAAAAAgBWKQDMzMzOz04pAZmZmZuaRi0CamZmZGVCMQM3MzMxMDo1AAAAAAIDMjUAzMzMzs4qOQGZmZmbmSI9A\",\"dtype\":\"float64\",\"shape\":[75]}},\"selected\":{\"id\":\"90d0f216-455d-453d-8a23-7e706f00f0cb\",\"type\":\"Selection\"},\"selection_policy\":{\"id\":\"6529b315-75bd-442d-95e1-0ad2bea64516\",\"type\":\"UnionRenderers\"}},\"id\":\"4795883a-7a36-4e49-8c93-874868976c94\",\"type\":\"ColumnDataSource\"},{\"attributes\":{},\"id\":\"e07a660d-3631-4001-b909-d6dd45ef46d1\",\"type\":\"Selection\"},{\"attributes\":{\"bottom_units\":\"screen\",\"fill_alpha\":{\"value\":0.5},\"fill_color\":{\"value\":\"lightgrey\"},\"left_units\":\"screen\",\"level\":\"overlay\",\"line_alpha\":{\"value\":1.0},\"line_color\":{\"value\":\"black\"},\"line_dash\":[4,4],\"line_width\":{\"value\":2},\"plot\":null,\"render_mode\":\"css\",\"right_units\":\"screen\",\"top_units\":\"screen\"},\"id\":\"6ef416b9-665f-4c78-a64c-aee1e4546e5c\",\"type\":\"BoxAnnotation\"},{\"attributes\":{},\"id\":\"24150495-57d1-4616-8542-fab4504aabff\",\"type\":\"HelpTool\"},{\"attributes\":{\"data_source\":{\"id\":\"4795883a-7a36-4e49-8c93-874868976c94\",\"type\":\"ColumnDataSource\"},\"glyph\":{\"id\":\"b8e69846-a243-42b2-95de-20bc3e471274\",\"type\":\"Line\"},\"hover_glyph\":null,\"muted_glyph\":null,\"nonselection_glyph\":{\"id\":\"f0dc31f2-55b8-4c8c-8a1c-352b96b1a678\",\"type\":\"Line\"},\"selection_glyph\":null,\"view\":{\"id\":\"5808ec11-fc7a-4c41-9bd2-30625d5471b6\",\"type\":\"CDSView\"}},\"id\":\"93f29247-7b12-4e9e-9c55-3ed24481112f\",\"type\":\"GlyphRenderer\"},{\"attributes\":{\"source\":{\"id\":\"8b8630e5-f112-4d77-916f-0313d57714c2\",\"type\":\"ColumnDataSource\"}},\"id\":\"5bd00843-70fe-495d-97b4-21b18be75eb9\",\"type\":\"CDSView\"},{\"attributes\":{},\"id\":\"bbb532d1-9940-44f8-97c3-cedc450ded7b\",\"type\":\"Selection\"},{\"attributes\":{\"plot\":null,\"text\":\"\"},\"id\":\"ee30db6a-cb5f-4c52-ab3e-89c1e5fa1d5e\",\"type\":\"Title\"},{\"attributes\":{},\"id\":\"4697baa1-9b51-45ea-8cf4-a73a53dad774\",\"type\":\"UnionRenderers\"},{\"attributes\":{\"overlay\":{\"id\":\"6ef416b9-665f-4c78-a64c-aee1e4546e5c\",\"type\":\"BoxAnnotation\"}},\"id\":\"84cc30fc-e9d6-4290-9d48-2fc70d4ab2d3\",\"type\":\"BoxZoomTool\"},{\"attributes\":{},\"id\":\"90d0f216-455d-453d-8a23-7e706f00f0cb\",\"type\":\"Selection\"},{\"attributes\":{},\"id\":\"6529b315-75bd-442d-95e1-0ad2bea64516\",\"type\":\"UnionRenderers\"},{\"attributes\":{\"ticker\":null},\"id\":\"79d27997-60f4-451b-b56b-73048573f931\",\"type\":\"LogTickFormatter\"},{\"attributes\":{},\"id\":\"abae4657-e497-454f-a200-4f177e8b8d01\",\"type\":\"WheelZoomTool\"},{\"attributes\":{\"data_source\":{\"id\":\"236f5052-4fad-4b92-ba12-48823b00d78a\",\"type\":\"ColumnDataSource\"},\"glyph\":{\"id\":\"52f7672b-a535-4820-abb0-80bec4d17531\",\"type\":\"Square\"},\"hover_glyph\":null,\"muted_glyph\":null,\"nonselection_glyph\":{\"id\":\"b7db0567-77c2-4e3a-8a1a-3c8f45478162\",\"type\":\"Square\"},\"selection_glyph\":null,\"view\":{\"id\":\"8a9a8cac-0c89-4735-8d4c-df5621147488\",\"type\":\"CDSView\"}},\"id\":\"c9fcb1d8-9cea-4dac-87f7-33ffd8a4cd1f\",\"type\":\"GlyphRenderer\"},{\"attributes\":{},\"id\":\"f8095f52-5146-4bd2-ac6b-c4e4d3d6ca81\",\"type\":\"BasicTickFormatter\"},{\"attributes\":{},\"id\":\"f95a5d70-5e83-4ba6-88f8-47cdddb15d18\",\"type\":\"ResetTool\"},{\"attributes\":{},\"id\":\"8b9b5077-66e0-4166-ac74-29f270f20c44\",\"type\":\"Selection\"},{\"attributes\":{},\"id\":\"b089f780-1fb6-4996-9b90-432bb4aa1e01\",\"type\":\"SaveTool\"},{\"attributes\":{\"above\":[{\"id\":\"223d9250-48fd-432d-99a3-f8b12431fbf9\",\"type\":\"Legend\"}],\"below\":[{\"id\":\"33e5de2a-b0dc-45c2-be26-fcc21c053d3b\",\"type\":\"LinearAxis\"}],\"left\":[{\"id\":\"bf9868a6-e3e8-4560-a5f2-1288562c72c4\",\"type\":\"LinearAxis\"}],\"plot_height\":500,\"plot_width\":400,\"renderers\":[{\"id\":\"33e5de2a-b0dc-45c2-be26-fcc21c053d3b\",\"type\":\"LinearAxis\"},{\"id\":\"49c6fd21-eac2-4c09-b6ef-e4106dbc6d40\",\"type\":\"Grid\"},{\"id\":\"bf9868a6-e3e8-4560-a5f2-1288562c72c4\",\"type\":\"LinearAxis\"},{\"id\":\"0649d41c-f811-48d9-9c37-2a23a1e67dde\",\"type\":\"Grid\"},{\"id\":\"6ef416b9-665f-4c78-a64c-aee1e4546e5c\",\"type\":\"BoxAnnotation\"},{\"id\":\"81423f3e-d7d0-41f9-9807-729c1eb05694\",\"type\":\"GlyphRenderer\"},{\"id\":\"93f29247-7b12-4e9e-9c55-3ed24481112f\",\"type\":\"GlyphRenderer\"},{\"id\":\"c9fcb1d8-9cea-4dac-87f7-33ffd8a4cd1f\",\"type\":\"GlyphRenderer\"},{\"id\":\"cb276c4f-19d8-4b5f-ad07-b82d0a0dad53\",\"type\":\"GlyphRenderer\"},{\"id\":\"4b838226-e2de-45d6-aad7-82b0fb700618\",\"type\":\"GlyphRenderer\"},{\"id\":\"6991044d-16a8-4147-bb24-61b9ff0967ae\",\"type\":\"GlyphRenderer\"},{\"id\":\"223d9250-48fd-432d-99a3-f8b12431fbf9\",\"type\":\"Legend\"}],\"title\":{\"id\":\"8b1cad7e-11de-4cf6-ab7a-117203c81546\",\"type\":\"Title\"},\"toolbar\":{\"id\":\"7eb10875-ca2c-4b02-8106-44955ff272f4\",\"type\":\"Toolbar\"},\"toolbar_location\":null,\"x_range\":{\"id\":\"102eb87a-75be-464a-9c2a-db6fafe4ffca\",\"type\":\"Range1d\"},\"x_scale\":{\"id\":\"5faceef9-5a19-4018-a04a-5e77962a7cc1\",\"type\":\"LinearScale\"},\"y_range\":{\"id\":\"227c60b3-9e5f-45fb-8ea6-76499144f5e8\",\"type\":\"Range1d\"},\"y_scale\":{\"id\":\"80b2790f-b743-4d76-9562-7f8b296cf226\",\"type\":\"LinearScale\"}},\"id\":\"2d1b16d4-1e84-4278-9ac5-51400339bbed\",\"subtype\":\"Figure\",\"type\":\"Plot\"},{\"attributes\":{\"fill_alpha\":{\"value\":0.1},\"fill_color\":{\"value\":\"#1f77b4\"},\"line_alpha\":{\"value\":0.1},\"line_color\":{\"value\":\"#1f77b4\"},\"x\":{\"field\":\"x\"},\"y\":{\"field\":\"y\"}},\"id\":\"b7db0567-77c2-4e3a-8a1a-3c8f45478162\",\"type\":\"Square\"},{\"attributes\":{},\"id\":\"979e1cb8-68ff-44f6-85f9-1be3d305d688\",\"type\":\"UnionRenderers\"},{\"attributes\":{\"source\":{\"id\":\"236f5052-4fad-4b92-ba12-48823b00d78a\",\"type\":\"ColumnDataSource\"}},\"id\":\"8a9a8cac-0c89-4735-8d4c-df5621147488\",\"type\":\"CDSView\"},{\"attributes\":{},\"id\":\"aff7049b-a5c6-4d02-8aab-ecfcda3c6121\",\"type\":\"PanTool\"},{\"attributes\":{\"line_alpha\":0.1,\"line_color\":\"#1f77b4\",\"line_width\":3,\"x\":{\"field\":\"x\"},\"y\":{\"field\":\"y\"}},\"id\":\"4be1f2c2-ceb9-4039-8885-d4e55e52236a\",\"type\":\"Line\"},{\"attributes\":{},\"id\":\"98b25882-6690-46d7-b0ef-60e2067f5ffd\",\"type\":\"UnionRenderers\"},{\"attributes\":{\"line_alpha\":0.1,\"line_color\":\"#1f77b4\",\"line_width\":2,\"x\":{\"field\":\"x\"},\"y\":{\"field\":\"y\"}},\"id\":\"54ba7a7d-48b5-4b72-8586-67e0c4df3121\",\"type\":\"Line\"},{\"attributes\":{},\"id\":\"feaaae6d-c17e-4abd-9981-d9b6fbe61ad6\",\"type\":\"Selection\"},{\"attributes\":{\"source\":{\"id\":\"9b6c2f02-592f-4ce6-a438-9262e2f77cbb\",\"type\":\"ColumnDataSource\"}},\"id\":\"8b9dbc4e-5ab3-4bf6-b27d-ce8c9ef94105\",\"type\":\"CDSView\"},{\"attributes\":{},\"id\":\"e94ea95b-b749-4ebf-bd9f-c0a7ec77c8f1\",\"type\":\"UnionRenderers\"},{\"attributes\":{\"source\":{\"id\":\"4795883a-7a36-4e49-8c93-874868976c94\",\"type\":\"ColumnDataSource\"}},\"id\":\"5808ec11-fc7a-4c41-9bd2-30625d5471b6\",\"type\":\"CDSView\"},{\"attributes\":{},\"id\":\"51a39b2f-5eb7-439d-81ef-296bf4cba6a0\",\"type\":\"Selection\"},{\"attributes\":{},\"id\":\"f727209b-7edd-4ee1-af56-799db8aa177d\",\"type\":\"UnionRenderers\"},{\"attributes\":{},\"id\":\"c91065b6-89fa-4b25-ab70-0a06362c65cd\",\"type\":\"Selection\"},{\"attributes\":{},\"id\":\"c9bde04c-e8c1-4bc2-ba67-ebe924bdd0bf\",\"type\":\"Selection\"},{\"attributes\":{\"callback\":null,\"data\":{\"x\":{\"__ndarray__\":\"xFiabhq7l774NuKB8V6XvrV4GRYjNZa+hILaYZVRlL7+k+oNBI6RvmY35PgycIu+iO+xqpUrgb7MLgy7dDNevmdeq8qevXo+Qo2JZBR/kT4g+chQ7PeePhxRdwyUy6c+TUsj+B/1sD5H3hFXmlO2Pmx11TJ3ILs+vMhXL9HJvz4enZVfa3rCPpkg1aXnWcU+9T5m1MKKyD7mfhFd6BTMPjaA9Kk8mc8+YbcqHvPszD5Fc2eA3pTDPnQfb1+vg7Y+JW3E2mtgpj563lo5o4yNPoTGf3eWVHG+n2e9VNCkjb4FpzWLG/aTvqXyzIZaGpe+y9FAp56Gmb40DG5Tln2bvnGXJk8g65y+PtBn3xHznb5BpBrmR/Gevv32aG04+5++wgXiFxuAoL4u//HbiVihvjLlw2IRLKm+cqfdVKZAsb72dimXo/m2vngVOZtj+Lu+A7m5UUeawL5HBm83SrrDvif7PSz/Qce+GIKn4/Asyr43umindqzKvqpMCh+mRMe+nEOYE8Bvwr5G3LyrezKXPucOg5YlrN4+XGOcW/ap9j5w23WXvm4IP/uxkuxbnhY/+3ZGyBvmIj8YN68hdPcsP826C7krDzU/MfOSNVYOPT9fC/DjTzNDPyrVqbEaXEg/VB94F1DxTT96NBHS7NxRP6Ln9z6TxFQ/xogf/+eZVz84Oye0a01aP6SycZ2301w/676KrdMRXz98hCTvuHpgP7nTvDRcHGE/ixpxZW5VYT8S6iWrAvNgP1obHlNbEGA/MBbHdncTXj+yWpg56AhcPxgid3bRDlo/\",\"dtype\":\"float64\",\"shape\":[75]},\"y\":{\"__ndarray__\":\"GhExyth1ND/Sv8nbtpRIP2vylNV0PVE/aTum7souWD/At0SJ8fVgPw3Iuahxymc/MSNhhJWvcD/bTfBN02d3P2zb5nxnaoA/CD5h5MAGhz8NmeH1TyaQP+zrCsc9p5Y/LbKd76fGnz/bLW5ISEmmPww9YvTcQq8/JV2OstnstT8Er5Y7M8G+P0c+r3jqkcU/5h99k6ZBzj88bCIzFzjVP4enV8oyxN0//yH99nXg5D8qOpLLf0jtP5kqGJXUifQ/c9cS8kHP/D+/DpwzojQEQIEmwoanVwxA4lgXt9HgE0BSSZ2AJuIbQAMJih9jjiNA5q4l5INuK0AwTKYKRj0zQNv5fmq8/DpAaCJseHrtQkB/+zpwzoxKQM3MzMzMeFJAZmZmZmZqWEAAAAAAAFxeQM3MzMzMJmJAmpmZmZkfZUBmZmZmZhhoQDMzMzMzEWtAAAAAAAAKbkBmZmZmZoFwQM3MzMzM/XFAMzMzMzN6c0CamZmZmfZ0QAAAAAAAc3ZAZmZmZmbvd0DNzMzMzGt5QDMzMzMz6HpAmpmZmZlkfEAAAAAAAOF9QGZmZmZmXX9AZmZmZuZsgECamZmZGSuBQM3MzMxM6YFAAAAAAICngkAzMzMzs2WDQGZmZmbmI4RAmpmZmRnihEDNzMzMTKCFQAAAAACAXoZAMzMzM7Mch0BmZmZm5tqHQJqZmZkZmYhAzczMzExXiUAAAAAAgBWKQDMzMzOz04pAZmZmZuaRi0CamZmZGVCMQM3MzMxMDo1AAAAAAIDMjUAzMzMzs4qOQGZmZmbmSI9A\",\"dtype\":\"float64\",\"shape\":[75]}},\"selected\":{\"id\":\"9769f83c-71ce-42e0-83e5-910eb85c314d\",\"type\":\"Selection\"},\"selection_policy\":{\"id\":\"d6cde6e5-0647-4259-8184-cac9003789aa\",\"type\":\"UnionRenderers\"}},\"id\":\"236f5052-4fad-4b92-ba12-48823b00d78a\",\"type\":\"ColumnDataSource\"},{\"attributes\":{},\"id\":\"be3fc570-3319-4ca1-91f5-a8b6d3f843a2\",\"type\":\"UnionRenderers\"},{\"attributes\":{},\"id\":\"801fd8e5-f44d-4b78-982e-e5db45be85d7\",\"type\":\"Selection\"},{\"attributes\":{},\"id\":\"95496b1c-8458-4444-be40-18ebd096f018\",\"type\":\"UnionRenderers\"},{\"attributes\":{\"tools\":[{\"id\":\"aff7049b-a5c6-4d02-8aab-ecfcda3c6121\",\"type\":\"PanTool\"},{\"id\":\"abae4657-e497-454f-a200-4f177e8b8d01\",\"type\":\"WheelZoomTool\"},{\"id\":\"84cc30fc-e9d6-4290-9d48-2fc70d4ab2d3\",\"type\":\"BoxZoomTool\"},{\"id\":\"b089f780-1fb6-4996-9b90-432bb4aa1e01\",\"type\":\"SaveTool\"},{\"id\":\"f95a5d70-5e83-4ba6-88f8-47cdddb15d18\",\"type\":\"ResetTool\"},{\"id\":\"24150495-57d1-4616-8542-fab4504aabff\",\"type\":\"HelpTool\"},{\"id\":\"f19d47f3-f207-413c-a0c9-7340e35db1f7\",\"type\":\"PanTool\"},{\"id\":\"f4419799-239d-4af0-aacf-0c5051bec379\",\"type\":\"WheelZoomTool\"},{\"id\":\"7dfde19f-2a17-4a4f-83b5-ecc42afe6869\",\"type\":\"BoxZoomTool\"},{\"id\":\"204caf14-f19b-4e97-afd8-58ba2cde0c2b\",\"type\":\"SaveTool\"},{\"id\":\"d5233c64-d684-46ba-a429-0640ade57f1d\",\"type\":\"ResetTool\"},{\"id\":\"799c3dca-9b0e-41e2-b8c0-857656c5c7ef\",\"type\":\"HelpTool\"}]},\"id\":\"7d6cce3c-370e-4b1e-944a-3d34c8787399\",\"type\":\"ProxyToolbar\"},{\"attributes\":{\"callback\":null,\"data\":{\"x\":{\"__ndarray__\":\"xFiabhq7l774NuKB8V6XvrV4GRYjNZa+hILaYZVRlL7+k+oNBI6RvmY35PgycIu+iO+xqpUrgb7MLgy7dDNevmdeq8qevXo+Qo2JZBR/kT4g+chQ7PeePhxRdwyUy6c+TUsj+B/1sD5H3hFXmlO2Pmx11TJ3ILs+vMhXL9HJvz4enZVfa3rCPpkg1aXnWcU+9T5m1MKKyD7mfhFd6BTMPjaA9Kk8mc8+YbcqHvPszD5Fc2eA3pTDPnQfb1+vg7Y+JW3E2mtgpj563lo5o4yNPoTGf3eWVHG+n2e9VNCkjb4FpzWLG/aTvqXyzIZaGpe+y9FAp56Gmb40DG5Tln2bvnGXJk8g65y+PtBn3xHznb5BpBrmR/Gevv32aG04+5++wgXiFxuAoL4u//HbiVihvjLlw2IRLKm+cqfdVKZAsb72dimXo/m2vngVOZtj+Lu+A7m5UUeawL5HBm83SrrDvif7PSz/Qce+GIKn4/Asyr43umindqzKvqpMCh+mRMe+nEOYE8Bvwr5G3LyrezKXPucOg5YlrN4+XGOcW/ap9j5w23WXvm4IP/uxkuxbnhY/+3ZGyBvmIj8YN68hdPcsP826C7krDzU/MfOSNVYOPT9fC/DjTzNDPyrVqbEaXEg/VB94F1DxTT96NBHS7NxRP6Ln9z6TxFQ/xogf/+eZVz84Oye0a01aP6SycZ2301w/676KrdMRXz98hCTvuHpgP7nTvDRcHGE/ixpxZW5VYT8S6iWrAvNgP1obHlNbEGA/MBbHdncTXj+yWpg56AhcPxgid3bRDlo/\",\"dtype\":\"float64\",\"shape\":[75]},\"y\":{\"__ndarray__\":\"GhExyth1ND/Sv8nbtpRIP2vylNV0PVE/aTum7souWD/At0SJ8fVgPw3Iuahxymc/MSNhhJWvcD/bTfBN02d3P2zb5nxnaoA/CD5h5MAGhz8NmeH1TyaQP+zrCsc9p5Y/LbKd76fGnz/bLW5ISEmmPww9YvTcQq8/JV2OstnstT8Er5Y7M8G+P0c+r3jqkcU/5h99k6ZBzj88bCIzFzjVP4enV8oyxN0//yH99nXg5D8qOpLLf0jtP5kqGJXUifQ/c9cS8kHP/D+/DpwzojQEQIEmwoanVwxA4lgXt9HgE0BSSZ2AJuIbQAMJih9jjiNA5q4l5INuK0AwTKYKRj0zQNv5fmq8/DpAaCJseHrtQkB/+zpwzoxKQM3MzMzMeFJAZmZmZmZqWEAAAAAAAFxeQM3MzMzMJmJAmpmZmZkfZUBmZmZmZhhoQDMzMzMzEWtAAAAAAAAKbkBmZmZmZoFwQM3MzMzM/XFAMzMzMzN6c0CamZmZmfZ0QAAAAAAAc3ZAZmZmZmbvd0DNzMzMzGt5QDMzMzMz6HpAmpmZmZlkfEAAAAAAAOF9QGZmZmZmXX9AZmZmZuZsgECamZmZGSuBQM3MzMxM6YFAAAAAAICngkAzMzMzs2WDQGZmZmbmI4RAmpmZmRnihEDNzMzMTKCFQAAAAACAXoZAMzMzM7Mch0BmZmZm5tqHQJqZmZkZmYhAzczMzExXiUAAAAAAgBWKQDMzMzOz04pAZmZmZuaRi0CamZmZGVCMQM3MzMxMDo1AAAAAAIDMjUAzMzMzs4qOQGZmZmbmSI9A\",\"dtype\":\"float64\",\"shape\":[75]}},\"selected\":{\"id\":\"a455b449-a10c-408d-b922-4609b3c43f3b\",\"type\":\"Selection\"},\"selection_policy\":{\"id\":\"c92dcdba-fb0b-4bba-b56c-b7fa068ab06b\",\"type\":\"UnionRenderers\"}},\"id\":\"9b6c2f02-592f-4ce6-a438-9262e2f77cbb\",\"type\":\"ColumnDataSource\"},{\"attributes\":{\"toolbar\":{\"id\":\"7d6cce3c-370e-4b1e-944a-3d34c8787399\",\"type\":\"ProxyToolbar\"},\"toolbar_location\":\"above\"},\"id\":\"23189fe9-eba9-428d-8a6e-d22e31dbfe08\",\"type\":\"ToolbarBox\"},{\"attributes\":{\"data_source\":{\"id\":\"9b6c2f02-592f-4ce6-a438-9262e2f77cbb\",\"type\":\"ColumnDataSource\"},\"glyph\":{\"id\":\"f3c14b53-dfb1-4337-a465-bdd62c4ae050\",\"type\":\"Line\"},\"hover_glyph\":null,\"muted_glyph\":null,\"nonselection_glyph\":{\"id\":\"4be1f2c2-ceb9-4039-8885-d4e55e52236a\",\"type\":\"Line\"},\"selection_glyph\":null,\"view\":{\"id\":\"8b9dbc4e-5ab3-4bf6-b27d-ce8c9ef94105\",\"type\":\"CDSView\"}},\"id\":\"cb276c4f-19d8-4b5f-ad07-b82d0a0dad53\",\"type\":\"GlyphRenderer\"},{\"attributes\":{\"fill_alpha\":{\"value\":0.7},\"fill_color\":{\"value\":\"#984ea3\"},\"line_alpha\":{\"value\":0.7},\"line_color\":{\"value\":\"#984ea3\"},\"x\":{\"field\":\"x\"},\"y\":{\"field\":\"y\"}},\"id\":\"52f7672b-a535-4820-abb0-80bec4d17531\",\"type\":\"Square\"},{\"attributes\":{},\"id\":\"9ca3fa98-fe98-4958-b778-407539296f84\",\"type\":\"Selection\"},{\"attributes\":{\"line_alpha\":0.6,\"line_color\":\"#984ea3\",\"line_width\":3,\"x\":{\"field\":\"x\"},\"y\":{\"field\":\"y\"}},\"id\":\"f3c14b53-dfb1-4337-a465-bdd62c4ae050\",\"type\":\"Line\"},{\"attributes\":{},\"id\":\"9f4ccbb2-921a-42f3-944a-e61146715741\",\"type\":\"UnionRenderers\"},{\"attributes\":{\"children\":[{\"id\":\"23189fe9-eba9-428d-8a6e-d22e31dbfe08\",\"type\":\"ToolbarBox\"},{\"id\":\"c6ee234b-aee9-4935-88e8-979cfbbddf16\",\"type\":\"Column\"}]},\"id\":\"ba3d6be9-b50c-4d95-953b-28730a48ee73\",\"type\":\"Column\"},{\"attributes\":{\"fill_alpha\":{\"value\":0.7},\"fill_color\":{\"value\":\"#377eb8\"},\"line_alpha\":{\"value\":0.7},\"line_color\":{\"value\":\"#377eb8\"},\"x\":{\"field\":\"x\"},\"y\":{\"field\":\"y\"}},\"id\":\"f3a80608-4d68-44eb-96d2-ddd79209b68f\",\"type\":\"Triangle\"},{\"attributes\":{\"callback\":null,\"data\":{\"x\":{\"__ndarray__\":\"5q0mQVsOlL46GxmGfMOTvnWLI+5H0JK+z3dh1CRCkb7dgqkzN/KNvjQuq1zRloe+chsEyNAhfr7HU8Mm/ndfvmvzNYWPp3Q+z+CiXkJTjD7zv6Vz32GZPuu6AuWpnaM+t4QD9P4MrD7v0BYJeICyPqpNH/M/gbY+7SuF/pBkuj7tY2x0LbS+PjAM3A6sv8E+2wsIMTZpxD7zkBMJU13HPiUadWKkTMo+bW+w+4oRyD56r5ZJj0XAPohbUnAaqLI+ouK3Z89toj7rx1v3lMSHPsQHU5VDEXC+po2jub13ib75rJGfEACRvqUJD1+Hm5O+FYIl5naelb5c/Szk3UCXvpsWWM05dJi+k7omTgZXmb7b4z4Q4zOavl61YJhIGZu+fNe/S5v5m75b6rkQNWudvht8xXnFWKW+zDU7+hVDrb53GczVFHyzvl/UPsbLuLe+1yKXp70pvL6utCurqLvAvpoiAIJVu8O+P2h1iHU9xr5Lo/IbAcTGviJanCxuEsS+1jwd9Y1zwL7peHy18O1yPn2Bjgx/H9g+z7KVhMhU8j5uHC7HGgAEP0xUFyuIlhI/MqHkq5wnHz8oEATWwCwoP3tQ8fMvpjE/mtU9POZ6OD+3dmI8Dz9AP+WxoFg5wEQ/1afLNTmgST8W7E9H/rlOPyBhyI0K81E/tkmlHjmAVD9/fshsI/ZWP9IaIm6XRFk/r8EEr4tbWz/ORuBn0iFdPwC/3vfKYF4//WAYZFblXj9SXUPfi15eP7QjrEFs7Vw/a9weqpA+Wz/PFszz8ohZP529K7KB41c/\",\"dtype\":\"float64\",\"shape\":[75]},\"y\":{\"__ndarray__\":\"GhExyth1ND/Sv8nbtpRIP2vylNV0PVE/aTum7souWD/At0SJ8fVgPw3Iuahxymc/MSNhhJWvcD/bTfBN02d3P2zb5nxnaoA/CD5h5MAGhz8NmeH1TyaQP+zrCsc9p5Y/LbKd76fGnz/bLW5ISEmmPww9YvTcQq8/JV2OstnstT8Er5Y7M8G+P0c+r3jqkcU/5h99k6ZBzj88bCIzFzjVP4enV8oyxN0//yH99nXg5D8qOpLLf0jtP5kqGJXUifQ/c9cS8kHP/D+/DpwzojQEQIEmwoanVwxA4lgXt9HgE0BSSZ2AJuIbQAMJih9jjiNA5q4l5INuK0AwTKYKRj0zQNv5fmq8/DpAaCJseHrtQkB/+zpwzoxKQM3MzMzMeFJAZmZmZmZqWEAAAAAAAFxeQM3MzMzMJmJAmpmZmZkfZUBmZmZmZhhoQDMzMzMzEWtAAAAAAAAKbkBmZmZmZoFwQM3MzMzM/XFAMzMzMzN6c0CamZmZmfZ0QAAAAAAAc3ZAZmZmZmbvd0DNzMzMzGt5QDMzMzMz6HpAmpmZmZlkfEAAAAAAAOF9QGZmZmZmXX9AZmZmZuZsgECamZmZGSuBQM3MzMxM6YFAAAAAAICngkAzMzMzs2WDQGZmZmbmI4RAmpmZmRnihEDNzMzMTKCFQAAAAACAXoZAMzMzM7Mch0BmZmZm5tqHQJqZmZkZmYhAzczMzExXiUAAAAAAgBWKQDMzMzOz04pAZmZmZuaRi0CamZmZGVCMQM3MzMxMDo1AAAAAAIDMjUAzMzMzs4qOQGZmZmbmSI9A\",\"dtype\":\"float64\",\"shape\":[75]}},\"selected\":{\"id\":\"8b9b5077-66e0-4166-ac74-29f270f20c44\",\"type\":\"Selection\"},\"selection_policy\":{\"id\":\"979e1cb8-68ff-44f6-85f9-1be3d305d688\",\"type\":\"UnionRenderers\"}},\"id\":\"b05a5da0-4763-43e9-b84f-1c0620b22c66\",\"type\":\"ColumnDataSource\"},{\"attributes\":{\"source\":{\"id\":\"432b63b0-2f81-4544-b9ab-b5e66fe2587c\",\"type\":\"ColumnDataSource\"}},\"id\":\"fa8bcf8e-a535-4494-8c70-36716c1ffbb6\",\"type\":\"CDSView\"},{\"attributes\":{\"callback\":null,\"data\":{\"x\":{\"__ndarray__\":\"5q0mQVsOlL46GxmGfMOTvnWLI+5H0JK+z3dh1CRCkb7dgqkzN/KNvjQuq1zRloe+chsEyNAhfr7HU8Mm/ndfvmvzNYWPp3Q+z+CiXkJTjD7zv6Vz32GZPuu6AuWpnaM+t4QD9P4MrD7v0BYJeICyPqpNH/M/gbY+7SuF/pBkuj7tY2x0LbS+PjAM3A6sv8E+2wsIMTZpxD7zkBMJU13HPiUadWKkTMo+bW+w+4oRyD56r5ZJj0XAPohbUnAaqLI+ouK3Z89toj7rx1v3lMSHPsQHU5VDEXC+po2jub13ib75rJGfEACRvqUJD1+Hm5O+FYIl5naelb5c/Szk3UCXvpsWWM05dJi+k7omTgZXmb7b4z4Q4zOavl61YJhIGZu+fNe/S5v5m75b6rkQNWudvht8xXnFWKW+zDU7+hVDrb53GczVFHyzvl/UPsbLuLe+1yKXp70pvL6utCurqLvAvpoiAIJVu8O+P2h1iHU9xr5Lo/IbAcTGviJanCxuEsS+1jwd9Y1zwL7peHy18O1yPn2Bjgx/H9g+z7KVhMhU8j5uHC7HGgAEP0xUFyuIlhI/MqHkq5wnHz8oEATWwCwoP3tQ8fMvpjE/mtU9POZ6OD+3dmI8Dz9AP+WxoFg5wEQ/1afLNTmgST8W7E9H/rlOPyBhyI0K81E/tkmlHjmAVD9/fshsI/ZWP9IaIm6XRFk/r8EEr4tbWz/ORuBn0iFdPwC/3vfKYF4//WAYZFblXj9SXUPfi15eP7QjrEFs7Vw/a9weqpA+Wz/PFszz8ohZP529K7KB41c/\",\"dtype\":\"float64\",\"shape\":[75]},\"y\":{\"__ndarray__\":\"GhExyth1ND/Sv8nbtpRIP2vylNV0PVE/aTum7souWD/At0SJ8fVgPw3Iuahxymc/MSNhhJWvcD/bTfBN02d3P2zb5nxnaoA/CD5h5MAGhz8NmeH1TyaQP+zrCsc9p5Y/LbKd76fGnz/bLW5ISEmmPww9YvTcQq8/JV2OstnstT8Er5Y7M8G+P0c+r3jqkcU/5h99k6ZBzj88bCIzFzjVP4enV8oyxN0//yH99nXg5D8qOpLLf0jtP5kqGJXUifQ/c9cS8kHP/D+/DpwzojQEQIEmwoanVwxA4lgXt9HgE0BSSZ2AJuIbQAMJih9jjiNA5q4l5INuK0AwTKYKRj0zQNv5fmq8/DpAaCJseHrtQkB/+zpwzoxKQM3MzMzMeFJAZmZmZmZqWEAAAAAAAFxeQM3MzMzMJmJAmpmZmZkfZUBmZmZmZhhoQDMzMzMzEWtAAAAAAAAKbkBmZmZmZoFwQM3MzMzM/XFAMzMzMzN6c0CamZmZmfZ0QAAAAAAAc3ZAZmZmZmbvd0DNzMzMzGt5QDMzMzMz6HpAmpmZmZlkfEAAAAAAAOF9QGZmZmZmXX9AZmZmZuZsgECamZmZGSuBQM3MzMxM6YFAAAAAAICngkAzMzMzs2WDQGZmZmbmI4RAmpmZmRnihEDNzMzMTKCFQAAAAACAXoZAMzMzM7Mch0BmZmZm5tqHQJqZmZkZmYhAzczMzExXiUAAAAAAgBWKQDMzMzOz04pAZmZmZuaRi0CamZmZGVCMQM3MzMxMDo1AAAAAAIDMjUAzMzMzs4qOQGZmZmbmSI9A\",\"dtype\":\"float64\",\"shape\":[75]}},\"selected\":{\"id\":\"e07a660d-3631-4001-b909-d6dd45ef46d1\",\"type\":\"Selection\"},\"selection_policy\":{\"id\":\"45e9010b-51f2-49d0-a0bc-8bb4cb0e667a\",\"type\":\"UnionRenderers\"}},\"id\":\"432b63b0-2f81-4544-b9ab-b5e66fe2587c\",\"type\":\"ColumnDataSource\"},{\"attributes\":{\"fill_alpha\":{\"value\":0.1},\"fill_color\":{\"value\":\"#1f77b4\"},\"line_alpha\":{\"value\":0.1},\"line_color\":{\"value\":\"#1f77b4\"},\"x\":{\"field\":\"x\"},\"y\":{\"field\":\"y\"}},\"id\":\"c441d9b1-793f-45fa-9b9c-93cbf3b33641\",\"type\":\"Triangle\"},{\"attributes\":{\"line_alpha\":0.3,\"line_color\":\"#377eb8\",\"line_width\":2,\"x\":{\"field\":\"x\"},\"y\":{\"field\":\"y\"}},\"id\":\"81735fd2-8da7-4d2c-9d70-7151acf8ac60\",\"type\":\"Line\"},{\"attributes\":{\"above\":[{\"id\":\"215ca407-80e0-4a6c-9594-f333c17ed767\",\"type\":\"Legend\"}],\"below\":[{\"id\":\"0906b0ef-8dea-4c86-9fc1-d552a38e0ac7\",\"type\":\"LinearAxis\"}],\"left\":[{\"id\":\"b92d1848-e406-4c5a-b157-3f03ff5f20a5\",\"type\":\"LogAxis\"}],\"plot_height\":500,\"plot_width\":400,\"renderers\":[{\"id\":\"0906b0ef-8dea-4c86-9fc1-d552a38e0ac7\",\"type\":\"LinearAxis\"},{\"id\":\"4aeb530a-c92f-44cb-aa57-b8bd447d3b77\",\"type\":\"Grid\"},{\"id\":\"b92d1848-e406-4c5a-b157-3f03ff5f20a5\",\"type\":\"LogAxis\"},{\"id\":\"32a60965-ab04-4714-b34f-6e7651426736\",\"type\":\"Grid\"},{\"id\":\"23f53586-8506-43c4-b7aa-241c6fa6adee\",\"type\":\"BoxAnnotation\"},{\"id\":\"161f6938-6f96-42e5-8b22-b71f53656bf5\",\"type\":\"GlyphRenderer\"},{\"id\":\"19b69ff3-44f1-4546-b2b4-0ed096c7e873\",\"type\":\"GlyphRenderer\"},{\"id\":\"0484c73a-ed98-45c6-82d7-069fdec28b8b\",\"type\":\"GlyphRenderer\"},{\"id\":\"263c3706-a2c5-438e-b28a-af1bfc08d98a\",\"type\":\"GlyphRenderer\"},{\"id\":\"c30e0896-6cd5-49ef-9b38-927c67a284ac\",\"type\":\"GlyphRenderer\"},{\"id\":\"9f609b17-73b3-44f4-9f44-c85387f59f68\",\"type\":\"GlyphRenderer\"},{\"id\":\"215ca407-80e0-4a6c-9594-f333c17ed767\",\"type\":\"Legend\"}],\"title\":{\"id\":\"ee30db6a-cb5f-4c52-ab3e-89c1e5fa1d5e\",\"type\":\"Title\"},\"toolbar\":{\"id\":\"9ee4a615-91e1-4a96-bf4e-1c97eed73dee\",\"type\":\"Toolbar\"},\"toolbar_location\":null,\"x_range\":{\"id\":\"0f14978e-cf63-4a76-9acc-033da9ab5890\",\"type\":\"Range1d\"},\"x_scale\":{\"id\":\"74de1df8-ed9c-42a1-b97f-188cf3f63be6\",\"type\":\"LinearScale\"},\"y_range\":{\"id\":\"f023d796-d743-4a82-a165-361e1b25891e\",\"type\":\"Range1d\"},\"y_scale\":{\"id\":\"5e15afba-cda4-4b5b-aca2-cafaca6a4c67\",\"type\":\"LogScale\"}},\"id\":\"256640c7-283d-45c9-8df5-5bd49849cc5e\",\"subtype\":\"Figure\",\"type\":\"Plot\"},{\"attributes\":{\"data_source\":{\"id\":\"432b63b0-2f81-4544-b9ab-b5e66fe2587c\",\"type\":\"ColumnDataSource\"},\"glyph\":{\"id\":\"f3a80608-4d68-44eb-96d2-ddd79209b68f\",\"type\":\"Triangle\"},\"hover_glyph\":null,\"muted_glyph\":null,\"nonselection_glyph\":{\"id\":\"c441d9b1-793f-45fa-9b9c-93cbf3b33641\",\"type\":\"Triangle\"},\"selection_glyph\":null,\"view\":{\"id\":\"fa8bcf8e-a535-4494-8c70-36716c1ffbb6\",\"type\":\"CDSView\"}},\"id\":\"4b838226-e2de-45d6-aad7-82b0fb700618\",\"type\":\"GlyphRenderer\"},{\"attributes\":{\"data_source\":{\"id\":\"b05a5da0-4763-43e9-b84f-1c0620b22c66\",\"type\":\"ColumnDataSource\"},\"glyph\":{\"id\":\"81735fd2-8da7-4d2c-9d70-7151acf8ac60\",\"type\":\"Line\"},\"hover_glyph\":null,\"muted_glyph\":null,\"nonselection_glyph\":{\"id\":\"54ba7a7d-48b5-4b72-8586-67e0c4df3121\",\"type\":\"Line\"},\"selection_glyph\":null,\"view\":{\"id\":\"1aa1d47d-0d3f-4a8a-9c55-22fc9ebb5253\",\"type\":\"CDSView\"}},\"id\":\"6991044d-16a8-4147-bb24-61b9ff0967ae\",\"type\":\"GlyphRenderer\"},{\"attributes\":{\"source\":{\"id\":\"b05a5da0-4763-43e9-b84f-1c0620b22c66\",\"type\":\"ColumnDataSource\"}},\"id\":\"1aa1d47d-0d3f-4a8a-9c55-22fc9ebb5253\",\"type\":\"CDSView\"},{\"attributes\":{\"active_drag\":\"auto\",\"active_inspect\":\"auto\",\"active_scroll\":\"auto\",\"active_tap\":\"auto\",\"tools\":[{\"id\":\"f19d47f3-f207-413c-a0c9-7340e35db1f7\",\"type\":\"PanTool\"},{\"id\":\"f4419799-239d-4af0-aacf-0c5051bec379\",\"type\":\"WheelZoomTool\"},{\"id\":\"7dfde19f-2a17-4a4f-83b5-ecc42afe6869\",\"type\":\"BoxZoomTool\"},{\"id\":\"204caf14-f19b-4e97-afd8-58ba2cde0c2b\",\"type\":\"SaveTool\"},{\"id\":\"d5233c64-d684-46ba-a429-0640ade57f1d\",\"type\":\"ResetTool\"},{\"id\":\"799c3dca-9b0e-41e2-b8c0-857656c5c7ef\",\"type\":\"HelpTool\"}]},\"id\":\"9ee4a615-91e1-4a96-bf4e-1c97eed73dee\",\"type\":\"Toolbar\"},{\"attributes\":{\"label\":{\"value\":\"CRD\"},\"renderers\":[{\"id\":\"81423f3e-d7d0-41f9-9807-729c1eb05694\",\"type\":\"GlyphRenderer\"},{\"id\":\"93f29247-7b12-4e9e-9c55-3ed24481112f\",\"type\":\"GlyphRenderer\"}]},\"id\":\"b53c503a-63b0-4536-8783-c57ed2d59f4b\",\"type\":\"LegendItem\"},{\"attributes\":{\"callback\":null,\"end\":6.9391888629999995e-06,\"start\":-1.7655587630000003e-06},\"id\":\"0f14978e-cf63-4a76-9acc-033da9ab5890\",\"type\":\"Range1d\"},{\"attributes\":{\"label\":{\"value\":\"WGT igg=1\"},\"renderers\":[{\"id\":\"c9fcb1d8-9cea-4dac-87f7-33ffd8a4cd1f\",\"type\":\"GlyphRenderer\"},{\"id\":\"cb276c4f-19d8-4b5f-ad07-b82d0a0dad53\",\"type\":\"GlyphRenderer\"}]},\"id\":\"7793ad26-77e4-4153-8d00-d531f335e119\",\"type\":\"LegendItem\"},{\"attributes\":{},\"id\":\"74de1df8-ed9c-42a1-b97f-188cf3f63be6\",\"type\":\"LinearScale\"},{\"attributes\":{\"label\":{\"value\":\"WGT igg=10\"},\"renderers\":[{\"id\":\"4b838226-e2de-45d6-aad7-82b0fb700618\",\"type\":\"GlyphRenderer\"},{\"id\":\"6991044d-16a8-4147-bb24-61b9ff0967ae\",\"type\":\"GlyphRenderer\"}]},\"id\":\"83556f7d-bfb6-4f9e-8044-99c09e21bbab\",\"type\":\"LegendItem\"},{\"attributes\":{\"bottom_units\":\"screen\",\"fill_alpha\":{\"value\":0.5},\"fill_color\":{\"value\":\"lightgrey\"},\"left_units\":\"screen\",\"level\":\"overlay\",\"line_alpha\":{\"value\":1.0},\"line_color\":{\"value\":\"black\"},\"line_dash\":[4,4],\"line_width\":{\"value\":2},\"plot\":null,\"render_mode\":\"css\",\"right_units\":\"screen\",\"top_units\":\"screen\"},\"id\":\"23f53586-8506-43c4-b7aa-241c6fa6adee\",\"type\":\"BoxAnnotation\"},{\"attributes\":{\"items\":[{\"id\":\"6aee8d15-866a-4df8-bd42-32e3f4ecab29\",\"type\":\"LegendItem\"},{\"id\":\"c4c2d05d-9c2e-41ad-a715-af53114b8688\",\"type\":\"LegendItem\"},{\"id\":\"36e0c60c-5923-43b9-baa4-1dcb11d9b10d\",\"type\":\"LegendItem\"}],\"label_text_font_size\":{\"value\":\"8pt\"},\"location\":\"top_center\",\"orientation\":\"horizontal\",\"plot\":{\"id\":\"256640c7-283d-45c9-8df5-5bd49849cc5e\",\"subtype\":\"Figure\",\"type\":\"Plot\"}},\"id\":\"215ca407-80e0-4a6c-9594-f333c17ed767\",\"type\":\"Legend\"},{\"attributes\":{},\"id\":\"f4419799-239d-4af0-aacf-0c5051bec379\",\"type\":\"WheelZoomTool\"},{\"attributes\":{},\"id\":\"5e15afba-cda4-4b5b-aca2-cafaca6a4c67\",\"type\":\"LogScale\"},{\"attributes\":{\"axis_label\":\"cooling rate [K/day]\",\"formatter\":{\"id\":\"f8095f52-5146-4bd2-ac6b-c4e4d3d6ca81\",\"type\":\"BasicTickFormatter\"},\"plot\":{\"id\":\"256640c7-283d-45c9-8df5-5bd49849cc5e\",\"subtype\":\"Figure\",\"type\":\"Plot\"},\"ticker\":{\"id\":\"bca4684f-3bbe-4609-966a-f2c24e75e8f4\",\"type\":\"BasicTicker\"}},\"id\":\"0906b0ef-8dea-4c86-9fc1-d552a38e0ac7\",\"type\":\"LinearAxis\"},{\"attributes\":{},\"id\":\"bca4684f-3bbe-4609-966a-f2c24e75e8f4\",\"type\":\"BasicTicker\"},{\"attributes\":{\"overlay\":{\"id\":\"23f53586-8506-43c4-b7aa-241c6fa6adee\",\"type\":\"BoxAnnotation\"}},\"id\":\"7dfde19f-2a17-4a4f-83b5-ecc42afe6869\",\"type\":\"BoxZoomTool\"},{\"attributes\":{},\"id\":\"204caf14-f19b-4e97-afd8-58ba2cde0c2b\",\"type\":\"SaveTool\"},{\"attributes\":{},\"id\":\"d5233c64-d684-46ba-a429-0640ade57f1d\",\"type\":\"ResetTool\"},{\"attributes\":{},\"id\":\"799c3dca-9b0e-41e2-b8c0-857656c5c7ef\",\"type\":\"HelpTool\"},{\"attributes\":{},\"id\":\"c92dcdba-fb0b-4bba-b56c-b7fa068ab06b\",\"type\":\"UnionRenderers\"},{\"attributes\":{\"fill_alpha\":{\"value\":0.7},\"fill_color\":{\"value\":\"#4daf4a\"},\"line_alpha\":{\"value\":0.7},\"line_color\":{\"value\":\"#4daf4a\"},\"x\":{\"field\":\"x\"},\"y\":{\"field\":\"y\"}},\"id\":\"fe5e3983-b351-4532-a0ec-891ba5a04bd5\",\"type\":\"Circle\"},{\"attributes\":{\"callback\":null,\"data\":{\"x\":{\"__ndarray__\":\"h7qz2uoopL4z0+Z4X9ajvtGijETay6K+4WVIgncZob6o8l5d0TedvhhZCDIrTJa++hHM++kOir708SCblolNvl7wnO0XLY0+tlZDDkYVoT5aq8jeckqtPtMtPlucLrY+fzbLkk5dvz7OBbFgUI7EPuLISz6q6cg+ms+rki0kzT52pUGcv+nQPvoNYJC4g9M+xMNEZghm1j7sescsH5fZPrhLnnJDv9w+Z8GBiS1G2j7kKA55acXRPn9iE24FdsQ+ggjdSpaDtD6fTMSyT36cPo7ZmU36mnS+jhD55s0kl77Vm3rnA36fvgxG6h5vEKK+AWQ0652go76Bde3pvqqkvpFkXb/tLqW+KsvFErhXpb4ph9sNcWmlvl+VmMAWd6W+nE5DwpKRpb7FCIFXxjWmvowMB9sUsa++oLeMR0Jrtb6H+pBWezC8viWlbpja/MC+XiqnQ2z+w77jLwhWjJTHvqaTrQJSoMu+v4VAoTP4zr5O9PUYmn7PvlKnGr8eWcu+WYSjLKFCxb7dL5HAfLejPsk1iBxxAOM+sD/7dhig+z6sWrWLyaANP/Ub9gyoPhs/6aEG0dCkJj/g2oYjIXAxP2q6kQfYRjk/RJfWTsZmQT+oC3AZBOxGP1DriJ/oDU0/CKvmv6TNUT/191qg+S1VPxatjuocjVg/taB8JNrTWz8A22vR4+9eP2RcybtX52A/CTingmguYj+b+G3//zxjP+nUm63R7WM/+w0wPoccZD/y3TQdBJRjP+bGCyGbb2I/jUizeWUlYT9M6rYSYrhfP/2+7bQ2R10/\",\"dtype\":\"float64\",\"shape\":[75]},\"y\":{\"__ndarray__\":\"GhExyth1ND/Sv8nbtpRIP2vylNV0PVE/aTum7souWD/At0SJ8fVgPw3Iuahxymc/MSNhhJWvcD/bTfBN02d3P2zb5nxnaoA/CD5h5MAGhz8NmeH1TyaQP+zrCsc9p5Y/LbKd76fGnz/bLW5ISEmmPww9YvTcQq8/JV2OstnstT8Er5Y7M8G+P0c+r3jqkcU/5h99k6ZBzj88bCIzFzjVP4enV8oyxN0//yH99nXg5D8qOpLLf0jtP5kqGJXUifQ/c9cS8kHP/D+/DpwzojQEQIEmwoanVwxA4lgXt9HgE0BSSZ2AJuIbQAMJih9jjiNA5q4l5INuK0AwTKYKRj0zQNv5fmq8/DpAaCJseHrtQkB/+zpwzoxKQM3MzMzMeFJAZmZmZmZqWEAAAAAAAFxeQM3MzMzMJmJAmpmZmZkfZUBmZmZmZhhoQDMzMzMzEWtAAAAAAAAKbkBmZmZmZoFwQM3MzMzM/XFAMzMzMzN6c0CamZmZmfZ0QAAAAAAAc3ZAZmZmZmbvd0DNzMzMzGt5QDMzMzMz6HpAmpmZmZlkfEAAAAAAAOF9QGZmZmZmXX9AZmZmZuZsgECamZmZGSuBQM3MzMxM6YFAAAAAAICngkAzMzMzs2WDQGZmZmbmI4RAmpmZmRnihEDNzMzMTKCFQAAAAACAXoZAMzMzM7Mch0BmZmZm5tqHQJqZmZkZmYhAzczMzExXiUAAAAAAgBWKQDMzMzOz04pAZmZmZuaRi0CamZmZGVCMQM3MzMxMDo1AAAAAAIDMjUAzMzMzs4qOQGZmZmbmSI9A\",\"dtype\":\"float64\",\"shape\":[75]}},\"selected\":{\"id\":\"51a39b2f-5eb7-439d-81ef-296bf4cba6a0\",\"type\":\"Selection\"},\"selection_policy\":{\"id\":\"98b25882-6690-46d7-b0ef-60e2067f5ffd\",\"type\":\"UnionRenderers\"}},\"id\":\"39515f93-f847-4f02-8e70-2c4dc678fb4d\",\"type\":\"ColumnDataSource\"},{\"attributes\":{\"fill_alpha\":{\"value\":0.1},\"fill_color\":{\"value\":\"#1f77b4\"},\"line_alpha\":{\"value\":0.1},\"line_color\":{\"value\":\"#1f77b4\"},\"x\":{\"field\":\"x\"},\"y\":{\"field\":\"y\"}},\"id\":\"d51f7fff-0f0f-4100-b6ec-c23a69359988\",\"type\":\"Circle\"},{\"attributes\":{},\"id\":\"45e9010b-51f2-49d0-a0bc-8bb4cb0e667a\",\"type\":\"UnionRenderers\"},{\"attributes\":{\"callback\":null,\"end\":0.01,\"start\":1020},\"id\":\"f023d796-d743-4a82-a165-361e1b25891e\",\"type\":\"Range1d\"},{\"attributes\":{\"data_source\":{\"id\":\"39515f93-f847-4f02-8e70-2c4dc678fb4d\",\"type\":\"ColumnDataSource\"},\"glyph\":{\"id\":\"fe5e3983-b351-4532-a0ec-891ba5a04bd5\",\"type\":\"Circle\"},\"hover_glyph\":null,\"muted_glyph\":null,\"nonselection_glyph\":{\"id\":\"d51f7fff-0f0f-4100-b6ec-c23a69359988\",\"type\":\"Circle\"},\"selection_glyph\":null,\"view\":{\"id\":\"4959b1aa-6112-44b5-9b68-8f8b510913b9\",\"type\":\"CDSView\"}},\"id\":\"161f6938-6f96-42e5-8b22-b71f53656bf5\",\"type\":\"GlyphRenderer\"},{\"attributes\":{\"callback\":null,\"end\":0.002479597240416,\"start\":-2.8342082016e-05},\"id\":\"102eb87a-75be-464a-9c2a-db6fafe4ffca\",\"type\":\"Range1d\"},{\"attributes\":{\"line_color\":\"#4daf4a\",\"line_width\":1.5,\"x\":{\"field\":\"x\"},\"y\":{\"field\":\"y\"}},\"id\":\"3cc7aff6-4b26-4245-97a2-28b37264408a\",\"type\":\"Line\"},{\"attributes\":{\"callback\":null,\"data\":{\"x\":{\"__ndarray__\":\"xFiabhq7l774NuKB8V6XvrV4GRYjNZa+hILaYZVRlL7+k+oNBI6RvmY35PgycIu+iO+xqpUrgb7MLgy7dDNevmdeq8qevXo+Qo2JZBR/kT4g+chQ7PeePhxRdwyUy6c+TUsj+B/1sD5H3hFXmlO2Pmx11TJ3ILs+vMhXL9HJvz4enZVfa3rCPpkg1aXnWcU+9T5m1MKKyD7mfhFd6BTMPjaA9Kk8mc8+YbcqHvPszD5Fc2eA3pTDPnQfb1+vg7Y+JW3E2mtgpj563lo5o4yNPoTGf3eWVHG+n2e9VNCkjb4FpzWLG/aTvqXyzIZaGpe+y9FAp56Gmb40DG5Tln2bvnGXJk8g65y+PtBn3xHznb5BpBrmR/Gevv32aG04+5++wgXiFxuAoL4u//HbiVihvjLlw2IRLKm+cqfdVKZAsb72dimXo/m2vngVOZtj+Lu+A7m5UUeawL5HBm83SrrDvif7PSz/Qce+GIKn4/Asyr43umindqzKvqpMCh+mRMe+nEOYE8Bvwr5G3LyrezKXPucOg5YlrN4+XGOcW/ap9j5w23WXvm4IP/uxkuxbnhY/+3ZGyBvmIj8YN68hdPcsP826C7krDzU/MfOSNVYOPT9fC/DjTzNDPyrVqbEaXEg/VB94F1DxTT96NBHS7NxRP6Ln9z6TxFQ/xogf/+eZVz84Oye0a01aP6SycZ2301w/676KrdMRXz98hCTvuHpgP7nTvDRcHGE/ixpxZW5VYT8S6iWrAvNgP1obHlNbEGA/MBbHdncTXj+yWpg56AhcPxgid3bRDlo/\",\"dtype\":\"float64\",\"shape\":[75]},\"y\":{\"__ndarray__\":\"GhExyth1ND/Sv8nbtpRIP2vylNV0PVE/aTum7souWD/At0SJ8fVgPw3Iuahxymc/MSNhhJWvcD/bTfBN02d3P2zb5nxnaoA/CD5h5MAGhz8NmeH1TyaQP+zrCsc9p5Y/LbKd76fGnz/bLW5ISEmmPww9YvTcQq8/JV2OstnstT8Er5Y7M8G+P0c+r3jqkcU/5h99k6ZBzj88bCIzFzjVP4enV8oyxN0//yH99nXg5D8qOpLLf0jtP5kqGJXUifQ/c9cS8kHP/D+/DpwzojQEQIEmwoanVwxA4lgXt9HgE0BSSZ2AJuIbQAMJih9jjiNA5q4l5INuK0AwTKYKRj0zQNv5fmq8/DpAaCJseHrtQkB/+zpwzoxKQM3MzMzMeFJAZmZmZmZqWEAAAAAAAFxeQM3MzMzMJmJAmpmZmZkfZUBmZmZmZhhoQDMzMzMzEWtAAAAAAAAKbkBmZmZmZoFwQM3MzMzM/XFAMzMzMzN6c0CamZmZmfZ0QAAAAAAAc3ZAZmZmZmbvd0DNzMzMzGt5QDMzMzMz6HpAmpmZmZlkfEAAAAAAAOF9QGZmZmZmXX9AZmZmZuZsgECamZmZGSuBQM3MzMxM6YFAAAAAAICngkAzMzMzs2WDQGZmZmbmI4RAmpmZmRnihEDNzMzMTKCFQAAAAACAXoZAMzMzM7Mch0BmZmZm5tqHQJqZmZkZmYhAzczMzExXiUAAAAAAgBWKQDMzMzOz04pAZmZmZuaRi0CamZmZGVCMQM3MzMxMDo1AAAAAAIDMjUAzMzMzs4qOQGZmZmbmSI9A\",\"dtype\":\"float64\",\"shape\":[75]}},\"selected\":{\"id\":\"801fd8e5-f44d-4b78-982e-e5db45be85d7\",\"type\":\"Selection\"},\"selection_policy\":{\"id\":\"95496b1c-8458-4444-be40-18ebd096f018\",\"type\":\"UnionRenderers\"}},\"id\":\"8e224507-6131-47c4-93ce-af19dabb1c5d\",\"type\":\"ColumnDataSource\"},{\"attributes\":{},\"id\":\"a455b449-a10c-408d-b922-4609b3c43f3b\",\"type\":\"Selection\"},{\"attributes\":{\"source\":{\"id\":\"39515f93-f847-4f02-8e70-2c4dc678fb4d\",\"type\":\"ColumnDataSource\"}},\"id\":\"4959b1aa-6112-44b5-9b68-8f8b510913b9\",\"type\":\"CDSView\"},{\"attributes\":{},\"id\":\"d6cde6e5-0647-4259-8184-cac9003789aa\",\"type\":\"UnionRenderers\"},{\"attributes\":{\"callback\":null,\"data\":{\"x\":{\"__ndarray__\":\"xFiabhq7l774NuKB8V6XvrV4GRYjNZa+hILaYZVRlL7+k+oNBI6RvmY35PgycIu+iO+xqpUrgb7MLgy7dDNevmdeq8qevXo+Qo2JZBR/kT4g+chQ7PeePhxRdwyUy6c+TUsj+B/1sD5H3hFXmlO2Pmx11TJ3ILs+vMhXL9HJvz4enZVfa3rCPpkg1aXnWcU+9T5m1MKKyD7mfhFd6BTMPjaA9Kk8mc8+YbcqHvPszD5Fc2eA3pTDPnQfb1+vg7Y+JW3E2mtgpj563lo5o4yNPoTGf3eWVHG+n2e9VNCkjb4FpzWLG/aTvqXyzIZaGpe+y9FAp56Gmb40DG5Tln2bvnGXJk8g65y+PtBn3xHznb5BpBrmR/Gevv32aG04+5++wgXiFxuAoL4u//HbiVihvjLlw2IRLKm+cqfdVKZAsb72dimXo/m2vngVOZtj+Lu+A7m5UUeawL5HBm83SrrDvif7PSz/Qce+GIKn4/Asyr43umindqzKvqpMCh+mRMe+nEOYE8Bvwr5G3LyrezKXPucOg5YlrN4+XGOcW/ap9j5w23WXvm4IP/uxkuxbnhY/+3ZGyBvmIj8YN68hdPcsP826C7krDzU/MfOSNVYOPT9fC/DjTzNDPyrVqbEaXEg/VB94F1DxTT96NBHS7NxRP6Ln9z6TxFQ/xogf/+eZVz84Oye0a01aP6SycZ2301w/676KrdMRXz98hCTvuHpgP7nTvDRcHGE/ixpxZW5VYT8S6iWrAvNgP1obHlNbEGA/MBbHdncTXj+yWpg56AhcPxgid3bRDlo/\",\"dtype\":\"float64\",\"shape\":[75]},\"y\":{\"__ndarray__\":\"GhExyth1ND/Sv8nbtpRIP2vylNV0PVE/aTum7souWD/At0SJ8fVgPw3Iuahxymc/MSNhhJWvcD/bTfBN02d3P2zb5nxnaoA/CD5h5MAGhz8NmeH1TyaQP+zrCsc9p5Y/LbKd76fGnz/bLW5ISEmmPww9YvTcQq8/JV2OstnstT8Er5Y7M8G+P0c+r3jqkcU/5h99k6ZBzj88bCIzFzjVP4enV8oyxN0//yH99nXg5D8qOpLLf0jtP5kqGJXUifQ/c9cS8kHP/D+/DpwzojQEQIEmwoanVwxA4lgXt9HgE0BSSZ2AJuIbQAMJih9jjiNA5q4l5INuK0AwTKYKRj0zQNv5fmq8/DpAaCJseHrtQkB/+zpwzoxKQM3MzMzMeFJAZmZmZmZqWEAAAAAAAFxeQM3MzMzMJmJAmpmZmZkfZUBmZmZmZhhoQDMzMzMzEWtAAAAAAAAKbkBmZmZmZoFwQM3MzMzM/XFAMzMzMzN6c0CamZmZmfZ0QAAAAAAAc3ZAZmZmZmbvd0DNzMzMzGt5QDMzMzMz6HpAmpmZmZlkfEAAAAAAAOF9QGZmZmZmXX9AZmZmZuZsgECamZmZGSuBQM3MzMxM6YFAAAAAAICngkAzMzMzs2WDQGZmZmbmI4RAmpmZmRnihEDNzMzMTKCFQAAAAACAXoZAMzMzM7Mch0BmZmZm5tqHQJqZmZkZmYhAzczMzExXiUAAAAAAgBWKQDMzMzOz04pAZmZmZuaRi0CamZmZGVCMQM3MzMxMDo1AAAAAAIDMjUAzMzMzs4qOQGZmZmbmSI9A\",\"dtype\":\"float64\",\"shape\":[75]}},\"selected\":{\"id\":\"feaaae6d-c17e-4abd-9981-d9b6fbe61ad6\",\"type\":\"Selection\"},\"selection_policy\":{\"id\":\"e94ea95b-b749-4ebf-bd9f-c0a7ec77c8f1\",\"type\":\"UnionRenderers\"}},\"id\":\"898e5011-2ecc-48ee-ab73-a63031254147\",\"type\":\"ColumnDataSource\"},{\"attributes\":{\"fill_alpha\":{\"value\":0.1},\"fill_color\":{\"value\":\"#1f77b4\"},\"line_alpha\":{\"value\":0.1},\"line_color\":{\"value\":\"#1f77b4\"},\"x\":{\"field\":\"x\"},\"y\":{\"field\":\"y\"}},\"id\":\"ddcf5951-79f7-408b-826a-8a22f852c95c\",\"type\":\"Square\"},{\"attributes\":{\"items\":[{\"id\":\"b53c503a-63b0-4536-8783-c57ed2d59f4b\",\"type\":\"LegendItem\"},{\"id\":\"7793ad26-77e4-4153-8d00-d531f335e119\",\"type\":\"LegendItem\"},{\"id\":\"83556f7d-bfb6-4f9e-8044-99c09e21bbab\",\"type\":\"LegendItem\"}],\"label_text_font_size\":{\"value\":\"8pt\"},\"location\":\"top_center\",\"orientation\":\"horizontal\",\"plot\":{\"id\":\"2d1b16d4-1e84-4278-9ac5-51400339bbed\",\"subtype\":\"Figure\",\"type\":\"Plot\"}},\"id\":\"223d9250-48fd-432d-99a3-f8b12431fbf9\",\"type\":\"Legend\"},{\"attributes\":{\"active_drag\":\"auto\",\"active_inspect\":\"auto\",\"active_scroll\":\"auto\",\"active_tap\":\"auto\",\"tools\":[{\"id\":\"aff7049b-a5c6-4d02-8aab-ecfcda3c6121\",\"type\":\"PanTool\"},{\"id\":\"abae4657-e497-454f-a200-4f177e8b8d01\",\"type\":\"WheelZoomTool\"},{\"id\":\"84cc30fc-e9d6-4290-9d48-2fc70d4ab2d3\",\"type\":\"BoxZoomTool\"},{\"id\":\"b089f780-1fb6-4996-9b90-432bb4aa1e01\",\"type\":\"SaveTool\"},{\"id\":\"f95a5d70-5e83-4ba6-88f8-47cdddb15d18\",\"type\":\"ResetTool\"},{\"id\":\"24150495-57d1-4616-8542-fab4504aabff\",\"type\":\"HelpTool\"}]},\"id\":\"7eb10875-ca2c-4b02-8106-44955ff272f4\",\"type\":\"Toolbar\"},{\"attributes\":{\"data_source\":{\"id\":\"898e5011-2ecc-48ee-ab73-a63031254147\",\"type\":\"ColumnDataSource\"},\"glyph\":{\"id\":\"abc01e75-a682-4723-a5d1-2321cbfb6fbf\",\"type\":\"Square\"},\"hover_glyph\":null,\"muted_glyph\":null,\"nonselection_glyph\":{\"id\":\"ddcf5951-79f7-408b-826a-8a22f852c95c\",\"type\":\"Square\"},\"selection_glyph\":null,\"view\":{\"id\":\"eeb128fb-36ae-4c49-a016-66846a013fef\",\"type\":\"CDSView\"}},\"id\":\"0484c73a-ed98-45c6-82d7-069fdec28b8b\",\"type\":\"GlyphRenderer\"},{\"attributes\":{},\"id\":\"5faceef9-5a19-4018-a04a-5e77962a7cc1\",\"type\":\"LinearScale\"},{\"attributes\":{},\"id\":\"31058672-6566-4104-b60d-e25ed77c662f\",\"type\":\"BasicTicker\"},{\"attributes\":{\"source\":{\"id\":\"4af16b5d-2e13-48d9-b333-f7b96e7f4142\",\"type\":\"ColumnDataSource\"}},\"id\":\"4023bcd2-7d6a-4025-8e51-9a1f93c646f0\",\"type\":\"CDSView\"},{\"attributes\":{\"line_alpha\":0.6,\"line_color\":\"#984ea3\",\"line_width\":3,\"x\":{\"field\":\"x\"},\"y\":{\"field\":\"y\"}},\"id\":\"fd0d4f09-c6b2-43e9-83a3-4e741ddc29f0\",\"type\":\"Line\"},{\"attributes\":{\"line_alpha\":0.1,\"line_color\":\"#1f77b4\",\"line_width\":3,\"x\":{\"field\":\"x\"},\"y\":{\"field\":\"y\"}},\"id\":\"6e42aefb-e8ea-4097-ba2a-809e6ba98a06\",\"type\":\"Line\"},{\"attributes\":{\"line_alpha\":0.1,\"line_color\":\"#1f77b4\",\"line_width\":2,\"x\":{\"field\":\"x\"},\"y\":{\"field\":\"y\"}},\"id\":\"93e1a5f3-a39b-41f6-984b-360c660fab2b\",\"type\":\"Line\"},{\"attributes\":{\"source\":{\"id\":\"898e5011-2ecc-48ee-ab73-a63031254147\",\"type\":\"ColumnDataSource\"}},\"id\":\"eeb128fb-36ae-4c49-a016-66846a013fef\",\"type\":\"CDSView\"},{\"attributes\":{\"source\":{\"id\":\"8e224507-6131-47c4-93ce-af19dabb1c5d\",\"type\":\"ColumnDataSource\"}},\"id\":\"3af212fd-cdc4-4e3e-aca4-1a41004afbfb\",\"type\":\"CDSView\"},{\"attributes\":{},\"id\":\"9c4dca38-e970-4526-8624-dbf13e35390f\",\"type\":\"BasicTicker\"},{\"attributes\":{\"dimension\":1,\"plot\":{\"id\":\"2d1b16d4-1e84-4278-9ac5-51400339bbed\",\"subtype\":\"Figure\",\"type\":\"Plot\"},\"ticker\":{\"id\":\"9c4dca38-e970-4526-8624-dbf13e35390f\",\"type\":\"BasicTicker\"}},\"id\":\"0649d41c-f811-48d9-9c37-2a23a1e67dde\",\"type\":\"Grid\"},{\"attributes\":{\"callback\":null,\"data\":{\"x\":{\"__ndarray__\":\"h7qz2uoopL4z0+Z4X9ajvtGijETay6K+4WVIgncZob6o8l5d0TedvhhZCDIrTJa++hHM++kOir708SCblolNvl7wnO0XLY0+tlZDDkYVoT5aq8jeckqtPtMtPlucLrY+fzbLkk5dvz7OBbFgUI7EPuLISz6q6cg+ms+rki0kzT52pUGcv+nQPvoNYJC4g9M+xMNEZghm1j7sescsH5fZPrhLnnJDv9w+Z8GBiS1G2j7kKA55acXRPn9iE24FdsQ+ggjdSpaDtD6fTMSyT36cPo7ZmU36mnS+jhD55s0kl77Vm3rnA36fvgxG6h5vEKK+AWQ0652go76Bde3pvqqkvpFkXb/tLqW+KsvFErhXpb4ph9sNcWmlvl+VmMAWd6W+nE5DwpKRpb7FCIFXxjWmvowMB9sUsa++oLeMR0Jrtb6H+pBWezC8viWlbpja/MC+XiqnQ2z+w77jLwhWjJTHvqaTrQJSoMu+v4VAoTP4zr5O9PUYmn7PvlKnGr8eWcu+WYSjLKFCxb7dL5HAfLejPsk1iBxxAOM+sD/7dhig+z6sWrWLyaANP/Ub9gyoPhs/6aEG0dCkJj/g2oYjIXAxP2q6kQfYRjk/RJfWTsZmQT+oC3AZBOxGP1DriJ/oDU0/CKvmv6TNUT/191qg+S1VPxatjuocjVg/taB8JNrTWz8A22vR4+9eP2RcybtX52A/CTingmguYj+b+G3//zxjP+nUm63R7WM/+w0wPoccZD/y3TQdBJRjP+bGCyGbb2I/jUizeWUlYT9M6rYSYrhfP/2+7bQ2R10/\",\"dtype\":\"float64\",\"shape\":[75]},\"y\":{\"__ndarray__\":\"GhExyth1ND/Sv8nbtpRIP2vylNV0PVE/aTum7souWD/At0SJ8fVgPw3Iuahxymc/MSNhhJWvcD/bTfBN02d3P2zb5nxnaoA/CD5h5MAGhz8NmeH1TyaQP+zrCsc9p5Y/LbKd76fGnz/bLW5ISEmmPww9YvTcQq8/JV2OstnstT8Er5Y7M8G+P0c+r3jqkcU/5h99k6ZBzj88bCIzFzjVP4enV8oyxN0//yH99nXg5D8qOpLLf0jtP5kqGJXUifQ/c9cS8kHP/D+/DpwzojQEQIEmwoanVwxA4lgXt9HgE0BSSZ2AJuIbQAMJih9jjiNA5q4l5INuK0AwTKYKRj0zQNv5fmq8/DpAaCJseHrtQkB/+zpwzoxKQM3MzMzMeFJAZmZmZmZqWEAAAAAAAFxeQM3MzMzMJmJAmpmZmZkfZUBmZmZmZhhoQDMzMzMzEWtAAAAAAAAKbkBmZmZmZoFwQM3MzMzM/XFAMzMzMzN6c0CamZmZmfZ0QAAAAAAAc3ZAZmZmZmbvd0DNzMzMzGt5QDMzMzMz6HpAmpmZmZlkfEAAAAAAAOF9QGZmZmZmXX9AZmZmZuZsgECamZmZGSuBQM3MzMxM6YFAAAAAAICngkAzMzMzs2WDQGZmZmbmI4RAmpmZmRnihEDNzMzMTKCFQAAAAACAXoZAMzMzM7Mch0BmZmZm5tqHQJqZmZkZmYhAzczMzExXiUAAAAAAgBWKQDMzMzOz04pAZmZmZuaRi0CamZmZGVCMQM3MzMxMDo1AAAAAAIDMjUAzMzMzs4qOQGZmZmbmSI9A\",\"dtype\":\"float64\",\"shape\":[75]}},\"selected\":{\"id\":\"c9bde04c-e8c1-4bc2-ba67-ebe924bdd0bf\",\"type\":\"Selection\"},\"selection_policy\":{\"id\":\"be3fc570-3319-4ca1-91f5-a8b6d3f843a2\",\"type\":\"UnionRenderers\"}},\"id\":\"4af16b5d-2e13-48d9-b333-f7b96e7f4142\",\"type\":\"ColumnDataSource\"},{\"attributes\":{\"line_alpha\":0.1,\"line_color\":\"#1f77b4\",\"line_width\":1.5,\"x\":{\"field\":\"x\"},\"y\":{\"field\":\"y\"}},\"id\":\"ce34247e-0327-42f4-9e47-8c47ca6f1f0a\",\"type\":\"Line\"},{\"attributes\":{\"data_source\":{\"id\":\"8e224507-6131-47c4-93ce-af19dabb1c5d\",\"type\":\"ColumnDataSource\"},\"glyph\":{\"id\":\"fd0d4f09-c6b2-43e9-83a3-4e741ddc29f0\",\"type\":\"Line\"},\"hover_glyph\":null,\"muted_glyph\":null,\"nonselection_glyph\":{\"id\":\"6e42aefb-e8ea-4097-ba2a-809e6ba98a06\",\"type\":\"Line\"},\"selection_glyph\":null,\"view\":{\"id\":\"3af212fd-cdc4-4e3e-aca4-1a41004afbfb\",\"type\":\"CDSView\"}},\"id\":\"263c3706-a2c5-438e-b28a-af1bfc08d98a\",\"type\":\"GlyphRenderer\"},{\"attributes\":{\"data_source\":{\"id\":\"4af16b5d-2e13-48d9-b333-f7b96e7f4142\",\"type\":\"ColumnDataSource\"},\"glyph\":{\"id\":\"3cc7aff6-4b26-4245-97a2-28b37264408a\",\"type\":\"Line\"},\"hover_glyph\":null,\"muted_glyph\":null,\"nonselection_glyph\":{\"id\":\"ce34247e-0327-42f4-9e47-8c47ca6f1f0a\",\"type\":\"Line\"},\"selection_glyph\":null,\"view\":{\"id\":\"4023bcd2-7d6a-4025-8e51-9a1f93c646f0\",\"type\":\"CDSView\"}},\"id\":\"19b69ff3-44f1-4546-b2b4-0ed096c7e873\",\"type\":\"GlyphRenderer\"},{\"attributes\":{\"callback\":null,\"data\":{\"x\":{\"__ndarray__\":\"5q0mQVsOlL46GxmGfMOTvnWLI+5H0JK+z3dh1CRCkb7dgqkzN/KNvjQuq1zRloe+chsEyNAhfr7HU8Mm/ndfvmvzNYWPp3Q+z+CiXkJTjD7zv6Vz32GZPuu6AuWpnaM+t4QD9P4MrD7v0BYJeICyPqpNH/M/gbY+7SuF/pBkuj7tY2x0LbS+PjAM3A6sv8E+2wsIMTZpxD7zkBMJU13HPiUadWKkTMo+bW+w+4oRyD56r5ZJj0XAPohbUnAaqLI+ouK3Z89toj7rx1v3lMSHPsQHU5VDEXC+po2jub13ib75rJGfEACRvqUJD1+Hm5O+FYIl5naelb5c/Szk3UCXvpsWWM05dJi+k7omTgZXmb7b4z4Q4zOavl61YJhIGZu+fNe/S5v5m75b6rkQNWudvht8xXnFWKW+zDU7+hVDrb53GczVFHyzvl/UPsbLuLe+1yKXp70pvL6utCurqLvAvpoiAIJVu8O+P2h1iHU9xr5Lo/IbAcTGviJanCxuEsS+1jwd9Y1zwL7peHy18O1yPn2Bjgx/H9g+z7KVhMhU8j5uHC7HGgAEP0xUFyuIlhI/MqHkq5wnHz8oEATWwCwoP3tQ8fMvpjE/mtU9POZ6OD+3dmI8Dz9AP+WxoFg5wEQ/1afLNTmgST8W7E9H/rlOPyBhyI0K81E/tkmlHjmAVD9/fshsI/ZWP9IaIm6XRFk/r8EEr4tbWz/ORuBn0iFdPwC/3vfKYF4//WAYZFblXj9SXUPfi15eP7QjrEFs7Vw/a9weqpA+Wz/PFszz8ohZP529K7KB41c/\",\"dtype\":\"float64\",\"shape\":[75]},\"y\":{\"__ndarray__\":\"GhExyth1ND/Sv8nbtpRIP2vylNV0PVE/aTum7souWD/At0SJ8fVgPw3Iuahxymc/MSNhhJWvcD/bTfBN02d3P2zb5nxnaoA/CD5h5MAGhz8NmeH1TyaQP+zrCsc9p5Y/LbKd76fGnz/bLW5ISEmmPww9YvTcQq8/JV2OstnstT8Er5Y7M8G+P0c+r3jqkcU/5h99k6ZBzj88bCIzFzjVP4enV8oyxN0//yH99nXg5D8qOpLLf0jtP5kqGJXUifQ/c9cS8kHP/D+/DpwzojQEQIEmwoanVwxA4lgXt9HgE0BSSZ2AJuIbQAMJih9jjiNA5q4l5INuK0AwTKYKRj0zQNv5fmq8/DpAaCJseHrtQkB/+zpwzoxKQM3MzMzMeFJAZmZmZmZqWEAAAAAAAFxeQM3MzMzMJmJAmpmZmZkfZUBmZmZmZhhoQDMzMzMzEWtAAAAAAAAKbkBmZmZmZoFwQM3MzMzM/XFAMzMzMzN6c0CamZmZmfZ0QAAAAAAAc3ZAZmZmZmbvd0DNzMzMzGt5QDMzMzMz6HpAmpmZmZlkfEAAAAAAAOF9QGZmZmZmXX9AZmZmZuZsgECamZmZGSuBQM3MzMxM6YFAAAAAAICngkAzMzMzs2WDQGZmZmbmI4RAmpmZmRnihEDNzMzMTKCFQAAAAACAXoZAMzMzM7Mch0BmZmZm5tqHQJqZmZkZmYhAzczMzExXiUAAAAAAgBWKQDMzMzOz04pAZmZmZuaRi0CamZmZGVCMQM3MzMxMDo1AAAAAAIDMjUAzMzMzs4qOQGZmZmbmSI9A\",\"dtype\":\"float64\",\"shape\":[75]}},\"selected\":{\"id\":\"c91065b6-89fa-4b25-ab70-0a06362c65cd\",\"type\":\"Selection\"},\"selection_policy\":{\"id\":\"f727209b-7edd-4ee1-af56-799db8aa177d\",\"type\":\"UnionRenderers\"}},\"id\":\"7608b126-1cbb-4b82-a52a-5f69ec1a8180\",\"type\":\"ColumnDataSource\"},{\"attributes\":{\"fill_alpha\":{\"value\":0.7},\"fill_color\":{\"value\":\"#377eb8\"},\"line_alpha\":{\"value\":0.7},\"line_color\":{\"value\":\"#377eb8\"},\"x\":{\"field\":\"x\"},\"y\":{\"field\":\"y\"}},\"id\":\"7d1067b2-4ba9-4062-8ca2-b9477f8dc47e\",\"type\":\"Triangle\"},{\"attributes\":{\"callback\":null,\"data\":{\"x\":{\"__ndarray__\":\"5q0mQVsOlL46GxmGfMOTvnWLI+5H0JK+z3dh1CRCkb7dgqkzN/KNvjQuq1zRloe+chsEyNAhfr7HU8Mm/ndfvmvzNYWPp3Q+z+CiXkJTjD7zv6Vz32GZPuu6AuWpnaM+t4QD9P4MrD7v0BYJeICyPqpNH/M/gbY+7SuF/pBkuj7tY2x0LbS+PjAM3A6sv8E+2wsIMTZpxD7zkBMJU13HPiUadWKkTMo+bW+w+4oRyD56r5ZJj0XAPohbUnAaqLI+ouK3Z89toj7rx1v3lMSHPsQHU5VDEXC+po2jub13ib75rJGfEACRvqUJD1+Hm5O+FYIl5naelb5c/Szk3UCXvpsWWM05dJi+k7omTgZXmb7b4z4Q4zOavl61YJhIGZu+fNe/S5v5m75b6rkQNWudvht8xXnFWKW+zDU7+hVDrb53GczVFHyzvl/UPsbLuLe+1yKXp70pvL6utCurqLvAvpoiAIJVu8O+P2h1iHU9xr5Lo/IbAcTGviJanCxuEsS+1jwd9Y1zwL7peHy18O1yPn2Bjgx/H9g+z7KVhMhU8j5uHC7HGgAEP0xUFyuIlhI/MqHkq5wnHz8oEATWwCwoP3tQ8fMvpjE/mtU9POZ6OD+3dmI8Dz9AP+WxoFg5wEQ/1afLNTmgST8W7E9H/rlOPyBhyI0K81E/tkmlHjmAVD9/fshsI/ZWP9IaIm6XRFk/r8EEr4tbWz/ORuBn0iFdPwC/3vfKYF4//WAYZFblXj9SXUPfi15eP7QjrEFs7Vw/a9weqpA+Wz/PFszz8ohZP529K7KB41c/\",\"dtype\":\"float64\",\"shape\":[75]},\"y\":{\"__ndarray__\":\"GhExyth1ND/Sv8nbtpRIP2vylNV0PVE/aTum7souWD/At0SJ8fVgPw3Iuahxymc/MSNhhJWvcD/bTfBN02d3P2zb5nxnaoA/CD5h5MAGhz8NmeH1TyaQP+zrCsc9p5Y/LbKd76fGnz/bLW5ISEmmPww9YvTcQq8/JV2OstnstT8Er5Y7M8G+P0c+r3jqkcU/5h99k6ZBzj88bCIzFzjVP4enV8oyxN0//yH99nXg5D8qOpLLf0jtP5kqGJXUifQ/c9cS8kHP/D+/DpwzojQEQIEmwoanVwxA4lgXt9HgE0BSSZ2AJuIbQAMJih9jjiNA5q4l5INuK0AwTKYKRj0zQNv5fmq8/DpAaCJseHrtQkB/+zpwzoxKQM3MzMzMeFJAZmZmZmZqWEAAAAAAAFxeQM3MzMzMJmJAmpmZmZkfZUBmZmZmZhhoQDMzMzMzEWtAAAAAAAAKbkBmZmZmZoFwQM3MzMzM/XFAMzMzMzN6c0CamZmZmfZ0QAAAAAAAc3ZAZmZmZmbvd0DNzMzMzGt5QDMzMzMz6HpAmpmZmZlkfEAAAAAAAOF9QGZmZmZmXX9AZmZmZuZsgECamZmZGSuBQM3MzMxM6YFAAAAAAICngkAzMzMzs2WDQGZmZmbmI4RAmpmZmRnihEDNzMzMTKCFQAAAAACAXoZAMzMzM7Mch0BmZmZm5tqHQJqZmZkZmYhAzczMzExXiUAAAAAAgBWKQDMzMzOz04pAZmZmZuaRi0CamZmZGVCMQM3MzMxMDo1AAAAAAIDMjUAzMzMzs4qOQGZmZmbmSI9A\",\"dtype\":\"float64\",\"shape\":[75]}},\"selected\":{\"id\":\"9ca3fa98-fe98-4958-b778-407539296f84\",\"type\":\"Selection\"},\"selection_policy\":{\"id\":\"9f4ccbb2-921a-42f3-944a-e61146715741\",\"type\":\"UnionRenderers\"}},\"id\":\"0d1a845d-8199-43e3-9211-7cd19f1aa3f0\",\"type\":\"ColumnDataSource\"},{\"attributes\":{\"axis_label\":\"pressure [mb]\",\"formatter\":{\"id\":\"0b314fa1-70fb-4754-8bda-3ede65c1dfc5\",\"type\":\"BasicTickFormatter\"},\"plot\":{\"id\":\"2d1b16d4-1e84-4278-9ac5-51400339bbed\",\"subtype\":\"Figure\",\"type\":\"Plot\"},\"ticker\":{\"id\":\"9c4dca38-e970-4526-8624-dbf13e35390f\",\"type\":\"BasicTicker\"}},\"id\":\"bf9868a6-e3e8-4560-a5f2-1288562c72c4\",\"type\":\"LinearAxis\"},{\"attributes\":{\"source\":{\"id\":\"7608b126-1cbb-4b82-a52a-5f69ec1a8180\",\"type\":\"ColumnDataSource\"}},\"id\":\"4e9cd970-4535-4ce4-8244-4f2c32940df3\",\"type\":\"CDSView\"},{\"attributes\":{\"fill_alpha\":{\"value\":0.7},\"fill_color\":{\"value\":\"#984ea3\"},\"line_alpha\":{\"value\":0.7},\"line_color\":{\"value\":\"#984ea3\"},\"x\":{\"field\":\"x\"},\"y\":{\"field\":\"y\"}},\"id\":\"abc01e75-a682-4723-a5d1-2321cbfb6fbf\",\"type\":\"Square\"},{\"attributes\":{\"callback\":null,\"data\":{\"x\":{\"__ndarray__\":\"h7qz2uoopL4z0+Z4X9ajvtGijETay6K+4WVIgncZob6o8l5d0TedvhhZCDIrTJa++hHM++kOir708SCblolNvl7wnO0XLY0+tlZDDkYVoT5aq8jeckqtPtMtPlucLrY+fzbLkk5dvz7OBbFgUI7EPuLISz6q6cg+ms+rki0kzT52pUGcv+nQPvoNYJC4g9M+xMNEZghm1j7sescsH5fZPrhLnnJDv9w+Z8GBiS1G2j7kKA55acXRPn9iE24FdsQ+ggjdSpaDtD6fTMSyT36cPo7ZmU36mnS+jhD55s0kl77Vm3rnA36fvgxG6h5vEKK+AWQ0652go76Bde3pvqqkvpFkXb/tLqW+KsvFErhXpb4ph9sNcWmlvl+VmMAWd6W+nE5DwpKRpb7FCIFXxjWmvowMB9sUsa++oLeMR0Jrtb6H+pBWezC8viWlbpja/MC+XiqnQ2z+w77jLwhWjJTHvqaTrQJSoMu+v4VAoTP4zr5O9PUYmn7PvlKnGr8eWcu+WYSjLKFCxb7dL5HAfLejPsk1iBxxAOM+sD/7dhig+z6sWrWLyaANP/Ub9gyoPhs/6aEG0dCkJj/g2oYjIXAxP2q6kQfYRjk/RJfWTsZmQT+oC3AZBOxGP1DriJ/oDU0/CKvmv6TNUT/191qg+S1VPxatjuocjVg/taB8JNrTWz8A22vR4+9eP2RcybtX52A/CTingmguYj+b+G3//zxjP+nUm63R7WM/+w0wPoccZD/y3TQdBJRjP+bGCyGbb2I/jUizeWUlYT9M6rYSYrhfP/2+7bQ2R10/\",\"dtype\":\"float64\",\"shape\":[75]},\"y\":{\"__ndarray__\":\"GhExyth1ND/Sv8nbtpRIP2vylNV0PVE/aTum7souWD/At0SJ8fVgPw3Iuahxymc/MSNhhJWvcD/bTfBN02d3P2zb5nxnaoA/CD5h5MAGhz8NmeH1TyaQP+zrCsc9p5Y/LbKd76fGnz/bLW5ISEmmPww9YvTcQq8/JV2OstnstT8Er5Y7M8G+P0c+r3jqkcU/5h99k6ZBzj88bCIzFzjVP4enV8oyxN0//yH99nXg5D8qOpLLf0jtP5kqGJXUifQ/c9cS8kHP/D+/DpwzojQEQIEmwoanVwxA4lgXt9HgE0BSSZ2AJuIbQAMJih9jjiNA5q4l5INuK0AwTKYKRj0zQNv5fmq8/DpAaCJseHrtQkB/+zpwzoxKQM3MzMzMeFJAZmZmZmZqWEAAAAAAAFxeQM3MzMzMJmJAmpmZmZkfZUBmZmZmZhhoQDMzMzMzEWtAAAAAAAAKbkBmZmZmZoFwQM3MzMzM/XFAMzMzMzN6c0CamZmZmfZ0QAAAAAAAc3ZAZmZmZmbvd0DNzMzMzGt5QDMzMzMz6HpAmpmZmZlkfEAAAAAAAOF9QGZmZmZmXX9AZmZmZuZsgECamZmZGSuBQM3MzMxM6YFAAAAAAICngkAzMzMzs2WDQGZmZmbmI4RAmpmZmRnihEDNzMzMTKCFQAAAAACAXoZAMzMzM7Mch0BmZmZm5tqHQJqZmZkZmYhAzczMzExXiUAAAAAAgBWKQDMzMzOz04pAZmZmZuaRi0CamZmZGVCMQM3MzMxMDo1AAAAAAIDMjUAzMzMzs4qOQGZmZmbmSI9A\",\"dtype\":\"float64\",\"shape\":[75]}},\"selected\":{\"id\":\"bbb532d1-9940-44f8-97c3-cedc450ded7b\",\"type\":\"Selection\"},\"selection_policy\":{\"id\":\"4697baa1-9b51-45ea-8cf4-a73a53dad774\",\"type\":\"UnionRenderers\"}},\"id\":\"8b8630e5-f112-4d77-916f-0313d57714c2\",\"type\":\"ColumnDataSource\"},{\"attributes\":{\"fill_alpha\":{\"value\":0.1},\"fill_color\":{\"value\":\"#1f77b4\"},\"line_alpha\":{\"value\":0.1},\"line_color\":{\"value\":\"#1f77b4\"},\"x\":{\"field\":\"x\"},\"y\":{\"field\":\"y\"}},\"id\":\"1f5bc3bd-c480-43a3-a28e-752f81f8871e\",\"type\":\"Triangle\"},{\"attributes\":{\"axis_label\":\"cooling rate [K/day]\",\"formatter\":{\"id\":\"6320aa42-1af7-4271-b358-197348962436\",\"type\":\"BasicTickFormatter\"},\"plot\":{\"id\":\"2d1b16d4-1e84-4278-9ac5-51400339bbed\",\"subtype\":\"Figure\",\"type\":\"Plot\"},\"ticker\":{\"id\":\"31058672-6566-4104-b60d-e25ed77c662f\",\"type\":\"BasicTicker\"}},\"id\":\"33e5de2a-b0dc-45c2-be26-fcc21c053d3b\",\"type\":\"LinearAxis\"},{\"attributes\":{\"line_alpha\":0.3,\"line_color\":\"#377eb8\",\"line_width\":2,\"x\":{\"field\":\"x\"},\"y\":{\"field\":\"y\"}},\"id\":\"0a3219b0-25e4-4b98-933d-4aa3ac503ffb\",\"type\":\"Line\"},{\"attributes\":{\"children\":[{\"id\":\"6fee8b9c-947c-4a92-a228-7bbcf947756b\",\"type\":\"Row\"}]},\"id\":\"c6ee234b-aee9-4935-88e8-979cfbbddf16\",\"type\":\"Column\"},{\"attributes\":{\"plot\":{\"id\":\"2d1b16d4-1e84-4278-9ac5-51400339bbed\",\"subtype\":\"Figure\",\"type\":\"Plot\"},\"ticker\":{\"id\":\"31058672-6566-4104-b60d-e25ed77c662f\",\"type\":\"BasicTicker\"}},\"id\":\"49c6fd21-eac2-4c09-b6ef-e4106dbc6d40\",\"type\":\"Grid\"},{\"attributes\":{\"plot\":{\"id\":\"256640c7-283d-45c9-8df5-5bd49849cc5e\",\"subtype\":\"Figure\",\"type\":\"Plot\"},\"ticker\":{\"id\":\"bca4684f-3bbe-4609-966a-f2c24e75e8f4\",\"type\":\"BasicTicker\"}},\"id\":\"4aeb530a-c92f-44cb-aa57-b8bd447d3b77\",\"type\":\"Grid\"},{\"attributes\":{\"data_source\":{\"id\":\"7608b126-1cbb-4b82-a52a-5f69ec1a8180\",\"type\":\"ColumnDataSource\"},\"glyph\":{\"id\":\"7d1067b2-4ba9-4062-8ca2-b9477f8dc47e\",\"type\":\"Triangle\"},\"hover_glyph\":null,\"muted_glyph\":null,\"nonselection_glyph\":{\"id\":\"1f5bc3bd-c480-43a3-a28e-752f81f8871e\",\"type\":\"Triangle\"},\"selection_glyph\":null,\"view\":{\"id\":\"4e9cd970-4535-4ce4-8244-4f2c32940df3\",\"type\":\"CDSView\"}},\"id\":\"c30e0896-6cd5-49ef-9b38-927c67a284ac\",\"type\":\"GlyphRenderer\"},{\"attributes\":{\"callback\":null,\"end\":0.01,\"start\":1020},\"id\":\"227c60b3-9e5f-45fb-8ea6-76499144f5e8\",\"type\":\"Range1d\"},{\"attributes\":{\"data_source\":{\"id\":\"0d1a845d-8199-43e3-9211-7cd19f1aa3f0\",\"type\":\"ColumnDataSource\"},\"glyph\":{\"id\":\"0a3219b0-25e4-4b98-933d-4aa3ac503ffb\",\"type\":\"Line\"},\"hover_glyph\":null,\"muted_glyph\":null,\"nonselection_glyph\":{\"id\":\"93e1a5f3-a39b-41f6-984b-360c660fab2b\",\"type\":\"Line\"},\"selection_glyph\":null,\"view\":{\"id\":\"61aefc10-2f06-4ad4-9455-69d186deb15e\",\"type\":\"CDSView\"}},\"id\":\"9f609b17-73b3-44f4-9f44-c85387f59f68\",\"type\":\"GlyphRenderer\"},{\"attributes\":{},\"id\":\"80b2790f-b743-4d76-9562-7f8b296cf226\",\"type\":\"LinearScale\"},{\"attributes\":{\"source\":{\"id\":\"0d1a845d-8199-43e3-9211-7cd19f1aa3f0\",\"type\":\"ColumnDataSource\"}},\"id\":\"61aefc10-2f06-4ad4-9455-69d186deb15e\",\"type\":\"CDSView\"},{\"attributes\":{\"plot\":null,\"text\":\"\"},\"id\":\"8b1cad7e-11de-4cf6-ab7a-117203c81546\",\"type\":\"Title\"},{\"attributes\":{\"children\":[{\"id\":\"2d1b16d4-1e84-4278-9ac5-51400339bbed\",\"subtype\":\"Figure\",\"type\":\"Plot\"},{\"id\":\"256640c7-283d-45c9-8df5-5bd49849cc5e\",\"subtype\":\"Figure\",\"type\":\"Plot\"}]},\"id\":\"6fee8b9c-947c-4a92-a228-7bbcf947756b\",\"type\":\"Row\"},{\"attributes\":{\"label\":{\"value\":\"CRD\"},\"renderers\":[{\"id\":\"161f6938-6f96-42e5-8b22-b71f53656bf5\",\"type\":\"GlyphRenderer\"},{\"id\":\"19b69ff3-44f1-4546-b2b4-0ed096c7e873\",\"type\":\"GlyphRenderer\"}]},\"id\":\"6aee8d15-866a-4df8-bd42-32e3f4ecab29\",\"type\":\"LegendItem\"},{\"attributes\":{},\"id\":\"6320aa42-1af7-4271-b358-197348962436\",\"type\":\"BasicTickFormatter\"},{\"attributes\":{\"label\":{\"value\":\"WGT igg=1\"},\"renderers\":[{\"id\":\"0484c73a-ed98-45c6-82d7-069fdec28b8b\",\"type\":\"GlyphRenderer\"},{\"id\":\"263c3706-a2c5-438e-b28a-af1bfc08d98a\",\"type\":\"GlyphRenderer\"}]},\"id\":\"c4c2d05d-9c2e-41ad-a715-af53114b8688\",\"type\":\"LegendItem\"},{\"attributes\":{},\"id\":\"0b314fa1-70fb-4754-8bda-3ede65c1dfc5\",\"type\":\"BasicTickFormatter\"},{\"attributes\":{\"label\":{\"value\":\"WGT igg=10\"},\"renderers\":[{\"id\":\"c30e0896-6cd5-49ef-9b38-927c67a284ac\",\"type\":\"GlyphRenderer\"},{\"id\":\"9f609b17-73b3-44f4-9f44-c85387f59f68\",\"type\":\"GlyphRenderer\"}]},\"id\":\"36e0c60c-5923-43b9-baa4-1dcb11d9b10d\",\"type\":\"LegendItem\"}],\"root_ids\":[\"ba3d6be9-b50c-4d95-953b-28730a48ee73\"]},\"title\":\"Bokeh Application\",\"version\":\"0.12.16\"}};\n",
       "  var render_items = [{\"docid\":\"21b81373-8f3d-4daa-a008-d7dfc8efb08a\",\"elementid\":\"9c73cc5c-d450-4444-898e-8a393abaf9e8\",\"modelid\":\"ba3d6be9-b50c-4d95-953b-28730a48ee73\"}];\n",
       "  root.Bokeh.embed.embed_items_notebook(docs_json, render_items);\n",
       "\n",
       "  }\n",
       "  if (root.Bokeh !== undefined) {\n",
       "    embed_document(root);\n",
       "  } else {\n",
       "    var attempts = 0;\n",
       "    var timer = setInterval(function(root) {\n",
       "      if (root.Bokeh !== undefined) {\n",
       "        embed_document(root);\n",
       "        clearInterval(timer);\n",
       "      }\n",
       "      attempts++;\n",
       "      if (attempts > 100) {\n",
       "        console.log(\"Bokeh: ERROR: Unable to run BokehJS code because BokehJS library is missing\")\n",
       "        clearInterval(timer);\n",
       "      }\n",
       "    }, 10, root)\n",
       "  }\n",
       "})(window);"
      ],
      "application/vnd.bokehjs_exec.v0+json": ""
     },
     "metadata": {
      "application/vnd.bokehjs_exec.v0+json": {
       "id": "ba3d6be9-b50c-4d95-953b-28730a48ee73"
      }
     },
     "output_type": "display_data"
    },
    {
     "data": {
      "text/markdown": [
       "*FIGURE.* Cooling rates. g=2"
      ],
      "text/plain": [
       "<IPython.core.display.Markdown object>"
      ]
     },
     "metadata": {},
     "output_type": "display_data"
    },
    {
     "data": {
      "text/html": [
       "\n",
       "<div class=\"bk-root\">\n",
       "    <div class=\"bk-plotdiv\" id=\"da2c0e43-3d6f-4a97-a2e6-9724ba1e7db3\"></div>\n",
       "</div>"
      ]
     },
     "metadata": {},
     "output_type": "display_data"
    },
    {
     "data": {
      "application/javascript": [
       "(function(root) {\n",
       "  function embed_document(root) {\n",
       "    \n",
       "  var docs_json = {\"45c66da5-9058-4548-be17-e970c23b382a\":{\"roots\":{\"references\":[{\"attributes\":{\"line_color\":\"#4daf4a\",\"line_width\":1.5,\"x\":{\"field\":\"x\"},\"y\":{\"field\":\"y\"}},\"id\":\"d654d813-0caa-48f9-8387-01f53eb3fcce\",\"type\":\"Line\"},{\"attributes\":{\"callback\":null,\"data\":{\"x\":{\"__ndarray__\":\"Uig7R91XaL5kfLBb6iJovs2f3Qe58Ga+a8bihxkSZb6kG3e3I1pivjUKWKZTQl2+GENMXbj7Ur5Q4mGt0vQ1vpbAY7OiWkg+nZVsfz1oYT7swTlSPtJvPoAEbQ1hA3k++8/xststgj5rqpJkJlmIPlhAxsIE+40+wZdgaxTGkT6NB1cSeOmUPo8Yv3wvdpg+WXZX1Ft5nD52lwQKp4CgPsIUQAPByqI+2aPGen0JoT7iurKaGTuWPimEQ3/Ig4g+OqLns0Jkdz58Me8RC/9cPtNJ52ZBBEW+aOTvRlicX75vs8E6pvhkvsiFkrYOQWi+zFwFUFP+ar4nFfxnLYptvpeVmtuu9W++32reeNlGcb6FETpO8exyvlUMC530C3W+CfPrPnJqd75sx+L+dVN6viNaN3G+S4S+4cyTo9hsjb433/lOeqSUvtdOkkxPY5q+oKht7ARmoL6n0uxVrVikvu0uJ4m+/6i+qJaKSxxZrb67DuPlnFSvvqtAqnl34Ky+sHiEuJP/qL41kjEqKXVUvrg1evNyWMI+yG9DexZV3T7ralfgkZ/wPgPQiiaL+f8+8fwAHfSrCz+J/jygeCQWP50KPxrUpiA/2C9C3O3EJz9+FpijkzgwPzKbLaMmSjU/G46ueqn/Oj+gzPzOvJxAP8BkwdCv6EM/QGELw1tQRz8fSGFjoMJKPw3z/BaHKk4/SY12hKa4UD8LzIB3VjlSPzsErqS+cFM/hIu9oXU3VD+PBM6UhU9UPxIJdqpixFM/5D2gjrQEUz974gnZCjVSPy436LCaZVE/\",\"dtype\":\"float64\",\"shape\":[75]},\"y\":{\"__ndarray__\":\"GhExyth1ND/Sv8nbtpRIP2vylNV0PVE/aTum7souWD/At0SJ8fVgPw3Iuahxymc/MSNhhJWvcD/bTfBN02d3P2zb5nxnaoA/CD5h5MAGhz8NmeH1TyaQP+zrCsc9p5Y/LbKd76fGnz/bLW5ISEmmPww9YvTcQq8/JV2OstnstT8Er5Y7M8G+P0c+r3jqkcU/5h99k6ZBzj88bCIzFzjVP4enV8oyxN0//yH99nXg5D8qOpLLf0jtP5kqGJXUifQ/c9cS8kHP/D+/DpwzojQEQIEmwoanVwxA4lgXt9HgE0BSSZ2AJuIbQAMJih9jjiNA5q4l5INuK0AwTKYKRj0zQNv5fmq8/DpAaCJseHrtQkB/+zpwzoxKQM3MzMzMeFJAZmZmZmZqWEAAAAAAAFxeQM3MzMzMJmJAmpmZmZkfZUBmZmZmZhhoQDMzMzMzEWtAAAAAAAAKbkBmZmZmZoFwQM3MzMzM/XFAMzMzMzN6c0CamZmZmfZ0QAAAAAAAc3ZAZmZmZmbvd0DNzMzMzGt5QDMzMzMz6HpAmpmZmZlkfEAAAAAAAOF9QGZmZmZmXX9AZmZmZuZsgECamZmZGSuBQM3MzMxM6YFAAAAAAICngkAzMzMzs2WDQGZmZmbmI4RAmpmZmRnihEDNzMzMTKCFQAAAAACAXoZAMzMzM7Mch0BmZmZm5tqHQJqZmZkZmYhAzczMzExXiUAAAAAAgBWKQDMzMzOz04pAZmZmZuaRi0CamZmZGVCMQM3MzMxMDo1AAAAAAIDMjUAzMzMzs4qOQGZmZmbmSI9A\",\"dtype\":\"float64\",\"shape\":[75]}},\"selected\":{\"id\":\"5279e5c0-8656-4fc6-9192-fde147e78927\",\"type\":\"Selection\"},\"selection_policy\":{\"id\":\"4e7de0b3-bdc4-4b27-94f4-c16d186335de\",\"type\":\"UnionRenderers\"}},\"id\":\"22538bf3-8a79-4969-992b-62f02a93a7ff\",\"type\":\"ColumnDataSource\"},{\"attributes\":{},\"id\":\"3954a8e6-7ad6-484d-8af1-4d7c5550b0f1\",\"type\":\"UnionRenderers\"},{\"attributes\":{\"source\":{\"id\":\"9edaf3d4-268a-426e-8c30-d54797f7e8be\",\"type\":\"ColumnDataSource\"}},\"id\":\"074e3769-3859-4bc2-ac70-a1d1c7b144f8\",\"type\":\"CDSView\"},{\"attributes\":{},\"id\":\"df13aae6-832e-4707-89ec-d61a12e6d9d0\",\"type\":\"Selection\"},{\"attributes\":{\"callback\":null,\"data\":{\"x\":{\"__ndarray__\":\"Uig7R91XaL5kfLBb6iJovs2f3Qe58Ga+a8bihxkSZb6kG3e3I1pivjUKWKZTQl2+GENMXbj7Ur5Q4mGt0vQ1vpbAY7OiWkg+nZVsfz1oYT7swTlSPtJvPoAEbQ1hA3k++8/xststgj5rqpJkJlmIPlhAxsIE+40+wZdgaxTGkT6NB1cSeOmUPo8Yv3wvdpg+WXZX1Ft5nD52lwQKp4CgPsIUQAPByqI+2aPGen0JoT7iurKaGTuWPimEQ3/Ig4g+OqLns0Jkdz58Me8RC/9cPtNJ52ZBBEW+aOTvRlicX75vs8E6pvhkvsiFkrYOQWi+zFwFUFP+ar4nFfxnLYptvpeVmtuu9W++32reeNlGcb6FETpO8exyvlUMC530C3W+CfPrPnJqd75sx+L+dVN6viNaN3G+S4S+4cyTo9hsjb433/lOeqSUvtdOkkxPY5q+oKht7ARmoL6n0uxVrVikvu0uJ4m+/6i+qJaKSxxZrb67DuPlnFSvvqtAqnl34Ky+sHiEuJP/qL41kjEqKXVUvrg1evNyWMI+yG9DexZV3T7ralfgkZ/wPgPQiiaL+f8+8fwAHfSrCz+J/jygeCQWP50KPxrUpiA/2C9C3O3EJz9+FpijkzgwPzKbLaMmSjU/G46ueqn/Oj+gzPzOvJxAP8BkwdCv6EM/QGELw1tQRz8fSGFjoMJKPw3z/BaHKk4/SY12hKa4UD8LzIB3VjlSPzsErqS+cFM/hIu9oXU3VD+PBM6UhU9UPxIJdqpixFM/5D2gjrQEUz974gnZCjVSPy436LCaZVE/\",\"dtype\":\"float64\",\"shape\":[75]},\"y\":{\"__ndarray__\":\"GhExyth1ND/Sv8nbtpRIP2vylNV0PVE/aTum7souWD/At0SJ8fVgPw3Iuahxymc/MSNhhJWvcD/bTfBN02d3P2zb5nxnaoA/CD5h5MAGhz8NmeH1TyaQP+zrCsc9p5Y/LbKd76fGnz/bLW5ISEmmPww9YvTcQq8/JV2OstnstT8Er5Y7M8G+P0c+r3jqkcU/5h99k6ZBzj88bCIzFzjVP4enV8oyxN0//yH99nXg5D8qOpLLf0jtP5kqGJXUifQ/c9cS8kHP/D+/DpwzojQEQIEmwoanVwxA4lgXt9HgE0BSSZ2AJuIbQAMJih9jjiNA5q4l5INuK0AwTKYKRj0zQNv5fmq8/DpAaCJseHrtQkB/+zpwzoxKQM3MzMzMeFJAZmZmZmZqWEAAAAAAAFxeQM3MzMzMJmJAmpmZmZkfZUBmZmZmZhhoQDMzMzMzEWtAAAAAAAAKbkBmZmZmZoFwQM3MzMzM/XFAMzMzMzN6c0CamZmZmfZ0QAAAAAAAc3ZAZmZmZmbvd0DNzMzMzGt5QDMzMzMz6HpAmpmZmZlkfEAAAAAAAOF9QGZmZmZmXX9AZmZmZuZsgECamZmZGSuBQM3MzMxM6YFAAAAAAICngkAzMzMzs2WDQGZmZmbmI4RAmpmZmRnihEDNzMzMTKCFQAAAAACAXoZAMzMzM7Mch0BmZmZm5tqHQJqZmZkZmYhAzczMzExXiUAAAAAAgBWKQDMzMzOz04pAZmZmZuaRi0CamZmZGVCMQM3MzMxMDo1AAAAAAIDMjUAzMzMzs4qOQGZmZmbmSI9A\",\"dtype\":\"float64\",\"shape\":[75]}},\"selected\":{\"id\":\"d25552ab-2072-4e49-885b-99af212bd27f\",\"type\":\"Selection\"},\"selection_policy\":{\"id\":\"53d65359-5c81-4379-be3f-419d673a3b42\",\"type\":\"UnionRenderers\"}},\"id\":\"c1ca7d8b-3c88-4a90-8720-e4a9861b8231\",\"type\":\"ColumnDataSource\"},{\"attributes\":{\"fill_alpha\":{\"value\":0.1},\"fill_color\":{\"value\":\"#1f77b4\"},\"line_alpha\":{\"value\":0.1},\"line_color\":{\"value\":\"#1f77b4\"},\"x\":{\"field\":\"x\"},\"y\":{\"field\":\"y\"}},\"id\":\"f193bf17-2dd2-4fdb-86ab-4bd07fd064a7\",\"type\":\"Square\"},{\"attributes\":{\"data_source\":{\"id\":\"c1ca7d8b-3c88-4a90-8720-e4a9861b8231\",\"type\":\"ColumnDataSource\"},\"glyph\":{\"id\":\"743835f4-6824-453b-a147-5edc17af20a0\",\"type\":\"Square\"},\"hover_glyph\":null,\"muted_glyph\":null,\"nonselection_glyph\":{\"id\":\"f193bf17-2dd2-4fdb-86ab-4bd07fd064a7\",\"type\":\"Square\"},\"selection_glyph\":null,\"view\":{\"id\":\"83dc45bb-327a-4416-84eb-f33bcc7e8e19\",\"type\":\"CDSView\"}},\"id\":\"85c864ce-3d4b-4dbb-adff-cdde8687ba53\",\"type\":\"GlyphRenderer\"},{\"attributes\":{\"source\":{\"id\":\"2ab69dc1-a48f-4235-a3d2-ab857b02a08d\",\"type\":\"ColumnDataSource\"}},\"id\":\"5cae67e9-b057-45eb-ba27-2972f23142ce\",\"type\":\"CDSView\"},{\"attributes\":{\"line_alpha\":0.6,\"line_color\":\"#984ea3\",\"line_width\":3,\"x\":{\"field\":\"x\"},\"y\":{\"field\":\"y\"}},\"id\":\"de0f3662-8711-4524-beaa-7d7bbc321ce2\",\"type\":\"Line\"},{\"attributes\":{\"line_alpha\":0.1,\"line_color\":\"#1f77b4\",\"line_width\":3,\"x\":{\"field\":\"x\"},\"y\":{\"field\":\"y\"}},\"id\":\"e2caa42c-e910-47e3-82e4-1d470c8fc2a1\",\"type\":\"Line\"},{\"attributes\":{\"line_alpha\":0.1,\"line_color\":\"#1f77b4\",\"line_width\":2,\"x\":{\"field\":\"x\"},\"y\":{\"field\":\"y\"}},\"id\":\"66fb1e61-5120-4945-a79a-74e9e30629f3\",\"type\":\"Line\"},{\"attributes\":{\"source\":{\"id\":\"c1ca7d8b-3c88-4a90-8720-e4a9861b8231\",\"type\":\"ColumnDataSource\"}},\"id\":\"83dc45bb-327a-4416-84eb-f33bcc7e8e19\",\"type\":\"CDSView\"},{\"attributes\":{\"source\":{\"id\":\"22538bf3-8a79-4969-992b-62f02a93a7ff\",\"type\":\"ColumnDataSource\"}},\"id\":\"8e6c3451-fe99-4bd9-94cb-0a36b952ef4c\",\"type\":\"CDSView\"},{\"attributes\":{\"callback\":null,\"data\":{\"x\":{\"__ndarray__\":\"C5Nn7CeHa76OV1BTuZFqvkMAGfwxf2m+m+SlXY2sZ75HcRYcwWpkvq6OSkmKEWC+KLPIWPMLVb4itclVaMM2vp8EXAIyJEw+LtOCrpGWYz4NhQ9v1tdxPlGEpPL373s+rLp4y0ZJhD7Ayt9dWSOLPuPna/tqsZA+pEUfl+XHkz7JZ/1c30KXPloWiDAHMps+htxBvPGjnz75WsyFRlSiPr4c30Pq3KQ+uihe2DLqoj6DbOkWKrOYPozJTXzRRos+pNxRjLkXej7N1z4Rpk5gPlXRyoI5uUa+HmaACwxzYb7hwn7lrjZnvr4ont+93mq+P5eiaS/pbb5pnhgY6FxwvmAJgDH6sHG+zazNOIUdc76/iT0BZfF0vjD0MHEUUXe+Q5VfLZT8eb6p36HTuUN9vg6xJAfVl4a+Pr7O/ChmkL762UyuRQmXvoCLkeoCe52+J4TsadVWor5/L3HYtcamvqM0pVB7A6y+v1OaMHJ6sL6wM4UhF62xvvHjliejdbC+eVV8/3tXrb7BLlX6YMt9vq6OgEPVC8M+lpAL+V173z6GWRcYQAnyPt4UDwC5cAE/XhUTzNRIDj9u3HXVEEkYP7T7ISh+SiI/UERj0W4jKj/iQ9g0RdoxP0/aYXXnbjc/CL2DQGCyPT/sIqZ3ukJCP+6x/v3x3UU/PC4zwmiUST+rzU/OaFRNPyQORJOeglA/KkpRBHtHUj+yS6y5EOVTP/mOe6qzMFU/Wfsv1sb/VT+c+czP0Q5WP52ttr2Ba1U/2AEfWQOPVD+lcRd936FTP42/857RtVI/\",\"dtype\":\"float64\",\"shape\":[75]},\"y\":{\"__ndarray__\":\"GhExyth1ND/Sv8nbtpRIP2vylNV0PVE/aTum7souWD/At0SJ8fVgPw3Iuahxymc/MSNhhJWvcD/bTfBN02d3P2zb5nxnaoA/CD5h5MAGhz8NmeH1TyaQP+zrCsc9p5Y/LbKd76fGnz/bLW5ISEmmPww9YvTcQq8/JV2OstnstT8Er5Y7M8G+P0c+r3jqkcU/5h99k6ZBzj88bCIzFzjVP4enV8oyxN0//yH99nXg5D8qOpLLf0jtP5kqGJXUifQ/c9cS8kHP/D+/DpwzojQEQIEmwoanVwxA4lgXt9HgE0BSSZ2AJuIbQAMJih9jjiNA5q4l5INuK0AwTKYKRj0zQNv5fmq8/DpAaCJseHrtQkB/+zpwzoxKQM3MzMzMeFJAZmZmZmZqWEAAAAAAAFxeQM3MzMzMJmJAmpmZmZkfZUBmZmZmZhhoQDMzMzMzEWtAAAAAAAAKbkBmZmZmZoFwQM3MzMzM/XFAMzMzMzN6c0CamZmZmfZ0QAAAAAAAc3ZAZmZmZmbvd0DNzMzMzGt5QDMzMzMz6HpAmpmZmZlkfEAAAAAAAOF9QGZmZmZmXX9AZmZmZuZsgECamZmZGSuBQM3MzMxM6YFAAAAAAICngkAzMzMzs2WDQGZmZmbmI4RAmpmZmRnihEDNzMzMTKCFQAAAAACAXoZAMzMzM7Mch0BmZmZm5tqHQJqZmZkZmYhAzczMzExXiUAAAAAAgBWKQDMzMzOz04pAZmZmZuaRi0CamZmZGVCMQM3MzMxMDo1AAAAAAIDMjUAzMzMzs4qOQGZmZmbmSI9A\",\"dtype\":\"float64\",\"shape\":[75]}},\"selected\":{\"id\":\"314510bb-baba-48e0-b329-59004a0b421e\",\"type\":\"Selection\"},\"selection_policy\":{\"id\":\"4798da9a-a61a-474f-92c2-7a911b3bfae6\",\"type\":\"UnionRenderers\"}},\"id\":\"2ab69dc1-a48f-4235-a3d2-ab857b02a08d\",\"type\":\"ColumnDataSource\"},{\"attributes\":{\"line_alpha\":0.1,\"line_color\":\"#1f77b4\",\"line_width\":1.5,\"x\":{\"field\":\"x\"},\"y\":{\"field\":\"y\"}},\"id\":\"ffeef713-8316-4175-a176-037487ff57fc\",\"type\":\"Line\"},{\"attributes\":{\"data_source\":{\"id\":\"22538bf3-8a79-4969-992b-62f02a93a7ff\",\"type\":\"ColumnDataSource\"},\"glyph\":{\"id\":\"de0f3662-8711-4524-beaa-7d7bbc321ce2\",\"type\":\"Line\"},\"hover_glyph\":null,\"muted_glyph\":null,\"nonselection_glyph\":{\"id\":\"e2caa42c-e910-47e3-82e4-1d470c8fc2a1\",\"type\":\"Line\"},\"selection_glyph\":null,\"view\":{\"id\":\"8e6c3451-fe99-4bd9-94cb-0a36b952ef4c\",\"type\":\"CDSView\"}},\"id\":\"2a1c9d03-584a-48f6-84b5-094b2f881bec\",\"type\":\"GlyphRenderer\"},{\"attributes\":{\"data_source\":{\"id\":\"2ab69dc1-a48f-4235-a3d2-ab857b02a08d\",\"type\":\"ColumnDataSource\"},\"glyph\":{\"id\":\"d654d813-0caa-48f9-8387-01f53eb3fcce\",\"type\":\"Line\"},\"hover_glyph\":null,\"muted_glyph\":null,\"nonselection_glyph\":{\"id\":\"ffeef713-8316-4175-a176-037487ff57fc\",\"type\":\"Line\"},\"selection_glyph\":null,\"view\":{\"id\":\"5cae67e9-b057-45eb-ba27-2972f23142ce\",\"type\":\"CDSView\"}},\"id\":\"0b279910-6fde-41b2-a53e-8dc2033ecc37\",\"type\":\"GlyphRenderer\"},{\"attributes\":{\"callback\":null,\"data\":{\"x\":{\"__ndarray__\":\"VlOFiCEgZr4j8Iuet6NlvoDgLv2WxWS+x2+Qp0IeY77fOC8wlqVgvnSARXCuh1q+0pKzOPg5Ub5UYub6f6szvrfEF53gHEY+B6O4qXaTXz5jM7FRxdxsPuciaiZJrXY+kEAXj/R6gD6+O4sE8xKGPiNFmd/yLYs+EzQUtOIckD7YHJ0IMPWSPhIM2DfxLJY+alcYJQrQmT6NmypAhuudPoQIBBQQCaE+v7R71Zrjnj5PqfohPieUPiju4LuJOYY+L8F7QnA1dT6H1aLkAE1aPmYzIzfEBUO+j9H9tT+kXL6DrQB1CgFjvm4Z1wHp+mW+GfYMmqJ2aL5T/LA1hsVqvl0bPQkD92y+ZutsXrxQb77YuIXK2CZxvhWFdczjEnO+dGBvNHQ4db7QOvurltt3vsu1NiGbZIK+SJtkUpeqir6kkOZABrWSvqZj0vj16Ze+l3yzK964nb4WkjeRV3CivtjE3/27p6a+TNtyf5SYqr7uiw7MBmSsvhzYVrvSKaq+NdJRlKyjpr66YllyK2dRvrKUYre5pMA+0HPTFzaZ2j4ZqJYXiyTuPm99qyaW/Pw+8Q/D6G8VCT+OtX2t+BEUP8Zwf3I3Lx4/A85NhKmKJT8EdWnZN2YtP0FFKcWPSjM/DLgf0Ex2OD8RNgYblxk+P2STUhTfCEI/Qfo9oNkdRT8tX2X/MjxIPwShxADsUEs/d73tWWdHTj/QpXKxZn9QP2+imDChmFE/Rgu2q7VLUj+wDckLmGBSPycHDTC84VE/MF+0yVUzUT/teyOmg3ZQP3oZlnTnc08/\",\"dtype\":\"float64\",\"shape\":[75]},\"y\":{\"__ndarray__\":\"GhExyth1ND/Sv8nbtpRIP2vylNV0PVE/aTum7souWD/At0SJ8fVgPw3Iuahxymc/MSNhhJWvcD/bTfBN02d3P2zb5nxnaoA/CD5h5MAGhz8NmeH1TyaQP+zrCsc9p5Y/LbKd76fGnz/bLW5ISEmmPww9YvTcQq8/JV2OstnstT8Er5Y7M8G+P0c+r3jqkcU/5h99k6ZBzj88bCIzFzjVP4enV8oyxN0//yH99nXg5D8qOpLLf0jtP5kqGJXUifQ/c9cS8kHP/D+/DpwzojQEQIEmwoanVwxA4lgXt9HgE0BSSZ2AJuIbQAMJih9jjiNA5q4l5INuK0AwTKYKRj0zQNv5fmq8/DpAaCJseHrtQkB/+zpwzoxKQM3MzMzMeFJAZmZmZmZqWEAAAAAAAFxeQM3MzMzMJmJAmpmZmZkfZUBmZmZmZhhoQDMzMzMzEWtAAAAAAAAKbkBmZmZmZoFwQM3MzMzM/XFAMzMzMzN6c0CamZmZmfZ0QAAAAAAAc3ZAZmZmZmbvd0DNzMzMzGt5QDMzMzMz6HpAmpmZmZlkfEAAAAAAAOF9QGZmZmZmXX9AZmZmZuZsgECamZmZGSuBQM3MzMxM6YFAAAAAAICngkAzMzMzs2WDQGZmZmbmI4RAmpmZmRnihEDNzMzMTKCFQAAAAACAXoZAMzMzM7Mch0BmZmZm5tqHQJqZmZkZmYhAzczMzExXiUAAAAAAgBWKQDMzMzOz04pAZmZmZuaRi0CamZmZGVCMQM3MzMxMDo1AAAAAAIDMjUAzMzMzs4qOQGZmZmbmSI9A\",\"dtype\":\"float64\",\"shape\":[75]}},\"selected\":{\"id\":\"94dcf8c2-4535-4f14-981f-5c90d1552ee2\",\"type\":\"Selection\"},\"selection_policy\":{\"id\":\"c4611dc8-f9e0-43ed-9bae-d4199b14a404\",\"type\":\"UnionRenderers\"}},\"id\":\"8fb3d1f3-bda4-4a89-9df8-bb265579f421\",\"type\":\"ColumnDataSource\"},{\"attributes\":{\"fill_alpha\":{\"value\":0.7},\"fill_color\":{\"value\":\"#377eb8\"},\"line_alpha\":{\"value\":0.7},\"line_color\":{\"value\":\"#377eb8\"},\"x\":{\"field\":\"x\"},\"y\":{\"field\":\"y\"}},\"id\":\"5156dfab-aec7-48ef-a372-bcaebc01f66d\",\"type\":\"Triangle\"},{\"attributes\":{\"callback\":null,\"data\":{\"x\":{\"__ndarray__\":\"VlOFiCEgZr4j8Iuet6NlvoDgLv2WxWS+x2+Qp0IeY77fOC8wlqVgvnSARXCuh1q+0pKzOPg5Ub5UYub6f6szvrfEF53gHEY+B6O4qXaTXz5jM7FRxdxsPuciaiZJrXY+kEAXj/R6gD6+O4sE8xKGPiNFmd/yLYs+EzQUtOIckD7YHJ0IMPWSPhIM2DfxLJY+alcYJQrQmT6NmypAhuudPoQIBBQQCaE+v7R71Zrjnj5PqfohPieUPiju4LuJOYY+L8F7QnA1dT6H1aLkAE1aPmYzIzfEBUO+j9H9tT+kXL6DrQB1CgFjvm4Z1wHp+mW+GfYMmqJ2aL5T/LA1hsVqvl0bPQkD92y+ZutsXrxQb77YuIXK2CZxvhWFdczjEnO+dGBvNHQ4db7QOvurltt3vsu1NiGbZIK+SJtkUpeqir6kkOZABrWSvqZj0vj16Ze+l3yzK964nb4WkjeRV3CivtjE3/27p6a+TNtyf5SYqr7uiw7MBmSsvhzYVrvSKaq+NdJRlKyjpr66YllyK2dRvrKUYre5pMA+0HPTFzaZ2j4ZqJYXiyTuPm99qyaW/Pw+8Q/D6G8VCT+OtX2t+BEUP8Zwf3I3Lx4/A85NhKmKJT8EdWnZN2YtP0FFKcWPSjM/DLgf0Ex2OD8RNgYblxk+P2STUhTfCEI/Qfo9oNkdRT8tX2X/MjxIPwShxADsUEs/d73tWWdHTj/QpXKxZn9QP2+imDChmFE/Rgu2q7VLUj+wDckLmGBSPycHDTC84VE/MF+0yVUzUT/teyOmg3ZQP3oZlnTnc08/\",\"dtype\":\"float64\",\"shape\":[75]},\"y\":{\"__ndarray__\":\"GhExyth1ND/Sv8nbtpRIP2vylNV0PVE/aTum7souWD/At0SJ8fVgPw3Iuahxymc/MSNhhJWvcD/bTfBN02d3P2zb5nxnaoA/CD5h5MAGhz8NmeH1TyaQP+zrCsc9p5Y/LbKd76fGnz/bLW5ISEmmPww9YvTcQq8/JV2OstnstT8Er5Y7M8G+P0c+r3jqkcU/5h99k6ZBzj88bCIzFzjVP4enV8oyxN0//yH99nXg5D8qOpLLf0jtP5kqGJXUifQ/c9cS8kHP/D+/DpwzojQEQIEmwoanVwxA4lgXt9HgE0BSSZ2AJuIbQAMJih9jjiNA5q4l5INuK0AwTKYKRj0zQNv5fmq8/DpAaCJseHrtQkB/+zpwzoxKQM3MzMzMeFJAZmZmZmZqWEAAAAAAAFxeQM3MzMzMJmJAmpmZmZkfZUBmZmZmZhhoQDMzMzMzEWtAAAAAAAAKbkBmZmZmZoFwQM3MzMzM/XFAMzMzMzN6c0CamZmZmfZ0QAAAAAAAc3ZAZmZmZmbvd0DNzMzMzGt5QDMzMzMz6HpAmpmZmZlkfEAAAAAAAOF9QGZmZmZmXX9AZmZmZuZsgECamZmZGSuBQM3MzMxM6YFAAAAAAICngkAzMzMzs2WDQGZmZmbmI4RAmpmZmRnihEDNzMzMTKCFQAAAAACAXoZAMzMzM7Mch0BmZmZm5tqHQJqZmZkZmYhAzczMzExXiUAAAAAAgBWKQDMzMzOz04pAZmZmZuaRi0CamZmZGVCMQM3MzMxMDo1AAAAAAIDMjUAzMzMzs4qOQGZmZmbmSI9A\",\"dtype\":\"float64\",\"shape\":[75]}},\"selected\":{\"id\":\"9db4cb65-11f4-4246-be5d-4ac13bc76cf7\",\"type\":\"Selection\"},\"selection_policy\":{\"id\":\"181b9f2a-9e45-44d5-81bc-4f5d83a36880\",\"type\":\"UnionRenderers\"}},\"id\":\"4d52a937-20a7-48db-b056-0629901cd378\",\"type\":\"ColumnDataSource\"},{\"attributes\":{\"source\":{\"id\":\"8fb3d1f3-bda4-4a89-9df8-bb265579f421\",\"type\":\"ColumnDataSource\"}},\"id\":\"a0e61437-9524-43cd-bcb3-7e0693d82e26\",\"type\":\"CDSView\"},{\"attributes\":{\"fill_alpha\":{\"value\":0.7},\"fill_color\":{\"value\":\"#984ea3\"},\"line_alpha\":{\"value\":0.7},\"line_color\":{\"value\":\"#984ea3\"},\"x\":{\"field\":\"x\"},\"y\":{\"field\":\"y\"}},\"id\":\"743835f4-6824-453b-a147-5edc17af20a0\",\"type\":\"Square\"},{\"attributes\":{\"fill_alpha\":{\"value\":0.1},\"fill_color\":{\"value\":\"#1f77b4\"},\"line_alpha\":{\"value\":0.1},\"line_color\":{\"value\":\"#1f77b4\"},\"x\":{\"field\":\"x\"},\"y\":{\"field\":\"y\"}},\"id\":\"8db8a979-8640-4312-9cf3-7350c6398e58\",\"type\":\"Triangle\"},{\"attributes\":{\"line_alpha\":0.3,\"line_color\":\"#377eb8\",\"line_width\":2,\"x\":{\"field\":\"x\"},\"y\":{\"field\":\"y\"}},\"id\":\"08a3901a-4adf-45a1-a877-78a91fa09a90\",\"type\":\"Line\"},{\"attributes\":{\"children\":[{\"id\":\"b19291f5-dbd7-4ac1-89d0-51dbc02612de\",\"type\":\"Row\"}]},\"id\":\"403c0bd6-a968-4805-84b0-add5cb63058a\",\"type\":\"Column\"},{\"attributes\":{\"data_source\":{\"id\":\"8fb3d1f3-bda4-4a89-9df8-bb265579f421\",\"type\":\"ColumnDataSource\"},\"glyph\":{\"id\":\"5156dfab-aec7-48ef-a372-bcaebc01f66d\",\"type\":\"Triangle\"},\"hover_glyph\":null,\"muted_glyph\":null,\"nonselection_glyph\":{\"id\":\"8db8a979-8640-4312-9cf3-7350c6398e58\",\"type\":\"Triangle\"},\"selection_glyph\":null,\"view\":{\"id\":\"a0e61437-9524-43cd-bcb3-7e0693d82e26\",\"type\":\"CDSView\"}},\"id\":\"48ce7f36-853d-4029-9bc4-e8eb034ebbaa\",\"type\":\"GlyphRenderer\"},{\"attributes\":{\"data_source\":{\"id\":\"4d52a937-20a7-48db-b056-0629901cd378\",\"type\":\"ColumnDataSource\"},\"glyph\":{\"id\":\"08a3901a-4adf-45a1-a877-78a91fa09a90\",\"type\":\"Line\"},\"hover_glyph\":null,\"muted_glyph\":null,\"nonselection_glyph\":{\"id\":\"66fb1e61-5120-4945-a79a-74e9e30629f3\",\"type\":\"Line\"},\"selection_glyph\":null,\"view\":{\"id\":\"891a3285-f3ed-4ef1-b928-472256170c45\",\"type\":\"CDSView\"}},\"id\":\"595eb811-840e-43de-9fde-f79d86d0db66\",\"type\":\"GlyphRenderer\"},{\"attributes\":{\"source\":{\"id\":\"4d52a937-20a7-48db-b056-0629901cd378\",\"type\":\"ColumnDataSource\"}},\"id\":\"891a3285-f3ed-4ef1-b928-472256170c45\",\"type\":\"CDSView\"},{\"attributes\":{\"plot\":null,\"text\":\"\"},\"id\":\"8b283bbc-8832-4b99-8df0-2b79e411cf11\",\"type\":\"Title\"},{\"attributes\":{\"children\":[{\"id\":\"f74f41d8-163c-4146-9172-3d54a76da2e7\",\"subtype\":\"Figure\",\"type\":\"Plot\"},{\"id\":\"545430e9-640e-4d45-afd5-ffe88bcfd36c\",\"subtype\":\"Figure\",\"type\":\"Plot\"}]},\"id\":\"b19291f5-dbd7-4ac1-89d0-51dbc02612de\",\"type\":\"Row\"},{\"attributes\":{\"label\":{\"value\":\"CRD\"},\"renderers\":[{\"id\":\"27ef9141-6381-4e31-9213-52eba5adeb1c\",\"type\":\"GlyphRenderer\"},{\"id\":\"0b279910-6fde-41b2-a53e-8dc2033ecc37\",\"type\":\"GlyphRenderer\"}]},\"id\":\"f22fa3f5-a164-4a80-a906-4eca6ff8aaa7\",\"type\":\"LegendItem\"},{\"attributes\":{},\"id\":\"3ba38232-d2ea-436a-9832-038504ccaee0\",\"type\":\"BasicTickFormatter\"},{\"attributes\":{\"label\":{\"value\":\"WGT igg=1\"},\"renderers\":[{\"id\":\"85c864ce-3d4b-4dbb-adff-cdde8687ba53\",\"type\":\"GlyphRenderer\"},{\"id\":\"2a1c9d03-584a-48f6-84b5-094b2f881bec\",\"type\":\"GlyphRenderer\"}]},\"id\":\"6e17e5a5-8e61-4f1e-8b63-7556e52ed874\",\"type\":\"LegendItem\"},{\"attributes\":{\"label\":{\"value\":\"WGT igg=10\"},\"renderers\":[{\"id\":\"48ce7f36-853d-4029-9bc4-e8eb034ebbaa\",\"type\":\"GlyphRenderer\"},{\"id\":\"595eb811-840e-43de-9fde-f79d86d0db66\",\"type\":\"GlyphRenderer\"}]},\"id\":\"60fabedb-5d66-4d30-b095-ac58873c88b7\",\"type\":\"LegendItem\"},{\"attributes\":{},\"id\":\"be478195-22d7-4eb5-8c72-9ad23518e040\",\"type\":\"PanTool\"},{\"attributes\":{\"dimension\":1,\"plot\":{\"id\":\"f74f41d8-163c-4146-9172-3d54a76da2e7\",\"subtype\":\"Figure\",\"type\":\"Plot\"},\"ticker\":{\"id\":\"862985e0-662f-4363-9a19-81d1c205320f\",\"type\":\"BasicTicker\"}},\"id\":\"78bdc900-48d0-4064-8c49-7ee4663c74cf\",\"type\":\"Grid\"},{\"attributes\":{\"axis_label\":\"pressure [mb]\",\"formatter\":{\"id\":\"173b3503-7143-4cfc-93f6-24b8f426ef10\",\"type\":\"BasicTickFormatter\"},\"plot\":{\"id\":\"f74f41d8-163c-4146-9172-3d54a76da2e7\",\"subtype\":\"Figure\",\"type\":\"Plot\"},\"ticker\":{\"id\":\"862985e0-662f-4363-9a19-81d1c205320f\",\"type\":\"BasicTicker\"}},\"id\":\"e4a089ac-49c9-49f6-88cf-4ada3af9fa66\",\"type\":\"LinearAxis\"},{\"attributes\":{},\"id\":\"862985e0-662f-4363-9a19-81d1c205320f\",\"type\":\"BasicTicker\"},{\"attributes\":{\"overlay\":{\"id\":\"57c2e7c5-0fa7-4b99-b3e8-ceff2bde5cb1\",\"type\":\"BoxAnnotation\"}},\"id\":\"deee3f6e-dfa2-47d0-85e2-5ce9b82c7d62\",\"type\":\"BoxZoomTool\"},{\"attributes\":{},\"id\":\"dbd8c307-7c93-46f9-a193-d391aaf58407\",\"type\":\"UnionRenderers\"},{\"attributes\":{\"axis_label\":\"pressure [mb]\",\"formatter\":{\"id\":\"e2fd37ba-cdfe-4279-8014-d07666414739\",\"type\":\"LogTickFormatter\"},\"plot\":{\"id\":\"545430e9-640e-4d45-afd5-ffe88bcfd36c\",\"subtype\":\"Figure\",\"type\":\"Plot\"},\"ticker\":{\"id\":\"352e8b61-17d6-481b-9981-376a0980712c\",\"type\":\"LogTicker\"}},\"id\":\"fc3932d4-cf6a-4c11-9ff4-14c448c27d2a\",\"type\":\"LogAxis\"},{\"attributes\":{},\"id\":\"357659ee-78a4-4ac3-899c-9832f9f03507\",\"type\":\"WheelZoomTool\"},{\"attributes\":{},\"id\":\"488e6494-a33c-4685-917b-4cb08fec7966\",\"type\":\"ResetTool\"},{\"attributes\":{\"dimension\":1,\"plot\":{\"id\":\"545430e9-640e-4d45-afd5-ffe88bcfd36c\",\"subtype\":\"Figure\",\"type\":\"Plot\"},\"ticker\":{\"id\":\"352e8b61-17d6-481b-9981-376a0980712c\",\"type\":\"LogTicker\"}},\"id\":\"93f9408c-cd35-4170-b771-24054aa25fdd\",\"type\":\"Grid\"},{\"attributes\":{},\"id\":\"016da868-d2f7-41f5-9756-344ad929b4e1\",\"type\":\"BasicTicker\"},{\"attributes\":{\"axis_label\":\"cooling rate [K/day]\",\"formatter\":{\"id\":\"3ba38232-d2ea-436a-9832-038504ccaee0\",\"type\":\"BasicTickFormatter\"},\"plot\":{\"id\":\"f74f41d8-163c-4146-9172-3d54a76da2e7\",\"subtype\":\"Figure\",\"type\":\"Plot\"},\"ticker\":{\"id\":\"016da868-d2f7-41f5-9756-344ad929b4e1\",\"type\":\"BasicTicker\"}},\"id\":\"317f34d8-ee8b-4834-94a9-71b9313ee738\",\"type\":\"LinearAxis\"},{\"attributes\":{},\"id\":\"46c4f8e8-6248-4681-b2d0-a7c129fde40c\",\"type\":\"Selection\"},{\"attributes\":{\"callback\":null,\"end\":0.001359780302797,\"start\":-1.4527182497000002e-05},\"id\":\"3447b0f0-4677-4f4c-a714-4367b71d26a2\",\"type\":\"Range1d\"},{\"attributes\":{},\"id\":\"3631a7c1-ec85-41b5-bf97-e76c5ab5a33b\",\"type\":\"SaveTool\"},{\"attributes\":{\"callback\":null,\"end\":0.01,\"start\":1020},\"id\":\"132375fe-cf19-4142-a99f-50471273257b\",\"type\":\"Range1d\"},{\"attributes\":{\"data_source\":{\"id\":\"ddb854b2-246b-4865-a86c-4ac8170c4153\",\"type\":\"ColumnDataSource\"},\"glyph\":{\"id\":\"e5899588-3fb7-41d7-a8a8-4ded113dd423\",\"type\":\"Circle\"},\"hover_glyph\":null,\"muted_glyph\":null,\"nonselection_glyph\":{\"id\":\"53c1d444-3b15-4243-8ae3-2dc82b04a2f2\",\"type\":\"Circle\"},\"selection_glyph\":null,\"view\":{\"id\":\"3b01bb97-ddda-4878-b7b4-69683515609b\",\"type\":\"CDSView\"}},\"id\":\"aab9f929-5d6d-43fa-af77-d61d6a89456f\",\"type\":\"GlyphRenderer\"},{\"attributes\":{\"active_drag\":\"auto\",\"active_inspect\":\"auto\",\"active_scroll\":\"auto\",\"active_tap\":\"auto\",\"tools\":[{\"id\":\"be478195-22d7-4eb5-8c72-9ad23518e040\",\"type\":\"PanTool\"},{\"id\":\"357659ee-78a4-4ac3-899c-9832f9f03507\",\"type\":\"WheelZoomTool\"},{\"id\":\"deee3f6e-dfa2-47d0-85e2-5ce9b82c7d62\",\"type\":\"BoxZoomTool\"},{\"id\":\"3631a7c1-ec85-41b5-bf97-e76c5ab5a33b\",\"type\":\"SaveTool\"},{\"id\":\"488e6494-a33c-4685-917b-4cb08fec7966\",\"type\":\"ResetTool\"},{\"id\":\"191b04d9-5a07-449f-bb13-7415b5600d57\",\"type\":\"HelpTool\"}]},\"id\":\"b88cb943-9a8a-403c-90dd-1570a99ba289\",\"type\":\"Toolbar\"},{\"attributes\":{\"fill_alpha\":{\"value\":0.7},\"fill_color\":{\"value\":\"#4daf4a\"},\"line_alpha\":{\"value\":0.7},\"line_color\":{\"value\":\"#4daf4a\"},\"x\":{\"field\":\"x\"},\"y\":{\"field\":\"y\"}},\"id\":\"e5899588-3fb7-41d7-a8a8-4ded113dd423\",\"type\":\"Circle\"},{\"attributes\":{\"source\":{\"id\":\"ddb854b2-246b-4865-a86c-4ac8170c4153\",\"type\":\"ColumnDataSource\"}},\"id\":\"3b01bb97-ddda-4878-b7b4-69683515609b\",\"type\":\"CDSView\"},{\"attributes\":{\"num_minor_ticks\":10},\"id\":\"352e8b61-17d6-481b-9981-376a0980712c\",\"type\":\"LogTicker\"},{\"attributes\":{\"items\":[{\"id\":\"2a9c0247-0d17-4331-aa80-4951ba1cdf70\",\"type\":\"LegendItem\"},{\"id\":\"71f24dc2-6b91-4c91-9fdc-9fd721d8c5b4\",\"type\":\"LegendItem\"},{\"id\":\"c7dd4b93-80d6-4328-b26f-ef06f5aa4c46\",\"type\":\"LegendItem\"}],\"label_text_font_size\":{\"value\":\"8pt\"},\"location\":\"top_center\",\"orientation\":\"horizontal\",\"plot\":{\"id\":\"f74f41d8-163c-4146-9172-3d54a76da2e7\",\"subtype\":\"Figure\",\"type\":\"Plot\"}},\"id\":\"766c7ed7-836e-4225-b306-08ded82646e4\",\"type\":\"Legend\"},{\"attributes\":{\"callback\":null,\"data\":{\"x\":{\"__ndarray__\":\"C5Nn7CeHa76OV1BTuZFqvkMAGfwxf2m+m+SlXY2sZ75HcRYcwWpkvq6OSkmKEWC+KLPIWPMLVb4itclVaMM2vp8EXAIyJEw+LtOCrpGWYz4NhQ9v1tdxPlGEpPL373s+rLp4y0ZJhD7Ayt9dWSOLPuPna/tqsZA+pEUfl+XHkz7JZ/1c30KXPloWiDAHMps+htxBvPGjnz75WsyFRlSiPr4c30Pq3KQ+uihe2DLqoj6DbOkWKrOYPozJTXzRRos+pNxRjLkXej7N1z4Rpk5gPlXRyoI5uUa+HmaACwxzYb7hwn7lrjZnvr4ont+93mq+P5eiaS/pbb5pnhgY6FxwvmAJgDH6sHG+zazNOIUdc76/iT0BZfF0vjD0MHEUUXe+Q5VfLZT8eb6p36HTuUN9vg6xJAfVl4a+Pr7O/ChmkL762UyuRQmXvoCLkeoCe52+J4TsadVWor5/L3HYtcamvqM0pVB7A6y+v1OaMHJ6sL6wM4UhF62xvvHjliejdbC+eVV8/3tXrb7BLlX6YMt9vq6OgEPVC8M+lpAL+V173z6GWRcYQAnyPt4UDwC5cAE/XhUTzNRIDj9u3HXVEEkYP7T7ISh+SiI/UERj0W4jKj/iQ9g0RdoxP0/aYXXnbjc/CL2DQGCyPT/sIqZ3ukJCP+6x/v3x3UU/PC4zwmiUST+rzU/OaFRNPyQORJOeglA/KkpRBHtHUj+yS6y5EOVTP/mOe6qzMFU/Wfsv1sb/VT+c+czP0Q5WP52ttr2Ba1U/2AEfWQOPVD+lcRd936FTP42/857RtVI/\",\"dtype\":\"float64\",\"shape\":[75]},\"y\":{\"__ndarray__\":\"GhExyth1ND/Sv8nbtpRIP2vylNV0PVE/aTum7souWD/At0SJ8fVgPw3Iuahxymc/MSNhhJWvcD/bTfBN02d3P2zb5nxnaoA/CD5h5MAGhz8NmeH1TyaQP+zrCsc9p5Y/LbKd76fGnz/bLW5ISEmmPww9YvTcQq8/JV2OstnstT8Er5Y7M8G+P0c+r3jqkcU/5h99k6ZBzj88bCIzFzjVP4enV8oyxN0//yH99nXg5D8qOpLLf0jtP5kqGJXUifQ/c9cS8kHP/D+/DpwzojQEQIEmwoanVwxA4lgXt9HgE0BSSZ2AJuIbQAMJih9jjiNA5q4l5INuK0AwTKYKRj0zQNv5fmq8/DpAaCJseHrtQkB/+zpwzoxKQM3MzMzMeFJAZmZmZmZqWEAAAAAAAFxeQM3MzMzMJmJAmpmZmZkfZUBmZmZmZhhoQDMzMzMzEWtAAAAAAAAKbkBmZmZmZoFwQM3MzMzM/XFAMzMzMzN6c0CamZmZmfZ0QAAAAAAAc3ZAZmZmZmbvd0DNzMzMzGt5QDMzMzMz6HpAmpmZmZlkfEAAAAAAAOF9QGZmZmZmXX9AZmZmZuZsgECamZmZGSuBQM3MzMxM6YFAAAAAAICngkAzMzMzs2WDQGZmZmbmI4RAmpmZmRnihEDNzMzMTKCFQAAAAACAXoZAMzMzM7Mch0BmZmZm5tqHQJqZmZkZmYhAzczMzExXiUAAAAAAgBWKQDMzMzOz04pAZmZmZuaRi0CamZmZGVCMQM3MzMxMDo1AAAAAAIDMjUAzMzMzs4qOQGZmZmbmSI9A\",\"dtype\":\"float64\",\"shape\":[75]}},\"selected\":{\"id\":\"b764a31c-1c43-489e-97b2-7f446b460d11\",\"type\":\"Selection\"},\"selection_policy\":{\"id\":\"7c134b4b-6ebb-489e-84c3-76a3f49066cf\",\"type\":\"UnionRenderers\"}},\"id\":\"ddb854b2-246b-4865-a86c-4ac8170c4153\",\"type\":\"ColumnDataSource\"},{\"attributes\":{\"callback\":null,\"data\":{\"x\":{\"__ndarray__\":\"C5Nn7CeHa76OV1BTuZFqvkMAGfwxf2m+m+SlXY2sZ75HcRYcwWpkvq6OSkmKEWC+KLPIWPMLVb4itclVaMM2vp8EXAIyJEw+LtOCrpGWYz4NhQ9v1tdxPlGEpPL373s+rLp4y0ZJhD7Ayt9dWSOLPuPna/tqsZA+pEUfl+XHkz7JZ/1c30KXPloWiDAHMps+htxBvPGjnz75WsyFRlSiPr4c30Pq3KQ+uihe2DLqoj6DbOkWKrOYPozJTXzRRos+pNxRjLkXej7N1z4Rpk5gPlXRyoI5uUa+HmaACwxzYb7hwn7lrjZnvr4ont+93mq+P5eiaS/pbb5pnhgY6FxwvmAJgDH6sHG+zazNOIUdc76/iT0BZfF0vjD0MHEUUXe+Q5VfLZT8eb6p36HTuUN9vg6xJAfVl4a+Pr7O/ChmkL762UyuRQmXvoCLkeoCe52+J4TsadVWor5/L3HYtcamvqM0pVB7A6y+v1OaMHJ6sL6wM4UhF62xvvHjliejdbC+eVV8/3tXrb7BLlX6YMt9vq6OgEPVC8M+lpAL+V173z6GWRcYQAnyPt4UDwC5cAE/XhUTzNRIDj9u3HXVEEkYP7T7ISh+SiI/UERj0W4jKj/iQ9g0RdoxP0/aYXXnbjc/CL2DQGCyPT/sIqZ3ukJCP+6x/v3x3UU/PC4zwmiUST+rzU/OaFRNPyQORJOeglA/KkpRBHtHUj+yS6y5EOVTP/mOe6qzMFU/Wfsv1sb/VT+c+czP0Q5WP52ttr2Ba1U/2AEfWQOPVD+lcRd936FTP42/857RtVI/\",\"dtype\":\"float64\",\"shape\":[75]},\"y\":{\"__ndarray__\":\"GhExyth1ND/Sv8nbtpRIP2vylNV0PVE/aTum7souWD/At0SJ8fVgPw3Iuahxymc/MSNhhJWvcD/bTfBN02d3P2zb5nxnaoA/CD5h5MAGhz8NmeH1TyaQP+zrCsc9p5Y/LbKd76fGnz/bLW5ISEmmPww9YvTcQq8/JV2OstnstT8Er5Y7M8G+P0c+r3jqkcU/5h99k6ZBzj88bCIzFzjVP4enV8oyxN0//yH99nXg5D8qOpLLf0jtP5kqGJXUifQ/c9cS8kHP/D+/DpwzojQEQIEmwoanVwxA4lgXt9HgE0BSSZ2AJuIbQAMJih9jjiNA5q4l5INuK0AwTKYKRj0zQNv5fmq8/DpAaCJseHrtQkB/+zpwzoxKQM3MzMzMeFJAZmZmZmZqWEAAAAAAAFxeQM3MzMzMJmJAmpmZmZkfZUBmZmZmZhhoQDMzMzMzEWtAAAAAAAAKbkBmZmZmZoFwQM3MzMzM/XFAMzMzMzN6c0CamZmZmfZ0QAAAAAAAc3ZAZmZmZmbvd0DNzMzMzGt5QDMzMzMz6HpAmpmZmZlkfEAAAAAAAOF9QGZmZmZmXX9AZmZmZuZsgECamZmZGSuBQM3MzMxM6YFAAAAAAICngkAzMzMzs2WDQGZmZmbmI4RAmpmZmRnihEDNzMzMTKCFQAAAAACAXoZAMzMzM7Mch0BmZmZm5tqHQJqZmZkZmYhAzczMzExXiUAAAAAAgBWKQDMzMzOz04pAZmZmZuaRi0CamZmZGVCMQM3MzMxMDo1AAAAAAIDMjUAzMzMzs4qOQGZmZmbmSI9A\",\"dtype\":\"float64\",\"shape\":[75]}},\"selected\":{\"id\":\"df13aae6-832e-4707-89ec-d61a12e6d9d0\",\"type\":\"Selection\"},\"selection_policy\":{\"id\":\"3954a8e6-7ad6-484d-8af1-4d7c5550b0f1\",\"type\":\"UnionRenderers\"}},\"id\":\"572b15fd-7456-4da8-a517-29c4b0209b32\",\"type\":\"ColumnDataSource\"},{\"attributes\":{},\"id\":\"7b1a5bdb-b6a7-4d79-a9a5-3d8a50f9e861\",\"type\":\"LinearScale\"},{\"attributes\":{\"plot\":{\"id\":\"f74f41d8-163c-4146-9172-3d54a76da2e7\",\"subtype\":\"Figure\",\"type\":\"Plot\"},\"ticker\":{\"id\":\"016da868-d2f7-41f5-9756-344ad929b4e1\",\"type\":\"BasicTicker\"}},\"id\":\"1f151ae5-e7ba-4b1e-8d77-35295f27d9a7\",\"type\":\"Grid\"},{\"attributes\":{\"above\":[{\"id\":\"766c7ed7-836e-4225-b306-08ded82646e4\",\"type\":\"Legend\"}],\"below\":[{\"id\":\"317f34d8-ee8b-4834-94a9-71b9313ee738\",\"type\":\"LinearAxis\"}],\"left\":[{\"id\":\"e4a089ac-49c9-49f6-88cf-4ada3af9fa66\",\"type\":\"LinearAxis\"}],\"plot_height\":500,\"plot_width\":400,\"renderers\":[{\"id\":\"317f34d8-ee8b-4834-94a9-71b9313ee738\",\"type\":\"LinearAxis\"},{\"id\":\"1f151ae5-e7ba-4b1e-8d77-35295f27d9a7\",\"type\":\"Grid\"},{\"id\":\"e4a089ac-49c9-49f6-88cf-4ada3af9fa66\",\"type\":\"LinearAxis\"},{\"id\":\"78bdc900-48d0-4064-8c49-7ee4663c74cf\",\"type\":\"Grid\"},{\"id\":\"57c2e7c5-0fa7-4b99-b3e8-ceff2bde5cb1\",\"type\":\"BoxAnnotation\"},{\"id\":\"aab9f929-5d6d-43fa-af77-d61d6a89456f\",\"type\":\"GlyphRenderer\"},{\"id\":\"69fcd5a1-14e0-4dd8-a5c2-d6a1b373e7d0\",\"type\":\"GlyphRenderer\"},{\"id\":\"01f8432d-44d5-4209-9a64-f5eca21f19aa\",\"type\":\"GlyphRenderer\"},{\"id\":\"05266f07-731f-457c-9bc5-866167ee53e9\",\"type\":\"GlyphRenderer\"},{\"id\":\"c0114396-dc4b-4ce8-b173-20c29a97d62b\",\"type\":\"GlyphRenderer\"},{\"id\":\"6b96139b-6869-4135-b422-78993ea3df49\",\"type\":\"GlyphRenderer\"},{\"id\":\"766c7ed7-836e-4225-b306-08ded82646e4\",\"type\":\"Legend\"}],\"title\":{\"id\":\"8b283bbc-8832-4b99-8df0-2b79e411cf11\",\"type\":\"Title\"},\"toolbar\":{\"id\":\"b88cb943-9a8a-403c-90dd-1570a99ba289\",\"type\":\"Toolbar\"},\"toolbar_location\":null,\"x_range\":{\"id\":\"3447b0f0-4677-4f4c-a714-4367b71d26a2\",\"type\":\"Range1d\"},\"x_scale\":{\"id\":\"7b1a5bdb-b6a7-4d79-a9a5-3d8a50f9e861\",\"type\":\"LinearScale\"},\"y_range\":{\"id\":\"132375fe-cf19-4142-a99f-50471273257b\",\"type\":\"Range1d\"},\"y_scale\":{\"id\":\"d3c0eb7b-a828-4652-a673-ed71838d3800\",\"type\":\"LinearScale\"}},\"id\":\"f74f41d8-163c-4146-9172-3d54a76da2e7\",\"subtype\":\"Figure\",\"type\":\"Plot\"},{\"attributes\":{\"fill_alpha\":{\"value\":0.1},\"fill_color\":{\"value\":\"#1f77b4\"},\"line_alpha\":{\"value\":0.1},\"line_color\":{\"value\":\"#1f77b4\"},\"x\":{\"field\":\"x\"},\"y\":{\"field\":\"y\"}},\"id\":\"53c1d444-3b15-4243-8ae3-2dc82b04a2f2\",\"type\":\"Circle\"},{\"attributes\":{},\"id\":\"d3c0eb7b-a828-4652-a673-ed71838d3800\",\"type\":\"LinearScale\"},{\"attributes\":{},\"id\":\"5fd3270a-3b59-4519-b96c-764aca93f212\",\"type\":\"PanTool\"},{\"attributes\":{},\"id\":\"da6584b8-f364-4bdb-9e72-048f09170e9b\",\"type\":\"WheelZoomTool\"},{\"attributes\":{\"line_color\":\"#4daf4a\",\"line_width\":1.5,\"x\":{\"field\":\"x\"},\"y\":{\"field\":\"y\"}},\"id\":\"1ac1405c-bea8-49f8-a39d-12ef7c7a0f50\",\"type\":\"Line\"},{\"attributes\":{\"line_alpha\":0.1,\"line_color\":\"#1f77b4\",\"line_width\":1.5,\"x\":{\"field\":\"x\"},\"y\":{\"field\":\"y\"}},\"id\":\"2df2e13a-1b86-416a-bbc3-e110ec95033d\",\"type\":\"Line\"},{\"attributes\":{\"bottom_units\":\"screen\",\"fill_alpha\":{\"value\":0.5},\"fill_color\":{\"value\":\"lightgrey\"},\"left_units\":\"screen\",\"level\":\"overlay\",\"line_alpha\":{\"value\":1.0},\"line_color\":{\"value\":\"black\"},\"line_dash\":[4,4],\"line_width\":{\"value\":2},\"plot\":null,\"render_mode\":\"css\",\"right_units\":\"screen\",\"top_units\":\"screen\"},\"id\":\"57c2e7c5-0fa7-4b99-b3e8-ceff2bde5cb1\",\"type\":\"BoxAnnotation\"},{\"attributes\":{},\"id\":\"191b04d9-5a07-449f-bb13-7415b5600d57\",\"type\":\"HelpTool\"},{\"attributes\":{},\"id\":\"173b3503-7143-4cfc-93f6-24b8f426ef10\",\"type\":\"BasicTickFormatter\"},{\"attributes\":{\"fill_alpha\":{\"value\":0.1},\"fill_color\":{\"value\":\"#1f77b4\"},\"line_alpha\":{\"value\":0.1},\"line_color\":{\"value\":\"#1f77b4\"},\"x\":{\"field\":\"x\"},\"y\":{\"field\":\"y\"}},\"id\":\"bd369fd7-e8a4-489d-8107-8daec1c28638\",\"type\":\"Square\"},{\"attributes\":{\"ticker\":null},\"id\":\"e2fd37ba-cdfe-4279-8014-d07666414739\",\"type\":\"LogTickFormatter\"},{\"attributes\":{},\"id\":\"b764a31c-1c43-489e-97b2-7f446b460d11\",\"type\":\"Selection\"},{\"attributes\":{},\"id\":\"7c134b4b-6ebb-489e-84c3-76a3f49066cf\",\"type\":\"UnionRenderers\"},{\"attributes\":{},\"id\":\"531bc44d-b249-4879-8824-29aa42994e16\",\"type\":\"UnionRenderers\"},{\"attributes\":{},\"id\":\"98bba590-9062-479f-825b-e9a56800c1b6\",\"type\":\"BasicTickFormatter\"},{\"attributes\":{\"plot\":null,\"text\":\"\"},\"id\":\"ff0e872f-3525-48bd-87e5-8007a5e13b29\",\"type\":\"Title\"},{\"attributes\":{\"data_source\":{\"id\":\"714df297-4264-42a2-b8c3-35e9940033fd\",\"type\":\"ColumnDataSource\"},\"glyph\":{\"id\":\"de7750df-2c78-4e79-81ce-a8f274619812\",\"type\":\"Square\"},\"hover_glyph\":null,\"muted_glyph\":null,\"nonselection_glyph\":{\"id\":\"bd369fd7-e8a4-489d-8107-8daec1c28638\",\"type\":\"Square\"},\"selection_glyph\":null,\"view\":{\"id\":\"8eb121bc-42f0-4613-bc51-cdcb10e79185\",\"type\":\"CDSView\"}},\"id\":\"01f8432d-44d5-4209-9a64-f5eca21f19aa\",\"type\":\"GlyphRenderer\"},{\"attributes\":{},\"id\":\"edf03793-efe3-47cb-9d39-77001c355dd4\",\"type\":\"Selection\"},{\"attributes\":{},\"id\":\"1a246149-9b52-42dd-b387-51e47acb207a\",\"type\":\"UnionRenderers\"},{\"attributes\":{\"callback\":null,\"data\":{\"x\":{\"__ndarray__\":\"Uig7R91XaL5kfLBb6iJovs2f3Qe58Ga+a8bihxkSZb6kG3e3I1pivjUKWKZTQl2+GENMXbj7Ur5Q4mGt0vQ1vpbAY7OiWkg+nZVsfz1oYT7swTlSPtJvPoAEbQ1hA3k++8/xststgj5rqpJkJlmIPlhAxsIE+40+wZdgaxTGkT6NB1cSeOmUPo8Yv3wvdpg+WXZX1Ft5nD52lwQKp4CgPsIUQAPByqI+2aPGen0JoT7iurKaGTuWPimEQ3/Ig4g+OqLns0Jkdz58Me8RC/9cPtNJ52ZBBEW+aOTvRlicX75vs8E6pvhkvsiFkrYOQWi+zFwFUFP+ar4nFfxnLYptvpeVmtuu9W++32reeNlGcb6FETpO8exyvlUMC530C3W+CfPrPnJqd75sx+L+dVN6viNaN3G+S4S+4cyTo9hsjb433/lOeqSUvtdOkkxPY5q+oKht7ARmoL6n0uxVrVikvu0uJ4m+/6i+qJaKSxxZrb67DuPlnFSvvqtAqnl34Ky+sHiEuJP/qL41kjEqKXVUvrg1evNyWMI+yG9DexZV3T7ralfgkZ/wPgPQiiaL+f8+8fwAHfSrCz+J/jygeCQWP50KPxrUpiA/2C9C3O3EJz9+FpijkzgwPzKbLaMmSjU/G46ueqn/Oj+gzPzOvJxAP8BkwdCv6EM/QGELw1tQRz8fSGFjoMJKPw3z/BaHKk4/SY12hKa4UD8LzIB3VjlSPzsErqS+cFM/hIu9oXU3VD+PBM6UhU9UPxIJdqpixFM/5D2gjrQEUz974gnZCjVSPy436LCaZVE/\",\"dtype\":\"float64\",\"shape\":[75]},\"y\":{\"__ndarray__\":\"GhExyth1ND/Sv8nbtpRIP2vylNV0PVE/aTum7souWD/At0SJ8fVgPw3Iuahxymc/MSNhhJWvcD/bTfBN02d3P2zb5nxnaoA/CD5h5MAGhz8NmeH1TyaQP+zrCsc9p5Y/LbKd76fGnz/bLW5ISEmmPww9YvTcQq8/JV2OstnstT8Er5Y7M8G+P0c+r3jqkcU/5h99k6ZBzj88bCIzFzjVP4enV8oyxN0//yH99nXg5D8qOpLLf0jtP5kqGJXUifQ/c9cS8kHP/D+/DpwzojQEQIEmwoanVwxA4lgXt9HgE0BSSZ2AJuIbQAMJih9jjiNA5q4l5INuK0AwTKYKRj0zQNv5fmq8/DpAaCJseHrtQkB/+zpwzoxKQM3MzMzMeFJAZmZmZmZqWEAAAAAAAFxeQM3MzMzMJmJAmpmZmZkfZUBmZmZmZhhoQDMzMzMzEWtAAAAAAAAKbkBmZmZmZoFwQM3MzMzM/XFAMzMzMzN6c0CamZmZmfZ0QAAAAAAAc3ZAZmZmZmbvd0DNzMzMzGt5QDMzMzMz6HpAmpmZmZlkfEAAAAAAAOF9QGZmZmZmXX9AZmZmZuZsgECamZmZGSuBQM3MzMxM6YFAAAAAAICngkAzMzMzs2WDQGZmZmbmI4RAmpmZmRnihEDNzMzMTKCFQAAAAACAXoZAMzMzM7Mch0BmZmZm5tqHQJqZmZkZmYhAzczMzExXiUAAAAAAgBWKQDMzMzOz04pAZmZmZuaRi0CamZmZGVCMQM3MzMxMDo1AAAAAAIDMjUAzMzMzs4qOQGZmZmbmSI9A\",\"dtype\":\"float64\",\"shape\":[75]}},\"selected\":{\"id\":\"46c4f8e8-6248-4681-b2d0-a7c129fde40c\",\"type\":\"Selection\"},\"selection_policy\":{\"id\":\"dbd8c307-7c93-46f9-a193-d391aaf58407\",\"type\":\"UnionRenderers\"}},\"id\":\"6b980ffc-c28e-4a25-a0a7-7369efae7a8d\",\"type\":\"ColumnDataSource\"},{\"attributes\":{},\"id\":\"f9df55a7-4c86-41fb-aeb3-d3847c3c8abc\",\"type\":\"Selection\"},{\"attributes\":{\"source\":{\"id\":\"714df297-4264-42a2-b8c3-35e9940033fd\",\"type\":\"ColumnDataSource\"}},\"id\":\"8eb121bc-42f0-4613-bc51-cdcb10e79185\",\"type\":\"CDSView\"},{\"attributes\":{\"line_alpha\":0.1,\"line_color\":\"#1f77b4\",\"line_width\":3,\"x\":{\"field\":\"x\"},\"y\":{\"field\":\"y\"}},\"id\":\"6664b3f1-4c93-42c4-9c80-50514144518e\",\"type\":\"Line\"},{\"attributes\":{},\"id\":\"58c47eb9-bff1-4455-a680-e55ba7e001e9\",\"type\":\"UnionRenderers\"},{\"attributes\":{\"line_alpha\":0.1,\"line_color\":\"#1f77b4\",\"line_width\":2,\"x\":{\"field\":\"x\"},\"y\":{\"field\":\"y\"}},\"id\":\"db94297f-38f2-4eb0-b092-8bc18aafc6f2\",\"type\":\"Line\"},{\"attributes\":{},\"id\":\"d25552ab-2072-4e49-885b-99af212bd27f\",\"type\":\"Selection\"},{\"attributes\":{\"source\":{\"id\":\"6b980ffc-c28e-4a25-a0a7-7369efae7a8d\",\"type\":\"ColumnDataSource\"}},\"id\":\"4420861f-af0b-4d34-8a39-2713227809ae\",\"type\":\"CDSView\"},{\"attributes\":{},\"id\":\"53d65359-5c81-4379-be3f-419d673a3b42\",\"type\":\"UnionRenderers\"},{\"attributes\":{\"source\":{\"id\":\"572b15fd-7456-4da8-a517-29c4b0209b32\",\"type\":\"ColumnDataSource\"}},\"id\":\"e4cca3eb-54ef-4a13-a357-a198ad0d5f8a\",\"type\":\"CDSView\"},{\"attributes\":{},\"id\":\"49746ce7-e6b4-4df5-82d5-ff93eb925af3\",\"type\":\"Selection\"},{\"attributes\":{},\"id\":\"c4611dc8-f9e0-43ed-9bae-d4199b14a404\",\"type\":\"UnionRenderers\"},{\"attributes\":{},\"id\":\"94dcf8c2-4535-4f14-981f-5c90d1552ee2\",\"type\":\"Selection\"},{\"attributes\":{},\"id\":\"314510bb-baba-48e0-b329-59004a0b421e\",\"type\":\"Selection\"},{\"attributes\":{\"data_source\":{\"id\":\"572b15fd-7456-4da8-a517-29c4b0209b32\",\"type\":\"ColumnDataSource\"},\"glyph\":{\"id\":\"1ac1405c-bea8-49f8-a39d-12ef7c7a0f50\",\"type\":\"Line\"},\"hover_glyph\":null,\"muted_glyph\":null,\"nonselection_glyph\":{\"id\":\"2df2e13a-1b86-416a-bbc3-e110ec95033d\",\"type\":\"Line\"},\"selection_glyph\":null,\"view\":{\"id\":\"e4cca3eb-54ef-4a13-a357-a198ad0d5f8a\",\"type\":\"CDSView\"}},\"id\":\"69fcd5a1-14e0-4dd8-a5c2-d6a1b373e7d0\",\"type\":\"GlyphRenderer\"},{\"attributes\":{},\"id\":\"4798da9a-a61a-474f-92c2-7a911b3bfae6\",\"type\":\"UnionRenderers\"},{\"attributes\":{},\"id\":\"5279e5c0-8656-4fc6-9192-fde147e78927\",\"type\":\"Selection\"},{\"attributes\":{},\"id\":\"4e7de0b3-bdc4-4b27-94f4-c16d186335de\",\"type\":\"UnionRenderers\"},{\"attributes\":{\"tools\":[{\"id\":\"be478195-22d7-4eb5-8c72-9ad23518e040\",\"type\":\"PanTool\"},{\"id\":\"357659ee-78a4-4ac3-899c-9832f9f03507\",\"type\":\"WheelZoomTool\"},{\"id\":\"deee3f6e-dfa2-47d0-85e2-5ce9b82c7d62\",\"type\":\"BoxZoomTool\"},{\"id\":\"3631a7c1-ec85-41b5-bf97-e76c5ab5a33b\",\"type\":\"SaveTool\"},{\"id\":\"488e6494-a33c-4685-917b-4cb08fec7966\",\"type\":\"ResetTool\"},{\"id\":\"191b04d9-5a07-449f-bb13-7415b5600d57\",\"type\":\"HelpTool\"},{\"id\":\"5fd3270a-3b59-4519-b96c-764aca93f212\",\"type\":\"PanTool\"},{\"id\":\"da6584b8-f364-4bdb-9e72-048f09170e9b\",\"type\":\"WheelZoomTool\"},{\"id\":\"0daa4ed7-6b4c-4171-b6e4-867488fca76e\",\"type\":\"BoxZoomTool\"},{\"id\":\"7127be98-15ea-48ba-9c3b-585e854b05db\",\"type\":\"SaveTool\"},{\"id\":\"96fdee74-9952-4f49-9503-4a1c125567a4\",\"type\":\"ResetTool\"},{\"id\":\"82e7c1d8-06b4-4875-8262-30c37fd2f877\",\"type\":\"HelpTool\"}]},\"id\":\"a96af856-aade-459a-a959-f39cd2a527c6\",\"type\":\"ProxyToolbar\"},{\"attributes\":{\"fill_alpha\":{\"value\":0.7},\"fill_color\":{\"value\":\"#984ea3\"},\"line_alpha\":{\"value\":0.7},\"line_color\":{\"value\":\"#984ea3\"},\"x\":{\"field\":\"x\"},\"y\":{\"field\":\"y\"}},\"id\":\"de7750df-2c78-4e79-81ce-a8f274619812\",\"type\":\"Square\"},{\"attributes\":{\"toolbar\":{\"id\":\"a96af856-aade-459a-a959-f39cd2a527c6\",\"type\":\"ProxyToolbar\"},\"toolbar_location\":\"above\"},\"id\":\"6dad421b-8ebc-436a-bf87-0df9a3465d6e\",\"type\":\"ToolbarBox\"},{\"attributes\":{\"data_source\":{\"id\":\"6b980ffc-c28e-4a25-a0a7-7369efae7a8d\",\"type\":\"ColumnDataSource\"},\"glyph\":{\"id\":\"49d6e6b3-d33c-445e-93f4-76e29696bbdb\",\"type\":\"Line\"},\"hover_glyph\":null,\"muted_glyph\":null,\"nonselection_glyph\":{\"id\":\"6664b3f1-4c93-42c4-9c80-50514144518e\",\"type\":\"Line\"},\"selection_glyph\":null,\"view\":{\"id\":\"4420861f-af0b-4d34-8a39-2713227809ae\",\"type\":\"CDSView\"}},\"id\":\"05266f07-731f-457c-9bc5-866167ee53e9\",\"type\":\"GlyphRenderer\"},{\"attributes\":{\"callback\":null,\"data\":{\"x\":{\"__ndarray__\":\"Uig7R91XaL5kfLBb6iJovs2f3Qe58Ga+a8bihxkSZb6kG3e3I1pivjUKWKZTQl2+GENMXbj7Ur5Q4mGt0vQ1vpbAY7OiWkg+nZVsfz1oYT7swTlSPtJvPoAEbQ1hA3k++8/xststgj5rqpJkJlmIPlhAxsIE+40+wZdgaxTGkT6NB1cSeOmUPo8Yv3wvdpg+WXZX1Ft5nD52lwQKp4CgPsIUQAPByqI+2aPGen0JoT7iurKaGTuWPimEQ3/Ig4g+OqLns0Jkdz58Me8RC/9cPtNJ52ZBBEW+aOTvRlicX75vs8E6pvhkvsiFkrYOQWi+zFwFUFP+ar4nFfxnLYptvpeVmtuu9W++32reeNlGcb6FETpO8exyvlUMC530C3W+CfPrPnJqd75sx+L+dVN6viNaN3G+S4S+4cyTo9hsjb433/lOeqSUvtdOkkxPY5q+oKht7ARmoL6n0uxVrVikvu0uJ4m+/6i+qJaKSxxZrb67DuPlnFSvvqtAqnl34Ky+sHiEuJP/qL41kjEqKXVUvrg1evNyWMI+yG9DexZV3T7ralfgkZ/wPgPQiiaL+f8+8fwAHfSrCz+J/jygeCQWP50KPxrUpiA/2C9C3O3EJz9+FpijkzgwPzKbLaMmSjU/G46ueqn/Oj+gzPzOvJxAP8BkwdCv6EM/QGELw1tQRz8fSGFjoMJKPw3z/BaHKk4/SY12hKa4UD8LzIB3VjlSPzsErqS+cFM/hIu9oXU3VD+PBM6UhU9UPxIJdqpixFM/5D2gjrQEUz974gnZCjVSPy436LCaZVE/\",\"dtype\":\"float64\",\"shape\":[75]},\"y\":{\"__ndarray__\":\"GhExyth1ND/Sv8nbtpRIP2vylNV0PVE/aTum7souWD/At0SJ8fVgPw3Iuahxymc/MSNhhJWvcD/bTfBN02d3P2zb5nxnaoA/CD5h5MAGhz8NmeH1TyaQP+zrCsc9p5Y/LbKd76fGnz/bLW5ISEmmPww9YvTcQq8/JV2OstnstT8Er5Y7M8G+P0c+r3jqkcU/5h99k6ZBzj88bCIzFzjVP4enV8oyxN0//yH99nXg5D8qOpLLf0jtP5kqGJXUifQ/c9cS8kHP/D+/DpwzojQEQIEmwoanVwxA4lgXt9HgE0BSSZ2AJuIbQAMJih9jjiNA5q4l5INuK0AwTKYKRj0zQNv5fmq8/DpAaCJseHrtQkB/+zpwzoxKQM3MzMzMeFJAZmZmZmZqWEAAAAAAAFxeQM3MzMzMJmJAmpmZmZkfZUBmZmZmZhhoQDMzMzMzEWtAAAAAAAAKbkBmZmZmZoFwQM3MzMzM/XFAMzMzMzN6c0CamZmZmfZ0QAAAAAAAc3ZAZmZmZmbvd0DNzMzMzGt5QDMzMzMz6HpAmpmZmZlkfEAAAAAAAOF9QGZmZmZmXX9AZmZmZuZsgECamZmZGSuBQM3MzMxM6YFAAAAAAICngkAzMzMzs2WDQGZmZmbmI4RAmpmZmRnihEDNzMzMTKCFQAAAAACAXoZAMzMzM7Mch0BmZmZm5tqHQJqZmZkZmYhAzczMzExXiUAAAAAAgBWKQDMzMzOz04pAZmZmZuaRi0CamZmZGVCMQM3MzMxMDo1AAAAAAIDMjUAzMzMzs4qOQGZmZmbmSI9A\",\"dtype\":\"float64\",\"shape\":[75]}},\"selected\":{\"id\":\"cca83508-9a79-4e26-b627-04cea64bf117\",\"type\":\"Selection\"},\"selection_policy\":{\"id\":\"cbccd1f1-5e6e-430d-a545-667f93781251\",\"type\":\"UnionRenderers\"}},\"id\":\"714df297-4264-42a2-b8c3-35e9940033fd\",\"type\":\"ColumnDataSource\"},{\"attributes\":{},\"id\":\"9db4cb65-11f4-4246-be5d-4ac13bc76cf7\",\"type\":\"Selection\"},{\"attributes\":{\"line_alpha\":0.6,\"line_color\":\"#984ea3\",\"line_width\":3,\"x\":{\"field\":\"x\"},\"y\":{\"field\":\"y\"}},\"id\":\"49d6e6b3-d33c-445e-93f4-76e29696bbdb\",\"type\":\"Line\"},{\"attributes\":{},\"id\":\"181b9f2a-9e45-44d5-81bc-4f5d83a36880\",\"type\":\"UnionRenderers\"},{\"attributes\":{\"children\":[{\"id\":\"6dad421b-8ebc-436a-bf87-0df9a3465d6e\",\"type\":\"ToolbarBox\"},{\"id\":\"403c0bd6-a968-4805-84b0-add5cb63058a\",\"type\":\"Column\"}]},\"id\":\"80b36f98-005e-4236-abd0-c81d061b0cdb\",\"type\":\"Column\"},{\"attributes\":{\"fill_alpha\":{\"value\":0.7},\"fill_color\":{\"value\":\"#377eb8\"},\"line_alpha\":{\"value\":0.7},\"line_color\":{\"value\":\"#377eb8\"},\"x\":{\"field\":\"x\"},\"y\":{\"field\":\"y\"}},\"id\":\"b00824b6-e302-4d6d-bcb4-bd4bdd9409c7\",\"type\":\"Triangle\"},{\"attributes\":{\"callback\":null,\"data\":{\"x\":{\"__ndarray__\":\"VlOFiCEgZr4j8Iuet6NlvoDgLv2WxWS+x2+Qp0IeY77fOC8wlqVgvnSARXCuh1q+0pKzOPg5Ub5UYub6f6szvrfEF53gHEY+B6O4qXaTXz5jM7FRxdxsPuciaiZJrXY+kEAXj/R6gD6+O4sE8xKGPiNFmd/yLYs+EzQUtOIckD7YHJ0IMPWSPhIM2DfxLJY+alcYJQrQmT6NmypAhuudPoQIBBQQCaE+v7R71Zrjnj5PqfohPieUPiju4LuJOYY+L8F7QnA1dT6H1aLkAE1aPmYzIzfEBUO+j9H9tT+kXL6DrQB1CgFjvm4Z1wHp+mW+GfYMmqJ2aL5T/LA1hsVqvl0bPQkD92y+ZutsXrxQb77YuIXK2CZxvhWFdczjEnO+dGBvNHQ4db7QOvurltt3vsu1NiGbZIK+SJtkUpeqir6kkOZABrWSvqZj0vj16Ze+l3yzK964nb4WkjeRV3CivtjE3/27p6a+TNtyf5SYqr7uiw7MBmSsvhzYVrvSKaq+NdJRlKyjpr66YllyK2dRvrKUYre5pMA+0HPTFzaZ2j4ZqJYXiyTuPm99qyaW/Pw+8Q/D6G8VCT+OtX2t+BEUP8Zwf3I3Lx4/A85NhKmKJT8EdWnZN2YtP0FFKcWPSjM/DLgf0Ex2OD8RNgYblxk+P2STUhTfCEI/Qfo9oNkdRT8tX2X/MjxIPwShxADsUEs/d73tWWdHTj/QpXKxZn9QP2+imDChmFE/Rgu2q7VLUj+wDckLmGBSPycHDTC84VE/MF+0yVUzUT/teyOmg3ZQP3oZlnTnc08/\",\"dtype\":\"float64\",\"shape\":[75]},\"y\":{\"__ndarray__\":\"GhExyth1ND/Sv8nbtpRIP2vylNV0PVE/aTum7souWD/At0SJ8fVgPw3Iuahxymc/MSNhhJWvcD/bTfBN02d3P2zb5nxnaoA/CD5h5MAGhz8NmeH1TyaQP+zrCsc9p5Y/LbKd76fGnz/bLW5ISEmmPww9YvTcQq8/JV2OstnstT8Er5Y7M8G+P0c+r3jqkcU/5h99k6ZBzj88bCIzFzjVP4enV8oyxN0//yH99nXg5D8qOpLLf0jtP5kqGJXUifQ/c9cS8kHP/D+/DpwzojQEQIEmwoanVwxA4lgXt9HgE0BSSZ2AJuIbQAMJih9jjiNA5q4l5INuK0AwTKYKRj0zQNv5fmq8/DpAaCJseHrtQkB/+zpwzoxKQM3MzMzMeFJAZmZmZmZqWEAAAAAAAFxeQM3MzMzMJmJAmpmZmZkfZUBmZmZmZhhoQDMzMzMzEWtAAAAAAAAKbkBmZmZmZoFwQM3MzMzM/XFAMzMzMzN6c0CamZmZmfZ0QAAAAAAAc3ZAZmZmZmbvd0DNzMzMzGt5QDMzMzMz6HpAmpmZmZlkfEAAAAAAAOF9QGZmZmZmXX9AZmZmZuZsgECamZmZGSuBQM3MzMxM6YFAAAAAAICngkAzMzMzs2WDQGZmZmbmI4RAmpmZmRnihEDNzMzMTKCFQAAAAACAXoZAMzMzM7Mch0BmZmZm5tqHQJqZmZkZmYhAzczMzExXiUAAAAAAgBWKQDMzMzOz04pAZmZmZuaRi0CamZmZGVCMQM3MzMxMDo1AAAAAAIDMjUAzMzMzs4qOQGZmZmbmSI9A\",\"dtype\":\"float64\",\"shape\":[75]}},\"selected\":{\"id\":\"edf03793-efe3-47cb-9d39-77001c355dd4\",\"type\":\"Selection\"},\"selection_policy\":{\"id\":\"531bc44d-b249-4879-8824-29aa42994e16\",\"type\":\"UnionRenderers\"}},\"id\":\"5fc0955e-7440-4086-8c34-c80dd44b77a3\",\"type\":\"ColumnDataSource\"},{\"attributes\":{\"source\":{\"id\":\"552ba9bd-4334-499e-b023-607698764e8b\",\"type\":\"ColumnDataSource\"}},\"id\":\"7ba8e359-0c3a-4c59-99a2-7ffac1a2ddc6\",\"type\":\"CDSView\"},{\"attributes\":{\"callback\":null,\"data\":{\"x\":{\"__ndarray__\":\"VlOFiCEgZr4j8Iuet6NlvoDgLv2WxWS+x2+Qp0IeY77fOC8wlqVgvnSARXCuh1q+0pKzOPg5Ub5UYub6f6szvrfEF53gHEY+B6O4qXaTXz5jM7FRxdxsPuciaiZJrXY+kEAXj/R6gD6+O4sE8xKGPiNFmd/yLYs+EzQUtOIckD7YHJ0IMPWSPhIM2DfxLJY+alcYJQrQmT6NmypAhuudPoQIBBQQCaE+v7R71Zrjnj5PqfohPieUPiju4LuJOYY+L8F7QnA1dT6H1aLkAE1aPmYzIzfEBUO+j9H9tT+kXL6DrQB1CgFjvm4Z1wHp+mW+GfYMmqJ2aL5T/LA1hsVqvl0bPQkD92y+ZutsXrxQb77YuIXK2CZxvhWFdczjEnO+dGBvNHQ4db7QOvurltt3vsu1NiGbZIK+SJtkUpeqir6kkOZABrWSvqZj0vj16Ze+l3yzK964nb4WkjeRV3CivtjE3/27p6a+TNtyf5SYqr7uiw7MBmSsvhzYVrvSKaq+NdJRlKyjpr66YllyK2dRvrKUYre5pMA+0HPTFzaZ2j4ZqJYXiyTuPm99qyaW/Pw+8Q/D6G8VCT+OtX2t+BEUP8Zwf3I3Lx4/A85NhKmKJT8EdWnZN2YtP0FFKcWPSjM/DLgf0Ex2OD8RNgYblxk+P2STUhTfCEI/Qfo9oNkdRT8tX2X/MjxIPwShxADsUEs/d73tWWdHTj/QpXKxZn9QP2+imDChmFE/Rgu2q7VLUj+wDckLmGBSPycHDTC84VE/MF+0yVUzUT/teyOmg3ZQP3oZlnTnc08/\",\"dtype\":\"float64\",\"shape\":[75]},\"y\":{\"__ndarray__\":\"GhExyth1ND/Sv8nbtpRIP2vylNV0PVE/aTum7souWD/At0SJ8fVgPw3Iuahxymc/MSNhhJWvcD/bTfBN02d3P2zb5nxnaoA/CD5h5MAGhz8NmeH1TyaQP+zrCsc9p5Y/LbKd76fGnz/bLW5ISEmmPww9YvTcQq8/JV2OstnstT8Er5Y7M8G+P0c+r3jqkcU/5h99k6ZBzj88bCIzFzjVP4enV8oyxN0//yH99nXg5D8qOpLLf0jtP5kqGJXUifQ/c9cS8kHP/D+/DpwzojQEQIEmwoanVwxA4lgXt9HgE0BSSZ2AJuIbQAMJih9jjiNA5q4l5INuK0AwTKYKRj0zQNv5fmq8/DpAaCJseHrtQkB/+zpwzoxKQM3MzMzMeFJAZmZmZmZqWEAAAAAAAFxeQM3MzMzMJmJAmpmZmZkfZUBmZmZmZhhoQDMzMzMzEWtAAAAAAAAKbkBmZmZmZoFwQM3MzMzM/XFAMzMzMzN6c0CamZmZmfZ0QAAAAAAAc3ZAZmZmZmbvd0DNzMzMzGt5QDMzMzMz6HpAmpmZmZlkfEAAAAAAAOF9QGZmZmZmXX9AZmZmZuZsgECamZmZGSuBQM3MzMxM6YFAAAAAAICngkAzMzMzs2WDQGZmZmbmI4RAmpmZmRnihEDNzMzMTKCFQAAAAACAXoZAMzMzM7Mch0BmZmZm5tqHQJqZmZkZmYhAzczMzExXiUAAAAAAgBWKQDMzMzOz04pAZmZmZuaRi0CamZmZGVCMQM3MzMxMDo1AAAAAAIDMjUAzMzMzs4qOQGZmZmbmSI9A\",\"dtype\":\"float64\",\"shape\":[75]}},\"selected\":{\"id\":\"f9df55a7-4c86-41fb-aeb3-d3847c3c8abc\",\"type\":\"Selection\"},\"selection_policy\":{\"id\":\"1a246149-9b52-42dd-b387-51e47acb207a\",\"type\":\"UnionRenderers\"}},\"id\":\"552ba9bd-4334-499e-b023-607698764e8b\",\"type\":\"ColumnDataSource\"},{\"attributes\":{\"fill_alpha\":{\"value\":0.1},\"fill_color\":{\"value\":\"#1f77b4\"},\"line_alpha\":{\"value\":0.1},\"line_color\":{\"value\":\"#1f77b4\"},\"x\":{\"field\":\"x\"},\"y\":{\"field\":\"y\"}},\"id\":\"a19709ba-56e1-4fba-8e03-267029095988\",\"type\":\"Triangle\"},{\"attributes\":{\"line_alpha\":0.3,\"line_color\":\"#377eb8\",\"line_width\":2,\"x\":{\"field\":\"x\"},\"y\":{\"field\":\"y\"}},\"id\":\"9fcb9434-132f-4ab8-bf8d-daac9dab6384\",\"type\":\"Line\"},{\"attributes\":{\"above\":[{\"id\":\"b9d04068-1393-402d-8d55-0b5b2299e91c\",\"type\":\"Legend\"}],\"below\":[{\"id\":\"3fbd9eeb-3214-4ae1-8163-44747aa252fe\",\"type\":\"LinearAxis\"}],\"left\":[{\"id\":\"fc3932d4-cf6a-4c11-9ff4-14c448c27d2a\",\"type\":\"LogAxis\"}],\"plot_height\":500,\"plot_width\":400,\"renderers\":[{\"id\":\"3fbd9eeb-3214-4ae1-8163-44747aa252fe\",\"type\":\"LinearAxis\"},{\"id\":\"095cb007-8fcf-4305-a7f3-eb32cb4ee069\",\"type\":\"Grid\"},{\"id\":\"fc3932d4-cf6a-4c11-9ff4-14c448c27d2a\",\"type\":\"LogAxis\"},{\"id\":\"93f9408c-cd35-4170-b771-24054aa25fdd\",\"type\":\"Grid\"},{\"id\":\"e808113a-2aa5-4d5f-b0ed-a3d972b3b3cb\",\"type\":\"BoxAnnotation\"},{\"id\":\"27ef9141-6381-4e31-9213-52eba5adeb1c\",\"type\":\"GlyphRenderer\"},{\"id\":\"0b279910-6fde-41b2-a53e-8dc2033ecc37\",\"type\":\"GlyphRenderer\"},{\"id\":\"85c864ce-3d4b-4dbb-adff-cdde8687ba53\",\"type\":\"GlyphRenderer\"},{\"id\":\"2a1c9d03-584a-48f6-84b5-094b2f881bec\",\"type\":\"GlyphRenderer\"},{\"id\":\"48ce7f36-853d-4029-9bc4-e8eb034ebbaa\",\"type\":\"GlyphRenderer\"},{\"id\":\"595eb811-840e-43de-9fde-f79d86d0db66\",\"type\":\"GlyphRenderer\"},{\"id\":\"b9d04068-1393-402d-8d55-0b5b2299e91c\",\"type\":\"Legend\"}],\"title\":{\"id\":\"ff0e872f-3525-48bd-87e5-8007a5e13b29\",\"type\":\"Title\"},\"toolbar\":{\"id\":\"9088a03e-078c-424b-88c6-39c4461e7009\",\"type\":\"Toolbar\"},\"toolbar_location\":null,\"x_range\":{\"id\":\"093fe8b8-3b09-49dd-a0b8-4ba09336ab49\",\"type\":\"Range1d\"},\"x_scale\":{\"id\":\"b17e8533-103c-428e-8e29-7fca2031389d\",\"type\":\"LinearScale\"},\"y_range\":{\"id\":\"d6121303-48ef-422b-9900-567e7eaefdc4\",\"type\":\"Range1d\"},\"y_scale\":{\"id\":\"1e165cbf-805f-472c-b6bb-584de51564a0\",\"type\":\"LogScale\"}},\"id\":\"545430e9-640e-4d45-afd5-ffe88bcfd36c\",\"subtype\":\"Figure\",\"type\":\"Plot\"},{\"attributes\":{\"data_source\":{\"id\":\"552ba9bd-4334-499e-b023-607698764e8b\",\"type\":\"ColumnDataSource\"},\"glyph\":{\"id\":\"b00824b6-e302-4d6d-bcb4-bd4bdd9409c7\",\"type\":\"Triangle\"},\"hover_glyph\":null,\"muted_glyph\":null,\"nonselection_glyph\":{\"id\":\"a19709ba-56e1-4fba-8e03-267029095988\",\"type\":\"Triangle\"},\"selection_glyph\":null,\"view\":{\"id\":\"7ba8e359-0c3a-4c59-99a2-7ffac1a2ddc6\",\"type\":\"CDSView\"}},\"id\":\"c0114396-dc4b-4ce8-b173-20c29a97d62b\",\"type\":\"GlyphRenderer\"},{\"attributes\":{\"data_source\":{\"id\":\"5fc0955e-7440-4086-8c34-c80dd44b77a3\",\"type\":\"ColumnDataSource\"},\"glyph\":{\"id\":\"9fcb9434-132f-4ab8-bf8d-daac9dab6384\",\"type\":\"Line\"},\"hover_glyph\":null,\"muted_glyph\":null,\"nonselection_glyph\":{\"id\":\"db94297f-38f2-4eb0-b092-8bc18aafc6f2\",\"type\":\"Line\"},\"selection_glyph\":null,\"view\":{\"id\":\"29bc00ab-8103-4604-9ede-448f4a0ee0b7\",\"type\":\"CDSView\"}},\"id\":\"6b96139b-6869-4135-b422-78993ea3df49\",\"type\":\"GlyphRenderer\"},{\"attributes\":{\"source\":{\"id\":\"5fc0955e-7440-4086-8c34-c80dd44b77a3\",\"type\":\"ColumnDataSource\"}},\"id\":\"29bc00ab-8103-4604-9ede-448f4a0ee0b7\",\"type\":\"CDSView\"},{\"attributes\":{\"active_drag\":\"auto\",\"active_inspect\":\"auto\",\"active_scroll\":\"auto\",\"active_tap\":\"auto\",\"tools\":[{\"id\":\"5fd3270a-3b59-4519-b96c-764aca93f212\",\"type\":\"PanTool\"},{\"id\":\"da6584b8-f364-4bdb-9e72-048f09170e9b\",\"type\":\"WheelZoomTool\"},{\"id\":\"0daa4ed7-6b4c-4171-b6e4-867488fca76e\",\"type\":\"BoxZoomTool\"},{\"id\":\"7127be98-15ea-48ba-9c3b-585e854b05db\",\"type\":\"SaveTool\"},{\"id\":\"96fdee74-9952-4f49-9503-4a1c125567a4\",\"type\":\"ResetTool\"},{\"id\":\"82e7c1d8-06b4-4875-8262-30c37fd2f877\",\"type\":\"HelpTool\"}]},\"id\":\"9088a03e-078c-424b-88c6-39c4461e7009\",\"type\":\"Toolbar\"},{\"attributes\":{\"label\":{\"value\":\"CRD\"},\"renderers\":[{\"id\":\"aab9f929-5d6d-43fa-af77-d61d6a89456f\",\"type\":\"GlyphRenderer\"},{\"id\":\"69fcd5a1-14e0-4dd8-a5c2-d6a1b373e7d0\",\"type\":\"GlyphRenderer\"}]},\"id\":\"2a9c0247-0d17-4331-aa80-4951ba1cdf70\",\"type\":\"LegendItem\"},{\"attributes\":{\"callback\":null,\"end\":6.314146577e-07,\"start\":-3.529167277e-07},\"id\":\"093fe8b8-3b09-49dd-a0b8-4ba09336ab49\",\"type\":\"Range1d\"},{\"attributes\":{\"label\":{\"value\":\"WGT igg=1\"},\"renderers\":[{\"id\":\"01f8432d-44d5-4209-9a64-f5eca21f19aa\",\"type\":\"GlyphRenderer\"},{\"id\":\"05266f07-731f-457c-9bc5-866167ee53e9\",\"type\":\"GlyphRenderer\"}]},\"id\":\"71f24dc2-6b91-4c91-9fdc-9fd721d8c5b4\",\"type\":\"LegendItem\"},{\"attributes\":{},\"id\":\"b17e8533-103c-428e-8e29-7fca2031389d\",\"type\":\"LinearScale\"},{\"attributes\":{\"label\":{\"value\":\"WGT igg=10\"},\"renderers\":[{\"id\":\"c0114396-dc4b-4ce8-b173-20c29a97d62b\",\"type\":\"GlyphRenderer\"},{\"id\":\"6b96139b-6869-4135-b422-78993ea3df49\",\"type\":\"GlyphRenderer\"}]},\"id\":\"c7dd4b93-80d6-4328-b26f-ef06f5aa4c46\",\"type\":\"LegendItem\"},{\"attributes\":{\"plot\":{\"id\":\"545430e9-640e-4d45-afd5-ffe88bcfd36c\",\"subtype\":\"Figure\",\"type\":\"Plot\"},\"ticker\":{\"id\":\"11e2b649-ff84-4163-af9d-ba31339fb836\",\"type\":\"BasicTicker\"}},\"id\":\"095cb007-8fcf-4305-a7f3-eb32cb4ee069\",\"type\":\"Grid\"},{\"attributes\":{\"items\":[{\"id\":\"f22fa3f5-a164-4a80-a906-4eca6ff8aaa7\",\"type\":\"LegendItem\"},{\"id\":\"6e17e5a5-8e61-4f1e-8b63-7556e52ed874\",\"type\":\"LegendItem\"},{\"id\":\"60fabedb-5d66-4d30-b095-ac58873c88b7\",\"type\":\"LegendItem\"}],\"label_text_font_size\":{\"value\":\"8pt\"},\"location\":\"top_center\",\"orientation\":\"horizontal\",\"plot\":{\"id\":\"545430e9-640e-4d45-afd5-ffe88bcfd36c\",\"subtype\":\"Figure\",\"type\":\"Plot\"}},\"id\":\"b9d04068-1393-402d-8d55-0b5b2299e91c\",\"type\":\"Legend\"},{\"attributes\":{\"overlay\":{\"id\":\"e808113a-2aa5-4d5f-b0ed-a3d972b3b3cb\",\"type\":\"BoxAnnotation\"}},\"id\":\"0daa4ed7-6b4c-4171-b6e4-867488fca76e\",\"type\":\"BoxZoomTool\"},{\"attributes\":{},\"id\":\"1e165cbf-805f-472c-b6bb-584de51564a0\",\"type\":\"LogScale\"},{\"attributes\":{\"axis_label\":\"cooling rate [K/day]\",\"formatter\":{\"id\":\"98bba590-9062-479f-825b-e9a56800c1b6\",\"type\":\"BasicTickFormatter\"},\"plot\":{\"id\":\"545430e9-640e-4d45-afd5-ffe88bcfd36c\",\"subtype\":\"Figure\",\"type\":\"Plot\"},\"ticker\":{\"id\":\"11e2b649-ff84-4163-af9d-ba31339fb836\",\"type\":\"BasicTicker\"}},\"id\":\"3fbd9eeb-3214-4ae1-8163-44747aa252fe\",\"type\":\"LinearAxis\"},{\"attributes\":{},\"id\":\"11e2b649-ff84-4163-af9d-ba31339fb836\",\"type\":\"BasicTicker\"},{\"attributes\":{\"bottom_units\":\"screen\",\"fill_alpha\":{\"value\":0.5},\"fill_color\":{\"value\":\"lightgrey\"},\"left_units\":\"screen\",\"level\":\"overlay\",\"line_alpha\":{\"value\":1.0},\"line_color\":{\"value\":\"black\"},\"line_dash\":[4,4],\"line_width\":{\"value\":2},\"plot\":null,\"render_mode\":\"css\",\"right_units\":\"screen\",\"top_units\":\"screen\"},\"id\":\"e808113a-2aa5-4d5f-b0ed-a3d972b3b3cb\",\"type\":\"BoxAnnotation\"},{\"attributes\":{},\"id\":\"7127be98-15ea-48ba-9c3b-585e854b05db\",\"type\":\"SaveTool\"},{\"attributes\":{},\"id\":\"96fdee74-9952-4f49-9503-4a1c125567a4\",\"type\":\"ResetTool\"},{\"attributes\":{},\"id\":\"82e7c1d8-06b4-4875-8262-30c37fd2f877\",\"type\":\"HelpTool\"},{\"attributes\":{},\"id\":\"cca83508-9a79-4e26-b627-04cea64bf117\",\"type\":\"Selection\"},{\"attributes\":{\"fill_alpha\":{\"value\":0.7},\"fill_color\":{\"value\":\"#4daf4a\"},\"line_alpha\":{\"value\":0.7},\"line_color\":{\"value\":\"#4daf4a\"},\"x\":{\"field\":\"x\"},\"y\":{\"field\":\"y\"}},\"id\":\"4434edcf-f754-4353-b125-d11b96cc241e\",\"type\":\"Circle\"},{\"attributes\":{\"callback\":null,\"data\":{\"x\":{\"__ndarray__\":\"C5Nn7CeHa76OV1BTuZFqvkMAGfwxf2m+m+SlXY2sZ75HcRYcwWpkvq6OSkmKEWC+KLPIWPMLVb4itclVaMM2vp8EXAIyJEw+LtOCrpGWYz4NhQ9v1tdxPlGEpPL373s+rLp4y0ZJhD7Ayt9dWSOLPuPna/tqsZA+pEUfl+XHkz7JZ/1c30KXPloWiDAHMps+htxBvPGjnz75WsyFRlSiPr4c30Pq3KQ+uihe2DLqoj6DbOkWKrOYPozJTXzRRos+pNxRjLkXej7N1z4Rpk5gPlXRyoI5uUa+HmaACwxzYb7hwn7lrjZnvr4ont+93mq+P5eiaS/pbb5pnhgY6FxwvmAJgDH6sHG+zazNOIUdc76/iT0BZfF0vjD0MHEUUXe+Q5VfLZT8eb6p36HTuUN9vg6xJAfVl4a+Pr7O/ChmkL762UyuRQmXvoCLkeoCe52+J4TsadVWor5/L3HYtcamvqM0pVB7A6y+v1OaMHJ6sL6wM4UhF62xvvHjliejdbC+eVV8/3tXrb7BLlX6YMt9vq6OgEPVC8M+lpAL+V173z6GWRcYQAnyPt4UDwC5cAE/XhUTzNRIDj9u3HXVEEkYP7T7ISh+SiI/UERj0W4jKj/iQ9g0RdoxP0/aYXXnbjc/CL2DQGCyPT/sIqZ3ukJCP+6x/v3x3UU/PC4zwmiUST+rzU/OaFRNPyQORJOeglA/KkpRBHtHUj+yS6y5EOVTP/mOe6qzMFU/Wfsv1sb/VT+c+czP0Q5WP52ttr2Ba1U/2AEfWQOPVD+lcRd936FTP42/857RtVI/\",\"dtype\":\"float64\",\"shape\":[75]},\"y\":{\"__ndarray__\":\"GhExyth1ND/Sv8nbtpRIP2vylNV0PVE/aTum7souWD/At0SJ8fVgPw3Iuahxymc/MSNhhJWvcD/bTfBN02d3P2zb5nxnaoA/CD5h5MAGhz8NmeH1TyaQP+zrCsc9p5Y/LbKd76fGnz/bLW5ISEmmPww9YvTcQq8/JV2OstnstT8Er5Y7M8G+P0c+r3jqkcU/5h99k6ZBzj88bCIzFzjVP4enV8oyxN0//yH99nXg5D8qOpLLf0jtP5kqGJXUifQ/c9cS8kHP/D+/DpwzojQEQIEmwoanVwxA4lgXt9HgE0BSSZ2AJuIbQAMJih9jjiNA5q4l5INuK0AwTKYKRj0zQNv5fmq8/DpAaCJseHrtQkB/+zpwzoxKQM3MzMzMeFJAZmZmZmZqWEAAAAAAAFxeQM3MzMzMJmJAmpmZmZkfZUBmZmZmZhhoQDMzMzMzEWtAAAAAAAAKbkBmZmZmZoFwQM3MzMzM/XFAMzMzMzN6c0CamZmZmfZ0QAAAAAAAc3ZAZmZmZmbvd0DNzMzMzGt5QDMzMzMz6HpAmpmZmZlkfEAAAAAAAOF9QGZmZmZmXX9AZmZmZuZsgECamZmZGSuBQM3MzMxM6YFAAAAAAICngkAzMzMzs2WDQGZmZmbmI4RAmpmZmRnihEDNzMzMTKCFQAAAAACAXoZAMzMzM7Mch0BmZmZm5tqHQJqZmZkZmYhAzczMzExXiUAAAAAAgBWKQDMzMzOz04pAZmZmZuaRi0CamZmZGVCMQM3MzMxMDo1AAAAAAIDMjUAzMzMzs4qOQGZmZmbmSI9A\",\"dtype\":\"float64\",\"shape\":[75]}},\"selected\":{\"id\":\"49746ce7-e6b4-4df5-82d5-ff93eb925af3\",\"type\":\"Selection\"},\"selection_policy\":{\"id\":\"58c47eb9-bff1-4455-a680-e55ba7e001e9\",\"type\":\"UnionRenderers\"}},\"id\":\"9edaf3d4-268a-426e-8c30-d54797f7e8be\",\"type\":\"ColumnDataSource\"},{\"attributes\":{\"fill_alpha\":{\"value\":0.1},\"fill_color\":{\"value\":\"#1f77b4\"},\"line_alpha\":{\"value\":0.1},\"line_color\":{\"value\":\"#1f77b4\"},\"x\":{\"field\":\"x\"},\"y\":{\"field\":\"y\"}},\"id\":\"9b4d6941-282a-4dc3-8289-f082014a83b7\",\"type\":\"Circle\"},{\"attributes\":{},\"id\":\"cbccd1f1-5e6e-430d-a545-667f93781251\",\"type\":\"UnionRenderers\"},{\"attributes\":{\"callback\":null,\"end\":0.01,\"start\":1020},\"id\":\"d6121303-48ef-422b-9900-567e7eaefdc4\",\"type\":\"Range1d\"},{\"attributes\":{\"data_source\":{\"id\":\"9edaf3d4-268a-426e-8c30-d54797f7e8be\",\"type\":\"ColumnDataSource\"},\"glyph\":{\"id\":\"4434edcf-f754-4353-b125-d11b96cc241e\",\"type\":\"Circle\"},\"hover_glyph\":null,\"muted_glyph\":null,\"nonselection_glyph\":{\"id\":\"9b4d6941-282a-4dc3-8289-f082014a83b7\",\"type\":\"Circle\"},\"selection_glyph\":null,\"view\":{\"id\":\"074e3769-3859-4bc2-ac70-a1d1c7b144f8\",\"type\":\"CDSView\"}},\"id\":\"27ef9141-6381-4e31-9213-52eba5adeb1c\",\"type\":\"GlyphRenderer\"}],\"root_ids\":[\"80b36f98-005e-4236-abd0-c81d061b0cdb\"]},\"title\":\"Bokeh Application\",\"version\":\"0.12.16\"}};\n",
       "  var render_items = [{\"docid\":\"45c66da5-9058-4548-be17-e970c23b382a\",\"elementid\":\"da2c0e43-3d6f-4a97-a2e6-9724ba1e7db3\",\"modelid\":\"80b36f98-005e-4236-abd0-c81d061b0cdb\"}];\n",
       "  root.Bokeh.embed.embed_items_notebook(docs_json, render_items);\n",
       "\n",
       "  }\n",
       "  if (root.Bokeh !== undefined) {\n",
       "    embed_document(root);\n",
       "  } else {\n",
       "    var attempts = 0;\n",
       "    var timer = setInterval(function(root) {\n",
       "      if (root.Bokeh !== undefined) {\n",
       "        embed_document(root);\n",
       "        clearInterval(timer);\n",
       "      }\n",
       "      attempts++;\n",
       "      if (attempts > 100) {\n",
       "        console.log(\"Bokeh: ERROR: Unable to run BokehJS code because BokehJS library is missing\")\n",
       "        clearInterval(timer);\n",
       "      }\n",
       "    }, 10, root)\n",
       "  }\n",
       "})(window);"
      ],
      "application/vnd.bokehjs_exec.v0+json": ""
     },
     "metadata": {
      "application/vnd.bokehjs_exec.v0+json": {
       "id": "80b36f98-005e-4236-abd0-c81d061b0cdb"
      }
     },
     "output_type": "display_data"
    },
    {
     "data": {
      "text/markdown": [
       "*FIGURE.* Cooling rates. g=3"
      ],
      "text/plain": [
       "<IPython.core.display.Markdown object>"
      ]
     },
     "metadata": {},
     "output_type": "display_data"
    },
    {
     "data": {
      "text/html": [
       "\n",
       "<div class=\"bk-root\">\n",
       "    <div class=\"bk-plotdiv\" id=\"65dd5cf8-af63-43ef-ab73-5f08f853a3f1\"></div>\n",
       "</div>"
      ]
     },
     "metadata": {},
     "output_type": "display_data"
    },
    {
     "data": {
      "application/javascript": [
       "(function(root) {\n",
       "  function embed_document(root) {\n",
       "    \n",
       "  var docs_json = {\"31bcf2cd-3124-4557-bb6d-244305da13a2\":{\"roots\":{\"references\":[{\"attributes\":{},\"id\":\"b547906f-91e4-482a-a254-facfd0f1464e\",\"type\":\"HelpTool\"},{\"attributes\":{},\"id\":\"80a65adb-23ee-4d18-bd5b-bdd7c88ec83d\",\"type\":\"UnionRenderers\"},{\"attributes\":{},\"id\":\"9a585f57-987f-4f5b-99bf-cbe0f65318b3\",\"type\":\"Selection\"},{\"attributes\":{\"callback\":null,\"end\":0.01,\"start\":1020},\"id\":\"02f9c59e-04d2-4c28-8e1b-bd4a00a4f346\",\"type\":\"Range1d\"},{\"attributes\":{},\"id\":\"ec5aeb7c-6502-4d97-bc51-bbcd870c1788\",\"type\":\"UnionRenderers\"},{\"attributes\":{\"callback\":null,\"end\":0.0049920828543281,\"start\":-5.76978871381e-05},\"id\":\"91f22351-898d-40df-ae45-8ac7cf098f73\",\"type\":\"Range1d\"},{\"attributes\":{},\"id\":\"2661a023-3af3-4a0a-9e00-7f0e0dbfcc11\",\"type\":\"Selection\"},{\"attributes\":{},\"id\":\"654f6746-3bba-4b54-a05d-983893355ffd\",\"type\":\"UnionRenderers\"},{\"attributes\":{\"toolbar\":{\"id\":\"a0b53dfc-3860-458a-9046-89044070c48c\",\"type\":\"ProxyToolbar\"},\"toolbar_location\":\"above\"},\"id\":\"6da4dcf8-da09-43c4-8d2c-11f01707246c\",\"type\":\"ToolbarBox\"},{\"attributes\":{},\"id\":\"feb80945-e334-4d2b-927c-db8b5d1328eb\",\"type\":\"UnionRenderers\"},{\"attributes\":{},\"id\":\"2c444525-54b2-4aca-8d62-c1c3ccdfe788\",\"type\":\"Selection\"},{\"attributes\":{\"items\":[{\"id\":\"0736d243-9c2f-4d07-9d73-fab1603d228f\",\"type\":\"LegendItem\"},{\"id\":\"fd201059-bf8e-4f2b-ba84-a9ee091fd330\",\"type\":\"LegendItem\"},{\"id\":\"d1876551-572e-4ccc-8206-8a036d8f359b\",\"type\":\"LegendItem\"}],\"label_text_font_size\":{\"value\":\"8pt\"},\"location\":\"top_center\",\"orientation\":\"horizontal\",\"plot\":{\"id\":\"12562a05-dcb9-43ab-812e-b8a40c71d637\",\"subtype\":\"Figure\",\"type\":\"Plot\"}},\"id\":\"cfdc195e-3402-4eb3-a53d-18140d1708a3\",\"type\":\"Legend\"},{\"attributes\":{},\"id\":\"411692bb-d640-4e01-8707-0368e34b4120\",\"type\":\"Selection\"},{\"attributes\":{},\"id\":\"56f06b06-7e3e-4c28-90cb-405f657bac65\",\"type\":\"BasicTicker\"},{\"attributes\":{\"active_drag\":\"auto\",\"active_inspect\":\"auto\",\"active_scroll\":\"auto\",\"active_tap\":\"auto\",\"tools\":[{\"id\":\"23c78ab8-a1d8-41c5-b4a3-f328f43f273d\",\"type\":\"PanTool\"},{\"id\":\"cc90b2fb-5918-43ff-b0c9-16d137b87e75\",\"type\":\"WheelZoomTool\"},{\"id\":\"7865e8bd-a0ee-401f-b61a-add7806af740\",\"type\":\"BoxZoomTool\"},{\"id\":\"81761798-04df-4858-baf6-9e1ecceed31e\",\"type\":\"SaveTool\"},{\"id\":\"a91691e3-d744-4562-b604-9ee5c299dea1\",\"type\":\"ResetTool\"},{\"id\":\"07dfb428-972e-40ab-8ac6-0a1f93285cd9\",\"type\":\"HelpTool\"}]},\"id\":\"26c78963-7f80-4fd0-a4de-8153fd798d3d\",\"type\":\"Toolbar\"},{\"attributes\":{},\"id\":\"64f88ae9-8a82-4659-90c6-c06aba1ce89c\",\"type\":\"LinearScale\"},{\"attributes\":{\"children\":[{\"id\":\"6da4dcf8-da09-43c4-8d2c-11f01707246c\",\"type\":\"ToolbarBox\"},{\"id\":\"031e2235-0ff6-486c-989c-29c397b46c73\",\"type\":\"Column\"}]},\"id\":\"e8ae97ef-81a2-40ee-86ce-e5836dfc7587\",\"type\":\"Column\"},{\"attributes\":{},\"id\":\"4e21c2b2-a946-4311-af3b-7b5026f59187\",\"type\":\"BasicTicker\"},{\"attributes\":{\"above\":[{\"id\":\"cfdc195e-3402-4eb3-a53d-18140d1708a3\",\"type\":\"Legend\"}],\"below\":[{\"id\":\"bb06fc5b-34bb-402b-9bb5-b747f47392cd\",\"type\":\"LinearAxis\"}],\"left\":[{\"id\":\"846979d4-a8e4-4716-84dd-f85b114ff1a7\",\"type\":\"LinearAxis\"}],\"plot_height\":500,\"plot_width\":400,\"renderers\":[{\"id\":\"bb06fc5b-34bb-402b-9bb5-b747f47392cd\",\"type\":\"LinearAxis\"},{\"id\":\"5a83a9f1-260d-45bd-a8b2-b075dd87284d\",\"type\":\"Grid\"},{\"id\":\"846979d4-a8e4-4716-84dd-f85b114ff1a7\",\"type\":\"LinearAxis\"},{\"id\":\"87b8752c-f9fd-4e7e-9252-826b5dd18d88\",\"type\":\"Grid\"},{\"id\":\"6c3937f2-88de-46f7-9119-77b074d677ff\",\"type\":\"BoxAnnotation\"},{\"id\":\"5c3745a1-bf28-42e5-84fc-437a8ff3915b\",\"type\":\"GlyphRenderer\"},{\"id\":\"b8b5f088-5a02-4362-ba18-e06bfd9261ab\",\"type\":\"GlyphRenderer\"},{\"id\":\"e7c66b7c-c883-4e44-be62-25e3be19ae69\",\"type\":\"GlyphRenderer\"},{\"id\":\"58529394-d3ca-417d-8bf3-c03e33230d74\",\"type\":\"GlyphRenderer\"},{\"id\":\"f0d3f00d-1622-4f82-9d25-3bedf93b5b39\",\"type\":\"GlyphRenderer\"},{\"id\":\"0199dfc9-afd0-4116-92c5-a1af797fc4fe\",\"type\":\"GlyphRenderer\"},{\"id\":\"cfdc195e-3402-4eb3-a53d-18140d1708a3\",\"type\":\"Legend\"}],\"title\":{\"id\":\"f100ac31-fcad-4beb-a699-74523ad344f2\",\"type\":\"Title\"},\"toolbar\":{\"id\":\"26c78963-7f80-4fd0-a4de-8153fd798d3d\",\"type\":\"Toolbar\"},\"toolbar_location\":null,\"x_range\":{\"id\":\"91f22351-898d-40df-ae45-8ac7cf098f73\",\"type\":\"Range1d\"},\"x_scale\":{\"id\":\"64f88ae9-8a82-4659-90c6-c06aba1ce89c\",\"type\":\"LinearScale\"},\"y_range\":{\"id\":\"02f9c59e-04d2-4c28-8e1b-bd4a00a4f346\",\"type\":\"Range1d\"},\"y_scale\":{\"id\":\"1337e81c-8889-4c8c-b222-1ca502245c47\",\"type\":\"LinearScale\"}},\"id\":\"12562a05-dcb9-43ab-812e-b8a40c71d637\",\"subtype\":\"Figure\",\"type\":\"Plot\"},{\"attributes\":{\"dimension\":1,\"plot\":{\"id\":\"12562a05-dcb9-43ab-812e-b8a40c71d637\",\"subtype\":\"Figure\",\"type\":\"Plot\"},\"ticker\":{\"id\":\"4e21c2b2-a946-4311-af3b-7b5026f59187\",\"type\":\"BasicTicker\"}},\"id\":\"87b8752c-f9fd-4e7e-9252-826b5dd18d88\",\"type\":\"Grid\"},{\"attributes\":{},\"id\":\"77a96134-834e-46a7-b021-e358d15c98e2\",\"type\":\"UnionRenderers\"},{\"attributes\":{\"tools\":[{\"id\":\"23c78ab8-a1d8-41c5-b4a3-f328f43f273d\",\"type\":\"PanTool\"},{\"id\":\"cc90b2fb-5918-43ff-b0c9-16d137b87e75\",\"type\":\"WheelZoomTool\"},{\"id\":\"7865e8bd-a0ee-401f-b61a-add7806af740\",\"type\":\"BoxZoomTool\"},{\"id\":\"81761798-04df-4858-baf6-9e1ecceed31e\",\"type\":\"SaveTool\"},{\"id\":\"a91691e3-d744-4562-b604-9ee5c299dea1\",\"type\":\"ResetTool\"},{\"id\":\"07dfb428-972e-40ab-8ac6-0a1f93285cd9\",\"type\":\"HelpTool\"},{\"id\":\"d49e72b0-aac8-4d78-9082-7bc8f870f25e\",\"type\":\"PanTool\"},{\"id\":\"0c5044e1-408e-40b9-b404-45a88423afd2\",\"type\":\"WheelZoomTool\"},{\"id\":\"a188dfa3-3db9-423b-b643-12ff2f271604\",\"type\":\"BoxZoomTool\"},{\"id\":\"9bea7c8f-de11-4ff6-9115-7aa1163784b5\",\"type\":\"SaveTool\"},{\"id\":\"3fd8cf64-f3cb-46aa-9a5d-5de589b35736\",\"type\":\"ResetTool\"},{\"id\":\"b547906f-91e4-482a-a254-facfd0f1464e\",\"type\":\"HelpTool\"}]},\"id\":\"a0b53dfc-3860-458a-9046-89044070c48c\",\"type\":\"ProxyToolbar\"},{\"attributes\":{},\"id\":\"0940ef42-59dc-49e9-936b-afacb15a3414\",\"type\":\"Selection\"},{\"attributes\":{\"axis_label\":\"pressure [mb]\",\"formatter\":{\"id\":\"ee4ecdec-481e-4cff-864b-539a8c07c10d\",\"type\":\"BasicTickFormatter\"},\"plot\":{\"id\":\"12562a05-dcb9-43ab-812e-b8a40c71d637\",\"subtype\":\"Figure\",\"type\":\"Plot\"},\"ticker\":{\"id\":\"4e21c2b2-a946-4311-af3b-7b5026f59187\",\"type\":\"BasicTicker\"}},\"id\":\"846979d4-a8e4-4716-84dd-f85b114ff1a7\",\"type\":\"LinearAxis\"},{\"attributes\":{\"axis_label\":\"cooling rate [K/day]\",\"formatter\":{\"id\":\"633b07e0-85fa-4fac-a9b3-a904615c13d9\",\"type\":\"BasicTickFormatter\"},\"plot\":{\"id\":\"12562a05-dcb9-43ab-812e-b8a40c71d637\",\"subtype\":\"Figure\",\"type\":\"Plot\"},\"ticker\":{\"id\":\"56f06b06-7e3e-4c28-90cb-405f657bac65\",\"type\":\"BasicTicker\"}},\"id\":\"bb06fc5b-34bb-402b-9bb5-b747f47392cd\",\"type\":\"LinearAxis\"},{\"attributes\":{\"plot\":{\"id\":\"12562a05-dcb9-43ab-812e-b8a40c71d637\",\"subtype\":\"Figure\",\"type\":\"Plot\"},\"ticker\":{\"id\":\"56f06b06-7e3e-4c28-90cb-405f657bac65\",\"type\":\"BasicTicker\"}},\"id\":\"5a83a9f1-260d-45bd-a8b2-b075dd87284d\",\"type\":\"Grid\"},{\"attributes\":{},\"id\":\"1337e81c-8889-4c8c-b222-1ca502245c47\",\"type\":\"LinearScale\"},{\"attributes\":{},\"id\":\"3fd8cf64-f3cb-46aa-9a5d-5de589b35736\",\"type\":\"ResetTool\"},{\"attributes\":{\"fill_alpha\":{\"value\":0.1},\"fill_color\":{\"value\":\"#1f77b4\"},\"line_alpha\":{\"value\":0.1},\"line_color\":{\"value\":\"#1f77b4\"},\"x\":{\"field\":\"x\"},\"y\":{\"field\":\"y\"}},\"id\":\"54cfeb49-e339-4dca-986d-bb9f057dab12\",\"type\":\"Circle\"},{\"attributes\":{\"callback\":null,\"data\":{\"x\":{\"__ndarray__\":\"voQraR8xvb5sjk2mPmC8vi5KfD9b9Lm+i24+HFIqtr6cs2XOjbKwvoQf4uljX6K+ZK3Aet+XaT4zzVyjxJqrPh+o2c2aar4+ncjsvJWsyT57yiRTJFvTPqqzJAYzZds+WRKRHSSX4j4vUVyGA8fnPt3FpsHXaOw+JNMC7T9z8D46cALiXO/yPhUsj1zCsPU+pT9twgS++D7z2Oetyhz8PjTQ42wUcP8+CxemrrLQ/D7CrvVDZc/zPp2Mxf6Km+c+MUZA+FyA2T4bYBuI/XHGPulLYokG8qE+FDAQtGmYpL7K5zm4jxyzvthPR0A88be+wqeWAigLu76zeYoCbwS9vihEIOuUhL2+ULEKyI8Lvb7onqcnJzW8vlXNVzI9Kru+VpbTv29Tur5/8YYdl3i6vtXVv5Bon8K+IHS0QxXiyL6P64BXqjzQvsiYAX/EcNO+gP9tXQDD1r6Gv3RZ/Lvavto8ePuPLN++IWOuBhkt4b4Q3JXVrJ7gvs+neMkhc9m+BRZUVwjIxr7noM4mYlDgPp0So9UP+wA/ESOrhXW3FD9J5ieNNIEkPxWvu8dy6DE/ApSeAZifPD/1rUuUcVZFP9tT80M7EE4/HulBqqYtVD/e+VK+wvpZP3djU7lFIGA/VCrsQalkYz9/6ujxirBmP76gvP7+62k/k6lou50EbT/NsVYS9O5vP0xxr23FTnE/5EaHQxOBcj8iMGmbAX9zP92JulgWIXQ/p+p4bao+dD+cawnStJ9zPyJJrwCiYnI/G6q58C4CcT86navYi05vP8JhDGhRwmw/\",\"dtype\":\"float64\",\"shape\":[75]},\"y\":{\"__ndarray__\":\"GhExyth1ND/Sv8nbtpRIP2vylNV0PVE/aTum7souWD/At0SJ8fVgPw3Iuahxymc/MSNhhJWvcD/bTfBN02d3P2zb5nxnaoA/CD5h5MAGhz8NmeH1TyaQP+zrCsc9p5Y/LbKd76fGnz/bLW5ISEmmPww9YvTcQq8/JV2OstnstT8Er5Y7M8G+P0c+r3jqkcU/5h99k6ZBzj88bCIzFzjVP4enV8oyxN0//yH99nXg5D8qOpLLf0jtP5kqGJXUifQ/c9cS8kHP/D+/DpwzojQEQIEmwoanVwxA4lgXt9HgE0BSSZ2AJuIbQAMJih9jjiNA5q4l5INuK0AwTKYKRj0zQNv5fmq8/DpAaCJseHrtQkB/+zpwzoxKQM3MzMzMeFJAZmZmZmZqWEAAAAAAAFxeQM3MzMzMJmJAmpmZmZkfZUBmZmZmZhhoQDMzMzMzEWtAAAAAAAAKbkBmZmZmZoFwQM3MzMzM/XFAMzMzMzN6c0CamZmZmfZ0QAAAAAAAc3ZAZmZmZmbvd0DNzMzMzGt5QDMzMzMz6HpAmpmZmZlkfEAAAAAAAOF9QGZmZmZmXX9AZmZmZuZsgECamZmZGSuBQM3MzMxM6YFAAAAAAICngkAzMzMzs2WDQGZmZmbmI4RAmpmZmRnihEDNzMzMTKCFQAAAAACAXoZAMzMzM7Mch0BmZmZm5tqHQJqZmZkZmYhAzczMzExXiUAAAAAAgBWKQDMzMzOz04pAZmZmZuaRi0CamZmZGVCMQM3MzMxMDo1AAAAAAIDMjUAzMzMzs4qOQGZmZmbmSI9A\",\"dtype\":\"float64\",\"shape\":[75]}},\"selected\":{\"id\":\"02abaf91-1d56-4af1-b55f-24aa1c2d44c1\",\"type\":\"Selection\"},\"selection_policy\":{\"id\":\"da15b678-66d9-49c2-aa69-4c361155f858\",\"type\":\"UnionRenderers\"}},\"id\":\"26788289-2c0a-4c5e-9af9-f972ebb6871e\",\"type\":\"ColumnDataSource\"},{\"attributes\":{},\"id\":\"96765204-7f38-4160-af63-a2975960833f\",\"type\":\"Selection\"},{\"attributes\":{\"data_source\":{\"id\":\"26788289-2c0a-4c5e-9af9-f972ebb6871e\",\"type\":\"ColumnDataSource\"},\"glyph\":{\"id\":\"a3fb096f-d4f0-46a1-818d-e33260085b9e\",\"type\":\"Circle\"},\"hover_glyph\":null,\"muted_glyph\":null,\"nonselection_glyph\":{\"id\":\"54cfeb49-e339-4dca-986d-bb9f057dab12\",\"type\":\"Circle\"},\"selection_glyph\":null,\"view\":{\"id\":\"3a1d8f7d-8186-4f2c-b521-5d2c09091622\",\"type\":\"CDSView\"}},\"id\":\"5c3745a1-bf28-42e5-84fc-437a8ff3915b\",\"type\":\"GlyphRenderer\"},{\"attributes\":{\"line_color\":\"#4daf4a\",\"line_width\":1.5,\"x\":{\"field\":\"x\"},\"y\":{\"field\":\"y\"}},\"id\":\"de1b90f6-3263-4512-8881-645585fc6833\",\"type\":\"Line\"},{\"attributes\":{\"fill_alpha\":{\"value\":0.7},\"fill_color\":{\"value\":\"#984ea3\"},\"line_alpha\":{\"value\":0.7},\"line_color\":{\"value\":\"#984ea3\"},\"x\":{\"field\":\"x\"},\"y\":{\"field\":\"y\"}},\"id\":\"7d72cd0f-f910-4985-984e-73c0b70fcd2b\",\"type\":\"Square\"},{\"attributes\":{\"bottom_units\":\"screen\",\"fill_alpha\":{\"value\":0.5},\"fill_color\":{\"value\":\"lightgrey\"},\"left_units\":\"screen\",\"level\":\"overlay\",\"line_alpha\":{\"value\":1.0},\"line_color\":{\"value\":\"black\"},\"line_dash\":[4,4],\"line_width\":{\"value\":2},\"plot\":null,\"render_mode\":\"css\",\"right_units\":\"screen\",\"top_units\":\"screen\"},\"id\":\"6c3937f2-88de-46f7-9119-77b074d677ff\",\"type\":\"BoxAnnotation\"},{\"attributes\":{\"callback\":null,\"data\":{\"x\":{\"__ndarray__\":\"voQraR8xvb5sjk2mPmC8vi5KfD9b9Lm+i24+HFIqtr6cs2XOjbKwvoQf4uljX6K+ZK3Aet+XaT4zzVyjxJqrPh+o2c2aar4+ncjsvJWsyT57yiRTJFvTPqqzJAYzZds+WRKRHSSX4j4vUVyGA8fnPt3FpsHXaOw+JNMC7T9z8D46cALiXO/yPhUsj1zCsPU+pT9twgS++D7z2Oetyhz8PjTQ42wUcP8+CxemrrLQ/D7CrvVDZc/zPp2Mxf6Km+c+MUZA+FyA2T4bYBuI/XHGPulLYokG8qE+FDAQtGmYpL7K5zm4jxyzvthPR0A88be+wqeWAigLu76zeYoCbwS9vihEIOuUhL2+ULEKyI8Lvb7onqcnJzW8vlXNVzI9Kru+VpbTv29Tur5/8YYdl3i6vtXVv5Bon8K+IHS0QxXiyL6P64BXqjzQvsiYAX/EcNO+gP9tXQDD1r6Gv3RZ/Lvavto8ePuPLN++IWOuBhkt4b4Q3JXVrJ7gvs+neMkhc9m+BRZUVwjIxr7noM4mYlDgPp0So9UP+wA/ESOrhXW3FD9J5ieNNIEkPxWvu8dy6DE/ApSeAZifPD/1rUuUcVZFP9tT80M7EE4/HulBqqYtVD/e+VK+wvpZP3djU7lFIGA/VCrsQalkYz9/6ujxirBmP76gvP7+62k/k6lou50EbT/NsVYS9O5vP0xxr23FTnE/5EaHQxOBcj8iMGmbAX9zP92JulgWIXQ/p+p4bao+dD+cawnStJ9zPyJJrwCiYnI/G6q58C4CcT86navYi05vP8JhDGhRwmw/\",\"dtype\":\"float64\",\"shape\":[75]},\"y\":{\"__ndarray__\":\"GhExyth1ND/Sv8nbtpRIP2vylNV0PVE/aTum7souWD/At0SJ8fVgPw3Iuahxymc/MSNhhJWvcD/bTfBN02d3P2zb5nxnaoA/CD5h5MAGhz8NmeH1TyaQP+zrCsc9p5Y/LbKd76fGnz/bLW5ISEmmPww9YvTcQq8/JV2OstnstT8Er5Y7M8G+P0c+r3jqkcU/5h99k6ZBzj88bCIzFzjVP4enV8oyxN0//yH99nXg5D8qOpLLf0jtP5kqGJXUifQ/c9cS8kHP/D+/DpwzojQEQIEmwoanVwxA4lgXt9HgE0BSSZ2AJuIbQAMJih9jjiNA5q4l5INuK0AwTKYKRj0zQNv5fmq8/DpAaCJseHrtQkB/+zpwzoxKQM3MzMzMeFJAZmZmZmZqWEAAAAAAAFxeQM3MzMzMJmJAmpmZmZkfZUBmZmZmZhhoQDMzMzMzEWtAAAAAAAAKbkBmZmZmZoFwQM3MzMzM/XFAMzMzMzN6c0CamZmZmfZ0QAAAAAAAc3ZAZmZmZmbvd0DNzMzMzGt5QDMzMzMz6HpAmpmZmZlkfEAAAAAAAOF9QGZmZmZmXX9AZmZmZuZsgECamZmZGSuBQM3MzMxM6YFAAAAAAICngkAzMzMzs2WDQGZmZmbmI4RAmpmZmRnihEDNzMzMTKCFQAAAAACAXoZAMzMzM7Mch0BmZmZm5tqHQJqZmZkZmYhAzczMzExXiUAAAAAAgBWKQDMzMzOz04pAZmZmZuaRi0CamZmZGVCMQM3MzMxMDo1AAAAAAIDMjUAzMzMzs4qOQGZmZmbmSI9A\",\"dtype\":\"float64\",\"shape\":[75]}},\"selected\":{\"id\":\"2c444525-54b2-4aca-8d62-c1c3ccdfe788\",\"type\":\"Selection\"},\"selection_policy\":{\"id\":\"feb80945-e334-4d2b-927c-db8b5d1328eb\",\"type\":\"UnionRenderers\"}},\"id\":\"f1b6860d-c0d8-46c3-bb24-0c1a198ad3a4\",\"type\":\"ColumnDataSource\"},{\"attributes\":{},\"id\":\"da15b678-66d9-49c2-aa69-4c361155f858\",\"type\":\"UnionRenderers\"},{\"attributes\":{\"fill_alpha\":{\"value\":0.7},\"fill_color\":{\"value\":\"#4daf4a\"},\"line_alpha\":{\"value\":0.7},\"line_color\":{\"value\":\"#4daf4a\"},\"x\":{\"field\":\"x\"},\"y\":{\"field\":\"y\"}},\"id\":\"a3fb096f-d4f0-46a1-818d-e33260085b9e\",\"type\":\"Circle\"},{\"attributes\":{\"data_source\":{\"id\":\"93b8aa23-96c7-445a-a549-27ce94757a19\",\"type\":\"ColumnDataSource\"},\"glyph\":{\"id\":\"de1b90f6-3263-4512-8881-645585fc6833\",\"type\":\"Line\"},\"hover_glyph\":null,\"muted_glyph\":null,\"nonselection_glyph\":{\"id\":\"1504c122-69d5-41ca-95a1-3ec9b1d7f367\",\"type\":\"Line\"},\"selection_glyph\":null,\"view\":{\"id\":\"5d618ad6-aee7-41e8-9ad1-cf288689d8ce\",\"type\":\"CDSView\"}},\"id\":\"b8b5f088-5a02-4362-ba18-e06bfd9261ab\",\"type\":\"GlyphRenderer\"},{\"attributes\":{\"line_alpha\":0.1,\"line_color\":\"#1f77b4\",\"line_width\":1.5,\"x\":{\"field\":\"x\"},\"y\":{\"field\":\"y\"}},\"id\":\"d60874e1-2f67-4a00-ac79-eeac724df676\",\"type\":\"Line\"},{\"attributes\":{\"source\":{\"id\":\"93b8aa23-96c7-445a-a549-27ce94757a19\",\"type\":\"ColumnDataSource\"}},\"id\":\"5d618ad6-aee7-41e8-9ad1-cf288689d8ce\",\"type\":\"CDSView\"},{\"attributes\":{\"callback\":null,\"data\":{\"x\":{\"__ndarray__\":\"qdMLq1C3sr58BhIqKGCyvuYpKtngQrG+2fT31n7nrr4AM6HNdZepvsHWYO+JM6K+hsigu/mKkL6cWjOPkuKCPsE71oqBZqU+4fhbEeY9tT5QvC81tjPBPiLbAG2hVck+m2VzIaOf0T5yiaPfxuLWPjkWiOJRl9s+NnC88GcU4D5ERaWubpziPjvoqgR3bOU+J9N2b22L6D4nlgscoADsPkRtFvJ8bu8+iRyx4iHO7D6XJbHZdafjPtNLZmimAdc+iJOwvfLfxz5uV6RCMpayPjWas7Z7cUM+yb6FMZioo77LK9AsETCtvstTbHhUYbG+h90JwBtms76BLKZiOeG0vtcAB+fxurW+qkfCZ0APtr6i/9Y8IC22vikONSw3K7a+Q3oCZD0mtr6/BduwErq2vnVdMnwHMMC+e0ye9lrYxb6dWQxRKrLMvlcEwqcsRtG+jAglLFlK1L5BE4ApLeLXvr6XJcUg6Nu+O07VpGjn3r75Os198FvevpVw6kACS9i+bB3Jgj+ZzL5CXNSDZHvUPhDx2nOSPfo+AlVGPrnUED+3PWpvhBEhP5yEkhmgXS4/unTi5s2dOD9JN78QDIFCPw0uSdZ4VUo/GKX1vDLTUT9qsyQ1zCFXPyRUP+7r41w/oBosDwl6YT9OdNhYUY1kP3LZShdvlGc/VPjVfep7aj9ihcnpWDdtP+cFbqWuu28/O5z/atz6cD+2OHnGROdxP2RQVh3MfnI/l6mInemhcj/OuuUzMBxyP/IbnpaKCnE/hf5mZKWubz+I/t+J/1FtP0eVnTCOFGs/\",\"dtype\":\"float64\",\"shape\":[75]},\"y\":{\"__ndarray__\":\"GhExyth1ND/Sv8nbtpRIP2vylNV0PVE/aTum7souWD/At0SJ8fVgPw3Iuahxymc/MSNhhJWvcD/bTfBN02d3P2zb5nxnaoA/CD5h5MAGhz8NmeH1TyaQP+zrCsc9p5Y/LbKd76fGnz/bLW5ISEmmPww9YvTcQq8/JV2OstnstT8Er5Y7M8G+P0c+r3jqkcU/5h99k6ZBzj88bCIzFzjVP4enV8oyxN0//yH99nXg5D8qOpLLf0jtP5kqGJXUifQ/c9cS8kHP/D+/DpwzojQEQIEmwoanVwxA4lgXt9HgE0BSSZ2AJuIbQAMJih9jjiNA5q4l5INuK0AwTKYKRj0zQNv5fmq8/DpAaCJseHrtQkB/+zpwzoxKQM3MzMzMeFJAZmZmZmZqWEAAAAAAAFxeQM3MzMzMJmJAmpmZmZkfZUBmZmZmZhhoQDMzMzMzEWtAAAAAAAAKbkBmZmZmZoFwQM3MzMzM/XFAMzMzMzN6c0CamZmZmfZ0QAAAAAAAc3ZAZmZmZmbvd0DNzMzMzGt5QDMzMzMz6HpAmpmZmZlkfEAAAAAAAOF9QGZmZmZmXX9AZmZmZuZsgECamZmZGSuBQM3MzMxM6YFAAAAAAICngkAzMzMzs2WDQGZmZmbmI4RAmpmZmRnihEDNzMzMTKCFQAAAAACAXoZAMzMzM7Mch0BmZmZm5tqHQJqZmZkZmYhAzczMzExXiUAAAAAAgBWKQDMzMzOz04pAZmZmZuaRi0CamZmZGVCMQM3MzMxMDo1AAAAAAIDMjUAzMzMzs4qOQGZmZmbmSI9A\",\"dtype\":\"float64\",\"shape\":[75]}},\"selected\":{\"id\":\"deaf2e93-82d9-4e64-849a-c556a941a622\",\"type\":\"Selection\"},\"selection_policy\":{\"id\":\"dcc69d6a-bd28-4116-873b-6ea5b38277d1\",\"type\":\"UnionRenderers\"}},\"id\":\"2004d72e-4a50-4ba8-92cb-a897d3ca6f81\",\"type\":\"ColumnDataSource\"},{\"attributes\":{\"data_source\":{\"id\":\"2004d72e-4a50-4ba8-92cb-a897d3ca6f81\",\"type\":\"ColumnDataSource\"},\"glyph\":{\"id\":\"2576d573-0844-403b-b1a6-7add7c4603d8\",\"type\":\"Square\"},\"hover_glyph\":null,\"muted_glyph\":null,\"nonselection_glyph\":{\"id\":\"f541aa44-af54-4666-beb3-4c6272a1ac63\",\"type\":\"Square\"},\"selection_glyph\":null,\"view\":{\"id\":\"313b3fb8-ad2e-46f0-ae67-7ae7909acc92\",\"type\":\"CDSView\"}},\"id\":\"e7c66b7c-c883-4e44-be62-25e3be19ae69\",\"type\":\"GlyphRenderer\"},{\"attributes\":{\"source\":{\"id\":\"2004d72e-4a50-4ba8-92cb-a897d3ca6f81\",\"type\":\"ColumnDataSource\"}},\"id\":\"313b3fb8-ad2e-46f0-ae67-7ae7909acc92\",\"type\":\"CDSView\"},{\"attributes\":{\"data_source\":{\"id\":\"30bafb9a-1bd6-401a-8f0a-69aed0aa4053\",\"type\":\"ColumnDataSource\"},\"glyph\":{\"id\":\"837f8b69-9d0d-42a7-89c1-2f4086ca3ac3\",\"type\":\"Circle\"},\"hover_glyph\":null,\"muted_glyph\":null,\"nonselection_glyph\":{\"id\":\"8dcd29eb-f89c-4079-86a0-f80f81d48463\",\"type\":\"Circle\"},\"selection_glyph\":null,\"view\":{\"id\":\"b95bed3f-b979-4039-a752-adc82f54a003\",\"type\":\"CDSView\"}},\"id\":\"5a970945-7737-4393-92ff-c4c1369d0e5c\",\"type\":\"GlyphRenderer\"},{\"attributes\":{\"line_alpha\":0.1,\"line_color\":\"#1f77b4\",\"line_width\":1.5,\"x\":{\"field\":\"x\"},\"y\":{\"field\":\"y\"}},\"id\":\"1504c122-69d5-41ca-95a1-3ec9b1d7f367\",\"type\":\"Line\"},{\"attributes\":{\"fill_alpha\":{\"value\":0.7},\"fill_color\":{\"value\":\"#984ea3\"},\"line_alpha\":{\"value\":0.7},\"line_color\":{\"value\":\"#984ea3\"},\"x\":{\"field\":\"x\"},\"y\":{\"field\":\"y\"}},\"id\":\"2576d573-0844-403b-b1a6-7add7c4603d8\",\"type\":\"Square\"},{\"attributes\":{\"fill_alpha\":{\"value\":0.1},\"fill_color\":{\"value\":\"#1f77b4\"},\"line_alpha\":{\"value\":0.1},\"line_color\":{\"value\":\"#1f77b4\"},\"x\":{\"field\":\"x\"},\"y\":{\"field\":\"y\"}},\"id\":\"b0c0c88c-709f-4e79-a033-ce241e444870\",\"type\":\"Square\"},{\"attributes\":{},\"id\":\"02abaf91-1d56-4af1-b55f-24aa1c2d44c1\",\"type\":\"Selection\"},{\"attributes\":{\"source\":{\"id\":\"23846f15-aed3-4c94-a913-a1fec4a927a5\",\"type\":\"ColumnDataSource\"}},\"id\":\"e8bcc1be-d222-4875-8476-c208c496fff9\",\"type\":\"CDSView\"},{\"attributes\":{\"callback\":null,\"data\":{\"x\":{\"__ndarray__\":\"voQraR8xvb5sjk2mPmC8vi5KfD9b9Lm+i24+HFIqtr6cs2XOjbKwvoQf4uljX6K+ZK3Aet+XaT4zzVyjxJqrPh+o2c2aar4+ncjsvJWsyT57yiRTJFvTPqqzJAYzZds+WRKRHSSX4j4vUVyGA8fnPt3FpsHXaOw+JNMC7T9z8D46cALiXO/yPhUsj1zCsPU+pT9twgS++D7z2Oetyhz8PjTQ42wUcP8+CxemrrLQ/D7CrvVDZc/zPp2Mxf6Km+c+MUZA+FyA2T4bYBuI/XHGPulLYokG8qE+FDAQtGmYpL7K5zm4jxyzvthPR0A88be+wqeWAigLu76zeYoCbwS9vihEIOuUhL2+ULEKyI8Lvb7onqcnJzW8vlXNVzI9Kru+VpbTv29Tur5/8YYdl3i6vtXVv5Bon8K+IHS0QxXiyL6P64BXqjzQvsiYAX/EcNO+gP9tXQDD1r6Gv3RZ/Lvavto8ePuPLN++IWOuBhkt4b4Q3JXVrJ7gvs+neMkhc9m+BRZUVwjIxr7noM4mYlDgPp0So9UP+wA/ESOrhXW3FD9J5ieNNIEkPxWvu8dy6DE/ApSeAZifPD/1rUuUcVZFP9tT80M7EE4/HulBqqYtVD/e+VK+wvpZP3djU7lFIGA/VCrsQalkYz9/6ujxirBmP76gvP7+62k/k6lou50EbT/NsVYS9O5vP0xxr23FTnE/5EaHQxOBcj8iMGmbAX9zP92JulgWIXQ/p+p4bao+dD+cawnStJ9zPyJJrwCiYnI/G6q58C4CcT86navYi05vP8JhDGhRwmw/\",\"dtype\":\"float64\",\"shape\":[75]},\"y\":{\"__ndarray__\":\"GhExyth1ND/Sv8nbtpRIP2vylNV0PVE/aTum7souWD/At0SJ8fVgPw3Iuahxymc/MSNhhJWvcD/bTfBN02d3P2zb5nxnaoA/CD5h5MAGhz8NmeH1TyaQP+zrCsc9p5Y/LbKd76fGnz/bLW5ISEmmPww9YvTcQq8/JV2OstnstT8Er5Y7M8G+P0c+r3jqkcU/5h99k6ZBzj88bCIzFzjVP4enV8oyxN0//yH99nXg5D8qOpLLf0jtP5kqGJXUifQ/c9cS8kHP/D+/DpwzojQEQIEmwoanVwxA4lgXt9HgE0BSSZ2AJuIbQAMJih9jjiNA5q4l5INuK0AwTKYKRj0zQNv5fmq8/DpAaCJseHrtQkB/+zpwzoxKQM3MzMzMeFJAZmZmZmZqWEAAAAAAAFxeQM3MzMzMJmJAmpmZmZkfZUBmZmZmZhhoQDMzMzMzEWtAAAAAAAAKbkBmZmZmZoFwQM3MzMzM/XFAMzMzMzN6c0CamZmZmfZ0QAAAAAAAc3ZAZmZmZmbvd0DNzMzMzGt5QDMzMzMz6HpAmpmZmZlkfEAAAAAAAOF9QGZmZmZmXX9AZmZmZuZsgECamZmZGSuBQM3MzMxM6YFAAAAAAICngkAzMzMzs2WDQGZmZmbmI4RAmpmZmRnihEDNzMzMTKCFQAAAAACAXoZAMzMzM7Mch0BmZmZm5tqHQJqZmZkZmYhAzczMzExXiUAAAAAAgBWKQDMzMzOz04pAZmZmZuaRi0CamZmZGVCMQM3MzMxMDo1AAAAAAIDMjUAzMzMzs4qOQGZmZmbmSI9A\",\"dtype\":\"float64\",\"shape\":[75]}},\"selected\":{\"id\":\"96765204-7f38-4160-af63-a2975960833f\",\"type\":\"Selection\"},\"selection_policy\":{\"id\":\"36a742b1-8638-4675-8e39-94178f2d966e\",\"type\":\"UnionRenderers\"}},\"id\":\"93b8aa23-96c7-445a-a549-27ce94757a19\",\"type\":\"ColumnDataSource\"},{\"attributes\":{\"line_alpha\":0.6,\"line_color\":\"#984ea3\",\"line_width\":3,\"x\":{\"field\":\"x\"},\"y\":{\"field\":\"y\"}},\"id\":\"4f0ce7c6-1377-4407-a2fc-908a16853104\",\"type\":\"Line\"},{\"attributes\":{\"source\":{\"id\":\"f1b6860d-c0d8-46c3-bb24-0c1a198ad3a4\",\"type\":\"ColumnDataSource\"}},\"id\":\"e29b0d5a-241e-4a4c-a666-084069323f07\",\"type\":\"CDSView\"},{\"attributes\":{\"callback\":null,\"data\":{\"x\":{\"__ndarray__\":\"qdMLq1C3sr58BhIqKGCyvuYpKtngQrG+2fT31n7nrr4AM6HNdZepvsHWYO+JM6K+hsigu/mKkL6cWjOPkuKCPsE71oqBZqU+4fhbEeY9tT5QvC81tjPBPiLbAG2hVck+m2VzIaOf0T5yiaPfxuLWPjkWiOJRl9s+NnC88GcU4D5ERaWubpziPjvoqgR3bOU+J9N2b22L6D4nlgscoADsPkRtFvJ8bu8+iRyx4iHO7D6XJbHZdafjPtNLZmimAdc+iJOwvfLfxz5uV6RCMpayPjWas7Z7cUM+yb6FMZioo77LK9AsETCtvstTbHhUYbG+h90JwBtms76BLKZiOeG0vtcAB+fxurW+qkfCZ0APtr6i/9Y8IC22vikONSw3K7a+Q3oCZD0mtr6/BduwErq2vnVdMnwHMMC+e0ye9lrYxb6dWQxRKrLMvlcEwqcsRtG+jAglLFlK1L5BE4ApLeLXvr6XJcUg6Nu+O07VpGjn3r75Os198FvevpVw6kACS9i+bB3Jgj+ZzL5CXNSDZHvUPhDx2nOSPfo+AlVGPrnUED+3PWpvhBEhP5yEkhmgXS4/unTi5s2dOD9JN78QDIFCPw0uSdZ4VUo/GKX1vDLTUT9qsyQ1zCFXPyRUP+7r41w/oBosDwl6YT9OdNhYUY1kP3LZShdvlGc/VPjVfep7aj9ihcnpWDdtP+cFbqWuu28/O5z/atz6cD+2OHnGROdxP2RQVh3MfnI/l6mInemhcj/OuuUzMBxyP/IbnpaKCnE/hf5mZKWubz+I/t+J/1FtP0eVnTCOFGs/\",\"dtype\":\"float64\",\"shape\":[75]},\"y\":{\"__ndarray__\":\"GhExyth1ND/Sv8nbtpRIP2vylNV0PVE/aTum7souWD/At0SJ8fVgPw3Iuahxymc/MSNhhJWvcD/bTfBN02d3P2zb5nxnaoA/CD5h5MAGhz8NmeH1TyaQP+zrCsc9p5Y/LbKd76fGnz/bLW5ISEmmPww9YvTcQq8/JV2OstnstT8Er5Y7M8G+P0c+r3jqkcU/5h99k6ZBzj88bCIzFzjVP4enV8oyxN0//yH99nXg5D8qOpLLf0jtP5kqGJXUifQ/c9cS8kHP/D+/DpwzojQEQIEmwoanVwxA4lgXt9HgE0BSSZ2AJuIbQAMJih9jjiNA5q4l5INuK0AwTKYKRj0zQNv5fmq8/DpAaCJseHrtQkB/+zpwzoxKQM3MzMzMeFJAZmZmZmZqWEAAAAAAAFxeQM3MzMzMJmJAmpmZmZkfZUBmZmZmZhhoQDMzMzMzEWtAAAAAAAAKbkBmZmZmZoFwQM3MzMzM/XFAMzMzMzN6c0CamZmZmfZ0QAAAAAAAc3ZAZmZmZmbvd0DNzMzMzGt5QDMzMzMz6HpAmpmZmZlkfEAAAAAAAOF9QGZmZmZmXX9AZmZmZuZsgECamZmZGSuBQM3MzMxM6YFAAAAAAICngkAzMzMzs2WDQGZmZmbmI4RAmpmZmRnihEDNzMzMTKCFQAAAAACAXoZAMzMzM7Mch0BmZmZm5tqHQJqZmZkZmYhAzczMzExXiUAAAAAAgBWKQDMzMzOz04pAZmZmZuaRi0CamZmZGVCMQM3MzMxMDo1AAAAAAIDMjUAzMzMzs4qOQGZmZmbmSI9A\",\"dtype\":\"float64\",\"shape\":[75]}},\"selected\":{\"id\":\"4fad9ac2-81f3-4cbb-8a2e-390ccc4a3e60\",\"type\":\"Selection\"},\"selection_policy\":{\"id\":\"2bf28b75-f3af-410e-a0ae-2e2f7549e75b\",\"type\":\"UnionRenderers\"}},\"id\":\"23846f15-aed3-4c94-a913-a1fec4a927a5\",\"type\":\"ColumnDataSource\"},{\"attributes\":{\"callback\":null,\"data\":{\"x\":{\"__ndarray__\":\"FXSHiBXEsL4whdy0hYawvhqSV6SEbq++TD8H93OprL4m/zdBTn6ovgYgSyQ6nKK+X7ZTJCJBlb5AYJjQqcQqvpBO93jE8Zo+dgZ+PCG1rj73gxIYeSa6Pq7LZK6aw8M+5aEiraTvyz4K3ujZdVDSPsM9FWmiNNY+pMTPTcL82T7AxXCUiy7ePsagEQ1HbOE+0npfbTED5D5qKWpsJOLmPpzCgGRpu+k+sgXCM5yM5z5jnXUzI+jfPofKJvdWaNI+BU4zfpOLwj7VDe9lykSqPvG5suB3iX6+4NcB2Ur1o75uK6Ifv5ervvuAkvm8A7C+lRCrYSqdsb4uJUmiZMqyvm+3LLGigrO+6WaUEAXes74Gsrw9lBG0vqH6WJ9hKbS+IpxjtGs5tL7CukjrhcW0vokpE72Pj72+3k9HXg/sw75oCZUvBCXKvrMniHNfbM++rHkYvFNx0r7t1YYaErLVvgui5wQSWdm+VEIzvR1E3L74j/RnxmzcvuSeguPIJNi+PPJDze+Y0b6nhxi+hhjAPl3UQm0cyvI+shnj42U2Cj9YYclJJ6EbPxk6kh3DIyk/EYYR5B+7ND8s3Xziwro/P/zNz5aA3kY/+EiKIIZUTz+kutXRWYpUP4DJJiJ061k/DzgWRWSgXz8lExqUybxiP42eEArxo2U/zb8659dxaD87Ig7QUhhrP4cYVZzoh20/iP34AoKxbz+WHqM+Pb1wPyUPhukbUnE/Dp3umT15cT+XadltZwVxP/RiQVa5DXA/NY1wKMzubT8SaFV7R8ZrP+SeyTTwu2k/\",\"dtype\":\"float64\",\"shape\":[75]},\"y\":{\"__ndarray__\":\"GhExyth1ND/Sv8nbtpRIP2vylNV0PVE/aTum7souWD/At0SJ8fVgPw3Iuahxymc/MSNhhJWvcD/bTfBN02d3P2zb5nxnaoA/CD5h5MAGhz8NmeH1TyaQP+zrCsc9p5Y/LbKd76fGnz/bLW5ISEmmPww9YvTcQq8/JV2OstnstT8Er5Y7M8G+P0c+r3jqkcU/5h99k6ZBzj88bCIzFzjVP4enV8oyxN0//yH99nXg5D8qOpLLf0jtP5kqGJXUifQ/c9cS8kHP/D+/DpwzojQEQIEmwoanVwxA4lgXt9HgE0BSSZ2AJuIbQAMJih9jjiNA5q4l5INuK0AwTKYKRj0zQNv5fmq8/DpAaCJseHrtQkB/+zpwzoxKQM3MzMzMeFJAZmZmZmZqWEAAAAAAAFxeQM3MzMzMJmJAmpmZmZkfZUBmZmZmZhhoQDMzMzMzEWtAAAAAAAAKbkBmZmZmZoFwQM3MzMzM/XFAMzMzMzN6c0CamZmZmfZ0QAAAAAAAc3ZAZmZmZmbvd0DNzMzMzGt5QDMzMzMz6HpAmpmZmZlkfEAAAAAAAOF9QGZmZmZmXX9AZmZmZuZsgECamZmZGSuBQM3MzMxM6YFAAAAAAICngkAzMzMzs2WDQGZmZmbmI4RAmpmZmRnihEDNzMzMTKCFQAAAAACAXoZAMzMzM7Mch0BmZmZm5tqHQJqZmZkZmYhAzczMzExXiUAAAAAAgBWKQDMzMzOz04pAZmZmZuaRi0CamZmZGVCMQM3MzMxMDo1AAAAAAIDMjUAzMzMzs4qOQGZmZmbmSI9A\",\"dtype\":\"float64\",\"shape\":[75]}},\"selected\":{\"id\":\"027fd21b-4a87-4166-b33a-6f45f0ca9d9d\",\"type\":\"Selection\"},\"selection_policy\":{\"id\":\"a764598c-b5e8-4dda-b2b4-c2db9612be20\",\"type\":\"UnionRenderers\"}},\"id\":\"9772960d-6abf-4815-a942-35ec9ffb29c1\",\"type\":\"ColumnDataSource\"},{\"attributes\":{\"data_source\":{\"id\":\"23846f15-aed3-4c94-a913-a1fec4a927a5\",\"type\":\"ColumnDataSource\"},\"glyph\":{\"id\":\"4f0ce7c6-1377-4407-a2fc-908a16853104\",\"type\":\"Line\"},\"hover_glyph\":null,\"muted_glyph\":null,\"nonselection_glyph\":{\"id\":\"dc262c07-8411-4652-90fe-373ef5c8b3ec\",\"type\":\"Line\"},\"selection_glyph\":null,\"view\":{\"id\":\"e8bcc1be-d222-4875-8476-c208c496fff9\",\"type\":\"CDSView\"}},\"id\":\"58529394-d3ca-417d-8bf3-c03e33230d74\",\"type\":\"GlyphRenderer\"},{\"attributes\":{\"fill_alpha\":{\"value\":0.1},\"fill_color\":{\"value\":\"#1f77b4\"},\"line_alpha\":{\"value\":0.1},\"line_color\":{\"value\":\"#1f77b4\"},\"x\":{\"field\":\"x\"},\"y\":{\"field\":\"y\"}},\"id\":\"f541aa44-af54-4666-beb3-4c6272a1ac63\",\"type\":\"Square\"},{\"attributes\":{\"data_source\":{\"id\":\"f1b6860d-c0d8-46c3-bb24-0c1a198ad3a4\",\"type\":\"ColumnDataSource\"},\"glyph\":{\"id\":\"ac82d9a4-cf2d-470e-a6d9-e03ad1bf05b5\",\"type\":\"Line\"},\"hover_glyph\":null,\"muted_glyph\":null,\"nonselection_glyph\":{\"id\":\"d60874e1-2f67-4a00-ac79-eeac724df676\",\"type\":\"Line\"},\"selection_glyph\":null,\"view\":{\"id\":\"e29b0d5a-241e-4a4c-a666-084069323f07\",\"type\":\"CDSView\"}},\"id\":\"3af44367-dbe9-4ac1-a7cb-1b1268fad7ed\",\"type\":\"GlyphRenderer\"},{\"attributes\":{\"line_alpha\":0.1,\"line_color\":\"#1f77b4\",\"line_width\":3,\"x\":{\"field\":\"x\"},\"y\":{\"field\":\"y\"}},\"id\":\"dc262c07-8411-4652-90fe-373ef5c8b3ec\",\"type\":\"Line\"},{\"attributes\":{\"fill_alpha\":{\"value\":0.7},\"fill_color\":{\"value\":\"#377eb8\"},\"line_alpha\":{\"value\":0.7},\"line_color\":{\"value\":\"#377eb8\"},\"x\":{\"field\":\"x\"},\"y\":{\"field\":\"y\"}},\"id\":\"58c50174-7bba-462d-b22c-b12acf3439dd\",\"type\":\"Triangle\"},{\"attributes\":{\"line_color\":\"#4daf4a\",\"line_width\":1.5,\"x\":{\"field\":\"x\"},\"y\":{\"field\":\"y\"}},\"id\":\"ac82d9a4-cf2d-470e-a6d9-e03ad1bf05b5\",\"type\":\"Line\"},{\"attributes\":{\"callback\":null,\"data\":{\"x\":{\"__ndarray__\":\"FXSHiBXEsL4whdy0hYawvhqSV6SEbq++TD8H93OprL4m/zdBTn6ovgYgSyQ6nKK+X7ZTJCJBlb5AYJjQqcQqvpBO93jE8Zo+dgZ+PCG1rj73gxIYeSa6Pq7LZK6aw8M+5aEiraTvyz4K3ujZdVDSPsM9FWmiNNY+pMTPTcL82T7AxXCUiy7ePsagEQ1HbOE+0npfbTED5D5qKWpsJOLmPpzCgGRpu+k+sgXCM5yM5z5jnXUzI+jfPofKJvdWaNI+BU4zfpOLwj7VDe9lykSqPvG5suB3iX6+4NcB2Ur1o75uK6Ifv5ervvuAkvm8A7C+lRCrYSqdsb4uJUmiZMqyvm+3LLGigrO+6WaUEAXes74Gsrw9lBG0vqH6WJ9hKbS+IpxjtGs5tL7CukjrhcW0vokpE72Pj72+3k9HXg/sw75oCZUvBCXKvrMniHNfbM++rHkYvFNx0r7t1YYaErLVvgui5wQSWdm+VEIzvR1E3L74j/RnxmzcvuSeguPIJNi+PPJDze+Y0b6nhxi+hhjAPl3UQm0cyvI+shnj42U2Cj9YYclJJ6EbPxk6kh3DIyk/EYYR5B+7ND8s3Xziwro/P/zNz5aA3kY/+EiKIIZUTz+kutXRWYpUP4DJJiJ061k/DzgWRWSgXz8lExqUybxiP42eEArxo2U/zb8659dxaD87Ig7QUhhrP4cYVZzoh20/iP34AoKxbz+WHqM+Pb1wPyUPhukbUnE/Dp3umT15cT+XadltZwVxP/RiQVa5DXA/NY1wKMzubT8SaFV7R8ZrP+SeyTTwu2k/\",\"dtype\":\"float64\",\"shape\":[75]},\"y\":{\"__ndarray__\":\"GhExyth1ND/Sv8nbtpRIP2vylNV0PVE/aTum7souWD/At0SJ8fVgPw3Iuahxymc/MSNhhJWvcD/bTfBN02d3P2zb5nxnaoA/CD5h5MAGhz8NmeH1TyaQP+zrCsc9p5Y/LbKd76fGnz/bLW5ISEmmPww9YvTcQq8/JV2OstnstT8Er5Y7M8G+P0c+r3jqkcU/5h99k6ZBzj88bCIzFzjVP4enV8oyxN0//yH99nXg5D8qOpLLf0jtP5kqGJXUifQ/c9cS8kHP/D+/DpwzojQEQIEmwoanVwxA4lgXt9HgE0BSSZ2AJuIbQAMJih9jjiNA5q4l5INuK0AwTKYKRj0zQNv5fmq8/DpAaCJseHrtQkB/+zpwzoxKQM3MzMzMeFJAZmZmZmZqWEAAAAAAAFxeQM3MzMzMJmJAmpmZmZkfZUBmZmZmZhhoQDMzMzMzEWtAAAAAAAAKbkBmZmZmZoFwQM3MzMzM/XFAMzMzMzN6c0CamZmZmfZ0QAAAAAAAc3ZAZmZmZmbvd0DNzMzMzGt5QDMzMzMz6HpAmpmZmZlkfEAAAAAAAOF9QGZmZmZmXX9AZmZmZuZsgECamZmZGSuBQM3MzMxM6YFAAAAAAICngkAzMzMzs2WDQGZmZmbmI4RAmpmZmRnihEDNzMzMTKCFQAAAAACAXoZAMzMzM7Mch0BmZmZm5tqHQJqZmZkZmYhAzczMzExXiUAAAAAAgBWKQDMzMzOz04pAZmZmZuaRi0CamZmZGVCMQM3MzMxMDo1AAAAAAIDMjUAzMzMzs4qOQGZmZmbmSI9A\",\"dtype\":\"float64\",\"shape\":[75]}},\"selected\":{\"id\":\"9f178bfe-f576-4512-8478-b0087e2566f0\",\"type\":\"Selection\"},\"selection_policy\":{\"id\":\"95bb7556-7b4d-448e-a674-93e2f47ee6a2\",\"type\":\"UnionRenderers\"}},\"id\":\"d5b63be5-3712-41e4-8d90-98711c1209e9\",\"type\":\"ColumnDataSource\"},{\"attributes\":{\"fill_alpha\":{\"value\":0.1},\"fill_color\":{\"value\":\"#1f77b4\"},\"line_alpha\":{\"value\":0.1},\"line_color\":{\"value\":\"#1f77b4\"},\"x\":{\"field\":\"x\"},\"y\":{\"field\":\"y\"}},\"id\":\"b26cc55b-8beb-4dff-a0a4-95a917e6d497\",\"type\":\"Triangle\"},{\"attributes\":{\"data_source\":{\"id\":\"9772960d-6abf-4815-a942-35ec9ffb29c1\",\"type\":\"ColumnDataSource\"},\"glyph\":{\"id\":\"58c50174-7bba-462d-b22c-b12acf3439dd\",\"type\":\"Triangle\"},\"hover_glyph\":null,\"muted_glyph\":null,\"nonselection_glyph\":{\"id\":\"b26cc55b-8beb-4dff-a0a4-95a917e6d497\",\"type\":\"Triangle\"},\"selection_glyph\":null,\"view\":{\"id\":\"1ac305d4-0933-40c7-9ad4-a1e9b41babab\",\"type\":\"CDSView\"}},\"id\":\"f0d3f00d-1622-4f82-9d25-3bedf93b5b39\",\"type\":\"GlyphRenderer\"},{\"attributes\":{\"source\":{\"id\":\"9772960d-6abf-4815-a942-35ec9ffb29c1\",\"type\":\"ColumnDataSource\"}},\"id\":\"1ac305d4-0933-40c7-9ad4-a1e9b41babab\",\"type\":\"CDSView\"},{\"attributes\":{\"callback\":null,\"data\":{\"x\":{\"__ndarray__\":\"qdMLq1C3sr58BhIqKGCyvuYpKtngQrG+2fT31n7nrr4AM6HNdZepvsHWYO+JM6K+hsigu/mKkL6cWjOPkuKCPsE71oqBZqU+4fhbEeY9tT5QvC81tjPBPiLbAG2hVck+m2VzIaOf0T5yiaPfxuLWPjkWiOJRl9s+NnC88GcU4D5ERaWubpziPjvoqgR3bOU+J9N2b22L6D4nlgscoADsPkRtFvJ8bu8+iRyx4iHO7D6XJbHZdafjPtNLZmimAdc+iJOwvfLfxz5uV6RCMpayPjWas7Z7cUM+yb6FMZioo77LK9AsETCtvstTbHhUYbG+h90JwBtms76BLKZiOeG0vtcAB+fxurW+qkfCZ0APtr6i/9Y8IC22vikONSw3K7a+Q3oCZD0mtr6/BduwErq2vnVdMnwHMMC+e0ye9lrYxb6dWQxRKrLMvlcEwqcsRtG+jAglLFlK1L5BE4ApLeLXvr6XJcUg6Nu+O07VpGjn3r75Os198FvevpVw6kACS9i+bB3Jgj+ZzL5CXNSDZHvUPhDx2nOSPfo+AlVGPrnUED+3PWpvhBEhP5yEkhmgXS4/unTi5s2dOD9JN78QDIFCPw0uSdZ4VUo/GKX1vDLTUT9qsyQ1zCFXPyRUP+7r41w/oBosDwl6YT9OdNhYUY1kP3LZShdvlGc/VPjVfep7aj9ihcnpWDdtP+cFbqWuu28/O5z/atz6cD+2OHnGROdxP2RQVh3MfnI/l6mInemhcj/OuuUzMBxyP/IbnpaKCnE/hf5mZKWubz+I/t+J/1FtP0eVnTCOFGs/\",\"dtype\":\"float64\",\"shape\":[75]},\"y\":{\"__ndarray__\":\"GhExyth1ND/Sv8nbtpRIP2vylNV0PVE/aTum7souWD/At0SJ8fVgPw3Iuahxymc/MSNhhJWvcD/bTfBN02d3P2zb5nxnaoA/CD5h5MAGhz8NmeH1TyaQP+zrCsc9p5Y/LbKd76fGnz/bLW5ISEmmPww9YvTcQq8/JV2OstnstT8Er5Y7M8G+P0c+r3jqkcU/5h99k6ZBzj88bCIzFzjVP4enV8oyxN0//yH99nXg5D8qOpLLf0jtP5kqGJXUifQ/c9cS8kHP/D+/DpwzojQEQIEmwoanVwxA4lgXt9HgE0BSSZ2AJuIbQAMJih9jjiNA5q4l5INuK0AwTKYKRj0zQNv5fmq8/DpAaCJseHrtQkB/+zpwzoxKQM3MzMzMeFJAZmZmZmZqWEAAAAAAAFxeQM3MzMzMJmJAmpmZmZkfZUBmZmZmZhhoQDMzMzMzEWtAAAAAAAAKbkBmZmZmZoFwQM3MzMzM/XFAMzMzMzN6c0CamZmZmfZ0QAAAAAAAc3ZAZmZmZmbvd0DNzMzMzGt5QDMzMzMz6HpAmpmZmZlkfEAAAAAAAOF9QGZmZmZmXX9AZmZmZuZsgECamZmZGSuBQM3MzMxM6YFAAAAAAICngkAzMzMzs2WDQGZmZmbmI4RAmpmZmRnihEDNzMzMTKCFQAAAAACAXoZAMzMzM7Mch0BmZmZm5tqHQJqZmZkZmYhAzczMzExXiUAAAAAAgBWKQDMzMzOz04pAZmZmZuaRi0CamZmZGVCMQM3MzMxMDo1AAAAAAIDMjUAzMzMzs4qOQGZmZmbmSI9A\",\"dtype\":\"float64\",\"shape\":[75]}},\"selected\":{\"id\":\"2661a023-3af3-4a0a-9e00-7f0e0dbfcc11\",\"type\":\"Selection\"},\"selection_policy\":{\"id\":\"ec5aeb7c-6502-4d97-bc51-bbcd870c1788\",\"type\":\"UnionRenderers\"}},\"id\":\"fa4438c2-d024-4c7e-b6ee-27a7071909d6\",\"type\":\"ColumnDataSource\"},{\"attributes\":{\"line_alpha\":0.3,\"line_color\":\"#377eb8\",\"line_width\":2,\"x\":{\"field\":\"x\"},\"y\":{\"field\":\"y\"}},\"id\":\"53dc8f46-06d7-473d-ba45-08cdf7cc298e\",\"type\":\"Line\"},{\"attributes\":{\"source\":{\"id\":\"30bafb9a-1bd6-401a-8f0a-69aed0aa4053\",\"type\":\"ColumnDataSource\"}},\"id\":\"b95bed3f-b979-4039-a752-adc82f54a003\",\"type\":\"CDSView\"},{\"attributes\":{\"above\":[{\"id\":\"71744536-9257-46fa-b250-8a1a859c281b\",\"type\":\"Legend\"}],\"below\":[{\"id\":\"ece5b1ff-60b0-457b-8467-99bcde861c71\",\"type\":\"LinearAxis\"}],\"left\":[{\"id\":\"0050a0dd-9645-406b-83c0-0ec4e219b454\",\"type\":\"LogAxis\"}],\"plot_height\":500,\"plot_width\":400,\"renderers\":[{\"id\":\"ece5b1ff-60b0-457b-8467-99bcde861c71\",\"type\":\"LinearAxis\"},{\"id\":\"7eef0561-1eab-47f7-93eb-6ce9479c738c\",\"type\":\"Grid\"},{\"id\":\"0050a0dd-9645-406b-83c0-0ec4e219b454\",\"type\":\"LogAxis\"},{\"id\":\"de5bec50-5ca7-4556-859d-702f243a2167\",\"type\":\"Grid\"},{\"id\":\"73562299-c442-452d-8fe3-a575531a29b8\",\"type\":\"BoxAnnotation\"},{\"id\":\"5a970945-7737-4393-92ff-c4c1369d0e5c\",\"type\":\"GlyphRenderer\"},{\"id\":\"3af44367-dbe9-4ac1-a7cb-1b1268fad7ed\",\"type\":\"GlyphRenderer\"},{\"id\":\"11736c26-104c-4ef8-9e78-00ccac996c47\",\"type\":\"GlyphRenderer\"},{\"id\":\"e047908a-eeae-4b4d-8e52-ae4f61b72b45\",\"type\":\"GlyphRenderer\"},{\"id\":\"77d01f3f-11d2-40af-af3c-4bc42547c179\",\"type\":\"GlyphRenderer\"},{\"id\":\"7feaa008-0d85-4d8d-82ed-687ce97b8fe5\",\"type\":\"GlyphRenderer\"},{\"id\":\"71744536-9257-46fa-b250-8a1a859c281b\",\"type\":\"Legend\"}],\"title\":{\"id\":\"ee2077fb-499c-4902-ad9d-e03a4c2beadb\",\"type\":\"Title\"},\"toolbar\":{\"id\":\"9b5203fd-b27e-4d41-929a-03f4a4840d93\",\"type\":\"Toolbar\"},\"toolbar_location\":null,\"x_range\":{\"id\":\"197bb214-e2e6-474c-b977-200e6b149f0d\",\"type\":\"Range1d\"},\"x_scale\":{\"id\":\"fdd1d41c-b232-4cd1-8726-5361c3f76543\",\"type\":\"LinearScale\"},\"y_range\":{\"id\":\"ba6cead8-25c3-4892-ba01-74c16fedfbeb\",\"type\":\"Range1d\"},\"y_scale\":{\"id\":\"9e7b4a24-f5c9-4911-9f71-ec0e7293ef50\",\"type\":\"LogScale\"}},\"id\":\"3f1ab41e-4de9-4c7f-bc8d-735ec17a1160\",\"subtype\":\"Figure\",\"type\":\"Plot\"},{\"attributes\":{\"line_alpha\":0.1,\"line_color\":\"#1f77b4\",\"line_width\":2,\"x\":{\"field\":\"x\"},\"y\":{\"field\":\"y\"}},\"id\":\"e461992d-f446-48df-8142-a420b91cf7d7\",\"type\":\"Line\"},{\"attributes\":{\"children\":[{\"id\":\"12562a05-dcb9-43ab-812e-b8a40c71d637\",\"subtype\":\"Figure\",\"type\":\"Plot\"},{\"id\":\"3f1ab41e-4de9-4c7f-bc8d-735ec17a1160\",\"subtype\":\"Figure\",\"type\":\"Plot\"}]},\"id\":\"97054c9d-2530-4463-8db7-1b569696e04f\",\"type\":\"Row\"},{\"attributes\":{\"data_source\":{\"id\":\"d5b63be5-3712-41e4-8d90-98711c1209e9\",\"type\":\"ColumnDataSource\"},\"glyph\":{\"id\":\"53dc8f46-06d7-473d-ba45-08cdf7cc298e\",\"type\":\"Line\"},\"hover_glyph\":null,\"muted_glyph\":null,\"nonselection_glyph\":{\"id\":\"e461992d-f446-48df-8142-a420b91cf7d7\",\"type\":\"Line\"},\"selection_glyph\":null,\"view\":{\"id\":\"a775bafc-802e-4fbd-9e54-eef8e971196b\",\"type\":\"CDSView\"}},\"id\":\"0199dfc9-afd0-4116-92c5-a1af797fc4fe\",\"type\":\"GlyphRenderer\"},{\"attributes\":{\"source\":{\"id\":\"d5b63be5-3712-41e4-8d90-98711c1209e9\",\"type\":\"ColumnDataSource\"}},\"id\":\"a775bafc-802e-4fbd-9e54-eef8e971196b\",\"type\":\"CDSView\"},{\"attributes\":{},\"id\":\"9216f3dd-6bdd-4e1e-bb59-2a6fc6e5c5f9\",\"type\":\"BasicTickFormatter\"},{\"attributes\":{\"active_drag\":\"auto\",\"active_inspect\":\"auto\",\"active_scroll\":\"auto\",\"active_tap\":\"auto\",\"tools\":[{\"id\":\"d49e72b0-aac8-4d78-9082-7bc8f870f25e\",\"type\":\"PanTool\"},{\"id\":\"0c5044e1-408e-40b9-b404-45a88423afd2\",\"type\":\"WheelZoomTool\"},{\"id\":\"a188dfa3-3db9-423b-b643-12ff2f271604\",\"type\":\"BoxZoomTool\"},{\"id\":\"9bea7c8f-de11-4ff6-9115-7aa1163784b5\",\"type\":\"SaveTool\"},{\"id\":\"3fd8cf64-f3cb-46aa-9a5d-5de589b35736\",\"type\":\"ResetTool\"},{\"id\":\"b547906f-91e4-482a-a254-facfd0f1464e\",\"type\":\"HelpTool\"}]},\"id\":\"9b5203fd-b27e-4d41-929a-03f4a4840d93\",\"type\":\"Toolbar\"},{\"attributes\":{\"label\":{\"value\":\"CRD\"},\"renderers\":[{\"id\":\"5c3745a1-bf28-42e5-84fc-437a8ff3915b\",\"type\":\"GlyphRenderer\"},{\"id\":\"b8b5f088-5a02-4362-ba18-e06bfd9261ab\",\"type\":\"GlyphRenderer\"}]},\"id\":\"0736d243-9c2f-4d07-9d73-fab1603d228f\",\"type\":\"LegendItem\"},{\"attributes\":{\"callback\":null,\"data\":{\"x\":{\"__ndarray__\":\"qdMLq1C3sr58BhIqKGCyvuYpKtngQrG+2fT31n7nrr4AM6HNdZepvsHWYO+JM6K+hsigu/mKkL6cWjOPkuKCPsE71oqBZqU+4fhbEeY9tT5QvC81tjPBPiLbAG2hVck+m2VzIaOf0T5yiaPfxuLWPjkWiOJRl9s+NnC88GcU4D5ERaWubpziPjvoqgR3bOU+J9N2b22L6D4nlgscoADsPkRtFvJ8bu8+iRyx4iHO7D6XJbHZdafjPtNLZmimAdc+iJOwvfLfxz5uV6RCMpayPjWas7Z7cUM+yb6FMZioo77LK9AsETCtvstTbHhUYbG+h90JwBtms76BLKZiOeG0vtcAB+fxurW+qkfCZ0APtr6i/9Y8IC22vikONSw3K7a+Q3oCZD0mtr6/BduwErq2vnVdMnwHMMC+e0ye9lrYxb6dWQxRKrLMvlcEwqcsRtG+jAglLFlK1L5BE4ApLeLXvr6XJcUg6Nu+O07VpGjn3r75Os198FvevpVw6kACS9i+bB3Jgj+ZzL5CXNSDZHvUPhDx2nOSPfo+AlVGPrnUED+3PWpvhBEhP5yEkhmgXS4/unTi5s2dOD9JN78QDIFCPw0uSdZ4VUo/GKX1vDLTUT9qsyQ1zCFXPyRUP+7r41w/oBosDwl6YT9OdNhYUY1kP3LZShdvlGc/VPjVfep7aj9ihcnpWDdtP+cFbqWuu28/O5z/atz6cD+2OHnGROdxP2RQVh3MfnI/l6mInemhcj/OuuUzMBxyP/IbnpaKCnE/hf5mZKWubz+I/t+J/1FtP0eVnTCOFGs/\",\"dtype\":\"float64\",\"shape\":[75]},\"y\":{\"__ndarray__\":\"GhExyth1ND/Sv8nbtpRIP2vylNV0PVE/aTum7souWD/At0SJ8fVgPw3Iuahxymc/MSNhhJWvcD/bTfBN02d3P2zb5nxnaoA/CD5h5MAGhz8NmeH1TyaQP+zrCsc9p5Y/LbKd76fGnz/bLW5ISEmmPww9YvTcQq8/JV2OstnstT8Er5Y7M8G+P0c+r3jqkcU/5h99k6ZBzj88bCIzFzjVP4enV8oyxN0//yH99nXg5D8qOpLLf0jtP5kqGJXUifQ/c9cS8kHP/D+/DpwzojQEQIEmwoanVwxA4lgXt9HgE0BSSZ2AJuIbQAMJih9jjiNA5q4l5INuK0AwTKYKRj0zQNv5fmq8/DpAaCJseHrtQkB/+zpwzoxKQM3MzMzMeFJAZmZmZmZqWEAAAAAAAFxeQM3MzMzMJmJAmpmZmZkfZUBmZmZmZhhoQDMzMzMzEWtAAAAAAAAKbkBmZmZmZoFwQM3MzMzM/XFAMzMzMzN6c0CamZmZmfZ0QAAAAAAAc3ZAZmZmZmbvd0DNzMzMzGt5QDMzMzMz6HpAmpmZmZlkfEAAAAAAAOF9QGZmZmZmXX9AZmZmZuZsgECamZmZGSuBQM3MzMxM6YFAAAAAAICngkAzMzMzs2WDQGZmZmbmI4RAmpmZmRnihEDNzMzMTKCFQAAAAACAXoZAMzMzM7Mch0BmZmZm5tqHQJqZmZkZmYhAzczMzExXiUAAAAAAgBWKQDMzMzOz04pAZmZmZuaRi0CamZmZGVCMQM3MzMxMDo1AAAAAAIDMjUAzMzMzs4qOQGZmZmbmSI9A\",\"dtype\":\"float64\",\"shape\":[75]}},\"selected\":{\"id\":\"411692bb-d640-4e01-8707-0368e34b4120\",\"type\":\"Selection\"},\"selection_policy\":{\"id\":\"654f6746-3bba-4b54-a05d-983893355ffd\",\"type\":\"UnionRenderers\"}},\"id\":\"e442abf7-39c8-4d03-b86f-c16adfd265e7\",\"type\":\"ColumnDataSource\"},{\"attributes\":{\"data_source\":{\"id\":\"e442abf7-39c8-4d03-b86f-c16adfd265e7\",\"type\":\"ColumnDataSource\"},\"glyph\":{\"id\":\"25624627-a08b-4dc5-ba89-b8ca055a4b6d\",\"type\":\"Line\"},\"hover_glyph\":null,\"muted_glyph\":null,\"nonselection_glyph\":{\"id\":\"d845d2d2-273c-44df-acd2-468f9b76df7a\",\"type\":\"Line\"},\"selection_glyph\":null,\"view\":{\"id\":\"a19e2995-6f41-497d-b0de-73cb6580b81e\",\"type\":\"CDSView\"}},\"id\":\"e047908a-eeae-4b4d-8e52-ae4f61b72b45\",\"type\":\"GlyphRenderer\"},{\"attributes\":{\"label\":{\"value\":\"WGT igg=1\"},\"renderers\":[{\"id\":\"e7c66b7c-c883-4e44-be62-25e3be19ae69\",\"type\":\"GlyphRenderer\"},{\"id\":\"58529394-d3ca-417d-8bf3-c03e33230d74\",\"type\":\"GlyphRenderer\"}]},\"id\":\"fd201059-bf8e-4f2b-ba84-a9ee091fd330\",\"type\":\"LegendItem\"},{\"attributes\":{\"plot\":null,\"text\":\"\"},\"id\":\"ee2077fb-499c-4902-ad9d-e03a4c2beadb\",\"type\":\"Title\"},{\"attributes\":{},\"id\":\"fdd1d41c-b232-4cd1-8726-5361c3f76543\",\"type\":\"LinearScale\"},{\"attributes\":{\"bottom_units\":\"screen\",\"fill_alpha\":{\"value\":0.5},\"fill_color\":{\"value\":\"lightgrey\"},\"left_units\":\"screen\",\"level\":\"overlay\",\"line_alpha\":{\"value\":1.0},\"line_color\":{\"value\":\"black\"},\"line_dash\":[4,4],\"line_width\":{\"value\":2},\"plot\":null,\"render_mode\":\"css\",\"right_units\":\"screen\",\"top_units\":\"screen\"},\"id\":\"73562299-c442-452d-8fe3-a575531a29b8\",\"type\":\"BoxAnnotation\"},{\"attributes\":{\"label\":{\"value\":\"WGT igg=10\"},\"renderers\":[{\"id\":\"f0d3f00d-1622-4f82-9d25-3bedf93b5b39\",\"type\":\"GlyphRenderer\"},{\"id\":\"0199dfc9-afd0-4116-92c5-a1af797fc4fe\",\"type\":\"GlyphRenderer\"}]},\"id\":\"d1876551-572e-4ccc-8206-8a036d8f359b\",\"type\":\"LegendItem\"},{\"attributes\":{},\"id\":\"027fd21b-4a87-4166-b33a-6f45f0ca9d9d\",\"type\":\"Selection\"},{\"attributes\":{\"plot\":{\"id\":\"3f1ab41e-4de9-4c7f-bc8d-735ec17a1160\",\"subtype\":\"Figure\",\"type\":\"Plot\"},\"ticker\":{\"id\":\"7265e98c-f6ca-414a-aaad-d40f8f89ed05\",\"type\":\"BasicTicker\"}},\"id\":\"7eef0561-1eab-47f7-93eb-6ce9479c738c\",\"type\":\"Grid\"},{\"attributes\":{},\"id\":\"4fad9ac2-81f3-4cbb-8a2e-390ccc4a3e60\",\"type\":\"Selection\"},{\"attributes\":{\"callback\":null,\"end\":0.01,\"start\":1020},\"id\":\"ba6cead8-25c3-4892-ba01-74c16fedfbeb\",\"type\":\"Range1d\"},{\"attributes\":{},\"id\":\"2bf28b75-f3af-410e-a0ae-2e2f7549e75b\",\"type\":\"UnionRenderers\"},{\"attributes\":{},\"id\":\"9e7b4a24-f5c9-4911-9f71-ec0e7293ef50\",\"type\":\"LogScale\"},{\"attributes\":{\"axis_label\":\"cooling rate [K/day]\",\"formatter\":{\"id\":\"9216f3dd-6bdd-4e1e-bb59-2a6fc6e5c5f9\",\"type\":\"BasicTickFormatter\"},\"plot\":{\"id\":\"3f1ab41e-4de9-4c7f-bc8d-735ec17a1160\",\"subtype\":\"Figure\",\"type\":\"Plot\"},\"ticker\":{\"id\":\"7265e98c-f6ca-414a-aaad-d40f8f89ed05\",\"type\":\"BasicTicker\"}},\"id\":\"ece5b1ff-60b0-457b-8467-99bcde861c71\",\"type\":\"LinearAxis\"},{\"attributes\":{},\"id\":\"7265e98c-f6ca-414a-aaad-d40f8f89ed05\",\"type\":\"BasicTicker\"},{\"attributes\":{\"axis_label\":\"pressure [mb]\",\"formatter\":{\"id\":\"38fea74c-d00a-443f-b0ec-da0dad1fd675\",\"type\":\"LogTickFormatter\"},\"plot\":{\"id\":\"3f1ab41e-4de9-4c7f-bc8d-735ec17a1160\",\"subtype\":\"Figure\",\"type\":\"Plot\"},\"ticker\":{\"id\":\"ecfc702f-6c7b-47ad-ba1e-8265c775465b\",\"type\":\"LogTicker\"}},\"id\":\"0050a0dd-9645-406b-83c0-0ec4e219b454\",\"type\":\"LogAxis\"},{\"attributes\":{\"source\":{\"id\":\"b355e197-e6dd-4e28-b00c-365c182637b6\",\"type\":\"ColumnDataSource\"}},\"id\":\"840c0db6-e90c-451e-9616-cb4da8c4aa21\",\"type\":\"CDSView\"},{\"attributes\":{\"data_source\":{\"id\":\"fa4438c2-d024-4c7e-b6ee-27a7071909d6\",\"type\":\"ColumnDataSource\"},\"glyph\":{\"id\":\"7d72cd0f-f910-4985-984e-73c0b70fcd2b\",\"type\":\"Square\"},\"hover_glyph\":null,\"muted_glyph\":null,\"nonselection_glyph\":{\"id\":\"b0c0c88c-709f-4e79-a033-ce241e444870\",\"type\":\"Square\"},\"selection_glyph\":null,\"view\":{\"id\":\"8ea77174-3ac2-4350-aba6-7187b0b4b830\",\"type\":\"CDSView\"}},\"id\":\"11736c26-104c-4ef8-9e78-00ccac996c47\",\"type\":\"GlyphRenderer\"},{\"attributes\":{\"num_minor_ticks\":10},\"id\":\"ecfc702f-6c7b-47ad-ba1e-8265c775465b\",\"type\":\"LogTicker\"},{\"attributes\":{},\"id\":\"dcc69d6a-bd28-4116-873b-6ea5b38277d1\",\"type\":\"UnionRenderers\"},{\"attributes\":{\"dimension\":1,\"plot\":{\"id\":\"3f1ab41e-4de9-4c7f-bc8d-735ec17a1160\",\"subtype\":\"Figure\",\"type\":\"Plot\"},\"ticker\":{\"id\":\"ecfc702f-6c7b-47ad-ba1e-8265c775465b\",\"type\":\"LogTicker\"}},\"id\":\"de5bec50-5ca7-4556-859d-702f243a2167\",\"type\":\"Grid\"},{\"attributes\":{\"source\":{\"id\":\"e442abf7-39c8-4d03-b86f-c16adfd265e7\",\"type\":\"ColumnDataSource\"}},\"id\":\"a19e2995-6f41-497d-b0de-73cb6580b81e\",\"type\":\"CDSView\"},{\"attributes\":{\"source\":{\"id\":\"fa4438c2-d024-4c7e-b6ee-27a7071909d6\",\"type\":\"ColumnDataSource\"}},\"id\":\"8ea77174-3ac2-4350-aba6-7187b0b4b830\",\"type\":\"CDSView\"},{\"attributes\":{},\"id\":\"ee4ecdec-481e-4cff-864b-539a8c07c10d\",\"type\":\"BasicTickFormatter\"},{\"attributes\":{},\"id\":\"d49e72b0-aac8-4d78-9082-7bc8f870f25e\",\"type\":\"PanTool\"},{\"attributes\":{\"line_alpha\":0.1,\"line_color\":\"#1f77b4\",\"line_width\":3,\"x\":{\"field\":\"x\"},\"y\":{\"field\":\"y\"}},\"id\":\"d845d2d2-273c-44df-acd2-468f9b76df7a\",\"type\":\"Line\"},{\"attributes\":{},\"id\":\"0c5044e1-408e-40b9-b404-45a88423afd2\",\"type\":\"WheelZoomTool\"},{\"attributes\":{\"overlay\":{\"id\":\"73562299-c442-452d-8fe3-a575531a29b8\",\"type\":\"BoxAnnotation\"}},\"id\":\"a188dfa3-3db9-423b-b643-12ff2f271604\",\"type\":\"BoxZoomTool\"},{\"attributes\":{\"source\":{\"id\":\"26788289-2c0a-4c5e-9af9-f972ebb6871e\",\"type\":\"ColumnDataSource\"}},\"id\":\"3a1d8f7d-8186-4f2c-b521-5d2c09091622\",\"type\":\"CDSView\"},{\"attributes\":{},\"id\":\"9bea7c8f-de11-4ff6-9115-7aa1163784b5\",\"type\":\"SaveTool\"},{\"attributes\":{\"fill_alpha\":{\"value\":0.1},\"fill_color\":{\"value\":\"#1f77b4\"},\"line_alpha\":{\"value\":0.1},\"line_color\":{\"value\":\"#1f77b4\"},\"x\":{\"field\":\"x\"},\"y\":{\"field\":\"y\"}},\"id\":\"a2fba853-9c86-4cd0-8d97-4eb4a36fd756\",\"type\":\"Triangle\"},{\"attributes\":{\"callback\":null,\"data\":{\"x\":{\"__ndarray__\":\"FXSHiBXEsL4whdy0hYawvhqSV6SEbq++TD8H93OprL4m/zdBTn6ovgYgSyQ6nKK+X7ZTJCJBlb5AYJjQqcQqvpBO93jE8Zo+dgZ+PCG1rj73gxIYeSa6Pq7LZK6aw8M+5aEiraTvyz4K3ujZdVDSPsM9FWmiNNY+pMTPTcL82T7AxXCUiy7ePsagEQ1HbOE+0npfbTED5D5qKWpsJOLmPpzCgGRpu+k+sgXCM5yM5z5jnXUzI+jfPofKJvdWaNI+BU4zfpOLwj7VDe9lykSqPvG5suB3iX6+4NcB2Ur1o75uK6Ifv5ervvuAkvm8A7C+lRCrYSqdsb4uJUmiZMqyvm+3LLGigrO+6WaUEAXes74Gsrw9lBG0vqH6WJ9hKbS+IpxjtGs5tL7CukjrhcW0vokpE72Pj72+3k9HXg/sw75oCZUvBCXKvrMniHNfbM++rHkYvFNx0r7t1YYaErLVvgui5wQSWdm+VEIzvR1E3L74j/RnxmzcvuSeguPIJNi+PPJDze+Y0b6nhxi+hhjAPl3UQm0cyvI+shnj42U2Cj9YYclJJ6EbPxk6kh3DIyk/EYYR5B+7ND8s3Xziwro/P/zNz5aA3kY/+EiKIIZUTz+kutXRWYpUP4DJJiJ061k/DzgWRWSgXz8lExqUybxiP42eEArxo2U/zb8659dxaD87Ig7QUhhrP4cYVZzoh20/iP34AoKxbz+WHqM+Pb1wPyUPhukbUnE/Dp3umT15cT+XadltZwVxP/RiQVa5DXA/NY1wKMzubT8SaFV7R8ZrP+SeyTTwu2k/\",\"dtype\":\"float64\",\"shape\":[75]},\"y\":{\"__ndarray__\":\"GhExyth1ND/Sv8nbtpRIP2vylNV0PVE/aTum7souWD/At0SJ8fVgPw3Iuahxymc/MSNhhJWvcD/bTfBN02d3P2zb5nxnaoA/CD5h5MAGhz8NmeH1TyaQP+zrCsc9p5Y/LbKd76fGnz/bLW5ISEmmPww9YvTcQq8/JV2OstnstT8Er5Y7M8G+P0c+r3jqkcU/5h99k6ZBzj88bCIzFzjVP4enV8oyxN0//yH99nXg5D8qOpLLf0jtP5kqGJXUifQ/c9cS8kHP/D+/DpwzojQEQIEmwoanVwxA4lgXt9HgE0BSSZ2AJuIbQAMJih9jjiNA5q4l5INuK0AwTKYKRj0zQNv5fmq8/DpAaCJseHrtQkB/+zpwzoxKQM3MzMzMeFJAZmZmZmZqWEAAAAAAAFxeQM3MzMzMJmJAmpmZmZkfZUBmZmZmZhhoQDMzMzMzEWtAAAAAAAAKbkBmZmZmZoFwQM3MzMzM/XFAMzMzMzN6c0CamZmZmfZ0QAAAAAAAc3ZAZmZmZmbvd0DNzMzMzGt5QDMzMzMz6HpAmpmZmZlkfEAAAAAAAOF9QGZmZmZmXX9AZmZmZuZsgECamZmZGSuBQM3MzMxM6YFAAAAAAICngkAzMzMzs2WDQGZmZmbmI4RAmpmZmRnihEDNzMzMTKCFQAAAAACAXoZAMzMzM7Mch0BmZmZm5tqHQJqZmZkZmYhAzczMzExXiUAAAAAAgBWKQDMzMzOz04pAZmZmZuaRi0CamZmZGVCMQM3MzMxMDo1AAAAAAIDMjUAzMzMzs4qOQGZmZmbmSI9A\",\"dtype\":\"float64\",\"shape\":[75]}},\"selected\":{\"id\":\"9a585f57-987f-4f5b-99bf-cbe0f65318b3\",\"type\":\"Selection\"},\"selection_policy\":{\"id\":\"80a65adb-23ee-4d18-bd5b-bdd7c88ec83d\",\"type\":\"UnionRenderers\"}},\"id\":\"f9104920-0f20-46c6-a1c8-46048e2fcf1f\",\"type\":\"ColumnDataSource\"},{\"attributes\":{},\"id\":\"23c78ab8-a1d8-41c5-b4a3-f328f43f273d\",\"type\":\"PanTool\"},{\"attributes\":{\"line_alpha\":0.6,\"line_color\":\"#984ea3\",\"line_width\":3,\"x\":{\"field\":\"x\"},\"y\":{\"field\":\"y\"}},\"id\":\"25624627-a08b-4dc5-ba89-b8ca055a4b6d\",\"type\":\"Line\"},{\"attributes\":{\"children\":[{\"id\":\"97054c9d-2530-4463-8db7-1b569696e04f\",\"type\":\"Row\"}]},\"id\":\"031e2235-0ff6-486c-989c-29c397b46c73\",\"type\":\"Column\"},{\"attributes\":{\"fill_alpha\":{\"value\":0.1},\"fill_color\":{\"value\":\"#1f77b4\"},\"line_alpha\":{\"value\":0.1},\"line_color\":{\"value\":\"#1f77b4\"},\"x\":{\"field\":\"x\"},\"y\":{\"field\":\"y\"}},\"id\":\"8dcd29eb-f89c-4079-86a0-f80f81d48463\",\"type\":\"Circle\"},{\"attributes\":{\"fill_alpha\":{\"value\":0.7},\"fill_color\":{\"value\":\"#4daf4a\"},\"line_alpha\":{\"value\":0.7},\"line_color\":{\"value\":\"#4daf4a\"},\"x\":{\"field\":\"x\"},\"y\":{\"field\":\"y\"}},\"id\":\"837f8b69-9d0d-42a7-89c1-2f4086ca3ac3\",\"type\":\"Circle\"},{\"attributes\":{\"items\":[{\"id\":\"230c1b08-2d88-4573-90a1-3a9417b603dc\",\"type\":\"LegendItem\"},{\"id\":\"4371afd5-0fcb-4e71-8b56-493a7ffb8e6c\",\"type\":\"LegendItem\"},{\"id\":\"cf9ede32-3a24-4b00-acf3-fe446b2d5ffe\",\"type\":\"LegendItem\"}],\"label_text_font_size\":{\"value\":\"8pt\"},\"location\":\"top_center\",\"orientation\":\"horizontal\",\"plot\":{\"id\":\"3f1ab41e-4de9-4c7f-bc8d-735ec17a1160\",\"subtype\":\"Figure\",\"type\":\"Plot\"}},\"id\":\"71744536-9257-46fa-b250-8a1a859c281b\",\"type\":\"Legend\"},{\"attributes\":{},\"id\":\"deaf2e93-82d9-4e64-849a-c556a941a622\",\"type\":\"Selection\"},{\"attributes\":{\"ticker\":null},\"id\":\"38fea74c-d00a-443f-b0ec-da0dad1fd675\",\"type\":\"LogTickFormatter\"},{\"attributes\":{\"data_source\":{\"id\":\"b355e197-e6dd-4e28-b00c-365c182637b6\",\"type\":\"ColumnDataSource\"},\"glyph\":{\"id\":\"d7678464-e0e8-43c5-8052-2036272a4292\",\"type\":\"Line\"},\"hover_glyph\":null,\"muted_glyph\":null,\"nonselection_glyph\":{\"id\":\"9d6901ed-f9e8-463b-a71a-3d3f7feb1ceb\",\"type\":\"Line\"},\"selection_glyph\":null,\"view\":{\"id\":\"840c0db6-e90c-451e-9616-cb4da8c4aa21\",\"type\":\"CDSView\"}},\"id\":\"7feaa008-0d85-4d8d-82ed-687ce97b8fe5\",\"type\":\"GlyphRenderer\"},{\"attributes\":{\"fill_alpha\":{\"value\":0.7},\"fill_color\":{\"value\":\"#377eb8\"},\"line_alpha\":{\"value\":0.7},\"line_color\":{\"value\":\"#377eb8\"},\"x\":{\"field\":\"x\"},\"y\":{\"field\":\"y\"}},\"id\":\"c093f78e-3abd-43cd-bbb4-01b38feb5909\",\"type\":\"Triangle\"},{\"attributes\":{},\"id\":\"d69be9f3-b6b9-4cdb-8092-640b874fefa8\",\"type\":\"Selection\"},{\"attributes\":{\"callback\":null,\"data\":{\"x\":{\"__ndarray__\":\"FXSHiBXEsL4whdy0hYawvhqSV6SEbq++TD8H93OprL4m/zdBTn6ovgYgSyQ6nKK+X7ZTJCJBlb5AYJjQqcQqvpBO93jE8Zo+dgZ+PCG1rj73gxIYeSa6Pq7LZK6aw8M+5aEiraTvyz4K3ujZdVDSPsM9FWmiNNY+pMTPTcL82T7AxXCUiy7ePsagEQ1HbOE+0npfbTED5D5qKWpsJOLmPpzCgGRpu+k+sgXCM5yM5z5jnXUzI+jfPofKJvdWaNI+BU4zfpOLwj7VDe9lykSqPvG5suB3iX6+4NcB2Ur1o75uK6Ifv5ervvuAkvm8A7C+lRCrYSqdsb4uJUmiZMqyvm+3LLGigrO+6WaUEAXes74Gsrw9lBG0vqH6WJ9hKbS+IpxjtGs5tL7CukjrhcW0vokpE72Pj72+3k9HXg/sw75oCZUvBCXKvrMniHNfbM++rHkYvFNx0r7t1YYaErLVvgui5wQSWdm+VEIzvR1E3L74j/RnxmzcvuSeguPIJNi+PPJDze+Y0b6nhxi+hhjAPl3UQm0cyvI+shnj42U2Cj9YYclJJ6EbPxk6kh3DIyk/EYYR5B+7ND8s3Xziwro/P/zNz5aA3kY/+EiKIIZUTz+kutXRWYpUP4DJJiJ061k/DzgWRWSgXz8lExqUybxiP42eEArxo2U/zb8659dxaD87Ig7QUhhrP4cYVZzoh20/iP34AoKxbz+WHqM+Pb1wPyUPhukbUnE/Dp3umT15cT+XadltZwVxP/RiQVa5DXA/NY1wKMzubT8SaFV7R8ZrP+SeyTTwu2k/\",\"dtype\":\"float64\",\"shape\":[75]},\"y\":{\"__ndarray__\":\"GhExyth1ND/Sv8nbtpRIP2vylNV0PVE/aTum7souWD/At0SJ8fVgPw3Iuahxymc/MSNhhJWvcD/bTfBN02d3P2zb5nxnaoA/CD5h5MAGhz8NmeH1TyaQP+zrCsc9p5Y/LbKd76fGnz/bLW5ISEmmPww9YvTcQq8/JV2OstnstT8Er5Y7M8G+P0c+r3jqkcU/5h99k6ZBzj88bCIzFzjVP4enV8oyxN0//yH99nXg5D8qOpLLf0jtP5kqGJXUifQ/c9cS8kHP/D+/DpwzojQEQIEmwoanVwxA4lgXt9HgE0BSSZ2AJuIbQAMJih9jjiNA5q4l5INuK0AwTKYKRj0zQNv5fmq8/DpAaCJseHrtQkB/+zpwzoxKQM3MzMzMeFJAZmZmZmZqWEAAAAAAAFxeQM3MzMzMJmJAmpmZmZkfZUBmZmZmZhhoQDMzMzMzEWtAAAAAAAAKbkBmZmZmZoFwQM3MzMzM/XFAMzMzMzN6c0CamZmZmfZ0QAAAAAAAc3ZAZmZmZmbvd0DNzMzMzGt5QDMzMzMz6HpAmpmZmZlkfEAAAAAAAOF9QGZmZmZmXX9AZmZmZuZsgECamZmZGSuBQM3MzMxM6YFAAAAAAICngkAzMzMzs2WDQGZmZmbmI4RAmpmZmRnihEDNzMzMTKCFQAAAAACAXoZAMzMzM7Mch0BmZmZm5tqHQJqZmZkZmYhAzczMzExXiUAAAAAAgBWKQDMzMzOz04pAZmZmZuaRi0CamZmZGVCMQM3MzMxMDo1AAAAAAIDMjUAzMzMzs4qOQGZmZmbmSI9A\",\"dtype\":\"float64\",\"shape\":[75]}},\"selected\":{\"id\":\"0940ef42-59dc-49e9-936b-afacb15a3414\",\"type\":\"Selection\"},\"selection_policy\":{\"id\":\"77a96134-834e-46a7-b021-e358d15c98e2\",\"type\":\"UnionRenderers\"}},\"id\":\"b355e197-e6dd-4e28-b00c-365c182637b6\",\"type\":\"ColumnDataSource\"},{\"attributes\":{\"callback\":null,\"end\":3.0319959848700002e-05,\"start\":-4.2097226187e-06},\"id\":\"197bb214-e2e6-474c-b977-200e6b149f0d\",\"type\":\"Range1d\"},{\"attributes\":{},\"id\":\"07dfb428-972e-40ab-8ac6-0a1f93285cd9\",\"type\":\"HelpTool\"},{\"attributes\":{\"label\":{\"value\":\"WGT igg=10\"},\"renderers\":[{\"id\":\"77d01f3f-11d2-40af-af3c-4bc42547c179\",\"type\":\"GlyphRenderer\"},{\"id\":\"7feaa008-0d85-4d8d-82ed-687ce97b8fe5\",\"type\":\"GlyphRenderer\"}]},\"id\":\"cf9ede32-3a24-4b00-acf3-fe446b2d5ffe\",\"type\":\"LegendItem\"},{\"attributes\":{\"data_source\":{\"id\":\"f9104920-0f20-46c6-a1c8-46048e2fcf1f\",\"type\":\"ColumnDataSource\"},\"glyph\":{\"id\":\"c093f78e-3abd-43cd-bbb4-01b38feb5909\",\"type\":\"Triangle\"},\"hover_glyph\":null,\"muted_glyph\":null,\"nonselection_glyph\":{\"id\":\"a2fba853-9c86-4cd0-8d97-4eb4a36fd756\",\"type\":\"Triangle\"},\"selection_glyph\":null,\"view\":{\"id\":\"a0e7c844-d0d3-44bb-8057-93ad3e35a454\",\"type\":\"CDSView\"}},\"id\":\"77d01f3f-11d2-40af-af3c-4bc42547c179\",\"type\":\"GlyphRenderer\"},{\"attributes\":{},\"id\":\"05635fc5-9ea1-4f84-945f-734ffa2a0e64\",\"type\":\"UnionRenderers\"},{\"attributes\":{\"line_alpha\":0.3,\"line_color\":\"#377eb8\",\"line_width\":2,\"x\":{\"field\":\"x\"},\"y\":{\"field\":\"y\"}},\"id\":\"d7678464-e0e8-43c5-8052-2036272a4292\",\"type\":\"Line\"},{\"attributes\":{},\"id\":\"36a742b1-8638-4675-8e39-94178f2d966e\",\"type\":\"UnionRenderers\"},{\"attributes\":{\"source\":{\"id\":\"f9104920-0f20-46c6-a1c8-46048e2fcf1f\",\"type\":\"ColumnDataSource\"}},\"id\":\"a0e7c844-d0d3-44bb-8057-93ad3e35a454\",\"type\":\"CDSView\"},{\"attributes\":{},\"id\":\"633b07e0-85fa-4fac-a9b3-a904615c13d9\",\"type\":\"BasicTickFormatter\"},{\"attributes\":{},\"id\":\"95bb7556-7b4d-448e-a674-93e2f47ee6a2\",\"type\":\"UnionRenderers\"},{\"attributes\":{\"line_alpha\":0.1,\"line_color\":\"#1f77b4\",\"line_width\":2,\"x\":{\"field\":\"x\"},\"y\":{\"field\":\"y\"}},\"id\":\"9d6901ed-f9e8-463b-a71a-3d3f7feb1ceb\",\"type\":\"Line\"},{\"attributes\":{},\"id\":\"cc90b2fb-5918-43ff-b0c9-16d137b87e75\",\"type\":\"WheelZoomTool\"},{\"attributes\":{},\"id\":\"a91691e3-d744-4562-b604-9ee5c299dea1\",\"type\":\"ResetTool\"},{\"attributes\":{},\"id\":\"9f178bfe-f576-4512-8478-b0087e2566f0\",\"type\":\"Selection\"},{\"attributes\":{\"callback\":null,\"data\":{\"x\":{\"__ndarray__\":\"voQraR8xvb5sjk2mPmC8vi5KfD9b9Lm+i24+HFIqtr6cs2XOjbKwvoQf4uljX6K+ZK3Aet+XaT4zzVyjxJqrPh+o2c2aar4+ncjsvJWsyT57yiRTJFvTPqqzJAYzZds+WRKRHSSX4j4vUVyGA8fnPt3FpsHXaOw+JNMC7T9z8D46cALiXO/yPhUsj1zCsPU+pT9twgS++D7z2Oetyhz8PjTQ42wUcP8+CxemrrLQ/D7CrvVDZc/zPp2Mxf6Km+c+MUZA+FyA2T4bYBuI/XHGPulLYokG8qE+FDAQtGmYpL7K5zm4jxyzvthPR0A88be+wqeWAigLu76zeYoCbwS9vihEIOuUhL2+ULEKyI8Lvb7onqcnJzW8vlXNVzI9Kru+VpbTv29Tur5/8YYdl3i6vtXVv5Bon8K+IHS0QxXiyL6P64BXqjzQvsiYAX/EcNO+gP9tXQDD1r6Gv3RZ/Lvavto8ePuPLN++IWOuBhkt4b4Q3JXVrJ7gvs+neMkhc9m+BRZUVwjIxr7noM4mYlDgPp0So9UP+wA/ESOrhXW3FD9J5ieNNIEkPxWvu8dy6DE/ApSeAZifPD/1rUuUcVZFP9tT80M7EE4/HulBqqYtVD/e+VK+wvpZP3djU7lFIGA/VCrsQalkYz9/6ujxirBmP76gvP7+62k/k6lou50EbT/NsVYS9O5vP0xxr23FTnE/5EaHQxOBcj8iMGmbAX9zP92JulgWIXQ/p+p4bao+dD+cawnStJ9zPyJJrwCiYnI/G6q58C4CcT86navYi05vP8JhDGhRwmw/\",\"dtype\":\"float64\",\"shape\":[75]},\"y\":{\"__ndarray__\":\"GhExyth1ND/Sv8nbtpRIP2vylNV0PVE/aTum7souWD/At0SJ8fVgPw3Iuahxymc/MSNhhJWvcD/bTfBN02d3P2zb5nxnaoA/CD5h5MAGhz8NmeH1TyaQP+zrCsc9p5Y/LbKd76fGnz/bLW5ISEmmPww9YvTcQq8/JV2OstnstT8Er5Y7M8G+P0c+r3jqkcU/5h99k6ZBzj88bCIzFzjVP4enV8oyxN0//yH99nXg5D8qOpLLf0jtP5kqGJXUifQ/c9cS8kHP/D+/DpwzojQEQIEmwoanVwxA4lgXt9HgE0BSSZ2AJuIbQAMJih9jjiNA5q4l5INuK0AwTKYKRj0zQNv5fmq8/DpAaCJseHrtQkB/+zpwzoxKQM3MzMzMeFJAZmZmZmZqWEAAAAAAAFxeQM3MzMzMJmJAmpmZmZkfZUBmZmZmZhhoQDMzMzMzEWtAAAAAAAAKbkBmZmZmZoFwQM3MzMzM/XFAMzMzMzN6c0CamZmZmfZ0QAAAAAAAc3ZAZmZmZmbvd0DNzMzMzGt5QDMzMzMz6HpAmpmZmZlkfEAAAAAAAOF9QGZmZmZmXX9AZmZmZuZsgECamZmZGSuBQM3MzMxM6YFAAAAAAICngkAzMzMzs2WDQGZmZmbmI4RAmpmZmRnihEDNzMzMTKCFQAAAAACAXoZAMzMzM7Mch0BmZmZm5tqHQJqZmZkZmYhAzczMzExXiUAAAAAAgBWKQDMzMzOz04pAZmZmZuaRi0CamZmZGVCMQM3MzMxMDo1AAAAAAIDMjUAzMzMzs4qOQGZmZmbmSI9A\",\"dtype\":\"float64\",\"shape\":[75]}},\"selected\":{\"id\":\"d69be9f3-b6b9-4cdb-8092-640b874fefa8\",\"type\":\"Selection\"},\"selection_policy\":{\"id\":\"05635fc5-9ea1-4f84-945f-734ffa2a0e64\",\"type\":\"UnionRenderers\"}},\"id\":\"30bafb9a-1bd6-401a-8f0a-69aed0aa4053\",\"type\":\"ColumnDataSource\"},{\"attributes\":{},\"id\":\"a764598c-b5e8-4dda-b2b4-c2db9612be20\",\"type\":\"UnionRenderers\"},{\"attributes\":{},\"id\":\"81761798-04df-4858-baf6-9e1ecceed31e\",\"type\":\"SaveTool\"},{\"attributes\":{\"label\":{\"value\":\"WGT igg=1\"},\"renderers\":[{\"id\":\"11736c26-104c-4ef8-9e78-00ccac996c47\",\"type\":\"GlyphRenderer\"},{\"id\":\"e047908a-eeae-4b4d-8e52-ae4f61b72b45\",\"type\":\"GlyphRenderer\"}]},\"id\":\"4371afd5-0fcb-4e71-8b56-493a7ffb8e6c\",\"type\":\"LegendItem\"},{\"attributes\":{\"label\":{\"value\":\"CRD\"},\"renderers\":[{\"id\":\"5a970945-7737-4393-92ff-c4c1369d0e5c\",\"type\":\"GlyphRenderer\"},{\"id\":\"3af44367-dbe9-4ac1-a7cb-1b1268fad7ed\",\"type\":\"GlyphRenderer\"}]},\"id\":\"230c1b08-2d88-4573-90a1-3a9417b603dc\",\"type\":\"LegendItem\"},{\"attributes\":{\"overlay\":{\"id\":\"6c3937f2-88de-46f7-9119-77b074d677ff\",\"type\":\"BoxAnnotation\"}},\"id\":\"7865e8bd-a0ee-401f-b61a-add7806af740\",\"type\":\"BoxZoomTool\"},{\"attributes\":{\"plot\":null,\"text\":\"\"},\"id\":\"f100ac31-fcad-4beb-a699-74523ad344f2\",\"type\":\"Title\"}],\"root_ids\":[\"e8ae97ef-81a2-40ee-86ce-e5836dfc7587\"]},\"title\":\"Bokeh Application\",\"version\":\"0.12.16\"}};\n",
       "  var render_items = [{\"docid\":\"31bcf2cd-3124-4557-bb6d-244305da13a2\",\"elementid\":\"65dd5cf8-af63-43ef-ab73-5f08f853a3f1\",\"modelid\":\"e8ae97ef-81a2-40ee-86ce-e5836dfc7587\"}];\n",
       "  root.Bokeh.embed.embed_items_notebook(docs_json, render_items);\n",
       "\n",
       "  }\n",
       "  if (root.Bokeh !== undefined) {\n",
       "    embed_document(root);\n",
       "  } else {\n",
       "    var attempts = 0;\n",
       "    var timer = setInterval(function(root) {\n",
       "      if (root.Bokeh !== undefined) {\n",
       "        embed_document(root);\n",
       "        clearInterval(timer);\n",
       "      }\n",
       "      attempts++;\n",
       "      if (attempts > 100) {\n",
       "        console.log(\"Bokeh: ERROR: Unable to run BokehJS code because BokehJS library is missing\")\n",
       "        clearInterval(timer);\n",
       "      }\n",
       "    }, 10, root)\n",
       "  }\n",
       "})(window);"
      ],
      "application/vnd.bokehjs_exec.v0+json": ""
     },
     "metadata": {
      "application/vnd.bokehjs_exec.v0+json": {
       "id": "e8ae97ef-81a2-40ee-86ce-e5836dfc7587"
      }
     },
     "output_type": "display_data"
    },
    {
     "data": {
      "text/markdown": [
       "*FIGURE.* Cooling rates. Summed over g."
      ],
      "text/plain": [
       "<IPython.core.display.Markdown object>"
      ]
     },
     "metadata": {},
     "output_type": "display_data"
    },
    {
     "data": {
      "text/html": [
       "<a id=\"Flux_Comparison\"></a>"
      ],
      "text/plain": [
       "<IPython.core.display.HTML object>"
      ]
     },
     "metadata": {},
     "output_type": "display_data"
    },
    {
     "data": {
      "text/markdown": [
       "# Flux Comparison"
      ],
      "text/plain": [
       "<IPython.core.display.Markdown object>"
      ]
     },
     "metadata": {},
     "output_type": "display_data"
    },
    {
     "data": {
      "text/html": [
       "<div>\n",
       "<style scoped>\n",
       "    .dataframe tbody tr th:only-of-type {\n",
       "        vertical-align: middle;\n",
       "    }\n",
       "\n",
       "    .dataframe tbody tr th {\n",
       "        vertical-align: top;\n",
       "    }\n",
       "\n",
       "    .dataframe thead th {\n",
       "        text-align: right;\n",
       "    }\n",
       "</style>\n",
       "<table border=\"1\" class=\"dataframe\">\n",
       "  <thead>\n",
       "    <tr style=\"text-align: right;\">\n",
       "      <th></th>\n",
       "      <th></th>\n",
       "      <th></th>\n",
       "      <th>flug</th>\n",
       "      <th>fldg</th>\n",
       "      <th>fnetg</th>\n",
       "    </tr>\n",
       "    <tr>\n",
       "      <th>g</th>\n",
       "      <th>pressure</th>\n",
       "      <th>level</th>\n",
       "      <th></th>\n",
       "      <th></th>\n",
       "      <th></th>\n",
       "    </tr>\n",
       "  </thead>\n",
       "  <tbody>\n",
       "    <tr>\n",
       "      <th rowspan=\"3\" valign=\"top\">1</th>\n",
       "      <th>0.00</th>\n",
       "      <th>1</th>\n",
       "      <td>-0.100725</td>\n",
       "      <td>0.000000</td>\n",
       "      <td>-0.100725</td>\n",
       "    </tr>\n",
       "    <tr>\n",
       "      <th>299.75</th>\n",
       "      <th>46</th>\n",
       "      <td>-0.100872</td>\n",
       "      <td>0.000094</td>\n",
       "      <td>-0.100778</td>\n",
       "    </tr>\n",
       "    <tr>\n",
       "      <th>1013.00</th>\n",
       "      <th>76</th>\n",
       "      <td>-0.105679</td>\n",
       "      <td>0.055213</td>\n",
       "      <td>-0.050466</td>\n",
       "    </tr>\n",
       "    <tr>\n",
       "      <th rowspan=\"3\" valign=\"top\">2</th>\n",
       "      <th>0.00</th>\n",
       "      <th>1</th>\n",
       "      <td>-0.962484</td>\n",
       "      <td>0.000000</td>\n",
       "      <td>-0.962484</td>\n",
       "    </tr>\n",
       "    <tr>\n",
       "      <th>299.75</th>\n",
       "      <th>46</th>\n",
       "      <td>-0.962590</td>\n",
       "      <td>0.000057</td>\n",
       "      <td>-0.962533</td>\n",
       "    </tr>\n",
       "    <tr>\n",
       "      <th>1013.00</th>\n",
       "      <th>76</th>\n",
       "      <td>-0.966794</td>\n",
       "      <td>0.095975</td>\n",
       "      <td>-0.870820</td>\n",
       "    </tr>\n",
       "    <tr>\n",
       "      <th rowspan=\"3\" valign=\"top\">3</th>\n",
       "      <th>0.00</th>\n",
       "      <th>1</th>\n",
       "      <td>-13.977638</td>\n",
       "      <td>0.000000</td>\n",
       "      <td>-13.977638</td>\n",
       "    </tr>\n",
       "    <tr>\n",
       "      <th>299.75</th>\n",
       "      <th>46</th>\n",
       "      <td>-13.977659</td>\n",
       "      <td>0.000011</td>\n",
       "      <td>-13.977648</td>\n",
       "    </tr>\n",
       "    <tr>\n",
       "      <th>1013.00</th>\n",
       "      <th>76</th>\n",
       "      <td>-13.978933</td>\n",
       "      <td>0.048463</td>\n",
       "      <td>-13.930470</td>\n",
       "    </tr>\n",
       "  </tbody>\n",
       "</table>\n",
       "</div>"
      ],
      "text/plain": [
       "                       flug      fldg      fnetg\n",
       "g pressure level                                \n",
       "1 0.00     1      -0.100725  0.000000  -0.100725\n",
       "  299.75   46     -0.100872  0.000094  -0.100778\n",
       "  1013.00  76     -0.105679  0.055213  -0.050466\n",
       "2 0.00     1      -0.962484  0.000000  -0.962484\n",
       "  299.75   46     -0.962590  0.000057  -0.962533\n",
       "  1013.00  76     -0.966794  0.095975  -0.870820\n",
       "3 0.00     1     -13.977638  0.000000 -13.977638\n",
       "  299.75   46    -13.977659  0.000011 -13.977648\n",
       "  1013.00  76    -13.978933  0.048463 -13.930470"
      ]
     },
     "metadata": {},
     "output_type": "display_data"
    },
    {
     "data": {
      "text/markdown": [
       "*TABLE.* Fluxes. CRD"
      ],
      "text/plain": [
       "<IPython.core.display.Markdown object>"
      ]
     },
     "metadata": {},
     "output_type": "display_data"
    },
    {
     "data": {
      "text/html": [
       "<div>\n",
       "<style scoped>\n",
       "    .dataframe tbody tr th:only-of-type {\n",
       "        vertical-align: middle;\n",
       "    }\n",
       "\n",
       "    .dataframe tbody tr th {\n",
       "        vertical-align: top;\n",
       "    }\n",
       "\n",
       "    .dataframe thead th {\n",
       "        text-align: right;\n",
       "    }\n",
       "</style>\n",
       "<table border=\"1\" class=\"dataframe\">\n",
       "  <thead>\n",
       "    <tr style=\"text-align: right;\">\n",
       "      <th></th>\n",
       "      <th></th>\n",
       "      <th></th>\n",
       "      <th>flug</th>\n",
       "      <th>fldg</th>\n",
       "      <th>fnetg</th>\n",
       "    </tr>\n",
       "    <tr>\n",
       "      <th>g</th>\n",
       "      <th>pressure</th>\n",
       "      <th>level</th>\n",
       "      <th></th>\n",
       "      <th></th>\n",
       "      <th></th>\n",
       "    </tr>\n",
       "  </thead>\n",
       "  <tbody>\n",
       "    <tr>\n",
       "      <th rowspan=\"3\" valign=\"top\">1</th>\n",
       "      <th>0.00</th>\n",
       "      <th>1</th>\n",
       "      <td>-0.100933</td>\n",
       "      <td>0.000000</td>\n",
       "      <td>-0.100933</td>\n",
       "    </tr>\n",
       "    <tr>\n",
       "      <th>299.75</th>\n",
       "      <th>46</th>\n",
       "      <td>-0.101058</td>\n",
       "      <td>0.000074</td>\n",
       "      <td>-0.100984</td>\n",
       "    </tr>\n",
       "    <tr>\n",
       "      <th>1013.00</th>\n",
       "      <th>76</th>\n",
       "      <td>-0.105252</td>\n",
       "      <td>0.055532</td>\n",
       "      <td>-0.049720</td>\n",
       "    </tr>\n",
       "    <tr>\n",
       "      <th rowspan=\"3\" valign=\"top\">2</th>\n",
       "      <th>0.00</th>\n",
       "      <th>1</th>\n",
       "      <td>-0.961854</td>\n",
       "      <td>0.000000</td>\n",
       "      <td>-0.961854</td>\n",
       "    </tr>\n",
       "    <tr>\n",
       "      <th>299.75</th>\n",
       "      <th>46</th>\n",
       "      <td>-0.961940</td>\n",
       "      <td>0.000046</td>\n",
       "      <td>-0.961894</td>\n",
       "    </tr>\n",
       "    <tr>\n",
       "      <th>1013.00</th>\n",
       "      <th>76</th>\n",
       "      <td>-0.965353</td>\n",
       "      <td>0.082223</td>\n",
       "      <td>-0.883131</td>\n",
       "    </tr>\n",
       "    <tr>\n",
       "      <th rowspan=\"3\" valign=\"top\">3</th>\n",
       "      <th>0.00</th>\n",
       "      <th>1</th>\n",
       "      <td>-13.979649</td>\n",
       "      <td>0.000000</td>\n",
       "      <td>-13.979649</td>\n",
       "    </tr>\n",
       "    <tr>\n",
       "      <th>299.75</th>\n",
       "      <th>46</th>\n",
       "      <td>-13.979668</td>\n",
       "      <td>0.000010</td>\n",
       "      <td>-13.979658</td>\n",
       "    </tr>\n",
       "    <tr>\n",
       "      <th>1013.00</th>\n",
       "      <th>76</th>\n",
       "      <td>-13.980801</td>\n",
       "      <td>0.044455</td>\n",
       "      <td>-13.936346</td>\n",
       "    </tr>\n",
       "  </tbody>\n",
       "</table>\n",
       "</div>"
      ],
      "text/plain": [
       "                       flug      fldg      fnetg\n",
       "g pressure level                                \n",
       "1 0.00     1      -0.100933  0.000000  -0.100933\n",
       "  299.75   46     -0.101058  0.000074  -0.100984\n",
       "  1013.00  76     -0.105252  0.055532  -0.049720\n",
       "2 0.00     1      -0.961854  0.000000  -0.961854\n",
       "  299.75   46     -0.961940  0.000046  -0.961894\n",
       "  1013.00  76     -0.965353  0.082223  -0.883131\n",
       "3 0.00     1     -13.979649  0.000000 -13.979649\n",
       "  299.75   46    -13.979668  0.000010 -13.979658\n",
       "  1013.00  76    -13.980801  0.044455 -13.936346"
      ]
     },
     "metadata": {},
     "output_type": "display_data"
    },
    {
     "data": {
      "text/markdown": [
       "*TABLE.* Fluxes. WGT igg=1"
      ],
      "text/plain": [
       "<IPython.core.display.Markdown object>"
      ]
     },
     "metadata": {},
     "output_type": "display_data"
    },
    {
     "data": {
      "text/html": [
       "<div>\n",
       "<style scoped>\n",
       "    .dataframe tbody tr th:only-of-type {\n",
       "        vertical-align: middle;\n",
       "    }\n",
       "\n",
       "    .dataframe tbody tr th {\n",
       "        vertical-align: top;\n",
       "    }\n",
       "\n",
       "    .dataframe thead th {\n",
       "        text-align: right;\n",
       "    }\n",
       "</style>\n",
       "<table border=\"1\" class=\"dataframe\">\n",
       "  <thead>\n",
       "    <tr style=\"text-align: right;\">\n",
       "      <th></th>\n",
       "      <th></th>\n",
       "      <th></th>\n",
       "      <th>flug</th>\n",
       "      <th>fldg</th>\n",
       "      <th>fnetg</th>\n",
       "    </tr>\n",
       "    <tr>\n",
       "      <th>g</th>\n",
       "      <th>pressure</th>\n",
       "      <th>level</th>\n",
       "      <th></th>\n",
       "      <th></th>\n",
       "      <th></th>\n",
       "    </tr>\n",
       "  </thead>\n",
       "  <tbody>\n",
       "    <tr>\n",
       "      <th rowspan=\"3\" valign=\"top\">1</th>\n",
       "      <th>0.00</th>\n",
       "      <th>1</th>\n",
       "      <td>-0.101429</td>\n",
       "      <td>0.000000</td>\n",
       "      <td>-0.101429</td>\n",
       "    </tr>\n",
       "    <tr>\n",
       "      <th>299.75</th>\n",
       "      <th>46</th>\n",
       "      <td>-0.101540</td>\n",
       "      <td>0.000062</td>\n",
       "      <td>-0.101478</td>\n",
       "    </tr>\n",
       "    <tr>\n",
       "      <th>1013.00</th>\n",
       "      <th>76</th>\n",
       "      <td>-0.105252</td>\n",
       "      <td>0.055837</td>\n",
       "      <td>-0.049415</td>\n",
       "    </tr>\n",
       "    <tr>\n",
       "      <th rowspan=\"3\" valign=\"top\">2</th>\n",
       "      <th>0.00</th>\n",
       "      <th>1</th>\n",
       "      <td>-0.962465</td>\n",
       "      <td>0.000000</td>\n",
       "      <td>-0.962465</td>\n",
       "    </tr>\n",
       "    <tr>\n",
       "      <th>299.75</th>\n",
       "      <th>46</th>\n",
       "      <td>-0.962538</td>\n",
       "      <td>0.000038</td>\n",
       "      <td>-0.962499</td>\n",
       "    </tr>\n",
       "    <tr>\n",
       "      <th>1013.00</th>\n",
       "      <th>76</th>\n",
       "      <td>-0.965353</td>\n",
       "      <td>0.072401</td>\n",
       "      <td>-0.892952</td>\n",
       "    </tr>\n",
       "    <tr>\n",
       "      <th rowspan=\"3\" valign=\"top\">3</th>\n",
       "      <th>0.00</th>\n",
       "      <th>1</th>\n",
       "      <td>-13.979755</td>\n",
       "      <td>0.000000</td>\n",
       "      <td>-13.979755</td>\n",
       "    </tr>\n",
       "    <tr>\n",
       "      <th>299.75</th>\n",
       "      <th>46</th>\n",
       "      <td>-13.979773</td>\n",
       "      <td>0.000009</td>\n",
       "      <td>-13.979764</td>\n",
       "    </tr>\n",
       "    <tr>\n",
       "      <th>1013.00</th>\n",
       "      <th>76</th>\n",
       "      <td>-13.980801</td>\n",
       "      <td>0.040239</td>\n",
       "      <td>-13.940562</td>\n",
       "    </tr>\n",
       "  </tbody>\n",
       "</table>\n",
       "</div>"
      ],
      "text/plain": [
       "                       flug      fldg      fnetg\n",
       "g pressure level                                \n",
       "1 0.00     1      -0.101429  0.000000  -0.101429\n",
       "  299.75   46     -0.101540  0.000062  -0.101478\n",
       "  1013.00  76     -0.105252  0.055837  -0.049415\n",
       "2 0.00     1      -0.962465  0.000000  -0.962465\n",
       "  299.75   46     -0.962538  0.000038  -0.962499\n",
       "  1013.00  76     -0.965353  0.072401  -0.892952\n",
       "3 0.00     1     -13.979755  0.000000 -13.979755\n",
       "  299.75   46    -13.979773  0.000009 -13.979764\n",
       "  1013.00  76    -13.980801  0.040239 -13.940562"
      ]
     },
     "metadata": {},
     "output_type": "display_data"
    },
    {
     "data": {
      "text/markdown": [
       "*TABLE.* Fluxes. WGT igg=10"
      ],
      "text/plain": [
       "<IPython.core.display.Markdown object>"
      ]
     },
     "metadata": {},
     "output_type": "display_data"
    },
    {
     "data": {
      "text/html": [
       "<div>\n",
       "<style scoped>\n",
       "    .dataframe tbody tr th:only-of-type {\n",
       "        vertical-align: middle;\n",
       "    }\n",
       "\n",
       "    .dataframe tbody tr th {\n",
       "        vertical-align: top;\n",
       "    }\n",
       "\n",
       "    .dataframe thead th {\n",
       "        text-align: right;\n",
       "    }\n",
       "</style>\n",
       "<table border=\"1\" class=\"dataframe\">\n",
       "  <thead>\n",
       "    <tr style=\"text-align: right;\">\n",
       "      <th></th>\n",
       "      <th></th>\n",
       "      <th></th>\n",
       "      <th>flug</th>\n",
       "      <th>fldg</th>\n",
       "      <th>fnetg</th>\n",
       "    </tr>\n",
       "    <tr>\n",
       "      <th>g</th>\n",
       "      <th>pressure</th>\n",
       "      <th>level</th>\n",
       "      <th></th>\n",
       "      <th></th>\n",
       "      <th></th>\n",
       "    </tr>\n",
       "  </thead>\n",
       "  <tbody>\n",
       "    <tr>\n",
       "      <th rowspan=\"3\" valign=\"top\">1</th>\n",
       "      <th>0.00</th>\n",
       "      <th>1</th>\n",
       "      <td>-0.000208</td>\n",
       "      <td>0.000000e+00</td>\n",
       "      <td>-0.000208</td>\n",
       "    </tr>\n",
       "    <tr>\n",
       "      <th>299.75</th>\n",
       "      <th>46</th>\n",
       "      <td>-0.000185</td>\n",
       "      <td>-2.025043e-05</td>\n",
       "      <td>-0.000206</td>\n",
       "    </tr>\n",
       "    <tr>\n",
       "      <th>1013.00</th>\n",
       "      <th>76</th>\n",
       "      <td>0.000427</td>\n",
       "      <td>3.184440e-04</td>\n",
       "      <td>0.000745</td>\n",
       "    </tr>\n",
       "    <tr>\n",
       "      <th rowspan=\"3\" valign=\"top\">2</th>\n",
       "      <th>0.00</th>\n",
       "      <th>1</th>\n",
       "      <td>0.000630</td>\n",
       "      <td>0.000000e+00</td>\n",
       "      <td>0.000630</td>\n",
       "    </tr>\n",
       "    <tr>\n",
       "      <th>299.75</th>\n",
       "      <th>46</th>\n",
       "      <td>0.000651</td>\n",
       "      <td>-1.177299e-05</td>\n",
       "      <td>0.000639</td>\n",
       "    </tr>\n",
       "    <tr>\n",
       "      <th>1013.00</th>\n",
       "      <th>76</th>\n",
       "      <td>0.001441</td>\n",
       "      <td>-1.375173e-02</td>\n",
       "      <td>-0.012311</td>\n",
       "    </tr>\n",
       "    <tr>\n",
       "      <th rowspan=\"3\" valign=\"top\">3</th>\n",
       "      <th>0.00</th>\n",
       "      <th>1</th>\n",
       "      <td>-0.002011</td>\n",
       "      <td>0.000000e+00</td>\n",
       "      <td>-0.002011</td>\n",
       "    </tr>\n",
       "    <tr>\n",
       "      <th>299.75</th>\n",
       "      <th>46</th>\n",
       "      <td>-0.002009</td>\n",
       "      <td>-9.711090e-07</td>\n",
       "      <td>-0.002010</td>\n",
       "    </tr>\n",
       "    <tr>\n",
       "      <th>1013.00</th>\n",
       "      <th>76</th>\n",
       "      <td>-0.001868</td>\n",
       "      <td>-4.008066e-03</td>\n",
       "      <td>-0.005876</td>\n",
       "    </tr>\n",
       "  </tbody>\n",
       "</table>\n",
       "</div>"
      ],
      "text/plain": [
       "                      flug          fldg     fnetg\n",
       "g pressure level                                  \n",
       "1 0.00     1     -0.000208  0.000000e+00 -0.000208\n",
       "  299.75   46    -0.000185 -2.025043e-05 -0.000206\n",
       "  1013.00  76     0.000427  3.184440e-04  0.000745\n",
       "2 0.00     1      0.000630  0.000000e+00  0.000630\n",
       "  299.75   46     0.000651 -1.177299e-05  0.000639\n",
       "  1013.00  76     0.001441 -1.375173e-02 -0.012311\n",
       "3 0.00     1     -0.002011  0.000000e+00 -0.002011\n",
       "  299.75   46    -0.002009 -9.711090e-07 -0.002010\n",
       "  1013.00  76    -0.001868 -4.008066e-03 -0.005876"
      ]
     },
     "metadata": {},
     "output_type": "display_data"
    },
    {
     "data": {
      "text/markdown": [
       "*TABLE.* Fluxes. (WGT igg=1) - (CRD)"
      ],
      "text/plain": [
       "<IPython.core.display.Markdown object>"
      ]
     },
     "metadata": {},
     "output_type": "display_data"
    },
    {
     "data": {
      "text/html": [
       "<div>\n",
       "<style scoped>\n",
       "    .dataframe tbody tr th:only-of-type {\n",
       "        vertical-align: middle;\n",
       "    }\n",
       "\n",
       "    .dataframe tbody tr th {\n",
       "        vertical-align: top;\n",
       "    }\n",
       "\n",
       "    .dataframe thead th {\n",
       "        text-align: right;\n",
       "    }\n",
       "</style>\n",
       "<table border=\"1\" class=\"dataframe\">\n",
       "  <thead>\n",
       "    <tr style=\"text-align: right;\">\n",
       "      <th></th>\n",
       "      <th></th>\n",
       "      <th></th>\n",
       "      <th>flug</th>\n",
       "      <th>fldg</th>\n",
       "      <th>fnetg</th>\n",
       "    </tr>\n",
       "    <tr>\n",
       "      <th>g</th>\n",
       "      <th>pressure</th>\n",
       "      <th>level</th>\n",
       "      <th></th>\n",
       "      <th></th>\n",
       "      <th></th>\n",
       "    </tr>\n",
       "  </thead>\n",
       "  <tbody>\n",
       "    <tr>\n",
       "      <th rowspan=\"3\" valign=\"top\">1</th>\n",
       "      <th>0.00</th>\n",
       "      <th>1</th>\n",
       "      <td>-0.000705</td>\n",
       "      <td>0.000000</td>\n",
       "      <td>-0.000705</td>\n",
       "    </tr>\n",
       "    <tr>\n",
       "      <th>299.75</th>\n",
       "      <th>46</th>\n",
       "      <td>-0.000668</td>\n",
       "      <td>-0.000032</td>\n",
       "      <td>-0.000700</td>\n",
       "    </tr>\n",
       "    <tr>\n",
       "      <th>1013.00</th>\n",
       "      <th>76</th>\n",
       "      <td>0.000427</td>\n",
       "      <td>0.000623</td>\n",
       "      <td>0.001050</td>\n",
       "    </tr>\n",
       "    <tr>\n",
       "      <th rowspan=\"3\" valign=\"top\">2</th>\n",
       "      <th>0.00</th>\n",
       "      <th>1</th>\n",
       "      <td>0.000018</td>\n",
       "      <td>0.000000</td>\n",
       "      <td>0.000018</td>\n",
       "    </tr>\n",
       "    <tr>\n",
       "      <th>299.75</th>\n",
       "      <th>46</th>\n",
       "      <td>0.000053</td>\n",
       "      <td>-0.000019</td>\n",
       "      <td>0.000034</td>\n",
       "    </tr>\n",
       "    <tr>\n",
       "      <th>1013.00</th>\n",
       "      <th>76</th>\n",
       "      <td>0.001441</td>\n",
       "      <td>-0.023573</td>\n",
       "      <td>-0.022132</td>\n",
       "    </tr>\n",
       "    <tr>\n",
       "      <th rowspan=\"3\" valign=\"top\">3</th>\n",
       "      <th>0.00</th>\n",
       "      <th>1</th>\n",
       "      <td>-0.002117</td>\n",
       "      <td>0.000000</td>\n",
       "      <td>-0.002117</td>\n",
       "    </tr>\n",
       "    <tr>\n",
       "      <th>299.75</th>\n",
       "      <th>46</th>\n",
       "      <td>-0.002114</td>\n",
       "      <td>-0.000002</td>\n",
       "      <td>-0.002116</td>\n",
       "    </tr>\n",
       "    <tr>\n",
       "      <th>1013.00</th>\n",
       "      <th>76</th>\n",
       "      <td>-0.001868</td>\n",
       "      <td>-0.008223</td>\n",
       "      <td>-0.010092</td>\n",
       "    </tr>\n",
       "  </tbody>\n",
       "</table>\n",
       "</div>"
      ],
      "text/plain": [
       "                      flug      fldg     fnetg\n",
       "g pressure level                              \n",
       "1 0.00     1     -0.000705  0.000000 -0.000705\n",
       "  299.75   46    -0.000668 -0.000032 -0.000700\n",
       "  1013.00  76     0.000427  0.000623  0.001050\n",
       "2 0.00     1      0.000018  0.000000  0.000018\n",
       "  299.75   46     0.000053 -0.000019  0.000034\n",
       "  1013.00  76     0.001441 -0.023573 -0.022132\n",
       "3 0.00     1     -0.002117  0.000000 -0.002117\n",
       "  299.75   46    -0.002114 -0.000002 -0.002116\n",
       "  1013.00  76    -0.001868 -0.008223 -0.010092"
      ]
     },
     "metadata": {},
     "output_type": "display_data"
    },
    {
     "data": {
      "text/markdown": [
       "*TABLE.* Fluxes. (WGT igg=10) - (CRD)"
      ],
      "text/plain": [
       "<IPython.core.display.Markdown object>"
      ]
     },
     "metadata": {},
     "output_type": "display_data"
    },
    {
     "data": {
      "text/html": [
       "<div>\n",
       "<style scoped>\n",
       "    .dataframe tbody tr th:only-of-type {\n",
       "        vertical-align: middle;\n",
       "    }\n",
       "\n",
       "    .dataframe tbody tr th {\n",
       "        vertical-align: top;\n",
       "    }\n",
       "\n",
       "    .dataframe thead th {\n",
       "        text-align: right;\n",
       "    }\n",
       "</style>\n",
       "<table border=\"1\" class=\"dataframe\">\n",
       "  <thead>\n",
       "    <tr style=\"text-align: right;\">\n",
       "      <th></th>\n",
       "      <th></th>\n",
       "      <th>flug</th>\n",
       "      <th>fldg</th>\n",
       "      <th>fnetg</th>\n",
       "    </tr>\n",
       "    <tr>\n",
       "      <th>pressure</th>\n",
       "      <th>level</th>\n",
       "      <th></th>\n",
       "      <th></th>\n",
       "      <th></th>\n",
       "    </tr>\n",
       "  </thead>\n",
       "  <tbody>\n",
       "    <tr>\n",
       "      <th>0.00</th>\n",
       "      <th>1</th>\n",
       "      <td>-15.040846</td>\n",
       "      <td>0.000000</td>\n",
       "      <td>-15.040846</td>\n",
       "    </tr>\n",
       "    <tr>\n",
       "      <th>299.75</th>\n",
       "      <th>46</th>\n",
       "      <td>-15.041122</td>\n",
       "      <td>0.000163</td>\n",
       "      <td>-15.040959</td>\n",
       "    </tr>\n",
       "    <tr>\n",
       "      <th>1013.00</th>\n",
       "      <th>76</th>\n",
       "      <td>-15.051406</td>\n",
       "      <td>0.199651</td>\n",
       "      <td>-14.851755</td>\n",
       "    </tr>\n",
       "  </tbody>\n",
       "</table>\n",
       "</div>"
      ],
      "text/plain": [
       "                     flug      fldg      fnetg\n",
       "pressure level                                \n",
       "0.00     1     -15.040846  0.000000 -15.040846\n",
       "299.75   46    -15.041122  0.000163 -15.040959\n",
       "1013.00  76    -15.051406  0.199651 -14.851755"
      ]
     },
     "metadata": {},
     "output_type": "display_data"
    },
    {
     "data": {
      "text/markdown": [
       "*TABLE.* Fluxes. CRD"
      ],
      "text/plain": [
       "<IPython.core.display.Markdown object>"
      ]
     },
     "metadata": {},
     "output_type": "display_data"
    },
    {
     "data": {
      "text/html": [
       "<div>\n",
       "<style scoped>\n",
       "    .dataframe tbody tr th:only-of-type {\n",
       "        vertical-align: middle;\n",
       "    }\n",
       "\n",
       "    .dataframe tbody tr th {\n",
       "        vertical-align: top;\n",
       "    }\n",
       "\n",
       "    .dataframe thead th {\n",
       "        text-align: right;\n",
       "    }\n",
       "</style>\n",
       "<table border=\"1\" class=\"dataframe\">\n",
       "  <thead>\n",
       "    <tr style=\"text-align: right;\">\n",
       "      <th></th>\n",
       "      <th></th>\n",
       "      <th>flug</th>\n",
       "      <th>fldg</th>\n",
       "      <th>fnetg</th>\n",
       "    </tr>\n",
       "    <tr>\n",
       "      <th>pressure</th>\n",
       "      <th>level</th>\n",
       "      <th></th>\n",
       "      <th></th>\n",
       "      <th></th>\n",
       "    </tr>\n",
       "  </thead>\n",
       "  <tbody>\n",
       "    <tr>\n",
       "      <th>0.00</th>\n",
       "      <th>1</th>\n",
       "      <td>-15.042436</td>\n",
       "      <td>0.000000</td>\n",
       "      <td>-15.042436</td>\n",
       "    </tr>\n",
       "    <tr>\n",
       "      <th>299.75</th>\n",
       "      <th>46</th>\n",
       "      <td>-15.042665</td>\n",
       "      <td>0.000130</td>\n",
       "      <td>-15.042536</td>\n",
       "    </tr>\n",
       "    <tr>\n",
       "      <th>1013.00</th>\n",
       "      <th>76</th>\n",
       "      <td>-15.051406</td>\n",
       "      <td>0.182209</td>\n",
       "      <td>-14.869197</td>\n",
       "    </tr>\n",
       "  </tbody>\n",
       "</table>\n",
       "</div>"
      ],
      "text/plain": [
       "                     flug      fldg      fnetg\n",
       "pressure level                                \n",
       "0.00     1     -15.042436  0.000000 -15.042436\n",
       "299.75   46    -15.042665  0.000130 -15.042536\n",
       "1013.00  76    -15.051406  0.182209 -14.869197"
      ]
     },
     "metadata": {},
     "output_type": "display_data"
    },
    {
     "data": {
      "text/markdown": [
       "*TABLE.* Fluxes. WGT igg=1"
      ],
      "text/plain": [
       "<IPython.core.display.Markdown object>"
      ]
     },
     "metadata": {},
     "output_type": "display_data"
    },
    {
     "data": {
      "text/html": [
       "<div>\n",
       "<style scoped>\n",
       "    .dataframe tbody tr th:only-of-type {\n",
       "        vertical-align: middle;\n",
       "    }\n",
       "\n",
       "    .dataframe tbody tr th {\n",
       "        vertical-align: top;\n",
       "    }\n",
       "\n",
       "    .dataframe thead th {\n",
       "        text-align: right;\n",
       "    }\n",
       "</style>\n",
       "<table border=\"1\" class=\"dataframe\">\n",
       "  <thead>\n",
       "    <tr style=\"text-align: right;\">\n",
       "      <th></th>\n",
       "      <th></th>\n",
       "      <th>flug</th>\n",
       "      <th>fldg</th>\n",
       "      <th>fnetg</th>\n",
       "    </tr>\n",
       "    <tr>\n",
       "      <th>pressure</th>\n",
       "      <th>level</th>\n",
       "      <th></th>\n",
       "      <th></th>\n",
       "      <th></th>\n",
       "    </tr>\n",
       "  </thead>\n",
       "  <tbody>\n",
       "    <tr>\n",
       "      <th>0.00</th>\n",
       "      <th>1</th>\n",
       "      <td>-15.043650</td>\n",
       "      <td>0.000000</td>\n",
       "      <td>-15.043650</td>\n",
       "    </tr>\n",
       "    <tr>\n",
       "      <th>299.75</th>\n",
       "      <th>46</th>\n",
       "      <td>-15.043851</td>\n",
       "      <td>0.000109</td>\n",
       "      <td>-15.043742</td>\n",
       "    </tr>\n",
       "    <tr>\n",
       "      <th>1013.00</th>\n",
       "      <th>76</th>\n",
       "      <td>-15.051406</td>\n",
       "      <td>0.168477</td>\n",
       "      <td>-14.882929</td>\n",
       "    </tr>\n",
       "  </tbody>\n",
       "</table>\n",
       "</div>"
      ],
      "text/plain": [
       "                     flug      fldg      fnetg\n",
       "pressure level                                \n",
       "0.00     1     -15.043650  0.000000 -15.043650\n",
       "299.75   46    -15.043851  0.000109 -15.043742\n",
       "1013.00  76    -15.051406  0.168477 -14.882929"
      ]
     },
     "metadata": {},
     "output_type": "display_data"
    },
    {
     "data": {
      "text/markdown": [
       "*TABLE.* Fluxes. WGT igg=10"
      ],
      "text/plain": [
       "<IPython.core.display.Markdown object>"
      ]
     },
     "metadata": {},
     "output_type": "display_data"
    },
    {
     "data": {
      "text/html": [
       "<div>\n",
       "<style scoped>\n",
       "    .dataframe tbody tr th:only-of-type {\n",
       "        vertical-align: middle;\n",
       "    }\n",
       "\n",
       "    .dataframe tbody tr th {\n",
       "        vertical-align: top;\n",
       "    }\n",
       "\n",
       "    .dataframe thead th {\n",
       "        text-align: right;\n",
       "    }\n",
       "</style>\n",
       "<table border=\"1\" class=\"dataframe\">\n",
       "  <thead>\n",
       "    <tr style=\"text-align: right;\">\n",
       "      <th></th>\n",
       "      <th></th>\n",
       "      <th>flug</th>\n",
       "      <th>fldg</th>\n",
       "      <th>fnetg</th>\n",
       "    </tr>\n",
       "    <tr>\n",
       "      <th>pressure</th>\n",
       "      <th>level</th>\n",
       "      <th></th>\n",
       "      <th></th>\n",
       "      <th></th>\n",
       "    </tr>\n",
       "  </thead>\n",
       "  <tbody>\n",
       "    <tr>\n",
       "      <th>0.00</th>\n",
       "      <th>1</th>\n",
       "      <td>-1.589640e-03</td>\n",
       "      <td>0.000000</td>\n",
       "      <td>-0.001590</td>\n",
       "    </tr>\n",
       "    <tr>\n",
       "      <th>299.75</th>\n",
       "      <th>46</th>\n",
       "      <td>-1.543680e-03</td>\n",
       "      <td>-0.000033</td>\n",
       "      <td>-0.001577</td>\n",
       "    </tr>\n",
       "    <tr>\n",
       "      <th>1013.00</th>\n",
       "      <th>76</th>\n",
       "      <td>-1.500000e-07</td>\n",
       "      <td>-0.017441</td>\n",
       "      <td>-0.017441</td>\n",
       "    </tr>\n",
       "  </tbody>\n",
       "</table>\n",
       "</div>"
      ],
      "text/plain": [
       "                        flug      fldg     fnetg\n",
       "pressure level                                  \n",
       "0.00     1     -1.589640e-03  0.000000 -0.001590\n",
       "299.75   46    -1.543680e-03 -0.000033 -0.001577\n",
       "1013.00  76    -1.500000e-07 -0.017441 -0.017441"
      ]
     },
     "metadata": {},
     "output_type": "display_data"
    },
    {
     "data": {
      "text/markdown": [
       "*TABLE.* Fluxes. (WGT igg=1) - (CRD)"
      ],
      "text/plain": [
       "<IPython.core.display.Markdown object>"
      ]
     },
     "metadata": {},
     "output_type": "display_data"
    },
    {
     "data": {
      "text/html": [
       "<div>\n",
       "<style scoped>\n",
       "    .dataframe tbody tr th:only-of-type {\n",
       "        vertical-align: middle;\n",
       "    }\n",
       "\n",
       "    .dataframe tbody tr th {\n",
       "        vertical-align: top;\n",
       "    }\n",
       "\n",
       "    .dataframe thead th {\n",
       "        text-align: right;\n",
       "    }\n",
       "</style>\n",
       "<table border=\"1\" class=\"dataframe\">\n",
       "  <thead>\n",
       "    <tr style=\"text-align: right;\">\n",
       "      <th></th>\n",
       "      <th></th>\n",
       "      <th>flug</th>\n",
       "      <th>fldg</th>\n",
       "      <th>fnetg</th>\n",
       "    </tr>\n",
       "    <tr>\n",
       "      <th>pressure</th>\n",
       "      <th>level</th>\n",
       "      <th></th>\n",
       "      <th></th>\n",
       "      <th></th>\n",
       "    </tr>\n",
       "  </thead>\n",
       "  <tbody>\n",
       "    <tr>\n",
       "      <th>0.00</th>\n",
       "      <th>1</th>\n",
       "      <td>-2.803560e-03</td>\n",
       "      <td>0.000000</td>\n",
       "      <td>-0.002804</td>\n",
       "    </tr>\n",
       "    <tr>\n",
       "      <th>299.75</th>\n",
       "      <th>46</th>\n",
       "      <td>-2.728980e-03</td>\n",
       "      <td>-0.000054</td>\n",
       "      <td>-0.002783</td>\n",
       "    </tr>\n",
       "    <tr>\n",
       "      <th>1013.00</th>\n",
       "      <th>76</th>\n",
       "      <td>-1.500000e-07</td>\n",
       "      <td>-0.031173</td>\n",
       "      <td>-0.031174</td>\n",
       "    </tr>\n",
       "  </tbody>\n",
       "</table>\n",
       "</div>"
      ],
      "text/plain": [
       "                        flug      fldg     fnetg\n",
       "pressure level                                  \n",
       "0.00     1     -2.803560e-03  0.000000 -0.002804\n",
       "299.75   46    -2.728980e-03 -0.000054 -0.002783\n",
       "1013.00  76    -1.500000e-07 -0.031173 -0.031174"
      ]
     },
     "metadata": {},
     "output_type": "display_data"
    },
    {
     "data": {
      "text/markdown": [
       "*TABLE.* Fluxes. (WGT igg=10) - (CRD)"
      ],
      "text/plain": [
       "<IPython.core.display.Markdown object>"
      ]
     },
     "metadata": {},
     "output_type": "display_data"
    },
    {
     "data": {
      "text/html": [
       "<a id=\"g-interval_Summary\"></a>"
      ],
      "text/plain": [
       "<IPython.core.display.HTML object>"
      ]
     },
     "metadata": {},
     "output_type": "display_data"
    },
    {
     "data": {
      "text/markdown": [
       "# g-interval Summary"
      ],
      "text/plain": [
       "<IPython.core.display.Markdown object>"
      ]
     },
     "metadata": {},
     "output_type": "display_data"
    },
    {
     "data": {
      "text/html": [
       "<div>\n",
       "<style scoped>\n",
       "    .dataframe tbody tr th:only-of-type {\n",
       "        vertical-align: middle;\n",
       "    }\n",
       "\n",
       "    .dataframe tbody tr th {\n",
       "        vertical-align: top;\n",
       "    }\n",
       "\n",
       "    .dataframe thead th {\n",
       "        text-align: right;\n",
       "    }\n",
       "</style>\n",
       "<table border=\"1\" class=\"dataframe\">\n",
       "  <thead>\n",
       "    <tr style=\"text-align: right;\">\n",
       "      <th></th>\n",
       "      <th>abscom</th>\n",
       "      <th>k(ig) / k(ig - 1)</th>\n",
       "      <th>dg</th>\n",
       "      <th>dgs</th>\n",
       "      <th>dg cumsum</th>\n",
       "      <th>dgs cumsum</th>\n",
       "      <th>pref</th>\n",
       "    </tr>\n",
       "    <tr>\n",
       "      <th>g</th>\n",
       "      <th></th>\n",
       "      <th></th>\n",
       "      <th></th>\n",
       "      <th></th>\n",
       "      <th></th>\n",
       "      <th></th>\n",
       "      <th></th>\n",
       "    </tr>\n",
       "  </thead>\n",
       "  <tbody>\n",
       "    <tr>\n",
       "      <th>1</th>\n",
       "      <td>1.352671e-23</td>\n",
       "      <td>NaN</td>\n",
       "      <td>0.007533</td>\n",
       "      <td>0.006993</td>\n",
       "      <td>0.007533</td>\n",
       "      <td>0.006993</td>\n",
       "      <td>600.0</td>\n",
       "    </tr>\n",
       "    <tr>\n",
       "      <th>2</th>\n",
       "      <td>1.000008e-24</td>\n",
       "      <td>0.073928</td>\n",
       "      <td>0.065850</td>\n",
       "      <td>0.064137</td>\n",
       "      <td>0.073383</td>\n",
       "      <td>0.071130</td>\n",
       "      <td>600.0</td>\n",
       "    </tr>\n",
       "    <tr>\n",
       "      <th>3</th>\n",
       "      <td>1.361273e-27</td>\n",
       "      <td>0.001361</td>\n",
       "      <td>0.926617</td>\n",
       "      <td>0.928870</td>\n",
       "      <td>1.000000</td>\n",
       "      <td>1.000000</td>\n",
       "      <td>600.0</td>\n",
       "    </tr>\n",
       "  </tbody>\n",
       "</table>\n",
       "</div>"
      ],
      "text/plain": [
       "         abscom  k(ig) / k(ig - 1)        dg       dgs  dg cumsum  dgs cumsum  \\\n",
       "g                                                                               \n",
       "1  1.352671e-23                NaN  0.007533  0.006993   0.007533    0.006993   \n",
       "2  1.000008e-24           0.073928  0.065850  0.064137   0.073383    0.071130   \n",
       "3  1.361273e-27           0.001361  0.926617  0.928870   1.000000    1.000000   \n",
       "\n",
       "    pref  \n",
       "g         \n",
       "1  600.0  \n",
       "2  600.0  \n",
       "3  600.0  "
      ]
     },
     "metadata": {},
     "output_type": "display_data"
    },
    {
     "data": {
      "text/markdown": [
       "TABLE. g-interval summary.  *abscom* is the lower bound of the g-interval."
      ],
      "text/plain": [
       "<IPython.core.display.Markdown object>"
      ]
     },
     "metadata": {},
     "output_type": "display_data"
    },
    {
     "data": {
      "text/html": [
       "<a id=\"Download_Data\"></a>"
      ],
      "text/plain": [
       "<IPython.core.display.HTML object>"
      ]
     },
     "metadata": {},
     "output_type": "display_data"
    },
    {
     "data": {
      "text/markdown": [
       "# Download Data"
      ],
      "text/plain": [
       "<IPython.core.display.Markdown object>"
      ]
     },
     "metadata": {},
     "output_type": "display_data"
    },
    {
     "data": {
      "text/html": [
       "Download: <a href=\"./lblnew-bestfit_flux.xlsx\">lblnew-bestfit_flux.xlsx</a>"
      ],
      "text/plain": [
       "<IPython.core.display.HTML object>"
      ]
     },
     "metadata": {},
     "output_type": "display_data"
    },
    {
     "data": {
      "text/html": [
       "Download: <a href=\"./lblnew-bestfit_cool.xlsx\">lblnew-bestfit_cool.xlsx</a>"
      ],
      "text/plain": [
       "<IPython.core.display.HTML object>"
      ]
     },
     "metadata": {},
     "output_type": "display_data"
    }
   ],
   "source": [
    "script()"
   ]
  },
  {
   "cell_type": "code",
   "execution_count": 14,
   "metadata": {},
   "outputs": [
    {
     "data": {
      "text/html": [
       "<script>\n",
       "code_show=true; \n",
       "function code_toggle() {\n",
       " if (code_show){\n",
       " $('div.input').hide();\n",
       " } else {\n",
       " $('div.input').show();\n",
       " }\n",
       " code_show = !code_show\n",
       "} \n",
       "$( document ).ready(code_toggle);\n",
       "</script>\n",
       "<form action=\"javascript:code_toggle()\"><input type=\"submit\" value=\"Click here to toggle on/off the raw code.\"></form>"
      ],
      "text/plain": [
       "<IPython.core.display.HTML object>"
      ]
     },
     "execution_count": 14,
     "metadata": {},
     "output_type": "execute_result"
    }
   ],
   "source": [
    "display.HTML('''<script>\n",
    "code_show=true; \n",
    "function code_toggle() {\n",
    " if (code_show){\n",
    " $('div.input').hide();\n",
    " } else {\n",
    " $('div.input').show();\n",
    " }\n",
    " code_show = !code_show\n",
    "} \n",
    "$( document ).ready(code_toggle);\n",
    "</script>\n",
    "<form action=\"javascript:code_toggle()\"><input type=\"submit\" value=\"Click here to toggle on/off the raw code.\"></form>''')"
   ]
  },
  {
   "cell_type": "code",
   "execution_count": 15,
   "metadata": {
    "collapsed": true
   },
   "outputs": [],
   "source": []
  }
 ],
 "metadata": {
  "kernelspec": {
   "display_name": "Python 3",
   "language": "python",
   "name": "python3"
  },
  "language_info": {
   "codemirror_mode": {
    "name": "ipython",
    "version": 3
   },
   "file_extension": ".py",
   "mimetype": "text/x-python",
   "name": "python",
   "nbconvert_exporter": "python",
   "pygments_lexer": "ipython3",
   "version": "3.6.1"
  }
 },
 "nbformat": 4,
 "nbformat_minor": 2
}
