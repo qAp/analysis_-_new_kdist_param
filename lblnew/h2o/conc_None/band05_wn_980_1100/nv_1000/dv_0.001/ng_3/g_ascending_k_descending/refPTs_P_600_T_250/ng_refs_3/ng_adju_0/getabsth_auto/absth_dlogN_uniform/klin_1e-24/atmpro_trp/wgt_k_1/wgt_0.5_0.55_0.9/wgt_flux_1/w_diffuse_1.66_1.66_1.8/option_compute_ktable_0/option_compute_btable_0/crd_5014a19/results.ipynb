{
 "cells": [
  {
   "cell_type": "code",
   "execution_count": 1,
   "metadata": {
    "collapsed": true
   },
   "outputs": [
    {
     "name": "stdout",
     "output_type": "stream",
     "text": [
      "The history saving thread hit an unexpected error (OperationalError('database is locked',)).History will not be written to the database.\n"
     ]
    }
   ],
   "source": [
    "%reload_ext autoreload\n",
    "%autoreload 2\n",
    "%matplotlib inline"
   ]
  },
  {
   "cell_type": "code",
   "execution_count": 2,
   "metadata": {
    "collapsed": true
   },
   "outputs": [],
   "source": [
    "import io\n",
    "\n",
    "import numpy as np\n",
    "import pymongo\n",
    "\n",
    "from bokeh.io import output_notebook, show\n",
    "from bokeh.palettes import all_palettes\n",
    "from bokeh.layouts import gridplot\n",
    "\n",
    "from IPython import display\n",
    "\n",
    "from climatools.cliradlw.dataset import load_output_file\n",
    "import climatools.html.html as climahtml\n",
    "from climatools.plot.plot import *"
   ]
  },
  {
   "cell_type": "code",
   "execution_count": 3,
   "metadata": {},
   "outputs": [
    {
     "data": {
      "text/html": [
       "\n",
       "    <div class=\"bk-root\">\n",
       "        <a href=\"https://bokeh.pydata.org\" target=\"_blank\" class=\"bk-logo bk-logo-small bk-logo-notebook\"></a>\n",
       "        <span id=\"806ebf14-1dab-4671-a728-ca843817a24f\">Loading BokehJS ...</span>\n",
       "    </div>"
      ]
     },
     "metadata": {},
     "output_type": "display_data"
    },
    {
     "data": {
      "application/javascript": [
       "\n",
       "(function(root) {\n",
       "  function now() {\n",
       "    return new Date();\n",
       "  }\n",
       "\n",
       "  var force = true;\n",
       "\n",
       "  if (typeof (root._bokeh_onload_callbacks) === \"undefined\" || force === true) {\n",
       "    root._bokeh_onload_callbacks = [];\n",
       "    root._bokeh_is_loading = undefined;\n",
       "  }\n",
       "\n",
       "  var JS_MIME_TYPE = 'application/javascript';\n",
       "  var HTML_MIME_TYPE = 'text/html';\n",
       "  var EXEC_MIME_TYPE = 'application/vnd.bokehjs_exec.v0+json';\n",
       "  var CLASS_NAME = 'output_bokeh rendered_html';\n",
       "\n",
       "  /**\n",
       "   * Render data to the DOM node\n",
       "   */\n",
       "  function render(props, node) {\n",
       "    var script = document.createElement(\"script\");\n",
       "    node.appendChild(script);\n",
       "  }\n",
       "\n",
       "  /**\n",
       "   * Handle when an output is cleared or removed\n",
       "   */\n",
       "  function handleClearOutput(event, handle) {\n",
       "    var cell = handle.cell;\n",
       "\n",
       "    var id = cell.output_area._bokeh_element_id;\n",
       "    var server_id = cell.output_area._bokeh_server_id;\n",
       "    // Clean up Bokeh references\n",
       "    if (id !== undefined) {\n",
       "      Bokeh.index[id].model.document.clear();\n",
       "      delete Bokeh.index[id];\n",
       "    }\n",
       "\n",
       "    if (server_id !== undefined) {\n",
       "      // Clean up Bokeh references\n",
       "      var cmd = \"from bokeh.io.state import curstate; print(curstate().uuid_to_server['\" + server_id + \"'].get_sessions()[0].document.roots[0]._id)\";\n",
       "      cell.notebook.kernel.execute(cmd, {\n",
       "        iopub: {\n",
       "          output: function(msg) {\n",
       "            var element_id = msg.content.text.trim();\n",
       "            Bokeh.index[element_id].model.document.clear();\n",
       "            delete Bokeh.index[element_id];\n",
       "          }\n",
       "        }\n",
       "      });\n",
       "      // Destroy server and session\n",
       "      var cmd = \"import bokeh.io.notebook as ion; ion.destroy_server('\" + server_id + \"')\";\n",
       "      cell.notebook.kernel.execute(cmd);\n",
       "    }\n",
       "  }\n",
       "\n",
       "  /**\n",
       "   * Handle when a new output is added\n",
       "   */\n",
       "  function handleAddOutput(event, handle) {\n",
       "    var output_area = handle.output_area;\n",
       "    var output = handle.output;\n",
       "\n",
       "    // limit handleAddOutput to display_data with EXEC_MIME_TYPE content only\n",
       "    if ((output.output_type != \"display_data\") || (!output.data.hasOwnProperty(EXEC_MIME_TYPE))) {\n",
       "      return\n",
       "    }\n",
       "\n",
       "    var toinsert = output_area.element.find(\".\" + CLASS_NAME.split(' ')[0]);\n",
       "\n",
       "    if (output.metadata[EXEC_MIME_TYPE][\"id\"] !== undefined) {\n",
       "      toinsert[toinsert.length - 1].firstChild.textContent = output.data[JS_MIME_TYPE];\n",
       "      // store reference to embed id on output_area\n",
       "      output_area._bokeh_element_id = output.metadata[EXEC_MIME_TYPE][\"id\"];\n",
       "    }\n",
       "    if (output.metadata[EXEC_MIME_TYPE][\"server_id\"] !== undefined) {\n",
       "      var bk_div = document.createElement(\"div\");\n",
       "      bk_div.innerHTML = output.data[HTML_MIME_TYPE];\n",
       "      var script_attrs = bk_div.children[0].attributes;\n",
       "      for (var i = 0; i < script_attrs.length; i++) {\n",
       "        toinsert[toinsert.length - 1].firstChild.setAttribute(script_attrs[i].name, script_attrs[i].value);\n",
       "      }\n",
       "      // store reference to server id on output_area\n",
       "      output_area._bokeh_server_id = output.metadata[EXEC_MIME_TYPE][\"server_id\"];\n",
       "    }\n",
       "  }\n",
       "\n",
       "  function register_renderer(events, OutputArea) {\n",
       "\n",
       "    function append_mime(data, metadata, element) {\n",
       "      // create a DOM node to render to\n",
       "      var toinsert = this.create_output_subarea(\n",
       "        metadata,\n",
       "        CLASS_NAME,\n",
       "        EXEC_MIME_TYPE\n",
       "      );\n",
       "      this.keyboard_manager.register_events(toinsert);\n",
       "      // Render to node\n",
       "      var props = {data: data, metadata: metadata[EXEC_MIME_TYPE]};\n",
       "      render(props, toinsert[toinsert.length - 1]);\n",
       "      element.append(toinsert);\n",
       "      return toinsert\n",
       "    }\n",
       "\n",
       "    /* Handle when an output is cleared or removed */\n",
       "    events.on('clear_output.CodeCell', handleClearOutput);\n",
       "    events.on('delete.Cell', handleClearOutput);\n",
       "\n",
       "    /* Handle when a new output is added */\n",
       "    events.on('output_added.OutputArea', handleAddOutput);\n",
       "\n",
       "    /**\n",
       "     * Register the mime type and append_mime function with output_area\n",
       "     */\n",
       "    OutputArea.prototype.register_mime_type(EXEC_MIME_TYPE, append_mime, {\n",
       "      /* Is output safe? */\n",
       "      safe: true,\n",
       "      /* Index of renderer in `output_area.display_order` */\n",
       "      index: 0\n",
       "    });\n",
       "  }\n",
       "\n",
       "  // register the mime type if in Jupyter Notebook environment and previously unregistered\n",
       "  if (root.Jupyter !== undefined) {\n",
       "    var events = require('base/js/events');\n",
       "    var OutputArea = require('notebook/js/outputarea').OutputArea;\n",
       "\n",
       "    if (OutputArea.prototype.mime_types().indexOf(EXEC_MIME_TYPE) == -1) {\n",
       "      register_renderer(events, OutputArea);\n",
       "    }\n",
       "  }\n",
       "\n",
       "  \n",
       "  if (typeof (root._bokeh_timeout) === \"undefined\" || force === true) {\n",
       "    root._bokeh_timeout = Date.now() + 5000;\n",
       "    root._bokeh_failed_load = false;\n",
       "  }\n",
       "\n",
       "  var NB_LOAD_WARNING = {'data': {'text/html':\n",
       "     \"<div style='background-color: #fdd'>\\n\"+\n",
       "     \"<p>\\n\"+\n",
       "     \"BokehJS does not appear to have successfully loaded. If loading BokehJS from CDN, this \\n\"+\n",
       "     \"may be due to a slow or bad network connection. Possible fixes:\\n\"+\n",
       "     \"</p>\\n\"+\n",
       "     \"<ul>\\n\"+\n",
       "     \"<li>re-rerun `output_notebook()` to attempt to load from CDN again, or</li>\\n\"+\n",
       "     \"<li>use INLINE resources instead, as so:</li>\\n\"+\n",
       "     \"</ul>\\n\"+\n",
       "     \"<code>\\n\"+\n",
       "     \"from bokeh.resources import INLINE\\n\"+\n",
       "     \"output_notebook(resources=INLINE)\\n\"+\n",
       "     \"</code>\\n\"+\n",
       "     \"</div>\"}};\n",
       "\n",
       "  function display_loaded() {\n",
       "    var el = document.getElementById(\"806ebf14-1dab-4671-a728-ca843817a24f\");\n",
       "    if (el != null) {\n",
       "      el.textContent = \"BokehJS is loading...\";\n",
       "    }\n",
       "    if (root.Bokeh !== undefined) {\n",
       "      if (el != null) {\n",
       "        el.textContent = \"BokehJS \" + root.Bokeh.version + \" successfully loaded.\";\n",
       "      }\n",
       "    } else if (Date.now() < root._bokeh_timeout) {\n",
       "      setTimeout(display_loaded, 100)\n",
       "    }\n",
       "  }\n",
       "\n",
       "\n",
       "  function run_callbacks() {\n",
       "    try {\n",
       "      root._bokeh_onload_callbacks.forEach(function(callback) { callback() });\n",
       "    }\n",
       "    finally {\n",
       "      delete root._bokeh_onload_callbacks\n",
       "    }\n",
       "    console.info(\"Bokeh: all callbacks have finished\");\n",
       "  }\n",
       "\n",
       "  function load_libs(js_urls, callback) {\n",
       "    root._bokeh_onload_callbacks.push(callback);\n",
       "    if (root._bokeh_is_loading > 0) {\n",
       "      console.log(\"Bokeh: BokehJS is being loaded, scheduling callback at\", now());\n",
       "      return null;\n",
       "    }\n",
       "    if (js_urls == null || js_urls.length === 0) {\n",
       "      run_callbacks();\n",
       "      return null;\n",
       "    }\n",
       "    console.log(\"Bokeh: BokehJS not loaded, scheduling load and callback at\", now());\n",
       "    root._bokeh_is_loading = js_urls.length;\n",
       "    for (var i = 0; i < js_urls.length; i++) {\n",
       "      var url = js_urls[i];\n",
       "      var s = document.createElement('script');\n",
       "      s.src = url;\n",
       "      s.async = false;\n",
       "      s.onreadystatechange = s.onload = function() {\n",
       "        root._bokeh_is_loading--;\n",
       "        if (root._bokeh_is_loading === 0) {\n",
       "          console.log(\"Bokeh: all BokehJS libraries loaded\");\n",
       "          run_callbacks()\n",
       "        }\n",
       "      };\n",
       "      s.onerror = function() {\n",
       "        console.warn(\"failed to load library \" + url);\n",
       "      };\n",
       "      console.log(\"Bokeh: injecting script tag for BokehJS library: \", url);\n",
       "      document.getElementsByTagName(\"head\")[0].appendChild(s);\n",
       "    }\n",
       "  };var element = document.getElementById(\"806ebf14-1dab-4671-a728-ca843817a24f\");\n",
       "  if (element == null) {\n",
       "    console.log(\"Bokeh: ERROR: autoload.js configured with elementid '806ebf14-1dab-4671-a728-ca843817a24f' but no matching script tag was found. \")\n",
       "    return false;\n",
       "  }\n",
       "\n",
       "  var js_urls = [\"https://cdn.pydata.org/bokeh/release/bokeh-0.12.16.min.js\", \"https://cdn.pydata.org/bokeh/release/bokeh-widgets-0.12.16.min.js\", \"https://cdn.pydata.org/bokeh/release/bokeh-tables-0.12.16.min.js\", \"https://cdn.pydata.org/bokeh/release/bokeh-gl-0.12.16.min.js\"];\n",
       "\n",
       "  var inline_js = [\n",
       "    function(Bokeh) {\n",
       "      Bokeh.set_log_level(\"info\");\n",
       "    },\n",
       "    \n",
       "    function(Bokeh) {\n",
       "      \n",
       "    },\n",
       "    function(Bokeh) {\n",
       "      console.log(\"Bokeh: injecting CSS: https://cdn.pydata.org/bokeh/release/bokeh-0.12.16.min.css\");\n",
       "      Bokeh.embed.inject_css(\"https://cdn.pydata.org/bokeh/release/bokeh-0.12.16.min.css\");\n",
       "      console.log(\"Bokeh: injecting CSS: https://cdn.pydata.org/bokeh/release/bokeh-widgets-0.12.16.min.css\");\n",
       "      Bokeh.embed.inject_css(\"https://cdn.pydata.org/bokeh/release/bokeh-widgets-0.12.16.min.css\");\n",
       "      console.log(\"Bokeh: injecting CSS: https://cdn.pydata.org/bokeh/release/bokeh-tables-0.12.16.min.css\");\n",
       "      Bokeh.embed.inject_css(\"https://cdn.pydata.org/bokeh/release/bokeh-tables-0.12.16.min.css\");\n",
       "    }\n",
       "  ];\n",
       "\n",
       "  function run_inline_js() {\n",
       "    \n",
       "    if ((root.Bokeh !== undefined) || (force === true)) {\n",
       "      for (var i = 0; i < inline_js.length; i++) {\n",
       "        inline_js[i].call(root, root.Bokeh);\n",
       "      }if (force === true) {\n",
       "        display_loaded();\n",
       "      }} else if (Date.now() < root._bokeh_timeout) {\n",
       "      setTimeout(run_inline_js, 100);\n",
       "    } else if (!root._bokeh_failed_load) {\n",
       "      console.log(\"Bokeh: BokehJS failed to load within specified timeout.\");\n",
       "      root._bokeh_failed_load = true;\n",
       "    } else if (force !== true) {\n",
       "      var cell = $(document.getElementById(\"806ebf14-1dab-4671-a728-ca843817a24f\")).parents('.cell').data().cell;\n",
       "      cell.output_area.append_execute_result(NB_LOAD_WARNING)\n",
       "    }\n",
       "\n",
       "  }\n",
       "\n",
       "  if (root._bokeh_is_loading === 0) {\n",
       "    console.log(\"Bokeh: BokehJS loaded, going straight to plotting\");\n",
       "    run_inline_js();\n",
       "  } else {\n",
       "    load_libs(js_urls, function() {\n",
       "      console.log(\"Bokeh: BokehJS plotting callback run at\", now());\n",
       "      run_inline_js();\n",
       "    });\n",
       "  }\n",
       "}(window));"
      ],
      "application/vnd.bokehjs_load.v0+json": "\n(function(root) {\n  function now() {\n    return new Date();\n  }\n\n  var force = true;\n\n  if (typeof (root._bokeh_onload_callbacks) === \"undefined\" || force === true) {\n    root._bokeh_onload_callbacks = [];\n    root._bokeh_is_loading = undefined;\n  }\n\n  \n\n  \n  if (typeof (root._bokeh_timeout) === \"undefined\" || force === true) {\n    root._bokeh_timeout = Date.now() + 5000;\n    root._bokeh_failed_load = false;\n  }\n\n  var NB_LOAD_WARNING = {'data': {'text/html':\n     \"<div style='background-color: #fdd'>\\n\"+\n     \"<p>\\n\"+\n     \"BokehJS does not appear to have successfully loaded. If loading BokehJS from CDN, this \\n\"+\n     \"may be due to a slow or bad network connection. Possible fixes:\\n\"+\n     \"</p>\\n\"+\n     \"<ul>\\n\"+\n     \"<li>re-rerun `output_notebook()` to attempt to load from CDN again, or</li>\\n\"+\n     \"<li>use INLINE resources instead, as so:</li>\\n\"+\n     \"</ul>\\n\"+\n     \"<code>\\n\"+\n     \"from bokeh.resources import INLINE\\n\"+\n     \"output_notebook(resources=INLINE)\\n\"+\n     \"</code>\\n\"+\n     \"</div>\"}};\n\n  function display_loaded() {\n    var el = document.getElementById(\"806ebf14-1dab-4671-a728-ca843817a24f\");\n    if (el != null) {\n      el.textContent = \"BokehJS is loading...\";\n    }\n    if (root.Bokeh !== undefined) {\n      if (el != null) {\n        el.textContent = \"BokehJS \" + root.Bokeh.version + \" successfully loaded.\";\n      }\n    } else if (Date.now() < root._bokeh_timeout) {\n      setTimeout(display_loaded, 100)\n    }\n  }\n\n\n  function run_callbacks() {\n    try {\n      root._bokeh_onload_callbacks.forEach(function(callback) { callback() });\n    }\n    finally {\n      delete root._bokeh_onload_callbacks\n    }\n    console.info(\"Bokeh: all callbacks have finished\");\n  }\n\n  function load_libs(js_urls, callback) {\n    root._bokeh_onload_callbacks.push(callback);\n    if (root._bokeh_is_loading > 0) {\n      console.log(\"Bokeh: BokehJS is being loaded, scheduling callback at\", now());\n      return null;\n    }\n    if (js_urls == null || js_urls.length === 0) {\n      run_callbacks();\n      return null;\n    }\n    console.log(\"Bokeh: BokehJS not loaded, scheduling load and callback at\", now());\n    root._bokeh_is_loading = js_urls.length;\n    for (var i = 0; i < js_urls.length; i++) {\n      var url = js_urls[i];\n      var s = document.createElement('script');\n      s.src = url;\n      s.async = false;\n      s.onreadystatechange = s.onload = function() {\n        root._bokeh_is_loading--;\n        if (root._bokeh_is_loading === 0) {\n          console.log(\"Bokeh: all BokehJS libraries loaded\");\n          run_callbacks()\n        }\n      };\n      s.onerror = function() {\n        console.warn(\"failed to load library \" + url);\n      };\n      console.log(\"Bokeh: injecting script tag for BokehJS library: \", url);\n      document.getElementsByTagName(\"head\")[0].appendChild(s);\n    }\n  };var element = document.getElementById(\"806ebf14-1dab-4671-a728-ca843817a24f\");\n  if (element == null) {\n    console.log(\"Bokeh: ERROR: autoload.js configured with elementid '806ebf14-1dab-4671-a728-ca843817a24f' but no matching script tag was found. \")\n    return false;\n  }\n\n  var js_urls = [\"https://cdn.pydata.org/bokeh/release/bokeh-0.12.16.min.js\", \"https://cdn.pydata.org/bokeh/release/bokeh-widgets-0.12.16.min.js\", \"https://cdn.pydata.org/bokeh/release/bokeh-tables-0.12.16.min.js\", \"https://cdn.pydata.org/bokeh/release/bokeh-gl-0.12.16.min.js\"];\n\n  var inline_js = [\n    function(Bokeh) {\n      Bokeh.set_log_level(\"info\");\n    },\n    \n    function(Bokeh) {\n      \n    },\n    function(Bokeh) {\n      console.log(\"Bokeh: injecting CSS: https://cdn.pydata.org/bokeh/release/bokeh-0.12.16.min.css\");\n      Bokeh.embed.inject_css(\"https://cdn.pydata.org/bokeh/release/bokeh-0.12.16.min.css\");\n      console.log(\"Bokeh: injecting CSS: https://cdn.pydata.org/bokeh/release/bokeh-widgets-0.12.16.min.css\");\n      Bokeh.embed.inject_css(\"https://cdn.pydata.org/bokeh/release/bokeh-widgets-0.12.16.min.css\");\n      console.log(\"Bokeh: injecting CSS: https://cdn.pydata.org/bokeh/release/bokeh-tables-0.12.16.min.css\");\n      Bokeh.embed.inject_css(\"https://cdn.pydata.org/bokeh/release/bokeh-tables-0.12.16.min.css\");\n    }\n  ];\n\n  function run_inline_js() {\n    \n    if ((root.Bokeh !== undefined) || (force === true)) {\n      for (var i = 0; i < inline_js.length; i++) {\n        inline_js[i].call(root, root.Bokeh);\n      }if (force === true) {\n        display_loaded();\n      }} else if (Date.now() < root._bokeh_timeout) {\n      setTimeout(run_inline_js, 100);\n    } else if (!root._bokeh_failed_load) {\n      console.log(\"Bokeh: BokehJS failed to load within specified timeout.\");\n      root._bokeh_failed_load = true;\n    } else if (force !== true) {\n      var cell = $(document.getElementById(\"806ebf14-1dab-4671-a728-ca843817a24f\")).parents('.cell').data().cell;\n      cell.output_area.append_execute_result(NB_LOAD_WARNING)\n    }\n\n  }\n\n  if (root._bokeh_is_loading === 0) {\n    console.log(\"Bokeh: BokehJS loaded, going straight to plotting\");\n    run_inline_js();\n  } else {\n    load_libs(js_urls, function() {\n      console.log(\"Bokeh: BokehJS plotting callback run at\", now());\n      run_inline_js();\n    });\n  }\n}(window));"
     },
     "metadata": {},
     "output_type": "display_data"
    }
   ],
   "source": [
    "output_notebook()"
   ]
  },
  {
   "cell_type": "code",
   "execution_count": 4,
   "metadata": {
    "collapsed": true
   },
   "outputs": [],
   "source": [
    "def make_query(param=None):\n",
    "    '''\n",
    "    Returns the MongoDB query for a lblnew \n",
    "    run's document.\n",
    "    \n",
    "    Parameters\n",
    "    ----------\n",
    "    param: dict\n",
    "    lblnew-bestfit input parameters.\n",
    "    '''\n",
    "    return {'param.' + name: value for name, value in param.items()}   "
   ]
  },
  {
   "cell_type": "code",
   "execution_count": 5,
   "metadata": {
    "collapsed": true
   },
   "outputs": [],
   "source": [
    "def print_input_param():\n",
    "    '''\n",
    "    Print to screen the input parameters \n",
    "    of the lblnew run.\n",
    "    '''\n",
    "    df = pd.DataFrame(columns=['lblnew'])\n",
    "    for name, value in sorted(PARAM.items()):\n",
    "        df.loc[name, 'lblnew'] = value\n",
    "    \n",
    "    df.index.name = 'Input parameter'\n",
    "    df.columns.name = 'Run'\n",
    "    \n",
    "    pd.set_option('display.max_colwidth', -1)\n",
    "    display.display(df)\n",
    "    pd.reset_option('display.max_colwidth')"
   ]
  },
  {
   "cell_type": "code",
   "execution_count": 6,
   "metadata": {
    "collapsed": true
   },
   "outputs": [],
   "source": [
    "def fmt_cool(ds_in):\n",
    "    ds = ds_in.copy(deep=True)\n",
    "    \n",
    "    if 'i' in ds.dims:                                                                                               \n",
    "        ds = ds.sel(i=ds.dims['i']) \n",
    "        \n",
    "    if 'band' in ds.dims:\n",
    "        try:\n",
    "            ds = ds.squeeze('band')\n",
    "        except ValueError:\n",
    "            ds = ds.sum('band') \n",
    "            \n",
    "    return ds['coolrg']\n",
    "\n",
    "\n",
    "\n",
    "def pltdata_cool(g=None):\n",
    "    '''\n",
    "    Define the plotting data for cooling rate\n",
    "    profile plots.  Add/remove entries in\n",
    "    the `data` list.\n",
    "    \n",
    "    Parameters\n",
    "    ----------\n",
    "    g: int\n",
    "        g-interval to be plotted.  If None,\n",
    "        the sum over all g-intervals will be\n",
    "        plotted.\n",
    "    data: dict\n",
    "        Plot data, including colour, line attributes, etc.\n",
    "    '''\n",
    "    colors = all_palettes['Set1'][4]\n",
    "    \n",
    "    if g == None:\n",
    "        ds_cool_crd = DS_COOL_CRD.sum('g')\n",
    "        ds_cool_wgt = DS_COOL_WGT.sum('g')\n",
    "    else:\n",
    "        ds_cool_crd = DS_COOL_CRD.sel(g=g)\n",
    "        ds_cool_wgt = DS_COOL_WGT.sel(g=g)\n",
    "    \n",
    "    data = [\n",
    "        {'label': 'CRD',\n",
    "         'srs': fmt_cool(ds_cool_crd),\n",
    "         'line_dash': 'solid', 'line_width':1.5,\n",
    "         'marker': 'circle', 'mark_size': 5,\n",
    "         'color': colors[2], 'alpha': 1},\n",
    "        {'label': 'WGT igg=1',\n",
    "         'srs': fmt_cool(ds_cool_wgt.sel(igg=1)),\n",
    "         'line_dash': 'solid', 'line_width': 3,\n",
    "         'marker': 'square', 'marker_size': 5,\n",
    "         'color': colors[3], 'alpha': .6},\n",
    "        {'label': 'WGT igg=10',\n",
    "         'srs': fmt_cool(ds_cool_wgt.sel(igg=10)),\n",
    "         'line_dash': 'solid', 'line_width': 2,\n",
    "         'marker': 'triangle', 'marker_size': 2,\n",
    "         'color': colors[1], 'alpha': .3}]\n",
    "    return data\n",
    "\n",
    "\n",
    "\n",
    "def plt_cool(pltdata=None):\n",
    "    '''\n",
    "    Plot cooling rate profiles on linear\n",
    "    and log pressure axes.\n",
    "    \n",
    "    Parameters\n",
    "    ----------\n",
    "    pltdata: dict\n",
    "        Plot data, including colour, line attributes, etc.\n",
    "    everything: bokeh.models.layouts.Column\n",
    "        Cooling rate profile plot.\n",
    "    '''\n",
    "    plin = plt_vert_profile_bokeh(pltdata=pltdata, \n",
    "                                  y_axis_type='linear',\n",
    "                                  prange=(50, 1050))\n",
    "    plin.plot_width, plin.plot_height = 400, 500\n",
    "    \n",
    "    plog = plt_vert_profile_bokeh(pltdata=pltdata,\n",
    "                                  y_axis_type='log',\n",
    "                                  prange=(.01, 200)) \n",
    "    plog.plot_width, plog.plot_height = 400, 500\n",
    "    \n",
    "    everything = gridplot(plin, plog, ncols=2)\n",
    "    return everything\n",
    "    \n",
    "    \n",
    "\n",
    "def script_plt_cool():\n",
    "    '''\n",
    "    Script to plot the cooling rate profiles\n",
    "    in each g-interval and the total \n",
    "    cooling rate profile over all g-intervals.\n",
    "    '''\n",
    "    ng = sum(PARAM['ng_refs'])\n",
    "    for g in np.arange(1, ng + 1):\n",
    "        data = pltdata_cool(g=g)\n",
    "        p = plt_cool(pltdata=data)\n",
    "        show(p)\n",
    "        display.display(\n",
    "            display.Markdown(f'*FIGURE.* Cooling rates. g={g}'))\n",
    "    \n",
    "    data = pltdata_cool()\n",
    "    p = plt_cool(pltdata=data)\n",
    "    show(p)\n",
    "    display.display(\n",
    "        display.Markdown(f'*FIGURE.* Cooling rates. Summed over g.'))\n",
    "    \n"
   ]
  },
  {
   "cell_type": "code",
   "execution_count": 7,
   "metadata": {
    "collapsed": true
   },
   "outputs": [],
   "source": [
    "def fmt_flux(ds_in, ilevels=None):\n",
    "    ds = ds_in.copy(deep=True)\n",
    "    \n",
    "    for l in ('level', 'layer'):\n",
    "        if l in ds.data_vars:\n",
    "            if len(ds[l].dims) > 1:\n",
    "                surface = {d: 0 for d in ds.dims if d != 'pressure'}\n",
    "                coord_level = ds[l][surface]\n",
    "                ds.coords[l] = ('pressure', coord_level)\n",
    "            else:\n",
    "                ds.coords[l] = ('pressure', ds[l])\n",
    "    \n",
    "    if ilevels:\n",
    "        ds = ds.isel(pressure=ilevels)\n",
    "\n",
    "    if 'i' in ds.dims:                                                                                               \n",
    "        ds = ds.sel(i=ds.dims['i'])\n",
    "        \n",
    "    #if 'igg' in ds.dims:\n",
    "    #    ds = ds.squeeze('igg').drop('igg')\n",
    "        \n",
    "    if 'igg' in ds:\n",
    "        if ds['igg'].shape == (1,):\n",
    "            ds = ds.squeeze('igg').drop('igg')\n",
    "        elif ds['igg'].shape == ():\n",
    "            ds = ds.drop('igg')\n",
    "            \n",
    "    if 'g' in ds:\n",
    "        if ds['g'].shape == (1,):\n",
    "            ds = ds.squeeze('g').drop('g')\n",
    "        elif ds['g'].shape == ():\n",
    "            ds = ds.drop('g')\n",
    "            \n",
    "    if 'band' in ds.dims:\n",
    "        try:\n",
    "            ds = ds.squeeze('band').drop('band')\n",
    "        except ValueError:\n",
    "            ds = ds.sum('band')\n",
    "                \n",
    "    df = ds.to_dataframe()\n",
    "    df = df.set_index('level', append=True)               \n",
    "    return df\n",
    "\n",
    "\n",
    "def tbdata_flux():\n",
    "    '''\n",
    "    Define the flux data to be tabulated for\n",
    "    the g-intervals.  Add/remove entries in the\n",
    "    `tbs` list.\n",
    "    \n",
    "    Parameters\n",
    "    ----------\n",
    "    data: dict\n",
    "        Flux data, including how each set is to be\n",
    "        labeled in the output table.\n",
    "    '''\n",
    "    tropopauses = {'mls': 40, 'saw': 45, 'trp': 37}\n",
    "    atmpro = PARAM['atmpro']\n",
    "    ilevels = [0, tropopauses[atmpro], -1]\n",
    "    \n",
    "    benchmark = {'label': 'CRD',\n",
    "                 'df': fmt_flux(DS_FLUX_CRD, ilevels=ilevels)}\n",
    "    \n",
    "    tbs = [{'label': 'WGT igg=1',\n",
    "            'df': fmt_flux(DS_FLUX_WGT.sel(igg=[1]), ilevels=ilevels)},\n",
    "           {'label': 'WGT igg=10',\n",
    "            'df': fmt_flux(DS_FLUX_WGT.sel(igg=[10]), ilevels=ilevels)}]\n",
    "    \n",
    "    data = {'benchmark': benchmark, 'others': tbs}\n",
    "    return data\n",
    "\n",
    "\n",
    "\n",
    "def tbdata_flux_sumg():\n",
    "    '''\n",
    "    Define the total flux data, over all g-intervals,\n",
    "    to be tabulated.\n",
    "    \n",
    "    Parameters\n",
    "    ----------\n",
    "    data: dict\n",
    "        Flux data, including how each set is to e\n",
    "        labeled in the output table.\n",
    "    '''\n",
    "    tropopauses = {'mls': 40, 'saw': 45, 'trp': 37}\n",
    "    \n",
    "    atmpro = PARAM['atmpro']\n",
    "    ilevels = [0, tropopauses[atmpro], -1]\n",
    "    \n",
    "    benchmark = {'label': 'CRD',\n",
    "                 'df': fmt_flux(DS_FLUX_CRD.sum('g'), ilevels=ilevels)}\n",
    "    \n",
    "    tbs = [{'label': 'WGT igg=1',\n",
    "            'df': fmt_flux(DS_FLUX_WGT.sel(igg=[1]).sum('g'), \n",
    "                           ilevels=ilevels)},\n",
    "           {'label': 'WGT igg=10',\n",
    "            'df': fmt_flux(DS_FLUX_WGT.sel(igg=[10]).sum('g'), \n",
    "                           ilevels=ilevels)}]\n",
    "    \n",
    "    data = {'benchmark': benchmark, 'others': tbs}\n",
    "    return data\n",
    "\n",
    "\n",
    "def tb_flux(tbdata=None):\n",
    "    '''\n",
    "    Display flux table for each set, and display\n",
    "    the difference between each set and the set\n",
    "    that is specified to be the benchmark.\n",
    "    \n",
    "    Parameters\n",
    "    ----------\n",
    "    tbdata: dict\n",
    "        Flux data, including how each set it to be\n",
    "        labeled in the output table.\n",
    "    '''\n",
    "    benchmark = tbdata['benchmark']\n",
    "    others = tbdata['others']\n",
    "    \n",
    "    def show_tb(d=None):\n",
    "        display.display(d['df'])\n",
    "        display.display(display.Markdown(\n",
    "            f\"*TABLE.* Fluxes. {d['label']}\"))\n",
    "        \n",
    "    def show_tbdiff(d0=None, d=None):\n",
    "        df = d['df']\n",
    "        df.index = d0['df'].index\n",
    "        display.display(df - d0['df'])\n",
    "        display.display(display.Markdown(\n",
    "            f\"*TABLE.* Fluxes. ({d['label']}) - ({d0['label']})\"))\n",
    "        \n",
    "    show_tb(benchmark)\n",
    "    for d in others:\n",
    "        show_tb(d)\n",
    "        \n",
    "    for d in others:\n",
    "        show_tbdiff(d=d, d0=benchmark)\n",
    "        \n",
    "\n",
    "        \n",
    "def script_tb_flux():\n",
    "    '''\n",
    "    Script to display the flux tables in \n",
    "    each g-interval, and the flux table\n",
    "    for the total flux, over all g-intervals.\n",
    "    '''\n",
    "    tb_flux(tbdata=tbdata_flux())\n",
    "    tb_flux(tbdata=tbdata_flux_sumg())\n"
   ]
  },
  {
   "cell_type": "code",
   "execution_count": 8,
   "metadata": {
    "collapsed": true
   },
   "outputs": [],
   "source": [
    "def script_gsummary():\n",
    "    '''\n",
    "    Script to display how the g-intervals\n",
    "    are defined according the hyperparameters\n",
    "    chosen for this lblnew-bestfit run.\n",
    "    '''\n",
    "    ng_refs = PARAM['ng_refs']\n",
    "    p_refs = list(zip(*PARAM['ref_pts']))[0]\n",
    "    ng = sum(ng_refs)\n",
    "    df_abscom = pd.read_csv(io.StringIO(DOC['abscom']), \n",
    "                            sep=r'\\s+', index_col=[0])\n",
    "    df_dgdgs = pd.read_csv(io.StringIO(DOC['dgdgs']), \n",
    "                            sep=r'\\s+', index_col=[0])\n",
    "    \n",
    "    # absth(g + 1) / absth(g)\n",
    "    df_abscom_copy = df_abscom.copy()\n",
    "    df_abscom_copy.index = df_abscom.index + 1\n",
    "    df_absratio = df_abscom / df_abscom_copy\n",
    "    df_absratio.columns = ['k(ig) / k(ig - 1)']\n",
    "    df_absratio = df_absratio.loc[: ng]    \n",
    "    \n",
    "    df_dgdgs_cumsum = df_dgdgs.cumsum(axis=0)\n",
    "    df_dgdgs_cumsum.columns = ['dg cumsum', 'dgs cumsum']\n",
    "    \n",
    "    data_pref = np.concatenate([p_ref * np.ones((ng_ref,)) \n",
    "                                for ng_ref, p_ref \n",
    "                                in zip(ng_refs, p_refs)], axis=0)\n",
    "    df_pref = pd.DataFrame(data_pref, \n",
    "                           index=df_dgdgs.index, columns=['pref'])\n",
    "    \n",
    "    df_all = pd.concat([df_abscom, df_absratio,\n",
    "                        df_dgdgs, df_dgdgs_cumsum,\n",
    "                        df_pref], axis=1) \n",
    "    \n",
    "    display.display(df_all)\n",
    "    display.display(display.Markdown(\n",
    "        (f\"TABLE. g-interval summary.  \"\n",
    "         f\"*abscom* is the lower bound of the g-interval.\")))\n",
    "    \n"
   ]
  },
  {
   "cell_type": "code",
   "execution_count": 9,
   "metadata": {
    "collapsed": true
   },
   "outputs": [],
   "source": [
    "def script_flux_to_excel():\n",
    "    '''\n",
    "    Script to save the lblnew-bestfit run's\n",
    "    output flux to excel file and display the\n",
    "    link to download the excel file.\n",
    "    '''\n",
    "    fname = 'lblnew-bestfit_flux.xlsx'\n",
    "    writer = pd.ExcelWriter(fname)\n",
    "    \n",
    "    ds = DS_FLUX_CRD\n",
    "    for g in ds.coords['g']:\n",
    "        df = ds.sel(g=g).to_dataframe()\n",
    "        df.to_excel(writer, f'crd flux g={int(g)}')\n",
    "                \n",
    "    ds = DS_FLUX_WGT\n",
    "    for g in ds.coords['g']:\n",
    "        df = ds.sel(g=g, igg=1).to_dataframe()\n",
    "        df.to_excel(writer, f'wgt igg=1 flux g={int(g)}')\n",
    "        \n",
    "        df = ds.sel(g=g, igg=10).to_dataframe()\n",
    "        df.to_excel(writer, f'wgt igg=10 flux g={int(g)}')\n",
    "        \n",
    "    writer.save()    \n",
    "    html_download = f'Download: <a href=\"./{fname}\">{fname}</a>'\n",
    "    display.display(display.HTML(html_download))\n",
    "\n",
    "\n",
    "def script_cool_to_excel():\n",
    "    '''\n",
    "    Script to save the lblnew-bestfit run's\n",
    "    output cooling rate to excel file and display\n",
    "    the link to download the excel file.\n",
    "    '''\n",
    "    fname = 'lblnew-bestfit_cool.xlsx'\n",
    "    writer = pd.ExcelWriter(fname)\n",
    "    \n",
    "    ds = DS_COOL_CRD\n",
    "    for g in ds.coords['g']:\n",
    "        df = ds.sel(g=g).to_dataframe()\n",
    "        df.to_excel(writer, f'crd cool g={int(g)}')\n",
    "        \n",
    "    ds = DS_COOL_WGT\n",
    "    for g in ds.coords['g']:\n",
    "        df = ds.sel(g=g, igg=1).to_dataframe()\n",
    "        df.to_excel(writer, f'wgt igg=1 cool g={int(g)}')\n",
    "        \n",
    "        df = ds.sel(g=g, igg=10).to_dataframe()\n",
    "        df.to_excel(writer, f'wgt igg=10 cool g={int(g)}')\n",
    "        \n",
    "    writer.save()\n",
    "    html_download = f'Download: <a href=\"./{fname}\">{fname}</a>'\n",
    "    display.display(display.HTML(html_download))"
   ]
  },
  {
   "cell_type": "code",
   "execution_count": 10,
   "metadata": {
    "collapsed": true
   },
   "outputs": [],
   "source": [
    "def show_html(s):\n",
    "    display.display(display.HTML(s))\n",
    "\n",
    "    \n",
    "def show_markdown(s):\n",
    "    display.display(display.Markdown(s))"
   ]
  },
  {
   "cell_type": "code",
   "execution_count": 11,
   "metadata": {
    "collapsed": true
   },
   "outputs": [],
   "source": [
    "def script():\n",
    "    title = ('### lblnew-bestfit' \n",
    "             if 'ng_refs' in PARAM else '### lblnew-overlap')\n",
    "    s_input = 'Input Parameters'\n",
    "    s_plt_cool = 'Cooling Rate Profiles'\n",
    "    s_tb_flux = 'Flux Comparison'\n",
    "    s_gsummary = 'g-interval Summary'\n",
    "    s_download = 'Download Data'\n",
    "    \n",
    "    # title\n",
    "    show_markdown(title)\n",
    "    \n",
    "    # TOC\n",
    "    show_markdown('### Table of Contents')\n",
    "    show_html(climahtml.getHTML_hrefanchor(s_input))\n",
    "    show_html(climahtml.getHTML_hrefanchor(s_plt_cool))\n",
    "    show_html(climahtml.getHTML_hrefanchor(s_tb_flux))\n",
    "    show_html(climahtml.getHTML_hrefanchor(s_gsummary))\n",
    "    show_html(climahtml.getHTML_hrefanchor(s_download))\n",
    "    \n",
    "    # Input parameters\n",
    "    show_html(climahtml.getHTML_idanchor(s_input))\n",
    "    show_markdown(climahtml.getMarkdown_sectitle(s_input))\n",
    "    print_input_param()\n",
    "    \n",
    "    # Cooling rate profiles\n",
    "    show_html(climahtml.getHTML_idanchor(s_plt_cool))\n",
    "    show_markdown(climahtml.getMarkdown_sectitle(s_plt_cool))\n",
    "    script_plt_cool()\n",
    "    \n",
    "    # Flux comparison\n",
    "    show_html(climahtml.getHTML_idanchor(s_tb_flux))\n",
    "    show_markdown(climahtml.getMarkdown_sectitle(s_tb_flux))\n",
    "    script_tb_flux()\n",
    "    \n",
    "    # g-interval summary\n",
    "    show_html(climahtml.getHTML_idanchor(s_gsummary))\n",
    "    show_markdown(climahtml.getMarkdown_sectitle(s_gsummary))\n",
    "    script_gsummary()\n",
    "    \n",
    "    # Download cooling rate and fluxes\n",
    "    show_html(climahtml.getHTML_idanchor(s_download))\n",
    "    show_markdown(climahtml.getMarkdown_sectitle(s_download))\n",
    "    script_flux_to_excel()\n",
    "    script_cool_to_excel()"
   ]
  },
  {
   "cell_type": "code",
   "execution_count": 12,
   "metadata": {
    "collapsed": true
   },
   "outputs": [],
   "source": [
    "%run param.py\n",
    "\n",
    "client = pymongo.MongoClient('localhost', 27017, connect=False)\n",
    "db = client.lblnew\n",
    "\n",
    "\n",
    "DOC = db.bestfit_lw.find_one(make_query(param=PARAM))\n",
    "DS_FLUX_CRD = load_output_file(io.StringIO(DOC['output_fluxg']))\n",
    "DS_COOL_CRD = load_output_file(io.StringIO(DOC['output_coolrg']))\n",
    "DS_FLUX_WGT = load_output_file(io.StringIO(DOC['output_wfluxg']))\n",
    "DS_COOL_WGT = load_output_file(io.StringIO(DOC['output_wcoolrg']))"
   ]
  },
  {
   "cell_type": "code",
   "execution_count": 13,
   "metadata": {
    "scrolled": false
   },
   "outputs": [
    {
     "data": {
      "text/markdown": [
       "### lblnew-bestfit"
      ],
      "text/plain": [
       "<IPython.core.display.Markdown object>"
      ]
     },
     "metadata": {},
     "output_type": "display_data"
    },
    {
     "data": {
      "text/markdown": [
       "### Table of Contents"
      ],
      "text/plain": [
       "<IPython.core.display.Markdown object>"
      ]
     },
     "metadata": {},
     "output_type": "display_data"
    },
    {
     "data": {
      "text/html": [
       "<a href=\"#Input_Parameters\">Input Parameters</a>"
      ],
      "text/plain": [
       "<IPython.core.display.HTML object>"
      ]
     },
     "metadata": {},
     "output_type": "display_data"
    },
    {
     "data": {
      "text/html": [
       "<a href=\"#Cooling_Rate_Profiles\">Cooling Rate Profiles</a>"
      ],
      "text/plain": [
       "<IPython.core.display.HTML object>"
      ]
     },
     "metadata": {},
     "output_type": "display_data"
    },
    {
     "data": {
      "text/html": [
       "<a href=\"#Flux_Comparison\">Flux Comparison</a>"
      ],
      "text/plain": [
       "<IPython.core.display.HTML object>"
      ]
     },
     "metadata": {},
     "output_type": "display_data"
    },
    {
     "data": {
      "text/html": [
       "<a href=\"#g-interval_Summary\">g-interval Summary</a>"
      ],
      "text/plain": [
       "<IPython.core.display.HTML object>"
      ]
     },
     "metadata": {},
     "output_type": "display_data"
    },
    {
     "data": {
      "text/html": [
       "<a href=\"#Download_Data\">Download Data</a>"
      ],
      "text/plain": [
       "<IPython.core.display.HTML object>"
      ]
     },
     "metadata": {},
     "output_type": "display_data"
    },
    {
     "data": {
      "text/html": [
       "<a id=\"Input_Parameters\"></a>"
      ],
      "text/plain": [
       "<IPython.core.display.HTML object>"
      ]
     },
     "metadata": {},
     "output_type": "display_data"
    },
    {
     "data": {
      "text/markdown": [
       "# Input Parameters"
      ],
      "text/plain": [
       "<IPython.core.display.Markdown object>"
      ]
     },
     "metadata": {},
     "output_type": "display_data"
    },
    {
     "data": {
      "text/html": [
       "<div>\n",
       "<style scoped>\n",
       "    .dataframe tbody tr th:only-of-type {\n",
       "        vertical-align: middle;\n",
       "    }\n",
       "\n",
       "    .dataframe tbody tr th {\n",
       "        vertical-align: top;\n",
       "    }\n",
       "\n",
       "    .dataframe thead th {\n",
       "        text-align: right;\n",
       "    }\n",
       "</style>\n",
       "<table border=\"1\" class=\"dataframe\">\n",
       "  <thead>\n",
       "    <tr style=\"text-align: right;\">\n",
       "      <th>Run</th>\n",
       "      <th>lblnew</th>\n",
       "    </tr>\n",
       "    <tr>\n",
       "      <th>Input parameter</th>\n",
       "      <th></th>\n",
       "    </tr>\n",
       "  </thead>\n",
       "  <tbody>\n",
       "    <tr>\n",
       "      <th>atmpro</th>\n",
       "      <td>trp</td>\n",
       "    </tr>\n",
       "    <tr>\n",
       "      <th>band</th>\n",
       "      <td>5</td>\n",
       "    </tr>\n",
       "    <tr>\n",
       "      <th>commitnumber</th>\n",
       "      <td>5014a19</td>\n",
       "    </tr>\n",
       "    <tr>\n",
       "      <th>conc</th>\n",
       "      <td>None</td>\n",
       "    </tr>\n",
       "    <tr>\n",
       "      <th>dv</th>\n",
       "      <td>0.001</td>\n",
       "    </tr>\n",
       "    <tr>\n",
       "      <th>klin</th>\n",
       "      <td>1e-24</td>\n",
       "    </tr>\n",
       "    <tr>\n",
       "      <th>molecule</th>\n",
       "      <td>h2o</td>\n",
       "    </tr>\n",
       "    <tr>\n",
       "      <th>ng_adju</th>\n",
       "      <td>[0]</td>\n",
       "    </tr>\n",
       "    <tr>\n",
       "      <th>ng_refs</th>\n",
       "      <td>[3]</td>\n",
       "    </tr>\n",
       "    <tr>\n",
       "      <th>nv</th>\n",
       "      <td>1000</td>\n",
       "    </tr>\n",
       "    <tr>\n",
       "      <th>option_compute_btable</th>\n",
       "      <td>0</td>\n",
       "    </tr>\n",
       "    <tr>\n",
       "      <th>option_compute_ktable</th>\n",
       "      <td>0</td>\n",
       "    </tr>\n",
       "    <tr>\n",
       "      <th>option_wgt_flux</th>\n",
       "      <td>1</td>\n",
       "    </tr>\n",
       "    <tr>\n",
       "      <th>option_wgt_k</th>\n",
       "      <td>1</td>\n",
       "    </tr>\n",
       "    <tr>\n",
       "      <th>ref_pts</th>\n",
       "      <td>[[600, 250]]</td>\n",
       "    </tr>\n",
       "    <tr>\n",
       "      <th>tsfc</th>\n",
       "      <td>300</td>\n",
       "    </tr>\n",
       "    <tr>\n",
       "      <th>vmax</th>\n",
       "      <td>1100</td>\n",
       "    </tr>\n",
       "    <tr>\n",
       "      <th>vmin</th>\n",
       "      <td>980</td>\n",
       "    </tr>\n",
       "    <tr>\n",
       "      <th>w_diffuse</th>\n",
       "      <td>[[1.66, 1.66, 1.8]]</td>\n",
       "    </tr>\n",
       "    <tr>\n",
       "      <th>wgt</th>\n",
       "      <td>[[0.5, 0.55, 0.9]]</td>\n",
       "    </tr>\n",
       "  </tbody>\n",
       "</table>\n",
       "</div>"
      ],
      "text/plain": [
       "Run                                 lblnew\n",
       "Input parameter                           \n",
       "atmpro                 trp                \n",
       "band                   5                  \n",
       "commitnumber           5014a19            \n",
       "conc                   None               \n",
       "dv                     0.001              \n",
       "klin                   1e-24              \n",
       "molecule               h2o                \n",
       "ng_adju                [0]                \n",
       "ng_refs                [3]                \n",
       "nv                     1000               \n",
       "option_compute_btable  0                  \n",
       "option_compute_ktable  0                  \n",
       "option_wgt_flux        1                  \n",
       "option_wgt_k           1                  \n",
       "ref_pts                [[600, 250]]       \n",
       "tsfc                   300                \n",
       "vmax                   1100               \n",
       "vmin                   980                \n",
       "w_diffuse              [[1.66, 1.66, 1.8]]\n",
       "wgt                    [[0.5, 0.55, 0.9]] "
      ]
     },
     "metadata": {},
     "output_type": "display_data"
    },
    {
     "data": {
      "text/html": [
       "<a id=\"Cooling_Rate_Profiles\"></a>"
      ],
      "text/plain": [
       "<IPython.core.display.HTML object>"
      ]
     },
     "metadata": {},
     "output_type": "display_data"
    },
    {
     "data": {
      "text/markdown": [
       "# Cooling Rate Profiles"
      ],
      "text/plain": [
       "<IPython.core.display.Markdown object>"
      ]
     },
     "metadata": {},
     "output_type": "display_data"
    },
    {
     "data": {
      "text/html": [
       "\n",
       "<div class=\"bk-root\">\n",
       "    <div class=\"bk-plotdiv\" id=\"1697e41d-7104-4cbe-bf7a-af04468b3cc2\"></div>\n",
       "</div>"
      ]
     },
     "metadata": {},
     "output_type": "display_data"
    },
    {
     "data": {
      "application/javascript": [
       "(function(root) {\n",
       "  function embed_document(root) {\n",
       "    \n",
       "  var docs_json = {\"97f0be0d-3a63-436a-bc77-9ead20d050fb\":{\"roots\":{\"references\":[{\"attributes\":{\"source\":{\"id\":\"bb8a7c7a-b50c-4b72-a0a5-b030d5d0ffa2\",\"type\":\"ColumnDataSource\"}},\"id\":\"77b6344e-33ee-48b2-827c-bd77693392e5\",\"type\":\"CDSView\"},{\"attributes\":{\"line_alpha\":0.1,\"line_color\":\"#1f77b4\",\"line_width\":2,\"x\":{\"field\":\"x\"},\"y\":{\"field\":\"y\"}},\"id\":\"ba7778b8-8eb2-4caa-a1f1-9b514d98b8df\",\"type\":\"Line\"},{\"attributes\":{\"data_source\":{\"id\":\"335a3928-08e3-4055-882e-7c00e1b5d20f\",\"type\":\"ColumnDataSource\"},\"glyph\":{\"id\":\"97ae4bf3-884a-4526-a828-2e5ae6660508\",\"type\":\"Line\"},\"hover_glyph\":null,\"muted_glyph\":null,\"nonselection_glyph\":{\"id\":\"ba7778b8-8eb2-4caa-a1f1-9b514d98b8df\",\"type\":\"Line\"},\"selection_glyph\":null,\"view\":{\"id\":\"c23b9ef3-9deb-4b7a-8fec-8639fa2f9604\",\"type\":\"CDSView\"}},\"id\":\"4e7940bf-d7ab-4aac-b824-b3110a121974\",\"type\":\"GlyphRenderer\"},{\"attributes\":{\"source\":{\"id\":\"335a3928-08e3-4055-882e-7c00e1b5d20f\",\"type\":\"ColumnDataSource\"}},\"id\":\"c23b9ef3-9deb-4b7a-8fec-8639fa2f9604\",\"type\":\"CDSView\"},{\"attributes\":{\"plot\":{\"id\":\"53c16aa8-b4c6-4a36-8a23-b3d515222171\",\"subtype\":\"Figure\",\"type\":\"Plot\"},\"ticker\":{\"id\":\"bbc92daf-a042-47ef-a548-2f38c55e668f\",\"type\":\"BasicTicker\"}},\"id\":\"b5f7c074-fbb0-40da-bba5-7b49abb0878c\",\"type\":\"Grid\"},{\"attributes\":{\"source\":{\"id\":\"4d9e28f4-4134-4657-a968-5b928d97f4c7\",\"type\":\"ColumnDataSource\"}},\"id\":\"d5b9fb80-f6c5-4fac-9e51-62e4930ea925\",\"type\":\"CDSView\"},{\"attributes\":{\"data_source\":{\"id\":\"4d9e28f4-4134-4657-a968-5b928d97f4c7\",\"type\":\"ColumnDataSource\"},\"glyph\":{\"id\":\"a05730ef-4648-42a7-b788-11d345b437ea\",\"type\":\"Triangle\"},\"hover_glyph\":null,\"muted_glyph\":null,\"nonselection_glyph\":{\"id\":\"b169608e-4847-414c-a1e6-9afec21351fb\",\"type\":\"Triangle\"},\"selection_glyph\":null,\"view\":{\"id\":\"d5b9fb80-f6c5-4fac-9e51-62e4930ea925\",\"type\":\"CDSView\"}},\"id\":\"903adfaf-97a9-49e3-895f-ee331cb13f05\",\"type\":\"GlyphRenderer\"},{\"attributes\":{\"data_source\":{\"id\":\"26a4a61d-8a71-4eb6-8716-85920a3e31f6\",\"type\":\"ColumnDataSource\"},\"glyph\":{\"id\":\"e2588469-1f9f-46f4-9bda-d9330be5539d\",\"type\":\"Line\"},\"hover_glyph\":null,\"muted_glyph\":null,\"nonselection_glyph\":{\"id\":\"6801e703-568e-46dd-b809-cc8794748675\",\"type\":\"Line\"},\"selection_glyph\":null,\"view\":{\"id\":\"b96afa75-69ef-453f-9474-d4d8b86c69de\",\"type\":\"CDSView\"}},\"id\":\"eabdf4d1-dd5a-4c56-940e-385809328459\",\"type\":\"GlyphRenderer\"},{\"attributes\":{},\"id\":\"bbc92daf-a042-47ef-a548-2f38c55e668f\",\"type\":\"BasicTicker\"},{\"attributes\":{\"callback\":null,\"data\":{\"x\":{\"__ndarray__\":\"8kNI/BUNsr7+kFl1qSOyviN6WPA+ULK+FKEpF617sr439n29RqWyvjs7A4HRzLK+sFj/ADLysr6sWSa/QhWzvuhQzL3YNbO+S87wts5Ts76d/Vy+/W6zvo4nnzlAh7O+KJGT7YGcs753/cn7nrKzvuVr4Ug8y7O+mutwQxvHsr7Z/TOUBhytvidqtgg5n5S+d5/1RStbqD6xpK8MNaXEPgdlyypd2dU+hTtm7Fav4j6iO/7SlvrlPgx02SWM2uI+G8fESYf82z72zNhJ2IXRPtWXbYW9w8I+Pp1+xAV2rT4EHha6CjpovotXHaFZvqW+QYdFUqAbsb4NpMNZB5q0vs0+nB/FMra+NYcCDbN7tr5pELpUXUe1vqEBjFpQUrK+OGBbV5k/sL67pU3baN2xvs7ZogE4/LW+EhkMP83Lu75Iojm5VvHFvkVr5See/ti+uzRqaJ/o5r67bIEBxbfwvoUUANUAcPG+gZ+akLkO077wgMcp8JwBP4ERdSot+h0/RHrWS7vRLz/dJsoyqpA8P7xLcA6BIUc/8wv5H1VfUT/a2l3IbI5YP7vr9t7Cb2A/bPFe8pX5ZD/1S9E8yolpP0CrVBjwtW0/Q/eKgcWHcD/j2d0z9pRxPwludn3F53E/LNV7pUl0cT8BZYaflTpwP6CIvBrdl2w/ows26iuMaD+VXSBolAxiP1uVUyFv0FY//4RpzrAHST/zuCSVTWM5P8Ar4dd7RTA/dsmy2VAJLD9cR/IqMA0rP2PoLFdAuio/+BaiwMzJLD92TskWuAA3P07Mcglr0lI/\",\"dtype\":\"float64\",\"shape\":[75]},\"y\":{\"__ndarray__\":\"GhExyth1ND/Sv8nbtpRIP2vylNV0PVE/aTum7souWD/At0SJ8fVgPw3Iuahxymc/MSNhhJWvcD/bTfBN02d3P2zb5nxnaoA/CD5h5MAGhz8NmeH1TyaQP+zrCsc9p5Y/LbKd76fGnz/bLW5ISEmmPww9YvTcQq8/JV2OstnstT8Er5Y7M8G+P0c+r3jqkcU/5h99k6ZBzj88bCIzFzjVP4enV8oyxN0//yH99nXg5D8qOpLLf0jtP5kqGJXUifQ/c9cS8kHP/D+/DpwzojQEQIEmwoanVwxA4lgXt9HgE0BSSZ2AJuIbQAMJih9jjiNA5q4l5INuK0AwTKYKRj0zQNv5fmq8/DpAaCJseHrtQkB/+zpwzoxKQM3MzMzMeFJAZmZmZmZqWEAAAAAAAFxeQM3MzMzMJmJAmpmZmZkfZUBmZmZmZhhoQDMzMzMzEWtAAAAAAAAKbkBmZmZmZoFwQM3MzMzM/XFAMzMzMzN6c0CamZmZmfZ0QAAAAAAAc3ZAZmZmZmbvd0DNzMzMzGt5QDMzMzMz6HpAmpmZmZlkfEAAAAAAAOF9QGZmZmZmXX9AZmZmZuZsgECamZmZGSuBQM3MzMxM6YFAAAAAAICngkAzMzMzs2WDQGZmZmbmI4RAmpmZmRnihEDNzMzMTKCFQAAAAACAXoZAMzMzM7Mch0BmZmZm5tqHQJqZmZkZmYhAzczMzExXiUAAAAAAgBWKQDMzMzOz04pAZmZmZuaRi0CamZmZGVCMQM3MzMxMDo1AAAAAAIDMjUAzMzMzs4qOQGZmZmbmSI9A\",\"dtype\":\"float64\",\"shape\":[75]}},\"selected\":{\"id\":\"eca15996-cae0-493e-9e14-21580a938985\",\"type\":\"Selection\"},\"selection_policy\":{\"id\":\"30e9dbb5-e58c-4e6b-8ae2-6ac6b40b0614\",\"type\":\"UnionRenderers\"}},\"id\":\"335a3928-08e3-4055-882e-7c00e1b5d20f\",\"type\":\"ColumnDataSource\"},{\"attributes\":{\"fill_alpha\":{\"value\":0.7},\"fill_color\":{\"value\":\"#984ea3\"},\"line_alpha\":{\"value\":0.7},\"line_color\":{\"value\":\"#984ea3\"},\"x\":{\"field\":\"x\"},\"y\":{\"field\":\"y\"}},\"id\":\"b933447b-d7a0-4831-b35c-e55da51187d8\",\"type\":\"Square\"},{\"attributes\":{\"active_drag\":\"auto\",\"active_inspect\":\"auto\",\"active_scroll\":\"auto\",\"active_tap\":\"auto\",\"tools\":[{\"id\":\"4584dbe6-92d4-4a6c-8aa0-529ff681fbf3\",\"type\":\"PanTool\"},{\"id\":\"ab8323e6-ef27-48f8-a4f2-2939197ecbdc\",\"type\":\"WheelZoomTool\"},{\"id\":\"567fc6ab-9dc3-43e8-9db4-600da1def856\",\"type\":\"BoxZoomTool\"},{\"id\":\"1d4ebea4-3720-459e-8a3c-f858241ae9b9\",\"type\":\"SaveTool\"},{\"id\":\"be360052-29dd-4349-918a-d03c0ab3640f\",\"type\":\"ResetTool\"},{\"id\":\"a4e5d80e-90c1-4596-bbaa-9d4eea9b9693\",\"type\":\"HelpTool\"}]},\"id\":\"afe23ab1-67bb-4811-97de-2d31d43554d1\",\"type\":\"Toolbar\"},{\"attributes\":{\"source\":{\"id\":\"fb345fc1-298d-4bac-a8c2-70a12f205311\",\"type\":\"ColumnDataSource\"}},\"id\":\"d6665e9a-dab9-482a-801c-74362b8af277\",\"type\":\"CDSView\"},{\"attributes\":{\"line_alpha\":0.3,\"line_color\":\"#377eb8\",\"line_width\":2,\"x\":{\"field\":\"x\"},\"y\":{\"field\":\"y\"}},\"id\":\"97ae4bf3-884a-4526-a828-2e5ae6660508\",\"type\":\"Line\"},{\"attributes\":{\"callback\":null,\"data\":{\"x\":{\"__ndarray__\":\"D3Bg+HdJs76zPvuYzl2zvvsVs0VXhbO+/pD5qBars76/VnmySs6zvv5DTAHD7rO+X9NMflMMtL5159v4zia0vpoZ8vsBPrS+CaFIXL1RtL4LAFqDz2G0vvhQGvQHbrS+iKbdsDt2tL7A7vRJNXq0vtKIi+WURLS+QZwDV+hRsr7I8b+loXmovq6IToLp11A+72sg8SGEtj7Q85Hr25TNPsAjwwohH90+Wf4YhNoh6D6B3M8zSi7sPtoqB3AwWOg+0IeW06dc4j6WfZ2fNMnXPr9Hlme/Tcs+mHGVP7j1uT68Lb+UMvyYPpnQb1P5fZu+dkBJ4Spprr5wRmcX7CC0vpiclgHvq7a+mR/I59ORt75987hgrci2vtlp5JUe7LO+vh5BMynGsb5mxlKr43WzvkR5i1gVpbe+vecejglfvb4fFsvmuZnGvv8XUObKwdi+70vPLIov5b4EXP6fXarqvk2w4BO/VeG+qce2sFyE7D6d98Nv1K4RP18wvctiIiY/oZeomrS7ND+CwWRJPjxBP4ij6O0cWEo/SjN9wpfaUj/38GQ0xIpZPxybLfkQdmA/92LuMjFRZD8d0X10gwxoP6txAlBWXms/Hl3kHy8Ebj9I0VQdY79vP63YwXvlPnA/nyOwQXgXcD/g2gVa7LxuPxhjnTfAFmw/QAcqYztYaT8XkkhpWgxkP8P9CbBELlw/lW2+kqboUT9B1PmxIDJFP8RtIfSH3js/WY74ej5qNT/lu7jYEGQyPyvYMIPhKzE/W+Rre6K0Mj9vVZVEuxI7P6LtT5tVfFM/\",\"dtype\":\"float64\",\"shape\":[75]},\"y\":{\"__ndarray__\":\"GhExyth1ND/Sv8nbtpRIP2vylNV0PVE/aTum7souWD/At0SJ8fVgPw3Iuahxymc/MSNhhJWvcD/bTfBN02d3P2zb5nxnaoA/CD5h5MAGhz8NmeH1TyaQP+zrCsc9p5Y/LbKd76fGnz/bLW5ISEmmPww9YvTcQq8/JV2OstnstT8Er5Y7M8G+P0c+r3jqkcU/5h99k6ZBzj88bCIzFzjVP4enV8oyxN0//yH99nXg5D8qOpLLf0jtP5kqGJXUifQ/c9cS8kHP/D+/DpwzojQEQIEmwoanVwxA4lgXt9HgE0BSSZ2AJuIbQAMJih9jjiNA5q4l5INuK0AwTKYKRj0zQNv5fmq8/DpAaCJseHrtQkB/+zpwzoxKQM3MzMzMeFJAZmZmZmZqWEAAAAAAAFxeQM3MzMzMJmJAmpmZmZkfZUBmZmZmZhhoQDMzMzMzEWtAAAAAAAAKbkBmZmZmZoFwQM3MzMzM/XFAMzMzMzN6c0CamZmZmfZ0QAAAAAAAc3ZAZmZmZmbvd0DNzMzMzGt5QDMzMzMz6HpAmpmZmZlkfEAAAAAAAOF9QGZmZmZmXX9AZmZmZuZsgECamZmZGSuBQM3MzMxM6YFAAAAAAICngkAzMzMzs2WDQGZmZmbmI4RAmpmZmRnihEDNzMzMTKCFQAAAAACAXoZAMzMzM7Mch0BmZmZm5tqHQJqZmZkZmYhAzczMzExXiUAAAAAAgBWKQDMzMzOz04pAZmZmZuaRi0CamZmZGVCMQM3MzMxMDo1AAAAAAIDMjUAzMzMzs4qOQGZmZmbmSI9A\",\"dtype\":\"float64\",\"shape\":[75]}},\"selected\":{\"id\":\"83f95da2-8258-4ed5-bc0b-6677c0272861\",\"type\":\"Selection\"},\"selection_policy\":{\"id\":\"78b92abc-1d87-4b8b-9cf2-4a5c0fcf8a10\",\"type\":\"UnionRenderers\"}},\"id\":\"fb345fc1-298d-4bac-a8c2-70a12f205311\",\"type\":\"ColumnDataSource\"},{\"attributes\":{\"label\":{\"value\":\"CRD\"},\"renderers\":[{\"id\":\"924f2c58-3377-48e9-b4a3-225d01d1da91\",\"type\":\"GlyphRenderer\"},{\"id\":\"5562c881-24a5-4c91-944d-c93b98f3e2ec\",\"type\":\"GlyphRenderer\"}]},\"id\":\"e1d9b325-340b-49ec-a787-e96817101d35\",\"type\":\"LegendItem\"},{\"attributes\":{\"callback\":null,\"end\":3.108098465700001e-05,\"start\":-3.0285963570000003e-06},\"id\":\"dd4632b2-5350-4ed2-bc67-13daa0a1a358\",\"type\":\"Range1d\"},{\"attributes\":{\"label\":{\"value\":\"WGT igg=10\"},\"renderers\":[{\"id\":\"903adfaf-97a9-49e3-895f-ee331cb13f05\",\"type\":\"GlyphRenderer\"},{\"id\":\"4e7940bf-d7ab-4aac-b824-b3110a121974\",\"type\":\"GlyphRenderer\"}]},\"id\":\"6e9d4247-461c-49ba-b337-dee928ee3f07\",\"type\":\"LegendItem\"},{\"attributes\":{\"axis_label\":\"cooling rate [K/day]\",\"formatter\":{\"id\":\"40ae059c-acaa-4a4c-a3ec-39d4c4e64918\",\"type\":\"BasicTickFormatter\"},\"plot\":{\"id\":\"53c16aa8-b4c6-4a36-8a23-b3d515222171\",\"subtype\":\"Figure\",\"type\":\"Plot\"},\"ticker\":{\"id\":\"bbc92daf-a042-47ef-a548-2f38c55e668f\",\"type\":\"BasicTicker\"}},\"id\":\"d381550d-c123-4553-8993-12cde060cd56\",\"type\":\"LinearAxis\"},{\"attributes\":{\"line_alpha\":0.6,\"line_color\":\"#984ea3\",\"line_width\":3,\"x\":{\"field\":\"x\"},\"y\":{\"field\":\"y\"}},\"id\":\"acaccf6a-4bf1-48eb-b211-03776911adc5\",\"type\":\"Line\"},{\"attributes\":{\"label\":{\"value\":\"WGT igg=1\"},\"renderers\":[{\"id\":\"8e181b4c-4b44-465c-b9e1-2251e04499a5\",\"type\":\"GlyphRenderer\"},{\"id\":\"a914aca6-d95f-4e77-92d3-474e2c625f17\",\"type\":\"GlyphRenderer\"}]},\"id\":\"83afbf8b-e29e-447f-b432-6e37508f8275\",\"type\":\"LegendItem\"},{\"attributes\":{\"items\":[{\"id\":\"cb224243-a075-4f38-8222-6064c0120f91\",\"type\":\"LegendItem\"},{\"id\":\"c6539261-0fe7-4fad-a22b-9dfc7cde1884\",\"type\":\"LegendItem\"},{\"id\":\"78bae509-f9d7-42ba-86f5-461cbce283e8\",\"type\":\"LegendItem\"}],\"label_text_font_size\":{\"value\":\"8pt\"},\"location\":\"top_center\",\"orientation\":\"horizontal\",\"plot\":{\"id\":\"53c16aa8-b4c6-4a36-8a23-b3d515222171\",\"subtype\":\"Figure\",\"type\":\"Plot\"}},\"id\":\"64617b92-6155-4201-9b55-6278f9aad84d\",\"type\":\"Legend\"},{\"attributes\":{},\"id\":\"da1360fe-db80-478c-972c-c49ecadc68ba\",\"type\":\"LinearScale\"},{\"attributes\":{},\"id\":\"40ae059c-acaa-4a4c-a3ec-39d4c4e64918\",\"type\":\"BasicTickFormatter\"},{\"attributes\":{},\"id\":\"ab721a78-1361-43c2-baad-e2a396029141\",\"type\":\"LogScale\"},{\"attributes\":{\"axis_label\":\"pressure [mb]\",\"formatter\":{\"id\":\"b8222212-739a-44e6-8bfd-812e6302087e\",\"type\":\"LogTickFormatter\"},\"plot\":{\"id\":\"53c16aa8-b4c6-4a36-8a23-b3d515222171\",\"subtype\":\"Figure\",\"type\":\"Plot\"},\"ticker\":{\"id\":\"7ad60533-665f-47fe-81d7-918f13ca3376\",\"type\":\"LogTicker\"}},\"id\":\"121bb3bf-3e01-4ff7-a6ea-3e79992e4f95\",\"type\":\"LogAxis\"},{\"attributes\":{\"fill_alpha\":{\"value\":0.7},\"fill_color\":{\"value\":\"#377eb8\"},\"line_alpha\":{\"value\":0.7},\"line_color\":{\"value\":\"#377eb8\"},\"x\":{\"field\":\"x\"},\"y\":{\"field\":\"y\"}},\"id\":\"06c50e73-3bbc-4cc7-9a54-261c4ce30836\",\"type\":\"Triangle\"},{\"attributes\":{\"num_minor_ticks\":10},\"id\":\"7ad60533-665f-47fe-81d7-918f13ca3376\",\"type\":\"LogTicker\"},{\"attributes\":{\"line_alpha\":0.1,\"line_color\":\"#1f77b4\",\"line_width\":3,\"x\":{\"field\":\"x\"},\"y\":{\"field\":\"y\"}},\"id\":\"f0b888eb-1eb8-46f6-a135-1e7c5e01f38e\",\"type\":\"Line\"},{\"attributes\":{\"dimension\":1,\"plot\":{\"id\":\"53c16aa8-b4c6-4a36-8a23-b3d515222171\",\"subtype\":\"Figure\",\"type\":\"Plot\"},\"ticker\":{\"id\":\"7ad60533-665f-47fe-81d7-918f13ca3376\",\"type\":\"LogTicker\"}},\"id\":\"80b02176-4714-4831-9288-168ddc0b3be6\",\"type\":\"Grid\"},{\"attributes\":{\"callback\":null,\"data\":{\"x\":{\"__ndarray__\":\"8kNI/BUNsr7+kFl1qSOyviN6WPA+ULK+FKEpF617sr439n29RqWyvjs7A4HRzLK+sFj/ADLysr6sWSa/QhWzvuhQzL3YNbO+S87wts5Ts76d/Vy+/W6zvo4nnzlAh7O+KJGT7YGcs753/cn7nrKzvuVr4Ug8y7O+mutwQxvHsr7Z/TOUBhytvidqtgg5n5S+d5/1RStbqD6xpK8MNaXEPgdlyypd2dU+hTtm7Fav4j6iO/7SlvrlPgx02SWM2uI+G8fESYf82z72zNhJ2IXRPtWXbYW9w8I+Pp1+xAV2rT4EHha6CjpovotXHaFZvqW+QYdFUqAbsb4NpMNZB5q0vs0+nB/FMra+NYcCDbN7tr5pELpUXUe1vqEBjFpQUrK+OGBbV5k/sL67pU3baN2xvs7ZogE4/LW+EhkMP83Lu75Iojm5VvHFvkVr5See/ti+uzRqaJ/o5r67bIEBxbfwvoUUANUAcPG+gZ+akLkO077wgMcp8JwBP4ERdSot+h0/RHrWS7vRLz/dJsoyqpA8P7xLcA6BIUc/8wv5H1VfUT/a2l3IbI5YP7vr9t7Cb2A/bPFe8pX5ZD/1S9E8yolpP0CrVBjwtW0/Q/eKgcWHcD/j2d0z9pRxPwludn3F53E/LNV7pUl0cT8BZYaflTpwP6CIvBrdl2w/ows26iuMaD+VXSBolAxiP1uVUyFv0FY//4RpzrAHST/zuCSVTWM5P8Ar4dd7RTA/dsmy2VAJLD9cR/IqMA0rP2PoLFdAuio/+BaiwMzJLD92TskWuAA3P07Mcglr0lI/\",\"dtype\":\"float64\",\"shape\":[75]},\"y\":{\"__ndarray__\":\"GhExyth1ND/Sv8nbtpRIP2vylNV0PVE/aTum7souWD/At0SJ8fVgPw3Iuahxymc/MSNhhJWvcD/bTfBN02d3P2zb5nxnaoA/CD5h5MAGhz8NmeH1TyaQP+zrCsc9p5Y/LbKd76fGnz/bLW5ISEmmPww9YvTcQq8/JV2OstnstT8Er5Y7M8G+P0c+r3jqkcU/5h99k6ZBzj88bCIzFzjVP4enV8oyxN0//yH99nXg5D8qOpLLf0jtP5kqGJXUifQ/c9cS8kHP/D+/DpwzojQEQIEmwoanVwxA4lgXt9HgE0BSSZ2AJuIbQAMJih9jjiNA5q4l5INuK0AwTKYKRj0zQNv5fmq8/DpAaCJseHrtQkB/+zpwzoxKQM3MzMzMeFJAZmZmZmZqWEAAAAAAAFxeQM3MzMzMJmJAmpmZmZkfZUBmZmZmZhhoQDMzMzMzEWtAAAAAAAAKbkBmZmZmZoFwQM3MzMzM/XFAMzMzMzN6c0CamZmZmfZ0QAAAAAAAc3ZAZmZmZmbvd0DNzMzMzGt5QDMzMzMz6HpAmpmZmZlkfEAAAAAAAOF9QGZmZmZmXX9AZmZmZuZsgECamZmZGSuBQM3MzMxM6YFAAAAAAICngkAzMzMzs2WDQGZmZmbmI4RAmpmZmRnihEDNzMzMTKCFQAAAAACAXoZAMzMzM7Mch0BmZmZm5tqHQJqZmZkZmYhAzczMzExXiUAAAAAAgBWKQDMzMzOz04pAZmZmZuaRi0CamZmZGVCMQM3MzMxMDo1AAAAAAIDMjUAzMzMzs4qOQGZmZmbmSI9A\",\"dtype\":\"float64\",\"shape\":[75]}},\"selected\":{\"id\":\"237ed0b2-9712-4416-bebb-7d51dfdd713e\",\"type\":\"Selection\"},\"selection_policy\":{\"id\":\"75ed2770-b0ce-42ac-ab3c-780b2ff3063e\",\"type\":\"UnionRenderers\"}},\"id\":\"26a4a61d-8a71-4eb6-8716-85920a3e31f6\",\"type\":\"ColumnDataSource\"},{\"attributes\":{\"data_source\":{\"id\":\"1698b70c-c21c-4f32-a3a0-7a82440ec9bb\",\"type\":\"ColumnDataSource\"},\"glyph\":{\"id\":\"06c50e73-3bbc-4cc7-9a54-261c4ce30836\",\"type\":\"Triangle\"},\"hover_glyph\":null,\"muted_glyph\":null,\"nonselection_glyph\":{\"id\":\"c3a294f2-279e-4079-b2e2-f47ffa00489a\",\"type\":\"Triangle\"},\"selection_glyph\":null,\"view\":{\"id\":\"cab144b9-19f4-4eb1-a195-45f6597be40a\",\"type\":\"CDSView\"}},\"id\":\"99406ba6-82ab-42e3-abb6-93c828e8ca7b\",\"type\":\"GlyphRenderer\"},{\"attributes\":{\"line_color\":\"#4daf4a\",\"line_width\":1.5,\"x\":{\"field\":\"x\"},\"y\":{\"field\":\"y\"}},\"id\":\"ef0f5959-4b65-489c-adf7-24e0a566fe03\",\"type\":\"Line\"},{\"attributes\":{\"bottom_units\":\"screen\",\"fill_alpha\":{\"value\":0.5},\"fill_color\":{\"value\":\"lightgrey\"},\"left_units\":\"screen\",\"level\":\"overlay\",\"line_alpha\":{\"value\":1.0},\"line_color\":{\"value\":\"black\"},\"line_dash\":[4,4],\"line_width\":{\"value\":2},\"plot\":null,\"render_mode\":\"css\",\"right_units\":\"screen\",\"top_units\":\"screen\"},\"id\":\"e477d2a8-7c65-4f64-8993-a5766800f748\",\"type\":\"BoxAnnotation\"},{\"attributes\":{},\"id\":\"4584dbe6-92d4-4a6c-8aa0-529ff681fbf3\",\"type\":\"PanTool\"},{\"attributes\":{\"line_alpha\":0.1,\"line_color\":\"#1f77b4\",\"line_width\":1.5,\"x\":{\"field\":\"x\"},\"y\":{\"field\":\"y\"}},\"id\":\"162d9f3c-598b-4ce0-ab09-b501e3902f09\",\"type\":\"Line\"},{\"attributes\":{},\"id\":\"ab8323e6-ef27-48f8-a4f2-2939197ecbdc\",\"type\":\"WheelZoomTool\"},{\"attributes\":{\"overlay\":{\"id\":\"e477d2a8-7c65-4f64-8993-a5766800f748\",\"type\":\"BoxAnnotation\"}},\"id\":\"567fc6ab-9dc3-43e8-9db4-600da1def856\",\"type\":\"BoxZoomTool\"},{\"attributes\":{\"callback\":null,\"data\":{\"x\":{\"__ndarray__\":\"D3Bg+HdJs76zPvuYzl2zvvsVs0VXhbO+/pD5qBars76/VnmySs6zvv5DTAHD7rO+X9NMflMMtL5159v4zia0vpoZ8vsBPrS+CaFIXL1RtL4LAFqDz2G0vvhQGvQHbrS+iKbdsDt2tL7A7vRJNXq0vtKIi+WURLS+QZwDV+hRsr7I8b+loXmovq6IToLp11A+72sg8SGEtj7Q85Hr25TNPsAjwwohH90+Wf4YhNoh6D6B3M8zSi7sPtoqB3AwWOg+0IeW06dc4j6WfZ2fNMnXPr9Hlme/Tcs+mHGVP7j1uT68Lb+UMvyYPpnQb1P5fZu+dkBJ4Spprr5wRmcX7CC0vpiclgHvq7a+mR/I59ORt75987hgrci2vtlp5JUe7LO+vh5BMynGsb5mxlKr43WzvkR5i1gVpbe+vecejglfvb4fFsvmuZnGvv8XUObKwdi+70vPLIov5b4EXP6fXarqvk2w4BO/VeG+qce2sFyE7D6d98Nv1K4RP18wvctiIiY/oZeomrS7ND+CwWRJPjxBP4ij6O0cWEo/SjN9wpfaUj/38GQ0xIpZPxybLfkQdmA/92LuMjFRZD8d0X10gwxoP6txAlBWXms/Hl3kHy8Ebj9I0VQdY79vP63YwXvlPnA/nyOwQXgXcD/g2gVa7LxuPxhjnTfAFmw/QAcqYztYaT8XkkhpWgxkP8P9CbBELlw/lW2+kqboUT9B1PmxIDJFP8RtIfSH3js/WY74ej5qNT/lu7jYEGQyPyvYMIPhKzE/W+Rre6K0Mj9vVZVEuxI7P6LtT5tVfFM/\",\"dtype\":\"float64\",\"shape\":[75]},\"y\":{\"__ndarray__\":\"GhExyth1ND/Sv8nbtpRIP2vylNV0PVE/aTum7souWD/At0SJ8fVgPw3Iuahxymc/MSNhhJWvcD/bTfBN02d3P2zb5nxnaoA/CD5h5MAGhz8NmeH1TyaQP+zrCsc9p5Y/LbKd76fGnz/bLW5ISEmmPww9YvTcQq8/JV2OstnstT8Er5Y7M8G+P0c+r3jqkcU/5h99k6ZBzj88bCIzFzjVP4enV8oyxN0//yH99nXg5D8qOpLLf0jtP5kqGJXUifQ/c9cS8kHP/D+/DpwzojQEQIEmwoanVwxA4lgXt9HgE0BSSZ2AJuIbQAMJih9jjiNA5q4l5INuK0AwTKYKRj0zQNv5fmq8/DpAaCJseHrtQkB/+zpwzoxKQM3MzMzMeFJAZmZmZmZqWEAAAAAAAFxeQM3MzMzMJmJAmpmZmZkfZUBmZmZmZhhoQDMzMzMzEWtAAAAAAAAKbkBmZmZmZoFwQM3MzMzM/XFAMzMzMzN6c0CamZmZmfZ0QAAAAAAAc3ZAZmZmZmbvd0DNzMzMzGt5QDMzMzMz6HpAmpmZmZlkfEAAAAAAAOF9QGZmZmZmXX9AZmZmZuZsgECamZmZGSuBQM3MzMxM6YFAAAAAAICngkAzMzMzs2WDQGZmZmbmI4RAmpmZmRnihEDNzMzMTKCFQAAAAACAXoZAMzMzM7Mch0BmZmZm5tqHQJqZmZkZmYhAzczMzExXiUAAAAAAgBWKQDMzMzOz04pAZmZmZuaRi0CamZmZGVCMQM3MzMxMDo1AAAAAAIDMjUAzMzMzs4qOQGZmZmbmSI9A\",\"dtype\":\"float64\",\"shape\":[75]}},\"selected\":{\"id\":\"f2cfc949-39e7-4ac9-bf86-e7792935fd7d\",\"type\":\"Selection\"},\"selection_policy\":{\"id\":\"45747c81-95e9-45a7-9e15-a9ca5f043039\",\"type\":\"UnionRenderers\"}},\"id\":\"de769b54-1173-493b-b2ac-dbbbce2681a0\",\"type\":\"ColumnDataSource\"},{\"attributes\":{},\"id\":\"1d4ebea4-3720-459e-8a3c-f858241ae9b9\",\"type\":\"SaveTool\"},{\"attributes\":{\"data_source\":{\"id\":\"bb8a7c7a-b50c-4b72-a0a5-b030d5d0ffa2\",\"type\":\"ColumnDataSource\"},\"glyph\":{\"id\":\"ef0f5959-4b65-489c-adf7-24e0a566fe03\",\"type\":\"Line\"},\"hover_glyph\":null,\"muted_glyph\":null,\"nonselection_glyph\":{\"id\":\"162d9f3c-598b-4ce0-ab09-b501e3902f09\",\"type\":\"Line\"},\"selection_glyph\":null,\"view\":{\"id\":\"77b6344e-33ee-48b2-827c-bd77693392e5\",\"type\":\"CDSView\"}},\"id\":\"b87e91e9-5d85-4c6d-bc95-291ce43204a4\",\"type\":\"GlyphRenderer\"},{\"attributes\":{},\"id\":\"be360052-29dd-4349-918a-d03c0ab3640f\",\"type\":\"ResetTool\"},{\"attributes\":{\"fill_alpha\":{\"value\":0.1},\"fill_color\":{\"value\":\"#1f77b4\"},\"line_alpha\":{\"value\":0.1},\"line_color\":{\"value\":\"#1f77b4\"},\"x\":{\"field\":\"x\"},\"y\":{\"field\":\"y\"}},\"id\":\"c3a294f2-279e-4079-b2e2-f47ffa00489a\",\"type\":\"Triangle\"},{\"attributes\":{\"children\":[{\"id\":\"b26a3287-7148-46fe-b28e-4da66ac4fa4f\",\"type\":\"Row\"}]},\"id\":\"92a46083-dca2-4225-987e-0a89754dfe3e\",\"type\":\"Column\"},{\"attributes\":{},\"id\":\"a4e5d80e-90c1-4596-bbaa-9d4eea9b9693\",\"type\":\"HelpTool\"},{\"attributes\":{\"data_source\":{\"id\":\"fb345fc1-298d-4bac-a8c2-70a12f205311\",\"type\":\"ColumnDataSource\"},\"glyph\":{\"id\":\"b933447b-d7a0-4831-b35c-e55da51187d8\",\"type\":\"Square\"},\"hover_glyph\":null,\"muted_glyph\":null,\"nonselection_glyph\":{\"id\":\"7f652043-23f2-4dff-8b40-0d1ac9632fc1\",\"type\":\"Square\"},\"selection_glyph\":null,\"view\":{\"id\":\"d6665e9a-dab9-482a-801c-74362b8af277\",\"type\":\"CDSView\"}},\"id\":\"f6791d8a-d4f5-4b7b-ad15-d9ccdea4610d\",\"type\":\"GlyphRenderer\"},{\"attributes\":{\"fill_alpha\":{\"value\":0.1},\"fill_color\":{\"value\":\"#1f77b4\"},\"line_alpha\":{\"value\":0.1},\"line_color\":{\"value\":\"#1f77b4\"},\"x\":{\"field\":\"x\"},\"y\":{\"field\":\"y\"}},\"id\":\"7f652043-23f2-4dff-8b40-0d1ac9632fc1\",\"type\":\"Square\"},{\"attributes\":{\"data_source\":{\"id\":\"de769b54-1173-493b-b2ac-dbbbce2681a0\",\"type\":\"ColumnDataSource\"},\"glyph\":{\"id\":\"acaccf6a-4bf1-48eb-b211-03776911adc5\",\"type\":\"Line\"},\"hover_glyph\":null,\"muted_glyph\":null,\"nonselection_glyph\":{\"id\":\"f0b888eb-1eb8-46f6-a135-1e7c5e01f38e\",\"type\":\"Line\"},\"selection_glyph\":null,\"view\":{\"id\":\"4319bad9-7198-4546-a18a-1a03aa40b572\",\"type\":\"CDSView\"}},\"id\":\"c3fc7ea7-df5e-4936-a4c7-9aedbed80843\",\"type\":\"GlyphRenderer\"},{\"attributes\":{\"callback\":null,\"data\":{\"x\":{\"__ndarray__\":\"8kNI/BUNsr7+kFl1qSOyviN6WPA+ULK+FKEpF617sr439n29RqWyvjs7A4HRzLK+sFj/ADLysr6sWSa/QhWzvuhQzL3YNbO+S87wts5Ts76d/Vy+/W6zvo4nnzlAh7O+KJGT7YGcs753/cn7nrKzvuVr4Ug8y7O+mutwQxvHsr7Z/TOUBhytvidqtgg5n5S+d5/1RStbqD6xpK8MNaXEPgdlyypd2dU+hTtm7Fav4j6iO/7SlvrlPgx02SWM2uI+G8fESYf82z72zNhJ2IXRPtWXbYW9w8I+Pp1+xAV2rT4EHha6CjpovotXHaFZvqW+QYdFUqAbsb4NpMNZB5q0vs0+nB/FMra+NYcCDbN7tr5pELpUXUe1vqEBjFpQUrK+OGBbV5k/sL67pU3baN2xvs7ZogE4/LW+EhkMP83Lu75Iojm5VvHFvkVr5See/ti+uzRqaJ/o5r67bIEBxbfwvoUUANUAcPG+gZ+akLkO077wgMcp8JwBP4ERdSot+h0/RHrWS7vRLz/dJsoyqpA8P7xLcA6BIUc/8wv5H1VfUT/a2l3IbI5YP7vr9t7Cb2A/bPFe8pX5ZD/1S9E8yolpP0CrVBjwtW0/Q/eKgcWHcD/j2d0z9pRxPwludn3F53E/LNV7pUl0cT8BZYaflTpwP6CIvBrdl2w/ows26iuMaD+VXSBolAxiP1uVUyFv0FY//4RpzrAHST/zuCSVTWM5P8Ar4dd7RTA/dsmy2VAJLD9cR/IqMA0rP2PoLFdAuio/+BaiwMzJLD92TskWuAA3P07Mcglr0lI/\",\"dtype\":\"float64\",\"shape\":[75]},\"y\":{\"__ndarray__\":\"GhExyth1ND/Sv8nbtpRIP2vylNV0PVE/aTum7souWD/At0SJ8fVgPw3Iuahxymc/MSNhhJWvcD/bTfBN02d3P2zb5nxnaoA/CD5h5MAGhz8NmeH1TyaQP+zrCsc9p5Y/LbKd76fGnz/bLW5ISEmmPww9YvTcQq8/JV2OstnstT8Er5Y7M8G+P0c+r3jqkcU/5h99k6ZBzj88bCIzFzjVP4enV8oyxN0//yH99nXg5D8qOpLLf0jtP5kqGJXUifQ/c9cS8kHP/D+/DpwzojQEQIEmwoanVwxA4lgXt9HgE0BSSZ2AJuIbQAMJih9jjiNA5q4l5INuK0AwTKYKRj0zQNv5fmq8/DpAaCJseHrtQkB/+zpwzoxKQM3MzMzMeFJAZmZmZmZqWEAAAAAAAFxeQM3MzMzMJmJAmpmZmZkfZUBmZmZmZhhoQDMzMzMzEWtAAAAAAAAKbkBmZmZmZoFwQM3MzMzM/XFAMzMzMzN6c0CamZmZmfZ0QAAAAAAAc3ZAZmZmZmbvd0DNzMzMzGt5QDMzMzMz6HpAmpmZmZlkfEAAAAAAAOF9QGZmZmZmXX9AZmZmZuZsgECamZmZGSuBQM3MzMxM6YFAAAAAAICngkAzMzMzs2WDQGZmZmbmI4RAmpmZmRnihEDNzMzMTKCFQAAAAACAXoZAMzMzM7Mch0BmZmZm5tqHQJqZmZkZmYhAzczMzExXiUAAAAAAgBWKQDMzMzOz04pAZmZmZuaRi0CamZmZGVCMQM3MzMxMDo1AAAAAAIDMjUAzMzMzs4qOQGZmZmbmSI9A\",\"dtype\":\"float64\",\"shape\":[75]}},\"selected\":{\"id\":\"1a3ce3f3-5c5b-4eb3-b207-50d8dd0ce5ec\",\"type\":\"Selection\"},\"selection_policy\":{\"id\":\"a534cc49-7a92-4681-95bb-a3712daec6a5\",\"type\":\"UnionRenderers\"}},\"id\":\"1698b70c-c21c-4f32-a3a0-7a82440ec9bb\",\"type\":\"ColumnDataSource\"},{\"attributes\":{\"line_alpha\":0.3,\"line_color\":\"#377eb8\",\"line_width\":2,\"x\":{\"field\":\"x\"},\"y\":{\"field\":\"y\"}},\"id\":\"e2588469-1f9f-46f4-9bda-d9330be5539d\",\"type\":\"Line\"},{\"attributes\":{\"source\":{\"id\":\"de769b54-1173-493b-b2ac-dbbbce2681a0\",\"type\":\"ColumnDataSource\"}},\"id\":\"4319bad9-7198-4546-a18a-1a03aa40b572\",\"type\":\"CDSView\"},{\"attributes\":{\"callback\":null,\"end\":0.01,\"start\":1020},\"id\":\"83f4beda-8bfe-45d6-b0c2-f419f81f12b3\",\"type\":\"Range1d\"},{\"attributes\":{\"line_alpha\":0.1,\"line_color\":\"#1f77b4\",\"line_width\":2,\"x\":{\"field\":\"x\"},\"y\":{\"field\":\"y\"}},\"id\":\"6801e703-568e-46dd-b809-cc8794748675\",\"type\":\"Line\"},{\"attributes\":{\"source\":{\"id\":\"1698b70c-c21c-4f32-a3a0-7a82440ec9bb\",\"type\":\"ColumnDataSource\"}},\"id\":\"cab144b9-19f4-4eb1-a195-45f6597be40a\",\"type\":\"CDSView\"},{\"attributes\":{\"source\":{\"id\":\"26a4a61d-8a71-4eb6-8716-85920a3e31f6\",\"type\":\"ColumnDataSource\"}},\"id\":\"b96afa75-69ef-453f-9474-d4d8b86c69de\",\"type\":\"CDSView\"},{\"attributes\":{\"plot\":null,\"text\":\"\"},\"id\":\"3b2255a2-d354-4329-912d-ae5d7af3e190\",\"type\":\"Title\"},{\"attributes\":{\"children\":[{\"id\":\"558eab21-c0e0-455f-b899-cc3cb2f2916a\",\"subtype\":\"Figure\",\"type\":\"Plot\"},{\"id\":\"53c16aa8-b4c6-4a36-8a23-b3d515222171\",\"subtype\":\"Figure\",\"type\":\"Plot\"}]},\"id\":\"b26a3287-7148-46fe-b28e-4da66ac4fa4f\",\"type\":\"Row\"},{\"attributes\":{\"source\":{\"id\":\"d4eb6ace-1dcb-4a82-9abc-111a597b6f91\",\"type\":\"ColumnDataSource\"}},\"id\":\"d163b769-106c-4a38-bf8e-1173770125e5\",\"type\":\"CDSView\"},{\"attributes\":{\"label\":{\"value\":\"CRD\"},\"renderers\":[{\"id\":\"6815c5e0-5a6b-4d04-a594-83d44ed9895e\",\"type\":\"GlyphRenderer\"},{\"id\":\"b87e91e9-5d85-4c6d-bc95-291ce43204a4\",\"type\":\"GlyphRenderer\"}]},\"id\":\"cb224243-a075-4f38-8222-6064c0120f91\",\"type\":\"LegendItem\"},{\"attributes\":{},\"id\":\"dcb8639a-a959-422d-a7e6-f99928344057\",\"type\":\"UnionRenderers\"},{\"attributes\":{\"label\":{\"value\":\"WGT igg=1\"},\"renderers\":[{\"id\":\"f6791d8a-d4f5-4b7b-ad15-d9ccdea4610d\",\"type\":\"GlyphRenderer\"},{\"id\":\"c3fc7ea7-df5e-4936-a4c7-9aedbed80843\",\"type\":\"GlyphRenderer\"}]},\"id\":\"c6539261-0fe7-4fad-a22b-9dfc7cde1884\",\"type\":\"LegendItem\"},{\"attributes\":{},\"id\":\"e2acabda-f640-4d25-9cf4-14aae901870c\",\"type\":\"UnionRenderers\"},{\"attributes\":{\"label\":{\"value\":\"WGT igg=10\"},\"renderers\":[{\"id\":\"99406ba6-82ab-42e3-abb6-93c828e8ca7b\",\"type\":\"GlyphRenderer\"},{\"id\":\"eabdf4d1-dd5a-4c56-940e-385809328459\",\"type\":\"GlyphRenderer\"}]},\"id\":\"78bae509-f9d7-42ba-86f5-461cbce283e8\",\"type\":\"LegendItem\"},{\"attributes\":{\"callback\":null,\"data\":{\"x\":{\"__ndarray__\":\"+GV4C4s/u76LjQWqWFC7vk+Kl/7Nbbu+JMu5+/+Fu76nIkIF95e7vvKbEbHyoru+da9ARE2nu774R9cBZaS7vvyTOoC4mbu+hKNPU9yGu77YYficWmu7vnDmG9KzRru+DYX82ZwYu75QQKK1Z866vuS3h4qXNrm+9OH+MDmpsr4XtdCnO5GFvjVQ0Fy5F7s+4yzTJNhp0z5FKQJ0ndTjPhveT7EksvE+dK2Zgzv2+z4kD2hXvB4AP2kKcek3E/w+XLyTYNub9T4V/lV78C7tPo7wUGfsIeI+Wuo7XXuc1D7sKuTqGIfDPrR06z+XmaM+GC0SIkWvob7pm5RfndizvryvFK19a7m+M/FyEfZyu77HIj3V6Ve6vljnHABPJra+M+wtem8Cs77gySp/Wom0vmP7raK9v7i+KSVCEIEWvr6yzd7w1jrGvl7KR/Jfl9a+Ll9WJpie4L6FxgVLf5navuv2wF6fGN4+6Cf7c4FuBz+lBFOy8dQfP8N023n+YjA/pdJIlGNwOz9CV6aIoQ9FP98EHf9hNE4/sfOROM15VD+MB51R6HVaPyW4+5blXWA/tw+H0d2BYz9O55+kbXFmP+AT9xC3AGk/3uTgHncNaz9GjjuA4XdsP4ccYa3vPm0/xWdEB2pabT/9HwMY36dsPwaDBDCZ9mo/xdFzEBZDaT8UnDF9DCVlP+uSPXaaO2A/2t/NYv9/Vz+e79QFLE1QP2pvNsH2KUg/gEL3K0pLQz+1SwOWzz9AP8b6xlOv1Dw/fPoqWwoOPD/XfFCoizpBP7lFegB0YFU/\",\"dtype\":\"float64\",\"shape\":[75]},\"y\":{\"__ndarray__\":\"GhExyth1ND/Sv8nbtpRIP2vylNV0PVE/aTum7souWD/At0SJ8fVgPw3Iuahxymc/MSNhhJWvcD/bTfBN02d3P2zb5nxnaoA/CD5h5MAGhz8NmeH1TyaQP+zrCsc9p5Y/LbKd76fGnz/bLW5ISEmmPww9YvTcQq8/JV2OstnstT8Er5Y7M8G+P0c+r3jqkcU/5h99k6ZBzj88bCIzFzjVP4enV8oyxN0//yH99nXg5D8qOpLLf0jtP5kqGJXUifQ/c9cS8kHP/D+/DpwzojQEQIEmwoanVwxA4lgXt9HgE0BSSZ2AJuIbQAMJih9jjiNA5q4l5INuK0AwTKYKRj0zQNv5fmq8/DpAaCJseHrtQkB/+zpwzoxKQM3MzMzMeFJAZmZmZmZqWEAAAAAAAFxeQM3MzMzMJmJAmpmZmZkfZUBmZmZmZhhoQDMzMzMzEWtAAAAAAAAKbkBmZmZmZoFwQM3MzMzM/XFAMzMzMzN6c0CamZmZmfZ0QAAAAAAAc3ZAZmZmZmbvd0DNzMzMzGt5QDMzMzMz6HpAmpmZmZlkfEAAAAAAAOF9QGZmZmZmXX9AZmZmZuZsgECamZmZGSuBQM3MzMxM6YFAAAAAAICngkAzMzMzs2WDQGZmZmbmI4RAmpmZmRnihEDNzMzMTKCFQAAAAACAXoZAMzMzM7Mch0BmZmZm5tqHQJqZmZkZmYhAzczMzExXiUAAAAAAgBWKQDMzMzOz04pAZmZmZuaRi0CamZmZGVCMQM3MzMxMDo1AAAAAAIDMjUAzMzMzs4qOQGZmZmbmSI9A\",\"dtype\":\"float64\",\"shape\":[75]}},\"selected\":{\"id\":\"7ab825f3-fdbf-43ae-a163-a76e0f380156\",\"type\":\"Selection\"},\"selection_policy\":{\"id\":\"e0cb1fbc-66db-4947-b02a-506ef1dd6f34\",\"type\":\"UnionRenderers\"}},\"id\":\"bb8a7c7a-b50c-4b72-a0a5-b030d5d0ffa2\",\"type\":\"ColumnDataSource\"},{\"attributes\":{},\"id\":\"0a6c6cdf-1a45-432e-8b27-605401e30852\",\"type\":\"UnionRenderers\"},{\"attributes\":{},\"id\":\"9e77c33e-2c1d-40db-aa6d-ecbf55d22e7d\",\"type\":\"BasicTickFormatter\"},{\"attributes\":{\"fill_alpha\":{\"value\":0.1},\"fill_color\":{\"value\":\"#1f77b4\"},\"line_alpha\":{\"value\":0.1},\"line_color\":{\"value\":\"#1f77b4\"},\"x\":{\"field\":\"x\"},\"y\":{\"field\":\"y\"}},\"id\":\"10c50c12-20b3-4b7c-af75-f4451ca1cc1f\",\"type\":\"Circle\"},{\"attributes\":{},\"id\":\"5d4d8e20-1e23-4a68-ad9c-aa61d3700b86\",\"type\":\"BasicTickFormatter\"},{\"attributes\":{\"fill_alpha\":{\"value\":0.7},\"fill_color\":{\"value\":\"#4daf4a\"},\"line_alpha\":{\"value\":0.7},\"line_color\":{\"value\":\"#4daf4a\"},\"x\":{\"field\":\"x\"},\"y\":{\"field\":\"y\"}},\"id\":\"20fc92f3-72fa-41e5-b669-86ba0a7fbda1\",\"type\":\"Circle\"},{\"attributes\":{},\"id\":\"d51bbe4a-a01c-40d6-89a4-51b6b241aadb\",\"type\":\"Selection\"},{\"attributes\":{},\"id\":\"c2140d23-2cab-444b-bbd6-04db93a9ad39\",\"type\":\"UnionRenderers\"},{\"attributes\":{},\"id\":\"cca1710d-d37e-4497-ab65-b52854a24920\",\"type\":\"Selection\"},{\"attributes\":{},\"id\":\"f23c930b-2bc2-47b0-8340-8677d634afbc\",\"type\":\"UnionRenderers\"},{\"attributes\":{},\"id\":\"30e9dbb5-e58c-4e6b-8ae2-6ac6b40b0614\",\"type\":\"UnionRenderers\"},{\"attributes\":{},\"id\":\"de863868-6fa7-4b5f-9dba-a00dcd010aa9\",\"type\":\"Selection\"},{\"attributes\":{\"ticker\":null},\"id\":\"b8222212-739a-44e6-8bfd-812e6302087e\",\"type\":\"LogTickFormatter\"},{\"attributes\":{\"callback\":null,\"data\":{\"x\":{\"__ndarray__\":\"+GV4C4s/u76LjQWqWFC7vk+Kl/7Nbbu+JMu5+/+Fu76nIkIF95e7vvKbEbHyoru+da9ARE2nu774R9cBZaS7vvyTOoC4mbu+hKNPU9yGu77YYficWmu7vnDmG9KzRru+DYX82ZwYu75QQKK1Z866vuS3h4qXNrm+9OH+MDmpsr4XtdCnO5GFvjVQ0Fy5F7s+4yzTJNhp0z5FKQJ0ndTjPhveT7EksvE+dK2Zgzv2+z4kD2hXvB4AP2kKcek3E/w+XLyTYNub9T4V/lV78C7tPo7wUGfsIeI+Wuo7XXuc1D7sKuTqGIfDPrR06z+XmaM+GC0SIkWvob7pm5RfndizvryvFK19a7m+M/FyEfZyu77HIj3V6Ve6vljnHABPJra+M+wtem8Cs77gySp/Wom0vmP7raK9v7i+KSVCEIEWvr6yzd7w1jrGvl7KR/Jfl9a+Ll9WJpie4L6FxgVLf5navuv2wF6fGN4+6Cf7c4FuBz+lBFOy8dQfP8N023n+YjA/pdJIlGNwOz9CV6aIoQ9FP98EHf9hNE4/sfOROM15VD+MB51R6HVaPyW4+5blXWA/tw+H0d2BYz9O55+kbXFmP+AT9xC3AGk/3uTgHncNaz9GjjuA4XdsP4ccYa3vPm0/xWdEB2pabT/9HwMY36dsPwaDBDCZ9mo/xdFzEBZDaT8UnDF9DCVlP+uSPXaaO2A/2t/NYv9/Vz+e79QFLE1QP2pvNsH2KUg/gEL3K0pLQz+1SwOWzz9AP8b6xlOv1Dw/fPoqWwoOPD/XfFCoizpBP7lFegB0YFU/\",\"dtype\":\"float64\",\"shape\":[75]},\"y\":{\"__ndarray__\":\"GhExyth1ND/Sv8nbtpRIP2vylNV0PVE/aTum7souWD/At0SJ8fVgPw3Iuahxymc/MSNhhJWvcD/bTfBN02d3P2zb5nxnaoA/CD5h5MAGhz8NmeH1TyaQP+zrCsc9p5Y/LbKd76fGnz/bLW5ISEmmPww9YvTcQq8/JV2OstnstT8Er5Y7M8G+P0c+r3jqkcU/5h99k6ZBzj88bCIzFzjVP4enV8oyxN0//yH99nXg5D8qOpLLf0jtP5kqGJXUifQ/c9cS8kHP/D+/DpwzojQEQIEmwoanVwxA4lgXt9HgE0BSSZ2AJuIbQAMJih9jjiNA5q4l5INuK0AwTKYKRj0zQNv5fmq8/DpAaCJseHrtQkB/+zpwzoxKQM3MzMzMeFJAZmZmZmZqWEAAAAAAAFxeQM3MzMzMJmJAmpmZmZkfZUBmZmZmZhhoQDMzMzMzEWtAAAAAAAAKbkBmZmZmZoFwQM3MzMzM/XFAMzMzMzN6c0CamZmZmfZ0QAAAAAAAc3ZAZmZmZmbvd0DNzMzMzGt5QDMzMzMz6HpAmpmZmZlkfEAAAAAAAOF9QGZmZmZmXX9AZmZmZuZsgECamZmZGSuBQM3MzMxM6YFAAAAAAICngkAzMzMzs2WDQGZmZmbmI4RAmpmZmRnihEDNzMzMTKCFQAAAAACAXoZAMzMzM7Mch0BmZmZm5tqHQJqZmZkZmYhAzczMzExXiUAAAAAAgBWKQDMzMzOz04pAZmZmZuaRi0CamZmZGVCMQM3MzMxMDo1AAAAAAIDMjUAzMzMzs4qOQGZmZmbmSI9A\",\"dtype\":\"float64\",\"shape\":[75]}},\"selected\":{\"id\":\"eacfb1de-cbe6-4ff0-9baf-d831a450943d\",\"type\":\"Selection\"},\"selection_policy\":{\"id\":\"20cad447-5519-4ae3-b9ec-35f030f8f08c\",\"type\":\"UnionRenderers\"}},\"id\":\"d4eb6ace-1dcb-4a82-9abc-111a597b6f91\",\"type\":\"ColumnDataSource\"},{\"attributes\":{},\"id\":\"937b1205-5acb-4630-a416-a975ae7dca0b\",\"type\":\"Selection\"},{\"attributes\":{\"plot\":null,\"text\":\"\"},\"id\":\"f3d53aa6-fc3d-4a5c-a9d6-a35c01eaff32\",\"type\":\"Title\"},{\"attributes\":{\"data_source\":{\"id\":\"d4eb6ace-1dcb-4a82-9abc-111a597b6f91\",\"type\":\"ColumnDataSource\"},\"glyph\":{\"id\":\"20fc92f3-72fa-41e5-b669-86ba0a7fbda1\",\"type\":\"Circle\"},\"hover_glyph\":null,\"muted_glyph\":null,\"nonselection_glyph\":{\"id\":\"10c50c12-20b3-4b7c-af75-f4451ca1cc1f\",\"type\":\"Circle\"},\"selection_glyph\":null,\"view\":{\"id\":\"d163b769-106c-4a38-bf8e-1173770125e5\",\"type\":\"CDSView\"}},\"id\":\"6815c5e0-5a6b-4d04-a594-83d44ed9895e\",\"type\":\"GlyphRenderer\"},{\"attributes\":{},\"id\":\"bcd7f0f7-cd88-4f1f-bb1f-f23531323b45\",\"type\":\"Selection\"},{\"attributes\":{},\"id\":\"eacfb1de-cbe6-4ff0-9baf-d831a450943d\",\"type\":\"Selection\"},{\"attributes\":{},\"id\":\"eca15996-cae0-493e-9e14-21580a938985\",\"type\":\"Selection\"},{\"attributes\":{\"callback\":null,\"end\":0.01,\"start\":1020},\"id\":\"b1bbefb4-cc52-4665-943d-a1a80a798d5f\",\"type\":\"Range1d\"},{\"attributes\":{},\"id\":\"4a4f47cd-0b68-4c23-9db0-ccb652caa015\",\"type\":\"WheelZoomTool\"},{\"attributes\":{\"bottom_units\":\"screen\",\"fill_alpha\":{\"value\":0.5},\"fill_color\":{\"value\":\"lightgrey\"},\"left_units\":\"screen\",\"level\":\"overlay\",\"line_alpha\":{\"value\":1.0},\"line_color\":{\"value\":\"black\"},\"line_dash\":[4,4],\"line_width\":{\"value\":2},\"plot\":null,\"render_mode\":\"css\",\"right_units\":\"screen\",\"top_units\":\"screen\"},\"id\":\"1c6b2552-deeb-4973-a79e-9c9858a701b5\",\"type\":\"BoxAnnotation\"},{\"attributes\":{},\"id\":\"6523c1d6-f0ac-4dc5-805a-717b9309eebf\",\"type\":\"PanTool\"},{\"attributes\":{\"overlay\":{\"id\":\"1c6b2552-deeb-4973-a79e-9c9858a701b5\",\"type\":\"BoxAnnotation\"}},\"id\":\"d8fd995c-fc98-403a-900c-4edaeaac8962\",\"type\":\"BoxZoomTool\"},{\"attributes\":{},\"id\":\"4b412e18-12ea-45b9-b0df-55f00b99c269\",\"type\":\"SaveTool\"},{\"attributes\":{},\"id\":\"2ff71513-b6f5-4e28-a349-b7452313ea30\",\"type\":\"ResetTool\"},{\"attributes\":{},\"id\":\"5dc46203-109a-42df-b21c-01751c1f63e8\",\"type\":\"HelpTool\"},{\"attributes\":{\"data_source\":{\"id\":\"74548181-fdf3-4372-8f8b-ce795e2f00ee\",\"type\":\"ColumnDataSource\"},\"glyph\":{\"id\":\"2ce9514b-4408-484b-9e80-178028b14cde\",\"type\":\"Line\"},\"hover_glyph\":null,\"muted_glyph\":null,\"nonselection_glyph\":{\"id\":\"bd5087de-5002-4718-a3b8-6f57ed73d3e2\",\"type\":\"Line\"},\"selection_glyph\":null,\"view\":{\"id\":\"be765b91-bea7-4d8d-ad9f-621c2dcf9c8b\",\"type\":\"CDSView\"}},\"id\":\"5562c881-24a5-4c91-944d-c93b98f3e2ec\",\"type\":\"GlyphRenderer\"},{\"attributes\":{\"callback\":null,\"data\":{\"x\":{\"__ndarray__\":\"D3Bg+HdJs76zPvuYzl2zvvsVs0VXhbO+/pD5qBars76/VnmySs6zvv5DTAHD7rO+X9NMflMMtL5159v4zia0vpoZ8vsBPrS+CaFIXL1RtL4LAFqDz2G0vvhQGvQHbrS+iKbdsDt2tL7A7vRJNXq0vtKIi+WURLS+QZwDV+hRsr7I8b+loXmovq6IToLp11A+72sg8SGEtj7Q85Hr25TNPsAjwwohH90+Wf4YhNoh6D6B3M8zSi7sPtoqB3AwWOg+0IeW06dc4j6WfZ2fNMnXPr9Hlme/Tcs+mHGVP7j1uT68Lb+UMvyYPpnQb1P5fZu+dkBJ4Spprr5wRmcX7CC0vpiclgHvq7a+mR/I59ORt75987hgrci2vtlp5JUe7LO+vh5BMynGsb5mxlKr43WzvkR5i1gVpbe+vecejglfvb4fFsvmuZnGvv8XUObKwdi+70vPLIov5b4EXP6fXarqvk2w4BO/VeG+qce2sFyE7D6d98Nv1K4RP18wvctiIiY/oZeomrS7ND+CwWRJPjxBP4ij6O0cWEo/SjN9wpfaUj/38GQ0xIpZPxybLfkQdmA/92LuMjFRZD8d0X10gwxoP6txAlBWXms/Hl3kHy8Ebj9I0VQdY79vP63YwXvlPnA/nyOwQXgXcD/g2gVa7LxuPxhjnTfAFmw/QAcqYztYaT8XkkhpWgxkP8P9CbBELlw/lW2+kqboUT9B1PmxIDJFP8RtIfSH3js/WY74ej5qNT/lu7jYEGQyPyvYMIPhKzE/W+Rre6K0Mj9vVZVEuxI7P6LtT5tVfFM/\",\"dtype\":\"float64\",\"shape\":[75]},\"y\":{\"__ndarray__\":\"GhExyth1ND/Sv8nbtpRIP2vylNV0PVE/aTum7souWD/At0SJ8fVgPw3Iuahxymc/MSNhhJWvcD/bTfBN02d3P2zb5nxnaoA/CD5h5MAGhz8NmeH1TyaQP+zrCsc9p5Y/LbKd76fGnz/bLW5ISEmmPww9YvTcQq8/JV2OstnstT8Er5Y7M8G+P0c+r3jqkcU/5h99k6ZBzj88bCIzFzjVP4enV8oyxN0//yH99nXg5D8qOpLLf0jtP5kqGJXUifQ/c9cS8kHP/D+/DpwzojQEQIEmwoanVwxA4lgXt9HgE0BSSZ2AJuIbQAMJih9jjiNA5q4l5INuK0AwTKYKRj0zQNv5fmq8/DpAaCJseHrtQkB/+zpwzoxKQM3MzMzMeFJAZmZmZmZqWEAAAAAAAFxeQM3MzMzMJmJAmpmZmZkfZUBmZmZmZhhoQDMzMzMzEWtAAAAAAAAKbkBmZmZmZoFwQM3MzMzM/XFAMzMzMzN6c0CamZmZmfZ0QAAAAAAAc3ZAZmZmZmbvd0DNzMzMzGt5QDMzMzMz6HpAmpmZmZlkfEAAAAAAAOF9QGZmZmZmXX9AZmZmZuZsgECamZmZGSuBQM3MzMxM6YFAAAAAAICngkAzMzMzs2WDQGZmZmbmI4RAmpmZmRnihEDNzMzMTKCFQAAAAACAXoZAMzMzM7Mch0BmZmZm5tqHQJqZmZkZmYhAzczMzExXiUAAAAAAgBWKQDMzMzOz04pAZmZmZuaRi0CamZmZGVCMQM3MzMxMDo1AAAAAAIDMjUAzMzMzs4qOQGZmZmbmSI9A\",\"dtype\":\"float64\",\"shape\":[75]}},\"selected\":{\"id\":\"937b1205-5acb-4630-a416-a975ae7dca0b\",\"type\":\"Selection\"},\"selection_policy\":{\"id\":\"c2140d23-2cab-444b-bbd6-04db93a9ad39\",\"type\":\"UnionRenderers\"}},\"id\":\"761f1dc0-1a60-46e9-88fe-880eb1ad498a\",\"type\":\"ColumnDataSource\"},{\"attributes\":{\"callback\":null,\"data\":{\"x\":{\"__ndarray__\":\"+GV4C4s/u76LjQWqWFC7vk+Kl/7Nbbu+JMu5+/+Fu76nIkIF95e7vvKbEbHyoru+da9ARE2nu774R9cBZaS7vvyTOoC4mbu+hKNPU9yGu77YYficWmu7vnDmG9KzRru+DYX82ZwYu75QQKK1Z866vuS3h4qXNrm+9OH+MDmpsr4XtdCnO5GFvjVQ0Fy5F7s+4yzTJNhp0z5FKQJ0ndTjPhveT7EksvE+dK2Zgzv2+z4kD2hXvB4AP2kKcek3E/w+XLyTYNub9T4V/lV78C7tPo7wUGfsIeI+Wuo7XXuc1D7sKuTqGIfDPrR06z+XmaM+GC0SIkWvob7pm5RfndizvryvFK19a7m+M/FyEfZyu77HIj3V6Ve6vljnHABPJra+M+wtem8Cs77gySp/Wom0vmP7raK9v7i+KSVCEIEWvr6yzd7w1jrGvl7KR/Jfl9a+Ll9WJpie4L6FxgVLf5navuv2wF6fGN4+6Cf7c4FuBz+lBFOy8dQfP8N023n+YjA/pdJIlGNwOz9CV6aIoQ9FP98EHf9hNE4/sfOROM15VD+MB51R6HVaPyW4+5blXWA/tw+H0d2BYz9O55+kbXFmP+AT9xC3AGk/3uTgHncNaz9GjjuA4XdsP4ccYa3vPm0/xWdEB2pabT/9HwMY36dsPwaDBDCZ9mo/xdFzEBZDaT8UnDF9DCVlP+uSPXaaO2A/2t/NYv9/Vz+e79QFLE1QP2pvNsH2KUg/gEL3K0pLQz+1SwOWzz9AP8b6xlOv1Dw/fPoqWwoOPD/XfFCoizpBP7lFegB0YFU/\",\"dtype\":\"float64\",\"shape\":[75]},\"y\":{\"__ndarray__\":\"GhExyth1ND/Sv8nbtpRIP2vylNV0PVE/aTum7souWD/At0SJ8fVgPw3Iuahxymc/MSNhhJWvcD/bTfBN02d3P2zb5nxnaoA/CD5h5MAGhz8NmeH1TyaQP+zrCsc9p5Y/LbKd76fGnz/bLW5ISEmmPww9YvTcQq8/JV2OstnstT8Er5Y7M8G+P0c+r3jqkcU/5h99k6ZBzj88bCIzFzjVP4enV8oyxN0//yH99nXg5D8qOpLLf0jtP5kqGJXUifQ/c9cS8kHP/D+/DpwzojQEQIEmwoanVwxA4lgXt9HgE0BSSZ2AJuIbQAMJih9jjiNA5q4l5INuK0AwTKYKRj0zQNv5fmq8/DpAaCJseHrtQkB/+zpwzoxKQM3MzMzMeFJAZmZmZmZqWEAAAAAAAFxeQM3MzMzMJmJAmpmZmZkfZUBmZmZmZhhoQDMzMzMzEWtAAAAAAAAKbkBmZmZmZoFwQM3MzMzM/XFAMzMzMzN6c0CamZmZmfZ0QAAAAAAAc3ZAZmZmZmbvd0DNzMzMzGt5QDMzMzMz6HpAmpmZmZlkfEAAAAAAAOF9QGZmZmZmXX9AZmZmZuZsgECamZmZGSuBQM3MzMxM6YFAAAAAAICngkAzMzMzs2WDQGZmZmbmI4RAmpmZmRnihEDNzMzMTKCFQAAAAACAXoZAMzMzM7Mch0BmZmZm5tqHQJqZmZkZmYhAzczMzExXiUAAAAAAgBWKQDMzMzOz04pAZmZmZuaRi0CamZmZGVCMQM3MzMxMDo1AAAAAAIDMjUAzMzMzs4qOQGZmZmbmSI9A\",\"dtype\":\"float64\",\"shape\":[75]}},\"selected\":{\"id\":\"cca1710d-d37e-4497-ab65-b52854a24920\",\"type\":\"Selection\"},\"selection_policy\":{\"id\":\"e2acabda-f640-4d25-9cf4-14aae901870c\",\"type\":\"UnionRenderers\"}},\"id\":\"74548181-fdf3-4372-8f8b-ce795e2f00ee\",\"type\":\"ColumnDataSource\"},{\"attributes\":{\"source\":{\"id\":\"74548181-fdf3-4372-8f8b-ce795e2f00ee\",\"type\":\"ColumnDataSource\"}},\"id\":\"be765b91-bea7-4d8d-ad9f-621c2dcf9c8b\",\"type\":\"CDSView\"},{\"attributes\":{\"callback\":null,\"data\":{\"x\":{\"__ndarray__\":\"D3Bg+HdJs76zPvuYzl2zvvsVs0VXhbO+/pD5qBars76/VnmySs6zvv5DTAHD7rO+X9NMflMMtL5159v4zia0vpoZ8vsBPrS+CaFIXL1RtL4LAFqDz2G0vvhQGvQHbrS+iKbdsDt2tL7A7vRJNXq0vtKIi+WURLS+QZwDV+hRsr7I8b+loXmovq6IToLp11A+72sg8SGEtj7Q85Hr25TNPsAjwwohH90+Wf4YhNoh6D6B3M8zSi7sPtoqB3AwWOg+0IeW06dc4j6WfZ2fNMnXPr9Hlme/Tcs+mHGVP7j1uT68Lb+UMvyYPpnQb1P5fZu+dkBJ4Spprr5wRmcX7CC0vpiclgHvq7a+mR/I59ORt75987hgrci2vtlp5JUe7LO+vh5BMynGsb5mxlKr43WzvkR5i1gVpbe+vecejglfvb4fFsvmuZnGvv8XUObKwdi+70vPLIov5b4EXP6fXarqvk2w4BO/VeG+qce2sFyE7D6d98Nv1K4RP18wvctiIiY/oZeomrS7ND+CwWRJPjxBP4ij6O0cWEo/SjN9wpfaUj/38GQ0xIpZPxybLfkQdmA/92LuMjFRZD8d0X10gwxoP6txAlBWXms/Hl3kHy8Ebj9I0VQdY79vP63YwXvlPnA/nyOwQXgXcD/g2gVa7LxuPxhjnTfAFmw/QAcqYztYaT8XkkhpWgxkP8P9CbBELlw/lW2+kqboUT9B1PmxIDJFP8RtIfSH3js/WY74ej5qNT/lu7jYEGQyPyvYMIPhKzE/W+Rre6K0Mj9vVZVEuxI7P6LtT5tVfFM/\",\"dtype\":\"float64\",\"shape\":[75]},\"y\":{\"__ndarray__\":\"GhExyth1ND/Sv8nbtpRIP2vylNV0PVE/aTum7souWD/At0SJ8fVgPw3Iuahxymc/MSNhhJWvcD/bTfBN02d3P2zb5nxnaoA/CD5h5MAGhz8NmeH1TyaQP+zrCsc9p5Y/LbKd76fGnz/bLW5ISEmmPww9YvTcQq8/JV2OstnstT8Er5Y7M8G+P0c+r3jqkcU/5h99k6ZBzj88bCIzFzjVP4enV8oyxN0//yH99nXg5D8qOpLLf0jtP5kqGJXUifQ/c9cS8kHP/D+/DpwzojQEQIEmwoanVwxA4lgXt9HgE0BSSZ2AJuIbQAMJih9jjiNA5q4l5INuK0AwTKYKRj0zQNv5fmq8/DpAaCJseHrtQkB/+zpwzoxKQM3MzMzMeFJAZmZmZmZqWEAAAAAAAFxeQM3MzMzMJmJAmpmZmZkfZUBmZmZmZhhoQDMzMzMzEWtAAAAAAAAKbkBmZmZmZoFwQM3MzMzM/XFAMzMzMzN6c0CamZmZmfZ0QAAAAAAAc3ZAZmZmZmbvd0DNzMzMzGt5QDMzMzMz6HpAmpmZmZlkfEAAAAAAAOF9QGZmZmZmXX9AZmZmZuZsgECamZmZGSuBQM3MzMxM6YFAAAAAAICngkAzMzMzs2WDQGZmZmbmI4RAmpmZmRnihEDNzMzMTKCFQAAAAACAXoZAMzMzM7Mch0BmZmZm5tqHQJqZmZkZmYhAzczMzExXiUAAAAAAgBWKQDMzMzOz04pAZmZmZuaRi0CamZmZGVCMQM3MzMxMDo1AAAAAAIDMjUAzMzMzs4qOQGZmZmbmSI9A\",\"dtype\":\"float64\",\"shape\":[75]}},\"selected\":{\"id\":\"de863868-6fa7-4b5f-9dba-a00dcd010aa9\",\"type\":\"Selection\"},\"selection_policy\":{\"id\":\"f23c930b-2bc2-47b0-8340-8677d634afbc\",\"type\":\"UnionRenderers\"}},\"id\":\"b854d25a-127d-4e26-8e38-f31f5b6402ac\",\"type\":\"ColumnDataSource\"},{\"attributes\":{\"line_color\":\"#4daf4a\",\"line_width\":1.5,\"x\":{\"field\":\"x\"},\"y\":{\"field\":\"y\"}},\"id\":\"2ce9514b-4408-484b-9e80-178028b14cde\",\"type\":\"Line\"},{\"attributes\":{\"active_drag\":\"auto\",\"active_inspect\":\"auto\",\"active_scroll\":\"auto\",\"active_tap\":\"auto\",\"tools\":[{\"id\":\"6523c1d6-f0ac-4dc5-805a-717b9309eebf\",\"type\":\"PanTool\"},{\"id\":\"4a4f47cd-0b68-4c23-9db0-ccb652caa015\",\"type\":\"WheelZoomTool\"},{\"id\":\"d8fd995c-fc98-403a-900c-4edaeaac8962\",\"type\":\"BoxZoomTool\"},{\"id\":\"4b412e18-12ea-45b9-b0df-55f00b99c269\",\"type\":\"SaveTool\"},{\"id\":\"2ff71513-b6f5-4e28-a349-b7452313ea30\",\"type\":\"ResetTool\"},{\"id\":\"5dc46203-109a-42df-b21c-01751c1f63e8\",\"type\":\"HelpTool\"}]},\"id\":\"fd4e7a8b-cabb-4dde-aa23-8cff98595809\",\"type\":\"Toolbar\"},{\"attributes\":{\"line_alpha\":0.6,\"line_color\":\"#984ea3\",\"line_width\":3,\"x\":{\"field\":\"x\"},\"y\":{\"field\":\"y\"}},\"id\":\"63103665-13b2-41d5-aebb-8b7196cfe43a\",\"type\":\"Line\"},{\"attributes\":{\"source\":{\"id\":\"ff93bac5-fa80-4001-8696-bbda1ad63e17\",\"type\":\"ColumnDataSource\"}},\"id\":\"aece5ba1-b5b1-422f-b9ef-4e4d07a45a13\",\"type\":\"CDSView\"},{\"attributes\":{\"line_alpha\":0.1,\"line_color\":\"#1f77b4\",\"line_width\":1.5,\"x\":{\"field\":\"x\"},\"y\":{\"field\":\"y\"}},\"id\":\"bd5087de-5002-4718-a3b8-6f57ed73d3e2\",\"type\":\"Line\"},{\"attributes\":{\"source\":{\"id\":\"b854d25a-127d-4e26-8e38-f31f5b6402ac\",\"type\":\"ColumnDataSource\"}},\"id\":\"b24c9933-9923-48d1-9349-bde8199025c8\",\"type\":\"CDSView\"},{\"attributes\":{\"fill_alpha\":{\"value\":0.1},\"fill_color\":{\"value\":\"#1f77b4\"},\"line_alpha\":{\"value\":0.1},\"line_color\":{\"value\":\"#1f77b4\"},\"x\":{\"field\":\"x\"},\"y\":{\"field\":\"y\"}},\"id\":\"8bffb102-761b-4c71-88a8-841b722c8e1a\",\"type\":\"Square\"},{\"attributes\":{\"data_source\":{\"id\":\"ff93bac5-fa80-4001-8696-bbda1ad63e17\",\"type\":\"ColumnDataSource\"},\"glyph\":{\"id\":\"acd7af9c-3bb9-4c48-b675-fef192aa1143\",\"type\":\"Circle\"},\"hover_glyph\":null,\"muted_glyph\":null,\"nonselection_glyph\":{\"id\":\"7732572e-ee2a-40e5-b8f6-60e84bc316e7\",\"type\":\"Circle\"},\"selection_glyph\":null,\"view\":{\"id\":\"aece5ba1-b5b1-422f-b9ef-4e4d07a45a13\",\"type\":\"CDSView\"}},\"id\":\"924f2c58-3377-48e9-b4a3-225d01d1da91\",\"type\":\"GlyphRenderer\"},{\"attributes\":{\"fill_alpha\":{\"value\":0.7},\"fill_color\":{\"value\":\"#984ea3\"},\"line_alpha\":{\"value\":0.7},\"line_color\":{\"value\":\"#984ea3\"},\"x\":{\"field\":\"x\"},\"y\":{\"field\":\"y\"}},\"id\":\"fcd72c69-5231-4703-9b98-c3e3b7253d60\",\"type\":\"Square\"},{\"attributes\":{\"data_source\":{\"id\":\"b854d25a-127d-4e26-8e38-f31f5b6402ac\",\"type\":\"ColumnDataSource\"},\"glyph\":{\"id\":\"fcd72c69-5231-4703-9b98-c3e3b7253d60\",\"type\":\"Square\"},\"hover_glyph\":null,\"muted_glyph\":null,\"nonselection_glyph\":{\"id\":\"8bffb102-761b-4c71-88a8-841b722c8e1a\",\"type\":\"Square\"},\"selection_glyph\":null,\"view\":{\"id\":\"b24c9933-9923-48d1-9349-bde8199025c8\",\"type\":\"CDSView\"}},\"id\":\"8e181b4c-4b44-465c-b9e1-2251e04499a5\",\"type\":\"GlyphRenderer\"},{\"attributes\":{\"fill_alpha\":{\"value\":0.7},\"fill_color\":{\"value\":\"#4daf4a\"},\"line_alpha\":{\"value\":0.7},\"line_color\":{\"value\":\"#4daf4a\"},\"x\":{\"field\":\"x\"},\"y\":{\"field\":\"y\"}},\"id\":\"acd7af9c-3bb9-4c48-b675-fef192aa1143\",\"type\":\"Circle\"},{\"attributes\":{},\"id\":\"20cad447-5519-4ae3-b9ec-35f030f8f08c\",\"type\":\"UnionRenderers\"},{\"attributes\":{\"axis_label\":\"cooling rate [K/day]\",\"formatter\":{\"id\":\"5d4d8e20-1e23-4a68-ad9c-aa61d3700b86\",\"type\":\"BasicTickFormatter\"},\"plot\":{\"id\":\"558eab21-c0e0-455f-b899-cc3cb2f2916a\",\"subtype\":\"Figure\",\"type\":\"Plot\"},\"ticker\":{\"id\":\"9a33e317-6758-4ea3-90ba-3262b229c554\",\"type\":\"BasicTicker\"}},\"id\":\"ea552b69-230f-4323-bc49-b368510d363b\",\"type\":\"LinearAxis\"},{\"attributes\":{},\"id\":\"e0cb1fbc-66db-4947-b02a-506ef1dd6f34\",\"type\":\"UnionRenderers\"},{\"attributes\":{},\"id\":\"7ab825f3-fdbf-43ae-a163-a76e0f380156\",\"type\":\"Selection\"},{\"attributes\":{},\"id\":\"78b92abc-1d87-4b8b-9cf2-4a5c0fcf8a10\",\"type\":\"UnionRenderers\"},{\"attributes\":{},\"id\":\"45747c81-95e9-45a7-9e15-a9ca5f043039\",\"type\":\"UnionRenderers\"},{\"attributes\":{},\"id\":\"a534cc49-7a92-4681-95bb-a3712daec6a5\",\"type\":\"UnionRenderers\"},{\"attributes\":{},\"id\":\"75ed2770-b0ce-42ac-ab3c-780b2ff3063e\",\"type\":\"UnionRenderers\"},{\"attributes\":{\"dimension\":1,\"plot\":{\"id\":\"558eab21-c0e0-455f-b899-cc3cb2f2916a\",\"subtype\":\"Figure\",\"type\":\"Plot\"},\"ticker\":{\"id\":\"18bb443f-f896-4797-a377-3c88609e6a21\",\"type\":\"BasicTicker\"}},\"id\":\"9ea5232a-0403-48bb-9d43-35f141d23d66\",\"type\":\"Grid\"},{\"attributes\":{},\"id\":\"83f95da2-8258-4ed5-bc0b-6677c0272861\",\"type\":\"Selection\"},{\"attributes\":{\"toolbar\":{\"id\":\"0905a797-2acd-4a88-939a-6031be1307a5\",\"type\":\"ProxyToolbar\"},\"toolbar_location\":\"above\"},\"id\":\"0e3728b2-5647-40ba-9bf4-c542ca959f9a\",\"type\":\"ToolbarBox\"},{\"attributes\":{},\"id\":\"f2cfc949-39e7-4ac9-bf86-e7792935fd7d\",\"type\":\"Selection\"},{\"attributes\":{},\"id\":\"1a3ce3f3-5c5b-4eb3-b207-50d8dd0ce5ec\",\"type\":\"Selection\"},{\"attributes\":{\"children\":[{\"id\":\"0e3728b2-5647-40ba-9bf4-c542ca959f9a\",\"type\":\"ToolbarBox\"},{\"id\":\"92a46083-dca2-4225-987e-0a89754dfe3e\",\"type\":\"Column\"}]},\"id\":\"67398a93-a090-4bd3-a891-6ef4c21d8dbb\",\"type\":\"Column\"},{\"attributes\":{},\"id\":\"18bb443f-f896-4797-a377-3c88609e6a21\",\"type\":\"BasicTicker\"},{\"attributes\":{\"source\":{\"id\":\"761f1dc0-1a60-46e9-88fe-880eb1ad498a\",\"type\":\"ColumnDataSource\"}},\"id\":\"7cf6d4dd-1f4f-4dbb-9d7b-f91c44159405\",\"type\":\"CDSView\"},{\"attributes\":{},\"id\":\"237ed0b2-9712-4416-bebb-7d51dfdd713e\",\"type\":\"Selection\"},{\"attributes\":{\"axis_label\":\"pressure [mb]\",\"formatter\":{\"id\":\"9e77c33e-2c1d-40db-aa6d-ecbf55d22e7d\",\"type\":\"BasicTickFormatter\"},\"plot\":{\"id\":\"558eab21-c0e0-455f-b899-cc3cb2f2916a\",\"subtype\":\"Figure\",\"type\":\"Plot\"},\"ticker\":{\"id\":\"18bb443f-f896-4797-a377-3c88609e6a21\",\"type\":\"BasicTicker\"}},\"id\":\"f5fe3fad-3fbe-4ed4-8103-82d75c22c6be\",\"type\":\"LinearAxis\"},{\"attributes\":{\"tools\":[{\"id\":\"6523c1d6-f0ac-4dc5-805a-717b9309eebf\",\"type\":\"PanTool\"},{\"id\":\"4a4f47cd-0b68-4c23-9db0-ccb652caa015\",\"type\":\"WheelZoomTool\"},{\"id\":\"d8fd995c-fc98-403a-900c-4edaeaac8962\",\"type\":\"BoxZoomTool\"},{\"id\":\"4b412e18-12ea-45b9-b0df-55f00b99c269\",\"type\":\"SaveTool\"},{\"id\":\"2ff71513-b6f5-4e28-a349-b7452313ea30\",\"type\":\"ResetTool\"},{\"id\":\"5dc46203-109a-42df-b21c-01751c1f63e8\",\"type\":\"HelpTool\"},{\"id\":\"4584dbe6-92d4-4a6c-8aa0-529ff681fbf3\",\"type\":\"PanTool\"},{\"id\":\"ab8323e6-ef27-48f8-a4f2-2939197ecbdc\",\"type\":\"WheelZoomTool\"},{\"id\":\"567fc6ab-9dc3-43e8-9db4-600da1def856\",\"type\":\"BoxZoomTool\"},{\"id\":\"1d4ebea4-3720-459e-8a3c-f858241ae9b9\",\"type\":\"SaveTool\"},{\"id\":\"be360052-29dd-4349-918a-d03c0ab3640f\",\"type\":\"ResetTool\"},{\"id\":\"a4e5d80e-90c1-4596-bbaa-9d4eea9b9693\",\"type\":\"HelpTool\"}]},\"id\":\"0905a797-2acd-4a88-939a-6031be1307a5\",\"type\":\"ProxyToolbar\"},{\"attributes\":{\"plot\":{\"id\":\"558eab21-c0e0-455f-b899-cc3cb2f2916a\",\"subtype\":\"Figure\",\"type\":\"Plot\"},\"ticker\":{\"id\":\"9a33e317-6758-4ea3-90ba-3262b229c554\",\"type\":\"BasicTicker\"}},\"id\":\"35e4f69e-730a-4a00-9731-3a6e2c1b7a61\",\"type\":\"Grid\"},{\"attributes\":{},\"id\":\"9a33e317-6758-4ea3-90ba-3262b229c554\",\"type\":\"BasicTicker\"},{\"attributes\":{},\"id\":\"a145810c-8ad5-4369-96d5-8d2e9fa507eb\",\"type\":\"LinearScale\"},{\"attributes\":{},\"id\":\"fa38bb90-af0b-40db-9df7-17616ed24dee\",\"type\":\"LinearScale\"},{\"attributes\":{\"callback\":null,\"end\":0.004415305648080001,\"start\":-6.051025608000001e-05},\"id\":\"e25e16e9-1323-4116-9f1a-3b762e18544c\",\"type\":\"Range1d\"},{\"attributes\":{\"above\":[{\"id\":\"64617b92-6155-4201-9b55-6278f9aad84d\",\"type\":\"Legend\"}],\"below\":[{\"id\":\"d381550d-c123-4553-8993-12cde060cd56\",\"type\":\"LinearAxis\"}],\"left\":[{\"id\":\"121bb3bf-3e01-4ff7-a6ea-3e79992e4f95\",\"type\":\"LogAxis\"}],\"plot_height\":500,\"plot_width\":400,\"renderers\":[{\"id\":\"d381550d-c123-4553-8993-12cde060cd56\",\"type\":\"LinearAxis\"},{\"id\":\"b5f7c074-fbb0-40da-bba5-7b49abb0878c\",\"type\":\"Grid\"},{\"id\":\"121bb3bf-3e01-4ff7-a6ea-3e79992e4f95\",\"type\":\"LogAxis\"},{\"id\":\"80b02176-4714-4831-9288-168ddc0b3be6\",\"type\":\"Grid\"},{\"id\":\"e477d2a8-7c65-4f64-8993-a5766800f748\",\"type\":\"BoxAnnotation\"},{\"id\":\"6815c5e0-5a6b-4d04-a594-83d44ed9895e\",\"type\":\"GlyphRenderer\"},{\"id\":\"b87e91e9-5d85-4c6d-bc95-291ce43204a4\",\"type\":\"GlyphRenderer\"},{\"id\":\"f6791d8a-d4f5-4b7b-ad15-d9ccdea4610d\",\"type\":\"GlyphRenderer\"},{\"id\":\"c3fc7ea7-df5e-4936-a4c7-9aedbed80843\",\"type\":\"GlyphRenderer\"},{\"id\":\"99406ba6-82ab-42e3-abb6-93c828e8ca7b\",\"type\":\"GlyphRenderer\"},{\"id\":\"eabdf4d1-dd5a-4c56-940e-385809328459\",\"type\":\"GlyphRenderer\"},{\"id\":\"64617b92-6155-4201-9b55-6278f9aad84d\",\"type\":\"Legend\"}],\"title\":{\"id\":\"f3d53aa6-fc3d-4a5c-a9d6-a35c01eaff32\",\"type\":\"Title\"},\"toolbar\":{\"id\":\"afe23ab1-67bb-4811-97de-2d31d43554d1\",\"type\":\"Toolbar\"},\"toolbar_location\":null,\"x_range\":{\"id\":\"dd4632b2-5350-4ed2-bc67-13daa0a1a358\",\"type\":\"Range1d\"},\"x_scale\":{\"id\":\"da1360fe-db80-478c-972c-c49ecadc68ba\",\"type\":\"LinearScale\"},\"y_range\":{\"id\":\"83f4beda-8bfe-45d6-b0c2-f419f81f12b3\",\"type\":\"Range1d\"},\"y_scale\":{\"id\":\"ab721a78-1361-43c2-baad-e2a396029141\",\"type\":\"LogScale\"}},\"id\":\"53c16aa8-b4c6-4a36-8a23-b3d515222171\",\"subtype\":\"Figure\",\"type\":\"Plot\"},{\"attributes\":{\"items\":[{\"id\":\"e1d9b325-340b-49ec-a787-e96817101d35\",\"type\":\"LegendItem\"},{\"id\":\"83afbf8b-e29e-447f-b432-6e37508f8275\",\"type\":\"LegendItem\"},{\"id\":\"6e9d4247-461c-49ba-b337-dee928ee3f07\",\"type\":\"LegendItem\"}],\"label_text_font_size\":{\"value\":\"8pt\"},\"location\":\"top_center\",\"orientation\":\"horizontal\",\"plot\":{\"id\":\"558eab21-c0e0-455f-b899-cc3cb2f2916a\",\"subtype\":\"Figure\",\"type\":\"Plot\"}},\"id\":\"f381ab38-2c6b-4405-9032-39c74eeccafa\",\"type\":\"Legend\"},{\"attributes\":{\"above\":[{\"id\":\"f381ab38-2c6b-4405-9032-39c74eeccafa\",\"type\":\"Legend\"}],\"below\":[{\"id\":\"ea552b69-230f-4323-bc49-b368510d363b\",\"type\":\"LinearAxis\"}],\"left\":[{\"id\":\"f5fe3fad-3fbe-4ed4-8103-82d75c22c6be\",\"type\":\"LinearAxis\"}],\"plot_height\":500,\"plot_width\":400,\"renderers\":[{\"id\":\"ea552b69-230f-4323-bc49-b368510d363b\",\"type\":\"LinearAxis\"},{\"id\":\"35e4f69e-730a-4a00-9731-3a6e2c1b7a61\",\"type\":\"Grid\"},{\"id\":\"f5fe3fad-3fbe-4ed4-8103-82d75c22c6be\",\"type\":\"LinearAxis\"},{\"id\":\"9ea5232a-0403-48bb-9d43-35f141d23d66\",\"type\":\"Grid\"},{\"id\":\"1c6b2552-deeb-4973-a79e-9c9858a701b5\",\"type\":\"BoxAnnotation\"},{\"id\":\"924f2c58-3377-48e9-b4a3-225d01d1da91\",\"type\":\"GlyphRenderer\"},{\"id\":\"5562c881-24a5-4c91-944d-c93b98f3e2ec\",\"type\":\"GlyphRenderer\"},{\"id\":\"8e181b4c-4b44-465c-b9e1-2251e04499a5\",\"type\":\"GlyphRenderer\"},{\"id\":\"a914aca6-d95f-4e77-92d3-474e2c625f17\",\"type\":\"GlyphRenderer\"},{\"id\":\"903adfaf-97a9-49e3-895f-ee331cb13f05\",\"type\":\"GlyphRenderer\"},{\"id\":\"4e7940bf-d7ab-4aac-b824-b3110a121974\",\"type\":\"GlyphRenderer\"},{\"id\":\"f381ab38-2c6b-4405-9032-39c74eeccafa\",\"type\":\"Legend\"}],\"title\":{\"id\":\"3b2255a2-d354-4329-912d-ae5d7af3e190\",\"type\":\"Title\"},\"toolbar\":{\"id\":\"fd4e7a8b-cabb-4dde-aa23-8cff98595809\",\"type\":\"Toolbar\"},\"toolbar_location\":null,\"x_range\":{\"id\":\"e25e16e9-1323-4116-9f1a-3b762e18544c\",\"type\":\"Range1d\"},\"x_scale\":{\"id\":\"a145810c-8ad5-4369-96d5-8d2e9fa507eb\",\"type\":\"LinearScale\"},\"y_range\":{\"id\":\"b1bbefb4-cc52-4665-943d-a1a80a798d5f\",\"type\":\"Range1d\"},\"y_scale\":{\"id\":\"fa38bb90-af0b-40db-9df7-17616ed24dee\",\"type\":\"LinearScale\"}},\"id\":\"558eab21-c0e0-455f-b899-cc3cb2f2916a\",\"subtype\":\"Figure\",\"type\":\"Plot\"},{\"attributes\":{\"fill_alpha\":{\"value\":0.7},\"fill_color\":{\"value\":\"#377eb8\"},\"line_alpha\":{\"value\":0.7},\"line_color\":{\"value\":\"#377eb8\"},\"x\":{\"field\":\"x\"},\"y\":{\"field\":\"y\"}},\"id\":\"a05730ef-4648-42a7-b788-11d345b437ea\",\"type\":\"Triangle\"},{\"attributes\":{\"callback\":null,\"data\":{\"x\":{\"__ndarray__\":\"+GV4C4s/u76LjQWqWFC7vk+Kl/7Nbbu+JMu5+/+Fu76nIkIF95e7vvKbEbHyoru+da9ARE2nu774R9cBZaS7vvyTOoC4mbu+hKNPU9yGu77YYficWmu7vnDmG9KzRru+DYX82ZwYu75QQKK1Z866vuS3h4qXNrm+9OH+MDmpsr4XtdCnO5GFvjVQ0Fy5F7s+4yzTJNhp0z5FKQJ0ndTjPhveT7EksvE+dK2Zgzv2+z4kD2hXvB4AP2kKcek3E/w+XLyTYNub9T4V/lV78C7tPo7wUGfsIeI+Wuo7XXuc1D7sKuTqGIfDPrR06z+XmaM+GC0SIkWvob7pm5RfndizvryvFK19a7m+M/FyEfZyu77HIj3V6Ve6vljnHABPJra+M+wtem8Cs77gySp/Wom0vmP7raK9v7i+KSVCEIEWvr6yzd7w1jrGvl7KR/Jfl9a+Ll9WJpie4L6FxgVLf5navuv2wF6fGN4+6Cf7c4FuBz+lBFOy8dQfP8N023n+YjA/pdJIlGNwOz9CV6aIoQ9FP98EHf9hNE4/sfOROM15VD+MB51R6HVaPyW4+5blXWA/tw+H0d2BYz9O55+kbXFmP+AT9xC3AGk/3uTgHncNaz9GjjuA4XdsP4ccYa3vPm0/xWdEB2pabT/9HwMY36dsPwaDBDCZ9mo/xdFzEBZDaT8UnDF9DCVlP+uSPXaaO2A/2t/NYv9/Vz+e79QFLE1QP2pvNsH2KUg/gEL3K0pLQz+1SwOWzz9AP8b6xlOv1Dw/fPoqWwoOPD/XfFCoizpBP7lFegB0YFU/\",\"dtype\":\"float64\",\"shape\":[75]},\"y\":{\"__ndarray__\":\"GhExyth1ND/Sv8nbtpRIP2vylNV0PVE/aTum7souWD/At0SJ8fVgPw3Iuahxymc/MSNhhJWvcD/bTfBN02d3P2zb5nxnaoA/CD5h5MAGhz8NmeH1TyaQP+zrCsc9p5Y/LbKd76fGnz/bLW5ISEmmPww9YvTcQq8/JV2OstnstT8Er5Y7M8G+P0c+r3jqkcU/5h99k6ZBzj88bCIzFzjVP4enV8oyxN0//yH99nXg5D8qOpLLf0jtP5kqGJXUifQ/c9cS8kHP/D+/DpwzojQEQIEmwoanVwxA4lgXt9HgE0BSSZ2AJuIbQAMJih9jjiNA5q4l5INuK0AwTKYKRj0zQNv5fmq8/DpAaCJseHrtQkB/+zpwzoxKQM3MzMzMeFJAZmZmZmZqWEAAAAAAAFxeQM3MzMzMJmJAmpmZmZkfZUBmZmZmZhhoQDMzMzMzEWtAAAAAAAAKbkBmZmZmZoFwQM3MzMzM/XFAMzMzMzN6c0CamZmZmfZ0QAAAAAAAc3ZAZmZmZmbvd0DNzMzMzGt5QDMzMzMz6HpAmpmZmZlkfEAAAAAAAOF9QGZmZmZmXX9AZmZmZuZsgECamZmZGSuBQM3MzMxM6YFAAAAAAICngkAzMzMzs2WDQGZmZmbmI4RAmpmZmRnihEDNzMzMTKCFQAAAAACAXoZAMzMzM7Mch0BmZmZm5tqHQJqZmZkZmYhAzczMzExXiUAAAAAAgBWKQDMzMzOz04pAZmZmZuaRi0CamZmZGVCMQM3MzMxMDo1AAAAAAIDMjUAzMzMzs4qOQGZmZmbmSI9A\",\"dtype\":\"float64\",\"shape\":[75]}},\"selected\":{\"id\":\"d51bbe4a-a01c-40d6-89a4-51b6b241aadb\",\"type\":\"Selection\"},\"selection_policy\":{\"id\":\"0a6c6cdf-1a45-432e-8b27-605401e30852\",\"type\":\"UnionRenderers\"}},\"id\":\"ff93bac5-fa80-4001-8696-bbda1ad63e17\",\"type\":\"ColumnDataSource\"},{\"attributes\":{\"line_alpha\":0.1,\"line_color\":\"#1f77b4\",\"line_width\":3,\"x\":{\"field\":\"x\"},\"y\":{\"field\":\"y\"}},\"id\":\"072306eb-7460-4f6a-948f-3e4b1fcafa23\",\"type\":\"Line\"},{\"attributes\":{\"fill_alpha\":{\"value\":0.1},\"fill_color\":{\"value\":\"#1f77b4\"},\"line_alpha\":{\"value\":0.1},\"line_color\":{\"value\":\"#1f77b4\"},\"x\":{\"field\":\"x\"},\"y\":{\"field\":\"y\"}},\"id\":\"7732572e-ee2a-40e5-b8f6-60e84bc316e7\",\"type\":\"Circle\"},{\"attributes\":{\"fill_alpha\":{\"value\":0.1},\"fill_color\":{\"value\":\"#1f77b4\"},\"line_alpha\":{\"value\":0.1},\"line_color\":{\"value\":\"#1f77b4\"},\"x\":{\"field\":\"x\"},\"y\":{\"field\":\"y\"}},\"id\":\"b169608e-4847-414c-a1e6-9afec21351fb\",\"type\":\"Triangle\"},{\"attributes\":{\"callback\":null,\"data\":{\"x\":{\"__ndarray__\":\"8kNI/BUNsr7+kFl1qSOyviN6WPA+ULK+FKEpF617sr439n29RqWyvjs7A4HRzLK+sFj/ADLysr6sWSa/QhWzvuhQzL3YNbO+S87wts5Ts76d/Vy+/W6zvo4nnzlAh7O+KJGT7YGcs753/cn7nrKzvuVr4Ug8y7O+mutwQxvHsr7Z/TOUBhytvidqtgg5n5S+d5/1RStbqD6xpK8MNaXEPgdlyypd2dU+hTtm7Fav4j6iO/7SlvrlPgx02SWM2uI+G8fESYf82z72zNhJ2IXRPtWXbYW9w8I+Pp1+xAV2rT4EHha6CjpovotXHaFZvqW+QYdFUqAbsb4NpMNZB5q0vs0+nB/FMra+NYcCDbN7tr5pELpUXUe1vqEBjFpQUrK+OGBbV5k/sL67pU3baN2xvs7ZogE4/LW+EhkMP83Lu75Iojm5VvHFvkVr5See/ti+uzRqaJ/o5r67bIEBxbfwvoUUANUAcPG+gZ+akLkO077wgMcp8JwBP4ERdSot+h0/RHrWS7vRLz/dJsoyqpA8P7xLcA6BIUc/8wv5H1VfUT/a2l3IbI5YP7vr9t7Cb2A/bPFe8pX5ZD/1S9E8yolpP0CrVBjwtW0/Q/eKgcWHcD/j2d0z9pRxPwludn3F53E/LNV7pUl0cT8BZYaflTpwP6CIvBrdl2w/ows26iuMaD+VXSBolAxiP1uVUyFv0FY//4RpzrAHST/zuCSVTWM5P8Ar4dd7RTA/dsmy2VAJLD9cR/IqMA0rP2PoLFdAuio/+BaiwMzJLD92TskWuAA3P07Mcglr0lI/\",\"dtype\":\"float64\",\"shape\":[75]},\"y\":{\"__ndarray__\":\"GhExyth1ND/Sv8nbtpRIP2vylNV0PVE/aTum7souWD/At0SJ8fVgPw3Iuahxymc/MSNhhJWvcD/bTfBN02d3P2zb5nxnaoA/CD5h5MAGhz8NmeH1TyaQP+zrCsc9p5Y/LbKd76fGnz/bLW5ISEmmPww9YvTcQq8/JV2OstnstT8Er5Y7M8G+P0c+r3jqkcU/5h99k6ZBzj88bCIzFzjVP4enV8oyxN0//yH99nXg5D8qOpLLf0jtP5kqGJXUifQ/c9cS8kHP/D+/DpwzojQEQIEmwoanVwxA4lgXt9HgE0BSSZ2AJuIbQAMJih9jjiNA5q4l5INuK0AwTKYKRj0zQNv5fmq8/DpAaCJseHrtQkB/+zpwzoxKQM3MzMzMeFJAZmZmZmZqWEAAAAAAAFxeQM3MzMzMJmJAmpmZmZkfZUBmZmZmZhhoQDMzMzMzEWtAAAAAAAAKbkBmZmZmZoFwQM3MzMzM/XFAMzMzMzN6c0CamZmZmfZ0QAAAAAAAc3ZAZmZmZmbvd0DNzMzMzGt5QDMzMzMz6HpAmpmZmZlkfEAAAAAAAOF9QGZmZmZmXX9AZmZmZuZsgECamZmZGSuBQM3MzMxM6YFAAAAAAICngkAzMzMzs2WDQGZmZmbmI4RAmpmZmRnihEDNzMzMTKCFQAAAAACAXoZAMzMzM7Mch0BmZmZm5tqHQJqZmZkZmYhAzczMzExXiUAAAAAAgBWKQDMzMzOz04pAZmZmZuaRi0CamZmZGVCMQM3MzMxMDo1AAAAAAIDMjUAzMzMzs4qOQGZmZmbmSI9A\",\"dtype\":\"float64\",\"shape\":[75]}},\"selected\":{\"id\":\"bcd7f0f7-cd88-4f1f-bb1f-f23531323b45\",\"type\":\"Selection\"},\"selection_policy\":{\"id\":\"dcb8639a-a959-422d-a7e6-f99928344057\",\"type\":\"UnionRenderers\"}},\"id\":\"4d9e28f4-4134-4657-a968-5b928d97f4c7\",\"type\":\"ColumnDataSource\"},{\"attributes\":{\"data_source\":{\"id\":\"761f1dc0-1a60-46e9-88fe-880eb1ad498a\",\"type\":\"ColumnDataSource\"},\"glyph\":{\"id\":\"63103665-13b2-41d5-aebb-8b7196cfe43a\",\"type\":\"Line\"},\"hover_glyph\":null,\"muted_glyph\":null,\"nonselection_glyph\":{\"id\":\"072306eb-7460-4f6a-948f-3e4b1fcafa23\",\"type\":\"Line\"},\"selection_glyph\":null,\"view\":{\"id\":\"7cf6d4dd-1f4f-4dbb-9d7b-f91c44159405\",\"type\":\"CDSView\"}},\"id\":\"a914aca6-d95f-4e77-92d3-474e2c625f17\",\"type\":\"GlyphRenderer\"}],\"root_ids\":[\"67398a93-a090-4bd3-a891-6ef4c21d8dbb\"]},\"title\":\"Bokeh Application\",\"version\":\"0.12.16\"}};\n",
       "  var render_items = [{\"docid\":\"97f0be0d-3a63-436a-bc77-9ead20d050fb\",\"elementid\":\"1697e41d-7104-4cbe-bf7a-af04468b3cc2\",\"modelid\":\"67398a93-a090-4bd3-a891-6ef4c21d8dbb\"}];\n",
       "  root.Bokeh.embed.embed_items_notebook(docs_json, render_items);\n",
       "\n",
       "  }\n",
       "  if (root.Bokeh !== undefined) {\n",
       "    embed_document(root);\n",
       "  } else {\n",
       "    var attempts = 0;\n",
       "    var timer = setInterval(function(root) {\n",
       "      if (root.Bokeh !== undefined) {\n",
       "        embed_document(root);\n",
       "        clearInterval(timer);\n",
       "      }\n",
       "      attempts++;\n",
       "      if (attempts > 100) {\n",
       "        console.log(\"Bokeh: ERROR: Unable to run BokehJS code because BokehJS library is missing\")\n",
       "        clearInterval(timer);\n",
       "      }\n",
       "    }, 10, root)\n",
       "  }\n",
       "})(window);"
      ],
      "application/vnd.bokehjs_exec.v0+json": ""
     },
     "metadata": {
      "application/vnd.bokehjs_exec.v0+json": {
       "id": "67398a93-a090-4bd3-a891-6ef4c21d8dbb"
      }
     },
     "output_type": "display_data"
    },
    {
     "data": {
      "text/markdown": [
       "*FIGURE.* Cooling rates. g=1"
      ],
      "text/plain": [
       "<IPython.core.display.Markdown object>"
      ]
     },
     "metadata": {},
     "output_type": "display_data"
    },
    {
     "data": {
      "text/html": [
       "\n",
       "<div class=\"bk-root\">\n",
       "    <div class=\"bk-plotdiv\" id=\"aabe6442-2fdb-45fc-9168-73a51320ea61\"></div>\n",
       "</div>"
      ]
     },
     "metadata": {},
     "output_type": "display_data"
    },
    {
     "data": {
      "application/javascript": [
       "(function(root) {\n",
       "  function embed_document(root) {\n",
       "    \n",
       "  var docs_json = {\"85ac078e-4bc2-4fac-b9a9-c4137cdeff7a\":{\"roots\":{\"references\":[{\"attributes\":{\"line_color\":\"#4daf4a\",\"line_width\":1.5,\"x\":{\"field\":\"x\"},\"y\":{\"field\":\"y\"}},\"id\":\"4d392256-053b-4964-95b3-0d16ca93807c\",\"type\":\"Line\"},{\"attributes\":{\"above\":[{\"id\":\"10ff3815-6ebc-476b-bb24-dabd4b791c01\",\"type\":\"Legend\"}],\"below\":[{\"id\":\"dc0590c0-2174-4d87-a041-bb4ea60237d9\",\"type\":\"LinearAxis\"}],\"left\":[{\"id\":\"7829e843-b5b1-4fbf-922e-84bb2e1bd27b\",\"type\":\"LinearAxis\"}],\"plot_height\":500,\"plot_width\":400,\"renderers\":[{\"id\":\"dc0590c0-2174-4d87-a041-bb4ea60237d9\",\"type\":\"LinearAxis\"},{\"id\":\"3af684b4-97e9-4df7-84ea-56f9bfe50b85\",\"type\":\"Grid\"},{\"id\":\"7829e843-b5b1-4fbf-922e-84bb2e1bd27b\",\"type\":\"LinearAxis\"},{\"id\":\"ceb5d6eb-9a09-4ef0-9d48-b99e585cff27\",\"type\":\"Grid\"},{\"id\":\"ce100c7f-f2e2-4207-8883-499433f82164\",\"type\":\"BoxAnnotation\"},{\"id\":\"ce48b90b-b639-4f94-9700-4d1c359ec99d\",\"type\":\"GlyphRenderer\"},{\"id\":\"a6580a0d-cf70-4083-ae68-4997a8d9d214\",\"type\":\"GlyphRenderer\"},{\"id\":\"d3088606-8ed6-4a15-9887-2cb55c8aaf73\",\"type\":\"GlyphRenderer\"},{\"id\":\"3b969ccb-e219-4883-81ea-52d5bdb5e865\",\"type\":\"GlyphRenderer\"},{\"id\":\"f616bbb0-2618-4d21-a5da-083df6471214\",\"type\":\"GlyphRenderer\"},{\"id\":\"acd68169-84e6-4238-8c3e-e34e53499b90\",\"type\":\"GlyphRenderer\"},{\"id\":\"10ff3815-6ebc-476b-bb24-dabd4b791c01\",\"type\":\"Legend\"}],\"title\":{\"id\":\"882e27b6-ccc0-44d7-afc6-e2626fb2d7aa\",\"type\":\"Title\"},\"toolbar\":{\"id\":\"ab0d7dfb-16f3-4e76-b3e4-bfe3dfd9ae19\",\"type\":\"Toolbar\"},\"toolbar_location\":null,\"x_range\":{\"id\":\"1a2e91ea-1ea1-4078-a471-014ae1d09ddd\",\"type\":\"Range1d\"},\"x_scale\":{\"id\":\"db3c9100-43ff-4aaa-b724-769264bb2082\",\"type\":\"LinearScale\"},\"y_range\":{\"id\":\"25e535af-3c03-46b5-86cb-343a065a15d2\",\"type\":\"Range1d\"},\"y_scale\":{\"id\":\"74e9557d-d503-4bb6-9b81-100fcaa919ab\",\"type\":\"LinearScale\"}},\"id\":\"9b436903-5f11-4c91-85a2-b25d6cfc4240\",\"subtype\":\"Figure\",\"type\":\"Plot\"},{\"attributes\":{\"callback\":null,\"data\":{\"x\":{\"__ndarray__\":\"0S0ZERChrL5ZroVX+MusvhZHOZIBI62+LOj7x156rb7tftwi5tCtvj0iuySHJq6+D6GFeBV7rr5j7WiGpc6uvmI5an3iIK++HqTjPuJxr76QS3LqgcGvvln0pWfYB7C+mgXXe1susL6lkmn7FF6wviPamwgI9LC+0yrEsr66sb5kYLogYJ2xvlBodQE2VK++7vieusWGpb4ANQXsefF0vlE/ARfF6K0+PCIgiawOwz6ScuZAux7IPiw9Jty8UcM+9wy0jFrytz5E8Z7kYCehPj0GWU+ISYe+2/Ibpooepb40F2MVoNyuvrTnCRWEV7K+sLkZAsHos741FHjwwJe0vpjrlz5yurS+TliLegmCtL59XALpQ3WzvmqMUFAhbbG+W5iCCglusL76SkBXnN6yvt4YTUgwUri+Fa2Ka7llwL6Gs0TeuC7MvhEG8hWS+OG+5KOo7i9K8779a7JClvMBv3colX7zcA2/3//61xBdFb+FFN/vYBsbv7wCNKhgNBy/at4FE4XyE78esyaF9gXPPlZN6BoTjiM/ijfvIet4OT+AeeC0Vo5IP58RaTavrFQ/bizK4+cKYD9CatZ6v4hnP77s/2W8gnA/aQvAabdidj+y5ac86299P9UnB5y22YI/TJzQfLKIhz+qoqBdg5OMP58xVETU5JA/myp4BwHElD/uDrmxikuYP/r9UYoMYZs/hQQVIM0Cnj+1OTsK8feePyUFwL/bmJ8/BBtgsUkooD/vCXy/fY+gP2t8IUIuAaE/2/fJzUeEoT9cA9Iz+ieiP9/YIzzwHaM/\",\"dtype\":\"float64\",\"shape\":[75]},\"y\":{\"__ndarray__\":\"GhExyth1ND/Sv8nbtpRIP2vylNV0PVE/aTum7souWD/At0SJ8fVgPw3Iuahxymc/MSNhhJWvcD/bTfBN02d3P2zb5nxnaoA/CD5h5MAGhz8NmeH1TyaQP+zrCsc9p5Y/LbKd76fGnz/bLW5ISEmmPww9YvTcQq8/JV2OstnstT8Er5Y7M8G+P0c+r3jqkcU/5h99k6ZBzj88bCIzFzjVP4enV8oyxN0//yH99nXg5D8qOpLLf0jtP5kqGJXUifQ/c9cS8kHP/D+/DpwzojQEQIEmwoanVwxA4lgXt9HgE0BSSZ2AJuIbQAMJih9jjiNA5q4l5INuK0AwTKYKRj0zQNv5fmq8/DpAaCJseHrtQkB/+zpwzoxKQM3MzMzMeFJAZmZmZmZqWEAAAAAAAFxeQM3MzMzMJmJAmpmZmZkfZUBmZmZmZhhoQDMzMzMzEWtAAAAAAAAKbkBmZmZmZoFwQM3MzMzM/XFAMzMzMzN6c0CamZmZmfZ0QAAAAAAAc3ZAZmZmZmbvd0DNzMzMzGt5QDMzMzMz6HpAmpmZmZlkfEAAAAAAAOF9QGZmZmZmXX9AZmZmZuZsgECamZmZGSuBQM3MzMxM6YFAAAAAAICngkAzMzMzs2WDQGZmZmbmI4RAmpmZmRnihEDNzMzMTKCFQAAAAACAXoZAMzMzM7Mch0BmZmZm5tqHQJqZmZkZmYhAzczMzExXiUAAAAAAgBWKQDMzMzOz04pAZmZmZuaRi0CamZmZGVCMQM3MzMxMDo1AAAAAAIDMjUAzMzMzs4qOQGZmZmbmSI9A\",\"dtype\":\"float64\",\"shape\":[75]}},\"selected\":{\"id\":\"a06f2e16-d704-4e3f-a8c2-b91368c05ca6\",\"type\":\"Selection\"},\"selection_policy\":{\"id\":\"17560a05-d558-4202-be21-f81c5245be81\",\"type\":\"UnionRenderers\"}},\"id\":\"3b8758a6-2202-4713-adfb-4b6b7491b263\",\"type\":\"ColumnDataSource\"},{\"attributes\":{},\"id\":\"58212ef7-3445-417f-bf54-f336e78a8a21\",\"type\":\"UnionRenderers\"},{\"attributes\":{\"source\":{\"id\":\"c02a90af-6593-4f06-9ef1-23b294c3c11d\",\"type\":\"ColumnDataSource\"}},\"id\":\"e901aff5-9b9e-4d67-bbbb-5ab52c4d14a3\",\"type\":\"CDSView\"},{\"attributes\":{},\"id\":\"77a7710b-d217-41f5-8df2-09a227994510\",\"type\":\"Selection\"},{\"attributes\":{\"callback\":null,\"data\":{\"x\":{\"__ndarray__\":\"0S0ZERChrL5ZroVX+MusvhZHOZIBI62+LOj7x156rb7tftwi5tCtvj0iuySHJq6+D6GFeBV7rr5j7WiGpc6uvmI5an3iIK++HqTjPuJxr76QS3LqgcGvvln0pWfYB7C+mgXXe1susL6lkmn7FF6wviPamwgI9LC+0yrEsr66sb5kYLogYJ2xvlBodQE2VK++7vieusWGpb4ANQXsefF0vlE/ARfF6K0+PCIgiawOwz6ScuZAux7IPiw9Jty8UcM+9wy0jFrytz5E8Z7kYCehPj0GWU+ISYe+2/Ibpooepb40F2MVoNyuvrTnCRWEV7K+sLkZAsHos741FHjwwJe0vpjrlz5yurS+TliLegmCtL59XALpQ3WzvmqMUFAhbbG+W5iCCglusL76SkBXnN6yvt4YTUgwUri+Fa2Ka7llwL6Gs0TeuC7MvhEG8hWS+OG+5KOo7i9K8779a7JClvMBv3colX7zcA2/3//61xBdFb+FFN/vYBsbv7wCNKhgNBy/at4FE4XyE78esyaF9gXPPlZN6BoTjiM/ijfvIet4OT+AeeC0Vo5IP58RaTavrFQ/bizK4+cKYD9CatZ6v4hnP77s/2W8gnA/aQvAabdidj+y5ac86299P9UnB5y22YI/TJzQfLKIhz+qoqBdg5OMP58xVETU5JA/myp4BwHElD/uDrmxikuYP/r9UYoMYZs/hQQVIM0Cnj+1OTsK8feePyUFwL/bmJ8/BBtgsUkooD/vCXy/fY+gP2t8IUIuAaE/2/fJzUeEoT9cA9Iz+ieiP9/YIzzwHaM/\",\"dtype\":\"float64\",\"shape\":[75]},\"y\":{\"__ndarray__\":\"GhExyth1ND/Sv8nbtpRIP2vylNV0PVE/aTum7souWD/At0SJ8fVgPw3Iuahxymc/MSNhhJWvcD/bTfBN02d3P2zb5nxnaoA/CD5h5MAGhz8NmeH1TyaQP+zrCsc9p5Y/LbKd76fGnz/bLW5ISEmmPww9YvTcQq8/JV2OstnstT8Er5Y7M8G+P0c+r3jqkcU/5h99k6ZBzj88bCIzFzjVP4enV8oyxN0//yH99nXg5D8qOpLLf0jtP5kqGJXUifQ/c9cS8kHP/D+/DpwzojQEQIEmwoanVwxA4lgXt9HgE0BSSZ2AJuIbQAMJih9jjiNA5q4l5INuK0AwTKYKRj0zQNv5fmq8/DpAaCJseHrtQkB/+zpwzoxKQM3MzMzMeFJAZmZmZmZqWEAAAAAAAFxeQM3MzMzMJmJAmpmZmZkfZUBmZmZmZhhoQDMzMzMzEWtAAAAAAAAKbkBmZmZmZoFwQM3MzMzM/XFAMzMzMzN6c0CamZmZmfZ0QAAAAAAAc3ZAZmZmZmbvd0DNzMzMzGt5QDMzMzMz6HpAmpmZmZlkfEAAAAAAAOF9QGZmZmZmXX9AZmZmZuZsgECamZmZGSuBQM3MzMxM6YFAAAAAAICngkAzMzMzs2WDQGZmZmbmI4RAmpmZmRnihEDNzMzMTKCFQAAAAACAXoZAMzMzM7Mch0BmZmZm5tqHQJqZmZkZmYhAzczMzExXiUAAAAAAgBWKQDMzMzOz04pAZmZmZuaRi0CamZmZGVCMQM3MzMxMDo1AAAAAAIDMjUAzMzMzs4qOQGZmZmbmSI9A\",\"dtype\":\"float64\",\"shape\":[75]}},\"selected\":{\"id\":\"1e22b426-3f81-4d1e-b464-7169b8f9f915\",\"type\":\"Selection\"},\"selection_policy\":{\"id\":\"c8b33f20-9291-4fce-a09b-c3dd2537d946\",\"type\":\"UnionRenderers\"}},\"id\":\"9c15f694-62ae-45e0-8554-a0c0787f5b41\",\"type\":\"ColumnDataSource\"},{\"attributes\":{\"fill_alpha\":{\"value\":0.1},\"fill_color\":{\"value\":\"#1f77b4\"},\"line_alpha\":{\"value\":0.1},\"line_color\":{\"value\":\"#1f77b4\"},\"x\":{\"field\":\"x\"},\"y\":{\"field\":\"y\"}},\"id\":\"dab4dbfb-0a7b-4e95-85a7-fd295ee1e412\",\"type\":\"Square\"},{\"attributes\":{\"data_source\":{\"id\":\"9c15f694-62ae-45e0-8554-a0c0787f5b41\",\"type\":\"ColumnDataSource\"},\"glyph\":{\"id\":\"b985ae76-4324-4d20-bd27-8395e4f9086f\",\"type\":\"Square\"},\"hover_glyph\":null,\"muted_glyph\":null,\"nonselection_glyph\":{\"id\":\"dab4dbfb-0a7b-4e95-85a7-fd295ee1e412\",\"type\":\"Square\"},\"selection_glyph\":null,\"view\":{\"id\":\"add87b2c-e092-4a93-848d-447e695401ac\",\"type\":\"CDSView\"}},\"id\":\"1db28f95-4077-480d-ae61-767658481169\",\"type\":\"GlyphRenderer\"},{\"attributes\":{\"source\":{\"id\":\"72566af0-f528-4dcf-acbb-693d776f37d2\",\"type\":\"ColumnDataSource\"}},\"id\":\"3aa27cc7-a9a9-4664-8a50-f9a519a2d1c0\",\"type\":\"CDSView\"},{\"attributes\":{\"line_alpha\":0.6,\"line_color\":\"#984ea3\",\"line_width\":3,\"x\":{\"field\":\"x\"},\"y\":{\"field\":\"y\"}},\"id\":\"b0cf2481-0eb2-48ed-b763-3e8a39293c5a\",\"type\":\"Line\"},{\"attributes\":{\"line_alpha\":0.1,\"line_color\":\"#1f77b4\",\"line_width\":3,\"x\":{\"field\":\"x\"},\"y\":{\"field\":\"y\"}},\"id\":\"ba8a165b-4636-4d1a-9faf-cc02af42f488\",\"type\":\"Line\"},{\"attributes\":{\"line_alpha\":0.1,\"line_color\":\"#1f77b4\",\"line_width\":2,\"x\":{\"field\":\"x\"},\"y\":{\"field\":\"y\"}},\"id\":\"42b047db-a6fa-4e6e-b768-2d0af07d1760\",\"type\":\"Line\"},{\"attributes\":{\"source\":{\"id\":\"9c15f694-62ae-45e0-8554-a0c0787f5b41\",\"type\":\"ColumnDataSource\"}},\"id\":\"add87b2c-e092-4a93-848d-447e695401ac\",\"type\":\"CDSView\"},{\"attributes\":{\"source\":{\"id\":\"3b8758a6-2202-4713-adfb-4b6b7491b263\",\"type\":\"ColumnDataSource\"}},\"id\":\"5e666017-9a3b-472a-9b2e-b9da2b58e5e3\",\"type\":\"CDSView\"},{\"attributes\":{\"callback\":null,\"data\":{\"x\":{\"__ndarray__\":\"/vH82lqXtb4E/NdAv7S1vpx9kG8W8LW+trxqvBgrtr4h9zjTnmS2vuhXHzXinLa+irjBH+HTtr4835XvmAm3vp6KnpRxPbe+fqpY28dvt75j9AkiL6C3vp8XSEO1zre+BBZsj1H7t74uvWF44DC4vvjkSEhSyri+htL/oEwqub4iSHFnAoK3vidUKH/sMbK+DjiLehaPnL6wCrw9CkipPv1W8nLJqMY+LZymcT2u1j4WHgquX43bPjnxK8jP19Y+BCbpKeRLzz4MfxxcPivAPmkc8Amp/6I+01EDFWWWl75+Agcx8quvvqDYsI+z2bW+9JiWfuQZub7XBsNr3XS6vt+3ddXkkLq+nXTeDgXaub5gl/U49dy3vvO6TkIKkrS+D8QUFFbEsr5eTnvejT+1vqap8J4ONLu+ZpEyYYstwr4g8JwmMuHOvhH5UXvLY+O+qxKEJq5i9L64jZGNPG0CvzxofAr88Qy/QW4DXqqjE7/aRsM3whoWv13beE/+WxG/mJsw5VKxrj5yZ1kJc0EhP59JkhQOBTc/6TTEIFeORj/nNOJ9KUBTP325yQsUKF4/+S2hF7pGZj8WLi/pvWtvP7fF6otTWHU/TOPT9ywcfD8zmHf/Ff6BPwufDfavd4Y/arLAA3Vdiz886lwPLjaQP/e9Lymcr5I/4ejeThhQlj+cf+kkw0CZP4zx5S5XeZs/V49wZGIWnT9jnysK7hmdP4lSV0v19Zw/pgVYeTwMnT85La3DJ1adPxZZy5rh0Z0/0x/CQUCTnj856s8bes2fP6ZIhmjpFKE/\",\"dtype\":\"float64\",\"shape\":[75]},\"y\":{\"__ndarray__\":\"GhExyth1ND/Sv8nbtpRIP2vylNV0PVE/aTum7souWD/At0SJ8fVgPw3Iuahxymc/MSNhhJWvcD/bTfBN02d3P2zb5nxnaoA/CD5h5MAGhz8NmeH1TyaQP+zrCsc9p5Y/LbKd76fGnz/bLW5ISEmmPww9YvTcQq8/JV2OstnstT8Er5Y7M8G+P0c+r3jqkcU/5h99k6ZBzj88bCIzFzjVP4enV8oyxN0//yH99nXg5D8qOpLLf0jtP5kqGJXUifQ/c9cS8kHP/D+/DpwzojQEQIEmwoanVwxA4lgXt9HgE0BSSZ2AJuIbQAMJih9jjiNA5q4l5INuK0AwTKYKRj0zQNv5fmq8/DpAaCJseHrtQkB/+zpwzoxKQM3MzMzMeFJAZmZmZmZqWEAAAAAAAFxeQM3MzMzMJmJAmpmZmZkfZUBmZmZmZhhoQDMzMzMzEWtAAAAAAAAKbkBmZmZmZoFwQM3MzMzM/XFAMzMzMzN6c0CamZmZmfZ0QAAAAAAAc3ZAZmZmZmbvd0DNzMzMzGt5QDMzMzMz6HpAmpmZmZlkfEAAAAAAAOF9QGZmZmZmXX9AZmZmZuZsgECamZmZGSuBQM3MzMxM6YFAAAAAAICngkAzMzMzs2WDQGZmZmbmI4RAmpmZmRnihEDNzMzMTKCFQAAAAACAXoZAMzMzM7Mch0BmZmZm5tqHQJqZmZkZmYhAzczMzExXiUAAAAAAgBWKQDMzMzOz04pAZmZmZuaRi0CamZmZGVCMQM3MzMxMDo1AAAAAAIDMjUAzMzMzs4qOQGZmZmbmSI9A\",\"dtype\":\"float64\",\"shape\":[75]}},\"selected\":{\"id\":\"596d2d5d-100b-431c-b3c8-5ba62808aeb7\",\"type\":\"Selection\"},\"selection_policy\":{\"id\":\"b7b433bc-58cc-49f6-be0a-81dc552993cb\",\"type\":\"UnionRenderers\"}},\"id\":\"72566af0-f528-4dcf-acbb-693d776f37d2\",\"type\":\"ColumnDataSource\"},{\"attributes\":{\"line_alpha\":0.1,\"line_color\":\"#1f77b4\",\"line_width\":1.5,\"x\":{\"field\":\"x\"},\"y\":{\"field\":\"y\"}},\"id\":\"ccbe567b-53ef-49e1-b656-e031cb815fd9\",\"type\":\"Line\"},{\"attributes\":{\"data_source\":{\"id\":\"3b8758a6-2202-4713-adfb-4b6b7491b263\",\"type\":\"ColumnDataSource\"},\"glyph\":{\"id\":\"b0cf2481-0eb2-48ed-b763-3e8a39293c5a\",\"type\":\"Line\"},\"hover_glyph\":null,\"muted_glyph\":null,\"nonselection_glyph\":{\"id\":\"ba8a165b-4636-4d1a-9faf-cc02af42f488\",\"type\":\"Line\"},\"selection_glyph\":null,\"view\":{\"id\":\"5e666017-9a3b-472a-9b2e-b9da2b58e5e3\",\"type\":\"CDSView\"}},\"id\":\"52f6b146-0a51-43da-819d-5bfb172fe79f\",\"type\":\"GlyphRenderer\"},{\"attributes\":{\"data_source\":{\"id\":\"72566af0-f528-4dcf-acbb-693d776f37d2\",\"type\":\"ColumnDataSource\"},\"glyph\":{\"id\":\"4d392256-053b-4964-95b3-0d16ca93807c\",\"type\":\"Line\"},\"hover_glyph\":null,\"muted_glyph\":null,\"nonselection_glyph\":{\"id\":\"ccbe567b-53ef-49e1-b656-e031cb815fd9\",\"type\":\"Line\"},\"selection_glyph\":null,\"view\":{\"id\":\"3aa27cc7-a9a9-4664-8a50-f9a519a2d1c0\",\"type\":\"CDSView\"}},\"id\":\"07c5006e-552a-4c45-82eb-da5ea3df7ead\",\"type\":\"GlyphRenderer\"},{\"attributes\":{\"callback\":null,\"data\":{\"x\":{\"__ndarray__\":\"qJElwDfyqb765Ckauxuqvj+ht+5pbqq+M+sxtZDCqr4xFU6EGharvivu+QbbaKu+Fa5LhDq7q76TXv58vQysvvJLN+uJXay+5SnR1HmtrL6TGvXYhPysvgdzQECnSq2+ZOChTRiYrb5NuqZl7Pitvlkh+TNFMq++NF7E94+FsL5Ydhc+i8+wvpzG683DTK++70QPPrw+qL6IKERK/6KTvn2c9yjcaZ8+L14AfINQuj7WtvE0gDfBPlxA/RFstbo+WjbQNp3jrT7gvCqT3OaFPiU1gSW9FJm+bFsDi51PqL6bGnTrK5evvnmiBI783LG+o0g6PN7dsr4brGHEwi6zvkzcr1PJFbO+PsuTlZa4sr44u2iBGZ6xvorOcdoUV6++3xsjfWF2rb6DSxvA+POwvmlFYsVU+rW+FhCM1/TYvb7pgQP2D+DJvnqDyHKDruC+RoUHfWYp8r6zj8w7DTkBv8pAxnF8/gy/ageA2sbdFb811+cqhYgdvwXe4OSQVCG/J0Y0mwHhH79HgX/zxK0Tv33uCRm4afs+qqitDn7jKj9EZQWhDwtAPzbcEL350k0/P+mxHtigWD/OLw22ZuFiP6MfePmwd2s/u5JjOakycz9IvKTJv/F5P2NnYcK1CYE/BvqNdNvFhT+znLnE5weLP+9XnpMgVJA/6rS6ESCHlD/HUpP8YpiYP3w6eqMmX5w/7dzI/Y3Enz8+v4X7HK2gPxAYNamyOaE/PBQmCC7BoT8yv77Je0SiP7AN1cdVwqI/Z7VqHlpAoz/MG1AEq8mjP4zbaABvgaQ/\",\"dtype\":\"float64\",\"shape\":[75]},\"y\":{\"__ndarray__\":\"GhExyth1ND/Sv8nbtpRIP2vylNV0PVE/aTum7souWD/At0SJ8fVgPw3Iuahxymc/MSNhhJWvcD/bTfBN02d3P2zb5nxnaoA/CD5h5MAGhz8NmeH1TyaQP+zrCsc9p5Y/LbKd76fGnz/bLW5ISEmmPww9YvTcQq8/JV2OstnstT8Er5Y7M8G+P0c+r3jqkcU/5h99k6ZBzj88bCIzFzjVP4enV8oyxN0//yH99nXg5D8qOpLLf0jtP5kqGJXUifQ/c9cS8kHP/D+/DpwzojQEQIEmwoanVwxA4lgXt9HgE0BSSZ2AJuIbQAMJih9jjiNA5q4l5INuK0AwTKYKRj0zQNv5fmq8/DpAaCJseHrtQkB/+zpwzoxKQM3MzMzMeFJAZmZmZmZqWEAAAAAAAFxeQM3MzMzMJmJAmpmZmZkfZUBmZmZmZhhoQDMzMzMzEWtAAAAAAAAKbkBmZmZmZoFwQM3MzMzM/XFAMzMzMzN6c0CamZmZmfZ0QAAAAAAAc3ZAZmZmZmbvd0DNzMzMzGt5QDMzMzMz6HpAmpmZmZlkfEAAAAAAAOF9QGZmZmZmXX9AZmZmZuZsgECamZmZGSuBQM3MzMxM6YFAAAAAAICngkAzMzMzs2WDQGZmZmbmI4RAmpmZmRnihEDNzMzMTKCFQAAAAACAXoZAMzMzM7Mch0BmZmZm5tqHQJqZmZkZmYhAzczMzExXiUAAAAAAgBWKQDMzMzOz04pAZmZmZuaRi0CamZmZGVCMQM3MzMxMDo1AAAAAAIDMjUAzMzMzs4qOQGZmZmbmSI9A\",\"dtype\":\"float64\",\"shape\":[75]}},\"selected\":{\"id\":\"740be19d-80e3-4d3f-82ad-5420a56177b9\",\"type\":\"Selection\"},\"selection_policy\":{\"id\":\"36df0ac0-89db-4df0-9725-0969e91759cd\",\"type\":\"UnionRenderers\"}},\"id\":\"9a873279-f881-41e5-b83e-d64348c1b8ba\",\"type\":\"ColumnDataSource\"},{\"attributes\":{\"fill_alpha\":{\"value\":0.7},\"fill_color\":{\"value\":\"#377eb8\"},\"line_alpha\":{\"value\":0.7},\"line_color\":{\"value\":\"#377eb8\"},\"x\":{\"field\":\"x\"},\"y\":{\"field\":\"y\"}},\"id\":\"89fc0da8-c38e-4a5e-9cc8-0ed925d0951c\",\"type\":\"Triangle\"},{\"attributes\":{\"callback\":null,\"data\":{\"x\":{\"__ndarray__\":\"qJElwDfyqb765Ckauxuqvj+ht+5pbqq+M+sxtZDCqr4xFU6EGharvivu+QbbaKu+Fa5LhDq7q76TXv58vQysvvJLN+uJXay+5SnR1HmtrL6TGvXYhPysvgdzQECnSq2+ZOChTRiYrb5NuqZl7Pitvlkh+TNFMq++NF7E94+FsL5Ydhc+i8+wvpzG683DTK++70QPPrw+qL6IKERK/6KTvn2c9yjcaZ8+L14AfINQuj7WtvE0gDfBPlxA/RFstbo+WjbQNp3jrT7gvCqT3OaFPiU1gSW9FJm+bFsDi51PqL6bGnTrK5evvnmiBI783LG+o0g6PN7dsr4brGHEwi6zvkzcr1PJFbO+PsuTlZa4sr44u2iBGZ6xvorOcdoUV6++3xsjfWF2rb6DSxvA+POwvmlFYsVU+rW+FhCM1/TYvb7pgQP2D+DJvnqDyHKDruC+RoUHfWYp8r6zj8w7DTkBv8pAxnF8/gy/ageA2sbdFb811+cqhYgdvwXe4OSQVCG/J0Y0mwHhH79HgX/zxK0Tv33uCRm4afs+qqitDn7jKj9EZQWhDwtAPzbcEL350k0/P+mxHtigWD/OLw22ZuFiP6MfePmwd2s/u5JjOakycz9IvKTJv/F5P2NnYcK1CYE/BvqNdNvFhT+znLnE5weLP+9XnpMgVJA/6rS6ESCHlD/HUpP8YpiYP3w6eqMmX5w/7dzI/Y3Enz8+v4X7HK2gPxAYNamyOaE/PBQmCC7BoT8yv77Je0SiP7AN1cdVwqI/Z7VqHlpAoz/MG1AEq8mjP4zbaABvgaQ/\",\"dtype\":\"float64\",\"shape\":[75]},\"y\":{\"__ndarray__\":\"GhExyth1ND/Sv8nbtpRIP2vylNV0PVE/aTum7souWD/At0SJ8fVgPw3Iuahxymc/MSNhhJWvcD/bTfBN02d3P2zb5nxnaoA/CD5h5MAGhz8NmeH1TyaQP+zrCsc9p5Y/LbKd76fGnz/bLW5ISEmmPww9YvTcQq8/JV2OstnstT8Er5Y7M8G+P0c+r3jqkcU/5h99k6ZBzj88bCIzFzjVP4enV8oyxN0//yH99nXg5D8qOpLLf0jtP5kqGJXUifQ/c9cS8kHP/D+/DpwzojQEQIEmwoanVwxA4lgXt9HgE0BSSZ2AJuIbQAMJih9jjiNA5q4l5INuK0AwTKYKRj0zQNv5fmq8/DpAaCJseHrtQkB/+zpwzoxKQM3MzMzMeFJAZmZmZmZqWEAAAAAAAFxeQM3MzMzMJmJAmpmZmZkfZUBmZmZmZhhoQDMzMzMzEWtAAAAAAAAKbkBmZmZmZoFwQM3MzMzM/XFAMzMzMzN6c0CamZmZmfZ0QAAAAAAAc3ZAZmZmZmbvd0DNzMzMzGt5QDMzMzMz6HpAmpmZmZlkfEAAAAAAAOF9QGZmZmZmXX9AZmZmZuZsgECamZmZGSuBQM3MzMxM6YFAAAAAAICngkAzMzMzs2WDQGZmZmbmI4RAmpmZmRnihEDNzMzMTKCFQAAAAACAXoZAMzMzM7Mch0BmZmZm5tqHQJqZmZkZmYhAzczMzExXiUAAAAAAgBWKQDMzMzOz04pAZmZmZuaRi0CamZmZGVCMQM3MzMxMDo1AAAAAAIDMjUAzMzMzs4qOQGZmZmbmSI9A\",\"dtype\":\"float64\",\"shape\":[75]}},\"selected\":{\"id\":\"f9d67871-003d-4e48-922e-6a76235b8670\",\"type\":\"Selection\"},\"selection_policy\":{\"id\":\"a25ad1d2-6243-403d-88ad-0a5c0581b03a\",\"type\":\"UnionRenderers\"}},\"id\":\"9000acf5-c68f-470c-ac76-9c2d38c2a3d9\",\"type\":\"ColumnDataSource\"},{\"attributes\":{\"source\":{\"id\":\"9a873279-f881-41e5-b83e-d64348c1b8ba\",\"type\":\"ColumnDataSource\"}},\"id\":\"436a469e-d5c7-401c-a65b-6d1a64118f9e\",\"type\":\"CDSView\"},{\"attributes\":{\"fill_alpha\":{\"value\":0.7},\"fill_color\":{\"value\":\"#984ea3\"},\"line_alpha\":{\"value\":0.7},\"line_color\":{\"value\":\"#984ea3\"},\"x\":{\"field\":\"x\"},\"y\":{\"field\":\"y\"}},\"id\":\"b985ae76-4324-4d20-bd27-8395e4f9086f\",\"type\":\"Square\"},{\"attributes\":{\"fill_alpha\":{\"value\":0.1},\"fill_color\":{\"value\":\"#1f77b4\"},\"line_alpha\":{\"value\":0.1},\"line_color\":{\"value\":\"#1f77b4\"},\"x\":{\"field\":\"x\"},\"y\":{\"field\":\"y\"}},\"id\":\"a6e3311f-4f70-4c58-b504-eecf8f3edfab\",\"type\":\"Triangle\"},{\"attributes\":{\"line_alpha\":0.3,\"line_color\":\"#377eb8\",\"line_width\":2,\"x\":{\"field\":\"x\"},\"y\":{\"field\":\"y\"}},\"id\":\"e4f55de2-dae8-4a69-8570-be99e8bf4810\",\"type\":\"Line\"},{\"attributes\":{\"children\":[{\"id\":\"0ab0ce40-2998-44a1-aa57-79cd62ec58b0\",\"type\":\"Row\"}]},\"id\":\"cc0ed8db-23c4-427e-9ec0-2b0b41c7aaff\",\"type\":\"Column\"},{\"attributes\":{\"data_source\":{\"id\":\"9a873279-f881-41e5-b83e-d64348c1b8ba\",\"type\":\"ColumnDataSource\"},\"glyph\":{\"id\":\"89fc0da8-c38e-4a5e-9cc8-0ed925d0951c\",\"type\":\"Triangle\"},\"hover_glyph\":null,\"muted_glyph\":null,\"nonselection_glyph\":{\"id\":\"a6e3311f-4f70-4c58-b504-eecf8f3edfab\",\"type\":\"Triangle\"},\"selection_glyph\":null,\"view\":{\"id\":\"436a469e-d5c7-401c-a65b-6d1a64118f9e\",\"type\":\"CDSView\"}},\"id\":\"ec13acdd-9b55-48b3-bae7-860aa3643b08\",\"type\":\"GlyphRenderer\"},{\"attributes\":{\"data_source\":{\"id\":\"9000acf5-c68f-470c-ac76-9c2d38c2a3d9\",\"type\":\"ColumnDataSource\"},\"glyph\":{\"id\":\"e4f55de2-dae8-4a69-8570-be99e8bf4810\",\"type\":\"Line\"},\"hover_glyph\":null,\"muted_glyph\":null,\"nonselection_glyph\":{\"id\":\"42b047db-a6fa-4e6e-b768-2d0af07d1760\",\"type\":\"Line\"},\"selection_glyph\":null,\"view\":{\"id\":\"fcf412e4-e898-4461-a6db-72b0312a1cac\",\"type\":\"CDSView\"}},\"id\":\"858b5d55-e42f-4850-9d3f-59c020a91423\",\"type\":\"GlyphRenderer\"},{\"attributes\":{\"source\":{\"id\":\"9000acf5-c68f-470c-ac76-9c2d38c2a3d9\",\"type\":\"ColumnDataSource\"}},\"id\":\"fcf412e4-e898-4461-a6db-72b0312a1cac\",\"type\":\"CDSView\"},{\"attributes\":{\"plot\":null,\"text\":\"\"},\"id\":\"882e27b6-ccc0-44d7-afc6-e2626fb2d7aa\",\"type\":\"Title\"},{\"attributes\":{\"children\":[{\"id\":\"9b436903-5f11-4c91-85a2-b25d6cfc4240\",\"subtype\":\"Figure\",\"type\":\"Plot\"},{\"id\":\"39add409-5d11-4508-9ee3-2da300374278\",\"subtype\":\"Figure\",\"type\":\"Plot\"}]},\"id\":\"0ab0ce40-2998-44a1-aa57-79cd62ec58b0\",\"type\":\"Row\"},{\"attributes\":{\"label\":{\"value\":\"CRD\"},\"renderers\":[{\"id\":\"83f7c3d6-f480-4ba3-adad-a035e9168c0b\",\"type\":\"GlyphRenderer\"},{\"id\":\"07c5006e-552a-4c45-82eb-da5ea3df7ead\",\"type\":\"GlyphRenderer\"}]},\"id\":\"866c5e3f-f187-425f-b64f-789d324e08a8\",\"type\":\"LegendItem\"},{\"attributes\":{},\"id\":\"b83b3f91-2b11-4363-b7c8-35a635136b3b\",\"type\":\"BasicTickFormatter\"},{\"attributes\":{\"label\":{\"value\":\"WGT igg=1\"},\"renderers\":[{\"id\":\"1db28f95-4077-480d-ae61-767658481169\",\"type\":\"GlyphRenderer\"},{\"id\":\"52f6b146-0a51-43da-819d-5bfb172fe79f\",\"type\":\"GlyphRenderer\"}]},\"id\":\"353e0acb-eb7f-49d5-bbaf-7074907cff90\",\"type\":\"LegendItem\"},{\"attributes\":{},\"id\":\"5324b72d-5a78-4a8a-b5a5-47ca5ff7ac61\",\"type\":\"BasicTickFormatter\"},{\"attributes\":{\"label\":{\"value\":\"WGT igg=10\"},\"renderers\":[{\"id\":\"ec13acdd-9b55-48b3-bae7-860aa3643b08\",\"type\":\"GlyphRenderer\"},{\"id\":\"858b5d55-e42f-4850-9d3f-59c020a91423\",\"type\":\"GlyphRenderer\"}]},\"id\":\"f08a7e52-e621-4751-a165-77f147e58d8e\",\"type\":\"LegendItem\"},{\"attributes\":{\"num_minor_ticks\":10},\"id\":\"18cc14c8-273d-4b16-aa49-b768fb931be1\",\"type\":\"LogTicker\"},{\"attributes\":{\"axis_label\":\"pressure [mb]\",\"formatter\":{\"id\":\"8faefd36-3287-4576-a033-fc4f6bcb9bdb\",\"type\":\"LogTickFormatter\"},\"plot\":{\"id\":\"39add409-5d11-4508-9ee3-2da300374278\",\"subtype\":\"Figure\",\"type\":\"Plot\"},\"ticker\":{\"id\":\"18cc14c8-273d-4b16-aa49-b768fb931be1\",\"type\":\"LogTicker\"}},\"id\":\"356523a6-3b1a-4cd2-ad2c-1518eac3c120\",\"type\":\"LogAxis\"},{\"attributes\":{\"line_alpha\":0.1,\"line_color\":\"#1f77b4\",\"line_width\":1.5,\"x\":{\"field\":\"x\"},\"y\":{\"field\":\"y\"}},\"id\":\"863803a0-75fb-40da-8454-539bd1e8daff\",\"type\":\"Line\"},{\"attributes\":{\"fill_alpha\":{\"value\":0.1},\"fill_color\":{\"value\":\"#1f77b4\"},\"line_alpha\":{\"value\":0.1},\"line_color\":{\"value\":\"#1f77b4\"},\"x\":{\"field\":\"x\"},\"y\":{\"field\":\"y\"}},\"id\":\"51a07050-de18-4ee4-a643-13968d41b796\",\"type\":\"Circle\"},{\"attributes\":{\"plot\":{\"id\":\"39add409-5d11-4508-9ee3-2da300374278\",\"subtype\":\"Figure\",\"type\":\"Plot\"},\"ticker\":{\"id\":\"2b388e13-2e42-4db1-8892-e8f8bc6ee17f\",\"type\":\"BasicTicker\"}},\"id\":\"0df67fe1-324f-4347-aa54-baa879e7f93e\",\"type\":\"Grid\"},{\"attributes\":{\"fill_alpha\":{\"value\":0.7},\"fill_color\":{\"value\":\"#4daf4a\"},\"line_alpha\":{\"value\":0.7},\"line_color\":{\"value\":\"#4daf4a\"},\"x\":{\"field\":\"x\"},\"y\":{\"field\":\"y\"}},\"id\":\"2331c4ad-bbaf-4579-9611-de5be00a54f3\",\"type\":\"Circle\"},{\"attributes\":{\"line_color\":\"#4daf4a\",\"line_width\":1.5,\"x\":{\"field\":\"x\"},\"y\":{\"field\":\"y\"}},\"id\":\"5a10dda9-8156-41af-a00c-55e3e7a88616\",\"type\":\"Line\"},{\"attributes\":{\"callback\":null,\"data\":{\"x\":{\"__ndarray__\":\"/vH82lqXtb4E/NdAv7S1vpx9kG8W8LW+trxqvBgrtr4h9zjTnmS2vuhXHzXinLa+irjBH+HTtr4835XvmAm3vp6KnpRxPbe+fqpY28dvt75j9AkiL6C3vp8XSEO1zre+BBZsj1H7t74uvWF44DC4vvjkSEhSyri+htL/oEwqub4iSHFnAoK3vidUKH/sMbK+DjiLehaPnL6wCrw9CkipPv1W8nLJqMY+LZymcT2u1j4WHgquX43bPjnxK8jP19Y+BCbpKeRLzz4MfxxcPivAPmkc8Amp/6I+01EDFWWWl75+Agcx8quvvqDYsI+z2bW+9JiWfuQZub7XBsNr3XS6vt+3ddXkkLq+nXTeDgXaub5gl/U49dy3vvO6TkIKkrS+D8QUFFbEsr5eTnvejT+1vqap8J4ONLu+ZpEyYYstwr4g8JwmMuHOvhH5UXvLY+O+qxKEJq5i9L64jZGNPG0CvzxofAr88Qy/QW4DXqqjE7/aRsM3whoWv13beE/+WxG/mJsw5VKxrj5yZ1kJc0EhP59JkhQOBTc/6TTEIFeORj/nNOJ9KUBTP325yQsUKF4/+S2hF7pGZj8WLi/pvWtvP7fF6otTWHU/TOPT9ywcfD8zmHf/Ff6BPwufDfavd4Y/arLAA3Vdiz886lwPLjaQP/e9Lymcr5I/4ejeThhQlj+cf+kkw0CZP4zx5S5XeZs/V49wZGIWnT9jnysK7hmdP4lSV0v19Zw/pgVYeTwMnT85La3DJ1adPxZZy5rh0Z0/0x/CQUCTnj856s8bes2fP6ZIhmjpFKE/\",\"dtype\":\"float64\",\"shape\":[75]},\"y\":{\"__ndarray__\":\"GhExyth1ND/Sv8nbtpRIP2vylNV0PVE/aTum7souWD/At0SJ8fVgPw3Iuahxymc/MSNhhJWvcD/bTfBN02d3P2zb5nxnaoA/CD5h5MAGhz8NmeH1TyaQP+zrCsc9p5Y/LbKd76fGnz/bLW5ISEmmPww9YvTcQq8/JV2OstnstT8Er5Y7M8G+P0c+r3jqkcU/5h99k6ZBzj88bCIzFzjVP4enV8oyxN0//yH99nXg5D8qOpLLf0jtP5kqGJXUifQ/c9cS8kHP/D+/DpwzojQEQIEmwoanVwxA4lgXt9HgE0BSSZ2AJuIbQAMJih9jjiNA5q4l5INuK0AwTKYKRj0zQNv5fmq8/DpAaCJseHrtQkB/+zpwzoxKQM3MzMzMeFJAZmZmZmZqWEAAAAAAAFxeQM3MzMzMJmJAmpmZmZkfZUBmZmZmZhhoQDMzMzMzEWtAAAAAAAAKbkBmZmZmZoFwQM3MzMzM/XFAMzMzMzN6c0CamZmZmfZ0QAAAAAAAc3ZAZmZmZmbvd0DNzMzMzGt5QDMzMzMz6HpAmpmZmZlkfEAAAAAAAOF9QGZmZmZmXX9AZmZmZuZsgECamZmZGSuBQM3MzMxM6YFAAAAAAICngkAzMzMzs2WDQGZmZmbmI4RAmpmZmRnihEDNzMzMTKCFQAAAAACAXoZAMzMzM7Mch0BmZmZm5tqHQJqZmZkZmYhAzczMzExXiUAAAAAAgBWKQDMzMzOz04pAZmZmZuaRi0CamZmZGVCMQM3MzMxMDo1AAAAAAIDMjUAzMzMzs4qOQGZmZmbmSI9A\",\"dtype\":\"float64\",\"shape\":[75]}},\"selected\":{\"id\":\"39e8ec02-32fd-4826-b5f3-ed01a67cb067\",\"type\":\"Selection\"},\"selection_policy\":{\"id\":\"b644e465-87a5-4649-86b9-6ffde52e6918\",\"type\":\"UnionRenderers\"}},\"id\":\"f9d70e92-b880-4e57-9c6f-7505c6fdafe4\",\"type\":\"ColumnDataSource\"},{\"attributes\":{\"data_source\":{\"id\":\"7995ed62-85a0-4308-bc23-43ceaaae6d6f\",\"type\":\"ColumnDataSource\"},\"glyph\":{\"id\":\"2331c4ad-bbaf-4579-9611-de5be00a54f3\",\"type\":\"Circle\"},\"hover_glyph\":null,\"muted_glyph\":null,\"nonselection_glyph\":{\"id\":\"51a07050-de18-4ee4-a643-13968d41b796\",\"type\":\"Circle\"},\"selection_glyph\":null,\"view\":{\"id\":\"81f378a8-62f3-42f5-8127-eb50901634cf\",\"type\":\"CDSView\"}},\"id\":\"ce48b90b-b639-4f94-9700-4d1c359ec99d\",\"type\":\"GlyphRenderer\"},{\"attributes\":{\"dimension\":1,\"plot\":{\"id\":\"39add409-5d11-4508-9ee3-2da300374278\",\"subtype\":\"Figure\",\"type\":\"Plot\"},\"ticker\":{\"id\":\"18cc14c8-273d-4b16-aa49-b768fb931be1\",\"type\":\"LogTicker\"}},\"id\":\"55137ff7-99d2-451f-afd3-1080c5cf083a\",\"type\":\"Grid\"},{\"attributes\":{\"data_source\":{\"id\":\"f9d70e92-b880-4e57-9c6f-7505c6fdafe4\",\"type\":\"ColumnDataSource\"},\"glyph\":{\"id\":\"5a10dda9-8156-41af-a00c-55e3e7a88616\",\"type\":\"Line\"},\"hover_glyph\":null,\"muted_glyph\":null,\"nonselection_glyph\":{\"id\":\"863803a0-75fb-40da-8454-539bd1e8daff\",\"type\":\"Line\"},\"selection_glyph\":null,\"view\":{\"id\":\"c69d3209-d1d0-4c88-b971-2c6f97312c1b\",\"type\":\"CDSView\"}},\"id\":\"a6580a0d-cf70-4083-ae68-4997a8d9d214\",\"type\":\"GlyphRenderer\"},{\"attributes\":{\"source\":{\"id\":\"7995ed62-85a0-4308-bc23-43ceaaae6d6f\",\"type\":\"ColumnDataSource\"}},\"id\":\"81f378a8-62f3-42f5-8127-eb50901634cf\",\"type\":\"CDSView\"},{\"attributes\":{\"overlay\":{\"id\":\"ce100c7f-f2e2-4207-8883-499433f82164\",\"type\":\"BoxAnnotation\"}},\"id\":\"88a332d7-b7d1-48e2-af72-6efe79aa843f\",\"type\":\"BoxZoomTool\"},{\"attributes\":{},\"id\":\"0bbc28bc-e1f5-4800-90fb-24cda97bc056\",\"type\":\"WheelZoomTool\"},{\"attributes\":{},\"id\":\"80b7232e-d386-468b-835b-ba352f38d17a\",\"type\":\"ResetTool\"},{\"attributes\":{},\"id\":\"50cd6a8c-17d5-43f2-b9d2-b01891bc7c44\",\"type\":\"SaveTool\"},{\"attributes\":{},\"id\":\"18ad44e9-e896-4d7f-af04-3e205ebe399e\",\"type\":\"PanTool\"},{\"attributes\":{\"line_alpha\":0.1,\"line_color\":\"#1f77b4\",\"line_width\":3,\"x\":{\"field\":\"x\"},\"y\":{\"field\":\"y\"}},\"id\":\"cf4c2fc6-188d-4ed5-b971-0a47d42643f7\",\"type\":\"Line\"},{\"attributes\":{},\"id\":\"54bd3ced-1cef-40b4-a7b5-48582ade11c1\",\"type\":\"Selection\"},{\"attributes\":{},\"id\":\"94b5612e-1a46-4c1d-8aa5-14cf89e7008e\",\"type\":\"UnionRenderers\"},{\"attributes\":{},\"id\":\"b644e465-87a5-4649-86b9-6ffde52e6918\",\"type\":\"UnionRenderers\"},{\"attributes\":{\"callback\":null,\"end\":0.040451822199700005,\"start\":-0.0005340421697},\"id\":\"1a2e91ea-1ea1-4078-a471-014ae1d09ddd\",\"type\":\"Range1d\"},{\"attributes\":{},\"id\":\"72a35971-0e29-41d2-a102-fda38aba395a\",\"type\":\"UnionRenderers\"},{\"attributes\":{},\"id\":\"36df0ac0-89db-4df0-9725-0969e91759cd\",\"type\":\"UnionRenderers\"},{\"attributes\":{},\"id\":\"9d58b2bf-eeeb-4cd8-b048-45ee2cc8710b\",\"type\":\"BasicTickFormatter\"},{\"attributes\":{},\"id\":\"39e8ec02-32fd-4826-b5f3-ed01a67cb067\",\"type\":\"Selection\"},{\"attributes\":{\"data_source\":{\"id\":\"a95ff4d5-52e6-417a-906d-1fbd49f5603a\",\"type\":\"ColumnDataSource\"},\"glyph\":{\"id\":\"e910e8e4-a6dc-4ce0-b15b-4b99213d6eb4\",\"type\":\"Line\"},\"hover_glyph\":null,\"muted_glyph\":null,\"nonselection_glyph\":{\"id\":\"cf4c2fc6-188d-4ed5-b971-0a47d42643f7\",\"type\":\"Line\"},\"selection_glyph\":null,\"view\":{\"id\":\"118f1066-5dd9-4dcb-a497-1fc07676498e\",\"type\":\"CDSView\"}},\"id\":\"3b969ccb-e219-4883-81ea-52d5bdb5e865\",\"type\":\"GlyphRenderer\"},{\"attributes\":{},\"id\":\"b7b433bc-58cc-49f6-be0a-81dc552993cb\",\"type\":\"UnionRenderers\"},{\"attributes\":{},\"id\":\"d1e24056-ca84-4721-a700-258867b956ad\",\"type\":\"Selection\"},{\"attributes\":{\"plot\":null,\"text\":\"\"},\"id\":\"078c40b4-2ffe-4dac-89a0-32f8e9fd4ec2\",\"type\":\"Title\"},{\"attributes\":{\"source\":{\"id\":\"7505546d-a2e6-4e8f-96bf-c457b40bac7f\",\"type\":\"ColumnDataSource\"}},\"id\":\"3eece0e1-a85a-40fd-abbe-c40a1d3851ce\",\"type\":\"CDSView\"},{\"attributes\":{\"data_source\":{\"id\":\"b34d61b7-375c-42b7-8b16-f03647fcfe60\",\"type\":\"ColumnDataSource\"},\"glyph\":{\"id\":\"4ca96638-5e63-404c-a4f2-af3a8d5c6198\",\"type\":\"Triangle\"},\"hover_glyph\":null,\"muted_glyph\":null,\"nonselection_glyph\":{\"id\":\"2c7611f1-0ddd-4613-9906-93767b783830\",\"type\":\"Triangle\"},\"selection_glyph\":null,\"view\":{\"id\":\"453c71e0-26ed-4711-89f3-f5663d2cc049\",\"type\":\"CDSView\"}},\"id\":\"f616bbb0-2618-4d21-a5da-083df6471214\",\"type\":\"GlyphRenderer\"},{\"attributes\":{\"ticker\":null},\"id\":\"8faefd36-3287-4576-a033-fc4f6bcb9bdb\",\"type\":\"LogTickFormatter\"},{\"attributes\":{\"fill_alpha\":{\"value\":0.1},\"fill_color\":{\"value\":\"#1f77b4\"},\"line_alpha\":{\"value\":0.1},\"line_color\":{\"value\":\"#1f77b4\"},\"x\":{\"field\":\"x\"},\"y\":{\"field\":\"y\"}},\"id\":\"2c7611f1-0ddd-4613-9906-93767b783830\",\"type\":\"Triangle\"},{\"attributes\":{},\"id\":\"17560a05-d558-4202-be21-f81c5245be81\",\"type\":\"UnionRenderers\"},{\"attributes\":{\"line_alpha\":0.1,\"line_color\":\"#1f77b4\",\"line_width\":2,\"x\":{\"field\":\"x\"},\"y\":{\"field\":\"y\"}},\"id\":\"0cbb4dba-8e24-4943-b540-dee59b87af60\",\"type\":\"Line\"},{\"attributes\":{},\"id\":\"596d2d5d-100b-431c-b3c8-5ba62808aeb7\",\"type\":\"Selection\"},{\"attributes\":{\"fill_alpha\":{\"value\":0.1},\"fill_color\":{\"value\":\"#1f77b4\"},\"line_alpha\":{\"value\":0.1},\"line_color\":{\"value\":\"#1f77b4\"},\"x\":{\"field\":\"x\"},\"y\":{\"field\":\"y\"}},\"id\":\"ad2fc016-60c5-498b-9cbc-7fe0f7cc5310\",\"type\":\"Square\"},{\"attributes\":{},\"id\":\"1c528857-c588-4c57-9673-2a17500b2895\",\"type\":\"Selection\"},{\"attributes\":{\"callback\":null,\"data\":{\"x\":{\"__ndarray__\":\"0S0ZERChrL5ZroVX+MusvhZHOZIBI62+LOj7x156rb7tftwi5tCtvj0iuySHJq6+D6GFeBV7rr5j7WiGpc6uvmI5an3iIK++HqTjPuJxr76QS3LqgcGvvln0pWfYB7C+mgXXe1susL6lkmn7FF6wviPamwgI9LC+0yrEsr66sb5kYLogYJ2xvlBodQE2VK++7vieusWGpb4ANQXsefF0vlE/ARfF6K0+PCIgiawOwz6ScuZAux7IPiw9Jty8UcM+9wy0jFrytz5E8Z7kYCehPj0GWU+ISYe+2/Ibpooepb40F2MVoNyuvrTnCRWEV7K+sLkZAsHos741FHjwwJe0vpjrlz5yurS+TliLegmCtL59XALpQ3WzvmqMUFAhbbG+W5iCCglusL76SkBXnN6yvt4YTUgwUri+Fa2Ka7llwL6Gs0TeuC7MvhEG8hWS+OG+5KOo7i9K8779a7JClvMBv3colX7zcA2/3//61xBdFb+FFN/vYBsbv7wCNKhgNBy/at4FE4XyE78esyaF9gXPPlZN6BoTjiM/ijfvIet4OT+AeeC0Vo5IP58RaTavrFQ/bizK4+cKYD9CatZ6v4hnP77s/2W8gnA/aQvAabdidj+y5ac86299P9UnB5y22YI/TJzQfLKIhz+qoqBdg5OMP58xVETU5JA/myp4BwHElD/uDrmxikuYP/r9UYoMYZs/hQQVIM0Cnj+1OTsK8feePyUFwL/bmJ8/BBtgsUkooD/vCXy/fY+gP2t8IUIuAaE/2/fJzUeEoT9cA9Iz+ieiP9/YIzzwHaM/\",\"dtype\":\"float64\",\"shape\":[75]},\"y\":{\"__ndarray__\":\"GhExyth1ND/Sv8nbtpRIP2vylNV0PVE/aTum7souWD/At0SJ8fVgPw3Iuahxymc/MSNhhJWvcD/bTfBN02d3P2zb5nxnaoA/CD5h5MAGhz8NmeH1TyaQP+zrCsc9p5Y/LbKd76fGnz/bLW5ISEmmPww9YvTcQq8/JV2OstnstT8Er5Y7M8G+P0c+r3jqkcU/5h99k6ZBzj88bCIzFzjVP4enV8oyxN0//yH99nXg5D8qOpLLf0jtP5kqGJXUifQ/c9cS8kHP/D+/DpwzojQEQIEmwoanVwxA4lgXt9HgE0BSSZ2AJuIbQAMJih9jjiNA5q4l5INuK0AwTKYKRj0zQNv5fmq8/DpAaCJseHrtQkB/+zpwzoxKQM3MzMzMeFJAZmZmZmZqWEAAAAAAAFxeQM3MzMzMJmJAmpmZmZkfZUBmZmZmZhhoQDMzMzMzEWtAAAAAAAAKbkBmZmZmZoFwQM3MzMzM/XFAMzMzMzN6c0CamZmZmfZ0QAAAAAAAc3ZAZmZmZmbvd0DNzMzMzGt5QDMzMzMz6HpAmpmZmZlkfEAAAAAAAOF9QGZmZmZmXX9AZmZmZuZsgECamZmZGSuBQM3MzMxM6YFAAAAAAICngkAzMzMzs2WDQGZmZmbmI4RAmpmZmRnihEDNzMzMTKCFQAAAAACAXoZAMzMzM7Mch0BmZmZm5tqHQJqZmZkZmYhAzczMzExXiUAAAAAAgBWKQDMzMzOz04pAZmZmZuaRi0CamZmZGVCMQM3MzMxMDo1AAAAAAIDMjUAzMzMzs4qOQGZmZmbmSI9A\",\"dtype\":\"float64\",\"shape\":[75]}},\"selected\":{\"id\":\"77a7710b-d217-41f5-8df2-09a227994510\",\"type\":\"Selection\"},\"selection_policy\":{\"id\":\"58212ef7-3445-417f-bf54-f336e78a8a21\",\"type\":\"UnionRenderers\"}},\"id\":\"a95ff4d5-52e6-417a-906d-1fbd49f5603a\",\"type\":\"ColumnDataSource\"},{\"attributes\":{},\"id\":\"fb1d6c7e-abf6-462a-b9f2-c3ae920c0456\",\"type\":\"UnionRenderers\"},{\"attributes\":{},\"id\":\"c8b33f20-9291-4fce-a09b-c3dd2537d946\",\"type\":\"UnionRenderers\"},{\"attributes\":{},\"id\":\"a25ad1d2-6243-403d-88ad-0a5c0581b03a\",\"type\":\"UnionRenderers\"},{\"attributes\":{},\"id\":\"1e22b426-3f81-4d1e-b464-7169b8f9f915\",\"type\":\"Selection\"},{\"attributes\":{\"toolbar\":{\"id\":\"53aa1c14-4733-432b-b83a-8024860a314c\",\"type\":\"ProxyToolbar\"},\"toolbar_location\":\"above\"},\"id\":\"e42b5779-1e98-4dc5-8d18-e961242fc4b8\",\"type\":\"ToolbarBox\"},{\"attributes\":{\"source\":{\"id\":\"b34d61b7-375c-42b7-8b16-f03647fcfe60\",\"type\":\"ColumnDataSource\"}},\"id\":\"453c71e0-26ed-4711-89f3-f5663d2cc049\",\"type\":\"CDSView\"},{\"attributes\":{},\"id\":\"a06f2e16-d704-4e3f-a8c2-b91368c05ca6\",\"type\":\"Selection\"},{\"attributes\":{\"fill_alpha\":{\"value\":0.7},\"fill_color\":{\"value\":\"#984ea3\"},\"line_alpha\":{\"value\":0.7},\"line_color\":{\"value\":\"#984ea3\"},\"x\":{\"field\":\"x\"},\"y\":{\"field\":\"y\"}},\"id\":\"dc6103be-2f4d-4df2-a787-74ecf4606350\",\"type\":\"Square\"},{\"attributes\":{},\"id\":\"740be19d-80e3-4d3f-82ad-5420a56177b9\",\"type\":\"Selection\"},{\"attributes\":{\"children\":[{\"id\":\"e42b5779-1e98-4dc5-8d18-e961242fc4b8\",\"type\":\"ToolbarBox\"},{\"id\":\"cc0ed8db-23c4-427e-9ec0-2b0b41c7aaff\",\"type\":\"Column\"}]},\"id\":\"90560d01-a0fb-4cc5-919e-b2808525a3d8\",\"type\":\"Column\"},{\"attributes\":{\"source\":{\"id\":\"a95ff4d5-52e6-417a-906d-1fbd49f5603a\",\"type\":\"ColumnDataSource\"}},\"id\":\"118f1066-5dd9-4dcb-a497-1fc07676498e\",\"type\":\"CDSView\"},{\"attributes\":{\"data_source\":{\"id\":\"7505546d-a2e6-4e8f-96bf-c457b40bac7f\",\"type\":\"ColumnDataSource\"},\"glyph\":{\"id\":\"dc6103be-2f4d-4df2-a787-74ecf4606350\",\"type\":\"Square\"},\"hover_glyph\":null,\"muted_glyph\":null,\"nonselection_glyph\":{\"id\":\"ad2fc016-60c5-498b-9cbc-7fe0f7cc5310\",\"type\":\"Square\"},\"selection_glyph\":null,\"view\":{\"id\":\"3eece0e1-a85a-40fd-abbe-c40a1d3851ce\",\"type\":\"CDSView\"}},\"id\":\"d3088606-8ed6-4a15-9887-2cb55c8aaf73\",\"type\":\"GlyphRenderer\"},{\"attributes\":{},\"id\":\"f9d67871-003d-4e48-922e-6a76235b8670\",\"type\":\"Selection\"},{\"attributes\":{\"above\":[{\"id\":\"8fad7b26-3485-4ac0-9662-d6933a040fef\",\"type\":\"Legend\"}],\"below\":[{\"id\":\"78e0e158-62c4-4f83-8318-23fb5fb2ae84\",\"type\":\"LinearAxis\"}],\"left\":[{\"id\":\"356523a6-3b1a-4cd2-ad2c-1518eac3c120\",\"type\":\"LogAxis\"}],\"plot_height\":500,\"plot_width\":400,\"renderers\":[{\"id\":\"78e0e158-62c4-4f83-8318-23fb5fb2ae84\",\"type\":\"LinearAxis\"},{\"id\":\"0df67fe1-324f-4347-aa54-baa879e7f93e\",\"type\":\"Grid\"},{\"id\":\"356523a6-3b1a-4cd2-ad2c-1518eac3c120\",\"type\":\"LogAxis\"},{\"id\":\"55137ff7-99d2-451f-afd3-1080c5cf083a\",\"type\":\"Grid\"},{\"id\":\"2587c724-c1c3-4fa4-8492-63a9f3ed555a\",\"type\":\"BoxAnnotation\"},{\"id\":\"83f7c3d6-f480-4ba3-adad-a035e9168c0b\",\"type\":\"GlyphRenderer\"},{\"id\":\"07c5006e-552a-4c45-82eb-da5ea3df7ead\",\"type\":\"GlyphRenderer\"},{\"id\":\"1db28f95-4077-480d-ae61-767658481169\",\"type\":\"GlyphRenderer\"},{\"id\":\"52f6b146-0a51-43da-819d-5bfb172fe79f\",\"type\":\"GlyphRenderer\"},{\"id\":\"ec13acdd-9b55-48b3-bae7-860aa3643b08\",\"type\":\"GlyphRenderer\"},{\"id\":\"858b5d55-e42f-4850-9d3f-59c020a91423\",\"type\":\"GlyphRenderer\"},{\"id\":\"8fad7b26-3485-4ac0-9662-d6933a040fef\",\"type\":\"Legend\"}],\"title\":{\"id\":\"078c40b4-2ffe-4dac-89a0-32f8e9fd4ec2\",\"type\":\"Title\"},\"toolbar\":{\"id\":\"6417cf79-7548-44cc-9a45-5db8986e9ac3\",\"type\":\"Toolbar\"},\"toolbar_location\":null,\"x_range\":{\"id\":\"2c8233bb-ef6a-452a-8205-513682f65045\",\"type\":\"Range1d\"},\"x_scale\":{\"id\":\"193c524b-b1e8-4dce-8136-da52702a1e83\",\"type\":\"LinearScale\"},\"y_range\":{\"id\":\"c4ef1940-ad71-4c63-8d90-b8174198d951\",\"type\":\"Range1d\"},\"y_scale\":{\"id\":\"b968bcdd-3f66-4a74-8bc0-9b62153aa7d5\",\"type\":\"LogScale\"}},\"id\":\"39add409-5d11-4508-9ee3-2da300374278\",\"subtype\":\"Figure\",\"type\":\"Plot\"},{\"attributes\":{\"tools\":[{\"id\":\"18ad44e9-e896-4d7f-af04-3e205ebe399e\",\"type\":\"PanTool\"},{\"id\":\"0bbc28bc-e1f5-4800-90fb-24cda97bc056\",\"type\":\"WheelZoomTool\"},{\"id\":\"88a332d7-b7d1-48e2-af72-6efe79aa843f\",\"type\":\"BoxZoomTool\"},{\"id\":\"50cd6a8c-17d5-43f2-b9d2-b01891bc7c44\",\"type\":\"SaveTool\"},{\"id\":\"80b7232e-d386-468b-835b-ba352f38d17a\",\"type\":\"ResetTool\"},{\"id\":\"af17def1-29d8-440b-85b2-27046e25ae26\",\"type\":\"HelpTool\"},{\"id\":\"08211f54-34d8-44bc-b5eb-f34b97faa619\",\"type\":\"PanTool\"},{\"id\":\"c371d010-e72c-4641-9d38-d503c2684a45\",\"type\":\"WheelZoomTool\"},{\"id\":\"97b8f5ba-22e0-4edd-bc7a-fe86fb29063c\",\"type\":\"BoxZoomTool\"},{\"id\":\"dea6400a-9120-4fce-af47-0a65a453f87f\",\"type\":\"SaveTool\"},{\"id\":\"dd7095f5-938f-4823-a06e-f2af527e413b\",\"type\":\"ResetTool\"},{\"id\":\"60570b1d-6bd4-4be3-b825-80723df0cf1d\",\"type\":\"HelpTool\"}]},\"id\":\"53aa1c14-4733-432b-b83a-8024860a314c\",\"type\":\"ProxyToolbar\"},{\"attributes\":{\"line_alpha\":0.6,\"line_color\":\"#984ea3\",\"line_width\":3,\"x\":{\"field\":\"x\"},\"y\":{\"field\":\"y\"}},\"id\":\"e910e8e4-a6dc-4ce0-b15b-4b99213d6eb4\",\"type\":\"Line\"},{\"attributes\":{\"source\":{\"id\":\"f9d70e92-b880-4e57-9c6f-7505c6fdafe4\",\"type\":\"ColumnDataSource\"}},\"id\":\"c69d3209-d1d0-4c88-b971-2c6f97312c1b\",\"type\":\"CDSView\"},{\"attributes\":{\"line_alpha\":0.3,\"line_color\":\"#377eb8\",\"line_width\":2,\"x\":{\"field\":\"x\"},\"y\":{\"field\":\"y\"}},\"id\":\"e8786e64-e53b-4ad7-bb4c-c6f380a713a2\",\"type\":\"Line\"},{\"attributes\":{\"source\":{\"id\":\"6e2c6ad3-f250-419d-97c0-93d239cc5329\",\"type\":\"ColumnDataSource\"}},\"id\":\"67d2c6c0-3607-4460-a816-fb4c909b8648\",\"type\":\"CDSView\"},{\"attributes\":{},\"id\":\"b411362d-356e-4808-83ca-0873ac15cad3\",\"type\":\"UnionRenderers\"},{\"attributes\":{\"callback\":null,\"data\":{\"x\":{\"__ndarray__\":\"0S0ZERChrL5ZroVX+MusvhZHOZIBI62+LOj7x156rb7tftwi5tCtvj0iuySHJq6+D6GFeBV7rr5j7WiGpc6uvmI5an3iIK++HqTjPuJxr76QS3LqgcGvvln0pWfYB7C+mgXXe1susL6lkmn7FF6wviPamwgI9LC+0yrEsr66sb5kYLogYJ2xvlBodQE2VK++7vieusWGpb4ANQXsefF0vlE/ARfF6K0+PCIgiawOwz6ScuZAux7IPiw9Jty8UcM+9wy0jFrytz5E8Z7kYCehPj0GWU+ISYe+2/Ibpooepb40F2MVoNyuvrTnCRWEV7K+sLkZAsHos741FHjwwJe0vpjrlz5yurS+TliLegmCtL59XALpQ3WzvmqMUFAhbbG+W5iCCglusL76SkBXnN6yvt4YTUgwUri+Fa2Ka7llwL6Gs0TeuC7MvhEG8hWS+OG+5KOo7i9K8779a7JClvMBv3colX7zcA2/3//61xBdFb+FFN/vYBsbv7wCNKhgNBy/at4FE4XyE78esyaF9gXPPlZN6BoTjiM/ijfvIet4OT+AeeC0Vo5IP58RaTavrFQ/bizK4+cKYD9CatZ6v4hnP77s/2W8gnA/aQvAabdidj+y5ac86299P9UnB5y22YI/TJzQfLKIhz+qoqBdg5OMP58xVETU5JA/myp4BwHElD/uDrmxikuYP/r9UYoMYZs/hQQVIM0Cnj+1OTsK8feePyUFwL/bmJ8/BBtgsUkooD/vCXy/fY+gP2t8IUIuAaE/2/fJzUeEoT9cA9Iz+ieiP9/YIzzwHaM/\",\"dtype\":\"float64\",\"shape\":[75]},\"y\":{\"__ndarray__\":\"GhExyth1ND/Sv8nbtpRIP2vylNV0PVE/aTum7souWD/At0SJ8fVgPw3Iuahxymc/MSNhhJWvcD/bTfBN02d3P2zb5nxnaoA/CD5h5MAGhz8NmeH1TyaQP+zrCsc9p5Y/LbKd76fGnz/bLW5ISEmmPww9YvTcQq8/JV2OstnstT8Er5Y7M8G+P0c+r3jqkcU/5h99k6ZBzj88bCIzFzjVP4enV8oyxN0//yH99nXg5D8qOpLLf0jtP5kqGJXUifQ/c9cS8kHP/D+/DpwzojQEQIEmwoanVwxA4lgXt9HgE0BSSZ2AJuIbQAMJih9jjiNA5q4l5INuK0AwTKYKRj0zQNv5fmq8/DpAaCJseHrtQkB/+zpwzoxKQM3MzMzMeFJAZmZmZmZqWEAAAAAAAFxeQM3MzMzMJmJAmpmZmZkfZUBmZmZmZhhoQDMzMzMzEWtAAAAAAAAKbkBmZmZmZoFwQM3MzMzM/XFAMzMzMzN6c0CamZmZmfZ0QAAAAAAAc3ZAZmZmZmbvd0DNzMzMzGt5QDMzMzMz6HpAmpmZmZlkfEAAAAAAAOF9QGZmZmZmXX9AZmZmZuZsgECamZmZGSuBQM3MzMxM6YFAAAAAAICngkAzMzMzs2WDQGZmZmbmI4RAmpmZmRnihEDNzMzMTKCFQAAAAACAXoZAMzMzM7Mch0BmZmZm5tqHQJqZmZkZmYhAzczMzExXiUAAAAAAgBWKQDMzMzOz04pAZmZmZuaRi0CamZmZGVCMQM3MzMxMDo1AAAAAAIDMjUAzMzMzs4qOQGZmZmbmSI9A\",\"dtype\":\"float64\",\"shape\":[75]}},\"selected\":{\"id\":\"d1e24056-ca84-4721-a700-258867b956ad\",\"type\":\"Selection\"},\"selection_policy\":{\"id\":\"72a35971-0e29-41d2-a102-fda38aba395a\",\"type\":\"UnionRenderers\"}},\"id\":\"7505546d-a2e6-4e8f-96bf-c457b40bac7f\",\"type\":\"ColumnDataSource\"},{\"attributes\":{\"callback\":null,\"data\":{\"x\":{\"__ndarray__\":\"/vH82lqXtb4E/NdAv7S1vpx9kG8W8LW+trxqvBgrtr4h9zjTnmS2vuhXHzXinLa+irjBH+HTtr4835XvmAm3vp6KnpRxPbe+fqpY28dvt75j9AkiL6C3vp8XSEO1zre+BBZsj1H7t74uvWF44DC4vvjkSEhSyri+htL/oEwqub4iSHFnAoK3vidUKH/sMbK+DjiLehaPnL6wCrw9CkipPv1W8nLJqMY+LZymcT2u1j4WHgquX43bPjnxK8jP19Y+BCbpKeRLzz4MfxxcPivAPmkc8Amp/6I+01EDFWWWl75+Agcx8quvvqDYsI+z2bW+9JiWfuQZub7XBsNr3XS6vt+3ddXkkLq+nXTeDgXaub5gl/U49dy3vvO6TkIKkrS+D8QUFFbEsr5eTnvejT+1vqap8J4ONLu+ZpEyYYstwr4g8JwmMuHOvhH5UXvLY+O+qxKEJq5i9L64jZGNPG0CvzxofAr88Qy/QW4DXqqjE7/aRsM3whoWv13beE/+WxG/mJsw5VKxrj5yZ1kJc0EhP59JkhQOBTc/6TTEIFeORj/nNOJ9KUBTP325yQsUKF4/+S2hF7pGZj8WLi/pvWtvP7fF6otTWHU/TOPT9ywcfD8zmHf/Ff6BPwufDfavd4Y/arLAA3Vdiz886lwPLjaQP/e9Lymcr5I/4ejeThhQlj+cf+kkw0CZP4zx5S5XeZs/V49wZGIWnT9jnysK7hmdP4lSV0v19Zw/pgVYeTwMnT85La3DJ1adPxZZy5rh0Z0/0x/CQUCTnj856s8bes2fP6ZIhmjpFKE/\",\"dtype\":\"float64\",\"shape\":[75]},\"y\":{\"__ndarray__\":\"GhExyth1ND/Sv8nbtpRIP2vylNV0PVE/aTum7souWD/At0SJ8fVgPw3Iuahxymc/MSNhhJWvcD/bTfBN02d3P2zb5nxnaoA/CD5h5MAGhz8NmeH1TyaQP+zrCsc9p5Y/LbKd76fGnz/bLW5ISEmmPww9YvTcQq8/JV2OstnstT8Er5Y7M8G+P0c+r3jqkcU/5h99k6ZBzj88bCIzFzjVP4enV8oyxN0//yH99nXg5D8qOpLLf0jtP5kqGJXUifQ/c9cS8kHP/D+/DpwzojQEQIEmwoanVwxA4lgXt9HgE0BSSZ2AJuIbQAMJih9jjiNA5q4l5INuK0AwTKYKRj0zQNv5fmq8/DpAaCJseHrtQkB/+zpwzoxKQM3MzMzMeFJAZmZmZmZqWEAAAAAAAFxeQM3MzMzMJmJAmpmZmZkfZUBmZmZmZhhoQDMzMzMzEWtAAAAAAAAKbkBmZmZmZoFwQM3MzMzM/XFAMzMzMzN6c0CamZmZmfZ0QAAAAAAAc3ZAZmZmZmbvd0DNzMzMzGt5QDMzMzMz6HpAmpmZmZlkfEAAAAAAAOF9QGZmZmZmXX9AZmZmZuZsgECamZmZGSuBQM3MzMxM6YFAAAAAAICngkAzMzMzs2WDQGZmZmbmI4RAmpmZmRnihEDNzMzMTKCFQAAAAACAXoZAMzMzM7Mch0BmZmZm5tqHQJqZmZkZmYhAzczMzExXiUAAAAAAgBWKQDMzMzOz04pAZmZmZuaRi0CamZmZGVCMQM3MzMxMDo1AAAAAAIDMjUAzMzMzs4qOQGZmZmbmSI9A\",\"dtype\":\"float64\",\"shape\":[75]}},\"selected\":{\"id\":\"54bd3ced-1cef-40b4-a7b5-48582ade11c1\",\"type\":\"Selection\"},\"selection_policy\":{\"id\":\"94b5612e-1a46-4c1d-8aa5-14cf89e7008e\",\"type\":\"UnionRenderers\"}},\"id\":\"7995ed62-85a0-4308-bc23-43ceaaae6d6f\",\"type\":\"ColumnDataSource\"},{\"attributes\":{\"callback\":null,\"data\":{\"x\":{\"__ndarray__\":\"qJElwDfyqb765Ckauxuqvj+ht+5pbqq+M+sxtZDCqr4xFU6EGharvivu+QbbaKu+Fa5LhDq7q76TXv58vQysvvJLN+uJXay+5SnR1HmtrL6TGvXYhPysvgdzQECnSq2+ZOChTRiYrb5NuqZl7Pitvlkh+TNFMq++NF7E94+FsL5Ydhc+i8+wvpzG683DTK++70QPPrw+qL6IKERK/6KTvn2c9yjcaZ8+L14AfINQuj7WtvE0gDfBPlxA/RFstbo+WjbQNp3jrT7gvCqT3OaFPiU1gSW9FJm+bFsDi51PqL6bGnTrK5evvnmiBI783LG+o0g6PN7dsr4brGHEwi6zvkzcr1PJFbO+PsuTlZa4sr44u2iBGZ6xvorOcdoUV6++3xsjfWF2rb6DSxvA+POwvmlFYsVU+rW+FhCM1/TYvb7pgQP2D+DJvnqDyHKDruC+RoUHfWYp8r6zj8w7DTkBv8pAxnF8/gy/ageA2sbdFb811+cqhYgdvwXe4OSQVCG/J0Y0mwHhH79HgX/zxK0Tv33uCRm4afs+qqitDn7jKj9EZQWhDwtAPzbcEL350k0/P+mxHtigWD/OLw22ZuFiP6MfePmwd2s/u5JjOakycz9IvKTJv/F5P2NnYcK1CYE/BvqNdNvFhT+znLnE5weLP+9XnpMgVJA/6rS6ESCHlD/HUpP8YpiYP3w6eqMmX5w/7dzI/Y3Enz8+v4X7HK2gPxAYNamyOaE/PBQmCC7BoT8yv77Je0SiP7AN1cdVwqI/Z7VqHlpAoz/MG1AEq8mjP4zbaABvgaQ/\",\"dtype\":\"float64\",\"shape\":[75]},\"y\":{\"__ndarray__\":\"GhExyth1ND/Sv8nbtpRIP2vylNV0PVE/aTum7souWD/At0SJ8fVgPw3Iuahxymc/MSNhhJWvcD/bTfBN02d3P2zb5nxnaoA/CD5h5MAGhz8NmeH1TyaQP+zrCsc9p5Y/LbKd76fGnz/bLW5ISEmmPww9YvTcQq8/JV2OstnstT8Er5Y7M8G+P0c+r3jqkcU/5h99k6ZBzj88bCIzFzjVP4enV8oyxN0//yH99nXg5D8qOpLLf0jtP5kqGJXUifQ/c9cS8kHP/D+/DpwzojQEQIEmwoanVwxA4lgXt9HgE0BSSZ2AJuIbQAMJih9jjiNA5q4l5INuK0AwTKYKRj0zQNv5fmq8/DpAaCJseHrtQkB/+zpwzoxKQM3MzMzMeFJAZmZmZmZqWEAAAAAAAFxeQM3MzMzMJmJAmpmZmZkfZUBmZmZmZhhoQDMzMzMzEWtAAAAAAAAKbkBmZmZmZoFwQM3MzMzM/XFAMzMzMzN6c0CamZmZmfZ0QAAAAAAAc3ZAZmZmZmbvd0DNzMzMzGt5QDMzMzMz6HpAmpmZmZlkfEAAAAAAAOF9QGZmZmZmXX9AZmZmZuZsgECamZmZGSuBQM3MzMxM6YFAAAAAAICngkAzMzMzs2WDQGZmZmbmI4RAmpmZmRnihEDNzMzMTKCFQAAAAACAXoZAMzMzM7Mch0BmZmZm5tqHQJqZmZkZmYhAzczMzExXiUAAAAAAgBWKQDMzMzOz04pAZmZmZuaRi0CamZmZGVCMQM3MzMxMDo1AAAAAAIDMjUAzMzMzs4qOQGZmZmbmSI9A\",\"dtype\":\"float64\",\"shape\":[75]}},\"selected\":{\"id\":\"a67c0110-4ab7-468b-b142-1e3d12019a41\",\"type\":\"Selection\"},\"selection_policy\":{\"id\":\"b411362d-356e-4808-83ca-0873ac15cad3\",\"type\":\"UnionRenderers\"}},\"id\":\"6e2c6ad3-f250-419d-97c0-93d239cc5329\",\"type\":\"ColumnDataSource\"},{\"attributes\":{\"fill_alpha\":{\"value\":0.7},\"fill_color\":{\"value\":\"#377eb8\"},\"line_alpha\":{\"value\":0.7},\"line_color\":{\"value\":\"#377eb8\"},\"x\":{\"field\":\"x\"},\"y\":{\"field\":\"y\"}},\"id\":\"4ca96638-5e63-404c-a4f2-af3a8d5c6198\",\"type\":\"Triangle\"},{\"attributes\":{\"items\":[{\"id\":\"efeba78c-df09-4046-8498-a2124ea99440\",\"type\":\"LegendItem\"},{\"id\":\"38e30922-4ff7-4cde-ab22-7f2a53956f84\",\"type\":\"LegendItem\"},{\"id\":\"2272b015-7518-4bf7-9bca-eeecdaf65e87\",\"type\":\"LegendItem\"}],\"label_text_font_size\":{\"value\":\"8pt\"},\"location\":\"top_center\",\"orientation\":\"horizontal\",\"plot\":{\"id\":\"9b436903-5f11-4c91-85a2-b25d6cfc4240\",\"subtype\":\"Figure\",\"type\":\"Plot\"}},\"id\":\"10ff3815-6ebc-476b-bb24-dabd4b791c01\",\"type\":\"Legend\"},{\"attributes\":{\"callback\":null,\"data\":{\"x\":{\"__ndarray__\":\"qJElwDfyqb765Ckauxuqvj+ht+5pbqq+M+sxtZDCqr4xFU6EGharvivu+QbbaKu+Fa5LhDq7q76TXv58vQysvvJLN+uJXay+5SnR1HmtrL6TGvXYhPysvgdzQECnSq2+ZOChTRiYrb5NuqZl7Pitvlkh+TNFMq++NF7E94+FsL5Ydhc+i8+wvpzG683DTK++70QPPrw+qL6IKERK/6KTvn2c9yjcaZ8+L14AfINQuj7WtvE0gDfBPlxA/RFstbo+WjbQNp3jrT7gvCqT3OaFPiU1gSW9FJm+bFsDi51PqL6bGnTrK5evvnmiBI783LG+o0g6PN7dsr4brGHEwi6zvkzcr1PJFbO+PsuTlZa4sr44u2iBGZ6xvorOcdoUV6++3xsjfWF2rb6DSxvA+POwvmlFYsVU+rW+FhCM1/TYvb7pgQP2D+DJvnqDyHKDruC+RoUHfWYp8r6zj8w7DTkBv8pAxnF8/gy/ageA2sbdFb811+cqhYgdvwXe4OSQVCG/J0Y0mwHhH79HgX/zxK0Tv33uCRm4afs+qqitDn7jKj9EZQWhDwtAPzbcEL350k0/P+mxHtigWD/OLw22ZuFiP6MfePmwd2s/u5JjOakycz9IvKTJv/F5P2NnYcK1CYE/BvqNdNvFhT+znLnE5weLP+9XnpMgVJA/6rS6ESCHlD/HUpP8YpiYP3w6eqMmX5w/7dzI/Y3Enz8+v4X7HK2gPxAYNamyOaE/PBQmCC7BoT8yv77Je0SiP7AN1cdVwqI/Z7VqHlpAoz/MG1AEq8mjP4zbaABvgaQ/\",\"dtype\":\"float64\",\"shape\":[75]},\"y\":{\"__ndarray__\":\"GhExyth1ND/Sv8nbtpRIP2vylNV0PVE/aTum7souWD/At0SJ8fVgPw3Iuahxymc/MSNhhJWvcD/bTfBN02d3P2zb5nxnaoA/CD5h5MAGhz8NmeH1TyaQP+zrCsc9p5Y/LbKd76fGnz/bLW5ISEmmPww9YvTcQq8/JV2OstnstT8Er5Y7M8G+P0c+r3jqkcU/5h99k6ZBzj88bCIzFzjVP4enV8oyxN0//yH99nXg5D8qOpLLf0jtP5kqGJXUifQ/c9cS8kHP/D+/DpwzojQEQIEmwoanVwxA4lgXt9HgE0BSSZ2AJuIbQAMJih9jjiNA5q4l5INuK0AwTKYKRj0zQNv5fmq8/DpAaCJseHrtQkB/+zpwzoxKQM3MzMzMeFJAZmZmZmZqWEAAAAAAAFxeQM3MzMzMJmJAmpmZmZkfZUBmZmZmZhhoQDMzMzMzEWtAAAAAAAAKbkBmZmZmZoFwQM3MzMzM/XFAMzMzMzN6c0CamZmZmfZ0QAAAAAAAc3ZAZmZmZmbvd0DNzMzMzGt5QDMzMzMz6HpAmpmZmZlkfEAAAAAAAOF9QGZmZmZmXX9AZmZmZuZsgECamZmZGSuBQM3MzMxM6YFAAAAAAICngkAzMzMzs2WDQGZmZmbmI4RAmpmZmRnihEDNzMzMTKCFQAAAAACAXoZAMzMzM7Mch0BmZmZm5tqHQJqZmZkZmYhAzczMzExXiUAAAAAAgBWKQDMzMzOz04pAZmZmZuaRi0CamZmZGVCMQM3MzMxMDo1AAAAAAIDMjUAzMzMzs4qOQGZmZmbmSI9A\",\"dtype\":\"float64\",\"shape\":[75]}},\"selected\":{\"id\":\"c0879dd1-9324-4565-b16d-6ab3c55c78ec\",\"type\":\"Selection\"},\"selection_policy\":{\"id\":\"d1df279c-05c6-429b-9444-ef273fe9db9c\",\"type\":\"UnionRenderers\"}},\"id\":\"b34d61b7-375c-42b7-8b16-f03647fcfe60\",\"type\":\"ColumnDataSource\"},{\"attributes\":{\"data_source\":{\"id\":\"6e2c6ad3-f250-419d-97c0-93d239cc5329\",\"type\":\"ColumnDataSource\"},\"glyph\":{\"id\":\"e8786e64-e53b-4ad7-bb4c-c6f380a713a2\",\"type\":\"Line\"},\"hover_glyph\":null,\"muted_glyph\":null,\"nonselection_glyph\":{\"id\":\"0cbb4dba-8e24-4943-b540-dee59b87af60\",\"type\":\"Line\"},\"selection_glyph\":null,\"view\":{\"id\":\"67d2c6c0-3607-4460-a816-fb4c909b8648\",\"type\":\"CDSView\"}},\"id\":\"acd68169-84e6-4238-8c3e-e34e53499b90\",\"type\":\"GlyphRenderer\"},{\"attributes\":{\"active_drag\":\"auto\",\"active_inspect\":\"auto\",\"active_scroll\":\"auto\",\"active_tap\":\"auto\",\"tools\":[{\"id\":\"08211f54-34d8-44bc-b5eb-f34b97faa619\",\"type\":\"PanTool\"},{\"id\":\"c371d010-e72c-4641-9d38-d503c2684a45\",\"type\":\"WheelZoomTool\"},{\"id\":\"97b8f5ba-22e0-4edd-bc7a-fe86fb29063c\",\"type\":\"BoxZoomTool\"},{\"id\":\"dea6400a-9120-4fce-af47-0a65a453f87f\",\"type\":\"SaveTool\"},{\"id\":\"dd7095f5-938f-4823-a06e-f2af527e413b\",\"type\":\"ResetTool\"},{\"id\":\"60570b1d-6bd4-4be3-b825-80723df0cf1d\",\"type\":\"HelpTool\"}]},\"id\":\"6417cf79-7548-44cc-9a45-5db8986e9ac3\",\"type\":\"Toolbar\"},{\"attributes\":{\"active_drag\":\"auto\",\"active_inspect\":\"auto\",\"active_scroll\":\"auto\",\"active_tap\":\"auto\",\"tools\":[{\"id\":\"18ad44e9-e896-4d7f-af04-3e205ebe399e\",\"type\":\"PanTool\"},{\"id\":\"0bbc28bc-e1f5-4800-90fb-24cda97bc056\",\"type\":\"WheelZoomTool\"},{\"id\":\"88a332d7-b7d1-48e2-af72-6efe79aa843f\",\"type\":\"BoxZoomTool\"},{\"id\":\"50cd6a8c-17d5-43f2-b9d2-b01891bc7c44\",\"type\":\"SaveTool\"},{\"id\":\"80b7232e-d386-468b-835b-ba352f38d17a\",\"type\":\"ResetTool\"},{\"id\":\"af17def1-29d8-440b-85b2-27046e25ae26\",\"type\":\"HelpTool\"}]},\"id\":\"ab0d7dfb-16f3-4e76-b3e4-bfe3dfd9ae19\",\"type\":\"Toolbar\"},{\"attributes\":{\"label\":{\"value\":\"CRD\"},\"renderers\":[{\"id\":\"ce48b90b-b639-4f94-9700-4d1c359ec99d\",\"type\":\"GlyphRenderer\"},{\"id\":\"a6580a0d-cf70-4083-ae68-4997a8d9d214\",\"type\":\"GlyphRenderer\"}]},\"id\":\"efeba78c-df09-4046-8498-a2124ea99440\",\"type\":\"LegendItem\"},{\"attributes\":{},\"id\":\"db3c9100-43ff-4aaa-b724-769264bb2082\",\"type\":\"LinearScale\"},{\"attributes\":{\"callback\":null,\"end\":6.671467299e-06,\"start\":-3.783644799e-06},\"id\":\"2c8233bb-ef6a-452a-8205-513682f65045\",\"type\":\"Range1d\"},{\"attributes\":{},\"id\":\"d42e2cde-358f-4de6-b588-3ed127cf41dc\",\"type\":\"BasicTicker\"},{\"attributes\":{\"label\":{\"value\":\"WGT igg=1\"},\"renderers\":[{\"id\":\"d3088606-8ed6-4a15-9887-2cb55c8aaf73\",\"type\":\"GlyphRenderer\"},{\"id\":\"3b969ccb-e219-4883-81ea-52d5bdb5e865\",\"type\":\"GlyphRenderer\"}]},\"id\":\"38e30922-4ff7-4cde-ab22-7f2a53956f84\",\"type\":\"LegendItem\"},{\"attributes\":{},\"id\":\"193c524b-b1e8-4dce-8136-da52702a1e83\",\"type\":\"LinearScale\"},{\"attributes\":{\"label\":{\"value\":\"WGT igg=10\"},\"renderers\":[{\"id\":\"f616bbb0-2618-4d21-a5da-083df6471214\",\"type\":\"GlyphRenderer\"},{\"id\":\"acd68169-84e6-4238-8c3e-e34e53499b90\",\"type\":\"GlyphRenderer\"}]},\"id\":\"2272b015-7518-4bf7-9bca-eeecdaf65e87\",\"type\":\"LegendItem\"},{\"attributes\":{},\"id\":\"c371d010-e72c-4641-9d38-d503c2684a45\",\"type\":\"WheelZoomTool\"},{\"attributes\":{\"items\":[{\"id\":\"866c5e3f-f187-425f-b64f-789d324e08a8\",\"type\":\"LegendItem\"},{\"id\":\"353e0acb-eb7f-49d5-bbaf-7074907cff90\",\"type\":\"LegendItem\"},{\"id\":\"f08a7e52-e621-4751-a165-77f147e58d8e\",\"type\":\"LegendItem\"}],\"label_text_font_size\":{\"value\":\"8pt\"},\"location\":\"top_center\",\"orientation\":\"horizontal\",\"plot\":{\"id\":\"39add409-5d11-4508-9ee3-2da300374278\",\"subtype\":\"Figure\",\"type\":\"Plot\"}},\"id\":\"8fad7b26-3485-4ac0-9662-d6933a040fef\",\"type\":\"Legend\"},{\"attributes\":{},\"id\":\"08211f54-34d8-44bc-b5eb-f34b97faa619\",\"type\":\"PanTool\"},{\"attributes\":{\"callback\":null,\"end\":0.01,\"start\":1020},\"id\":\"25e535af-3c03-46b5-86cb-343a065a15d2\",\"type\":\"Range1d\"},{\"attributes\":{},\"id\":\"b968bcdd-3f66-4a74-8bc0-9b62153aa7d5\",\"type\":\"LogScale\"},{\"attributes\":{\"bottom_units\":\"screen\",\"fill_alpha\":{\"value\":0.5},\"fill_color\":{\"value\":\"lightgrey\"},\"left_units\":\"screen\",\"level\":\"overlay\",\"line_alpha\":{\"value\":1.0},\"line_color\":{\"value\":\"black\"},\"line_dash\":[4,4],\"line_width\":{\"value\":2},\"plot\":null,\"render_mode\":\"css\",\"right_units\":\"screen\",\"top_units\":\"screen\"},\"id\":\"2587c724-c1c3-4fa4-8492-63a9f3ed555a\",\"type\":\"BoxAnnotation\"},{\"attributes\":{},\"id\":\"2909538a-e391-4894-83a3-53b412503db7\",\"type\":\"BasicTicker\"},{\"attributes\":{\"dimension\":1,\"plot\":{\"id\":\"9b436903-5f11-4c91-85a2-b25d6cfc4240\",\"subtype\":\"Figure\",\"type\":\"Plot\"},\"ticker\":{\"id\":\"2909538a-e391-4894-83a3-53b412503db7\",\"type\":\"BasicTicker\"}},\"id\":\"ceb5d6eb-9a09-4ef0-9d48-b99e585cff27\",\"type\":\"Grid\"},{\"attributes\":{\"overlay\":{\"id\":\"2587c724-c1c3-4fa4-8492-63a9f3ed555a\",\"type\":\"BoxAnnotation\"}},\"id\":\"97b8f5ba-22e0-4edd-bc7a-fe86fb29063c\",\"type\":\"BoxZoomTool\"},{\"attributes\":{},\"id\":\"dea6400a-9120-4fce-af47-0a65a453f87f\",\"type\":\"SaveTool\"},{\"attributes\":{},\"id\":\"dd7095f5-938f-4823-a06e-f2af527e413b\",\"type\":\"ResetTool\"},{\"attributes\":{},\"id\":\"60570b1d-6bd4-4be3-b825-80723df0cf1d\",\"type\":\"HelpTool\"},{\"attributes\":{},\"id\":\"c0879dd1-9324-4565-b16d-6ab3c55c78ec\",\"type\":\"Selection\"},{\"attributes\":{\"axis_label\":\"pressure [mb]\",\"formatter\":{\"id\":\"5324b72d-5a78-4a8a-b5a5-47ca5ff7ac61\",\"type\":\"BasicTickFormatter\"},\"plot\":{\"id\":\"9b436903-5f11-4c91-85a2-b25d6cfc4240\",\"subtype\":\"Figure\",\"type\":\"Plot\"},\"ticker\":{\"id\":\"2909538a-e391-4894-83a3-53b412503db7\",\"type\":\"BasicTicker\"}},\"id\":\"7829e843-b5b1-4fbf-922e-84bb2e1bd27b\",\"type\":\"LinearAxis\"},{\"attributes\":{\"fill_alpha\":{\"value\":0.7},\"fill_color\":{\"value\":\"#4daf4a\"},\"line_alpha\":{\"value\":0.7},\"line_color\":{\"value\":\"#4daf4a\"},\"x\":{\"field\":\"x\"},\"y\":{\"field\":\"y\"}},\"id\":\"270343cb-4b6b-4172-b1ed-502c534ee5aa\",\"type\":\"Circle\"},{\"attributes\":{\"axis_label\":\"cooling rate [K/day]\",\"formatter\":{\"id\":\"9d58b2bf-eeeb-4cd8-b048-45ee2cc8710b\",\"type\":\"BasicTickFormatter\"},\"plot\":{\"id\":\"39add409-5d11-4508-9ee3-2da300374278\",\"subtype\":\"Figure\",\"type\":\"Plot\"},\"ticker\":{\"id\":\"2b388e13-2e42-4db1-8892-e8f8bc6ee17f\",\"type\":\"BasicTicker\"}},\"id\":\"78e0e158-62c4-4f83-8318-23fb5fb2ae84\",\"type\":\"LinearAxis\"},{\"attributes\":{\"axis_label\":\"cooling rate [K/day]\",\"formatter\":{\"id\":\"b83b3f91-2b11-4363-b7c8-35a635136b3b\",\"type\":\"BasicTickFormatter\"},\"plot\":{\"id\":\"9b436903-5f11-4c91-85a2-b25d6cfc4240\",\"subtype\":\"Figure\",\"type\":\"Plot\"},\"ticker\":{\"id\":\"d42e2cde-358f-4de6-b588-3ed127cf41dc\",\"type\":\"BasicTicker\"}},\"id\":\"dc0590c0-2174-4d87-a041-bb4ea60237d9\",\"type\":\"LinearAxis\"},{\"attributes\":{},\"id\":\"af17def1-29d8-440b-85b2-27046e25ae26\",\"type\":\"HelpTool\"},{\"attributes\":{\"plot\":{\"id\":\"9b436903-5f11-4c91-85a2-b25d6cfc4240\",\"subtype\":\"Figure\",\"type\":\"Plot\"},\"ticker\":{\"id\":\"d42e2cde-358f-4de6-b588-3ed127cf41dc\",\"type\":\"BasicTicker\"}},\"id\":\"3af684b4-97e9-4df7-84ea-56f9bfe50b85\",\"type\":\"Grid\"},{\"attributes\":{},\"id\":\"2b388e13-2e42-4db1-8892-e8f8bc6ee17f\",\"type\":\"BasicTicker\"},{\"attributes\":{\"callback\":null,\"data\":{\"x\":{\"__ndarray__\":\"/vH82lqXtb4E/NdAv7S1vpx9kG8W8LW+trxqvBgrtr4h9zjTnmS2vuhXHzXinLa+irjBH+HTtr4835XvmAm3vp6KnpRxPbe+fqpY28dvt75j9AkiL6C3vp8XSEO1zre+BBZsj1H7t74uvWF44DC4vvjkSEhSyri+htL/oEwqub4iSHFnAoK3vidUKH/sMbK+DjiLehaPnL6wCrw9CkipPv1W8nLJqMY+LZymcT2u1j4WHgquX43bPjnxK8jP19Y+BCbpKeRLzz4MfxxcPivAPmkc8Amp/6I+01EDFWWWl75+Agcx8quvvqDYsI+z2bW+9JiWfuQZub7XBsNr3XS6vt+3ddXkkLq+nXTeDgXaub5gl/U49dy3vvO6TkIKkrS+D8QUFFbEsr5eTnvejT+1vqap8J4ONLu+ZpEyYYstwr4g8JwmMuHOvhH5UXvLY+O+qxKEJq5i9L64jZGNPG0CvzxofAr88Qy/QW4DXqqjE7/aRsM3whoWv13beE/+WxG/mJsw5VKxrj5yZ1kJc0EhP59JkhQOBTc/6TTEIFeORj/nNOJ9KUBTP325yQsUKF4/+S2hF7pGZj8WLi/pvWtvP7fF6otTWHU/TOPT9ywcfD8zmHf/Ff6BPwufDfavd4Y/arLAA3Vdiz886lwPLjaQP/e9Lymcr5I/4ejeThhQlj+cf+kkw0CZP4zx5S5XeZs/V49wZGIWnT9jnysK7hmdP4lSV0v19Zw/pgVYeTwMnT85La3DJ1adPxZZy5rh0Z0/0x/CQUCTnj856s8bes2fP6ZIhmjpFKE/\",\"dtype\":\"float64\",\"shape\":[75]},\"y\":{\"__ndarray__\":\"GhExyth1ND/Sv8nbtpRIP2vylNV0PVE/aTum7souWD/At0SJ8fVgPw3Iuahxymc/MSNhhJWvcD/bTfBN02d3P2zb5nxnaoA/CD5h5MAGhz8NmeH1TyaQP+zrCsc9p5Y/LbKd76fGnz/bLW5ISEmmPww9YvTcQq8/JV2OstnstT8Er5Y7M8G+P0c+r3jqkcU/5h99k6ZBzj88bCIzFzjVP4enV8oyxN0//yH99nXg5D8qOpLLf0jtP5kqGJXUifQ/c9cS8kHP/D+/DpwzojQEQIEmwoanVwxA4lgXt9HgE0BSSZ2AJuIbQAMJih9jjiNA5q4l5INuK0AwTKYKRj0zQNv5fmq8/DpAaCJseHrtQkB/+zpwzoxKQM3MzMzMeFJAZmZmZmZqWEAAAAAAAFxeQM3MzMzMJmJAmpmZmZkfZUBmZmZmZhhoQDMzMzMzEWtAAAAAAAAKbkBmZmZmZoFwQM3MzMzM/XFAMzMzMzN6c0CamZmZmfZ0QAAAAAAAc3ZAZmZmZmbvd0DNzMzMzGt5QDMzMzMz6HpAmpmZmZlkfEAAAAAAAOF9QGZmZmZmXX9AZmZmZuZsgECamZmZGSuBQM3MzMxM6YFAAAAAAICngkAzMzMzs2WDQGZmZmbmI4RAmpmZmRnihEDNzMzMTKCFQAAAAACAXoZAMzMzM7Mch0BmZmZm5tqHQJqZmZkZmYhAzczMzExXiUAAAAAAgBWKQDMzMzOz04pAZmZmZuaRi0CamZmZGVCMQM3MzMxMDo1AAAAAAIDMjUAzMzMzs4qOQGZmZmbmSI9A\",\"dtype\":\"float64\",\"shape\":[75]}},\"selected\":{\"id\":\"1c528857-c588-4c57-9673-2a17500b2895\",\"type\":\"Selection\"},\"selection_policy\":{\"id\":\"fb1d6c7e-abf6-462a-b9f2-c3ae920c0456\",\"type\":\"UnionRenderers\"}},\"id\":\"c02a90af-6593-4f06-9ef1-23b294c3c11d\",\"type\":\"ColumnDataSource\"},{\"attributes\":{},\"id\":\"74e9557d-d503-4bb6-9b81-100fcaa919ab\",\"type\":\"LinearScale\"},{\"attributes\":{\"fill_alpha\":{\"value\":0.1},\"fill_color\":{\"value\":\"#1f77b4\"},\"line_alpha\":{\"value\":0.1},\"line_color\":{\"value\":\"#1f77b4\"},\"x\":{\"field\":\"x\"},\"y\":{\"field\":\"y\"}},\"id\":\"b6643d6d-43bf-4de7-b1e8-47a50bccc7eb\",\"type\":\"Circle\"},{\"attributes\":{},\"id\":\"d1df279c-05c6-429b-9444-ef273fe9db9c\",\"type\":\"UnionRenderers\"},{\"attributes\":{},\"id\":\"a67c0110-4ab7-468b-b142-1e3d12019a41\",\"type\":\"Selection\"},{\"attributes\":{\"bottom_units\":\"screen\",\"fill_alpha\":{\"value\":0.5},\"fill_color\":{\"value\":\"lightgrey\"},\"left_units\":\"screen\",\"level\":\"overlay\",\"line_alpha\":{\"value\":1.0},\"line_color\":{\"value\":\"black\"},\"line_dash\":[4,4],\"line_width\":{\"value\":2},\"plot\":null,\"render_mode\":\"css\",\"right_units\":\"screen\",\"top_units\":\"screen\"},\"id\":\"ce100c7f-f2e2-4207-8883-499433f82164\",\"type\":\"BoxAnnotation\"},{\"attributes\":{\"callback\":null,\"end\":0.01,\"start\":1020},\"id\":\"c4ef1940-ad71-4c63-8d90-b8174198d951\",\"type\":\"Range1d\"},{\"attributes\":{\"data_source\":{\"id\":\"c02a90af-6593-4f06-9ef1-23b294c3c11d\",\"type\":\"ColumnDataSource\"},\"glyph\":{\"id\":\"270343cb-4b6b-4172-b1ed-502c534ee5aa\",\"type\":\"Circle\"},\"hover_glyph\":null,\"muted_glyph\":null,\"nonselection_glyph\":{\"id\":\"b6643d6d-43bf-4de7-b1e8-47a50bccc7eb\",\"type\":\"Circle\"},\"selection_glyph\":null,\"view\":{\"id\":\"e901aff5-9b9e-4d67-bbbb-5ab52c4d14a3\",\"type\":\"CDSView\"}},\"id\":\"83f7c3d6-f480-4ba3-adad-a035e9168c0b\",\"type\":\"GlyphRenderer\"}],\"root_ids\":[\"90560d01-a0fb-4cc5-919e-b2808525a3d8\"]},\"title\":\"Bokeh Application\",\"version\":\"0.12.16\"}};\n",
       "  var render_items = [{\"docid\":\"85ac078e-4bc2-4fac-b9a9-c4137cdeff7a\",\"elementid\":\"aabe6442-2fdb-45fc-9168-73a51320ea61\",\"modelid\":\"90560d01-a0fb-4cc5-919e-b2808525a3d8\"}];\n",
       "  root.Bokeh.embed.embed_items_notebook(docs_json, render_items);\n",
       "\n",
       "  }\n",
       "  if (root.Bokeh !== undefined) {\n",
       "    embed_document(root);\n",
       "  } else {\n",
       "    var attempts = 0;\n",
       "    var timer = setInterval(function(root) {\n",
       "      if (root.Bokeh !== undefined) {\n",
       "        embed_document(root);\n",
       "        clearInterval(timer);\n",
       "      }\n",
       "      attempts++;\n",
       "      if (attempts > 100) {\n",
       "        console.log(\"Bokeh: ERROR: Unable to run BokehJS code because BokehJS library is missing\")\n",
       "        clearInterval(timer);\n",
       "      }\n",
       "    }, 10, root)\n",
       "  }\n",
       "})(window);"
      ],
      "application/vnd.bokehjs_exec.v0+json": ""
     },
     "metadata": {
      "application/vnd.bokehjs_exec.v0+json": {
       "id": "90560d01-a0fb-4cc5-919e-b2808525a3d8"
      }
     },
     "output_type": "display_data"
    },
    {
     "data": {
      "text/markdown": [
       "*FIGURE.* Cooling rates. g=2"
      ],
      "text/plain": [
       "<IPython.core.display.Markdown object>"
      ]
     },
     "metadata": {},
     "output_type": "display_data"
    },
    {
     "data": {
      "text/html": [
       "\n",
       "<div class=\"bk-root\">\n",
       "    <div class=\"bk-plotdiv\" id=\"098dd20a-9b04-4dec-bdb2-bd5d987b2301\"></div>\n",
       "</div>"
      ]
     },
     "metadata": {},
     "output_type": "display_data"
    },
    {
     "data": {
      "application/javascript": [
       "(function(root) {\n",
       "  function embed_document(root) {\n",
       "    \n",
       "  var docs_json = {\"f4ac2814-8229-4b09-8ecc-fbd0d5323860\":{\"roots\":{\"references\":[{\"attributes\":{},\"id\":\"55b1b228-70f6-4c0e-bf32-c2273de40fd1\",\"type\":\"LinearScale\"},{\"attributes\":{},\"id\":\"285dd73d-caea-420e-ac21-5f60094a2e7d\",\"type\":\"BasicTickFormatter\"},{\"attributes\":{},\"id\":\"23c883d3-8856-4617-828e-c6855ab4e8ea\",\"type\":\"UnionRenderers\"},{\"attributes\":{},\"id\":\"c84389dd-2ae6-474f-8532-c23d404b01be\",\"type\":\"Selection\"},{\"attributes\":{},\"id\":\"25918358-20bf-4412-ab14-a96bb7a8dfe0\",\"type\":\"BasicTickFormatter\"},{\"attributes\":{},\"id\":\"2d9e2b98-b8f9-43e3-9667-825f00881dd8\",\"type\":\"UnionRenderers\"},{\"attributes\":{},\"id\":\"d750bc83-03cf-4d76-b46a-045cf5ce3bdf\",\"type\":\"Selection\"},{\"attributes\":{\"dimension\":1,\"plot\":{\"id\":\"f9e2ea19-913d-4990-965c-74454b9221b9\",\"subtype\":\"Figure\",\"type\":\"Plot\"},\"ticker\":{\"id\":\"f986e1eb-d4f9-46ef-b554-1def516a3a29\",\"type\":\"BasicTicker\"}},\"id\":\"14ba8268-b67e-4fe8-938e-27f491515466\",\"type\":\"Grid\"},{\"attributes\":{},\"id\":\"0982b595-3245-42ef-b7e3-4a0b533885d1\",\"type\":\"UnionRenderers\"},{\"attributes\":{\"ticker\":null},\"id\":\"a39d7832-9f97-4643-8a95-9298fa5de3d3\",\"type\":\"LogTickFormatter\"},{\"attributes\":{},\"id\":\"4a640df7-b699-4228-a4f9-9fd9bf2cf083\",\"type\":\"PanTool\"},{\"attributes\":{},\"id\":\"5cca174c-2514-49b0-854a-965995cbb513\",\"type\":\"UnionRenderers\"},{\"attributes\":{},\"id\":\"93992bf2-85a8-4cdf-9435-edbd9a2193f1\",\"type\":\"Selection\"},{\"attributes\":{\"plot\":null,\"text\":\"\"},\"id\":\"72ab46d6-32ac-4aee-9fb7-7de8efec782e\",\"type\":\"Title\"},{\"attributes\":{},\"id\":\"561d2c78-b166-48cf-8bfe-3977391b8f11\",\"type\":\"UnionRenderers\"},{\"attributes\":{},\"id\":\"30ebd2a0-43f0-417e-a039-699a45b0bfb0\",\"type\":\"ResetTool\"},{\"attributes\":{},\"id\":\"794f150e-52f7-4f26-b8aa-4660c1dbddc7\",\"type\":\"UnionRenderers\"},{\"attributes\":{},\"id\":\"f50e364d-0bb8-44ad-be1f-c995e622cd1e\",\"type\":\"Selection\"},{\"attributes\":{},\"id\":\"13e0ca17-e1d7-4a1e-8de1-2f5f2f26df23\",\"type\":\"Selection\"},{\"attributes\":{},\"id\":\"49cd7a44-24cd-42e2-b09d-1da9da1e3ae2\",\"type\":\"UnionRenderers\"},{\"attributes\":{},\"id\":\"84387dc2-fcc4-4958-96ad-0428f0b53f33\",\"type\":\"UnionRenderers\"},{\"attributes\":{},\"id\":\"34261bfc-63ba-4778-9b66-371eafbe1909\",\"type\":\"UnionRenderers\"},{\"attributes\":{},\"id\":\"cbecfdff-2cc0-43d9-b082-00468a5223d9\",\"type\":\"Selection\"},{\"attributes\":{\"toolbar\":{\"id\":\"b153b37c-5a7f-4c93-b4ba-b8b837d1eba7\",\"type\":\"ProxyToolbar\"},\"toolbar_location\":\"above\"},\"id\":\"8598b0c4-d406-4d61-85b0-9aeda29d2e95\",\"type\":\"ToolbarBox\"},{\"attributes\":{},\"id\":\"8c618987-2f6a-45cb-bb2c-65b110ff0f19\",\"type\":\"Selection\"},{\"attributes\":{},\"id\":\"23109327-6c93-494a-a760-9808f1ee639a\",\"type\":\"Selection\"},{\"attributes\":{\"children\":[{\"id\":\"8598b0c4-d406-4d61-85b0-9aeda29d2e95\",\"type\":\"ToolbarBox\"},{\"id\":\"1ee2565f-284f-45a8-bda7-b128379906f1\",\"type\":\"Column\"}]},\"id\":\"72899317-ce42-41fe-861a-e7dc9ccc1b38\",\"type\":\"Column\"},{\"attributes\":{\"overlay\":{\"id\":\"c34dd552-6d64-41db-a503-3fc1183a4e42\",\"type\":\"BoxAnnotation\"}},\"id\":\"72c58ec1-5ee2-4169-901a-247d45da69c5\",\"type\":\"BoxZoomTool\"},{\"attributes\":{\"plot\":{\"id\":\"02173dd4-172d-4dd3-80a2-f0a1bd4c8954\",\"subtype\":\"Figure\",\"type\":\"Plot\"},\"ticker\":{\"id\":\"c50b7d11-6e77-4277-b249-d2016f291c9f\",\"type\":\"BasicTicker\"}},\"id\":\"9ce5cce9-63f7-4d10-89e3-3d7ff01e3695\",\"type\":\"Grid\"},{\"attributes\":{},\"id\":\"fc601cc8-c399-4462-af38-bfbce8c13994\",\"type\":\"Selection\"},{\"attributes\":{},\"id\":\"24952d0f-45a8-41a1-ac53-d8cf7a22becb\",\"type\":\"WheelZoomTool\"},{\"attributes\":{\"tools\":[{\"id\":\"4a640df7-b699-4228-a4f9-9fd9bf2cf083\",\"type\":\"PanTool\"},{\"id\":\"24952d0f-45a8-41a1-ac53-d8cf7a22becb\",\"type\":\"WheelZoomTool\"},{\"id\":\"72c58ec1-5ee2-4169-901a-247d45da69c5\",\"type\":\"BoxZoomTool\"},{\"id\":\"d3167305-322a-4d54-a91f-99232099866b\",\"type\":\"SaveTool\"},{\"id\":\"30ebd2a0-43f0-417e-a039-699a45b0bfb0\",\"type\":\"ResetTool\"},{\"id\":\"e005ae36-fc9a-4e92-998a-099a53699b4c\",\"type\":\"HelpTool\"},{\"id\":\"dd038981-18e4-4247-9e68-d06eec48c484\",\"type\":\"PanTool\"},{\"id\":\"97998bf7-28f1-48fc-b71c-db1f88e46d13\",\"type\":\"WheelZoomTool\"},{\"id\":\"e8afac70-6d75-4835-88dc-4e1a5672e7f7\",\"type\":\"BoxZoomTool\"},{\"id\":\"6df6d668-48d4-430f-a1f6-4cd55d5de7c2\",\"type\":\"SaveTool\"},{\"id\":\"10e061e5-e42b-4050-a9b9-0bd9c6832319\",\"type\":\"ResetTool\"},{\"id\":\"a8d69c46-036f-438d-8549-b423fe2a8135\",\"type\":\"HelpTool\"}]},\"id\":\"b153b37c-5a7f-4c93-b4ba-b8b837d1eba7\",\"type\":\"ProxyToolbar\"},{\"attributes\":{\"axis_label\":\"pressure [mb]\",\"formatter\":{\"id\":\"c0533c80-4c1d-40ff-81f4-6f86598d8aa5\",\"type\":\"BasicTickFormatter\"},\"plot\":{\"id\":\"f9e2ea19-913d-4990-965c-74454b9221b9\",\"subtype\":\"Figure\",\"type\":\"Plot\"},\"ticker\":{\"id\":\"f986e1eb-d4f9-46ef-b554-1def516a3a29\",\"type\":\"BasicTicker\"}},\"id\":\"a6ed28ca-4b9e-4877-bf26-f0cd53718fdb\",\"type\":\"LinearAxis\"},{\"attributes\":{},\"id\":\"f986e1eb-d4f9-46ef-b554-1def516a3a29\",\"type\":\"BasicTicker\"},{\"attributes\":{},\"id\":\"d3167305-322a-4d54-a91f-99232099866b\",\"type\":\"SaveTool\"},{\"attributes\":{\"axis_label\":\"pressure [mb]\",\"formatter\":{\"id\":\"a39d7832-9f97-4643-8a95-9298fa5de3d3\",\"type\":\"LogTickFormatter\"},\"plot\":{\"id\":\"02173dd4-172d-4dd3-80a2-f0a1bd4c8954\",\"subtype\":\"Figure\",\"type\":\"Plot\"},\"ticker\":{\"id\":\"dbfc1ef4-ffb9-407d-80a4-2fbd52b18c53\",\"type\":\"LogTicker\"}},\"id\":\"321ca7ff-7116-4098-aef2-f8af304ab363\",\"type\":\"LogAxis\"},{\"attributes\":{\"line_color\":\"#4daf4a\",\"line_width\":1.5,\"x\":{\"field\":\"x\"},\"y\":{\"field\":\"y\"}},\"id\":\"0c3a1e38-cd4a-4d16-b70c-313209dacade\",\"type\":\"Line\"},{\"attributes\":{\"source\":{\"id\":\"48cd5da3-f6a3-4485-bfa7-92f3809273a6\",\"type\":\"ColumnDataSource\"}},\"id\":\"036e743c-44ff-4538-960b-1bf4ee2e5c0f\",\"type\":\"CDSView\"},{\"attributes\":{\"callback\":null,\"data\":{\"x\":{\"__ndarray__\":\"nIXjWbH/gr6oXsu3zzCDvg0AJb0OZIO+3mH93vatg74wes9QiuyDvoNtmA/cL4S+bspjL455hL7b46oo8r6EvjKaS0OI/4S+PcqZkQlJhb4dFYlHgY2Fvg3UFf9A04W+e7etYDIahr5QCZxFSHOGvvhisq9Wqoe+y075lgPyib7ptEumjRqMvvrOgeriBI2+oGqC2ZJwi762JhWrbUmFvleHvsSprGy+hGWZdmHrgD5whUb/h2mMPhziheaYWIE+P/p9JPN1Rz5UzYnbPQN7voNpCkyLL4e+90mCPhSDjL6jFbjQRBePvld712AGBJC+WHFZStULkL4zEeXI8cqPvmOob4o8fY++6sL+hbFWj75TTm3rH1eOvvNtvnVvVIy+hryJn3F3jL58VvXpoJmRvgGssRoPqJi+FSmZAWEbor7b4nH0q/uwvq7UMvIQt8e+6N6GeDMG3L7UFyGKr/fsvr6NQPl2xvq+3huJmkl1Br91Q1cgHEARvwQgzKSLCBi/QLUUTsTgHL89S4GzkK4fv9NmxaYtSR6/UET0qx+tFb+V7HIbkgXfvlwtp9IqNyE/L0zc9SB4Nz/BmspKfBVHP9xXKM37w1M/yagdg69WXz/IBlu3BIpnP9Ppx8aG5XA/YhvxGxhddz9GklNNppB/P3ZIX3iNrIQ/xrG0p3JHjD+wEtVWSqGSP6JtpIjm45c/L3T8gqMFnj8BdLHMz8uhP6Dfj4zpyqQ/kWRW73A7qD+JwcGzRDSsPyMAnSHTXLA/YkQAQrTusj9I1hmTidG1PwYwWLZ+Frk/\",\"dtype\":\"float64\",\"shape\":[75]},\"y\":{\"__ndarray__\":\"GhExyth1ND/Sv8nbtpRIP2vylNV0PVE/aTum7souWD/At0SJ8fVgPw3Iuahxymc/MSNhhJWvcD/bTfBN02d3P2zb5nxnaoA/CD5h5MAGhz8NmeH1TyaQP+zrCsc9p5Y/LbKd76fGnz/bLW5ISEmmPww9YvTcQq8/JV2OstnstT8Er5Y7M8G+P0c+r3jqkcU/5h99k6ZBzj88bCIzFzjVP4enV8oyxN0//yH99nXg5D8qOpLLf0jtP5kqGJXUifQ/c9cS8kHP/D+/DpwzojQEQIEmwoanVwxA4lgXt9HgE0BSSZ2AJuIbQAMJih9jjiNA5q4l5INuK0AwTKYKRj0zQNv5fmq8/DpAaCJseHrtQkB/+zpwzoxKQM3MzMzMeFJAZmZmZmZqWEAAAAAAAFxeQM3MzMzMJmJAmpmZmZkfZUBmZmZmZhhoQDMzMzMzEWtAAAAAAAAKbkBmZmZmZoFwQM3MzMzM/XFAMzMzMzN6c0CamZmZmfZ0QAAAAAAAc3ZAZmZmZmbvd0DNzMzMzGt5QDMzMzMz6HpAmpmZmZlkfEAAAAAAAOF9QGZmZmZmXX9AZmZmZuZsgECamZmZGSuBQM3MzMxM6YFAAAAAAICngkAzMzMzs2WDQGZmZmbmI4RAmpmZmRnihEDNzMzMTKCFQAAAAACAXoZAMzMzM7Mch0BmZmZm5tqHQJqZmZkZmYhAzczMzExXiUAAAAAAgBWKQDMzMzOz04pAZmZmZuaRi0CamZmZGVCMQM3MzMxMDo1AAAAAAIDMjUAzMzMzs4qOQGZmZmbmSI9A\",\"dtype\":\"float64\",\"shape\":[75]}},\"selected\":{\"id\":\"094e11be-0227-4fec-a670-ff4787b47f03\",\"type\":\"Selection\"},\"selection_policy\":{\"id\":\"74d8f783-99d3-4e4a-8ec1-26c4e75118dc\",\"type\":\"UnionRenderers\"}},\"id\":\"80639a1b-6142-4019-9027-b62dc5dbd3b6\",\"type\":\"ColumnDataSource\"},{\"attributes\":{\"fill_alpha\":{\"value\":0.7},\"fill_color\":{\"value\":\"#984ea3\"},\"line_alpha\":{\"value\":0.7},\"line_color\":{\"value\":\"#984ea3\"},\"x\":{\"field\":\"x\"},\"y\":{\"field\":\"y\"}},\"id\":\"7f707957-ad6b-4521-91fd-048dc53cf14a\",\"type\":\"Square\"},{\"attributes\":{\"callback\":null,\"data\":{\"x\":{\"__ndarray__\":\"nIXjWbH/gr6oXsu3zzCDvg0AJb0OZIO+3mH93vatg74wes9QiuyDvoNtmA/cL4S+bspjL455hL7b46oo8r6EvjKaS0OI/4S+PcqZkQlJhb4dFYlHgY2Fvg3UFf9A04W+e7etYDIahr5QCZxFSHOGvvhisq9Wqoe+y075lgPyib7ptEumjRqMvvrOgeriBI2+oGqC2ZJwi762JhWrbUmFvleHvsSprGy+hGWZdmHrgD5whUb/h2mMPhziheaYWIE+P/p9JPN1Rz5UzYnbPQN7voNpCkyLL4e+90mCPhSDjL6jFbjQRBePvld712AGBJC+WHFZStULkL4zEeXI8cqPvmOob4o8fY++6sL+hbFWj75TTm3rH1eOvvNtvnVvVIy+hryJn3F3jL58VvXpoJmRvgGssRoPqJi+FSmZAWEbor7b4nH0q/uwvq7UMvIQt8e+6N6GeDMG3L7UFyGKr/fsvr6NQPl2xvq+3huJmkl1Br91Q1cgHEARvwQgzKSLCBi/QLUUTsTgHL89S4GzkK4fv9NmxaYtSR6/UET0qx+tFb+V7HIbkgXfvlwtp9IqNyE/L0zc9SB4Nz/BmspKfBVHP9xXKM37w1M/yagdg69WXz/IBlu3BIpnP9Ppx8aG5XA/YhvxGxhddz9GklNNppB/P3ZIX3iNrIQ/xrG0p3JHjD+wEtVWSqGSP6JtpIjm45c/L3T8gqMFnj8BdLHMz8uhP6Dfj4zpyqQ/kWRW73A7qD+JwcGzRDSsPyMAnSHTXLA/YkQAQrTusj9I1hmTidG1PwYwWLZ+Frk/\",\"dtype\":\"float64\",\"shape\":[75]},\"y\":{\"__ndarray__\":\"GhExyth1ND/Sv8nbtpRIP2vylNV0PVE/aTum7souWD/At0SJ8fVgPw3Iuahxymc/MSNhhJWvcD/bTfBN02d3P2zb5nxnaoA/CD5h5MAGhz8NmeH1TyaQP+zrCsc9p5Y/LbKd76fGnz/bLW5ISEmmPww9YvTcQq8/JV2OstnstT8Er5Y7M8G+P0c+r3jqkcU/5h99k6ZBzj88bCIzFzjVP4enV8oyxN0//yH99nXg5D8qOpLLf0jtP5kqGJXUifQ/c9cS8kHP/D+/DpwzojQEQIEmwoanVwxA4lgXt9HgE0BSSZ2AJuIbQAMJih9jjiNA5q4l5INuK0AwTKYKRj0zQNv5fmq8/DpAaCJseHrtQkB/+zpwzoxKQM3MzMzMeFJAZmZmZmZqWEAAAAAAAFxeQM3MzMzMJmJAmpmZmZkfZUBmZmZmZhhoQDMzMzMzEWtAAAAAAAAKbkBmZmZmZoFwQM3MzMzM/XFAMzMzMzN6c0CamZmZmfZ0QAAAAAAAc3ZAZmZmZmbvd0DNzMzMzGt5QDMzMzMz6HpAmpmZmZlkfEAAAAAAAOF9QGZmZmZmXX9AZmZmZuZsgECamZmZGSuBQM3MzMxM6YFAAAAAAICngkAzMzMzs2WDQGZmZmbmI4RAmpmZmRnihEDNzMzMTKCFQAAAAACAXoZAMzMzM7Mch0BmZmZm5tqHQJqZmZkZmYhAzczMzExXiUAAAAAAgBWKQDMzMzOz04pAZmZmZuaRi0CamZmZGVCMQM3MzMxMDo1AAAAAAIDMjUAzMzMzs4qOQGZmZmbmSI9A\",\"dtype\":\"float64\",\"shape\":[75]}},\"selected\":{\"id\":\"93992bf2-85a8-4cdf-9435-edbd9a2193f1\",\"type\":\"Selection\"},\"selection_policy\":{\"id\":\"2c5cd4fe-0547-45f8-9b8c-5edce597c2dc\",\"type\":\"UnionRenderers\"}},\"id\":\"79813887-8b3c-4439-b9f5-31019435992d\",\"type\":\"ColumnDataSource\"},{\"attributes\":{\"line_color\":\"#4daf4a\",\"line_width\":1.5,\"x\":{\"field\":\"x\"},\"y\":{\"field\":\"y\"}},\"id\":\"31d42985-3fee-4bdd-abca-f2b8fd00173f\",\"type\":\"Line\"},{\"attributes\":{\"fill_alpha\":{\"value\":0.1},\"fill_color\":{\"value\":\"#1f77b4\"},\"line_alpha\":{\"value\":0.1},\"line_color\":{\"value\":\"#1f77b4\"},\"x\":{\"field\":\"x\"},\"y\":{\"field\":\"y\"}},\"id\":\"533b28e1-83ff-426a-84a3-1818809a5017\",\"type\":\"Square\"},{\"attributes\":{\"callback\":null,\"data\":{\"x\":{\"__ndarray__\":\"nIXjWbH/gr6oXsu3zzCDvg0AJb0OZIO+3mH93vatg74wes9QiuyDvoNtmA/cL4S+bspjL455hL7b46oo8r6EvjKaS0OI/4S+PcqZkQlJhb4dFYlHgY2Fvg3UFf9A04W+e7etYDIahr5QCZxFSHOGvvhisq9Wqoe+y075lgPyib7ptEumjRqMvvrOgeriBI2+oGqC2ZJwi762JhWrbUmFvleHvsSprGy+hGWZdmHrgD5whUb/h2mMPhziheaYWIE+P/p9JPN1Rz5UzYnbPQN7voNpCkyLL4e+90mCPhSDjL6jFbjQRBePvld712AGBJC+WHFZStULkL4zEeXI8cqPvmOob4o8fY++6sL+hbFWj75TTm3rH1eOvvNtvnVvVIy+hryJn3F3jL58VvXpoJmRvgGssRoPqJi+FSmZAWEbor7b4nH0q/uwvq7UMvIQt8e+6N6GeDMG3L7UFyGKr/fsvr6NQPl2xvq+3huJmkl1Br91Q1cgHEARvwQgzKSLCBi/QLUUTsTgHL89S4GzkK4fv9NmxaYtSR6/UET0qx+tFb+V7HIbkgXfvlwtp9IqNyE/L0zc9SB4Nz/BmspKfBVHP9xXKM37w1M/yagdg69WXz/IBlu3BIpnP9Ppx8aG5XA/YhvxGxhddz9GklNNppB/P3ZIX3iNrIQ/xrG0p3JHjD+wEtVWSqGSP6JtpIjm45c/L3T8gqMFnj8BdLHMz8uhP6Dfj4zpyqQ/kWRW73A7qD+JwcGzRDSsPyMAnSHTXLA/YkQAQrTusj9I1hmTidG1PwYwWLZ+Frk/\",\"dtype\":\"float64\",\"shape\":[75]},\"y\":{\"__ndarray__\":\"GhExyth1ND/Sv8nbtpRIP2vylNV0PVE/aTum7souWD/At0SJ8fVgPw3Iuahxymc/MSNhhJWvcD/bTfBN02d3P2zb5nxnaoA/CD5h5MAGhz8NmeH1TyaQP+zrCsc9p5Y/LbKd76fGnz/bLW5ISEmmPww9YvTcQq8/JV2OstnstT8Er5Y7M8G+P0c+r3jqkcU/5h99k6ZBzj88bCIzFzjVP4enV8oyxN0//yH99nXg5D8qOpLLf0jtP5kqGJXUifQ/c9cS8kHP/D+/DpwzojQEQIEmwoanVwxA4lgXt9HgE0BSSZ2AJuIbQAMJih9jjiNA5q4l5INuK0AwTKYKRj0zQNv5fmq8/DpAaCJseHrtQkB/+zpwzoxKQM3MzMzMeFJAZmZmZmZqWEAAAAAAAFxeQM3MzMzMJmJAmpmZmZkfZUBmZmZmZhhoQDMzMzMzEWtAAAAAAAAKbkBmZmZmZoFwQM3MzMzM/XFAMzMzMzN6c0CamZmZmfZ0QAAAAAAAc3ZAZmZmZmbvd0DNzMzMzGt5QDMzMzMz6HpAmpmZmZlkfEAAAAAAAOF9QGZmZmZmXX9AZmZmZuZsgECamZmZGSuBQM3MzMxM6YFAAAAAAICngkAzMzMzs2WDQGZmZmbmI4RAmpmZmRnihEDNzMzMTKCFQAAAAACAXoZAMzMzM7Mch0BmZmZm5tqHQJqZmZkZmYhAzczMzExXiUAAAAAAgBWKQDMzMzOz04pAZmZmZuaRi0CamZmZGVCMQM3MzMxMDo1AAAAAAIDMjUAzMzMzs4qOQGZmZmbmSI9A\",\"dtype\":\"float64\",\"shape\":[75]}},\"selected\":{\"id\":\"8c618987-2f6a-45cb-bb2c-65b110ff0f19\",\"type\":\"Selection\"},\"selection_policy\":{\"id\":\"794f150e-52f7-4f26-b8aa-4660c1dbddc7\",\"type\":\"UnionRenderers\"}},\"id\":\"6dd9cfe5-f23e-4b91-825e-aba8aff31632\",\"type\":\"ColumnDataSource\"},{\"attributes\":{\"data_source\":{\"id\":\"18ad7403-68b9-44e9-9399-a9fdaf230940\",\"type\":\"ColumnDataSource\"},\"glyph\":{\"id\":\"5c0dd472-76e4-4e49-917b-2f1cc044a57f\",\"type\":\"Triangle\"},\"hover_glyph\":null,\"muted_glyph\":null,\"nonselection_glyph\":{\"id\":\"20007a63-a567-4f9a-8eb3-4ae41d2ca355\",\"type\":\"Triangle\"},\"selection_glyph\":null,\"view\":{\"id\":\"2f43f78b-90c0-4a22-ab29-2cff10162bc8\",\"type\":\"CDSView\"}},\"id\":\"388db916-67b9-42e9-957b-e483249829e1\",\"type\":\"GlyphRenderer\"},{\"attributes\":{\"fill_alpha\":{\"value\":0.1},\"fill_color\":{\"value\":\"#1f77b4\"},\"line_alpha\":{\"value\":0.1},\"line_color\":{\"value\":\"#1f77b4\"},\"x\":{\"field\":\"x\"},\"y\":{\"field\":\"y\"}},\"id\":\"20007a63-a567-4f9a-8eb3-4ae41d2ca355\",\"type\":\"Triangle\"},{\"attributes\":{\"line_alpha\":0.1,\"line_color\":\"#1f77b4\",\"line_width\":2,\"x\":{\"field\":\"x\"},\"y\":{\"field\":\"y\"}},\"id\":\"2cb54882-13fe-4356-97e2-0044bfc18a28\",\"type\":\"Line\"},{\"attributes\":{\"callback\":null,\"data\":{\"x\":{\"__ndarray__\":\"HX+bDqZugb7DL0PC+JKBvtrfbQCz1oG+jW6yH0QJgr4zaqBWr1WCviwUNzdhh4K+MjWgeHHOgr61L2pmVQ2Dvj1xreBgTYO+zwO7z/+Mg77niH7h9c2Dvtxad+SDDoS+T1VpcU9QhL7af4wzaqOEvvRXYsr3w4W+Y1Pssgfmh75HEMF0svKJvizmNIdo5oq+L1DIU2Ogib5FfeftaEGEvvGHuFm66W6+7Bj3XcKUez4HM1AU2RSIPmAgNRYhVHw+UTX6WJbm9b3RYGCNs8p6vurqnn/P+oW+o4AD7eGnir6RcXhXX9+MvoGNnQk0oY2+o3Noc02cjb7LEBc7MUiNvgH0jywC94y+UlPxNijMjL4so9EnKdqLviYbwL/e+4m+qW9nz3EZir4GD1ewDCSQvgHJxb8AoZa+mvb61vWhoL6+QIHBuTuvvrfivsyU1cW+Vd292DfX2b6n8DOilcLqvoUr5UDfyvi+ZCheyn/bBL+LH2C+wRUQv63x5icAiRa/nuy37OpNG7/1vuWwil4ev3CVilC+0B2/vmprUU32Fr9lx+dNMtD4vqE7k8nRJhk/EiL673RDMz9pNREv8JlDP633j4zrFFE/zfDBWI9VWz//pJqMPKZkP6ud8PBo7G0/Y/C53vnvdD/ZbsTUi1p8P7d2YXaWqoI/ZRW1gkaziT8UebOCtgeRP5pFg2/195U/aEoEDarLmz93GFtUAJagP+txcs5ufqM/dnGm/2jcpj8q/HdPrsGqP6+sIEUeOq8/C0Rw2I0psj/JAOjhGAq1P6EX8xXSUbg/\",\"dtype\":\"float64\",\"shape\":[75]},\"y\":{\"__ndarray__\":\"GhExyth1ND/Sv8nbtpRIP2vylNV0PVE/aTum7souWD/At0SJ8fVgPw3Iuahxymc/MSNhhJWvcD/bTfBN02d3P2zb5nxnaoA/CD5h5MAGhz8NmeH1TyaQP+zrCsc9p5Y/LbKd76fGnz/bLW5ISEmmPww9YvTcQq8/JV2OstnstT8Er5Y7M8G+P0c+r3jqkcU/5h99k6ZBzj88bCIzFzjVP4enV8oyxN0//yH99nXg5D8qOpLLf0jtP5kqGJXUifQ/c9cS8kHP/D+/DpwzojQEQIEmwoanVwxA4lgXt9HgE0BSSZ2AJuIbQAMJih9jjiNA5q4l5INuK0AwTKYKRj0zQNv5fmq8/DpAaCJseHrtQkB/+zpwzoxKQM3MzMzMeFJAZmZmZmZqWEAAAAAAAFxeQM3MzMzMJmJAmpmZmZkfZUBmZmZmZhhoQDMzMzMzEWtAAAAAAAAKbkBmZmZmZoFwQM3MzMzM/XFAMzMzMzN6c0CamZmZmfZ0QAAAAAAAc3ZAZmZmZmbvd0DNzMzMzGt5QDMzMzMz6HpAmpmZmZlkfEAAAAAAAOF9QGZmZmZmXX9AZmZmZuZsgECamZmZGSuBQM3MzMxM6YFAAAAAAICngkAzMzMzs2WDQGZmZmbmI4RAmpmZmRnihEDNzMzMTKCFQAAAAACAXoZAMzMzM7Mch0BmZmZm5tqHQJqZmZkZmYhAzczMzExXiUAAAAAAgBWKQDMzMzOz04pAZmZmZuaRi0CamZmZGVCMQM3MzMxMDo1AAAAAAIDMjUAzMzMzs4qOQGZmZmbmSI9A\",\"dtype\":\"float64\",\"shape\":[75]}},\"selected\":{\"id\":\"8916370a-f19b-4c32-a563-047c0d187374\",\"type\":\"Selection\"},\"selection_policy\":{\"id\":\"400d42a5-efce-4c5e-b187-e6606dab138a\",\"type\":\"UnionRenderers\"}},\"id\":\"18ad7403-68b9-44e9-9399-a9fdaf230940\",\"type\":\"ColumnDataSource\"},{\"attributes\":{\"line_alpha\":0.1,\"line_color\":\"#1f77b4\",\"line_width\":3,\"x\":{\"field\":\"x\"},\"y\":{\"field\":\"y\"}},\"id\":\"12865e27-3bde-40b9-9bf8-39e3f560bbfd\",\"type\":\"Line\"},{\"attributes\":{\"source\":{\"id\":\"18ad7403-68b9-44e9-9399-a9fdaf230940\",\"type\":\"ColumnDataSource\"}},\"id\":\"2f43f78b-90c0-4a22-ab29-2cff10162bc8\",\"type\":\"CDSView\"},{\"attributes\":{},\"id\":\"74d8f783-99d3-4e4a-8ec1-26c4e75118dc\",\"type\":\"UnionRenderers\"},{\"attributes\":{\"data_source\":{\"id\":\"80639a1b-6142-4019-9027-b62dc5dbd3b6\",\"type\":\"ColumnDataSource\"},\"glyph\":{\"id\":\"5561fbae-3d95-4651-9fb6-bbe60b68861d\",\"type\":\"Line\"},\"hover_glyph\":null,\"muted_glyph\":null,\"nonselection_glyph\":{\"id\":\"12865e27-3bde-40b9-9bf8-39e3f560bbfd\",\"type\":\"Line\"},\"selection_glyph\":null,\"view\":{\"id\":\"147b3acf-836d-468a-8038-bcb17b4a8b7c\",\"type\":\"CDSView\"}},\"id\":\"e8f1e2f5-f1e1-4084-b3ec-8247ea72b961\",\"type\":\"GlyphRenderer\"},{\"attributes\":{\"source\":{\"id\":\"80639a1b-6142-4019-9027-b62dc5dbd3b6\",\"type\":\"ColumnDataSource\"}},\"id\":\"147b3acf-836d-468a-8038-bcb17b4a8b7c\",\"type\":\"CDSView\"},{\"attributes\":{\"data_source\":{\"id\":\"79813887-8b3c-4439-b9f5-31019435992d\",\"type\":\"ColumnDataSource\"},\"glyph\":{\"id\":\"7f707957-ad6b-4521-91fd-048dc53cf14a\",\"type\":\"Square\"},\"hover_glyph\":null,\"muted_glyph\":null,\"nonselection_glyph\":{\"id\":\"533b28e1-83ff-426a-84a3-1818809a5017\",\"type\":\"Square\"},\"selection_glyph\":null,\"view\":{\"id\":\"ca3b6f6b-89cd-47c6-a39a-245021e87674\",\"type\":\"CDSView\"}},\"id\":\"1f835510-6e8f-4ac6-9081-f9f4ce8b13f3\",\"type\":\"GlyphRenderer\"},{\"attributes\":{\"source\":{\"id\":\"53bfc1fd-b5ca-40e2-8b02-d17e3f0f9248\",\"type\":\"ColumnDataSource\"}},\"id\":\"0177862e-c9ec-4571-9d5e-0157486184bf\",\"type\":\"CDSView\"},{\"attributes\":{\"above\":[{\"id\":\"c7339059-3bc8-4dcb-b9a2-a69db3f33920\",\"type\":\"Legend\"}],\"below\":[{\"id\":\"59c5e15a-8a1e-4a66-8edd-ca4478f56226\",\"type\":\"LinearAxis\"}],\"left\":[{\"id\":\"321ca7ff-7116-4098-aef2-f8af304ab363\",\"type\":\"LogAxis\"}],\"plot_height\":500,\"plot_width\":400,\"renderers\":[{\"id\":\"59c5e15a-8a1e-4a66-8edd-ca4478f56226\",\"type\":\"LinearAxis\"},{\"id\":\"9ce5cce9-63f7-4d10-89e3-3d7ff01e3695\",\"type\":\"Grid\"},{\"id\":\"321ca7ff-7116-4098-aef2-f8af304ab363\",\"type\":\"LogAxis\"},{\"id\":\"7444d9da-c751-48f9-a32f-e78f9a38a77a\",\"type\":\"Grid\"},{\"id\":\"5fea5462-32e0-4313-8c22-842ff297edfd\",\"type\":\"BoxAnnotation\"},{\"id\":\"00fa54d4-643e-445c-b195-bc7d06026169\",\"type\":\"GlyphRenderer\"},{\"id\":\"b71fdc0a-c986-42cb-a54f-a2d9b09de80a\",\"type\":\"GlyphRenderer\"},{\"id\":\"d0d5469e-4632-4b27-91b7-15071b30d789\",\"type\":\"GlyphRenderer\"},{\"id\":\"28912ae2-0acd-4ccd-b5b4-31a4d54d9d80\",\"type\":\"GlyphRenderer\"},{\"id\":\"bdf1062d-9549-4b35-b731-c01f21fecf65\",\"type\":\"GlyphRenderer\"},{\"id\":\"e6363f21-5023-44aa-b6aa-b7d7b886e4f2\",\"type\":\"GlyphRenderer\"},{\"id\":\"c7339059-3bc8-4dcb-b9a2-a69db3f33920\",\"type\":\"Legend\"}],\"title\":{\"id\":\"72ab46d6-32ac-4aee-9fb7-7de8efec782e\",\"type\":\"Title\"},\"toolbar\":{\"id\":\"8db00494-3365-4f89-bce3-4fb09e5ba6af\",\"type\":\"Toolbar\"},\"toolbar_location\":null,\"x_range\":{\"id\":\"4d5fabe4-04d6-45f9-a037-6050e5a6bddc\",\"type\":\"Range1d\"},\"x_scale\":{\"id\":\"169c3f46-c396-4087-8af4-2fad3a2a527e\",\"type\":\"LinearScale\"},\"y_range\":{\"id\":\"7ba1fc94-b484-4f74-a69c-8bd1f526e152\",\"type\":\"Range1d\"},\"y_scale\":{\"id\":\"2590c55c-0380-47e4-9d78-62c9f0229df5\",\"type\":\"LogScale\"}},\"id\":\"02173dd4-172d-4dd3-80a2-f0a1bd4c8954\",\"subtype\":\"Figure\",\"type\":\"Plot\"},{\"attributes\":{\"source\":{\"id\":\"79813887-8b3c-4439-b9f5-31019435992d\",\"type\":\"ColumnDataSource\"}},\"id\":\"ca3b6f6b-89cd-47c6-a39a-245021e87674\",\"type\":\"CDSView\"},{\"attributes\":{\"source\":{\"id\":\"343bff8d-3ef6-4f47-9b44-daeec1321799\",\"type\":\"ColumnDataSource\"}},\"id\":\"173fd33f-36b5-4c30-894d-e2ca6e4327c7\",\"type\":\"CDSView\"},{\"attributes\":{\"line_alpha\":0.3,\"line_color\":\"#377eb8\",\"line_width\":2,\"x\":{\"field\":\"x\"},\"y\":{\"field\":\"y\"}},\"id\":\"b7289ea9-f9fd-4661-86e5-6603652caba8\",\"type\":\"Line\"},{\"attributes\":{\"source\":{\"id\":\"4c49516f-2803-46b6-8d32-d4d3ca65d7f3\",\"type\":\"ColumnDataSource\"}},\"id\":\"3fd63294-bebd-4a02-b1c2-f4d868447e15\",\"type\":\"CDSView\"},{\"attributes\":{},\"id\":\"2c5cd4fe-0547-45f8-9b8c-5edce597c2dc\",\"type\":\"UnionRenderers\"},{\"attributes\":{\"data_source\":{\"id\":\"343bff8d-3ef6-4f47-9b44-daeec1321799\",\"type\":\"ColumnDataSource\"},\"glyph\":{\"id\":\"0c3a1e38-cd4a-4d16-b70c-313209dacade\",\"type\":\"Line\"},\"hover_glyph\":null,\"muted_glyph\":null,\"nonselection_glyph\":{\"id\":\"3de19321-7519-408d-8dba-00b65d6b84d6\",\"type\":\"Line\"},\"selection_glyph\":null,\"view\":{\"id\":\"173fd33f-36b5-4c30-894d-e2ca6e4327c7\",\"type\":\"CDSView\"}},\"id\":\"458630e3-e4ed-4896-9dbd-711d7004d0e1\",\"type\":\"GlyphRenderer\"},{\"attributes\":{\"callback\":null,\"data\":{\"x\":{\"__ndarray__\":\"nIXjWbH/gr6oXsu3zzCDvg0AJb0OZIO+3mH93vatg74wes9QiuyDvoNtmA/cL4S+bspjL455hL7b46oo8r6EvjKaS0OI/4S+PcqZkQlJhb4dFYlHgY2Fvg3UFf9A04W+e7etYDIahr5QCZxFSHOGvvhisq9Wqoe+y075lgPyib7ptEumjRqMvvrOgeriBI2+oGqC2ZJwi762JhWrbUmFvleHvsSprGy+hGWZdmHrgD5whUb/h2mMPhziheaYWIE+P/p9JPN1Rz5UzYnbPQN7voNpCkyLL4e+90mCPhSDjL6jFbjQRBePvld712AGBJC+WHFZStULkL4zEeXI8cqPvmOob4o8fY++6sL+hbFWj75TTm3rH1eOvvNtvnVvVIy+hryJn3F3jL58VvXpoJmRvgGssRoPqJi+FSmZAWEbor7b4nH0q/uwvq7UMvIQt8e+6N6GeDMG3L7UFyGKr/fsvr6NQPl2xvq+3huJmkl1Br91Q1cgHEARvwQgzKSLCBi/QLUUTsTgHL89S4GzkK4fv9NmxaYtSR6/UET0qx+tFb+V7HIbkgXfvlwtp9IqNyE/L0zc9SB4Nz/BmspKfBVHP9xXKM37w1M/yagdg69WXz/IBlu3BIpnP9Ppx8aG5XA/YhvxGxhddz9GklNNppB/P3ZIX3iNrIQ/xrG0p3JHjD+wEtVWSqGSP6JtpIjm45c/L3T8gqMFnj8BdLHMz8uhP6Dfj4zpyqQ/kWRW73A7qD+JwcGzRDSsPyMAnSHTXLA/YkQAQrTusj9I1hmTidG1PwYwWLZ+Frk/\",\"dtype\":\"float64\",\"shape\":[75]},\"y\":{\"__ndarray__\":\"GhExyth1ND/Sv8nbtpRIP2vylNV0PVE/aTum7souWD/At0SJ8fVgPw3Iuahxymc/MSNhhJWvcD/bTfBN02d3P2zb5nxnaoA/CD5h5MAGhz8NmeH1TyaQP+zrCsc9p5Y/LbKd76fGnz/bLW5ISEmmPww9YvTcQq8/JV2OstnstT8Er5Y7M8G+P0c+r3jqkcU/5h99k6ZBzj88bCIzFzjVP4enV8oyxN0//yH99nXg5D8qOpLLf0jtP5kqGJXUifQ/c9cS8kHP/D+/DpwzojQEQIEmwoanVwxA4lgXt9HgE0BSSZ2AJuIbQAMJih9jjiNA5q4l5INuK0AwTKYKRj0zQNv5fmq8/DpAaCJseHrtQkB/+zpwzoxKQM3MzMzMeFJAZmZmZmZqWEAAAAAAAFxeQM3MzMzMJmJAmpmZmZkfZUBmZmZmZhhoQDMzMzMzEWtAAAAAAAAKbkBmZmZmZoFwQM3MzMzM/XFAMzMzMzN6c0CamZmZmfZ0QAAAAAAAc3ZAZmZmZmbvd0DNzMzMzGt5QDMzMzMz6HpAmpmZmZlkfEAAAAAAAOF9QGZmZmZmXX9AZmZmZuZsgECamZmZGSuBQM3MzMxM6YFAAAAAAICngkAzMzMzs2WDQGZmZmbmI4RAmpmZmRnihEDNzMzMTKCFQAAAAACAXoZAMzMzM7Mch0BmZmZm5tqHQJqZmZkZmYhAzczMzExXiUAAAAAAgBWKQDMzMzOz04pAZmZmZuaRi0CamZmZGVCMQM3MzMxMDo1AAAAAAIDMjUAzMzMzs4qOQGZmZmbmSI9A\",\"dtype\":\"float64\",\"shape\":[75]}},\"selected\":{\"id\":\"cbecfdff-2cc0-43d9-b082-00468a5223d9\",\"type\":\"Selection\"},\"selection_policy\":{\"id\":\"84387dc2-fcc4-4958-96ad-0428f0b53f33\",\"type\":\"UnionRenderers\"}},\"id\":\"63727806-d0f5-45b6-9b33-d159b655cb86\",\"type\":\"ColumnDataSource\"},{\"attributes\":{\"callback\":null,\"data\":{\"x\":{\"__ndarray__\":\"HX+bDqZugb7DL0PC+JKBvtrfbQCz1oG+jW6yH0QJgr4zaqBWr1WCviwUNzdhh4K+MjWgeHHOgr61L2pmVQ2Dvj1xreBgTYO+zwO7z/+Mg77niH7h9c2Dvtxad+SDDoS+T1VpcU9QhL7af4wzaqOEvvRXYsr3w4W+Y1Pssgfmh75HEMF0svKJvizmNIdo5oq+L1DIU2Ogib5FfeftaEGEvvGHuFm66W6+7Bj3XcKUez4HM1AU2RSIPmAgNRYhVHw+UTX6WJbm9b3RYGCNs8p6vurqnn/P+oW+o4AD7eGnir6RcXhXX9+MvoGNnQk0oY2+o3Noc02cjb7LEBc7MUiNvgH0jywC94y+UlPxNijMjL4so9EnKdqLviYbwL/e+4m+qW9nz3EZir4GD1ewDCSQvgHJxb8AoZa+mvb61vWhoL6+QIHBuTuvvrfivsyU1cW+Vd292DfX2b6n8DOilcLqvoUr5UDfyvi+ZCheyn/bBL+LH2C+wRUQv63x5icAiRa/nuy37OpNG7/1vuWwil4ev3CVilC+0B2/vmprUU32Fr9lx+dNMtD4vqE7k8nRJhk/EiL673RDMz9pNREv8JlDP633j4zrFFE/zfDBWI9VWz//pJqMPKZkP6ud8PBo7G0/Y/C53vnvdD/ZbsTUi1p8P7d2YXaWqoI/ZRW1gkaziT8UebOCtgeRP5pFg2/195U/aEoEDarLmz93GFtUAJagP+txcs5ufqM/dnGm/2jcpj8q/HdPrsGqP6+sIEUeOq8/C0Rw2I0psj/JAOjhGAq1P6EX8xXSUbg/\",\"dtype\":\"float64\",\"shape\":[75]},\"y\":{\"__ndarray__\":\"GhExyth1ND/Sv8nbtpRIP2vylNV0PVE/aTum7souWD/At0SJ8fVgPw3Iuahxymc/MSNhhJWvcD/bTfBN02d3P2zb5nxnaoA/CD5h5MAGhz8NmeH1TyaQP+zrCsc9p5Y/LbKd76fGnz/bLW5ISEmmPww9YvTcQq8/JV2OstnstT8Er5Y7M8G+P0c+r3jqkcU/5h99k6ZBzj88bCIzFzjVP4enV8oyxN0//yH99nXg5D8qOpLLf0jtP5kqGJXUifQ/c9cS8kHP/D+/DpwzojQEQIEmwoanVwxA4lgXt9HgE0BSSZ2AJuIbQAMJih9jjiNA5q4l5INuK0AwTKYKRj0zQNv5fmq8/DpAaCJseHrtQkB/+zpwzoxKQM3MzMzMeFJAZmZmZmZqWEAAAAAAAFxeQM3MzMzMJmJAmpmZmZkfZUBmZmZmZhhoQDMzMzMzEWtAAAAAAAAKbkBmZmZmZoFwQM3MzMzM/XFAMzMzMzN6c0CamZmZmfZ0QAAAAAAAc3ZAZmZmZmbvd0DNzMzMzGt5QDMzMzMz6HpAmpmZmZlkfEAAAAAAAOF9QGZmZmZmXX9AZmZmZuZsgECamZmZGSuBQM3MzMxM6YFAAAAAAICngkAzMzMzs2WDQGZmZmbmI4RAmpmZmRnihEDNzMzMTKCFQAAAAACAXoZAMzMzM7Mch0BmZmZm5tqHQJqZmZkZmYhAzczMzExXiUAAAAAAgBWKQDMzMzOz04pAZmZmZuaRi0CamZmZGVCMQM3MzMxMDo1AAAAAAIDMjUAzMzMzs4qOQGZmZmbmSI9A\",\"dtype\":\"float64\",\"shape\":[75]}},\"selected\":{\"id\":\"8140a92f-2055-421d-b275-eb4e5e2ec536\",\"type\":\"Selection\"},\"selection_policy\":{\"id\":\"0982b595-3245-42ef-b7e3-4a0b533885d1\",\"type\":\"UnionRenderers\"}},\"id\":\"4c49516f-2803-46b6-8d32-d4d3ca65d7f3\",\"type\":\"ColumnDataSource\"},{\"attributes\":{\"fill_alpha\":{\"value\":0.1},\"fill_color\":{\"value\":\"#1f77b4\"},\"line_alpha\":{\"value\":0.1},\"line_color\":{\"value\":\"#1f77b4\"},\"x\":{\"field\":\"x\"},\"y\":{\"field\":\"y\"}},\"id\":\"86535f91-a38d-4d03-b043-00c259fdd7b5\",\"type\":\"Square\"},{\"attributes\":{\"fill_alpha\":{\"value\":0.7},\"fill_color\":{\"value\":\"#377eb8\"},\"line_alpha\":{\"value\":0.7},\"line_color\":{\"value\":\"#377eb8\"},\"x\":{\"field\":\"x\"},\"y\":{\"field\":\"y\"}},\"id\":\"5c0dd472-76e4-4e49-917b-2f1cc044a57f\",\"type\":\"Triangle\"},{\"attributes\":{\"line_alpha\":0.6,\"line_color\":\"#984ea3\",\"line_width\":3,\"x\":{\"field\":\"x\"},\"y\":{\"field\":\"y\"}},\"id\":\"5561fbae-3d95-4651-9fb6-bbe60b68861d\",\"type\":\"Line\"},{\"attributes\":{\"data_source\":{\"id\":\"4c49516f-2803-46b6-8d32-d4d3ca65d7f3\",\"type\":\"ColumnDataSource\"},\"glyph\":{\"id\":\"b7289ea9-f9fd-4661-86e5-6603652caba8\",\"type\":\"Line\"},\"hover_glyph\":null,\"muted_glyph\":null,\"nonselection_glyph\":{\"id\":\"2cb54882-13fe-4356-97e2-0044bfc18a28\",\"type\":\"Line\"},\"selection_glyph\":null,\"view\":{\"id\":\"3fd63294-bebd-4a02-b1c2-f4d868447e15\",\"type\":\"CDSView\"}},\"id\":\"5462f58b-4af5-4180-9a17-100d61a8b2c7\",\"type\":\"GlyphRenderer\"},{\"attributes\":{\"active_drag\":\"auto\",\"active_inspect\":\"auto\",\"active_scroll\":\"auto\",\"active_tap\":\"auto\",\"tools\":[{\"id\":\"dd038981-18e4-4247-9e68-d06eec48c484\",\"type\":\"PanTool\"},{\"id\":\"97998bf7-28f1-48fc-b71c-db1f88e46d13\",\"type\":\"WheelZoomTool\"},{\"id\":\"e8afac70-6d75-4835-88dc-4e1a5672e7f7\",\"type\":\"BoxZoomTool\"},{\"id\":\"6df6d668-48d4-430f-a1f6-4cd55d5de7c2\",\"type\":\"SaveTool\"},{\"id\":\"10e061e5-e42b-4050-a9b9-0bd9c6832319\",\"type\":\"ResetTool\"},{\"id\":\"a8d69c46-036f-438d-8549-b423fe2a8135\",\"type\":\"HelpTool\"}]},\"id\":\"8db00494-3365-4f89-bce3-4fb09e5ba6af\",\"type\":\"Toolbar\"},{\"attributes\":{\"label\":{\"value\":\"CRD\"},\"renderers\":[{\"id\":\"7066823e-7693-4d53-9692-5997ae76e2e9\",\"type\":\"GlyphRenderer\"},{\"id\":\"458630e3-e4ed-4896-9dbd-711d7004d0e1\",\"type\":\"GlyphRenderer\"}]},\"id\":\"f6e6395a-293d-4c33-bcec-8e263ce72292\",\"type\":\"LegendItem\"},{\"attributes\":{\"data_source\":{\"id\":\"63727806-d0f5-45b6-9b33-d159b655cb86\",\"type\":\"ColumnDataSource\"},\"glyph\":{\"id\":\"1d6ead26-74a5-4604-a8e5-86b875ad1a45\",\"type\":\"Square\"},\"hover_glyph\":null,\"muted_glyph\":null,\"nonselection_glyph\":{\"id\":\"86535f91-a38d-4d03-b043-00c259fdd7b5\",\"type\":\"Square\"},\"selection_glyph\":null,\"view\":{\"id\":\"772fb698-6f69-497a-a9a9-eeebfbf72303\",\"type\":\"CDSView\"}},\"id\":\"d0d5469e-4632-4b27-91b7-15071b30d789\",\"type\":\"GlyphRenderer\"},{\"attributes\":{\"callback\":null,\"end\":3.3394362500000006e-07,\"start\":-1.0795443250000002e-06},\"id\":\"4d5fabe4-04d6-45f9-a037-6050e5a6bddc\",\"type\":\"Range1d\"},{\"attributes\":{\"label\":{\"value\":\"WGT igg=1\"},\"renderers\":[{\"id\":\"1f835510-6e8f-4ac6-9081-f9f4ce8b13f3\",\"type\":\"GlyphRenderer\"},{\"id\":\"e8f1e2f5-f1e1-4084-b3ec-8247ea72b961\",\"type\":\"GlyphRenderer\"}]},\"id\":\"232a3175-449b-41c8-915f-9a64594aff1f\",\"type\":\"LegendItem\"},{\"attributes\":{},\"id\":\"169c3f46-c396-4087-8af4-2fad3a2a527e\",\"type\":\"LinearScale\"},{\"attributes\":{\"source\":{\"id\":\"7d85f585-6a9e-46f2-bdf5-3eec4fef2b90\",\"type\":\"ColumnDataSource\"}},\"id\":\"cc3d5288-996a-4ff7-a244-0c9848485a2d\",\"type\":\"CDSView\"},{\"attributes\":{\"label\":{\"value\":\"WGT igg=10\"},\"renderers\":[{\"id\":\"388db916-67b9-42e9-957b-e483249829e1\",\"type\":\"GlyphRenderer\"},{\"id\":\"5462f58b-4af5-4180-9a17-100d61a8b2c7\",\"type\":\"GlyphRenderer\"}]},\"id\":\"eb3fa6bb-ddc9-4b92-a4d0-7bcb50c59482\",\"type\":\"LegendItem\"},{\"attributes\":{\"line_alpha\":0.6,\"line_color\":\"#984ea3\",\"line_width\":3,\"x\":{\"field\":\"x\"},\"y\":{\"field\":\"y\"}},\"id\":\"174ed466-3f8d-48d1-b615-27b9f5de5b63\",\"type\":\"Line\"},{\"attributes\":{\"bottom_units\":\"screen\",\"fill_alpha\":{\"value\":0.5},\"fill_color\":{\"value\":\"lightgrey\"},\"left_units\":\"screen\",\"level\":\"overlay\",\"line_alpha\":{\"value\":1.0},\"line_color\":{\"value\":\"black\"},\"line_dash\":[4,4],\"line_width\":{\"value\":2},\"plot\":null,\"render_mode\":\"css\",\"right_units\":\"screen\",\"top_units\":\"screen\"},\"id\":\"5fea5462-32e0-4313-8c22-842ff297edfd\",\"type\":\"BoxAnnotation\"},{\"attributes\":{\"line_alpha\":0.1,\"line_color\":\"#1f77b4\",\"line_width\":3,\"x\":{\"field\":\"x\"},\"y\":{\"field\":\"y\"}},\"id\":\"b6164bb1-6961-4f2c-944c-be19bd7c9ae6\",\"type\":\"Line\"},{\"attributes\":{\"items\":[{\"id\":\"9fb7eb9c-ed6b-4661-831e-808299dee34e\",\"type\":\"LegendItem\"},{\"id\":\"a4009c97-7cbf-42aa-9991-b479bf640135\",\"type\":\"LegendItem\"},{\"id\":\"b80d62c1-90a9-4b16-ad4b-67dab6e9402d\",\"type\":\"LegendItem\"}],\"label_text_font_size\":{\"value\":\"8pt\"},\"location\":\"top_center\",\"orientation\":\"horizontal\",\"plot\":{\"id\":\"02173dd4-172d-4dd3-80a2-f0a1bd4c8954\",\"subtype\":\"Figure\",\"type\":\"Plot\"}},\"id\":\"c7339059-3bc8-4dcb-b9a2-a69db3f33920\",\"type\":\"Legend\"},{\"attributes\":{\"line_alpha\":0.1,\"line_color\":\"#1f77b4\",\"line_width\":2,\"x\":{\"field\":\"x\"},\"y\":{\"field\":\"y\"}},\"id\":\"dfa6c699-798f-46b6-9ced-dc0b168c0b84\",\"type\":\"Line\"},{\"attributes\":{},\"id\":\"97998bf7-28f1-48fc-b71c-db1f88e46d13\",\"type\":\"WheelZoomTool\"},{\"attributes\":{\"source\":{\"id\":\"63727806-d0f5-45b6-9b33-d159b655cb86\",\"type\":\"ColumnDataSource\"}},\"id\":\"772fb698-6f69-497a-a9a9-eeebfbf72303\",\"type\":\"CDSView\"},{\"attributes\":{},\"id\":\"2590c55c-0380-47e4-9d78-62c9f0229df5\",\"type\":\"LogScale\"},{\"attributes\":{\"source\":{\"id\":\"6dd9cfe5-f23e-4b91-825e-aba8aff31632\",\"type\":\"ColumnDataSource\"}},\"id\":\"ec5ed9a9-c287-46bf-9a09-17ddc10d4795\",\"type\":\"CDSView\"},{\"attributes\":{\"axis_label\":\"cooling rate [K/day]\",\"formatter\":{\"id\":\"25918358-20bf-4412-ab14-a96bb7a8dfe0\",\"type\":\"BasicTickFormatter\"},\"plot\":{\"id\":\"02173dd4-172d-4dd3-80a2-f0a1bd4c8954\",\"subtype\":\"Figure\",\"type\":\"Plot\"},\"ticker\":{\"id\":\"c50b7d11-6e77-4277-b249-d2016f291c9f\",\"type\":\"BasicTicker\"}},\"id\":\"59c5e15a-8a1e-4a66-8edd-ca4478f56226\",\"type\":\"LinearAxis\"},{\"attributes\":{},\"id\":\"c50b7d11-6e77-4277-b249-d2016f291c9f\",\"type\":\"BasicTicker\"},{\"attributes\":{\"overlay\":{\"id\":\"5fea5462-32e0-4313-8c22-842ff297edfd\",\"type\":\"BoxAnnotation\"}},\"id\":\"e8afac70-6d75-4835-88dc-4e1a5672e7f7\",\"type\":\"BoxZoomTool\"},{\"attributes\":{},\"id\":\"6df6d668-48d4-430f-a1f6-4cd55d5de7c2\",\"type\":\"SaveTool\"},{\"attributes\":{\"callback\":null,\"data\":{\"x\":{\"__ndarray__\":\"2Z6YwAVShL5HIILG5YSEvh7BWy8jsYS+QoruH13mhL5S/wLQZCGFvg29PRBebIW+Izt12Q7Bhb4W18zxSPSFvlA/E9JFNIa+AiZkJjODhr6wcip/UMCGvngqu5ZbAYe+3Kqj+z1Jh7461ygSMZyHvjlsU3uCv4i+/hURvwvOir4vUi5BfXmMvoqpvmg7koy+jd//NtSfib6O40D/AUKBvtIRpX9tMig+GsBEQFZYjT712/2sCHuVPiv8AGr83Y0+GgzZIhXRdT4onYgInSNtvtX0yX3kaYO+jPCCIXByir5QMRnBCDaOvmEN5ERp+Y++i79gqvBNkL4cTUyc7luQvo7VN20bXJC+cNU2baFokL7gj4Sz0gOQvn7T/+jyIY6+o7GNPxhijr4uI7eVUsCSvv/2JAWcKZq+5jdPws0jo76vderOFuGxvmj82e+r2ci+oSYODo0z3b7DVQk6svntvo8/PPy+dvu+dLJErNXFBr84FKxrHDkRvw2FE2NWeRe/XlGrKm5GG7+LlsNxxD4cv+Jz+dX33xe/GrbAJ5x8Bb9cbj/TdAQPP0UfPspNUS4/F0unCQN3QD89w5k0TaVNP/bfIGRULlg/iZEgunKGYj9qc3bLwhlrP7d08omIIHM/fn8JMLopej/1q+1oy1mBP/6KDN2yZIY/I0y5EQIxjj8pBbeXL42TP6jOvH+gmpg/B/LQnX5Vnj/qQF9FCaShP718zLa8OqQ/IJAgnBwspz/TwljrM4OqP41xp2/3RK4/fMNe1xg8sT/Uevd77Y+zPzMjpaGSL7Y/\",\"dtype\":\"float64\",\"shape\":[75]},\"y\":{\"__ndarray__\":\"GhExyth1ND/Sv8nbtpRIP2vylNV0PVE/aTum7souWD/At0SJ8fVgPw3Iuahxymc/MSNhhJWvcD/bTfBN02d3P2zb5nxnaoA/CD5h5MAGhz8NmeH1TyaQP+zrCsc9p5Y/LbKd76fGnz/bLW5ISEmmPww9YvTcQq8/JV2OstnstT8Er5Y7M8G+P0c+r3jqkcU/5h99k6ZBzj88bCIzFzjVP4enV8oyxN0//yH99nXg5D8qOpLLf0jtP5kqGJXUifQ/c9cS8kHP/D+/DpwzojQEQIEmwoanVwxA4lgXt9HgE0BSSZ2AJuIbQAMJih9jjiNA5q4l5INuK0AwTKYKRj0zQNv5fmq8/DpAaCJseHrtQkB/+zpwzoxKQM3MzMzMeFJAZmZmZmZqWEAAAAAAAFxeQM3MzMzMJmJAmpmZmZkfZUBmZmZmZhhoQDMzMzMzEWtAAAAAAAAKbkBmZmZmZoFwQM3MzMzM/XFAMzMzMzN6c0CamZmZmfZ0QAAAAAAAc3ZAZmZmZmbvd0DNzMzMzGt5QDMzMzMz6HpAmpmZmZlkfEAAAAAAAOF9QGZmZmZmXX9AZmZmZuZsgECamZmZGSuBQM3MzMxM6YFAAAAAAICngkAzMzMzs2WDQGZmZmbmI4RAmpmZmRnihEDNzMzMTKCFQAAAAACAXoZAMzMzM7Mch0BmZmZm5tqHQJqZmZkZmYhAzczMzExXiUAAAAAAgBWKQDMzMzOz04pAZmZmZuaRi0CamZmZGVCMQM3MzMxMDo1AAAAAAIDMjUAzMzMzs4qOQGZmZmbmSI9A\",\"dtype\":\"float64\",\"shape\":[75]}},\"selected\":{\"id\":\"f50e364d-0bb8-44ad-be1f-c995e622cd1e\",\"type\":\"Selection\"},\"selection_policy\":{\"id\":\"5cca174c-2514-49b0-854a-965995cbb513\",\"type\":\"UnionRenderers\"}},\"id\":\"7d85f585-6a9e-46f2-bdf5-3eec4fef2b90\",\"type\":\"ColumnDataSource\"},{\"attributes\":{},\"id\":\"10e061e5-e42b-4050-a9b9-0bd9c6832319\",\"type\":\"ResetTool\"},{\"attributes\":{},\"id\":\"a8d69c46-036f-438d-8549-b423fe2a8135\",\"type\":\"HelpTool\"},{\"attributes\":{\"line_alpha\":0.1,\"line_color\":\"#1f77b4\",\"line_width\":1.5,\"x\":{\"field\":\"x\"},\"y\":{\"field\":\"y\"}},\"id\":\"361f3888-1eb4-419c-89e2-57060fa68f43\",\"type\":\"Line\"},{\"attributes\":{\"data_source\":{\"id\":\"6dd9cfe5-f23e-4b91-825e-aba8aff31632\",\"type\":\"ColumnDataSource\"},\"glyph\":{\"id\":\"174ed466-3f8d-48d1-b615-27b9f5de5b63\",\"type\":\"Line\"},\"hover_glyph\":null,\"muted_glyph\":null,\"nonselection_glyph\":{\"id\":\"b6164bb1-6961-4f2c-944c-be19bd7c9ae6\",\"type\":\"Line\"},\"selection_glyph\":null,\"view\":{\"id\":\"ec5ed9a9-c287-46bf-9a09-17ddc10d4795\",\"type\":\"CDSView\"}},\"id\":\"28912ae2-0acd-4ccd-b5b4-31a4d54d9d80\",\"type\":\"GlyphRenderer\"},{\"attributes\":{\"data_source\":{\"id\":\"7d85f585-6a9e-46f2-bdf5-3eec4fef2b90\",\"type\":\"ColumnDataSource\"},\"glyph\":{\"id\":\"31d42985-3fee-4bdd-abca-f2b8fd00173f\",\"type\":\"Line\"},\"hover_glyph\":null,\"muted_glyph\":null,\"nonselection_glyph\":{\"id\":\"361f3888-1eb4-419c-89e2-57060fa68f43\",\"type\":\"Line\"},\"selection_glyph\":null,\"view\":{\"id\":\"cc3d5288-996a-4ff7-a244-0c9848485a2d\",\"type\":\"CDSView\"}},\"id\":\"b71fdc0a-c986-42cb-a54f-a2d9b09de80a\",\"type\":\"GlyphRenderer\"},{\"attributes\":{\"callback\":null,\"data\":{\"x\":{\"__ndarray__\":\"HX+bDqZugb7DL0PC+JKBvtrfbQCz1oG+jW6yH0QJgr4zaqBWr1WCviwUNzdhh4K+MjWgeHHOgr61L2pmVQ2Dvj1xreBgTYO+zwO7z/+Mg77niH7h9c2Dvtxad+SDDoS+T1VpcU9QhL7af4wzaqOEvvRXYsr3w4W+Y1Pssgfmh75HEMF0svKJvizmNIdo5oq+L1DIU2Ogib5FfeftaEGEvvGHuFm66W6+7Bj3XcKUez4HM1AU2RSIPmAgNRYhVHw+UTX6WJbm9b3RYGCNs8p6vurqnn/P+oW+o4AD7eGnir6RcXhXX9+MvoGNnQk0oY2+o3Noc02cjb7LEBc7MUiNvgH0jywC94y+UlPxNijMjL4so9EnKdqLviYbwL/e+4m+qW9nz3EZir4GD1ewDCSQvgHJxb8AoZa+mvb61vWhoL6+QIHBuTuvvrfivsyU1cW+Vd292DfX2b6n8DOilcLqvoUr5UDfyvi+ZCheyn/bBL+LH2C+wRUQv63x5icAiRa/nuy37OpNG7/1vuWwil4ev3CVilC+0B2/vmprUU32Fr9lx+dNMtD4vqE7k8nRJhk/EiL673RDMz9pNREv8JlDP633j4zrFFE/zfDBWI9VWz//pJqMPKZkP6ud8PBo7G0/Y/C53vnvdD/ZbsTUi1p8P7d2YXaWqoI/ZRW1gkaziT8UebOCtgeRP5pFg2/195U/aEoEDarLmz93GFtUAJagP+txcs5ufqM/dnGm/2jcpj8q/HdPrsGqP6+sIEUeOq8/C0Rw2I0psj/JAOjhGAq1P6EX8xXSUbg/\",\"dtype\":\"float64\",\"shape\":[75]},\"y\":{\"__ndarray__\":\"GhExyth1ND/Sv8nbtpRIP2vylNV0PVE/aTum7souWD/At0SJ8fVgPw3Iuahxymc/MSNhhJWvcD/bTfBN02d3P2zb5nxnaoA/CD5h5MAGhz8NmeH1TyaQP+zrCsc9p5Y/LbKd76fGnz/bLW5ISEmmPww9YvTcQq8/JV2OstnstT8Er5Y7M8G+P0c+r3jqkcU/5h99k6ZBzj88bCIzFzjVP4enV8oyxN0//yH99nXg5D8qOpLLf0jtP5kqGJXUifQ/c9cS8kHP/D+/DpwzojQEQIEmwoanVwxA4lgXt9HgE0BSSZ2AJuIbQAMJih9jjiNA5q4l5INuK0AwTKYKRj0zQNv5fmq8/DpAaCJseHrtQkB/+zpwzoxKQM3MzMzMeFJAZmZmZmZqWEAAAAAAAFxeQM3MzMzMJmJAmpmZmZkfZUBmZmZmZhhoQDMzMzMzEWtAAAAAAAAKbkBmZmZmZoFwQM3MzMzM/XFAMzMzMzN6c0CamZmZmfZ0QAAAAAAAc3ZAZmZmZmbvd0DNzMzMzGt5QDMzMzMz6HpAmpmZmZlkfEAAAAAAAOF9QGZmZmZmXX9AZmZmZuZsgECamZmZGSuBQM3MzMxM6YFAAAAAAICngkAzMzMzs2WDQGZmZmbmI4RAmpmZmRnihEDNzMzMTKCFQAAAAACAXoZAMzMzM7Mch0BmZmZm5tqHQJqZmZkZmYhAzczMzExXiUAAAAAAgBWKQDMzMzOz04pAZmZmZuaRi0CamZmZGVCMQM3MzMxMDo1AAAAAAIDMjUAzMzMzs4qOQGZmZmbmSI9A\",\"dtype\":\"float64\",\"shape\":[75]}},\"selected\":{\"id\":\"23109327-6c93-494a-a760-9808f1ee639a\",\"type\":\"Selection\"},\"selection_policy\":{\"id\":\"561d2c78-b166-48cf-8bfe-3977391b8f11\",\"type\":\"UnionRenderers\"}},\"id\":\"8953b6b4-6eb8-4b5a-814d-418ece5f55eb\",\"type\":\"ColumnDataSource\"},{\"attributes\":{},\"id\":\"8140a92f-2055-421d-b275-eb4e5e2ec536\",\"type\":\"Selection\"},{\"attributes\":{\"fill_alpha\":{\"value\":0.7},\"fill_color\":{\"value\":\"#377eb8\"},\"line_alpha\":{\"value\":0.7},\"line_color\":{\"value\":\"#377eb8\"},\"x\":{\"field\":\"x\"},\"y\":{\"field\":\"y\"}},\"id\":\"b8d4859e-6531-4380-9c8a-f974d7333aad\",\"type\":\"Triangle\"},{\"attributes\":{\"callback\":null,\"data\":{\"x\":{\"__ndarray__\":\"HX+bDqZugb7DL0PC+JKBvtrfbQCz1oG+jW6yH0QJgr4zaqBWr1WCviwUNzdhh4K+MjWgeHHOgr61L2pmVQ2Dvj1xreBgTYO+zwO7z/+Mg77niH7h9c2Dvtxad+SDDoS+T1VpcU9QhL7af4wzaqOEvvRXYsr3w4W+Y1Pssgfmh75HEMF0svKJvizmNIdo5oq+L1DIU2Ogib5FfeftaEGEvvGHuFm66W6+7Bj3XcKUez4HM1AU2RSIPmAgNRYhVHw+UTX6WJbm9b3RYGCNs8p6vurqnn/P+oW+o4AD7eGnir6RcXhXX9+MvoGNnQk0oY2+o3Noc02cjb7LEBc7MUiNvgH0jywC94y+UlPxNijMjL4so9EnKdqLviYbwL/e+4m+qW9nz3EZir4GD1ewDCSQvgHJxb8AoZa+mvb61vWhoL6+QIHBuTuvvrfivsyU1cW+Vd292DfX2b6n8DOilcLqvoUr5UDfyvi+ZCheyn/bBL+LH2C+wRUQv63x5icAiRa/nuy37OpNG7/1vuWwil4ev3CVilC+0B2/vmprUU32Fr9lx+dNMtD4vqE7k8nRJhk/EiL673RDMz9pNREv8JlDP633j4zrFFE/zfDBWI9VWz//pJqMPKZkP6ud8PBo7G0/Y/C53vnvdD/ZbsTUi1p8P7d2YXaWqoI/ZRW1gkaziT8UebOCtgeRP5pFg2/195U/aEoEDarLmz93GFtUAJagP+txcs5ufqM/dnGm/2jcpj8q/HdPrsGqP6+sIEUeOq8/C0Rw2I0psj/JAOjhGAq1P6EX8xXSUbg/\",\"dtype\":\"float64\",\"shape\":[75]},\"y\":{\"__ndarray__\":\"GhExyth1ND/Sv8nbtpRIP2vylNV0PVE/aTum7souWD/At0SJ8fVgPw3Iuahxymc/MSNhhJWvcD/bTfBN02d3P2zb5nxnaoA/CD5h5MAGhz8NmeH1TyaQP+zrCsc9p5Y/LbKd76fGnz/bLW5ISEmmPww9YvTcQq8/JV2OstnstT8Er5Y7M8G+P0c+r3jqkcU/5h99k6ZBzj88bCIzFzjVP4enV8oyxN0//yH99nXg5D8qOpLLf0jtP5kqGJXUifQ/c9cS8kHP/D+/DpwzojQEQIEmwoanVwxA4lgXt9HgE0BSSZ2AJuIbQAMJih9jjiNA5q4l5INuK0AwTKYKRj0zQNv5fmq8/DpAaCJseHrtQkB/+zpwzoxKQM3MzMzMeFJAZmZmZmZqWEAAAAAAAFxeQM3MzMzMJmJAmpmZmZkfZUBmZmZmZhhoQDMzMzMzEWtAAAAAAAAKbkBmZmZmZoFwQM3MzMzM/XFAMzMzMzN6c0CamZmZmfZ0QAAAAAAAc3ZAZmZmZmbvd0DNzMzMzGt5QDMzMzMz6HpAmpmZmZlkfEAAAAAAAOF9QGZmZmZmXX9AZmZmZuZsgECamZmZGSuBQM3MzMxM6YFAAAAAAICngkAzMzMzs2WDQGZmZmbmI4RAmpmZmRnihEDNzMzMTKCFQAAAAACAXoZAMzMzM7Mch0BmZmZm5tqHQJqZmZkZmYhAzczMzExXiUAAAAAAgBWKQDMzMzOz04pAZmZmZuaRi0CamZmZGVCMQM3MzMxMDo1AAAAAAIDMjUAzMzMzs4qOQGZmZmbmSI9A\",\"dtype\":\"float64\",\"shape\":[75]}},\"selected\":{\"id\":\"fc601cc8-c399-4462-af38-bfbce8c13994\",\"type\":\"Selection\"},\"selection_policy\":{\"id\":\"34261bfc-63ba-4778-9b66-371eafbe1909\",\"type\":\"UnionRenderers\"}},\"id\":\"d06b3ef8-5bf3-4289-a7b0-90a3d9f50fa3\",\"type\":\"ColumnDataSource\"},{\"attributes\":{\"fill_alpha\":{\"value\":0.7},\"fill_color\":{\"value\":\"#4daf4a\"},\"line_alpha\":{\"value\":0.7},\"line_color\":{\"value\":\"#4daf4a\"},\"x\":{\"field\":\"x\"},\"y\":{\"field\":\"y\"}},\"id\":\"5b12f6db-3562-4c2c-9b9d-a55c969795ee\",\"type\":\"Circle\"},{\"attributes\":{\"source\":{\"id\":\"8953b6b4-6eb8-4b5a-814d-418ece5f55eb\",\"type\":\"ColumnDataSource\"}},\"id\":\"c932782f-b24c-4e63-80c4-c4e1f0f797ac\",\"type\":\"CDSView\"},{\"attributes\":{\"fill_alpha\":{\"value\":0.7},\"fill_color\":{\"value\":\"#984ea3\"},\"line_alpha\":{\"value\":0.7},\"line_color\":{\"value\":\"#984ea3\"},\"x\":{\"field\":\"x\"},\"y\":{\"field\":\"y\"}},\"id\":\"1d6ead26-74a5-4604-a8e5-86b875ad1a45\",\"type\":\"Square\"},{\"attributes\":{\"fill_alpha\":{\"value\":0.1},\"fill_color\":{\"value\":\"#1f77b4\"},\"line_alpha\":{\"value\":0.1},\"line_color\":{\"value\":\"#1f77b4\"},\"x\":{\"field\":\"x\"},\"y\":{\"field\":\"y\"}},\"id\":\"0e46f673-c17c-4686-8d2f-c420e68cc5de\",\"type\":\"Triangle\"},{\"attributes\":{\"line_alpha\":0.3,\"line_color\":\"#377eb8\",\"line_width\":2,\"x\":{\"field\":\"x\"},\"y\":{\"field\":\"y\"}},\"id\":\"f2aaf6c4-edd4-427e-bba4-7891cd1ec559\",\"type\":\"Line\"},{\"attributes\":{\"children\":[{\"id\":\"6e503fa2-3771-4c83-84a3-fbc52717f878\",\"type\":\"Row\"}]},\"id\":\"1ee2565f-284f-45a8-bda7-b128379906f1\",\"type\":\"Column\"},{\"attributes\":{\"data_source\":{\"id\":\"8953b6b4-6eb8-4b5a-814d-418ece5f55eb\",\"type\":\"ColumnDataSource\"},\"glyph\":{\"id\":\"b8d4859e-6531-4380-9c8a-f974d7333aad\",\"type\":\"Triangle\"},\"hover_glyph\":null,\"muted_glyph\":null,\"nonselection_glyph\":{\"id\":\"0e46f673-c17c-4686-8d2f-c420e68cc5de\",\"type\":\"Triangle\"},\"selection_glyph\":null,\"view\":{\"id\":\"c932782f-b24c-4e63-80c4-c4e1f0f797ac\",\"type\":\"CDSView\"}},\"id\":\"bdf1062d-9549-4b35-b731-c01f21fecf65\",\"type\":\"GlyphRenderer\"},{\"attributes\":{\"callback\":null,\"data\":{\"x\":{\"__ndarray__\":\"2Z6YwAVShL5HIILG5YSEvh7BWy8jsYS+QoruH13mhL5S/wLQZCGFvg29PRBebIW+Izt12Q7Bhb4W18zxSPSFvlA/E9JFNIa+AiZkJjODhr6wcip/UMCGvngqu5ZbAYe+3Kqj+z1Jh7461ygSMZyHvjlsU3uCv4i+/hURvwvOir4vUi5BfXmMvoqpvmg7koy+jd//NtSfib6O40D/AUKBvtIRpX9tMig+GsBEQFZYjT712/2sCHuVPiv8AGr83Y0+GgzZIhXRdT4onYgInSNtvtX0yX3kaYO+jPCCIXByir5QMRnBCDaOvmEN5ERp+Y++i79gqvBNkL4cTUyc7luQvo7VN20bXJC+cNU2baFokL7gj4Sz0gOQvn7T/+jyIY6+o7GNPxhijr4uI7eVUsCSvv/2JAWcKZq+5jdPws0jo76vderOFuGxvmj82e+r2ci+oSYODo0z3b7DVQk6svntvo8/PPy+dvu+dLJErNXFBr84FKxrHDkRvw2FE2NWeRe/XlGrKm5GG7+LlsNxxD4cv+Jz+dX33xe/GrbAJ5x8Bb9cbj/TdAQPP0UfPspNUS4/F0unCQN3QD89w5k0TaVNP/bfIGRULlg/iZEgunKGYj9qc3bLwhlrP7d08omIIHM/fn8JMLopej/1q+1oy1mBP/6KDN2yZIY/I0y5EQIxjj8pBbeXL42TP6jOvH+gmpg/B/LQnX5Vnj/qQF9FCaShP718zLa8OqQ/IJAgnBwspz/TwljrM4OqP41xp2/3RK4/fMNe1xg8sT/Uevd77Y+zPzMjpaGSL7Y/\",\"dtype\":\"float64\",\"shape\":[75]},\"y\":{\"__ndarray__\":\"GhExyth1ND/Sv8nbtpRIP2vylNV0PVE/aTum7souWD/At0SJ8fVgPw3Iuahxymc/MSNhhJWvcD/bTfBN02d3P2zb5nxnaoA/CD5h5MAGhz8NmeH1TyaQP+zrCsc9p5Y/LbKd76fGnz/bLW5ISEmmPww9YvTcQq8/JV2OstnstT8Er5Y7M8G+P0c+r3jqkcU/5h99k6ZBzj88bCIzFzjVP4enV8oyxN0//yH99nXg5D8qOpLLf0jtP5kqGJXUifQ/c9cS8kHP/D+/DpwzojQEQIEmwoanVwxA4lgXt9HgE0BSSZ2AJuIbQAMJih9jjiNA5q4l5INuK0AwTKYKRj0zQNv5fmq8/DpAaCJseHrtQkB/+zpwzoxKQM3MzMzMeFJAZmZmZmZqWEAAAAAAAFxeQM3MzMzMJmJAmpmZmZkfZUBmZmZmZhhoQDMzMzMzEWtAAAAAAAAKbkBmZmZmZoFwQM3MzMzM/XFAMzMzMzN6c0CamZmZmfZ0QAAAAAAAc3ZAZmZmZmbvd0DNzMzMzGt5QDMzMzMz6HpAmpmZmZlkfEAAAAAAAOF9QGZmZmZmXX9AZmZmZuZsgECamZmZGSuBQM3MzMxM6YFAAAAAAICngkAzMzMzs2WDQGZmZmbmI4RAmpmZmRnihEDNzMzMTKCFQAAAAACAXoZAMzMzM7Mch0BmZmZm5tqHQJqZmZkZmYhAzczMzExXiUAAAAAAgBWKQDMzMzOz04pAZmZmZuaRi0CamZmZGVCMQM3MzMxMDo1AAAAAAIDMjUAzMzMzs4qOQGZmZmbmSI9A\",\"dtype\":\"float64\",\"shape\":[75]}},\"selected\":{\"id\":\"13e0ca17-e1d7-4a1e-8de1-2f5f2f26df23\",\"type\":\"Selection\"},\"selection_policy\":{\"id\":\"49cd7a44-24cd-42e2-b09d-1da9da1e3ae2\",\"type\":\"UnionRenderers\"}},\"id\":\"53bfc1fd-b5ca-40e2-8b02-d17e3f0f9248\",\"type\":\"ColumnDataSource\"},{\"attributes\":{\"data_source\":{\"id\":\"d06b3ef8-5bf3-4289-a7b0-90a3d9f50fa3\",\"type\":\"ColumnDataSource\"},\"glyph\":{\"id\":\"f2aaf6c4-edd4-427e-bba4-7891cd1ec559\",\"type\":\"Line\"},\"hover_glyph\":null,\"muted_glyph\":null,\"nonselection_glyph\":{\"id\":\"dfa6c699-798f-46b6-9ced-dc0b168c0b84\",\"type\":\"Line\"},\"selection_glyph\":null,\"view\":{\"id\":\"d2771a42-9ee0-4fbc-ad93-704928522566\",\"type\":\"CDSView\"}},\"id\":\"e6363f21-5023-44aa-b6aa-b7d7b886e4f2\",\"type\":\"GlyphRenderer\"},{\"attributes\":{\"fill_alpha\":{\"value\":0.1},\"fill_color\":{\"value\":\"#1f77b4\"},\"line_alpha\":{\"value\":0.1},\"line_color\":{\"value\":\"#1f77b4\"},\"x\":{\"field\":\"x\"},\"y\":{\"field\":\"y\"}},\"id\":\"1832f59e-789e-47a1-b1d0-b32186b1f565\",\"type\":\"Circle\"},{\"attributes\":{\"source\":{\"id\":\"d06b3ef8-5bf3-4289-a7b0-90a3d9f50fa3\",\"type\":\"ColumnDataSource\"}},\"id\":\"d2771a42-9ee0-4fbc-ad93-704928522566\",\"type\":\"CDSView\"},{\"attributes\":{\"plot\":null,\"text\":\"\"},\"id\":\"715f1e38-3d0d-4f0a-a878-290a78e56cb9\",\"type\":\"Title\"},{\"attributes\":{},\"id\":\"400d42a5-efce-4c5e-b187-e6606dab138a\",\"type\":\"UnionRenderers\"},{\"attributes\":{\"children\":[{\"id\":\"f9e2ea19-913d-4990-965c-74454b9221b9\",\"subtype\":\"Figure\",\"type\":\"Plot\"},{\"id\":\"02173dd4-172d-4dd3-80a2-f0a1bd4c8954\",\"subtype\":\"Figure\",\"type\":\"Plot\"}]},\"id\":\"6e503fa2-3771-4c83-84a3-fbc52717f878\",\"type\":\"Row\"},{\"attributes\":{\"label\":{\"value\":\"CRD\"},\"renderers\":[{\"id\":\"00fa54d4-643e-445c-b195-bc7d06026169\",\"type\":\"GlyphRenderer\"},{\"id\":\"b71fdc0a-c986-42cb-a54f-a2d9b09de80a\",\"type\":\"GlyphRenderer\"}]},\"id\":\"9fb7eb9c-ed6b-4661-831e-808299dee34e\",\"type\":\"LegendItem\"},{\"attributes\":{\"callback\":null,\"end\":0.01,\"start\":1020},\"id\":\"7ba1fc94-b484-4f74-a69c-8bd1f526e152\",\"type\":\"Range1d\"},{\"attributes\":{},\"id\":\"c0533c80-4c1d-40ff-81f4-6f86598d8aa5\",\"type\":\"BasicTickFormatter\"},{\"attributes\":{\"data_source\":{\"id\":\"53bfc1fd-b5ca-40e2-8b02-d17e3f0f9248\",\"type\":\"ColumnDataSource\"},\"glyph\":{\"id\":\"5b12f6db-3562-4c2c-9b9d-a55c969795ee\",\"type\":\"Circle\"},\"hover_glyph\":null,\"muted_glyph\":null,\"nonselection_glyph\":{\"id\":\"1832f59e-789e-47a1-b1d0-b32186b1f565\",\"type\":\"Circle\"},\"selection_glyph\":null,\"view\":{\"id\":\"0177862e-c9ec-4571-9d5e-0157486184bf\",\"type\":\"CDSView\"}},\"id\":\"00fa54d4-643e-445c-b195-bc7d06026169\",\"type\":\"GlyphRenderer\"},{\"attributes\":{\"label\":{\"value\":\"WGT igg=1\"},\"renderers\":[{\"id\":\"d0d5469e-4632-4b27-91b7-15071b30d789\",\"type\":\"GlyphRenderer\"},{\"id\":\"28912ae2-0acd-4ccd-b5b4-31a4d54d9d80\",\"type\":\"GlyphRenderer\"}]},\"id\":\"a4009c97-7cbf-42aa-9991-b479bf640135\",\"type\":\"LegendItem\"},{\"attributes\":{\"label\":{\"value\":\"WGT igg=10\"},\"renderers\":[{\"id\":\"bdf1062d-9549-4b35-b731-c01f21fecf65\",\"type\":\"GlyphRenderer\"},{\"id\":\"e6363f21-5023-44aa-b6aa-b7d7b886e4f2\",\"type\":\"GlyphRenderer\"}]},\"id\":\"b80d62c1-90a9-4b16-ad4b-67dab6e9402d\",\"type\":\"LegendItem\"},{\"attributes\":{\"fill_alpha\":{\"value\":0.7},\"fill_color\":{\"value\":\"#4daf4a\"},\"line_alpha\":{\"value\":0.7},\"line_color\":{\"value\":\"#4daf4a\"},\"x\":{\"field\":\"x\"},\"y\":{\"field\":\"y\"}},\"id\":\"00d2e04f-8b30-428a-a125-6647a0d23be0\",\"type\":\"Circle\"},{\"attributes\":{},\"id\":\"b56496f9-2de5-4901-a8f8-731018617b33\",\"type\":\"BasicTicker\"},{\"attributes\":{\"fill_alpha\":{\"value\":0.1},\"fill_color\":{\"value\":\"#1f77b4\"},\"line_alpha\":{\"value\":0.1},\"line_color\":{\"value\":\"#1f77b4\"},\"x\":{\"field\":\"x\"},\"y\":{\"field\":\"y\"}},\"id\":\"96e71ac9-57f4-4868-a811-99add93d0a15\",\"type\":\"Circle\"},{\"attributes\":{\"dimension\":1,\"plot\":{\"id\":\"02173dd4-172d-4dd3-80a2-f0a1bd4c8954\",\"subtype\":\"Figure\",\"type\":\"Plot\"},\"ticker\":{\"id\":\"dbfc1ef4-ffb9-407d-80a4-2fbd52b18c53\",\"type\":\"LogTicker\"}},\"id\":\"7444d9da-c751-48f9-a32f-e78f9a38a77a\",\"type\":\"Grid\"},{\"attributes\":{\"axis_label\":\"cooling rate [K/day]\",\"formatter\":{\"id\":\"285dd73d-caea-420e-ac21-5f60094a2e7d\",\"type\":\"BasicTickFormatter\"},\"plot\":{\"id\":\"f9e2ea19-913d-4990-965c-74454b9221b9\",\"subtype\":\"Figure\",\"type\":\"Plot\"},\"ticker\":{\"id\":\"b56496f9-2de5-4901-a8f8-731018617b33\",\"type\":\"BasicTicker\"}},\"id\":\"813061f2-5b33-4ce8-a536-30f129aeb8a3\",\"type\":\"LinearAxis\"},{\"attributes\":{\"callback\":null,\"end\":0.01,\"start\":1020},\"id\":\"819bf474-0857-4d46-bebe-2e8c77580c20\",\"type\":\"Range1d\"},{\"attributes\":{\"callback\":null,\"end\":0.0989806995284,\"start\":-0.0011020603684},\"id\":\"cde5be08-8377-4215-a8c9-34bdc1c4c937\",\"type\":\"Range1d\"},{\"attributes\":{\"active_drag\":\"auto\",\"active_inspect\":\"auto\",\"active_scroll\":\"auto\",\"active_tap\":\"auto\",\"tools\":[{\"id\":\"4a640df7-b699-4228-a4f9-9fd9bf2cf083\",\"type\":\"PanTool\"},{\"id\":\"24952d0f-45a8-41a1-ac53-d8cf7a22becb\",\"type\":\"WheelZoomTool\"},{\"id\":\"72c58ec1-5ee2-4169-901a-247d45da69c5\",\"type\":\"BoxZoomTool\"},{\"id\":\"d3167305-322a-4d54-a91f-99232099866b\",\"type\":\"SaveTool\"},{\"id\":\"30ebd2a0-43f0-417e-a039-699a45b0bfb0\",\"type\":\"ResetTool\"},{\"id\":\"e005ae36-fc9a-4e92-998a-099a53699b4c\",\"type\":\"HelpTool\"}]},\"id\":\"980ab58f-36e6-443f-bd5d-7b748be7e029\",\"type\":\"Toolbar\"},{\"attributes\":{\"callback\":null,\"data\":{\"x\":{\"__ndarray__\":\"2Z6YwAVShL5HIILG5YSEvh7BWy8jsYS+QoruH13mhL5S/wLQZCGFvg29PRBebIW+Izt12Q7Bhb4W18zxSPSFvlA/E9JFNIa+AiZkJjODhr6wcip/UMCGvngqu5ZbAYe+3Kqj+z1Jh7461ygSMZyHvjlsU3uCv4i+/hURvwvOir4vUi5BfXmMvoqpvmg7koy+jd//NtSfib6O40D/AUKBvtIRpX9tMig+GsBEQFZYjT712/2sCHuVPiv8AGr83Y0+GgzZIhXRdT4onYgInSNtvtX0yX3kaYO+jPCCIXByir5QMRnBCDaOvmEN5ERp+Y++i79gqvBNkL4cTUyc7luQvo7VN20bXJC+cNU2baFokL7gj4Sz0gOQvn7T/+jyIY6+o7GNPxhijr4uI7eVUsCSvv/2JAWcKZq+5jdPws0jo76vderOFuGxvmj82e+r2ci+oSYODo0z3b7DVQk6svntvo8/PPy+dvu+dLJErNXFBr84FKxrHDkRvw2FE2NWeRe/XlGrKm5GG7+LlsNxxD4cv+Jz+dX33xe/GrbAJ5x8Bb9cbj/TdAQPP0UfPspNUS4/F0unCQN3QD89w5k0TaVNP/bfIGRULlg/iZEgunKGYj9qc3bLwhlrP7d08omIIHM/fn8JMLopej/1q+1oy1mBP/6KDN2yZIY/I0y5EQIxjj8pBbeXL42TP6jOvH+gmpg/B/LQnX5Vnj/qQF9FCaShP718zLa8OqQ/IJAgnBwspz/TwljrM4OqP41xp2/3RK4/fMNe1xg8sT/Uevd77Y+zPzMjpaGSL7Y/\",\"dtype\":\"float64\",\"shape\":[75]},\"y\":{\"__ndarray__\":\"GhExyth1ND/Sv8nbtpRIP2vylNV0PVE/aTum7souWD/At0SJ8fVgPw3Iuahxymc/MSNhhJWvcD/bTfBN02d3P2zb5nxnaoA/CD5h5MAGhz8NmeH1TyaQP+zrCsc9p5Y/LbKd76fGnz/bLW5ISEmmPww9YvTcQq8/JV2OstnstT8Er5Y7M8G+P0c+r3jqkcU/5h99k6ZBzj88bCIzFzjVP4enV8oyxN0//yH99nXg5D8qOpLLf0jtP5kqGJXUifQ/c9cS8kHP/D+/DpwzojQEQIEmwoanVwxA4lgXt9HgE0BSSZ2AJuIbQAMJih9jjiNA5q4l5INuK0AwTKYKRj0zQNv5fmq8/DpAaCJseHrtQkB/+zpwzoxKQM3MzMzMeFJAZmZmZmZqWEAAAAAAAFxeQM3MzMzMJmJAmpmZmZkfZUBmZmZmZhhoQDMzMzMzEWtAAAAAAAAKbkBmZmZmZoFwQM3MzMzM/XFAMzMzMzN6c0CamZmZmfZ0QAAAAAAAc3ZAZmZmZmbvd0DNzMzMzGt5QDMzMzMz6HpAmpmZmZlkfEAAAAAAAOF9QGZmZmZmXX9AZmZmZuZsgECamZmZGSuBQM3MzMxM6YFAAAAAAICngkAzMzMzs2WDQGZmZmbmI4RAmpmZmRnihEDNzMzMTKCFQAAAAACAXoZAMzMzM7Mch0BmZmZm5tqHQJqZmZkZmYhAzczMzExXiUAAAAAAgBWKQDMzMzOz04pAZmZmZuaRi0CamZmZGVCMQM3MzMxMDo1AAAAAAIDMjUAzMzMzs4qOQGZmZmbmSI9A\",\"dtype\":\"float64\",\"shape\":[75]}},\"selected\":{\"id\":\"d750bc83-03cf-4d76-b46a-045cf5ce3bdf\",\"type\":\"Selection\"},\"selection_policy\":{\"id\":\"2d9e2b98-b8f9-43e3-9667-825f00881dd8\",\"type\":\"UnionRenderers\"}},\"id\":\"343bff8d-3ef6-4f47-9b44-daeec1321799\",\"type\":\"ColumnDataSource\"},{\"attributes\":{\"data_source\":{\"id\":\"48cd5da3-f6a3-4485-bfa7-92f3809273a6\",\"type\":\"ColumnDataSource\"},\"glyph\":{\"id\":\"00d2e04f-8b30-428a-a125-6647a0d23be0\",\"type\":\"Circle\"},\"hover_glyph\":null,\"muted_glyph\":null,\"nonselection_glyph\":{\"id\":\"96e71ac9-57f4-4868-a811-99add93d0a15\",\"type\":\"Circle\"},\"selection_glyph\":null,\"view\":{\"id\":\"036e743c-44ff-4538-960b-1bf4ee2e5c0f\",\"type\":\"CDSView\"}},\"id\":\"7066823e-7693-4d53-9692-5997ae76e2e9\",\"type\":\"GlyphRenderer\"},{\"attributes\":{\"callback\":null,\"data\":{\"x\":{\"__ndarray__\":\"2Z6YwAVShL5HIILG5YSEvh7BWy8jsYS+QoruH13mhL5S/wLQZCGFvg29PRBebIW+Izt12Q7Bhb4W18zxSPSFvlA/E9JFNIa+AiZkJjODhr6wcip/UMCGvngqu5ZbAYe+3Kqj+z1Jh7461ygSMZyHvjlsU3uCv4i+/hURvwvOir4vUi5BfXmMvoqpvmg7koy+jd//NtSfib6O40D/AUKBvtIRpX9tMig+GsBEQFZYjT712/2sCHuVPiv8AGr83Y0+GgzZIhXRdT4onYgInSNtvtX0yX3kaYO+jPCCIXByir5QMRnBCDaOvmEN5ERp+Y++i79gqvBNkL4cTUyc7luQvo7VN20bXJC+cNU2baFokL7gj4Sz0gOQvn7T/+jyIY6+o7GNPxhijr4uI7eVUsCSvv/2JAWcKZq+5jdPws0jo76vderOFuGxvmj82e+r2ci+oSYODo0z3b7DVQk6svntvo8/PPy+dvu+dLJErNXFBr84FKxrHDkRvw2FE2NWeRe/XlGrKm5GG7+LlsNxxD4cv+Jz+dX33xe/GrbAJ5x8Bb9cbj/TdAQPP0UfPspNUS4/F0unCQN3QD89w5k0TaVNP/bfIGRULlg/iZEgunKGYj9qc3bLwhlrP7d08omIIHM/fn8JMLopej/1q+1oy1mBP/6KDN2yZIY/I0y5EQIxjj8pBbeXL42TP6jOvH+gmpg/B/LQnX5Vnj/qQF9FCaShP718zLa8OqQ/IJAgnBwspz/TwljrM4OqP41xp2/3RK4/fMNe1xg8sT/Uevd77Y+zPzMjpaGSL7Y/\",\"dtype\":\"float64\",\"shape\":[75]},\"y\":{\"__ndarray__\":\"GhExyth1ND/Sv8nbtpRIP2vylNV0PVE/aTum7souWD/At0SJ8fVgPw3Iuahxymc/MSNhhJWvcD/bTfBN02d3P2zb5nxnaoA/CD5h5MAGhz8NmeH1TyaQP+zrCsc9p5Y/LbKd76fGnz/bLW5ISEmmPww9YvTcQq8/JV2OstnstT8Er5Y7M8G+P0c+r3jqkcU/5h99k6ZBzj88bCIzFzjVP4enV8oyxN0//yH99nXg5D8qOpLLf0jtP5kqGJXUifQ/c9cS8kHP/D+/DpwzojQEQIEmwoanVwxA4lgXt9HgE0BSSZ2AJuIbQAMJih9jjiNA5q4l5INuK0AwTKYKRj0zQNv5fmq8/DpAaCJseHrtQkB/+zpwzoxKQM3MzMzMeFJAZmZmZmZqWEAAAAAAAFxeQM3MzMzMJmJAmpmZmZkfZUBmZmZmZhhoQDMzMzMzEWtAAAAAAAAKbkBmZmZmZoFwQM3MzMzM/XFAMzMzMzN6c0CamZmZmfZ0QAAAAAAAc3ZAZmZmZmbvd0DNzMzMzGt5QDMzMzMz6HpAmpmZmZlkfEAAAAAAAOF9QGZmZmZmXX9AZmZmZuZsgECamZmZGSuBQM3MzMxM6YFAAAAAAICngkAzMzMzs2WDQGZmZmbmI4RAmpmZmRnihEDNzMzMTKCFQAAAAACAXoZAMzMzM7Mch0BmZmZm5tqHQJqZmZkZmYhAzczMzExXiUAAAAAAgBWKQDMzMzOz04pAZmZmZuaRi0CamZmZGVCMQM3MzMxMDo1AAAAAAIDMjUAzMzMzs4qOQGZmZmbmSI9A\",\"dtype\":\"float64\",\"shape\":[75]}},\"selected\":{\"id\":\"c84389dd-2ae6-474f-8532-c23d404b01be\",\"type\":\"Selection\"},\"selection_policy\":{\"id\":\"23c883d3-8856-4617-828e-c6855ab4e8ea\",\"type\":\"UnionRenderers\"}},\"id\":\"48cd5da3-f6a3-4485-bfa7-92f3809273a6\",\"type\":\"ColumnDataSource\"},{\"attributes\":{\"line_alpha\":0.1,\"line_color\":\"#1f77b4\",\"line_width\":1.5,\"x\":{\"field\":\"x\"},\"y\":{\"field\":\"y\"}},\"id\":\"3de19321-7519-408d-8dba-00b65d6b84d6\",\"type\":\"Line\"},{\"attributes\":{\"num_minor_ticks\":10},\"id\":\"dbfc1ef4-ffb9-407d-80a4-2fbd52b18c53\",\"type\":\"LogTicker\"},{\"attributes\":{},\"id\":\"dd038981-18e4-4247-9e68-d06eec48c484\",\"type\":\"PanTool\"},{\"attributes\":{},\"id\":\"8916370a-f19b-4c32-a563-047c0d187374\",\"type\":\"Selection\"},{\"attributes\":{},\"id\":\"e005ae36-fc9a-4e92-998a-099a53699b4c\",\"type\":\"HelpTool\"},{\"attributes\":{\"items\":[{\"id\":\"f6e6395a-293d-4c33-bcec-8e263ce72292\",\"type\":\"LegendItem\"},{\"id\":\"232a3175-449b-41c8-915f-9a64594aff1f\",\"type\":\"LegendItem\"},{\"id\":\"eb3fa6bb-ddc9-4b92-a4d0-7bcb50c59482\",\"type\":\"LegendItem\"}],\"label_text_font_size\":{\"value\":\"8pt\"},\"location\":\"top_center\",\"orientation\":\"horizontal\",\"plot\":{\"id\":\"f9e2ea19-913d-4990-965c-74454b9221b9\",\"subtype\":\"Figure\",\"type\":\"Plot\"}},\"id\":\"541ab9e5-d1ff-42fb-8129-a2c458e5587c\",\"type\":\"Legend\"},{\"attributes\":{\"bottom_units\":\"screen\",\"fill_alpha\":{\"value\":0.5},\"fill_color\":{\"value\":\"lightgrey\"},\"left_units\":\"screen\",\"level\":\"overlay\",\"line_alpha\":{\"value\":1.0},\"line_color\":{\"value\":\"black\"},\"line_dash\":[4,4],\"line_width\":{\"value\":2},\"plot\":null,\"render_mode\":\"css\",\"right_units\":\"screen\",\"top_units\":\"screen\"},\"id\":\"c34dd552-6d64-41db-a503-3fc1183a4e42\",\"type\":\"BoxAnnotation\"},{\"attributes\":{},\"id\":\"704013a5-843b-467f-9792-3fa5dd971007\",\"type\":\"LinearScale\"},{\"attributes\":{},\"id\":\"094e11be-0227-4fec-a670-ff4787b47f03\",\"type\":\"Selection\"},{\"attributes\":{\"plot\":{\"id\":\"f9e2ea19-913d-4990-965c-74454b9221b9\",\"subtype\":\"Figure\",\"type\":\"Plot\"},\"ticker\":{\"id\":\"b56496f9-2de5-4901-a8f8-731018617b33\",\"type\":\"BasicTicker\"}},\"id\":\"6545dd2e-0761-40e6-a0d6-72bdf8aa0bad\",\"type\":\"Grid\"},{\"attributes\":{\"above\":[{\"id\":\"541ab9e5-d1ff-42fb-8129-a2c458e5587c\",\"type\":\"Legend\"}],\"below\":[{\"id\":\"813061f2-5b33-4ce8-a536-30f129aeb8a3\",\"type\":\"LinearAxis\"}],\"left\":[{\"id\":\"a6ed28ca-4b9e-4877-bf26-f0cd53718fdb\",\"type\":\"LinearAxis\"}],\"plot_height\":500,\"plot_width\":400,\"renderers\":[{\"id\":\"813061f2-5b33-4ce8-a536-30f129aeb8a3\",\"type\":\"LinearAxis\"},{\"id\":\"6545dd2e-0761-40e6-a0d6-72bdf8aa0bad\",\"type\":\"Grid\"},{\"id\":\"a6ed28ca-4b9e-4877-bf26-f0cd53718fdb\",\"type\":\"LinearAxis\"},{\"id\":\"14ba8268-b67e-4fe8-938e-27f491515466\",\"type\":\"Grid\"},{\"id\":\"c34dd552-6d64-41db-a503-3fc1183a4e42\",\"type\":\"BoxAnnotation\"},{\"id\":\"7066823e-7693-4d53-9692-5997ae76e2e9\",\"type\":\"GlyphRenderer\"},{\"id\":\"458630e3-e4ed-4896-9dbd-711d7004d0e1\",\"type\":\"GlyphRenderer\"},{\"id\":\"1f835510-6e8f-4ac6-9081-f9f4ce8b13f3\",\"type\":\"GlyphRenderer\"},{\"id\":\"e8f1e2f5-f1e1-4084-b3ec-8247ea72b961\",\"type\":\"GlyphRenderer\"},{\"id\":\"388db916-67b9-42e9-957b-e483249829e1\",\"type\":\"GlyphRenderer\"},{\"id\":\"5462f58b-4af5-4180-9a17-100d61a8b2c7\",\"type\":\"GlyphRenderer\"},{\"id\":\"541ab9e5-d1ff-42fb-8129-a2c458e5587c\",\"type\":\"Legend\"}],\"title\":{\"id\":\"715f1e38-3d0d-4f0a-a878-290a78e56cb9\",\"type\":\"Title\"},\"toolbar\":{\"id\":\"980ab58f-36e6-443f-bd5d-7b748be7e029\",\"type\":\"Toolbar\"},\"toolbar_location\":null,\"x_range\":{\"id\":\"cde5be08-8377-4215-a8c9-34bdc1c4c937\",\"type\":\"Range1d\"},\"x_scale\":{\"id\":\"704013a5-843b-467f-9792-3fa5dd971007\",\"type\":\"LinearScale\"},\"y_range\":{\"id\":\"819bf474-0857-4d46-bebe-2e8c77580c20\",\"type\":\"Range1d\"},\"y_scale\":{\"id\":\"55b1b228-70f6-4c0e-bf32-c2273de40fd1\",\"type\":\"LinearScale\"}},\"id\":\"f9e2ea19-913d-4990-965c-74454b9221b9\",\"subtype\":\"Figure\",\"type\":\"Plot\"}],\"root_ids\":[\"72899317-ce42-41fe-861a-e7dc9ccc1b38\"]},\"title\":\"Bokeh Application\",\"version\":\"0.12.16\"}};\n",
       "  var render_items = [{\"docid\":\"f4ac2814-8229-4b09-8ecc-fbd0d5323860\",\"elementid\":\"098dd20a-9b04-4dec-bdb2-bd5d987b2301\",\"modelid\":\"72899317-ce42-41fe-861a-e7dc9ccc1b38\"}];\n",
       "  root.Bokeh.embed.embed_items_notebook(docs_json, render_items);\n",
       "\n",
       "  }\n",
       "  if (root.Bokeh !== undefined) {\n",
       "    embed_document(root);\n",
       "  } else {\n",
       "    var attempts = 0;\n",
       "    var timer = setInterval(function(root) {\n",
       "      if (root.Bokeh !== undefined) {\n",
       "        embed_document(root);\n",
       "        clearInterval(timer);\n",
       "      }\n",
       "      attempts++;\n",
       "      if (attempts > 100) {\n",
       "        console.log(\"Bokeh: ERROR: Unable to run BokehJS code because BokehJS library is missing\")\n",
       "        clearInterval(timer);\n",
       "      }\n",
       "    }, 10, root)\n",
       "  }\n",
       "})(window);"
      ],
      "application/vnd.bokehjs_exec.v0+json": ""
     },
     "metadata": {
      "application/vnd.bokehjs_exec.v0+json": {
       "id": "72899317-ce42-41fe-861a-e7dc9ccc1b38"
      }
     },
     "output_type": "display_data"
    },
    {
     "data": {
      "text/markdown": [
       "*FIGURE.* Cooling rates. g=3"
      ],
      "text/plain": [
       "<IPython.core.display.Markdown object>"
      ]
     },
     "metadata": {},
     "output_type": "display_data"
    },
    {
     "data": {
      "text/html": [
       "\n",
       "<div class=\"bk-root\">\n",
       "    <div class=\"bk-plotdiv\" id=\"d7443c9a-21cd-40ae-b23b-7eb0064deb96\"></div>\n",
       "</div>"
      ]
     },
     "metadata": {},
     "output_type": "display_data"
    },
    {
     "data": {
      "application/javascript": [
       "(function(root) {\n",
       "  function embed_document(root) {\n",
       "    \n",
       "  var docs_json = {\"6c6f8c26-25ff-411a-bf2e-3df27af02be5\":{\"roots\":{\"references\":[{\"attributes\":{\"line_alpha\":0.3,\"line_color\":\"#377eb8\",\"line_width\":2,\"x\":{\"field\":\"x\"},\"y\":{\"field\":\"y\"}},\"id\":\"7999402e-d308-427d-9a30-a00ae9b35f87\",\"type\":\"Line\"},{\"attributes\":{\"above\":[{\"id\":\"ab040eab-becf-4a18-9e10-47d62052f6fb\",\"type\":\"Legend\"}],\"below\":[{\"id\":\"b363e098-4374-4399-942e-5c6df00fbc98\",\"type\":\"LinearAxis\"}],\"left\":[{\"id\":\"9ee18c2d-e1b8-4be4-bd71-07b44f95d127\",\"type\":\"LogAxis\"}],\"plot_height\":500,\"plot_width\":400,\"renderers\":[{\"id\":\"b363e098-4374-4399-942e-5c6df00fbc98\",\"type\":\"LinearAxis\"},{\"id\":\"0f5d70ca-d716-46ff-85fe-f70489009878\",\"type\":\"Grid\"},{\"id\":\"9ee18c2d-e1b8-4be4-bd71-07b44f95d127\",\"type\":\"LogAxis\"},{\"id\":\"ec3cdd8e-7142-4dbe-b807-37b7abc76dd6\",\"type\":\"Grid\"},{\"id\":\"b4b3294b-1968-46db-9232-6706027f42d5\",\"type\":\"BoxAnnotation\"},{\"id\":\"540d8f52-6c72-4f11-94b5-465664321315\",\"type\":\"GlyphRenderer\"},{\"id\":\"dd460e7f-8256-4085-853e-24e9574c9dba\",\"type\":\"GlyphRenderer\"},{\"id\":\"283bbd60-f39d-4265-9b13-36f89a84ebcc\",\"type\":\"GlyphRenderer\"},{\"id\":\"c0bb01e9-98c5-4c5d-8687-986787dcced2\",\"type\":\"GlyphRenderer\"},{\"id\":\"0c6c50f0-9e48-4e36-aa81-fe2567bd5276\",\"type\":\"GlyphRenderer\"},{\"id\":\"a260b44a-f3dd-4627-b149-0b72f066419b\",\"type\":\"GlyphRenderer\"},{\"id\":\"ab040eab-becf-4a18-9e10-47d62052f6fb\",\"type\":\"Legend\"}],\"title\":{\"id\":\"ce70697d-95bd-4410-bc90-4cee3007d8ea\",\"type\":\"Title\"},\"toolbar\":{\"id\":\"5751e444-658a-40f3-9c82-f2e1682befeb\",\"type\":\"Toolbar\"},\"toolbar_location\":null,\"x_range\":{\"id\":\"e7713eab-33c1-4f2d-878b-86617d65a61c\",\"type\":\"Range1d\"},\"x_scale\":{\"id\":\"ba899822-0811-4c34-9740-6cfcdc82b28a\",\"type\":\"LinearScale\"},\"y_range\":{\"id\":\"3aebf660-28bb-4ec3-9cef-f9c51b97f7b8\",\"type\":\"Range1d\"},\"y_scale\":{\"id\":\"2c2e456e-875e-48b1-8aa4-7cc75aa00a70\",\"type\":\"LogScale\"}},\"id\":\"acd7c049-3475-4b28-87e9-a68cf84c086f\",\"subtype\":\"Figure\",\"type\":\"Plot\"},{\"attributes\":{\"line_alpha\":0.1,\"line_color\":\"#1f77b4\",\"line_width\":2,\"x\":{\"field\":\"x\"},\"y\":{\"field\":\"y\"}},\"id\":\"7a22bfac-18bb-44dd-840b-9199640014b5\",\"type\":\"Line\"},{\"attributes\":{\"data_source\":{\"id\":\"c231e431-107c-4a74-9a8c-e1423104a980\",\"type\":\"ColumnDataSource\"},\"glyph\":{\"id\":\"7999402e-d308-427d-9a30-a00ae9b35f87\",\"type\":\"Line\"},\"hover_glyph\":null,\"muted_glyph\":null,\"nonselection_glyph\":{\"id\":\"7a22bfac-18bb-44dd-840b-9199640014b5\",\"type\":\"Line\"},\"selection_glyph\":null,\"view\":{\"id\":\"417e9516-f8f4-43cc-b0fd-7050ea79d67f\",\"type\":\"CDSView\"}},\"id\":\"8087d0ef-cc73-4c73-849f-d0ecf0717b97\",\"type\":\"GlyphRenderer\"},{\"attributes\":{\"source\":{\"id\":\"c231e431-107c-4a74-9a8c-e1423104a980\",\"type\":\"ColumnDataSource\"}},\"id\":\"417e9516-f8f4-43cc-b0fd-7050ea79d67f\",\"type\":\"CDSView\"},{\"attributes\":{\"active_drag\":\"auto\",\"active_inspect\":\"auto\",\"active_scroll\":\"auto\",\"active_tap\":\"auto\",\"tools\":[{\"id\":\"6097c21c-bdd9-4b83-9145-4107714e4804\",\"type\":\"PanTool\"},{\"id\":\"cf57bbfe-05c2-4266-8ead-8ece61b6a1aa\",\"type\":\"WheelZoomTool\"},{\"id\":\"134da83f-3eb7-46a9-bfdc-39d12e7f421c\",\"type\":\"BoxZoomTool\"},{\"id\":\"0c3b91cc-9ad4-44ab-a706-75b4a6577529\",\"type\":\"SaveTool\"},{\"id\":\"d2e89755-a158-4306-995b-0ee16eced93c\",\"type\":\"ResetTool\"},{\"id\":\"89d4328c-8ab2-4c3f-b860-030b750ab171\",\"type\":\"HelpTool\"}]},\"id\":\"5751e444-658a-40f3-9c82-f2e1682befeb\",\"type\":\"Toolbar\"},{\"attributes\":{\"fill_alpha\":{\"value\":0.7},\"fill_color\":{\"value\":\"#4daf4a\"},\"line_alpha\":{\"value\":0.7},\"line_color\":{\"value\":\"#4daf4a\"},\"x\":{\"field\":\"x\"},\"y\":{\"field\":\"y\"}},\"id\":\"608d54f0-38bf-402d-92ca-06444c8aced3\",\"type\":\"Circle\"},{\"attributes\":{\"label\":{\"value\":\"CRD\"},\"renderers\":[{\"id\":\"6517247d-8593-417e-8b84-abd3ba6440f6\",\"type\":\"GlyphRenderer\"},{\"id\":\"7265d907-bbde-4970-9864-4ab9ec46daf6\",\"type\":\"GlyphRenderer\"}]},\"id\":\"d212abfe-1e2a-43dc-9c25-531322babd26\",\"type\":\"LegendItem\"},{\"attributes\":{\"data_source\":{\"id\":\"f3e9643a-9d78-40e4-bd9e-15e5dbeb2ccf\",\"type\":\"ColumnDataSource\"},\"glyph\":{\"id\":\"22b5f60e-0cda-4e20-b4dc-d11a827b416a\",\"type\":\"Line\"},\"hover_glyph\":null,\"muted_glyph\":null,\"nonselection_glyph\":{\"id\":\"3c4ac0e1-2d3b-48fd-84de-ea7562d78b1c\",\"type\":\"Line\"},\"selection_glyph\":null,\"view\":{\"id\":\"653a214c-bff4-414a-bb9b-ac212b666eaf\",\"type\":\"CDSView\"}},\"id\":\"dd460e7f-8256-4085-853e-24e9574c9dba\",\"type\":\"GlyphRenderer\"},{\"attributes\":{\"label\":{\"value\":\"WGT igg=1\"},\"renderers\":[{\"id\":\"441c228b-4fee-4ecf-9ec5-d60b48e7cd72\",\"type\":\"GlyphRenderer\"},{\"id\":\"2b4faafc-66d6-4846-b5a6-c4e03d37952a\",\"type\":\"GlyphRenderer\"}]},\"id\":\"d9fc49b7-9cce-4148-ba6c-93f4ded68646\",\"type\":\"LegendItem\"},{\"attributes\":{\"source\":{\"id\":\"e0259f75-0886-4c23-8931-a6b954e2bb7d\",\"type\":\"ColumnDataSource\"}},\"id\":\"7b81cd89-218f-417e-918a-c28b7d69adc4\",\"type\":\"CDSView\"},{\"attributes\":{},\"id\":\"ba899822-0811-4c34-9740-6cfcdc82b28a\",\"type\":\"LinearScale\"},{\"attributes\":{\"label\":{\"value\":\"WGT igg=10\"},\"renderers\":[{\"id\":\"fc688f4a-c8a9-4dfa-b454-02df5eff2acf\",\"type\":\"GlyphRenderer\"},{\"id\":\"8087d0ef-cc73-4c73-849f-d0ecf0717b97\",\"type\":\"GlyphRenderer\"}]},\"id\":\"8bba570f-f326-452f-8d99-3719c24376e6\",\"type\":\"LegendItem\"},{\"attributes\":{\"plot\":{\"id\":\"acd7c049-3475-4b28-87e9-a68cf84c086f\",\"subtype\":\"Figure\",\"type\":\"Plot\"},\"ticker\":{\"id\":\"e96a5dea-1939-4f11-815d-8f798a150c48\",\"type\":\"BasicTicker\"}},\"id\":\"0f5d70ca-d716-46ff-85fe-f70489009878\",\"type\":\"Grid\"},{\"attributes\":{},\"id\":\"2c2e456e-875e-48b1-8aa4-7cc75aa00a70\",\"type\":\"LogScale\"},{\"attributes\":{\"axis_label\":\"cooling rate [K/day]\",\"formatter\":{\"id\":\"6a6fd8ce-ad28-4a95-9005-24122ddd8791\",\"type\":\"BasicTickFormatter\"},\"plot\":{\"id\":\"acd7c049-3475-4b28-87e9-a68cf84c086f\",\"subtype\":\"Figure\",\"type\":\"Plot\"},\"ticker\":{\"id\":\"e96a5dea-1939-4f11-815d-8f798a150c48\",\"type\":\"BasicTicker\"}},\"id\":\"b363e098-4374-4399-942e-5c6df00fbc98\",\"type\":\"LinearAxis\"},{\"attributes\":{},\"id\":\"e96a5dea-1939-4f11-815d-8f798a150c48\",\"type\":\"BasicTicker\"},{\"attributes\":{\"axis_label\":\"pressure [mb]\",\"formatter\":{\"id\":\"594e73a7-2a8d-47f8-a80d-8311be76c0a1\",\"type\":\"LogTickFormatter\"},\"plot\":{\"id\":\"acd7c049-3475-4b28-87e9-a68cf84c086f\",\"subtype\":\"Figure\",\"type\":\"Plot\"},\"ticker\":{\"id\":\"1bda88a8-0ca3-4242-8a02-c71979dbe374\",\"type\":\"LogTicker\"}},\"id\":\"9ee18c2d-e1b8-4be4-bd71-07b44f95d127\",\"type\":\"LogAxis\"},{\"attributes\":{},\"id\":\"dbc6fe20-bdbb-4df8-96bc-f3841593b9eb\",\"type\":\"Selection\"},{\"attributes\":{\"num_minor_ticks\":10},\"id\":\"1bda88a8-0ca3-4242-8a02-c71979dbe374\",\"type\":\"LogTicker\"},{\"attributes\":{\"dimension\":1,\"plot\":{\"id\":\"acd7c049-3475-4b28-87e9-a68cf84c086f\",\"subtype\":\"Figure\",\"type\":\"Plot\"},\"ticker\":{\"id\":\"1bda88a8-0ca3-4242-8a02-c71979dbe374\",\"type\":\"LogTicker\"}},\"id\":\"ec3cdd8e-7142-4dbe-b807-37b7abc76dd6\",\"type\":\"Grid\"},{\"attributes\":{\"callback\":null,\"data\":{\"x\":{\"__ndarray__\":\"6TVET5Owyb7M5tZR2srJvgjACWoE+sm+kSwRLvImyr7ZvD05YVDKvr5VHFSwdsq+soeYH6iZyr4LYdOHQ7bKvkLDjWfZzsq+YWm6SYXjyr5J0nPnyfHKvrCxHUTK+sq+NohuFIv+yr4zjCQoZ/nKvjKFHRFtjMq+nWvwpKOWx74LKZGEWcO9vnObQMIVTpU+ZnpyG+jT0D5i5uAPFiTlPiQmGnP/h/Q+AO9Bxj3uAD+fToNeXrsDP1gEKOpzAgE/KLrz+iib+T6dSqo6To7wPoLK+GU/BOM+uZ3fioFP0j5vriGld3GzPvKfVxgVDLC+se8bnYECw74EWzU5OzLJvoAu7K60Ccy+lo3PvZGzzL4Q74nd6RrLvl7Oxc9LPse+OzMaS4TJxL6F8ImBfjzHvmTxc6EZP82++rjzrN8A075VfHg/Sgbfvq0uNjjzcvK+9WWZvm7/Ab/6m3QF2T4Nv5M0Yc4jdRO/hzMoelRPE7+0WXHEs/v9vqNy4TSlthg/nJYQsyCuND9NPsS8JdhFP5l9Uwd1XVM/dQi25xMVXz/zmwy7GldnP2w7wjyCq3A/OwjJVSzzdj8aw3ptP6N+P9NDtxYi8oM/QE8q8hBziT+eGGQSf+KPP0SQLxPYq5M/DkbLTnbklz82JNSmD3icP+xJ215koKA/lgTlDH5IpD8kXCMmSrmnP0g5tX61Das/ri83fPBxrj8M3FHVtFmwP+B/vpsvi7E//je+ALT/sj9Ps8OFo7e0PwdW2s3Is7Y/a3Yq8vb8uD9cFjwawaW7P50w6iWJD78/\",\"dtype\":\"float64\",\"shape\":[75]},\"y\":{\"__ndarray__\":\"GhExyth1ND/Sv8nbtpRIP2vylNV0PVE/aTum7souWD/At0SJ8fVgPw3Iuahxymc/MSNhhJWvcD/bTfBN02d3P2zb5nxnaoA/CD5h5MAGhz8NmeH1TyaQP+zrCsc9p5Y/LbKd76fGnz/bLW5ISEmmPww9YvTcQq8/JV2OstnstT8Er5Y7M8G+P0c+r3jqkcU/5h99k6ZBzj88bCIzFzjVP4enV8oyxN0//yH99nXg5D8qOpLLf0jtP5kqGJXUifQ/c9cS8kHP/D+/DpwzojQEQIEmwoanVwxA4lgXt9HgE0BSSZ2AJuIbQAMJih9jjiNA5q4l5INuK0AwTKYKRj0zQNv5fmq8/DpAaCJseHrtQkB/+zpwzoxKQM3MzMzMeFJAZmZmZmZqWEAAAAAAAFxeQM3MzMzMJmJAmpmZmZkfZUBmZmZmZhhoQDMzMzMzEWtAAAAAAAAKbkBmZmZmZoFwQM3MzMzM/XFAMzMzMzN6c0CamZmZmfZ0QAAAAAAAc3ZAZmZmZmbvd0DNzMzMzGt5QDMzMzMz6HpAmpmZmZlkfEAAAAAAAOF9QGZmZmZmXX9AZmZmZuZsgECamZmZGSuBQM3MzMxM6YFAAAAAAICngkAzMzMzs2WDQGZmZmbmI4RAmpmZmRnihEDNzMzMTKCFQAAAAACAXoZAMzMzM7Mch0BmZmZm5tqHQJqZmZkZmYhAzczMzExXiUAAAAAAgBWKQDMzMzOz04pAZmZmZuaRi0CamZmZGVCMQM3MzMxMDo1AAAAAAIDMjUAzMzMzs4qOQGZmZmbmSI9A\",\"dtype\":\"float64\",\"shape\":[75]}},\"selected\":{\"id\":\"1602407a-5998-453d-a059-5fb7aa616e32\",\"type\":\"Selection\"},\"selection_policy\":{\"id\":\"fe1e77af-eebc-47d5-b333-2fea2ba18882\",\"type\":\"UnionRenderers\"}},\"id\":\"c56dc1e9-d7dd-4d2b-98e3-dc896459de08\",\"type\":\"ColumnDataSource\"},{\"attributes\":{\"line_alpha\":0.1,\"line_color\":\"#1f77b4\",\"line_width\":1.5,\"x\":{\"field\":\"x\"},\"y\":{\"field\":\"y\"}},\"id\":\"3c4ac0e1-2d3b-48fd-84de-ea7562d78b1c\",\"type\":\"Line\"},{\"attributes\":{},\"id\":\"6097c21c-bdd9-4b83-9145-4107714e4804\",\"type\":\"PanTool\"},{\"attributes\":{},\"id\":\"cf57bbfe-05c2-4266-8ead-8ece61b6a1aa\",\"type\":\"WheelZoomTool\"},{\"attributes\":{\"overlay\":{\"id\":\"b4b3294b-1968-46db-9232-6706027f42d5\",\"type\":\"BoxAnnotation\"}},\"id\":\"134da83f-3eb7-46a9-bfdc-39d12e7f421c\",\"type\":\"BoxZoomTool\"},{\"attributes\":{\"callback\":null,\"end\":0.01,\"start\":1020},\"id\":\"3aebf660-28bb-4ec3-9cef-f9c51b97f7b8\",\"type\":\"Range1d\"},{\"attributes\":{\"fill_alpha\":{\"value\":0.7},\"fill_color\":{\"value\":\"#377eb8\"},\"line_alpha\":{\"value\":0.7},\"line_color\":{\"value\":\"#377eb8\"},\"x\":{\"field\":\"x\"},\"y\":{\"field\":\"y\"}},\"id\":\"8f45facd-3f20-4abf-9ec9-a6d17c54ee12\",\"type\":\"Triangle\"},{\"attributes\":{\"data_source\":{\"id\":\"e0259f75-0886-4c23-8931-a6b954e2bb7d\",\"type\":\"ColumnDataSource\"},\"glyph\":{\"id\":\"5fa36727-3b9f-4896-ae88-762c34749d99\",\"type\":\"Line\"},\"hover_glyph\":null,\"muted_glyph\":null,\"nonselection_glyph\":{\"id\":\"eb3aee01-6d83-424d-9562-b5b89f2ddb2d\",\"type\":\"Line\"},\"selection_glyph\":null,\"view\":{\"id\":\"7b81cd89-218f-417e-918a-c28b7d69adc4\",\"type\":\"CDSView\"}},\"id\":\"a260b44a-f3dd-4627-b149-0b72f066419b\",\"type\":\"GlyphRenderer\"},{\"attributes\":{\"fill_alpha\":{\"value\":0.7},\"fill_color\":{\"value\":\"#984ea3\"},\"line_alpha\":{\"value\":0.7},\"line_color\":{\"value\":\"#984ea3\"},\"x\":{\"field\":\"x\"},\"y\":{\"field\":\"y\"}},\"id\":\"883ca03b-43fa-4201-9e1c-4a9333251919\",\"type\":\"Square\"},{\"attributes\":{\"callback\":null,\"data\":{\"x\":{\"__ndarray__\":\"1rsUFvv8wb7awNtd8hTCvsQsOvOsQcK+qJhrdAJvwr6+wgCHJ5rCvmZxzgoBxMK+mg4+AIjswr5R3ZIAABPDvslUiCEyN8O+MNb21udZw748JMJQIHrDvul/0T0kmMO+iTFlvO6zw75HAQmnWdPDvqrXDuLzFsS+d3hTvnOlw77z5zFUwa7AvuWzAbhXB7O+SERBcVmloD69d4BBuZjLPk7nDC1wUeA+fmw7LDMp7T6eSQOSz1PxPq3RqgoCcu0+7ij2odBg5T6JNMPEE4LZPsMQ4C0uZsg+111uySCspz6/hTH/VySqvrC6GwIEOL2+IVuq4iWQw75l/n2gBVnGvp4+vmgEq8e+I6iJyVn/x77ifJSjagTHvgFidurmccS+VHfaOJDhwr6AM4gedF3FvpF+wrOkEMu+nTWAOQvO0b6JXaRfJKPdvp5j0+KdI/K+ywCZ8cBxAr/zSDqNGdwPv7TNFmDPlBe/2bQoDyoHHb9dYHKgqKwavwgIF9aa4P++beXDhMQNIT+bffNS5Mo6PwQKyv97cks/57w5kADeVz9m3Vz+dNliP8KWjEHb32s/dQy6mo6lcz8IcQMBUa16P8adpUBzkYE/FdI8bT2dhj/d6H+TT4qMP4sEpl72tZE/5p3QVX2hlT9C8WXNiAWaPz2CdwfzvZ4/M+Lb42AJoz/wmdsqMLemP7yF+67rg6o/xq8ehn2Trj8WfEtqSM6wP4cSLD6KZ7I/WTjWjkdHtD94nndKRXS2PzDvMCSW7rg/NKxgy4zDuz9MbUdomQC/PxauaxW0ecE/\",\"dtype\":\"float64\",\"shape\":[75]},\"y\":{\"__ndarray__\":\"GhExyth1ND/Sv8nbtpRIP2vylNV0PVE/aTum7souWD/At0SJ8fVgPw3Iuahxymc/MSNhhJWvcD/bTfBN02d3P2zb5nxnaoA/CD5h5MAGhz8NmeH1TyaQP+zrCsc9p5Y/LbKd76fGnz/bLW5ISEmmPww9YvTcQq8/JV2OstnstT8Er5Y7M8G+P0c+r3jqkcU/5h99k6ZBzj88bCIzFzjVP4enV8oyxN0//yH99nXg5D8qOpLLf0jtP5kqGJXUifQ/c9cS8kHP/D+/DpwzojQEQIEmwoanVwxA4lgXt9HgE0BSSZ2AJuIbQAMJih9jjiNA5q4l5INuK0AwTKYKRj0zQNv5fmq8/DpAaCJseHrtQkB/+zpwzoxKQM3MzMzMeFJAZmZmZmZqWEAAAAAAAFxeQM3MzMzMJmJAmpmZmZkfZUBmZmZmZhhoQDMzMzMzEWtAAAAAAAAKbkBmZmZmZoFwQM3MzMzM/XFAMzMzMzN6c0CamZmZmfZ0QAAAAAAAc3ZAZmZmZmbvd0DNzMzMzGt5QDMzMzMz6HpAmpmZmZlkfEAAAAAAAOF9QGZmZmZmXX9AZmZmZuZsgECamZmZGSuBQM3MzMxM6YFAAAAAAICngkAzMzMzs2WDQGZmZmbmI4RAmpmZmRnihEDNzMzMTKCFQAAAAACAXoZAMzMzM7Mch0BmZmZm5tqHQJqZmZkZmYhAzczMzExXiUAAAAAAgBWKQDMzMzOz04pAZmZmZuaRi0CamZmZGVCMQM3MzMxMDo1AAAAAAIDMjUAzMzMzs4qOQGZmZmbmSI9A\",\"dtype\":\"float64\",\"shape\":[75]}},\"selected\":{\"id\":\"a702711c-a60f-4665-a24e-4749a3e4b100\",\"type\":\"Selection\"},\"selection_policy\":{\"id\":\"9abba9f1-860a-47fd-ada9-940530076e48\",\"type\":\"UnionRenderers\"}},\"id\":\"461caaea-78e7-4a6a-aa41-6a42a8759152\",\"type\":\"ColumnDataSource\"},{\"attributes\":{\"fill_alpha\":{\"value\":0.1},\"fill_color\":{\"value\":\"#1f77b4\"},\"line_alpha\":{\"value\":0.1},\"line_color\":{\"value\":\"#1f77b4\"},\"x\":{\"field\":\"x\"},\"y\":{\"field\":\"y\"}},\"id\":\"d1325ab3-3d31-4ca4-9a93-0cbf055f694f\",\"type\":\"Square\"},{\"attributes\":{\"line_alpha\":0.1,\"line_color\":\"#1f77b4\",\"line_width\":2,\"x\":{\"field\":\"x\"},\"y\":{\"field\":\"y\"}},\"id\":\"eb3aee01-6d83-424d-9562-b5b89f2ddb2d\",\"type\":\"Line\"},{\"attributes\":{\"data_source\":{\"id\":\"ef20c4e1-77d8-430c-afc0-8c132625b4e6\",\"type\":\"ColumnDataSource\"},\"glyph\":{\"id\":\"8f3f433b-4805-45a0-ba31-ff7c6c2f0448\",\"type\":\"Line\"},\"hover_glyph\":null,\"muted_glyph\":null,\"nonselection_glyph\":{\"id\":\"7e4f0651-fd31-41fd-84d6-2b497d4105d5\",\"type\":\"Line\"},\"selection_glyph\":null,\"view\":{\"id\":\"d819b967-e674-4b34-b192-cd5f70929c4a\",\"type\":\"CDSView\"}},\"id\":\"c0bb01e9-98c5-4c5d-8687-986787dcced2\",\"type\":\"GlyphRenderer\"},{\"attributes\":{\"data_source\":{\"id\":\"461caaea-78e7-4a6a-aa41-6a42a8759152\",\"type\":\"ColumnDataSource\"},\"glyph\":{\"id\":\"883ca03b-43fa-4201-9e1c-4a9333251919\",\"type\":\"Square\"},\"hover_glyph\":null,\"muted_glyph\":null,\"nonselection_glyph\":{\"id\":\"d1325ab3-3d31-4ca4-9a93-0cbf055f694f\",\"type\":\"Square\"},\"selection_glyph\":null,\"view\":{\"id\":\"e6243a58-d0df-4aca-94d5-90e1af88062c\",\"type\":\"CDSView\"}},\"id\":\"283bbd60-f39d-4265-9b13-36f89a84ebcc\",\"type\":\"GlyphRenderer\"},{\"attributes\":{\"line_color\":\"#4daf4a\",\"line_width\":1.5,\"x\":{\"field\":\"x\"},\"y\":{\"field\":\"y\"}},\"id\":\"22b5f60e-0cda-4e20-b4dc-d11a827b416a\",\"type\":\"Line\"},{\"attributes\":{\"source\":{\"id\":\"bdc6130c-878f-4e9f-9ba7-28722584abf1\",\"type\":\"ColumnDataSource\"}},\"id\":\"5f5b5202-e9df-4289-a69f-1c7354c7be97\",\"type\":\"CDSView\"},{\"attributes\":{\"callback\":null,\"data\":{\"x\":{\"__ndarray__\":\"VT4XTwOawL66dFsN87HAvl8D4SMl4cC+QHLc+g4Pwb4Lhzz1hD3BvmuKs5UVacG+MJscuc6Uwb52ZzkVpr7BvoTSvuck58G+3GGozRUOwr4BroNzfzPCvjcmJysyV8K+AtZIAUx5wr5NdYc6waHCvsgjFe5uDsO+HWrJGLYkw76my2Rr8k3Bvp4aCjr9Kri+D+YuNKcuib7Mp4iUvuzAPr9tp3gnktc+fTWi4JAw5j4k6otEyqjqPlmGRerhaeY+/WlFVqO43z5aoTxg5MnRPgQFh9Hxgrw+bOVZHAQ5aL5wzHk2Uim0vvd/4+8nOMC+LG92HoTWw74hGcQi6LjFvswMb1y3c8a+bz66VOdmxr4DgI79XTDFviV23k+rnsK+D+7sJ/wewb6AWr9jMm3DvrxIe3tmz8i+HWmFQG990L4wus6PKtDbvuV49dybUfG+fQu2E8IJAr8dIY2SyiIQv2dwXD72DRm/ymJcLDm+IL8kGzJq52civzacM8f0Nxu/DAcDPyjS8T7O1rBJlg0wP4JIJwW3QkQ/XAq4DGBMUz8vd9TnWRhgP6W8h9y3rWg/J5XbTzjZcT+PZFF/1qh4P68xBbYFboA/GYOPSOlHhT9W9Och6uyKP+lirF5ZvJA/Z25Um/57lD9Qg28/PKmYP16kJnJnPJ0/iAAuaCQ5oj/HayUG1vClP7ZciYIR4qk/vjmgyDosrj+UkIX18bqwPyqmqzdWbLI/PhxTLNBctD/S1rCkm5C2P6RzpiaXC7k/yu8Fzh/Yuz/+1yYc7wW/P0yoJqHpbsE/\",\"dtype\":\"float64\",\"shape\":[75]},\"y\":{\"__ndarray__\":\"GhExyth1ND/Sv8nbtpRIP2vylNV0PVE/aTum7souWD/At0SJ8fVgPw3Iuahxymc/MSNhhJWvcD/bTfBN02d3P2zb5nxnaoA/CD5h5MAGhz8NmeH1TyaQP+zrCsc9p5Y/LbKd76fGnz/bLW5ISEmmPww9YvTcQq8/JV2OstnstT8Er5Y7M8G+P0c+r3jqkcU/5h99k6ZBzj88bCIzFzjVP4enV8oyxN0//yH99nXg5D8qOpLLf0jtP5kqGJXUifQ/c9cS8kHP/D+/DpwzojQEQIEmwoanVwxA4lgXt9HgE0BSSZ2AJuIbQAMJih9jjiNA5q4l5INuK0AwTKYKRj0zQNv5fmq8/DpAaCJseHrtQkB/+zpwzoxKQM3MzMzMeFJAZmZmZmZqWEAAAAAAAFxeQM3MzMzMJmJAmpmZmZkfZUBmZmZmZhhoQDMzMzMzEWtAAAAAAAAKbkBmZmZmZoFwQM3MzMzM/XFAMzMzMzN6c0CamZmZmfZ0QAAAAAAAc3ZAZmZmZmbvd0DNzMzMzGt5QDMzMzMz6HpAmpmZmZlkfEAAAAAAAOF9QGZmZmZmXX9AZmZmZuZsgECamZmZGSuBQM3MzMxM6YFAAAAAAICngkAzMzMzs2WDQGZmZmbmI4RAmpmZmRnihEDNzMzMTKCFQAAAAACAXoZAMzMzM7Mch0BmZmZm5tqHQJqZmZkZmYhAzczMzExXiUAAAAAAgBWKQDMzMzOz04pAZmZmZuaRi0CamZmZGVCMQM3MzMxMDo1AAAAAAIDMjUAzMzMzs4qOQGZmZmbmSI9A\",\"dtype\":\"float64\",\"shape\":[75]}},\"selected\":{\"id\":\"5d7229a9-405c-41e1-8a5d-fdeab80e18bb\",\"type\":\"Selection\"},\"selection_policy\":{\"id\":\"bc196999-2b79-4ab4-a29b-4709021ca083\",\"type\":\"UnionRenderers\"}},\"id\":\"e0259f75-0886-4c23-8931-a6b954e2bb7d\",\"type\":\"ColumnDataSource\"},{\"attributes\":{\"source\":{\"id\":\"f3e9643a-9d78-40e4-bd9e-15e5dbeb2ccf\",\"type\":\"ColumnDataSource\"}},\"id\":\"653a214c-bff4-414a-bb9b-ac212b666eaf\",\"type\":\"CDSView\"},{\"attributes\":{\"source\":{\"id\":\"ef20c4e1-77d8-430c-afc0-8c132625b4e6\",\"type\":\"ColumnDataSource\"}},\"id\":\"d819b967-e674-4b34-b192-cd5f70929c4a\",\"type\":\"CDSView\"},{\"attributes\":{\"callback\":null,\"data\":{\"x\":{\"__ndarray__\":\"1rsUFvv8wb7awNtd8hTCvsQsOvOsQcK+qJhrdAJvwr6+wgCHJ5rCvmZxzgoBxMK+mg4+AIjswr5R3ZIAABPDvslUiCEyN8O+MNb21udZw748JMJQIHrDvul/0T0kmMO+iTFlvO6zw75HAQmnWdPDvqrXDuLzFsS+d3hTvnOlw77z5zFUwa7AvuWzAbhXB7O+SERBcVmloD69d4BBuZjLPk7nDC1wUeA+fmw7LDMp7T6eSQOSz1PxPq3RqgoCcu0+7ij2odBg5T6JNMPEE4LZPsMQ4C0uZsg+111uySCspz6/hTH/VySqvrC6GwIEOL2+IVuq4iWQw75l/n2gBVnGvp4+vmgEq8e+I6iJyVn/x77ifJSjagTHvgFidurmccS+VHfaOJDhwr6AM4gedF3FvpF+wrOkEMu+nTWAOQvO0b6JXaRfJKPdvp5j0+KdI/K+ywCZ8cBxAr/zSDqNGdwPv7TNFmDPlBe/2bQoDyoHHb9dYHKgqKwavwgIF9aa4P++beXDhMQNIT+bffNS5Mo6PwQKyv97cks/57w5kADeVz9m3Vz+dNliP8KWjEHb32s/dQy6mo6lcz8IcQMBUa16P8adpUBzkYE/FdI8bT2dhj/d6H+TT4qMP4sEpl72tZE/5p3QVX2hlT9C8WXNiAWaPz2CdwfzvZ4/M+Lb42AJoz/wmdsqMLemP7yF+67rg6o/xq8ehn2Trj8WfEtqSM6wP4cSLD6KZ7I/WTjWjkdHtD94nndKRXS2PzDvMCSW7rg/NKxgy4zDuz9MbUdomQC/PxauaxW0ecE/\",\"dtype\":\"float64\",\"shape\":[75]},\"y\":{\"__ndarray__\":\"GhExyth1ND/Sv8nbtpRIP2vylNV0PVE/aTum7souWD/At0SJ8fVgPw3Iuahxymc/MSNhhJWvcD/bTfBN02d3P2zb5nxnaoA/CD5h5MAGhz8NmeH1TyaQP+zrCsc9p5Y/LbKd76fGnz/bLW5ISEmmPww9YvTcQq8/JV2OstnstT8Er5Y7M8G+P0c+r3jqkcU/5h99k6ZBzj88bCIzFzjVP4enV8oyxN0//yH99nXg5D8qOpLLf0jtP5kqGJXUifQ/c9cS8kHP/D+/DpwzojQEQIEmwoanVwxA4lgXt9HgE0BSSZ2AJuIbQAMJih9jjiNA5q4l5INuK0AwTKYKRj0zQNv5fmq8/DpAaCJseHrtQkB/+zpwzoxKQM3MzMzMeFJAZmZmZmZqWEAAAAAAAFxeQM3MzMzMJmJAmpmZmZkfZUBmZmZmZhhoQDMzMzMzEWtAAAAAAAAKbkBmZmZmZoFwQM3MzMzM/XFAMzMzMzN6c0CamZmZmfZ0QAAAAAAAc3ZAZmZmZmbvd0DNzMzMzGt5QDMzMzMz6HpAmpmZmZlkfEAAAAAAAOF9QGZmZmZmXX9AZmZmZuZsgECamZmZGSuBQM3MzMxM6YFAAAAAAICngkAzMzMzs2WDQGZmZmbmI4RAmpmZmRnihEDNzMzMTKCFQAAAAACAXoZAMzMzM7Mch0BmZmZm5tqHQJqZmZkZmYhAzczMzExXiUAAAAAAgBWKQDMzMzOz04pAZmZmZuaRi0CamZmZGVCMQM3MzMxMDo1AAAAAAIDMjUAzMzMzs4qOQGZmZmbmSI9A\",\"dtype\":\"float64\",\"shape\":[75]}},\"selected\":{\"id\":\"e473f4b3-b932-4135-b3e8-966316b034bf\",\"type\":\"Selection\"},\"selection_policy\":{\"id\":\"3d0004c7-fcf7-4e04-8405-55bbb19e0643\",\"type\":\"UnionRenderers\"}},\"id\":\"ef20c4e1-77d8-430c-afc0-8c132625b4e6\",\"type\":\"ColumnDataSource\"},{\"attributes\":{\"source\":{\"id\":\"461caaea-78e7-4a6a-aa41-6a42a8759152\",\"type\":\"ColumnDataSource\"}},\"id\":\"e6243a58-d0df-4aca-94d5-90e1af88062c\",\"type\":\"CDSView\"},{\"attributes\":{\"line_alpha\":0.6,\"line_color\":\"#984ea3\",\"line_width\":3,\"x\":{\"field\":\"x\"},\"y\":{\"field\":\"y\"}},\"id\":\"8f3f433b-4805-45a0-ba31-ff7c6c2f0448\",\"type\":\"Line\"},{\"attributes\":{\"callback\":null,\"data\":{\"x\":{\"__ndarray__\":\"VT4XTwOawL66dFsN87HAvl8D4SMl4cC+QHLc+g4Pwb4Lhzz1hD3BvmuKs5UVacG+MJscuc6Uwb52ZzkVpr7BvoTSvuck58G+3GGozRUOwr4BroNzfzPCvjcmJysyV8K+AtZIAUx5wr5NdYc6waHCvsgjFe5uDsO+HWrJGLYkw76my2Rr8k3Bvp4aCjr9Kri+D+YuNKcuib7Mp4iUvuzAPr9tp3gnktc+fTWi4JAw5j4k6otEyqjqPlmGRerhaeY+/WlFVqO43z5aoTxg5MnRPgQFh9Hxgrw+bOVZHAQ5aL5wzHk2Uim0vvd/4+8nOMC+LG92HoTWw74hGcQi6LjFvswMb1y3c8a+bz66VOdmxr4DgI79XTDFviV23k+rnsK+D+7sJ/wewb6AWr9jMm3DvrxIe3tmz8i+HWmFQG990L4wus6PKtDbvuV49dybUfG+fQu2E8IJAr8dIY2SyiIQv2dwXD72DRm/ymJcLDm+IL8kGzJq52civzacM8f0Nxu/DAcDPyjS8T7O1rBJlg0wP4JIJwW3QkQ/XAq4DGBMUz8vd9TnWRhgP6W8h9y3rWg/J5XbTzjZcT+PZFF/1qh4P68xBbYFboA/GYOPSOlHhT9W9Och6uyKP+lirF5ZvJA/Z25Um/57lD9Qg28/PKmYP16kJnJnPJ0/iAAuaCQ5oj/HayUG1vClP7ZciYIR4qk/vjmgyDosrj+UkIX18bqwPyqmqzdWbLI/PhxTLNBctD/S1rCkm5C2P6RzpiaXC7k/yu8Fzh/Yuz/+1yYc7wW/P0yoJqHpbsE/\",\"dtype\":\"float64\",\"shape\":[75]},\"y\":{\"__ndarray__\":\"GhExyth1ND/Sv8nbtpRIP2vylNV0PVE/aTum7souWD/At0SJ8fVgPw3Iuahxymc/MSNhhJWvcD/bTfBN02d3P2zb5nxnaoA/CD5h5MAGhz8NmeH1TyaQP+zrCsc9p5Y/LbKd76fGnz/bLW5ISEmmPww9YvTcQq8/JV2OstnstT8Er5Y7M8G+P0c+r3jqkcU/5h99k6ZBzj88bCIzFzjVP4enV8oyxN0//yH99nXg5D8qOpLLf0jtP5kqGJXUifQ/c9cS8kHP/D+/DpwzojQEQIEmwoanVwxA4lgXt9HgE0BSSZ2AJuIbQAMJih9jjiNA5q4l5INuK0AwTKYKRj0zQNv5fmq8/DpAaCJseHrtQkB/+zpwzoxKQM3MzMzMeFJAZmZmZmZqWEAAAAAAAFxeQM3MzMzMJmJAmpmZmZkfZUBmZmZmZhhoQDMzMzMzEWtAAAAAAAAKbkBmZmZmZoFwQM3MzMzM/XFAMzMzMzN6c0CamZmZmfZ0QAAAAAAAc3ZAZmZmZmbvd0DNzMzMzGt5QDMzMzMz6HpAmpmZmZlkfEAAAAAAAOF9QGZmZmZmXX9AZmZmZuZsgECamZmZGSuBQM3MzMxM6YFAAAAAAICngkAzMzMzs2WDQGZmZmbmI4RAmpmZmRnihEDNzMzMTKCFQAAAAACAXoZAMzMzM7Mch0BmZmZm5tqHQJqZmZkZmYhAzczMzExXiUAAAAAAgBWKQDMzMzOz04pAZmZmZuaRi0CamZmZGVCMQM3MzMxMDo1AAAAAAIDMjUAzMzMzs4qOQGZmZmbmSI9A\",\"dtype\":\"float64\",\"shape\":[75]}},\"selected\":{\"id\":\"033185e0-9c19-4032-bbd1-896a90f7c2d2\",\"type\":\"Selection\"},\"selection_policy\":{\"id\":\"e982d6f3-eb5d-41a2-beac-feacecb6754c\",\"type\":\"UnionRenderers\"}},\"id\":\"bdc6130c-878f-4e9f-9ba7-28722584abf1\",\"type\":\"ColumnDataSource\"},{\"attributes\":{\"line_alpha\":0.1,\"line_color\":\"#1f77b4\",\"line_width\":3,\"x\":{\"field\":\"x\"},\"y\":{\"field\":\"y\"}},\"id\":\"7e4f0651-fd31-41fd-84d6-2b497d4105d5\",\"type\":\"Line\"},{\"attributes\":{\"fill_alpha\":{\"value\":0.1},\"fill_color\":{\"value\":\"#1f77b4\"},\"line_alpha\":{\"value\":0.1},\"line_color\":{\"value\":\"#1f77b4\"},\"x\":{\"field\":\"x\"},\"y\":{\"field\":\"y\"}},\"id\":\"8755bdeb-f902-48f7-8112-fa13ce9879bc\",\"type\":\"Triangle\"},{\"attributes\":{\"line_alpha\":0.3,\"line_color\":\"#377eb8\",\"line_width\":2,\"x\":{\"field\":\"x\"},\"y\":{\"field\":\"y\"}},\"id\":\"5fa36727-3b9f-4896-ae88-762c34749d99\",\"type\":\"Line\"},{\"attributes\":{\"data_source\":{\"id\":\"bdc6130c-878f-4e9f-9ba7-28722584abf1\",\"type\":\"ColumnDataSource\"},\"glyph\":{\"id\":\"8f45facd-3f20-4abf-9ec9-a6d17c54ee12\",\"type\":\"Triangle\"},\"hover_glyph\":null,\"muted_glyph\":null,\"nonselection_glyph\":{\"id\":\"8755bdeb-f902-48f7-8112-fa13ce9879bc\",\"type\":\"Triangle\"},\"selection_glyph\":null,\"view\":{\"id\":\"5f5b5202-e9df-4289-a69f-1c7354c7be97\",\"type\":\"CDSView\"}},\"id\":\"0c6c50f0-9e48-4e36-aa81-fe2567bd5276\",\"type\":\"GlyphRenderer\"},{\"attributes\":{},\"id\":\"67238f82-5ef3-433e-98fc-0af98e562ead\",\"type\":\"PanTool\"},{\"attributes\":{},\"id\":\"ed457235-c232-4527-9bce-dbeebceefd28\",\"type\":\"WheelZoomTool\"},{\"attributes\":{},\"id\":\"08fc8894-f5d3-4585-b364-cec2cfc0b88e\",\"type\":\"ResetTool\"},{\"attributes\":{\"overlay\":{\"id\":\"186439d1-cc76-4c27-bf9e-3f609a08c8cb\",\"type\":\"BoxAnnotation\"}},\"id\":\"16858691-3b88-4e93-b3f5-5d8dde2b8db3\",\"type\":\"BoxZoomTool\"},{\"attributes\":{},\"id\":\"c28c0456-5cfa-490b-a5be-3876c1a8a8ad\",\"type\":\"SaveTool\"},{\"attributes\":{},\"id\":\"6c303be8-4706-452b-8eac-b4ff2423f651\",\"type\":\"HelpTool\"},{\"attributes\":{},\"id\":\"e58409c6-233a-4f26-acf6-04f8403c965b\",\"type\":\"UnionRenderers\"},{\"attributes\":{},\"id\":\"89d4328c-8ab2-4c3f-b860-030b750ab171\",\"type\":\"HelpTool\"},{\"attributes\":{\"bottom_units\":\"screen\",\"fill_alpha\":{\"value\":0.5},\"fill_color\":{\"value\":\"lightgrey\"},\"left_units\":\"screen\",\"level\":\"overlay\",\"line_alpha\":{\"value\":1.0},\"line_color\":{\"value\":\"black\"},\"line_dash\":[4,4],\"line_width\":{\"value\":2},\"plot\":null,\"render_mode\":\"css\",\"right_units\":\"screen\",\"top_units\":\"screen\"},\"id\":\"b4b3294b-1968-46db-9232-6706027f42d5\",\"type\":\"BoxAnnotation\"},{\"attributes\":{\"source\":{\"id\":\"e9714ce0-63fc-4e24-b71f-5b60f22bbd21\",\"type\":\"ColumnDataSource\"}},\"id\":\"bd5522c5-f182-484a-aaee-282d3425d463\",\"type\":\"CDSView\"},{\"attributes\":{},\"id\":\"d2e89755-a158-4306-995b-0ee16eced93c\",\"type\":\"ResetTool\"},{\"attributes\":{\"data_source\":{\"id\":\"e9714ce0-63fc-4e24-b71f-5b60f22bbd21\",\"type\":\"ColumnDataSource\"},\"glyph\":{\"id\":\"849ad950-3d08-494d-af69-84d7f7194dac\",\"type\":\"Circle\"},\"hover_glyph\":null,\"muted_glyph\":null,\"nonselection_glyph\":{\"id\":\"272fbaf5-149c-4b68-8382-a8f8150b5f64\",\"type\":\"Circle\"},\"selection_glyph\":null,\"view\":{\"id\":\"bd5522c5-f182-484a-aaee-282d3425d463\",\"type\":\"CDSView\"}},\"id\":\"6517247d-8593-417e-8b84-abd3ba6440f6\",\"type\":\"GlyphRenderer\"},{\"attributes\":{},\"id\":\"e18c4927-334d-4130-b14b-ed99446458f3\",\"type\":\"Selection\"},{\"attributes\":{\"line_color\":\"#4daf4a\",\"line_width\":1.5,\"x\":{\"field\":\"x\"},\"y\":{\"field\":\"y\"}},\"id\":\"4354ff6c-8763-49fa-9d55-43faf169c8dd\",\"type\":\"Line\"},{\"attributes\":{\"callback\":null,\"data\":{\"x\":{\"__ndarray__\":\"1rsUFvv8wb7awNtd8hTCvsQsOvOsQcK+qJhrdAJvwr6+wgCHJ5rCvmZxzgoBxMK+mg4+AIjswr5R3ZIAABPDvslUiCEyN8O+MNb21udZw748JMJQIHrDvul/0T0kmMO+iTFlvO6zw75HAQmnWdPDvqrXDuLzFsS+d3hTvnOlw77z5zFUwa7AvuWzAbhXB7O+SERBcVmloD69d4BBuZjLPk7nDC1wUeA+fmw7LDMp7T6eSQOSz1PxPq3RqgoCcu0+7ij2odBg5T6JNMPEE4LZPsMQ4C0uZsg+111uySCspz6/hTH/VySqvrC6GwIEOL2+IVuq4iWQw75l/n2gBVnGvp4+vmgEq8e+I6iJyVn/x77ifJSjagTHvgFidurmccS+VHfaOJDhwr6AM4gedF3FvpF+wrOkEMu+nTWAOQvO0b6JXaRfJKPdvp5j0+KdI/K+ywCZ8cBxAr/zSDqNGdwPv7TNFmDPlBe/2bQoDyoHHb9dYHKgqKwavwgIF9aa4P++beXDhMQNIT+bffNS5Mo6PwQKyv97cks/57w5kADeVz9m3Vz+dNliP8KWjEHb32s/dQy6mo6lcz8IcQMBUa16P8adpUBzkYE/FdI8bT2dhj/d6H+TT4qMP4sEpl72tZE/5p3QVX2hlT9C8WXNiAWaPz2CdwfzvZ4/M+Lb42AJoz/wmdsqMLemP7yF+67rg6o/xq8ehn2Trj8WfEtqSM6wP4cSLD6KZ7I/WTjWjkdHtD94nndKRXS2PzDvMCSW7rg/NKxgy4zDuz9MbUdomQC/PxauaxW0ecE/\",\"dtype\":\"float64\",\"shape\":[75]},\"y\":{\"__ndarray__\":\"GhExyth1ND/Sv8nbtpRIP2vylNV0PVE/aTum7souWD/At0SJ8fVgPw3Iuahxymc/MSNhhJWvcD/bTfBN02d3P2zb5nxnaoA/CD5h5MAGhz8NmeH1TyaQP+zrCsc9p5Y/LbKd76fGnz/bLW5ISEmmPww9YvTcQq8/JV2OstnstT8Er5Y7M8G+P0c+r3jqkcU/5h99k6ZBzj88bCIzFzjVP4enV8oyxN0//yH99nXg5D8qOpLLf0jtP5kqGJXUifQ/c9cS8kHP/D+/DpwzojQEQIEmwoanVwxA4lgXt9HgE0BSSZ2AJuIbQAMJih9jjiNA5q4l5INuK0AwTKYKRj0zQNv5fmq8/DpAaCJseHrtQkB/+zpwzoxKQM3MzMzMeFJAZmZmZmZqWEAAAAAAAFxeQM3MzMzMJmJAmpmZmZkfZUBmZmZmZhhoQDMzMzMzEWtAAAAAAAAKbkBmZmZmZoFwQM3MzMzM/XFAMzMzMzN6c0CamZmZmfZ0QAAAAAAAc3ZAZmZmZmbvd0DNzMzMzGt5QDMzMzMz6HpAmpmZmZlkfEAAAAAAAOF9QGZmZmZmXX9AZmZmZuZsgECamZmZGSuBQM3MzMxM6YFAAAAAAICngkAzMzMzs2WDQGZmZmbmI4RAmpmZmRnihEDNzMzMTKCFQAAAAACAXoZAMzMzM7Mch0BmZmZm5tqHQJqZmZkZmYhAzczMzExXiUAAAAAAgBWKQDMzMzOz04pAZmZmZuaRi0CamZmZGVCMQM3MzMxMDo1AAAAAAIDMjUAzMzMzs4qOQGZmZmbmSI9A\",\"dtype\":\"float64\",\"shape\":[75]}},\"selected\":{\"id\":\"ef5d39fe-5fe6-45af-ac69-d88ca402bb05\",\"type\":\"Selection\"},\"selection_policy\":{\"id\":\"664698df-dbe1-4ca6-814d-823fd76b3832\",\"type\":\"UnionRenderers\"}},\"id\":\"456a41b1-ea0c-4c2e-bd85-c69f7211f33c\",\"type\":\"ColumnDataSource\"},{\"attributes\":{\"data_source\":{\"id\":\"71cbc9c6-cb12-4c7f-b54c-3a794016b96b\",\"type\":\"ColumnDataSource\"},\"glyph\":{\"id\":\"a4613b90-9fee-4b6b-b25b-b4eb0a9741c9\",\"type\":\"Square\"},\"hover_glyph\":null,\"muted_glyph\":null,\"nonselection_glyph\":{\"id\":\"495acb1b-5d51-46ef-b148-f1706bdd5f0e\",\"type\":\"Square\"},\"selection_glyph\":null,\"view\":{\"id\":\"94670b40-53f5-47bb-a3ef-b07368180fae\",\"type\":\"CDSView\"}},\"id\":\"441c228b-4fee-4ecf-9ec5-d60b48e7cd72\",\"type\":\"GlyphRenderer\"},{\"attributes\":{\"fill_alpha\":{\"value\":0.7},\"fill_color\":{\"value\":\"#4daf4a\"},\"line_alpha\":{\"value\":0.7},\"line_color\":{\"value\":\"#4daf4a\"},\"x\":{\"field\":\"x\"},\"y\":{\"field\":\"y\"}},\"id\":\"849ad950-3d08-494d-af69-84d7f7194dac\",\"type\":\"Circle\"},{\"attributes\":{\"fill_alpha\":{\"value\":0.1},\"fill_color\":{\"value\":\"#1f77b4\"},\"line_alpha\":{\"value\":0.1},\"line_color\":{\"value\":\"#1f77b4\"},\"x\":{\"field\":\"x\"},\"y\":{\"field\":\"y\"}},\"id\":\"ec1c0f42-1735-449d-82f3-ebc426e1b56c\",\"type\":\"Circle\"},{\"attributes\":{},\"id\":\"4dbae0b8-6f72-4090-9dc6-ff98a4054ee2\",\"type\":\"UnionRenderers\"},{\"attributes\":{\"callback\":null,\"data\":{\"x\":{\"__ndarray__\":\"6TVET5Owyb7M5tZR2srJvgjACWoE+sm+kSwRLvImyr7ZvD05YVDKvr5VHFSwdsq+soeYH6iZyr4LYdOHQ7bKvkLDjWfZzsq+YWm6SYXjyr5J0nPnyfHKvrCxHUTK+sq+NohuFIv+yr4zjCQoZ/nKvjKFHRFtjMq+nWvwpKOWx74LKZGEWcO9vnObQMIVTpU+ZnpyG+jT0D5i5uAPFiTlPiQmGnP/h/Q+AO9Bxj3uAD+fToNeXrsDP1gEKOpzAgE/KLrz+iib+T6dSqo6To7wPoLK+GU/BOM+uZ3fioFP0j5vriGld3GzPvKfVxgVDLC+se8bnYECw74EWzU5OzLJvoAu7K60Ccy+lo3PvZGzzL4Q74nd6RrLvl7Oxc9LPse+OzMaS4TJxL6F8ImBfjzHvmTxc6EZP82++rjzrN8A075VfHg/Sgbfvq0uNjjzcvK+9WWZvm7/Ab/6m3QF2T4Nv5M0Yc4jdRO/hzMoelRPE7+0WXHEs/v9vqNy4TSlthg/nJYQsyCuND9NPsS8JdhFP5l9Uwd1XVM/dQi25xMVXz/zmwy7GldnP2w7wjyCq3A/OwjJVSzzdj8aw3ptP6N+P9NDtxYi8oM/QE8q8hBziT+eGGQSf+KPP0SQLxPYq5M/DkbLTnbklz82JNSmD3icP+xJ215koKA/lgTlDH5IpD8kXCMmSrmnP0g5tX61Das/ri83fPBxrj8M3FHVtFmwP+B/vpsvi7E//je+ALT/sj9Ps8OFo7e0PwdW2s3Is7Y/a3Yq8vb8uD9cFjwawaW7P50w6iWJD78/\",\"dtype\":\"float64\",\"shape\":[75]},\"y\":{\"__ndarray__\":\"GhExyth1ND/Sv8nbtpRIP2vylNV0PVE/aTum7souWD/At0SJ8fVgPw3Iuahxymc/MSNhhJWvcD/bTfBN02d3P2zb5nxnaoA/CD5h5MAGhz8NmeH1TyaQP+zrCsc9p5Y/LbKd76fGnz/bLW5ISEmmPww9YvTcQq8/JV2OstnstT8Er5Y7M8G+P0c+r3jqkcU/5h99k6ZBzj88bCIzFzjVP4enV8oyxN0//yH99nXg5D8qOpLLf0jtP5kqGJXUifQ/c9cS8kHP/D+/DpwzojQEQIEmwoanVwxA4lgXt9HgE0BSSZ2AJuIbQAMJih9jjiNA5q4l5INuK0AwTKYKRj0zQNv5fmq8/DpAaCJseHrtQkB/+zpwzoxKQM3MzMzMeFJAZmZmZmZqWEAAAAAAAFxeQM3MzMzMJmJAmpmZmZkfZUBmZmZmZhhoQDMzMzMzEWtAAAAAAAAKbkBmZmZmZoFwQM3MzMzM/XFAMzMzMzN6c0CamZmZmfZ0QAAAAAAAc3ZAZmZmZmbvd0DNzMzMzGt5QDMzMzMz6HpAmpmZmZlkfEAAAAAAAOF9QGZmZmZmXX9AZmZmZuZsgECamZmZGSuBQM3MzMxM6YFAAAAAAICngkAzMzMzs2WDQGZmZmbmI4RAmpmZmRnihEDNzMzMTKCFQAAAAACAXoZAMzMzM7Mch0BmZmZm5tqHQJqZmZkZmYhAzczMzExXiUAAAAAAgBWKQDMzMzOz04pAZmZmZuaRi0CamZmZGVCMQM3MzMxMDo1AAAAAAIDMjUAzMzMzs4qOQGZmZmbmSI9A\",\"dtype\":\"float64\",\"shape\":[75]}},\"selected\":{\"id\":\"33891289-ed1f-4b80-8cb7-2dee07eaf5a4\",\"type\":\"Selection\"},\"selection_policy\":{\"id\":\"4dbae0b8-6f72-4090-9dc6-ff98a4054ee2\",\"type\":\"UnionRenderers\"}},\"id\":\"85dc3cc6-c789-4471-872a-b43653d87300\",\"type\":\"ColumnDataSource\"},{\"attributes\":{},\"id\":\"55ce1488-55c7-47c0-8d78-f861d497c538\",\"type\":\"UnionRenderers\"},{\"attributes\":{\"fill_alpha\":{\"value\":0.1},\"fill_color\":{\"value\":\"#1f77b4\"},\"line_alpha\":{\"value\":0.1},\"line_color\":{\"value\":\"#1f77b4\"},\"x\":{\"field\":\"x\"},\"y\":{\"field\":\"y\"}},\"id\":\"272fbaf5-149c-4b68-8382-a8f8150b5f64\",\"type\":\"Circle\"},{\"attributes\":{\"callback\":null,\"data\":{\"x\":{\"__ndarray__\":\"VT4XTwOawL66dFsN87HAvl8D4SMl4cC+QHLc+g4Pwb4Lhzz1hD3BvmuKs5UVacG+MJscuc6Uwb52ZzkVpr7BvoTSvuck58G+3GGozRUOwr4BroNzfzPCvjcmJysyV8K+AtZIAUx5wr5NdYc6waHCvsgjFe5uDsO+HWrJGLYkw76my2Rr8k3Bvp4aCjr9Kri+D+YuNKcuib7Mp4iUvuzAPr9tp3gnktc+fTWi4JAw5j4k6otEyqjqPlmGRerhaeY+/WlFVqO43z5aoTxg5MnRPgQFh9Hxgrw+bOVZHAQ5aL5wzHk2Uim0vvd/4+8nOMC+LG92HoTWw74hGcQi6LjFvswMb1y3c8a+bz66VOdmxr4DgI79XTDFviV23k+rnsK+D+7sJ/wewb6AWr9jMm3DvrxIe3tmz8i+HWmFQG990L4wus6PKtDbvuV49dybUfG+fQu2E8IJAr8dIY2SyiIQv2dwXD72DRm/ymJcLDm+IL8kGzJq52civzacM8f0Nxu/DAcDPyjS8T7O1rBJlg0wP4JIJwW3QkQ/XAq4DGBMUz8vd9TnWRhgP6W8h9y3rWg/J5XbTzjZcT+PZFF/1qh4P68xBbYFboA/GYOPSOlHhT9W9Och6uyKP+lirF5ZvJA/Z25Um/57lD9Qg28/PKmYP16kJnJnPJ0/iAAuaCQ5oj/HayUG1vClP7ZciYIR4qk/vjmgyDosrj+UkIX18bqwPyqmqzdWbLI/PhxTLNBctD/S1rCkm5C2P6RzpiaXC7k/yu8Fzh/Yuz/+1yYc7wW/P0yoJqHpbsE/\",\"dtype\":\"float64\",\"shape\":[75]},\"y\":{\"__ndarray__\":\"GhExyth1ND/Sv8nbtpRIP2vylNV0PVE/aTum7souWD/At0SJ8fVgPw3Iuahxymc/MSNhhJWvcD/bTfBN02d3P2zb5nxnaoA/CD5h5MAGhz8NmeH1TyaQP+zrCsc9p5Y/LbKd76fGnz/bLW5ISEmmPww9YvTcQq8/JV2OstnstT8Er5Y7M8G+P0c+r3jqkcU/5h99k6ZBzj88bCIzFzjVP4enV8oyxN0//yH99nXg5D8qOpLLf0jtP5kqGJXUifQ/c9cS8kHP/D+/DpwzojQEQIEmwoanVwxA4lgXt9HgE0BSSZ2AJuIbQAMJih9jjiNA5q4l5INuK0AwTKYKRj0zQNv5fmq8/DpAaCJseHrtQkB/+zpwzoxKQM3MzMzMeFJAZmZmZmZqWEAAAAAAAFxeQM3MzMzMJmJAmpmZmZkfZUBmZmZmZhhoQDMzMzMzEWtAAAAAAAAKbkBmZmZmZoFwQM3MzMzM/XFAMzMzMzN6c0CamZmZmfZ0QAAAAAAAc3ZAZmZmZmbvd0DNzMzMzGt5QDMzMzMz6HpAmpmZmZlkfEAAAAAAAOF9QGZmZmZmXX9AZmZmZuZsgECamZmZGSuBQM3MzMxM6YFAAAAAAICngkAzMzMzs2WDQGZmZmbmI4RAmpmZmRnihEDNzMzMTKCFQAAAAACAXoZAMzMzM7Mch0BmZmZm5tqHQJqZmZkZmYhAzczMzExXiUAAAAAAgBWKQDMzMzOz04pAZmZmZuaRi0CamZmZGVCMQM3MzMxMDo1AAAAAAIDMjUAzMzMzs4qOQGZmZmbmSI9A\",\"dtype\":\"float64\",\"shape\":[75]}},\"selected\":{\"id\":\"e272ed37-6982-4b90-89cd-750dd21ba4a3\",\"type\":\"Selection\"},\"selection_policy\":{\"id\":\"23417b17-b9a2-44c4-8abc-ef8804c8f083\",\"type\":\"UnionRenderers\"}},\"id\":\"14336c28-c2fa-4102-b76e-6d6b7e294dfd\",\"type\":\"ColumnDataSource\"},{\"attributes\":{\"source\":{\"id\":\"c56dc1e9-d7dd-4d2b-98e3-dc896459de08\",\"type\":\"ColumnDataSource\"}},\"id\":\"ac6427b0-6431-4c68-b76d-bac4a6a47c04\",\"type\":\"CDSView\"},{\"attributes\":{\"source\":{\"id\":\"85dc3cc6-c789-4471-872a-b43653d87300\",\"type\":\"ColumnDataSource\"}},\"id\":\"412c9045-596c-4f47-87f4-5a00fbb526b3\",\"type\":\"CDSView\"},{\"attributes\":{\"fill_alpha\":{\"value\":0.1},\"fill_color\":{\"value\":\"#1f77b4\"},\"line_alpha\":{\"value\":0.1},\"line_color\":{\"value\":\"#1f77b4\"},\"x\":{\"field\":\"x\"},\"y\":{\"field\":\"y\"}},\"id\":\"495acb1b-5d51-46ef-b148-f1706bdd5f0e\",\"type\":\"Square\"},{\"attributes\":{\"data_source\":{\"id\":\"85dc3cc6-c789-4471-872a-b43653d87300\",\"type\":\"ColumnDataSource\"},\"glyph\":{\"id\":\"4354ff6c-8763-49fa-9d55-43faf169c8dd\",\"type\":\"Line\"},\"hover_glyph\":null,\"muted_glyph\":null,\"nonselection_glyph\":{\"id\":\"61d8a762-d593-4fb4-b03b-0feec0c92f21\",\"type\":\"Line\"},\"selection_glyph\":null,\"view\":{\"id\":\"412c9045-596c-4f47-87f4-5a00fbb526b3\",\"type\":\"CDSView\"}},\"id\":\"7265d907-bbde-4970-9864-4ab9ec46daf6\",\"type\":\"GlyphRenderer\"},{\"attributes\":{},\"id\":\"0c3b91cc-9ad4-44ab-a706-75b4a6577529\",\"type\":\"SaveTool\"},{\"attributes\":{\"data_source\":{\"id\":\"c56dc1e9-d7dd-4d2b-98e3-dc896459de08\",\"type\":\"ColumnDataSource\"},\"glyph\":{\"id\":\"608d54f0-38bf-402d-92ca-06444c8aced3\",\"type\":\"Circle\"},\"hover_glyph\":null,\"muted_glyph\":null,\"nonselection_glyph\":{\"id\":\"ec1c0f42-1735-449d-82f3-ebc426e1b56c\",\"type\":\"Circle\"},\"selection_glyph\":null,\"view\":{\"id\":\"ac6427b0-6431-4c68-b76d-bac4a6a47c04\",\"type\":\"CDSView\"}},\"id\":\"540d8f52-6c72-4f11-94b5-465664321315\",\"type\":\"GlyphRenderer\"},{\"attributes\":{\"callback\":null,\"data\":{\"x\":{\"__ndarray__\":\"6TVET5Owyb7M5tZR2srJvgjACWoE+sm+kSwRLvImyr7ZvD05YVDKvr5VHFSwdsq+soeYH6iZyr4LYdOHQ7bKvkLDjWfZzsq+YWm6SYXjyr5J0nPnyfHKvrCxHUTK+sq+NohuFIv+yr4zjCQoZ/nKvjKFHRFtjMq+nWvwpKOWx74LKZGEWcO9vnObQMIVTpU+ZnpyG+jT0D5i5uAPFiTlPiQmGnP/h/Q+AO9Bxj3uAD+fToNeXrsDP1gEKOpzAgE/KLrz+iib+T6dSqo6To7wPoLK+GU/BOM+uZ3fioFP0j5vriGld3GzPvKfVxgVDLC+se8bnYECw74EWzU5OzLJvoAu7K60Ccy+lo3PvZGzzL4Q74nd6RrLvl7Oxc9LPse+OzMaS4TJxL6F8ImBfjzHvmTxc6EZP82++rjzrN8A075VfHg/Sgbfvq0uNjjzcvK+9WWZvm7/Ab/6m3QF2T4Nv5M0Yc4jdRO/hzMoelRPE7+0WXHEs/v9vqNy4TSlthg/nJYQsyCuND9NPsS8JdhFP5l9Uwd1XVM/dQi25xMVXz/zmwy7GldnP2w7wjyCq3A/OwjJVSzzdj8aw3ptP6N+P9NDtxYi8oM/QE8q8hBziT+eGGQSf+KPP0SQLxPYq5M/DkbLTnbklz82JNSmD3icP+xJ215koKA/lgTlDH5IpD8kXCMmSrmnP0g5tX61Das/ri83fPBxrj8M3FHVtFmwP+B/vpsvi7E//je+ALT/sj9Ps8OFo7e0PwdW2s3Is7Y/a3Yq8vb8uD9cFjwawaW7P50w6iWJD78/\",\"dtype\":\"float64\",\"shape\":[75]},\"y\":{\"__ndarray__\":\"GhExyth1ND/Sv8nbtpRIP2vylNV0PVE/aTum7souWD/At0SJ8fVgPw3Iuahxymc/MSNhhJWvcD/bTfBN02d3P2zb5nxnaoA/CD5h5MAGhz8NmeH1TyaQP+zrCsc9p5Y/LbKd76fGnz/bLW5ISEmmPww9YvTcQq8/JV2OstnstT8Er5Y7M8G+P0c+r3jqkcU/5h99k6ZBzj88bCIzFzjVP4enV8oyxN0//yH99nXg5D8qOpLLf0jtP5kqGJXUifQ/c9cS8kHP/D+/DpwzojQEQIEmwoanVwxA4lgXt9HgE0BSSZ2AJuIbQAMJih9jjiNA5q4l5INuK0AwTKYKRj0zQNv5fmq8/DpAaCJseHrtQkB/+zpwzoxKQM3MzMzMeFJAZmZmZmZqWEAAAAAAAFxeQM3MzMzMJmJAmpmZmZkfZUBmZmZmZhhoQDMzMzMzEWtAAAAAAAAKbkBmZmZmZoFwQM3MzMzM/XFAMzMzMzN6c0CamZmZmfZ0QAAAAAAAc3ZAZmZmZmbvd0DNzMzMzGt5QDMzMzMz6HpAmpmZmZlkfEAAAAAAAOF9QGZmZmZmXX9AZmZmZuZsgECamZmZGSuBQM3MzMxM6YFAAAAAAICngkAzMzMzs2WDQGZmZmbmI4RAmpmZmRnihEDNzMzMTKCFQAAAAACAXoZAMzMzM7Mch0BmZmZm5tqHQJqZmZkZmYhAzczMzExXiUAAAAAAgBWKQDMzMzOz04pAZmZmZuaRi0CamZmZGVCMQM3MzMxMDo1AAAAAAIDMjUAzMzMzs4qOQGZmZmbmSI9A\",\"dtype\":\"float64\",\"shape\":[75]}},\"selected\":{\"id\":\"f4cbfd54-ba56-4fe9-9abc-6aa01e5d20c9\",\"type\":\"Selection\"},\"selection_policy\":{\"id\":\"0d23a1fe-a13e-4e12-a94e-7b2b2481f521\",\"type\":\"UnionRenderers\"}},\"id\":\"f3e9643a-9d78-40e4-bd9e-15e5dbeb2ccf\",\"type\":\"ColumnDataSource\"},{\"attributes\":{\"line_alpha\":0.6,\"line_color\":\"#984ea3\",\"line_width\":3,\"x\":{\"field\":\"x\"},\"y\":{\"field\":\"y\"}},\"id\":\"1be06ee9-29b9-40ce-a6bb-972b866f3841\",\"type\":\"Line\"},{\"attributes\":{\"fill_alpha\":{\"value\":0.7},\"fill_color\":{\"value\":\"#984ea3\"},\"line_alpha\":{\"value\":0.7},\"line_color\":{\"value\":\"#984ea3\"},\"x\":{\"field\":\"x\"},\"y\":{\"field\":\"y\"}},\"id\":\"a4613b90-9fee-4b6b-b25b-b4eb0a9741c9\",\"type\":\"Square\"},{\"attributes\":{\"line_alpha\":0.1,\"line_color\":\"#1f77b4\",\"line_width\":1.5,\"x\":{\"field\":\"x\"},\"y\":{\"field\":\"y\"}},\"id\":\"61d8a762-d593-4fb4-b03b-0feec0c92f21\",\"type\":\"Line\"},{\"attributes\":{\"callback\":null,\"data\":{\"x\":{\"__ndarray__\":\"1rsUFvv8wb7awNtd8hTCvsQsOvOsQcK+qJhrdAJvwr6+wgCHJ5rCvmZxzgoBxMK+mg4+AIjswr5R3ZIAABPDvslUiCEyN8O+MNb21udZw748JMJQIHrDvul/0T0kmMO+iTFlvO6zw75HAQmnWdPDvqrXDuLzFsS+d3hTvnOlw77z5zFUwa7AvuWzAbhXB7O+SERBcVmloD69d4BBuZjLPk7nDC1wUeA+fmw7LDMp7T6eSQOSz1PxPq3RqgoCcu0+7ij2odBg5T6JNMPEE4LZPsMQ4C0uZsg+111uySCspz6/hTH/VySqvrC6GwIEOL2+IVuq4iWQw75l/n2gBVnGvp4+vmgEq8e+I6iJyVn/x77ifJSjagTHvgFidurmccS+VHfaOJDhwr6AM4gedF3FvpF+wrOkEMu+nTWAOQvO0b6JXaRfJKPdvp5j0+KdI/K+ywCZ8cBxAr/zSDqNGdwPv7TNFmDPlBe/2bQoDyoHHb9dYHKgqKwavwgIF9aa4P++beXDhMQNIT+bffNS5Mo6PwQKyv97cks/57w5kADeVz9m3Vz+dNliP8KWjEHb32s/dQy6mo6lcz8IcQMBUa16P8adpUBzkYE/FdI8bT2dhj/d6H+TT4qMP4sEpl72tZE/5p3QVX2hlT9C8WXNiAWaPz2CdwfzvZ4/M+Lb42AJoz/wmdsqMLemP7yF+67rg6o/xq8ehn2Trj8WfEtqSM6wP4cSLD6KZ7I/WTjWjkdHtD94nndKRXS2PzDvMCSW7rg/NKxgy4zDuz9MbUdomQC/PxauaxW0ecE/\",\"dtype\":\"float64\",\"shape\":[75]},\"y\":{\"__ndarray__\":\"GhExyth1ND/Sv8nbtpRIP2vylNV0PVE/aTum7souWD/At0SJ8fVgPw3Iuahxymc/MSNhhJWvcD/bTfBN02d3P2zb5nxnaoA/CD5h5MAGhz8NmeH1TyaQP+zrCsc9p5Y/LbKd76fGnz/bLW5ISEmmPww9YvTcQq8/JV2OstnstT8Er5Y7M8G+P0c+r3jqkcU/5h99k6ZBzj88bCIzFzjVP4enV8oyxN0//yH99nXg5D8qOpLLf0jtP5kqGJXUifQ/c9cS8kHP/D+/DpwzojQEQIEmwoanVwxA4lgXt9HgE0BSSZ2AJuIbQAMJih9jjiNA5q4l5INuK0AwTKYKRj0zQNv5fmq8/DpAaCJseHrtQkB/+zpwzoxKQM3MzMzMeFJAZmZmZmZqWEAAAAAAAFxeQM3MzMzMJmJAmpmZmZkfZUBmZmZmZhhoQDMzMzMzEWtAAAAAAAAKbkBmZmZmZoFwQM3MzMzM/XFAMzMzMzN6c0CamZmZmfZ0QAAAAAAAc3ZAZmZmZmbvd0DNzMzMzGt5QDMzMzMz6HpAmpmZmZlkfEAAAAAAAOF9QGZmZmZmXX9AZmZmZuZsgECamZmZGSuBQM3MzMxM6YFAAAAAAICngkAzMzMzs2WDQGZmZmbmI4RAmpmZmRnihEDNzMzMTKCFQAAAAACAXoZAMzMzM7Mch0BmZmZm5tqHQJqZmZkZmYhAzczMzExXiUAAAAAAgBWKQDMzMzOz04pAZmZmZuaRi0CamZmZGVCMQM3MzMxMDo1AAAAAAIDMjUAzMzMzs4qOQGZmZmbmSI9A\",\"dtype\":\"float64\",\"shape\":[75]}},\"selected\":{\"id\":\"e18c4927-334d-4130-b14b-ed99446458f3\",\"type\":\"Selection\"},\"selection_policy\":{\"id\":\"55ce1488-55c7-47c0-8d78-f861d497c538\",\"type\":\"UnionRenderers\"}},\"id\":\"71cbc9c6-cb12-4c7f-b54c-3a794016b96b\",\"type\":\"ColumnDataSource\"},{\"attributes\":{\"source\":{\"id\":\"71cbc9c6-cb12-4c7f-b54c-3a794016b96b\",\"type\":\"ColumnDataSource\"}},\"id\":\"94670b40-53f5-47bb-a3ef-b07368180fae\",\"type\":\"CDSView\"},{\"attributes\":{\"data_source\":{\"id\":\"456a41b1-ea0c-4c2e-bd85-c69f7211f33c\",\"type\":\"ColumnDataSource\"},\"glyph\":{\"id\":\"1be06ee9-29b9-40ce-a6bb-972b866f3841\",\"type\":\"Line\"},\"hover_glyph\":null,\"muted_glyph\":null,\"nonselection_glyph\":{\"id\":\"8a179c2d-d158-41ad-b8c3-b97009653639\",\"type\":\"Line\"},\"selection_glyph\":null,\"view\":{\"id\":\"e3e2ba19-d406-44d7-a978-ca43f8a4b865\",\"type\":\"CDSView\"}},\"id\":\"2b4faafc-66d6-4846-b5a6-c4e03d37952a\",\"type\":\"GlyphRenderer\"},{\"attributes\":{\"fill_alpha\":{\"value\":0.1},\"fill_color\":{\"value\":\"#1f77b4\"},\"line_alpha\":{\"value\":0.1},\"line_color\":{\"value\":\"#1f77b4\"},\"x\":{\"field\":\"x\"},\"y\":{\"field\":\"y\"}},\"id\":\"71e8b73b-cb02-4aa2-a014-7ca723101b03\",\"type\":\"Triangle\"},{\"attributes\":{\"line_alpha\":0.1,\"line_color\":\"#1f77b4\",\"line_width\":3,\"x\":{\"field\":\"x\"},\"y\":{\"field\":\"y\"}},\"id\":\"8a179c2d-d158-41ad-b8c3-b97009653639\",\"type\":\"Line\"},{\"attributes\":{\"source\":{\"id\":\"456a41b1-ea0c-4c2e-bd85-c69f7211f33c\",\"type\":\"ColumnDataSource\"}},\"id\":\"e3e2ba19-d406-44d7-a978-ca43f8a4b865\",\"type\":\"CDSView\"},{\"attributes\":{\"fill_alpha\":{\"value\":0.7},\"fill_color\":{\"value\":\"#377eb8\"},\"line_alpha\":{\"value\":0.7},\"line_color\":{\"value\":\"#377eb8\"},\"x\":{\"field\":\"x\"},\"y\":{\"field\":\"y\"}},\"id\":\"89d38384-6999-4594-be3b-a60fb9ac0ddf\",\"type\":\"Triangle\"},{\"attributes\":{},\"id\":\"33891289-ed1f-4b80-8cb7-2dee07eaf5a4\",\"type\":\"Selection\"},{\"attributes\":{\"callback\":null,\"data\":{\"x\":{\"__ndarray__\":\"VT4XTwOawL66dFsN87HAvl8D4SMl4cC+QHLc+g4Pwb4Lhzz1hD3BvmuKs5UVacG+MJscuc6Uwb52ZzkVpr7BvoTSvuck58G+3GGozRUOwr4BroNzfzPCvjcmJysyV8K+AtZIAUx5wr5NdYc6waHCvsgjFe5uDsO+HWrJGLYkw76my2Rr8k3Bvp4aCjr9Kri+D+YuNKcuib7Mp4iUvuzAPr9tp3gnktc+fTWi4JAw5j4k6otEyqjqPlmGRerhaeY+/WlFVqO43z5aoTxg5MnRPgQFh9Hxgrw+bOVZHAQ5aL5wzHk2Uim0vvd/4+8nOMC+LG92HoTWw74hGcQi6LjFvswMb1y3c8a+bz66VOdmxr4DgI79XTDFviV23k+rnsK+D+7sJ/wewb6AWr9jMm3DvrxIe3tmz8i+HWmFQG990L4wus6PKtDbvuV49dybUfG+fQu2E8IJAr8dIY2SyiIQv2dwXD72DRm/ymJcLDm+IL8kGzJq52civzacM8f0Nxu/DAcDPyjS8T7O1rBJlg0wP4JIJwW3QkQ/XAq4DGBMUz8vd9TnWRhgP6W8h9y3rWg/J5XbTzjZcT+PZFF/1qh4P68xBbYFboA/GYOPSOlHhT9W9Och6uyKP+lirF5ZvJA/Z25Um/57lD9Qg28/PKmYP16kJnJnPJ0/iAAuaCQ5oj/HayUG1vClP7ZciYIR4qk/vjmgyDosrj+UkIX18bqwPyqmqzdWbLI/PhxTLNBctD/S1rCkm5C2P6RzpiaXC7k/yu8Fzh/Yuz/+1yYc7wW/P0yoJqHpbsE/\",\"dtype\":\"float64\",\"shape\":[75]},\"y\":{\"__ndarray__\":\"GhExyth1ND/Sv8nbtpRIP2vylNV0PVE/aTum7souWD/At0SJ8fVgPw3Iuahxymc/MSNhhJWvcD/bTfBN02d3P2zb5nxnaoA/CD5h5MAGhz8NmeH1TyaQP+zrCsc9p5Y/LbKd76fGnz/bLW5ISEmmPww9YvTcQq8/JV2OstnstT8Er5Y7M8G+P0c+r3jqkcU/5h99k6ZBzj88bCIzFzjVP4enV8oyxN0//yH99nXg5D8qOpLLf0jtP5kqGJXUifQ/c9cS8kHP/D+/DpwzojQEQIEmwoanVwxA4lgXt9HgE0BSSZ2AJuIbQAMJih9jjiNA5q4l5INuK0AwTKYKRj0zQNv5fmq8/DpAaCJseHrtQkB/+zpwzoxKQM3MzMzMeFJAZmZmZmZqWEAAAAAAAFxeQM3MzMzMJmJAmpmZmZkfZUBmZmZmZhhoQDMzMzMzEWtAAAAAAAAKbkBmZmZmZoFwQM3MzMzM/XFAMzMzMzN6c0CamZmZmfZ0QAAAAAAAc3ZAZmZmZmbvd0DNzMzMzGt5QDMzMzMz6HpAmpmZmZlkfEAAAAAAAOF9QGZmZmZmXX9AZmZmZuZsgECamZmZGSuBQM3MzMxM6YFAAAAAAICngkAzMzMzs2WDQGZmZmbmI4RAmpmZmRnihEDNzMzMTKCFQAAAAACAXoZAMzMzM7Mch0BmZmZm5tqHQJqZmZkZmYhAzczMzExXiUAAAAAAgBWKQDMzMzOz04pAZmZmZuaRi0CamZmZGVCMQM3MzMxMDo1AAAAAAIDMjUAzMzMzs4qOQGZmZmbmSI9A\",\"dtype\":\"float64\",\"shape\":[75]}},\"selected\":{\"id\":\"6fc57792-5356-4863-84f0-97e5a09c0c88\",\"type\":\"Selection\"},\"selection_policy\":{\"id\":\"73f61d85-98b8-4c14-9ce5-12d09d79f9b1\",\"type\":\"UnionRenderers\"}},\"id\":\"c231e431-107c-4a74-9a8c-e1423104a980\",\"type\":\"ColumnDataSource\"},{\"attributes\":{\"data_source\":{\"id\":\"14336c28-c2fa-4102-b76e-6d6b7e294dfd\",\"type\":\"ColumnDataSource\"},\"glyph\":{\"id\":\"89d38384-6999-4594-be3b-a60fb9ac0ddf\",\"type\":\"Triangle\"},\"hover_glyph\":null,\"muted_glyph\":null,\"nonselection_glyph\":{\"id\":\"71e8b73b-cb02-4aa2-a014-7ca723101b03\",\"type\":\"Triangle\"},\"selection_glyph\":null,\"view\":{\"id\":\"de047c18-41c4-406e-bc80-7eb4b5ecab48\",\"type\":\"CDSView\"}},\"id\":\"fc688f4a-c8a9-4dfa-b454-02df5eff2acf\",\"type\":\"GlyphRenderer\"},{\"attributes\":{\"source\":{\"id\":\"14336c28-c2fa-4102-b76e-6d6b7e294dfd\",\"type\":\"ColumnDataSource\"}},\"id\":\"de047c18-41c4-406e-bc80-7eb4b5ecab48\",\"type\":\"CDSView\"},{\"attributes\":{\"children\":[{\"id\":\"5468efcd-07d3-4c87-a3a0-e5fb017f6d97\",\"type\":\"ToolbarBox\"},{\"id\":\"e91af45c-044f-4b5f-99ce-4515ad32588b\",\"type\":\"Column\"}]},\"id\":\"126b4b33-f1d6-43f5-87f1-2f34183f66af\",\"type\":\"Column\"},{\"attributes\":{\"callback\":null,\"end\":0.01,\"start\":1020},\"id\":\"e34e365b-33ca-4645-b4df-4c472d0217fd\",\"type\":\"Range1d\"},{\"attributes\":{},\"id\":\"f4cbfd54-ba56-4fe9-9abc-6aa01e5d20c9\",\"type\":\"Selection\"},{\"attributes\":{\"callback\":null,\"end\":0.13789326480281,\"start\":-0.00150709588381},\"id\":\"c2443b8f-accf-442c-9ed7-35113b8dfd15\",\"type\":\"Range1d\"},{\"attributes\":{\"callback\":null,\"end\":3.808595373100001e-05,\"start\":-7.847158631000001e-06},\"id\":\"e7713eab-33c1-4f2d-878b-86617d65a61c\",\"type\":\"Range1d\"},{\"attributes\":{\"items\":[{\"id\":\"78fa28b0-94d4-4806-81aa-aca64b3a5fa8\",\"type\":\"LegendItem\"},{\"id\":\"8780323b-4ab3-4517-bda5-7d8cbc588c5c\",\"type\":\"LegendItem\"},{\"id\":\"f092272c-1a5f-42e3-98ec-1b78d659179b\",\"type\":\"LegendItem\"}],\"label_text_font_size\":{\"value\":\"8pt\"},\"location\":\"top_center\",\"orientation\":\"horizontal\",\"plot\":{\"id\":\"acd7c049-3475-4b28-87e9-a68cf84c086f\",\"subtype\":\"Figure\",\"type\":\"Plot\"}},\"id\":\"ab040eab-becf-4a18-9e10-47d62052f6fb\",\"type\":\"Legend\"},{\"attributes\":{\"callback\":null,\"data\":{\"x\":{\"__ndarray__\":\"6TVET5Owyb7M5tZR2srJvgjACWoE+sm+kSwRLvImyr7ZvD05YVDKvr5VHFSwdsq+soeYH6iZyr4LYdOHQ7bKvkLDjWfZzsq+YWm6SYXjyr5J0nPnyfHKvrCxHUTK+sq+NohuFIv+yr4zjCQoZ/nKvjKFHRFtjMq+nWvwpKOWx74LKZGEWcO9vnObQMIVTpU+ZnpyG+jT0D5i5uAPFiTlPiQmGnP/h/Q+AO9Bxj3uAD+fToNeXrsDP1gEKOpzAgE/KLrz+iib+T6dSqo6To7wPoLK+GU/BOM+uZ3fioFP0j5vriGld3GzPvKfVxgVDLC+se8bnYECw74EWzU5OzLJvoAu7K60Ccy+lo3PvZGzzL4Q74nd6RrLvl7Oxc9LPse+OzMaS4TJxL6F8ImBfjzHvmTxc6EZP82++rjzrN8A075VfHg/Sgbfvq0uNjjzcvK+9WWZvm7/Ab/6m3QF2T4Nv5M0Yc4jdRO/hzMoelRPE7+0WXHEs/v9vqNy4TSlthg/nJYQsyCuND9NPsS8JdhFP5l9Uwd1XVM/dQi25xMVXz/zmwy7GldnP2w7wjyCq3A/OwjJVSzzdj8aw3ptP6N+P9NDtxYi8oM/QE8q8hBziT+eGGQSf+KPP0SQLxPYq5M/DkbLTnbklz82JNSmD3icP+xJ215koKA/lgTlDH5IpD8kXCMmSrmnP0g5tX61Das/ri83fPBxrj8M3FHVtFmwP+B/vpsvi7E//je+ALT/sj9Ps8OFo7e0PwdW2s3Is7Y/a3Yq8vb8uD9cFjwawaW7P50w6iWJD78/\",\"dtype\":\"float64\",\"shape\":[75]},\"y\":{\"__ndarray__\":\"GhExyth1ND/Sv8nbtpRIP2vylNV0PVE/aTum7souWD/At0SJ8fVgPw3Iuahxymc/MSNhhJWvcD/bTfBN02d3P2zb5nxnaoA/CD5h5MAGhz8NmeH1TyaQP+zrCsc9p5Y/LbKd76fGnz/bLW5ISEmmPww9YvTcQq8/JV2OstnstT8Er5Y7M8G+P0c+r3jqkcU/5h99k6ZBzj88bCIzFzjVP4enV8oyxN0//yH99nXg5D8qOpLLf0jtP5kqGJXUifQ/c9cS8kHP/D+/DpwzojQEQIEmwoanVwxA4lgXt9HgE0BSSZ2AJuIbQAMJih9jjiNA5q4l5INuK0AwTKYKRj0zQNv5fmq8/DpAaCJseHrtQkB/+zpwzoxKQM3MzMzMeFJAZmZmZmZqWEAAAAAAAFxeQM3MzMzMJmJAmpmZmZkfZUBmZmZmZhhoQDMzMzMzEWtAAAAAAAAKbkBmZmZmZoFwQM3MzMzM/XFAMzMzMzN6c0CamZmZmfZ0QAAAAAAAc3ZAZmZmZmbvd0DNzMzMzGt5QDMzMzMz6HpAmpmZmZlkfEAAAAAAAOF9QGZmZmZmXX9AZmZmZuZsgECamZmZGSuBQM3MzMxM6YFAAAAAAICngkAzMzMzs2WDQGZmZmbmI4RAmpmZmRnihEDNzMzMTKCFQAAAAACAXoZAMzMzM7Mch0BmZmZm5tqHQJqZmZkZmYhAzczMzExXiUAAAAAAgBWKQDMzMzOz04pAZmZmZuaRi0CamZmZGVCMQM3MzMxMDo1AAAAAAIDMjUAzMzMzs4qOQGZmZmbmSI9A\",\"dtype\":\"float64\",\"shape\":[75]}},\"selected\":{\"id\":\"dbc6fe20-bdbb-4df8-96bc-f3841593b9eb\",\"type\":\"Selection\"},\"selection_policy\":{\"id\":\"e58409c6-233a-4f26-acf6-04f8403c965b\",\"type\":\"UnionRenderers\"}},\"id\":\"e9714ce0-63fc-4e24-b71f-5b60f22bbd21\",\"type\":\"ColumnDataSource\"},{\"attributes\":{},\"id\":\"5d7229a9-405c-41e1-8a5d-fdeab80e18bb\",\"type\":\"Selection\"},{\"attributes\":{},\"id\":\"9abba9f1-860a-47fd-ada9-940530076e48\",\"type\":\"UnionRenderers\"},{\"attributes\":{},\"id\":\"a702711c-a60f-4665-a24e-4749a3e4b100\",\"type\":\"Selection\"},{\"attributes\":{\"items\":[{\"id\":\"d212abfe-1e2a-43dc-9c25-531322babd26\",\"type\":\"LegendItem\"},{\"id\":\"d9fc49b7-9cce-4148-ba6c-93f4ded68646\",\"type\":\"LegendItem\"},{\"id\":\"8bba570f-f326-452f-8d99-3719c24376e6\",\"type\":\"LegendItem\"}],\"label_text_font_size\":{\"value\":\"8pt\"},\"location\":\"top_center\",\"orientation\":\"horizontal\",\"plot\":{\"id\":\"0e60a96f-30b0-482d-9d64-a52576b72f8c\",\"subtype\":\"Figure\",\"type\":\"Plot\"}},\"id\":\"6ba39b81-22b1-4686-aaf5-86fe3a267168\",\"type\":\"Legend\"},{\"attributes\":{},\"id\":\"e982d6f3-eb5d-41a2-beac-feacecb6754c\",\"type\":\"UnionRenderers\"},{\"attributes\":{\"children\":[{\"id\":\"0e60a96f-30b0-482d-9d64-a52576b72f8c\",\"subtype\":\"Figure\",\"type\":\"Plot\"},{\"id\":\"acd7c049-3475-4b28-87e9-a68cf84c086f\",\"subtype\":\"Figure\",\"type\":\"Plot\"}]},\"id\":\"bc646b54-2b4d-4583-b671-4fe549492715\",\"type\":\"Row\"},{\"attributes\":{},\"id\":\"5736d3f6-8e81-421b-9134-1b8d780766cf\",\"type\":\"BasicTicker\"},{\"attributes\":{\"active_drag\":\"auto\",\"active_inspect\":\"auto\",\"active_scroll\":\"auto\",\"active_tap\":\"auto\",\"tools\":[{\"id\":\"67238f82-5ef3-433e-98fc-0af98e562ead\",\"type\":\"PanTool\"},{\"id\":\"ed457235-c232-4527-9bce-dbeebceefd28\",\"type\":\"WheelZoomTool\"},{\"id\":\"16858691-3b88-4e93-b3f5-5d8dde2b8db3\",\"type\":\"BoxZoomTool\"},{\"id\":\"c28c0456-5cfa-490b-a5be-3876c1a8a8ad\",\"type\":\"SaveTool\"},{\"id\":\"08fc8894-f5d3-4585-b364-cec2cfc0b88e\",\"type\":\"ResetTool\"},{\"id\":\"6c303be8-4706-452b-8eac-b4ff2423f651\",\"type\":\"HelpTool\"}]},\"id\":\"8529824d-c920-4f63-a2ea-419c31b6f035\",\"type\":\"Toolbar\"},{\"attributes\":{\"label\":{\"value\":\"WGT igg=1\"},\"renderers\":[{\"id\":\"283bbd60-f39d-4265-9b13-36f89a84ebcc\",\"type\":\"GlyphRenderer\"},{\"id\":\"c0bb01e9-98c5-4c5d-8687-986787dcced2\",\"type\":\"GlyphRenderer\"}]},\"id\":\"8780323b-4ab3-4517-bda5-7d8cbc588c5c\",\"type\":\"LegendItem\"},{\"attributes\":{\"children\":[{\"id\":\"bc646b54-2b4d-4583-b671-4fe549492715\",\"type\":\"Row\"}]},\"id\":\"e91af45c-044f-4b5f-99ce-4515ad32588b\",\"type\":\"Column\"},{\"attributes\":{\"toolbar\":{\"id\":\"1b258c20-8ea7-47c0-a86c-9d786e0c05ac\",\"type\":\"ProxyToolbar\"},\"toolbar_location\":\"above\"},\"id\":\"5468efcd-07d3-4c87-a3a0-e5fb017f6d97\",\"type\":\"ToolbarBox\"},{\"attributes\":{},\"id\":\"9cebd43f-b9f0-4183-8b36-062c81547422\",\"type\":\"LinearScale\"},{\"attributes\":{},\"id\":\"9d950895-3f3a-4da0-b2ba-5152ce868358\",\"type\":\"BasicTicker\"},{\"attributes\":{\"above\":[{\"id\":\"6ba39b81-22b1-4686-aaf5-86fe3a267168\",\"type\":\"Legend\"}],\"below\":[{\"id\":\"5166f1d5-b391-41c4-933f-efa4504502d0\",\"type\":\"LinearAxis\"}],\"left\":[{\"id\":\"158967c2-1c26-4e77-b013-4239d4695687\",\"type\":\"LinearAxis\"}],\"plot_height\":500,\"plot_width\":400,\"renderers\":[{\"id\":\"5166f1d5-b391-41c4-933f-efa4504502d0\",\"type\":\"LinearAxis\"},{\"id\":\"d48e95b1-5b7e-41b9-b15e-902c422e2334\",\"type\":\"Grid\"},{\"id\":\"158967c2-1c26-4e77-b013-4239d4695687\",\"type\":\"LinearAxis\"},{\"id\":\"07513e37-598e-4bc3-ba13-b835a7b92ce7\",\"type\":\"Grid\"},{\"id\":\"186439d1-cc76-4c27-bf9e-3f609a08c8cb\",\"type\":\"BoxAnnotation\"},{\"id\":\"6517247d-8593-417e-8b84-abd3ba6440f6\",\"type\":\"GlyphRenderer\"},{\"id\":\"7265d907-bbde-4970-9864-4ab9ec46daf6\",\"type\":\"GlyphRenderer\"},{\"id\":\"441c228b-4fee-4ecf-9ec5-d60b48e7cd72\",\"type\":\"GlyphRenderer\"},{\"id\":\"2b4faafc-66d6-4846-b5a6-c4e03d37952a\",\"type\":\"GlyphRenderer\"},{\"id\":\"fc688f4a-c8a9-4dfa-b454-02df5eff2acf\",\"type\":\"GlyphRenderer\"},{\"id\":\"8087d0ef-cc73-4c73-849f-d0ecf0717b97\",\"type\":\"GlyphRenderer\"},{\"id\":\"6ba39b81-22b1-4686-aaf5-86fe3a267168\",\"type\":\"Legend\"}],\"title\":{\"id\":\"eac11822-55ba-4909-9323-6d6c8dbfc18c\",\"type\":\"Title\"},\"toolbar\":{\"id\":\"8529824d-c920-4f63-a2ea-419c31b6f035\",\"type\":\"Toolbar\"},\"toolbar_location\":null,\"x_range\":{\"id\":\"c2443b8f-accf-442c-9ed7-35113b8dfd15\",\"type\":\"Range1d\"},\"x_scale\":{\"id\":\"9cebd43f-b9f0-4183-8b36-062c81547422\",\"type\":\"LinearScale\"},\"y_range\":{\"id\":\"e34e365b-33ca-4645-b4df-4c472d0217fd\",\"type\":\"Range1d\"},\"y_scale\":{\"id\":\"65b3f534-a8bc-4b79-82da-2f7bd9447e41\",\"type\":\"LinearScale\"}},\"id\":\"0e60a96f-30b0-482d-9d64-a52576b72f8c\",\"subtype\":\"Figure\",\"type\":\"Plot\"},{\"attributes\":{},\"id\":\"0d23a1fe-a13e-4e12-a94e-7b2b2481f521\",\"type\":\"UnionRenderers\"},{\"attributes\":{\"plot\":null,\"text\":\"\"},\"id\":\"eac11822-55ba-4909-9323-6d6c8dbfc18c\",\"type\":\"Title\"},{\"attributes\":{\"dimension\":1,\"plot\":{\"id\":\"0e60a96f-30b0-482d-9d64-a52576b72f8c\",\"subtype\":\"Figure\",\"type\":\"Plot\"},\"ticker\":{\"id\":\"9d950895-3f3a-4da0-b2ba-5152ce868358\",\"type\":\"BasicTicker\"}},\"id\":\"07513e37-598e-4bc3-ba13-b835a7b92ce7\",\"type\":\"Grid\"},{\"attributes\":{\"bottom_units\":\"screen\",\"fill_alpha\":{\"value\":0.5},\"fill_color\":{\"value\":\"lightgrey\"},\"left_units\":\"screen\",\"level\":\"overlay\",\"line_alpha\":{\"value\":1.0},\"line_color\":{\"value\":\"black\"},\"line_dash\":[4,4],\"line_width\":{\"value\":2},\"plot\":null,\"render_mode\":\"css\",\"right_units\":\"screen\",\"top_units\":\"screen\"},\"id\":\"186439d1-cc76-4c27-bf9e-3f609a08c8cb\",\"type\":\"BoxAnnotation\"},{\"attributes\":{},\"id\":\"664698df-dbe1-4ca6-814d-823fd76b3832\",\"type\":\"UnionRenderers\"},{\"attributes\":{},\"id\":\"ef5d39fe-5fe6-45af-ac69-d88ca402bb05\",\"type\":\"Selection\"},{\"attributes\":{\"label\":{\"value\":\"CRD\"},\"renderers\":[{\"id\":\"540d8f52-6c72-4f11-94b5-465664321315\",\"type\":\"GlyphRenderer\"},{\"id\":\"dd460e7f-8256-4085-853e-24e9574c9dba\",\"type\":\"GlyphRenderer\"}]},\"id\":\"78fa28b0-94d4-4806-81aa-aca64b3a5fa8\",\"type\":\"LegendItem\"},{\"attributes\":{\"plot\":null,\"text\":\"\"},\"id\":\"ce70697d-95bd-4410-bc90-4cee3007d8ea\",\"type\":\"Title\"},{\"attributes\":{\"axis_label\":\"pressure [mb]\",\"formatter\":{\"id\":\"ac2827b4-888c-46ad-936f-5a3ac5d72f68\",\"type\":\"BasicTickFormatter\"},\"plot\":{\"id\":\"0e60a96f-30b0-482d-9d64-a52576b72f8c\",\"subtype\":\"Figure\",\"type\":\"Plot\"},\"ticker\":{\"id\":\"9d950895-3f3a-4da0-b2ba-5152ce868358\",\"type\":\"BasicTicker\"}},\"id\":\"158967c2-1c26-4e77-b013-4239d4695687\",\"type\":\"LinearAxis\"},{\"attributes\":{},\"id\":\"6fc57792-5356-4863-84f0-97e5a09c0c88\",\"type\":\"Selection\"},{\"attributes\":{\"axis_label\":\"cooling rate [K/day]\",\"formatter\":{\"id\":\"6c6c3401-24b9-4262-b3f7-ccd328ec9431\",\"type\":\"BasicTickFormatter\"},\"plot\":{\"id\":\"0e60a96f-30b0-482d-9d64-a52576b72f8c\",\"subtype\":\"Figure\",\"type\":\"Plot\"},\"ticker\":{\"id\":\"5736d3f6-8e81-421b-9134-1b8d780766cf\",\"type\":\"BasicTicker\"}},\"id\":\"5166f1d5-b391-41c4-933f-efa4504502d0\",\"type\":\"LinearAxis\"},{\"attributes\":{\"plot\":{\"id\":\"0e60a96f-30b0-482d-9d64-a52576b72f8c\",\"subtype\":\"Figure\",\"type\":\"Plot\"},\"ticker\":{\"id\":\"5736d3f6-8e81-421b-9134-1b8d780766cf\",\"type\":\"BasicTicker\"}},\"id\":\"d48e95b1-5b7e-41b9-b15e-902c422e2334\",\"type\":\"Grid\"},{\"attributes\":{},\"id\":\"033185e0-9c19-4032-bbd1-896a90f7c2d2\",\"type\":\"Selection\"},{\"attributes\":{},\"id\":\"65b3f534-a8bc-4b79-82da-2f7bd9447e41\",\"type\":\"LinearScale\"},{\"attributes\":{},\"id\":\"e272ed37-6982-4b90-89cd-750dd21ba4a3\",\"type\":\"Selection\"},{\"attributes\":{},\"id\":\"73f61d85-98b8-4c14-9ce5-12d09d79f9b1\",\"type\":\"UnionRenderers\"},{\"attributes\":{\"label\":{\"value\":\"WGT igg=10\"},\"renderers\":[{\"id\":\"0c6c50f0-9e48-4e36-aa81-fe2567bd5276\",\"type\":\"GlyphRenderer\"},{\"id\":\"a260b44a-f3dd-4627-b149-0b72f066419b\",\"type\":\"GlyphRenderer\"}]},\"id\":\"f092272c-1a5f-42e3-98ec-1b78d659179b\",\"type\":\"LegendItem\"},{\"attributes\":{},\"id\":\"6a6fd8ce-ad28-4a95-9005-24122ddd8791\",\"type\":\"BasicTickFormatter\"},{\"attributes\":{},\"id\":\"bc196999-2b79-4ab4-a29b-4709021ca083\",\"type\":\"UnionRenderers\"},{\"attributes\":{},\"id\":\"ac2827b4-888c-46ad-936f-5a3ac5d72f68\",\"type\":\"BasicTickFormatter\"},{\"attributes\":{},\"id\":\"23417b17-b9a2-44c4-8abc-ef8804c8f083\",\"type\":\"UnionRenderers\"},{\"attributes\":{},\"id\":\"6c6c3401-24b9-4262-b3f7-ccd328ec9431\",\"type\":\"BasicTickFormatter\"},{\"attributes\":{},\"id\":\"e473f4b3-b932-4135-b3e8-966316b034bf\",\"type\":\"Selection\"},{\"attributes\":{\"ticker\":null},\"id\":\"594e73a7-2a8d-47f8-a80d-8311be76c0a1\",\"type\":\"LogTickFormatter\"},{\"attributes\":{\"tools\":[{\"id\":\"67238f82-5ef3-433e-98fc-0af98e562ead\",\"type\":\"PanTool\"},{\"id\":\"ed457235-c232-4527-9bce-dbeebceefd28\",\"type\":\"WheelZoomTool\"},{\"id\":\"16858691-3b88-4e93-b3f5-5d8dde2b8db3\",\"type\":\"BoxZoomTool\"},{\"id\":\"c28c0456-5cfa-490b-a5be-3876c1a8a8ad\",\"type\":\"SaveTool\"},{\"id\":\"08fc8894-f5d3-4585-b364-cec2cfc0b88e\",\"type\":\"ResetTool\"},{\"id\":\"6c303be8-4706-452b-8eac-b4ff2423f651\",\"type\":\"HelpTool\"},{\"id\":\"6097c21c-bdd9-4b83-9145-4107714e4804\",\"type\":\"PanTool\"},{\"id\":\"cf57bbfe-05c2-4266-8ead-8ece61b6a1aa\",\"type\":\"WheelZoomTool\"},{\"id\":\"134da83f-3eb7-46a9-bfdc-39d12e7f421c\",\"type\":\"BoxZoomTool\"},{\"id\":\"0c3b91cc-9ad4-44ab-a706-75b4a6577529\",\"type\":\"SaveTool\"},{\"id\":\"d2e89755-a158-4306-995b-0ee16eced93c\",\"type\":\"ResetTool\"},{\"id\":\"89d4328c-8ab2-4c3f-b860-030b750ab171\",\"type\":\"HelpTool\"}]},\"id\":\"1b258c20-8ea7-47c0-a86c-9d786e0c05ac\",\"type\":\"ProxyToolbar\"},{\"attributes\":{},\"id\":\"1602407a-5998-453d-a059-5fb7aa616e32\",\"type\":\"Selection\"},{\"attributes\":{},\"id\":\"fe1e77af-eebc-47d5-b333-2fea2ba18882\",\"type\":\"UnionRenderers\"},{\"attributes\":{},\"id\":\"3d0004c7-fcf7-4e04-8405-55bbb19e0643\",\"type\":\"UnionRenderers\"}],\"root_ids\":[\"126b4b33-f1d6-43f5-87f1-2f34183f66af\"]},\"title\":\"Bokeh Application\",\"version\":\"0.12.16\"}};\n",
       "  var render_items = [{\"docid\":\"6c6f8c26-25ff-411a-bf2e-3df27af02be5\",\"elementid\":\"d7443c9a-21cd-40ae-b23b-7eb0064deb96\",\"modelid\":\"126b4b33-f1d6-43f5-87f1-2f34183f66af\"}];\n",
       "  root.Bokeh.embed.embed_items_notebook(docs_json, render_items);\n",
       "\n",
       "  }\n",
       "  if (root.Bokeh !== undefined) {\n",
       "    embed_document(root);\n",
       "  } else {\n",
       "    var attempts = 0;\n",
       "    var timer = setInterval(function(root) {\n",
       "      if (root.Bokeh !== undefined) {\n",
       "        embed_document(root);\n",
       "        clearInterval(timer);\n",
       "      }\n",
       "      attempts++;\n",
       "      if (attempts > 100) {\n",
       "        console.log(\"Bokeh: ERROR: Unable to run BokehJS code because BokehJS library is missing\")\n",
       "        clearInterval(timer);\n",
       "      }\n",
       "    }, 10, root)\n",
       "  }\n",
       "})(window);"
      ],
      "application/vnd.bokehjs_exec.v0+json": ""
     },
     "metadata": {
      "application/vnd.bokehjs_exec.v0+json": {
       "id": "126b4b33-f1d6-43f5-87f1-2f34183f66af"
      }
     },
     "output_type": "display_data"
    },
    {
     "data": {
      "text/markdown": [
       "*FIGURE.* Cooling rates. Summed over g."
      ],
      "text/plain": [
       "<IPython.core.display.Markdown object>"
      ]
     },
     "metadata": {},
     "output_type": "display_data"
    },
    {
     "data": {
      "text/html": [
       "<a id=\"Flux_Comparison\"></a>"
      ],
      "text/plain": [
       "<IPython.core.display.HTML object>"
      ]
     },
     "metadata": {},
     "output_type": "display_data"
    },
    {
     "data": {
      "text/markdown": [
       "# Flux Comparison"
      ],
      "text/plain": [
       "<IPython.core.display.Markdown object>"
      ]
     },
     "metadata": {},
     "output_type": "display_data"
    },
    {
     "data": {
      "text/html": [
       "<div>\n",
       "<style scoped>\n",
       "    .dataframe tbody tr th:only-of-type {\n",
       "        vertical-align: middle;\n",
       "    }\n",
       "\n",
       "    .dataframe tbody tr th {\n",
       "        vertical-align: top;\n",
       "    }\n",
       "\n",
       "    .dataframe thead th {\n",
       "        text-align: right;\n",
       "    }\n",
       "</style>\n",
       "<table border=\"1\" class=\"dataframe\">\n",
       "  <thead>\n",
       "    <tr style=\"text-align: right;\">\n",
       "      <th></th>\n",
       "      <th></th>\n",
       "      <th></th>\n",
       "      <th>flug</th>\n",
       "      <th>fldg</th>\n",
       "      <th>fnetg</th>\n",
       "    </tr>\n",
       "    <tr>\n",
       "      <th>g</th>\n",
       "      <th>pressure</th>\n",
       "      <th>level</th>\n",
       "      <th></th>\n",
       "      <th></th>\n",
       "      <th></th>\n",
       "    </tr>\n",
       "  </thead>\n",
       "  <tbody>\n",
       "    <tr>\n",
       "      <th rowspan=\"3\" valign=\"top\">1</th>\n",
       "      <th>0.00</th>\n",
       "      <th>1</th>\n",
       "      <td>-0.148146</td>\n",
       "      <td>0.000000e+00</td>\n",
       "      <td>-0.148146</td>\n",
       "    </tr>\n",
       "    <tr>\n",
       "      <th>109.55</th>\n",
       "      <th>38</th>\n",
       "      <td>-0.148174</td>\n",
       "      <td>2.274324e-05</td>\n",
       "      <td>-0.148151</td>\n",
       "    </tr>\n",
       "    <tr>\n",
       "      <th>1013.00</th>\n",
       "      <th>76</th>\n",
       "      <td>-0.248877</td>\n",
       "      <td>2.436023e-01</td>\n",
       "      <td>-0.005274</td>\n",
       "    </tr>\n",
       "    <tr>\n",
       "      <th rowspan=\"3\" valign=\"top\">2</th>\n",
       "      <th>0.00</th>\n",
       "      <th>1</th>\n",
       "      <td>-1.889496</td>\n",
       "      <td>0.000000e+00</td>\n",
       "      <td>-1.889496</td>\n",
       "    </tr>\n",
       "    <tr>\n",
       "      <th>109.55</th>\n",
       "      <th>38</th>\n",
       "      <td>-1.889520</td>\n",
       "      <td>8.944956e-06</td>\n",
       "      <td>-1.889511</td>\n",
       "    </tr>\n",
       "    <tr>\n",
       "      <th>1013.00</th>\n",
       "      <th>76</th>\n",
       "      <td>-2.247446</td>\n",
       "      <td>1.564626e+00</td>\n",
       "      <td>-0.682820</td>\n",
       "    </tr>\n",
       "    <tr>\n",
       "      <th rowspan=\"3\" valign=\"top\">3</th>\n",
       "      <th>0.00</th>\n",
       "      <th>1</th>\n",
       "      <td>-31.936277</td>\n",
       "      <td>0.000000e+00</td>\n",
       "      <td>-31.936277</td>\n",
       "    </tr>\n",
       "    <tr>\n",
       "      <th>109.55</th>\n",
       "      <th>38</th>\n",
       "      <td>-31.936281</td>\n",
       "      <td>9.025839e-07</td>\n",
       "      <td>-31.936280</td>\n",
       "    </tr>\n",
       "    <tr>\n",
       "      <th>1013.00</th>\n",
       "      <th>76</th>\n",
       "      <td>-32.232319</td>\n",
       "      <td>1.948159e+00</td>\n",
       "      <td>-30.284160</td>\n",
       "    </tr>\n",
       "  </tbody>\n",
       "</table>\n",
       "</div>"
      ],
      "text/plain": [
       "                       flug          fldg      fnetg\n",
       "g pressure level                                    \n",
       "1 0.00     1      -0.148146  0.000000e+00  -0.148146\n",
       "  109.55   38     -0.148174  2.274324e-05  -0.148151\n",
       "  1013.00  76     -0.248877  2.436023e-01  -0.005274\n",
       "2 0.00     1      -1.889496  0.000000e+00  -1.889496\n",
       "  109.55   38     -1.889520  8.944956e-06  -1.889511\n",
       "  1013.00  76     -2.247446  1.564626e+00  -0.682820\n",
       "3 0.00     1     -31.936277  0.000000e+00 -31.936277\n",
       "  109.55   38    -31.936281  9.025839e-07 -31.936280\n",
       "  1013.00  76    -32.232319  1.948159e+00 -30.284160"
      ]
     },
     "metadata": {},
     "output_type": "display_data"
    },
    {
     "data": {
      "text/markdown": [
       "*TABLE.* Fluxes. CRD"
      ],
      "text/plain": [
       "<IPython.core.display.Markdown object>"
      ]
     },
     "metadata": {},
     "output_type": "display_data"
    },
    {
     "data": {
      "text/html": [
       "<div>\n",
       "<style scoped>\n",
       "    .dataframe tbody tr th:only-of-type {\n",
       "        vertical-align: middle;\n",
       "    }\n",
       "\n",
       "    .dataframe tbody tr th {\n",
       "        vertical-align: top;\n",
       "    }\n",
       "\n",
       "    .dataframe thead th {\n",
       "        text-align: right;\n",
       "    }\n",
       "</style>\n",
       "<table border=\"1\" class=\"dataframe\">\n",
       "  <thead>\n",
       "    <tr style=\"text-align: right;\">\n",
       "      <th></th>\n",
       "      <th></th>\n",
       "      <th></th>\n",
       "      <th>flug</th>\n",
       "      <th>fldg</th>\n",
       "      <th>fnetg</th>\n",
       "    </tr>\n",
       "    <tr>\n",
       "      <th>g</th>\n",
       "      <th>pressure</th>\n",
       "      <th>level</th>\n",
       "      <th></th>\n",
       "      <th></th>\n",
       "      <th></th>\n",
       "    </tr>\n",
       "  </thead>\n",
       "  <tbody>\n",
       "    <tr>\n",
       "      <th rowspan=\"3\" valign=\"top\">1</th>\n",
       "      <th>0.00</th>\n",
       "      <th>1</th>\n",
       "      <td>-0.145353</td>\n",
       "      <td>0.000000e+00</td>\n",
       "      <td>-0.145353</td>\n",
       "    </tr>\n",
       "    <tr>\n",
       "      <th>109.55</th>\n",
       "      <th>38</th>\n",
       "      <td>-0.145377</td>\n",
       "      <td>1.331065e-05</td>\n",
       "      <td>-0.145364</td>\n",
       "    </tr>\n",
       "    <tr>\n",
       "      <th>1013.00</th>\n",
       "      <th>76</th>\n",
       "      <td>-0.242851</td>\n",
       "      <td>2.386614e-01</td>\n",
       "      <td>-0.004190</td>\n",
       "    </tr>\n",
       "    <tr>\n",
       "      <th rowspan=\"3\" valign=\"top\">2</th>\n",
       "      <th>0.00</th>\n",
       "      <th>1</th>\n",
       "      <td>-1.892413</td>\n",
       "      <td>0.000000e+00</td>\n",
       "      <td>-1.892413</td>\n",
       "    </tr>\n",
       "    <tr>\n",
       "      <th>109.55</th>\n",
       "      <th>38</th>\n",
       "      <td>-1.892432</td>\n",
       "      <td>5.622917e-06</td>\n",
       "      <td>-1.892426</td>\n",
       "    </tr>\n",
       "    <tr>\n",
       "      <th>1013.00</th>\n",
       "      <th>76</th>\n",
       "      <td>-2.227394</td>\n",
       "      <td>1.574132e+00</td>\n",
       "      <td>-0.653262</td>\n",
       "    </tr>\n",
       "    <tr>\n",
       "      <th rowspan=\"3\" valign=\"top\">3</th>\n",
       "      <th>0.00</th>\n",
       "      <th>1</th>\n",
       "      <td>-31.965412</td>\n",
       "      <td>0.000000e+00</td>\n",
       "      <td>-31.965412</td>\n",
       "    </tr>\n",
       "    <tr>\n",
       "      <th>109.55</th>\n",
       "      <th>38</th>\n",
       "      <td>-31.965416</td>\n",
       "      <td>8.203053e-07</td>\n",
       "      <td>-31.965415</td>\n",
       "    </tr>\n",
       "    <tr>\n",
       "      <th>1013.00</th>\n",
       "      <th>76</th>\n",
       "      <td>-32.258396</td>\n",
       "      <td>2.032513e+00</td>\n",
       "      <td>-30.225883</td>\n",
       "    </tr>\n",
       "  </tbody>\n",
       "</table>\n",
       "</div>"
      ],
      "text/plain": [
       "                       flug          fldg      fnetg\n",
       "g pressure level                                    \n",
       "1 0.00     1      -0.145353  0.000000e+00  -0.145353\n",
       "  109.55   38     -0.145377  1.331065e-05  -0.145364\n",
       "  1013.00  76     -0.242851  2.386614e-01  -0.004190\n",
       "2 0.00     1      -1.892413  0.000000e+00  -1.892413\n",
       "  109.55   38     -1.892432  5.622917e-06  -1.892426\n",
       "  1013.00  76     -2.227394  1.574132e+00  -0.653262\n",
       "3 0.00     1     -31.965412  0.000000e+00 -31.965412\n",
       "  109.55   38    -31.965416  8.203053e-07 -31.965415\n",
       "  1013.00  76    -32.258396  2.032513e+00 -30.225883"
      ]
     },
     "metadata": {},
     "output_type": "display_data"
    },
    {
     "data": {
      "text/markdown": [
       "*TABLE.* Fluxes. WGT igg=1"
      ],
      "text/plain": [
       "<IPython.core.display.Markdown object>"
      ]
     },
     "metadata": {},
     "output_type": "display_data"
    },
    {
     "data": {
      "text/html": [
       "<div>\n",
       "<style scoped>\n",
       "    .dataframe tbody tr th:only-of-type {\n",
       "        vertical-align: middle;\n",
       "    }\n",
       "\n",
       "    .dataframe tbody tr th {\n",
       "        vertical-align: top;\n",
       "    }\n",
       "\n",
       "    .dataframe thead th {\n",
       "        text-align: right;\n",
       "    }\n",
       "</style>\n",
       "<table border=\"1\" class=\"dataframe\">\n",
       "  <thead>\n",
       "    <tr style=\"text-align: right;\">\n",
       "      <th></th>\n",
       "      <th></th>\n",
       "      <th></th>\n",
       "      <th>flug</th>\n",
       "      <th>fldg</th>\n",
       "      <th>fnetg</th>\n",
       "    </tr>\n",
       "    <tr>\n",
       "      <th>g</th>\n",
       "      <th>pressure</th>\n",
       "      <th>level</th>\n",
       "      <th></th>\n",
       "      <th></th>\n",
       "      <th></th>\n",
       "    </tr>\n",
       "  </thead>\n",
       "  <tbody>\n",
       "    <tr>\n",
       "      <th rowspan=\"3\" valign=\"top\">1</th>\n",
       "      <th>0.00</th>\n",
       "      <th>1</th>\n",
       "      <td>-0.144842</td>\n",
       "      <td>0.000000e+00</td>\n",
       "      <td>-0.144842</td>\n",
       "    </tr>\n",
       "    <tr>\n",
       "      <th>109.55</th>\n",
       "      <th>38</th>\n",
       "      <td>-0.144864</td>\n",
       "      <td>1.112542e-05</td>\n",
       "      <td>-0.144853</td>\n",
       "    </tr>\n",
       "    <tr>\n",
       "      <th>1013.00</th>\n",
       "      <th>76</th>\n",
       "      <td>-0.242851</td>\n",
       "      <td>2.390701e-01</td>\n",
       "      <td>-0.003781</td>\n",
       "    </tr>\n",
       "    <tr>\n",
       "      <th rowspan=\"3\" valign=\"top\">2</th>\n",
       "      <th>0.00</th>\n",
       "      <th>1</th>\n",
       "      <td>-1.895791</td>\n",
       "      <td>0.000000e+00</td>\n",
       "      <td>-1.895791</td>\n",
       "    </tr>\n",
       "    <tr>\n",
       "      <th>109.55</th>\n",
       "      <th>38</th>\n",
       "      <td>-1.895808</td>\n",
       "      <td>4.700476e-06</td>\n",
       "      <td>-1.895804</td>\n",
       "    </tr>\n",
       "    <tr>\n",
       "      <th>1013.00</th>\n",
       "      <th>76</th>\n",
       "      <td>-2.227394</td>\n",
       "      <td>1.625872e+00</td>\n",
       "      <td>-0.601522</td>\n",
       "    </tr>\n",
       "    <tr>\n",
       "      <th rowspan=\"3\" valign=\"top\">3</th>\n",
       "      <th>0.00</th>\n",
       "      <th>1</th>\n",
       "      <td>-31.986085</td>\n",
       "      <td>0.000000e+00</td>\n",
       "      <td>-31.986085</td>\n",
       "    </tr>\n",
       "    <tr>\n",
       "      <th>109.55</th>\n",
       "      <th>38</th>\n",
       "      <td>-31.986088</td>\n",
       "      <td>7.435727e-07</td>\n",
       "      <td>-31.986087</td>\n",
       "    </tr>\n",
       "    <tr>\n",
       "      <th>1013.00</th>\n",
       "      <th>76</th>\n",
       "      <td>-32.258396</td>\n",
       "      <td>1.918778e+00</td>\n",
       "      <td>-30.339618</td>\n",
       "    </tr>\n",
       "  </tbody>\n",
       "</table>\n",
       "</div>"
      ],
      "text/plain": [
       "                       flug          fldg      fnetg\n",
       "g pressure level                                    \n",
       "1 0.00     1      -0.144842  0.000000e+00  -0.144842\n",
       "  109.55   38     -0.144864  1.112542e-05  -0.144853\n",
       "  1013.00  76     -0.242851  2.390701e-01  -0.003781\n",
       "2 0.00     1      -1.895791  0.000000e+00  -1.895791\n",
       "  109.55   38     -1.895808  4.700476e-06  -1.895804\n",
       "  1013.00  76     -2.227394  1.625872e+00  -0.601522\n",
       "3 0.00     1     -31.986085  0.000000e+00 -31.986085\n",
       "  109.55   38    -31.986088  7.435727e-07 -31.986087\n",
       "  1013.00  76    -32.258396  1.918778e+00 -30.339618"
      ]
     },
     "metadata": {},
     "output_type": "display_data"
    },
    {
     "data": {
      "text/markdown": [
       "*TABLE.* Fluxes. WGT igg=10"
      ],
      "text/plain": [
       "<IPython.core.display.Markdown object>"
      ]
     },
     "metadata": {},
     "output_type": "display_data"
    },
    {
     "data": {
      "text/html": [
       "<div>\n",
       "<style scoped>\n",
       "    .dataframe tbody tr th:only-of-type {\n",
       "        vertical-align: middle;\n",
       "    }\n",
       "\n",
       "    .dataframe tbody tr th {\n",
       "        vertical-align: top;\n",
       "    }\n",
       "\n",
       "    .dataframe thead th {\n",
       "        text-align: right;\n",
       "    }\n",
       "</style>\n",
       "<table border=\"1\" class=\"dataframe\">\n",
       "  <thead>\n",
       "    <tr style=\"text-align: right;\">\n",
       "      <th></th>\n",
       "      <th></th>\n",
       "      <th></th>\n",
       "      <th>flug</th>\n",
       "      <th>fldg</th>\n",
       "      <th>fnetg</th>\n",
       "    </tr>\n",
       "    <tr>\n",
       "      <th>g</th>\n",
       "      <th>pressure</th>\n",
       "      <th>level</th>\n",
       "      <th></th>\n",
       "      <th></th>\n",
       "      <th></th>\n",
       "    </tr>\n",
       "  </thead>\n",
       "  <tbody>\n",
       "    <tr>\n",
       "      <th rowspan=\"3\" valign=\"top\">1</th>\n",
       "      <th>0.00</th>\n",
       "      <th>1</th>\n",
       "      <td>0.002793</td>\n",
       "      <td>0.000000e+00</td>\n",
       "      <td>0.002793</td>\n",
       "    </tr>\n",
       "    <tr>\n",
       "      <th>109.55</th>\n",
       "      <th>38</th>\n",
       "      <td>0.002797</td>\n",
       "      <td>-9.432587e-06</td>\n",
       "      <td>0.002788</td>\n",
       "    </tr>\n",
       "    <tr>\n",
       "      <th>1013.00</th>\n",
       "      <th>76</th>\n",
       "      <td>0.006025</td>\n",
       "      <td>-4.940900e-03</td>\n",
       "      <td>0.001084</td>\n",
       "    </tr>\n",
       "    <tr>\n",
       "      <th rowspan=\"3\" valign=\"top\">2</th>\n",
       "      <th>0.00</th>\n",
       "      <th>1</th>\n",
       "      <td>-0.002917</td>\n",
       "      <td>0.000000e+00</td>\n",
       "      <td>-0.002917</td>\n",
       "    </tr>\n",
       "    <tr>\n",
       "      <th>109.55</th>\n",
       "      <th>38</th>\n",
       "      <td>-0.002911</td>\n",
       "      <td>-3.322040e-06</td>\n",
       "      <td>-0.002915</td>\n",
       "    </tr>\n",
       "    <tr>\n",
       "      <th>1013.00</th>\n",
       "      <th>76</th>\n",
       "      <td>0.020052</td>\n",
       "      <td>9.505400e-03</td>\n",
       "      <td>0.029558</td>\n",
       "    </tr>\n",
       "    <tr>\n",
       "      <th rowspan=\"3\" valign=\"top\">3</th>\n",
       "      <th>0.00</th>\n",
       "      <th>1</th>\n",
       "      <td>-0.029135</td>\n",
       "      <td>0.000000e+00</td>\n",
       "      <td>-0.029135</td>\n",
       "    </tr>\n",
       "    <tr>\n",
       "      <th>109.55</th>\n",
       "      <th>38</th>\n",
       "      <td>-0.029135</td>\n",
       "      <td>-8.227859e-08</td>\n",
       "      <td>-0.029135</td>\n",
       "    </tr>\n",
       "    <tr>\n",
       "      <th>1013.00</th>\n",
       "      <th>76</th>\n",
       "      <td>-0.026077</td>\n",
       "      <td>8.435380e-02</td>\n",
       "      <td>0.058277</td>\n",
       "    </tr>\n",
       "  </tbody>\n",
       "</table>\n",
       "</div>"
      ],
      "text/plain": [
       "                      flug          fldg     fnetg\n",
       "g pressure level                                  \n",
       "1 0.00     1      0.002793  0.000000e+00  0.002793\n",
       "  109.55   38     0.002797 -9.432587e-06  0.002788\n",
       "  1013.00  76     0.006025 -4.940900e-03  0.001084\n",
       "2 0.00     1     -0.002917  0.000000e+00 -0.002917\n",
       "  109.55   38    -0.002911 -3.322040e-06 -0.002915\n",
       "  1013.00  76     0.020052  9.505400e-03  0.029558\n",
       "3 0.00     1     -0.029135  0.000000e+00 -0.029135\n",
       "  109.55   38    -0.029135 -8.227859e-08 -0.029135\n",
       "  1013.00  76    -0.026077  8.435380e-02  0.058277"
      ]
     },
     "metadata": {},
     "output_type": "display_data"
    },
    {
     "data": {
      "text/markdown": [
       "*TABLE.* Fluxes. (WGT igg=1) - (CRD)"
      ],
      "text/plain": [
       "<IPython.core.display.Markdown object>"
      ]
     },
     "metadata": {},
     "output_type": "display_data"
    },
    {
     "data": {
      "text/html": [
       "<div>\n",
       "<style scoped>\n",
       "    .dataframe tbody tr th:only-of-type {\n",
       "        vertical-align: middle;\n",
       "    }\n",
       "\n",
       "    .dataframe tbody tr th {\n",
       "        vertical-align: top;\n",
       "    }\n",
       "\n",
       "    .dataframe thead th {\n",
       "        text-align: right;\n",
       "    }\n",
       "</style>\n",
       "<table border=\"1\" class=\"dataframe\">\n",
       "  <thead>\n",
       "    <tr style=\"text-align: right;\">\n",
       "      <th></th>\n",
       "      <th></th>\n",
       "      <th></th>\n",
       "      <th>flug</th>\n",
       "      <th>fldg</th>\n",
       "      <th>fnetg</th>\n",
       "    </tr>\n",
       "    <tr>\n",
       "      <th>g</th>\n",
       "      <th>pressure</th>\n",
       "      <th>level</th>\n",
       "      <th></th>\n",
       "      <th></th>\n",
       "      <th></th>\n",
       "    </tr>\n",
       "  </thead>\n",
       "  <tbody>\n",
       "    <tr>\n",
       "      <th rowspan=\"3\" valign=\"top\">1</th>\n",
       "      <th>0.00</th>\n",
       "      <th>1</th>\n",
       "      <td>0.003303</td>\n",
       "      <td>0.000000e+00</td>\n",
       "      <td>0.003303</td>\n",
       "    </tr>\n",
       "    <tr>\n",
       "      <th>109.55</th>\n",
       "      <th>38</th>\n",
       "      <td>0.003310</td>\n",
       "      <td>-1.161782e-05</td>\n",
       "      <td>0.003298</td>\n",
       "    </tr>\n",
       "    <tr>\n",
       "      <th>1013.00</th>\n",
       "      <th>76</th>\n",
       "      <td>0.006025</td>\n",
       "      <td>-4.532240e-03</td>\n",
       "      <td>0.001493</td>\n",
       "    </tr>\n",
       "    <tr>\n",
       "      <th rowspan=\"3\" valign=\"top\">2</th>\n",
       "      <th>0.00</th>\n",
       "      <th>1</th>\n",
       "      <td>-0.006295</td>\n",
       "      <td>0.000000e+00</td>\n",
       "      <td>-0.006295</td>\n",
       "    </tr>\n",
       "    <tr>\n",
       "      <th>109.55</th>\n",
       "      <th>38</th>\n",
       "      <td>-0.006288</td>\n",
       "      <td>-4.244481e-06</td>\n",
       "      <td>-0.006292</td>\n",
       "    </tr>\n",
       "    <tr>\n",
       "      <th>1013.00</th>\n",
       "      <th>76</th>\n",
       "      <td>0.020052</td>\n",
       "      <td>6.124560e-02</td>\n",
       "      <td>0.081298</td>\n",
       "    </tr>\n",
       "    <tr>\n",
       "      <th rowspan=\"3\" valign=\"top\">3</th>\n",
       "      <th>0.00</th>\n",
       "      <th>1</th>\n",
       "      <td>-0.049808</td>\n",
       "      <td>0.000000e+00</td>\n",
       "      <td>-0.049808</td>\n",
       "    </tr>\n",
       "    <tr>\n",
       "      <th>109.55</th>\n",
       "      <th>38</th>\n",
       "      <td>-0.049807</td>\n",
       "      <td>-1.590112e-07</td>\n",
       "      <td>-0.049807</td>\n",
       "    </tr>\n",
       "    <tr>\n",
       "      <th>1013.00</th>\n",
       "      <th>76</th>\n",
       "      <td>-0.026077</td>\n",
       "      <td>-2.938110e-02</td>\n",
       "      <td>-0.055458</td>\n",
       "    </tr>\n",
       "  </tbody>\n",
       "</table>\n",
       "</div>"
      ],
      "text/plain": [
       "                      flug          fldg     fnetg\n",
       "g pressure level                                  \n",
       "1 0.00     1      0.003303  0.000000e+00  0.003303\n",
       "  109.55   38     0.003310 -1.161782e-05  0.003298\n",
       "  1013.00  76     0.006025 -4.532240e-03  0.001493\n",
       "2 0.00     1     -0.006295  0.000000e+00 -0.006295\n",
       "  109.55   38    -0.006288 -4.244481e-06 -0.006292\n",
       "  1013.00  76     0.020052  6.124560e-02  0.081298\n",
       "3 0.00     1     -0.049808  0.000000e+00 -0.049808\n",
       "  109.55   38    -0.049807 -1.590112e-07 -0.049807\n",
       "  1013.00  76    -0.026077 -2.938110e-02 -0.055458"
      ]
     },
     "metadata": {},
     "output_type": "display_data"
    },
    {
     "data": {
      "text/markdown": [
       "*TABLE.* Fluxes. (WGT igg=10) - (CRD)"
      ],
      "text/plain": [
       "<IPython.core.display.Markdown object>"
      ]
     },
     "metadata": {},
     "output_type": "display_data"
    },
    {
     "data": {
      "text/html": [
       "<div>\n",
       "<style scoped>\n",
       "    .dataframe tbody tr th:only-of-type {\n",
       "        vertical-align: middle;\n",
       "    }\n",
       "\n",
       "    .dataframe tbody tr th {\n",
       "        vertical-align: top;\n",
       "    }\n",
       "\n",
       "    .dataframe thead th {\n",
       "        text-align: right;\n",
       "    }\n",
       "</style>\n",
       "<table border=\"1\" class=\"dataframe\">\n",
       "  <thead>\n",
       "    <tr style=\"text-align: right;\">\n",
       "      <th></th>\n",
       "      <th></th>\n",
       "      <th>flug</th>\n",
       "      <th>fldg</th>\n",
       "      <th>fnetg</th>\n",
       "    </tr>\n",
       "    <tr>\n",
       "      <th>pressure</th>\n",
       "      <th>level</th>\n",
       "      <th></th>\n",
       "      <th></th>\n",
       "      <th></th>\n",
       "    </tr>\n",
       "  </thead>\n",
       "  <tbody>\n",
       "    <tr>\n",
       "      <th>0.00</th>\n",
       "      <th>1</th>\n",
       "      <td>-33.973919</td>\n",
       "      <td>0.000000</td>\n",
       "      <td>-33.973919</td>\n",
       "    </tr>\n",
       "    <tr>\n",
       "      <th>109.55</th>\n",
       "      <th>38</th>\n",
       "      <td>-33.973976</td>\n",
       "      <td>0.000033</td>\n",
       "      <td>-33.973943</td>\n",
       "    </tr>\n",
       "    <tr>\n",
       "      <th>1013.00</th>\n",
       "      <th>76</th>\n",
       "      <td>-34.728642</td>\n",
       "      <td>3.756388</td>\n",
       "      <td>-30.972254</td>\n",
       "    </tr>\n",
       "  </tbody>\n",
       "</table>\n",
       "</div>"
      ],
      "text/plain": [
       "                     flug      fldg      fnetg\n",
       "pressure level                                \n",
       "0.00     1     -33.973919  0.000000 -33.973919\n",
       "109.55   38    -33.973976  0.000033 -33.973943\n",
       "1013.00  76    -34.728642  3.756388 -30.972254"
      ]
     },
     "metadata": {},
     "output_type": "display_data"
    },
    {
     "data": {
      "text/markdown": [
       "*TABLE.* Fluxes. CRD"
      ],
      "text/plain": [
       "<IPython.core.display.Markdown object>"
      ]
     },
     "metadata": {},
     "output_type": "display_data"
    },
    {
     "data": {
      "text/html": [
       "<div>\n",
       "<style scoped>\n",
       "    .dataframe tbody tr th:only-of-type {\n",
       "        vertical-align: middle;\n",
       "    }\n",
       "\n",
       "    .dataframe tbody tr th {\n",
       "        vertical-align: top;\n",
       "    }\n",
       "\n",
       "    .dataframe thead th {\n",
       "        text-align: right;\n",
       "    }\n",
       "</style>\n",
       "<table border=\"1\" class=\"dataframe\">\n",
       "  <thead>\n",
       "    <tr style=\"text-align: right;\">\n",
       "      <th></th>\n",
       "      <th></th>\n",
       "      <th>flug</th>\n",
       "      <th>fldg</th>\n",
       "      <th>fnetg</th>\n",
       "    </tr>\n",
       "    <tr>\n",
       "      <th>pressure</th>\n",
       "      <th>level</th>\n",
       "      <th></th>\n",
       "      <th></th>\n",
       "      <th></th>\n",
       "    </tr>\n",
       "  </thead>\n",
       "  <tbody>\n",
       "    <tr>\n",
       "      <th>0.00</th>\n",
       "      <th>1</th>\n",
       "      <td>-34.003178</td>\n",
       "      <td>0.000000</td>\n",
       "      <td>-34.003178</td>\n",
       "    </tr>\n",
       "    <tr>\n",
       "      <th>109.55</th>\n",
       "      <th>38</th>\n",
       "      <td>-34.003225</td>\n",
       "      <td>0.000020</td>\n",
       "      <td>-34.003205</td>\n",
       "    </tr>\n",
       "    <tr>\n",
       "      <th>1013.00</th>\n",
       "      <th>76</th>\n",
       "      <td>-34.728642</td>\n",
       "      <td>3.845306</td>\n",
       "      <td>-30.883335</td>\n",
       "    </tr>\n",
       "  </tbody>\n",
       "</table>\n",
       "</div>"
      ],
      "text/plain": [
       "                     flug      fldg      fnetg\n",
       "pressure level                                \n",
       "0.00     1     -34.003178  0.000000 -34.003178\n",
       "109.55   38    -34.003225  0.000020 -34.003205\n",
       "1013.00  76    -34.728642  3.845306 -30.883335"
      ]
     },
     "metadata": {},
     "output_type": "display_data"
    },
    {
     "data": {
      "text/markdown": [
       "*TABLE.* Fluxes. WGT igg=1"
      ],
      "text/plain": [
       "<IPython.core.display.Markdown object>"
      ]
     },
     "metadata": {},
     "output_type": "display_data"
    },
    {
     "data": {
      "text/html": [
       "<div>\n",
       "<style scoped>\n",
       "    .dataframe tbody tr th:only-of-type {\n",
       "        vertical-align: middle;\n",
       "    }\n",
       "\n",
       "    .dataframe tbody tr th {\n",
       "        vertical-align: top;\n",
       "    }\n",
       "\n",
       "    .dataframe thead th {\n",
       "        text-align: right;\n",
       "    }\n",
       "</style>\n",
       "<table border=\"1\" class=\"dataframe\">\n",
       "  <thead>\n",
       "    <tr style=\"text-align: right;\">\n",
       "      <th></th>\n",
       "      <th></th>\n",
       "      <th>flug</th>\n",
       "      <th>fldg</th>\n",
       "      <th>fnetg</th>\n",
       "    </tr>\n",
       "    <tr>\n",
       "      <th>pressure</th>\n",
       "      <th>level</th>\n",
       "      <th></th>\n",
       "      <th></th>\n",
       "      <th></th>\n",
       "    </tr>\n",
       "  </thead>\n",
       "  <tbody>\n",
       "    <tr>\n",
       "      <th>0.00</th>\n",
       "      <th>1</th>\n",
       "      <td>-34.026718</td>\n",
       "      <td>0.000000</td>\n",
       "      <td>-34.026718</td>\n",
       "    </tr>\n",
       "    <tr>\n",
       "      <th>109.55</th>\n",
       "      <th>38</th>\n",
       "      <td>-34.026761</td>\n",
       "      <td>0.000017</td>\n",
       "      <td>-34.026744</td>\n",
       "    </tr>\n",
       "    <tr>\n",
       "      <th>1013.00</th>\n",
       "      <th>76</th>\n",
       "      <td>-34.728642</td>\n",
       "      <td>3.783720</td>\n",
       "      <td>-30.944922</td>\n",
       "    </tr>\n",
       "  </tbody>\n",
       "</table>\n",
       "</div>"
      ],
      "text/plain": [
       "                     flug      fldg      fnetg\n",
       "pressure level                                \n",
       "0.00     1     -34.026718  0.000000 -34.026718\n",
       "109.55   38    -34.026761  0.000017 -34.026744\n",
       "1013.00  76    -34.728642  3.783720 -30.944922"
      ]
     },
     "metadata": {},
     "output_type": "display_data"
    },
    {
     "data": {
      "text/markdown": [
       "*TABLE.* Fluxes. WGT igg=10"
      ],
      "text/plain": [
       "<IPython.core.display.Markdown object>"
      ]
     },
     "metadata": {},
     "output_type": "display_data"
    },
    {
     "data": {
      "text/html": [
       "<div>\n",
       "<style scoped>\n",
       "    .dataframe tbody tr th:only-of-type {\n",
       "        vertical-align: middle;\n",
       "    }\n",
       "\n",
       "    .dataframe tbody tr th {\n",
       "        vertical-align: top;\n",
       "    }\n",
       "\n",
       "    .dataframe thead th {\n",
       "        text-align: right;\n",
       "    }\n",
       "</style>\n",
       "<table border=\"1\" class=\"dataframe\">\n",
       "  <thead>\n",
       "    <tr style=\"text-align: right;\">\n",
       "      <th></th>\n",
       "      <th></th>\n",
       "      <th>flug</th>\n",
       "      <th>fldg</th>\n",
       "      <th>fnetg</th>\n",
       "    </tr>\n",
       "    <tr>\n",
       "      <th>pressure</th>\n",
       "      <th>level</th>\n",
       "      <th></th>\n",
       "      <th></th>\n",
       "      <th></th>\n",
       "    </tr>\n",
       "  </thead>\n",
       "  <tbody>\n",
       "    <tr>\n",
       "      <th>0.00</th>\n",
       "      <th>1</th>\n",
       "      <td>-2.925894e-02</td>\n",
       "      <td>0.000000</td>\n",
       "      <td>-0.029259</td>\n",
       "    </tr>\n",
       "    <tr>\n",
       "      <th>109.55</th>\n",
       "      <th>38</th>\n",
       "      <td>-2.924899e-02</td>\n",
       "      <td>-0.000013</td>\n",
       "      <td>-0.029262</td>\n",
       "    </tr>\n",
       "    <tr>\n",
       "      <th>1013.00</th>\n",
       "      <th>76</th>\n",
       "      <td>4.300000e-07</td>\n",
       "      <td>0.088918</td>\n",
       "      <td>0.088919</td>\n",
       "    </tr>\n",
       "  </tbody>\n",
       "</table>\n",
       "</div>"
      ],
      "text/plain": [
       "                        flug      fldg     fnetg\n",
       "pressure level                                  \n",
       "0.00     1     -2.925894e-02  0.000000 -0.029259\n",
       "109.55   38    -2.924899e-02 -0.000013 -0.029262\n",
       "1013.00  76     4.300000e-07  0.088918  0.088919"
      ]
     },
     "metadata": {},
     "output_type": "display_data"
    },
    {
     "data": {
      "text/markdown": [
       "*TABLE.* Fluxes. (WGT igg=1) - (CRD)"
      ],
      "text/plain": [
       "<IPython.core.display.Markdown object>"
      ]
     },
     "metadata": {},
     "output_type": "display_data"
    },
    {
     "data": {
      "text/html": [
       "<div>\n",
       "<style scoped>\n",
       "    .dataframe tbody tr th:only-of-type {\n",
       "        vertical-align: middle;\n",
       "    }\n",
       "\n",
       "    .dataframe tbody tr th {\n",
       "        vertical-align: top;\n",
       "    }\n",
       "\n",
       "    .dataframe thead th {\n",
       "        text-align: right;\n",
       "    }\n",
       "</style>\n",
       "<table border=\"1\" class=\"dataframe\">\n",
       "  <thead>\n",
       "    <tr style=\"text-align: right;\">\n",
       "      <th></th>\n",
       "      <th></th>\n",
       "      <th>flug</th>\n",
       "      <th>fldg</th>\n",
       "      <th>fnetg</th>\n",
       "    </tr>\n",
       "    <tr>\n",
       "      <th>pressure</th>\n",
       "      <th>level</th>\n",
       "      <th></th>\n",
       "      <th></th>\n",
       "      <th></th>\n",
       "    </tr>\n",
       "  </thead>\n",
       "  <tbody>\n",
       "    <tr>\n",
       "      <th>0.00</th>\n",
       "      <th>1</th>\n",
       "      <td>-5.279956e-02</td>\n",
       "      <td>0.000000</td>\n",
       "      <td>-0.052800</td>\n",
       "    </tr>\n",
       "    <tr>\n",
       "      <th>109.55</th>\n",
       "      <th>38</th>\n",
       "      <td>-5.278502e-02</td>\n",
       "      <td>-0.000016</td>\n",
       "      <td>-0.052801</td>\n",
       "    </tr>\n",
       "    <tr>\n",
       "      <th>1013.00</th>\n",
       "      <th>76</th>\n",
       "      <td>4.300000e-07</td>\n",
       "      <td>0.027332</td>\n",
       "      <td>0.027333</td>\n",
       "    </tr>\n",
       "  </tbody>\n",
       "</table>\n",
       "</div>"
      ],
      "text/plain": [
       "                        flug      fldg     fnetg\n",
       "pressure level                                  \n",
       "0.00     1     -5.279956e-02  0.000000 -0.052800\n",
       "109.55   38    -5.278502e-02 -0.000016 -0.052801\n",
       "1013.00  76     4.300000e-07  0.027332  0.027333"
      ]
     },
     "metadata": {},
     "output_type": "display_data"
    },
    {
     "data": {
      "text/markdown": [
       "*TABLE.* Fluxes. (WGT igg=10) - (CRD)"
      ],
      "text/plain": [
       "<IPython.core.display.Markdown object>"
      ]
     },
     "metadata": {},
     "output_type": "display_data"
    },
    {
     "data": {
      "text/html": [
       "<a id=\"g-interval_Summary\"></a>"
      ],
      "text/plain": [
       "<IPython.core.display.HTML object>"
      ]
     },
     "metadata": {},
     "output_type": "display_data"
    },
    {
     "data": {
      "text/markdown": [
       "# g-interval Summary"
      ],
      "text/plain": [
       "<IPython.core.display.Markdown object>"
      ]
     },
     "metadata": {},
     "output_type": "display_data"
    },
    {
     "data": {
      "text/html": [
       "<div>\n",
       "<style scoped>\n",
       "    .dataframe tbody tr th:only-of-type {\n",
       "        vertical-align: middle;\n",
       "    }\n",
       "\n",
       "    .dataframe tbody tr th {\n",
       "        vertical-align: top;\n",
       "    }\n",
       "\n",
       "    .dataframe thead th {\n",
       "        text-align: right;\n",
       "    }\n",
       "</style>\n",
       "<table border=\"1\" class=\"dataframe\">\n",
       "  <thead>\n",
       "    <tr style=\"text-align: right;\">\n",
       "      <th></th>\n",
       "      <th>abscom</th>\n",
       "      <th>k(ig) / k(ig - 1)</th>\n",
       "      <th>dg</th>\n",
       "      <th>dgs</th>\n",
       "      <th>dg cumsum</th>\n",
       "      <th>dgs cumsum</th>\n",
       "      <th>pref</th>\n",
       "    </tr>\n",
       "    <tr>\n",
       "      <th>g</th>\n",
       "      <th></th>\n",
       "      <th></th>\n",
       "      <th></th>\n",
       "      <th></th>\n",
       "      <th></th>\n",
       "      <th></th>\n",
       "      <th></th>\n",
       "    </tr>\n",
       "  </thead>\n",
       "  <tbody>\n",
       "    <tr>\n",
       "      <th>1</th>\n",
       "      <td>1.352671e-23</td>\n",
       "      <td>NaN</td>\n",
       "      <td>0.007533</td>\n",
       "      <td>0.006993</td>\n",
       "      <td>0.007533</td>\n",
       "      <td>0.006993</td>\n",
       "      <td>600.0</td>\n",
       "    </tr>\n",
       "    <tr>\n",
       "      <th>2</th>\n",
       "      <td>1.000008e-24</td>\n",
       "      <td>0.073928</td>\n",
       "      <td>0.065850</td>\n",
       "      <td>0.064137</td>\n",
       "      <td>0.073383</td>\n",
       "      <td>0.071130</td>\n",
       "      <td>600.0</td>\n",
       "    </tr>\n",
       "    <tr>\n",
       "      <th>3</th>\n",
       "      <td>1.361273e-27</td>\n",
       "      <td>0.001361</td>\n",
       "      <td>0.926617</td>\n",
       "      <td>0.928870</td>\n",
       "      <td>1.000000</td>\n",
       "      <td>1.000000</td>\n",
       "      <td>600.0</td>\n",
       "    </tr>\n",
       "  </tbody>\n",
       "</table>\n",
       "</div>"
      ],
      "text/plain": [
       "         abscom  k(ig) / k(ig - 1)        dg       dgs  dg cumsum  dgs cumsum  \\\n",
       "g                                                                               \n",
       "1  1.352671e-23                NaN  0.007533  0.006993   0.007533    0.006993   \n",
       "2  1.000008e-24           0.073928  0.065850  0.064137   0.073383    0.071130   \n",
       "3  1.361273e-27           0.001361  0.926617  0.928870   1.000000    1.000000   \n",
       "\n",
       "    pref  \n",
       "g         \n",
       "1  600.0  \n",
       "2  600.0  \n",
       "3  600.0  "
      ]
     },
     "metadata": {},
     "output_type": "display_data"
    },
    {
     "data": {
      "text/markdown": [
       "TABLE. g-interval summary.  *abscom* is the lower bound of the g-interval."
      ],
      "text/plain": [
       "<IPython.core.display.Markdown object>"
      ]
     },
     "metadata": {},
     "output_type": "display_data"
    },
    {
     "data": {
      "text/html": [
       "<a id=\"Download_Data\"></a>"
      ],
      "text/plain": [
       "<IPython.core.display.HTML object>"
      ]
     },
     "metadata": {},
     "output_type": "display_data"
    },
    {
     "data": {
      "text/markdown": [
       "# Download Data"
      ],
      "text/plain": [
       "<IPython.core.display.Markdown object>"
      ]
     },
     "metadata": {},
     "output_type": "display_data"
    },
    {
     "data": {
      "text/html": [
       "Download: <a href=\"./lblnew-bestfit_flux.xlsx\">lblnew-bestfit_flux.xlsx</a>"
      ],
      "text/plain": [
       "<IPython.core.display.HTML object>"
      ]
     },
     "metadata": {},
     "output_type": "display_data"
    },
    {
     "data": {
      "text/html": [
       "Download: <a href=\"./lblnew-bestfit_cool.xlsx\">lblnew-bestfit_cool.xlsx</a>"
      ],
      "text/plain": [
       "<IPython.core.display.HTML object>"
      ]
     },
     "metadata": {},
     "output_type": "display_data"
    }
   ],
   "source": [
    "script()"
   ]
  },
  {
   "cell_type": "code",
   "execution_count": 14,
   "metadata": {},
   "outputs": [
    {
     "data": {
      "text/html": [
       "<script>\n",
       "code_show=true; \n",
       "function code_toggle() {\n",
       " if (code_show){\n",
       " $('div.input').hide();\n",
       " } else {\n",
       " $('div.input').show();\n",
       " }\n",
       " code_show = !code_show\n",
       "} \n",
       "$( document ).ready(code_toggle);\n",
       "</script>\n",
       "<form action=\"javascript:code_toggle()\"><input type=\"submit\" value=\"Click here to toggle on/off the raw code.\"></form>"
      ],
      "text/plain": [
       "<IPython.core.display.HTML object>"
      ]
     },
     "execution_count": 14,
     "metadata": {},
     "output_type": "execute_result"
    }
   ],
   "source": [
    "display.HTML('''<script>\n",
    "code_show=true; \n",
    "function code_toggle() {\n",
    " if (code_show){\n",
    " $('div.input').hide();\n",
    " } else {\n",
    " $('div.input').show();\n",
    " }\n",
    " code_show = !code_show\n",
    "} \n",
    "$( document ).ready(code_toggle);\n",
    "</script>\n",
    "<form action=\"javascript:code_toggle()\"><input type=\"submit\" value=\"Click here to toggle on/off the raw code.\"></form>''')"
   ]
  },
  {
   "cell_type": "code",
   "execution_count": 15,
   "metadata": {
    "collapsed": true
   },
   "outputs": [],
   "source": []
  }
 ],
 "metadata": {
  "kernelspec": {
   "display_name": "Python 3",
   "language": "python",
   "name": "python3"
  },
  "language_info": {
   "codemirror_mode": {
    "name": "ipython",
    "version": 3
   },
   "file_extension": ".py",
   "mimetype": "text/x-python",
   "name": "python",
   "nbconvert_exporter": "python",
   "pygments_lexer": "ipython3",
   "version": "3.6.1"
  }
 },
 "nbformat": 4,
 "nbformat_minor": 2
}
