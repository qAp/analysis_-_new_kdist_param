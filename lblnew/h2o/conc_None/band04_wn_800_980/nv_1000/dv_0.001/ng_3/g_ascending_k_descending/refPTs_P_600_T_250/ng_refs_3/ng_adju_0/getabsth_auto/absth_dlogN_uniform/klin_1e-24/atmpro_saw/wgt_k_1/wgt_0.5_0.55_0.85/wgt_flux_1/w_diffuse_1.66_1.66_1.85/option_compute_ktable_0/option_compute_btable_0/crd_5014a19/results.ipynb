{
 "cells": [
  {
   "cell_type": "code",
   "execution_count": 1,
   "metadata": {
    "collapsed": true
   },
   "outputs": [],
   "source": [
    "%reload_ext autoreload\n",
    "%autoreload 2\n",
    "%matplotlib inline"
   ]
  },
  {
   "cell_type": "code",
   "execution_count": 2,
   "metadata": {
    "collapsed": true
   },
   "outputs": [],
   "source": [
    "import io\n",
    "\n",
    "import numpy as np\n",
    "import pymongo\n",
    "\n",
    "from bokeh.io import output_notebook, show\n",
    "from bokeh.palettes import all_palettes\n",
    "from bokeh.layouts import gridplot\n",
    "\n",
    "from IPython import display\n",
    "\n",
    "from climatools.cliradlw.dataset import load_output_file\n",
    "import climatools.html.html as climahtml\n",
    "from climatools.plot.plot import *"
   ]
  },
  {
   "cell_type": "code",
   "execution_count": 3,
   "metadata": {},
   "outputs": [
    {
     "data": {
      "text/html": [
       "\n",
       "    <div class=\"bk-root\">\n",
       "        <a href=\"https://bokeh.pydata.org\" target=\"_blank\" class=\"bk-logo bk-logo-small bk-logo-notebook\"></a>\n",
       "        <span id=\"6feb4724-f6cc-47de-bdd3-742a3c5bd949\">Loading BokehJS ...</span>\n",
       "    </div>"
      ]
     },
     "metadata": {},
     "output_type": "display_data"
    },
    {
     "data": {
      "application/javascript": [
       "\n",
       "(function(root) {\n",
       "  function now() {\n",
       "    return new Date();\n",
       "  }\n",
       "\n",
       "  var force = true;\n",
       "\n",
       "  if (typeof (root._bokeh_onload_callbacks) === \"undefined\" || force === true) {\n",
       "    root._bokeh_onload_callbacks = [];\n",
       "    root._bokeh_is_loading = undefined;\n",
       "  }\n",
       "\n",
       "  var JS_MIME_TYPE = 'application/javascript';\n",
       "  var HTML_MIME_TYPE = 'text/html';\n",
       "  var EXEC_MIME_TYPE = 'application/vnd.bokehjs_exec.v0+json';\n",
       "  var CLASS_NAME = 'output_bokeh rendered_html';\n",
       "\n",
       "  /**\n",
       "   * Render data to the DOM node\n",
       "   */\n",
       "  function render(props, node) {\n",
       "    var script = document.createElement(\"script\");\n",
       "    node.appendChild(script);\n",
       "  }\n",
       "\n",
       "  /**\n",
       "   * Handle when an output is cleared or removed\n",
       "   */\n",
       "  function handleClearOutput(event, handle) {\n",
       "    var cell = handle.cell;\n",
       "\n",
       "    var id = cell.output_area._bokeh_element_id;\n",
       "    var server_id = cell.output_area._bokeh_server_id;\n",
       "    // Clean up Bokeh references\n",
       "    if (id !== undefined) {\n",
       "      Bokeh.index[id].model.document.clear();\n",
       "      delete Bokeh.index[id];\n",
       "    }\n",
       "\n",
       "    if (server_id !== undefined) {\n",
       "      // Clean up Bokeh references\n",
       "      var cmd = \"from bokeh.io.state import curstate; print(curstate().uuid_to_server['\" + server_id + \"'].get_sessions()[0].document.roots[0]._id)\";\n",
       "      cell.notebook.kernel.execute(cmd, {\n",
       "        iopub: {\n",
       "          output: function(msg) {\n",
       "            var element_id = msg.content.text.trim();\n",
       "            Bokeh.index[element_id].model.document.clear();\n",
       "            delete Bokeh.index[element_id];\n",
       "          }\n",
       "        }\n",
       "      });\n",
       "      // Destroy server and session\n",
       "      var cmd = \"import bokeh.io.notebook as ion; ion.destroy_server('\" + server_id + \"')\";\n",
       "      cell.notebook.kernel.execute(cmd);\n",
       "    }\n",
       "  }\n",
       "\n",
       "  /**\n",
       "   * Handle when a new output is added\n",
       "   */\n",
       "  function handleAddOutput(event, handle) {\n",
       "    var output_area = handle.output_area;\n",
       "    var output = handle.output;\n",
       "\n",
       "    // limit handleAddOutput to display_data with EXEC_MIME_TYPE content only\n",
       "    if ((output.output_type != \"display_data\") || (!output.data.hasOwnProperty(EXEC_MIME_TYPE))) {\n",
       "      return\n",
       "    }\n",
       "\n",
       "    var toinsert = output_area.element.find(\".\" + CLASS_NAME.split(' ')[0]);\n",
       "\n",
       "    if (output.metadata[EXEC_MIME_TYPE][\"id\"] !== undefined) {\n",
       "      toinsert[toinsert.length - 1].firstChild.textContent = output.data[JS_MIME_TYPE];\n",
       "      // store reference to embed id on output_area\n",
       "      output_area._bokeh_element_id = output.metadata[EXEC_MIME_TYPE][\"id\"];\n",
       "    }\n",
       "    if (output.metadata[EXEC_MIME_TYPE][\"server_id\"] !== undefined) {\n",
       "      var bk_div = document.createElement(\"div\");\n",
       "      bk_div.innerHTML = output.data[HTML_MIME_TYPE];\n",
       "      var script_attrs = bk_div.children[0].attributes;\n",
       "      for (var i = 0; i < script_attrs.length; i++) {\n",
       "        toinsert[toinsert.length - 1].firstChild.setAttribute(script_attrs[i].name, script_attrs[i].value);\n",
       "      }\n",
       "      // store reference to server id on output_area\n",
       "      output_area._bokeh_server_id = output.metadata[EXEC_MIME_TYPE][\"server_id\"];\n",
       "    }\n",
       "  }\n",
       "\n",
       "  function register_renderer(events, OutputArea) {\n",
       "\n",
       "    function append_mime(data, metadata, element) {\n",
       "      // create a DOM node to render to\n",
       "      var toinsert = this.create_output_subarea(\n",
       "        metadata,\n",
       "        CLASS_NAME,\n",
       "        EXEC_MIME_TYPE\n",
       "      );\n",
       "      this.keyboard_manager.register_events(toinsert);\n",
       "      // Render to node\n",
       "      var props = {data: data, metadata: metadata[EXEC_MIME_TYPE]};\n",
       "      render(props, toinsert[toinsert.length - 1]);\n",
       "      element.append(toinsert);\n",
       "      return toinsert\n",
       "    }\n",
       "\n",
       "    /* Handle when an output is cleared or removed */\n",
       "    events.on('clear_output.CodeCell', handleClearOutput);\n",
       "    events.on('delete.Cell', handleClearOutput);\n",
       "\n",
       "    /* Handle when a new output is added */\n",
       "    events.on('output_added.OutputArea', handleAddOutput);\n",
       "\n",
       "    /**\n",
       "     * Register the mime type and append_mime function with output_area\n",
       "     */\n",
       "    OutputArea.prototype.register_mime_type(EXEC_MIME_TYPE, append_mime, {\n",
       "      /* Is output safe? */\n",
       "      safe: true,\n",
       "      /* Index of renderer in `output_area.display_order` */\n",
       "      index: 0\n",
       "    });\n",
       "  }\n",
       "\n",
       "  // register the mime type if in Jupyter Notebook environment and previously unregistered\n",
       "  if (root.Jupyter !== undefined) {\n",
       "    var events = require('base/js/events');\n",
       "    var OutputArea = require('notebook/js/outputarea').OutputArea;\n",
       "\n",
       "    if (OutputArea.prototype.mime_types().indexOf(EXEC_MIME_TYPE) == -1) {\n",
       "      register_renderer(events, OutputArea);\n",
       "    }\n",
       "  }\n",
       "\n",
       "  \n",
       "  if (typeof (root._bokeh_timeout) === \"undefined\" || force === true) {\n",
       "    root._bokeh_timeout = Date.now() + 5000;\n",
       "    root._bokeh_failed_load = false;\n",
       "  }\n",
       "\n",
       "  var NB_LOAD_WARNING = {'data': {'text/html':\n",
       "     \"<div style='background-color: #fdd'>\\n\"+\n",
       "     \"<p>\\n\"+\n",
       "     \"BokehJS does not appear to have successfully loaded. If loading BokehJS from CDN, this \\n\"+\n",
       "     \"may be due to a slow or bad network connection. Possible fixes:\\n\"+\n",
       "     \"</p>\\n\"+\n",
       "     \"<ul>\\n\"+\n",
       "     \"<li>re-rerun `output_notebook()` to attempt to load from CDN again, or</li>\\n\"+\n",
       "     \"<li>use INLINE resources instead, as so:</li>\\n\"+\n",
       "     \"</ul>\\n\"+\n",
       "     \"<code>\\n\"+\n",
       "     \"from bokeh.resources import INLINE\\n\"+\n",
       "     \"output_notebook(resources=INLINE)\\n\"+\n",
       "     \"</code>\\n\"+\n",
       "     \"</div>\"}};\n",
       "\n",
       "  function display_loaded() {\n",
       "    var el = document.getElementById(\"6feb4724-f6cc-47de-bdd3-742a3c5bd949\");\n",
       "    if (el != null) {\n",
       "      el.textContent = \"BokehJS is loading...\";\n",
       "    }\n",
       "    if (root.Bokeh !== undefined) {\n",
       "      if (el != null) {\n",
       "        el.textContent = \"BokehJS \" + root.Bokeh.version + \" successfully loaded.\";\n",
       "      }\n",
       "    } else if (Date.now() < root._bokeh_timeout) {\n",
       "      setTimeout(display_loaded, 100)\n",
       "    }\n",
       "  }\n",
       "\n",
       "\n",
       "  function run_callbacks() {\n",
       "    try {\n",
       "      root._bokeh_onload_callbacks.forEach(function(callback) { callback() });\n",
       "    }\n",
       "    finally {\n",
       "      delete root._bokeh_onload_callbacks\n",
       "    }\n",
       "    console.info(\"Bokeh: all callbacks have finished\");\n",
       "  }\n",
       "\n",
       "  function load_libs(js_urls, callback) {\n",
       "    root._bokeh_onload_callbacks.push(callback);\n",
       "    if (root._bokeh_is_loading > 0) {\n",
       "      console.log(\"Bokeh: BokehJS is being loaded, scheduling callback at\", now());\n",
       "      return null;\n",
       "    }\n",
       "    if (js_urls == null || js_urls.length === 0) {\n",
       "      run_callbacks();\n",
       "      return null;\n",
       "    }\n",
       "    console.log(\"Bokeh: BokehJS not loaded, scheduling load and callback at\", now());\n",
       "    root._bokeh_is_loading = js_urls.length;\n",
       "    for (var i = 0; i < js_urls.length; i++) {\n",
       "      var url = js_urls[i];\n",
       "      var s = document.createElement('script');\n",
       "      s.src = url;\n",
       "      s.async = false;\n",
       "      s.onreadystatechange = s.onload = function() {\n",
       "        root._bokeh_is_loading--;\n",
       "        if (root._bokeh_is_loading === 0) {\n",
       "          console.log(\"Bokeh: all BokehJS libraries loaded\");\n",
       "          run_callbacks()\n",
       "        }\n",
       "      };\n",
       "      s.onerror = function() {\n",
       "        console.warn(\"failed to load library \" + url);\n",
       "      };\n",
       "      console.log(\"Bokeh: injecting script tag for BokehJS library: \", url);\n",
       "      document.getElementsByTagName(\"head\")[0].appendChild(s);\n",
       "    }\n",
       "  };var element = document.getElementById(\"6feb4724-f6cc-47de-bdd3-742a3c5bd949\");\n",
       "  if (element == null) {\n",
       "    console.log(\"Bokeh: ERROR: autoload.js configured with elementid '6feb4724-f6cc-47de-bdd3-742a3c5bd949' but no matching script tag was found. \")\n",
       "    return false;\n",
       "  }\n",
       "\n",
       "  var js_urls = [\"https://cdn.pydata.org/bokeh/release/bokeh-0.12.16.min.js\", \"https://cdn.pydata.org/bokeh/release/bokeh-widgets-0.12.16.min.js\", \"https://cdn.pydata.org/bokeh/release/bokeh-tables-0.12.16.min.js\", \"https://cdn.pydata.org/bokeh/release/bokeh-gl-0.12.16.min.js\"];\n",
       "\n",
       "  var inline_js = [\n",
       "    function(Bokeh) {\n",
       "      Bokeh.set_log_level(\"info\");\n",
       "    },\n",
       "    \n",
       "    function(Bokeh) {\n",
       "      \n",
       "    },\n",
       "    function(Bokeh) {\n",
       "      console.log(\"Bokeh: injecting CSS: https://cdn.pydata.org/bokeh/release/bokeh-0.12.16.min.css\");\n",
       "      Bokeh.embed.inject_css(\"https://cdn.pydata.org/bokeh/release/bokeh-0.12.16.min.css\");\n",
       "      console.log(\"Bokeh: injecting CSS: https://cdn.pydata.org/bokeh/release/bokeh-widgets-0.12.16.min.css\");\n",
       "      Bokeh.embed.inject_css(\"https://cdn.pydata.org/bokeh/release/bokeh-widgets-0.12.16.min.css\");\n",
       "      console.log(\"Bokeh: injecting CSS: https://cdn.pydata.org/bokeh/release/bokeh-tables-0.12.16.min.css\");\n",
       "      Bokeh.embed.inject_css(\"https://cdn.pydata.org/bokeh/release/bokeh-tables-0.12.16.min.css\");\n",
       "    }\n",
       "  ];\n",
       "\n",
       "  function run_inline_js() {\n",
       "    \n",
       "    if ((root.Bokeh !== undefined) || (force === true)) {\n",
       "      for (var i = 0; i < inline_js.length; i++) {\n",
       "        inline_js[i].call(root, root.Bokeh);\n",
       "      }if (force === true) {\n",
       "        display_loaded();\n",
       "      }} else if (Date.now() < root._bokeh_timeout) {\n",
       "      setTimeout(run_inline_js, 100);\n",
       "    } else if (!root._bokeh_failed_load) {\n",
       "      console.log(\"Bokeh: BokehJS failed to load within specified timeout.\");\n",
       "      root._bokeh_failed_load = true;\n",
       "    } else if (force !== true) {\n",
       "      var cell = $(document.getElementById(\"6feb4724-f6cc-47de-bdd3-742a3c5bd949\")).parents('.cell').data().cell;\n",
       "      cell.output_area.append_execute_result(NB_LOAD_WARNING)\n",
       "    }\n",
       "\n",
       "  }\n",
       "\n",
       "  if (root._bokeh_is_loading === 0) {\n",
       "    console.log(\"Bokeh: BokehJS loaded, going straight to plotting\");\n",
       "    run_inline_js();\n",
       "  } else {\n",
       "    load_libs(js_urls, function() {\n",
       "      console.log(\"Bokeh: BokehJS plotting callback run at\", now());\n",
       "      run_inline_js();\n",
       "    });\n",
       "  }\n",
       "}(window));"
      ],
      "application/vnd.bokehjs_load.v0+json": "\n(function(root) {\n  function now() {\n    return new Date();\n  }\n\n  var force = true;\n\n  if (typeof (root._bokeh_onload_callbacks) === \"undefined\" || force === true) {\n    root._bokeh_onload_callbacks = [];\n    root._bokeh_is_loading = undefined;\n  }\n\n  \n\n  \n  if (typeof (root._bokeh_timeout) === \"undefined\" || force === true) {\n    root._bokeh_timeout = Date.now() + 5000;\n    root._bokeh_failed_load = false;\n  }\n\n  var NB_LOAD_WARNING = {'data': {'text/html':\n     \"<div style='background-color: #fdd'>\\n\"+\n     \"<p>\\n\"+\n     \"BokehJS does not appear to have successfully loaded. If loading BokehJS from CDN, this \\n\"+\n     \"may be due to a slow or bad network connection. Possible fixes:\\n\"+\n     \"</p>\\n\"+\n     \"<ul>\\n\"+\n     \"<li>re-rerun `output_notebook()` to attempt to load from CDN again, or</li>\\n\"+\n     \"<li>use INLINE resources instead, as so:</li>\\n\"+\n     \"</ul>\\n\"+\n     \"<code>\\n\"+\n     \"from bokeh.resources import INLINE\\n\"+\n     \"output_notebook(resources=INLINE)\\n\"+\n     \"</code>\\n\"+\n     \"</div>\"}};\n\n  function display_loaded() {\n    var el = document.getElementById(\"6feb4724-f6cc-47de-bdd3-742a3c5bd949\");\n    if (el != null) {\n      el.textContent = \"BokehJS is loading...\";\n    }\n    if (root.Bokeh !== undefined) {\n      if (el != null) {\n        el.textContent = \"BokehJS \" + root.Bokeh.version + \" successfully loaded.\";\n      }\n    } else if (Date.now() < root._bokeh_timeout) {\n      setTimeout(display_loaded, 100)\n    }\n  }\n\n\n  function run_callbacks() {\n    try {\n      root._bokeh_onload_callbacks.forEach(function(callback) { callback() });\n    }\n    finally {\n      delete root._bokeh_onload_callbacks\n    }\n    console.info(\"Bokeh: all callbacks have finished\");\n  }\n\n  function load_libs(js_urls, callback) {\n    root._bokeh_onload_callbacks.push(callback);\n    if (root._bokeh_is_loading > 0) {\n      console.log(\"Bokeh: BokehJS is being loaded, scheduling callback at\", now());\n      return null;\n    }\n    if (js_urls == null || js_urls.length === 0) {\n      run_callbacks();\n      return null;\n    }\n    console.log(\"Bokeh: BokehJS not loaded, scheduling load and callback at\", now());\n    root._bokeh_is_loading = js_urls.length;\n    for (var i = 0; i < js_urls.length; i++) {\n      var url = js_urls[i];\n      var s = document.createElement('script');\n      s.src = url;\n      s.async = false;\n      s.onreadystatechange = s.onload = function() {\n        root._bokeh_is_loading--;\n        if (root._bokeh_is_loading === 0) {\n          console.log(\"Bokeh: all BokehJS libraries loaded\");\n          run_callbacks()\n        }\n      };\n      s.onerror = function() {\n        console.warn(\"failed to load library \" + url);\n      };\n      console.log(\"Bokeh: injecting script tag for BokehJS library: \", url);\n      document.getElementsByTagName(\"head\")[0].appendChild(s);\n    }\n  };var element = document.getElementById(\"6feb4724-f6cc-47de-bdd3-742a3c5bd949\");\n  if (element == null) {\n    console.log(\"Bokeh: ERROR: autoload.js configured with elementid '6feb4724-f6cc-47de-bdd3-742a3c5bd949' but no matching script tag was found. \")\n    return false;\n  }\n\n  var js_urls = [\"https://cdn.pydata.org/bokeh/release/bokeh-0.12.16.min.js\", \"https://cdn.pydata.org/bokeh/release/bokeh-widgets-0.12.16.min.js\", \"https://cdn.pydata.org/bokeh/release/bokeh-tables-0.12.16.min.js\", \"https://cdn.pydata.org/bokeh/release/bokeh-gl-0.12.16.min.js\"];\n\n  var inline_js = [\n    function(Bokeh) {\n      Bokeh.set_log_level(\"info\");\n    },\n    \n    function(Bokeh) {\n      \n    },\n    function(Bokeh) {\n      console.log(\"Bokeh: injecting CSS: https://cdn.pydata.org/bokeh/release/bokeh-0.12.16.min.css\");\n      Bokeh.embed.inject_css(\"https://cdn.pydata.org/bokeh/release/bokeh-0.12.16.min.css\");\n      console.log(\"Bokeh: injecting CSS: https://cdn.pydata.org/bokeh/release/bokeh-widgets-0.12.16.min.css\");\n      Bokeh.embed.inject_css(\"https://cdn.pydata.org/bokeh/release/bokeh-widgets-0.12.16.min.css\");\n      console.log(\"Bokeh: injecting CSS: https://cdn.pydata.org/bokeh/release/bokeh-tables-0.12.16.min.css\");\n      Bokeh.embed.inject_css(\"https://cdn.pydata.org/bokeh/release/bokeh-tables-0.12.16.min.css\");\n    }\n  ];\n\n  function run_inline_js() {\n    \n    if ((root.Bokeh !== undefined) || (force === true)) {\n      for (var i = 0; i < inline_js.length; i++) {\n        inline_js[i].call(root, root.Bokeh);\n      }if (force === true) {\n        display_loaded();\n      }} else if (Date.now() < root._bokeh_timeout) {\n      setTimeout(run_inline_js, 100);\n    } else if (!root._bokeh_failed_load) {\n      console.log(\"Bokeh: BokehJS failed to load within specified timeout.\");\n      root._bokeh_failed_load = true;\n    } else if (force !== true) {\n      var cell = $(document.getElementById(\"6feb4724-f6cc-47de-bdd3-742a3c5bd949\")).parents('.cell').data().cell;\n      cell.output_area.append_execute_result(NB_LOAD_WARNING)\n    }\n\n  }\n\n  if (root._bokeh_is_loading === 0) {\n    console.log(\"Bokeh: BokehJS loaded, going straight to plotting\");\n    run_inline_js();\n  } else {\n    load_libs(js_urls, function() {\n      console.log(\"Bokeh: BokehJS plotting callback run at\", now());\n      run_inline_js();\n    });\n  }\n}(window));"
     },
     "metadata": {},
     "output_type": "display_data"
    }
   ],
   "source": [
    "output_notebook()"
   ]
  },
  {
   "cell_type": "code",
   "execution_count": 4,
   "metadata": {
    "collapsed": true
   },
   "outputs": [],
   "source": [
    "def make_query(param=None):\n",
    "    '''\n",
    "    Returns the MongoDB query for a lblnew \n",
    "    run's document.\n",
    "    \n",
    "    Parameters\n",
    "    ----------\n",
    "    param: dict\n",
    "    lblnew-bestfit input parameters.\n",
    "    '''\n",
    "    return {'param.' + name: value for name, value in param.items()}   "
   ]
  },
  {
   "cell_type": "code",
   "execution_count": 5,
   "metadata": {
    "collapsed": true
   },
   "outputs": [],
   "source": [
    "def print_input_param():\n",
    "    '''\n",
    "    Print to screen the input parameters \n",
    "    of the lblnew run.\n",
    "    '''\n",
    "    df = pd.DataFrame(columns=['lblnew'])\n",
    "    for name, value in sorted(PARAM.items()):\n",
    "        df.loc[name, 'lblnew'] = value\n",
    "    \n",
    "    df.index.name = 'Input parameter'\n",
    "    df.columns.name = 'Run'\n",
    "    \n",
    "    pd.set_option('display.max_colwidth', -1)\n",
    "    display.display(df)\n",
    "    pd.reset_option('display.max_colwidth')"
   ]
  },
  {
   "cell_type": "code",
   "execution_count": 6,
   "metadata": {
    "collapsed": true
   },
   "outputs": [],
   "source": [
    "def fmt_cool(ds_in):\n",
    "    ds = ds_in.copy(deep=True)\n",
    "    \n",
    "    if 'i' in ds.dims:                                                                                               \n",
    "        ds = ds.sel(i=ds.dims['i']) \n",
    "        \n",
    "    if 'band' in ds.dims:\n",
    "        try:\n",
    "            ds = ds.squeeze('band')\n",
    "        except ValueError:\n",
    "            ds = ds.sum('band') \n",
    "            \n",
    "    return ds['coolrg']\n",
    "\n",
    "\n",
    "\n",
    "def pltdata_cool(g=None):\n",
    "    '''\n",
    "    Define the plotting data for cooling rate\n",
    "    profile plots.  Add/remove entries in\n",
    "    the `data` list.\n",
    "    \n",
    "    Parameters\n",
    "    ----------\n",
    "    g: int\n",
    "        g-interval to be plotted.  If None,\n",
    "        the sum over all g-intervals will be\n",
    "        plotted.\n",
    "    data: dict\n",
    "        Plot data, including colour, line attributes, etc.\n",
    "    '''\n",
    "    colors = all_palettes['Set1'][4]\n",
    "    \n",
    "    if g == None:\n",
    "        ds_cool_crd = DS_COOL_CRD.sum('g')\n",
    "        ds_cool_wgt = DS_COOL_WGT.sum('g')\n",
    "    else:\n",
    "        ds_cool_crd = DS_COOL_CRD.sel(g=g)\n",
    "        ds_cool_wgt = DS_COOL_WGT.sel(g=g)\n",
    "    \n",
    "    data = [\n",
    "        {'label': 'CRD',\n",
    "         'srs': fmt_cool(ds_cool_crd),\n",
    "         'line_dash': 'solid', 'line_width':1.5,\n",
    "         'marker': 'circle', 'mark_size': 5,\n",
    "         'color': colors[2], 'alpha': 1},\n",
    "        {'label': 'WGT igg=1',\n",
    "         'srs': fmt_cool(ds_cool_wgt.sel(igg=1)),\n",
    "         'line_dash': 'solid', 'line_width': 3,\n",
    "         'marker': 'square', 'marker_size': 5,\n",
    "         'color': colors[3], 'alpha': .6},\n",
    "        {'label': 'WGT igg=10',\n",
    "         'srs': fmt_cool(ds_cool_wgt.sel(igg=10)),\n",
    "         'line_dash': 'solid', 'line_width': 2,\n",
    "         'marker': 'triangle', 'marker_size': 2,\n",
    "         'color': colors[1], 'alpha': .3}]\n",
    "    return data\n",
    "\n",
    "\n",
    "\n",
    "def plt_cool(pltdata=None):\n",
    "    '''\n",
    "    Plot cooling rate profiles on linear\n",
    "    and log pressure axes.\n",
    "    \n",
    "    Parameters\n",
    "    ----------\n",
    "    pltdata: dict\n",
    "        Plot data, including colour, line attributes, etc.\n",
    "    everything: bokeh.models.layouts.Column\n",
    "        Cooling rate profile plot.\n",
    "    '''\n",
    "    plin = plt_vert_profile_bokeh(pltdata=pltdata, \n",
    "                                  y_axis_type='linear',\n",
    "                                  prange=(50, 1050))\n",
    "    plin.plot_width, plin.plot_height = 400, 500\n",
    "    \n",
    "    plog = plt_vert_profile_bokeh(pltdata=pltdata,\n",
    "                                  y_axis_type='log',\n",
    "                                  prange=(.01, 200)) \n",
    "    plog.plot_width, plog.plot_height = 400, 500\n",
    "    \n",
    "    everything = gridplot(plin, plog, ncols=2)\n",
    "    return everything\n",
    "    \n",
    "    \n",
    "\n",
    "def script_plt_cool():\n",
    "    '''\n",
    "    Script to plot the cooling rate profiles\n",
    "    in each g-interval and the total \n",
    "    cooling rate profile over all g-intervals.\n",
    "    '''\n",
    "    ng = sum(PARAM['ng_refs'])\n",
    "    for g in np.arange(1, ng + 1):\n",
    "        data = pltdata_cool(g=g)\n",
    "        p = plt_cool(pltdata=data)\n",
    "        show(p)\n",
    "        display.display(\n",
    "            display.Markdown(f'*FIGURE.* Cooling rates. g={g}'))\n",
    "    \n",
    "    data = pltdata_cool()\n",
    "    p = plt_cool(pltdata=data)\n",
    "    show(p)\n",
    "    display.display(\n",
    "        display.Markdown(f'*FIGURE.* Cooling rates. Summed over g.'))\n",
    "    \n"
   ]
  },
  {
   "cell_type": "code",
   "execution_count": 7,
   "metadata": {
    "collapsed": true
   },
   "outputs": [],
   "source": [
    "def fmt_flux(ds_in, ilevels=None):\n",
    "    ds = ds_in.copy(deep=True)\n",
    "    \n",
    "    for l in ('level', 'layer'):\n",
    "        if l in ds.data_vars:\n",
    "            if len(ds[l].dims) > 1:\n",
    "                surface = {d: 0 for d in ds.dims if d != 'pressure'}\n",
    "                coord_level = ds[l][surface]\n",
    "                ds.coords[l] = ('pressure', coord_level)\n",
    "            else:\n",
    "                ds.coords[l] = ('pressure', ds[l])\n",
    "    \n",
    "    if ilevels:\n",
    "        ds = ds.isel(pressure=ilevels)\n",
    "\n",
    "    if 'i' in ds.dims:                                                                                               \n",
    "        ds = ds.sel(i=ds.dims['i'])\n",
    "        \n",
    "    #if 'igg' in ds.dims:\n",
    "    #    ds = ds.squeeze('igg').drop('igg')\n",
    "        \n",
    "    if 'igg' in ds:\n",
    "        if ds['igg'].shape == (1,):\n",
    "            ds = ds.squeeze('igg').drop('igg')\n",
    "        elif ds['igg'].shape == ():\n",
    "            ds = ds.drop('igg')\n",
    "            \n",
    "    if 'g' in ds:\n",
    "        if ds['g'].shape == (1,):\n",
    "            ds = ds.squeeze('g').drop('g')\n",
    "        elif ds['g'].shape == ():\n",
    "            ds = ds.drop('g')\n",
    "            \n",
    "    if 'band' in ds.dims:\n",
    "        try:\n",
    "            ds = ds.squeeze('band').drop('band')\n",
    "        except ValueError:\n",
    "            ds = ds.sum('band')\n",
    "                \n",
    "    df = ds.to_dataframe()\n",
    "    df = df.set_index('level', append=True)               \n",
    "    return df\n",
    "\n",
    "\n",
    "def tbdata_flux():\n",
    "    '''\n",
    "    Define the flux data to be tabulated for\n",
    "    the g-intervals.  Add/remove entries in the\n",
    "    `tbs` list.\n",
    "    \n",
    "    Parameters\n",
    "    ----------\n",
    "    data: dict\n",
    "        Flux data, including how each set is to be\n",
    "        labeled in the output table.\n",
    "    '''\n",
    "    tropopauses = {'mls': 40, 'saw': 45, 'trp': 37}\n",
    "    atmpro = PARAM['atmpro']\n",
    "    ilevels = [0, tropopauses[atmpro], -1]\n",
    "    \n",
    "    benchmark = {'label': 'CRD',\n",
    "                 'df': fmt_flux(DS_FLUX_CRD, ilevels=ilevels)}\n",
    "    \n",
    "    tbs = [{'label': 'WGT igg=1',\n",
    "            'df': fmt_flux(DS_FLUX_WGT.sel(igg=[1]), ilevels=ilevels)},\n",
    "           {'label': 'WGT igg=10',\n",
    "            'df': fmt_flux(DS_FLUX_WGT.sel(igg=[10]), ilevels=ilevels)}]\n",
    "    \n",
    "    data = {'benchmark': benchmark, 'others': tbs}\n",
    "    return data\n",
    "\n",
    "\n",
    "\n",
    "def tbdata_flux_sumg():\n",
    "    '''\n",
    "    Define the total flux data, over all g-intervals,\n",
    "    to be tabulated.\n",
    "    \n",
    "    Parameters\n",
    "    ----------\n",
    "    data: dict\n",
    "        Flux data, including how each set is to e\n",
    "        labeled in the output table.\n",
    "    '''\n",
    "    tropopauses = {'mls': 40, 'saw': 45, 'trp': 37}\n",
    "    \n",
    "    atmpro = PARAM['atmpro']\n",
    "    ilevels = [0, tropopauses[atmpro], -1]\n",
    "    \n",
    "    benchmark = {'label': 'CRD',\n",
    "                 'df': fmt_flux(DS_FLUX_CRD.sum('g'), ilevels=ilevels)}\n",
    "    \n",
    "    tbs = [{'label': 'WGT igg=1',\n",
    "            'df': fmt_flux(DS_FLUX_WGT.sel(igg=[1]).sum('g'), \n",
    "                           ilevels=ilevels)},\n",
    "           {'label': 'WGT igg=10',\n",
    "            'df': fmt_flux(DS_FLUX_WGT.sel(igg=[10]).sum('g'), \n",
    "                           ilevels=ilevels)}]\n",
    "    \n",
    "    data = {'benchmark': benchmark, 'others': tbs}\n",
    "    return data\n",
    "\n",
    "\n",
    "def tb_flux(tbdata=None):\n",
    "    '''\n",
    "    Display flux table for each set, and display\n",
    "    the difference between each set and the set\n",
    "    that is specified to be the benchmark.\n",
    "    \n",
    "    Parameters\n",
    "    ----------\n",
    "    tbdata: dict\n",
    "        Flux data, including how each set it to be\n",
    "        labeled in the output table.\n",
    "    '''\n",
    "    benchmark = tbdata['benchmark']\n",
    "    others = tbdata['others']\n",
    "    \n",
    "    def show_tb(d=None):\n",
    "        display.display(d['df'])\n",
    "        display.display(display.Markdown(\n",
    "            f\"*TABLE.* Fluxes. {d['label']}\"))\n",
    "        \n",
    "    def show_tbdiff(d0=None, d=None):\n",
    "        df = d['df']\n",
    "        df.index = d0['df'].index\n",
    "        display.display(df - d0['df'])\n",
    "        display.display(display.Markdown(\n",
    "            f\"*TABLE.* Fluxes. ({d['label']}) - ({d0['label']})\"))\n",
    "        \n",
    "    show_tb(benchmark)\n",
    "    for d in others:\n",
    "        show_tb(d)\n",
    "        \n",
    "    for d in others:\n",
    "        show_tbdiff(d=d, d0=benchmark)\n",
    "        \n",
    "\n",
    "        \n",
    "def script_tb_flux():\n",
    "    '''\n",
    "    Script to display the flux tables in \n",
    "    each g-interval, and the flux table\n",
    "    for the total flux, over all g-intervals.\n",
    "    '''\n",
    "    tb_flux(tbdata=tbdata_flux())\n",
    "    tb_flux(tbdata=tbdata_flux_sumg())\n"
   ]
  },
  {
   "cell_type": "code",
   "execution_count": 8,
   "metadata": {
    "collapsed": true
   },
   "outputs": [],
   "source": [
    "def script_gsummary():\n",
    "    '''\n",
    "    Script to display how the g-intervals\n",
    "    are defined according the hyperparameters\n",
    "    chosen for this lblnew-bestfit run.\n",
    "    '''\n",
    "    ng_refs = PARAM['ng_refs']\n",
    "    p_refs = list(zip(*PARAM['ref_pts']))[0]\n",
    "    ng = sum(ng_refs)\n",
    "    df_abscom = pd.read_csv(io.StringIO(DOC['abscom']), \n",
    "                            sep=r'\\s+', index_col=[0])\n",
    "    df_dgdgs = pd.read_csv(io.StringIO(DOC['dgdgs']), \n",
    "                            sep=r'\\s+', index_col=[0])\n",
    "    \n",
    "    # absth(g + 1) / absth(g)\n",
    "    df_abscom_copy = df_abscom.copy()\n",
    "    df_abscom_copy.index = df_abscom.index + 1\n",
    "    df_absratio = df_abscom / df_abscom_copy\n",
    "    df_absratio.columns = ['k(ig) / k(ig - 1)']\n",
    "    df_absratio = df_absratio.loc[: ng]    \n",
    "    \n",
    "    df_dgdgs_cumsum = df_dgdgs.cumsum(axis=0)\n",
    "    df_dgdgs_cumsum.columns = ['dg cumsum', 'dgs cumsum']\n",
    "    \n",
    "    data_pref = np.concatenate([p_ref * np.ones((ng_ref,)) \n",
    "                                for ng_ref, p_ref \n",
    "                                in zip(ng_refs, p_refs)], axis=0)\n",
    "    df_pref = pd.DataFrame(data_pref, \n",
    "                           index=df_dgdgs.index, columns=['pref'])\n",
    "    \n",
    "    df_all = pd.concat([df_abscom, df_absratio,\n",
    "                        df_dgdgs, df_dgdgs_cumsum,\n",
    "                        df_pref], axis=1) \n",
    "    \n",
    "    display.display(df_all)\n",
    "    display.display(display.Markdown(\n",
    "        (f\"TABLE. g-interval summary.  \"\n",
    "         f\"*abscom* is the lower bound of the g-interval.\")))\n",
    "    \n"
   ]
  },
  {
   "cell_type": "code",
   "execution_count": 9,
   "metadata": {
    "collapsed": true
   },
   "outputs": [],
   "source": [
    "def script_flux_to_excel():\n",
    "    '''\n",
    "    Script to save the lblnew-bestfit run's\n",
    "    output flux to excel file and display the\n",
    "    link to download the excel file.\n",
    "    '''\n",
    "    fname = 'lblnew-bestfit_flux.xlsx'\n",
    "    writer = pd.ExcelWriter(fname)\n",
    "    \n",
    "    ds = DS_FLUX_CRD\n",
    "    for g in ds.coords['g']:\n",
    "        df = ds.sel(g=g).to_dataframe()\n",
    "        df.to_excel(writer, f'crd flux g={int(g)}')\n",
    "                \n",
    "    ds = DS_FLUX_WGT\n",
    "    for g in ds.coords['g']:\n",
    "        df = ds.sel(g=g, igg=1).to_dataframe()\n",
    "        df.to_excel(writer, f'wgt igg=1 flux g={int(g)}')\n",
    "        \n",
    "        df = ds.sel(g=g, igg=10).to_dataframe()\n",
    "        df.to_excel(writer, f'wgt igg=10 flux g={int(g)}')\n",
    "        \n",
    "    writer.save()    \n",
    "    html_download = f'Download: <a href=\"./{fname}\">{fname}</a>'\n",
    "    display.display(display.HTML(html_download))\n",
    "\n",
    "\n",
    "def script_cool_to_excel():\n",
    "    '''\n",
    "    Script to save the lblnew-bestfit run's\n",
    "    output cooling rate to excel file and display\n",
    "    the link to download the excel file.\n",
    "    '''\n",
    "    fname = 'lblnew-bestfit_cool.xlsx'\n",
    "    writer = pd.ExcelWriter(fname)\n",
    "    \n",
    "    ds = DS_COOL_CRD\n",
    "    for g in ds.coords['g']:\n",
    "        df = ds.sel(g=g).to_dataframe()\n",
    "        df.to_excel(writer, f'crd cool g={int(g)}')\n",
    "        \n",
    "    ds = DS_COOL_WGT\n",
    "    for g in ds.coords['g']:\n",
    "        df = ds.sel(g=g, igg=1).to_dataframe()\n",
    "        df.to_excel(writer, f'wgt igg=1 cool g={int(g)}')\n",
    "        \n",
    "        df = ds.sel(g=g, igg=10).to_dataframe()\n",
    "        df.to_excel(writer, f'wgt igg=10 cool g={int(g)}')\n",
    "        \n",
    "    writer.save()\n",
    "    html_download = f'Download: <a href=\"./{fname}\">{fname}</a>'\n",
    "    display.display(display.HTML(html_download))"
   ]
  },
  {
   "cell_type": "code",
   "execution_count": 10,
   "metadata": {
    "collapsed": true
   },
   "outputs": [],
   "source": [
    "def show_html(s):\n",
    "    display.display(display.HTML(s))\n",
    "\n",
    "    \n",
    "def show_markdown(s):\n",
    "    display.display(display.Markdown(s))"
   ]
  },
  {
   "cell_type": "code",
   "execution_count": 11,
   "metadata": {
    "collapsed": true
   },
   "outputs": [],
   "source": [
    "def script():\n",
    "    title = ('### lblnew-bestfit' \n",
    "             if 'ng_refs' in PARAM else '### lblnew-overlap')\n",
    "    s_input = 'Input Parameters'\n",
    "    s_plt_cool = 'Cooling Rate Profiles'\n",
    "    s_tb_flux = 'Flux Comparison'\n",
    "    s_gsummary = 'g-interval Summary'\n",
    "    s_download = 'Download Data'\n",
    "    \n",
    "    # title\n",
    "    show_markdown(title)\n",
    "    \n",
    "    # TOC\n",
    "    show_markdown('### Table of Contents')\n",
    "    show_html(climahtml.getHTML_hrefanchor(s_input))\n",
    "    show_html(climahtml.getHTML_hrefanchor(s_plt_cool))\n",
    "    show_html(climahtml.getHTML_hrefanchor(s_tb_flux))\n",
    "    show_html(climahtml.getHTML_hrefanchor(s_gsummary))\n",
    "    show_html(climahtml.getHTML_hrefanchor(s_download))\n",
    "    \n",
    "    # Input parameters\n",
    "    show_html(climahtml.getHTML_idanchor(s_input))\n",
    "    show_markdown(climahtml.getMarkdown_sectitle(s_input))\n",
    "    print_input_param()\n",
    "    \n",
    "    # Cooling rate profiles\n",
    "    show_html(climahtml.getHTML_idanchor(s_plt_cool))\n",
    "    show_markdown(climahtml.getMarkdown_sectitle(s_plt_cool))\n",
    "    script_plt_cool()\n",
    "    \n",
    "    # Flux comparison\n",
    "    show_html(climahtml.getHTML_idanchor(s_tb_flux))\n",
    "    show_markdown(climahtml.getMarkdown_sectitle(s_tb_flux))\n",
    "    script_tb_flux()\n",
    "    \n",
    "    # g-interval summary\n",
    "    show_html(climahtml.getHTML_idanchor(s_gsummary))\n",
    "    show_markdown(climahtml.getMarkdown_sectitle(s_gsummary))\n",
    "    script_gsummary()\n",
    "    \n",
    "    # Download cooling rate and fluxes\n",
    "    show_html(climahtml.getHTML_idanchor(s_download))\n",
    "    show_markdown(climahtml.getMarkdown_sectitle(s_download))\n",
    "    script_flux_to_excel()\n",
    "    script_cool_to_excel()"
   ]
  },
  {
   "cell_type": "code",
   "execution_count": 12,
   "metadata": {
    "collapsed": true
   },
   "outputs": [],
   "source": [
    "%run param.py\n",
    "\n",
    "client = pymongo.MongoClient('localhost', 27017, connect=False)\n",
    "db = client.lblnew\n",
    "\n",
    "\n",
    "DOC = db.bestfit_lw.find_one(make_query(param=PARAM))\n",
    "DS_FLUX_CRD = load_output_file(io.StringIO(DOC['output_fluxg']))\n",
    "DS_COOL_CRD = load_output_file(io.StringIO(DOC['output_coolrg']))\n",
    "DS_FLUX_WGT = load_output_file(io.StringIO(DOC['output_wfluxg']))\n",
    "DS_COOL_WGT = load_output_file(io.StringIO(DOC['output_wcoolrg']))"
   ]
  },
  {
   "cell_type": "code",
   "execution_count": 13,
   "metadata": {
    "scrolled": false
   },
   "outputs": [
    {
     "data": {
      "text/markdown": [
       "### lblnew-bestfit"
      ],
      "text/plain": [
       "<IPython.core.display.Markdown object>"
      ]
     },
     "metadata": {},
     "output_type": "display_data"
    },
    {
     "data": {
      "text/markdown": [
       "### Table of Contents"
      ],
      "text/plain": [
       "<IPython.core.display.Markdown object>"
      ]
     },
     "metadata": {},
     "output_type": "display_data"
    },
    {
     "data": {
      "text/html": [
       "<a href=\"#Input_Parameters\">Input Parameters</a>"
      ],
      "text/plain": [
       "<IPython.core.display.HTML object>"
      ]
     },
     "metadata": {},
     "output_type": "display_data"
    },
    {
     "data": {
      "text/html": [
       "<a href=\"#Cooling_Rate_Profiles\">Cooling Rate Profiles</a>"
      ],
      "text/plain": [
       "<IPython.core.display.HTML object>"
      ]
     },
     "metadata": {},
     "output_type": "display_data"
    },
    {
     "data": {
      "text/html": [
       "<a href=\"#Flux_Comparison\">Flux Comparison</a>"
      ],
      "text/plain": [
       "<IPython.core.display.HTML object>"
      ]
     },
     "metadata": {},
     "output_type": "display_data"
    },
    {
     "data": {
      "text/html": [
       "<a href=\"#g-interval_Summary\">g-interval Summary</a>"
      ],
      "text/plain": [
       "<IPython.core.display.HTML object>"
      ]
     },
     "metadata": {},
     "output_type": "display_data"
    },
    {
     "data": {
      "text/html": [
       "<a href=\"#Download_Data\">Download Data</a>"
      ],
      "text/plain": [
       "<IPython.core.display.HTML object>"
      ]
     },
     "metadata": {},
     "output_type": "display_data"
    },
    {
     "data": {
      "text/html": [
       "<a id=\"Input_Parameters\"></a>"
      ],
      "text/plain": [
       "<IPython.core.display.HTML object>"
      ]
     },
     "metadata": {},
     "output_type": "display_data"
    },
    {
     "data": {
      "text/markdown": [
       "# Input Parameters"
      ],
      "text/plain": [
       "<IPython.core.display.Markdown object>"
      ]
     },
     "metadata": {},
     "output_type": "display_data"
    },
    {
     "data": {
      "text/html": [
       "<div>\n",
       "<style scoped>\n",
       "    .dataframe tbody tr th:only-of-type {\n",
       "        vertical-align: middle;\n",
       "    }\n",
       "\n",
       "    .dataframe tbody tr th {\n",
       "        vertical-align: top;\n",
       "    }\n",
       "\n",
       "    .dataframe thead th {\n",
       "        text-align: right;\n",
       "    }\n",
       "</style>\n",
       "<table border=\"1\" class=\"dataframe\">\n",
       "  <thead>\n",
       "    <tr style=\"text-align: right;\">\n",
       "      <th>Run</th>\n",
       "      <th>lblnew</th>\n",
       "    </tr>\n",
       "    <tr>\n",
       "      <th>Input parameter</th>\n",
       "      <th></th>\n",
       "    </tr>\n",
       "  </thead>\n",
       "  <tbody>\n",
       "    <tr>\n",
       "      <th>atmpro</th>\n",
       "      <td>saw</td>\n",
       "    </tr>\n",
       "    <tr>\n",
       "      <th>band</th>\n",
       "      <td>4</td>\n",
       "    </tr>\n",
       "    <tr>\n",
       "      <th>commitnumber</th>\n",
       "      <td>5014a19</td>\n",
       "    </tr>\n",
       "    <tr>\n",
       "      <th>conc</th>\n",
       "      <td>None</td>\n",
       "    </tr>\n",
       "    <tr>\n",
       "      <th>dv</th>\n",
       "      <td>0.001</td>\n",
       "    </tr>\n",
       "    <tr>\n",
       "      <th>klin</th>\n",
       "      <td>1e-24</td>\n",
       "    </tr>\n",
       "    <tr>\n",
       "      <th>molecule</th>\n",
       "      <td>h2o</td>\n",
       "    </tr>\n",
       "    <tr>\n",
       "      <th>ng_adju</th>\n",
       "      <td>[0]</td>\n",
       "    </tr>\n",
       "    <tr>\n",
       "      <th>ng_refs</th>\n",
       "      <td>[3]</td>\n",
       "    </tr>\n",
       "    <tr>\n",
       "      <th>nv</th>\n",
       "      <td>1000</td>\n",
       "    </tr>\n",
       "    <tr>\n",
       "      <th>option_compute_btable</th>\n",
       "      <td>0</td>\n",
       "    </tr>\n",
       "    <tr>\n",
       "      <th>option_compute_ktable</th>\n",
       "      <td>0</td>\n",
       "    </tr>\n",
       "    <tr>\n",
       "      <th>option_wgt_flux</th>\n",
       "      <td>1</td>\n",
       "    </tr>\n",
       "    <tr>\n",
       "      <th>option_wgt_k</th>\n",
       "      <td>1</td>\n",
       "    </tr>\n",
       "    <tr>\n",
       "      <th>ref_pts</th>\n",
       "      <td>[[600, 250]]</td>\n",
       "    </tr>\n",
       "    <tr>\n",
       "      <th>tsfc</th>\n",
       "      <td>257</td>\n",
       "    </tr>\n",
       "    <tr>\n",
       "      <th>vmax</th>\n",
       "      <td>980</td>\n",
       "    </tr>\n",
       "    <tr>\n",
       "      <th>vmin</th>\n",
       "      <td>800</td>\n",
       "    </tr>\n",
       "    <tr>\n",
       "      <th>w_diffuse</th>\n",
       "      <td>[[1.66, 1.66, 1.85]]</td>\n",
       "    </tr>\n",
       "    <tr>\n",
       "      <th>wgt</th>\n",
       "      <td>[[0.5, 0.55, 0.85]]</td>\n",
       "    </tr>\n",
       "  </tbody>\n",
       "</table>\n",
       "</div>"
      ],
      "text/plain": [
       "Run                                  lblnew\n",
       "Input parameter                            \n",
       "atmpro                 saw                 \n",
       "band                   4                   \n",
       "commitnumber           5014a19             \n",
       "conc                   None                \n",
       "dv                     0.001               \n",
       "klin                   1e-24               \n",
       "molecule               h2o                 \n",
       "ng_adju                [0]                 \n",
       "ng_refs                [3]                 \n",
       "nv                     1000                \n",
       "option_compute_btable  0                   \n",
       "option_compute_ktable  0                   \n",
       "option_wgt_flux        1                   \n",
       "option_wgt_k           1                   \n",
       "ref_pts                [[600, 250]]        \n",
       "tsfc                   257                 \n",
       "vmax                   980                 \n",
       "vmin                   800                 \n",
       "w_diffuse              [[1.66, 1.66, 1.85]]\n",
       "wgt                    [[0.5, 0.55, 0.85]] "
      ]
     },
     "metadata": {},
     "output_type": "display_data"
    },
    {
     "data": {
      "text/html": [
       "<a id=\"Cooling_Rate_Profiles\"></a>"
      ],
      "text/plain": [
       "<IPython.core.display.HTML object>"
      ]
     },
     "metadata": {},
     "output_type": "display_data"
    },
    {
     "data": {
      "text/markdown": [
       "# Cooling Rate Profiles"
      ],
      "text/plain": [
       "<IPython.core.display.Markdown object>"
      ]
     },
     "metadata": {},
     "output_type": "display_data"
    },
    {
     "data": {
      "text/html": [
       "\n",
       "<div class=\"bk-root\">\n",
       "    <div class=\"bk-plotdiv\" id=\"552fbe9f-1328-453e-8920-37d5e9fbfc7f\"></div>\n",
       "</div>"
      ]
     },
     "metadata": {},
     "output_type": "display_data"
    },
    {
     "data": {
      "application/javascript": [
       "(function(root) {\n",
       "  function embed_document(root) {\n",
       "    \n",
       "  var docs_json = {\"ea7b13bd-3089-4fff-950b-5a1eb5242687\":{\"roots\":{\"references\":[{\"attributes\":{\"line_alpha\":0.1,\"line_color\":\"#1f77b4\",\"line_width\":2,\"x\":{\"field\":\"x\"},\"y\":{\"field\":\"y\"}},\"id\":\"00af9aa7-57da-42cb-b30f-93facf8db69c\",\"type\":\"Line\"},{\"attributes\":{},\"id\":\"e6d144c4-c9f4-4464-ada4-5aa7fb3b6d97\",\"type\":\"PanTool\"},{\"attributes\":{\"data_source\":{\"id\":\"e3ecbb14-4e96-4363-b044-8ec559d3f014\",\"type\":\"ColumnDataSource\"},\"glyph\":{\"id\":\"641f6b50-8723-46e9-80a5-736bb06562bd\",\"type\":\"Line\"},\"hover_glyph\":null,\"muted_glyph\":null,\"nonselection_glyph\":{\"id\":\"00af9aa7-57da-42cb-b30f-93facf8db69c\",\"type\":\"Line\"},\"selection_glyph\":null,\"view\":{\"id\":\"6bab0e67-2f5e-4d6b-b806-808fe2a9c753\",\"type\":\"CDSView\"}},\"id\":\"97c57ceb-e162-4c23-97f9-6f1ec71f5786\",\"type\":\"GlyphRenderer\"},{\"attributes\":{\"source\":{\"id\":\"e3ecbb14-4e96-4363-b044-8ec559d3f014\",\"type\":\"ColumnDataSource\"}},\"id\":\"6bab0e67-2f5e-4d6b-b806-808fe2a9c753\",\"type\":\"CDSView\"},{\"attributes\":{\"bottom_units\":\"screen\",\"fill_alpha\":{\"value\":0.5},\"fill_color\":{\"value\":\"lightgrey\"},\"left_units\":\"screen\",\"level\":\"overlay\",\"line_alpha\":{\"value\":1.0},\"line_color\":{\"value\":\"black\"},\"line_dash\":[4,4],\"line_width\":{\"value\":2},\"plot\":null,\"render_mode\":\"css\",\"right_units\":\"screen\",\"top_units\":\"screen\"},\"id\":\"a691ead0-f94c-46b0-a800-73b9e6dea87a\",\"type\":\"BoxAnnotation\"},{\"attributes\":{\"plot\":{\"id\":\"a47f6d1e-545f-4230-8997-a3c291ce4424\",\"subtype\":\"Figure\",\"type\":\"Plot\"},\"ticker\":{\"id\":\"1e284795-18ee-4901-b8c2-b03a3f19ba17\",\"type\":\"BasicTicker\"}},\"id\":\"7b3c2ed7-27b6-4965-b004-d55a241640c4\",\"type\":\"Grid\"},{\"attributes\":{\"source\":{\"id\":\"c2c978f7-3c85-4a42-bf59-788c03fba729\",\"type\":\"ColumnDataSource\"}},\"id\":\"da70952b-0889-49dd-96c4-9eeccc7fffc5\",\"type\":\"CDSView\"},{\"attributes\":{\"data_source\":{\"id\":\"c2c978f7-3c85-4a42-bf59-788c03fba729\",\"type\":\"ColumnDataSource\"},\"glyph\":{\"id\":\"4de9076f-a816-48d2-a2f4-0406411cbea0\",\"type\":\"Triangle\"},\"hover_glyph\":null,\"muted_glyph\":null,\"nonselection_glyph\":{\"id\":\"654bea3c-d602-421d-a12e-77c340425080\",\"type\":\"Triangle\"},\"selection_glyph\":null,\"view\":{\"id\":\"da70952b-0889-49dd-96c4-9eeccc7fffc5\",\"type\":\"CDSView\"}},\"id\":\"bc52bb44-660f-4f82-b1fa-93d4e570ae6e\",\"type\":\"GlyphRenderer\"},{\"attributes\":{},\"id\":\"0a75dcd8-49bc-400f-a0bc-0e831c7a70fd\",\"type\":\"WheelZoomTool\"},{\"attributes\":{\"overlay\":{\"id\":\"a691ead0-f94c-46b0-a800-73b9e6dea87a\",\"type\":\"BoxAnnotation\"}},\"id\":\"5efd48e6-fc60-45c2-bff7-f2194cb2e21b\",\"type\":\"BoxZoomTool\"},{\"attributes\":{},\"id\":\"fb7a8ffb-fc67-4060-86b9-f567e2456208\",\"type\":\"SaveTool\"},{\"attributes\":{},\"id\":\"1e284795-18ee-4901-b8c2-b03a3f19ba17\",\"type\":\"BasicTicker\"},{\"attributes\":{},\"id\":\"95c221aa-ef73-466a-a686-0886a2950ada\",\"type\":\"ResetTool\"},{\"attributes\":{},\"id\":\"8f4d6484-bb09-4459-8b51-b7677c6a794b\",\"type\":\"HelpTool\"},{\"attributes\":{\"callback\":null,\"data\":{\"x\":{\"__ndarray__\":\"vgwsvSBVyb5m088+rQ/IvmIJn47n0cS+2PVSKh15wL6Oq2XjpbO1vpWJNRi9vJ2+fXwCfMLNpD61ra7FMTjAPoz40usDs80+VKYGa2wH1z7JibxIaHHgPoA2hXmvWOY+CRX4LKhY7T67SsBuuk3yPsWXVbpHfvU+JfKTAqaM+D4XmTyUuOX7PiyMtHi6k/8+jMrsXyjPAT9p6UVKuwYEPxtAzY3INAY/Kr5Stx+MBD/3edYm3U79PtoOO+bjbvI+r9ZkewZk5T7v37gq3S7VPq42o43J97k+Hq5+8xGfob5hMXCr8Oa6vpSfkWVIF8O+mzRVHdRix74pwyEfmI/KvoFOWq60zsu+fOnUOWA1y74qAA2eRvDJvnr5kv0YWMi+nslHKKHuxr7Uy/SPv8rGvkrqnLnUAtC+/JHAmpRV1b5M8Iv6QLDbvj/UOKiideC+xGv4MEcd4759i1vppT3mvsNOFEyseOm+qk1wYLfi6b7y0K3v2T7jvkyEK5yWQr2+hci6b+kL7D4thN2WePkJPze0C3YOlR8/wImAyEfDLz/cN9N7ikw8PyBNnUYVFEc/YI2ZJ0OMUT/2/CTP2ShZP5h+AfXRJmE/5lUULcRcZj8+qwodFAVsP23fI6OK8HA/a6e7qQfXcz+4VUU+TJd2P0u2mUUKF3k/FnnF0zNEez8EEDWQORZ9P/ond2GkhX4/kEfrDruNfz95nrzrExCAP+84N0FqB4A/tkRJaI0xfz+tLuWMAUp9P8wrWqbGl3o/jstInuPTdz+hXfzrYDZ1PxXqS+Bm0nI/\",\"dtype\":\"float64\",\"shape\":[75]},\"y\":{\"__ndarray__\":\"GhExyth1ND/Sv8nbtpRIP2vylNV0PVE/aTum7souWD/At0SJ8fVgPw3Iuahxymc/MSNhhJWvcD/bTfBN02d3P2zb5nxnaoA/CD5h5MAGhz8NmeH1TyaQP+zrCsc9p5Y/LbKd76fGnz/bLW5ISEmmPww9YvTcQq8/JV2OstnstT8Er5Y7M8G+P0c+r3jqkcU/5h99k6ZBzj88bCIzFzjVP4enV8oyxN0//yH99nXg5D8qOpLLf0jtP5kqGJXUifQ/c9cS8kHP/D+/DpwzojQEQIEmwoanVwxA4lgXt9HgE0BSSZ2AJuIbQAMJih9jjiNA5q4l5INuK0AwTKYKRj0zQNv5fmq8/DpAaCJseHrtQkB/+zpwzoxKQM3MzMzMeFJAZmZmZmZqWEAAAAAAAFxeQM3MzMzMJmJAmpmZmZkfZUBmZmZmZhhoQDMzMzMzEWtAAAAAAAAKbkBmZmZmZoFwQM3MzMzM/XFAMzMzMzN6c0CamZmZmfZ0QAAAAAAAc3ZAZmZmZmbvd0DNzMzMzGt5QDMzMzMz6HpAmpmZmZlkfEAAAAAAAOF9QGZmZmZmXX9AZmZmZuZsgECamZmZGSuBQM3MzMxM6YFAAAAAAICngkAzMzMzs2WDQGZmZmbmI4RAmpmZmRnihEDNzMzMTKCFQAAAAACAXoZAMzMzM7Mch0BmZmZm5tqHQJqZmZkZmYhAzczMzExXiUAAAAAAgBWKQDMzMzOz04pAZmZmZuaRi0CamZmZGVCMQM3MzMxMDo1AAAAAAIDMjUAzMzMzs4qOQGZmZmbmSI9A\",\"dtype\":\"float64\",\"shape\":[75]}},\"selected\":{\"id\":\"363d1349-d524-4e11-b80b-602531d11325\",\"type\":\"Selection\"},\"selection_policy\":{\"id\":\"d9294d36-b46c-4366-9b23-86583f866829\",\"type\":\"UnionRenderers\"}},\"id\":\"e3ecbb14-4e96-4363-b044-8ec559d3f014\",\"type\":\"ColumnDataSource\"},{\"attributes\":{\"active_drag\":\"auto\",\"active_inspect\":\"auto\",\"active_scroll\":\"auto\",\"active_tap\":\"auto\",\"tools\":[{\"id\":\"987654ce-b05a-4fb0-bc59-4c5ed73bd494\",\"type\":\"PanTool\"},{\"id\":\"81829650-8ade-48d2-9d5e-9a9a7e42958f\",\"type\":\"WheelZoomTool\"},{\"id\":\"4fd6b13d-f5a7-4837-86ee-e97aec71c702\",\"type\":\"BoxZoomTool\"},{\"id\":\"6cfb7cb4-d7b8-449d-967e-441aada07585\",\"type\":\"SaveTool\"},{\"id\":\"3812004c-8054-4cb7-ae70-d863d7d4c59d\",\"type\":\"ResetTool\"},{\"id\":\"68608656-f15d-434a-abd8-c7c403bab941\",\"type\":\"HelpTool\"}]},\"id\":\"b13459ac-79be-4a59-a3fa-5a8b262701a1\",\"type\":\"Toolbar\"},{\"attributes\":{\"line_alpha\":0.3,\"line_color\":\"#377eb8\",\"line_width\":2,\"x\":{\"field\":\"x\"},\"y\":{\"field\":\"y\"}},\"id\":\"641f6b50-8723-46e9-80a5-736bb06562bd\",\"type\":\"Line\"},{\"attributes\":{\"data_source\":{\"id\":\"a3cb72b9-84b5-42b8-877e-e522ed812f34\",\"type\":\"ColumnDataSource\"},\"glyph\":{\"id\":\"52121857-339c-4fa6-a8c2-79518d683475\",\"type\":\"Line\"},\"hover_glyph\":null,\"muted_glyph\":null,\"nonselection_glyph\":{\"id\":\"0461b415-281e-4d2d-83e1-b6e4cb757ecd\",\"type\":\"Line\"},\"selection_glyph\":null,\"view\":{\"id\":\"395b38ff-1ecd-42af-8949-e25600377587\",\"type\":\"CDSView\"}},\"id\":\"b98bfc0e-d03e-4796-b4d0-4412dfd2c576\",\"type\":\"GlyphRenderer\"},{\"attributes\":{\"callback\":null,\"data\":{\"x\":{\"__ndarray__\":\"gt8+fao20b5aV9JUiZPOviAuL4vzHMW+Sa+q8t/Jsb79tP/BXdepPsYuzNHUgMk+FCLh31Jv2D451w7Cb1PjPhFEaSZG6es+fA+IzqIb8z6iyvAV3UH5Ppo3c+LTRwA/KoGlfe6TBD9feH6EjAEJP8L/KBj73ww/vdTaiy1IED+n0bQZC0sSP+jl/WIJfhQ/u3oCqRzlFj9tjJjol4MZPz3T1Gc2ERw/ehAr6WEMGj8CTTEKnfoSP40dK0fa1Ag/iq9Ox/TN/j7JZWMzNYHxPlY1Hu71seA+eiyYrvjpxj5ExOaeK98+Ps3gp5Yl0bu+4WaRRvQ7yL6w6AzR1CnPvlrWhgsEdNC+E11UCXYFzr6ueo7TesvJvgmoOyhmLMW+k2Vra1yCwb5cxbwJH3TAvkD+050BH8e+/jLREt37zr4rR40joz/UvmLK7qfZU9i+CIm6A/+H3L4HtatV5cbgvnuJJq0kF+O+9tk5kxd04L4C7j5XT6mxvuqGOvDG/Ok+VtVz4TbfBT+4DBEsb6YbP9gkrpy2uyw/TvU2JZNIOj/I7A7FoNpFP+q6Ki992FA/AQEDqRpiWD9JnssSrbVgP2g5q6Hv12U/D3XNE7Beaz8Ssg6wX4NwP5zaF1xsRHM/PB1J+3/SdT8yVPhFnxV4PygCdTsd/nk/DWTQYeuGez+fhK0spbR8PzyXQa+ai30/0tJ0uSoQfj/qwtiRjTh+P/IojKM21X0/YM/UvSe1fD8V8UgGgZh6Pwe7S2RSw3c/SLuai2LqdD/4vmJU7ERyP187qO7Qw28/\",\"dtype\":\"float64\",\"shape\":[75]},\"y\":{\"__ndarray__\":\"GhExyth1ND/Sv8nbtpRIP2vylNV0PVE/aTum7souWD/At0SJ8fVgPw3Iuahxymc/MSNhhJWvcD/bTfBN02d3P2zb5nxnaoA/CD5h5MAGhz8NmeH1TyaQP+zrCsc9p5Y/LbKd76fGnz/bLW5ISEmmPww9YvTcQq8/JV2OstnstT8Er5Y7M8G+P0c+r3jqkcU/5h99k6ZBzj88bCIzFzjVP4enV8oyxN0//yH99nXg5D8qOpLLf0jtP5kqGJXUifQ/c9cS8kHP/D+/DpwzojQEQIEmwoanVwxA4lgXt9HgE0BSSZ2AJuIbQAMJih9jjiNA5q4l5INuK0AwTKYKRj0zQNv5fmq8/DpAaCJseHrtQkB/+zpwzoxKQM3MzMzMeFJAZmZmZmZqWEAAAAAAAFxeQM3MzMzMJmJAmpmZmZkfZUBmZmZmZhhoQDMzMzMzEWtAAAAAAAAKbkBmZmZmZoFwQM3MzMzM/XFAMzMzMzN6c0CamZmZmfZ0QAAAAAAAc3ZAZmZmZmbvd0DNzMzMzGt5QDMzMzMz6HpAmpmZmZlkfEAAAAAAAOF9QGZmZmZmXX9AZmZmZuZsgECamZmZGSuBQM3MzMxM6YFAAAAAAICngkAzMzMzs2WDQGZmZmbmI4RAmpmZmRnihEDNzMzMTKCFQAAAAACAXoZAMzMzM7Mch0BmZmZm5tqHQJqZmZkZmYhAzczMzExXiUAAAAAAgBWKQDMzMzOz04pAZmZmZuaRi0CamZmZGVCMQM3MzMxMDo1AAAAAAIDMjUAzMzMzs4qOQGZmZmbmSI9A\",\"dtype\":\"float64\",\"shape\":[75]}},\"selected\":{\"id\":\"6599f40b-d979-466b-a322-5326865fbf4b\",\"type\":\"Selection\"},\"selection_policy\":{\"id\":\"8776a552-8eff-43db-a594-b84a10847fe6\",\"type\":\"UnionRenderers\"}},\"id\":\"e6a70952-1d67-4c93-9ff4-49e7cdbc88b3\",\"type\":\"ColumnDataSource\"},{\"attributes\":{\"label\":{\"value\":\"CRD\"},\"renderers\":[{\"id\":\"4c46a74a-1597-4dc0-9d5c-b0a22501ca21\",\"type\":\"GlyphRenderer\"},{\"id\":\"b98bfc0e-d03e-4796-b4d0-4412dfd2c576\",\"type\":\"GlyphRenderer\"}]},\"id\":\"3b19d6ba-5627-465b-a4f3-b0efd5a89784\",\"type\":\"LegendItem\"},{\"attributes\":{\"callback\":null,\"end\":0.00010820470460800001,\"start\":-7.738145408e-06},\"id\":\"5dc84676-29af-45f2-bc71-ac2618122cd8\",\"type\":\"Range1d\"},{\"attributes\":{\"label\":{\"value\":\"WGT igg=10\"},\"renderers\":[{\"id\":\"bc52bb44-660f-4f82-b1fa-93d4e570ae6e\",\"type\":\"GlyphRenderer\"},{\"id\":\"97c57ceb-e162-4c23-97f9-6f1ec71f5786\",\"type\":\"GlyphRenderer\"}]},\"id\":\"50500bee-576b-483d-a17d-4e42a04f53fe\",\"type\":\"LegendItem\"},{\"attributes\":{\"axis_label\":\"cooling rate [K/day]\",\"formatter\":{\"id\":\"8239eecd-d014-4c18-bab8-916559379a7c\",\"type\":\"BasicTickFormatter\"},\"plot\":{\"id\":\"a47f6d1e-545f-4230-8997-a3c291ce4424\",\"subtype\":\"Figure\",\"type\":\"Plot\"},\"ticker\":{\"id\":\"1e284795-18ee-4901-b8c2-b03a3f19ba17\",\"type\":\"BasicTicker\"}},\"id\":\"99e66359-e72b-40ef-98b2-2e710ded9b76\",\"type\":\"LinearAxis\"},{\"attributes\":{\"label\":{\"value\":\"WGT igg=1\"},\"renderers\":[{\"id\":\"d06ae9d7-d97b-4ba6-96c4-70d31e364ee0\",\"type\":\"GlyphRenderer\"},{\"id\":\"c58a8b2e-ecc0-4a3b-b9fb-26d65bd9c8ac\",\"type\":\"GlyphRenderer\"}]},\"id\":\"062f4b53-5e44-4276-ba76-5e1a08b39c2b\",\"type\":\"LegendItem\"},{\"attributes\":{\"items\":[{\"id\":\"bb0585c7-2556-4bc2-81f4-729db7eb903e\",\"type\":\"LegendItem\"},{\"id\":\"17ca17e0-9afb-41a9-b116-00a3626054d1\",\"type\":\"LegendItem\"},{\"id\":\"37b360a8-5736-4c25-985a-be72ed61f1db\",\"type\":\"LegendItem\"}],\"label_text_font_size\":{\"value\":\"8pt\"},\"location\":\"top_center\",\"orientation\":\"horizontal\",\"plot\":{\"id\":\"a47f6d1e-545f-4230-8997-a3c291ce4424\",\"subtype\":\"Figure\",\"type\":\"Plot\"}},\"id\":\"96ef351e-da09-4f8d-a424-0f201f6219c6\",\"type\":\"Legend\"},{\"attributes\":{},\"id\":\"42de6326-29b4-4b9e-ab3d-14d42d5c7625\",\"type\":\"LinearScale\"},{\"attributes\":{\"callback\":null,\"data\":{\"x\":{\"__ndarray__\":\"gt8+fao20b5aV9JUiZPOviAuL4vzHMW+Sa+q8t/Jsb79tP/BXdepPsYuzNHUgMk+FCLh31Jv2D451w7Cb1PjPhFEaSZG6es+fA+IzqIb8z6iyvAV3UH5Ppo3c+LTRwA/KoGlfe6TBD9feH6EjAEJP8L/KBj73ww/vdTaiy1IED+n0bQZC0sSP+jl/WIJfhQ/u3oCqRzlFj9tjJjol4MZPz3T1Gc2ERw/ehAr6WEMGj8CTTEKnfoSP40dK0fa1Ag/iq9Ox/TN/j7JZWMzNYHxPlY1Hu71seA+eiyYrvjpxj5ExOaeK98+Ps3gp5Yl0bu+4WaRRvQ7yL6w6AzR1CnPvlrWhgsEdNC+E11UCXYFzr6ueo7TesvJvgmoOyhmLMW+k2Vra1yCwb5cxbwJH3TAvkD+050BH8e+/jLREt37zr4rR40joz/UvmLK7qfZU9i+CIm6A/+H3L4HtatV5cbgvnuJJq0kF+O+9tk5kxd04L4C7j5XT6mxvuqGOvDG/Ok+VtVz4TbfBT+4DBEsb6YbP9gkrpy2uyw/TvU2JZNIOj/I7A7FoNpFP+q6Ki992FA/AQEDqRpiWD9JnssSrbVgP2g5q6Hv12U/D3XNE7Beaz8Ssg6wX4NwP5zaF1xsRHM/PB1J+3/SdT8yVPhFnxV4PygCdTsd/nk/DWTQYeuGez+fhK0spbR8PzyXQa+ai30/0tJ0uSoQfj/qwtiRjTh+P/IojKM21X0/YM/UvSe1fD8V8UgGgZh6Pwe7S2RSw3c/SLuai2LqdD/4vmJU7ERyP187qO7Qw28/\",\"dtype\":\"float64\",\"shape\":[75]},\"y\":{\"__ndarray__\":\"GhExyth1ND/Sv8nbtpRIP2vylNV0PVE/aTum7souWD/At0SJ8fVgPw3Iuahxymc/MSNhhJWvcD/bTfBN02d3P2zb5nxnaoA/CD5h5MAGhz8NmeH1TyaQP+zrCsc9p5Y/LbKd76fGnz/bLW5ISEmmPww9YvTcQq8/JV2OstnstT8Er5Y7M8G+P0c+r3jqkcU/5h99k6ZBzj88bCIzFzjVP4enV8oyxN0//yH99nXg5D8qOpLLf0jtP5kqGJXUifQ/c9cS8kHP/D+/DpwzojQEQIEmwoanVwxA4lgXt9HgE0BSSZ2AJuIbQAMJih9jjiNA5q4l5INuK0AwTKYKRj0zQNv5fmq8/DpAaCJseHrtQkB/+zpwzoxKQM3MzMzMeFJAZmZmZmZqWEAAAAAAAFxeQM3MzMzMJmJAmpmZmZkfZUBmZmZmZhhoQDMzMzMzEWtAAAAAAAAKbkBmZmZmZoFwQM3MzMzM/XFAMzMzMzN6c0CamZmZmfZ0QAAAAAAAc3ZAZmZmZmbvd0DNzMzMzGt5QDMzMzMz6HpAmpmZmZlkfEAAAAAAAOF9QGZmZmZmXX9AZmZmZuZsgECamZmZGSuBQM3MzMxM6YFAAAAAAICngkAzMzMzs2WDQGZmZmbmI4RAmpmZmRnihEDNzMzMTKCFQAAAAACAXoZAMzMzM7Mch0BmZmZm5tqHQJqZmZkZmYhAzczMzExXiUAAAAAAgBWKQDMzMzOz04pAZmZmZuaRi0CamZmZGVCMQM3MzMxMDo1AAAAAAIDMjUAzMzMzs4qOQGZmZmbmSI9A\",\"dtype\":\"float64\",\"shape\":[75]}},\"selected\":{\"id\":\"0085a949-e5da-49b7-8735-16e2adcb6148\",\"type\":\"Selection\"},\"selection_policy\":{\"id\":\"99f72906-9db0-4c11-b827-3bb4c820f40d\",\"type\":\"UnionRenderers\"}},\"id\":\"a3cb72b9-84b5-42b8-877e-e522ed812f34\",\"type\":\"ColumnDataSource\"},{\"attributes\":{},\"id\":\"e2e191f4-5743-433e-8be6-a6396c59ce5f\",\"type\":\"LogScale\"},{\"attributes\":{\"axis_label\":\"pressure [mb]\",\"formatter\":{\"id\":\"1b491ef9-62ef-4c2d-855d-32f4124f7393\",\"type\":\"LogTickFormatter\"},\"plot\":{\"id\":\"a47f6d1e-545f-4230-8997-a3c291ce4424\",\"subtype\":\"Figure\",\"type\":\"Plot\"},\"ticker\":{\"id\":\"a799e541-ba04-4d18-b424-598bb66a0c59\",\"type\":\"LogTicker\"}},\"id\":\"114e82c6-587c-4fde-9382-7772586a5243\",\"type\":\"LogAxis\"},{\"attributes\":{\"num_minor_ticks\":10},\"id\":\"a799e541-ba04-4d18-b424-598bb66a0c59\",\"type\":\"LogTicker\"},{\"attributes\":{\"dimension\":1,\"plot\":{\"id\":\"a47f6d1e-545f-4230-8997-a3c291ce4424\",\"subtype\":\"Figure\",\"type\":\"Plot\"},\"ticker\":{\"id\":\"a799e541-ba04-4d18-b424-598bb66a0c59\",\"type\":\"LogTicker\"}},\"id\":\"c7733c1e-299c-41e5-a179-64d3fad34029\",\"type\":\"Grid\"},{\"attributes\":{\"plot\":null,\"text\":\"\"},\"id\":\"be3b9839-f74e-4c05-9d37-2595dc876fe8\",\"type\":\"Title\"},{\"attributes\":{\"callback\":null,\"data\":{\"x\":{\"__ndarray__\":\"UdriDlsWy75na0QpEHDJvoXAPNXiSMW+uViL9GKQv77fheY60HSxvmMfIzr6olQ+xTHUBQ1utj73olHLPdDIPhy0SfUDstQ+PzazjIW53j7NtbFJ+WPlPsfIppWHmOw+1IRKAteP8j5afAlCbvr2PkJTTeqn2vo+prDSlpOQ/j6mkgNcPVABP39h8jxaiwM//8nSAjn+BT+7vJTvpa0IP4i4leI7UQs/qK43SnxPCT9FBaTWECwCP9y2oWYzJfc+PkSHW5J06z5QEUdRRIfcPl3SYlaq/sQ+/HqVhHIebr4fsiEVhGC3vt6YAun+ssK+2GbxcsYLyL43YQZx3/zLvhU/9+L/c82+CzT33DSIzL6JP5+fWsHKvhn3oOp7ksi+BqTpICSlxr6JPXaiiUnGvlQ0y/m3Sc++YHUV4kvg1L4j+3WyFx3bvmCsWttxKeC+zMinhgHE4r41QzG9tdjlvvWvbz3X8ui+JbyjW91Q6L5Y21JJQmTdvkDfdCHidsk+IGYPz+OL+D7TCxAEdqASP5G+ea0KEiU/Bsr6VPdOND8WFYHpx4xBP2Rvx7Xb4Us/wMfXHGu4VD9gOd7/MBJdP/MokRPRZ2M/YHJo+KvMaD9wO7quNHluP1b125/XFHI/GnRSOPPNdD/U6J7Eikt3P9lrDWsCenk/qKc4m0FNez8KYueJCsV8P1xikZBU4H0/tkj24m2gfj+2uoRRdfl+P6TZzEsEvX4/lCUnVYq9fT/0imdM4bp7P0CQI+lY9ng/0wFOSFImdj+arRygy4JzP7PzR6uyHHE/\",\"dtype\":\"float64\",\"shape\":[75]},\"y\":{\"__ndarray__\":\"GhExyth1ND/Sv8nbtpRIP2vylNV0PVE/aTum7souWD/At0SJ8fVgPw3Iuahxymc/MSNhhJWvcD/bTfBN02d3P2zb5nxnaoA/CD5h5MAGhz8NmeH1TyaQP+zrCsc9p5Y/LbKd76fGnz/bLW5ISEmmPww9YvTcQq8/JV2OstnstT8Er5Y7M8G+P0c+r3jqkcU/5h99k6ZBzj88bCIzFzjVP4enV8oyxN0//yH99nXg5D8qOpLLf0jtP5kqGJXUifQ/c9cS8kHP/D+/DpwzojQEQIEmwoanVwxA4lgXt9HgE0BSSZ2AJuIbQAMJih9jjiNA5q4l5INuK0AwTKYKRj0zQNv5fmq8/DpAaCJseHrtQkB/+zpwzoxKQM3MzMzMeFJAZmZmZmZqWEAAAAAAAFxeQM3MzMzMJmJAmpmZmZkfZUBmZmZmZhhoQDMzMzMzEWtAAAAAAAAKbkBmZmZmZoFwQM3MzMzM/XFAMzMzMzN6c0CamZmZmfZ0QAAAAAAAc3ZAZmZmZmbvd0DNzMzMzGt5QDMzMzMz6HpAmpmZmZlkfEAAAAAAAOF9QGZmZmZmXX9AZmZmZuZsgECamZmZGSuBQM3MzMxM6YFAAAAAAICngkAzMzMzs2WDQGZmZmbmI4RAmpmZmRnihEDNzMzMTKCFQAAAAACAXoZAMzMzM7Mch0BmZmZm5tqHQJqZmZkZmYhAzczMzExXiUAAAAAAgBWKQDMzMzOz04pAZmZmZuaRi0CamZmZGVCMQM3MzMxMDo1AAAAAAIDMjUAzMzMzs4qOQGZmZmbmSI9A\",\"dtype\":\"float64\",\"shape\":[75]}},\"selected\":{\"id\":\"5b6c093a-95ed-4d20-9976-bd0a8b8d35b8\",\"type\":\"Selection\"},\"selection_policy\":{\"id\":\"ad50be0e-cb23-4d40-a272-b3ac263fdbdd\",\"type\":\"UnionRenderers\"}},\"id\":\"d8c1d875-b162-4764-a396-2dda7727ec86\",\"type\":\"ColumnDataSource\"},{\"attributes\":{\"bottom_units\":\"screen\",\"fill_alpha\":{\"value\":0.5},\"fill_color\":{\"value\":\"lightgrey\"},\"left_units\":\"screen\",\"level\":\"overlay\",\"line_alpha\":{\"value\":1.0},\"line_color\":{\"value\":\"black\"},\"line_dash\":[4,4],\"line_width\":{\"value\":2},\"plot\":null,\"render_mode\":\"css\",\"right_units\":\"screen\",\"top_units\":\"screen\"},\"id\":\"9e5ffabb-89be-4bbd-88dd-8039f4520c0c\",\"type\":\"BoxAnnotation\"},{\"attributes\":{},\"id\":\"987654ce-b05a-4fb0-bc59-4c5ed73bd494\",\"type\":\"PanTool\"},{\"attributes\":{},\"id\":\"81829650-8ade-48d2-9d5e-9a9a7e42958f\",\"type\":\"WheelZoomTool\"},{\"attributes\":{\"overlay\":{\"id\":\"9e5ffabb-89be-4bbd-88dd-8039f4520c0c\",\"type\":\"BoxAnnotation\"}},\"id\":\"4fd6b13d-f5a7-4837-86ee-e97aec71c702\",\"type\":\"BoxZoomTool\"},{\"attributes\":{},\"id\":\"6cfb7cb4-d7b8-449d-967e-441aada07585\",\"type\":\"SaveTool\"},{\"attributes\":{},\"id\":\"3812004c-8054-4cb7-ae70-d863d7d4c59d\",\"type\":\"ResetTool\"},{\"attributes\":{},\"id\":\"68608656-f15d-434a-abd8-c7c403bab941\",\"type\":\"HelpTool\"},{\"attributes\":{\"source\":{\"id\":\"a3cb72b9-84b5-42b8-877e-e522ed812f34\",\"type\":\"ColumnDataSource\"}},\"id\":\"395b38ff-1ecd-42af-8949-e25600377587\",\"type\":\"CDSView\"},{\"attributes\":{\"line_alpha\":0.6,\"line_color\":\"#984ea3\",\"line_width\":3,\"x\":{\"field\":\"x\"},\"y\":{\"field\":\"y\"}},\"id\":\"f25808d2-c9d8-421d-981a-d5cdf9a19ac1\",\"type\":\"Line\"},{\"attributes\":{\"fill_alpha\":{\"value\":0.1},\"fill_color\":{\"value\":\"#1f77b4\"},\"line_alpha\":{\"value\":0.1},\"line_color\":{\"value\":\"#1f77b4\"},\"x\":{\"field\":\"x\"},\"y\":{\"field\":\"y\"}},\"id\":\"288e335a-dea8-4dc4-aa59-95e44ca98c2b\",\"type\":\"Circle\"},{\"attributes\":{\"callback\":null,\"data\":{\"x\":{\"__ndarray__\":\"UdriDlsWy75na0QpEHDJvoXAPNXiSMW+uViL9GKQv77fheY60HSxvmMfIzr6olQ+xTHUBQ1utj73olHLPdDIPhy0SfUDstQ+PzazjIW53j7NtbFJ+WPlPsfIppWHmOw+1IRKAteP8j5afAlCbvr2PkJTTeqn2vo+prDSlpOQ/j6mkgNcPVABP39h8jxaiwM//8nSAjn+BT+7vJTvpa0IP4i4leI7UQs/qK43SnxPCT9FBaTWECwCP9y2oWYzJfc+PkSHW5J06z5QEUdRRIfcPl3SYlaq/sQ+/HqVhHIebr4fsiEVhGC3vt6YAun+ssK+2GbxcsYLyL43YQZx3/zLvhU/9+L/c82+CzT33DSIzL6JP5+fWsHKvhn3oOp7ksi+BqTpICSlxr6JPXaiiUnGvlQ0y/m3Sc++YHUV4kvg1L4j+3WyFx3bvmCsWttxKeC+zMinhgHE4r41QzG9tdjlvvWvbz3X8ui+JbyjW91Q6L5Y21JJQmTdvkDfdCHidsk+IGYPz+OL+D7TCxAEdqASP5G+ea0KEiU/Bsr6VPdOND8WFYHpx4xBP2Rvx7Xb4Us/wMfXHGu4VD9gOd7/MBJdP/MokRPRZ2M/YHJo+KvMaD9wO7quNHluP1b125/XFHI/GnRSOPPNdD/U6J7Eikt3P9lrDWsCenk/qKc4m0FNez8KYueJCsV8P1xikZBU4H0/tkj24m2gfj+2uoRRdfl+P6TZzEsEvX4/lCUnVYq9fT/0imdM4bp7P0CQI+lY9ng/0wFOSFImdj+arRygy4JzP7PzR6uyHHE/\",\"dtype\":\"float64\",\"shape\":[75]},\"y\":{\"__ndarray__\":\"GhExyth1ND/Sv8nbtpRIP2vylNV0PVE/aTum7souWD/At0SJ8fVgPw3Iuahxymc/MSNhhJWvcD/bTfBN02d3P2zb5nxnaoA/CD5h5MAGhz8NmeH1TyaQP+zrCsc9p5Y/LbKd76fGnz/bLW5ISEmmPww9YvTcQq8/JV2OstnstT8Er5Y7M8G+P0c+r3jqkcU/5h99k6ZBzj88bCIzFzjVP4enV8oyxN0//yH99nXg5D8qOpLLf0jtP5kqGJXUifQ/c9cS8kHP/D+/DpwzojQEQIEmwoanVwxA4lgXt9HgE0BSSZ2AJuIbQAMJih9jjiNA5q4l5INuK0AwTKYKRj0zQNv5fmq8/DpAaCJseHrtQkB/+zpwzoxKQM3MzMzMeFJAZmZmZmZqWEAAAAAAAFxeQM3MzMzMJmJAmpmZmZkfZUBmZmZmZhhoQDMzMzMzEWtAAAAAAAAKbkBmZmZmZoFwQM3MzMzM/XFAMzMzMzN6c0CamZmZmfZ0QAAAAAAAc3ZAZmZmZmbvd0DNzMzMzGt5QDMzMzMz6HpAmpmZmZlkfEAAAAAAAOF9QGZmZmZmXX9AZmZmZuZsgECamZmZGSuBQM3MzMxM6YFAAAAAAICngkAzMzMzs2WDQGZmZmbmI4RAmpmZmRnihEDNzMzMTKCFQAAAAACAXoZAMzMzM7Mch0BmZmZm5tqHQJqZmZkZmYhAzczMzExXiUAAAAAAgBWKQDMzMzOz04pAZmZmZuaRi0CamZmZGVCMQM3MzMxMDo1AAAAAAIDMjUAzMzMzs4qOQGZmZmbmSI9A\",\"dtype\":\"float64\",\"shape\":[75]}},\"selected\":{\"id\":\"5f2622b0-ba16-4529-94fd-2380eb74e5e2\",\"type\":\"Selection\"},\"selection_policy\":{\"id\":\"1d31954f-1c6e-4fd9-8c5a-03df0ac82db1\",\"type\":\"UnionRenderers\"}},\"id\":\"4ebc35ec-0e60-4bdd-ad4a-8ca7ef6e9508\",\"type\":\"ColumnDataSource\"},{\"attributes\":{\"line_color\":\"#4daf4a\",\"line_width\":1.5,\"x\":{\"field\":\"x\"},\"y\":{\"field\":\"y\"}},\"id\":\"52121857-339c-4fa6-a8c2-79518d683475\",\"type\":\"Line\"},{\"attributes\":{\"callback\":null,\"end\":0.01,\"start\":1020},\"id\":\"9750db7d-a1d1-4d7e-9efb-061fce5ff2a2\",\"type\":\"Range1d\"},{\"attributes\":{\"fill_alpha\":{\"value\":0.7},\"fill_color\":{\"value\":\"#4daf4a\"},\"line_alpha\":{\"value\":0.7},\"line_color\":{\"value\":\"#4daf4a\"},\"x\":{\"field\":\"x\"},\"y\":{\"field\":\"y\"}},\"id\":\"c9d5c995-c91b-4ed5-8ef2-a57a34c5fafa\",\"type\":\"Circle\"},{\"attributes\":{\"source\":{\"id\":\"e6a70952-1d67-4c93-9ff4-49e7cdbc88b3\",\"type\":\"ColumnDataSource\"}},\"id\":\"68b79526-606f-40f2-9256-f300eb528ce0\",\"type\":\"CDSView\"},{\"attributes\":{\"line_alpha\":0.1,\"line_color\":\"#1f77b4\",\"line_width\":1.5,\"x\":{\"field\":\"x\"},\"y\":{\"field\":\"y\"}},\"id\":\"0461b415-281e-4d2d-83e1-b6e4cb757ecd\",\"type\":\"Line\"},{\"attributes\":{\"line_alpha\":0.1,\"line_color\":\"#1f77b4\",\"line_width\":3,\"x\":{\"field\":\"x\"},\"y\":{\"field\":\"y\"}},\"id\":\"4f0a7d8f-a04a-41d7-97f9-fa0835715793\",\"type\":\"Line\"},{\"attributes\":{\"source\":{\"id\":\"4ebc35ec-0e60-4bdd-ad4a-8ca7ef6e9508\",\"type\":\"ColumnDataSource\"}},\"id\":\"2b0f9db7-28d2-49a5-8027-130562c980c5\",\"type\":\"CDSView\"},{\"attributes\":{\"fill_alpha\":{\"value\":0.1},\"fill_color\":{\"value\":\"#1f77b4\"},\"line_alpha\":{\"value\":0.1},\"line_color\":{\"value\":\"#1f77b4\"},\"x\":{\"field\":\"x\"},\"y\":{\"field\":\"y\"}},\"id\":\"c5dce0db-0d49-4337-a6f5-bd6438e2c3b9\",\"type\":\"Square\"},{\"attributes\":{\"fill_alpha\":{\"value\":0.7},\"fill_color\":{\"value\":\"#984ea3\"},\"line_alpha\":{\"value\":0.7},\"line_color\":{\"value\":\"#984ea3\"},\"x\":{\"field\":\"x\"},\"y\":{\"field\":\"y\"}},\"id\":\"3b3e166a-4c41-4886-b7b0-525dabbd1943\",\"type\":\"Square\"},{\"attributes\":{\"data_source\":{\"id\":\"a478f17d-a7fe-4f85-bbb0-92ee4c552b47\",\"type\":\"ColumnDataSource\"},\"glyph\":{\"id\":\"c9d5c995-c91b-4ed5-8ef2-a57a34c5fafa\",\"type\":\"Circle\"},\"hover_glyph\":null,\"muted_glyph\":null,\"nonselection_glyph\":{\"id\":\"288e335a-dea8-4dc4-aa59-95e44ca98c2b\",\"type\":\"Circle\"},\"selection_glyph\":null,\"view\":{\"id\":\"5a659abb-5e49-40a0-a3d6-ecdb41b076a1\",\"type\":\"CDSView\"}},\"id\":\"ef2deeb1-03b4-4be3-bffb-f4b10273dde2\",\"type\":\"GlyphRenderer\"},{\"attributes\":{\"data_source\":{\"id\":\"4ebc35ec-0e60-4bdd-ad4a-8ca7ef6e9508\",\"type\":\"ColumnDataSource\"},\"glyph\":{\"id\":\"3b3e166a-4c41-4886-b7b0-525dabbd1943\",\"type\":\"Square\"},\"hover_glyph\":null,\"muted_glyph\":null,\"nonselection_glyph\":{\"id\":\"c5dce0db-0d49-4337-a6f5-bd6438e2c3b9\",\"type\":\"Square\"},\"selection_glyph\":null,\"view\":{\"id\":\"2b0f9db7-28d2-49a5-8027-130562c980c5\",\"type\":\"CDSView\"}},\"id\":\"d06ae9d7-d97b-4ba6-96c4-70d31e364ee0\",\"type\":\"GlyphRenderer\"},{\"attributes\":{\"callback\":null,\"data\":{\"x\":{\"__ndarray__\":\"gt8+fao20b5aV9JUiZPOviAuL4vzHMW+Sa+q8t/Jsb79tP/BXdepPsYuzNHUgMk+FCLh31Jv2D451w7Cb1PjPhFEaSZG6es+fA+IzqIb8z6iyvAV3UH5Ppo3c+LTRwA/KoGlfe6TBD9feH6EjAEJP8L/KBj73ww/vdTaiy1IED+n0bQZC0sSP+jl/WIJfhQ/u3oCqRzlFj9tjJjol4MZPz3T1Gc2ERw/ehAr6WEMGj8CTTEKnfoSP40dK0fa1Ag/iq9Ox/TN/j7JZWMzNYHxPlY1Hu71seA+eiyYrvjpxj5ExOaeK98+Ps3gp5Yl0bu+4WaRRvQ7yL6w6AzR1CnPvlrWhgsEdNC+E11UCXYFzr6ueo7TesvJvgmoOyhmLMW+k2Vra1yCwb5cxbwJH3TAvkD+050BH8e+/jLREt37zr4rR40joz/UvmLK7qfZU9i+CIm6A/+H3L4HtatV5cbgvnuJJq0kF+O+9tk5kxd04L4C7j5XT6mxvuqGOvDG/Ok+VtVz4TbfBT+4DBEsb6YbP9gkrpy2uyw/TvU2JZNIOj/I7A7FoNpFP+q6Ki992FA/AQEDqRpiWD9JnssSrbVgP2g5q6Hv12U/D3XNE7Beaz8Ssg6wX4NwP5zaF1xsRHM/PB1J+3/SdT8yVPhFnxV4PygCdTsd/nk/DWTQYeuGez+fhK0spbR8PzyXQa+ai30/0tJ0uSoQfj/qwtiRjTh+P/IojKM21X0/YM/UvSe1fD8V8UgGgZh6Pwe7S2RSw3c/SLuai2LqdD/4vmJU7ERyP187qO7Qw28/\",\"dtype\":\"float64\",\"shape\":[75]},\"y\":{\"__ndarray__\":\"GhExyth1ND/Sv8nbtpRIP2vylNV0PVE/aTum7souWD/At0SJ8fVgPw3Iuahxymc/MSNhhJWvcD/bTfBN02d3P2zb5nxnaoA/CD5h5MAGhz8NmeH1TyaQP+zrCsc9p5Y/LbKd76fGnz/bLW5ISEmmPww9YvTcQq8/JV2OstnstT8Er5Y7M8G+P0c+r3jqkcU/5h99k6ZBzj88bCIzFzjVP4enV8oyxN0//yH99nXg5D8qOpLLf0jtP5kqGJXUifQ/c9cS8kHP/D+/DpwzojQEQIEmwoanVwxA4lgXt9HgE0BSSZ2AJuIbQAMJih9jjiNA5q4l5INuK0AwTKYKRj0zQNv5fmq8/DpAaCJseHrtQkB/+zpwzoxKQM3MzMzMeFJAZmZmZmZqWEAAAAAAAFxeQM3MzMzMJmJAmpmZmZkfZUBmZmZmZhhoQDMzMzMzEWtAAAAAAAAKbkBmZmZmZoFwQM3MzMzM/XFAMzMzMzN6c0CamZmZmfZ0QAAAAAAAc3ZAZmZmZmbvd0DNzMzMzGt5QDMzMzMz6HpAmpmZmZlkfEAAAAAAAOF9QGZmZmZmXX9AZmZmZuZsgECamZmZGSuBQM3MzMxM6YFAAAAAAICngkAzMzMzs2WDQGZmZmbmI4RAmpmZmRnihEDNzMzMTKCFQAAAAACAXoZAMzMzM7Mch0BmZmZm5tqHQJqZmZkZmYhAzczMzExXiUAAAAAAgBWKQDMzMzOz04pAZmZmZuaRi0CamZmZGVCMQM3MzMxMDo1AAAAAAIDMjUAzMzMzs4qOQGZmZmbmSI9A\",\"dtype\":\"float64\",\"shape\":[75]}},\"selected\":{\"id\":\"f0563e8b-7c57-4e47-aed0-2c11f777391f\",\"type\":\"Selection\"},\"selection_policy\":{\"id\":\"c4ba4a31-be96-4c04-9d36-726469988af4\",\"type\":\"UnionRenderers\"}},\"id\":\"a478f17d-a7fe-4f85-bbb0-92ee4c552b47\",\"type\":\"ColumnDataSource\"},{\"attributes\":{\"source\":{\"id\":\"0f51e164-bbc6-4bbe-a7c0-15fae0970ff5\",\"type\":\"ColumnDataSource\"}},\"id\":\"e7dd668a-2b04-4e77-9e17-3fd1276f16d8\",\"type\":\"CDSView\"},{\"attributes\":{\"data_source\":{\"id\":\"0f51e164-bbc6-4bbe-a7c0-15fae0970ff5\",\"type\":\"ColumnDataSource\"},\"glyph\":{\"id\":\"acc98ac2-e313-42f2-8fdf-327f7706509f\",\"type\":\"Line\"},\"hover_glyph\":null,\"muted_glyph\":null,\"nonselection_glyph\":{\"id\":\"a5b3ba8f-3b57-4b9d-89a4-ad3f9d545629\",\"type\":\"Line\"},\"selection_glyph\":null,\"view\":{\"id\":\"e7dd668a-2b04-4e77-9e17-3fd1276f16d8\",\"type\":\"CDSView\"}},\"id\":\"22ea2228-d320-4b56-bd5e-c19deabbbe0e\",\"type\":\"GlyphRenderer\"},{\"attributes\":{\"line_alpha\":0.1,\"line_color\":\"#1f77b4\",\"line_width\":1.5,\"x\":{\"field\":\"x\"},\"y\":{\"field\":\"y\"}},\"id\":\"a5b3ba8f-3b57-4b9d-89a4-ad3f9d545629\",\"type\":\"Line\"},{\"attributes\":{\"fill_alpha\":{\"value\":0.7},\"fill_color\":{\"value\":\"#984ea3\"},\"line_alpha\":{\"value\":0.7},\"line_color\":{\"value\":\"#984ea3\"},\"x\":{\"field\":\"x\"},\"y\":{\"field\":\"y\"}},\"id\":\"08da8ca1-4edc-4173-a7a0-0db30800aef5\",\"type\":\"Square\"},{\"attributes\":{\"callback\":null,\"data\":{\"x\":{\"__ndarray__\":\"UdriDlsWy75na0QpEHDJvoXAPNXiSMW+uViL9GKQv77fheY60HSxvmMfIzr6olQ+xTHUBQ1utj73olHLPdDIPhy0SfUDstQ+PzazjIW53j7NtbFJ+WPlPsfIppWHmOw+1IRKAteP8j5afAlCbvr2PkJTTeqn2vo+prDSlpOQ/j6mkgNcPVABP39h8jxaiwM//8nSAjn+BT+7vJTvpa0IP4i4leI7UQs/qK43SnxPCT9FBaTWECwCP9y2oWYzJfc+PkSHW5J06z5QEUdRRIfcPl3SYlaq/sQ+/HqVhHIebr4fsiEVhGC3vt6YAun+ssK+2GbxcsYLyL43YQZx3/zLvhU/9+L/c82+CzT33DSIzL6JP5+fWsHKvhn3oOp7ksi+BqTpICSlxr6JPXaiiUnGvlQ0y/m3Sc++YHUV4kvg1L4j+3WyFx3bvmCsWttxKeC+zMinhgHE4r41QzG9tdjlvvWvbz3X8ui+JbyjW91Q6L5Y21JJQmTdvkDfdCHidsk+IGYPz+OL+D7TCxAEdqASP5G+ea0KEiU/Bsr6VPdOND8WFYHpx4xBP2Rvx7Xb4Us/wMfXHGu4VD9gOd7/MBJdP/MokRPRZ2M/YHJo+KvMaD9wO7quNHluP1b125/XFHI/GnRSOPPNdD/U6J7Eikt3P9lrDWsCenk/qKc4m0FNez8KYueJCsV8P1xikZBU4H0/tkj24m2gfj+2uoRRdfl+P6TZzEsEvX4/lCUnVYq9fT/0imdM4bp7P0CQI+lY9ng/0wFOSFImdj+arRygy4JzP7PzR6uyHHE/\",\"dtype\":\"float64\",\"shape\":[75]},\"y\":{\"__ndarray__\":\"GhExyth1ND/Sv8nbtpRIP2vylNV0PVE/aTum7souWD/At0SJ8fVgPw3Iuahxymc/MSNhhJWvcD/bTfBN02d3P2zb5nxnaoA/CD5h5MAGhz8NmeH1TyaQP+zrCsc9p5Y/LbKd76fGnz/bLW5ISEmmPww9YvTcQq8/JV2OstnstT8Er5Y7M8G+P0c+r3jqkcU/5h99k6ZBzj88bCIzFzjVP4enV8oyxN0//yH99nXg5D8qOpLLf0jtP5kqGJXUifQ/c9cS8kHP/D+/DpwzojQEQIEmwoanVwxA4lgXt9HgE0BSSZ2AJuIbQAMJih9jjiNA5q4l5INuK0AwTKYKRj0zQNv5fmq8/DpAaCJseHrtQkB/+zpwzoxKQM3MzMzMeFJAZmZmZmZqWEAAAAAAAFxeQM3MzMzMJmJAmpmZmZkfZUBmZmZmZhhoQDMzMzMzEWtAAAAAAAAKbkBmZmZmZoFwQM3MzMzM/XFAMzMzMzN6c0CamZmZmfZ0QAAAAAAAc3ZAZmZmZmbvd0DNzMzMzGt5QDMzMzMz6HpAmpmZmZlkfEAAAAAAAOF9QGZmZmZmXX9AZmZmZuZsgECamZmZGSuBQM3MzMxM6YFAAAAAAICngkAzMzMzs2WDQGZmZmbmI4RAmpmZmRnihEDNzMzMTKCFQAAAAACAXoZAMzMzM7Mch0BmZmZm5tqHQJqZmZkZmYhAzczMzExXiUAAAAAAgBWKQDMzMzOz04pAZmZmZuaRi0CamZmZGVCMQM3MzMxMDo1AAAAAAIDMjUAzMzMzs4qOQGZmZmbmSI9A\",\"dtype\":\"float64\",\"shape\":[75]}},\"selected\":{\"id\":\"8ca75184-0caf-4746-94d3-1bbd3d09bfce\",\"type\":\"Selection\"},\"selection_policy\":{\"id\":\"94509de5-1493-494e-afae-afe9f8ab2a60\",\"type\":\"UnionRenderers\"}},\"id\":\"97e48251-0418-454e-b4b5-f2aed36a3cc1\",\"type\":\"ColumnDataSource\"},{\"attributes\":{\"source\":{\"id\":\"97e48251-0418-454e-b4b5-f2aed36a3cc1\",\"type\":\"ColumnDataSource\"}},\"id\":\"8f0a135f-3526-4982-a556-8103e6819436\",\"type\":\"CDSView\"},{\"attributes\":{\"line_color\":\"#4daf4a\",\"line_width\":1.5,\"x\":{\"field\":\"x\"},\"y\":{\"field\":\"y\"}},\"id\":\"acc98ac2-e313-42f2-8fdf-327f7706509f\",\"type\":\"Line\"},{\"attributes\":{\"fill_alpha\":{\"value\":0.7},\"fill_color\":{\"value\":\"#377eb8\"},\"line_alpha\":{\"value\":0.7},\"line_color\":{\"value\":\"#377eb8\"},\"x\":{\"field\":\"x\"},\"y\":{\"field\":\"y\"}},\"id\":\"8f3c965f-9421-4a95-b833-78507c24053d\",\"type\":\"Triangle\"},{\"attributes\":{\"line_alpha\":0.6,\"line_color\":\"#984ea3\",\"line_width\":3,\"x\":{\"field\":\"x\"},\"y\":{\"field\":\"y\"}},\"id\":\"a16f95f1-f64c-4cc7-8db6-e5c839192303\",\"type\":\"Line\"},{\"attributes\":{\"line_alpha\":0.1,\"line_color\":\"#1f77b4\",\"line_width\":3,\"x\":{\"field\":\"x\"},\"y\":{\"field\":\"y\"}},\"id\":\"2baf8e86-d6ad-4121-b06a-3b1d68736be5\",\"type\":\"Line\"},{\"attributes\":{\"data_source\":{\"id\":\"a5c28333-057c-44e0-b4aa-388f3b5755b0\",\"type\":\"ColumnDataSource\"},\"glyph\":{\"id\":\"623a7e43-7d2b-45cf-877b-e9ad0be54879\",\"type\":\"Line\"},\"hover_glyph\":null,\"muted_glyph\":null,\"nonselection_glyph\":{\"id\":\"6cb7f8d5-fb9f-48b4-adcd-a455669bce1f\",\"type\":\"Line\"},\"selection_glyph\":null,\"view\":{\"id\":\"26d162c7-5ba7-4d46-bd54-40fad94f25dc\",\"type\":\"CDSView\"}},\"id\":\"35609b6a-2f00-40f1-94d7-5762785afa58\",\"type\":\"GlyphRenderer\"},{\"attributes\":{\"callback\":null,\"data\":{\"x\":{\"__ndarray__\":\"vgwsvSBVyb5m088+rQ/IvmIJn47n0cS+2PVSKh15wL6Oq2XjpbO1vpWJNRi9vJ2+fXwCfMLNpD61ra7FMTjAPoz40usDs80+VKYGa2wH1z7JibxIaHHgPoA2hXmvWOY+CRX4LKhY7T67SsBuuk3yPsWXVbpHfvU+JfKTAqaM+D4XmTyUuOX7PiyMtHi6k/8+jMrsXyjPAT9p6UVKuwYEPxtAzY3INAY/Kr5Stx+MBD/3edYm3U79PtoOO+bjbvI+r9ZkewZk5T7v37gq3S7VPq42o43J97k+Hq5+8xGfob5hMXCr8Oa6vpSfkWVIF8O+mzRVHdRix74pwyEfmI/KvoFOWq60zsu+fOnUOWA1y74qAA2eRvDJvnr5kv0YWMi+nslHKKHuxr7Uy/SPv8rGvkrqnLnUAtC+/JHAmpRV1b5M8Iv6QLDbvj/UOKiideC+xGv4MEcd4759i1vppT3mvsNOFEyseOm+qk1wYLfi6b7y0K3v2T7jvkyEK5yWQr2+hci6b+kL7D4thN2WePkJPze0C3YOlR8/wImAyEfDLz/cN9N7ikw8PyBNnUYVFEc/YI2ZJ0OMUT/2/CTP2ShZP5h+AfXRJmE/5lUULcRcZj8+qwodFAVsP23fI6OK8HA/a6e7qQfXcz+4VUU+TJd2P0u2mUUKF3k/FnnF0zNEez8EEDWQORZ9P/ond2GkhX4/kEfrDruNfz95nrzrExCAP+84N0FqB4A/tkRJaI0xfz+tLuWMAUp9P8wrWqbGl3o/jstInuPTdz+hXfzrYDZ1PxXqS+Bm0nI/\",\"dtype\":\"float64\",\"shape\":[75]},\"y\":{\"__ndarray__\":\"GhExyth1ND/Sv8nbtpRIP2vylNV0PVE/aTum7souWD/At0SJ8fVgPw3Iuahxymc/MSNhhJWvcD/bTfBN02d3P2zb5nxnaoA/CD5h5MAGhz8NmeH1TyaQP+zrCsc9p5Y/LbKd76fGnz/bLW5ISEmmPww9YvTcQq8/JV2OstnstT8Er5Y7M8G+P0c+r3jqkcU/5h99k6ZBzj88bCIzFzjVP4enV8oyxN0//yH99nXg5D8qOpLLf0jtP5kqGJXUifQ/c9cS8kHP/D+/DpwzojQEQIEmwoanVwxA4lgXt9HgE0BSSZ2AJuIbQAMJih9jjiNA5q4l5INuK0AwTKYKRj0zQNv5fmq8/DpAaCJseHrtQkB/+zpwzoxKQM3MzMzMeFJAZmZmZmZqWEAAAAAAAFxeQM3MzMzMJmJAmpmZmZkfZUBmZmZmZhhoQDMzMzMzEWtAAAAAAAAKbkBmZmZmZoFwQM3MzMzM/XFAMzMzMzN6c0CamZmZmfZ0QAAAAAAAc3ZAZmZmZmbvd0DNzMzMzGt5QDMzMzMz6HpAmpmZmZlkfEAAAAAAAOF9QGZmZmZmXX9AZmZmZuZsgECamZmZGSuBQM3MzMxM6YFAAAAAAICngkAzMzMzs2WDQGZmZmbmI4RAmpmZmRnihEDNzMzMTKCFQAAAAACAXoZAMzMzM7Mch0BmZmZm5tqHQJqZmZkZmYhAzczMzExXiUAAAAAAgBWKQDMzMzOz04pAZmZmZuaRi0CamZmZGVCMQM3MzMxMDo1AAAAAAIDMjUAzMzMzs4qOQGZmZmbmSI9A\",\"dtype\":\"float64\",\"shape\":[75]}},\"selected\":{\"id\":\"152befbe-2534-4ca7-8d80-6c777e3ef24d\",\"type\":\"Selection\"},\"selection_policy\":{\"id\":\"1c7f3b14-645e-4a0b-9c48-7f2bde095b42\",\"type\":\"UnionRenderers\"}},\"id\":\"a5c28333-057c-44e0-b4aa-388f3b5755b0\",\"type\":\"ColumnDataSource\"},{\"attributes\":{\"data_source\":{\"id\":\"34bee90a-7c8e-4712-9c87-100dcf3a54ca\",\"type\":\"ColumnDataSource\"},\"glyph\":{\"id\":\"8f3c965f-9421-4a95-b833-78507c24053d\",\"type\":\"Triangle\"},\"hover_glyph\":null,\"muted_glyph\":null,\"nonselection_glyph\":{\"id\":\"f5a2e22f-e5bc-4f21-a2d5-7ddb43261aba\",\"type\":\"Triangle\"},\"selection_glyph\":null,\"view\":{\"id\":\"24c305c7-18d8-4708-af85-1c870315bded\",\"type\":\"CDSView\"}},\"id\":\"b0e5ab15-8551-4bf1-8e04-f36dc4585387\",\"type\":\"GlyphRenderer\"},{\"attributes\":{\"callback\":null,\"data\":{\"x\":{\"__ndarray__\":\"gt8+fao20b5aV9JUiZPOviAuL4vzHMW+Sa+q8t/Jsb79tP/BXdepPsYuzNHUgMk+FCLh31Jv2D451w7Cb1PjPhFEaSZG6es+fA+IzqIb8z6iyvAV3UH5Ppo3c+LTRwA/KoGlfe6TBD9feH6EjAEJP8L/KBj73ww/vdTaiy1IED+n0bQZC0sSP+jl/WIJfhQ/u3oCqRzlFj9tjJjol4MZPz3T1Gc2ERw/ehAr6WEMGj8CTTEKnfoSP40dK0fa1Ag/iq9Ox/TN/j7JZWMzNYHxPlY1Hu71seA+eiyYrvjpxj5ExOaeK98+Ps3gp5Yl0bu+4WaRRvQ7yL6w6AzR1CnPvlrWhgsEdNC+E11UCXYFzr6ueo7TesvJvgmoOyhmLMW+k2Vra1yCwb5cxbwJH3TAvkD+050BH8e+/jLREt37zr4rR40joz/UvmLK7qfZU9i+CIm6A/+H3L4HtatV5cbgvnuJJq0kF+O+9tk5kxd04L4C7j5XT6mxvuqGOvDG/Ok+VtVz4TbfBT+4DBEsb6YbP9gkrpy2uyw/TvU2JZNIOj/I7A7FoNpFP+q6Ki992FA/AQEDqRpiWD9JnssSrbVgP2g5q6Hv12U/D3XNE7Beaz8Ssg6wX4NwP5zaF1xsRHM/PB1J+3/SdT8yVPhFnxV4PygCdTsd/nk/DWTQYeuGez+fhK0spbR8PzyXQa+ai30/0tJ0uSoQfj/qwtiRjTh+P/IojKM21X0/YM/UvSe1fD8V8UgGgZh6Pwe7S2RSw3c/SLuai2LqdD/4vmJU7ERyP187qO7Qw28/\",\"dtype\":\"float64\",\"shape\":[75]},\"y\":{\"__ndarray__\":\"GhExyth1ND/Sv8nbtpRIP2vylNV0PVE/aTum7souWD/At0SJ8fVgPw3Iuahxymc/MSNhhJWvcD/bTfBN02d3P2zb5nxnaoA/CD5h5MAGhz8NmeH1TyaQP+zrCsc9p5Y/LbKd76fGnz/bLW5ISEmmPww9YvTcQq8/JV2OstnstT8Er5Y7M8G+P0c+r3jqkcU/5h99k6ZBzj88bCIzFzjVP4enV8oyxN0//yH99nXg5D8qOpLLf0jtP5kqGJXUifQ/c9cS8kHP/D+/DpwzojQEQIEmwoanVwxA4lgXt9HgE0BSSZ2AJuIbQAMJih9jjiNA5q4l5INuK0AwTKYKRj0zQNv5fmq8/DpAaCJseHrtQkB/+zpwzoxKQM3MzMzMeFJAZmZmZmZqWEAAAAAAAFxeQM3MzMzMJmJAmpmZmZkfZUBmZmZmZhhoQDMzMzMzEWtAAAAAAAAKbkBmZmZmZoFwQM3MzMzM/XFAMzMzMzN6c0CamZmZmfZ0QAAAAAAAc3ZAZmZmZmbvd0DNzMzMzGt5QDMzMzMz6HpAmpmZmZlkfEAAAAAAAOF9QGZmZmZmXX9AZmZmZuZsgECamZmZGSuBQM3MzMxM6YFAAAAAAICngkAzMzMzs2WDQGZmZmbmI4RAmpmZmRnihEDNzMzMTKCFQAAAAACAXoZAMzMzM7Mch0BmZmZm5tqHQJqZmZkZmYhAzczMzExXiUAAAAAAgBWKQDMzMzOz04pAZmZmZuaRi0CamZmZGVCMQM3MzMxMDo1AAAAAAIDMjUAzMzMzs4qOQGZmZmbmSI9A\",\"dtype\":\"float64\",\"shape\":[75]}},\"selected\":{\"id\":\"fe5dca19-8435-4db4-8ddd-492ef572bbc5\",\"type\":\"Selection\"},\"selection_policy\":{\"id\":\"a6666a73-95ba-4be1-9bac-61c321ddc8f6\",\"type\":\"UnionRenderers\"}},\"id\":\"0f51e164-bbc6-4bbe-a7c0-15fae0970ff5\",\"type\":\"ColumnDataSource\"},{\"attributes\":{\"callback\":null,\"data\":{\"x\":{\"__ndarray__\":\"UdriDlsWy75na0QpEHDJvoXAPNXiSMW+uViL9GKQv77fheY60HSxvmMfIzr6olQ+xTHUBQ1utj73olHLPdDIPhy0SfUDstQ+PzazjIW53j7NtbFJ+WPlPsfIppWHmOw+1IRKAteP8j5afAlCbvr2PkJTTeqn2vo+prDSlpOQ/j6mkgNcPVABP39h8jxaiwM//8nSAjn+BT+7vJTvpa0IP4i4leI7UQs/qK43SnxPCT9FBaTWECwCP9y2oWYzJfc+PkSHW5J06z5QEUdRRIfcPl3SYlaq/sQ+/HqVhHIebr4fsiEVhGC3vt6YAun+ssK+2GbxcsYLyL43YQZx3/zLvhU/9+L/c82+CzT33DSIzL6JP5+fWsHKvhn3oOp7ksi+BqTpICSlxr6JPXaiiUnGvlQ0y/m3Sc++YHUV4kvg1L4j+3WyFx3bvmCsWttxKeC+zMinhgHE4r41QzG9tdjlvvWvbz3X8ui+JbyjW91Q6L5Y21JJQmTdvkDfdCHidsk+IGYPz+OL+D7TCxAEdqASP5G+ea0KEiU/Bsr6VPdOND8WFYHpx4xBP2Rvx7Xb4Us/wMfXHGu4VD9gOd7/MBJdP/MokRPRZ2M/YHJo+KvMaD9wO7quNHluP1b125/XFHI/GnRSOPPNdD/U6J7Eikt3P9lrDWsCenk/qKc4m0FNez8KYueJCsV8P1xikZBU4H0/tkj24m2gfj+2uoRRdfl+P6TZzEsEvX4/lCUnVYq9fT/0imdM4bp7P0CQI+lY9ng/0wFOSFImdj+arRygy4JzP7PzR6uyHHE/\",\"dtype\":\"float64\",\"shape\":[75]},\"y\":{\"__ndarray__\":\"GhExyth1ND/Sv8nbtpRIP2vylNV0PVE/aTum7souWD/At0SJ8fVgPw3Iuahxymc/MSNhhJWvcD/bTfBN02d3P2zb5nxnaoA/CD5h5MAGhz8NmeH1TyaQP+zrCsc9p5Y/LbKd76fGnz/bLW5ISEmmPww9YvTcQq8/JV2OstnstT8Er5Y7M8G+P0c+r3jqkcU/5h99k6ZBzj88bCIzFzjVP4enV8oyxN0//yH99nXg5D8qOpLLf0jtP5kqGJXUifQ/c9cS8kHP/D+/DpwzojQEQIEmwoanVwxA4lgXt9HgE0BSSZ2AJuIbQAMJih9jjiNA5q4l5INuK0AwTKYKRj0zQNv5fmq8/DpAaCJseHrtQkB/+zpwzoxKQM3MzMzMeFJAZmZmZmZqWEAAAAAAAFxeQM3MzMzMJmJAmpmZmZkfZUBmZmZmZhhoQDMzMzMzEWtAAAAAAAAKbkBmZmZmZoFwQM3MzMzM/XFAMzMzMzN6c0CamZmZmfZ0QAAAAAAAc3ZAZmZmZmbvd0DNzMzMzGt5QDMzMzMz6HpAmpmZmZlkfEAAAAAAAOF9QGZmZmZmXX9AZmZmZuZsgECamZmZGSuBQM3MzMxM6YFAAAAAAICngkAzMzMzs2WDQGZmZmbmI4RAmpmZmRnihEDNzMzMTKCFQAAAAACAXoZAMzMzM7Mch0BmZmZm5tqHQJqZmZkZmYhAzczMzExXiUAAAAAAgBWKQDMzMzOz04pAZmZmZuaRi0CamZmZGVCMQM3MzMxMDo1AAAAAAIDMjUAzMzMzs4qOQGZmZmbmSI9A\",\"dtype\":\"float64\",\"shape\":[75]}},\"selected\":{\"id\":\"dc46c470-744c-4d77-8ab0-304b6bc314c1\",\"type\":\"Selection\"},\"selection_policy\":{\"id\":\"d4c0720b-7878-499c-b931-6d9bb2567a1b\",\"type\":\"UnionRenderers\"}},\"id\":\"99bab697-9ced-40e6-b00d-8def93e64395\",\"type\":\"ColumnDataSource\"},{\"attributes\":{\"source\":{\"id\":\"a478f17d-a7fe-4f85-bbb0-92ee4c552b47\",\"type\":\"ColumnDataSource\"}},\"id\":\"5a659abb-5e49-40a0-a3d6-ecdb41b076a1\",\"type\":\"CDSView\"},{\"attributes\":{\"fill_alpha\":{\"value\":0.1},\"fill_color\":{\"value\":\"#1f77b4\"},\"line_alpha\":{\"value\":0.1},\"line_color\":{\"value\":\"#1f77b4\"},\"x\":{\"field\":\"x\"},\"y\":{\"field\":\"y\"}},\"id\":\"f5a2e22f-e5bc-4f21-a2d5-7ddb43261aba\",\"type\":\"Triangle\"},{\"attributes\":{\"children\":[{\"id\":\"15e68889-48f0-4993-b9c1-bf45e5fa088b\",\"type\":\"Row\"}]},\"id\":\"51a68711-7eb2-4eb4-8c5b-a5b7296ab3f5\",\"type\":\"Column\"},{\"attributes\":{\"data_source\":{\"id\":\"97e48251-0418-454e-b4b5-f2aed36a3cc1\",\"type\":\"ColumnDataSource\"},\"glyph\":{\"id\":\"08da8ca1-4edc-4173-a7a0-0db30800aef5\",\"type\":\"Square\"},\"hover_glyph\":null,\"muted_glyph\":null,\"nonselection_glyph\":{\"id\":\"54cca314-1212-4a9e-92a3-e79cbff223f5\",\"type\":\"Square\"},\"selection_glyph\":null,\"view\":{\"id\":\"8f0a135f-3526-4982-a556-8103e6819436\",\"type\":\"CDSView\"}},\"id\":\"98620af9-fdba-4c8e-a3d1-a329d7052219\",\"type\":\"GlyphRenderer\"},{\"attributes\":{\"fill_alpha\":{\"value\":0.1},\"fill_color\":{\"value\":\"#1f77b4\"},\"line_alpha\":{\"value\":0.1},\"line_color\":{\"value\":\"#1f77b4\"},\"x\":{\"field\":\"x\"},\"y\":{\"field\":\"y\"}},\"id\":\"54cca314-1212-4a9e-92a3-e79cbff223f5\",\"type\":\"Square\"},{\"attributes\":{\"data_source\":{\"id\":\"99bab697-9ced-40e6-b00d-8def93e64395\",\"type\":\"ColumnDataSource\"},\"glyph\":{\"id\":\"a16f95f1-f64c-4cc7-8db6-e5c839192303\",\"type\":\"Line\"},\"hover_glyph\":null,\"muted_glyph\":null,\"nonselection_glyph\":{\"id\":\"2baf8e86-d6ad-4121-b06a-3b1d68736be5\",\"type\":\"Line\"},\"selection_glyph\":null,\"view\":{\"id\":\"d4d5e79d-d877-474f-a97b-5da1be424b1a\",\"type\":\"CDSView\"}},\"id\":\"1a36be35-fdc7-4519-83a0-7ef6001c6d32\",\"type\":\"GlyphRenderer\"},{\"attributes\":{\"callback\":null,\"data\":{\"x\":{\"__ndarray__\":\"vgwsvSBVyb5m088+rQ/IvmIJn47n0cS+2PVSKh15wL6Oq2XjpbO1vpWJNRi9vJ2+fXwCfMLNpD61ra7FMTjAPoz40usDs80+VKYGa2wH1z7JibxIaHHgPoA2hXmvWOY+CRX4LKhY7T67SsBuuk3yPsWXVbpHfvU+JfKTAqaM+D4XmTyUuOX7PiyMtHi6k/8+jMrsXyjPAT9p6UVKuwYEPxtAzY3INAY/Kr5Stx+MBD/3edYm3U79PtoOO+bjbvI+r9ZkewZk5T7v37gq3S7VPq42o43J97k+Hq5+8xGfob5hMXCr8Oa6vpSfkWVIF8O+mzRVHdRix74pwyEfmI/KvoFOWq60zsu+fOnUOWA1y74qAA2eRvDJvnr5kv0YWMi+nslHKKHuxr7Uy/SPv8rGvkrqnLnUAtC+/JHAmpRV1b5M8Iv6QLDbvj/UOKiideC+xGv4MEcd4759i1vppT3mvsNOFEyseOm+qk1wYLfi6b7y0K3v2T7jvkyEK5yWQr2+hci6b+kL7D4thN2WePkJPze0C3YOlR8/wImAyEfDLz/cN9N7ikw8PyBNnUYVFEc/YI2ZJ0OMUT/2/CTP2ShZP5h+AfXRJmE/5lUULcRcZj8+qwodFAVsP23fI6OK8HA/a6e7qQfXcz+4VUU+TJd2P0u2mUUKF3k/FnnF0zNEez8EEDWQORZ9P/ond2GkhX4/kEfrDruNfz95nrzrExCAP+84N0FqB4A/tkRJaI0xfz+tLuWMAUp9P8wrWqbGl3o/jstInuPTdz+hXfzrYDZ1PxXqS+Bm0nI/\",\"dtype\":\"float64\",\"shape\":[75]},\"y\":{\"__ndarray__\":\"GhExyth1ND/Sv8nbtpRIP2vylNV0PVE/aTum7souWD/At0SJ8fVgPw3Iuahxymc/MSNhhJWvcD/bTfBN02d3P2zb5nxnaoA/CD5h5MAGhz8NmeH1TyaQP+zrCsc9p5Y/LbKd76fGnz/bLW5ISEmmPww9YvTcQq8/JV2OstnstT8Er5Y7M8G+P0c+r3jqkcU/5h99k6ZBzj88bCIzFzjVP4enV8oyxN0//yH99nXg5D8qOpLLf0jtP5kqGJXUifQ/c9cS8kHP/D+/DpwzojQEQIEmwoanVwxA4lgXt9HgE0BSSZ2AJuIbQAMJih9jjiNA5q4l5INuK0AwTKYKRj0zQNv5fmq8/DpAaCJseHrtQkB/+zpwzoxKQM3MzMzMeFJAZmZmZmZqWEAAAAAAAFxeQM3MzMzMJmJAmpmZmZkfZUBmZmZmZhhoQDMzMzMzEWtAAAAAAAAKbkBmZmZmZoFwQM3MzMzM/XFAMzMzMzN6c0CamZmZmfZ0QAAAAAAAc3ZAZmZmZmbvd0DNzMzMzGt5QDMzMzMz6HpAmpmZmZlkfEAAAAAAAOF9QGZmZmZmXX9AZmZmZuZsgECamZmZGSuBQM3MzMxM6YFAAAAAAICngkAzMzMzs2WDQGZmZmbmI4RAmpmZmRnihEDNzMzMTKCFQAAAAACAXoZAMzMzM7Mch0BmZmZm5tqHQJqZmZkZmYhAzczMzExXiUAAAAAAgBWKQDMzMzOz04pAZmZmZuaRi0CamZmZGVCMQM3MzMxMDo1AAAAAAIDMjUAzMzMzs4qOQGZmZmbmSI9A\",\"dtype\":\"float64\",\"shape\":[75]}},\"selected\":{\"id\":\"9364c5f0-f48e-4bfd-bf5d-e699eb225493\",\"type\":\"Selection\"},\"selection_policy\":{\"id\":\"0ee28b74-f379-45fa-a642-484ad576e626\",\"type\":\"UnionRenderers\"}},\"id\":\"34bee90a-7c8e-4712-9c87-100dcf3a54ca\",\"type\":\"ColumnDataSource\"},{\"attributes\":{\"line_alpha\":0.3,\"line_color\":\"#377eb8\",\"line_width\":2,\"x\":{\"field\":\"x\"},\"y\":{\"field\":\"y\"}},\"id\":\"623a7e43-7d2b-45cf-877b-e9ad0be54879\",\"type\":\"Line\"},{\"attributes\":{\"source\":{\"id\":\"99bab697-9ced-40e6-b00d-8def93e64395\",\"type\":\"ColumnDataSource\"}},\"id\":\"d4d5e79d-d877-474f-a97b-5da1be424b1a\",\"type\":\"CDSView\"},{\"attributes\":{\"line_alpha\":0.1,\"line_color\":\"#1f77b4\",\"line_width\":2,\"x\":{\"field\":\"x\"},\"y\":{\"field\":\"y\"}},\"id\":\"6cb7f8d5-fb9f-48b4-adcd-a455669bce1f\",\"type\":\"Line\"},{\"attributes\":{\"source\":{\"id\":\"34bee90a-7c8e-4712-9c87-100dcf3a54ca\",\"type\":\"ColumnDataSource\"}},\"id\":\"24c305c7-18d8-4708-af85-1c870315bded\",\"type\":\"CDSView\"},{\"attributes\":{\"source\":{\"id\":\"a5c28333-057c-44e0-b4aa-388f3b5755b0\",\"type\":\"ColumnDataSource\"}},\"id\":\"26d162c7-5ba7-4d46-bd54-40fad94f25dc\",\"type\":\"CDSView\"},{\"attributes\":{\"plot\":null,\"text\":\"\"},\"id\":\"154b5c3f-c18a-4db8-9772-ec8a4c24a2fe\",\"type\":\"Title\"},{\"attributes\":{\"children\":[{\"id\":\"d61bba43-5c8b-4cd6-b558-5753fbcf5955\",\"subtype\":\"Figure\",\"type\":\"Plot\"},{\"id\":\"a47f6d1e-545f-4230-8997-a3c291ce4424\",\"subtype\":\"Figure\",\"type\":\"Plot\"}]},\"id\":\"15e68889-48f0-4993-b9c1-bf45e5fa088b\",\"type\":\"Row\"},{\"attributes\":{\"label\":{\"value\":\"CRD\"},\"renderers\":[{\"id\":\"ef2deeb1-03b4-4be3-bffb-f4b10273dde2\",\"type\":\"GlyphRenderer\"},{\"id\":\"22ea2228-d320-4b56-bd5e-c19deabbbe0e\",\"type\":\"GlyphRenderer\"}]},\"id\":\"bb0585c7-2556-4bc2-81f4-729db7eb903e\",\"type\":\"LegendItem\"},{\"attributes\":{\"ticker\":null},\"id\":\"1b491ef9-62ef-4c2d-855d-32f4124f7393\",\"type\":\"LogTickFormatter\"},{\"attributes\":{\"label\":{\"value\":\"WGT igg=1\"},\"renderers\":[{\"id\":\"98620af9-fdba-4c8e-a3d1-a329d7052219\",\"type\":\"GlyphRenderer\"},{\"id\":\"1a36be35-fdc7-4519-83a0-7ef6001c6d32\",\"type\":\"GlyphRenderer\"}]},\"id\":\"17ca17e0-9afb-41a9-b116-00a3626054d1\",\"type\":\"LegendItem\"},{\"attributes\":{},\"id\":\"6599f40b-d979-466b-a322-5326865fbf4b\",\"type\":\"Selection\"},{\"attributes\":{\"label\":{\"value\":\"WGT igg=10\"},\"renderers\":[{\"id\":\"b0e5ab15-8551-4bf1-8e04-f36dc4585387\",\"type\":\"GlyphRenderer\"},{\"id\":\"35609b6a-2f00-40f1-94d7-5762785afa58\",\"type\":\"GlyphRenderer\"}]},\"id\":\"37b360a8-5736-4c25-985a-be72ed61f1db\",\"type\":\"LegendItem\"},{\"attributes\":{},\"id\":\"5af4c64d-ce2a-4b30-b994-2c7084978251\",\"type\":\"BasicTickFormatter\"},{\"attributes\":{},\"id\":\"716f3541-1255-4284-b416-74ac928afece\",\"type\":\"BasicTickFormatter\"},{\"attributes\":{},\"id\":\"8776a552-8eff-43db-a594-b84a10847fe6\",\"type\":\"UnionRenderers\"},{\"attributes\":{},\"id\":\"0085a949-e5da-49b7-8735-16e2adcb6148\",\"type\":\"Selection\"},{\"attributes\":{},\"id\":\"99f72906-9db0-4c11-b827-3bb4c820f40d\",\"type\":\"UnionRenderers\"},{\"attributes\":{},\"id\":\"5f2622b0-ba16-4529-94fd-2380eb74e5e2\",\"type\":\"Selection\"},{\"attributes\":{},\"id\":\"1d31954f-1c6e-4fd9-8c5a-03df0ac82db1\",\"type\":\"UnionRenderers\"},{\"attributes\":{},\"id\":\"9f87b927-f607-41e0-baa1-c9298bb79bf9\",\"type\":\"Selection\"},{\"attributes\":{},\"id\":\"0274d3a5-1e4d-4da7-8d75-0fdd824f3207\",\"type\":\"UnionRenderers\"},{\"attributes\":{},\"id\":\"5b6c093a-95ed-4d20-9976-bd0a8b8d35b8\",\"type\":\"Selection\"},{\"attributes\":{},\"id\":\"ad50be0e-cb23-4d40-a272-b3ac263fdbdd\",\"type\":\"UnionRenderers\"},{\"attributes\":{},\"id\":\"363d1349-d524-4e11-b80b-602531d11325\",\"type\":\"Selection\"},{\"attributes\":{},\"id\":\"d9294d36-b46c-4366-9b23-86583f866829\",\"type\":\"UnionRenderers\"},{\"attributes\":{},\"id\":\"8239eecd-d014-4c18-bab8-916559379a7c\",\"type\":\"BasicTickFormatter\"},{\"attributes\":{\"fill_alpha\":{\"value\":0.1},\"fill_color\":{\"value\":\"#1f77b4\"},\"line_alpha\":{\"value\":0.1},\"line_color\":{\"value\":\"#1f77b4\"},\"x\":{\"field\":\"x\"},\"y\":{\"field\":\"y\"}},\"id\":\"28554353-3349-4feb-a185-65549ac1096f\",\"type\":\"Circle\"},{\"attributes\":{\"dimension\":1,\"plot\":{\"id\":\"d61bba43-5c8b-4cd6-b558-5753fbcf5955\",\"subtype\":\"Figure\",\"type\":\"Plot\"},\"ticker\":{\"id\":\"4858d391-f805-491b-8720-db0f9c18abb2\",\"type\":\"BasicTicker\"}},\"id\":\"d16ba6c4-924b-4d03-a78b-75e5ab2b93a5\",\"type\":\"Grid\"},{\"attributes\":{},\"id\":\"4858d391-f805-491b-8720-db0f9c18abb2\",\"type\":\"BasicTicker\"},{\"attributes\":{\"axis_label\":\"pressure [mb]\",\"formatter\":{\"id\":\"5af4c64d-ce2a-4b30-b994-2c7084978251\",\"type\":\"BasicTickFormatter\"},\"plot\":{\"id\":\"d61bba43-5c8b-4cd6-b558-5753fbcf5955\",\"subtype\":\"Figure\",\"type\":\"Plot\"},\"ticker\":{\"id\":\"4858d391-f805-491b-8720-db0f9c18abb2\",\"type\":\"BasicTicker\"}},\"id\":\"918311ec-679a-4dba-a4f6-4937352bb368\",\"type\":\"LinearAxis\"},{\"attributes\":{\"callback\":null,\"data\":{\"x\":{\"__ndarray__\":\"vgwsvSBVyb5m088+rQ/IvmIJn47n0cS+2PVSKh15wL6Oq2XjpbO1vpWJNRi9vJ2+fXwCfMLNpD61ra7FMTjAPoz40usDs80+VKYGa2wH1z7JibxIaHHgPoA2hXmvWOY+CRX4LKhY7T67SsBuuk3yPsWXVbpHfvU+JfKTAqaM+D4XmTyUuOX7PiyMtHi6k/8+jMrsXyjPAT9p6UVKuwYEPxtAzY3INAY/Kr5Stx+MBD/3edYm3U79PtoOO+bjbvI+r9ZkewZk5T7v37gq3S7VPq42o43J97k+Hq5+8xGfob5hMXCr8Oa6vpSfkWVIF8O+mzRVHdRix74pwyEfmI/KvoFOWq60zsu+fOnUOWA1y74qAA2eRvDJvnr5kv0YWMi+nslHKKHuxr7Uy/SPv8rGvkrqnLnUAtC+/JHAmpRV1b5M8Iv6QLDbvj/UOKiideC+xGv4MEcd4759i1vppT3mvsNOFEyseOm+qk1wYLfi6b7y0K3v2T7jvkyEK5yWQr2+hci6b+kL7D4thN2WePkJPze0C3YOlR8/wImAyEfDLz/cN9N7ikw8PyBNnUYVFEc/YI2ZJ0OMUT/2/CTP2ShZP5h+AfXRJmE/5lUULcRcZj8+qwodFAVsP23fI6OK8HA/a6e7qQfXcz+4VUU+TJd2P0u2mUUKF3k/FnnF0zNEez8EEDWQORZ9P/ond2GkhX4/kEfrDruNfz95nrzrExCAP+84N0FqB4A/tkRJaI0xfz+tLuWMAUp9P8wrWqbGl3o/jstInuPTdz+hXfzrYDZ1PxXqS+Bm0nI/\",\"dtype\":\"float64\",\"shape\":[75]},\"y\":{\"__ndarray__\":\"GhExyth1ND/Sv8nbtpRIP2vylNV0PVE/aTum7souWD/At0SJ8fVgPw3Iuahxymc/MSNhhJWvcD/bTfBN02d3P2zb5nxnaoA/CD5h5MAGhz8NmeH1TyaQP+zrCsc9p5Y/LbKd76fGnz/bLW5ISEmmPww9YvTcQq8/JV2OstnstT8Er5Y7M8G+P0c+r3jqkcU/5h99k6ZBzj88bCIzFzjVP4enV8oyxN0//yH99nXg5D8qOpLLf0jtP5kqGJXUifQ/c9cS8kHP/D+/DpwzojQEQIEmwoanVwxA4lgXt9HgE0BSSZ2AJuIbQAMJih9jjiNA5q4l5INuK0AwTKYKRj0zQNv5fmq8/DpAaCJseHrtQkB/+zpwzoxKQM3MzMzMeFJAZmZmZmZqWEAAAAAAAFxeQM3MzMzMJmJAmpmZmZkfZUBmZmZmZhhoQDMzMzMzEWtAAAAAAAAKbkBmZmZmZoFwQM3MzMzM/XFAMzMzMzN6c0CamZmZmfZ0QAAAAAAAc3ZAZmZmZmbvd0DNzMzMzGt5QDMzMzMz6HpAmpmZmZlkfEAAAAAAAOF9QGZmZmZmXX9AZmZmZuZsgECamZmZGSuBQM3MzMxM6YFAAAAAAICngkAzMzMzs2WDQGZmZmbmI4RAmpmZmRnihEDNzMzMTKCFQAAAAACAXoZAMzMzM7Mch0BmZmZm5tqHQJqZmZkZmYhAzczMzExXiUAAAAAAgBWKQDMzMzOz04pAZmZmZuaRi0CamZmZGVCMQM3MzMxMDo1AAAAAAIDMjUAzMzMzs4qOQGZmZmbmSI9A\",\"dtype\":\"float64\",\"shape\":[75]}},\"selected\":{\"id\":\"9f87b927-f607-41e0-baa1-c9298bb79bf9\",\"type\":\"Selection\"},\"selection_policy\":{\"id\":\"0274d3a5-1e4d-4da7-8d75-0fdd824f3207\",\"type\":\"UnionRenderers\"}},\"id\":\"c2c978f7-3c85-4a42-bf59-788c03fba729\",\"type\":\"ColumnDataSource\"},{\"attributes\":{\"plot\":{\"id\":\"d61bba43-5c8b-4cd6-b558-5753fbcf5955\",\"subtype\":\"Figure\",\"type\":\"Plot\"},\"ticker\":{\"id\":\"30b04266-99bc-4722-a4a8-279ec30a542a\",\"type\":\"BasicTicker\"}},\"id\":\"91b7c173-250f-4c11-9313-1cf7f14ea738\",\"type\":\"Grid\"},{\"attributes\":{},\"id\":\"30b04266-99bc-4722-a4a8-279ec30a542a\",\"type\":\"BasicTicker\"},{\"attributes\":{\"axis_label\":\"cooling rate [K/day]\",\"formatter\":{\"id\":\"716f3541-1255-4284-b416-74ac928afece\",\"type\":\"BasicTickFormatter\"},\"plot\":{\"id\":\"d61bba43-5c8b-4cd6-b558-5753fbcf5955\",\"subtype\":\"Figure\",\"type\":\"Plot\"},\"ticker\":{\"id\":\"30b04266-99bc-4722-a4a8-279ec30a542a\",\"type\":\"BasicTicker\"}},\"id\":\"a745fe48-bbb5-447a-ba62-54c4204d870f\",\"type\":\"LinearAxis\"},{\"attributes\":{},\"id\":\"c05d667f-a7d7-4316-b5df-ae0eda3ae574\",\"type\":\"LinearScale\"},{\"attributes\":{\"callback\":null,\"end\":0.00792172109221,\"start\":-9.089831320999999e-05},\"id\":\"d2eecbf6-91fa-43a8-be5d-acc8303936e3\",\"type\":\"Range1d\"},{\"attributes\":{},\"id\":\"4f5f4e4a-8acf-4a3b-ab89-1cb2b2e6b718\",\"type\":\"LinearScale\"},{\"attributes\":{\"above\":[{\"id\":\"96ef351e-da09-4f8d-a424-0f201f6219c6\",\"type\":\"Legend\"}],\"below\":[{\"id\":\"99e66359-e72b-40ef-98b2-2e710ded9b76\",\"type\":\"LinearAxis\"}],\"left\":[{\"id\":\"114e82c6-587c-4fde-9382-7772586a5243\",\"type\":\"LogAxis\"}],\"plot_height\":500,\"plot_width\":400,\"renderers\":[{\"id\":\"99e66359-e72b-40ef-98b2-2e710ded9b76\",\"type\":\"LinearAxis\"},{\"id\":\"7b3c2ed7-27b6-4965-b004-d55a241640c4\",\"type\":\"Grid\"},{\"id\":\"114e82c6-587c-4fde-9382-7772586a5243\",\"type\":\"LogAxis\"},{\"id\":\"c7733c1e-299c-41e5-a179-64d3fad34029\",\"type\":\"Grid\"},{\"id\":\"9e5ffabb-89be-4bbd-88dd-8039f4520c0c\",\"type\":\"BoxAnnotation\"},{\"id\":\"ef2deeb1-03b4-4be3-bffb-f4b10273dde2\",\"type\":\"GlyphRenderer\"},{\"id\":\"22ea2228-d320-4b56-bd5e-c19deabbbe0e\",\"type\":\"GlyphRenderer\"},{\"id\":\"98620af9-fdba-4c8e-a3d1-a329d7052219\",\"type\":\"GlyphRenderer\"},{\"id\":\"1a36be35-fdc7-4519-83a0-7ef6001c6d32\",\"type\":\"GlyphRenderer\"},{\"id\":\"b0e5ab15-8551-4bf1-8e04-f36dc4585387\",\"type\":\"GlyphRenderer\"},{\"id\":\"35609b6a-2f00-40f1-94d7-5762785afa58\",\"type\":\"GlyphRenderer\"},{\"id\":\"96ef351e-da09-4f8d-a424-0f201f6219c6\",\"type\":\"Legend\"}],\"title\":{\"id\":\"be3b9839-f74e-4c05-9d37-2595dc876fe8\",\"type\":\"Title\"},\"toolbar\":{\"id\":\"b13459ac-79be-4a59-a3fa-5a8b262701a1\",\"type\":\"Toolbar\"},\"toolbar_location\":null,\"x_range\":{\"id\":\"5dc84676-29af-45f2-bc71-ac2618122cd8\",\"type\":\"Range1d\"},\"x_scale\":{\"id\":\"42de6326-29b4-4b9e-ab3d-14d42d5c7625\",\"type\":\"LinearScale\"},\"y_range\":{\"id\":\"9750db7d-a1d1-4d7e-9efb-061fce5ff2a2\",\"type\":\"Range1d\"},\"y_scale\":{\"id\":\"e2e191f4-5743-433e-8be6-a6396c59ce5f\",\"type\":\"LogScale\"}},\"id\":\"a47f6d1e-545f-4230-8997-a3c291ce4424\",\"subtype\":\"Figure\",\"type\":\"Plot\"},{\"attributes\":{\"items\":[{\"id\":\"3b19d6ba-5627-465b-a4f3-b0efd5a89784\",\"type\":\"LegendItem\"},{\"id\":\"062f4b53-5e44-4276-ba76-5e1a08b39c2b\",\"type\":\"LegendItem\"},{\"id\":\"50500bee-576b-483d-a17d-4e42a04f53fe\",\"type\":\"LegendItem\"}],\"label_text_font_size\":{\"value\":\"8pt\"},\"location\":\"top_center\",\"orientation\":\"horizontal\",\"plot\":{\"id\":\"d61bba43-5c8b-4cd6-b558-5753fbcf5955\",\"subtype\":\"Figure\",\"type\":\"Plot\"}},\"id\":\"962fed74-b172-46cf-800b-a19c7fcee918\",\"type\":\"Legend\"},{\"attributes\":{\"active_drag\":\"auto\",\"active_inspect\":\"auto\",\"active_scroll\":\"auto\",\"active_tap\":\"auto\",\"tools\":[{\"id\":\"e6d144c4-c9f4-4464-ada4-5aa7fb3b6d97\",\"type\":\"PanTool\"},{\"id\":\"0a75dcd8-49bc-400f-a0bc-0e831c7a70fd\",\"type\":\"WheelZoomTool\"},{\"id\":\"5efd48e6-fc60-45c2-bff7-f2194cb2e21b\",\"type\":\"BoxZoomTool\"},{\"id\":\"fb7a8ffb-fc67-4060-86b9-f567e2456208\",\"type\":\"SaveTool\"},{\"id\":\"95c221aa-ef73-466a-a686-0886a2950ada\",\"type\":\"ResetTool\"},{\"id\":\"8f4d6484-bb09-4459-8b51-b7677c6a794b\",\"type\":\"HelpTool\"}]},\"id\":\"9c70edba-114d-4d9d-a5c4-b024531cb8a1\",\"type\":\"Toolbar\"},{\"attributes\":{\"above\":[{\"id\":\"962fed74-b172-46cf-800b-a19c7fcee918\",\"type\":\"Legend\"}],\"below\":[{\"id\":\"a745fe48-bbb5-447a-ba62-54c4204d870f\",\"type\":\"LinearAxis\"}],\"left\":[{\"id\":\"918311ec-679a-4dba-a4f6-4937352bb368\",\"type\":\"LinearAxis\"}],\"plot_height\":500,\"plot_width\":400,\"renderers\":[{\"id\":\"a745fe48-bbb5-447a-ba62-54c4204d870f\",\"type\":\"LinearAxis\"},{\"id\":\"91b7c173-250f-4c11-9313-1cf7f14ea738\",\"type\":\"Grid\"},{\"id\":\"918311ec-679a-4dba-a4f6-4937352bb368\",\"type\":\"LinearAxis\"},{\"id\":\"d16ba6c4-924b-4d03-a78b-75e5ab2b93a5\",\"type\":\"Grid\"},{\"id\":\"a691ead0-f94c-46b0-a800-73b9e6dea87a\",\"type\":\"BoxAnnotation\"},{\"id\":\"4c46a74a-1597-4dc0-9d5c-b0a22501ca21\",\"type\":\"GlyphRenderer\"},{\"id\":\"b98bfc0e-d03e-4796-b4d0-4412dfd2c576\",\"type\":\"GlyphRenderer\"},{\"id\":\"d06ae9d7-d97b-4ba6-96c4-70d31e364ee0\",\"type\":\"GlyphRenderer\"},{\"id\":\"c58a8b2e-ecc0-4a3b-b9fb-26d65bd9c8ac\",\"type\":\"GlyphRenderer\"},{\"id\":\"bc52bb44-660f-4f82-b1fa-93d4e570ae6e\",\"type\":\"GlyphRenderer\"},{\"id\":\"97c57ceb-e162-4c23-97f9-6f1ec71f5786\",\"type\":\"GlyphRenderer\"},{\"id\":\"962fed74-b172-46cf-800b-a19c7fcee918\",\"type\":\"Legend\"}],\"title\":{\"id\":\"154b5c3f-c18a-4db8-9772-ec8a4c24a2fe\",\"type\":\"Title\"},\"toolbar\":{\"id\":\"9c70edba-114d-4d9d-a5c4-b024531cb8a1\",\"type\":\"Toolbar\"},\"toolbar_location\":null,\"x_range\":{\"id\":\"d2eecbf6-91fa-43a8-be5d-acc8303936e3\",\"type\":\"Range1d\"},\"x_scale\":{\"id\":\"4f5f4e4a-8acf-4a3b-ab89-1cb2b2e6b718\",\"type\":\"LinearScale\"},\"y_range\":{\"id\":\"e3551cf6-f148-43d1-846c-1a3a163cf062\",\"type\":\"Range1d\"},\"y_scale\":{\"id\":\"c05d667f-a7d7-4316-b5df-ae0eda3ae574\",\"type\":\"LinearScale\"}},\"id\":\"d61bba43-5c8b-4cd6-b558-5753fbcf5955\",\"subtype\":\"Figure\",\"type\":\"Plot\"},{\"attributes\":{\"fill_alpha\":{\"value\":0.7},\"fill_color\":{\"value\":\"#377eb8\"},\"line_alpha\":{\"value\":0.7},\"line_color\":{\"value\":\"#377eb8\"},\"x\":{\"field\":\"x\"},\"y\":{\"field\":\"y\"}},\"id\":\"4de9076f-a816-48d2-a2f4-0406411cbea0\",\"type\":\"Triangle\"},{\"attributes\":{\"fill_alpha\":{\"value\":0.1},\"fill_color\":{\"value\":\"#1f77b4\"},\"line_alpha\":{\"value\":0.1},\"line_color\":{\"value\":\"#1f77b4\"},\"x\":{\"field\":\"x\"},\"y\":{\"field\":\"y\"}},\"id\":\"654bea3c-d602-421d-a12e-77c340425080\",\"type\":\"Triangle\"},{\"attributes\":{\"source\":{\"id\":\"d8c1d875-b162-4764-a396-2dda7727ec86\",\"type\":\"ColumnDataSource\"}},\"id\":\"cce4fd07-fe26-4c02-aea4-08921133154d\",\"type\":\"CDSView\"},{\"attributes\":{\"data_source\":{\"id\":\"d8c1d875-b162-4764-a396-2dda7727ec86\",\"type\":\"ColumnDataSource\"},\"glyph\":{\"id\":\"f25808d2-c9d8-421d-981a-d5cdf9a19ac1\",\"type\":\"Line\"},\"hover_glyph\":null,\"muted_glyph\":null,\"nonselection_glyph\":{\"id\":\"4f0a7d8f-a04a-41d7-97f9-fa0835715793\",\"type\":\"Line\"},\"selection_glyph\":null,\"view\":{\"id\":\"cce4fd07-fe26-4c02-aea4-08921133154d\",\"type\":\"CDSView\"}},\"id\":\"c58a8b2e-ecc0-4a3b-b9fb-26d65bd9c8ac\",\"type\":\"GlyphRenderer\"},{\"attributes\":{},\"id\":\"f0563e8b-7c57-4e47-aed0-2c11f777391f\",\"type\":\"Selection\"},{\"attributes\":{\"toolbar\":{\"id\":\"59fdfbd1-560f-4c16-90bf-d7dec79da4f2\",\"type\":\"ProxyToolbar\"},\"toolbar_location\":\"above\"},\"id\":\"6a104c5c-a92e-49fd-af6b-9eedc8a89c19\",\"type\":\"ToolbarBox\"},{\"attributes\":{},\"id\":\"c4ba4a31-be96-4c04-9d36-726469988af4\",\"type\":\"UnionRenderers\"},{\"attributes\":{},\"id\":\"8ca75184-0caf-4746-94d3-1bbd3d09bfce\",\"type\":\"Selection\"},{\"attributes\":{\"callback\":null,\"end\":0.01,\"start\":1020},\"id\":\"e3551cf6-f148-43d1-846c-1a3a163cf062\",\"type\":\"Range1d\"},{\"attributes\":{},\"id\":\"94509de5-1493-494e-afae-afe9f8ab2a60\",\"type\":\"UnionRenderers\"},{\"attributes\":{},\"id\":\"fe5dca19-8435-4db4-8ddd-492ef572bbc5\",\"type\":\"Selection\"},{\"attributes\":{},\"id\":\"a6666a73-95ba-4be1-9bac-61c321ddc8f6\",\"type\":\"UnionRenderers\"},{\"attributes\":{},\"id\":\"9364c5f0-f48e-4bfd-bf5d-e699eb225493\",\"type\":\"Selection\"},{\"attributes\":{\"fill_alpha\":{\"value\":0.7},\"fill_color\":{\"value\":\"#4daf4a\"},\"line_alpha\":{\"value\":0.7},\"line_color\":{\"value\":\"#4daf4a\"},\"x\":{\"field\":\"x\"},\"y\":{\"field\":\"y\"}},\"id\":\"b670d901-46db-40c1-b877-df66998e4ccd\",\"type\":\"Circle\"},{\"attributes\":{},\"id\":\"0ee28b74-f379-45fa-a642-484ad576e626\",\"type\":\"UnionRenderers\"},{\"attributes\":{},\"id\":\"dc46c470-744c-4d77-8ab0-304b6bc314c1\",\"type\":\"Selection\"},{\"attributes\":{},\"id\":\"d4c0720b-7878-499c-b931-6d9bb2567a1b\",\"type\":\"UnionRenderers\"},{\"attributes\":{\"tools\":[{\"id\":\"e6d144c4-c9f4-4464-ada4-5aa7fb3b6d97\",\"type\":\"PanTool\"},{\"id\":\"0a75dcd8-49bc-400f-a0bc-0e831c7a70fd\",\"type\":\"WheelZoomTool\"},{\"id\":\"5efd48e6-fc60-45c2-bff7-f2194cb2e21b\",\"type\":\"BoxZoomTool\"},{\"id\":\"fb7a8ffb-fc67-4060-86b9-f567e2456208\",\"type\":\"SaveTool\"},{\"id\":\"95c221aa-ef73-466a-a686-0886a2950ada\",\"type\":\"ResetTool\"},{\"id\":\"8f4d6484-bb09-4459-8b51-b7677c6a794b\",\"type\":\"HelpTool\"},{\"id\":\"987654ce-b05a-4fb0-bc59-4c5ed73bd494\",\"type\":\"PanTool\"},{\"id\":\"81829650-8ade-48d2-9d5e-9a9a7e42958f\",\"type\":\"WheelZoomTool\"},{\"id\":\"4fd6b13d-f5a7-4837-86ee-e97aec71c702\",\"type\":\"BoxZoomTool\"},{\"id\":\"6cfb7cb4-d7b8-449d-967e-441aada07585\",\"type\":\"SaveTool\"},{\"id\":\"3812004c-8054-4cb7-ae70-d863d7d4c59d\",\"type\":\"ResetTool\"},{\"id\":\"68608656-f15d-434a-abd8-c7c403bab941\",\"type\":\"HelpTool\"}]},\"id\":\"59fdfbd1-560f-4c16-90bf-d7dec79da4f2\",\"type\":\"ProxyToolbar\"},{\"attributes\":{},\"id\":\"152befbe-2534-4ca7-8d80-6c777e3ef24d\",\"type\":\"Selection\"},{\"attributes\":{},\"id\":\"1c7f3b14-645e-4a0b-9c48-7f2bde095b42\",\"type\":\"UnionRenderers\"},{\"attributes\":{\"children\":[{\"id\":\"6a104c5c-a92e-49fd-af6b-9eedc8a89c19\",\"type\":\"ToolbarBox\"},{\"id\":\"51a68711-7eb2-4eb4-8c5b-a5b7296ab3f5\",\"type\":\"Column\"}]},\"id\":\"121de86b-eb81-4952-b547-091f75f6b262\",\"type\":\"Column\"},{\"attributes\":{\"data_source\":{\"id\":\"e6a70952-1d67-4c93-9ff4-49e7cdbc88b3\",\"type\":\"ColumnDataSource\"},\"glyph\":{\"id\":\"b670d901-46db-40c1-b877-df66998e4ccd\",\"type\":\"Circle\"},\"hover_glyph\":null,\"muted_glyph\":null,\"nonselection_glyph\":{\"id\":\"28554353-3349-4feb-a185-65549ac1096f\",\"type\":\"Circle\"},\"selection_glyph\":null,\"view\":{\"id\":\"68b79526-606f-40f2-9256-f300eb528ce0\",\"type\":\"CDSView\"}},\"id\":\"4c46a74a-1597-4dc0-9d5c-b0a22501ca21\",\"type\":\"GlyphRenderer\"}],\"root_ids\":[\"121de86b-eb81-4952-b547-091f75f6b262\"]},\"title\":\"Bokeh Application\",\"version\":\"0.12.16\"}};\n",
       "  var render_items = [{\"docid\":\"ea7b13bd-3089-4fff-950b-5a1eb5242687\",\"elementid\":\"552fbe9f-1328-453e-8920-37d5e9fbfc7f\",\"modelid\":\"121de86b-eb81-4952-b547-091f75f6b262\"}];\n",
       "  root.Bokeh.embed.embed_items_notebook(docs_json, render_items);\n",
       "\n",
       "  }\n",
       "  if (root.Bokeh !== undefined) {\n",
       "    embed_document(root);\n",
       "  } else {\n",
       "    var attempts = 0;\n",
       "    var timer = setInterval(function(root) {\n",
       "      if (root.Bokeh !== undefined) {\n",
       "        embed_document(root);\n",
       "        clearInterval(timer);\n",
       "      }\n",
       "      attempts++;\n",
       "      if (attempts > 100) {\n",
       "        console.log(\"Bokeh: ERROR: Unable to run BokehJS code because BokehJS library is missing\")\n",
       "        clearInterval(timer);\n",
       "      }\n",
       "    }, 10, root)\n",
       "  }\n",
       "})(window);"
      ],
      "application/vnd.bokehjs_exec.v0+json": ""
     },
     "metadata": {
      "application/vnd.bokehjs_exec.v0+json": {
       "id": "121de86b-eb81-4952-b547-091f75f6b262"
      }
     },
     "output_type": "display_data"
    },
    {
     "data": {
      "text/markdown": [
       "*FIGURE.* Cooling rates. g=1"
      ],
      "text/plain": [
       "<IPython.core.display.Markdown object>"
      ]
     },
     "metadata": {},
     "output_type": "display_data"
    },
    {
     "data": {
      "text/html": [
       "\n",
       "<div class=\"bk-root\">\n",
       "    <div class=\"bk-plotdiv\" id=\"7ad290b2-e5e1-4e72-951b-ef5e4201faa2\"></div>\n",
       "</div>"
      ]
     },
     "metadata": {},
     "output_type": "display_data"
    },
    {
     "data": {
      "application/javascript": [
       "(function(root) {\n",
       "  function embed_document(root) {\n",
       "    \n",
       "  var docs_json = {\"f327c0c3-eb86-4c97-bed0-7c5306225b4f\":{\"roots\":{\"references\":[{\"attributes\":{},\"id\":\"a97c1298-f688-40a0-8a50-fe5ba437b7ba\",\"type\":\"BasicTickFormatter\"},{\"attributes\":{},\"id\":\"a99be4a2-aa45-4995-86a6-9a4943add3e3\",\"type\":\"UnionRenderers\"},{\"attributes\":{},\"id\":\"974ffaee-2580-4221-81c7-04beca81ebb3\",\"type\":\"Selection\"},{\"attributes\":{\"overlay\":{\"id\":\"94d3f6c2-7a5b-474e-acba-2c97d0181cac\",\"type\":\"BoxAnnotation\"}},\"id\":\"e3ba697c-f73b-4f33-a623-39f68f557b15\",\"type\":\"BoxZoomTool\"},{\"attributes\":{},\"id\":\"cc62f986-fafe-48df-8960-4be012810840\",\"type\":\"UnionRenderers\"},{\"attributes\":{},\"id\":\"2ab39a89-35f9-47ac-92f0-8c3059de806f\",\"type\":\"Selection\"},{\"attributes\":{},\"id\":\"abaa6169-3e7d-4c5b-8f45-a2389dc37222\",\"type\":\"UnionRenderers\"},{\"attributes\":{},\"id\":\"fbc3e4d2-c873-443a-b865-9a8a4cc6412f\",\"type\":\"WheelZoomTool\"},{\"attributes\":{},\"id\":\"e1e40106-b9c2-4a8d-9570-964c4a065407\",\"type\":\"Selection\"},{\"attributes\":{},\"id\":\"57959f45-bc0a-4bf2-949c-afe50fbe3ccb\",\"type\":\"ResetTool\"},{\"attributes\":{},\"id\":\"4581fa1e-4e6a-4f09-a234-a18a1a6c2c0d\",\"type\":\"UnionRenderers\"},{\"attributes\":{\"toolbar\":{\"id\":\"0e4756cd-7df3-40fb-aa09-a30ebb7dc3b1\",\"type\":\"ProxyToolbar\"},\"toolbar_location\":\"above\"},\"id\":\"0ed93201-ab82-4a7f-be71-af5a20bfc684\",\"type\":\"ToolbarBox\"},{\"attributes\":{},\"id\":\"c1bb0e86-25f7-422f-b63b-17bc641b2159\",\"type\":\"SaveTool\"},{\"attributes\":{},\"id\":\"68ecd649-20e1-45ec-bebc-820c98ec3f7f\",\"type\":\"Selection\"},{\"attributes\":{},\"id\":\"71d638d7-23fb-44a9-8f4d-a2d2f8f86ac0\",\"type\":\"PanTool\"},{\"attributes\":{},\"id\":\"8deb92c4-6cca-4674-b213-e84150cbb6e2\",\"type\":\"BasicTickFormatter\"},{\"attributes\":{\"plot\":null,\"text\":\"\"},\"id\":\"779a715c-87ff-4af4-9afd-f5bc00b30907\",\"type\":\"Title\"},{\"attributes\":{},\"id\":\"ea4398ab-7e79-41a6-9bd6-2835d5d08070\",\"type\":\"UnionRenderers\"},{\"attributes\":{},\"id\":\"e18d4ea2-9290-455f-bdd6-f573582d26dd\",\"type\":\"Selection\"},{\"attributes\":{},\"id\":\"a8ed48be-f5dd-4a4a-a431-a94723088c5f\",\"type\":\"Selection\"},{\"attributes\":{\"ticker\":null},\"id\":\"fa2cff48-2e31-4a89-8f4f-e3157326c955\",\"type\":\"LogTickFormatter\"},{\"attributes\":{},\"id\":\"32aa4881-2db5-408d-90db-5317fa716f32\",\"type\":\"UnionRenderers\"},{\"attributes\":{},\"id\":\"8f342399-898e-4442-b653-71c98e3edd71\",\"type\":\"Selection\"},{\"attributes\":{},\"id\":\"684c70b6-5a29-471a-a3ef-ca949cb22956\",\"type\":\"UnionRenderers\"},{\"attributes\":{},\"id\":\"670aa450-b0d7-4ded-a198-4babbb079e3d\",\"type\":\"Selection\"},{\"attributes\":{},\"id\":\"b40e80bc-a6f0-4ca6-8871-32dd20492a1a\",\"type\":\"UnionRenderers\"},{\"attributes\":{\"tools\":[{\"id\":\"71d638d7-23fb-44a9-8f4d-a2d2f8f86ac0\",\"type\":\"PanTool\"},{\"id\":\"fbc3e4d2-c873-443a-b865-9a8a4cc6412f\",\"type\":\"WheelZoomTool\"},{\"id\":\"e3ba697c-f73b-4f33-a623-39f68f557b15\",\"type\":\"BoxZoomTool\"},{\"id\":\"c1bb0e86-25f7-422f-b63b-17bc641b2159\",\"type\":\"SaveTool\"},{\"id\":\"57959f45-bc0a-4bf2-949c-afe50fbe3ccb\",\"type\":\"ResetTool\"},{\"id\":\"e2f37175-4662-49a6-b44b-3a87abda222a\",\"type\":\"HelpTool\"},{\"id\":\"4d394459-40b4-4195-ae4a-f8de23a8f2ca\",\"type\":\"PanTool\"},{\"id\":\"efbbf830-e770-45bf-990a-2fe103b7c78a\",\"type\":\"WheelZoomTool\"},{\"id\":\"db99ec21-0af8-4dfa-aaaf-7bbcec0698df\",\"type\":\"BoxZoomTool\"},{\"id\":\"f34c4e42-1849-498c-b6a9-fd168d8bd50b\",\"type\":\"SaveTool\"},{\"id\":\"cb961cf7-ff2a-4d06-830d-7f8bdd8ecae8\",\"type\":\"ResetTool\"},{\"id\":\"21575328-f1b4-4d9d-85eb-b56f6dfcafa8\",\"type\":\"HelpTool\"}]},\"id\":\"0e4756cd-7df3-40fb-aa09-a30ebb7dc3b1\",\"type\":\"ProxyToolbar\"},{\"attributes\":{},\"id\":\"fdda01a0-bbac-4e29-9c0f-9cddea78c956\",\"type\":\"Selection\"},{\"attributes\":{},\"id\":\"60b5c972-c252-4e28-897a-39cd0100ebc6\",\"type\":\"UnionRenderers\"},{\"attributes\":{\"children\":[{\"id\":\"0ed93201-ab82-4a7f-be71-af5a20bfc684\",\"type\":\"ToolbarBox\"},{\"id\":\"b7421883-b53a-446a-9719-e8218a7235ae\",\"type\":\"Column\"}]},\"id\":\"a14ee90d-60a1-4d75-a68e-8ee4ca8463b1\",\"type\":\"Column\"},{\"attributes\":{\"num_minor_ticks\":10},\"id\":\"7fdc6699-2c34-4c91-8d16-f1f0d30098d7\",\"type\":\"LogTicker\"},{\"attributes\":{\"line_color\":\"#4daf4a\",\"line_width\":1.5,\"x\":{\"field\":\"x\"},\"y\":{\"field\":\"y\"}},\"id\":\"de79f0b7-d076-487d-a8af-f0fd41b345f9\",\"type\":\"Line\"},{\"attributes\":{\"callback\":null,\"data\":{\"x\":{\"__ndarray__\":\"WWYLT/Dql76duTEY1OOWvoFQJ1dNRJS+A+xeNpSzkL63y7YuogKIvr99n8a4p3e+piRdis02Xj6vucOiDZmHPukEkWsvSZg++OQ5pnb2oz4uYqS2y7OtPpG/f2Ff47Q+ldAoSeBNvD40Lil9oiHCPqa4kgLYusU+RgF3ytxCyT7eSKPDsDfNPuxFwtM91dA+HOOB7jdV0z7VP3tkKCTWPldpDsbo99g+P4W5zw7Y1j78v23xQQvPPtYOTfvVa8I+cG6PrH4ntD5mN9V3iYiiPjSih3wjHoI+RtPNeGzUe77D7FRO8LqOvmvhTPL495S+q+Fz9y3Bmb4s8d81OwievhwQYazlh6C+pDaVyxRmob55lhMoRiqivp8egSS69qK+s0L78fbQo773PTST42+lvhNLvtybK7C+P5dOmfD7tr4m436JHai/vsKbZlju4sO+0+9My2FRyL6/svdrrrTNvqTzAH9C29G+eNCQ/q1Z074No06AY1LQvu/je3KKVLu+8/wWoaGMyz62b+y3ZgPxPj9kZ1DL6gY/U7FqlDSoGD+0CG5dDD8nP14V438C+zM/47PEmX/iPz+UOLMlQNBHP2I//B4r71A/NfmOY+kYVz9Pyf27szdeP2FCUxaIFWM/D/zA/nhiZz+fDxaf0NxrP/5BDfA3MnA/0H8OOZZscj+BRwLzKpB0P8+2jrkIlnY/TJyvbslleD+A4i6gKvZ5P/4kKW52Ens/V2h/49SOez9tKgdBayh7P8c8q3uW9nk/1S/MmjyLeD9M6sLOHxp3P++rrJWbtHU/\",\"dtype\":\"float64\",\"shape\":[75]},\"y\":{\"__ndarray__\":\"GhExyth1ND/Sv8nbtpRIP2vylNV0PVE/aTum7souWD/At0SJ8fVgPw3Iuahxymc/MSNhhJWvcD/bTfBN02d3P2zb5nxnaoA/CD5h5MAGhz8NmeH1TyaQP+zrCsc9p5Y/LbKd76fGnz/bLW5ISEmmPww9YvTcQq8/JV2OstnstT8Er5Y7M8G+P0c+r3jqkcU/5h99k6ZBzj88bCIzFzjVP4enV8oyxN0//yH99nXg5D8qOpLLf0jtP5kqGJXUifQ/c9cS8kHP/D+/DpwzojQEQIEmwoanVwxA4lgXt9HgE0BSSZ2AJuIbQAMJih9jjiNA5q4l5INuK0AwTKYKRj0zQNv5fmq8/DpAaCJseHrtQkB/+zpwzoxKQM3MzMzMeFJAZmZmZmZqWEAAAAAAAFxeQM3MzMzMJmJAmpmZmZkfZUBmZmZmZhhoQDMzMzMzEWtAAAAAAAAKbkBmZmZmZoFwQM3MzMzM/XFAMzMzMzN6c0CamZmZmfZ0QAAAAAAAc3ZAZmZmZmbvd0DNzMzMzGt5QDMzMzMz6HpAmpmZmZlkfEAAAAAAAOF9QGZmZmZmXX9AZmZmZuZsgECamZmZGSuBQM3MzMxM6YFAAAAAAICngkAzMzMzs2WDQGZmZmbmI4RAmpmZmRnihEDNzMzMTKCFQAAAAACAXoZAMzMzM7Mch0BmZmZm5tqHQJqZmZkZmYhAzczMzExXiUAAAAAAgBWKQDMzMzOz04pAZmZmZuaRi0CamZmZGVCMQM3MzMxMDo1AAAAAAIDMjUAzMzMzs4qOQGZmZmbmSI9A\",\"dtype\":\"float64\",\"shape\":[75]}},\"selected\":{\"id\":\"670aa450-b0d7-4ded-a198-4babbb079e3d\",\"type\":\"Selection\"},\"selection_policy\":{\"id\":\"b40e80bc-a6f0-4ca6-8871-32dd20492a1a\",\"type\":\"UnionRenderers\"}},\"id\":\"9be3bfd9-3c91-4b2a-8558-4439fab825a2\",\"type\":\"ColumnDataSource\"},{\"attributes\":{},\"id\":\"318761cc-56dd-40db-bb66-2bb81c691150\",\"type\":\"UnionRenderers\"},{\"attributes\":{},\"id\":\"ad601956-8332-4ca3-a0cb-f0e22107ccc0\",\"type\":\"Selection\"},{\"attributes\":{\"dimension\":1,\"plot\":{\"id\":\"ad3e1105-258c-4248-9602-a9cd10e00221\",\"subtype\":\"Figure\",\"type\":\"Plot\"},\"ticker\":{\"id\":\"7fdc6699-2c34-4c91-8d16-f1f0d30098d7\",\"type\":\"LogTicker\"}},\"id\":\"5c81f895-ae20-49f0-a687-437756bedcbe\",\"type\":\"Grid\"},{\"attributes\":{\"source\":{\"id\":\"b43cfe0c-b202-4a94-a290-86d1d7b9a35b\",\"type\":\"ColumnDataSource\"}},\"id\":\"32b51aae-a1f0-4efa-a48c-87393b0ec088\",\"type\":\"CDSView\"},{\"attributes\":{\"fill_alpha\":{\"value\":0.1},\"fill_color\":{\"value\":\"#1f77b4\"},\"line_alpha\":{\"value\":0.1},\"line_color\":{\"value\":\"#1f77b4\"},\"x\":{\"field\":\"x\"},\"y\":{\"field\":\"y\"}},\"id\":\"055f2720-c22c-447f-839f-c144034e5ede\",\"type\":\"Circle\"},{\"attributes\":{},\"id\":\"842749e0-93c3-4a0a-95ca-a037d34de3f8\",\"type\":\"Selection\"},{\"attributes\":{\"callback\":null,\"data\":{\"x\":{\"__ndarray__\":\"WWYLT/Dql76duTEY1OOWvoFQJ1dNRJS+A+xeNpSzkL63y7YuogKIvr99n8a4p3e+piRdis02Xj6vucOiDZmHPukEkWsvSZg++OQ5pnb2oz4uYqS2y7OtPpG/f2Ff47Q+ldAoSeBNvD40Lil9oiHCPqa4kgLYusU+RgF3ytxCyT7eSKPDsDfNPuxFwtM91dA+HOOB7jdV0z7VP3tkKCTWPldpDsbo99g+P4W5zw7Y1j78v23xQQvPPtYOTfvVa8I+cG6PrH4ntD5mN9V3iYiiPjSih3wjHoI+RtPNeGzUe77D7FRO8LqOvmvhTPL495S+q+Fz9y3Bmb4s8d81OwievhwQYazlh6C+pDaVyxRmob55lhMoRiqivp8egSS69qK+s0L78fbQo773PTST42+lvhNLvtybK7C+P5dOmfD7tr4m436JHai/vsKbZlju4sO+0+9My2FRyL6/svdrrrTNvqTzAH9C29G+eNCQ/q1Z074No06AY1LQvu/je3KKVLu+8/wWoaGMyz62b+y3ZgPxPj9kZ1DL6gY/U7FqlDSoGD+0CG5dDD8nP14V438C+zM/47PEmX/iPz+UOLMlQNBHP2I//B4r71A/NfmOY+kYVz9Pyf27szdeP2FCUxaIFWM/D/zA/nhiZz+fDxaf0NxrP/5BDfA3MnA/0H8OOZZscj+BRwLzKpB0P8+2jrkIlnY/TJyvbslleD+A4i6gKvZ5P/4kKW52Ens/V2h/49SOez9tKgdBayh7P8c8q3uW9nk/1S/MmjyLeD9M6sLOHxp3P++rrJWbtHU/\",\"dtype\":\"float64\",\"shape\":[75]},\"y\":{\"__ndarray__\":\"GhExyth1ND/Sv8nbtpRIP2vylNV0PVE/aTum7souWD/At0SJ8fVgPw3Iuahxymc/MSNhhJWvcD/bTfBN02d3P2zb5nxnaoA/CD5h5MAGhz8NmeH1TyaQP+zrCsc9p5Y/LbKd76fGnz/bLW5ISEmmPww9YvTcQq8/JV2OstnstT8Er5Y7M8G+P0c+r3jqkcU/5h99k6ZBzj88bCIzFzjVP4enV8oyxN0//yH99nXg5D8qOpLLf0jtP5kqGJXUifQ/c9cS8kHP/D+/DpwzojQEQIEmwoanVwxA4lgXt9HgE0BSSZ2AJuIbQAMJih9jjiNA5q4l5INuK0AwTKYKRj0zQNv5fmq8/DpAaCJseHrtQkB/+zpwzoxKQM3MzMzMeFJAZmZmZmZqWEAAAAAAAFxeQM3MzMzMJmJAmpmZmZkfZUBmZmZmZhhoQDMzMzMzEWtAAAAAAAAKbkBmZmZmZoFwQM3MzMzM/XFAMzMzMzN6c0CamZmZmfZ0QAAAAAAAc3ZAZmZmZmbvd0DNzMzMzGt5QDMzMzMz6HpAmpmZmZlkfEAAAAAAAOF9QGZmZmZmXX9AZmZmZuZsgECamZmZGSuBQM3MzMxM6YFAAAAAAICngkAzMzMzs2WDQGZmZmbmI4RAmpmZmRnihEDNzMzMTKCFQAAAAACAXoZAMzMzM7Mch0BmZmZm5tqHQJqZmZkZmYhAzczMzExXiUAAAAAAgBWKQDMzMzOz04pAZmZmZuaRi0CamZmZGVCMQM3MzMxMDo1AAAAAAIDMjUAzMzMzs4qOQGZmZmbmSI9A\",\"dtype\":\"float64\",\"shape\":[75]}},\"selected\":{\"id\":\"e18d4ea2-9290-455f-bdd6-f573582d26dd\",\"type\":\"Selection\"},\"selection_policy\":{\"id\":\"32aa4881-2db5-408d-90db-5317fa716f32\",\"type\":\"UnionRenderers\"}},\"id\":\"fc410c67-3469-4f86-b83c-fca70ae7f781\",\"type\":\"ColumnDataSource\"},{\"attributes\":{\"fill_alpha\":{\"value\":0.1},\"fill_color\":{\"value\":\"#1f77b4\"},\"line_alpha\":{\"value\":0.1},\"line_color\":{\"value\":\"#1f77b4\"},\"x\":{\"field\":\"x\"},\"y\":{\"field\":\"y\"}},\"id\":\"463db508-77e7-4f1b-a88b-76830ca21319\",\"type\":\"Square\"},{\"attributes\":{\"data_source\":{\"id\":\"fc410c67-3469-4f86-b83c-fca70ae7f781\",\"type\":\"ColumnDataSource\"},\"glyph\":{\"id\":\"5de3e2b7-1640-49fa-8ea3-7536fb43e4bf\",\"type\":\"Square\"},\"hover_glyph\":null,\"muted_glyph\":null,\"nonselection_glyph\":{\"id\":\"463db508-77e7-4f1b-a88b-76830ca21319\",\"type\":\"Square\"},\"selection_glyph\":null,\"view\":{\"id\":\"c9e20d57-8113-44e2-aeff-59c99bd0ffb4\",\"type\":\"CDSView\"}},\"id\":\"46095980-3c1b-47a2-93a9-d672804509cc\",\"type\":\"GlyphRenderer\"},{\"attributes\":{\"source\":{\"id\":\"d1b32dc3-af22-40b6-8979-f1b9b7301077\",\"type\":\"ColumnDataSource\"}},\"id\":\"1c2033d9-f249-4182-bc1a-667988dfcc3a\",\"type\":\"CDSView\"},{\"attributes\":{\"line_alpha\":0.6,\"line_color\":\"#984ea3\",\"line_width\":3,\"x\":{\"field\":\"x\"},\"y\":{\"field\":\"y\"}},\"id\":\"6e70cfe6-cc94-46c6-ac31-570ad1cf8849\",\"type\":\"Line\"},{\"attributes\":{\"line_alpha\":0.1,\"line_color\":\"#1f77b4\",\"line_width\":3,\"x\":{\"field\":\"x\"},\"y\":{\"field\":\"y\"}},\"id\":\"ab85f3ab-b4f4-4398-907b-753b95f53b3d\",\"type\":\"Line\"},{\"attributes\":{\"line_alpha\":0.1,\"line_color\":\"#1f77b4\",\"line_width\":2,\"x\":{\"field\":\"x\"},\"y\":{\"field\":\"y\"}},\"id\":\"22187367-6b72-4edb-aaaf-65dea7c78aee\",\"type\":\"Line\"},{\"attributes\":{\"callback\":null,\"data\":{\"x\":{\"__ndarray__\":\"npOGYNispL6Bb9sjk8SjvqNA6iiEbaG+9fMWLJd2nL6qg04qcQKUvsVHGupkFIK+0bMQHSE+dD71nNiO3viWPhyWFSE+yKY+h61qg7F3sj7b39XmRki7Pln1ixOsGsM+6xoWD+bPyT41O++pwYDQPmC3auhjwNM+zTX8yVzv1j6Dww8i8H7aPmtMNmrIfd4+IA7JCCd84T4LZJCS8f3jPp9bPHl9gOY+6gTIVmyN5D7rJUe/E+PbPk/tsvtuhNA+A5FaqeMLwj6+zQifxaiwPhDHnMYaSJE+Xb8D+QWfhL7UJCo+sDSYvoQY3QsAb6C+I9SD09fUo75MSvCx/Iymvkd9WijVD6i+n2ipH4BpqL6k4VMJnnCovpmQu1GtYai+FWH3YgN1qL6fsYZt46Wpvtd995HL5rK+jvMOgudeur4TLOwiKeLBvol/1QG3MMa+lRlkmyLbyr5s1/Qd+ELQvkXfoxTkX9O+50LFB3CZ1L5iF1Bt4FPQvoUdDltU7bC+jbyXnCiK1j5okvAM/Mz2PrsNsJhlSA0/29L3iyfgHj+vo34xjrksP5SypXC1aTg/PdoHMAxUQz+vLGm4mNhMPxr9ID60d1Q/MiBTrA7IWz99GSfmoh9iP1Ndfq861WY/uGEV4JThaz/vEXzX0Y1wP1vBSA6lLXM/j9C/O3q+dT/ZhD1v3zF4P3RazJMYeXo/LijDYT+FfD8Q+SgQbz5+P1wR6NRdbn8/DisXDGDhfz/3hJ9SQkR/PxWtZ/5UuX0/OwcYW93xez+MKYdAfSV6P1+L69bxang/\",\"dtype\":\"float64\",\"shape\":[75]},\"y\":{\"__ndarray__\":\"GhExyth1ND/Sv8nbtpRIP2vylNV0PVE/aTum7souWD/At0SJ8fVgPw3Iuahxymc/MSNhhJWvcD/bTfBN02d3P2zb5nxnaoA/CD5h5MAGhz8NmeH1TyaQP+zrCsc9p5Y/LbKd76fGnz/bLW5ISEmmPww9YvTcQq8/JV2OstnstT8Er5Y7M8G+P0c+r3jqkcU/5h99k6ZBzj88bCIzFzjVP4enV8oyxN0//yH99nXg5D8qOpLLf0jtP5kqGJXUifQ/c9cS8kHP/D+/DpwzojQEQIEmwoanVwxA4lgXt9HgE0BSSZ2AJuIbQAMJih9jjiNA5q4l5INuK0AwTKYKRj0zQNv5fmq8/DpAaCJseHrtQkB/+zpwzoxKQM3MzMzMeFJAZmZmZmZqWEAAAAAAAFxeQM3MzMzMJmJAmpmZmZkfZUBmZmZmZhhoQDMzMzMzEWtAAAAAAAAKbkBmZmZmZoFwQM3MzMzM/XFAMzMzMzN6c0CamZmZmfZ0QAAAAAAAc3ZAZmZmZmbvd0DNzMzMzGt5QDMzMzMz6HpAmpmZmZlkfEAAAAAAAOF9QGZmZmZmXX9AZmZmZuZsgECamZmZGSuBQM3MzMxM6YFAAAAAAICngkAzMzMzs2WDQGZmZmbmI4RAmpmZmRnihEDNzMzMTKCFQAAAAACAXoZAMzMzM7Mch0BmZmZm5tqHQJqZmZkZmYhAzczMzExXiUAAAAAAgBWKQDMzMzOz04pAZmZmZuaRi0CamZmZGVCMQM3MzMxMDo1AAAAAAIDMjUAzMzMzs4qOQGZmZmbmSI9A\",\"dtype\":\"float64\",\"shape\":[75]}},\"selected\":{\"id\":\"974ffaee-2580-4221-81c7-04beca81ebb3\",\"type\":\"Selection\"},\"selection_policy\":{\"id\":\"a99be4a2-aa45-4995-86a6-9a4943add3e3\",\"type\":\"UnionRenderers\"}},\"id\":\"587544a8-92d2-4d98-b1f5-55a8d222e910\",\"type\":\"ColumnDataSource\"},{\"attributes\":{\"source\":{\"id\":\"fc410c67-3469-4f86-b83c-fca70ae7f781\",\"type\":\"ColumnDataSource\"}},\"id\":\"c9e20d57-8113-44e2-aeff-59c99bd0ffb4\",\"type\":\"CDSView\"},{\"attributes\":{\"callback\":null,\"end\":0.01,\"start\":1020},\"id\":\"513cceb1-652a-4b5e-a73c-fd159639cebc\",\"type\":\"Range1d\"},{\"attributes\":{\"source\":{\"id\":\"9be3bfd9-3c91-4b2a-8558-4439fab825a2\",\"type\":\"ColumnDataSource\"}},\"id\":\"22ed8f0b-0dab-4fdf-8343-a06e4dd7ddb8\",\"type\":\"CDSView\"},{\"attributes\":{\"callback\":null,\"data\":{\"x\":{\"__ndarray__\":\"npOGYNispL6Bb9sjk8SjvqNA6iiEbaG+9fMWLJd2nL6qg04qcQKUvsVHGupkFIK+0bMQHSE+dD71nNiO3viWPhyWFSE+yKY+h61qg7F3sj7b39XmRki7Pln1ixOsGsM+6xoWD+bPyT41O++pwYDQPmC3auhjwNM+zTX8yVzv1j6Dww8i8H7aPmtMNmrIfd4+IA7JCCd84T4LZJCS8f3jPp9bPHl9gOY+6gTIVmyN5D7rJUe/E+PbPk/tsvtuhNA+A5FaqeMLwj6+zQifxaiwPhDHnMYaSJE+Xb8D+QWfhL7UJCo+sDSYvoQY3QsAb6C+I9SD09fUo75MSvCx/Iymvkd9WijVD6i+n2ipH4BpqL6k4VMJnnCovpmQu1GtYai+FWH3YgN1qL6fsYZt46Wpvtd995HL5rK+jvMOgudeur4TLOwiKeLBvol/1QG3MMa+lRlkmyLbyr5s1/Qd+ELQvkXfoxTkX9O+50LFB3CZ1L5iF1Bt4FPQvoUdDltU7bC+jbyXnCiK1j5okvAM/Mz2PrsNsJhlSA0/29L3iyfgHj+vo34xjrksP5SypXC1aTg/PdoHMAxUQz+vLGm4mNhMPxr9ID60d1Q/MiBTrA7IWz99GSfmoh9iP1Ndfq861WY/uGEV4JThaz/vEXzX0Y1wP1vBSA6lLXM/j9C/O3q+dT/ZhD1v3zF4P3RazJMYeXo/LijDYT+FfD8Q+SgQbz5+P1wR6NRdbn8/DisXDGDhfz/3hJ9SQkR/PxWtZ/5UuX0/OwcYW93xez+MKYdAfSV6P1+L69bxang/\",\"dtype\":\"float64\",\"shape\":[75]},\"y\":{\"__ndarray__\":\"GhExyth1ND/Sv8nbtpRIP2vylNV0PVE/aTum7souWD/At0SJ8fVgPw3Iuahxymc/MSNhhJWvcD/bTfBN02d3P2zb5nxnaoA/CD5h5MAGhz8NmeH1TyaQP+zrCsc9p5Y/LbKd76fGnz/bLW5ISEmmPww9YvTcQq8/JV2OstnstT8Er5Y7M8G+P0c+r3jqkcU/5h99k6ZBzj88bCIzFzjVP4enV8oyxN0//yH99nXg5D8qOpLLf0jtP5kqGJXUifQ/c9cS8kHP/D+/DpwzojQEQIEmwoanVwxA4lgXt9HgE0BSSZ2AJuIbQAMJih9jjiNA5q4l5INuK0AwTKYKRj0zQNv5fmq8/DpAaCJseHrtQkB/+zpwzoxKQM3MzMzMeFJAZmZmZmZqWEAAAAAAAFxeQM3MzMzMJmJAmpmZmZkfZUBmZmZmZhhoQDMzMzMzEWtAAAAAAAAKbkBmZmZmZoFwQM3MzMzM/XFAMzMzMzN6c0CamZmZmfZ0QAAAAAAAc3ZAZmZmZmbvd0DNzMzMzGt5QDMzMzMz6HpAmpmZmZlkfEAAAAAAAOF9QGZmZmZmXX9AZmZmZuZsgECamZmZGSuBQM3MzMxM6YFAAAAAAICngkAzMzMzs2WDQGZmZmbmI4RAmpmZmRnihEDNzMzMTKCFQAAAAACAXoZAMzMzM7Mch0BmZmZm5tqHQJqZmZkZmYhAzczMzExXiUAAAAAAgBWKQDMzMzOz04pAZmZmZuaRi0CamZmZGVCMQM3MzMxMDo1AAAAAAIDMjUAzMzMzs4qOQGZmZmbmSI9A\",\"dtype\":\"float64\",\"shape\":[75]}},\"selected\":{\"id\":\"a8ed48be-f5dd-4a4a-a431-a94723088c5f\",\"type\":\"Selection\"},\"selection_policy\":{\"id\":\"ea4398ab-7e79-41a6-9bd6-2835d5d08070\",\"type\":\"UnionRenderers\"}},\"id\":\"d1b32dc3-af22-40b6-8979-f1b9b7301077\",\"type\":\"ColumnDataSource\"},{\"attributes\":{\"line_alpha\":0.1,\"line_color\":\"#1f77b4\",\"line_width\":1.5,\"x\":{\"field\":\"x\"},\"y\":{\"field\":\"y\"}},\"id\":\"91c1d313-b4b9-4e3b-b2e2-566b204fa3a7\",\"type\":\"Line\"},{\"attributes\":{\"data_source\":{\"id\":\"9be3bfd9-3c91-4b2a-8558-4439fab825a2\",\"type\":\"ColumnDataSource\"},\"glyph\":{\"id\":\"6e70cfe6-cc94-46c6-ac31-570ad1cf8849\",\"type\":\"Line\"},\"hover_glyph\":null,\"muted_glyph\":null,\"nonselection_glyph\":{\"id\":\"ab85f3ab-b4f4-4398-907b-753b95f53b3d\",\"type\":\"Line\"},\"selection_glyph\":null,\"view\":{\"id\":\"22ed8f0b-0dab-4fdf-8343-a06e4dd7ddb8\",\"type\":\"CDSView\"}},\"id\":\"b4f086ce-1b29-4920-a269-6003b3a42c93\",\"type\":\"GlyphRenderer\"},{\"attributes\":{\"data_source\":{\"id\":\"d1b32dc3-af22-40b6-8979-f1b9b7301077\",\"type\":\"ColumnDataSource\"},\"glyph\":{\"id\":\"de79f0b7-d076-487d-a8af-f0fd41b345f9\",\"type\":\"Line\"},\"hover_glyph\":null,\"muted_glyph\":null,\"nonselection_glyph\":{\"id\":\"91c1d313-b4b9-4e3b-b2e2-566b204fa3a7\",\"type\":\"Line\"},\"selection_glyph\":null,\"view\":{\"id\":\"1c2033d9-f249-4182-bc1a-667988dfcc3a\",\"type\":\"CDSView\"}},\"id\":\"dcf1c733-313b-42c0-8dad-3ac903f047a4\",\"type\":\"GlyphRenderer\"},{\"attributes\":{\"callback\":null,\"data\":{\"x\":{\"__ndarray__\":\"mAEElPA+lL5UPPnyE2aTvssanDYFOpG+lsxydEmLjL6JNCdWpr6EvjhlPW8VQ3W+Uejf1abHUj5D31Oz2tWCPu+ThxYd0JM+Dx4IfgZroD4r7hpkN4ioPglvt+ILTLE+fzZ8iZh6tz66I9TAXR2+PmiDw0PlDsI+gju0XeAAxT7Nhza+sk3IPkmbrMWuA8w+IBkiXMMX0D5wvBmsnG/SPtB/ESKFy9Q+jYzeLawF0z7/rGsvftPJPjZyB2VjmL4+k/6t6nuusD678OK3X2+ePkODIRUDcXw+C7UhJULheL6kTcuGu2+Kvpa5XoUW45G+dEur9Uvhlb6qUHsVAnWZvg4DyyTlApy+cGbC3mqCnb7r3GG/HNuevtFY8/sII6C+zq8qx4zkoL7nm3J+3kmivkupAZqRl6u+JyRraR+cs74kZMOfmgK7vjvPRv3k98C+DijL6i7AxL6dKHNPsFnJvqpekfJqes6+woYHPF+R0L7rwOaiR1PMvpnGdHRKorm+0DkpnvuqxD4JPBu2umLrPiE72zw6tgI/hd3+6QVHFD+I8Ehohi4jP4n446wogDA/xDiWr39iOj/ZAycoFdxDP15tuF93akw/fM4IeBNxUz/mpEgezpNZPxP6BanHPmA/rD2ss3oAZD/RzUiFtPRnPyT3j1yy/ms/aIptjMUBcD+C9p/DoPZxP1IUdVBM0XM/pc3071OFdT9MiuZ0pv92P4hH/joZF3g/go0e0ZqleD8HEJNv/Gl4PwzYe5n7d3c/gc+GMSZTdj/Fd3Im3iN1P1qem/9d+3M/\",\"dtype\":\"float64\",\"shape\":[75]},\"y\":{\"__ndarray__\":\"GhExyth1ND/Sv8nbtpRIP2vylNV0PVE/aTum7souWD/At0SJ8fVgPw3Iuahxymc/MSNhhJWvcD/bTfBN02d3P2zb5nxnaoA/CD5h5MAGhz8NmeH1TyaQP+zrCsc9p5Y/LbKd76fGnz/bLW5ISEmmPww9YvTcQq8/JV2OstnstT8Er5Y7M8G+P0c+r3jqkcU/5h99k6ZBzj88bCIzFzjVP4enV8oyxN0//yH99nXg5D8qOpLLf0jtP5kqGJXUifQ/c9cS8kHP/D+/DpwzojQEQIEmwoanVwxA4lgXt9HgE0BSSZ2AJuIbQAMJih9jjiNA5q4l5INuK0AwTKYKRj0zQNv5fmq8/DpAaCJseHrtQkB/+zpwzoxKQM3MzMzMeFJAZmZmZmZqWEAAAAAAAFxeQM3MzMzMJmJAmpmZmZkfZUBmZmZmZhhoQDMzMzMzEWtAAAAAAAAKbkBmZmZmZoFwQM3MzMzM/XFAMzMzMzN6c0CamZmZmfZ0QAAAAAAAc3ZAZmZmZmbvd0DNzMzMzGt5QDMzMzMz6HpAmpmZmZlkfEAAAAAAAOF9QGZmZmZmXX9AZmZmZuZsgECamZmZGSuBQM3MzMxM6YFAAAAAAICngkAzMzMzs2WDQGZmZmbmI4RAmpmZmRnihEDNzMzMTKCFQAAAAACAXoZAMzMzM7Mch0BmZmZm5tqHQJqZmZkZmYhAzczMzExXiUAAAAAAgBWKQDMzMzOz04pAZmZmZuaRi0CamZmZGVCMQM3MzMxMDo1AAAAAAIDMjUAzMzMzs4qOQGZmZmbmSI9A\",\"dtype\":\"float64\",\"shape\":[75]}},\"selected\":{\"id\":\"8f342399-898e-4442-b653-71c98e3edd71\",\"type\":\"Selection\"},\"selection_policy\":{\"id\":\"684c70b6-5a29-471a-a3ef-ca949cb22956\",\"type\":\"UnionRenderers\"}},\"id\":\"0fdcb294-6a6f-40a3-95f6-45b5ca00c75f\",\"type\":\"ColumnDataSource\"},{\"attributes\":{\"fill_alpha\":{\"value\":0.7},\"fill_color\":{\"value\":\"#377eb8\"},\"line_alpha\":{\"value\":0.7},\"line_color\":{\"value\":\"#377eb8\"},\"x\":{\"field\":\"x\"},\"y\":{\"field\":\"y\"}},\"id\":\"b0c55a7a-b611-4643-bd40-424bccaaa486\",\"type\":\"Triangle\"},{\"attributes\":{\"callback\":null,\"data\":{\"x\":{\"__ndarray__\":\"mAEElPA+lL5UPPnyE2aTvssanDYFOpG+lsxydEmLjL6JNCdWpr6EvjhlPW8VQ3W+Uejf1abHUj5D31Oz2tWCPu+ThxYd0JM+Dx4IfgZroD4r7hpkN4ioPglvt+ILTLE+fzZ8iZh6tz66I9TAXR2+PmiDw0PlDsI+gju0XeAAxT7Nhza+sk3IPkmbrMWuA8w+IBkiXMMX0D5wvBmsnG/SPtB/ESKFy9Q+jYzeLawF0z7/rGsvftPJPjZyB2VjmL4+k/6t6nuusD678OK3X2+ePkODIRUDcXw+C7UhJULheL6kTcuGu2+Kvpa5XoUW45G+dEur9Uvhlb6qUHsVAnWZvg4DyyTlApy+cGbC3mqCnb7r3GG/HNuevtFY8/sII6C+zq8qx4zkoL7nm3J+3kmivkupAZqRl6u+JyRraR+cs74kZMOfmgK7vjvPRv3k98C+DijL6i7AxL6dKHNPsFnJvqpekfJqes6+woYHPF+R0L7rwOaiR1PMvpnGdHRKorm+0DkpnvuqxD4JPBu2umLrPiE72zw6tgI/hd3+6QVHFD+I8Ehohi4jP4n446wogDA/xDiWr39iOj/ZAycoFdxDP15tuF93akw/fM4IeBNxUz/mpEgezpNZPxP6BanHPmA/rD2ss3oAZD/RzUiFtPRnPyT3j1yy/ms/aIptjMUBcD+C9p/DoPZxP1IUdVBM0XM/pc3071OFdT9MiuZ0pv92P4hH/joZF3g/go0e0ZqleD8HEJNv/Gl4PwzYe5n7d3c/gc+GMSZTdj/Fd3Im3iN1P1qem/9d+3M/\",\"dtype\":\"float64\",\"shape\":[75]},\"y\":{\"__ndarray__\":\"GhExyth1ND/Sv8nbtpRIP2vylNV0PVE/aTum7souWD/At0SJ8fVgPw3Iuahxymc/MSNhhJWvcD/bTfBN02d3P2zb5nxnaoA/CD5h5MAGhz8NmeH1TyaQP+zrCsc9p5Y/LbKd76fGnz/bLW5ISEmmPww9YvTcQq8/JV2OstnstT8Er5Y7M8G+P0c+r3jqkcU/5h99k6ZBzj88bCIzFzjVP4enV8oyxN0//yH99nXg5D8qOpLLf0jtP5kqGJXUifQ/c9cS8kHP/D+/DpwzojQEQIEmwoanVwxA4lgXt9HgE0BSSZ2AJuIbQAMJih9jjiNA5q4l5INuK0AwTKYKRj0zQNv5fmq8/DpAaCJseHrtQkB/+zpwzoxKQM3MzMzMeFJAZmZmZmZqWEAAAAAAAFxeQM3MzMzMJmJAmpmZmZkfZUBmZmZmZhhoQDMzMzMzEWtAAAAAAAAKbkBmZmZmZoFwQM3MzMzM/XFAMzMzMzN6c0CamZmZmfZ0QAAAAAAAc3ZAZmZmZmbvd0DNzMzMzGt5QDMzMzMz6HpAmpmZmZlkfEAAAAAAAOF9QGZmZmZmXX9AZmZmZuZsgECamZmZGSuBQM3MzMxM6YFAAAAAAICngkAzMzMzs2WDQGZmZmbmI4RAmpmZmRnihEDNzMzMTKCFQAAAAACAXoZAMzMzM7Mch0BmZmZm5tqHQJqZmZkZmYhAzczMzExXiUAAAAAAgBWKQDMzMzOz04pAZmZmZuaRi0CamZmZGVCMQM3MzMxMDo1AAAAAAIDMjUAzMzMzs4qOQGZmZmbmSI9A\",\"dtype\":\"float64\",\"shape\":[75]}},\"selected\":{\"id\":\"fdda01a0-bbac-4e29-9c0f-9cddea78c956\",\"type\":\"Selection\"},\"selection_policy\":{\"id\":\"60b5c972-c252-4e28-897a-39cd0100ebc6\",\"type\":\"UnionRenderers\"}},\"id\":\"73f1d233-c90b-4a38-a489-da1ebdd213d8\",\"type\":\"ColumnDataSource\"},{\"attributes\":{\"axis_label\":\"pressure [mb]\",\"formatter\":{\"id\":\"fa2cff48-2e31-4a89-8f4f-e3157326c955\",\"type\":\"LogTickFormatter\"},\"plot\":{\"id\":\"ad3e1105-258c-4248-9602-a9cd10e00221\",\"subtype\":\"Figure\",\"type\":\"Plot\"},\"ticker\":{\"id\":\"7fdc6699-2c34-4c91-8d16-f1f0d30098d7\",\"type\":\"LogTicker\"}},\"id\":\"cdb46950-1b9c-4e8f-ba94-706dd2ab4ece\",\"type\":\"LogAxis\"},{\"attributes\":{\"source\":{\"id\":\"0fdcb294-6a6f-40a3-95f6-45b5ca00c75f\",\"type\":\"ColumnDataSource\"}},\"id\":\"c9489b4a-fe61-4a77-af6b-88fc1b115d2d\",\"type\":\"CDSView\"},{\"attributes\":{\"fill_alpha\":{\"value\":0.7},\"fill_color\":{\"value\":\"#984ea3\"},\"line_alpha\":{\"value\":0.7},\"line_color\":{\"value\":\"#984ea3\"},\"x\":{\"field\":\"x\"},\"y\":{\"field\":\"y\"}},\"id\":\"5de3e2b7-1640-49fa-8ea3-7536fb43e4bf\",\"type\":\"Square\"},{\"attributes\":{\"data_source\":{\"id\":\"587544a8-92d2-4d98-b1f5-55a8d222e910\",\"type\":\"ColumnDataSource\"},\"glyph\":{\"id\":\"13d482c2-00c5-43f0-86e4-97120613bee9\",\"type\":\"Circle\"},\"hover_glyph\":null,\"muted_glyph\":null,\"nonselection_glyph\":{\"id\":\"055f2720-c22c-447f-839f-c144034e5ede\",\"type\":\"Circle\"},\"selection_glyph\":null,\"view\":{\"id\":\"0c26fcf8-485c-4a7f-9f7e-7007ab6ac75f\",\"type\":\"CDSView\"}},\"id\":\"20b6dbf2-decc-4547-a585-9fd5ffc5591b\",\"type\":\"GlyphRenderer\"},{\"attributes\":{\"fill_alpha\":{\"value\":0.1},\"fill_color\":{\"value\":\"#1f77b4\"},\"line_alpha\":{\"value\":0.1},\"line_color\":{\"value\":\"#1f77b4\"},\"x\":{\"field\":\"x\"},\"y\":{\"field\":\"y\"}},\"id\":\"5b8caaf8-38a5-4bb8-8eef-ecc977dcdf3d\",\"type\":\"Triangle\"},{\"attributes\":{\"line_alpha\":0.3,\"line_color\":\"#377eb8\",\"line_width\":2,\"x\":{\"field\":\"x\"},\"y\":{\"field\":\"y\"}},\"id\":\"99cc146e-4cc3-4307-8e4a-9b27938d134f\",\"type\":\"Line\"},{\"attributes\":{\"children\":[{\"id\":\"e43a864b-bad7-46de-adcc-d7655c4ce557\",\"type\":\"Row\"}]},\"id\":\"b7421883-b53a-446a-9719-e8218a7235ae\",\"type\":\"Column\"},{\"attributes\":{\"data_source\":{\"id\":\"0fdcb294-6a6f-40a3-95f6-45b5ca00c75f\",\"type\":\"ColumnDataSource\"},\"glyph\":{\"id\":\"b0c55a7a-b611-4643-bd40-424bccaaa486\",\"type\":\"Triangle\"},\"hover_glyph\":null,\"muted_glyph\":null,\"nonselection_glyph\":{\"id\":\"5b8caaf8-38a5-4bb8-8eef-ecc977dcdf3d\",\"type\":\"Triangle\"},\"selection_glyph\":null,\"view\":{\"id\":\"c9489b4a-fe61-4a77-af6b-88fc1b115d2d\",\"type\":\"CDSView\"}},\"id\":\"a8213710-b2b5-4406-a3c9-fdd412e17939\",\"type\":\"GlyphRenderer\"},{\"attributes\":{\"data_source\":{\"id\":\"73f1d233-c90b-4a38-a489-da1ebdd213d8\",\"type\":\"ColumnDataSource\"},\"glyph\":{\"id\":\"99cc146e-4cc3-4307-8e4a-9b27938d134f\",\"type\":\"Line\"},\"hover_glyph\":null,\"muted_glyph\":null,\"nonselection_glyph\":{\"id\":\"22187367-6b72-4edb-aaaf-65dea7c78aee\",\"type\":\"Line\"},\"selection_glyph\":null,\"view\":{\"id\":\"39843207-e20c-41af-bb5c-b14956df4622\",\"type\":\"CDSView\"}},\"id\":\"3aa1df99-91f0-42e7-9c81-e6f922c84321\",\"type\":\"GlyphRenderer\"},{\"attributes\":{\"fill_alpha\":{\"value\":0.7},\"fill_color\":{\"value\":\"#4daf4a\"},\"line_alpha\":{\"value\":0.7},\"line_color\":{\"value\":\"#4daf4a\"},\"x\":{\"field\":\"x\"},\"y\":{\"field\":\"y\"}},\"id\":\"13d482c2-00c5-43f0-86e4-97120613bee9\",\"type\":\"Circle\"},{\"attributes\":{\"source\":{\"id\":\"73f1d233-c90b-4a38-a489-da1ebdd213d8\",\"type\":\"ColumnDataSource\"}},\"id\":\"39843207-e20c-41af-bb5c-b14956df4622\",\"type\":\"CDSView\"},{\"attributes\":{\"plot\":null,\"text\":\"\"},\"id\":\"9b6a3a36-d0d9-48c9-99d1-a96bccfd5e42\",\"type\":\"Title\"},{\"attributes\":{\"children\":[{\"id\":\"e4b9e0c2-b779-4631-9442-db2e8764e55d\",\"subtype\":\"Figure\",\"type\":\"Plot\"},{\"id\":\"ad3e1105-258c-4248-9602-a9cd10e00221\",\"subtype\":\"Figure\",\"type\":\"Plot\"}]},\"id\":\"e43a864b-bad7-46de-adcc-d7655c4ce557\",\"type\":\"Row\"},{\"attributes\":{\"label\":{\"value\":\"CRD\"},\"renderers\":[{\"id\":\"1084852b-dd9d-4cf6-9e38-f12ec7aa7183\",\"type\":\"GlyphRenderer\"},{\"id\":\"dcf1c733-313b-42c0-8dad-3ac903f047a4\",\"type\":\"GlyphRenderer\"}]},\"id\":\"3e052c59-1116-4e79-8326-05830ad45fe3\",\"type\":\"LegendItem\"},{\"attributes\":{},\"id\":\"9f2a5f7c-9972-4231-8b89-e9e3483adb50\",\"type\":\"BasicTickFormatter\"},{\"attributes\":{\"label\":{\"value\":\"WGT igg=1\"},\"renderers\":[{\"id\":\"46095980-3c1b-47a2-93a9-d672804509cc\",\"type\":\"GlyphRenderer\"},{\"id\":\"b4f086ce-1b29-4920-a269-6003b3a42c93\",\"type\":\"GlyphRenderer\"}]},\"id\":\"06b55332-341a-4c65-854c-b6c97b413f81\",\"type\":\"LegendItem\"},{\"attributes\":{\"label\":{\"value\":\"WGT igg=10\"},\"renderers\":[{\"id\":\"a8213710-b2b5-4406-a3c9-fdd412e17939\",\"type\":\"GlyphRenderer\"},{\"id\":\"3aa1df99-91f0-42e7-9c81-e6f922c84321\",\"type\":\"GlyphRenderer\"}]},\"id\":\"3cebc5ae-8f4c-42ba-be8d-12e56fe147df\",\"type\":\"LegendItem\"},{\"attributes\":{\"fill_alpha\":{\"value\":0.1},\"fill_color\":{\"value\":\"#1f77b4\"},\"line_alpha\":{\"value\":0.1},\"line_color\":{\"value\":\"#1f77b4\"},\"x\":{\"field\":\"x\"},\"y\":{\"field\":\"y\"}},\"id\":\"80001cec-dda7-4789-ab34-507677ea2910\",\"type\":\"Square\"},{\"attributes\":{\"callback\":null,\"end\":0.007861175951715,\"start\":-8.2793323215e-05},\"id\":\"d78417d8-ab7a-4dbc-9b95-c5b335990f06\",\"type\":\"Range1d\"},{\"attributes\":{\"data_source\":{\"id\":\"10d25832-9740-4c70-a608-1023b9e7b1c7\",\"type\":\"ColumnDataSource\"},\"glyph\":{\"id\":\"e0ba76f7-874c-4793-93e9-f1d11a17aee3\",\"type\":\"Square\"},\"hover_glyph\":null,\"muted_glyph\":null,\"nonselection_glyph\":{\"id\":\"80001cec-dda7-4789-ab34-507677ea2910\",\"type\":\"Square\"},\"selection_glyph\":null,\"view\":{\"id\":\"a6f59858-1a1c-4213-9305-f378f5699b81\",\"type\":\"CDSView\"}},\"id\":\"4ed43250-588a-4cba-acc2-54d314ceaf22\",\"type\":\"GlyphRenderer\"},{\"attributes\":{\"callback\":null,\"data\":{\"x\":{\"__ndarray__\":\"WWYLT/Dql76duTEY1OOWvoFQJ1dNRJS+A+xeNpSzkL63y7YuogKIvr99n8a4p3e+piRdis02Xj6vucOiDZmHPukEkWsvSZg++OQ5pnb2oz4uYqS2y7OtPpG/f2Ff47Q+ldAoSeBNvD40Lil9oiHCPqa4kgLYusU+RgF3ytxCyT7eSKPDsDfNPuxFwtM91dA+HOOB7jdV0z7VP3tkKCTWPldpDsbo99g+P4W5zw7Y1j78v23xQQvPPtYOTfvVa8I+cG6PrH4ntD5mN9V3iYiiPjSih3wjHoI+RtPNeGzUe77D7FRO8LqOvmvhTPL495S+q+Fz9y3Bmb4s8d81OwievhwQYazlh6C+pDaVyxRmob55lhMoRiqivp8egSS69qK+s0L78fbQo773PTST42+lvhNLvtybK7C+P5dOmfD7tr4m436JHai/vsKbZlju4sO+0+9My2FRyL6/svdrrrTNvqTzAH9C29G+eNCQ/q1Z074No06AY1LQvu/je3KKVLu+8/wWoaGMyz62b+y3ZgPxPj9kZ1DL6gY/U7FqlDSoGD+0CG5dDD8nP14V438C+zM/47PEmX/iPz+UOLMlQNBHP2I//B4r71A/NfmOY+kYVz9Pyf27szdeP2FCUxaIFWM/D/zA/nhiZz+fDxaf0NxrP/5BDfA3MnA/0H8OOZZscj+BRwLzKpB0P8+2jrkIlnY/TJyvbslleD+A4i6gKvZ5P/4kKW52Ens/V2h/49SOez9tKgdBayh7P8c8q3uW9nk/1S/MmjyLeD9M6sLOHxp3P++rrJWbtHU/\",\"dtype\":\"float64\",\"shape\":[75]},\"y\":{\"__ndarray__\":\"GhExyth1ND/Sv8nbtpRIP2vylNV0PVE/aTum7souWD/At0SJ8fVgPw3Iuahxymc/MSNhhJWvcD/bTfBN02d3P2zb5nxnaoA/CD5h5MAGhz8NmeH1TyaQP+zrCsc9p5Y/LbKd76fGnz/bLW5ISEmmPww9YvTcQq8/JV2OstnstT8Er5Y7M8G+P0c+r3jqkcU/5h99k6ZBzj88bCIzFzjVP4enV8oyxN0//yH99nXg5D8qOpLLf0jtP5kqGJXUifQ/c9cS8kHP/D+/DpwzojQEQIEmwoanVwxA4lgXt9HgE0BSSZ2AJuIbQAMJih9jjiNA5q4l5INuK0AwTKYKRj0zQNv5fmq8/DpAaCJseHrtQkB/+zpwzoxKQM3MzMzMeFJAZmZmZmZqWEAAAAAAAFxeQM3MzMzMJmJAmpmZmZkfZUBmZmZmZhhoQDMzMzMzEWtAAAAAAAAKbkBmZmZmZoFwQM3MzMzM/XFAMzMzMzN6c0CamZmZmfZ0QAAAAAAAc3ZAZmZmZmbvd0DNzMzMzGt5QDMzMzMz6HpAmpmZmZlkfEAAAAAAAOF9QGZmZmZmXX9AZmZmZuZsgECamZmZGSuBQM3MzMxM6YFAAAAAAICngkAzMzMzs2WDQGZmZmbmI4RAmpmZmRnihEDNzMzMTKCFQAAAAACAXoZAMzMzM7Mch0BmZmZm5tqHQJqZmZkZmYhAzczMzExXiUAAAAAAgBWKQDMzMzOz04pAZmZmZuaRi0CamZmZGVCMQM3MzMxMDo1AAAAAAIDMjUAzMzMzs4qOQGZmZmbmSI9A\",\"dtype\":\"float64\",\"shape\":[75]}},\"selected\":{\"id\":\"842749e0-93c3-4a0a-95ca-a037d34de3f8\",\"type\":\"Selection\"},\"selection_policy\":{\"id\":\"318761cc-56dd-40db-bb66-2bb81c691150\",\"type\":\"UnionRenderers\"}},\"id\":\"aa14cf5a-4914-4b39-b212-fc6a75785a96\",\"type\":\"ColumnDataSource\"},{\"attributes\":{\"source\":{\"id\":\"10d25832-9740-4c70-a608-1023b9e7b1c7\",\"type\":\"ColumnDataSource\"}},\"id\":\"a6f59858-1a1c-4213-9305-f378f5699b81\",\"type\":\"CDSView\"},{\"attributes\":{\"line_alpha\":0.1,\"line_color\":\"#1f77b4\",\"line_width\":3,\"x\":{\"field\":\"x\"},\"y\":{\"field\":\"y\"}},\"id\":\"1398ec5b-3b1f-4cc3-a409-a6a261d4ce71\",\"type\":\"Line\"},{\"attributes\":{\"line_alpha\":0.1,\"line_color\":\"#1f77b4\",\"line_width\":2,\"x\":{\"field\":\"x\"},\"y\":{\"field\":\"y\"}},\"id\":\"66e4d017-e7e6-49b8-9196-885e94288bf0\",\"type\":\"Line\"},{\"attributes\":{\"source\":{\"id\":\"aa14cf5a-4914-4b39-b212-fc6a75785a96\",\"type\":\"ColumnDataSource\"}},\"id\":\"46e8f84d-bbc2-4a95-af8e-24adfb09e0da\",\"type\":\"CDSView\"},{\"attributes\":{\"source\":{\"id\":\"4745ab9a-b74a-4009-b991-8890e1da643d\",\"type\":\"ColumnDataSource\"}},\"id\":\"3039977f-ddf7-4ddf-ac2e-8a3f4c8f4771\",\"type\":\"CDSView\"},{\"attributes\":{\"data_source\":{\"id\":\"4745ab9a-b74a-4009-b991-8890e1da643d\",\"type\":\"ColumnDataSource\"},\"glyph\":{\"id\":\"82ea1356-89fc-47e0-9ae6-b410624b212f\",\"type\":\"Line\"},\"hover_glyph\":null,\"muted_glyph\":null,\"nonselection_glyph\":{\"id\":\"811f6642-4c6b-4d2b-b0d6-c8fa210e3342\",\"type\":\"Line\"},\"selection_glyph\":null,\"view\":{\"id\":\"3039977f-ddf7-4ddf-ac2e-8a3f4c8f4771\",\"type\":\"CDSView\"}},\"id\":\"7833c8a6-c68b-43ba-99a7-c58f8cd0a869\",\"type\":\"GlyphRenderer\"},{\"attributes\":{\"fill_alpha\":{\"value\":0.7},\"fill_color\":{\"value\":\"#984ea3\"},\"line_alpha\":{\"value\":0.7},\"line_color\":{\"value\":\"#984ea3\"},\"x\":{\"field\":\"x\"},\"y\":{\"field\":\"y\"}},\"id\":\"e0ba76f7-874c-4793-93e9-f1d11a17aee3\",\"type\":\"Square\"},{\"attributes\":{\"data_source\":{\"id\":\"aa14cf5a-4914-4b39-b212-fc6a75785a96\",\"type\":\"ColumnDataSource\"},\"glyph\":{\"id\":\"a12e1319-3e46-4adf-83c3-64b3bd7149da\",\"type\":\"Line\"},\"hover_glyph\":null,\"muted_glyph\":null,\"nonselection_glyph\":{\"id\":\"1398ec5b-3b1f-4cc3-a409-a6a261d4ce71\",\"type\":\"Line\"},\"selection_glyph\":null,\"view\":{\"id\":\"46e8f84d-bbc2-4a95-af8e-24adfb09e0da\",\"type\":\"CDSView\"}},\"id\":\"53862c63-c77b-4089-a656-207cbb588e45\",\"type\":\"GlyphRenderer\"},{\"attributes\":{\"callback\":null,\"data\":{\"x\":{\"__ndarray__\":\"WWYLT/Dql76duTEY1OOWvoFQJ1dNRJS+A+xeNpSzkL63y7YuogKIvr99n8a4p3e+piRdis02Xj6vucOiDZmHPukEkWsvSZg++OQ5pnb2oz4uYqS2y7OtPpG/f2Ff47Q+ldAoSeBNvD40Lil9oiHCPqa4kgLYusU+RgF3ytxCyT7eSKPDsDfNPuxFwtM91dA+HOOB7jdV0z7VP3tkKCTWPldpDsbo99g+P4W5zw7Y1j78v23xQQvPPtYOTfvVa8I+cG6PrH4ntD5mN9V3iYiiPjSih3wjHoI+RtPNeGzUe77D7FRO8LqOvmvhTPL495S+q+Fz9y3Bmb4s8d81OwievhwQYazlh6C+pDaVyxRmob55lhMoRiqivp8egSS69qK+s0L78fbQo773PTST42+lvhNLvtybK7C+P5dOmfD7tr4m436JHai/vsKbZlju4sO+0+9My2FRyL6/svdrrrTNvqTzAH9C29G+eNCQ/q1Z074No06AY1LQvu/je3KKVLu+8/wWoaGMyz62b+y3ZgPxPj9kZ1DL6gY/U7FqlDSoGD+0CG5dDD8nP14V438C+zM/47PEmX/iPz+UOLMlQNBHP2I//B4r71A/NfmOY+kYVz9Pyf27szdeP2FCUxaIFWM/D/zA/nhiZz+fDxaf0NxrP/5BDfA3MnA/0H8OOZZscj+BRwLzKpB0P8+2jrkIlnY/TJyvbslleD+A4i6gKvZ5P/4kKW52Ens/V2h/49SOez9tKgdBayh7P8c8q3uW9nk/1S/MmjyLeD9M6sLOHxp3P++rrJWbtHU/\",\"dtype\":\"float64\",\"shape\":[75]},\"y\":{\"__ndarray__\":\"GhExyth1ND/Sv8nbtpRIP2vylNV0PVE/aTum7souWD/At0SJ8fVgPw3Iuahxymc/MSNhhJWvcD/bTfBN02d3P2zb5nxnaoA/CD5h5MAGhz8NmeH1TyaQP+zrCsc9p5Y/LbKd76fGnz/bLW5ISEmmPww9YvTcQq8/JV2OstnstT8Er5Y7M8G+P0c+r3jqkcU/5h99k6ZBzj88bCIzFzjVP4enV8oyxN0//yH99nXg5D8qOpLLf0jtP5kqGJXUifQ/c9cS8kHP/D+/DpwzojQEQIEmwoanVwxA4lgXt9HgE0BSSZ2AJuIbQAMJih9jjiNA5q4l5INuK0AwTKYKRj0zQNv5fmq8/DpAaCJseHrtQkB/+zpwzoxKQM3MzMzMeFJAZmZmZmZqWEAAAAAAAFxeQM3MzMzMJmJAmpmZmZkfZUBmZmZmZhhoQDMzMzMzEWtAAAAAAAAKbkBmZmZmZoFwQM3MzMzM/XFAMzMzMzN6c0CamZmZmfZ0QAAAAAAAc3ZAZmZmZmbvd0DNzMzMzGt5QDMzMzMz6HpAmpmZmZlkfEAAAAAAAOF9QGZmZmZmXX9AZmZmZuZsgECamZmZGSuBQM3MzMxM6YFAAAAAAICngkAzMzMzs2WDQGZmZmbmI4RAmpmZmRnihEDNzMzMTKCFQAAAAACAXoZAMzMzM7Mch0BmZmZm5tqHQJqZmZkZmYhAzczMzExXiUAAAAAAgBWKQDMzMzOz04pAZmZmZuaRi0CamZmZGVCMQM3MzMxMDo1AAAAAAIDMjUAzMzMzs4qOQGZmZmbmSI9A\",\"dtype\":\"float64\",\"shape\":[75]}},\"selected\":{\"id\":\"e1e40106-b9c2-4a8d-9570-964c4a065407\",\"type\":\"Selection\"},\"selection_policy\":{\"id\":\"4581fa1e-4e6a-4f09-a234-a18a1a6c2c0d\",\"type\":\"UnionRenderers\"}},\"id\":\"10d25832-9740-4c70-a608-1023b9e7b1c7\",\"type\":\"ColumnDataSource\"},{\"attributes\":{\"line_alpha\":0.6,\"line_color\":\"#984ea3\",\"line_width\":3,\"x\":{\"field\":\"x\"},\"y\":{\"field\":\"y\"}},\"id\":\"a12e1319-3e46-4adf-83c3-64b3bd7149da\",\"type\":\"Line\"},{\"attributes\":{\"fill_alpha\":{\"value\":0.7},\"fill_color\":{\"value\":\"#377eb8\"},\"line_alpha\":{\"value\":0.7},\"line_color\":{\"value\":\"#377eb8\"},\"x\":{\"field\":\"x\"},\"y\":{\"field\":\"y\"}},\"id\":\"ddc27599-5f18-4e4c-916b-065143e382ad\",\"type\":\"Triangle\"},{\"attributes\":{\"callback\":null,\"data\":{\"x\":{\"__ndarray__\":\"mAEElPA+lL5UPPnyE2aTvssanDYFOpG+lsxydEmLjL6JNCdWpr6EvjhlPW8VQ3W+Uejf1abHUj5D31Oz2tWCPu+ThxYd0JM+Dx4IfgZroD4r7hpkN4ioPglvt+ILTLE+fzZ8iZh6tz66I9TAXR2+PmiDw0PlDsI+gju0XeAAxT7Nhza+sk3IPkmbrMWuA8w+IBkiXMMX0D5wvBmsnG/SPtB/ESKFy9Q+jYzeLawF0z7/rGsvftPJPjZyB2VjmL4+k/6t6nuusD678OK3X2+ePkODIRUDcXw+C7UhJULheL6kTcuGu2+Kvpa5XoUW45G+dEur9Uvhlb6qUHsVAnWZvg4DyyTlApy+cGbC3mqCnb7r3GG/HNuevtFY8/sII6C+zq8qx4zkoL7nm3J+3kmivkupAZqRl6u+JyRraR+cs74kZMOfmgK7vjvPRv3k98C+DijL6i7AxL6dKHNPsFnJvqpekfJqes6+woYHPF+R0L7rwOaiR1PMvpnGdHRKorm+0DkpnvuqxD4JPBu2umLrPiE72zw6tgI/hd3+6QVHFD+I8Ehohi4jP4n446wogDA/xDiWr39iOj/ZAycoFdxDP15tuF93akw/fM4IeBNxUz/mpEgezpNZPxP6BanHPmA/rD2ss3oAZD/RzUiFtPRnPyT3j1yy/ms/aIptjMUBcD+C9p/DoPZxP1IUdVBM0XM/pc3071OFdT9MiuZ0pv92P4hH/joZF3g/go0e0ZqleD8HEJNv/Gl4PwzYe5n7d3c/gc+GMSZTdj/Fd3Im3iN1P1qem/9d+3M/\",\"dtype\":\"float64\",\"shape\":[75]},\"y\":{\"__ndarray__\":\"GhExyth1ND/Sv8nbtpRIP2vylNV0PVE/aTum7souWD/At0SJ8fVgPw3Iuahxymc/MSNhhJWvcD/bTfBN02d3P2zb5nxnaoA/CD5h5MAGhz8NmeH1TyaQP+zrCsc9p5Y/LbKd76fGnz/bLW5ISEmmPww9YvTcQq8/JV2OstnstT8Er5Y7M8G+P0c+r3jqkcU/5h99k6ZBzj88bCIzFzjVP4enV8oyxN0//yH99nXg5D8qOpLLf0jtP5kqGJXUifQ/c9cS8kHP/D+/DpwzojQEQIEmwoanVwxA4lgXt9HgE0BSSZ2AJuIbQAMJih9jjiNA5q4l5INuK0AwTKYKRj0zQNv5fmq8/DpAaCJseHrtQkB/+zpwzoxKQM3MzMzMeFJAZmZmZmZqWEAAAAAAAFxeQM3MzMzMJmJAmpmZmZkfZUBmZmZmZhhoQDMzMzMzEWtAAAAAAAAKbkBmZmZmZoFwQM3MzMzM/XFAMzMzMzN6c0CamZmZmfZ0QAAAAAAAc3ZAZmZmZmbvd0DNzMzMzGt5QDMzMzMz6HpAmpmZmZlkfEAAAAAAAOF9QGZmZmZmXX9AZmZmZuZsgECamZmZGSuBQM3MzMxM6YFAAAAAAICngkAzMzMzs2WDQGZmZmbmI4RAmpmZmRnihEDNzMzMTKCFQAAAAACAXoZAMzMzM7Mch0BmZmZm5tqHQJqZmZkZmYhAzczMzExXiUAAAAAAgBWKQDMzMzOz04pAZmZmZuaRi0CamZmZGVCMQM3MzMxMDo1AAAAAAIDMjUAzMzMzs4qOQGZmZmbmSI9A\",\"dtype\":\"float64\",\"shape\":[75]}},\"selected\":{\"id\":\"419c6cf6-b35a-4982-997c-cda76d435322\",\"type\":\"Selection\"},\"selection_policy\":{\"id\":\"bb583ef1-44f1-4d0b-ae8f-3e5d3ef17a28\",\"type\":\"UnionRenderers\"}},\"id\":\"34e2cd98-a1ee-42d0-bd0b-fa686dafd81a\",\"type\":\"ColumnDataSource\"},{\"attributes\":{\"source\":{\"id\":\"92d65d1b-fbd7-42fc-a551-2cdb1597ba12\",\"type\":\"ColumnDataSource\"}},\"id\":\"524ccb7f-ed32-442f-bc9d-4850eed0d51c\",\"type\":\"CDSView\"},{\"attributes\":{\"callback\":null,\"data\":{\"x\":{\"__ndarray__\":\"mAEElPA+lL5UPPnyE2aTvssanDYFOpG+lsxydEmLjL6JNCdWpr6EvjhlPW8VQ3W+Uejf1abHUj5D31Oz2tWCPu+ThxYd0JM+Dx4IfgZroD4r7hpkN4ioPglvt+ILTLE+fzZ8iZh6tz66I9TAXR2+PmiDw0PlDsI+gju0XeAAxT7Nhza+sk3IPkmbrMWuA8w+IBkiXMMX0D5wvBmsnG/SPtB/ESKFy9Q+jYzeLawF0z7/rGsvftPJPjZyB2VjmL4+k/6t6nuusD678OK3X2+ePkODIRUDcXw+C7UhJULheL6kTcuGu2+Kvpa5XoUW45G+dEur9Uvhlb6qUHsVAnWZvg4DyyTlApy+cGbC3mqCnb7r3GG/HNuevtFY8/sII6C+zq8qx4zkoL7nm3J+3kmivkupAZqRl6u+JyRraR+cs74kZMOfmgK7vjvPRv3k98C+DijL6i7AxL6dKHNPsFnJvqpekfJqes6+woYHPF+R0L7rwOaiR1PMvpnGdHRKorm+0DkpnvuqxD4JPBu2umLrPiE72zw6tgI/hd3+6QVHFD+I8Ehohi4jP4n446wogDA/xDiWr39iOj/ZAycoFdxDP15tuF93akw/fM4IeBNxUz/mpEgezpNZPxP6BanHPmA/rD2ss3oAZD/RzUiFtPRnPyT3j1yy/ms/aIptjMUBcD+C9p/DoPZxP1IUdVBM0XM/pc3071OFdT9MiuZ0pv92P4hH/joZF3g/go0e0ZqleD8HEJNv/Gl4PwzYe5n7d3c/gc+GMSZTdj/Fd3Im3iN1P1qem/9d+3M/\",\"dtype\":\"float64\",\"shape\":[75]},\"y\":{\"__ndarray__\":\"GhExyth1ND/Sv8nbtpRIP2vylNV0PVE/aTum7souWD/At0SJ8fVgPw3Iuahxymc/MSNhhJWvcD/bTfBN02d3P2zb5nxnaoA/CD5h5MAGhz8NmeH1TyaQP+zrCsc9p5Y/LbKd76fGnz/bLW5ISEmmPww9YvTcQq8/JV2OstnstT8Er5Y7M8G+P0c+r3jqkcU/5h99k6ZBzj88bCIzFzjVP4enV8oyxN0//yH99nXg5D8qOpLLf0jtP5kqGJXUifQ/c9cS8kHP/D+/DpwzojQEQIEmwoanVwxA4lgXt9HgE0BSSZ2AJuIbQAMJih9jjiNA5q4l5INuK0AwTKYKRj0zQNv5fmq8/DpAaCJseHrtQkB/+zpwzoxKQM3MzMzMeFJAZmZmZmZqWEAAAAAAAFxeQM3MzMzMJmJAmpmZmZkfZUBmZmZmZhhoQDMzMzMzEWtAAAAAAAAKbkBmZmZmZoFwQM3MzMzM/XFAMzMzMzN6c0CamZmZmfZ0QAAAAAAAc3ZAZmZmZmbvd0DNzMzMzGt5QDMzMzMz6HpAmpmZmZlkfEAAAAAAAOF9QGZmZmZmXX9AZmZmZuZsgECamZmZGSuBQM3MzMxM6YFAAAAAAICngkAzMzMzs2WDQGZmZmbmI4RAmpmZmRnihEDNzMzMTKCFQAAAAACAXoZAMzMzM7Mch0BmZmZm5tqHQJqZmZkZmYhAzczMzExXiUAAAAAAgBWKQDMzMzOz04pAZmZmZuaRi0CamZmZGVCMQM3MzMxMDo1AAAAAAIDMjUAzMzMzs4qOQGZmZmbmSI9A\",\"dtype\":\"float64\",\"shape\":[75]}},\"selected\":{\"id\":\"ad601956-8332-4ca3-a0cb-f0e22107ccc0\",\"type\":\"Selection\"},\"selection_policy\":{\"id\":\"61f5ce94-0767-49f7-8e93-8214f618a902\",\"type\":\"UnionRenderers\"}},\"id\":\"92d65d1b-fbd7-42fc-a551-2cdb1597ba12\",\"type\":\"ColumnDataSource\"},{\"attributes\":{\"fill_alpha\":{\"value\":0.1},\"fill_color\":{\"value\":\"#1f77b4\"},\"line_alpha\":{\"value\":0.1},\"line_color\":{\"value\":\"#1f77b4\"},\"x\":{\"field\":\"x\"},\"y\":{\"field\":\"y\"}},\"id\":\"1324bce9-6a40-4244-b60d-bc5b1c21eadd\",\"type\":\"Triangle\"},{\"attributes\":{\"line_alpha\":0.3,\"line_color\":\"#377eb8\",\"line_width\":2,\"x\":{\"field\":\"x\"},\"y\":{\"field\":\"y\"}},\"id\":\"729ceca4-04e3-43b5-849d-0cc609e816dd\",\"type\":\"Line\"},{\"attributes\":{\"above\":[{\"id\":\"0d90e846-d4f6-4a51-ba4d-b1032dbccbc0\",\"type\":\"Legend\"}],\"below\":[{\"id\":\"d943ce40-a1b9-40a3-8d1f-95d2cd01f515\",\"type\":\"LinearAxis\"}],\"left\":[{\"id\":\"cdb46950-1b9c-4e8f-ba94-706dd2ab4ece\",\"type\":\"LogAxis\"}],\"plot_height\":500,\"plot_width\":400,\"renderers\":[{\"id\":\"d943ce40-a1b9-40a3-8d1f-95d2cd01f515\",\"type\":\"LinearAxis\"},{\"id\":\"d22b9ecc-0b82-47fb-9be2-cfb36461a782\",\"type\":\"Grid\"},{\"id\":\"cdb46950-1b9c-4e8f-ba94-706dd2ab4ece\",\"type\":\"LogAxis\"},{\"id\":\"5c81f895-ae20-49f0-a687-437756bedcbe\",\"type\":\"Grid\"},{\"id\":\"d7af4b55-bc10-42b9-9a08-a885ccee467b\",\"type\":\"BoxAnnotation\"},{\"id\":\"1084852b-dd9d-4cf6-9e38-f12ec7aa7183\",\"type\":\"GlyphRenderer\"},{\"id\":\"dcf1c733-313b-42c0-8dad-3ac903f047a4\",\"type\":\"GlyphRenderer\"},{\"id\":\"46095980-3c1b-47a2-93a9-d672804509cc\",\"type\":\"GlyphRenderer\"},{\"id\":\"b4f086ce-1b29-4920-a269-6003b3a42c93\",\"type\":\"GlyphRenderer\"},{\"id\":\"a8213710-b2b5-4406-a3c9-fdd412e17939\",\"type\":\"GlyphRenderer\"},{\"id\":\"3aa1df99-91f0-42e7-9c81-e6f922c84321\",\"type\":\"GlyphRenderer\"},{\"id\":\"0d90e846-d4f6-4a51-ba4d-b1032dbccbc0\",\"type\":\"Legend\"}],\"title\":{\"id\":\"779a715c-87ff-4af4-9afd-f5bc00b30907\",\"type\":\"Title\"},\"toolbar\":{\"id\":\"5a44510b-6ea2-4ccf-a864-c0a494b7db16\",\"type\":\"Toolbar\"},\"toolbar_location\":null,\"x_range\":{\"id\":\"fa371ea5-184f-47f3-8532-30f8daaa2371\",\"type\":\"Range1d\"},\"x_scale\":{\"id\":\"b65cf1c7-43ba-437f-8459-c5b1d8278569\",\"type\":\"LinearScale\"},\"y_range\":{\"id\":\"4be2a452-d349-40c9-a030-42e0971c894d\",\"type\":\"Range1d\"},\"y_scale\":{\"id\":\"0d4d7425-b47d-42e3-8c44-7b04bd2350c5\",\"type\":\"LogScale\"}},\"id\":\"ad3e1105-258c-4248-9602-a9cd10e00221\",\"subtype\":\"Figure\",\"type\":\"Plot\"},{\"attributes\":{\"data_source\":{\"id\":\"92d65d1b-fbd7-42fc-a551-2cdb1597ba12\",\"type\":\"ColumnDataSource\"},\"glyph\":{\"id\":\"ddc27599-5f18-4e4c-916b-065143e382ad\",\"type\":\"Triangle\"},\"hover_glyph\":null,\"muted_glyph\":null,\"nonselection_glyph\":{\"id\":\"1324bce9-6a40-4244-b60d-bc5b1c21eadd\",\"type\":\"Triangle\"},\"selection_glyph\":null,\"view\":{\"id\":\"524ccb7f-ed32-442f-bc9d-4850eed0d51c\",\"type\":\"CDSView\"}},\"id\":\"c47b15a6-17a1-423e-af10-d66393084841\",\"type\":\"GlyphRenderer\"},{\"attributes\":{\"items\":[{\"id\":\"b5942a37-b3ac-4d54-a358-7e9285e1fbc7\",\"type\":\"LegendItem\"},{\"id\":\"cc911b99-adfb-486e-8ff1-e37e9f5ae532\",\"type\":\"LegendItem\"},{\"id\":\"aca58827-cb5e-46cf-ab54-6ce15d185b61\",\"type\":\"LegendItem\"}],\"label_text_font_size\":{\"value\":\"8pt\"},\"location\":\"top_center\",\"orientation\":\"horizontal\",\"plot\":{\"id\":\"e4b9e0c2-b779-4631-9442-db2e8764e55d\",\"subtype\":\"Figure\",\"type\":\"Plot\"}},\"id\":\"7c29c47b-f80a-46f7-b210-e20a9d972ac4\",\"type\":\"Legend\"},{\"attributes\":{\"data_source\":{\"id\":\"34e2cd98-a1ee-42d0-bd0b-fa686dafd81a\",\"type\":\"ColumnDataSource\"},\"glyph\":{\"id\":\"729ceca4-04e3-43b5-849d-0cc609e816dd\",\"type\":\"Line\"},\"hover_glyph\":null,\"muted_glyph\":null,\"nonselection_glyph\":{\"id\":\"66e4d017-e7e6-49b8-9196-885e94288bf0\",\"type\":\"Line\"},\"selection_glyph\":null,\"view\":{\"id\":\"0d26a609-cbc4-49c2-be24-6a4fb852898b\",\"type\":\"CDSView\"}},\"id\":\"71e11b9f-f527-42ae-8944-d9075bd1b8a3\",\"type\":\"GlyphRenderer\"},{\"attributes\":{\"source\":{\"id\":\"34e2cd98-a1ee-42d0-bd0b-fa686dafd81a\",\"type\":\"ColumnDataSource\"}},\"id\":\"0d26a609-cbc4-49c2-be24-6a4fb852898b\",\"type\":\"CDSView\"},{\"attributes\":{\"active_drag\":\"auto\",\"active_inspect\":\"auto\",\"active_scroll\":\"auto\",\"active_tap\":\"auto\",\"tools\":[{\"id\":\"4d394459-40b4-4195-ae4a-f8de23a8f2ca\",\"type\":\"PanTool\"},{\"id\":\"efbbf830-e770-45bf-990a-2fe103b7c78a\",\"type\":\"WheelZoomTool\"},{\"id\":\"db99ec21-0af8-4dfa-aaaf-7bbcec0698df\",\"type\":\"BoxZoomTool\"},{\"id\":\"f34c4e42-1849-498c-b6a9-fd168d8bd50b\",\"type\":\"SaveTool\"},{\"id\":\"cb961cf7-ff2a-4d06-830d-7f8bdd8ecae8\",\"type\":\"ResetTool\"},{\"id\":\"21575328-f1b4-4d9d-85eb-b56f6dfcafa8\",\"type\":\"HelpTool\"}]},\"id\":\"5a44510b-6ea2-4ccf-a864-c0a494b7db16\",\"type\":\"Toolbar\"},{\"attributes\":{\"active_drag\":\"auto\",\"active_inspect\":\"auto\",\"active_scroll\":\"auto\",\"active_tap\":\"auto\",\"tools\":[{\"id\":\"71d638d7-23fb-44a9-8f4d-a2d2f8f86ac0\",\"type\":\"PanTool\"},{\"id\":\"fbc3e4d2-c873-443a-b865-9a8a4cc6412f\",\"type\":\"WheelZoomTool\"},{\"id\":\"e3ba697c-f73b-4f33-a623-39f68f557b15\",\"type\":\"BoxZoomTool\"},{\"id\":\"c1bb0e86-25f7-422f-b63b-17bc641b2159\",\"type\":\"SaveTool\"},{\"id\":\"57959f45-bc0a-4bf2-949c-afe50fbe3ccb\",\"type\":\"ResetTool\"},{\"id\":\"e2f37175-4662-49a6-b44b-3a87abda222a\",\"type\":\"HelpTool\"}]},\"id\":\"14829b3c-bdb3-4d9b-bbdf-a9667737f33d\",\"type\":\"Toolbar\"},{\"attributes\":{\"label\":{\"value\":\"CRD\"},\"renderers\":[{\"id\":\"20b6dbf2-decc-4547-a585-9fd5ffc5591b\",\"type\":\"GlyphRenderer\"},{\"id\":\"7833c8a6-c68b-43ba-99a7-c58f8cd0a869\",\"type\":\"GlyphRenderer\"}]},\"id\":\"b5942a37-b3ac-4d54-a358-7e9285e1fbc7\",\"type\":\"LegendItem\"},{\"attributes\":{},\"id\":\"d01c20f1-e54e-498f-8733-30e1ba53d9b1\",\"type\":\"LinearScale\"},{\"attributes\":{\"callback\":null,\"end\":1.0858365211999999e-05,\"start\":-2.260488412e-06},\"id\":\"fa371ea5-184f-47f3-8532-30f8daaa2371\",\"type\":\"Range1d\"},{\"attributes\":{},\"id\":\"8ee9cbb4-7abf-4953-a050-d05f3a18dfee\",\"type\":\"BasicTicker\"},{\"attributes\":{\"label\":{\"value\":\"WGT igg=1\"},\"renderers\":[{\"id\":\"4ed43250-588a-4cba-acc2-54d314ceaf22\",\"type\":\"GlyphRenderer\"},{\"id\":\"53862c63-c77b-4089-a656-207cbb588e45\",\"type\":\"GlyphRenderer\"}]},\"id\":\"cc911b99-adfb-486e-8ff1-e37e9f5ae532\",\"type\":\"LegendItem\"},{\"attributes\":{},\"id\":\"b65cf1c7-43ba-437f-8459-c5b1d8278569\",\"type\":\"LinearScale\"},{\"attributes\":{\"label\":{\"value\":\"WGT igg=10\"},\"renderers\":[{\"id\":\"c47b15a6-17a1-423e-af10-d66393084841\",\"type\":\"GlyphRenderer\"},{\"id\":\"71e11b9f-f527-42ae-8944-d9075bd1b8a3\",\"type\":\"GlyphRenderer\"}]},\"id\":\"aca58827-cb5e-46cf-ab54-6ce15d185b61\",\"type\":\"LegendItem\"},{\"attributes\":{\"bottom_units\":\"screen\",\"fill_alpha\":{\"value\":0.5},\"fill_color\":{\"value\":\"lightgrey\"},\"left_units\":\"screen\",\"level\":\"overlay\",\"line_alpha\":{\"value\":1.0},\"line_color\":{\"value\":\"black\"},\"line_dash\":[4,4],\"line_width\":{\"value\":2},\"plot\":null,\"render_mode\":\"css\",\"right_units\":\"screen\",\"top_units\":\"screen\"},\"id\":\"d7af4b55-bc10-42b9-9a08-a885ccee467b\",\"type\":\"BoxAnnotation\"},{\"attributes\":{\"items\":[{\"id\":\"3e052c59-1116-4e79-8326-05830ad45fe3\",\"type\":\"LegendItem\"},{\"id\":\"06b55332-341a-4c65-854c-b6c97b413f81\",\"type\":\"LegendItem\"},{\"id\":\"3cebc5ae-8f4c-42ba-be8d-12e56fe147df\",\"type\":\"LegendItem\"}],\"label_text_font_size\":{\"value\":\"8pt\"},\"location\":\"top_center\",\"orientation\":\"horizontal\",\"plot\":{\"id\":\"ad3e1105-258c-4248-9602-a9cd10e00221\",\"subtype\":\"Figure\",\"type\":\"Plot\"}},\"id\":\"0d90e846-d4f6-4a51-ba4d-b1032dbccbc0\",\"type\":\"Legend\"},{\"attributes\":{},\"id\":\"efbbf830-e770-45bf-990a-2fe103b7c78a\",\"type\":\"WheelZoomTool\"},{\"attributes\":{},\"id\":\"0d4d7425-b47d-42e3-8c44-7b04bd2350c5\",\"type\":\"LogScale\"},{\"attributes\":{\"axis_label\":\"cooling rate [K/day]\",\"formatter\":{\"id\":\"8deb92c4-6cca-4674-b213-e84150cbb6e2\",\"type\":\"BasicTickFormatter\"},\"plot\":{\"id\":\"ad3e1105-258c-4248-9602-a9cd10e00221\",\"subtype\":\"Figure\",\"type\":\"Plot\"},\"ticker\":{\"id\":\"9fa68ec5-480c-42b3-89ee-7f8d9934ea64\",\"type\":\"BasicTicker\"}},\"id\":\"d943ce40-a1b9-40a3-8d1f-95d2cd01f515\",\"type\":\"LinearAxis\"},{\"attributes\":{},\"id\":\"9a786220-bec8-46f9-870a-1310877a2943\",\"type\":\"BasicTicker\"},{\"attributes\":{\"dimension\":1,\"plot\":{\"id\":\"e4b9e0c2-b779-4631-9442-db2e8764e55d\",\"subtype\":\"Figure\",\"type\":\"Plot\"},\"ticker\":{\"id\":\"9a786220-bec8-46f9-870a-1310877a2943\",\"type\":\"BasicTicker\"}},\"id\":\"ddca39b2-3f34-46e6-ba4b-d8f8bcf4fd6c\",\"type\":\"Grid\"},{\"attributes\":{},\"id\":\"9fa68ec5-480c-42b3-89ee-7f8d9934ea64\",\"type\":\"BasicTicker\"},{\"attributes\":{\"overlay\":{\"id\":\"d7af4b55-bc10-42b9-9a08-a885ccee467b\",\"type\":\"BoxAnnotation\"}},\"id\":\"db99ec21-0af8-4dfa-aaaf-7bbcec0698df\",\"type\":\"BoxZoomTool\"},{\"attributes\":{},\"id\":\"f34c4e42-1849-498c-b6a9-fd168d8bd50b\",\"type\":\"SaveTool\"},{\"attributes\":{},\"id\":\"cb961cf7-ff2a-4d06-830d-7f8bdd8ecae8\",\"type\":\"ResetTool\"},{\"attributes\":{},\"id\":\"21575328-f1b4-4d9d-85eb-b56f6dfcafa8\",\"type\":\"HelpTool\"},{\"attributes\":{},\"id\":\"61f5ce94-0767-49f7-8e93-8214f618a902\",\"type\":\"UnionRenderers\"},{\"attributes\":{\"axis_label\":\"pressure [mb]\",\"formatter\":{\"id\":\"a97c1298-f688-40a0-8a50-fe5ba437b7ba\",\"type\":\"BasicTickFormatter\"},\"plot\":{\"id\":\"e4b9e0c2-b779-4631-9442-db2e8764e55d\",\"subtype\":\"Figure\",\"type\":\"Plot\"},\"ticker\":{\"id\":\"9a786220-bec8-46f9-870a-1310877a2943\",\"type\":\"BasicTicker\"}},\"id\":\"73b85529-ed8c-497e-9a07-ba36220055ae\",\"type\":\"LinearAxis\"},{\"attributes\":{\"fill_alpha\":{\"value\":0.7},\"fill_color\":{\"value\":\"#4daf4a\"},\"line_alpha\":{\"value\":0.7},\"line_color\":{\"value\":\"#4daf4a\"},\"x\":{\"field\":\"x\"},\"y\":{\"field\":\"y\"}},\"id\":\"0ded1891-9511-4d47-8799-e0003279ed2e\",\"type\":\"Circle\"},{\"attributes\":{\"line_color\":\"#4daf4a\",\"line_width\":1.5,\"x\":{\"field\":\"x\"},\"y\":{\"field\":\"y\"}},\"id\":\"82ea1356-89fc-47e0-9ae6-b410624b212f\",\"type\":\"Line\"},{\"attributes\":{\"axis_label\":\"cooling rate [K/day]\",\"formatter\":{\"id\":\"9f2a5f7c-9972-4231-8b89-e9e3483adb50\",\"type\":\"BasicTickFormatter\"},\"plot\":{\"id\":\"e4b9e0c2-b779-4631-9442-db2e8764e55d\",\"subtype\":\"Figure\",\"type\":\"Plot\"},\"ticker\":{\"id\":\"8ee9cbb4-7abf-4953-a050-d05f3a18dfee\",\"type\":\"BasicTicker\"}},\"id\":\"b40ef82e-5375-4c1e-9777-ccbb7a41056f\",\"type\":\"LinearAxis\"},{\"attributes\":{\"plot\":{\"id\":\"e4b9e0c2-b779-4631-9442-db2e8764e55d\",\"subtype\":\"Figure\",\"type\":\"Plot\"},\"ticker\":{\"id\":\"8ee9cbb4-7abf-4953-a050-d05f3a18dfee\",\"type\":\"BasicTicker\"}},\"id\":\"d5232e27-0e35-45dd-adcf-312a27182c7b\",\"type\":\"Grid\"},{\"attributes\":{\"plot\":{\"id\":\"ad3e1105-258c-4248-9602-a9cd10e00221\",\"subtype\":\"Figure\",\"type\":\"Plot\"},\"ticker\":{\"id\":\"9fa68ec5-480c-42b3-89ee-7f8d9934ea64\",\"type\":\"BasicTicker\"}},\"id\":\"d22b9ecc-0b82-47fb-9be2-cfb36461a782\",\"type\":\"Grid\"},{\"attributes\":{\"line_alpha\":0.1,\"line_color\":\"#1f77b4\",\"line_width\":1.5,\"x\":{\"field\":\"x\"},\"y\":{\"field\":\"y\"}},\"id\":\"811f6642-4c6b-4d2b-b0d6-c8fa210e3342\",\"type\":\"Line\"},{\"attributes\":{\"callback\":null,\"data\":{\"x\":{\"__ndarray__\":\"npOGYNispL6Bb9sjk8SjvqNA6iiEbaG+9fMWLJd2nL6qg04qcQKUvsVHGupkFIK+0bMQHSE+dD71nNiO3viWPhyWFSE+yKY+h61qg7F3sj7b39XmRki7Pln1ixOsGsM+6xoWD+bPyT41O++pwYDQPmC3auhjwNM+zTX8yVzv1j6Dww8i8H7aPmtMNmrIfd4+IA7JCCd84T4LZJCS8f3jPp9bPHl9gOY+6gTIVmyN5D7rJUe/E+PbPk/tsvtuhNA+A5FaqeMLwj6+zQifxaiwPhDHnMYaSJE+Xb8D+QWfhL7UJCo+sDSYvoQY3QsAb6C+I9SD09fUo75MSvCx/Iymvkd9WijVD6i+n2ipH4BpqL6k4VMJnnCovpmQu1GtYai+FWH3YgN1qL6fsYZt46Wpvtd995HL5rK+jvMOgudeur4TLOwiKeLBvol/1QG3MMa+lRlkmyLbyr5s1/Qd+ELQvkXfoxTkX9O+50LFB3CZ1L5iF1Bt4FPQvoUdDltU7bC+jbyXnCiK1j5okvAM/Mz2PrsNsJhlSA0/29L3iyfgHj+vo34xjrksP5SypXC1aTg/PdoHMAxUQz+vLGm4mNhMPxr9ID60d1Q/MiBTrA7IWz99GSfmoh9iP1Ndfq861WY/uGEV4JThaz/vEXzX0Y1wP1vBSA6lLXM/j9C/O3q+dT/ZhD1v3zF4P3RazJMYeXo/LijDYT+FfD8Q+SgQbz5+P1wR6NRdbn8/DisXDGDhfz/3hJ9SQkR/PxWtZ/5UuX0/OwcYW93xez+MKYdAfSV6P1+L69bxang/\",\"dtype\":\"float64\",\"shape\":[75]},\"y\":{\"__ndarray__\":\"GhExyth1ND/Sv8nbtpRIP2vylNV0PVE/aTum7souWD/At0SJ8fVgPw3Iuahxymc/MSNhhJWvcD/bTfBN02d3P2zb5nxnaoA/CD5h5MAGhz8NmeH1TyaQP+zrCsc9p5Y/LbKd76fGnz/bLW5ISEmmPww9YvTcQq8/JV2OstnstT8Er5Y7M8G+P0c+r3jqkcU/5h99k6ZBzj88bCIzFzjVP4enV8oyxN0//yH99nXg5D8qOpLLf0jtP5kqGJXUifQ/c9cS8kHP/D+/DpwzojQEQIEmwoanVwxA4lgXt9HgE0BSSZ2AJuIbQAMJih9jjiNA5q4l5INuK0AwTKYKRj0zQNv5fmq8/DpAaCJseHrtQkB/+zpwzoxKQM3MzMzMeFJAZmZmZmZqWEAAAAAAAFxeQM3MzMzMJmJAmpmZmZkfZUBmZmZmZhhoQDMzMzMzEWtAAAAAAAAKbkBmZmZmZoFwQM3MzMzM/XFAMzMzMzN6c0CamZmZmfZ0QAAAAAAAc3ZAZmZmZmbvd0DNzMzMzGt5QDMzMzMz6HpAmpmZmZlkfEAAAAAAAOF9QGZmZmZmXX9AZmZmZuZsgECamZmZGSuBQM3MzMxM6YFAAAAAAICngkAzMzMzs2WDQGZmZmbmI4RAmpmZmRnihEDNzMzMTKCFQAAAAACAXoZAMzMzM7Mch0BmZmZm5tqHQJqZmZkZmYhAzczMzExXiUAAAAAAgBWKQDMzMzOz04pAZmZmZuaRi0CamZmZGVCMQM3MzMxMDo1AAAAAAIDMjUAzMzMzs4qOQGZmZmbmSI9A\",\"dtype\":\"float64\",\"shape\":[75]}},\"selected\":{\"id\":\"68ecd649-20e1-45ec-bebc-820c98ec3f7f\",\"type\":\"Selection\"},\"selection_policy\":{\"id\":\"cc62f986-fafe-48df-8960-4be012810840\",\"type\":\"UnionRenderers\"}},\"id\":\"b43cfe0c-b202-4a94-a290-86d1d7b9a35b\",\"type\":\"ColumnDataSource\"},{\"attributes\":{},\"id\":\"7daacc5d-9983-4b45-9f9a-34360002cc9f\",\"type\":\"LinearScale\"},{\"attributes\":{\"fill_alpha\":{\"value\":0.1},\"fill_color\":{\"value\":\"#1f77b4\"},\"line_alpha\":{\"value\":0.1},\"line_color\":{\"value\":\"#1f77b4\"},\"x\":{\"field\":\"x\"},\"y\":{\"field\":\"y\"}},\"id\":\"18d71f40-475a-4522-ab29-d202d3b203ae\",\"type\":\"Circle\"},{\"attributes\":{},\"id\":\"bb583ef1-44f1-4d0b-ae8f-3e5d3ef17a28\",\"type\":\"UnionRenderers\"},{\"attributes\":{\"callback\":null,\"end\":0.01,\"start\":1020},\"id\":\"4be2a452-d349-40c9-a030-42e0971c894d\",\"type\":\"Range1d\"},{\"attributes\":{\"data_source\":{\"id\":\"b43cfe0c-b202-4a94-a290-86d1d7b9a35b\",\"type\":\"ColumnDataSource\"},\"glyph\":{\"id\":\"0ded1891-9511-4d47-8799-e0003279ed2e\",\"type\":\"Circle\"},\"hover_glyph\":null,\"muted_glyph\":null,\"nonselection_glyph\":{\"id\":\"18d71f40-475a-4522-ab29-d202d3b203ae\",\"type\":\"Circle\"},\"selection_glyph\":null,\"view\":{\"id\":\"32b51aae-a1f0-4efa-a48c-87393b0ec088\",\"type\":\"CDSView\"}},\"id\":\"1084852b-dd9d-4cf6-9e38-f12ec7aa7183\",\"type\":\"GlyphRenderer\"},{\"attributes\":{\"above\":[{\"id\":\"7c29c47b-f80a-46f7-b210-e20a9d972ac4\",\"type\":\"Legend\"}],\"below\":[{\"id\":\"b40ef82e-5375-4c1e-9777-ccbb7a41056f\",\"type\":\"LinearAxis\"}],\"left\":[{\"id\":\"73b85529-ed8c-497e-9a07-ba36220055ae\",\"type\":\"LinearAxis\"}],\"plot_height\":500,\"plot_width\":400,\"renderers\":[{\"id\":\"b40ef82e-5375-4c1e-9777-ccbb7a41056f\",\"type\":\"LinearAxis\"},{\"id\":\"d5232e27-0e35-45dd-adcf-312a27182c7b\",\"type\":\"Grid\"},{\"id\":\"73b85529-ed8c-497e-9a07-ba36220055ae\",\"type\":\"LinearAxis\"},{\"id\":\"ddca39b2-3f34-46e6-ba4b-d8f8bcf4fd6c\",\"type\":\"Grid\"},{\"id\":\"94d3f6c2-7a5b-474e-acba-2c97d0181cac\",\"type\":\"BoxAnnotation\"},{\"id\":\"20b6dbf2-decc-4547-a585-9fd5ffc5591b\",\"type\":\"GlyphRenderer\"},{\"id\":\"7833c8a6-c68b-43ba-99a7-c58f8cd0a869\",\"type\":\"GlyphRenderer\"},{\"id\":\"4ed43250-588a-4cba-acc2-54d314ceaf22\",\"type\":\"GlyphRenderer\"},{\"id\":\"53862c63-c77b-4089-a656-207cbb588e45\",\"type\":\"GlyphRenderer\"},{\"id\":\"c47b15a6-17a1-423e-af10-d66393084841\",\"type\":\"GlyphRenderer\"},{\"id\":\"71e11b9f-f527-42ae-8944-d9075bd1b8a3\",\"type\":\"GlyphRenderer\"},{\"id\":\"7c29c47b-f80a-46f7-b210-e20a9d972ac4\",\"type\":\"Legend\"}],\"title\":{\"id\":\"9b6a3a36-d0d9-48c9-99d1-a96bccfd5e42\",\"type\":\"Title\"},\"toolbar\":{\"id\":\"14829b3c-bdb3-4d9b-bbdf-a9667737f33d\",\"type\":\"Toolbar\"},\"toolbar_location\":null,\"x_range\":{\"id\":\"d78417d8-ab7a-4dbc-9b95-c5b335990f06\",\"type\":\"Range1d\"},\"x_scale\":{\"id\":\"d01c20f1-e54e-498f-8733-30e1ba53d9b1\",\"type\":\"LinearScale\"},\"y_range\":{\"id\":\"513cceb1-652a-4b5e-a73c-fd159639cebc\",\"type\":\"Range1d\"},\"y_scale\":{\"id\":\"7daacc5d-9983-4b45-9f9a-34360002cc9f\",\"type\":\"LinearScale\"}},\"id\":\"e4b9e0c2-b779-4631-9442-db2e8764e55d\",\"subtype\":\"Figure\",\"type\":\"Plot\"},{\"attributes\":{},\"id\":\"4d394459-40b4-4195-ae4a-f8de23a8f2ca\",\"type\":\"PanTool\"},{\"attributes\":{\"source\":{\"id\":\"587544a8-92d2-4d98-b1f5-55a8d222e910\",\"type\":\"ColumnDataSource\"}},\"id\":\"0c26fcf8-485c-4a7f-9f7e-7007ab6ac75f\",\"type\":\"CDSView\"},{\"attributes\":{\"callback\":null,\"data\":{\"x\":{\"__ndarray__\":\"npOGYNispL6Bb9sjk8SjvqNA6iiEbaG+9fMWLJd2nL6qg04qcQKUvsVHGupkFIK+0bMQHSE+dD71nNiO3viWPhyWFSE+yKY+h61qg7F3sj7b39XmRki7Pln1ixOsGsM+6xoWD+bPyT41O++pwYDQPmC3auhjwNM+zTX8yVzv1j6Dww8i8H7aPmtMNmrIfd4+IA7JCCd84T4LZJCS8f3jPp9bPHl9gOY+6gTIVmyN5D7rJUe/E+PbPk/tsvtuhNA+A5FaqeMLwj6+zQifxaiwPhDHnMYaSJE+Xb8D+QWfhL7UJCo+sDSYvoQY3QsAb6C+I9SD09fUo75MSvCx/Iymvkd9WijVD6i+n2ipH4BpqL6k4VMJnnCovpmQu1GtYai+FWH3YgN1qL6fsYZt46Wpvtd995HL5rK+jvMOgudeur4TLOwiKeLBvol/1QG3MMa+lRlkmyLbyr5s1/Qd+ELQvkXfoxTkX9O+50LFB3CZ1L5iF1Bt4FPQvoUdDltU7bC+jbyXnCiK1j5okvAM/Mz2PrsNsJhlSA0/29L3iyfgHj+vo34xjrksP5SypXC1aTg/PdoHMAxUQz+vLGm4mNhMPxr9ID60d1Q/MiBTrA7IWz99GSfmoh9iP1Ndfq861WY/uGEV4JThaz/vEXzX0Y1wP1vBSA6lLXM/j9C/O3q+dT/ZhD1v3zF4P3RazJMYeXo/LijDYT+FfD8Q+SgQbz5+P1wR6NRdbn8/DisXDGDhfz/3hJ9SQkR/PxWtZ/5UuX0/OwcYW93xez+MKYdAfSV6P1+L69bxang/\",\"dtype\":\"float64\",\"shape\":[75]},\"y\":{\"__ndarray__\":\"GhExyth1ND/Sv8nbtpRIP2vylNV0PVE/aTum7souWD/At0SJ8fVgPw3Iuahxymc/MSNhhJWvcD/bTfBN02d3P2zb5nxnaoA/CD5h5MAGhz8NmeH1TyaQP+zrCsc9p5Y/LbKd76fGnz/bLW5ISEmmPww9YvTcQq8/JV2OstnstT8Er5Y7M8G+P0c+r3jqkcU/5h99k6ZBzj88bCIzFzjVP4enV8oyxN0//yH99nXg5D8qOpLLf0jtP5kqGJXUifQ/c9cS8kHP/D+/DpwzojQEQIEmwoanVwxA4lgXt9HgE0BSSZ2AJuIbQAMJih9jjiNA5q4l5INuK0AwTKYKRj0zQNv5fmq8/DpAaCJseHrtQkB/+zpwzoxKQM3MzMzMeFJAZmZmZmZqWEAAAAAAAFxeQM3MzMzMJmJAmpmZmZkfZUBmZmZmZhhoQDMzMzMzEWtAAAAAAAAKbkBmZmZmZoFwQM3MzMzM/XFAMzMzMzN6c0CamZmZmfZ0QAAAAAAAc3ZAZmZmZmbvd0DNzMzMzGt5QDMzMzMz6HpAmpmZmZlkfEAAAAAAAOF9QGZmZmZmXX9AZmZmZuZsgECamZmZGSuBQM3MzMxM6YFAAAAAAICngkAzMzMzs2WDQGZmZmbmI4RAmpmZmRnihEDNzMzMTKCFQAAAAACAXoZAMzMzM7Mch0BmZmZm5tqHQJqZmZkZmYhAzczMzExXiUAAAAAAgBWKQDMzMzOz04pAZmZmZuaRi0CamZmZGVCMQM3MzMxMDo1AAAAAAIDMjUAzMzMzs4qOQGZmZmbmSI9A\",\"dtype\":\"float64\",\"shape\":[75]}},\"selected\":{\"id\":\"2ab39a89-35f9-47ac-92f0-8c3059de806f\",\"type\":\"Selection\"},\"selection_policy\":{\"id\":\"abaa6169-3e7d-4c5b-8f45-a2389dc37222\",\"type\":\"UnionRenderers\"}},\"id\":\"4745ab9a-b74a-4009-b991-8890e1da643d\",\"type\":\"ColumnDataSource\"},{\"attributes\":{},\"id\":\"419c6cf6-b35a-4982-997c-cda76d435322\",\"type\":\"Selection\"},{\"attributes\":{\"bottom_units\":\"screen\",\"fill_alpha\":{\"value\":0.5},\"fill_color\":{\"value\":\"lightgrey\"},\"left_units\":\"screen\",\"level\":\"overlay\",\"line_alpha\":{\"value\":1.0},\"line_color\":{\"value\":\"black\"},\"line_dash\":[4,4],\"line_width\":{\"value\":2},\"plot\":null,\"render_mode\":\"css\",\"right_units\":\"screen\",\"top_units\":\"screen\"},\"id\":\"94d3f6c2-7a5b-474e-acba-2c97d0181cac\",\"type\":\"BoxAnnotation\"},{\"attributes\":{},\"id\":\"e2f37175-4662-49a6-b44b-3a87abda222a\",\"type\":\"HelpTool\"}],\"root_ids\":[\"a14ee90d-60a1-4d75-a68e-8ee4ca8463b1\"]},\"title\":\"Bokeh Application\",\"version\":\"0.12.16\"}};\n",
       "  var render_items = [{\"docid\":\"f327c0c3-eb86-4c97-bed0-7c5306225b4f\",\"elementid\":\"7ad290b2-e5e1-4e72-951b-ef5e4201faa2\",\"modelid\":\"a14ee90d-60a1-4d75-a68e-8ee4ca8463b1\"}];\n",
       "  root.Bokeh.embed.embed_items_notebook(docs_json, render_items);\n",
       "\n",
       "  }\n",
       "  if (root.Bokeh !== undefined) {\n",
       "    embed_document(root);\n",
       "  } else {\n",
       "    var attempts = 0;\n",
       "    var timer = setInterval(function(root) {\n",
       "      if (root.Bokeh !== undefined) {\n",
       "        embed_document(root);\n",
       "        clearInterval(timer);\n",
       "      }\n",
       "      attempts++;\n",
       "      if (attempts > 100) {\n",
       "        console.log(\"Bokeh: ERROR: Unable to run BokehJS code because BokehJS library is missing\")\n",
       "        clearInterval(timer);\n",
       "      }\n",
       "    }, 10, root)\n",
       "  }\n",
       "})(window);"
      ],
      "application/vnd.bokehjs_exec.v0+json": ""
     },
     "metadata": {
      "application/vnd.bokehjs_exec.v0+json": {
       "id": "a14ee90d-60a1-4d75-a68e-8ee4ca8463b1"
      }
     },
     "output_type": "display_data"
    },
    {
     "data": {
      "text/markdown": [
       "*FIGURE.* Cooling rates. g=2"
      ],
      "text/plain": [
       "<IPython.core.display.Markdown object>"
      ]
     },
     "metadata": {},
     "output_type": "display_data"
    },
    {
     "data": {
      "text/html": [
       "\n",
       "<div class=\"bk-root\">\n",
       "    <div class=\"bk-plotdiv\" id=\"74ef5e5a-7045-40a8-85ce-ee59b8317f54\"></div>\n",
       "</div>"
      ]
     },
     "metadata": {},
     "output_type": "display_data"
    },
    {
     "data": {
      "application/javascript": [
       "(function(root) {\n",
       "  function embed_document(root) {\n",
       "    \n",
       "  var docs_json = {\"d2ea1ff7-ac5f-4f9f-a062-dc2773a52273\":{\"roots\":{\"references\":[{\"attributes\":{\"axis_label\":\"cooling rate [K/day]\",\"formatter\":{\"id\":\"5b066b54-46ff-4c0c-8ea1-44aeeef228f8\",\"type\":\"BasicTickFormatter\"},\"plot\":{\"id\":\"29bbaac9-7ee7-4ba6-9e10-88bf3c3f2785\",\"subtype\":\"Figure\",\"type\":\"Plot\"},\"ticker\":{\"id\":\"8484d1a8-e171-406c-bb0b-612482539ee0\",\"type\":\"BasicTicker\"}},\"id\":\"ed3331c3-45d9-4c56-9b0d-28b1124e4311\",\"type\":\"LinearAxis\"},{\"attributes\":{},\"id\":\"d4d659ce-5319-4f33-94c1-da18c2d8d2cf\",\"type\":\"PanTool\"},{\"attributes\":{},\"id\":\"325f1248-539e-4ef9-902f-a149985eadd8\",\"type\":\"WheelZoomTool\"},{\"attributes\":{\"line_color\":\"#4daf4a\",\"line_width\":1.5,\"x\":{\"field\":\"x\"},\"y\":{\"field\":\"y\"}},\"id\":\"590887eb-1cea-43ca-a8c2-fd792d988dc4\",\"type\":\"Line\"},{\"attributes\":{\"bottom_units\":\"screen\",\"fill_alpha\":{\"value\":0.5},\"fill_color\":{\"value\":\"lightgrey\"},\"left_units\":\"screen\",\"level\":\"overlay\",\"line_alpha\":{\"value\":1.0},\"line_color\":{\"value\":\"black\"},\"line_dash\":[4,4],\"line_width\":{\"value\":2},\"plot\":null,\"render_mode\":\"css\",\"right_units\":\"screen\",\"top_units\":\"screen\"},\"id\":\"76cd4a93-2390-4a05-86b7-7f2f7712051b\",\"type\":\"BoxAnnotation\"},{\"attributes\":{},\"id\":\"170bcbc4-8071-44b4-be75-9105c36a7116\",\"type\":\"HelpTool\"},{\"attributes\":{\"callback\":null,\"data\":{\"x\":{\"__ndarray__\":\"wfSq0E5kbL7p4VfVgLJqvhhfjBLbG2m+9NoS3UMWZb4w9qrXGXNgvss4xDlShlK+eqxwAOZfFD5BHoUN+v9aPib9gbq/WG4+ZVZqelINej66rC8mmfqDPibog/st4ow+GqS3owIGlD5lcOOoTyiaPqiT/dHOyp8+qKzmmKezoj6abbCEv+GlPpDZme2qgKk+RSV9LOqerT4on03G2iaxPiM5iy0pibM+7Pv1yL27sT5jK3S8a1WnPhVOGGagkpo+ugGEZ5THiz6wzuE0yxl4Pr/hSNe7+lM+jVb6xR8cVb5eDnNF8uZkvnkRkSrV4mu+6P8dnXQhcb477J8Cx2N0vgHAOUS3hne+mJo30reLer4wojmrsg1+vp9ULJ0fGYG+ZvKXtrtGg76o6BmqaCSGvhEQmuepjpG+/hf56wMOmr6TSjzM+aKivgSZloLPOKi+KnyOmdWKrr6XY0TqkS+zvqMFlqwWqLe+lVAnxsQwur7wNQeRl1e2vr8xEMUCuqG+gDknGKcVtj4aSFR/qWvaPiFEVPQ/8fE+0kmhTEKaAz8IVKXbBcgSP6ZsCq5bZSA/Y6jnPvChKj+48B1h9180P3yBRq/0oz0/JSgTUGKfRD9rJKWlx5dLP5jC83F10FE/yjDcbDRIVj/OAShcDR1bP3JObEaNF2A/OTcmOv2vYj+mRXn+pktlPyMFhMoH2mc/yCWcQhhLaj9gTnuUEoVsPx99oNBDUW4/NftBthN5bz9CaoB6BqBvP6Pa6CP+1m4/T1KHNjPDbT/4XxoGNJhsP4TvEmAFbWs/\",\"dtype\":\"float64\",\"shape\":[75]},\"y\":{\"__ndarray__\":\"GhExyth1ND/Sv8nbtpRIP2vylNV0PVE/aTum7souWD/At0SJ8fVgPw3Iuahxymc/MSNhhJWvcD/bTfBN02d3P2zb5nxnaoA/CD5h5MAGhz8NmeH1TyaQP+zrCsc9p5Y/LbKd76fGnz/bLW5ISEmmPww9YvTcQq8/JV2OstnstT8Er5Y7M8G+P0c+r3jqkcU/5h99k6ZBzj88bCIzFzjVP4enV8oyxN0//yH99nXg5D8qOpLLf0jtP5kqGJXUifQ/c9cS8kHP/D+/DpwzojQEQIEmwoanVwxA4lgXt9HgE0BSSZ2AJuIbQAMJih9jjiNA5q4l5INuK0AwTKYKRj0zQNv5fmq8/DpAaCJseHrtQkB/+zpwzoxKQM3MzMzMeFJAZmZmZmZqWEAAAAAAAFxeQM3MzMzMJmJAmpmZmZkfZUBmZmZmZhhoQDMzMzMzEWtAAAAAAAAKbkBmZmZmZoFwQM3MzMzM/XFAMzMzMzN6c0CamZmZmfZ0QAAAAAAAc3ZAZmZmZmbvd0DNzMzMzGt5QDMzMzMz6HpAmpmZmZlkfEAAAAAAAOF9QGZmZmZmXX9AZmZmZuZsgECamZmZGSuBQM3MzMxM6YFAAAAAAICngkAzMzMzs2WDQGZmZmbmI4RAmpmZmRnihEDNzMzMTKCFQAAAAACAXoZAMzMzM7Mch0BmZmZm5tqHQJqZmZkZmYhAzczMzExXiUAAAAAAgBWKQDMzMzOz04pAZmZmZuaRi0CamZmZGVCMQM3MzMxMDo1AAAAAAIDMjUAzMzMzs4qOQGZmZmbmSI9A\",\"dtype\":\"float64\",\"shape\":[75]}},\"selected\":{\"id\":\"c6eca2f8-e16e-42d8-ab30-e93b79d78324\",\"type\":\"Selection\"},\"selection_policy\":{\"id\":\"a4984452-f93d-492e-b110-aeaedd2fb709\",\"type\":\"UnionRenderers\"}},\"id\":\"689cd091-03e3-488c-9c86-75b08911b555\",\"type\":\"ColumnDataSource\"},{\"attributes\":{\"plot\":{\"id\":\"29bbaac9-7ee7-4ba6-9e10-88bf3c3f2785\",\"subtype\":\"Figure\",\"type\":\"Plot\"},\"ticker\":{\"id\":\"8484d1a8-e171-406c-bb0b-612482539ee0\",\"type\":\"BasicTicker\"}},\"id\":\"c4610eb3-4243-4951-9b16-150c6869fe04\",\"type\":\"Grid\"},{\"attributes\":{\"overlay\":{\"id\":\"76cd4a93-2390-4a05-86b7-7f2f7712051b\",\"type\":\"BoxAnnotation\"}},\"id\":\"15c34b5e-d990-4956-8ba8-c7fbe35061cc\",\"type\":\"BoxZoomTool\"},{\"attributes\":{\"axis_label\":\"pressure [mb]\",\"formatter\":{\"id\":\"0bbac184-abb9-4f35-948b-6f517dab8b09\",\"type\":\"LogTickFormatter\"},\"plot\":{\"id\":\"e9f1b62c-8bcc-4aa9-9bb8-a98833d31453\",\"subtype\":\"Figure\",\"type\":\"Plot\"},\"ticker\":{\"id\":\"3a8e2f7e-36cb-4df2-b535-71d541fa588a\",\"type\":\"LogTicker\"}},\"id\":\"e69b2e71-78b6-4843-ae2c-711f9efb4f83\",\"type\":\"LogAxis\"},{\"attributes\":{},\"id\":\"60e0ab22-ceda-4be4-aaec-db9442a109f2\",\"type\":\"WheelZoomTool\"},{\"attributes\":{\"axis_label\":\"pressure [mb]\",\"formatter\":{\"id\":\"46145f27-299f-4136-ae10-781598168eb7\",\"type\":\"BasicTickFormatter\"},\"plot\":{\"id\":\"29bbaac9-7ee7-4ba6-9e10-88bf3c3f2785\",\"subtype\":\"Figure\",\"type\":\"Plot\"},\"ticker\":{\"id\":\"83539385-9c20-4da3-a65f-53209e09950e\",\"type\":\"BasicTicker\"}},\"id\":\"36c18668-5cb2-4d70-9b46-c03860a5129a\",\"type\":\"LinearAxis\"},{\"attributes\":{},\"id\":\"18ef5a43-f4d8-4b46-aec1-42790b0b2c58\",\"type\":\"PanTool\"},{\"attributes\":{},\"id\":\"83539385-9c20-4da3-a65f-53209e09950e\",\"type\":\"BasicTicker\"},{\"attributes\":{},\"id\":\"a574d701-1049-4bc2-9495-a69f639889fa\",\"type\":\"Selection\"},{\"attributes\":{},\"id\":\"aa9522fb-5cbe-46d6-b4a1-31a9c468f19c\",\"type\":\"ResetTool\"},{\"attributes\":{\"dimension\":1,\"plot\":{\"id\":\"e9f1b62c-8bcc-4aa9-9bb8-a98833d31453\",\"subtype\":\"Figure\",\"type\":\"Plot\"},\"ticker\":{\"id\":\"3a8e2f7e-36cb-4df2-b535-71d541fa588a\",\"type\":\"LogTicker\"}},\"id\":\"66218231-c18c-4418-8de7-ef957189f85f\",\"type\":\"Grid\"},{\"attributes\":{},\"id\":\"be46fec7-8cc8-4bc6-8a2a-b8d67a6a1421\",\"type\":\"UnionRenderers\"},{\"attributes\":{},\"id\":\"8586c6f9-58e1-41f3-b7c7-613c4670fb78\",\"type\":\"SaveTool\"},{\"attributes\":{\"data_source\":{\"id\":\"cafe948a-2bd7-4839-a418-df6c076f46ea\",\"type\":\"ColumnDataSource\"},\"glyph\":{\"id\":\"2da4847a-a6bd-48ca-bb86-add4cedd95b0\",\"type\":\"Circle\"},\"hover_glyph\":null,\"muted_glyph\":null,\"nonselection_glyph\":{\"id\":\"32717c41-de5a-40b2-850c-f9576694fe43\",\"type\":\"Circle\"},\"selection_glyph\":null,\"view\":{\"id\":\"9d963c63-f37d-4893-8e75-eac941343a4a\",\"type\":\"CDSView\"}},\"id\":\"85a91337-b4cf-4781-9870-ebac54a57ef8\",\"type\":\"GlyphRenderer\"},{\"attributes\":{\"callback\":null,\"end\":0.01,\"start\":1020},\"id\":\"1abf7272-2e51-4822-a79e-2d07876fce5c\",\"type\":\"Range1d\"},{\"attributes\":{\"fill_alpha\":{\"value\":0.7},\"fill_color\":{\"value\":\"#4daf4a\"},\"line_alpha\":{\"value\":0.7},\"line_color\":{\"value\":\"#4daf4a\"},\"x\":{\"field\":\"x\"},\"y\":{\"field\":\"y\"}},\"id\":\"2da4847a-a6bd-48ca-bb86-add4cedd95b0\",\"type\":\"Circle\"},{\"attributes\":{\"dimension\":1,\"plot\":{\"id\":\"29bbaac9-7ee7-4ba6-9e10-88bf3c3f2785\",\"subtype\":\"Figure\",\"type\":\"Plot\"},\"ticker\":{\"id\":\"83539385-9c20-4da3-a65f-53209e09950e\",\"type\":\"BasicTicker\"}},\"id\":\"d0bd6844-73bf-45a8-aa56-9625c4882626\",\"type\":\"Grid\"},{\"attributes\":{\"num_minor_ticks\":10},\"id\":\"3a8e2f7e-36cb-4df2-b535-71d541fa588a\",\"type\":\"LogTicker\"},{\"attributes\":{\"source\":{\"id\":\"cafe948a-2bd7-4839-a418-df6c076f46ea\",\"type\":\"ColumnDataSource\"}},\"id\":\"9d963c63-f37d-4893-8e75-eac941343a4a\",\"type\":\"CDSView\"},{\"attributes\":{\"fill_alpha\":{\"value\":0.1},\"fill_color\":{\"value\":\"#1f77b4\"},\"line_alpha\":{\"value\":0.1},\"line_color\":{\"value\":\"#1f77b4\"},\"x\":{\"field\":\"x\"},\"y\":{\"field\":\"y\"}},\"id\":\"32717c41-de5a-40b2-850c-f9576694fe43\",\"type\":\"Circle\"},{\"attributes\":{\"callback\":null,\"data\":{\"x\":{\"__ndarray__\":\"VueoWZ2EZ75cU1SYV7pmvpwk0Dc3rmS+bdcB0IurYb7fXcUQsfVavtDjiooqHky+VoCZez2tIj5tskVKqlNYPrpojX0wj2o+eiJbDn+Mdj6VxKgBPzaBPuzcWprYxIg+XCl39bshkT5R3z7YwlWWPqfoGWvrHps+F0SyZobhnz4AWORg0KOiPtg4oWGTtqU+QFmS7cE1qT6lgb1HMDCtPg1kWwsSn7A+lYb/9cYzrj7Sm0slu+ujPhoh5MheyJY+YCaNYgP7hz6AgrMMXRJ1PucK3q+WgVI+sLoyZiJMUb6dR2+pLdxhvipA/pLCQGi+qwgoVZI7br4WbV8eaDlyvpEu+BJuPnW+7ltmY/8neL5ihiYJdol7vq1ei+p3in++7APesx/igb4o1eeclZ+Evllwh5YLZJC+Wf/0H19dmL6BOkyTYHOhvi/E6RJztKa+76+SlMSnrL7+unXT2AOyvnuCQJNzPra+sUOq+1PPuL5pbymKl9K1vgvbXGwyAKW+Q6Ogn8Qdrj7UYVZyC1TVPgSfwO638u0+cmeXWHyUAD+HnrwFl/8PP97K36vAChw/VkinfuTTJj+0lnzESX0xP/6Oy2Zpdzk/i2hGhqa6QT/Ajx2avrtHP2o9w5rOq04/EQbW3E41Uz8TveXR4WZXP1iqq7xN0Vs/v5H+r5otYD9pKYI7NXdiP7GNDoXct2Q/poWNoi7hZj9kAQD5s9xoPwV0ImtUemo/fUtN+rOKaz+NrSU1FL1rP5tMb9d4HWs/72G4vO47aj90zv9OQkBpPy8AKqjqFmg/\",\"dtype\":\"float64\",\"shape\":[75]},\"y\":{\"__ndarray__\":\"GhExyth1ND/Sv8nbtpRIP2vylNV0PVE/aTum7souWD/At0SJ8fVgPw3Iuahxymc/MSNhhJWvcD/bTfBN02d3P2zb5nxnaoA/CD5h5MAGhz8NmeH1TyaQP+zrCsc9p5Y/LbKd76fGnz/bLW5ISEmmPww9YvTcQq8/JV2OstnstT8Er5Y7M8G+P0c+r3jqkcU/5h99k6ZBzj88bCIzFzjVP4enV8oyxN0//yH99nXg5D8qOpLLf0jtP5kqGJXUifQ/c9cS8kHP/D+/DpwzojQEQIEmwoanVwxA4lgXt9HgE0BSSZ2AJuIbQAMJih9jjiNA5q4l5INuK0AwTKYKRj0zQNv5fmq8/DpAaCJseHrtQkB/+zpwzoxKQM3MzMzMeFJAZmZmZmZqWEAAAAAAAFxeQM3MzMzMJmJAmpmZmZkfZUBmZmZmZhhoQDMzMzMzEWtAAAAAAAAKbkBmZmZmZoFwQM3MzMzM/XFAMzMzMzN6c0CamZmZmfZ0QAAAAAAAc3ZAZmZmZmbvd0DNzMzMzGt5QDMzMzMz6HpAmpmZmZlkfEAAAAAAAOF9QGZmZmZmXX9AZmZmZuZsgECamZmZGSuBQM3MzMxM6YFAAAAAAICngkAzMzMzs2WDQGZmZmbmI4RAmpmZmRnihEDNzMzMTKCFQAAAAACAXoZAMzMzM7Mch0BmZmZm5tqHQJqZmZkZmYhAzczMzExXiUAAAAAAgBWKQDMzMzOz04pAZmZmZuaRi0CamZmZGVCMQM3MzMxMDo1AAAAAAIDMjUAzMzMzs4qOQGZmZmbmSI9A\",\"dtype\":\"float64\",\"shape\":[75]}},\"selected\":{\"id\":\"3f3c6719-5b16-4660-820d-e83249e2b915\",\"type\":\"Selection\"},\"selection_policy\":{\"id\":\"443d0f68-d0c5-4aa4-968b-6a0ba7feede2\",\"type\":\"UnionRenderers\"}},\"id\":\"38ee8416-6f79-4d76-95f9-d474a532596e\",\"type\":\"ColumnDataSource\"},{\"attributes\":{\"fill_alpha\":{\"value\":0.1},\"fill_color\":{\"value\":\"#1f77b4\"},\"line_alpha\":{\"value\":0.1},\"line_color\":{\"value\":\"#1f77b4\"},\"x\":{\"field\":\"x\"},\"y\":{\"field\":\"y\"}},\"id\":\"2b37b026-4bb0-4f57-ae20-2bb30dbd6829\",\"type\":\"Square\"},{\"attributes\":{\"data_source\":{\"id\":\"78e66ba4-f64b-4003-90ae-9b6946731caa\",\"type\":\"ColumnDataSource\"},\"glyph\":{\"id\":\"108111b2-4daf-4c97-9307-1c1d467334e8\",\"type\":\"Square\"},\"hover_glyph\":null,\"muted_glyph\":null,\"nonselection_glyph\":{\"id\":\"2b37b026-4bb0-4f57-ae20-2bb30dbd6829\",\"type\":\"Square\"},\"selection_glyph\":null,\"view\":{\"id\":\"8a34b541-41b6-44a4-b7f4-5cec9b8e4c95\",\"type\":\"CDSView\"}},\"id\":\"4ab92f5b-7396-4722-adf5-99397b03d2e2\",\"type\":\"GlyphRenderer\"},{\"attributes\":{\"line_color\":\"#4daf4a\",\"line_width\":1.5,\"x\":{\"field\":\"x\"},\"y\":{\"field\":\"y\"}},\"id\":\"9c38dfea-6c3d-4a12-bf10-4d16b4660542\",\"type\":\"Line\"},{\"attributes\":{\"source\":{\"id\":\"689cd091-03e3-488c-9c86-75b08911b555\",\"type\":\"ColumnDataSource\"}},\"id\":\"3d4982ea-f946-4864-8efd-3721d31753e7\",\"type\":\"CDSView\"},{\"attributes\":{\"line_alpha\":0.6,\"line_color\":\"#984ea3\",\"line_width\":3,\"x\":{\"field\":\"x\"},\"y\":{\"field\":\"y\"}},\"id\":\"3b6bc615-e275-45d4-bdc2-6ecd38282e36\",\"type\":\"Line\"},{\"attributes\":{\"callback\":null,\"data\":{\"x\":{\"__ndarray__\":\"VueoWZ2EZ75cU1SYV7pmvpwk0Dc3rmS+bdcB0IurYb7fXcUQsfVavtDjiooqHky+VoCZez2tIj5tskVKqlNYPrpojX0wj2o+eiJbDn+Mdj6VxKgBPzaBPuzcWprYxIg+XCl39bshkT5R3z7YwlWWPqfoGWvrHps+F0SyZobhnz4AWORg0KOiPtg4oWGTtqU+QFmS7cE1qT6lgb1HMDCtPg1kWwsSn7A+lYb/9cYzrj7Sm0slu+ujPhoh5MheyJY+YCaNYgP7hz6AgrMMXRJ1PucK3q+WgVI+sLoyZiJMUb6dR2+pLdxhvipA/pLCQGi+qwgoVZI7br4WbV8eaDlyvpEu+BJuPnW+7ltmY/8neL5ihiYJdol7vq1ei+p3in++7APesx/igb4o1eeclZ+Evllwh5YLZJC+Wf/0H19dmL6BOkyTYHOhvi/E6RJztKa+76+SlMSnrL7+unXT2AOyvnuCQJNzPra+sUOq+1PPuL5pbymKl9K1vgvbXGwyAKW+Q6Ogn8Qdrj7UYVZyC1TVPgSfwO638u0+cmeXWHyUAD+HnrwFl/8PP97K36vAChw/VkinfuTTJj+0lnzESX0xP/6Oy2Zpdzk/i2hGhqa6QT/Ajx2avrtHP2o9w5rOq04/EQbW3E41Uz8TveXR4WZXP1iqq7xN0Vs/v5H+r5otYD9pKYI7NXdiP7GNDoXct2Q/poWNoi7hZj9kAQD5s9xoPwV0ImtUemo/fUtN+rOKaz+NrSU1FL1rP5tMb9d4HWs/72G4vO47aj90zv9OQkBpPy8AKqjqFmg/\",\"dtype\":\"float64\",\"shape\":[75]},\"y\":{\"__ndarray__\":\"GhExyth1ND/Sv8nbtpRIP2vylNV0PVE/aTum7souWD/At0SJ8fVgPw3Iuahxymc/MSNhhJWvcD/bTfBN02d3P2zb5nxnaoA/CD5h5MAGhz8NmeH1TyaQP+zrCsc9p5Y/LbKd76fGnz/bLW5ISEmmPww9YvTcQq8/JV2OstnstT8Er5Y7M8G+P0c+r3jqkcU/5h99k6ZBzj88bCIzFzjVP4enV8oyxN0//yH99nXg5D8qOpLLf0jtP5kqGJXUifQ/c9cS8kHP/D+/DpwzojQEQIEmwoanVwxA4lgXt9HgE0BSSZ2AJuIbQAMJih9jjiNA5q4l5INuK0AwTKYKRj0zQNv5fmq8/DpAaCJseHrtQkB/+zpwzoxKQM3MzMzMeFJAZmZmZmZqWEAAAAAAAFxeQM3MzMzMJmJAmpmZmZkfZUBmZmZmZhhoQDMzMzMzEWtAAAAAAAAKbkBmZmZmZoFwQM3MzMzM/XFAMzMzMzN6c0CamZmZmfZ0QAAAAAAAc3ZAZmZmZmbvd0DNzMzMzGt5QDMzMzMz6HpAmpmZmZlkfEAAAAAAAOF9QGZmZmZmXX9AZmZmZuZsgECamZmZGSuBQM3MzMxM6YFAAAAAAICngkAzMzMzs2WDQGZmZmbmI4RAmpmZmRnihEDNzMzMTKCFQAAAAACAXoZAMzMzM7Mch0BmZmZm5tqHQJqZmZkZmYhAzczMzExXiUAAAAAAgBWKQDMzMzOz04pAZmZmZuaRi0CamZmZGVCMQM3MzMxMDo1AAAAAAIDMjUAzMzMzs4qOQGZmZmbmSI9A\",\"dtype\":\"float64\",\"shape\":[75]}},\"selected\":{\"id\":\"5f4ed398-0702-4c05-93c6-ab246458c6bd\",\"type\":\"Selection\"},\"selection_policy\":{\"id\":\"6c4cf8e5-7e17-42f8-abfd-ed97034b8e78\",\"type\":\"UnionRenderers\"}},\"id\":\"1221abc9-4739-4424-9b40-d50bd465937a\",\"type\":\"ColumnDataSource\"},{\"attributes\":{\"line_alpha\":0.1,\"line_color\":\"#1f77b4\",\"line_width\":3,\"x\":{\"field\":\"x\"},\"y\":{\"field\":\"y\"}},\"id\":\"4025c69d-af2f-4dce-870c-4da8b7db3df0\",\"type\":\"Line\"},{\"attributes\":{\"line_alpha\":0.1,\"line_color\":\"#1f77b4\",\"line_width\":2,\"x\":{\"field\":\"x\"},\"y\":{\"field\":\"y\"}},\"id\":\"c94bb454-f168-4dcf-8649-7cbb863e944c\",\"type\":\"Line\"},{\"attributes\":{\"source\":{\"id\":\"78e66ba4-f64b-4003-90ae-9b6946731caa\",\"type\":\"ColumnDataSource\"}},\"id\":\"8a34b541-41b6-44a4-b7f4-5cec9b8e4c95\",\"type\":\"CDSView\"},{\"attributes\":{\"source\":{\"id\":\"38ee8416-6f79-4d76-95f9-d474a532596e\",\"type\":\"ColumnDataSource\"}},\"id\":\"7b47ed95-bb3e-482b-b2f4-5f77aa02b21e\",\"type\":\"CDSView\"},{\"attributes\":{\"line_alpha\":0.1,\"line_color\":\"#1f77b4\",\"line_width\":1.5,\"x\":{\"field\":\"x\"},\"y\":{\"field\":\"y\"}},\"id\":\"042d64c9-9469-4cb0-b79b-8a548fe4db28\",\"type\":\"Line\"},{\"attributes\":{\"data_source\":{\"id\":\"689cd091-03e3-488c-9c86-75b08911b555\",\"type\":\"ColumnDataSource\"},\"glyph\":{\"id\":\"590887eb-1cea-43ca-a8c2-fd792d988dc4\",\"type\":\"Line\"},\"hover_glyph\":null,\"muted_glyph\":null,\"nonselection_glyph\":{\"id\":\"042d64c9-9469-4cb0-b79b-8a548fe4db28\",\"type\":\"Line\"},\"selection_glyph\":null,\"view\":{\"id\":\"3d4982ea-f946-4864-8efd-3721d31753e7\",\"type\":\"CDSView\"}},\"id\":\"53c61802-84a8-426e-a81f-a6faf962e905\",\"type\":\"GlyphRenderer\"},{\"attributes\":{},\"id\":\"8a85f4f3-4d35-4bc9-979b-fc312f49f540\",\"type\":\"UnionRenderers\"},{\"attributes\":{\"data_source\":{\"id\":\"38ee8416-6f79-4d76-95f9-d474a532596e\",\"type\":\"ColumnDataSource\"},\"glyph\":{\"id\":\"3b6bc615-e275-45d4-bdc2-6ecd38282e36\",\"type\":\"Line\"},\"hover_glyph\":null,\"muted_glyph\":null,\"nonselection_glyph\":{\"id\":\"4025c69d-af2f-4dce-870c-4da8b7db3df0\",\"type\":\"Line\"},\"selection_glyph\":null,\"view\":{\"id\":\"7b47ed95-bb3e-482b-b2f4-5f77aa02b21e\",\"type\":\"CDSView\"}},\"id\":\"33b6bfbc-7eab-439e-aeb4-6a2933428848\",\"type\":\"GlyphRenderer\"},{\"attributes\":{\"callback\":null,\"data\":{\"x\":{\"__ndarray__\":\"VueoWZ2EZ75cU1SYV7pmvpwk0Dc3rmS+bdcB0IurYb7fXcUQsfVavtDjiooqHky+VoCZez2tIj5tskVKqlNYPrpojX0wj2o+eiJbDn+Mdj6VxKgBPzaBPuzcWprYxIg+XCl39bshkT5R3z7YwlWWPqfoGWvrHps+F0SyZobhnz4AWORg0KOiPtg4oWGTtqU+QFmS7cE1qT6lgb1HMDCtPg1kWwsSn7A+lYb/9cYzrj7Sm0slu+ujPhoh5MheyJY+YCaNYgP7hz6AgrMMXRJ1PucK3q+WgVI+sLoyZiJMUb6dR2+pLdxhvipA/pLCQGi+qwgoVZI7br4WbV8eaDlyvpEu+BJuPnW+7ltmY/8neL5ihiYJdol7vq1ei+p3in++7APesx/igb4o1eeclZ+Evllwh5YLZJC+Wf/0H19dmL6BOkyTYHOhvi/E6RJztKa+76+SlMSnrL7+unXT2AOyvnuCQJNzPra+sUOq+1PPuL5pbymKl9K1vgvbXGwyAKW+Q6Ogn8Qdrj7UYVZyC1TVPgSfwO638u0+cmeXWHyUAD+HnrwFl/8PP97K36vAChw/VkinfuTTJj+0lnzESX0xP/6Oy2Zpdzk/i2hGhqa6QT/Ajx2avrtHP2o9w5rOq04/EQbW3E41Uz8TveXR4WZXP1iqq7xN0Vs/v5H+r5otYD9pKYI7NXdiP7GNDoXct2Q/poWNoi7hZj9kAQD5s9xoPwV0ImtUemo/fUtN+rOKaz+NrSU1FL1rP5tMb9d4HWs/72G4vO47aj90zv9OQkBpPy8AKqjqFmg/\",\"dtype\":\"float64\",\"shape\":[75]},\"y\":{\"__ndarray__\":\"GhExyth1ND/Sv8nbtpRIP2vylNV0PVE/aTum7souWD/At0SJ8fVgPw3Iuahxymc/MSNhhJWvcD/bTfBN02d3P2zb5nxnaoA/CD5h5MAGhz8NmeH1TyaQP+zrCsc9p5Y/LbKd76fGnz/bLW5ISEmmPww9YvTcQq8/JV2OstnstT8Er5Y7M8G+P0c+r3jqkcU/5h99k6ZBzj88bCIzFzjVP4enV8oyxN0//yH99nXg5D8qOpLLf0jtP5kqGJXUifQ/c9cS8kHP/D+/DpwzojQEQIEmwoanVwxA4lgXt9HgE0BSSZ2AJuIbQAMJih9jjiNA5q4l5INuK0AwTKYKRj0zQNv5fmq8/DpAaCJseHrtQkB/+zpwzoxKQM3MzMzMeFJAZmZmZmZqWEAAAAAAAFxeQM3MzMzMJmJAmpmZmZkfZUBmZmZmZhhoQDMzMzMzEWtAAAAAAAAKbkBmZmZmZoFwQM3MzMzM/XFAMzMzMzN6c0CamZmZmfZ0QAAAAAAAc3ZAZmZmZmbvd0DNzMzMzGt5QDMzMzMz6HpAmpmZmZlkfEAAAAAAAOF9QGZmZmZmXX9AZmZmZuZsgECamZmZGSuBQM3MzMxM6YFAAAAAAICngkAzMzMzs2WDQGZmZmbmI4RAmpmZmRnihEDNzMzMTKCFQAAAAACAXoZAMzMzM7Mch0BmZmZm5tqHQJqZmZkZmYhAzczMzExXiUAAAAAAgBWKQDMzMzOz04pAZmZmZuaRi0CamZmZGVCMQM3MzMxMDo1AAAAAAIDMjUAzMzMzs4qOQGZmZmbmSI9A\",\"dtype\":\"float64\",\"shape\":[75]}},\"selected\":{\"id\":\"885e41f8-08df-4ec3-b550-9b3751b6c121\",\"type\":\"Selection\"},\"selection_policy\":{\"id\":\"8a85f4f3-4d35-4bc9-979b-fc312f49f540\",\"type\":\"UnionRenderers\"}},\"id\":\"78e66ba4-f64b-4003-90ae-9b6946731caa\",\"type\":\"ColumnDataSource\"},{\"attributes\":{\"callback\":null,\"data\":{\"x\":{\"__ndarray__\":\"6iMikU/KZb4j8Iuet6NlvlHwmX/bIGO+CT2dfKR/YL5vKE8VgLtYvjdCXSr/Mkq+VkmWZknKID7UVypnJOpWPivYiAsGxmg+tPYUgrAHdT4tQR73ygyAPkPvmepzF4c+Tp/WeUbwjz6tc3OwrNGUPsU/FpsMR5k+G3SW0Yu2nT6lFG0SN1+hPuggy3FMPKQ+Ff7lcW5+pz5B6+56YDOrPvl6LxqF+q4+nPg3OkQlrD4FM9zhyJCiPg/3lM9IPJU+AtMd035bhj5kqMTWR6hzPh6Et710U1E+UGMAy8YKUL6ayQewC5tgvkZL7o4HkGa+GUkFFTQibL4R2QoGKPZwvv3N/pjMxXO+y78RX1t7dr7Qx7ySI6B5vqeiZvMBWX2+RClutECjgL7RotB6mS+DvjRPIwQnf46+37v6sp+qlr5GErHRADygvk1nIvtUH6W+xyXyX32oqr7OIe1MbMKwvlxlNIR1sbS+PCJJITwTt76BZ7sPcUe0vszGk3nebKO+NzJCcURLrD7uNI3SH+zTPpoEjVmF8es+YqBdqPns/j7qfbSD+NINPz3WSqHeIRo/hIyFZFRFJT+jjWn7gkswP803L4yPuTc/wwPXutGDQD/0aypVYhpGP9lGvpSVj0w/iXXCPWriUT9OEVNvPMlVP6VWYTme5Fk/dh66/OUcXj8bz7Cosi5hP8Dg7RVjRmM/ymj1sSFIZT+5iZuRCB9nPwnb7ORcnmg/oVwuNRaaaT/p/PgoM8dpPxRSyN8HMWk/jOXxxpZdaD8VLFqspHZnP11bbqOXjmY/\",\"dtype\":\"float64\",\"shape\":[75]},\"y\":{\"__ndarray__\":\"GhExyth1ND/Sv8nbtpRIP2vylNV0PVE/aTum7souWD/At0SJ8fVgPw3Iuahxymc/MSNhhJWvcD/bTfBN02d3P2zb5nxnaoA/CD5h5MAGhz8NmeH1TyaQP+zrCsc9p5Y/LbKd76fGnz/bLW5ISEmmPww9YvTcQq8/JV2OstnstT8Er5Y7M8G+P0c+r3jqkcU/5h99k6ZBzj88bCIzFzjVP4enV8oyxN0//yH99nXg5D8qOpLLf0jtP5kqGJXUifQ/c9cS8kHP/D+/DpwzojQEQIEmwoanVwxA4lgXt9HgE0BSSZ2AJuIbQAMJih9jjiNA5q4l5INuK0AwTKYKRj0zQNv5fmq8/DpAaCJseHrtQkB/+zpwzoxKQM3MzMzMeFJAZmZmZmZqWEAAAAAAAFxeQM3MzMzMJmJAmpmZmZkfZUBmZmZmZhhoQDMzMzMzEWtAAAAAAAAKbkBmZmZmZoFwQM3MzMzM/XFAMzMzMzN6c0CamZmZmfZ0QAAAAAAAc3ZAZmZmZmbvd0DNzMzMzGt5QDMzMzMz6HpAmpmZmZlkfEAAAAAAAOF9QGZmZmZmXX9AZmZmZuZsgECamZmZGSuBQM3MzMxM6YFAAAAAAICngkAzMzMzs2WDQGZmZmbmI4RAmpmZmRnihEDNzMzMTKCFQAAAAACAXoZAMzMzM7Mch0BmZmZm5tqHQJqZmZkZmYhAzczMzExXiUAAAAAAgBWKQDMzMzOz04pAZmZmZuaRi0CamZmZGVCMQM3MzMxMDo1AAAAAAIDMjUAzMzMzs4qOQGZmZmbmSI9A\",\"dtype\":\"float64\",\"shape\":[75]}},\"selected\":{\"id\":\"0e24f876-8cff-42e9-8fb5-fb8ac6f51c25\",\"type\":\"Selection\"},\"selection_policy\":{\"id\":\"be46fec7-8cc8-4bc6-8a2a-b8d67a6a1421\",\"type\":\"UnionRenderers\"}},\"id\":\"8f0fbc2d-1b97-437c-9b94-db7354f24c96\",\"type\":\"ColumnDataSource\"},{\"attributes\":{\"source\":{\"id\":\"eaff69a7-3ffc-40ad-b441-538060f12e84\",\"type\":\"ColumnDataSource\"}},\"id\":\"0518ab1c-abbb-47dc-9fc4-44a0e39855ef\",\"type\":\"CDSView\"},{\"attributes\":{\"fill_alpha\":{\"value\":0.7},\"fill_color\":{\"value\":\"#377eb8\"},\"line_alpha\":{\"value\":0.7},\"line_color\":{\"value\":\"#377eb8\"},\"x\":{\"field\":\"x\"},\"y\":{\"field\":\"y\"}},\"id\":\"554d38e7-e187-45f0-bb74-0c4a5fbdacde\",\"type\":\"Triangle\"},{\"attributes\":{\"callback\":null,\"data\":{\"x\":{\"__ndarray__\":\"6iMikU/KZb4j8Iuet6NlvlHwmX/bIGO+CT2dfKR/YL5vKE8VgLtYvjdCXSr/Mkq+VkmWZknKID7UVypnJOpWPivYiAsGxmg+tPYUgrAHdT4tQR73ygyAPkPvmepzF4c+Tp/WeUbwjz6tc3OwrNGUPsU/FpsMR5k+G3SW0Yu2nT6lFG0SN1+hPuggy3FMPKQ+Ff7lcW5+pz5B6+56YDOrPvl6LxqF+q4+nPg3OkQlrD4FM9zhyJCiPg/3lM9IPJU+AtMd035bhj5kqMTWR6hzPh6Et710U1E+UGMAy8YKUL6ayQewC5tgvkZL7o4HkGa+GUkFFTQibL4R2QoGKPZwvv3N/pjMxXO+y78RX1t7dr7Qx7ySI6B5vqeiZvMBWX2+RClutECjgL7RotB6mS+DvjRPIwQnf46+37v6sp+qlr5GErHRADygvk1nIvtUH6W+xyXyX32oqr7OIe1MbMKwvlxlNIR1sbS+PCJJITwTt76BZ7sPcUe0vszGk3nebKO+NzJCcURLrD7uNI3SH+zTPpoEjVmF8es+YqBdqPns/j7qfbSD+NINPz3WSqHeIRo/hIyFZFRFJT+jjWn7gkswP803L4yPuTc/wwPXutGDQD/0aypVYhpGP9lGvpSVj0w/iXXCPWriUT9OEVNvPMlVP6VWYTme5Fk/dh66/OUcXj8bz7Cosi5hP8Dg7RVjRmM/ymj1sSFIZT+5iZuRCB9nPwnb7ORcnmg/oVwuNRaaaT/p/PgoM8dpPxRSyN8HMWk/jOXxxpZdaD8VLFqspHZnP11bbqOXjmY/\",\"dtype\":\"float64\",\"shape\":[75]},\"y\":{\"__ndarray__\":\"GhExyth1ND/Sv8nbtpRIP2vylNV0PVE/aTum7souWD/At0SJ8fVgPw3Iuahxymc/MSNhhJWvcD/bTfBN02d3P2zb5nxnaoA/CD5h5MAGhz8NmeH1TyaQP+zrCsc9p5Y/LbKd76fGnz/bLW5ISEmmPww9YvTcQq8/JV2OstnstT8Er5Y7M8G+P0c+r3jqkcU/5h99k6ZBzj88bCIzFzjVP4enV8oyxN0//yH99nXg5D8qOpLLf0jtP5kqGJXUifQ/c9cS8kHP/D+/DpwzojQEQIEmwoanVwxA4lgXt9HgE0BSSZ2AJuIbQAMJih9jjiNA5q4l5INuK0AwTKYKRj0zQNv5fmq8/DpAaCJseHrtQkB/+zpwzoxKQM3MzMzMeFJAZmZmZmZqWEAAAAAAAFxeQM3MzMzMJmJAmpmZmZkfZUBmZmZmZhhoQDMzMzMzEWtAAAAAAAAKbkBmZmZmZoFwQM3MzMzM/XFAMzMzMzN6c0CamZmZmfZ0QAAAAAAAc3ZAZmZmZmbvd0DNzMzMzGt5QDMzMzMz6HpAmpmZmZlkfEAAAAAAAOF9QGZmZmZmXX9AZmZmZuZsgECamZmZGSuBQM3MzMxM6YFAAAAAAICngkAzMzMzs2WDQGZmZmbmI4RAmpmZmRnihEDNzMzMTKCFQAAAAACAXoZAMzMzM7Mch0BmZmZm5tqHQJqZmZkZmYhAzczMzExXiUAAAAAAgBWKQDMzMzOz04pAZmZmZuaRi0CamZmZGVCMQM3MzMxMDo1AAAAAAIDMjUAzMzMzs4qOQGZmZmbmSI9A\",\"dtype\":\"float64\",\"shape\":[75]}},\"selected\":{\"id\":\"a574d701-1049-4bc2-9495-a69f639889fa\",\"type\":\"Selection\"},\"selection_policy\":{\"id\":\"77353038-f44a-4358-b6a0-f7b3078c9eff\",\"type\":\"UnionRenderers\"}},\"id\":\"841488e0-7f1b-47e6-a74a-7f55b16b4724\",\"type\":\"ColumnDataSource\"},{\"attributes\":{\"source\":{\"id\":\"8f0fbc2d-1b97-437c-9b94-db7354f24c96\",\"type\":\"ColumnDataSource\"}},\"id\":\"bf8b030f-6bfe-41ac-9d2e-777c40a79330\",\"type\":\"CDSView\"},{\"attributes\":{\"fill_alpha\":{\"value\":0.7},\"fill_color\":{\"value\":\"#984ea3\"},\"line_alpha\":{\"value\":0.7},\"line_color\":{\"value\":\"#984ea3\"},\"x\":{\"field\":\"x\"},\"y\":{\"field\":\"y\"}},\"id\":\"108111b2-4daf-4c97-9307-1c1d467334e8\",\"type\":\"Square\"},{\"attributes\":{\"fill_alpha\":{\"value\":0.1},\"fill_color\":{\"value\":\"#1f77b4\"},\"line_alpha\":{\"value\":0.1},\"line_color\":{\"value\":\"#1f77b4\"},\"x\":{\"field\":\"x\"},\"y\":{\"field\":\"y\"}},\"id\":\"bb4f4053-05b1-422b-83aa-23ccaed36ca1\",\"type\":\"Triangle\"},{\"attributes\":{},\"id\":\"3f3c6719-5b16-4660-820d-e83249e2b915\",\"type\":\"Selection\"},{\"attributes\":{\"line_alpha\":0.3,\"line_color\":\"#377eb8\",\"line_width\":2,\"x\":{\"field\":\"x\"},\"y\":{\"field\":\"y\"}},\"id\":\"decbd81d-27a8-4bcd-a9b7-d00ab5cfff61\",\"type\":\"Line\"},{\"attributes\":{\"callback\":null,\"data\":{\"x\":{\"__ndarray__\":\"VueoWZ2EZ75cU1SYV7pmvpwk0Dc3rmS+bdcB0IurYb7fXcUQsfVavtDjiooqHky+VoCZez2tIj5tskVKqlNYPrpojX0wj2o+eiJbDn+Mdj6VxKgBPzaBPuzcWprYxIg+XCl39bshkT5R3z7YwlWWPqfoGWvrHps+F0SyZobhnz4AWORg0KOiPtg4oWGTtqU+QFmS7cE1qT6lgb1HMDCtPg1kWwsSn7A+lYb/9cYzrj7Sm0slu+ujPhoh5MheyJY+YCaNYgP7hz6AgrMMXRJ1PucK3q+WgVI+sLoyZiJMUb6dR2+pLdxhvipA/pLCQGi+qwgoVZI7br4WbV8eaDlyvpEu+BJuPnW+7ltmY/8neL5ihiYJdol7vq1ei+p3in++7APesx/igb4o1eeclZ+Evllwh5YLZJC+Wf/0H19dmL6BOkyTYHOhvi/E6RJztKa+76+SlMSnrL7+unXT2AOyvnuCQJNzPra+sUOq+1PPuL5pbymKl9K1vgvbXGwyAKW+Q6Ogn8Qdrj7UYVZyC1TVPgSfwO638u0+cmeXWHyUAD+HnrwFl/8PP97K36vAChw/VkinfuTTJj+0lnzESX0xP/6Oy2Zpdzk/i2hGhqa6QT/Ajx2avrtHP2o9w5rOq04/EQbW3E41Uz8TveXR4WZXP1iqq7xN0Vs/v5H+r5otYD9pKYI7NXdiP7GNDoXct2Q/poWNoi7hZj9kAQD5s9xoPwV0ImtUemo/fUtN+rOKaz+NrSU1FL1rP5tMb9d4HWs/72G4vO47aj90zv9OQkBpPy8AKqjqFmg/\",\"dtype\":\"float64\",\"shape\":[75]},\"y\":{\"__ndarray__\":\"GhExyth1ND/Sv8nbtpRIP2vylNV0PVE/aTum7souWD/At0SJ8fVgPw3Iuahxymc/MSNhhJWvcD/bTfBN02d3P2zb5nxnaoA/CD5h5MAGhz8NmeH1TyaQP+zrCsc9p5Y/LbKd76fGnz/bLW5ISEmmPww9YvTcQq8/JV2OstnstT8Er5Y7M8G+P0c+r3jqkcU/5h99k6ZBzj88bCIzFzjVP4enV8oyxN0//yH99nXg5D8qOpLLf0jtP5kqGJXUifQ/c9cS8kHP/D+/DpwzojQEQIEmwoanVwxA4lgXt9HgE0BSSZ2AJuIbQAMJih9jjiNA5q4l5INuK0AwTKYKRj0zQNv5fmq8/DpAaCJseHrtQkB/+zpwzoxKQM3MzMzMeFJAZmZmZmZqWEAAAAAAAFxeQM3MzMzMJmJAmpmZmZkfZUBmZmZmZhhoQDMzMzMzEWtAAAAAAAAKbkBmZmZmZoFwQM3MzMzM/XFAMzMzMzN6c0CamZmZmfZ0QAAAAAAAc3ZAZmZmZmbvd0DNzMzMzGt5QDMzMzMz6HpAmpmZmZlkfEAAAAAAAOF9QGZmZmZmXX9AZmZmZuZsgECamZmZGSuBQM3MzMxM6YFAAAAAAICngkAzMzMzs2WDQGZmZmbmI4RAmpmZmRnihEDNzMzMTKCFQAAAAACAXoZAMzMzM7Mch0BmZmZm5tqHQJqZmZkZmYhAzczMzExXiUAAAAAAgBWKQDMzMzOz04pAZmZmZuaRi0CamZmZGVCMQM3MzMxMDo1AAAAAAIDMjUAzMzMzs4qOQGZmZmbmSI9A\",\"dtype\":\"float64\",\"shape\":[75]}},\"selected\":{\"id\":\"93752a80-e192-4adf-b0a2-513bfb028039\",\"type\":\"Selection\"},\"selection_policy\":{\"id\":\"4d272ce3-17c9-454d-8a9f-472b9443d438\",\"type\":\"UnionRenderers\"}},\"id\":\"fb69469b-4c5c-47e4-9387-7bcb45dbfabf\",\"type\":\"ColumnDataSource\"},{\"attributes\":{\"above\":[{\"id\":\"5767306f-f34d-4714-b8fc-64664efabdb5\",\"type\":\"Legend\"}],\"below\":[{\"id\":\"afa3248c-8c5f-414c-bca5-379ed032cd51\",\"type\":\"LinearAxis\"}],\"left\":[{\"id\":\"e69b2e71-78b6-4843-ae2c-711f9efb4f83\",\"type\":\"LogAxis\"}],\"plot_height\":500,\"plot_width\":400,\"renderers\":[{\"id\":\"afa3248c-8c5f-414c-bca5-379ed032cd51\",\"type\":\"LinearAxis\"},{\"id\":\"5447f8b7-edf3-43ff-96cb-cf40ac0feafb\",\"type\":\"Grid\"},{\"id\":\"e69b2e71-78b6-4843-ae2c-711f9efb4f83\",\"type\":\"LogAxis\"},{\"id\":\"66218231-c18c-4418-8de7-ef957189f85f\",\"type\":\"Grid\"},{\"id\":\"25873d0d-5873-4728-9dcc-98f28cccd074\",\"type\":\"BoxAnnotation\"},{\"id\":\"ce972d84-6ccb-464f-bcc5-978ae0e8a095\",\"type\":\"GlyphRenderer\"},{\"id\":\"5f7d7ab3-eb05-4d0a-9331-8bc509b15703\",\"type\":\"GlyphRenderer\"},{\"id\":\"a94b299b-73cb-4295-9932-a38ae5203302\",\"type\":\"GlyphRenderer\"},{\"id\":\"097be4f1-9303-41fa-b2f5-7645973fb20c\",\"type\":\"GlyphRenderer\"},{\"id\":\"3348811a-e09c-42c2-ad3e-bad4520c73df\",\"type\":\"GlyphRenderer\"},{\"id\":\"0cda70ae-3930-4cf9-af9f-be6c95456ecc\",\"type\":\"GlyphRenderer\"},{\"id\":\"5767306f-f34d-4714-b8fc-64664efabdb5\",\"type\":\"Legend\"}],\"title\":{\"id\":\"7c4d31fc-e5f3-46a6-a108-6a754e7f4ff2\",\"type\":\"Title\"},\"toolbar\":{\"id\":\"4fa7355b-40e7-4799-8d70-d4a356d92f06\",\"type\":\"Toolbar\"},\"toolbar_location\":null,\"x_range\":{\"id\":\"1898af89-547e-458e-b097-603660149059\",\"type\":\"Range1d\"},\"x_scale\":{\"id\":\"ade8b6c6-b077-4afc-84cd-2f5bc6130eb7\",\"type\":\"LinearScale\"},\"y_range\":{\"id\":\"bef22663-f035-4fa1-962d-4a84479d1bb5\",\"type\":\"Range1d\"},\"y_scale\":{\"id\":\"0986432c-9187-4973-af07-e86c7a915244\",\"type\":\"LogScale\"}},\"id\":\"e9f1b62c-8bcc-4aa9-9bb8-a98833d31453\",\"subtype\":\"Figure\",\"type\":\"Plot\"},{\"attributes\":{\"fill_alpha\":{\"value\":0.1},\"fill_color\":{\"value\":\"#1f77b4\"},\"line_alpha\":{\"value\":0.1},\"line_color\":{\"value\":\"#1f77b4\"},\"x\":{\"field\":\"x\"},\"y\":{\"field\":\"y\"}},\"id\":\"34befb35-702a-4911-bd63-7fa3ef392db0\",\"type\":\"Square\"},{\"attributes\":{\"data_source\":{\"id\":\"8f0fbc2d-1b97-437c-9b94-db7354f24c96\",\"type\":\"ColumnDataSource\"},\"glyph\":{\"id\":\"554d38e7-e187-45f0-bb74-0c4a5fbdacde\",\"type\":\"Triangle\"},\"hover_glyph\":null,\"muted_glyph\":null,\"nonselection_glyph\":{\"id\":\"bb4f4053-05b1-422b-83aa-23ccaed36ca1\",\"type\":\"Triangle\"},\"selection_glyph\":null,\"view\":{\"id\":\"bf8b030f-6bfe-41ac-9d2e-777c40a79330\",\"type\":\"CDSView\"}},\"id\":\"a968cfe0-03a0-4537-92f5-b73013a966c5\",\"type\":\"GlyphRenderer\"},{\"attributes\":{\"data_source\":{\"id\":\"841488e0-7f1b-47e6-a74a-7f55b16b4724\",\"type\":\"ColumnDataSource\"},\"glyph\":{\"id\":\"decbd81d-27a8-4bcd-a9b7-d00ab5cfff61\",\"type\":\"Line\"},\"hover_glyph\":null,\"muted_glyph\":null,\"nonselection_glyph\":{\"id\":\"c94bb454-f168-4dcf-8649-7cbb863e944c\",\"type\":\"Line\"},\"selection_glyph\":null,\"view\":{\"id\":\"10626622-8d8e-4ec7-b195-468a7b96ee8d\",\"type\":\"CDSView\"}},\"id\":\"3960992e-095d-4cf7-95ed-5352b7a332f1\",\"type\":\"GlyphRenderer\"},{\"attributes\":{\"source\":{\"id\":\"841488e0-7f1b-47e6-a74a-7f55b16b4724\",\"type\":\"ColumnDataSource\"}},\"id\":\"10626622-8d8e-4ec7-b195-468a7b96ee8d\",\"type\":\"CDSView\"},{\"attributes\":{\"active_drag\":\"auto\",\"active_inspect\":\"auto\",\"active_scroll\":\"auto\",\"active_tap\":\"auto\",\"tools\":[{\"id\":\"d4d659ce-5319-4f33-94c1-da18c2d8d2cf\",\"type\":\"PanTool\"},{\"id\":\"325f1248-539e-4ef9-902f-a149985eadd8\",\"type\":\"WheelZoomTool\"},{\"id\":\"b20f810b-278a-4d14-9d5e-308e94b2b89d\",\"type\":\"BoxZoomTool\"},{\"id\":\"fe42812e-ee72-492f-9e16-7e0b4c09dda3\",\"type\":\"SaveTool\"},{\"id\":\"1df2cc0f-f9ad-4311-adb5-5902710bedc4\",\"type\":\"ResetTool\"},{\"id\":\"a1dbb07a-308f-4c7e-b32a-d26ac8b2d1a0\",\"type\":\"HelpTool\"}]},\"id\":\"4fa7355b-40e7-4799-8d70-d4a356d92f06\",\"type\":\"Toolbar\"},{\"attributes\":{\"label\":{\"value\":\"CRD\"},\"renderers\":[{\"id\":\"85a91337-b4cf-4781-9870-ebac54a57ef8\",\"type\":\"GlyphRenderer\"},{\"id\":\"53c61802-84a8-426e-a81f-a6faf962e905\",\"type\":\"GlyphRenderer\"}]},\"id\":\"b2d87570-dd81-42d8-b6af-d8856b789d99\",\"type\":\"LegendItem\"},{\"attributes\":{\"callback\":null,\"end\":1.1816218818e-06,\"start\":-5.726130618e-07},\"id\":\"1898af89-547e-458e-b097-603660149059\",\"type\":\"Range1d\"},{\"attributes\":{\"data_source\":{\"id\":\"fb69469b-4c5c-47e4-9387-7bcb45dbfabf\",\"type\":\"ColumnDataSource\"},\"glyph\":{\"id\":\"1c9436f2-998f-4a54-9581-8b732c4acea8\",\"type\":\"Square\"},\"hover_glyph\":null,\"muted_glyph\":null,\"nonselection_glyph\":{\"id\":\"34befb35-702a-4911-bd63-7fa3ef392db0\",\"type\":\"Square\"},\"selection_glyph\":null,\"view\":{\"id\":\"bce359e5-8240-415d-b304-a07330fc10a0\",\"type\":\"CDSView\"}},\"id\":\"a94b299b-73cb-4295-9932-a38ae5203302\",\"type\":\"GlyphRenderer\"},{\"attributes\":{\"label\":{\"value\":\"WGT igg=1\"},\"renderers\":[{\"id\":\"4ab92f5b-7396-4722-adf5-99397b03d2e2\",\"type\":\"GlyphRenderer\"},{\"id\":\"33b6bfbc-7eab-439e-aeb4-6a2933428848\",\"type\":\"GlyphRenderer\"}]},\"id\":\"dc4b3527-008e-441c-b36f-4aaa79555a70\",\"type\":\"LegendItem\"},{\"attributes\":{},\"id\":\"ade8b6c6-b077-4afc-84cd-2f5bc6130eb7\",\"type\":\"LinearScale\"},{\"attributes\":{\"source\":{\"id\":\"2f6d5205-e445-4ca0-976a-635fdca2fd00\",\"type\":\"ColumnDataSource\"}},\"id\":\"b10a004d-417b-4092-ab39-24bb14c12caa\",\"type\":\"CDSView\"},{\"attributes\":{\"label\":{\"value\":\"WGT igg=10\"},\"renderers\":[{\"id\":\"a968cfe0-03a0-4537-92f5-b73013a966c5\",\"type\":\"GlyphRenderer\"},{\"id\":\"3960992e-095d-4cf7-95ed-5352b7a332f1\",\"type\":\"GlyphRenderer\"}]},\"id\":\"15c38071-eca4-4094-9c1f-b7ade23c2f36\",\"type\":\"LegendItem\"},{\"attributes\":{\"line_alpha\":0.6,\"line_color\":\"#984ea3\",\"line_width\":3,\"x\":{\"field\":\"x\"},\"y\":{\"field\":\"y\"}},\"id\":\"ad41b748-d0f3-4d6e-9e0f-9ca66500782a\",\"type\":\"Line\"},{\"attributes\":{\"plot\":{\"id\":\"e9f1b62c-8bcc-4aa9-9bb8-a98833d31453\",\"subtype\":\"Figure\",\"type\":\"Plot\"},\"ticker\":{\"id\":\"2379dfa0-85d2-434c-bee4-254dfd671c3f\",\"type\":\"BasicTicker\"}},\"id\":\"5447f8b7-edf3-43ff-96cb-cf40ac0feafb\",\"type\":\"Grid\"},{\"attributes\":{\"line_alpha\":0.1,\"line_color\":\"#1f77b4\",\"line_width\":3,\"x\":{\"field\":\"x\"},\"y\":{\"field\":\"y\"}},\"id\":\"72c8f630-3ff8-48aa-b486-9633dac1e63e\",\"type\":\"Line\"},{\"attributes\":{\"items\":[{\"id\":\"ff887450-57bb-4240-886f-83ddb7901d32\",\"type\":\"LegendItem\"},{\"id\":\"a610be82-6a7b-4a9c-8149-02680d44d536\",\"type\":\"LegendItem\"},{\"id\":\"7a7c2142-0114-4281-a6ed-1ea6854beb38\",\"type\":\"LegendItem\"}],\"label_text_font_size\":{\"value\":\"8pt\"},\"location\":\"top_center\",\"orientation\":\"horizontal\",\"plot\":{\"id\":\"e9f1b62c-8bcc-4aa9-9bb8-a98833d31453\",\"subtype\":\"Figure\",\"type\":\"Plot\"}},\"id\":\"5767306f-f34d-4714-b8fc-64664efabdb5\",\"type\":\"Legend\"},{\"attributes\":{\"line_alpha\":0.1,\"line_color\":\"#1f77b4\",\"line_width\":2,\"x\":{\"field\":\"x\"},\"y\":{\"field\":\"y\"}},\"id\":\"2062f7b0-93ad-4635-95a7-dc1aa318e4a3\",\"type\":\"Line\"},{\"attributes\":{\"overlay\":{\"id\":\"25873d0d-5873-4728-9dcc-98f28cccd074\",\"type\":\"BoxAnnotation\"}},\"id\":\"b20f810b-278a-4d14-9d5e-308e94b2b89d\",\"type\":\"BoxZoomTool\"},{\"attributes\":{\"source\":{\"id\":\"fb69469b-4c5c-47e4-9387-7bcb45dbfabf\",\"type\":\"ColumnDataSource\"}},\"id\":\"bce359e5-8240-415d-b304-a07330fc10a0\",\"type\":\"CDSView\"},{\"attributes\":{},\"id\":\"0986432c-9187-4973-af07-e86c7a915244\",\"type\":\"LogScale\"},{\"attributes\":{\"source\":{\"id\":\"1221abc9-4739-4424-9b40-d50bd465937a\",\"type\":\"ColumnDataSource\"}},\"id\":\"eb8cfa0f-776e-400c-8c7b-2a427b30e464\",\"type\":\"CDSView\"},{\"attributes\":{\"axis_label\":\"cooling rate [K/day]\",\"formatter\":{\"id\":\"74be6fa4-d0b5-4115-982e-9eeaa97645ab\",\"type\":\"BasicTickFormatter\"},\"plot\":{\"id\":\"e9f1b62c-8bcc-4aa9-9bb8-a98833d31453\",\"subtype\":\"Figure\",\"type\":\"Plot\"},\"ticker\":{\"id\":\"2379dfa0-85d2-434c-bee4-254dfd671c3f\",\"type\":\"BasicTicker\"}},\"id\":\"afa3248c-8c5f-414c-bca5-379ed032cd51\",\"type\":\"LinearAxis\"},{\"attributes\":{},\"id\":\"2379dfa0-85d2-434c-bee4-254dfd671c3f\",\"type\":\"BasicTicker\"},{\"attributes\":{\"bottom_units\":\"screen\",\"fill_alpha\":{\"value\":0.5},\"fill_color\":{\"value\":\"lightgrey\"},\"left_units\":\"screen\",\"level\":\"overlay\",\"line_alpha\":{\"value\":1.0},\"line_color\":{\"value\":\"black\"},\"line_dash\":[4,4],\"line_width\":{\"value\":2},\"plot\":null,\"render_mode\":\"css\",\"right_units\":\"screen\",\"top_units\":\"screen\"},\"id\":\"25873d0d-5873-4728-9dcc-98f28cccd074\",\"type\":\"BoxAnnotation\"},{\"attributes\":{},\"id\":\"fe42812e-ee72-492f-9e16-7e0b4c09dda3\",\"type\":\"SaveTool\"},{\"attributes\":{\"callback\":null,\"data\":{\"x\":{\"__ndarray__\":\"wfSq0E5kbL7p4VfVgLJqvhhfjBLbG2m+9NoS3UMWZb4w9qrXGXNgvss4xDlShlK+eqxwAOZfFD5BHoUN+v9aPib9gbq/WG4+ZVZqelINej66rC8mmfqDPibog/st4ow+GqS3owIGlD5lcOOoTyiaPqiT/dHOyp8+qKzmmKezoj6abbCEv+GlPpDZme2qgKk+RSV9LOqerT4on03G2iaxPiM5iy0pibM+7Pv1yL27sT5jK3S8a1WnPhVOGGagkpo+ugGEZ5THiz6wzuE0yxl4Pr/hSNe7+lM+jVb6xR8cVb5eDnNF8uZkvnkRkSrV4mu+6P8dnXQhcb477J8Cx2N0vgHAOUS3hne+mJo30reLer4wojmrsg1+vp9ULJ0fGYG+ZvKXtrtGg76o6BmqaCSGvhEQmuepjpG+/hf56wMOmr6TSjzM+aKivgSZloLPOKi+KnyOmdWKrr6XY0TqkS+zvqMFlqwWqLe+lVAnxsQwur7wNQeRl1e2vr8xEMUCuqG+gDknGKcVtj4aSFR/qWvaPiFEVPQ/8fE+0kmhTEKaAz8IVKXbBcgSP6ZsCq5bZSA/Y6jnPvChKj+48B1h9180P3yBRq/0oz0/JSgTUGKfRD9rJKWlx5dLP5jC83F10FE/yjDcbDRIVj/OAShcDR1bP3JObEaNF2A/OTcmOv2vYj+mRXn+pktlPyMFhMoH2mc/yCWcQhhLaj9gTnuUEoVsPx99oNBDUW4/NftBthN5bz9CaoB6BqBvP6Pa6CP+1m4/T1KHNjPDbT/4XxoGNJhsP4TvEmAFbWs/\",\"dtype\":\"float64\",\"shape\":[75]},\"y\":{\"__ndarray__\":\"GhExyth1ND/Sv8nbtpRIP2vylNV0PVE/aTum7souWD/At0SJ8fVgPw3Iuahxymc/MSNhhJWvcD/bTfBN02d3P2zb5nxnaoA/CD5h5MAGhz8NmeH1TyaQP+zrCsc9p5Y/LbKd76fGnz/bLW5ISEmmPww9YvTcQq8/JV2OstnstT8Er5Y7M8G+P0c+r3jqkcU/5h99k6ZBzj88bCIzFzjVP4enV8oyxN0//yH99nXg5D8qOpLLf0jtP5kqGJXUifQ/c9cS8kHP/D+/DpwzojQEQIEmwoanVwxA4lgXt9HgE0BSSZ2AJuIbQAMJih9jjiNA5q4l5INuK0AwTKYKRj0zQNv5fmq8/DpAaCJseHrtQkB/+zpwzoxKQM3MzMzMeFJAZmZmZmZqWEAAAAAAAFxeQM3MzMzMJmJAmpmZmZkfZUBmZmZmZhhoQDMzMzMzEWtAAAAAAAAKbkBmZmZmZoFwQM3MzMzM/XFAMzMzMzN6c0CamZmZmfZ0QAAAAAAAc3ZAZmZmZmbvd0DNzMzMzGt5QDMzMzMz6HpAmpmZmZlkfEAAAAAAAOF9QGZmZmZmXX9AZmZmZuZsgECamZmZGSuBQM3MzMxM6YFAAAAAAICngkAzMzMzs2WDQGZmZmbmI4RAmpmZmRnihEDNzMzMTKCFQAAAAACAXoZAMzMzM7Mch0BmZmZm5tqHQJqZmZkZmYhAzczMzExXiUAAAAAAgBWKQDMzMzOz04pAZmZmZuaRi0CamZmZGVCMQM3MzMxMDo1AAAAAAIDMjUAzMzMzs4qOQGZmZmbmSI9A\",\"dtype\":\"float64\",\"shape\":[75]}},\"selected\":{\"id\":\"f5d371eb-b598-47d6-840c-66642360bd0b\",\"type\":\"Selection\"},\"selection_policy\":{\"id\":\"10dd8c89-fa1a-4c5c-998c-8909504368a7\",\"type\":\"UnionRenderers\"}},\"id\":\"2f6d5205-e445-4ca0-976a-635fdca2fd00\",\"type\":\"ColumnDataSource\"},{\"attributes\":{},\"id\":\"1df2cc0f-f9ad-4311-adb5-5902710bedc4\",\"type\":\"ResetTool\"},{\"attributes\":{},\"id\":\"a1dbb07a-308f-4c7e-b32a-d26ac8b2d1a0\",\"type\":\"HelpTool\"},{\"attributes\":{\"line_alpha\":0.1,\"line_color\":\"#1f77b4\",\"line_width\":1.5,\"x\":{\"field\":\"x\"},\"y\":{\"field\":\"y\"}},\"id\":\"2332910d-5a81-4422-a5f5-62f9bacecb40\",\"type\":\"Line\"},{\"attributes\":{\"data_source\":{\"id\":\"1221abc9-4739-4424-9b40-d50bd465937a\",\"type\":\"ColumnDataSource\"},\"glyph\":{\"id\":\"ad41b748-d0f3-4d6e-9e0f-9ca66500782a\",\"type\":\"Line\"},\"hover_glyph\":null,\"muted_glyph\":null,\"nonselection_glyph\":{\"id\":\"72c8f630-3ff8-48aa-b486-9633dac1e63e\",\"type\":\"Line\"},\"selection_glyph\":null,\"view\":{\"id\":\"eb8cfa0f-776e-400c-8c7b-2a427b30e464\",\"type\":\"CDSView\"}},\"id\":\"097be4f1-9303-41fa-b2f5-7645973fb20c\",\"type\":\"GlyphRenderer\"},{\"attributes\":{\"data_source\":{\"id\":\"2f6d5205-e445-4ca0-976a-635fdca2fd00\",\"type\":\"ColumnDataSource\"},\"glyph\":{\"id\":\"9c38dfea-6c3d-4a12-bf10-4d16b4660542\",\"type\":\"Line\"},\"hover_glyph\":null,\"muted_glyph\":null,\"nonselection_glyph\":{\"id\":\"2332910d-5a81-4422-a5f5-62f9bacecb40\",\"type\":\"Line\"},\"selection_glyph\":null,\"view\":{\"id\":\"b10a004d-417b-4092-ab39-24bb14c12caa\",\"type\":\"CDSView\"}},\"id\":\"5f7d7ab3-eb05-4d0a-9331-8bc509b15703\",\"type\":\"GlyphRenderer\"},{\"attributes\":{\"callback\":null,\"data\":{\"x\":{\"__ndarray__\":\"6iMikU/KZb4j8Iuet6NlvlHwmX/bIGO+CT2dfKR/YL5vKE8VgLtYvjdCXSr/Mkq+VkmWZknKID7UVypnJOpWPivYiAsGxmg+tPYUgrAHdT4tQR73ygyAPkPvmepzF4c+Tp/WeUbwjz6tc3OwrNGUPsU/FpsMR5k+G3SW0Yu2nT6lFG0SN1+hPuggy3FMPKQ+Ff7lcW5+pz5B6+56YDOrPvl6LxqF+q4+nPg3OkQlrD4FM9zhyJCiPg/3lM9IPJU+AtMd035bhj5kqMTWR6hzPh6Et710U1E+UGMAy8YKUL6ayQewC5tgvkZL7o4HkGa+GUkFFTQibL4R2QoGKPZwvv3N/pjMxXO+y78RX1t7dr7Qx7ySI6B5vqeiZvMBWX2+RClutECjgL7RotB6mS+DvjRPIwQnf46+37v6sp+qlr5GErHRADygvk1nIvtUH6W+xyXyX32oqr7OIe1MbMKwvlxlNIR1sbS+PCJJITwTt76BZ7sPcUe0vszGk3nebKO+NzJCcURLrD7uNI3SH+zTPpoEjVmF8es+YqBdqPns/j7qfbSD+NINPz3WSqHeIRo/hIyFZFRFJT+jjWn7gkswP803L4yPuTc/wwPXutGDQD/0aypVYhpGP9lGvpSVj0w/iXXCPWriUT9OEVNvPMlVP6VWYTme5Fk/dh66/OUcXj8bz7Cosi5hP8Dg7RVjRmM/ymj1sSFIZT+5iZuRCB9nPwnb7ORcnmg/oVwuNRaaaT/p/PgoM8dpPxRSyN8HMWk/jOXxxpZdaD8VLFqspHZnP11bbqOXjmY/\",\"dtype\":\"float64\",\"shape\":[75]},\"y\":{\"__ndarray__\":\"GhExyth1ND/Sv8nbtpRIP2vylNV0PVE/aTum7souWD/At0SJ8fVgPw3Iuahxymc/MSNhhJWvcD/bTfBN02d3P2zb5nxnaoA/CD5h5MAGhz8NmeH1TyaQP+zrCsc9p5Y/LbKd76fGnz/bLW5ISEmmPww9YvTcQq8/JV2OstnstT8Er5Y7M8G+P0c+r3jqkcU/5h99k6ZBzj88bCIzFzjVP4enV8oyxN0//yH99nXg5D8qOpLLf0jtP5kqGJXUifQ/c9cS8kHP/D+/DpwzojQEQIEmwoanVwxA4lgXt9HgE0BSSZ2AJuIbQAMJih9jjiNA5q4l5INuK0AwTKYKRj0zQNv5fmq8/DpAaCJseHrtQkB/+zpwzoxKQM3MzMzMeFJAZmZmZmZqWEAAAAAAAFxeQM3MzMzMJmJAmpmZmZkfZUBmZmZmZhhoQDMzMzMzEWtAAAAAAAAKbkBmZmZmZoFwQM3MzMzM/XFAMzMzMzN6c0CamZmZmfZ0QAAAAAAAc3ZAZmZmZmbvd0DNzMzMzGt5QDMzMzMz6HpAmpmZmZlkfEAAAAAAAOF9QGZmZmZmXX9AZmZmZuZsgECamZmZGSuBQM3MzMxM6YFAAAAAAICngkAzMzMzs2WDQGZmZmbmI4RAmpmZmRnihEDNzMzMTKCFQAAAAACAXoZAMzMzM7Mch0BmZmZm5tqHQJqZmZkZmYhAzczMzExXiUAAAAAAgBWKQDMzMzOz04pAZmZmZuaRi0CamZmZGVCMQM3MzMxMDo1AAAAAAIDMjUAzMzMzs4qOQGZmZmbmSI9A\",\"dtype\":\"float64\",\"shape\":[75]}},\"selected\":{\"id\":\"2566f4b0-b135-4010-92a9-f9a460833ff3\",\"type\":\"Selection\"},\"selection_policy\":{\"id\":\"3958b25f-9acf-4ddb-84f3-dea8f443545b\",\"type\":\"UnionRenderers\"}},\"id\":\"dc21c4c9-d29e-44ba-9495-e07a5fb40fb0\",\"type\":\"ColumnDataSource\"},{\"attributes\":{},\"id\":\"443d0f68-d0c5-4aa4-968b-6a0ba7feede2\",\"type\":\"UnionRenderers\"},{\"attributes\":{\"fill_alpha\":{\"value\":0.7},\"fill_color\":{\"value\":\"#377eb8\"},\"line_alpha\":{\"value\":0.7},\"line_color\":{\"value\":\"#377eb8\"},\"x\":{\"field\":\"x\"},\"y\":{\"field\":\"y\"}},\"id\":\"9301c70a-3433-487f-b9ae-fce496f79e49\",\"type\":\"Triangle\"},{\"attributes\":{\"callback\":null,\"data\":{\"x\":{\"__ndarray__\":\"6iMikU/KZb4j8Iuet6NlvlHwmX/bIGO+CT2dfKR/YL5vKE8VgLtYvjdCXSr/Mkq+VkmWZknKID7UVypnJOpWPivYiAsGxmg+tPYUgrAHdT4tQR73ygyAPkPvmepzF4c+Tp/WeUbwjz6tc3OwrNGUPsU/FpsMR5k+G3SW0Yu2nT6lFG0SN1+hPuggy3FMPKQ+Ff7lcW5+pz5B6+56YDOrPvl6LxqF+q4+nPg3OkQlrD4FM9zhyJCiPg/3lM9IPJU+AtMd035bhj5kqMTWR6hzPh6Et710U1E+UGMAy8YKUL6ayQewC5tgvkZL7o4HkGa+GUkFFTQibL4R2QoGKPZwvv3N/pjMxXO+y78RX1t7dr7Qx7ySI6B5vqeiZvMBWX2+RClutECjgL7RotB6mS+DvjRPIwQnf46+37v6sp+qlr5GErHRADygvk1nIvtUH6W+xyXyX32oqr7OIe1MbMKwvlxlNIR1sbS+PCJJITwTt76BZ7sPcUe0vszGk3nebKO+NzJCcURLrD7uNI3SH+zTPpoEjVmF8es+YqBdqPns/j7qfbSD+NINPz3WSqHeIRo/hIyFZFRFJT+jjWn7gkswP803L4yPuTc/wwPXutGDQD/0aypVYhpGP9lGvpSVj0w/iXXCPWriUT9OEVNvPMlVP6VWYTme5Fk/dh66/OUcXj8bz7Cosi5hP8Dg7RVjRmM/ymj1sSFIZT+5iZuRCB9nPwnb7ORcnmg/oVwuNRaaaT/p/PgoM8dpPxRSyN8HMWk/jOXxxpZdaD8VLFqspHZnP11bbqOXjmY/\",\"dtype\":\"float64\",\"shape\":[75]},\"y\":{\"__ndarray__\":\"GhExyth1ND/Sv8nbtpRIP2vylNV0PVE/aTum7souWD/At0SJ8fVgPw3Iuahxymc/MSNhhJWvcD/bTfBN02d3P2zb5nxnaoA/CD5h5MAGhz8NmeH1TyaQP+zrCsc9p5Y/LbKd76fGnz/bLW5ISEmmPww9YvTcQq8/JV2OstnstT8Er5Y7M8G+P0c+r3jqkcU/5h99k6ZBzj88bCIzFzjVP4enV8oyxN0//yH99nXg5D8qOpLLf0jtP5kqGJXUifQ/c9cS8kHP/D+/DpwzojQEQIEmwoanVwxA4lgXt9HgE0BSSZ2AJuIbQAMJih9jjiNA5q4l5INuK0AwTKYKRj0zQNv5fmq8/DpAaCJseHrtQkB/+zpwzoxKQM3MzMzMeFJAZmZmZmZqWEAAAAAAAFxeQM3MzMzMJmJAmpmZmZkfZUBmZmZmZhhoQDMzMzMzEWtAAAAAAAAKbkBmZmZmZoFwQM3MzMzM/XFAMzMzMzN6c0CamZmZmfZ0QAAAAAAAc3ZAZmZmZmbvd0DNzMzMzGt5QDMzMzMz6HpAmpmZmZlkfEAAAAAAAOF9QGZmZmZmXX9AZmZmZuZsgECamZmZGSuBQM3MzMxM6YFAAAAAAICngkAzMzMzs2WDQGZmZmbmI4RAmpmZmRnihEDNzMzMTKCFQAAAAACAXoZAMzMzM7Mch0BmZmZm5tqHQJqZmZkZmYhAzczMzExXiUAAAAAAgBWKQDMzMzOz04pAZmZmZuaRi0CamZmZGVCMQM3MzMxMDo1AAAAAAIDMjUAzMzMzs4qOQGZmZmbmSI9A\",\"dtype\":\"float64\",\"shape\":[75]}},\"selected\":{\"id\":\"36c65249-d63d-45ac-a39f-0bfc1999e2e6\",\"type\":\"Selection\"},\"selection_policy\":{\"id\":\"6e03138f-7d70-41d6-a1bc-0e4240877aba\",\"type\":\"UnionRenderers\"}},\"id\":\"efa91b4b-429b-4b61-93a7-f74383b9c604\",\"type\":\"ColumnDataSource\"},{\"attributes\":{\"fill_alpha\":{\"value\":0.7},\"fill_color\":{\"value\":\"#4daf4a\"},\"line_alpha\":{\"value\":0.7},\"line_color\":{\"value\":\"#4daf4a\"},\"x\":{\"field\":\"x\"},\"y\":{\"field\":\"y\"}},\"id\":\"a86e01de-f3e0-47d9-a174-b01d97ff4f01\",\"type\":\"Circle\"},{\"attributes\":{\"source\":{\"id\":\"dc21c4c9-d29e-44ba-9495-e07a5fb40fb0\",\"type\":\"ColumnDataSource\"}},\"id\":\"21e9432c-acc0-4071-b8ca-c375e7c579fe\",\"type\":\"CDSView\"},{\"attributes\":{\"fill_alpha\":{\"value\":0.7},\"fill_color\":{\"value\":\"#984ea3\"},\"line_alpha\":{\"value\":0.7},\"line_color\":{\"value\":\"#984ea3\"},\"x\":{\"field\":\"x\"},\"y\":{\"field\":\"y\"}},\"id\":\"1c9436f2-998f-4a54-9581-8b732c4acea8\",\"type\":\"Square\"},{\"attributes\":{\"fill_alpha\":{\"value\":0.1},\"fill_color\":{\"value\":\"#1f77b4\"},\"line_alpha\":{\"value\":0.1},\"line_color\":{\"value\":\"#1f77b4\"},\"x\":{\"field\":\"x\"},\"y\":{\"field\":\"y\"}},\"id\":\"f00cb1e3-4cb4-4e51-998d-c9d3ceb43ab3\",\"type\":\"Triangle\"},{\"attributes\":{\"line_alpha\":0.3,\"line_color\":\"#377eb8\",\"line_width\":2,\"x\":{\"field\":\"x\"},\"y\":{\"field\":\"y\"}},\"id\":\"ac80dd9b-ccb0-44d3-ab0e-9ac604ea72a5\",\"type\":\"Line\"},{\"attributes\":{\"children\":[{\"id\":\"ad39b370-2dce-4380-929a-60f8822b787a\",\"type\":\"Row\"}]},\"id\":\"defb3e67-8893-4fc7-8fd2-a4555b4457f4\",\"type\":\"Column\"},{\"attributes\":{\"data_source\":{\"id\":\"dc21c4c9-d29e-44ba-9495-e07a5fb40fb0\",\"type\":\"ColumnDataSource\"},\"glyph\":{\"id\":\"9301c70a-3433-487f-b9ae-fce496f79e49\",\"type\":\"Triangle\"},\"hover_glyph\":null,\"muted_glyph\":null,\"nonselection_glyph\":{\"id\":\"f00cb1e3-4cb4-4e51-998d-c9d3ceb43ab3\",\"type\":\"Triangle\"},\"selection_glyph\":null,\"view\":{\"id\":\"21e9432c-acc0-4071-b8ca-c375e7c579fe\",\"type\":\"CDSView\"}},\"id\":\"3348811a-e09c-42c2-ad3e-bad4520c73df\",\"type\":\"GlyphRenderer\"},{\"attributes\":{\"callback\":null,\"data\":{\"x\":{\"__ndarray__\":\"wfSq0E5kbL7p4VfVgLJqvhhfjBLbG2m+9NoS3UMWZb4w9qrXGXNgvss4xDlShlK+eqxwAOZfFD5BHoUN+v9aPib9gbq/WG4+ZVZqelINej66rC8mmfqDPibog/st4ow+GqS3owIGlD5lcOOoTyiaPqiT/dHOyp8+qKzmmKezoj6abbCEv+GlPpDZme2qgKk+RSV9LOqerT4on03G2iaxPiM5iy0pibM+7Pv1yL27sT5jK3S8a1WnPhVOGGagkpo+ugGEZ5THiz6wzuE0yxl4Pr/hSNe7+lM+jVb6xR8cVb5eDnNF8uZkvnkRkSrV4mu+6P8dnXQhcb477J8Cx2N0vgHAOUS3hne+mJo30reLer4wojmrsg1+vp9ULJ0fGYG+ZvKXtrtGg76o6BmqaCSGvhEQmuepjpG+/hf56wMOmr6TSjzM+aKivgSZloLPOKi+KnyOmdWKrr6XY0TqkS+zvqMFlqwWqLe+lVAnxsQwur7wNQeRl1e2vr8xEMUCuqG+gDknGKcVtj4aSFR/qWvaPiFEVPQ/8fE+0kmhTEKaAz8IVKXbBcgSP6ZsCq5bZSA/Y6jnPvChKj+48B1h9180P3yBRq/0oz0/JSgTUGKfRD9rJKWlx5dLP5jC83F10FE/yjDcbDRIVj/OAShcDR1bP3JObEaNF2A/OTcmOv2vYj+mRXn+pktlPyMFhMoH2mc/yCWcQhhLaj9gTnuUEoVsPx99oNBDUW4/NftBthN5bz9CaoB6BqBvP6Pa6CP+1m4/T1KHNjPDbT/4XxoGNJhsP4TvEmAFbWs/\",\"dtype\":\"float64\",\"shape\":[75]},\"y\":{\"__ndarray__\":\"GhExyth1ND/Sv8nbtpRIP2vylNV0PVE/aTum7souWD/At0SJ8fVgPw3Iuahxymc/MSNhhJWvcD/bTfBN02d3P2zb5nxnaoA/CD5h5MAGhz8NmeH1TyaQP+zrCsc9p5Y/LbKd76fGnz/bLW5ISEmmPww9YvTcQq8/JV2OstnstT8Er5Y7M8G+P0c+r3jqkcU/5h99k6ZBzj88bCIzFzjVP4enV8oyxN0//yH99nXg5D8qOpLLf0jtP5kqGJXUifQ/c9cS8kHP/D+/DpwzojQEQIEmwoanVwxA4lgXt9HgE0BSSZ2AJuIbQAMJih9jjiNA5q4l5INuK0AwTKYKRj0zQNv5fmq8/DpAaCJseHrtQkB/+zpwzoxKQM3MzMzMeFJAZmZmZmZqWEAAAAAAAFxeQM3MzMzMJmJAmpmZmZkfZUBmZmZmZhhoQDMzMzMzEWtAAAAAAAAKbkBmZmZmZoFwQM3MzMzM/XFAMzMzMzN6c0CamZmZmfZ0QAAAAAAAc3ZAZmZmZmbvd0DNzMzMzGt5QDMzMzMz6HpAmpmZmZlkfEAAAAAAAOF9QGZmZmZmXX9AZmZmZuZsgECamZmZGSuBQM3MzMxM6YFAAAAAAICngkAzMzMzs2WDQGZmZmbmI4RAmpmZmRnihEDNzMzMTKCFQAAAAACAXoZAMzMzM7Mch0BmZmZm5tqHQJqZmZkZmYhAzczMzExXiUAAAAAAgBWKQDMzMzOz04pAZmZmZuaRi0CamZmZGVCMQM3MzMxMDo1AAAAAAIDMjUAzMzMzs4qOQGZmZmbmSI9A\",\"dtype\":\"float64\",\"shape\":[75]}},\"selected\":{\"id\":\"cd0c4bb2-2ca0-449f-a8e0-8f42e0639b19\",\"type\":\"Selection\"},\"selection_policy\":{\"id\":\"cc7c6102-49ad-425a-b081-26d5159557a1\",\"type\":\"UnionRenderers\"}},\"id\":\"eaff69a7-3ffc-40ad-b441-538060f12e84\",\"type\":\"ColumnDataSource\"},{\"attributes\":{\"data_source\":{\"id\":\"efa91b4b-429b-4b61-93a7-f74383b9c604\",\"type\":\"ColumnDataSource\"},\"glyph\":{\"id\":\"ac80dd9b-ccb0-44d3-ab0e-9ac604ea72a5\",\"type\":\"Line\"},\"hover_glyph\":null,\"muted_glyph\":null,\"nonselection_glyph\":{\"id\":\"2062f7b0-93ad-4635-95a7-dc1aa318e4a3\",\"type\":\"Line\"},\"selection_glyph\":null,\"view\":{\"id\":\"c82d60b6-06cd-4580-82d9-f8fc5667a83b\",\"type\":\"CDSView\"}},\"id\":\"0cda70ae-3930-4cf9-af9f-be6c95456ecc\",\"type\":\"GlyphRenderer\"},{\"attributes\":{\"fill_alpha\":{\"value\":0.1},\"fill_color\":{\"value\":\"#1f77b4\"},\"line_alpha\":{\"value\":0.1},\"line_color\":{\"value\":\"#1f77b4\"},\"x\":{\"field\":\"x\"},\"y\":{\"field\":\"y\"}},\"id\":\"282a07ac-9f56-40e9-91e1-d3f134511586\",\"type\":\"Circle\"},{\"attributes\":{\"source\":{\"id\":\"efa91b4b-429b-4b61-93a7-f74383b9c604\",\"type\":\"ColumnDataSource\"}},\"id\":\"c82d60b6-06cd-4580-82d9-f8fc5667a83b\",\"type\":\"CDSView\"},{\"attributes\":{\"plot\":null,\"text\":\"\"},\"id\":\"058049af-7300-491d-8c3c-1cfc40e43255\",\"type\":\"Title\"},{\"attributes\":{},\"id\":\"0e24f876-8cff-42e9-8fb5-fb8ac6f51c25\",\"type\":\"Selection\"},{\"attributes\":{\"children\":[{\"id\":\"29bbaac9-7ee7-4ba6-9e10-88bf3c3f2785\",\"subtype\":\"Figure\",\"type\":\"Plot\"},{\"id\":\"e9f1b62c-8bcc-4aa9-9bb8-a98833d31453\",\"subtype\":\"Figure\",\"type\":\"Plot\"}]},\"id\":\"ad39b370-2dce-4380-929a-60f8822b787a\",\"type\":\"Row\"},{\"attributes\":{\"label\":{\"value\":\"CRD\"},\"renderers\":[{\"id\":\"ce972d84-6ccb-464f-bcc5-978ae0e8a095\",\"type\":\"GlyphRenderer\"},{\"id\":\"5f7d7ab3-eb05-4d0a-9331-8bc509b15703\",\"type\":\"GlyphRenderer\"}]},\"id\":\"ff887450-57bb-4240-886f-83ddb7901d32\",\"type\":\"LegendItem\"},{\"attributes\":{\"callback\":null,\"end\":0.01,\"start\":1020},\"id\":\"bef22663-f035-4fa1-962d-4a84479d1bb5\",\"type\":\"Range1d\"},{\"attributes\":{\"label\":{\"value\":\"WGT igg=10\"},\"renderers\":[{\"id\":\"3348811a-e09c-42c2-ad3e-bad4520c73df\",\"type\":\"GlyphRenderer\"},{\"id\":\"0cda70ae-3930-4cf9-af9f-be6c95456ecc\",\"type\":\"GlyphRenderer\"}]},\"id\":\"7a7c2142-0114-4281-a6ed-1ea6854beb38\",\"type\":\"LegendItem\"},{\"attributes\":{\"data_source\":{\"id\":\"eaff69a7-3ffc-40ad-b441-538060f12e84\",\"type\":\"ColumnDataSource\"},\"glyph\":{\"id\":\"a86e01de-f3e0-47d9-a174-b01d97ff4f01\",\"type\":\"Circle\"},\"hover_glyph\":null,\"muted_glyph\":null,\"nonselection_glyph\":{\"id\":\"282a07ac-9f56-40e9-91e1-d3f134511586\",\"type\":\"Circle\"},\"selection_glyph\":null,\"view\":{\"id\":\"0518ab1c-abbb-47dc-9fc4-44a0e39855ef\",\"type\":\"CDSView\"}},\"id\":\"ce972d84-6ccb-464f-bcc5-978ae0e8a095\",\"type\":\"GlyphRenderer\"},{\"attributes\":{\"label\":{\"value\":\"WGT igg=1\"},\"renderers\":[{\"id\":\"a94b299b-73cb-4295-9932-a38ae5203302\",\"type\":\"GlyphRenderer\"},{\"id\":\"097be4f1-9303-41fa-b2f5-7645973fb20c\",\"type\":\"GlyphRenderer\"}]},\"id\":\"a610be82-6a7b-4a9c-8149-02680d44d536\",\"type\":\"LegendItem\"},{\"attributes\":{},\"id\":\"5b066b54-46ff-4c0c-8ea1-44aeeef228f8\",\"type\":\"BasicTickFormatter\"},{\"attributes\":{},\"id\":\"fe4e38c4-2940-499f-8dfc-21eb4596e9d8\",\"type\":\"UnionRenderers\"},{\"attributes\":{},\"id\":\"46145f27-299f-4136-ae10-781598168eb7\",\"type\":\"BasicTickFormatter\"},{\"attributes\":{},\"id\":\"cb4535ee-bc7d-410c-9e3c-87f40d898726\",\"type\":\"Selection\"},{\"attributes\":{},\"id\":\"a4984452-f93d-492e-b110-aeaedd2fb709\",\"type\":\"UnionRenderers\"},{\"attributes\":{},\"id\":\"c6eca2f8-e16e-42d8-ab30-e93b79d78324\",\"type\":\"Selection\"},{\"attributes\":{\"plot\":null,\"text\":\"\"},\"id\":\"7c4d31fc-e5f3-46a6-a108-6a754e7f4ff2\",\"type\":\"Title\"},{\"attributes\":{},\"id\":\"885e41f8-08df-4ec3-b550-9b3751b6c121\",\"type\":\"Selection\"},{\"attributes\":{},\"id\":\"74be6fa4-d0b5-4115-982e-9eeaa97645ab\",\"type\":\"BasicTickFormatter\"},{\"attributes\":{\"toolbar\":{\"id\":\"34e02160-44e3-4f57-ab64-90c666480b6b\",\"type\":\"ProxyToolbar\"},\"toolbar_location\":\"above\"},\"id\":\"4fdfc600-871d-4831-a01a-5c1331ba826b\",\"type\":\"ToolbarBox\"},{\"attributes\":{},\"id\":\"cd0c4bb2-2ca0-449f-a8e0-8f42e0639b19\",\"type\":\"Selection\"},{\"attributes\":{},\"id\":\"cc7c6102-49ad-425a-b081-26d5159557a1\",\"type\":\"UnionRenderers\"},{\"attributes\":{},\"id\":\"77353038-f44a-4358-b6a0-f7b3078c9eff\",\"type\":\"UnionRenderers\"},{\"attributes\":{},\"id\":\"10dd8c89-fa1a-4c5c-998c-8909504368a7\",\"type\":\"UnionRenderers\"},{\"attributes\":{},\"id\":\"93752a80-e192-4adf-b0a2-513bfb028039\",\"type\":\"Selection\"},{\"attributes\":{},\"id\":\"f5d371eb-b598-47d6-840c-66642360bd0b\",\"type\":\"Selection\"},{\"attributes\":{\"ticker\":null},\"id\":\"0bbac184-abb9-4f35-948b-6f517dab8b09\",\"type\":\"LogTickFormatter\"},{\"attributes\":{},\"id\":\"4d272ce3-17c9-454d-8a9f-472b9443d438\",\"type\":\"UnionRenderers\"},{\"attributes\":{},\"id\":\"2566f4b0-b135-4010-92a9-f9a460833ff3\",\"type\":\"Selection\"},{\"attributes\":{},\"id\":\"3958b25f-9acf-4ddb-84f3-dea8f443545b\",\"type\":\"UnionRenderers\"},{\"attributes\":{},\"id\":\"5f4ed398-0702-4c05-93c6-ab246458c6bd\",\"type\":\"Selection\"},{\"attributes\":{},\"id\":\"6c4cf8e5-7e17-42f8-abfd-ed97034b8e78\",\"type\":\"UnionRenderers\"},{\"attributes\":{\"tools\":[{\"id\":\"18ef5a43-f4d8-4b46-aec1-42790b0b2c58\",\"type\":\"PanTool\"},{\"id\":\"60e0ab22-ceda-4be4-aaec-db9442a109f2\",\"type\":\"WheelZoomTool\"},{\"id\":\"15c34b5e-d990-4956-8ba8-c7fbe35061cc\",\"type\":\"BoxZoomTool\"},{\"id\":\"8586c6f9-58e1-41f3-b7c7-613c4670fb78\",\"type\":\"SaveTool\"},{\"id\":\"aa9522fb-5cbe-46d6-b4a1-31a9c468f19c\",\"type\":\"ResetTool\"},{\"id\":\"170bcbc4-8071-44b4-be75-9105c36a7116\",\"type\":\"HelpTool\"},{\"id\":\"d4d659ce-5319-4f33-94c1-da18c2d8d2cf\",\"type\":\"PanTool\"},{\"id\":\"325f1248-539e-4ef9-902f-a149985eadd8\",\"type\":\"WheelZoomTool\"},{\"id\":\"b20f810b-278a-4d14-9d5e-308e94b2b89d\",\"type\":\"BoxZoomTool\"},{\"id\":\"fe42812e-ee72-492f-9e16-7e0b4c09dda3\",\"type\":\"SaveTool\"},{\"id\":\"1df2cc0f-f9ad-4311-adb5-5902710bedc4\",\"type\":\"ResetTool\"},{\"id\":\"a1dbb07a-308f-4c7e-b32a-d26ac8b2d1a0\",\"type\":\"HelpTool\"}]},\"id\":\"34e02160-44e3-4f57-ab64-90c666480b6b\",\"type\":\"ProxyToolbar\"},{\"attributes\":{},\"id\":\"36c65249-d63d-45ac-a39f-0bfc1999e2e6\",\"type\":\"Selection\"},{\"attributes\":{},\"id\":\"6e03138f-7d70-41d6-a1bc-0e4240877aba\",\"type\":\"UnionRenderers\"},{\"attributes\":{\"children\":[{\"id\":\"4fdfc600-871d-4831-a01a-5c1331ba826b\",\"type\":\"ToolbarBox\"},{\"id\":\"defb3e67-8893-4fc7-8fd2-a4555b4457f4\",\"type\":\"Column\"}]},\"id\":\"454ede22-d27a-431b-a2f8-eb81e3563055\",\"type\":\"Column\"},{\"attributes\":{},\"id\":\"8484d1a8-e171-406c-bb0b-612482539ee0\",\"type\":\"BasicTicker\"},{\"attributes\":{\"callback\":null,\"end\":0.003899106167756,\"start\":-4.0181543356000005e-05},\"id\":\"6fd6a5e8-4b24-4bb4-9741-15772356ead5\",\"type\":\"Range1d\"},{\"attributes\":{\"active_drag\":\"auto\",\"active_inspect\":\"auto\",\"active_scroll\":\"auto\",\"active_tap\":\"auto\",\"tools\":[{\"id\":\"18ef5a43-f4d8-4b46-aec1-42790b0b2c58\",\"type\":\"PanTool\"},{\"id\":\"60e0ab22-ceda-4be4-aaec-db9442a109f2\",\"type\":\"WheelZoomTool\"},{\"id\":\"15c34b5e-d990-4956-8ba8-c7fbe35061cc\",\"type\":\"BoxZoomTool\"},{\"id\":\"8586c6f9-58e1-41f3-b7c7-613c4670fb78\",\"type\":\"SaveTool\"},{\"id\":\"aa9522fb-5cbe-46d6-b4a1-31a9c468f19c\",\"type\":\"ResetTool\"},{\"id\":\"170bcbc4-8071-44b4-be75-9105c36a7116\",\"type\":\"HelpTool\"}]},\"id\":\"14fc3c12-cc1f-4d9e-ae11-7f6d44432cfe\",\"type\":\"Toolbar\"},{\"attributes\":{},\"id\":\"672fcc6c-e035-4aab-bf5d-6c34a8ea14ee\",\"type\":\"LinearScale\"},{\"attributes\":{\"callback\":null,\"data\":{\"x\":{\"__ndarray__\":\"wfSq0E5kbL7p4VfVgLJqvhhfjBLbG2m+9NoS3UMWZb4w9qrXGXNgvss4xDlShlK+eqxwAOZfFD5BHoUN+v9aPib9gbq/WG4+ZVZqelINej66rC8mmfqDPibog/st4ow+GqS3owIGlD5lcOOoTyiaPqiT/dHOyp8+qKzmmKezoj6abbCEv+GlPpDZme2qgKk+RSV9LOqerT4on03G2iaxPiM5iy0pibM+7Pv1yL27sT5jK3S8a1WnPhVOGGagkpo+ugGEZ5THiz6wzuE0yxl4Pr/hSNe7+lM+jVb6xR8cVb5eDnNF8uZkvnkRkSrV4mu+6P8dnXQhcb477J8Cx2N0vgHAOUS3hne+mJo30reLer4wojmrsg1+vp9ULJ0fGYG+ZvKXtrtGg76o6BmqaCSGvhEQmuepjpG+/hf56wMOmr6TSjzM+aKivgSZloLPOKi+KnyOmdWKrr6XY0TqkS+zvqMFlqwWqLe+lVAnxsQwur7wNQeRl1e2vr8xEMUCuqG+gDknGKcVtj4aSFR/qWvaPiFEVPQ/8fE+0kmhTEKaAz8IVKXbBcgSP6ZsCq5bZSA/Y6jnPvChKj+48B1h9180P3yBRq/0oz0/JSgTUGKfRD9rJKWlx5dLP5jC83F10FE/yjDcbDRIVj/OAShcDR1bP3JObEaNF2A/OTcmOv2vYj+mRXn+pktlPyMFhMoH2mc/yCWcQhhLaj9gTnuUEoVsPx99oNBDUW4/NftBthN5bz9CaoB6BqBvP6Pa6CP+1m4/T1KHNjPDbT/4XxoGNJhsP4TvEmAFbWs/\",\"dtype\":\"float64\",\"shape\":[75]},\"y\":{\"__ndarray__\":\"GhExyth1ND/Sv8nbtpRIP2vylNV0PVE/aTum7souWD/At0SJ8fVgPw3Iuahxymc/MSNhhJWvcD/bTfBN02d3P2zb5nxnaoA/CD5h5MAGhz8NmeH1TyaQP+zrCsc9p5Y/LbKd76fGnz/bLW5ISEmmPww9YvTcQq8/JV2OstnstT8Er5Y7M8G+P0c+r3jqkcU/5h99k6ZBzj88bCIzFzjVP4enV8oyxN0//yH99nXg5D8qOpLLf0jtP5kqGJXUifQ/c9cS8kHP/D+/DpwzojQEQIEmwoanVwxA4lgXt9HgE0BSSZ2AJuIbQAMJih9jjiNA5q4l5INuK0AwTKYKRj0zQNv5fmq8/DpAaCJseHrtQkB/+zpwzoxKQM3MzMzMeFJAZmZmZmZqWEAAAAAAAFxeQM3MzMzMJmJAmpmZmZkfZUBmZmZmZhhoQDMzMzMzEWtAAAAAAAAKbkBmZmZmZoFwQM3MzMzM/XFAMzMzMzN6c0CamZmZmfZ0QAAAAAAAc3ZAZmZmZmbvd0DNzMzMzGt5QDMzMzMz6HpAmpmZmZlkfEAAAAAAAOF9QGZmZmZmXX9AZmZmZuZsgECamZmZGSuBQM3MzMxM6YFAAAAAAICngkAzMzMzs2WDQGZmZmbmI4RAmpmZmRnihEDNzMzMTKCFQAAAAACAXoZAMzMzM7Mch0BmZmZm5tqHQJqZmZkZmYhAzczMzExXiUAAAAAAgBWKQDMzMzOz04pAZmZmZuaRi0CamZmZGVCMQM3MzMxMDo1AAAAAAIDMjUAzMzMzs4qOQGZmZmbmSI9A\",\"dtype\":\"float64\",\"shape\":[75]}},\"selected\":{\"id\":\"cb4535ee-bc7d-410c-9e3c-87f40d898726\",\"type\":\"Selection\"},\"selection_policy\":{\"id\":\"fe4e38c4-2940-499f-8dfc-21eb4596e9d8\",\"type\":\"UnionRenderers\"}},\"id\":\"cafe948a-2bd7-4839-a418-df6c076f46ea\",\"type\":\"ColumnDataSource\"},{\"attributes\":{},\"id\":\"9ef2460e-c552-4bc8-9af3-e2493acd215f\",\"type\":\"LinearScale\"},{\"attributes\":{\"above\":[{\"id\":\"17fb8fa6-4f7e-49f7-b258-a786085264fa\",\"type\":\"Legend\"}],\"below\":[{\"id\":\"ed3331c3-45d9-4c56-9b0d-28b1124e4311\",\"type\":\"LinearAxis\"}],\"left\":[{\"id\":\"36c18668-5cb2-4d70-9b46-c03860a5129a\",\"type\":\"LinearAxis\"}],\"plot_height\":500,\"plot_width\":400,\"renderers\":[{\"id\":\"ed3331c3-45d9-4c56-9b0d-28b1124e4311\",\"type\":\"LinearAxis\"},{\"id\":\"c4610eb3-4243-4951-9b16-150c6869fe04\",\"type\":\"Grid\"},{\"id\":\"36c18668-5cb2-4d70-9b46-c03860a5129a\",\"type\":\"LinearAxis\"},{\"id\":\"d0bd6844-73bf-45a8-aa56-9625c4882626\",\"type\":\"Grid\"},{\"id\":\"76cd4a93-2390-4a05-86b7-7f2f7712051b\",\"type\":\"BoxAnnotation\"},{\"id\":\"85a91337-b4cf-4781-9870-ebac54a57ef8\",\"type\":\"GlyphRenderer\"},{\"id\":\"53c61802-84a8-426e-a81f-a6faf962e905\",\"type\":\"GlyphRenderer\"},{\"id\":\"4ab92f5b-7396-4722-adf5-99397b03d2e2\",\"type\":\"GlyphRenderer\"},{\"id\":\"33b6bfbc-7eab-439e-aeb4-6a2933428848\",\"type\":\"GlyphRenderer\"},{\"id\":\"a968cfe0-03a0-4537-92f5-b73013a966c5\",\"type\":\"GlyphRenderer\"},{\"id\":\"3960992e-095d-4cf7-95ed-5352b7a332f1\",\"type\":\"GlyphRenderer\"},{\"id\":\"17fb8fa6-4f7e-49f7-b258-a786085264fa\",\"type\":\"Legend\"}],\"title\":{\"id\":\"058049af-7300-491d-8c3c-1cfc40e43255\",\"type\":\"Title\"},\"toolbar\":{\"id\":\"14fc3c12-cc1f-4d9e-ae11-7f6d44432cfe\",\"type\":\"Toolbar\"},\"toolbar_location\":null,\"x_range\":{\"id\":\"6fd6a5e8-4b24-4bb4-9741-15772356ead5\",\"type\":\"Range1d\"},\"x_scale\":{\"id\":\"672fcc6c-e035-4aab-bf5d-6c34a8ea14ee\",\"type\":\"LinearScale\"},\"y_range\":{\"id\":\"1abf7272-2e51-4822-a79e-2d07876fce5c\",\"type\":\"Range1d\"},\"y_scale\":{\"id\":\"9ef2460e-c552-4bc8-9af3-e2493acd215f\",\"type\":\"LinearScale\"}},\"id\":\"29bbaac9-7ee7-4ba6-9e10-88bf3c3f2785\",\"subtype\":\"Figure\",\"type\":\"Plot\"},{\"attributes\":{\"items\":[{\"id\":\"b2d87570-dd81-42d8-b6af-d8856b789d99\",\"type\":\"LegendItem\"},{\"id\":\"dc4b3527-008e-441c-b36f-4aaa79555a70\",\"type\":\"LegendItem\"},{\"id\":\"15c38071-eca4-4094-9c1f-b7ade23c2f36\",\"type\":\"LegendItem\"}],\"label_text_font_size\":{\"value\":\"8pt\"},\"location\":\"top_center\",\"orientation\":\"horizontal\",\"plot\":{\"id\":\"29bbaac9-7ee7-4ba6-9e10-88bf3c3f2785\",\"subtype\":\"Figure\",\"type\":\"Plot\"}},\"id\":\"17fb8fa6-4f7e-49f7-b258-a786085264fa\",\"type\":\"Legend\"}],\"root_ids\":[\"454ede22-d27a-431b-a2f8-eb81e3563055\"]},\"title\":\"Bokeh Application\",\"version\":\"0.12.16\"}};\n",
       "  var render_items = [{\"docid\":\"d2ea1ff7-ac5f-4f9f-a062-dc2773a52273\",\"elementid\":\"74ef5e5a-7045-40a8-85ce-ee59b8317f54\",\"modelid\":\"454ede22-d27a-431b-a2f8-eb81e3563055\"}];\n",
       "  root.Bokeh.embed.embed_items_notebook(docs_json, render_items);\n",
       "\n",
       "  }\n",
       "  if (root.Bokeh !== undefined) {\n",
       "    embed_document(root);\n",
       "  } else {\n",
       "    var attempts = 0;\n",
       "    var timer = setInterval(function(root) {\n",
       "      if (root.Bokeh !== undefined) {\n",
       "        embed_document(root);\n",
       "        clearInterval(timer);\n",
       "      }\n",
       "      attempts++;\n",
       "      if (attempts > 100) {\n",
       "        console.log(\"Bokeh: ERROR: Unable to run BokehJS code because BokehJS library is missing\")\n",
       "        clearInterval(timer);\n",
       "      }\n",
       "    }, 10, root)\n",
       "  }\n",
       "})(window);"
      ],
      "application/vnd.bokehjs_exec.v0+json": ""
     },
     "metadata": {
      "application/vnd.bokehjs_exec.v0+json": {
       "id": "454ede22-d27a-431b-a2f8-eb81e3563055"
      }
     },
     "output_type": "display_data"
    },
    {
     "data": {
      "text/markdown": [
       "*FIGURE.* Cooling rates. g=3"
      ],
      "text/plain": [
       "<IPython.core.display.Markdown object>"
      ]
     },
     "metadata": {},
     "output_type": "display_data"
    },
    {
     "data": {
      "text/html": [
       "\n",
       "<div class=\"bk-root\">\n",
       "    <div class=\"bk-plotdiv\" id=\"0cb4cf52-5a72-48a5-8d7d-79fc148779ec\"></div>\n",
       "</div>"
      ]
     },
     "metadata": {},
     "output_type": "display_data"
    },
    {
     "data": {
      "application/javascript": [
       "(function(root) {\n",
       "  function embed_document(root) {\n",
       "    \n",
       "  var docs_json = {\"dc5e2946-f700-4808-8a09-10432f76020f\":{\"roots\":{\"references\":[{\"attributes\":{\"bottom_units\":\"screen\",\"fill_alpha\":{\"value\":0.5},\"fill_color\":{\"value\":\"lightgrey\"},\"left_units\":\"screen\",\"level\":\"overlay\",\"line_alpha\":{\"value\":1.0},\"line_color\":{\"value\":\"black\"},\"line_dash\":[4,4],\"line_width\":{\"value\":2},\"plot\":null,\"render_mode\":\"css\",\"right_units\":\"screen\",\"top_units\":\"screen\"},\"id\":\"864c3897-93bc-4f41-9bb3-1ee0e25b571c\",\"type\":\"BoxAnnotation\"},{\"attributes\":{\"source\":{\"id\":\"84d2970e-6aa1-4a1d-b04a-5e66090ccc03\",\"type\":\"ColumnDataSource\"}},\"id\":\"d73922d6-53f8-4796-aacb-0bc74f94b8b8\",\"type\":\"CDSView\"},{\"attributes\":{\"data_source\":{\"id\":\"7e1a2211-9900-44a2-b6a1-3b6cdcffa1b3\",\"type\":\"ColumnDataSource\"},\"glyph\":{\"id\":\"dabb86dc-11d5-461d-a9e8-354c87581773\",\"type\":\"Line\"},\"hover_glyph\":null,\"muted_glyph\":null,\"nonselection_glyph\":{\"id\":\"02134c60-f483-49ca-8d53-712f456d8a6c\",\"type\":\"Line\"},\"selection_glyph\":null,\"view\":{\"id\":\"6a4724eb-a77a-4fe2-8d31-9634009fc8aa\",\"type\":\"CDSView\"}},\"id\":\"5668cb91-c27d-443d-bfaf-3d2885b71180\",\"type\":\"GlyphRenderer\"},{\"attributes\":{\"data_source\":{\"id\":\"84d2970e-6aa1-4a1d-b04a-5e66090ccc03\",\"type\":\"ColumnDataSource\"},\"glyph\":{\"id\":\"352cabf1-5425-4ce8-bbd1-c20be12ea366\",\"type\":\"Circle\"},\"hover_glyph\":null,\"muted_glyph\":null,\"nonselection_glyph\":{\"id\":\"434e38f7-b156-4b5f-8064-ec41f6211fc6\",\"type\":\"Circle\"},\"selection_glyph\":null,\"view\":{\"id\":\"d73922d6-53f8-4796-aacb-0bc74f94b8b8\",\"type\":\"CDSView\"}},\"id\":\"bc260124-26ef-4e73-b706-d88866935f72\",\"type\":\"GlyphRenderer\"},{\"attributes\":{\"line_color\":\"#4daf4a\",\"line_width\":1.5,\"x\":{\"field\":\"x\"},\"y\":{\"field\":\"y\"}},\"id\":\"424898aa-9e5d-423c-a40a-f1e46e2d901e\",\"type\":\"Line\"},{\"attributes\":{},\"id\":\"2249f2f7-cba3-4df4-8ee7-8ec5c0987704\",\"type\":\"HelpTool\"},{\"attributes\":{},\"id\":\"9ad917d5-5cfd-45ec-a240-92265d7862c9\",\"type\":\"UnionRenderers\"},{\"attributes\":{},\"id\":\"05d01075-7257-4a0f-987d-dae4c44ecf86\",\"type\":\"Selection\"},{\"attributes\":{\"callback\":null,\"data\":{\"x\":{\"__ndarray__\":\"4AfxJg4F1L5hSY8QvPfRvsXvswHE3Mm+HgOZ3DeQub6Kh7se552dPtgBt96BOsg+7mu1YpHB2D6wXoyzthjkPnAfNcgidO0+qiQ5OStd9D75h6q2Vh77Pth6p9FglgE/IVLe4/hYBj+nJg5Z9UULP9VR2jKdlw8/c2Wsp4rcET+6Lt+avR4UP2J+fD/nmBY/ypZ0Xt9PGT9rzwOG8UccP5aLsrtqLx8/B+kna/7kHD+4p54deecUP9OrbWeNGgs/14SkMoCjAD901IhY26PyPv+/PiI0RuE+1/t7D9B1xT6P61zYEVaavs569SLec8K+6Utb4DW6zb5T/c4aGbjSvgMNo40Z1NO+Bzro5xl60r4UoJ71B2zQvnlRfXZjVsy+/ryS/wjUyL5OEMBv3j/Ivpd/4VEeYtG+4uerqIi2176G5oruFoXfvqMuloynOeO+rDJPgnXj5r4wre6hU07rvtI5C40ZvO++fWXhL+gG7r5eoGEnGlTavh3Ahzh8w+Y+tAbILSlhCT/qOqFjNIAhP2VYsgD8JTM/n4nkqPI5Qj81QOMMBWJPPyR1FQGW/1g/lvFxZC+wYj+Mpwkt0ndqPxJEUisk5HE/mef9/kc1dz9d49YXKgZ9P/b8KYiTkYE/JW1Fw6uqhD9KMz86WrWHP171eXbEm4o/HKhRHbJOjT8m1pMNLMaPPxD9E8pt/JA/eYMhj73ukT/K2A97Ya6SPzceMZgNG5M/Aj5DacQUkz/LKoqlMWuSP1v1KZ0JOpE/1jX7wOzejz9AjPvLQVuNP2iQJH+uAYs/\",\"dtype\":\"float64\",\"shape\":[75]},\"y\":{\"__ndarray__\":\"GhExyth1ND/Sv8nbtpRIP2vylNV0PVE/aTum7souWD/At0SJ8fVgPw3Iuahxymc/MSNhhJWvcD/bTfBN02d3P2zb5nxnaoA/CD5h5MAGhz8NmeH1TyaQP+zrCsc9p5Y/LbKd76fGnz/bLW5ISEmmPww9YvTcQq8/JV2OstnstT8Er5Y7M8G+P0c+r3jqkcU/5h99k6ZBzj88bCIzFzjVP4enV8oyxN0//yH99nXg5D8qOpLLf0jtP5kqGJXUifQ/c9cS8kHP/D+/DpwzojQEQIEmwoanVwxA4lgXt9HgE0BSSZ2AJuIbQAMJih9jjiNA5q4l5INuK0AwTKYKRj0zQNv5fmq8/DpAaCJseHrtQkB/+zpwzoxKQM3MzMzMeFJAZmZmZmZqWEAAAAAAAFxeQM3MzMzMJmJAmpmZmZkfZUBmZmZmZhhoQDMzMzMzEWtAAAAAAAAKbkBmZmZmZoFwQM3MzMzM/XFAMzMzMzN6c0CamZmZmfZ0QAAAAAAAc3ZAZmZmZmbvd0DNzMzMzGt5QDMzMzMz6HpAmpmZmZlkfEAAAAAAAOF9QGZmZmZmXX9AZmZmZuZsgECamZmZGSuBQM3MzMxM6YFAAAAAAICngkAzMzMzs2WDQGZmZmbmI4RAmpmZmRnihEDNzMzMTKCFQAAAAACAXoZAMzMzM7Mch0BmZmZm5tqHQJqZmZkZmYhAzczMzExXiUAAAAAAgBWKQDMzMzOz04pAZmZmZuaRi0CamZmZGVCMQM3MzMxMDo1AAAAAAIDMjUAzMzMzs4qOQGZmZmbmSI9A\",\"dtype\":\"float64\",\"shape\":[75]}},\"selected\":{\"id\":\"6f8e3884-efbf-48e7-93c0-9061ed1e9e1a\",\"type\":\"Selection\"},\"selection_policy\":{\"id\":\"a83fef9d-4d91-494e-bd2f-1245eafa3821\",\"type\":\"UnionRenderers\"}},\"id\":\"7e1a2211-9900-44a2-b6a1-3b6cdcffa1b3\",\"type\":\"ColumnDataSource\"},{\"attributes\":{\"fill_alpha\":{\"value\":0.1},\"fill_color\":{\"value\":\"#1f77b4\"},\"line_alpha\":{\"value\":0.1},\"line_color\":{\"value\":\"#1f77b4\"},\"x\":{\"field\":\"x\"},\"y\":{\"field\":\"y\"}},\"id\":\"434e38f7-b156-4b5f-8064-ec41f6211fc6\",\"type\":\"Circle\"},{\"attributes\":{\"fill_alpha\":{\"value\":0.7},\"fill_color\":{\"value\":\"#4daf4a\"},\"line_alpha\":{\"value\":0.7},\"line_color\":{\"value\":\"#4daf4a\"},\"x\":{\"field\":\"x\"},\"y\":{\"field\":\"y\"}},\"id\":\"352cabf1-5425-4ce8-bbd1-c20be12ea366\",\"type\":\"Circle\"},{\"attributes\":{\"line_color\":\"#4daf4a\",\"line_width\":1.5,\"x\":{\"field\":\"x\"},\"y\":{\"field\":\"y\"}},\"id\":\"dabb86dc-11d5-461d-a9e8-354c87581773\",\"type\":\"Line\"},{\"attributes\":{\"data_source\":{\"id\":\"edebc3d5-2074-4bc5-a941-c701809e7d4e\",\"type\":\"ColumnDataSource\"},\"glyph\":{\"id\":\"424898aa-9e5d-423c-a40a-f1e46e2d901e\",\"type\":\"Line\"},\"hover_glyph\":null,\"muted_glyph\":null,\"nonselection_glyph\":{\"id\":\"1a66b218-a0db-45ba-adef-5470dc9faea6\",\"type\":\"Line\"},\"selection_glyph\":null,\"view\":{\"id\":\"a3680866-e9f8-4a10-a6ad-7f1baa1f0a81\",\"type\":\"CDSView\"}},\"id\":\"1e682109-ce04-4205-8220-a8394c8ab43e\",\"type\":\"GlyphRenderer\"},{\"attributes\":{\"fill_alpha\":{\"value\":0.7},\"fill_color\":{\"value\":\"#984ea3\"},\"line_alpha\":{\"value\":0.7},\"line_color\":{\"value\":\"#984ea3\"},\"x\":{\"field\":\"x\"},\"y\":{\"field\":\"y\"}},\"id\":\"ce1c19aa-b981-40d3-8f5e-5ed6fe5b72a7\",\"type\":\"Square\"},{\"attributes\":{\"callback\":null,\"end\":0.01,\"start\":1020},\"id\":\"2a11dc53-afc2-4edc-9205-c6d6227743c2\",\"type\":\"Range1d\"},{\"attributes\":{\"data_source\":{\"id\":\"072576e7-f78b-445e-90d3-17cacc235d1e\",\"type\":\"ColumnDataSource\"},\"glyph\":{\"id\":\"f188bd71-56d9-4b8d-b8ac-adcad205968e\",\"type\":\"Circle\"},\"hover_glyph\":null,\"muted_glyph\":null,\"nonselection_glyph\":{\"id\":\"ce747a6f-4ce0-4714-af4a-ba22947ff509\",\"type\":\"Circle\"},\"selection_glyph\":null,\"view\":{\"id\":\"c169ef9e-0b9f-4399-9f60-e4736bdf2c4c\",\"type\":\"CDSView\"}},\"id\":\"17e304c6-3b2c-41ee-bcd2-5f77ce5f0ec8\",\"type\":\"GlyphRenderer\"},{\"attributes\":{\"source\":{\"id\":\"072576e7-f78b-445e-90d3-17cacc235d1e\",\"type\":\"ColumnDataSource\"}},\"id\":\"c169ef9e-0b9f-4399-9f60-e4736bdf2c4c\",\"type\":\"CDSView\"},{\"attributes\":{\"fill_alpha\":{\"value\":0.7},\"fill_color\":{\"value\":\"#984ea3\"},\"line_alpha\":{\"value\":0.7},\"line_color\":{\"value\":\"#984ea3\"},\"x\":{\"field\":\"x\"},\"y\":{\"field\":\"y\"}},\"id\":\"3befb1d1-5e85-4c12-88d2-cbaccd9bfe3a\",\"type\":\"Square\"},{\"attributes\":{\"callback\":null,\"data\":{\"x\":{\"__ndarray__\":\"ueoqjstxzr7o86sKdKfMvifrAF0lJMi+O5FRMFIlwr7NdABF++C0vmASaIm/Ana+GHO72j7wtj73aRL6dXrKPjzf/Uy1a9Y+tO/ZLkPJ4D4CnyIBD4TnPi0sQOQGmO8+gu6y9juZ9D6dnQ+d+Zf5PvoRTJh+/v0+7yzepDocAT+UWMGpR24DPx8v8UTc/AU/x09ZCLfNCD+9GkO96+YLP9Ngsosx9Q4/at0GQE2jDD+0D1Dic2wEPzvpLqHPzfk+pmajPm5Z7j5HhnT0nizfPpYIi7uPRcY+uJ9SKlebh770yTeMw8a7vgwumBEBs8W+MIM0e9q8y75irVoM2SfQvkiiU1/2H9G+Stp7BX3R0L6trPbsGxTQvraZFTN+TM6+8lSm2IO3zL5ayhHhe+/MvvWjfa0DttS+Jmto+h0l3L6enZ+TxZrivpPvoqJ0jea+wC/EQtai6r5F551yXIbvvgwdrHcjVPK+a7Ywbc+L8r4f7RXWpZXpvhfafjRBMqo+2EovKGbu/D7djTBpkDYYP5GhfwDpqyw/SWMoBZSLPD8rYThxhFxJP7h5moVasFQ/xN0dk4eLXz+sfevB0axmP4S66M9TDm8/jsTgJeVjdD8EQqAZ/8F5PzP+XX4VdX8/0zl0t0Gmgj/0r1HE1YmFPzfMIuVGUIg/LDgjllLoij8gX1UNaEiNPwKwU8YlaY8/9Sm7qLOdkD9654x7fleRPynO4Tspw5E/60xzTW7EkT8KYwCqdTCRP9WcIfTqHpA/UDG7IMPnjT+Qvy9Lhp6LP93PhMphbok/\",\"dtype\":\"float64\",\"shape\":[75]},\"y\":{\"__ndarray__\":\"GhExyth1ND/Sv8nbtpRIP2vylNV0PVE/aTum7souWD/At0SJ8fVgPw3Iuahxymc/MSNhhJWvcD/bTfBN02d3P2zb5nxnaoA/CD5h5MAGhz8NmeH1TyaQP+zrCsc9p5Y/LbKd76fGnz/bLW5ISEmmPww9YvTcQq8/JV2OstnstT8Er5Y7M8G+P0c+r3jqkcU/5h99k6ZBzj88bCIzFzjVP4enV8oyxN0//yH99nXg5D8qOpLLf0jtP5kqGJXUifQ/c9cS8kHP/D+/DpwzojQEQIEmwoanVwxA4lgXt9HgE0BSSZ2AJuIbQAMJih9jjiNA5q4l5INuK0AwTKYKRj0zQNv5fmq8/DpAaCJseHrtQkB/+zpwzoxKQM3MzMzMeFJAZmZmZmZqWEAAAAAAAFxeQM3MzMzMJmJAmpmZmZkfZUBmZmZmZhhoQDMzMzMzEWtAAAAAAAAKbkBmZmZmZoFwQM3MzMzM/XFAMzMzMzN6c0CamZmZmfZ0QAAAAAAAc3ZAZmZmZmbvd0DNzMzMzGt5QDMzMzMz6HpAmpmZmZlkfEAAAAAAAOF9QGZmZmZmXX9AZmZmZuZsgECamZmZGSuBQM3MzMxM6YFAAAAAAICngkAzMzMzs2WDQGZmZmbmI4RAmpmZmRnihEDNzMzMTKCFQAAAAACAXoZAMzMzM7Mch0BmZmZm5tqHQJqZmZkZmYhAzczMzExXiUAAAAAAgBWKQDMzMzOz04pAZmZmZuaRi0CamZmZGVCMQM3MzMxMDo1AAAAAAIDMjUAzMzMzs4qOQGZmZmbmSI9A\",\"dtype\":\"float64\",\"shape\":[75]}},\"selected\":{\"id\":\"05d01075-7257-4a0f-987d-dae4c44ecf86\",\"type\":\"Selection\"},\"selection_policy\":{\"id\":\"9ad917d5-5cfd-45ec-a240-92265d7862c9\",\"type\":\"UnionRenderers\"}},\"id\":\"12042969-5ce4-4850-bd78-7e9672c8339b\",\"type\":\"ColumnDataSource\"},{\"attributes\":{},\"id\":\"6bc00441-3132-487f-a16b-09e68348b32e\",\"type\":\"UnionRenderers\"},{\"attributes\":{},\"id\":\"eb078801-f8ff-4763-9ac2-533c4c819195\",\"type\":\"UnionRenderers\"},{\"attributes\":{\"data_source\":{\"id\":\"12042969-5ce4-4850-bd78-7e9672c8339b\",\"type\":\"ColumnDataSource\"},\"glyph\":{\"id\":\"3befb1d1-5e85-4c12-88d2-cbaccd9bfe3a\",\"type\":\"Square\"},\"hover_glyph\":null,\"muted_glyph\":null,\"nonselection_glyph\":{\"id\":\"ae0aa4a6-3d3e-4657-a650-ac6be3838801\",\"type\":\"Square\"},\"selection_glyph\":null,\"view\":{\"id\":\"ebe73ef1-ad3c-4058-8ede-28dac3326d65\",\"type\":\"CDSView\"}},\"id\":\"aca62cf7-6e54-4faa-a2b5-25ea4946b630\",\"type\":\"GlyphRenderer\"},{\"attributes\":{\"fill_alpha\":{\"value\":0.7},\"fill_color\":{\"value\":\"#4daf4a\"},\"line_alpha\":{\"value\":0.7},\"line_color\":{\"value\":\"#4daf4a\"},\"x\":{\"field\":\"x\"},\"y\":{\"field\":\"y\"}},\"id\":\"f188bd71-56d9-4b8d-b8ac-adcad205968e\",\"type\":\"Circle\"},{\"attributes\":{},\"id\":\"247ddb3f-4c74-4cbb-a2c9-21159de28a65\",\"type\":\"Selection\"},{\"attributes\":{\"source\":{\"id\":\"edebc3d5-2074-4bc5-a941-c701809e7d4e\",\"type\":\"ColumnDataSource\"}},\"id\":\"a3680866-e9f8-4a10-a6ad-7f1baa1f0a81\",\"type\":\"CDSView\"},{\"attributes\":{},\"id\":\"7d0222fa-31a4-456d-95f8-3bce9172e7f0\",\"type\":\"SaveTool\"},{\"attributes\":{\"fill_alpha\":{\"value\":0.1},\"fill_color\":{\"value\":\"#1f77b4\"},\"line_alpha\":{\"value\":0.1},\"line_color\":{\"value\":\"#1f77b4\"},\"x\":{\"field\":\"x\"},\"y\":{\"field\":\"y\"}},\"id\":\"ce747a6f-4ce0-4714-af4a-ba22947ff509\",\"type\":\"Circle\"},{\"attributes\":{\"callback\":null,\"data\":{\"x\":{\"__ndarray__\":\"ueoqjstxzr7o86sKdKfMvifrAF0lJMi+O5FRMFIlwr7NdABF++C0vmASaIm/Ana+GHO72j7wtj73aRL6dXrKPjzf/Uy1a9Y+tO/ZLkPJ4D4CnyIBD4TnPi0sQOQGmO8+gu6y9juZ9D6dnQ+d+Zf5PvoRTJh+/v0+7yzepDocAT+UWMGpR24DPx8v8UTc/AU/x09ZCLfNCD+9GkO96+YLP9Ngsosx9Q4/at0GQE2jDD+0D1Dic2wEPzvpLqHPzfk+pmajPm5Z7j5HhnT0nizfPpYIi7uPRcY+uJ9SKlebh770yTeMw8a7vgwumBEBs8W+MIM0e9q8y75irVoM2SfQvkiiU1/2H9G+Stp7BX3R0L6trPbsGxTQvraZFTN+TM6+8lSm2IO3zL5ayhHhe+/MvvWjfa0DttS+Jmto+h0l3L6enZ+TxZrivpPvoqJ0jea+wC/EQtai6r5F551yXIbvvgwdrHcjVPK+a7Ywbc+L8r4f7RXWpZXpvhfafjRBMqo+2EovKGbu/D7djTBpkDYYP5GhfwDpqyw/SWMoBZSLPD8rYThxhFxJP7h5moVasFQ/xN0dk4eLXz+sfevB0axmP4S66M9TDm8/jsTgJeVjdD8EQqAZ/8F5PzP+XX4VdX8/0zl0t0Gmgj/0r1HE1YmFPzfMIuVGUIg/LDgjllLoij8gX1UNaEiNPwKwU8YlaY8/9Sm7qLOdkD9654x7fleRPynO4Tspw5E/60xzTW7EkT8KYwCqdTCRP9WcIfTqHpA/UDG7IMPnjT+Qvy9Lhp6LP93PhMphbok/\",\"dtype\":\"float64\",\"shape\":[75]},\"y\":{\"__ndarray__\":\"GhExyth1ND/Sv8nbtpRIP2vylNV0PVE/aTum7souWD/At0SJ8fVgPw3Iuahxymc/MSNhhJWvcD/bTfBN02d3P2zb5nxnaoA/CD5h5MAGhz8NmeH1TyaQP+zrCsc9p5Y/LbKd76fGnz/bLW5ISEmmPww9YvTcQq8/JV2OstnstT8Er5Y7M8G+P0c+r3jqkcU/5h99k6ZBzj88bCIzFzjVP4enV8oyxN0//yH99nXg5D8qOpLLf0jtP5kqGJXUifQ/c9cS8kHP/D+/DpwzojQEQIEmwoanVwxA4lgXt9HgE0BSSZ2AJuIbQAMJih9jjiNA5q4l5INuK0AwTKYKRj0zQNv5fmq8/DpAaCJseHrtQkB/+zpwzoxKQM3MzMzMeFJAZmZmZmZqWEAAAAAAAFxeQM3MzMzMJmJAmpmZmZkfZUBmZmZmZhhoQDMzMzMzEWtAAAAAAAAKbkBmZmZmZoFwQM3MzMzM/XFAMzMzMzN6c0CamZmZmfZ0QAAAAAAAc3ZAZmZmZmbvd0DNzMzMzGt5QDMzMzMz6HpAmpmZmZlkfEAAAAAAAOF9QGZmZmZmXX9AZmZmZuZsgECamZmZGSuBQM3MzMxM6YFAAAAAAICngkAzMzMzs2WDQGZmZmbmI4RAmpmZmRnihEDNzMzMTKCFQAAAAACAXoZAMzMzM7Mch0BmZmZm5tqHQJqZmZkZmYhAzczMzExXiUAAAAAAgBWKQDMzMzOz04pAZmZmZuaRi0CamZmZGVCMQM3MzMxMDo1AAAAAAIDMjUAzMzMzs4qOQGZmZmbmSI9A\",\"dtype\":\"float64\",\"shape\":[75]}},\"selected\":{\"id\":\"e33ac033-0755-4cc6-9bb1-2dc6b2c3942e\",\"type\":\"Selection\"},\"selection_policy\":{\"id\":\"2ca59f6d-f288-45bd-b1d9-3d7837c98a81\",\"type\":\"UnionRenderers\"}},\"id\":\"7430fcf5-db53-41e9-9ed4-986f34ac0ae7\",\"type\":\"ColumnDataSource\"},{\"attributes\":{\"line_alpha\":0.1,\"line_color\":\"#1f77b4\",\"line_width\":1.5,\"x\":{\"field\":\"x\"},\"y\":{\"field\":\"y\"}},\"id\":\"1a66b218-a0db-45ba-adef-5470dc9faea6\",\"type\":\"Line\"},{\"attributes\":{\"source\":{\"id\":\"7e1a2211-9900-44a2-b6a1-3b6cdcffa1b3\",\"type\":\"ColumnDataSource\"}},\"id\":\"6a4724eb-a77a-4fe2-8d31-9634009fc8aa\",\"type\":\"CDSView\"},{\"attributes\":{\"data_source\":{\"id\":\"b85b107f-e026-4a98-b29c-f21a95fd9d46\",\"type\":\"ColumnDataSource\"},\"glyph\":{\"id\":\"ce1c19aa-b981-40d3-8f5e-5ed6fe5b72a7\",\"type\":\"Square\"},\"hover_glyph\":null,\"muted_glyph\":null,\"nonselection_glyph\":{\"id\":\"576ee08c-3e71-4289-b9ee-dda112ca4f7b\",\"type\":\"Square\"},\"selection_glyph\":null,\"view\":{\"id\":\"8aae0861-ce39-4bde-ac07-46785b4b24f9\",\"type\":\"CDSView\"}},\"id\":\"e97bccee-308a-46c4-8f4f-1509a7dd6500\",\"type\":\"GlyphRenderer\"},{\"attributes\":{\"source\":{\"id\":\"7430fcf5-db53-41e9-9ed4-986f34ac0ae7\",\"type\":\"ColumnDataSource\"}},\"id\":\"9d59d966-d928-4547-9126-6b0af5af9ac8\",\"type\":\"CDSView\"},{\"attributes\":{\"callback\":null,\"data\":{\"x\":{\"__ndarray__\":\"ueoqjstxzr7o86sKdKfMvifrAF0lJMi+O5FRMFIlwr7NdABF++C0vmASaIm/Ana+GHO72j7wtj73aRL6dXrKPjzf/Uy1a9Y+tO/ZLkPJ4D4CnyIBD4TnPi0sQOQGmO8+gu6y9juZ9D6dnQ+d+Zf5PvoRTJh+/v0+7yzepDocAT+UWMGpR24DPx8v8UTc/AU/x09ZCLfNCD+9GkO96+YLP9Ngsosx9Q4/at0GQE2jDD+0D1Dic2wEPzvpLqHPzfk+pmajPm5Z7j5HhnT0nizfPpYIi7uPRcY+uJ9SKlebh770yTeMw8a7vgwumBEBs8W+MIM0e9q8y75irVoM2SfQvkiiU1/2H9G+Stp7BX3R0L6trPbsGxTQvraZFTN+TM6+8lSm2IO3zL5ayhHhe+/MvvWjfa0DttS+Jmto+h0l3L6enZ+TxZrivpPvoqJ0jea+wC/EQtai6r5F551yXIbvvgwdrHcjVPK+a7Ywbc+L8r4f7RXWpZXpvhfafjRBMqo+2EovKGbu/D7djTBpkDYYP5GhfwDpqyw/SWMoBZSLPD8rYThxhFxJP7h5moVasFQ/xN0dk4eLXz+sfevB0axmP4S66M9TDm8/jsTgJeVjdD8EQqAZ/8F5PzP+XX4VdX8/0zl0t0Gmgj/0r1HE1YmFPzfMIuVGUIg/LDgjllLoij8gX1UNaEiNPwKwU8YlaY8/9Sm7qLOdkD9654x7fleRPynO4Tspw5E/60xzTW7EkT8KYwCqdTCRP9WcIfTqHpA/UDG7IMPnjT+Qvy9Lhp6LP93PhMphbok/\",\"dtype\":\"float64\",\"shape\":[75]},\"y\":{\"__ndarray__\":\"GhExyth1ND/Sv8nbtpRIP2vylNV0PVE/aTum7souWD/At0SJ8fVgPw3Iuahxymc/MSNhhJWvcD/bTfBN02d3P2zb5nxnaoA/CD5h5MAGhz8NmeH1TyaQP+zrCsc9p5Y/LbKd76fGnz/bLW5ISEmmPww9YvTcQq8/JV2OstnstT8Er5Y7M8G+P0c+r3jqkcU/5h99k6ZBzj88bCIzFzjVP4enV8oyxN0//yH99nXg5D8qOpLLf0jtP5kqGJXUifQ/c9cS8kHP/D+/DpwzojQEQIEmwoanVwxA4lgXt9HgE0BSSZ2AJuIbQAMJih9jjiNA5q4l5INuK0AwTKYKRj0zQNv5fmq8/DpAaCJseHrtQkB/+zpwzoxKQM3MzMzMeFJAZmZmZmZqWEAAAAAAAFxeQM3MzMzMJmJAmpmZmZkfZUBmZmZmZhhoQDMzMzMzEWtAAAAAAAAKbkBmZmZmZoFwQM3MzMzM/XFAMzMzMzN6c0CamZmZmfZ0QAAAAAAAc3ZAZmZmZmbvd0DNzMzMzGt5QDMzMzMz6HpAmpmZmZlkfEAAAAAAAOF9QGZmZmZmXX9AZmZmZuZsgECamZmZGSuBQM3MzMxM6YFAAAAAAICngkAzMzMzs2WDQGZmZmbmI4RAmpmZmRnihEDNzMzMTKCFQAAAAACAXoZAMzMzM7Mch0BmZmZm5tqHQJqZmZkZmYhAzczMzExXiUAAAAAAgBWKQDMzMzOz04pAZmZmZuaRi0CamZmZGVCMQM3MzMxMDo1AAAAAAIDMjUAzMzMzs4qOQGZmZmbmSI9A\",\"dtype\":\"float64\",\"shape\":[75]}},\"selected\":{\"id\":\"425690b4-d9d9-4104-b618-4411083b34a7\",\"type\":\"Selection\"},\"selection_policy\":{\"id\":\"2716dd76-91ea-48b1-ae4a-f6c967fae720\",\"type\":\"UnionRenderers\"}},\"id\":\"b85b107f-e026-4a98-b29c-f21a95fd9d46\",\"type\":\"ColumnDataSource\"},{\"attributes\":{\"line_alpha\":0.6,\"line_color\":\"#984ea3\",\"line_width\":3,\"x\":{\"field\":\"x\"},\"y\":{\"field\":\"y\"}},\"id\":\"a2a415c5-4c64-402a-a648-ab36fc1cef7f\",\"type\":\"Line\"},{\"attributes\":{\"data_source\":{\"id\":\"7430fcf5-db53-41e9-9ed4-986f34ac0ae7\",\"type\":\"ColumnDataSource\"},\"glyph\":{\"id\":\"a2a415c5-4c64-402a-a648-ab36fc1cef7f\",\"type\":\"Line\"},\"hover_glyph\":null,\"muted_glyph\":null,\"nonselection_glyph\":{\"id\":\"3dc70f11-cf09-430a-a052-4273692a352b\",\"type\":\"Line\"},\"selection_glyph\":null,\"view\":{\"id\":\"9d59d966-d928-4547-9126-6b0af5af9ac8\",\"type\":\"CDSView\"}},\"id\":\"3c352e8d-2468-42df-acf3-a4d0970ca640\",\"type\":\"GlyphRenderer\"},{\"attributes\":{},\"id\":\"72904d52-6681-41ce-b525-33babf04c52b\",\"type\":\"Selection\"},{\"attributes\":{\"fill_alpha\":{\"value\":0.1},\"fill_color\":{\"value\":\"#1f77b4\"},\"line_alpha\":{\"value\":0.1},\"line_color\":{\"value\":\"#1f77b4\"},\"x\":{\"field\":\"x\"},\"y\":{\"field\":\"y\"}},\"id\":\"ae0aa4a6-3d3e-4657-a650-ac6be3838801\",\"type\":\"Square\"},{\"attributes\":{\"callback\":null,\"data\":{\"x\":{\"__ndarray__\":\"gRXxDSg0zL6xKqmb/tLKvnz0cKOrRce+lZeMU9CDwr7Bzn+uaK64vnvmqzaN76G+CRIY/Ml0pT5ZQLK5Y5PBPjUHadMPSNA+8f3P/Oto2T6xsdrqHjriPh6MhsWO3ug+K3sHLN5j8D7GWo/91oL0PjFhOpVAJfg+ZdOQPZyj+z620pakaHr/Pk88fFoJ2wE/qKU4hRowBD+k3LRhfMEGPwEueEYjSgk/nm/3TWpdBz+XaOmZ6Y4AP9nZyT9brfQ+zQ0H9EPT5z6dIZJFdGTXPvIs7JEnBLw+2ud6bpA7pb5j2cl5wLm+vvQveVTrrcW+LrNebIaPyr4HhAGi6UXOvlOlu7c/7c++SMSlcIiZz74GIo9Sq5jOvsMEK0yjS82+JlhZZfgxzL77fD7HMJDMvu05/iTAadS+xAZLcEan277OdVneMzzivoOuPDeRBea+JFiqwdr36b7e+dWGX6zuvo2Zn9y61vG+qppOQeeG8r4d7l76mdzsvpKLWhPUJtC+Dp0sT6598T7n/Fqf1acRPy551R8uNyY/R9ZF+TTiNj/vHzdgFs9EPxZSnLgyTFE/Is0PoI3NWj8lcQmR4pRjP+qAdb6hOGs/Cj/nKyEbcj9WzLzgySp3P1GlPirhoXw/0jGBye8ngT96QF/O+gGEP8MDHYHFx4Y/jsWwb5lmiT8KtxbUGdKLP1aWcR4R/Y0/zGTt64/bjz8HY0ul1KuQP7vJ+AtHHZE/IsD/1AwpkT9KLz3k5aWQP3EW3RcjVI8/60akmeoqjT+49U20yAqLPw9bz1iICok/\",\"dtype\":\"float64\",\"shape\":[75]},\"y\":{\"__ndarray__\":\"GhExyth1ND/Sv8nbtpRIP2vylNV0PVE/aTum7souWD/At0SJ8fVgPw3Iuahxymc/MSNhhJWvcD/bTfBN02d3P2zb5nxnaoA/CD5h5MAGhz8NmeH1TyaQP+zrCsc9p5Y/LbKd76fGnz/bLW5ISEmmPww9YvTcQq8/JV2OstnstT8Er5Y7M8G+P0c+r3jqkcU/5h99k6ZBzj88bCIzFzjVP4enV8oyxN0//yH99nXg5D8qOpLLf0jtP5kqGJXUifQ/c9cS8kHP/D+/DpwzojQEQIEmwoanVwxA4lgXt9HgE0BSSZ2AJuIbQAMJih9jjiNA5q4l5INuK0AwTKYKRj0zQNv5fmq8/DpAaCJseHrtQkB/+zpwzoxKQM3MzMzMeFJAZmZmZmZqWEAAAAAAAFxeQM3MzMzMJmJAmpmZmZkfZUBmZmZmZhhoQDMzMzMzEWtAAAAAAAAKbkBmZmZmZoFwQM3MzMzM/XFAMzMzMzN6c0CamZmZmfZ0QAAAAAAAc3ZAZmZmZmbvd0DNzMzMzGt5QDMzMzMz6HpAmpmZmZlkfEAAAAAAAOF9QGZmZmZmXX9AZmZmZuZsgECamZmZGSuBQM3MzMxM6YFAAAAAAICngkAzMzMzs2WDQGZmZmbmI4RAmpmZmRnihEDNzMzMTKCFQAAAAACAXoZAMzMzM7Mch0BmZmZm5tqHQJqZmZkZmYhAzczMzExXiUAAAAAAgBWKQDMzMzOz04pAZmZmZuaRi0CamZmZGVCMQM3MzMxMDo1AAAAAAIDMjUAzMzMzs4qOQGZmZmbmSI9A\",\"dtype\":\"float64\",\"shape\":[75]}},\"selected\":{\"id\":\"4dc7492a-7765-4643-867e-bed3050be434\",\"type\":\"Selection\"},\"selection_policy\":{\"id\":\"3f838484-78af-44ae-a995-35761412a6b0\",\"type\":\"UnionRenderers\"}},\"id\":\"5ec2b4cb-fcc9-4e5b-b42b-4de7a088ac84\",\"type\":\"ColumnDataSource\"},{\"attributes\":{\"source\":{\"id\":\"12042969-5ce4-4850-bd78-7e9672c8339b\",\"type\":\"ColumnDataSource\"}},\"id\":\"ebe73ef1-ad3c-4058-8ede-28dac3326d65\",\"type\":\"CDSView\"},{\"attributes\":{\"callback\":null,\"data\":{\"x\":{\"__ndarray__\":\"4AfxJg4F1L5hSY8QvPfRvsXvswHE3Mm+HgOZ3DeQub6Kh7se552dPtgBt96BOsg+7mu1YpHB2D6wXoyzthjkPnAfNcgidO0+qiQ5OStd9D75h6q2Vh77Pth6p9FglgE/IVLe4/hYBj+nJg5Z9UULP9VR2jKdlw8/c2Wsp4rcET+6Lt+avR4UP2J+fD/nmBY/ypZ0Xt9PGT9rzwOG8UccP5aLsrtqLx8/B+kna/7kHD+4p54deecUP9OrbWeNGgs/14SkMoCjAD901IhY26PyPv+/PiI0RuE+1/t7D9B1xT6P61zYEVaavs569SLec8K+6Utb4DW6zb5T/c4aGbjSvgMNo40Z1NO+Bzro5xl60r4UoJ71B2zQvnlRfXZjVsy+/ryS/wjUyL5OEMBv3j/Ivpd/4VEeYtG+4uerqIi2176G5oruFoXfvqMuloynOeO+rDJPgnXj5r4wre6hU07rvtI5C40ZvO++fWXhL+gG7r5eoGEnGlTavh3Ahzh8w+Y+tAbILSlhCT/qOqFjNIAhP2VYsgD8JTM/n4nkqPI5Qj81QOMMBWJPPyR1FQGW/1g/lvFxZC+wYj+Mpwkt0ndqPxJEUisk5HE/mef9/kc1dz9d49YXKgZ9P/b8KYiTkYE/JW1Fw6uqhD9KMz86WrWHP171eXbEm4o/HKhRHbJOjT8m1pMNLMaPPxD9E8pt/JA/eYMhj73ukT/K2A97Ya6SPzceMZgNG5M/Aj5DacQUkz/LKoqlMWuSP1v1KZ0JOpE/1jX7wOzejz9AjPvLQVuNP2iQJH+uAYs/\",\"dtype\":\"float64\",\"shape\":[75]},\"y\":{\"__ndarray__\":\"GhExyth1ND/Sv8nbtpRIP2vylNV0PVE/aTum7souWD/At0SJ8fVgPw3Iuahxymc/MSNhhJWvcD/bTfBN02d3P2zb5nxnaoA/CD5h5MAGhz8NmeH1TyaQP+zrCsc9p5Y/LbKd76fGnz/bLW5ISEmmPww9YvTcQq8/JV2OstnstT8Er5Y7M8G+P0c+r3jqkcU/5h99k6ZBzj88bCIzFzjVP4enV8oyxN0//yH99nXg5D8qOpLLf0jtP5kqGJXUifQ/c9cS8kHP/D+/DpwzojQEQIEmwoanVwxA4lgXt9HgE0BSSZ2AJuIbQAMJih9jjiNA5q4l5INuK0AwTKYKRj0zQNv5fmq8/DpAaCJseHrtQkB/+zpwzoxKQM3MzMzMeFJAZmZmZmZqWEAAAAAAAFxeQM3MzMzMJmJAmpmZmZkfZUBmZmZmZhhoQDMzMzMzEWtAAAAAAAAKbkBmZmZmZoFwQM3MzMzM/XFAMzMzMzN6c0CamZmZmfZ0QAAAAAAAc3ZAZmZmZmbvd0DNzMzMzGt5QDMzMzMz6HpAmpmZmZlkfEAAAAAAAOF9QGZmZmZmXX9AZmZmZuZsgECamZmZGSuBQM3MzMxM6YFAAAAAAICngkAzMzMzs2WDQGZmZmbmI4RAmpmZmRnihEDNzMzMTKCFQAAAAACAXoZAMzMzM7Mch0BmZmZm5tqHQJqZmZkZmYhAzczMzExXiUAAAAAAgBWKQDMzMzOz04pAZmZmZuaRi0CamZmZGVCMQM3MzMxMDo1AAAAAAIDMjUAzMzMzs4qOQGZmZmbmSI9A\",\"dtype\":\"float64\",\"shape\":[75]}},\"selected\":{\"id\":\"72904d52-6681-41ce-b525-33babf04c52b\",\"type\":\"Selection\"},\"selection_policy\":{\"id\":\"eb078801-f8ff-4763-9ac2-533c4c819195\",\"type\":\"UnionRenderers\"}},\"id\":\"edebc3d5-2074-4bc5-a941-c701809e7d4e\",\"type\":\"ColumnDataSource\"},{\"attributes\":{\"line_alpha\":0.1,\"line_color\":\"#1f77b4\",\"line_width\":3,\"x\":{\"field\":\"x\"},\"y\":{\"field\":\"y\"}},\"id\":\"3dc70f11-cf09-430a-a052-4273692a352b\",\"type\":\"Line\"},{\"attributes\":{\"callback\":null,\"data\":{\"x\":{\"__ndarray__\":\"4AfxJg4F1L5hSY8QvPfRvsXvswHE3Mm+HgOZ3DeQub6Kh7se552dPtgBt96BOsg+7mu1YpHB2D6wXoyzthjkPnAfNcgidO0+qiQ5OStd9D75h6q2Vh77Pth6p9FglgE/IVLe4/hYBj+nJg5Z9UULP9VR2jKdlw8/c2Wsp4rcET+6Lt+avR4UP2J+fD/nmBY/ypZ0Xt9PGT9rzwOG8UccP5aLsrtqLx8/B+kna/7kHD+4p54deecUP9OrbWeNGgs/14SkMoCjAD901IhY26PyPv+/PiI0RuE+1/t7D9B1xT6P61zYEVaavs569SLec8K+6Utb4DW6zb5T/c4aGbjSvgMNo40Z1NO+Bzro5xl60r4UoJ71B2zQvnlRfXZjVsy+/ryS/wjUyL5OEMBv3j/Ivpd/4VEeYtG+4uerqIi2176G5oruFoXfvqMuloynOeO+rDJPgnXj5r4wre6hU07rvtI5C40ZvO++fWXhL+gG7r5eoGEnGlTavh3Ahzh8w+Y+tAbILSlhCT/qOqFjNIAhP2VYsgD8JTM/n4nkqPI5Qj81QOMMBWJPPyR1FQGW/1g/lvFxZC+wYj+Mpwkt0ndqPxJEUisk5HE/mef9/kc1dz9d49YXKgZ9P/b8KYiTkYE/JW1Fw6uqhD9KMz86WrWHP171eXbEm4o/HKhRHbJOjT8m1pMNLMaPPxD9E8pt/JA/eYMhj73ukT/K2A97Ya6SPzceMZgNG5M/Aj5DacQUkz/LKoqlMWuSP1v1KZ0JOpE/1jX7wOzejz9AjPvLQVuNP2iQJH+uAYs/\",\"dtype\":\"float64\",\"shape\":[75]},\"y\":{\"__ndarray__\":\"GhExyth1ND/Sv8nbtpRIP2vylNV0PVE/aTum7souWD/At0SJ8fVgPw3Iuahxymc/MSNhhJWvcD/bTfBN02d3P2zb5nxnaoA/CD5h5MAGhz8NmeH1TyaQP+zrCsc9p5Y/LbKd76fGnz/bLW5ISEmmPww9YvTcQq8/JV2OstnstT8Er5Y7M8G+P0c+r3jqkcU/5h99k6ZBzj88bCIzFzjVP4enV8oyxN0//yH99nXg5D8qOpLLf0jtP5kqGJXUifQ/c9cS8kHP/D+/DpwzojQEQIEmwoanVwxA4lgXt9HgE0BSSZ2AJuIbQAMJih9jjiNA5q4l5INuK0AwTKYKRj0zQNv5fmq8/DpAaCJseHrtQkB/+zpwzoxKQM3MzMzMeFJAZmZmZmZqWEAAAAAAAFxeQM3MzMzMJmJAmpmZmZkfZUBmZmZmZhhoQDMzMzMzEWtAAAAAAAAKbkBmZmZmZoFwQM3MzMzM/XFAMzMzMzN6c0CamZmZmfZ0QAAAAAAAc3ZAZmZmZmbvd0DNzMzMzGt5QDMzMzMz6HpAmpmZmZlkfEAAAAAAAOF9QGZmZmZmXX9AZmZmZuZsgECamZmZGSuBQM3MzMxM6YFAAAAAAICngkAzMzMzs2WDQGZmZmbmI4RAmpmZmRnihEDNzMzMTKCFQAAAAACAXoZAMzMzM7Mch0BmZmZm5tqHQJqZmZkZmYhAzczMzExXiUAAAAAAgBWKQDMzMzOz04pAZmZmZuaRi0CamZmZGVCMQM3MzMxMDo1AAAAAAIDMjUAzMzMzs4qOQGZmZmbmSI9A\",\"dtype\":\"float64\",\"shape\":[75]}},\"selected\":{\"id\":\"7c427874-e874-4d69-94b7-8356748d2c92\",\"type\":\"Selection\"},\"selection_policy\":{\"id\":\"bf8bd4e2-5935-4260-8b25-4266dca2b886\",\"type\":\"UnionRenderers\"}},\"id\":\"072576e7-f78b-445e-90d3-17cacc235d1e\",\"type\":\"ColumnDataSource\"},{\"attributes\":{\"fill_alpha\":{\"value\":0.7},\"fill_color\":{\"value\":\"#377eb8\"},\"line_alpha\":{\"value\":0.7},\"line_color\":{\"value\":\"#377eb8\"},\"x\":{\"field\":\"x\"},\"y\":{\"field\":\"y\"}},\"id\":\"ada31600-4532-46e7-b4cc-76fa06617df5\",\"type\":\"Triangle\"},{\"attributes\":{\"source\":{\"id\":\"5ec2b4cb-fcc9-4e5b-b42b-4de7a088ac84\",\"type\":\"ColumnDataSource\"}},\"id\":\"714a6af4-8df4-4f5b-aa75-eb9dad61fd46\",\"type\":\"CDSView\"},{\"attributes\":{\"fill_alpha\":{\"value\":0.1},\"fill_color\":{\"value\":\"#1f77b4\"},\"line_alpha\":{\"value\":0.1},\"line_color\":{\"value\":\"#1f77b4\"},\"x\":{\"field\":\"x\"},\"y\":{\"field\":\"y\"}},\"id\":\"576ee08c-3e71-4289-b9ee-dda112ca4f7b\",\"type\":\"Square\"},{\"attributes\":{\"fill_alpha\":{\"value\":0.1},\"fill_color\":{\"value\":\"#1f77b4\"},\"line_alpha\":{\"value\":0.1},\"line_color\":{\"value\":\"#1f77b4\"},\"x\":{\"field\":\"x\"},\"y\":{\"field\":\"y\"}},\"id\":\"a3d3e8f9-7dae-4aca-89dc-083fdbd4551f\",\"type\":\"Triangle\"},{\"attributes\":{\"line_alpha\":0.1,\"line_color\":\"#1f77b4\",\"line_width\":1.5,\"x\":{\"field\":\"x\"},\"y\":{\"field\":\"y\"}},\"id\":\"02134c60-f483-49ca-8d53-712f456d8a6c\",\"type\":\"Line\"},{\"attributes\":{\"data_source\":{\"id\":\"5ec2b4cb-fcc9-4e5b-b42b-4de7a088ac84\",\"type\":\"ColumnDataSource\"},\"glyph\":{\"id\":\"ada31600-4532-46e7-b4cc-76fa06617df5\",\"type\":\"Triangle\"},\"hover_glyph\":null,\"muted_glyph\":null,\"nonselection_glyph\":{\"id\":\"a3d3e8f9-7dae-4aca-89dc-083fdbd4551f\",\"type\":\"Triangle\"},\"selection_glyph\":null,\"view\":{\"id\":\"714a6af4-8df4-4f5b-aa75-eb9dad61fd46\",\"type\":\"CDSView\"}},\"id\":\"09772fc0-fd78-4a48-b1f3-b42800bd87e6\",\"type\":\"GlyphRenderer\"},{\"attributes\":{},\"id\":\"e8158cf5-6b0f-4809-baa2-42c874d162e4\",\"type\":\"Selection\"},{\"attributes\":{},\"id\":\"b02cac94-8de1-49ad-8ac4-b19c6911ab77\",\"type\":\"Selection\"},{\"attributes\":{},\"id\":\"a83fef9d-4d91-494e-bd2f-1245eafa3821\",\"type\":\"UnionRenderers\"},{\"attributes\":{\"callback\":null,\"end\":0.01,\"start\":1020},\"id\":\"62390ca2-656f-456b-b9cf-e38e5384208b\",\"type\":\"Range1d\"},{\"attributes\":{},\"id\":\"bf8bd4e2-5935-4260-8b25-4266dca2b886\",\"type\":\"UnionRenderers\"},{\"attributes\":{\"toolbar\":{\"id\":\"20cf8bf7-23f2-412e-b503-7c55fb604176\",\"type\":\"ProxyToolbar\"},\"toolbar_location\":\"above\"},\"id\":\"f0608b00-23d8-4d5a-a5dc-5ca184081093\",\"type\":\"ToolbarBox\"},{\"attributes\":{\"callback\":null,\"end\":0.018844642638715,\"start\":-0.000204442710215},\"id\":\"e96e977b-36e0-47bf-aa7e-f9dd1c51d6f7\",\"type\":\"Range1d\"},{\"attributes\":{\"children\":[{\"id\":\"f0608b00-23d8-4d5a-a5dc-5ca184081093\",\"type\":\"ToolbarBox\"},{\"id\":\"12bd95f1-de3b-406a-9838-0128fa9cd9b4\",\"type\":\"Column\"}]},\"id\":\"1a121d27-dc90-4dc9-9708-b3ee6c810c9c\",\"type\":\"Column\"},{\"attributes\":{},\"id\":\"425690b4-d9d9-4104-b618-4411083b34a7\",\"type\":\"Selection\"},{\"attributes\":{},\"id\":\"6f8e3884-efbf-48e7-93c0-9061ed1e9e1a\",\"type\":\"Selection\"},{\"attributes\":{},\"id\":\"aa424846-a14a-4f9f-bff9-a55fe9ed6270\",\"type\":\"UnionRenderers\"},{\"attributes\":{\"tools\":[{\"id\":\"71dd5ce0-89dc-47a0-8884-7f36f5e7736f\",\"type\":\"PanTool\"},{\"id\":\"0d3091ee-0f01-4afa-acd4-ba1fdfb49495\",\"type\":\"WheelZoomTool\"},{\"id\":\"7490d632-84bf-4c30-869b-8e75bf830742\",\"type\":\"BoxZoomTool\"},{\"id\":\"7d26bdd9-44b5-4182-b7be-695fff405df9\",\"type\":\"SaveTool\"},{\"id\":\"51c08788-6aeb-4888-a708-62f6f5e42619\",\"type\":\"ResetTool\"},{\"id\":\"1a22e96d-7c25-4cbf-a073-9eddd290964d\",\"type\":\"HelpTool\"},{\"id\":\"c7ff9142-3387-4b98-9339-224293afcbcb\",\"type\":\"PanTool\"},{\"id\":\"9100294d-ce36-4e78-bbd3-6af083ab8c02\",\"type\":\"WheelZoomTool\"},{\"id\":\"a57d087e-b15a-4f49-9ebf-fbab5234a7e8\",\"type\":\"BoxZoomTool\"},{\"id\":\"7d0222fa-31a4-456d-95f8-3bce9172e7f0\",\"type\":\"SaveTool\"},{\"id\":\"c663b835-95ec-4c9f-a902-fbaaa22037fe\",\"type\":\"ResetTool\"},{\"id\":\"2249f2f7-cba3-4df4-8ee7-8ec5c0987704\",\"type\":\"HelpTool\"}]},\"id\":\"20cf8bf7-23f2-412e-b503-7c55fb604176\",\"type\":\"ProxyToolbar\"},{\"attributes\":{\"items\":[{\"id\":\"473c0c8a-8867-4fd3-a713-e8abd6512492\",\"type\":\"LegendItem\"},{\"id\":\"8a112545-af00-4eb6-8977-b41599a03df4\",\"type\":\"LegendItem\"},{\"id\":\"dca6da0d-823f-4951-b575-9b478b1ceed7\",\"type\":\"LegendItem\"}],\"label_text_font_size\":{\"value\":\"8pt\"},\"location\":\"top_center\",\"orientation\":\"horizontal\",\"plot\":{\"id\":\"9a48ac9a-86ae-40f7-bca1-dbdf8520ed62\",\"subtype\":\"Figure\",\"type\":\"Plot\"}},\"id\":\"7855b725-3b4b-4746-bf0c-39379176a1ce\",\"type\":\"Legend\"},{\"attributes\":{},\"id\":\"e887f74e-4255-407d-8379-789b4a95c815\",\"type\":\"BasicTicker\"},{\"attributes\":{\"active_drag\":\"auto\",\"active_inspect\":\"auto\",\"active_scroll\":\"auto\",\"active_tap\":\"auto\",\"tools\":[{\"id\":\"71dd5ce0-89dc-47a0-8884-7f36f5e7736f\",\"type\":\"PanTool\"},{\"id\":\"0d3091ee-0f01-4afa-acd4-ba1fdfb49495\",\"type\":\"WheelZoomTool\"},{\"id\":\"7490d632-84bf-4c30-869b-8e75bf830742\",\"type\":\"BoxZoomTool\"},{\"id\":\"7d26bdd9-44b5-4182-b7be-695fff405df9\",\"type\":\"SaveTool\"},{\"id\":\"51c08788-6aeb-4888-a708-62f6f5e42619\",\"type\":\"ResetTool\"},{\"id\":\"1a22e96d-7c25-4cbf-a073-9eddd290964d\",\"type\":\"HelpTool\"}]},\"id\":\"851c6b23-78fd-4afa-adba-fbacdbb26936\",\"type\":\"Toolbar\"},{\"attributes\":{},\"id\":\"2716dd76-91ea-48b1-ae4a-f6c967fae720\",\"type\":\"UnionRenderers\"},{\"attributes\":{},\"id\":\"6dafc40f-f9ed-4507-b9d5-b5c71893f8c0\",\"type\":\"LinearScale\"},{\"attributes\":{},\"id\":\"57817c62-cb89-4453-b576-b21fa9b0f41f\",\"type\":\"BasicTicker\"},{\"attributes\":{\"above\":[{\"id\":\"7855b725-3b4b-4746-bf0c-39379176a1ce\",\"type\":\"Legend\"}],\"below\":[{\"id\":\"4cbf5321-3fc8-46f6-925f-4932f14a3005\",\"type\":\"LinearAxis\"}],\"left\":[{\"id\":\"d034c7bb-dd54-477a-8cdb-4156ac2aec1c\",\"type\":\"LinearAxis\"}],\"plot_height\":500,\"plot_width\":400,\"renderers\":[{\"id\":\"4cbf5321-3fc8-46f6-925f-4932f14a3005\",\"type\":\"LinearAxis\"},{\"id\":\"ccfd8774-4e9a-4c6f-bc95-4aec2d097749\",\"type\":\"Grid\"},{\"id\":\"d034c7bb-dd54-477a-8cdb-4156ac2aec1c\",\"type\":\"LinearAxis\"},{\"id\":\"1d638f01-fc8c-40c3-ae7b-a1cc472dfb9f\",\"type\":\"Grid\"},{\"id\":\"2e182649-e77b-497c-be2f-08dbe4b79c41\",\"type\":\"BoxAnnotation\"},{\"id\":\"bc260124-26ef-4e73-b706-d88866935f72\",\"type\":\"GlyphRenderer\"},{\"id\":\"1e682109-ce04-4205-8220-a8394c8ab43e\",\"type\":\"GlyphRenderer\"},{\"id\":\"aca62cf7-6e54-4faa-a2b5-25ea4946b630\",\"type\":\"GlyphRenderer\"},{\"id\":\"3c352e8d-2468-42df-acf3-a4d0970ca640\",\"type\":\"GlyphRenderer\"},{\"id\":\"09772fc0-fd78-4a48-b1f3-b42800bd87e6\",\"type\":\"GlyphRenderer\"},{\"id\":\"b6c3bf21-c498-4ed1-a5cf-45653cfb3594\",\"type\":\"GlyphRenderer\"},{\"id\":\"7855b725-3b4b-4746-bf0c-39379176a1ce\",\"type\":\"Legend\"}],\"title\":{\"id\":\"a9fd0188-36a3-45bf-8f00-6a11ee900cf4\",\"type\":\"Title\"},\"toolbar\":{\"id\":\"851c6b23-78fd-4afa-adba-fbacdbb26936\",\"type\":\"Toolbar\"},\"toolbar_location\":null,\"x_range\":{\"id\":\"e96e977b-36e0-47bf-aa7e-f9dd1c51d6f7\",\"type\":\"Range1d\"},\"x_scale\":{\"id\":\"6dafc40f-f9ed-4507-b9d5-b5c71893f8c0\",\"type\":\"LinearScale\"},\"y_range\":{\"id\":\"62390ca2-656f-456b-b9cf-e38e5384208b\",\"type\":\"Range1d\"},\"y_scale\":{\"id\":\"b993910a-aed5-4472-bd4d-655353ba1bfd\",\"type\":\"LinearScale\"}},\"id\":\"9a48ac9a-86ae-40f7-bca1-dbdf8520ed62\",\"subtype\":\"Figure\",\"type\":\"Plot\"},{\"attributes\":{\"dimension\":1,\"plot\":{\"id\":\"9a48ac9a-86ae-40f7-bca1-dbdf8520ed62\",\"subtype\":\"Figure\",\"type\":\"Plot\"},\"ticker\":{\"id\":\"57817c62-cb89-4453-b576-b21fa9b0f41f\",\"type\":\"BasicTicker\"}},\"id\":\"1d638f01-fc8c-40c3-ae7b-a1cc472dfb9f\",\"type\":\"Grid\"},{\"attributes\":{},\"id\":\"56ec5877-64cf-4ce8-a7eb-57089a42711f\",\"type\":\"Selection\"},{\"attributes\":{},\"id\":\"8b3ad6e4-58b3-461e-b139-c530c930f8c3\",\"type\":\"UnionRenderers\"},{\"attributes\":{},\"id\":\"92945e9b-f146-4e69-a124-62120d552bb2\",\"type\":\"UnionRenderers\"},{\"attributes\":{\"axis_label\":\"pressure [mb]\",\"formatter\":{\"id\":\"53dd199e-6549-48a1-ac01-a31b0b422b9a\",\"type\":\"BasicTickFormatter\"},\"plot\":{\"id\":\"9a48ac9a-86ae-40f7-bca1-dbdf8520ed62\",\"subtype\":\"Figure\",\"type\":\"Plot\"},\"ticker\":{\"id\":\"57817c62-cb89-4453-b576-b21fa9b0f41f\",\"type\":\"BasicTicker\"}},\"id\":\"d034c7bb-dd54-477a-8cdb-4156ac2aec1c\",\"type\":\"LinearAxis\"},{\"attributes\":{\"axis_label\":\"cooling rate [K/day]\",\"formatter\":{\"id\":\"7beeb789-8404-4dd3-9c7b-19db0e4cb7c8\",\"type\":\"BasicTickFormatter\"},\"plot\":{\"id\":\"9a48ac9a-86ae-40f7-bca1-dbdf8520ed62\",\"subtype\":\"Figure\",\"type\":\"Plot\"},\"ticker\":{\"id\":\"e887f74e-4255-407d-8379-789b4a95c815\",\"type\":\"BasicTicker\"}},\"id\":\"4cbf5321-3fc8-46f6-925f-4932f14a3005\",\"type\":\"LinearAxis\"},{\"attributes\":{\"plot\":{\"id\":\"9a48ac9a-86ae-40f7-bca1-dbdf8520ed62\",\"subtype\":\"Figure\",\"type\":\"Plot\"},\"ticker\":{\"id\":\"e887f74e-4255-407d-8379-789b4a95c815\",\"type\":\"BasicTicker\"}},\"id\":\"ccfd8774-4e9a-4c6f-bc95-4aec2d097749\",\"type\":\"Grid\"},{\"attributes\":{},\"id\":\"b993910a-aed5-4472-bd4d-655353ba1bfd\",\"type\":\"LinearScale\"},{\"attributes\":{\"items\":[{\"id\":\"f97b1a45-1e4e-4fb5-9987-4e0e486c608f\",\"type\":\"LegendItem\"},{\"id\":\"3edf3d5b-a4c4-4757-b3af-2061a6dfa031\",\"type\":\"LegendItem\"},{\"id\":\"bb8f9493-ead5-471d-817c-a9b20796b436\",\"type\":\"LegendItem\"}],\"label_text_font_size\":{\"value\":\"8pt\"},\"location\":\"top_center\",\"orientation\":\"horizontal\",\"plot\":{\"id\":\"7b4fffd7-6db0-4d8e-8add-9ca3b832436e\",\"subtype\":\"Figure\",\"type\":\"Plot\"}},\"id\":\"b46db033-eadf-4766-a80e-cd32c89dcba7\",\"type\":\"Legend\"},{\"attributes\":{\"plot\":null,\"text\":\"\"},\"id\":\"07feb956-d378-409f-af7e-139c4ce9a8cd\",\"type\":\"Title\"},{\"attributes\":{},\"id\":\"78d539d5-c497-4db0-90a6-e57b6945da1e\",\"type\":\"BasicTickFormatter\"},{\"attributes\":{\"label\":{\"value\":\"WGT igg=1\"},\"renderers\":[{\"id\":\"e97bccee-308a-46c4-8f4f-1509a7dd6500\",\"type\":\"GlyphRenderer\"},{\"id\":\"c34b4877-f1b0-428d-b531-fb96715a0695\",\"type\":\"GlyphRenderer\"}]},\"id\":\"3edf3d5b-a4c4-4757-b3af-2061a6dfa031\",\"type\":\"LegendItem\"},{\"attributes\":{},\"id\":\"4dc7492a-7765-4643-867e-bed3050be434\",\"type\":\"Selection\"},{\"attributes\":{\"label\":{\"value\":\"WGT igg=10\"},\"renderers\":[{\"id\":\"6180aec1-9192-4e1c-9ce0-fb6c17e4a49a\",\"type\":\"GlyphRenderer\"},{\"id\":\"6e23aba4-864e-43bf-8c96-50beaae2d279\",\"type\":\"GlyphRenderer\"}]},\"id\":\"bb8f9493-ead5-471d-817c-a9b20796b436\",\"type\":\"LegendItem\"},{\"attributes\":{\"data_source\":{\"id\":\"73d0b9c1-1da2-4cbc-b170-f16b82c87780\",\"type\":\"ColumnDataSource\"},\"glyph\":{\"id\":\"07300b6f-38c4-4783-9bf4-743cfcddfb02\",\"type\":\"Line\"},\"hover_glyph\":null,\"muted_glyph\":null,\"nonselection_glyph\":{\"id\":\"9dc40320-9212-4f2e-8744-5496e092aac6\",\"type\":\"Line\"},\"selection_glyph\":null,\"view\":{\"id\":\"018bb8a3-fdb8-497f-b1d7-65e7d522f14d\",\"type\":\"CDSView\"}},\"id\":\"6e23aba4-864e-43bf-8c96-50beaae2d279\",\"type\":\"GlyphRenderer\"},{\"attributes\":{\"source\":{\"id\":\"b85b107f-e026-4a98-b29c-f21a95fd9d46\",\"type\":\"ColumnDataSource\"}},\"id\":\"8aae0861-ce39-4bde-ac07-46785b4b24f9\",\"type\":\"CDSView\"},{\"attributes\":{\"callback\":null,\"data\":{\"x\":{\"__ndarray__\":\"gRXxDSg0zL6xKqmb/tLKvnz0cKOrRce+lZeMU9CDwr7Bzn+uaK64vnvmqzaN76G+CRIY/Ml0pT5ZQLK5Y5PBPjUHadMPSNA+8f3P/Oto2T6xsdrqHjriPh6MhsWO3ug+K3sHLN5j8D7GWo/91oL0PjFhOpVAJfg+ZdOQPZyj+z620pakaHr/Pk88fFoJ2wE/qKU4hRowBD+k3LRhfMEGPwEueEYjSgk/nm/3TWpdBz+XaOmZ6Y4AP9nZyT9brfQ+zQ0H9EPT5z6dIZJFdGTXPvIs7JEnBLw+2ud6bpA7pb5j2cl5wLm+vvQveVTrrcW+LrNebIaPyr4HhAGi6UXOvlOlu7c/7c++SMSlcIiZz74GIo9Sq5jOvsMEK0yjS82+JlhZZfgxzL77fD7HMJDMvu05/iTAadS+xAZLcEan277OdVneMzzivoOuPDeRBea+JFiqwdr36b7e+dWGX6zuvo2Zn9y61vG+qppOQeeG8r4d7l76mdzsvpKLWhPUJtC+Dp0sT6598T7n/Fqf1acRPy551R8uNyY/R9ZF+TTiNj/vHzdgFs9EPxZSnLgyTFE/Is0PoI3NWj8lcQmR4pRjP+qAdb6hOGs/Cj/nKyEbcj9WzLzgySp3P1GlPirhoXw/0jGBye8ngT96QF/O+gGEP8MDHYHFx4Y/jsWwb5lmiT8KtxbUGdKLP1aWcR4R/Y0/zGTt64/bjz8HY0ul1KuQP7vJ+AtHHZE/IsD/1AwpkT9KLz3k5aWQP3EW3RcjVI8/60akmeoqjT+49U20yAqLPw9bz1iICok/\",\"dtype\":\"float64\",\"shape\":[75]},\"y\":{\"__ndarray__\":\"GhExyth1ND/Sv8nbtpRIP2vylNV0PVE/aTum7souWD/At0SJ8fVgPw3Iuahxymc/MSNhhJWvcD/bTfBN02d3P2zb5nxnaoA/CD5h5MAGhz8NmeH1TyaQP+zrCsc9p5Y/LbKd76fGnz/bLW5ISEmmPww9YvTcQq8/JV2OstnstT8Er5Y7M8G+P0c+r3jqkcU/5h99k6ZBzj88bCIzFzjVP4enV8oyxN0//yH99nXg5D8qOpLLf0jtP5kqGJXUifQ/c9cS8kHP/D+/DpwzojQEQIEmwoanVwxA4lgXt9HgE0BSSZ2AJuIbQAMJih9jjiNA5q4l5INuK0AwTKYKRj0zQNv5fmq8/DpAaCJseHrtQkB/+zpwzoxKQM3MzMzMeFJAZmZmZmZqWEAAAAAAAFxeQM3MzMzMJmJAmpmZmZkfZUBmZmZmZhhoQDMzMzMzEWtAAAAAAAAKbkBmZmZmZoFwQM3MzMzM/XFAMzMzMzN6c0CamZmZmfZ0QAAAAAAAc3ZAZmZmZmbvd0DNzMzMzGt5QDMzMzMz6HpAmpmZmZlkfEAAAAAAAOF9QGZmZmZmXX9AZmZmZuZsgECamZmZGSuBQM3MzMxM6YFAAAAAAICngkAzMzMzs2WDQGZmZmbmI4RAmpmZmRnihEDNzMzMTKCFQAAAAACAXoZAMzMzM7Mch0BmZmZm5tqHQJqZmZkZmYhAzczMzExXiUAAAAAAgBWKQDMzMzOz04pAZmZmZuaRi0CamZmZGVCMQM3MzMxMDo1AAAAAAIDMjUAzMzMzs4qOQGZmZmbmSI9A\",\"dtype\":\"float64\",\"shape\":[75]}},\"selected\":{\"id\":\"e8158cf5-6b0f-4809-baa2-42c874d162e4\",\"type\":\"Selection\"},\"selection_policy\":{\"id\":\"8b3ad6e4-58b3-461e-b139-c530c930f8c3\",\"type\":\"UnionRenderers\"}},\"id\":\"d2e25e57-dccd-4ac9-9207-36d7ecdbae32\",\"type\":\"ColumnDataSource\"},{\"attributes\":{\"source\":{\"id\":\"cfe90362-ce54-4b3b-bb7b-f18f32ac0991\",\"type\":\"ColumnDataSource\"}},\"id\":\"cfef4817-f5f7-4457-ba2f-d429ff8aa52b\",\"type\":\"CDSView\"},{\"attributes\":{},\"id\":\"53dd199e-6549-48a1-ac01-a31b0b422b9a\",\"type\":\"BasicTickFormatter\"},{\"attributes\":{\"callback\":null,\"data\":{\"x\":{\"__ndarray__\":\"ueoqjstxzr7o86sKdKfMvifrAF0lJMi+O5FRMFIlwr7NdABF++C0vmASaIm/Ana+GHO72j7wtj73aRL6dXrKPjzf/Uy1a9Y+tO/ZLkPJ4D4CnyIBD4TnPi0sQOQGmO8+gu6y9juZ9D6dnQ+d+Zf5PvoRTJh+/v0+7yzepDocAT+UWMGpR24DPx8v8UTc/AU/x09ZCLfNCD+9GkO96+YLP9Ngsosx9Q4/at0GQE2jDD+0D1Dic2wEPzvpLqHPzfk+pmajPm5Z7j5HhnT0nizfPpYIi7uPRcY+uJ9SKlebh770yTeMw8a7vgwumBEBs8W+MIM0e9q8y75irVoM2SfQvkiiU1/2H9G+Stp7BX3R0L6trPbsGxTQvraZFTN+TM6+8lSm2IO3zL5ayhHhe+/MvvWjfa0DttS+Jmto+h0l3L6enZ+TxZrivpPvoqJ0jea+wC/EQtai6r5F551yXIbvvgwdrHcjVPK+a7Ywbc+L8r4f7RXWpZXpvhfafjRBMqo+2EovKGbu/D7djTBpkDYYP5GhfwDpqyw/SWMoBZSLPD8rYThxhFxJP7h5moVasFQ/xN0dk4eLXz+sfevB0axmP4S66M9TDm8/jsTgJeVjdD8EQqAZ/8F5PzP+XX4VdX8/0zl0t0Gmgj/0r1HE1YmFPzfMIuVGUIg/LDgjllLoij8gX1UNaEiNPwKwU8YlaY8/9Sm7qLOdkD9654x7fleRPynO4Tspw5E/60xzTW7EkT8KYwCqdTCRP9WcIfTqHpA/UDG7IMPnjT+Qvy9Lhp6LP93PhMphbok/\",\"dtype\":\"float64\",\"shape\":[75]},\"y\":{\"__ndarray__\":\"GhExyth1ND/Sv8nbtpRIP2vylNV0PVE/aTum7souWD/At0SJ8fVgPw3Iuahxymc/MSNhhJWvcD/bTfBN02d3P2zb5nxnaoA/CD5h5MAGhz8NmeH1TyaQP+zrCsc9p5Y/LbKd76fGnz/bLW5ISEmmPww9YvTcQq8/JV2OstnstT8Er5Y7M8G+P0c+r3jqkcU/5h99k6ZBzj88bCIzFzjVP4enV8oyxN0//yH99nXg5D8qOpLLf0jtP5kqGJXUifQ/c9cS8kHP/D+/DpwzojQEQIEmwoanVwxA4lgXt9HgE0BSSZ2AJuIbQAMJih9jjiNA5q4l5INuK0AwTKYKRj0zQNv5fmq8/DpAaCJseHrtQkB/+zpwzoxKQM3MzMzMeFJAZmZmZmZqWEAAAAAAAFxeQM3MzMzMJmJAmpmZmZkfZUBmZmZmZhhoQDMzMzMzEWtAAAAAAAAKbkBmZmZmZoFwQM3MzMzM/XFAMzMzMzN6c0CamZmZmfZ0QAAAAAAAc3ZAZmZmZmbvd0DNzMzMzGt5QDMzMzMz6HpAmpmZmZlkfEAAAAAAAOF9QGZmZmZmXX9AZmZmZuZsgECamZmZGSuBQM3MzMxM6YFAAAAAAICngkAzMzMzs2WDQGZmZmbmI4RAmpmZmRnihEDNzMzMTKCFQAAAAACAXoZAMzMzM7Mch0BmZmZm5tqHQJqZmZkZmYhAzczMzExXiUAAAAAAgBWKQDMzMzOz04pAZmZmZuaRi0CamZmZGVCMQM3MzMxMDo1AAAAAAIDMjUAzMzMzs4qOQGZmZmbmSI9A\",\"dtype\":\"float64\",\"shape\":[75]}},\"selected\":{\"id\":\"b02cac94-8de1-49ad-8ac4-b19c6911ab77\",\"type\":\"Selection\"},\"selection_policy\":{\"id\":\"aa424846-a14a-4f9f-bff9-a55fe9ed6270\",\"type\":\"UnionRenderers\"}},\"id\":\"cfe90362-ce54-4b3b-bb7b-f18f32ac0991\",\"type\":\"ColumnDataSource\"},{\"attributes\":{\"callback\":null,\"data\":{\"x\":{\"__ndarray__\":\"gRXxDSg0zL6xKqmb/tLKvnz0cKOrRce+lZeMU9CDwr7Bzn+uaK64vnvmqzaN76G+CRIY/Ml0pT5ZQLK5Y5PBPjUHadMPSNA+8f3P/Oto2T6xsdrqHjriPh6MhsWO3ug+K3sHLN5j8D7GWo/91oL0PjFhOpVAJfg+ZdOQPZyj+z620pakaHr/Pk88fFoJ2wE/qKU4hRowBD+k3LRhfMEGPwEueEYjSgk/nm/3TWpdBz+XaOmZ6Y4AP9nZyT9brfQ+zQ0H9EPT5z6dIZJFdGTXPvIs7JEnBLw+2ud6bpA7pb5j2cl5wLm+vvQveVTrrcW+LrNebIaPyr4HhAGi6UXOvlOlu7c/7c++SMSlcIiZz74GIo9Sq5jOvsMEK0yjS82+JlhZZfgxzL77fD7HMJDMvu05/iTAadS+xAZLcEan277OdVneMzzivoOuPDeRBea+JFiqwdr36b7e+dWGX6zuvo2Zn9y61vG+qppOQeeG8r4d7l76mdzsvpKLWhPUJtC+Dp0sT6598T7n/Fqf1acRPy551R8uNyY/R9ZF+TTiNj/vHzdgFs9EPxZSnLgyTFE/Is0PoI3NWj8lcQmR4pRjP+qAdb6hOGs/Cj/nKyEbcj9WzLzgySp3P1GlPirhoXw/0jGBye8ngT96QF/O+gGEP8MDHYHFx4Y/jsWwb5lmiT8KtxbUGdKLP1aWcR4R/Y0/zGTt64/bjz8HY0ul1KuQP7vJ+AtHHZE/IsD/1AwpkT9KLz3k5aWQP3EW3RcjVI8/60akmeoqjT+49U20yAqLPw9bz1iICok/\",\"dtype\":\"float64\",\"shape\":[75]},\"y\":{\"__ndarray__\":\"GhExyth1ND/Sv8nbtpRIP2vylNV0PVE/aTum7souWD/At0SJ8fVgPw3Iuahxymc/MSNhhJWvcD/bTfBN02d3P2zb5nxnaoA/CD5h5MAGhz8NmeH1TyaQP+zrCsc9p5Y/LbKd76fGnz/bLW5ISEmmPww9YvTcQq8/JV2OstnstT8Er5Y7M8G+P0c+r3jqkcU/5h99k6ZBzj88bCIzFzjVP4enV8oyxN0//yH99nXg5D8qOpLLf0jtP5kqGJXUifQ/c9cS8kHP/D+/DpwzojQEQIEmwoanVwxA4lgXt9HgE0BSSZ2AJuIbQAMJih9jjiNA5q4l5INuK0AwTKYKRj0zQNv5fmq8/DpAaCJseHrtQkB/+zpwzoxKQM3MzMzMeFJAZmZmZmZqWEAAAAAAAFxeQM3MzMzMJmJAmpmZmZkfZUBmZmZmZhhoQDMzMzMzEWtAAAAAAAAKbkBmZmZmZoFwQM3MzMzM/XFAMzMzMzN6c0CamZmZmfZ0QAAAAAAAc3ZAZmZmZmbvd0DNzMzMzGt5QDMzMzMz6HpAmpmZmZlkfEAAAAAAAOF9QGZmZmZmXX9AZmZmZuZsgECamZmZGSuBQM3MzMxM6YFAAAAAAICngkAzMzMzs2WDQGZmZmbmI4RAmpmZmRnihEDNzMzMTKCFQAAAAACAXoZAMzMzM7Mch0BmZmZm5tqHQJqZmZkZmYhAzczMzExXiUAAAAAAgBWKQDMzMzOz04pAZmZmZuaRi0CamZmZGVCMQM3MzMxMDo1AAAAAAIDMjUAzMzMzs4qOQGZmZmbmSI9A\",\"dtype\":\"float64\",\"shape\":[75]}},\"selected\":{\"id\":\"56ec5877-64cf-4ce8-a7eb-57089a42711f\",\"type\":\"Selection\"},\"selection_policy\":{\"id\":\"92945e9b-f146-4e69-a124-62120d552bb2\",\"type\":\"UnionRenderers\"}},\"id\":\"73d0b9c1-1da2-4cbc-b170-f16b82c87780\",\"type\":\"ColumnDataSource\"},{\"attributes\":{\"line_alpha\":0.6,\"line_color\":\"#984ea3\",\"line_width\":3,\"x\":{\"field\":\"x\"},\"y\":{\"field\":\"y\"}},\"id\":\"fa6d8e29-c2ff-4031-a360-a2bbbe91fb74\",\"type\":\"Line\"},{\"attributes\":{\"data_source\":{\"id\":\"cfe90362-ce54-4b3b-bb7b-f18f32ac0991\",\"type\":\"ColumnDataSource\"},\"glyph\":{\"id\":\"fa6d8e29-c2ff-4031-a360-a2bbbe91fb74\",\"type\":\"Line\"},\"hover_glyph\":null,\"muted_glyph\":null,\"nonselection_glyph\":{\"id\":\"a5b9663a-0d35-4e05-abc8-d0c9f92302d9\",\"type\":\"Line\"},\"selection_glyph\":null,\"view\":{\"id\":\"cfef4817-f5f7-4457-ba2f-d429ff8aa52b\",\"type\":\"CDSView\"}},\"id\":\"c34b4877-f1b0-428d-b531-fb96715a0695\",\"type\":\"GlyphRenderer\"},{\"attributes\":{\"children\":[{\"id\":\"9a48ac9a-86ae-40f7-bca1-dbdf8520ed62\",\"subtype\":\"Figure\",\"type\":\"Plot\"},{\"id\":\"7b4fffd7-6db0-4d8e-8add-9ca3b832436e\",\"subtype\":\"Figure\",\"type\":\"Plot\"}]},\"id\":\"0376ffff-40e7-4ff0-b68e-c216778213a3\",\"type\":\"Row\"},{\"attributes\":{\"source\":{\"id\":\"73d0b9c1-1da2-4cbc-b170-f16b82c87780\",\"type\":\"ColumnDataSource\"}},\"id\":\"018bb8a3-fdb8-497f-b1d7-65e7d522f14d\",\"type\":\"CDSView\"},{\"attributes\":{},\"id\":\"2ca59f6d-f288-45bd-b1d9-3d7837c98a81\",\"type\":\"UnionRenderers\"},{\"attributes\":{\"line_alpha\":0.1,\"line_color\":\"#1f77b4\",\"line_width\":2,\"x\":{\"field\":\"x\"},\"y\":{\"field\":\"y\"}},\"id\":\"9dc40320-9212-4f2e-8744-5496e092aac6\",\"type\":\"Line\"},{\"attributes\":{\"line_alpha\":0.1,\"line_color\":\"#1f77b4\",\"line_width\":3,\"x\":{\"field\":\"x\"},\"y\":{\"field\":\"y\"}},\"id\":\"a5b9663a-0d35-4e05-abc8-d0c9f92302d9\",\"type\":\"Line\"},{\"attributes\":{\"ticker\":null},\"id\":\"14aaf2cc-44a0-4d48-a943-2ba45edfbfec\",\"type\":\"LogTickFormatter\"},{\"attributes\":{\"fill_alpha\":{\"value\":0.7},\"fill_color\":{\"value\":\"#377eb8\"},\"line_alpha\":{\"value\":0.7},\"line_color\":{\"value\":\"#377eb8\"},\"x\":{\"field\":\"x\"},\"y\":{\"field\":\"y\"}},\"id\":\"16de6ce6-db4c-41ce-92b6-1e0065934174\",\"type\":\"Triangle\"},{\"attributes\":{\"line_alpha\":0.3,\"line_color\":\"#377eb8\",\"line_width\":2,\"x\":{\"field\":\"x\"},\"y\":{\"field\":\"y\"}},\"id\":\"07300b6f-38c4-4783-9bf4-743cfcddfb02\",\"type\":\"Line\"},{\"attributes\":{},\"id\":\"7c427874-e874-4d69-94b7-8356748d2c92\",\"type\":\"Selection\"},{\"attributes\":{\"fill_alpha\":{\"value\":0.1},\"fill_color\":{\"value\":\"#1f77b4\"},\"line_alpha\":{\"value\":0.1},\"line_color\":{\"value\":\"#1f77b4\"},\"x\":{\"field\":\"x\"},\"y\":{\"field\":\"y\"}},\"id\":\"f603323c-236b-4202-bc8f-5b6191c7e9fd\",\"type\":\"Triangle\"},{\"attributes\":{},\"id\":\"1feb60b0-e2bb-46b9-8216-c6a01b079bd3\",\"type\":\"UnionRenderers\"},{\"attributes\":{\"source\":{\"id\":\"d2e25e57-dccd-4ac9-9207-36d7ecdbae32\",\"type\":\"ColumnDataSource\"}},\"id\":\"4dc34709-ecb5-469f-97cc-a9afd1f9369d\",\"type\":\"CDSView\"},{\"attributes\":{\"data_source\":{\"id\":\"d2e25e57-dccd-4ac9-9207-36d7ecdbae32\",\"type\":\"ColumnDataSource\"},\"glyph\":{\"id\":\"16de6ce6-db4c-41ce-92b6-1e0065934174\",\"type\":\"Triangle\"},\"hover_glyph\":null,\"muted_glyph\":null,\"nonselection_glyph\":{\"id\":\"f603323c-236b-4202-bc8f-5b6191c7e9fd\",\"type\":\"Triangle\"},\"selection_glyph\":null,\"view\":{\"id\":\"4dc34709-ecb5-469f-97cc-a9afd1f9369d\",\"type\":\"CDSView\"}},\"id\":\"6180aec1-9192-4e1c-9ce0-fb6c17e4a49a\",\"type\":\"GlyphRenderer\"},{\"attributes\":{},\"id\":\"7beeb789-8404-4dd3-9c7b-19db0e4cb7c8\",\"type\":\"BasicTickFormatter\"},{\"attributes\":{},\"id\":\"74684293-d1cf-4f12-808e-61881f66383e\",\"type\":\"Selection\"},{\"attributes\":{\"callback\":null,\"end\":0.00012024051786260003,\"start\":-1.01496891226e-05},\"id\":\"7bcb5d72-c25e-4619-994e-7d26f957914b\",\"type\":\"Range1d\"},{\"attributes\":{},\"id\":\"e33ac033-0755-4cc6-9bb1-2dc6b2c3942e\",\"type\":\"Selection\"},{\"attributes\":{\"label\":{\"value\":\"CRD\"},\"renderers\":[{\"id\":\"17e304c6-3b2c-41ee-bcd2-5f77ce5f0ec8\",\"type\":\"GlyphRenderer\"},{\"id\":\"5668cb91-c27d-443d-bfaf-3d2885b71180\",\"type\":\"GlyphRenderer\"}]},\"id\":\"f97b1a45-1e4e-4fb5-9987-4e0e486c608f\",\"type\":\"LegendItem\"},{\"attributes\":{},\"id\":\"3f838484-78af-44ae-a995-35761412a6b0\",\"type\":\"UnionRenderers\"},{\"attributes\":{\"plot\":null,\"text\":\"\"},\"id\":\"a9fd0188-36a3-45bf-8f00-6a11ee900cf4\",\"type\":\"Title\"},{\"attributes\":{\"children\":[{\"id\":\"0376ffff-40e7-4ff0-b68e-c216778213a3\",\"type\":\"Row\"}]},\"id\":\"12bd95f1-de3b-406a-9838-0128fa9cd9b4\",\"type\":\"Column\"},{\"attributes\":{\"callback\":null,\"data\":{\"x\":{\"__ndarray__\":\"gRXxDSg0zL6xKqmb/tLKvnz0cKOrRce+lZeMU9CDwr7Bzn+uaK64vnvmqzaN76G+CRIY/Ml0pT5ZQLK5Y5PBPjUHadMPSNA+8f3P/Oto2T6xsdrqHjriPh6MhsWO3ug+K3sHLN5j8D7GWo/91oL0PjFhOpVAJfg+ZdOQPZyj+z620pakaHr/Pk88fFoJ2wE/qKU4hRowBD+k3LRhfMEGPwEueEYjSgk/nm/3TWpdBz+XaOmZ6Y4AP9nZyT9brfQ+zQ0H9EPT5z6dIZJFdGTXPvIs7JEnBLw+2ud6bpA7pb5j2cl5wLm+vvQveVTrrcW+LrNebIaPyr4HhAGi6UXOvlOlu7c/7c++SMSlcIiZz74GIo9Sq5jOvsMEK0yjS82+JlhZZfgxzL77fD7HMJDMvu05/iTAadS+xAZLcEan277OdVneMzzivoOuPDeRBea+JFiqwdr36b7e+dWGX6zuvo2Zn9y61vG+qppOQeeG8r4d7l76mdzsvpKLWhPUJtC+Dp0sT6598T7n/Fqf1acRPy551R8uNyY/R9ZF+TTiNj/vHzdgFs9EPxZSnLgyTFE/Is0PoI3NWj8lcQmR4pRjP+qAdb6hOGs/Cj/nKyEbcj9WzLzgySp3P1GlPirhoXw/0jGBye8ngT96QF/O+gGEP8MDHYHFx4Y/jsWwb5lmiT8KtxbUGdKLP1aWcR4R/Y0/zGTt64/bjz8HY0ul1KuQP7vJ+AtHHZE/IsD/1AwpkT9KLz3k5aWQP3EW3RcjVI8/60akmeoqjT+49U20yAqLPw9bz1iICok/\",\"dtype\":\"float64\",\"shape\":[75]},\"y\":{\"__ndarray__\":\"GhExyth1ND/Sv8nbtpRIP2vylNV0PVE/aTum7souWD/At0SJ8fVgPw3Iuahxymc/MSNhhJWvcD/bTfBN02d3P2zb5nxnaoA/CD5h5MAGhz8NmeH1TyaQP+zrCsc9p5Y/LbKd76fGnz/bLW5ISEmmPww9YvTcQq8/JV2OstnstT8Er5Y7M8G+P0c+r3jqkcU/5h99k6ZBzj88bCIzFzjVP4enV8oyxN0//yH99nXg5D8qOpLLf0jtP5kqGJXUifQ/c9cS8kHP/D+/DpwzojQEQIEmwoanVwxA4lgXt9HgE0BSSZ2AJuIbQAMJih9jjiNA5q4l5INuK0AwTKYKRj0zQNv5fmq8/DpAaCJseHrtQkB/+zpwzoxKQM3MzMzMeFJAZmZmZmZqWEAAAAAAAFxeQM3MzMzMJmJAmpmZmZkfZUBmZmZmZhhoQDMzMzMzEWtAAAAAAAAKbkBmZmZmZoFwQM3MzMzM/XFAMzMzMzN6c0CamZmZmfZ0QAAAAAAAc3ZAZmZmZmbvd0DNzMzMzGt5QDMzMzMz6HpAmpmZmZlkfEAAAAAAAOF9QGZmZmZmXX9AZmZmZuZsgECamZmZGSuBQM3MzMxM6YFAAAAAAICngkAzMzMzs2WDQGZmZmbmI4RAmpmZmRnihEDNzMzMTKCFQAAAAACAXoZAMzMzM7Mch0BmZmZm5tqHQJqZmZkZmYhAzczMzExXiUAAAAAAgBWKQDMzMzOz04pAZmZmZuaRi0CamZmZGVCMQM3MzMxMDo1AAAAAAIDMjUAzMzMzs4qOQGZmZmbmSI9A\",\"dtype\":\"float64\",\"shape\":[75]}},\"selected\":{\"id\":\"74684293-d1cf-4f12-808e-61881f66383e\",\"type\":\"Selection\"},\"selection_policy\":{\"id\":\"1feb60b0-e2bb-46b9-8216-c6a01b079bd3\",\"type\":\"UnionRenderers\"}},\"id\":\"d45652fc-3afb-49e8-8936-2d6ac59c1eea\",\"type\":\"ColumnDataSource\"},{\"attributes\":{\"line_alpha\":0.3,\"line_color\":\"#377eb8\",\"line_width\":2,\"x\":{\"field\":\"x\"},\"y\":{\"field\":\"y\"}},\"id\":\"0f0f4b85-6e09-4307-a673-b790b974e4da\",\"type\":\"Line\"},{\"attributes\":{\"above\":[{\"id\":\"b46db033-eadf-4766-a80e-cd32c89dcba7\",\"type\":\"Legend\"}],\"below\":[{\"id\":\"b6b4cec6-7863-401f-b3fd-459a0ba9854e\",\"type\":\"LinearAxis\"}],\"left\":[{\"id\":\"8fd7571c-3e33-4ea7-ae5f-1d73e851e603\",\"type\":\"LogAxis\"}],\"plot_height\":500,\"plot_width\":400,\"renderers\":[{\"id\":\"b6b4cec6-7863-401f-b3fd-459a0ba9854e\",\"type\":\"LinearAxis\"},{\"id\":\"d3fd0d99-3016-4261-9ae3-b6bc4aa89680\",\"type\":\"Grid\"},{\"id\":\"8fd7571c-3e33-4ea7-ae5f-1d73e851e603\",\"type\":\"LogAxis\"},{\"id\":\"38a66bf4-ebba-442c-88d6-1701485a0009\",\"type\":\"Grid\"},{\"id\":\"864c3897-93bc-4f41-9bb3-1ee0e25b571c\",\"type\":\"BoxAnnotation\"},{\"id\":\"17e304c6-3b2c-41ee-bcd2-5f77ce5f0ec8\",\"type\":\"GlyphRenderer\"},{\"id\":\"5668cb91-c27d-443d-bfaf-3d2885b71180\",\"type\":\"GlyphRenderer\"},{\"id\":\"e97bccee-308a-46c4-8f4f-1509a7dd6500\",\"type\":\"GlyphRenderer\"},{\"id\":\"c34b4877-f1b0-428d-b531-fb96715a0695\",\"type\":\"GlyphRenderer\"},{\"id\":\"6180aec1-9192-4e1c-9ce0-fb6c17e4a49a\",\"type\":\"GlyphRenderer\"},{\"id\":\"6e23aba4-864e-43bf-8c96-50beaae2d279\",\"type\":\"GlyphRenderer\"},{\"id\":\"b46db033-eadf-4766-a80e-cd32c89dcba7\",\"type\":\"Legend\"}],\"title\":{\"id\":\"07feb956-d378-409f-af7e-139c4ce9a8cd\",\"type\":\"Title\"},\"toolbar\":{\"id\":\"8e08a5ed-ac33-4fc1-96fa-af1e09b6bc6a\",\"type\":\"Toolbar\"},\"toolbar_location\":null,\"x_range\":{\"id\":\"7bcb5d72-c25e-4619-994e-7d26f957914b\",\"type\":\"Range1d\"},\"x_scale\":{\"id\":\"5f280215-5694-458b-b36c-29e9aecf1a58\",\"type\":\"LinearScale\"},\"y_range\":{\"id\":\"2a11dc53-afc2-4edc-9205-c6d6227743c2\",\"type\":\"Range1d\"},\"y_scale\":{\"id\":\"181861d7-732b-48a7-8054-220dfacbf3fa\",\"type\":\"LogScale\"}},\"id\":\"7b4fffd7-6db0-4d8e-8add-9ca3b832436e\",\"subtype\":\"Figure\",\"type\":\"Plot\"},{\"attributes\":{\"line_alpha\":0.1,\"line_color\":\"#1f77b4\",\"line_width\":2,\"x\":{\"field\":\"x\"},\"y\":{\"field\":\"y\"}},\"id\":\"d0209a1a-1e14-4e4d-aeba-2a3e7be72472\",\"type\":\"Line\"},{\"attributes\":{\"data_source\":{\"id\":\"d45652fc-3afb-49e8-8936-2d6ac59c1eea\",\"type\":\"ColumnDataSource\"},\"glyph\":{\"id\":\"0f0f4b85-6e09-4307-a673-b790b974e4da\",\"type\":\"Line\"},\"hover_glyph\":null,\"muted_glyph\":null,\"nonselection_glyph\":{\"id\":\"d0209a1a-1e14-4e4d-aeba-2a3e7be72472\",\"type\":\"Line\"},\"selection_glyph\":null,\"view\":{\"id\":\"21e20c1c-4a1f-4b9d-99d2-d10f2c80f4e2\",\"type\":\"CDSView\"}},\"id\":\"b6c3bf21-c498-4ed1-a5cf-45653cfb3594\",\"type\":\"GlyphRenderer\"},{\"attributes\":{\"source\":{\"id\":\"d45652fc-3afb-49e8-8936-2d6ac59c1eea\",\"type\":\"ColumnDataSource\"}},\"id\":\"21e20c1c-4a1f-4b9d-99d2-d10f2c80f4e2\",\"type\":\"CDSView\"},{\"attributes\":{\"active_drag\":\"auto\",\"active_inspect\":\"auto\",\"active_scroll\":\"auto\",\"active_tap\":\"auto\",\"tools\":[{\"id\":\"c7ff9142-3387-4b98-9339-224293afcbcb\",\"type\":\"PanTool\"},{\"id\":\"9100294d-ce36-4e78-bbd3-6af083ab8c02\",\"type\":\"WheelZoomTool\"},{\"id\":\"a57d087e-b15a-4f49-9ebf-fbab5234a7e8\",\"type\":\"BoxZoomTool\"},{\"id\":\"7d0222fa-31a4-456d-95f8-3bce9172e7f0\",\"type\":\"SaveTool\"},{\"id\":\"c663b835-95ec-4c9f-a902-fbaaa22037fe\",\"type\":\"ResetTool\"},{\"id\":\"2249f2f7-cba3-4df4-8ee7-8ec5c0987704\",\"type\":\"HelpTool\"}]},\"id\":\"8e08a5ed-ac33-4fc1-96fa-af1e09b6bc6a\",\"type\":\"Toolbar\"},{\"attributes\":{\"callback\":null,\"data\":{\"x\":{\"__ndarray__\":\"4AfxJg4F1L5hSY8QvPfRvsXvswHE3Mm+HgOZ3DeQub6Kh7se552dPtgBt96BOsg+7mu1YpHB2D6wXoyzthjkPnAfNcgidO0+qiQ5OStd9D75h6q2Vh77Pth6p9FglgE/IVLe4/hYBj+nJg5Z9UULP9VR2jKdlw8/c2Wsp4rcET+6Lt+avR4UP2J+fD/nmBY/ypZ0Xt9PGT9rzwOG8UccP5aLsrtqLx8/B+kna/7kHD+4p54deecUP9OrbWeNGgs/14SkMoCjAD901IhY26PyPv+/PiI0RuE+1/t7D9B1xT6P61zYEVaavs569SLec8K+6Utb4DW6zb5T/c4aGbjSvgMNo40Z1NO+Bzro5xl60r4UoJ71B2zQvnlRfXZjVsy+/ryS/wjUyL5OEMBv3j/Ivpd/4VEeYtG+4uerqIi2176G5oruFoXfvqMuloynOeO+rDJPgnXj5r4wre6hU07rvtI5C40ZvO++fWXhL+gG7r5eoGEnGlTavh3Ahzh8w+Y+tAbILSlhCT/qOqFjNIAhP2VYsgD8JTM/n4nkqPI5Qj81QOMMBWJPPyR1FQGW/1g/lvFxZC+wYj+Mpwkt0ndqPxJEUisk5HE/mef9/kc1dz9d49YXKgZ9P/b8KYiTkYE/JW1Fw6uqhD9KMz86WrWHP171eXbEm4o/HKhRHbJOjT8m1pMNLMaPPxD9E8pt/JA/eYMhj73ukT/K2A97Ya6SPzceMZgNG5M/Aj5DacQUkz/LKoqlMWuSP1v1KZ0JOpE/1jX7wOzejz9AjPvLQVuNP2iQJH+uAYs/\",\"dtype\":\"float64\",\"shape\":[75]},\"y\":{\"__ndarray__\":\"GhExyth1ND/Sv8nbtpRIP2vylNV0PVE/aTum7souWD/At0SJ8fVgPw3Iuahxymc/MSNhhJWvcD/bTfBN02d3P2zb5nxnaoA/CD5h5MAGhz8NmeH1TyaQP+zrCsc9p5Y/LbKd76fGnz/bLW5ISEmmPww9YvTcQq8/JV2OstnstT8Er5Y7M8G+P0c+r3jqkcU/5h99k6ZBzj88bCIzFzjVP4enV8oyxN0//yH99nXg5D8qOpLLf0jtP5kqGJXUifQ/c9cS8kHP/D+/DpwzojQEQIEmwoanVwxA4lgXt9HgE0BSSZ2AJuIbQAMJih9jjiNA5q4l5INuK0AwTKYKRj0zQNv5fmq8/DpAaCJseHrtQkB/+zpwzoxKQM3MzMzMeFJAZmZmZmZqWEAAAAAAAFxeQM3MzMzMJmJAmpmZmZkfZUBmZmZmZhhoQDMzMzMzEWtAAAAAAAAKbkBmZmZmZoFwQM3MzMzM/XFAMzMzMzN6c0CamZmZmfZ0QAAAAAAAc3ZAZmZmZmbvd0DNzMzMzGt5QDMzMzMz6HpAmpmZmZlkfEAAAAAAAOF9QGZmZmZmXX9AZmZmZuZsgECamZmZGSuBQM3MzMxM6YFAAAAAAICngkAzMzMzs2WDQGZmZmbmI4RAmpmZmRnihEDNzMzMTKCFQAAAAACAXoZAMzMzM7Mch0BmZmZm5tqHQJqZmZkZmYhAzczMzExXiUAAAAAAgBWKQDMzMzOz04pAZmZmZuaRi0CamZmZGVCMQM3MzMxMDo1AAAAAAIDMjUAzMzMzs4qOQGZmZmbmSI9A\",\"dtype\":\"float64\",\"shape\":[75]}},\"selected\":{\"id\":\"247ddb3f-4c74-4cbb-a2c9-21159de28a65\",\"type\":\"Selection\"},\"selection_policy\":{\"id\":\"6bc00441-3132-487f-a16b-09e68348b32e\",\"type\":\"UnionRenderers\"}},\"id\":\"84d2970e-6aa1-4a1d-b04a-5e66090ccc03\",\"type\":\"ColumnDataSource\"},{\"attributes\":{\"label\":{\"value\":\"CRD\"},\"renderers\":[{\"id\":\"bc260124-26ef-4e73-b706-d88866935f72\",\"type\":\"GlyphRenderer\"},{\"id\":\"1e682109-ce04-4205-8220-a8394c8ab43e\",\"type\":\"GlyphRenderer\"}]},\"id\":\"473c0c8a-8867-4fd3-a713-e8abd6512492\",\"type\":\"LegendItem\"},{\"attributes\":{\"label\":{\"value\":\"WGT igg=1\"},\"renderers\":[{\"id\":\"aca62cf7-6e54-4faa-a2b5-25ea4946b630\",\"type\":\"GlyphRenderer\"},{\"id\":\"3c352e8d-2468-42df-acf3-a4d0970ca640\",\"type\":\"GlyphRenderer\"}]},\"id\":\"8a112545-af00-4eb6-8977-b41599a03df4\",\"type\":\"LegendItem\"},{\"attributes\":{},\"id\":\"5f280215-5694-458b-b36c-29e9aecf1a58\",\"type\":\"LinearScale\"},{\"attributes\":{\"label\":{\"value\":\"WGT igg=10\"},\"renderers\":[{\"id\":\"09772fc0-fd78-4a48-b1f3-b42800bd87e6\",\"type\":\"GlyphRenderer\"},{\"id\":\"b6c3bf21-c498-4ed1-a5cf-45653cfb3594\",\"type\":\"GlyphRenderer\"}]},\"id\":\"dca6da0d-823f-4951-b575-9b478b1ceed7\",\"type\":\"LegendItem\"},{\"attributes\":{\"plot\":{\"id\":\"7b4fffd7-6db0-4d8e-8add-9ca3b832436e\",\"subtype\":\"Figure\",\"type\":\"Plot\"},\"ticker\":{\"id\":\"f76afcca-e56e-4777-a42c-876acdc61e7b\",\"type\":\"BasicTicker\"}},\"id\":\"d3fd0d99-3016-4261-9ae3-b6bc4aa89680\",\"type\":\"Grid\"},{\"attributes\":{},\"id\":\"181861d7-732b-48a7-8054-220dfacbf3fa\",\"type\":\"LogScale\"},{\"attributes\":{\"axis_label\":\"cooling rate [K/day]\",\"formatter\":{\"id\":\"78d539d5-c497-4db0-90a6-e57b6945da1e\",\"type\":\"BasicTickFormatter\"},\"plot\":{\"id\":\"7b4fffd7-6db0-4d8e-8add-9ca3b832436e\",\"subtype\":\"Figure\",\"type\":\"Plot\"},\"ticker\":{\"id\":\"f76afcca-e56e-4777-a42c-876acdc61e7b\",\"type\":\"BasicTicker\"}},\"id\":\"b6b4cec6-7863-401f-b3fd-459a0ba9854e\",\"type\":\"LinearAxis\"},{\"attributes\":{},\"id\":\"f76afcca-e56e-4777-a42c-876acdc61e7b\",\"type\":\"BasicTicker\"},{\"attributes\":{\"axis_label\":\"pressure [mb]\",\"formatter\":{\"id\":\"14aaf2cc-44a0-4d48-a943-2ba45edfbfec\",\"type\":\"LogTickFormatter\"},\"plot\":{\"id\":\"7b4fffd7-6db0-4d8e-8add-9ca3b832436e\",\"subtype\":\"Figure\",\"type\":\"Plot\"},\"ticker\":{\"id\":\"ae0f30ec-a38d-4029-8403-59febbe25394\",\"type\":\"LogTicker\"}},\"id\":\"8fd7571c-3e33-4ea7-ae5f-1d73e851e603\",\"type\":\"LogAxis\"},{\"attributes\":{\"num_minor_ticks\":10},\"id\":\"ae0f30ec-a38d-4029-8403-59febbe25394\",\"type\":\"LogTicker\"},{\"attributes\":{},\"id\":\"71dd5ce0-89dc-47a0-8884-7f36f5e7736f\",\"type\":\"PanTool\"},{\"attributes\":{\"dimension\":1,\"plot\":{\"id\":\"7b4fffd7-6db0-4d8e-8add-9ca3b832436e\",\"subtype\":\"Figure\",\"type\":\"Plot\"},\"ticker\":{\"id\":\"ae0f30ec-a38d-4029-8403-59febbe25394\",\"type\":\"LogTicker\"}},\"id\":\"38a66bf4-ebba-442c-88d6-1701485a0009\",\"type\":\"Grid\"},{\"attributes\":{},\"id\":\"c7ff9142-3387-4b98-9339-224293afcbcb\",\"type\":\"PanTool\"},{\"attributes\":{},\"id\":\"9100294d-ce36-4e78-bbd3-6af083ab8c02\",\"type\":\"WheelZoomTool\"},{\"attributes\":{\"overlay\":{\"id\":\"864c3897-93bc-4f41-9bb3-1ee0e25b571c\",\"type\":\"BoxAnnotation\"}},\"id\":\"a57d087e-b15a-4f49-9ebf-fbab5234a7e8\",\"type\":\"BoxZoomTool\"},{\"attributes\":{\"bottom_units\":\"screen\",\"fill_alpha\":{\"value\":0.5},\"fill_color\":{\"value\":\"lightgrey\"},\"left_units\":\"screen\",\"level\":\"overlay\",\"line_alpha\":{\"value\":1.0},\"line_color\":{\"value\":\"black\"},\"line_dash\":[4,4],\"line_width\":{\"value\":2},\"plot\":null,\"render_mode\":\"css\",\"right_units\":\"screen\",\"top_units\":\"screen\"},\"id\":\"2e182649-e77b-497c-be2f-08dbe4b79c41\",\"type\":\"BoxAnnotation\"},{\"attributes\":{},\"id\":\"0d3091ee-0f01-4afa-acd4-ba1fdfb49495\",\"type\":\"WheelZoomTool\"},{\"attributes\":{},\"id\":\"c663b835-95ec-4c9f-a902-fbaaa22037fe\",\"type\":\"ResetTool\"},{\"attributes\":{\"overlay\":{\"id\":\"2e182649-e77b-497c-be2f-08dbe4b79c41\",\"type\":\"BoxAnnotation\"}},\"id\":\"7490d632-84bf-4c30-869b-8e75bf830742\",\"type\":\"BoxZoomTool\"},{\"attributes\":{},\"id\":\"1a22e96d-7c25-4cbf-a073-9eddd290964d\",\"type\":\"HelpTool\"},{\"attributes\":{},\"id\":\"51c08788-6aeb-4888-a708-62f6f5e42619\",\"type\":\"ResetTool\"},{\"attributes\":{},\"id\":\"7d26bdd9-44b5-4182-b7be-695fff405df9\",\"type\":\"SaveTool\"}],\"root_ids\":[\"1a121d27-dc90-4dc9-9708-b3ee6c810c9c\"]},\"title\":\"Bokeh Application\",\"version\":\"0.12.16\"}};\n",
       "  var render_items = [{\"docid\":\"dc5e2946-f700-4808-8a09-10432f76020f\",\"elementid\":\"0cb4cf52-5a72-48a5-8d7d-79fc148779ec\",\"modelid\":\"1a121d27-dc90-4dc9-9708-b3ee6c810c9c\"}];\n",
       "  root.Bokeh.embed.embed_items_notebook(docs_json, render_items);\n",
       "\n",
       "  }\n",
       "  if (root.Bokeh !== undefined) {\n",
       "    embed_document(root);\n",
       "  } else {\n",
       "    var attempts = 0;\n",
       "    var timer = setInterval(function(root) {\n",
       "      if (root.Bokeh !== undefined) {\n",
       "        embed_document(root);\n",
       "        clearInterval(timer);\n",
       "      }\n",
       "      attempts++;\n",
       "      if (attempts > 100) {\n",
       "        console.log(\"Bokeh: ERROR: Unable to run BokehJS code because BokehJS library is missing\")\n",
       "        clearInterval(timer);\n",
       "      }\n",
       "    }, 10, root)\n",
       "  }\n",
       "})(window);"
      ],
      "application/vnd.bokehjs_exec.v0+json": ""
     },
     "metadata": {
      "application/vnd.bokehjs_exec.v0+json": {
       "id": "1a121d27-dc90-4dc9-9708-b3ee6c810c9c"
      }
     },
     "output_type": "display_data"
    },
    {
     "data": {
      "text/markdown": [
       "*FIGURE.* Cooling rates. Summed over g."
      ],
      "text/plain": [
       "<IPython.core.display.Markdown object>"
      ]
     },
     "metadata": {},
     "output_type": "display_data"
    },
    {
     "data": {
      "text/html": [
       "<a id=\"Flux_Comparison\"></a>"
      ],
      "text/plain": [
       "<IPython.core.display.HTML object>"
      ]
     },
     "metadata": {},
     "output_type": "display_data"
    },
    {
     "data": {
      "text/markdown": [
       "# Flux Comparison"
      ],
      "text/plain": [
       "<IPython.core.display.Markdown object>"
      ]
     },
     "metadata": {},
     "output_type": "display_data"
    },
    {
     "data": {
      "text/html": [
       "<div>\n",
       "<style scoped>\n",
       "    .dataframe tbody tr th:only-of-type {\n",
       "        vertical-align: middle;\n",
       "    }\n",
       "\n",
       "    .dataframe tbody tr th {\n",
       "        vertical-align: top;\n",
       "    }\n",
       "\n",
       "    .dataframe thead th {\n",
       "        text-align: right;\n",
       "    }\n",
       "</style>\n",
       "<table border=\"1\" class=\"dataframe\">\n",
       "  <thead>\n",
       "    <tr style=\"text-align: right;\">\n",
       "      <th></th>\n",
       "      <th></th>\n",
       "      <th></th>\n",
       "      <th>flug</th>\n",
       "      <th>fldg</th>\n",
       "      <th>fnetg</th>\n",
       "    </tr>\n",
       "    <tr>\n",
       "      <th>g</th>\n",
       "      <th>pressure</th>\n",
       "      <th>level</th>\n",
       "      <th></th>\n",
       "      <th></th>\n",
       "      <th></th>\n",
       "    </tr>\n",
       "  </thead>\n",
       "  <tbody>\n",
       "    <tr>\n",
       "      <th rowspan=\"3\" valign=\"top\">1</th>\n",
       "      <th>0.00</th>\n",
       "      <th>1</th>\n",
       "      <td>-0.663021</td>\n",
       "      <td>0.000000</td>\n",
       "      <td>-0.663021</td>\n",
       "    </tr>\n",
       "    <tr>\n",
       "      <th>299.75</th>\n",
       "      <th>46</th>\n",
       "      <td>-0.663914</td>\n",
       "      <td>0.000756</td>\n",
       "      <td>-0.663157</td>\n",
       "    </tr>\n",
       "    <tr>\n",
       "      <th>1013.00</th>\n",
       "      <th>76</th>\n",
       "      <td>-0.687802</td>\n",
       "      <td>0.345652</td>\n",
       "      <td>-0.342150</td>\n",
       "    </tr>\n",
       "    <tr>\n",
       "      <th rowspan=\"3\" valign=\"top\">2</th>\n",
       "      <th>0.00</th>\n",
       "      <th>1</th>\n",
       "      <td>-2.842542</td>\n",
       "      <td>0.000000</td>\n",
       "      <td>-2.842542</td>\n",
       "    </tr>\n",
       "    <tr>\n",
       "      <th>299.75</th>\n",
       "      <th>46</th>\n",
       "      <td>-2.842751</td>\n",
       "      <td>0.000146</td>\n",
       "      <td>-2.842605</td>\n",
       "    </tr>\n",
       "    <tr>\n",
       "      <th>1013.00</th>\n",
       "      <th>76</th>\n",
       "      <td>-2.852609</td>\n",
       "      <td>0.302518</td>\n",
       "      <td>-2.550090</td>\n",
       "    </tr>\n",
       "    <tr>\n",
       "      <th rowspan=\"3\" valign=\"top\">3</th>\n",
       "      <th>0.00</th>\n",
       "      <th>1</th>\n",
       "      <td>-29.320167</td>\n",
       "      <td>0.000000</td>\n",
       "      <td>-29.320167</td>\n",
       "    </tr>\n",
       "    <tr>\n",
       "      <th>299.75</th>\n",
       "      <th>46</th>\n",
       "      <td>-29.320221</td>\n",
       "      <td>0.000037</td>\n",
       "      <td>-29.320184</td>\n",
       "    </tr>\n",
       "    <tr>\n",
       "      <th>1013.00</th>\n",
       "      <th>76</th>\n",
       "      <td>-29.323356</td>\n",
       "      <td>0.140840</td>\n",
       "      <td>-29.182516</td>\n",
       "    </tr>\n",
       "  </tbody>\n",
       "</table>\n",
       "</div>"
      ],
      "text/plain": [
       "                       flug      fldg      fnetg\n",
       "g pressure level                                \n",
       "1 0.00     1      -0.663021  0.000000  -0.663021\n",
       "  299.75   46     -0.663914  0.000756  -0.663157\n",
       "  1013.00  76     -0.687802  0.345652  -0.342150\n",
       "2 0.00     1      -2.842542  0.000000  -2.842542\n",
       "  299.75   46     -2.842751  0.000146  -2.842605\n",
       "  1013.00  76     -2.852609  0.302518  -2.550090\n",
       "3 0.00     1     -29.320167  0.000000 -29.320167\n",
       "  299.75   46    -29.320221  0.000037 -29.320184\n",
       "  1013.00  76    -29.323356  0.140840 -29.182516"
      ]
     },
     "metadata": {},
     "output_type": "display_data"
    },
    {
     "data": {
      "text/markdown": [
       "*TABLE.* Fluxes. CRD"
      ],
      "text/plain": [
       "<IPython.core.display.Markdown object>"
      ]
     },
     "metadata": {},
     "output_type": "display_data"
    },
    {
     "data": {
      "text/html": [
       "<div>\n",
       "<style scoped>\n",
       "    .dataframe tbody tr th:only-of-type {\n",
       "        vertical-align: middle;\n",
       "    }\n",
       "\n",
       "    .dataframe tbody tr th {\n",
       "        vertical-align: top;\n",
       "    }\n",
       "\n",
       "    .dataframe thead th {\n",
       "        text-align: right;\n",
       "    }\n",
       "</style>\n",
       "<table border=\"1\" class=\"dataframe\">\n",
       "  <thead>\n",
       "    <tr style=\"text-align: right;\">\n",
       "      <th></th>\n",
       "      <th></th>\n",
       "      <th></th>\n",
       "      <th>flug</th>\n",
       "      <th>fldg</th>\n",
       "      <th>fnetg</th>\n",
       "    </tr>\n",
       "    <tr>\n",
       "      <th>g</th>\n",
       "      <th>pressure</th>\n",
       "      <th>level</th>\n",
       "      <th></th>\n",
       "      <th></th>\n",
       "      <th></th>\n",
       "    </tr>\n",
       "  </thead>\n",
       "  <tbody>\n",
       "    <tr>\n",
       "      <th rowspan=\"3\" valign=\"top\">1</th>\n",
       "      <th>0.00</th>\n",
       "      <th>1</th>\n",
       "      <td>-0.668111</td>\n",
       "      <td>0.000000</td>\n",
       "      <td>-0.668111</td>\n",
       "    </tr>\n",
       "    <tr>\n",
       "      <th>299.75</th>\n",
       "      <th>46</th>\n",
       "      <td>-0.668856</td>\n",
       "      <td>0.000557</td>\n",
       "      <td>-0.668300</td>\n",
       "    </tr>\n",
       "    <tr>\n",
       "      <th>1013.00</th>\n",
       "      <th>76</th>\n",
       "      <td>-0.691072</td>\n",
       "      <td>0.342405</td>\n",
       "      <td>-0.348668</td>\n",
       "    </tr>\n",
       "    <tr>\n",
       "      <th rowspan=\"3\" valign=\"top\">2</th>\n",
       "      <th>0.00</th>\n",
       "      <th>1</th>\n",
       "      <td>-2.850021</td>\n",
       "      <td>0.000000</td>\n",
       "      <td>-2.850021</td>\n",
       "    </tr>\n",
       "    <tr>\n",
       "      <th>299.75</th>\n",
       "      <th>46</th>\n",
       "      <td>-2.850196</td>\n",
       "      <td>0.000119</td>\n",
       "      <td>-2.850078</td>\n",
       "    </tr>\n",
       "    <tr>\n",
       "      <th>1013.00</th>\n",
       "      <th>76</th>\n",
       "      <td>-2.858480</td>\n",
       "      <td>0.259716</td>\n",
       "      <td>-2.598763</td>\n",
       "    </tr>\n",
       "    <tr>\n",
       "      <th rowspan=\"3\" valign=\"top\">3</th>\n",
       "      <th>0.00</th>\n",
       "      <th>1</th>\n",
       "      <td>-29.311450</td>\n",
       "      <td>0.000000</td>\n",
       "      <td>-29.311450</td>\n",
       "    </tr>\n",
       "    <tr>\n",
       "      <th>299.75</th>\n",
       "      <th>46</th>\n",
       "      <td>-29.311498</td>\n",
       "      <td>0.000032</td>\n",
       "      <td>-29.311466</td>\n",
       "    </tr>\n",
       "    <tr>\n",
       "      <th>1013.00</th>\n",
       "      <th>76</th>\n",
       "      <td>-29.314215</td>\n",
       "      <td>0.122858</td>\n",
       "      <td>-29.191357</td>\n",
       "    </tr>\n",
       "  </tbody>\n",
       "</table>\n",
       "</div>"
      ],
      "text/plain": [
       "                       flug      fldg      fnetg\n",
       "g pressure level                                \n",
       "1 0.00     1      -0.668111  0.000000  -0.668111\n",
       "  299.75   46     -0.668856  0.000557  -0.668300\n",
       "  1013.00  76     -0.691072  0.342405  -0.348668\n",
       "2 0.00     1      -2.850021  0.000000  -2.850021\n",
       "  299.75   46     -2.850196  0.000119  -2.850078\n",
       "  1013.00  76     -2.858480  0.259716  -2.598763\n",
       "3 0.00     1     -29.311450  0.000000 -29.311450\n",
       "  299.75   46    -29.311498  0.000032 -29.311466\n",
       "  1013.00  76    -29.314215  0.122858 -29.191357"
      ]
     },
     "metadata": {},
     "output_type": "display_data"
    },
    {
     "data": {
      "text/markdown": [
       "*TABLE.* Fluxes. WGT igg=1"
      ],
      "text/plain": [
       "<IPython.core.display.Markdown object>"
      ]
     },
     "metadata": {},
     "output_type": "display_data"
    },
    {
     "data": {
      "text/html": [
       "<div>\n",
       "<style scoped>\n",
       "    .dataframe tbody tr th:only-of-type {\n",
       "        vertical-align: middle;\n",
       "    }\n",
       "\n",
       "    .dataframe tbody tr th {\n",
       "        vertical-align: top;\n",
       "    }\n",
       "\n",
       "    .dataframe thead th {\n",
       "        text-align: right;\n",
       "    }\n",
       "</style>\n",
       "<table border=\"1\" class=\"dataframe\">\n",
       "  <thead>\n",
       "    <tr style=\"text-align: right;\">\n",
       "      <th></th>\n",
       "      <th></th>\n",
       "      <th></th>\n",
       "      <th>flug</th>\n",
       "      <th>fldg</th>\n",
       "      <th>fnetg</th>\n",
       "    </tr>\n",
       "    <tr>\n",
       "      <th>g</th>\n",
       "      <th>pressure</th>\n",
       "      <th>level</th>\n",
       "      <th></th>\n",
       "      <th></th>\n",
       "      <th></th>\n",
       "    </tr>\n",
       "  </thead>\n",
       "  <tbody>\n",
       "    <tr>\n",
       "      <th rowspan=\"3\" valign=\"top\">1</th>\n",
       "      <th>0.00</th>\n",
       "      <th>1</th>\n",
       "      <td>-0.670869</td>\n",
       "      <td>0.000000</td>\n",
       "      <td>-0.670869</td>\n",
       "    </tr>\n",
       "    <tr>\n",
       "      <th>299.75</th>\n",
       "      <th>46</th>\n",
       "      <td>-0.671526</td>\n",
       "      <td>0.000465</td>\n",
       "      <td>-0.671061</td>\n",
       "    </tr>\n",
       "    <tr>\n",
       "      <th>1013.00</th>\n",
       "      <th>76</th>\n",
       "      <td>-0.691072</td>\n",
       "      <td>0.342317</td>\n",
       "      <td>-0.348755</td>\n",
       "    </tr>\n",
       "    <tr>\n",
       "      <th rowspan=\"3\" valign=\"top\">2</th>\n",
       "      <th>0.00</th>\n",
       "      <th>1</th>\n",
       "      <td>-2.851535</td>\n",
       "      <td>0.000000</td>\n",
       "      <td>-2.851535</td>\n",
       "    </tr>\n",
       "    <tr>\n",
       "      <th>299.75</th>\n",
       "      <th>46</th>\n",
       "      <td>-2.851682</td>\n",
       "      <td>0.000099</td>\n",
       "      <td>-2.851583</td>\n",
       "    </tr>\n",
       "    <tr>\n",
       "      <th>1013.00</th>\n",
       "      <th>76</th>\n",
       "      <td>-2.858480</td>\n",
       "      <td>0.229351</td>\n",
       "      <td>-2.629129</td>\n",
       "    </tr>\n",
       "    <tr>\n",
       "      <th rowspan=\"3\" valign=\"top\">3</th>\n",
       "      <th>0.00</th>\n",
       "      <th>1</th>\n",
       "      <td>-29.311637</td>\n",
       "      <td>0.000000</td>\n",
       "      <td>-29.311637</td>\n",
       "    </tr>\n",
       "    <tr>\n",
       "      <th>299.75</th>\n",
       "      <th>46</th>\n",
       "      <td>-29.311681</td>\n",
       "      <td>0.000030</td>\n",
       "      <td>-29.311651</td>\n",
       "    </tr>\n",
       "    <tr>\n",
       "      <th>1013.00</th>\n",
       "      <th>76</th>\n",
       "      <td>-29.314215</td>\n",
       "      <td>0.114314</td>\n",
       "      <td>-29.199901</td>\n",
       "    </tr>\n",
       "  </tbody>\n",
       "</table>\n",
       "</div>"
      ],
      "text/plain": [
       "                       flug      fldg      fnetg\n",
       "g pressure level                                \n",
       "1 0.00     1      -0.670869  0.000000  -0.670869\n",
       "  299.75   46     -0.671526  0.000465  -0.671061\n",
       "  1013.00  76     -0.691072  0.342317  -0.348755\n",
       "2 0.00     1      -2.851535  0.000000  -2.851535\n",
       "  299.75   46     -2.851682  0.000099  -2.851583\n",
       "  1013.00  76     -2.858480  0.229351  -2.629129\n",
       "3 0.00     1     -29.311637  0.000000 -29.311637\n",
       "  299.75   46    -29.311681  0.000030 -29.311651\n",
       "  1013.00  76    -29.314215  0.114314 -29.199901"
      ]
     },
     "metadata": {},
     "output_type": "display_data"
    },
    {
     "data": {
      "text/markdown": [
       "*TABLE.* Fluxes. WGT igg=10"
      ],
      "text/plain": [
       "<IPython.core.display.Markdown object>"
      ]
     },
     "metadata": {},
     "output_type": "display_data"
    },
    {
     "data": {
      "text/html": [
       "<div>\n",
       "<style scoped>\n",
       "    .dataframe tbody tr th:only-of-type {\n",
       "        vertical-align: middle;\n",
       "    }\n",
       "\n",
       "    .dataframe tbody tr th {\n",
       "        vertical-align: top;\n",
       "    }\n",
       "\n",
       "    .dataframe thead th {\n",
       "        text-align: right;\n",
       "    }\n",
       "</style>\n",
       "<table border=\"1\" class=\"dataframe\">\n",
       "  <thead>\n",
       "    <tr style=\"text-align: right;\">\n",
       "      <th></th>\n",
       "      <th></th>\n",
       "      <th></th>\n",
       "      <th>flug</th>\n",
       "      <th>fldg</th>\n",
       "      <th>fnetg</th>\n",
       "    </tr>\n",
       "    <tr>\n",
       "      <th>g</th>\n",
       "      <th>pressure</th>\n",
       "      <th>level</th>\n",
       "      <th></th>\n",
       "      <th></th>\n",
       "      <th></th>\n",
       "    </tr>\n",
       "  </thead>\n",
       "  <tbody>\n",
       "    <tr>\n",
       "      <th rowspan=\"3\" valign=\"top\">1</th>\n",
       "      <th>0.00</th>\n",
       "      <th>1</th>\n",
       "      <td>-0.005091</td>\n",
       "      <td>0.000000</td>\n",
       "      <td>-0.005091</td>\n",
       "    </tr>\n",
       "    <tr>\n",
       "      <th>299.75</th>\n",
       "      <th>46</th>\n",
       "      <td>-0.004943</td>\n",
       "      <td>-0.000200</td>\n",
       "      <td>-0.005143</td>\n",
       "    </tr>\n",
       "    <tr>\n",
       "      <th>1013.00</th>\n",
       "      <th>76</th>\n",
       "      <td>-0.003270</td>\n",
       "      <td>-0.003247</td>\n",
       "      <td>-0.006517</td>\n",
       "    </tr>\n",
       "    <tr>\n",
       "      <th rowspan=\"3\" valign=\"top\">2</th>\n",
       "      <th>0.00</th>\n",
       "      <th>1</th>\n",
       "      <td>-0.007480</td>\n",
       "      <td>0.000000</td>\n",
       "      <td>-0.007480</td>\n",
       "    </tr>\n",
       "    <tr>\n",
       "      <th>299.75</th>\n",
       "      <th>46</th>\n",
       "      <td>-0.007445</td>\n",
       "      <td>-0.000027</td>\n",
       "      <td>-0.007472</td>\n",
       "    </tr>\n",
       "    <tr>\n",
       "      <th>1013.00</th>\n",
       "      <th>76</th>\n",
       "      <td>-0.005871</td>\n",
       "      <td>-0.042802</td>\n",
       "      <td>-0.048673</td>\n",
       "    </tr>\n",
       "    <tr>\n",
       "      <th rowspan=\"3\" valign=\"top\">3</th>\n",
       "      <th>0.00</th>\n",
       "      <th>1</th>\n",
       "      <td>0.008717</td>\n",
       "      <td>0.000000</td>\n",
       "      <td>0.008717</td>\n",
       "    </tr>\n",
       "    <tr>\n",
       "      <th>299.75</th>\n",
       "      <th>46</th>\n",
       "      <td>0.008723</td>\n",
       "      <td>-0.000004</td>\n",
       "      <td>0.008718</td>\n",
       "    </tr>\n",
       "    <tr>\n",
       "      <th>1013.00</th>\n",
       "      <th>76</th>\n",
       "      <td>0.009141</td>\n",
       "      <td>-0.017982</td>\n",
       "      <td>-0.008841</td>\n",
       "    </tr>\n",
       "  </tbody>\n",
       "</table>\n",
       "</div>"
      ],
      "text/plain": [
       "                      flug      fldg     fnetg\n",
       "g pressure level                              \n",
       "1 0.00     1     -0.005091  0.000000 -0.005091\n",
       "  299.75   46    -0.004943 -0.000200 -0.005143\n",
       "  1013.00  76    -0.003270 -0.003247 -0.006517\n",
       "2 0.00     1     -0.007480  0.000000 -0.007480\n",
       "  299.75   46    -0.007445 -0.000027 -0.007472\n",
       "  1013.00  76    -0.005871 -0.042802 -0.048673\n",
       "3 0.00     1      0.008717  0.000000  0.008717\n",
       "  299.75   46     0.008723 -0.000004  0.008718\n",
       "  1013.00  76     0.009141 -0.017982 -0.008841"
      ]
     },
     "metadata": {},
     "output_type": "display_data"
    },
    {
     "data": {
      "text/markdown": [
       "*TABLE.* Fluxes. (WGT igg=1) - (CRD)"
      ],
      "text/plain": [
       "<IPython.core.display.Markdown object>"
      ]
     },
     "metadata": {},
     "output_type": "display_data"
    },
    {
     "data": {
      "text/html": [
       "<div>\n",
       "<style scoped>\n",
       "    .dataframe tbody tr th:only-of-type {\n",
       "        vertical-align: middle;\n",
       "    }\n",
       "\n",
       "    .dataframe tbody tr th {\n",
       "        vertical-align: top;\n",
       "    }\n",
       "\n",
       "    .dataframe thead th {\n",
       "        text-align: right;\n",
       "    }\n",
       "</style>\n",
       "<table border=\"1\" class=\"dataframe\">\n",
       "  <thead>\n",
       "    <tr style=\"text-align: right;\">\n",
       "      <th></th>\n",
       "      <th></th>\n",
       "      <th></th>\n",
       "      <th>flug</th>\n",
       "      <th>fldg</th>\n",
       "      <th>fnetg</th>\n",
       "    </tr>\n",
       "    <tr>\n",
       "      <th>g</th>\n",
       "      <th>pressure</th>\n",
       "      <th>level</th>\n",
       "      <th></th>\n",
       "      <th></th>\n",
       "      <th></th>\n",
       "    </tr>\n",
       "  </thead>\n",
       "  <tbody>\n",
       "    <tr>\n",
       "      <th rowspan=\"3\" valign=\"top\">1</th>\n",
       "      <th>0.00</th>\n",
       "      <th>1</th>\n",
       "      <td>-0.007848</td>\n",
       "      <td>0.000000</td>\n",
       "      <td>-0.007848</td>\n",
       "    </tr>\n",
       "    <tr>\n",
       "      <th>299.75</th>\n",
       "      <th>46</th>\n",
       "      <td>-0.007613</td>\n",
       "      <td>-0.000291</td>\n",
       "      <td>-0.007904</td>\n",
       "    </tr>\n",
       "    <tr>\n",
       "      <th>1013.00</th>\n",
       "      <th>76</th>\n",
       "      <td>-0.003270</td>\n",
       "      <td>-0.003335</td>\n",
       "      <td>-0.006605</td>\n",
       "    </tr>\n",
       "    <tr>\n",
       "      <th rowspan=\"3\" valign=\"top\">2</th>\n",
       "      <th>0.00</th>\n",
       "      <th>1</th>\n",
       "      <td>-0.008993</td>\n",
       "      <td>0.000000</td>\n",
       "      <td>-0.008993</td>\n",
       "    </tr>\n",
       "    <tr>\n",
       "      <th>299.75</th>\n",
       "      <th>46</th>\n",
       "      <td>-0.008931</td>\n",
       "      <td>-0.000046</td>\n",
       "      <td>-0.008977</td>\n",
       "    </tr>\n",
       "    <tr>\n",
       "      <th>1013.00</th>\n",
       "      <th>76</th>\n",
       "      <td>-0.005871</td>\n",
       "      <td>-0.073168</td>\n",
       "      <td>-0.079039</td>\n",
       "    </tr>\n",
       "    <tr>\n",
       "      <th rowspan=\"3\" valign=\"top\">3</th>\n",
       "      <th>0.00</th>\n",
       "      <th>1</th>\n",
       "      <td>0.008530</td>\n",
       "      <td>0.000000</td>\n",
       "      <td>0.008530</td>\n",
       "    </tr>\n",
       "    <tr>\n",
       "      <th>299.75</th>\n",
       "      <th>46</th>\n",
       "      <td>0.008540</td>\n",
       "      <td>-0.000007</td>\n",
       "      <td>0.008533</td>\n",
       "    </tr>\n",
       "    <tr>\n",
       "      <th>1013.00</th>\n",
       "      <th>76</th>\n",
       "      <td>0.009141</td>\n",
       "      <td>-0.026527</td>\n",
       "      <td>-0.017385</td>\n",
       "    </tr>\n",
       "  </tbody>\n",
       "</table>\n",
       "</div>"
      ],
      "text/plain": [
       "                      flug      fldg     fnetg\n",
       "g pressure level                              \n",
       "1 0.00     1     -0.007848  0.000000 -0.007848\n",
       "  299.75   46    -0.007613 -0.000291 -0.007904\n",
       "  1013.00  76    -0.003270 -0.003335 -0.006605\n",
       "2 0.00     1     -0.008993  0.000000 -0.008993\n",
       "  299.75   46    -0.008931 -0.000046 -0.008977\n",
       "  1013.00  76    -0.005871 -0.073168 -0.079039\n",
       "3 0.00     1      0.008530  0.000000  0.008530\n",
       "  299.75   46     0.008540 -0.000007  0.008533\n",
       "  1013.00  76     0.009141 -0.026527 -0.017385"
      ]
     },
     "metadata": {},
     "output_type": "display_data"
    },
    {
     "data": {
      "text/markdown": [
       "*TABLE.* Fluxes. (WGT igg=10) - (CRD)"
      ],
      "text/plain": [
       "<IPython.core.display.Markdown object>"
      ]
     },
     "metadata": {},
     "output_type": "display_data"
    },
    {
     "data": {
      "text/html": [
       "<div>\n",
       "<style scoped>\n",
       "    .dataframe tbody tr th:only-of-type {\n",
       "        vertical-align: middle;\n",
       "    }\n",
       "\n",
       "    .dataframe tbody tr th {\n",
       "        vertical-align: top;\n",
       "    }\n",
       "\n",
       "    .dataframe thead th {\n",
       "        text-align: right;\n",
       "    }\n",
       "</style>\n",
       "<table border=\"1\" class=\"dataframe\">\n",
       "  <thead>\n",
       "    <tr style=\"text-align: right;\">\n",
       "      <th></th>\n",
       "      <th></th>\n",
       "      <th>flug</th>\n",
       "      <th>fldg</th>\n",
       "      <th>fnetg</th>\n",
       "    </tr>\n",
       "    <tr>\n",
       "      <th>pressure</th>\n",
       "      <th>level</th>\n",
       "      <th></th>\n",
       "      <th></th>\n",
       "      <th></th>\n",
       "    </tr>\n",
       "  </thead>\n",
       "  <tbody>\n",
       "    <tr>\n",
       "      <th>0.00</th>\n",
       "      <th>1</th>\n",
       "      <td>-32.825730</td>\n",
       "      <td>0.000000</td>\n",
       "      <td>-32.825730</td>\n",
       "    </tr>\n",
       "    <tr>\n",
       "      <th>299.75</th>\n",
       "      <th>46</th>\n",
       "      <td>-32.826886</td>\n",
       "      <td>0.000939</td>\n",
       "      <td>-32.825947</td>\n",
       "    </tr>\n",
       "    <tr>\n",
       "      <th>1013.00</th>\n",
       "      <th>76</th>\n",
       "      <td>-32.863767</td>\n",
       "      <td>0.789010</td>\n",
       "      <td>-32.074757</td>\n",
       "    </tr>\n",
       "  </tbody>\n",
       "</table>\n",
       "</div>"
      ],
      "text/plain": [
       "                     flug      fldg      fnetg\n",
       "pressure level                                \n",
       "0.00     1     -32.825730  0.000000 -32.825730\n",
       "299.75   46    -32.826886  0.000939 -32.825947\n",
       "1013.00  76    -32.863767  0.789010 -32.074757"
      ]
     },
     "metadata": {},
     "output_type": "display_data"
    },
    {
     "data": {
      "text/markdown": [
       "*TABLE.* Fluxes. CRD"
      ],
      "text/plain": [
       "<IPython.core.display.Markdown object>"
      ]
     },
     "metadata": {},
     "output_type": "display_data"
    },
    {
     "data": {
      "text/html": [
       "<div>\n",
       "<style scoped>\n",
       "    .dataframe tbody tr th:only-of-type {\n",
       "        vertical-align: middle;\n",
       "    }\n",
       "\n",
       "    .dataframe tbody tr th {\n",
       "        vertical-align: top;\n",
       "    }\n",
       "\n",
       "    .dataframe thead th {\n",
       "        text-align: right;\n",
       "    }\n",
       "</style>\n",
       "<table border=\"1\" class=\"dataframe\">\n",
       "  <thead>\n",
       "    <tr style=\"text-align: right;\">\n",
       "      <th></th>\n",
       "      <th></th>\n",
       "      <th>flug</th>\n",
       "      <th>fldg</th>\n",
       "      <th>fnetg</th>\n",
       "    </tr>\n",
       "    <tr>\n",
       "      <th>pressure</th>\n",
       "      <th>level</th>\n",
       "      <th></th>\n",
       "      <th></th>\n",
       "      <th></th>\n",
       "    </tr>\n",
       "  </thead>\n",
       "  <tbody>\n",
       "    <tr>\n",
       "      <th>0.00</th>\n",
       "      <th>1</th>\n",
       "      <td>-32.829583</td>\n",
       "      <td>0.000000</td>\n",
       "      <td>-32.829583</td>\n",
       "    </tr>\n",
       "    <tr>\n",
       "      <th>299.75</th>\n",
       "      <th>46</th>\n",
       "      <td>-32.830551</td>\n",
       "      <td>0.000707</td>\n",
       "      <td>-32.829844</td>\n",
       "    </tr>\n",
       "    <tr>\n",
       "      <th>1013.00</th>\n",
       "      <th>76</th>\n",
       "      <td>-32.863767</td>\n",
       "      <td>0.724979</td>\n",
       "      <td>-32.138788</td>\n",
       "    </tr>\n",
       "  </tbody>\n",
       "</table>\n",
       "</div>"
      ],
      "text/plain": [
       "                     flug      fldg      fnetg\n",
       "pressure level                                \n",
       "0.00     1     -32.829583  0.000000 -32.829583\n",
       "299.75   46    -32.830551  0.000707 -32.829844\n",
       "1013.00  76    -32.863767  0.724979 -32.138788"
      ]
     },
     "metadata": {},
     "output_type": "display_data"
    },
    {
     "data": {
      "text/markdown": [
       "*TABLE.* Fluxes. WGT igg=1"
      ],
      "text/plain": [
       "<IPython.core.display.Markdown object>"
      ]
     },
     "metadata": {},
     "output_type": "display_data"
    },
    {
     "data": {
      "text/html": [
       "<div>\n",
       "<style scoped>\n",
       "    .dataframe tbody tr th:only-of-type {\n",
       "        vertical-align: middle;\n",
       "    }\n",
       "\n",
       "    .dataframe tbody tr th {\n",
       "        vertical-align: top;\n",
       "    }\n",
       "\n",
       "    .dataframe thead th {\n",
       "        text-align: right;\n",
       "    }\n",
       "</style>\n",
       "<table border=\"1\" class=\"dataframe\">\n",
       "  <thead>\n",
       "    <tr style=\"text-align: right;\">\n",
       "      <th></th>\n",
       "      <th></th>\n",
       "      <th>flug</th>\n",
       "      <th>fldg</th>\n",
       "      <th>fnetg</th>\n",
       "    </tr>\n",
       "    <tr>\n",
       "      <th>pressure</th>\n",
       "      <th>level</th>\n",
       "      <th></th>\n",
       "      <th></th>\n",
       "      <th></th>\n",
       "    </tr>\n",
       "  </thead>\n",
       "  <tbody>\n",
       "    <tr>\n",
       "      <th>0.00</th>\n",
       "      <th>1</th>\n",
       "      <td>-32.834040</td>\n",
       "      <td>0.000000</td>\n",
       "      <td>-32.834040</td>\n",
       "    </tr>\n",
       "    <tr>\n",
       "      <th>299.75</th>\n",
       "      <th>46</th>\n",
       "      <td>-32.834889</td>\n",
       "      <td>0.000594</td>\n",
       "      <td>-32.834295</td>\n",
       "    </tr>\n",
       "    <tr>\n",
       "      <th>1013.00</th>\n",
       "      <th>76</th>\n",
       "      <td>-32.863767</td>\n",
       "      <td>0.685981</td>\n",
       "      <td>-32.177785</td>\n",
       "    </tr>\n",
       "  </tbody>\n",
       "</table>\n",
       "</div>"
      ],
      "text/plain": [
       "                     flug      fldg      fnetg\n",
       "pressure level                                \n",
       "0.00     1     -32.834040  0.000000 -32.834040\n",
       "299.75   46    -32.834889  0.000594 -32.834295\n",
       "1013.00  76    -32.863767  0.685981 -32.177785"
      ]
     },
     "metadata": {},
     "output_type": "display_data"
    },
    {
     "data": {
      "text/markdown": [
       "*TABLE.* Fluxes. WGT igg=10"
      ],
      "text/plain": [
       "<IPython.core.display.Markdown object>"
      ]
     },
     "metadata": {},
     "output_type": "display_data"
    },
    {
     "data": {
      "text/html": [
       "<div>\n",
       "<style scoped>\n",
       "    .dataframe tbody tr th:only-of-type {\n",
       "        vertical-align: middle;\n",
       "    }\n",
       "\n",
       "    .dataframe tbody tr th {\n",
       "        vertical-align: top;\n",
       "    }\n",
       "\n",
       "    .dataframe thead th {\n",
       "        text-align: right;\n",
       "    }\n",
       "</style>\n",
       "<table border=\"1\" class=\"dataframe\">\n",
       "  <thead>\n",
       "    <tr style=\"text-align: right;\">\n",
       "      <th></th>\n",
       "      <th></th>\n",
       "      <th>flug</th>\n",
       "      <th>fldg</th>\n",
       "      <th>fnetg</th>\n",
       "    </tr>\n",
       "    <tr>\n",
       "      <th>pressure</th>\n",
       "      <th>level</th>\n",
       "      <th></th>\n",
       "      <th></th>\n",
       "      <th></th>\n",
       "    </tr>\n",
       "  </thead>\n",
       "  <tbody>\n",
       "    <tr>\n",
       "      <th>0.00</th>\n",
       "      <th>1</th>\n",
       "      <td>-3.853080e-03</td>\n",
       "      <td>0.000000</td>\n",
       "      <td>-0.003853</td>\n",
       "    </tr>\n",
       "    <tr>\n",
       "      <th>299.75</th>\n",
       "      <th>46</th>\n",
       "      <td>-3.665230e-03</td>\n",
       "      <td>-0.000231</td>\n",
       "      <td>-0.003897</td>\n",
       "    </tr>\n",
       "    <tr>\n",
       "      <th>1013.00</th>\n",
       "      <th>76</th>\n",
       "      <td>-1.000001e-08</td>\n",
       "      <td>-0.064032</td>\n",
       "      <td>-0.064031</td>\n",
       "    </tr>\n",
       "  </tbody>\n",
       "</table>\n",
       "</div>"
      ],
      "text/plain": [
       "                        flug      fldg     fnetg\n",
       "pressure level                                  \n",
       "0.00     1     -3.853080e-03  0.000000 -0.003853\n",
       "299.75   46    -3.665230e-03 -0.000231 -0.003897\n",
       "1013.00  76    -1.000001e-08 -0.064032 -0.064031"
      ]
     },
     "metadata": {},
     "output_type": "display_data"
    },
    {
     "data": {
      "text/markdown": [
       "*TABLE.* Fluxes. (WGT igg=1) - (CRD)"
      ],
      "text/plain": [
       "<IPython.core.display.Markdown object>"
      ]
     },
     "metadata": {},
     "output_type": "display_data"
    },
    {
     "data": {
      "text/html": [
       "<div>\n",
       "<style scoped>\n",
       "    .dataframe tbody tr th:only-of-type {\n",
       "        vertical-align: middle;\n",
       "    }\n",
       "\n",
       "    .dataframe tbody tr th {\n",
       "        vertical-align: top;\n",
       "    }\n",
       "\n",
       "    .dataframe thead th {\n",
       "        text-align: right;\n",
       "    }\n",
       "</style>\n",
       "<table border=\"1\" class=\"dataframe\">\n",
       "  <thead>\n",
       "    <tr style=\"text-align: right;\">\n",
       "      <th></th>\n",
       "      <th></th>\n",
       "      <th>flug</th>\n",
       "      <th>fldg</th>\n",
       "      <th>fnetg</th>\n",
       "    </tr>\n",
       "    <tr>\n",
       "      <th>pressure</th>\n",
       "      <th>level</th>\n",
       "      <th></th>\n",
       "      <th></th>\n",
       "      <th></th>\n",
       "    </tr>\n",
       "  </thead>\n",
       "  <tbody>\n",
       "    <tr>\n",
       "      <th>0.00</th>\n",
       "      <th>1</th>\n",
       "      <td>-8.310570e-03</td>\n",
       "      <td>0.000000</td>\n",
       "      <td>-0.008311</td>\n",
       "    </tr>\n",
       "    <tr>\n",
       "      <th>299.75</th>\n",
       "      <th>46</th>\n",
       "      <td>-8.003630e-03</td>\n",
       "      <td>-0.000345</td>\n",
       "      <td>-0.008348</td>\n",
       "    </tr>\n",
       "    <tr>\n",
       "      <th>1013.00</th>\n",
       "      <th>76</th>\n",
       "      <td>-1.000001e-08</td>\n",
       "      <td>-0.103029</td>\n",
       "      <td>-0.103029</td>\n",
       "    </tr>\n",
       "  </tbody>\n",
       "</table>\n",
       "</div>"
      ],
      "text/plain": [
       "                        flug      fldg     fnetg\n",
       "pressure level                                  \n",
       "0.00     1     -8.310570e-03  0.000000 -0.008311\n",
       "299.75   46    -8.003630e-03 -0.000345 -0.008348\n",
       "1013.00  76    -1.000001e-08 -0.103029 -0.103029"
      ]
     },
     "metadata": {},
     "output_type": "display_data"
    },
    {
     "data": {
      "text/markdown": [
       "*TABLE.* Fluxes. (WGT igg=10) - (CRD)"
      ],
      "text/plain": [
       "<IPython.core.display.Markdown object>"
      ]
     },
     "metadata": {},
     "output_type": "display_data"
    },
    {
     "data": {
      "text/html": [
       "<a id=\"g-interval_Summary\"></a>"
      ],
      "text/plain": [
       "<IPython.core.display.HTML object>"
      ]
     },
     "metadata": {},
     "output_type": "display_data"
    },
    {
     "data": {
      "text/markdown": [
       "# g-interval Summary"
      ],
      "text/plain": [
       "<IPython.core.display.Markdown object>"
      ]
     },
     "metadata": {},
     "output_type": "display_data"
    },
    {
     "data": {
      "text/html": [
       "<div>\n",
       "<style scoped>\n",
       "    .dataframe tbody tr th:only-of-type {\n",
       "        vertical-align: middle;\n",
       "    }\n",
       "\n",
       "    .dataframe tbody tr th {\n",
       "        vertical-align: top;\n",
       "    }\n",
       "\n",
       "    .dataframe thead th {\n",
       "        text-align: right;\n",
       "    }\n",
       "</style>\n",
       "<table border=\"1\" class=\"dataframe\">\n",
       "  <thead>\n",
       "    <tr style=\"text-align: right;\">\n",
       "      <th></th>\n",
       "      <th>abscom</th>\n",
       "      <th>k(ig) / k(ig - 1)</th>\n",
       "      <th>dg</th>\n",
       "      <th>dgs</th>\n",
       "      <th>dg cumsum</th>\n",
       "      <th>dgs cumsum</th>\n",
       "      <th>pref</th>\n",
       "    </tr>\n",
       "    <tr>\n",
       "      <th>g</th>\n",
       "      <th></th>\n",
       "      <th></th>\n",
       "      <th></th>\n",
       "      <th></th>\n",
       "      <th></th>\n",
       "      <th></th>\n",
       "      <th></th>\n",
       "    </tr>\n",
       "  </thead>\n",
       "  <tbody>\n",
       "    <tr>\n",
       "      <th>1</th>\n",
       "      <td>1.191913e-23</td>\n",
       "      <td>NaN</td>\n",
       "      <td>0.019472</td>\n",
       "      <td>0.021028</td>\n",
       "      <td>0.019472</td>\n",
       "      <td>0.021028</td>\n",
       "      <td>600.0</td>\n",
       "    </tr>\n",
       "    <tr>\n",
       "      <th>2</th>\n",
       "      <td>1.000017e-24</td>\n",
       "      <td>0.083900</td>\n",
       "      <td>0.084250</td>\n",
       "      <td>0.086980</td>\n",
       "      <td>0.103722</td>\n",
       "      <td>0.108008</td>\n",
       "      <td>600.0</td>\n",
       "    </tr>\n",
       "    <tr>\n",
       "      <th>3</th>\n",
       "      <td>2.367320e-27</td>\n",
       "      <td>0.002367</td>\n",
       "      <td>0.896278</td>\n",
       "      <td>0.891992</td>\n",
       "      <td>1.000000</td>\n",
       "      <td>1.000000</td>\n",
       "      <td>600.0</td>\n",
       "    </tr>\n",
       "  </tbody>\n",
       "</table>\n",
       "</div>"
      ],
      "text/plain": [
       "         abscom  k(ig) / k(ig - 1)        dg       dgs  dg cumsum  dgs cumsum  \\\n",
       "g                                                                               \n",
       "1  1.191913e-23                NaN  0.019472  0.021028   0.019472    0.021028   \n",
       "2  1.000017e-24           0.083900  0.084250  0.086980   0.103722    0.108008   \n",
       "3  2.367320e-27           0.002367  0.896278  0.891992   1.000000    1.000000   \n",
       "\n",
       "    pref  \n",
       "g         \n",
       "1  600.0  \n",
       "2  600.0  \n",
       "3  600.0  "
      ]
     },
     "metadata": {},
     "output_type": "display_data"
    },
    {
     "data": {
      "text/markdown": [
       "TABLE. g-interval summary.  *abscom* is the lower bound of the g-interval."
      ],
      "text/plain": [
       "<IPython.core.display.Markdown object>"
      ]
     },
     "metadata": {},
     "output_type": "display_data"
    },
    {
     "data": {
      "text/html": [
       "<a id=\"Download_Data\"></a>"
      ],
      "text/plain": [
       "<IPython.core.display.HTML object>"
      ]
     },
     "metadata": {},
     "output_type": "display_data"
    },
    {
     "data": {
      "text/markdown": [
       "# Download Data"
      ],
      "text/plain": [
       "<IPython.core.display.Markdown object>"
      ]
     },
     "metadata": {},
     "output_type": "display_data"
    },
    {
     "data": {
      "text/html": [
       "Download: <a href=\"./lblnew-bestfit_flux.xlsx\">lblnew-bestfit_flux.xlsx</a>"
      ],
      "text/plain": [
       "<IPython.core.display.HTML object>"
      ]
     },
     "metadata": {},
     "output_type": "display_data"
    },
    {
     "data": {
      "text/html": [
       "Download: <a href=\"./lblnew-bestfit_cool.xlsx\">lblnew-bestfit_cool.xlsx</a>"
      ],
      "text/plain": [
       "<IPython.core.display.HTML object>"
      ]
     },
     "metadata": {},
     "output_type": "display_data"
    }
   ],
   "source": [
    "script()"
   ]
  },
  {
   "cell_type": "code",
   "execution_count": 14,
   "metadata": {},
   "outputs": [
    {
     "data": {
      "text/html": [
       "<script>\n",
       "code_show=true; \n",
       "function code_toggle() {\n",
       " if (code_show){\n",
       " $('div.input').hide();\n",
       " } else {\n",
       " $('div.input').show();\n",
       " }\n",
       " code_show = !code_show\n",
       "} \n",
       "$( document ).ready(code_toggle);\n",
       "</script>\n",
       "<form action=\"javascript:code_toggle()\"><input type=\"submit\" value=\"Click here to toggle on/off the raw code.\"></form>"
      ],
      "text/plain": [
       "<IPython.core.display.HTML object>"
      ]
     },
     "execution_count": 14,
     "metadata": {},
     "output_type": "execute_result"
    }
   ],
   "source": [
    "display.HTML('''<script>\n",
    "code_show=true; \n",
    "function code_toggle() {\n",
    " if (code_show){\n",
    " $('div.input').hide();\n",
    " } else {\n",
    " $('div.input').show();\n",
    " }\n",
    " code_show = !code_show\n",
    "} \n",
    "$( document ).ready(code_toggle);\n",
    "</script>\n",
    "<form action=\"javascript:code_toggle()\"><input type=\"submit\" value=\"Click here to toggle on/off the raw code.\"></form>''')"
   ]
  },
  {
   "cell_type": "code",
   "execution_count": 15,
   "metadata": {
    "collapsed": true
   },
   "outputs": [],
   "source": []
  }
 ],
 "metadata": {
  "kernelspec": {
   "display_name": "Python 3",
   "language": "python",
   "name": "python3"
  },
  "language_info": {
   "codemirror_mode": {
    "name": "ipython",
    "version": 3
   },
   "file_extension": ".py",
   "mimetype": "text/x-python",
   "name": "python",
   "nbconvert_exporter": "python",
   "pygments_lexer": "ipython3",
   "version": "3.6.1"
  }
 },
 "nbformat": 4,
 "nbformat_minor": 2
}
