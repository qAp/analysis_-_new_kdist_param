{
 "cells": [
  {
   "cell_type": "code",
   "execution_count": 1,
   "metadata": {
    "collapsed": true
   },
   "outputs": [],
   "source": [
    "%reload_ext autoreload\n",
    "%autoreload 2\n",
    "%matplotlib inline"
   ]
  },
  {
   "cell_type": "code",
   "execution_count": 2,
   "metadata": {
    "collapsed": true
   },
   "outputs": [],
   "source": [
    "import io\n",
    "\n",
    "import numpy as np\n",
    "import pymongo\n",
    "\n",
    "from bokeh.io import output_notebook, show\n",
    "from bokeh.palettes import all_palettes\n",
    "from bokeh.layouts import gridplot\n",
    "\n",
    "from IPython import display\n",
    "\n",
    "from climatools.cliradlw.dataset import load_output_file\n",
    "import climatools.html.html as climahtml\n",
    "from climatools.plot.plot import *"
   ]
  },
  {
   "cell_type": "code",
   "execution_count": 3,
   "metadata": {},
   "outputs": [
    {
     "data": {
      "text/html": [
       "\n",
       "    <div class=\"bk-root\">\n",
       "        <a href=\"https://bokeh.pydata.org\" target=\"_blank\" class=\"bk-logo bk-logo-small bk-logo-notebook\"></a>\n",
       "        <span id=\"aff375c8-2071-4814-9c02-07b121fb38d5\">Loading BokehJS ...</span>\n",
       "    </div>"
      ]
     },
     "metadata": {},
     "output_type": "display_data"
    },
    {
     "data": {
      "application/javascript": [
       "\n",
       "(function(root) {\n",
       "  function now() {\n",
       "    return new Date();\n",
       "  }\n",
       "\n",
       "  var force = true;\n",
       "\n",
       "  if (typeof (root._bokeh_onload_callbacks) === \"undefined\" || force === true) {\n",
       "    root._bokeh_onload_callbacks = [];\n",
       "    root._bokeh_is_loading = undefined;\n",
       "  }\n",
       "\n",
       "  var JS_MIME_TYPE = 'application/javascript';\n",
       "  var HTML_MIME_TYPE = 'text/html';\n",
       "  var EXEC_MIME_TYPE = 'application/vnd.bokehjs_exec.v0+json';\n",
       "  var CLASS_NAME = 'output_bokeh rendered_html';\n",
       "\n",
       "  /**\n",
       "   * Render data to the DOM node\n",
       "   */\n",
       "  function render(props, node) {\n",
       "    var script = document.createElement(\"script\");\n",
       "    node.appendChild(script);\n",
       "  }\n",
       "\n",
       "  /**\n",
       "   * Handle when an output is cleared or removed\n",
       "   */\n",
       "  function handleClearOutput(event, handle) {\n",
       "    var cell = handle.cell;\n",
       "\n",
       "    var id = cell.output_area._bokeh_element_id;\n",
       "    var server_id = cell.output_area._bokeh_server_id;\n",
       "    // Clean up Bokeh references\n",
       "    if (id !== undefined) {\n",
       "      Bokeh.index[id].model.document.clear();\n",
       "      delete Bokeh.index[id];\n",
       "    }\n",
       "\n",
       "    if (server_id !== undefined) {\n",
       "      // Clean up Bokeh references\n",
       "      var cmd = \"from bokeh.io.state import curstate; print(curstate().uuid_to_server['\" + server_id + \"'].get_sessions()[0].document.roots[0]._id)\";\n",
       "      cell.notebook.kernel.execute(cmd, {\n",
       "        iopub: {\n",
       "          output: function(msg) {\n",
       "            var element_id = msg.content.text.trim();\n",
       "            Bokeh.index[element_id].model.document.clear();\n",
       "            delete Bokeh.index[element_id];\n",
       "          }\n",
       "        }\n",
       "      });\n",
       "      // Destroy server and session\n",
       "      var cmd = \"import bokeh.io.notebook as ion; ion.destroy_server('\" + server_id + \"')\";\n",
       "      cell.notebook.kernel.execute(cmd);\n",
       "    }\n",
       "  }\n",
       "\n",
       "  /**\n",
       "   * Handle when a new output is added\n",
       "   */\n",
       "  function handleAddOutput(event, handle) {\n",
       "    var output_area = handle.output_area;\n",
       "    var output = handle.output;\n",
       "\n",
       "    // limit handleAddOutput to display_data with EXEC_MIME_TYPE content only\n",
       "    if ((output.output_type != \"display_data\") || (!output.data.hasOwnProperty(EXEC_MIME_TYPE))) {\n",
       "      return\n",
       "    }\n",
       "\n",
       "    var toinsert = output_area.element.find(\".\" + CLASS_NAME.split(' ')[0]);\n",
       "\n",
       "    if (output.metadata[EXEC_MIME_TYPE][\"id\"] !== undefined) {\n",
       "      toinsert[toinsert.length - 1].firstChild.textContent = output.data[JS_MIME_TYPE];\n",
       "      // store reference to embed id on output_area\n",
       "      output_area._bokeh_element_id = output.metadata[EXEC_MIME_TYPE][\"id\"];\n",
       "    }\n",
       "    if (output.metadata[EXEC_MIME_TYPE][\"server_id\"] !== undefined) {\n",
       "      var bk_div = document.createElement(\"div\");\n",
       "      bk_div.innerHTML = output.data[HTML_MIME_TYPE];\n",
       "      var script_attrs = bk_div.children[0].attributes;\n",
       "      for (var i = 0; i < script_attrs.length; i++) {\n",
       "        toinsert[toinsert.length - 1].firstChild.setAttribute(script_attrs[i].name, script_attrs[i].value);\n",
       "      }\n",
       "      // store reference to server id on output_area\n",
       "      output_area._bokeh_server_id = output.metadata[EXEC_MIME_TYPE][\"server_id\"];\n",
       "    }\n",
       "  }\n",
       "\n",
       "  function register_renderer(events, OutputArea) {\n",
       "\n",
       "    function append_mime(data, metadata, element) {\n",
       "      // create a DOM node to render to\n",
       "      var toinsert = this.create_output_subarea(\n",
       "        metadata,\n",
       "        CLASS_NAME,\n",
       "        EXEC_MIME_TYPE\n",
       "      );\n",
       "      this.keyboard_manager.register_events(toinsert);\n",
       "      // Render to node\n",
       "      var props = {data: data, metadata: metadata[EXEC_MIME_TYPE]};\n",
       "      render(props, toinsert[toinsert.length - 1]);\n",
       "      element.append(toinsert);\n",
       "      return toinsert\n",
       "    }\n",
       "\n",
       "    /* Handle when an output is cleared or removed */\n",
       "    events.on('clear_output.CodeCell', handleClearOutput);\n",
       "    events.on('delete.Cell', handleClearOutput);\n",
       "\n",
       "    /* Handle when a new output is added */\n",
       "    events.on('output_added.OutputArea', handleAddOutput);\n",
       "\n",
       "    /**\n",
       "     * Register the mime type and append_mime function with output_area\n",
       "     */\n",
       "    OutputArea.prototype.register_mime_type(EXEC_MIME_TYPE, append_mime, {\n",
       "      /* Is output safe? */\n",
       "      safe: true,\n",
       "      /* Index of renderer in `output_area.display_order` */\n",
       "      index: 0\n",
       "    });\n",
       "  }\n",
       "\n",
       "  // register the mime type if in Jupyter Notebook environment and previously unregistered\n",
       "  if (root.Jupyter !== undefined) {\n",
       "    var events = require('base/js/events');\n",
       "    var OutputArea = require('notebook/js/outputarea').OutputArea;\n",
       "\n",
       "    if (OutputArea.prototype.mime_types().indexOf(EXEC_MIME_TYPE) == -1) {\n",
       "      register_renderer(events, OutputArea);\n",
       "    }\n",
       "  }\n",
       "\n",
       "  \n",
       "  if (typeof (root._bokeh_timeout) === \"undefined\" || force === true) {\n",
       "    root._bokeh_timeout = Date.now() + 5000;\n",
       "    root._bokeh_failed_load = false;\n",
       "  }\n",
       "\n",
       "  var NB_LOAD_WARNING = {'data': {'text/html':\n",
       "     \"<div style='background-color: #fdd'>\\n\"+\n",
       "     \"<p>\\n\"+\n",
       "     \"BokehJS does not appear to have successfully loaded. If loading BokehJS from CDN, this \\n\"+\n",
       "     \"may be due to a slow or bad network connection. Possible fixes:\\n\"+\n",
       "     \"</p>\\n\"+\n",
       "     \"<ul>\\n\"+\n",
       "     \"<li>re-rerun `output_notebook()` to attempt to load from CDN again, or</li>\\n\"+\n",
       "     \"<li>use INLINE resources instead, as so:</li>\\n\"+\n",
       "     \"</ul>\\n\"+\n",
       "     \"<code>\\n\"+\n",
       "     \"from bokeh.resources import INLINE\\n\"+\n",
       "     \"output_notebook(resources=INLINE)\\n\"+\n",
       "     \"</code>\\n\"+\n",
       "     \"</div>\"}};\n",
       "\n",
       "  function display_loaded() {\n",
       "    var el = document.getElementById(\"aff375c8-2071-4814-9c02-07b121fb38d5\");\n",
       "    if (el != null) {\n",
       "      el.textContent = \"BokehJS is loading...\";\n",
       "    }\n",
       "    if (root.Bokeh !== undefined) {\n",
       "      if (el != null) {\n",
       "        el.textContent = \"BokehJS \" + root.Bokeh.version + \" successfully loaded.\";\n",
       "      }\n",
       "    } else if (Date.now() < root._bokeh_timeout) {\n",
       "      setTimeout(display_loaded, 100)\n",
       "    }\n",
       "  }\n",
       "\n",
       "\n",
       "  function run_callbacks() {\n",
       "    try {\n",
       "      root._bokeh_onload_callbacks.forEach(function(callback) { callback() });\n",
       "    }\n",
       "    finally {\n",
       "      delete root._bokeh_onload_callbacks\n",
       "    }\n",
       "    console.info(\"Bokeh: all callbacks have finished\");\n",
       "  }\n",
       "\n",
       "  function load_libs(js_urls, callback) {\n",
       "    root._bokeh_onload_callbacks.push(callback);\n",
       "    if (root._bokeh_is_loading > 0) {\n",
       "      console.log(\"Bokeh: BokehJS is being loaded, scheduling callback at\", now());\n",
       "      return null;\n",
       "    }\n",
       "    if (js_urls == null || js_urls.length === 0) {\n",
       "      run_callbacks();\n",
       "      return null;\n",
       "    }\n",
       "    console.log(\"Bokeh: BokehJS not loaded, scheduling load and callback at\", now());\n",
       "    root._bokeh_is_loading = js_urls.length;\n",
       "    for (var i = 0; i < js_urls.length; i++) {\n",
       "      var url = js_urls[i];\n",
       "      var s = document.createElement('script');\n",
       "      s.src = url;\n",
       "      s.async = false;\n",
       "      s.onreadystatechange = s.onload = function() {\n",
       "        root._bokeh_is_loading--;\n",
       "        if (root._bokeh_is_loading === 0) {\n",
       "          console.log(\"Bokeh: all BokehJS libraries loaded\");\n",
       "          run_callbacks()\n",
       "        }\n",
       "      };\n",
       "      s.onerror = function() {\n",
       "        console.warn(\"failed to load library \" + url);\n",
       "      };\n",
       "      console.log(\"Bokeh: injecting script tag for BokehJS library: \", url);\n",
       "      document.getElementsByTagName(\"head\")[0].appendChild(s);\n",
       "    }\n",
       "  };var element = document.getElementById(\"aff375c8-2071-4814-9c02-07b121fb38d5\");\n",
       "  if (element == null) {\n",
       "    console.log(\"Bokeh: ERROR: autoload.js configured with elementid 'aff375c8-2071-4814-9c02-07b121fb38d5' but no matching script tag was found. \")\n",
       "    return false;\n",
       "  }\n",
       "\n",
       "  var js_urls = [\"https://cdn.pydata.org/bokeh/release/bokeh-0.12.16.min.js\", \"https://cdn.pydata.org/bokeh/release/bokeh-widgets-0.12.16.min.js\", \"https://cdn.pydata.org/bokeh/release/bokeh-tables-0.12.16.min.js\", \"https://cdn.pydata.org/bokeh/release/bokeh-gl-0.12.16.min.js\"];\n",
       "\n",
       "  var inline_js = [\n",
       "    function(Bokeh) {\n",
       "      Bokeh.set_log_level(\"info\");\n",
       "    },\n",
       "    \n",
       "    function(Bokeh) {\n",
       "      \n",
       "    },\n",
       "    function(Bokeh) {\n",
       "      console.log(\"Bokeh: injecting CSS: https://cdn.pydata.org/bokeh/release/bokeh-0.12.16.min.css\");\n",
       "      Bokeh.embed.inject_css(\"https://cdn.pydata.org/bokeh/release/bokeh-0.12.16.min.css\");\n",
       "      console.log(\"Bokeh: injecting CSS: https://cdn.pydata.org/bokeh/release/bokeh-widgets-0.12.16.min.css\");\n",
       "      Bokeh.embed.inject_css(\"https://cdn.pydata.org/bokeh/release/bokeh-widgets-0.12.16.min.css\");\n",
       "      console.log(\"Bokeh: injecting CSS: https://cdn.pydata.org/bokeh/release/bokeh-tables-0.12.16.min.css\");\n",
       "      Bokeh.embed.inject_css(\"https://cdn.pydata.org/bokeh/release/bokeh-tables-0.12.16.min.css\");\n",
       "    }\n",
       "  ];\n",
       "\n",
       "  function run_inline_js() {\n",
       "    \n",
       "    if ((root.Bokeh !== undefined) || (force === true)) {\n",
       "      for (var i = 0; i < inline_js.length; i++) {\n",
       "        inline_js[i].call(root, root.Bokeh);\n",
       "      }if (force === true) {\n",
       "        display_loaded();\n",
       "      }} else if (Date.now() < root._bokeh_timeout) {\n",
       "      setTimeout(run_inline_js, 100);\n",
       "    } else if (!root._bokeh_failed_load) {\n",
       "      console.log(\"Bokeh: BokehJS failed to load within specified timeout.\");\n",
       "      root._bokeh_failed_load = true;\n",
       "    } else if (force !== true) {\n",
       "      var cell = $(document.getElementById(\"aff375c8-2071-4814-9c02-07b121fb38d5\")).parents('.cell').data().cell;\n",
       "      cell.output_area.append_execute_result(NB_LOAD_WARNING)\n",
       "    }\n",
       "\n",
       "  }\n",
       "\n",
       "  if (root._bokeh_is_loading === 0) {\n",
       "    console.log(\"Bokeh: BokehJS loaded, going straight to plotting\");\n",
       "    run_inline_js();\n",
       "  } else {\n",
       "    load_libs(js_urls, function() {\n",
       "      console.log(\"Bokeh: BokehJS plotting callback run at\", now());\n",
       "      run_inline_js();\n",
       "    });\n",
       "  }\n",
       "}(window));"
      ],
      "application/vnd.bokehjs_load.v0+json": "\n(function(root) {\n  function now() {\n    return new Date();\n  }\n\n  var force = true;\n\n  if (typeof (root._bokeh_onload_callbacks) === \"undefined\" || force === true) {\n    root._bokeh_onload_callbacks = [];\n    root._bokeh_is_loading = undefined;\n  }\n\n  \n\n  \n  if (typeof (root._bokeh_timeout) === \"undefined\" || force === true) {\n    root._bokeh_timeout = Date.now() + 5000;\n    root._bokeh_failed_load = false;\n  }\n\n  var NB_LOAD_WARNING = {'data': {'text/html':\n     \"<div style='background-color: #fdd'>\\n\"+\n     \"<p>\\n\"+\n     \"BokehJS does not appear to have successfully loaded. If loading BokehJS from CDN, this \\n\"+\n     \"may be due to a slow or bad network connection. Possible fixes:\\n\"+\n     \"</p>\\n\"+\n     \"<ul>\\n\"+\n     \"<li>re-rerun `output_notebook()` to attempt to load from CDN again, or</li>\\n\"+\n     \"<li>use INLINE resources instead, as so:</li>\\n\"+\n     \"</ul>\\n\"+\n     \"<code>\\n\"+\n     \"from bokeh.resources import INLINE\\n\"+\n     \"output_notebook(resources=INLINE)\\n\"+\n     \"</code>\\n\"+\n     \"</div>\"}};\n\n  function display_loaded() {\n    var el = document.getElementById(\"aff375c8-2071-4814-9c02-07b121fb38d5\");\n    if (el != null) {\n      el.textContent = \"BokehJS is loading...\";\n    }\n    if (root.Bokeh !== undefined) {\n      if (el != null) {\n        el.textContent = \"BokehJS \" + root.Bokeh.version + \" successfully loaded.\";\n      }\n    } else if (Date.now() < root._bokeh_timeout) {\n      setTimeout(display_loaded, 100)\n    }\n  }\n\n\n  function run_callbacks() {\n    try {\n      root._bokeh_onload_callbacks.forEach(function(callback) { callback() });\n    }\n    finally {\n      delete root._bokeh_onload_callbacks\n    }\n    console.info(\"Bokeh: all callbacks have finished\");\n  }\n\n  function load_libs(js_urls, callback) {\n    root._bokeh_onload_callbacks.push(callback);\n    if (root._bokeh_is_loading > 0) {\n      console.log(\"Bokeh: BokehJS is being loaded, scheduling callback at\", now());\n      return null;\n    }\n    if (js_urls == null || js_urls.length === 0) {\n      run_callbacks();\n      return null;\n    }\n    console.log(\"Bokeh: BokehJS not loaded, scheduling load and callback at\", now());\n    root._bokeh_is_loading = js_urls.length;\n    for (var i = 0; i < js_urls.length; i++) {\n      var url = js_urls[i];\n      var s = document.createElement('script');\n      s.src = url;\n      s.async = false;\n      s.onreadystatechange = s.onload = function() {\n        root._bokeh_is_loading--;\n        if (root._bokeh_is_loading === 0) {\n          console.log(\"Bokeh: all BokehJS libraries loaded\");\n          run_callbacks()\n        }\n      };\n      s.onerror = function() {\n        console.warn(\"failed to load library \" + url);\n      };\n      console.log(\"Bokeh: injecting script tag for BokehJS library: \", url);\n      document.getElementsByTagName(\"head\")[0].appendChild(s);\n    }\n  };var element = document.getElementById(\"aff375c8-2071-4814-9c02-07b121fb38d5\");\n  if (element == null) {\n    console.log(\"Bokeh: ERROR: autoload.js configured with elementid 'aff375c8-2071-4814-9c02-07b121fb38d5' but no matching script tag was found. \")\n    return false;\n  }\n\n  var js_urls = [\"https://cdn.pydata.org/bokeh/release/bokeh-0.12.16.min.js\", \"https://cdn.pydata.org/bokeh/release/bokeh-widgets-0.12.16.min.js\", \"https://cdn.pydata.org/bokeh/release/bokeh-tables-0.12.16.min.js\", \"https://cdn.pydata.org/bokeh/release/bokeh-gl-0.12.16.min.js\"];\n\n  var inline_js = [\n    function(Bokeh) {\n      Bokeh.set_log_level(\"info\");\n    },\n    \n    function(Bokeh) {\n      \n    },\n    function(Bokeh) {\n      console.log(\"Bokeh: injecting CSS: https://cdn.pydata.org/bokeh/release/bokeh-0.12.16.min.css\");\n      Bokeh.embed.inject_css(\"https://cdn.pydata.org/bokeh/release/bokeh-0.12.16.min.css\");\n      console.log(\"Bokeh: injecting CSS: https://cdn.pydata.org/bokeh/release/bokeh-widgets-0.12.16.min.css\");\n      Bokeh.embed.inject_css(\"https://cdn.pydata.org/bokeh/release/bokeh-widgets-0.12.16.min.css\");\n      console.log(\"Bokeh: injecting CSS: https://cdn.pydata.org/bokeh/release/bokeh-tables-0.12.16.min.css\");\n      Bokeh.embed.inject_css(\"https://cdn.pydata.org/bokeh/release/bokeh-tables-0.12.16.min.css\");\n    }\n  ];\n\n  function run_inline_js() {\n    \n    if ((root.Bokeh !== undefined) || (force === true)) {\n      for (var i = 0; i < inline_js.length; i++) {\n        inline_js[i].call(root, root.Bokeh);\n      }if (force === true) {\n        display_loaded();\n      }} else if (Date.now() < root._bokeh_timeout) {\n      setTimeout(run_inline_js, 100);\n    } else if (!root._bokeh_failed_load) {\n      console.log(\"Bokeh: BokehJS failed to load within specified timeout.\");\n      root._bokeh_failed_load = true;\n    } else if (force !== true) {\n      var cell = $(document.getElementById(\"aff375c8-2071-4814-9c02-07b121fb38d5\")).parents('.cell').data().cell;\n      cell.output_area.append_execute_result(NB_LOAD_WARNING)\n    }\n\n  }\n\n  if (root._bokeh_is_loading === 0) {\n    console.log(\"Bokeh: BokehJS loaded, going straight to plotting\");\n    run_inline_js();\n  } else {\n    load_libs(js_urls, function() {\n      console.log(\"Bokeh: BokehJS plotting callback run at\", now());\n      run_inline_js();\n    });\n  }\n}(window));"
     },
     "metadata": {},
     "output_type": "display_data"
    }
   ],
   "source": [
    "output_notebook()"
   ]
  },
  {
   "cell_type": "code",
   "execution_count": 4,
   "metadata": {
    "collapsed": true
   },
   "outputs": [],
   "source": [
    "def make_query(param=None):\n",
    "    '''\n",
    "    Returns the MongoDB query for a lblnew \n",
    "    run's document.\n",
    "    \n",
    "    Parameters\n",
    "    ----------\n",
    "    param: dict\n",
    "    lblnew-bestfit input parameters.\n",
    "    '''\n",
    "    return {'param.' + name: value for name, value in param.items()}   "
   ]
  },
  {
   "cell_type": "code",
   "execution_count": 5,
   "metadata": {
    "collapsed": true
   },
   "outputs": [],
   "source": [
    "def print_input_param():\n",
    "    '''\n",
    "    Print to screen the input parameters \n",
    "    of the lblnew run.\n",
    "    '''\n",
    "    df = pd.DataFrame(columns=['lblnew'])\n",
    "    for name, value in sorted(PARAM.items()):\n",
    "        df.loc[name, 'lblnew'] = value\n",
    "    \n",
    "    df.index.name = 'Input parameter'\n",
    "    df.columns.name = 'Run'\n",
    "    \n",
    "    pd.set_option('display.max_colwidth', -1)\n",
    "    display.display(df)\n",
    "    pd.reset_option('display.max_colwidth')"
   ]
  },
  {
   "cell_type": "code",
   "execution_count": 6,
   "metadata": {
    "collapsed": true
   },
   "outputs": [],
   "source": [
    "def fmt_cool(ds_in):\n",
    "    ds = ds_in.copy(deep=True)\n",
    "    \n",
    "    if 'i' in ds.dims:                                                                                               \n",
    "        ds = ds.sel(i=ds.dims['i']) \n",
    "        \n",
    "    if 'band' in ds.dims:\n",
    "        try:\n",
    "            ds = ds.squeeze('band')\n",
    "        except ValueError:\n",
    "            ds = ds.sum('band') \n",
    "            \n",
    "    return ds['coolrg']\n",
    "\n",
    "\n",
    "\n",
    "def pltdata_cool(g=None):\n",
    "    '''\n",
    "    Define the plotting data for cooling rate\n",
    "    profile plots.  Add/remove entries in\n",
    "    the `data` list.\n",
    "    \n",
    "    Parameters\n",
    "    ----------\n",
    "    g: int\n",
    "        g-interval to be plotted.  If None,\n",
    "        the sum over all g-intervals will be\n",
    "        plotted.\n",
    "    data: dict\n",
    "        Plot data, including colour, line attributes, etc.\n",
    "    '''\n",
    "    colors = all_palettes['Set1'][4]\n",
    "    \n",
    "    if g == None:\n",
    "        ds_cool_crd = DS_COOL_CRD.sum('g')\n",
    "        ds_cool_wgt = DS_COOL_WGT.sum('g')\n",
    "    else:\n",
    "        ds_cool_crd = DS_COOL_CRD.sel(g=g)\n",
    "        ds_cool_wgt = DS_COOL_WGT.sel(g=g)\n",
    "    \n",
    "    data = [\n",
    "        {'label': 'CRD',\n",
    "         'srs': fmt_cool(ds_cool_crd),\n",
    "         'line_dash': 'solid', 'line_width':1.5,\n",
    "         'marker': 'circle', 'mark_size': 5,\n",
    "         'color': colors[2], 'alpha': 1},\n",
    "        {'label': 'WGT igg=1',\n",
    "         'srs': fmt_cool(ds_cool_wgt.sel(igg=1)),\n",
    "         'line_dash': 'solid', 'line_width': 3,\n",
    "         'marker': 'square', 'marker_size': 5,\n",
    "         'color': colors[3], 'alpha': .6},\n",
    "        {'label': 'WGT igg=10',\n",
    "         'srs': fmt_cool(ds_cool_wgt.sel(igg=10)),\n",
    "         'line_dash': 'solid', 'line_width': 2,\n",
    "         'marker': 'triangle', 'marker_size': 2,\n",
    "         'color': colors[1], 'alpha': .3}]\n",
    "    return data\n",
    "\n",
    "\n",
    "\n",
    "def plt_cool(pltdata=None):\n",
    "    '''\n",
    "    Plot cooling rate profiles on linear\n",
    "    and log pressure axes.\n",
    "    \n",
    "    Parameters\n",
    "    ----------\n",
    "    pltdata: dict\n",
    "        Plot data, including colour, line attributes, etc.\n",
    "    everything: bokeh.models.layouts.Column\n",
    "        Cooling rate profile plot.\n",
    "    '''\n",
    "    plin = plt_vert_profile_bokeh(pltdata=pltdata, \n",
    "                                  y_axis_type='linear',\n",
    "                                  prange=(50, 1050))\n",
    "    plin.plot_width, plin.plot_height = 400, 500\n",
    "    \n",
    "    plog = plt_vert_profile_bokeh(pltdata=pltdata,\n",
    "                                  y_axis_type='log',\n",
    "                                  prange=(.01, 200)) \n",
    "    plog.plot_width, plog.plot_height = 400, 500\n",
    "    \n",
    "    everything = gridplot(plin, plog, ncols=2)\n",
    "    return everything\n",
    "    \n",
    "    \n",
    "\n",
    "def script_plt_cool():\n",
    "    '''\n",
    "    Script to plot the cooling rate profiles\n",
    "    in each g-interval and the total \n",
    "    cooling rate profile over all g-intervals.\n",
    "    '''\n",
    "    ng = sum(PARAM['ng_refs'])\n",
    "    for g in np.arange(1, ng + 1):\n",
    "        data = pltdata_cool(g=g)\n",
    "        p = plt_cool(pltdata=data)\n",
    "        show(p)\n",
    "        display.display(\n",
    "            display.Markdown(f'*FIGURE.* Cooling rates. g={g}'))\n",
    "    \n",
    "    data = pltdata_cool()\n",
    "    p = plt_cool(pltdata=data)\n",
    "    show(p)\n",
    "    display.display(\n",
    "        display.Markdown(f'*FIGURE.* Cooling rates. Summed over g.'))\n",
    "    \n"
   ]
  },
  {
   "cell_type": "code",
   "execution_count": 7,
   "metadata": {
    "collapsed": true
   },
   "outputs": [],
   "source": [
    "def fmt_flux(ds_in, ilevels=None):\n",
    "    ds = ds_in.copy(deep=True)\n",
    "    \n",
    "    for l in ('level', 'layer'):\n",
    "        if l in ds.data_vars:\n",
    "            if len(ds[l].dims) > 1:\n",
    "                surface = {d: 0 for d in ds.dims if d != 'pressure'}\n",
    "                coord_level = ds[l][surface]\n",
    "                ds.coords[l] = ('pressure', coord_level)\n",
    "            else:\n",
    "                ds.coords[l] = ('pressure', ds[l])\n",
    "    \n",
    "    if ilevels:\n",
    "        ds = ds.isel(pressure=ilevels)\n",
    "\n",
    "    if 'i' in ds.dims:                                                                                               \n",
    "        ds = ds.sel(i=ds.dims['i'])\n",
    "        \n",
    "    #if 'igg' in ds.dims:\n",
    "    #    ds = ds.squeeze('igg').drop('igg')\n",
    "        \n",
    "    if 'igg' in ds:\n",
    "        if ds['igg'].shape == (1,):\n",
    "            ds = ds.squeeze('igg').drop('igg')\n",
    "        elif ds['igg'].shape == ():\n",
    "            ds = ds.drop('igg')\n",
    "            \n",
    "    if 'g' in ds:\n",
    "        if ds['g'].shape == (1,):\n",
    "            ds = ds.squeeze('g').drop('g')\n",
    "        elif ds['g'].shape == ():\n",
    "            ds = ds.drop('g')\n",
    "            \n",
    "    if 'band' in ds.dims:\n",
    "        try:\n",
    "            ds = ds.squeeze('band').drop('band')\n",
    "        except ValueError:\n",
    "            ds = ds.sum('band')\n",
    "                \n",
    "    df = ds.to_dataframe()\n",
    "    df = df.set_index('level', append=True)               \n",
    "    return df\n",
    "\n",
    "\n",
    "def tbdata_flux():\n",
    "    '''\n",
    "    Define the flux data to be tabulated for\n",
    "    the g-intervals.  Add/remove entries in the\n",
    "    `tbs` list.\n",
    "    \n",
    "    Parameters\n",
    "    ----------\n",
    "    data: dict\n",
    "        Flux data, including how each set is to be\n",
    "        labeled in the output table.\n",
    "    '''\n",
    "    tropopauses = {'mls': 40, 'saw': 45, 'trp': 37}\n",
    "    atmpro = PARAM['atmpro']\n",
    "    ilevels = [0, tropopauses[atmpro], -1]\n",
    "    \n",
    "    benchmark = {'label': 'CRD',\n",
    "                 'df': fmt_flux(DS_FLUX_CRD, ilevels=ilevels)}\n",
    "    \n",
    "    tbs = [{'label': 'WGT igg=1',\n",
    "            'df': fmt_flux(DS_FLUX_WGT.sel(igg=[1]), ilevels=ilevels)},\n",
    "           {'label': 'WGT igg=10',\n",
    "            'df': fmt_flux(DS_FLUX_WGT.sel(igg=[10]), ilevels=ilevels)}]\n",
    "    \n",
    "    data = {'benchmark': benchmark, 'others': tbs}\n",
    "    return data\n",
    "\n",
    "\n",
    "\n",
    "def tbdata_flux_sumg():\n",
    "    '''\n",
    "    Define the total flux data, over all g-intervals,\n",
    "    to be tabulated.\n",
    "    \n",
    "    Parameters\n",
    "    ----------\n",
    "    data: dict\n",
    "        Flux data, including how each set is to e\n",
    "        labeled in the output table.\n",
    "    '''\n",
    "    tropopauses = {'mls': 40, 'saw': 45, 'trp': 37}\n",
    "    \n",
    "    atmpro = PARAM['atmpro']\n",
    "    ilevels = [0, tropopauses[atmpro], -1]\n",
    "    \n",
    "    benchmark = {'label': 'CRD',\n",
    "                 'df': fmt_flux(DS_FLUX_CRD.sum('g'), ilevels=ilevels)}\n",
    "    \n",
    "    tbs = [{'label': 'WGT igg=1',\n",
    "            'df': fmt_flux(DS_FLUX_WGT.sel(igg=[1]).sum('g'), \n",
    "                           ilevels=ilevels)},\n",
    "           {'label': 'WGT igg=10',\n",
    "            'df': fmt_flux(DS_FLUX_WGT.sel(igg=[10]).sum('g'), \n",
    "                           ilevels=ilevels)}]\n",
    "    \n",
    "    data = {'benchmark': benchmark, 'others': tbs}\n",
    "    return data\n",
    "\n",
    "\n",
    "def tb_flux(tbdata=None):\n",
    "    '''\n",
    "    Display flux table for each set, and display\n",
    "    the difference between each set and the set\n",
    "    that is specified to be the benchmark.\n",
    "    \n",
    "    Parameters\n",
    "    ----------\n",
    "    tbdata: dict\n",
    "        Flux data, including how each set it to be\n",
    "        labeled in the output table.\n",
    "    '''\n",
    "    benchmark = tbdata['benchmark']\n",
    "    others = tbdata['others']\n",
    "    \n",
    "    def show_tb(d=None):\n",
    "        display.display(d['df'])\n",
    "        display.display(display.Markdown(\n",
    "            f\"*TABLE.* Fluxes. {d['label']}\"))\n",
    "        \n",
    "    def show_tbdiff(d0=None, d=None):\n",
    "        df = d['df']\n",
    "        df.index = d0['df'].index\n",
    "        display.display(df - d0['df'])\n",
    "        display.display(display.Markdown(\n",
    "            f\"*TABLE.* Fluxes. ({d['label']}) - ({d0['label']})\"))\n",
    "        \n",
    "    show_tb(benchmark)\n",
    "    for d in others:\n",
    "        show_tb(d)\n",
    "        \n",
    "    for d in others:\n",
    "        show_tbdiff(d=d, d0=benchmark)\n",
    "        \n",
    "\n",
    "        \n",
    "def script_tb_flux():\n",
    "    '''\n",
    "    Script to display the flux tables in \n",
    "    each g-interval, and the flux table\n",
    "    for the total flux, over all g-intervals.\n",
    "    '''\n",
    "    tb_flux(tbdata=tbdata_flux())\n",
    "    tb_flux(tbdata=tbdata_flux_sumg())\n"
   ]
  },
  {
   "cell_type": "code",
   "execution_count": 8,
   "metadata": {
    "collapsed": true
   },
   "outputs": [],
   "source": [
    "def script_gsummary():\n",
    "    '''\n",
    "    Script to display how the g-intervals\n",
    "    are defined according the hyperparameters\n",
    "    chosen for this lblnew-bestfit run.\n",
    "    '''\n",
    "    ng_refs = PARAM['ng_refs']\n",
    "    p_refs = list(zip(*PARAM['ref_pts']))[0]\n",
    "    ng = sum(ng_refs)\n",
    "    df_abscom = pd.read_csv(io.StringIO(DOC['abscom']), \n",
    "                            sep=r'\\s+', index_col=[0])\n",
    "    df_dgdgs = pd.read_csv(io.StringIO(DOC['dgdgs']), \n",
    "                            sep=r'\\s+', index_col=[0])\n",
    "    \n",
    "    # absth(g + 1) / absth(g)\n",
    "    df_abscom_copy = df_abscom.copy()\n",
    "    df_abscom_copy.index = df_abscom.index + 1\n",
    "    df_absratio = df_abscom / df_abscom_copy\n",
    "    df_absratio.columns = ['k(ig) / k(ig - 1)']\n",
    "    df_absratio = df_absratio.loc[: ng]    \n",
    "    \n",
    "    df_dgdgs_cumsum = df_dgdgs.cumsum(axis=0)\n",
    "    df_dgdgs_cumsum.columns = ['dg cumsum', 'dgs cumsum']\n",
    "    \n",
    "    data_pref = np.concatenate([p_ref * np.ones((ng_ref,)) \n",
    "                                for ng_ref, p_ref \n",
    "                                in zip(ng_refs, p_refs)], axis=0)\n",
    "    df_pref = pd.DataFrame(data_pref, \n",
    "                           index=df_dgdgs.index, columns=['pref'])\n",
    "    \n",
    "    df_all = pd.concat([df_abscom, df_absratio,\n",
    "                        df_dgdgs, df_dgdgs_cumsum,\n",
    "                        df_pref], axis=1) \n",
    "    \n",
    "    display.display(df_all)\n",
    "    display.display(display.Markdown(\n",
    "        (f\"TABLE. g-interval summary.  \"\n",
    "         f\"*abscom* is the lower bound of the g-interval.\")))\n",
    "    \n"
   ]
  },
  {
   "cell_type": "code",
   "execution_count": 9,
   "metadata": {
    "collapsed": true
   },
   "outputs": [],
   "source": [
    "def script_flux_to_excel():\n",
    "    '''\n",
    "    Script to save the lblnew-bestfit run's\n",
    "    output flux to excel file and display the\n",
    "    link to download the excel file.\n",
    "    '''\n",
    "    fname = 'lblnew-bestfit_flux.xlsx'\n",
    "    writer = pd.ExcelWriter(fname)\n",
    "    \n",
    "    ds = DS_FLUX_CRD\n",
    "    for g in ds.coords['g']:\n",
    "        df = ds.sel(g=g).to_dataframe()\n",
    "        df.to_excel(writer, f'crd flux g={int(g)}')\n",
    "                \n",
    "    ds = DS_FLUX_WGT\n",
    "    for g in ds.coords['g']:\n",
    "        df = ds.sel(g=g, igg=1).to_dataframe()\n",
    "        df.to_excel(writer, f'wgt igg=1 flux g={int(g)}')\n",
    "        \n",
    "        df = ds.sel(g=g, igg=10).to_dataframe()\n",
    "        df.to_excel(writer, f'wgt igg=10 flux g={int(g)}')\n",
    "        \n",
    "    writer.save()    \n",
    "    html_download = f'Download: <a href=\"./{fname}\">{fname}</a>'\n",
    "    display.display(display.HTML(html_download))\n",
    "\n",
    "\n",
    "def script_cool_to_excel():\n",
    "    '''\n",
    "    Script to save the lblnew-bestfit run's\n",
    "    output cooling rate to excel file and display\n",
    "    the link to download the excel file.\n",
    "    '''\n",
    "    fname = 'lblnew-bestfit_cool.xlsx'\n",
    "    writer = pd.ExcelWriter(fname)\n",
    "    \n",
    "    ds = DS_COOL_CRD\n",
    "    for g in ds.coords['g']:\n",
    "        df = ds.sel(g=g).to_dataframe()\n",
    "        df.to_excel(writer, f'crd cool g={int(g)}')\n",
    "        \n",
    "    ds = DS_COOL_WGT\n",
    "    for g in ds.coords['g']:\n",
    "        df = ds.sel(g=g, igg=1).to_dataframe()\n",
    "        df.to_excel(writer, f'wgt igg=1 cool g={int(g)}')\n",
    "        \n",
    "        df = ds.sel(g=g, igg=10).to_dataframe()\n",
    "        df.to_excel(writer, f'wgt igg=10 cool g={int(g)}')\n",
    "        \n",
    "    writer.save()\n",
    "    html_download = f'Download: <a href=\"./{fname}\">{fname}</a>'\n",
    "    display.display(display.HTML(html_download))"
   ]
  },
  {
   "cell_type": "code",
   "execution_count": 10,
   "metadata": {
    "collapsed": true
   },
   "outputs": [],
   "source": [
    "def show_html(s):\n",
    "    display.display(display.HTML(s))\n",
    "\n",
    "    \n",
    "def show_markdown(s):\n",
    "    display.display(display.Markdown(s))"
   ]
  },
  {
   "cell_type": "code",
   "execution_count": 11,
   "metadata": {
    "collapsed": true
   },
   "outputs": [],
   "source": [
    "def script():\n",
    "    title = ('### lblnew-bestfit' \n",
    "             if 'ng_refs' in PARAM else '### lblnew-overlap')\n",
    "    s_input = 'Input Parameters'\n",
    "    s_plt_cool = 'Cooling Rate Profiles'\n",
    "    s_tb_flux = 'Flux Comparison'\n",
    "    s_gsummary = 'g-interval Summary'\n",
    "    s_download = 'Download Data'\n",
    "    \n",
    "    # title\n",
    "    show_markdown(title)\n",
    "    \n",
    "    # TOC\n",
    "    show_markdown('### Table of Contents')\n",
    "    show_html(climahtml.getHTML_hrefanchor(s_input))\n",
    "    show_html(climahtml.getHTML_hrefanchor(s_plt_cool))\n",
    "    show_html(climahtml.getHTML_hrefanchor(s_tb_flux))\n",
    "    show_html(climahtml.getHTML_hrefanchor(s_gsummary))\n",
    "    show_html(climahtml.getHTML_hrefanchor(s_download))\n",
    "    \n",
    "    # Input parameters\n",
    "    show_html(climahtml.getHTML_idanchor(s_input))\n",
    "    show_markdown(climahtml.getMarkdown_sectitle(s_input))\n",
    "    print_input_param()\n",
    "    \n",
    "    # Cooling rate profiles\n",
    "    show_html(climahtml.getHTML_idanchor(s_plt_cool))\n",
    "    show_markdown(climahtml.getMarkdown_sectitle(s_plt_cool))\n",
    "    script_plt_cool()\n",
    "    \n",
    "    # Flux comparison\n",
    "    show_html(climahtml.getHTML_idanchor(s_tb_flux))\n",
    "    show_markdown(climahtml.getMarkdown_sectitle(s_tb_flux))\n",
    "    script_tb_flux()\n",
    "    \n",
    "    # g-interval summary\n",
    "    show_html(climahtml.getHTML_idanchor(s_gsummary))\n",
    "    show_markdown(climahtml.getMarkdown_sectitle(s_gsummary))\n",
    "    script_gsummary()\n",
    "    \n",
    "    # Download cooling rate and fluxes\n",
    "    show_html(climahtml.getHTML_idanchor(s_download))\n",
    "    show_markdown(climahtml.getMarkdown_sectitle(s_download))\n",
    "    script_flux_to_excel()\n",
    "    script_cool_to_excel()"
   ]
  },
  {
   "cell_type": "code",
   "execution_count": 12,
   "metadata": {
    "collapsed": true
   },
   "outputs": [],
   "source": [
    "%run param.py\n",
    "\n",
    "client = pymongo.MongoClient('localhost', 27017, connect=False)\n",
    "db = client.lblnew\n",
    "\n",
    "\n",
    "DOC = db.bestfit_lw.find_one(make_query(param=PARAM))\n",
    "DS_FLUX_CRD = load_output_file(io.StringIO(DOC['output_fluxg']))\n",
    "DS_COOL_CRD = load_output_file(io.StringIO(DOC['output_coolrg']))\n",
    "DS_FLUX_WGT = load_output_file(io.StringIO(DOC['output_wfluxg']))\n",
    "DS_COOL_WGT = load_output_file(io.StringIO(DOC['output_wcoolrg']))"
   ]
  },
  {
   "cell_type": "code",
   "execution_count": 13,
   "metadata": {
    "scrolled": false
   },
   "outputs": [
    {
     "data": {
      "text/markdown": [
       "### lblnew-bestfit"
      ],
      "text/plain": [
       "<IPython.core.display.Markdown object>"
      ]
     },
     "metadata": {},
     "output_type": "display_data"
    },
    {
     "data": {
      "text/markdown": [
       "### Table of Contents"
      ],
      "text/plain": [
       "<IPython.core.display.Markdown object>"
      ]
     },
     "metadata": {},
     "output_type": "display_data"
    },
    {
     "data": {
      "text/html": [
       "<a href=\"#Input_Parameters\">Input Parameters</a>"
      ],
      "text/plain": [
       "<IPython.core.display.HTML object>"
      ]
     },
     "metadata": {},
     "output_type": "display_data"
    },
    {
     "data": {
      "text/html": [
       "<a href=\"#Cooling_Rate_Profiles\">Cooling Rate Profiles</a>"
      ],
      "text/plain": [
       "<IPython.core.display.HTML object>"
      ]
     },
     "metadata": {},
     "output_type": "display_data"
    },
    {
     "data": {
      "text/html": [
       "<a href=\"#Flux_Comparison\">Flux Comparison</a>"
      ],
      "text/plain": [
       "<IPython.core.display.HTML object>"
      ]
     },
     "metadata": {},
     "output_type": "display_data"
    },
    {
     "data": {
      "text/html": [
       "<a href=\"#g-interval_Summary\">g-interval Summary</a>"
      ],
      "text/plain": [
       "<IPython.core.display.HTML object>"
      ]
     },
     "metadata": {},
     "output_type": "display_data"
    },
    {
     "data": {
      "text/html": [
       "<a href=\"#Download_Data\">Download Data</a>"
      ],
      "text/plain": [
       "<IPython.core.display.HTML object>"
      ]
     },
     "metadata": {},
     "output_type": "display_data"
    },
    {
     "data": {
      "text/html": [
       "<a id=\"Input_Parameters\"></a>"
      ],
      "text/plain": [
       "<IPython.core.display.HTML object>"
      ]
     },
     "metadata": {},
     "output_type": "display_data"
    },
    {
     "data": {
      "text/markdown": [
       "# Input Parameters"
      ],
      "text/plain": [
       "<IPython.core.display.Markdown object>"
      ]
     },
     "metadata": {},
     "output_type": "display_data"
    },
    {
     "data": {
      "text/html": [
       "<div>\n",
       "<style scoped>\n",
       "    .dataframe tbody tr th:only-of-type {\n",
       "        vertical-align: middle;\n",
       "    }\n",
       "\n",
       "    .dataframe tbody tr th {\n",
       "        vertical-align: top;\n",
       "    }\n",
       "\n",
       "    .dataframe thead th {\n",
       "        text-align: right;\n",
       "    }\n",
       "</style>\n",
       "<table border=\"1\" class=\"dataframe\">\n",
       "  <thead>\n",
       "    <tr style=\"text-align: right;\">\n",
       "      <th>Run</th>\n",
       "      <th>lblnew</th>\n",
       "    </tr>\n",
       "    <tr>\n",
       "      <th>Input parameter</th>\n",
       "      <th></th>\n",
       "    </tr>\n",
       "  </thead>\n",
       "  <tbody>\n",
       "    <tr>\n",
       "      <th>atmpro</th>\n",
       "      <td>mls</td>\n",
       "    </tr>\n",
       "    <tr>\n",
       "      <th>band</th>\n",
       "      <td>4</td>\n",
       "    </tr>\n",
       "    <tr>\n",
       "      <th>commitnumber</th>\n",
       "      <td>a06b618</td>\n",
       "    </tr>\n",
       "    <tr>\n",
       "      <th>conc</th>\n",
       "      <td>None</td>\n",
       "    </tr>\n",
       "    <tr>\n",
       "      <th>dv</th>\n",
       "      <td>0.001</td>\n",
       "    </tr>\n",
       "    <tr>\n",
       "      <th>klin</th>\n",
       "      <td>1e-24</td>\n",
       "    </tr>\n",
       "    <tr>\n",
       "      <th>molecule</th>\n",
       "      <td>h2o</td>\n",
       "    </tr>\n",
       "    <tr>\n",
       "      <th>ng_adju</th>\n",
       "      <td>[0]</td>\n",
       "    </tr>\n",
       "    <tr>\n",
       "      <th>ng_refs</th>\n",
       "      <td>[3]</td>\n",
       "    </tr>\n",
       "    <tr>\n",
       "      <th>nv</th>\n",
       "      <td>1000</td>\n",
       "    </tr>\n",
       "    <tr>\n",
       "      <th>option_compute_btable</th>\n",
       "      <td>0</td>\n",
       "    </tr>\n",
       "    <tr>\n",
       "      <th>option_compute_ktable</th>\n",
       "      <td>1</td>\n",
       "    </tr>\n",
       "    <tr>\n",
       "      <th>option_wgt_flux</th>\n",
       "      <td>1</td>\n",
       "    </tr>\n",
       "    <tr>\n",
       "      <th>option_wgt_k</th>\n",
       "      <td>1</td>\n",
       "    </tr>\n",
       "    <tr>\n",
       "      <th>ref_pts</th>\n",
       "      <td>[[600, 250]]</td>\n",
       "    </tr>\n",
       "    <tr>\n",
       "      <th>tsfc</th>\n",
       "      <td>294</td>\n",
       "    </tr>\n",
       "    <tr>\n",
       "      <th>vmax</th>\n",
       "      <td>980</td>\n",
       "    </tr>\n",
       "    <tr>\n",
       "      <th>vmin</th>\n",
       "      <td>800</td>\n",
       "    </tr>\n",
       "    <tr>\n",
       "      <th>w_diffuse</th>\n",
       "      <td>[[1.66, 1.66, 1.85]]</td>\n",
       "    </tr>\n",
       "    <tr>\n",
       "      <th>wgt</th>\n",
       "      <td>[[0.5, 0.55, 0.85]]</td>\n",
       "    </tr>\n",
       "  </tbody>\n",
       "</table>\n",
       "</div>"
      ],
      "text/plain": [
       "Run                                  lblnew\n",
       "Input parameter                            \n",
       "atmpro                 mls                 \n",
       "band                   4                   \n",
       "commitnumber           a06b618             \n",
       "conc                   None                \n",
       "dv                     0.001               \n",
       "klin                   1e-24               \n",
       "molecule               h2o                 \n",
       "ng_adju                [0]                 \n",
       "ng_refs                [3]                 \n",
       "nv                     1000                \n",
       "option_compute_btable  0                   \n",
       "option_compute_ktable  1                   \n",
       "option_wgt_flux        1                   \n",
       "option_wgt_k           1                   \n",
       "ref_pts                [[600, 250]]        \n",
       "tsfc                   294                 \n",
       "vmax                   980                 \n",
       "vmin                   800                 \n",
       "w_diffuse              [[1.66, 1.66, 1.85]]\n",
       "wgt                    [[0.5, 0.55, 0.85]] "
      ]
     },
     "metadata": {},
     "output_type": "display_data"
    },
    {
     "data": {
      "text/html": [
       "<a id=\"Cooling_Rate_Profiles\"></a>"
      ],
      "text/plain": [
       "<IPython.core.display.HTML object>"
      ]
     },
     "metadata": {},
     "output_type": "display_data"
    },
    {
     "data": {
      "text/markdown": [
       "# Cooling Rate Profiles"
      ],
      "text/plain": [
       "<IPython.core.display.Markdown object>"
      ]
     },
     "metadata": {},
     "output_type": "display_data"
    },
    {
     "data": {
      "text/html": [
       "\n",
       "<div class=\"bk-root\">\n",
       "    <div class=\"bk-plotdiv\" id=\"7eb9a9ab-d85c-4025-b69d-8102ad196c40\"></div>\n",
       "</div>"
      ]
     },
     "metadata": {},
     "output_type": "display_data"
    },
    {
     "data": {
      "application/javascript": [
       "(function(root) {\n",
       "  function embed_document(root) {\n",
       "    \n",
       "  var docs_json = {\"6134db13-ff7c-4260-8374-a0ceeb4b4652\":{\"roots\":{\"references\":[{\"attributes\":{\"line_alpha\":0.1,\"line_color\":\"#1f77b4\",\"line_width\":2,\"x\":{\"field\":\"x\"},\"y\":{\"field\":\"y\"}},\"id\":\"f989cb08-f406-41bc-b5bd-0c5d49387405\",\"type\":\"Line\"},{\"attributes\":{\"data_source\":{\"id\":\"0e4c52d3-e6c2-4882-9628-eeac89b40136\",\"type\":\"ColumnDataSource\"},\"glyph\":{\"id\":\"1628690e-1b01-4f3a-9639-5bd315875318\",\"type\":\"Line\"},\"hover_glyph\":null,\"muted_glyph\":null,\"nonselection_glyph\":{\"id\":\"f989cb08-f406-41bc-b5bd-0c5d49387405\",\"type\":\"Line\"},\"selection_glyph\":null,\"view\":{\"id\":\"d13a0fb6-b752-48cb-a102-12a2f0383a04\",\"type\":\"CDSView\"}},\"id\":\"e23d00c4-069f-4618-b681-395038053ccd\",\"type\":\"GlyphRenderer\"},{\"attributes\":{\"source\":{\"id\":\"0e4c52d3-e6c2-4882-9628-eeac89b40136\",\"type\":\"ColumnDataSource\"}},\"id\":\"d13a0fb6-b752-48cb-a102-12a2f0383a04\",\"type\":\"CDSView\"},{\"attributes\":{\"plot\":{\"id\":\"6fdcb45e-36bd-40c0-a410-32d1092481ed\",\"subtype\":\"Figure\",\"type\":\"Plot\"},\"ticker\":{\"id\":\"28bd4102-176b-48a4-8434-33584a872c09\",\"type\":\"BasicTicker\"}},\"id\":\"1b15d0fa-0e15-4cde-8f84-e8025488e3ff\",\"type\":\"Grid\"},{\"attributes\":{\"line_alpha\":0.3,\"line_color\":\"#377eb8\",\"line_width\":2,\"x\":{\"field\":\"x\"},\"y\":{\"field\":\"y\"}},\"id\":\"1628690e-1b01-4f3a-9639-5bd315875318\",\"type\":\"Line\"},{\"attributes\":{\"source\":{\"id\":\"137bb071-0e34-40b3-9bd6-832289c5e1f7\",\"type\":\"ColumnDataSource\"}},\"id\":\"ecd7d1ca-be5a-4ac5-bcad-88c30853355b\",\"type\":\"CDSView\"},{\"attributes\":{},\"id\":\"28bd4102-176b-48a4-8434-33584a872c09\",\"type\":\"BasicTicker\"},{\"attributes\":{\"callback\":null,\"data\":{\"x\":{\"__ndarray__\":\"D1oYsF4k3L7dpeO3kCjcvvkmXcFRL9y+q0oPiE8z3L40h9m34zPcvp8dqjXuMNy++st8/kUq3L7LrOM0yR/cvnjbtftNEdy+fSfE4LT+2751j+8E2ufbvnZTEv2dzNu+clDkB9+s276iG4aB44XbvqkSMK1d7dq+0BUtDcAg2L7zDYGJ6izQvsno2efNjo2+Epp7q0Qo2T6MYWk5ZcvwPnRikrTyhQA/KKy/siCjDD9eUKDnwf4UP38WSwmHoxU/r+6aEyw/ED+ImJkA85oFP7SP3LSoifo+ok8Baxxe7T5V6DnJPOvaPi02WYE6VbY+FO14GJqjwr4usf73LXbTviBGlrqIb9m+tLRNpKzw3L6URECY8ZjfvgjfTIjP1OC+RgL1o4Js4b4JoBvOALnhvndF7X1Z8+G+9uQoy1S64r4Z6G2RLq/rvsC0GQv8UAC/N1kF2xgcDb/2k7t6x3wSv5pr6ynIjgO/EMDoSDMaGT8s6utvhGI2P/xsYMukL0g/aVTSXhPGVT99+/rmZalhP1dTqqSUp2o/hu7zz3ykcj/0VopREc94Px+eJu0t8H8/mQJr95j4gz8Ia92ytVGIP90xfBFb5Iw/BK3KAkl/kT+shMERsXyUP+SCh/eJ9JY/RW0EqsuemD8xmJl7Qz+ZP2rRTEHIw5g/BURbqt9Alz/rK6A0+u+UP+IhkViAJpI/gmc72d9vjj81M8iXL7OIP9FYywLFRoM/Ih9dLNHAfD8Q6tll3LF0P+3L0Zdp8W0/7/HwhPjlZz+oubJOkO1oP9eyxw/GpHM/\",\"dtype\":\"float64\",\"shape\":[75]},\"y\":{\"__ndarray__\":\"GhExyth1ND/Sv8nbtpRIP2vylNV0PVE/aTum7souWD/At0SJ8fVgPw3Iuahxymc/MSNhhJWvcD/bTfBN02d3P2zb5nxnaoA/CD5h5MAGhz8NmeH1TyaQP+zrCsc9p5Y/LbKd76fGnz/bLW5ISEmmPww9YvTcQq8/JV2OstnstT8Er5Y7M8G+P0c+r3jqkcU/5h99k6ZBzj88bCIzFzjVP4enV8oyxN0//yH99nXg5D8qOpLLf0jtP5kqGJXUifQ/c9cS8kHP/D+/DpwzojQEQIEmwoanVwxA4lgXt9HgE0BSSZ2AJuIbQAMJih9jjiNA5q4l5INuK0AwTKYKRj0zQNv5fmq8/DpAaCJseHrtQkB/+zpwzoxKQM3MzMzMeFJAZmZmZmZqWEAAAAAAAFxeQM3MzMzMJmJAmpmZmZkfZUBmZmZmZhhoQDMzMzMzEWtAAAAAAAAKbkBmZmZmZoFwQM3MzMzM/XFAMzMzMzN6c0CamZmZmfZ0QAAAAAAAc3ZAZmZmZmbvd0DNzMzMzGt5QDMzMzMz6HpAmpmZmZlkfEAAAAAAAOF9QGZmZmZmXX9AZmZmZuZsgECamZmZGSuBQM3MzMxM6YFAAAAAAICngkAzMzMzs2WDQGZmZmbmI4RAmpmZmRnihEDNzMzMTKCFQAAAAACAXoZAMzMzM7Mch0BmZmZm5tqHQJqZmZkZmYhAzczMzExXiUAAAAAAgBWKQDMzMzOz04pAZmZmZuaRi0CamZmZGVCMQM3MzMxMDo1AAAAAAIDMjUAzMzMzs4qOQGZmZmbmSI9A\",\"dtype\":\"float64\",\"shape\":[75]}},\"selected\":{\"id\":\"145f6494-be6b-4b25-8dc0-39c4baa89909\",\"type\":\"Selection\"},\"selection_policy\":{\"id\":\"3913d0f9-438b-4861-82ac-27961099ee30\",\"type\":\"UnionRenderers\"}},\"id\":\"0e4c52d3-e6c2-4882-9628-eeac89b40136\",\"type\":\"ColumnDataSource\"},{\"attributes\":{\"active_drag\":\"auto\",\"active_inspect\":\"auto\",\"active_scroll\":\"auto\",\"active_tap\":\"auto\",\"tools\":[{\"id\":\"2efdf673-0ddc-45a0-b95f-2d77c322e843\",\"type\":\"PanTool\"},{\"id\":\"1a9570bb-c7a1-4805-97d7-776be6124aba\",\"type\":\"WheelZoomTool\"},{\"id\":\"b4261c82-92e5-4082-ada6-e61ed20d323f\",\"type\":\"BoxZoomTool\"},{\"id\":\"8524111c-ebc5-4fb4-898a-6ed2a25cd618\",\"type\":\"SaveTool\"},{\"id\":\"da884ced-d3d3-4db3-8911-beffabf7511f\",\"type\":\"ResetTool\"},{\"id\":\"3e4921f6-c494-4056-98ec-77c86970dbe4\",\"type\":\"HelpTool\"}]},\"id\":\"a5177dbd-07de-44f7-a23a-b300618f451a\",\"type\":\"Toolbar\"},{\"attributes\":{\"label\":{\"value\":\"CRD\"},\"renderers\":[{\"id\":\"9197c28c-c7ba-4487-a123-66a01091b7cc\",\"type\":\"GlyphRenderer\"},{\"id\":\"49123ff8-336a-471d-9493-5c1bf211fa0f\",\"type\":\"GlyphRenderer\"}]},\"id\":\"aa49c498-24de-4ddb-8ef1-ca621124f81c\",\"type\":\"LegendItem\"},{\"attributes\":{\"callback\":null,\"end\":0.00022723105445,\"start\":-1.558141945e-05},\"id\":\"2dc1c65f-39a2-46c7-85f9-f4923d010d8a\",\"type\":\"Range1d\"},{\"attributes\":{\"label\":{\"value\":\"WGT igg=10\"},\"renderers\":[{\"id\":\"02750d18-9539-41e0-b2d6-efae02ae153b\",\"type\":\"GlyphRenderer\"},{\"id\":\"e23d00c4-069f-4618-b681-395038053ccd\",\"type\":\"GlyphRenderer\"}]},\"id\":\"db14e912-5473-4dc3-afae-c8b9ff125ad9\",\"type\":\"LegendItem\"},{\"attributes\":{\"axis_label\":\"cooling rate [K/day]\",\"formatter\":{\"id\":\"cc14d460-434f-4ada-ba61-a4449e8f39a1\",\"type\":\"BasicTickFormatter\"},\"plot\":{\"id\":\"6fdcb45e-36bd-40c0-a410-32d1092481ed\",\"subtype\":\"Figure\",\"type\":\"Plot\"},\"ticker\":{\"id\":\"28bd4102-176b-48a4-8434-33584a872c09\",\"type\":\"BasicTicker\"}},\"id\":\"4e8cba15-4495-4869-a92f-d89f915775a5\",\"type\":\"LinearAxis\"},{\"attributes\":{\"label\":{\"value\":\"WGT igg=1\"},\"renderers\":[{\"id\":\"0a8fbd56-223f-4658-aa47-01fca2e35e55\",\"type\":\"GlyphRenderer\"},{\"id\":\"27cf7854-f37f-4346-ae52-9a1527343e53\",\"type\":\"GlyphRenderer\"}]},\"id\":\"bdb68948-23d4-4f34-b569-905b7d1f53bd\",\"type\":\"LegendItem\"},{\"attributes\":{\"items\":[{\"id\":\"83a3eeeb-7514-43bc-8ec2-54a05d1ec8c8\",\"type\":\"LegendItem\"},{\"id\":\"a1581338-e134-4ed9-ad8f-18c811bce986\",\"type\":\"LegendItem\"},{\"id\":\"e871eb9e-7876-4378-b7ad-22597e3b3959\",\"type\":\"LegendItem\"}],\"label_text_font_size\":{\"value\":\"8pt\"},\"location\":\"top_center\",\"orientation\":\"horizontal\",\"plot\":{\"id\":\"6fdcb45e-36bd-40c0-a410-32d1092481ed\",\"subtype\":\"Figure\",\"type\":\"Plot\"}},\"id\":\"82db1ad7-2d59-4618-97aa-504adae6ac95\",\"type\":\"Legend\"},{\"attributes\":{},\"id\":\"4c1b0d4e-8f9c-422d-81b1-acaf108c5374\",\"type\":\"LinearScale\"},{\"attributes\":{},\"id\":\"8a337420-ec47-4f09-9cbc-927b10ded3e5\",\"type\":\"LogScale\"},{\"attributes\":{\"axis_label\":\"pressure [mb]\",\"formatter\":{\"id\":\"b5076245-ffd9-43ea-8641-0090d63bf94b\",\"type\":\"LogTickFormatter\"},\"plot\":{\"id\":\"6fdcb45e-36bd-40c0-a410-32d1092481ed\",\"subtype\":\"Figure\",\"type\":\"Plot\"},\"ticker\":{\"id\":\"2a8f7b69-3ee6-4da4-ad24-a45af05f4016\",\"type\":\"LogTicker\"}},\"id\":\"9e286bb4-4916-4f2d-bbb7-e0cfdd0c035c\",\"type\":\"LogAxis\"},{\"attributes\":{\"num_minor_ticks\":10},\"id\":\"2a8f7b69-3ee6-4da4-ad24-a45af05f4016\",\"type\":\"LogTicker\"},{\"attributes\":{\"dimension\":1,\"plot\":{\"id\":\"6fdcb45e-36bd-40c0-a410-32d1092481ed\",\"subtype\":\"Figure\",\"type\":\"Plot\"},\"ticker\":{\"id\":\"2a8f7b69-3ee6-4da4-ad24-a45af05f4016\",\"type\":\"LogTicker\"}},\"id\":\"610a0606-7dd9-46a5-a765-63bbb226e2a8\",\"type\":\"Grid\"},{\"attributes\":{\"plot\":null,\"text\":\"\"},\"id\":\"b8ca4fea-d049-4db4-abbf-e2b2adb1f2a6\",\"type\":\"Title\"},{\"attributes\":{\"bottom_units\":\"screen\",\"fill_alpha\":{\"value\":0.5},\"fill_color\":{\"value\":\"lightgrey\"},\"left_units\":\"screen\",\"level\":\"overlay\",\"line_alpha\":{\"value\":1.0},\"line_color\":{\"value\":\"black\"},\"line_dash\":[4,4],\"line_width\":{\"value\":2},\"plot\":null,\"render_mode\":\"css\",\"right_units\":\"screen\",\"top_units\":\"screen\"},\"id\":\"26cd18a7-c46a-435c-ae82-f24d55fddbc8\",\"type\":\"BoxAnnotation\"},{\"attributes\":{},\"id\":\"2efdf673-0ddc-45a0-b95f-2d77c322e843\",\"type\":\"PanTool\"},{\"attributes\":{},\"id\":\"1a9570bb-c7a1-4805-97d7-776be6124aba\",\"type\":\"WheelZoomTool\"},{\"attributes\":{\"overlay\":{\"id\":\"26cd18a7-c46a-435c-ae82-f24d55fddbc8\",\"type\":\"BoxAnnotation\"}},\"id\":\"b4261c82-92e5-4082-ada6-e61ed20d323f\",\"type\":\"BoxZoomTool\"},{\"attributes\":{},\"id\":\"8524111c-ebc5-4fb4-898a-6ed2a25cd618\",\"type\":\"SaveTool\"},{\"attributes\":{},\"id\":\"da884ced-d3d3-4db3-8911-beffabf7511f\",\"type\":\"ResetTool\"},{\"attributes\":{},\"id\":\"3e4921f6-c494-4056-98ec-77c86970dbe4\",\"type\":\"HelpTool\"},{\"attributes\":{\"source\":{\"id\":\"b4d5888c-cfbe-40bb-8bd8-c2350eca8e5e\",\"type\":\"ColumnDataSource\"}},\"id\":\"30a34112-e938-4fc4-b858-d5ab93474445\",\"type\":\"CDSView\"},{\"attributes\":{\"callback\":null,\"end\":0.01,\"start\":1020},\"id\":\"d65c15c9-2a8f-43f8-98fd-7fa42faf9a2f\",\"type\":\"Range1d\"},{\"attributes\":{\"data_source\":{\"id\":\"b4d5888c-cfbe-40bb-8bd8-c2350eca8e5e\",\"type\":\"ColumnDataSource\"},\"glyph\":{\"id\":\"58ad35f8-3e65-497e-ba8b-eb5407ba790e\",\"type\":\"Circle\"},\"hover_glyph\":null,\"muted_glyph\":null,\"nonselection_glyph\":{\"id\":\"e50ed05b-f0a3-4641-ab5d-fd3c867a8e38\",\"type\":\"Circle\"},\"selection_glyph\":null,\"view\":{\"id\":\"30a34112-e938-4fc4-b858-d5ab93474445\",\"type\":\"CDSView\"}},\"id\":\"446cf3dc-d750-4c86-9b60-77df90748fc5\",\"type\":\"GlyphRenderer\"},{\"attributes\":{\"fill_alpha\":{\"value\":0.7},\"fill_color\":{\"value\":\"#4daf4a\"},\"line_alpha\":{\"value\":0.7},\"line_color\":{\"value\":\"#4daf4a\"},\"x\":{\"field\":\"x\"},\"y\":{\"field\":\"y\"}},\"id\":\"b1d4d300-429a-4fb4-bacf-1f7776ba4468\",\"type\":\"Circle\"},{\"attributes\":{\"callback\":null,\"data\":{\"x\":{\"__ndarray__\":\"h1OpFYVg4r5kHgGWHUvivsJqyyevGeK+wIS6K4fg4b470cXA3qHhvpn+P48VXuG+vpRNeBMV4b5Y43Mzesbgvs/10WPwceC+rIF/bH8X4L7Ar9TYw23fvruurzhdn96+u1R5QGnD3b6yzxRDq8ncvgqbpFyEidm+0A7AA/Uxy75n9u7bELfLPkBJlfYwH+4+npgnWPG4AD9zm54QAc0OPwilvaPt5Rk/yX4sj0+NJD8lkCoHGMAsP8HBe267eC0/21u16d7GJj9TfNqA5eUfP7/vlhKcQxU/tOdqCLEgCz+ZIuFW85IAP3tvZMD8u/I+Fx0uxTUE4T4q9ppE7H22PqirgCzjMca+PXeXYEpj1L6+KnZv7+ravnr9n/tsad++3yYWqNSd4L7Z43E8isDgviriUHfS0+C+cTh2Gnsm4b6TE01u5Q7nvsNW+OWH7vS+bg3rOsN18L6rpYrRD0oEPzTnwrivQSs/dOXgT9VIQD/3lWWc0gpOP1dL6BR+zlg/WzU70iH3Yj+VeXIo305rPzrpVdJ+s3I/OMee1I4PeD+dr1qcX7t9Pz1v+mFq5YE/T74LIQgMhT+ENS4ZUDqIPzwwKvDoW4s/gQ2Sgsqfjz/M2+MVILuRP+pXmJCfJZM/MLWyOPT6kz8zCxoe7i+UP2YkSpQg0JM/QtfNq4vykj8Z/BT/K7aRP5nft8FTP5A/dPMOabRSjT+Rgz3mNvOJP3AcUO0OVIY/MPi+9JKYgj+/q7AlnEB+P9TAYlcSlXg/wUTb8H2qdD+RPHPxIEZzPwyVzipkTHg/\",\"dtype\":\"float64\",\"shape\":[75]},\"y\":{\"__ndarray__\":\"GhExyth1ND/Sv8nbtpRIP2vylNV0PVE/aTum7souWD/At0SJ8fVgPw3Iuahxymc/MSNhhJWvcD/bTfBN02d3P2zb5nxnaoA/CD5h5MAGhz8NmeH1TyaQP+zrCsc9p5Y/LbKd76fGnz/bLW5ISEmmPww9YvTcQq8/JV2OstnstT8Er5Y7M8G+P0c+r3jqkcU/5h99k6ZBzj88bCIzFzjVP4enV8oyxN0//yH99nXg5D8qOpLLf0jtP5kqGJXUifQ/c9cS8kHP/D+/DpwzojQEQIEmwoanVwxA4lgXt9HgE0BSSZ2AJuIbQAMJih9jjiNA5q4l5INuK0AwTKYKRj0zQNv5fmq8/DpAaCJseHrtQkB/+zpwzoxKQM3MzMzMeFJAZmZmZmZqWEAAAAAAAFxeQM3MzMzMJmJAmpmZmZkfZUBmZmZmZhhoQDMzMzMzEWtAAAAAAAAKbkBmZmZmZoFwQM3MzMzM/XFAMzMzMzN6c0CamZmZmfZ0QAAAAAAAc3ZAZmZmZmbvd0DNzMzMzGt5QDMzMzMz6HpAmpmZmZlkfEAAAAAAAOF9QGZmZmZmXX9AZmZmZuZsgECamZmZGSuBQM3MzMxM6YFAAAAAAICngkAzMzMzs2WDQGZmZmbmI4RAmpmZmRnihEDNzMzMTKCFQAAAAACAXoZAMzMzM7Mch0BmZmZm5tqHQJqZmZkZmYhAzczMzExXiUAAAAAAgBWKQDMzMzOz04pAZmZmZuaRi0CamZmZGVCMQM3MzMxMDo1AAAAAAIDMjUAzMzMzs4qOQGZmZmbmSI9A\",\"dtype\":\"float64\",\"shape\":[75]}},\"selected\":{\"id\":\"c6e761c1-0553-4e25-b062-69dd7a3de7f1\",\"type\":\"Selection\"},\"selection_policy\":{\"id\":\"bb960849-0876-48e2-96aa-ddbd549b2509\",\"type\":\"UnionRenderers\"}},\"id\":\"7a72edeb-05bf-4a85-89fc-e90658f75b57\",\"type\":\"ColumnDataSource\"},{\"attributes\":{\"callback\":null,\"data\":{\"x\":{\"__ndarray__\":\"h1OpFYVg4r5kHgGWHUvivsJqyyevGeK+wIS6K4fg4b470cXA3qHhvpn+P48VXuG+vpRNeBMV4b5Y43Mzesbgvs/10WPwceC+rIF/bH8X4L7Ar9TYw23fvruurzhdn96+u1R5QGnD3b6yzxRDq8ncvgqbpFyEidm+0A7AA/Uxy75n9u7bELfLPkBJlfYwH+4+npgnWPG4AD9zm54QAc0OPwilvaPt5Rk/yX4sj0+NJD8lkCoHGMAsP8HBe267eC0/21u16d7GJj9TfNqA5eUfP7/vlhKcQxU/tOdqCLEgCz+ZIuFW85IAP3tvZMD8u/I+Fx0uxTUE4T4q9ppE7H22PqirgCzjMca+PXeXYEpj1L6+KnZv7+ravnr9n/tsad++3yYWqNSd4L7Z43E8isDgviriUHfS0+C+cTh2Gnsm4b6TE01u5Q7nvsNW+OWH7vS+bg3rOsN18L6rpYrRD0oEPzTnwrivQSs/dOXgT9VIQD/3lWWc0gpOP1dL6BR+zlg/WzU70iH3Yj+VeXIo305rPzrpVdJ+s3I/OMee1I4PeD+dr1qcX7t9Pz1v+mFq5YE/T74LIQgMhT+ENS4ZUDqIPzwwKvDoW4s/gQ2Sgsqfjz/M2+MVILuRP+pXmJCfJZM/MLWyOPT6kz8zCxoe7i+UP2YkSpQg0JM/QtfNq4vykj8Z/BT/K7aRP5nft8FTP5A/dPMOabRSjT+Rgz3mNvOJP3AcUO0OVIY/MPi+9JKYgj+/q7AlnEB+P9TAYlcSlXg/wUTb8H2qdD+RPHPxIEZzPwyVzipkTHg/\",\"dtype\":\"float64\",\"shape\":[75]},\"y\":{\"__ndarray__\":\"GhExyth1ND/Sv8nbtpRIP2vylNV0PVE/aTum7souWD/At0SJ8fVgPw3Iuahxymc/MSNhhJWvcD/bTfBN02d3P2zb5nxnaoA/CD5h5MAGhz8NmeH1TyaQP+zrCsc9p5Y/LbKd76fGnz/bLW5ISEmmPww9YvTcQq8/JV2OstnstT8Er5Y7M8G+P0c+r3jqkcU/5h99k6ZBzj88bCIzFzjVP4enV8oyxN0//yH99nXg5D8qOpLLf0jtP5kqGJXUifQ/c9cS8kHP/D+/DpwzojQEQIEmwoanVwxA4lgXt9HgE0BSSZ2AJuIbQAMJih9jjiNA5q4l5INuK0AwTKYKRj0zQNv5fmq8/DpAaCJseHrtQkB/+zpwzoxKQM3MzMzMeFJAZmZmZmZqWEAAAAAAAFxeQM3MzMzMJmJAmpmZmZkfZUBmZmZmZhhoQDMzMzMzEWtAAAAAAAAKbkBmZmZmZoFwQM3MzMzM/XFAMzMzMzN6c0CamZmZmfZ0QAAAAAAAc3ZAZmZmZmbvd0DNzMzMzGt5QDMzMzMz6HpAmpmZmZlkfEAAAAAAAOF9QGZmZmZmXX9AZmZmZuZsgECamZmZGSuBQM3MzMxM6YFAAAAAAICngkAzMzMzs2WDQGZmZmbmI4RAmpmZmRnihEDNzMzMTKCFQAAAAACAXoZAMzMzM7Mch0BmZmZm5tqHQJqZmZkZmYhAzczMzExXiUAAAAAAgBWKQDMzMzOz04pAZmZmZuaRi0CamZmZGVCMQM3MzMxMDo1AAAAAAIDMjUAzMzMzs4qOQGZmZmbmSI9A\",\"dtype\":\"float64\",\"shape\":[75]}},\"selected\":{\"id\":\"f205fcf4-0d71-4732-9b7b-07ddffd847b7\",\"type\":\"Selection\"},\"selection_policy\":{\"id\":\"8da9222b-676e-440e-a614-e0b07750c826\",\"type\":\"UnionRenderers\"}},\"id\":\"b4d5888c-cfbe-40bb-8bd8-c2350eca8e5e\",\"type\":\"ColumnDataSource\"},{\"attributes\":{\"fill_alpha\":{\"value\":0.1},\"fill_color\":{\"value\":\"#1f77b4\"},\"line_alpha\":{\"value\":0.1},\"line_color\":{\"value\":\"#1f77b4\"},\"x\":{\"field\":\"x\"},\"y\":{\"field\":\"y\"}},\"id\":\"e50ed05b-f0a3-4641-ab5d-fd3c867a8e38\",\"type\":\"Circle\"},{\"attributes\":{\"fill_alpha\":{\"value\":0.7},\"fill_color\":{\"value\":\"#4daf4a\"},\"line_alpha\":{\"value\":0.7},\"line_color\":{\"value\":\"#4daf4a\"},\"x\":{\"field\":\"x\"},\"y\":{\"field\":\"y\"}},\"id\":\"58ad35f8-3e65-497e-ba8b-eb5407ba790e\",\"type\":\"Circle\"},{\"attributes\":{\"line_alpha\":0.6,\"line_color\":\"#984ea3\",\"line_width\":3,\"x\":{\"field\":\"x\"},\"y\":{\"field\":\"y\"}},\"id\":\"857c0136-e7cd-4789-874b-57364f03f036\",\"type\":\"Line\"},{\"attributes\":{\"callback\":null,\"data\":{\"x\":{\"__ndarray__\":\"NZyHmmir3b5WO6xWxajdvoVN0eCBoN2+nXlLnKWT3b5v85B6coLdvoh/iwmsbN2+CanWcjBS3b4X9SgQzDLdvtUdX05RDt2+SBPBrZDk3L7+U0inYrXcvvRp3nSXgNy+1rTATQBG3L5rgMGW9gDcvnu7TbjLBtu+iq5ZeUXn1r4nlkbWJTPIvjcU0gvr/r4+nSeMEq5z5D5KqAnSMWP3PnPc/shpxgU/HAPfJodZEj/YfWSwkIkaP7rYVJe8Uxs/OsF1LRG5FD+f0rNcVw8MPz6AX95FxAE/QzyJU37Q9D7AlbvMX7vlPuykQEdhi9A+XaSyB4q9o75ceY3zai/PvgKhRAtjbde+RtwwOxwI3L4aVFVrFYbfvhewTQeWHeG+YkdVe+nX4b6pI7WhrSbivuiyTEnbYOK+kCC7WNUW475viBrqx6PrvgLQS1Dfvf6+zF4wGPc9CL91JcICuNIEv7OBsfHajQM/Irz0G72yLT9zQ7n5l6VBP+pgf0X+oVA/IgXep3S5Wz+bdqolYUtlP03R332twW4/eNG+Tra1dD+uUznplaR6P0CxfoXmoIA/xn7ugsM2hD888Ej05vuHP+4aTV7/1os/72OklX2CkD9Skhp/R/mSPxU8qyNM85Q/dk17XLFFlj8EkEKoPs+WP22UCYBwjJY/dW99DOGOlT9OOFHRrPqTPz0on1PNApI/Nj3X4EWrjz/CO45Z1RaLP67oZ84gXIY/JrmHMV60gT9psZ1xliB7Pzt2yeHXtHQ/b3xuY1q0cD8fAiWG3/RvP0SBJM9h9XU/\",\"dtype\":\"float64\",\"shape\":[75]},\"y\":{\"__ndarray__\":\"GhExyth1ND/Sv8nbtpRIP2vylNV0PVE/aTum7souWD/At0SJ8fVgPw3Iuahxymc/MSNhhJWvcD/bTfBN02d3P2zb5nxnaoA/CD5h5MAGhz8NmeH1TyaQP+zrCsc9p5Y/LbKd76fGnz/bLW5ISEmmPww9YvTcQq8/JV2OstnstT8Er5Y7M8G+P0c+r3jqkcU/5h99k6ZBzj88bCIzFzjVP4enV8oyxN0//yH99nXg5D8qOpLLf0jtP5kqGJXUifQ/c9cS8kHP/D+/DpwzojQEQIEmwoanVwxA4lgXt9HgE0BSSZ2AJuIbQAMJih9jjiNA5q4l5INuK0AwTKYKRj0zQNv5fmq8/DpAaCJseHrtQkB/+zpwzoxKQM3MzMzMeFJAZmZmZmZqWEAAAAAAAFxeQM3MzMzMJmJAmpmZmZkfZUBmZmZmZhhoQDMzMzMzEWtAAAAAAAAKbkBmZmZmZoFwQM3MzMzM/XFAMzMzMzN6c0CamZmZmfZ0QAAAAAAAc3ZAZmZmZmbvd0DNzMzMzGt5QDMzMzMz6HpAmpmZmZlkfEAAAAAAAOF9QGZmZmZmXX9AZmZmZuZsgECamZmZGSuBQM3MzMxM6YFAAAAAAICngkAzMzMzs2WDQGZmZmbmI4RAmpmZmRnihEDNzMzMTKCFQAAAAACAXoZAMzMzM7Mch0BmZmZm5tqHQJqZmZkZmYhAzczMzExXiUAAAAAAgBWKQDMzMzOz04pAZmZmZuaRi0CamZmZGVCMQM3MzMxMDo1AAAAAAIDMjUAzMzMzs4qOQGZmZmbmSI9A\",\"dtype\":\"float64\",\"shape\":[75]}},\"selected\":{\"id\":\"be905687-d9f5-421c-9f27-db3aba3790c7\",\"type\":\"Selection\"},\"selection_policy\":{\"id\":\"98032948-00e1-4a8a-89dc-94969d066a37\",\"type\":\"UnionRenderers\"}},\"id\":\"92a9ee3a-a3b1-43cd-a24f-e34f8623b796\",\"type\":\"ColumnDataSource\"},{\"attributes\":{\"callback\":null,\"end\":0.01,\"start\":1020},\"id\":\"b1c4e3fc-e9dd-404f-88c2-265b0cb032b7\",\"type\":\"Range1d\"},{\"attributes\":{\"bottom_units\":\"screen\",\"fill_alpha\":{\"value\":0.5},\"fill_color\":{\"value\":\"lightgrey\"},\"left_units\":\"screen\",\"level\":\"overlay\",\"line_alpha\":{\"value\":1.0},\"line_color\":{\"value\":\"black\"},\"line_dash\":[4,4],\"line_width\":{\"value\":2},\"plot\":null,\"render_mode\":\"css\",\"right_units\":\"screen\",\"top_units\":\"screen\"},\"id\":\"91d618c0-fdde-42e9-80aa-b2b8e1ab6d33\",\"type\":\"BoxAnnotation\"},{\"attributes\":{},\"id\":\"8f7c029b-83c5-4f8e-a7d1-28220bb83593\",\"type\":\"PanTool\"},{\"attributes\":{},\"id\":\"2a13488e-50ec-4f2f-99cb-8efcaf4b1981\",\"type\":\"WheelZoomTool\"},{\"attributes\":{\"source\":{\"id\":\"7a72edeb-05bf-4a85-89fc-e90658f75b57\",\"type\":\"ColumnDataSource\"}},\"id\":\"68bdca8a-53c3-4dbb-9036-6014088e2137\",\"type\":\"CDSView\"},{\"attributes\":{\"overlay\":{\"id\":\"91d618c0-fdde-42e9-80aa-b2b8e1ab6d33\",\"type\":\"BoxAnnotation\"}},\"id\":\"8dc487eb-2c8b-43a0-a636-52603cf90aa3\",\"type\":\"BoxZoomTool\"},{\"attributes\":{\"fill_alpha\":{\"value\":0.7},\"fill_color\":{\"value\":\"#984ea3\"},\"line_alpha\":{\"value\":0.7},\"line_color\":{\"value\":\"#984ea3\"},\"x\":{\"field\":\"x\"},\"y\":{\"field\":\"y\"}},\"id\":\"0ac87c2e-37d5-424a-8168-df7329057588\",\"type\":\"Square\"},{\"attributes\":{},\"id\":\"72a8c38c-9f0c-4b68-85b2-8fcc42dac9e3\",\"type\":\"SaveTool\"},{\"attributes\":{},\"id\":\"c666f1bc-256c-458c-99cc-c807fbeea71f\",\"type\":\"ResetTool\"},{\"attributes\":{},\"id\":\"d1c41a6a-9532-4c0c-b7b8-9d7db41e6b52\",\"type\":\"HelpTool\"},{\"attributes\":{\"data_source\":{\"id\":\"e9af6a63-b660-4845-93ce-ea15c08010c4\",\"type\":\"ColumnDataSource\"},\"glyph\":{\"id\":\"df8f31b9-411b-4436-adf8-c9403115e545\",\"type\":\"Square\"},\"hover_glyph\":null,\"muted_glyph\":null,\"nonselection_glyph\":{\"id\":\"4fc4cc9d-1467-4230-a56c-f519fee18e0a\",\"type\":\"Square\"},\"selection_glyph\":null,\"view\":{\"id\":\"7fbf0604-db3d-4646-a670-474d4b13d477\",\"type\":\"CDSView\"}},\"id\":\"0a8fbd56-223f-4658-aa47-01fca2e35e55\",\"type\":\"GlyphRenderer\"},{\"attributes\":{\"data_source\":{\"id\":\"7a72edeb-05bf-4a85-89fc-e90658f75b57\",\"type\":\"ColumnDataSource\"},\"glyph\":{\"id\":\"c6b8ccf7-35bc-4e5f-ad1d-94576fafb5ff\",\"type\":\"Line\"},\"hover_glyph\":null,\"muted_glyph\":null,\"nonselection_glyph\":{\"id\":\"ab1e0b87-f035-4eff-928b-44f4661ffd75\",\"type\":\"Line\"},\"selection_glyph\":null,\"view\":{\"id\":\"68bdca8a-53c3-4dbb-9036-6014088e2137\",\"type\":\"CDSView\"}},\"id\":\"134d181f-ec5c-4fed-8fe2-0ed02d6fe2f6\",\"type\":\"GlyphRenderer\"},{\"attributes\":{\"source\":{\"id\":\"b3b6d04e-a4b6-4a73-a923-475b6201772d\",\"type\":\"ColumnDataSource\"}},\"id\":\"66fd327e-90a7-4744-a4cd-2bf1e7fbd903\",\"type\":\"CDSView\"},{\"attributes\":{\"line_alpha\":0.1,\"line_color\":\"#1f77b4\",\"line_width\":1.5,\"x\":{\"field\":\"x\"},\"y\":{\"field\":\"y\"}},\"id\":\"ab1e0b87-f035-4eff-928b-44f4661ffd75\",\"type\":\"Line\"},{\"attributes\":{\"fill_alpha\":{\"value\":0.7},\"fill_color\":{\"value\":\"#377eb8\"},\"line_alpha\":{\"value\":0.7},\"line_color\":{\"value\":\"#377eb8\"},\"x\":{\"field\":\"x\"},\"y\":{\"field\":\"y\"}},\"id\":\"99b1dd22-fbc3-48d9-b74f-397f585eaf04\",\"type\":\"Triangle\"},{\"attributes\":{\"line_alpha\":0.6,\"line_color\":\"#984ea3\",\"line_width\":3,\"x\":{\"field\":\"x\"},\"y\":{\"field\":\"y\"}},\"id\":\"387e7b1c-f6d8-4a9b-b0fc-3b024a6f46e5\",\"type\":\"Line\"},{\"attributes\":{\"line_alpha\":0.1,\"line_color\":\"#1f77b4\",\"line_width\":3,\"x\":{\"field\":\"x\"},\"y\":{\"field\":\"y\"}},\"id\":\"4c74e63d-4953-4a4d-9f66-215de873f531\",\"type\":\"Line\"},{\"attributes\":{\"data_source\":{\"id\":\"7710eeba-cf09-488d-a7db-f3eb5dd1162b\",\"type\":\"ColumnDataSource\"},\"glyph\":{\"id\":\"f0701686-ad26-4b2e-a58c-0808ac35e6c0\",\"type\":\"Line\"},\"hover_glyph\":null,\"muted_glyph\":null,\"nonselection_glyph\":{\"id\":\"5336e00a-ff3f-4c5e-9244-4722863d545d\",\"type\":\"Line\"},\"selection_glyph\":null,\"view\":{\"id\":\"efd19dcc-5be7-4e42-80c4-2ae4df8d3355\",\"type\":\"CDSView\"}},\"id\":\"2db355ec-cd69-4cd4-bfcc-8ec89c9c122f\",\"type\":\"GlyphRenderer\"},{\"attributes\":{\"line_alpha\":0.1,\"line_color\":\"#1f77b4\",\"line_width\":1.5,\"x\":{\"field\":\"x\"},\"y\":{\"field\":\"y\"}},\"id\":\"9382a096-e5f9-4e80-b107-70dc98b222ac\",\"type\":\"Line\"},{\"attributes\":{\"callback\":null,\"data\":{\"x\":{\"__ndarray__\":\"D1oYsF4k3L7dpeO3kCjcvvkmXcFRL9y+q0oPiE8z3L40h9m34zPcvp8dqjXuMNy++st8/kUq3L7LrOM0yR/cvnjbtftNEdy+fSfE4LT+2751j+8E2ufbvnZTEv2dzNu+clDkB9+s276iG4aB44XbvqkSMK1d7dq+0BUtDcAg2L7zDYGJ6izQvsno2efNjo2+Epp7q0Qo2T6MYWk5ZcvwPnRikrTyhQA/KKy/siCjDD9eUKDnwf4UP38WSwmHoxU/r+6aEyw/ED+ImJkA85oFP7SP3LSoifo+ok8Baxxe7T5V6DnJPOvaPi02WYE6VbY+FO14GJqjwr4usf73LXbTviBGlrqIb9m+tLRNpKzw3L6URECY8ZjfvgjfTIjP1OC+RgL1o4Js4b4JoBvOALnhvndF7X1Z8+G+9uQoy1S64r4Z6G2RLq/rvsC0GQv8UAC/N1kF2xgcDb/2k7t6x3wSv5pr6ynIjgO/EMDoSDMaGT8s6utvhGI2P/xsYMukL0g/aVTSXhPGVT99+/rmZalhP1dTqqSUp2o/hu7zz3ykcj/0VopREc94Px+eJu0t8H8/mQJr95j4gz8Ia92ytVGIP90xfBFb5Iw/BK3KAkl/kT+shMERsXyUP+SCh/eJ9JY/RW0EqsuemD8xmJl7Qz+ZP2rRTEHIw5g/BURbqt9Alz/rK6A0+u+UP+IhkViAJpI/gmc72d9vjj81M8iXL7OIP9FYywLFRoM/Ih9dLNHAfD8Q6tll3LF0P+3L0Zdp8W0/7/HwhPjlZz+oubJOkO1oP9eyxw/GpHM/\",\"dtype\":\"float64\",\"shape\":[75]},\"y\":{\"__ndarray__\":\"GhExyth1ND/Sv8nbtpRIP2vylNV0PVE/aTum7souWD/At0SJ8fVgPw3Iuahxymc/MSNhhJWvcD/bTfBN02d3P2zb5nxnaoA/CD5h5MAGhz8NmeH1TyaQP+zrCsc9p5Y/LbKd76fGnz/bLW5ISEmmPww9YvTcQq8/JV2OstnstT8Er5Y7M8G+P0c+r3jqkcU/5h99k6ZBzj88bCIzFzjVP4enV8oyxN0//yH99nXg5D8qOpLLf0jtP5kqGJXUifQ/c9cS8kHP/D+/DpwzojQEQIEmwoanVwxA4lgXt9HgE0BSSZ2AJuIbQAMJih9jjiNA5q4l5INuK0AwTKYKRj0zQNv5fmq8/DpAaCJseHrtQkB/+zpwzoxKQM3MzMzMeFJAZmZmZmZqWEAAAAAAAFxeQM3MzMzMJmJAmpmZmZkfZUBmZmZmZhhoQDMzMzMzEWtAAAAAAAAKbkBmZmZmZoFwQM3MzMzM/XFAMzMzMzN6c0CamZmZmfZ0QAAAAAAAc3ZAZmZmZmbvd0DNzMzMzGt5QDMzMzMz6HpAmpmZmZlkfEAAAAAAAOF9QGZmZmZmXX9AZmZmZuZsgECamZmZGSuBQM3MzMxM6YFAAAAAAICngkAzMzMzs2WDQGZmZmbmI4RAmpmZmRnihEDNzMzMTKCFQAAAAACAXoZAMzMzM7Mch0BmZmZm5tqHQJqZmZkZmYhAzczMzExXiUAAAAAAgBWKQDMzMzOz04pAZmZmZuaRi0CamZmZGVCMQM3MzMxMDo1AAAAAAIDMjUAzMzMzs4qOQGZmZmbmSI9A\",\"dtype\":\"float64\",\"shape\":[75]}},\"selected\":{\"id\":\"7cd61a9c-b565-42f3-88d0-f58d89fffe4f\",\"type\":\"Selection\"},\"selection_policy\":{\"id\":\"0a8db82e-daa0-4e63-a006-ae14a2dcf5b4\",\"type\":\"UnionRenderers\"}},\"id\":\"7710eeba-cf09-488d-a7db-f3eb5dd1162b\",\"type\":\"ColumnDataSource\"},{\"attributes\":{\"data_source\":{\"id\":\"0e26b302-5880-49b2-8083-c2be472ecd78\",\"type\":\"ColumnDataSource\"},\"glyph\":{\"id\":\"99b1dd22-fbc3-48d9-b74f-397f585eaf04\",\"type\":\"Triangle\"},\"hover_glyph\":null,\"muted_glyph\":null,\"nonselection_glyph\":{\"id\":\"b7ac048b-de11-4c2b-ad28-43d559df5f7b\",\"type\":\"Triangle\"},\"selection_glyph\":null,\"view\":{\"id\":\"28c7bed6-a31c-41f4-80f1-4dba068241b6\",\"type\":\"CDSView\"}},\"id\":\"b5776120-cc4f-48c9-999b-b115b46a7ae0\",\"type\":\"GlyphRenderer\"},{\"attributes\":{\"fill_alpha\":{\"value\":0.1},\"fill_color\":{\"value\":\"#1f77b4\"},\"line_alpha\":{\"value\":0.1},\"line_color\":{\"value\":\"#1f77b4\"},\"x\":{\"field\":\"x\"},\"y\":{\"field\":\"y\"}},\"id\":\"047f9140-b0ae-4919-b5ce-bf811215cb6c\",\"type\":\"Triangle\"},{\"attributes\":{\"line_color\":\"#4daf4a\",\"line_width\":1.5,\"x\":{\"field\":\"x\"},\"y\":{\"field\":\"y\"}},\"id\":\"c6b8ccf7-35bc-4e5f-ad1d-94576fafb5ff\",\"type\":\"Line\"},{\"attributes\":{\"callback\":null,\"data\":{\"x\":{\"__ndarray__\":\"NZyHmmir3b5WO6xWxajdvoVN0eCBoN2+nXlLnKWT3b5v85B6coLdvoh/iwmsbN2+CanWcjBS3b4X9SgQzDLdvtUdX05RDt2+SBPBrZDk3L7+U0inYrXcvvRp3nSXgNy+1rTATQBG3L5rgMGW9gDcvnu7TbjLBtu+iq5ZeUXn1r4nlkbWJTPIvjcU0gvr/r4+nSeMEq5z5D5KqAnSMWP3PnPc/shpxgU/HAPfJodZEj/YfWSwkIkaP7rYVJe8Uxs/OsF1LRG5FD+f0rNcVw8MPz6AX95FxAE/QzyJU37Q9D7AlbvMX7vlPuykQEdhi9A+XaSyB4q9o75ceY3zai/PvgKhRAtjbde+RtwwOxwI3L4aVFVrFYbfvhewTQeWHeG+YkdVe+nX4b6pI7WhrSbivuiyTEnbYOK+kCC7WNUW475viBrqx6PrvgLQS1Dfvf6+zF4wGPc9CL91JcICuNIEv7OBsfHajQM/Irz0G72yLT9zQ7n5l6VBP+pgf0X+oVA/IgXep3S5Wz+bdqolYUtlP03R332twW4/eNG+Tra1dD+uUznplaR6P0CxfoXmoIA/xn7ugsM2hD888Ej05vuHP+4aTV7/1os/72OklX2CkD9Skhp/R/mSPxU8qyNM85Q/dk17XLFFlj8EkEKoPs+WP22UCYBwjJY/dW99DOGOlT9OOFHRrPqTPz0on1PNApI/Nj3X4EWrjz/CO45Z1RaLP67oZ84gXIY/JrmHMV60gT9psZ1xliB7Pzt2yeHXtHQ/b3xuY1q0cD8fAiWG3/RvP0SBJM9h9XU/\",\"dtype\":\"float64\",\"shape\":[75]},\"y\":{\"__ndarray__\":\"GhExyth1ND/Sv8nbtpRIP2vylNV0PVE/aTum7souWD/At0SJ8fVgPw3Iuahxymc/MSNhhJWvcD/bTfBN02d3P2zb5nxnaoA/CD5h5MAGhz8NmeH1TyaQP+zrCsc9p5Y/LbKd76fGnz/bLW5ISEmmPww9YvTcQq8/JV2OstnstT8Er5Y7M8G+P0c+r3jqkcU/5h99k6ZBzj88bCIzFzjVP4enV8oyxN0//yH99nXg5D8qOpLLf0jtP5kqGJXUifQ/c9cS8kHP/D+/DpwzojQEQIEmwoanVwxA4lgXt9HgE0BSSZ2AJuIbQAMJih9jjiNA5q4l5INuK0AwTKYKRj0zQNv5fmq8/DpAaCJseHrtQkB/+zpwzoxKQM3MzMzMeFJAZmZmZmZqWEAAAAAAAFxeQM3MzMzMJmJAmpmZmZkfZUBmZmZmZhhoQDMzMzMzEWtAAAAAAAAKbkBmZmZmZoFwQM3MzMzM/XFAMzMzMzN6c0CamZmZmfZ0QAAAAAAAc3ZAZmZmZmbvd0DNzMzMzGt5QDMzMzMz6HpAmpmZmZlkfEAAAAAAAOF9QGZmZmZmXX9AZmZmZuZsgECamZmZGSuBQM3MzMxM6YFAAAAAAICngkAzMzMzs2WDQGZmZmbmI4RAmpmZmRnihEDNzMzMTKCFQAAAAACAXoZAMzMzM7Mch0BmZmZm5tqHQJqZmZkZmYhAzczMzExXiUAAAAAAgBWKQDMzMzOz04pAZmZmZuaRi0CamZmZGVCMQM3MzMxMDo1AAAAAAIDMjUAzMzMzs4qOQGZmZmbmSI9A\",\"dtype\":\"float64\",\"shape\":[75]}},\"selected\":{\"id\":\"db5697d7-12f8-4a84-a564-b7d21182c339\",\"type\":\"Selection\"},\"selection_policy\":{\"id\":\"7b8caa85-cfc5-446a-86ca-a94fec0b64db\",\"type\":\"UnionRenderers\"}},\"id\":\"da5fae0a-301f-442e-b680-9201c6c8f29d\",\"type\":\"ColumnDataSource\"},{\"attributes\":{\"callback\":null,\"data\":{\"x\":{\"__ndarray__\":\"NZyHmmir3b5WO6xWxajdvoVN0eCBoN2+nXlLnKWT3b5v85B6coLdvoh/iwmsbN2+CanWcjBS3b4X9SgQzDLdvtUdX05RDt2+SBPBrZDk3L7+U0inYrXcvvRp3nSXgNy+1rTATQBG3L5rgMGW9gDcvnu7TbjLBtu+iq5ZeUXn1r4nlkbWJTPIvjcU0gvr/r4+nSeMEq5z5D5KqAnSMWP3PnPc/shpxgU/HAPfJodZEj/YfWSwkIkaP7rYVJe8Uxs/OsF1LRG5FD+f0rNcVw8MPz6AX95FxAE/QzyJU37Q9D7AlbvMX7vlPuykQEdhi9A+XaSyB4q9o75ceY3zai/PvgKhRAtjbde+RtwwOxwI3L4aVFVrFYbfvhewTQeWHeG+YkdVe+nX4b6pI7WhrSbivuiyTEnbYOK+kCC7WNUW475viBrqx6PrvgLQS1Dfvf6+zF4wGPc9CL91JcICuNIEv7OBsfHajQM/Irz0G72yLT9zQ7n5l6VBP+pgf0X+oVA/IgXep3S5Wz+bdqolYUtlP03R332twW4/eNG+Tra1dD+uUznplaR6P0CxfoXmoIA/xn7ugsM2hD888Ej05vuHP+4aTV7/1os/72OklX2CkD9Skhp/R/mSPxU8qyNM85Q/dk17XLFFlj8EkEKoPs+WP22UCYBwjJY/dW99DOGOlT9OOFHRrPqTPz0on1PNApI/Nj3X4EWrjz/CO45Z1RaLP67oZ84gXIY/JrmHMV60gT9psZ1xliB7Pzt2yeHXtHQ/b3xuY1q0cD8fAiWG3/RvP0SBJM9h9XU/\",\"dtype\":\"float64\",\"shape\":[75]},\"y\":{\"__ndarray__\":\"GhExyth1ND/Sv8nbtpRIP2vylNV0PVE/aTum7souWD/At0SJ8fVgPw3Iuahxymc/MSNhhJWvcD/bTfBN02d3P2zb5nxnaoA/CD5h5MAGhz8NmeH1TyaQP+zrCsc9p5Y/LbKd76fGnz/bLW5ISEmmPww9YvTcQq8/JV2OstnstT8Er5Y7M8G+P0c+r3jqkcU/5h99k6ZBzj88bCIzFzjVP4enV8oyxN0//yH99nXg5D8qOpLLf0jtP5kqGJXUifQ/c9cS8kHP/D+/DpwzojQEQIEmwoanVwxA4lgXt9HgE0BSSZ2AJuIbQAMJih9jjiNA5q4l5INuK0AwTKYKRj0zQNv5fmq8/DpAaCJseHrtQkB/+zpwzoxKQM3MzMzMeFJAZmZmZmZqWEAAAAAAAFxeQM3MzMzMJmJAmpmZmZkfZUBmZmZmZhhoQDMzMzMzEWtAAAAAAAAKbkBmZmZmZoFwQM3MzMzM/XFAMzMzMzN6c0CamZmZmfZ0QAAAAAAAc3ZAZmZmZmbvd0DNzMzMzGt5QDMzMzMz6HpAmpmZmZlkfEAAAAAAAOF9QGZmZmZmXX9AZmZmZuZsgECamZmZGSuBQM3MzMxM6YFAAAAAAICngkAzMzMzs2WDQGZmZmbmI4RAmpmZmRnihEDNzMzMTKCFQAAAAACAXoZAMzMzM7Mch0BmZmZm5tqHQJqZmZkZmYhAzczMzExXiUAAAAAAgBWKQDMzMzOz04pAZmZmZuaRi0CamZmZGVCMQM3MzMxMDo1AAAAAAIDMjUAzMzMzs4qOQGZmZmbmSI9A\",\"dtype\":\"float64\",\"shape\":[75]}},\"selected\":{\"id\":\"8ad65285-f727-4891-9f10-5415fd4cda96\",\"type\":\"Selection\"},\"selection_policy\":{\"id\":\"7b3d2d4a-cf97-49df-8941-7a5457732114\",\"type\":\"UnionRenderers\"}},\"id\":\"b3b6d04e-a4b6-4a73-a923-475b6201772d\",\"type\":\"ColumnDataSource\"},{\"attributes\":{\"fill_alpha\":{\"value\":0.1},\"fill_color\":{\"value\":\"#1f77b4\"},\"line_alpha\":{\"value\":0.1},\"line_color\":{\"value\":\"#1f77b4\"},\"x\":{\"field\":\"x\"},\"y\":{\"field\":\"y\"}},\"id\":\"b7ac048b-de11-4c2b-ad28-43d559df5f7b\",\"type\":\"Triangle\"},{\"attributes\":{\"children\":[{\"id\":\"b8a8e973-b1e9-4939-824f-acd2120f36b3\",\"type\":\"Row\"}]},\"id\":\"f94e56b8-569a-4fd8-9dff-559c9e382cc9\",\"type\":\"Column\"},{\"attributes\":{\"data_source\":{\"id\":\"b3b6d04e-a4b6-4a73-a923-475b6201772d\",\"type\":\"ColumnDataSource\"},\"glyph\":{\"id\":\"0ac87c2e-37d5-424a-8168-df7329057588\",\"type\":\"Square\"},\"hover_glyph\":null,\"muted_glyph\":null,\"nonselection_glyph\":{\"id\":\"9417bf93-c396-4795-ab84-a4df4578fcc0\",\"type\":\"Square\"},\"selection_glyph\":null,\"view\":{\"id\":\"66fd327e-90a7-4744-a4cd-2bf1e7fbd903\",\"type\":\"CDSView\"}},\"id\":\"00ffce2b-41a9-4997-b8d2-b9a61c4d5177\",\"type\":\"GlyphRenderer\"},{\"attributes\":{\"fill_alpha\":{\"value\":0.1},\"fill_color\":{\"value\":\"#1f77b4\"},\"line_alpha\":{\"value\":0.1},\"line_color\":{\"value\":\"#1f77b4\"},\"x\":{\"field\":\"x\"},\"y\":{\"field\":\"y\"}},\"id\":\"9417bf93-c396-4795-ab84-a4df4578fcc0\",\"type\":\"Square\"},{\"attributes\":{\"data_source\":{\"id\":\"da5fae0a-301f-442e-b680-9201c6c8f29d\",\"type\":\"ColumnDataSource\"},\"glyph\":{\"id\":\"387e7b1c-f6d8-4a9b-b0fc-3b024a6f46e5\",\"type\":\"Line\"},\"hover_glyph\":null,\"muted_glyph\":null,\"nonselection_glyph\":{\"id\":\"4c74e63d-4953-4a4d-9f66-215de873f531\",\"type\":\"Line\"},\"selection_glyph\":null,\"view\":{\"id\":\"3ad95fd1-616f-4bf8-8d28-145db12b3d85\",\"type\":\"CDSView\"}},\"id\":\"c0a51c9a-3a3b-4785-8668-92c3be2339f2\",\"type\":\"GlyphRenderer\"},{\"attributes\":{\"line_color\":\"#4daf4a\",\"line_width\":1.5,\"x\":{\"field\":\"x\"},\"y\":{\"field\":\"y\"}},\"id\":\"b460d5f8-e092-4fe6-b482-e0148bee6fa1\",\"type\":\"Line\"},{\"attributes\":{\"data_source\":{\"id\":\"7a7b3b1e-e60b-4860-9ccd-b5e43fde4108\",\"type\":\"ColumnDataSource\"},\"glyph\":{\"id\":\"b1d4d300-429a-4fb4-bacf-1f7776ba4468\",\"type\":\"Circle\"},\"hover_glyph\":null,\"muted_glyph\":null,\"nonselection_glyph\":{\"id\":\"1b913358-a382-4639-9589-ea67b2411a58\",\"type\":\"Circle\"},\"selection_glyph\":null,\"view\":{\"id\":\"dcb00c25-7a34-4b8f-b969-6c7a29766be6\",\"type\":\"CDSView\"}},\"id\":\"9197c28c-c7ba-4487-a123-66a01091b7cc\",\"type\":\"GlyphRenderer\"},{\"attributes\":{\"callback\":null,\"data\":{\"x\":{\"__ndarray__\":\"D1oYsF4k3L7dpeO3kCjcvvkmXcFRL9y+q0oPiE8z3L40h9m34zPcvp8dqjXuMNy++st8/kUq3L7LrOM0yR/cvnjbtftNEdy+fSfE4LT+2751j+8E2ufbvnZTEv2dzNu+clDkB9+s276iG4aB44XbvqkSMK1d7dq+0BUtDcAg2L7zDYGJ6izQvsno2efNjo2+Epp7q0Qo2T6MYWk5ZcvwPnRikrTyhQA/KKy/siCjDD9eUKDnwf4UP38WSwmHoxU/r+6aEyw/ED+ImJkA85oFP7SP3LSoifo+ok8Baxxe7T5V6DnJPOvaPi02WYE6VbY+FO14GJqjwr4usf73LXbTviBGlrqIb9m+tLRNpKzw3L6URECY8ZjfvgjfTIjP1OC+RgL1o4Js4b4JoBvOALnhvndF7X1Z8+G+9uQoy1S64r4Z6G2RLq/rvsC0GQv8UAC/N1kF2xgcDb/2k7t6x3wSv5pr6ynIjgO/EMDoSDMaGT8s6utvhGI2P/xsYMukL0g/aVTSXhPGVT99+/rmZalhP1dTqqSUp2o/hu7zz3ykcj/0VopREc94Px+eJu0t8H8/mQJr95j4gz8Ia92ytVGIP90xfBFb5Iw/BK3KAkl/kT+shMERsXyUP+SCh/eJ9JY/RW0EqsuemD8xmJl7Qz+ZP2rRTEHIw5g/BURbqt9Alz/rK6A0+u+UP+IhkViAJpI/gmc72d9vjj81M8iXL7OIP9FYywLFRoM/Ih9dLNHAfD8Q6tll3LF0P+3L0Zdp8W0/7/HwhPjlZz+oubJOkO1oP9eyxw/GpHM/\",\"dtype\":\"float64\",\"shape\":[75]},\"y\":{\"__ndarray__\":\"GhExyth1ND/Sv8nbtpRIP2vylNV0PVE/aTum7souWD/At0SJ8fVgPw3Iuahxymc/MSNhhJWvcD/bTfBN02d3P2zb5nxnaoA/CD5h5MAGhz8NmeH1TyaQP+zrCsc9p5Y/LbKd76fGnz/bLW5ISEmmPww9YvTcQq8/JV2OstnstT8Er5Y7M8G+P0c+r3jqkcU/5h99k6ZBzj88bCIzFzjVP4enV8oyxN0//yH99nXg5D8qOpLLf0jtP5kqGJXUifQ/c9cS8kHP/D+/DpwzojQEQIEmwoanVwxA4lgXt9HgE0BSSZ2AJuIbQAMJih9jjiNA5q4l5INuK0AwTKYKRj0zQNv5fmq8/DpAaCJseHrtQkB/+zpwzoxKQM3MzMzMeFJAZmZmZmZqWEAAAAAAAFxeQM3MzMzMJmJAmpmZmZkfZUBmZmZmZhhoQDMzMzMzEWtAAAAAAAAKbkBmZmZmZoFwQM3MzMzM/XFAMzMzMzN6c0CamZmZmfZ0QAAAAAAAc3ZAZmZmZmbvd0DNzMzMzGt5QDMzMzMz6HpAmpmZmZlkfEAAAAAAAOF9QGZmZmZmXX9AZmZmZuZsgECamZmZGSuBQM3MzMxM6YFAAAAAAICngkAzMzMzs2WDQGZmZmbmI4RAmpmZmRnihEDNzMzMTKCFQAAAAACAXoZAMzMzM7Mch0BmZmZm5tqHQJqZmZkZmYhAzczMzExXiUAAAAAAgBWKQDMzMzOz04pAZmZmZuaRi0CamZmZGVCMQM3MzMxMDo1AAAAAAIDMjUAzMzMzs4qOQGZmZmbmSI9A\",\"dtype\":\"float64\",\"shape\":[75]}},\"selected\":{\"id\":\"96336e9f-59fa-46fc-acbc-a28b00f8a86b\",\"type\":\"Selection\"},\"selection_policy\":{\"id\":\"b963e093-5a4b-427c-831a-526e4c166468\",\"type\":\"UnionRenderers\"}},\"id\":\"0e26b302-5880-49b2-8083-c2be472ecd78\",\"type\":\"ColumnDataSource\"},{\"attributes\":{\"fill_alpha\":{\"value\":0.1},\"fill_color\":{\"value\":\"#1f77b4\"},\"line_alpha\":{\"value\":0.1},\"line_color\":{\"value\":\"#1f77b4\"},\"x\":{\"field\":\"x\"},\"y\":{\"field\":\"y\"}},\"id\":\"1b913358-a382-4639-9589-ea67b2411a58\",\"type\":\"Circle\"},{\"attributes\":{\"line_alpha\":0.3,\"line_color\":\"#377eb8\",\"line_width\":2,\"x\":{\"field\":\"x\"},\"y\":{\"field\":\"y\"}},\"id\":\"f0701686-ad26-4b2e-a58c-0808ac35e6c0\",\"type\":\"Line\"},{\"attributes\":{\"source\":{\"id\":\"da5fae0a-301f-442e-b680-9201c6c8f29d\",\"type\":\"ColumnDataSource\"}},\"id\":\"3ad95fd1-616f-4bf8-8d28-145db12b3d85\",\"type\":\"CDSView\"},{\"attributes\":{\"line_alpha\":0.1,\"line_color\":\"#1f77b4\",\"line_width\":2,\"x\":{\"field\":\"x\"},\"y\":{\"field\":\"y\"}},\"id\":\"5336e00a-ff3f-4c5e-9244-4722863d545d\",\"type\":\"Line\"},{\"attributes\":{\"source\":{\"id\":\"0e26b302-5880-49b2-8083-c2be472ecd78\",\"type\":\"ColumnDataSource\"}},\"id\":\"28c7bed6-a31c-41f4-80f1-4dba068241b6\",\"type\":\"CDSView\"},{\"attributes\":{\"fill_alpha\":{\"value\":0.1},\"fill_color\":{\"value\":\"#1f77b4\"},\"line_alpha\":{\"value\":0.1},\"line_color\":{\"value\":\"#1f77b4\"},\"x\":{\"field\":\"x\"},\"y\":{\"field\":\"y\"}},\"id\":\"4fc4cc9d-1467-4230-a56c-f519fee18e0a\",\"type\":\"Square\"},{\"attributes\":{\"source\":{\"id\":\"7710eeba-cf09-488d-a7db-f3eb5dd1162b\",\"type\":\"ColumnDataSource\"}},\"id\":\"efd19dcc-5be7-4e42-80c4-2ae4df8d3355\",\"type\":\"CDSView\"},{\"attributes\":{\"plot\":null,\"text\":\"\"},\"id\":\"01eecdcb-3503-4e03-b177-0f6ca462b30b\",\"type\":\"Title\"},{\"attributes\":{\"children\":[{\"id\":\"7ab4eff8-df01-447a-84f4-56bca5a49686\",\"subtype\":\"Figure\",\"type\":\"Plot\"},{\"id\":\"6fdcb45e-36bd-40c0-a410-32d1092481ed\",\"subtype\":\"Figure\",\"type\":\"Plot\"}]},\"id\":\"b8a8e973-b1e9-4939-824f-acd2120f36b3\",\"type\":\"Row\"},{\"attributes\":{\"callback\":null,\"data\":{\"x\":{\"__ndarray__\":\"h1OpFYVg4r5kHgGWHUvivsJqyyevGeK+wIS6K4fg4b470cXA3qHhvpn+P48VXuG+vpRNeBMV4b5Y43Mzesbgvs/10WPwceC+rIF/bH8X4L7Ar9TYw23fvruurzhdn96+u1R5QGnD3b6yzxRDq8ncvgqbpFyEidm+0A7AA/Uxy75n9u7bELfLPkBJlfYwH+4+npgnWPG4AD9zm54QAc0OPwilvaPt5Rk/yX4sj0+NJD8lkCoHGMAsP8HBe267eC0/21u16d7GJj9TfNqA5eUfP7/vlhKcQxU/tOdqCLEgCz+ZIuFW85IAP3tvZMD8u/I+Fx0uxTUE4T4q9ppE7H22PqirgCzjMca+PXeXYEpj1L6+KnZv7+ravnr9n/tsad++3yYWqNSd4L7Z43E8isDgviriUHfS0+C+cTh2Gnsm4b6TE01u5Q7nvsNW+OWH7vS+bg3rOsN18L6rpYrRD0oEPzTnwrivQSs/dOXgT9VIQD/3lWWc0gpOP1dL6BR+zlg/WzU70iH3Yj+VeXIo305rPzrpVdJ+s3I/OMee1I4PeD+dr1qcX7t9Pz1v+mFq5YE/T74LIQgMhT+ENS4ZUDqIPzwwKvDoW4s/gQ2Sgsqfjz/M2+MVILuRP+pXmJCfJZM/MLWyOPT6kz8zCxoe7i+UP2YkSpQg0JM/QtfNq4vykj8Z/BT/K7aRP5nft8FTP5A/dPMOabRSjT+Rgz3mNvOJP3AcUO0OVIY/MPi+9JKYgj+/q7AlnEB+P9TAYlcSlXg/wUTb8H2qdD+RPHPxIEZzPwyVzipkTHg/\",\"dtype\":\"float64\",\"shape\":[75]},\"y\":{\"__ndarray__\":\"GhExyth1ND/Sv8nbtpRIP2vylNV0PVE/aTum7souWD/At0SJ8fVgPw3Iuahxymc/MSNhhJWvcD/bTfBN02d3P2zb5nxnaoA/CD5h5MAGhz8NmeH1TyaQP+zrCsc9p5Y/LbKd76fGnz/bLW5ISEmmPww9YvTcQq8/JV2OstnstT8Er5Y7M8G+P0c+r3jqkcU/5h99k6ZBzj88bCIzFzjVP4enV8oyxN0//yH99nXg5D8qOpLLf0jtP5kqGJXUifQ/c9cS8kHP/D+/DpwzojQEQIEmwoanVwxA4lgXt9HgE0BSSZ2AJuIbQAMJih9jjiNA5q4l5INuK0AwTKYKRj0zQNv5fmq8/DpAaCJseHrtQkB/+zpwzoxKQM3MzMzMeFJAZmZmZmZqWEAAAAAAAFxeQM3MzMzMJmJAmpmZmZkfZUBmZmZmZhhoQDMzMzMzEWtAAAAAAAAKbkBmZmZmZoFwQM3MzMzM/XFAMzMzMzN6c0CamZmZmfZ0QAAAAAAAc3ZAZmZmZmbvd0DNzMzMzGt5QDMzMzMz6HpAmpmZmZlkfEAAAAAAAOF9QGZmZmZmXX9AZmZmZuZsgECamZmZGSuBQM3MzMxM6YFAAAAAAICngkAzMzMzs2WDQGZmZmbmI4RAmpmZmRnihEDNzMzMTKCFQAAAAACAXoZAMzMzM7Mch0BmZmZm5tqHQJqZmZkZmYhAzczMzExXiUAAAAAAgBWKQDMzMzOz04pAZmZmZuaRi0CamZmZGVCMQM3MzMxMDo1AAAAAAIDMjUAzMzMzs4qOQGZmZmbmSI9A\",\"dtype\":\"float64\",\"shape\":[75]}},\"selected\":{\"id\":\"67fc8daf-1947-41d4-9329-8fc9674c4f4e\",\"type\":\"Selection\"},\"selection_policy\":{\"id\":\"1a5f74bd-9f4b-41b2-a2f7-3158f49979ac\",\"type\":\"UnionRenderers\"}},\"id\":\"a32b05bc-2762-42e9-9663-c6664c240f89\",\"type\":\"ColumnDataSource\"},{\"attributes\":{\"label\":{\"value\":\"CRD\"},\"renderers\":[{\"id\":\"446cf3dc-d750-4c86-9b60-77df90748fc5\",\"type\":\"GlyphRenderer\"},{\"id\":\"134d181f-ec5c-4fed-8fe2-0ed02d6fe2f6\",\"type\":\"GlyphRenderer\"}]},\"id\":\"83a3eeeb-7514-43bc-8ec2-54a05d1ec8c8\",\"type\":\"LegendItem\"},{\"attributes\":{},\"id\":\"2fe80a52-40e0-42f3-9feb-246359f405ac\",\"type\":\"Selection\"},{\"attributes\":{\"source\":{\"id\":\"7a7b3b1e-e60b-4860-9ccd-b5e43fde4108\",\"type\":\"ColumnDataSource\"}},\"id\":\"dcb00c25-7a34-4b8f-b969-6c7a29766be6\",\"type\":\"CDSView\"},{\"attributes\":{\"label\":{\"value\":\"WGT igg=1\"},\"renderers\":[{\"id\":\"00ffce2b-41a9-4997-b8d2-b9a61c4d5177\",\"type\":\"GlyphRenderer\"},{\"id\":\"c0a51c9a-3a3b-4785-8668-92c3be2339f2\",\"type\":\"GlyphRenderer\"}]},\"id\":\"a1581338-e134-4ed9-ad8f-18c811bce986\",\"type\":\"LegendItem\"},{\"attributes\":{},\"id\":\"1a5f74bd-9f4b-41b2-a2f7-3158f49979ac\",\"type\":\"UnionRenderers\"},{\"attributes\":{\"label\":{\"value\":\"WGT igg=10\"},\"renderers\":[{\"id\":\"b5776120-cc4f-48c9-999b-b115b46a7ae0\",\"type\":\"GlyphRenderer\"},{\"id\":\"2db355ec-cd69-4cd4-bfcc-8ec89c9c122f\",\"type\":\"GlyphRenderer\"}]},\"id\":\"e871eb9e-7876-4378-b7ad-22597e3b3959\",\"type\":\"LegendItem\"},{\"attributes\":{},\"id\":\"d5b52120-c453-47c0-9daf-96be4d528045\",\"type\":\"UnionRenderers\"},{\"attributes\":{},\"id\":\"3b47d1bd-8ea1-4ac4-9a83-f87611de8c56\",\"type\":\"BasicTickFormatter\"},{\"attributes\":{\"source\":{\"id\":\"e9af6a63-b660-4845-93ce-ea15c08010c4\",\"type\":\"ColumnDataSource\"}},\"id\":\"7fbf0604-db3d-4646-a670-474d4b13d477\",\"type\":\"CDSView\"},{\"attributes\":{},\"id\":\"9b275971-446c-43ef-affc-39f91fa4accb\",\"type\":\"BasicTickFormatter\"},{\"attributes\":{\"source\":{\"id\":\"a32b05bc-2762-42e9-9663-c6664c240f89\",\"type\":\"ColumnDataSource\"}},\"id\":\"a571d810-b81e-40b2-a818-eac2c7adf160\",\"type\":\"CDSView\"},{\"attributes\":{\"callback\":null,\"data\":{\"x\":{\"__ndarray__\":\"h1OpFYVg4r5kHgGWHUvivsJqyyevGeK+wIS6K4fg4b470cXA3qHhvpn+P48VXuG+vpRNeBMV4b5Y43Mzesbgvs/10WPwceC+rIF/bH8X4L7Ar9TYw23fvruurzhdn96+u1R5QGnD3b6yzxRDq8ncvgqbpFyEidm+0A7AA/Uxy75n9u7bELfLPkBJlfYwH+4+npgnWPG4AD9zm54QAc0OPwilvaPt5Rk/yX4sj0+NJD8lkCoHGMAsP8HBe267eC0/21u16d7GJj9TfNqA5eUfP7/vlhKcQxU/tOdqCLEgCz+ZIuFW85IAP3tvZMD8u/I+Fx0uxTUE4T4q9ppE7H22PqirgCzjMca+PXeXYEpj1L6+KnZv7+ravnr9n/tsad++3yYWqNSd4L7Z43E8isDgviriUHfS0+C+cTh2Gnsm4b6TE01u5Q7nvsNW+OWH7vS+bg3rOsN18L6rpYrRD0oEPzTnwrivQSs/dOXgT9VIQD/3lWWc0gpOP1dL6BR+zlg/WzU70iH3Yj+VeXIo305rPzrpVdJ+s3I/OMee1I4PeD+dr1qcX7t9Pz1v+mFq5YE/T74LIQgMhT+ENS4ZUDqIPzwwKvDoW4s/gQ2Sgsqfjz/M2+MVILuRP+pXmJCfJZM/MLWyOPT6kz8zCxoe7i+UP2YkSpQg0JM/QtfNq4vykj8Z/BT/K7aRP5nft8FTP5A/dPMOabRSjT+Rgz3mNvOJP3AcUO0OVIY/MPi+9JKYgj+/q7AlnEB+P9TAYlcSlXg/wUTb8H2qdD+RPHPxIEZzPwyVzipkTHg/\",\"dtype\":\"float64\",\"shape\":[75]},\"y\":{\"__ndarray__\":\"GhExyth1ND/Sv8nbtpRIP2vylNV0PVE/aTum7souWD/At0SJ8fVgPw3Iuahxymc/MSNhhJWvcD/bTfBN02d3P2zb5nxnaoA/CD5h5MAGhz8NmeH1TyaQP+zrCsc9p5Y/LbKd76fGnz/bLW5ISEmmPww9YvTcQq8/JV2OstnstT8Er5Y7M8G+P0c+r3jqkcU/5h99k6ZBzj88bCIzFzjVP4enV8oyxN0//yH99nXg5D8qOpLLf0jtP5kqGJXUifQ/c9cS8kHP/D+/DpwzojQEQIEmwoanVwxA4lgXt9HgE0BSSZ2AJuIbQAMJih9jjiNA5q4l5INuK0AwTKYKRj0zQNv5fmq8/DpAaCJseHrtQkB/+zpwzoxKQM3MzMzMeFJAZmZmZmZqWEAAAAAAAFxeQM3MzMzMJmJAmpmZmZkfZUBmZmZmZhhoQDMzMzMzEWtAAAAAAAAKbkBmZmZmZoFwQM3MzMzM/XFAMzMzMzN6c0CamZmZmfZ0QAAAAAAAc3ZAZmZmZmbvd0DNzMzMzGt5QDMzMzMz6HpAmpmZmZlkfEAAAAAAAOF9QGZmZmZmXX9AZmZmZuZsgECamZmZGSuBQM3MzMxM6YFAAAAAAICngkAzMzMzs2WDQGZmZmbmI4RAmpmZmRnihEDNzMzMTKCFQAAAAACAXoZAMzMzM7Mch0BmZmZm5tqHQJqZmZkZmYhAzczMzExXiUAAAAAAgBWKQDMzMzOz04pAZmZmZuaRi0CamZmZGVCMQM3MzMxMDo1AAAAAAIDMjUAzMzMzs4qOQGZmZmbmSI9A\",\"dtype\":\"float64\",\"shape\":[75]}},\"selected\":{\"id\":\"2fe80a52-40e0-42f3-9feb-246359f405ac\",\"type\":\"Selection\"},\"selection_policy\":{\"id\":\"d5b52120-c453-47c0-9daf-96be4d528045\",\"type\":\"UnionRenderers\"}},\"id\":\"7a7b3b1e-e60b-4860-9ccd-b5e43fde4108\",\"type\":\"ColumnDataSource\"},{\"attributes\":{},\"id\":\"67fc8daf-1947-41d4-9329-8fc9674c4f4e\",\"type\":\"Selection\"},{\"attributes\":{},\"id\":\"b8a06442-8942-4e71-824c-a679a9216b55\",\"type\":\"Selection\"},{\"attributes\":{},\"id\":\"be905687-d9f5-421c-9f27-db3aba3790c7\",\"type\":\"Selection\"},{\"attributes\":{},\"id\":\"7e9c9ea1-35c2-40db-a385-956ac7138e81\",\"type\":\"Selection\"},{\"attributes\":{\"callback\":null,\"data\":{\"x\":{\"__ndarray__\":\"NZyHmmir3b5WO6xWxajdvoVN0eCBoN2+nXlLnKWT3b5v85B6coLdvoh/iwmsbN2+CanWcjBS3b4X9SgQzDLdvtUdX05RDt2+SBPBrZDk3L7+U0inYrXcvvRp3nSXgNy+1rTATQBG3L5rgMGW9gDcvnu7TbjLBtu+iq5ZeUXn1r4nlkbWJTPIvjcU0gvr/r4+nSeMEq5z5D5KqAnSMWP3PnPc/shpxgU/HAPfJodZEj/YfWSwkIkaP7rYVJe8Uxs/OsF1LRG5FD+f0rNcVw8MPz6AX95FxAE/QzyJU37Q9D7AlbvMX7vlPuykQEdhi9A+XaSyB4q9o75ceY3zai/PvgKhRAtjbde+RtwwOxwI3L4aVFVrFYbfvhewTQeWHeG+YkdVe+nX4b6pI7WhrSbivuiyTEnbYOK+kCC7WNUW475viBrqx6PrvgLQS1Dfvf6+zF4wGPc9CL91JcICuNIEv7OBsfHajQM/Irz0G72yLT9zQ7n5l6VBP+pgf0X+oVA/IgXep3S5Wz+bdqolYUtlP03R332twW4/eNG+Tra1dD+uUznplaR6P0CxfoXmoIA/xn7ugsM2hD888Ej05vuHP+4aTV7/1os/72OklX2CkD9Skhp/R/mSPxU8qyNM85Q/dk17XLFFlj8EkEKoPs+WP22UCYBwjJY/dW99DOGOlT9OOFHRrPqTPz0on1PNApI/Nj3X4EWrjz/CO45Z1RaLP67oZ84gXIY/JrmHMV60gT9psZ1xliB7Pzt2yeHXtHQ/b3xuY1q0cD8fAiWG3/RvP0SBJM9h9XU/\",\"dtype\":\"float64\",\"shape\":[75]},\"y\":{\"__ndarray__\":\"GhExyth1ND/Sv8nbtpRIP2vylNV0PVE/aTum7souWD/At0SJ8fVgPw3Iuahxymc/MSNhhJWvcD/bTfBN02d3P2zb5nxnaoA/CD5h5MAGhz8NmeH1TyaQP+zrCsc9p5Y/LbKd76fGnz/bLW5ISEmmPww9YvTcQq8/JV2OstnstT8Er5Y7M8G+P0c+r3jqkcU/5h99k6ZBzj88bCIzFzjVP4enV8oyxN0//yH99nXg5D8qOpLLf0jtP5kqGJXUifQ/c9cS8kHP/D+/DpwzojQEQIEmwoanVwxA4lgXt9HgE0BSSZ2AJuIbQAMJih9jjiNA5q4l5INuK0AwTKYKRj0zQNv5fmq8/DpAaCJseHrtQkB/+zpwzoxKQM3MzMzMeFJAZmZmZmZqWEAAAAAAAFxeQM3MzMzMJmJAmpmZmZkfZUBmZmZmZhhoQDMzMzMzEWtAAAAAAAAKbkBmZmZmZoFwQM3MzMzM/XFAMzMzMzN6c0CamZmZmfZ0QAAAAAAAc3ZAZmZmZmbvd0DNzMzMzGt5QDMzMzMz6HpAmpmZmZlkfEAAAAAAAOF9QGZmZmZmXX9AZmZmZuZsgECamZmZGSuBQM3MzMxM6YFAAAAAAICngkAzMzMzs2WDQGZmZmbmI4RAmpmZmRnihEDNzMzMTKCFQAAAAACAXoZAMzMzM7Mch0BmZmZm5tqHQJqZmZkZmYhAzczMzExXiUAAAAAAgBWKQDMzMzOz04pAZmZmZuaRi0CamZmZGVCMQM3MzMxMDo1AAAAAAIDMjUAzMzMzs4qOQGZmZmbmSI9A\",\"dtype\":\"float64\",\"shape\":[75]}},\"selected\":{\"id\":\"b8a06442-8942-4e71-824c-a679a9216b55\",\"type\":\"Selection\"},\"selection_policy\":{\"id\":\"878bb2f5-3566-439a-a609-dad992c2f640\",\"type\":\"UnionRenderers\"}},\"id\":\"e9af6a63-b660-4845-93ce-ea15c08010c4\",\"type\":\"ColumnDataSource\"},{\"attributes\":{},\"id\":\"145f6494-be6b-4b25-8dc0-39c4baa89909\",\"type\":\"Selection\"},{\"attributes\":{},\"id\":\"878bb2f5-3566-439a-a609-dad992c2f640\",\"type\":\"UnionRenderers\"},{\"attributes\":{},\"id\":\"8da9222b-676e-440e-a614-e0b07750c826\",\"type\":\"UnionRenderers\"},{\"attributes\":{\"fill_alpha\":{\"value\":0.7},\"fill_color\":{\"value\":\"#984ea3\"},\"line_alpha\":{\"value\":0.7},\"line_color\":{\"value\":\"#984ea3\"},\"x\":{\"field\":\"x\"},\"y\":{\"field\":\"y\"}},\"id\":\"df8f31b9-411b-4436-adf8-c9403115e545\",\"type\":\"Square\"},{\"attributes\":{},\"id\":\"98032948-00e1-4a8a-89dc-94969d066a37\",\"type\":\"UnionRenderers\"},{\"attributes\":{\"ticker\":null},\"id\":\"b5076245-ffd9-43ea-8641-0090d63bf94b\",\"type\":\"LogTickFormatter\"},{\"attributes\":{},\"id\":\"2525a862-b3eb-411d-b9fd-1b682de5d197\",\"type\":\"UnionRenderers\"},{\"attributes\":{},\"id\":\"f205fcf4-0d71-4732-9b7b-07ddffd847b7\",\"type\":\"Selection\"},{\"attributes\":{},\"id\":\"3913d0f9-438b-4861-82ac-27961099ee30\",\"type\":\"UnionRenderers\"},{\"attributes\":{\"data_source\":{\"id\":\"a32b05bc-2762-42e9-9663-c6664c240f89\",\"type\":\"ColumnDataSource\"},\"glyph\":{\"id\":\"b460d5f8-e092-4fe6-b482-e0148bee6fa1\",\"type\":\"Line\"},\"hover_glyph\":null,\"muted_glyph\":null,\"nonselection_glyph\":{\"id\":\"9382a096-e5f9-4e80-b107-70dc98b222ac\",\"type\":\"Line\"},\"selection_glyph\":null,\"view\":{\"id\":\"a571d810-b81e-40b2-a818-eac2c7adf160\",\"type\":\"CDSView\"}},\"id\":\"49123ff8-336a-471d-9493-5c1bf211fa0f\",\"type\":\"GlyphRenderer\"},{\"attributes\":{},\"id\":\"bb960849-0876-48e2-96aa-ddbd549b2509\",\"type\":\"UnionRenderers\"},{\"attributes\":{},\"id\":\"cc14d460-434f-4ada-ba61-a4449e8f39a1\",\"type\":\"BasicTickFormatter\"},{\"attributes\":{},\"id\":\"c6e761c1-0553-4e25-b062-69dd7a3de7f1\",\"type\":\"Selection\"},{\"attributes\":{\"dimension\":1,\"plot\":{\"id\":\"7ab4eff8-df01-447a-84f4-56bca5a49686\",\"subtype\":\"Figure\",\"type\":\"Plot\"},\"ticker\":{\"id\":\"674e92f0-d968-4c9e-a65c-ae12d8310a4d\",\"type\":\"BasicTicker\"}},\"id\":\"a9bde34c-1356-4050-844a-b7460fb0a25a\",\"type\":\"Grid\"},{\"attributes\":{},\"id\":\"8ad65285-f727-4891-9f10-5415fd4cda96\",\"type\":\"Selection\"},{\"attributes\":{},\"id\":\"7b3d2d4a-cf97-49df-8941-7a5457732114\",\"type\":\"UnionRenderers\"},{\"attributes\":{},\"id\":\"db5697d7-12f8-4a84-a564-b7d21182c339\",\"type\":\"Selection\"},{\"attributes\":{},\"id\":\"674e92f0-d968-4c9e-a65c-ae12d8310a4d\",\"type\":\"BasicTicker\"},{\"attributes\":{},\"id\":\"96336e9f-59fa-46fc-acbc-a28b00f8a86b\",\"type\":\"Selection\"},{\"attributes\":{},\"id\":\"7cd61a9c-b565-42f3-88d0-f58d89fffe4f\",\"type\":\"Selection\"},{\"attributes\":{\"toolbar\":{\"id\":\"aae0e190-133c-4962-b35a-8c4a2db0f4e7\",\"type\":\"ProxyToolbar\"},\"toolbar_location\":\"above\"},\"id\":\"66139d56-4ee4-4059-9f8f-4313ea8a8656\",\"type\":\"ToolbarBox\"},{\"attributes\":{},\"id\":\"7b8caa85-cfc5-446a-86ca-a94fec0b64db\",\"type\":\"UnionRenderers\"},{\"attributes\":{\"axis_label\":\"pressure [mb]\",\"formatter\":{\"id\":\"9b275971-446c-43ef-affc-39f91fa4accb\",\"type\":\"BasicTickFormatter\"},\"plot\":{\"id\":\"7ab4eff8-df01-447a-84f4-56bca5a49686\",\"subtype\":\"Figure\",\"type\":\"Plot\"},\"ticker\":{\"id\":\"674e92f0-d968-4c9e-a65c-ae12d8310a4d\",\"type\":\"BasicTicker\"}},\"id\":\"dcc4acd8-d2fb-4414-a9f4-c5edc05b1f5d\",\"type\":\"LinearAxis\"},{\"attributes\":{\"line_alpha\":0.1,\"line_color\":\"#1f77b4\",\"line_width\":3,\"x\":{\"field\":\"x\"},\"y\":{\"field\":\"y\"}},\"id\":\"57c1cf3d-894d-489b-a499-e35c265e3b7d\",\"type\":\"Line\"},{\"attributes\":{},\"id\":\"b963e093-5a4b-427c-831a-526e4c166468\",\"type\":\"UnionRenderers\"},{\"attributes\":{\"children\":[{\"id\":\"66139d56-4ee4-4059-9f8f-4313ea8a8656\",\"type\":\"ToolbarBox\"},{\"id\":\"f94e56b8-569a-4fd8-9dff-559c9e382cc9\",\"type\":\"Column\"}]},\"id\":\"141581cc-8aec-4c44-9c48-388cc91bae72\",\"type\":\"Column\"},{\"attributes\":{\"plot\":{\"id\":\"7ab4eff8-df01-447a-84f4-56bca5a49686\",\"subtype\":\"Figure\",\"type\":\"Plot\"},\"ticker\":{\"id\":\"74ad301c-2ea2-42d1-927d-8dbf059b6636\",\"type\":\"BasicTicker\"}},\"id\":\"50a5aac0-2494-4929-a2f3-2e6a9835ce9b\",\"type\":\"Grid\"},{\"attributes\":{},\"id\":\"74ad301c-2ea2-42d1-927d-8dbf059b6636\",\"type\":\"BasicTicker\"},{\"attributes\":{},\"id\":\"0a8db82e-daa0-4e63-a006-ae14a2dcf5b4\",\"type\":\"UnionRenderers\"},{\"attributes\":{\"tools\":[{\"id\":\"8f7c029b-83c5-4f8e-a7d1-28220bb83593\",\"type\":\"PanTool\"},{\"id\":\"2a13488e-50ec-4f2f-99cb-8efcaf4b1981\",\"type\":\"WheelZoomTool\"},{\"id\":\"8dc487eb-2c8b-43a0-a636-52603cf90aa3\",\"type\":\"BoxZoomTool\"},{\"id\":\"72a8c38c-9f0c-4b68-85b2-8fcc42dac9e3\",\"type\":\"SaveTool\"},{\"id\":\"c666f1bc-256c-458c-99cc-c807fbeea71f\",\"type\":\"ResetTool\"},{\"id\":\"d1c41a6a-9532-4c0c-b7b8-9d7db41e6b52\",\"type\":\"HelpTool\"},{\"id\":\"2efdf673-0ddc-45a0-b95f-2d77c322e843\",\"type\":\"PanTool\"},{\"id\":\"1a9570bb-c7a1-4805-97d7-776be6124aba\",\"type\":\"WheelZoomTool\"},{\"id\":\"b4261c82-92e5-4082-ada6-e61ed20d323f\",\"type\":\"BoxZoomTool\"},{\"id\":\"8524111c-ebc5-4fb4-898a-6ed2a25cd618\",\"type\":\"SaveTool\"},{\"id\":\"da884ced-d3d3-4db3-8911-beffabf7511f\",\"type\":\"ResetTool\"},{\"id\":\"3e4921f6-c494-4056-98ec-77c86970dbe4\",\"type\":\"HelpTool\"}]},\"id\":\"aae0e190-133c-4962-b35a-8c4a2db0f4e7\",\"type\":\"ProxyToolbar\"},{\"attributes\":{\"axis_label\":\"cooling rate [K/day]\",\"formatter\":{\"id\":\"3b47d1bd-8ea1-4ac4-9a83-f87611de8c56\",\"type\":\"BasicTickFormatter\"},\"plot\":{\"id\":\"7ab4eff8-df01-447a-84f4-56bca5a49686\",\"subtype\":\"Figure\",\"type\":\"Plot\"},\"ticker\":{\"id\":\"74ad301c-2ea2-42d1-927d-8dbf059b6636\",\"type\":\"BasicTicker\"}},\"id\":\"b09df9b0-e87a-4910-82e2-aed113513571\",\"type\":\"LinearAxis\"},{\"attributes\":{},\"id\":\"63b881bf-646c-4305-a4b0-77d158f4cc73\",\"type\":\"LinearScale\"},{\"attributes\":{\"callback\":null,\"end\":0.02490265317906,\"start\":-0.00031778308506000004},\"id\":\"4e6ba969-3c19-459f-95ee-ab0c4a5d517f\",\"type\":\"Range1d\"},{\"attributes\":{},\"id\":\"5f7ad0e6-60d3-49a5-9232-f5352f0a94bb\",\"type\":\"LinearScale\"},{\"attributes\":{\"above\":[{\"id\":\"82db1ad7-2d59-4618-97aa-504adae6ac95\",\"type\":\"Legend\"}],\"below\":[{\"id\":\"4e8cba15-4495-4869-a92f-d89f915775a5\",\"type\":\"LinearAxis\"}],\"left\":[{\"id\":\"9e286bb4-4916-4f2d-bbb7-e0cfdd0c035c\",\"type\":\"LogAxis\"}],\"plot_height\":500,\"plot_width\":400,\"renderers\":[{\"id\":\"4e8cba15-4495-4869-a92f-d89f915775a5\",\"type\":\"LinearAxis\"},{\"id\":\"1b15d0fa-0e15-4cde-8f84-e8025488e3ff\",\"type\":\"Grid\"},{\"id\":\"9e286bb4-4916-4f2d-bbb7-e0cfdd0c035c\",\"type\":\"LogAxis\"},{\"id\":\"610a0606-7dd9-46a5-a765-63bbb226e2a8\",\"type\":\"Grid\"},{\"id\":\"26cd18a7-c46a-435c-ae82-f24d55fddbc8\",\"type\":\"BoxAnnotation\"},{\"id\":\"446cf3dc-d750-4c86-9b60-77df90748fc5\",\"type\":\"GlyphRenderer\"},{\"id\":\"134d181f-ec5c-4fed-8fe2-0ed02d6fe2f6\",\"type\":\"GlyphRenderer\"},{\"id\":\"00ffce2b-41a9-4997-b8d2-b9a61c4d5177\",\"type\":\"GlyphRenderer\"},{\"id\":\"c0a51c9a-3a3b-4785-8668-92c3be2339f2\",\"type\":\"GlyphRenderer\"},{\"id\":\"b5776120-cc4f-48c9-999b-b115b46a7ae0\",\"type\":\"GlyphRenderer\"},{\"id\":\"2db355ec-cd69-4cd4-bfcc-8ec89c9c122f\",\"type\":\"GlyphRenderer\"},{\"id\":\"82db1ad7-2d59-4618-97aa-504adae6ac95\",\"type\":\"Legend\"}],\"title\":{\"id\":\"b8ca4fea-d049-4db4-abbf-e2b2adb1f2a6\",\"type\":\"Title\"},\"toolbar\":{\"id\":\"a5177dbd-07de-44f7-a23a-b300618f451a\",\"type\":\"Toolbar\"},\"toolbar_location\":null,\"x_range\":{\"id\":\"2dc1c65f-39a2-46c7-85f9-f4923d010d8a\",\"type\":\"Range1d\"},\"x_scale\":{\"id\":\"4c1b0d4e-8f9c-422d-81b1-acaf108c5374\",\"type\":\"LinearScale\"},\"y_range\":{\"id\":\"d65c15c9-2a8f-43f8-98fd-7fa42faf9a2f\",\"type\":\"Range1d\"},\"y_scale\":{\"id\":\"8a337420-ec47-4f09-9cbc-927b10ded3e5\",\"type\":\"LogScale\"}},\"id\":\"6fdcb45e-36bd-40c0-a410-32d1092481ed\",\"subtype\":\"Figure\",\"type\":\"Plot\"},{\"attributes\":{\"items\":[{\"id\":\"aa49c498-24de-4ddb-8ef1-ca621124f81c\",\"type\":\"LegendItem\"},{\"id\":\"bdb68948-23d4-4f34-b569-905b7d1f53bd\",\"type\":\"LegendItem\"},{\"id\":\"db14e912-5473-4dc3-afae-c8b9ff125ad9\",\"type\":\"LegendItem\"}],\"label_text_font_size\":{\"value\":\"8pt\"},\"location\":\"top_center\",\"orientation\":\"horizontal\",\"plot\":{\"id\":\"7ab4eff8-df01-447a-84f4-56bca5a49686\",\"subtype\":\"Figure\",\"type\":\"Plot\"}},\"id\":\"db54963b-2292-4537-9ed7-e687b672fc09\",\"type\":\"Legend\"},{\"attributes\":{\"active_drag\":\"auto\",\"active_inspect\":\"auto\",\"active_scroll\":\"auto\",\"active_tap\":\"auto\",\"tools\":[{\"id\":\"8f7c029b-83c5-4f8e-a7d1-28220bb83593\",\"type\":\"PanTool\"},{\"id\":\"2a13488e-50ec-4f2f-99cb-8efcaf4b1981\",\"type\":\"WheelZoomTool\"},{\"id\":\"8dc487eb-2c8b-43a0-a636-52603cf90aa3\",\"type\":\"BoxZoomTool\"},{\"id\":\"72a8c38c-9f0c-4b68-85b2-8fcc42dac9e3\",\"type\":\"SaveTool\"},{\"id\":\"c666f1bc-256c-458c-99cc-c807fbeea71f\",\"type\":\"ResetTool\"},{\"id\":\"d1c41a6a-9532-4c0c-b7b8-9d7db41e6b52\",\"type\":\"HelpTool\"}]},\"id\":\"84fe0b00-c302-4d20-9edc-cae748a70241\",\"type\":\"Toolbar\"},{\"attributes\":{\"above\":[{\"id\":\"db54963b-2292-4537-9ed7-e687b672fc09\",\"type\":\"Legend\"}],\"below\":[{\"id\":\"b09df9b0-e87a-4910-82e2-aed113513571\",\"type\":\"LinearAxis\"}],\"left\":[{\"id\":\"dcc4acd8-d2fb-4414-a9f4-c5edc05b1f5d\",\"type\":\"LinearAxis\"}],\"plot_height\":500,\"plot_width\":400,\"renderers\":[{\"id\":\"b09df9b0-e87a-4910-82e2-aed113513571\",\"type\":\"LinearAxis\"},{\"id\":\"50a5aac0-2494-4929-a2f3-2e6a9835ce9b\",\"type\":\"Grid\"},{\"id\":\"dcc4acd8-d2fb-4414-a9f4-c5edc05b1f5d\",\"type\":\"LinearAxis\"},{\"id\":\"a9bde34c-1356-4050-844a-b7460fb0a25a\",\"type\":\"Grid\"},{\"id\":\"91d618c0-fdde-42e9-80aa-b2b8e1ab6d33\",\"type\":\"BoxAnnotation\"},{\"id\":\"9197c28c-c7ba-4487-a123-66a01091b7cc\",\"type\":\"GlyphRenderer\"},{\"id\":\"49123ff8-336a-471d-9493-5c1bf211fa0f\",\"type\":\"GlyphRenderer\"},{\"id\":\"0a8fbd56-223f-4658-aa47-01fca2e35e55\",\"type\":\"GlyphRenderer\"},{\"id\":\"27cf7854-f37f-4346-ae52-9a1527343e53\",\"type\":\"GlyphRenderer\"},{\"id\":\"02750d18-9539-41e0-b2d6-efae02ae153b\",\"type\":\"GlyphRenderer\"},{\"id\":\"e23d00c4-069f-4618-b681-395038053ccd\",\"type\":\"GlyphRenderer\"},{\"id\":\"db54963b-2292-4537-9ed7-e687b672fc09\",\"type\":\"Legend\"}],\"title\":{\"id\":\"01eecdcb-3503-4e03-b177-0f6ca462b30b\",\"type\":\"Title\"},\"toolbar\":{\"id\":\"84fe0b00-c302-4d20-9edc-cae748a70241\",\"type\":\"Toolbar\"},\"toolbar_location\":null,\"x_range\":{\"id\":\"4e6ba969-3c19-459f-95ee-ab0c4a5d517f\",\"type\":\"Range1d\"},\"x_scale\":{\"id\":\"5f7ad0e6-60d3-49a5-9232-f5352f0a94bb\",\"type\":\"LinearScale\"},\"y_range\":{\"id\":\"b1c4e3fc-e9dd-404f-88c2-265b0cb032b7\",\"type\":\"Range1d\"},\"y_scale\":{\"id\":\"63b881bf-646c-4305-a4b0-77d158f4cc73\",\"type\":\"LinearScale\"}},\"id\":\"7ab4eff8-df01-447a-84f4-56bca5a49686\",\"subtype\":\"Figure\",\"type\":\"Plot\"},{\"attributes\":{\"data_source\":{\"id\":\"92a9ee3a-a3b1-43cd-a24f-e34f8623b796\",\"type\":\"ColumnDataSource\"},\"glyph\":{\"id\":\"857c0136-e7cd-4789-874b-57364f03f036\",\"type\":\"Line\"},\"hover_glyph\":null,\"muted_glyph\":null,\"nonselection_glyph\":{\"id\":\"57c1cf3d-894d-489b-a499-e35c265e3b7d\",\"type\":\"Line\"},\"selection_glyph\":null,\"view\":{\"id\":\"bff73b71-fedc-4bfa-bfa6-88426c135597\",\"type\":\"CDSView\"}},\"id\":\"27cf7854-f37f-4346-ae52-9a1527343e53\",\"type\":\"GlyphRenderer\"},{\"attributes\":{\"fill_alpha\":{\"value\":0.7},\"fill_color\":{\"value\":\"#377eb8\"},\"line_alpha\":{\"value\":0.7},\"line_color\":{\"value\":\"#377eb8\"},\"x\":{\"field\":\"x\"},\"y\":{\"field\":\"y\"}},\"id\":\"f1194605-6bef-4a28-b9bd-f214f3372ecd\",\"type\":\"Triangle\"},{\"attributes\":{\"data_source\":{\"id\":\"137bb071-0e34-40b3-9bd6-832289c5e1f7\",\"type\":\"ColumnDataSource\"},\"glyph\":{\"id\":\"f1194605-6bef-4a28-b9bd-f214f3372ecd\",\"type\":\"Triangle\"},\"hover_glyph\":null,\"muted_glyph\":null,\"nonselection_glyph\":{\"id\":\"047f9140-b0ae-4919-b5ce-bf811215cb6c\",\"type\":\"Triangle\"},\"selection_glyph\":null,\"view\":{\"id\":\"ecd7d1ca-be5a-4ac5-bcad-88c30853355b\",\"type\":\"CDSView\"}},\"id\":\"02750d18-9539-41e0-b2d6-efae02ae153b\",\"type\":\"GlyphRenderer\"},{\"attributes\":{\"source\":{\"id\":\"92a9ee3a-a3b1-43cd-a24f-e34f8623b796\",\"type\":\"ColumnDataSource\"}},\"id\":\"bff73b71-fedc-4bfa-bfa6-88426c135597\",\"type\":\"CDSView\"},{\"attributes\":{\"callback\":null,\"data\":{\"x\":{\"__ndarray__\":\"D1oYsF4k3L7dpeO3kCjcvvkmXcFRL9y+q0oPiE8z3L40h9m34zPcvp8dqjXuMNy++st8/kUq3L7LrOM0yR/cvnjbtftNEdy+fSfE4LT+2751j+8E2ufbvnZTEv2dzNu+clDkB9+s276iG4aB44XbvqkSMK1d7dq+0BUtDcAg2L7zDYGJ6izQvsno2efNjo2+Epp7q0Qo2T6MYWk5ZcvwPnRikrTyhQA/KKy/siCjDD9eUKDnwf4UP38WSwmHoxU/r+6aEyw/ED+ImJkA85oFP7SP3LSoifo+ok8Baxxe7T5V6DnJPOvaPi02WYE6VbY+FO14GJqjwr4usf73LXbTviBGlrqIb9m+tLRNpKzw3L6URECY8ZjfvgjfTIjP1OC+RgL1o4Js4b4JoBvOALnhvndF7X1Z8+G+9uQoy1S64r4Z6G2RLq/rvsC0GQv8UAC/N1kF2xgcDb/2k7t6x3wSv5pr6ynIjgO/EMDoSDMaGT8s6utvhGI2P/xsYMukL0g/aVTSXhPGVT99+/rmZalhP1dTqqSUp2o/hu7zz3ykcj/0VopREc94Px+eJu0t8H8/mQJr95j4gz8Ia92ytVGIP90xfBFb5Iw/BK3KAkl/kT+shMERsXyUP+SCh/eJ9JY/RW0EqsuemD8xmJl7Qz+ZP2rRTEHIw5g/BURbqt9Alz/rK6A0+u+UP+IhkViAJpI/gmc72d9vjj81M8iXL7OIP9FYywLFRoM/Ih9dLNHAfD8Q6tll3LF0P+3L0Zdp8W0/7/HwhPjlZz+oubJOkO1oP9eyxw/GpHM/\",\"dtype\":\"float64\",\"shape\":[75]},\"y\":{\"__ndarray__\":\"GhExyth1ND/Sv8nbtpRIP2vylNV0PVE/aTum7souWD/At0SJ8fVgPw3Iuahxymc/MSNhhJWvcD/bTfBN02d3P2zb5nxnaoA/CD5h5MAGhz8NmeH1TyaQP+zrCsc9p5Y/LbKd76fGnz/bLW5ISEmmPww9YvTcQq8/JV2OstnstT8Er5Y7M8G+P0c+r3jqkcU/5h99k6ZBzj88bCIzFzjVP4enV8oyxN0//yH99nXg5D8qOpLLf0jtP5kqGJXUifQ/c9cS8kHP/D+/DpwzojQEQIEmwoanVwxA4lgXt9HgE0BSSZ2AJuIbQAMJih9jjiNA5q4l5INuK0AwTKYKRj0zQNv5fmq8/DpAaCJseHrtQkB/+zpwzoxKQM3MzMzMeFJAZmZmZmZqWEAAAAAAAFxeQM3MzMzMJmJAmpmZmZkfZUBmZmZmZhhoQDMzMzMzEWtAAAAAAAAKbkBmZmZmZoFwQM3MzMzM/XFAMzMzMzN6c0CamZmZmfZ0QAAAAAAAc3ZAZmZmZmbvd0DNzMzMzGt5QDMzMzMz6HpAmpmZmZlkfEAAAAAAAOF9QGZmZmZmXX9AZmZmZuZsgECamZmZGSuBQM3MzMxM6YFAAAAAAICngkAzMzMzs2WDQGZmZmbmI4RAmpmZmRnihEDNzMzMTKCFQAAAAACAXoZAMzMzM7Mch0BmZmZm5tqHQJqZmZkZmYhAzczMzExXiUAAAAAAgBWKQDMzMzOz04pAZmZmZuaRi0CamZmZGVCMQM3MzMxMDo1AAAAAAIDMjUAzMzMzs4qOQGZmZmbmSI9A\",\"dtype\":\"float64\",\"shape\":[75]}},\"selected\":{\"id\":\"7e9c9ea1-35c2-40db-a385-956ac7138e81\",\"type\":\"Selection\"},\"selection_policy\":{\"id\":\"2525a862-b3eb-411d-b9fd-1b682de5d197\",\"type\":\"UnionRenderers\"}},\"id\":\"137bb071-0e34-40b3-9bd6-832289c5e1f7\",\"type\":\"ColumnDataSource\"}],\"root_ids\":[\"141581cc-8aec-4c44-9c48-388cc91bae72\"]},\"title\":\"Bokeh Application\",\"version\":\"0.12.16\"}};\n",
       "  var render_items = [{\"docid\":\"6134db13-ff7c-4260-8374-a0ceeb4b4652\",\"elementid\":\"7eb9a9ab-d85c-4025-b69d-8102ad196c40\",\"modelid\":\"141581cc-8aec-4c44-9c48-388cc91bae72\"}];\n",
       "  root.Bokeh.embed.embed_items_notebook(docs_json, render_items);\n",
       "\n",
       "  }\n",
       "  if (root.Bokeh !== undefined) {\n",
       "    embed_document(root);\n",
       "  } else {\n",
       "    var attempts = 0;\n",
       "    var timer = setInterval(function(root) {\n",
       "      if (root.Bokeh !== undefined) {\n",
       "        embed_document(root);\n",
       "        clearInterval(timer);\n",
       "      }\n",
       "      attempts++;\n",
       "      if (attempts > 100) {\n",
       "        console.log(\"Bokeh: ERROR: Unable to run BokehJS code because BokehJS library is missing\")\n",
       "        clearInterval(timer);\n",
       "      }\n",
       "    }, 10, root)\n",
       "  }\n",
       "})(window);"
      ],
      "application/vnd.bokehjs_exec.v0+json": ""
     },
     "metadata": {
      "application/vnd.bokehjs_exec.v0+json": {
       "id": "141581cc-8aec-4c44-9c48-388cc91bae72"
      }
     },
     "output_type": "display_data"
    },
    {
     "data": {
      "text/markdown": [
       "*FIGURE.* Cooling rates. g=1"
      ],
      "text/plain": [
       "<IPython.core.display.Markdown object>"
      ]
     },
     "metadata": {},
     "output_type": "display_data"
    },
    {
     "data": {
      "text/html": [
       "\n",
       "<div class=\"bk-root\">\n",
       "    <div class=\"bk-plotdiv\" id=\"9c6ff9a7-e11e-4498-b6d5-8588df73ef9a\"></div>\n",
       "</div>"
      ]
     },
     "metadata": {},
     "output_type": "display_data"
    },
    {
     "data": {
      "application/javascript": [
       "(function(root) {\n",
       "  function embed_document(root) {\n",
       "    \n",
       "  var docs_json = {\"75783873-0770-40bc-8ada-8a445ba43c99\":{\"roots\":{\"references\":[{\"attributes\":{\"num_minor_ticks\":10},\"id\":\"c314fa45-adcc-40ce-bc30-5abbd3e401ac\",\"type\":\"LogTicker\"},{\"attributes\":{\"axis_label\":\"pressure [mb]\",\"formatter\":{\"id\":\"5042fa63-6ddd-42b2-a51e-5f3650cd5dab\",\"type\":\"LogTickFormatter\"},\"plot\":{\"id\":\"abcc5f8b-2bda-42b0-aaed-05fd36bb50fa\",\"subtype\":\"Figure\",\"type\":\"Plot\"},\"ticker\":{\"id\":\"c314fa45-adcc-40ce-bc30-5abbd3e401ac\",\"type\":\"LogTicker\"}},\"id\":\"812e8a69-a8c1-462d-ae9b-77f02170e7fe\",\"type\":\"LogAxis\"},{\"attributes\":{\"data_source\":{\"id\":\"da006146-86dc-424b-9493-7ea34710941a\",\"type\":\"ColumnDataSource\"},\"glyph\":{\"id\":\"6bcc93b0-4991-435d-abea-d64bef496491\",\"type\":\"Line\"},\"hover_glyph\":null,\"muted_glyph\":null,\"nonselection_glyph\":{\"id\":\"8703652f-fad5-4004-8a10-71e86f9ba803\",\"type\":\"Line\"},\"selection_glyph\":null,\"view\":{\"id\":\"f652f125-d0e8-4b13-a0dd-7d6901eddf49\",\"type\":\"CDSView\"}},\"id\":\"b4f912cb-5ea6-4de2-8298-a805ef0d7740\",\"type\":\"GlyphRenderer\"},{\"attributes\":{\"data_source\":{\"id\":\"928cb63d-8b31-45ff-a186-7daff92026b2\",\"type\":\"ColumnDataSource\"},\"glyph\":{\"id\":\"cb9ca936-3248-404c-bcbd-9ab12c11e40a\",\"type\":\"Circle\"},\"hover_glyph\":null,\"muted_glyph\":null,\"nonselection_glyph\":{\"id\":\"2bd4a42d-a89c-4e83-9a4f-cec0cabdb38c\",\"type\":\"Circle\"},\"selection_glyph\":null,\"view\":{\"id\":\"02ce3c43-4659-4792-a27a-617ef69dc73a\",\"type\":\"CDSView\"}},\"id\":\"ed2516f4-a39c-4ee6-9723-1f006b88f336\",\"type\":\"GlyphRenderer\"},{\"attributes\":{\"fill_alpha\":{\"value\":0.1},\"fill_color\":{\"value\":\"#1f77b4\"},\"line_alpha\":{\"value\":0.1},\"line_color\":{\"value\":\"#1f77b4\"},\"x\":{\"field\":\"x\"},\"y\":{\"field\":\"y\"}},\"id\":\"2bd4a42d-a89c-4e83-9a4f-cec0cabdb38c\",\"type\":\"Circle\"},{\"attributes\":{\"fill_alpha\":{\"value\":0.7},\"fill_color\":{\"value\":\"#4daf4a\"},\"line_alpha\":{\"value\":0.7},\"line_color\":{\"value\":\"#4daf4a\"},\"x\":{\"field\":\"x\"},\"y\":{\"field\":\"y\"}},\"id\":\"cb9ca936-3248-404c-bcbd-9ab12c11e40a\",\"type\":\"Circle\"},{\"attributes\":{\"callback\":null,\"data\":{\"x\":{\"__ndarray__\":\"Echz3tY1vL5OOlm+H0e8vvqXDmoQaby+F9/FqmSMvL4rMz4OH628vmThc5CHzLy+lO22cZvqvL4oImO2PAa9vgIdDJQKIL2+QyRvoa03vb4YyQoKzEy9vskGTFu6X72+YxROyjpwvb7aHUv2z369viJRyQfvk72+Ow7GQIILvb6z/wqv2Hm5vo3EEpGnBLC+qzPhESU5jT7MdF5JKkbEPvplh0l0ato+dtQ6NIHi6j5dQPYA8sD1PmwH811Hj/Y++9gdXLRm7z6yq4F+BJriPiBWSbwtYtM+djlAzYDGvz61x/Thf2WQPuTsWEP2Zqm+NVvVyMlqt7765oeKPTe+vrJgOZqtLMG+IF9UGxi5wr5Z+7UvbE3Evjx3hJxCE8a+yv1C22zyx77C9DS1WMzJvkHqh9AYn8u+kcKTzqWlzr4Sz9qZz9fYvkNKej+o4vC+ggQfJH+AAr9WTTLUR6YQv1AL4P6eVhi/wdvRNBCaFr+Xb8tpM04Cv/MvHOQCixQ/v5/VGNWXMj8EzrOomjpEP830aRq2W1I/78fGq4eCXT8fxuL+tRFmP0N+HB7ZlG8//JZR1ZHWdT/5xZa2IGF9P6PWTYzZUIM/jlfU6wwPij/Pq+tkMTCRP+zB9T/4BJY/MZLxs4d5mz+SAf77HLegP2zIBYj+4KM/4G86HVYlpz/pOpkn82mqPzTkPaZsk60/S99Sa+0/sD+84ZJx+YCxP669etX9dbI/CDBLjHwWsz+fYhk+yW2zPwU+XeJqkrM/QpgGPjmcsz9IM8UFaKezP+P7shl/2bM/\",\"dtype\":\"float64\",\"shape\":[75]},\"y\":{\"__ndarray__\":\"GhExyth1ND/Sv8nbtpRIP2vylNV0PVE/aTum7souWD/At0SJ8fVgPw3Iuahxymc/MSNhhJWvcD/bTfBN02d3P2zb5nxnaoA/CD5h5MAGhz8NmeH1TyaQP+zrCsc9p5Y/LbKd76fGnz/bLW5ISEmmPww9YvTcQq8/JV2OstnstT8Er5Y7M8G+P0c+r3jqkcU/5h99k6ZBzj88bCIzFzjVP4enV8oyxN0//yH99nXg5D8qOpLLf0jtP5kqGJXUifQ/c9cS8kHP/D+/DpwzojQEQIEmwoanVwxA4lgXt9HgE0BSSZ2AJuIbQAMJih9jjiNA5q4l5INuK0AwTKYKRj0zQNv5fmq8/DpAaCJseHrtQkB/+zpwzoxKQM3MzMzMeFJAZmZmZmZqWEAAAAAAAFxeQM3MzMzMJmJAmpmZmZkfZUBmZmZmZhhoQDMzMzMzEWtAAAAAAAAKbkBmZmZmZoFwQM3MzMzM/XFAMzMzMzN6c0CamZmZmfZ0QAAAAAAAc3ZAZmZmZmbvd0DNzMzMzGt5QDMzMzMz6HpAmpmZmZlkfEAAAAAAAOF9QGZmZmZmXX9AZmZmZuZsgECamZmZGSuBQM3MzMxM6YFAAAAAAICngkAzMzMzs2WDQGZmZmbmI4RAmpmZmRnihEDNzMzMTKCFQAAAAACAXoZAMzMzM7Mch0BmZmZm5tqHQJqZmZkZmYhAzczMzExXiUAAAAAAgBWKQDMzMzOz04pAZmZmZuaRi0CamZmZGVCMQM3MzMxMDo1AAAAAAIDMjUAzMzMzs4qOQGZmZmbmSI9A\",\"dtype\":\"float64\",\"shape\":[75]}},\"selected\":{\"id\":\"c1005690-2fc9-43af-99f1-cc3b4c018f57\",\"type\":\"Selection\"},\"selection_policy\":{\"id\":\"ca30aa20-baf1-4e6a-9bed-f899a501405b\",\"type\":\"UnionRenderers\"}},\"id\":\"da006146-86dc-424b-9493-7ea34710941a\",\"type\":\"ColumnDataSource\"},{\"attributes\":{\"plot\":{\"id\":\"abcc5f8b-2bda-42b0-aaed-05fd36bb50fa\",\"subtype\":\"Figure\",\"type\":\"Plot\"},\"ticker\":{\"id\":\"4d2e9f40-51d2-4f87-84b3-a7349879b804\",\"type\":\"BasicTicker\"}},\"id\":\"fcbb3068-9842-4bef-8707-aa5535cb3d99\",\"type\":\"Grid\"},{\"attributes\":{\"line_color\":\"#4daf4a\",\"line_width\":1.5,\"x\":{\"field\":\"x\"},\"y\":{\"field\":\"y\"}},\"id\":\"6bcc93b0-4991-435d-abea-d64bef496491\",\"type\":\"Line\"},{\"attributes\":{\"line_alpha\":0.1,\"line_color\":\"#1f77b4\",\"line_width\":1.5,\"x\":{\"field\":\"x\"},\"y\":{\"field\":\"y\"}},\"id\":\"8703652f-fad5-4004-8a10-71e86f9ba803\",\"type\":\"Line\"},{\"attributes\":{\"dimension\":1,\"plot\":{\"id\":\"abcc5f8b-2bda-42b0-aaed-05fd36bb50fa\",\"subtype\":\"Figure\",\"type\":\"Plot\"},\"ticker\":{\"id\":\"c314fa45-adcc-40ce-bc30-5abbd3e401ac\",\"type\":\"LogTicker\"}},\"id\":\"c03b9739-1b16-4b57-8f23-09f86ad51188\",\"type\":\"Grid\"},{\"attributes\":{\"source\":{\"id\":\"928cb63d-8b31-45ff-a186-7daff92026b2\",\"type\":\"ColumnDataSource\"}},\"id\":\"02ce3c43-4659-4792-a27a-617ef69dc73a\",\"type\":\"CDSView\"},{\"attributes\":{\"source\":{\"id\":\"da006146-86dc-424b-9493-7ea34710941a\",\"type\":\"ColumnDataSource\"}},\"id\":\"f652f125-d0e8-4b13-a0dd-7d6901eddf49\",\"type\":\"CDSView\"},{\"attributes\":{\"above\":[{\"id\":\"fb612eed-4be6-4712-963e-0a93deb98445\",\"type\":\"Legend\"}],\"below\":[{\"id\":\"d038a820-a30e-4988-acb9-15b66497ce56\",\"type\":\"LinearAxis\"}],\"left\":[{\"id\":\"8f573c47-4f80-4c61-9bc5-07142db85efe\",\"type\":\"LinearAxis\"}],\"plot_height\":500,\"plot_width\":400,\"renderers\":[{\"id\":\"d038a820-a30e-4988-acb9-15b66497ce56\",\"type\":\"LinearAxis\"},{\"id\":\"b0f02d2d-d093-4054-bf43-25fb297ca082\",\"type\":\"Grid\"},{\"id\":\"8f573c47-4f80-4c61-9bc5-07142db85efe\",\"type\":\"LinearAxis\"},{\"id\":\"25e528d3-d603-460a-8cf9-5ac03f1e470d\",\"type\":\"Grid\"},{\"id\":\"c5b6191c-fcdd-400b-a531-9124d56aa9e4\",\"type\":\"BoxAnnotation\"},{\"id\":\"ed2516f4-a39c-4ee6-9723-1f006b88f336\",\"type\":\"GlyphRenderer\"},{\"id\":\"b4f912cb-5ea6-4de2-8298-a805ef0d7740\",\"type\":\"GlyphRenderer\"},{\"id\":\"da2d9dbe-7df6-4ab9-a54c-70e59bda7915\",\"type\":\"GlyphRenderer\"},{\"id\":\"bd242976-c771-4777-9d1f-7d0a0f56fddb\",\"type\":\"GlyphRenderer\"},{\"id\":\"080581ed-60fb-4e1c-a041-6617c49f6f99\",\"type\":\"GlyphRenderer\"},{\"id\":\"cb8d618b-f29f-47d3-8d90-c381e9a75d65\",\"type\":\"GlyphRenderer\"},{\"id\":\"fb612eed-4be6-4712-963e-0a93deb98445\",\"type\":\"Legend\"}],\"title\":{\"id\":\"0d9922dd-65f3-4f35-9b50-439eff3835a5\",\"type\":\"Title\"},\"toolbar\":{\"id\":\"819ac243-569f-4bc2-bf44-83738c42656d\",\"type\":\"Toolbar\"},\"toolbar_location\":null,\"x_range\":{\"id\":\"05a7ea74-9659-410b-ad00-97eec5143550\",\"type\":\"Range1d\"},\"x_scale\":{\"id\":\"f10b1d8d-0340-49c9-9338-0469670a600b\",\"type\":\"LinearScale\"},\"y_range\":{\"id\":\"fe258349-d28b-496e-bc7c-55ffe99275b9\",\"type\":\"Range1d\"},\"y_scale\":{\"id\":\"a88e7749-19f3-4f2f-be28-2219c6e23a1b\",\"type\":\"LinearScale\"}},\"id\":\"aa9d92e2-f380-47c4-bc87-d7dad0d1d59a\",\"subtype\":\"Figure\",\"type\":\"Plot\"},{\"attributes\":{\"overlay\":{\"id\":\"c5b6191c-fcdd-400b-a531-9124d56aa9e4\",\"type\":\"BoxAnnotation\"}},\"id\":\"88faf3a1-15dd-4f9d-bba6-c1ee5510bd7f\",\"type\":\"BoxZoomTool\"},{\"attributes\":{},\"id\":\"ed332994-30ca-45cc-9696-50c29c38ef45\",\"type\":\"WheelZoomTool\"},{\"attributes\":{},\"id\":\"21824cc9-db90-45f3-936b-c57f7dea9e41\",\"type\":\"ResetTool\"},{\"attributes\":{\"data_source\":{\"id\":\"285a1ee8-6272-4085-8287-fa115c61c7b0\",\"type\":\"ColumnDataSource\"},\"glyph\":{\"id\":\"01649487-8365-4e85-bc61-9ca5a4fcb00b\",\"type\":\"Line\"},\"hover_glyph\":null,\"muted_glyph\":null,\"nonselection_glyph\":{\"id\":\"3eea80a1-4c9a-4dec-a8e2-4f9b96803e40\",\"type\":\"Line\"},\"selection_glyph\":null,\"view\":{\"id\":\"a7150438-72cc-48b7-b161-514d98487530\",\"type\":\"CDSView\"}},\"id\":\"bd242976-c771-4777-9d1f-7d0a0f56fddb\",\"type\":\"GlyphRenderer\"},{\"attributes\":{\"line_color\":\"#4daf4a\",\"line_width\":1.5,\"x\":{\"field\":\"x\"},\"y\":{\"field\":\"y\"}},\"id\":\"d2a9063a-95ba-446f-86dc-8a3694cb1ca7\",\"type\":\"Line\"},{\"attributes\":{},\"id\":\"cd367a88-38b2-4fb7-97c6-9fdc851f2766\",\"type\":\"SaveTool\"},{\"attributes\":{\"line_alpha\":0.6,\"line_color\":\"#984ea3\",\"line_width\":3,\"x\":{\"field\":\"x\"},\"y\":{\"field\":\"y\"}},\"id\":\"01649487-8365-4e85-bc61-9ca5a4fcb00b\",\"type\":\"Line\"},{\"attributes\":{\"callback\":null,\"data\":{\"x\":{\"__ndarray__\":\"6WKTMJMosr4IeHjl+DWyvngJJKMjUbK+er6X2NFtsr4wuNins4myvv47/xTSpLK+U3F9AHi/sr4w3WlWGdmyvjf0jBsT8rK+BmEWzCwKs76HkXEedyGzvkrzzYnlN7O+DfjmBIZNs74jmrnWmWOzvreI68ecmLO+UgxzYXLLs76A+0MDrruyvgVh6FyNkK2+/H1sAOyQlr5vlJoP2+qoPv2dasu2wcY+oF6bwqia2T4Kll1hPJrlPj4fd5fWhOY+srZw+QGd3j7AfYXn7TjRPvC29Owm6L8+f5na9jGtoD7TRG8gxJKXvs3VQyRJTa2+EWMITKR4tL52np69poW4vjNhDxGWhru+y3M0VxBlvr7iT0YTXNzAvvQ1rJ+P2MK+sZTmNgj+xL7bLyMLNRvHvtUuZGQBJsm+RPnshpFOzL5Cf3WSH17Xvrt9aSzRTPC+2Dlmdy9+Ar/aTWQjaYARv0D5GYop5Ru/BrAMX1sOH7/ITa5kRFkZvwHB2wnMsv2+7kqV0hvmHD/SaJMpYhs2P5IYfWxTMEc/9L5i5irxUz/B9H4inSFfP5n7osNO+GY/WAR8SEpLcD9iRP73aV52P9yxtjwm+H0/sn1yW/WVhD9ZzK+2x6qLP75+11PqE5I/Iio24bwKlz8hfRQnV66cP0MzvwLneKE/vL3jlZ3epD+Hdq4lbXWoP7RvQq+sJaw/1RkaeoTNrz81o22cF56xP1K7ptqDHbM/Z5+1RRNUtD9g8IxdckG1PxOFM0tE8LU/LQ9T1Plttj+7W7cTtcy2P989SmlZHrc/\",\"dtype\":\"float64\",\"shape\":[75]},\"y\":{\"__ndarray__\":\"GhExyth1ND/Sv8nbtpRIP2vylNV0PVE/aTum7souWD/At0SJ8fVgPw3Iuahxymc/MSNhhJWvcD/bTfBN02d3P2zb5nxnaoA/CD5h5MAGhz8NmeH1TyaQP+zrCsc9p5Y/LbKd76fGnz/bLW5ISEmmPww9YvTcQq8/JV2OstnstT8Er5Y7M8G+P0c+r3jqkcU/5h99k6ZBzj88bCIzFzjVP4enV8oyxN0//yH99nXg5D8qOpLLf0jtP5kqGJXUifQ/c9cS8kHP/D+/DpwzojQEQIEmwoanVwxA4lgXt9HgE0BSSZ2AJuIbQAMJih9jjiNA5q4l5INuK0AwTKYKRj0zQNv5fmq8/DpAaCJseHrtQkB/+zpwzoxKQM3MzMzMeFJAZmZmZmZqWEAAAAAAAFxeQM3MzMzMJmJAmpmZmZkfZUBmZmZmZhhoQDMzMzMzEWtAAAAAAAAKbkBmZmZmZoFwQM3MzMzM/XFAMzMzMzN6c0CamZmZmfZ0QAAAAAAAc3ZAZmZmZmbvd0DNzMzMzGt5QDMzMzMz6HpAmpmZmZlkfEAAAAAAAOF9QGZmZmZmXX9AZmZmZuZsgECamZmZGSuBQM3MzMxM6YFAAAAAAICngkAzMzMzs2WDQGZmZmbmI4RAmpmZmRnihEDNzMzMTKCFQAAAAACAXoZAMzMzM7Mch0BmZmZm5tqHQJqZmZkZmYhAzczMzExXiUAAAAAAgBWKQDMzMzOz04pAZmZmZuaRi0CamZmZGVCMQM3MzMxMDo1AAAAAAIDMjUAzMzMzs4qOQGZmZmbmSI9A\",\"dtype\":\"float64\",\"shape\":[75]}},\"selected\":{\"id\":\"c3864100-4a12-4678-8a7c-d59a037934b4\",\"type\":\"Selection\"},\"selection_policy\":{\"id\":\"24c89e78-7868-42b9-8b80-2cc1833def78\",\"type\":\"UnionRenderers\"}},\"id\":\"bfea57f9-06da-4953-9559-72f72ba38cc9\",\"type\":\"ColumnDataSource\"},{\"attributes\":{},\"id\":\"7928eaf3-97e0-4a39-ab68-1a6967bf8531\",\"type\":\"PanTool\"},{\"attributes\":{\"data_source\":{\"id\":\"1acbfcd6-b681-44b3-a36c-689d93c7c10e\",\"type\":\"ColumnDataSource\"},\"glyph\":{\"id\":\"a0718d96-7bc0-4c7e-b302-23778602ce35\",\"type\":\"Triangle\"},\"hover_glyph\":null,\"muted_glyph\":null,\"nonselection_glyph\":{\"id\":\"a45e8e90-b8e5-42aa-8a11-5bf46466b484\",\"type\":\"Triangle\"},\"selection_glyph\":null,\"view\":{\"id\":\"59abf1a7-2313-42b8-b0dd-bca2cabb1067\",\"type\":\"CDSView\"}},\"id\":\"080581ed-60fb-4e1c-a041-6617c49f6f99\",\"type\":\"GlyphRenderer\"},{\"attributes\":{\"fill_alpha\":{\"value\":0.1},\"fill_color\":{\"value\":\"#1f77b4\"},\"line_alpha\":{\"value\":0.1},\"line_color\":{\"value\":\"#1f77b4\"},\"x\":{\"field\":\"x\"},\"y\":{\"field\":\"y\"}},\"id\":\"a45e8e90-b8e5-42aa-8a11-5bf46466b484\",\"type\":\"Triangle\"},{\"attributes\":{\"line_alpha\":0.1,\"line_color\":\"#1f77b4\",\"line_width\":2,\"x\":{\"field\":\"x\"},\"y\":{\"field\":\"y\"}},\"id\":\"78e05eec-689d-4af4-8edb-498be65205d2\",\"type\":\"Line\"},{\"attributes\":{\"data_source\":{\"id\":\"5e939be5-2d91-4fa5-ac9c-ed6f9bcd2244\",\"type\":\"ColumnDataSource\"},\"glyph\":{\"id\":\"3f1d8de7-933c-42eb-8174-b2a9a0d6b363\",\"type\":\"Square\"},\"hover_glyph\":null,\"muted_glyph\":null,\"nonselection_glyph\":{\"id\":\"0e3bbd92-7735-46c9-be30-1c9d4817c846\",\"type\":\"Square\"},\"selection_glyph\":null,\"view\":{\"id\":\"f8e8aced-cb39-427c-b2de-0db336b57bea\",\"type\":\"CDSView\"}},\"id\":\"da2d9dbe-7df6-4ab9-a54c-70e59bda7915\",\"type\":\"GlyphRenderer\"},{\"attributes\":{\"fill_alpha\":{\"value\":0.1},\"fill_color\":{\"value\":\"#1f77b4\"},\"line_alpha\":{\"value\":0.1},\"line_color\":{\"value\":\"#1f77b4\"},\"x\":{\"field\":\"x\"},\"y\":{\"field\":\"y\"}},\"id\":\"0e3bbd92-7735-46c9-be30-1c9d4817c846\",\"type\":\"Square\"},{\"attributes\":{\"source\":{\"id\":\"1acbfcd6-b681-44b3-a36c-689d93c7c10e\",\"type\":\"ColumnDataSource\"}},\"id\":\"59abf1a7-2313-42b8-b0dd-bca2cabb1067\",\"type\":\"CDSView\"},{\"attributes\":{},\"id\":\"24bb3632-91b0-49b7-b1e3-a7d0cc006ad4\",\"type\":\"Selection\"},{\"attributes\":{\"callback\":null,\"data\":{\"x\":{\"__ndarray__\":\"6WKTMJMosr4IeHjl+DWyvngJJKMjUbK+er6X2NFtsr4wuNins4myvv47/xTSpLK+U3F9AHi/sr4w3WlWGdmyvjf0jBsT8rK+BmEWzCwKs76HkXEedyGzvkrzzYnlN7O+DfjmBIZNs74jmrnWmWOzvreI68ecmLO+UgxzYXLLs76A+0MDrruyvgVh6FyNkK2+/H1sAOyQlr5vlJoP2+qoPv2dasu2wcY+oF6bwqia2T4Kll1hPJrlPj4fd5fWhOY+srZw+QGd3j7AfYXn7TjRPvC29Owm6L8+f5na9jGtoD7TRG8gxJKXvs3VQyRJTa2+EWMITKR4tL52np69poW4vjNhDxGWhru+y3M0VxBlvr7iT0YTXNzAvvQ1rJ+P2MK+sZTmNgj+xL7bLyMLNRvHvtUuZGQBJsm+RPnshpFOzL5Cf3WSH17Xvrt9aSzRTPC+2Dlmdy9+Ar/aTWQjaYARv0D5GYop5Ru/BrAMX1sOH7/ITa5kRFkZvwHB2wnMsv2+7kqV0hvmHD/SaJMpYhs2P5IYfWxTMEc/9L5i5irxUz/B9H4inSFfP5n7osNO+GY/WAR8SEpLcD9iRP73aV52P9yxtjwm+H0/sn1yW/WVhD9ZzK+2x6qLP75+11PqE5I/Iio24bwKlz8hfRQnV66cP0MzvwLneKE/vL3jlZ3epD+Hdq4lbXWoP7RvQq+sJaw/1RkaeoTNrz81o22cF56xP1K7ptqDHbM/Z5+1RRNUtD9g8IxdckG1PxOFM0tE8LU/LQ9T1Plttj+7W7cTtcy2P989SmlZHrc/\",\"dtype\":\"float64\",\"shape\":[75]},\"y\":{\"__ndarray__\":\"GhExyth1ND/Sv8nbtpRIP2vylNV0PVE/aTum7souWD/At0SJ8fVgPw3Iuahxymc/MSNhhJWvcD/bTfBN02d3P2zb5nxnaoA/CD5h5MAGhz8NmeH1TyaQP+zrCsc9p5Y/LbKd76fGnz/bLW5ISEmmPww9YvTcQq8/JV2OstnstT8Er5Y7M8G+P0c+r3jqkcU/5h99k6ZBzj88bCIzFzjVP4enV8oyxN0//yH99nXg5D8qOpLLf0jtP5kqGJXUifQ/c9cS8kHP/D+/DpwzojQEQIEmwoanVwxA4lgXt9HgE0BSSZ2AJuIbQAMJih9jjiNA5q4l5INuK0AwTKYKRj0zQNv5fmq8/DpAaCJseHrtQkB/+zpwzoxKQM3MzMzMeFJAZmZmZmZqWEAAAAAAAFxeQM3MzMzMJmJAmpmZmZkfZUBmZmZmZhhoQDMzMzMzEWtAAAAAAAAKbkBmZmZmZoFwQM3MzMzM/XFAMzMzMzN6c0CamZmZmfZ0QAAAAAAAc3ZAZmZmZmbvd0DNzMzMzGt5QDMzMzMz6HpAmpmZmZlkfEAAAAAAAOF9QGZmZmZmXX9AZmZmZuZsgECamZmZGSuBQM3MzMxM6YFAAAAAAICngkAzMzMzs2WDQGZmZmbmI4RAmpmZmRnihEDNzMzMTKCFQAAAAACAXoZAMzMzM7Mch0BmZmZm5tqHQJqZmZkZmYhAzczMzExXiUAAAAAAgBWKQDMzMzOz04pAZmZmZuaRi0CamZmZGVCMQM3MzMxMDo1AAAAAAIDMjUAzMzMzs4qOQGZmZmbmSI9A\",\"dtype\":\"float64\",\"shape\":[75]}},\"selected\":{\"id\":\"406c5ddc-f364-4ae9-91ed-55668de2f8b0\",\"type\":\"Selection\"},\"selection_policy\":{\"id\":\"48c75d73-908b-483b-8305-7ef182ec3897\",\"type\":\"UnionRenderers\"}},\"id\":\"285a1ee8-6272-4085-8287-fa115c61c7b0\",\"type\":\"ColumnDataSource\"},{\"attributes\":{\"source\":{\"id\":\"285a1ee8-6272-4085-8287-fa115c61c7b0\",\"type\":\"ColumnDataSource\"}},\"id\":\"a7150438-72cc-48b7-b161-514d98487530\",\"type\":\"CDSView\"},{\"attributes\":{\"source\":{\"id\":\"5e939be5-2d91-4fa5-ac9c-ed6f9bcd2244\",\"type\":\"ColumnDataSource\"}},\"id\":\"f8e8aced-cb39-427c-b2de-0db336b57bea\",\"type\":\"CDSView\"},{\"attributes\":{\"source\":{\"id\":\"df4764ea-4408-43a9-8709-6c1c1655dfe6\",\"type\":\"ColumnDataSource\"}},\"id\":\"ab3a1a2f-f54d-4c28-a145-7efc04e7ed43\",\"type\":\"CDSView\"},{\"attributes\":{\"above\":[{\"id\":\"11443856-7cef-49fd-b52c-f67825b823d0\",\"type\":\"Legend\"}],\"below\":[{\"id\":\"a4f06a4c-b1c0-4e12-b279-71ee3adc5684\",\"type\":\"LinearAxis\"}],\"left\":[{\"id\":\"812e8a69-a8c1-462d-ae9b-77f02170e7fe\",\"type\":\"LogAxis\"}],\"plot_height\":500,\"plot_width\":400,\"renderers\":[{\"id\":\"a4f06a4c-b1c0-4e12-b279-71ee3adc5684\",\"type\":\"LinearAxis\"},{\"id\":\"fcbb3068-9842-4bef-8707-aa5535cb3d99\",\"type\":\"Grid\"},{\"id\":\"812e8a69-a8c1-462d-ae9b-77f02170e7fe\",\"type\":\"LogAxis\"},{\"id\":\"c03b9739-1b16-4b57-8f23-09f86ad51188\",\"type\":\"Grid\"},{\"id\":\"38f96547-b33c-40c7-9a93-8139b3247d4a\",\"type\":\"BoxAnnotation\"},{\"id\":\"92c55f4b-c71b-4aab-8397-e8a570724e1b\",\"type\":\"GlyphRenderer\"},{\"id\":\"bc918e54-4d48-4f02-afab-8ce5b23ae83b\",\"type\":\"GlyphRenderer\"},{\"id\":\"65a5b38b-3ce3-43d7-baaa-68cb5c4729ee\",\"type\":\"GlyphRenderer\"},{\"id\":\"83718168-812a-4ff4-8654-93207e5b1635\",\"type\":\"GlyphRenderer\"},{\"id\":\"f4ea4e94-8456-4a68-857c-7e07d0d1d939\",\"type\":\"GlyphRenderer\"},{\"id\":\"11114e54-842f-4f03-9155-c6d85e6d6501\",\"type\":\"GlyphRenderer\"},{\"id\":\"11443856-7cef-49fd-b52c-f67825b823d0\",\"type\":\"Legend\"}],\"title\":{\"id\":\"c4d20659-f94f-4fa6-8b14-088560099b7f\",\"type\":\"Title\"},\"toolbar\":{\"id\":\"d0b23459-6bae-41e4-9580-559aeb0f6ea1\",\"type\":\"Toolbar\"},\"toolbar_location\":null,\"x_range\":{\"id\":\"8fcc38d1-abe6-49e9-9bb3-648956c671c9\",\"type\":\"Range1d\"},\"x_scale\":{\"id\":\"b61399b6-64e2-478e-9c0b-8852ccf73b6d\",\"type\":\"LinearScale\"},\"y_range\":{\"id\":\"8921e314-23b1-4770-ab33-d6dfa2e4c9e3\",\"type\":\"Range1d\"},\"y_scale\":{\"id\":\"5b988f73-3193-4af8-ae91-aac7cf6bf6a7\",\"type\":\"LogScale\"}},\"id\":\"abcc5f8b-2bda-42b0-aaed-05fd36bb50fa\",\"subtype\":\"Figure\",\"type\":\"Plot\"},{\"attributes\":{\"callback\":null,\"data\":{\"x\":{\"__ndarray__\":\"0JkiCp9asL5snZDyWGewvg31YOiXg7C+S1OJxNWgsL6cXRk6WL2wvueVGVuK2bC+Gl8ruEz1sL51YDkcjhCxviYV+E5OK7G+fNGDFm5Fsb7nLZLLC1+xvtDoWqobeLG+I25SeaiQsb5hSceWNKqxvibxTgon7LG+YpeuGkpYsr7W7qIXM+qxvkvlfaiadq6+M/NZiK7VoL4PXPnL3G+WPjZGCSgOxb8+6a1R/mZZ0z5+7/g/acngPrfmmazWhuE+cGM36hBf1z4Q0sf9wirJPleEVzNrxLQ+6cXDbQrngD5idCZkrAiivlArRkzIj6++ZdX1Vnk5tL6izQCIy023vmjq43Vdqbm+uo4DuIEMvL7hU1hkv+S+vkskD9hxLMG+nYQhyKoWw75X86WuZwLFvuhXDxMf3sa+go1Kd3jGyb6KVae5EGrVvvlWY7M0R+6+aze5CYKEAb8HCOoXOA8Rv+FYA9PqXRy/VjYPFo8LIb+9JWGH0Ywgv3/mAZAbVBe/o9XhC4WFuT7AZ1y571MmP5Lz3pgxVj0/V1NUjk7hSz/NGFw3CQxXPzTVPNRprmE/PZ3cTFTRaT9sVqh3Mi1yP5gK+wNP5Hg/WqW7fat0gT8oDMV74POHP5DnHgWU9Y8/lfZXppfMlD8xMY54T3GaPwenJDy4c6A/l+un3p4QpD8siVshhv+nPzzTQRryKKw/5J1atR80sD8dlvlTUkOyP0OhmM7kIbQ/ozy+gAi4tT9VkMdVKv22PxuJp4kE9Lc/S0E4GEqjuD879Cz0ABe5P57TYcK+Vrk/\",\"dtype\":\"float64\",\"shape\":[75]},\"y\":{\"__ndarray__\":\"GhExyth1ND/Sv8nbtpRIP2vylNV0PVE/aTum7souWD/At0SJ8fVgPw3Iuahxymc/MSNhhJWvcD/bTfBN02d3P2zb5nxnaoA/CD5h5MAGhz8NmeH1TyaQP+zrCsc9p5Y/LbKd76fGnz/bLW5ISEmmPww9YvTcQq8/JV2OstnstT8Er5Y7M8G+P0c+r3jqkcU/5h99k6ZBzj88bCIzFzjVP4enV8oyxN0//yH99nXg5D8qOpLLf0jtP5kqGJXUifQ/c9cS8kHP/D+/DpwzojQEQIEmwoanVwxA4lgXt9HgE0BSSZ2AJuIbQAMJih9jjiNA5q4l5INuK0AwTKYKRj0zQNv5fmq8/DpAaCJseHrtQkB/+zpwzoxKQM3MzMzMeFJAZmZmZmZqWEAAAAAAAFxeQM3MzMzMJmJAmpmZmZkfZUBmZmZmZhhoQDMzMzMzEWtAAAAAAAAKbkBmZmZmZoFwQM3MzMzM/XFAMzMzMzN6c0CamZmZmfZ0QAAAAAAAc3ZAZmZmZmbvd0DNzMzMzGt5QDMzMzMz6HpAmpmZmZlkfEAAAAAAAOF9QGZmZmZmXX9AZmZmZuZsgECamZmZGSuBQM3MzMxM6YFAAAAAAICngkAzMzMzs2WDQGZmZmbmI4RAmpmZmRnihEDNzMzMTKCFQAAAAACAXoZAMzMzM7Mch0BmZmZm5tqHQJqZmZkZmYhAzczMzExXiUAAAAAAgBWKQDMzMzOz04pAZmZmZuaRi0CamZmZGVCMQM3MzMxMDo1AAAAAAIDMjUAzMzMzs4qOQGZmZmbmSI9A\",\"dtype\":\"float64\",\"shape\":[75]}},\"selected\":{\"id\":\"3fed9b66-1ebd-4654-b122-e60f0fdabd22\",\"type\":\"Selection\"},\"selection_policy\":{\"id\":\"ac8afe10-4899-4061-af15-746a546d6bb4\",\"type\":\"UnionRenderers\"}},\"id\":\"1acbfcd6-b681-44b3-a36c-689d93c7c10e\",\"type\":\"ColumnDataSource\"},{\"attributes\":{\"fill_alpha\":{\"value\":0.7},\"fill_color\":{\"value\":\"#984ea3\"},\"line_alpha\":{\"value\":0.7},\"line_color\":{\"value\":\"#984ea3\"},\"x\":{\"field\":\"x\"},\"y\":{\"field\":\"y\"}},\"id\":\"3f1d8de7-933c-42eb-8174-b2a9a0d6b363\",\"type\":\"Square\"},{\"attributes\":{\"line_alpha\":0.3,\"line_color\":\"#377eb8\",\"line_width\":2,\"x\":{\"field\":\"x\"},\"y\":{\"field\":\"y\"}},\"id\":\"4c154276-9b4c-46c1-8c66-b69a58bcd39c\",\"type\":\"Line\"},{\"attributes\":{\"source\":{\"id\":\"c026d002-21df-4db8-b858-b22447ddeb4e\",\"type\":\"ColumnDataSource\"}},\"id\":\"77eb5761-88ba-4616-80d2-c18a5931d136\",\"type\":\"CDSView\"},{\"attributes\":{},\"id\":\"2c686a45-d0aa-498a-b118-28d898bc085a\",\"type\":\"UnionRenderers\"},{\"attributes\":{\"callback\":null,\"data\":{\"x\":{\"__ndarray__\":\"6WKTMJMosr4IeHjl+DWyvngJJKMjUbK+er6X2NFtsr4wuNins4myvv47/xTSpLK+U3F9AHi/sr4w3WlWGdmyvjf0jBsT8rK+BmEWzCwKs76HkXEedyGzvkrzzYnlN7O+DfjmBIZNs74jmrnWmWOzvreI68ecmLO+UgxzYXLLs76A+0MDrruyvgVh6FyNkK2+/H1sAOyQlr5vlJoP2+qoPv2dasu2wcY+oF6bwqia2T4Kll1hPJrlPj4fd5fWhOY+srZw+QGd3j7AfYXn7TjRPvC29Owm6L8+f5na9jGtoD7TRG8gxJKXvs3VQyRJTa2+EWMITKR4tL52np69poW4vjNhDxGWhru+y3M0VxBlvr7iT0YTXNzAvvQ1rJ+P2MK+sZTmNgj+xL7bLyMLNRvHvtUuZGQBJsm+RPnshpFOzL5Cf3WSH17Xvrt9aSzRTPC+2Dlmdy9+Ar/aTWQjaYARv0D5GYop5Ru/BrAMX1sOH7/ITa5kRFkZvwHB2wnMsv2+7kqV0hvmHD/SaJMpYhs2P5IYfWxTMEc/9L5i5irxUz/B9H4inSFfP5n7osNO+GY/WAR8SEpLcD9iRP73aV52P9yxtjwm+H0/sn1yW/WVhD9ZzK+2x6qLP75+11PqE5I/Iio24bwKlz8hfRQnV66cP0MzvwLneKE/vL3jlZ3epD+Hdq4lbXWoP7RvQq+sJaw/1RkaeoTNrz81o22cF56xP1K7ptqDHbM/Z5+1RRNUtD9g8IxdckG1PxOFM0tE8LU/LQ9T1Plttj+7W7cTtcy2P989SmlZHrc/\",\"dtype\":\"float64\",\"shape\":[75]},\"y\":{\"__ndarray__\":\"GhExyth1ND/Sv8nbtpRIP2vylNV0PVE/aTum7souWD/At0SJ8fVgPw3Iuahxymc/MSNhhJWvcD/bTfBN02d3P2zb5nxnaoA/CD5h5MAGhz8NmeH1TyaQP+zrCsc9p5Y/LbKd76fGnz/bLW5ISEmmPww9YvTcQq8/JV2OstnstT8Er5Y7M8G+P0c+r3jqkcU/5h99k6ZBzj88bCIzFzjVP4enV8oyxN0//yH99nXg5D8qOpLLf0jtP5kqGJXUifQ/c9cS8kHP/D+/DpwzojQEQIEmwoanVwxA4lgXt9HgE0BSSZ2AJuIbQAMJih9jjiNA5q4l5INuK0AwTKYKRj0zQNv5fmq8/DpAaCJseHrtQkB/+zpwzoxKQM3MzMzMeFJAZmZmZmZqWEAAAAAAAFxeQM3MzMzMJmJAmpmZmZkfZUBmZmZmZhhoQDMzMzMzEWtAAAAAAAAKbkBmZmZmZoFwQM3MzMzM/XFAMzMzMzN6c0CamZmZmfZ0QAAAAAAAc3ZAZmZmZmbvd0DNzMzMzGt5QDMzMzMz6HpAmpmZmZlkfEAAAAAAAOF9QGZmZmZmXX9AZmZmZuZsgECamZmZGSuBQM3MzMxM6YFAAAAAAICngkAzMzMzs2WDQGZmZmbmI4RAmpmZmRnihEDNzMzMTKCFQAAAAACAXoZAMzMzM7Mch0BmZmZm5tqHQJqZmZkZmYhAzczMzExXiUAAAAAAgBWKQDMzMzOz04pAZmZmZuaRi0CamZmZGVCMQM3MzMxMDo1AAAAAAIDMjUAzMzMzs4qOQGZmZmbmSI9A\",\"dtype\":\"float64\",\"shape\":[75]}},\"selected\":{\"id\":\"24bb3632-91b0-49b7-b1e3-a7d0cc006ad4\",\"type\":\"Selection\"},\"selection_policy\":{\"id\":\"2c686a45-d0aa-498a-b118-28d898bc085a\",\"type\":\"UnionRenderers\"}},\"id\":\"5e939be5-2d91-4fa5-ac9c-ed6f9bcd2244\",\"type\":\"ColumnDataSource\"},{\"attributes\":{\"callback\":null,\"data\":{\"x\":{\"__ndarray__\":\"6WKTMJMosr4IeHjl+DWyvngJJKMjUbK+er6X2NFtsr4wuNins4myvv47/xTSpLK+U3F9AHi/sr4w3WlWGdmyvjf0jBsT8rK+BmEWzCwKs76HkXEedyGzvkrzzYnlN7O+DfjmBIZNs74jmrnWmWOzvreI68ecmLO+UgxzYXLLs76A+0MDrruyvgVh6FyNkK2+/H1sAOyQlr5vlJoP2+qoPv2dasu2wcY+oF6bwqia2T4Kll1hPJrlPj4fd5fWhOY+srZw+QGd3j7AfYXn7TjRPvC29Owm6L8+f5na9jGtoD7TRG8gxJKXvs3VQyRJTa2+EWMITKR4tL52np69poW4vjNhDxGWhru+y3M0VxBlvr7iT0YTXNzAvvQ1rJ+P2MK+sZTmNgj+xL7bLyMLNRvHvtUuZGQBJsm+RPnshpFOzL5Cf3WSH17Xvrt9aSzRTPC+2Dlmdy9+Ar/aTWQjaYARv0D5GYop5Ru/BrAMX1sOH7/ITa5kRFkZvwHB2wnMsv2+7kqV0hvmHD/SaJMpYhs2P5IYfWxTMEc/9L5i5irxUz/B9H4inSFfP5n7osNO+GY/WAR8SEpLcD9iRP73aV52P9yxtjwm+H0/sn1yW/WVhD9ZzK+2x6qLP75+11PqE5I/Iio24bwKlz8hfRQnV66cP0MzvwLneKE/vL3jlZ3epD+Hdq4lbXWoP7RvQq+sJaw/1RkaeoTNrz81o22cF56xP1K7ptqDHbM/Z5+1RRNUtD9g8IxdckG1PxOFM0tE8LU/LQ9T1Plttj+7W7cTtcy2P989SmlZHrc/\",\"dtype\":\"float64\",\"shape\":[75]},\"y\":{\"__ndarray__\":\"GhExyth1ND/Sv8nbtpRIP2vylNV0PVE/aTum7souWD/At0SJ8fVgPw3Iuahxymc/MSNhhJWvcD/bTfBN02d3P2zb5nxnaoA/CD5h5MAGhz8NmeH1TyaQP+zrCsc9p5Y/LbKd76fGnz/bLW5ISEmmPww9YvTcQq8/JV2OstnstT8Er5Y7M8G+P0c+r3jqkcU/5h99k6ZBzj88bCIzFzjVP4enV8oyxN0//yH99nXg5D8qOpLLf0jtP5kqGJXUifQ/c9cS8kHP/D+/DpwzojQEQIEmwoanVwxA4lgXt9HgE0BSSZ2AJuIbQAMJih9jjiNA5q4l5INuK0AwTKYKRj0zQNv5fmq8/DpAaCJseHrtQkB/+zpwzoxKQM3MzMzMeFJAZmZmZmZqWEAAAAAAAFxeQM3MzMzMJmJAmpmZmZkfZUBmZmZmZhhoQDMzMzMzEWtAAAAAAAAKbkBmZmZmZoFwQM3MzMzM/XFAMzMzMzN6c0CamZmZmfZ0QAAAAAAAc3ZAZmZmZmbvd0DNzMzMzGt5QDMzMzMz6HpAmpmZmZlkfEAAAAAAAOF9QGZmZmZmXX9AZmZmZuZsgECamZmZGSuBQM3MzMxM6YFAAAAAAICngkAzMzMzs2WDQGZmZmbmI4RAmpmZmRnihEDNzMzMTKCFQAAAAACAXoZAMzMzM7Mch0BmZmZm5tqHQJqZmZkZmYhAzczMzExXiUAAAAAAgBWKQDMzMzOz04pAZmZmZuaRi0CamZmZGVCMQM3MzMxMDo1AAAAAAIDMjUAzMzMzs4qOQGZmZmbmSI9A\",\"dtype\":\"float64\",\"shape\":[75]}},\"selected\":{\"id\":\"0a13e1f8-1f05-468f-a33b-54693dea9d50\",\"type\":\"Selection\"},\"selection_policy\":{\"id\":\"ca653955-564c-4817-97ca-27ba113fe22f\",\"type\":\"UnionRenderers\"}},\"id\":\"4ee78cb4-2cc7-460e-baf9-e2441a535335\",\"type\":\"ColumnDataSource\"},{\"attributes\":{\"callback\":null,\"data\":{\"x\":{\"__ndarray__\":\"0JkiCp9asL5snZDyWGewvg31YOiXg7C+S1OJxNWgsL6cXRk6WL2wvueVGVuK2bC+Gl8ruEz1sL51YDkcjhCxviYV+E5OK7G+fNGDFm5Fsb7nLZLLC1+xvtDoWqobeLG+I25SeaiQsb5hSceWNKqxvibxTgon7LG+YpeuGkpYsr7W7qIXM+qxvkvlfaiadq6+M/NZiK7VoL4PXPnL3G+WPjZGCSgOxb8+6a1R/mZZ0z5+7/g/acngPrfmmazWhuE+cGM36hBf1z4Q0sf9wirJPleEVzNrxLQ+6cXDbQrngD5idCZkrAiivlArRkzIj6++ZdX1Vnk5tL6izQCIy023vmjq43Vdqbm+uo4DuIEMvL7hU1hkv+S+vkskD9hxLMG+nYQhyKoWw75X86WuZwLFvuhXDxMf3sa+go1Kd3jGyb6KVae5EGrVvvlWY7M0R+6+aze5CYKEAb8HCOoXOA8Rv+FYA9PqXRy/VjYPFo8LIb+9JWGH0Ywgv3/mAZAbVBe/o9XhC4WFuT7AZ1y571MmP5Lz3pgxVj0/V1NUjk7hSz/NGFw3CQxXPzTVPNRprmE/PZ3cTFTRaT9sVqh3Mi1yP5gK+wNP5Hg/WqW7fat0gT8oDMV74POHP5DnHgWU9Y8/lfZXppfMlD8xMY54T3GaPwenJDy4c6A/l+un3p4QpD8siVshhv+nPzzTQRryKKw/5J1atR80sD8dlvlTUkOyP0OhmM7kIbQ/ozy+gAi4tT9VkMdVKv22PxuJp4kE9Lc/S0E4GEqjuD879Cz0ABe5P57TYcK+Vrk/\",\"dtype\":\"float64\",\"shape\":[75]},\"y\":{\"__ndarray__\":\"GhExyth1ND/Sv8nbtpRIP2vylNV0PVE/aTum7souWD/At0SJ8fVgPw3Iuahxymc/MSNhhJWvcD/bTfBN02d3P2zb5nxnaoA/CD5h5MAGhz8NmeH1TyaQP+zrCsc9p5Y/LbKd76fGnz/bLW5ISEmmPww9YvTcQq8/JV2OstnstT8Er5Y7M8G+P0c+r3jqkcU/5h99k6ZBzj88bCIzFzjVP4enV8oyxN0//yH99nXg5D8qOpLLf0jtP5kqGJXUifQ/c9cS8kHP/D+/DpwzojQEQIEmwoanVwxA4lgXt9HgE0BSSZ2AJuIbQAMJih9jjiNA5q4l5INuK0AwTKYKRj0zQNv5fmq8/DpAaCJseHrtQkB/+zpwzoxKQM3MzMzMeFJAZmZmZmZqWEAAAAAAAFxeQM3MzMzMJmJAmpmZmZkfZUBmZmZmZhhoQDMzMzMzEWtAAAAAAAAKbkBmZmZmZoFwQM3MzMzM/XFAMzMzMzN6c0CamZmZmfZ0QAAAAAAAc3ZAZmZmZmbvd0DNzMzMzGt5QDMzMzMz6HpAmpmZmZlkfEAAAAAAAOF9QGZmZmZmXX9AZmZmZuZsgECamZmZGSuBQM3MzMxM6YFAAAAAAICngkAzMzMzs2WDQGZmZmbmI4RAmpmZmRnihEDNzMzMTKCFQAAAAACAXoZAMzMzM7Mch0BmZmZm5tqHQJqZmZkZmYhAzczMzExXiUAAAAAAgBWKQDMzMzOz04pAZmZmZuaRi0CamZmZGVCMQM3MzMxMDo1AAAAAAIDMjUAzMzMzs4qOQGZmZmbmSI9A\",\"dtype\":\"float64\",\"shape\":[75]}},\"selected\":{\"id\":\"88919a2a-e469-4e98-8644-13087dc3d075\",\"type\":\"Selection\"},\"selection_policy\":{\"id\":\"a78a3770-bd4e-47ff-afa9-6e974809beca\",\"type\":\"UnionRenderers\"}},\"id\":\"c026d002-21df-4db8-b858-b22447ddeb4e\",\"type\":\"ColumnDataSource\"},{\"attributes\":{\"fill_alpha\":{\"value\":0.1},\"fill_color\":{\"value\":\"#1f77b4\"},\"line_alpha\":{\"value\":0.1},\"line_color\":{\"value\":\"#1f77b4\"},\"x\":{\"field\":\"x\"},\"y\":{\"field\":\"y\"}},\"id\":\"c1e708ff-1ec1-4e02-957c-5515b667e253\",\"type\":\"Square\"},{\"attributes\":{\"fill_alpha\":{\"value\":0.7},\"fill_color\":{\"value\":\"#377eb8\"},\"line_alpha\":{\"value\":0.7},\"line_color\":{\"value\":\"#377eb8\"},\"x\":{\"field\":\"x\"},\"y\":{\"field\":\"y\"}},\"id\":\"a0718d96-7bc0-4c7e-b302-23778602ce35\",\"type\":\"Triangle\"},{\"attributes\":{\"line_alpha\":0.1,\"line_color\":\"#1f77b4\",\"line_width\":3,\"x\":{\"field\":\"x\"},\"y\":{\"field\":\"y\"}},\"id\":\"3eea80a1-4c9a-4dec-a8e2-4f9b96803e40\",\"type\":\"Line\"},{\"attributes\":{\"data_source\":{\"id\":\"c026d002-21df-4db8-b858-b22447ddeb4e\",\"type\":\"ColumnDataSource\"},\"glyph\":{\"id\":\"4c154276-9b4c-46c1-8c66-b69a58bcd39c\",\"type\":\"Line\"},\"hover_glyph\":null,\"muted_glyph\":null,\"nonselection_glyph\":{\"id\":\"78e05eec-689d-4af4-8edb-498be65205d2\",\"type\":\"Line\"},\"selection_glyph\":null,\"view\":{\"id\":\"77eb5761-88ba-4616-80d2-c18a5931d136\",\"type\":\"CDSView\"}},\"id\":\"cb8d618b-f29f-47d3-8d90-c381e9a75d65\",\"type\":\"GlyphRenderer\"},{\"attributes\":{\"active_drag\":\"auto\",\"active_inspect\":\"auto\",\"active_scroll\":\"auto\",\"active_tap\":\"auto\",\"tools\":[{\"id\":\"2ff3f345-8b79-42b2-9311-469038f52b4e\",\"type\":\"PanTool\"},{\"id\":\"b28453f8-cafc-4817-9e7b-49664f06b649\",\"type\":\"WheelZoomTool\"},{\"id\":\"023b8957-c9eb-4920-85c1-86ccc10a17ee\",\"type\":\"BoxZoomTool\"},{\"id\":\"6e5cb5a5-6dd2-40ef-b99c-4f3b08f089a1\",\"type\":\"SaveTool\"},{\"id\":\"0f597953-47e1-43c1-84db-8babe91ebe79\",\"type\":\"ResetTool\"},{\"id\":\"4cfbfa44-d4fb-4585-8bcf-06accc188a13\",\"type\":\"HelpTool\"}]},\"id\":\"d0b23459-6bae-41e4-9580-559aeb0f6ea1\",\"type\":\"Toolbar\"},{\"attributes\":{\"label\":{\"value\":\"CRD\"},\"renderers\":[{\"id\":\"ed2516f4-a39c-4ee6-9723-1f006b88f336\",\"type\":\"GlyphRenderer\"},{\"id\":\"b4f912cb-5ea6-4de2-8298-a805ef0d7740\",\"type\":\"GlyphRenderer\"}]},\"id\":\"82ad8fc0-019b-420a-8721-929961b11012\",\"type\":\"LegendItem\"},{\"attributes\":{\"callback\":null,\"end\":2.1788966255e-05,\"start\":-6.197411755e-06},\"id\":\"8fcc38d1-abe6-49e9-9bb3-648956c671c9\",\"type\":\"Range1d\"},{\"attributes\":{\"data_source\":{\"id\":\"4ee78cb4-2cc7-460e-baf9-e2441a535335\",\"type\":\"ColumnDataSource\"},\"glyph\":{\"id\":\"503c6ef4-cefa-4e86-9d76-3c532ff4fbcd\",\"type\":\"Square\"},\"hover_glyph\":null,\"muted_glyph\":null,\"nonselection_glyph\":{\"id\":\"c1e708ff-1ec1-4e02-957c-5515b667e253\",\"type\":\"Square\"},\"selection_glyph\":null,\"view\":{\"id\":\"d540ef58-d684-499a-9b24-15c87743858f\",\"type\":\"CDSView\"}},\"id\":\"65a5b38b-3ce3-43d7-baaa-68cb5c4729ee\",\"type\":\"GlyphRenderer\"},{\"attributes\":{\"label\":{\"value\":\"WGT igg=1\"},\"renderers\":[{\"id\":\"da2d9dbe-7df6-4ab9-a54c-70e59bda7915\",\"type\":\"GlyphRenderer\"},{\"id\":\"bd242976-c771-4777-9d1f-7d0a0f56fddb\",\"type\":\"GlyphRenderer\"}]},\"id\":\"46d710e0-f5e1-4361-bd5b-74a4e362b6c8\",\"type\":\"LegendItem\"},{\"attributes\":{},\"id\":\"b61399b6-64e2-478e-9c0b-8852ccf73b6d\",\"type\":\"LinearScale\"},{\"attributes\":{\"source\":{\"id\":\"cbb8785b-fb0e-460d-8ff3-72a110d9549f\",\"type\":\"ColumnDataSource\"}},\"id\":\"42b3a6be-30bb-42e4-b04b-7e6da5653e55\",\"type\":\"CDSView\"},{\"attributes\":{\"label\":{\"value\":\"WGT igg=10\"},\"renderers\":[{\"id\":\"080581ed-60fb-4e1c-a041-6617c49f6f99\",\"type\":\"GlyphRenderer\"},{\"id\":\"cb8d618b-f29f-47d3-8d90-c381e9a75d65\",\"type\":\"GlyphRenderer\"}]},\"id\":\"ff904850-c86a-49c7-b969-3bd4c2201f9d\",\"type\":\"LegendItem\"},{\"attributes\":{\"line_alpha\":0.6,\"line_color\":\"#984ea3\",\"line_width\":3,\"x\":{\"field\":\"x\"},\"y\":{\"field\":\"y\"}},\"id\":\"1bb0c60b-4ccf-4ae1-9fa5-2c21107da0da\",\"type\":\"Line\"},{\"attributes\":{},\"id\":\"b28453f8-cafc-4817-9e7b-49664f06b649\",\"type\":\"WheelZoomTool\"},{\"attributes\":{\"line_alpha\":0.1,\"line_color\":\"#1f77b4\",\"line_width\":3,\"x\":{\"field\":\"x\"},\"y\":{\"field\":\"y\"}},\"id\":\"47612d2d-dbc0-436f-8090-686552709db0\",\"type\":\"Line\"},{\"attributes\":{\"items\":[{\"id\":\"d9f566a4-08f9-46dc-9396-94bb002fecf2\",\"type\":\"LegendItem\"},{\"id\":\"459eafec-400c-4678-865f-01cc63425d68\",\"type\":\"LegendItem\"},{\"id\":\"bdca1051-5ecf-448a-aad5-0166fb38c5f7\",\"type\":\"LegendItem\"}],\"label_text_font_size\":{\"value\":\"8pt\"},\"location\":\"top_center\",\"orientation\":\"horizontal\",\"plot\":{\"id\":\"abcc5f8b-2bda-42b0-aaed-05fd36bb50fa\",\"subtype\":\"Figure\",\"type\":\"Plot\"}},\"id\":\"11443856-7cef-49fd-b52c-f67825b823d0\",\"type\":\"Legend\"},{\"attributes\":{\"line_alpha\":0.1,\"line_color\":\"#1f77b4\",\"line_width\":2,\"x\":{\"field\":\"x\"},\"y\":{\"field\":\"y\"}},\"id\":\"159690c5-78cf-4aba-bfba-3f5d4458800b\",\"type\":\"Line\"},{\"attributes\":{},\"id\":\"2ff3f345-8b79-42b2-9311-469038f52b4e\",\"type\":\"PanTool\"},{\"attributes\":{\"source\":{\"id\":\"4ee78cb4-2cc7-460e-baf9-e2441a535335\",\"type\":\"ColumnDataSource\"}},\"id\":\"d540ef58-d684-499a-9b24-15c87743858f\",\"type\":\"CDSView\"},{\"attributes\":{},\"id\":\"5b988f73-3193-4af8-ae91-aac7cf6bf6a7\",\"type\":\"LogScale\"},{\"attributes\":{\"source\":{\"id\":\"bfea57f9-06da-4953-9559-72f72ba38cc9\",\"type\":\"ColumnDataSource\"}},\"id\":\"a54ba296-9c8d-4d3c-b1be-8bcb904b962d\",\"type\":\"CDSView\"},{\"attributes\":{\"bottom_units\":\"screen\",\"fill_alpha\":{\"value\":0.5},\"fill_color\":{\"value\":\"lightgrey\"},\"left_units\":\"screen\",\"level\":\"overlay\",\"line_alpha\":{\"value\":1.0},\"line_color\":{\"value\":\"black\"},\"line_dash\":[4,4],\"line_width\":{\"value\":2},\"plot\":null,\"render_mode\":\"css\",\"right_units\":\"screen\",\"top_units\":\"screen\"},\"id\":\"38f96547-b33c-40c7-9a93-8139b3247d4a\",\"type\":\"BoxAnnotation\"},{\"attributes\":{\"overlay\":{\"id\":\"38f96547-b33c-40c7-9a93-8139b3247d4a\",\"type\":\"BoxAnnotation\"}},\"id\":\"023b8957-c9eb-4920-85c1-86ccc10a17ee\",\"type\":\"BoxZoomTool\"},{\"attributes\":{},\"id\":\"6e5cb5a5-6dd2-40ef-b99c-4f3b08f089a1\",\"type\":\"SaveTool\"},{\"attributes\":{\"callback\":null,\"data\":{\"x\":{\"__ndarray__\":\"Echz3tY1vL5OOlm+H0e8vvqXDmoQaby+F9/FqmSMvL4rMz4OH628vmThc5CHzLy+lO22cZvqvL4oImO2PAa9vgIdDJQKIL2+QyRvoa03vb4YyQoKzEy9vskGTFu6X72+YxROyjpwvb7aHUv2z369viJRyQfvk72+Ow7GQIILvb6z/wqv2Hm5vo3EEpGnBLC+qzPhESU5jT7MdF5JKkbEPvplh0l0ato+dtQ6NIHi6j5dQPYA8sD1PmwH811Hj/Y++9gdXLRm7z6yq4F+BJriPiBWSbwtYtM+djlAzYDGvz61x/Thf2WQPuTsWEP2Zqm+NVvVyMlqt7765oeKPTe+vrJgOZqtLMG+IF9UGxi5wr5Z+7UvbE3Evjx3hJxCE8a+yv1C22zyx77C9DS1WMzJvkHqh9AYn8u+kcKTzqWlzr4Sz9qZz9fYvkNKej+o4vC+ggQfJH+AAr9WTTLUR6YQv1AL4P6eVhi/wdvRNBCaFr+Xb8tpM04Cv/MvHOQCixQ/v5/VGNWXMj8EzrOomjpEP830aRq2W1I/78fGq4eCXT8fxuL+tRFmP0N+HB7ZlG8//JZR1ZHWdT/5xZa2IGF9P6PWTYzZUIM/jlfU6wwPij/Pq+tkMTCRP+zB9T/4BJY/MZLxs4d5mz+SAf77HLegP2zIBYj+4KM/4G86HVYlpz/pOpkn82mqPzTkPaZsk60/S99Sa+0/sD+84ZJx+YCxP669etX9dbI/CDBLjHwWsz+fYhk+yW2zPwU+XeJqkrM/QpgGPjmcsz9IM8UFaKezP+P7shl/2bM/\",\"dtype\":\"float64\",\"shape\":[75]},\"y\":{\"__ndarray__\":\"GhExyth1ND/Sv8nbtpRIP2vylNV0PVE/aTum7souWD/At0SJ8fVgPw3Iuahxymc/MSNhhJWvcD/bTfBN02d3P2zb5nxnaoA/CD5h5MAGhz8NmeH1TyaQP+zrCsc9p5Y/LbKd76fGnz/bLW5ISEmmPww9YvTcQq8/JV2OstnstT8Er5Y7M8G+P0c+r3jqkcU/5h99k6ZBzj88bCIzFzjVP4enV8oyxN0//yH99nXg5D8qOpLLf0jtP5kqGJXUifQ/c9cS8kHP/D+/DpwzojQEQIEmwoanVwxA4lgXt9HgE0BSSZ2AJuIbQAMJih9jjiNA5q4l5INuK0AwTKYKRj0zQNv5fmq8/DpAaCJseHrtQkB/+zpwzoxKQM3MzMzMeFJAZmZmZmZqWEAAAAAAAFxeQM3MzMzMJmJAmpmZmZkfZUBmZmZmZhhoQDMzMzMzEWtAAAAAAAAKbkBmZmZmZoFwQM3MzMzM/XFAMzMzMzN6c0CamZmZmfZ0QAAAAAAAc3ZAZmZmZmbvd0DNzMzMzGt5QDMzMzMz6HpAmpmZmZlkfEAAAAAAAOF9QGZmZmZmXX9AZmZmZuZsgECamZmZGSuBQM3MzMxM6YFAAAAAAICngkAzMzMzs2WDQGZmZmbmI4RAmpmZmRnihEDNzMzMTKCFQAAAAACAXoZAMzMzM7Mch0BmZmZm5tqHQJqZmZkZmYhAzczMzExXiUAAAAAAgBWKQDMzMzOz04pAZmZmZuaRi0CamZmZGVCMQM3MzMxMDo1AAAAAAIDMjUAzMzMzs4qOQGZmZmbmSI9A\",\"dtype\":\"float64\",\"shape\":[75]}},\"selected\":{\"id\":\"28fd78e1-cfb6-4f6b-932d-4d87d61b5068\",\"type\":\"Selection\"},\"selection_policy\":{\"id\":\"d64a25a4-5d47-42c4-a437-3e59ed7a3bc9\",\"type\":\"UnionRenderers\"}},\"id\":\"cbb8785b-fb0e-460d-8ff3-72a110d9549f\",\"type\":\"ColumnDataSource\"},{\"attributes\":{},\"id\":\"0f597953-47e1-43c1-84db-8babe91ebe79\",\"type\":\"ResetTool\"},{\"attributes\":{},\"id\":\"4cfbfa44-d4fb-4585-8bcf-06accc188a13\",\"type\":\"HelpTool\"},{\"attributes\":{\"line_alpha\":0.1,\"line_color\":\"#1f77b4\",\"line_width\":1.5,\"x\":{\"field\":\"x\"},\"y\":{\"field\":\"y\"}},\"id\":\"df0ef00b-f40c-4adc-9cd6-b476e322f416\",\"type\":\"Line\"},{\"attributes\":{\"data_source\":{\"id\":\"bfea57f9-06da-4953-9559-72f72ba38cc9\",\"type\":\"ColumnDataSource\"},\"glyph\":{\"id\":\"1bb0c60b-4ccf-4ae1-9fa5-2c21107da0da\",\"type\":\"Line\"},\"hover_glyph\":null,\"muted_glyph\":null,\"nonselection_glyph\":{\"id\":\"47612d2d-dbc0-436f-8090-686552709db0\",\"type\":\"Line\"},\"selection_glyph\":null,\"view\":{\"id\":\"a54ba296-9c8d-4d3c-b1be-8bcb904b962d\",\"type\":\"CDSView\"}},\"id\":\"83718168-812a-4ff4-8654-93207e5b1635\",\"type\":\"GlyphRenderer\"},{\"attributes\":{\"data_source\":{\"id\":\"cbb8785b-fb0e-460d-8ff3-72a110d9549f\",\"type\":\"ColumnDataSource\"},\"glyph\":{\"id\":\"d2a9063a-95ba-446f-86dc-8a3694cb1ca7\",\"type\":\"Line\"},\"hover_glyph\":null,\"muted_glyph\":null,\"nonselection_glyph\":{\"id\":\"df0ef00b-f40c-4adc-9cd6-b476e322f416\",\"type\":\"Line\"},\"selection_glyph\":null,\"view\":{\"id\":\"42b3a6be-30bb-42e4-b04b-7e6da5653e55\",\"type\":\"CDSView\"}},\"id\":\"bc918e54-4d48-4f02-afab-8ce5b23ae83b\",\"type\":\"GlyphRenderer\"},{\"attributes\":{\"callback\":null,\"data\":{\"x\":{\"__ndarray__\":\"0JkiCp9asL5snZDyWGewvg31YOiXg7C+S1OJxNWgsL6cXRk6WL2wvueVGVuK2bC+Gl8ruEz1sL51YDkcjhCxviYV+E5OK7G+fNGDFm5Fsb7nLZLLC1+xvtDoWqobeLG+I25SeaiQsb5hSceWNKqxvibxTgon7LG+YpeuGkpYsr7W7qIXM+qxvkvlfaiadq6+M/NZiK7VoL4PXPnL3G+WPjZGCSgOxb8+6a1R/mZZ0z5+7/g/acngPrfmmazWhuE+cGM36hBf1z4Q0sf9wirJPleEVzNrxLQ+6cXDbQrngD5idCZkrAiivlArRkzIj6++ZdX1Vnk5tL6izQCIy023vmjq43Vdqbm+uo4DuIEMvL7hU1hkv+S+vkskD9hxLMG+nYQhyKoWw75X86WuZwLFvuhXDxMf3sa+go1Kd3jGyb6KVae5EGrVvvlWY7M0R+6+aze5CYKEAb8HCOoXOA8Rv+FYA9PqXRy/VjYPFo8LIb+9JWGH0Ywgv3/mAZAbVBe/o9XhC4WFuT7AZ1y571MmP5Lz3pgxVj0/V1NUjk7hSz/NGFw3CQxXPzTVPNRprmE/PZ3cTFTRaT9sVqh3Mi1yP5gK+wNP5Hg/WqW7fat0gT8oDMV74POHP5DnHgWU9Y8/lfZXppfMlD8xMY54T3GaPwenJDy4c6A/l+un3p4QpD8siVshhv+nPzzTQRryKKw/5J1atR80sD8dlvlTUkOyP0OhmM7kIbQ/ozy+gAi4tT9VkMdVKv22PxuJp4kE9Lc/S0E4GEqjuD879Cz0ABe5P57TYcK+Vrk/\",\"dtype\":\"float64\",\"shape\":[75]},\"y\":{\"__ndarray__\":\"GhExyth1ND/Sv8nbtpRIP2vylNV0PVE/aTum7souWD/At0SJ8fVgPw3Iuahxymc/MSNhhJWvcD/bTfBN02d3P2zb5nxnaoA/CD5h5MAGhz8NmeH1TyaQP+zrCsc9p5Y/LbKd76fGnz/bLW5ISEmmPww9YvTcQq8/JV2OstnstT8Er5Y7M8G+P0c+r3jqkcU/5h99k6ZBzj88bCIzFzjVP4enV8oyxN0//yH99nXg5D8qOpLLf0jtP5kqGJXUifQ/c9cS8kHP/D+/DpwzojQEQIEmwoanVwxA4lgXt9HgE0BSSZ2AJuIbQAMJih9jjiNA5q4l5INuK0AwTKYKRj0zQNv5fmq8/DpAaCJseHrtQkB/+zpwzoxKQM3MzMzMeFJAZmZmZmZqWEAAAAAAAFxeQM3MzMzMJmJAmpmZmZkfZUBmZmZmZhhoQDMzMzMzEWtAAAAAAAAKbkBmZmZmZoFwQM3MzMzM/XFAMzMzMzN6c0CamZmZmfZ0QAAAAAAAc3ZAZmZmZmbvd0DNzMzMzGt5QDMzMzMz6HpAmpmZmZlkfEAAAAAAAOF9QGZmZmZmXX9AZmZmZuZsgECamZmZGSuBQM3MzMxM6YFAAAAAAICngkAzMzMzs2WDQGZmZmbmI4RAmpmZmRnihEDNzMzMTKCFQAAAAACAXoZAMzMzM7Mch0BmZmZm5tqHQJqZmZkZmYhAzczMzExXiUAAAAAAgBWKQDMzMzOz04pAZmZmZuaRi0CamZmZGVCMQM3MzMxMDo1AAAAAAIDMjUAzMzMzs4qOQGZmZmbmSI9A\",\"dtype\":\"float64\",\"shape\":[75]}},\"selected\":{\"id\":\"f1a54669-3199-4867-8906-393bdfaa7bed\",\"type\":\"Selection\"},\"selection_policy\":{\"id\":\"3cd01ee4-5b8f-4160-b48e-f536e597af6b\",\"type\":\"UnionRenderers\"}},\"id\":\"a55a9307-07de-4bac-b1ae-3a767865e8ec\",\"type\":\"ColumnDataSource\"},{\"attributes\":{},\"id\":\"48c75d73-908b-483b-8305-7ef182ec3897\",\"type\":\"UnionRenderers\"},{\"attributes\":{\"fill_alpha\":{\"value\":0.7},\"fill_color\":{\"value\":\"#377eb8\"},\"line_alpha\":{\"value\":0.7},\"line_color\":{\"value\":\"#377eb8\"},\"x\":{\"field\":\"x\"},\"y\":{\"field\":\"y\"}},\"id\":\"39530f1a-bac1-4c62-a03e-aa8d4614bf94\",\"type\":\"Triangle\"},{\"attributes\":{\"callback\":null,\"data\":{\"x\":{\"__ndarray__\":\"0JkiCp9asL5snZDyWGewvg31YOiXg7C+S1OJxNWgsL6cXRk6WL2wvueVGVuK2bC+Gl8ruEz1sL51YDkcjhCxviYV+E5OK7G+fNGDFm5Fsb7nLZLLC1+xvtDoWqobeLG+I25SeaiQsb5hSceWNKqxvibxTgon7LG+YpeuGkpYsr7W7qIXM+qxvkvlfaiadq6+M/NZiK7VoL4PXPnL3G+WPjZGCSgOxb8+6a1R/mZZ0z5+7/g/acngPrfmmazWhuE+cGM36hBf1z4Q0sf9wirJPleEVzNrxLQ+6cXDbQrngD5idCZkrAiivlArRkzIj6++ZdX1Vnk5tL6izQCIy023vmjq43Vdqbm+uo4DuIEMvL7hU1hkv+S+vkskD9hxLMG+nYQhyKoWw75X86WuZwLFvuhXDxMf3sa+go1Kd3jGyb6KVae5EGrVvvlWY7M0R+6+aze5CYKEAb8HCOoXOA8Rv+FYA9PqXRy/VjYPFo8LIb+9JWGH0Ywgv3/mAZAbVBe/o9XhC4WFuT7AZ1y571MmP5Lz3pgxVj0/V1NUjk7hSz/NGFw3CQxXPzTVPNRprmE/PZ3cTFTRaT9sVqh3Mi1yP5gK+wNP5Hg/WqW7fat0gT8oDMV74POHP5DnHgWU9Y8/lfZXppfMlD8xMY54T3GaPwenJDy4c6A/l+un3p4QpD8siVshhv+nPzzTQRryKKw/5J1atR80sD8dlvlTUkOyP0OhmM7kIbQ/ozy+gAi4tT9VkMdVKv22PxuJp4kE9Lc/S0E4GEqjuD879Cz0ABe5P57TYcK+Vrk/\",\"dtype\":\"float64\",\"shape\":[75]},\"y\":{\"__ndarray__\":\"GhExyth1ND/Sv8nbtpRIP2vylNV0PVE/aTum7souWD/At0SJ8fVgPw3Iuahxymc/MSNhhJWvcD/bTfBN02d3P2zb5nxnaoA/CD5h5MAGhz8NmeH1TyaQP+zrCsc9p5Y/LbKd76fGnz/bLW5ISEmmPww9YvTcQq8/JV2OstnstT8Er5Y7M8G+P0c+r3jqkcU/5h99k6ZBzj88bCIzFzjVP4enV8oyxN0//yH99nXg5D8qOpLLf0jtP5kqGJXUifQ/c9cS8kHP/D+/DpwzojQEQIEmwoanVwxA4lgXt9HgE0BSSZ2AJuIbQAMJih9jjiNA5q4l5INuK0AwTKYKRj0zQNv5fmq8/DpAaCJseHrtQkB/+zpwzoxKQM3MzMzMeFJAZmZmZmZqWEAAAAAAAFxeQM3MzMzMJmJAmpmZmZkfZUBmZmZmZhhoQDMzMzMzEWtAAAAAAAAKbkBmZmZmZoFwQM3MzMzM/XFAMzMzMzN6c0CamZmZmfZ0QAAAAAAAc3ZAZmZmZmbvd0DNzMzMzGt5QDMzMzMz6HpAmpmZmZlkfEAAAAAAAOF9QGZmZmZmXX9AZmZmZuZsgECamZmZGSuBQM3MzMxM6YFAAAAAAICngkAzMzMzs2WDQGZmZmbmI4RAmpmZmRnihEDNzMzMTKCFQAAAAACAXoZAMzMzM7Mch0BmZmZm5tqHQJqZmZkZmYhAzczMzExXiUAAAAAAgBWKQDMzMzOz04pAZmZmZuaRi0CamZmZGVCMQM3MzMxMDo1AAAAAAIDMjUAzMzMzs4qOQGZmZmbmSI9A\",\"dtype\":\"float64\",\"shape\":[75]}},\"selected\":{\"id\":\"afffbfb4-6d04-419d-b5c1-175f3a38b3ef\",\"type\":\"Selection\"},\"selection_policy\":{\"id\":\"45d906f8-67b4-441a-9c70-a6d7eb5e68bf\",\"type\":\"UnionRenderers\"}},\"id\":\"6872aac3-b1f8-4eba-a3ee-fe064d311b96\",\"type\":\"ColumnDataSource\"},{\"attributes\":{\"fill_alpha\":{\"value\":0.7},\"fill_color\":{\"value\":\"#4daf4a\"},\"line_alpha\":{\"value\":0.7},\"line_color\":{\"value\":\"#4daf4a\"},\"x\":{\"field\":\"x\"},\"y\":{\"field\":\"y\"}},\"id\":\"12a93d62-8d54-404f-89ca-2ffcc7f0c0df\",\"type\":\"Circle\"},{\"attributes\":{\"source\":{\"id\":\"a55a9307-07de-4bac-b1ae-3a767865e8ec\",\"type\":\"ColumnDataSource\"}},\"id\":\"b4c4b187-fff6-43b1-b3a0-3ebed50284a4\",\"type\":\"CDSView\"},{\"attributes\":{\"fill_alpha\":{\"value\":0.7},\"fill_color\":{\"value\":\"#984ea3\"},\"line_alpha\":{\"value\":0.7},\"line_color\":{\"value\":\"#984ea3\"},\"x\":{\"field\":\"x\"},\"y\":{\"field\":\"y\"}},\"id\":\"503c6ef4-cefa-4e86-9d76-3c532ff4fbcd\",\"type\":\"Square\"},{\"attributes\":{\"fill_alpha\":{\"value\":0.1},\"fill_color\":{\"value\":\"#1f77b4\"},\"line_alpha\":{\"value\":0.1},\"line_color\":{\"value\":\"#1f77b4\"},\"x\":{\"field\":\"x\"},\"y\":{\"field\":\"y\"}},\"id\":\"8013bafa-a110-4f98-848d-1da1b4b1678c\",\"type\":\"Triangle\"},{\"attributes\":{\"line_alpha\":0.3,\"line_color\":\"#377eb8\",\"line_width\":2,\"x\":{\"field\":\"x\"},\"y\":{\"field\":\"y\"}},\"id\":\"b18ad3cc-ece4-4a67-85d1-0743e709f102\",\"type\":\"Line\"},{\"attributes\":{\"children\":[{\"id\":\"4ebb0a61-373a-4e60-831a-180457d578c9\",\"type\":\"Row\"}]},\"id\":\"a5367a27-7740-42b1-92a4-9e2aae558f93\",\"type\":\"Column\"},{\"attributes\":{\"data_source\":{\"id\":\"a55a9307-07de-4bac-b1ae-3a767865e8ec\",\"type\":\"ColumnDataSource\"},\"glyph\":{\"id\":\"39530f1a-bac1-4c62-a03e-aa8d4614bf94\",\"type\":\"Triangle\"},\"hover_glyph\":null,\"muted_glyph\":null,\"nonselection_glyph\":{\"id\":\"8013bafa-a110-4f98-848d-1da1b4b1678c\",\"type\":\"Triangle\"},\"selection_glyph\":null,\"view\":{\"id\":\"b4c4b187-fff6-43b1-b3a0-3ebed50284a4\",\"type\":\"CDSView\"}},\"id\":\"f4ea4e94-8456-4a68-857c-7e07d0d1d939\",\"type\":\"GlyphRenderer\"},{\"attributes\":{\"callback\":null,\"data\":{\"x\":{\"__ndarray__\":\"Echz3tY1vL5OOlm+H0e8vvqXDmoQaby+F9/FqmSMvL4rMz4OH628vmThc5CHzLy+lO22cZvqvL4oImO2PAa9vgIdDJQKIL2+QyRvoa03vb4YyQoKzEy9vskGTFu6X72+YxROyjpwvb7aHUv2z369viJRyQfvk72+Ow7GQIILvb6z/wqv2Hm5vo3EEpGnBLC+qzPhESU5jT7MdF5JKkbEPvplh0l0ato+dtQ6NIHi6j5dQPYA8sD1PmwH811Hj/Y++9gdXLRm7z6yq4F+BJriPiBWSbwtYtM+djlAzYDGvz61x/Thf2WQPuTsWEP2Zqm+NVvVyMlqt7765oeKPTe+vrJgOZqtLMG+IF9UGxi5wr5Z+7UvbE3Evjx3hJxCE8a+yv1C22zyx77C9DS1WMzJvkHqh9AYn8u+kcKTzqWlzr4Sz9qZz9fYvkNKej+o4vC+ggQfJH+AAr9WTTLUR6YQv1AL4P6eVhi/wdvRNBCaFr+Xb8tpM04Cv/MvHOQCixQ/v5/VGNWXMj8EzrOomjpEP830aRq2W1I/78fGq4eCXT8fxuL+tRFmP0N+HB7ZlG8//JZR1ZHWdT/5xZa2IGF9P6PWTYzZUIM/jlfU6wwPij/Pq+tkMTCRP+zB9T/4BJY/MZLxs4d5mz+SAf77HLegP2zIBYj+4KM/4G86HVYlpz/pOpkn82mqPzTkPaZsk60/S99Sa+0/sD+84ZJx+YCxP669etX9dbI/CDBLjHwWsz+fYhk+yW2zPwU+XeJqkrM/QpgGPjmcsz9IM8UFaKezP+P7shl/2bM/\",\"dtype\":\"float64\",\"shape\":[75]},\"y\":{\"__ndarray__\":\"GhExyth1ND/Sv8nbtpRIP2vylNV0PVE/aTum7souWD/At0SJ8fVgPw3Iuahxymc/MSNhhJWvcD/bTfBN02d3P2zb5nxnaoA/CD5h5MAGhz8NmeH1TyaQP+zrCsc9p5Y/LbKd76fGnz/bLW5ISEmmPww9YvTcQq8/JV2OstnstT8Er5Y7M8G+P0c+r3jqkcU/5h99k6ZBzj88bCIzFzjVP4enV8oyxN0//yH99nXg5D8qOpLLf0jtP5kqGJXUifQ/c9cS8kHP/D+/DpwzojQEQIEmwoanVwxA4lgXt9HgE0BSSZ2AJuIbQAMJih9jjiNA5q4l5INuK0AwTKYKRj0zQNv5fmq8/DpAaCJseHrtQkB/+zpwzoxKQM3MzMzMeFJAZmZmZmZqWEAAAAAAAFxeQM3MzMzMJmJAmpmZmZkfZUBmZmZmZhhoQDMzMzMzEWtAAAAAAAAKbkBmZmZmZoFwQM3MzMzM/XFAMzMzMzN6c0CamZmZmfZ0QAAAAAAAc3ZAZmZmZmbvd0DNzMzMzGt5QDMzMzMz6HpAmpmZmZlkfEAAAAAAAOF9QGZmZmZmXX9AZmZmZuZsgECamZmZGSuBQM3MzMxM6YFAAAAAAICngkAzMzMzs2WDQGZmZmbmI4RAmpmZmRnihEDNzMzMTKCFQAAAAACAXoZAMzMzM7Mch0BmZmZm5tqHQJqZmZkZmYhAzczMzExXiUAAAAAAgBWKQDMzMzOz04pAZmZmZuaRi0CamZmZGVCMQM3MzMxMDo1AAAAAAIDMjUAzMzMzs4qOQGZmZmbmSI9A\",\"dtype\":\"float64\",\"shape\":[75]}},\"selected\":{\"id\":\"9fb97abc-40e6-4bfa-9544-3c154a1a736b\",\"type\":\"Selection\"},\"selection_policy\":{\"id\":\"6bbedbdc-9c25-4b74-8e1b-a8f480afb822\",\"type\":\"UnionRenderers\"}},\"id\":\"df4764ea-4408-43a9-8709-6c1c1655dfe6\",\"type\":\"ColumnDataSource\"},{\"attributes\":{\"data_source\":{\"id\":\"6872aac3-b1f8-4eba-a3ee-fe064d311b96\",\"type\":\"ColumnDataSource\"},\"glyph\":{\"id\":\"b18ad3cc-ece4-4a67-85d1-0743e709f102\",\"type\":\"Line\"},\"hover_glyph\":null,\"muted_glyph\":null,\"nonselection_glyph\":{\"id\":\"159690c5-78cf-4aba-bfba-3f5d4458800b\",\"type\":\"Line\"},\"selection_glyph\":null,\"view\":{\"id\":\"7f796488-c13d-439d-96f5-d506b82efff5\",\"type\":\"CDSView\"}},\"id\":\"11114e54-842f-4f03-9155-c6d85e6d6501\",\"type\":\"GlyphRenderer\"},{\"attributes\":{\"fill_alpha\":{\"value\":0.1},\"fill_color\":{\"value\":\"#1f77b4\"},\"line_alpha\":{\"value\":0.1},\"line_color\":{\"value\":\"#1f77b4\"},\"x\":{\"field\":\"x\"},\"y\":{\"field\":\"y\"}},\"id\":\"ad7f7fb5-1da8-4946-ad19-d43d48f9523f\",\"type\":\"Circle\"},{\"attributes\":{\"source\":{\"id\":\"6872aac3-b1f8-4eba-a3ee-fe064d311b96\",\"type\":\"ColumnDataSource\"}},\"id\":\"7f796488-c13d-439d-96f5-d506b82efff5\",\"type\":\"CDSView\"},{\"attributes\":{\"plot\":null,\"text\":\"\"},\"id\":\"0d9922dd-65f3-4f35-9b50-439eff3835a5\",\"type\":\"Title\"},{\"attributes\":{\"children\":[{\"id\":\"aa9d92e2-f380-47c4-bc87-d7dad0d1d59a\",\"subtype\":\"Figure\",\"type\":\"Plot\"},{\"id\":\"abcc5f8b-2bda-42b0-aaed-05fd36bb50fa\",\"subtype\":\"Figure\",\"type\":\"Plot\"}]},\"id\":\"4ebb0a61-373a-4e60-831a-180457d578c9\",\"type\":\"Row\"},{\"attributes\":{\"label\":{\"value\":\"CRD\"},\"renderers\":[{\"id\":\"92c55f4b-c71b-4aab-8397-e8a570724e1b\",\"type\":\"GlyphRenderer\"},{\"id\":\"bc918e54-4d48-4f02-afab-8ce5b23ae83b\",\"type\":\"GlyphRenderer\"}]},\"id\":\"d9f566a4-08f9-46dc-9396-94bb002fecf2\",\"type\":\"LegendItem\"},{\"attributes\":{},\"id\":\"406c5ddc-f364-4ae9-91ed-55668de2f8b0\",\"type\":\"Selection\"},{\"attributes\":{\"callback\":null,\"end\":0.01,\"start\":1020},\"id\":\"8921e314-23b1-4770-ab33-d6dfa2e4c9e3\",\"type\":\"Range1d\"},{\"attributes\":{},\"id\":\"63b68c6f-2a17-44d6-8a50-b20e3d33688c\",\"type\":\"UnionRenderers\"},{\"attributes\":{\"data_source\":{\"id\":\"df4764ea-4408-43a9-8709-6c1c1655dfe6\",\"type\":\"ColumnDataSource\"},\"glyph\":{\"id\":\"12a93d62-8d54-404f-89ca-2ffcc7f0c0df\",\"type\":\"Circle\"},\"hover_glyph\":null,\"muted_glyph\":null,\"nonselection_glyph\":{\"id\":\"ad7f7fb5-1da8-4946-ad19-d43d48f9523f\",\"type\":\"Circle\"},\"selection_glyph\":null,\"view\":{\"id\":\"ab3a1a2f-f54d-4c28-a145-7efc04e7ed43\",\"type\":\"CDSView\"}},\"id\":\"92c55f4b-c71b-4aab-8397-e8a570724e1b\",\"type\":\"GlyphRenderer\"},{\"attributes\":{\"label\":{\"value\":\"WGT igg=1\"},\"renderers\":[{\"id\":\"65a5b38b-3ce3-43d7-baaa-68cb5c4729ee\",\"type\":\"GlyphRenderer\"},{\"id\":\"83718168-812a-4ff4-8654-93207e5b1635\",\"type\":\"GlyphRenderer\"}]},\"id\":\"459eafec-400c-4678-865f-01cc63425d68\",\"type\":\"LegendItem\"},{\"attributes\":{},\"id\":\"fe9a8a5c-40f7-4ecf-be6b-115b02369b8f\",\"type\":\"Selection\"},{\"attributes\":{\"label\":{\"value\":\"WGT igg=10\"},\"renderers\":[{\"id\":\"f4ea4e94-8456-4a68-857c-7e07d0d1d939\",\"type\":\"GlyphRenderer\"},{\"id\":\"11114e54-842f-4f03-9155-c6d85e6d6501\",\"type\":\"GlyphRenderer\"}]},\"id\":\"bdca1051-5ecf-448a-aad5-0166fb38c5f7\",\"type\":\"LegendItem\"},{\"attributes\":{},\"id\":\"ca30aa20-baf1-4e6a-9bed-f899a501405b\",\"type\":\"UnionRenderers\"},{\"attributes\":{},\"id\":\"f79929fe-b2a3-4ba8-9b30-e2806d11083f\",\"type\":\"BasicTickFormatter\"},{\"attributes\":{},\"id\":\"bfd40d94-6290-4c3a-9184-18459eeb9bd3\",\"type\":\"BasicTickFormatter\"},{\"attributes\":{\"callback\":null,\"end\":0.0999709752019,\"start\":-0.0011211433919},\"id\":\"05a7ea74-9659-410b-ad00-97eec5143550\",\"type\":\"Range1d\"},{\"attributes\":{},\"id\":\"05bceaf0-b56f-4af6-a3fc-f56970e902e1\",\"type\":\"BasicTickFormatter\"},{\"attributes\":{},\"id\":\"c1005690-2fc9-43af-99f1-cc3b4c018f57\",\"type\":\"Selection\"},{\"attributes\":{\"ticker\":null},\"id\":\"5042fa63-6ddd-42b2-a51e-5f3650cd5dab\",\"type\":\"LogTickFormatter\"},{\"attributes\":{},\"id\":\"88919a2a-e469-4e98-8644-13087dc3d075\",\"type\":\"Selection\"},{\"attributes\":{},\"id\":\"9fb97abc-40e6-4bfa-9544-3c154a1a736b\",\"type\":\"Selection\"},{\"attributes\":{},\"id\":\"a78a3770-bd4e-47ff-afa9-6e974809beca\",\"type\":\"UnionRenderers\"},{\"attributes\":{},\"id\":\"d64a25a4-5d47-42c4-a437-3e59ed7a3bc9\",\"type\":\"UnionRenderers\"},{\"attributes\":{\"plot\":null,\"text\":\"\"},\"id\":\"c4d20659-f94f-4fa6-8b14-088560099b7f\",\"type\":\"Title\"},{\"attributes\":{},\"id\":\"0a13e1f8-1f05-468f-a33b-54693dea9d50\",\"type\":\"Selection\"},{\"attributes\":{},\"id\":\"c3864100-4a12-4678-8a7c-d59a037934b4\",\"type\":\"Selection\"},{\"attributes\":{},\"id\":\"28fd78e1-cfb6-4f6b-932d-4d87d61b5068\",\"type\":\"Selection\"},{\"attributes\":{},\"id\":\"6bbedbdc-9c25-4b74-8e1b-a8f480afb822\",\"type\":\"UnionRenderers\"},{\"attributes\":{},\"id\":\"f1a54669-3199-4867-8906-393bdfaa7bed\",\"type\":\"Selection\"},{\"attributes\":{},\"id\":\"afffbfb4-6d04-419d-b5c1-175f3a38b3ef\",\"type\":\"Selection\"},{\"attributes\":{},\"id\":\"ca653955-564c-4817-97ca-27ba113fe22f\",\"type\":\"UnionRenderers\"},{\"attributes\":{\"toolbar\":{\"id\":\"6de76c63-fa5e-41b7-a50a-7b2dac24bb3a\",\"type\":\"ProxyToolbar\"},\"toolbar_location\":\"above\"},\"id\":\"219accec-8c9e-42ab-bb0f-4e21cfbbb6c0\",\"type\":\"ToolbarBox\"},{\"attributes\":{},\"id\":\"24c89e78-7868-42b9-8b80-2cc1833def78\",\"type\":\"UnionRenderers\"},{\"attributes\":{},\"id\":\"3cd01ee4-5b8f-4160-b48e-f536e597af6b\",\"type\":\"UnionRenderers\"},{\"attributes\":{\"children\":[{\"id\":\"219accec-8c9e-42ab-bb0f-4e21cfbbb6c0\",\"type\":\"ToolbarBox\"},{\"id\":\"a5367a27-7740-42b1-92a4-9e2aae558f93\",\"type\":\"Column\"}]},\"id\":\"e865fb9d-d618-4b9e-b897-8fc9c2a93e30\",\"type\":\"Column\"},{\"attributes\":{},\"id\":\"45d906f8-67b4-441a-9c70-a6d7eb5e68bf\",\"type\":\"UnionRenderers\"},{\"attributes\":{\"tools\":[{\"id\":\"7928eaf3-97e0-4a39-ab68-1a6967bf8531\",\"type\":\"PanTool\"},{\"id\":\"ed332994-30ca-45cc-9696-50c29c38ef45\",\"type\":\"WheelZoomTool\"},{\"id\":\"88faf3a1-15dd-4f9d-bba6-c1ee5510bd7f\",\"type\":\"BoxZoomTool\"},{\"id\":\"cd367a88-38b2-4fb7-97c6-9fdc851f2766\",\"type\":\"SaveTool\"},{\"id\":\"21824cc9-db90-45f3-936b-c57f7dea9e41\",\"type\":\"ResetTool\"},{\"id\":\"cd054f6c-1750-4850-a5dd-72960aaa8b43\",\"type\":\"HelpTool\"},{\"id\":\"2ff3f345-8b79-42b2-9311-469038f52b4e\",\"type\":\"PanTool\"},{\"id\":\"b28453f8-cafc-4817-9e7b-49664f06b649\",\"type\":\"WheelZoomTool\"},{\"id\":\"023b8957-c9eb-4920-85c1-86ccc10a17ee\",\"type\":\"BoxZoomTool\"},{\"id\":\"6e5cb5a5-6dd2-40ef-b99c-4f3b08f089a1\",\"type\":\"SaveTool\"},{\"id\":\"0f597953-47e1-43c1-84db-8babe91ebe79\",\"type\":\"ResetTool\"},{\"id\":\"4cfbfa44-d4fb-4585-8bcf-06accc188a13\",\"type\":\"HelpTool\"}]},\"id\":\"6de76c63-fa5e-41b7-a50a-7b2dac24bb3a\",\"type\":\"ProxyToolbar\"},{\"attributes\":{},\"id\":\"3fed9b66-1ebd-4654-b122-e60f0fdabd22\",\"type\":\"Selection\"},{\"attributes\":{\"callback\":null,\"data\":{\"x\":{\"__ndarray__\":\"Echz3tY1vL5OOlm+H0e8vvqXDmoQaby+F9/FqmSMvL4rMz4OH628vmThc5CHzLy+lO22cZvqvL4oImO2PAa9vgIdDJQKIL2+QyRvoa03vb4YyQoKzEy9vskGTFu6X72+YxROyjpwvb7aHUv2z369viJRyQfvk72+Ow7GQIILvb6z/wqv2Hm5vo3EEpGnBLC+qzPhESU5jT7MdF5JKkbEPvplh0l0ato+dtQ6NIHi6j5dQPYA8sD1PmwH811Hj/Y++9gdXLRm7z6yq4F+BJriPiBWSbwtYtM+djlAzYDGvz61x/Thf2WQPuTsWEP2Zqm+NVvVyMlqt7765oeKPTe+vrJgOZqtLMG+IF9UGxi5wr5Z+7UvbE3Evjx3hJxCE8a+yv1C22zyx77C9DS1WMzJvkHqh9AYn8u+kcKTzqWlzr4Sz9qZz9fYvkNKej+o4vC+ggQfJH+AAr9WTTLUR6YQv1AL4P6eVhi/wdvRNBCaFr+Xb8tpM04Cv/MvHOQCixQ/v5/VGNWXMj8EzrOomjpEP830aRq2W1I/78fGq4eCXT8fxuL+tRFmP0N+HB7ZlG8//JZR1ZHWdT/5xZa2IGF9P6PWTYzZUIM/jlfU6wwPij/Pq+tkMTCRP+zB9T/4BJY/MZLxs4d5mz+SAf77HLegP2zIBYj+4KM/4G86HVYlpz/pOpkn82mqPzTkPaZsk60/S99Sa+0/sD+84ZJx+YCxP669etX9dbI/CDBLjHwWsz+fYhk+yW2zPwU+XeJqkrM/QpgGPjmcsz9IM8UFaKezP+P7shl/2bM/\",\"dtype\":\"float64\",\"shape\":[75]},\"y\":{\"__ndarray__\":\"GhExyth1ND/Sv8nbtpRIP2vylNV0PVE/aTum7souWD/At0SJ8fVgPw3Iuahxymc/MSNhhJWvcD/bTfBN02d3P2zb5nxnaoA/CD5h5MAGhz8NmeH1TyaQP+zrCsc9p5Y/LbKd76fGnz/bLW5ISEmmPww9YvTcQq8/JV2OstnstT8Er5Y7M8G+P0c+r3jqkcU/5h99k6ZBzj88bCIzFzjVP4enV8oyxN0//yH99nXg5D8qOpLLf0jtP5kqGJXUifQ/c9cS8kHP/D+/DpwzojQEQIEmwoanVwxA4lgXt9HgE0BSSZ2AJuIbQAMJih9jjiNA5q4l5INuK0AwTKYKRj0zQNv5fmq8/DpAaCJseHrtQkB/+zpwzoxKQM3MzMzMeFJAZmZmZmZqWEAAAAAAAFxeQM3MzMzMJmJAmpmZmZkfZUBmZmZmZhhoQDMzMzMzEWtAAAAAAAAKbkBmZmZmZoFwQM3MzMzM/XFAMzMzMzN6c0CamZmZmfZ0QAAAAAAAc3ZAZmZmZmbvd0DNzMzMzGt5QDMzMzMz6HpAmpmZmZlkfEAAAAAAAOF9QGZmZmZmXX9AZmZmZuZsgECamZmZGSuBQM3MzMxM6YFAAAAAAICngkAzMzMzs2WDQGZmZmbmI4RAmpmZmRnihEDNzMzMTKCFQAAAAACAXoZAMzMzM7Mch0BmZmZm5tqHQJqZmZkZmYhAzczMzExXiUAAAAAAgBWKQDMzMzOz04pAZmZmZuaRi0CamZmZGVCMQM3MzMxMDo1AAAAAAIDMjUAzMzMzs4qOQGZmZmbmSI9A\",\"dtype\":\"float64\",\"shape\":[75]}},\"selected\":{\"id\":\"fe9a8a5c-40f7-4ecf-be6b-115b02369b8f\",\"type\":\"Selection\"},\"selection_policy\":{\"id\":\"63b68c6f-2a17-44d6-8a50-b20e3d33688c\",\"type\":\"UnionRenderers\"}},\"id\":\"928cb63d-8b31-45ff-a186-7daff92026b2\",\"type\":\"ColumnDataSource\"},{\"attributes\":{},\"id\":\"4d2e9f40-51d2-4f87-84b3-a7349879b804\",\"type\":\"BasicTicker\"},{\"attributes\":{\"items\":[{\"id\":\"82ad8fc0-019b-420a-8721-929961b11012\",\"type\":\"LegendItem\"},{\"id\":\"46d710e0-f5e1-4361-bd5b-74a4e362b6c8\",\"type\":\"LegendItem\"},{\"id\":\"ff904850-c86a-49c7-b969-3bd4c2201f9d\",\"type\":\"LegendItem\"}],\"label_text_font_size\":{\"value\":\"8pt\"},\"location\":\"top_center\",\"orientation\":\"horizontal\",\"plot\":{\"id\":\"aa9d92e2-f380-47c4-bc87-d7dad0d1d59a\",\"subtype\":\"Figure\",\"type\":\"Plot\"}},\"id\":\"fb612eed-4be6-4712-963e-0a93deb98445\",\"type\":\"Legend\"},{\"attributes\":{},\"id\":\"f10b1d8d-0340-49c9-9338-0469670a600b\",\"type\":\"LinearScale\"},{\"attributes\":{},\"id\":\"505b1bf3-b033-4611-acdf-8e6d8cfea87a\",\"type\":\"BasicTicker\"},{\"attributes\":{\"active_drag\":\"auto\",\"active_inspect\":\"auto\",\"active_scroll\":\"auto\",\"active_tap\":\"auto\",\"tools\":[{\"id\":\"7928eaf3-97e0-4a39-ab68-1a6967bf8531\",\"type\":\"PanTool\"},{\"id\":\"ed332994-30ca-45cc-9696-50c29c38ef45\",\"type\":\"WheelZoomTool\"},{\"id\":\"88faf3a1-15dd-4f9d-bba6-c1ee5510bd7f\",\"type\":\"BoxZoomTool\"},{\"id\":\"cd367a88-38b2-4fb7-97c6-9fdc851f2766\",\"type\":\"SaveTool\"},{\"id\":\"21824cc9-db90-45f3-936b-c57f7dea9e41\",\"type\":\"ResetTool\"},{\"id\":\"cd054f6c-1750-4850-a5dd-72960aaa8b43\",\"type\":\"HelpTool\"}]},\"id\":\"819ac243-569f-4bc2-bf44-83738c42656d\",\"type\":\"Toolbar\"},{\"attributes\":{\"callback\":null,\"end\":0.01,\"start\":1020},\"id\":\"fe258349-d28b-496e-bc7c-55ffe99275b9\",\"type\":\"Range1d\"},{\"attributes\":{},\"id\":\"6e816214-1c99-4242-94d2-14d91489761b\",\"type\":\"BasicTicker\"},{\"attributes\":{\"dimension\":1,\"plot\":{\"id\":\"aa9d92e2-f380-47c4-bc87-d7dad0d1d59a\",\"subtype\":\"Figure\",\"type\":\"Plot\"},\"ticker\":{\"id\":\"6e816214-1c99-4242-94d2-14d91489761b\",\"type\":\"BasicTicker\"}},\"id\":\"25e528d3-d603-460a-8cf9-5ac03f1e470d\",\"type\":\"Grid\"},{\"attributes\":{\"axis_label\":\"pressure [mb]\",\"formatter\":{\"id\":\"bfd40d94-6290-4c3a-9184-18459eeb9bd3\",\"type\":\"BasicTickFormatter\"},\"plot\":{\"id\":\"aa9d92e2-f380-47c4-bc87-d7dad0d1d59a\",\"subtype\":\"Figure\",\"type\":\"Plot\"},\"ticker\":{\"id\":\"6e816214-1c99-4242-94d2-14d91489761b\",\"type\":\"BasicTicker\"}},\"id\":\"8f573c47-4f80-4c61-9bc5-07142db85efe\",\"type\":\"LinearAxis\"},{\"attributes\":{\"axis_label\":\"cooling rate [K/day]\",\"formatter\":{\"id\":\"f79929fe-b2a3-4ba8-9b30-e2806d11083f\",\"type\":\"BasicTickFormatter\"},\"plot\":{\"id\":\"aa9d92e2-f380-47c4-bc87-d7dad0d1d59a\",\"subtype\":\"Figure\",\"type\":\"Plot\"},\"ticker\":{\"id\":\"505b1bf3-b033-4611-acdf-8e6d8cfea87a\",\"type\":\"BasicTicker\"}},\"id\":\"d038a820-a30e-4988-acb9-15b66497ce56\",\"type\":\"LinearAxis\"},{\"attributes\":{\"plot\":{\"id\":\"aa9d92e2-f380-47c4-bc87-d7dad0d1d59a\",\"subtype\":\"Figure\",\"type\":\"Plot\"},\"ticker\":{\"id\":\"505b1bf3-b033-4611-acdf-8e6d8cfea87a\",\"type\":\"BasicTicker\"}},\"id\":\"b0f02d2d-d093-4054-bf43-25fb297ca082\",\"type\":\"Grid\"},{\"attributes\":{\"axis_label\":\"cooling rate [K/day]\",\"formatter\":{\"id\":\"05bceaf0-b56f-4af6-a3fc-f56970e902e1\",\"type\":\"BasicTickFormatter\"},\"plot\":{\"id\":\"abcc5f8b-2bda-42b0-aaed-05fd36bb50fa\",\"subtype\":\"Figure\",\"type\":\"Plot\"},\"ticker\":{\"id\":\"4d2e9f40-51d2-4f87-84b3-a7349879b804\",\"type\":\"BasicTicker\"}},\"id\":\"a4f06a4c-b1c0-4e12-b279-71ee3adc5684\",\"type\":\"LinearAxis\"},{\"attributes\":{},\"id\":\"a88e7749-19f3-4f2f-be28-2219c6e23a1b\",\"type\":\"LinearScale\"},{\"attributes\":{\"bottom_units\":\"screen\",\"fill_alpha\":{\"value\":0.5},\"fill_color\":{\"value\":\"lightgrey\"},\"left_units\":\"screen\",\"level\":\"overlay\",\"line_alpha\":{\"value\":1.0},\"line_color\":{\"value\":\"black\"},\"line_dash\":[4,4],\"line_width\":{\"value\":2},\"plot\":null,\"render_mode\":\"css\",\"right_units\":\"screen\",\"top_units\":\"screen\"},\"id\":\"c5b6191c-fcdd-400b-a531-9124d56aa9e4\",\"type\":\"BoxAnnotation\"},{\"attributes\":{},\"id\":\"cd054f6c-1750-4850-a5dd-72960aaa8b43\",\"type\":\"HelpTool\"},{\"attributes\":{},\"id\":\"ac8afe10-4899-4061-af15-746a546d6bb4\",\"type\":\"UnionRenderers\"}],\"root_ids\":[\"e865fb9d-d618-4b9e-b897-8fc9c2a93e30\"]},\"title\":\"Bokeh Application\",\"version\":\"0.12.16\"}};\n",
       "  var render_items = [{\"docid\":\"75783873-0770-40bc-8ada-8a445ba43c99\",\"elementid\":\"9c6ff9a7-e11e-4498-b6d5-8588df73ef9a\",\"modelid\":\"e865fb9d-d618-4b9e-b897-8fc9c2a93e30\"}];\n",
       "  root.Bokeh.embed.embed_items_notebook(docs_json, render_items);\n",
       "\n",
       "  }\n",
       "  if (root.Bokeh !== undefined) {\n",
       "    embed_document(root);\n",
       "  } else {\n",
       "    var attempts = 0;\n",
       "    var timer = setInterval(function(root) {\n",
       "      if (root.Bokeh !== undefined) {\n",
       "        embed_document(root);\n",
       "        clearInterval(timer);\n",
       "      }\n",
       "      attempts++;\n",
       "      if (attempts > 100) {\n",
       "        console.log(\"Bokeh: ERROR: Unable to run BokehJS code because BokehJS library is missing\")\n",
       "        clearInterval(timer);\n",
       "      }\n",
       "    }, 10, root)\n",
       "  }\n",
       "})(window);"
      ],
      "application/vnd.bokehjs_exec.v0+json": ""
     },
     "metadata": {
      "application/vnd.bokehjs_exec.v0+json": {
       "id": "e865fb9d-d618-4b9e-b897-8fc9c2a93e30"
      }
     },
     "output_type": "display_data"
    },
    {
     "data": {
      "text/markdown": [
       "*FIGURE.* Cooling rates. g=2"
      ],
      "text/plain": [
       "<IPython.core.display.Markdown object>"
      ]
     },
     "metadata": {},
     "output_type": "display_data"
    },
    {
     "data": {
      "text/html": [
       "\n",
       "<div class=\"bk-root\">\n",
       "    <div class=\"bk-plotdiv\" id=\"f7e0f3a6-edf6-46e5-a414-4d3fd8b32c4e\"></div>\n",
       "</div>"
      ]
     },
     "metadata": {},
     "output_type": "display_data"
    },
    {
     "data": {
      "application/javascript": [
       "(function(root) {\n",
       "  function embed_document(root) {\n",
       "    \n",
       "  var docs_json = {\"4b1cdda6-7125-4762-a491-37e3078f066e\":{\"roots\":{\"references\":[{\"attributes\":{\"callback\":null,\"data\":{\"x\":{\"__ndarray__\":\"r2NFrnXwhL6HtfABYUGFvoBrp09dY4W+mbYCzuC8hb628KaTq/uFvpxQ/d+aSYa+4c+zTteShr6ngwC5r+OGvrJOJlNqLIe+U4qEyaN3h75u6wh91cCHvg+gWReVDIi+MpfQs7FXiL4j4IAlW6iIvrxZLm+7jIm+8iuK4H21i77zycIVArONvuZOBOYR9Yy+QYM9zAhyhr6JC+DIsJZjvu3b9TU/Y5A+XdkS4VBYqj7ThF1cSl25Pv01P2F6rro+gcMaZeWMsD6ZbJcTHr6ePuMs3qBECoA+fkS+NdEpdb6VJ/o4fE+JvhdigQB+4pC+aw4JWYGok74Yu3g09dWVvkSvk1VyLZi+6ZfdMrNum75SA9y/wgCgvvlPFYv3H6O+kxCHTg/fpr5+yyAFWc6qvrnBzYarwa6+1IpYs9oqsr5keXI+wqi/vjtQ4ahtlNe+Qfd/hd7g7L4cPTRhO/79vrRONKAR+Qq/pQUKAyoFEr+hK/LzSrMUv9KC3pFS9RS/p88zcLm5EL8GL3CljaD0vvcngnTubRE/1nej8/9BKz/YCNgYAX87PxsemEX+uUc/poL9JG3UUj/T8MrKf1xcP4U3bYMokWQ/vDcns9hmbj8KQoZJSfN1P7JWMbiN1n4/hQSeESv3hD+QPSJ2C/yLPz3tLTt9apI//beIq6evlz8yxEdKzheeP+ceOIWaw6I/9cE37y0cpz/D/ITPsPqrPwfOnYl+p7A/Fgn54oOFsz+S7TojY5i2Pyy/qZvN27k/1rD4sItgvT85A8h1+JDAP8A0NZ5CjcI/\",\"dtype\":\"float64\",\"shape\":[75]},\"y\":{\"__ndarray__\":\"GhExyth1ND/Sv8nbtpRIP2vylNV0PVE/aTum7souWD/At0SJ8fVgPw3Iuahxymc/MSNhhJWvcD/bTfBN02d3P2zb5nxnaoA/CD5h5MAGhz8NmeH1TyaQP+zrCsc9p5Y/LbKd76fGnz/bLW5ISEmmPww9YvTcQq8/JV2OstnstT8Er5Y7M8G+P0c+r3jqkcU/5h99k6ZBzj88bCIzFzjVP4enV8oyxN0//yH99nXg5D8qOpLLf0jtP5kqGJXUifQ/c9cS8kHP/D+/DpwzojQEQIEmwoanVwxA4lgXt9HgE0BSSZ2AJuIbQAMJih9jjiNA5q4l5INuK0AwTKYKRj0zQNv5fmq8/DpAaCJseHrtQkB/+zpwzoxKQM3MzMzMeFJAZmZmZmZqWEAAAAAAAFxeQM3MzMzMJmJAmpmZmZkfZUBmZmZmZhhoQDMzMzMzEWtAAAAAAAAKbkBmZmZmZoFwQM3MzMzM/XFAMzMzMzN6c0CamZmZmfZ0QAAAAAAAc3ZAZmZmZmbvd0DNzMzMzGt5QDMzMzMz6HpAmpmZmZlkfEAAAAAAAOF9QGZmZmZmXX9AZmZmZuZsgECamZmZGSuBQM3MzMxM6YFAAAAAAICngkAzMzMzs2WDQGZmZmbmI4RAmpmZmRnihEDNzMzMTKCFQAAAAACAXoZAMzMzM7Mch0BmZmZm5tqHQJqZmZkZmYhAzczMzExXiUAAAAAAgBWKQDMzMzOz04pAZmZmZuaRi0CamZmZGVCMQM3MzMxMDo1AAAAAAIDMjUAzMzMzs4qOQGZmZmbmSI9A\",\"dtype\":\"float64\",\"shape\":[75]}},\"selected\":{\"id\":\"ea68f226-3925-4a28-a97d-f9903e6605b6\",\"type\":\"Selection\"},\"selection_policy\":{\"id\":\"6452e8eb-b691-4db4-9418-35a56d1a9d21\",\"type\":\"UnionRenderers\"}},\"id\":\"e4fdac24-e488-4459-8bf2-1fc231d19059\",\"type\":\"ColumnDataSource\"},{\"attributes\":{\"fill_alpha\":{\"value\":0.1},\"fill_color\":{\"value\":\"#1f77b4\"},\"line_alpha\":{\"value\":0.1},\"line_color\":{\"value\":\"#1f77b4\"},\"x\":{\"field\":\"x\"},\"y\":{\"field\":\"y\"}},\"id\":\"6ef515bf-ba5a-47f6-924d-7adcfe197bf1\",\"type\":\"Square\"},{\"attributes\":{\"data_source\":{\"id\":\"1510f2d4-d3c4-479c-8030-0bea4699d181\",\"type\":\"ColumnDataSource\"},\"glyph\":{\"id\":\"a7b20ab0-e449-4b69-93b3-ca86bab511c5\",\"type\":\"Triangle\"},\"hover_glyph\":null,\"muted_glyph\":null,\"nonselection_glyph\":{\"id\":\"edcdee26-c26e-4951-89a1-56daedf1c984\",\"type\":\"Triangle\"},\"selection_glyph\":null,\"view\":{\"id\":\"47c2bfad-e7d8-48e3-be5e-b4a0106e4b48\",\"type\":\"CDSView\"}},\"id\":\"614d9b46-248d-4096-a012-2cc9c66c42f2\",\"type\":\"GlyphRenderer\"},{\"attributes\":{\"dimension\":1,\"plot\":{\"id\":\"fbfbdd0c-78a2-4d47-969e-487cd2ddf722\",\"subtype\":\"Figure\",\"type\":\"Plot\"},\"ticker\":{\"id\":\"178d7080-b891-4a17-bb6b-dc89c80c326f\",\"type\":\"BasicTicker\"}},\"id\":\"ca7332e6-a83c-42d9-8936-065733d05ceb\",\"type\":\"Grid\"},{\"attributes\":{\"fill_alpha\":{\"value\":0.1},\"fill_color\":{\"value\":\"#1f77b4\"},\"line_alpha\":{\"value\":0.1},\"line_color\":{\"value\":\"#1f77b4\"},\"x\":{\"field\":\"x\"},\"y\":{\"field\":\"y\"}},\"id\":\"edcdee26-c26e-4951-89a1-56daedf1c984\",\"type\":\"Triangle\"},{\"attributes\":{\"line_alpha\":0.1,\"line_color\":\"#1f77b4\",\"line_width\":2,\"x\":{\"field\":\"x\"},\"y\":{\"field\":\"y\"}},\"id\":\"5a375f0a-dfaf-48b0-a33d-e41a56d7200c\",\"type\":\"Line\"},{\"attributes\":{},\"id\":\"b613334e-11e3-4c8f-9aa5-2679635a5312\",\"type\":\"PanTool\"},{\"attributes\":{\"callback\":null,\"data\":{\"x\":{\"__ndarray__\":\"ETE40S+6g74GH2K1xwGEvnCqcN1IFoS+9CfSPNFzhL5xPXgFD6+EvtUfc0BI7IS+KAMuskM/hb6E6Gv5sYGFvn8q634azYW+kJ9m0NAPhr7wkEGJnViGvg4iogzyn4a+neKhVJLmhr5oCIzmKzOHvoMkaRB4DIi+e3pvON8cir52jmCj9Q+MvtYwomhpgIu+e1gMblWehb5iEMLedBZmvknEPT6XOY0+0eixMGkYqD6Mhvsvl1e3PqsqjR/rj7g+0+OX/aBYrj6w7p0+G92bPqh008H+bns+zWW7sYaudb7oC1FkRmSIvu4vhL/EE5C+RgVoWZWekr6gTT/+Fp+UvtUiOKTYy5a+1hHSJoLXmb5tzHhjSyGevn+hl4iy/qG+wzzUbv6Dpb54aEuyhzepvgXyTKfw7qy+LfYBtL0Xsb7Nks5L7c29vvpjWeKqOda+1R5qydVD675oAyXWU2H8voj2Ok7FmQm/aQLBGTYuEb//3UF3FuETv4Oi+3mrZhS/NuMS5ezXEL/0p8RMB1j6vlm0es6Nhgs/sLxuY+O7Jz/0rNmSdYU4P/N+QcBsZUU/QmPMc8IYUT9Jhsw49dhZP4CBaV9czWI/tn0iXr3baz9+AckspSR0Pz+10pCeTnw/aSypsFxqgz8wveFkOQ6KP/R0ccUMJ5E/wG5DUiwzlj9tF9KVk0acPyXPcUWUvKE/HUawjVLrpT+5cy6zcqmqPw+cendA5q8/FEVhem/Ksj961+q819q1P9xn3G5eKbk/lJriFpi6vD+dkr3vKUrAP/CFbptOV8I/\",\"dtype\":\"float64\",\"shape\":[75]},\"y\":{\"__ndarray__\":\"GhExyth1ND/Sv8nbtpRIP2vylNV0PVE/aTum7souWD/At0SJ8fVgPw3Iuahxymc/MSNhhJWvcD/bTfBN02d3P2zb5nxnaoA/CD5h5MAGhz8NmeH1TyaQP+zrCsc9p5Y/LbKd76fGnz/bLW5ISEmmPww9YvTcQq8/JV2OstnstT8Er5Y7M8G+P0c+r3jqkcU/5h99k6ZBzj88bCIzFzjVP4enV8oyxN0//yH99nXg5D8qOpLLf0jtP5kqGJXUifQ/c9cS8kHP/D+/DpwzojQEQIEmwoanVwxA4lgXt9HgE0BSSZ2AJuIbQAMJih9jjiNA5q4l5INuK0AwTKYKRj0zQNv5fmq8/DpAaCJseHrtQkB/+zpwzoxKQM3MzMzMeFJAZmZmZmZqWEAAAAAAAFxeQM3MzMzMJmJAmpmZmZkfZUBmZmZmZhhoQDMzMzMzEWtAAAAAAAAKbkBmZmZmZoFwQM3MzMzM/XFAMzMzMzN6c0CamZmZmfZ0QAAAAAAAc3ZAZmZmZmbvd0DNzMzMzGt5QDMzMzMz6HpAmpmZmZlkfEAAAAAAAOF9QGZmZmZmXX9AZmZmZuZsgECamZmZGSuBQM3MzMxM6YFAAAAAAICngkAzMzMzs2WDQGZmZmbmI4RAmpmZmRnihEDNzMzMTKCFQAAAAACAXoZAMzMzM7Mch0BmZmZm5tqHQJqZmZkZmYhAzczMzExXiUAAAAAAgBWKQDMzMzOz04pAZmZmZuaRi0CamZmZGVCMQM3MzMxMDo1AAAAAAIDMjUAzMzMzs4qOQGZmZmbmSI9A\",\"dtype\":\"float64\",\"shape\":[75]}},\"selected\":{\"id\":\"48ec173e-f0ca-4e47-ae65-b2d697a47592\",\"type\":\"Selection\"},\"selection_policy\":{\"id\":\"d5ab0e58-4257-48ce-8187-4e2df72bb52c\",\"type\":\"UnionRenderers\"}},\"id\":\"1510f2d4-d3c4-479c-8030-0bea4699d181\",\"type\":\"ColumnDataSource\"},{\"attributes\":{\"overlay\":{\"id\":\"dd342808-6fe5-4522-a79b-6d4386611a81\",\"type\":\"BoxAnnotation\"}},\"id\":\"4f542fa7-bdde-488f-b4f1-16fda336600f\",\"type\":\"BoxZoomTool\"},{\"attributes\":{\"line_alpha\":0.1,\"line_color\":\"#1f77b4\",\"line_width\":3,\"x\":{\"field\":\"x\"},\"y\":{\"field\":\"y\"}},\"id\":\"d9d3ed62-f6e4-4865-82b6-7a96809754f5\",\"type\":\"Line\"},{\"attributes\":{},\"id\":\"fd45e7ad-1e99-4ee5-99c5-1b1b03f9625e\",\"type\":\"ResetTool\"},{\"attributes\":{\"source\":{\"id\":\"1510f2d4-d3c4-479c-8030-0bea4699d181\",\"type\":\"ColumnDataSource\"}},\"id\":\"47c2bfad-e7d8-48e3-be5e-b4a0106e4b48\",\"type\":\"CDSView\"},{\"attributes\":{\"data_source\":{\"id\":\"e4fdac24-e488-4459-8bf2-1fc231d19059\",\"type\":\"ColumnDataSource\"},\"glyph\":{\"id\":\"8affe1a5-959f-4291-9209-2fb03c99143e\",\"type\":\"Line\"},\"hover_glyph\":null,\"muted_glyph\":null,\"nonselection_glyph\":{\"id\":\"d9d3ed62-f6e4-4865-82b6-7a96809754f5\",\"type\":\"Line\"},\"selection_glyph\":null,\"view\":{\"id\":\"9aab674f-df11-42a1-86ad-060d2b18d006\",\"type\":\"CDSView\"}},\"id\":\"2c0f1061-06df-48d8-beaf-a592fc46f0dc\",\"type\":\"GlyphRenderer\"},{\"attributes\":{\"source\":{\"id\":\"e4fdac24-e488-4459-8bf2-1fc231d19059\",\"type\":\"ColumnDataSource\"}},\"id\":\"9aab674f-df11-42a1-86ad-060d2b18d006\",\"type\":\"CDSView\"},{\"attributes\":{\"data_source\":{\"id\":\"ae7b6835-f60c-419b-820a-f0567725461a\",\"type\":\"ColumnDataSource\"},\"glyph\":{\"id\":\"40d3e6d1-139b-47e3-aa89-5b7ff30f92dd\",\"type\":\"Square\"},\"hover_glyph\":null,\"muted_glyph\":null,\"nonselection_glyph\":{\"id\":\"6ef515bf-ba5a-47f6-924d-7adcfe197bf1\",\"type\":\"Square\"},\"selection_glyph\":null,\"view\":{\"id\":\"bddc528c-962c-45ae-aeb8-d299c8343011\",\"type\":\"CDSView\"}},\"id\":\"8e3d09f0-87ce-4521-9880-4ca2ef171cd4\",\"type\":\"GlyphRenderer\"},{\"attributes\":{\"plot\":{\"id\":\"da12f835-c5a3-4c85-b1d9-dc8be26dff3a\",\"subtype\":\"Figure\",\"type\":\"Plot\"},\"ticker\":{\"id\":\"1071c251-0ccd-4501-9212-fbae955e4500\",\"type\":\"BasicTicker\"}},\"id\":\"f00ae947-7bed-4181-aa01-420b47bd6db8\",\"type\":\"Grid\"},{\"attributes\":{\"above\":[{\"id\":\"dd7dee10-aed1-4cf9-97c4-7143198a7c32\",\"type\":\"Legend\"}],\"below\":[{\"id\":\"3e9a8be3-9994-4e11-b856-5ba32e86f701\",\"type\":\"LinearAxis\"}],\"left\":[{\"id\":\"68842c11-8870-4ccc-842e-f5d2b61b0dfb\",\"type\":\"LogAxis\"}],\"plot_height\":500,\"plot_width\":400,\"renderers\":[{\"id\":\"3e9a8be3-9994-4e11-b856-5ba32e86f701\",\"type\":\"LinearAxis\"},{\"id\":\"f00ae947-7bed-4181-aa01-420b47bd6db8\",\"type\":\"Grid\"},{\"id\":\"68842c11-8870-4ccc-842e-f5d2b61b0dfb\",\"type\":\"LogAxis\"},{\"id\":\"47726633-ac84-4955-a3ee-feb98f942ca0\",\"type\":\"Grid\"},{\"id\":\"9db8632f-7f85-4aab-98c6-7bfc874c75a4\",\"type\":\"BoxAnnotation\"},{\"id\":\"a3abc66d-93e0-4687-afd9-f9a2edfa13fd\",\"type\":\"GlyphRenderer\"},{\"id\":\"24108cff-0efd-482c-9fd4-83278a78ca78\",\"type\":\"GlyphRenderer\"},{\"id\":\"50fe016a-5443-4e92-9bff-93f73db5cd9b\",\"type\":\"GlyphRenderer\"},{\"id\":\"2ab871ae-0e04-4c45-a6f5-0a1e62decf07\",\"type\":\"GlyphRenderer\"},{\"id\":\"0a094485-af6f-480e-9971-6c03fd1ede53\",\"type\":\"GlyphRenderer\"},{\"id\":\"29799e6e-e398-4665-bcaf-f50408f5a0f6\",\"type\":\"GlyphRenderer\"},{\"id\":\"dd7dee10-aed1-4cf9-97c4-7143198a7c32\",\"type\":\"Legend\"}],\"title\":{\"id\":\"b07c1412-1c58-46c8-943b-336a745aeaea\",\"type\":\"Title\"},\"toolbar\":{\"id\":\"e37231f5-c8be-4835-a591-776f978f6bd1\",\"type\":\"Toolbar\"},\"toolbar_location\":null,\"x_range\":{\"id\":\"67b90fe4-256f-496f-9df3-dcfec475df58\",\"type\":\"Range1d\"},\"x_scale\":{\"id\":\"e2ee44db-bc0d-458d-842d-8e12b3ff435c\",\"type\":\"LinearScale\"},\"y_range\":{\"id\":\"ae68f073-8382-44a7-b3b9-1b51981ab2fe\",\"type\":\"Range1d\"},\"y_scale\":{\"id\":\"8db9d47c-6a46-4ef7-9cef-f8c59ccc8dbe\",\"type\":\"LogScale\"}},\"id\":\"da12f835-c5a3-4c85-b1d9-dc8be26dff3a\",\"subtype\":\"Figure\",\"type\":\"Plot\"},{\"attributes\":{\"source\":{\"id\":\"ae7b6835-f60c-419b-820a-f0567725461a\",\"type\":\"ColumnDataSource\"}},\"id\":\"bddc528c-962c-45ae-aeb8-d299c8343011\",\"type\":\"CDSView\"},{\"attributes\":{},\"id\":\"11ec7803-c5ec-48a5-b3c4-4e7f1db9313b\",\"type\":\"WheelZoomTool\"},{\"attributes\":{\"fill_alpha\":{\"value\":0.7},\"fill_color\":{\"value\":\"#984ea3\"},\"line_alpha\":{\"value\":0.7},\"line_color\":{\"value\":\"#984ea3\"},\"x\":{\"field\":\"x\"},\"y\":{\"field\":\"y\"}},\"id\":\"40d3e6d1-139b-47e3-aa89-5b7ff30f92dd\",\"type\":\"Square\"},{\"attributes\":{\"line_alpha\":0.3,\"line_color\":\"#377eb8\",\"line_width\":2,\"x\":{\"field\":\"x\"},\"y\":{\"field\":\"y\"}},\"id\":\"4e217428-4951-4b69-a4ac-caaaba29b7b3\",\"type\":\"Line\"},{\"attributes\":{\"source\":{\"id\":\"166c4939-d248-43ef-bf30-d6132afa99ec\",\"type\":\"ColumnDataSource\"}},\"id\":\"a5978e44-a8c1-4599-8868-3e318ba96d37\",\"type\":\"CDSView\"},{\"attributes\":{\"callback\":null,\"data\":{\"x\":{\"__ndarray__\":\"r2NFrnXwhL6HtfABYUGFvoBrp09dY4W+mbYCzuC8hb628KaTq/uFvpxQ/d+aSYa+4c+zTteShr6ngwC5r+OGvrJOJlNqLIe+U4qEyaN3h75u6wh91cCHvg+gWReVDIi+MpfQs7FXiL4j4IAlW6iIvrxZLm+7jIm+8iuK4H21i77zycIVArONvuZOBOYR9Yy+QYM9zAhyhr6JC+DIsJZjvu3b9TU/Y5A+XdkS4VBYqj7ThF1cSl25Pv01P2F6rro+gcMaZeWMsD6ZbJcTHr6ePuMs3qBECoA+fkS+NdEpdb6VJ/o4fE+JvhdigQB+4pC+aw4JWYGok74Yu3g09dWVvkSvk1VyLZi+6ZfdMrNum75SA9y/wgCgvvlPFYv3H6O+kxCHTg/fpr5+yyAFWc6qvrnBzYarwa6+1IpYs9oqsr5keXI+wqi/vjtQ4ahtlNe+Qfd/hd7g7L4cPTRhO/79vrRONKAR+Qq/pQUKAyoFEr+hK/LzSrMUv9KC3pFS9RS/p88zcLm5EL8GL3CljaD0vvcngnTubRE/1nej8/9BKz/YCNgYAX87PxsemEX+uUc/poL9JG3UUj/T8MrKf1xcP4U3bYMokWQ/vDcns9hmbj8KQoZJSfN1P7JWMbiN1n4/hQSeESv3hD+QPSJ2C/yLPz3tLTt9apI//beIq6evlz8yxEdKzheeP+ceOIWaw6I/9cE37y0cpz/D/ITPsPqrPwfOnYl+p7A/Fgn54oOFsz+S7TojY5i2Pyy/qZvN27k/1rD4sItgvT85A8h1+JDAP8A0NZ5CjcI/\",\"dtype\":\"float64\",\"shape\":[75]},\"y\":{\"__ndarray__\":\"GhExyth1ND/Sv8nbtpRIP2vylNV0PVE/aTum7souWD/At0SJ8fVgPw3Iuahxymc/MSNhhJWvcD/bTfBN02d3P2zb5nxnaoA/CD5h5MAGhz8NmeH1TyaQP+zrCsc9p5Y/LbKd76fGnz/bLW5ISEmmPww9YvTcQq8/JV2OstnstT8Er5Y7M8G+P0c+r3jqkcU/5h99k6ZBzj88bCIzFzjVP4enV8oyxN0//yH99nXg5D8qOpLLf0jtP5kqGJXUifQ/c9cS8kHP/D+/DpwzojQEQIEmwoanVwxA4lgXt9HgE0BSSZ2AJuIbQAMJih9jjiNA5q4l5INuK0AwTKYKRj0zQNv5fmq8/DpAaCJseHrtQkB/+zpwzoxKQM3MzMzMeFJAZmZmZmZqWEAAAAAAAFxeQM3MzMzMJmJAmpmZmZkfZUBmZmZmZhhoQDMzMzMzEWtAAAAAAAAKbkBmZmZmZoFwQM3MzMzM/XFAMzMzMzN6c0CamZmZmfZ0QAAAAAAAc3ZAZmZmZmbvd0DNzMzMzGt5QDMzMzMz6HpAmpmZmZlkfEAAAAAAAOF9QGZmZmZmXX9AZmZmZuZsgECamZmZGSuBQM3MzMxM6YFAAAAAAICngkAzMzMzs2WDQGZmZmbmI4RAmpmZmRnihEDNzMzMTKCFQAAAAACAXoZAMzMzM7Mch0BmZmZm5tqHQJqZmZkZmYhAzczMzExXiUAAAAAAgBWKQDMzMzOz04pAZmZmZuaRi0CamZmZGVCMQM3MzMxMDo1AAAAAAIDMjUAzMzMzs4qOQGZmZmbmSI9A\",\"dtype\":\"float64\",\"shape\":[75]}},\"selected\":{\"id\":\"f1b932fe-0c1b-4efc-9422-9afb648700b2\",\"type\":\"Selection\"},\"selection_policy\":{\"id\":\"ed051426-f5e5-4ca0-b2d7-7e0e34fe55da\",\"type\":\"UnionRenderers\"}},\"id\":\"ae7b6835-f60c-419b-820a-f0567725461a\",\"type\":\"ColumnDataSource\"},{\"attributes\":{},\"id\":\"178d7080-b891-4a17-bb6b-dc89c80c326f\",\"type\":\"BasicTicker\"},{\"attributes\":{\"callback\":null,\"data\":{\"x\":{\"__ndarray__\":\"ETE40S+6g74GH2K1xwGEvnCqcN1IFoS+9CfSPNFzhL5xPXgFD6+EvtUfc0BI7IS+KAMuskM/hb6E6Gv5sYGFvn8q634azYW+kJ9m0NAPhr7wkEGJnViGvg4iogzyn4a+neKhVJLmhr5oCIzmKzOHvoMkaRB4DIi+e3pvON8cir52jmCj9Q+MvtYwomhpgIu+e1gMblWehb5iEMLedBZmvknEPT6XOY0+0eixMGkYqD6Mhvsvl1e3PqsqjR/rj7g+0+OX/aBYrj6w7p0+G92bPqh008H+bns+zWW7sYaudb7oC1FkRmSIvu4vhL/EE5C+RgVoWZWekr6gTT/+Fp+UvtUiOKTYy5a+1hHSJoLXmb5tzHhjSyGevn+hl4iy/qG+wzzUbv6Dpb54aEuyhzepvgXyTKfw7qy+LfYBtL0Xsb7Nks5L7c29vvpjWeKqOda+1R5qydVD675oAyXWU2H8voj2Ok7FmQm/aQLBGTYuEb//3UF3FuETv4Oi+3mrZhS/NuMS5ezXEL/0p8RMB1j6vlm0es6Nhgs/sLxuY+O7Jz/0rNmSdYU4P/N+QcBsZUU/QmPMc8IYUT9Jhsw49dhZP4CBaV9czWI/tn0iXr3baz9+AckspSR0Pz+10pCeTnw/aSypsFxqgz8wveFkOQ6KP/R0ccUMJ5E/wG5DUiwzlj9tF9KVk0acPyXPcUWUvKE/HUawjVLrpT+5cy6zcqmqPw+cendA5q8/FEVhem/Ksj961+q819q1P9xn3G5eKbk/lJriFpi6vD+dkr3vKUrAP/CFbptOV8I/\",\"dtype\":\"float64\",\"shape\":[75]},\"y\":{\"__ndarray__\":\"GhExyth1ND/Sv8nbtpRIP2vylNV0PVE/aTum7souWD/At0SJ8fVgPw3Iuahxymc/MSNhhJWvcD/bTfBN02d3P2zb5nxnaoA/CD5h5MAGhz8NmeH1TyaQP+zrCsc9p5Y/LbKd76fGnz/bLW5ISEmmPww9YvTcQq8/JV2OstnstT8Er5Y7M8G+P0c+r3jqkcU/5h99k6ZBzj88bCIzFzjVP4enV8oyxN0//yH99nXg5D8qOpLLf0jtP5kqGJXUifQ/c9cS8kHP/D+/DpwzojQEQIEmwoanVwxA4lgXt9HgE0BSSZ2AJuIbQAMJih9jjiNA5q4l5INuK0AwTKYKRj0zQNv5fmq8/DpAaCJseHrtQkB/+zpwzoxKQM3MzMzMeFJAZmZmZmZqWEAAAAAAAFxeQM3MzMzMJmJAmpmZmZkfZUBmZmZmZhhoQDMzMzMzEWtAAAAAAAAKbkBmZmZmZoFwQM3MzMzM/XFAMzMzMzN6c0CamZmZmfZ0QAAAAAAAc3ZAZmZmZmbvd0DNzMzMzGt5QDMzMzMz6HpAmpmZmZlkfEAAAAAAAOF9QGZmZmZmXX9AZmZmZuZsgECamZmZGSuBQM3MzMxM6YFAAAAAAICngkAzMzMzs2WDQGZmZmbmI4RAmpmZmRnihEDNzMzMTKCFQAAAAACAXoZAMzMzM7Mch0BmZmZm5tqHQJqZmZkZmYhAzczMzExXiUAAAAAAgBWKQDMzMzOz04pAZmZmZuaRi0CamZmZGVCMQM3MzMxMDo1AAAAAAIDMjUAzMzMzs4qOQGZmZmbmSI9A\",\"dtype\":\"float64\",\"shape\":[75]}},\"selected\":{\"id\":\"b81db678-9c32-40d2-96bd-014fa5628995\",\"type\":\"Selection\"},\"selection_policy\":{\"id\":\"46ce6317-7954-42a8-b216-de1103debbd5\",\"type\":\"UnionRenderers\"}},\"id\":\"166c4939-d248-43ef-bf30-d6132afa99ec\",\"type\":\"ColumnDataSource\"},{\"attributes\":{\"fill_alpha\":{\"value\":0.7},\"fill_color\":{\"value\":\"#377eb8\"},\"line_alpha\":{\"value\":0.7},\"line_color\":{\"value\":\"#377eb8\"},\"x\":{\"field\":\"x\"},\"y\":{\"field\":\"y\"}},\"id\":\"a7b20ab0-e449-4b69-93b3-ca86bab511c5\",\"type\":\"Triangle\"},{\"attributes\":{},\"id\":\"1a69fd39-e5f3-4a5b-821a-481e2db4a2b7\",\"type\":\"SaveTool\"},{\"attributes\":{\"line_alpha\":0.6,\"line_color\":\"#984ea3\",\"line_width\":3,\"x\":{\"field\":\"x\"},\"y\":{\"field\":\"y\"}},\"id\":\"8affe1a5-959f-4291-9209-2fb03c99143e\",\"type\":\"Line\"},{\"attributes\":{\"data_source\":{\"id\":\"166c4939-d248-43ef-bf30-d6132afa99ec\",\"type\":\"ColumnDataSource\"},\"glyph\":{\"id\":\"4e217428-4951-4b69-a4ac-caaaba29b7b3\",\"type\":\"Line\"},\"hover_glyph\":null,\"muted_glyph\":null,\"nonselection_glyph\":{\"id\":\"5a375f0a-dfaf-48b0-a33d-e41a56d7200c\",\"type\":\"Line\"},\"selection_glyph\":null,\"view\":{\"id\":\"a5978e44-a8c1-4599-8868-3e318ba96d37\",\"type\":\"CDSView\"}},\"id\":\"f3b82aff-e517-49d6-88f0-c1b3998c7914\",\"type\":\"GlyphRenderer\"},{\"attributes\":{\"axis_label\":\"pressure [mb]\",\"formatter\":{\"id\":\"cc07082f-9ac3-4ade-9232-4346527410a8\",\"type\":\"LogTickFormatter\"},\"plot\":{\"id\":\"da12f835-c5a3-4c85-b1d9-dc8be26dff3a\",\"subtype\":\"Figure\",\"type\":\"Plot\"},\"ticker\":{\"id\":\"e24429ee-7e7d-4e39-9310-c3551e114cef\",\"type\":\"LogTicker\"}},\"id\":\"68842c11-8870-4ccc-842e-f5d2b61b0dfb\",\"type\":\"LogAxis\"},{\"attributes\":{\"active_drag\":\"auto\",\"active_inspect\":\"auto\",\"active_scroll\":\"auto\",\"active_tap\":\"auto\",\"tools\":[{\"id\":\"2be88412-d33e-4963-8e96-2c43081b3c82\",\"type\":\"PanTool\"},{\"id\":\"9fa032b8-d1ae-41b5-aa99-ce1cbecf5a8c\",\"type\":\"WheelZoomTool\"},{\"id\":\"ad7a74b1-bb5e-4220-88fb-d25652fa7337\",\"type\":\"BoxZoomTool\"},{\"id\":\"1f96ba31-665f-4159-90e4-b852c940f8a8\",\"type\":\"SaveTool\"},{\"id\":\"79cd1d26-327b-4398-9281-55eed3ba7095\",\"type\":\"ResetTool\"},{\"id\":\"368e2f66-35ac-4745-9732-48c33e9b3062\",\"type\":\"HelpTool\"}]},\"id\":\"e37231f5-c8be-4835-a591-776f978f6bd1\",\"type\":\"Toolbar\"},{\"attributes\":{\"label\":{\"value\":\"CRD\"},\"renderers\":[{\"id\":\"3f9c2bb0-655a-46ee-a81c-e24c1f839f92\",\"type\":\"GlyphRenderer\"},{\"id\":\"8311ed56-8329-48a1-9b18-ca132fdbc14f\",\"type\":\"GlyphRenderer\"}]},\"id\":\"53df1482-ffbc-4067-bbfd-77eb576e5a32\",\"type\":\"LegendItem\"},{\"attributes\":{\"callback\":null,\"end\":2.0204664170000004e-06,\"start\":-2.041664917e-06},\"id\":\"67b90fe4-256f-496f-9df3-dcfec475df58\",\"type\":\"Range1d\"},{\"attributes\":{\"label\":{\"value\":\"WGT igg=1\"},\"renderers\":[{\"id\":\"8e3d09f0-87ce-4521-9880-4ca2ef171cd4\",\"type\":\"GlyphRenderer\"},{\"id\":\"2c0f1061-06df-48d8-beaf-a592fc46f0dc\",\"type\":\"GlyphRenderer\"}]},\"id\":\"639b8f4b-5580-437c-a816-2f2ea50b0e12\",\"type\":\"LegendItem\"},{\"attributes\":{},\"id\":\"e2ee44db-bc0d-458d-842d-8e12b3ff435c\",\"type\":\"LinearScale\"},{\"attributes\":{\"label\":{\"value\":\"WGT igg=10\"},\"renderers\":[{\"id\":\"614d9b46-248d-4096-a012-2cc9c66c42f2\",\"type\":\"GlyphRenderer\"},{\"id\":\"f3b82aff-e517-49d6-88f0-c1b3998c7914\",\"type\":\"GlyphRenderer\"}]},\"id\":\"5a2ebbf7-67ac-41c7-b628-fbe176072b1f\",\"type\":\"LegendItem\"},{\"attributes\":{\"bottom_units\":\"screen\",\"fill_alpha\":{\"value\":0.5},\"fill_color\":{\"value\":\"lightgrey\"},\"left_units\":\"screen\",\"level\":\"overlay\",\"line_alpha\":{\"value\":1.0},\"line_color\":{\"value\":\"black\"},\"line_dash\":[4,4],\"line_width\":{\"value\":2},\"plot\":null,\"render_mode\":\"css\",\"right_units\":\"screen\",\"top_units\":\"screen\"},\"id\":\"9db8632f-7f85-4aab-98c6-7bfc874c75a4\",\"type\":\"BoxAnnotation\"},{\"attributes\":{\"items\":[{\"id\":\"6ad0b910-bf4b-4a11-9fa1-474f77ea19ae\",\"type\":\"LegendItem\"},{\"id\":\"236d2bf5-5ed3-42b9-81af-32c568289567\",\"type\":\"LegendItem\"},{\"id\":\"c259ef2d-2eab-4369-8a65-f1d9a3bc3aed\",\"type\":\"LegendItem\"}],\"label_text_font_size\":{\"value\":\"8pt\"},\"location\":\"top_center\",\"orientation\":\"horizontal\",\"plot\":{\"id\":\"da12f835-c5a3-4c85-b1d9-dc8be26dff3a\",\"subtype\":\"Figure\",\"type\":\"Plot\"}},\"id\":\"dd7dee10-aed1-4cf9-97c4-7143198a7c32\",\"type\":\"Legend\"},{\"attributes\":{},\"id\":\"9fa032b8-d1ae-41b5-aa99-ce1cbecf5a8c\",\"type\":\"WheelZoomTool\"},{\"attributes\":{},\"id\":\"8db9d47c-6a46-4ef7-9cef-f8c59ccc8dbe\",\"type\":\"LogScale\"},{\"attributes\":{\"axis_label\":\"cooling rate [K/day]\",\"formatter\":{\"id\":\"2477a73f-8963-4e8f-9f75-ae45ed8c9c83\",\"type\":\"BasicTickFormatter\"},\"plot\":{\"id\":\"da12f835-c5a3-4c85-b1d9-dc8be26dff3a\",\"subtype\":\"Figure\",\"type\":\"Plot\"},\"ticker\":{\"id\":\"1071c251-0ccd-4501-9212-fbae955e4500\",\"type\":\"BasicTicker\"}},\"id\":\"3e9a8be3-9994-4e11-b856-5ba32e86f701\",\"type\":\"LinearAxis\"},{\"attributes\":{},\"id\":\"1071c251-0ccd-4501-9212-fbae955e4500\",\"type\":\"BasicTicker\"},{\"attributes\":{\"overlay\":{\"id\":\"9db8632f-7f85-4aab-98c6-7bfc874c75a4\",\"type\":\"BoxAnnotation\"}},\"id\":\"ad7a74b1-bb5e-4220-88fb-d25652fa7337\",\"type\":\"BoxZoomTool\"},{\"attributes\":{},\"id\":\"1f96ba31-665f-4159-90e4-b852c940f8a8\",\"type\":\"SaveTool\"},{\"attributes\":{},\"id\":\"79cd1d26-327b-4398-9281-55eed3ba7095\",\"type\":\"ResetTool\"},{\"attributes\":{},\"id\":\"368e2f66-35ac-4745-9732-48c33e9b3062\",\"type\":\"HelpTool\"},{\"attributes\":{},\"id\":\"48ec173e-f0ca-4e47-ae65-b2d697a47592\",\"type\":\"Selection\"},{\"attributes\":{\"fill_alpha\":{\"value\":0.7},\"fill_color\":{\"value\":\"#4daf4a\"},\"line_alpha\":{\"value\":0.7},\"line_color\":{\"value\":\"#4daf4a\"},\"x\":{\"field\":\"x\"},\"y\":{\"field\":\"y\"}},\"id\":\"6fa18be4-6e12-4329-8482-435a00653d09\",\"type\":\"Circle\"},{\"attributes\":{\"callback\":null,\"data\":{\"x\":{\"__ndarray__\":\"dhSkSyT4h76jI43Wco2IvgsLlhNcvoi+Rp9uyHa/iL41pI8cmHaJvoKoTNf6j4m+E0PVMtUUir4jKc6JqF+KvplsdFgGk4q+kjdeF2P9ir632ayf8EaLvh++CceBmou+z5A63oj5i77w14j7WUqMvhAIn+xaSI2+dQTNse+dj74nupQsLMaQvtEI1Y6GBpC+4KqHoQBnh75lF7EwjbFDvqzMGHWHtpY+wA3NKebMsD6R/0ph7KS/Pk63HTxlncA+k/oBOv7ktD6GDi2mnyakPmLxh0zi9Yg+nV/BCqPebr7+xWe+ocOJviKrQAF1/pG+B6oAW8k7lb5plOHC+aGXvs/sUb3+Epq+iBHI+Bpunb45eZbkmBWhvv0qYywmV6S+X0RU4DZHqL5/Y5fVum+svkpwnmFrT7C+WG5CNURFs76RUsM768rAvni88V+M+di+rjaWcT1z7r6+l2o5Y17/vteVSRRz1Qu/9tYF0l8wEr9L1eOMAxkUv8v7amxFyBK/w4G9CcN3B7+soD4ZJOHxPpY5iY96HCE/YXx/Cj9SND/5K822psNCP8iJzL3W8E4/rE2E0jXhVz9zxMaq9JthP8HJhpLhIWk/E6/iOF9Rcj+9+GiS1Bl6P1Y6Fpr2FII/vlI4sIx1iD+Y0PcvHS6QP3wwqr5T/pQ/EUPYFLvCmj+Qjn1ZcsagP+TH/eZ8s6Q/pij68OokqT8jH7zC9wiuP4ZIJfPKoLE/t5uo8UdbtD9zw08ZiDC3P8MRYjYaI7o/OqPWyVM1vT+oVZFdqzXAP+kcj1vE3sE/\",\"dtype\":\"float64\",\"shape\":[75]},\"y\":{\"__ndarray__\":\"GhExyth1ND/Sv8nbtpRIP2vylNV0PVE/aTum7souWD/At0SJ8fVgPw3Iuahxymc/MSNhhJWvcD/bTfBN02d3P2zb5nxnaoA/CD5h5MAGhz8NmeH1TyaQP+zrCsc9p5Y/LbKd76fGnz/bLW5ISEmmPww9YvTcQq8/JV2OstnstT8Er5Y7M8G+P0c+r3jqkcU/5h99k6ZBzj88bCIzFzjVP4enV8oyxN0//yH99nXg5D8qOpLLf0jtP5kqGJXUifQ/c9cS8kHP/D+/DpwzojQEQIEmwoanVwxA4lgXt9HgE0BSSZ2AJuIbQAMJih9jjiNA5q4l5INuK0AwTKYKRj0zQNv5fmq8/DpAaCJseHrtQkB/+zpwzoxKQM3MzMzMeFJAZmZmZmZqWEAAAAAAAFxeQM3MzMzMJmJAmpmZmZkfZUBmZmZmZhhoQDMzMzMzEWtAAAAAAAAKbkBmZmZmZoFwQM3MzMzM/XFAMzMzMzN6c0CamZmZmfZ0QAAAAAAAc3ZAZmZmZmbvd0DNzMzMzGt5QDMzMzMz6HpAmpmZmZlkfEAAAAAAAOF9QGZmZmZmXX9AZmZmZuZsgECamZmZGSuBQM3MzMxM6YFAAAAAAICngkAzMzMzs2WDQGZmZmbmI4RAmpmZmRnihEDNzMzMTKCFQAAAAACAXoZAMzMzM7Mch0BmZmZm5tqHQJqZmZkZmYhAzczMzExXiUAAAAAAgBWKQDMzMzOz04pAZmZmZuaRi0CamZmZGVCMQM3MzMxMDo1AAAAAAIDMjUAzMzMzs4qOQGZmZmbmSI9A\",\"dtype\":\"float64\",\"shape\":[75]}},\"selected\":{\"id\":\"6a69067a-9317-4d38-8d4f-c32e6edff5b9\",\"type\":\"Selection\"},\"selection_policy\":{\"id\":\"9be6904b-2626-4e02-994b-f628b7077c66\",\"type\":\"UnionRenderers\"}},\"id\":\"9d921557-7227-4017-a59c-021f19ebab37\",\"type\":\"ColumnDataSource\"},{\"attributes\":{\"fill_alpha\":{\"value\":0.1},\"fill_color\":{\"value\":\"#1f77b4\"},\"line_alpha\":{\"value\":0.1},\"line_color\":{\"value\":\"#1f77b4\"},\"x\":{\"field\":\"x\"},\"y\":{\"field\":\"y\"}},\"id\":\"683c9d64-743a-491a-90a3-36b3cf020c1c\",\"type\":\"Circle\"},{\"attributes\":{},\"id\":\"ea68f226-3925-4a28-a97d-f9903e6605b6\",\"type\":\"Selection\"},{\"attributes\":{\"callback\":null,\"end\":0.01,\"start\":1020},\"id\":\"ae68f073-8382-44a7-b3b9-1b51981ab2fe\",\"type\":\"Range1d\"},{\"attributes\":{\"data_source\":{\"id\":\"9d921557-7227-4017-a59c-021f19ebab37\",\"type\":\"ColumnDataSource\"},\"glyph\":{\"id\":\"6fa18be4-6e12-4329-8482-435a00653d09\",\"type\":\"Circle\"},\"hover_glyph\":null,\"muted_glyph\":null,\"nonselection_glyph\":{\"id\":\"683c9d64-743a-491a-90a3-36b3cf020c1c\",\"type\":\"Circle\"},\"selection_glyph\":null,\"view\":{\"id\":\"d8ce99b7-d1f7-4fb6-a3d7-dbf9a5b8cc1d\",\"type\":\"CDSView\"}},\"id\":\"a3abc66d-93e0-4687-afd9-f9a2edfa13fd\",\"type\":\"GlyphRenderer\"},{\"attributes\":{\"bottom_units\":\"screen\",\"fill_alpha\":{\"value\":0.5},\"fill_color\":{\"value\":\"lightgrey\"},\"left_units\":\"screen\",\"level\":\"overlay\",\"line_alpha\":{\"value\":1.0},\"line_color\":{\"value\":\"black\"},\"line_dash\":[4,4],\"line_width\":{\"value\":2},\"plot\":null,\"render_mode\":\"css\",\"right_units\":\"screen\",\"top_units\":\"screen\"},\"id\":\"dd342808-6fe5-4522-a79b-6d4386611a81\",\"type\":\"BoxAnnotation\"},{\"attributes\":{},\"id\":\"ed051426-f5e5-4ca0-b2d7-7e0e34fe55da\",\"type\":\"UnionRenderers\"},{\"attributes\":{\"data_source\":{\"id\":\"e4cd6f35-7ea4-4e5c-983f-b90fdfafe5e1\",\"type\":\"ColumnDataSource\"},\"glyph\":{\"id\":\"a9609612-a2bc-4601-8999-5d76f8787c8e\",\"type\":\"Circle\"},\"hover_glyph\":null,\"muted_glyph\":null,\"nonselection_glyph\":{\"id\":\"b12649ea-5f0b-4239-ab27-b38c924772e2\",\"type\":\"Circle\"},\"selection_glyph\":null,\"view\":{\"id\":\"f2855580-2357-4abb-b5a5-9f2cc2be6d4c\",\"type\":\"CDSView\"}},\"id\":\"3f9c2bb0-655a-46ee-a81c-e24c1f839f92\",\"type\":\"GlyphRenderer\"},{\"attributes\":{\"source\":{\"id\":\"e4cd6f35-7ea4-4e5c-983f-b90fdfafe5e1\",\"type\":\"ColumnDataSource\"}},\"id\":\"f2855580-2357-4abb-b5a5-9f2cc2be6d4c\",\"type\":\"CDSView\"},{\"attributes\":{\"dimension\":1,\"plot\":{\"id\":\"da12f835-c5a3-4c85-b1d9-dc8be26dff3a\",\"subtype\":\"Figure\",\"type\":\"Plot\"},\"ticker\":{\"id\":\"e24429ee-7e7d-4e39-9310-c3551e114cef\",\"type\":\"LogTicker\"}},\"id\":\"47726633-ac84-4955-a3ee-feb98f942ca0\",\"type\":\"Grid\"},{\"attributes\":{\"fill_alpha\":{\"value\":0.1},\"fill_color\":{\"value\":\"#1f77b4\"},\"line_alpha\":{\"value\":0.1},\"line_color\":{\"value\":\"#1f77b4\"},\"x\":{\"field\":\"x\"},\"y\":{\"field\":\"y\"}},\"id\":\"b12649ea-5f0b-4239-ab27-b38c924772e2\",\"type\":\"Circle\"},{\"attributes\":{\"line_color\":\"#4daf4a\",\"line_width\":1.5,\"x\":{\"field\":\"x\"},\"y\":{\"field\":\"y\"}},\"id\":\"e90ea20e-019c-4976-b80a-a5cac798f818\",\"type\":\"Line\"},{\"attributes\":{\"num_minor_ticks\":10},\"id\":\"e24429ee-7e7d-4e39-9310-c3551e114cef\",\"type\":\"LogTicker\"},{\"attributes\":{\"data_source\":{\"id\":\"6c537933-00c8-44f9-92bc-6d4b7536ce0c\",\"type\":\"ColumnDataSource\"},\"glyph\":{\"id\":\"e90ea20e-019c-4976-b80a-a5cac798f818\",\"type\":\"Line\"},\"hover_glyph\":null,\"muted_glyph\":null,\"nonselection_glyph\":{\"id\":\"c43ff82d-92dc-474a-82ac-32a25ba54c37\",\"type\":\"Line\"},\"selection_glyph\":null,\"view\":{\"id\":\"53fcfc57-2fb2-4a27-bb0f-c93e138076c2\",\"type\":\"CDSView\"}},\"id\":\"8311ed56-8329-48a1-9b18-ca132fdbc14f\",\"type\":\"GlyphRenderer\"},{\"attributes\":{\"line_alpha\":0.1,\"line_color\":\"#1f77b4\",\"line_width\":1.5,\"x\":{\"field\":\"x\"},\"y\":{\"field\":\"y\"}},\"id\":\"c43ff82d-92dc-474a-82ac-32a25ba54c37\",\"type\":\"Line\"},{\"attributes\":{\"fill_alpha\":{\"value\":0.7},\"fill_color\":{\"value\":\"#4daf4a\"},\"line_alpha\":{\"value\":0.7},\"line_color\":{\"value\":\"#4daf4a\"},\"x\":{\"field\":\"x\"},\"y\":{\"field\":\"y\"}},\"id\":\"a9609612-a2bc-4601-8999-5d76f8787c8e\",\"type\":\"Circle\"},{\"attributes\":{\"source\":{\"id\":\"6c537933-00c8-44f9-92bc-6d4b7536ce0c\",\"type\":\"ColumnDataSource\"}},\"id\":\"53fcfc57-2fb2-4a27-bb0f-c93e138076c2\",\"type\":\"CDSView\"},{\"attributes\":{\"callback\":null,\"data\":{\"x\":{\"__ndarray__\":\"dhSkSyT4h76jI43Wco2IvgsLlhNcvoi+Rp9uyHa/iL41pI8cmHaJvoKoTNf6j4m+E0PVMtUUir4jKc6JqF+KvplsdFgGk4q+kjdeF2P9ir632ayf8EaLvh++CceBmou+z5A63oj5i77w14j7WUqMvhAIn+xaSI2+dQTNse+dj74nupQsLMaQvtEI1Y6GBpC+4KqHoQBnh75lF7EwjbFDvqzMGHWHtpY+wA3NKebMsD6R/0ph7KS/Pk63HTxlncA+k/oBOv7ktD6GDi2mnyakPmLxh0zi9Yg+nV/BCqPebr7+xWe+ocOJviKrQAF1/pG+B6oAW8k7lb5plOHC+aGXvs/sUb3+Epq+iBHI+Bpunb45eZbkmBWhvv0qYywmV6S+X0RU4DZHqL5/Y5fVum+svkpwnmFrT7C+WG5CNURFs76RUsM768rAvni88V+M+di+rjaWcT1z7r6+l2o5Y17/vteVSRRz1Qu/9tYF0l8wEr9L1eOMAxkUv8v7amxFyBK/w4G9CcN3B7+soD4ZJOHxPpY5iY96HCE/YXx/Cj9SND/5K822psNCP8iJzL3W8E4/rE2E0jXhVz9zxMaq9JthP8HJhpLhIWk/E6/iOF9Rcj+9+GiS1Bl6P1Y6Fpr2FII/vlI4sIx1iD+Y0PcvHS6QP3wwqr5T/pQ/EUPYFLvCmj+Qjn1ZcsagP+TH/eZ8s6Q/pij68OokqT8jH7zC9wiuP4ZIJfPKoLE/t5uo8UdbtD9zw08ZiDC3P8MRYjYaI7o/OqPWyVM1vT+oVZFdqzXAP+kcj1vE3sE/\",\"dtype\":\"float64\",\"shape\":[75]},\"y\":{\"__ndarray__\":\"GhExyth1ND/Sv8nbtpRIP2vylNV0PVE/aTum7souWD/At0SJ8fVgPw3Iuahxymc/MSNhhJWvcD/bTfBN02d3P2zb5nxnaoA/CD5h5MAGhz8NmeH1TyaQP+zrCsc9p5Y/LbKd76fGnz/bLW5ISEmmPww9YvTcQq8/JV2OstnstT8Er5Y7M8G+P0c+r3jqkcU/5h99k6ZBzj88bCIzFzjVP4enV8oyxN0//yH99nXg5D8qOpLLf0jtP5kqGJXUifQ/c9cS8kHP/D+/DpwzojQEQIEmwoanVwxA4lgXt9HgE0BSSZ2AJuIbQAMJih9jjiNA5q4l5INuK0AwTKYKRj0zQNv5fmq8/DpAaCJseHrtQkB/+zpwzoxKQM3MzMzMeFJAZmZmZmZqWEAAAAAAAFxeQM3MzMzMJmJAmpmZmZkfZUBmZmZmZhhoQDMzMzMzEWtAAAAAAAAKbkBmZmZmZoFwQM3MzMzM/XFAMzMzMzN6c0CamZmZmfZ0QAAAAAAAc3ZAZmZmZmbvd0DNzMzMzGt5QDMzMzMz6HpAmpmZmZlkfEAAAAAAAOF9QGZmZmZmXX9AZmZmZuZsgECamZmZGSuBQM3MzMxM6YFAAAAAAICngkAzMzMzs2WDQGZmZmbmI4RAmpmZmRnihEDNzMzMTKCFQAAAAACAXoZAMzMzM7Mch0BmZmZm5tqHQJqZmZkZmYhAzczMzExXiUAAAAAAgBWKQDMzMzOz04pAZmZmZuaRi0CamZmZGVCMQM3MzMxMDo1AAAAAAIDMjUAzMzMzs4qOQGZmZmbmSI9A\",\"dtype\":\"float64\",\"shape\":[75]}},\"selected\":{\"id\":\"75310a28-cdb6-4624-b5d2-06bac0562074\",\"type\":\"Selection\"},\"selection_policy\":{\"id\":\"6782d0ad-481d-40bc-a601-82443bc90070\",\"type\":\"UnionRenderers\"}},\"id\":\"6c537933-00c8-44f9-92bc-6d4b7536ce0c\",\"type\":\"ColumnDataSource\"},{\"attributes\":{\"axis_label\":\"cooling rate [K/day]\",\"formatter\":{\"id\":\"2ffd6fb2-dcc5-4203-bfe2-2fbbf726471d\",\"type\":\"BasicTickFormatter\"},\"plot\":{\"id\":\"fbfbdd0c-78a2-4d47-969e-487cd2ddf722\",\"subtype\":\"Figure\",\"type\":\"Plot\"},\"ticker\":{\"id\":\"e5c1ef00-049d-4473-9fe9-4170678c95ed\",\"type\":\"BasicTicker\"}},\"id\":\"127169fb-ea6d-4067-bb35-7d5de61a9ea5\",\"type\":\"LinearAxis\"},{\"attributes\":{},\"id\":\"6782d0ad-481d-40bc-a601-82443bc90070\",\"type\":\"UnionRenderers\"},{\"attributes\":{},\"id\":\"2477a73f-8963-4e8f-9f75-ae45ed8c9c83\",\"type\":\"BasicTickFormatter\"},{\"attributes\":{},\"id\":\"75310a28-cdb6-4624-b5d2-06bac0562074\",\"type\":\"Selection\"},{\"attributes\":{},\"id\":\"b81db678-9c32-40d2-96bd-014fa5628995\",\"type\":\"Selection\"},{\"attributes\":{},\"id\":\"6a69067a-9317-4d38-8d4f-c32e6edff5b9\",\"type\":\"Selection\"},{\"attributes\":{\"line_color\":\"#4daf4a\",\"line_width\":1.5,\"x\":{\"field\":\"x\"},\"y\":{\"field\":\"y\"}},\"id\":\"69a288fa-345a-444c-9015-445f40de684b\",\"type\":\"Line\"},{\"attributes\":{},\"id\":\"46ce6317-7954-42a8-b216-de1103debbd5\",\"type\":\"UnionRenderers\"},{\"attributes\":{\"ticker\":null},\"id\":\"cc07082f-9ac3-4ade-9232-4346527410a8\",\"type\":\"LogTickFormatter\"},{\"attributes\":{\"callback\":null,\"data\":{\"x\":{\"__ndarray__\":\"r2NFrnXwhL6HtfABYUGFvoBrp09dY4W+mbYCzuC8hb628KaTq/uFvpxQ/d+aSYa+4c+zTteShr6ngwC5r+OGvrJOJlNqLIe+U4qEyaN3h75u6wh91cCHvg+gWReVDIi+MpfQs7FXiL4j4IAlW6iIvrxZLm+7jIm+8iuK4H21i77zycIVArONvuZOBOYR9Yy+QYM9zAhyhr6JC+DIsJZjvu3b9TU/Y5A+XdkS4VBYqj7ThF1cSl25Pv01P2F6rro+gcMaZeWMsD6ZbJcTHr6ePuMs3qBECoA+fkS+NdEpdb6VJ/o4fE+JvhdigQB+4pC+aw4JWYGok74Yu3g09dWVvkSvk1VyLZi+6ZfdMrNum75SA9y/wgCgvvlPFYv3H6O+kxCHTg/fpr5+yyAFWc6qvrnBzYarwa6+1IpYs9oqsr5keXI+wqi/vjtQ4ahtlNe+Qfd/hd7g7L4cPTRhO/79vrRONKAR+Qq/pQUKAyoFEr+hK/LzSrMUv9KC3pFS9RS/p88zcLm5EL8GL3CljaD0vvcngnTubRE/1nej8/9BKz/YCNgYAX87PxsemEX+uUc/poL9JG3UUj/T8MrKf1xcP4U3bYMokWQ/vDcns9hmbj8KQoZJSfN1P7JWMbiN1n4/hQSeESv3hD+QPSJ2C/yLPz3tLTt9apI//beIq6evlz8yxEdKzheeP+ceOIWaw6I/9cE37y0cpz/D/ITPsPqrPwfOnYl+p7A/Fgn54oOFsz+S7TojY5i2Pyy/qZvN27k/1rD4sItgvT85A8h1+JDAP8A0NZ5CjcI/\",\"dtype\":\"float64\",\"shape\":[75]},\"y\":{\"__ndarray__\":\"GhExyth1ND/Sv8nbtpRIP2vylNV0PVE/aTum7souWD/At0SJ8fVgPw3Iuahxymc/MSNhhJWvcD/bTfBN02d3P2zb5nxnaoA/CD5h5MAGhz8NmeH1TyaQP+zrCsc9p5Y/LbKd76fGnz/bLW5ISEmmPww9YvTcQq8/JV2OstnstT8Er5Y7M8G+P0c+r3jqkcU/5h99k6ZBzj88bCIzFzjVP4enV8oyxN0//yH99nXg5D8qOpLLf0jtP5kqGJXUifQ/c9cS8kHP/D+/DpwzojQEQIEmwoanVwxA4lgXt9HgE0BSSZ2AJuIbQAMJih9jjiNA5q4l5INuK0AwTKYKRj0zQNv5fmq8/DpAaCJseHrtQkB/+zpwzoxKQM3MzMzMeFJAZmZmZmZqWEAAAAAAAFxeQM3MzMzMJmJAmpmZmZkfZUBmZmZmZhhoQDMzMzMzEWtAAAAAAAAKbkBmZmZmZoFwQM3MzMzM/XFAMzMzMzN6c0CamZmZmfZ0QAAAAAAAc3ZAZmZmZmbvd0DNzMzMzGt5QDMzMzMz6HpAmpmZmZlkfEAAAAAAAOF9QGZmZmZmXX9AZmZmZuZsgECamZmZGSuBQM3MzMxM6YFAAAAAAICngkAzMzMzs2WDQGZmZmbmI4RAmpmZmRnihEDNzMzMTKCFQAAAAACAXoZAMzMzM7Mch0BmZmZm5tqHQJqZmZkZmYhAzczMzExXiUAAAAAAgBWKQDMzMzOz04pAZmZmZuaRi0CamZmZGVCMQM3MzMxMDo1AAAAAAIDMjUAzMzMzs4qOQGZmZmbmSI9A\",\"dtype\":\"float64\",\"shape\":[75]}},\"selected\":{\"id\":\"2b13274f-d502-4092-8f61-d30413612812\",\"type\":\"Selection\"},\"selection_policy\":{\"id\":\"407eef69-ebb6-442d-a6a2-2473c06e1761\",\"type\":\"UnionRenderers\"}},\"id\":\"2d7ff637-e030-40cf-9491-d53106041180\",\"type\":\"ColumnDataSource\"},{\"attributes\":{},\"id\":\"0f269cf6-3b34-49f3-aeba-ccd69a08d6bc\",\"type\":\"UnionRenderers\"},{\"attributes\":{\"plot\":null,\"text\":\"\"},\"id\":\"b07c1412-1c58-46c8-943b-336a745aeaea\",\"type\":\"Title\"},{\"attributes\":{},\"id\":\"bb140cf5-c1be-4a37-9b22-4b3d328551cf\",\"type\":\"Selection\"},{\"attributes\":{},\"id\":\"2b13274f-d502-4092-8f61-d30413612812\",\"type\":\"Selection\"},{\"attributes\":{},\"id\":\"3d19f5ab-17d0-4205-934a-61a1fdf8ca48\",\"type\":\"Selection\"},{\"attributes\":{},\"id\":\"9be6904b-2626-4e02-994b-f628b7077c66\",\"type\":\"UnionRenderers\"},{\"attributes\":{},\"id\":\"45f8391a-3d2c-4350-b528-87f92b852676\",\"type\":\"Selection\"},{\"attributes\":{},\"id\":\"55548f16-2628-46f8-8b0e-7b1d2dc7aa00\",\"type\":\"Selection\"},{\"attributes\":{},\"id\":\"518a363e-ec99-4c4d-9aa5-6053ae6a77e1\",\"type\":\"UnionRenderers\"},{\"attributes\":{\"toolbar\":{\"id\":\"a0d65242-d0b6-4ae4-aa6c-997ca217fb96\",\"type\":\"ProxyToolbar\"},\"toolbar_location\":\"above\"},\"id\":\"2fb9964a-6467-4e37-be19-6872fa30e8d3\",\"type\":\"ToolbarBox\"},{\"attributes\":{},\"id\":\"407eef69-ebb6-442d-a6a2-2473c06e1761\",\"type\":\"UnionRenderers\"},{\"attributes\":{},\"id\":\"f1b932fe-0c1b-4efc-9422-9afb648700b2\",\"type\":\"Selection\"},{\"attributes\":{},\"id\":\"68196b4d-ced5-49de-842e-ccf47fda225c\",\"type\":\"UnionRenderers\"},{\"attributes\":{\"children\":[{\"id\":\"2fb9964a-6467-4e37-be19-6872fa30e8d3\",\"type\":\"ToolbarBox\"},{\"id\":\"f85bbf06-1554-4262-8d30-dd5a7b404590\",\"type\":\"Column\"}]},\"id\":\"38148274-4419-4db4-a961-ada5e5b89530\",\"type\":\"Column\"},{\"attributes\":{\"axis_label\":\"pressure [mb]\",\"formatter\":{\"id\":\"d0229602-cc27-4f3e-beff-9c150dc50521\",\"type\":\"BasicTickFormatter\"},\"plot\":{\"id\":\"fbfbdd0c-78a2-4d47-969e-487cd2ddf722\",\"subtype\":\"Figure\",\"type\":\"Plot\"},\"ticker\":{\"id\":\"178d7080-b891-4a17-bb6b-dc89c80c326f\",\"type\":\"BasicTicker\"}},\"id\":\"9337ed6d-4e6d-44fd-9722-c3740ef7c94e\",\"type\":\"LinearAxis\"},{\"attributes\":{\"source\":{\"id\":\"9d921557-7227-4017-a59c-021f19ebab37\",\"type\":\"ColumnDataSource\"}},\"id\":\"d8ce99b7-d1f7-4fb6-a3d7-dbf9a5b8cc1d\",\"type\":\"CDSView\"},{\"attributes\":{},\"id\":\"39832526-54e2-4ac5-8fca-b8f7a67e71b4\",\"type\":\"UnionRenderers\"},{\"attributes\":{\"tools\":[{\"id\":\"b613334e-11e3-4c8f-9aa5-2679635a5312\",\"type\":\"PanTool\"},{\"id\":\"11ec7803-c5ec-48a5-b3c4-4e7f1db9313b\",\"type\":\"WheelZoomTool\"},{\"id\":\"4f542fa7-bdde-488f-b4f1-16fda336600f\",\"type\":\"BoxZoomTool\"},{\"id\":\"1a69fd39-e5f3-4a5b-821a-481e2db4a2b7\",\"type\":\"SaveTool\"},{\"id\":\"fd45e7ad-1e99-4ee5-99c5-1b1b03f9625e\",\"type\":\"ResetTool\"},{\"id\":\"52a43cb6-ea7f-479f-bdc5-16ab344aa740\",\"type\":\"HelpTool\"},{\"id\":\"2be88412-d33e-4963-8e96-2c43081b3c82\",\"type\":\"PanTool\"},{\"id\":\"9fa032b8-d1ae-41b5-aa99-ce1cbecf5a8c\",\"type\":\"WheelZoomTool\"},{\"id\":\"ad7a74b1-bb5e-4220-88fb-d25652fa7337\",\"type\":\"BoxZoomTool\"},{\"id\":\"1f96ba31-665f-4159-90e4-b852c940f8a8\",\"type\":\"SaveTool\"},{\"id\":\"79cd1d26-327b-4398-9281-55eed3ba7095\",\"type\":\"ResetTool\"},{\"id\":\"368e2f66-35ac-4745-9732-48c33e9b3062\",\"type\":\"HelpTool\"}]},\"id\":\"a0d65242-d0b6-4ae4-aa6c-997ca217fb96\",\"type\":\"ProxyToolbar\"},{\"attributes\":{\"callback\":null,\"end\":0.14638607869536,\"start\":-0.0015301082313599998},\"id\":\"6a423b65-51a5-4786-964e-cc38d05d8172\",\"type\":\"Range1d\"},{\"attributes\":{},\"id\":\"6452e8eb-b691-4db4-9418-35a56d1a9d21\",\"type\":\"UnionRenderers\"},{\"attributes\":{\"callback\":null,\"data\":{\"x\":{\"__ndarray__\":\"r2NFrnXwhL6HtfABYUGFvoBrp09dY4W+mbYCzuC8hb628KaTq/uFvpxQ/d+aSYa+4c+zTteShr6ngwC5r+OGvrJOJlNqLIe+U4qEyaN3h75u6wh91cCHvg+gWReVDIi+MpfQs7FXiL4j4IAlW6iIvrxZLm+7jIm+8iuK4H21i77zycIVArONvuZOBOYR9Yy+QYM9zAhyhr6JC+DIsJZjvu3b9TU/Y5A+XdkS4VBYqj7ThF1cSl25Pv01P2F6rro+gcMaZeWMsD6ZbJcTHr6ePuMs3qBECoA+fkS+NdEpdb6VJ/o4fE+JvhdigQB+4pC+aw4JWYGok74Yu3g09dWVvkSvk1VyLZi+6ZfdMrNum75SA9y/wgCgvvlPFYv3H6O+kxCHTg/fpr5+yyAFWc6qvrnBzYarwa6+1IpYs9oqsr5keXI+wqi/vjtQ4ahtlNe+Qfd/hd7g7L4cPTRhO/79vrRONKAR+Qq/pQUKAyoFEr+hK/LzSrMUv9KC3pFS9RS/p88zcLm5EL8GL3CljaD0vvcngnTubRE/1nej8/9BKz/YCNgYAX87PxsemEX+uUc/poL9JG3UUj/T8MrKf1xcP4U3bYMokWQ/vDcns9hmbj8KQoZJSfN1P7JWMbiN1n4/hQSeESv3hD+QPSJ2C/yLPz3tLTt9apI//beIq6evlz8yxEdKzheeP+ceOIWaw6I/9cE37y0cpz/D/ITPsPqrPwfOnYl+p7A/Fgn54oOFsz+S7TojY5i2Pyy/qZvN27k/1rD4sItgvT85A8h1+JDAP8A0NZ5CjcI/\",\"dtype\":\"float64\",\"shape\":[75]},\"y\":{\"__ndarray__\":\"GhExyth1ND/Sv8nbtpRIP2vylNV0PVE/aTum7souWD/At0SJ8fVgPw3Iuahxymc/MSNhhJWvcD/bTfBN02d3P2zb5nxnaoA/CD5h5MAGhz8NmeH1TyaQP+zrCsc9p5Y/LbKd76fGnz/bLW5ISEmmPww9YvTcQq8/JV2OstnstT8Er5Y7M8G+P0c+r3jqkcU/5h99k6ZBzj88bCIzFzjVP4enV8oyxN0//yH99nXg5D8qOpLLf0jtP5kqGJXUifQ/c9cS8kHP/D+/DpwzojQEQIEmwoanVwxA4lgXt9HgE0BSSZ2AJuIbQAMJih9jjiNA5q4l5INuK0AwTKYKRj0zQNv5fmq8/DpAaCJseHrtQkB/+zpwzoxKQM3MzMzMeFJAZmZmZmZqWEAAAAAAAFxeQM3MzMzMJmJAmpmZmZkfZUBmZmZmZhhoQDMzMzMzEWtAAAAAAAAKbkBmZmZmZoFwQM3MzMzM/XFAMzMzMzN6c0CamZmZmfZ0QAAAAAAAc3ZAZmZmZmbvd0DNzMzMzGt5QDMzMzMz6HpAmpmZmZlkfEAAAAAAAOF9QGZmZmZmXX9AZmZmZuZsgECamZmZGSuBQM3MzMxM6YFAAAAAAICngkAzMzMzs2WDQGZmZmbmI4RAmpmZmRnihEDNzMzMTKCFQAAAAACAXoZAMzMzM7Mch0BmZmZm5tqHQJqZmZkZmYhAzczMzExXiUAAAAAAgBWKQDMzMzOz04pAZmZmZuaRi0CamZmZGVCMQM3MzMxMDo1AAAAAAIDMjUAzMzMzs4qOQGZmZmbmSI9A\",\"dtype\":\"float64\",\"shape\":[75]}},\"selected\":{\"id\":\"bb140cf5-c1be-4a37-9b22-4b3d328551cf\",\"type\":\"Selection\"},\"selection_policy\":{\"id\":\"518a363e-ec99-4c4d-9aa5-6053ae6a77e1\",\"type\":\"UnionRenderers\"}},\"id\":\"4a80084f-10bf-49c4-b2b8-e284f35fce51\",\"type\":\"ColumnDataSource\"},{\"attributes\":{\"fill_alpha\":{\"value\":0.1},\"fill_color\":{\"value\":\"#1f77b4\"},\"line_alpha\":{\"value\":0.1},\"line_color\":{\"value\":\"#1f77b4\"},\"x\":{\"field\":\"x\"},\"y\":{\"field\":\"y\"}},\"id\":\"a8f962eb-ff33-4750-9569-b7eb8316bea7\",\"type\":\"Square\"},{\"attributes\":{},\"id\":\"2be88412-d33e-4963-8e96-2c43081b3c82\",\"type\":\"PanTool\"},{\"attributes\":{\"active_drag\":\"auto\",\"active_inspect\":\"auto\",\"active_scroll\":\"auto\",\"active_tap\":\"auto\",\"tools\":[{\"id\":\"b613334e-11e3-4c8f-9aa5-2679635a5312\",\"type\":\"PanTool\"},{\"id\":\"11ec7803-c5ec-48a5-b3c4-4e7f1db9313b\",\"type\":\"WheelZoomTool\"},{\"id\":\"4f542fa7-bdde-488f-b4f1-16fda336600f\",\"type\":\"BoxZoomTool\"},{\"id\":\"1a69fd39-e5f3-4a5b-821a-481e2db4a2b7\",\"type\":\"SaveTool\"},{\"id\":\"fd45e7ad-1e99-4ee5-99c5-1b1b03f9625e\",\"type\":\"ResetTool\"},{\"id\":\"52a43cb6-ea7f-479f-bdc5-16ab344aa740\",\"type\":\"HelpTool\"}]},\"id\":\"879e4ad6-4e32-4a8a-85d6-efdcb97889ba\",\"type\":\"Toolbar\"},{\"attributes\":{\"callback\":null,\"data\":{\"x\":{\"__ndarray__\":\"dhSkSyT4h76jI43Wco2IvgsLlhNcvoi+Rp9uyHa/iL41pI8cmHaJvoKoTNf6j4m+E0PVMtUUir4jKc6JqF+KvplsdFgGk4q+kjdeF2P9ir632ayf8EaLvh++CceBmou+z5A63oj5i77w14j7WUqMvhAIn+xaSI2+dQTNse+dj74nupQsLMaQvtEI1Y6GBpC+4KqHoQBnh75lF7EwjbFDvqzMGHWHtpY+wA3NKebMsD6R/0ph7KS/Pk63HTxlncA+k/oBOv7ktD6GDi2mnyakPmLxh0zi9Yg+nV/BCqPebr7+xWe+ocOJviKrQAF1/pG+B6oAW8k7lb5plOHC+aGXvs/sUb3+Epq+iBHI+Bpunb45eZbkmBWhvv0qYywmV6S+X0RU4DZHqL5/Y5fVum+svkpwnmFrT7C+WG5CNURFs76RUsM768rAvni88V+M+di+rjaWcT1z7r6+l2o5Y17/vteVSRRz1Qu/9tYF0l8wEr9L1eOMAxkUv8v7amxFyBK/w4G9CcN3B7+soD4ZJOHxPpY5iY96HCE/YXx/Cj9SND/5K822psNCP8iJzL3W8E4/rE2E0jXhVz9zxMaq9JthP8HJhpLhIWk/E6/iOF9Rcj+9+GiS1Bl6P1Y6Fpr2FII/vlI4sIx1iD+Y0PcvHS6QP3wwqr5T/pQ/EUPYFLvCmj+Qjn1ZcsagP+TH/eZ8s6Q/pij68OokqT8jH7zC9wiuP4ZIJfPKoLE/t5uo8UdbtD9zw08ZiDC3P8MRYjYaI7o/OqPWyVM1vT+oVZFdqzXAP+kcj1vE3sE/\",\"dtype\":\"float64\",\"shape\":[75]},\"y\":{\"__ndarray__\":\"GhExyth1ND/Sv8nbtpRIP2vylNV0PVE/aTum7souWD/At0SJ8fVgPw3Iuahxymc/MSNhhJWvcD/bTfBN02d3P2zb5nxnaoA/CD5h5MAGhz8NmeH1TyaQP+zrCsc9p5Y/LbKd76fGnz/bLW5ISEmmPww9YvTcQq8/JV2OstnstT8Er5Y7M8G+P0c+r3jqkcU/5h99k6ZBzj88bCIzFzjVP4enV8oyxN0//yH99nXg5D8qOpLLf0jtP5kqGJXUifQ/c9cS8kHP/D+/DpwzojQEQIEmwoanVwxA4lgXt9HgE0BSSZ2AJuIbQAMJih9jjiNA5q4l5INuK0AwTKYKRj0zQNv5fmq8/DpAaCJseHrtQkB/+zpwzoxKQM3MzMzMeFJAZmZmZmZqWEAAAAAAAFxeQM3MzMzMJmJAmpmZmZkfZUBmZmZmZhhoQDMzMzMzEWtAAAAAAAAKbkBmZmZmZoFwQM3MzMzM/XFAMzMzMzN6c0CamZmZmfZ0QAAAAAAAc3ZAZmZmZmbvd0DNzMzMzGt5QDMzMzMz6HpAmpmZmZlkfEAAAAAAAOF9QGZmZmZmXX9AZmZmZuZsgECamZmZGSuBQM3MzMxM6YFAAAAAAICngkAzMzMzs2WDQGZmZmbmI4RAmpmZmRnihEDNzMzMTKCFQAAAAACAXoZAMzMzM7Mch0BmZmZm5tqHQJqZmZkZmYhAzczMzExXiUAAAAAAgBWKQDMzMzOz04pAZmZmZuaRi0CamZmZGVCMQM3MzMxMDo1AAAAAAIDMjUAzMzMzs4qOQGZmZmbmSI9A\",\"dtype\":\"float64\",\"shape\":[75]}},\"selected\":{\"id\":\"46ce4c0a-b9de-416d-abb1-8f824f66c915\",\"type\":\"Selection\"},\"selection_policy\":{\"id\":\"d4179896-5f96-49a8-9742-acf2fbb951c8\",\"type\":\"UnionRenderers\"}},\"id\":\"e4cd6f35-7ea4-4e5c-983f-b90fdfafe5e1\",\"type\":\"ColumnDataSource\"},{\"attributes\":{\"data_source\":{\"id\":\"4a80084f-10bf-49c4-b2b8-e284f35fce51\",\"type\":\"ColumnDataSource\"},\"glyph\":{\"id\":\"002532de-a0ec-4ad2-aa0a-b199d68fb0c1\",\"type\":\"Square\"},\"hover_glyph\":null,\"muted_glyph\":null,\"nonselection_glyph\":{\"id\":\"a8f962eb-ff33-4750-9569-b7eb8316bea7\",\"type\":\"Square\"},\"selection_glyph\":null,\"view\":{\"id\":\"88c70c6e-3c7f-42fc-a7ee-cb723e22c17a\",\"type\":\"CDSView\"}},\"id\":\"50fe016a-5443-4e92-9bff-93f73db5cd9b\",\"type\":\"GlyphRenderer\"},{\"attributes\":{\"source\":{\"id\":\"6d4e6214-6250-4445-abe1-18e23a19d6c8\",\"type\":\"ColumnDataSource\"}},\"id\":\"cf484b42-d990-488e-8933-42f4e789a013\",\"type\":\"CDSView\"},{\"attributes\":{\"line_alpha\":0.6,\"line_color\":\"#984ea3\",\"line_width\":3,\"x\":{\"field\":\"x\"},\"y\":{\"field\":\"y\"}},\"id\":\"5e9319db-520a-4997-9d4a-3ee67d815fe4\",\"type\":\"Line\"},{\"attributes\":{\"line_alpha\":0.1,\"line_color\":\"#1f77b4\",\"line_width\":3,\"x\":{\"field\":\"x\"},\"y\":{\"field\":\"y\"}},\"id\":\"5705667c-923a-4631-aa8b-490609bcae90\",\"type\":\"Line\"},{\"attributes\":{\"line_alpha\":0.1,\"line_color\":\"#1f77b4\",\"line_width\":2,\"x\":{\"field\":\"x\"},\"y\":{\"field\":\"y\"}},\"id\":\"5bccebf7-75f5-4b2b-b6d4-2dfe74312442\",\"type\":\"Line\"},{\"attributes\":{\"source\":{\"id\":\"4a80084f-10bf-49c4-b2b8-e284f35fce51\",\"type\":\"ColumnDataSource\"}},\"id\":\"88c70c6e-3c7f-42fc-a7ee-cb723e22c17a\",\"type\":\"CDSView\"},{\"attributes\":{\"source\":{\"id\":\"2d7ff637-e030-40cf-9491-d53106041180\",\"type\":\"ColumnDataSource\"}},\"id\":\"37882045-7bdb-4180-9e73-698ac197beaa\",\"type\":\"CDSView\"},{\"attributes\":{\"plot\":{\"id\":\"fbfbdd0c-78a2-4d47-969e-487cd2ddf722\",\"subtype\":\"Figure\",\"type\":\"Plot\"},\"ticker\":{\"id\":\"e5c1ef00-049d-4473-9fe9-4170678c95ed\",\"type\":\"BasicTicker\"}},\"id\":\"47802e92-9615-4ef8-af19-a80337d3ba2e\",\"type\":\"Grid\"},{\"attributes\":{},\"id\":\"e5c1ef00-049d-4473-9fe9-4170678c95ed\",\"type\":\"BasicTicker\"},{\"attributes\":{\"callback\":null,\"data\":{\"x\":{\"__ndarray__\":\"dhSkSyT4h76jI43Wco2IvgsLlhNcvoi+Rp9uyHa/iL41pI8cmHaJvoKoTNf6j4m+E0PVMtUUir4jKc6JqF+KvplsdFgGk4q+kjdeF2P9ir632ayf8EaLvh++CceBmou+z5A63oj5i77w14j7WUqMvhAIn+xaSI2+dQTNse+dj74nupQsLMaQvtEI1Y6GBpC+4KqHoQBnh75lF7EwjbFDvqzMGHWHtpY+wA3NKebMsD6R/0ph7KS/Pk63HTxlncA+k/oBOv7ktD6GDi2mnyakPmLxh0zi9Yg+nV/BCqPebr7+xWe+ocOJviKrQAF1/pG+B6oAW8k7lb5plOHC+aGXvs/sUb3+Epq+iBHI+Bpunb45eZbkmBWhvv0qYywmV6S+X0RU4DZHqL5/Y5fVum+svkpwnmFrT7C+WG5CNURFs76RUsM768rAvni88V+M+di+rjaWcT1z7r6+l2o5Y17/vteVSRRz1Qu/9tYF0l8wEr9L1eOMAxkUv8v7amxFyBK/w4G9CcN3B7+soD4ZJOHxPpY5iY96HCE/YXx/Cj9SND/5K822psNCP8iJzL3W8E4/rE2E0jXhVz9zxMaq9JthP8HJhpLhIWk/E6/iOF9Rcj+9+GiS1Bl6P1Y6Fpr2FII/vlI4sIx1iD+Y0PcvHS6QP3wwqr5T/pQ/EUPYFLvCmj+Qjn1ZcsagP+TH/eZ8s6Q/pij68OokqT8jH7zC9wiuP4ZIJfPKoLE/t5uo8UdbtD9zw08ZiDC3P8MRYjYaI7o/OqPWyVM1vT+oVZFdqzXAP+kcj1vE3sE/\",\"dtype\":\"float64\",\"shape\":[75]},\"y\":{\"__ndarray__\":\"GhExyth1ND/Sv8nbtpRIP2vylNV0PVE/aTum7souWD/At0SJ8fVgPw3Iuahxymc/MSNhhJWvcD/bTfBN02d3P2zb5nxnaoA/CD5h5MAGhz8NmeH1TyaQP+zrCsc9p5Y/LbKd76fGnz/bLW5ISEmmPww9YvTcQq8/JV2OstnstT8Er5Y7M8G+P0c+r3jqkcU/5h99k6ZBzj88bCIzFzjVP4enV8oyxN0//yH99nXg5D8qOpLLf0jtP5kqGJXUifQ/c9cS8kHP/D+/DpwzojQEQIEmwoanVwxA4lgXt9HgE0BSSZ2AJuIbQAMJih9jjiNA5q4l5INuK0AwTKYKRj0zQNv5fmq8/DpAaCJseHrtQkB/+zpwzoxKQM3MzMzMeFJAZmZmZmZqWEAAAAAAAFxeQM3MzMzMJmJAmpmZmZkfZUBmZmZmZhhoQDMzMzMzEWtAAAAAAAAKbkBmZmZmZoFwQM3MzMzM/XFAMzMzMzN6c0CamZmZmfZ0QAAAAAAAc3ZAZmZmZmbvd0DNzMzMzGt5QDMzMzMz6HpAmpmZmZlkfEAAAAAAAOF9QGZmZmZmXX9AZmZmZuZsgECamZmZGSuBQM3MzMxM6YFAAAAAAICngkAzMzMzs2WDQGZmZmbmI4RAmpmZmRnihEDNzMzMTKCFQAAAAACAXoZAMzMzM7Mch0BmZmZm5tqHQJqZmZkZmYhAzczMzExXiUAAAAAAgBWKQDMzMzOz04pAZmZmZuaRi0CamZmZGVCMQM3MzMxMDo1AAAAAAIDMjUAzMzMzs4qOQGZmZmbmSI9A\",\"dtype\":\"float64\",\"shape\":[75]}},\"selected\":{\"id\":\"3d19f5ab-17d0-4205-934a-61a1fdf8ca48\",\"type\":\"Selection\"},\"selection_policy\":{\"id\":\"0f269cf6-3b34-49f3-aeba-ccd69a08d6bc\",\"type\":\"UnionRenderers\"}},\"id\":\"6d4e6214-6250-4445-abe1-18e23a19d6c8\",\"type\":\"ColumnDataSource\"},{\"attributes\":{\"callback\":null,\"end\":0.01,\"start\":1020},\"id\":\"8cff010d-103e-4abf-96c8-8059870b4c11\",\"type\":\"Range1d\"},{\"attributes\":{\"line_alpha\":0.1,\"line_color\":\"#1f77b4\",\"line_width\":1.5,\"x\":{\"field\":\"x\"},\"y\":{\"field\":\"y\"}},\"id\":\"997a32ae-1806-472b-9953-eb77f3c087c5\",\"type\":\"Line\"},{\"attributes\":{\"data_source\":{\"id\":\"2d7ff637-e030-40cf-9491-d53106041180\",\"type\":\"ColumnDataSource\"},\"glyph\":{\"id\":\"5e9319db-520a-4997-9d4a-3ee67d815fe4\",\"type\":\"Line\"},\"hover_glyph\":null,\"muted_glyph\":null,\"nonselection_glyph\":{\"id\":\"5705667c-923a-4631-aa8b-490609bcae90\",\"type\":\"Line\"},\"selection_glyph\":null,\"view\":{\"id\":\"37882045-7bdb-4180-9e73-698ac197beaa\",\"type\":\"CDSView\"}},\"id\":\"2ab871ae-0e04-4c45-a6f5-0a1e62decf07\",\"type\":\"GlyphRenderer\"},{\"attributes\":{\"data_source\":{\"id\":\"6d4e6214-6250-4445-abe1-18e23a19d6c8\",\"type\":\"ColumnDataSource\"},\"glyph\":{\"id\":\"69a288fa-345a-444c-9015-445f40de684b\",\"type\":\"Line\"},\"hover_glyph\":null,\"muted_glyph\":null,\"nonselection_glyph\":{\"id\":\"997a32ae-1806-472b-9953-eb77f3c087c5\",\"type\":\"Line\"},\"selection_glyph\":null,\"view\":{\"id\":\"cf484b42-d990-488e-8933-42f4e789a013\",\"type\":\"CDSView\"}},\"id\":\"24108cff-0efd-482c-9fd4-83278a78ca78\",\"type\":\"GlyphRenderer\"},{\"attributes\":{\"callback\":null,\"data\":{\"x\":{\"__ndarray__\":\"ETE40S+6g74GH2K1xwGEvnCqcN1IFoS+9CfSPNFzhL5xPXgFD6+EvtUfc0BI7IS+KAMuskM/hb6E6Gv5sYGFvn8q634azYW+kJ9m0NAPhr7wkEGJnViGvg4iogzyn4a+neKhVJLmhr5oCIzmKzOHvoMkaRB4DIi+e3pvON8cir52jmCj9Q+MvtYwomhpgIu+e1gMblWehb5iEMLedBZmvknEPT6XOY0+0eixMGkYqD6Mhvsvl1e3PqsqjR/rj7g+0+OX/aBYrj6w7p0+G92bPqh008H+bns+zWW7sYaudb7oC1FkRmSIvu4vhL/EE5C+RgVoWZWekr6gTT/+Fp+UvtUiOKTYy5a+1hHSJoLXmb5tzHhjSyGevn+hl4iy/qG+wzzUbv6Dpb54aEuyhzepvgXyTKfw7qy+LfYBtL0Xsb7Nks5L7c29vvpjWeKqOda+1R5qydVD675oAyXWU2H8voj2Ok7FmQm/aQLBGTYuEb//3UF3FuETv4Oi+3mrZhS/NuMS5ezXEL/0p8RMB1j6vlm0es6Nhgs/sLxuY+O7Jz/0rNmSdYU4P/N+QcBsZUU/QmPMc8IYUT9Jhsw49dhZP4CBaV9czWI/tn0iXr3baz9+AckspSR0Pz+10pCeTnw/aSypsFxqgz8wveFkOQ6KP/R0ccUMJ5E/wG5DUiwzlj9tF9KVk0acPyXPcUWUvKE/HUawjVLrpT+5cy6zcqmqPw+cendA5q8/FEVhem/Ksj961+q819q1P9xn3G5eKbk/lJriFpi6vD+dkr3vKUrAP/CFbptOV8I/\",\"dtype\":\"float64\",\"shape\":[75]},\"y\":{\"__ndarray__\":\"GhExyth1ND/Sv8nbtpRIP2vylNV0PVE/aTum7souWD/At0SJ8fVgPw3Iuahxymc/MSNhhJWvcD/bTfBN02d3P2zb5nxnaoA/CD5h5MAGhz8NmeH1TyaQP+zrCsc9p5Y/LbKd76fGnz/bLW5ISEmmPww9YvTcQq8/JV2OstnstT8Er5Y7M8G+P0c+r3jqkcU/5h99k6ZBzj88bCIzFzjVP4enV8oyxN0//yH99nXg5D8qOpLLf0jtP5kqGJXUifQ/c9cS8kHP/D+/DpwzojQEQIEmwoanVwxA4lgXt9HgE0BSSZ2AJuIbQAMJih9jjiNA5q4l5INuK0AwTKYKRj0zQNv5fmq8/DpAaCJseHrtQkB/+zpwzoxKQM3MzMzMeFJAZmZmZmZqWEAAAAAAAFxeQM3MzMzMJmJAmpmZmZkfZUBmZmZmZhhoQDMzMzMzEWtAAAAAAAAKbkBmZmZmZoFwQM3MzMzM/XFAMzMzMzN6c0CamZmZmfZ0QAAAAAAAc3ZAZmZmZmbvd0DNzMzMzGt5QDMzMzMz6HpAmpmZmZlkfEAAAAAAAOF9QGZmZmZmXX9AZmZmZuZsgECamZmZGSuBQM3MzMxM6YFAAAAAAICngkAzMzMzs2WDQGZmZmbmI4RAmpmZmRnihEDNzMzMTKCFQAAAAACAXoZAMzMzM7Mch0BmZmZm5tqHQJqZmZkZmYhAzczMzExXiUAAAAAAgBWKQDMzMzOz04pAZmZmZuaRi0CamZmZGVCMQM3MzMxMDo1AAAAAAIDMjUAzMzMzs4qOQGZmZmbmSI9A\",\"dtype\":\"float64\",\"shape\":[75]}},\"selected\":{\"id\":\"45f8391a-3d2c-4350-b528-87f92b852676\",\"type\":\"Selection\"},\"selection_policy\":{\"id\":\"68196b4d-ced5-49de-842e-ccf47fda225c\",\"type\":\"UnionRenderers\"}},\"id\":\"d35f74a0-b831-46fd-803d-aa5d093c1ec5\",\"type\":\"ColumnDataSource\"},{\"attributes\":{\"fill_alpha\":{\"value\":0.7},\"fill_color\":{\"value\":\"#377eb8\"},\"line_alpha\":{\"value\":0.7},\"line_color\":{\"value\":\"#377eb8\"},\"x\":{\"field\":\"x\"},\"y\":{\"field\":\"y\"}},\"id\":\"011a8c8f-f143-4309-a513-1f472be759f8\",\"type\":\"Triangle\"},{\"attributes\":{\"callback\":null,\"data\":{\"x\":{\"__ndarray__\":\"ETE40S+6g74GH2K1xwGEvnCqcN1IFoS+9CfSPNFzhL5xPXgFD6+EvtUfc0BI7IS+KAMuskM/hb6E6Gv5sYGFvn8q634azYW+kJ9m0NAPhr7wkEGJnViGvg4iogzyn4a+neKhVJLmhr5oCIzmKzOHvoMkaRB4DIi+e3pvON8cir52jmCj9Q+MvtYwomhpgIu+e1gMblWehb5iEMLedBZmvknEPT6XOY0+0eixMGkYqD6Mhvsvl1e3PqsqjR/rj7g+0+OX/aBYrj6w7p0+G92bPqh008H+bns+zWW7sYaudb7oC1FkRmSIvu4vhL/EE5C+RgVoWZWekr6gTT/+Fp+UvtUiOKTYy5a+1hHSJoLXmb5tzHhjSyGevn+hl4iy/qG+wzzUbv6Dpb54aEuyhzepvgXyTKfw7qy+LfYBtL0Xsb7Nks5L7c29vvpjWeKqOda+1R5qydVD675oAyXWU2H8voj2Ok7FmQm/aQLBGTYuEb//3UF3FuETv4Oi+3mrZhS/NuMS5ezXEL/0p8RMB1j6vlm0es6Nhgs/sLxuY+O7Jz/0rNmSdYU4P/N+QcBsZUU/QmPMc8IYUT9Jhsw49dhZP4CBaV9czWI/tn0iXr3baz9+AckspSR0Pz+10pCeTnw/aSypsFxqgz8wveFkOQ6KP/R0ccUMJ5E/wG5DUiwzlj9tF9KVk0acPyXPcUWUvKE/HUawjVLrpT+5cy6zcqmqPw+cendA5q8/FEVhem/Ksj961+q819q1P9xn3G5eKbk/lJriFpi6vD+dkr3vKUrAP/CFbptOV8I/\",\"dtype\":\"float64\",\"shape\":[75]},\"y\":{\"__ndarray__\":\"GhExyth1ND/Sv8nbtpRIP2vylNV0PVE/aTum7souWD/At0SJ8fVgPw3Iuahxymc/MSNhhJWvcD/bTfBN02d3P2zb5nxnaoA/CD5h5MAGhz8NmeH1TyaQP+zrCsc9p5Y/LbKd76fGnz/bLW5ISEmmPww9YvTcQq8/JV2OstnstT8Er5Y7M8G+P0c+r3jqkcU/5h99k6ZBzj88bCIzFzjVP4enV8oyxN0//yH99nXg5D8qOpLLf0jtP5kqGJXUifQ/c9cS8kHP/D+/DpwzojQEQIEmwoanVwxA4lgXt9HgE0BSSZ2AJuIbQAMJih9jjiNA5q4l5INuK0AwTKYKRj0zQNv5fmq8/DpAaCJseHrtQkB/+zpwzoxKQM3MzMzMeFJAZmZmZmZqWEAAAAAAAFxeQM3MzMzMJmJAmpmZmZkfZUBmZmZmZhhoQDMzMzMzEWtAAAAAAAAKbkBmZmZmZoFwQM3MzMzM/XFAMzMzMzN6c0CamZmZmfZ0QAAAAAAAc3ZAZmZmZmbvd0DNzMzMzGt5QDMzMzMz6HpAmpmZmZlkfEAAAAAAAOF9QGZmZmZmXX9AZmZmZuZsgECamZmZGSuBQM3MzMxM6YFAAAAAAICngkAzMzMzs2WDQGZmZmbmI4RAmpmZmRnihEDNzMzMTKCFQAAAAACAXoZAMzMzM7Mch0BmZmZm5tqHQJqZmZkZmYhAzczMzExXiUAAAAAAgBWKQDMzMzOz04pAZmZmZuaRi0CamZmZGVCMQM3MzMxMDo1AAAAAAIDMjUAzMzMzs4qOQGZmZmbmSI9A\",\"dtype\":\"float64\",\"shape\":[75]}},\"selected\":{\"id\":\"55548f16-2628-46f8-8b0e-7b1d2dc7aa00\",\"type\":\"Selection\"},\"selection_policy\":{\"id\":\"39832526-54e2-4ac5-8fca-b8f7a67e71b4\",\"type\":\"UnionRenderers\"}},\"id\":\"b2e8dcce-46af-425b-b6ff-21d2f5e772c2\",\"type\":\"ColumnDataSource\"},{\"attributes\":{\"source\":{\"id\":\"d35f74a0-b831-46fd-803d-aa5d093c1ec5\",\"type\":\"ColumnDataSource\"}},\"id\":\"023a3a40-7ad6-4413-bed0-eeed75af6258\",\"type\":\"CDSView\"},{\"attributes\":{\"fill_alpha\":{\"value\":0.7},\"fill_color\":{\"value\":\"#984ea3\"},\"line_alpha\":{\"value\":0.7},\"line_color\":{\"value\":\"#984ea3\"},\"x\":{\"field\":\"x\"},\"y\":{\"field\":\"y\"}},\"id\":\"002532de-a0ec-4ad2-aa0a-b199d68fb0c1\",\"type\":\"Square\"},{\"attributes\":{\"fill_alpha\":{\"value\":0.1},\"fill_color\":{\"value\":\"#1f77b4\"},\"line_alpha\":{\"value\":0.1},\"line_color\":{\"value\":\"#1f77b4\"},\"x\":{\"field\":\"x\"},\"y\":{\"field\":\"y\"}},\"id\":\"14e48fcb-6562-4360-a781-484e9fa4e1bd\",\"type\":\"Triangle\"},{\"attributes\":{\"line_alpha\":0.3,\"line_color\":\"#377eb8\",\"line_width\":2,\"x\":{\"field\":\"x\"},\"y\":{\"field\":\"y\"}},\"id\":\"93368adc-bdc8-424f-a1ba-4d12ed479a7d\",\"type\":\"Line\"},{\"attributes\":{\"children\":[{\"id\":\"a679737b-9398-4ae2-8c92-a8df87f0c097\",\"type\":\"Row\"}]},\"id\":\"f85bbf06-1554-4262-8d30-dd5a7b404590\",\"type\":\"Column\"},{\"attributes\":{\"data_source\":{\"id\":\"d35f74a0-b831-46fd-803d-aa5d093c1ec5\",\"type\":\"ColumnDataSource\"},\"glyph\":{\"id\":\"011a8c8f-f143-4309-a513-1f472be759f8\",\"type\":\"Triangle\"},\"hover_glyph\":null,\"muted_glyph\":null,\"nonselection_glyph\":{\"id\":\"14e48fcb-6562-4360-a781-484e9fa4e1bd\",\"type\":\"Triangle\"},\"selection_glyph\":null,\"view\":{\"id\":\"023a3a40-7ad6-4413-bed0-eeed75af6258\",\"type\":\"CDSView\"}},\"id\":\"0a094485-af6f-480e-9971-6c03fd1ede53\",\"type\":\"GlyphRenderer\"},{\"attributes\":{\"data_source\":{\"id\":\"b2e8dcce-46af-425b-b6ff-21d2f5e772c2\",\"type\":\"ColumnDataSource\"},\"glyph\":{\"id\":\"93368adc-bdc8-424f-a1ba-4d12ed479a7d\",\"type\":\"Line\"},\"hover_glyph\":null,\"muted_glyph\":null,\"nonselection_glyph\":{\"id\":\"5bccebf7-75f5-4b2b-b6d4-2dfe74312442\",\"type\":\"Line\"},\"selection_glyph\":null,\"view\":{\"id\":\"d03315aa-0d29-41ef-ae56-409bfd93eb78\",\"type\":\"CDSView\"}},\"id\":\"29799e6e-e398-4665-bcaf-f50408f5a0f6\",\"type\":\"GlyphRenderer\"},{\"attributes\":{},\"id\":\"d5ab0e58-4257-48ce-8187-4e2df72bb52c\",\"type\":\"UnionRenderers\"},{\"attributes\":{\"items\":[{\"id\":\"53df1482-ffbc-4067-bbfd-77eb576e5a32\",\"type\":\"LegendItem\"},{\"id\":\"639b8f4b-5580-437c-a816-2f2ea50b0e12\",\"type\":\"LegendItem\"},{\"id\":\"5a2ebbf7-67ac-41c7-b628-fbe176072b1f\",\"type\":\"LegendItem\"}],\"label_text_font_size\":{\"value\":\"8pt\"},\"location\":\"top_center\",\"orientation\":\"horizontal\",\"plot\":{\"id\":\"fbfbdd0c-78a2-4d47-969e-487cd2ddf722\",\"subtype\":\"Figure\",\"type\":\"Plot\"}},\"id\":\"985bbd22-d779-4a98-8bd7-92d82b8e9a55\",\"type\":\"Legend\"},{\"attributes\":{\"source\":{\"id\":\"b2e8dcce-46af-425b-b6ff-21d2f5e772c2\",\"type\":\"ColumnDataSource\"}},\"id\":\"d03315aa-0d29-41ef-ae56-409bfd93eb78\",\"type\":\"CDSView\"},{\"attributes\":{\"plot\":null,\"text\":\"\"},\"id\":\"41592da9-aeb7-46b7-84e5-d12e60f200f2\",\"type\":\"Title\"},{\"attributes\":{\"children\":[{\"id\":\"fbfbdd0c-78a2-4d47-969e-487cd2ddf722\",\"subtype\":\"Figure\",\"type\":\"Plot\"},{\"id\":\"da12f835-c5a3-4c85-b1d9-dc8be26dff3a\",\"subtype\":\"Figure\",\"type\":\"Plot\"}]},\"id\":\"a679737b-9398-4ae2-8c92-a8df87f0c097\",\"type\":\"Row\"},{\"attributes\":{\"label\":{\"value\":\"CRD\"},\"renderers\":[{\"id\":\"a3abc66d-93e0-4687-afd9-f9a2edfa13fd\",\"type\":\"GlyphRenderer\"},{\"id\":\"24108cff-0efd-482c-9fd4-83278a78ca78\",\"type\":\"GlyphRenderer\"}]},\"id\":\"6ad0b910-bf4b-4a11-9fa1-474f77ea19ae\",\"type\":\"LegendItem\"},{\"attributes\":{},\"id\":\"d4179896-5f96-49a8-9742-acf2fbb951c8\",\"type\":\"UnionRenderers\"},{\"attributes\":{\"above\":[{\"id\":\"985bbd22-d779-4a98-8bd7-92d82b8e9a55\",\"type\":\"Legend\"}],\"below\":[{\"id\":\"127169fb-ea6d-4067-bb35-7d5de61a9ea5\",\"type\":\"LinearAxis\"}],\"left\":[{\"id\":\"9337ed6d-4e6d-44fd-9722-c3740ef7c94e\",\"type\":\"LinearAxis\"}],\"plot_height\":500,\"plot_width\":400,\"renderers\":[{\"id\":\"127169fb-ea6d-4067-bb35-7d5de61a9ea5\",\"type\":\"LinearAxis\"},{\"id\":\"47802e92-9615-4ef8-af19-a80337d3ba2e\",\"type\":\"Grid\"},{\"id\":\"9337ed6d-4e6d-44fd-9722-c3740ef7c94e\",\"type\":\"LinearAxis\"},{\"id\":\"ca7332e6-a83c-42d9-8936-065733d05ceb\",\"type\":\"Grid\"},{\"id\":\"dd342808-6fe5-4522-a79b-6d4386611a81\",\"type\":\"BoxAnnotation\"},{\"id\":\"3f9c2bb0-655a-46ee-a81c-e24c1f839f92\",\"type\":\"GlyphRenderer\"},{\"id\":\"8311ed56-8329-48a1-9b18-ca132fdbc14f\",\"type\":\"GlyphRenderer\"},{\"id\":\"8e3d09f0-87ce-4521-9880-4ca2ef171cd4\",\"type\":\"GlyphRenderer\"},{\"id\":\"2c0f1061-06df-48d8-beaf-a592fc46f0dc\",\"type\":\"GlyphRenderer\"},{\"id\":\"614d9b46-248d-4096-a012-2cc9c66c42f2\",\"type\":\"GlyphRenderer\"},{\"id\":\"f3b82aff-e517-49d6-88f0-c1b3998c7914\",\"type\":\"GlyphRenderer\"},{\"id\":\"985bbd22-d779-4a98-8bd7-92d82b8e9a55\",\"type\":\"Legend\"}],\"title\":{\"id\":\"41592da9-aeb7-46b7-84e5-d12e60f200f2\",\"type\":\"Title\"},\"toolbar\":{\"id\":\"879e4ad6-4e32-4a8a-85d6-efdcb97889ba\",\"type\":\"Toolbar\"},\"toolbar_location\":null,\"x_range\":{\"id\":\"6a423b65-51a5-4786-964e-cc38d05d8172\",\"type\":\"Range1d\"},\"x_scale\":{\"id\":\"a04b6f9c-95aa-4fbe-8aaa-f13500cb8e27\",\"type\":\"LinearScale\"},\"y_range\":{\"id\":\"8cff010d-103e-4abf-96c8-8059870b4c11\",\"type\":\"Range1d\"},\"y_scale\":{\"id\":\"f8c41b50-f097-4755-aff2-ae9df7cd07db\",\"type\":\"LinearScale\"}},\"id\":\"fbfbdd0c-78a2-4d47-969e-487cd2ddf722\",\"subtype\":\"Figure\",\"type\":\"Plot\"},{\"attributes\":{\"label\":{\"value\":\"WGT igg=1\"},\"renderers\":[{\"id\":\"50fe016a-5443-4e92-9bff-93f73db5cd9b\",\"type\":\"GlyphRenderer\"},{\"id\":\"2ab871ae-0e04-4c45-a6f5-0a1e62decf07\",\"type\":\"GlyphRenderer\"}]},\"id\":\"236d2bf5-5ed3-42b9-81af-32c568289567\",\"type\":\"LegendItem\"},{\"attributes\":{},\"id\":\"52a43cb6-ea7f-479f-bdc5-16ab344aa740\",\"type\":\"HelpTool\"},{\"attributes\":{},\"id\":\"f8c41b50-f097-4755-aff2-ae9df7cd07db\",\"type\":\"LinearScale\"},{\"attributes\":{},\"id\":\"46ce4c0a-b9de-416d-abb1-8f824f66c915\",\"type\":\"Selection\"},{\"attributes\":{},\"id\":\"a04b6f9c-95aa-4fbe-8aaa-f13500cb8e27\",\"type\":\"LinearScale\"},{\"attributes\":{\"label\":{\"value\":\"WGT igg=10\"},\"renderers\":[{\"id\":\"0a094485-af6f-480e-9971-6c03fd1ede53\",\"type\":\"GlyphRenderer\"},{\"id\":\"29799e6e-e398-4665-bcaf-f50408f5a0f6\",\"type\":\"GlyphRenderer\"}]},\"id\":\"c259ef2d-2eab-4369-8a65-f1d9a3bc3aed\",\"type\":\"LegendItem\"},{\"attributes\":{},\"id\":\"d0229602-cc27-4f3e-beff-9c150dc50521\",\"type\":\"BasicTickFormatter\"},{\"attributes\":{},\"id\":\"2ffd6fb2-dcc5-4203-bfe2-2fbbf726471d\",\"type\":\"BasicTickFormatter\"}],\"root_ids\":[\"38148274-4419-4db4-a961-ada5e5b89530\"]},\"title\":\"Bokeh Application\",\"version\":\"0.12.16\"}};\n",
       "  var render_items = [{\"docid\":\"4b1cdda6-7125-4762-a491-37e3078f066e\",\"elementid\":\"f7e0f3a6-edf6-46e5-a414-4d3fd8b32c4e\",\"modelid\":\"38148274-4419-4db4-a961-ada5e5b89530\"}];\n",
       "  root.Bokeh.embed.embed_items_notebook(docs_json, render_items);\n",
       "\n",
       "  }\n",
       "  if (root.Bokeh !== undefined) {\n",
       "    embed_document(root);\n",
       "  } else {\n",
       "    var attempts = 0;\n",
       "    var timer = setInterval(function(root) {\n",
       "      if (root.Bokeh !== undefined) {\n",
       "        embed_document(root);\n",
       "        clearInterval(timer);\n",
       "      }\n",
       "      attempts++;\n",
       "      if (attempts > 100) {\n",
       "        console.log(\"Bokeh: ERROR: Unable to run BokehJS code because BokehJS library is missing\")\n",
       "        clearInterval(timer);\n",
       "      }\n",
       "    }, 10, root)\n",
       "  }\n",
       "})(window);"
      ],
      "application/vnd.bokehjs_exec.v0+json": ""
     },
     "metadata": {
      "application/vnd.bokehjs_exec.v0+json": {
       "id": "38148274-4419-4db4-a961-ada5e5b89530"
      }
     },
     "output_type": "display_data"
    },
    {
     "data": {
      "text/markdown": [
       "*FIGURE.* Cooling rates. g=3"
      ],
      "text/plain": [
       "<IPython.core.display.Markdown object>"
      ]
     },
     "metadata": {},
     "output_type": "display_data"
    },
    {
     "data": {
      "text/html": [
       "\n",
       "<div class=\"bk-root\">\n",
       "    <div class=\"bk-plotdiv\" id=\"7794f496-7573-4611-a6d8-1558716c07d9\"></div>\n",
       "</div>"
      ]
     },
     "metadata": {},
     "output_type": "display_data"
    },
    {
     "data": {
      "application/javascript": [
       "(function(root) {\n",
       "  function embed_document(root) {\n",
       "    \n",
       "  var docs_json = {\"cb45fc49-406d-4e61-a657-fde62bdd9dcd\":{\"roots\":{\"references\":[{\"attributes\":{\"callback\":null,\"data\":{\"x\":{\"__ndarray__\":\"B1APiohu4b6C7wxMJ3DhvqDFC9ryb+G+eL9wjIBu4b6BLJJgXmrhvoac5bIWZOG+79G1llJb4b5BuMXxF1DhvqzG7bMcQuG+7meJf2wx4b7ef2aN4x3hvuNZBsB6B+G+yntMrg/u4L779s3yj8/gvjsI4WKsXOC+/sK6AM633L5EYKJ8FrbRvq6zOkEEMKk+oM1Xj15l4z7nDCJSvSD4PgtyIbRLUwc/ud7KVOInFD+spgFmTaIdP3q5yFMRjx4/szeh4hTlFj8wsctV8XMOPyMEaFqR0wI/y1IKEr5A9T77MtS6i5nkPiIoYIUgp8c+bfwR08Sgwb7+73V8fhbXvkO04bTf0d++W+kVwiWs4r47/nnmLfrkvpQS6me5Bee+l133fVyF6L5Y/M90YJrpvrma0lp2luq+PHDhENVv7L6ey5H996P1vuXQdvPldwq/Okt7GC/6GL/uN4n+qbQhv8BfW+HEmh+/MoWlq+mjBD+MaEodDMg3P3ITdNi7t00/1xwEzjp8XD9XA5JPjOVnP1mUUeaYjHI/9Jz0BxGMej+2SLOhdhKCPwjywBqa2oc/RzHMS/a2jj9DuND0VVuTP9/gwU6u+5c/wInCWVOanj+ABGrWviWjP0CIx/JsXqc/7TxA4wHmqz/7Cpri5l6wPwx6LfAu+rI/umjz+PC+tT9ker1ZVb+4P1wRJe9W9bs/jNXD8EFqvz+H9LBXJX/BPzjDCD9DSMM/0c9vdxEIxT+E3PBz78XGP9LtfLKvi8g/5VPBleVsyj8fRbx9JnfMP7p3U2EazM4/\",\"dtype\":\"float64\",\"shape\":[75]},\"y\":{\"__ndarray__\":\"GhExyth1ND/Sv8nbtpRIP2vylNV0PVE/aTum7souWD/At0SJ8fVgPw3Iuahxymc/MSNhhJWvcD/bTfBN02d3P2zb5nxnaoA/CD5h5MAGhz8NmeH1TyaQP+zrCsc9p5Y/LbKd76fGnz/bLW5ISEmmPww9YvTcQq8/JV2OstnstT8Er5Y7M8G+P0c+r3jqkcU/5h99k6ZBzj88bCIzFzjVP4enV8oyxN0//yH99nXg5D8qOpLLf0jtP5kqGJXUifQ/c9cS8kHP/D+/DpwzojQEQIEmwoanVwxA4lgXt9HgE0BSSZ2AJuIbQAMJih9jjiNA5q4l5INuK0AwTKYKRj0zQNv5fmq8/DpAaCJseHrtQkB/+zpwzoxKQM3MzMzMeFJAZmZmZmZqWEAAAAAAAFxeQM3MzMzMJmJAmpmZmZkfZUBmZmZmZhhoQDMzMzMzEWtAAAAAAAAKbkBmZmZmZoFwQM3MzMzM/XFAMzMzMzN6c0CamZmZmfZ0QAAAAAAAc3ZAZmZmZmbvd0DNzMzMzGt5QDMzMzMz6HpAmpmZmZlkfEAAAAAAAOF9QGZmZmZmXX9AZmZmZuZsgECamZmZGSuBQM3MzMxM6YFAAAAAAICngkAzMzMzs2WDQGZmZmbmI4RAmpmZmRnihEDNzMzMTKCFQAAAAACAXoZAMzMzM7Mch0BmZmZm5tqHQJqZmZkZmYhAzczMzExXiUAAAAAAgBWKQDMzMzOz04pAZmZmZuaRi0CamZmZGVCMQM3MzMxMDo1AAAAAAIDMjUAzMzMzs4qOQGZmZmbmSI9A\",\"dtype\":\"float64\",\"shape\":[75]}},\"selected\":{\"id\":\"3bc13bb3-b3bc-4c66-b3e9-ee0a4a0f7dd5\",\"type\":\"Selection\"},\"selection_policy\":{\"id\":\"9bc270a5-697f-4c7e-8f78-87c9f7f75ddd\",\"type\":\"UnionRenderers\"}},\"id\":\"8dcc90bd-c7cf-4b54-94bf-ed5ba4ca8306\",\"type\":\"ColumnDataSource\"},{\"attributes\":{},\"id\":\"d124e540-3d2e-41d4-b4b5-5424a49b83c2\",\"type\":\"BasicTickFormatter\"},{\"attributes\":{\"source\":{\"id\":\"8dfd1b00-d736-429c-8965-c7f0152a9a86\",\"type\":\"ColumnDataSource\"}},\"id\":\"d4e79ff3-bf9d-4d47-951c-d374bfb1964c\",\"type\":\"CDSView\"},{\"attributes\":{\"source\":{\"id\":\"8dcc90bd-c7cf-4b54-94bf-ed5ba4ca8306\",\"type\":\"ColumnDataSource\"}},\"id\":\"8371ec2b-0a19-4950-acb0-586636f9694b\",\"type\":\"CDSView\"},{\"attributes\":{\"data_source\":{\"id\":\"8dcc90bd-c7cf-4b54-94bf-ed5ba4ca8306\",\"type\":\"ColumnDataSource\"},\"glyph\":{\"id\":\"d390c40a-d1d3-49ba-81be-8448ed4a09f9\",\"type\":\"Line\"},\"hover_glyph\":null,\"muted_glyph\":null,\"nonselection_glyph\":{\"id\":\"ab447120-d0b2-468e-93a8-96abd5976d6c\",\"type\":\"Line\"},\"selection_glyph\":null,\"view\":{\"id\":\"8371ec2b-0a19-4950-acb0-586636f9694b\",\"type\":\"CDSView\"}},\"id\":\"76c8fc0b-27e6-4241-9e5f-66a07c583395\",\"type\":\"GlyphRenderer\"},{\"attributes\":{},\"id\":\"911c8183-8772-4f7f-849c-87d6e4e16ee3\",\"type\":\"BasicTickFormatter\"},{\"attributes\":{\"line_alpha\":0.6,\"line_color\":\"#984ea3\",\"line_width\":3,\"x\":{\"field\":\"x\"},\"y\":{\"field\":\"y\"}},\"id\":\"d390c40a-d1d3-49ba-81be-8448ed4a09f9\",\"type\":\"Line\"},{\"attributes\":{},\"id\":\"3e6458bb-8076-4cfc-8155-e7f5fba752da\",\"type\":\"UnionRenderers\"},{\"attributes\":{},\"id\":\"77e37206-05ad-424f-9438-dacfee4125ce\",\"type\":\"UnionRenderers\"},{\"attributes\":{\"fill_alpha\":{\"value\":0.7},\"fill_color\":{\"value\":\"#377eb8\"},\"line_alpha\":{\"value\":0.7},\"line_color\":{\"value\":\"#377eb8\"},\"x\":{\"field\":\"x\"},\"y\":{\"field\":\"y\"}},\"id\":\"4680e173-801b-435a-896c-f0d453f851af\",\"type\":\"Triangle\"},{\"attributes\":{\"data_source\":{\"id\":\"70a5b29f-7903-4ff0-8d1a-17b3b478d3c0\",\"type\":\"ColumnDataSource\"},\"glyph\":{\"id\":\"d9ec83b8-c866-442b-969f-38c90de354ca\",\"type\":\"Line\"},\"hover_glyph\":null,\"muted_glyph\":null,\"nonselection_glyph\":{\"id\":\"a9a35821-2e68-40e8-b223-eaee667a4685\",\"type\":\"Line\"},\"selection_glyph\":null,\"view\":{\"id\":\"5272b79c-8226-4b7e-8811-c14643e702d4\",\"type\":\"CDSView\"}},\"id\":\"2512b294-7588-4f97-88eb-f9bc15294280\",\"type\":\"GlyphRenderer\"},{\"attributes\":{\"callback\":null,\"data\":{\"x\":{\"__ndarray__\":\"BmGV+Gts4L4YbxmZOnHgvsh0MAF1eOC+XxiMwZF/4L5E0EUfWYTgvgsOOodZh+C+7YkMpcmI4L4Wst4l/YfgvgudtTFFheC+bCh0dkeA4L67Ew/yMHngvl0PBzzSb+C+h/1u3B5k4L4fJzYDBVXgvguMI5hlFOC+fDecjbmH3b4czoT89ofVvtp1Tj40Xba+6Pj/Lpxg1j705SlyGRrxPmrqEL1UoQE/iKlMN69uDz9oXF9sTXUXPwGIXIuhNhg/rpQ5ZM7xET+GUfNmWWUHP27b02Ze8fs+7udUh1t27T5qkZIJBefXPkykqFopQ4Q+b9ggbykUz75w2eJJkpPavnRhKdFOo+C+wNxdmqLI4r4p88YTG5rkvjMi2ibXP+a+OafqPG2K575m0+k0E43ovpHqJU3Qeem+HMd7n+pO676cst1L+g71vv22PZT+qQq/LIyMK8i4Gr9rbhdEKlIlv/lEi8cYeSm/Ba/2/CArGr+cv9UcrEciP9y7IOpLuEI/qx7E8fW+VD+pOPfT9NliP5ocAA91wG4/1u7ZvIXedj/7e0d8NQ2AP0ucpjcIuoU/ULYbWQaQjD+Ek+XKtlGSP8QLqtXsBJc/aM9sbRa1nT+QJWtN5b+iP/7RJc99Aac/B31Y1EiQqz/+Kabp6y2wPxvlwV+RtLI/faJ7blJltT9sVUqDZk24P6gZ/kVjfLs/4i1a98T3vj8w60TQOFfBPzKtV9XuPsM/1KnyhkInxT84A4jsjxHHP6s/oSJ3Bsk/tzGh+YgOyz+h1w6rYDnNP1atHS3Un88/\",\"dtype\":\"float64\",\"shape\":[75]},\"y\":{\"__ndarray__\":\"GhExyth1ND/Sv8nbtpRIP2vylNV0PVE/aTum7souWD/At0SJ8fVgPw3Iuahxymc/MSNhhJWvcD/bTfBN02d3P2zb5nxnaoA/CD5h5MAGhz8NmeH1TyaQP+zrCsc9p5Y/LbKd76fGnz/bLW5ISEmmPww9YvTcQq8/JV2OstnstT8Er5Y7M8G+P0c+r3jqkcU/5h99k6ZBzj88bCIzFzjVP4enV8oyxN0//yH99nXg5D8qOpLLf0jtP5kqGJXUifQ/c9cS8kHP/D+/DpwzojQEQIEmwoanVwxA4lgXt9HgE0BSSZ2AJuIbQAMJih9jjiNA5q4l5INuK0AwTKYKRj0zQNv5fmq8/DpAaCJseHrtQkB/+zpwzoxKQM3MzMzMeFJAZmZmZmZqWEAAAAAAAFxeQM3MzMzMJmJAmpmZmZkfZUBmZmZmZhhoQDMzMzMzEWtAAAAAAAAKbkBmZmZmZoFwQM3MzMzM/XFAMzMzMzN6c0CamZmZmfZ0QAAAAAAAc3ZAZmZmZmbvd0DNzMzMzGt5QDMzMzMz6HpAmpmZmZlkfEAAAAAAAOF9QGZmZmZmXX9AZmZmZuZsgECamZmZGSuBQM3MzMxM6YFAAAAAAICngkAzMzMzs2WDQGZmZmbmI4RAmpmZmRnihEDNzMzMTKCFQAAAAACAXoZAMzMzM7Mch0BmZmZm5tqHQJqZmZkZmYhAzczMzExXiUAAAAAAgBWKQDMzMzOz04pAZmZmZuaRi0CamZmZGVCMQM3MzMxMDo1AAAAAAIDMjUAzMzMzs4qOQGZmZmbmSI9A\",\"dtype\":\"float64\",\"shape\":[75]}},\"selected\":{\"id\":\"94fe4c2d-9ef8-40a7-a42d-8a4581b10839\",\"type\":\"Selection\"},\"selection_policy\":{\"id\":\"91073685-4b72-4820-aef5-ea4deb3ffc82\",\"type\":\"UnionRenderers\"}},\"id\":\"a0262a91-c34a-4e42-a3ff-bb7c4c9db9e4\",\"type\":\"ColumnDataSource\"},{\"attributes\":{\"fill_alpha\":{\"value\":0.1},\"fill_color\":{\"value\":\"#1f77b4\"},\"line_alpha\":{\"value\":0.1},\"line_color\":{\"value\":\"#1f77b4\"},\"x\":{\"field\":\"x\"},\"y\":{\"field\":\"y\"}},\"id\":\"1c32f7fe-b7f8-4b1f-8831-214779c87edf\",\"type\":\"Triangle\"},{\"attributes\":{\"data_source\":{\"id\":\"a0262a91-c34a-4e42-a3ff-bb7c4c9db9e4\",\"type\":\"ColumnDataSource\"},\"glyph\":{\"id\":\"4680e173-801b-435a-896c-f0d453f851af\",\"type\":\"Triangle\"},\"hover_glyph\":null,\"muted_glyph\":null,\"nonselection_glyph\":{\"id\":\"1c32f7fe-b7f8-4b1f-8831-214779c87edf\",\"type\":\"Triangle\"},\"selection_glyph\":null,\"view\":{\"id\":\"a33ff667-c627-4b45-aee1-613dd4715269\",\"type\":\"CDSView\"}},\"id\":\"bc559c7d-4a8d-49ab-9ee9-7d72e1d14c2e\",\"type\":\"GlyphRenderer\"},{\"attributes\":{\"line_alpha\":0.3,\"line_color\":\"#377eb8\",\"line_width\":2,\"x\":{\"field\":\"x\"},\"y\":{\"field\":\"y\"}},\"id\":\"d9ec83b8-c866-442b-969f-38c90de354ca\",\"type\":\"Line\"},{\"attributes\":{\"line_alpha\":0.1,\"line_color\":\"#1f77b4\",\"line_width\":3,\"x\":{\"field\":\"x\"},\"y\":{\"field\":\"y\"}},\"id\":\"ab447120-d0b2-468e-93a8-96abd5976d6c\",\"type\":\"Line\"},{\"attributes\":{\"callback\":null,\"data\":{\"x\":{\"__ndarray__\":\"BmGV+Gts4L4YbxmZOnHgvsh0MAF1eOC+XxiMwZF/4L5E0EUfWYTgvgsOOodZh+C+7YkMpcmI4L4Wst4l/YfgvgudtTFFheC+bCh0dkeA4L67Ew/yMHngvl0PBzzSb+C+h/1u3B5k4L4fJzYDBVXgvguMI5hlFOC+fDecjbmH3b4czoT89ofVvtp1Tj40Xba+6Pj/Lpxg1j705SlyGRrxPmrqEL1UoQE/iKlMN69uDz9oXF9sTXUXPwGIXIuhNhg/rpQ5ZM7xET+GUfNmWWUHP27b02Ze8fs+7udUh1t27T5qkZIJBefXPkykqFopQ4Q+b9ggbykUz75w2eJJkpPavnRhKdFOo+C+wNxdmqLI4r4p88YTG5rkvjMi2ibXP+a+OafqPG2K575m0+k0E43ovpHqJU3Qeem+HMd7n+pO676cst1L+g71vv22PZT+qQq/LIyMK8i4Gr9rbhdEKlIlv/lEi8cYeSm/Ba/2/CArGr+cv9UcrEciP9y7IOpLuEI/qx7E8fW+VD+pOPfT9NliP5ocAA91wG4/1u7ZvIXedj/7e0d8NQ2AP0ucpjcIuoU/ULYbWQaQjD+Ek+XKtlGSP8QLqtXsBJc/aM9sbRa1nT+QJWtN5b+iP/7RJc99Aac/B31Y1EiQqz/+Kabp6y2wPxvlwV+RtLI/faJ7blJltT9sVUqDZk24P6gZ/kVjfLs/4i1a98T3vj8w60TQOFfBPzKtV9XuPsM/1KnyhkInxT84A4jsjxHHP6s/oSJ3Bsk/tzGh+YgOyz+h1w6rYDnNP1atHS3Un88/\",\"dtype\":\"float64\",\"shape\":[75]},\"y\":{\"__ndarray__\":\"GhExyth1ND/Sv8nbtpRIP2vylNV0PVE/aTum7souWD/At0SJ8fVgPw3Iuahxymc/MSNhhJWvcD/bTfBN02d3P2zb5nxnaoA/CD5h5MAGhz8NmeH1TyaQP+zrCsc9p5Y/LbKd76fGnz/bLW5ISEmmPww9YvTcQq8/JV2OstnstT8Er5Y7M8G+P0c+r3jqkcU/5h99k6ZBzj88bCIzFzjVP4enV8oyxN0//yH99nXg5D8qOpLLf0jtP5kqGJXUifQ/c9cS8kHP/D+/DpwzojQEQIEmwoanVwxA4lgXt9HgE0BSSZ2AJuIbQAMJih9jjiNA5q4l5INuK0AwTKYKRj0zQNv5fmq8/DpAaCJseHrtQkB/+zpwzoxKQM3MzMzMeFJAZmZmZmZqWEAAAAAAAFxeQM3MzMzMJmJAmpmZmZkfZUBmZmZmZhhoQDMzMzMzEWtAAAAAAAAKbkBmZmZmZoFwQM3MzMzM/XFAMzMzMzN6c0CamZmZmfZ0QAAAAAAAc3ZAZmZmZmbvd0DNzMzMzGt5QDMzMzMz6HpAmpmZmZlkfEAAAAAAAOF9QGZmZmZmXX9AZmZmZuZsgECamZmZGSuBQM3MzMxM6YFAAAAAAICngkAzMzMzs2WDQGZmZmbmI4RAmpmZmRnihEDNzMzMTKCFQAAAAACAXoZAMzMzM7Mch0BmZmZm5tqHQJqZmZkZmYhAzczMzExXiUAAAAAAgBWKQDMzMzOz04pAZmZmZuaRi0CamZmZGVCMQM3MzMxMDo1AAAAAAIDMjUAzMzMzs4qOQGZmZmbmSI9A\",\"dtype\":\"float64\",\"shape\":[75]}},\"selected\":{\"id\":\"5a9cf611-e686-4262-ad5c-fd0246f4ffb9\",\"type\":\"Selection\"},\"selection_policy\":{\"id\":\"dfd3dbb5-982c-4220-b2ab-2585f66d5c7b\",\"type\":\"UnionRenderers\"}},\"id\":\"70a5b29f-7903-4ff0-8d1a-17b3b478d3c0\",\"type\":\"ColumnDataSource\"},{\"attributes\":{\"line_alpha\":0.1,\"line_color\":\"#1f77b4\",\"line_width\":2,\"x\":{\"field\":\"x\"},\"y\":{\"field\":\"y\"}},\"id\":\"a9a35821-2e68-40e8-b223-eaee667a4685\",\"type\":\"Line\"},{\"attributes\":{\"data_source\":{\"id\":\"a62541e3-8c16-49d4-b518-0c30f8bb9195\",\"type\":\"ColumnDataSource\"},\"glyph\":{\"id\":\"3835bd08-5469-45f2-a109-fce8eacc65b5\",\"type\":\"Circle\"},\"hover_glyph\":null,\"muted_glyph\":null,\"nonselection_glyph\":{\"id\":\"b201a9ae-07ff-4aa3-a54c-19d985da4dfa\",\"type\":\"Circle\"},\"selection_glyph\":null,\"view\":{\"id\":\"32566b2d-8314-4d39-a229-938b85841ad7\",\"type\":\"CDSView\"}},\"id\":\"eea6b13e-8e9d-4c6c-be81-4b9195985dea\",\"type\":\"GlyphRenderer\"},{\"attributes\":{\"ticker\":null},\"id\":\"7a344253-247f-4637-bab2-0e1b78f80d71\",\"type\":\"LogTickFormatter\"},{\"attributes\":{\"source\":{\"id\":\"a0262a91-c34a-4e42-a3ff-bb7c4c9db9e4\",\"type\":\"ColumnDataSource\"}},\"id\":\"a33ff667-c627-4b45-aee1-613dd4715269\",\"type\":\"CDSView\"},{\"attributes\":{},\"id\":\"071ccd09-f5e2-4a9a-b04c-01dc1a0eaaa2\",\"type\":\"UnionRenderers\"},{\"attributes\":{\"items\":[{\"id\":\"319d40ae-b567-406e-b618-bd9f1a5a79a1\",\"type\":\"LegendItem\"},{\"id\":\"d088b13f-2057-4f4a-bfaf-47a24cb74bda\",\"type\":\"LegendItem\"},{\"id\":\"1287063e-0933-4451-9d0b-844751cac990\",\"type\":\"LegendItem\"}],\"label_text_font_size\":{\"value\":\"8pt\"},\"location\":\"top_center\",\"orientation\":\"horizontal\",\"plot\":{\"id\":\"c26bf221-14d1-4506-b5d2-e3f2b8b3f246\",\"subtype\":\"Figure\",\"type\":\"Plot\"}},\"id\":\"226d2c23-d591-4266-b0a5-b8d91e448a04\",\"type\":\"Legend\"},{\"attributes\":{},\"id\":\"db0435cb-5d14-4619-944d-1f304bc3f503\",\"type\":\"Selection\"},{\"attributes\":{\"plot\":null,\"text\":\"\"},\"id\":\"49bf1423-2fec-4a8f-8734-2aff13d9b7ec\",\"type\":\"Title\"},{\"attributes\":{},\"id\":\"ee92bf7e-c2ab-4748-ae48-4b932a04fd51\",\"type\":\"Selection\"},{\"attributes\":{\"label\":{\"value\":\"WGT igg=1\"},\"renderers\":[{\"id\":\"7469613a-7d1c-4fe4-82b5-c2cff65fad96\",\"type\":\"GlyphRenderer\"},{\"id\":\"76c8fc0b-27e6-4241-9e5f-66a07c583395\",\"type\":\"GlyphRenderer\"}]},\"id\":\"d088b13f-2057-4f4a-bfaf-47a24cb74bda\",\"type\":\"LegendItem\"},{\"attributes\":{\"plot\":null,\"text\":\"\"},\"id\":\"b8ad5125-0261-4b45-ba51-58026639d820\",\"type\":\"Title\"},{\"attributes\":{\"source\":{\"id\":\"70a5b29f-7903-4ff0-8d1a-17b3b478d3c0\",\"type\":\"ColumnDataSource\"}},\"id\":\"5272b79c-8226-4b7e-8811-c14643e702d4\",\"type\":\"CDSView\"},{\"attributes\":{\"callback\":null,\"end\":0.000251035609233,\"start\":-2.3327829333e-05},\"id\":\"c3a6c0ff-4ec6-43b3-8ced-d634725a3757\",\"type\":\"Range1d\"},{\"attributes\":{\"children\":[{\"id\":\"0b599fd8-9c42-4d16-99f2-0676f59c5e19\",\"subtype\":\"Figure\",\"type\":\"Plot\"},{\"id\":\"c26bf221-14d1-4506-b5d2-e3f2b8b3f246\",\"subtype\":\"Figure\",\"type\":\"Plot\"}]},\"id\":\"d91e754c-3aff-4199-9a2d-31b8051bc84d\",\"type\":\"Row\"},{\"attributes\":{\"label\":{\"value\":\"CRD\"},\"renderers\":[{\"id\":\"eea6b13e-8e9d-4c6c-be81-4b9195985dea\",\"type\":\"GlyphRenderer\"},{\"id\":\"0c424237-eb97-41e2-ae38-07e974629e8f\",\"type\":\"GlyphRenderer\"}]},\"id\":\"319d40ae-b567-406e-b618-bd9f1a5a79a1\",\"type\":\"LegendItem\"},{\"attributes\":{\"children\":[{\"id\":\"d91e754c-3aff-4199-9a2d-31b8051bc84d\",\"type\":\"Row\"}]},\"id\":\"bcb4bacc-088e-4c8d-8d13-4ae4332583e5\",\"type\":\"Column\"},{\"attributes\":{\"label\":{\"value\":\"WGT igg=10\"},\"renderers\":[{\"id\":\"bc559c7d-4a8d-49ab-9ee9-7d72e1d14c2e\",\"type\":\"GlyphRenderer\"},{\"id\":\"2512b294-7588-4f97-88eb-f9bc15294280\",\"type\":\"GlyphRenderer\"}]},\"id\":\"1287063e-0933-4451-9d0b-844751cac990\",\"type\":\"LegendItem\"},{\"attributes\":{\"callback\":null,\"end\":0.01,\"start\":1020},\"id\":\"12ee310d-7a86-4224-9fd5-a3ec4ac4d226\",\"type\":\"Range1d\"},{\"attributes\":{},\"id\":\"2cd17a5a-570a-4f7d-8e9e-47224efc361c\",\"type\":\"Selection\"},{\"attributes\":{},\"id\":\"133fc30f-3720-40ce-8835-e9fd37402872\",\"type\":\"BasicTickFormatter\"},{\"attributes\":{\"callback\":null,\"end\":0.01,\"start\":1020},\"id\":\"6e35c7c0-3a74-4d24-8137-8cc48a235c05\",\"type\":\"Range1d\"},{\"attributes\":{\"callback\":null,\"end\":0.24953768262129,\"start\":-0.0026669381502900003},\"id\":\"f0717444-2985-41e1-8474-8a3eaa6044bf\",\"type\":\"Range1d\"},{\"attributes\":{\"items\":[{\"id\":\"8178d89c-33aa-4e13-a3c9-fc2a9e01afbb\",\"type\":\"LegendItem\"},{\"id\":\"958f2a54-1d53-4c95-a6ca-37ad52e2b9c1\",\"type\":\"LegendItem\"},{\"id\":\"50862c4a-d062-41cc-8d5f-f09c8bfe0d70\",\"type\":\"LegendItem\"}],\"label_text_font_size\":{\"value\":\"8pt\"},\"location\":\"top_center\",\"orientation\":\"horizontal\",\"plot\":{\"id\":\"0b599fd8-9c42-4d16-99f2-0676f59c5e19\",\"subtype\":\"Figure\",\"type\":\"Plot\"}},\"id\":\"fea847a7-7842-4bea-9211-c681b930369a\",\"type\":\"Legend\"},{\"attributes\":{},\"id\":\"033b7b38-b883-4dcd-90f6-42379fd58d90\",\"type\":\"BasicTicker\"},{\"attributes\":{\"active_drag\":\"auto\",\"active_inspect\":\"auto\",\"active_scroll\":\"auto\",\"active_tap\":\"auto\",\"tools\":[{\"id\":\"40bfa01c-c61e-45ca-b228-3a1b515b1994\",\"type\":\"PanTool\"},{\"id\":\"0309187a-7f6e-47f5-9c02-7b091536020e\",\"type\":\"WheelZoomTool\"},{\"id\":\"673b1b97-dc55-4a00-ae82-73ab167e232b\",\"type\":\"BoxZoomTool\"},{\"id\":\"98fdf31e-fed8-4f27-82ee-831aa67ded68\",\"type\":\"SaveTool\"},{\"id\":\"dc64ad5b-5bb6-4440-bc59-f7b90f5a4dad\",\"type\":\"ResetTool\"},{\"id\":\"aaf55c7e-73c4-40d1-b635-6131afeb22b7\",\"type\":\"HelpTool\"}]},\"id\":\"4708f04b-df6c-4259-8151-6646341e5e1f\",\"type\":\"Toolbar\"},{\"attributes\":{},\"id\":\"2ffca587-fbf1-481f-9dc0-3bb7b4d250d5\",\"type\":\"LinearScale\"},{\"attributes\":{},\"id\":\"8ea922d0-4ccc-4f6a-8c50-3b7648875093\",\"type\":\"BasicTicker\"},{\"attributes\":{\"above\":[{\"id\":\"fea847a7-7842-4bea-9211-c681b930369a\",\"type\":\"Legend\"}],\"below\":[{\"id\":\"26403a60-233f-4025-a33e-061f5f5da8ec\",\"type\":\"LinearAxis\"}],\"left\":[{\"id\":\"1700ea16-7a65-457c-affa-15746398a963\",\"type\":\"LinearAxis\"}],\"plot_height\":500,\"plot_width\":400,\"renderers\":[{\"id\":\"26403a60-233f-4025-a33e-061f5f5da8ec\",\"type\":\"LinearAxis\"},{\"id\":\"29647a49-1f97-4c65-97f3-ffe9de3ac1e4\",\"type\":\"Grid\"},{\"id\":\"1700ea16-7a65-457c-affa-15746398a963\",\"type\":\"LinearAxis\"},{\"id\":\"ec74242b-da4e-4cc3-b090-05375ba040f5\",\"type\":\"Grid\"},{\"id\":\"c4d4c005-6622-4342-ad52-a6cc659f29a8\",\"type\":\"BoxAnnotation\"},{\"id\":\"7e02503b-5e68-4a4e-bb6c-78a0ed560905\",\"type\":\"GlyphRenderer\"},{\"id\":\"fdc1203f-2248-4dbd-9baf-095ed18e12f1\",\"type\":\"GlyphRenderer\"},{\"id\":\"d24aef3e-8dcd-4366-aecb-70d1b79b97a5\",\"type\":\"GlyphRenderer\"},{\"id\":\"b9e56f6a-f9c4-47ad-ba1d-925e7a90f42d\",\"type\":\"GlyphRenderer\"},{\"id\":\"48be30db-b480-47ee-a09b-3154b8bbc322\",\"type\":\"GlyphRenderer\"},{\"id\":\"be070fad-412f-4b14-87a5-42e33242cef0\",\"type\":\"GlyphRenderer\"},{\"id\":\"fea847a7-7842-4bea-9211-c681b930369a\",\"type\":\"Legend\"}],\"title\":{\"id\":\"b8ad5125-0261-4b45-ba51-58026639d820\",\"type\":\"Title\"},\"toolbar\":{\"id\":\"4708f04b-df6c-4259-8151-6646341e5e1f\",\"type\":\"Toolbar\"},\"toolbar_location\":null,\"x_range\":{\"id\":\"f0717444-2985-41e1-8474-8a3eaa6044bf\",\"type\":\"Range1d\"},\"x_scale\":{\"id\":\"2ffca587-fbf1-481f-9dc0-3bb7b4d250d5\",\"type\":\"LinearScale\"},\"y_range\":{\"id\":\"6e35c7c0-3a74-4d24-8137-8cc48a235c05\",\"type\":\"Range1d\"},\"y_scale\":{\"id\":\"2376e80d-dbae-4d60-a440-f04c589efc47\",\"type\":\"LinearScale\"}},\"id\":\"0b599fd8-9c42-4d16-99f2-0676f59c5e19\",\"subtype\":\"Figure\",\"type\":\"Plot\"},{\"attributes\":{\"dimension\":1,\"plot\":{\"id\":\"0b599fd8-9c42-4d16-99f2-0676f59c5e19\",\"subtype\":\"Figure\",\"type\":\"Plot\"},\"ticker\":{\"id\":\"8ea922d0-4ccc-4f6a-8c50-3b7648875093\",\"type\":\"BasicTicker\"}},\"id\":\"ec74242b-da4e-4cc3-b090-05375ba040f5\",\"type\":\"Grid\"},{\"attributes\":{\"axis_label\":\"pressure [mb]\",\"formatter\":{\"id\":\"d124e540-3d2e-41d4-b4b5-5424a49b83c2\",\"type\":\"BasicTickFormatter\"},\"plot\":{\"id\":\"0b599fd8-9c42-4d16-99f2-0676f59c5e19\",\"subtype\":\"Figure\",\"type\":\"Plot\"},\"ticker\":{\"id\":\"8ea922d0-4ccc-4f6a-8c50-3b7648875093\",\"type\":\"BasicTicker\"}},\"id\":\"1700ea16-7a65-457c-affa-15746398a963\",\"type\":\"LinearAxis\"},{\"attributes\":{\"axis_label\":\"cooling rate [K/day]\",\"formatter\":{\"id\":\"133fc30f-3720-40ce-8835-e9fd37402872\",\"type\":\"BasicTickFormatter\"},\"plot\":{\"id\":\"0b599fd8-9c42-4d16-99f2-0676f59c5e19\",\"subtype\":\"Figure\",\"type\":\"Plot\"},\"ticker\":{\"id\":\"033b7b38-b883-4dcd-90f6-42379fd58d90\",\"type\":\"BasicTicker\"}},\"id\":\"26403a60-233f-4025-a33e-061f5f5da8ec\",\"type\":\"LinearAxis\"},{\"attributes\":{\"plot\":{\"id\":\"0b599fd8-9c42-4d16-99f2-0676f59c5e19\",\"subtype\":\"Figure\",\"type\":\"Plot\"},\"ticker\":{\"id\":\"033b7b38-b883-4dcd-90f6-42379fd58d90\",\"type\":\"BasicTicker\"}},\"id\":\"29647a49-1f97-4c65-97f3-ffe9de3ac1e4\",\"type\":\"Grid\"},{\"attributes\":{},\"id\":\"2376e80d-dbae-4d60-a440-f04c589efc47\",\"type\":\"LinearScale\"},{\"attributes\":{\"bottom_units\":\"screen\",\"fill_alpha\":{\"value\":0.5},\"fill_color\":{\"value\":\"lightgrey\"},\"left_units\":\"screen\",\"level\":\"overlay\",\"line_alpha\":{\"value\":1.0},\"line_color\":{\"value\":\"black\"},\"line_dash\":[4,4],\"line_width\":{\"value\":2},\"plot\":null,\"render_mode\":\"css\",\"right_units\":\"screen\",\"top_units\":\"screen\"},\"id\":\"b86d5a81-6071-4348-a7f9-c1fff5e8a806\",\"type\":\"BoxAnnotation\"},{\"attributes\":{},\"id\":\"424f7fc7-88b6-4631-bb1a-46173772a98e\",\"type\":\"UnionRenderers\"},{\"attributes\":{},\"id\":\"df883fa0-00b7-4ee3-9bff-dc3b02d28d74\",\"type\":\"HelpTool\"},{\"attributes\":{},\"id\":\"e19db80f-58b5-4330-886a-b6cd5498b8fe\",\"type\":\"SaveTool\"},{\"attributes\":{},\"id\":\"6221745e-ffed-475b-8314-b70983fa4fec\",\"type\":\"ResetTool\"},{\"attributes\":{\"fill_alpha\":{\"value\":0.7},\"fill_color\":{\"value\":\"#984ea3\"},\"line_alpha\":{\"value\":0.7},\"line_color\":{\"value\":\"#984ea3\"},\"x\":{\"field\":\"x\"},\"y\":{\"field\":\"y\"}},\"id\":\"0483ec17-b038-4fe0-a9d2-16d26fe33ceb\",\"type\":\"Square\"},{\"attributes\":{\"line_alpha\":0.1,\"line_color\":\"#1f77b4\",\"line_width\":1.5,\"x\":{\"field\":\"x\"},\"y\":{\"field\":\"y\"}},\"id\":\"6a9bff2a-54c6-4d9c-8cd2-06f3b0109247\",\"type\":\"Line\"},{\"attributes\":{\"source\":{\"id\":\"3bacba68-180f-4b3b-bac6-024cc56cb12a\",\"type\":\"ColumnDataSource\"}},\"id\":\"dd2d6627-d2e5-49cd-8f73-a6713e970698\",\"type\":\"CDSView\"},{\"attributes\":{\"overlay\":{\"id\":\"b86d5a81-6071-4348-a7f9-c1fff5e8a806\",\"type\":\"BoxAnnotation\"}},\"id\":\"b0fc7e06-2df5-48ad-af0c-fe0881daaaf7\",\"type\":\"BoxZoomTool\"},{\"attributes\":{\"callback\":null,\"data\":{\"x\":{\"__ndarray__\":\"B1APiohu4b6C7wxMJ3DhvqDFC9ryb+G+eL9wjIBu4b6BLJJgXmrhvoac5bIWZOG+79G1llJb4b5BuMXxF1DhvqzG7bMcQuG+7meJf2wx4b7ef2aN4x3hvuNZBsB6B+G+yntMrg/u4L779s3yj8/gvjsI4WKsXOC+/sK6AM633L5EYKJ8FrbRvq6zOkEEMKk+oM1Xj15l4z7nDCJSvSD4PgtyIbRLUwc/ud7KVOInFD+spgFmTaIdP3q5yFMRjx4/szeh4hTlFj8wsctV8XMOPyMEaFqR0wI/y1IKEr5A9T77MtS6i5nkPiIoYIUgp8c+bfwR08Sgwb7+73V8fhbXvkO04bTf0d++W+kVwiWs4r47/nnmLfrkvpQS6me5Bee+l133fVyF6L5Y/M90YJrpvrma0lp2luq+PHDhENVv7L6ey5H996P1vuXQdvPldwq/Okt7GC/6GL/uN4n+qbQhv8BfW+HEmh+/MoWlq+mjBD+MaEodDMg3P3ITdNi7t00/1xwEzjp8XD9XA5JPjOVnP1mUUeaYjHI/9Jz0BxGMej+2SLOhdhKCPwjywBqa2oc/RzHMS/a2jj9DuND0VVuTP9/gwU6u+5c/wInCWVOanj+ABGrWviWjP0CIx/JsXqc/7TxA4wHmqz/7Cpri5l6wPwx6LfAu+rI/umjz+PC+tT9ker1ZVb+4P1wRJe9W9bs/jNXD8EFqvz+H9LBXJX/BPzjDCD9DSMM/0c9vdxEIxT+E3PBz78XGP9LtfLKvi8g/5VPBleVsyj8fRbx9JnfMP7p3U2EazM4/\",\"dtype\":\"float64\",\"shape\":[75]},\"y\":{\"__ndarray__\":\"GhExyth1ND/Sv8nbtpRIP2vylNV0PVE/aTum7souWD/At0SJ8fVgPw3Iuahxymc/MSNhhJWvcD/bTfBN02d3P2zb5nxnaoA/CD5h5MAGhz8NmeH1TyaQP+zrCsc9p5Y/LbKd76fGnz/bLW5ISEmmPww9YvTcQq8/JV2OstnstT8Er5Y7M8G+P0c+r3jqkcU/5h99k6ZBzj88bCIzFzjVP4enV8oyxN0//yH99nXg5D8qOpLLf0jtP5kqGJXUifQ/c9cS8kHP/D+/DpwzojQEQIEmwoanVwxA4lgXt9HgE0BSSZ2AJuIbQAMJih9jjiNA5q4l5INuK0AwTKYKRj0zQNv5fmq8/DpAaCJseHrtQkB/+zpwzoxKQM3MzMzMeFJAZmZmZmZqWEAAAAAAAFxeQM3MzMzMJmJAmpmZmZkfZUBmZmZmZhhoQDMzMzMzEWtAAAAAAAAKbkBmZmZmZoFwQM3MzMzM/XFAMzMzMzN6c0CamZmZmfZ0QAAAAAAAc3ZAZmZmZmbvd0DNzMzMzGt5QDMzMzMz6HpAmpmZmZlkfEAAAAAAAOF9QGZmZmZmXX9AZmZmZuZsgECamZmZGSuBQM3MzMxM6YFAAAAAAICngkAzMzMzs2WDQGZmZmbmI4RAmpmZmRnihEDNzMzMTKCFQAAAAACAXoZAMzMzM7Mch0BmZmZm5tqHQJqZmZkZmYhAzczMzExXiUAAAAAAgBWKQDMzMzOz04pAZmZmZuaRi0CamZmZGVCMQM3MzMxMDo1AAAAAAIDMjUAzMzMzs4qOQGZmZmbmSI9A\",\"dtype\":\"float64\",\"shape\":[75]}},\"selected\":{\"id\":\"05331e1d-66b3-4406-8f2a-b42303c05a9a\",\"type\":\"Selection\"},\"selection_policy\":{\"id\":\"bd36788a-fb0b-4544-9559-06bababe777e\",\"type\":\"UnionRenderers\"}},\"id\":\"8dfd1b00-d736-429c-8965-c7f0152a9a86\",\"type\":\"ColumnDataSource\"},{\"attributes\":{\"line_color\":\"#4daf4a\",\"line_width\":1.5,\"x\":{\"field\":\"x\"},\"y\":{\"field\":\"y\"}},\"id\":\"6aef944f-8682-4a9a-a616-b153f33a0cee\",\"type\":\"Line\"},{\"attributes\":{},\"id\":\"79b1923f-73b3-48df-a733-1f345e9079dd\",\"type\":\"Selection\"},{\"attributes\":{},\"id\":\"717d9c9e-afff-4910-94c1-517f5510f6f4\",\"type\":\"UnionRenderers\"},{\"attributes\":{\"source\":{\"id\":\"9e9413bf-8ef7-42b4-9ca6-f666c48f5135\",\"type\":\"ColumnDataSource\"}},\"id\":\"4140c935-a726-47b5-95fd-2843af5d4d3a\",\"type\":\"CDSView\"},{\"attributes\":{\"fill_alpha\":{\"value\":0.7},\"fill_color\":{\"value\":\"#4daf4a\"},\"line_alpha\":{\"value\":0.7},\"line_color\":{\"value\":\"#4daf4a\"},\"x\":{\"field\":\"x\"},\"y\":{\"field\":\"y\"}},\"id\":\"3835bd08-5469-45f2-a109-fce8eacc65b5\",\"type\":\"Circle\"},{\"attributes\":{\"callback\":null,\"data\":{\"x\":{\"__ndarray__\":\"B1APiohu4b6C7wxMJ3DhvqDFC9ryb+G+eL9wjIBu4b6BLJJgXmrhvoac5bIWZOG+79G1llJb4b5BuMXxF1DhvqzG7bMcQuG+7meJf2wx4b7ef2aN4x3hvuNZBsB6B+G+yntMrg/u4L779s3yj8/gvjsI4WKsXOC+/sK6AM633L5EYKJ8FrbRvq6zOkEEMKk+oM1Xj15l4z7nDCJSvSD4PgtyIbRLUwc/ud7KVOInFD+spgFmTaIdP3q5yFMRjx4/szeh4hTlFj8wsctV8XMOPyMEaFqR0wI/y1IKEr5A9T77MtS6i5nkPiIoYIUgp8c+bfwR08Sgwb7+73V8fhbXvkO04bTf0d++W+kVwiWs4r47/nnmLfrkvpQS6me5Bee+l133fVyF6L5Y/M90YJrpvrma0lp2luq+PHDhENVv7L6ey5H996P1vuXQdvPldwq/Okt7GC/6GL/uN4n+qbQhv8BfW+HEmh+/MoWlq+mjBD+MaEodDMg3P3ITdNi7t00/1xwEzjp8XD9XA5JPjOVnP1mUUeaYjHI/9Jz0BxGMej+2SLOhdhKCPwjywBqa2oc/RzHMS/a2jj9DuND0VVuTP9/gwU6u+5c/wInCWVOanj+ABGrWviWjP0CIx/JsXqc/7TxA4wHmqz/7Cpri5l6wPwx6LfAu+rI/umjz+PC+tT9ker1ZVb+4P1wRJe9W9bs/jNXD8EFqvz+H9LBXJX/BPzjDCD9DSMM/0c9vdxEIxT+E3PBz78XGP9LtfLKvi8g/5VPBleVsyj8fRbx9JnfMP7p3U2EazM4/\",\"dtype\":\"float64\",\"shape\":[75]},\"y\":{\"__ndarray__\":\"GhExyth1ND/Sv8nbtpRIP2vylNV0PVE/aTum7souWD/At0SJ8fVgPw3Iuahxymc/MSNhhJWvcD/bTfBN02d3P2zb5nxnaoA/CD5h5MAGhz8NmeH1TyaQP+zrCsc9p5Y/LbKd76fGnz/bLW5ISEmmPww9YvTcQq8/JV2OstnstT8Er5Y7M8G+P0c+r3jqkcU/5h99k6ZBzj88bCIzFzjVP4enV8oyxN0//yH99nXg5D8qOpLLf0jtP5kqGJXUifQ/c9cS8kHP/D+/DpwzojQEQIEmwoanVwxA4lgXt9HgE0BSSZ2AJuIbQAMJih9jjiNA5q4l5INuK0AwTKYKRj0zQNv5fmq8/DpAaCJseHrtQkB/+zpwzoxKQM3MzMzMeFJAZmZmZmZqWEAAAAAAAFxeQM3MzMzMJmJAmpmZmZkfZUBmZmZmZhhoQDMzMzMzEWtAAAAAAAAKbkBmZmZmZoFwQM3MzMzM/XFAMzMzMzN6c0CamZmZmfZ0QAAAAAAAc3ZAZmZmZmbvd0DNzMzMzGt5QDMzMzMz6HpAmpmZmZlkfEAAAAAAAOF9QGZmZmZmXX9AZmZmZuZsgECamZmZGSuBQM3MzMxM6YFAAAAAAICngkAzMzMzs2WDQGZmZmbmI4RAmpmZmRnihEDNzMzMTKCFQAAAAACAXoZAMzMzM7Mch0BmZmZm5tqHQJqZmZkZmYhAzczMzExXiUAAAAAAgBWKQDMzMzOz04pAZmZmZuaRi0CamZmZGVCMQM3MzMxMDo1AAAAAAIDMjUAzMzMzs4qOQGZmZmbmSI9A\",\"dtype\":\"float64\",\"shape\":[75]}},\"selected\":{\"id\":\"79b1923f-73b3-48df-a733-1f345e9079dd\",\"type\":\"Selection\"},\"selection_policy\":{\"id\":\"424f7fc7-88b6-4631-bb1a-46173772a98e\",\"type\":\"UnionRenderers\"}},\"id\":\"a99029af-eae7-45b0-8041-afc37eb23bbc\",\"type\":\"ColumnDataSource\"},{\"attributes\":{\"callback\":null,\"data\":{\"x\":{\"__ndarray__\":\"21ymgiBH5r49eiZZNzbmvu2VW6XKCea+IPs0nBHV5b4x1v8CXZ3lvmitq2zmXeW+fMdPO7oa5b5CgGdswNDkviFLtc89gOS+Et8KrWoq5L5qZCowl83jvi9/3e4PauO+LVf/HKL/4r707kEI2YXivsnz/Xph7OC+G/Ofj8rY1b6Rvq39vcK5PmdI/M9nnus+J/KXfMO+AD/XuzBOFAgQPzU0y29Loxs/LMbDbhFdJj8w7gsggLcvP8ZMlfeMRjA/YD3rKxTnKD/0hfunuTAhPxrJgd85hhY/KDkSZi0XDD9ipOa0+pkAP2elRDrLqPE+wdh2gvzZ2j7Uq0ptn0OrvvokMk94UNW+5ifOHbiW377J+/FRLJrjvjxPt4f5fua+mCrsTOMe6L5ClxgXnProvsOqpheGxem+4HbDFI04677gpxUFxNbzvhKIt57JBwa/cgz9DhgsEb/gQI9zsbEMvyz4gOgGQhA/Ot4Lng5fNj9VZCz0zmJKP5leY+yp6lg/TPMuaT3sZD8s9WgNpEBwPzqwbC1Q03c/fTgcWKpagD8W3FK5V46FP2pXXhWuuYs/wYkC47t5kT/OpJXP7qiVP6jcjHCdepo/Ju+1wuG1oD/m4rRP47ikP4CbzI6JGqk/YDhgIqHXrT+8d4NREXOxP275v1gcJLQ/hL7Gvvz/tj/Do1DAvQW6P/LNC7dJM70/Bul4uFw+wD/gUNwX7uHBP+EEJVOlcMM/YtVFbmvixD9nGOKMLUHGP+q9Gh9rn8c/5Hd1cxoOyT8wif9nkKPKP4MPvwnnjcw/\",\"dtype\":\"float64\",\"shape\":[75]},\"y\":{\"__ndarray__\":\"GhExyth1ND/Sv8nbtpRIP2vylNV0PVE/aTum7souWD/At0SJ8fVgPw3Iuahxymc/MSNhhJWvcD/bTfBN02d3P2zb5nxnaoA/CD5h5MAGhz8NmeH1TyaQP+zrCsc9p5Y/LbKd76fGnz/bLW5ISEmmPww9YvTcQq8/JV2OstnstT8Er5Y7M8G+P0c+r3jqkcU/5h99k6ZBzj88bCIzFzjVP4enV8oyxN0//yH99nXg5D8qOpLLf0jtP5kqGJXUifQ/c9cS8kHP/D+/DpwzojQEQIEmwoanVwxA4lgXt9HgE0BSSZ2AJuIbQAMJih9jjiNA5q4l5INuK0AwTKYKRj0zQNv5fmq8/DpAaCJseHrtQkB/+zpwzoxKQM3MzMzMeFJAZmZmZmZqWEAAAAAAAFxeQM3MzMzMJmJAmpmZmZkfZUBmZmZmZhhoQDMzMzMzEWtAAAAAAAAKbkBmZmZmZoFwQM3MzMzM/XFAMzMzMzN6c0CamZmZmfZ0QAAAAAAAc3ZAZmZmZmbvd0DNzMzMzGt5QDMzMzMz6HpAmpmZmZlkfEAAAAAAAOF9QGZmZmZmXX9AZmZmZuZsgECamZmZGSuBQM3MzMxM6YFAAAAAAICngkAzMzMzs2WDQGZmZmbmI4RAmpmZmRnihEDNzMzMTKCFQAAAAACAXoZAMzMzM7Mch0BmZmZm5tqHQJqZmZkZmYhAzczMzExXiUAAAAAAgBWKQDMzMzOz04pAZmZmZuaRi0CamZmZGVCMQM3MzMxMDo1AAAAAAIDMjUAzMzMzs4qOQGZmZmbmSI9A\",\"dtype\":\"float64\",\"shape\":[75]}},\"selected\":{\"id\":\"762c0113-9064-414d-a7ff-d6ea276c42f2\",\"type\":\"Selection\"},\"selection_policy\":{\"id\":\"226b0b42-c104-403f-9137-0c23e4e6266a\",\"type\":\"UnionRenderers\"}},\"id\":\"3bacba68-180f-4b3b-bac6-024cc56cb12a\",\"type\":\"ColumnDataSource\"},{\"attributes\":{\"fill_alpha\":{\"value\":0.1},\"fill_color\":{\"value\":\"#1f77b4\"},\"line_alpha\":{\"value\":0.1},\"line_color\":{\"value\":\"#1f77b4\"},\"x\":{\"field\":\"x\"},\"y\":{\"field\":\"y\"}},\"id\":\"77cb5139-ca9a-47ff-b9f0-bff93d65f36c\",\"type\":\"Square\"},{\"attributes\":{\"fill_alpha\":{\"value\":0.1},\"fill_color\":{\"value\":\"#1f77b4\"},\"line_alpha\":{\"value\":0.1},\"line_color\":{\"value\":\"#1f77b4\"},\"x\":{\"field\":\"x\"},\"y\":{\"field\":\"y\"}},\"id\":\"25e2c683-63ef-44c2-8919-cb15084281f7\",\"type\":\"Square\"},{\"attributes\":{\"data_source\":{\"id\":\"3bacba68-180f-4b3b-bac6-024cc56cb12a\",\"type\":\"ColumnDataSource\"},\"glyph\":{\"id\":\"098b8fad-0d6a-4843-b287-90ad15ebb7f3\",\"type\":\"Line\"},\"hover_glyph\":null,\"muted_glyph\":null,\"nonselection_glyph\":{\"id\":\"6a9bff2a-54c6-4d9c-8cd2-06f3b0109247\",\"type\":\"Line\"},\"selection_glyph\":null,\"view\":{\"id\":\"dd2d6627-d2e5-49cd-8f73-a6713e970698\",\"type\":\"CDSView\"}},\"id\":\"0c424237-eb97-41e2-ae38-07e974629e8f\",\"type\":\"GlyphRenderer\"},{\"attributes\":{\"data_source\":{\"id\":\"a99029af-eae7-45b0-8041-afc37eb23bbc\",\"type\":\"ColumnDataSource\"},\"glyph\":{\"id\":\"f9aaeaad-079a-4f2b-ba22-01ae4e9d16ee\",\"type\":\"Square\"},\"hover_glyph\":null,\"muted_glyph\":null,\"nonselection_glyph\":{\"id\":\"77cb5139-ca9a-47ff-b9f0-bff93d65f36c\",\"type\":\"Square\"},\"selection_glyph\":null,\"view\":{\"id\":\"0445a2ec-dccc-4c8e-813f-adef6c4fb8e2\",\"type\":\"CDSView\"}},\"id\":\"d24aef3e-8dcd-4366-aecb-70d1b79b97a5\",\"type\":\"GlyphRenderer\"},{\"attributes\":{\"data_source\":{\"id\":\"8dfd1b00-d736-429c-8965-c7f0152a9a86\",\"type\":\"ColumnDataSource\"},\"glyph\":{\"id\":\"0483ec17-b038-4fe0-a9d2-16d26fe33ceb\",\"type\":\"Square\"},\"hover_glyph\":null,\"muted_glyph\":null,\"nonselection_glyph\":{\"id\":\"25e2c683-63ef-44c2-8919-cb15084281f7\",\"type\":\"Square\"},\"selection_glyph\":null,\"view\":{\"id\":\"d4e79ff3-bf9d-4d47-951c-d374bfb1964c\",\"type\":\"CDSView\"}},\"id\":\"7469613a-7d1c-4fe4-82b5-c2cff65fad96\",\"type\":\"GlyphRenderer\"},{\"attributes\":{\"line_color\":\"#4daf4a\",\"line_width\":1.5,\"x\":{\"field\":\"x\"},\"y\":{\"field\":\"y\"}},\"id\":\"098b8fad-0d6a-4843-b287-90ad15ebb7f3\",\"type\":\"Line\"},{\"attributes\":{\"source\":{\"id\":\"f55ce647-b877-41e4-ade5-3252f1589228\",\"type\":\"ColumnDataSource\"}},\"id\":\"a98925ef-3609-4239-936f-571f25e87148\",\"type\":\"CDSView\"},{\"attributes\":{\"callback\":null,\"data\":{\"x\":{\"__ndarray__\":\"B1APiohu4b6C7wxMJ3DhvqDFC9ryb+G+eL9wjIBu4b6BLJJgXmrhvoac5bIWZOG+79G1llJb4b5BuMXxF1DhvqzG7bMcQuG+7meJf2wx4b7ef2aN4x3hvuNZBsB6B+G+yntMrg/u4L779s3yj8/gvjsI4WKsXOC+/sK6AM633L5EYKJ8FrbRvq6zOkEEMKk+oM1Xj15l4z7nDCJSvSD4PgtyIbRLUwc/ud7KVOInFD+spgFmTaIdP3q5yFMRjx4/szeh4hTlFj8wsctV8XMOPyMEaFqR0wI/y1IKEr5A9T77MtS6i5nkPiIoYIUgp8c+bfwR08Sgwb7+73V8fhbXvkO04bTf0d++W+kVwiWs4r47/nnmLfrkvpQS6me5Bee+l133fVyF6L5Y/M90YJrpvrma0lp2luq+PHDhENVv7L6ey5H996P1vuXQdvPldwq/Okt7GC/6GL/uN4n+qbQhv8BfW+HEmh+/MoWlq+mjBD+MaEodDMg3P3ITdNi7t00/1xwEzjp8XD9XA5JPjOVnP1mUUeaYjHI/9Jz0BxGMej+2SLOhdhKCPwjywBqa2oc/RzHMS/a2jj9DuND0VVuTP9/gwU6u+5c/wInCWVOanj+ABGrWviWjP0CIx/JsXqc/7TxA4wHmqz/7Cpri5l6wPwx6LfAu+rI/umjz+PC+tT9ker1ZVb+4P1wRJe9W9bs/jNXD8EFqvz+H9LBXJX/BPzjDCD9DSMM/0c9vdxEIxT+E3PBz78XGP9LtfLKvi8g/5VPBleVsyj8fRbx9JnfMP7p3U2EazM4/\",\"dtype\":\"float64\",\"shape\":[75]},\"y\":{\"__ndarray__\":\"GhExyth1ND/Sv8nbtpRIP2vylNV0PVE/aTum7souWD/At0SJ8fVgPw3Iuahxymc/MSNhhJWvcD/bTfBN02d3P2zb5nxnaoA/CD5h5MAGhz8NmeH1TyaQP+zrCsc9p5Y/LbKd76fGnz/bLW5ISEmmPww9YvTcQq8/JV2OstnstT8Er5Y7M8G+P0c+r3jqkcU/5h99k6ZBzj88bCIzFzjVP4enV8oyxN0//yH99nXg5D8qOpLLf0jtP5kqGJXUifQ/c9cS8kHP/D+/DpwzojQEQIEmwoanVwxA4lgXt9HgE0BSSZ2AJuIbQAMJih9jjiNA5q4l5INuK0AwTKYKRj0zQNv5fmq8/DpAaCJseHrtQkB/+zpwzoxKQM3MzMzMeFJAZmZmZmZqWEAAAAAAAFxeQM3MzMzMJmJAmpmZmZkfZUBmZmZmZhhoQDMzMzMzEWtAAAAAAAAKbkBmZmZmZoFwQM3MzMzM/XFAMzMzMzN6c0CamZmZmfZ0QAAAAAAAc3ZAZmZmZmbvd0DNzMzMzGt5QDMzMzMz6HpAmpmZmZlkfEAAAAAAAOF9QGZmZmZmXX9AZmZmZuZsgECamZmZGSuBQM3MzMxM6YFAAAAAAICngkAzMzMzs2WDQGZmZmbmI4RAmpmZmRnihEDNzMzMTKCFQAAAAACAXoZAMzMzM7Mch0BmZmZm5tqHQJqZmZkZmYhAzczMzExXiUAAAAAAgBWKQDMzMzOz04pAZmZmZuaRi0CamZmZGVCMQM3MzMxMDo1AAAAAAIDMjUAzMzMzs4qOQGZmZmbmSI9A\",\"dtype\":\"float64\",\"shape\":[75]}},\"selected\":{\"id\":\"2cd17a5a-570a-4f7d-8e9e-47224efc361c\",\"type\":\"Selection\"},\"selection_policy\":{\"id\":\"77e37206-05ad-424f-9438-dacfee4125ce\",\"type\":\"UnionRenderers\"}},\"id\":\"3f71b723-1de4-410d-9ec5-a876a600843a\",\"type\":\"ColumnDataSource\"},{\"attributes\":{},\"id\":\"0a48e5fe-245a-4d31-8b38-46f9f42887af\",\"type\":\"UnionRenderers\"},{\"attributes\":{\"line_alpha\":0.1,\"line_color\":\"#1f77b4\",\"line_width\":1.5,\"x\":{\"field\":\"x\"},\"y\":{\"field\":\"y\"}},\"id\":\"f4cf0d3c-ae7c-45b2-9920-0e140d9ba821\",\"type\":\"Line\"},{\"attributes\":{},\"id\":\"c615dea4-d9f8-4377-919a-12b5310bebcd\",\"type\":\"Selection\"},{\"attributes\":{\"data_source\":{\"id\":\"f55ce647-b877-41e4-ade5-3252f1589228\",\"type\":\"ColumnDataSource\"},\"glyph\":{\"id\":\"6aef944f-8682-4a9a-a616-b153f33a0cee\",\"type\":\"Line\"},\"hover_glyph\":null,\"muted_glyph\":null,\"nonselection_glyph\":{\"id\":\"f4cf0d3c-ae7c-45b2-9920-0e140d9ba821\",\"type\":\"Line\"},\"selection_glyph\":null,\"view\":{\"id\":\"a98925ef-3609-4239-936f-571f25e87148\",\"type\":\"CDSView\"}},\"id\":\"fdc1203f-2248-4dbd-9baf-095ed18e12f1\",\"type\":\"GlyphRenderer\"},{\"attributes\":{\"line_alpha\":0.6,\"line_color\":\"#984ea3\",\"line_width\":3,\"x\":{\"field\":\"x\"},\"y\":{\"field\":\"y\"}},\"id\":\"bb91ceb0-2e51-40f0-9a47-9519880d9cd4\",\"type\":\"Line\"},{\"attributes\":{\"source\":{\"id\":\"a99029af-eae7-45b0-8041-afc37eb23bbc\",\"type\":\"ColumnDataSource\"}},\"id\":\"0445a2ec-dccc-4c8e-813f-adef6c4fb8e2\",\"type\":\"CDSView\"},{\"attributes\":{\"fill_alpha\":{\"value\":0.1},\"fill_color\":{\"value\":\"#1f77b4\"},\"line_alpha\":{\"value\":0.1},\"line_color\":{\"value\":\"#1f77b4\"},\"x\":{\"field\":\"x\"},\"y\":{\"field\":\"y\"}},\"id\":\"08b39f6f-766c-47d6-8c99-4b35ff12ed77\",\"type\":\"Circle\"},{\"attributes\":{\"source\":{\"id\":\"3f71b723-1de4-410d-9ec5-a876a600843a\",\"type\":\"ColumnDataSource\"}},\"id\":\"65433f5c-49b5-4b05-8179-9652879c98dd\",\"type\":\"CDSView\"},{\"attributes\":{},\"id\":\"634e3b43-289a-4f42-9d93-c711b3d1c9ab\",\"type\":\"Selection\"},{\"attributes\":{\"fill_alpha\":{\"value\":0.7},\"fill_color\":{\"value\":\"#4daf4a\"},\"line_alpha\":{\"value\":0.7},\"line_color\":{\"value\":\"#4daf4a\"},\"x\":{\"field\":\"x\"},\"y\":{\"field\":\"y\"}},\"id\":\"c02c4ec8-d965-4303-9151-eff985ec2711\",\"type\":\"Circle\"},{\"attributes\":{\"fill_alpha\":{\"value\":0.7},\"fill_color\":{\"value\":\"#984ea3\"},\"line_alpha\":{\"value\":0.7},\"line_color\":{\"value\":\"#984ea3\"},\"x\":{\"field\":\"x\"},\"y\":{\"field\":\"y\"}},\"id\":\"f9aaeaad-079a-4f2b-ba22-01ae4e9d16ee\",\"type\":\"Square\"},{\"attributes\":{\"data_source\":{\"id\":\"9e9413bf-8ef7-42b4-9ca6-f666c48f5135\",\"type\":\"ColumnDataSource\"},\"glyph\":{\"id\":\"c02c4ec8-d965-4303-9151-eff985ec2711\",\"type\":\"Circle\"},\"hover_glyph\":null,\"muted_glyph\":null,\"nonselection_glyph\":{\"id\":\"08b39f6f-766c-47d6-8c99-4b35ff12ed77\",\"type\":\"Circle\"},\"selection_glyph\":null,\"view\":{\"id\":\"4140c935-a726-47b5-95fd-2843af5d4d3a\",\"type\":\"CDSView\"}},\"id\":\"7e02503b-5e68-4a4e-bb6c-78a0ed560905\",\"type\":\"GlyphRenderer\"},{\"attributes\":{\"callback\":null,\"data\":{\"x\":{\"__ndarray__\":\"21ymgiBH5r49eiZZNzbmvu2VW6XKCea+IPs0nBHV5b4x1v8CXZ3lvmitq2zmXeW+fMdPO7oa5b5CgGdswNDkviFLtc89gOS+Et8KrWoq5L5qZCowl83jvi9/3e4PauO+LVf/HKL/4r707kEI2YXivsnz/Xph7OC+G/Ofj8rY1b6Rvq39vcK5PmdI/M9nnus+J/KXfMO+AD/XuzBOFAgQPzU0y29Loxs/LMbDbhFdJj8w7gsggLcvP8ZMlfeMRjA/YD3rKxTnKD/0hfunuTAhPxrJgd85hhY/KDkSZi0XDD9ipOa0+pkAP2elRDrLqPE+wdh2gvzZ2j7Uq0ptn0OrvvokMk94UNW+5ifOHbiW377J+/FRLJrjvjxPt4f5fua+mCrsTOMe6L5ClxgXnProvsOqpheGxem+4HbDFI04677gpxUFxNbzvhKIt57JBwa/cgz9DhgsEb/gQI9zsbEMvyz4gOgGQhA/Ot4Lng5fNj9VZCz0zmJKP5leY+yp6lg/TPMuaT3sZD8s9WgNpEBwPzqwbC1Q03c/fTgcWKpagD8W3FK5V46FP2pXXhWuuYs/wYkC47t5kT/OpJXP7qiVP6jcjHCdepo/Ju+1wuG1oD/m4rRP47ikP4CbzI6JGqk/YDhgIqHXrT+8d4NREXOxP275v1gcJLQ/hL7Gvvz/tj/Do1DAvQW6P/LNC7dJM70/Bul4uFw+wD/gUNwX7uHBP+EEJVOlcMM/YtVFbmvixD9nGOKMLUHGP+q9Gh9rn8c/5Hd1cxoOyT8wif9nkKPKP4MPvwnnjcw/\",\"dtype\":\"float64\",\"shape\":[75]},\"y\":{\"__ndarray__\":\"GhExyth1ND/Sv8nbtpRIP2vylNV0PVE/aTum7souWD/At0SJ8fVgPw3Iuahxymc/MSNhhJWvcD/bTfBN02d3P2zb5nxnaoA/CD5h5MAGhz8NmeH1TyaQP+zrCsc9p5Y/LbKd76fGnz/bLW5ISEmmPww9YvTcQq8/JV2OstnstT8Er5Y7M8G+P0c+r3jqkcU/5h99k6ZBzj88bCIzFzjVP4enV8oyxN0//yH99nXg5D8qOpLLf0jtP5kqGJXUifQ/c9cS8kHP/D+/DpwzojQEQIEmwoanVwxA4lgXt9HgE0BSSZ2AJuIbQAMJih9jjiNA5q4l5INuK0AwTKYKRj0zQNv5fmq8/DpAaCJseHrtQkB/+zpwzoxKQM3MzMzMeFJAZmZmZmZqWEAAAAAAAFxeQM3MzMzMJmJAmpmZmZkfZUBmZmZmZhhoQDMzMzMzEWtAAAAAAAAKbkBmZmZmZoFwQM3MzMzM/XFAMzMzMzN6c0CamZmZmfZ0QAAAAAAAc3ZAZmZmZmbvd0DNzMzMzGt5QDMzMzMz6HpAmpmZmZlkfEAAAAAAAOF9QGZmZmZmXX9AZmZmZuZsgECamZmZGSuBQM3MzMxM6YFAAAAAAICngkAzMzMzs2WDQGZmZmbmI4RAmpmZmRnihEDNzMzMTKCFQAAAAACAXoZAMzMzM7Mch0BmZmZm5tqHQJqZmZkZmYhAzczMzExXiUAAAAAAgBWKQDMzMzOz04pAZmZmZuaRi0CamZmZGVCMQM3MzMxMDo1AAAAAAIDMjUAzMzMzs4qOQGZmZmbmSI9A\",\"dtype\":\"float64\",\"shape\":[75]}},\"selected\":{\"id\":\"c615dea4-d9f8-4377-919a-12b5310bebcd\",\"type\":\"Selection\"},\"selection_policy\":{\"id\":\"0a48e5fe-245a-4d31-8b38-46f9f42887af\",\"type\":\"UnionRenderers\"}},\"id\":\"f55ce647-b877-41e4-ade5-3252f1589228\",\"type\":\"ColumnDataSource\"},{\"attributes\":{\"data_source\":{\"id\":\"3f71b723-1de4-410d-9ec5-a876a600843a\",\"type\":\"ColumnDataSource\"},\"glyph\":{\"id\":\"bb91ceb0-2e51-40f0-9a47-9519880d9cd4\",\"type\":\"Line\"},\"hover_glyph\":null,\"muted_glyph\":null,\"nonselection_glyph\":{\"id\":\"73ff98cd-cf5e-4372-bcc8-ad59a763f3ae\",\"type\":\"Line\"},\"selection_glyph\":null,\"view\":{\"id\":\"65433f5c-49b5-4b05-8179-9652879c98dd\",\"type\":\"CDSView\"}},\"id\":\"b9e56f6a-f9c4-47ad-ba1d-925e7a90f42d\",\"type\":\"GlyphRenderer\"},{\"attributes\":{\"fill_alpha\":{\"value\":0.1},\"fill_color\":{\"value\":\"#1f77b4\"},\"line_alpha\":{\"value\":0.1},\"line_color\":{\"value\":\"#1f77b4\"},\"x\":{\"field\":\"x\"},\"y\":{\"field\":\"y\"}},\"id\":\"b201a9ae-07ff-4aa3-a54c-19d985da4dfa\",\"type\":\"Circle\"},{\"attributes\":{\"fill_alpha\":{\"value\":0.1},\"fill_color\":{\"value\":\"#1f77b4\"},\"line_alpha\":{\"value\":0.1},\"line_color\":{\"value\":\"#1f77b4\"},\"x\":{\"field\":\"x\"},\"y\":{\"field\":\"y\"}},\"id\":\"d3379d11-2c41-4b47-a0bf-26ffa069e341\",\"type\":\"Triangle\"},{\"attributes\":{\"line_alpha\":0.1,\"line_color\":\"#1f77b4\",\"line_width\":3,\"x\":{\"field\":\"x\"},\"y\":{\"field\":\"y\"}},\"id\":\"73ff98cd-cf5e-4372-bcc8-ad59a763f3ae\",\"type\":\"Line\"},{\"attributes\":{\"callback\":null,\"data\":{\"x\":{\"__ndarray__\":\"BmGV+Gts4L4YbxmZOnHgvsh0MAF1eOC+XxiMwZF/4L5E0EUfWYTgvgsOOodZh+C+7YkMpcmI4L4Wst4l/YfgvgudtTFFheC+bCh0dkeA4L67Ew/yMHngvl0PBzzSb+C+h/1u3B5k4L4fJzYDBVXgvguMI5hlFOC+fDecjbmH3b4czoT89ofVvtp1Tj40Xba+6Pj/Lpxg1j705SlyGRrxPmrqEL1UoQE/iKlMN69uDz9oXF9sTXUXPwGIXIuhNhg/rpQ5ZM7xET+GUfNmWWUHP27b02Ze8fs+7udUh1t27T5qkZIJBefXPkykqFopQ4Q+b9ggbykUz75w2eJJkpPavnRhKdFOo+C+wNxdmqLI4r4p88YTG5rkvjMi2ibXP+a+OafqPG2K575m0+k0E43ovpHqJU3Qeem+HMd7n+pO676cst1L+g71vv22PZT+qQq/LIyMK8i4Gr9rbhdEKlIlv/lEi8cYeSm/Ba/2/CArGr+cv9UcrEciP9y7IOpLuEI/qx7E8fW+VD+pOPfT9NliP5ocAA91wG4/1u7ZvIXedj/7e0d8NQ2AP0ucpjcIuoU/ULYbWQaQjD+Ek+XKtlGSP8QLqtXsBJc/aM9sbRa1nT+QJWtN5b+iP/7RJc99Aac/B31Y1EiQqz/+Kabp6y2wPxvlwV+RtLI/faJ7blJltT9sVUqDZk24P6gZ/kVjfLs/4i1a98T3vj8w60TQOFfBPzKtV9XuPsM/1KnyhkInxT84A4jsjxHHP6s/oSJ3Bsk/tzGh+YgOyz+h1w6rYDnNP1atHS3Un88/\",\"dtype\":\"float64\",\"shape\":[75]},\"y\":{\"__ndarray__\":\"GhExyth1ND/Sv8nbtpRIP2vylNV0PVE/aTum7souWD/At0SJ8fVgPw3Iuahxymc/MSNhhJWvcD/bTfBN02d3P2zb5nxnaoA/CD5h5MAGhz8NmeH1TyaQP+zrCsc9p5Y/LbKd76fGnz/bLW5ISEmmPww9YvTcQq8/JV2OstnstT8Er5Y7M8G+P0c+r3jqkcU/5h99k6ZBzj88bCIzFzjVP4enV8oyxN0//yH99nXg5D8qOpLLf0jtP5kqGJXUifQ/c9cS8kHP/D+/DpwzojQEQIEmwoanVwxA4lgXt9HgE0BSSZ2AJuIbQAMJih9jjiNA5q4l5INuK0AwTKYKRj0zQNv5fmq8/DpAaCJseHrtQkB/+zpwzoxKQM3MzMzMeFJAZmZmZmZqWEAAAAAAAFxeQM3MzMzMJmJAmpmZmZkfZUBmZmZmZhhoQDMzMzMzEWtAAAAAAAAKbkBmZmZmZoFwQM3MzMzM/XFAMzMzMzN6c0CamZmZmfZ0QAAAAAAAc3ZAZmZmZmbvd0DNzMzMzGt5QDMzMzMz6HpAmpmZmZlkfEAAAAAAAOF9QGZmZmZmXX9AZmZmZuZsgECamZmZGSuBQM3MzMxM6YFAAAAAAICngkAzMzMzs2WDQGZmZmbmI4RAmpmZmRnihEDNzMzMTKCFQAAAAACAXoZAMzMzM7Mch0BmZmZm5tqHQJqZmZkZmYhAzczMzExXiUAAAAAAgBWKQDMzMzOz04pAZmZmZuaRi0CamZmZGVCMQM3MzMxMDo1AAAAAAIDMjUAzMzMzs4qOQGZmZmbmSI9A\",\"dtype\":\"float64\",\"shape\":[75]}},\"selected\":{\"id\":\"ee92bf7e-c2ab-4748-ae48-4b932a04fd51\",\"type\":\"Selection\"},\"selection_policy\":{\"id\":\"071ccd09-f5e2-4a9a-b04c-01dc1a0eaaa2\",\"type\":\"UnionRenderers\"}},\"id\":\"869a6bb9-583a-441b-b5a1-8e71a6516fa5\",\"type\":\"ColumnDataSource\"},{\"attributes\":{\"fill_alpha\":{\"value\":0.7},\"fill_color\":{\"value\":\"#377eb8\"},\"line_alpha\":{\"value\":0.7},\"line_color\":{\"value\":\"#377eb8\"},\"x\":{\"field\":\"x\"},\"y\":{\"field\":\"y\"}},\"id\":\"ab723d1f-993b-4ed2-bc11-84225b14c8eb\",\"type\":\"Triangle\"},{\"attributes\":{\"callback\":null,\"data\":{\"x\":{\"__ndarray__\":\"BmGV+Gts4L4YbxmZOnHgvsh0MAF1eOC+XxiMwZF/4L5E0EUfWYTgvgsOOodZh+C+7YkMpcmI4L4Wst4l/YfgvgudtTFFheC+bCh0dkeA4L67Ew/yMHngvl0PBzzSb+C+h/1u3B5k4L4fJzYDBVXgvguMI5hlFOC+fDecjbmH3b4czoT89ofVvtp1Tj40Xba+6Pj/Lpxg1j705SlyGRrxPmrqEL1UoQE/iKlMN69uDz9oXF9sTXUXPwGIXIuhNhg/rpQ5ZM7xET+GUfNmWWUHP27b02Ze8fs+7udUh1t27T5qkZIJBefXPkykqFopQ4Q+b9ggbykUz75w2eJJkpPavnRhKdFOo+C+wNxdmqLI4r4p88YTG5rkvjMi2ibXP+a+OafqPG2K575m0+k0E43ovpHqJU3Qeem+HMd7n+pO676cst1L+g71vv22PZT+qQq/LIyMK8i4Gr9rbhdEKlIlv/lEi8cYeSm/Ba/2/CArGr+cv9UcrEciP9y7IOpLuEI/qx7E8fW+VD+pOPfT9NliP5ocAA91wG4/1u7ZvIXedj/7e0d8NQ2AP0ucpjcIuoU/ULYbWQaQjD+Ek+XKtlGSP8QLqtXsBJc/aM9sbRa1nT+QJWtN5b+iP/7RJc99Aac/B31Y1EiQqz/+Kabp6y2wPxvlwV+RtLI/faJ7blJltT9sVUqDZk24P6gZ/kVjfLs/4i1a98T3vj8w60TQOFfBPzKtV9XuPsM/1KnyhkInxT84A4jsjxHHP6s/oSJ3Bsk/tzGh+YgOyz+h1w6rYDnNP1atHS3Un88/\",\"dtype\":\"float64\",\"shape\":[75]},\"y\":{\"__ndarray__\":\"GhExyth1ND/Sv8nbtpRIP2vylNV0PVE/aTum7souWD/At0SJ8fVgPw3Iuahxymc/MSNhhJWvcD/bTfBN02d3P2zb5nxnaoA/CD5h5MAGhz8NmeH1TyaQP+zrCsc9p5Y/LbKd76fGnz/bLW5ISEmmPww9YvTcQq8/JV2OstnstT8Er5Y7M8G+P0c+r3jqkcU/5h99k6ZBzj88bCIzFzjVP4enV8oyxN0//yH99nXg5D8qOpLLf0jtP5kqGJXUifQ/c9cS8kHP/D+/DpwzojQEQIEmwoanVwxA4lgXt9HgE0BSSZ2AJuIbQAMJih9jjiNA5q4l5INuK0AwTKYKRj0zQNv5fmq8/DpAaCJseHrtQkB/+zpwzoxKQM3MzMzMeFJAZmZmZmZqWEAAAAAAAFxeQM3MzMzMJmJAmpmZmZkfZUBmZmZmZhhoQDMzMzMzEWtAAAAAAAAKbkBmZmZmZoFwQM3MzMzM/XFAMzMzMzN6c0CamZmZmfZ0QAAAAAAAc3ZAZmZmZmbvd0DNzMzMzGt5QDMzMzMz6HpAmpmZmZlkfEAAAAAAAOF9QGZmZmZmXX9AZmZmZuZsgECamZmZGSuBQM3MzMxM6YFAAAAAAICngkAzMzMzs2WDQGZmZmbmI4RAmpmZmRnihEDNzMzMTKCFQAAAAACAXoZAMzMzM7Mch0BmZmZm5tqHQJqZmZkZmYhAzczMzExXiUAAAAAAgBWKQDMzMzOz04pAZmZmZuaRi0CamZmZGVCMQM3MzMxMDo1AAAAAAIDMjUAzMzMzs4qOQGZmZmbmSI9A\",\"dtype\":\"float64\",\"shape\":[75]}},\"selected\":{\"id\":\"db0435cb-5d14-4619-944d-1f304bc3f503\",\"type\":\"Selection\"},\"selection_policy\":{\"id\":\"3e6458bb-8076-4cfc-8155-e7f5fba752da\",\"type\":\"UnionRenderers\"}},\"id\":\"531b1795-6fef-46d9-b63c-254e31df4d22\",\"type\":\"ColumnDataSource\"},{\"attributes\":{\"data_source\":{\"id\":\"869a6bb9-583a-441b-b5a1-8e71a6516fa5\",\"type\":\"ColumnDataSource\"},\"glyph\":{\"id\":\"ab723d1f-993b-4ed2-bc11-84225b14c8eb\",\"type\":\"Triangle\"},\"hover_glyph\":null,\"muted_glyph\":null,\"nonselection_glyph\":{\"id\":\"d3379d11-2c41-4b47-a0bf-26ffa069e341\",\"type\":\"Triangle\"},\"selection_glyph\":null,\"view\":{\"id\":\"ff8d12db-45ee-4dbf-a56e-15bdfb0f61e2\",\"type\":\"CDSView\"}},\"id\":\"48be30db-b480-47ee-a09b-3154b8bbc322\",\"type\":\"GlyphRenderer\"},{\"attributes\":{\"source\":{\"id\":\"a62541e3-8c16-49d4-b518-0c30f8bb9195\",\"type\":\"ColumnDataSource\"}},\"id\":\"32566b2d-8314-4d39-a229-938b85841ad7\",\"type\":\"CDSView\"},{\"attributes\":{\"source\":{\"id\":\"869a6bb9-583a-441b-b5a1-8e71a6516fa5\",\"type\":\"ColumnDataSource\"}},\"id\":\"ff8d12db-45ee-4dbf-a56e-15bdfb0f61e2\",\"type\":\"CDSView\"},{\"attributes\":{\"line_alpha\":0.3,\"line_color\":\"#377eb8\",\"line_width\":2,\"x\":{\"field\":\"x\"},\"y\":{\"field\":\"y\"}},\"id\":\"530a7426-0fec-4f61-b2ec-1e277cb405f1\",\"type\":\"Line\"},{\"attributes\":{\"data_source\":{\"id\":\"531b1795-6fef-46d9-b63c-254e31df4d22\",\"type\":\"ColumnDataSource\"},\"glyph\":{\"id\":\"530a7426-0fec-4f61-b2ec-1e277cb405f1\",\"type\":\"Line\"},\"hover_glyph\":null,\"muted_glyph\":null,\"nonselection_glyph\":{\"id\":\"4c39fa42-7951-4040-b2de-d77421acfef9\",\"type\":\"Line\"},\"selection_glyph\":null,\"view\":{\"id\":\"6f9690e6-bc0c-412a-bf9a-cf7a2807cb0d\",\"type\":\"CDSView\"}},\"id\":\"be070fad-412f-4b14-87a5-42e33242cef0\",\"type\":\"GlyphRenderer\"},{\"attributes\":{\"line_alpha\":0.1,\"line_color\":\"#1f77b4\",\"line_width\":2,\"x\":{\"field\":\"x\"},\"y\":{\"field\":\"y\"}},\"id\":\"4c39fa42-7951-4040-b2de-d77421acfef9\",\"type\":\"Line\"},{\"attributes\":{\"above\":[{\"id\":\"226d2c23-d591-4266-b0a5-b8d91e448a04\",\"type\":\"Legend\"}],\"below\":[{\"id\":\"14761ad3-8e01-4f50-981c-b4b03e078ea7\",\"type\":\"LinearAxis\"}],\"left\":[{\"id\":\"ae30cd56-7d7e-442c-90bb-2368436a130d\",\"type\":\"LogAxis\"}],\"plot_height\":500,\"plot_width\":400,\"renderers\":[{\"id\":\"14761ad3-8e01-4f50-981c-b4b03e078ea7\",\"type\":\"LinearAxis\"},{\"id\":\"3a013ae0-1ab5-4554-9142-c324532a342d\",\"type\":\"Grid\"},{\"id\":\"ae30cd56-7d7e-442c-90bb-2368436a130d\",\"type\":\"LogAxis\"},{\"id\":\"ca8768c5-b342-4fd4-b4d6-ef3e37a28732\",\"type\":\"Grid\"},{\"id\":\"b86d5a81-6071-4348-a7f9-c1fff5e8a806\",\"type\":\"BoxAnnotation\"},{\"id\":\"eea6b13e-8e9d-4c6c-be81-4b9195985dea\",\"type\":\"GlyphRenderer\"},{\"id\":\"0c424237-eb97-41e2-ae38-07e974629e8f\",\"type\":\"GlyphRenderer\"},{\"id\":\"7469613a-7d1c-4fe4-82b5-c2cff65fad96\",\"type\":\"GlyphRenderer\"},{\"id\":\"76c8fc0b-27e6-4241-9e5f-66a07c583395\",\"type\":\"GlyphRenderer\"},{\"id\":\"bc559c7d-4a8d-49ab-9ee9-7d72e1d14c2e\",\"type\":\"GlyphRenderer\"},{\"id\":\"2512b294-7588-4f97-88eb-f9bc15294280\",\"type\":\"GlyphRenderer\"},{\"id\":\"226d2c23-d591-4266-b0a5-b8d91e448a04\",\"type\":\"Legend\"}],\"title\":{\"id\":\"49bf1423-2fec-4a8f-8734-2aff13d9b7ec\",\"type\":\"Title\"},\"toolbar\":{\"id\":\"f1a70079-f53d-40b8-87d6-148fadcc5e4d\",\"type\":\"Toolbar\"},\"toolbar_location\":null,\"x_range\":{\"id\":\"c3a6c0ff-4ec6-43b3-8ced-d634725a3757\",\"type\":\"Range1d\"},\"x_scale\":{\"id\":\"4aec5a68-003a-43a1-8db9-94827191ca09\",\"type\":\"LinearScale\"},\"y_range\":{\"id\":\"12ee310d-7a86-4224-9fd5-a3ec4ac4d226\",\"type\":\"Range1d\"},\"y_scale\":{\"id\":\"f1e2c1d1-1852-405a-9425-6badd8faa127\",\"type\":\"LogScale\"}},\"id\":\"c26bf221-14d1-4506-b5d2-e3f2b8b3f246\",\"subtype\":\"Figure\",\"type\":\"Plot\"},{\"attributes\":{\"source\":{\"id\":\"531b1795-6fef-46d9-b63c-254e31df4d22\",\"type\":\"ColumnDataSource\"}},\"id\":\"6f9690e6-bc0c-412a-bf9a-cf7a2807cb0d\",\"type\":\"CDSView\"},{\"attributes\":{\"active_drag\":\"auto\",\"active_inspect\":\"auto\",\"active_scroll\":\"auto\",\"active_tap\":\"auto\",\"tools\":[{\"id\":\"c0c79e3f-0e52-42d8-9351-32c9fc7ea11a\",\"type\":\"PanTool\"},{\"id\":\"3c5ab70d-fb2b-4b0f-8353-4aca275866c4\",\"type\":\"WheelZoomTool\"},{\"id\":\"b0fc7e06-2df5-48ad-af0c-fe0881daaaf7\",\"type\":\"BoxZoomTool\"},{\"id\":\"e19db80f-58b5-4330-886a-b6cd5498b8fe\",\"type\":\"SaveTool\"},{\"id\":\"6221745e-ffed-475b-8314-b70983fa4fec\",\"type\":\"ResetTool\"},{\"id\":\"df883fa0-00b7-4ee3-9bff-dc3b02d28d74\",\"type\":\"HelpTool\"}]},\"id\":\"f1a70079-f53d-40b8-87d6-148fadcc5e4d\",\"type\":\"Toolbar\"},{\"attributes\":{},\"id\":\"226b0b42-c104-403f-9137-0c23e4e6266a\",\"type\":\"UnionRenderers\"},{\"attributes\":{},\"id\":\"1f7b048e-ae0d-492a-9aa5-62b7fb1fe650\",\"type\":\"Selection\"},{\"attributes\":{\"label\":{\"value\":\"CRD\"},\"renderers\":[{\"id\":\"7e02503b-5e68-4a4e-bb6c-78a0ed560905\",\"type\":\"GlyphRenderer\"},{\"id\":\"fdc1203f-2248-4dbd-9baf-095ed18e12f1\",\"type\":\"GlyphRenderer\"}]},\"id\":\"8178d89c-33aa-4e13-a3c9-fc2a9e01afbb\",\"type\":\"LegendItem\"},{\"attributes\":{\"label\":{\"value\":\"WGT igg=1\"},\"renderers\":[{\"id\":\"d24aef3e-8dcd-4366-aecb-70d1b79b97a5\",\"type\":\"GlyphRenderer\"},{\"id\":\"b9e56f6a-f9c4-47ad-ba1d-925e7a90f42d\",\"type\":\"GlyphRenderer\"}]},\"id\":\"958f2a54-1d53-4c95-a6ca-37ad52e2b9c1\",\"type\":\"LegendItem\"},{\"attributes\":{},\"id\":\"4aec5a68-003a-43a1-8db9-94827191ca09\",\"type\":\"LinearScale\"},{\"attributes\":{\"label\":{\"value\":\"WGT igg=10\"},\"renderers\":[{\"id\":\"48be30db-b480-47ee-a09b-3154b8bbc322\",\"type\":\"GlyphRenderer\"},{\"id\":\"be070fad-412f-4b14-87a5-42e33242cef0\",\"type\":\"GlyphRenderer\"}]},\"id\":\"50862c4a-d062-41cc-8d5f-f09c8bfe0d70\",\"type\":\"LegendItem\"},{\"attributes\":{\"plot\":{\"id\":\"c26bf221-14d1-4506-b5d2-e3f2b8b3f246\",\"subtype\":\"Figure\",\"type\":\"Plot\"},\"ticker\":{\"id\":\"9d4dda9c-a0d4-43d9-bf18-9ae7ba139823\",\"type\":\"BasicTicker\"}},\"id\":\"3a013ae0-1ab5-4554-9142-c324532a342d\",\"type\":\"Grid\"},{\"attributes\":{},\"id\":\"f1e2c1d1-1852-405a-9425-6badd8faa127\",\"type\":\"LogScale\"},{\"attributes\":{},\"id\":\"05331e1d-66b3-4406-8f2a-b42303c05a9a\",\"type\":\"Selection\"},{\"attributes\":{\"axis_label\":\"cooling rate [K/day]\",\"formatter\":{\"id\":\"911c8183-8772-4f7f-849c-87d6e4e16ee3\",\"type\":\"BasicTickFormatter\"},\"plot\":{\"id\":\"c26bf221-14d1-4506-b5d2-e3f2b8b3f246\",\"subtype\":\"Figure\",\"type\":\"Plot\"},\"ticker\":{\"id\":\"9d4dda9c-a0d4-43d9-bf18-9ae7ba139823\",\"type\":\"BasicTicker\"}},\"id\":\"14761ad3-8e01-4f50-981c-b4b03e078ea7\",\"type\":\"LinearAxis\"},{\"attributes\":{},\"id\":\"5a9cf611-e686-4262-ad5c-fd0246f4ffb9\",\"type\":\"Selection\"},{\"attributes\":{},\"id\":\"9d4dda9c-a0d4-43d9-bf18-9ae7ba139823\",\"type\":\"BasicTicker\"},{\"attributes\":{\"axis_label\":\"pressure [mb]\",\"formatter\":{\"id\":\"7a344253-247f-4637-bab2-0e1b78f80d71\",\"type\":\"LogTickFormatter\"},\"plot\":{\"id\":\"c26bf221-14d1-4506-b5d2-e3f2b8b3f246\",\"subtype\":\"Figure\",\"type\":\"Plot\"},\"ticker\":{\"id\":\"9cabc8e3-6db0-4c87-a9d5-5ffc211026ed\",\"type\":\"LogTicker\"}},\"id\":\"ae30cd56-7d7e-442c-90bb-2368436a130d\",\"type\":\"LogAxis\"},{\"attributes\":{\"num_minor_ticks\":10},\"id\":\"9cabc8e3-6db0-4c87-a9d5-5ffc211026ed\",\"type\":\"LogTicker\"},{\"attributes\":{\"dimension\":1,\"plot\":{\"id\":\"c26bf221-14d1-4506-b5d2-e3f2b8b3f246\",\"subtype\":\"Figure\",\"type\":\"Plot\"},\"ticker\":{\"id\":\"9cabc8e3-6db0-4c87-a9d5-5ffc211026ed\",\"type\":\"LogTicker\"}},\"id\":\"ca8768c5-b342-4fd4-b4d6-ef3e37a28732\",\"type\":\"Grid\"},{\"attributes\":{\"callback\":null,\"data\":{\"x\":{\"__ndarray__\":\"21ymgiBH5r49eiZZNzbmvu2VW6XKCea+IPs0nBHV5b4x1v8CXZ3lvmitq2zmXeW+fMdPO7oa5b5CgGdswNDkviFLtc89gOS+Et8KrWoq5L5qZCowl83jvi9/3e4PauO+LVf/HKL/4r707kEI2YXivsnz/Xph7OC+G/Ofj8rY1b6Rvq39vcK5PmdI/M9nnus+J/KXfMO+AD/XuzBOFAgQPzU0y29Loxs/LMbDbhFdJj8w7gsggLcvP8ZMlfeMRjA/YD3rKxTnKD/0hfunuTAhPxrJgd85hhY/KDkSZi0XDD9ipOa0+pkAP2elRDrLqPE+wdh2gvzZ2j7Uq0ptn0OrvvokMk94UNW+5ifOHbiW377J+/FRLJrjvjxPt4f5fua+mCrsTOMe6L5ClxgXnProvsOqpheGxem+4HbDFI04677gpxUFxNbzvhKIt57JBwa/cgz9DhgsEb/gQI9zsbEMvyz4gOgGQhA/Ot4Lng5fNj9VZCz0zmJKP5leY+yp6lg/TPMuaT3sZD8s9WgNpEBwPzqwbC1Q03c/fTgcWKpagD8W3FK5V46FP2pXXhWuuYs/wYkC47t5kT/OpJXP7qiVP6jcjHCdepo/Ju+1wuG1oD/m4rRP47ikP4CbzI6JGqk/YDhgIqHXrT+8d4NREXOxP275v1gcJLQ/hL7Gvvz/tj/Do1DAvQW6P/LNC7dJM70/Bul4uFw+wD/gUNwX7uHBP+EEJVOlcMM/YtVFbmvixD9nGOKMLUHGP+q9Gh9rn8c/5Hd1cxoOyT8wif9nkKPKP4MPvwnnjcw/\",\"dtype\":\"float64\",\"shape\":[75]},\"y\":{\"__ndarray__\":\"GhExyth1ND/Sv8nbtpRIP2vylNV0PVE/aTum7souWD/At0SJ8fVgPw3Iuahxymc/MSNhhJWvcD/bTfBN02d3P2zb5nxnaoA/CD5h5MAGhz8NmeH1TyaQP+zrCsc9p5Y/LbKd76fGnz/bLW5ISEmmPww9YvTcQq8/JV2OstnstT8Er5Y7M8G+P0c+r3jqkcU/5h99k6ZBzj88bCIzFzjVP4enV8oyxN0//yH99nXg5D8qOpLLf0jtP5kqGJXUifQ/c9cS8kHP/D+/DpwzojQEQIEmwoanVwxA4lgXt9HgE0BSSZ2AJuIbQAMJih9jjiNA5q4l5INuK0AwTKYKRj0zQNv5fmq8/DpAaCJseHrtQkB/+zpwzoxKQM3MzMzMeFJAZmZmZmZqWEAAAAAAAFxeQM3MzMzMJmJAmpmZmZkfZUBmZmZmZhhoQDMzMzMzEWtAAAAAAAAKbkBmZmZmZoFwQM3MzMzM/XFAMzMzMzN6c0CamZmZmfZ0QAAAAAAAc3ZAZmZmZmbvd0DNzMzMzGt5QDMzMzMz6HpAmpmZmZlkfEAAAAAAAOF9QGZmZmZmXX9AZmZmZuZsgECamZmZGSuBQM3MzMxM6YFAAAAAAICngkAzMzMzs2WDQGZmZmbmI4RAmpmZmRnihEDNzMzMTKCFQAAAAACAXoZAMzMzM7Mch0BmZmZm5tqHQJqZmZkZmYhAzczMzExXiUAAAAAAgBWKQDMzMzOz04pAZmZmZuaRi0CamZmZGVCMQM3MzMxMDo1AAAAAAIDMjUAzMzMzs4qOQGZmZmbmSI9A\",\"dtype\":\"float64\",\"shape\":[75]}},\"selected\":{\"id\":\"1f7b048e-ae0d-492a-9aa5-62b7fb1fe650\",\"type\":\"Selection\"},\"selection_policy\":{\"id\":\"2c26cbd0-2514-452d-ae83-e2f2f071064a\",\"type\":\"UnionRenderers\"}},\"id\":\"a62541e3-8c16-49d4-b518-0c30f8bb9195\",\"type\":\"ColumnDataSource\"},{\"attributes\":{},\"id\":\"3bc13bb3-b3bc-4c66-b3e9-ee0a4a0f7dd5\",\"type\":\"Selection\"},{\"attributes\":{},\"id\":\"762c0113-9064-414d-a7ff-d6ea276c42f2\",\"type\":\"Selection\"},{\"attributes\":{},\"id\":\"c0c79e3f-0e52-42d8-9351-32c9fc7ea11a\",\"type\":\"PanTool\"},{\"attributes\":{},\"id\":\"3c5ab70d-fb2b-4b0f-8353-4aca275866c4\",\"type\":\"WheelZoomTool\"},{\"attributes\":{},\"id\":\"40bfa01c-c61e-45ca-b228-3a1b515b1994\",\"type\":\"PanTool\"},{\"attributes\":{},\"id\":\"9bc270a5-697f-4c7e-8f78-87c9f7f75ddd\",\"type\":\"UnionRenderers\"},{\"attributes\":{\"callback\":null,\"data\":{\"x\":{\"__ndarray__\":\"21ymgiBH5r49eiZZNzbmvu2VW6XKCea+IPs0nBHV5b4x1v8CXZ3lvmitq2zmXeW+fMdPO7oa5b5CgGdswNDkviFLtc89gOS+Et8KrWoq5L5qZCowl83jvi9/3e4PauO+LVf/HKL/4r707kEI2YXivsnz/Xph7OC+G/Ofj8rY1b6Rvq39vcK5PmdI/M9nnus+J/KXfMO+AD/XuzBOFAgQPzU0y29Loxs/LMbDbhFdJj8w7gsggLcvP8ZMlfeMRjA/YD3rKxTnKD/0hfunuTAhPxrJgd85hhY/KDkSZi0XDD9ipOa0+pkAP2elRDrLqPE+wdh2gvzZ2j7Uq0ptn0OrvvokMk94UNW+5ifOHbiW377J+/FRLJrjvjxPt4f5fua+mCrsTOMe6L5ClxgXnProvsOqpheGxem+4HbDFI04677gpxUFxNbzvhKIt57JBwa/cgz9DhgsEb/gQI9zsbEMvyz4gOgGQhA/Ot4Lng5fNj9VZCz0zmJKP5leY+yp6lg/TPMuaT3sZD8s9WgNpEBwPzqwbC1Q03c/fTgcWKpagD8W3FK5V46FP2pXXhWuuYs/wYkC47t5kT/OpJXP7qiVP6jcjHCdepo/Ju+1wuG1oD/m4rRP47ikP4CbzI6JGqk/YDhgIqHXrT+8d4NREXOxP275v1gcJLQ/hL7Gvvz/tj/Do1DAvQW6P/LNC7dJM70/Bul4uFw+wD/gUNwX7uHBP+EEJVOlcMM/YtVFbmvixD9nGOKMLUHGP+q9Gh9rn8c/5Hd1cxoOyT8wif9nkKPKP4MPvwnnjcw/\",\"dtype\":\"float64\",\"shape\":[75]},\"y\":{\"__ndarray__\":\"GhExyth1ND/Sv8nbtpRIP2vylNV0PVE/aTum7souWD/At0SJ8fVgPw3Iuahxymc/MSNhhJWvcD/bTfBN02d3P2zb5nxnaoA/CD5h5MAGhz8NmeH1TyaQP+zrCsc9p5Y/LbKd76fGnz/bLW5ISEmmPww9YvTcQq8/JV2OstnstT8Er5Y7M8G+P0c+r3jqkcU/5h99k6ZBzj88bCIzFzjVP4enV8oyxN0//yH99nXg5D8qOpLLf0jtP5kqGJXUifQ/c9cS8kHP/D+/DpwzojQEQIEmwoanVwxA4lgXt9HgE0BSSZ2AJuIbQAMJih9jjiNA5q4l5INuK0AwTKYKRj0zQNv5fmq8/DpAaCJseHrtQkB/+zpwzoxKQM3MzMzMeFJAZmZmZmZqWEAAAAAAAFxeQM3MzMzMJmJAmpmZmZkfZUBmZmZmZhhoQDMzMzMzEWtAAAAAAAAKbkBmZmZmZoFwQM3MzMzM/XFAMzMzMzN6c0CamZmZmfZ0QAAAAAAAc3ZAZmZmZmbvd0DNzMzMzGt5QDMzMzMz6HpAmpmZmZlkfEAAAAAAAOF9QGZmZmZmXX9AZmZmZuZsgECamZmZGSuBQM3MzMxM6YFAAAAAAICngkAzMzMzs2WDQGZmZmbmI4RAmpmZmRnihEDNzMzMTKCFQAAAAACAXoZAMzMzM7Mch0BmZmZm5tqHQJqZmZkZmYhAzczMzExXiUAAAAAAgBWKQDMzMzOz04pAZmZmZuaRi0CamZmZGVCMQM3MzMxMDo1AAAAAAIDMjUAzMzMzs4qOQGZmZmbmSI9A\",\"dtype\":\"float64\",\"shape\":[75]}},\"selected\":{\"id\":\"634e3b43-289a-4f42-9d93-c711b3d1c9ab\",\"type\":\"Selection\"},\"selection_policy\":{\"id\":\"717d9c9e-afff-4910-94c1-517f5510f6f4\",\"type\":\"UnionRenderers\"}},\"id\":\"9e9413bf-8ef7-42b4-9ca6-f666c48f5135\",\"type\":\"ColumnDataSource\"},{\"attributes\":{},\"id\":\"94fe4c2d-9ef8-40a7-a42d-8a4581b10839\",\"type\":\"Selection\"},{\"attributes\":{},\"id\":\"2c26cbd0-2514-452d-ae83-e2f2f071064a\",\"type\":\"UnionRenderers\"},{\"attributes\":{\"tools\":[{\"id\":\"40bfa01c-c61e-45ca-b228-3a1b515b1994\",\"type\":\"PanTool\"},{\"id\":\"0309187a-7f6e-47f5-9c02-7b091536020e\",\"type\":\"WheelZoomTool\"},{\"id\":\"673b1b97-dc55-4a00-ae82-73ab167e232b\",\"type\":\"BoxZoomTool\"},{\"id\":\"98fdf31e-fed8-4f27-82ee-831aa67ded68\",\"type\":\"SaveTool\"},{\"id\":\"dc64ad5b-5bb6-4440-bc59-f7b90f5a4dad\",\"type\":\"ResetTool\"},{\"id\":\"aaf55c7e-73c4-40d1-b635-6131afeb22b7\",\"type\":\"HelpTool\"},{\"id\":\"c0c79e3f-0e52-42d8-9351-32c9fc7ea11a\",\"type\":\"PanTool\"},{\"id\":\"3c5ab70d-fb2b-4b0f-8353-4aca275866c4\",\"type\":\"WheelZoomTool\"},{\"id\":\"b0fc7e06-2df5-48ad-af0c-fe0881daaaf7\",\"type\":\"BoxZoomTool\"},{\"id\":\"e19db80f-58b5-4330-886a-b6cd5498b8fe\",\"type\":\"SaveTool\"},{\"id\":\"6221745e-ffed-475b-8314-b70983fa4fec\",\"type\":\"ResetTool\"},{\"id\":\"df883fa0-00b7-4ee3-9bff-dc3b02d28d74\",\"type\":\"HelpTool\"}]},\"id\":\"f8e3029d-779d-46df-97d2-4a59701b2ca0\",\"type\":\"ProxyToolbar\"},{\"attributes\":{},\"id\":\"bd36788a-fb0b-4544-9559-06bababe777e\",\"type\":\"UnionRenderers\"},{\"attributes\":{\"toolbar\":{\"id\":\"f8e3029d-779d-46df-97d2-4a59701b2ca0\",\"type\":\"ProxyToolbar\"},\"toolbar_location\":\"above\"},\"id\":\"3f1a7491-b233-4af3-80fb-3f9910506346\",\"type\":\"ToolbarBox\"},{\"attributes\":{},\"id\":\"dfd3dbb5-982c-4220-b2ab-2585f66d5c7b\",\"type\":\"UnionRenderers\"},{\"attributes\":{},\"id\":\"0309187a-7f6e-47f5-9c02-7b091536020e\",\"type\":\"WheelZoomTool\"},{\"attributes\":{\"children\":[{\"id\":\"3f1a7491-b233-4af3-80fb-3f9910506346\",\"type\":\"ToolbarBox\"},{\"id\":\"bcb4bacc-088e-4c8d-8d13-4ae4332583e5\",\"type\":\"Column\"}]},\"id\":\"05ab083a-cc2a-40eb-ab3f-cca6a047c377\",\"type\":\"Column\"},{\"attributes\":{\"bottom_units\":\"screen\",\"fill_alpha\":{\"value\":0.5},\"fill_color\":{\"value\":\"lightgrey\"},\"left_units\":\"screen\",\"level\":\"overlay\",\"line_alpha\":{\"value\":1.0},\"line_color\":{\"value\":\"black\"},\"line_dash\":[4,4],\"line_width\":{\"value\":2},\"plot\":null,\"render_mode\":\"css\",\"right_units\":\"screen\",\"top_units\":\"screen\"},\"id\":\"c4d4c005-6622-4342-ad52-a6cc659f29a8\",\"type\":\"BoxAnnotation\"},{\"attributes\":{},\"id\":\"91073685-4b72-4820-aef5-ea4deb3ffc82\",\"type\":\"UnionRenderers\"},{\"attributes\":{},\"id\":\"98fdf31e-fed8-4f27-82ee-831aa67ded68\",\"type\":\"SaveTool\"},{\"attributes\":{},\"id\":\"dc64ad5b-5bb6-4440-bc59-f7b90f5a4dad\",\"type\":\"ResetTool\"},{\"attributes\":{},\"id\":\"aaf55c7e-73c4-40d1-b635-6131afeb22b7\",\"type\":\"HelpTool\"},{\"attributes\":{\"overlay\":{\"id\":\"c4d4c005-6622-4342-ad52-a6cc659f29a8\",\"type\":\"BoxAnnotation\"}},\"id\":\"673b1b97-dc55-4a00-ae82-73ab167e232b\",\"type\":\"BoxZoomTool\"}],\"root_ids\":[\"05ab083a-cc2a-40eb-ab3f-cca6a047c377\"]},\"title\":\"Bokeh Application\",\"version\":\"0.12.16\"}};\n",
       "  var render_items = [{\"docid\":\"cb45fc49-406d-4e61-a657-fde62bdd9dcd\",\"elementid\":\"7794f496-7573-4611-a6d8-1558716c07d9\",\"modelid\":\"05ab083a-cc2a-40eb-ab3f-cca6a047c377\"}];\n",
       "  root.Bokeh.embed.embed_items_notebook(docs_json, render_items);\n",
       "\n",
       "  }\n",
       "  if (root.Bokeh !== undefined) {\n",
       "    embed_document(root);\n",
       "  } else {\n",
       "    var attempts = 0;\n",
       "    var timer = setInterval(function(root) {\n",
       "      if (root.Bokeh !== undefined) {\n",
       "        embed_document(root);\n",
       "        clearInterval(timer);\n",
       "      }\n",
       "      attempts++;\n",
       "      if (attempts > 100) {\n",
       "        console.log(\"Bokeh: ERROR: Unable to run BokehJS code because BokehJS library is missing\")\n",
       "        clearInterval(timer);\n",
       "      }\n",
       "    }, 10, root)\n",
       "  }\n",
       "})(window);"
      ],
      "application/vnd.bokehjs_exec.v0+json": ""
     },
     "metadata": {
      "application/vnd.bokehjs_exec.v0+json": {
       "id": "05ab083a-cc2a-40eb-ab3f-cca6a047c377"
      }
     },
     "output_type": "display_data"
    },
    {
     "data": {
      "text/markdown": [
       "*FIGURE.* Cooling rates. Summed over g."
      ],
      "text/plain": [
       "<IPython.core.display.Markdown object>"
      ]
     },
     "metadata": {},
     "output_type": "display_data"
    },
    {
     "data": {
      "text/html": [
       "<a id=\"Flux_Comparison\"></a>"
      ],
      "text/plain": [
       "<IPython.core.display.HTML object>"
      ]
     },
     "metadata": {},
     "output_type": "display_data"
    },
    {
     "data": {
      "text/markdown": [
       "# Flux Comparison"
      ],
      "text/plain": [
       "<IPython.core.display.Markdown object>"
      ]
     },
     "metadata": {},
     "output_type": "display_data"
    },
    {
     "data": {
      "text/html": [
       "<div>\n",
       "<style scoped>\n",
       "    .dataframe tbody tr th:only-of-type {\n",
       "        vertical-align: middle;\n",
       "    }\n",
       "\n",
       "    .dataframe tbody tr th {\n",
       "        vertical-align: top;\n",
       "    }\n",
       "\n",
       "    .dataframe thead th {\n",
       "        text-align: right;\n",
       "    }\n",
       "</style>\n",
       "<table border=\"1\" class=\"dataframe\">\n",
       "  <thead>\n",
       "    <tr style=\"text-align: right;\">\n",
       "      <th></th>\n",
       "      <th></th>\n",
       "      <th></th>\n",
       "      <th>flug</th>\n",
       "      <th>fldg</th>\n",
       "      <th>fnetg</th>\n",
       "    </tr>\n",
       "    <tr>\n",
       "      <th>g</th>\n",
       "      <th>pressure</th>\n",
       "      <th>level</th>\n",
       "      <th></th>\n",
       "      <th></th>\n",
       "      <th></th>\n",
       "    </tr>\n",
       "  </thead>\n",
       "  <tbody>\n",
       "    <tr>\n",
       "      <th rowspan=\"3\" valign=\"top\">1</th>\n",
       "      <th>0.000</th>\n",
       "      <th>1</th>\n",
       "      <td>-0.903098</td>\n",
       "      <td>0.000000</td>\n",
       "      <td>-0.903098</td>\n",
       "    </tr>\n",
       "    <tr>\n",
       "      <th>180.875</th>\n",
       "      <th>41</th>\n",
       "      <td>-0.903486</td>\n",
       "      <td>0.000347</td>\n",
       "      <td>-0.903139</td>\n",
       "    </tr>\n",
       "    <tr>\n",
       "      <th>1013.000</th>\n",
       "      <th>76</th>\n",
       "      <td>-1.263627</td>\n",
       "      <td>1.229089</td>\n",
       "      <td>-0.034538</td>\n",
       "    </tr>\n",
       "    <tr>\n",
       "      <th rowspan=\"3\" valign=\"top\">2</th>\n",
       "      <th>0.000</th>\n",
       "      <th>1</th>\n",
       "      <td>-4.803775</td>\n",
       "      <td>0.000000</td>\n",
       "      <td>-4.803775</td>\n",
       "    </tr>\n",
       "    <tr>\n",
       "      <th>180.875</th>\n",
       "      <th>41</th>\n",
       "      <td>-4.803871</td>\n",
       "      <td>0.000044</td>\n",
       "      <td>-4.803826</td>\n",
       "    </tr>\n",
       "    <tr>\n",
       "      <th>1013.000</th>\n",
       "      <th>76</th>\n",
       "      <td>-5.305236</td>\n",
       "      <td>3.311290</td>\n",
       "      <td>-1.993946</td>\n",
       "    </tr>\n",
       "    <tr>\n",
       "      <th rowspan=\"3\" valign=\"top\">3</th>\n",
       "      <th>0.000</th>\n",
       "      <th>1</th>\n",
       "      <td>-54.787229</td>\n",
       "      <td>0.000000</td>\n",
       "      <td>-54.787229</td>\n",
       "    </tr>\n",
       "    <tr>\n",
       "      <th>180.875</th>\n",
       "      <th>41</th>\n",
       "      <td>-54.787251</td>\n",
       "      <td>0.000007</td>\n",
       "      <td>-54.787244</td>\n",
       "    </tr>\n",
       "    <tr>\n",
       "      <th>1013.000</th>\n",
       "      <th>76</th>\n",
       "      <td>-55.112384</td>\n",
       "      <td>3.154710</td>\n",
       "      <td>-51.957674</td>\n",
       "    </tr>\n",
       "  </tbody>\n",
       "</table>\n",
       "</div>"
      ],
      "text/plain": [
       "                       flug      fldg      fnetg\n",
       "g pressure level                                \n",
       "1 0.000    1      -0.903098  0.000000  -0.903098\n",
       "  180.875  41     -0.903486  0.000347  -0.903139\n",
       "  1013.000 76     -1.263627  1.229089  -0.034538\n",
       "2 0.000    1      -4.803775  0.000000  -4.803775\n",
       "  180.875  41     -4.803871  0.000044  -4.803826\n",
       "  1013.000 76     -5.305236  3.311290  -1.993946\n",
       "3 0.000    1     -54.787229  0.000000 -54.787229\n",
       "  180.875  41    -54.787251  0.000007 -54.787244\n",
       "  1013.000 76    -55.112384  3.154710 -51.957674"
      ]
     },
     "metadata": {},
     "output_type": "display_data"
    },
    {
     "data": {
      "text/markdown": [
       "*TABLE.* Fluxes. CRD"
      ],
      "text/plain": [
       "<IPython.core.display.Markdown object>"
      ]
     },
     "metadata": {},
     "output_type": "display_data"
    },
    {
     "data": {
      "text/html": [
       "<div>\n",
       "<style scoped>\n",
       "    .dataframe tbody tr th:only-of-type {\n",
       "        vertical-align: middle;\n",
       "    }\n",
       "\n",
       "    .dataframe tbody tr th {\n",
       "        vertical-align: top;\n",
       "    }\n",
       "\n",
       "    .dataframe thead th {\n",
       "        text-align: right;\n",
       "    }\n",
       "</style>\n",
       "<table border=\"1\" class=\"dataframe\">\n",
       "  <thead>\n",
       "    <tr style=\"text-align: right;\">\n",
       "      <th></th>\n",
       "      <th></th>\n",
       "      <th></th>\n",
       "      <th>flug</th>\n",
       "      <th>fldg</th>\n",
       "      <th>fnetg</th>\n",
       "    </tr>\n",
       "    <tr>\n",
       "      <th>g</th>\n",
       "      <th>pressure</th>\n",
       "      <th>level</th>\n",
       "      <th></th>\n",
       "      <th></th>\n",
       "      <th></th>\n",
       "    </tr>\n",
       "  </thead>\n",
       "  <tbody>\n",
       "    <tr>\n",
       "      <th rowspan=\"3\" valign=\"top\">1</th>\n",
       "      <th>0.000</th>\n",
       "      <th>1</th>\n",
       "      <td>-0.917694</td>\n",
       "      <td>0.000000</td>\n",
       "      <td>-0.917694</td>\n",
       "    </tr>\n",
       "    <tr>\n",
       "      <th>180.875</th>\n",
       "      <th>41</th>\n",
       "      <td>-0.918030</td>\n",
       "      <td>0.000215</td>\n",
       "      <td>-0.917815</td>\n",
       "    </tr>\n",
       "    <tr>\n",
       "      <th>1013.000</th>\n",
       "      <th>76</th>\n",
       "      <td>-1.297058</td>\n",
       "      <td>1.272496</td>\n",
       "      <td>-0.024561</td>\n",
       "    </tr>\n",
       "    <tr>\n",
       "      <th rowspan=\"3\" valign=\"top\">2</th>\n",
       "      <th>0.000</th>\n",
       "      <th>1</th>\n",
       "      <td>-4.892924</td>\n",
       "      <td>0.000000</td>\n",
       "      <td>-4.892924</td>\n",
       "    </tr>\n",
       "    <tr>\n",
       "      <th>180.875</th>\n",
       "      <th>41</th>\n",
       "      <td>-4.893003</td>\n",
       "      <td>0.000032</td>\n",
       "      <td>-4.892972</td>\n",
       "    </tr>\n",
       "    <tr>\n",
       "      <th>1013.000</th>\n",
       "      <th>76</th>\n",
       "      <td>-5.365015</td>\n",
       "      <td>3.326208</td>\n",
       "      <td>-2.038806</td>\n",
       "    </tr>\n",
       "    <tr>\n",
       "      <th rowspan=\"3\" valign=\"top\">3</th>\n",
       "      <th>0.000</th>\n",
       "      <th>1</th>\n",
       "      <td>-54.717289</td>\n",
       "      <td>0.000000</td>\n",
       "      <td>-54.717289</td>\n",
       "    </tr>\n",
       "    <tr>\n",
       "      <th>180.875</th>\n",
       "      <th>41</th>\n",
       "      <td>-54.717310</td>\n",
       "      <td>0.000007</td>\n",
       "      <td>-54.717303</td>\n",
       "    </tr>\n",
       "    <tr>\n",
       "      <th>1013.000</th>\n",
       "      <th>76</th>\n",
       "      <td>-55.019174</td>\n",
       "      <td>3.043646</td>\n",
       "      <td>-51.975529</td>\n",
       "    </tr>\n",
       "  </tbody>\n",
       "</table>\n",
       "</div>"
      ],
      "text/plain": [
       "                       flug      fldg      fnetg\n",
       "g pressure level                                \n",
       "1 0.000    1      -0.917694  0.000000  -0.917694\n",
       "  180.875  41     -0.918030  0.000215  -0.917815\n",
       "  1013.000 76     -1.297058  1.272496  -0.024561\n",
       "2 0.000    1      -4.892924  0.000000  -4.892924\n",
       "  180.875  41     -4.893003  0.000032  -4.892972\n",
       "  1013.000 76     -5.365015  3.326208  -2.038806\n",
       "3 0.000    1     -54.717289  0.000000 -54.717289\n",
       "  180.875  41    -54.717310  0.000007 -54.717303\n",
       "  1013.000 76    -55.019174  3.043646 -51.975529"
      ]
     },
     "metadata": {},
     "output_type": "display_data"
    },
    {
     "data": {
      "text/markdown": [
       "*TABLE.* Fluxes. WGT igg=1"
      ],
      "text/plain": [
       "<IPython.core.display.Markdown object>"
      ]
     },
     "metadata": {},
     "output_type": "display_data"
    },
    {
     "data": {
      "text/html": [
       "<div>\n",
       "<style scoped>\n",
       "    .dataframe tbody tr th:only-of-type {\n",
       "        vertical-align: middle;\n",
       "    }\n",
       "\n",
       "    .dataframe tbody tr th {\n",
       "        vertical-align: top;\n",
       "    }\n",
       "\n",
       "    .dataframe thead th {\n",
       "        text-align: right;\n",
       "    }\n",
       "</style>\n",
       "<table border=\"1\" class=\"dataframe\">\n",
       "  <thead>\n",
       "    <tr style=\"text-align: right;\">\n",
       "      <th></th>\n",
       "      <th></th>\n",
       "      <th></th>\n",
       "      <th>flug</th>\n",
       "      <th>fldg</th>\n",
       "      <th>fnetg</th>\n",
       "    </tr>\n",
       "    <tr>\n",
       "      <th>g</th>\n",
       "      <th>pressure</th>\n",
       "      <th>level</th>\n",
       "      <th></th>\n",
       "      <th></th>\n",
       "      <th></th>\n",
       "    </tr>\n",
       "  </thead>\n",
       "  <tbody>\n",
       "    <tr>\n",
       "      <th rowspan=\"3\" valign=\"top\">1</th>\n",
       "      <th>0.000</th>\n",
       "      <th>1</th>\n",
       "      <td>-0.915431</td>\n",
       "      <td>0.000000</td>\n",
       "      <td>-0.915431</td>\n",
       "    </tr>\n",
       "    <tr>\n",
       "      <th>180.875</th>\n",
       "      <th>41</th>\n",
       "      <td>-0.915741</td>\n",
       "      <td>0.000180</td>\n",
       "      <td>-0.915562</td>\n",
       "    </tr>\n",
       "    <tr>\n",
       "      <th>1013.000</th>\n",
       "      <th>76</th>\n",
       "      <td>-1.297058</td>\n",
       "      <td>1.276911</td>\n",
       "      <td>-0.020147</td>\n",
       "    </tr>\n",
       "    <tr>\n",
       "      <th rowspan=\"3\" valign=\"top\">2</th>\n",
       "      <th>0.000</th>\n",
       "      <th>1</th>\n",
       "      <td>-4.909929</td>\n",
       "      <td>0.000000</td>\n",
       "      <td>-4.909929</td>\n",
       "    </tr>\n",
       "    <tr>\n",
       "      <th>180.875</th>\n",
       "      <th>41</th>\n",
       "      <td>-4.910000</td>\n",
       "      <td>0.000026</td>\n",
       "      <td>-4.909974</td>\n",
       "    </tr>\n",
       "    <tr>\n",
       "      <th>1013.000</th>\n",
       "      <th>76</th>\n",
       "      <td>-5.365015</td>\n",
       "      <td>3.406529</td>\n",
       "      <td>-1.958486</td>\n",
       "    </tr>\n",
       "    <tr>\n",
       "      <th rowspan=\"3\" valign=\"top\">3</th>\n",
       "      <th>0.000</th>\n",
       "      <th>1</th>\n",
       "      <td>-54.732734</td>\n",
       "      <td>0.000000</td>\n",
       "      <td>-54.732734</td>\n",
       "    </tr>\n",
       "    <tr>\n",
       "      <th>180.875</th>\n",
       "      <th>41</th>\n",
       "      <td>-54.732753</td>\n",
       "      <td>0.000006</td>\n",
       "      <td>-54.732747</td>\n",
       "    </tr>\n",
       "    <tr>\n",
       "      <th>1013.000</th>\n",
       "      <th>76</th>\n",
       "      <td>-55.019174</td>\n",
       "      <td>2.936335</td>\n",
       "      <td>-52.082839</td>\n",
       "    </tr>\n",
       "  </tbody>\n",
       "</table>\n",
       "</div>"
      ],
      "text/plain": [
       "                       flug      fldg      fnetg\n",
       "g pressure level                                \n",
       "1 0.000    1      -0.915431  0.000000  -0.915431\n",
       "  180.875  41     -0.915741  0.000180  -0.915562\n",
       "  1013.000 76     -1.297058  1.276911  -0.020147\n",
       "2 0.000    1      -4.909929  0.000000  -4.909929\n",
       "  180.875  41     -4.910000  0.000026  -4.909974\n",
       "  1013.000 76     -5.365015  3.406529  -1.958486\n",
       "3 0.000    1     -54.732734  0.000000 -54.732734\n",
       "  180.875  41    -54.732753  0.000006 -54.732747\n",
       "  1013.000 76    -55.019174  2.936335 -52.082839"
      ]
     },
     "metadata": {},
     "output_type": "display_data"
    },
    {
     "data": {
      "text/markdown": [
       "*TABLE.* Fluxes. WGT igg=10"
      ],
      "text/plain": [
       "<IPython.core.display.Markdown object>"
      ]
     },
     "metadata": {},
     "output_type": "display_data"
    },
    {
     "data": {
      "text/html": [
       "<div>\n",
       "<style scoped>\n",
       "    .dataframe tbody tr th:only-of-type {\n",
       "        vertical-align: middle;\n",
       "    }\n",
       "\n",
       "    .dataframe tbody tr th {\n",
       "        vertical-align: top;\n",
       "    }\n",
       "\n",
       "    .dataframe thead th {\n",
       "        text-align: right;\n",
       "    }\n",
       "</style>\n",
       "<table border=\"1\" class=\"dataframe\">\n",
       "  <thead>\n",
       "    <tr style=\"text-align: right;\">\n",
       "      <th></th>\n",
       "      <th></th>\n",
       "      <th></th>\n",
       "      <th>flug</th>\n",
       "      <th>fldg</th>\n",
       "      <th>fnetg</th>\n",
       "    </tr>\n",
       "    <tr>\n",
       "      <th>g</th>\n",
       "      <th>pressure</th>\n",
       "      <th>level</th>\n",
       "      <th></th>\n",
       "      <th></th>\n",
       "      <th></th>\n",
       "    </tr>\n",
       "  </thead>\n",
       "  <tbody>\n",
       "    <tr>\n",
       "      <th rowspan=\"3\" valign=\"top\">1</th>\n",
       "      <th>0.000</th>\n",
       "      <th>1</th>\n",
       "      <td>-0.014596</td>\n",
       "      <td>0.000000e+00</td>\n",
       "      <td>-0.014596</td>\n",
       "    </tr>\n",
       "    <tr>\n",
       "      <th>180.875</th>\n",
       "      <th>41</th>\n",
       "      <td>-0.014544</td>\n",
       "      <td>-1.321118e-04</td>\n",
       "      <td>-0.014676</td>\n",
       "    </tr>\n",
       "    <tr>\n",
       "      <th>1013.000</th>\n",
       "      <th>76</th>\n",
       "      <td>-0.033431</td>\n",
       "      <td>4.340690e-02</td>\n",
       "      <td>0.009976</td>\n",
       "    </tr>\n",
       "    <tr>\n",
       "      <th rowspan=\"3\" valign=\"top\">2</th>\n",
       "      <th>0.000</th>\n",
       "      <th>1</th>\n",
       "      <td>-0.089149</td>\n",
       "      <td>0.000000e+00</td>\n",
       "      <td>-0.089149</td>\n",
       "    </tr>\n",
       "    <tr>\n",
       "      <th>180.875</th>\n",
       "      <th>41</th>\n",
       "      <td>-0.089133</td>\n",
       "      <td>-1.295793e-05</td>\n",
       "      <td>-0.089146</td>\n",
       "    </tr>\n",
       "    <tr>\n",
       "      <th>1013.000</th>\n",
       "      <th>76</th>\n",
       "      <td>-0.059779</td>\n",
       "      <td>1.491870e-02</td>\n",
       "      <td>-0.044860</td>\n",
       "    </tr>\n",
       "    <tr>\n",
       "      <th rowspan=\"3\" valign=\"top\">3</th>\n",
       "      <th>0.000</th>\n",
       "      <th>1</th>\n",
       "      <td>0.069940</td>\n",
       "      <td>0.000000e+00</td>\n",
       "      <td>0.069940</td>\n",
       "    </tr>\n",
       "    <tr>\n",
       "      <th>180.875</th>\n",
       "      <th>41</th>\n",
       "      <td>0.069941</td>\n",
       "      <td>-8.924871e-07</td>\n",
       "      <td>0.069941</td>\n",
       "    </tr>\n",
       "    <tr>\n",
       "      <th>1013.000</th>\n",
       "      <th>76</th>\n",
       "      <td>0.093210</td>\n",
       "      <td>-1.110640e-01</td>\n",
       "      <td>-0.017855</td>\n",
       "    </tr>\n",
       "  </tbody>\n",
       "</table>\n",
       "</div>"
      ],
      "text/plain": [
       "                      flug          fldg     fnetg\n",
       "g pressure level                                  \n",
       "1 0.000    1     -0.014596  0.000000e+00 -0.014596\n",
       "  180.875  41    -0.014544 -1.321118e-04 -0.014676\n",
       "  1013.000 76    -0.033431  4.340690e-02  0.009976\n",
       "2 0.000    1     -0.089149  0.000000e+00 -0.089149\n",
       "  180.875  41    -0.089133 -1.295793e-05 -0.089146\n",
       "  1013.000 76    -0.059779  1.491870e-02 -0.044860\n",
       "3 0.000    1      0.069940  0.000000e+00  0.069940\n",
       "  180.875  41     0.069941 -8.924871e-07  0.069941\n",
       "  1013.000 76     0.093210 -1.110640e-01 -0.017855"
      ]
     },
     "metadata": {},
     "output_type": "display_data"
    },
    {
     "data": {
      "text/markdown": [
       "*TABLE.* Fluxes. (WGT igg=1) - (CRD)"
      ],
      "text/plain": [
       "<IPython.core.display.Markdown object>"
      ]
     },
     "metadata": {},
     "output_type": "display_data"
    },
    {
     "data": {
      "text/html": [
       "<div>\n",
       "<style scoped>\n",
       "    .dataframe tbody tr th:only-of-type {\n",
       "        vertical-align: middle;\n",
       "    }\n",
       "\n",
       "    .dataframe tbody tr th {\n",
       "        vertical-align: top;\n",
       "    }\n",
       "\n",
       "    .dataframe thead th {\n",
       "        text-align: right;\n",
       "    }\n",
       "</style>\n",
       "<table border=\"1\" class=\"dataframe\">\n",
       "  <thead>\n",
       "    <tr style=\"text-align: right;\">\n",
       "      <th></th>\n",
       "      <th></th>\n",
       "      <th></th>\n",
       "      <th>flug</th>\n",
       "      <th>fldg</th>\n",
       "      <th>fnetg</th>\n",
       "    </tr>\n",
       "    <tr>\n",
       "      <th>g</th>\n",
       "      <th>pressure</th>\n",
       "      <th>level</th>\n",
       "      <th></th>\n",
       "      <th></th>\n",
       "      <th></th>\n",
       "    </tr>\n",
       "  </thead>\n",
       "  <tbody>\n",
       "    <tr>\n",
       "      <th rowspan=\"3\" valign=\"top\">1</th>\n",
       "      <th>0.000</th>\n",
       "      <th>1</th>\n",
       "      <td>-0.012334</td>\n",
       "      <td>0.000000</td>\n",
       "      <td>-0.012334</td>\n",
       "    </tr>\n",
       "    <tr>\n",
       "      <th>180.875</th>\n",
       "      <th>41</th>\n",
       "      <td>-0.012255</td>\n",
       "      <td>-0.000167</td>\n",
       "      <td>-0.012422</td>\n",
       "    </tr>\n",
       "    <tr>\n",
       "      <th>1013.000</th>\n",
       "      <th>76</th>\n",
       "      <td>-0.033431</td>\n",
       "      <td>0.047822</td>\n",
       "      <td>0.014391</td>\n",
       "    </tr>\n",
       "    <tr>\n",
       "      <th rowspan=\"3\" valign=\"top\">2</th>\n",
       "      <th>0.000</th>\n",
       "      <th>1</th>\n",
       "      <td>-0.106155</td>\n",
       "      <td>0.000000</td>\n",
       "      <td>-0.106155</td>\n",
       "    </tr>\n",
       "    <tr>\n",
       "      <th>180.875</th>\n",
       "      <th>41</th>\n",
       "      <td>-0.106129</td>\n",
       "      <td>-0.000018</td>\n",
       "      <td>-0.106148</td>\n",
       "    </tr>\n",
       "    <tr>\n",
       "      <th>1013.000</th>\n",
       "      <th>76</th>\n",
       "      <td>-0.059779</td>\n",
       "      <td>0.095239</td>\n",
       "      <td>0.035461</td>\n",
       "    </tr>\n",
       "    <tr>\n",
       "      <th rowspan=\"3\" valign=\"top\">3</th>\n",
       "      <th>0.000</th>\n",
       "      <th>1</th>\n",
       "      <td>0.054495</td>\n",
       "      <td>0.000000</td>\n",
       "      <td>0.054495</td>\n",
       "    </tr>\n",
       "    <tr>\n",
       "      <th>180.875</th>\n",
       "      <th>41</th>\n",
       "      <td>0.054498</td>\n",
       "      <td>-0.000001</td>\n",
       "      <td>0.054497</td>\n",
       "    </tr>\n",
       "    <tr>\n",
       "      <th>1013.000</th>\n",
       "      <th>76</th>\n",
       "      <td>0.093210</td>\n",
       "      <td>-0.218374</td>\n",
       "      <td>-0.125165</td>\n",
       "    </tr>\n",
       "  </tbody>\n",
       "</table>\n",
       "</div>"
      ],
      "text/plain": [
       "                      flug      fldg     fnetg\n",
       "g pressure level                              \n",
       "1 0.000    1     -0.012334  0.000000 -0.012334\n",
       "  180.875  41    -0.012255 -0.000167 -0.012422\n",
       "  1013.000 76    -0.033431  0.047822  0.014391\n",
       "2 0.000    1     -0.106155  0.000000 -0.106155\n",
       "  180.875  41    -0.106129 -0.000018 -0.106148\n",
       "  1013.000 76    -0.059779  0.095239  0.035461\n",
       "3 0.000    1      0.054495  0.000000  0.054495\n",
       "  180.875  41     0.054498 -0.000001  0.054497\n",
       "  1013.000 76     0.093210 -0.218374 -0.125165"
      ]
     },
     "metadata": {},
     "output_type": "display_data"
    },
    {
     "data": {
      "text/markdown": [
       "*TABLE.* Fluxes. (WGT igg=10) - (CRD)"
      ],
      "text/plain": [
       "<IPython.core.display.Markdown object>"
      ]
     },
     "metadata": {},
     "output_type": "display_data"
    },
    {
     "data": {
      "text/html": [
       "<div>\n",
       "<style scoped>\n",
       "    .dataframe tbody tr th:only-of-type {\n",
       "        vertical-align: middle;\n",
       "    }\n",
       "\n",
       "    .dataframe tbody tr th {\n",
       "        vertical-align: top;\n",
       "    }\n",
       "\n",
       "    .dataframe thead th {\n",
       "        text-align: right;\n",
       "    }\n",
       "</style>\n",
       "<table border=\"1\" class=\"dataframe\">\n",
       "  <thead>\n",
       "    <tr style=\"text-align: right;\">\n",
       "      <th></th>\n",
       "      <th></th>\n",
       "      <th>flug</th>\n",
       "      <th>fldg</th>\n",
       "      <th>fnetg</th>\n",
       "    </tr>\n",
       "    <tr>\n",
       "      <th>pressure</th>\n",
       "      <th>level</th>\n",
       "      <th></th>\n",
       "      <th></th>\n",
       "      <th></th>\n",
       "    </tr>\n",
       "  </thead>\n",
       "  <tbody>\n",
       "    <tr>\n",
       "      <th>0.000</th>\n",
       "      <th>1</th>\n",
       "      <td>-60.494101</td>\n",
       "      <td>0.000000</td>\n",
       "      <td>-60.494101</td>\n",
       "    </tr>\n",
       "    <tr>\n",
       "      <th>180.875</th>\n",
       "      <th>41</th>\n",
       "      <td>-60.494608</td>\n",
       "      <td>0.000399</td>\n",
       "      <td>-60.494209</td>\n",
       "    </tr>\n",
       "    <tr>\n",
       "      <th>1013.000</th>\n",
       "      <th>76</th>\n",
       "      <td>-61.681247</td>\n",
       "      <td>7.695088</td>\n",
       "      <td>-53.986158</td>\n",
       "    </tr>\n",
       "  </tbody>\n",
       "</table>\n",
       "</div>"
      ],
      "text/plain": [
       "                     flug      fldg      fnetg\n",
       "pressure level                                \n",
       "0.000    1     -60.494101  0.000000 -60.494101\n",
       "180.875  41    -60.494608  0.000399 -60.494209\n",
       "1013.000 76    -61.681247  7.695088 -53.986158"
      ]
     },
     "metadata": {},
     "output_type": "display_data"
    },
    {
     "data": {
      "text/markdown": [
       "*TABLE.* Fluxes. CRD"
      ],
      "text/plain": [
       "<IPython.core.display.Markdown object>"
      ]
     },
     "metadata": {},
     "output_type": "display_data"
    },
    {
     "data": {
      "text/html": [
       "<div>\n",
       "<style scoped>\n",
       "    .dataframe tbody tr th:only-of-type {\n",
       "        vertical-align: middle;\n",
       "    }\n",
       "\n",
       "    .dataframe tbody tr th {\n",
       "        vertical-align: top;\n",
       "    }\n",
       "\n",
       "    .dataframe thead th {\n",
       "        text-align: right;\n",
       "    }\n",
       "</style>\n",
       "<table border=\"1\" class=\"dataframe\">\n",
       "  <thead>\n",
       "    <tr style=\"text-align: right;\">\n",
       "      <th></th>\n",
       "      <th></th>\n",
       "      <th>flug</th>\n",
       "      <th>fldg</th>\n",
       "      <th>fnetg</th>\n",
       "    </tr>\n",
       "    <tr>\n",
       "      <th>pressure</th>\n",
       "      <th>level</th>\n",
       "      <th></th>\n",
       "      <th></th>\n",
       "      <th></th>\n",
       "    </tr>\n",
       "  </thead>\n",
       "  <tbody>\n",
       "    <tr>\n",
       "      <th>0.000</th>\n",
       "      <th>1</th>\n",
       "      <td>-60.527907</td>\n",
       "      <td>0.000000</td>\n",
       "      <td>-60.527907</td>\n",
       "    </tr>\n",
       "    <tr>\n",
       "      <th>180.875</th>\n",
       "      <th>41</th>\n",
       "      <td>-60.528343</td>\n",
       "      <td>0.000253</td>\n",
       "      <td>-60.528089</td>\n",
       "    </tr>\n",
       "    <tr>\n",
       "      <th>1013.000</th>\n",
       "      <th>76</th>\n",
       "      <td>-61.681246</td>\n",
       "      <td>7.642350</td>\n",
       "      <td>-54.038897</td>\n",
       "    </tr>\n",
       "  </tbody>\n",
       "</table>\n",
       "</div>"
      ],
      "text/plain": [
       "                     flug      fldg      fnetg\n",
       "pressure level                                \n",
       "0.000    1     -60.527907  0.000000 -60.527907\n",
       "180.875  41    -60.528343  0.000253 -60.528089\n",
       "1013.000 76    -61.681246  7.642350 -54.038897"
      ]
     },
     "metadata": {},
     "output_type": "display_data"
    },
    {
     "data": {
      "text/markdown": [
       "*TABLE.* Fluxes. WGT igg=1"
      ],
      "text/plain": [
       "<IPython.core.display.Markdown object>"
      ]
     },
     "metadata": {},
     "output_type": "display_data"
    },
    {
     "data": {
      "text/html": [
       "<div>\n",
       "<style scoped>\n",
       "    .dataframe tbody tr th:only-of-type {\n",
       "        vertical-align: middle;\n",
       "    }\n",
       "\n",
       "    .dataframe tbody tr th {\n",
       "        vertical-align: top;\n",
       "    }\n",
       "\n",
       "    .dataframe thead th {\n",
       "        text-align: right;\n",
       "    }\n",
       "</style>\n",
       "<table border=\"1\" class=\"dataframe\">\n",
       "  <thead>\n",
       "    <tr style=\"text-align: right;\">\n",
       "      <th></th>\n",
       "      <th></th>\n",
       "      <th>flug</th>\n",
       "      <th>fldg</th>\n",
       "      <th>fnetg</th>\n",
       "    </tr>\n",
       "    <tr>\n",
       "      <th>pressure</th>\n",
       "      <th>level</th>\n",
       "      <th></th>\n",
       "      <th></th>\n",
       "      <th></th>\n",
       "    </tr>\n",
       "  </thead>\n",
       "  <tbody>\n",
       "    <tr>\n",
       "      <th>0.000</th>\n",
       "      <th>1</th>\n",
       "      <td>-60.558095</td>\n",
       "      <td>0.000000</td>\n",
       "      <td>-60.558095</td>\n",
       "    </tr>\n",
       "    <tr>\n",
       "      <th>180.875</th>\n",
       "      <th>41</th>\n",
       "      <td>-60.558494</td>\n",
       "      <td>0.000212</td>\n",
       "      <td>-60.558282</td>\n",
       "    </tr>\n",
       "    <tr>\n",
       "      <th>1013.000</th>\n",
       "      <th>76</th>\n",
       "      <td>-61.681246</td>\n",
       "      <td>7.619775</td>\n",
       "      <td>-54.061471</td>\n",
       "    </tr>\n",
       "  </tbody>\n",
       "</table>\n",
       "</div>"
      ],
      "text/plain": [
       "                     flug      fldg      fnetg\n",
       "pressure level                                \n",
       "0.000    1     -60.558095  0.000000 -60.558095\n",
       "180.875  41    -60.558494  0.000212 -60.558282\n",
       "1013.000 76    -61.681246  7.619775 -54.061471"
      ]
     },
     "metadata": {},
     "output_type": "display_data"
    },
    {
     "data": {
      "text/markdown": [
       "*TABLE.* Fluxes. WGT igg=10"
      ],
      "text/plain": [
       "<IPython.core.display.Markdown object>"
      ]
     },
     "metadata": {},
     "output_type": "display_data"
    },
    {
     "data": {
      "text/html": [
       "<div>\n",
       "<style scoped>\n",
       "    .dataframe tbody tr th:only-of-type {\n",
       "        vertical-align: middle;\n",
       "    }\n",
       "\n",
       "    .dataframe tbody tr th {\n",
       "        vertical-align: top;\n",
       "    }\n",
       "\n",
       "    .dataframe thead th {\n",
       "        text-align: right;\n",
       "    }\n",
       "</style>\n",
       "<table border=\"1\" class=\"dataframe\">\n",
       "  <thead>\n",
       "    <tr style=\"text-align: right;\">\n",
       "      <th></th>\n",
       "      <th></th>\n",
       "      <th>flug</th>\n",
       "      <th>fldg</th>\n",
       "      <th>fnetg</th>\n",
       "    </tr>\n",
       "    <tr>\n",
       "      <th>pressure</th>\n",
       "      <th>level</th>\n",
       "      <th></th>\n",
       "      <th></th>\n",
       "      <th></th>\n",
       "    </tr>\n",
       "  </thead>\n",
       "  <tbody>\n",
       "    <tr>\n",
       "      <th>0.000</th>\n",
       "      <th>1</th>\n",
       "      <td>-3.380577e-02</td>\n",
       "      <td>0.000000</td>\n",
       "      <td>-0.033806</td>\n",
       "    </tr>\n",
       "    <tr>\n",
       "      <th>180.875</th>\n",
       "      <th>41</th>\n",
       "      <td>-3.373516e-02</td>\n",
       "      <td>-0.000146</td>\n",
       "      <td>-0.033880</td>\n",
       "    </tr>\n",
       "    <tr>\n",
       "      <th>1013.000</th>\n",
       "      <th>76</th>\n",
       "      <td>4.000000e-07</td>\n",
       "      <td>-0.052738</td>\n",
       "      <td>-0.052739</td>\n",
       "    </tr>\n",
       "  </tbody>\n",
       "</table>\n",
       "</div>"
      ],
      "text/plain": [
       "                        flug      fldg     fnetg\n",
       "pressure level                                  \n",
       "0.000    1     -3.380577e-02  0.000000 -0.033806\n",
       "180.875  41    -3.373516e-02 -0.000146 -0.033880\n",
       "1013.000 76     4.000000e-07 -0.052738 -0.052739"
      ]
     },
     "metadata": {},
     "output_type": "display_data"
    },
    {
     "data": {
      "text/markdown": [
       "*TABLE.* Fluxes. (WGT igg=1) - (CRD)"
      ],
      "text/plain": [
       "<IPython.core.display.Markdown object>"
      ]
     },
     "metadata": {},
     "output_type": "display_data"
    },
    {
     "data": {
      "text/html": [
       "<div>\n",
       "<style scoped>\n",
       "    .dataframe tbody tr th:only-of-type {\n",
       "        vertical-align: middle;\n",
       "    }\n",
       "\n",
       "    .dataframe tbody tr th {\n",
       "        vertical-align: top;\n",
       "    }\n",
       "\n",
       "    .dataframe thead th {\n",
       "        text-align: right;\n",
       "    }\n",
       "</style>\n",
       "<table border=\"1\" class=\"dataframe\">\n",
       "  <thead>\n",
       "    <tr style=\"text-align: right;\">\n",
       "      <th></th>\n",
       "      <th></th>\n",
       "      <th>flug</th>\n",
       "      <th>fldg</th>\n",
       "      <th>fnetg</th>\n",
       "    </tr>\n",
       "    <tr>\n",
       "      <th>pressure</th>\n",
       "      <th>level</th>\n",
       "      <th></th>\n",
       "      <th></th>\n",
       "      <th></th>\n",
       "    </tr>\n",
       "  </thead>\n",
       "  <tbody>\n",
       "    <tr>\n",
       "      <th>0.000</th>\n",
       "      <th>1</th>\n",
       "      <td>-6.399340e-02</td>\n",
       "      <td>0.000000</td>\n",
       "      <td>-0.063993</td>\n",
       "    </tr>\n",
       "    <tr>\n",
       "      <th>180.875</th>\n",
       "      <th>41</th>\n",
       "      <td>-6.388631e-02</td>\n",
       "      <td>-0.000187</td>\n",
       "      <td>-0.064073</td>\n",
       "    </tr>\n",
       "    <tr>\n",
       "      <th>1013.000</th>\n",
       "      <th>76</th>\n",
       "      <td>4.000000e-07</td>\n",
       "      <td>-0.075313</td>\n",
       "      <td>-0.075314</td>\n",
       "    </tr>\n",
       "  </tbody>\n",
       "</table>\n",
       "</div>"
      ],
      "text/plain": [
       "                        flug      fldg     fnetg\n",
       "pressure level                                  \n",
       "0.000    1     -6.399340e-02  0.000000 -0.063993\n",
       "180.875  41    -6.388631e-02 -0.000187 -0.064073\n",
       "1013.000 76     4.000000e-07 -0.075313 -0.075314"
      ]
     },
     "metadata": {},
     "output_type": "display_data"
    },
    {
     "data": {
      "text/markdown": [
       "*TABLE.* Fluxes. (WGT igg=10) - (CRD)"
      ],
      "text/plain": [
       "<IPython.core.display.Markdown object>"
      ]
     },
     "metadata": {},
     "output_type": "display_data"
    },
    {
     "data": {
      "text/html": [
       "<a id=\"g-interval_Summary\"></a>"
      ],
      "text/plain": [
       "<IPython.core.display.HTML object>"
      ]
     },
     "metadata": {},
     "output_type": "display_data"
    },
    {
     "data": {
      "text/markdown": [
       "# g-interval Summary"
      ],
      "text/plain": [
       "<IPython.core.display.Markdown object>"
      ]
     },
     "metadata": {},
     "output_type": "display_data"
    },
    {
     "data": {
      "text/html": [
       "<div>\n",
       "<style scoped>\n",
       "    .dataframe tbody tr th:only-of-type {\n",
       "        vertical-align: middle;\n",
       "    }\n",
       "\n",
       "    .dataframe tbody tr th {\n",
       "        vertical-align: top;\n",
       "    }\n",
       "\n",
       "    .dataframe thead th {\n",
       "        text-align: right;\n",
       "    }\n",
       "</style>\n",
       "<table border=\"1\" class=\"dataframe\">\n",
       "  <thead>\n",
       "    <tr style=\"text-align: right;\">\n",
       "      <th></th>\n",
       "      <th>abscom</th>\n",
       "      <th>k(ig) / k(ig - 1)</th>\n",
       "      <th>dg</th>\n",
       "      <th>dgs</th>\n",
       "      <th>dg cumsum</th>\n",
       "      <th>dgs cumsum</th>\n",
       "      <th>pref</th>\n",
       "    </tr>\n",
       "    <tr>\n",
       "      <th>g</th>\n",
       "      <th></th>\n",
       "      <th></th>\n",
       "      <th></th>\n",
       "      <th></th>\n",
       "      <th></th>\n",
       "      <th></th>\n",
       "      <th></th>\n",
       "    </tr>\n",
       "  </thead>\n",
       "  <tbody>\n",
       "    <tr>\n",
       "      <th>1</th>\n",
       "      <td>1.191913e-23</td>\n",
       "      <td>NaN</td>\n",
       "      <td>0.019472</td>\n",
       "      <td>0.021028</td>\n",
       "      <td>0.019472</td>\n",
       "      <td>0.021028</td>\n",
       "      <td>600.0</td>\n",
       "    </tr>\n",
       "    <tr>\n",
       "      <th>2</th>\n",
       "      <td>1.000017e-24</td>\n",
       "      <td>0.083900</td>\n",
       "      <td>0.084250</td>\n",
       "      <td>0.086980</td>\n",
       "      <td>0.103722</td>\n",
       "      <td>0.108008</td>\n",
       "      <td>600.0</td>\n",
       "    </tr>\n",
       "    <tr>\n",
       "      <th>3</th>\n",
       "      <td>2.367320e-27</td>\n",
       "      <td>0.002367</td>\n",
       "      <td>0.896278</td>\n",
       "      <td>0.891992</td>\n",
       "      <td>1.000000</td>\n",
       "      <td>1.000000</td>\n",
       "      <td>600.0</td>\n",
       "    </tr>\n",
       "  </tbody>\n",
       "</table>\n",
       "</div>"
      ],
      "text/plain": [
       "         abscom  k(ig) / k(ig - 1)        dg       dgs  dg cumsum  dgs cumsum  \\\n",
       "g                                                                               \n",
       "1  1.191913e-23                NaN  0.019472  0.021028   0.019472    0.021028   \n",
       "2  1.000017e-24           0.083900  0.084250  0.086980   0.103722    0.108008   \n",
       "3  2.367320e-27           0.002367  0.896278  0.891992   1.000000    1.000000   \n",
       "\n",
       "    pref  \n",
       "g         \n",
       "1  600.0  \n",
       "2  600.0  \n",
       "3  600.0  "
      ]
     },
     "metadata": {},
     "output_type": "display_data"
    },
    {
     "data": {
      "text/markdown": [
       "TABLE. g-interval summary.  *abscom* is the lower bound of the g-interval."
      ],
      "text/plain": [
       "<IPython.core.display.Markdown object>"
      ]
     },
     "metadata": {},
     "output_type": "display_data"
    },
    {
     "data": {
      "text/html": [
       "<a id=\"Download_Data\"></a>"
      ],
      "text/plain": [
       "<IPython.core.display.HTML object>"
      ]
     },
     "metadata": {},
     "output_type": "display_data"
    },
    {
     "data": {
      "text/markdown": [
       "# Download Data"
      ],
      "text/plain": [
       "<IPython.core.display.Markdown object>"
      ]
     },
     "metadata": {},
     "output_type": "display_data"
    },
    {
     "data": {
      "text/html": [
       "Download: <a href=\"./lblnew-bestfit_flux.xlsx\">lblnew-bestfit_flux.xlsx</a>"
      ],
      "text/plain": [
       "<IPython.core.display.HTML object>"
      ]
     },
     "metadata": {},
     "output_type": "display_data"
    },
    {
     "data": {
      "text/html": [
       "Download: <a href=\"./lblnew-bestfit_cool.xlsx\">lblnew-bestfit_cool.xlsx</a>"
      ],
      "text/plain": [
       "<IPython.core.display.HTML object>"
      ]
     },
     "metadata": {},
     "output_type": "display_data"
    }
   ],
   "source": [
    "script()"
   ]
  },
  {
   "cell_type": "code",
   "execution_count": 14,
   "metadata": {},
   "outputs": [
    {
     "data": {
      "text/html": [
       "<script>\n",
       "code_show=true; \n",
       "function code_toggle() {\n",
       " if (code_show){\n",
       " $('div.input').hide();\n",
       " } else {\n",
       " $('div.input').show();\n",
       " }\n",
       " code_show = !code_show\n",
       "} \n",
       "$( document ).ready(code_toggle);\n",
       "</script>\n",
       "<form action=\"javascript:code_toggle()\"><input type=\"submit\" value=\"Click here to toggle on/off the raw code.\"></form>"
      ],
      "text/plain": [
       "<IPython.core.display.HTML object>"
      ]
     },
     "execution_count": 14,
     "metadata": {},
     "output_type": "execute_result"
    }
   ],
   "source": [
    "display.HTML('''<script>\n",
    "code_show=true; \n",
    "function code_toggle() {\n",
    " if (code_show){\n",
    " $('div.input').hide();\n",
    " } else {\n",
    " $('div.input').show();\n",
    " }\n",
    " code_show = !code_show\n",
    "} \n",
    "$( document ).ready(code_toggle);\n",
    "</script>\n",
    "<form action=\"javascript:code_toggle()\"><input type=\"submit\" value=\"Click here to toggle on/off the raw code.\"></form>''')"
   ]
  },
  {
   "cell_type": "code",
   "execution_count": 15,
   "metadata": {
    "collapsed": true
   },
   "outputs": [],
   "source": []
  }
 ],
 "metadata": {
  "kernelspec": {
   "display_name": "Python 3",
   "language": "python",
   "name": "python3"
  },
  "language_info": {
   "codemirror_mode": {
    "name": "ipython",
    "version": 3
   },
   "file_extension": ".py",
   "mimetype": "text/x-python",
   "name": "python",
   "nbconvert_exporter": "python",
   "pygments_lexer": "ipython3",
   "version": "3.6.1"
  }
 },
 "nbformat": 4,
 "nbformat_minor": 2
}
