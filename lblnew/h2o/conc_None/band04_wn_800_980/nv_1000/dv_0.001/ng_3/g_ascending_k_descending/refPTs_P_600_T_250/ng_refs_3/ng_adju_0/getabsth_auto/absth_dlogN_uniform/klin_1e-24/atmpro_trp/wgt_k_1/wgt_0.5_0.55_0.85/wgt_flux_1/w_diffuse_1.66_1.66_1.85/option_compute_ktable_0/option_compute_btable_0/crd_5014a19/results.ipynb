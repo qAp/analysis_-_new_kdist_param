{
 "cells": [
  {
   "cell_type": "code",
   "execution_count": 1,
   "metadata": {
    "collapsed": true
   },
   "outputs": [],
   "source": [
    "%reload_ext autoreload\n",
    "%autoreload 2\n",
    "%matplotlib inline"
   ]
  },
  {
   "cell_type": "code",
   "execution_count": 2,
   "metadata": {
    "collapsed": true
   },
   "outputs": [],
   "source": [
    "import io\n",
    "\n",
    "import numpy as np\n",
    "import pymongo\n",
    "\n",
    "from bokeh.io import output_notebook, show\n",
    "from bokeh.palettes import all_palettes\n",
    "from bokeh.layouts import gridplot\n",
    "\n",
    "from IPython import display\n",
    "\n",
    "from climatools.cliradlw.dataset import load_output_file\n",
    "import climatools.html.html as climahtml\n",
    "from climatools.plot.plot import *"
   ]
  },
  {
   "cell_type": "code",
   "execution_count": 3,
   "metadata": {},
   "outputs": [
    {
     "data": {
      "text/html": [
       "\n",
       "    <div class=\"bk-root\">\n",
       "        <a href=\"https://bokeh.pydata.org\" target=\"_blank\" class=\"bk-logo bk-logo-small bk-logo-notebook\"></a>\n",
       "        <span id=\"b7eedd55-c5d1-4107-8cc8-959a805198a9\">Loading BokehJS ...</span>\n",
       "    </div>"
      ]
     },
     "metadata": {},
     "output_type": "display_data"
    },
    {
     "data": {
      "application/javascript": [
       "\n",
       "(function(root) {\n",
       "  function now() {\n",
       "    return new Date();\n",
       "  }\n",
       "\n",
       "  var force = true;\n",
       "\n",
       "  if (typeof (root._bokeh_onload_callbacks) === \"undefined\" || force === true) {\n",
       "    root._bokeh_onload_callbacks = [];\n",
       "    root._bokeh_is_loading = undefined;\n",
       "  }\n",
       "\n",
       "  var JS_MIME_TYPE = 'application/javascript';\n",
       "  var HTML_MIME_TYPE = 'text/html';\n",
       "  var EXEC_MIME_TYPE = 'application/vnd.bokehjs_exec.v0+json';\n",
       "  var CLASS_NAME = 'output_bokeh rendered_html';\n",
       "\n",
       "  /**\n",
       "   * Render data to the DOM node\n",
       "   */\n",
       "  function render(props, node) {\n",
       "    var script = document.createElement(\"script\");\n",
       "    node.appendChild(script);\n",
       "  }\n",
       "\n",
       "  /**\n",
       "   * Handle when an output is cleared or removed\n",
       "   */\n",
       "  function handleClearOutput(event, handle) {\n",
       "    var cell = handle.cell;\n",
       "\n",
       "    var id = cell.output_area._bokeh_element_id;\n",
       "    var server_id = cell.output_area._bokeh_server_id;\n",
       "    // Clean up Bokeh references\n",
       "    if (id !== undefined) {\n",
       "      Bokeh.index[id].model.document.clear();\n",
       "      delete Bokeh.index[id];\n",
       "    }\n",
       "\n",
       "    if (server_id !== undefined) {\n",
       "      // Clean up Bokeh references\n",
       "      var cmd = \"from bokeh.io.state import curstate; print(curstate().uuid_to_server['\" + server_id + \"'].get_sessions()[0].document.roots[0]._id)\";\n",
       "      cell.notebook.kernel.execute(cmd, {\n",
       "        iopub: {\n",
       "          output: function(msg) {\n",
       "            var element_id = msg.content.text.trim();\n",
       "            Bokeh.index[element_id].model.document.clear();\n",
       "            delete Bokeh.index[element_id];\n",
       "          }\n",
       "        }\n",
       "      });\n",
       "      // Destroy server and session\n",
       "      var cmd = \"import bokeh.io.notebook as ion; ion.destroy_server('\" + server_id + \"')\";\n",
       "      cell.notebook.kernel.execute(cmd);\n",
       "    }\n",
       "  }\n",
       "\n",
       "  /**\n",
       "   * Handle when a new output is added\n",
       "   */\n",
       "  function handleAddOutput(event, handle) {\n",
       "    var output_area = handle.output_area;\n",
       "    var output = handle.output;\n",
       "\n",
       "    // limit handleAddOutput to display_data with EXEC_MIME_TYPE content only\n",
       "    if ((output.output_type != \"display_data\") || (!output.data.hasOwnProperty(EXEC_MIME_TYPE))) {\n",
       "      return\n",
       "    }\n",
       "\n",
       "    var toinsert = output_area.element.find(\".\" + CLASS_NAME.split(' ')[0]);\n",
       "\n",
       "    if (output.metadata[EXEC_MIME_TYPE][\"id\"] !== undefined) {\n",
       "      toinsert[toinsert.length - 1].firstChild.textContent = output.data[JS_MIME_TYPE];\n",
       "      // store reference to embed id on output_area\n",
       "      output_area._bokeh_element_id = output.metadata[EXEC_MIME_TYPE][\"id\"];\n",
       "    }\n",
       "    if (output.metadata[EXEC_MIME_TYPE][\"server_id\"] !== undefined) {\n",
       "      var bk_div = document.createElement(\"div\");\n",
       "      bk_div.innerHTML = output.data[HTML_MIME_TYPE];\n",
       "      var script_attrs = bk_div.children[0].attributes;\n",
       "      for (var i = 0; i < script_attrs.length; i++) {\n",
       "        toinsert[toinsert.length - 1].firstChild.setAttribute(script_attrs[i].name, script_attrs[i].value);\n",
       "      }\n",
       "      // store reference to server id on output_area\n",
       "      output_area._bokeh_server_id = output.metadata[EXEC_MIME_TYPE][\"server_id\"];\n",
       "    }\n",
       "  }\n",
       "\n",
       "  function register_renderer(events, OutputArea) {\n",
       "\n",
       "    function append_mime(data, metadata, element) {\n",
       "      // create a DOM node to render to\n",
       "      var toinsert = this.create_output_subarea(\n",
       "        metadata,\n",
       "        CLASS_NAME,\n",
       "        EXEC_MIME_TYPE\n",
       "      );\n",
       "      this.keyboard_manager.register_events(toinsert);\n",
       "      // Render to node\n",
       "      var props = {data: data, metadata: metadata[EXEC_MIME_TYPE]};\n",
       "      render(props, toinsert[toinsert.length - 1]);\n",
       "      element.append(toinsert);\n",
       "      return toinsert\n",
       "    }\n",
       "\n",
       "    /* Handle when an output is cleared or removed */\n",
       "    events.on('clear_output.CodeCell', handleClearOutput);\n",
       "    events.on('delete.Cell', handleClearOutput);\n",
       "\n",
       "    /* Handle when a new output is added */\n",
       "    events.on('output_added.OutputArea', handleAddOutput);\n",
       "\n",
       "    /**\n",
       "     * Register the mime type and append_mime function with output_area\n",
       "     */\n",
       "    OutputArea.prototype.register_mime_type(EXEC_MIME_TYPE, append_mime, {\n",
       "      /* Is output safe? */\n",
       "      safe: true,\n",
       "      /* Index of renderer in `output_area.display_order` */\n",
       "      index: 0\n",
       "    });\n",
       "  }\n",
       "\n",
       "  // register the mime type if in Jupyter Notebook environment and previously unregistered\n",
       "  if (root.Jupyter !== undefined) {\n",
       "    var events = require('base/js/events');\n",
       "    var OutputArea = require('notebook/js/outputarea').OutputArea;\n",
       "\n",
       "    if (OutputArea.prototype.mime_types().indexOf(EXEC_MIME_TYPE) == -1) {\n",
       "      register_renderer(events, OutputArea);\n",
       "    }\n",
       "  }\n",
       "\n",
       "  \n",
       "  if (typeof (root._bokeh_timeout) === \"undefined\" || force === true) {\n",
       "    root._bokeh_timeout = Date.now() + 5000;\n",
       "    root._bokeh_failed_load = false;\n",
       "  }\n",
       "\n",
       "  var NB_LOAD_WARNING = {'data': {'text/html':\n",
       "     \"<div style='background-color: #fdd'>\\n\"+\n",
       "     \"<p>\\n\"+\n",
       "     \"BokehJS does not appear to have successfully loaded. If loading BokehJS from CDN, this \\n\"+\n",
       "     \"may be due to a slow or bad network connection. Possible fixes:\\n\"+\n",
       "     \"</p>\\n\"+\n",
       "     \"<ul>\\n\"+\n",
       "     \"<li>re-rerun `output_notebook()` to attempt to load from CDN again, or</li>\\n\"+\n",
       "     \"<li>use INLINE resources instead, as so:</li>\\n\"+\n",
       "     \"</ul>\\n\"+\n",
       "     \"<code>\\n\"+\n",
       "     \"from bokeh.resources import INLINE\\n\"+\n",
       "     \"output_notebook(resources=INLINE)\\n\"+\n",
       "     \"</code>\\n\"+\n",
       "     \"</div>\"}};\n",
       "\n",
       "  function display_loaded() {\n",
       "    var el = document.getElementById(\"b7eedd55-c5d1-4107-8cc8-959a805198a9\");\n",
       "    if (el != null) {\n",
       "      el.textContent = \"BokehJS is loading...\";\n",
       "    }\n",
       "    if (root.Bokeh !== undefined) {\n",
       "      if (el != null) {\n",
       "        el.textContent = \"BokehJS \" + root.Bokeh.version + \" successfully loaded.\";\n",
       "      }\n",
       "    } else if (Date.now() < root._bokeh_timeout) {\n",
       "      setTimeout(display_loaded, 100)\n",
       "    }\n",
       "  }\n",
       "\n",
       "\n",
       "  function run_callbacks() {\n",
       "    try {\n",
       "      root._bokeh_onload_callbacks.forEach(function(callback) { callback() });\n",
       "    }\n",
       "    finally {\n",
       "      delete root._bokeh_onload_callbacks\n",
       "    }\n",
       "    console.info(\"Bokeh: all callbacks have finished\");\n",
       "  }\n",
       "\n",
       "  function load_libs(js_urls, callback) {\n",
       "    root._bokeh_onload_callbacks.push(callback);\n",
       "    if (root._bokeh_is_loading > 0) {\n",
       "      console.log(\"Bokeh: BokehJS is being loaded, scheduling callback at\", now());\n",
       "      return null;\n",
       "    }\n",
       "    if (js_urls == null || js_urls.length === 0) {\n",
       "      run_callbacks();\n",
       "      return null;\n",
       "    }\n",
       "    console.log(\"Bokeh: BokehJS not loaded, scheduling load and callback at\", now());\n",
       "    root._bokeh_is_loading = js_urls.length;\n",
       "    for (var i = 0; i < js_urls.length; i++) {\n",
       "      var url = js_urls[i];\n",
       "      var s = document.createElement('script');\n",
       "      s.src = url;\n",
       "      s.async = false;\n",
       "      s.onreadystatechange = s.onload = function() {\n",
       "        root._bokeh_is_loading--;\n",
       "        if (root._bokeh_is_loading === 0) {\n",
       "          console.log(\"Bokeh: all BokehJS libraries loaded\");\n",
       "          run_callbacks()\n",
       "        }\n",
       "      };\n",
       "      s.onerror = function() {\n",
       "        console.warn(\"failed to load library \" + url);\n",
       "      };\n",
       "      console.log(\"Bokeh: injecting script tag for BokehJS library: \", url);\n",
       "      document.getElementsByTagName(\"head\")[0].appendChild(s);\n",
       "    }\n",
       "  };var element = document.getElementById(\"b7eedd55-c5d1-4107-8cc8-959a805198a9\");\n",
       "  if (element == null) {\n",
       "    console.log(\"Bokeh: ERROR: autoload.js configured with elementid 'b7eedd55-c5d1-4107-8cc8-959a805198a9' but no matching script tag was found. \")\n",
       "    return false;\n",
       "  }\n",
       "\n",
       "  var js_urls = [\"https://cdn.pydata.org/bokeh/release/bokeh-0.12.16.min.js\", \"https://cdn.pydata.org/bokeh/release/bokeh-widgets-0.12.16.min.js\", \"https://cdn.pydata.org/bokeh/release/bokeh-tables-0.12.16.min.js\", \"https://cdn.pydata.org/bokeh/release/bokeh-gl-0.12.16.min.js\"];\n",
       "\n",
       "  var inline_js = [\n",
       "    function(Bokeh) {\n",
       "      Bokeh.set_log_level(\"info\");\n",
       "    },\n",
       "    \n",
       "    function(Bokeh) {\n",
       "      \n",
       "    },\n",
       "    function(Bokeh) {\n",
       "      console.log(\"Bokeh: injecting CSS: https://cdn.pydata.org/bokeh/release/bokeh-0.12.16.min.css\");\n",
       "      Bokeh.embed.inject_css(\"https://cdn.pydata.org/bokeh/release/bokeh-0.12.16.min.css\");\n",
       "      console.log(\"Bokeh: injecting CSS: https://cdn.pydata.org/bokeh/release/bokeh-widgets-0.12.16.min.css\");\n",
       "      Bokeh.embed.inject_css(\"https://cdn.pydata.org/bokeh/release/bokeh-widgets-0.12.16.min.css\");\n",
       "      console.log(\"Bokeh: injecting CSS: https://cdn.pydata.org/bokeh/release/bokeh-tables-0.12.16.min.css\");\n",
       "      Bokeh.embed.inject_css(\"https://cdn.pydata.org/bokeh/release/bokeh-tables-0.12.16.min.css\");\n",
       "    }\n",
       "  ];\n",
       "\n",
       "  function run_inline_js() {\n",
       "    \n",
       "    if ((root.Bokeh !== undefined) || (force === true)) {\n",
       "      for (var i = 0; i < inline_js.length; i++) {\n",
       "        inline_js[i].call(root, root.Bokeh);\n",
       "      }if (force === true) {\n",
       "        display_loaded();\n",
       "      }} else if (Date.now() < root._bokeh_timeout) {\n",
       "      setTimeout(run_inline_js, 100);\n",
       "    } else if (!root._bokeh_failed_load) {\n",
       "      console.log(\"Bokeh: BokehJS failed to load within specified timeout.\");\n",
       "      root._bokeh_failed_load = true;\n",
       "    } else if (force !== true) {\n",
       "      var cell = $(document.getElementById(\"b7eedd55-c5d1-4107-8cc8-959a805198a9\")).parents('.cell').data().cell;\n",
       "      cell.output_area.append_execute_result(NB_LOAD_WARNING)\n",
       "    }\n",
       "\n",
       "  }\n",
       "\n",
       "  if (root._bokeh_is_loading === 0) {\n",
       "    console.log(\"Bokeh: BokehJS loaded, going straight to plotting\");\n",
       "    run_inline_js();\n",
       "  } else {\n",
       "    load_libs(js_urls, function() {\n",
       "      console.log(\"Bokeh: BokehJS plotting callback run at\", now());\n",
       "      run_inline_js();\n",
       "    });\n",
       "  }\n",
       "}(window));"
      ],
      "application/vnd.bokehjs_load.v0+json": "\n(function(root) {\n  function now() {\n    return new Date();\n  }\n\n  var force = true;\n\n  if (typeof (root._bokeh_onload_callbacks) === \"undefined\" || force === true) {\n    root._bokeh_onload_callbacks = [];\n    root._bokeh_is_loading = undefined;\n  }\n\n  \n\n  \n  if (typeof (root._bokeh_timeout) === \"undefined\" || force === true) {\n    root._bokeh_timeout = Date.now() + 5000;\n    root._bokeh_failed_load = false;\n  }\n\n  var NB_LOAD_WARNING = {'data': {'text/html':\n     \"<div style='background-color: #fdd'>\\n\"+\n     \"<p>\\n\"+\n     \"BokehJS does not appear to have successfully loaded. If loading BokehJS from CDN, this \\n\"+\n     \"may be due to a slow or bad network connection. Possible fixes:\\n\"+\n     \"</p>\\n\"+\n     \"<ul>\\n\"+\n     \"<li>re-rerun `output_notebook()` to attempt to load from CDN again, or</li>\\n\"+\n     \"<li>use INLINE resources instead, as so:</li>\\n\"+\n     \"</ul>\\n\"+\n     \"<code>\\n\"+\n     \"from bokeh.resources import INLINE\\n\"+\n     \"output_notebook(resources=INLINE)\\n\"+\n     \"</code>\\n\"+\n     \"</div>\"}};\n\n  function display_loaded() {\n    var el = document.getElementById(\"b7eedd55-c5d1-4107-8cc8-959a805198a9\");\n    if (el != null) {\n      el.textContent = \"BokehJS is loading...\";\n    }\n    if (root.Bokeh !== undefined) {\n      if (el != null) {\n        el.textContent = \"BokehJS \" + root.Bokeh.version + \" successfully loaded.\";\n      }\n    } else if (Date.now() < root._bokeh_timeout) {\n      setTimeout(display_loaded, 100)\n    }\n  }\n\n\n  function run_callbacks() {\n    try {\n      root._bokeh_onload_callbacks.forEach(function(callback) { callback() });\n    }\n    finally {\n      delete root._bokeh_onload_callbacks\n    }\n    console.info(\"Bokeh: all callbacks have finished\");\n  }\n\n  function load_libs(js_urls, callback) {\n    root._bokeh_onload_callbacks.push(callback);\n    if (root._bokeh_is_loading > 0) {\n      console.log(\"Bokeh: BokehJS is being loaded, scheduling callback at\", now());\n      return null;\n    }\n    if (js_urls == null || js_urls.length === 0) {\n      run_callbacks();\n      return null;\n    }\n    console.log(\"Bokeh: BokehJS not loaded, scheduling load and callback at\", now());\n    root._bokeh_is_loading = js_urls.length;\n    for (var i = 0; i < js_urls.length; i++) {\n      var url = js_urls[i];\n      var s = document.createElement('script');\n      s.src = url;\n      s.async = false;\n      s.onreadystatechange = s.onload = function() {\n        root._bokeh_is_loading--;\n        if (root._bokeh_is_loading === 0) {\n          console.log(\"Bokeh: all BokehJS libraries loaded\");\n          run_callbacks()\n        }\n      };\n      s.onerror = function() {\n        console.warn(\"failed to load library \" + url);\n      };\n      console.log(\"Bokeh: injecting script tag for BokehJS library: \", url);\n      document.getElementsByTagName(\"head\")[0].appendChild(s);\n    }\n  };var element = document.getElementById(\"b7eedd55-c5d1-4107-8cc8-959a805198a9\");\n  if (element == null) {\n    console.log(\"Bokeh: ERROR: autoload.js configured with elementid 'b7eedd55-c5d1-4107-8cc8-959a805198a9' but no matching script tag was found. \")\n    return false;\n  }\n\n  var js_urls = [\"https://cdn.pydata.org/bokeh/release/bokeh-0.12.16.min.js\", \"https://cdn.pydata.org/bokeh/release/bokeh-widgets-0.12.16.min.js\", \"https://cdn.pydata.org/bokeh/release/bokeh-tables-0.12.16.min.js\", \"https://cdn.pydata.org/bokeh/release/bokeh-gl-0.12.16.min.js\"];\n\n  var inline_js = [\n    function(Bokeh) {\n      Bokeh.set_log_level(\"info\");\n    },\n    \n    function(Bokeh) {\n      \n    },\n    function(Bokeh) {\n      console.log(\"Bokeh: injecting CSS: https://cdn.pydata.org/bokeh/release/bokeh-0.12.16.min.css\");\n      Bokeh.embed.inject_css(\"https://cdn.pydata.org/bokeh/release/bokeh-0.12.16.min.css\");\n      console.log(\"Bokeh: injecting CSS: https://cdn.pydata.org/bokeh/release/bokeh-widgets-0.12.16.min.css\");\n      Bokeh.embed.inject_css(\"https://cdn.pydata.org/bokeh/release/bokeh-widgets-0.12.16.min.css\");\n      console.log(\"Bokeh: injecting CSS: https://cdn.pydata.org/bokeh/release/bokeh-tables-0.12.16.min.css\");\n      Bokeh.embed.inject_css(\"https://cdn.pydata.org/bokeh/release/bokeh-tables-0.12.16.min.css\");\n    }\n  ];\n\n  function run_inline_js() {\n    \n    if ((root.Bokeh !== undefined) || (force === true)) {\n      for (var i = 0; i < inline_js.length; i++) {\n        inline_js[i].call(root, root.Bokeh);\n      }if (force === true) {\n        display_loaded();\n      }} else if (Date.now() < root._bokeh_timeout) {\n      setTimeout(run_inline_js, 100);\n    } else if (!root._bokeh_failed_load) {\n      console.log(\"Bokeh: BokehJS failed to load within specified timeout.\");\n      root._bokeh_failed_load = true;\n    } else if (force !== true) {\n      var cell = $(document.getElementById(\"b7eedd55-c5d1-4107-8cc8-959a805198a9\")).parents('.cell').data().cell;\n      cell.output_area.append_execute_result(NB_LOAD_WARNING)\n    }\n\n  }\n\n  if (root._bokeh_is_loading === 0) {\n    console.log(\"Bokeh: BokehJS loaded, going straight to plotting\");\n    run_inline_js();\n  } else {\n    load_libs(js_urls, function() {\n      console.log(\"Bokeh: BokehJS plotting callback run at\", now());\n      run_inline_js();\n    });\n  }\n}(window));"
     },
     "metadata": {},
     "output_type": "display_data"
    }
   ],
   "source": [
    "output_notebook()"
   ]
  },
  {
   "cell_type": "code",
   "execution_count": 4,
   "metadata": {
    "collapsed": true
   },
   "outputs": [],
   "source": [
    "def make_query(param=None):\n",
    "    '''\n",
    "    Returns the MongoDB query for a lblnew \n",
    "    run's document.\n",
    "    \n",
    "    Parameters\n",
    "    ----------\n",
    "    param: dict\n",
    "    lblnew-bestfit input parameters.\n",
    "    '''\n",
    "    return {'param.' + name: value for name, value in param.items()}   "
   ]
  },
  {
   "cell_type": "code",
   "execution_count": 5,
   "metadata": {
    "collapsed": true
   },
   "outputs": [],
   "source": [
    "def print_input_param():\n",
    "    '''\n",
    "    Print to screen the input parameters \n",
    "    of the lblnew run.\n",
    "    '''\n",
    "    df = pd.DataFrame(columns=['lblnew'])\n",
    "    for name, value in sorted(PARAM.items()):\n",
    "        df.loc[name, 'lblnew'] = value\n",
    "    \n",
    "    df.index.name = 'Input parameter'\n",
    "    df.columns.name = 'Run'\n",
    "    \n",
    "    pd.set_option('display.max_colwidth', -1)\n",
    "    display.display(df)\n",
    "    pd.reset_option('display.max_colwidth')"
   ]
  },
  {
   "cell_type": "code",
   "execution_count": 6,
   "metadata": {
    "collapsed": true
   },
   "outputs": [],
   "source": [
    "def fmt_cool(ds_in):\n",
    "    ds = ds_in.copy(deep=True)\n",
    "    \n",
    "    if 'i' in ds.dims:                                                                                               \n",
    "        ds = ds.sel(i=ds.dims['i']) \n",
    "        \n",
    "    if 'band' in ds.dims:\n",
    "        try:\n",
    "            ds = ds.squeeze('band')\n",
    "        except ValueError:\n",
    "            ds = ds.sum('band') \n",
    "            \n",
    "    return ds['coolrg']\n",
    "\n",
    "\n",
    "\n",
    "def pltdata_cool(g=None):\n",
    "    '''\n",
    "    Define the plotting data for cooling rate\n",
    "    profile plots.  Add/remove entries in\n",
    "    the `data` list.\n",
    "    \n",
    "    Parameters\n",
    "    ----------\n",
    "    g: int\n",
    "        g-interval to be plotted.  If None,\n",
    "        the sum over all g-intervals will be\n",
    "        plotted.\n",
    "    data: dict\n",
    "        Plot data, including colour, line attributes, etc.\n",
    "    '''\n",
    "    colors = all_palettes['Set1'][4]\n",
    "    \n",
    "    if g == None:\n",
    "        ds_cool_crd = DS_COOL_CRD.sum('g')\n",
    "        ds_cool_wgt = DS_COOL_WGT.sum('g')\n",
    "    else:\n",
    "        ds_cool_crd = DS_COOL_CRD.sel(g=g)\n",
    "        ds_cool_wgt = DS_COOL_WGT.sel(g=g)\n",
    "    \n",
    "    data = [\n",
    "        {'label': 'CRD',\n",
    "         'srs': fmt_cool(ds_cool_crd),\n",
    "         'line_dash': 'solid', 'line_width':1.5,\n",
    "         'marker': 'circle', 'mark_size': 5,\n",
    "         'color': colors[2], 'alpha': 1},\n",
    "        {'label': 'WGT igg=1',\n",
    "         'srs': fmt_cool(ds_cool_wgt.sel(igg=1)),\n",
    "         'line_dash': 'solid', 'line_width': 3,\n",
    "         'marker': 'square', 'marker_size': 5,\n",
    "         'color': colors[3], 'alpha': .6},\n",
    "        {'label': 'WGT igg=10',\n",
    "         'srs': fmt_cool(ds_cool_wgt.sel(igg=10)),\n",
    "         'line_dash': 'solid', 'line_width': 2,\n",
    "         'marker': 'triangle', 'marker_size': 2,\n",
    "         'color': colors[1], 'alpha': .3}]\n",
    "    return data\n",
    "\n",
    "\n",
    "\n",
    "def plt_cool(pltdata=None):\n",
    "    '''\n",
    "    Plot cooling rate profiles on linear\n",
    "    and log pressure axes.\n",
    "    \n",
    "    Parameters\n",
    "    ----------\n",
    "    pltdata: dict\n",
    "        Plot data, including colour, line attributes, etc.\n",
    "    everything: bokeh.models.layouts.Column\n",
    "        Cooling rate profile plot.\n",
    "    '''\n",
    "    plin = plt_vert_profile_bokeh(pltdata=pltdata, \n",
    "                                  y_axis_type='linear',\n",
    "                                  prange=(50, 1050))\n",
    "    plin.plot_width, plin.plot_height = 400, 500\n",
    "    \n",
    "    plog = plt_vert_profile_bokeh(pltdata=pltdata,\n",
    "                                  y_axis_type='log',\n",
    "                                  prange=(.01, 200)) \n",
    "    plog.plot_width, plog.plot_height = 400, 500\n",
    "    \n",
    "    everything = gridplot(plin, plog, ncols=2)\n",
    "    return everything\n",
    "    \n",
    "    \n",
    "\n",
    "def script_plt_cool():\n",
    "    '''\n",
    "    Script to plot the cooling rate profiles\n",
    "    in each g-interval and the total \n",
    "    cooling rate profile over all g-intervals.\n",
    "    '''\n",
    "    ng = sum(PARAM['ng_refs'])\n",
    "    for g in np.arange(1, ng + 1):\n",
    "        data = pltdata_cool(g=g)\n",
    "        p = plt_cool(pltdata=data)\n",
    "        show(p)\n",
    "        display.display(\n",
    "            display.Markdown(f'*FIGURE.* Cooling rates. g={g}'))\n",
    "    \n",
    "    data = pltdata_cool()\n",
    "    p = plt_cool(pltdata=data)\n",
    "    show(p)\n",
    "    display.display(\n",
    "        display.Markdown(f'*FIGURE.* Cooling rates. Summed over g.'))\n",
    "    \n"
   ]
  },
  {
   "cell_type": "code",
   "execution_count": 7,
   "metadata": {
    "collapsed": true
   },
   "outputs": [],
   "source": [
    "def fmt_flux(ds_in, ilevels=None):\n",
    "    ds = ds_in.copy(deep=True)\n",
    "    \n",
    "    for l in ('level', 'layer'):\n",
    "        if l in ds.data_vars:\n",
    "            if len(ds[l].dims) > 1:\n",
    "                surface = {d: 0 for d in ds.dims if d != 'pressure'}\n",
    "                coord_level = ds[l][surface]\n",
    "                ds.coords[l] = ('pressure', coord_level)\n",
    "            else:\n",
    "                ds.coords[l] = ('pressure', ds[l])\n",
    "    \n",
    "    if ilevels:\n",
    "        ds = ds.isel(pressure=ilevels)\n",
    "\n",
    "    if 'i' in ds.dims:                                                                                               \n",
    "        ds = ds.sel(i=ds.dims['i'])\n",
    "        \n",
    "    #if 'igg' in ds.dims:\n",
    "    #    ds = ds.squeeze('igg').drop('igg')\n",
    "        \n",
    "    if 'igg' in ds:\n",
    "        if ds['igg'].shape == (1,):\n",
    "            ds = ds.squeeze('igg').drop('igg')\n",
    "        elif ds['igg'].shape == ():\n",
    "            ds = ds.drop('igg')\n",
    "            \n",
    "    if 'g' in ds:\n",
    "        if ds['g'].shape == (1,):\n",
    "            ds = ds.squeeze('g').drop('g')\n",
    "        elif ds['g'].shape == ():\n",
    "            ds = ds.drop('g')\n",
    "            \n",
    "    if 'band' in ds.dims:\n",
    "        try:\n",
    "            ds = ds.squeeze('band').drop('band')\n",
    "        except ValueError:\n",
    "            ds = ds.sum('band')\n",
    "                \n",
    "    df = ds.to_dataframe()\n",
    "    df = df.set_index('level', append=True)               \n",
    "    return df\n",
    "\n",
    "\n",
    "def tbdata_flux():\n",
    "    '''\n",
    "    Define the flux data to be tabulated for\n",
    "    the g-intervals.  Add/remove entries in the\n",
    "    `tbs` list.\n",
    "    \n",
    "    Parameters\n",
    "    ----------\n",
    "    data: dict\n",
    "        Flux data, including how each set is to be\n",
    "        labeled in the output table.\n",
    "    '''\n",
    "    tropopauses = {'mls': 40, 'saw': 45, 'trp': 37}\n",
    "    atmpro = PARAM['atmpro']\n",
    "    ilevels = [0, tropopauses[atmpro], -1]\n",
    "    \n",
    "    benchmark = {'label': 'CRD',\n",
    "                 'df': fmt_flux(DS_FLUX_CRD, ilevels=ilevels)}\n",
    "    \n",
    "    tbs = [{'label': 'WGT igg=1',\n",
    "            'df': fmt_flux(DS_FLUX_WGT.sel(igg=[1]), ilevels=ilevels)},\n",
    "           {'label': 'WGT igg=10',\n",
    "            'df': fmt_flux(DS_FLUX_WGT.sel(igg=[10]), ilevels=ilevels)}]\n",
    "    \n",
    "    data = {'benchmark': benchmark, 'others': tbs}\n",
    "    return data\n",
    "\n",
    "\n",
    "\n",
    "def tbdata_flux_sumg():\n",
    "    '''\n",
    "    Define the total flux data, over all g-intervals,\n",
    "    to be tabulated.\n",
    "    \n",
    "    Parameters\n",
    "    ----------\n",
    "    data: dict\n",
    "        Flux data, including how each set is to e\n",
    "        labeled in the output table.\n",
    "    '''\n",
    "    tropopauses = {'mls': 40, 'saw': 45, 'trp': 37}\n",
    "    \n",
    "    atmpro = PARAM['atmpro']\n",
    "    ilevels = [0, tropopauses[atmpro], -1]\n",
    "    \n",
    "    benchmark = {'label': 'CRD',\n",
    "                 'df': fmt_flux(DS_FLUX_CRD.sum('g'), ilevels=ilevels)}\n",
    "    \n",
    "    tbs = [{'label': 'WGT igg=1',\n",
    "            'df': fmt_flux(DS_FLUX_WGT.sel(igg=[1]).sum('g'), \n",
    "                           ilevels=ilevels)},\n",
    "           {'label': 'WGT igg=10',\n",
    "            'df': fmt_flux(DS_FLUX_WGT.sel(igg=[10]).sum('g'), \n",
    "                           ilevels=ilevels)}]\n",
    "    \n",
    "    data = {'benchmark': benchmark, 'others': tbs}\n",
    "    return data\n",
    "\n",
    "\n",
    "def tb_flux(tbdata=None):\n",
    "    '''\n",
    "    Display flux table for each set, and display\n",
    "    the difference between each set and the set\n",
    "    that is specified to be the benchmark.\n",
    "    \n",
    "    Parameters\n",
    "    ----------\n",
    "    tbdata: dict\n",
    "        Flux data, including how each set it to be\n",
    "        labeled in the output table.\n",
    "    '''\n",
    "    benchmark = tbdata['benchmark']\n",
    "    others = tbdata['others']\n",
    "    \n",
    "    def show_tb(d=None):\n",
    "        display.display(d['df'])\n",
    "        display.display(display.Markdown(\n",
    "            f\"*TABLE.* Fluxes. {d['label']}\"))\n",
    "        \n",
    "    def show_tbdiff(d0=None, d=None):\n",
    "        df = d['df']\n",
    "        df.index = d0['df'].index\n",
    "        display.display(df - d0['df'])\n",
    "        display.display(display.Markdown(\n",
    "            f\"*TABLE.* Fluxes. ({d['label']}) - ({d0['label']})\"))\n",
    "        \n",
    "    show_tb(benchmark)\n",
    "    for d in others:\n",
    "        show_tb(d)\n",
    "        \n",
    "    for d in others:\n",
    "        show_tbdiff(d=d, d0=benchmark)\n",
    "        \n",
    "\n",
    "        \n",
    "def script_tb_flux():\n",
    "    '''\n",
    "    Script to display the flux tables in \n",
    "    each g-interval, and the flux table\n",
    "    for the total flux, over all g-intervals.\n",
    "    '''\n",
    "    tb_flux(tbdata=tbdata_flux())\n",
    "    tb_flux(tbdata=tbdata_flux_sumg())\n"
   ]
  },
  {
   "cell_type": "code",
   "execution_count": 8,
   "metadata": {
    "collapsed": true
   },
   "outputs": [],
   "source": [
    "def script_gsummary():\n",
    "    '''\n",
    "    Script to display how the g-intervals\n",
    "    are defined according the hyperparameters\n",
    "    chosen for this lblnew-bestfit run.\n",
    "    '''\n",
    "    ng_refs = PARAM['ng_refs']\n",
    "    p_refs = list(zip(*PARAM['ref_pts']))[0]\n",
    "    ng = sum(ng_refs)\n",
    "    df_abscom = pd.read_csv(io.StringIO(DOC['abscom']), \n",
    "                            sep=r'\\s+', index_col=[0])\n",
    "    df_dgdgs = pd.read_csv(io.StringIO(DOC['dgdgs']), \n",
    "                            sep=r'\\s+', index_col=[0])\n",
    "    \n",
    "    # absth(g + 1) / absth(g)\n",
    "    df_abscom_copy = df_abscom.copy()\n",
    "    df_abscom_copy.index = df_abscom.index + 1\n",
    "    df_absratio = df_abscom / df_abscom_copy\n",
    "    df_absratio.columns = ['k(ig) / k(ig - 1)']\n",
    "    df_absratio = df_absratio.loc[: ng]    \n",
    "    \n",
    "    df_dgdgs_cumsum = df_dgdgs.cumsum(axis=0)\n",
    "    df_dgdgs_cumsum.columns = ['dg cumsum', 'dgs cumsum']\n",
    "    \n",
    "    data_pref = np.concatenate([p_ref * np.ones((ng_ref,)) \n",
    "                                for ng_ref, p_ref \n",
    "                                in zip(ng_refs, p_refs)], axis=0)\n",
    "    df_pref = pd.DataFrame(data_pref, \n",
    "                           index=df_dgdgs.index, columns=['pref'])\n",
    "    \n",
    "    df_all = pd.concat([df_abscom, df_absratio,\n",
    "                        df_dgdgs, df_dgdgs_cumsum,\n",
    "                        df_pref], axis=1) \n",
    "    \n",
    "    display.display(df_all)\n",
    "    display.display(display.Markdown(\n",
    "        (f\"TABLE. g-interval summary.  \"\n",
    "         f\"*abscom* is the lower bound of the g-interval.\")))\n",
    "    \n"
   ]
  },
  {
   "cell_type": "code",
   "execution_count": 9,
   "metadata": {
    "collapsed": true
   },
   "outputs": [],
   "source": [
    "def script_flux_to_excel():\n",
    "    '''\n",
    "    Script to save the lblnew-bestfit run's\n",
    "    output flux to excel file and display the\n",
    "    link to download the excel file.\n",
    "    '''\n",
    "    fname = 'lblnew-bestfit_flux.xlsx'\n",
    "    writer = pd.ExcelWriter(fname)\n",
    "    \n",
    "    ds = DS_FLUX_CRD\n",
    "    for g in ds.coords['g']:\n",
    "        df = ds.sel(g=g).to_dataframe()\n",
    "        df.to_excel(writer, f'crd flux g={int(g)}')\n",
    "                \n",
    "    ds = DS_FLUX_WGT\n",
    "    for g in ds.coords['g']:\n",
    "        df = ds.sel(g=g, igg=1).to_dataframe()\n",
    "        df.to_excel(writer, f'wgt igg=1 flux g={int(g)}')\n",
    "        \n",
    "        df = ds.sel(g=g, igg=10).to_dataframe()\n",
    "        df.to_excel(writer, f'wgt igg=10 flux g={int(g)}')\n",
    "        \n",
    "    writer.save()    \n",
    "    html_download = f'Download: <a href=\"./{fname}\">{fname}</a>'\n",
    "    display.display(display.HTML(html_download))\n",
    "\n",
    "\n",
    "def script_cool_to_excel():\n",
    "    '''\n",
    "    Script to save the lblnew-bestfit run's\n",
    "    output cooling rate to excel file and display\n",
    "    the link to download the excel file.\n",
    "    '''\n",
    "    fname = 'lblnew-bestfit_cool.xlsx'\n",
    "    writer = pd.ExcelWriter(fname)\n",
    "    \n",
    "    ds = DS_COOL_CRD\n",
    "    for g in ds.coords['g']:\n",
    "        df = ds.sel(g=g).to_dataframe()\n",
    "        df.to_excel(writer, f'crd cool g={int(g)}')\n",
    "        \n",
    "    ds = DS_COOL_WGT\n",
    "    for g in ds.coords['g']:\n",
    "        df = ds.sel(g=g, igg=1).to_dataframe()\n",
    "        df.to_excel(writer, f'wgt igg=1 cool g={int(g)}')\n",
    "        \n",
    "        df = ds.sel(g=g, igg=10).to_dataframe()\n",
    "        df.to_excel(writer, f'wgt igg=10 cool g={int(g)}')\n",
    "        \n",
    "    writer.save()\n",
    "    html_download = f'Download: <a href=\"./{fname}\">{fname}</a>'\n",
    "    display.display(display.HTML(html_download))"
   ]
  },
  {
   "cell_type": "code",
   "execution_count": 10,
   "metadata": {
    "collapsed": true
   },
   "outputs": [],
   "source": [
    "def show_html(s):\n",
    "    display.display(display.HTML(s))\n",
    "\n",
    "    \n",
    "def show_markdown(s):\n",
    "    display.display(display.Markdown(s))"
   ]
  },
  {
   "cell_type": "code",
   "execution_count": 11,
   "metadata": {
    "collapsed": true
   },
   "outputs": [],
   "source": [
    "def script():\n",
    "    title = ('### lblnew-bestfit' \n",
    "             if 'ng_refs' in PARAM else '### lblnew-overlap')\n",
    "    s_input = 'Input Parameters'\n",
    "    s_plt_cool = 'Cooling Rate Profiles'\n",
    "    s_tb_flux = 'Flux Comparison'\n",
    "    s_gsummary = 'g-interval Summary'\n",
    "    s_download = 'Download Data'\n",
    "    \n",
    "    # title\n",
    "    show_markdown(title)\n",
    "    \n",
    "    # TOC\n",
    "    show_markdown('### Table of Contents')\n",
    "    show_html(climahtml.getHTML_hrefanchor(s_input))\n",
    "    show_html(climahtml.getHTML_hrefanchor(s_plt_cool))\n",
    "    show_html(climahtml.getHTML_hrefanchor(s_tb_flux))\n",
    "    show_html(climahtml.getHTML_hrefanchor(s_gsummary))\n",
    "    show_html(climahtml.getHTML_hrefanchor(s_download))\n",
    "    \n",
    "    # Input parameters\n",
    "    show_html(climahtml.getHTML_idanchor(s_input))\n",
    "    show_markdown(climahtml.getMarkdown_sectitle(s_input))\n",
    "    print_input_param()\n",
    "    \n",
    "    # Cooling rate profiles\n",
    "    show_html(climahtml.getHTML_idanchor(s_plt_cool))\n",
    "    show_markdown(climahtml.getMarkdown_sectitle(s_plt_cool))\n",
    "    script_plt_cool()\n",
    "    \n",
    "    # Flux comparison\n",
    "    show_html(climahtml.getHTML_idanchor(s_tb_flux))\n",
    "    show_markdown(climahtml.getMarkdown_sectitle(s_tb_flux))\n",
    "    script_tb_flux()\n",
    "    \n",
    "    # g-interval summary\n",
    "    show_html(climahtml.getHTML_idanchor(s_gsummary))\n",
    "    show_markdown(climahtml.getMarkdown_sectitle(s_gsummary))\n",
    "    script_gsummary()\n",
    "    \n",
    "    # Download cooling rate and fluxes\n",
    "    show_html(climahtml.getHTML_idanchor(s_download))\n",
    "    show_markdown(climahtml.getMarkdown_sectitle(s_download))\n",
    "    script_flux_to_excel()\n",
    "    script_cool_to_excel()"
   ]
  },
  {
   "cell_type": "code",
   "execution_count": 12,
   "metadata": {
    "collapsed": true
   },
   "outputs": [],
   "source": [
    "%run param.py\n",
    "\n",
    "client = pymongo.MongoClient('localhost', 27017, connect=False)\n",
    "db = client.lblnew\n",
    "\n",
    "\n",
    "DOC = db.bestfit_lw.find_one(make_query(param=PARAM))\n",
    "DS_FLUX_CRD = load_output_file(io.StringIO(DOC['output_fluxg']))\n",
    "DS_COOL_CRD = load_output_file(io.StringIO(DOC['output_coolrg']))\n",
    "DS_FLUX_WGT = load_output_file(io.StringIO(DOC['output_wfluxg']))\n",
    "DS_COOL_WGT = load_output_file(io.StringIO(DOC['output_wcoolrg']))"
   ]
  },
  {
   "cell_type": "code",
   "execution_count": 13,
   "metadata": {
    "scrolled": false
   },
   "outputs": [
    {
     "data": {
      "text/markdown": [
       "### lblnew-bestfit"
      ],
      "text/plain": [
       "<IPython.core.display.Markdown object>"
      ]
     },
     "metadata": {},
     "output_type": "display_data"
    },
    {
     "data": {
      "text/markdown": [
       "### Table of Contents"
      ],
      "text/plain": [
       "<IPython.core.display.Markdown object>"
      ]
     },
     "metadata": {},
     "output_type": "display_data"
    },
    {
     "data": {
      "text/html": [
       "<a href=\"#Input_Parameters\">Input Parameters</a>"
      ],
      "text/plain": [
       "<IPython.core.display.HTML object>"
      ]
     },
     "metadata": {},
     "output_type": "display_data"
    },
    {
     "data": {
      "text/html": [
       "<a href=\"#Cooling_Rate_Profiles\">Cooling Rate Profiles</a>"
      ],
      "text/plain": [
       "<IPython.core.display.HTML object>"
      ]
     },
     "metadata": {},
     "output_type": "display_data"
    },
    {
     "data": {
      "text/html": [
       "<a href=\"#Flux_Comparison\">Flux Comparison</a>"
      ],
      "text/plain": [
       "<IPython.core.display.HTML object>"
      ]
     },
     "metadata": {},
     "output_type": "display_data"
    },
    {
     "data": {
      "text/html": [
       "<a href=\"#g-interval_Summary\">g-interval Summary</a>"
      ],
      "text/plain": [
       "<IPython.core.display.HTML object>"
      ]
     },
     "metadata": {},
     "output_type": "display_data"
    },
    {
     "data": {
      "text/html": [
       "<a href=\"#Download_Data\">Download Data</a>"
      ],
      "text/plain": [
       "<IPython.core.display.HTML object>"
      ]
     },
     "metadata": {},
     "output_type": "display_data"
    },
    {
     "data": {
      "text/html": [
       "<a id=\"Input_Parameters\"></a>"
      ],
      "text/plain": [
       "<IPython.core.display.HTML object>"
      ]
     },
     "metadata": {},
     "output_type": "display_data"
    },
    {
     "data": {
      "text/markdown": [
       "# Input Parameters"
      ],
      "text/plain": [
       "<IPython.core.display.Markdown object>"
      ]
     },
     "metadata": {},
     "output_type": "display_data"
    },
    {
     "data": {
      "text/html": [
       "<div>\n",
       "<style scoped>\n",
       "    .dataframe tbody tr th:only-of-type {\n",
       "        vertical-align: middle;\n",
       "    }\n",
       "\n",
       "    .dataframe tbody tr th {\n",
       "        vertical-align: top;\n",
       "    }\n",
       "\n",
       "    .dataframe thead th {\n",
       "        text-align: right;\n",
       "    }\n",
       "</style>\n",
       "<table border=\"1\" class=\"dataframe\">\n",
       "  <thead>\n",
       "    <tr style=\"text-align: right;\">\n",
       "      <th>Run</th>\n",
       "      <th>lblnew</th>\n",
       "    </tr>\n",
       "    <tr>\n",
       "      <th>Input parameter</th>\n",
       "      <th></th>\n",
       "    </tr>\n",
       "  </thead>\n",
       "  <tbody>\n",
       "    <tr>\n",
       "      <th>atmpro</th>\n",
       "      <td>trp</td>\n",
       "    </tr>\n",
       "    <tr>\n",
       "      <th>band</th>\n",
       "      <td>4</td>\n",
       "    </tr>\n",
       "    <tr>\n",
       "      <th>commitnumber</th>\n",
       "      <td>5014a19</td>\n",
       "    </tr>\n",
       "    <tr>\n",
       "      <th>conc</th>\n",
       "      <td>None</td>\n",
       "    </tr>\n",
       "    <tr>\n",
       "      <th>dv</th>\n",
       "      <td>0.001</td>\n",
       "    </tr>\n",
       "    <tr>\n",
       "      <th>klin</th>\n",
       "      <td>1e-24</td>\n",
       "    </tr>\n",
       "    <tr>\n",
       "      <th>molecule</th>\n",
       "      <td>h2o</td>\n",
       "    </tr>\n",
       "    <tr>\n",
       "      <th>ng_adju</th>\n",
       "      <td>[0]</td>\n",
       "    </tr>\n",
       "    <tr>\n",
       "      <th>ng_refs</th>\n",
       "      <td>[3]</td>\n",
       "    </tr>\n",
       "    <tr>\n",
       "      <th>nv</th>\n",
       "      <td>1000</td>\n",
       "    </tr>\n",
       "    <tr>\n",
       "      <th>option_compute_btable</th>\n",
       "      <td>0</td>\n",
       "    </tr>\n",
       "    <tr>\n",
       "      <th>option_compute_ktable</th>\n",
       "      <td>0</td>\n",
       "    </tr>\n",
       "    <tr>\n",
       "      <th>option_wgt_flux</th>\n",
       "      <td>1</td>\n",
       "    </tr>\n",
       "    <tr>\n",
       "      <th>option_wgt_k</th>\n",
       "      <td>1</td>\n",
       "    </tr>\n",
       "    <tr>\n",
       "      <th>ref_pts</th>\n",
       "      <td>[[600, 250]]</td>\n",
       "    </tr>\n",
       "    <tr>\n",
       "      <th>tsfc</th>\n",
       "      <td>300</td>\n",
       "    </tr>\n",
       "    <tr>\n",
       "      <th>vmax</th>\n",
       "      <td>980</td>\n",
       "    </tr>\n",
       "    <tr>\n",
       "      <th>vmin</th>\n",
       "      <td>800</td>\n",
       "    </tr>\n",
       "    <tr>\n",
       "      <th>w_diffuse</th>\n",
       "      <td>[[1.66, 1.66, 1.85]]</td>\n",
       "    </tr>\n",
       "    <tr>\n",
       "      <th>wgt</th>\n",
       "      <td>[[0.5, 0.55, 0.85]]</td>\n",
       "    </tr>\n",
       "  </tbody>\n",
       "</table>\n",
       "</div>"
      ],
      "text/plain": [
       "Run                                  lblnew\n",
       "Input parameter                            \n",
       "atmpro                 trp                 \n",
       "band                   4                   \n",
       "commitnumber           5014a19             \n",
       "conc                   None                \n",
       "dv                     0.001               \n",
       "klin                   1e-24               \n",
       "molecule               h2o                 \n",
       "ng_adju                [0]                 \n",
       "ng_refs                [3]                 \n",
       "nv                     1000                \n",
       "option_compute_btable  0                   \n",
       "option_compute_ktable  0                   \n",
       "option_wgt_flux        1                   \n",
       "option_wgt_k           1                   \n",
       "ref_pts                [[600, 250]]        \n",
       "tsfc                   300                 \n",
       "vmax                   980                 \n",
       "vmin                   800                 \n",
       "w_diffuse              [[1.66, 1.66, 1.85]]\n",
       "wgt                    [[0.5, 0.55, 0.85]] "
      ]
     },
     "metadata": {},
     "output_type": "display_data"
    },
    {
     "data": {
      "text/html": [
       "<a id=\"Cooling_Rate_Profiles\"></a>"
      ],
      "text/plain": [
       "<IPython.core.display.HTML object>"
      ]
     },
     "metadata": {},
     "output_type": "display_data"
    },
    {
     "data": {
      "text/markdown": [
       "# Cooling Rate Profiles"
      ],
      "text/plain": [
       "<IPython.core.display.Markdown object>"
      ]
     },
     "metadata": {},
     "output_type": "display_data"
    },
    {
     "data": {
      "text/html": [
       "\n",
       "<div class=\"bk-root\">\n",
       "    <div class=\"bk-plotdiv\" id=\"ae091463-81ee-4235-b8e9-2cdfd988444d\"></div>\n",
       "</div>"
      ]
     },
     "metadata": {},
     "output_type": "display_data"
    },
    {
     "data": {
      "application/javascript": [
       "(function(root) {\n",
       "  function embed_document(root) {\n",
       "    \n",
       "  var docs_json = {\"4b1b435d-7367-4580-bdee-3a1153c43f2d\":{\"roots\":{\"references\":[{\"attributes\":{\"items\":[{\"id\":\"81f3bf0e-041e-4b2c-9d27-ce1f0e4dc1d6\",\"type\":\"LegendItem\"},{\"id\":\"80d7c0f2-fd9a-4a9e-91f7-793ae83c6cb8\",\"type\":\"LegendItem\"},{\"id\":\"1ebde307-1cb7-4a57-920d-71b320534acf\",\"type\":\"LegendItem\"}],\"label_text_font_size\":{\"value\":\"8pt\"},\"location\":\"top_center\",\"orientation\":\"horizontal\",\"plot\":{\"id\":\"cfdcd3df-86c7-4f18-b2ba-d58a0bcc5501\",\"subtype\":\"Figure\",\"type\":\"Plot\"}},\"id\":\"2a812b7d-31b4-4a54-8085-25646d88fcc9\",\"type\":\"Legend\"},{\"attributes\":{},\"id\":\"593b2b74-2d25-4196-a17e-7864d980d0e3\",\"type\":\"PanTool\"},{\"attributes\":{\"line_alpha\":0.1,\"line_color\":\"#1f77b4\",\"line_width\":2,\"x\":{\"field\":\"x\"},\"y\":{\"field\":\"y\"}},\"id\":\"be1aa660-e328-4682-a99d-9d1a16a1753f\",\"type\":\"Line\"},{\"attributes\":{\"bottom_units\":\"screen\",\"fill_alpha\":{\"value\":0.5},\"fill_color\":{\"value\":\"lightgrey\"},\"left_units\":\"screen\",\"level\":\"overlay\",\"line_alpha\":{\"value\":1.0},\"line_color\":{\"value\":\"black\"},\"line_dash\":[4,4],\"line_width\":{\"value\":2},\"plot\":null,\"render_mode\":\"css\",\"right_units\":\"screen\",\"top_units\":\"screen\"},\"id\":\"05817049-ff36-41ae-bb0c-61c9bf19717e\",\"type\":\"BoxAnnotation\"},{\"attributes\":{\"data_source\":{\"id\":\"abc21a88-9d84-495b-83d9-149ffb91dd63\",\"type\":\"ColumnDataSource\"},\"glyph\":{\"id\":\"63f84006-1047-4959-89fa-11b18e9979e2\",\"type\":\"Line\"},\"hover_glyph\":null,\"muted_glyph\":null,\"nonselection_glyph\":{\"id\":\"be1aa660-e328-4682-a99d-9d1a16a1753f\",\"type\":\"Line\"},\"selection_glyph\":null,\"view\":{\"id\":\"3e1c725d-9abb-4f9f-8ff4-bc922afcbe83\",\"type\":\"CDSView\"}},\"id\":\"2b42e58c-5b5d-44f1-a22f-6961d561c1e9\",\"type\":\"GlyphRenderer\"},{\"attributes\":{\"source\":{\"id\":\"abc21a88-9d84-495b-83d9-149ffb91dd63\",\"type\":\"ColumnDataSource\"}},\"id\":\"3e1c725d-9abb-4f9f-8ff4-bc922afcbe83\",\"type\":\"CDSView\"},{\"attributes\":{\"active_drag\":\"auto\",\"active_inspect\":\"auto\",\"active_scroll\":\"auto\",\"active_tap\":\"auto\",\"tools\":[{\"id\":\"8afca35f-5f7b-4781-a05b-c68408266d21\",\"type\":\"PanTool\"},{\"id\":\"43225c36-5a0a-4c94-9acb-2276737c3abc\",\"type\":\"WheelZoomTool\"},{\"id\":\"a01c8863-3bd6-4c4e-9874-294c57ef1609\",\"type\":\"BoxZoomTool\"},{\"id\":\"7101da1d-f829-4d53-9947-328aa6d1f75d\",\"type\":\"SaveTool\"},{\"id\":\"7fd4f17a-c2ae-4e59-b508-d0097e877c86\",\"type\":\"ResetTool\"},{\"id\":\"30a15f41-53ac-434d-aa4c-a02ed8bb3bea\",\"type\":\"HelpTool\"}]},\"id\":\"8d234992-bdb0-4e74-9dbe-af5db4c9ab99\",\"type\":\"Toolbar\"},{\"attributes\":{\"source\":{\"id\":\"fd29203d-8c54-4add-909c-4c61ac7004ea\",\"type\":\"ColumnDataSource\"}},\"id\":\"599a150b-1818-4616-80ef-4763a59a2691\",\"type\":\"CDSView\"},{\"attributes\":{},\"id\":\"71bb231a-119c-4777-a7f9-97ab00208fcc\",\"type\":\"WheelZoomTool\"},{\"attributes\":{\"data_source\":{\"id\":\"fd29203d-8c54-4add-909c-4c61ac7004ea\",\"type\":\"ColumnDataSource\"},\"glyph\":{\"id\":\"d460763c-bfa1-47e4-89eb-b30c62ab1a50\",\"type\":\"Triangle\"},\"hover_glyph\":null,\"muted_glyph\":null,\"nonselection_glyph\":{\"id\":\"c14e0f23-4cb6-4a8b-b20d-65eb8bf56baf\",\"type\":\"Triangle\"},\"selection_glyph\":null,\"view\":{\"id\":\"599a150b-1818-4616-80ef-4763a59a2691\",\"type\":\"CDSView\"}},\"id\":\"ae8dbc25-4776-49e5-a52d-cdbcb14d32b5\",\"type\":\"GlyphRenderer\"},{\"attributes\":{\"overlay\":{\"id\":\"05817049-ff36-41ae-bb0c-61c9bf19717e\",\"type\":\"BoxAnnotation\"}},\"id\":\"b5943715-61de-4134-a7e3-338a0d4b171b\",\"type\":\"BoxZoomTool\"},{\"attributes\":{},\"id\":\"9b8ee62d-280e-42b8-85bd-a6dda4551c9c\",\"type\":\"SaveTool\"},{\"attributes\":{},\"id\":\"1150dbb1-bc7e-4aed-ab4c-2cc5339e96aa\",\"type\":\"ResetTool\"},{\"attributes\":{},\"id\":\"e457d6c1-a23f-4ce3-88f7-219e0bd56c37\",\"type\":\"BasicTicker\"},{\"attributes\":{},\"id\":\"35dc62c8-8811-4f40-8315-cda143b0b5dd\",\"type\":\"HelpTool\"},{\"attributes\":{\"callback\":null,\"data\":{\"x\":{\"__ndarray__\":\"GooZdBeD177haXRR0ofXvsaCzXAZj9e+ir7ixmWT175BtEj/Z5TXvpJEOEn0kde+k0kt8+qL177A2t+PHYLXvkg0CyRodNe+VMS2N6Bi174E4VfhnUzXvlDllhc9Mte+gxraUDoT1769cdh4eeTWvjz3Nnqa9tW+vUMlOOyK0r69sBlVC7/FvvVn1CA5IqU+/+zy/lGk2D6s3M/sw2PtPujSpFBmfvs+RXI8rbsMBj/hp+Qyq4QJP0a7XL6sPwY/j9/3Ix8YAT9qBtxxmdb2PqMatFy/aus+D28xF0Ea3D6G/RPN4bHBPvCfzaRlF7O+z1R+bwdjzL6zICopX4bUvpWSc1ehndi+4X8qZ0Ai275XUo4Fz1/cvm6ZznsXmNu+62OgBuyW2r58Fr2op0DcviC6YT+SpN++EA0xBuxn4r5FsAnrW8XqvhVCnCM8wvu+biaQZXVJBr92iggcthoJv6yoy302Iu2+rYXyqZerHD+MbRqywPU5P/wrZpmqhk4/+bhQX3EdXD9SgFjRR2JnPznwTT/fEHI/7hp+BVpSej9iV3Sa7j2CP/63YuQEJIg/S24hg22ojj/XXpcjXK+SPy4bjsgm4pU/g8nMhq6kmD9GsNQnd6eaPzE94Ajytps/RKOMz5ypmz/zK3COR2SaP4RJ3w5O8Jc/4W4qARptlT86P/DxPMqQP1IjV16wI4c/AwAd6BVWfD/CfslyhJ9vP9U1rg2Cf2M/qUKCMFcJXT/nlHEkOPtYPzq8nKBxi1c/ZV+Jci9RWT/xJgsdjDhjP+vNPadGT3k/\",\"dtype\":\"float64\",\"shape\":[75]},\"y\":{\"__ndarray__\":\"GhExyth1ND/Sv8nbtpRIP2vylNV0PVE/aTum7souWD/At0SJ8fVgPw3Iuahxymc/MSNhhJWvcD/bTfBN02d3P2zb5nxnaoA/CD5h5MAGhz8NmeH1TyaQP+zrCsc9p5Y/LbKd76fGnz/bLW5ISEmmPww9YvTcQq8/JV2OstnstT8Er5Y7M8G+P0c+r3jqkcU/5h99k6ZBzj88bCIzFzjVP4enV8oyxN0//yH99nXg5D8qOpLLf0jtP5kqGJXUifQ/c9cS8kHP/D+/DpwzojQEQIEmwoanVwxA4lgXt9HgE0BSSZ2AJuIbQAMJih9jjiNA5q4l5INuK0AwTKYKRj0zQNv5fmq8/DpAaCJseHrtQkB/+zpwzoxKQM3MzMzMeFJAZmZmZmZqWEAAAAAAAFxeQM3MzMzMJmJAmpmZmZkfZUBmZmZmZhhoQDMzMzMzEWtAAAAAAAAKbkBmZmZmZoFwQM3MzMzM/XFAMzMzMzN6c0CamZmZmfZ0QAAAAAAAc3ZAZmZmZmbvd0DNzMzMzGt5QDMzMzMz6HpAmpmZmZlkfEAAAAAAAOF9QGZmZmZmXX9AZmZmZuZsgECamZmZGSuBQM3MzMxM6YFAAAAAAICngkAzMzMzs2WDQGZmZmbmI4RAmpmZmRnihEDNzMzMTKCFQAAAAACAXoZAMzMzM7Mch0BmZmZm5tqHQJqZmZkZmYhAzczMzExXiUAAAAAAgBWKQDMzMzOz04pAZmZmZuaRi0CamZmZGVCMQM3MzMxMDo1AAAAAAIDMjUAzMzMzs4qOQGZmZmbmSI9A\",\"dtype\":\"float64\",\"shape\":[75]}},\"selected\":{\"id\":\"a094c086-eae4-47c1-b26c-0e626f561122\",\"type\":\"Selection\"},\"selection_policy\":{\"id\":\"5a8bd5d7-ae67-401d-974a-e04fff4bf597\",\"type\":\"UnionRenderers\"}},\"id\":\"abc21a88-9d84-495b-83d9-149ffb91dd63\",\"type\":\"ColumnDataSource\"},{\"attributes\":{\"label\":{\"value\":\"CRD\"},\"renderers\":[{\"id\":\"43591a17-c7bf-4733-8e41-8542eeb7f67a\",\"type\":\"GlyphRenderer\"},{\"id\":\"dda04045-11b0-4ee4-b917-49791e18b5b4\",\"type\":\"GlyphRenderer\"}]},\"id\":\"30a5a109-8842-41d2-a812-9fe8808da1d9\",\"type\":\"LegendItem\"},{\"attributes\":{\"data_source\":{\"id\":\"1b624b85-4636-4181-bddc-cf2b118785ed\",\"type\":\"ColumnDataSource\"},\"glyph\":{\"id\":\"012ae7b5-9393-4a16-87d5-d04d51875dcf\",\"type\":\"Line\"},\"hover_glyph\":null,\"muted_glyph\":null,\"nonselection_glyph\":{\"id\":\"1090ce34-8ec0-4714-9048-75d502727df8\",\"type\":\"Line\"},\"selection_glyph\":null,\"view\":{\"id\":\"c150e780-d44c-4a5f-984b-cd6d62a1e242\",\"type\":\"CDSView\"}},\"id\":\"dda04045-11b0-4ee4-b917-49791e18b5b4\",\"type\":\"GlyphRenderer\"},{\"attributes\":{\"line_alpha\":0.3,\"line_color\":\"#377eb8\",\"line_width\":2,\"x\":{\"field\":\"x\"},\"y\":{\"field\":\"y\"}},\"id\":\"63f84006-1047-4959-89fa-11b18e9979e2\",\"type\":\"Line\"},{\"attributes\":{\"callback\":null,\"data\":{\"x\":{\"__ndarray__\":\"8NlW9j/02L7xixMstvLYvv1JBHHC7Ni+byYUdLfi2L5R4ywSeNTYvhYYHzbSwdi+QvQ05JSq2L6kONe5jY7YvlOGbRKLbdi+9IgKCltH2L5/fd9VyhvYvptCLjWn6te+YLV7aI2z176rccwXL2TXvpAJ6ly98dW+L0iqU9oa0b68bOSRKpK7vsIYNw9CDsU+pIpepSct4z4JsQzI8T/0PpwQRbUODQI/R2YbgfZFDD/BGdlpKkQQP8xn6rPthQw/ixqIVkcwBj8d0WC7WF7+PveLLbssDvM+y1NFPqhy5T7hsGdGl7PSPlR62eCjmZY+TIz71vJqxb6eHI6chwLTvj4TNETBhdi+KWMrD1oU3L7uk70hwzfevon9oM9n+t2+D/ordBEb3b4eI/GnUMPevhbTXKNo8uC+yvSHR4RB4773JCw9aALrviqQeRPiT/q+GVi4s1p6Ar+FZ8Q4/7f5vh5nsGNTLQY/6ynFulWWLT9j7mSeJNxDPxZydkH1tVQ/m4DxGNa3YT/NjOKDfONrPwyEnj7bknQ/Qj6Yt9LCfD/SeAAMxi+DPxRe7+9Ngog/b5uVLKghjj96YTUNv9iRP6juhVq3Z5Q/RpgKQI+Qlj9zBZwk5COYP8JTlaTVCpk/r7JgKWUumT9foV0lInOYP9TGx93WzJY/rqSbGCA+lT9qrH4eA6+RP0AGN8FTooo/+vkZ1INtgj8Pmwd6aJt3P3qMF29JpW8/YL8PXi4vZz9D4KJ9LoZiP30tmXddPmA/3XaxUsB7YD9y0NQdmuFmP5ax4W2FN3o/\",\"dtype\":\"float64\",\"shape\":[75]},\"y\":{\"__ndarray__\":\"GhExyth1ND/Sv8nbtpRIP2vylNV0PVE/aTum7souWD/At0SJ8fVgPw3Iuahxymc/MSNhhJWvcD/bTfBN02d3P2zb5nxnaoA/CD5h5MAGhz8NmeH1TyaQP+zrCsc9p5Y/LbKd76fGnz/bLW5ISEmmPww9YvTcQq8/JV2OstnstT8Er5Y7M8G+P0c+r3jqkcU/5h99k6ZBzj88bCIzFzjVP4enV8oyxN0//yH99nXg5D8qOpLLf0jtP5kqGJXUifQ/c9cS8kHP/D+/DpwzojQEQIEmwoanVwxA4lgXt9HgE0BSSZ2AJuIbQAMJih9jjiNA5q4l5INuK0AwTKYKRj0zQNv5fmq8/DpAaCJseHrtQkB/+zpwzoxKQM3MzMzMeFJAZmZmZmZqWEAAAAAAAFxeQM3MzMzMJmJAmpmZmZkfZUBmZmZmZhhoQDMzMzMzEWtAAAAAAAAKbkBmZmZmZoFwQM3MzMzM/XFAMzMzMzN6c0CamZmZmfZ0QAAAAAAAc3ZAZmZmZmbvd0DNzMzMzGt5QDMzMzMz6HpAmpmZmZlkfEAAAAAAAOF9QGZmZmZmXX9AZmZmZuZsgECamZmZGSuBQM3MzMxM6YFAAAAAAICngkAzMzMzs2WDQGZmZmbmI4RAmpmZmRnihEDNzMzMTKCFQAAAAACAXoZAMzMzM7Mch0BmZmZm5tqHQJqZmZkZmYhAzczMzExXiUAAAAAAgBWKQDMzMzOz04pAZmZmZuaRi0CamZmZGVCMQM3MzMxMDo1AAAAAAIDMjUAzMzMzs4qOQGZmZmbmSI9A\",\"dtype\":\"float64\",\"shape\":[75]}},\"selected\":{\"id\":\"3e4a8bd2-e3d0-4c18-809d-bc4e0389ba68\",\"type\":\"Selection\"},\"selection_policy\":{\"id\":\"daccb94b-fd44-4b3c-89de-29da8c7b43f2\",\"type\":\"UnionRenderers\"}},\"id\":\"1de749b3-0066-4f1d-bd2e-ecbc54ddf79c\",\"type\":\"ColumnDataSource\"},{\"attributes\":{\"label\":{\"value\":\"WGT igg=1\"},\"renderers\":[{\"id\":\"636945f7-4d55-4d57-99da-bccbe6f917f2\",\"type\":\"GlyphRenderer\"},{\"id\":\"1966bf07-4d74-4554-8c34-dcbf1dccf733\",\"type\":\"GlyphRenderer\"}]},\"id\":\"b9c29191-0909-4ea4-a7ff-c2c6f5450d4e\",\"type\":\"LegendItem\"},{\"attributes\":{},\"id\":\"903a1fe3-41c7-4aba-8656-b7d8480d5837\",\"type\":\"LogScale\"},{\"attributes\":{\"axis_label\":\"cooling rate [K/day]\",\"formatter\":{\"id\":\"ac0c966a-3691-4cf1-829f-0aa23112252c\",\"type\":\"BasicTickFormatter\"},\"plot\":{\"id\":\"cfdcd3df-86c7-4f18-b2ba-d58a0bcc5501\",\"subtype\":\"Figure\",\"type\":\"Plot\"},\"ticker\":{\"id\":\"e457d6c1-a23f-4ce3-88f7-219e0bd56c37\",\"type\":\"BasicTicker\"}},\"id\":\"7e46a26d-fae8-4ff6-8277-eae9ab10f8c0\",\"type\":\"LinearAxis\"},{\"attributes\":{\"callback\":null,\"end\":0.00013920010457,\"start\":-1.438482157e-05},\"id\":\"1835ef46-ace1-426f-b398-89c1244d56ae\",\"type\":\"Range1d\"},{\"attributes\":{},\"id\":\"952159ad-ee05-4aab-83f6-6c3c172d7006\",\"type\":\"LinearScale\"},{\"attributes\":{\"children\":[{\"id\":\"ada598b4-a5df-44e4-8ee1-3fcfe7af9754\",\"type\":\"Row\"}]},\"id\":\"1701e672-9eba-4102-9945-9f1d9c31f49c\",\"type\":\"Column\"},{\"attributes\":{\"label\":{\"value\":\"WGT igg=10\"},\"renderers\":[{\"id\":\"ae8dbc25-4776-49e5-a52d-cdbcb14d32b5\",\"type\":\"GlyphRenderer\"},{\"id\":\"2b42e58c-5b5d-44f1-a22f-6961d561c1e9\",\"type\":\"GlyphRenderer\"}]},\"id\":\"153ceeaa-bf58-42c0-92f5-2d1f1841f582\",\"type\":\"LegendItem\"},{\"attributes\":{\"plot\":{\"id\":\"cfdcd3df-86c7-4f18-b2ba-d58a0bcc5501\",\"subtype\":\"Figure\",\"type\":\"Plot\"},\"ticker\":{\"id\":\"e457d6c1-a23f-4ce3-88f7-219e0bd56c37\",\"type\":\"BasicTicker\"}},\"id\":\"114ff94d-2ca3-4da9-8e81-482d3715bfda\",\"type\":\"Grid\"},{\"attributes\":{\"axis_label\":\"pressure [mb]\",\"formatter\":{\"id\":\"4a098ea9-982f-40b3-b2e4-2864fd1608dd\",\"type\":\"LogTickFormatter\"},\"plot\":{\"id\":\"cfdcd3df-86c7-4f18-b2ba-d58a0bcc5501\",\"subtype\":\"Figure\",\"type\":\"Plot\"},\"ticker\":{\"id\":\"d2d7b507-2835-490c-ba70-fb46fd37b6a2\",\"type\":\"LogTicker\"}},\"id\":\"7939e4f1-c0ef-4658-9ac9-ffaa2bba6120\",\"type\":\"LogAxis\"},{\"attributes\":{\"num_minor_ticks\":10},\"id\":\"d2d7b507-2835-490c-ba70-fb46fd37b6a2\",\"type\":\"LogTicker\"},{\"attributes\":{\"dimension\":1,\"plot\":{\"id\":\"cfdcd3df-86c7-4f18-b2ba-d58a0bcc5501\",\"subtype\":\"Figure\",\"type\":\"Plot\"},\"ticker\":{\"id\":\"d2d7b507-2835-490c-ba70-fb46fd37b6a2\",\"type\":\"LogTicker\"}},\"id\":\"bb2d866c-7421-4a0c-8575-723ce706c976\",\"type\":\"Grid\"},{\"attributes\":{\"callback\":null,\"data\":{\"x\":{\"__ndarray__\":\"qtSFMYVq375tx5Mh90Lfvn21mRGr6t6+d3YU+L+H3r4FrBYtgRrevjoJiJlDo92+uLecwcsh3b5Dg9FWaZXcvm9Vfnq2/du++6N5FzJa2752oAJUZ6ravppzN5bR7dm+aOhL8zQj2b5507CjpgzYvjtBjApvedO+oKuvaDuwuL7k6pMJMQDTPs1C7pRCje0+1542pN8V/j4rwXQkzGYKP56iHR3FbxU/0PzkQgLaHz994MmhQQwiP9SvvJeZ9R8/UnwB3ERxGT/HZnAZNjMSP7SzrOrdkQg/RT4JZkJ1/z7epgtnG3fyPgDG2peeIuI+BvFs0TJewz43LqliQAHBvq88Dc6jfNS+gx82XWIP3L6ZZ4DU6WvgvmtRnHG1seC+UBECPbEC4L6ORt7EhHLgvnoA4iYfSOG+g9oHMEhZ4r6xzHNPFg7nvqzmG+Xi+/G+q2ESgOvn5r6gVQVEArYCP+i82CeagyY/9V3x0ASyPj/F9deCUZZQP1Wu3LjxoV4/vvBSAzASaD95et2NgrpxP3E4B9k/uXg/pORMSKhvgD8olr6EyPGEP1e+/Ig+o4k/X384Zt5Mjj+xfoJ3MU6RP3cPCCiYJ5M/NMmf2qaZlD+1IvDbno2VPzd7nV2JA5Y/GL33kCD3lT9yPpi7ZleVP/pCUWtdFJQ/Iln6r/cLkz/tU9efmWeQP1C9DeiHPIo/8u51xyPugz/KbYQQU8x8P1k/KVZuonU/38SYxHUdcT9XN7nEuj1sPzfC3TscdGg/p1ni+fMKZz+gkB0Tom5qP+Up0tVCdno/\",\"dtype\":\"float64\",\"shape\":[75]},\"y\":{\"__ndarray__\":\"GhExyth1ND/Sv8nbtpRIP2vylNV0PVE/aTum7souWD/At0SJ8fVgPw3Iuahxymc/MSNhhJWvcD/bTfBN02d3P2zb5nxnaoA/CD5h5MAGhz8NmeH1TyaQP+zrCsc9p5Y/LbKd76fGnz/bLW5ISEmmPww9YvTcQq8/JV2OstnstT8Er5Y7M8G+P0c+r3jqkcU/5h99k6ZBzj88bCIzFzjVP4enV8oyxN0//yH99nXg5D8qOpLLf0jtP5kqGJXUifQ/c9cS8kHP/D+/DpwzojQEQIEmwoanVwxA4lgXt9HgE0BSSZ2AJuIbQAMJih9jjiNA5q4l5INuK0AwTKYKRj0zQNv5fmq8/DpAaCJseHrtQkB/+zpwzoxKQM3MzMzMeFJAZmZmZmZqWEAAAAAAAFxeQM3MzMzMJmJAmpmZmZkfZUBmZmZmZhhoQDMzMzMzEWtAAAAAAAAKbkBmZmZmZoFwQM3MzMzM/XFAMzMzMzN6c0CamZmZmfZ0QAAAAAAAc3ZAZmZmZmbvd0DNzMzMzGt5QDMzMzMz6HpAmpmZmZlkfEAAAAAAAOF9QGZmZmZmXX9AZmZmZuZsgECamZmZGSuBQM3MzMxM6YFAAAAAAICngkAzMzMzs2WDQGZmZmbmI4RAmpmZmRnihEDNzMzMTKCFQAAAAACAXoZAMzMzM7Mch0BmZmZm5tqHQJqZmZkZmYhAzczMzExXiUAAAAAAgBWKQDMzMzOz04pAZmZmZuaRi0CamZmZGVCMQM3MzMxMDo1AAAAAAIDMjUAzMzMzs4qOQGZmZmbmSI9A\",\"dtype\":\"float64\",\"shape\":[75]}},\"selected\":{\"id\":\"94bd4f8f-c8d9-4f6c-8a93-1c524446ad02\",\"type\":\"Selection\"},\"selection_policy\":{\"id\":\"f3a2126e-f2a2-4a8d-8aac-dfb23b10e441\",\"type\":\"UnionRenderers\"}},\"id\":\"1b624b85-4636-4181-bddc-cf2b118785ed\",\"type\":\"ColumnDataSource\"},{\"attributes\":{\"line_color\":\"#4daf4a\",\"line_width\":1.5,\"x\":{\"field\":\"x\"},\"y\":{\"field\":\"y\"}},\"id\":\"e71fe773-cd83-4212-a499-c00e5f0b4c26\",\"type\":\"Line\"},{\"attributes\":{\"bottom_units\":\"screen\",\"fill_alpha\":{\"value\":0.5},\"fill_color\":{\"value\":\"lightgrey\"},\"left_units\":\"screen\",\"level\":\"overlay\",\"line_alpha\":{\"value\":1.0},\"line_color\":{\"value\":\"black\"},\"line_dash\":[4,4],\"line_width\":{\"value\":2},\"plot\":null,\"render_mode\":\"css\",\"right_units\":\"screen\",\"top_units\":\"screen\"},\"id\":\"48d3a247-c16a-4b08-8acf-dcf14dc073f9\",\"type\":\"BoxAnnotation\"},{\"attributes\":{},\"id\":\"8afca35f-5f7b-4781-a05b-c68408266d21\",\"type\":\"PanTool\"},{\"attributes\":{},\"id\":\"43225c36-5a0a-4c94-9acb-2276737c3abc\",\"type\":\"WheelZoomTool\"},{\"attributes\":{\"overlay\":{\"id\":\"48d3a247-c16a-4b08-8acf-dcf14dc073f9\",\"type\":\"BoxAnnotation\"}},\"id\":\"a01c8863-3bd6-4c4e-9874-294c57ef1609\",\"type\":\"BoxZoomTool\"},{\"attributes\":{},\"id\":\"7101da1d-f829-4d53-9947-328aa6d1f75d\",\"type\":\"SaveTool\"},{\"attributes\":{},\"id\":\"7fd4f17a-c2ae-4e59-b508-d0097e877c86\",\"type\":\"ResetTool\"},{\"attributes\":{},\"id\":\"30a15f41-53ac-434d-aa4c-a02ed8bb3bea\",\"type\":\"HelpTool\"},{\"attributes\":{\"source\":{\"id\":\"1b624b85-4636-4181-bddc-cf2b118785ed\",\"type\":\"ColumnDataSource\"}},\"id\":\"c150e780-d44c-4a5f-984b-cd6d62a1e242\",\"type\":\"CDSView\"},{\"attributes\":{\"callback\":null,\"data\":{\"x\":{\"__ndarray__\":\"8NlW9j/02L7xixMstvLYvv1JBHHC7Ni+byYUdLfi2L5R4ywSeNTYvhYYHzbSwdi+QvQ05JSq2L6kONe5jY7YvlOGbRKLbdi+9IgKCltH2L5/fd9VyhvYvptCLjWn6te+YLV7aI2z176rccwXL2TXvpAJ6ly98dW+L0iqU9oa0b68bOSRKpK7vsIYNw9CDsU+pIpepSct4z4JsQzI8T/0PpwQRbUODQI/R2YbgfZFDD/BGdlpKkQQP8xn6rPthQw/ixqIVkcwBj8d0WC7WF7+PveLLbssDvM+y1NFPqhy5T7hsGdGl7PSPlR62eCjmZY+TIz71vJqxb6eHI6chwLTvj4TNETBhdi+KWMrD1oU3L7uk70hwzfevon9oM9n+t2+D/ordBEb3b4eI/GnUMPevhbTXKNo8uC+yvSHR4RB4773JCw9aALrviqQeRPiT/q+GVi4s1p6Ar+FZ8Q4/7f5vh5nsGNTLQY/6ynFulWWLT9j7mSeJNxDPxZydkH1tVQ/m4DxGNa3YT/NjOKDfONrPwyEnj7bknQ/Qj6Yt9LCfD/SeAAMxi+DPxRe7+9Ngog/b5uVLKghjj96YTUNv9iRP6juhVq3Z5Q/RpgKQI+Qlj9zBZwk5COYP8JTlaTVCpk/r7JgKWUumT9foV0lInOYP9TGx93WzJY/rqSbGCA+lT9qrH4eA6+RP0AGN8FTooo/+vkZ1INtgj8Pmwd6aJt3P3qMF29JpW8/YL8PXi4vZz9D4KJ9LoZiP30tmXddPmA/3XaxUsB7YD9y0NQdmuFmP5ax4W2FN3o/\",\"dtype\":\"float64\",\"shape\":[75]},\"y\":{\"__ndarray__\":\"GhExyth1ND/Sv8nbtpRIP2vylNV0PVE/aTum7souWD/At0SJ8fVgPw3Iuahxymc/MSNhhJWvcD/bTfBN02d3P2zb5nxnaoA/CD5h5MAGhz8NmeH1TyaQP+zrCsc9p5Y/LbKd76fGnz/bLW5ISEmmPww9YvTcQq8/JV2OstnstT8Er5Y7M8G+P0c+r3jqkcU/5h99k6ZBzj88bCIzFzjVP4enV8oyxN0//yH99nXg5D8qOpLLf0jtP5kqGJXUifQ/c9cS8kHP/D+/DpwzojQEQIEmwoanVwxA4lgXt9HgE0BSSZ2AJuIbQAMJih9jjiNA5q4l5INuK0AwTKYKRj0zQNv5fmq8/DpAaCJseHrtQkB/+zpwzoxKQM3MzMzMeFJAZmZmZmZqWEAAAAAAAFxeQM3MzMzMJmJAmpmZmZkfZUBmZmZmZhhoQDMzMzMzEWtAAAAAAAAKbkBmZmZmZoFwQM3MzMzM/XFAMzMzMzN6c0CamZmZmfZ0QAAAAAAAc3ZAZmZmZmbvd0DNzMzMzGt5QDMzMzMz6HpAmpmZmZlkfEAAAAAAAOF9QGZmZmZmXX9AZmZmZuZsgECamZmZGSuBQM3MzMxM6YFAAAAAAICngkAzMzMzs2WDQGZmZmbmI4RAmpmZmRnihEDNzMzMTKCFQAAAAACAXoZAMzMzM7Mch0BmZmZm5tqHQJqZmZkZmYhAzczMzExXiUAAAAAAgBWKQDMzMzOz04pAZmZmZuaRi0CamZmZGVCMQM3MzMxMDo1AAAAAAIDMjUAzMzMzs4qOQGZmZmbmSI9A\",\"dtype\":\"float64\",\"shape\":[75]}},\"selected\":{\"id\":\"c2e7b552-3e62-4703-80b4-26d1f526f2ef\",\"type\":\"Selection\"},\"selection_policy\":{\"id\":\"6b7b7d32-fa2b-46d7-8565-fbc71a3bc4d7\",\"type\":\"UnionRenderers\"}},\"id\":\"942040d2-486e-4f75-ae1c-d61825d738c2\",\"type\":\"ColumnDataSource\"},{\"attributes\":{\"line_color\":\"#4daf4a\",\"line_width\":1.5,\"x\":{\"field\":\"x\"},\"y\":{\"field\":\"y\"}},\"id\":\"012ae7b5-9393-4a16-87d5-d04d51875dcf\",\"type\":\"Line\"},{\"attributes\":{\"callback\":null,\"end\":0.01,\"start\":1020},\"id\":\"823176d4-7bfb-4cfc-9ad2-be14a25fb9bc\",\"type\":\"Range1d\"},{\"attributes\":{\"line_alpha\":0.6,\"line_color\":\"#984ea3\",\"line_width\":3,\"x\":{\"field\":\"x\"},\"y\":{\"field\":\"y\"}},\"id\":\"e829e99d-ddae-42a1-8a29-0e89e946529b\",\"type\":\"Line\"},{\"attributes\":{\"source\":{\"id\":\"a34bdc96-e093-4c80-b6fa-0d9d1e769c6e\",\"type\":\"ColumnDataSource\"}},\"id\":\"43645d53-ad81-4954-9247-4fc6bb6db632\",\"type\":\"CDSView\"},{\"attributes\":{\"source\":{\"id\":\"da826a48-8410-4741-8ec9-c120d990069c\",\"type\":\"ColumnDataSource\"}},\"id\":\"21da9f1c-827c-4abb-9525-7144c60ada66\",\"type\":\"CDSView\"},{\"attributes\":{\"line_alpha\":0.1,\"line_color\":\"#1f77b4\",\"line_width\":1.5,\"x\":{\"field\":\"x\"},\"y\":{\"field\":\"y\"}},\"id\":\"1090ce34-8ec0-4714-9048-75d502727df8\",\"type\":\"Line\"},{\"attributes\":{\"callback\":null,\"data\":{\"x\":{\"__ndarray__\":\"qtSFMYVq375tx5Mh90Lfvn21mRGr6t6+d3YU+L+H3r4FrBYtgRrevjoJiJlDo92+uLecwcsh3b5Dg9FWaZXcvm9Vfnq2/du++6N5FzJa2752oAJUZ6ravppzN5bR7dm+aOhL8zQj2b5507CjpgzYvjtBjApvedO+oKuvaDuwuL7k6pMJMQDTPs1C7pRCje0+1542pN8V/j4rwXQkzGYKP56iHR3FbxU/0PzkQgLaHz994MmhQQwiP9SvvJeZ9R8/UnwB3ERxGT/HZnAZNjMSP7SzrOrdkQg/RT4JZkJ1/z7epgtnG3fyPgDG2peeIuI+BvFs0TJewz43LqliQAHBvq88Dc6jfNS+gx82XWIP3L6ZZ4DU6WvgvmtRnHG1seC+UBECPbEC4L6ORt7EhHLgvnoA4iYfSOG+g9oHMEhZ4r6xzHNPFg7nvqzmG+Xi+/G+q2ESgOvn5r6gVQVEArYCP+i82CeagyY/9V3x0ASyPj/F9deCUZZQP1Wu3LjxoV4/vvBSAzASaD95et2NgrpxP3E4B9k/uXg/pORMSKhvgD8olr6EyPGEP1e+/Ig+o4k/X384Zt5Mjj+xfoJ3MU6RP3cPCCiYJ5M/NMmf2qaZlD+1IvDbno2VPzd7nV2JA5Y/GL33kCD3lT9yPpi7ZleVP/pCUWtdFJQ/Iln6r/cLkz/tU9efmWeQP1C9DeiHPIo/8u51xyPugz/KbYQQU8x8P1k/KVZuonU/38SYxHUdcT9XN7nEuj1sPzfC3TscdGg/p1ni+fMKZz+gkB0Tom5qP+Up0tVCdno/\",\"dtype\":\"float64\",\"shape\":[75]},\"y\":{\"__ndarray__\":\"GhExyth1ND/Sv8nbtpRIP2vylNV0PVE/aTum7souWD/At0SJ8fVgPw3Iuahxymc/MSNhhJWvcD/bTfBN02d3P2zb5nxnaoA/CD5h5MAGhz8NmeH1TyaQP+zrCsc9p5Y/LbKd76fGnz/bLW5ISEmmPww9YvTcQq8/JV2OstnstT8Er5Y7M8G+P0c+r3jqkcU/5h99k6ZBzj88bCIzFzjVP4enV8oyxN0//yH99nXg5D8qOpLLf0jtP5kqGJXUifQ/c9cS8kHP/D+/DpwzojQEQIEmwoanVwxA4lgXt9HgE0BSSZ2AJuIbQAMJih9jjiNA5q4l5INuK0AwTKYKRj0zQNv5fmq8/DpAaCJseHrtQkB/+zpwzoxKQM3MzMzMeFJAZmZmZmZqWEAAAAAAAFxeQM3MzMzMJmJAmpmZmZkfZUBmZmZmZhhoQDMzMzMzEWtAAAAAAAAKbkBmZmZmZoFwQM3MzMzM/XFAMzMzMzN6c0CamZmZmfZ0QAAAAAAAc3ZAZmZmZmbvd0DNzMzMzGt5QDMzMzMz6HpAmpmZmZlkfEAAAAAAAOF9QGZmZmZmXX9AZmZmZuZsgECamZmZGSuBQM3MzMxM6YFAAAAAAICngkAzMzMzs2WDQGZmZmbmI4RAmpmZmRnihEDNzMzMTKCFQAAAAACAXoZAMzMzM7Mch0BmZmZm5tqHQJqZmZkZmYhAzczMzExXiUAAAAAAgBWKQDMzMzOz04pAZmZmZuaRi0CamZmZGVCMQM3MzMxMDo1AAAAAAIDMjUAzMzMzs4qOQGZmZmbmSI9A\",\"dtype\":\"float64\",\"shape\":[75]}},\"selected\":{\"id\":\"4a45ee33-bfcb-4024-a169-308da36dbe69\",\"type\":\"Selection\"},\"selection_policy\":{\"id\":\"b212461b-88ee-407a-a205-7b6b43e59065\",\"type\":\"UnionRenderers\"}},\"id\":\"f25fb374-b776-414c-a450-12afe586bfa6\",\"type\":\"ColumnDataSource\"},{\"attributes\":{\"source\":{\"id\":\"942040d2-486e-4f75-ae1c-d61825d738c2\",\"type\":\"ColumnDataSource\"}},\"id\":\"a80a54d9-a1b0-4e0c-9f9e-0c0162485065\",\"type\":\"CDSView\"},{\"attributes\":{\"fill_alpha\":{\"value\":0.1},\"fill_color\":{\"value\":\"#1f77b4\"},\"line_alpha\":{\"value\":0.1},\"line_color\":{\"value\":\"#1f77b4\"},\"x\":{\"field\":\"x\"},\"y\":{\"field\":\"y\"}},\"id\":\"c9e2fbf3-f496-4e8a-a66b-5d760f457e83\",\"type\":\"Circle\"},{\"attributes\":{\"fill_alpha\":{\"value\":0.1},\"fill_color\":{\"value\":\"#1f77b4\"},\"line_alpha\":{\"value\":0.1},\"line_color\":{\"value\":\"#1f77b4\"},\"x\":{\"field\":\"x\"},\"y\":{\"field\":\"y\"}},\"id\":\"a375764d-2a4b-4b95-bbdc-f03b163b5552\",\"type\":\"Square\"},{\"attributes\":{\"fill_alpha\":{\"value\":0.7},\"fill_color\":{\"value\":\"#4daf4a\"},\"line_alpha\":{\"value\":0.7},\"line_color\":{\"value\":\"#4daf4a\"},\"x\":{\"field\":\"x\"},\"y\":{\"field\":\"y\"}},\"id\":\"54a779ab-0932-440a-a5a6-71c8b0697173\",\"type\":\"Circle\"},{\"attributes\":{\"data_source\":{\"id\":\"a34bdc96-e093-4c80-b6fa-0d9d1e769c6e\",\"type\":\"ColumnDataSource\"},\"glyph\":{\"id\":\"0d095551-2910-4e31-b2b6-9249f2095d9d\",\"type\":\"Circle\"},\"hover_glyph\":null,\"muted_glyph\":null,\"nonselection_glyph\":{\"id\":\"0c55db07-8f72-4217-a9ff-1546b45f7762\",\"type\":\"Circle\"},\"selection_glyph\":null,\"view\":{\"id\":\"43645d53-ad81-4954-9247-4fc6bb6db632\",\"type\":\"CDSView\"}},\"id\":\"43591a17-c7bf-4733-8e41-8542eeb7f67a\",\"type\":\"GlyphRenderer\"},{\"attributes\":{\"fill_alpha\":{\"value\":0.7},\"fill_color\":{\"value\":\"#984ea3\"},\"line_alpha\":{\"value\":0.7},\"line_color\":{\"value\":\"#984ea3\"},\"x\":{\"field\":\"x\"},\"y\":{\"field\":\"y\"}},\"id\":\"23663b07-eb19-49e4-895d-9c1e802f7515\",\"type\":\"Square\"},{\"attributes\":{\"callback\":null,\"data\":{\"x\":{\"__ndarray__\":\"qtSFMYVq375tx5Mh90Lfvn21mRGr6t6+d3YU+L+H3r4FrBYtgRrevjoJiJlDo92+uLecwcsh3b5Dg9FWaZXcvm9Vfnq2/du++6N5FzJa2752oAJUZ6ravppzN5bR7dm+aOhL8zQj2b5507CjpgzYvjtBjApvedO+oKuvaDuwuL7k6pMJMQDTPs1C7pRCje0+1542pN8V/j4rwXQkzGYKP56iHR3FbxU/0PzkQgLaHz994MmhQQwiP9SvvJeZ9R8/UnwB3ERxGT/HZnAZNjMSP7SzrOrdkQg/RT4JZkJ1/z7epgtnG3fyPgDG2peeIuI+BvFs0TJewz43LqliQAHBvq88Dc6jfNS+gx82XWIP3L6ZZ4DU6WvgvmtRnHG1seC+UBECPbEC4L6ORt7EhHLgvnoA4iYfSOG+g9oHMEhZ4r6xzHNPFg7nvqzmG+Xi+/G+q2ESgOvn5r6gVQVEArYCP+i82CeagyY/9V3x0ASyPj/F9deCUZZQP1Wu3LjxoV4/vvBSAzASaD95et2NgrpxP3E4B9k/uXg/pORMSKhvgD8olr6EyPGEP1e+/Ig+o4k/X384Zt5Mjj+xfoJ3MU6RP3cPCCiYJ5M/NMmf2qaZlD+1IvDbno2VPzd7nV2JA5Y/GL33kCD3lT9yPpi7ZleVP/pCUWtdFJQ/Iln6r/cLkz/tU9efmWeQP1C9DeiHPIo/8u51xyPugz/KbYQQU8x8P1k/KVZuonU/38SYxHUdcT9XN7nEuj1sPzfC3TscdGg/p1ni+fMKZz+gkB0Tom5qP+Up0tVCdno/\",\"dtype\":\"float64\",\"shape\":[75]},\"y\":{\"__ndarray__\":\"GhExyth1ND/Sv8nbtpRIP2vylNV0PVE/aTum7souWD/At0SJ8fVgPw3Iuahxymc/MSNhhJWvcD/bTfBN02d3P2zb5nxnaoA/CD5h5MAGhz8NmeH1TyaQP+zrCsc9p5Y/LbKd76fGnz/bLW5ISEmmPww9YvTcQq8/JV2OstnstT8Er5Y7M8G+P0c+r3jqkcU/5h99k6ZBzj88bCIzFzjVP4enV8oyxN0//yH99nXg5D8qOpLLf0jtP5kqGJXUifQ/c9cS8kHP/D+/DpwzojQEQIEmwoanVwxA4lgXt9HgE0BSSZ2AJuIbQAMJih9jjiNA5q4l5INuK0AwTKYKRj0zQNv5fmq8/DpAaCJseHrtQkB/+zpwzoxKQM3MzMzMeFJAZmZmZmZqWEAAAAAAAFxeQM3MzMzMJmJAmpmZmZkfZUBmZmZmZhhoQDMzMzMzEWtAAAAAAAAKbkBmZmZmZoFwQM3MzMzM/XFAMzMzMzN6c0CamZmZmfZ0QAAAAAAAc3ZAZmZmZmbvd0DNzMzMzGt5QDMzMzMz6HpAmpmZmZlkfEAAAAAAAOF9QGZmZmZmXX9AZmZmZuZsgECamZmZGSuBQM3MzMxM6YFAAAAAAICngkAzMzMzs2WDQGZmZmbmI4RAmpmZmRnihEDNzMzMTKCFQAAAAACAXoZAMzMzM7Mch0BmZmZm5tqHQJqZmZkZmYhAzczMzExXiUAAAAAAgBWKQDMzMzOz04pAZmZmZuaRi0CamZmZGVCMQM3MzMxMDo1AAAAAAIDMjUAzMzMzs4qOQGZmZmbmSI9A\",\"dtype\":\"float64\",\"shape\":[75]}},\"selected\":{\"id\":\"c9e65181-ac95-418c-a6ed-765db3332e44\",\"type\":\"Selection\"},\"selection_policy\":{\"id\":\"72ad3f2d-91ef-4cad-be96-3737b825f271\",\"type\":\"UnionRenderers\"}},\"id\":\"da826a48-8410-4741-8ec9-c120d990069c\",\"type\":\"ColumnDataSource\"},{\"attributes\":{\"data_source\":{\"id\":\"942040d2-486e-4f75-ae1c-d61825d738c2\",\"type\":\"ColumnDataSource\"},\"glyph\":{\"id\":\"23663b07-eb19-49e4-895d-9c1e802f7515\",\"type\":\"Square\"},\"hover_glyph\":null,\"muted_glyph\":null,\"nonselection_glyph\":{\"id\":\"a375764d-2a4b-4b95-bbdc-f03b163b5552\",\"type\":\"Square\"},\"selection_glyph\":null,\"view\":{\"id\":\"a80a54d9-a1b0-4e0c-9f9e-0c0162485065\",\"type\":\"CDSView\"}},\"id\":\"636945f7-4d55-4d57-99da-bccbe6f917f2\",\"type\":\"GlyphRenderer\"},{\"attributes\":{\"data_source\":{\"id\":\"da826a48-8410-4741-8ec9-c120d990069c\",\"type\":\"ColumnDataSource\"},\"glyph\":{\"id\":\"54a779ab-0932-440a-a5a6-71c8b0697173\",\"type\":\"Circle\"},\"hover_glyph\":null,\"muted_glyph\":null,\"nonselection_glyph\":{\"id\":\"c9e2fbf3-f496-4e8a-a66b-5d760f457e83\",\"type\":\"Circle\"},\"selection_glyph\":null,\"view\":{\"id\":\"21da9f1c-827c-4abb-9525-7144c60ada66\",\"type\":\"CDSView\"}},\"id\":\"0704d188-3197-4f6b-98b3-9dcbf82a69d7\",\"type\":\"GlyphRenderer\"},{\"attributes\":{\"callback\":null,\"end\":0.01,\"start\":1020},\"id\":\"6f631fcb-e551-49dc-9147-ecf6837d985e\",\"type\":\"Range1d\"},{\"attributes\":{},\"id\":\"72ad3f2d-91ef-4cad-be96-3737b825f271\",\"type\":\"UnionRenderers\"},{\"attributes\":{\"data_source\":{\"id\":\"d906bfb8-5c14-42e8-8eaa-2bc4802080ce\",\"type\":\"ColumnDataSource\"},\"glyph\":{\"id\":\"b06f48e2-835f-4b86-95e2-501ab3184169\",\"type\":\"Line\"},\"hover_glyph\":null,\"muted_glyph\":null,\"nonselection_glyph\":{\"id\":\"9e6f764a-c9ae-4a4b-99b1-d8378ab48be8\",\"type\":\"Line\"},\"selection_glyph\":null,\"view\":{\"id\":\"d3727732-aa8c-4dac-92c6-086ad9663d04\",\"type\":\"CDSView\"}},\"id\":\"0620cc66-b745-44a4-bc6e-4e3c0b3c22a7\",\"type\":\"GlyphRenderer\"},{\"attributes\":{},\"id\":\"4a45ee33-bfcb-4024-a169-308da36dbe69\",\"type\":\"Selection\"},{\"attributes\":{},\"id\":\"b212461b-88ee-407a-a205-7b6b43e59065\",\"type\":\"UnionRenderers\"},{\"attributes\":{\"dimension\":1,\"plot\":{\"id\":\"2694cfd6-a22c-42c6-b1ef-072c9f228816\",\"subtype\":\"Figure\",\"type\":\"Plot\"},\"ticker\":{\"id\":\"2525925e-6d3f-43ea-a44e-c8985a5ad716\",\"type\":\"BasicTicker\"}},\"id\":\"b91f6b42-653f-4275-8ffb-f14945521a8d\",\"type\":\"Grid\"},{\"attributes\":{},\"id\":\"173fe70b-84cc-4480-8d1a-3de9f22ffa43\",\"type\":\"Selection\"},{\"attributes\":{},\"id\":\"ee1481fb-5492-4da1-826a-137f11f4cbfe\",\"type\":\"UnionRenderers\"},{\"attributes\":{},\"id\":\"ea5d7f5f-7997-4b75-88eb-985c13338e6e\",\"type\":\"Selection\"},{\"attributes\":{},\"id\":\"2525925e-6d3f-43ea-a44e-c8985a5ad716\",\"type\":\"BasicTicker\"},{\"attributes\":{},\"id\":\"9006b7ec-4491-44f9-9c8d-8a39eab8c01a\",\"type\":\"UnionRenderers\"},{\"attributes\":{},\"id\":\"2338a07b-05ae-4ec0-898b-3fd6420a67e1\",\"type\":\"Selection\"},{\"attributes\":{},\"id\":\"f8085e13-8f21-4c8d-84a1-5c03a636c9c8\",\"type\":\"UnionRenderers\"},{\"attributes\":{},\"id\":\"e85f8fbf-9d67-434c-9c22-e65e3d98a233\",\"type\":\"Selection\"},{\"attributes\":{\"fill_alpha\":{\"value\":0.7},\"fill_color\":{\"value\":\"#4daf4a\"},\"line_alpha\":{\"value\":0.7},\"line_color\":{\"value\":\"#4daf4a\"},\"x\":{\"field\":\"x\"},\"y\":{\"field\":\"y\"}},\"id\":\"0d095551-2910-4e31-b2b6-9249f2095d9d\",\"type\":\"Circle\"},{\"attributes\":{\"source\":{\"id\":\"f25fb374-b776-414c-a450-12afe586bfa6\",\"type\":\"ColumnDataSource\"}},\"id\":\"c1944804-b4bf-4143-9221-c90fe6577bcf\",\"type\":\"CDSView\"},{\"attributes\":{},\"id\":\"92377219-6db3-4fcb-ba6f-6e65d645e06a\",\"type\":\"UnionRenderers\"},{\"attributes\":{\"children\":[{\"id\":\"5e176877-412f-40c9-b0a0-71e40dd6859b\",\"type\":\"ToolbarBox\"},{\"id\":\"1701e672-9eba-4102-9945-9f1d9c31f49c\",\"type\":\"Column\"}]},\"id\":\"80727799-bbc0-4c80-8859-867e4f63eb9e\",\"type\":\"Column\"},{\"attributes\":{\"axis_label\":\"pressure [mb]\",\"formatter\":{\"id\":\"cd464514-ca7b-45dd-a8ea-4cd9013f8ab3\",\"type\":\"BasicTickFormatter\"},\"plot\":{\"id\":\"2694cfd6-a22c-42c6-b1ef-072c9f228816\",\"subtype\":\"Figure\",\"type\":\"Plot\"},\"ticker\":{\"id\":\"2525925e-6d3f-43ea-a44e-c8985a5ad716\",\"type\":\"BasicTicker\"}},\"id\":\"4d027947-2eee-4f68-883e-110480d3a1b1\",\"type\":\"LinearAxis\"},{\"attributes\":{\"source\":{\"id\":\"1de749b3-0066-4f1d-bd2e-ecbc54ddf79c\",\"type\":\"ColumnDataSource\"}},\"id\":\"c2061057-4bcb-4cd3-8127-9166b9f142dc\",\"type\":\"CDSView\"},{\"attributes\":{\"tools\":[{\"id\":\"593b2b74-2d25-4196-a17e-7864d980d0e3\",\"type\":\"PanTool\"},{\"id\":\"71bb231a-119c-4777-a7f9-97ab00208fcc\",\"type\":\"WheelZoomTool\"},{\"id\":\"b5943715-61de-4134-a7e3-338a0d4b171b\",\"type\":\"BoxZoomTool\"},{\"id\":\"9b8ee62d-280e-42b8-85bd-a6dda4551c9c\",\"type\":\"SaveTool\"},{\"id\":\"1150dbb1-bc7e-4aed-ab4c-2cc5339e96aa\",\"type\":\"ResetTool\"},{\"id\":\"35dc62c8-8811-4f40-8315-cda143b0b5dd\",\"type\":\"HelpTool\"},{\"id\":\"8afca35f-5f7b-4781-a05b-c68408266d21\",\"type\":\"PanTool\"},{\"id\":\"43225c36-5a0a-4c94-9acb-2276737c3abc\",\"type\":\"WheelZoomTool\"},{\"id\":\"a01c8863-3bd6-4c4e-9874-294c57ef1609\",\"type\":\"BoxZoomTool\"},{\"id\":\"7101da1d-f829-4d53-9947-328aa6d1f75d\",\"type\":\"SaveTool\"},{\"id\":\"7fd4f17a-c2ae-4e59-b508-d0097e877c86\",\"type\":\"ResetTool\"},{\"id\":\"30a15f41-53ac-434d-aa4c-a02ed8bb3bea\",\"type\":\"HelpTool\"}]},\"id\":\"0327b1bd-5e95-4d90-80a6-18c1e00473e7\",\"type\":\"ProxyToolbar\"},{\"attributes\":{\"plot\":{\"id\":\"2694cfd6-a22c-42c6-b1ef-072c9f228816\",\"subtype\":\"Figure\",\"type\":\"Plot\"},\"ticker\":{\"id\":\"47d541fe-0ebb-44ee-9d45-6f9507efc95f\",\"type\":\"BasicTicker\"}},\"id\":\"fd0a0049-fa57-4e5d-9343-ccc5bf4cb7f9\",\"type\":\"Grid\"},{\"attributes\":{\"toolbar\":{\"id\":\"0327b1bd-5e95-4d90-80a6-18c1e00473e7\",\"type\":\"ProxyToolbar\"},\"toolbar_location\":\"above\"},\"id\":\"5e176877-412f-40c9-b0a0-71e40dd6859b\",\"type\":\"ToolbarBox\"},{\"attributes\":{},\"id\":\"47d541fe-0ebb-44ee-9d45-6f9507efc95f\",\"type\":\"BasicTicker\"},{\"attributes\":{\"fill_alpha\":{\"value\":0.7},\"fill_color\":{\"value\":\"#984ea3\"},\"line_alpha\":{\"value\":0.7},\"line_color\":{\"value\":\"#984ea3\"},\"x\":{\"field\":\"x\"},\"y\":{\"field\":\"y\"}},\"id\":\"2a4eefd5-3888-45bf-b092-a4be92dfc1fa\",\"type\":\"Square\"},{\"attributes\":{\"source\":{\"id\":\"37d7d8c6-3b57-4a31-a8d4-4e84846adcca\",\"type\":\"ColumnDataSource\"}},\"id\":\"4dd901d8-8649-4e0a-8c6e-377bbe91dea5\",\"type\":\"CDSView\"},{\"attributes\":{\"callback\":null,\"data\":{\"x\":{\"__ndarray__\":\"8NlW9j/02L7xixMstvLYvv1JBHHC7Ni+byYUdLfi2L5R4ywSeNTYvhYYHzbSwdi+QvQ05JSq2L6kONe5jY7YvlOGbRKLbdi+9IgKCltH2L5/fd9VyhvYvptCLjWn6te+YLV7aI2z176rccwXL2TXvpAJ6ly98dW+L0iqU9oa0b68bOSRKpK7vsIYNw9CDsU+pIpepSct4z4JsQzI8T/0PpwQRbUODQI/R2YbgfZFDD/BGdlpKkQQP8xn6rPthQw/ixqIVkcwBj8d0WC7WF7+PveLLbssDvM+y1NFPqhy5T7hsGdGl7PSPlR62eCjmZY+TIz71vJqxb6eHI6chwLTvj4TNETBhdi+KWMrD1oU3L7uk70hwzfevon9oM9n+t2+D/ordBEb3b4eI/GnUMPevhbTXKNo8uC+yvSHR4RB4773JCw9aALrviqQeRPiT/q+GVi4s1p6Ar+FZ8Q4/7f5vh5nsGNTLQY/6ynFulWWLT9j7mSeJNxDPxZydkH1tVQ/m4DxGNa3YT/NjOKDfONrPwyEnj7bknQ/Qj6Yt9LCfD/SeAAMxi+DPxRe7+9Ngog/b5uVLKghjj96YTUNv9iRP6juhVq3Z5Q/RpgKQI+Qlj9zBZwk5COYP8JTlaTVCpk/r7JgKWUumT9foV0lInOYP9TGx93WzJY/rqSbGCA+lT9qrH4eA6+RP0AGN8FTooo/+vkZ1INtgj8Pmwd6aJt3P3qMF29JpW8/YL8PXi4vZz9D4KJ9LoZiP30tmXddPmA/3XaxUsB7YD9y0NQdmuFmP5ax4W2FN3o/\",\"dtype\":\"float64\",\"shape\":[75]},\"y\":{\"__ndarray__\":\"GhExyth1ND/Sv8nbtpRIP2vylNV0PVE/aTum7souWD/At0SJ8fVgPw3Iuahxymc/MSNhhJWvcD/bTfBN02d3P2zb5nxnaoA/CD5h5MAGhz8NmeH1TyaQP+zrCsc9p5Y/LbKd76fGnz/bLW5ISEmmPww9YvTcQq8/JV2OstnstT8Er5Y7M8G+P0c+r3jqkcU/5h99k6ZBzj88bCIzFzjVP4enV8oyxN0//yH99nXg5D8qOpLLf0jtP5kqGJXUifQ/c9cS8kHP/D+/DpwzojQEQIEmwoanVwxA4lgXt9HgE0BSSZ2AJuIbQAMJih9jjiNA5q4l5INuK0AwTKYKRj0zQNv5fmq8/DpAaCJseHrtQkB/+zpwzoxKQM3MzMzMeFJAZmZmZmZqWEAAAAAAAFxeQM3MzMzMJmJAmpmZmZkfZUBmZmZmZhhoQDMzMzMzEWtAAAAAAAAKbkBmZmZmZoFwQM3MzMzM/XFAMzMzMzN6c0CamZmZmfZ0QAAAAAAAc3ZAZmZmZmbvd0DNzMzMzGt5QDMzMzMz6HpAmpmZmZlkfEAAAAAAAOF9QGZmZmZmXX9AZmZmZuZsgECamZmZGSuBQM3MzMxM6YFAAAAAAICngkAzMzMzs2WDQGZmZmbmI4RAmpmZmRnihEDNzMzMTKCFQAAAAACAXoZAMzMzM7Mch0BmZmZm5tqHQJqZmZkZmYhAzczMzExXiUAAAAAAgBWKQDMzMzOz04pAZmZmZuaRi0CamZmZGVCMQM3MzMxMDo1AAAAAAIDMjUAzMzMzs4qOQGZmZmbmSI9A\",\"dtype\":\"float64\",\"shape\":[75]}},\"selected\":{\"id\":\"ea5d7f5f-7997-4b75-88eb-985c13338e6e\",\"type\":\"Selection\"},\"selection_policy\":{\"id\":\"9006b7ec-4491-44f9-9c8d-8a39eab8c01a\",\"type\":\"UnionRenderers\"}},\"id\":\"37d7d8c6-3b57-4a31-a8d4-4e84846adcca\",\"type\":\"ColumnDataSource\"},{\"attributes\":{\"axis_label\":\"cooling rate [K/day]\",\"formatter\":{\"id\":\"e7ce226c-e5ac-41d6-8fbe-71ed2ba5b174\",\"type\":\"BasicTickFormatter\"},\"plot\":{\"id\":\"2694cfd6-a22c-42c6-b1ef-072c9f228816\",\"subtype\":\"Figure\",\"type\":\"Plot\"},\"ticker\":{\"id\":\"47d541fe-0ebb-44ee-9d45-6f9507efc95f\",\"type\":\"BasicTicker\"}},\"id\":\"9fa8de53-6ccb-4874-ba14-0ba8a1609a96\",\"type\":\"LinearAxis\"},{\"attributes\":{},\"id\":\"15a06937-791b-4f5e-8f04-3e90f8f31861\",\"type\":\"LinearScale\"},{\"attributes\":{\"line_alpha\":0.6,\"line_color\":\"#984ea3\",\"line_width\":3,\"x\":{\"field\":\"x\"},\"y\":{\"field\":\"y\"}},\"id\":\"99a345bf-1819-48e3-a830-2a0be31ce66f\",\"type\":\"Line\"},{\"attributes\":{\"callback\":null,\"end\":0.02733619851731,\"start\":-0.00031901224831000003},\"id\":\"503b91df-073b-482b-9821-96c1aeff7426\",\"type\":\"Range1d\"},{\"attributes\":{},\"id\":\"3684fbd1-63b3-4d6d-9a58-e7bdb77c3c01\",\"type\":\"LinearScale\"},{\"attributes\":{\"items\":[{\"id\":\"30a5a109-8842-41d2-a812-9fe8808da1d9\",\"type\":\"LegendItem\"},{\"id\":\"b9c29191-0909-4ea4-a7ff-c2c6f5450d4e\",\"type\":\"LegendItem\"},{\"id\":\"153ceeaa-bf58-42c0-92f5-2d1f1841f582\",\"type\":\"LegendItem\"}],\"label_text_font_size\":{\"value\":\"8pt\"},\"location\":\"top_center\",\"orientation\":\"horizontal\",\"plot\":{\"id\":\"2694cfd6-a22c-42c6-b1ef-072c9f228816\",\"subtype\":\"Figure\",\"type\":\"Plot\"}},\"id\":\"d2404b28-24c4-4413-ab20-138d3b7972d6\",\"type\":\"Legend\"},{\"attributes\":{\"plot\":null,\"text\":\"\"},\"id\":\"5b618b0b-4949-426c-8bad-ab7cd2d8cdf8\",\"type\":\"Title\"},{\"attributes\":{\"fill_alpha\":{\"value\":0.7},\"fill_color\":{\"value\":\"#377eb8\"},\"line_alpha\":{\"value\":0.7},\"line_color\":{\"value\":\"#377eb8\"},\"x\":{\"field\":\"x\"},\"y\":{\"field\":\"y\"}},\"id\":\"2b57d2f4-7758-4f89-8e91-52a5acdf8c31\",\"type\":\"Triangle\"},{\"attributes\":{\"above\":[{\"id\":\"2a812b7d-31b4-4a54-8085-25646d88fcc9\",\"type\":\"Legend\"}],\"below\":[{\"id\":\"7e46a26d-fae8-4ff6-8277-eae9ab10f8c0\",\"type\":\"LinearAxis\"}],\"left\":[{\"id\":\"7939e4f1-c0ef-4658-9ac9-ffaa2bba6120\",\"type\":\"LogAxis\"}],\"plot_height\":500,\"plot_width\":400,\"renderers\":[{\"id\":\"7e46a26d-fae8-4ff6-8277-eae9ab10f8c0\",\"type\":\"LinearAxis\"},{\"id\":\"114ff94d-2ca3-4da9-8e81-482d3715bfda\",\"type\":\"Grid\"},{\"id\":\"7939e4f1-c0ef-4658-9ac9-ffaa2bba6120\",\"type\":\"LogAxis\"},{\"id\":\"bb2d866c-7421-4a0c-8575-723ce706c976\",\"type\":\"Grid\"},{\"id\":\"48d3a247-c16a-4b08-8acf-dcf14dc073f9\",\"type\":\"BoxAnnotation\"},{\"id\":\"0704d188-3197-4f6b-98b3-9dcbf82a69d7\",\"type\":\"GlyphRenderer\"},{\"id\":\"0e679959-14cc-4022-8201-e70a0990336a\",\"type\":\"GlyphRenderer\"},{\"id\":\"f1150620-2681-4985-8a4d-393ba7de8832\",\"type\":\"GlyphRenderer\"},{\"id\":\"5bd19764-afe2-4cad-a516-cf0417b86d53\",\"type\":\"GlyphRenderer\"},{\"id\":\"eb7b1c2e-769f-4da4-8aad-57ae8460d7ba\",\"type\":\"GlyphRenderer\"},{\"id\":\"0620cc66-b745-44a4-bc6e-4e3c0b3c22a7\",\"type\":\"GlyphRenderer\"},{\"id\":\"2a812b7d-31b4-4a54-8085-25646d88fcc9\",\"type\":\"Legend\"}],\"title\":{\"id\":\"5b618b0b-4949-426c-8bad-ab7cd2d8cdf8\",\"type\":\"Title\"},\"toolbar\":{\"id\":\"8d234992-bdb0-4e74-9dbe-af5db4c9ab99\",\"type\":\"Toolbar\"},\"toolbar_location\":null,\"x_range\":{\"id\":\"1835ef46-ace1-426f-b398-89c1244d56ae\",\"type\":\"Range1d\"},\"x_scale\":{\"id\":\"952159ad-ee05-4aab-83f6-6c3c172d7006\",\"type\":\"LinearScale\"},\"y_range\":{\"id\":\"823176d4-7bfb-4cfc-9ad2-be14a25fb9bc\",\"type\":\"Range1d\"},\"y_scale\":{\"id\":\"903a1fe3-41c7-4aba-8656-b7d8480d5837\",\"type\":\"LogScale\"}},\"id\":\"cfdcd3df-86c7-4f18-b2ba-d58a0bcc5501\",\"subtype\":\"Figure\",\"type\":\"Plot\"},{\"attributes\":{\"line_alpha\":0.1,\"line_color\":\"#1f77b4\",\"line_width\":3,\"x\":{\"field\":\"x\"},\"y\":{\"field\":\"y\"}},\"id\":\"882d87dd-7162-4832-af56-7cbc0ec54a41\",\"type\":\"Line\"},{\"attributes\":{\"callback\":null,\"data\":{\"x\":{\"__ndarray__\":\"GooZdBeD177haXRR0ofXvsaCzXAZj9e+ir7ixmWT175BtEj/Z5TXvpJEOEn0kde+k0kt8+qL177A2t+PHYLXvkg0CyRodNe+VMS2N6Bi174E4VfhnUzXvlDllhc9Mte+gxraUDoT1769cdh4eeTWvjz3Nnqa9tW+vUMlOOyK0r69sBlVC7/FvvVn1CA5IqU+/+zy/lGk2D6s3M/sw2PtPujSpFBmfvs+RXI8rbsMBj/hp+Qyq4QJP0a7XL6sPwY/j9/3Ix8YAT9qBtxxmdb2PqMatFy/aus+D28xF0Ea3D6G/RPN4bHBPvCfzaRlF7O+z1R+bwdjzL6zICopX4bUvpWSc1ehndi+4X8qZ0Ai275XUo4Fz1/cvm6ZznsXmNu+62OgBuyW2r58Fr2op0DcviC6YT+SpN++EA0xBuxn4r5FsAnrW8XqvhVCnCM8wvu+biaQZXVJBr92iggcthoJv6yoy302Iu2+rYXyqZerHD+MbRqywPU5P/wrZpmqhk4/+bhQX3EdXD9SgFjRR2JnPznwTT/fEHI/7hp+BVpSej9iV3Sa7j2CP/63YuQEJIg/S24hg22ojj/XXpcjXK+SPy4bjsgm4pU/g8nMhq6kmD9GsNQnd6eaPzE94Ajytps/RKOMz5ypmz/zK3COR2SaP4RJ3w5O8Jc/4W4qARptlT86P/DxPMqQP1IjV16wI4c/AwAd6BVWfD/CfslyhJ9vP9U1rg2Cf2M/qUKCMFcJXT/nlHEkOPtYPzq8nKBxi1c/ZV+Jci9RWT/xJgsdjDhjP+vNPadGT3k/\",\"dtype\":\"float64\",\"shape\":[75]},\"y\":{\"__ndarray__\":\"GhExyth1ND/Sv8nbtpRIP2vylNV0PVE/aTum7souWD/At0SJ8fVgPw3Iuahxymc/MSNhhJWvcD/bTfBN02d3P2zb5nxnaoA/CD5h5MAGhz8NmeH1TyaQP+zrCsc9p5Y/LbKd76fGnz/bLW5ISEmmPww9YvTcQq8/JV2OstnstT8Er5Y7M8G+P0c+r3jqkcU/5h99k6ZBzj88bCIzFzjVP4enV8oyxN0//yH99nXg5D8qOpLLf0jtP5kqGJXUifQ/c9cS8kHP/D+/DpwzojQEQIEmwoanVwxA4lgXt9HgE0BSSZ2AJuIbQAMJih9jjiNA5q4l5INuK0AwTKYKRj0zQNv5fmq8/DpAaCJseHrtQkB/+zpwzoxKQM3MzMzMeFJAZmZmZmZqWEAAAAAAAFxeQM3MzMzMJmJAmpmZmZkfZUBmZmZmZhhoQDMzMzMzEWtAAAAAAAAKbkBmZmZmZoFwQM3MzMzM/XFAMzMzMzN6c0CamZmZmfZ0QAAAAAAAc3ZAZmZmZmbvd0DNzMzMzGt5QDMzMzMz6HpAmpmZmZlkfEAAAAAAAOF9QGZmZmZmXX9AZmZmZuZsgECamZmZGSuBQM3MzMxM6YFAAAAAAICngkAzMzMzs2WDQGZmZmbmI4RAmpmZmRnihEDNzMzMTKCFQAAAAACAXoZAMzMzM7Mch0BmZmZm5tqHQJqZmZkZmYhAzczMzExXiUAAAAAAgBWKQDMzMzOz04pAZmZmZuaRi0CamZmZGVCMQM3MzMxMDo1AAAAAAIDMjUAzMzMzs4qOQGZmZmbmSI9A\",\"dtype\":\"float64\",\"shape\":[75]}},\"selected\":{\"id\":\"2338a07b-05ae-4ec0-898b-3fd6420a67e1\",\"type\":\"Selection\"},\"selection_policy\":{\"id\":\"f8085e13-8f21-4c8d-84a1-5c03a636c9c8\",\"type\":\"UnionRenderers\"}},\"id\":\"d906bfb8-5c14-42e8-8eaa-2bc4802080ce\",\"type\":\"ColumnDataSource\"},{\"attributes\":{\"data_source\":{\"id\":\"4b1e1ccb-3b5b-4d8a-8a40-9c4c2d08c609\",\"type\":\"ColumnDataSource\"},\"glyph\":{\"id\":\"2b57d2f4-7758-4f89-8e91-52a5acdf8c31\",\"type\":\"Triangle\"},\"hover_glyph\":null,\"muted_glyph\":null,\"nonselection_glyph\":{\"id\":\"6f87df11-1b31-483c-b49a-f9c1a95730c7\",\"type\":\"Triangle\"},\"selection_glyph\":null,\"view\":{\"id\":\"18f690a7-52df-4038-a718-e5d93bbf39fe\",\"type\":\"CDSView\"}},\"id\":\"eb7b1c2e-769f-4da4-8aad-57ae8460d7ba\",\"type\":\"GlyphRenderer\"},{\"attributes\":{\"active_drag\":\"auto\",\"active_inspect\":\"auto\",\"active_scroll\":\"auto\",\"active_tap\":\"auto\",\"tools\":[{\"id\":\"593b2b74-2d25-4196-a17e-7864d980d0e3\",\"type\":\"PanTool\"},{\"id\":\"71bb231a-119c-4777-a7f9-97ab00208fcc\",\"type\":\"WheelZoomTool\"},{\"id\":\"b5943715-61de-4134-a7e3-338a0d4b171b\",\"type\":\"BoxZoomTool\"},{\"id\":\"9b8ee62d-280e-42b8-85bd-a6dda4551c9c\",\"type\":\"SaveTool\"},{\"id\":\"1150dbb1-bc7e-4aed-ab4c-2cc5339e96aa\",\"type\":\"ResetTool\"},{\"id\":\"35dc62c8-8811-4f40-8315-cda143b0b5dd\",\"type\":\"HelpTool\"}]},\"id\":\"ad66f96a-0536-4603-9c99-fb2d6f27e663\",\"type\":\"Toolbar\"},{\"attributes\":{\"above\":[{\"id\":\"d2404b28-24c4-4413-ab20-138d3b7972d6\",\"type\":\"Legend\"}],\"below\":[{\"id\":\"9fa8de53-6ccb-4874-ba14-0ba8a1609a96\",\"type\":\"LinearAxis\"}],\"left\":[{\"id\":\"4d027947-2eee-4f68-883e-110480d3a1b1\",\"type\":\"LinearAxis\"}],\"plot_height\":500,\"plot_width\":400,\"renderers\":[{\"id\":\"9fa8de53-6ccb-4874-ba14-0ba8a1609a96\",\"type\":\"LinearAxis\"},{\"id\":\"fd0a0049-fa57-4e5d-9343-ccc5bf4cb7f9\",\"type\":\"Grid\"},{\"id\":\"4d027947-2eee-4f68-883e-110480d3a1b1\",\"type\":\"LinearAxis\"},{\"id\":\"b91f6b42-653f-4275-8ffb-f14945521a8d\",\"type\":\"Grid\"},{\"id\":\"05817049-ff36-41ae-bb0c-61c9bf19717e\",\"type\":\"BoxAnnotation\"},{\"id\":\"43591a17-c7bf-4733-8e41-8542eeb7f67a\",\"type\":\"GlyphRenderer\"},{\"id\":\"dda04045-11b0-4ee4-b917-49791e18b5b4\",\"type\":\"GlyphRenderer\"},{\"id\":\"636945f7-4d55-4d57-99da-bccbe6f917f2\",\"type\":\"GlyphRenderer\"},{\"id\":\"1966bf07-4d74-4554-8c34-dcbf1dccf733\",\"type\":\"GlyphRenderer\"},{\"id\":\"ae8dbc25-4776-49e5-a52d-cdbcb14d32b5\",\"type\":\"GlyphRenderer\"},{\"id\":\"2b42e58c-5b5d-44f1-a22f-6961d561c1e9\",\"type\":\"GlyphRenderer\"},{\"id\":\"d2404b28-24c4-4413-ab20-138d3b7972d6\",\"type\":\"Legend\"}],\"title\":{\"id\":\"e258e0da-9a09-4f82-81f8-d5754c462e62\",\"type\":\"Title\"},\"toolbar\":{\"id\":\"ad66f96a-0536-4603-9c99-fb2d6f27e663\",\"type\":\"Toolbar\"},\"toolbar_location\":null,\"x_range\":{\"id\":\"503b91df-073b-482b-9821-96c1aeff7426\",\"type\":\"Range1d\"},\"x_scale\":{\"id\":\"3684fbd1-63b3-4d6d-9a58-e7bdb77c3c01\",\"type\":\"LinearScale\"},\"y_range\":{\"id\":\"6f631fcb-e551-49dc-9147-ecf6837d985e\",\"type\":\"Range1d\"},\"y_scale\":{\"id\":\"15a06937-791b-4f5e-8f04-3e90f8f31861\",\"type\":\"LinearScale\"}},\"id\":\"2694cfd6-a22c-42c6-b1ef-072c9f228816\",\"subtype\":\"Figure\",\"type\":\"Plot\"},{\"attributes\":{\"line_alpha\":0.1,\"line_color\":\"#1f77b4\",\"line_width\":1.5,\"x\":{\"field\":\"x\"},\"y\":{\"field\":\"y\"}},\"id\":\"9976c2e9-9a81-47a5-b762-74398ba9940d\",\"type\":\"Line\"},{\"attributes\":{\"callback\":null,\"data\":{\"x\":{\"__ndarray__\":\"8NlW9j/02L7xixMstvLYvv1JBHHC7Ni+byYUdLfi2L5R4ywSeNTYvhYYHzbSwdi+QvQ05JSq2L6kONe5jY7YvlOGbRKLbdi+9IgKCltH2L5/fd9VyhvYvptCLjWn6te+YLV7aI2z176rccwXL2TXvpAJ6ly98dW+L0iqU9oa0b68bOSRKpK7vsIYNw9CDsU+pIpepSct4z4JsQzI8T/0PpwQRbUODQI/R2YbgfZFDD/BGdlpKkQQP8xn6rPthQw/ixqIVkcwBj8d0WC7WF7+PveLLbssDvM+y1NFPqhy5T7hsGdGl7PSPlR62eCjmZY+TIz71vJqxb6eHI6chwLTvj4TNETBhdi+KWMrD1oU3L7uk70hwzfevon9oM9n+t2+D/ordBEb3b4eI/GnUMPevhbTXKNo8uC+yvSHR4RB4773JCw9aALrviqQeRPiT/q+GVi4s1p6Ar+FZ8Q4/7f5vh5nsGNTLQY/6ynFulWWLT9j7mSeJNxDPxZydkH1tVQ/m4DxGNa3YT/NjOKDfONrPwyEnj7bknQ/Qj6Yt9LCfD/SeAAMxi+DPxRe7+9Ngog/b5uVLKghjj96YTUNv9iRP6juhVq3Z5Q/RpgKQI+Qlj9zBZwk5COYP8JTlaTVCpk/r7JgKWUumT9foV0lInOYP9TGx93WzJY/rqSbGCA+lT9qrH4eA6+RP0AGN8FTooo/+vkZ1INtgj8Pmwd6aJt3P3qMF29JpW8/YL8PXi4vZz9D4KJ9LoZiP30tmXddPmA/3XaxUsB7YD9y0NQdmuFmP5ax4W2FN3o/\",\"dtype\":\"float64\",\"shape\":[75]},\"y\":{\"__ndarray__\":\"GhExyth1ND/Sv8nbtpRIP2vylNV0PVE/aTum7souWD/At0SJ8fVgPw3Iuahxymc/MSNhhJWvcD/bTfBN02d3P2zb5nxnaoA/CD5h5MAGhz8NmeH1TyaQP+zrCsc9p5Y/LbKd76fGnz/bLW5ISEmmPww9YvTcQq8/JV2OstnstT8Er5Y7M8G+P0c+r3jqkcU/5h99k6ZBzj88bCIzFzjVP4enV8oyxN0//yH99nXg5D8qOpLLf0jtP5kqGJXUifQ/c9cS8kHP/D+/DpwzojQEQIEmwoanVwxA4lgXt9HgE0BSSZ2AJuIbQAMJih9jjiNA5q4l5INuK0AwTKYKRj0zQNv5fmq8/DpAaCJseHrtQkB/+zpwzoxKQM3MzMzMeFJAZmZmZmZqWEAAAAAAAFxeQM3MzMzMJmJAmpmZmZkfZUBmZmZmZhhoQDMzMzMzEWtAAAAAAAAKbkBmZmZmZoFwQM3MzMzM/XFAMzMzMzN6c0CamZmZmfZ0QAAAAAAAc3ZAZmZmZmbvd0DNzMzMzGt5QDMzMzMz6HpAmpmZmZlkfEAAAAAAAOF9QGZmZmZmXX9AZmZmZuZsgECamZmZGSuBQM3MzMxM6YFAAAAAAICngkAzMzMzs2WDQGZmZmbmI4RAmpmZmRnihEDNzMzMTKCFQAAAAACAXoZAMzMzM7Mch0BmZmZm5tqHQJqZmZkZmYhAzczMzExXiUAAAAAAgBWKQDMzMzOz04pAZmZmZuaRi0CamZmZGVCMQM3MzMxMDo1AAAAAAIDMjUAzMzMzs4qOQGZmZmbmSI9A\",\"dtype\":\"float64\",\"shape\":[75]}},\"selected\":{\"id\":\"173fe70b-84cc-4480-8d1a-3de9f22ffa43\",\"type\":\"Selection\"},\"selection_policy\":{\"id\":\"ee1481fb-5492-4da1-826a-137f11f4cbfe\",\"type\":\"UnionRenderers\"}},\"id\":\"b089b207-80fd-492a-a971-60cdf51f0d58\",\"type\":\"ColumnDataSource\"},{\"attributes\":{\"data_source\":{\"id\":\"f25fb374-b776-414c-a450-12afe586bfa6\",\"type\":\"ColumnDataSource\"},\"glyph\":{\"id\":\"e71fe773-cd83-4212-a499-c00e5f0b4c26\",\"type\":\"Line\"},\"hover_glyph\":null,\"muted_glyph\":null,\"nonselection_glyph\":{\"id\":\"9976c2e9-9a81-47a5-b762-74398ba9940d\",\"type\":\"Line\"},\"selection_glyph\":null,\"view\":{\"id\":\"c1944804-b4bf-4143-9221-c90fe6577bcf\",\"type\":\"CDSView\"}},\"id\":\"0e679959-14cc-4022-8201-e70a0990336a\",\"type\":\"GlyphRenderer\"},{\"attributes\":{\"fill_alpha\":{\"value\":0.7},\"fill_color\":{\"value\":\"#377eb8\"},\"line_alpha\":{\"value\":0.7},\"line_color\":{\"value\":\"#377eb8\"},\"x\":{\"field\":\"x\"},\"y\":{\"field\":\"y\"}},\"id\":\"d460763c-bfa1-47e4-89eb-b30c62ab1a50\",\"type\":\"Triangle\"},{\"attributes\":{\"fill_alpha\":{\"value\":0.1},\"fill_color\":{\"value\":\"#1f77b4\"},\"line_alpha\":{\"value\":0.1},\"line_color\":{\"value\":\"#1f77b4\"},\"x\":{\"field\":\"x\"},\"y\":{\"field\":\"y\"}},\"id\":\"6f87df11-1b31-483c-b49a-f9c1a95730c7\",\"type\":\"Triangle\"},{\"attributes\":{\"children\":[{\"id\":\"2694cfd6-a22c-42c6-b1ef-072c9f228816\",\"subtype\":\"Figure\",\"type\":\"Plot\"},{\"id\":\"cfdcd3df-86c7-4f18-b2ba-d58a0bcc5501\",\"subtype\":\"Figure\",\"type\":\"Plot\"}]},\"id\":\"ada598b4-a5df-44e4-8ee1-3fcfe7af9754\",\"type\":\"Row\"},{\"attributes\":{\"data_source\":{\"id\":\"37d7d8c6-3b57-4a31-a8d4-4e84846adcca\",\"type\":\"ColumnDataSource\"},\"glyph\":{\"id\":\"2a4eefd5-3888-45bf-b092-a4be92dfc1fa\",\"type\":\"Square\"},\"hover_glyph\":null,\"muted_glyph\":null,\"nonselection_glyph\":{\"id\":\"1498d262-1e8c-4c36-a978-733621f40916\",\"type\":\"Square\"},\"selection_glyph\":null,\"view\":{\"id\":\"4dd901d8-8649-4e0a-8c6e-377bbe91dea5\",\"type\":\"CDSView\"}},\"id\":\"f1150620-2681-4985-8a4d-393ba7de8832\",\"type\":\"GlyphRenderer\"},{\"attributes\":{\"fill_alpha\":{\"value\":0.1},\"fill_color\":{\"value\":\"#1f77b4\"},\"line_alpha\":{\"value\":0.1},\"line_color\":{\"value\":\"#1f77b4\"},\"x\":{\"field\":\"x\"},\"y\":{\"field\":\"y\"}},\"id\":\"1498d262-1e8c-4c36-a978-733621f40916\",\"type\":\"Square\"},{\"attributes\":{\"data_source\":{\"id\":\"b089b207-80fd-492a-a971-60cdf51f0d58\",\"type\":\"ColumnDataSource\"},\"glyph\":{\"id\":\"99a345bf-1819-48e3-a830-2a0be31ce66f\",\"type\":\"Line\"},\"hover_glyph\":null,\"muted_glyph\":null,\"nonselection_glyph\":{\"id\":\"882d87dd-7162-4832-af56-7cbc0ec54a41\",\"type\":\"Line\"},\"selection_glyph\":null,\"view\":{\"id\":\"aacff2f4-167b-4b51-9eb7-c15f528ecc4d\",\"type\":\"CDSView\"}},\"id\":\"5bd19764-afe2-4cad-a516-cf0417b86d53\",\"type\":\"GlyphRenderer\"},{\"attributes\":{\"callback\":null,\"data\":{\"x\":{\"__ndarray__\":\"GooZdBeD177haXRR0ofXvsaCzXAZj9e+ir7ixmWT175BtEj/Z5TXvpJEOEn0kde+k0kt8+qL177A2t+PHYLXvkg0CyRodNe+VMS2N6Bi174E4VfhnUzXvlDllhc9Mte+gxraUDoT1769cdh4eeTWvjz3Nnqa9tW+vUMlOOyK0r69sBlVC7/FvvVn1CA5IqU+/+zy/lGk2D6s3M/sw2PtPujSpFBmfvs+RXI8rbsMBj/hp+Qyq4QJP0a7XL6sPwY/j9/3Ix8YAT9qBtxxmdb2PqMatFy/aus+D28xF0Ea3D6G/RPN4bHBPvCfzaRlF7O+z1R+bwdjzL6zICopX4bUvpWSc1ehndi+4X8qZ0Ai275XUo4Fz1/cvm6ZznsXmNu+62OgBuyW2r58Fr2op0DcviC6YT+SpN++EA0xBuxn4r5FsAnrW8XqvhVCnCM8wvu+biaQZXVJBr92iggcthoJv6yoy302Iu2+rYXyqZerHD+MbRqywPU5P/wrZpmqhk4/+bhQX3EdXD9SgFjRR2JnPznwTT/fEHI/7hp+BVpSej9iV3Sa7j2CP/63YuQEJIg/S24hg22ojj/XXpcjXK+SPy4bjsgm4pU/g8nMhq6kmD9GsNQnd6eaPzE94Ajytps/RKOMz5ypmz/zK3COR2SaP4RJ3w5O8Jc/4W4qARptlT86P/DxPMqQP1IjV16wI4c/AwAd6BVWfD/CfslyhJ9vP9U1rg2Cf2M/qUKCMFcJXT/nlHEkOPtYPzq8nKBxi1c/ZV+Jci9RWT/xJgsdjDhjP+vNPadGT3k/\",\"dtype\":\"float64\",\"shape\":[75]},\"y\":{\"__ndarray__\":\"GhExyth1ND/Sv8nbtpRIP2vylNV0PVE/aTum7souWD/At0SJ8fVgPw3Iuahxymc/MSNhhJWvcD/bTfBN02d3P2zb5nxnaoA/CD5h5MAGhz8NmeH1TyaQP+zrCsc9p5Y/LbKd76fGnz/bLW5ISEmmPww9YvTcQq8/JV2OstnstT8Er5Y7M8G+P0c+r3jqkcU/5h99k6ZBzj88bCIzFzjVP4enV8oyxN0//yH99nXg5D8qOpLLf0jtP5kqGJXUifQ/c9cS8kHP/D+/DpwzojQEQIEmwoanVwxA4lgXt9HgE0BSSZ2AJuIbQAMJih9jjiNA5q4l5INuK0AwTKYKRj0zQNv5fmq8/DpAaCJseHrtQkB/+zpwzoxKQM3MzMzMeFJAZmZmZmZqWEAAAAAAAFxeQM3MzMzMJmJAmpmZmZkfZUBmZmZmZhhoQDMzMzMzEWtAAAAAAAAKbkBmZmZmZoFwQM3MzMzM/XFAMzMzMzN6c0CamZmZmfZ0QAAAAAAAc3ZAZmZmZmbvd0DNzMzMzGt5QDMzMzMz6HpAmpmZmZlkfEAAAAAAAOF9QGZmZmZmXX9AZmZmZuZsgECamZmZGSuBQM3MzMxM6YFAAAAAAICngkAzMzMzs2WDQGZmZmbmI4RAmpmZmRnihEDNzMzMTKCFQAAAAACAXoZAMzMzM7Mch0BmZmZm5tqHQJqZmZkZmYhAzczMzExXiUAAAAAAgBWKQDMzMzOz04pAZmZmZuaRi0CamZmZGVCMQM3MzMxMDo1AAAAAAIDMjUAzMzMzs4qOQGZmZmbmSI9A\",\"dtype\":\"float64\",\"shape\":[75]}},\"selected\":{\"id\":\"e85f8fbf-9d67-434c-9c22-e65e3d98a233\",\"type\":\"Selection\"},\"selection_policy\":{\"id\":\"92377219-6db3-4fcb-ba6f-6e65d645e06a\",\"type\":\"UnionRenderers\"}},\"id\":\"4b1e1ccb-3b5b-4d8a-8a40-9c4c2d08c609\",\"type\":\"ColumnDataSource\"},{\"attributes\":{\"line_alpha\":0.3,\"line_color\":\"#377eb8\",\"line_width\":2,\"x\":{\"field\":\"x\"},\"y\":{\"field\":\"y\"}},\"id\":\"b06f48e2-835f-4b86-95e2-501ab3184169\",\"type\":\"Line\"},{\"attributes\":{\"source\":{\"id\":\"b089b207-80fd-492a-a971-60cdf51f0d58\",\"type\":\"ColumnDataSource\"}},\"id\":\"aacff2f4-167b-4b51-9eb7-c15f528ecc4d\",\"type\":\"CDSView\"},{\"attributes\":{\"line_alpha\":0.1,\"line_color\":\"#1f77b4\",\"line_width\":2,\"x\":{\"field\":\"x\"},\"y\":{\"field\":\"y\"}},\"id\":\"9e6f764a-c9ae-4a4b-99b1-d8378ab48be8\",\"type\":\"Line\"},{\"attributes\":{\"source\":{\"id\":\"4b1e1ccb-3b5b-4d8a-8a40-9c4c2d08c609\",\"type\":\"ColumnDataSource\"}},\"id\":\"18f690a7-52df-4038-a718-e5d93bbf39fe\",\"type\":\"CDSView\"},{\"attributes\":{\"source\":{\"id\":\"d906bfb8-5c14-42e8-8eaa-2bc4802080ce\",\"type\":\"ColumnDataSource\"}},\"id\":\"d3727732-aa8c-4dac-92c6-086ad9663d04\",\"type\":\"CDSView\"},{\"attributes\":{\"callback\":null,\"data\":{\"x\":{\"__ndarray__\":\"qtSFMYVq375tx5Mh90Lfvn21mRGr6t6+d3YU+L+H3r4FrBYtgRrevjoJiJlDo92+uLecwcsh3b5Dg9FWaZXcvm9Vfnq2/du++6N5FzJa2752oAJUZ6ravppzN5bR7dm+aOhL8zQj2b5507CjpgzYvjtBjApvedO+oKuvaDuwuL7k6pMJMQDTPs1C7pRCje0+1542pN8V/j4rwXQkzGYKP56iHR3FbxU/0PzkQgLaHz994MmhQQwiP9SvvJeZ9R8/UnwB3ERxGT/HZnAZNjMSP7SzrOrdkQg/RT4JZkJ1/z7epgtnG3fyPgDG2peeIuI+BvFs0TJewz43LqliQAHBvq88Dc6jfNS+gx82XWIP3L6ZZ4DU6WvgvmtRnHG1seC+UBECPbEC4L6ORt7EhHLgvnoA4iYfSOG+g9oHMEhZ4r6xzHNPFg7nvqzmG+Xi+/G+q2ESgOvn5r6gVQVEArYCP+i82CeagyY/9V3x0ASyPj/F9deCUZZQP1Wu3LjxoV4/vvBSAzASaD95et2NgrpxP3E4B9k/uXg/pORMSKhvgD8olr6EyPGEP1e+/Ig+o4k/X384Zt5Mjj+xfoJ3MU6RP3cPCCiYJ5M/NMmf2qaZlD+1IvDbno2VPzd7nV2JA5Y/GL33kCD3lT9yPpi7ZleVP/pCUWtdFJQ/Iln6r/cLkz/tU9efmWeQP1C9DeiHPIo/8u51xyPugz/KbYQQU8x8P1k/KVZuonU/38SYxHUdcT9XN7nEuj1sPzfC3TscdGg/p1ni+fMKZz+gkB0Tom5qP+Up0tVCdno/\",\"dtype\":\"float64\",\"shape\":[75]},\"y\":{\"__ndarray__\":\"GhExyth1ND/Sv8nbtpRIP2vylNV0PVE/aTum7souWD/At0SJ8fVgPw3Iuahxymc/MSNhhJWvcD/bTfBN02d3P2zb5nxnaoA/CD5h5MAGhz8NmeH1TyaQP+zrCsc9p5Y/LbKd76fGnz/bLW5ISEmmPww9YvTcQq8/JV2OstnstT8Er5Y7M8G+P0c+r3jqkcU/5h99k6ZBzj88bCIzFzjVP4enV8oyxN0//yH99nXg5D8qOpLLf0jtP5kqGJXUifQ/c9cS8kHP/D+/DpwzojQEQIEmwoanVwxA4lgXt9HgE0BSSZ2AJuIbQAMJih9jjiNA5q4l5INuK0AwTKYKRj0zQNv5fmq8/DpAaCJseHrtQkB/+zpwzoxKQM3MzMzMeFJAZmZmZmZqWEAAAAAAAFxeQM3MzMzMJmJAmpmZmZkfZUBmZmZmZhhoQDMzMzMzEWtAAAAAAAAKbkBmZmZmZoFwQM3MzMzM/XFAMzMzMzN6c0CamZmZmfZ0QAAAAAAAc3ZAZmZmZmbvd0DNzMzMzGt5QDMzMzMz6HpAmpmZmZlkfEAAAAAAAOF9QGZmZmZmXX9AZmZmZuZsgECamZmZGSuBQM3MzMxM6YFAAAAAAICngkAzMzMzs2WDQGZmZmbmI4RAmpmZmRnihEDNzMzMTKCFQAAAAACAXoZAMzMzM7Mch0BmZmZm5tqHQJqZmZkZmYhAzczMzExXiUAAAAAAgBWKQDMzMzOz04pAZmZmZuaRi0CamZmZGVCMQM3MzMxMDo1AAAAAAIDMjUAzMzMzs4qOQGZmZmbmSI9A\",\"dtype\":\"float64\",\"shape\":[75]}},\"selected\":{\"id\":\"f8ab28a8-ce88-4e34-8174-ec49eb6d4dbb\",\"type\":\"Selection\"},\"selection_policy\":{\"id\":\"d0df1332-574b-400e-8f13-3bf9fa1aa261\",\"type\":\"UnionRenderers\"}},\"id\":\"a34bdc96-e093-4c80-b6fa-0d9d1e769c6e\",\"type\":\"ColumnDataSource\"},{\"attributes\":{\"label\":{\"value\":\"CRD\"},\"renderers\":[{\"id\":\"0704d188-3197-4f6b-98b3-9dcbf82a69d7\",\"type\":\"GlyphRenderer\"},{\"id\":\"0e679959-14cc-4022-8201-e70a0990336a\",\"type\":\"GlyphRenderer\"}]},\"id\":\"81f3bf0e-041e-4b2c-9d27-ce1f0e4dc1d6\",\"type\":\"LegendItem\"},{\"attributes\":{\"plot\":null,\"text\":\"\"},\"id\":\"e258e0da-9a09-4f82-81f8-d5754c462e62\",\"type\":\"Title\"},{\"attributes\":{},\"id\":\"94bd4f8f-c8d9-4f6c-8a93-1c524446ad02\",\"type\":\"Selection\"},{\"attributes\":{\"label\":{\"value\":\"WGT igg=1\"},\"renderers\":[{\"id\":\"f1150620-2681-4985-8a4d-393ba7de8832\",\"type\":\"GlyphRenderer\"},{\"id\":\"5bd19764-afe2-4cad-a516-cf0417b86d53\",\"type\":\"GlyphRenderer\"}]},\"id\":\"80d7c0f2-fd9a-4a9e-91f7-793ae83c6cb8\",\"type\":\"LegendItem\"},{\"attributes\":{},\"id\":\"cd464514-ca7b-45dd-a8ea-4cd9013f8ab3\",\"type\":\"BasicTickFormatter\"},{\"attributes\":{\"label\":{\"value\":\"WGT igg=10\"},\"renderers\":[{\"id\":\"eb7b1c2e-769f-4da4-8aad-57ae8460d7ba\",\"type\":\"GlyphRenderer\"},{\"id\":\"0620cc66-b745-44a4-bc6e-4e3c0b3c22a7\",\"type\":\"GlyphRenderer\"}]},\"id\":\"1ebde307-1cb7-4a57-920d-71b320534acf\",\"type\":\"LegendItem\"},{\"attributes\":{\"fill_alpha\":{\"value\":0.1},\"fill_color\":{\"value\":\"#1f77b4\"},\"line_alpha\":{\"value\":0.1},\"line_color\":{\"value\":\"#1f77b4\"},\"x\":{\"field\":\"x\"},\"y\":{\"field\":\"y\"}},\"id\":\"0c55db07-8f72-4217-a9ff-1546b45f7762\",\"type\":\"Circle\"},{\"attributes\":{\"line_alpha\":0.1,\"line_color\":\"#1f77b4\",\"line_width\":3,\"x\":{\"field\":\"x\"},\"y\":{\"field\":\"y\"}},\"id\":\"ed26a0cb-3521-4a9b-8306-e26e577b7879\",\"type\":\"Line\"},{\"attributes\":{},\"id\":\"6b7b7d32-fa2b-46d7-8565-fbc71a3bc4d7\",\"type\":\"UnionRenderers\"},{\"attributes\":{},\"id\":\"e7ce226c-e5ac-41d6-8fbe-71ed2ba5b174\",\"type\":\"BasicTickFormatter\"},{\"attributes\":{},\"id\":\"f8ab28a8-ce88-4e34-8174-ec49eb6d4dbb\",\"type\":\"Selection\"},{\"attributes\":{},\"id\":\"c9e65181-ac95-418c-a6ed-765db3332e44\",\"type\":\"Selection\"},{\"attributes\":{},\"id\":\"d0df1332-574b-400e-8f13-3bf9fa1aa261\",\"type\":\"UnionRenderers\"},{\"attributes\":{},\"id\":\"c2e7b552-3e62-4703-80b4-26d1f526f2ef\",\"type\":\"Selection\"},{\"attributes\":{},\"id\":\"f3a2126e-f2a2-4a8d-8aac-dfb23b10e441\",\"type\":\"UnionRenderers\"},{\"attributes\":{},\"id\":\"3e4a8bd2-e3d0-4c18-809d-bc4e0389ba68\",\"type\":\"Selection\"},{\"attributes\":{\"callback\":null,\"data\":{\"x\":{\"__ndarray__\":\"GooZdBeD177haXRR0ofXvsaCzXAZj9e+ir7ixmWT175BtEj/Z5TXvpJEOEn0kde+k0kt8+qL177A2t+PHYLXvkg0CyRodNe+VMS2N6Bi174E4VfhnUzXvlDllhc9Mte+gxraUDoT1769cdh4eeTWvjz3Nnqa9tW+vUMlOOyK0r69sBlVC7/FvvVn1CA5IqU+/+zy/lGk2D6s3M/sw2PtPujSpFBmfvs+RXI8rbsMBj/hp+Qyq4QJP0a7XL6sPwY/j9/3Ix8YAT9qBtxxmdb2PqMatFy/aus+D28xF0Ea3D6G/RPN4bHBPvCfzaRlF7O+z1R+bwdjzL6zICopX4bUvpWSc1ehndi+4X8qZ0Ai275XUo4Fz1/cvm6ZznsXmNu+62OgBuyW2r58Fr2op0DcviC6YT+SpN++EA0xBuxn4r5FsAnrW8XqvhVCnCM8wvu+biaQZXVJBr92iggcthoJv6yoy302Iu2+rYXyqZerHD+MbRqywPU5P/wrZpmqhk4/+bhQX3EdXD9SgFjRR2JnPznwTT/fEHI/7hp+BVpSej9iV3Sa7j2CP/63YuQEJIg/S24hg22ojj/XXpcjXK+SPy4bjsgm4pU/g8nMhq6kmD9GsNQnd6eaPzE94Ajytps/RKOMz5ypmz/zK3COR2SaP4RJ3w5O8Jc/4W4qARptlT86P/DxPMqQP1IjV16wI4c/AwAd6BVWfD/CfslyhJ9vP9U1rg2Cf2M/qUKCMFcJXT/nlHEkOPtYPzq8nKBxi1c/ZV+Jci9RWT/xJgsdjDhjP+vNPadGT3k/\",\"dtype\":\"float64\",\"shape\":[75]},\"y\":{\"__ndarray__\":\"GhExyth1ND/Sv8nbtpRIP2vylNV0PVE/aTum7souWD/At0SJ8fVgPw3Iuahxymc/MSNhhJWvcD/bTfBN02d3P2zb5nxnaoA/CD5h5MAGhz8NmeH1TyaQP+zrCsc9p5Y/LbKd76fGnz/bLW5ISEmmPww9YvTcQq8/JV2OstnstT8Er5Y7M8G+P0c+r3jqkcU/5h99k6ZBzj88bCIzFzjVP4enV8oyxN0//yH99nXg5D8qOpLLf0jtP5kqGJXUifQ/c9cS8kHP/D+/DpwzojQEQIEmwoanVwxA4lgXt9HgE0BSSZ2AJuIbQAMJih9jjiNA5q4l5INuK0AwTKYKRj0zQNv5fmq8/DpAaCJseHrtQkB/+zpwzoxKQM3MzMzMeFJAZmZmZmZqWEAAAAAAAFxeQM3MzMzMJmJAmpmZmZkfZUBmZmZmZhhoQDMzMzMzEWtAAAAAAAAKbkBmZmZmZoFwQM3MzMzM/XFAMzMzMzN6c0CamZmZmfZ0QAAAAAAAc3ZAZmZmZmbvd0DNzMzMzGt5QDMzMzMz6HpAmpmZmZlkfEAAAAAAAOF9QGZmZmZmXX9AZmZmZuZsgECamZmZGSuBQM3MzMxM6YFAAAAAAICngkAzMzMzs2WDQGZmZmbmI4RAmpmZmRnihEDNzMzMTKCFQAAAAACAXoZAMzMzM7Mch0BmZmZm5tqHQJqZmZkZmYhAzczMzExXiUAAAAAAgBWKQDMzMzOz04pAZmZmZuaRi0CamZmZGVCMQM3MzMxMDo1AAAAAAIDMjUAzMzMzs4qOQGZmZmbmSI9A\",\"dtype\":\"float64\",\"shape\":[75]}},\"selected\":{\"id\":\"d2057bb0-1e27-49b7-82bf-04778666a28f\",\"type\":\"Selection\"},\"selection_policy\":{\"id\":\"bb6668ca-57ec-44ec-8df2-e83942d11130\",\"type\":\"UnionRenderers\"}},\"id\":\"fd29203d-8c54-4add-909c-4c61ac7004ea\",\"type\":\"ColumnDataSource\"},{\"attributes\":{},\"id\":\"daccb94b-fd44-4b3c-89de-29da8c7b43f2\",\"type\":\"UnionRenderers\"},{\"attributes\":{},\"id\":\"a094c086-eae4-47c1-b26c-0e626f561122\",\"type\":\"Selection\"},{\"attributes\":{},\"id\":\"5a8bd5d7-ae67-401d-974a-e04fff4bf597\",\"type\":\"UnionRenderers\"},{\"attributes\":{\"data_source\":{\"id\":\"1de749b3-0066-4f1d-bd2e-ecbc54ddf79c\",\"type\":\"ColumnDataSource\"},\"glyph\":{\"id\":\"e829e99d-ddae-42a1-8a29-0e89e946529b\",\"type\":\"Line\"},\"hover_glyph\":null,\"muted_glyph\":null,\"nonselection_glyph\":{\"id\":\"ed26a0cb-3521-4a9b-8306-e26e577b7879\",\"type\":\"Line\"},\"selection_glyph\":null,\"view\":{\"id\":\"c2061057-4bcb-4cd3-8127-9166b9f142dc\",\"type\":\"CDSView\"}},\"id\":\"1966bf07-4d74-4554-8c34-dcbf1dccf733\",\"type\":\"GlyphRenderer\"},{\"attributes\":{},\"id\":\"d2057bb0-1e27-49b7-82bf-04778666a28f\",\"type\":\"Selection\"},{\"attributes\":{\"fill_alpha\":{\"value\":0.1},\"fill_color\":{\"value\":\"#1f77b4\"},\"line_alpha\":{\"value\":0.1},\"line_color\":{\"value\":\"#1f77b4\"},\"x\":{\"field\":\"x\"},\"y\":{\"field\":\"y\"}},\"id\":\"c14e0f23-4cb6-4a8b-b20d-65eb8bf56baf\",\"type\":\"Triangle\"},{\"attributes\":{},\"id\":\"bb6668ca-57ec-44ec-8df2-e83942d11130\",\"type\":\"UnionRenderers\"},{\"attributes\":{},\"id\":\"ac0c966a-3691-4cf1-829f-0aa23112252c\",\"type\":\"BasicTickFormatter\"},{\"attributes\":{\"ticker\":null},\"id\":\"4a098ea9-982f-40b3-b2e4-2864fd1608dd\",\"type\":\"LogTickFormatter\"}],\"root_ids\":[\"80727799-bbc0-4c80-8859-867e4f63eb9e\"]},\"title\":\"Bokeh Application\",\"version\":\"0.12.16\"}};\n",
       "  var render_items = [{\"docid\":\"4b1b435d-7367-4580-bdee-3a1153c43f2d\",\"elementid\":\"ae091463-81ee-4235-b8e9-2cdfd988444d\",\"modelid\":\"80727799-bbc0-4c80-8859-867e4f63eb9e\"}];\n",
       "  root.Bokeh.embed.embed_items_notebook(docs_json, render_items);\n",
       "\n",
       "  }\n",
       "  if (root.Bokeh !== undefined) {\n",
       "    embed_document(root);\n",
       "  } else {\n",
       "    var attempts = 0;\n",
       "    var timer = setInterval(function(root) {\n",
       "      if (root.Bokeh !== undefined) {\n",
       "        embed_document(root);\n",
       "        clearInterval(timer);\n",
       "      }\n",
       "      attempts++;\n",
       "      if (attempts > 100) {\n",
       "        console.log(\"Bokeh: ERROR: Unable to run BokehJS code because BokehJS library is missing\")\n",
       "        clearInterval(timer);\n",
       "      }\n",
       "    }, 10, root)\n",
       "  }\n",
       "})(window);"
      ],
      "application/vnd.bokehjs_exec.v0+json": ""
     },
     "metadata": {
      "application/vnd.bokehjs_exec.v0+json": {
       "id": "80727799-bbc0-4c80-8859-867e4f63eb9e"
      }
     },
     "output_type": "display_data"
    },
    {
     "data": {
      "text/markdown": [
       "*FIGURE.* Cooling rates. g=1"
      ],
      "text/plain": [
       "<IPython.core.display.Markdown object>"
      ]
     },
     "metadata": {},
     "output_type": "display_data"
    },
    {
     "data": {
      "text/html": [
       "\n",
       "<div class=\"bk-root\">\n",
       "    <div class=\"bk-plotdiv\" id=\"e42ca568-e871-46a5-994e-556f1530a889\"></div>\n",
       "</div>"
      ]
     },
     "metadata": {},
     "output_type": "display_data"
    },
    {
     "data": {
      "application/javascript": [
       "(function(root) {\n",
       "  function embed_document(root) {\n",
       "    \n",
       "  var docs_json = {\"18cdcfd8-37b4-4abb-a2e3-b5b32724676e\":{\"roots\":{\"references\":[{\"attributes\":{\"overlay\":{\"id\":\"effe516d-60c8-4ace-89fa-5e09553ccec4\",\"type\":\"BoxAnnotation\"}},\"id\":\"d2bd7f72-4f73-4db0-bd6d-79a50dc24a53\",\"type\":\"BoxZoomTool\"},{\"attributes\":{},\"id\":\"f44a5db7-b5d6-4667-b05c-f0e27e689b52\",\"type\":\"WheelZoomTool\"},{\"attributes\":{},\"id\":\"4c72b5b7-3528-479a-8146-a321eb408d81\",\"type\":\"ResetTool\"},{\"attributes\":{},\"id\":\"add1f40e-2bc2-4ea6-bba9-0d791beb802c\",\"type\":\"SaveTool\"},{\"attributes\":{\"line_color\":\"#4daf4a\",\"line_width\":1.5,\"x\":{\"field\":\"x\"},\"y\":{\"field\":\"y\"}},\"id\":\"159dd841-c5b4-4f2e-8ed3-6512b139e273\",\"type\":\"Line\"},{\"attributes\":{},\"id\":\"fc2b28cb-b794-4ae0-9b3d-ba01f2213cf0\",\"type\":\"PanTool\"},{\"attributes\":{\"callback\":null,\"data\":{\"x\":{\"__ndarray__\":\"XbPn2b4lr74/KrlUA0KvvhsHT5Dseq++UXPvmuGzr76qRSBoieuvvobI4MgCEbC+H4i13Y4rsL5C6ilrZkWwvvg97eWSXrC+JwsaRPZ2sL7DnKLKho6wvmWpd5FOpbC+abu1DVq7sL6oZZYB2NWwvtz/oQ4/HbG+QM69qo00sb5w6zVE+QuwvgSS/yQv9ai+31+TsZ0Mk74o2B1OMbWjPg9l8QLNzcE+mKOKTX9x0j6k7Ut5bMDWPg7Amc4tt9I+qbzNGZ1LyT5G6qaAJd25PikRGlYDaZ8+jOWUBYwHkL6C6itHQW2nvqW+T5kPtbC+8nL6G4MCtL6HvXWIbFW2vryFW0JKKri+iQf+3mrNub5fzpyE/e26vrpirkQHILu+EUHliEUXvL5TvtNxpmLAvn8JBAmnpsS+oUpjGH1py75ymgflkTbXvoQOa/zHEO2+5LQVttte/r6c+F09RRYLv31MtP/ItBS/5EHJRSp5Gr/CT/NrKiwZv86Pksda1vy+qEaZN6ONIj+EY/37WPU8PwWC24xJEE8/SiWcXCMwXD/Ssuj4DEpnPw3TBdhq/3E/U++3ov6Gej9Zso5aTc2CP52UmFNBxok/QqEpMYstkT+jufKyVk+WP3yPI2tHUJw/AMRdvYqMoT/Mhe3OqjSlPxiyUvL+AKk/PKNrLlC1rj8Lw0p8I/exP9s6+3SDO7Q/CJG78bYetj+9r0ZNJrS2PygDP17T+bY/vNlttyc/tz91wmXE7oO3P2WsrQ1Sxrc/E29T8qAPuD8eiPff9HW4P/sroxJQQbk/\",\"dtype\":\"float64\",\"shape\":[75]},\"y\":{\"__ndarray__\":\"GhExyth1ND/Sv8nbtpRIP2vylNV0PVE/aTum7souWD/At0SJ8fVgPw3Iuahxymc/MSNhhJWvcD/bTfBN02d3P2zb5nxnaoA/CD5h5MAGhz8NmeH1TyaQP+zrCsc9p5Y/LbKd76fGnz/bLW5ISEmmPww9YvTcQq8/JV2OstnstT8Er5Y7M8G+P0c+r3jqkcU/5h99k6ZBzj88bCIzFzjVP4enV8oyxN0//yH99nXg5D8qOpLLf0jtP5kqGJXUifQ/c9cS8kHP/D+/DpwzojQEQIEmwoanVwxA4lgXt9HgE0BSSZ2AJuIbQAMJih9jjiNA5q4l5INuK0AwTKYKRj0zQNv5fmq8/DpAaCJseHrtQkB/+zpwzoxKQM3MzMzMeFJAZmZmZmZqWEAAAAAAAFxeQM3MzMzMJmJAmpmZmZkfZUBmZmZmZhhoQDMzMzMzEWtAAAAAAAAKbkBmZmZmZoFwQM3MzMzM/XFAMzMzMzN6c0CamZmZmfZ0QAAAAAAAc3ZAZmZmZmbvd0DNzMzMzGt5QDMzMzMz6HpAmpmZmZlkfEAAAAAAAOF9QGZmZmZmXX9AZmZmZuZsgECamZmZGSuBQM3MzMxM6YFAAAAAAICngkAzMzMzs2WDQGZmZmbmI4RAmpmZmRnihEDNzMzMTKCFQAAAAACAXoZAMzMzM7Mch0BmZmZm5tqHQJqZmZkZmYhAzczMzExXiUAAAAAAgBWKQDMzMzOz04pAZmZmZuaRi0CamZmZGVCMQM3MzMxMDo1AAAAAAIDMjUAzMzMzs4qOQGZmZmbmSI9A\",\"dtype\":\"float64\",\"shape\":[75]}},\"selected\":{\"id\":\"5c4fb753-7809-4357-9fab-6b3e8ea368f6\",\"type\":\"Selection\"},\"selection_policy\":{\"id\":\"611f0484-57cd-4252-b1d0-5b5efbfac7e0\",\"type\":\"UnionRenderers\"}},\"id\":\"45e02aa2-8ab8-4e27-92e6-cff63a57a7f0\",\"type\":\"ColumnDataSource\"},{\"attributes\":{},\"id\":\"295a9cea-08e5-4102-ae9f-e144dbb4c5c8\",\"type\":\"UnionRenderers\"},{\"attributes\":{\"source\":{\"id\":\"3687d29b-bd9e-4d27-81db-1566dcaf71a2\",\"type\":\"ColumnDataSource\"}},\"id\":\"813457af-70a0-4887-a87b-669dfc5690af\",\"type\":\"CDSView\"},{\"attributes\":{},\"id\":\"28e72a81-b01f-4675-a305-c8beced2b7f7\",\"type\":\"Selection\"},{\"attributes\":{\"callback\":null,\"data\":{\"x\":{\"__ndarray__\":\"XbPn2b4lr74/KrlUA0KvvhsHT5Dseq++UXPvmuGzr76qRSBoieuvvobI4MgCEbC+H4i13Y4rsL5C6ilrZkWwvvg97eWSXrC+JwsaRPZ2sL7DnKLKho6wvmWpd5FOpbC+abu1DVq7sL6oZZYB2NWwvtz/oQ4/HbG+QM69qo00sb5w6zVE+QuwvgSS/yQv9ai+31+TsZ0Mk74o2B1OMbWjPg9l8QLNzcE+mKOKTX9x0j6k7Ut5bMDWPg7Amc4tt9I+qbzNGZ1LyT5G6qaAJd25PikRGlYDaZ8+jOWUBYwHkL6C6itHQW2nvqW+T5kPtbC+8nL6G4MCtL6HvXWIbFW2vryFW0JKKri+iQf+3mrNub5fzpyE/e26vrpirkQHILu+EUHliEUXvL5TvtNxpmLAvn8JBAmnpsS+oUpjGH1py75ymgflkTbXvoQOa/zHEO2+5LQVttte/r6c+F09RRYLv31MtP/ItBS/5EHJRSp5Gr/CT/NrKiwZv86Pksda1vy+qEaZN6ONIj+EY/37WPU8PwWC24xJEE8/SiWcXCMwXD/Ssuj4DEpnPw3TBdhq/3E/U++3ov6Gej9Zso5aTc2CP52UmFNBxok/QqEpMYstkT+jufKyVk+WP3yPI2tHUJw/AMRdvYqMoT/Mhe3OqjSlPxiyUvL+AKk/PKNrLlC1rj8Lw0p8I/exP9s6+3SDO7Q/CJG78bYetj+9r0ZNJrS2PygDP17T+bY/vNlttyc/tz91wmXE7oO3P2WsrQ1Sxrc/E29T8qAPuD8eiPff9HW4P/sroxJQQbk/\",\"dtype\":\"float64\",\"shape\":[75]},\"y\":{\"__ndarray__\":\"GhExyth1ND/Sv8nbtpRIP2vylNV0PVE/aTum7souWD/At0SJ8fVgPw3Iuahxymc/MSNhhJWvcD/bTfBN02d3P2zb5nxnaoA/CD5h5MAGhz8NmeH1TyaQP+zrCsc9p5Y/LbKd76fGnz/bLW5ISEmmPww9YvTcQq8/JV2OstnstT8Er5Y7M8G+P0c+r3jqkcU/5h99k6ZBzj88bCIzFzjVP4enV8oyxN0//yH99nXg5D8qOpLLf0jtP5kqGJXUifQ/c9cS8kHP/D+/DpwzojQEQIEmwoanVwxA4lgXt9HgE0BSSZ2AJuIbQAMJih9jjiNA5q4l5INuK0AwTKYKRj0zQNv5fmq8/DpAaCJseHrtQkB/+zpwzoxKQM3MzMzMeFJAZmZmZmZqWEAAAAAAAFxeQM3MzMzMJmJAmpmZmZkfZUBmZmZmZhhoQDMzMzMzEWtAAAAAAAAKbkBmZmZmZoFwQM3MzMzM/XFAMzMzMzN6c0CamZmZmfZ0QAAAAAAAc3ZAZmZmZmbvd0DNzMzMzGt5QDMzMzMz6HpAmpmZmZlkfEAAAAAAAOF9QGZmZmZmXX9AZmZmZuZsgECamZmZGSuBQM3MzMxM6YFAAAAAAICngkAzMzMzs2WDQGZmZmbmI4RAmpmZmRnihEDNzMzMTKCFQAAAAACAXoZAMzMzM7Mch0BmZmZm5tqHQJqZmZkZmYhAzczMzExXiUAAAAAAgBWKQDMzMzOz04pAZmZmZuaRi0CamZmZGVCMQM3MzMxMDo1AAAAAAIDMjUAzMzMzs4qOQGZmZmbmSI9A\",\"dtype\":\"float64\",\"shape\":[75]}},\"selected\":{\"id\":\"161b3d30-5b1c-4e9a-a0f1-7c6889188d2a\",\"type\":\"Selection\"},\"selection_policy\":{\"id\":\"267fa4ba-e026-4b47-be88-c9086d16ca3e\",\"type\":\"UnionRenderers\"}},\"id\":\"68212799-c928-4732-991e-64d613cbd957\",\"type\":\"ColumnDataSource\"},{\"attributes\":{\"fill_alpha\":{\"value\":0.1},\"fill_color\":{\"value\":\"#1f77b4\"},\"line_alpha\":{\"value\":0.1},\"line_color\":{\"value\":\"#1f77b4\"},\"x\":{\"field\":\"x\"},\"y\":{\"field\":\"y\"}},\"id\":\"6bfcafb3-7826-47cd-984e-0cf648c70e93\",\"type\":\"Square\"},{\"attributes\":{\"data_source\":{\"id\":\"68212799-c928-4732-991e-64d613cbd957\",\"type\":\"ColumnDataSource\"},\"glyph\":{\"id\":\"6555b3ff-d99e-4d64-b384-9a749b486bf7\",\"type\":\"Square\"},\"hover_glyph\":null,\"muted_glyph\":null,\"nonselection_glyph\":{\"id\":\"6bfcafb3-7826-47cd-984e-0cf648c70e93\",\"type\":\"Square\"},\"selection_glyph\":null,\"view\":{\"id\":\"adc36a4e-f80b-4f5b-b64b-38cef2ea4633\",\"type\":\"CDSView\"}},\"id\":\"9a672eae-ea17-46e5-a5d0-ef9a59d03a50\",\"type\":\"GlyphRenderer\"},{\"attributes\":{\"source\":{\"id\":\"bf9f9fe5-66df-46e6-8996-883d83acba15\",\"type\":\"ColumnDataSource\"}},\"id\":\"055e1a11-cddf-4dee-9170-0a81aef7e819\",\"type\":\"CDSView\"},{\"attributes\":{\"line_alpha\":0.6,\"line_color\":\"#984ea3\",\"line_width\":3,\"x\":{\"field\":\"x\"},\"y\":{\"field\":\"y\"}},\"id\":\"282c9b53-b729-4101-b26a-7a8f3f04b740\",\"type\":\"Line\"},{\"attributes\":{\"line_alpha\":0.1,\"line_color\":\"#1f77b4\",\"line_width\":3,\"x\":{\"field\":\"x\"},\"y\":{\"field\":\"y\"}},\"id\":\"0d53280d-9bc7-41db-8668-e5ba68a5f4c2\",\"type\":\"Line\"},{\"attributes\":{\"line_alpha\":0.1,\"line_color\":\"#1f77b4\",\"line_width\":2,\"x\":{\"field\":\"x\"},\"y\":{\"field\":\"y\"}},\"id\":\"e89cf377-c613-40fe-8c6a-fbadbee1b11a\",\"type\":\"Line\"},{\"attributes\":{\"source\":{\"id\":\"68212799-c928-4732-991e-64d613cbd957\",\"type\":\"ColumnDataSource\"}},\"id\":\"adc36a4e-f80b-4f5b-b64b-38cef2ea4633\",\"type\":\"CDSView\"},{\"attributes\":{\"source\":{\"id\":\"45e02aa2-8ab8-4e27-92e6-cff63a57a7f0\",\"type\":\"ColumnDataSource\"}},\"id\":\"9893b1eb-1802-446a-b48f-827a3ef5cc1d\",\"type\":\"CDSView\"},{\"attributes\":{\"callback\":null,\"data\":{\"x\":{\"__ndarray__\":\"2bkxeKjmt749cgED//a3vuaV2hpKG7i++nROOoo7uL6UgDAAQ1u4vhS9158Ceri+9jug5gGWuL4BiGC0iLC4vitwD7hLybi+el1BvmvfuL7Tzezow/O4vpNWSfd5Bbm+f8h51NQUub5qu6WpMiS5vgCzLvNVLrm+PfWkn+07uL7X8+y0v2q0vixTVJl2Rqe+5ogbX1SilT6c/REkfe/BPrXLQjjw49U+wD9nGNNF5D6lWFTZK2XoPgLW8M//cOQ+8oAjIeYA3T6dRh9TBdPQPqA4gxgNb78+7kUaRcdgnj5GVk1zSrqfvoxrfg7I17G+wd/VHe4PuL67AD/n0fG7vujpyC7+a76+tJEOgAIPwL4Zr4W2YnTAvuy6r8NINsC+C1qB2edpwL78cakQN6/CvsWBLaVt7sa+DaczDcKvzb46E/x3kYDYvpbx2Je4yu2+n1TgVB34/b5jJ7UBo0UJv4ahAGpMhhG/GAduuqQLEr+b/B1hWgL6vmTe0OWF0Rw/YJSQhQt/OD+PkC9x6gBLPyvXzoVHGlk/uLrieVcjZT+UF+rHXqNwPzrOgaak1Xg/byRHuBTJgT+UMhGFgpGIPyqQ+mfdcZA/hjrNfrRqlT9hEzlHlCubP61dsqiK1KA/I0m6rcdZpD9eNaaSx/SnP9i8mNCed6s/a4yCUkdWsD9ebtcbGm6yP54EIgP69rM/ClSAoaf+tD9J2Szbqsu0PyjmKFmxbLQ/QVUk3dEqtD/h4PE+pQK0P8mPwyOb8rM/IanC9eEGtD/M2hBd/F+0Py7l87+ZbrU/\",\"dtype\":\"float64\",\"shape\":[75]},\"y\":{\"__ndarray__\":\"GhExyth1ND/Sv8nbtpRIP2vylNV0PVE/aTum7souWD/At0SJ8fVgPw3Iuahxymc/MSNhhJWvcD/bTfBN02d3P2zb5nxnaoA/CD5h5MAGhz8NmeH1TyaQP+zrCsc9p5Y/LbKd76fGnz/bLW5ISEmmPww9YvTcQq8/JV2OstnstT8Er5Y7M8G+P0c+r3jqkcU/5h99k6ZBzj88bCIzFzjVP4enV8oyxN0//yH99nXg5D8qOpLLf0jtP5kqGJXUifQ/c9cS8kHP/D+/DpwzojQEQIEmwoanVwxA4lgXt9HgE0BSSZ2AJuIbQAMJih9jjiNA5q4l5INuK0AwTKYKRj0zQNv5fmq8/DpAaCJseHrtQkB/+zpwzoxKQM3MzMzMeFJAZmZmZmZqWEAAAAAAAFxeQM3MzMzMJmJAmpmZmZkfZUBmZmZmZhhoQDMzMzMzEWtAAAAAAAAKbkBmZmZmZoFwQM3MzMzM/XFAMzMzMzN6c0CamZmZmfZ0QAAAAAAAc3ZAZmZmZmbvd0DNzMzMzGt5QDMzMzMz6HpAmpmZmZlkfEAAAAAAAOF9QGZmZmZmXX9AZmZmZuZsgECamZmZGSuBQM3MzMxM6YFAAAAAAICngkAzMzMzs2WDQGZmZmbmI4RAmpmZmRnihEDNzMzMTKCFQAAAAACAXoZAMzMzM7Mch0BmZmZm5tqHQJqZmZkZmYhAzczMzExXiUAAAAAAgBWKQDMzMzOz04pAZmZmZuaRi0CamZmZGVCMQM3MzMxMDo1AAAAAAIDMjUAzMzMzs4qOQGZmZmbmSI9A\",\"dtype\":\"float64\",\"shape\":[75]}},\"selected\":{\"id\":\"22c2dfaa-39f2-4171-ad99-9a93b12b0ca2\",\"type\":\"Selection\"},\"selection_policy\":{\"id\":\"4a211b1a-2cf9-4e84-9232-a082c5af93b3\",\"type\":\"UnionRenderers\"}},\"id\":\"bf9f9fe5-66df-46e6-8996-883d83acba15\",\"type\":\"ColumnDataSource\"},{\"attributes\":{\"line_alpha\":0.1,\"line_color\":\"#1f77b4\",\"line_width\":1.5,\"x\":{\"field\":\"x\"},\"y\":{\"field\":\"y\"}},\"id\":\"9cabc75c-793b-41e8-8e41-e628ce27568c\",\"type\":\"Line\"},{\"attributes\":{\"data_source\":{\"id\":\"45e02aa2-8ab8-4e27-92e6-cff63a57a7f0\",\"type\":\"ColumnDataSource\"},\"glyph\":{\"id\":\"282c9b53-b729-4101-b26a-7a8f3f04b740\",\"type\":\"Line\"},\"hover_glyph\":null,\"muted_glyph\":null,\"nonselection_glyph\":{\"id\":\"0d53280d-9bc7-41db-8668-e5ba68a5f4c2\",\"type\":\"Line\"},\"selection_glyph\":null,\"view\":{\"id\":\"9893b1eb-1802-446a-b48f-827a3ef5cc1d\",\"type\":\"CDSView\"}},\"id\":\"4e13af4a-58ac-4a79-8a0f-222dc2751e58\",\"type\":\"GlyphRenderer\"},{\"attributes\":{\"data_source\":{\"id\":\"bf9f9fe5-66df-46e6-8996-883d83acba15\",\"type\":\"ColumnDataSource\"},\"glyph\":{\"id\":\"159dd841-c5b4-4f2e-8ed3-6512b139e273\",\"type\":\"Line\"},\"hover_glyph\":null,\"muted_glyph\":null,\"nonselection_glyph\":{\"id\":\"9cabc75c-793b-41e8-8e41-e628ce27568c\",\"type\":\"Line\"},\"selection_glyph\":null,\"view\":{\"id\":\"055e1a11-cddf-4dee-9170-0a81aef7e819\",\"type\":\"CDSView\"}},\"id\":\"863d76e8-40b4-458d-9f42-03a2f1da6280\",\"type\":\"GlyphRenderer\"},{\"attributes\":{\"callback\":null,\"data\":{\"x\":{\"__ndarray__\":\"fNuQnS8vrL74c43Iu0usvvv3I3PphKy+8QomgVq/rL5wZHKJevisvkzS8VTcMK2+A6F5hXZorb6HMKs9T5+tvqzjasYB1a2+GaKyiOMJrr7yvQm7wD2uvjWsobV4cK6+PvSEd3uirr6Mzbkc/9+uvjS9kY+Vl6++IauafzUqsL62UHPOMkSvvrp3Co10cqq+T6xmT9oXnr4LVJ+vXbKNPl0SCy2s9Lc+h457s4Muyz61PD9CuArRPkn8Kbo5mcs+otqCQs3jwT5+n4px3SKwPl8qsvUwkX8+lsn+aWbrnL6Uz3djzTiqviweeZRq2bC+KywZVt1Gs77KOudFufi0vty0qIZJU7a+0AvtOwyRt76RvfoGMVa4vhtvKgAxTbi+jitW5UgTub4tc+JUuVO9vgnugbDOncK+bud6AkvwyL7VWDS/sV3VvqEWqYoRKuu+qcR3ioX7/L7n7sAMeKMKv4+/x//xUhW/ujBU722KHb+/dVjEpwEhv6Dg6hFGUhu/WUpl44K4uT740QSGZYMsP4YQ9XAUg0M/ImKEYZmmUz9vPS6dG0JhP3meB1U032s/spgzf+5CdT+91QAPzwV/PxLaIefF1YU/tIYTF87VjT8fOUZwK9aTPzXBw/aLwJk//f8w8HlRoD+b8mp+0SWkP9rKPNP6RKg/xLSfJ8Z7rj8aumqCzkKyPwXKMU9qDLU/P775F4WAtz9n43xCWom4P3W/hLYOIbk/XqqIibybuT93SubcFvq5P9esTFvQObo/rHOIj7pjuj88Ei9P54q6P96btrGf5ro/\",\"dtype\":\"float64\",\"shape\":[75]},\"y\":{\"__ndarray__\":\"GhExyth1ND/Sv8nbtpRIP2vylNV0PVE/aTum7souWD/At0SJ8fVgPw3Iuahxymc/MSNhhJWvcD/bTfBN02d3P2zb5nxnaoA/CD5h5MAGhz8NmeH1TyaQP+zrCsc9p5Y/LbKd76fGnz/bLW5ISEmmPww9YvTcQq8/JV2OstnstT8Er5Y7M8G+P0c+r3jqkcU/5h99k6ZBzj88bCIzFzjVP4enV8oyxN0//yH99nXg5D8qOpLLf0jtP5kqGJXUifQ/c9cS8kHP/D+/DpwzojQEQIEmwoanVwxA4lgXt9HgE0BSSZ2AJuIbQAMJih9jjiNA5q4l5INuK0AwTKYKRj0zQNv5fmq8/DpAaCJseHrtQkB/+zpwzoxKQM3MzMzMeFJAZmZmZmZqWEAAAAAAAFxeQM3MzMzMJmJAmpmZmZkfZUBmZmZmZhhoQDMzMzMzEWtAAAAAAAAKbkBmZmZmZoFwQM3MzMzM/XFAMzMzMzN6c0CamZmZmfZ0QAAAAAAAc3ZAZmZmZmbvd0DNzMzMzGt5QDMzMzMz6HpAmpmZmZlkfEAAAAAAAOF9QGZmZmZmXX9AZmZmZuZsgECamZmZGSuBQM3MzMxM6YFAAAAAAICngkAzMzMzs2WDQGZmZmbmI4RAmpmZmRnihEDNzMzMTKCFQAAAAACAXoZAMzMzM7Mch0BmZmZm5tqHQJqZmZkZmYhAzczMzExXiUAAAAAAgBWKQDMzMzOz04pAZmZmZuaRi0CamZmZGVCMQM3MzMxMDo1AAAAAAIDMjUAzMzMzs4qOQGZmZmbmSI9A\",\"dtype\":\"float64\",\"shape\":[75]}},\"selected\":{\"id\":\"3e2612e6-105e-4278-84ae-0a468c8c2712\",\"type\":\"Selection\"},\"selection_policy\":{\"id\":\"b10f008a-aaf2-41a4-8075-39c2ea0109c8\",\"type\":\"UnionRenderers\"}},\"id\":\"30679977-d62c-488b-a2df-c7e0fbaa7e17\",\"type\":\"ColumnDataSource\"},{\"attributes\":{\"fill_alpha\":{\"value\":0.7},\"fill_color\":{\"value\":\"#377eb8\"},\"line_alpha\":{\"value\":0.7},\"line_color\":{\"value\":\"#377eb8\"},\"x\":{\"field\":\"x\"},\"y\":{\"field\":\"y\"}},\"id\":\"8ab31e0d-176a-4203-99e3-73eeff92c28f\",\"type\":\"Triangle\"},{\"attributes\":{\"callback\":null,\"data\":{\"x\":{\"__ndarray__\":\"fNuQnS8vrL74c43Iu0usvvv3I3PphKy+8QomgVq/rL5wZHKJevisvkzS8VTcMK2+A6F5hXZorb6HMKs9T5+tvqzjasYB1a2+GaKyiOMJrr7yvQm7wD2uvjWsobV4cK6+PvSEd3uirr6Mzbkc/9+uvjS9kY+Vl6++IauafzUqsL62UHPOMkSvvrp3Co10cqq+T6xmT9oXnr4LVJ+vXbKNPl0SCy2s9Lc+h457s4Muyz61PD9CuArRPkn8Kbo5mcs+otqCQs3jwT5+n4px3SKwPl8qsvUwkX8+lsn+aWbrnL6Uz3djzTiqviweeZRq2bC+KywZVt1Gs77KOudFufi0vty0qIZJU7a+0AvtOwyRt76RvfoGMVa4vhtvKgAxTbi+jitW5UgTub4tc+JUuVO9vgnugbDOncK+bud6AkvwyL7VWDS/sV3VvqEWqYoRKuu+qcR3ioX7/L7n7sAMeKMKv4+/x//xUhW/ujBU722KHb+/dVjEpwEhv6Dg6hFGUhu/WUpl44K4uT740QSGZYMsP4YQ9XAUg0M/ImKEYZmmUz9vPS6dG0JhP3meB1U032s/spgzf+5CdT+91QAPzwV/PxLaIefF1YU/tIYTF87VjT8fOUZwK9aTPzXBw/aLwJk//f8w8HlRoD+b8mp+0SWkP9rKPNP6RKg/xLSfJ8Z7rj8aumqCzkKyPwXKMU9qDLU/P775F4WAtz9n43xCWom4P3W/hLYOIbk/XqqIibybuT93SubcFvq5P9esTFvQObo/rHOIj7pjuj88Ei9P54q6P96btrGf5ro/\",\"dtype\":\"float64\",\"shape\":[75]},\"y\":{\"__ndarray__\":\"GhExyth1ND/Sv8nbtpRIP2vylNV0PVE/aTum7souWD/At0SJ8fVgPw3Iuahxymc/MSNhhJWvcD/bTfBN02d3P2zb5nxnaoA/CD5h5MAGhz8NmeH1TyaQP+zrCsc9p5Y/LbKd76fGnz/bLW5ISEmmPww9YvTcQq8/JV2OstnstT8Er5Y7M8G+P0c+r3jqkcU/5h99k6ZBzj88bCIzFzjVP4enV8oyxN0//yH99nXg5D8qOpLLf0jtP5kqGJXUifQ/c9cS8kHP/D+/DpwzojQEQIEmwoanVwxA4lgXt9HgE0BSSZ2AJuIbQAMJih9jjiNA5q4l5INuK0AwTKYKRj0zQNv5fmq8/DpAaCJseHrtQkB/+zpwzoxKQM3MzMzMeFJAZmZmZmZqWEAAAAAAAFxeQM3MzMzMJmJAmpmZmZkfZUBmZmZmZhhoQDMzMzMzEWtAAAAAAAAKbkBmZmZmZoFwQM3MzMzM/XFAMzMzMzN6c0CamZmZmfZ0QAAAAAAAc3ZAZmZmZmbvd0DNzMzMzGt5QDMzMzMz6HpAmpmZmZlkfEAAAAAAAOF9QGZmZmZmXX9AZmZmZuZsgECamZmZGSuBQM3MzMxM6YFAAAAAAICngkAzMzMzs2WDQGZmZmbmI4RAmpmZmRnihEDNzMzMTKCFQAAAAACAXoZAMzMzM7Mch0BmZmZm5tqHQJqZmZkZmYhAzczMzExXiUAAAAAAgBWKQDMzMzOz04pAZmZmZuaRi0CamZmZGVCMQM3MzMxMDo1AAAAAAIDMjUAzMzMzs4qOQGZmZmbmSI9A\",\"dtype\":\"float64\",\"shape\":[75]}},\"selected\":{\"id\":\"e0b87672-461a-4dd3-b329-1faf458e433d\",\"type\":\"Selection\"},\"selection_policy\":{\"id\":\"e6d2800e-daf0-4872-bbc2-0341ea47bec0\",\"type\":\"UnionRenderers\"}},\"id\":\"fc44f370-e29d-41a5-97e7-2ae84eb0cc62\",\"type\":\"ColumnDataSource\"},{\"attributes\":{\"source\":{\"id\":\"30679977-d62c-488b-a2df-c7e0fbaa7e17\",\"type\":\"ColumnDataSource\"}},\"id\":\"7f7cdf38-6270-4a23-9add-f871052e21d5\",\"type\":\"CDSView\"},{\"attributes\":{\"fill_alpha\":{\"value\":0.7},\"fill_color\":{\"value\":\"#984ea3\"},\"line_alpha\":{\"value\":0.7},\"line_color\":{\"value\":\"#984ea3\"},\"x\":{\"field\":\"x\"},\"y\":{\"field\":\"y\"}},\"id\":\"6555b3ff-d99e-4d64-b384-9a749b486bf7\",\"type\":\"Square\"},{\"attributes\":{\"fill_alpha\":{\"value\":0.1},\"fill_color\":{\"value\":\"#1f77b4\"},\"line_alpha\":{\"value\":0.1},\"line_color\":{\"value\":\"#1f77b4\"},\"x\":{\"field\":\"x\"},\"y\":{\"field\":\"y\"}},\"id\":\"4e8554db-b270-4266-894d-996505aef9d1\",\"type\":\"Triangle\"},{\"attributes\":{\"line_alpha\":0.3,\"line_color\":\"#377eb8\",\"line_width\":2,\"x\":{\"field\":\"x\"},\"y\":{\"field\":\"y\"}},\"id\":\"81478d25-8892-4a3a-ba07-1e871d621631\",\"type\":\"Line\"},{\"attributes\":{\"children\":[{\"id\":\"ac6a553b-bbfa-49cb-b75b-e1cfabe328fe\",\"type\":\"Row\"}]},\"id\":\"e6b96a3a-b2d0-4d76-bad6-813c97ff4a29\",\"type\":\"Column\"},{\"attributes\":{\"data_source\":{\"id\":\"30679977-d62c-488b-a2df-c7e0fbaa7e17\",\"type\":\"ColumnDataSource\"},\"glyph\":{\"id\":\"8ab31e0d-176a-4203-99e3-73eeff92c28f\",\"type\":\"Triangle\"},\"hover_glyph\":null,\"muted_glyph\":null,\"nonselection_glyph\":{\"id\":\"4e8554db-b270-4266-894d-996505aef9d1\",\"type\":\"Triangle\"},\"selection_glyph\":null,\"view\":{\"id\":\"7f7cdf38-6270-4a23-9add-f871052e21d5\",\"type\":\"CDSView\"}},\"id\":\"410eaf78-a702-414c-af07-e693ca8c2935\",\"type\":\"GlyphRenderer\"},{\"attributes\":{\"data_source\":{\"id\":\"fc44f370-e29d-41a5-97e7-2ae84eb0cc62\",\"type\":\"ColumnDataSource\"},\"glyph\":{\"id\":\"81478d25-8892-4a3a-ba07-1e871d621631\",\"type\":\"Line\"},\"hover_glyph\":null,\"muted_glyph\":null,\"nonselection_glyph\":{\"id\":\"e89cf377-c613-40fe-8c6a-fbadbee1b11a\",\"type\":\"Line\"},\"selection_glyph\":null,\"view\":{\"id\":\"86314acf-9d9f-4d6b-afa1-925d1c0c27a5\",\"type\":\"CDSView\"}},\"id\":\"faf32ae0-f708-46af-bcab-63e13b6ce4a0\",\"type\":\"GlyphRenderer\"},{\"attributes\":{\"source\":{\"id\":\"fc44f370-e29d-41a5-97e7-2ae84eb0cc62\",\"type\":\"ColumnDataSource\"}},\"id\":\"86314acf-9d9f-4d6b-afa1-925d1c0c27a5\",\"type\":\"CDSView\"},{\"attributes\":{\"plot\":null,\"text\":\"\"},\"id\":\"a80ddf42-2be9-463d-be18-b59f72248d54\",\"type\":\"Title\"},{\"attributes\":{\"children\":[{\"id\":\"a11e4aa8-58b7-4ecc-a522-cca50c6a2cfa\",\"subtype\":\"Figure\",\"type\":\"Plot\"},{\"id\":\"98dbec01-0f3a-445d-a5df-6324f6d536d9\",\"subtype\":\"Figure\",\"type\":\"Plot\"}]},\"id\":\"ac6a553b-bbfa-49cb-b75b-e1cfabe328fe\",\"type\":\"Row\"},{\"attributes\":{\"label\":{\"value\":\"CRD\"},\"renderers\":[{\"id\":\"17d4c8e9-460c-42cb-bedf-64bac9d65ba6\",\"type\":\"GlyphRenderer\"},{\"id\":\"863d76e8-40b4-458d-9f42-03a2f1da6280\",\"type\":\"GlyphRenderer\"}]},\"id\":\"89e690b9-118d-4199-9904-b77a3e762980\",\"type\":\"LegendItem\"},{\"attributes\":{},\"id\":\"b8b88518-8c8c-455c-9b6f-618c95eab8f9\",\"type\":\"BasicTickFormatter\"},{\"attributes\":{\"label\":{\"value\":\"WGT igg=1\"},\"renderers\":[{\"id\":\"9a672eae-ea17-46e5-a5d0-ef9a59d03a50\",\"type\":\"GlyphRenderer\"},{\"id\":\"4e13af4a-58ac-4a79-8a0f-222dc2751e58\",\"type\":\"GlyphRenderer\"}]},\"id\":\"31364a0f-b731-4348-94c2-e2c955d28dca\",\"type\":\"LegendItem\"},{\"attributes\":{},\"id\":\"c43bad28-8ad2-4d71-ba8b-23369377f921\",\"type\":\"BasicTickFormatter\"},{\"attributes\":{\"label\":{\"value\":\"WGT igg=10\"},\"renderers\":[{\"id\":\"410eaf78-a702-414c-af07-e693ca8c2935\",\"type\":\"GlyphRenderer\"},{\"id\":\"faf32ae0-f708-46af-bcab-63e13b6ce4a0\",\"type\":\"GlyphRenderer\"}]},\"id\":\"7c4f47f1-1df1-479c-acda-dab1d54b8b9b\",\"type\":\"LegendItem\"},{\"attributes\":{\"line_alpha\":0.1,\"line_color\":\"#1f77b4\",\"line_width\":3,\"x\":{\"field\":\"x\"},\"y\":{\"field\":\"y\"}},\"id\":\"1706f536-b1d0-4b5d-8797-aa42e6c6b691\",\"type\":\"Line\"},{\"attributes\":{},\"id\":\"9c37c834-01a6-40b7-8682-121a857cf584\",\"type\":\"Selection\"},{\"attributes\":{},\"id\":\"eed0a6ed-e35d-4130-aece-7ea66098fa53\",\"type\":\"BasicTickFormatter\"},{\"attributes\":{\"num_minor_ticks\":10},\"id\":\"e3715022-124e-461d-abc4-afa2d5edb5de\",\"type\":\"LogTicker\"},{\"attributes\":{},\"id\":\"74053007-faa4-4296-8bee-0f1380c44517\",\"type\":\"UnionRenderers\"},{\"attributes\":{},\"id\":\"19d98d6d-4ecd-42df-9e9a-6017a0b9f679\",\"type\":\"Selection\"},{\"attributes\":{},\"id\":\"89eac89e-ae3d-4783-8703-4a6704797ee9\",\"type\":\"UnionRenderers\"},{\"attributes\":{},\"id\":\"22c2dfaa-39f2-4171-ad99-9a93b12b0ca2\",\"type\":\"Selection\"},{\"attributes\":{\"ticker\":null},\"id\":\"e8551f52-bfc2-4a92-a965-341570b60d9d\",\"type\":\"LogTickFormatter\"},{\"attributes\":{\"data_source\":{\"id\":\"03075958-3a8c-4381-bb02-299b1fd9fc3e\",\"type\":\"ColumnDataSource\"},\"glyph\":{\"id\":\"b491f6ab-d853-4f9f-82b6-0af896a9a286\",\"type\":\"Line\"},\"hover_glyph\":null,\"muted_glyph\":null,\"nonselection_glyph\":{\"id\":\"1706f536-b1d0-4b5d-8797-aa42e6c6b691\",\"type\":\"Line\"},\"selection_glyph\":null,\"view\":{\"id\":\"8599e78c-3f26-47e6-ba6b-8a05dc199509\",\"type\":\"CDSView\"}},\"id\":\"540e70dc-c55b-4206-b484-c3828bdd0029\",\"type\":\"GlyphRenderer\"},{\"attributes\":{},\"id\":\"7831dfc5-2b17-40d4-aa9b-8a2d3fd26256\",\"type\":\"UnionRenderers\"},{\"attributes\":{},\"id\":\"ab2dd82d-7265-45b1-9159-bef73315f43e\",\"type\":\"Selection\"},{\"attributes\":{\"plot\":null,\"text\":\"\"},\"id\":\"216abed7-d0ee-4e03-a811-ae972de0918c\",\"type\":\"Title\"},{\"attributes\":{\"source\":{\"id\":\"af191d22-0fd7-4dd6-b612-e13a93bf2244\",\"type\":\"ColumnDataSource\"}},\"id\":\"74779817-ff29-448b-b2ce-e61576f2b77d\",\"type\":\"CDSView\"},{\"attributes\":{\"data_source\":{\"id\":\"2871de17-a139-4fed-bf57-79be90095237\",\"type\":\"ColumnDataSource\"},\"glyph\":{\"id\":\"5929149c-7111-4d52-908f-6a7afe81f7de\",\"type\":\"Triangle\"},\"hover_glyph\":null,\"muted_glyph\":null,\"nonselection_glyph\":{\"id\":\"0fb217d4-374d-4d6f-b118-e145f622ed09\",\"type\":\"Triangle\"},\"selection_glyph\":null,\"view\":{\"id\":\"8ccb77b1-865d-4fc7-bb41-2c538c0b37cd\",\"type\":\"CDSView\"}},\"id\":\"26845ead-9472-4f56-b514-44ba962cf026\",\"type\":\"GlyphRenderer\"},{\"attributes\":{},\"id\":\"252efdd2-196b-4ee9-9f1e-dd1747881ae1\",\"type\":\"Selection\"},{\"attributes\":{\"fill_alpha\":{\"value\":0.1},\"fill_color\":{\"value\":\"#1f77b4\"},\"line_alpha\":{\"value\":0.1},\"line_color\":{\"value\":\"#1f77b4\"},\"x\":{\"field\":\"x\"},\"y\":{\"field\":\"y\"}},\"id\":\"0fb217d4-374d-4d6f-b118-e145f622ed09\",\"type\":\"Triangle\"},{\"attributes\":{\"line_alpha\":0.1,\"line_color\":\"#1f77b4\",\"line_width\":2,\"x\":{\"field\":\"x\"},\"y\":{\"field\":\"y\"}},\"id\":\"0f4d832b-184a-421f-b8fe-3dc58308b42f\",\"type\":\"Line\"},{\"attributes\":{},\"id\":\"267fa4ba-e026-4b47-be88-c9086d16ca3e\",\"type\":\"UnionRenderers\"},{\"attributes\":{\"fill_alpha\":{\"value\":0.1},\"fill_color\":{\"value\":\"#1f77b4\"},\"line_alpha\":{\"value\":0.1},\"line_color\":{\"value\":\"#1f77b4\"},\"x\":{\"field\":\"x\"},\"y\":{\"field\":\"y\"}},\"id\":\"7c51d717-b121-42c2-844e-4d52b76a9af3\",\"type\":\"Square\"},{\"attributes\":{},\"id\":\"b6b82764-1a54-4fbe-ba59-5f7fc939b0f7\",\"type\":\"UnionRenderers\"},{\"attributes\":{\"callback\":null,\"data\":{\"x\":{\"__ndarray__\":\"XbPn2b4lr74/KrlUA0KvvhsHT5Dseq++UXPvmuGzr76qRSBoieuvvobI4MgCEbC+H4i13Y4rsL5C6ilrZkWwvvg97eWSXrC+JwsaRPZ2sL7DnKLKho6wvmWpd5FOpbC+abu1DVq7sL6oZZYB2NWwvtz/oQ4/HbG+QM69qo00sb5w6zVE+QuwvgSS/yQv9ai+31+TsZ0Mk74o2B1OMbWjPg9l8QLNzcE+mKOKTX9x0j6k7Ut5bMDWPg7Amc4tt9I+qbzNGZ1LyT5G6qaAJd25PikRGlYDaZ8+jOWUBYwHkL6C6itHQW2nvqW+T5kPtbC+8nL6G4MCtL6HvXWIbFW2vryFW0JKKri+iQf+3mrNub5fzpyE/e26vrpirkQHILu+EUHliEUXvL5TvtNxpmLAvn8JBAmnpsS+oUpjGH1py75ymgflkTbXvoQOa/zHEO2+5LQVttte/r6c+F09RRYLv31MtP/ItBS/5EHJRSp5Gr/CT/NrKiwZv86Pksda1vy+qEaZN6ONIj+EY/37WPU8PwWC24xJEE8/SiWcXCMwXD/Ssuj4DEpnPw3TBdhq/3E/U++3ov6Gej9Zso5aTc2CP52UmFNBxok/QqEpMYstkT+jufKyVk+WP3yPI2tHUJw/AMRdvYqMoT/Mhe3OqjSlPxiyUvL+AKk/PKNrLlC1rj8Lw0p8I/exP9s6+3SDO7Q/CJG78bYetj+9r0ZNJrS2PygDP17T+bY/vNlttyc/tz91wmXE7oO3P2WsrQ1Sxrc/E29T8qAPuD8eiPff9HW4P/sroxJQQbk/\",\"dtype\":\"float64\",\"shape\":[75]},\"y\":{\"__ndarray__\":\"GhExyth1ND/Sv8nbtpRIP2vylNV0PVE/aTum7souWD/At0SJ8fVgPw3Iuahxymc/MSNhhJWvcD/bTfBN02d3P2zb5nxnaoA/CD5h5MAGhz8NmeH1TyaQP+zrCsc9p5Y/LbKd76fGnz/bLW5ISEmmPww9YvTcQq8/JV2OstnstT8Er5Y7M8G+P0c+r3jqkcU/5h99k6ZBzj88bCIzFzjVP4enV8oyxN0//yH99nXg5D8qOpLLf0jtP5kqGJXUifQ/c9cS8kHP/D+/DpwzojQEQIEmwoanVwxA4lgXt9HgE0BSSZ2AJuIbQAMJih9jjiNA5q4l5INuK0AwTKYKRj0zQNv5fmq8/DpAaCJseHrtQkB/+zpwzoxKQM3MzMzMeFJAZmZmZmZqWEAAAAAAAFxeQM3MzMzMJmJAmpmZmZkfZUBmZmZmZhhoQDMzMzMzEWtAAAAAAAAKbkBmZmZmZoFwQM3MzMzM/XFAMzMzMzN6c0CamZmZmfZ0QAAAAAAAc3ZAZmZmZmbvd0DNzMzMzGt5QDMzMzMz6HpAmpmZmZlkfEAAAAAAAOF9QGZmZmZmXX9AZmZmZuZsgECamZmZGSuBQM3MzMxM6YFAAAAAAICngkAzMzMzs2WDQGZmZmbmI4RAmpmZmRnihEDNzMzMTKCFQAAAAACAXoZAMzMzM7Mch0BmZmZm5tqHQJqZmZkZmYhAzczMzExXiUAAAAAAgBWKQDMzMzOz04pAZmZmZuaRi0CamZmZGVCMQM3MzMxMDo1AAAAAAIDMjUAzMzMzs4qOQGZmZmbmSI9A\",\"dtype\":\"float64\",\"shape\":[75]}},\"selected\":{\"id\":\"1e3d1dd8-f6d6-4bf0-8638-e1e25a913b7b\",\"type\":\"Selection\"},\"selection_policy\":{\"id\":\"a97fec31-3dcd-438e-a845-39e7e1708298\",\"type\":\"UnionRenderers\"}},\"id\":\"03075958-3a8c-4381-bb02-299b1fd9fc3e\",\"type\":\"ColumnDataSource\"},{\"attributes\":{},\"id\":\"161b3d30-5b1c-4e9a-a0f1-7c6889188d2a\",\"type\":\"Selection\"},{\"attributes\":{},\"id\":\"4a211b1a-2cf9-4e84-9232-a082c5af93b3\",\"type\":\"UnionRenderers\"},{\"attributes\":{},\"id\":\"5c4fb753-7809-4357-9fab-6b3e8ea368f6\",\"type\":\"Selection\"},{\"attributes\":{},\"id\":\"611f0484-57cd-4252-b1d0-5b5efbfac7e0\",\"type\":\"UnionRenderers\"},{\"attributes\":{\"source\":{\"id\":\"2871de17-a139-4fed-bf57-79be90095237\",\"type\":\"ColumnDataSource\"}},\"id\":\"8ccb77b1-865d-4fc7-bb41-2c538c0b37cd\",\"type\":\"CDSView\"},{\"attributes\":{},\"id\":\"e0b87672-461a-4dd3-b329-1faf458e433d\",\"type\":\"Selection\"},{\"attributes\":{},\"id\":\"e6d2800e-daf0-4872-bbc2-0341ea47bec0\",\"type\":\"UnionRenderers\"},{\"attributes\":{},\"id\":\"3e2612e6-105e-4278-84ae-0a468c8c2712\",\"type\":\"Selection\"},{\"attributes\":{\"fill_alpha\":{\"value\":0.7},\"fill_color\":{\"value\":\"#984ea3\"},\"line_alpha\":{\"value\":0.7},\"line_color\":{\"value\":\"#984ea3\"},\"x\":{\"field\":\"x\"},\"y\":{\"field\":\"y\"}},\"id\":\"7abf8167-08c1-480b-a3f6-fbc53e9a2410\",\"type\":\"Square\"},{\"attributes\":{},\"id\":\"b10f008a-aaf2-41a4-8075-39c2ea0109c8\",\"type\":\"UnionRenderers\"},{\"attributes\":{\"children\":[{\"id\":\"30bdb00f-48b9-4c6c-a1bf-e93fb48d03cf\",\"type\":\"ToolbarBox\"},{\"id\":\"e6b96a3a-b2d0-4d76-bad6-813c97ff4a29\",\"type\":\"Column\"}]},\"id\":\"23e38d91-f543-4408-bc75-bb9ba44ba556\",\"type\":\"Column\"},{\"attributes\":{\"source\":{\"id\":\"03075958-3a8c-4381-bb02-299b1fd9fc3e\",\"type\":\"ColumnDataSource\"}},\"id\":\"8599e78c-3f26-47e6-ba6b-8a05dc199509\",\"type\":\"CDSView\"},{\"attributes\":{\"data_source\":{\"id\":\"af191d22-0fd7-4dd6-b612-e13a93bf2244\",\"type\":\"ColumnDataSource\"},\"glyph\":{\"id\":\"7abf8167-08c1-480b-a3f6-fbc53e9a2410\",\"type\":\"Square\"},\"hover_glyph\":null,\"muted_glyph\":null,\"nonselection_glyph\":{\"id\":\"7c51d717-b121-42c2-844e-4d52b76a9af3\",\"type\":\"Square\"},\"selection_glyph\":null,\"view\":{\"id\":\"74779817-ff29-448b-b2ce-e61576f2b77d\",\"type\":\"CDSView\"}},\"id\":\"0545178f-0090-455e-a61b-fde38f5007c7\",\"type\":\"GlyphRenderer\"},{\"attributes\":{\"above\":[{\"id\":\"c1aad9bd-ba3a-4c76-8192-595aff5bd3fe\",\"type\":\"Legend\"}],\"below\":[{\"id\":\"9c1321a5-a07f-4c71-a53a-ee342948b9f3\",\"type\":\"LinearAxis\"}],\"left\":[{\"id\":\"274749a6-2248-437d-a656-f5e253a1764f\",\"type\":\"LogAxis\"}],\"plot_height\":500,\"plot_width\":400,\"renderers\":[{\"id\":\"9c1321a5-a07f-4c71-a53a-ee342948b9f3\",\"type\":\"LinearAxis\"},{\"id\":\"64a201e8-6527-4b1c-bd3e-664ab9d4a9cd\",\"type\":\"Grid\"},{\"id\":\"274749a6-2248-437d-a656-f5e253a1764f\",\"type\":\"LogAxis\"},{\"id\":\"dbe154ca-6a00-4b28-9ea2-edd1a0d80474\",\"type\":\"Grid\"},{\"id\":\"fbc7a704-6cff-4bbf-be88-c326c9b8594c\",\"type\":\"BoxAnnotation\"},{\"id\":\"17d4c8e9-460c-42cb-bedf-64bac9d65ba6\",\"type\":\"GlyphRenderer\"},{\"id\":\"863d76e8-40b4-458d-9f42-03a2f1da6280\",\"type\":\"GlyphRenderer\"},{\"id\":\"9a672eae-ea17-46e5-a5d0-ef9a59d03a50\",\"type\":\"GlyphRenderer\"},{\"id\":\"4e13af4a-58ac-4a79-8a0f-222dc2751e58\",\"type\":\"GlyphRenderer\"},{\"id\":\"410eaf78-a702-414c-af07-e693ca8c2935\",\"type\":\"GlyphRenderer\"},{\"id\":\"faf32ae0-f708-46af-bcab-63e13b6ce4a0\",\"type\":\"GlyphRenderer\"},{\"id\":\"c1aad9bd-ba3a-4c76-8192-595aff5bd3fe\",\"type\":\"Legend\"}],\"title\":{\"id\":\"216abed7-d0ee-4e03-a811-ae972de0918c\",\"type\":\"Title\"},\"toolbar\":{\"id\":\"21a6094e-836a-4b5e-9281-b1d8c83da5dd\",\"type\":\"Toolbar\"},\"toolbar_location\":null,\"x_range\":{\"id\":\"3743e053-a1fa-4cf0-8806-5b2ae1f8afa5\",\"type\":\"Range1d\"},\"x_scale\":{\"id\":\"7e597469-ce58-4899-afaf-c5816db040f8\",\"type\":\"LinearScale\"},\"y_range\":{\"id\":\"c393ad4a-4986-4baf-96d5-388494999e56\",\"type\":\"Range1d\"},\"y_scale\":{\"id\":\"5248c67b-2beb-48bf-a10e-e3276c692ab7\",\"type\":\"LogScale\"}},\"id\":\"98dbec01-0f3a-445d-a5df-6324f6d536d9\",\"subtype\":\"Figure\",\"type\":\"Plot\"},{\"attributes\":{\"tools\":[{\"id\":\"fc2b28cb-b794-4ae0-9b3d-ba01f2213cf0\",\"type\":\"PanTool\"},{\"id\":\"f44a5db7-b5d6-4667-b05c-f0e27e689b52\",\"type\":\"WheelZoomTool\"},{\"id\":\"d2bd7f72-4f73-4db0-bd6d-79a50dc24a53\",\"type\":\"BoxZoomTool\"},{\"id\":\"add1f40e-2bc2-4ea6-bba9-0d791beb802c\",\"type\":\"SaveTool\"},{\"id\":\"4c72b5b7-3528-479a-8146-a321eb408d81\",\"type\":\"ResetTool\"},{\"id\":\"312485ea-e996-4173-b72a-8ead55b800f6\",\"type\":\"HelpTool\"},{\"id\":\"b6cbdfc4-1cd9-4a16-ad95-00d7b86e02f0\",\"type\":\"PanTool\"},{\"id\":\"24fdb0d3-2e6e-4927-b818-baca724f6a1b\",\"type\":\"WheelZoomTool\"},{\"id\":\"c4d7c848-53bc-46ef-889c-f47278982b75\",\"type\":\"BoxZoomTool\"},{\"id\":\"bb13e698-e1b7-495f-a9b3-af4c755b3983\",\"type\":\"SaveTool\"},{\"id\":\"26af175e-8091-4b42-bc2e-c31192993be6\",\"type\":\"ResetTool\"},{\"id\":\"c06ce4b3-fee0-4e0c-9f3c-078e2563d0e9\",\"type\":\"HelpTool\"}]},\"id\":\"d2971105-2bfe-4ad0-a508-227208fc148d\",\"type\":\"ProxyToolbar\"},{\"attributes\":{\"axis_label\":\"pressure [mb]\",\"formatter\":{\"id\":\"e8551f52-bfc2-4a92-a965-341570b60d9d\",\"type\":\"LogTickFormatter\"},\"plot\":{\"id\":\"98dbec01-0f3a-445d-a5df-6324f6d536d9\",\"subtype\":\"Figure\",\"type\":\"Plot\"},\"ticker\":{\"id\":\"e3715022-124e-461d-abc4-afa2d5edb5de\",\"type\":\"LogTicker\"}},\"id\":\"274749a6-2248-437d-a656-f5e253a1764f\",\"type\":\"LogAxis\"},{\"attributes\":{\"toolbar\":{\"id\":\"d2971105-2bfe-4ad0-a508-227208fc148d\",\"type\":\"ProxyToolbar\"},\"toolbar_location\":\"above\"},\"id\":\"30bdb00f-48b9-4c6c-a1bf-e93fb48d03cf\",\"type\":\"ToolbarBox\"},{\"attributes\":{\"line_alpha\":0.6,\"line_color\":\"#984ea3\",\"line_width\":3,\"x\":{\"field\":\"x\"},\"y\":{\"field\":\"y\"}},\"id\":\"b491f6ab-d853-4f9f-82b6-0af896a9a286\",\"type\":\"Line\"},{\"attributes\":{\"source\":{\"id\":\"564a7efa-a707-4e84-a0e8-80ae0fa9cec4\",\"type\":\"ColumnDataSource\"}},\"id\":\"64a603cb-8e59-472a-b2d4-8371e14abdeb\",\"type\":\"CDSView\"},{\"attributes\":{\"line_alpha\":0.3,\"line_color\":\"#377eb8\",\"line_width\":2,\"x\":{\"field\":\"x\"},\"y\":{\"field\":\"y\"}},\"id\":\"d79bbc3c-cd86-428f-9375-e67183eb5548\",\"type\":\"Line\"},{\"attributes\":{\"source\":{\"id\":\"2123b4a3-70fb-43ff-89c4-0598e926c029\",\"type\":\"ColumnDataSource\"}},\"id\":\"ac44bded-21db-4ee4-9f78-4b2396f9e5d6\",\"type\":\"CDSView\"},{\"attributes\":{\"callback\":null,\"data\":{\"x\":{\"__ndarray__\":\"XbPn2b4lr74/KrlUA0KvvhsHT5Dseq++UXPvmuGzr76qRSBoieuvvobI4MgCEbC+H4i13Y4rsL5C6ilrZkWwvvg97eWSXrC+JwsaRPZ2sL7DnKLKho6wvmWpd5FOpbC+abu1DVq7sL6oZZYB2NWwvtz/oQ4/HbG+QM69qo00sb5w6zVE+QuwvgSS/yQv9ai+31+TsZ0Mk74o2B1OMbWjPg9l8QLNzcE+mKOKTX9x0j6k7Ut5bMDWPg7Amc4tt9I+qbzNGZ1LyT5G6qaAJd25PikRGlYDaZ8+jOWUBYwHkL6C6itHQW2nvqW+T5kPtbC+8nL6G4MCtL6HvXWIbFW2vryFW0JKKri+iQf+3mrNub5fzpyE/e26vrpirkQHILu+EUHliEUXvL5TvtNxpmLAvn8JBAmnpsS+oUpjGH1py75ymgflkTbXvoQOa/zHEO2+5LQVttte/r6c+F09RRYLv31MtP/ItBS/5EHJRSp5Gr/CT/NrKiwZv86Pksda1vy+qEaZN6ONIj+EY/37WPU8PwWC24xJEE8/SiWcXCMwXD/Ssuj4DEpnPw3TBdhq/3E/U++3ov6Gej9Zso5aTc2CP52UmFNBxok/QqEpMYstkT+jufKyVk+WP3yPI2tHUJw/AMRdvYqMoT/Mhe3OqjSlPxiyUvL+AKk/PKNrLlC1rj8Lw0p8I/exP9s6+3SDO7Q/CJG78bYetj+9r0ZNJrS2PygDP17T+bY/vNlttyc/tz91wmXE7oO3P2WsrQ1Sxrc/E29T8qAPuD8eiPff9HW4P/sroxJQQbk/\",\"dtype\":\"float64\",\"shape\":[75]},\"y\":{\"__ndarray__\":\"GhExyth1ND/Sv8nbtpRIP2vylNV0PVE/aTum7souWD/At0SJ8fVgPw3Iuahxymc/MSNhhJWvcD/bTfBN02d3P2zb5nxnaoA/CD5h5MAGhz8NmeH1TyaQP+zrCsc9p5Y/LbKd76fGnz/bLW5ISEmmPww9YvTcQq8/JV2OstnstT8Er5Y7M8G+P0c+r3jqkcU/5h99k6ZBzj88bCIzFzjVP4enV8oyxN0//yH99nXg5D8qOpLLf0jtP5kqGJXUifQ/c9cS8kHP/D+/DpwzojQEQIEmwoanVwxA4lgXt9HgE0BSSZ2AJuIbQAMJih9jjiNA5q4l5INuK0AwTKYKRj0zQNv5fmq8/DpAaCJseHrtQkB/+zpwzoxKQM3MzMzMeFJAZmZmZmZqWEAAAAAAAFxeQM3MzMzMJmJAmpmZmZkfZUBmZmZmZhhoQDMzMzMzEWtAAAAAAAAKbkBmZmZmZoFwQM3MzMzM/XFAMzMzMzN6c0CamZmZmfZ0QAAAAAAAc3ZAZmZmZmbvd0DNzMzMzGt5QDMzMzMz6HpAmpmZmZlkfEAAAAAAAOF9QGZmZmZmXX9AZmZmZuZsgECamZmZGSuBQM3MzMxM6YFAAAAAAICngkAzMzMzs2WDQGZmZmbmI4RAmpmZmRnihEDNzMzMTKCFQAAAAACAXoZAMzMzM7Mch0BmZmZm5tqHQJqZmZkZmYhAzczMzExXiUAAAAAAgBWKQDMzMzOz04pAZmZmZuaRi0CamZmZGVCMQM3MzMxMDo1AAAAAAIDMjUAzMzMzs4qOQGZmZmbmSI9A\",\"dtype\":\"float64\",\"shape\":[75]}},\"selected\":{\"id\":\"28e72a81-b01f-4675-a305-c8beced2b7f7\",\"type\":\"Selection\"},\"selection_policy\":{\"id\":\"295a9cea-08e5-4102-ae9f-e144dbb4c5c8\",\"type\":\"UnionRenderers\"}},\"id\":\"af191d22-0fd7-4dd6-b612-e13a93bf2244\",\"type\":\"ColumnDataSource\"},{\"attributes\":{\"callback\":null,\"data\":{\"x\":{\"__ndarray__\":\"fNuQnS8vrL74c43Iu0usvvv3I3PphKy+8QomgVq/rL5wZHKJevisvkzS8VTcMK2+A6F5hXZorb6HMKs9T5+tvqzjasYB1a2+GaKyiOMJrr7yvQm7wD2uvjWsobV4cK6+PvSEd3uirr6Mzbkc/9+uvjS9kY+Vl6++IauafzUqsL62UHPOMkSvvrp3Co10cqq+T6xmT9oXnr4LVJ+vXbKNPl0SCy2s9Lc+h457s4Muyz61PD9CuArRPkn8Kbo5mcs+otqCQs3jwT5+n4px3SKwPl8qsvUwkX8+lsn+aWbrnL6Uz3djzTiqviweeZRq2bC+KywZVt1Gs77KOudFufi0vty0qIZJU7a+0AvtOwyRt76RvfoGMVa4vhtvKgAxTbi+jitW5UgTub4tc+JUuVO9vgnugbDOncK+bud6AkvwyL7VWDS/sV3VvqEWqYoRKuu+qcR3ioX7/L7n7sAMeKMKv4+/x//xUhW/ujBU722KHb+/dVjEpwEhv6Dg6hFGUhu/WUpl44K4uT740QSGZYMsP4YQ9XAUg0M/ImKEYZmmUz9vPS6dG0JhP3meB1U032s/spgzf+5CdT+91QAPzwV/PxLaIefF1YU/tIYTF87VjT8fOUZwK9aTPzXBw/aLwJk//f8w8HlRoD+b8mp+0SWkP9rKPNP6RKg/xLSfJ8Z7rj8aumqCzkKyPwXKMU9qDLU/P775F4WAtz9n43xCWom4P3W/hLYOIbk/XqqIibybuT93SubcFvq5P9esTFvQObo/rHOIj7pjuj88Ei9P54q6P96btrGf5ro/\",\"dtype\":\"float64\",\"shape\":[75]},\"y\":{\"__ndarray__\":\"GhExyth1ND/Sv8nbtpRIP2vylNV0PVE/aTum7souWD/At0SJ8fVgPw3Iuahxymc/MSNhhJWvcD/bTfBN02d3P2zb5nxnaoA/CD5h5MAGhz8NmeH1TyaQP+zrCsc9p5Y/LbKd76fGnz/bLW5ISEmmPww9YvTcQq8/JV2OstnstT8Er5Y7M8G+P0c+r3jqkcU/5h99k6ZBzj88bCIzFzjVP4enV8oyxN0//yH99nXg5D8qOpLLf0jtP5kqGJXUifQ/c9cS8kHP/D+/DpwzojQEQIEmwoanVwxA4lgXt9HgE0BSSZ2AJuIbQAMJih9jjiNA5q4l5INuK0AwTKYKRj0zQNv5fmq8/DpAaCJseHrtQkB/+zpwzoxKQM3MzMzMeFJAZmZmZmZqWEAAAAAAAFxeQM3MzMzMJmJAmpmZmZkfZUBmZmZmZhhoQDMzMzMzEWtAAAAAAAAKbkBmZmZmZoFwQM3MzMzM/XFAMzMzMzN6c0CamZmZmfZ0QAAAAAAAc3ZAZmZmZmbvd0DNzMzMzGt5QDMzMzMz6HpAmpmZmZlkfEAAAAAAAOF9QGZmZmZmXX9AZmZmZuZsgECamZmZGSuBQM3MzMxM6YFAAAAAAICngkAzMzMzs2WDQGZmZmbmI4RAmpmZmRnihEDNzMzMTKCFQAAAAACAXoZAMzMzM7Mch0BmZmZm5tqHQJqZmZkZmYhAzczMzExXiUAAAAAAgBWKQDMzMzOz04pAZmZmZuaRi0CamZmZGVCMQM3MzMxMDo1AAAAAAIDMjUAzMzMzs4qOQGZmZmbmSI9A\",\"dtype\":\"float64\",\"shape\":[75]}},\"selected\":{\"id\":\"ab2dd82d-7265-45b1-9159-bef73315f43e\",\"type\":\"Selection\"},\"selection_policy\":{\"id\":\"7831dfc5-2b17-40d4-aa9b-8a2d3fd26256\",\"type\":\"UnionRenderers\"}},\"id\":\"2123b4a3-70fb-43ff-89c4-0598e926c029\",\"type\":\"ColumnDataSource\"},{\"attributes\":{\"fill_alpha\":{\"value\":0.7},\"fill_color\":{\"value\":\"#377eb8\"},\"line_alpha\":{\"value\":0.7},\"line_color\":{\"value\":\"#377eb8\"},\"x\":{\"field\":\"x\"},\"y\":{\"field\":\"y\"}},\"id\":\"5929149c-7111-4d52-908f-6a7afe81f7de\",\"type\":\"Triangle\"},{\"attributes\":{\"callback\":null,\"data\":{\"x\":{\"__ndarray__\":\"fNuQnS8vrL74c43Iu0usvvv3I3PphKy+8QomgVq/rL5wZHKJevisvkzS8VTcMK2+A6F5hXZorb6HMKs9T5+tvqzjasYB1a2+GaKyiOMJrr7yvQm7wD2uvjWsobV4cK6+PvSEd3uirr6Mzbkc/9+uvjS9kY+Vl6++IauafzUqsL62UHPOMkSvvrp3Co10cqq+T6xmT9oXnr4LVJ+vXbKNPl0SCy2s9Lc+h457s4Muyz61PD9CuArRPkn8Kbo5mcs+otqCQs3jwT5+n4px3SKwPl8qsvUwkX8+lsn+aWbrnL6Uz3djzTiqviweeZRq2bC+KywZVt1Gs77KOudFufi0vty0qIZJU7a+0AvtOwyRt76RvfoGMVa4vhtvKgAxTbi+jitW5UgTub4tc+JUuVO9vgnugbDOncK+bud6AkvwyL7VWDS/sV3VvqEWqYoRKuu+qcR3ioX7/L7n7sAMeKMKv4+/x//xUhW/ujBU722KHb+/dVjEpwEhv6Dg6hFGUhu/WUpl44K4uT740QSGZYMsP4YQ9XAUg0M/ImKEYZmmUz9vPS6dG0JhP3meB1U032s/spgzf+5CdT+91QAPzwV/PxLaIefF1YU/tIYTF87VjT8fOUZwK9aTPzXBw/aLwJk//f8w8HlRoD+b8mp+0SWkP9rKPNP6RKg/xLSfJ8Z7rj8aumqCzkKyPwXKMU9qDLU/P775F4WAtz9n43xCWom4P3W/hLYOIbk/XqqIibybuT93SubcFvq5P9esTFvQObo/rHOIj7pjuj88Ei9P54q6P96btrGf5ro/\",\"dtype\":\"float64\",\"shape\":[75]},\"y\":{\"__ndarray__\":\"GhExyth1ND/Sv8nbtpRIP2vylNV0PVE/aTum7souWD/At0SJ8fVgPw3Iuahxymc/MSNhhJWvcD/bTfBN02d3P2zb5nxnaoA/CD5h5MAGhz8NmeH1TyaQP+zrCsc9p5Y/LbKd76fGnz/bLW5ISEmmPww9YvTcQq8/JV2OstnstT8Er5Y7M8G+P0c+r3jqkcU/5h99k6ZBzj88bCIzFzjVP4enV8oyxN0//yH99nXg5D8qOpLLf0jtP5kqGJXUifQ/c9cS8kHP/D+/DpwzojQEQIEmwoanVwxA4lgXt9HgE0BSSZ2AJuIbQAMJih9jjiNA5q4l5INuK0AwTKYKRj0zQNv5fmq8/DpAaCJseHrtQkB/+zpwzoxKQM3MzMzMeFJAZmZmZmZqWEAAAAAAAFxeQM3MzMzMJmJAmpmZmZkfZUBmZmZmZhhoQDMzMzMzEWtAAAAAAAAKbkBmZmZmZoFwQM3MzMzM/XFAMzMzMzN6c0CamZmZmfZ0QAAAAAAAc3ZAZmZmZmbvd0DNzMzMzGt5QDMzMzMz6HpAmpmZmZlkfEAAAAAAAOF9QGZmZmZmXX9AZmZmZuZsgECamZmZGSuBQM3MzMxM6YFAAAAAAICngkAzMzMzs2WDQGZmZmbmI4RAmpmZmRnihEDNzMzMTKCFQAAAAACAXoZAMzMzM7Mch0BmZmZm5tqHQJqZmZkZmYhAzczMzExXiUAAAAAAgBWKQDMzMzOz04pAZmZmZuaRi0CamZmZGVCMQM3MzMxMDo1AAAAAAIDMjUAzMzMzs4qOQGZmZmbmSI9A\",\"dtype\":\"float64\",\"shape\":[75]}},\"selected\":{\"id\":\"96d6cfa7-a254-4bef-b76a-9be6690e3311\",\"type\":\"Selection\"},\"selection_policy\":{\"id\":\"4f7cd146-487b-4927-b135-6336c1d84786\",\"type\":\"UnionRenderers\"}},\"id\":\"2871de17-a139-4fed-bf57-79be90095237\",\"type\":\"ColumnDataSource\"},{\"attributes\":{\"data_source\":{\"id\":\"2123b4a3-70fb-43ff-89c4-0598e926c029\",\"type\":\"ColumnDataSource\"},\"glyph\":{\"id\":\"d79bbc3c-cd86-428f-9375-e67183eb5548\",\"type\":\"Line\"},\"hover_glyph\":null,\"muted_glyph\":null,\"nonselection_glyph\":{\"id\":\"0f4d832b-184a-421f-b8fe-3dc58308b42f\",\"type\":\"Line\"},\"selection_glyph\":null,\"view\":{\"id\":\"ac44bded-21db-4ee4-9f78-4b2396f9e5d6\",\"type\":\"CDSView\"}},\"id\":\"b424fd64-a6e1-4626-b44b-1de564269ee6\",\"type\":\"GlyphRenderer\"},{\"attributes\":{\"active_drag\":\"auto\",\"active_inspect\":\"auto\",\"active_scroll\":\"auto\",\"active_tap\":\"auto\",\"tools\":[{\"id\":\"b6cbdfc4-1cd9-4a16-ad95-00d7b86e02f0\",\"type\":\"PanTool\"},{\"id\":\"24fdb0d3-2e6e-4927-b818-baca724f6a1b\",\"type\":\"WheelZoomTool\"},{\"id\":\"c4d7c848-53bc-46ef-889c-f47278982b75\",\"type\":\"BoxZoomTool\"},{\"id\":\"bb13e698-e1b7-495f-a9b3-af4c755b3983\",\"type\":\"SaveTool\"},{\"id\":\"26af175e-8091-4b42-bc2e-c31192993be6\",\"type\":\"ResetTool\"},{\"id\":\"c06ce4b3-fee0-4e0c-9f3c-078e2563d0e9\",\"type\":\"HelpTool\"}]},\"id\":\"21a6094e-836a-4b5e-9281-b1d8c83da5dd\",\"type\":\"Toolbar\"},{\"attributes\":{\"label\":{\"value\":\"CRD\"},\"renderers\":[{\"id\":\"7123e1c0-364b-444b-b8dd-ce8557343396\",\"type\":\"GlyphRenderer\"},{\"id\":\"ab656f7e-f692-438e-ab39-63e162bebc09\",\"type\":\"GlyphRenderer\"}]},\"id\":\"db39d6c9-7663-4b63-85b4-9f26b652161a\",\"type\":\"LegendItem\"},{\"attributes\":{\"callback\":null,\"end\":1.1807281224e-05,\"start\":-6.016527624e-06},\"id\":\"3743e053-a1fa-4cf0-8806-5b2ae1f8afa5\",\"type\":\"Range1d\"},{\"attributes\":{\"label\":{\"value\":\"WGT igg=1\"},\"renderers\":[{\"id\":\"0545178f-0090-455e-a61b-fde38f5007c7\",\"type\":\"GlyphRenderer\"},{\"id\":\"540e70dc-c55b-4206-b484-c3828bdd0029\",\"type\":\"GlyphRenderer\"}]},\"id\":\"923c5899-80de-4464-bc60-c044b8375d23\",\"type\":\"LegendItem\"},{\"attributes\":{},\"id\":\"7e597469-ce58-4899-afaf-c5816db040f8\",\"type\":\"LinearScale\"},{\"attributes\":{\"label\":{\"value\":\"WGT igg=10\"},\"renderers\":[{\"id\":\"26845ead-9472-4f56-b514-44ba962cf026\",\"type\":\"GlyphRenderer\"},{\"id\":\"b424fd64-a6e1-4626-b44b-1de564269ee6\",\"type\":\"GlyphRenderer\"}]},\"id\":\"7f7c95ef-2469-4d2f-9f76-eede0b77b8d1\",\"type\":\"LegendItem\"},{\"attributes\":{},\"id\":\"24fdb0d3-2e6e-4927-b818-baca724f6a1b\",\"type\":\"WheelZoomTool\"},{\"attributes\":{\"line_alpha\":0.1,\"line_color\":\"#1f77b4\",\"line_width\":1.5,\"x\":{\"field\":\"x\"},\"y\":{\"field\":\"y\"}},\"id\":\"9da9b788-48c3-447c-9d31-58df49ab5c93\",\"type\":\"Line\"},{\"attributes\":{\"items\":[{\"id\":\"89e690b9-118d-4199-9904-b77a3e762980\",\"type\":\"LegendItem\"},{\"id\":\"31364a0f-b731-4348-94c2-e2c955d28dca\",\"type\":\"LegendItem\"},{\"id\":\"7c4f47f1-1df1-479c-acda-dab1d54b8b9b\",\"type\":\"LegendItem\"}],\"label_text_font_size\":{\"value\":\"8pt\"},\"location\":\"top_center\",\"orientation\":\"horizontal\",\"plot\":{\"id\":\"98dbec01-0f3a-445d-a5df-6324f6d536d9\",\"subtype\":\"Figure\",\"type\":\"Plot\"}},\"id\":\"c1aad9bd-ba3a-4c76-8192-595aff5bd3fe\",\"type\":\"Legend\"},{\"attributes\":{},\"id\":\"b6cbdfc4-1cd9-4a16-ad95-00d7b86e02f0\",\"type\":\"PanTool\"},{\"attributes\":{\"fill_alpha\":{\"value\":0.1},\"fill_color\":{\"value\":\"#1f77b4\"},\"line_alpha\":{\"value\":0.1},\"line_color\":{\"value\":\"#1f77b4\"},\"x\":{\"field\":\"x\"},\"y\":{\"field\":\"y\"}},\"id\":\"08359ebd-03d5-4aa8-85d5-481f35a2c187\",\"type\":\"Circle\"},{\"attributes\":{},\"id\":\"5248c67b-2beb-48bf-a10e-e3276c692ab7\",\"type\":\"LogScale\"},{\"attributes\":{\"plot\":{\"id\":\"98dbec01-0f3a-445d-a5df-6324f6d536d9\",\"subtype\":\"Figure\",\"type\":\"Plot\"},\"ticker\":{\"id\":\"bd9a52a2-e8a5-4193-81ad-e66ccc5f8c9e\",\"type\":\"BasicTicker\"}},\"id\":\"64a201e8-6527-4b1c-bd3e-664ab9d4a9cd\",\"type\":\"Grid\"},{\"attributes\":{\"bottom_units\":\"screen\",\"fill_alpha\":{\"value\":0.5},\"fill_color\":{\"value\":\"lightgrey\"},\"left_units\":\"screen\",\"level\":\"overlay\",\"line_alpha\":{\"value\":1.0},\"line_color\":{\"value\":\"black\"},\"line_dash\":[4,4],\"line_width\":{\"value\":2},\"plot\":null,\"render_mode\":\"css\",\"right_units\":\"screen\",\"top_units\":\"screen\"},\"id\":\"fbc7a704-6cff-4bbf-be88-c326c9b8594c\",\"type\":\"BoxAnnotation\"},{\"attributes\":{\"fill_alpha\":{\"value\":0.7},\"fill_color\":{\"value\":\"#4daf4a\"},\"line_alpha\":{\"value\":0.7},\"line_color\":{\"value\":\"#4daf4a\"},\"x\":{\"field\":\"x\"},\"y\":{\"field\":\"y\"}},\"id\":\"73078ae3-3792-4a76-a9d7-42697e7864ff\",\"type\":\"Circle\"},{\"attributes\":{\"overlay\":{\"id\":\"fbc7a704-6cff-4bbf-be88-c326c9b8594c\",\"type\":\"BoxAnnotation\"}},\"id\":\"c4d7c848-53bc-46ef-889c-f47278982b75\",\"type\":\"BoxZoomTool\"},{\"attributes\":{\"line_color\":\"#4daf4a\",\"line_width\":1.5,\"x\":{\"field\":\"x\"},\"y\":{\"field\":\"y\"}},\"id\":\"d698bbaa-6cbb-425a-9eae-bbc6d94d581b\",\"type\":\"Line\"},{\"attributes\":{},\"id\":\"bb13e698-e1b7-495f-a9b3-af4c755b3983\",\"type\":\"SaveTool\"},{\"attributes\":{},\"id\":\"26af175e-8091-4b42-bc2e-c31192993be6\",\"type\":\"ResetTool\"},{\"attributes\":{},\"id\":\"c06ce4b3-fee0-4e0c-9f3c-078e2563d0e9\",\"type\":\"HelpTool\"},{\"attributes\":{\"callback\":null,\"data\":{\"x\":{\"__ndarray__\":\"2bkxeKjmt749cgED//a3vuaV2hpKG7i++nROOoo7uL6UgDAAQ1u4vhS9158Ceri+9jug5gGWuL4BiGC0iLC4vitwD7hLybi+el1BvmvfuL7Tzezow/O4vpNWSfd5Bbm+f8h51NQUub5qu6WpMiS5vgCzLvNVLrm+PfWkn+07uL7X8+y0v2q0vixTVJl2Rqe+5ogbX1SilT6c/REkfe/BPrXLQjjw49U+wD9nGNNF5D6lWFTZK2XoPgLW8M//cOQ+8oAjIeYA3T6dRh9TBdPQPqA4gxgNb78+7kUaRcdgnj5GVk1zSrqfvoxrfg7I17G+wd/VHe4PuL67AD/n0fG7vujpyC7+a76+tJEOgAIPwL4Zr4W2YnTAvuy6r8NINsC+C1qB2edpwL78cakQN6/CvsWBLaVt7sa+DaczDcKvzb46E/x3kYDYvpbx2Je4yu2+n1TgVB34/b5jJ7UBo0UJv4ahAGpMhhG/GAduuqQLEr+b/B1hWgL6vmTe0OWF0Rw/YJSQhQt/OD+PkC9x6gBLPyvXzoVHGlk/uLrieVcjZT+UF+rHXqNwPzrOgaak1Xg/byRHuBTJgT+UMhGFgpGIPyqQ+mfdcZA/hjrNfrRqlT9hEzlHlCubP61dsqiK1KA/I0m6rcdZpD9eNaaSx/SnP9i8mNCed6s/a4yCUkdWsD9ebtcbGm6yP54EIgP69rM/ClSAoaf+tD9J2Szbqsu0PyjmKFmxbLQ/QVUk3dEqtD/h4PE+pQK0P8mPwyOb8rM/IanC9eEGtD/M2hBd/F+0Py7l87+ZbrU/\",\"dtype\":\"float64\",\"shape\":[75]},\"y\":{\"__ndarray__\":\"GhExyth1ND/Sv8nbtpRIP2vylNV0PVE/aTum7souWD/At0SJ8fVgPw3Iuahxymc/MSNhhJWvcD/bTfBN02d3P2zb5nxnaoA/CD5h5MAGhz8NmeH1TyaQP+zrCsc9p5Y/LbKd76fGnz/bLW5ISEmmPww9YvTcQq8/JV2OstnstT8Er5Y7M8G+P0c+r3jqkcU/5h99k6ZBzj88bCIzFzjVP4enV8oyxN0//yH99nXg5D8qOpLLf0jtP5kqGJXUifQ/c9cS8kHP/D+/DpwzojQEQIEmwoanVwxA4lgXt9HgE0BSSZ2AJuIbQAMJih9jjiNA5q4l5INuK0AwTKYKRj0zQNv5fmq8/DpAaCJseHrtQkB/+zpwzoxKQM3MzMzMeFJAZmZmZmZqWEAAAAAAAFxeQM3MzMzMJmJAmpmZmZkfZUBmZmZmZhhoQDMzMzMzEWtAAAAAAAAKbkBmZmZmZoFwQM3MzMzM/XFAMzMzMzN6c0CamZmZmfZ0QAAAAAAAc3ZAZmZmZmbvd0DNzMzMzGt5QDMzMzMz6HpAmpmZmZlkfEAAAAAAAOF9QGZmZmZmXX9AZmZmZuZsgECamZmZGSuBQM3MzMxM6YFAAAAAAICngkAzMzMzs2WDQGZmZmbmI4RAmpmZmRnihEDNzMzMTKCFQAAAAACAXoZAMzMzM7Mch0BmZmZm5tqHQJqZmZkZmYhAzczMzExXiUAAAAAAgBWKQDMzMzOz04pAZmZmZuaRi0CamZmZGVCMQM3MzMxMDo1AAAAAAIDMjUAzMzMzs4qOQGZmZmbmSI9A\",\"dtype\":\"float64\",\"shape\":[75]}},\"selected\":{\"id\":\"19d98d6d-4ecd-42df-9e9a-6017a0b9f679\",\"type\":\"Selection\"},\"selection_policy\":{\"id\":\"89eac89e-ae3d-4783-8703-4a6704797ee9\",\"type\":\"UnionRenderers\"}},\"id\":\"564a7efa-a707-4e84-a0e8-80ae0fa9cec4\",\"type\":\"ColumnDataSource\"},{\"attributes\":{},\"id\":\"1e3d1dd8-f6d6-4bf0-8638-e1e25a913b7b\",\"type\":\"Selection\"},{\"attributes\":{\"data_source\":{\"id\":\"a79b0a96-8de3-4325-a6e5-21dc813c23ec\",\"type\":\"ColumnDataSource\"},\"glyph\":{\"id\":\"73078ae3-3792-4a76-a9d7-42697e7864ff\",\"type\":\"Circle\"},\"hover_glyph\":null,\"muted_glyph\":null,\"nonselection_glyph\":{\"id\":\"08359ebd-03d5-4aa8-85d5-481f35a2c187\",\"type\":\"Circle\"},\"selection_glyph\":null,\"view\":{\"id\":\"f536a29f-3780-416f-a55d-0e13acbb9641\",\"type\":\"CDSView\"}},\"id\":\"7123e1c0-364b-444b-b8dd-ce8557343396\",\"type\":\"GlyphRenderer\"},{\"attributes\":{\"fill_alpha\":{\"value\":0.7},\"fill_color\":{\"value\":\"#4daf4a\"},\"line_alpha\":{\"value\":0.7},\"line_color\":{\"value\":\"#4daf4a\"},\"x\":{\"field\":\"x\"},\"y\":{\"field\":\"y\"}},\"id\":\"2f152760-2c89-45b7-92b8-b4fce6e522c9\",\"type\":\"Circle\"},{\"attributes\":{\"callback\":null,\"data\":{\"x\":{\"__ndarray__\":\"2bkxeKjmt749cgED//a3vuaV2hpKG7i++nROOoo7uL6UgDAAQ1u4vhS9158Ceri+9jug5gGWuL4BiGC0iLC4vitwD7hLybi+el1BvmvfuL7Tzezow/O4vpNWSfd5Bbm+f8h51NQUub5qu6WpMiS5vgCzLvNVLrm+PfWkn+07uL7X8+y0v2q0vixTVJl2Rqe+5ogbX1SilT6c/REkfe/BPrXLQjjw49U+wD9nGNNF5D6lWFTZK2XoPgLW8M//cOQ+8oAjIeYA3T6dRh9TBdPQPqA4gxgNb78+7kUaRcdgnj5GVk1zSrqfvoxrfg7I17G+wd/VHe4PuL67AD/n0fG7vujpyC7+a76+tJEOgAIPwL4Zr4W2YnTAvuy6r8NINsC+C1qB2edpwL78cakQN6/CvsWBLaVt7sa+DaczDcKvzb46E/x3kYDYvpbx2Je4yu2+n1TgVB34/b5jJ7UBo0UJv4ahAGpMhhG/GAduuqQLEr+b/B1hWgL6vmTe0OWF0Rw/YJSQhQt/OD+PkC9x6gBLPyvXzoVHGlk/uLrieVcjZT+UF+rHXqNwPzrOgaak1Xg/byRHuBTJgT+UMhGFgpGIPyqQ+mfdcZA/hjrNfrRqlT9hEzlHlCubP61dsqiK1KA/I0m6rcdZpD9eNaaSx/SnP9i8mNCed6s/a4yCUkdWsD9ebtcbGm6yP54EIgP69rM/ClSAoaf+tD9J2Szbqsu0PyjmKFmxbLQ/QVUk3dEqtD/h4PE+pQK0P8mPwyOb8rM/IanC9eEGtD/M2hBd/F+0Py7l87+ZbrU/\",\"dtype\":\"float64\",\"shape\":[75]},\"y\":{\"__ndarray__\":\"GhExyth1ND/Sv8nbtpRIP2vylNV0PVE/aTum7souWD/At0SJ8fVgPw3Iuahxymc/MSNhhJWvcD/bTfBN02d3P2zb5nxnaoA/CD5h5MAGhz8NmeH1TyaQP+zrCsc9p5Y/LbKd76fGnz/bLW5ISEmmPww9YvTcQq8/JV2OstnstT8Er5Y7M8G+P0c+r3jqkcU/5h99k6ZBzj88bCIzFzjVP4enV8oyxN0//yH99nXg5D8qOpLLf0jtP5kqGJXUifQ/c9cS8kHP/D+/DpwzojQEQIEmwoanVwxA4lgXt9HgE0BSSZ2AJuIbQAMJih9jjiNA5q4l5INuK0AwTKYKRj0zQNv5fmq8/DpAaCJseHrtQkB/+zpwzoxKQM3MzMzMeFJAZmZmZmZqWEAAAAAAAFxeQM3MzMzMJmJAmpmZmZkfZUBmZmZmZhhoQDMzMzMzEWtAAAAAAAAKbkBmZmZmZoFwQM3MzMzM/XFAMzMzMzN6c0CamZmZmfZ0QAAAAAAAc3ZAZmZmZmbvd0DNzMzMzGt5QDMzMzMz6HpAmpmZmZlkfEAAAAAAAOF9QGZmZmZmXX9AZmZmZuZsgECamZmZGSuBQM3MzMxM6YFAAAAAAICngkAzMzMzs2WDQGZmZmbmI4RAmpmZmRnihEDNzMzMTKCFQAAAAACAXoZAMzMzM7Mch0BmZmZm5tqHQJqZmZkZmYhAzczMzExXiUAAAAAAgBWKQDMzMzOz04pAZmZmZuaRi0CamZmZGVCMQM3MzMxMDo1AAAAAAIDMjUAzMzMzs4qOQGZmZmbmSI9A\",\"dtype\":\"float64\",\"shape\":[75]}},\"selected\":{\"id\":\"252efdd2-196b-4ee9-9f1e-dd1747881ae1\",\"type\":\"Selection\"},\"selection_policy\":{\"id\":\"b6b82764-1a54-4fbe-ba59-5f7fc939b0f7\",\"type\":\"UnionRenderers\"}},\"id\":\"3687d29b-bd9e-4d27-81db-1566dcaf71a2\",\"type\":\"ColumnDataSource\"},{\"attributes\":{\"dimension\":1,\"plot\":{\"id\":\"98dbec01-0f3a-445d-a5df-6324f6d536d9\",\"subtype\":\"Figure\",\"type\":\"Plot\"},\"ticker\":{\"id\":\"e3715022-124e-461d-abc4-afa2d5edb5de\",\"type\":\"LogTicker\"}},\"id\":\"dbe154ca-6a00-4b28-9ea2-edd1a0d80474\",\"type\":\"Grid\"},{\"attributes\":{\"fill_alpha\":{\"value\":0.1},\"fill_color\":{\"value\":\"#1f77b4\"},\"line_alpha\":{\"value\":0.1},\"line_color\":{\"value\":\"#1f77b4\"},\"x\":{\"field\":\"x\"},\"y\":{\"field\":\"y\"}},\"id\":\"8097fab7-7434-4876-924a-ecb729fe04a4\",\"type\":\"Circle\"},{\"attributes\":{},\"id\":\"a97fec31-3dcd-438e-a845-39e7e1708298\",\"type\":\"UnionRenderers\"},{\"attributes\":{\"data_source\":{\"id\":\"564a7efa-a707-4e84-a0e8-80ae0fa9cec4\",\"type\":\"ColumnDataSource\"},\"glyph\":{\"id\":\"d698bbaa-6cbb-425a-9eae-bbc6d94d581b\",\"type\":\"Line\"},\"hover_glyph\":null,\"muted_glyph\":null,\"nonselection_glyph\":{\"id\":\"9da9b788-48c3-447c-9d31-58df49ab5c93\",\"type\":\"Line\"},\"selection_glyph\":null,\"view\":{\"id\":\"64a603cb-8e59-472a-b2d4-8371e14abdeb\",\"type\":\"CDSView\"}},\"id\":\"ab656f7e-f692-438e-ab39-63e162bebc09\",\"type\":\"GlyphRenderer\"},{\"attributes\":{\"callback\":null,\"end\":0.01,\"start\":1020},\"id\":\"c393ad4a-4986-4baf-96d5-388494999e56\",\"type\":\"Range1d\"},{\"attributes\":{\"source\":{\"id\":\"a79b0a96-8de3-4325-a6e5-21dc813c23ec\",\"type\":\"ColumnDataSource\"}},\"id\":\"f536a29f-3780-416f-a55d-0e13acbb9641\",\"type\":\"CDSView\"},{\"attributes\":{\"data_source\":{\"id\":\"3687d29b-bd9e-4d27-81db-1566dcaf71a2\",\"type\":\"ColumnDataSource\"},\"glyph\":{\"id\":\"2f152760-2c89-45b7-92b8-b4fce6e522c9\",\"type\":\"Circle\"},\"hover_glyph\":null,\"muted_glyph\":null,\"nonselection_glyph\":{\"id\":\"8097fab7-7434-4876-924a-ecb729fe04a4\",\"type\":\"Circle\"},\"selection_glyph\":null,\"view\":{\"id\":\"813457af-70a0-4887-a87b-669dfc5690af\",\"type\":\"CDSView\"}},\"id\":\"17d4c8e9-460c-42cb-bedf-64bac9d65ba6\",\"type\":\"GlyphRenderer\"},{\"attributes\":{\"callback\":null,\"end\":0.1061336528904,\"start\":-0.0011818619304},\"id\":\"385a492d-512d-4db4-ab85-c0a26abea380\",\"type\":\"Range1d\"},{\"attributes\":{\"items\":[{\"id\":\"db39d6c9-7663-4b63-85b4-9f26b652161a\",\"type\":\"LegendItem\"},{\"id\":\"923c5899-80de-4464-bc60-c044b8375d23\",\"type\":\"LegendItem\"},{\"id\":\"7f7c95ef-2469-4d2f-9f76-eede0b77b8d1\",\"type\":\"LegendItem\"}],\"label_text_font_size\":{\"value\":\"8pt\"},\"location\":\"top_center\",\"orientation\":\"horizontal\",\"plot\":{\"id\":\"a11e4aa8-58b7-4ecc-a522-cca50c6a2cfa\",\"subtype\":\"Figure\",\"type\":\"Plot\"}},\"id\":\"cbb64a64-29b0-41be-8d38-e0da032ab899\",\"type\":\"Legend\"},{\"attributes\":{},\"id\":\"4f7cd146-487b-4927-b135-6336c1d84786\",\"type\":\"UnionRenderers\"},{\"attributes\":{\"active_drag\":\"auto\",\"active_inspect\":\"auto\",\"active_scroll\":\"auto\",\"active_tap\":\"auto\",\"tools\":[{\"id\":\"fc2b28cb-b794-4ae0-9b3d-ba01f2213cf0\",\"type\":\"PanTool\"},{\"id\":\"f44a5db7-b5d6-4667-b05c-f0e27e689b52\",\"type\":\"WheelZoomTool\"},{\"id\":\"d2bd7f72-4f73-4db0-bd6d-79a50dc24a53\",\"type\":\"BoxZoomTool\"},{\"id\":\"add1f40e-2bc2-4ea6-bba9-0d791beb802c\",\"type\":\"SaveTool\"},{\"id\":\"4c72b5b7-3528-479a-8146-a321eb408d81\",\"type\":\"ResetTool\"},{\"id\":\"312485ea-e996-4173-b72a-8ead55b800f6\",\"type\":\"HelpTool\"}]},\"id\":\"66679fdb-7981-4f3c-9a09-ea40451bd01b\",\"type\":\"Toolbar\"},{\"attributes\":{},\"id\":\"181da167-3c6a-45b6-be45-8f65c09358a7\",\"type\":\"LinearScale\"},{\"attributes\":{\"callback\":null,\"data\":{\"x\":{\"__ndarray__\":\"2bkxeKjmt749cgED//a3vuaV2hpKG7i++nROOoo7uL6UgDAAQ1u4vhS9158Ceri+9jug5gGWuL4BiGC0iLC4vitwD7hLybi+el1BvmvfuL7Tzezow/O4vpNWSfd5Bbm+f8h51NQUub5qu6WpMiS5vgCzLvNVLrm+PfWkn+07uL7X8+y0v2q0vixTVJl2Rqe+5ogbX1SilT6c/REkfe/BPrXLQjjw49U+wD9nGNNF5D6lWFTZK2XoPgLW8M//cOQ+8oAjIeYA3T6dRh9TBdPQPqA4gxgNb78+7kUaRcdgnj5GVk1zSrqfvoxrfg7I17G+wd/VHe4PuL67AD/n0fG7vujpyC7+a76+tJEOgAIPwL4Zr4W2YnTAvuy6r8NINsC+C1qB2edpwL78cakQN6/CvsWBLaVt7sa+DaczDcKvzb46E/x3kYDYvpbx2Je4yu2+n1TgVB34/b5jJ7UBo0UJv4ahAGpMhhG/GAduuqQLEr+b/B1hWgL6vmTe0OWF0Rw/YJSQhQt/OD+PkC9x6gBLPyvXzoVHGlk/uLrieVcjZT+UF+rHXqNwPzrOgaak1Xg/byRHuBTJgT+UMhGFgpGIPyqQ+mfdcZA/hjrNfrRqlT9hEzlHlCubP61dsqiK1KA/I0m6rcdZpD9eNaaSx/SnP9i8mNCed6s/a4yCUkdWsD9ebtcbGm6yP54EIgP69rM/ClSAoaf+tD9J2Szbqsu0PyjmKFmxbLQ/QVUk3dEqtD/h4PE+pQK0P8mPwyOb8rM/IanC9eEGtD/M2hBd/F+0Py7l87+ZbrU/\",\"dtype\":\"float64\",\"shape\":[75]},\"y\":{\"__ndarray__\":\"GhExyth1ND/Sv8nbtpRIP2vylNV0PVE/aTum7souWD/At0SJ8fVgPw3Iuahxymc/MSNhhJWvcD/bTfBN02d3P2zb5nxnaoA/CD5h5MAGhz8NmeH1TyaQP+zrCsc9p5Y/LbKd76fGnz/bLW5ISEmmPww9YvTcQq8/JV2OstnstT8Er5Y7M8G+P0c+r3jqkcU/5h99k6ZBzj88bCIzFzjVP4enV8oyxN0//yH99nXg5D8qOpLLf0jtP5kqGJXUifQ/c9cS8kHP/D+/DpwzojQEQIEmwoanVwxA4lgXt9HgE0BSSZ2AJuIbQAMJih9jjiNA5q4l5INuK0AwTKYKRj0zQNv5fmq8/DpAaCJseHrtQkB/+zpwzoxKQM3MzMzMeFJAZmZmZmZqWEAAAAAAAFxeQM3MzMzMJmJAmpmZmZkfZUBmZmZmZhhoQDMzMzMzEWtAAAAAAAAKbkBmZmZmZoFwQM3MzMzM/XFAMzMzMzN6c0CamZmZmfZ0QAAAAAAAc3ZAZmZmZmbvd0DNzMzMzGt5QDMzMzMz6HpAmpmZmZlkfEAAAAAAAOF9QGZmZmZmXX9AZmZmZuZsgECamZmZGSuBQM3MzMxM6YFAAAAAAICngkAzMzMzs2WDQGZmZmbmI4RAmpmZmRnihEDNzMzMTKCFQAAAAACAXoZAMzMzM7Mch0BmZmZm5tqHQJqZmZkZmYhAzczMzExXiUAAAAAAgBWKQDMzMzOz04pAZmZmZuaRi0CamZmZGVCMQM3MzMxMDo1AAAAAAIDMjUAzMzMzs4qOQGZmZmbmSI9A\",\"dtype\":\"float64\",\"shape\":[75]}},\"selected\":{\"id\":\"9c37c834-01a6-40b7-8682-121a857cf584\",\"type\":\"Selection\"},\"selection_policy\":{\"id\":\"74053007-faa4-4296-8bee-0f1380c44517\",\"type\":\"UnionRenderers\"}},\"id\":\"a79b0a96-8de3-4325-a6e5-21dc813c23ec\",\"type\":\"ColumnDataSource\"},{\"attributes\":{},\"id\":\"8f08f274-3fe1-465d-b861-5406863366e6\",\"type\":\"BasicTicker\"},{\"attributes\":{},\"id\":\"60e7b1cf-eaae-45f2-bf4b-7ec9130306ea\",\"type\":\"BasicTicker\"},{\"attributes\":{\"dimension\":1,\"plot\":{\"id\":\"a11e4aa8-58b7-4ecc-a522-cca50c6a2cfa\",\"subtype\":\"Figure\",\"type\":\"Plot\"},\"ticker\":{\"id\":\"60e7b1cf-eaae-45f2-bf4b-7ec9130306ea\",\"type\":\"BasicTicker\"}},\"id\":\"325ca030-009d-4a54-961a-2e1f6e1012ba\",\"type\":\"Grid\"},{\"attributes\":{\"callback\":null,\"end\":0.01,\"start\":1020},\"id\":\"a319f007-8f14-4402-8f65-0118bdd98125\",\"type\":\"Range1d\"},{\"attributes\":{\"axis_label\":\"pressure [mb]\",\"formatter\":{\"id\":\"b8b88518-8c8c-455c-9b6f-618c95eab8f9\",\"type\":\"BasicTickFormatter\"},\"plot\":{\"id\":\"a11e4aa8-58b7-4ecc-a522-cca50c6a2cfa\",\"subtype\":\"Figure\",\"type\":\"Plot\"},\"ticker\":{\"id\":\"60e7b1cf-eaae-45f2-bf4b-7ec9130306ea\",\"type\":\"BasicTicker\"}},\"id\":\"468fa199-8df1-4349-b082-c738962e6a31\",\"type\":\"LinearAxis\"},{\"attributes\":{\"axis_label\":\"cooling rate [K/day]\",\"formatter\":{\"id\":\"eed0a6ed-e35d-4130-aece-7ea66098fa53\",\"type\":\"BasicTickFormatter\"},\"plot\":{\"id\":\"98dbec01-0f3a-445d-a5df-6324f6d536d9\",\"subtype\":\"Figure\",\"type\":\"Plot\"},\"ticker\":{\"id\":\"bd9a52a2-e8a5-4193-81ad-e66ccc5f8c9e\",\"type\":\"BasicTicker\"}},\"id\":\"9c1321a5-a07f-4c71-a53a-ee342948b9f3\",\"type\":\"LinearAxis\"},{\"attributes\":{\"axis_label\":\"cooling rate [K/day]\",\"formatter\":{\"id\":\"c43bad28-8ad2-4d71-ba8b-23369377f921\",\"type\":\"BasicTickFormatter\"},\"plot\":{\"id\":\"a11e4aa8-58b7-4ecc-a522-cca50c6a2cfa\",\"subtype\":\"Figure\",\"type\":\"Plot\"},\"ticker\":{\"id\":\"8f08f274-3fe1-465d-b861-5406863366e6\",\"type\":\"BasicTicker\"}},\"id\":\"c7a09233-bf1d-4130-9b3f-6198fa6eef22\",\"type\":\"LinearAxis\"},{\"attributes\":{\"plot\":{\"id\":\"a11e4aa8-58b7-4ecc-a522-cca50c6a2cfa\",\"subtype\":\"Figure\",\"type\":\"Plot\"},\"ticker\":{\"id\":\"8f08f274-3fe1-465d-b861-5406863366e6\",\"type\":\"BasicTicker\"}},\"id\":\"f26250ad-a120-48eb-8a94-9a101d638cbc\",\"type\":\"Grid\"},{\"attributes\":{},\"id\":\"bd9a52a2-e8a5-4193-81ad-e66ccc5f8c9e\",\"type\":\"BasicTicker\"},{\"attributes\":{\"above\":[{\"id\":\"cbb64a64-29b0-41be-8d38-e0da032ab899\",\"type\":\"Legend\"}],\"below\":[{\"id\":\"c7a09233-bf1d-4130-9b3f-6198fa6eef22\",\"type\":\"LinearAxis\"}],\"left\":[{\"id\":\"468fa199-8df1-4349-b082-c738962e6a31\",\"type\":\"LinearAxis\"}],\"plot_height\":500,\"plot_width\":400,\"renderers\":[{\"id\":\"c7a09233-bf1d-4130-9b3f-6198fa6eef22\",\"type\":\"LinearAxis\"},{\"id\":\"f26250ad-a120-48eb-8a94-9a101d638cbc\",\"type\":\"Grid\"},{\"id\":\"468fa199-8df1-4349-b082-c738962e6a31\",\"type\":\"LinearAxis\"},{\"id\":\"325ca030-009d-4a54-961a-2e1f6e1012ba\",\"type\":\"Grid\"},{\"id\":\"effe516d-60c8-4ace-89fa-5e09553ccec4\",\"type\":\"BoxAnnotation\"},{\"id\":\"7123e1c0-364b-444b-b8dd-ce8557343396\",\"type\":\"GlyphRenderer\"},{\"id\":\"ab656f7e-f692-438e-ab39-63e162bebc09\",\"type\":\"GlyphRenderer\"},{\"id\":\"0545178f-0090-455e-a61b-fde38f5007c7\",\"type\":\"GlyphRenderer\"},{\"id\":\"540e70dc-c55b-4206-b484-c3828bdd0029\",\"type\":\"GlyphRenderer\"},{\"id\":\"26845ead-9472-4f56-b514-44ba962cf026\",\"type\":\"GlyphRenderer\"},{\"id\":\"b424fd64-a6e1-4626-b44b-1de564269ee6\",\"type\":\"GlyphRenderer\"},{\"id\":\"cbb64a64-29b0-41be-8d38-e0da032ab899\",\"type\":\"Legend\"}],\"title\":{\"id\":\"a80ddf42-2be9-463d-be18-b59f72248d54\",\"type\":\"Title\"},\"toolbar\":{\"id\":\"66679fdb-7981-4f3c-9a09-ea40451bd01b\",\"type\":\"Toolbar\"},\"toolbar_location\":null,\"x_range\":{\"id\":\"385a492d-512d-4db4-ab85-c0a26abea380\",\"type\":\"Range1d\"},\"x_scale\":{\"id\":\"181da167-3c6a-45b6-be45-8f65c09358a7\",\"type\":\"LinearScale\"},\"y_range\":{\"id\":\"a319f007-8f14-4402-8f65-0118bdd98125\",\"type\":\"Range1d\"},\"y_scale\":{\"id\":\"6551b751-9fb7-441e-ba13-ec5bf217f1d9\",\"type\":\"LinearScale\"}},\"id\":\"a11e4aa8-58b7-4ecc-a522-cca50c6a2cfa\",\"subtype\":\"Figure\",\"type\":\"Plot\"},{\"attributes\":{},\"id\":\"6551b751-9fb7-441e-ba13-ec5bf217f1d9\",\"type\":\"LinearScale\"},{\"attributes\":{},\"id\":\"312485ea-e996-4173-b72a-8ead55b800f6\",\"type\":\"HelpTool\"},{\"attributes\":{\"bottom_units\":\"screen\",\"fill_alpha\":{\"value\":0.5},\"fill_color\":{\"value\":\"lightgrey\"},\"left_units\":\"screen\",\"level\":\"overlay\",\"line_alpha\":{\"value\":1.0},\"line_color\":{\"value\":\"black\"},\"line_dash\":[4,4],\"line_width\":{\"value\":2},\"plot\":null,\"render_mode\":\"css\",\"right_units\":\"screen\",\"top_units\":\"screen\"},\"id\":\"effe516d-60c8-4ace-89fa-5e09553ccec4\",\"type\":\"BoxAnnotation\"},{\"attributes\":{},\"id\":\"96d6cfa7-a254-4bef-b76a-9be6690e3311\",\"type\":\"Selection\"}],\"root_ids\":[\"23e38d91-f543-4408-bc75-bb9ba44ba556\"]},\"title\":\"Bokeh Application\",\"version\":\"0.12.16\"}};\n",
       "  var render_items = [{\"docid\":\"18cdcfd8-37b4-4abb-a2e3-b5b32724676e\",\"elementid\":\"e42ca568-e871-46a5-994e-556f1530a889\",\"modelid\":\"23e38d91-f543-4408-bc75-bb9ba44ba556\"}];\n",
       "  root.Bokeh.embed.embed_items_notebook(docs_json, render_items);\n",
       "\n",
       "  }\n",
       "  if (root.Bokeh !== undefined) {\n",
       "    embed_document(root);\n",
       "  } else {\n",
       "    var attempts = 0;\n",
       "    var timer = setInterval(function(root) {\n",
       "      if (root.Bokeh !== undefined) {\n",
       "        embed_document(root);\n",
       "        clearInterval(timer);\n",
       "      }\n",
       "      attempts++;\n",
       "      if (attempts > 100) {\n",
       "        console.log(\"Bokeh: ERROR: Unable to run BokehJS code because BokehJS library is missing\")\n",
       "        clearInterval(timer);\n",
       "      }\n",
       "    }, 10, root)\n",
       "  }\n",
       "})(window);"
      ],
      "application/vnd.bokehjs_exec.v0+json": ""
     },
     "metadata": {
      "application/vnd.bokehjs_exec.v0+json": {
       "id": "23e38d91-f543-4408-bc75-bb9ba44ba556"
      }
     },
     "output_type": "display_data"
    },
    {
     "data": {
      "text/markdown": [
       "*FIGURE.* Cooling rates. g=2"
      ],
      "text/plain": [
       "<IPython.core.display.Markdown object>"
      ]
     },
     "metadata": {},
     "output_type": "display_data"
    },
    {
     "data": {
      "text/html": [
       "\n",
       "<div class=\"bk-root\">\n",
       "    <div class=\"bk-plotdiv\" id=\"84b8c958-bd43-4485-89b2-d677421a4094\"></div>\n",
       "</div>"
      ]
     },
     "metadata": {},
     "output_type": "display_data"
    },
    {
     "data": {
      "application/javascript": [
       "(function(root) {\n",
       "  function embed_document(root) {\n",
       "    \n",
       "  var docs_json = {\"0d2656d9-6283-45e9-b290-a1d3c58c01d6\":{\"roots\":{\"references\":[{\"attributes\":{},\"id\":\"be016be8-dcf8-48e0-83f0-d7a0906c1656\",\"type\":\"BasicTickFormatter\"},{\"attributes\":{},\"id\":\"25eb2612-0035-4ad1-9787-789c81179584\",\"type\":\"UnionRenderers\"},{\"attributes\":{},\"id\":\"028679e6-65dc-424c-9efe-acdaf5cb5b86\",\"type\":\"Selection\"},{\"attributes\":{},\"id\":\"bb0b241e-8bd4-4288-a3ce-b2f7ddd5959f\",\"type\":\"Selection\"},{\"attributes\":{},\"id\":\"b4fb47e9-4af1-426c-a319-0e3259d06ec6\",\"type\":\"Selection\"},{\"attributes\":{},\"id\":\"47588d8f-1a69-47d9-8003-22d1e5757fd0\",\"type\":\"BasicTickFormatter\"},{\"attributes\":{},\"id\":\"4fc6ced3-c2cd-4c94-9dc1-a689c342743b\",\"type\":\"UnionRenderers\"},{\"attributes\":{},\"id\":\"daeea22a-a2c3-4ad3-9790-2ff34085fd12\",\"type\":\"UnionRenderers\"},{\"attributes\":{},\"id\":\"eb7cebbe-c2c0-4dcf-a159-10c78106fc5f\",\"type\":\"Selection\"},{\"attributes\":{\"ticker\":null},\"id\":\"66768951-1d0c-417c-8441-1b4a1726be42\",\"type\":\"LogTickFormatter\"},{\"attributes\":{\"plot\":null,\"text\":\"\"},\"id\":\"5aa7ca3f-ab21-4b04-b324-d83ad5f0dff9\",\"type\":\"Title\"},{\"attributes\":{},\"id\":\"7e919ecd-d3a9-4541-a64e-6b8541a48e41\",\"type\":\"Selection\"},{\"attributes\":{},\"id\":\"afcb2c7f-8e31-4e8a-ad9c-e9a54ada4523\",\"type\":\"UnionRenderers\"},{\"attributes\":{},\"id\":\"f55b0186-93c1-45f8-80ca-061685bdc99f\",\"type\":\"UnionRenderers\"},{\"attributes\":{},\"id\":\"cd1f3757-dfd4-43f8-bdda-25477331b92d\",\"type\":\"Selection\"},{\"attributes\":{},\"id\":\"bd19c408-87f1-4f35-a670-8dac32ba85fc\",\"type\":\"UnionRenderers\"},{\"attributes\":{},\"id\":\"41f0cc2f-5ff8-4767-b6df-b8682ea3ab48\",\"type\":\"Selection\"},{\"attributes\":{},\"id\":\"aa409d21-102c-4a69-b015-09d070cbc6ce\",\"type\":\"UnionRenderers\"},{\"attributes\":{},\"id\":\"56c63286-fc86-43db-bf74-7c564030c59f\",\"type\":\"Selection\"},{\"attributes\":{},\"id\":\"ab555308-b7f1-4491-9c21-4cb09e290a66\",\"type\":\"UnionRenderers\"},{\"attributes\":{},\"id\":\"f2bee242-803d-41f9-8fde-c5f9f63dd9e1\",\"type\":\"Selection\"},{\"attributes\":{},\"id\":\"b6992167-f479-45e1-857f-47c3d7209470\",\"type\":\"LinearScale\"},{\"attributes\":{},\"id\":\"98b8dfdc-126d-42ae-9cfe-d806abbc65ba\",\"type\":\"UnionRenderers\"},{\"attributes\":{\"children\":[{\"id\":\"a16041d6-13c2-4324-ac37-f686a42a250f\",\"type\":\"ToolbarBox\"},{\"id\":\"a56e5180-6be0-47a7-82c0-65c6b115de51\",\"type\":\"Column\"}]},\"id\":\"7fdae0bc-6e86-4a8d-aaab-dd13a959a22b\",\"type\":\"Column\"},{\"attributes\":{\"tools\":[{\"id\":\"dbc79323-a254-4ca5-aad2-2e62f85076de\",\"type\":\"PanTool\"},{\"id\":\"f3d84da1-8d18-48bd-97b6-677152d0dc20\",\"type\":\"WheelZoomTool\"},{\"id\":\"aa76ccd2-0bd8-4183-8800-54124d6f148f\",\"type\":\"BoxZoomTool\"},{\"id\":\"8ca43696-3cb0-447a-8de0-867c9c23cb2e\",\"type\":\"SaveTool\"},{\"id\":\"9773e124-191d-4433-b317-1262139e055d\",\"type\":\"ResetTool\"},{\"id\":\"e42fd365-1764-4bc7-aca9-23b4b8b4b42a\",\"type\":\"HelpTool\"},{\"id\":\"09df1dc8-f4d0-47b4-9aaa-52bc573698da\",\"type\":\"PanTool\"},{\"id\":\"1b209909-d224-4120-899a-2d4b8b81a85e\",\"type\":\"WheelZoomTool\"},{\"id\":\"d3939a34-5166-479c-946d-751921a908eb\",\"type\":\"BoxZoomTool\"},{\"id\":\"63feac87-7b8b-47ad-9be6-6cc02a5db301\",\"type\":\"SaveTool\"},{\"id\":\"68a810d7-30ae-4872-a401-1d83bc522d86\",\"type\":\"ResetTool\"},{\"id\":\"34def790-390d-4fdc-9afc-b5d213708c2d\",\"type\":\"HelpTool\"}]},\"id\":\"13b58aa6-be5d-455a-8886-9a05c370e43c\",\"type\":\"ProxyToolbar\"},{\"attributes\":{\"toolbar\":{\"id\":\"13b58aa6-be5d-455a-8886-9a05c370e43c\",\"type\":\"ProxyToolbar\"},\"toolbar_location\":\"above\"},\"id\":\"a16041d6-13c2-4324-ac37-f686a42a250f\",\"type\":\"ToolbarBox\"},{\"attributes\":{\"dimension\":1,\"plot\":{\"id\":\"5da100a7-dfdb-4453-aa32-54bab11d4117\",\"subtype\":\"Figure\",\"type\":\"Plot\"},\"ticker\":{\"id\":\"189581e7-b690-4f74-aab6-4b9fda116d4b\",\"type\":\"LogTicker\"}},\"id\":\"3b3eece4-750f-433b-b6cb-cc76bb8c3e05\",\"type\":\"Grid\"},{\"attributes\":{\"line_alpha\":0.1,\"line_color\":\"#1f77b4\",\"line_width\":1.5,\"x\":{\"field\":\"x\"},\"y\":{\"field\":\"y\"}},\"id\":\"e7886828-dd60-49d1-b5ec-0d9f0642d99f\",\"type\":\"Line\"},{\"attributes\":{\"num_minor_ticks\":10},\"id\":\"189581e7-b690-4f74-aab6-4b9fda116d4b\",\"type\":\"LogTicker\"},{\"attributes\":{\"fill_alpha\":{\"value\":0.1},\"fill_color\":{\"value\":\"#1f77b4\"},\"line_alpha\":{\"value\":0.1},\"line_color\":{\"value\":\"#1f77b4\"},\"x\":{\"field\":\"x\"},\"y\":{\"field\":\"y\"}},\"id\":\"290326f2-d3c0-4cd1-9d73-c281eeed12cd\",\"type\":\"Circle\"},{\"attributes\":{\"fill_alpha\":{\"value\":0.7},\"fill_color\":{\"value\":\"#4daf4a\"},\"line_alpha\":{\"value\":0.7},\"line_color\":{\"value\":\"#4daf4a\"},\"x\":{\"field\":\"x\"},\"y\":{\"field\":\"y\"}},\"id\":\"58680699-9b4f-4c51-a312-293f2e29e16b\",\"type\":\"Circle\"},{\"attributes\":{\"callback\":null,\"data\":{\"x\":{\"__ndarray__\":\"O5TShbfkhb7yvtYHscyFvqxJUm2pzYa+rEryY9CEhr6hSPOfOE6HvmWBh3/tpoe+nJGrxyi8h75Kt2XDDkuIvropcnLEmIi+jNb0kQrsiL6kDWKQSkaJvlSH8QGEnIm+PBk+6uX/ib53bmPGhWqKvvstNxRH8Yu+Ze+yHGmYjr6t8hDH0kKQvgb7Z5YRpY++QYwL8uM3ib4rgzC/70hxvqCg7LP8yIk+0ipNiDurpD5vdq7Zp3CrPny+zspwCaU+NmIgcxONlz70plpJyUN3Pucj161YL3i+qKXkqUEnir74Pl9cbxqRvvkOX5csY5O+/QaikWrLlL7eroiEWe+Vvqs7ZDp1QZe+kmxx+O0Mmb616QYR+MuavrNySRh0PJy+Pj5jD+JQn778uR9D+OOjvsSj9Ok8Tqu+antxR6WKs756IoP6x8nBvjK+0VgeANi+VTCpyVE/6750h2tYw9b6vpY2U2oBWge/88yDahcUEr9VqqjJj8cYv8R4je8/0xy/gxoJBSOQGL+uqjD+crQBv0qlEgtaXhk/vT2ZXCfhNT8DDZeBqahHP1FdrVVqllU/UvWtQkr0YT9CgvyJXg9sPw7wstTy8nQ/KbDuwlAzfj9jomQZsh+FP+CyONPs0Iw/gvPz8K8vkz/LUnbwz+mYP3316V8voJ8/0Mo3h90KpT/KuUwB9PGqP/Q11dcWxbA/kYSC9EJxtD+yUzJUU3+3PxGWZxSBoLo/zijIlZskvj+9pigTjgvBP0aHE9pqPcM/kcBZKYiqxT98XjPx9VLIP0sJHGTtSss/\",\"dtype\":\"float64\",\"shape\":[75]},\"y\":{\"__ndarray__\":\"GhExyth1ND/Sv8nbtpRIP2vylNV0PVE/aTum7souWD/At0SJ8fVgPw3Iuahxymc/MSNhhJWvcD/bTfBN02d3P2zb5nxnaoA/CD5h5MAGhz8NmeH1TyaQP+zrCsc9p5Y/LbKd76fGnz/bLW5ISEmmPww9YvTcQq8/JV2OstnstT8Er5Y7M8G+P0c+r3jqkcU/5h99k6ZBzj88bCIzFzjVP4enV8oyxN0//yH99nXg5D8qOpLLf0jtP5kqGJXUifQ/c9cS8kHP/D+/DpwzojQEQIEmwoanVwxA4lgXt9HgE0BSSZ2AJuIbQAMJih9jjiNA5q4l5INuK0AwTKYKRj0zQNv5fmq8/DpAaCJseHrtQkB/+zpwzoxKQM3MzMzMeFJAZmZmZmZqWEAAAAAAAFxeQM3MzMzMJmJAmpmZmZkfZUBmZmZmZhhoQDMzMzMzEWtAAAAAAAAKbkBmZmZmZoFwQM3MzMzM/XFAMzMzMzN6c0CamZmZmfZ0QAAAAAAAc3ZAZmZmZmbvd0DNzMzMzGt5QDMzMzMz6HpAmpmZmZlkfEAAAAAAAOF9QGZmZmZmXX9AZmZmZuZsgECamZmZGSuBQM3MzMxM6YFAAAAAAICngkAzMzMzs2WDQGZmZmbmI4RAmpmZmRnihEDNzMzMTKCFQAAAAACAXoZAMzMzM7Mch0BmZmZm5tqHQJqZmZkZmYhAzczMzExXiUAAAAAAgBWKQDMzMzOz04pAZmZmZuaRi0CamZmZGVCMQM3MzMxMDo1AAAAAAIDMjUAzMzMzs4qOQGZmZmbmSI9A\",\"dtype\":\"float64\",\"shape\":[75]}},\"selected\":{\"id\":\"b4fb47e9-4af1-426c-a319-0e3259d06ec6\",\"type\":\"Selection\"},\"selection_policy\":{\"id\":\"daeea22a-a2c3-4ad3-9790-2ff34085fd12\",\"type\":\"UnionRenderers\"}},\"id\":\"6d497011-c9aa-48fd-a6df-975486c05140\",\"type\":\"ColumnDataSource\"},{\"attributes\":{\"data_source\":{\"id\":\"cdbf5347-191c-43c4-8dac-f7d0aa3ccc14\",\"type\":\"ColumnDataSource\"},\"glyph\":{\"id\":\"58680699-9b4f-4c51-a312-293f2e29e16b\",\"type\":\"Circle\"},\"hover_glyph\":null,\"muted_glyph\":null,\"nonselection_glyph\":{\"id\":\"290326f2-d3c0-4cd1-9d73-c281eeed12cd\",\"type\":\"Circle\"},\"selection_glyph\":null,\"view\":{\"id\":\"cc26ab10-85f1-47ca-af2c-59918ed0e981\",\"type\":\"CDSView\"}},\"id\":\"f0263a6e-b68f-41d5-a2dd-e8ae3b49d41f\",\"type\":\"GlyphRenderer\"},{\"attributes\":{},\"id\":\"eff97880-30bb-4a0f-b934-45432806c513\",\"type\":\"UnionRenderers\"},{\"attributes\":{\"line_color\":\"#4daf4a\",\"line_width\":1.5,\"x\":{\"field\":\"x\"},\"y\":{\"field\":\"y\"}},\"id\":\"7b8fcfbd-df38-475a-8d7d-c8159ab6878d\",\"type\":\"Line\"},{\"attributes\":{\"source\":{\"id\":\"cdbf5347-191c-43c4-8dac-f7d0aa3ccc14\",\"type\":\"ColumnDataSource\"}},\"id\":\"cc26ab10-85f1-47ca-af2c-59918ed0e981\",\"type\":\"CDSView\"},{\"attributes\":{\"callback\":null,\"data\":{\"x\":{\"__ndarray__\":\"rXUT+TJFgr4BWQAo0YiCvnPEoXdcw4K+JzIAqMMRg74oAXY0W2uDvqgff4ADooO+7yTSasz9g76p02++XEWEvp5c/J9gk4S+3TtCD4HihL40AKgU5DGFvgKeaTc9goW+51bWd8fRhb4iGFqDTDmGvt+rl64RmYe+n37/LP0lir4dkQ8Hsl+MviyvA3/qsIy+kP24JTQUib7z1GFJYid8vsDS36GWQHQ+V37WniGgmT5k0cqnVsShPkC99IljKJo+cv2Ij4BWiT4kFS3do2Ybvvs/9MzgBoG+rNz04wjKir7UXiDsIiKQvi31VQOnrZG+tQAdudGukr7zR1i94JuTvj91717OzJS+xfwxVEJ7lr5nmhb0FCyYvm/kPcJyqJm+aA5JY5OYnL64HmYCohuivpMjKEJTvqi+pwFYOSSwsb5RK98DZyLAvp5yS+yL4tW+pNbqGP8R6b5QUq/+AAn5vsSlY0+xOga/4fH1wbG+Eb+5qcBaookZv3LRojORMSC/qMCUz2awIL/aIYwi8Mkav6RrOMIoXP2+w9l4n3wRID/+imngb0Y5P0RpYNvlbEo/9spUu4GmVz8MZQGMEGJjPyMHL/UI+W0/fsR5Qc43dj8EP5PFSdZ/P8PyDaMlMYY/2EMXrvApjj81RDvFr/qTP+8hbyaX4Jk/fP+0i0iYoT+hDAxb3hWnPwWxmWcYg60/IfnbgsuBsj+8bNZBp+W1P5oawfYuhrk/T5KumXyzvT/PumfZakHBP+JqjdaLAMQ/DSyyY0Qexz/kYUYdwp3KP/EGoGpXlc4/\",\"dtype\":\"float64\",\"shape\":[75]},\"y\":{\"__ndarray__\":\"GhExyth1ND/Sv8nbtpRIP2vylNV0PVE/aTum7souWD/At0SJ8fVgPw3Iuahxymc/MSNhhJWvcD/bTfBN02d3P2zb5nxnaoA/CD5h5MAGhz8NmeH1TyaQP+zrCsc9p5Y/LbKd76fGnz/bLW5ISEmmPww9YvTcQq8/JV2OstnstT8Er5Y7M8G+P0c+r3jqkcU/5h99k6ZBzj88bCIzFzjVP4enV8oyxN0//yH99nXg5D8qOpLLf0jtP5kqGJXUifQ/c9cS8kHP/D+/DpwzojQEQIEmwoanVwxA4lgXt9HgE0BSSZ2AJuIbQAMJih9jjiNA5q4l5INuK0AwTKYKRj0zQNv5fmq8/DpAaCJseHrtQkB/+zpwzoxKQM3MzMzMeFJAZmZmZmZqWEAAAAAAAFxeQM3MzMzMJmJAmpmZmZkfZUBmZmZmZhhoQDMzMzMzEWtAAAAAAAAKbkBmZmZmZoFwQM3MzMzM/XFAMzMzMzN6c0CamZmZmfZ0QAAAAAAAc3ZAZmZmZmbvd0DNzMzMzGt5QDMzMzMz6HpAmpmZmZlkfEAAAAAAAOF9QGZmZmZmXX9AZmZmZuZsgECamZmZGSuBQM3MzMxM6YFAAAAAAICngkAzMzMzs2WDQGZmZmbmI4RAmpmZmRnihEDNzMzMTKCFQAAAAACAXoZAMzMzM7Mch0BmZmZm5tqHQJqZmZkZmYhAzczMzExXiUAAAAAAgBWKQDMzMzOz04pAZmZmZuaRi0CamZmZGVCMQM3MzMxMDo1AAAAAAIDMjUAzMzMzs4qOQGZmZmbmSI9A\",\"dtype\":\"float64\",\"shape\":[75]}},\"selected\":{\"id\":\"a25d8ea3-8cb2-4762-abd1-66a10486a680\",\"type\":\"Selection\"},\"selection_policy\":{\"id\":\"5da4627e-263e-4708-9cbf-afc5fa4367c8\",\"type\":\"UnionRenderers\"}},\"id\":\"3d591cb1-2e04-4090-90f2-5fdd02102c12\",\"type\":\"ColumnDataSource\"},{\"attributes\":{\"line_alpha\":0.1,\"line_color\":\"#1f77b4\",\"line_width\":3,\"x\":{\"field\":\"x\"},\"y\":{\"field\":\"y\"}},\"id\":\"97f8d838-da80-429a-96c9-5c2116cf2dfa\",\"type\":\"Line\"},{\"attributes\":{\"data_source\":{\"id\":\"91024c38-f736-40ab-abf2-6352e3739849\",\"type\":\"ColumnDataSource\"},\"glyph\":{\"id\":\"d190d798-8a3f-4500-8fb2-170a83471a14\",\"type\":\"Line\"},\"hover_glyph\":null,\"muted_glyph\":null,\"nonselection_glyph\":{\"id\":\"97f8d838-da80-429a-96c9-5c2116cf2dfa\",\"type\":\"Line\"},\"selection_glyph\":null,\"view\":{\"id\":\"811feb5e-ebf1-4a88-a255-faf1719b6d22\",\"type\":\"CDSView\"}},\"id\":\"7d26a471-d37c-4c76-ae49-b6feef945e26\",\"type\":\"GlyphRenderer\"},{\"attributes\":{\"data_source\":{\"id\":\"f0345905-a1d6-450d-8e43-89d1947fd433\",\"type\":\"ColumnDataSource\"},\"glyph\":{\"id\":\"e2b9b9ae-3dda-4887-a1cb-48859f3640f8\",\"type\":\"Square\"},\"hover_glyph\":null,\"muted_glyph\":null,\"nonselection_glyph\":{\"id\":\"0aad1e70-9f8a-4270-93bc-ab306be6add1\",\"type\":\"Square\"},\"selection_glyph\":null,\"view\":{\"id\":\"323ea009-d472-4020-8f9d-aa9996d5a8ca\",\"type\":\"CDSView\"}},\"id\":\"4324a918-557d-4599-ab58-5ce917bcf781\",\"type\":\"GlyphRenderer\"},{\"attributes\":{\"data_source\":{\"id\":\"3d591cb1-2e04-4090-90f2-5fdd02102c12\",\"type\":\"ColumnDataSource\"},\"glyph\":{\"id\":\"68bddb46-378a-4fd5-a727-1a5323f0aa90\",\"type\":\"Triangle\"},\"hover_glyph\":null,\"muted_glyph\":null,\"nonselection_glyph\":{\"id\":\"4c4a84e2-4b9b-40be-a943-8414111c0385\",\"type\":\"Triangle\"},\"selection_glyph\":null,\"view\":{\"id\":\"baf86105-dd18-47fb-baae-ca7a7dae3c80\",\"type\":\"CDSView\"}},\"id\":\"ead85f8e-f55f-4562-b34a-fb75382e7e1a\",\"type\":\"GlyphRenderer\"},{\"attributes\":{\"fill_alpha\":{\"value\":0.1},\"fill_color\":{\"value\":\"#1f77b4\"},\"line_alpha\":{\"value\":0.1},\"line_color\":{\"value\":\"#1f77b4\"},\"x\":{\"field\":\"x\"},\"y\":{\"field\":\"y\"}},\"id\":\"4c4a84e2-4b9b-40be-a943-8414111c0385\",\"type\":\"Triangle\"},{\"attributes\":{\"line_alpha\":0.1,\"line_color\":\"#1f77b4\",\"line_width\":2,\"x\":{\"field\":\"x\"},\"y\":{\"field\":\"y\"}},\"id\":\"26133760-56d4-42bf-bb1c-e7b4a86f9644\",\"type\":\"Line\"},{\"attributes\":{\"callback\":null,\"data\":{\"x\":{\"__ndarray__\":\"yNKG0sNdg74L98RgDY+DvnMBwKtRyoO+/imouAEthL6Bs5Amg4KEvnjlHbnSv4S+KvifjgEVhb4OmQxfuGWFviDjeXg6vIW+efQr0hQNhr7qh7r1rl2Gvg7A9tdJsoa+LTqs8XoFh75GQS9zeXCHvq11A97R3Yi+9Oh16qN9i77hjoPo7bONvtH7CPBDzo2+ekDX+EOcib62FLxbDrx6vq4J05KxZno+ANxd/4sHnT5l6iUwFuijPuuVe2G/np0+3zj7R/ncjT66dNA+MU1PPmi0faw8foC+lfYp0elHi77Nuu1dgLKQviOtZHY6cZK+BkmByQWVk75F7Oz6wp2UvjdhrhqC6pW+tFMu6fy5l75C5cTtRY2ZvvdjKCf1KJu+1sURj8NJnr7thkrM4iujvnPcXMp3Kqq+ZGl+Sratsr4co7FCTgLBvoQQejsABte+UqdPj2BO6r4/lX5Rli76vrmqoUIXJQe/iV6BfrpcEr/FlPuiPC8av5H9fG/dWiC/hYbb3RReIL8xLMerxDcYv6amlPcnq9a+5D80M82vJT8diSDMYzI+P02m76DhcU4/M1uzBsi/Wj/G56b6ArRlP9nVPZnTqnA/kLVLgsyaeD8K95ami4OBPw0cW8WeGog/VlXSBDZZkD/AssDBWIuVPyera7IbvZs/dFZf67+/oj+KL/Q3inSoP8yIjsHjC68/8mJPpeBVsz/RD2LoirK2P0mrrRp8SLo/jgqU+7pfvj+d3t6YEofBP4tq16XCL8Q/uUZ4OfQvxz83xgxcN4jKP27pyeMGT84/\",\"dtype\":\"float64\",\"shape\":[75]},\"y\":{\"__ndarray__\":\"GhExyth1ND/Sv8nbtpRIP2vylNV0PVE/aTum7souWD/At0SJ8fVgPw3Iuahxymc/MSNhhJWvcD/bTfBN02d3P2zb5nxnaoA/CD5h5MAGhz8NmeH1TyaQP+zrCsc9p5Y/LbKd76fGnz/bLW5ISEmmPww9YvTcQq8/JV2OstnstT8Er5Y7M8G+P0c+r3jqkcU/5h99k6ZBzj88bCIzFzjVP4enV8oyxN0//yH99nXg5D8qOpLLf0jtP5kqGJXUifQ/c9cS8kHP/D+/DpwzojQEQIEmwoanVwxA4lgXt9HgE0BSSZ2AJuIbQAMJih9jjiNA5q4l5INuK0AwTKYKRj0zQNv5fmq8/DpAaCJseHrtQkB/+zpwzoxKQM3MzMzMeFJAZmZmZmZqWEAAAAAAAFxeQM3MzMzMJmJAmpmZmZkfZUBmZmZmZhhoQDMzMzMzEWtAAAAAAAAKbkBmZmZmZoFwQM3MzMzM/XFAMzMzMzN6c0CamZmZmfZ0QAAAAAAAc3ZAZmZmZmbvd0DNzMzMzGt5QDMzMzMz6HpAmpmZmZlkfEAAAAAAAOF9QGZmZmZmXX9AZmZmZuZsgECamZmZGSuBQM3MzMxM6YFAAAAAAICngkAzMzMzs2WDQGZmZmbmI4RAmpmZmRnihEDNzMzMTKCFQAAAAACAXoZAMzMzM7Mch0BmZmZm5tqHQJqZmZkZmYhAzczMzExXiUAAAAAAgBWKQDMzMzOz04pAZmZmZuaRi0CamZmZGVCMQM3MzMxMDo1AAAAAAIDMjUAzMzMzs4qOQGZmZmbmSI9A\",\"dtype\":\"float64\",\"shape\":[75]}},\"selected\":{\"id\":\"3289d9d1-97fe-43e7-b730-adacad9bf93e\",\"type\":\"Selection\"},\"selection_policy\":{\"id\":\"01d742b9-7ff0-4b00-a5f0-9bcdedd673dc\",\"type\":\"UnionRenderers\"}},\"id\":\"91024c38-f736-40ab-abf2-6352e3739849\",\"type\":\"ColumnDataSource\"},{\"attributes\":{\"fill_alpha\":{\"value\":0.7},\"fill_color\":{\"value\":\"#984ea3\"},\"line_alpha\":{\"value\":0.7},\"line_color\":{\"value\":\"#984ea3\"},\"x\":{\"field\":\"x\"},\"y\":{\"field\":\"y\"}},\"id\":\"e2b9b9ae-3dda-4887-a1cb-48859f3640f8\",\"type\":\"Square\"},{\"attributes\":{\"source\":{\"id\":\"3d591cb1-2e04-4090-90f2-5fdd02102c12\",\"type\":\"ColumnDataSource\"}},\"id\":\"baf86105-dd18-47fb-baae-ca7a7dae3c80\",\"type\":\"CDSView\"},{\"attributes\":{\"callback\":null,\"data\":{\"x\":{\"__ndarray__\":\"yNKG0sNdg74L98RgDY+DvnMBwKtRyoO+/imouAEthL6Bs5Amg4KEvnjlHbnSv4S+KvifjgEVhb4OmQxfuGWFviDjeXg6vIW+efQr0hQNhr7qh7r1rl2Gvg7A9tdJsoa+LTqs8XoFh75GQS9zeXCHvq11A97R3Yi+9Oh16qN9i77hjoPo7bONvtH7CPBDzo2+ekDX+EOcib62FLxbDrx6vq4J05KxZno+ANxd/4sHnT5l6iUwFuijPuuVe2G/np0+3zj7R/ncjT66dNA+MU1PPmi0faw8foC+lfYp0elHi77Nuu1dgLKQviOtZHY6cZK+BkmByQWVk75F7Oz6wp2UvjdhrhqC6pW+tFMu6fy5l75C5cTtRY2ZvvdjKCf1KJu+1sURj8NJnr7thkrM4iujvnPcXMp3Kqq+ZGl+Sratsr4co7FCTgLBvoQQejsABte+UqdPj2BO6r4/lX5Rli76vrmqoUIXJQe/iV6BfrpcEr/FlPuiPC8av5H9fG/dWiC/hYbb3RReIL8xLMerxDcYv6amlPcnq9a+5D80M82vJT8diSDMYzI+P02m76DhcU4/M1uzBsi/Wj/G56b6ArRlP9nVPZnTqnA/kLVLgsyaeD8K95ami4OBPw0cW8WeGog/VlXSBDZZkD/AssDBWIuVPyera7IbvZs/dFZf67+/oj+KL/Q3inSoP8yIjsHjC68/8mJPpeBVsz/RD2LoirK2P0mrrRp8SLo/jgqU+7pfvj+d3t6YEofBP4tq16XCL8Q/uUZ4OfQvxz83xgxcN4jKP27pyeMGT84/\",\"dtype\":\"float64\",\"shape\":[75]},\"y\":{\"__ndarray__\":\"GhExyth1ND/Sv8nbtpRIP2vylNV0PVE/aTum7souWD/At0SJ8fVgPw3Iuahxymc/MSNhhJWvcD/bTfBN02d3P2zb5nxnaoA/CD5h5MAGhz8NmeH1TyaQP+zrCsc9p5Y/LbKd76fGnz/bLW5ISEmmPww9YvTcQq8/JV2OstnstT8Er5Y7M8G+P0c+r3jqkcU/5h99k6ZBzj88bCIzFzjVP4enV8oyxN0//yH99nXg5D8qOpLLf0jtP5kqGJXUifQ/c9cS8kHP/D+/DpwzojQEQIEmwoanVwxA4lgXt9HgE0BSSZ2AJuIbQAMJih9jjiNA5q4l5INuK0AwTKYKRj0zQNv5fmq8/DpAaCJseHrtQkB/+zpwzoxKQM3MzMzMeFJAZmZmZmZqWEAAAAAAAFxeQM3MzMzMJmJAmpmZmZkfZUBmZmZmZhhoQDMzMzMzEWtAAAAAAAAKbkBmZmZmZoFwQM3MzMzM/XFAMzMzMzN6c0CamZmZmfZ0QAAAAAAAc3ZAZmZmZmbvd0DNzMzMzGt5QDMzMzMz6HpAmpmZmZlkfEAAAAAAAOF9QGZmZmZmXX9AZmZmZuZsgECamZmZGSuBQM3MzMxM6YFAAAAAAICngkAzMzMzs2WDQGZmZmbmI4RAmpmZmRnihEDNzMzMTKCFQAAAAACAXoZAMzMzM7Mch0BmZmZm5tqHQJqZmZkZmYhAzczMzExXiUAAAAAAgBWKQDMzMzOz04pAZmZmZuaRi0CamZmZGVCMQM3MzMxMDo1AAAAAAIDMjUAzMzMzs4qOQGZmZmbmSI9A\",\"dtype\":\"float64\",\"shape\":[75]}},\"selected\":{\"id\":\"c5c7367a-cc4a-4ae9-b2aa-e2bfe2e04048\",\"type\":\"Selection\"},\"selection_policy\":{\"id\":\"eff97880-30bb-4a0f-b934-45432806c513\",\"type\":\"UnionRenderers\"}},\"id\":\"f0345905-a1d6-450d-8e43-89d1947fd433\",\"type\":\"ColumnDataSource\"},{\"attributes\":{\"source\":{\"id\":\"91024c38-f736-40ab-abf2-6352e3739849\",\"type\":\"ColumnDataSource\"}},\"id\":\"811feb5e-ebf1-4a88-a255-faf1719b6d22\",\"type\":\"CDSView\"},{\"attributes\":{\"fill_alpha\":{\"value\":0.1},\"fill_color\":{\"value\":\"#1f77b4\"},\"line_alpha\":{\"value\":0.1},\"line_color\":{\"value\":\"#1f77b4\"},\"x\":{\"field\":\"x\"},\"y\":{\"field\":\"y\"}},\"id\":\"0aad1e70-9f8a-4270-93bc-ab306be6add1\",\"type\":\"Square\"},{\"attributes\":{\"above\":[{\"id\":\"e096fe35-a96b-46d6-9cbe-a6a3502854d8\",\"type\":\"Legend\"}],\"below\":[{\"id\":\"56f2bdff-87fe-45ef-bd3a-e3ee1254a345\",\"type\":\"LinearAxis\"}],\"left\":[{\"id\":\"c5f7a6e3-5d94-4f06-a33c-d6661e473667\",\"type\":\"LogAxis\"}],\"plot_height\":500,\"plot_width\":400,\"renderers\":[{\"id\":\"56f2bdff-87fe-45ef-bd3a-e3ee1254a345\",\"type\":\"LinearAxis\"},{\"id\":\"029b96d9-0f81-436d-9800-5683213a06a5\",\"type\":\"Grid\"},{\"id\":\"c5f7a6e3-5d94-4f06-a33c-d6661e473667\",\"type\":\"LogAxis\"},{\"id\":\"3b3eece4-750f-433b-b6cb-cc76bb8c3e05\",\"type\":\"Grid\"},{\"id\":\"1da2ffbd-b8e9-4180-8cd0-b049154e9f14\",\"type\":\"BoxAnnotation\"},{\"id\":\"b3628874-d70e-4717-a0a1-6538139aa9b0\",\"type\":\"GlyphRenderer\"},{\"id\":\"ba78e21f-aa0d-4175-8b4f-4beaa19fc3c8\",\"type\":\"GlyphRenderer\"},{\"id\":\"e006880d-010a-4268-a0d2-61cb45ca3d5e\",\"type\":\"GlyphRenderer\"},{\"id\":\"d824c644-007f-4852-a175-804b60d2c42d\",\"type\":\"GlyphRenderer\"},{\"id\":\"b5b0ff50-952f-45ed-b87b-1949ce3bd756\",\"type\":\"GlyphRenderer\"},{\"id\":\"cf678302-9ee5-43cc-9e26-30841bd5cde9\",\"type\":\"GlyphRenderer\"},{\"id\":\"e096fe35-a96b-46d6-9cbe-a6a3502854d8\",\"type\":\"Legend\"}],\"title\":{\"id\":\"5aa7ca3f-ab21-4b04-b324-d83ad5f0dff9\",\"type\":\"Title\"},\"toolbar\":{\"id\":\"a488ccf0-e75e-4175-9ab4-7f9a85af49fe\",\"type\":\"Toolbar\"},\"toolbar_location\":null,\"x_range\":{\"id\":\"94cad7d2-76e7-426d-bde5-b19e5800b96c\",\"type\":\"Range1d\"},\"x_scale\":{\"id\":\"f1b5854e-32c6-4063-b703-f7c908947df4\",\"type\":\"LinearScale\"},\"y_range\":{\"id\":\"eccb0ed4-c8f1-417a-ba0c-f70a79758a5d\",\"type\":\"Range1d\"},\"y_scale\":{\"id\":\"e8bccbdc-6e91-4a9e-b591-95980074b0bd\",\"type\":\"LogScale\"}},\"id\":\"5da100a7-dfdb-4453-aa32-54bab11d4117\",\"subtype\":\"Figure\",\"type\":\"Plot\"},{\"attributes\":{\"source\":{\"id\":\"f0345905-a1d6-450d-8e43-89d1947fd433\",\"type\":\"ColumnDataSource\"}},\"id\":\"323ea009-d472-4020-8f9d-aa9996d5a8ca\",\"type\":\"CDSView\"},{\"attributes\":{\"source\":{\"id\":\"6d497011-c9aa-48fd-a6df-975486c05140\",\"type\":\"ColumnDataSource\"}},\"id\":\"7b1d388c-598f-49e9-9414-8ff0f7b8d1cb\",\"type\":\"CDSView\"},{\"attributes\":{\"line_alpha\":0.3,\"line_color\":\"#377eb8\",\"line_width\":2,\"x\":{\"field\":\"x\"},\"y\":{\"field\":\"y\"}},\"id\":\"252dc1cc-ac77-46dc-89bd-9a29faee74ea\",\"type\":\"Line\"},{\"attributes\":{\"source\":{\"id\":\"577b285c-dd47-4d34-89c8-891c2a55358c\",\"type\":\"ColumnDataSource\"}},\"id\":\"25894f05-97f3-46a5-97bf-4567e3a8cdf4\",\"type\":\"CDSView\"},{\"attributes\":{\"data_source\":{\"id\":\"6d497011-c9aa-48fd-a6df-975486c05140\",\"type\":\"ColumnDataSource\"},\"glyph\":{\"id\":\"7b8fcfbd-df38-475a-8d7d-c8159ab6878d\",\"type\":\"Line\"},\"hover_glyph\":null,\"muted_glyph\":null,\"nonselection_glyph\":{\"id\":\"e7886828-dd60-49d1-b5ec-0d9f0642d99f\",\"type\":\"Line\"},\"selection_glyph\":null,\"view\":{\"id\":\"7b1d388c-598f-49e9-9414-8ff0f7b8d1cb\",\"type\":\"CDSView\"}},\"id\":\"87a0ae8e-f4dc-41d0-9e12-06a81bec56aa\",\"type\":\"GlyphRenderer\"},{\"attributes\":{\"callback\":null,\"data\":{\"x\":{\"__ndarray__\":\"rXUT+TJFgr4BWQAo0YiCvnPEoXdcw4K+JzIAqMMRg74oAXY0W2uDvqgff4ADooO+7yTSasz9g76p02++XEWEvp5c/J9gk4S+3TtCD4HihL40AKgU5DGFvgKeaTc9goW+51bWd8fRhb4iGFqDTDmGvt+rl64RmYe+n37/LP0lir4dkQ8Hsl+MviyvA3/qsIy+kP24JTQUib7z1GFJYid8vsDS36GWQHQ+V37WniGgmT5k0cqnVsShPkC99IljKJo+cv2Ij4BWiT4kFS3do2Ybvvs/9MzgBoG+rNz04wjKir7UXiDsIiKQvi31VQOnrZG+tQAdudGukr7zR1i94JuTvj91717OzJS+xfwxVEJ7lr5nmhb0FCyYvm/kPcJyqJm+aA5JY5OYnL64HmYCohuivpMjKEJTvqi+pwFYOSSwsb5RK98DZyLAvp5yS+yL4tW+pNbqGP8R6b5QUq/+AAn5vsSlY0+xOga/4fH1wbG+Eb+5qcBaookZv3LRojORMSC/qMCUz2awIL/aIYwi8Mkav6RrOMIoXP2+w9l4n3wRID/+imngb0Y5P0RpYNvlbEo/9spUu4GmVz8MZQGMEGJjPyMHL/UI+W0/fsR5Qc43dj8EP5PFSdZ/P8PyDaMlMYY/2EMXrvApjj81RDvFr/qTP+8hbyaX4Jk/fP+0i0iYoT+hDAxb3hWnPwWxmWcYg60/IfnbgsuBsj+8bNZBp+W1P5oawfYuhrk/T5KumXyzvT/PumfZakHBP+JqjdaLAMQ/DSyyY0Qexz/kYUYdwp3KP/EGoGpXlc4/\",\"dtype\":\"float64\",\"shape\":[75]},\"y\":{\"__ndarray__\":\"GhExyth1ND/Sv8nbtpRIP2vylNV0PVE/aTum7souWD/At0SJ8fVgPw3Iuahxymc/MSNhhJWvcD/bTfBN02d3P2zb5nxnaoA/CD5h5MAGhz8NmeH1TyaQP+zrCsc9p5Y/LbKd76fGnz/bLW5ISEmmPww9YvTcQq8/JV2OstnstT8Er5Y7M8G+P0c+r3jqkcU/5h99k6ZBzj88bCIzFzjVP4enV8oyxN0//yH99nXg5D8qOpLLf0jtP5kqGJXUifQ/c9cS8kHP/D+/DpwzojQEQIEmwoanVwxA4lgXt9HgE0BSSZ2AJuIbQAMJih9jjiNA5q4l5INuK0AwTKYKRj0zQNv5fmq8/DpAaCJseHrtQkB/+zpwzoxKQM3MzMzMeFJAZmZmZmZqWEAAAAAAAFxeQM3MzMzMJmJAmpmZmZkfZUBmZmZmZhhoQDMzMzMzEWtAAAAAAAAKbkBmZmZmZoFwQM3MzMzM/XFAMzMzMzN6c0CamZmZmfZ0QAAAAAAAc3ZAZmZmZmbvd0DNzMzMzGt5QDMzMzMz6HpAmpmZmZlkfEAAAAAAAOF9QGZmZmZmXX9AZmZmZuZsgECamZmZGSuBQM3MzMxM6YFAAAAAAICngkAzMzMzs2WDQGZmZmbmI4RAmpmZmRnihEDNzMzMTKCFQAAAAACAXoZAMzMzM7Mch0BmZmZm5tqHQJqZmZkZmYhAzczMzExXiUAAAAAAgBWKQDMzMzOz04pAZmZmZuaRi0CamZmZGVCMQM3MzMxMDo1AAAAAAIDMjUAzMzMzs4qOQGZmZmbmSI9A\",\"dtype\":\"float64\",\"shape\":[75]}},\"selected\":{\"id\":\"bb0b241e-8bd4-4288-a3ce-b2f7ddd5959f\",\"type\":\"Selection\"},\"selection_policy\":{\"id\":\"4fc6ced3-c2cd-4c94-9dc1-a689c342743b\",\"type\":\"UnionRenderers\"}},\"id\":\"577b285c-dd47-4d34-89c8-891c2a55358c\",\"type\":\"ColumnDataSource\"},{\"attributes\":{\"fill_alpha\":{\"value\":0.7},\"fill_color\":{\"value\":\"#377eb8\"},\"line_alpha\":{\"value\":0.7},\"line_color\":{\"value\":\"#377eb8\"},\"x\":{\"field\":\"x\"},\"y\":{\"field\":\"y\"}},\"id\":\"68bddb46-378a-4fd5-a727-1a5323f0aa90\",\"type\":\"Triangle\"},{\"attributes\":{\"line_alpha\":0.6,\"line_color\":\"#984ea3\",\"line_width\":3,\"x\":{\"field\":\"x\"},\"y\":{\"field\":\"y\"}},\"id\":\"d190d798-8a3f-4500-8fb2-170a83471a14\",\"type\":\"Line\"},{\"attributes\":{\"data_source\":{\"id\":\"577b285c-dd47-4d34-89c8-891c2a55358c\",\"type\":\"ColumnDataSource\"},\"glyph\":{\"id\":\"252dc1cc-ac77-46dc-89bd-9a29faee74ea\",\"type\":\"Line\"},\"hover_glyph\":null,\"muted_glyph\":null,\"nonselection_glyph\":{\"id\":\"26133760-56d4-42bf-bb1c-e7b4a86f9644\",\"type\":\"Line\"},\"selection_glyph\":null,\"view\":{\"id\":\"25894f05-97f3-46a5-97bf-4567e3a8cdf4\",\"type\":\"CDSView\"}},\"id\":\"369cfe4f-30e3-4f86-8a34-636a5c9a4f1c\",\"type\":\"GlyphRenderer\"},{\"attributes\":{\"active_drag\":\"auto\",\"active_inspect\":\"auto\",\"active_scroll\":\"auto\",\"active_tap\":\"auto\",\"tools\":[{\"id\":\"09df1dc8-f4d0-47b4-9aaa-52bc573698da\",\"type\":\"PanTool\"},{\"id\":\"1b209909-d224-4120-899a-2d4b8b81a85e\",\"type\":\"WheelZoomTool\"},{\"id\":\"d3939a34-5166-479c-946d-751921a908eb\",\"type\":\"BoxZoomTool\"},{\"id\":\"63feac87-7b8b-47ad-9be6-6cc02a5db301\",\"type\":\"SaveTool\"},{\"id\":\"68a810d7-30ae-4872-a401-1d83bc522d86\",\"type\":\"ResetTool\"},{\"id\":\"34def790-390d-4fdc-9afc-b5d213708c2d\",\"type\":\"HelpTool\"}]},\"id\":\"a488ccf0-e75e-4175-9ab4-7f9a85af49fe\",\"type\":\"Toolbar\"},{\"attributes\":{\"label\":{\"value\":\"CRD\"},\"renderers\":[{\"id\":\"f0263a6e-b68f-41d5-a2dd-e8ae3b49d41f\",\"type\":\"GlyphRenderer\"},{\"id\":\"87a0ae8e-f4dc-41d0-9e12-06a81bec56aa\",\"type\":\"GlyphRenderer\"}]},\"id\":\"a818b5c8-eb54-4216-a005-0f0df307e8c6\",\"type\":\"LegendItem\"},{\"attributes\":{\"callback\":null,\"end\":8.471605215e-07,\"start\":-2.1499025715000002e-06},\"id\":\"94cad7d2-76e7-426d-bde5-b19e5800b96c\",\"type\":\"Range1d\"},{\"attributes\":{\"label\":{\"value\":\"WGT igg=1\"},\"renderers\":[{\"id\":\"4324a918-557d-4599-ab58-5ce917bcf781\",\"type\":\"GlyphRenderer\"},{\"id\":\"7d26a471-d37c-4c76-ae49-b6feef945e26\",\"type\":\"GlyphRenderer\"}]},\"id\":\"bd976b62-494a-4235-bed8-7bcc8ea5e76e\",\"type\":\"LegendItem\"},{\"attributes\":{},\"id\":\"f1b5854e-32c6-4063-b703-f7c908947df4\",\"type\":\"LinearScale\"},{\"attributes\":{\"label\":{\"value\":\"WGT igg=10\"},\"renderers\":[{\"id\":\"ead85f8e-f55f-4562-b34a-fb75382e7e1a\",\"type\":\"GlyphRenderer\"},{\"id\":\"369cfe4f-30e3-4f86-8a34-636a5c9a4f1c\",\"type\":\"GlyphRenderer\"}]},\"id\":\"9bbd03f6-2d60-4184-85d8-e713cf218d23\",\"type\":\"LegendItem\"},{\"attributes\":{\"bottom_units\":\"screen\",\"fill_alpha\":{\"value\":0.5},\"fill_color\":{\"value\":\"lightgrey\"},\"left_units\":\"screen\",\"level\":\"overlay\",\"line_alpha\":{\"value\":1.0},\"line_color\":{\"value\":\"black\"},\"line_dash\":[4,4],\"line_width\":{\"value\":2},\"plot\":null,\"render_mode\":\"css\",\"right_units\":\"screen\",\"top_units\":\"screen\"},\"id\":\"1da2ffbd-b8e9-4180-8cd0-b049154e9f14\",\"type\":\"BoxAnnotation\"},{\"attributes\":{\"items\":[{\"id\":\"42f1f8c5-2ac5-4c58-9c2f-9d2b5a88de59\",\"type\":\"LegendItem\"},{\"id\":\"bb809e38-cdc3-4c18-8dea-955cb6bdf96d\",\"type\":\"LegendItem\"},{\"id\":\"81440204-1a51-4887-b54e-4d9455554664\",\"type\":\"LegendItem\"}],\"label_text_font_size\":{\"value\":\"8pt\"},\"location\":\"top_center\",\"orientation\":\"horizontal\",\"plot\":{\"id\":\"5da100a7-dfdb-4453-aa32-54bab11d4117\",\"subtype\":\"Figure\",\"type\":\"Plot\"}},\"id\":\"e096fe35-a96b-46d6-9cbe-a6a3502854d8\",\"type\":\"Legend\"},{\"attributes\":{},\"id\":\"1b209909-d224-4120-899a-2d4b8b81a85e\",\"type\":\"WheelZoomTool\"},{\"attributes\":{},\"id\":\"e8bccbdc-6e91-4a9e-b591-95980074b0bd\",\"type\":\"LogScale\"},{\"attributes\":{\"axis_label\":\"cooling rate [K/day]\",\"formatter\":{\"id\":\"47588d8f-1a69-47d9-8003-22d1e5757fd0\",\"type\":\"BasicTickFormatter\"},\"plot\":{\"id\":\"5da100a7-dfdb-4453-aa32-54bab11d4117\",\"subtype\":\"Figure\",\"type\":\"Plot\"},\"ticker\":{\"id\":\"9caca78c-f38a-4e30-b0c7-440452628bcf\",\"type\":\"BasicTicker\"}},\"id\":\"56f2bdff-87fe-45ef-bd3a-e3ee1254a345\",\"type\":\"LinearAxis\"},{\"attributes\":{},\"id\":\"9caca78c-f38a-4e30-b0c7-440452628bcf\",\"type\":\"BasicTicker\"},{\"attributes\":{\"overlay\":{\"id\":\"1da2ffbd-b8e9-4180-8cd0-b049154e9f14\",\"type\":\"BoxAnnotation\"}},\"id\":\"d3939a34-5166-479c-946d-751921a908eb\",\"type\":\"BoxZoomTool\"},{\"attributes\":{},\"id\":\"63feac87-7b8b-47ad-9be6-6cc02a5db301\",\"type\":\"SaveTool\"},{\"attributes\":{},\"id\":\"68a810d7-30ae-4872-a401-1d83bc522d86\",\"type\":\"ResetTool\"},{\"attributes\":{},\"id\":\"34def790-390d-4fdc-9afc-b5d213708c2d\",\"type\":\"HelpTool\"},{\"attributes\":{},\"id\":\"01d742b9-7ff0-4b00-a5f0-9bcdedd673dc\",\"type\":\"UnionRenderers\"},{\"attributes\":{\"fill_alpha\":{\"value\":0.7},\"fill_color\":{\"value\":\"#4daf4a\"},\"line_alpha\":{\"value\":0.7},\"line_color\":{\"value\":\"#4daf4a\"},\"x\":{\"field\":\"x\"},\"y\":{\"field\":\"y\"}},\"id\":\"9d9e29ba-ed49-4a3f-8c7a-3d89d07c3fa7\",\"type\":\"Circle\"},{\"attributes\":{\"callback\":null,\"data\":{\"x\":{\"__ndarray__\":\"O5TShbfkhb7yvtYHscyFvqxJUm2pzYa+rEryY9CEhr6hSPOfOE6HvmWBh3/tpoe+nJGrxyi8h75Kt2XDDkuIvropcnLEmIi+jNb0kQrsiL6kDWKQSkaJvlSH8QGEnIm+PBk+6uX/ib53bmPGhWqKvvstNxRH8Yu+Ze+yHGmYjr6t8hDH0kKQvgb7Z5YRpY++QYwL8uM3ib4rgzC/70hxvqCg7LP8yIk+0ipNiDurpD5vdq7Zp3CrPny+zspwCaU+NmIgcxONlz70plpJyUN3Pucj161YL3i+qKXkqUEnir74Pl9cbxqRvvkOX5csY5O+/QaikWrLlL7eroiEWe+Vvqs7ZDp1QZe+kmxx+O0Mmb616QYR+MuavrNySRh0PJy+Pj5jD+JQn778uR9D+OOjvsSj9Ok8Tqu+antxR6WKs756IoP6x8nBvjK+0VgeANi+VTCpyVE/6750h2tYw9b6vpY2U2oBWge/88yDahcUEr9VqqjJj8cYv8R4je8/0xy/gxoJBSOQGL+uqjD+crQBv0qlEgtaXhk/vT2ZXCfhNT8DDZeBqahHP1FdrVVqllU/UvWtQkr0YT9CgvyJXg9sPw7wstTy8nQ/KbDuwlAzfj9jomQZsh+FP+CyONPs0Iw/gvPz8K8vkz/LUnbwz+mYP3316V8voJ8/0Mo3h90KpT/KuUwB9PGqP/Q11dcWxbA/kYSC9EJxtD+yUzJUU3+3PxGWZxSBoLo/zijIlZskvj+9pigTjgvBP0aHE9pqPcM/kcBZKYiqxT98XjPx9VLIP0sJHGTtSss/\",\"dtype\":\"float64\",\"shape\":[75]},\"y\":{\"__ndarray__\":\"GhExyth1ND/Sv8nbtpRIP2vylNV0PVE/aTum7souWD/At0SJ8fVgPw3Iuahxymc/MSNhhJWvcD/bTfBN02d3P2zb5nxnaoA/CD5h5MAGhz8NmeH1TyaQP+zrCsc9p5Y/LbKd76fGnz/bLW5ISEmmPww9YvTcQq8/JV2OstnstT8Er5Y7M8G+P0c+r3jqkcU/5h99k6ZBzj88bCIzFzjVP4enV8oyxN0//yH99nXg5D8qOpLLf0jtP5kqGJXUifQ/c9cS8kHP/D+/DpwzojQEQIEmwoanVwxA4lgXt9HgE0BSSZ2AJuIbQAMJih9jjiNA5q4l5INuK0AwTKYKRj0zQNv5fmq8/DpAaCJseHrtQkB/+zpwzoxKQM3MzMzMeFJAZmZmZmZqWEAAAAAAAFxeQM3MzMzMJmJAmpmZmZkfZUBmZmZmZhhoQDMzMzMzEWtAAAAAAAAKbkBmZmZmZoFwQM3MzMzM/XFAMzMzMzN6c0CamZmZmfZ0QAAAAAAAc3ZAZmZmZmbvd0DNzMzMzGt5QDMzMzMz6HpAmpmZmZlkfEAAAAAAAOF9QGZmZmZmXX9AZmZmZuZsgECamZmZGSuBQM3MzMxM6YFAAAAAAICngkAzMzMzs2WDQGZmZmbmI4RAmpmZmRnihEDNzMzMTKCFQAAAAACAXoZAMzMzM7Mch0BmZmZm5tqHQJqZmZkZmYhAzczMzExXiUAAAAAAgBWKQDMzMzOz04pAZmZmZuaRi0CamZmZGVCMQM3MzMxMDo1AAAAAAIDMjUAzMzMzs4qOQGZmZmbmSI9A\",\"dtype\":\"float64\",\"shape\":[75]}},\"selected\":{\"id\":\"7e919ecd-d3a9-4541-a64e-6b8541a48e41\",\"type\":\"Selection\"},\"selection_policy\":{\"id\":\"f55b0186-93c1-45f8-80ca-061685bdc99f\",\"type\":\"UnionRenderers\"}},\"id\":\"051b373f-5f80-46a5-b477-e50e671d05e4\",\"type\":\"ColumnDataSource\"},{\"attributes\":{\"fill_alpha\":{\"value\":0.1},\"fill_color\":{\"value\":\"#1f77b4\"},\"line_alpha\":{\"value\":0.1},\"line_color\":{\"value\":\"#1f77b4\"},\"x\":{\"field\":\"x\"},\"y\":{\"field\":\"y\"}},\"id\":\"db761cf6-d36d-4c29-a885-832e4acc008f\",\"type\":\"Circle\"},{\"attributes\":{},\"id\":\"5da4627e-263e-4708-9cbf-afc5fa4367c8\",\"type\":\"UnionRenderers\"},{\"attributes\":{\"callback\":null,\"end\":0.01,\"start\":1020},\"id\":\"eccb0ed4-c8f1-417a-ba0c-f70a79758a5d\",\"type\":\"Range1d\"},{\"attributes\":{\"data_source\":{\"id\":\"051b373f-5f80-46a5-b477-e50e671d05e4\",\"type\":\"ColumnDataSource\"},\"glyph\":{\"id\":\"9d9e29ba-ed49-4a3f-8c7a-3d89d07c3fa7\",\"type\":\"Circle\"},\"hover_glyph\":null,\"muted_glyph\":null,\"nonselection_glyph\":{\"id\":\"db761cf6-d36d-4c29-a885-832e4acc008f\",\"type\":\"Circle\"},\"selection_glyph\":null,\"view\":{\"id\":\"c1d69a7c-97f3-487b-87c0-714fbc135185\",\"type\":\"CDSView\"}},\"id\":\"b3628874-d70e-4717-a0a1-6538139aa9b0\",\"type\":\"GlyphRenderer\"},{\"attributes\":{\"dimension\":1,\"plot\":{\"id\":\"86e28d6b-0773-4ef6-8a9e-892e0745158c\",\"subtype\":\"Figure\",\"type\":\"Plot\"},\"ticker\":{\"id\":\"ae3621c2-a252-4a9a-88e9-51ef55de4364\",\"type\":\"BasicTicker\"}},\"id\":\"c1782834-2f98-4373-b212-98c50059b776\",\"type\":\"Grid\"},{\"attributes\":{},\"id\":\"ae3621c2-a252-4a9a-88e9-51ef55de4364\",\"type\":\"BasicTicker\"},{\"attributes\":{},\"id\":\"dbc79323-a254-4ca5-aad2-2e62f85076de\",\"type\":\"PanTool\"},{\"attributes\":{\"axis_label\":\"pressure [mb]\",\"formatter\":{\"id\":\"be016be8-dcf8-48e0-83f0-d7a0906c1656\",\"type\":\"BasicTickFormatter\"},\"plot\":{\"id\":\"86e28d6b-0773-4ef6-8a9e-892e0745158c\",\"subtype\":\"Figure\",\"type\":\"Plot\"},\"ticker\":{\"id\":\"ae3621c2-a252-4a9a-88e9-51ef55de4364\",\"type\":\"BasicTicker\"}},\"id\":\"b14d14e3-bfc3-44d2-9580-34bb4619c993\",\"type\":\"LinearAxis\"},{\"attributes\":{\"above\":[{\"id\":\"87e0b0d3-d399-41a9-9f99-fe570934eca4\",\"type\":\"Legend\"}],\"below\":[{\"id\":\"d7d13c0e-d046-4ee3-bdb2-4e23e3f4760d\",\"type\":\"LinearAxis\"}],\"left\":[{\"id\":\"b14d14e3-bfc3-44d2-9580-34bb4619c993\",\"type\":\"LinearAxis\"}],\"plot_height\":500,\"plot_width\":400,\"renderers\":[{\"id\":\"d7d13c0e-d046-4ee3-bdb2-4e23e3f4760d\",\"type\":\"LinearAxis\"},{\"id\":\"df4792e6-d13b-483b-9ff5-03511939a8e3\",\"type\":\"Grid\"},{\"id\":\"b14d14e3-bfc3-44d2-9580-34bb4619c993\",\"type\":\"LinearAxis\"},{\"id\":\"c1782834-2f98-4373-b212-98c50059b776\",\"type\":\"Grid\"},{\"id\":\"47eaa3fc-509a-45a1-b000-9a5551ec880b\",\"type\":\"BoxAnnotation\"},{\"id\":\"f0263a6e-b68f-41d5-a2dd-e8ae3b49d41f\",\"type\":\"GlyphRenderer\"},{\"id\":\"87a0ae8e-f4dc-41d0-9e12-06a81bec56aa\",\"type\":\"GlyphRenderer\"},{\"id\":\"4324a918-557d-4599-ab58-5ce917bcf781\",\"type\":\"GlyphRenderer\"},{\"id\":\"7d26a471-d37c-4c76-ae49-b6feef945e26\",\"type\":\"GlyphRenderer\"},{\"id\":\"ead85f8e-f55f-4562-b34a-fb75382e7e1a\",\"type\":\"GlyphRenderer\"},{\"id\":\"369cfe4f-30e3-4f86-8a34-636a5c9a4f1c\",\"type\":\"GlyphRenderer\"},{\"id\":\"87e0b0d3-d399-41a9-9f99-fe570934eca4\",\"type\":\"Legend\"}],\"title\":{\"id\":\"01b65a56-3b21-482a-befa-ec3a98b50675\",\"type\":\"Title\"},\"toolbar\":{\"id\":\"2e7d52ce-2f1d-4914-85cd-7b40fedb45f3\",\"type\":\"Toolbar\"},\"toolbar_location\":null,\"x_range\":{\"id\":\"1e03254e-bbc4-4a4c-8f7b-14e5326b8260\",\"type\":\"Range1d\"},\"x_scale\":{\"id\":\"41573c15-3fa9-44ba-a806-a7c8e196a176\",\"type\":\"LinearScale\"},\"y_range\":{\"id\":\"6dc72820-a02e-447a-85b5-8d2f5cd32472\",\"type\":\"Range1d\"},\"y_scale\":{\"id\":\"b6992167-f479-45e1-857f-47c3d7209470\",\"type\":\"LinearScale\"}},\"id\":\"86e28d6b-0773-4ef6-8a9e-892e0745158c\",\"subtype\":\"Figure\",\"type\":\"Plot\"},{\"attributes\":{\"overlay\":{\"id\":\"47eaa3fc-509a-45a1-b000-9a5551ec880b\",\"type\":\"BoxAnnotation\"}},\"id\":\"aa76ccd2-0bd8-4183-8800-54124d6f148f\",\"type\":\"BoxZoomTool\"},{\"attributes\":{\"axis_label\":\"pressure [mb]\",\"formatter\":{\"id\":\"66768951-1d0c-417c-8441-1b4a1726be42\",\"type\":\"LogTickFormatter\"},\"plot\":{\"id\":\"5da100a7-dfdb-4453-aa32-54bab11d4117\",\"subtype\":\"Figure\",\"type\":\"Plot\"},\"ticker\":{\"id\":\"189581e7-b690-4f74-aab6-4b9fda116d4b\",\"type\":\"LogTicker\"}},\"id\":\"c5f7a6e3-5d94-4f06-a33c-d6661e473667\",\"type\":\"LogAxis\"},{\"attributes\":{},\"id\":\"f3d84da1-8d18-48bd-97b6-677152d0dc20\",\"type\":\"WheelZoomTool\"},{\"attributes\":{},\"id\":\"9773e124-191d-4433-b317-1262139e055d\",\"type\":\"ResetTool\"},{\"attributes\":{},\"id\":\"8ca43696-3cb0-447a-8de0-867c9c23cb2e\",\"type\":\"SaveTool\"},{\"attributes\":{\"plot\":{\"id\":\"5da100a7-dfdb-4453-aa32-54bab11d4117\",\"subtype\":\"Figure\",\"type\":\"Plot\"},\"ticker\":{\"id\":\"9caca78c-f38a-4e30-b0c7-440452628bcf\",\"type\":\"BasicTicker\"}},\"id\":\"029b96d9-0f81-436d-9800-5683213a06a5\",\"type\":\"Grid\"},{\"attributes\":{},\"id\":\"09df1dc8-f4d0-47b4-9aaa-52bc573698da\",\"type\":\"PanTool\"},{\"attributes\":{\"callback\":null,\"data\":{\"x\":{\"__ndarray__\":\"O5TShbfkhb7yvtYHscyFvqxJUm2pzYa+rEryY9CEhr6hSPOfOE6HvmWBh3/tpoe+nJGrxyi8h75Kt2XDDkuIvropcnLEmIi+jNb0kQrsiL6kDWKQSkaJvlSH8QGEnIm+PBk+6uX/ib53bmPGhWqKvvstNxRH8Yu+Ze+yHGmYjr6t8hDH0kKQvgb7Z5YRpY++QYwL8uM3ib4rgzC/70hxvqCg7LP8yIk+0ipNiDurpD5vdq7Zp3CrPny+zspwCaU+NmIgcxONlz70plpJyUN3Pucj161YL3i+qKXkqUEnir74Pl9cbxqRvvkOX5csY5O+/QaikWrLlL7eroiEWe+Vvqs7ZDp1QZe+kmxx+O0Mmb616QYR+MuavrNySRh0PJy+Pj5jD+JQn778uR9D+OOjvsSj9Ok8Tqu+antxR6WKs756IoP6x8nBvjK+0VgeANi+VTCpyVE/6750h2tYw9b6vpY2U2oBWge/88yDahcUEr9VqqjJj8cYv8R4je8/0xy/gxoJBSOQGL+uqjD+crQBv0qlEgtaXhk/vT2ZXCfhNT8DDZeBqahHP1FdrVVqllU/UvWtQkr0YT9CgvyJXg9sPw7wstTy8nQ/KbDuwlAzfj9jomQZsh+FP+CyONPs0Iw/gvPz8K8vkz/LUnbwz+mYP3316V8voJ8/0Mo3h90KpT/KuUwB9PGqP/Q11dcWxbA/kYSC9EJxtD+yUzJUU3+3PxGWZxSBoLo/zijIlZskvj+9pigTjgvBP0aHE9pqPcM/kcBZKYiqxT98XjPx9VLIP0sJHGTtSss/\",\"dtype\":\"float64\",\"shape\":[75]},\"y\":{\"__ndarray__\":\"GhExyth1ND/Sv8nbtpRIP2vylNV0PVE/aTum7souWD/At0SJ8fVgPw3Iuahxymc/MSNhhJWvcD/bTfBN02d3P2zb5nxnaoA/CD5h5MAGhz8NmeH1TyaQP+zrCsc9p5Y/LbKd76fGnz/bLW5ISEmmPww9YvTcQq8/JV2OstnstT8Er5Y7M8G+P0c+r3jqkcU/5h99k6ZBzj88bCIzFzjVP4enV8oyxN0//yH99nXg5D8qOpLLf0jtP5kqGJXUifQ/c9cS8kHP/D+/DpwzojQEQIEmwoanVwxA4lgXt9HgE0BSSZ2AJuIbQAMJih9jjiNA5q4l5INuK0AwTKYKRj0zQNv5fmq8/DpAaCJseHrtQkB/+zpwzoxKQM3MzMzMeFJAZmZmZmZqWEAAAAAAAFxeQM3MzMzMJmJAmpmZmZkfZUBmZmZmZhhoQDMzMzMzEWtAAAAAAAAKbkBmZmZmZoFwQM3MzMzM/XFAMzMzMzN6c0CamZmZmfZ0QAAAAAAAc3ZAZmZmZmbvd0DNzMzMzGt5QDMzMzMz6HpAmpmZmZlkfEAAAAAAAOF9QGZmZmZmXX9AZmZmZuZsgECamZmZGSuBQM3MzMxM6YFAAAAAAICngkAzMzMzs2WDQGZmZmbmI4RAmpmZmRnihEDNzMzMTKCFQAAAAACAXoZAMzMzM7Mch0BmZmZm5tqHQJqZmZkZmYhAzczMzExXiUAAAAAAgBWKQDMzMzOz04pAZmZmZuaRi0CamZmZGVCMQM3MzMxMDo1AAAAAAIDMjUAzMzMzs4qOQGZmZmbmSI9A\",\"dtype\":\"float64\",\"shape\":[75]}},\"selected\":{\"id\":\"028679e6-65dc-424c-9efe-acdaf5cb5b86\",\"type\":\"Selection\"},\"selection_policy\":{\"id\":\"25eb2612-0035-4ad1-9787-789c81179584\",\"type\":\"UnionRenderers\"}},\"id\":\"cdbf5347-191c-43c4-8dac-f7d0aa3ccc14\",\"type\":\"ColumnDataSource\"},{\"attributes\":{\"callback\":null,\"end\":0.01,\"start\":1020},\"id\":\"6dc72820-a02e-447a-85b5-8d2f5cd32472\",\"type\":\"Range1d\"},{\"attributes\":{},\"id\":\"a25d8ea3-8cb2-4762-abd1-66a10486a680\",\"type\":\"Selection\"},{\"attributes\":{},\"id\":\"e42fd365-1764-4bc7-aca9-23b4b8b4b42a\",\"type\":\"HelpTool\"},{\"attributes\":{\"bottom_units\":\"screen\",\"fill_alpha\":{\"value\":0.5},\"fill_color\":{\"value\":\"lightgrey\"},\"left_units\":\"screen\",\"level\":\"overlay\",\"line_alpha\":{\"value\":1.0},\"line_color\":{\"value\":\"black\"},\"line_dash\":[4,4],\"line_width\":{\"value\":2},\"plot\":null,\"render_mode\":\"css\",\"right_units\":\"screen\",\"top_units\":\"screen\"},\"id\":\"47eaa3fc-509a-45a1-b000-9a5551ec880b\",\"type\":\"BoxAnnotation\"},{\"attributes\":{\"line_color\":\"#4daf4a\",\"line_width\":1.5,\"x\":{\"field\":\"x\"},\"y\":{\"field\":\"y\"}},\"id\":\"7fcb9cd0-bc45-4559-8a4b-569bfd8795cf\",\"type\":\"Line\"},{\"attributes\":{\"callback\":null,\"data\":{\"x\":{\"__ndarray__\":\"yNKG0sNdg74L98RgDY+DvnMBwKtRyoO+/imouAEthL6Bs5Amg4KEvnjlHbnSv4S+KvifjgEVhb4OmQxfuGWFviDjeXg6vIW+efQr0hQNhr7qh7r1rl2Gvg7A9tdJsoa+LTqs8XoFh75GQS9zeXCHvq11A97R3Yi+9Oh16qN9i77hjoPo7bONvtH7CPBDzo2+ekDX+EOcib62FLxbDrx6vq4J05KxZno+ANxd/4sHnT5l6iUwFuijPuuVe2G/np0+3zj7R/ncjT66dNA+MU1PPmi0faw8foC+lfYp0elHi77Nuu1dgLKQviOtZHY6cZK+BkmByQWVk75F7Oz6wp2UvjdhrhqC6pW+tFMu6fy5l75C5cTtRY2ZvvdjKCf1KJu+1sURj8NJnr7thkrM4iujvnPcXMp3Kqq+ZGl+Sratsr4co7FCTgLBvoQQejsABte+UqdPj2BO6r4/lX5Rli76vrmqoUIXJQe/iV6BfrpcEr/FlPuiPC8av5H9fG/dWiC/hYbb3RReIL8xLMerxDcYv6amlPcnq9a+5D80M82vJT8diSDMYzI+P02m76DhcU4/M1uzBsi/Wj/G56b6ArRlP9nVPZnTqnA/kLVLgsyaeD8K95ami4OBPw0cW8WeGog/VlXSBDZZkD/AssDBWIuVPyera7IbvZs/dFZf67+/oj+KL/Q3inSoP8yIjsHjC68/8mJPpeBVsz/RD2LoirK2P0mrrRp8SLo/jgqU+7pfvj+d3t6YEofBP4tq16XCL8Q/uUZ4OfQvxz83xgxcN4jKP27pyeMGT84/\",\"dtype\":\"float64\",\"shape\":[75]},\"y\":{\"__ndarray__\":\"GhExyth1ND/Sv8nbtpRIP2vylNV0PVE/aTum7souWD/At0SJ8fVgPw3Iuahxymc/MSNhhJWvcD/bTfBN02d3P2zb5nxnaoA/CD5h5MAGhz8NmeH1TyaQP+zrCsc9p5Y/LbKd76fGnz/bLW5ISEmmPww9YvTcQq8/JV2OstnstT8Er5Y7M8G+P0c+r3jqkcU/5h99k6ZBzj88bCIzFzjVP4enV8oyxN0//yH99nXg5D8qOpLLf0jtP5kqGJXUifQ/c9cS8kHP/D+/DpwzojQEQIEmwoanVwxA4lgXt9HgE0BSSZ2AJuIbQAMJih9jjiNA5q4l5INuK0AwTKYKRj0zQNv5fmq8/DpAaCJseHrtQkB/+zpwzoxKQM3MzMzMeFJAZmZmZmZqWEAAAAAAAFxeQM3MzMzMJmJAmpmZmZkfZUBmZmZmZhhoQDMzMzMzEWtAAAAAAAAKbkBmZmZmZoFwQM3MzMzM/XFAMzMzMzN6c0CamZmZmfZ0QAAAAAAAc3ZAZmZmZmbvd0DNzMzMzGt5QDMzMzMz6HpAmpmZmZlkfEAAAAAAAOF9QGZmZmZmXX9AZmZmZuZsgECamZmZGSuBQM3MzMxM6YFAAAAAAICngkAzMzMzs2WDQGZmZmbmI4RAmpmZmRnihEDNzMzMTKCFQAAAAACAXoZAMzMzM7Mch0BmZmZm5tqHQJqZmZkZmYhAzczMzExXiUAAAAAAgBWKQDMzMzOz04pAZmZmZuaRi0CamZmZGVCMQM3MzMxMDo1AAAAAAIDMjUAzMzMzs4qOQGZmZmbmSI9A\",\"dtype\":\"float64\",\"shape\":[75]}},\"selected\":{\"id\":\"41f0cc2f-5ff8-4767-b6df-b8682ea3ab48\",\"type\":\"Selection\"},\"selection_policy\":{\"id\":\"aa409d21-102c-4a69-b015-09d070cbc6ce\",\"type\":\"UnionRenderers\"}},\"id\":\"115a222b-e7ca-472a-acc6-4718723c8f27\",\"type\":\"ColumnDataSource\"},{\"attributes\":{},\"id\":\"c5c7367a-cc4a-4ae9-b2aa-e2bfe2e04048\",\"type\":\"Selection\"},{\"attributes\":{},\"id\":\"0ada75af-855e-4db8-8583-1a8c1cb38f1f\",\"type\":\"BasicTicker\"},{\"attributes\":{\"source\":{\"id\":\"051b373f-5f80-46a5-b477-e50e671d05e4\",\"type\":\"ColumnDataSource\"}},\"id\":\"c1d69a7c-97f3-487b-87c0-714fbc135185\",\"type\":\"CDSView\"},{\"attributes\":{\"callback\":null,\"end\":0.2413231386749,\"start\":-0.0025179261649},\"id\":\"1e03254e-bbc4-4a4c-8f7b-14e5326b8260\",\"type\":\"Range1d\"},{\"attributes\":{\"axis_label\":\"cooling rate [K/day]\",\"formatter\":{\"id\":\"d544a89f-3cb9-47d2-9b67-b03e0364a0ab\",\"type\":\"BasicTickFormatter\"},\"plot\":{\"id\":\"86e28d6b-0773-4ef6-8a9e-892e0745158c\",\"subtype\":\"Figure\",\"type\":\"Plot\"},\"ticker\":{\"id\":\"0ada75af-855e-4db8-8583-1a8c1cb38f1f\",\"type\":\"BasicTicker\"}},\"id\":\"d7d13c0e-d046-4ee3-bdb2-4e23e3f4760d\",\"type\":\"LinearAxis\"},{\"attributes\":{},\"id\":\"3289d9d1-97fe-43e7-b730-adacad9bf93e\",\"type\":\"Selection\"},{\"attributes\":{\"callback\":null,\"data\":{\"x\":{\"__ndarray__\":\"yNKG0sNdg74L98RgDY+DvnMBwKtRyoO+/imouAEthL6Bs5Amg4KEvnjlHbnSv4S+KvifjgEVhb4OmQxfuGWFviDjeXg6vIW+efQr0hQNhr7qh7r1rl2Gvg7A9tdJsoa+LTqs8XoFh75GQS9zeXCHvq11A97R3Yi+9Oh16qN9i77hjoPo7bONvtH7CPBDzo2+ekDX+EOcib62FLxbDrx6vq4J05KxZno+ANxd/4sHnT5l6iUwFuijPuuVe2G/np0+3zj7R/ncjT66dNA+MU1PPmi0faw8foC+lfYp0elHi77Nuu1dgLKQviOtZHY6cZK+BkmByQWVk75F7Oz6wp2UvjdhrhqC6pW+tFMu6fy5l75C5cTtRY2ZvvdjKCf1KJu+1sURj8NJnr7thkrM4iujvnPcXMp3Kqq+ZGl+Sratsr4co7FCTgLBvoQQejsABte+UqdPj2BO6r4/lX5Rli76vrmqoUIXJQe/iV6BfrpcEr/FlPuiPC8av5H9fG/dWiC/hYbb3RReIL8xLMerxDcYv6amlPcnq9a+5D80M82vJT8diSDMYzI+P02m76DhcU4/M1uzBsi/Wj/G56b6ArRlP9nVPZnTqnA/kLVLgsyaeD8K95ami4OBPw0cW8WeGog/VlXSBDZZkD/AssDBWIuVPyera7IbvZs/dFZf67+/oj+KL/Q3inSoP8yIjsHjC68/8mJPpeBVsz/RD2LoirK2P0mrrRp8SLo/jgqU+7pfvj+d3t6YEofBP4tq16XCL8Q/uUZ4OfQvxz83xgxcN4jKP27pyeMGT84/\",\"dtype\":\"float64\",\"shape\":[75]},\"y\":{\"__ndarray__\":\"GhExyth1ND/Sv8nbtpRIP2vylNV0PVE/aTum7souWD/At0SJ8fVgPw3Iuahxymc/MSNhhJWvcD/bTfBN02d3P2zb5nxnaoA/CD5h5MAGhz8NmeH1TyaQP+zrCsc9p5Y/LbKd76fGnz/bLW5ISEmmPww9YvTcQq8/JV2OstnstT8Er5Y7M8G+P0c+r3jqkcU/5h99k6ZBzj88bCIzFzjVP4enV8oyxN0//yH99nXg5D8qOpLLf0jtP5kqGJXUifQ/c9cS8kHP/D+/DpwzojQEQIEmwoanVwxA4lgXt9HgE0BSSZ2AJuIbQAMJih9jjiNA5q4l5INuK0AwTKYKRj0zQNv5fmq8/DpAaCJseHrtQkB/+zpwzoxKQM3MzMzMeFJAZmZmZmZqWEAAAAAAAFxeQM3MzMzMJmJAmpmZmZkfZUBmZmZmZhhoQDMzMzMzEWtAAAAAAAAKbkBmZmZmZoFwQM3MzMzM/XFAMzMzMzN6c0CamZmZmfZ0QAAAAAAAc3ZAZmZmZmbvd0DNzMzMzGt5QDMzMzMz6HpAmpmZmZlkfEAAAAAAAOF9QGZmZmZmXX9AZmZmZuZsgECamZmZGSuBQM3MzMxM6YFAAAAAAICngkAzMzMzs2WDQGZmZmbmI4RAmpmZmRnihEDNzMzMTKCFQAAAAACAXoZAMzMzM7Mch0BmZmZm5tqHQJqZmZkZmYhAzczMzExXiUAAAAAAgBWKQDMzMzOz04pAZmZmZuaRi0CamZmZGVCMQM3MzMxMDo1AAAAAAIDMjUAzMzMzs4qOQGZmZmbmSI9A\",\"dtype\":\"float64\",\"shape\":[75]}},\"selected\":{\"id\":\"cd1f3757-dfd4-43f8-bdda-25477331b92d\",\"type\":\"Selection\"},\"selection_policy\":{\"id\":\"afcb2c7f-8e31-4e8a-ad9c-e9a54ada4523\",\"type\":\"UnionRenderers\"}},\"id\":\"eda151ac-6194-4bae-9ab3-931098c4ed12\",\"type\":\"ColumnDataSource\"},{\"attributes\":{\"fill_alpha\":{\"value\":0.1},\"fill_color\":{\"value\":\"#1f77b4\"},\"line_alpha\":{\"value\":0.1},\"line_color\":{\"value\":\"#1f77b4\"},\"x\":{\"field\":\"x\"},\"y\":{\"field\":\"y\"}},\"id\":\"29a32174-e1d3-49b5-9c60-865732a19854\",\"type\":\"Square\"},{\"attributes\":{\"data_source\":{\"id\":\"eda151ac-6194-4bae-9ab3-931098c4ed12\",\"type\":\"ColumnDataSource\"},\"glyph\":{\"id\":\"4b8a0601-43c5-49c4-b008-f147591f0551\",\"type\":\"Square\"},\"hover_glyph\":null,\"muted_glyph\":null,\"nonselection_glyph\":{\"id\":\"29a32174-e1d3-49b5-9c60-865732a19854\",\"type\":\"Square\"},\"selection_glyph\":null,\"view\":{\"id\":\"006010de-ba94-45fb-9c33-fb3c35f5e49f\",\"type\":\"CDSView\"}},\"id\":\"e006880d-010a-4268-a0d2-61cb45ca3d5e\",\"type\":\"GlyphRenderer\"},{\"attributes\":{\"source\":{\"id\":\"28fffc96-8ba9-4d16-bdca-5edce2412dfd\",\"type\":\"ColumnDataSource\"}},\"id\":\"1949754d-5342-44ba-9a65-284c52d5545e\",\"type\":\"CDSView\"},{\"attributes\":{\"line_alpha\":0.6,\"line_color\":\"#984ea3\",\"line_width\":3,\"x\":{\"field\":\"x\"},\"y\":{\"field\":\"y\"}},\"id\":\"82ccde63-3a80-4365-9b74-d91753e16fea\",\"type\":\"Line\"},{\"attributes\":{\"active_drag\":\"auto\",\"active_inspect\":\"auto\",\"active_scroll\":\"auto\",\"active_tap\":\"auto\",\"tools\":[{\"id\":\"dbc79323-a254-4ca5-aad2-2e62f85076de\",\"type\":\"PanTool\"},{\"id\":\"f3d84da1-8d18-48bd-97b6-677152d0dc20\",\"type\":\"WheelZoomTool\"},{\"id\":\"aa76ccd2-0bd8-4183-8800-54124d6f148f\",\"type\":\"BoxZoomTool\"},{\"id\":\"8ca43696-3cb0-447a-8de0-867c9c23cb2e\",\"type\":\"SaveTool\"},{\"id\":\"9773e124-191d-4433-b317-1262139e055d\",\"type\":\"ResetTool\"},{\"id\":\"e42fd365-1764-4bc7-aca9-23b4b8b4b42a\",\"type\":\"HelpTool\"}]},\"id\":\"2e7d52ce-2f1d-4914-85cd-7b40fedb45f3\",\"type\":\"Toolbar\"},{\"attributes\":{\"line_alpha\":0.1,\"line_color\":\"#1f77b4\",\"line_width\":3,\"x\":{\"field\":\"x\"},\"y\":{\"field\":\"y\"}},\"id\":\"1c9c9538-9da4-4e82-871a-c77cf5a0ebb9\",\"type\":\"Line\"},{\"attributes\":{\"line_alpha\":0.1,\"line_color\":\"#1f77b4\",\"line_width\":2,\"x\":{\"field\":\"x\"},\"y\":{\"field\":\"y\"}},\"id\":\"a7f4c769-ef19-4bad-ad4c-c0add0646512\",\"type\":\"Line\"},{\"attributes\":{\"source\":{\"id\":\"eda151ac-6194-4bae-9ab3-931098c4ed12\",\"type\":\"ColumnDataSource\"}},\"id\":\"006010de-ba94-45fb-9c33-fb3c35f5e49f\",\"type\":\"CDSView\"},{\"attributes\":{\"source\":{\"id\":\"115a222b-e7ca-472a-acc6-4718723c8f27\",\"type\":\"ColumnDataSource\"}},\"id\":\"3180d0a0-0547-4503-a5ef-22eb4c1f394c\",\"type\":\"CDSView\"},{\"attributes\":{\"callback\":null,\"data\":{\"x\":{\"__ndarray__\":\"O5TShbfkhb7yvtYHscyFvqxJUm2pzYa+rEryY9CEhr6hSPOfOE6HvmWBh3/tpoe+nJGrxyi8h75Kt2XDDkuIvropcnLEmIi+jNb0kQrsiL6kDWKQSkaJvlSH8QGEnIm+PBk+6uX/ib53bmPGhWqKvvstNxRH8Yu+Ze+yHGmYjr6t8hDH0kKQvgb7Z5YRpY++QYwL8uM3ib4rgzC/70hxvqCg7LP8yIk+0ipNiDurpD5vdq7Zp3CrPny+zspwCaU+NmIgcxONlz70plpJyUN3Pucj161YL3i+qKXkqUEnir74Pl9cbxqRvvkOX5csY5O+/QaikWrLlL7eroiEWe+Vvqs7ZDp1QZe+kmxx+O0Mmb616QYR+MuavrNySRh0PJy+Pj5jD+JQn778uR9D+OOjvsSj9Ok8Tqu+antxR6WKs756IoP6x8nBvjK+0VgeANi+VTCpyVE/6750h2tYw9b6vpY2U2oBWge/88yDahcUEr9VqqjJj8cYv8R4je8/0xy/gxoJBSOQGL+uqjD+crQBv0qlEgtaXhk/vT2ZXCfhNT8DDZeBqahHP1FdrVVqllU/UvWtQkr0YT9CgvyJXg9sPw7wstTy8nQ/KbDuwlAzfj9jomQZsh+FP+CyONPs0Iw/gvPz8K8vkz/LUnbwz+mYP3316V8voJ8/0Mo3h90KpT/KuUwB9PGqP/Q11dcWxbA/kYSC9EJxtD+yUzJUU3+3PxGWZxSBoLo/zijIlZskvj+9pigTjgvBP0aHE9pqPcM/kcBZKYiqxT98XjPx9VLIP0sJHGTtSss/\",\"dtype\":\"float64\",\"shape\":[75]},\"y\":{\"__ndarray__\":\"GhExyth1ND/Sv8nbtpRIP2vylNV0PVE/aTum7souWD/At0SJ8fVgPw3Iuahxymc/MSNhhJWvcD/bTfBN02d3P2zb5nxnaoA/CD5h5MAGhz8NmeH1TyaQP+zrCsc9p5Y/LbKd76fGnz/bLW5ISEmmPww9YvTcQq8/JV2OstnstT8Er5Y7M8G+P0c+r3jqkcU/5h99k6ZBzj88bCIzFzjVP4enV8oyxN0//yH99nXg5D8qOpLLf0jtP5kqGJXUifQ/c9cS8kHP/D+/DpwzojQEQIEmwoanVwxA4lgXt9HgE0BSSZ2AJuIbQAMJih9jjiNA5q4l5INuK0AwTKYKRj0zQNv5fmq8/DpAaCJseHrtQkB/+zpwzoxKQM3MzMzMeFJAZmZmZmZqWEAAAAAAAFxeQM3MzMzMJmJAmpmZmZkfZUBmZmZmZhhoQDMzMzMzEWtAAAAAAAAKbkBmZmZmZoFwQM3MzMzM/XFAMzMzMzN6c0CamZmZmfZ0QAAAAAAAc3ZAZmZmZmbvd0DNzMzMzGt5QDMzMzMz6HpAmpmZmZlkfEAAAAAAAOF9QGZmZmZmXX9AZmZmZuZsgECamZmZGSuBQM3MzMxM6YFAAAAAAICngkAzMzMzs2WDQGZmZmbmI4RAmpmZmRnihEDNzMzMTKCFQAAAAACAXoZAMzMzM7Mch0BmZmZm5tqHQJqZmZkZmYhAzczMzExXiUAAAAAAgBWKQDMzMzOz04pAZmZmZuaRi0CamZmZGVCMQM3MzMxMDo1AAAAAAIDMjUAzMzMzs4qOQGZmZmbmSI9A\",\"dtype\":\"float64\",\"shape\":[75]}},\"selected\":{\"id\":\"eb7cebbe-c2c0-4dcf-a159-10c78106fc5f\",\"type\":\"Selection\"},\"selection_policy\":{\"id\":\"bd19c408-87f1-4f35-a670-8dac32ba85fc\",\"type\":\"UnionRenderers\"}},\"id\":\"28fffc96-8ba9-4d16-bdca-5edce2412dfd\",\"type\":\"ColumnDataSource\"},{\"attributes\":{\"line_alpha\":0.1,\"line_color\":\"#1f77b4\",\"line_width\":1.5,\"x\":{\"field\":\"x\"},\"y\":{\"field\":\"y\"}},\"id\":\"857eb143-2217-4939-84fb-8a0808b73dac\",\"type\":\"Line\"},{\"attributes\":{\"data_source\":{\"id\":\"115a222b-e7ca-472a-acc6-4718723c8f27\",\"type\":\"ColumnDataSource\"},\"glyph\":{\"id\":\"82ccde63-3a80-4365-9b74-d91753e16fea\",\"type\":\"Line\"},\"hover_glyph\":null,\"muted_glyph\":null,\"nonselection_glyph\":{\"id\":\"1c9c9538-9da4-4e82-871a-c77cf5a0ebb9\",\"type\":\"Line\"},\"selection_glyph\":null,\"view\":{\"id\":\"3180d0a0-0547-4503-a5ef-22eb4c1f394c\",\"type\":\"CDSView\"}},\"id\":\"d824c644-007f-4852-a175-804b60d2c42d\",\"type\":\"GlyphRenderer\"},{\"attributes\":{\"data_source\":{\"id\":\"28fffc96-8ba9-4d16-bdca-5edce2412dfd\",\"type\":\"ColumnDataSource\"},\"glyph\":{\"id\":\"7fcb9cd0-bc45-4559-8a4b-569bfd8795cf\",\"type\":\"Line\"},\"hover_glyph\":null,\"muted_glyph\":null,\"nonselection_glyph\":{\"id\":\"857eb143-2217-4939-84fb-8a0808b73dac\",\"type\":\"Line\"},\"selection_glyph\":null,\"view\":{\"id\":\"1949754d-5342-44ba-9a65-284c52d5545e\",\"type\":\"CDSView\"}},\"id\":\"ba78e21f-aa0d-4175-8b4f-4beaa19fc3c8\",\"type\":\"GlyphRenderer\"},{\"attributes\":{\"callback\":null,\"data\":{\"x\":{\"__ndarray__\":\"rXUT+TJFgr4BWQAo0YiCvnPEoXdcw4K+JzIAqMMRg74oAXY0W2uDvqgff4ADooO+7yTSasz9g76p02++XEWEvp5c/J9gk4S+3TtCD4HihL40AKgU5DGFvgKeaTc9goW+51bWd8fRhb4iGFqDTDmGvt+rl64RmYe+n37/LP0lir4dkQ8Hsl+MviyvA3/qsIy+kP24JTQUib7z1GFJYid8vsDS36GWQHQ+V37WniGgmT5k0cqnVsShPkC99IljKJo+cv2Ij4BWiT4kFS3do2Ybvvs/9MzgBoG+rNz04wjKir7UXiDsIiKQvi31VQOnrZG+tQAdudGukr7zR1i94JuTvj91717OzJS+xfwxVEJ7lr5nmhb0FCyYvm/kPcJyqJm+aA5JY5OYnL64HmYCohuivpMjKEJTvqi+pwFYOSSwsb5RK98DZyLAvp5yS+yL4tW+pNbqGP8R6b5QUq/+AAn5vsSlY0+xOga/4fH1wbG+Eb+5qcBaookZv3LRojORMSC/qMCUz2awIL/aIYwi8Mkav6RrOMIoXP2+w9l4n3wRID/+imngb0Y5P0RpYNvlbEo/9spUu4GmVz8MZQGMEGJjPyMHL/UI+W0/fsR5Qc43dj8EP5PFSdZ/P8PyDaMlMYY/2EMXrvApjj81RDvFr/qTP+8hbyaX4Jk/fP+0i0iYoT+hDAxb3hWnPwWxmWcYg60/IfnbgsuBsj+8bNZBp+W1P5oawfYuhrk/T5KumXyzvT/PumfZakHBP+JqjdaLAMQ/DSyyY0Qexz/kYUYdwp3KP/EGoGpXlc4/\",\"dtype\":\"float64\",\"shape\":[75]},\"y\":{\"__ndarray__\":\"GhExyth1ND/Sv8nbtpRIP2vylNV0PVE/aTum7souWD/At0SJ8fVgPw3Iuahxymc/MSNhhJWvcD/bTfBN02d3P2zb5nxnaoA/CD5h5MAGhz8NmeH1TyaQP+zrCsc9p5Y/LbKd76fGnz/bLW5ISEmmPww9YvTcQq8/JV2OstnstT8Er5Y7M8G+P0c+r3jqkcU/5h99k6ZBzj88bCIzFzjVP4enV8oyxN0//yH99nXg5D8qOpLLf0jtP5kqGJXUifQ/c9cS8kHP/D+/DpwzojQEQIEmwoanVwxA4lgXt9HgE0BSSZ2AJuIbQAMJih9jjiNA5q4l5INuK0AwTKYKRj0zQNv5fmq8/DpAaCJseHrtQkB/+zpwzoxKQM3MzMzMeFJAZmZmZmZqWEAAAAAAAFxeQM3MzMzMJmJAmpmZmZkfZUBmZmZmZhhoQDMzMzMzEWtAAAAAAAAKbkBmZmZmZoFwQM3MzMzM/XFAMzMzMzN6c0CamZmZmfZ0QAAAAAAAc3ZAZmZmZmbvd0DNzMzMzGt5QDMzMzMz6HpAmpmZmZlkfEAAAAAAAOF9QGZmZmZmXX9AZmZmZuZsgECamZmZGSuBQM3MzMxM6YFAAAAAAICngkAzMzMzs2WDQGZmZmbmI4RAmpmZmRnihEDNzMzMTKCFQAAAAACAXoZAMzMzM7Mch0BmZmZm5tqHQJqZmZkZmYhAzczMzExXiUAAAAAAgBWKQDMzMzOz04pAZmZmZuaRi0CamZmZGVCMQM3MzMxMDo1AAAAAAIDMjUAzMzMzs4qOQGZmZmbmSI9A\",\"dtype\":\"float64\",\"shape\":[75]}},\"selected\":{\"id\":\"f2bee242-803d-41f9-8fde-c5f9f63dd9e1\",\"type\":\"Selection\"},\"selection_policy\":{\"id\":\"98b8dfdc-126d-42ae-9cfe-d806abbc65ba\",\"type\":\"UnionRenderers\"}},\"id\":\"951455f3-14f2-4c5b-a3cc-6226cedcf3c7\",\"type\":\"ColumnDataSource\"},{\"attributes\":{\"fill_alpha\":{\"value\":0.7},\"fill_color\":{\"value\":\"#377eb8\"},\"line_alpha\":{\"value\":0.7},\"line_color\":{\"value\":\"#377eb8\"},\"x\":{\"field\":\"x\"},\"y\":{\"field\":\"y\"}},\"id\":\"e55c9606-f229-4f2e-801d-f3c7730908c4\",\"type\":\"Triangle\"},{\"attributes\":{\"callback\":null,\"data\":{\"x\":{\"__ndarray__\":\"rXUT+TJFgr4BWQAo0YiCvnPEoXdcw4K+JzIAqMMRg74oAXY0W2uDvqgff4ADooO+7yTSasz9g76p02++XEWEvp5c/J9gk4S+3TtCD4HihL40AKgU5DGFvgKeaTc9goW+51bWd8fRhb4iGFqDTDmGvt+rl64RmYe+n37/LP0lir4dkQ8Hsl+MviyvA3/qsIy+kP24JTQUib7z1GFJYid8vsDS36GWQHQ+V37WniGgmT5k0cqnVsShPkC99IljKJo+cv2Ij4BWiT4kFS3do2Ybvvs/9MzgBoG+rNz04wjKir7UXiDsIiKQvi31VQOnrZG+tQAdudGukr7zR1i94JuTvj91717OzJS+xfwxVEJ7lr5nmhb0FCyYvm/kPcJyqJm+aA5JY5OYnL64HmYCohuivpMjKEJTvqi+pwFYOSSwsb5RK98DZyLAvp5yS+yL4tW+pNbqGP8R6b5QUq/+AAn5vsSlY0+xOga/4fH1wbG+Eb+5qcBaookZv3LRojORMSC/qMCUz2awIL/aIYwi8Mkav6RrOMIoXP2+w9l4n3wRID/+imngb0Y5P0RpYNvlbEo/9spUu4GmVz8MZQGMEGJjPyMHL/UI+W0/fsR5Qc43dj8EP5PFSdZ/P8PyDaMlMYY/2EMXrvApjj81RDvFr/qTP+8hbyaX4Jk/fP+0i0iYoT+hDAxb3hWnPwWxmWcYg60/IfnbgsuBsj+8bNZBp+W1P5oawfYuhrk/T5KumXyzvT/PumfZakHBP+JqjdaLAMQ/DSyyY0Qexz/kYUYdwp3KP/EGoGpXlc4/\",\"dtype\":\"float64\",\"shape\":[75]},\"y\":{\"__ndarray__\":\"GhExyth1ND/Sv8nbtpRIP2vylNV0PVE/aTum7souWD/At0SJ8fVgPw3Iuahxymc/MSNhhJWvcD/bTfBN02d3P2zb5nxnaoA/CD5h5MAGhz8NmeH1TyaQP+zrCsc9p5Y/LbKd76fGnz/bLW5ISEmmPww9YvTcQq8/JV2OstnstT8Er5Y7M8G+P0c+r3jqkcU/5h99k6ZBzj88bCIzFzjVP4enV8oyxN0//yH99nXg5D8qOpLLf0jtP5kqGJXUifQ/c9cS8kHP/D+/DpwzojQEQIEmwoanVwxA4lgXt9HgE0BSSZ2AJuIbQAMJih9jjiNA5q4l5INuK0AwTKYKRj0zQNv5fmq8/DpAaCJseHrtQkB/+zpwzoxKQM3MzMzMeFJAZmZmZmZqWEAAAAAAAFxeQM3MzMzMJmJAmpmZmZkfZUBmZmZmZhhoQDMzMzMzEWtAAAAAAAAKbkBmZmZmZoFwQM3MzMzM/XFAMzMzMzN6c0CamZmZmfZ0QAAAAAAAc3ZAZmZmZmbvd0DNzMzMzGt5QDMzMzMz6HpAmpmZmZlkfEAAAAAAAOF9QGZmZmZmXX9AZmZmZuZsgECamZmZGSuBQM3MzMxM6YFAAAAAAICngkAzMzMzs2WDQGZmZmbmI4RAmpmZmRnihEDNzMzMTKCFQAAAAACAXoZAMzMzM7Mch0BmZmZm5tqHQJqZmZkZmYhAzczMzExXiUAAAAAAgBWKQDMzMzOz04pAZmZmZuaRi0CamZmZGVCMQM3MzMxMDo1AAAAAAIDMjUAzMzMzs4qOQGZmZmbmSI9A\",\"dtype\":\"float64\",\"shape\":[75]}},\"selected\":{\"id\":\"56c63286-fc86-43db-bf74-7c564030c59f\",\"type\":\"Selection\"},\"selection_policy\":{\"id\":\"ab555308-b7f1-4491-9c21-4cb09e290a66\",\"type\":\"UnionRenderers\"}},\"id\":\"73acf57a-ac9b-4c96-a704-753be57c72f4\",\"type\":\"ColumnDataSource\"},{\"attributes\":{\"source\":{\"id\":\"951455f3-14f2-4c5b-a3cc-6226cedcf3c7\",\"type\":\"ColumnDataSource\"}},\"id\":\"e5e49a5f-eabf-493c-a8a3-36361c4c37ae\",\"type\":\"CDSView\"},{\"attributes\":{\"fill_alpha\":{\"value\":0.7},\"fill_color\":{\"value\":\"#984ea3\"},\"line_alpha\":{\"value\":0.7},\"line_color\":{\"value\":\"#984ea3\"},\"x\":{\"field\":\"x\"},\"y\":{\"field\":\"y\"}},\"id\":\"4b8a0601-43c5-49c4-b008-f147591f0551\",\"type\":\"Square\"},{\"attributes\":{\"fill_alpha\":{\"value\":0.1},\"fill_color\":{\"value\":\"#1f77b4\"},\"line_alpha\":{\"value\":0.1},\"line_color\":{\"value\":\"#1f77b4\"},\"x\":{\"field\":\"x\"},\"y\":{\"field\":\"y\"}},\"id\":\"1439e485-51aa-416b-8f2a-c1c001dda59b\",\"type\":\"Triangle\"},{\"attributes\":{\"plot\":{\"id\":\"86e28d6b-0773-4ef6-8a9e-892e0745158c\",\"subtype\":\"Figure\",\"type\":\"Plot\"},\"ticker\":{\"id\":\"0ada75af-855e-4db8-8583-1a8c1cb38f1f\",\"type\":\"BasicTicker\"}},\"id\":\"df4792e6-d13b-483b-9ff5-03511939a8e3\",\"type\":\"Grid\"},{\"attributes\":{\"line_alpha\":0.3,\"line_color\":\"#377eb8\",\"line_width\":2,\"x\":{\"field\":\"x\"},\"y\":{\"field\":\"y\"}},\"id\":\"f6922099-6f1e-4a44-8de6-755031a14c47\",\"type\":\"Line\"},{\"attributes\":{\"children\":[{\"id\":\"889de546-9b06-46e7-bd3e-48640dbbac62\",\"type\":\"Row\"}]},\"id\":\"a56e5180-6be0-47a7-82c0-65c6b115de51\",\"type\":\"Column\"},{\"attributes\":{\"data_source\":{\"id\":\"951455f3-14f2-4c5b-a3cc-6226cedcf3c7\",\"type\":\"ColumnDataSource\"},\"glyph\":{\"id\":\"e55c9606-f229-4f2e-801d-f3c7730908c4\",\"type\":\"Triangle\"},\"hover_glyph\":null,\"muted_glyph\":null,\"nonselection_glyph\":{\"id\":\"1439e485-51aa-416b-8f2a-c1c001dda59b\",\"type\":\"Triangle\"},\"selection_glyph\":null,\"view\":{\"id\":\"e5e49a5f-eabf-493c-a8a3-36361c4c37ae\",\"type\":\"CDSView\"}},\"id\":\"b5b0ff50-952f-45ed-b87b-1949ce3bd756\",\"type\":\"GlyphRenderer\"},{\"attributes\":{\"items\":[{\"id\":\"a818b5c8-eb54-4216-a005-0f0df307e8c6\",\"type\":\"LegendItem\"},{\"id\":\"bd976b62-494a-4235-bed8-7bcc8ea5e76e\",\"type\":\"LegendItem\"},{\"id\":\"9bbd03f6-2d60-4184-85d8-e713cf218d23\",\"type\":\"LegendItem\"}],\"label_text_font_size\":{\"value\":\"8pt\"},\"location\":\"top_center\",\"orientation\":\"horizontal\",\"plot\":{\"id\":\"86e28d6b-0773-4ef6-8a9e-892e0745158c\",\"subtype\":\"Figure\",\"type\":\"Plot\"}},\"id\":\"87e0b0d3-d399-41a9-9f99-fe570934eca4\",\"type\":\"Legend\"},{\"attributes\":{\"data_source\":{\"id\":\"73acf57a-ac9b-4c96-a704-753be57c72f4\",\"type\":\"ColumnDataSource\"},\"glyph\":{\"id\":\"f6922099-6f1e-4a44-8de6-755031a14c47\",\"type\":\"Line\"},\"hover_glyph\":null,\"muted_glyph\":null,\"nonselection_glyph\":{\"id\":\"a7f4c769-ef19-4bad-ad4c-c0add0646512\",\"type\":\"Line\"},\"selection_glyph\":null,\"view\":{\"id\":\"a877d066-4028-45d5-953b-1facb7bbb031\",\"type\":\"CDSView\"}},\"id\":\"cf678302-9ee5-43cc-9e26-30841bd5cde9\",\"type\":\"GlyphRenderer\"},{\"attributes\":{\"source\":{\"id\":\"73acf57a-ac9b-4c96-a704-753be57c72f4\",\"type\":\"ColumnDataSource\"}},\"id\":\"a877d066-4028-45d5-953b-1facb7bbb031\",\"type\":\"CDSView\"},{\"attributes\":{\"plot\":null,\"text\":\"\"},\"id\":\"01b65a56-3b21-482a-befa-ec3a98b50675\",\"type\":\"Title\"},{\"attributes\":{},\"id\":\"41573c15-3fa9-44ba-a806-a7c8e196a176\",\"type\":\"LinearScale\"},{\"attributes\":{\"children\":[{\"id\":\"86e28d6b-0773-4ef6-8a9e-892e0745158c\",\"subtype\":\"Figure\",\"type\":\"Plot\"},{\"id\":\"5da100a7-dfdb-4453-aa32-54bab11d4117\",\"subtype\":\"Figure\",\"type\":\"Plot\"}]},\"id\":\"889de546-9b06-46e7-bd3e-48640dbbac62\",\"type\":\"Row\"},{\"attributes\":{\"label\":{\"value\":\"CRD\"},\"renderers\":[{\"id\":\"b3628874-d70e-4717-a0a1-6538139aa9b0\",\"type\":\"GlyphRenderer\"},{\"id\":\"ba78e21f-aa0d-4175-8b4f-4beaa19fc3c8\",\"type\":\"GlyphRenderer\"}]},\"id\":\"42f1f8c5-2ac5-4c58-9c2f-9d2b5a88de59\",\"type\":\"LegendItem\"},{\"attributes\":{},\"id\":\"d544a89f-3cb9-47d2-9b67-b03e0364a0ab\",\"type\":\"BasicTickFormatter\"},{\"attributes\":{\"label\":{\"value\":\"WGT igg=1\"},\"renderers\":[{\"id\":\"e006880d-010a-4268-a0d2-61cb45ca3d5e\",\"type\":\"GlyphRenderer\"},{\"id\":\"d824c644-007f-4852-a175-804b60d2c42d\",\"type\":\"GlyphRenderer\"}]},\"id\":\"bb809e38-cdc3-4c18-8dea-955cb6bdf96d\",\"type\":\"LegendItem\"},{\"attributes\":{\"label\":{\"value\":\"WGT igg=10\"},\"renderers\":[{\"id\":\"b5b0ff50-952f-45ed-b87b-1949ce3bd756\",\"type\":\"GlyphRenderer\"},{\"id\":\"cf678302-9ee5-43cc-9e26-30841bd5cde9\",\"type\":\"GlyphRenderer\"}]},\"id\":\"81440204-1a51-4887-b54e-4d9455554664\",\"type\":\"LegendItem\"}],\"root_ids\":[\"7fdae0bc-6e86-4a8d-aaab-dd13a959a22b\"]},\"title\":\"Bokeh Application\",\"version\":\"0.12.16\"}};\n",
       "  var render_items = [{\"docid\":\"0d2656d9-6283-45e9-b290-a1d3c58c01d6\",\"elementid\":\"84b8c958-bd43-4485-89b2-d677421a4094\",\"modelid\":\"7fdae0bc-6e86-4a8d-aaab-dd13a959a22b\"}];\n",
       "  root.Bokeh.embed.embed_items_notebook(docs_json, render_items);\n",
       "\n",
       "  }\n",
       "  if (root.Bokeh !== undefined) {\n",
       "    embed_document(root);\n",
       "  } else {\n",
       "    var attempts = 0;\n",
       "    var timer = setInterval(function(root) {\n",
       "      if (root.Bokeh !== undefined) {\n",
       "        embed_document(root);\n",
       "        clearInterval(timer);\n",
       "      }\n",
       "      attempts++;\n",
       "      if (attempts > 100) {\n",
       "        console.log(\"Bokeh: ERROR: Unable to run BokehJS code because BokehJS library is missing\")\n",
       "        clearInterval(timer);\n",
       "      }\n",
       "    }, 10, root)\n",
       "  }\n",
       "})(window);"
      ],
      "application/vnd.bokehjs_exec.v0+json": ""
     },
     "metadata": {
      "application/vnd.bokehjs_exec.v0+json": {
       "id": "7fdae0bc-6e86-4a8d-aaab-dd13a959a22b"
      }
     },
     "output_type": "display_data"
    },
    {
     "data": {
      "text/markdown": [
       "*FIGURE.* Cooling rates. g=3"
      ],
      "text/plain": [
       "<IPython.core.display.Markdown object>"
      ]
     },
     "metadata": {},
     "output_type": "display_data"
    },
    {
     "data": {
      "text/html": [
       "\n",
       "<div class=\"bk-root\">\n",
       "    <div class=\"bk-plotdiv\" id=\"557ee46b-1240-4696-8128-078b9f94ebac\"></div>\n",
       "</div>"
      ]
     },
     "metadata": {},
     "output_type": "display_data"
    },
    {
     "data": {
      "application/javascript": [
       "(function(root) {\n",
       "  function embed_document(root) {\n",
       "    \n",
       "  var docs_json = {\"e1e1010e-aeb7-4e95-a37a-da881f4dd98c\":{\"roots\":{\"references\":[{\"attributes\":{\"above\":[{\"id\":\"1d8d9b1a-415c-4f82-a42a-2861fdcab78d\",\"type\":\"Legend\"}],\"below\":[{\"id\":\"84420725-965c-4ede-90b1-0bc299ce62e3\",\"type\":\"LinearAxis\"}],\"left\":[{\"id\":\"5da9a197-038c-4778-9427-fb4c31a912fc\",\"type\":\"LogAxis\"}],\"plot_height\":500,\"plot_width\":400,\"renderers\":[{\"id\":\"84420725-965c-4ede-90b1-0bc299ce62e3\",\"type\":\"LinearAxis\"},{\"id\":\"cd0b573a-0419-45e0-8606-eb41c03c31fd\",\"type\":\"Grid\"},{\"id\":\"5da9a197-038c-4778-9427-fb4c31a912fc\",\"type\":\"LogAxis\"},{\"id\":\"2272fba4-2ed3-41d7-b42b-b3fd77497072\",\"type\":\"Grid\"},{\"id\":\"6100d833-e845-413d-b3e8-db75f8b12462\",\"type\":\"BoxAnnotation\"},{\"id\":\"c9babd28-d312-41f1-b8de-34d5dceb3018\",\"type\":\"GlyphRenderer\"},{\"id\":\"266ded37-5c57-4892-b5d3-755a282721e1\",\"type\":\"GlyphRenderer\"},{\"id\":\"5f1dbd08-fa7b-49a8-ade4-ce9b53115e86\",\"type\":\"GlyphRenderer\"},{\"id\":\"26b2f580-991f-4cde-a453-d83105a13639\",\"type\":\"GlyphRenderer\"},{\"id\":\"e4a3104c-18b6-42ba-a864-cb467c89f09d\",\"type\":\"GlyphRenderer\"},{\"id\":\"60b5c578-3bbd-44ea-8821-106f4990237f\",\"type\":\"GlyphRenderer\"},{\"id\":\"1d8d9b1a-415c-4f82-a42a-2861fdcab78d\",\"type\":\"Legend\"}],\"title\":{\"id\":\"4fb67e52-7509-4222-b6f3-906bf3f4bbb4\",\"type\":\"Title\"},\"toolbar\":{\"id\":\"4ab76355-7021-4475-ad41-9029492e9221\",\"type\":\"Toolbar\"},\"toolbar_location\":null,\"x_range\":{\"id\":\"07308c0a-6b2d-4428-a7af-d350cb934818\",\"type\":\"Range1d\"},\"x_scale\":{\"id\":\"1cb0ede6-9dea-4ce5-9760-e0147c9a3c63\",\"type\":\"LinearScale\"},\"y_range\":{\"id\":\"23ab7307-a7e9-4773-86c8-fe98a9a2c2f4\",\"type\":\"Range1d\"},\"y_scale\":{\"id\":\"c5b10d6f-38ba-4213-89e5-08e56da429bd\",\"type\":\"LogScale\"}},\"id\":\"3e02900f-2e4d-422e-a507-f1779d964c82\",\"subtype\":\"Figure\",\"type\":\"Plot\"},{\"attributes\":{\"line_alpha\":0.1,\"line_color\":\"#1f77b4\",\"line_width\":1.5,\"x\":{\"field\":\"x\"},\"y\":{\"field\":\"y\"}},\"id\":\"1068c1a9-ac7f-48df-95b8-ee5851e751c1\",\"type\":\"Line\"},{\"attributes\":{\"line_alpha\":0.1,\"line_color\":\"#1f77b4\",\"line_width\":2,\"x\":{\"field\":\"x\"},\"y\":{\"field\":\"y\"}},\"id\":\"7f87b85f-6c4e-48cc-aa2f-283796f08d1f\",\"type\":\"Line\"},{\"attributes\":{\"data_source\":{\"id\":\"08c21c08-b1a8-4213-b244-a37a6146fca9\",\"type\":\"ColumnDataSource\"},\"glyph\":{\"id\":\"12bd2434-c4dc-4ad2-8148-b2ac6d538e3a\",\"type\":\"Line\"},\"hover_glyph\":null,\"muted_glyph\":null,\"nonselection_glyph\":{\"id\":\"7f87b85f-6c4e-48cc-aa2f-283796f08d1f\",\"type\":\"Line\"},\"selection_glyph\":null,\"view\":{\"id\":\"ba64fcf4-c705-4078-b034-edfc31112cdf\",\"type\":\"CDSView\"}},\"id\":\"8d96a526-48d0-481e-87e7-9136fa048e11\",\"type\":\"GlyphRenderer\"},{\"attributes\":{\"source\":{\"id\":\"08c21c08-b1a8-4213-b244-a37a6146fca9\",\"type\":\"ColumnDataSource\"}},\"id\":\"ba64fcf4-c705-4078-b034-edfc31112cdf\",\"type\":\"CDSView\"},{\"attributes\":{\"callback\":null,\"end\":0.01,\"start\":1020},\"id\":\"eebeb62e-53c2-4b4a-9ad9-1c7f8a2671c8\",\"type\":\"Range1d\"},{\"attributes\":{\"active_drag\":\"auto\",\"active_inspect\":\"auto\",\"active_scroll\":\"auto\",\"active_tap\":\"auto\",\"tools\":[{\"id\":\"854a4fbc-6d22-4034-8e98-54a39491e329\",\"type\":\"PanTool\"},{\"id\":\"ba0fb0f3-5ba4-47dc-bca4-b2dc366ec65b\",\"type\":\"WheelZoomTool\"},{\"id\":\"c23546da-7e3a-4644-a908-a4af3ee1900b\",\"type\":\"BoxZoomTool\"},{\"id\":\"91c8a0ff-366e-4d06-ad87-a12d0c3e7ae4\",\"type\":\"SaveTool\"},{\"id\":\"327d2dfe-843b-4ae8-b7a2-8cc52c0de433\",\"type\":\"ResetTool\"},{\"id\":\"eacdef46-f4e6-4335-be83-89f137f0921a\",\"type\":\"HelpTool\"}]},\"id\":\"4ab76355-7021-4475-ad41-9029492e9221\",\"type\":\"Toolbar\"},{\"attributes\":{\"callback\":null,\"end\":0.35369650744692,\"start\":-0.0036409439389199997},\"id\":\"aed52984-dba8-4c4a-8712-f86728ff0818\",\"type\":\"Range1d\"},{\"attributes\":{\"label\":{\"value\":\"CRD\"},\"renderers\":[{\"id\":\"65be9a57-fc9b-4468-bc50-0534a5e22d8d\",\"type\":\"GlyphRenderer\"},{\"id\":\"d60c2226-e10d-4eb6-9360-18a6ad9b0368\",\"type\":\"GlyphRenderer\"}]},\"id\":\"a0a56e0e-63b5-4be5-99d4-1f202a173762\",\"type\":\"LegendItem\"},{\"attributes\":{\"label\":{\"value\":\"WGT igg=1\"},\"renderers\":[{\"id\":\"c9993365-7236-4206-a164-045a1f6fe226\",\"type\":\"GlyphRenderer\"},{\"id\":\"0e29639a-7e24-4600-aac2-f16e9ad957fd\",\"type\":\"GlyphRenderer\"}]},\"id\":\"17ccb92f-bc0e-415a-8050-77d063fe6942\",\"type\":\"LegendItem\"},{\"attributes\":{\"bottom_units\":\"screen\",\"fill_alpha\":{\"value\":0.5},\"fill_color\":{\"value\":\"lightgrey\"},\"left_units\":\"screen\",\"level\":\"overlay\",\"line_alpha\":{\"value\":1.0},\"line_color\":{\"value\":\"black\"},\"line_dash\":[4,4],\"line_width\":{\"value\":2},\"plot\":null,\"render_mode\":\"css\",\"right_units\":\"screen\",\"top_units\":\"screen\"},\"id\":\"6100d833-e845-413d-b3e8-db75f8b12462\",\"type\":\"BoxAnnotation\"},{\"attributes\":{},\"id\":\"1cb0ede6-9dea-4ce5-9760-e0147c9a3c63\",\"type\":\"LinearScale\"},{\"attributes\":{\"label\":{\"value\":\"WGT igg=10\"},\"renderers\":[{\"id\":\"89ac282d-f97e-47de-b8f6-2bcc3537be51\",\"type\":\"GlyphRenderer\"},{\"id\":\"8d96a526-48d0-481e-87e7-9136fa048e11\",\"type\":\"GlyphRenderer\"}]},\"id\":\"38aaf0c8-22f5-453d-86d2-5ff097606f8b\",\"type\":\"LegendItem\"},{\"attributes\":{\"callback\":null,\"data\":{\"x\":{\"__ndarray__\":\"4WvghaoJ4776bEk1jvfivqJ23XH10+K+BtPjhGSl4r44MxHZ4XXivkYavdZ9P+K+oRHBwJYC4r5/aQL98cHhvmThCsZneuG+B9HMrbYs4b4scmBRxdjgvryqDBoKfuC+qSXeqzQc4L7IXU18Bynfvmun+b+OpNq+ZH/1FZtfyr6GPc/fp8LJPq5d/+RGmus+4vXOLfk5/j7DSNZ+H30LP6nF+57o2hY/jz+BjglGIT991DgHBa4jPwg0qDnmViE/w9SGUeBYGz/bsfRgN0YTP+fhGac+gQk/Et7J/3a6/z6J9Mx/yLPxPi0AoGIYmd4+GAE3wTnzoj444mxDCtzQvuS6Za26i92+kz9iPtnT4r6tCqpCYl/lvryLSkMroeW+xYHdQ7IX5b6tnjoNklzmvierzF6euOi+s/NCXI027L52TwmFaODzvoJnnmOjcAO/zw7f/N2FC799leVpAvsDv/55DmHOpw8/8ui0xxWqNT9b5nE5nkNNP7DkQBjWoV4/drrcW5Bdaj82Cwf2Nvd0P9E4pyJLZX8/QF2qYYdnhj/CEs2AAr6OP4+oeRNvYJQ/kZCV14JJmj8iVKVFb4ygP9KtlyIZa6Q/4lcUxZfIqD+kw+0XhqStPwCkJ0ZFhbE/uBBY95d2tD//vlZ0sYq3P4ksG5vyqLo/HAgdArSevz8f0DlCfQDCPx55/OvQAcQ/PMt4h9f2xT/suTOw4QvHPxiIeamsM8g/LgWbZ6KwyT8LfLSd133LPzTG5NyImM0/RE8RehIF0D8SIQRUV3bRP5hGYi32atM/\",\"dtype\":\"float64\",\"shape\":[75]},\"y\":{\"__ndarray__\":\"GhExyth1ND/Sv8nbtpRIP2vylNV0PVE/aTum7souWD/At0SJ8fVgPw3Iuahxymc/MSNhhJWvcD/bTfBN02d3P2zb5nxnaoA/CD5h5MAGhz8NmeH1TyaQP+zrCsc9p5Y/LbKd76fGnz/bLW5ISEmmPww9YvTcQq8/JV2OstnstT8Er5Y7M8G+P0c+r3jqkcU/5h99k6ZBzj88bCIzFzjVP4enV8oyxN0//yH99nXg5D8qOpLLf0jtP5kqGJXUifQ/c9cS8kHP/D+/DpwzojQEQIEmwoanVwxA4lgXt9HgE0BSSZ2AJuIbQAMJih9jjiNA5q4l5INuK0AwTKYKRj0zQNv5fmq8/DpAaCJseHrtQkB/+zpwzoxKQM3MzMzMeFJAZmZmZmZqWEAAAAAAAFxeQM3MzMzMJmJAmpmZmZkfZUBmZmZmZhhoQDMzMzMzEWtAAAAAAAAKbkBmZmZmZoFwQM3MzMzM/XFAMzMzMzN6c0CamZmZmfZ0QAAAAAAAc3ZAZmZmZmbvd0DNzMzMzGt5QDMzMzMz6HpAmpmZmZlkfEAAAAAAAOF9QGZmZmZmXX9AZmZmZuZsgECamZmZGSuBQM3MzMxM6YFAAAAAAICngkAzMzMzs2WDQGZmZmbmI4RAmpmZmRnihEDNzMzMTKCFQAAAAACAXoZAMzMzM7Mch0BmZmZm5tqHQJqZmZkZmYhAzczMzExXiUAAAAAAgBWKQDMzMzOz04pAZmZmZuaRi0CamZmZGVCMQM3MzMxMDo1AAAAAAIDMjUAzMzMzs4qOQGZmZmbmSI9A\",\"dtype\":\"float64\",\"shape\":[75]}},\"selected\":{\"id\":\"07b86b01-5567-4bc7-9e8a-fa470d28eb54\",\"type\":\"Selection\"},\"selection_policy\":{\"id\":\"3d161df0-c236-4b35-8bca-36b687fabcce\",\"type\":\"UnionRenderers\"}},\"id\":\"882a8467-d751-4470-8c19-3724f9729a8c\",\"type\":\"ColumnDataSource\"},{\"attributes\":{},\"id\":\"327d2dfe-843b-4ae8-b7a2-8cc52c0de433\",\"type\":\"ResetTool\"},{\"attributes\":{\"plot\":{\"id\":\"3e02900f-2e4d-422e-a507-f1779d964c82\",\"subtype\":\"Figure\",\"type\":\"Plot\"},\"ticker\":{\"id\":\"64454fe4-4ef5-496c-b418-7a860d6ba854\",\"type\":\"BasicTicker\"}},\"id\":\"cd0b573a-0419-45e0-8606-eb41c03c31fd\",\"type\":\"Grid\"},{\"attributes\":{},\"id\":\"eacdef46-f4e6-4335-be83-89f137f0921a\",\"type\":\"HelpTool\"},{\"attributes\":{},\"id\":\"c5b10d6f-38ba-4213-89e5-08e56da429bd\",\"type\":\"LogScale\"},{\"attributes\":{\"items\":[{\"id\":\"a0a56e0e-63b5-4be5-99d4-1f202a173762\",\"type\":\"LegendItem\"},{\"id\":\"17ccb92f-bc0e-415a-8050-77d063fe6942\",\"type\":\"LegendItem\"},{\"id\":\"38aaf0c8-22f5-453d-86d2-5ff097606f8b\",\"type\":\"LegendItem\"}],\"label_text_font_size\":{\"value\":\"8pt\"},\"location\":\"top_center\",\"orientation\":\"horizontal\",\"plot\":{\"id\":\"8c37fa6e-878b-40ea-92da-1d491768a952\",\"subtype\":\"Figure\",\"type\":\"Plot\"}},\"id\":\"cf6ce94c-aed7-42cc-8017-6bc1b6b3c03e\",\"type\":\"Legend\"},{\"attributes\":{\"axis_label\":\"cooling rate [K/day]\",\"formatter\":{\"id\":\"d00b0006-b13d-4844-8b26-eca97422d9e5\",\"type\":\"BasicTickFormatter\"},\"plot\":{\"id\":\"3e02900f-2e4d-422e-a507-f1779d964c82\",\"subtype\":\"Figure\",\"type\":\"Plot\"},\"ticker\":{\"id\":\"64454fe4-4ef5-496c-b418-7a860d6ba854\",\"type\":\"BasicTicker\"}},\"id\":\"84420725-965c-4ede-90b1-0bc299ce62e3\",\"type\":\"LinearAxis\"},{\"attributes\":{\"data_source\":{\"id\":\"882a8467-d751-4470-8c19-3724f9729a8c\",\"type\":\"ColumnDataSource\"},\"glyph\":{\"id\":\"80d28f47-9e2f-4de7-bad4-234e6ae2c000\",\"type\":\"Circle\"},\"hover_glyph\":null,\"muted_glyph\":null,\"nonselection_glyph\":{\"id\":\"4a66b040-d802-4645-a408-0d4ca5afc41a\",\"type\":\"Circle\"},\"selection_glyph\":null,\"view\":{\"id\":\"09912dbd-e84c-4e54-9fef-1b29bf653e5a\",\"type\":\"CDSView\"}},\"id\":\"c9babd28-d312-41f1-b8de-34d5dceb3018\",\"type\":\"GlyphRenderer\"},{\"attributes\":{},\"id\":\"64454fe4-4ef5-496c-b418-7a860d6ba854\",\"type\":\"BasicTicker\"},{\"attributes\":{\"axis_label\":\"pressure [mb]\",\"formatter\":{\"id\":\"1168b4df-aa40-4744-82c6-76c3f5be68b2\",\"type\":\"LogTickFormatter\"},\"plot\":{\"id\":\"3e02900f-2e4d-422e-a507-f1779d964c82\",\"subtype\":\"Figure\",\"type\":\"Plot\"},\"ticker\":{\"id\":\"acbf1de0-93ba-4fad-9bba-d3f70b9dadf5\",\"type\":\"LogTicker\"}},\"id\":\"5da9a197-038c-4778-9427-fb4c31a912fc\",\"type\":\"LogAxis\"},{\"attributes\":{},\"id\":\"7a8532f8-eea7-4e41-87cf-1e6b406ab80d\",\"type\":\"BasicTicker\"},{\"attributes\":{\"active_drag\":\"auto\",\"active_inspect\":\"auto\",\"active_scroll\":\"auto\",\"active_tap\":\"auto\",\"tools\":[{\"id\":\"62594aec-d9b5-4bef-875f-93ece946e9cd\",\"type\":\"PanTool\"},{\"id\":\"37b5178a-12f7-4439-9041-baa4c1a7fad6\",\"type\":\"WheelZoomTool\"},{\"id\":\"2b97188c-3eb8-477a-8364-2d3ce163f71e\",\"type\":\"BoxZoomTool\"},{\"id\":\"e9c22b06-b4ec-4550-9589-90475122c0b4\",\"type\":\"SaveTool\"},{\"id\":\"2e414758-be0f-494d-bcf2-774071b16280\",\"type\":\"ResetTool\"},{\"id\":\"c25f041c-4245-4028-9dbb-4c4dba2ae61e\",\"type\":\"HelpTool\"}]},\"id\":\"5ec76162-0f93-4328-8b60-46655aa205ab\",\"type\":\"Toolbar\"},{\"attributes\":{\"num_minor_ticks\":10},\"id\":\"acbf1de0-93ba-4fad-9bba-d3f70b9dadf5\",\"type\":\"LogTicker\"},{\"attributes\":{},\"id\":\"8981e7d1-fd4d-46f3-bce5-0f566e95ba82\",\"type\":\"UnionRenderers\"},{\"attributes\":{\"dimension\":1,\"plot\":{\"id\":\"3e02900f-2e4d-422e-a507-f1779d964c82\",\"subtype\":\"Figure\",\"type\":\"Plot\"},\"ticker\":{\"id\":\"acbf1de0-93ba-4fad-9bba-d3f70b9dadf5\",\"type\":\"LogTicker\"}},\"id\":\"2272fba4-2ed3-41d7-b42b-b3fd77497072\",\"type\":\"Grid\"},{\"attributes\":{},\"id\":\"31ba1f4f-be08-47ce-8d26-51e1a4e6b049\",\"type\":\"UnionRenderers\"},{\"attributes\":{},\"id\":\"e632f221-94e7-462d-9b48-07e30546603f\",\"type\":\"LinearScale\"},{\"attributes\":{},\"id\":\"bc0b3e6f-9fba-47c2-bbdd-9ced81ed78e9\",\"type\":\"BasicTicker\"},{\"attributes\":{\"above\":[{\"id\":\"cf6ce94c-aed7-42cc-8017-6bc1b6b3c03e\",\"type\":\"Legend\"}],\"below\":[{\"id\":\"ca18d873-11db-4138-acc9-b13fa970653e\",\"type\":\"LinearAxis\"}],\"left\":[{\"id\":\"8004c068-681c-4132-a0c4-86999fdace63\",\"type\":\"LinearAxis\"}],\"plot_height\":500,\"plot_width\":400,\"renderers\":[{\"id\":\"ca18d873-11db-4138-acc9-b13fa970653e\",\"type\":\"LinearAxis\"},{\"id\":\"34aa9304-b55a-485c-9c27-013686c1a702\",\"type\":\"Grid\"},{\"id\":\"8004c068-681c-4132-a0c4-86999fdace63\",\"type\":\"LinearAxis\"},{\"id\":\"802facc5-942e-45d0-8764-33d619317d87\",\"type\":\"Grid\"},{\"id\":\"fc591621-891b-4278-bd57-d27d674ac781\",\"type\":\"BoxAnnotation\"},{\"id\":\"65be9a57-fc9b-4468-bc50-0534a5e22d8d\",\"type\":\"GlyphRenderer\"},{\"id\":\"d60c2226-e10d-4eb6-9360-18a6ad9b0368\",\"type\":\"GlyphRenderer\"},{\"id\":\"c9993365-7236-4206-a164-045a1f6fe226\",\"type\":\"GlyphRenderer\"},{\"id\":\"0e29639a-7e24-4600-aac2-f16e9ad957fd\",\"type\":\"GlyphRenderer\"},{\"id\":\"89ac282d-f97e-47de-b8f6-2bcc3537be51\",\"type\":\"GlyphRenderer\"},{\"id\":\"8d96a526-48d0-481e-87e7-9136fa048e11\",\"type\":\"GlyphRenderer\"},{\"id\":\"cf6ce94c-aed7-42cc-8017-6bc1b6b3c03e\",\"type\":\"Legend\"}],\"title\":{\"id\":\"6a8ba596-797e-449e-964a-41a8e7614bae\",\"type\":\"Title\"},\"toolbar\":{\"id\":\"5ec76162-0f93-4328-8b60-46655aa205ab\",\"type\":\"Toolbar\"},\"toolbar_location\":null,\"x_range\":{\"id\":\"aed52984-dba8-4c4a-8712-f86728ff0818\",\"type\":\"Range1d\"},\"x_scale\":{\"id\":\"e632f221-94e7-462d-9b48-07e30546603f\",\"type\":\"LinearScale\"},\"y_range\":{\"id\":\"eebeb62e-53c2-4b4a-9ad9-1c7f8a2671c8\",\"type\":\"Range1d\"},\"y_scale\":{\"id\":\"faf932a2-4546-4814-8283-0c4d0c302b3e\",\"type\":\"LinearScale\"}},\"id\":\"8c37fa6e-878b-40ea-92da-1d491768a952\",\"subtype\":\"Figure\",\"type\":\"Plot\"},{\"attributes\":{\"dimension\":1,\"plot\":{\"id\":\"8c37fa6e-878b-40ea-92da-1d491768a952\",\"subtype\":\"Figure\",\"type\":\"Plot\"},\"ticker\":{\"id\":\"bc0b3e6f-9fba-47c2-bbdd-9ced81ed78e9\",\"type\":\"BasicTicker\"}},\"id\":\"802facc5-942e-45d0-8764-33d619317d87\",\"type\":\"Grid\"},{\"attributes\":{},\"id\":\"854a4fbc-6d22-4034-8e98-54a39491e329\",\"type\":\"PanTool\"},{\"attributes\":{\"line_color\":\"#4daf4a\",\"line_width\":1.5,\"x\":{\"field\":\"x\"},\"y\":{\"field\":\"y\"}},\"id\":\"afdc72c8-4374-4c9c-9f0b-ea315d9bdca4\",\"type\":\"Line\"},{\"attributes\":{},\"id\":\"ba0fb0f3-5ba4-47dc-bca4-b2dc366ec65b\",\"type\":\"WheelZoomTool\"},{\"attributes\":{\"source\":{\"id\":\"882a8467-d751-4470-8c19-3724f9729a8c\",\"type\":\"ColumnDataSource\"}},\"id\":\"09912dbd-e84c-4e54-9fef-1b29bf653e5a\",\"type\":\"CDSView\"},{\"attributes\":{\"bottom_units\":\"screen\",\"fill_alpha\":{\"value\":0.5},\"fill_color\":{\"value\":\"lightgrey\"},\"left_units\":\"screen\",\"level\":\"overlay\",\"line_alpha\":{\"value\":1.0},\"line_color\":{\"value\":\"black\"},\"line_dash\":[4,4],\"line_width\":{\"value\":2},\"plot\":null,\"render_mode\":\"css\",\"right_units\":\"screen\",\"top_units\":\"screen\"},\"id\":\"fc591621-891b-4278-bd57-d27d674ac781\",\"type\":\"BoxAnnotation\"},{\"attributes\":{},\"id\":\"62594aec-d9b5-4bef-875f-93ece946e9cd\",\"type\":\"PanTool\"},{\"attributes\":{\"fill_alpha\":{\"value\":0.1},\"fill_color\":{\"value\":\"#1f77b4\"},\"line_alpha\":{\"value\":0.1},\"line_color\":{\"value\":\"#1f77b4\"},\"x\":{\"field\":\"x\"},\"y\":{\"field\":\"y\"}},\"id\":\"4a66b040-d802-4645-a408-0d4ca5afc41a\",\"type\":\"Circle\"},{\"attributes\":{\"axis_label\":\"pressure [mb]\",\"formatter\":{\"id\":\"3cc57e51-5c56-46ba-8748-ced8d312a735\",\"type\":\"BasicTickFormatter\"},\"plot\":{\"id\":\"8c37fa6e-878b-40ea-92da-1d491768a952\",\"subtype\":\"Figure\",\"type\":\"Plot\"},\"ticker\":{\"id\":\"bc0b3e6f-9fba-47c2-bbdd-9ced81ed78e9\",\"type\":\"BasicTicker\"}},\"id\":\"8004c068-681c-4132-a0c4-86999fdace63\",\"type\":\"LinearAxis\"},{\"attributes\":{\"axis_label\":\"cooling rate [K/day]\",\"formatter\":{\"id\":\"e02ede94-fc05-4907-b8eb-58015fa3ddeb\",\"type\":\"BasicTickFormatter\"},\"plot\":{\"id\":\"8c37fa6e-878b-40ea-92da-1d491768a952\",\"subtype\":\"Figure\",\"type\":\"Plot\"},\"ticker\":{\"id\":\"7a8532f8-eea7-4e41-87cf-1e6b406ab80d\",\"type\":\"BasicTicker\"}},\"id\":\"ca18d873-11db-4138-acc9-b13fa970653e\",\"type\":\"LinearAxis\"},{\"attributes\":{\"plot\":{\"id\":\"8c37fa6e-878b-40ea-92da-1d491768a952\",\"subtype\":\"Figure\",\"type\":\"Plot\"},\"ticker\":{\"id\":\"7a8532f8-eea7-4e41-87cf-1e6b406ab80d\",\"type\":\"BasicTicker\"}},\"id\":\"34aa9304-b55a-485c-9c27-013686c1a702\",\"type\":\"Grid\"},{\"attributes\":{\"fill_alpha\":{\"value\":0.1},\"fill_color\":{\"value\":\"#1f77b4\"},\"line_alpha\":{\"value\":0.1},\"line_color\":{\"value\":\"#1f77b4\"},\"x\":{\"field\":\"x\"},\"y\":{\"field\":\"y\"}},\"id\":\"a5cbf669-c765-46db-b5c5-0893ce6eb71e\",\"type\":\"Square\"},{\"attributes\":{\"callback\":null,\"data\":{\"x\":{\"__ndarray__\":\"4WvghaoJ4776bEk1jvfivqJ23XH10+K+BtPjhGSl4r44MxHZ4XXivkYavdZ9P+K+oRHBwJYC4r5/aQL98cHhvmThCsZneuG+B9HMrbYs4b4scmBRxdjgvryqDBoKfuC+qSXeqzQc4L7IXU18Bynfvmun+b+OpNq+ZH/1FZtfyr6GPc/fp8LJPq5d/+RGmus+4vXOLfk5/j7DSNZ+H30LP6nF+57o2hY/jz+BjglGIT991DgHBa4jPwg0qDnmViE/w9SGUeBYGz/bsfRgN0YTP+fhGac+gQk/Et7J/3a6/z6J9Mx/yLPxPi0AoGIYmd4+GAE3wTnzoj444mxDCtzQvuS6Za26i92+kz9iPtnT4r6tCqpCYl/lvryLSkMroeW+xYHdQ7IX5b6tnjoNklzmvierzF6euOi+s/NCXI027L52TwmFaODzvoJnnmOjcAO/zw7f/N2FC799leVpAvsDv/55DmHOpw8/8ui0xxWqNT9b5nE5nkNNP7DkQBjWoV4/drrcW5Bdaj82Cwf2Nvd0P9E4pyJLZX8/QF2qYYdnhj/CEs2AAr6OP4+oeRNvYJQ/kZCV14JJmj8iVKVFb4ygP9KtlyIZa6Q/4lcUxZfIqD+kw+0XhqStPwCkJ0ZFhbE/uBBY95d2tD//vlZ0sYq3P4ksG5vyqLo/HAgdArSevz8f0DlCfQDCPx55/OvQAcQ/PMt4h9f2xT/suTOw4QvHPxiIeamsM8g/LgWbZ6KwyT8LfLSd133LPzTG5NyImM0/RE8RehIF0D8SIQRUV3bRP5hGYi32atM/\",\"dtype\":\"float64\",\"shape\":[75]},\"y\":{\"__ndarray__\":\"GhExyth1ND/Sv8nbtpRIP2vylNV0PVE/aTum7souWD/At0SJ8fVgPw3Iuahxymc/MSNhhJWvcD/bTfBN02d3P2zb5nxnaoA/CD5h5MAGhz8NmeH1TyaQP+zrCsc9p5Y/LbKd76fGnz/bLW5ISEmmPww9YvTcQq8/JV2OstnstT8Er5Y7M8G+P0c+r3jqkcU/5h99k6ZBzj88bCIzFzjVP4enV8oyxN0//yH99nXg5D8qOpLLf0jtP5kqGJXUifQ/c9cS8kHP/D+/DpwzojQEQIEmwoanVwxA4lgXt9HgE0BSSZ2AJuIbQAMJih9jjiNA5q4l5INuK0AwTKYKRj0zQNv5fmq8/DpAaCJseHrtQkB/+zpwzoxKQM3MzMzMeFJAZmZmZmZqWEAAAAAAAFxeQM3MzMzMJmJAmpmZmZkfZUBmZmZmZhhoQDMzMzMzEWtAAAAAAAAKbkBmZmZmZoFwQM3MzMzM/XFAMzMzMzN6c0CamZmZmfZ0QAAAAAAAc3ZAZmZmZmbvd0DNzMzMzGt5QDMzMzMz6HpAmpmZmZlkfEAAAAAAAOF9QGZmZmZmXX9AZmZmZuZsgECamZmZGSuBQM3MzMxM6YFAAAAAAICngkAzMzMzs2WDQGZmZmbmI4RAmpmZmRnihEDNzMzMTKCFQAAAAACAXoZAMzMzM7Mch0BmZmZm5tqHQJqZmZkZmYhAzczMzExXiUAAAAAAgBWKQDMzMzOz04pAZmZmZuaRi0CamZmZGVCMQM3MzMxMDo1AAAAAAIDMjUAzMzMzs4qOQGZmZmbmSI9A\",\"dtype\":\"float64\",\"shape\":[75]}},\"selected\":{\"id\":\"40575de7-efa7-4ebb-b220-e453da5ec235\",\"type\":\"Selection\"},\"selection_policy\":{\"id\":\"cf346490-6ac7-48b6-85d1-95a4cb83092d\",\"type\":\"UnionRenderers\"}},\"id\":\"603d054f-4603-483b-9401-52597d8ad82d\",\"type\":\"ColumnDataSource\"},{\"attributes\":{},\"id\":\"faf932a2-4546-4814-8283-0c4d0c302b3e\",\"type\":\"LinearScale\"},{\"attributes\":{\"source\":{\"id\":\"603d054f-4603-483b-9401-52597d8ad82d\",\"type\":\"ColumnDataSource\"}},\"id\":\"9d2f6cd3-c700-4dc1-bc71-bc586614a763\",\"type\":\"CDSView\"},{\"attributes\":{},\"id\":\"7fe50bcb-f005-410c-b447-65f1f6ea4360\",\"type\":\"Selection\"},{\"attributes\":{},\"id\":\"fa552bc8-e44b-4ec6-bd18-61b965298d75\",\"type\":\"Selection\"},{\"attributes\":{\"overlay\":{\"id\":\"fc591621-891b-4278-bd57-d27d674ac781\",\"type\":\"BoxAnnotation\"}},\"id\":\"2b97188c-3eb8-477a-8364-2d3ce163f71e\",\"type\":\"BoxZoomTool\"},{\"attributes\":{\"data_source\":{\"id\":\"603d054f-4603-483b-9401-52597d8ad82d\",\"type\":\"ColumnDataSource\"},\"glyph\":{\"id\":\"afdc72c8-4374-4c9c-9f0b-ea315d9bdca4\",\"type\":\"Line\"},\"hover_glyph\":null,\"muted_glyph\":null,\"nonselection_glyph\":{\"id\":\"1068c1a9-ac7f-48df-95b8-ee5851e751c1\",\"type\":\"Line\"},\"selection_glyph\":null,\"view\":{\"id\":\"9d2f6cd3-c700-4dc1-bc71-bc586614a763\",\"type\":\"CDSView\"}},\"id\":\"266ded37-5c57-4892-b5d3-755a282721e1\",\"type\":\"GlyphRenderer\"},{\"attributes\":{\"callback\":null,\"end\":0.01,\"start\":1020},\"id\":\"23ab7307-a7e9-4773-86c8-fe98a9a2c2f4\",\"type\":\"Range1d\"},{\"attributes\":{\"fill_alpha\":{\"value\":0.7},\"fill_color\":{\"value\":\"#4daf4a\"},\"line_alpha\":{\"value\":0.7},\"line_color\":{\"value\":\"#4daf4a\"},\"x\":{\"field\":\"x\"},\"y\":{\"field\":\"y\"}},\"id\":\"80d28f47-9e2f-4de7-bad4-234e6ae2c000\",\"type\":\"Circle\"},{\"attributes\":{},\"id\":\"c25f041c-4245-4028-9dbb-4c4dba2ae61e\",\"type\":\"HelpTool\"},{\"attributes\":{\"callback\":null,\"data\":{\"x\":{\"__ndarray__\":\"8gYo8OVz3b7x2LABb3fdvuwqbJByet2+KVY3tZt63b6icWVY/XXdvmQ5IH4RbN2+C1YXqCBe3b78F5oXFUvdvuqkrJ8RM92+YmuiQYEV3b7v+DWAWfLcvvTiSyiNydy+C4Z2w4+a3L4fhcvjKFXcvjSlgq/7/9q+B2ut3epD1r4EZZXJUKrHvghJ7Q0k6Lk+o5Lup1Eu4j614yFE38L0PnKQPd4eNwM/cnbLgjXODj9wJM5dAdgRP/qWgOwQGA8/j/FsId7iBz/ojMlcCgAAP9P4LE/UavM+xQTUNkyF5D7Ir0YvjnXNPrIWZX3qVa++c3cUj2rv0L7EWlruvuHZvsDadfb77t++JOW+SqoB4r7tiuBwC0bjvjyOn3l8OuO+WTOrh78C476TKTIdEK3kvj2jQ+K5vue+npTwVppx7L58LS5gIm/1vsbNRhDjTAe/MI5LWbAeFL9/uz8ByIQav0ruLO+qMBW/0mZ/Yo2tDD+lIw55b+E6PyWIaChAN1I/nlyN/s7aYT/c/wN+acBuPyMPPKY5b3g/ynQs/Cw+gj/PqZto3POJP/+gALuQtJE/P/9jP5Belz+fl9EZ5vWdPzbXUHXGuqI/dpPjyGbypj9OHW1VgJqrP1GcmRwbWrA/AqQ7Kiwosz/uVz4h9Bm2P4s1Nh38Irk/BGYMExAKvj/2QvKvlE7BPwSw9ObfisM/nBnHCCThxT+gnKTeM3DHP2q1MuK8H8k/IjH5Ei4syz9YSwi1IpPNP7pSRpHyKdA/D2L22dm80T/E7j8aXI/TP3xGRYy14NU/\",\"dtype\":\"float64\",\"shape\":[75]},\"y\":{\"__ndarray__\":\"GhExyth1ND/Sv8nbtpRIP2vylNV0PVE/aTum7souWD/At0SJ8fVgPw3Iuahxymc/MSNhhJWvcD/bTfBN02d3P2zb5nxnaoA/CD5h5MAGhz8NmeH1TyaQP+zrCsc9p5Y/LbKd76fGnz/bLW5ISEmmPww9YvTcQq8/JV2OstnstT8Er5Y7M8G+P0c+r3jqkcU/5h99k6ZBzj88bCIzFzjVP4enV8oyxN0//yH99nXg5D8qOpLLf0jtP5kqGJXUifQ/c9cS8kHP/D+/DpwzojQEQIEmwoanVwxA4lgXt9HgE0BSSZ2AJuIbQAMJih9jjiNA5q4l5INuK0AwTKYKRj0zQNv5fmq8/DpAaCJseHrtQkB/+zpwzoxKQM3MzMzMeFJAZmZmZmZqWEAAAAAAAFxeQM3MzMzMJmJAmpmZmZkfZUBmZmZmZhhoQDMzMzMzEWtAAAAAAAAKbkBmZmZmZoFwQM3MzMzM/XFAMzMzMzN6c0CamZmZmfZ0QAAAAAAAc3ZAZmZmZmbvd0DNzMzMzGt5QDMzMzMz6HpAmpmZmZlkfEAAAAAAAOF9QGZmZmZmXX9AZmZmZuZsgECamZmZGSuBQM3MzMxM6YFAAAAAAICngkAzMzMzs2WDQGZmZmbmI4RAmpmZmRnihEDNzMzMTKCFQAAAAACAXoZAMzMzM7Mch0BmZmZm5tqHQJqZmZkZmYhAzczMzExXiUAAAAAAgBWKQDMzMzOz04pAZmZmZuaRi0CamZmZGVCMQM3MzMxMDo1AAAAAAIDMjUAzMzMzs4qOQGZmZmbmSI9A\",\"dtype\":\"float64\",\"shape\":[75]}},\"selected\":{\"id\":\"651ee256-ae47-4e53-bbad-dcf47bcc31e8\",\"type\":\"Selection\"},\"selection_policy\":{\"id\":\"dce0ea11-b667-4ac5-99e9-3ef38b8df478\",\"type\":\"UnionRenderers\"}},\"id\":\"189512e5-a11f-46fa-86f9-c7b585d38672\",\"type\":\"ColumnDataSource\"},{\"attributes\":{},\"id\":\"2cf8204e-484c-485b-a0d0-7ebdd813ac15\",\"type\":\"Selection\"},{\"attributes\":{},\"id\":\"2e414758-be0f-494d-bcf2-774071b16280\",\"type\":\"ResetTool\"},{\"attributes\":{\"fill_alpha\":{\"value\":0.7},\"fill_color\":{\"value\":\"#984ea3\"},\"line_alpha\":{\"value\":0.7},\"line_color\":{\"value\":\"#984ea3\"},\"x\":{\"field\":\"x\"},\"y\":{\"field\":\"y\"}},\"id\":\"ce37bf48-34cc-4386-bd2f-b7876e33eb90\",\"type\":\"Square\"},{\"attributes\":{},\"id\":\"e9c22b06-b4ec-4550-9589-90475122c0b4\",\"type\":\"SaveTool\"},{\"attributes\":{},\"id\":\"37b5178a-12f7-4439-9041-baa4c1a7fad6\",\"type\":\"WheelZoomTool\"},{\"attributes\":{},\"id\":\"c66cb2d8-e853-4301-8098-e9aa222f242c\",\"type\":\"UnionRenderers\"},{\"attributes\":{\"line_color\":\"#4daf4a\",\"line_width\":1.5,\"x\":{\"field\":\"x\"},\"y\":{\"field\":\"y\"}},\"id\":\"631faf3e-821d-4904-be54-f40752e4474f\",\"type\":\"Line\"},{\"attributes\":{\"source\":{\"id\":\"390e07fa-5adb-4a44-bf01-6b52329c9ebd\",\"type\":\"ColumnDataSource\"}},\"id\":\"52f0e9c9-3c8e-4500-9198-e7d9c6579f88\",\"type\":\"CDSView\"},{\"attributes\":{\"callback\":null,\"data\":{\"x\":{\"__ndarray__\":\"8gYo8OVz3b7x2LABb3fdvuwqbJByet2+KVY3tZt63b6icWVY/XXdvmQ5IH4RbN2+C1YXqCBe3b78F5oXFUvdvuqkrJ8RM92+YmuiQYEV3b7v+DWAWfLcvvTiSyiNydy+C4Z2w4+a3L4fhcvjKFXcvjSlgq/7/9q+B2ut3epD1r4EZZXJUKrHvghJ7Q0k6Lk+o5Lup1Eu4j614yFE38L0PnKQPd4eNwM/cnbLgjXODj9wJM5dAdgRP/qWgOwQGA8/j/FsId7iBz/ojMlcCgAAP9P4LE/UavM+xQTUNkyF5D7Ir0YvjnXNPrIWZX3qVa++c3cUj2rv0L7EWlruvuHZvsDadfb77t++JOW+SqoB4r7tiuBwC0bjvjyOn3l8OuO+WTOrh78C476TKTIdEK3kvj2jQ+K5vue+npTwVppx7L58LS5gIm/1vsbNRhDjTAe/MI5LWbAeFL9/uz8ByIQav0ruLO+qMBW/0mZ/Yo2tDD+lIw55b+E6PyWIaChAN1I/nlyN/s7aYT/c/wN+acBuPyMPPKY5b3g/ynQs/Cw+gj/PqZto3POJP/+gALuQtJE/P/9jP5Belz+fl9EZ5vWdPzbXUHXGuqI/dpPjyGbypj9OHW1VgJqrP1GcmRwbWrA/AqQ7Kiwosz/uVz4h9Bm2P4s1Nh38Irk/BGYMExAKvj/2QvKvlE7BPwSw9ObfisM/nBnHCCThxT+gnKTeM3DHP2q1MuK8H8k/IjH5Ei4syz9YSwi1IpPNP7pSRpHyKdA/D2L22dm80T/E7j8aXI/TP3xGRYy14NU/\",\"dtype\":\"float64\",\"shape\":[75]},\"y\":{\"__ndarray__\":\"GhExyth1ND/Sv8nbtpRIP2vylNV0PVE/aTum7souWD/At0SJ8fVgPw3Iuahxymc/MSNhhJWvcD/bTfBN02d3P2zb5nxnaoA/CD5h5MAGhz8NmeH1TyaQP+zrCsc9p5Y/LbKd76fGnz/bLW5ISEmmPww9YvTcQq8/JV2OstnstT8Er5Y7M8G+P0c+r3jqkcU/5h99k6ZBzj88bCIzFzjVP4enV8oyxN0//yH99nXg5D8qOpLLf0jtP5kqGJXUifQ/c9cS8kHP/D+/DpwzojQEQIEmwoanVwxA4lgXt9HgE0BSSZ2AJuIbQAMJih9jjiNA5q4l5INuK0AwTKYKRj0zQNv5fmq8/DpAaCJseHrtQkB/+zpwzoxKQM3MzMzMeFJAZmZmZmZqWEAAAAAAAFxeQM3MzMzMJmJAmpmZmZkfZUBmZmZmZhhoQDMzMzMzEWtAAAAAAAAKbkBmZmZmZoFwQM3MzMzM/XFAMzMzMzN6c0CamZmZmfZ0QAAAAAAAc3ZAZmZmZmbvd0DNzMzMzGt5QDMzMzMz6HpAmpmZmZlkfEAAAAAAAOF9QGZmZmZmXX9AZmZmZuZsgECamZmZGSuBQM3MzMxM6YFAAAAAAICngkAzMzMzs2WDQGZmZmbmI4RAmpmZmRnihEDNzMzMTKCFQAAAAACAXoZAMzMzM7Mch0BmZmZm5tqHQJqZmZkZmYhAzczMzExXiUAAAAAAgBWKQDMzMzOz04pAZmZmZuaRi0CamZmZGVCMQM3MzMxMDo1AAAAAAIDMjUAzMzMzs4qOQGZmZmbmSI9A\",\"dtype\":\"float64\",\"shape\":[75]}},\"selected\":{\"id\":\"fa552bc8-e44b-4ec6-bd18-61b965298d75\",\"type\":\"Selection\"},\"selection_policy\":{\"id\":\"8981e7d1-fd4d-46f3-bce5-0f566e95ba82\",\"type\":\"UnionRenderers\"}},\"id\":\"4cb3bda3-e18a-4117-acc4-b61aea50a19b\",\"type\":\"ColumnDataSource\"},{\"attributes\":{\"fill_alpha\":{\"value\":0.1},\"fill_color\":{\"value\":\"#1f77b4\"},\"line_alpha\":{\"value\":0.1},\"line_color\":{\"value\":\"#1f77b4\"},\"x\":{\"field\":\"x\"},\"y\":{\"field\":\"y\"}},\"id\":\"7c8e3f16-201a-4150-9c35-0fed43bd54e2\",\"type\":\"Square\"},{\"attributes\":{\"data_source\":{\"id\":\"4cb3bda3-e18a-4117-acc4-b61aea50a19b\",\"type\":\"ColumnDataSource\"},\"glyph\":{\"id\":\"bd7e4c25-b4cc-4ee2-ba3c-838b0c7196d3\",\"type\":\"Square\"},\"hover_glyph\":null,\"muted_glyph\":null,\"nonselection_glyph\":{\"id\":\"7c8e3f16-201a-4150-9c35-0fed43bd54e2\",\"type\":\"Square\"},\"selection_glyph\":null,\"view\":{\"id\":\"1753e7a6-810d-4086-9301-61668804d15e\",\"type\":\"CDSView\"}},\"id\":\"c9993365-7236-4206-a164-045a1f6fe226\",\"type\":\"GlyphRenderer\"},{\"attributes\":{\"source\":{\"id\":\"6e8865e8-ac82-42b6-967d-6435730e1a66\",\"type\":\"ColumnDataSource\"}},\"id\":\"ad8b6506-79d4-40e3-851e-e69a04e45991\",\"type\":\"CDSView\"},{\"attributes\":{\"callback\":null,\"data\":{\"x\":{\"__ndarray__\":\"8gYo8OVz3b7x2LABb3fdvuwqbJByet2+KVY3tZt63b6icWVY/XXdvmQ5IH4RbN2+C1YXqCBe3b78F5oXFUvdvuqkrJ8RM92+YmuiQYEV3b7v+DWAWfLcvvTiSyiNydy+C4Z2w4+a3L4fhcvjKFXcvjSlgq/7/9q+B2ut3epD1r4EZZXJUKrHvghJ7Q0k6Lk+o5Lup1Eu4j614yFE38L0PnKQPd4eNwM/cnbLgjXODj9wJM5dAdgRP/qWgOwQGA8/j/FsId7iBz/ojMlcCgAAP9P4LE/UavM+xQTUNkyF5D7Ir0YvjnXNPrIWZX3qVa++c3cUj2rv0L7EWlruvuHZvsDadfb77t++JOW+SqoB4r7tiuBwC0bjvjyOn3l8OuO+WTOrh78C476TKTIdEK3kvj2jQ+K5vue+npTwVppx7L58LS5gIm/1vsbNRhDjTAe/MI5LWbAeFL9/uz8ByIQav0ruLO+qMBW/0mZ/Yo2tDD+lIw55b+E6PyWIaChAN1I/nlyN/s7aYT/c/wN+acBuPyMPPKY5b3g/ynQs/Cw+gj/PqZto3POJP/+gALuQtJE/P/9jP5Belz+fl9EZ5vWdPzbXUHXGuqI/dpPjyGbypj9OHW1VgJqrP1GcmRwbWrA/AqQ7Kiwosz/uVz4h9Bm2P4s1Nh38Irk/BGYMExAKvj/2QvKvlE7BPwSw9ObfisM/nBnHCCThxT+gnKTeM3DHP2q1MuK8H8k/IjH5Ei4syz9YSwi1IpPNP7pSRpHyKdA/D2L22dm80T/E7j8aXI/TP3xGRYy14NU/\",\"dtype\":\"float64\",\"shape\":[75]},\"y\":{\"__ndarray__\":\"GhExyth1ND/Sv8nbtpRIP2vylNV0PVE/aTum7souWD/At0SJ8fVgPw3Iuahxymc/MSNhhJWvcD/bTfBN02d3P2zb5nxnaoA/CD5h5MAGhz8NmeH1TyaQP+zrCsc9p5Y/LbKd76fGnz/bLW5ISEmmPww9YvTcQq8/JV2OstnstT8Er5Y7M8G+P0c+r3jqkcU/5h99k6ZBzj88bCIzFzjVP4enV8oyxN0//yH99nXg5D8qOpLLf0jtP5kqGJXUifQ/c9cS8kHP/D+/DpwzojQEQIEmwoanVwxA4lgXt9HgE0BSSZ2AJuIbQAMJih9jjiNA5q4l5INuK0AwTKYKRj0zQNv5fmq8/DpAaCJseHrtQkB/+zpwzoxKQM3MzMzMeFJAZmZmZmZqWEAAAAAAAFxeQM3MzMzMJmJAmpmZmZkfZUBmZmZmZhhoQDMzMzMzEWtAAAAAAAAKbkBmZmZmZoFwQM3MzMzM/XFAMzMzMzN6c0CamZmZmfZ0QAAAAAAAc3ZAZmZmZmbvd0DNzMzMzGt5QDMzMzMz6HpAmpmZmZlkfEAAAAAAAOF9QGZmZmZmXX9AZmZmZuZsgECamZmZGSuBQM3MzMxM6YFAAAAAAICngkAzMzMzs2WDQGZmZmbmI4RAmpmZmRnihEDNzMzMTKCFQAAAAACAXoZAMzMzM7Mch0BmZmZm5tqHQJqZmZkZmYhAzczMzExXiUAAAAAAgBWKQDMzMzOz04pAZmZmZuaRi0CamZmZGVCMQM3MzMxMDo1AAAAAAIDMjUAzMzMzs4qOQGZmZmbmSI9A\",\"dtype\":\"float64\",\"shape\":[75]}},\"selected\":{\"id\":\"3c3af7a6-f941-4452-968d-28fb9091809e\",\"type\":\"Selection\"},\"selection_policy\":{\"id\":\"bd3c4e8a-feb8-4f6c-b313-87772dc99fa6\",\"type\":\"UnionRenderers\"}},\"id\":\"cab77ce8-aeec-40a3-a184-a6d339d11dca\",\"type\":\"ColumnDataSource\"},{\"attributes\":{\"line_alpha\":0.1,\"line_color\":\"#1f77b4\",\"line_width\":1.5,\"x\":{\"field\":\"x\"},\"y\":{\"field\":\"y\"}},\"id\":\"be27a231-ea73-457a-abd3-e9b3309fc015\",\"type\":\"Line\"},{\"attributes\":{\"data_source\":{\"id\":\"6e8865e8-ac82-42b6-967d-6435730e1a66\",\"type\":\"ColumnDataSource\"},\"glyph\":{\"id\":\"631faf3e-821d-4904-be54-f40752e4474f\",\"type\":\"Line\"},\"hover_glyph\":null,\"muted_glyph\":null,\"nonselection_glyph\":{\"id\":\"be27a231-ea73-457a-abd3-e9b3309fc015\",\"type\":\"Line\"},\"selection_glyph\":null,\"view\":{\"id\":\"ad8b6506-79d4-40e3-851e-e69a04e45991\",\"type\":\"CDSView\"}},\"id\":\"d60c2226-e10d-4eb6-9360-18a6ad9b0368\",\"type\":\"GlyphRenderer\"},{\"attributes\":{\"line_alpha\":0.6,\"line_color\":\"#984ea3\",\"line_width\":3,\"x\":{\"field\":\"x\"},\"y\":{\"field\":\"y\"}},\"id\":\"d672b7c4-f1d4-4a53-8bf2-70afa7802a7e\",\"type\":\"Line\"},{\"attributes\":{\"source\":{\"id\":\"4cb3bda3-e18a-4117-acc4-b61aea50a19b\",\"type\":\"ColumnDataSource\"}},\"id\":\"1753e7a6-810d-4086-9301-61668804d15e\",\"type\":\"CDSView\"},{\"attributes\":{\"fill_alpha\":{\"value\":0.1},\"fill_color\":{\"value\":\"#1f77b4\"},\"line_alpha\":{\"value\":0.1},\"line_color\":{\"value\":\"#1f77b4\"},\"x\":{\"field\":\"x\"},\"y\":{\"field\":\"y\"}},\"id\":\"7e722523-3e21-4477-be56-12d3d817e91d\",\"type\":\"Circle\"},{\"attributes\":{\"source\":{\"id\":\"cab77ce8-aeec-40a3-a184-a6d339d11dca\",\"type\":\"ColumnDataSource\"}},\"id\":\"08add0db-96b8-427f-8be8-1c25c2185209\",\"type\":\"CDSView\"},{\"attributes\":{\"fill_alpha\":{\"value\":0.7},\"fill_color\":{\"value\":\"#4daf4a\"},\"line_alpha\":{\"value\":0.7},\"line_color\":{\"value\":\"#4daf4a\"},\"x\":{\"field\":\"x\"},\"y\":{\"field\":\"y\"}},\"id\":\"37b3e03f-c2a5-4630-907c-8b26791b1318\",\"type\":\"Circle\"},{\"attributes\":{\"fill_alpha\":{\"value\":0.7},\"fill_color\":{\"value\":\"#984ea3\"},\"line_alpha\":{\"value\":0.7},\"line_color\":{\"value\":\"#984ea3\"},\"x\":{\"field\":\"x\"},\"y\":{\"field\":\"y\"}},\"id\":\"bd7e4c25-b4cc-4ee2-ba3c-838b0c7196d3\",\"type\":\"Square\"},{\"attributes\":{\"data_source\":{\"id\":\"390e07fa-5adb-4a44-bf01-6b52329c9ebd\",\"type\":\"ColumnDataSource\"},\"glyph\":{\"id\":\"37b3e03f-c2a5-4630-907c-8b26791b1318\",\"type\":\"Circle\"},\"hover_glyph\":null,\"muted_glyph\":null,\"nonselection_glyph\":{\"id\":\"7e722523-3e21-4477-be56-12d3d817e91d\",\"type\":\"Circle\"},\"selection_glyph\":null,\"view\":{\"id\":\"52f0e9c9-3c8e-4500-9198-e7d9c6579f88\",\"type\":\"CDSView\"}},\"id\":\"65be9a57-fc9b-4468-bc50-0534a5e22d8d\",\"type\":\"GlyphRenderer\"},{\"attributes\":{\"callback\":null,\"data\":{\"x\":{\"__ndarray__\":\"4WvghaoJ4776bEk1jvfivqJ23XH10+K+BtPjhGSl4r44MxHZ4XXivkYavdZ9P+K+oRHBwJYC4r5/aQL98cHhvmThCsZneuG+B9HMrbYs4b4scmBRxdjgvryqDBoKfuC+qSXeqzQc4L7IXU18Bynfvmun+b+OpNq+ZH/1FZtfyr6GPc/fp8LJPq5d/+RGmus+4vXOLfk5/j7DSNZ+H30LP6nF+57o2hY/jz+BjglGIT991DgHBa4jPwg0qDnmViE/w9SGUeBYGz/bsfRgN0YTP+fhGac+gQk/Et7J/3a6/z6J9Mx/yLPxPi0AoGIYmd4+GAE3wTnzoj444mxDCtzQvuS6Za26i92+kz9iPtnT4r6tCqpCYl/lvryLSkMroeW+xYHdQ7IX5b6tnjoNklzmvierzF6euOi+s/NCXI027L52TwmFaODzvoJnnmOjcAO/zw7f/N2FC799leVpAvsDv/55DmHOpw8/8ui0xxWqNT9b5nE5nkNNP7DkQBjWoV4/drrcW5Bdaj82Cwf2Nvd0P9E4pyJLZX8/QF2qYYdnhj/CEs2AAr6OP4+oeRNvYJQ/kZCV14JJmj8iVKVFb4ygP9KtlyIZa6Q/4lcUxZfIqD+kw+0XhqStPwCkJ0ZFhbE/uBBY95d2tD//vlZ0sYq3P4ksG5vyqLo/HAgdArSevz8f0DlCfQDCPx55/OvQAcQ/PMt4h9f2xT/suTOw4QvHPxiIeamsM8g/LgWbZ6KwyT8LfLSd133LPzTG5NyImM0/RE8RehIF0D8SIQRUV3bRP5hGYi32atM/\",\"dtype\":\"float64\",\"shape\":[75]},\"y\":{\"__ndarray__\":\"GhExyth1ND/Sv8nbtpRIP2vylNV0PVE/aTum7souWD/At0SJ8fVgPw3Iuahxymc/MSNhhJWvcD/bTfBN02d3P2zb5nxnaoA/CD5h5MAGhz8NmeH1TyaQP+zrCsc9p5Y/LbKd76fGnz/bLW5ISEmmPww9YvTcQq8/JV2OstnstT8Er5Y7M8G+P0c+r3jqkcU/5h99k6ZBzj88bCIzFzjVP4enV8oyxN0//yH99nXg5D8qOpLLf0jtP5kqGJXUifQ/c9cS8kHP/D+/DpwzojQEQIEmwoanVwxA4lgXt9HgE0BSSZ2AJuIbQAMJih9jjiNA5q4l5INuK0AwTKYKRj0zQNv5fmq8/DpAaCJseHrtQkB/+zpwzoxKQM3MzMzMeFJAZmZmZmZqWEAAAAAAAFxeQM3MzMzMJmJAmpmZmZkfZUBmZmZmZhhoQDMzMzMzEWtAAAAAAAAKbkBmZmZmZoFwQM3MzMzM/XFAMzMzMzN6c0CamZmZmfZ0QAAAAAAAc3ZAZmZmZmbvd0DNzMzMzGt5QDMzMzMz6HpAmpmZmZlkfEAAAAAAAOF9QGZmZmZmXX9AZmZmZuZsgECamZmZGSuBQM3MzMxM6YFAAAAAAICngkAzMzMzs2WDQGZmZmbmI4RAmpmZmRnihEDNzMzMTKCFQAAAAACAXoZAMzMzM7Mch0BmZmZm5tqHQJqZmZkZmYhAzczMzExXiUAAAAAAgBWKQDMzMzOz04pAZmZmZuaRi0CamZmZGVCMQM3MzMxMDo1AAAAAAIDMjUAzMzMzs4qOQGZmZmbmSI9A\",\"dtype\":\"float64\",\"shape\":[75]}},\"selected\":{\"id\":\"7fe50bcb-f005-410c-b447-65f1f6ea4360\",\"type\":\"Selection\"},\"selection_policy\":{\"id\":\"c66cb2d8-e853-4301-8098-e9aa222f242c\",\"type\":\"UnionRenderers\"}},\"id\":\"6e8865e8-ac82-42b6-967d-6435730e1a66\",\"type\":\"ColumnDataSource\"},{\"attributes\":{\"data_source\":{\"id\":\"cab77ce8-aeec-40a3-a184-a6d339d11dca\",\"type\":\"ColumnDataSource\"},\"glyph\":{\"id\":\"d672b7c4-f1d4-4a53-8bf2-70afa7802a7e\",\"type\":\"Line\"},\"hover_glyph\":null,\"muted_glyph\":null,\"nonselection_glyph\":{\"id\":\"d5d649aa-44ab-4d60-88fe-be8a0d4f4684\",\"type\":\"Line\"},\"selection_glyph\":null,\"view\":{\"id\":\"08add0db-96b8-427f-8be8-1c25c2185209\",\"type\":\"CDSView\"}},\"id\":\"0e29639a-7e24-4600-aac2-f16e9ad957fd\",\"type\":\"GlyphRenderer\"},{\"attributes\":{\"fill_alpha\":{\"value\":0.1},\"fill_color\":{\"value\":\"#1f77b4\"},\"line_alpha\":{\"value\":0.1},\"line_color\":{\"value\":\"#1f77b4\"},\"x\":{\"field\":\"x\"},\"y\":{\"field\":\"y\"}},\"id\":\"ece83f08-00fc-4453-8d32-8fa168b66e9b\",\"type\":\"Triangle\"},{\"attributes\":{\"line_alpha\":0.1,\"line_color\":\"#1f77b4\",\"line_width\":3,\"x\":{\"field\":\"x\"},\"y\":{\"field\":\"y\"}},\"id\":\"d5d649aa-44ab-4d60-88fe-be8a0d4f4684\",\"type\":\"Line\"},{\"attributes\":{\"callback\":null,\"data\":{\"x\":{\"__ndarray__\":\"N0GU/yab274oG8ZTkKXbvukP74LRtdu+eYFHNN/D277YsBoq0s7bvtl32u8f1du+2g4zJ+jY275uv4hdMtjbvqNz2GGj09u+dipHsfDK277EWF4Z5b3bvsdnBhherNu+wmuJ+xeW274vfIrAQ3LbvkHsnblVptq+eupzgalm1778fScpE1bPviD37Rfs+Ji+TrrOuDL61T5SlvuePqLtPuFjF6rxEf0+KtixK+TyBz++usuVE+0LP4ZEEyGRLQg/NpaveLJPAj+uO2WuWdj3PvitazvGZes+kdtxaTp12T6N+2Mt1D6yPrQdDv0cLsS+fUXXKCgu1L7lc3mGS/7aviC3DJ9Af9++UHG0zRs34b6xNUdLDvzhvr2J/nP1ouG+2j8Vu6NS4b6QOyEfhezivsva8/+hBea+Icf6TQPa6r7C081FZ770vgfVAfLzZwe/Nl+D+NuFFb+hSAiqqxAgv8ODmbtICiK/7pxXB4idEr98EHxyCCUmP4wbQIr9D0c/N/oWptINWj9jbKSoLlRoP95ZqqTlY3Q/RPraQoy8fz8WM8MAqViHPxhTrStQYZA/AeoSfVoflj/owNf4Ed2cP450Ym0VRqI//n5akcSOpj+S3L+EmjmrP/K9SjQEJLA/SpG+QWLYsj9XVSCUpqq1P0oA8ra2lrg/2PX02U1lvT8caDZ2JgDBP3nDZEc2WcM/sMOr/NjjxT8MzvTT/rXHP9+l2d6cock/3KL8P6/hyz80wyO4bHDOP2N9unNFptA/UbwtBWJB0j/PC6n6CxjUP6ihWryQadY/\",\"dtype\":\"float64\",\"shape\":[75]},\"y\":{\"__ndarray__\":\"GhExyth1ND/Sv8nbtpRIP2vylNV0PVE/aTum7souWD/At0SJ8fVgPw3Iuahxymc/MSNhhJWvcD/bTfBN02d3P2zb5nxnaoA/CD5h5MAGhz8NmeH1TyaQP+zrCsc9p5Y/LbKd76fGnz/bLW5ISEmmPww9YvTcQq8/JV2OstnstT8Er5Y7M8G+P0c+r3jqkcU/5h99k6ZBzj88bCIzFzjVP4enV8oyxN0//yH99nXg5D8qOpLLf0jtP5kqGJXUifQ/c9cS8kHP/D+/DpwzojQEQIEmwoanVwxA4lgXt9HgE0BSSZ2AJuIbQAMJih9jjiNA5q4l5INuK0AwTKYKRj0zQNv5fmq8/DpAaCJseHrtQkB/+zpwzoxKQM3MzMzMeFJAZmZmZmZqWEAAAAAAAFxeQM3MzMzMJmJAmpmZmZkfZUBmZmZmZhhoQDMzMzMzEWtAAAAAAAAKbkBmZmZmZoFwQM3MzMzM/XFAMzMzMzN6c0CamZmZmfZ0QAAAAAAAc3ZAZmZmZmbvd0DNzMzMzGt5QDMzMzMz6HpAmpmZmZlkfEAAAAAAAOF9QGZmZmZmXX9AZmZmZuZsgECamZmZGSuBQM3MzMxM6YFAAAAAAICngkAzMzMzs2WDQGZmZmbmI4RAmpmZmRnihEDNzMzMTKCFQAAAAACAXoZAMzMzM7Mch0BmZmZm5tqHQJqZmZkZmYhAzczMzExXiUAAAAAAgBWKQDMzMzOz04pAZmZmZuaRi0CamZmZGVCMQM3MzMxMDo1AAAAAAIDMjUAzMzMzs4qOQGZmZmbmSI9A\",\"dtype\":\"float64\",\"shape\":[75]}},\"selected\":{\"id\":\"37796c7e-5c86-4f00-975d-17b66299384a\",\"type\":\"Selection\"},\"selection_policy\":{\"id\":\"de7999d3-a5f8-4e37-8fc2-c80c94ad8c4f\",\"type\":\"UnionRenderers\"}},\"id\":\"b1e435d4-2e50-4df9-ad2e-b759abe99b25\",\"type\":\"ColumnDataSource\"},{\"attributes\":{\"fill_alpha\":{\"value\":0.7},\"fill_color\":{\"value\":\"#377eb8\"},\"line_alpha\":{\"value\":0.7},\"line_color\":{\"value\":\"#377eb8\"},\"x\":{\"field\":\"x\"},\"y\":{\"field\":\"y\"}},\"id\":\"657ef3f5-fa9c-412d-935c-094143db374d\",\"type\":\"Triangle\"},{\"attributes\":{\"callback\":null,\"data\":{\"x\":{\"__ndarray__\":\"N0GU/yab274oG8ZTkKXbvukP74LRtdu+eYFHNN/D277YsBoq0s7bvtl32u8f1du+2g4zJ+jY275uv4hdMtjbvqNz2GGj09u+dipHsfDK277EWF4Z5b3bvsdnBhherNu+wmuJ+xeW274vfIrAQ3LbvkHsnblVptq+eupzgalm1778fScpE1bPviD37Rfs+Ji+TrrOuDL61T5SlvuePqLtPuFjF6rxEf0+KtixK+TyBz++usuVE+0LP4ZEEyGRLQg/NpaveLJPAj+uO2WuWdj3PvitazvGZes+kdtxaTp12T6N+2Mt1D6yPrQdDv0cLsS+fUXXKCgu1L7lc3mGS/7aviC3DJ9Af9++UHG0zRs34b6xNUdLDvzhvr2J/nP1ouG+2j8Vu6NS4b6QOyEfhezivsva8/+hBea+Icf6TQPa6r7C081FZ770vgfVAfLzZwe/Nl+D+NuFFb+hSAiqqxAgv8ODmbtICiK/7pxXB4idEr98EHxyCCUmP4wbQIr9D0c/N/oWptINWj9jbKSoLlRoP95ZqqTlY3Q/RPraQoy8fz8WM8MAqViHPxhTrStQYZA/AeoSfVoflj/owNf4Ed2cP450Ym0VRqI//n5akcSOpj+S3L+EmjmrP/K9SjQEJLA/SpG+QWLYsj9XVSCUpqq1P0oA8ra2lrg/2PX02U1lvT8caDZ2JgDBP3nDZEc2WcM/sMOr/NjjxT8MzvTT/rXHP9+l2d6cock/3KL8P6/hyz80wyO4bHDOP2N9unNFptA/UbwtBWJB0j/PC6n6CxjUP6ihWryQadY/\",\"dtype\":\"float64\",\"shape\":[75]},\"y\":{\"__ndarray__\":\"GhExyth1ND/Sv8nbtpRIP2vylNV0PVE/aTum7souWD/At0SJ8fVgPw3Iuahxymc/MSNhhJWvcD/bTfBN02d3P2zb5nxnaoA/CD5h5MAGhz8NmeH1TyaQP+zrCsc9p5Y/LbKd76fGnz/bLW5ISEmmPww9YvTcQq8/JV2OstnstT8Er5Y7M8G+P0c+r3jqkcU/5h99k6ZBzj88bCIzFzjVP4enV8oyxN0//yH99nXg5D8qOpLLf0jtP5kqGJXUifQ/c9cS8kHP/D+/DpwzojQEQIEmwoanVwxA4lgXt9HgE0BSSZ2AJuIbQAMJih9jjiNA5q4l5INuK0AwTKYKRj0zQNv5fmq8/DpAaCJseHrtQkB/+zpwzoxKQM3MzMzMeFJAZmZmZmZqWEAAAAAAAFxeQM3MzMzMJmJAmpmZmZkfZUBmZmZmZhhoQDMzMzMzEWtAAAAAAAAKbkBmZmZmZoFwQM3MzMzM/XFAMzMzMzN6c0CamZmZmfZ0QAAAAAAAc3ZAZmZmZmbvd0DNzMzMzGt5QDMzMzMz6HpAmpmZmZlkfEAAAAAAAOF9QGZmZmZmXX9AZmZmZuZsgECamZmZGSuBQM3MzMxM6YFAAAAAAICngkAzMzMzs2WDQGZmZmbmI4RAmpmZmRnihEDNzMzMTKCFQAAAAACAXoZAMzMzM7Mch0BmZmZm5tqHQJqZmZkZmYhAzczMzExXiUAAAAAAgBWKQDMzMzOz04pAZmZmZuaRi0CamZmZGVCMQM3MzMxMDo1AAAAAAIDMjUAzMzMzs4qOQGZmZmbmSI9A\",\"dtype\":\"float64\",\"shape\":[75]}},\"selected\":{\"id\":\"0d93a9a3-8946-4b5b-b690-9a6c1a681a4f\",\"type\":\"Selection\"},\"selection_policy\":{\"id\":\"66fd5177-db08-4e63-b149-c4848d3387f8\",\"type\":\"UnionRenderers\"}},\"id\":\"08c21c08-b1a8-4213-b244-a37a6146fca9\",\"type\":\"ColumnDataSource\"},{\"attributes\":{\"data_source\":{\"id\":\"b1e435d4-2e50-4df9-ad2e-b759abe99b25\",\"type\":\"ColumnDataSource\"},\"glyph\":{\"id\":\"657ef3f5-fa9c-412d-935c-094143db374d\",\"type\":\"Triangle\"},\"hover_glyph\":null,\"muted_glyph\":null,\"nonselection_glyph\":{\"id\":\"ece83f08-00fc-4453-8d32-8fa168b66e9b\",\"type\":\"Triangle\"},\"selection_glyph\":null,\"view\":{\"id\":\"658d8442-810b-4588-a5c9-202aa5630956\",\"type\":\"CDSView\"}},\"id\":\"89ac282d-f97e-47de-b8f6-2bcc3537be51\",\"type\":\"GlyphRenderer\"},{\"attributes\":{\"source\":{\"id\":\"b1e435d4-2e50-4df9-ad2e-b759abe99b25\",\"type\":\"ColumnDataSource\"}},\"id\":\"658d8442-810b-4588-a5c9-202aa5630956\",\"type\":\"CDSView\"},{\"attributes\":{\"line_alpha\":0.3,\"line_color\":\"#377eb8\",\"line_width\":2,\"x\":{\"field\":\"x\"},\"y\":{\"field\":\"y\"}},\"id\":\"12bd2434-c4dc-4ad2-8148-b2ac6d538e3a\",\"type\":\"Line\"},{\"attributes\":{\"overlay\":{\"id\":\"6100d833-e845-413d-b3e8-db75f8b12462\",\"type\":\"BoxAnnotation\"}},\"id\":\"c23546da-7e3a-4644-a908-a4af3ee1900b\",\"type\":\"BoxZoomTool\"},{\"attributes\":{\"line_alpha\":0.6,\"line_color\":\"#984ea3\",\"line_width\":3,\"x\":{\"field\":\"x\"},\"y\":{\"field\":\"y\"}},\"id\":\"e01a08f9-3bca-435a-8d4c-099bc0de0178\",\"type\":\"Line\"},{\"attributes\":{\"fill_alpha\":{\"value\":0.1},\"fill_color\":{\"value\":\"#1f77b4\"},\"line_alpha\":{\"value\":0.1},\"line_color\":{\"value\":\"#1f77b4\"},\"x\":{\"field\":\"x\"},\"y\":{\"field\":\"y\"}},\"id\":\"93b0be87-3eb4-4382-880a-8458dd75da0f\",\"type\":\"Triangle\"},{\"attributes\":{\"fill_alpha\":{\"value\":0.7},\"fill_color\":{\"value\":\"#377eb8\"},\"line_alpha\":{\"value\":0.7},\"line_color\":{\"value\":\"#377eb8\"},\"x\":{\"field\":\"x\"},\"y\":{\"field\":\"y\"}},\"id\":\"c82b1347-94d1-4a4c-bcd3-cc96f7beb73a\",\"type\":\"Triangle\"},{\"attributes\":{\"children\":[{\"id\":\"8c37fa6e-878b-40ea-92da-1d491768a952\",\"subtype\":\"Figure\",\"type\":\"Plot\"},{\"id\":\"3e02900f-2e4d-422e-a507-f1779d964c82\",\"subtype\":\"Figure\",\"type\":\"Plot\"}]},\"id\":\"55696108-8284-4ca1-a699-9e875fed9774\",\"type\":\"Row\"},{\"attributes\":{\"children\":[{\"id\":\"55696108-8284-4ca1-a699-9e875fed9774\",\"type\":\"Row\"}]},\"id\":\"4c31beca-40d9-439c-bc2a-1119c7737010\",\"type\":\"Column\"},{\"attributes\":{\"callback\":null,\"data\":{\"x\":{\"__ndarray__\":\"8gYo8OVz3b7x2LABb3fdvuwqbJByet2+KVY3tZt63b6icWVY/XXdvmQ5IH4RbN2+C1YXqCBe3b78F5oXFUvdvuqkrJ8RM92+YmuiQYEV3b7v+DWAWfLcvvTiSyiNydy+C4Z2w4+a3L4fhcvjKFXcvjSlgq/7/9q+B2ut3epD1r4EZZXJUKrHvghJ7Q0k6Lk+o5Lup1Eu4j614yFE38L0PnKQPd4eNwM/cnbLgjXODj9wJM5dAdgRP/qWgOwQGA8/j/FsId7iBz/ojMlcCgAAP9P4LE/UavM+xQTUNkyF5D7Ir0YvjnXNPrIWZX3qVa++c3cUj2rv0L7EWlruvuHZvsDadfb77t++JOW+SqoB4r7tiuBwC0bjvjyOn3l8OuO+WTOrh78C476TKTIdEK3kvj2jQ+K5vue+npTwVppx7L58LS5gIm/1vsbNRhDjTAe/MI5LWbAeFL9/uz8ByIQav0ruLO+qMBW/0mZ/Yo2tDD+lIw55b+E6PyWIaChAN1I/nlyN/s7aYT/c/wN+acBuPyMPPKY5b3g/ynQs/Cw+gj/PqZto3POJP/+gALuQtJE/P/9jP5Belz+fl9EZ5vWdPzbXUHXGuqI/dpPjyGbypj9OHW1VgJqrP1GcmRwbWrA/AqQ7Kiwosz/uVz4h9Bm2P4s1Nh38Irk/BGYMExAKvj/2QvKvlE7BPwSw9ObfisM/nBnHCCThxT+gnKTeM3DHP2q1MuK8H8k/IjH5Ei4syz9YSwi1IpPNP7pSRpHyKdA/D2L22dm80T/E7j8aXI/TP3xGRYy14NU/\",\"dtype\":\"float64\",\"shape\":[75]},\"y\":{\"__ndarray__\":\"GhExyth1ND/Sv8nbtpRIP2vylNV0PVE/aTum7souWD/At0SJ8fVgPw3Iuahxymc/MSNhhJWvcD/bTfBN02d3P2zb5nxnaoA/CD5h5MAGhz8NmeH1TyaQP+zrCsc9p5Y/LbKd76fGnz/bLW5ISEmmPww9YvTcQq8/JV2OstnstT8Er5Y7M8G+P0c+r3jqkcU/5h99k6ZBzj88bCIzFzjVP4enV8oyxN0//yH99nXg5D8qOpLLf0jtP5kqGJXUifQ/c9cS8kHP/D+/DpwzojQEQIEmwoanVwxA4lgXt9HgE0BSSZ2AJuIbQAMJih9jjiNA5q4l5INuK0AwTKYKRj0zQNv5fmq8/DpAaCJseHrtQkB/+zpwzoxKQM3MzMzMeFJAZmZmZmZqWEAAAAAAAFxeQM3MzMzMJmJAmpmZmZkfZUBmZmZmZhhoQDMzMzMzEWtAAAAAAAAKbkBmZmZmZoFwQM3MzMzM/XFAMzMzMzN6c0CamZmZmfZ0QAAAAAAAc3ZAZmZmZmbvd0DNzMzMzGt5QDMzMzMz6HpAmpmZmZlkfEAAAAAAAOF9QGZmZmZmXX9AZmZmZuZsgECamZmZGSuBQM3MzMxM6YFAAAAAAICngkAzMzMzs2WDQGZmZmbmI4RAmpmZmRnihEDNzMzMTKCFQAAAAACAXoZAMzMzM7Mch0BmZmZm5tqHQJqZmZkZmYhAzczMzExXiUAAAAAAgBWKQDMzMzOz04pAZmZmZuaRi0CamZmZGVCMQM3MzMxMDo1AAAAAAIDMjUAzMzMzs4qOQGZmZmbmSI9A\",\"dtype\":\"float64\",\"shape\":[75]}},\"selected\":{\"id\":\"cd4f8a1b-b769-40c5-9b30-a07e6633e254\",\"type\":\"Selection\"},\"selection_policy\":{\"id\":\"3cd8a824-30ad-410b-81a2-7263c60ee92f\",\"type\":\"UnionRenderers\"}},\"id\":\"8e90bd73-7c27-42f6-ae2e-c77449472158\",\"type\":\"ColumnDataSource\"},{\"attributes\":{\"source\":{\"id\":\"7bb9b150-0007-4d52-a733-7f6378415b79\",\"type\":\"ColumnDataSource\"}},\"id\":\"351a237a-8193-49f6-b70d-5770d36a088a\",\"type\":\"CDSView\"},{\"attributes\":{\"tools\":[{\"id\":\"62594aec-d9b5-4bef-875f-93ece946e9cd\",\"type\":\"PanTool\"},{\"id\":\"37b5178a-12f7-4439-9041-baa4c1a7fad6\",\"type\":\"WheelZoomTool\"},{\"id\":\"2b97188c-3eb8-477a-8364-2d3ce163f71e\",\"type\":\"BoxZoomTool\"},{\"id\":\"e9c22b06-b4ec-4550-9589-90475122c0b4\",\"type\":\"SaveTool\"},{\"id\":\"2e414758-be0f-494d-bcf2-774071b16280\",\"type\":\"ResetTool\"},{\"id\":\"c25f041c-4245-4028-9dbb-4c4dba2ae61e\",\"type\":\"HelpTool\"},{\"id\":\"854a4fbc-6d22-4034-8e98-54a39491e329\",\"type\":\"PanTool\"},{\"id\":\"ba0fb0f3-5ba4-47dc-bca4-b2dc366ec65b\",\"type\":\"WheelZoomTool\"},{\"id\":\"c23546da-7e3a-4644-a908-a4af3ee1900b\",\"type\":\"BoxZoomTool\"},{\"id\":\"91c8a0ff-366e-4d06-ad87-a12d0c3e7ae4\",\"type\":\"SaveTool\"},{\"id\":\"327d2dfe-843b-4ae8-b7a2-8cc52c0de433\",\"type\":\"ResetTool\"},{\"id\":\"eacdef46-f4e6-4335-be83-89f137f0921a\",\"type\":\"HelpTool\"}]},\"id\":\"414e6436-4dee-482a-9aba-d7e34e9cdde6\",\"type\":\"ProxyToolbar\"},{\"attributes\":{\"callback\":null,\"data\":{\"x\":{\"__ndarray__\":\"4WvghaoJ4776bEk1jvfivqJ23XH10+K+BtPjhGSl4r44MxHZ4XXivkYavdZ9P+K+oRHBwJYC4r5/aQL98cHhvmThCsZneuG+B9HMrbYs4b4scmBRxdjgvryqDBoKfuC+qSXeqzQc4L7IXU18Bynfvmun+b+OpNq+ZH/1FZtfyr6GPc/fp8LJPq5d/+RGmus+4vXOLfk5/j7DSNZ+H30LP6nF+57o2hY/jz+BjglGIT991DgHBa4jPwg0qDnmViE/w9SGUeBYGz/bsfRgN0YTP+fhGac+gQk/Et7J/3a6/z6J9Mx/yLPxPi0AoGIYmd4+GAE3wTnzoj444mxDCtzQvuS6Za26i92+kz9iPtnT4r6tCqpCYl/lvryLSkMroeW+xYHdQ7IX5b6tnjoNklzmvierzF6euOi+s/NCXI027L52TwmFaODzvoJnnmOjcAO/zw7f/N2FC799leVpAvsDv/55DmHOpw8/8ui0xxWqNT9b5nE5nkNNP7DkQBjWoV4/drrcW5Bdaj82Cwf2Nvd0P9E4pyJLZX8/QF2qYYdnhj/CEs2AAr6OP4+oeRNvYJQ/kZCV14JJmj8iVKVFb4ygP9KtlyIZa6Q/4lcUxZfIqD+kw+0XhqStPwCkJ0ZFhbE/uBBY95d2tD//vlZ0sYq3P4ksG5vyqLo/HAgdArSevz8f0DlCfQDCPx55/OvQAcQ/PMt4h9f2xT/suTOw4QvHPxiIeamsM8g/LgWbZ6KwyT8LfLSd133LPzTG5NyImM0/RE8RehIF0D8SIQRUV3bRP5hGYi32atM/\",\"dtype\":\"float64\",\"shape\":[75]},\"y\":{\"__ndarray__\":\"GhExyth1ND/Sv8nbtpRIP2vylNV0PVE/aTum7souWD/At0SJ8fVgPw3Iuahxymc/MSNhhJWvcD/bTfBN02d3P2zb5nxnaoA/CD5h5MAGhz8NmeH1TyaQP+zrCsc9p5Y/LbKd76fGnz/bLW5ISEmmPww9YvTcQq8/JV2OstnstT8Er5Y7M8G+P0c+r3jqkcU/5h99k6ZBzj88bCIzFzjVP4enV8oyxN0//yH99nXg5D8qOpLLf0jtP5kqGJXUifQ/c9cS8kHP/D+/DpwzojQEQIEmwoanVwxA4lgXt9HgE0BSSZ2AJuIbQAMJih9jjiNA5q4l5INuK0AwTKYKRj0zQNv5fmq8/DpAaCJseHrtQkB/+zpwzoxKQM3MzMzMeFJAZmZmZmZqWEAAAAAAAFxeQM3MzMzMJmJAmpmZmZkfZUBmZmZmZhhoQDMzMzMzEWtAAAAAAAAKbkBmZmZmZoFwQM3MzMzM/XFAMzMzMzN6c0CamZmZmfZ0QAAAAAAAc3ZAZmZmZmbvd0DNzMzMzGt5QDMzMzMz6HpAmpmZmZlkfEAAAAAAAOF9QGZmZmZmXX9AZmZmZuZsgECamZmZGSuBQM3MzMxM6YFAAAAAAICngkAzMzMzs2WDQGZmZmbmI4RAmpmZmRnihEDNzMzMTKCFQAAAAACAXoZAMzMzM7Mch0BmZmZm5tqHQJqZmZkZmYhAzczMzExXiUAAAAAAgBWKQDMzMzOz04pAZmZmZuaRi0CamZmZGVCMQM3MzMxMDo1AAAAAAIDMjUAzMzMzs4qOQGZmZmbmSI9A\",\"dtype\":\"float64\",\"shape\":[75]}},\"selected\":{\"id\":\"2cf8204e-484c-485b-a0d0-7ebdd813ac15\",\"type\":\"Selection\"},\"selection_policy\":{\"id\":\"31ba1f4f-be08-47ce-8d26-51e1a4e6b049\",\"type\":\"UnionRenderers\"}},\"id\":\"390e07fa-5adb-4a44-bf01-6b52329c9ebd\",\"type\":\"ColumnDataSource\"},{\"attributes\":{\"source\":{\"id\":\"8e90bd73-7c27-42f6-ae2e-c77449472158\",\"type\":\"ColumnDataSource\"}},\"id\":\"5f94d91f-5cf9-4586-8cec-69323f8c944a\",\"type\":\"CDSView\"},{\"attributes\":{},\"id\":\"cd4f8a1b-b769-40c5-9b30-a07e6633e254\",\"type\":\"Selection\"},{\"attributes\":{},\"id\":\"62bd5f20-9eee-42f1-bf5d-a4b0f049ca8d\",\"type\":\"UnionRenderers\"},{\"attributes\":{},\"id\":\"86de6e5e-a75c-4e5b-9307-d917cb4e2b1d\",\"type\":\"Selection\"},{\"attributes\":{\"data_source\":{\"id\":\"189512e5-a11f-46fa-86f9-c7b585d38672\",\"type\":\"ColumnDataSource\"},\"glyph\":{\"id\":\"ce37bf48-34cc-4386-bd2f-b7876e33eb90\",\"type\":\"Square\"},\"hover_glyph\":null,\"muted_glyph\":null,\"nonselection_glyph\":{\"id\":\"a5cbf669-c765-46db-b5c5-0893ce6eb71e\",\"type\":\"Square\"},\"selection_glyph\":null,\"view\":{\"id\":\"c127903a-1801-4a6f-bd58-983613156303\",\"type\":\"CDSView\"}},\"id\":\"5f1dbd08-fa7b-49a8-ade4-ce9b53115e86\",\"type\":\"GlyphRenderer\"},{\"attributes\":{\"callback\":null,\"data\":{\"x\":{\"__ndarray__\":\"N0GU/yab274oG8ZTkKXbvukP74LRtdu+eYFHNN/D277YsBoq0s7bvtl32u8f1du+2g4zJ+jY275uv4hdMtjbvqNz2GGj09u+dipHsfDK277EWF4Z5b3bvsdnBhherNu+wmuJ+xeW274vfIrAQ3LbvkHsnblVptq+eupzgalm1778fScpE1bPviD37Rfs+Ji+TrrOuDL61T5SlvuePqLtPuFjF6rxEf0+KtixK+TyBz++usuVE+0LP4ZEEyGRLQg/NpaveLJPAj+uO2WuWdj3PvitazvGZes+kdtxaTp12T6N+2Mt1D6yPrQdDv0cLsS+fUXXKCgu1L7lc3mGS/7aviC3DJ9Af9++UHG0zRs34b6xNUdLDvzhvr2J/nP1ouG+2j8Vu6NS4b6QOyEfhezivsva8/+hBea+Icf6TQPa6r7C081FZ770vgfVAfLzZwe/Nl+D+NuFFb+hSAiqqxAgv8ODmbtICiK/7pxXB4idEr98EHxyCCUmP4wbQIr9D0c/N/oWptINWj9jbKSoLlRoP95ZqqTlY3Q/RPraQoy8fz8WM8MAqViHPxhTrStQYZA/AeoSfVoflj/owNf4Ed2cP450Ym0VRqI//n5akcSOpj+S3L+EmjmrP/K9SjQEJLA/SpG+QWLYsj9XVSCUpqq1P0oA8ra2lrg/2PX02U1lvT8caDZ2JgDBP3nDZEc2WcM/sMOr/NjjxT8MzvTT/rXHP9+l2d6cock/3KL8P6/hyz80wyO4bHDOP2N9unNFptA/UbwtBWJB0j/PC6n6CxjUP6ihWryQadY/\",\"dtype\":\"float64\",\"shape\":[75]},\"y\":{\"__ndarray__\":\"GhExyth1ND/Sv8nbtpRIP2vylNV0PVE/aTum7souWD/At0SJ8fVgPw3Iuahxymc/MSNhhJWvcD/bTfBN02d3P2zb5nxnaoA/CD5h5MAGhz8NmeH1TyaQP+zrCsc9p5Y/LbKd76fGnz/bLW5ISEmmPww9YvTcQq8/JV2OstnstT8Er5Y7M8G+P0c+r3jqkcU/5h99k6ZBzj88bCIzFzjVP4enV8oyxN0//yH99nXg5D8qOpLLf0jtP5kqGJXUifQ/c9cS8kHP/D+/DpwzojQEQIEmwoanVwxA4lgXt9HgE0BSSZ2AJuIbQAMJih9jjiNA5q4l5INuK0AwTKYKRj0zQNv5fmq8/DpAaCJseHrtQkB/+zpwzoxKQM3MzMzMeFJAZmZmZmZqWEAAAAAAAFxeQM3MzMzMJmJAmpmZmZkfZUBmZmZmZhhoQDMzMzMzEWtAAAAAAAAKbkBmZmZmZoFwQM3MzMzM/XFAMzMzMzN6c0CamZmZmfZ0QAAAAAAAc3ZAZmZmZmbvd0DNzMzMzGt5QDMzMzMz6HpAmpmZmZlkfEAAAAAAAOF9QGZmZmZmXX9AZmZmZuZsgECamZmZGSuBQM3MzMxM6YFAAAAAAICngkAzMzMzs2WDQGZmZmbmI4RAmpmZmRnihEDNzMzMTKCFQAAAAACAXoZAMzMzM7Mch0BmZmZm5tqHQJqZmZkZmYhAzczMzExXiUAAAAAAgBWKQDMzMzOz04pAZmZmZuaRi0CamZmZGVCMQM3MzMxMDo1AAAAAAIDMjUAzMzMzs4qOQGZmZmbmSI9A\",\"dtype\":\"float64\",\"shape\":[75]}},\"selected\":{\"id\":\"86de6e5e-a75c-4e5b-9307-d917cb4e2b1d\",\"type\":\"Selection\"},\"selection_policy\":{\"id\":\"12712727-5e43-45dc-8c69-c3e411244935\",\"type\":\"UnionRenderers\"}},\"id\":\"7bb9b150-0007-4d52-a733-7f6378415b79\",\"type\":\"ColumnDataSource\"},{\"attributes\":{\"data_source\":{\"id\":\"8e90bd73-7c27-42f6-ae2e-c77449472158\",\"type\":\"ColumnDataSource\"},\"glyph\":{\"id\":\"e01a08f9-3bca-435a-8d4c-099bc0de0178\",\"type\":\"Line\"},\"hover_glyph\":null,\"muted_glyph\":null,\"nonselection_glyph\":{\"id\":\"d5249542-98f3-4b53-a615-b7e7ea800cc5\",\"type\":\"Line\"},\"selection_glyph\":null,\"view\":{\"id\":\"5f94d91f-5cf9-4586-8cec-69323f8c944a\",\"type\":\"CDSView\"}},\"id\":\"26b2f580-991f-4cde-a453-d83105a13639\",\"type\":\"GlyphRenderer\"},{\"attributes\":{\"plot\":null,\"text\":\"\"},\"id\":\"4fb67e52-7509-4222-b6f3-906bf3f4bbb4\",\"type\":\"Title\"},{\"attributes\":{\"plot\":null,\"text\":\"\"},\"id\":\"6a8ba596-797e-449e-964a-41a8e7614bae\",\"type\":\"Title\"},{\"attributes\":{\"line_alpha\":0.3,\"line_color\":\"#377eb8\",\"line_width\":2,\"x\":{\"field\":\"x\"},\"y\":{\"field\":\"y\"}},\"id\":\"102d2a38-6ff2-4965-98cf-a6a39bf22919\",\"type\":\"Line\"},{\"attributes\":{\"label\":{\"value\":\"WGT igg=10\"},\"renderers\":[{\"id\":\"e4a3104c-18b6-42ba-a864-cb467c89f09d\",\"type\":\"GlyphRenderer\"},{\"id\":\"60b5c578-3bbd-44ea-8821-106f4990237f\",\"type\":\"GlyphRenderer\"}]},\"id\":\"38498d51-a5ec-42e1-bbfa-e1346763de06\",\"type\":\"LegendItem\"},{\"attributes\":{\"callback\":null,\"end\":0.00015185054408649998,\"start\":-2.2147026636500002e-05},\"id\":\"07308c0a-6b2d-4428-a7af-d350cb934818\",\"type\":\"Range1d\"},{\"attributes\":{\"label\":{\"value\":\"CRD\"},\"renderers\":[{\"id\":\"c9babd28-d312-41f1-b8de-34d5dceb3018\",\"type\":\"GlyphRenderer\"},{\"id\":\"266ded37-5c57-4892-b5d3-755a282721e1\",\"type\":\"GlyphRenderer\"}]},\"id\":\"bc9c2c60-e158-4ff2-b30d-381285833bc2\",\"type\":\"LegendItem\"},{\"attributes\":{\"callback\":null,\"data\":{\"x\":{\"__ndarray__\":\"N0GU/yab274oG8ZTkKXbvukP74LRtdu+eYFHNN/D277YsBoq0s7bvtl32u8f1du+2g4zJ+jY275uv4hdMtjbvqNz2GGj09u+dipHsfDK277EWF4Z5b3bvsdnBhherNu+wmuJ+xeW274vfIrAQ3LbvkHsnblVptq+eupzgalm1778fScpE1bPviD37Rfs+Ji+TrrOuDL61T5SlvuePqLtPuFjF6rxEf0+KtixK+TyBz++usuVE+0LP4ZEEyGRLQg/NpaveLJPAj+uO2WuWdj3PvitazvGZes+kdtxaTp12T6N+2Mt1D6yPrQdDv0cLsS+fUXXKCgu1L7lc3mGS/7aviC3DJ9Af9++UHG0zRs34b6xNUdLDvzhvr2J/nP1ouG+2j8Vu6NS4b6QOyEfhezivsva8/+hBea+Icf6TQPa6r7C081FZ770vgfVAfLzZwe/Nl+D+NuFFb+hSAiqqxAgv8ODmbtICiK/7pxXB4idEr98EHxyCCUmP4wbQIr9D0c/N/oWptINWj9jbKSoLlRoP95ZqqTlY3Q/RPraQoy8fz8WM8MAqViHPxhTrStQYZA/AeoSfVoflj/owNf4Ed2cP450Ym0VRqI//n5akcSOpj+S3L+EmjmrP/K9SjQEJLA/SpG+QWLYsj9XVSCUpqq1P0oA8ra2lrg/2PX02U1lvT8caDZ2JgDBP3nDZEc2WcM/sMOr/NjjxT8MzvTT/rXHP9+l2d6cock/3KL8P6/hyz80wyO4bHDOP2N9unNFptA/UbwtBWJB0j/PC6n6CxjUP6ihWryQadY/\",\"dtype\":\"float64\",\"shape\":[75]},\"y\":{\"__ndarray__\":\"GhExyth1ND/Sv8nbtpRIP2vylNV0PVE/aTum7souWD/At0SJ8fVgPw3Iuahxymc/MSNhhJWvcD/bTfBN02d3P2zb5nxnaoA/CD5h5MAGhz8NmeH1TyaQP+zrCsc9p5Y/LbKd76fGnz/bLW5ISEmmPww9YvTcQq8/JV2OstnstT8Er5Y7M8G+P0c+r3jqkcU/5h99k6ZBzj88bCIzFzjVP4enV8oyxN0//yH99nXg5D8qOpLLf0jtP5kqGJXUifQ/c9cS8kHP/D+/DpwzojQEQIEmwoanVwxA4lgXt9HgE0BSSZ2AJuIbQAMJih9jjiNA5q4l5INuK0AwTKYKRj0zQNv5fmq8/DpAaCJseHrtQkB/+zpwzoxKQM3MzMzMeFJAZmZmZmZqWEAAAAAAAFxeQM3MzMzMJmJAmpmZmZkfZUBmZmZmZhhoQDMzMzMzEWtAAAAAAAAKbkBmZmZmZoFwQM3MzMzM/XFAMzMzMzN6c0CamZmZmfZ0QAAAAAAAc3ZAZmZmZmbvd0DNzMzMzGt5QDMzMzMz6HpAmpmZmZlkfEAAAAAAAOF9QGZmZmZmXX9AZmZmZuZsgECamZmZGSuBQM3MzMxM6YFAAAAAAICngkAzMzMzs2WDQGZmZmbmI4RAmpmZmRnihEDNzMzMTKCFQAAAAACAXoZAMzMzM7Mch0BmZmZm5tqHQJqZmZkZmYhAzczMzExXiUAAAAAAgBWKQDMzMzOz04pAZmZmZuaRi0CamZmZGVCMQM3MzMxMDo1AAAAAAIDMjUAzMzMzs4qOQGZmZmbmSI9A\",\"dtype\":\"float64\",\"shape\":[75]}},\"selected\":{\"id\":\"51796439-65a3-4ea1-a623-0eb3d7ac8986\",\"type\":\"Selection\"},\"selection_policy\":{\"id\":\"62bd5f20-9eee-42f1-bf5d-a4b0f049ca8d\",\"type\":\"UnionRenderers\"}},\"id\":\"32d293e4-0995-4a12-8c3e-adc29e46d4d8\",\"type\":\"ColumnDataSource\"},{\"attributes\":{},\"id\":\"12712727-5e43-45dc-8c69-c3e411244935\",\"type\":\"UnionRenderers\"},{\"attributes\":{\"data_source\":{\"id\":\"32d293e4-0995-4a12-8c3e-adc29e46d4d8\",\"type\":\"ColumnDataSource\"},\"glyph\":{\"id\":\"c82b1347-94d1-4a4c-bcd3-cc96f7beb73a\",\"type\":\"Triangle\"},\"hover_glyph\":null,\"muted_glyph\":null,\"nonselection_glyph\":{\"id\":\"93b0be87-3eb4-4382-880a-8458dd75da0f\",\"type\":\"Triangle\"},\"selection_glyph\":null,\"view\":{\"id\":\"1be09b28-0f45-46dc-92bd-f755f824f1e1\",\"type\":\"CDSView\"}},\"id\":\"e4a3104c-18b6-42ba-a864-cb467c89f09d\",\"type\":\"GlyphRenderer\"},{\"attributes\":{},\"id\":\"de7999d3-a5f8-4e37-8fc2-c80c94ad8c4f\",\"type\":\"UnionRenderers\"},{\"attributes\":{\"source\":{\"id\":\"32d293e4-0995-4a12-8c3e-adc29e46d4d8\",\"type\":\"ColumnDataSource\"}},\"id\":\"1be09b28-0f45-46dc-92bd-f755f824f1e1\",\"type\":\"CDSView\"},{\"attributes\":{\"source\":{\"id\":\"189512e5-a11f-46fa-86f9-c7b585d38672\",\"type\":\"ColumnDataSource\"}},\"id\":\"c127903a-1801-4a6f-bd58-983613156303\",\"type\":\"CDSView\"},{\"attributes\":{},\"id\":\"bd3c4e8a-feb8-4f6c-b313-87772dc99fa6\",\"type\":\"UnionRenderers\"},{\"attributes\":{},\"id\":\"3cc57e51-5c56-46ba-8748-ced8d312a735\",\"type\":\"BasicTickFormatter\"},{\"attributes\":{\"label\":{\"value\":\"WGT igg=1\"},\"renderers\":[{\"id\":\"5f1dbd08-fa7b-49a8-ade4-ce9b53115e86\",\"type\":\"GlyphRenderer\"},{\"id\":\"26b2f580-991f-4cde-a453-d83105a13639\",\"type\":\"GlyphRenderer\"}]},\"id\":\"e0fb7ab3-3eb4-458c-b54d-dee1e88c8351\",\"type\":\"LegendItem\"},{\"attributes\":{},\"id\":\"dce0ea11-b667-4ac5-99e9-3ef38b8df478\",\"type\":\"UnionRenderers\"},{\"attributes\":{\"data_source\":{\"id\":\"7bb9b150-0007-4d52-a733-7f6378415b79\",\"type\":\"ColumnDataSource\"},\"glyph\":{\"id\":\"102d2a38-6ff2-4965-98cf-a6a39bf22919\",\"type\":\"Line\"},\"hover_glyph\":null,\"muted_glyph\":null,\"nonselection_glyph\":{\"id\":\"4c88431f-678a-4d36-acaa-18e12c4fda4b\",\"type\":\"Line\"},\"selection_glyph\":null,\"view\":{\"id\":\"351a237a-8193-49f6-b70d-5770d36a088a\",\"type\":\"CDSView\"}},\"id\":\"60b5c578-3bbd-44ea-8821-106f4990237f\",\"type\":\"GlyphRenderer\"},{\"attributes\":{\"line_alpha\":0.1,\"line_color\":\"#1f77b4\",\"line_width\":2,\"x\":{\"field\":\"x\"},\"y\":{\"field\":\"y\"}},\"id\":\"4c88431f-678a-4d36-acaa-18e12c4fda4b\",\"type\":\"Line\"},{\"attributes\":{},\"id\":\"07b86b01-5567-4bc7-9e8a-fa470d28eb54\",\"type\":\"Selection\"},{\"attributes\":{\"line_alpha\":0.1,\"line_color\":\"#1f77b4\",\"line_width\":3,\"x\":{\"field\":\"x\"},\"y\":{\"field\":\"y\"}},\"id\":\"d5249542-98f3-4b53-a615-b7e7ea800cc5\",\"type\":\"Line\"},{\"attributes\":{\"items\":[{\"id\":\"bc9c2c60-e158-4ff2-b30d-381285833bc2\",\"type\":\"LegendItem\"},{\"id\":\"e0fb7ab3-3eb4-458c-b54d-dee1e88c8351\",\"type\":\"LegendItem\"},{\"id\":\"38498d51-a5ec-42e1-bbfa-e1346763de06\",\"type\":\"LegendItem\"}],\"label_text_font_size\":{\"value\":\"8pt\"},\"location\":\"top_center\",\"orientation\":\"horizontal\",\"plot\":{\"id\":\"3e02900f-2e4d-422e-a507-f1779d964c82\",\"subtype\":\"Figure\",\"type\":\"Plot\"}},\"id\":\"1d8d9b1a-415c-4f82-a42a-2861fdcab78d\",\"type\":\"Legend\"},{\"attributes\":{\"children\":[{\"id\":\"8e103250-8aca-41df-a114-48530a6d16ff\",\"type\":\"ToolbarBox\"},{\"id\":\"4c31beca-40d9-439c-bc2a-1119c7737010\",\"type\":\"Column\"}]},\"id\":\"98fdfe5a-611d-4e4b-9183-5b8d4645e647\",\"type\":\"Column\"},{\"attributes\":{\"ticker\":null},\"id\":\"1168b4df-aa40-4744-82c6-76c3f5be68b2\",\"type\":\"LogTickFormatter\"},{\"attributes\":{},\"id\":\"37796c7e-5c86-4f00-975d-17b66299384a\",\"type\":\"Selection\"},{\"attributes\":{},\"id\":\"e02ede94-fc05-4907-b8eb-58015fa3ddeb\",\"type\":\"BasicTickFormatter\"},{\"attributes\":{},\"id\":\"66fd5177-db08-4e63-b149-c4848d3387f8\",\"type\":\"UnionRenderers\"},{\"attributes\":{},\"id\":\"3cd8a824-30ad-410b-81a2-7263c60ee92f\",\"type\":\"UnionRenderers\"},{\"attributes\":{},\"id\":\"3c3af7a6-f941-4452-968d-28fb9091809e\",\"type\":\"Selection\"},{\"attributes\":{},\"id\":\"91c8a0ff-366e-4d06-ad87-a12d0c3e7ae4\",\"type\":\"SaveTool\"},{\"attributes\":{},\"id\":\"0d93a9a3-8946-4b5b-b690-9a6c1a681a4f\",\"type\":\"Selection\"},{\"attributes\":{},\"id\":\"d00b0006-b13d-4844-8b26-eca97422d9e5\",\"type\":\"BasicTickFormatter\"},{\"attributes\":{},\"id\":\"51796439-65a3-4ea1-a623-0eb3d7ac8986\",\"type\":\"Selection\"},{\"attributes\":{},\"id\":\"40575de7-efa7-4ebb-b220-e453da5ec235\",\"type\":\"Selection\"},{\"attributes\":{},\"id\":\"651ee256-ae47-4e53-bbad-dcf47bcc31e8\",\"type\":\"Selection\"},{\"attributes\":{},\"id\":\"cf346490-6ac7-48b6-85d1-95a4cb83092d\",\"type\":\"UnionRenderers\"},{\"attributes\":{},\"id\":\"3d161df0-c236-4b35-8bca-36b687fabcce\",\"type\":\"UnionRenderers\"},{\"attributes\":{\"toolbar\":{\"id\":\"414e6436-4dee-482a-9aba-d7e34e9cdde6\",\"type\":\"ProxyToolbar\"},\"toolbar_location\":\"above\"},\"id\":\"8e103250-8aca-41df-a114-48530a6d16ff\",\"type\":\"ToolbarBox\"}],\"root_ids\":[\"98fdfe5a-611d-4e4b-9183-5b8d4645e647\"]},\"title\":\"Bokeh Application\",\"version\":\"0.12.16\"}};\n",
       "  var render_items = [{\"docid\":\"e1e1010e-aeb7-4e95-a37a-da881f4dd98c\",\"elementid\":\"557ee46b-1240-4696-8128-078b9f94ebac\",\"modelid\":\"98fdfe5a-611d-4e4b-9183-5b8d4645e647\"}];\n",
       "  root.Bokeh.embed.embed_items_notebook(docs_json, render_items);\n",
       "\n",
       "  }\n",
       "  if (root.Bokeh !== undefined) {\n",
       "    embed_document(root);\n",
       "  } else {\n",
       "    var attempts = 0;\n",
       "    var timer = setInterval(function(root) {\n",
       "      if (root.Bokeh !== undefined) {\n",
       "        embed_document(root);\n",
       "        clearInterval(timer);\n",
       "      }\n",
       "      attempts++;\n",
       "      if (attempts > 100) {\n",
       "        console.log(\"Bokeh: ERROR: Unable to run BokehJS code because BokehJS library is missing\")\n",
       "        clearInterval(timer);\n",
       "      }\n",
       "    }, 10, root)\n",
       "  }\n",
       "})(window);"
      ],
      "application/vnd.bokehjs_exec.v0+json": ""
     },
     "metadata": {
      "application/vnd.bokehjs_exec.v0+json": {
       "id": "98fdfe5a-611d-4e4b-9183-5b8d4645e647"
      }
     },
     "output_type": "display_data"
    },
    {
     "data": {
      "text/markdown": [
       "*FIGURE.* Cooling rates. Summed over g."
      ],
      "text/plain": [
       "<IPython.core.display.Markdown object>"
      ]
     },
     "metadata": {},
     "output_type": "display_data"
    },
    {
     "data": {
      "text/html": [
       "<a id=\"Flux_Comparison\"></a>"
      ],
      "text/plain": [
       "<IPython.core.display.HTML object>"
      ]
     },
     "metadata": {},
     "output_type": "display_data"
    },
    {
     "data": {
      "text/markdown": [
       "# Flux Comparison"
      ],
      "text/plain": [
       "<IPython.core.display.Markdown object>"
      ]
     },
     "metadata": {},
     "output_type": "display_data"
    },
    {
     "data": {
      "text/html": [
       "<div>\n",
       "<style scoped>\n",
       "    .dataframe tbody tr th:only-of-type {\n",
       "        vertical-align: middle;\n",
       "    }\n",
       "\n",
       "    .dataframe tbody tr th {\n",
       "        vertical-align: top;\n",
       "    }\n",
       "\n",
       "    .dataframe thead th {\n",
       "        text-align: right;\n",
       "    }\n",
       "</style>\n",
       "<table border=\"1\" class=\"dataframe\">\n",
       "  <thead>\n",
       "    <tr style=\"text-align: right;\">\n",
       "      <th></th>\n",
       "      <th></th>\n",
       "      <th></th>\n",
       "      <th>flug</th>\n",
       "      <th>fldg</th>\n",
       "      <th>fnetg</th>\n",
       "    </tr>\n",
       "    <tr>\n",
       "      <th>g</th>\n",
       "      <th>pressure</th>\n",
       "      <th>level</th>\n",
       "      <th></th>\n",
       "      <th></th>\n",
       "      <th></th>\n",
       "    </tr>\n",
       "  </thead>\n",
       "  <tbody>\n",
       "    <tr>\n",
       "      <th rowspan=\"3\" valign=\"top\">1</th>\n",
       "      <th>0.00</th>\n",
       "      <th>1</th>\n",
       "      <td>-0.915933</td>\n",
       "      <td>0.000000</td>\n",
       "      <td>-0.915933</td>\n",
       "    </tr>\n",
       "    <tr>\n",
       "      <th>109.55</th>\n",
       "      <th>38</th>\n",
       "      <td>-0.916102</td>\n",
       "      <td>0.000145</td>\n",
       "      <td>-0.915957</td>\n",
       "    </tr>\n",
       "    <tr>\n",
       "      <th>1013.00</th>\n",
       "      <th>76</th>\n",
       "      <td>-1.375658</td>\n",
       "      <td>1.347174</td>\n",
       "      <td>-0.028484</td>\n",
       "    </tr>\n",
       "    <tr>\n",
       "      <th rowspan=\"3\" valign=\"top\">2</th>\n",
       "      <th>0.00</th>\n",
       "      <th>1</th>\n",
       "      <td>-4.987378</td>\n",
       "      <td>0.000000</td>\n",
       "      <td>-4.987378</td>\n",
       "    </tr>\n",
       "    <tr>\n",
       "      <th>109.55</th>\n",
       "      <th>38</th>\n",
       "      <td>-4.987414</td>\n",
       "      <td>0.000016</td>\n",
       "      <td>-4.987398</td>\n",
       "    </tr>\n",
       "    <tr>\n",
       "      <th>1013.00</th>\n",
       "      <th>76</th>\n",
       "      <td>-5.785490</td>\n",
       "      <td>4.193866</td>\n",
       "      <td>-1.591624</td>\n",
       "    </tr>\n",
       "    <tr>\n",
       "      <th rowspan=\"3\" valign=\"top\">3</th>\n",
       "      <th>0.00</th>\n",
       "      <th>1</th>\n",
       "      <td>-59.551675</td>\n",
       "      <td>0.000000</td>\n",
       "      <td>-59.551675</td>\n",
       "    </tr>\n",
       "    <tr>\n",
       "      <th>109.55</th>\n",
       "      <th>38</th>\n",
       "      <td>-59.551681</td>\n",
       "      <td>0.000002</td>\n",
       "      <td>-59.551679</td>\n",
       "    </tr>\n",
       "    <tr>\n",
       "      <th>1013.00</th>\n",
       "      <th>76</th>\n",
       "      <td>-60.188302</td>\n",
       "      <td>4.937269</td>\n",
       "      <td>-55.251033</td>\n",
       "    </tr>\n",
       "  </tbody>\n",
       "</table>\n",
       "</div>"
      ],
      "text/plain": [
       "                       flug      fldg      fnetg\n",
       "g pressure level                                \n",
       "1 0.00     1      -0.915933  0.000000  -0.915933\n",
       "  109.55   38     -0.916102  0.000145  -0.915957\n",
       "  1013.00  76     -1.375658  1.347174  -0.028484\n",
       "2 0.00     1      -4.987378  0.000000  -4.987378\n",
       "  109.55   38     -4.987414  0.000016  -4.987398\n",
       "  1013.00  76     -5.785490  4.193866  -1.591624\n",
       "3 0.00     1     -59.551675  0.000000 -59.551675\n",
       "  109.55   38    -59.551681  0.000002 -59.551679\n",
       "  1013.00  76    -60.188302  4.937269 -55.251033"
      ]
     },
     "metadata": {},
     "output_type": "display_data"
    },
    {
     "data": {
      "text/markdown": [
       "*TABLE.* Fluxes. CRD"
      ],
      "text/plain": [
       "<IPython.core.display.Markdown object>"
      ]
     },
     "metadata": {},
     "output_type": "display_data"
    },
    {
     "data": {
      "text/html": [
       "<div>\n",
       "<style scoped>\n",
       "    .dataframe tbody tr th:only-of-type {\n",
       "        vertical-align: middle;\n",
       "    }\n",
       "\n",
       "    .dataframe tbody tr th {\n",
       "        vertical-align: top;\n",
       "    }\n",
       "\n",
       "    .dataframe thead th {\n",
       "        text-align: right;\n",
       "    }\n",
       "</style>\n",
       "<table border=\"1\" class=\"dataframe\">\n",
       "  <thead>\n",
       "    <tr style=\"text-align: right;\">\n",
       "      <th></th>\n",
       "      <th></th>\n",
       "      <th></th>\n",
       "      <th>flug</th>\n",
       "      <th>fldg</th>\n",
       "      <th>fnetg</th>\n",
       "    </tr>\n",
       "    <tr>\n",
       "      <th>g</th>\n",
       "      <th>pressure</th>\n",
       "      <th>level</th>\n",
       "      <th></th>\n",
       "      <th></th>\n",
       "      <th></th>\n",
       "    </tr>\n",
       "  </thead>\n",
       "  <tbody>\n",
       "    <tr>\n",
       "      <th rowspan=\"3\" valign=\"top\">1</th>\n",
       "      <th>0.00</th>\n",
       "      <th>1</th>\n",
       "      <td>-0.930284</td>\n",
       "      <td>0.000000</td>\n",
       "      <td>-0.930284</td>\n",
       "    </tr>\n",
       "    <tr>\n",
       "      <th>109.55</th>\n",
       "      <th>38</th>\n",
       "      <td>-0.930423</td>\n",
       "      <td>0.000083</td>\n",
       "      <td>-0.930341</td>\n",
       "    </tr>\n",
       "    <tr>\n",
       "      <th>1013.00</th>\n",
       "      <th>76</th>\n",
       "      <td>-1.416251</td>\n",
       "      <td>1.392071</td>\n",
       "      <td>-0.024179</td>\n",
       "    </tr>\n",
       "    <tr>\n",
       "      <th rowspan=\"3\" valign=\"top\">2</th>\n",
       "      <th>0.00</th>\n",
       "      <th>1</th>\n",
       "      <td>-5.074532</td>\n",
       "      <td>0.000000</td>\n",
       "      <td>-5.074532</td>\n",
       "    </tr>\n",
       "    <tr>\n",
       "      <th>109.55</th>\n",
       "      <th>38</th>\n",
       "      <td>-5.074560</td>\n",
       "      <td>0.000010</td>\n",
       "      <td>-5.074549</td>\n",
       "    </tr>\n",
       "    <tr>\n",
       "      <th>1013.00</th>\n",
       "      <th>76</th>\n",
       "      <td>-5.858033</td>\n",
       "      <td>4.351239</td>\n",
       "      <td>-1.506794</td>\n",
       "    </tr>\n",
       "    <tr>\n",
       "      <th rowspan=\"3\" valign=\"top\">3</th>\n",
       "      <th>0.00</th>\n",
       "      <th>1</th>\n",
       "      <td>-59.462326</td>\n",
       "      <td>0.000000</td>\n",
       "      <td>-59.462326</td>\n",
       "    </tr>\n",
       "    <tr>\n",
       "      <th>109.55</th>\n",
       "      <th>38</th>\n",
       "      <td>-59.462333</td>\n",
       "      <td>0.000002</td>\n",
       "      <td>-59.462331</td>\n",
       "    </tr>\n",
       "    <tr>\n",
       "      <th>1013.00</th>\n",
       "      <th>76</th>\n",
       "      <td>-60.075166</td>\n",
       "      <td>4.978436</td>\n",
       "      <td>-55.096730</td>\n",
       "    </tr>\n",
       "  </tbody>\n",
       "</table>\n",
       "</div>"
      ],
      "text/plain": [
       "                       flug      fldg      fnetg\n",
       "g pressure level                                \n",
       "1 0.00     1      -0.930284  0.000000  -0.930284\n",
       "  109.55   38     -0.930423  0.000083  -0.930341\n",
       "  1013.00  76     -1.416251  1.392071  -0.024179\n",
       "2 0.00     1      -5.074532  0.000000  -5.074532\n",
       "  109.55   38     -5.074560  0.000010  -5.074549\n",
       "  1013.00  76     -5.858033  4.351239  -1.506794\n",
       "3 0.00     1     -59.462326  0.000000 -59.462326\n",
       "  109.55   38    -59.462333  0.000002 -59.462331\n",
       "  1013.00  76    -60.075166  4.978436 -55.096730"
      ]
     },
     "metadata": {},
     "output_type": "display_data"
    },
    {
     "data": {
      "text/markdown": [
       "*TABLE.* Fluxes. WGT igg=1"
      ],
      "text/plain": [
       "<IPython.core.display.Markdown object>"
      ]
     },
     "metadata": {},
     "output_type": "display_data"
    },
    {
     "data": {
      "text/html": [
       "<div>\n",
       "<style scoped>\n",
       "    .dataframe tbody tr th:only-of-type {\n",
       "        vertical-align: middle;\n",
       "    }\n",
       "\n",
       "    .dataframe tbody tr th {\n",
       "        vertical-align: top;\n",
       "    }\n",
       "\n",
       "    .dataframe thead th {\n",
       "        text-align: right;\n",
       "    }\n",
       "</style>\n",
       "<table border=\"1\" class=\"dataframe\">\n",
       "  <thead>\n",
       "    <tr style=\"text-align: right;\">\n",
       "      <th></th>\n",
       "      <th></th>\n",
       "      <th></th>\n",
       "      <th>flug</th>\n",
       "      <th>fldg</th>\n",
       "      <th>fnetg</th>\n",
       "    </tr>\n",
       "    <tr>\n",
       "      <th>g</th>\n",
       "      <th>pressure</th>\n",
       "      <th>level</th>\n",
       "      <th></th>\n",
       "      <th></th>\n",
       "      <th></th>\n",
       "    </tr>\n",
       "  </thead>\n",
       "  <tbody>\n",
       "    <tr>\n",
       "      <th rowspan=\"3\" valign=\"top\">1</th>\n",
       "      <th>0.00</th>\n",
       "      <th>1</th>\n",
       "      <td>-0.928050</td>\n",
       "      <td>0.000000</td>\n",
       "      <td>-0.928050</td>\n",
       "    </tr>\n",
       "    <tr>\n",
       "      <th>109.55</th>\n",
       "      <th>38</th>\n",
       "      <td>-0.928178</td>\n",
       "      <td>0.000069</td>\n",
       "      <td>-0.928109</td>\n",
       "    </tr>\n",
       "    <tr>\n",
       "      <th>1013.00</th>\n",
       "      <th>76</th>\n",
       "      <td>-1.416251</td>\n",
       "      <td>1.394622</td>\n",
       "      <td>-0.021629</td>\n",
       "    </tr>\n",
       "    <tr>\n",
       "      <th rowspan=\"3\" valign=\"top\">2</th>\n",
       "      <th>0.00</th>\n",
       "      <th>1</th>\n",
       "      <td>-5.081031</td>\n",
       "      <td>0.000000</td>\n",
       "      <td>-5.081031</td>\n",
       "    </tr>\n",
       "    <tr>\n",
       "      <th>109.55</th>\n",
       "      <th>38</th>\n",
       "      <td>-5.081056</td>\n",
       "      <td>0.000009</td>\n",
       "      <td>-5.081048</td>\n",
       "    </tr>\n",
       "    <tr>\n",
       "      <th>1013.00</th>\n",
       "      <th>76</th>\n",
       "      <td>-5.858033</td>\n",
       "      <td>4.502493</td>\n",
       "      <td>-1.355540</td>\n",
       "    </tr>\n",
       "    <tr>\n",
       "      <th rowspan=\"3\" valign=\"top\">3</th>\n",
       "      <th>0.00</th>\n",
       "      <th>1</th>\n",
       "      <td>-59.486475</td>\n",
       "      <td>0.000000</td>\n",
       "      <td>-59.486475</td>\n",
       "    </tr>\n",
       "    <tr>\n",
       "      <th>109.55</th>\n",
       "      <th>38</th>\n",
       "      <td>-59.486481</td>\n",
       "      <td>0.000002</td>\n",
       "      <td>-59.486480</td>\n",
       "    </tr>\n",
       "    <tr>\n",
       "      <th>1013.00</th>\n",
       "      <th>76</th>\n",
       "      <td>-60.075166</td>\n",
       "      <td>4.872018</td>\n",
       "      <td>-55.203148</td>\n",
       "    </tr>\n",
       "  </tbody>\n",
       "</table>\n",
       "</div>"
      ],
      "text/plain": [
       "                       flug      fldg      fnetg\n",
       "g pressure level                                \n",
       "1 0.00     1      -0.928050  0.000000  -0.928050\n",
       "  109.55   38     -0.928178  0.000069  -0.928109\n",
       "  1013.00  76     -1.416251  1.394622  -0.021629\n",
       "2 0.00     1      -5.081031  0.000000  -5.081031\n",
       "  109.55   38     -5.081056  0.000009  -5.081048\n",
       "  1013.00  76     -5.858033  4.502493  -1.355540\n",
       "3 0.00     1     -59.486475  0.000000 -59.486475\n",
       "  109.55   38    -59.486481  0.000002 -59.486480\n",
       "  1013.00  76    -60.075166  4.872018 -55.203148"
      ]
     },
     "metadata": {},
     "output_type": "display_data"
    },
    {
     "data": {
      "text/markdown": [
       "*TABLE.* Fluxes. WGT igg=10"
      ],
      "text/plain": [
       "<IPython.core.display.Markdown object>"
      ]
     },
     "metadata": {},
     "output_type": "display_data"
    },
    {
     "data": {
      "text/html": [
       "<div>\n",
       "<style scoped>\n",
       "    .dataframe tbody tr th:only-of-type {\n",
       "        vertical-align: middle;\n",
       "    }\n",
       "\n",
       "    .dataframe tbody tr th {\n",
       "        vertical-align: top;\n",
       "    }\n",
       "\n",
       "    .dataframe thead th {\n",
       "        text-align: right;\n",
       "    }\n",
       "</style>\n",
       "<table border=\"1\" class=\"dataframe\">\n",
       "  <thead>\n",
       "    <tr style=\"text-align: right;\">\n",
       "      <th></th>\n",
       "      <th></th>\n",
       "      <th></th>\n",
       "      <th>flug</th>\n",
       "      <th>fldg</th>\n",
       "      <th>fnetg</th>\n",
       "    </tr>\n",
       "    <tr>\n",
       "      <th>g</th>\n",
       "      <th>pressure</th>\n",
       "      <th>level</th>\n",
       "      <th></th>\n",
       "      <th></th>\n",
       "      <th></th>\n",
       "    </tr>\n",
       "  </thead>\n",
       "  <tbody>\n",
       "    <tr>\n",
       "      <th rowspan=\"3\" valign=\"top\">1</th>\n",
       "      <th>0.00</th>\n",
       "      <th>1</th>\n",
       "      <td>-0.014351</td>\n",
       "      <td>0.000000e+00</td>\n",
       "      <td>-0.014351</td>\n",
       "    </tr>\n",
       "    <tr>\n",
       "      <th>109.55</th>\n",
       "      <th>38</th>\n",
       "      <td>-0.014321</td>\n",
       "      <td>-6.177841e-05</td>\n",
       "      <td>-0.014383</td>\n",
       "    </tr>\n",
       "    <tr>\n",
       "      <th>1013.00</th>\n",
       "      <th>76</th>\n",
       "      <td>-0.040593</td>\n",
       "      <td>4.489760e-02</td>\n",
       "      <td>0.004305</td>\n",
       "    </tr>\n",
       "    <tr>\n",
       "      <th rowspan=\"3\" valign=\"top\">2</th>\n",
       "      <th>0.00</th>\n",
       "      <th>1</th>\n",
       "      <td>-0.087154</td>\n",
       "      <td>0.000000e+00</td>\n",
       "      <td>-0.087154</td>\n",
       "    </tr>\n",
       "    <tr>\n",
       "      <th>109.55</th>\n",
       "      <th>38</th>\n",
       "      <td>-0.087146</td>\n",
       "      <td>-5.651253e-06</td>\n",
       "      <td>-0.087152</td>\n",
       "    </tr>\n",
       "    <tr>\n",
       "      <th>1013.00</th>\n",
       "      <th>76</th>\n",
       "      <td>-0.072543</td>\n",
       "      <td>1.573727e-01</td>\n",
       "      <td>0.084830</td>\n",
       "    </tr>\n",
       "    <tr>\n",
       "      <th rowspan=\"3\" valign=\"top\">3</th>\n",
       "      <th>0.00</th>\n",
       "      <th>1</th>\n",
       "      <td>0.089349</td>\n",
       "      <td>0.000000e+00</td>\n",
       "      <td>0.089349</td>\n",
       "    </tr>\n",
       "    <tr>\n",
       "      <th>109.55</th>\n",
       "      <th>38</th>\n",
       "      <td>0.089348</td>\n",
       "      <td>-2.487241e-07</td>\n",
       "      <td>0.089348</td>\n",
       "    </tr>\n",
       "    <tr>\n",
       "      <th>1013.00</th>\n",
       "      <th>76</th>\n",
       "      <td>0.113136</td>\n",
       "      <td>4.116740e-02</td>\n",
       "      <td>0.154303</td>\n",
       "    </tr>\n",
       "  </tbody>\n",
       "</table>\n",
       "</div>"
      ],
      "text/plain": [
       "                      flug          fldg     fnetg\n",
       "g pressure level                                  \n",
       "1 0.00     1     -0.014351  0.000000e+00 -0.014351\n",
       "  109.55   38    -0.014321 -6.177841e-05 -0.014383\n",
       "  1013.00  76    -0.040593  4.489760e-02  0.004305\n",
       "2 0.00     1     -0.087154  0.000000e+00 -0.087154\n",
       "  109.55   38    -0.087146 -5.651253e-06 -0.087152\n",
       "  1013.00  76    -0.072543  1.573727e-01  0.084830\n",
       "3 0.00     1      0.089349  0.000000e+00  0.089349\n",
       "  109.55   38     0.089348 -2.487241e-07  0.089348\n",
       "  1013.00  76     0.113136  4.116740e-02  0.154303"
      ]
     },
     "metadata": {},
     "output_type": "display_data"
    },
    {
     "data": {
      "text/markdown": [
       "*TABLE.* Fluxes. (WGT igg=1) - (CRD)"
      ],
      "text/plain": [
       "<IPython.core.display.Markdown object>"
      ]
     },
     "metadata": {},
     "output_type": "display_data"
    },
    {
     "data": {
      "text/html": [
       "<div>\n",
       "<style scoped>\n",
       "    .dataframe tbody tr th:only-of-type {\n",
       "        vertical-align: middle;\n",
       "    }\n",
       "\n",
       "    .dataframe tbody tr th {\n",
       "        vertical-align: top;\n",
       "    }\n",
       "\n",
       "    .dataframe thead th {\n",
       "        text-align: right;\n",
       "    }\n",
       "</style>\n",
       "<table border=\"1\" class=\"dataframe\">\n",
       "  <thead>\n",
       "    <tr style=\"text-align: right;\">\n",
       "      <th></th>\n",
       "      <th></th>\n",
       "      <th></th>\n",
       "      <th>flug</th>\n",
       "      <th>fldg</th>\n",
       "      <th>fnetg</th>\n",
       "    </tr>\n",
       "    <tr>\n",
       "      <th>g</th>\n",
       "      <th>pressure</th>\n",
       "      <th>level</th>\n",
       "      <th></th>\n",
       "      <th></th>\n",
       "      <th></th>\n",
       "    </tr>\n",
       "  </thead>\n",
       "  <tbody>\n",
       "    <tr>\n",
       "      <th rowspan=\"3\" valign=\"top\">1</th>\n",
       "      <th>0.00</th>\n",
       "      <th>1</th>\n",
       "      <td>-0.012117</td>\n",
       "      <td>0.000000e+00</td>\n",
       "      <td>-0.012117</td>\n",
       "    </tr>\n",
       "    <tr>\n",
       "      <th>109.55</th>\n",
       "      <th>38</th>\n",
       "      <td>-0.012076</td>\n",
       "      <td>-7.540227e-05</td>\n",
       "      <td>-0.012151</td>\n",
       "    </tr>\n",
       "    <tr>\n",
       "      <th>1013.00</th>\n",
       "      <th>76</th>\n",
       "      <td>-0.040593</td>\n",
       "      <td>4.744800e-02</td>\n",
       "      <td>0.006855</td>\n",
       "    </tr>\n",
       "    <tr>\n",
       "      <th rowspan=\"3\" valign=\"top\">2</th>\n",
       "      <th>0.00</th>\n",
       "      <th>1</th>\n",
       "      <td>-0.093653</td>\n",
       "      <td>0.000000e+00</td>\n",
       "      <td>-0.093653</td>\n",
       "    </tr>\n",
       "    <tr>\n",
       "      <th>109.55</th>\n",
       "      <th>38</th>\n",
       "      <td>-0.093642</td>\n",
       "      <td>-7.330574e-06</td>\n",
       "      <td>-0.093650</td>\n",
       "    </tr>\n",
       "    <tr>\n",
       "      <th>1013.00</th>\n",
       "      <th>76</th>\n",
       "      <td>-0.072543</td>\n",
       "      <td>3.086269e-01</td>\n",
       "      <td>0.236084</td>\n",
       "    </tr>\n",
       "    <tr>\n",
       "      <th rowspan=\"3\" valign=\"top\">3</th>\n",
       "      <th>0.00</th>\n",
       "      <th>1</th>\n",
       "      <td>0.065200</td>\n",
       "      <td>0.000000e+00</td>\n",
       "      <td>0.065200</td>\n",
       "    </tr>\n",
       "    <tr>\n",
       "      <th>109.55</th>\n",
       "      <th>38</th>\n",
       "      <td>0.065200</td>\n",
       "      <td>-3.701791e-07</td>\n",
       "      <td>0.065199</td>\n",
       "    </tr>\n",
       "    <tr>\n",
       "      <th>1013.00</th>\n",
       "      <th>76</th>\n",
       "      <td>0.113136</td>\n",
       "      <td>-6.525060e-02</td>\n",
       "      <td>0.047885</td>\n",
       "    </tr>\n",
       "  </tbody>\n",
       "</table>\n",
       "</div>"
      ],
      "text/plain": [
       "                      flug          fldg     fnetg\n",
       "g pressure level                                  \n",
       "1 0.00     1     -0.012117  0.000000e+00 -0.012117\n",
       "  109.55   38    -0.012076 -7.540227e-05 -0.012151\n",
       "  1013.00  76    -0.040593  4.744800e-02  0.006855\n",
       "2 0.00     1     -0.093653  0.000000e+00 -0.093653\n",
       "  109.55   38    -0.093642 -7.330574e-06 -0.093650\n",
       "  1013.00  76    -0.072543  3.086269e-01  0.236084\n",
       "3 0.00     1      0.065200  0.000000e+00  0.065200\n",
       "  109.55   38     0.065200 -3.701791e-07  0.065199\n",
       "  1013.00  76     0.113136 -6.525060e-02  0.047885"
      ]
     },
     "metadata": {},
     "output_type": "display_data"
    },
    {
     "data": {
      "text/markdown": [
       "*TABLE.* Fluxes. (WGT igg=10) - (CRD)"
      ],
      "text/plain": [
       "<IPython.core.display.Markdown object>"
      ]
     },
     "metadata": {},
     "output_type": "display_data"
    },
    {
     "data": {
      "text/html": [
       "<div>\n",
       "<style scoped>\n",
       "    .dataframe tbody tr th:only-of-type {\n",
       "        vertical-align: middle;\n",
       "    }\n",
       "\n",
       "    .dataframe tbody tr th {\n",
       "        vertical-align: top;\n",
       "    }\n",
       "\n",
       "    .dataframe thead th {\n",
       "        text-align: right;\n",
       "    }\n",
       "</style>\n",
       "<table border=\"1\" class=\"dataframe\">\n",
       "  <thead>\n",
       "    <tr style=\"text-align: right;\">\n",
       "      <th></th>\n",
       "      <th></th>\n",
       "      <th>flug</th>\n",
       "      <th>fldg</th>\n",
       "      <th>fnetg</th>\n",
       "    </tr>\n",
       "    <tr>\n",
       "      <th>pressure</th>\n",
       "      <th>level</th>\n",
       "      <th></th>\n",
       "      <th></th>\n",
       "      <th></th>\n",
       "    </tr>\n",
       "  </thead>\n",
       "  <tbody>\n",
       "    <tr>\n",
       "      <th>0.00</th>\n",
       "      <th>1</th>\n",
       "      <td>-65.454986</td>\n",
       "      <td>0.000000</td>\n",
       "      <td>-65.454986</td>\n",
       "    </tr>\n",
       "    <tr>\n",
       "      <th>109.55</th>\n",
       "      <th>38</th>\n",
       "      <td>-65.455197</td>\n",
       "      <td>0.000163</td>\n",
       "      <td>-65.455034</td>\n",
       "    </tr>\n",
       "    <tr>\n",
       "      <th>1013.00</th>\n",
       "      <th>76</th>\n",
       "      <td>-67.349450</td>\n",
       "      <td>10.478309</td>\n",
       "      <td>-56.871141</td>\n",
       "    </tr>\n",
       "  </tbody>\n",
       "</table>\n",
       "</div>"
      ],
      "text/plain": [
       "                     flug       fldg      fnetg\n",
       "pressure level                                 \n",
       "0.00     1     -65.454986   0.000000 -65.454986\n",
       "109.55   38    -65.455197   0.000163 -65.455034\n",
       "1013.00  76    -67.349450  10.478309 -56.871141"
      ]
     },
     "metadata": {},
     "output_type": "display_data"
    },
    {
     "data": {
      "text/markdown": [
       "*TABLE.* Fluxes. CRD"
      ],
      "text/plain": [
       "<IPython.core.display.Markdown object>"
      ]
     },
     "metadata": {},
     "output_type": "display_data"
    },
    {
     "data": {
      "text/html": [
       "<div>\n",
       "<style scoped>\n",
       "    .dataframe tbody tr th:only-of-type {\n",
       "        vertical-align: middle;\n",
       "    }\n",
       "\n",
       "    .dataframe tbody tr th {\n",
       "        vertical-align: top;\n",
       "    }\n",
       "\n",
       "    .dataframe thead th {\n",
       "        text-align: right;\n",
       "    }\n",
       "</style>\n",
       "<table border=\"1\" class=\"dataframe\">\n",
       "  <thead>\n",
       "    <tr style=\"text-align: right;\">\n",
       "      <th></th>\n",
       "      <th></th>\n",
       "      <th>flug</th>\n",
       "      <th>fldg</th>\n",
       "      <th>fnetg</th>\n",
       "    </tr>\n",
       "    <tr>\n",
       "      <th>pressure</th>\n",
       "      <th>level</th>\n",
       "      <th></th>\n",
       "      <th></th>\n",
       "      <th></th>\n",
       "    </tr>\n",
       "  </thead>\n",
       "  <tbody>\n",
       "    <tr>\n",
       "      <th>0.00</th>\n",
       "      <th>1</th>\n",
       "      <td>-65.467141</td>\n",
       "      <td>0.000000</td>\n",
       "      <td>-65.467141</td>\n",
       "    </tr>\n",
       "    <tr>\n",
       "      <th>109.55</th>\n",
       "      <th>38</th>\n",
       "      <td>-65.467316</td>\n",
       "      <td>0.000095</td>\n",
       "      <td>-65.467221</td>\n",
       "    </tr>\n",
       "    <tr>\n",
       "      <th>1013.00</th>\n",
       "      <th>76</th>\n",
       "      <td>-67.349450</td>\n",
       "      <td>10.721747</td>\n",
       "      <td>-56.627703</td>\n",
       "    </tr>\n",
       "  </tbody>\n",
       "</table>\n",
       "</div>"
      ],
      "text/plain": [
       "                     flug       fldg      fnetg\n",
       "pressure level                                 \n",
       "0.00     1     -65.467141   0.000000 -65.467141\n",
       "109.55   38    -65.467316   0.000095 -65.467221\n",
       "1013.00  76    -67.349450  10.721747 -56.627703"
      ]
     },
     "metadata": {},
     "output_type": "display_data"
    },
    {
     "data": {
      "text/markdown": [
       "*TABLE.* Fluxes. WGT igg=1"
      ],
      "text/plain": [
       "<IPython.core.display.Markdown object>"
      ]
     },
     "metadata": {},
     "output_type": "display_data"
    },
    {
     "data": {
      "text/html": [
       "<div>\n",
       "<style scoped>\n",
       "    .dataframe tbody tr th:only-of-type {\n",
       "        vertical-align: middle;\n",
       "    }\n",
       "\n",
       "    .dataframe tbody tr th {\n",
       "        vertical-align: top;\n",
       "    }\n",
       "\n",
       "    .dataframe thead th {\n",
       "        text-align: right;\n",
       "    }\n",
       "</style>\n",
       "<table border=\"1\" class=\"dataframe\">\n",
       "  <thead>\n",
       "    <tr style=\"text-align: right;\">\n",
       "      <th></th>\n",
       "      <th></th>\n",
       "      <th>flug</th>\n",
       "      <th>fldg</th>\n",
       "      <th>fnetg</th>\n",
       "    </tr>\n",
       "    <tr>\n",
       "      <th>pressure</th>\n",
       "      <th>level</th>\n",
       "      <th></th>\n",
       "      <th></th>\n",
       "      <th></th>\n",
       "    </tr>\n",
       "  </thead>\n",
       "  <tbody>\n",
       "    <tr>\n",
       "      <th>0.00</th>\n",
       "      <th>1</th>\n",
       "      <td>-65.495556</td>\n",
       "      <td>0.000000</td>\n",
       "      <td>-65.495556</td>\n",
       "    </tr>\n",
       "    <tr>\n",
       "      <th>109.55</th>\n",
       "      <th>38</th>\n",
       "      <td>-65.495716</td>\n",
       "      <td>0.000080</td>\n",
       "      <td>-65.495637</td>\n",
       "    </tr>\n",
       "    <tr>\n",
       "      <th>1013.00</th>\n",
       "      <th>76</th>\n",
       "      <td>-67.349450</td>\n",
       "      <td>10.769133</td>\n",
       "      <td>-56.580317</td>\n",
       "    </tr>\n",
       "  </tbody>\n",
       "</table>\n",
       "</div>"
      ],
      "text/plain": [
       "                     flug       fldg      fnetg\n",
       "pressure level                                 \n",
       "0.00     1     -65.495556   0.000000 -65.495556\n",
       "109.55   38    -65.495716   0.000080 -65.495637\n",
       "1013.00  76    -67.349450  10.769133 -56.580317"
      ]
     },
     "metadata": {},
     "output_type": "display_data"
    },
    {
     "data": {
      "text/markdown": [
       "*TABLE.* Fluxes. WGT igg=10"
      ],
      "text/plain": [
       "<IPython.core.display.Markdown object>"
      ]
     },
     "metadata": {},
     "output_type": "display_data"
    },
    {
     "data": {
      "text/html": [
       "<div>\n",
       "<style scoped>\n",
       "    .dataframe tbody tr th:only-of-type {\n",
       "        vertical-align: middle;\n",
       "    }\n",
       "\n",
       "    .dataframe tbody tr th {\n",
       "        vertical-align: top;\n",
       "    }\n",
       "\n",
       "    .dataframe thead th {\n",
       "        text-align: right;\n",
       "    }\n",
       "</style>\n",
       "<table border=\"1\" class=\"dataframe\">\n",
       "  <thead>\n",
       "    <tr style=\"text-align: right;\">\n",
       "      <th></th>\n",
       "      <th></th>\n",
       "      <th>flug</th>\n",
       "      <th>fldg</th>\n",
       "      <th>fnetg</th>\n",
       "    </tr>\n",
       "    <tr>\n",
       "      <th>pressure</th>\n",
       "      <th>level</th>\n",
       "      <th></th>\n",
       "      <th></th>\n",
       "      <th></th>\n",
       "    </tr>\n",
       "  </thead>\n",
       "  <tbody>\n",
       "    <tr>\n",
       "      <th>0.00</th>\n",
       "      <th>1</th>\n",
       "      <td>-1.215530e-02</td>\n",
       "      <td>0.000000</td>\n",
       "      <td>-0.012155</td>\n",
       "    </tr>\n",
       "    <tr>\n",
       "      <th>109.55</th>\n",
       "      <th>38</th>\n",
       "      <td>-1.211905e-02</td>\n",
       "      <td>-0.000068</td>\n",
       "      <td>-0.012187</td>\n",
       "    </tr>\n",
       "    <tr>\n",
       "      <th>1013.00</th>\n",
       "      <th>76</th>\n",
       "      <td>5.000000e-07</td>\n",
       "      <td>0.243438</td>\n",
       "      <td>0.243438</td>\n",
       "    </tr>\n",
       "  </tbody>\n",
       "</table>\n",
       "</div>"
      ],
      "text/plain": [
       "                        flug      fldg     fnetg\n",
       "pressure level                                  \n",
       "0.00     1     -1.215530e-02  0.000000 -0.012155\n",
       "109.55   38    -1.211905e-02 -0.000068 -0.012187\n",
       "1013.00  76     5.000000e-07  0.243438  0.243438"
      ]
     },
     "metadata": {},
     "output_type": "display_data"
    },
    {
     "data": {
      "text/markdown": [
       "*TABLE.* Fluxes. (WGT igg=1) - (CRD)"
      ],
      "text/plain": [
       "<IPython.core.display.Markdown object>"
      ]
     },
     "metadata": {},
     "output_type": "display_data"
    },
    {
     "data": {
      "text/html": [
       "<div>\n",
       "<style scoped>\n",
       "    .dataframe tbody tr th:only-of-type {\n",
       "        vertical-align: middle;\n",
       "    }\n",
       "\n",
       "    .dataframe tbody tr th {\n",
       "        vertical-align: top;\n",
       "    }\n",
       "\n",
       "    .dataframe thead th {\n",
       "        text-align: right;\n",
       "    }\n",
       "</style>\n",
       "<table border=\"1\" class=\"dataframe\">\n",
       "  <thead>\n",
       "    <tr style=\"text-align: right;\">\n",
       "      <th></th>\n",
       "      <th></th>\n",
       "      <th>flug</th>\n",
       "      <th>fldg</th>\n",
       "      <th>fnetg</th>\n",
       "    </tr>\n",
       "    <tr>\n",
       "      <th>pressure</th>\n",
       "      <th>level</th>\n",
       "      <th></th>\n",
       "      <th></th>\n",
       "      <th></th>\n",
       "    </tr>\n",
       "  </thead>\n",
       "  <tbody>\n",
       "    <tr>\n",
       "      <th>0.00</th>\n",
       "      <th>1</th>\n",
       "      <td>-4.057042e-02</td>\n",
       "      <td>0.000000</td>\n",
       "      <td>-0.040570</td>\n",
       "    </tr>\n",
       "    <tr>\n",
       "      <th>109.55</th>\n",
       "      <th>38</th>\n",
       "      <td>-4.051846e-02</td>\n",
       "      <td>-0.000083</td>\n",
       "      <td>-0.040602</td>\n",
       "    </tr>\n",
       "    <tr>\n",
       "      <th>1013.00</th>\n",
       "      <th>76</th>\n",
       "      <td>5.000000e-07</td>\n",
       "      <td>0.290824</td>\n",
       "      <td>0.290824</td>\n",
       "    </tr>\n",
       "  </tbody>\n",
       "</table>\n",
       "</div>"
      ],
      "text/plain": [
       "                        flug      fldg     fnetg\n",
       "pressure level                                  \n",
       "0.00     1     -4.057042e-02  0.000000 -0.040570\n",
       "109.55   38    -4.051846e-02 -0.000083 -0.040602\n",
       "1013.00  76     5.000000e-07  0.290824  0.290824"
      ]
     },
     "metadata": {},
     "output_type": "display_data"
    },
    {
     "data": {
      "text/markdown": [
       "*TABLE.* Fluxes. (WGT igg=10) - (CRD)"
      ],
      "text/plain": [
       "<IPython.core.display.Markdown object>"
      ]
     },
     "metadata": {},
     "output_type": "display_data"
    },
    {
     "data": {
      "text/html": [
       "<a id=\"g-interval_Summary\"></a>"
      ],
      "text/plain": [
       "<IPython.core.display.HTML object>"
      ]
     },
     "metadata": {},
     "output_type": "display_data"
    },
    {
     "data": {
      "text/markdown": [
       "# g-interval Summary"
      ],
      "text/plain": [
       "<IPython.core.display.Markdown object>"
      ]
     },
     "metadata": {},
     "output_type": "display_data"
    },
    {
     "data": {
      "text/html": [
       "<div>\n",
       "<style scoped>\n",
       "    .dataframe tbody tr th:only-of-type {\n",
       "        vertical-align: middle;\n",
       "    }\n",
       "\n",
       "    .dataframe tbody tr th {\n",
       "        vertical-align: top;\n",
       "    }\n",
       "\n",
       "    .dataframe thead th {\n",
       "        text-align: right;\n",
       "    }\n",
       "</style>\n",
       "<table border=\"1\" class=\"dataframe\">\n",
       "  <thead>\n",
       "    <tr style=\"text-align: right;\">\n",
       "      <th></th>\n",
       "      <th>abscom</th>\n",
       "      <th>k(ig) / k(ig - 1)</th>\n",
       "      <th>dg</th>\n",
       "      <th>dgs</th>\n",
       "      <th>dg cumsum</th>\n",
       "      <th>dgs cumsum</th>\n",
       "      <th>pref</th>\n",
       "    </tr>\n",
       "    <tr>\n",
       "      <th>g</th>\n",
       "      <th></th>\n",
       "      <th></th>\n",
       "      <th></th>\n",
       "      <th></th>\n",
       "      <th></th>\n",
       "      <th></th>\n",
       "      <th></th>\n",
       "    </tr>\n",
       "  </thead>\n",
       "  <tbody>\n",
       "    <tr>\n",
       "      <th>1</th>\n",
       "      <td>1.191913e-23</td>\n",
       "      <td>NaN</td>\n",
       "      <td>0.019472</td>\n",
       "      <td>0.021028</td>\n",
       "      <td>0.019472</td>\n",
       "      <td>0.021028</td>\n",
       "      <td>600.0</td>\n",
       "    </tr>\n",
       "    <tr>\n",
       "      <th>2</th>\n",
       "      <td>1.000017e-24</td>\n",
       "      <td>0.083900</td>\n",
       "      <td>0.084250</td>\n",
       "      <td>0.086980</td>\n",
       "      <td>0.103722</td>\n",
       "      <td>0.108008</td>\n",
       "      <td>600.0</td>\n",
       "    </tr>\n",
       "    <tr>\n",
       "      <th>3</th>\n",
       "      <td>2.367320e-27</td>\n",
       "      <td>0.002367</td>\n",
       "      <td>0.896278</td>\n",
       "      <td>0.891992</td>\n",
       "      <td>1.000000</td>\n",
       "      <td>1.000000</td>\n",
       "      <td>600.0</td>\n",
       "    </tr>\n",
       "  </tbody>\n",
       "</table>\n",
       "</div>"
      ],
      "text/plain": [
       "         abscom  k(ig) / k(ig - 1)        dg       dgs  dg cumsum  dgs cumsum  \\\n",
       "g                                                                               \n",
       "1  1.191913e-23                NaN  0.019472  0.021028   0.019472    0.021028   \n",
       "2  1.000017e-24           0.083900  0.084250  0.086980   0.103722    0.108008   \n",
       "3  2.367320e-27           0.002367  0.896278  0.891992   1.000000    1.000000   \n",
       "\n",
       "    pref  \n",
       "g         \n",
       "1  600.0  \n",
       "2  600.0  \n",
       "3  600.0  "
      ]
     },
     "metadata": {},
     "output_type": "display_data"
    },
    {
     "data": {
      "text/markdown": [
       "TABLE. g-interval summary.  *abscom* is the lower bound of the g-interval."
      ],
      "text/plain": [
       "<IPython.core.display.Markdown object>"
      ]
     },
     "metadata": {},
     "output_type": "display_data"
    },
    {
     "data": {
      "text/html": [
       "<a id=\"Download_Data\"></a>"
      ],
      "text/plain": [
       "<IPython.core.display.HTML object>"
      ]
     },
     "metadata": {},
     "output_type": "display_data"
    },
    {
     "data": {
      "text/markdown": [
       "# Download Data"
      ],
      "text/plain": [
       "<IPython.core.display.Markdown object>"
      ]
     },
     "metadata": {},
     "output_type": "display_data"
    },
    {
     "data": {
      "text/html": [
       "Download: <a href=\"./lblnew-bestfit_flux.xlsx\">lblnew-bestfit_flux.xlsx</a>"
      ],
      "text/plain": [
       "<IPython.core.display.HTML object>"
      ]
     },
     "metadata": {},
     "output_type": "display_data"
    },
    {
     "data": {
      "text/html": [
       "Download: <a href=\"./lblnew-bestfit_cool.xlsx\">lblnew-bestfit_cool.xlsx</a>"
      ],
      "text/plain": [
       "<IPython.core.display.HTML object>"
      ]
     },
     "metadata": {},
     "output_type": "display_data"
    }
   ],
   "source": [
    "script()"
   ]
  },
  {
   "cell_type": "code",
   "execution_count": 14,
   "metadata": {},
   "outputs": [
    {
     "data": {
      "text/html": [
       "<script>\n",
       "code_show=true; \n",
       "function code_toggle() {\n",
       " if (code_show){\n",
       " $('div.input').hide();\n",
       " } else {\n",
       " $('div.input').show();\n",
       " }\n",
       " code_show = !code_show\n",
       "} \n",
       "$( document ).ready(code_toggle);\n",
       "</script>\n",
       "<form action=\"javascript:code_toggle()\"><input type=\"submit\" value=\"Click here to toggle on/off the raw code.\"></form>"
      ],
      "text/plain": [
       "<IPython.core.display.HTML object>"
      ]
     },
     "execution_count": 14,
     "metadata": {},
     "output_type": "execute_result"
    }
   ],
   "source": [
    "display.HTML('''<script>\n",
    "code_show=true; \n",
    "function code_toggle() {\n",
    " if (code_show){\n",
    " $('div.input').hide();\n",
    " } else {\n",
    " $('div.input').show();\n",
    " }\n",
    " code_show = !code_show\n",
    "} \n",
    "$( document ).ready(code_toggle);\n",
    "</script>\n",
    "<form action=\"javascript:code_toggle()\"><input type=\"submit\" value=\"Click here to toggle on/off the raw code.\"></form>''')"
   ]
  },
  {
   "cell_type": "code",
   "execution_count": 15,
   "metadata": {
    "collapsed": true
   },
   "outputs": [],
   "source": []
  }
 ],
 "metadata": {
  "kernelspec": {
   "display_name": "Python 3",
   "language": "python",
   "name": "python3"
  },
  "language_info": {
   "codemirror_mode": {
    "name": "ipython",
    "version": 3
   },
   "file_extension": ".py",
   "mimetype": "text/x-python",
   "name": "python",
   "nbconvert_exporter": "python",
   "pygments_lexer": "ipython3",
   "version": "3.6.1"
  }
 },
 "nbformat": 4,
 "nbformat_minor": 2
}
