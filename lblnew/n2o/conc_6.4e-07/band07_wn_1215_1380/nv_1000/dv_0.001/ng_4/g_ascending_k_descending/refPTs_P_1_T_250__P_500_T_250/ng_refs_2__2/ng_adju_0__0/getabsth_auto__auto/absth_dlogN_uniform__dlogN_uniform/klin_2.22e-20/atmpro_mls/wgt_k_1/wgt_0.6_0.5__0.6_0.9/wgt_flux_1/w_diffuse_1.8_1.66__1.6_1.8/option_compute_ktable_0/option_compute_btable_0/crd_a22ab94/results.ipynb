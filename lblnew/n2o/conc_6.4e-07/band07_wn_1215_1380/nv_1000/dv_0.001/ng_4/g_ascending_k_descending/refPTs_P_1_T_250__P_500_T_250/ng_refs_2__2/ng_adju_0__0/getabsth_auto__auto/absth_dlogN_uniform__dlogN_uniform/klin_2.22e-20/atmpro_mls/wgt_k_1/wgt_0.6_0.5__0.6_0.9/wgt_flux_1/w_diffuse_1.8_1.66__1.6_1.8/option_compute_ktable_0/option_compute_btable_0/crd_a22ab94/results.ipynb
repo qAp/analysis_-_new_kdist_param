{
 "cells": [
  {
   "cell_type": "code",
   "execution_count": 1,
   "metadata": {
    "collapsed": true
   },
   "outputs": [],
   "source": [
    "%reload_ext autoreload\n",
    "%autoreload 2\n",
    "%matplotlib inline"
   ]
  },
  {
   "cell_type": "code",
   "execution_count": 2,
   "metadata": {
    "collapsed": true
   },
   "outputs": [],
   "source": [
    "import io\n",
    "\n",
    "import numpy as np\n",
    "import pymongo\n",
    "\n",
    "from bokeh.io import output_notebook, show\n",
    "from bokeh.palettes import all_palettes\n",
    "from bokeh.layouts import gridplot\n",
    "\n",
    "from IPython import display\n",
    "\n",
    "from climatools.cliradlw.dataset import load_output_file\n",
    "import climatools.html.html as climahtml\n",
    "from climatools.plot.plot import *"
   ]
  },
  {
   "cell_type": "code",
   "execution_count": 3,
   "metadata": {},
   "outputs": [
    {
     "data": {
      "text/html": [
       "\n",
       "    <div class=\"bk-root\">\n",
       "        <a href=\"https://bokeh.pydata.org\" target=\"_blank\" class=\"bk-logo bk-logo-small bk-logo-notebook\"></a>\n",
       "        <span id=\"69ad9720-f63a-414e-a86c-62770ce03740\">Loading BokehJS ...</span>\n",
       "    </div>"
      ]
     },
     "metadata": {},
     "output_type": "display_data"
    },
    {
     "data": {
      "application/javascript": [
       "\n",
       "(function(root) {\n",
       "  function now() {\n",
       "    return new Date();\n",
       "  }\n",
       "\n",
       "  var force = true;\n",
       "\n",
       "  if (typeof (root._bokeh_onload_callbacks) === \"undefined\" || force === true) {\n",
       "    root._bokeh_onload_callbacks = [];\n",
       "    root._bokeh_is_loading = undefined;\n",
       "  }\n",
       "\n",
       "  var JS_MIME_TYPE = 'application/javascript';\n",
       "  var HTML_MIME_TYPE = 'text/html';\n",
       "  var EXEC_MIME_TYPE = 'application/vnd.bokehjs_exec.v0+json';\n",
       "  var CLASS_NAME = 'output_bokeh rendered_html';\n",
       "\n",
       "  /**\n",
       "   * Render data to the DOM node\n",
       "   */\n",
       "  function render(props, node) {\n",
       "    var script = document.createElement(\"script\");\n",
       "    node.appendChild(script);\n",
       "  }\n",
       "\n",
       "  /**\n",
       "   * Handle when an output is cleared or removed\n",
       "   */\n",
       "  function handleClearOutput(event, handle) {\n",
       "    var cell = handle.cell;\n",
       "\n",
       "    var id = cell.output_area._bokeh_element_id;\n",
       "    var server_id = cell.output_area._bokeh_server_id;\n",
       "    // Clean up Bokeh references\n",
       "    if (id !== undefined) {\n",
       "      Bokeh.index[id].model.document.clear();\n",
       "      delete Bokeh.index[id];\n",
       "    }\n",
       "\n",
       "    if (server_id !== undefined) {\n",
       "      // Clean up Bokeh references\n",
       "      var cmd = \"from bokeh.io.state import curstate; print(curstate().uuid_to_server['\" + server_id + \"'].get_sessions()[0].document.roots[0]._id)\";\n",
       "      cell.notebook.kernel.execute(cmd, {\n",
       "        iopub: {\n",
       "          output: function(msg) {\n",
       "            var element_id = msg.content.text.trim();\n",
       "            Bokeh.index[element_id].model.document.clear();\n",
       "            delete Bokeh.index[element_id];\n",
       "          }\n",
       "        }\n",
       "      });\n",
       "      // Destroy server and session\n",
       "      var cmd = \"import bokeh.io.notebook as ion; ion.destroy_server('\" + server_id + \"')\";\n",
       "      cell.notebook.kernel.execute(cmd);\n",
       "    }\n",
       "  }\n",
       "\n",
       "  /**\n",
       "   * Handle when a new output is added\n",
       "   */\n",
       "  function handleAddOutput(event, handle) {\n",
       "    var output_area = handle.output_area;\n",
       "    var output = handle.output;\n",
       "\n",
       "    // limit handleAddOutput to display_data with EXEC_MIME_TYPE content only\n",
       "    if ((output.output_type != \"display_data\") || (!output.data.hasOwnProperty(EXEC_MIME_TYPE))) {\n",
       "      return\n",
       "    }\n",
       "\n",
       "    var toinsert = output_area.element.find(\".\" + CLASS_NAME.split(' ')[0]);\n",
       "\n",
       "    if (output.metadata[EXEC_MIME_TYPE][\"id\"] !== undefined) {\n",
       "      toinsert[toinsert.length - 1].firstChild.textContent = output.data[JS_MIME_TYPE];\n",
       "      // store reference to embed id on output_area\n",
       "      output_area._bokeh_element_id = output.metadata[EXEC_MIME_TYPE][\"id\"];\n",
       "    }\n",
       "    if (output.metadata[EXEC_MIME_TYPE][\"server_id\"] !== undefined) {\n",
       "      var bk_div = document.createElement(\"div\");\n",
       "      bk_div.innerHTML = output.data[HTML_MIME_TYPE];\n",
       "      var script_attrs = bk_div.children[0].attributes;\n",
       "      for (var i = 0; i < script_attrs.length; i++) {\n",
       "        toinsert[toinsert.length - 1].firstChild.setAttribute(script_attrs[i].name, script_attrs[i].value);\n",
       "      }\n",
       "      // store reference to server id on output_area\n",
       "      output_area._bokeh_server_id = output.metadata[EXEC_MIME_TYPE][\"server_id\"];\n",
       "    }\n",
       "  }\n",
       "\n",
       "  function register_renderer(events, OutputArea) {\n",
       "\n",
       "    function append_mime(data, metadata, element) {\n",
       "      // create a DOM node to render to\n",
       "      var toinsert = this.create_output_subarea(\n",
       "        metadata,\n",
       "        CLASS_NAME,\n",
       "        EXEC_MIME_TYPE\n",
       "      );\n",
       "      this.keyboard_manager.register_events(toinsert);\n",
       "      // Render to node\n",
       "      var props = {data: data, metadata: metadata[EXEC_MIME_TYPE]};\n",
       "      render(props, toinsert[toinsert.length - 1]);\n",
       "      element.append(toinsert);\n",
       "      return toinsert\n",
       "    }\n",
       "\n",
       "    /* Handle when an output is cleared or removed */\n",
       "    events.on('clear_output.CodeCell', handleClearOutput);\n",
       "    events.on('delete.Cell', handleClearOutput);\n",
       "\n",
       "    /* Handle when a new output is added */\n",
       "    events.on('output_added.OutputArea', handleAddOutput);\n",
       "\n",
       "    /**\n",
       "     * Register the mime type and append_mime function with output_area\n",
       "     */\n",
       "    OutputArea.prototype.register_mime_type(EXEC_MIME_TYPE, append_mime, {\n",
       "      /* Is output safe? */\n",
       "      safe: true,\n",
       "      /* Index of renderer in `output_area.display_order` */\n",
       "      index: 0\n",
       "    });\n",
       "  }\n",
       "\n",
       "  // register the mime type if in Jupyter Notebook environment and previously unregistered\n",
       "  if (root.Jupyter !== undefined) {\n",
       "    var events = require('base/js/events');\n",
       "    var OutputArea = require('notebook/js/outputarea').OutputArea;\n",
       "\n",
       "    if (OutputArea.prototype.mime_types().indexOf(EXEC_MIME_TYPE) == -1) {\n",
       "      register_renderer(events, OutputArea);\n",
       "    }\n",
       "  }\n",
       "\n",
       "  \n",
       "  if (typeof (root._bokeh_timeout) === \"undefined\" || force === true) {\n",
       "    root._bokeh_timeout = Date.now() + 5000;\n",
       "    root._bokeh_failed_load = false;\n",
       "  }\n",
       "\n",
       "  var NB_LOAD_WARNING = {'data': {'text/html':\n",
       "     \"<div style='background-color: #fdd'>\\n\"+\n",
       "     \"<p>\\n\"+\n",
       "     \"BokehJS does not appear to have successfully loaded. If loading BokehJS from CDN, this \\n\"+\n",
       "     \"may be due to a slow or bad network connection. Possible fixes:\\n\"+\n",
       "     \"</p>\\n\"+\n",
       "     \"<ul>\\n\"+\n",
       "     \"<li>re-rerun `output_notebook()` to attempt to load from CDN again, or</li>\\n\"+\n",
       "     \"<li>use INLINE resources instead, as so:</li>\\n\"+\n",
       "     \"</ul>\\n\"+\n",
       "     \"<code>\\n\"+\n",
       "     \"from bokeh.resources import INLINE\\n\"+\n",
       "     \"output_notebook(resources=INLINE)\\n\"+\n",
       "     \"</code>\\n\"+\n",
       "     \"</div>\"}};\n",
       "\n",
       "  function display_loaded() {\n",
       "    var el = document.getElementById(\"69ad9720-f63a-414e-a86c-62770ce03740\");\n",
       "    if (el != null) {\n",
       "      el.textContent = \"BokehJS is loading...\";\n",
       "    }\n",
       "    if (root.Bokeh !== undefined) {\n",
       "      if (el != null) {\n",
       "        el.textContent = \"BokehJS \" + root.Bokeh.version + \" successfully loaded.\";\n",
       "      }\n",
       "    } else if (Date.now() < root._bokeh_timeout) {\n",
       "      setTimeout(display_loaded, 100)\n",
       "    }\n",
       "  }\n",
       "\n",
       "\n",
       "  function run_callbacks() {\n",
       "    try {\n",
       "      root._bokeh_onload_callbacks.forEach(function(callback) { callback() });\n",
       "    }\n",
       "    finally {\n",
       "      delete root._bokeh_onload_callbacks\n",
       "    }\n",
       "    console.info(\"Bokeh: all callbacks have finished\");\n",
       "  }\n",
       "\n",
       "  function load_libs(js_urls, callback) {\n",
       "    root._bokeh_onload_callbacks.push(callback);\n",
       "    if (root._bokeh_is_loading > 0) {\n",
       "      console.log(\"Bokeh: BokehJS is being loaded, scheduling callback at\", now());\n",
       "      return null;\n",
       "    }\n",
       "    if (js_urls == null || js_urls.length === 0) {\n",
       "      run_callbacks();\n",
       "      return null;\n",
       "    }\n",
       "    console.log(\"Bokeh: BokehJS not loaded, scheduling load and callback at\", now());\n",
       "    root._bokeh_is_loading = js_urls.length;\n",
       "    for (var i = 0; i < js_urls.length; i++) {\n",
       "      var url = js_urls[i];\n",
       "      var s = document.createElement('script');\n",
       "      s.src = url;\n",
       "      s.async = false;\n",
       "      s.onreadystatechange = s.onload = function() {\n",
       "        root._bokeh_is_loading--;\n",
       "        if (root._bokeh_is_loading === 0) {\n",
       "          console.log(\"Bokeh: all BokehJS libraries loaded\");\n",
       "          run_callbacks()\n",
       "        }\n",
       "      };\n",
       "      s.onerror = function() {\n",
       "        console.warn(\"failed to load library \" + url);\n",
       "      };\n",
       "      console.log(\"Bokeh: injecting script tag for BokehJS library: \", url);\n",
       "      document.getElementsByTagName(\"head\")[0].appendChild(s);\n",
       "    }\n",
       "  };var element = document.getElementById(\"69ad9720-f63a-414e-a86c-62770ce03740\");\n",
       "  if (element == null) {\n",
       "    console.log(\"Bokeh: ERROR: autoload.js configured with elementid '69ad9720-f63a-414e-a86c-62770ce03740' but no matching script tag was found. \")\n",
       "    return false;\n",
       "  }\n",
       "\n",
       "  var js_urls = [\"https://cdn.pydata.org/bokeh/release/bokeh-0.12.16.min.js\", \"https://cdn.pydata.org/bokeh/release/bokeh-widgets-0.12.16.min.js\", \"https://cdn.pydata.org/bokeh/release/bokeh-tables-0.12.16.min.js\", \"https://cdn.pydata.org/bokeh/release/bokeh-gl-0.12.16.min.js\"];\n",
       "\n",
       "  var inline_js = [\n",
       "    function(Bokeh) {\n",
       "      Bokeh.set_log_level(\"info\");\n",
       "    },\n",
       "    \n",
       "    function(Bokeh) {\n",
       "      \n",
       "    },\n",
       "    function(Bokeh) {\n",
       "      console.log(\"Bokeh: injecting CSS: https://cdn.pydata.org/bokeh/release/bokeh-0.12.16.min.css\");\n",
       "      Bokeh.embed.inject_css(\"https://cdn.pydata.org/bokeh/release/bokeh-0.12.16.min.css\");\n",
       "      console.log(\"Bokeh: injecting CSS: https://cdn.pydata.org/bokeh/release/bokeh-widgets-0.12.16.min.css\");\n",
       "      Bokeh.embed.inject_css(\"https://cdn.pydata.org/bokeh/release/bokeh-widgets-0.12.16.min.css\");\n",
       "      console.log(\"Bokeh: injecting CSS: https://cdn.pydata.org/bokeh/release/bokeh-tables-0.12.16.min.css\");\n",
       "      Bokeh.embed.inject_css(\"https://cdn.pydata.org/bokeh/release/bokeh-tables-0.12.16.min.css\");\n",
       "    }\n",
       "  ];\n",
       "\n",
       "  function run_inline_js() {\n",
       "    \n",
       "    if ((root.Bokeh !== undefined) || (force === true)) {\n",
       "      for (var i = 0; i < inline_js.length; i++) {\n",
       "        inline_js[i].call(root, root.Bokeh);\n",
       "      }if (force === true) {\n",
       "        display_loaded();\n",
       "      }} else if (Date.now() < root._bokeh_timeout) {\n",
       "      setTimeout(run_inline_js, 100);\n",
       "    } else if (!root._bokeh_failed_load) {\n",
       "      console.log(\"Bokeh: BokehJS failed to load within specified timeout.\");\n",
       "      root._bokeh_failed_load = true;\n",
       "    } else if (force !== true) {\n",
       "      var cell = $(document.getElementById(\"69ad9720-f63a-414e-a86c-62770ce03740\")).parents('.cell').data().cell;\n",
       "      cell.output_area.append_execute_result(NB_LOAD_WARNING)\n",
       "    }\n",
       "\n",
       "  }\n",
       "\n",
       "  if (root._bokeh_is_loading === 0) {\n",
       "    console.log(\"Bokeh: BokehJS loaded, going straight to plotting\");\n",
       "    run_inline_js();\n",
       "  } else {\n",
       "    load_libs(js_urls, function() {\n",
       "      console.log(\"Bokeh: BokehJS plotting callback run at\", now());\n",
       "      run_inline_js();\n",
       "    });\n",
       "  }\n",
       "}(window));"
      ],
      "application/vnd.bokehjs_load.v0+json": "\n(function(root) {\n  function now() {\n    return new Date();\n  }\n\n  var force = true;\n\n  if (typeof (root._bokeh_onload_callbacks) === \"undefined\" || force === true) {\n    root._bokeh_onload_callbacks = [];\n    root._bokeh_is_loading = undefined;\n  }\n\n  \n\n  \n  if (typeof (root._bokeh_timeout) === \"undefined\" || force === true) {\n    root._bokeh_timeout = Date.now() + 5000;\n    root._bokeh_failed_load = false;\n  }\n\n  var NB_LOAD_WARNING = {'data': {'text/html':\n     \"<div style='background-color: #fdd'>\\n\"+\n     \"<p>\\n\"+\n     \"BokehJS does not appear to have successfully loaded. If loading BokehJS from CDN, this \\n\"+\n     \"may be due to a slow or bad network connection. Possible fixes:\\n\"+\n     \"</p>\\n\"+\n     \"<ul>\\n\"+\n     \"<li>re-rerun `output_notebook()` to attempt to load from CDN again, or</li>\\n\"+\n     \"<li>use INLINE resources instead, as so:</li>\\n\"+\n     \"</ul>\\n\"+\n     \"<code>\\n\"+\n     \"from bokeh.resources import INLINE\\n\"+\n     \"output_notebook(resources=INLINE)\\n\"+\n     \"</code>\\n\"+\n     \"</div>\"}};\n\n  function display_loaded() {\n    var el = document.getElementById(\"69ad9720-f63a-414e-a86c-62770ce03740\");\n    if (el != null) {\n      el.textContent = \"BokehJS is loading...\";\n    }\n    if (root.Bokeh !== undefined) {\n      if (el != null) {\n        el.textContent = \"BokehJS \" + root.Bokeh.version + \" successfully loaded.\";\n      }\n    } else if (Date.now() < root._bokeh_timeout) {\n      setTimeout(display_loaded, 100)\n    }\n  }\n\n\n  function run_callbacks() {\n    try {\n      root._bokeh_onload_callbacks.forEach(function(callback) { callback() });\n    }\n    finally {\n      delete root._bokeh_onload_callbacks\n    }\n    console.info(\"Bokeh: all callbacks have finished\");\n  }\n\n  function load_libs(js_urls, callback) {\n    root._bokeh_onload_callbacks.push(callback);\n    if (root._bokeh_is_loading > 0) {\n      console.log(\"Bokeh: BokehJS is being loaded, scheduling callback at\", now());\n      return null;\n    }\n    if (js_urls == null || js_urls.length === 0) {\n      run_callbacks();\n      return null;\n    }\n    console.log(\"Bokeh: BokehJS not loaded, scheduling load and callback at\", now());\n    root._bokeh_is_loading = js_urls.length;\n    for (var i = 0; i < js_urls.length; i++) {\n      var url = js_urls[i];\n      var s = document.createElement('script');\n      s.src = url;\n      s.async = false;\n      s.onreadystatechange = s.onload = function() {\n        root._bokeh_is_loading--;\n        if (root._bokeh_is_loading === 0) {\n          console.log(\"Bokeh: all BokehJS libraries loaded\");\n          run_callbacks()\n        }\n      };\n      s.onerror = function() {\n        console.warn(\"failed to load library \" + url);\n      };\n      console.log(\"Bokeh: injecting script tag for BokehJS library: \", url);\n      document.getElementsByTagName(\"head\")[0].appendChild(s);\n    }\n  };var element = document.getElementById(\"69ad9720-f63a-414e-a86c-62770ce03740\");\n  if (element == null) {\n    console.log(\"Bokeh: ERROR: autoload.js configured with elementid '69ad9720-f63a-414e-a86c-62770ce03740' but no matching script tag was found. \")\n    return false;\n  }\n\n  var js_urls = [\"https://cdn.pydata.org/bokeh/release/bokeh-0.12.16.min.js\", \"https://cdn.pydata.org/bokeh/release/bokeh-widgets-0.12.16.min.js\", \"https://cdn.pydata.org/bokeh/release/bokeh-tables-0.12.16.min.js\", \"https://cdn.pydata.org/bokeh/release/bokeh-gl-0.12.16.min.js\"];\n\n  var inline_js = [\n    function(Bokeh) {\n      Bokeh.set_log_level(\"info\");\n    },\n    \n    function(Bokeh) {\n      \n    },\n    function(Bokeh) {\n      console.log(\"Bokeh: injecting CSS: https://cdn.pydata.org/bokeh/release/bokeh-0.12.16.min.css\");\n      Bokeh.embed.inject_css(\"https://cdn.pydata.org/bokeh/release/bokeh-0.12.16.min.css\");\n      console.log(\"Bokeh: injecting CSS: https://cdn.pydata.org/bokeh/release/bokeh-widgets-0.12.16.min.css\");\n      Bokeh.embed.inject_css(\"https://cdn.pydata.org/bokeh/release/bokeh-widgets-0.12.16.min.css\");\n      console.log(\"Bokeh: injecting CSS: https://cdn.pydata.org/bokeh/release/bokeh-tables-0.12.16.min.css\");\n      Bokeh.embed.inject_css(\"https://cdn.pydata.org/bokeh/release/bokeh-tables-0.12.16.min.css\");\n    }\n  ];\n\n  function run_inline_js() {\n    \n    if ((root.Bokeh !== undefined) || (force === true)) {\n      for (var i = 0; i < inline_js.length; i++) {\n        inline_js[i].call(root, root.Bokeh);\n      }if (force === true) {\n        display_loaded();\n      }} else if (Date.now() < root._bokeh_timeout) {\n      setTimeout(run_inline_js, 100);\n    } else if (!root._bokeh_failed_load) {\n      console.log(\"Bokeh: BokehJS failed to load within specified timeout.\");\n      root._bokeh_failed_load = true;\n    } else if (force !== true) {\n      var cell = $(document.getElementById(\"69ad9720-f63a-414e-a86c-62770ce03740\")).parents('.cell').data().cell;\n      cell.output_area.append_execute_result(NB_LOAD_WARNING)\n    }\n\n  }\n\n  if (root._bokeh_is_loading === 0) {\n    console.log(\"Bokeh: BokehJS loaded, going straight to plotting\");\n    run_inline_js();\n  } else {\n    load_libs(js_urls, function() {\n      console.log(\"Bokeh: BokehJS plotting callback run at\", now());\n      run_inline_js();\n    });\n  }\n}(window));"
     },
     "metadata": {},
     "output_type": "display_data"
    }
   ],
   "source": [
    "output_notebook()"
   ]
  },
  {
   "cell_type": "code",
   "execution_count": 4,
   "metadata": {
    "collapsed": true
   },
   "outputs": [],
   "source": [
    "def make_query(param=None):\n",
    "    '''\n",
    "    Returns the MongoDB query for a lblnew \n",
    "    run's document.\n",
    "    \n",
    "    Parameters\n",
    "    ----------\n",
    "    param: dict\n",
    "    lblnew-bestfit input parameters.\n",
    "    '''\n",
    "    return {'param.' + name: value for name, value in param.items()}   "
   ]
  },
  {
   "cell_type": "code",
   "execution_count": 5,
   "metadata": {
    "collapsed": true
   },
   "outputs": [],
   "source": [
    "def print_input_param():\n",
    "    '''\n",
    "    Print to screen the input parameters \n",
    "    of the lblnew run.\n",
    "    '''\n",
    "    for name, value in sorted(PARAM.items()):\n",
    "        print(f'{name} = {value}')"
   ]
  },
  {
   "cell_type": "code",
   "execution_count": 6,
   "metadata": {
    "collapsed": true
   },
   "outputs": [],
   "source": [
    "def fmt_cool(ds_in):\n",
    "    ds = ds_in.copy(deep=True)\n",
    "    \n",
    "    if 'i' in ds.dims:                                                                                               \n",
    "        ds = ds.sel(i=ds.dims['i']) \n",
    "        \n",
    "    if 'band' in ds.dims:\n",
    "        try:\n",
    "            ds = ds.squeeze('band')\n",
    "        except ValueError:\n",
    "            ds = ds.sum('band') \n",
    "            \n",
    "    return ds['coolrg']\n",
    "\n",
    "\n",
    "\n",
    "def pltdata_cool(g=None):\n",
    "    '''\n",
    "    Define the plotting data for cooling rate\n",
    "    profile plots.  Add/remove entries in\n",
    "    the `data` list.\n",
    "    \n",
    "    Parameters\n",
    "    ----------\n",
    "    g: int\n",
    "        g-interval to be plotted.  If None,\n",
    "        the sum over all g-intervals will be\n",
    "        plotted.\n",
    "    data: dict\n",
    "        Plot data, including colour, line attributes, etc.\n",
    "    '''\n",
    "    colors = all_palettes['Set1'][4]\n",
    "    \n",
    "    if g == None:\n",
    "        ds_cool_crd = DS_COOL_CRD.sum('g')\n",
    "        ds_cool_wgt = DS_COOL_WGT.sum('g')\n",
    "    else:\n",
    "        ds_cool_crd = DS_COOL_CRD.sel(g=g)\n",
    "        ds_cool_wgt = DS_COOL_WGT.sel(g=g)\n",
    "    \n",
    "    data = [\n",
    "        {'label': 'CRD',\n",
    "         'srs': fmt_cool(ds_cool_crd),\n",
    "         'line_dash': 'solid', 'line_width':1.5,\n",
    "         'marker': 'circle', 'mark_size': 5,\n",
    "         'color': colors[2], 'alpha': 1},\n",
    "        {'label': 'WGT igg=1',\n",
    "         'srs': fmt_cool(ds_cool_wgt.sel(igg=1)),\n",
    "         'line_dash': 'solid', 'line_width': 3,\n",
    "         'marker': 'square', 'marker_size': 5,\n",
    "         'color': colors[3], 'alpha': .6},\n",
    "        {'label': 'WGT igg=10',\n",
    "         'srs': fmt_cool(ds_cool_wgt.sel(igg=10)),\n",
    "         'line_dash': 'solid', 'line_width': 2,\n",
    "         'marker': 'triangle', 'marker_size': 2,\n",
    "         'color': colors[1], 'alpha': .3}]\n",
    "    return data\n",
    "\n",
    "\n",
    "\n",
    "def plt_cool(pltdata=None):\n",
    "    '''\n",
    "    Plot cooling rate profiles on linear\n",
    "    and log pressure axes.\n",
    "    \n",
    "    Parameters\n",
    "    ----------\n",
    "    pltdata: dict\n",
    "        Plot data, including colour, line attributes, etc.\n",
    "    everything: bokeh.models.layouts.Column\n",
    "        Cooling rate profile plot.\n",
    "    '''\n",
    "    plin = plt_vert_profile_bokeh(pltdata=pltdata, \n",
    "                                  y_axis_type='linear',\n",
    "                                  prange=(50, 1050))\n",
    "    plin.plot_width, plin.plot_height = 400, 500\n",
    "    \n",
    "    plog = plt_vert_profile_bokeh(pltdata=pltdata,\n",
    "                                  y_axis_type='log',\n",
    "                                  prange=(.01, 200)) \n",
    "    plog.plot_width, plog.plot_height = 400, 500\n",
    "    \n",
    "    everything = gridplot(plin, plog, ncols=2)\n",
    "    return everything\n",
    "    \n",
    "    \n",
    "\n",
    "def script_plt_cool():\n",
    "    '''\n",
    "    Script to plot the cooling rate profiles\n",
    "    in each g-interval and the total \n",
    "    cooling rate profile over all g-intervals.\n",
    "    '''\n",
    "    ng = sum(PARAM['ng_refs'])\n",
    "    for g in np.arange(1, ng + 1):\n",
    "        data = pltdata_cool(g=g)\n",
    "        p = plt_cool(pltdata=data)\n",
    "        show(p)\n",
    "        display.display(\n",
    "            display.Markdown(f'*FIGURE.* Cooling rates. g={g}'))\n",
    "    \n",
    "    data = pltdata_cool()\n",
    "    p = plt_cool(pltdata=data)\n",
    "    show(p)\n",
    "    display.display(\n",
    "        display.Markdown(f'*FIGURE.* Cooling rates. Summed over g.'))\n",
    "    \n"
   ]
  },
  {
   "cell_type": "code",
   "execution_count": 7,
   "metadata": {
    "collapsed": true
   },
   "outputs": [],
   "source": [
    "def fmt_flux(ds_in, ilevels=None):\n",
    "    ds = ds_in.copy(deep=True)\n",
    "    \n",
    "    for l in ('level', 'layer'):\n",
    "        if l in ds.data_vars:\n",
    "            if len(ds[l].dims) > 1:\n",
    "                surface = {d: 0 for d in ds.dims if d != 'pressure'}\n",
    "                coord_level = ds[l][surface]\n",
    "                ds.coords[l] = ('pressure', coord_level)\n",
    "            else:\n",
    "                ds.coords[l] = ('pressure', ds[l])\n",
    "    \n",
    "    if ilevels:\n",
    "        ds = ds.isel(pressure=ilevels)\n",
    "\n",
    "    if 'i' in ds.dims:                                                                                               \n",
    "        ds = ds.sel(i=ds.dims['i'])\n",
    "        \n",
    "    if 'igg' in ds.dims:\n",
    "        ds = ds.squeeze('igg').drop('igg')\n",
    "            \n",
    "    if 'band' in ds.dims:\n",
    "        try:\n",
    "            ds = ds.squeeze('band').drop('band')\n",
    "        except ValueError:\n",
    "            ds = ds.sum('band')\n",
    "                \n",
    "    df = ds.to_dataframe()\n",
    "    df = df.set_index('level', append=True)               \n",
    "    return df\n",
    "\n",
    "\n",
    "def tbdata_flux():\n",
    "    '''\n",
    "    Define the flux data to be tabulated for\n",
    "    the g-intervals.  Add/remove entries in the\n",
    "    `tbs` list.\n",
    "    \n",
    "    Parameters\n",
    "    ----------\n",
    "    data: dict\n",
    "        Flux data, including how each set is to be\n",
    "        labeled in the output table.\n",
    "    '''\n",
    "    tropopauses = {'mls': 40, 'saw': 45, 'trp': 37}\n",
    "    atmpro = PARAM['atmpro']\n",
    "    ilevels = [0, tropopauses[atmpro], -1]\n",
    "    \n",
    "    benchmark = {'label': 'CRD',\n",
    "                 'df': fmt_flux(DS_FLUX_CRD, ilevels=ilevels)}\n",
    "    \n",
    "    tbs = [{'label': 'WGT igg=1',\n",
    "            'df': fmt_flux(DS_FLUX_WGT.sel(igg=[1]), ilevels=ilevels)},\n",
    "           {'label': 'WGT igg=10',\n",
    "            'df': fmt_flux(DS_FLUX_WGT.sel(igg=[10]), ilevels=ilevels)}]\n",
    "    \n",
    "    data = {'benchmark': benchmark, 'others': tbs}\n",
    "    return data\n",
    "\n",
    "\n",
    "\n",
    "def tbdata_flux_sumg():\n",
    "    '''\n",
    "    Define the total flux data, over all g-intervals,\n",
    "    to be tabulated.\n",
    "    \n",
    "    Parameters\n",
    "    ----------\n",
    "    data: dict\n",
    "        Flux data, including how each set is to e\n",
    "        labeled in the output table.\n",
    "    '''\n",
    "    tropopauses = {'mls': 40, 'saw': 45, 'trp': 37}\n",
    "    \n",
    "    atmpro = PARAM['atmpro']\n",
    "    ilevels = [0, tropopauses[atmpro], -1]\n",
    "    \n",
    "    benchmark = {'label': 'CRD',\n",
    "                 'df': fmt_flux(DS_FLUX_CRD.sum('g'), ilevels=ilevels)}\n",
    "    \n",
    "    tbs = [{'label': 'WGT igg=1',\n",
    "            'df': fmt_flux(DS_FLUX_WGT.sel(igg=[1]).sum('g'), \n",
    "                           ilevels=ilevels)},\n",
    "           {'label': 'WGT igg=10',\n",
    "            'df': fmt_flux(DS_FLUX_WGT.sel(igg=[10]).sum('g'), \n",
    "                           ilevels=ilevels)}]\n",
    "    \n",
    "    data = {'benchmark': benchmark, 'others': tbs}\n",
    "    return data\n",
    "\n",
    "\n",
    "def tb_flux(tbdata=None):\n",
    "    '''\n",
    "    Display flux table for each set, and display\n",
    "    the difference between each set and the set\n",
    "    that is specified to be the benchmark.\n",
    "    \n",
    "    Parameters\n",
    "    ----------\n",
    "    tbdata: dict\n",
    "        Flux data, including how each set it to be\n",
    "        labeled in the output table.\n",
    "    '''\n",
    "    benchmark = tbdata['benchmark']\n",
    "    others = tbdata['others']\n",
    "    \n",
    "    def show_tb(d=None):\n",
    "        display.display(d['df'])\n",
    "        display.display(display.Markdown(\n",
    "            f\"*TABLE.* Fluxes. {d['label']}\"))\n",
    "        \n",
    "    def show_tbdiff(d0=None, d=None):\n",
    "        df = d['df']\n",
    "        df.index = d0['df'].index\n",
    "        display.display(df - d0['df'])\n",
    "        display.display(display.Markdown(\n",
    "            f\"*TABLE.* Fluxes. ({d['label']}) - ({d0['label']})\"))\n",
    "        \n",
    "    show_tb(benchmark)\n",
    "    for d in others:\n",
    "        show_tb(d)\n",
    "        \n",
    "    for d in others:\n",
    "        show_tbdiff(d=d, d0=benchmark)\n",
    "        \n",
    "\n",
    "        \n",
    "def script_tb_flux():\n",
    "    '''\n",
    "    Script to display the flux tables in \n",
    "    each g-interval, and the flux table\n",
    "    for the total flux, over all g-intervals.\n",
    "    '''\n",
    "    tb_flux(tbdata=tbdata_flux())\n",
    "    tb_flux(tbdata=tbdata_flux_sumg())\n"
   ]
  },
  {
   "cell_type": "code",
   "execution_count": 8,
   "metadata": {
    "collapsed": true
   },
   "outputs": [],
   "source": [
    "def script_gsummary():\n",
    "    '''\n",
    "    Script to display how the g-intervals\n",
    "    are defined according the hyperparameters\n",
    "    chosen for this lblnew-bestfit run.\n",
    "    '''\n",
    "    ng_refs = PARAM['ng_refs']\n",
    "    p_refs = list(zip(*PARAM['ref_pts']))[0]\n",
    "    ng = sum(ng_refs)\n",
    "    df_abscom = pd.read_csv(io.StringIO(DOC['abscom']), \n",
    "                            sep=r'\\s+', index_col=[0])\n",
    "    df_dgdgs = pd.read_csv(io.StringIO(DOC['dgdgs']), \n",
    "                            sep=r'\\s+', index_col=[0])\n",
    "    \n",
    "    # absth(g + 1) / absth(g)\n",
    "    df_abscom_copy = df_abscom.copy()\n",
    "    df_abscom_copy.index = df_abscom.index + 1\n",
    "    df_absratio = df_abscom / df_abscom_copy\n",
    "    df_absratio.columns = ['k(ig) / k(ig - 1)']\n",
    "    df_absratio = df_absratio.loc[: ng]    \n",
    "    \n",
    "    df_dgdgs_cumsum = df_dgdgs.cumsum(axis=0)\n",
    "    df_dgdgs_cumsum.columns = ['dg cumsum', 'dgs cumsum']\n",
    "    \n",
    "    data_pref = np.concatenate([p_ref * np.ones((ng_ref,)) \n",
    "                                for ng_ref, p_ref \n",
    "                                in zip(ng_refs, p_refs)], axis=0)\n",
    "    df_pref = pd.DataFrame(data_pref, \n",
    "                           index=df_dgdgs.index, columns=['pref'])\n",
    "    \n",
    "    df_all = pd.concat([df_abscom, df_absratio,\n",
    "                        df_dgdgs, df_dgdgs_cumsum,\n",
    "                        df_pref], axis=1) \n",
    "    \n",
    "    display.display(df_all)\n",
    "    display.display(display.Markdown(\n",
    "        (f\"TABLE. g-interval summary.  \"\n",
    "         f\"*abscom* is the lower bound of the g-interval.\")))\n",
    "    \n"
   ]
  },
  {
   "cell_type": "code",
   "execution_count": 9,
   "metadata": {
    "collapsed": true
   },
   "outputs": [],
   "source": [
    "def script_flux_to_excel():\n",
    "    '''\n",
    "    Script to save the lblnew-bestfit run's\n",
    "    output flux to excel file and display the\n",
    "    link to download the excel file.\n",
    "    '''\n",
    "    fname = 'lblnew-bestfit_flux.xlsx'\n",
    "    writer = pd.ExcelWriter(fname)\n",
    "    \n",
    "    ds = DS_FLUX_CRD\n",
    "    for g in ds.coords['g']:\n",
    "        df = ds.sel(g=g).to_dataframe()\n",
    "        df.to_excel(writer, f'crd flux g={int(g)}')\n",
    "                \n",
    "    ds = DS_FLUX_WGT\n",
    "    for g in ds.coords['g']:\n",
    "        df = ds.sel(g=g, igg=1).to_dataframe()\n",
    "        df.to_excel(writer, f'wgt igg=1 flux g={int(g)}')\n",
    "        \n",
    "        df = ds.sel(g=g, igg=10).to_dataframe()\n",
    "        df.to_excel(writer, f'wgt igg=10 flux g={int(g)}')\n",
    "        \n",
    "    writer.save()    \n",
    "    html_download = f'Download: <a href=\"./{fname}\">{fname}</a>'\n",
    "    display.display(display.HTML(html_download))\n",
    "\n",
    "\n",
    "def script_cool_to_excel():\n",
    "    '''\n",
    "    Script to save the lblnew-bestfit run's\n",
    "    output cooling rate to excel file and display\n",
    "    the link to download the excel file.\n",
    "    '''\n",
    "    fname = 'lblnew-bestfit_cool.xlsx'\n",
    "    writer = pd.ExcelWriter(fname)\n",
    "    \n",
    "    ds = DS_COOL_CRD\n",
    "    for g in ds.coords['g']:\n",
    "        df = ds.sel(g=g).to_dataframe()\n",
    "        df.to_excel(writer, f'crd cool g={int(g)}')\n",
    "        \n",
    "    ds = DS_COOL_WGT\n",
    "    for g in ds.coords['g']:\n",
    "        df = ds.sel(g=g, igg=1).to_dataframe()\n",
    "        df.to_excel(writer, f'wgt igg=1 cool g={int(g)}')\n",
    "        \n",
    "        df = ds.sel(g=g, igg=10).to_dataframe()\n",
    "        df.to_excel(writer, f'wgt igg=10 cool g={int(g)}')\n",
    "        \n",
    "    writer.save()\n",
    "    html_download = f'Download: <a href=\"./{fname}\">{fname}</a>'\n",
    "    display.display(display.HTML(html_download))"
   ]
  },
  {
   "cell_type": "code",
   "execution_count": 10,
   "metadata": {
    "collapsed": true
   },
   "outputs": [],
   "source": [
    "def show_html(s):\n",
    "    display.display(display.HTML(s))\n",
    "\n",
    "    \n",
    "def show_markdown(s):\n",
    "    display.display(display.Markdown(s))"
   ]
  },
  {
   "cell_type": "code",
   "execution_count": 11,
   "metadata": {
    "collapsed": true
   },
   "outputs": [],
   "source": [
    "def script():\n",
    "    title = ('### lblnew-bestfit' \n",
    "             if 'ng_refs' in PARAM else '### lblnew-overlap')\n",
    "    s_input = 'Input Parameters'\n",
    "    s_plt_cool = 'Cooling Rate Profiles'\n",
    "    s_tb_flux = 'Flux Comparison'\n",
    "    s_gsummary = 'g-interval Summary'\n",
    "    s_download = 'Download Data'\n",
    "    \n",
    "    # title\n",
    "    show_markdown(title)\n",
    "    \n",
    "    # TOC\n",
    "    show_markdown('### Table of Contents')\n",
    "    show_html(climahtml.getHTML_hrefanchor(s_input))\n",
    "    show_html(climahtml.getHTML_hrefanchor(s_plt_cool))\n",
    "    show_html(climahtml.getHTML_hrefanchor(s_tb_flux))\n",
    "    show_html(climahtml.getHTML_hrefanchor(s_gsummary))\n",
    "    show_html(climahtml.getHTML_hrefanchor(s_download))\n",
    "    \n",
    "    # Input parameters\n",
    "    show_html(climahtml.getHTML_idanchor(s_input))\n",
    "    show_markdown(climahtml.getMarkdown_sectitle(s_input))\n",
    "    print_input_param()\n",
    "    \n",
    "    # Cooling rate profiles\n",
    "    show_html(climahtml.getHTML_idanchor(s_plt_cool))\n",
    "    show_markdown(climahtml.getMarkdown_sectitle(s_plt_cool))\n",
    "    script_plt_cool()\n",
    "    \n",
    "    # Flux comparison\n",
    "    show_html(climahtml.getHTML_idanchor(s_tb_flux))\n",
    "    show_markdown(climahtml.getMarkdown_sectitle(s_tb_flux))\n",
    "    script_tb_flux()\n",
    "    \n",
    "    # g-interval summary\n",
    "    show_html(climahtml.getHTML_idanchor(s_gsummary))\n",
    "    show_markdown(climahtml.getMarkdown_sectitle(s_gsummary))\n",
    "    script_gsummary()\n",
    "    \n",
    "    # Download cooling rate and fluxes\n",
    "    show_html(climahtml.getHTML_idanchor(s_download))\n",
    "    show_markdown(climahtml.getMarkdown_sectitle(s_download))\n",
    "    script_flux_to_excel()\n",
    "    script_cool_to_excel()"
   ]
  },
  {
   "cell_type": "code",
   "execution_count": 12,
   "metadata": {
    "collapsed": true
   },
   "outputs": [],
   "source": [
    "%run param.py\n",
    "\n",
    "client = pymongo.MongoClient('localhost', 27017, connect=False)\n",
    "db = client.lblnew\n",
    "\n",
    "\n",
    "DOC = db.bestfit_lw.find_one(make_query(param=PARAM))\n",
    "DS_FLUX_CRD = load_output_file(io.StringIO(DOC['output_fluxg']))\n",
    "DS_COOL_CRD = load_output_file(io.StringIO(DOC['output_coolrg']))\n",
    "DS_FLUX_WGT = load_output_file(io.StringIO(DOC['output_wfluxg']))\n",
    "DS_COOL_WGT = load_output_file(io.StringIO(DOC['output_wcoolrg']))"
   ]
  },
  {
   "cell_type": "code",
   "execution_count": 13,
   "metadata": {
    "scrolled": false
   },
   "outputs": [
    {
     "data": {
      "text/markdown": [
       "### lblnew-bestfit"
      ],
      "text/plain": [
       "<IPython.core.display.Markdown object>"
      ]
     },
     "metadata": {},
     "output_type": "display_data"
    },
    {
     "data": {
      "text/markdown": [
       "### Table of Contents"
      ],
      "text/plain": [
       "<IPython.core.display.Markdown object>"
      ]
     },
     "metadata": {},
     "output_type": "display_data"
    },
    {
     "data": {
      "text/html": [
       "<a href=\"#Input_Parameters\">Input Parameters</a>"
      ],
      "text/plain": [
       "<IPython.core.display.HTML object>"
      ]
     },
     "metadata": {},
     "output_type": "display_data"
    },
    {
     "data": {
      "text/html": [
       "<a href=\"#Cooling_Rate_Profiles\">Cooling Rate Profiles</a>"
      ],
      "text/plain": [
       "<IPython.core.display.HTML object>"
      ]
     },
     "metadata": {},
     "output_type": "display_data"
    },
    {
     "data": {
      "text/html": [
       "<a href=\"#Flux_Comparison\">Flux Comparison</a>"
      ],
      "text/plain": [
       "<IPython.core.display.HTML object>"
      ]
     },
     "metadata": {},
     "output_type": "display_data"
    },
    {
     "data": {
      "text/html": [
       "<a href=\"#g-interval_Summary\">g-interval Summary</a>"
      ],
      "text/plain": [
       "<IPython.core.display.HTML object>"
      ]
     },
     "metadata": {},
     "output_type": "display_data"
    },
    {
     "data": {
      "text/html": [
       "<a href=\"#Download_Data\">Download Data</a>"
      ],
      "text/plain": [
       "<IPython.core.display.HTML object>"
      ]
     },
     "metadata": {},
     "output_type": "display_data"
    },
    {
     "data": {
      "text/html": [
       "<a id=\"Input_Parameters\"></a>"
      ],
      "text/plain": [
       "<IPython.core.display.HTML object>"
      ]
     },
     "metadata": {},
     "output_type": "display_data"
    },
    {
     "data": {
      "text/markdown": [
       "# Input Parameters"
      ],
      "text/plain": [
       "<IPython.core.display.Markdown object>"
      ]
     },
     "metadata": {},
     "output_type": "display_data"
    },
    {
     "name": "stdout",
     "output_type": "stream",
     "text": [
      "atmpro = mls\n",
      "band = 7\n",
      "commitnumber = a22ab94\n",
      "conc = 6.4e-07\n",
      "dv = 0.001\n",
      "klin = 2.22e-20\n",
      "molecule = n2o\n",
      "ng_adju = [0, 0]\n",
      "ng_refs = [2, 2]\n",
      "nv = 1000\n",
      "option_compute_btable = 0\n",
      "option_compute_ktable = 0\n",
      "option_wgt_flux = 1\n",
      "option_wgt_k = 1\n",
      "ref_pts = [(1, 250), (500, 250)]\n",
      "tsfc = 294\n",
      "vmax = 1380\n",
      "vmin = 1215\n",
      "w_diffuse = [(1.8, 1.66), (1.6, 1.8)]\n",
      "wgt = [(0.6, 0.5), (0.6, 0.9)]\n"
     ]
    },
    {
     "data": {
      "text/html": [
       "<a id=\"Cooling_Rate_Profiles\"></a>"
      ],
      "text/plain": [
       "<IPython.core.display.HTML object>"
      ]
     },
     "metadata": {},
     "output_type": "display_data"
    },
    {
     "data": {
      "text/markdown": [
       "# Cooling Rate Profiles"
      ],
      "text/plain": [
       "<IPython.core.display.Markdown object>"
      ]
     },
     "metadata": {},
     "output_type": "display_data"
    },
    {
     "data": {
      "text/html": [
       "\n",
       "<div class=\"bk-root\">\n",
       "    <div class=\"bk-plotdiv\" id=\"25f9af34-28e9-45f4-8baa-919a3044bf26\"></div>\n",
       "</div>"
      ]
     },
     "metadata": {},
     "output_type": "display_data"
    },
    {
     "data": {
      "application/javascript": [
       "(function(root) {\n",
       "  function embed_document(root) {\n",
       "    \n",
       "  var docs_json = {\"ffc5681e-612a-4a1b-84ff-7bf63851fdec\":{\"roots\":{\"references\":[{\"attributes\":{},\"id\":\"e558185d-5d83-4968-ae31-b21df45ee20e\",\"type\":\"PanTool\"},{\"attributes\":{\"bottom_units\":\"screen\",\"fill_alpha\":{\"value\":0.5},\"fill_color\":{\"value\":\"lightgrey\"},\"left_units\":\"screen\",\"level\":\"overlay\",\"line_alpha\":{\"value\":1.0},\"line_color\":{\"value\":\"black\"},\"line_dash\":[4,4],\"line_width\":{\"value\":2},\"plot\":null,\"render_mode\":\"css\",\"right_units\":\"screen\",\"top_units\":\"screen\"},\"id\":\"80aa8edb-3524-42e1-84a5-6195334e6850\",\"type\":\"BoxAnnotation\"},{\"attributes\":{\"data_source\":{\"id\":\"a05a3493-b343-44c5-b776-474d9d483802\",\"type\":\"ColumnDataSource\"},\"glyph\":{\"id\":\"6db21d1f-653a-451c-85c1-d7aa96b0ba25\",\"type\":\"Line\"},\"hover_glyph\":null,\"muted_glyph\":null,\"nonselection_glyph\":{\"id\":\"33723a4e-c19e-499d-a9f1-0a450e016462\",\"type\":\"Line\"},\"selection_glyph\":null,\"view\":{\"id\":\"e21dff4a-a5d0-4bd8-a53c-9f5f466569ca\",\"type\":\"CDSView\"}},\"id\":\"e615154e-a0b4-42dd-98d3-d7fa80b8d2fd\",\"type\":\"GlyphRenderer\"},{\"attributes\":{},\"id\":\"10898c51-e0b1-493f-8621-bf3f8473162f\",\"type\":\"WheelZoomTool\"},{\"attributes\":{\"overlay\":{\"id\":\"80aa8edb-3524-42e1-84a5-6195334e6850\",\"type\":\"BoxAnnotation\"}},\"id\":\"846c2c4a-a02f-407c-88ae-ca300d0b0915\",\"type\":\"BoxZoomTool\"},{\"attributes\":{},\"id\":\"187ca9d7-ad5b-41f7-b630-87df4939dd43\",\"type\":\"SaveTool\"},{\"attributes\":{},\"id\":\"03e60456-73ca-4b70-a312-64c9704a3c1a\",\"type\":\"ResetTool\"},{\"attributes\":{},\"id\":\"0e686c5a-04fc-47dd-aee0-bc9a78cf4b0d\",\"type\":\"HelpTool\"},{\"attributes\":{\"line_alpha\":0.1,\"line_color\":\"#1f77b4\",\"line_width\":1.5,\"x\":{\"field\":\"x\"},\"y\":{\"field\":\"y\"}},\"id\":\"33723a4e-c19e-499d-a9f1-0a450e016462\",\"type\":\"Line\"},{\"attributes\":{\"line_color\":\"#4daf4a\",\"line_width\":1.5,\"x\":{\"field\":\"x\"},\"y\":{\"field\":\"y\"}},\"id\":\"6db21d1f-653a-451c-85c1-d7aa96b0ba25\",\"type\":\"Line\"},{\"attributes\":{\"fill_alpha\":{\"value\":0.1},\"fill_color\":{\"value\":\"#1f77b4\"},\"line_alpha\":{\"value\":0.1},\"line_color\":{\"value\":\"#1f77b4\"},\"x\":{\"field\":\"x\"},\"y\":{\"field\":\"y\"}},\"id\":\"ab67d901-d8dd-44fb-b7b2-c2163347aa46\",\"type\":\"Circle\"},{\"attributes\":{\"source\":{\"id\":\"a05a3493-b343-44c5-b776-474d9d483802\",\"type\":\"ColumnDataSource\"}},\"id\":\"e21dff4a-a5d0-4bd8-a53c-9f5f466569ca\",\"type\":\"CDSView\"},{\"attributes\":{\"callback\":null,\"data\":{\"x\":{\"__ndarray__\":\"lBCiOCSOsL/jkNBAc3Cwv5WKcttRK7C/dK08zz/Er7+26N5vJjmvv7O3/NY6sK6/JYmfqx8urr/jN6tcrbWtv6GQuw0MTq2/aTi7bnf6rL9fd9GPOsWsvwdr/L9zuqy/r5gWl9jsrL8KZCAWBGutv2nLas6Cz6y/S/5Vt+IxqL/MwVdnwTOfv+I9DE/dzIS/Q1bns2TXiz/KdcJnxRmlP6ItYxq4ybI/D+lc9pCVvD8WZ06PVHzCP/wieK61GME/G7/6vAW5tj/UleaOsgmqP/WdDk2hP5s/+4s2TfMcij+qpQelMjx3P+UwhtyG/WA/+0vMXMLbFL+ULT2bD+9Uv5kRnAKyOla//WjlSF4/UL96yii0WYBLvxYVcl/unkq/+a6r5G3TR79E9pPAgkJFv3i/Qtzj80e/27yM99v6TL+lprM2X+hMv3LNtJXpCUi/HHY+PZzPRL9opDWlMdlCv7cUueMyTkG/KIkW/GjSP7/pybR9pCA9v/I+H4sWbzq/9wifJ0q0N78/fzPPV/I0v26SoTe6RzK/2iIbi4SsL7/4eXITAl0rv0RtwKJbfCe/L1JME37JI79GwuE+lw0gv5tjJpNhVxi/9jDhkncjEL+ijI1UvZr9vpcSOpt2jN8+A9Cy/kNDCD/0eZI8ckcXP3BdLj8T1CE/0x7msAfAKD8PIT//Yz8wP59/my8ufjQ/O87ek9TZOD/3aZWaOcc8P4uivmdPwj8/yjkDf+HoQD86cKFJ8shBP02BNvxh2UI/ckCeFBRZRD/fwzR9kXtGP9yX6YCNlUk/\",\"dtype\":\"float64\",\"shape\":[75]},\"y\":{\"__ndarray__\":\"GhExyth1ND/Sv8nbtpRIP2vylNV0PVE/aTum7souWD/At0SJ8fVgPw3Iuahxymc/MSNhhJWvcD/bTfBN02d3P2zb5nxnaoA/CD5h5MAGhz8NmeH1TyaQP+zrCsc9p5Y/LbKd76fGnz/bLW5ISEmmPww9YvTcQq8/JV2OstnstT8Er5Y7M8G+P0c+r3jqkcU/5h99k6ZBzj88bCIzFzjVP4enV8oyxN0//yH99nXg5D8qOpLLf0jtP5kqGJXUifQ/c9cS8kHP/D+/DpwzojQEQIEmwoanVwxA4lgXt9HgE0BSSZ2AJuIbQAMJih9jjiNA5q4l5INuK0AwTKYKRj0zQNv5fmq8/DpAaCJseHrtQkB/+zpwzoxKQM3MzMzMeFJAZmZmZmZqWEAAAAAAAFxeQM3MzMzMJmJAmpmZmZkfZUBmZmZmZhhoQDMzMzMzEWtAAAAAAAAKbkBmZmZmZoFwQM3MzMzM/XFAMzMzMzN6c0CamZmZmfZ0QAAAAAAAc3ZAZmZmZmbvd0DNzMzMzGt5QDMzMzMz6HpAmpmZmZlkfEAAAAAAAOF9QGZmZmZmXX9AZmZmZuZsgECamZmZGSuBQM3MzMxM6YFAAAAAAICngkAzMzMzs2WDQGZmZmbmI4RAmpmZmRnihEDNzMzMTKCFQAAAAACAXoZAMzMzM7Mch0BmZmZm5tqHQJqZmZkZmYhAzczMzExXiUAAAAAAgBWKQDMzMzOz04pAZmZmZuaRi0CamZmZGVCMQM3MzMxMDo1AAAAAAIDMjUAzMzMzs4qOQGZmZmbmSI9A\",\"dtype\":\"float64\",\"shape\":[75]}},\"selected\":{\"id\":\"64d346f5-c150-4194-a31f-22f5d5570313\",\"type\":\"Selection\"},\"selection_policy\":{\"id\":\"c063d357-b1be-459b-8837-96844ac48d71\",\"type\":\"UnionRenderers\"}},\"id\":\"a05a3493-b343-44c5-b776-474d9d483802\",\"type\":\"ColumnDataSource\"},{\"attributes\":{\"callback\":null,\"data\":{\"x\":{\"__ndarray__\":\"lBCiOCSOsL/jkNBAc3Cwv5WKcttRK7C/dK08zz/Er7+26N5vJjmvv7O3/NY6sK6/JYmfqx8urr/jN6tcrbWtv6GQuw0MTq2/aTi7bnf6rL9fd9GPOsWsvwdr/L9zuqy/r5gWl9jsrL8KZCAWBGutv2nLas6Cz6y/S/5Vt+IxqL/MwVdnwTOfv+I9DE/dzIS/Q1bns2TXiz/KdcJnxRmlP6ItYxq4ybI/D+lc9pCVvD8WZ06PVHzCP/wieK61GME/G7/6vAW5tj/UleaOsgmqP/WdDk2hP5s/+4s2TfMcij+qpQelMjx3P+UwhtyG/WA/+0vMXMLbFL+ULT2bD+9Uv5kRnAKyOla//WjlSF4/UL96yii0WYBLvxYVcl/unkq/+a6r5G3TR79E9pPAgkJFv3i/Qtzj80e/27yM99v6TL+lprM2X+hMv3LNtJXpCUi/HHY+PZzPRL9opDWlMdlCv7cUueMyTkG/KIkW/GjSP7/pybR9pCA9v/I+H4sWbzq/9wifJ0q0N78/fzPPV/I0v26SoTe6RzK/2iIbi4SsL7/4eXITAl0rv0RtwKJbfCe/L1JME37JI79GwuE+lw0gv5tjJpNhVxi/9jDhkncjEL+ijI1UvZr9vpcSOpt2jN8+A9Cy/kNDCD/0eZI8ckcXP3BdLj8T1CE/0x7msAfAKD8PIT//Yz8wP59/my8ufjQ/O87ek9TZOD/3aZWaOcc8P4uivmdPwj8/yjkDf+HoQD86cKFJ8shBP02BNvxh2UI/ckCeFBRZRD/fwzR9kXtGP9yX6YCNlUk/\",\"dtype\":\"float64\",\"shape\":[75]},\"y\":{\"__ndarray__\":\"GhExyth1ND/Sv8nbtpRIP2vylNV0PVE/aTum7souWD/At0SJ8fVgPw3Iuahxymc/MSNhhJWvcD/bTfBN02d3P2zb5nxnaoA/CD5h5MAGhz8NmeH1TyaQP+zrCsc9p5Y/LbKd76fGnz/bLW5ISEmmPww9YvTcQq8/JV2OstnstT8Er5Y7M8G+P0c+r3jqkcU/5h99k6ZBzj88bCIzFzjVP4enV8oyxN0//yH99nXg5D8qOpLLf0jtP5kqGJXUifQ/c9cS8kHP/D+/DpwzojQEQIEmwoanVwxA4lgXt9HgE0BSSZ2AJuIbQAMJih9jjiNA5q4l5INuK0AwTKYKRj0zQNv5fmq8/DpAaCJseHrtQkB/+zpwzoxKQM3MzMzMeFJAZmZmZmZqWEAAAAAAAFxeQM3MzMzMJmJAmpmZmZkfZUBmZmZmZhhoQDMzMzMzEWtAAAAAAAAKbkBmZmZmZoFwQM3MzMzM/XFAMzMzMzN6c0CamZmZmfZ0QAAAAAAAc3ZAZmZmZmbvd0DNzMzMzGt5QDMzMzMz6HpAmpmZmZlkfEAAAAAAAOF9QGZmZmZmXX9AZmZmZuZsgECamZmZGSuBQM3MzMxM6YFAAAAAAICngkAzMzMzs2WDQGZmZmbmI4RAmpmZmRnihEDNzMzMTKCFQAAAAACAXoZAMzMzM7Mch0BmZmZm5tqHQJqZmZkZmYhAzczMzExXiUAAAAAAgBWKQDMzMzOz04pAZmZmZuaRi0CamZmZGVCMQM3MzMxMDo1AAAAAAIDMjUAzMzMzs4qOQGZmZmbmSI9A\",\"dtype\":\"float64\",\"shape\":[75]}},\"selected\":{\"id\":\"9c12add3-3815-4f6a-b301-e5bcb16bf6c9\",\"type\":\"Selection\"},\"selection_policy\":{\"id\":\"c8d93108-31c5-4afb-a761-87e07749a3b2\",\"type\":\"UnionRenderers\"}},\"id\":\"00f88984-d41f-4ec8-93c8-e19e5c26223c\",\"type\":\"ColumnDataSource\"},{\"attributes\":{\"fill_alpha\":{\"value\":0.7},\"fill_color\":{\"value\":\"#4daf4a\"},\"line_alpha\":{\"value\":0.7},\"line_color\":{\"value\":\"#4daf4a\"},\"x\":{\"field\":\"x\"},\"y\":{\"field\":\"y\"}},\"id\":\"7380833d-c059-4cb5-879a-7330397d9eb6\",\"type\":\"Circle\"},{\"attributes\":{\"data_source\":{\"id\":\"00f88984-d41f-4ec8-93c8-e19e5c26223c\",\"type\":\"ColumnDataSource\"},\"glyph\":{\"id\":\"7380833d-c059-4cb5-879a-7330397d9eb6\",\"type\":\"Circle\"},\"hover_glyph\":null,\"muted_glyph\":null,\"nonselection_glyph\":{\"id\":\"ab67d901-d8dd-44fb-b7b2-c2163347aa46\",\"type\":\"Circle\"},\"selection_glyph\":null,\"view\":{\"id\":\"8c16276c-9894-478b-b8d6-13e4b595353f\",\"type\":\"CDSView\"}},\"id\":\"f63d8ce3-188e-4f52-bb55-ea1d5a94e256\",\"type\":\"GlyphRenderer\"},{\"attributes\":{\"callback\":null,\"end\":0.01,\"start\":1020},\"id\":\"d3991646-714c-4fda-90b6-5bcf4642a2df\",\"type\":\"Range1d\"},{\"attributes\":{\"source\":{\"id\":\"00f88984-d41f-4ec8-93c8-e19e5c26223c\",\"type\":\"ColumnDataSource\"}},\"id\":\"8c16276c-9894-478b-b8d6-13e4b595353f\",\"type\":\"CDSView\"},{\"attributes\":{\"callback\":null,\"end\":0.01,\"start\":1020},\"id\":\"ec0b1c26-8055-427b-b3ba-fb40acf0399c\",\"type\":\"Range1d\"},{\"attributes\":{\"line_alpha\":0.1,\"line_color\":\"#1f77b4\",\"line_width\":2,\"x\":{\"field\":\"x\"},\"y\":{\"field\":\"y\"}},\"id\":\"5f1a43f9-d3fd-4310-b521-a1ade17bb9e2\",\"type\":\"Line\"},{\"attributes\":{\"data_source\":{\"id\":\"fb5f1571-b6fc-4fa6-85d8-b35461b56cf9\",\"type\":\"ColumnDataSource\"},\"glyph\":{\"id\":\"8f991ea0-e8a2-4ea5-a6a4-c5bec03770ae\",\"type\":\"Line\"},\"hover_glyph\":null,\"muted_glyph\":null,\"nonselection_glyph\":{\"id\":\"5f1a43f9-d3fd-4310-b521-a1ade17bb9e2\",\"type\":\"Line\"},\"selection_glyph\":null,\"view\":{\"id\":\"0ac98ad6-4672-4877-addc-c62c963b04ce\",\"type\":\"CDSView\"}},\"id\":\"ddb0f5b2-41f2-4eab-b4ea-17eeba5c232a\",\"type\":\"GlyphRenderer\"},{\"attributes\":{\"line_alpha\":0.6,\"line_color\":\"#984ea3\",\"line_width\":3,\"x\":{\"field\":\"x\"},\"y\":{\"field\":\"y\"}},\"id\":\"17f857d5-bddf-48af-8128-fa0247e29f28\",\"type\":\"Line\"},{\"attributes\":{\"source\":{\"id\":\"0de845a1-51a2-41e0-9d59-6de0f99a15f8\",\"type\":\"ColumnDataSource\"}},\"id\":\"ce5e04ce-b786-4724-8930-b4c0253378d2\",\"type\":\"CDSView\"},{\"attributes\":{\"line_alpha\":0.3,\"line_color\":\"#377eb8\",\"line_width\":2,\"x\":{\"field\":\"x\"},\"y\":{\"field\":\"y\"}},\"id\":\"8f991ea0-e8a2-4ea5-a6a4-c5bec03770ae\",\"type\":\"Line\"},{\"attributes\":{\"callback\":null,\"data\":{\"x\":{\"__ndarray__\":\"6alXj9DWor+mgSlHJLGiv+KHaTAkX6K/nvBHjsoGor97s1k31qyhv/cF2G1uUaG/Hdzs+6/0oL8eEhL3xZagvy5+NEvrN6C/9GNmewGxn7+cxX5bH/Kev3wy5ZSXNJ6/H2LFoWV6nb95PE5NWbicv3JtZvwUKpq/p3YZDf86kr8326nwGHtyv2EZpKs3FIk/YvwGtuLMoD8/XfsHM5utP3LKBEXxf7Y/xGcljOqdvz9CjrXYUN7DP+kla3mKwcM/C+bYD+tsvz+4/dks6lW2P/2O2UBXrqw/3ItWWOoFoD8r+bKW/RiNPzyw2+A2pXA/IoxWp+e6UL8er0uLPWZmvwx6D1G1L2K/Tzw+1fVIUr94eKh/kFdDv2BWP/k5XUC/HgkDRwfcPL+MkXesvr49vxA8OanB0ka/qz/JvioxUL8kd+xxbKdQvxVU38O52kq/HT1ehg/FRb/0Ug6UGLlCvzTTpLFJwEC/1fkqj6uePr+pbYke0js8v7WFUvhGDTq/cvDgmFTwN790UpHBouE1vyP/CItLADS/jCwCbBNxMr8S1tVMVj8xv+gpXX+sTjC/RT4ptFTdLr8Hw6mkiOssv1hXLXselCq/qYLkNzW1J797w6BSlzUkv8SrvByJ/R+/OGlrCTrnFb8+e99ra84Dv2LimaLZCfE+yYqtWVvJFD/NLpxhhdojP3Kw+x5LTS4/ThLlRkCEND/9w1lciGQ5Pwf+utVyOD0/R6gGHkoFQD8nCC7X/EFBPxmjroJlsUI/YxApO1CRRD9cw7lwFwNHPzkSKsm/Gko/\",\"dtype\":\"float64\",\"shape\":[75]},\"y\":{\"__ndarray__\":\"GhExyth1ND/Sv8nbtpRIP2vylNV0PVE/aTum7souWD/At0SJ8fVgPw3Iuahxymc/MSNhhJWvcD/bTfBN02d3P2zb5nxnaoA/CD5h5MAGhz8NmeH1TyaQP+zrCsc9p5Y/LbKd76fGnz/bLW5ISEmmPww9YvTcQq8/JV2OstnstT8Er5Y7M8G+P0c+r3jqkcU/5h99k6ZBzj88bCIzFzjVP4enV8oyxN0//yH99nXg5D8qOpLLf0jtP5kqGJXUifQ/c9cS8kHP/D+/DpwzojQEQIEmwoanVwxA4lgXt9HgE0BSSZ2AJuIbQAMJih9jjiNA5q4l5INuK0AwTKYKRj0zQNv5fmq8/DpAaCJseHrtQkB/+zpwzoxKQM3MzMzMeFJAZmZmZmZqWEAAAAAAAFxeQM3MzMzMJmJAmpmZmZkfZUBmZmZmZhhoQDMzMzMzEWtAAAAAAAAKbkBmZmZmZoFwQM3MzMzM/XFAMzMzMzN6c0CamZmZmfZ0QAAAAAAAc3ZAZmZmZmbvd0DNzMzMzGt5QDMzMzMz6HpAmpmZmZlkfEAAAAAAAOF9QGZmZmZmXX9AZmZmZuZsgECamZmZGSuBQM3MzMxM6YFAAAAAAICngkAzMzMzs2WDQGZmZmbmI4RAmpmZmRnihEDNzMzMTKCFQAAAAACAXoZAMzMzM7Mch0BmZmZm5tqHQJqZmZkZmYhAzczMzExXiUAAAAAAgBWKQDMzMzOz04pAZmZmZuaRi0CamZmZGVCMQM3MzMxMDo1AAAAAAIDMjUAzMzMzs4qOQGZmZmbmSI9A\",\"dtype\":\"float64\",\"shape\":[75]}},\"selected\":{\"id\":\"2ad6283f-d6d3-4302-9eac-7f400a39170d\",\"type\":\"Selection\"},\"selection_policy\":{\"id\":\"87815200-819e-4eef-8a9a-e30e7b02b96c\",\"type\":\"UnionRenderers\"}},\"id\":\"fb5f1571-b6fc-4fa6-85d8-b35461b56cf9\",\"type\":\"ColumnDataSource\"},{\"attributes\":{\"line_alpha\":0.1,\"line_color\":\"#1f77b4\",\"line_width\":3,\"x\":{\"field\":\"x\"},\"y\":{\"field\":\"y\"}},\"id\":\"798503c4-dda4-471d-9f6a-f17f513ba6dc\",\"type\":\"Line\"},{\"attributes\":{\"callback\":null,\"data\":{\"x\":{\"__ndarray__\":\"6alXj9DWor+mgSlHJLGiv+KHaTAkX6K/nvBHjsoGor97s1k31qyhv/cF2G1uUaG/Hdzs+6/0oL8eEhL3xZagvy5+NEvrN6C/9GNmewGxn7+cxX5bH/Kev3wy5ZSXNJ6/H2LFoWV6nb95PE5NWbicv3JtZvwUKpq/p3YZDf86kr8326nwGHtyv2EZpKs3FIk/YvwGtuLMoD8/XfsHM5utP3LKBEXxf7Y/xGcljOqdvz9CjrXYUN7DP+kla3mKwcM/C+bYD+tsvz+4/dks6lW2P/2O2UBXrqw/3ItWWOoFoD8r+bKW/RiNPzyw2+A2pXA/IoxWp+e6UL8er0uLPWZmvwx6D1G1L2K/Tzw+1fVIUr94eKh/kFdDv2BWP/k5XUC/HgkDRwfcPL+MkXesvr49vxA8OanB0ka/qz/JvioxUL8kd+xxbKdQvxVU38O52kq/HT1ehg/FRb/0Ug6UGLlCvzTTpLFJwEC/1fkqj6uePr+pbYke0js8v7WFUvhGDTq/cvDgmFTwN790UpHBouE1vyP/CItLADS/jCwCbBNxMr8S1tVMVj8xv+gpXX+sTjC/RT4ptFTdLr8Hw6mkiOssv1hXLXselCq/qYLkNzW1J797w6BSlzUkv8SrvByJ/R+/OGlrCTrnFb8+e99ra84Dv2LimaLZCfE+yYqtWVvJFD/NLpxhhdojP3Kw+x5LTS4/ThLlRkCEND/9w1lciGQ5Pwf+utVyOD0/R6gGHkoFQD8nCC7X/EFBPxmjroJlsUI/YxApO1CRRD9cw7lwFwNHPzkSKsm/Gko/\",\"dtype\":\"float64\",\"shape\":[75]},\"y\":{\"__ndarray__\":\"GhExyth1ND/Sv8nbtpRIP2vylNV0PVE/aTum7souWD/At0SJ8fVgPw3Iuahxymc/MSNhhJWvcD/bTfBN02d3P2zb5nxnaoA/CD5h5MAGhz8NmeH1TyaQP+zrCsc9p5Y/LbKd76fGnz/bLW5ISEmmPww9YvTcQq8/JV2OstnstT8Er5Y7M8G+P0c+r3jqkcU/5h99k6ZBzj88bCIzFzjVP4enV8oyxN0//yH99nXg5D8qOpLLf0jtP5kqGJXUifQ/c9cS8kHP/D+/DpwzojQEQIEmwoanVwxA4lgXt9HgE0BSSZ2AJuIbQAMJih9jjiNA5q4l5INuK0AwTKYKRj0zQNv5fmq8/DpAaCJseHrtQkB/+zpwzoxKQM3MzMzMeFJAZmZmZmZqWEAAAAAAAFxeQM3MzMzMJmJAmpmZmZkfZUBmZmZmZhhoQDMzMzMzEWtAAAAAAAAKbkBmZmZmZoFwQM3MzMzM/XFAMzMzMzN6c0CamZmZmfZ0QAAAAAAAc3ZAZmZmZmbvd0DNzMzMzGt5QDMzMzMz6HpAmpmZmZlkfEAAAAAAAOF9QGZmZmZmXX9AZmZmZuZsgECamZmZGSuBQM3MzMxM6YFAAAAAAICngkAzMzMzs2WDQGZmZmbmI4RAmpmZmRnihEDNzMzMTKCFQAAAAACAXoZAMzMzM7Mch0BmZmZm5tqHQJqZmZkZmYhAzczMzExXiUAAAAAAgBWKQDMzMzOz04pAZmZmZuaRi0CamZmZGVCMQM3MzMxMDo1AAAAAAIDMjUAzMzMzs4qOQGZmZmbmSI9A\",\"dtype\":\"float64\",\"shape\":[75]}},\"selected\":{\"id\":\"8eb5b5f6-fd3c-4ff3-8458-b126b0510e08\",\"type\":\"Selection\"},\"selection_policy\":{\"id\":\"7bb83632-2d01-442b-838d-2d9cc4847f63\",\"type\":\"UnionRenderers\"}},\"id\":\"0de845a1-51a2-41e0-9d59-6de0f99a15f8\",\"type\":\"ColumnDataSource\"},{\"attributes\":{\"fill_alpha\":{\"value\":0.1},\"fill_color\":{\"value\":\"#1f77b4\"},\"line_alpha\":{\"value\":0.1},\"line_color\":{\"value\":\"#1f77b4\"},\"x\":{\"field\":\"x\"},\"y\":{\"field\":\"y\"}},\"id\":\"2708765d-0642-4063-8b8e-24bbc4444cbd\",\"type\":\"Triangle\"},{\"attributes\":{\"label\":{\"value\":\"WGT igg=1\"},\"renderers\":[{\"id\":\"bbe7452d-f0ce-4331-82e5-67a8525bdf3c\",\"type\":\"GlyphRenderer\"},{\"id\":\"635e13b4-09e0-4fb4-b456-3359b5e1a1cf\",\"type\":\"GlyphRenderer\"}]},\"id\":\"d26aecfa-2184-4d44-b747-b2ececfff2b3\",\"type\":\"LegendItem\"},{\"attributes\":{\"source\":{\"id\":\"505ad256-9f1e-4d4c-b78f-53bfb7f39b28\",\"type\":\"ColumnDataSource\"}},\"id\":\"2e9be7f6-9224-4bdb-a2b5-a1f6b420d0e9\",\"type\":\"CDSView\"},{\"attributes\":{\"data_source\":{\"id\":\"505ad256-9f1e-4d4c-b78f-53bfb7f39b28\",\"type\":\"ColumnDataSource\"},\"glyph\":{\"id\":\"17f857d5-bddf-48af-8128-fa0247e29f28\",\"type\":\"Line\"},\"hover_glyph\":null,\"muted_glyph\":null,\"nonselection_glyph\":{\"id\":\"798503c4-dda4-471d-9f6a-f17f513ba6dc\",\"type\":\"Line\"},\"selection_glyph\":null,\"view\":{\"id\":\"2e9be7f6-9224-4bdb-a2b5-a1f6b420d0e9\",\"type\":\"CDSView\"}},\"id\":\"635e13b4-09e0-4fb4-b456-3359b5e1a1cf\",\"type\":\"GlyphRenderer\"},{\"attributes\":{\"data_source\":{\"id\":\"0de845a1-51a2-41e0-9d59-6de0f99a15f8\",\"type\":\"ColumnDataSource\"},\"glyph\":{\"id\":\"66f0e55f-e71b-42fb-8879-6d900ed411c1\",\"type\":\"Triangle\"},\"hover_glyph\":null,\"muted_glyph\":null,\"nonselection_glyph\":{\"id\":\"2708765d-0642-4063-8b8e-24bbc4444cbd\",\"type\":\"Triangle\"},\"selection_glyph\":null,\"view\":{\"id\":\"ce5e04ce-b786-4724-8930-b4c0253378d2\",\"type\":\"CDSView\"}},\"id\":\"16fb3c36-23b6-4411-b820-c9255b6da673\",\"type\":\"GlyphRenderer\"},{\"attributes\":{\"fill_alpha\":{\"value\":0.7},\"fill_color\":{\"value\":\"#377eb8\"},\"line_alpha\":{\"value\":0.7},\"line_color\":{\"value\":\"#377eb8\"},\"x\":{\"field\":\"x\"},\"y\":{\"field\":\"y\"}},\"id\":\"66f0e55f-e71b-42fb-8879-6d900ed411c1\",\"type\":\"Triangle\"},{\"attributes\":{\"callback\":null,\"data\":{\"x\":{\"__ndarray__\":\"lBCiOCSOsL/jkNBAc3Cwv5WKcttRK7C/dK08zz/Er7+26N5vJjmvv7O3/NY6sK6/JYmfqx8urr/jN6tcrbWtv6GQuw0MTq2/aTi7bnf6rL9fd9GPOsWsvwdr/L9zuqy/r5gWl9jsrL8KZCAWBGutv2nLas6Cz6y/S/5Vt+IxqL/MwVdnwTOfv+I9DE/dzIS/Q1bns2TXiz/KdcJnxRmlP6ItYxq4ybI/D+lc9pCVvD8WZ06PVHzCP/wieK61GME/G7/6vAW5tj/UleaOsgmqP/WdDk2hP5s/+4s2TfMcij+qpQelMjx3P+UwhtyG/WA/+0vMXMLbFL+ULT2bD+9Uv5kRnAKyOla//WjlSF4/UL96yii0WYBLvxYVcl/unkq/+a6r5G3TR79E9pPAgkJFv3i/Qtzj80e/27yM99v6TL+lprM2X+hMv3LNtJXpCUi/HHY+PZzPRL9opDWlMdlCv7cUueMyTkG/KIkW/GjSP7/pybR9pCA9v/I+H4sWbzq/9wifJ0q0N78/fzPPV/I0v26SoTe6RzK/2iIbi4SsL7/4eXITAl0rv0RtwKJbfCe/L1JME37JI79GwuE+lw0gv5tjJpNhVxi/9jDhkncjEL+ijI1UvZr9vpcSOpt2jN8+A9Cy/kNDCD/0eZI8ckcXP3BdLj8T1CE/0x7msAfAKD8PIT//Yz8wP59/my8ufjQ/O87ek9TZOD/3aZWaOcc8P4uivmdPwj8/yjkDf+HoQD86cKFJ8shBP02BNvxh2UI/ckCeFBRZRD/fwzR9kXtGP9yX6YCNlUk/\",\"dtype\":\"float64\",\"shape\":[75]},\"y\":{\"__ndarray__\":\"GhExyth1ND/Sv8nbtpRIP2vylNV0PVE/aTum7souWD/At0SJ8fVgPw3Iuahxymc/MSNhhJWvcD/bTfBN02d3P2zb5nxnaoA/CD5h5MAGhz8NmeH1TyaQP+zrCsc9p5Y/LbKd76fGnz/bLW5ISEmmPww9YvTcQq8/JV2OstnstT8Er5Y7M8G+P0c+r3jqkcU/5h99k6ZBzj88bCIzFzjVP4enV8oyxN0//yH99nXg5D8qOpLLf0jtP5kqGJXUifQ/c9cS8kHP/D+/DpwzojQEQIEmwoanVwxA4lgXt9HgE0BSSZ2AJuIbQAMJih9jjiNA5q4l5INuK0AwTKYKRj0zQNv5fmq8/DpAaCJseHrtQkB/+zpwzoxKQM3MzMzMeFJAZmZmZmZqWEAAAAAAAFxeQM3MzMzMJmJAmpmZmZkfZUBmZmZmZhhoQDMzMzMzEWtAAAAAAAAKbkBmZmZmZoFwQM3MzMzM/XFAMzMzMzN6c0CamZmZmfZ0QAAAAAAAc3ZAZmZmZmbvd0DNzMzMzGt5QDMzMzMz6HpAmpmZmZlkfEAAAAAAAOF9QGZmZmZmXX9AZmZmZuZsgECamZmZGSuBQM3MzMxM6YFAAAAAAICngkAzMzMzs2WDQGZmZmbmI4RAmpmZmRnihEDNzMzMTKCFQAAAAACAXoZAMzMzM7Mch0BmZmZm5tqHQJqZmZkZmYhAzczMzExXiUAAAAAAgBWKQDMzMzOz04pAZmZmZuaRi0CamZmZGVCMQM3MzMxMDo1AAAAAAIDMjUAzMzMzs4qOQGZmZmbmSI9A\",\"dtype\":\"float64\",\"shape\":[75]}},\"selected\":{\"id\":\"86b54b9f-9505-4c51-a72f-4ff313e4efb0\",\"type\":\"Selection\"},\"selection_policy\":{\"id\":\"e3cddc52-2f44-4b13-a4be-3e7ba5643386\",\"type\":\"UnionRenderers\"}},\"id\":\"97a71ad8-91bb-4902-ad71-9a8eef05c709\",\"type\":\"ColumnDataSource\"},{\"attributes\":{\"label\":{\"value\":\"CRD\"},\"renderers\":[{\"id\":\"f63d8ce3-188e-4f52-bb55-ea1d5a94e256\",\"type\":\"GlyphRenderer\"},{\"id\":\"e615154e-a0b4-42dd-98d3-d7fa80b8d2fd\",\"type\":\"GlyphRenderer\"}]},\"id\":\"5b19b054-75ca-4b27-8843-3cca21a0d92e\",\"type\":\"LegendItem\"},{\"attributes\":{\"source\":{\"id\":\"fb5f1571-b6fc-4fa6-85d8-b35461b56cf9\",\"type\":\"ColumnDataSource\"}},\"id\":\"0ac98ad6-4672-4877-addc-c62c963b04ce\",\"type\":\"CDSView\"},{\"attributes\":{\"callback\":null,\"end\":0.15734883132,\"start\":-0.05958388332},\"id\":\"eed568ad-6113-4271-a1f0-a7ee643a05aa\",\"type\":\"Range1d\"},{\"attributes\":{\"label\":{\"value\":\"WGT igg=10\"},\"renderers\":[{\"id\":\"16fb3c36-23b6-4411-b820-c9255b6da673\",\"type\":\"GlyphRenderer\"},{\"id\":\"ddb0f5b2-41f2-4eab-b4ea-17eeba5c232a\",\"type\":\"GlyphRenderer\"}]},\"id\":\"f3fc8dac-4412-447e-a064-6df02929f987\",\"type\":\"LegendItem\"},{\"attributes\":{},\"id\":\"f42340e4-2646-448b-b9d1-6363d7037845\",\"type\":\"LogScale\"},{\"attributes\":{\"active_drag\":\"auto\",\"active_inspect\":\"auto\",\"active_scroll\":\"auto\",\"active_tap\":\"auto\",\"tools\":[{\"id\":\"4be97aea-a78f-4ceb-a42d-3424de43e6ff\",\"type\":\"PanTool\"},{\"id\":\"7ad7da2f-91f3-4eaf-84bc-a7e09e822d3a\",\"type\":\"WheelZoomTool\"},{\"id\":\"f24c9f29-7291-4424-ad6e-19c403e215ea\",\"type\":\"BoxZoomTool\"},{\"id\":\"95f48bbf-5251-4f90-b073-cbc860e276de\",\"type\":\"SaveTool\"},{\"id\":\"2b0171c6-041c-40c6-ac86-0b1278c39de9\",\"type\":\"ResetTool\"},{\"id\":\"192fd972-8191-4c1f-a835-c2296905a176\",\"type\":\"HelpTool\"}]},\"id\":\"43d29054-bd15-4124-a63c-d86c8ba153bd\",\"type\":\"Toolbar\"},{\"attributes\":{\"items\":[{\"id\":\"b31a21e3-3752-4670-b32e-639f0d229989\",\"type\":\"LegendItem\"},{\"id\":\"52991566-08ff-4b4c-b88e-5ed186f83844\",\"type\":\"LegendItem\"},{\"id\":\"dca01939-a9a2-4955-8f3b-ae87dedfca65\",\"type\":\"LegendItem\"}],\"label_text_font_size\":{\"value\":\"8pt\"},\"location\":\"top_center\",\"orientation\":\"horizontal\",\"plot\":{\"id\":\"03cb3648-b06e-4149-b295-d7701daa7f65\",\"subtype\":\"Figure\",\"type\":\"Plot\"}},\"id\":\"29aba5ed-8f12-4cd0-98ec-af275b678db4\",\"type\":\"Legend\"},{\"attributes\":{\"plot\":{\"id\":\"03cb3648-b06e-4149-b295-d7701daa7f65\",\"subtype\":\"Figure\",\"type\":\"Plot\"},\"ticker\":{\"id\":\"52bcceeb-cfaa-485f-ad3e-c16627f04cb2\",\"type\":\"BasicTicker\"}},\"id\":\"d327ce18-c62c-47fc-8647-5c2dd677842f\",\"type\":\"Grid\"},{\"attributes\":{},\"id\":\"05732dfd-6d2b-4cf8-bb5a-d9ebed76d4fb\",\"type\":\"LinearScale\"},{\"attributes\":{\"axis_label\":\"cooling rate [K/day]\",\"formatter\":{\"id\":\"dc21bc75-537a-470d-b033-615b0718fdaa\",\"type\":\"BasicTickFormatter\"},\"plot\":{\"id\":\"03cb3648-b06e-4149-b295-d7701daa7f65\",\"subtype\":\"Figure\",\"type\":\"Plot\"},\"ticker\":{\"id\":\"52bcceeb-cfaa-485f-ad3e-c16627f04cb2\",\"type\":\"BasicTicker\"}},\"id\":\"046e789f-d279-40a4-85af-2df12d2c08a4\",\"type\":\"LinearAxis\"},{\"attributes\":{},\"id\":\"52bcceeb-cfaa-485f-ad3e-c16627f04cb2\",\"type\":\"BasicTicker\"},{\"attributes\":{\"axis_label\":\"pressure [mb]\",\"formatter\":{\"id\":\"f534368b-c2db-482c-8f92-2223663cb217\",\"type\":\"LogTickFormatter\"},\"plot\":{\"id\":\"03cb3648-b06e-4149-b295-d7701daa7f65\",\"subtype\":\"Figure\",\"type\":\"Plot\"},\"ticker\":{\"id\":\"ea9bf936-146e-40f8-a76e-a008e4841d23\",\"type\":\"LogTicker\"}},\"id\":\"43f4ffbf-43dd-4187-8ab0-d1656b130cc7\",\"type\":\"LogAxis\"},{\"attributes\":{\"num_minor_ticks\":10},\"id\":\"ea9bf936-146e-40f8-a76e-a008e4841d23\",\"type\":\"LogTicker\"},{\"attributes\":{\"dimension\":1,\"plot\":{\"id\":\"03cb3648-b06e-4149-b295-d7701daa7f65\",\"subtype\":\"Figure\",\"type\":\"Plot\"},\"ticker\":{\"id\":\"ea9bf936-146e-40f8-a76e-a008e4841d23\",\"type\":\"LogTicker\"}},\"id\":\"24b1e499-8fd0-433a-9aa1-f5c19b420284\",\"type\":\"Grid\"},{\"attributes\":{\"plot\":null,\"text\":\"\"},\"id\":\"aac06789-0656-4ae7-ad00-4440139994c3\",\"type\":\"Title\"},{\"attributes\":{\"data_source\":{\"id\":\"97a71ad8-91bb-4902-ad71-9a8eef05c709\",\"type\":\"ColumnDataSource\"},\"glyph\":{\"id\":\"2df2421a-5055-4cfd-8e1c-d56ba34de2d7\",\"type\":\"Circle\"},\"hover_glyph\":null,\"muted_glyph\":null,\"nonselection_glyph\":{\"id\":\"9e067fc1-0bba-4be6-bd54-82c3d11811c0\",\"type\":\"Circle\"},\"selection_glyph\":null,\"view\":{\"id\":\"4d090730-7a1e-4dd5-b16f-24d797212954\",\"type\":\"CDSView\"}},\"id\":\"65c28f0e-3382-4d10-b849-0cef18e4cd5e\",\"type\":\"GlyphRenderer\"},{\"attributes\":{\"bottom_units\":\"screen\",\"fill_alpha\":{\"value\":0.5},\"fill_color\":{\"value\":\"lightgrey\"},\"left_units\":\"screen\",\"level\":\"overlay\",\"line_alpha\":{\"value\":1.0},\"line_color\":{\"value\":\"black\"},\"line_dash\":[4,4],\"line_width\":{\"value\":2},\"plot\":null,\"render_mode\":\"css\",\"right_units\":\"screen\",\"top_units\":\"screen\"},\"id\":\"d2f8363a-4e3d-44e0-bae9-4703ad4e8302\",\"type\":\"BoxAnnotation\"},{\"attributes\":{},\"id\":\"4be97aea-a78f-4ceb-a42d-3424de43e6ff\",\"type\":\"PanTool\"},{\"attributes\":{},\"id\":\"7ad7da2f-91f3-4eaf-84bc-a7e09e822d3a\",\"type\":\"WheelZoomTool\"},{\"attributes\":{\"overlay\":{\"id\":\"d2f8363a-4e3d-44e0-bae9-4703ad4e8302\",\"type\":\"BoxAnnotation\"}},\"id\":\"f24c9f29-7291-4424-ad6e-19c403e215ea\",\"type\":\"BoxZoomTool\"},{\"attributes\":{},\"id\":\"95f48bbf-5251-4f90-b073-cbc860e276de\",\"type\":\"SaveTool\"},{\"attributes\":{},\"id\":\"2b0171c6-041c-40c6-ac86-0b1278c39de9\",\"type\":\"ResetTool\"},{\"attributes\":{},\"id\":\"192fd972-8191-4c1f-a835-c2296905a176\",\"type\":\"HelpTool\"},{\"attributes\":{\"fill_alpha\":{\"value\":0.7},\"fill_color\":{\"value\":\"#4daf4a\"},\"line_alpha\":{\"value\":0.7},\"line_color\":{\"value\":\"#4daf4a\"},\"x\":{\"field\":\"x\"},\"y\":{\"field\":\"y\"}},\"id\":\"2df2421a-5055-4cfd-8e1c-d56ba34de2d7\",\"type\":\"Circle\"},{\"attributes\":{\"fill_alpha\":{\"value\":0.1},\"fill_color\":{\"value\":\"#1f77b4\"},\"line_alpha\":{\"value\":0.1},\"line_color\":{\"value\":\"#1f77b4\"},\"x\":{\"field\":\"x\"},\"y\":{\"field\":\"y\"}},\"id\":\"9e067fc1-0bba-4be6-bd54-82c3d11811c0\",\"type\":\"Circle\"},{\"attributes\":{\"items\":[{\"id\":\"5b19b054-75ca-4b27-8843-3cca21a0d92e\",\"type\":\"LegendItem\"},{\"id\":\"d26aecfa-2184-4d44-b747-b2ececfff2b3\",\"type\":\"LegendItem\"},{\"id\":\"f3fc8dac-4412-447e-a064-6df02929f987\",\"type\":\"LegendItem\"}],\"label_text_font_size\":{\"value\":\"8pt\"},\"location\":\"top_center\",\"orientation\":\"horizontal\",\"plot\":{\"id\":\"083b463d-8c1c-4ff5-a678-788039095fe7\",\"subtype\":\"Figure\",\"type\":\"Plot\"}},\"id\":\"d605d354-6965-475a-a07a-ffe6ffcdf3ae\",\"type\":\"Legend\"},{\"attributes\":{\"plot\":null,\"text\":\"\"},\"id\":\"a96fdf65-a155-4fb6-b698-ee59de204bc7\",\"type\":\"Title\"},{\"attributes\":{\"source\":{\"id\":\"d1080542-82b7-4e2e-8a10-2c4d37913635\",\"type\":\"ColumnDataSource\"}},\"id\":\"ddc7dcf3-5c83-43fb-8437-1df77740637d\",\"type\":\"CDSView\"},{\"attributes\":{\"label\":{\"value\":\"CRD\"},\"renderers\":[{\"id\":\"65c28f0e-3382-4d10-b849-0cef18e4cd5e\",\"type\":\"GlyphRenderer\"},{\"id\":\"a2a47ba2-27a0-4a9e-9d9b-7e9bb0e2f5ba\",\"type\":\"GlyphRenderer\"}]},\"id\":\"b31a21e3-3752-4670-b32e-639f0d229989\",\"type\":\"LegendItem\"},{\"attributes\":{},\"id\":\"18f08128-0931-4cb7-b1d4-c7a31ca60e78\",\"type\":\"Selection\"},{\"attributes\":{\"callback\":null,\"data\":{\"x\":{\"__ndarray__\":\"1fxj5456pb/kWUzjTFClv4F8pupg9aS/FBoZyNmSpL+qpibsmy6kv3uyhn6y0aO/odrgRPRro7/gY6spmwKjv47C/ZmkpqK/h11GdzFJor9kY5jypeChv8ns9M9IjqG/f1PK/ohFob9XXNW/D/qgvw+hDWoGi5+/r/GCUCpWl7/0pnWmDyeCvzcvhNzJh4E/LXOFOlZwnj8pR/R3XkasP+H40sIC67U/FO2ma1gZvz/GX6RhQpbDP1B8rTLwL8M/PrVVpB2SvT/8gy/pe0+0P762zUCkYKk/SUZzCSwlnD8eity1f8OKP4r4A6x5OHM/1MxjoLVaLD8E6Qj23UFcv445mcGiXly/dujsS9PzUL/dbM90pFRGv2rQN1ZFxUS/wfaDy15sQ7+4DiqN/dhDv7tC7/JM5kq/WuRqKmOxUb8OYMHhdPdRvyIqJnvdqk2//7L5jh3ESL/QmChR6YlFv9KiRYp6lkO/ymVZeKLZQb9KJ9i2OGJAv/LECK27/D2/F2Y2YXxgO791DaiZSdA4vyp7IZUIaja/0xXyRuBUNL8yI/f3KZoyv4lgsqO0FTG/H6hdGxdJL7/uqNg8hEAsv3vBy1cl2Si/bENUqQ8FJb9s6K8TsKwgv7DzOPLthhe/BJKlF2WjCL/WaUv4T+64Pq8WpNvvrA0/fmfFly42Hz8l12NX4MgoP9t+v6OuZDE/H8pSLAuBNj9it0VzXBw7P1wAw5X6qz4/Su+seAKcQD/3hTNeA7JBPznpPNYx9EI/AHlV8mWiRD+u7mWsIuhGPxUEhq1nAEo/\",\"dtype\":\"float64\",\"shape\":[75]},\"y\":{\"__ndarray__\":\"GhExyth1ND/Sv8nbtpRIP2vylNV0PVE/aTum7souWD/At0SJ8fVgPw3Iuahxymc/MSNhhJWvcD/bTfBN02d3P2zb5nxnaoA/CD5h5MAGhz8NmeH1TyaQP+zrCsc9p5Y/LbKd76fGnz/bLW5ISEmmPww9YvTcQq8/JV2OstnstT8Er5Y7M8G+P0c+r3jqkcU/5h99k6ZBzj88bCIzFzjVP4enV8oyxN0//yH99nXg5D8qOpLLf0jtP5kqGJXUifQ/c9cS8kHP/D+/DpwzojQEQIEmwoanVwxA4lgXt9HgE0BSSZ2AJuIbQAMJih9jjiNA5q4l5INuK0AwTKYKRj0zQNv5fmq8/DpAaCJseHrtQkB/+zpwzoxKQM3MzMzMeFJAZmZmZmZqWEAAAAAAAFxeQM3MzMzMJmJAmpmZmZkfZUBmZmZmZhhoQDMzMzMzEWtAAAAAAAAKbkBmZmZmZoFwQM3MzMzM/XFAMzMzMzN6c0CamZmZmfZ0QAAAAAAAc3ZAZmZmZmbvd0DNzMzMzGt5QDMzMzMz6HpAmpmZmZlkfEAAAAAAAOF9QGZmZmZmXX9AZmZmZuZsgECamZmZGSuBQM3MzMxM6YFAAAAAAICngkAzMzMzs2WDQGZmZmbmI4RAmpmZmRnihEDNzMzMTKCFQAAAAACAXoZAMzMzM7Mch0BmZmZm5tqHQJqZmZkZmYhAzczMzExXiUAAAAAAgBWKQDMzMzOz04pAZmZmZuaRi0CamZmZGVCMQM3MzMxMDo1AAAAAAIDMjUAzMzMzs4qOQGZmZmbmSI9A\",\"dtype\":\"float64\",\"shape\":[75]}},\"selected\":{\"id\":\"18f08128-0931-4cb7-b1d4-c7a31ca60e78\",\"type\":\"Selection\"},\"selection_policy\":{\"id\":\"18fae14c-5035-4779-9eb3-8f766978c82f\",\"type\":\"UnionRenderers\"}},\"id\":\"b8a114fb-8d83-42da-a331-077df2357470\",\"type\":\"ColumnDataSource\"},{\"attributes\":{\"label\":{\"value\":\"WGT igg=1\"},\"renderers\":[{\"id\":\"2512324c-29d4-4aa6-be2d-e17df7a4f24a\",\"type\":\"GlyphRenderer\"},{\"id\":\"0d1e98dc-fbce-43d8-ba48-f9086362afb5\",\"type\":\"GlyphRenderer\"}]},\"id\":\"52991566-08ff-4b4c-b88e-5ed186f83844\",\"type\":\"LegendItem\"},{\"attributes\":{},\"id\":\"64d346f5-c150-4194-a31f-22f5d5570313\",\"type\":\"Selection\"},{\"attributes\":{\"fill_alpha\":{\"value\":0.7},\"fill_color\":{\"value\":\"#984ea3\"},\"line_alpha\":{\"value\":0.7},\"line_color\":{\"value\":\"#984ea3\"},\"x\":{\"field\":\"x\"},\"y\":{\"field\":\"y\"}},\"id\":\"757b9af9-3689-40ad-aaf7-810c61d51fbe\",\"type\":\"Square\"},{\"attributes\":{\"label\":{\"value\":\"WGT igg=10\"},\"renderers\":[{\"id\":\"13871f2e-da03-403a-9ee8-8046e9ba244d\",\"type\":\"GlyphRenderer\"},{\"id\":\"12393789-7328-43b0-b4d1-6a46383899dc\",\"type\":\"GlyphRenderer\"}]},\"id\":\"dca01939-a9a2-4955-8f3b-ae87dedfca65\",\"type\":\"LegendItem\"},{\"attributes\":{},\"id\":\"66f7eeb7-ac7d-4cce-a833-4703d3248aff\",\"type\":\"Selection\"},{\"attributes\":{},\"id\":\"9c12add3-3815-4f6a-b301-e5bcb16bf6c9\",\"type\":\"Selection\"},{\"attributes\":{\"axis_label\":\"pressure [mb]\",\"formatter\":{\"id\":\"85a3387f-d8f2-4865-b235-804fcf2ecb54\",\"type\":\"BasicTickFormatter\"},\"plot\":{\"id\":\"083b463d-8c1c-4ff5-a678-788039095fe7\",\"subtype\":\"Figure\",\"type\":\"Plot\"},\"ticker\":{\"id\":\"a34fd794-74fb-43f1-9da6-02a85ea392c9\",\"type\":\"BasicTicker\"}},\"id\":\"2be3d060-f002-466b-a6dc-0a55c98ef05a\",\"type\":\"LinearAxis\"},{\"attributes\":{},\"id\":\"85a3387f-d8f2-4865-b235-804fcf2ecb54\",\"type\":\"BasicTickFormatter\"},{\"attributes\":{},\"id\":\"d43f8e9b-1cff-4d46-8d85-8d470cb3217b\",\"type\":\"BasicTickFormatter\"},{\"attributes\":{},\"id\":\"c8d93108-31c5-4afb-a761-87e07749a3b2\",\"type\":\"UnionRenderers\"},{\"attributes\":{},\"id\":\"18fae14c-5035-4779-9eb3-8f766978c82f\",\"type\":\"UnionRenderers\"},{\"attributes\":{},\"id\":\"c91604f9-ccec-44d6-8145-fdea859ea6b1\",\"type\":\"BasicTicker\"},{\"attributes\":{},\"id\":\"c063d357-b1be-459b-8837-96844ac48d71\",\"type\":\"UnionRenderers\"},{\"attributes\":{},\"id\":\"8eb5b5f6-fd3c-4ff3-8458-b126b0510e08\",\"type\":\"Selection\"},{\"attributes\":{},\"id\":\"7bb83632-2d01-442b-838d-2d9cc4847f63\",\"type\":\"UnionRenderers\"},{\"attributes\":{\"plot\":{\"id\":\"083b463d-8c1c-4ff5-a678-788039095fe7\",\"subtype\":\"Figure\",\"type\":\"Plot\"},\"ticker\":{\"id\":\"c91604f9-ccec-44d6-8145-fdea859ea6b1\",\"type\":\"BasicTicker\"}},\"id\":\"1c706ca6-bfb7-43b7-9607-4c05e142a844\",\"type\":\"Grid\"},{\"attributes\":{},\"id\":\"a1fe4193-02cf-42dd-a1ba-8a0b8b26630e\",\"type\":\"Selection\"},{\"attributes\":{},\"id\":\"7e30ef3a-f33a-434d-b64f-99cfd8f310ff\",\"type\":\"UnionRenderers\"},{\"attributes\":{\"dimension\":1,\"plot\":{\"id\":\"083b463d-8c1c-4ff5-a678-788039095fe7\",\"subtype\":\"Figure\",\"type\":\"Plot\"},\"ticker\":{\"id\":\"a34fd794-74fb-43f1-9da6-02a85ea392c9\",\"type\":\"BasicTicker\"}},\"id\":\"3823bcab-8652-4c3f-9fbd-ae39667c1d52\",\"type\":\"Grid\"},{\"attributes\":{},\"id\":\"9ed42095-db44-4cd9-b071-16a6e95c8d99\",\"type\":\"Selection\"},{\"attributes\":{\"source\":{\"id\":\"706673b7-3839-4b59-9362-4756eba4ef2e\",\"type\":\"ColumnDataSource\"}},\"id\":\"74d2457c-8395-49ae-ad2b-e5eff9b1b490\",\"type\":\"CDSView\"},{\"attributes\":{},\"id\":\"e3cddc52-2f44-4b13-a4be-3e7ba5643386\",\"type\":\"UnionRenderers\"},{\"attributes\":{\"callback\":null,\"data\":{\"x\":{\"__ndarray__\":\"6alXj9DWor+mgSlHJLGiv+KHaTAkX6K/nvBHjsoGor97s1k31qyhv/cF2G1uUaG/Hdzs+6/0oL8eEhL3xZagvy5+NEvrN6C/9GNmewGxn7+cxX5bH/Kev3wy5ZSXNJ6/H2LFoWV6nb95PE5NWbicv3JtZvwUKpq/p3YZDf86kr8326nwGHtyv2EZpKs3FIk/YvwGtuLMoD8/XfsHM5utP3LKBEXxf7Y/xGcljOqdvz9CjrXYUN7DP+kla3mKwcM/C+bYD+tsvz+4/dks6lW2P/2O2UBXrqw/3ItWWOoFoD8r+bKW/RiNPzyw2+A2pXA/IoxWp+e6UL8er0uLPWZmvwx6D1G1L2K/Tzw+1fVIUr94eKh/kFdDv2BWP/k5XUC/HgkDRwfcPL+MkXesvr49vxA8OanB0ka/qz/JvioxUL8kd+xxbKdQvxVU38O52kq/HT1ehg/FRb/0Ug6UGLlCvzTTpLFJwEC/1fkqj6uePr+pbYke0js8v7WFUvhGDTq/cvDgmFTwN790UpHBouE1vyP/CItLADS/jCwCbBNxMr8S1tVMVj8xv+gpXX+sTjC/RT4ptFTdLr8Hw6mkiOssv1hXLXselCq/qYLkNzW1J797w6BSlzUkv8SrvByJ/R+/OGlrCTrnFb8+e99ra84Dv2LimaLZCfE+yYqtWVvJFD/NLpxhhdojP3Kw+x5LTS4/ThLlRkCEND/9w1lciGQ5Pwf+utVyOD0/R6gGHkoFQD8nCC7X/EFBPxmjroJlsUI/YxApO1CRRD9cw7lwFwNHPzkSKsm/Gko/\",\"dtype\":\"float64\",\"shape\":[75]},\"y\":{\"__ndarray__\":\"GhExyth1ND/Sv8nbtpRIP2vylNV0PVE/aTum7souWD/At0SJ8fVgPw3Iuahxymc/MSNhhJWvcD/bTfBN02d3P2zb5nxnaoA/CD5h5MAGhz8NmeH1TyaQP+zrCsc9p5Y/LbKd76fGnz/bLW5ISEmmPww9YvTcQq8/JV2OstnstT8Er5Y7M8G+P0c+r3jqkcU/5h99k6ZBzj88bCIzFzjVP4enV8oyxN0//yH99nXg5D8qOpLLf0jtP5kqGJXUifQ/c9cS8kHP/D+/DpwzojQEQIEmwoanVwxA4lgXt9HgE0BSSZ2AJuIbQAMJih9jjiNA5q4l5INuK0AwTKYKRj0zQNv5fmq8/DpAaCJseHrtQkB/+zpwzoxKQM3MzMzMeFJAZmZmZmZqWEAAAAAAAFxeQM3MzMzMJmJAmpmZmZkfZUBmZmZmZhhoQDMzMzMzEWtAAAAAAAAKbkBmZmZmZoFwQM3MzMzM/XFAMzMzMzN6c0CamZmZmfZ0QAAAAAAAc3ZAZmZmZmbvd0DNzMzMzGt5QDMzMzMz6HpAmpmZmZlkfEAAAAAAAOF9QGZmZmZmXX9AZmZmZuZsgECamZmZGSuBQM3MzMxM6YFAAAAAAICngkAzMzMzs2WDQGZmZmbmI4RAmpmZmRnihEDNzMzMTKCFQAAAAACAXoZAMzMzM7Mch0BmZmZm5tqHQJqZmZkZmYhAzczMzExXiUAAAAAAgBWKQDMzMzOz04pAZmZmZuaRi0CamZmZGVCMQM3MzMxMDo1AAAAAAIDMjUAzMzMzs4qOQGZmZmbmSI9A\",\"dtype\":\"float64\",\"shape\":[75]}},\"selected\":{\"id\":\"d25d71ab-155f-45dd-8c3b-9c1bf46046c7\",\"type\":\"Selection\"},\"selection_policy\":{\"id\":\"25b82cda-530c-4b52-9556-8c755667584a\",\"type\":\"UnionRenderers\"}},\"id\":\"cebd7095-b50a-405a-804d-e6f15e8a7512\",\"type\":\"ColumnDataSource\"},{\"attributes\":{},\"id\":\"2ad6283f-d6d3-4302-9eac-7f400a39170d\",\"type\":\"Selection\"},{\"attributes\":{},\"id\":\"a34fd794-74fb-43f1-9da6-02a85ea392c9\",\"type\":\"BasicTicker\"},{\"attributes\":{\"ticker\":null},\"id\":\"f534368b-c2db-482c-8f92-2223663cb217\",\"type\":\"LogTickFormatter\"},{\"attributes\":{},\"id\":\"86b54b9f-9505-4c51-a72f-4ff313e4efb0\",\"type\":\"Selection\"},{\"attributes\":{},\"id\":\"f0faa328-3da5-4a12-8504-8950405bdbc6\",\"type\":\"UnionRenderers\"},{\"attributes\":{},\"id\":\"dc21bc75-537a-470d-b033-615b0718fdaa\",\"type\":\"BasicTickFormatter\"},{\"attributes\":{\"toolbar\":{\"id\":\"1fc3ae94-eb57-490f-b6a7-c27a4b524d7d\",\"type\":\"ProxyToolbar\"},\"toolbar_location\":\"above\"},\"id\":\"f5563afe-6723-4024-8eb1-06f8659570d3\",\"type\":\"ToolbarBox\"},{\"attributes\":{},\"id\":\"2b8ea0a7-f6fb-4b1b-8889-5b1848379a80\",\"type\":\"UnionRenderers\"},{\"attributes\":{},\"id\":\"d25d71ab-155f-45dd-8c3b-9c1bf46046c7\",\"type\":\"Selection\"},{\"attributes\":{},\"id\":\"25b82cda-530c-4b52-9556-8c755667584a\",\"type\":\"UnionRenderers\"},{\"attributes\":{},\"id\":\"9333c225-9e07-49c8-868f-739372b980ce\",\"type\":\"Selection\"},{\"attributes\":{},\"id\":\"80e81118-67f4-4ce9-bc7f-6ef8e0d6a143\",\"type\":\"UnionRenderers\"},{\"attributes\":{\"tools\":[{\"id\":\"e558185d-5d83-4968-ae31-b21df45ee20e\",\"type\":\"PanTool\"},{\"id\":\"10898c51-e0b1-493f-8621-bf3f8473162f\",\"type\":\"WheelZoomTool\"},{\"id\":\"846c2c4a-a02f-407c-88ae-ca300d0b0915\",\"type\":\"BoxZoomTool\"},{\"id\":\"187ca9d7-ad5b-41f7-b630-87df4939dd43\",\"type\":\"SaveTool\"},{\"id\":\"03e60456-73ca-4b70-a312-64c9704a3c1a\",\"type\":\"ResetTool\"},{\"id\":\"0e686c5a-04fc-47dd-aee0-bc9a78cf4b0d\",\"type\":\"HelpTool\"},{\"id\":\"4be97aea-a78f-4ceb-a42d-3424de43e6ff\",\"type\":\"PanTool\"},{\"id\":\"7ad7da2f-91f3-4eaf-84bc-a7e09e822d3a\",\"type\":\"WheelZoomTool\"},{\"id\":\"f24c9f29-7291-4424-ad6e-19c403e215ea\",\"type\":\"BoxZoomTool\"},{\"id\":\"95f48bbf-5251-4f90-b073-cbc860e276de\",\"type\":\"SaveTool\"},{\"id\":\"2b0171c6-041c-40c6-ac86-0b1278c39de9\",\"type\":\"ResetTool\"},{\"id\":\"192fd972-8191-4c1f-a835-c2296905a176\",\"type\":\"HelpTool\"}]},\"id\":\"1fc3ae94-eb57-490f-b6a7-c27a4b524d7d\",\"type\":\"ProxyToolbar\"},{\"attributes\":{\"axis_label\":\"cooling rate [K/day]\",\"formatter\":{\"id\":\"d43f8e9b-1cff-4d46-8d85-8d470cb3217b\",\"type\":\"BasicTickFormatter\"},\"plot\":{\"id\":\"083b463d-8c1c-4ff5-a678-788039095fe7\",\"subtype\":\"Figure\",\"type\":\"Plot\"},\"ticker\":{\"id\":\"c91604f9-ccec-44d6-8145-fdea859ea6b1\",\"type\":\"BasicTicker\"}},\"id\":\"237984d2-a3b1-4a24-b16c-13716dc5d693\",\"type\":\"LinearAxis\"},{\"attributes\":{},\"id\":\"c4b81904-7af2-4e73-869e-24d064124c57\",\"type\":\"Selection\"},{\"attributes\":{},\"id\":\"0ca747f8-7651-45e5-ae5f-c56acf849159\",\"type\":\"LinearScale\"},{\"attributes\":{\"line_alpha\":0.1,\"line_color\":\"#1f77b4\",\"line_width\":3,\"x\":{\"field\":\"x\"},\"y\":{\"field\":\"y\"}},\"id\":\"006b1ec5-a056-46be-aa8b-ab2d370eab69\",\"type\":\"Line\"},{\"attributes\":{},\"id\":\"d286c87e-4074-4985-a75c-e4b54754d16b\",\"type\":\"UnionRenderers\"},{\"attributes\":{\"children\":[{\"id\":\"f5563afe-6723-4024-8eb1-06f8659570d3\",\"type\":\"ToolbarBox\"},{\"id\":\"fe749fb0-b5a4-448e-8ad6-e8ba36e65997\",\"type\":\"Column\"}]},\"id\":\"b002f396-ffec-4871-bcdf-5c23420595b6\",\"type\":\"Column\"},{\"attributes\":{\"source\":{\"id\":\"b8a114fb-8d83-42da-a331-077df2357470\",\"type\":\"ColumnDataSource\"}},\"id\":\"cfce84bf-03e8-4cbd-a728-1ce7e71a2dee\",\"type\":\"CDSView\"},{\"attributes\":{},\"id\":\"87815200-819e-4eef-8a9a-e30e7b02b96c\",\"type\":\"UnionRenderers\"},{\"attributes\":{\"data_source\":{\"id\":\"706673b7-3839-4b59-9362-4756eba4ef2e\",\"type\":\"ColumnDataSource\"},\"glyph\":{\"id\":\"72563a28-c3f4-46dc-a812-43cd1a500c61\",\"type\":\"Square\"},\"hover_glyph\":null,\"muted_glyph\":null,\"nonselection_glyph\":{\"id\":\"5e575992-c2f1-47b1-8cbc-62e5b487a580\",\"type\":\"Square\"},\"selection_glyph\":null,\"view\":{\"id\":\"74d2457c-8395-49ae-ad2b-e5eff9b1b490\",\"type\":\"CDSView\"}},\"id\":\"2512324c-29d4-4aa6-be2d-e17df7a4f24a\",\"type\":\"GlyphRenderer\"},{\"attributes\":{\"above\":[{\"id\":\"d605d354-6965-475a-a07a-ffe6ffcdf3ae\",\"type\":\"Legend\"}],\"below\":[{\"id\":\"237984d2-a3b1-4a24-b16c-13716dc5d693\",\"type\":\"LinearAxis\"}],\"left\":[{\"id\":\"2be3d060-f002-466b-a6dc-0a55c98ef05a\",\"type\":\"LinearAxis\"}],\"plot_height\":500,\"plot_width\":400,\"renderers\":[{\"id\":\"237984d2-a3b1-4a24-b16c-13716dc5d693\",\"type\":\"LinearAxis\"},{\"id\":\"1c706ca6-bfb7-43b7-9607-4c05e142a844\",\"type\":\"Grid\"},{\"id\":\"2be3d060-f002-466b-a6dc-0a55c98ef05a\",\"type\":\"LinearAxis\"},{\"id\":\"3823bcab-8652-4c3f-9fbd-ae39667c1d52\",\"type\":\"Grid\"},{\"id\":\"80aa8edb-3524-42e1-84a5-6195334e6850\",\"type\":\"BoxAnnotation\"},{\"id\":\"f63d8ce3-188e-4f52-bb55-ea1d5a94e256\",\"type\":\"GlyphRenderer\"},{\"id\":\"e615154e-a0b4-42dd-98d3-d7fa80b8d2fd\",\"type\":\"GlyphRenderer\"},{\"id\":\"bbe7452d-f0ce-4331-82e5-67a8525bdf3c\",\"type\":\"GlyphRenderer\"},{\"id\":\"635e13b4-09e0-4fb4-b456-3359b5e1a1cf\",\"type\":\"GlyphRenderer\"},{\"id\":\"16fb3c36-23b6-4411-b820-c9255b6da673\",\"type\":\"GlyphRenderer\"},{\"id\":\"ddb0f5b2-41f2-4eab-b4ea-17eeba5c232a\",\"type\":\"GlyphRenderer\"},{\"id\":\"d605d354-6965-475a-a07a-ffe6ffcdf3ae\",\"type\":\"Legend\"}],\"title\":{\"id\":\"a96fdf65-a155-4fb6-b698-ee59de204bc7\",\"type\":\"Title\"},\"toolbar\":{\"id\":\"5b67291e-147b-40b3-8847-accb726fc962\",\"type\":\"Toolbar\"},\"toolbar_location\":null,\"x_range\":{\"id\":\"4d9b4160-722a-410c-a2b0-795d54189515\",\"type\":\"Range1d\"},\"x_scale\":{\"id\":\"99d316f4-7426-47fc-bcc0-b4c81630e6ab\",\"type\":\"LinearScale\"},\"y_range\":{\"id\":\"d3991646-714c-4fda-90b6-5bcf4642a2df\",\"type\":\"Range1d\"},\"y_scale\":{\"id\":\"0ca747f8-7651-45e5-ae5f-c56acf849159\",\"type\":\"LinearScale\"}},\"id\":\"083b463d-8c1c-4ff5-a678-788039095fe7\",\"subtype\":\"Figure\",\"type\":\"Plot\"},{\"attributes\":{\"line_alpha\":0.6,\"line_color\":\"#984ea3\",\"line_width\":3,\"x\":{\"field\":\"x\"},\"y\":{\"field\":\"y\"}},\"id\":\"f4ecd596-3829-4e88-8aa1-baac6b8bc9ee\",\"type\":\"Line\"},{\"attributes\":{\"callback\":null,\"end\":0.0008155781968,\"start\":-0.0011155283168},\"id\":\"4d9b4160-722a-410c-a2b0-795d54189515\",\"type\":\"Range1d\"},{\"attributes\":{\"callback\":null,\"data\":{\"x\":{\"__ndarray__\":\"1fxj5456pb/kWUzjTFClv4F8pupg9aS/FBoZyNmSpL+qpibsmy6kv3uyhn6y0aO/odrgRPRro7/gY6spmwKjv47C/ZmkpqK/h11GdzFJor9kY5jypeChv8ns9M9IjqG/f1PK/ohFob9XXNW/D/qgvw+hDWoGi5+/r/GCUCpWl7/0pnWmDyeCvzcvhNzJh4E/LXOFOlZwnj8pR/R3XkasP+H40sIC67U/FO2ma1gZvz/GX6RhQpbDP1B8rTLwL8M/PrVVpB2SvT/8gy/pe0+0P762zUCkYKk/SUZzCSwlnD8eity1f8OKP4r4A6x5OHM/1MxjoLVaLD8E6Qj23UFcv445mcGiXly/dujsS9PzUL/dbM90pFRGv2rQN1ZFxUS/wfaDy15sQ7+4DiqN/dhDv7tC7/JM5kq/WuRqKmOxUb8OYMHhdPdRvyIqJnvdqk2//7L5jh3ESL/QmChR6YlFv9KiRYp6lkO/ymVZeKLZQb9KJ9i2OGJAv/LECK27/D2/F2Y2YXxgO791DaiZSdA4vyp7IZUIaja/0xXyRuBUNL8yI/f3KZoyv4lgsqO0FTG/H6hdGxdJL7/uqNg8hEAsv3vBy1cl2Si/bENUqQ8FJb9s6K8TsKwgv7DzOPLthhe/BJKlF2WjCL/WaUv4T+64Pq8WpNvvrA0/fmfFly42Hz8l12NX4MgoP9t+v6OuZDE/H8pSLAuBNj9it0VzXBw7P1wAw5X6qz4/Su+seAKcQD/3hTNeA7JBPznpPNYx9EI/AHlV8mWiRD+u7mWsIuhGPxUEhq1nAEo/\",\"dtype\":\"float64\",\"shape\":[75]},\"y\":{\"__ndarray__\":\"GhExyth1ND/Sv8nbtpRIP2vylNV0PVE/aTum7souWD/At0SJ8fVgPw3Iuahxymc/MSNhhJWvcD/bTfBN02d3P2zb5nxnaoA/CD5h5MAGhz8NmeH1TyaQP+zrCsc9p5Y/LbKd76fGnz/bLW5ISEmmPww9YvTcQq8/JV2OstnstT8Er5Y7M8G+P0c+r3jqkcU/5h99k6ZBzj88bCIzFzjVP4enV8oyxN0//yH99nXg5D8qOpLLf0jtP5kqGJXUifQ/c9cS8kHP/D+/DpwzojQEQIEmwoanVwxA4lgXt9HgE0BSSZ2AJuIbQAMJih9jjiNA5q4l5INuK0AwTKYKRj0zQNv5fmq8/DpAaCJseHrtQkB/+zpwzoxKQM3MzMzMeFJAZmZmZmZqWEAAAAAAAFxeQM3MzMzMJmJAmpmZmZkfZUBmZmZmZhhoQDMzMzMzEWtAAAAAAAAKbkBmZmZmZoFwQM3MzMzM/XFAMzMzMzN6c0CamZmZmfZ0QAAAAAAAc3ZAZmZmZmbvd0DNzMzMzGt5QDMzMzMz6HpAmpmZmZlkfEAAAAAAAOF9QGZmZmZmXX9AZmZmZuZsgECamZmZGSuBQM3MzMxM6YFAAAAAAICngkAzMzMzs2WDQGZmZmbmI4RAmpmZmRnihEDNzMzMTKCFQAAAAACAXoZAMzMzM7Mch0BmZmZm5tqHQJqZmZkZmYhAzczMzExXiUAAAAAAgBWKQDMzMzOz04pAZmZmZuaRi0CamZmZGVCMQM3MzMxMDo1AAAAAAIDMjUAzMzMzs4qOQGZmZmbmSI9A\",\"dtype\":\"float64\",\"shape\":[75]}},\"selected\":{\"id\":\"a1fe4193-02cf-42dd-a1ba-8a0b8b26630e\",\"type\":\"Selection\"},\"selection_policy\":{\"id\":\"7e30ef3a-f33a-434d-b64f-99cfd8f310ff\",\"type\":\"UnionRenderers\"}},\"id\":\"505ad256-9f1e-4d4c-b78f-53bfb7f39b28\",\"type\":\"ColumnDataSource\"},{\"attributes\":{},\"id\":\"99d316f4-7426-47fc-bcc0-b4c81630e6ab\",\"type\":\"LinearScale\"},{\"attributes\":{\"active_drag\":\"auto\",\"active_inspect\":\"auto\",\"active_scroll\":\"auto\",\"active_tap\":\"auto\",\"tools\":[{\"id\":\"e558185d-5d83-4968-ae31-b21df45ee20e\",\"type\":\"PanTool\"},{\"id\":\"10898c51-e0b1-493f-8621-bf3f8473162f\",\"type\":\"WheelZoomTool\"},{\"id\":\"846c2c4a-a02f-407c-88ae-ca300d0b0915\",\"type\":\"BoxZoomTool\"},{\"id\":\"187ca9d7-ad5b-41f7-b630-87df4939dd43\",\"type\":\"SaveTool\"},{\"id\":\"03e60456-73ca-4b70-a312-64c9704a3c1a\",\"type\":\"ResetTool\"},{\"id\":\"0e686c5a-04fc-47dd-aee0-bc9a78cf4b0d\",\"type\":\"HelpTool\"}]},\"id\":\"5b67291e-147b-40b3-8847-accb726fc962\",\"type\":\"Toolbar\"},{\"attributes\":{\"fill_alpha\":{\"value\":0.7},\"fill_color\":{\"value\":\"#984ea3\"},\"line_alpha\":{\"value\":0.7},\"line_color\":{\"value\":\"#984ea3\"},\"x\":{\"field\":\"x\"},\"y\":{\"field\":\"y\"}},\"id\":\"72563a28-c3f4-46dc-a812-43cd1a500c61\",\"type\":\"Square\"},{\"attributes\":{\"above\":[{\"id\":\"29aba5ed-8f12-4cd0-98ec-af275b678db4\",\"type\":\"Legend\"}],\"below\":[{\"id\":\"046e789f-d279-40a4-85af-2df12d2c08a4\",\"type\":\"LinearAxis\"}],\"left\":[{\"id\":\"43f4ffbf-43dd-4187-8ab0-d1656b130cc7\",\"type\":\"LogAxis\"}],\"plot_height\":500,\"plot_width\":400,\"renderers\":[{\"id\":\"046e789f-d279-40a4-85af-2df12d2c08a4\",\"type\":\"LinearAxis\"},{\"id\":\"d327ce18-c62c-47fc-8647-5c2dd677842f\",\"type\":\"Grid\"},{\"id\":\"43f4ffbf-43dd-4187-8ab0-d1656b130cc7\",\"type\":\"LogAxis\"},{\"id\":\"24b1e499-8fd0-433a-9aa1-f5c19b420284\",\"type\":\"Grid\"},{\"id\":\"d2f8363a-4e3d-44e0-bae9-4703ad4e8302\",\"type\":\"BoxAnnotation\"},{\"id\":\"65c28f0e-3382-4d10-b849-0cef18e4cd5e\",\"type\":\"GlyphRenderer\"},{\"id\":\"a2a47ba2-27a0-4a9e-9d9b-7e9bb0e2f5ba\",\"type\":\"GlyphRenderer\"},{\"id\":\"2512324c-29d4-4aa6-be2d-e17df7a4f24a\",\"type\":\"GlyphRenderer\"},{\"id\":\"0d1e98dc-fbce-43d8-ba48-f9086362afb5\",\"type\":\"GlyphRenderer\"},{\"id\":\"13871f2e-da03-403a-9ee8-8046e9ba244d\",\"type\":\"GlyphRenderer\"},{\"id\":\"12393789-7328-43b0-b4d1-6a46383899dc\",\"type\":\"GlyphRenderer\"},{\"id\":\"29aba5ed-8f12-4cd0-98ec-af275b678db4\",\"type\":\"Legend\"}],\"title\":{\"id\":\"aac06789-0656-4ae7-ad00-4440139994c3\",\"type\":\"Title\"},\"toolbar\":{\"id\":\"43d29054-bd15-4124-a63c-d86c8ba153bd\",\"type\":\"Toolbar\"},\"toolbar_location\":null,\"x_range\":{\"id\":\"eed568ad-6113-4271-a1f0-a7ee643a05aa\",\"type\":\"Range1d\"},\"x_scale\":{\"id\":\"05732dfd-6d2b-4cf8-bb5a-d9ebed76d4fb\",\"type\":\"LinearScale\"},\"y_range\":{\"id\":\"ec0b1c26-8055-427b-b3ba-fb40acf0399c\",\"type\":\"Range1d\"},\"y_scale\":{\"id\":\"f42340e4-2646-448b-b9d1-6363d7037845\",\"type\":\"LogScale\"}},\"id\":\"03cb3648-b06e-4149-b295-d7701daa7f65\",\"subtype\":\"Figure\",\"type\":\"Plot\"},{\"attributes\":{\"line_color\":\"#4daf4a\",\"line_width\":1.5,\"x\":{\"field\":\"x\"},\"y\":{\"field\":\"y\"}},\"id\":\"1dc0e788-813a-4169-95eb-5508ac062641\",\"type\":\"Line\"},{\"attributes\":{\"source\":{\"id\":\"97a71ad8-91bb-4902-ad71-9a8eef05c709\",\"type\":\"ColumnDataSource\"}},\"id\":\"4d090730-7a1e-4dd5-b16f-24d797212954\",\"type\":\"CDSView\"},{\"attributes\":{\"data_source\":{\"id\":\"2cfe0448-4751-430c-9f34-bfd4da754167\",\"type\":\"ColumnDataSource\"},\"glyph\":{\"id\":\"f4ecd596-3829-4e88-8aa1-baac6b8bc9ee\",\"type\":\"Line\"},\"hover_glyph\":null,\"muted_glyph\":null,\"nonselection_glyph\":{\"id\":\"006b1ec5-a056-46be-aa8b-ab2d370eab69\",\"type\":\"Line\"},\"selection_glyph\":null,\"view\":{\"id\":\"f648885b-3c83-4749-a101-8fddca88f200\",\"type\":\"CDSView\"}},\"id\":\"0d1e98dc-fbce-43d8-ba48-f9086362afb5\",\"type\":\"GlyphRenderer\"},{\"attributes\":{\"children\":[{\"id\":\"624021ac-e38e-4a88-833e-ccc5e8956f4b\",\"type\":\"Row\"}]},\"id\":\"fe749fb0-b5a4-448e-8ad6-e8ba36e65997\",\"type\":\"Column\"},{\"attributes\":{\"line_alpha\":0.1,\"line_color\":\"#1f77b4\",\"line_width\":1.5,\"x\":{\"field\":\"x\"},\"y\":{\"field\":\"y\"}},\"id\":\"ff7c6e0d-33e6-40a3-a16f-860487c73341\",\"type\":\"Line\"},{\"attributes\":{\"callback\":null,\"data\":{\"x\":{\"__ndarray__\":\"1fxj5456pb/kWUzjTFClv4F8pupg9aS/FBoZyNmSpL+qpibsmy6kv3uyhn6y0aO/odrgRPRro7/gY6spmwKjv47C/ZmkpqK/h11GdzFJor9kY5jypeChv8ns9M9IjqG/f1PK/ohFob9XXNW/D/qgvw+hDWoGi5+/r/GCUCpWl7/0pnWmDyeCvzcvhNzJh4E/LXOFOlZwnj8pR/R3XkasP+H40sIC67U/FO2ma1gZvz/GX6RhQpbDP1B8rTLwL8M/PrVVpB2SvT/8gy/pe0+0P762zUCkYKk/SUZzCSwlnD8eity1f8OKP4r4A6x5OHM/1MxjoLVaLD8E6Qj23UFcv445mcGiXly/dujsS9PzUL/dbM90pFRGv2rQN1ZFxUS/wfaDy15sQ7+4DiqN/dhDv7tC7/JM5kq/WuRqKmOxUb8OYMHhdPdRvyIqJnvdqk2//7L5jh3ESL/QmChR6YlFv9KiRYp6lkO/ymVZeKLZQb9KJ9i2OGJAv/LECK27/D2/F2Y2YXxgO791DaiZSdA4vyp7IZUIaja/0xXyRuBUNL8yI/f3KZoyv4lgsqO0FTG/H6hdGxdJL7/uqNg8hEAsv3vBy1cl2Si/bENUqQ8FJb9s6K8TsKwgv7DzOPLthhe/BJKlF2WjCL/WaUv4T+64Pq8WpNvvrA0/fmfFly42Hz8l12NX4MgoP9t+v6OuZDE/H8pSLAuBNj9it0VzXBw7P1wAw5X6qz4/Su+seAKcQD/3hTNeA7JBPznpPNYx9EI/AHlV8mWiRD+u7mWsIuhGPxUEhq1nAEo/\",\"dtype\":\"float64\",\"shape\":[75]},\"y\":{\"__ndarray__\":\"GhExyth1ND/Sv8nbtpRIP2vylNV0PVE/aTum7souWD/At0SJ8fVgPw3Iuahxymc/MSNhhJWvcD/bTfBN02d3P2zb5nxnaoA/CD5h5MAGhz8NmeH1TyaQP+zrCsc9p5Y/LbKd76fGnz/bLW5ISEmmPww9YvTcQq8/JV2OstnstT8Er5Y7M8G+P0c+r3jqkcU/5h99k6ZBzj88bCIzFzjVP4enV8oyxN0//yH99nXg5D8qOpLLf0jtP5kqGJXUifQ/c9cS8kHP/D+/DpwzojQEQIEmwoanVwxA4lgXt9HgE0BSSZ2AJuIbQAMJih9jjiNA5q4l5INuK0AwTKYKRj0zQNv5fmq8/DpAaCJseHrtQkB/+zpwzoxKQM3MzMzMeFJAZmZmZmZqWEAAAAAAAFxeQM3MzMzMJmJAmpmZmZkfZUBmZmZmZhhoQDMzMzMzEWtAAAAAAAAKbkBmZmZmZoFwQM3MzMzM/XFAMzMzMzN6c0CamZmZmfZ0QAAAAAAAc3ZAZmZmZmbvd0DNzMzMzGt5QDMzMzMz6HpAmpmZmZlkfEAAAAAAAOF9QGZmZmZmXX9AZmZmZuZsgECamZmZGSuBQM3MzMxM6YFAAAAAAICngkAzMzMzs2WDQGZmZmbmI4RAmpmZmRnihEDNzMzMTKCFQAAAAACAXoZAMzMzM7Mch0BmZmZm5tqHQJqZmZkZmYhAzczMzExXiUAAAAAAgBWKQDMzMzOz04pAZmZmZuaRi0CamZmZGVCMQM3MzMxMDo1AAAAAAIDMjUAzMzMzs4qOQGZmZmbmSI9A\",\"dtype\":\"float64\",\"shape\":[75]}},\"selected\":{\"id\":\"66f7eeb7-ac7d-4cce-a833-4703d3248aff\",\"type\":\"Selection\"},\"selection_policy\":{\"id\":\"f0faa328-3da5-4a12-8504-8950405bdbc6\",\"type\":\"UnionRenderers\"}},\"id\":\"706673b7-3839-4b59-9362-4756eba4ef2e\",\"type\":\"ColumnDataSource\"},{\"attributes\":{\"line_alpha\":0.3,\"line_color\":\"#377eb8\",\"line_width\":2,\"x\":{\"field\":\"x\"},\"y\":{\"field\":\"y\"}},\"id\":\"cedd55d4-10d6-46a9-bf22-05f35e1870a0\",\"type\":\"Line\"},{\"attributes\":{\"data_source\":{\"id\":\"d1080542-82b7-4e2e-8a10-2c4d37913635\",\"type\":\"ColumnDataSource\"},\"glyph\":{\"id\":\"1dc0e788-813a-4169-95eb-5508ac062641\",\"type\":\"Line\"},\"hover_glyph\":null,\"muted_glyph\":null,\"nonselection_glyph\":{\"id\":\"ff7c6e0d-33e6-40a3-a16f-860487c73341\",\"type\":\"Line\"},\"selection_glyph\":null,\"view\":{\"id\":\"ddc7dcf3-5c83-43fb-8437-1df77740637d\",\"type\":\"CDSView\"}},\"id\":\"a2a47ba2-27a0-4a9e-9d9b-7e9bb0e2f5ba\",\"type\":\"GlyphRenderer\"},{\"attributes\":{\"data_source\":{\"id\":\"b8a114fb-8d83-42da-a331-077df2357470\",\"type\":\"ColumnDataSource\"},\"glyph\":{\"id\":\"757b9af9-3689-40ad-aaf7-810c61d51fbe\",\"type\":\"Square\"},\"hover_glyph\":null,\"muted_glyph\":null,\"nonselection_glyph\":{\"id\":\"a6de69b0-8ba4-4f60-abaf-533675d0490a\",\"type\":\"Square\"},\"selection_glyph\":null,\"view\":{\"id\":\"cfce84bf-03e8-4cbd-a728-1ce7e71a2dee\",\"type\":\"CDSView\"}},\"id\":\"bbe7452d-f0ce-4331-82e5-67a8525bdf3c\",\"type\":\"GlyphRenderer\"},{\"attributes\":{\"callback\":null,\"data\":{\"x\":{\"__ndarray__\":\"6alXj9DWor+mgSlHJLGiv+KHaTAkX6K/nvBHjsoGor97s1k31qyhv/cF2G1uUaG/Hdzs+6/0oL8eEhL3xZagvy5+NEvrN6C/9GNmewGxn7+cxX5bH/Kev3wy5ZSXNJ6/H2LFoWV6nb95PE5NWbicv3JtZvwUKpq/p3YZDf86kr8326nwGHtyv2EZpKs3FIk/YvwGtuLMoD8/XfsHM5utP3LKBEXxf7Y/xGcljOqdvz9CjrXYUN7DP+kla3mKwcM/C+bYD+tsvz+4/dks6lW2P/2O2UBXrqw/3ItWWOoFoD8r+bKW/RiNPzyw2+A2pXA/IoxWp+e6UL8er0uLPWZmvwx6D1G1L2K/Tzw+1fVIUr94eKh/kFdDv2BWP/k5XUC/HgkDRwfcPL+MkXesvr49vxA8OanB0ka/qz/JvioxUL8kd+xxbKdQvxVU38O52kq/HT1ehg/FRb/0Ug6UGLlCvzTTpLFJwEC/1fkqj6uePr+pbYke0js8v7WFUvhGDTq/cvDgmFTwN790UpHBouE1vyP/CItLADS/jCwCbBNxMr8S1tVMVj8xv+gpXX+sTjC/RT4ptFTdLr8Hw6mkiOssv1hXLXselCq/qYLkNzW1J797w6BSlzUkv8SrvByJ/R+/OGlrCTrnFb8+e99ra84Dv2LimaLZCfE+yYqtWVvJFD/NLpxhhdojP3Kw+x5LTS4/ThLlRkCEND/9w1lciGQ5Pwf+utVyOD0/R6gGHkoFQD8nCC7X/EFBPxmjroJlsUI/YxApO1CRRD9cw7lwFwNHPzkSKsm/Gko/\",\"dtype\":\"float64\",\"shape\":[75]},\"y\":{\"__ndarray__\":\"GhExyth1ND/Sv8nbtpRIP2vylNV0PVE/aTum7souWD/At0SJ8fVgPw3Iuahxymc/MSNhhJWvcD/bTfBN02d3P2zb5nxnaoA/CD5h5MAGhz8NmeH1TyaQP+zrCsc9p5Y/LbKd76fGnz/bLW5ISEmmPww9YvTcQq8/JV2OstnstT8Er5Y7M8G+P0c+r3jqkcU/5h99k6ZBzj88bCIzFzjVP4enV8oyxN0//yH99nXg5D8qOpLLf0jtP5kqGJXUifQ/c9cS8kHP/D+/DpwzojQEQIEmwoanVwxA4lgXt9HgE0BSSZ2AJuIbQAMJih9jjiNA5q4l5INuK0AwTKYKRj0zQNv5fmq8/DpAaCJseHrtQkB/+zpwzoxKQM3MzMzMeFJAZmZmZmZqWEAAAAAAAFxeQM3MzMzMJmJAmpmZmZkfZUBmZmZmZhhoQDMzMzMzEWtAAAAAAAAKbkBmZmZmZoFwQM3MzMzM/XFAMzMzMzN6c0CamZmZmfZ0QAAAAAAAc3ZAZmZmZmbvd0DNzMzMzGt5QDMzMzMz6HpAmpmZmZlkfEAAAAAAAOF9QGZmZmZmXX9AZmZmZuZsgECamZmZGSuBQM3MzMxM6YFAAAAAAICngkAzMzMzs2WDQGZmZmbmI4RAmpmZmRnihEDNzMzMTKCFQAAAAACAXoZAMzMzM7Mch0BmZmZm5tqHQJqZmZkZmYhAzczMzExXiUAAAAAAgBWKQDMzMzOz04pAZmZmZuaRi0CamZmZGVCMQM3MzMxMDo1AAAAAAIDMjUAzMzMzs4qOQGZmZmbmSI9A\",\"dtype\":\"float64\",\"shape\":[75]}},\"selected\":{\"id\":\"c4b81904-7af2-4e73-869e-24d064124c57\",\"type\":\"Selection\"},\"selection_policy\":{\"id\":\"d286c87e-4074-4985-a75c-e4b54754d16b\",\"type\":\"UnionRenderers\"}},\"id\":\"cafb2214-54ed-43be-bf23-5b187d6b0aa5\",\"type\":\"ColumnDataSource\"},{\"attributes\":{\"fill_alpha\":{\"value\":0.1},\"fill_color\":{\"value\":\"#1f77b4\"},\"line_alpha\":{\"value\":0.1},\"line_color\":{\"value\":\"#1f77b4\"},\"x\":{\"field\":\"x\"},\"y\":{\"field\":\"y\"}},\"id\":\"a6de69b0-8ba4-4f60-abaf-533675d0490a\",\"type\":\"Square\"},{\"attributes\":{\"callback\":null,\"data\":{\"x\":{\"__ndarray__\":\"lBCiOCSOsL/jkNBAc3Cwv5WKcttRK7C/dK08zz/Er7+26N5vJjmvv7O3/NY6sK6/JYmfqx8urr/jN6tcrbWtv6GQuw0MTq2/aTi7bnf6rL9fd9GPOsWsvwdr/L9zuqy/r5gWl9jsrL8KZCAWBGutv2nLas6Cz6y/S/5Vt+IxqL/MwVdnwTOfv+I9DE/dzIS/Q1bns2TXiz/KdcJnxRmlP6ItYxq4ybI/D+lc9pCVvD8WZ06PVHzCP/wieK61GME/G7/6vAW5tj/UleaOsgmqP/WdDk2hP5s/+4s2TfMcij+qpQelMjx3P+UwhtyG/WA/+0vMXMLbFL+ULT2bD+9Uv5kRnAKyOla//WjlSF4/UL96yii0WYBLvxYVcl/unkq/+a6r5G3TR79E9pPAgkJFv3i/Qtzj80e/27yM99v6TL+lprM2X+hMv3LNtJXpCUi/HHY+PZzPRL9opDWlMdlCv7cUueMyTkG/KIkW/GjSP7/pybR9pCA9v/I+H4sWbzq/9wifJ0q0N78/fzPPV/I0v26SoTe6RzK/2iIbi4SsL7/4eXITAl0rv0RtwKJbfCe/L1JME37JI79GwuE+lw0gv5tjJpNhVxi/9jDhkncjEL+ijI1UvZr9vpcSOpt2jN8+A9Cy/kNDCD/0eZI8ckcXP3BdLj8T1CE/0x7msAfAKD8PIT//Yz8wP59/my8ufjQ/O87ek9TZOD/3aZWaOcc8P4uivmdPwj8/yjkDf+HoQD86cKFJ8shBP02BNvxh2UI/ckCeFBRZRD/fwzR9kXtGP9yX6YCNlUk/\",\"dtype\":\"float64\",\"shape\":[75]},\"y\":{\"__ndarray__\":\"GhExyth1ND/Sv8nbtpRIP2vylNV0PVE/aTum7souWD/At0SJ8fVgPw3Iuahxymc/MSNhhJWvcD/bTfBN02d3P2zb5nxnaoA/CD5h5MAGhz8NmeH1TyaQP+zrCsc9p5Y/LbKd76fGnz/bLW5ISEmmPww9YvTcQq8/JV2OstnstT8Er5Y7M8G+P0c+r3jqkcU/5h99k6ZBzj88bCIzFzjVP4enV8oyxN0//yH99nXg5D8qOpLLf0jtP5kqGJXUifQ/c9cS8kHP/D+/DpwzojQEQIEmwoanVwxA4lgXt9HgE0BSSZ2AJuIbQAMJih9jjiNA5q4l5INuK0AwTKYKRj0zQNv5fmq8/DpAaCJseHrtQkB/+zpwzoxKQM3MzMzMeFJAZmZmZmZqWEAAAAAAAFxeQM3MzMzMJmJAmpmZmZkfZUBmZmZmZhhoQDMzMzMzEWtAAAAAAAAKbkBmZmZmZoFwQM3MzMzM/XFAMzMzMzN6c0CamZmZmfZ0QAAAAAAAc3ZAZmZmZmbvd0DNzMzMzGt5QDMzMzMz6HpAmpmZmZlkfEAAAAAAAOF9QGZmZmZmXX9AZmZmZuZsgECamZmZGSuBQM3MzMxM6YFAAAAAAICngkAzMzMzs2WDQGZmZmbmI4RAmpmZmRnihEDNzMzMTKCFQAAAAACAXoZAMzMzM7Mch0BmZmZm5tqHQJqZmZkZmYhAzczMzExXiUAAAAAAgBWKQDMzMzOz04pAZmZmZuaRi0CamZmZGVCMQM3MzMxMDo1AAAAAAIDMjUAzMzMzs4qOQGZmZmbmSI9A\",\"dtype\":\"float64\",\"shape\":[75]}},\"selected\":{\"id\":\"9ed42095-db44-4cd9-b071-16a6e95c8d99\",\"type\":\"Selection\"},\"selection_policy\":{\"id\":\"2b8ea0a7-f6fb-4b1b-8889-5b1848379a80\",\"type\":\"UnionRenderers\"}},\"id\":\"d1080542-82b7-4e2e-8a10-2c4d37913635\",\"type\":\"ColumnDataSource\"},{\"attributes\":{\"data_source\":{\"id\":\"cebd7095-b50a-405a-804d-e6f15e8a7512\",\"type\":\"ColumnDataSource\"},\"glyph\":{\"id\":\"903c25b4-937d-4272-8520-692617aa3add\",\"type\":\"Triangle\"},\"hover_glyph\":null,\"muted_glyph\":null,\"nonselection_glyph\":{\"id\":\"1875b05b-6ddf-4a69-9e4d-06c9ff7dff86\",\"type\":\"Triangle\"},\"selection_glyph\":null,\"view\":{\"id\":\"58e91fe6-8b17-4122-8bf8-573901b9ee0c\",\"type\":\"CDSView\"}},\"id\":\"13871f2e-da03-403a-9ee8-8046e9ba244d\",\"type\":\"GlyphRenderer\"},{\"attributes\":{\"fill_alpha\":{\"value\":0.7},\"fill_color\":{\"value\":\"#377eb8\"},\"line_alpha\":{\"value\":0.7},\"line_color\":{\"value\":\"#377eb8\"},\"x\":{\"field\":\"x\"},\"y\":{\"field\":\"y\"}},\"id\":\"903c25b4-937d-4272-8520-692617aa3add\",\"type\":\"Triangle\"},{\"attributes\":{\"source\":{\"id\":\"cebd7095-b50a-405a-804d-e6f15e8a7512\",\"type\":\"ColumnDataSource\"}},\"id\":\"58e91fe6-8b17-4122-8bf8-573901b9ee0c\",\"type\":\"CDSView\"},{\"attributes\":{\"data_source\":{\"id\":\"cafb2214-54ed-43be-bf23-5b187d6b0aa5\",\"type\":\"ColumnDataSource\"},\"glyph\":{\"id\":\"cedd55d4-10d6-46a9-bf22-05f35e1870a0\",\"type\":\"Line\"},\"hover_glyph\":null,\"muted_glyph\":null,\"nonselection_glyph\":{\"id\":\"4b9587fd-6fb4-411c-b90e-933778450f73\",\"type\":\"Line\"},\"selection_glyph\":null,\"view\":{\"id\":\"be164d30-db54-4c08-9d3a-5fed3642cf17\",\"type\":\"CDSView\"}},\"id\":\"12393789-7328-43b0-b4d1-6a46383899dc\",\"type\":\"GlyphRenderer\"},{\"attributes\":{\"fill_alpha\":{\"value\":0.1},\"fill_color\":{\"value\":\"#1f77b4\"},\"line_alpha\":{\"value\":0.1},\"line_color\":{\"value\":\"#1f77b4\"},\"x\":{\"field\":\"x\"},\"y\":{\"field\":\"y\"}},\"id\":\"1875b05b-6ddf-4a69-9e4d-06c9ff7dff86\",\"type\":\"Triangle\"},{\"attributes\":{\"callback\":null,\"data\":{\"x\":{\"__ndarray__\":\"1fxj5456pb/kWUzjTFClv4F8pupg9aS/FBoZyNmSpL+qpibsmy6kv3uyhn6y0aO/odrgRPRro7/gY6spmwKjv47C/ZmkpqK/h11GdzFJor9kY5jypeChv8ns9M9IjqG/f1PK/ohFob9XXNW/D/qgvw+hDWoGi5+/r/GCUCpWl7/0pnWmDyeCvzcvhNzJh4E/LXOFOlZwnj8pR/R3XkasP+H40sIC67U/FO2ma1gZvz/GX6RhQpbDP1B8rTLwL8M/PrVVpB2SvT/8gy/pe0+0P762zUCkYKk/SUZzCSwlnD8eity1f8OKP4r4A6x5OHM/1MxjoLVaLD8E6Qj23UFcv445mcGiXly/dujsS9PzUL/dbM90pFRGv2rQN1ZFxUS/wfaDy15sQ7+4DiqN/dhDv7tC7/JM5kq/WuRqKmOxUb8OYMHhdPdRvyIqJnvdqk2//7L5jh3ESL/QmChR6YlFv9KiRYp6lkO/ymVZeKLZQb9KJ9i2OGJAv/LECK27/D2/F2Y2YXxgO791DaiZSdA4vyp7IZUIaja/0xXyRuBUNL8yI/f3KZoyv4lgsqO0FTG/H6hdGxdJL7/uqNg8hEAsv3vBy1cl2Si/bENUqQ8FJb9s6K8TsKwgv7DzOPLthhe/BJKlF2WjCL/WaUv4T+64Pq8WpNvvrA0/fmfFly42Hz8l12NX4MgoP9t+v6OuZDE/H8pSLAuBNj9it0VzXBw7P1wAw5X6qz4/Su+seAKcQD/3hTNeA7JBPznpPNYx9EI/AHlV8mWiRD+u7mWsIuhGPxUEhq1nAEo/\",\"dtype\":\"float64\",\"shape\":[75]},\"y\":{\"__ndarray__\":\"GhExyth1ND/Sv8nbtpRIP2vylNV0PVE/aTum7souWD/At0SJ8fVgPw3Iuahxymc/MSNhhJWvcD/bTfBN02d3P2zb5nxnaoA/CD5h5MAGhz8NmeH1TyaQP+zrCsc9p5Y/LbKd76fGnz/bLW5ISEmmPww9YvTcQq8/JV2OstnstT8Er5Y7M8G+P0c+r3jqkcU/5h99k6ZBzj88bCIzFzjVP4enV8oyxN0//yH99nXg5D8qOpLLf0jtP5kqGJXUifQ/c9cS8kHP/D+/DpwzojQEQIEmwoanVwxA4lgXt9HgE0BSSZ2AJuIbQAMJih9jjiNA5q4l5INuK0AwTKYKRj0zQNv5fmq8/DpAaCJseHrtQkB/+zpwzoxKQM3MzMzMeFJAZmZmZmZqWEAAAAAAAFxeQM3MzMzMJmJAmpmZmZkfZUBmZmZmZhhoQDMzMzMzEWtAAAAAAAAKbkBmZmZmZoFwQM3MzMzM/XFAMzMzMzN6c0CamZmZmfZ0QAAAAAAAc3ZAZmZmZmbvd0DNzMzMzGt5QDMzMzMz6HpAmpmZmZlkfEAAAAAAAOF9QGZmZmZmXX9AZmZmZuZsgECamZmZGSuBQM3MzMxM6YFAAAAAAICngkAzMzMzs2WDQGZmZmbmI4RAmpmZmRnihEDNzMzMTKCFQAAAAACAXoZAMzMzM7Mch0BmZmZm5tqHQJqZmZkZmYhAzczMzExXiUAAAAAAgBWKQDMzMzOz04pAZmZmZuaRi0CamZmZGVCMQM3MzMxMDo1AAAAAAIDMjUAzMzMzs4qOQGZmZmbmSI9A\",\"dtype\":\"float64\",\"shape\":[75]}},\"selected\":{\"id\":\"9333c225-9e07-49c8-868f-739372b980ce\",\"type\":\"Selection\"},\"selection_policy\":{\"id\":\"80e81118-67f4-4ce9-bc7f-6ef8e0d6a143\",\"type\":\"UnionRenderers\"}},\"id\":\"2cfe0448-4751-430c-9f34-bfd4da754167\",\"type\":\"ColumnDataSource\"},{\"attributes\":{\"fill_alpha\":{\"value\":0.1},\"fill_color\":{\"value\":\"#1f77b4\"},\"line_alpha\":{\"value\":0.1},\"line_color\":{\"value\":\"#1f77b4\"},\"x\":{\"field\":\"x\"},\"y\":{\"field\":\"y\"}},\"id\":\"5e575992-c2f1-47b1-8cbc-62e5b487a580\",\"type\":\"Square\"},{\"attributes\":{\"source\":{\"id\":\"2cfe0448-4751-430c-9f34-bfd4da754167\",\"type\":\"ColumnDataSource\"}},\"id\":\"f648885b-3c83-4749-a101-8fddca88f200\",\"type\":\"CDSView\"},{\"attributes\":{\"line_alpha\":0.1,\"line_color\":\"#1f77b4\",\"line_width\":2,\"x\":{\"field\":\"x\"},\"y\":{\"field\":\"y\"}},\"id\":\"4b9587fd-6fb4-411c-b90e-933778450f73\",\"type\":\"Line\"},{\"attributes\":{\"source\":{\"id\":\"cafb2214-54ed-43be-bf23-5b187d6b0aa5\",\"type\":\"ColumnDataSource\"}},\"id\":\"be164d30-db54-4c08-9d3a-5fed3642cf17\",\"type\":\"CDSView\"},{\"attributes\":{\"children\":[{\"id\":\"083b463d-8c1c-4ff5-a678-788039095fe7\",\"subtype\":\"Figure\",\"type\":\"Plot\"},{\"id\":\"03cb3648-b06e-4149-b295-d7701daa7f65\",\"subtype\":\"Figure\",\"type\":\"Plot\"}]},\"id\":\"624021ac-e38e-4a88-833e-ccc5e8956f4b\",\"type\":\"Row\"}],\"root_ids\":[\"b002f396-ffec-4871-bcdf-5c23420595b6\"]},\"title\":\"Bokeh Application\",\"version\":\"0.12.16\"}};\n",
       "  var render_items = [{\"docid\":\"ffc5681e-612a-4a1b-84ff-7bf63851fdec\",\"elementid\":\"25f9af34-28e9-45f4-8baa-919a3044bf26\",\"modelid\":\"b002f396-ffec-4871-bcdf-5c23420595b6\"}];\n",
       "  root.Bokeh.embed.embed_items_notebook(docs_json, render_items);\n",
       "\n",
       "  }\n",
       "  if (root.Bokeh !== undefined) {\n",
       "    embed_document(root);\n",
       "  } else {\n",
       "    var attempts = 0;\n",
       "    var timer = setInterval(function(root) {\n",
       "      if (root.Bokeh !== undefined) {\n",
       "        embed_document(root);\n",
       "        clearInterval(timer);\n",
       "      }\n",
       "      attempts++;\n",
       "      if (attempts > 100) {\n",
       "        console.log(\"Bokeh: ERROR: Unable to run BokehJS code because BokehJS library is missing\")\n",
       "        clearInterval(timer);\n",
       "      }\n",
       "    }, 10, root)\n",
       "  }\n",
       "})(window);"
      ],
      "application/vnd.bokehjs_exec.v0+json": ""
     },
     "metadata": {
      "application/vnd.bokehjs_exec.v0+json": {
       "id": "b002f396-ffec-4871-bcdf-5c23420595b6"
      }
     },
     "output_type": "display_data"
    },
    {
     "data": {
      "text/markdown": [
       "*FIGURE.* Cooling rates. g=1"
      ],
      "text/plain": [
       "<IPython.core.display.Markdown object>"
      ]
     },
     "metadata": {},
     "output_type": "display_data"
    },
    {
     "data": {
      "text/html": [
       "\n",
       "<div class=\"bk-root\">\n",
       "    <div class=\"bk-plotdiv\" id=\"9e5dbc69-1b50-4a9a-bef0-3b5fffab65a7\"></div>\n",
       "</div>"
      ]
     },
     "metadata": {},
     "output_type": "display_data"
    },
    {
     "data": {
      "application/javascript": [
       "(function(root) {\n",
       "  function embed_document(root) {\n",
       "    \n",
       "  var docs_json = {\"550d7a12-cebf-41e2-9c4c-e61892e6196b\":{\"roots\":{\"references\":[{\"attributes\":{\"items\":[{\"id\":\"71dfb75e-ea08-4db7-a50c-4c6407c2fe46\",\"type\":\"LegendItem\"},{\"id\":\"4395ef4b-0a85-42ba-a853-f8bd1ca9380d\",\"type\":\"LegendItem\"},{\"id\":\"22f01ef9-fb5d-445c-8b76-612a4e39a8f4\",\"type\":\"LegendItem\"}],\"label_text_font_size\":{\"value\":\"8pt\"},\"location\":\"top_center\",\"orientation\":\"horizontal\",\"plot\":{\"id\":\"49d2f5bc-ea95-4933-9061-24a076721fdc\",\"subtype\":\"Figure\",\"type\":\"Plot\"}},\"id\":\"63a83d8c-b2f1-4e3c-857b-601a9ac09d02\",\"type\":\"Legend\"},{\"attributes\":{},\"id\":\"069a8694-6122-47c1-89ba-8cae15044e04\",\"type\":\"SaveTool\"},{\"attributes\":{\"callback\":null,\"end\":0.016958987626,\"start\":-0.008525062226},\"id\":\"907d9f35-3915-413f-a3d6-b4d1df1f343d\",\"type\":\"Range1d\"},{\"attributes\":{\"callback\":null,\"data\":{\"x\":{\"__ndarray__\":\"ub1bcTC8Tb80FaUY075Nv6OJKFdYgk2/kpo4vxwtTb8h+4hsUMJMv8rjJQifZky/tjpmOTIHTL8AlZ+Kh6NLvwLynRL+Oku/f/AjklHNSr8csXk+91lKv6Sdprpd4Em/bBbFG1lfSb+Ebes2hspIv/6/Hgt23Ua/yqMbS8QzQL8nuXAKIvQPv7iADHDM8UQ/ah5Bo9RbXD/5Xn7SSelrP0/VrE8TX3g/4K0NxJv9gz/uYvWi0XiNP/27GKwzHJE/r9nHk295kD+uSwTfceCOP4aOlGKERo0/KE4Z+IT+iz8SkQkUi8GKPxw983xK8Yg/QX2gHNKWhT/nNsdTtI2APwc9TqI0THc/94ULTRaWbz9QVjfXYzRgP15lguFsrvA+4M85zwLzU79l6APCgaJfv9vFG+39bGm/E5H15oRIcr8kWxkxDIhzv0PuhAjIeHC/q4q0Qo0RbL8DT+73g/pov1G+SoVLo2a/v7cUUNuYZL+dMSV5AqZiv1E5zK2OsGC/nLhfOVdYXb+QMG5dCDZZvw/KUqeXKlW/bvb+fB9yUb89GY/hY1JMv5HI1amLaUa/SyjEl8O3QL/ZR+oxG701v6jhSlj5pCK/91s2/aY2ED99O+UvtpIyP0NP6ne9M0E/qjmsZanoST+WffdIs8tRP8YgX+JJO1c/ZEZKQyVfXT8NvBplZCViP1EaJq519mU/fSLOyHnmaT/YlU8FDndtP+ISMl6bF3A/0a7t7rsJcT/gaPOyQNhxPwIZnDLH03I/zAD46Es2dD+86JRQzS92P8QQIuHHDXk/\",\"dtype\":\"float64\",\"shape\":[75]},\"y\":{\"__ndarray__\":\"GhExyth1ND/Sv8nbtpRIP2vylNV0PVE/aTum7souWD/At0SJ8fVgPw3Iuahxymc/MSNhhJWvcD/bTfBN02d3P2zb5nxnaoA/CD5h5MAGhz8NmeH1TyaQP+zrCsc9p5Y/LbKd76fGnz/bLW5ISEmmPww9YvTcQq8/JV2OstnstT8Er5Y7M8G+P0c+r3jqkcU/5h99k6ZBzj88bCIzFzjVP4enV8oyxN0//yH99nXg5D8qOpLLf0jtP5kqGJXUifQ/c9cS8kHP/D+/DpwzojQEQIEmwoanVwxA4lgXt9HgE0BSSZ2AJuIbQAMJih9jjiNA5q4l5INuK0AwTKYKRj0zQNv5fmq8/DpAaCJseHrtQkB/+zpwzoxKQM3MzMzMeFJAZmZmZmZqWEAAAAAAAFxeQM3MzMzMJmJAmpmZmZkfZUBmZmZmZhhoQDMzMzMzEWtAAAAAAAAKbkBmZmZmZoFwQM3MzMzM/XFAMzMzMzN6c0CamZmZmfZ0QAAAAAAAc3ZAZmZmZmbvd0DNzMzMzGt5QDMzMzMz6HpAmpmZmZlkfEAAAAAAAOF9QGZmZmZmXX9AZmZmZuZsgECamZmZGSuBQM3MzMxM6YFAAAAAAICngkAzMzMzs2WDQGZmZmbmI4RAmpmZmRnihEDNzMzMTKCFQAAAAACAXoZAMzMzM7Mch0BmZmZm5tqHQJqZmZkZmYhAzczMzExXiUAAAAAAgBWKQDMzMzOz04pAZmZmZuaRi0CamZmZGVCMQM3MzMxMDo1AAAAAAIDMjUAzMzMzs4qOQGZmZmbmSI9A\",\"dtype\":\"float64\",\"shape\":[75]}},\"selected\":{\"id\":\"d161d515-787b-4dd8-9db4-075121e2965a\",\"type\":\"Selection\"},\"selection_policy\":{\"id\":\"da3954c1-ebef-4482-8009-40965b83d130\",\"type\":\"UnionRenderers\"}},\"id\":\"c01705f0-8b19-4d27-8fb1-0872af38efae\",\"type\":\"ColumnDataSource\"},{\"attributes\":{\"fill_alpha\":{\"value\":0.1},\"fill_color\":{\"value\":\"#1f77b4\"},\"line_alpha\":{\"value\":0.1},\"line_color\":{\"value\":\"#1f77b4\"},\"x\":{\"field\":\"x\"},\"y\":{\"field\":\"y\"}},\"id\":\"a088ea4a-5367-4cdf-b167-5bcd63620e57\",\"type\":\"Circle\"},{\"attributes\":{\"axis_label\":\"cooling rate [K/day]\",\"formatter\":{\"id\":\"2d71f475-9b3b-4759-97c5-84e9958cb655\",\"type\":\"BasicTickFormatter\"},\"plot\":{\"id\":\"49d2f5bc-ea95-4933-9061-24a076721fdc\",\"subtype\":\"Figure\",\"type\":\"Plot\"},\"ticker\":{\"id\":\"cc024e2b-6b40-4800-bfde-f0d8b3afce9d\",\"type\":\"BasicTicker\"}},\"id\":\"85bdd6b6-fa57-49a8-93a1-737604ca169a\",\"type\":\"LinearAxis\"},{\"attributes\":{\"overlay\":{\"id\":\"a3da7809-11e4-461d-8357-5e248af0ce00\",\"type\":\"BoxAnnotation\"}},\"id\":\"03f9f1e4-7207-430b-bff8-e00126350b1e\",\"type\":\"BoxZoomTool\"},{\"attributes\":{},\"id\":\"2e2ffc3f-684f-4417-b36c-c8fe485017fc\",\"type\":\"HelpTool\"},{\"attributes\":{},\"id\":\"c136bb1a-215f-46fd-bebe-24cae6fbd006\",\"type\":\"WheelZoomTool\"},{\"attributes\":{\"bottom_units\":\"screen\",\"fill_alpha\":{\"value\":0.5},\"fill_color\":{\"value\":\"lightgrey\"},\"left_units\":\"screen\",\"level\":\"overlay\",\"line_alpha\":{\"value\":1.0},\"line_color\":{\"value\":\"black\"},\"line_dash\":[4,4],\"line_width\":{\"value\":2},\"plot\":null,\"render_mode\":\"css\",\"right_units\":\"screen\",\"top_units\":\"screen\"},\"id\":\"a3da7809-11e4-461d-8357-5e248af0ce00\",\"type\":\"BoxAnnotation\"},{\"attributes\":{},\"id\":\"37bbd552-2aae-4992-bdbb-eaa534b45b2b\",\"type\":\"PanTool\"},{\"attributes\":{},\"id\":\"193f32ec-6c1e-4484-ab25-3f4d53f347c8\",\"type\":\"ResetTool\"},{\"attributes\":{},\"id\":\"0f9cdfb5-a25d-4134-969f-fa046272e9a2\",\"type\":\"LogScale\"},{\"attributes\":{},\"id\":\"cc024e2b-6b40-4800-bfde-f0d8b3afce9d\",\"type\":\"BasicTicker\"},{\"attributes\":{},\"id\":\"6b3d3510-a164-4cf5-8cae-ae6b19a7629c\",\"type\":\"LinearScale\"},{\"attributes\":{\"fill_alpha\":{\"value\":0.7},\"fill_color\":{\"value\":\"#4daf4a\"},\"line_alpha\":{\"value\":0.7},\"line_color\":{\"value\":\"#4daf4a\"},\"x\":{\"field\":\"x\"},\"y\":{\"field\":\"y\"}},\"id\":\"3f34f878-0613-4afa-92b7-460cb6cf4936\",\"type\":\"Circle\"},{\"attributes\":{\"callback\":null,\"end\":0.01,\"start\":1020},\"id\":\"8ffa96da-105a-4b75-8197-05ee56c74410\",\"type\":\"Range1d\"},{\"attributes\":{\"callback\":null,\"data\":{\"x\":{\"__ndarray__\":\"6s3Th/3osj4a7FG0Mv/UPqnIQDfuL+w+gPjkdx7J9z6qm5F0g+wAP9E1XH+MJgY/GEhTDNyXCz/FvmXczKMQP7NUw839nxM/p3rA0knHFj8MebPyIyMaP4NGafsdwR0/G3SM+QnaID8nJnfbVCkjP+yBUTLV8Ck/8BlBYR6uNz/bor4AkXJGP21d9XYHVVM/Dj9c03N7Xz+Ogc1mQs1oP0+DZvLtH3M/766ez9MLfT/dYjxSloSEP05zbOlDqoc/I1Tyr7oVhz+DWoB0udqFP7QnRGohm4Q/SSEFWZPKgz+8mi3x6EyDPxjdY2h64oI/BmcfDH3ugT+GmD1bj9N/P1HaDpt+iHo/bXSjzxQodD8eGnqpb5BlP1AWhl2XBzC/+/E5pfNJZb9+OpCIOLxxv6fAXi2rM3m/NbHDxuPDf7/4QHByhr2Av+ICwf0vwH6/eapCkoCpe7/XOao8+Ad5v1+/1I1/uHa/EvdTQReddL8PJbmIn6Jyv9sNrZVavXC/1oztrXjObb9DyGccZD5qv0FDY1T322a/vEW0Yt64Y7+iTJ7H7Nlgv3o/HS9eXFy/x8yklj0zV7/n7U8zcgdSvz6UIqRDckm/sRdUHArNPL+I8y6XP3QWv9Mv5xNm0zI/ygvMuGNcRj9BelrjCxFSP6bb5ID1aVk/HhiB7/2fYD+LsLKMhcdkP4M15me+GWk/f6J4baRgbT/c3/iZPJ5wP0Qe6DA9K3I/GSV3thFYcz9nVHMRDFR0P/DlxHLZVXU/ji9UGHiCdj+LkNM6HvF3P4Jg77UQunk/\",\"dtype\":\"float64\",\"shape\":[75]},\"y\":{\"__ndarray__\":\"GhExyth1ND/Sv8nbtpRIP2vylNV0PVE/aTum7souWD/At0SJ8fVgPw3Iuahxymc/MSNhhJWvcD/bTfBN02d3P2zb5nxnaoA/CD5h5MAGhz8NmeH1TyaQP+zrCsc9p5Y/LbKd76fGnz/bLW5ISEmmPww9YvTcQq8/JV2OstnstT8Er5Y7M8G+P0c+r3jqkcU/5h99k6ZBzj88bCIzFzjVP4enV8oyxN0//yH99nXg5D8qOpLLf0jtP5kqGJXUifQ/c9cS8kHP/D+/DpwzojQEQIEmwoanVwxA4lgXt9HgE0BSSZ2AJuIbQAMJih9jjiNA5q4l5INuK0AwTKYKRj0zQNv5fmq8/DpAaCJseHrtQkB/+zpwzoxKQM3MzMzMeFJAZmZmZmZqWEAAAAAAAFxeQM3MzMzMJmJAmpmZmZkfZUBmZmZmZhhoQDMzMzMzEWtAAAAAAAAKbkBmZmZmZoFwQM3MzMzM/XFAMzMzMzN6c0CamZmZmfZ0QAAAAAAAc3ZAZmZmZmbvd0DNzMzMzGt5QDMzMzMz6HpAmpmZmZlkfEAAAAAAAOF9QGZmZmZmXX9AZmZmZuZsgECamZmZGSuBQM3MzMxM6YFAAAAAAICngkAzMzMzs2WDQGZmZmbmI4RAmpmZmRnihEDNzMzMTKCFQAAAAACAXoZAMzMzM7Mch0BmZmZm5tqHQJqZmZkZmYhAzczMzExXiUAAAAAAgBWKQDMzMzOz04pAZmZmZuaRi0CamZmZGVCMQM3MzMxMDo1AAAAAAIDMjUAzMzMzs4qOQGZmZmbmSI9A\",\"dtype\":\"float64\",\"shape\":[75]}},\"selected\":{\"id\":\"6e9f7615-72de-4485-85d4-03ecb8082012\",\"type\":\"Selection\"},\"selection_policy\":{\"id\":\"e1c0a0e6-1f2f-46b7-a85c-76e8f487603f\",\"type\":\"UnionRenderers\"}},\"id\":\"c43210ce-8bf3-4ed9-bb73-22d5d383dd1a\",\"type\":\"ColumnDataSource\"},{\"attributes\":{\"fill_alpha\":{\"value\":0.7},\"fill_color\":{\"value\":\"#4daf4a\"},\"line_alpha\":{\"value\":0.7},\"line_color\":{\"value\":\"#4daf4a\"},\"x\":{\"field\":\"x\"},\"y\":{\"field\":\"y\"}},\"id\":\"431e177b-1192-46d2-98fb-16f8190ae35d\",\"type\":\"Circle\"},{\"attributes\":{},\"id\":\"c4375354-96a6-4947-97f3-61c0401a17d2\",\"type\":\"Selection\"},{\"attributes\":{\"line_alpha\":0.1,\"line_color\":\"#1f77b4\",\"line_width\":3,\"x\":{\"field\":\"x\"},\"y\":{\"field\":\"y\"}},\"id\":\"3e2aa839-8fa3-42af-9c78-c441879be905\",\"type\":\"Line\"},{\"attributes\":{\"line_alpha\":0.6,\"line_color\":\"#984ea3\",\"line_width\":3,\"x\":{\"field\":\"x\"},\"y\":{\"field\":\"y\"}},\"id\":\"9821f3f3-3dd2-4125-b1ef-aa4ad62f858d\",\"type\":\"Line\"},{\"attributes\":{\"data_source\":{\"id\":\"c43210ce-8bf3-4ed9-bb73-22d5d383dd1a\",\"type\":\"ColumnDataSource\"},\"glyph\":{\"id\":\"9821f3f3-3dd2-4125-b1ef-aa4ad62f858d\",\"type\":\"Line\"},\"hover_glyph\":null,\"muted_glyph\":null,\"nonselection_glyph\":{\"id\":\"3e2aa839-8fa3-42af-9c78-c441879be905\",\"type\":\"Line\"},\"selection_glyph\":null,\"view\":{\"id\":\"4641e16b-429a-49b1-af83-12906e149d85\",\"type\":\"CDSView\"}},\"id\":\"bf00f28d-60e5-466e-a921-2a9a03d58be3\",\"type\":\"GlyphRenderer\"},{\"attributes\":{},\"id\":\"97971bbe-f070-4bbb-b799-b1bfbdcdb6f3\",\"type\":\"UnionRenderers\"},{\"attributes\":{\"dimension\":1,\"plot\":{\"id\":\"49d2f5bc-ea95-4933-9061-24a076721fdc\",\"subtype\":\"Figure\",\"type\":\"Plot\"},\"ticker\":{\"id\":\"2ad457a8-f508-4e43-8298-e8ab003e0b88\",\"type\":\"LogTicker\"}},\"id\":\"697071fa-82ed-4d69-b14d-45dc162c90ba\",\"type\":\"Grid\"},{\"attributes\":{\"callback\":null,\"data\":{\"x\":{\"__ndarray__\":\"mBzAWfIl+D65MzuomqX7Pr5wZP6KmwE/moFUilbBBT9BbNxrTRAKP69jSJMsiw4/DFHK8HybET/yyfe2TQ0UP4BU+DfrnxY/29ZyY9FZGT99X3cG90McP+HybBcZax8/37mUBGdwIT/S9mWxWHgjP631kt84UCk/vqeGHefINT+Ggcc3p+NDP/yQ4txZzVA/0aGovDEOWz8Sp4T4KCllP6dud2asPHA/HvOryTSSeD9FOhLgmlGBP0CHznKm94M/6/jNU419gz+wYKgtOHaCP5qNDjpzl4E/r0lEYkUAgT/3q9jNgMKAP9WkZE02q4A/ciePqeYygD8tPkkmldx9PyVhDBnJRno/5k50Cmd4dT/K94eLrptqP51ni+D+1j0/xyMuxE7fYL+RXcnU9Idwv7D/ey4axHi/cZDxIG3Hf7+ztAgKmfKAv2Ww4gtMi3+/9qY8jmyUfL9jr9A3BO95v5CQUt+qkXe/4cr1kNJndb/RW5GXe2Fzv5VGm464c3G/7XUql8gwb7/7rsADB5xrv6/TqgdcOGi/od76WwMVZb8VR25h5zNiv7eKoTvRBV+/wd8Jn6jKWb8dq4C6AoNUv8V5Y4wMGE6/l/iQ6XGcQr+D9CHuDMspv59grnAW8yk/++kcE0tJRD9iWGmGIIRRP7YyVBIIZVk/kiqGeqXkYD9AoHDMa1JlP9/eLJv95Wk/tozPeVFobj8Nwtzu5T5xP2Jx4F+J6nI/Y9onXuY2dD8n35NfK051P2TCqbskYXY/XvOcyGKPdz89M0/Spuh4P4P8ioM0dHo/\",\"dtype\":\"float64\",\"shape\":[75]},\"y\":{\"__ndarray__\":\"GhExyth1ND/Sv8nbtpRIP2vylNV0PVE/aTum7souWD/At0SJ8fVgPw3Iuahxymc/MSNhhJWvcD/bTfBN02d3P2zb5nxnaoA/CD5h5MAGhz8NmeH1TyaQP+zrCsc9p5Y/LbKd76fGnz/bLW5ISEmmPww9YvTcQq8/JV2OstnstT8Er5Y7M8G+P0c+r3jqkcU/5h99k6ZBzj88bCIzFzjVP4enV8oyxN0//yH99nXg5D8qOpLLf0jtP5kqGJXUifQ/c9cS8kHP/D+/DpwzojQEQIEmwoanVwxA4lgXt9HgE0BSSZ2AJuIbQAMJih9jjiNA5q4l5INuK0AwTKYKRj0zQNv5fmq8/DpAaCJseHrtQkB/+zpwzoxKQM3MzMzMeFJAZmZmZmZqWEAAAAAAAFxeQM3MzMzMJmJAmpmZmZkfZUBmZmZmZhhoQDMzMzMzEWtAAAAAAAAKbkBmZmZmZoFwQM3MzMzM/XFAMzMzMzN6c0CamZmZmfZ0QAAAAAAAc3ZAZmZmZmbvd0DNzMzMzGt5QDMzMzMz6HpAmpmZmZlkfEAAAAAAAOF9QGZmZmZmXX9AZmZmZuZsgECamZmZGSuBQM3MzMxM6YFAAAAAAICngkAzMzMzs2WDQGZmZmbmI4RAmpmZmRnihEDNzMzMTKCFQAAAAACAXoZAMzMzM7Mch0BmZmZm5tqHQJqZmZkZmYhAzczMzExXiUAAAAAAgBWKQDMzMzOz04pAZmZmZuaRi0CamZmZGVCMQM3MzMxMDo1AAAAAAIDMjUAzMzMzs4qOQGZmZmbmSI9A\",\"dtype\":\"float64\",\"shape\":[75]}},\"selected\":{\"id\":\"afca4077-2a9b-477c-a0fb-f75bedbaaa95\",\"type\":\"Selection\"},\"selection_policy\":{\"id\":\"376d90a0-1bc6-46fd-aa2b-ce4a46010c19\",\"type\":\"UnionRenderers\"}},\"id\":\"98e9cb71-ec91-4b53-ac96-6fd8fd1946e1\",\"type\":\"ColumnDataSource\"},{\"attributes\":{\"source\":{\"id\":\"b2296d4a-f91b-4427-b5b3-0189319ace1d\",\"type\":\"ColumnDataSource\"}},\"id\":\"126fb456-ce93-4a6a-96c6-d8bbeea0eeaa\",\"type\":\"CDSView\"},{\"attributes\":{\"fill_alpha\":{\"value\":0.1},\"fill_color\":{\"value\":\"#1f77b4\"},\"line_alpha\":{\"value\":0.1},\"line_color\":{\"value\":\"#1f77b4\"},\"x\":{\"field\":\"x\"},\"y\":{\"field\":\"y\"}},\"id\":\"d95ec92b-d44c-4e9d-bc0a-fcedf15f576d\",\"type\":\"Square\"},{\"attributes\":{\"line_alpha\":0.1,\"line_color\":\"#1f77b4\",\"line_width\":1.5,\"x\":{\"field\":\"x\"},\"y\":{\"field\":\"y\"}},\"id\":\"77ec99bf-1330-4367-81cf-43c163de5e79\",\"type\":\"Line\"},{\"attributes\":{},\"id\":\"6e9f7615-72de-4485-85d4-03ecb8082012\",\"type\":\"Selection\"},{\"attributes\":{\"data_source\":{\"id\":\"98e9cb71-ec91-4b53-ac96-6fd8fd1946e1\",\"type\":\"ColumnDataSource\"},\"glyph\":{\"id\":\"e70749e7-0b26-4f16-ac89-10cd9c6ebaa4\",\"type\":\"Triangle\"},\"hover_glyph\":null,\"muted_glyph\":null,\"nonselection_glyph\":{\"id\":\"b3e75985-7de3-4134-88e1-1f2a9cce8348\",\"type\":\"Triangle\"},\"selection_glyph\":null,\"view\":{\"id\":\"c52c7179-dc4b-4df7-a616-af3f8e2fd715\",\"type\":\"CDSView\"}},\"id\":\"cb2cf1c2-4f3a-459b-affb-4137b0223668\",\"type\":\"GlyphRenderer\"},{\"attributes\":{\"callback\":null,\"data\":{\"x\":{\"__ndarray__\":\"6s3Th/3osj4a7FG0Mv/UPqnIQDfuL+w+gPjkdx7J9z6qm5F0g+wAP9E1XH+MJgY/GEhTDNyXCz/FvmXczKMQP7NUw839nxM/p3rA0knHFj8MebPyIyMaP4NGafsdwR0/G3SM+QnaID8nJnfbVCkjP+yBUTLV8Ck/8BlBYR6uNz/bor4AkXJGP21d9XYHVVM/Dj9c03N7Xz+Ogc1mQs1oP0+DZvLtH3M/766ez9MLfT/dYjxSloSEP05zbOlDqoc/I1Tyr7oVhz+DWoB0udqFP7QnRGohm4Q/SSEFWZPKgz+8mi3x6EyDPxjdY2h64oI/BmcfDH3ugT+GmD1bj9N/P1HaDpt+iHo/bXSjzxQodD8eGnqpb5BlP1AWhl2XBzC/+/E5pfNJZb9+OpCIOLxxv6fAXi2rM3m/NbHDxuPDf7/4QHByhr2Av+ICwf0vwH6/eapCkoCpe7/XOao8+Ad5v1+/1I1/uHa/EvdTQReddL8PJbmIn6Jyv9sNrZVavXC/1oztrXjObb9DyGccZD5qv0FDY1T322a/vEW0Yt64Y7+iTJ7H7Nlgv3o/HS9eXFy/x8yklj0zV7/n7U8zcgdSvz6UIqRDckm/sRdUHArNPL+I8y6XP3QWv9Mv5xNm0zI/ygvMuGNcRj9BelrjCxFSP6bb5ID1aVk/HhiB7/2fYD+LsLKMhcdkP4M15me+GWk/f6J4baRgbT/c3/iZPJ5wP0Qe6DA9K3I/GSV3thFYcz9nVHMRDFR0P/DlxHLZVXU/ji9UGHiCdj+LkNM6HvF3P4Jg77UQunk/\",\"dtype\":\"float64\",\"shape\":[75]},\"y\":{\"__ndarray__\":\"GhExyth1ND/Sv8nbtpRIP2vylNV0PVE/aTum7souWD/At0SJ8fVgPw3Iuahxymc/MSNhhJWvcD/bTfBN02d3P2zb5nxnaoA/CD5h5MAGhz8NmeH1TyaQP+zrCsc9p5Y/LbKd76fGnz/bLW5ISEmmPww9YvTcQq8/JV2OstnstT8Er5Y7M8G+P0c+r3jqkcU/5h99k6ZBzj88bCIzFzjVP4enV8oyxN0//yH99nXg5D8qOpLLf0jtP5kqGJXUifQ/c9cS8kHP/D+/DpwzojQEQIEmwoanVwxA4lgXt9HgE0BSSZ2AJuIbQAMJih9jjiNA5q4l5INuK0AwTKYKRj0zQNv5fmq8/DpAaCJseHrtQkB/+zpwzoxKQM3MzMzMeFJAZmZmZmZqWEAAAAAAAFxeQM3MzMzMJmJAmpmZmZkfZUBmZmZmZhhoQDMzMzMzEWtAAAAAAAAKbkBmZmZmZoFwQM3MzMzM/XFAMzMzMzN6c0CamZmZmfZ0QAAAAAAAc3ZAZmZmZmbvd0DNzMzMzGt5QDMzMzMz6HpAmpmZmZlkfEAAAAAAAOF9QGZmZmZmXX9AZmZmZuZsgECamZmZGSuBQM3MzMxM6YFAAAAAAICngkAzMzMzs2WDQGZmZmbmI4RAmpmZmRnihEDNzMzMTKCFQAAAAACAXoZAMzMzM7Mch0BmZmZm5tqHQJqZmZkZmYhAzczMzExXiUAAAAAAgBWKQDMzMzOz04pAZmZmZuaRi0CamZmZGVCMQM3MzMxMDo1AAAAAAIDMjUAzMzMzs4qOQGZmZmbmSI9A\",\"dtype\":\"float64\",\"shape\":[75]}},\"selected\":{\"id\":\"badeb77f-73b7-42b1-8506-2e49f9d4dcbd\",\"type\":\"Selection\"},\"selection_policy\":{\"id\":\"4361a9a8-5414-4cdc-a386-198b053cedc4\",\"type\":\"UnionRenderers\"}},\"id\":\"c66f9ade-a9f1-487f-a972-d8142781d038\",\"type\":\"ColumnDataSource\"},{\"attributes\":{\"fill_alpha\":{\"value\":0.1},\"fill_color\":{\"value\":\"#1f77b4\"},\"line_alpha\":{\"value\":0.1},\"line_color\":{\"value\":\"#1f77b4\"},\"x\":{\"field\":\"x\"},\"y\":{\"field\":\"y\"}},\"id\":\"b3e75985-7de3-4134-88e1-1f2a9cce8348\",\"type\":\"Triangle\"},{\"attributes\":{\"line_color\":\"#4daf4a\",\"line_width\":1.5,\"x\":{\"field\":\"x\"},\"y\":{\"field\":\"y\"}},\"id\":\"1d68096a-d805-4760-8acf-cf7310efc9f4\",\"type\":\"Line\"},{\"attributes\":{\"line_alpha\":0.1,\"line_color\":\"#1f77b4\",\"line_width\":2,\"x\":{\"field\":\"x\"},\"y\":{\"field\":\"y\"}},\"id\":\"b5b1590c-2763-4dc2-b84d-7884cca0901a\",\"type\":\"Line\"},{\"attributes\":{\"source\":{\"id\":\"987debe1-21e8-448f-b12d-de0bf64c41ad\",\"type\":\"ColumnDataSource\"}},\"id\":\"f0f622de-e77c-44e7-81c4-083f2510c0bb\",\"type\":\"CDSView\"},{\"attributes\":{\"data_source\":{\"id\":\"987debe1-21e8-448f-b12d-de0bf64c41ad\",\"type\":\"ColumnDataSource\"},\"glyph\":{\"id\":\"0b178c08-0368-41a6-8649-6abd12d5f014\",\"type\":\"Line\"},\"hover_glyph\":null,\"muted_glyph\":null,\"nonselection_glyph\":{\"id\":\"77ec99bf-1330-4367-81cf-43c163de5e79\",\"type\":\"Line\"},\"selection_glyph\":null,\"view\":{\"id\":\"f0f622de-e77c-44e7-81c4-083f2510c0bb\",\"type\":\"CDSView\"}},\"id\":\"71fe6f64-c659-4cca-b0a6-b40a28b933c1\",\"type\":\"GlyphRenderer\"},{\"attributes\":{\"data_source\":{\"id\":\"b2296d4a-f91b-4427-b5b3-0189319ace1d\",\"type\":\"ColumnDataSource\"},\"glyph\":{\"id\":\"431e177b-1192-46d2-98fb-16f8190ae35d\",\"type\":\"Circle\"},\"hover_glyph\":null,\"muted_glyph\":null,\"nonselection_glyph\":{\"id\":\"78289d19-e87d-4796-b051-a42af3ef2b38\",\"type\":\"Circle\"},\"selection_glyph\":null,\"view\":{\"id\":\"126fb456-ce93-4a6a-96c6-d8bbeea0eeaa\",\"type\":\"CDSView\"}},\"id\":\"1e0a77aa-c095-470e-9128-7fead1699e61\",\"type\":\"GlyphRenderer\"},{\"attributes\":{\"source\":{\"id\":\"98e9cb71-ec91-4b53-ac96-6fd8fd1946e1\",\"type\":\"ColumnDataSource\"}},\"id\":\"c52c7179-dc4b-4df7-a616-af3f8e2fd715\",\"type\":\"CDSView\"},{\"attributes\":{\"line_alpha\":0.1,\"line_color\":\"#1f77b4\",\"line_width\":1.5,\"x\":{\"field\":\"x\"},\"y\":{\"field\":\"y\"}},\"id\":\"5a8d3339-af39-4df0-a970-92623ba62f0f\",\"type\":\"Line\"},{\"attributes\":{\"fill_alpha\":{\"value\":0.7},\"fill_color\":{\"value\":\"#984ea3\"},\"line_alpha\":{\"value\":0.7},\"line_color\":{\"value\":\"#984ea3\"},\"x\":{\"field\":\"x\"},\"y\":{\"field\":\"y\"}},\"id\":\"ae46011a-d0b6-40f5-b666-fb9cb35fa254\",\"type\":\"Square\"},{\"attributes\":{\"source\":{\"id\":\"c43210ce-8bf3-4ed9-bb73-22d5d383dd1a\",\"type\":\"ColumnDataSource\"}},\"id\":\"4641e16b-429a-49b1-af83-12906e149d85\",\"type\":\"CDSView\"},{\"attributes\":{\"callback\":null,\"data\":{\"x\":{\"__ndarray__\":\"ub1bcTC8Tb80FaUY075Nv6OJKFdYgk2/kpo4vxwtTb8h+4hsUMJMv8rjJQifZky/tjpmOTIHTL8AlZ+Kh6NLvwLynRL+Oku/f/AjklHNSr8csXk+91lKv6Sdprpd4Em/bBbFG1lfSb+Ebes2hspIv/6/Hgt23Ua/yqMbS8QzQL8nuXAKIvQPv7iADHDM8UQ/ah5Bo9RbXD/5Xn7SSelrP0/VrE8TX3g/4K0NxJv9gz/uYvWi0XiNP/27GKwzHJE/r9nHk295kD+uSwTfceCOP4aOlGKERo0/KE4Z+IT+iz8SkQkUi8GKPxw983xK8Yg/QX2gHNKWhT/nNsdTtI2APwc9TqI0THc/94ULTRaWbz9QVjfXYzRgP15lguFsrvA+4M85zwLzU79l6APCgaJfv9vFG+39bGm/E5H15oRIcr8kWxkxDIhzv0PuhAjIeHC/q4q0Qo0RbL8DT+73g/pov1G+SoVLo2a/v7cUUNuYZL+dMSV5AqZiv1E5zK2OsGC/nLhfOVdYXb+QMG5dCDZZvw/KUqeXKlW/bvb+fB9yUb89GY/hY1JMv5HI1amLaUa/SyjEl8O3QL/ZR+oxG701v6jhSlj5pCK/91s2/aY2ED99O+UvtpIyP0NP6ne9M0E/qjmsZanoST+WffdIs8tRP8YgX+JJO1c/ZEZKQyVfXT8NvBplZCViP1EaJq519mU/fSLOyHnmaT/YlU8FDndtP+ISMl6bF3A/0a7t7rsJcT/gaPOyQNhxPwIZnDLH03I/zAD46Es2dD+86JRQzS92P8QQIuHHDXk/\",\"dtype\":\"float64\",\"shape\":[75]},\"y\":{\"__ndarray__\":\"GhExyth1ND/Sv8nbtpRIP2vylNV0PVE/aTum7souWD/At0SJ8fVgPw3Iuahxymc/MSNhhJWvcD/bTfBN02d3P2zb5nxnaoA/CD5h5MAGhz8NmeH1TyaQP+zrCsc9p5Y/LbKd76fGnz/bLW5ISEmmPww9YvTcQq8/JV2OstnstT8Er5Y7M8G+P0c+r3jqkcU/5h99k6ZBzj88bCIzFzjVP4enV8oyxN0//yH99nXg5D8qOpLLf0jtP5kqGJXUifQ/c9cS8kHP/D+/DpwzojQEQIEmwoanVwxA4lgXt9HgE0BSSZ2AJuIbQAMJih9jjiNA5q4l5INuK0AwTKYKRj0zQNv5fmq8/DpAaCJseHrtQkB/+zpwzoxKQM3MzMzMeFJAZmZmZmZqWEAAAAAAAFxeQM3MzMzMJmJAmpmZmZkfZUBmZmZmZhhoQDMzMzMzEWtAAAAAAAAKbkBmZmZmZoFwQM3MzMzM/XFAMzMzMzN6c0CamZmZmfZ0QAAAAAAAc3ZAZmZmZmbvd0DNzMzMzGt5QDMzMzMz6HpAmpmZmZlkfEAAAAAAAOF9QGZmZmZmXX9AZmZmZuZsgECamZmZGSuBQM3MzMxM6YFAAAAAAICngkAzMzMzs2WDQGZmZmbmI4RAmpmZmRnihEDNzMzMTKCFQAAAAACAXoZAMzMzM7Mch0BmZmZm5tqHQJqZmZkZmYhAzczMzExXiUAAAAAAgBWKQDMzMzOz04pAZmZmZuaRi0CamZmZGVCMQM3MzMxMDo1AAAAAAIDMjUAzMzMzs4qOQGZmZmbmSI9A\",\"dtype\":\"float64\",\"shape\":[75]}},\"selected\":{\"id\":\"aea1ab5d-82fe-4e02-9d10-e94fcfc7fb40\",\"type\":\"Selection\"},\"selection_policy\":{\"id\":\"2d3f3d54-25de-4726-a7f6-02b69cd8e6cb\",\"type\":\"UnionRenderers\"}},\"id\":\"b2296d4a-f91b-4427-b5b3-0189319ace1d\",\"type\":\"ColumnDataSource\"},{\"attributes\":{\"above\":[{\"id\":\"63a83d8c-b2f1-4e3c-857b-601a9ac09d02\",\"type\":\"Legend\"}],\"below\":[{\"id\":\"85bdd6b6-fa57-49a8-93a1-737604ca169a\",\"type\":\"LinearAxis\"}],\"left\":[{\"id\":\"77947faa-fa2a-4da8-8c4a-c86ac8783d3f\",\"type\":\"LogAxis\"}],\"plot_height\":500,\"plot_width\":400,\"renderers\":[{\"id\":\"85bdd6b6-fa57-49a8-93a1-737604ca169a\",\"type\":\"LinearAxis\"},{\"id\":\"faa61e3d-48f4-4dff-bc08-f53fdfaa71a4\",\"type\":\"Grid\"},{\"id\":\"77947faa-fa2a-4da8-8c4a-c86ac8783d3f\",\"type\":\"LogAxis\"},{\"id\":\"697071fa-82ed-4d69-b14d-45dc162c90ba\",\"type\":\"Grid\"},{\"id\":\"0f6b052c-c53c-425d-baf8-8759432039de\",\"type\":\"BoxAnnotation\"},{\"id\":\"1e0a77aa-c095-470e-9128-7fead1699e61\",\"type\":\"GlyphRenderer\"},{\"id\":\"95da4ac5-e214-4db8-886e-b5e9ad38d1eb\",\"type\":\"GlyphRenderer\"},{\"id\":\"0a551644-262b-4123-ae9e-3dca3105f44c\",\"type\":\"GlyphRenderer\"},{\"id\":\"7767fd7a-5ed7-41c4-917f-2e3b40d3a686\",\"type\":\"GlyphRenderer\"},{\"id\":\"84c56a8b-0a81-451a-8a45-c0dd3ed5bdf7\",\"type\":\"GlyphRenderer\"},{\"id\":\"9884e03f-558d-4737-8791-c561db762b2c\",\"type\":\"GlyphRenderer\"},{\"id\":\"63a83d8c-b2f1-4e3c-857b-601a9ac09d02\",\"type\":\"Legend\"}],\"title\":{\"id\":\"4b3f9bb8-8769-46b1-af74-714070ff19c7\",\"type\":\"Title\"},\"toolbar\":{\"id\":\"944df173-a495-4d59-90bb-d646ad4a3fda\",\"type\":\"Toolbar\"},\"toolbar_location\":null,\"x_range\":{\"id\":\"907d9f35-3915-413f-a3d6-b4d1df1f343d\",\"type\":\"Range1d\"},\"x_scale\":{\"id\":\"6b3d3510-a164-4cf5-8cae-ae6b19a7629c\",\"type\":\"LinearScale\"},\"y_range\":{\"id\":\"ea343cd8-3260-4f0c-8f7b-e983fe5619ac\",\"type\":\"Range1d\"},\"y_scale\":{\"id\":\"0f9cdfb5-a25d-4134-969f-fa046272e9a2\",\"type\":\"LogScale\"}},\"id\":\"49d2f5bc-ea95-4933-9061-24a076721fdc\",\"subtype\":\"Figure\",\"type\":\"Plot\"},{\"attributes\":{\"source\":{\"id\":\"c66f9ade-a9f1-487f-a972-d8142781d038\",\"type\":\"ColumnDataSource\"}},\"id\":\"2bb233a4-e964-433b-9009-905b0f005312\",\"type\":\"CDSView\"},{\"attributes\":{\"data_source\":{\"id\":\"5e137fd6-9707-4a28-a85f-b41c97adaf9a\",\"type\":\"ColumnDataSource\"},\"glyph\":{\"id\":\"ae46011a-d0b6-40f5-b666-fb9cb35fa254\",\"type\":\"Square\"},\"hover_glyph\":null,\"muted_glyph\":null,\"nonselection_glyph\":{\"id\":\"d95ec92b-d44c-4e9d-bc0a-fcedf15f576d\",\"type\":\"Square\"},\"selection_glyph\":null,\"view\":{\"id\":\"8a6413e5-d79c-4077-ad65-0fbbc22c386f\",\"type\":\"CDSView\"}},\"id\":\"5221f035-6d3d-4ed3-8861-4546c1f71cb5\",\"type\":\"GlyphRenderer\"},{\"attributes\":{\"fill_alpha\":{\"value\":0.1},\"fill_color\":{\"value\":\"#1f77b4\"},\"line_alpha\":{\"value\":0.1},\"line_color\":{\"value\":\"#1f77b4\"},\"x\":{\"field\":\"x\"},\"y\":{\"field\":\"y\"}},\"id\":\"eaf8f0a7-fc4c-4fd6-8edb-a61c4609fc28\",\"type\":\"Square\"},{\"attributes\":{\"callback\":null,\"data\":{\"x\":{\"__ndarray__\":\"6s3Th/3osj4a7FG0Mv/UPqnIQDfuL+w+gPjkdx7J9z6qm5F0g+wAP9E1XH+MJgY/GEhTDNyXCz/FvmXczKMQP7NUw839nxM/p3rA0knHFj8MebPyIyMaP4NGafsdwR0/G3SM+QnaID8nJnfbVCkjP+yBUTLV8Ck/8BlBYR6uNz/bor4AkXJGP21d9XYHVVM/Dj9c03N7Xz+Ogc1mQs1oP0+DZvLtH3M/766ez9MLfT/dYjxSloSEP05zbOlDqoc/I1Tyr7oVhz+DWoB0udqFP7QnRGohm4Q/SSEFWZPKgz+8mi3x6EyDPxjdY2h64oI/BmcfDH3ugT+GmD1bj9N/P1HaDpt+iHo/bXSjzxQodD8eGnqpb5BlP1AWhl2XBzC/+/E5pfNJZb9+OpCIOLxxv6fAXi2rM3m/NbHDxuPDf7/4QHByhr2Av+ICwf0vwH6/eapCkoCpe7/XOao8+Ad5v1+/1I1/uHa/EvdTQReddL8PJbmIn6Jyv9sNrZVavXC/1oztrXjObb9DyGccZD5qv0FDY1T322a/vEW0Yt64Y7+iTJ7H7Nlgv3o/HS9eXFy/x8yklj0zV7/n7U8zcgdSvz6UIqRDckm/sRdUHArNPL+I8y6XP3QWv9Mv5xNm0zI/ygvMuGNcRj9BelrjCxFSP6bb5ID1aVk/HhiB7/2fYD+LsLKMhcdkP4M15me+GWk/f6J4baRgbT/c3/iZPJ5wP0Qe6DA9K3I/GSV3thFYcz9nVHMRDFR0P/DlxHLZVXU/ji9UGHiCdj+LkNM6HvF3P4Jg77UQunk/\",\"dtype\":\"float64\",\"shape\":[75]},\"y\":{\"__ndarray__\":\"GhExyth1ND/Sv8nbtpRIP2vylNV0PVE/aTum7souWD/At0SJ8fVgPw3Iuahxymc/MSNhhJWvcD/bTfBN02d3P2zb5nxnaoA/CD5h5MAGhz8NmeH1TyaQP+zrCsc9p5Y/LbKd76fGnz/bLW5ISEmmPww9YvTcQq8/JV2OstnstT8Er5Y7M8G+P0c+r3jqkcU/5h99k6ZBzj88bCIzFzjVP4enV8oyxN0//yH99nXg5D8qOpLLf0jtP5kqGJXUifQ/c9cS8kHP/D+/DpwzojQEQIEmwoanVwxA4lgXt9HgE0BSSZ2AJuIbQAMJih9jjiNA5q4l5INuK0AwTKYKRj0zQNv5fmq8/DpAaCJseHrtQkB/+zpwzoxKQM3MzMzMeFJAZmZmZmZqWEAAAAAAAFxeQM3MzMzMJmJAmpmZmZkfZUBmZmZmZhhoQDMzMzMzEWtAAAAAAAAKbkBmZmZmZoFwQM3MzMzM/XFAMzMzMzN6c0CamZmZmfZ0QAAAAAAAc3ZAZmZmZmbvd0DNzMzMzGt5QDMzMzMz6HpAmpmZmZlkfEAAAAAAAOF9QGZmZmZmXX9AZmZmZuZsgECamZmZGSuBQM3MzMxM6YFAAAAAAICngkAzMzMzs2WDQGZmZmbmI4RAmpmZmRnihEDNzMzMTKCFQAAAAACAXoZAMzMzM7Mch0BmZmZm5tqHQJqZmZkZmYhAzczMzExXiUAAAAAAgBWKQDMzMzOz04pAZmZmZuaRi0CamZmZGVCMQM3MzMxMDo1AAAAAAIDMjUAzMzMzs4qOQGZmZmbmSI9A\",\"dtype\":\"float64\",\"shape\":[75]}},\"selected\":{\"id\":\"c4375354-96a6-4947-97f3-61c0401a17d2\",\"type\":\"Selection\"},\"selection_policy\":{\"id\":\"97971bbe-f070-4bbb-b799-b1bfbdcdb6f3\",\"type\":\"UnionRenderers\"}},\"id\":\"5e137fd6-9707-4a28-a85f-b41c97adaf9a\",\"type\":\"ColumnDataSource\"},{\"attributes\":{\"fill_alpha\":{\"value\":0.1},\"fill_color\":{\"value\":\"#1f77b4\"},\"line_alpha\":{\"value\":0.1},\"line_color\":{\"value\":\"#1f77b4\"},\"x\":{\"field\":\"x\"},\"y\":{\"field\":\"y\"}},\"id\":\"78289d19-e87d-4796-b051-a42af3ef2b38\",\"type\":\"Circle\"},{\"attributes\":{\"line_alpha\":0.3,\"line_color\":\"#377eb8\",\"line_width\":2,\"x\":{\"field\":\"x\"},\"y\":{\"field\":\"y\"}},\"id\":\"cb578a88-ab94-418d-9f2d-4c37bc9ead77\",\"type\":\"Line\"},{\"attributes\":{\"source\":{\"id\":\"93f2988d-c40c-41f0-94e4-05e51d4d7cf4\",\"type\":\"ColumnDataSource\"}},\"id\":\"8c3bbde6-ba17-4338-b6ac-1d9e0d9c9f93\",\"type\":\"CDSView\"},{\"attributes\":{\"line_color\":\"#4daf4a\",\"line_width\":1.5,\"x\":{\"field\":\"x\"},\"y\":{\"field\":\"y\"}},\"id\":\"0b178c08-0368-41a6-8649-6abd12d5f014\",\"type\":\"Line\"},{\"attributes\":{\"callback\":null,\"data\":{\"x\":{\"__ndarray__\":\"mBzAWfIl+D65MzuomqX7Pr5wZP6KmwE/moFUilbBBT9BbNxrTRAKP69jSJMsiw4/DFHK8HybET/yyfe2TQ0UP4BU+DfrnxY/29ZyY9FZGT99X3cG90McP+HybBcZax8/37mUBGdwIT/S9mWxWHgjP631kt84UCk/vqeGHefINT+Ggcc3p+NDP/yQ4txZzVA/0aGovDEOWz8Sp4T4KCllP6dud2asPHA/HvOryTSSeD9FOhLgmlGBP0CHznKm94M/6/jNU419gz+wYKgtOHaCP5qNDjpzl4E/r0lEYkUAgT/3q9jNgMKAP9WkZE02q4A/ciePqeYygD8tPkkmldx9PyVhDBnJRno/5k50Cmd4dT/K94eLrptqP51ni+D+1j0/xyMuxE7fYL+RXcnU9Idwv7D/ey4axHi/cZDxIG3Hf7+ztAgKmfKAv2Ww4gtMi3+/9qY8jmyUfL9jr9A3BO95v5CQUt+qkXe/4cr1kNJndb/RW5GXe2Fzv5VGm464c3G/7XUql8gwb7/7rsADB5xrv6/TqgdcOGi/od76WwMVZb8VR25h5zNiv7eKoTvRBV+/wd8Jn6jKWb8dq4C6AoNUv8V5Y4wMGE6/l/iQ6XGcQr+D9CHuDMspv59grnAW8yk/++kcE0tJRD9iWGmGIIRRP7YyVBIIZVk/kiqGeqXkYD9AoHDMa1JlP9/eLJv95Wk/tozPeVFobj8Nwtzu5T5xP2Jx4F+J6nI/Y9onXuY2dD8n35NfK051P2TCqbskYXY/XvOcyGKPdz89M0/Spuh4P4P8ioM0dHo/\",\"dtype\":\"float64\",\"shape\":[75]},\"y\":{\"__ndarray__\":\"GhExyth1ND/Sv8nbtpRIP2vylNV0PVE/aTum7souWD/At0SJ8fVgPw3Iuahxymc/MSNhhJWvcD/bTfBN02d3P2zb5nxnaoA/CD5h5MAGhz8NmeH1TyaQP+zrCsc9p5Y/LbKd76fGnz/bLW5ISEmmPww9YvTcQq8/JV2OstnstT8Er5Y7M8G+P0c+r3jqkcU/5h99k6ZBzj88bCIzFzjVP4enV8oyxN0//yH99nXg5D8qOpLLf0jtP5kqGJXUifQ/c9cS8kHP/D+/DpwzojQEQIEmwoanVwxA4lgXt9HgE0BSSZ2AJuIbQAMJih9jjiNA5q4l5INuK0AwTKYKRj0zQNv5fmq8/DpAaCJseHrtQkB/+zpwzoxKQM3MzMzMeFJAZmZmZmZqWEAAAAAAAFxeQM3MzMzMJmJAmpmZmZkfZUBmZmZmZhhoQDMzMzMzEWtAAAAAAAAKbkBmZmZmZoFwQM3MzMzM/XFAMzMzMzN6c0CamZmZmfZ0QAAAAAAAc3ZAZmZmZmbvd0DNzMzMzGt5QDMzMzMz6HpAmpmZmZlkfEAAAAAAAOF9QGZmZmZmXX9AZmZmZuZsgECamZmZGSuBQM3MzMxM6YFAAAAAAICngkAzMzMzs2WDQGZmZmbmI4RAmpmZmRnihEDNzMzMTKCFQAAAAACAXoZAMzMzM7Mch0BmZmZm5tqHQJqZmZkZmYhAzczMzExXiUAAAAAAgBWKQDMzMzOz04pAZmZmZuaRi0CamZmZGVCMQM3MzMxMDo1AAAAAAIDMjUAzMzMzs4qOQGZmZmbmSI9A\",\"dtype\":\"float64\",\"shape\":[75]}},\"selected\":{\"id\":\"cb094f39-8c21-40ac-9bfc-d670a279866c\",\"type\":\"Selection\"},\"selection_policy\":{\"id\":\"1d42992e-b722-48ff-86ca-65c9afec3ce1\",\"type\":\"UnionRenderers\"}},\"id\":\"93f2988d-c40c-41f0-94e4-05e51d4d7cf4\",\"type\":\"ColumnDataSource\"},{\"attributes\":{},\"id\":\"c9feb8b4-a4ec-4675-aeb3-32b77c4d56e8\",\"type\":\"UnionRenderers\"},{\"attributes\":{\"fill_alpha\":{\"value\":0.7},\"fill_color\":{\"value\":\"#377eb8\"},\"line_alpha\":{\"value\":0.7},\"line_color\":{\"value\":\"#377eb8\"},\"x\":{\"field\":\"x\"},\"y\":{\"field\":\"y\"}},\"id\":\"e70749e7-0b26-4f16-ac89-10cd9c6ebaa4\",\"type\":\"Triangle\"},{\"attributes\":{\"data_source\":{\"id\":\"c66f9ade-a9f1-487f-a972-d8142781d038\",\"type\":\"ColumnDataSource\"},\"glyph\":{\"id\":\"954d38fb-6129-4f7c-926e-31be09d4ad3f\",\"type\":\"Square\"},\"hover_glyph\":null,\"muted_glyph\":null,\"nonselection_glyph\":{\"id\":\"eaf8f0a7-fc4c-4fd6-8edb-a61c4609fc28\",\"type\":\"Square\"},\"selection_glyph\":null,\"view\":{\"id\":\"2bb233a4-e964-433b-9009-905b0f005312\",\"type\":\"CDSView\"}},\"id\":\"0a551644-262b-4123-ae9e-3dca3105f44c\",\"type\":\"GlyphRenderer\"},{\"attributes\":{\"source\":{\"id\":\"5e137fd6-9707-4a28-a85f-b41c97adaf9a\",\"type\":\"ColumnDataSource\"}},\"id\":\"8a6413e5-d79c-4077-ad65-0fbbc22c386f\",\"type\":\"CDSView\"},{\"attributes\":{\"data_source\":{\"id\":\"93f2988d-c40c-41f0-94e4-05e51d4d7cf4\",\"type\":\"ColumnDataSource\"},\"glyph\":{\"id\":\"cb578a88-ab94-418d-9f2d-4c37bc9ead77\",\"type\":\"Line\"},\"hover_glyph\":null,\"muted_glyph\":null,\"nonselection_glyph\":{\"id\":\"b5b1590c-2763-4dc2-b84d-7884cca0901a\",\"type\":\"Line\"},\"selection_glyph\":null,\"view\":{\"id\":\"8c3bbde6-ba17-4338-b6ac-1d9e0d9c9f93\",\"type\":\"CDSView\"}},\"id\":\"43707fce-cdf2-4809-9127-af5e9c406452\",\"type\":\"GlyphRenderer\"},{\"attributes\":{\"active_drag\":\"auto\",\"active_inspect\":\"auto\",\"active_scroll\":\"auto\",\"active_tap\":\"auto\",\"tools\":[{\"id\":\"bcd1605f-8eef-465b-9180-a34aa165495c\",\"type\":\"PanTool\"},{\"id\":\"8367ed65-d7cd-42ba-b2c5-cf79ccb66ebf\",\"type\":\"WheelZoomTool\"},{\"id\":\"3a46ba38-a91b-4b10-a382-0b81d2c74aea\",\"type\":\"BoxZoomTool\"},{\"id\":\"14a38ba6-b5a9-4a14-82b4-3f27cd438cca\",\"type\":\"SaveTool\"},{\"id\":\"f9f41d4f-1535-48b1-82e1-f90903f5032d\",\"type\":\"ResetTool\"},{\"id\":\"42081c10-2dc0-4d0b-a5c4-647afe7b1cad\",\"type\":\"HelpTool\"}]},\"id\":\"944df173-a495-4d59-90bb-d646ad4a3fda\",\"type\":\"Toolbar\"},{\"attributes\":{\"label\":{\"value\":\"CRD\"},\"renderers\":[{\"id\":\"88b8bce0-1ac7-4931-b227-9ef28219bb20\",\"type\":\"GlyphRenderer\"},{\"id\":\"71fe6f64-c659-4cca-b0a6-b40a28b933c1\",\"type\":\"GlyphRenderer\"}]},\"id\":\"88d5beee-c4d3-44f4-89df-900d33ff9b46\",\"type\":\"LegendItem\"},{\"attributes\":{\"label\":{\"value\":\"WGT igg=1\"},\"renderers\":[{\"id\":\"5221f035-6d3d-4ed3-8861-4546c1f71cb5\",\"type\":\"GlyphRenderer\"},{\"id\":\"bf00f28d-60e5-466e-a921-2a9a03d58be3\",\"type\":\"GlyphRenderer\"}]},\"id\":\"51d13f23-0422-455b-a11d-b93ac53938d7\",\"type\":\"LegendItem\"},{\"attributes\":{\"callback\":null,\"data\":{\"x\":{\"__ndarray__\":\"6s3Th/3osj4a7FG0Mv/UPqnIQDfuL+w+gPjkdx7J9z6qm5F0g+wAP9E1XH+MJgY/GEhTDNyXCz/FvmXczKMQP7NUw839nxM/p3rA0knHFj8MebPyIyMaP4NGafsdwR0/G3SM+QnaID8nJnfbVCkjP+yBUTLV8Ck/8BlBYR6uNz/bor4AkXJGP21d9XYHVVM/Dj9c03N7Xz+Ogc1mQs1oP0+DZvLtH3M/766ez9MLfT/dYjxSloSEP05zbOlDqoc/I1Tyr7oVhz+DWoB0udqFP7QnRGohm4Q/SSEFWZPKgz+8mi3x6EyDPxjdY2h64oI/BmcfDH3ugT+GmD1bj9N/P1HaDpt+iHo/bXSjzxQodD8eGnqpb5BlP1AWhl2XBzC/+/E5pfNJZb9+OpCIOLxxv6fAXi2rM3m/NbHDxuPDf7/4QHByhr2Av+ICwf0vwH6/eapCkoCpe7/XOao8+Ad5v1+/1I1/uHa/EvdTQReddL8PJbmIn6Jyv9sNrZVavXC/1oztrXjObb9DyGccZD5qv0FDY1T322a/vEW0Yt64Y7+iTJ7H7Nlgv3o/HS9eXFy/x8yklj0zV7/n7U8zcgdSvz6UIqRDckm/sRdUHArNPL+I8y6XP3QWv9Mv5xNm0zI/ygvMuGNcRj9BelrjCxFSP6bb5ID1aVk/HhiB7/2fYD+LsLKMhcdkP4M15me+GWk/f6J4baRgbT/c3/iZPJ5wP0Qe6DA9K3I/GSV3thFYcz9nVHMRDFR0P/DlxHLZVXU/ji9UGHiCdj+LkNM6HvF3P4Jg77UQunk/\",\"dtype\":\"float64\",\"shape\":[75]},\"y\":{\"__ndarray__\":\"GhExyth1ND/Sv8nbtpRIP2vylNV0PVE/aTum7souWD/At0SJ8fVgPw3Iuahxymc/MSNhhJWvcD/bTfBN02d3P2zb5nxnaoA/CD5h5MAGhz8NmeH1TyaQP+zrCsc9p5Y/LbKd76fGnz/bLW5ISEmmPww9YvTcQq8/JV2OstnstT8Er5Y7M8G+P0c+r3jqkcU/5h99k6ZBzj88bCIzFzjVP4enV8oyxN0//yH99nXg5D8qOpLLf0jtP5kqGJXUifQ/c9cS8kHP/D+/DpwzojQEQIEmwoanVwxA4lgXt9HgE0BSSZ2AJuIbQAMJih9jjiNA5q4l5INuK0AwTKYKRj0zQNv5fmq8/DpAaCJseHrtQkB/+zpwzoxKQM3MzMzMeFJAZmZmZmZqWEAAAAAAAFxeQM3MzMzMJmJAmpmZmZkfZUBmZmZmZhhoQDMzMzMzEWtAAAAAAAAKbkBmZmZmZoFwQM3MzMzM/XFAMzMzMzN6c0CamZmZmfZ0QAAAAAAAc3ZAZmZmZmbvd0DNzMzMzGt5QDMzMzMz6HpAmpmZmZlkfEAAAAAAAOF9QGZmZmZmXX9AZmZmZuZsgECamZmZGSuBQM3MzMxM6YFAAAAAAICngkAzMzMzs2WDQGZmZmbmI4RAmpmZmRnihEDNzMzMTKCFQAAAAACAXoZAMzMzM7Mch0BmZmZm5tqHQJqZmZkZmYhAzczMzExXiUAAAAAAgBWKQDMzMzOz04pAZmZmZuaRi0CamZmZGVCMQM3MzMxMDo1AAAAAAIDMjUAzMzMzs4qOQGZmZmbmSI9A\",\"dtype\":\"float64\",\"shape\":[75]}},\"selected\":{\"id\":\"9c89cabd-2e6a-4f2f-b798-45fc550ef1f0\",\"type\":\"Selection\"},\"selection_policy\":{\"id\":\"cf904623-e9a3-44b3-ad3b-9f8b67b7725c\",\"type\":\"UnionRenderers\"}},\"id\":\"e86488c2-bbc5-46cf-9d1b-3b7818db2e1d\",\"type\":\"ColumnDataSource\"},{\"attributes\":{\"callback\":null,\"end\":0.01,\"start\":1020},\"id\":\"ea343cd8-3260-4f0c-8f7b-e983fe5619ac\",\"type\":\"Range1d\"},{\"attributes\":{\"data_source\":{\"id\":\"e86488c2-bbc5-46cf-9d1b-3b7818db2e1d\",\"type\":\"ColumnDataSource\"},\"glyph\":{\"id\":\"a09970d7-0afa-40ff-8c79-6e49a72e0a5a\",\"type\":\"Line\"},\"hover_glyph\":null,\"muted_glyph\":null,\"nonselection_glyph\":{\"id\":\"0b567259-8969-4f39-8dc4-96ee2042b62a\",\"type\":\"Line\"},\"selection_glyph\":null,\"view\":{\"id\":\"f57002a7-3e0d-498a-8af0-c2eed5c7b552\",\"type\":\"CDSView\"}},\"id\":\"7767fd7a-5ed7-41c4-917f-2e3b40d3a686\",\"type\":\"GlyphRenderer\"},{\"attributes\":{\"label\":{\"value\":\"WGT igg=10\"},\"renderers\":[{\"id\":\"cb2cf1c2-4f3a-459b-affb-4137b0223668\",\"type\":\"GlyphRenderer\"},{\"id\":\"43707fce-cdf2-4809-9127-af5e9c406452\",\"type\":\"GlyphRenderer\"}]},\"id\":\"f31c47c6-0f72-49da-8a8b-a504bf09aa47\",\"type\":\"LegendItem\"},{\"attributes\":{},\"id\":\"bcd1605f-8eef-465b-9180-a34aa165495c\",\"type\":\"PanTool\"},{\"attributes\":{\"line_alpha\":0.6,\"line_color\":\"#984ea3\",\"line_width\":3,\"x\":{\"field\":\"x\"},\"y\":{\"field\":\"y\"}},\"id\":\"a09970d7-0afa-40ff-8c79-6e49a72e0a5a\",\"type\":\"Line\"},{\"attributes\":{\"callback\":null,\"data\":{\"x\":{\"__ndarray__\":\"ub1bcTC8Tb80FaUY075Nv6OJKFdYgk2/kpo4vxwtTb8h+4hsUMJMv8rjJQifZky/tjpmOTIHTL8AlZ+Kh6NLvwLynRL+Oku/f/AjklHNSr8csXk+91lKv6Sdprpd4Em/bBbFG1lfSb+Ebes2hspIv/6/Hgt23Ua/yqMbS8QzQL8nuXAKIvQPv7iADHDM8UQ/ah5Bo9RbXD/5Xn7SSelrP0/VrE8TX3g/4K0NxJv9gz/uYvWi0XiNP/27GKwzHJE/r9nHk295kD+uSwTfceCOP4aOlGKERo0/KE4Z+IT+iz8SkQkUi8GKPxw983xK8Yg/QX2gHNKWhT/nNsdTtI2APwc9TqI0THc/94ULTRaWbz9QVjfXYzRgP15lguFsrvA+4M85zwLzU79l6APCgaJfv9vFG+39bGm/E5H15oRIcr8kWxkxDIhzv0PuhAjIeHC/q4q0Qo0RbL8DT+73g/pov1G+SoVLo2a/v7cUUNuYZL+dMSV5AqZiv1E5zK2OsGC/nLhfOVdYXb+QMG5dCDZZvw/KUqeXKlW/bvb+fB9yUb89GY/hY1JMv5HI1amLaUa/SyjEl8O3QL/ZR+oxG701v6jhSlj5pCK/91s2/aY2ED99O+UvtpIyP0NP6ne9M0E/qjmsZanoST+WffdIs8tRP8YgX+JJO1c/ZEZKQyVfXT8NvBplZCViP1EaJq519mU/fSLOyHnmaT/YlU8FDndtP+ISMl6bF3A/0a7t7rsJcT/gaPOyQNhxPwIZnDLH03I/zAD46Es2dD+86JRQzS92P8QQIuHHDXk/\",\"dtype\":\"float64\",\"shape\":[75]},\"y\":{\"__ndarray__\":\"GhExyth1ND/Sv8nbtpRIP2vylNV0PVE/aTum7souWD/At0SJ8fVgPw3Iuahxymc/MSNhhJWvcD/bTfBN02d3P2zb5nxnaoA/CD5h5MAGhz8NmeH1TyaQP+zrCsc9p5Y/LbKd76fGnz/bLW5ISEmmPww9YvTcQq8/JV2OstnstT8Er5Y7M8G+P0c+r3jqkcU/5h99k6ZBzj88bCIzFzjVP4enV8oyxN0//yH99nXg5D8qOpLLf0jtP5kqGJXUifQ/c9cS8kHP/D+/DpwzojQEQIEmwoanVwxA4lgXt9HgE0BSSZ2AJuIbQAMJih9jjiNA5q4l5INuK0AwTKYKRj0zQNv5fmq8/DpAaCJseHrtQkB/+zpwzoxKQM3MzMzMeFJAZmZmZmZqWEAAAAAAAFxeQM3MzMzMJmJAmpmZmZkfZUBmZmZmZhhoQDMzMzMzEWtAAAAAAAAKbkBmZmZmZoFwQM3MzMzM/XFAMzMzMzN6c0CamZmZmfZ0QAAAAAAAc3ZAZmZmZmbvd0DNzMzMzGt5QDMzMzMz6HpAmpmZmZlkfEAAAAAAAOF9QGZmZmZmXX9AZmZmZuZsgECamZmZGSuBQM3MzMxM6YFAAAAAAICngkAzMzMzs2WDQGZmZmbmI4RAmpmZmRnihEDNzMzMTKCFQAAAAACAXoZAMzMzM7Mch0BmZmZm5tqHQJqZmZkZmYhAzczMzExXiUAAAAAAgBWKQDMzMzOz04pAZmZmZuaRi0CamZmZGVCMQM3MzMxMDo1AAAAAAIDMjUAzMzMzs4qOQGZmZmbmSI9A\",\"dtype\":\"float64\",\"shape\":[75]}},\"selected\":{\"id\":\"fb03ced0-aa70-4aca-b76b-8d1abeacd19b\",\"type\":\"Selection\"},\"selection_policy\":{\"id\":\"d7635d65-b540-4b64-bf6e-0d3f20b619bc\",\"type\":\"UnionRenderers\"}},\"id\":\"dccb085c-c8c2-4cbc-a9ad-a6dc6bb0d734\",\"type\":\"ColumnDataSource\"},{\"attributes\":{\"fill_alpha\":{\"value\":0.7},\"fill_color\":{\"value\":\"#984ea3\"},\"line_alpha\":{\"value\":0.7},\"line_color\":{\"value\":\"#984ea3\"},\"x\":{\"field\":\"x\"},\"y\":{\"field\":\"y\"}},\"id\":\"954d38fb-6129-4f7c-926e-31be09d4ad3f\",\"type\":\"Square\"},{\"attributes\":{},\"id\":\"e1c0a0e6-1f2f-46b7-a85c-76e8f487603f\",\"type\":\"UnionRenderers\"},{\"attributes\":{\"bottom_units\":\"screen\",\"fill_alpha\":{\"value\":0.5},\"fill_color\":{\"value\":\"lightgrey\"},\"left_units\":\"screen\",\"level\":\"overlay\",\"line_alpha\":{\"value\":1.0},\"line_color\":{\"value\":\"black\"},\"line_dash\":[4,4],\"line_width\":{\"value\":2},\"plot\":null,\"render_mode\":\"css\",\"right_units\":\"screen\",\"top_units\":\"screen\"},\"id\":\"0f6b052c-c53c-425d-baf8-8759432039de\",\"type\":\"BoxAnnotation\"},{\"attributes\":{\"data_source\":{\"id\":\"dccb085c-c8c2-4cbc-a9ad-a6dc6bb0d734\",\"type\":\"ColumnDataSource\"},\"glyph\":{\"id\":\"1d68096a-d805-4760-8acf-cf7310efc9f4\",\"type\":\"Line\"},\"hover_glyph\":null,\"muted_glyph\":null,\"nonselection_glyph\":{\"id\":\"5a8d3339-af39-4df0-a970-92623ba62f0f\",\"type\":\"Line\"},\"selection_glyph\":null,\"view\":{\"id\":\"fa2e7a31-c8c6-4fe7-a132-6b61b305b5e7\",\"type\":\"CDSView\"}},\"id\":\"95da4ac5-e214-4db8-886e-b5e9ad38d1eb\",\"type\":\"GlyphRenderer\"},{\"attributes\":{\"source\":{\"id\":\"dccb085c-c8c2-4cbc-a9ad-a6dc6bb0d734\",\"type\":\"ColumnDataSource\"}},\"id\":\"fa2e7a31-c8c6-4fe7-a132-6b61b305b5e7\",\"type\":\"CDSView\"},{\"attributes\":{},\"id\":\"8367ed65-d7cd-42ba-b2c5-cf79ccb66ebf\",\"type\":\"WheelZoomTool\"},{\"attributes\":{\"overlay\":{\"id\":\"0f6b052c-c53c-425d-baf8-8759432039de\",\"type\":\"BoxAnnotation\"}},\"id\":\"3a46ba38-a91b-4b10-a382-0b81d2c74aea\",\"type\":\"BoxZoomTool\"},{\"attributes\":{},\"id\":\"14a38ba6-b5a9-4a14-82b4-3f27cd438cca\",\"type\":\"SaveTool\"},{\"attributes\":{},\"id\":\"f9f41d4f-1535-48b1-82e1-f90903f5032d\",\"type\":\"ResetTool\"},{\"attributes\":{\"source\":{\"id\":\"e86488c2-bbc5-46cf-9d1b-3b7818db2e1d\",\"type\":\"ColumnDataSource\"}},\"id\":\"f57002a7-3e0d-498a-8af0-c2eed5c7b552\",\"type\":\"CDSView\"},{\"attributes\":{},\"id\":\"42081c10-2dc0-4d0b-a5c4-647afe7b1cad\",\"type\":\"HelpTool\"},{\"attributes\":{},\"id\":\"afca4077-2a9b-477c-a0fb-f75bedbaaa95\",\"type\":\"Selection\"},{\"attributes\":{\"line_alpha\":0.1,\"line_color\":\"#1f77b4\",\"line_width\":3,\"x\":{\"field\":\"x\"},\"y\":{\"field\":\"y\"}},\"id\":\"0b567259-8969-4f39-8dc4-96ee2042b62a\",\"type\":\"Line\"},{\"attributes\":{\"above\":[{\"id\":\"927629ed-b9e2-4a12-b626-c7d0c9f22860\",\"type\":\"Legend\"}],\"below\":[{\"id\":\"f1666dab-3507-4352-aec8-3bc57063bdf8\",\"type\":\"LinearAxis\"}],\"left\":[{\"id\":\"04eb5d8d-0e6c-4b22-8619-f288712f8ff5\",\"type\":\"LinearAxis\"}],\"plot_height\":500,\"plot_width\":400,\"renderers\":[{\"id\":\"f1666dab-3507-4352-aec8-3bc57063bdf8\",\"type\":\"LinearAxis\"},{\"id\":\"d9f0db6a-839a-45db-84d6-2541af403e30\",\"type\":\"Grid\"},{\"id\":\"04eb5d8d-0e6c-4b22-8619-f288712f8ff5\",\"type\":\"LinearAxis\"},{\"id\":\"1ee1ffbb-2b77-4ac8-8520-60135d053266\",\"type\":\"Grid\"},{\"id\":\"a3da7809-11e4-461d-8357-5e248af0ce00\",\"type\":\"BoxAnnotation\"},{\"id\":\"88b8bce0-1ac7-4931-b227-9ef28219bb20\",\"type\":\"GlyphRenderer\"},{\"id\":\"71fe6f64-c659-4cca-b0a6-b40a28b933c1\",\"type\":\"GlyphRenderer\"},{\"id\":\"5221f035-6d3d-4ed3-8861-4546c1f71cb5\",\"type\":\"GlyphRenderer\"},{\"id\":\"bf00f28d-60e5-466e-a921-2a9a03d58be3\",\"type\":\"GlyphRenderer\"},{\"id\":\"cb2cf1c2-4f3a-459b-affb-4137b0223668\",\"type\":\"GlyphRenderer\"},{\"id\":\"43707fce-cdf2-4809-9127-af5e9c406452\",\"type\":\"GlyphRenderer\"},{\"id\":\"927629ed-b9e2-4a12-b626-c7d0c9f22860\",\"type\":\"Legend\"}],\"title\":{\"id\":\"422c0b72-ab84-40d1-af7b-f6108181f351\",\"type\":\"Title\"},\"toolbar\":{\"id\":\"b5914198-6601-4b84-ba2a-c8ae82b7c7ce\",\"type\":\"Toolbar\"},\"toolbar_location\":null,\"x_range\":{\"id\":\"8baad89b-7925-4f8d-9829-56aa6743e45a\",\"type\":\"Range1d\"},\"x_scale\":{\"id\":\"5bc5005a-8368-4b5a-8054-0885b7ece6ad\",\"type\":\"LinearScale\"},\"y_range\":{\"id\":\"8ffa96da-105a-4b75-8197-05ee56c74410\",\"type\":\"Range1d\"},\"y_scale\":{\"id\":\"1a28b61c-ec12-444a-9841-f2495e2b54d0\",\"type\":\"LinearScale\"}},\"id\":\"c24db2ca-357a-43db-83fb-63a562b1ad1b\",\"subtype\":\"Figure\",\"type\":\"Plot\"},{\"attributes\":{\"items\":[{\"id\":\"88d5beee-c4d3-44f4-89df-900d33ff9b46\",\"type\":\"LegendItem\"},{\"id\":\"51d13f23-0422-455b-a11d-b93ac53938d7\",\"type\":\"LegendItem\"},{\"id\":\"f31c47c6-0f72-49da-8a8b-a504bf09aa47\",\"type\":\"LegendItem\"}],\"label_text_font_size\":{\"value\":\"8pt\"},\"location\":\"top_center\",\"orientation\":\"horizontal\",\"plot\":{\"id\":\"c24db2ca-357a-43db-83fb-63a562b1ad1b\",\"subtype\":\"Figure\",\"type\":\"Plot\"}},\"id\":\"927629ed-b9e2-4a12-b626-c7d0c9f22860\",\"type\":\"Legend\"},{\"attributes\":{},\"id\":\"1a28b61c-ec12-444a-9841-f2495e2b54d0\",\"type\":\"LinearScale\"},{\"attributes\":{},\"id\":\"5bc5005a-8368-4b5a-8054-0885b7ece6ad\",\"type\":\"LinearScale\"},{\"attributes\":{\"dimension\":1,\"plot\":{\"id\":\"c24db2ca-357a-43db-83fb-63a562b1ad1b\",\"subtype\":\"Figure\",\"type\":\"Plot\"},\"ticker\":{\"id\":\"602833ed-fd95-46ea-b3bd-6d3ad015666a\",\"type\":\"BasicTicker\"}},\"id\":\"1ee1ffbb-2b77-4ac8-8520-60135d053266\",\"type\":\"Grid\"},{\"attributes\":{\"plot\":{\"id\":\"49d2f5bc-ea95-4933-9061-24a076721fdc\",\"subtype\":\"Figure\",\"type\":\"Plot\"},\"ticker\":{\"id\":\"cc024e2b-6b40-4800-bfde-f0d8b3afce9d\",\"type\":\"BasicTicker\"}},\"id\":\"faa61e3d-48f4-4dff-bc08-f53fdfaa71a4\",\"type\":\"Grid\"},{\"attributes\":{\"source\":{\"id\":\"c01705f0-8b19-4d27-8fb1-0872af38efae\",\"type\":\"ColumnDataSource\"}},\"id\":\"e6e2c9b7-e152-4d32-a54c-618dcbbc3e0f\",\"type\":\"CDSView\"},{\"attributes\":{\"callback\":null,\"end\":0.006605815067,\"start\":-0.008422555567},\"id\":\"8baad89b-7925-4f8d-9829-56aa6743e45a\",\"type\":\"Range1d\"},{\"attributes\":{\"axis_label\":\"pressure [mb]\",\"formatter\":{\"id\":\"4514bdb3-61e9-48e1-8ad2-0482abe425b3\",\"type\":\"BasicTickFormatter\"},\"plot\":{\"id\":\"c24db2ca-357a-43db-83fb-63a562b1ad1b\",\"subtype\":\"Figure\",\"type\":\"Plot\"},\"ticker\":{\"id\":\"602833ed-fd95-46ea-b3bd-6d3ad015666a\",\"type\":\"BasicTicker\"}},\"id\":\"04eb5d8d-0e6c-4b22-8619-f288712f8ff5\",\"type\":\"LinearAxis\"},{\"attributes\":{\"active_drag\":\"auto\",\"active_inspect\":\"auto\",\"active_scroll\":\"auto\",\"active_tap\":\"auto\",\"tools\":[{\"id\":\"37bbd552-2aae-4992-bdbb-eaa534b45b2b\",\"type\":\"PanTool\"},{\"id\":\"c136bb1a-215f-46fd-bebe-24cae6fbd006\",\"type\":\"WheelZoomTool\"},{\"id\":\"03f9f1e4-7207-430b-bff8-e00126350b1e\",\"type\":\"BoxZoomTool\"},{\"id\":\"069a8694-6122-47c1-89ba-8cae15044e04\",\"type\":\"SaveTool\"},{\"id\":\"193f32ec-6c1e-4484-ab25-3f4d53f347c8\",\"type\":\"ResetTool\"},{\"id\":\"2e2ffc3f-684f-4417-b36c-c8fe485017fc\",\"type\":\"HelpTool\"}]},\"id\":\"b5914198-6601-4b84-ba2a-c8ae82b7c7ce\",\"type\":\"Toolbar\"},{\"attributes\":{\"axis_label\":\"pressure [mb]\",\"formatter\":{\"id\":\"e34e9d61-c445-4b53-a371-f5425d9af184\",\"type\":\"LogTickFormatter\"},\"plot\":{\"id\":\"49d2f5bc-ea95-4933-9061-24a076721fdc\",\"subtype\":\"Figure\",\"type\":\"Plot\"},\"ticker\":{\"id\":\"2ad457a8-f508-4e43-8298-e8ab003e0b88\",\"type\":\"LogTicker\"}},\"id\":\"77947faa-fa2a-4da8-8c4a-c86ac8783d3f\",\"type\":\"LogAxis\"},{\"attributes\":{},\"id\":\"fb9b9aa6-e761-4a57-98e3-1f5d41672c2c\",\"type\":\"BasicTicker\"},{\"attributes\":{\"plot\":{\"id\":\"c24db2ca-357a-43db-83fb-63a562b1ad1b\",\"subtype\":\"Figure\",\"type\":\"Plot\"},\"ticker\":{\"id\":\"fb9b9aa6-e761-4a57-98e3-1f5d41672c2c\",\"type\":\"BasicTicker\"}},\"id\":\"d9f0db6a-839a-45db-84d6-2541af403e30\",\"type\":\"Grid\"},{\"attributes\":{\"num_minor_ticks\":10},\"id\":\"2ad457a8-f508-4e43-8298-e8ab003e0b88\",\"type\":\"LogTicker\"},{\"attributes\":{\"data_source\":{\"id\":\"c01705f0-8b19-4d27-8fb1-0872af38efae\",\"type\":\"ColumnDataSource\"},\"glyph\":{\"id\":\"3f34f878-0613-4afa-92b7-460cb6cf4936\",\"type\":\"Circle\"},\"hover_glyph\":null,\"muted_glyph\":null,\"nonselection_glyph\":{\"id\":\"a088ea4a-5367-4cdf-b167-5bcd63620e57\",\"type\":\"Circle\"},\"selection_glyph\":null,\"view\":{\"id\":\"e6e2c9b7-e152-4d32-a54c-618dcbbc3e0f\",\"type\":\"CDSView\"}},\"id\":\"88b8bce0-1ac7-4931-b227-9ef28219bb20\",\"type\":\"GlyphRenderer\"},{\"attributes\":{},\"id\":\"602833ed-fd95-46ea-b3bd-6d3ad015666a\",\"type\":\"BasicTicker\"},{\"attributes\":{\"axis_label\":\"cooling rate [K/day]\",\"formatter\":{\"id\":\"9c0f1c98-5612-4456-8866-a8909b5d1243\",\"type\":\"BasicTickFormatter\"},\"plot\":{\"id\":\"c24db2ca-357a-43db-83fb-63a562b1ad1b\",\"subtype\":\"Figure\",\"type\":\"Plot\"},\"ticker\":{\"id\":\"fb9b9aa6-e761-4a57-98e3-1f5d41672c2c\",\"type\":\"BasicTicker\"}},\"id\":\"f1666dab-3507-4352-aec8-3bc57063bdf8\",\"type\":\"LinearAxis\"},{\"attributes\":{\"callback\":null,\"data\":{\"x\":{\"__ndarray__\":\"ub1bcTC8Tb80FaUY075Nv6OJKFdYgk2/kpo4vxwtTb8h+4hsUMJMv8rjJQifZky/tjpmOTIHTL8AlZ+Kh6NLvwLynRL+Oku/f/AjklHNSr8csXk+91lKv6Sdprpd4Em/bBbFG1lfSb+Ebes2hspIv/6/Hgt23Ua/yqMbS8QzQL8nuXAKIvQPv7iADHDM8UQ/ah5Bo9RbXD/5Xn7SSelrP0/VrE8TX3g/4K0NxJv9gz/uYvWi0XiNP/27GKwzHJE/r9nHk295kD+uSwTfceCOP4aOlGKERo0/KE4Z+IT+iz8SkQkUi8GKPxw983xK8Yg/QX2gHNKWhT/nNsdTtI2APwc9TqI0THc/94ULTRaWbz9QVjfXYzRgP15lguFsrvA+4M85zwLzU79l6APCgaJfv9vFG+39bGm/E5H15oRIcr8kWxkxDIhzv0PuhAjIeHC/q4q0Qo0RbL8DT+73g/pov1G+SoVLo2a/v7cUUNuYZL+dMSV5AqZiv1E5zK2OsGC/nLhfOVdYXb+QMG5dCDZZvw/KUqeXKlW/bvb+fB9yUb89GY/hY1JMv5HI1amLaUa/SyjEl8O3QL/ZR+oxG701v6jhSlj5pCK/91s2/aY2ED99O+UvtpIyP0NP6ne9M0E/qjmsZanoST+WffdIs8tRP8YgX+JJO1c/ZEZKQyVfXT8NvBplZCViP1EaJq519mU/fSLOyHnmaT/YlU8FDndtP+ISMl6bF3A/0a7t7rsJcT/gaPOyQNhxPwIZnDLH03I/zAD46Es2dD+86JRQzS92P8QQIuHHDXk/\",\"dtype\":\"float64\",\"shape\":[75]},\"y\":{\"__ndarray__\":\"GhExyth1ND/Sv8nbtpRIP2vylNV0PVE/aTum7souWD/At0SJ8fVgPw3Iuahxymc/MSNhhJWvcD/bTfBN02d3P2zb5nxnaoA/CD5h5MAGhz8NmeH1TyaQP+zrCsc9p5Y/LbKd76fGnz/bLW5ISEmmPww9YvTcQq8/JV2OstnstT8Er5Y7M8G+P0c+r3jqkcU/5h99k6ZBzj88bCIzFzjVP4enV8oyxN0//yH99nXg5D8qOpLLf0jtP5kqGJXUifQ/c9cS8kHP/D+/DpwzojQEQIEmwoanVwxA4lgXt9HgE0BSSZ2AJuIbQAMJih9jjiNA5q4l5INuK0AwTKYKRj0zQNv5fmq8/DpAaCJseHrtQkB/+zpwzoxKQM3MzMzMeFJAZmZmZmZqWEAAAAAAAFxeQM3MzMzMJmJAmpmZmZkfZUBmZmZmZhhoQDMzMzMzEWtAAAAAAAAKbkBmZmZmZoFwQM3MzMzM/XFAMzMzMzN6c0CamZmZmfZ0QAAAAAAAc3ZAZmZmZmbvd0DNzMzMzGt5QDMzMzMz6HpAmpmZmZlkfEAAAAAAAOF9QGZmZmZmXX9AZmZmZuZsgECamZmZGSuBQM3MzMxM6YFAAAAAAICngkAzMzMzs2WDQGZmZmbmI4RAmpmZmRnihEDNzMzMTKCFQAAAAACAXoZAMzMzM7Mch0BmZmZm5tqHQJqZmZkZmYhAzczMzExXiUAAAAAAgBWKQDMzMzOz04pAZmZmZuaRi0CamZmZGVCMQM3MzMxMDo1AAAAAAIDMjUAzMzMzs4qOQGZmZmbmSI9A\",\"dtype\":\"float64\",\"shape\":[75]}},\"selected\":{\"id\":\"e7d41cc5-a288-4e6e-b3ba-9cf703078f25\",\"type\":\"Selection\"},\"selection_policy\":{\"id\":\"c9feb8b4-a4ec-4675-aeb3-32b77c4d56e8\",\"type\":\"UnionRenderers\"}},\"id\":\"987debe1-21e8-448f-b12d-de0bf64c41ad\",\"type\":\"ColumnDataSource\"},{\"attributes\":{\"callback\":null,\"data\":{\"x\":{\"__ndarray__\":\"mBzAWfIl+D65MzuomqX7Pr5wZP6KmwE/moFUilbBBT9BbNxrTRAKP69jSJMsiw4/DFHK8HybET/yyfe2TQ0UP4BU+DfrnxY/29ZyY9FZGT99X3cG90McP+HybBcZax8/37mUBGdwIT/S9mWxWHgjP631kt84UCk/vqeGHefINT+Ggcc3p+NDP/yQ4txZzVA/0aGovDEOWz8Sp4T4KCllP6dud2asPHA/HvOryTSSeD9FOhLgmlGBP0CHznKm94M/6/jNU419gz+wYKgtOHaCP5qNDjpzl4E/r0lEYkUAgT/3q9jNgMKAP9WkZE02q4A/ciePqeYygD8tPkkmldx9PyVhDBnJRno/5k50Cmd4dT/K94eLrptqP51ni+D+1j0/xyMuxE7fYL+RXcnU9Idwv7D/ey4axHi/cZDxIG3Hf7+ztAgKmfKAv2Ww4gtMi3+/9qY8jmyUfL9jr9A3BO95v5CQUt+qkXe/4cr1kNJndb/RW5GXe2Fzv5VGm464c3G/7XUql8gwb7/7rsADB5xrv6/TqgdcOGi/od76WwMVZb8VR25h5zNiv7eKoTvRBV+/wd8Jn6jKWb8dq4C6AoNUv8V5Y4wMGE6/l/iQ6XGcQr+D9CHuDMspv59grnAW8yk/++kcE0tJRD9iWGmGIIRRP7YyVBIIZVk/kiqGeqXkYD9AoHDMa1JlP9/eLJv95Wk/tozPeVFobj8Nwtzu5T5xP2Jx4F+J6nI/Y9onXuY2dD8n35NfK051P2TCqbskYXY/XvOcyGKPdz89M0/Spuh4P4P8ioM0dHo/\",\"dtype\":\"float64\",\"shape\":[75]},\"y\":{\"__ndarray__\":\"GhExyth1ND/Sv8nbtpRIP2vylNV0PVE/aTum7souWD/At0SJ8fVgPw3Iuahxymc/MSNhhJWvcD/bTfBN02d3P2zb5nxnaoA/CD5h5MAGhz8NmeH1TyaQP+zrCsc9p5Y/LbKd76fGnz/bLW5ISEmmPww9YvTcQq8/JV2OstnstT8Er5Y7M8G+P0c+r3jqkcU/5h99k6ZBzj88bCIzFzjVP4enV8oyxN0//yH99nXg5D8qOpLLf0jtP5kqGJXUifQ/c9cS8kHP/D+/DpwzojQEQIEmwoanVwxA4lgXt9HgE0BSSZ2AJuIbQAMJih9jjiNA5q4l5INuK0AwTKYKRj0zQNv5fmq8/DpAaCJseHrtQkB/+zpwzoxKQM3MzMzMeFJAZmZmZmZqWEAAAAAAAFxeQM3MzMzMJmJAmpmZmZkfZUBmZmZmZhhoQDMzMzMzEWtAAAAAAAAKbkBmZmZmZoFwQM3MzMzM/XFAMzMzMzN6c0CamZmZmfZ0QAAAAAAAc3ZAZmZmZmbvd0DNzMzMzGt5QDMzMzMz6HpAmpmZmZlkfEAAAAAAAOF9QGZmZmZmXX9AZmZmZuZsgECamZmZGSuBQM3MzMxM6YFAAAAAAICngkAzMzMzs2WDQGZmZmbmI4RAmpmZmRnihEDNzMzMTKCFQAAAAACAXoZAMzMzM7Mch0BmZmZm5tqHQJqZmZkZmYhAzczMzExXiUAAAAAAgBWKQDMzMzOz04pAZmZmZuaRi0CamZmZGVCMQM3MzMxMDo1AAAAAAIDMjUAzMzMzs4qOQGZmZmbmSI9A\",\"dtype\":\"float64\",\"shape\":[75]}},\"selected\":{\"id\":\"d25dbd38-e1cf-4beb-86b3-9bd382d8ded3\",\"type\":\"Selection\"},\"selection_policy\":{\"id\":\"f794ccaf-a12c-4c86-83f3-7c4b0af60c21\",\"type\":\"UnionRenderers\"}},\"id\":\"1d7439bd-0e18-439e-b663-bde1280ecb43\",\"type\":\"ColumnDataSource\"},{\"attributes\":{\"callback\":null,\"data\":{\"x\":{\"__ndarray__\":\"mBzAWfIl+D65MzuomqX7Pr5wZP6KmwE/moFUilbBBT9BbNxrTRAKP69jSJMsiw4/DFHK8HybET/yyfe2TQ0UP4BU+DfrnxY/29ZyY9FZGT99X3cG90McP+HybBcZax8/37mUBGdwIT/S9mWxWHgjP631kt84UCk/vqeGHefINT+Ggcc3p+NDP/yQ4txZzVA/0aGovDEOWz8Sp4T4KCllP6dud2asPHA/HvOryTSSeD9FOhLgmlGBP0CHznKm94M/6/jNU419gz+wYKgtOHaCP5qNDjpzl4E/r0lEYkUAgT/3q9jNgMKAP9WkZE02q4A/ciePqeYygD8tPkkmldx9PyVhDBnJRno/5k50Cmd4dT/K94eLrptqP51ni+D+1j0/xyMuxE7fYL+RXcnU9Idwv7D/ey4axHi/cZDxIG3Hf7+ztAgKmfKAv2Ww4gtMi3+/9qY8jmyUfL9jr9A3BO95v5CQUt+qkXe/4cr1kNJndb/RW5GXe2Fzv5VGm464c3G/7XUql8gwb7/7rsADB5xrv6/TqgdcOGi/od76WwMVZb8VR25h5zNiv7eKoTvRBV+/wd8Jn6jKWb8dq4C6AoNUv8V5Y4wMGE6/l/iQ6XGcQr+D9CHuDMspv59grnAW8yk/++kcE0tJRD9iWGmGIIRRP7YyVBIIZVk/kiqGeqXkYD9AoHDMa1JlP9/eLJv95Wk/tozPeVFobj8Nwtzu5T5xP2Jx4F+J6nI/Y9onXuY2dD8n35NfK051P2TCqbskYXY/XvOcyGKPdz89M0/Spuh4P4P8ioM0dHo/\",\"dtype\":\"float64\",\"shape\":[75]},\"y\":{\"__ndarray__\":\"GhExyth1ND/Sv8nbtpRIP2vylNV0PVE/aTum7souWD/At0SJ8fVgPw3Iuahxymc/MSNhhJWvcD/bTfBN02d3P2zb5nxnaoA/CD5h5MAGhz8NmeH1TyaQP+zrCsc9p5Y/LbKd76fGnz/bLW5ISEmmPww9YvTcQq8/JV2OstnstT8Er5Y7M8G+P0c+r3jqkcU/5h99k6ZBzj88bCIzFzjVP4enV8oyxN0//yH99nXg5D8qOpLLf0jtP5kqGJXUifQ/c9cS8kHP/D+/DpwzojQEQIEmwoanVwxA4lgXt9HgE0BSSZ2AJuIbQAMJih9jjiNA5q4l5INuK0AwTKYKRj0zQNv5fmq8/DpAaCJseHrtQkB/+zpwzoxKQM3MzMzMeFJAZmZmZmZqWEAAAAAAAFxeQM3MzMzMJmJAmpmZmZkfZUBmZmZmZhhoQDMzMzMzEWtAAAAAAAAKbkBmZmZmZoFwQM3MzMzM/XFAMzMzMzN6c0CamZmZmfZ0QAAAAAAAc3ZAZmZmZmbvd0DNzMzMzGt5QDMzMzMz6HpAmpmZmZlkfEAAAAAAAOF9QGZmZmZmXX9AZmZmZuZsgECamZmZGSuBQM3MzMxM6YFAAAAAAICngkAzMzMzs2WDQGZmZmbmI4RAmpmZmRnihEDNzMzMTKCFQAAAAACAXoZAMzMzM7Mch0BmZmZm5tqHQJqZmZkZmYhAzczMzExXiUAAAAAAgBWKQDMzMzOz04pAZmZmZuaRi0CamZmZGVCMQM3MzMxMDo1AAAAAAIDMjUAzMzMzs4qOQGZmZmbmSI9A\",\"dtype\":\"float64\",\"shape\":[75]}},\"selected\":{\"id\":\"6b5d2bc1-e855-4994-9b10-016b2fd9834c\",\"type\":\"Selection\"},\"selection_policy\":{\"id\":\"c933741e-c6b9-438b-9d76-92d9c6a47fec\",\"type\":\"UnionRenderers\"}},\"id\":\"9362b5ad-2e71-4b40-94cb-a38cdc1dc533\",\"type\":\"ColumnDataSource\"},{\"attributes\":{\"fill_alpha\":{\"value\":0.7},\"fill_color\":{\"value\":\"#377eb8\"},\"line_alpha\":{\"value\":0.7},\"line_color\":{\"value\":\"#377eb8\"},\"x\":{\"field\":\"x\"},\"y\":{\"field\":\"y\"}},\"id\":\"78b45aa0-97ee-4580-9ddb-aa007703de53\",\"type\":\"Triangle\"},{\"attributes\":{\"fill_alpha\":{\"value\":0.1},\"fill_color\":{\"value\":\"#1f77b4\"},\"line_alpha\":{\"value\":0.1},\"line_color\":{\"value\":\"#1f77b4\"},\"x\":{\"field\":\"x\"},\"y\":{\"field\":\"y\"}},\"id\":\"470646c4-6f97-49fc-aa34-b53393fc2fe1\",\"type\":\"Triangle\"},{\"attributes\":{\"data_source\":{\"id\":\"1d7439bd-0e18-439e-b663-bde1280ecb43\",\"type\":\"ColumnDataSource\"},\"glyph\":{\"id\":\"78b45aa0-97ee-4580-9ddb-aa007703de53\",\"type\":\"Triangle\"},\"hover_glyph\":null,\"muted_glyph\":null,\"nonselection_glyph\":{\"id\":\"470646c4-6f97-49fc-aa34-b53393fc2fe1\",\"type\":\"Triangle\"},\"selection_glyph\":null,\"view\":{\"id\":\"786cb30a-4056-465a-a741-2d0b47b4b668\",\"type\":\"CDSView\"}},\"id\":\"84c56a8b-0a81-451a-8a45-c0dd3ed5bdf7\",\"type\":\"GlyphRenderer\"},{\"attributes\":{\"source\":{\"id\":\"1d7439bd-0e18-439e-b663-bde1280ecb43\",\"type\":\"ColumnDataSource\"}},\"id\":\"786cb30a-4056-465a-a741-2d0b47b4b668\",\"type\":\"CDSView\"},{\"attributes\":{\"line_alpha\":0.3,\"line_color\":\"#377eb8\",\"line_width\":2,\"x\":{\"field\":\"x\"},\"y\":{\"field\":\"y\"}},\"id\":\"6bf532e8-b40a-4e3e-a19f-29d31c43a698\",\"type\":\"Line\"},{\"attributes\":{\"children\":[{\"id\":\"0ede139b-0576-4c1d-8396-c4f824409d33\",\"type\":\"Row\"}]},\"id\":\"bed53144-c808-408e-9e2f-b697c56f83ba\",\"type\":\"Column\"},{\"attributes\":{\"line_alpha\":0.1,\"line_color\":\"#1f77b4\",\"line_width\":2,\"x\":{\"field\":\"x\"},\"y\":{\"field\":\"y\"}},\"id\":\"3ecc4a2b-4141-4a99-aaae-1b93b3af30a5\",\"type\":\"Line\"},{\"attributes\":{\"data_source\":{\"id\":\"9362b5ad-2e71-4b40-94cb-a38cdc1dc533\",\"type\":\"ColumnDataSource\"},\"glyph\":{\"id\":\"6bf532e8-b40a-4e3e-a19f-29d31c43a698\",\"type\":\"Line\"},\"hover_glyph\":null,\"muted_glyph\":null,\"nonselection_glyph\":{\"id\":\"3ecc4a2b-4141-4a99-aaae-1b93b3af30a5\",\"type\":\"Line\"},\"selection_glyph\":null,\"view\":{\"id\":\"b8e9c10d-495f-4b46-b6fa-8908f8eb50e7\",\"type\":\"CDSView\"}},\"id\":\"9884e03f-558d-4737-8791-c561db762b2c\",\"type\":\"GlyphRenderer\"},{\"attributes\":{\"source\":{\"id\":\"9362b5ad-2e71-4b40-94cb-a38cdc1dc533\",\"type\":\"ColumnDataSource\"}},\"id\":\"b8e9c10d-495f-4b46-b6fa-8908f8eb50e7\",\"type\":\"CDSView\"},{\"attributes\":{\"plot\":null,\"text\":\"\"},\"id\":\"422c0b72-ab84-40d1-af7b-f6108181f351\",\"type\":\"Title\"},{\"attributes\":{\"children\":[{\"id\":\"c24db2ca-357a-43db-83fb-63a562b1ad1b\",\"subtype\":\"Figure\",\"type\":\"Plot\"},{\"id\":\"49d2f5bc-ea95-4933-9061-24a076721fdc\",\"subtype\":\"Figure\",\"type\":\"Plot\"}]},\"id\":\"0ede139b-0576-4c1d-8396-c4f824409d33\",\"type\":\"Row\"},{\"attributes\":{\"label\":{\"value\":\"CRD\"},\"renderers\":[{\"id\":\"1e0a77aa-c095-470e-9128-7fead1699e61\",\"type\":\"GlyphRenderer\"},{\"id\":\"95da4ac5-e214-4db8-886e-b5e9ad38d1eb\",\"type\":\"GlyphRenderer\"}]},\"id\":\"71dfb75e-ea08-4db7-a50c-4c6407c2fe46\",\"type\":\"LegendItem\"},{\"attributes\":{\"plot\":null,\"text\":\"\"},\"id\":\"4b3f9bb8-8769-46b1-af74-714070ff19c7\",\"type\":\"Title\"},{\"attributes\":{\"label\":{\"value\":\"WGT igg=1\"},\"renderers\":[{\"id\":\"0a551644-262b-4123-ae9e-3dca3105f44c\",\"type\":\"GlyphRenderer\"},{\"id\":\"7767fd7a-5ed7-41c4-917f-2e3b40d3a686\",\"type\":\"GlyphRenderer\"}]},\"id\":\"4395ef4b-0a85-42ba-a853-f8bd1ca9380d\",\"type\":\"LegendItem\"},{\"attributes\":{},\"id\":\"e7d41cc5-a288-4e6e-b3ba-9cf703078f25\",\"type\":\"Selection\"},{\"attributes\":{\"label\":{\"value\":\"WGT igg=10\"},\"renderers\":[{\"id\":\"84c56a8b-0a81-451a-8a45-c0dd3ed5bdf7\",\"type\":\"GlyphRenderer\"},{\"id\":\"9884e03f-558d-4737-8791-c561db762b2c\",\"type\":\"GlyphRenderer\"}]},\"id\":\"22f01ef9-fb5d-445c-8b76-612a4e39a8f4\",\"type\":\"LegendItem\"},{\"attributes\":{},\"id\":\"376d90a0-1bc6-46fd-aa2b-ce4a46010c19\",\"type\":\"UnionRenderers\"},{\"attributes\":{},\"id\":\"d161d515-787b-4dd8-9db4-075121e2965a\",\"type\":\"Selection\"},{\"attributes\":{},\"id\":\"4514bdb3-61e9-48e1-8ad2-0482abe425b3\",\"type\":\"BasicTickFormatter\"},{\"attributes\":{},\"id\":\"9c0f1c98-5612-4456-8866-a8909b5d1243\",\"type\":\"BasicTickFormatter\"},{\"attributes\":{},\"id\":\"da3954c1-ebef-4482-8009-40965b83d130\",\"type\":\"UnionRenderers\"},{\"attributes\":{},\"id\":\"aea1ab5d-82fe-4e02-9d10-e94fcfc7fb40\",\"type\":\"Selection\"},{\"attributes\":{\"ticker\":null},\"id\":\"e34e9d61-c445-4b53-a371-f5425d9af184\",\"type\":\"LogTickFormatter\"},{\"attributes\":{},\"id\":\"cb094f39-8c21-40ac-9bfc-d670a279866c\",\"type\":\"Selection\"},{\"attributes\":{},\"id\":\"1d42992e-b722-48ff-86ca-65c9afec3ce1\",\"type\":\"UnionRenderers\"},{\"attributes\":{},\"id\":\"badeb77f-73b7-42b1-8506-2e49f9d4dcbd\",\"type\":\"Selection\"},{\"attributes\":{},\"id\":\"fb03ced0-aa70-4aca-b76b-8d1abeacd19b\",\"type\":\"Selection\"},{\"attributes\":{},\"id\":\"2d3f3d54-25de-4726-a7f6-02b69cd8e6cb\",\"type\":\"UnionRenderers\"},{\"attributes\":{},\"id\":\"4361a9a8-5414-4cdc-a386-198b053cedc4\",\"type\":\"UnionRenderers\"},{\"attributes\":{},\"id\":\"2d71f475-9b3b-4759-97c5-84e9958cb655\",\"type\":\"BasicTickFormatter\"},{\"attributes\":{\"toolbar\":{\"id\":\"a592ac5a-5e95-4395-afce-a27976411992\",\"type\":\"ProxyToolbar\"},\"toolbar_location\":\"above\"},\"id\":\"bd1c1810-6be9-414f-95e2-c8d5c9ac71aa\",\"type\":\"ToolbarBox\"},{\"attributes\":{},\"id\":\"d7635d65-b540-4b64-bf6e-0d3f20b619bc\",\"type\":\"UnionRenderers\"},{\"attributes\":{},\"id\":\"d25dbd38-e1cf-4beb-86b3-9bd382d8ded3\",\"type\":\"Selection\"},{\"attributes\":{},\"id\":\"f794ccaf-a12c-4c86-83f3-7c4b0af60c21\",\"type\":\"UnionRenderers\"},{\"attributes\":{},\"id\":\"9c89cabd-2e6a-4f2f-b798-45fc550ef1f0\",\"type\":\"Selection\"},{\"attributes\":{},\"id\":\"cf904623-e9a3-44b3-ad3b-9f8b67b7725c\",\"type\":\"UnionRenderers\"},{\"attributes\":{\"tools\":[{\"id\":\"37bbd552-2aae-4992-bdbb-eaa534b45b2b\",\"type\":\"PanTool\"},{\"id\":\"c136bb1a-215f-46fd-bebe-24cae6fbd006\",\"type\":\"WheelZoomTool\"},{\"id\":\"03f9f1e4-7207-430b-bff8-e00126350b1e\",\"type\":\"BoxZoomTool\"},{\"id\":\"069a8694-6122-47c1-89ba-8cae15044e04\",\"type\":\"SaveTool\"},{\"id\":\"193f32ec-6c1e-4484-ab25-3f4d53f347c8\",\"type\":\"ResetTool\"},{\"id\":\"2e2ffc3f-684f-4417-b36c-c8fe485017fc\",\"type\":\"HelpTool\"},{\"id\":\"bcd1605f-8eef-465b-9180-a34aa165495c\",\"type\":\"PanTool\"},{\"id\":\"8367ed65-d7cd-42ba-b2c5-cf79ccb66ebf\",\"type\":\"WheelZoomTool\"},{\"id\":\"3a46ba38-a91b-4b10-a382-0b81d2c74aea\",\"type\":\"BoxZoomTool\"},{\"id\":\"14a38ba6-b5a9-4a14-82b4-3f27cd438cca\",\"type\":\"SaveTool\"},{\"id\":\"f9f41d4f-1535-48b1-82e1-f90903f5032d\",\"type\":\"ResetTool\"},{\"id\":\"42081c10-2dc0-4d0b-a5c4-647afe7b1cad\",\"type\":\"HelpTool\"}]},\"id\":\"a592ac5a-5e95-4395-afce-a27976411992\",\"type\":\"ProxyToolbar\"},{\"attributes\":{},\"id\":\"6b5d2bc1-e855-4994-9b10-016b2fd9834c\",\"type\":\"Selection\"},{\"attributes\":{},\"id\":\"c933741e-c6b9-438b-9d76-92d9c6a47fec\",\"type\":\"UnionRenderers\"},{\"attributes\":{\"children\":[{\"id\":\"bd1c1810-6be9-414f-95e2-c8d5c9ac71aa\",\"type\":\"ToolbarBox\"},{\"id\":\"bed53144-c808-408e-9e2f-b697c56f83ba\",\"type\":\"Column\"}]},\"id\":\"7a700d00-0af4-4464-a023-eff2750dd92b\",\"type\":\"Column\"}],\"root_ids\":[\"7a700d00-0af4-4464-a023-eff2750dd92b\"]},\"title\":\"Bokeh Application\",\"version\":\"0.12.16\"}};\n",
       "  var render_items = [{\"docid\":\"550d7a12-cebf-41e2-9c4c-e61892e6196b\",\"elementid\":\"9e5dbc69-1b50-4a9a-bef0-3b5fffab65a7\",\"modelid\":\"7a700d00-0af4-4464-a023-eff2750dd92b\"}];\n",
       "  root.Bokeh.embed.embed_items_notebook(docs_json, render_items);\n",
       "\n",
       "  }\n",
       "  if (root.Bokeh !== undefined) {\n",
       "    embed_document(root);\n",
       "  } else {\n",
       "    var attempts = 0;\n",
       "    var timer = setInterval(function(root) {\n",
       "      if (root.Bokeh !== undefined) {\n",
       "        embed_document(root);\n",
       "        clearInterval(timer);\n",
       "      }\n",
       "      attempts++;\n",
       "      if (attempts > 100) {\n",
       "        console.log(\"Bokeh: ERROR: Unable to run BokehJS code because BokehJS library is missing\")\n",
       "        clearInterval(timer);\n",
       "      }\n",
       "    }, 10, root)\n",
       "  }\n",
       "})(window);"
      ],
      "application/vnd.bokehjs_exec.v0+json": ""
     },
     "metadata": {
      "application/vnd.bokehjs_exec.v0+json": {
       "id": "7a700d00-0af4-4464-a023-eff2750dd92b"
      }
     },
     "output_type": "display_data"
    },
    {
     "data": {
      "text/markdown": [
       "*FIGURE.* Cooling rates. g=2"
      ],
      "text/plain": [
       "<IPython.core.display.Markdown object>"
      ]
     },
     "metadata": {},
     "output_type": "display_data"
    },
    {
     "data": {
      "text/html": [
       "\n",
       "<div class=\"bk-root\">\n",
       "    <div class=\"bk-plotdiv\" id=\"2064e3fa-76f4-46ca-9b9e-1e2f74154e60\"></div>\n",
       "</div>"
      ]
     },
     "metadata": {},
     "output_type": "display_data"
    },
    {
     "data": {
      "application/javascript": [
       "(function(root) {\n",
       "  function embed_document(root) {\n",
       "    \n",
       "  var docs_json = {\"101cf251-c276-40c4-b2a9-303b79ddb19c\":{\"roots\":{\"references\":[{\"attributes\":{},\"id\":\"f97be91b-fc10-484b-8918-8f279ce521c3\",\"type\":\"LinearScale\"},{\"attributes\":{\"dimension\":1,\"plot\":{\"id\":\"6cbdf2d6-67f1-41ca-bd47-25dc10761c99\",\"subtype\":\"Figure\",\"type\":\"Plot\"},\"ticker\":{\"id\":\"d72096c5-5ff3-453d-8589-15b332f26e30\",\"type\":\"BasicTicker\"}},\"id\":\"a2238d77-fdb0-4204-be78-5019d0c3a3d8\",\"type\":\"Grid\"},{\"attributes\":{\"overlay\":{\"id\":\"06b088cf-7cff-4959-b1f6-57442b1c0fa7\",\"type\":\"BoxAnnotation\"}},\"id\":\"ce946112-0c96-48a8-97c7-788b24a505bb\",\"type\":\"BoxZoomTool\"},{\"attributes\":{\"plot\":{\"id\":\"af8121cb-4915-446a-8bb3-f32818253cd1\",\"subtype\":\"Figure\",\"type\":\"Plot\"},\"ticker\":{\"id\":\"7e303f8a-bd94-45b4-980f-3c701e4c6fd0\",\"type\":\"BasicTicker\"}},\"id\":\"d19d6817-f76a-4698-b811-34310cf57892\",\"type\":\"Grid\"},{\"attributes\":{\"active_drag\":\"auto\",\"active_inspect\":\"auto\",\"active_scroll\":\"auto\",\"active_tap\":\"auto\",\"tools\":[{\"id\":\"ece7a442-16fb-43b0-8df9-f3660b8c4c65\",\"type\":\"PanTool\"},{\"id\":\"d705c5e7-6d9f-4722-9966-490c73b4b908\",\"type\":\"WheelZoomTool\"},{\"id\":\"ce946112-0c96-48a8-97c7-788b24a505bb\",\"type\":\"BoxZoomTool\"},{\"id\":\"bf7467fb-bb3f-44e4-a13b-249e139f9000\",\"type\":\"SaveTool\"},{\"id\":\"d997474f-c20b-4d4d-9f67-b398e1beead5\",\"type\":\"ResetTool\"},{\"id\":\"5f6abf9b-b19d-4d81-9c7a-079e66b1e0b4\",\"type\":\"HelpTool\"}]},\"id\":\"39d8da92-525a-48fb-bc92-07065e6699fe\",\"type\":\"Toolbar\"},{\"attributes\":{\"callback\":null,\"end\":0.05910326356,\"start\":-0.027898203559999998},\"id\":\"69f0d1c5-3b0a-45f2-9370-5e21f4446557\",\"type\":\"Range1d\"},{\"attributes\":{},\"id\":\"17cf4343-6c37-4513-bf23-81070db42bd2\",\"type\":\"LinearScale\"},{\"attributes\":{},\"id\":\"bf7467fb-bb3f-44e4-a13b-249e139f9000\",\"type\":\"SaveTool\"},{\"attributes\":{\"axis_label\":\"pressure [mb]\",\"formatter\":{\"id\":\"8808790b-7531-4383-b74f-29ab3e8d0e32\",\"type\":\"BasicTickFormatter\"},\"plot\":{\"id\":\"6cbdf2d6-67f1-41ca-bd47-25dc10761c99\",\"subtype\":\"Figure\",\"type\":\"Plot\"},\"ticker\":{\"id\":\"d72096c5-5ff3-453d-8589-15b332f26e30\",\"type\":\"BasicTicker\"}},\"id\":\"115306e9-5bfa-4ff3-9163-a318f89fa4bd\",\"type\":\"LinearAxis\"},{\"attributes\":{},\"id\":\"d72096c5-5ff3-453d-8589-15b332f26e30\",\"type\":\"BasicTicker\"},{\"attributes\":{\"plot\":{\"id\":\"6cbdf2d6-67f1-41ca-bd47-25dc10761c99\",\"subtype\":\"Figure\",\"type\":\"Plot\"},\"ticker\":{\"id\":\"2666fa75-8870-4ddc-8a0b-a2df6a93e995\",\"type\":\"BasicTicker\"}},\"id\":\"7f8e0578-75b5-4052-b0ed-c9a1e0cc42f0\",\"type\":\"Grid\"},{\"attributes\":{},\"id\":\"2666fa75-8870-4ddc-8a0b-a2df6a93e995\",\"type\":\"BasicTicker\"},{\"attributes\":{\"axis_label\":\"cooling rate [K/day]\",\"formatter\":{\"id\":\"c7574205-bdec-4e79-89e7-5aae3e952444\",\"type\":\"BasicTickFormatter\"},\"plot\":{\"id\":\"6cbdf2d6-67f1-41ca-bd47-25dc10761c99\",\"subtype\":\"Figure\",\"type\":\"Plot\"},\"ticker\":{\"id\":\"2666fa75-8870-4ddc-8a0b-a2df6a93e995\",\"type\":\"BasicTicker\"}},\"id\":\"e3c98bfe-0cb7-4838-a60a-d92843935efc\",\"type\":\"LinearAxis\"},{\"attributes\":{},\"id\":\"d705c5e7-6d9f-4722-9966-490c73b4b908\",\"type\":\"WheelZoomTool\"},{\"attributes\":{},\"id\":\"5f6abf9b-b19d-4d81-9c7a-079e66b1e0b4\",\"type\":\"HelpTool\"},{\"attributes\":{},\"id\":\"ece7a442-16fb-43b0-8df9-f3660b8c4c65\",\"type\":\"PanTool\"},{\"attributes\":{},\"id\":\"d997474f-c20b-4d4d-9f67-b398e1beead5\",\"type\":\"ResetTool\"},{\"attributes\":{\"callback\":null,\"data\":{\"x\":{\"__ndarray__\":\"lnm5tEsn874kmYHqu0PzvkhwAQwFWPO+N8hFNCFx8764c7E4WpHzvrxH4W4fvPO+GrDgFC72877kkcBTFUb0vlleLAThtPS+IGdcFQRP9b6VTUUTniX2vtIaonQkUPe+gdMt5LTu+L4CrgROoij7vs75vXWmcP2++CWqWc7o/L6MZpVaH/b0vhNzO4DwMaq+vRMqyYm3BD+QytVBX9UeP57cGe7yLDE/QwLy9lUMQT/uaSOcYHVNP9j6XXHcXVM/JCrDHZBJVD/o0qHOOrVTPynu0N3iG1I/SnQddtFXTj+PzudG0hpFP0yj49D9gSs/btZ//JAJP78T1o0JhnJYv2IJ0NfxfWe/DCnoOvnicr99j3hG2/B8v/Bku2ueXYW/4l2Yxtu8jL9+ruHi282Rv+GNfpQOX5W/uw06hp+2mL9oKNfcHY6av+zXmDWDiJq/tVm4VsKtmb9QD+s8E2KYv8ko94Tqu5a/8J5cg1nJlL/5j/k+JJWSv0/YNKWrKpC/Ow9olQsoi78NeLL+Q7iFv2EaqgzhJIC/6R6z3rEZdb/q+ykEpAxkv9TtNlp9ey0/lhcYbguaZz8H5bukCrd2P2oCZcwG3YA/ZptYNixzhj8mTph3byGMPwbbWu/P9pA/MaRONqHtkz+yG8KgaPiWP+i2neZ/Gpo/7obA01xVnT8dWNoex1OgP5U5fCPRA6I/4Cqo2DOsoz8cUco56zKlP+PcqhTQfqY/lv8FjHKMpz/FcVfkFHOoP6Ukw6imT6k/BTfgYGA3qj9p0eJcKDirPzl8BXupXqw/\",\"dtype\":\"float64\",\"shape\":[75]},\"y\":{\"__ndarray__\":\"GhExyth1ND/Sv8nbtpRIP2vylNV0PVE/aTum7souWD/At0SJ8fVgPw3Iuahxymc/MSNhhJWvcD/bTfBN02d3P2zb5nxnaoA/CD5h5MAGhz8NmeH1TyaQP+zrCsc9p5Y/LbKd76fGnz/bLW5ISEmmPww9YvTcQq8/JV2OstnstT8Er5Y7M8G+P0c+r3jqkcU/5h99k6ZBzj88bCIzFzjVP4enV8oyxN0//yH99nXg5D8qOpLLf0jtP5kqGJXUifQ/c9cS8kHP/D+/DpwzojQEQIEmwoanVwxA4lgXt9HgE0BSSZ2AJuIbQAMJih9jjiNA5q4l5INuK0AwTKYKRj0zQNv5fmq8/DpAaCJseHrtQkB/+zpwzoxKQM3MzMzMeFJAZmZmZmZqWEAAAAAAAFxeQM3MzMzMJmJAmpmZmZkfZUBmZmZmZhhoQDMzMzMzEWtAAAAAAAAKbkBmZmZmZoFwQM3MzMzM/XFAMzMzMzN6c0CamZmZmfZ0QAAAAAAAc3ZAZmZmZmbvd0DNzMzMzGt5QDMzMzMz6HpAmpmZmZlkfEAAAAAAAOF9QGZmZmZmXX9AZmZmZuZsgECamZmZGSuBQM3MzMxM6YFAAAAAAICngkAzMzMzs2WDQGZmZmbmI4RAmpmZmRnihEDNzMzMTKCFQAAAAACAXoZAMzMzM7Mch0BmZmZm5tqHQJqZmZkZmYhAzczMzExXiUAAAAAAgBWKQDMzMzOz04pAZmZmZuaRi0CamZmZGVCMQM3MzMxMDo1AAAAAAIDMjUAzMzMzs4qOQGZmZmbmSI9A\",\"dtype\":\"float64\",\"shape\":[75]}},\"selected\":{\"id\":\"c3427f7e-1943-47a3-9a9d-ec3adb936fa8\",\"type\":\"Selection\"},\"selection_policy\":{\"id\":\"2f713ff9-99ec-4dfe-81f8-556891a68317\",\"type\":\"UnionRenderers\"}},\"id\":\"a65dd7ac-563d-409c-8257-fd587deec0cf\",\"type\":\"ColumnDataSource\"},{\"attributes\":{\"fill_alpha\":{\"value\":0.7},\"fill_color\":{\"value\":\"#4daf4a\"},\"line_alpha\":{\"value\":0.7},\"line_color\":{\"value\":\"#4daf4a\"},\"x\":{\"field\":\"x\"},\"y\":{\"field\":\"y\"}},\"id\":\"fd032d5d-6491-41ca-adf4-0536dcb5aeb1\",\"type\":\"Circle\"},{\"attributes\":{\"line_alpha\":0.1,\"line_color\":\"#1f77b4\",\"line_width\":3,\"x\":{\"field\":\"x\"},\"y\":{\"field\":\"y\"}},\"id\":\"ed313c54-7a73-4da1-acc4-8c727b48c24c\",\"type\":\"Line\"},{\"attributes\":{\"line_alpha\":0.6,\"line_color\":\"#984ea3\",\"line_width\":3,\"x\":{\"field\":\"x\"},\"y\":{\"field\":\"y\"}},\"id\":\"0c408c78-79e8-488c-89f4-30758394c1cc\",\"type\":\"Line\"},{\"attributes\":{\"data_source\":{\"id\":\"a65dd7ac-563d-409c-8257-fd587deec0cf\",\"type\":\"ColumnDataSource\"},\"glyph\":{\"id\":\"0c408c78-79e8-488c-89f4-30758394c1cc\",\"type\":\"Line\"},\"hover_glyph\":null,\"muted_glyph\":null,\"nonselection_glyph\":{\"id\":\"ed313c54-7a73-4da1-acc4-8c727b48c24c\",\"type\":\"Line\"},\"selection_glyph\":null,\"view\":{\"id\":\"c5c9abad-b440-4f91-b6a5-541f2dd943e5\",\"type\":\"CDSView\"}},\"id\":\"9540cd3e-00e2-4e97-81c4-57d369cfadf0\",\"type\":\"GlyphRenderer\"},{\"attributes\":{},\"id\":\"cd1f0e08-2d28-4fa4-863a-0f19f0f67656\",\"type\":\"PanTool\"},{\"attributes\":{\"callback\":null,\"data\":{\"x\":{\"__ndarray__\":\"Jbxw71za9L6bvkeaZgH1vtBmwNFEKfW+bEYTEnlY9b7oa4KIs5D1vrfxY+Pp1fW+PqbgkZQt9r4oSQTbX5/2vkwlZBrkNfe+IaZuyc//976PA5QXcBH5vp1KE+zThvq+iPR9Y6+G/L5yxiWpLUT/vtJoY1WaSwG/w/ZfQexZAr/Bu31qQQsBv4U2QNcK+fa+7+c2/f6f0D64CRs1WWAOP28f3NY7QCU/Ma1MEjwqNz+fK4FbaN5EPzTYfgRigks/BzdAoPr4Sz/6nYjvVKFJP9/c/PylFUU/j5nLMWI/Oz9G9lQck5sTP0sWgX87ITy/PUg49c1yU7+PSpyaZb1iv5i5oWoyqm6/XhyE3REFd7+C2tqISMmAv2R43TyE2oe/R/5M/NJUj789b4t78RqTv3zDdXOOjZa/9Kgeh8a1mb/uVWh2loabv6lXsN6/sZu/DBhzwy4Lm78oHrdi9ueZv0vEUXVsXZi/df21zlV5lr+KsRQV5keUvxWr5VKF1JG/a2/WMcVUjr8vMqu+jamIvyabIGJyx4K/SAO63taXeb+qOU7IjS1rv0oABPKmdTm/DIHdYt7gZD9vnX6Wx492Py29yloCaYE/s/vS/q6fhz8tzTFJ+u6NP/QAbPmuLJI/YORydy5wlT/2EhRTqsOYP0hQtUPnKJw/D7rLGPufnz9H/C986ZKhP0yvlRzsV6M/0w7id5ERpT8SencQraimP3l5ZdfwBqg/5QJO8eMoqT8y6eJ77iCqP355073mBqs/tub5mZvrqz938Md4itisPxQRr//70q0/\",\"dtype\":\"float64\",\"shape\":[75]},\"y\":{\"__ndarray__\":\"GhExyth1ND/Sv8nbtpRIP2vylNV0PVE/aTum7souWD/At0SJ8fVgPw3Iuahxymc/MSNhhJWvcD/bTfBN02d3P2zb5nxnaoA/CD5h5MAGhz8NmeH1TyaQP+zrCsc9p5Y/LbKd76fGnz/bLW5ISEmmPww9YvTcQq8/JV2OstnstT8Er5Y7M8G+P0c+r3jqkcU/5h99k6ZBzj88bCIzFzjVP4enV8oyxN0//yH99nXg5D8qOpLLf0jtP5kqGJXUifQ/c9cS8kHP/D+/DpwzojQEQIEmwoanVwxA4lgXt9HgE0BSSZ2AJuIbQAMJih9jjiNA5q4l5INuK0AwTKYKRj0zQNv5fmq8/DpAaCJseHrtQkB/+zpwzoxKQM3MzMzMeFJAZmZmZmZqWEAAAAAAAFxeQM3MzMzMJmJAmpmZmZkfZUBmZmZmZhhoQDMzMzMzEWtAAAAAAAAKbkBmZmZmZoFwQM3MzMzM/XFAMzMzMzN6c0CamZmZmfZ0QAAAAAAAc3ZAZmZmZmbvd0DNzMzMzGt5QDMzMzMz6HpAmpmZmZlkfEAAAAAAAOF9QGZmZmZmXX9AZmZmZuZsgECamZmZGSuBQM3MzMxM6YFAAAAAAICngkAzMzMzs2WDQGZmZmbmI4RAmpmZmRnihEDNzMzMTKCFQAAAAACAXoZAMzMzM7Mch0BmZmZm5tqHQJqZmZkZmYhAzczMzExXiUAAAAAAgBWKQDMzMzOz04pAZmZmZuaRi0CamZmZGVCMQM3MzMxMDo1AAAAAAIDMjUAzMzMzs4qOQGZmZmbmSI9A\",\"dtype\":\"float64\",\"shape\":[75]}},\"selected\":{\"id\":\"d35aa049-4647-4649-b548-436b06f947cf\",\"type\":\"Selection\"},\"selection_policy\":{\"id\":\"3c3f139b-481b-4535-94db-b1199b17fa3f\",\"type\":\"UnionRenderers\"}},\"id\":\"b2e5c10f-e10e-4318-8ff0-506c7c403edc\",\"type\":\"ColumnDataSource\"},{\"attributes\":{\"fill_alpha\":{\"value\":0.1},\"fill_color\":{\"value\":\"#1f77b4\"},\"line_alpha\":{\"value\":0.1},\"line_color\":{\"value\":\"#1f77b4\"},\"x\":{\"field\":\"x\"},\"y\":{\"field\":\"y\"}},\"id\":\"e91ba314-9431-4bca-8766-deac5377e151\",\"type\":\"Square\"},{\"attributes\":{\"line_alpha\":0.1,\"line_color\":\"#1f77b4\",\"line_width\":1.5,\"x\":{\"field\":\"x\"},\"y\":{\"field\":\"y\"}},\"id\":\"9ddba6fc-e0be-4845-b84f-901538a3a37f\",\"type\":\"Line\"},{\"attributes\":{\"data_source\":{\"id\":\"b2e5c10f-e10e-4318-8ff0-506c7c403edc\",\"type\":\"ColumnDataSource\"},\"glyph\":{\"id\":\"356ec5a8-820f-4799-8cec-771bf159ea24\",\"type\":\"Triangle\"},\"hover_glyph\":null,\"muted_glyph\":null,\"nonselection_glyph\":{\"id\":\"25750ff4-9a62-4a26-8fa4-3fdff939497b\",\"type\":\"Triangle\"},\"selection_glyph\":null,\"view\":{\"id\":\"c140d59a-b969-4e65-a73b-fa33eb91805e\",\"type\":\"CDSView\"}},\"id\":\"1a6950e3-eddf-4d6a-84a4-25f76400b56c\",\"type\":\"GlyphRenderer\"},{\"attributes\":{\"fill_alpha\":{\"value\":0.1},\"fill_color\":{\"value\":\"#1f77b4\"},\"line_alpha\":{\"value\":0.1},\"line_color\":{\"value\":\"#1f77b4\"},\"x\":{\"field\":\"x\"},\"y\":{\"field\":\"y\"}},\"id\":\"25750ff4-9a62-4a26-8fa4-3fdff939497b\",\"type\":\"Triangle\"},{\"attributes\":{\"line_alpha\":0.1,\"line_color\":\"#1f77b4\",\"line_width\":2,\"x\":{\"field\":\"x\"},\"y\":{\"field\":\"y\"}},\"id\":\"cfbfc869-ddd1-4834-9ec8-aca57af9c8c2\",\"type\":\"Line\"},{\"attributes\":{\"source\":{\"id\":\"8a343f36-05d8-412e-90cd-fe0b2e31618f\",\"type\":\"ColumnDataSource\"}},\"id\":\"b2a6b929-9a92-4f94-919d-eb5b35ff1f78\",\"type\":\"CDSView\"},{\"attributes\":{\"data_source\":{\"id\":\"8a343f36-05d8-412e-90cd-fe0b2e31618f\",\"type\":\"ColumnDataSource\"},\"glyph\":{\"id\":\"df0af485-01b4-485c-a8bf-613cf94d5162\",\"type\":\"Line\"},\"hover_glyph\":null,\"muted_glyph\":null,\"nonselection_glyph\":{\"id\":\"9ddba6fc-e0be-4845-b84f-901538a3a37f\",\"type\":\"Line\"},\"selection_glyph\":null,\"view\":{\"id\":\"b2a6b929-9a92-4f94-919d-eb5b35ff1f78\",\"type\":\"CDSView\"}},\"id\":\"8aa7dd68-d4a2-4c9e-9162-7e96a8287a84\",\"type\":\"GlyphRenderer\"},{\"attributes\":{\"source\":{\"id\":\"b2e5c10f-e10e-4318-8ff0-506c7c403edc\",\"type\":\"ColumnDataSource\"}},\"id\":\"c140d59a-b969-4e65-a73b-fa33eb91805e\",\"type\":\"CDSView\"},{\"attributes\":{\"items\":[{\"id\":\"0c911676-ebf4-454e-b916-5af99c3d1587\",\"type\":\"LegendItem\"},{\"id\":\"14f77343-6e21-492c-9184-c876360ae988\",\"type\":\"LegendItem\"},{\"id\":\"a943284b-8eba-4613-8d65-fcee677fedeb\",\"type\":\"LegendItem\"}],\"label_text_font_size\":{\"value\":\"8pt\"},\"location\":\"top_center\",\"orientation\":\"horizontal\",\"plot\":{\"id\":\"6cbdf2d6-67f1-41ca-bd47-25dc10761c99\",\"subtype\":\"Figure\",\"type\":\"Plot\"}},\"id\":\"a8affa60-3c0d-4cbb-a527-c865d6f400a9\",\"type\":\"Legend\"},{\"attributes\":{\"fill_alpha\":{\"value\":0.7},\"fill_color\":{\"value\":\"#984ea3\"},\"line_alpha\":{\"value\":0.7},\"line_color\":{\"value\":\"#984ea3\"},\"x\":{\"field\":\"x\"},\"y\":{\"field\":\"y\"}},\"id\":\"9343a106-fd45-4d75-a514-7374430378d9\",\"type\":\"Square\"},{\"attributes\":{\"source\":{\"id\":\"a65dd7ac-563d-409c-8257-fd587deec0cf\",\"type\":\"ColumnDataSource\"}},\"id\":\"c5c9abad-b440-4f91-b6a5-541f2dd943e5\",\"type\":\"CDSView\"},{\"attributes\":{\"callback\":null,\"data\":{\"x\":{\"__ndarray__\":\"yKqo/SBt975cUGumMIn3viKkUGOXofe+LIoeKNq3977/nazw+833vgM6qF836ve+ExUBiwYL+L7g5Lc9yDL4vqhH5eY1ZPi+BbEvwk6j+L74hi7JZ/X4vodIlcU0Yfm+KYJIE4nv+b75Hc9LF6j6vlP0aTAa8Pq+86NSSqHp975L9WJJl0DpvnDd6+V8peg+itBhHeG+Dj8LhUxVgSojPyfqf9PY8jM/EiuR9zIZQz8IHrIqHEFQP8Dn7IXHnFU/dTKhmxeNVz9XBkTtn2xYP741/OPH3Fg/QrbRXAW6WD9+aCMtTuJXP3tu3kUKr1U/h+yYx1W9UD9tS3utK9c+P7jXJ33dZzO/RUqbuIFsVb+6clBjtrRnv7ik7Reo13W/5GIdanqZgL9u/R8gkjOGv4djixQypoy/Gzwt7iiWkb8D2p+JhWGTv64Mqg1ORJO/6BprIfZ5kr+zVwZy3GuRv6hvIsXDJZC/+QFmwzxZjb8M9b5oxAmKv27jr8ZiZoa/YIFdxdF5gr8HUYtBH6V8v2V7SfTNFXS/KhI+nWz4Zr+YDnFYotpHvyR+BzcAuFU/x2AxIeC0az+bu66/a2d2P4ufqrHpKX8/MZRLl4kYhD8H3e59W8SIPzfBRHehnY0/ucKaTttUkT87XV/pUfiTP/gb0WOyvZY/gVZ3ZGComT/Td7T6tbicP6zRYXQv5p8/cOO2gEeJoT8dakbMDQKjP3r8IMMRQaQ/j9FBZH9DpT+mz5LwUiSmP+yXUg6bBac/sYgLh3gAqD+nkjSRLyepP9GeW4Bnj6o/\",\"dtype\":\"float64\",\"shape\":[75]},\"y\":{\"__ndarray__\":\"GhExyth1ND/Sv8nbtpRIP2vylNV0PVE/aTum7souWD/At0SJ8fVgPw3Iuahxymc/MSNhhJWvcD/bTfBN02d3P2zb5nxnaoA/CD5h5MAGhz8NmeH1TyaQP+zrCsc9p5Y/LbKd76fGnz/bLW5ISEmmPww9YvTcQq8/JV2OstnstT8Er5Y7M8G+P0c+r3jqkcU/5h99k6ZBzj88bCIzFzjVP4enV8oyxN0//yH99nXg5D8qOpLLf0jtP5kqGJXUifQ/c9cS8kHP/D+/DpwzojQEQIEmwoanVwxA4lgXt9HgE0BSSZ2AJuIbQAMJih9jjiNA5q4l5INuK0AwTKYKRj0zQNv5fmq8/DpAaCJseHrtQkB/+zpwzoxKQM3MzMzMeFJAZmZmZmZqWEAAAAAAAFxeQM3MzMzMJmJAmpmZmZkfZUBmZmZmZhhoQDMzMzMzEWtAAAAAAAAKbkBmZmZmZoFwQM3MzMzM/XFAMzMzMzN6c0CamZmZmfZ0QAAAAAAAc3ZAZmZmZmbvd0DNzMzMzGt5QDMzMzMz6HpAmpmZmZlkfEAAAAAAAOF9QGZmZmZmXX9AZmZmZuZsgECamZmZGSuBQM3MzMxM6YFAAAAAAICngkAzMzMzs2WDQGZmZmbmI4RAmpmZmRnihEDNzMzMTKCFQAAAAACAXoZAMzMzM7Mch0BmZmZm5tqHQJqZmZkZmYhAzczMzExXiUAAAAAAgBWKQDMzMzOz04pAZmZmZuaRi0CamZmZGVCMQM3MzMxMDo1AAAAAAIDMjUAzMzMzs4qOQGZmZmbmSI9A\",\"dtype\":\"float64\",\"shape\":[75]}},\"selected\":{\"id\":\"90defd08-faf2-4f64-b8bc-4c61b0c66db2\",\"type\":\"Selection\"},\"selection_policy\":{\"id\":\"8055e97a-97da-472c-b949-1ef667a44f88\",\"type\":\"UnionRenderers\"}},\"id\":\"a7aed2fe-1b8a-4ee6-9ece-06e63698b107\",\"type\":\"ColumnDataSource\"},{\"attributes\":{\"above\":[{\"id\":\"d05c3f2f-651a-4ca2-a167-503b802c88b5\",\"type\":\"Legend\"}],\"below\":[{\"id\":\"2ffc5bc0-8f74-4eac-a97e-7deef051c294\",\"type\":\"LinearAxis\"}],\"left\":[{\"id\":\"bfa42aaf-bafd-4c10-be5d-7c1df660cd36\",\"type\":\"LogAxis\"}],\"plot_height\":500,\"plot_width\":400,\"renderers\":[{\"id\":\"2ffc5bc0-8f74-4eac-a97e-7deef051c294\",\"type\":\"LinearAxis\"},{\"id\":\"d19d6817-f76a-4698-b811-34310cf57892\",\"type\":\"Grid\"},{\"id\":\"bfa42aaf-bafd-4c10-be5d-7c1df660cd36\",\"type\":\"LogAxis\"},{\"id\":\"0e4a9f83-1015-4e60-8ec2-736bb27e91c4\",\"type\":\"Grid\"},{\"id\":\"145ab18d-fd4e-4098-85b4-6ae56f160c70\",\"type\":\"BoxAnnotation\"},{\"id\":\"6188066c-89c7-412e-9625-7d9525c4d7b0\",\"type\":\"GlyphRenderer\"},{\"id\":\"89f614a8-4bde-40d0-a9cb-366f8bcf0b4e\",\"type\":\"GlyphRenderer\"},{\"id\":\"2953ae40-622a-4f2d-a0c4-9652ef720137\",\"type\":\"GlyphRenderer\"},{\"id\":\"3ff1b0db-7bd3-4dd4-a74f-1b7f0755da3b\",\"type\":\"GlyphRenderer\"},{\"id\":\"eb2288f9-1446-4124-9382-073b9c8dbe4f\",\"type\":\"GlyphRenderer\"},{\"id\":\"2675b3f3-2328-4972-93a0-269157de2885\",\"type\":\"GlyphRenderer\"},{\"id\":\"d05c3f2f-651a-4ca2-a167-503b802c88b5\",\"type\":\"Legend\"}],\"title\":{\"id\":\"3cafb4b3-caa5-498e-89a4-8df21e37a991\",\"type\":\"Title\"},\"toolbar\":{\"id\":\"ffee56b4-5fd1-441b-a7c5-ac0fef0ee0e7\",\"type\":\"Toolbar\"},\"toolbar_location\":null,\"x_range\":{\"id\":\"b851120f-cc94-4587-a90b-9d45409c6f28\",\"type\":\"Range1d\"},\"x_scale\":{\"id\":\"6f74d141-74a6-42ba-b313-bf78dd95cd90\",\"type\":\"LinearScale\"},\"y_range\":{\"id\":\"df6d97b3-a74e-4596-bfcf-e487effbd2d4\",\"type\":\"Range1d\"},\"y_scale\":{\"id\":\"97e22678-2aa2-4c0e-beaf-e0eba069171c\",\"type\":\"LogScale\"}},\"id\":\"af8121cb-4915-446a-8bb3-f32818253cd1\",\"subtype\":\"Figure\",\"type\":\"Plot\"},{\"attributes\":{\"data_source\":{\"id\":\"f9a6d267-0902-48f6-b056-d11b7a72742f\",\"type\":\"ColumnDataSource\"},\"glyph\":{\"id\":\"9343a106-fd45-4d75-a514-7374430378d9\",\"type\":\"Square\"},\"hover_glyph\":null,\"muted_glyph\":null,\"nonselection_glyph\":{\"id\":\"e91ba314-9431-4bca-8766-deac5377e151\",\"type\":\"Square\"},\"selection_glyph\":null,\"view\":{\"id\":\"422b5e84-9473-41e4-815c-2dcb81c650c8\",\"type\":\"CDSView\"}},\"id\":\"03dca7d9-0e35-4a81-80ac-9f592f451fc0\",\"type\":\"GlyphRenderer\"},{\"attributes\":{\"callback\":null,\"data\":{\"x\":{\"__ndarray__\":\"lnm5tEsn874kmYHqu0PzvkhwAQwFWPO+N8hFNCFx8764c7E4WpHzvrxH4W4fvPO+GrDgFC72877kkcBTFUb0vlleLAThtPS+IGdcFQRP9b6VTUUTniX2vtIaonQkUPe+gdMt5LTu+L4CrgROoij7vs75vXWmcP2++CWqWc7o/L6MZpVaH/b0vhNzO4DwMaq+vRMqyYm3BD+QytVBX9UeP57cGe7yLDE/QwLy9lUMQT/uaSOcYHVNP9j6XXHcXVM/JCrDHZBJVD/o0qHOOrVTPynu0N3iG1I/SnQddtFXTj+PzudG0hpFP0yj49D9gSs/btZ//JAJP78T1o0JhnJYv2IJ0NfxfWe/DCnoOvnicr99j3hG2/B8v/Bku2ueXYW/4l2Yxtu8jL9+ruHi282Rv+GNfpQOX5W/uw06hp+2mL9oKNfcHY6av+zXmDWDiJq/tVm4VsKtmb9QD+s8E2KYv8ko94Tqu5a/8J5cg1nJlL/5j/k+JJWSv0/YNKWrKpC/Ow9olQsoi78NeLL+Q7iFv2EaqgzhJIC/6R6z3rEZdb/q+ykEpAxkv9TtNlp9ey0/lhcYbguaZz8H5bukCrd2P2oCZcwG3YA/ZptYNixzhj8mTph3byGMPwbbWu/P9pA/MaRONqHtkz+yG8KgaPiWP+i2neZ/Gpo/7obA01xVnT8dWNoex1OgP5U5fCPRA6I/4Cqo2DOsoz8cUco56zKlP+PcqhTQfqY/lv8FjHKMpz/FcVfkFHOoP6Ukw6imT6k/BTfgYGA3qj9p0eJcKDirPzl8BXupXqw/\",\"dtype\":\"float64\",\"shape\":[75]},\"y\":{\"__ndarray__\":\"GhExyth1ND/Sv8nbtpRIP2vylNV0PVE/aTum7souWD/At0SJ8fVgPw3Iuahxymc/MSNhhJWvcD/bTfBN02d3P2zb5nxnaoA/CD5h5MAGhz8NmeH1TyaQP+zrCsc9p5Y/LbKd76fGnz/bLW5ISEmmPww9YvTcQq8/JV2OstnstT8Er5Y7M8G+P0c+r3jqkcU/5h99k6ZBzj88bCIzFzjVP4enV8oyxN0//yH99nXg5D8qOpLLf0jtP5kqGJXUifQ/c9cS8kHP/D+/DpwzojQEQIEmwoanVwxA4lgXt9HgE0BSSZ2AJuIbQAMJih9jjiNA5q4l5INuK0AwTKYKRj0zQNv5fmq8/DpAaCJseHrtQkB/+zpwzoxKQM3MzMzMeFJAZmZmZmZqWEAAAAAAAFxeQM3MzMzMJmJAmpmZmZkfZUBmZmZmZhhoQDMzMzMzEWtAAAAAAAAKbkBmZmZmZoFwQM3MzMzM/XFAMzMzMzN6c0CamZmZmfZ0QAAAAAAAc3ZAZmZmZmbvd0DNzMzMzGt5QDMzMzMz6HpAmpmZmZlkfEAAAAAAAOF9QGZmZmZmXX9AZmZmZuZsgECamZmZGSuBQM3MzMxM6YFAAAAAAICngkAzMzMzs2WDQGZmZmbmI4RAmpmZmRnihEDNzMzMTKCFQAAAAACAXoZAMzMzM7Mch0BmZmZm5tqHQJqZmZkZmYhAzczMzExXiUAAAAAAgBWKQDMzMzOz04pAZmZmZuaRi0CamZmZGVCMQM3MzMxMDo1AAAAAAIDMjUAzMzMzs4qOQGZmZmbmSI9A\",\"dtype\":\"float64\",\"shape\":[75]}},\"selected\":{\"id\":\"b2f8333f-3dbe-4120-839f-b85b68cfd30f\",\"type\":\"Selection\"},\"selection_policy\":{\"id\":\"7a275874-68db-41a5-bacf-ce102d39ff9c\",\"type\":\"UnionRenderers\"}},\"id\":\"f9a6d267-0902-48f6-b056-d11b7a72742f\",\"type\":\"ColumnDataSource\"},{\"attributes\":{\"line_alpha\":0.3,\"line_color\":\"#377eb8\",\"line_width\":2,\"x\":{\"field\":\"x\"},\"y\":{\"field\":\"y\"}},\"id\":\"2ce18688-f623-422f-9734-506b71d36ac6\",\"type\":\"Line\"},{\"attributes\":{\"source\":{\"id\":\"0d24a911-f05c-48f0-aacf-8d79fa04a56f\",\"type\":\"ColumnDataSource\"}},\"id\":\"0842d41d-deb3-4e35-a9da-c03e5a477a5b\",\"type\":\"CDSView\"},{\"attributes\":{\"line_color\":\"#4daf4a\",\"line_width\":1.5,\"x\":{\"field\":\"x\"},\"y\":{\"field\":\"y\"}},\"id\":\"df0af485-01b4-485c-a8bf-613cf94d5162\",\"type\":\"Line\"},{\"attributes\":{\"callback\":null,\"data\":{\"x\":{\"__ndarray__\":\"Jbxw71za9L6bvkeaZgH1vtBmwNFEKfW+bEYTEnlY9b7oa4KIs5D1vrfxY+Pp1fW+PqbgkZQt9r4oSQTbX5/2vkwlZBrkNfe+IaZuyc//976PA5QXcBH5vp1KE+zThvq+iPR9Y6+G/L5yxiWpLUT/vtJoY1WaSwG/w/ZfQexZAr/Bu31qQQsBv4U2QNcK+fa+7+c2/f6f0D64CRs1WWAOP28f3NY7QCU/Ma1MEjwqNz+fK4FbaN5EPzTYfgRigks/BzdAoPr4Sz/6nYjvVKFJP9/c/PylFUU/j5nLMWI/Oz9G9lQck5sTP0sWgX87ITy/PUg49c1yU7+PSpyaZb1iv5i5oWoyqm6/XhyE3REFd7+C2tqISMmAv2R43TyE2oe/R/5M/NJUj789b4t78RqTv3zDdXOOjZa/9Kgeh8a1mb/uVWh2loabv6lXsN6/sZu/DBhzwy4Lm78oHrdi9ueZv0vEUXVsXZi/df21zlV5lr+KsRQV5keUvxWr5VKF1JG/a2/WMcVUjr8vMqu+jamIvyabIGJyx4K/SAO63taXeb+qOU7IjS1rv0oABPKmdTm/DIHdYt7gZD9vnX6Wx492Py29yloCaYE/s/vS/q6fhz8tzTFJ+u6NP/QAbPmuLJI/YORydy5wlT/2EhRTqsOYP0hQtUPnKJw/D7rLGPufnz9H/C986ZKhP0yvlRzsV6M/0w7id5ERpT8SencQraimP3l5ZdfwBqg/5QJO8eMoqT8y6eJ77iCqP355073mBqs/tub5mZvrqz938Md4itisPxQRr//70q0/\",\"dtype\":\"float64\",\"shape\":[75]},\"y\":{\"__ndarray__\":\"GhExyth1ND/Sv8nbtpRIP2vylNV0PVE/aTum7souWD/At0SJ8fVgPw3Iuahxymc/MSNhhJWvcD/bTfBN02d3P2zb5nxnaoA/CD5h5MAGhz8NmeH1TyaQP+zrCsc9p5Y/LbKd76fGnz/bLW5ISEmmPww9YvTcQq8/JV2OstnstT8Er5Y7M8G+P0c+r3jqkcU/5h99k6ZBzj88bCIzFzjVP4enV8oyxN0//yH99nXg5D8qOpLLf0jtP5kqGJXUifQ/c9cS8kHP/D+/DpwzojQEQIEmwoanVwxA4lgXt9HgE0BSSZ2AJuIbQAMJih9jjiNA5q4l5INuK0AwTKYKRj0zQNv5fmq8/DpAaCJseHrtQkB/+zpwzoxKQM3MzMzMeFJAZmZmZmZqWEAAAAAAAFxeQM3MzMzMJmJAmpmZmZkfZUBmZmZmZhhoQDMzMzMzEWtAAAAAAAAKbkBmZmZmZoFwQM3MzMzM/XFAMzMzMzN6c0CamZmZmfZ0QAAAAAAAc3ZAZmZmZmbvd0DNzMzMzGt5QDMzMzMz6HpAmpmZmZlkfEAAAAAAAOF9QGZmZmZmXX9AZmZmZuZsgECamZmZGSuBQM3MzMxM6YFAAAAAAICngkAzMzMzs2WDQGZmZmbmI4RAmpmZmRnihEDNzMzMTKCFQAAAAACAXoZAMzMzM7Mch0BmZmZm5tqHQJqZmZkZmYhAzczMzExXiUAAAAAAgBWKQDMzMzOz04pAZmZmZuaRi0CamZmZGVCMQM3MzMxMDo1AAAAAAIDMjUAzMzMzs4qOQGZmZmbmSI9A\",\"dtype\":\"float64\",\"shape\":[75]}},\"selected\":{\"id\":\"888fd4f2-77d2-46e0-9594-4a6edda72b9f\",\"type\":\"Selection\"},\"selection_policy\":{\"id\":\"5c5ff1f7-0e72-4665-b72d-663428bc032b\",\"type\":\"UnionRenderers\"}},\"id\":\"0d24a911-f05c-48f0-aacf-8d79fa04a56f\",\"type\":\"ColumnDataSource\"},{\"attributes\":{\"fill_alpha\":{\"value\":0.7},\"fill_color\":{\"value\":\"#377eb8\"},\"line_alpha\":{\"value\":0.7},\"line_color\":{\"value\":\"#377eb8\"},\"x\":{\"field\":\"x\"},\"y\":{\"field\":\"y\"}},\"id\":\"356ec5a8-820f-4799-8cec-771bf159ea24\",\"type\":\"Triangle\"},{\"attributes\":{\"source\":{\"id\":\"f9a6d267-0902-48f6-b056-d11b7a72742f\",\"type\":\"ColumnDataSource\"}},\"id\":\"422b5e84-9473-41e4-815c-2dcb81c650c8\",\"type\":\"CDSView\"},{\"attributes\":{\"data_source\":{\"id\":\"0d24a911-f05c-48f0-aacf-8d79fa04a56f\",\"type\":\"ColumnDataSource\"},\"glyph\":{\"id\":\"2ce18688-f623-422f-9734-506b71d36ac6\",\"type\":\"Line\"},\"hover_glyph\":null,\"muted_glyph\":null,\"nonselection_glyph\":{\"id\":\"cfbfc869-ddd1-4834-9ec8-aca57af9c8c2\",\"type\":\"Line\"},\"selection_glyph\":null,\"view\":{\"id\":\"0842d41d-deb3-4e35-a9da-c03e5a477a5b\",\"type\":\"CDSView\"}},\"id\":\"7036bfe4-02eb-4462-8ac2-bc35e43f87e5\",\"type\":\"GlyphRenderer\"},{\"attributes\":{\"active_drag\":\"auto\",\"active_inspect\":\"auto\",\"active_scroll\":\"auto\",\"active_tap\":\"auto\",\"tools\":[{\"id\":\"cd1f0e08-2d28-4fa4-863a-0f19f0f67656\",\"type\":\"PanTool\"},{\"id\":\"e56429b7-60ee-4327-9ee4-b8f239b6697a\",\"type\":\"WheelZoomTool\"},{\"id\":\"1dc4e621-0525-4922-8e7c-93e996b99945\",\"type\":\"BoxZoomTool\"},{\"id\":\"a65e2733-55e9-49c2-9a9d-283f00ccd0c7\",\"type\":\"SaveTool\"},{\"id\":\"2e84da1d-2f19-4b9e-b2d8-e256a05208ea\",\"type\":\"ResetTool\"},{\"id\":\"1865c04a-4b9e-4bf0-8141-361ef1d7052d\",\"type\":\"HelpTool\"}]},\"id\":\"ffee56b4-5fd1-441b-a7c5-ac0fef0ee0e7\",\"type\":\"Toolbar\"},{\"attributes\":{\"label\":{\"value\":\"CRD\"},\"renderers\":[{\"id\":\"606a73b9-7203-45cd-be26-c50cf4ef96c7\",\"type\":\"GlyphRenderer\"},{\"id\":\"8aa7dd68-d4a2-4c9e-9162-7e96a8287a84\",\"type\":\"GlyphRenderer\"}]},\"id\":\"0c911676-ebf4-454e-b916-5af99c3d1587\",\"type\":\"LegendItem\"},{\"attributes\":{\"callback\":null,\"end\":0.00180146281,\"start\":-0.02716457981},\"id\":\"b851120f-cc94-4587-a90b-9d45409c6f28\",\"type\":\"Range1d\"},{\"attributes\":{\"label\":{\"value\":\"WGT igg=1\"},\"renderers\":[{\"id\":\"03dca7d9-0e35-4a81-80ac-9f592f451fc0\",\"type\":\"GlyphRenderer\"},{\"id\":\"9540cd3e-00e2-4e97-81c4-57d369cfadf0\",\"type\":\"GlyphRenderer\"}]},\"id\":\"14f77343-6e21-492c-9184-c876360ae988\",\"type\":\"LegendItem\"},{\"attributes\":{},\"id\":\"6f74d141-74a6-42ba-b313-bf78dd95cd90\",\"type\":\"LinearScale\"},{\"attributes\":{\"label\":{\"value\":\"WGT igg=10\"},\"renderers\":[{\"id\":\"1a6950e3-eddf-4d6a-84a4-25f76400b56c\",\"type\":\"GlyphRenderer\"},{\"id\":\"7036bfe4-02eb-4462-8ac2-bc35e43f87e5\",\"type\":\"GlyphRenderer\"}]},\"id\":\"a943284b-8eba-4613-8d65-fcee677fedeb\",\"type\":\"LegendItem\"},{\"attributes\":{\"bottom_units\":\"screen\",\"fill_alpha\":{\"value\":0.5},\"fill_color\":{\"value\":\"lightgrey\"},\"left_units\":\"screen\",\"level\":\"overlay\",\"line_alpha\":{\"value\":1.0},\"line_color\":{\"value\":\"black\"},\"line_dash\":[4,4],\"line_width\":{\"value\":2},\"plot\":null,\"render_mode\":\"css\",\"right_units\":\"screen\",\"top_units\":\"screen\"},\"id\":\"145ab18d-fd4e-4098-85b4-6ae56f160c70\",\"type\":\"BoxAnnotation\"},{\"attributes\":{\"items\":[{\"id\":\"b0c0890a-c6fc-4d16-bc14-6ffe24f6918b\",\"type\":\"LegendItem\"},{\"id\":\"f7c41b16-b59e-4930-9654-08ff95e41720\",\"type\":\"LegendItem\"},{\"id\":\"ba516506-7bf4-4ca7-85bf-3d4c87551340\",\"type\":\"LegendItem\"}],\"label_text_font_size\":{\"value\":\"8pt\"},\"location\":\"top_center\",\"orientation\":\"horizontal\",\"plot\":{\"id\":\"af8121cb-4915-446a-8bb3-f32818253cd1\",\"subtype\":\"Figure\",\"type\":\"Plot\"}},\"id\":\"d05c3f2f-651a-4ca2-a167-503b802c88b5\",\"type\":\"Legend\"},{\"attributes\":{},\"id\":\"e56429b7-60ee-4327-9ee4-b8f239b6697a\",\"type\":\"WheelZoomTool\"},{\"attributes\":{},\"id\":\"97e22678-2aa2-4c0e-beaf-e0eba069171c\",\"type\":\"LogScale\"},{\"attributes\":{\"axis_label\":\"cooling rate [K/day]\",\"formatter\":{\"id\":\"fd2787e4-3ace-4bf7-87f2-5c04a8ed90cb\",\"type\":\"BasicTickFormatter\"},\"plot\":{\"id\":\"af8121cb-4915-446a-8bb3-f32818253cd1\",\"subtype\":\"Figure\",\"type\":\"Plot\"},\"ticker\":{\"id\":\"7e303f8a-bd94-45b4-980f-3c701e4c6fd0\",\"type\":\"BasicTicker\"}},\"id\":\"2ffc5bc0-8f74-4eac-a97e-7deef051c294\",\"type\":\"LinearAxis\"},{\"attributes\":{},\"id\":\"7e303f8a-bd94-45b4-980f-3c701e4c6fd0\",\"type\":\"BasicTicker\"},{\"attributes\":{\"overlay\":{\"id\":\"145ab18d-fd4e-4098-85b4-6ae56f160c70\",\"type\":\"BoxAnnotation\"}},\"id\":\"1dc4e621-0525-4922-8e7c-93e996b99945\",\"type\":\"BoxZoomTool\"},{\"attributes\":{},\"id\":\"a65e2733-55e9-49c2-9a9d-283f00ccd0c7\",\"type\":\"SaveTool\"},{\"attributes\":{},\"id\":\"2e84da1d-2f19-4b9e-b2d8-e256a05208ea\",\"type\":\"ResetTool\"},{\"attributes\":{},\"id\":\"1865c04a-4b9e-4bf0-8141-361ef1d7052d\",\"type\":\"HelpTool\"},{\"attributes\":{\"source\":{\"id\":\"1dba4d7c-5f94-4d18-bb68-60a7c2c9fcd7\",\"type\":\"ColumnDataSource\"}},\"id\":\"6d511ec9-8c1c-42c1-848c-2516c9f933a0\",\"type\":\"CDSView\"},{\"attributes\":{},\"id\":\"2f713ff9-99ec-4dfe-81f8-556891a68317\",\"type\":\"UnionRenderers\"},{\"attributes\":{},\"id\":\"7a275874-68db-41a5-bacf-ce102d39ff9c\",\"type\":\"UnionRenderers\"},{\"attributes\":{},\"id\":\"c3427f7e-1943-47a3-9a9d-ec3adb936fa8\",\"type\":\"Selection\"},{\"attributes\":{\"source\":{\"id\":\"a7aed2fe-1b8a-4ee6-9ece-06e63698b107\",\"type\":\"ColumnDataSource\"}},\"id\":\"ad914d4e-17b9-47db-9ebb-bb6d6cdfedaf\",\"type\":\"CDSView\"},{\"attributes\":{},\"id\":\"d35aa049-4647-4649-b548-436b06f947cf\",\"type\":\"Selection\"},{\"attributes\":{\"callback\":null,\"data\":{\"x\":{\"__ndarray__\":\"lnm5tEsn874kmYHqu0PzvkhwAQwFWPO+N8hFNCFx8764c7E4WpHzvrxH4W4fvPO+GrDgFC72877kkcBTFUb0vlleLAThtPS+IGdcFQRP9b6VTUUTniX2vtIaonQkUPe+gdMt5LTu+L4CrgROoij7vs75vXWmcP2++CWqWc7o/L6MZpVaH/b0vhNzO4DwMaq+vRMqyYm3BD+QytVBX9UeP57cGe7yLDE/QwLy9lUMQT/uaSOcYHVNP9j6XXHcXVM/JCrDHZBJVD/o0qHOOrVTPynu0N3iG1I/SnQddtFXTj+PzudG0hpFP0yj49D9gSs/btZ//JAJP78T1o0JhnJYv2IJ0NfxfWe/DCnoOvnicr99j3hG2/B8v/Bku2ueXYW/4l2Yxtu8jL9+ruHi282Rv+GNfpQOX5W/uw06hp+2mL9oKNfcHY6av+zXmDWDiJq/tVm4VsKtmb9QD+s8E2KYv8ko94Tqu5a/8J5cg1nJlL/5j/k+JJWSv0/YNKWrKpC/Ow9olQsoi78NeLL+Q7iFv2EaqgzhJIC/6R6z3rEZdb/q+ykEpAxkv9TtNlp9ey0/lhcYbguaZz8H5bukCrd2P2oCZcwG3YA/ZptYNixzhj8mTph3byGMPwbbWu/P9pA/MaRONqHtkz+yG8KgaPiWP+i2neZ/Gpo/7obA01xVnT8dWNoex1OgP5U5fCPRA6I/4Cqo2DOsoz8cUco56zKlP+PcqhTQfqY/lv8FjHKMpz/FcVfkFHOoP6Ukw6imT6k/BTfgYGA3qj9p0eJcKDirPzl8BXupXqw/\",\"dtype\":\"float64\",\"shape\":[75]},\"y\":{\"__ndarray__\":\"GhExyth1ND/Sv8nbtpRIP2vylNV0PVE/aTum7souWD/At0SJ8fVgPw3Iuahxymc/MSNhhJWvcD/bTfBN02d3P2zb5nxnaoA/CD5h5MAGhz8NmeH1TyaQP+zrCsc9p5Y/LbKd76fGnz/bLW5ISEmmPww9YvTcQq8/JV2OstnstT8Er5Y7M8G+P0c+r3jqkcU/5h99k6ZBzj88bCIzFzjVP4enV8oyxN0//yH99nXg5D8qOpLLf0jtP5kqGJXUifQ/c9cS8kHP/D+/DpwzojQEQIEmwoanVwxA4lgXt9HgE0BSSZ2AJuIbQAMJih9jjiNA5q4l5INuK0AwTKYKRj0zQNv5fmq8/DpAaCJseHrtQkB/+zpwzoxKQM3MzMzMeFJAZmZmZmZqWEAAAAAAAFxeQM3MzMzMJmJAmpmZmZkfZUBmZmZmZhhoQDMzMzMzEWtAAAAAAAAKbkBmZmZmZoFwQM3MzMzM/XFAMzMzMzN6c0CamZmZmfZ0QAAAAAAAc3ZAZmZmZmbvd0DNzMzMzGt5QDMzMzMz6HpAmpmZmZlkfEAAAAAAAOF9QGZmZmZmXX9AZmZmZuZsgECamZmZGSuBQM3MzMxM6YFAAAAAAICngkAzMzMzs2WDQGZmZmbmI4RAmpmZmRnihEDNzMzMTKCFQAAAAACAXoZAMzMzM7Mch0BmZmZm5tqHQJqZmZkZmYhAzczMzExXiUAAAAAAgBWKQDMzMzOz04pAZmZmZuaRi0CamZmZGVCMQM3MzMxMDo1AAAAAAIDMjUAzMzMzs4qOQGZmZmbmSI9A\",\"dtype\":\"float64\",\"shape\":[75]}},\"selected\":{\"id\":\"44175deb-bbac-46f3-a421-ffbda8f17429\",\"type\":\"Selection\"},\"selection_policy\":{\"id\":\"a0898601-e79a-4faf-baf8-7bd421e5ec10\",\"type\":\"UnionRenderers\"}},\"id\":\"cd41ebf8-1885-49e3-ba8b-1cc0c6249a37\",\"type\":\"ColumnDataSource\"},{\"attributes\":{\"ticker\":null},\"id\":\"4754b670-c1f2-42bd-bfc1-cc9b2169f90c\",\"type\":\"LogTickFormatter\"},{\"attributes\":{\"line_color\":\"#4daf4a\",\"line_width\":1.5,\"x\":{\"field\":\"x\"},\"y\":{\"field\":\"y\"}},\"id\":\"164cf574-eba1-46a7-b964-290a8216240d\",\"type\":\"Line\"},{\"attributes\":{\"data_source\":{\"id\":\"a7aed2fe-1b8a-4ee6-9ece-06e63698b107\",\"type\":\"ColumnDataSource\"},\"glyph\":{\"id\":\"fd032d5d-6491-41ca-adf4-0536dcb5aeb1\",\"type\":\"Circle\"},\"hover_glyph\":null,\"muted_glyph\":null,\"nonselection_glyph\":{\"id\":\"c8097fbe-0c54-44e5-9236-ecf0f99345ce\",\"type\":\"Circle\"},\"selection_glyph\":null,\"view\":{\"id\":\"ad914d4e-17b9-47db-9ebb-bb6d6cdfedaf\",\"type\":\"CDSView\"}},\"id\":\"6188066c-89c7-412e-9625-7d9525c4d7b0\",\"type\":\"GlyphRenderer\"},{\"attributes\":{\"plot\":null,\"text\":\"\"},\"id\":\"3cafb4b3-caa5-498e-89a4-8df21e37a991\",\"type\":\"Title\"},{\"attributes\":{\"line_alpha\":0.1,\"line_color\":\"#1f77b4\",\"line_width\":1.5,\"x\":{\"field\":\"x\"},\"y\":{\"field\":\"y\"}},\"id\":\"eb0e969f-db1c-4078-b603-a3c295108f1b\",\"type\":\"Line\"},{\"attributes\":{\"line_alpha\":0.6,\"line_color\":\"#984ea3\",\"line_width\":3,\"x\":{\"field\":\"x\"},\"y\":{\"field\":\"y\"}},\"id\":\"cf14de9c-efed-4b98-99be-977ac6e5a628\",\"type\":\"Line\"},{\"attributes\":{\"data_source\":{\"id\":\"cd41ebf8-1885-49e3-ba8b-1cc0c6249a37\",\"type\":\"ColumnDataSource\"},\"glyph\":{\"id\":\"fff31f2d-4171-4906-ad5d-9b5d54ddd795\",\"type\":\"Square\"},\"hover_glyph\":null,\"muted_glyph\":null,\"nonselection_glyph\":{\"id\":\"752a7b36-e2da-4424-855d-c741c2f5c0f9\",\"type\":\"Square\"},\"selection_glyph\":null,\"view\":{\"id\":\"fdcfeaa8-6b69-4755-b7c5-56630f6c1e17\",\"type\":\"CDSView\"}},\"id\":\"2953ae40-622a-4f2d-a0c4-9652ef720137\",\"type\":\"GlyphRenderer\"},{\"attributes\":{\"fill_alpha\":{\"value\":0.1},\"fill_color\":{\"value\":\"#1f77b4\"},\"line_alpha\":{\"value\":0.1},\"line_color\":{\"value\":\"#1f77b4\"},\"x\":{\"field\":\"x\"},\"y\":{\"field\":\"y\"}},\"id\":\"c8097fbe-0c54-44e5-9236-ecf0f99345ce\",\"type\":\"Circle\"},{\"attributes\":{},\"id\":\"b2f8333f-3dbe-4120-839f-b85b68cfd30f\",\"type\":\"Selection\"},{\"attributes\":{\"source\":{\"id\":\"cd41ebf8-1885-49e3-ba8b-1cc0c6249a37\",\"type\":\"ColumnDataSource\"}},\"id\":\"fdcfeaa8-6b69-4755-b7c5-56630f6c1e17\",\"type\":\"CDSView\"},{\"attributes\":{\"above\":[{\"id\":\"a8affa60-3c0d-4cbb-a527-c865d6f400a9\",\"type\":\"Legend\"}],\"below\":[{\"id\":\"e3c98bfe-0cb7-4838-a60a-d92843935efc\",\"type\":\"LinearAxis\"}],\"left\":[{\"id\":\"115306e9-5bfa-4ff3-9163-a318f89fa4bd\",\"type\":\"LinearAxis\"}],\"plot_height\":500,\"plot_width\":400,\"renderers\":[{\"id\":\"e3c98bfe-0cb7-4838-a60a-d92843935efc\",\"type\":\"LinearAxis\"},{\"id\":\"7f8e0578-75b5-4052-b0ed-c9a1e0cc42f0\",\"type\":\"Grid\"},{\"id\":\"115306e9-5bfa-4ff3-9163-a318f89fa4bd\",\"type\":\"LinearAxis\"},{\"id\":\"a2238d77-fdb0-4204-be78-5019d0c3a3d8\",\"type\":\"Grid\"},{\"id\":\"06b088cf-7cff-4959-b1f6-57442b1c0fa7\",\"type\":\"BoxAnnotation\"},{\"id\":\"606a73b9-7203-45cd-be26-c50cf4ef96c7\",\"type\":\"GlyphRenderer\"},{\"id\":\"8aa7dd68-d4a2-4c9e-9162-7e96a8287a84\",\"type\":\"GlyphRenderer\"},{\"id\":\"03dca7d9-0e35-4a81-80ac-9f592f451fc0\",\"type\":\"GlyphRenderer\"},{\"id\":\"9540cd3e-00e2-4e97-81c4-57d369cfadf0\",\"type\":\"GlyphRenderer\"},{\"id\":\"1a6950e3-eddf-4d6a-84a4-25f76400b56c\",\"type\":\"GlyphRenderer\"},{\"id\":\"7036bfe4-02eb-4462-8ac2-bc35e43f87e5\",\"type\":\"GlyphRenderer\"},{\"id\":\"a8affa60-3c0d-4cbb-a527-c865d6f400a9\",\"type\":\"Legend\"}],\"title\":{\"id\":\"34682a49-1d21-469b-82f3-19ee69409ce3\",\"type\":\"Title\"},\"toolbar\":{\"id\":\"39d8da92-525a-48fb-bc92-07065e6699fe\",\"type\":\"Toolbar\"},\"toolbar_location\":null,\"x_range\":{\"id\":\"69f0d1c5-3b0a-45f2-9370-5e21f4446557\",\"type\":\"Range1d\"},\"x_scale\":{\"id\":\"f97be91b-fc10-484b-8918-8f279ce521c3\",\"type\":\"LinearScale\"},\"y_range\":{\"id\":\"c23b5703-6df5-409a-b04d-6be16fc54711\",\"type\":\"Range1d\"},\"y_scale\":{\"id\":\"17cf4343-6c37-4513-bf23-81070db42bd2\",\"type\":\"LinearScale\"}},\"id\":\"6cbdf2d6-67f1-41ca-bd47-25dc10761c99\",\"subtype\":\"Figure\",\"type\":\"Plot\"},{\"attributes\":{\"callback\":null,\"end\":0.01,\"start\":1020},\"id\":\"c23b5703-6df5-409a-b04d-6be16fc54711\",\"type\":\"Range1d\"},{\"attributes\":{\"fill_alpha\":{\"value\":0.1},\"fill_color\":{\"value\":\"#1f77b4\"},\"line_alpha\":{\"value\":0.1},\"line_color\":{\"value\":\"#1f77b4\"},\"x\":{\"field\":\"x\"},\"y\":{\"field\":\"y\"}},\"id\":\"752a7b36-e2da-4424-855d-c741c2f5c0f9\",\"type\":\"Square\"},{\"attributes\":{\"data_source\":{\"id\":\"c911be9e-e519-4228-9341-281d88a33c15\",\"type\":\"ColumnDataSource\"},\"glyph\":{\"id\":\"164cf574-eba1-46a7-b964-290a8216240d\",\"type\":\"Line\"},\"hover_glyph\":null,\"muted_glyph\":null,\"nonselection_glyph\":{\"id\":\"eb0e969f-db1c-4078-b603-a3c295108f1b\",\"type\":\"Line\"},\"selection_glyph\":null,\"view\":{\"id\":\"7dfebd43-656c-4faf-b36c-251547560640\",\"type\":\"CDSView\"}},\"id\":\"89f614a8-4bde-40d0-a9cb-366f8bcf0b4e\",\"type\":\"GlyphRenderer\"},{\"attributes\":{\"data_source\":{\"id\":\"fae9076f-cd11-4b7e-b7e7-c00c4b20d735\",\"type\":\"ColumnDataSource\"},\"glyph\":{\"id\":\"cf14de9c-efed-4b98-99be-977ac6e5a628\",\"type\":\"Line\"},\"hover_glyph\":null,\"muted_glyph\":null,\"nonselection_glyph\":{\"id\":\"3011114c-8d69-4307-aaf7-cedb299e1461\",\"type\":\"Line\"},\"selection_glyph\":null,\"view\":{\"id\":\"fca0b0be-7861-4e35-a69e-722659a2a5b6\",\"type\":\"CDSView\"}},\"id\":\"3ff1b0db-7bd3-4dd4-a74f-1b7f0755da3b\",\"type\":\"GlyphRenderer\"},{\"attributes\":{\"callback\":null,\"data\":{\"x\":{\"__ndarray__\":\"yKqo/SBt975cUGumMIn3viKkUGOXofe+LIoeKNq3977/nazw+833vgM6qF836ve+ExUBiwYL+L7g5Lc9yDL4vqhH5eY1ZPi+BbEvwk6j+L74hi7JZ/X4vodIlcU0Yfm+KYJIE4nv+b75Hc9LF6j6vlP0aTAa8Pq+86NSSqHp975L9WJJl0DpvnDd6+V8peg+itBhHeG+Dj8LhUxVgSojPyfqf9PY8jM/EiuR9zIZQz8IHrIqHEFQP8Dn7IXHnFU/dTKhmxeNVz9XBkTtn2xYP741/OPH3Fg/QrbRXAW6WD9+aCMtTuJXP3tu3kUKr1U/h+yYx1W9UD9tS3utK9c+P7jXJ33dZzO/RUqbuIFsVb+6clBjtrRnv7ik7Reo13W/5GIdanqZgL9u/R8gkjOGv4djixQypoy/Gzwt7iiWkb8D2p+JhWGTv64Mqg1ORJO/6BprIfZ5kr+zVwZy3GuRv6hvIsXDJZC/+QFmwzxZjb8M9b5oxAmKv27jr8ZiZoa/YIFdxdF5gr8HUYtBH6V8v2V7SfTNFXS/KhI+nWz4Zr+YDnFYotpHvyR+BzcAuFU/x2AxIeC0az+bu66/a2d2P4ufqrHpKX8/MZRLl4kYhD8H3e59W8SIPzfBRHehnY0/ucKaTttUkT87XV/pUfiTP/gb0WOyvZY/gVZ3ZGComT/Td7T6tbicP6zRYXQv5p8/cOO2gEeJoT8dakbMDQKjP3r8IMMRQaQ/j9FBZH9DpT+mz5LwUiSmP+yXUg6bBac/sYgLh3gAqD+nkjSRLyepP9GeW4Bnj6o/\",\"dtype\":\"float64\",\"shape\":[75]},\"y\":{\"__ndarray__\":\"GhExyth1ND/Sv8nbtpRIP2vylNV0PVE/aTum7souWD/At0SJ8fVgPw3Iuahxymc/MSNhhJWvcD/bTfBN02d3P2zb5nxnaoA/CD5h5MAGhz8NmeH1TyaQP+zrCsc9p5Y/LbKd76fGnz/bLW5ISEmmPww9YvTcQq8/JV2OstnstT8Er5Y7M8G+P0c+r3jqkcU/5h99k6ZBzj88bCIzFzjVP4enV8oyxN0//yH99nXg5D8qOpLLf0jtP5kqGJXUifQ/c9cS8kHP/D+/DpwzojQEQIEmwoanVwxA4lgXt9HgE0BSSZ2AJuIbQAMJih9jjiNA5q4l5INuK0AwTKYKRj0zQNv5fmq8/DpAaCJseHrtQkB/+zpwzoxKQM3MzMzMeFJAZmZmZmZqWEAAAAAAAFxeQM3MzMzMJmJAmpmZmZkfZUBmZmZmZhhoQDMzMzMzEWtAAAAAAAAKbkBmZmZmZoFwQM3MzMzM/XFAMzMzMzN6c0CamZmZmfZ0QAAAAAAAc3ZAZmZmZmbvd0DNzMzMzGt5QDMzMzMz6HpAmpmZmZlkfEAAAAAAAOF9QGZmZmZmXX9AZmZmZuZsgECamZmZGSuBQM3MzMxM6YFAAAAAAICngkAzMzMzs2WDQGZmZmbmI4RAmpmZmRnihEDNzMzMTKCFQAAAAACAXoZAMzMzM7Mch0BmZmZm5tqHQJqZmZkZmYhAzczMzExXiUAAAAAAgBWKQDMzMzOz04pAZmZmZuaRi0CamZmZGVCMQM3MzMxMDo1AAAAAAIDMjUAzMzMzs4qOQGZmZmbmSI9A\",\"dtype\":\"float64\",\"shape\":[75]}},\"selected\":{\"id\":\"218573fe-59a6-4e01-9ad9-04da41f601e1\",\"type\":\"Selection\"},\"selection_policy\":{\"id\":\"a3e37135-81b7-46c6-a4db-a4dae605e948\",\"type\":\"UnionRenderers\"}},\"id\":\"c911be9e-e519-4228-9341-281d88a33c15\",\"type\":\"ColumnDataSource\"},{\"attributes\":{\"fill_alpha\":{\"value\":0.7},\"fill_color\":{\"value\":\"#984ea3\"},\"line_alpha\":{\"value\":0.7},\"line_color\":{\"value\":\"#984ea3\"},\"x\":{\"field\":\"x\"},\"y\":{\"field\":\"y\"}},\"id\":\"fff31f2d-4171-4906-ad5d-9b5d54ddd795\",\"type\":\"Square\"},{\"attributes\":{\"source\":{\"id\":\"c911be9e-e519-4228-9341-281d88a33c15\",\"type\":\"ColumnDataSource\"}},\"id\":\"7dfebd43-656c-4faf-b36c-251547560640\",\"type\":\"CDSView\"},{\"attributes\":{\"callback\":null,\"data\":{\"x\":{\"__ndarray__\":\"lnm5tEsn874kmYHqu0PzvkhwAQwFWPO+N8hFNCFx8764c7E4WpHzvrxH4W4fvPO+GrDgFC72877kkcBTFUb0vlleLAThtPS+IGdcFQRP9b6VTUUTniX2vtIaonQkUPe+gdMt5LTu+L4CrgROoij7vs75vXWmcP2++CWqWc7o/L6MZpVaH/b0vhNzO4DwMaq+vRMqyYm3BD+QytVBX9UeP57cGe7yLDE/QwLy9lUMQT/uaSOcYHVNP9j6XXHcXVM/JCrDHZBJVD/o0qHOOrVTPynu0N3iG1I/SnQddtFXTj+PzudG0hpFP0yj49D9gSs/btZ//JAJP78T1o0JhnJYv2IJ0NfxfWe/DCnoOvnicr99j3hG2/B8v/Bku2ueXYW/4l2Yxtu8jL9+ruHi282Rv+GNfpQOX5W/uw06hp+2mL9oKNfcHY6av+zXmDWDiJq/tVm4VsKtmb9QD+s8E2KYv8ko94Tqu5a/8J5cg1nJlL/5j/k+JJWSv0/YNKWrKpC/Ow9olQsoi78NeLL+Q7iFv2EaqgzhJIC/6R6z3rEZdb/q+ykEpAxkv9TtNlp9ey0/lhcYbguaZz8H5bukCrd2P2oCZcwG3YA/ZptYNixzhj8mTph3byGMPwbbWu/P9pA/MaRONqHtkz+yG8KgaPiWP+i2neZ/Gpo/7obA01xVnT8dWNoex1OgP5U5fCPRA6I/4Cqo2DOsoz8cUco56zKlP+PcqhTQfqY/lv8FjHKMpz/FcVfkFHOoP6Ukw6imT6k/BTfgYGA3qj9p0eJcKDirPzl8BXupXqw/\",\"dtype\":\"float64\",\"shape\":[75]},\"y\":{\"__ndarray__\":\"GhExyth1ND/Sv8nbtpRIP2vylNV0PVE/aTum7souWD/At0SJ8fVgPw3Iuahxymc/MSNhhJWvcD/bTfBN02d3P2zb5nxnaoA/CD5h5MAGhz8NmeH1TyaQP+zrCsc9p5Y/LbKd76fGnz/bLW5ISEmmPww9YvTcQq8/JV2OstnstT8Er5Y7M8G+P0c+r3jqkcU/5h99k6ZBzj88bCIzFzjVP4enV8oyxN0//yH99nXg5D8qOpLLf0jtP5kqGJXUifQ/c9cS8kHP/D+/DpwzojQEQIEmwoanVwxA4lgXt9HgE0BSSZ2AJuIbQAMJih9jjiNA5q4l5INuK0AwTKYKRj0zQNv5fmq8/DpAaCJseHrtQkB/+zpwzoxKQM3MzMzMeFJAZmZmZmZqWEAAAAAAAFxeQM3MzMzMJmJAmpmZmZkfZUBmZmZmZhhoQDMzMzMzEWtAAAAAAAAKbkBmZmZmZoFwQM3MzMzM/XFAMzMzMzN6c0CamZmZmfZ0QAAAAAAAc3ZAZmZmZmbvd0DNzMzMzGt5QDMzMzMz6HpAmpmZmZlkfEAAAAAAAOF9QGZmZmZmXX9AZmZmZuZsgECamZmZGSuBQM3MzMxM6YFAAAAAAICngkAzMzMzs2WDQGZmZmbmI4RAmpmZmRnihEDNzMzMTKCFQAAAAACAXoZAMzMzM7Mch0BmZmZm5tqHQJqZmZkZmYhAzczMzExXiUAAAAAAgBWKQDMzMzOz04pAZmZmZuaRi0CamZmZGVCMQM3MzMxMDo1AAAAAAIDMjUAzMzMzs4qOQGZmZmbmSI9A\",\"dtype\":\"float64\",\"shape\":[75]}},\"selected\":{\"id\":\"0ef66a59-26b7-4acf-9f6f-4893e2a266db\",\"type\":\"Selection\"},\"selection_policy\":{\"id\":\"371102e3-8ff1-4bbb-8fc2-868baec233ce\",\"type\":\"UnionRenderers\"}},\"id\":\"fae9076f-cd11-4b7e-b7e7-c00c4b20d735\",\"type\":\"ColumnDataSource\"},{\"attributes\":{\"line_alpha\":0.1,\"line_color\":\"#1f77b4\",\"line_width\":3,\"x\":{\"field\":\"x\"},\"y\":{\"field\":\"y\"}},\"id\":\"3011114c-8d69-4307-aaf7-cedb299e1461\",\"type\":\"Line\"},{\"attributes\":{\"axis_label\":\"pressure [mb]\",\"formatter\":{\"id\":\"4754b670-c1f2-42bd-bfc1-cc9b2169f90c\",\"type\":\"LogTickFormatter\"},\"plot\":{\"id\":\"af8121cb-4915-446a-8bb3-f32818253cd1\",\"subtype\":\"Figure\",\"type\":\"Plot\"},\"ticker\":{\"id\":\"494d24e9-68ce-4122-b5c7-522be3916dd0\",\"type\":\"LogTicker\"}},\"id\":\"bfa42aaf-bafd-4c10-be5d-7c1df660cd36\",\"type\":\"LogAxis\"},{\"attributes\":{\"source\":{\"id\":\"fae9076f-cd11-4b7e-b7e7-c00c4b20d735\",\"type\":\"ColumnDataSource\"}},\"id\":\"fca0b0be-7861-4e35-a69e-722659a2a5b6\",\"type\":\"CDSView\"},{\"attributes\":{\"callback\":null,\"data\":{\"x\":{\"__ndarray__\":\"Jbxw71za9L6bvkeaZgH1vtBmwNFEKfW+bEYTEnlY9b7oa4KIs5D1vrfxY+Pp1fW+PqbgkZQt9r4oSQTbX5/2vkwlZBrkNfe+IaZuyc//976PA5QXcBH5vp1KE+zThvq+iPR9Y6+G/L5yxiWpLUT/vtJoY1WaSwG/w/ZfQexZAr/Bu31qQQsBv4U2QNcK+fa+7+c2/f6f0D64CRs1WWAOP28f3NY7QCU/Ma1MEjwqNz+fK4FbaN5EPzTYfgRigks/BzdAoPr4Sz/6nYjvVKFJP9/c/PylFUU/j5nLMWI/Oz9G9lQck5sTP0sWgX87ITy/PUg49c1yU7+PSpyaZb1iv5i5oWoyqm6/XhyE3REFd7+C2tqISMmAv2R43TyE2oe/R/5M/NJUj789b4t78RqTv3zDdXOOjZa/9Kgeh8a1mb/uVWh2loabv6lXsN6/sZu/DBhzwy4Lm78oHrdi9ueZv0vEUXVsXZi/df21zlV5lr+KsRQV5keUvxWr5VKF1JG/a2/WMcVUjr8vMqu+jamIvyabIGJyx4K/SAO63taXeb+qOU7IjS1rv0oABPKmdTm/DIHdYt7gZD9vnX6Wx492Py29yloCaYE/s/vS/q6fhz8tzTFJ+u6NP/QAbPmuLJI/YORydy5wlT/2EhRTqsOYP0hQtUPnKJw/D7rLGPufnz9H/C986ZKhP0yvlRzsV6M/0w7id5ERpT8SencQraimP3l5ZdfwBqg/5QJO8eMoqT8y6eJ77iCqP355073mBqs/tub5mZvrqz938Md4itisPxQRr//70q0/\",\"dtype\":\"float64\",\"shape\":[75]},\"y\":{\"__ndarray__\":\"GhExyth1ND/Sv8nbtpRIP2vylNV0PVE/aTum7souWD/At0SJ8fVgPw3Iuahxymc/MSNhhJWvcD/bTfBN02d3P2zb5nxnaoA/CD5h5MAGhz8NmeH1TyaQP+zrCsc9p5Y/LbKd76fGnz/bLW5ISEmmPww9YvTcQq8/JV2OstnstT8Er5Y7M8G+P0c+r3jqkcU/5h99k6ZBzj88bCIzFzjVP4enV8oyxN0//yH99nXg5D8qOpLLf0jtP5kqGJXUifQ/c9cS8kHP/D+/DpwzojQEQIEmwoanVwxA4lgXt9HgE0BSSZ2AJuIbQAMJih9jjiNA5q4l5INuK0AwTKYKRj0zQNv5fmq8/DpAaCJseHrtQkB/+zpwzoxKQM3MzMzMeFJAZmZmZmZqWEAAAAAAAFxeQM3MzMzMJmJAmpmZmZkfZUBmZmZmZhhoQDMzMzMzEWtAAAAAAAAKbkBmZmZmZoFwQM3MzMzM/XFAMzMzMzN6c0CamZmZmfZ0QAAAAAAAc3ZAZmZmZmbvd0DNzMzMzGt5QDMzMzMz6HpAmpmZmZlkfEAAAAAAAOF9QGZmZmZmXX9AZmZmZuZsgECamZmZGSuBQM3MzMxM6YFAAAAAAICngkAzMzMzs2WDQGZmZmbmI4RAmpmZmRnihEDNzMzMTKCFQAAAAACAXoZAMzMzM7Mch0BmZmZm5tqHQJqZmZkZmYhAzczMzExXiUAAAAAAgBWKQDMzMzOz04pAZmZmZuaRi0CamZmZGVCMQM3MzMxMDo1AAAAAAIDMjUAzMzMzs4qOQGZmZmbmSI9A\",\"dtype\":\"float64\",\"shape\":[75]}},\"selected\":{\"id\":\"8b2fca7b-5972-483a-90cf-5842aabdacad\",\"type\":\"Selection\"},\"selection_policy\":{\"id\":\"f5b899ee-26d5-46cc-9a08-bd6c2fd26bff\",\"type\":\"UnionRenderers\"}},\"id\":\"ec51af42-b32d-4a3c-82ec-21909932cae7\",\"type\":\"ColumnDataSource\"},{\"attributes\":{\"callback\":null,\"data\":{\"x\":{\"__ndarray__\":\"Jbxw71za9L6bvkeaZgH1vtBmwNFEKfW+bEYTEnlY9b7oa4KIs5D1vrfxY+Pp1fW+PqbgkZQt9r4oSQTbX5/2vkwlZBrkNfe+IaZuyc//976PA5QXcBH5vp1KE+zThvq+iPR9Y6+G/L5yxiWpLUT/vtJoY1WaSwG/w/ZfQexZAr/Bu31qQQsBv4U2QNcK+fa+7+c2/f6f0D64CRs1WWAOP28f3NY7QCU/Ma1MEjwqNz+fK4FbaN5EPzTYfgRigks/BzdAoPr4Sz/6nYjvVKFJP9/c/PylFUU/j5nLMWI/Oz9G9lQck5sTP0sWgX87ITy/PUg49c1yU7+PSpyaZb1iv5i5oWoyqm6/XhyE3REFd7+C2tqISMmAv2R43TyE2oe/R/5M/NJUj789b4t78RqTv3zDdXOOjZa/9Kgeh8a1mb/uVWh2loabv6lXsN6/sZu/DBhzwy4Lm78oHrdi9ueZv0vEUXVsXZi/df21zlV5lr+KsRQV5keUvxWr5VKF1JG/a2/WMcVUjr8vMqu+jamIvyabIGJyx4K/SAO63taXeb+qOU7IjS1rv0oABPKmdTm/DIHdYt7gZD9vnX6Wx492Py29yloCaYE/s/vS/q6fhz8tzTFJ+u6NP/QAbPmuLJI/YORydy5wlT/2EhRTqsOYP0hQtUPnKJw/D7rLGPufnz9H/C986ZKhP0yvlRzsV6M/0w7id5ERpT8SencQraimP3l5ZdfwBqg/5QJO8eMoqT8y6eJ77iCqP355073mBqs/tub5mZvrqz938Md4itisPxQRr//70q0/\",\"dtype\":\"float64\",\"shape\":[75]},\"y\":{\"__ndarray__\":\"GhExyth1ND/Sv8nbtpRIP2vylNV0PVE/aTum7souWD/At0SJ8fVgPw3Iuahxymc/MSNhhJWvcD/bTfBN02d3P2zb5nxnaoA/CD5h5MAGhz8NmeH1TyaQP+zrCsc9p5Y/LbKd76fGnz/bLW5ISEmmPww9YvTcQq8/JV2OstnstT8Er5Y7M8G+P0c+r3jqkcU/5h99k6ZBzj88bCIzFzjVP4enV8oyxN0//yH99nXg5D8qOpLLf0jtP5kqGJXUifQ/c9cS8kHP/D+/DpwzojQEQIEmwoanVwxA4lgXt9HgE0BSSZ2AJuIbQAMJih9jjiNA5q4l5INuK0AwTKYKRj0zQNv5fmq8/DpAaCJseHrtQkB/+zpwzoxKQM3MzMzMeFJAZmZmZmZqWEAAAAAAAFxeQM3MzMzMJmJAmpmZmZkfZUBmZmZmZhhoQDMzMzMzEWtAAAAAAAAKbkBmZmZmZoFwQM3MzMzM/XFAMzMzMzN6c0CamZmZmfZ0QAAAAAAAc3ZAZmZmZmbvd0DNzMzMzGt5QDMzMzMz6HpAmpmZmZlkfEAAAAAAAOF9QGZmZmZmXX9AZmZmZuZsgECamZmZGSuBQM3MzMxM6YFAAAAAAICngkAzMzMzs2WDQGZmZmbmI4RAmpmZmRnihEDNzMzMTKCFQAAAAACAXoZAMzMzM7Mch0BmZmZm5tqHQJqZmZkZmYhAzczMzExXiUAAAAAAgBWKQDMzMzOz04pAZmZmZuaRi0CamZmZGVCMQM3MzMxMDo1AAAAAAIDMjUAzMzMzs4qOQGZmZmbmSI9A\",\"dtype\":\"float64\",\"shape\":[75]}},\"selected\":{\"id\":\"0a373af7-d705-4ad9-9b8a-d755bf7528e0\",\"type\":\"Selection\"},\"selection_policy\":{\"id\":\"e10526c9-52cd-474c-b55b-920876370147\",\"type\":\"UnionRenderers\"}},\"id\":\"72956799-af67-452e-823d-0c0affc13073\",\"type\":\"ColumnDataSource\"},{\"attributes\":{\"fill_alpha\":{\"value\":0.7},\"fill_color\":{\"value\":\"#377eb8\"},\"line_alpha\":{\"value\":0.7},\"line_color\":{\"value\":\"#377eb8\"},\"x\":{\"field\":\"x\"},\"y\":{\"field\":\"y\"}},\"id\":\"36316269-13a1-4647-9dc1-1d6d56cf169f\",\"type\":\"Triangle\"},{\"attributes\":{\"fill_alpha\":{\"value\":0.1},\"fill_color\":{\"value\":\"#1f77b4\"},\"line_alpha\":{\"value\":0.1},\"line_color\":{\"value\":\"#1f77b4\"},\"x\":{\"field\":\"x\"},\"y\":{\"field\":\"y\"}},\"id\":\"2a935c0c-e99e-498f-9eeb-67cf08d996f7\",\"type\":\"Triangle\"},{\"attributes\":{\"data_source\":{\"id\":\"ec51af42-b32d-4a3c-82ec-21909932cae7\",\"type\":\"ColumnDataSource\"},\"glyph\":{\"id\":\"36316269-13a1-4647-9dc1-1d6d56cf169f\",\"type\":\"Triangle\"},\"hover_glyph\":null,\"muted_glyph\":null,\"nonselection_glyph\":{\"id\":\"2a935c0c-e99e-498f-9eeb-67cf08d996f7\",\"type\":\"Triangle\"},\"selection_glyph\":null,\"view\":{\"id\":\"0def0b8a-8f3e-4552-9dcf-c4d0673ad077\",\"type\":\"CDSView\"}},\"id\":\"eb2288f9-1446-4124-9382-073b9c8dbe4f\",\"type\":\"GlyphRenderer\"},{\"attributes\":{\"source\":{\"id\":\"ec51af42-b32d-4a3c-82ec-21909932cae7\",\"type\":\"ColumnDataSource\"}},\"id\":\"0def0b8a-8f3e-4552-9dcf-c4d0673ad077\",\"type\":\"CDSView\"},{\"attributes\":{\"line_alpha\":0.3,\"line_color\":\"#377eb8\",\"line_width\":2,\"x\":{\"field\":\"x\"},\"y\":{\"field\":\"y\"}},\"id\":\"a7d4fadf-9b5b-4250-9908-00e1b45de3a4\",\"type\":\"Line\"},{\"attributes\":{\"children\":[{\"id\":\"eb42f807-8fd4-4be2-a12e-dfd4047d1fd4\",\"type\":\"Row\"}]},\"id\":\"d06e0873-280c-481b-ac7a-4f54e83ce8c7\",\"type\":\"Column\"},{\"attributes\":{\"line_alpha\":0.1,\"line_color\":\"#1f77b4\",\"line_width\":2,\"x\":{\"field\":\"x\"},\"y\":{\"field\":\"y\"}},\"id\":\"80fb042a-3cff-441c-8ca5-45e7c3ddf3cd\",\"type\":\"Line\"},{\"attributes\":{\"data_source\":{\"id\":\"72956799-af67-452e-823d-0c0affc13073\",\"type\":\"ColumnDataSource\"},\"glyph\":{\"id\":\"a7d4fadf-9b5b-4250-9908-00e1b45de3a4\",\"type\":\"Line\"},\"hover_glyph\":null,\"muted_glyph\":null,\"nonselection_glyph\":{\"id\":\"80fb042a-3cff-441c-8ca5-45e7c3ddf3cd\",\"type\":\"Line\"},\"selection_glyph\":null,\"view\":{\"id\":\"6e899fb7-82c3-47e3-a781-2843b2b80f38\",\"type\":\"CDSView\"}},\"id\":\"2675b3f3-2328-4972-93a0-269157de2885\",\"type\":\"GlyphRenderer\"},{\"attributes\":{\"source\":{\"id\":\"72956799-af67-452e-823d-0c0affc13073\",\"type\":\"ColumnDataSource\"}},\"id\":\"6e899fb7-82c3-47e3-a781-2843b2b80f38\",\"type\":\"CDSView\"},{\"attributes\":{\"plot\":null,\"text\":\"\"},\"id\":\"34682a49-1d21-469b-82f3-19ee69409ce3\",\"type\":\"Title\"},{\"attributes\":{\"children\":[{\"id\":\"6cbdf2d6-67f1-41ca-bd47-25dc10761c99\",\"subtype\":\"Figure\",\"type\":\"Plot\"},{\"id\":\"af8121cb-4915-446a-8bb3-f32818253cd1\",\"subtype\":\"Figure\",\"type\":\"Plot\"}]},\"id\":\"eb42f807-8fd4-4be2-a12e-dfd4047d1fd4\",\"type\":\"Row\"},{\"attributes\":{\"label\":{\"value\":\"CRD\"},\"renderers\":[{\"id\":\"6188066c-89c7-412e-9625-7d9525c4d7b0\",\"type\":\"GlyphRenderer\"},{\"id\":\"89f614a8-4bde-40d0-a9cb-366f8bcf0b4e\",\"type\":\"GlyphRenderer\"}]},\"id\":\"b0c0890a-c6fc-4d16-bc14-6ffe24f6918b\",\"type\":\"LegendItem\"},{\"attributes\":{},\"id\":\"90defd08-faf2-4f64-b8bc-4c61b0c66db2\",\"type\":\"Selection\"},{\"attributes\":{\"label\":{\"value\":\"WGT igg=1\"},\"renderers\":[{\"id\":\"2953ae40-622a-4f2d-a0c4-9652ef720137\",\"type\":\"GlyphRenderer\"},{\"id\":\"3ff1b0db-7bd3-4dd4-a74f-1b7f0755da3b\",\"type\":\"GlyphRenderer\"}]},\"id\":\"f7c41b16-b59e-4930-9654-08ff95e41720\",\"type\":\"LegendItem\"},{\"attributes\":{},\"id\":\"49300baa-f2ea-4620-b250-d2330dee6ab5\",\"type\":\"Selection\"},{\"attributes\":{\"label\":{\"value\":\"WGT igg=10\"},\"renderers\":[{\"id\":\"eb2288f9-1446-4124-9382-073b9c8dbe4f\",\"type\":\"GlyphRenderer\"},{\"id\":\"2675b3f3-2328-4972-93a0-269157de2885\",\"type\":\"GlyphRenderer\"}]},\"id\":\"ba516506-7bf4-4ca7-85bf-3d4c87551340\",\"type\":\"LegendItem\"},{\"attributes\":{},\"id\":\"44175deb-bbac-46f3-a421-ffbda8f17429\",\"type\":\"Selection\"},{\"attributes\":{},\"id\":\"29eab01a-13c2-4228-b3d0-d87936d6deeb\",\"type\":\"Selection\"},{\"attributes\":{},\"id\":\"8808790b-7531-4383-b74f-29ab3e8d0e32\",\"type\":\"BasicTickFormatter\"},{\"attributes\":{},\"id\":\"c7574205-bdec-4e79-89e7-5aae3e952444\",\"type\":\"BasicTickFormatter\"},{\"attributes\":{},\"id\":\"84d5d1dd-6b4e-49c9-ad5a-ae1460ec4758\",\"type\":\"UnionRenderers\"},{\"attributes\":{},\"id\":\"218573fe-59a6-4e01-9ad9-04da41f601e1\",\"type\":\"Selection\"},{\"attributes\":{},\"id\":\"7a45d871-d707-4419-9d95-34b5f8a69e1e\",\"type\":\"UnionRenderers\"},{\"attributes\":{},\"id\":\"fd2787e4-3ace-4bf7-87f2-5c04a8ed90cb\",\"type\":\"BasicTickFormatter\"},{\"attributes\":{\"toolbar\":{\"id\":\"98c4d039-45a0-4010-a73b-cc14676a53d7\",\"type\":\"ProxyToolbar\"},\"toolbar_location\":\"above\"},\"id\":\"8831d9c2-2dea-4d54-8314-18fd5e779cfc\",\"type\":\"ToolbarBox\"},{\"attributes\":{},\"id\":\"8055e97a-97da-472c-b949-1ef667a44f88\",\"type\":\"UnionRenderers\"},{\"attributes\":{},\"id\":\"a0898601-e79a-4faf-baf8-7bd421e5ec10\",\"type\":\"UnionRenderers\"},{\"attributes\":{},\"id\":\"a3e37135-81b7-46c6-a4db-a4dae605e948\",\"type\":\"UnionRenderers\"},{\"attributes\":{},\"id\":\"8b2fca7b-5972-483a-90cf-5842aabdacad\",\"type\":\"Selection\"},{\"attributes\":{},\"id\":\"f5b899ee-26d5-46cc-9a08-bd6c2fd26bff\",\"type\":\"UnionRenderers\"},{\"attributes\":{\"dimension\":1,\"plot\":{\"id\":\"af8121cb-4915-446a-8bb3-f32818253cd1\",\"subtype\":\"Figure\",\"type\":\"Plot\"},\"ticker\":{\"id\":\"494d24e9-68ce-4122-b5c7-522be3916dd0\",\"type\":\"LogTicker\"}},\"id\":\"0e4a9f83-1015-4e60-8ec2-736bb27e91c4\",\"type\":\"Grid\"},{\"attributes\":{},\"id\":\"0ef66a59-26b7-4acf-9f6f-4893e2a266db\",\"type\":\"Selection\"},{\"attributes\":{},\"id\":\"371102e3-8ff1-4bbb-8fc2-868baec233ce\",\"type\":\"UnionRenderers\"},{\"attributes\":{\"tools\":[{\"id\":\"ece7a442-16fb-43b0-8df9-f3660b8c4c65\",\"type\":\"PanTool\"},{\"id\":\"d705c5e7-6d9f-4722-9966-490c73b4b908\",\"type\":\"WheelZoomTool\"},{\"id\":\"ce946112-0c96-48a8-97c7-788b24a505bb\",\"type\":\"BoxZoomTool\"},{\"id\":\"bf7467fb-bb3f-44e4-a13b-249e139f9000\",\"type\":\"SaveTool\"},{\"id\":\"d997474f-c20b-4d4d-9f67-b398e1beead5\",\"type\":\"ResetTool\"},{\"id\":\"5f6abf9b-b19d-4d81-9c7a-079e66b1e0b4\",\"type\":\"HelpTool\"},{\"id\":\"cd1f0e08-2d28-4fa4-863a-0f19f0f67656\",\"type\":\"PanTool\"},{\"id\":\"e56429b7-60ee-4327-9ee4-b8f239b6697a\",\"type\":\"WheelZoomTool\"},{\"id\":\"1dc4e621-0525-4922-8e7c-93e996b99945\",\"type\":\"BoxZoomTool\"},{\"id\":\"a65e2733-55e9-49c2-9a9d-283f00ccd0c7\",\"type\":\"SaveTool\"},{\"id\":\"2e84da1d-2f19-4b9e-b2d8-e256a05208ea\",\"type\":\"ResetTool\"},{\"id\":\"1865c04a-4b9e-4bf0-8141-361ef1d7052d\",\"type\":\"HelpTool\"}]},\"id\":\"98c4d039-45a0-4010-a73b-cc14676a53d7\",\"type\":\"ProxyToolbar\"},{\"attributes\":{},\"id\":\"0a373af7-d705-4ad9-9b8a-d755bf7528e0\",\"type\":\"Selection\"},{\"attributes\":{},\"id\":\"e10526c9-52cd-474c-b55b-920876370147\",\"type\":\"UnionRenderers\"},{\"attributes\":{\"children\":[{\"id\":\"8831d9c2-2dea-4d54-8314-18fd5e779cfc\",\"type\":\"ToolbarBox\"},{\"id\":\"d06e0873-280c-481b-ac7a-4f54e83ce8c7\",\"type\":\"Column\"}]},\"id\":\"d6b9b8e9-f956-44ff-a9b0-36c4477032e5\",\"type\":\"Column\"},{\"attributes\":{},\"id\":\"888fd4f2-77d2-46e0-9594-4a6edda72b9f\",\"type\":\"Selection\"},{\"attributes\":{},\"id\":\"3c3f139b-481b-4535-94db-b1199b17fa3f\",\"type\":\"UnionRenderers\"},{\"attributes\":{\"callback\":null,\"end\":0.01,\"start\":1020},\"id\":\"df6d97b3-a74e-4596-bfcf-e487effbd2d4\",\"type\":\"Range1d\"},{\"attributes\":{\"num_minor_ticks\":10},\"id\":\"494d24e9-68ce-4122-b5c7-522be3916dd0\",\"type\":\"LogTicker\"},{\"attributes\":{},\"id\":\"5c5ff1f7-0e72-4665-b72d-663428bc032b\",\"type\":\"UnionRenderers\"},{\"attributes\":{\"data_source\":{\"id\":\"1dba4d7c-5f94-4d18-bb68-60a7c2c9fcd7\",\"type\":\"ColumnDataSource\"},\"glyph\":{\"id\":\"0d43b494-3566-4877-bf5b-c0265d913c7c\",\"type\":\"Circle\"},\"hover_glyph\":null,\"muted_glyph\":null,\"nonselection_glyph\":{\"id\":\"11465c0d-f31f-4dfb-b0a3-81a48d9dc30a\",\"type\":\"Circle\"},\"selection_glyph\":null,\"view\":{\"id\":\"6d511ec9-8c1c-42c1-848c-2516c9f933a0\",\"type\":\"CDSView\"}},\"id\":\"606a73b9-7203-45cd-be26-c50cf4ef96c7\",\"type\":\"GlyphRenderer\"},{\"attributes\":{\"fill_alpha\":{\"value\":0.1},\"fill_color\":{\"value\":\"#1f77b4\"},\"line_alpha\":{\"value\":0.1},\"line_color\":{\"value\":\"#1f77b4\"},\"x\":{\"field\":\"x\"},\"y\":{\"field\":\"y\"}},\"id\":\"11465c0d-f31f-4dfb-b0a3-81a48d9dc30a\",\"type\":\"Circle\"},{\"attributes\":{\"bottom_units\":\"screen\",\"fill_alpha\":{\"value\":0.5},\"fill_color\":{\"value\":\"lightgrey\"},\"left_units\":\"screen\",\"level\":\"overlay\",\"line_alpha\":{\"value\":1.0},\"line_color\":{\"value\":\"black\"},\"line_dash\":[4,4],\"line_width\":{\"value\":2},\"plot\":null,\"render_mode\":\"css\",\"right_units\":\"screen\",\"top_units\":\"screen\"},\"id\":\"06b088cf-7cff-4959-b1f6-57442b1c0fa7\",\"type\":\"BoxAnnotation\"},{\"attributes\":{\"callback\":null,\"data\":{\"x\":{\"__ndarray__\":\"yKqo/SBt975cUGumMIn3viKkUGOXofe+LIoeKNq3977/nazw+833vgM6qF836ve+ExUBiwYL+L7g5Lc9yDL4vqhH5eY1ZPi+BbEvwk6j+L74hi7JZ/X4vodIlcU0Yfm+KYJIE4nv+b75Hc9LF6j6vlP0aTAa8Pq+86NSSqHp975L9WJJl0DpvnDd6+V8peg+itBhHeG+Dj8LhUxVgSojPyfqf9PY8jM/EiuR9zIZQz8IHrIqHEFQP8Dn7IXHnFU/dTKhmxeNVz9XBkTtn2xYP741/OPH3Fg/QrbRXAW6WD9+aCMtTuJXP3tu3kUKr1U/h+yYx1W9UD9tS3utK9c+P7jXJ33dZzO/RUqbuIFsVb+6clBjtrRnv7ik7Reo13W/5GIdanqZgL9u/R8gkjOGv4djixQypoy/Gzwt7iiWkb8D2p+JhWGTv64Mqg1ORJO/6BprIfZ5kr+zVwZy3GuRv6hvIsXDJZC/+QFmwzxZjb8M9b5oxAmKv27jr8ZiZoa/YIFdxdF5gr8HUYtBH6V8v2V7SfTNFXS/KhI+nWz4Zr+YDnFYotpHvyR+BzcAuFU/x2AxIeC0az+bu66/a2d2P4ufqrHpKX8/MZRLl4kYhD8H3e59W8SIPzfBRHehnY0/ucKaTttUkT87XV/pUfiTP/gb0WOyvZY/gVZ3ZGComT/Td7T6tbicP6zRYXQv5p8/cOO2gEeJoT8dakbMDQKjP3r8IMMRQaQ/j9FBZH9DpT+mz5LwUiSmP+yXUg6bBac/sYgLh3gAqD+nkjSRLyepP9GeW4Bnj6o/\",\"dtype\":\"float64\",\"shape\":[75]},\"y\":{\"__ndarray__\":\"GhExyth1ND/Sv8nbtpRIP2vylNV0PVE/aTum7souWD/At0SJ8fVgPw3Iuahxymc/MSNhhJWvcD/bTfBN02d3P2zb5nxnaoA/CD5h5MAGhz8NmeH1TyaQP+zrCsc9p5Y/LbKd76fGnz/bLW5ISEmmPww9YvTcQq8/JV2OstnstT8Er5Y7M8G+P0c+r3jqkcU/5h99k6ZBzj88bCIzFzjVP4enV8oyxN0//yH99nXg5D8qOpLLf0jtP5kqGJXUifQ/c9cS8kHP/D+/DpwzojQEQIEmwoanVwxA4lgXt9HgE0BSSZ2AJuIbQAMJih9jjiNA5q4l5INuK0AwTKYKRj0zQNv5fmq8/DpAaCJseHrtQkB/+zpwzoxKQM3MzMzMeFJAZmZmZmZqWEAAAAAAAFxeQM3MzMzMJmJAmpmZmZkfZUBmZmZmZhhoQDMzMzMzEWtAAAAAAAAKbkBmZmZmZoFwQM3MzMzM/XFAMzMzMzN6c0CamZmZmfZ0QAAAAAAAc3ZAZmZmZmbvd0DNzMzMzGt5QDMzMzMz6HpAmpmZmZlkfEAAAAAAAOF9QGZmZmZmXX9AZmZmZuZsgECamZmZGSuBQM3MzMxM6YFAAAAAAICngkAzMzMzs2WDQGZmZmbmI4RAmpmZmRnihEDNzMzMTKCFQAAAAACAXoZAMzMzM7Mch0BmZmZm5tqHQJqZmZkZmYhAzczMzExXiUAAAAAAgBWKQDMzMzOz04pAZmZmZuaRi0CamZmZGVCMQM3MzMxMDo1AAAAAAIDMjUAzMzMzs4qOQGZmZmbmSI9A\",\"dtype\":\"float64\",\"shape\":[75]}},\"selected\":{\"id\":\"49300baa-f2ea-4620-b250-d2330dee6ab5\",\"type\":\"Selection\"},\"selection_policy\":{\"id\":\"7a45d871-d707-4419-9d95-34b5f8a69e1e\",\"type\":\"UnionRenderers\"}},\"id\":\"8a343f36-05d8-412e-90cd-fe0b2e31618f\",\"type\":\"ColumnDataSource\"},{\"attributes\":{\"fill_alpha\":{\"value\":0.7},\"fill_color\":{\"value\":\"#4daf4a\"},\"line_alpha\":{\"value\":0.7},\"line_color\":{\"value\":\"#4daf4a\"},\"x\":{\"field\":\"x\"},\"y\":{\"field\":\"y\"}},\"id\":\"0d43b494-3566-4877-bf5b-c0265d913c7c\",\"type\":\"Circle\"},{\"attributes\":{\"callback\":null,\"data\":{\"x\":{\"__ndarray__\":\"yKqo/SBt975cUGumMIn3viKkUGOXofe+LIoeKNq3977/nazw+833vgM6qF836ve+ExUBiwYL+L7g5Lc9yDL4vqhH5eY1ZPi+BbEvwk6j+L74hi7JZ/X4vodIlcU0Yfm+KYJIE4nv+b75Hc9LF6j6vlP0aTAa8Pq+86NSSqHp975L9WJJl0DpvnDd6+V8peg+itBhHeG+Dj8LhUxVgSojPyfqf9PY8jM/EiuR9zIZQz8IHrIqHEFQP8Dn7IXHnFU/dTKhmxeNVz9XBkTtn2xYP741/OPH3Fg/QrbRXAW6WD9+aCMtTuJXP3tu3kUKr1U/h+yYx1W9UD9tS3utK9c+P7jXJ33dZzO/RUqbuIFsVb+6clBjtrRnv7ik7Reo13W/5GIdanqZgL9u/R8gkjOGv4djixQypoy/Gzwt7iiWkb8D2p+JhWGTv64Mqg1ORJO/6BprIfZ5kr+zVwZy3GuRv6hvIsXDJZC/+QFmwzxZjb8M9b5oxAmKv27jr8ZiZoa/YIFdxdF5gr8HUYtBH6V8v2V7SfTNFXS/KhI+nWz4Zr+YDnFYotpHvyR+BzcAuFU/x2AxIeC0az+bu66/a2d2P4ufqrHpKX8/MZRLl4kYhD8H3e59W8SIPzfBRHehnY0/ucKaTttUkT87XV/pUfiTP/gb0WOyvZY/gVZ3ZGComT/Td7T6tbicP6zRYXQv5p8/cOO2gEeJoT8dakbMDQKjP3r8IMMRQaQ/j9FBZH9DpT+mz5LwUiSmP+yXUg6bBac/sYgLh3gAqD+nkjSRLyepP9GeW4Bnj6o/\",\"dtype\":\"float64\",\"shape\":[75]},\"y\":{\"__ndarray__\":\"GhExyth1ND/Sv8nbtpRIP2vylNV0PVE/aTum7souWD/At0SJ8fVgPw3Iuahxymc/MSNhhJWvcD/bTfBN02d3P2zb5nxnaoA/CD5h5MAGhz8NmeH1TyaQP+zrCsc9p5Y/LbKd76fGnz/bLW5ISEmmPww9YvTcQq8/JV2OstnstT8Er5Y7M8G+P0c+r3jqkcU/5h99k6ZBzj88bCIzFzjVP4enV8oyxN0//yH99nXg5D8qOpLLf0jtP5kqGJXUifQ/c9cS8kHP/D+/DpwzojQEQIEmwoanVwxA4lgXt9HgE0BSSZ2AJuIbQAMJih9jjiNA5q4l5INuK0AwTKYKRj0zQNv5fmq8/DpAaCJseHrtQkB/+zpwzoxKQM3MzMzMeFJAZmZmZmZqWEAAAAAAAFxeQM3MzMzMJmJAmpmZmZkfZUBmZmZmZhhoQDMzMzMzEWtAAAAAAAAKbkBmZmZmZoFwQM3MzMzM/XFAMzMzMzN6c0CamZmZmfZ0QAAAAAAAc3ZAZmZmZmbvd0DNzMzMzGt5QDMzMzMz6HpAmpmZmZlkfEAAAAAAAOF9QGZmZmZmXX9AZmZmZuZsgECamZmZGSuBQM3MzMxM6YFAAAAAAICngkAzMzMzs2WDQGZmZmbmI4RAmpmZmRnihEDNzMzMTKCFQAAAAACAXoZAMzMzM7Mch0BmZmZm5tqHQJqZmZkZmYhAzczMzExXiUAAAAAAgBWKQDMzMzOz04pAZmZmZuaRi0CamZmZGVCMQM3MzMxMDo1AAAAAAIDMjUAzMzMzs4qOQGZmZmbmSI9A\",\"dtype\":\"float64\",\"shape\":[75]}},\"selected\":{\"id\":\"29eab01a-13c2-4228-b3d0-d87936d6deeb\",\"type\":\"Selection\"},\"selection_policy\":{\"id\":\"84d5d1dd-6b4e-49c9-ad5a-ae1460ec4758\",\"type\":\"UnionRenderers\"}},\"id\":\"1dba4d7c-5f94-4d18-bb68-60a7c2c9fcd7\",\"type\":\"ColumnDataSource\"}],\"root_ids\":[\"d6b9b8e9-f956-44ff-a9b0-36c4477032e5\"]},\"title\":\"Bokeh Application\",\"version\":\"0.12.16\"}};\n",
       "  var render_items = [{\"docid\":\"101cf251-c276-40c4-b2a9-303b79ddb19c\",\"elementid\":\"2064e3fa-76f4-46ca-9b9e-1e2f74154e60\",\"modelid\":\"d6b9b8e9-f956-44ff-a9b0-36c4477032e5\"}];\n",
       "  root.Bokeh.embed.embed_items_notebook(docs_json, render_items);\n",
       "\n",
       "  }\n",
       "  if (root.Bokeh !== undefined) {\n",
       "    embed_document(root);\n",
       "  } else {\n",
       "    var attempts = 0;\n",
       "    var timer = setInterval(function(root) {\n",
       "      if (root.Bokeh !== undefined) {\n",
       "        embed_document(root);\n",
       "        clearInterval(timer);\n",
       "      }\n",
       "      attempts++;\n",
       "      if (attempts > 100) {\n",
       "        console.log(\"Bokeh: ERROR: Unable to run BokehJS code because BokehJS library is missing\")\n",
       "        clearInterval(timer);\n",
       "      }\n",
       "    }, 10, root)\n",
       "  }\n",
       "})(window);"
      ],
      "application/vnd.bokehjs_exec.v0+json": ""
     },
     "metadata": {
      "application/vnd.bokehjs_exec.v0+json": {
       "id": "d6b9b8e9-f956-44ff-a9b0-36c4477032e5"
      }
     },
     "output_type": "display_data"
    },
    {
     "data": {
      "text/markdown": [
       "*FIGURE.* Cooling rates. g=3"
      ],
      "text/plain": [
       "<IPython.core.display.Markdown object>"
      ]
     },
     "metadata": {},
     "output_type": "display_data"
    },
    {
     "data": {
      "text/html": [
       "\n",
       "<div class=\"bk-root\">\n",
       "    <div class=\"bk-plotdiv\" id=\"b2c5835c-5dfc-4d42-9a73-6e05fa1445e8\"></div>\n",
       "</div>"
      ]
     },
     "metadata": {},
     "output_type": "display_data"
    },
    {
     "data": {
      "application/javascript": [
       "(function(root) {\n",
       "  function embed_document(root) {\n",
       "    \n",
       "  var docs_json = {\"5f526231-f699-4ab0-b371-621649bec407\":{\"roots\":{\"references\":[{\"attributes\":{\"callback\":null,\"data\":{\"x\":{\"__ndarray__\":\"eSBkWvZpTL+qyUfjNGpMv70Wt0/maUy/DeDu+MpoTL/ixXSt4mZMv/2PzOI+ZEy/WuO/DfNgTL/IKyOHsVxMv8AwVQajV0y/BLak1sRRTL8mub/FL0tMv143qre3Q0y/Tt6cmt86TL+bE29qujBMv2h3MHClCEy/p3eXABxTS7/wFwTMVlZJvyojje7nkEW/Ryl1Ot5CPr9kfic0kuwiv6JHO+Ii1zY/eWqVYynHUT+bm9yXBhFfP7SjYKEpD2A/93YoGo37VD8qAQBML5lDP6li0mDvnRM/hiWFr9m6M79w6dAosmBCv4WAybx/e0i/opub8RVMTb98QEtY1bJQvz04oc2/j1K/R3r8lqyOVL9o2tKn9BNXv4v2Z6ylU1q/0VZZp0fkXb8heBAEzq5gvyLsEM5SamK/OA9pTG8cZL8MNES6RJplvzAP0+bKrGa/IxjYOX5OZ7/LBqn9VYVnv/MFkSohT2e/dm8qMnioZr8jvzREEo9lv0fhlmndAWS/hbbGpqgBYr+f0Lc5GCBfvxmj7dAba1m/KVIT3bD2Ur+3A5aW5aVHvxHXw6q9HTC/+w2OJMKtMT/6JXTWEhBLPyKdSAszT1c/dHVLmz/gYD9YRr7hMm1mPzEuEN5JTWw/CyYZWfQ+cT9BwCjp6350P1Q55QEQ5nc/DN1FyNtyez9alSag5yF/P304pK+pdYE/QHz7m5legz/9b9b0YTyFP6JrxGsV/4Y/6+jRt3mhiD8uE4/V9yuKP7L7p35Sq4s/oamurtAojT9NlxQLu6mOPz4FN4eoGJA/\",\"dtype\":\"float64\",\"shape\":[75]},\"y\":{\"__ndarray__\":\"GhExyth1ND/Sv8nbtpRIP2vylNV0PVE/aTum7souWD/At0SJ8fVgPw3Iuahxymc/MSNhhJWvcD/bTfBN02d3P2zb5nxnaoA/CD5h5MAGhz8NmeH1TyaQP+zrCsc9p5Y/LbKd76fGnz/bLW5ISEmmPww9YvTcQq8/JV2OstnstT8Er5Y7M8G+P0c+r3jqkcU/5h99k6ZBzj88bCIzFzjVP4enV8oyxN0//yH99nXg5D8qOpLLf0jtP5kqGJXUifQ/c9cS8kHP/D+/DpwzojQEQIEmwoanVwxA4lgXt9HgE0BSSZ2AJuIbQAMJih9jjiNA5q4l5INuK0AwTKYKRj0zQNv5fmq8/DpAaCJseHrtQkB/+zpwzoxKQM3MzMzMeFJAZmZmZmZqWEAAAAAAAFxeQM3MzMzMJmJAmpmZmZkfZUBmZmZmZhhoQDMzMzMzEWtAAAAAAAAKbkBmZmZmZoFwQM3MzMzM/XFAMzMzMzN6c0CamZmZmfZ0QAAAAAAAc3ZAZmZmZmbvd0DNzMzMzGt5QDMzMzMz6HpAmpmZmZlkfEAAAAAAAOF9QGZmZmZmXX9AZmZmZuZsgECamZmZGSuBQM3MzMxM6YFAAAAAAICngkAzMzMzs2WDQGZmZmbmI4RAmpmZmRnihEDNzMzMTKCFQAAAAACAXoZAMzMzM7Mch0BmZmZm5tqHQJqZmZkZmYhAzczMzExXiUAAAAAAgBWKQDMzMzOz04pAZmZmZuaRi0CamZmZGVCMQM3MzMxMDo1AAAAAAIDMjUAzMzMzs4qOQGZmZmbmSI9A\",\"dtype\":\"float64\",\"shape\":[75]}},\"selected\":{\"id\":\"2b2f8ded-ae24-40eb-a70d-8d279323ce74\",\"type\":\"Selection\"},\"selection_policy\":{\"id\":\"025e32b3-b2e6-4d65-ac85-77353a04fea9\",\"type\":\"UnionRenderers\"}},\"id\":\"185e7e5a-a25d-4e6e-9446-1c7eadc579ef\",\"type\":\"ColumnDataSource\"},{\"attributes\":{},\"id\":\"f08ed798-41c2-4a48-9529-d735e3860c7a\",\"type\":\"Selection\"},{\"attributes\":{},\"id\":\"d9adff57-f93d-4747-ba80-8303e6cf47d7\",\"type\":\"HelpTool\"},{\"attributes\":{\"dimension\":1,\"plot\":{\"id\":\"64f50483-ccf4-429a-967a-c620d5c2364f\",\"subtype\":\"Figure\",\"type\":\"Plot\"},\"ticker\":{\"id\":\"94d57930-aeb7-4a8c-8074-824f67478e29\",\"type\":\"LogTicker\"}},\"id\":\"4f8f7787-0c54-41bb-9342-0648fc40e7bd\",\"type\":\"Grid\"},{\"attributes\":{\"fill_alpha\":{\"value\":0.7},\"fill_color\":{\"value\":\"#4daf4a\"},\"line_alpha\":{\"value\":0.7},\"line_color\":{\"value\":\"#4daf4a\"},\"x\":{\"field\":\"x\"},\"y\":{\"field\":\"y\"}},\"id\":\"93353cc8-68a8-4ab3-b92c-20177edb18d1\",\"type\":\"Circle\"},{\"attributes\":{\"line_color\":\"#4daf4a\",\"line_width\":1.5,\"x\":{\"field\":\"x\"},\"y\":{\"field\":\"y\"}},\"id\":\"ce2cc95d-e2cf-4ec7-8262-9035ee4eff26\",\"type\":\"Line\"},{\"attributes\":{\"num_minor_ticks\":10},\"id\":\"94d57930-aeb7-4a8c-8074-824f67478e29\",\"type\":\"LogTicker\"},{\"attributes\":{\"axis_label\":\"pressure [mb]\",\"formatter\":{\"id\":\"49e8862a-3916-4a07-9871-383f118228fb\",\"type\":\"LogTickFormatter\"},\"plot\":{\"id\":\"64f50483-ccf4-429a-967a-c620d5c2364f\",\"subtype\":\"Figure\",\"type\":\"Plot\"},\"ticker\":{\"id\":\"94d57930-aeb7-4a8c-8074-824f67478e29\",\"type\":\"LogTicker\"}},\"id\":\"1464e679-ace3-4d33-97dd-c1d8b29b0bb2\",\"type\":\"LogAxis\"},{\"attributes\":{\"source\":{\"id\":\"185e7e5a-a25d-4e6e-9446-1c7eadc579ef\",\"type\":\"ColumnDataSource\"}},\"id\":\"ce29ceba-8e28-402f-8e14-0b879e9849e7\",\"type\":\"CDSView\"},{\"attributes\":{\"callback\":null,\"data\":{\"x\":{\"__ndarray__\":\"eSBkWvZpTL+qyUfjNGpMv70Wt0/maUy/DeDu+MpoTL/ixXSt4mZMv/2PzOI+ZEy/WuO/DfNgTL/IKyOHsVxMv8AwVQajV0y/BLak1sRRTL8mub/FL0tMv143qre3Q0y/Tt6cmt86TL+bE29qujBMv2h3MHClCEy/p3eXABxTS7/wFwTMVlZJvyojje7nkEW/Ryl1Ot5CPr9kfic0kuwiv6JHO+Ii1zY/eWqVYynHUT+bm9yXBhFfP7SjYKEpD2A/93YoGo37VD8qAQBML5lDP6li0mDvnRM/hiWFr9m6M79w6dAosmBCv4WAybx/e0i/opub8RVMTb98QEtY1bJQvz04oc2/j1K/R3r8lqyOVL9o2tKn9BNXv4v2Z6ylU1q/0VZZp0fkXb8heBAEzq5gvyLsEM5SamK/OA9pTG8cZL8MNES6RJplvzAP0+bKrGa/IxjYOX5OZ7/LBqn9VYVnv/MFkSohT2e/dm8qMnioZr8jvzREEo9lv0fhlmndAWS/hbbGpqgBYr+f0Lc5GCBfvxmj7dAba1m/KVIT3bD2Ur+3A5aW5aVHvxHXw6q9HTC/+w2OJMKtMT/6JXTWEhBLPyKdSAszT1c/dHVLmz/gYD9YRr7hMm1mPzEuEN5JTWw/CyYZWfQ+cT9BwCjp6350P1Q55QEQ5nc/DN1FyNtyez9alSag5yF/P304pK+pdYE/QHz7m5legz/9b9b0YTyFP6JrxGsV/4Y/6+jRt3mhiD8uE4/V9yuKP7L7p35Sq4s/oamurtAojT9NlxQLu6mOPz4FN4eoGJA/\",\"dtype\":\"float64\",\"shape\":[75]},\"y\":{\"__ndarray__\":\"GhExyth1ND/Sv8nbtpRIP2vylNV0PVE/aTum7souWD/At0SJ8fVgPw3Iuahxymc/MSNhhJWvcD/bTfBN02d3P2zb5nxnaoA/CD5h5MAGhz8NmeH1TyaQP+zrCsc9p5Y/LbKd76fGnz/bLW5ISEmmPww9YvTcQq8/JV2OstnstT8Er5Y7M8G+P0c+r3jqkcU/5h99k6ZBzj88bCIzFzjVP4enV8oyxN0//yH99nXg5D8qOpLLf0jtP5kqGJXUifQ/c9cS8kHP/D+/DpwzojQEQIEmwoanVwxA4lgXt9HgE0BSSZ2AJuIbQAMJih9jjiNA5q4l5INuK0AwTKYKRj0zQNv5fmq8/DpAaCJseHrtQkB/+zpwzoxKQM3MzMzMeFJAZmZmZmZqWEAAAAAAAFxeQM3MzMzMJmJAmpmZmZkfZUBmZmZmZhhoQDMzMzMzEWtAAAAAAAAKbkBmZmZmZoFwQM3MzMzM/XFAMzMzMzN6c0CamZmZmfZ0QAAAAAAAc3ZAZmZmZmbvd0DNzMzMzGt5QDMzMzMz6HpAmpmZmZlkfEAAAAAAAOF9QGZmZmZmXX9AZmZmZuZsgECamZmZGSuBQM3MzMxM6YFAAAAAAICngkAzMzMzs2WDQGZmZmbmI4RAmpmZmRnihEDNzMzMTKCFQAAAAACAXoZAMzMzM7Mch0BmZmZm5tqHQJqZmZkZmYhAzczMzExXiUAAAAAAgBWKQDMzMzOz04pAZmZmZuaRi0CamZmZGVCMQM3MzMxMDo1AAAAAAIDMjUAzMzMzs4qOQGZmZmbmSI9A\",\"dtype\":\"float64\",\"shape\":[75]}},\"selected\":{\"id\":\"3ab1f365-ce45-402e-9f3a-2ac7e03ac808\",\"type\":\"Selection\"},\"selection_policy\":{\"id\":\"a0f91b94-d858-44a1-aae9-34b3210c5e6d\",\"type\":\"UnionRenderers\"}},\"id\":\"5ee3a94d-0f9e-4f73-8bd2-02f87cf8d9ed\",\"type\":\"ColumnDataSource\"},{\"attributes\":{\"callback\":null,\"data\":{\"x\":{\"__ndarray__\":\"8Loau639UL/5m4lXBABRv58KsZvWBFG/evEVi8UJUb/O2uyWhA5RvzurFmsQE1G/h2f3l2UXUb/40tPAgRtRvz0w5PZiH1G/LOLjLwcjUb8bCm90bSZRv7SG6buWKVG/1bSRR4UsUb9i/ngRYC9RvwUKZbeQNFG/X1ze6OAqUb9IjBMgQMZQv86kuWLUgU+/SDUuFJeAS78ib64EbXxEv30CNiCEAzK//hJdZJCHMT/Lstl8I9dMP4Cy7Xcxtk4/fmQ7V/iNPD/a/G3z3VoQv5AQmQjbnzy/dCgKhsjoRr8izJivdK5Mv/rxJJznXlC/TQcAwAn7Ub+frSF+J2lTvzDljd1P11S/jYgShw2KVr/YGSDGJNJYvwEOtpz431u/SCtxN6VQX7+wrMZnsVphvwkfONEoCWO/NaN8EGSuZL+tDsQeyC1mvzypNgUgWGe/YPkeNz0daL+ZlMvWJH5ovy5/jqsid2i/bs1u1m0DaL/jFBk1UR9nv2laSFpPyGW/SaPQWlv9Y78pb0U3Ar5hvz4bIZveIF6/rBwEZIL2V79K5hvEXAhRv7J3nAMat0K/ZprldFnnDb/l4GCpbH5APwvotJgnMVI/sUnBBafmXD9dh27eRi9kP4//S2BWS2o/ojHMLnxicD/MfJOfPs1zP2yVe6FCZXc/AC9j7skoez9JMpUAaBR/P4PRXJNkkIE/w2rgiQifgz9bUHoHwaiFP+FmPfGmn4c/QTYSZq9+iT8uwZUrPUyLP8zekTJbEo0/SCBEgyvYjj8vm8Fer1CQP55OaEjLN5E/\",\"dtype\":\"float64\",\"shape\":[75]},\"y\":{\"__ndarray__\":\"GhExyth1ND/Sv8nbtpRIP2vylNV0PVE/aTum7souWD/At0SJ8fVgPw3Iuahxymc/MSNhhJWvcD/bTfBN02d3P2zb5nxnaoA/CD5h5MAGhz8NmeH1TyaQP+zrCsc9p5Y/LbKd76fGnz/bLW5ISEmmPww9YvTcQq8/JV2OstnstT8Er5Y7M8G+P0c+r3jqkcU/5h99k6ZBzj88bCIzFzjVP4enV8oyxN0//yH99nXg5D8qOpLLf0jtP5kqGJXUifQ/c9cS8kHP/D+/DpwzojQEQIEmwoanVwxA4lgXt9HgE0BSSZ2AJuIbQAMJih9jjiNA5q4l5INuK0AwTKYKRj0zQNv5fmq8/DpAaCJseHrtQkB/+zpwzoxKQM3MzMzMeFJAZmZmZmZqWEAAAAAAAFxeQM3MzMzMJmJAmpmZmZkfZUBmZmZmZhhoQDMzMzMzEWtAAAAAAAAKbkBmZmZmZoFwQM3MzMzM/XFAMzMzMzN6c0CamZmZmfZ0QAAAAAAAc3ZAZmZmZmbvd0DNzMzMzGt5QDMzMzMz6HpAmpmZmZlkfEAAAAAAAOF9QGZmZmZmXX9AZmZmZuZsgECamZmZGSuBQM3MzMxM6YFAAAAAAICngkAzMzMzs2WDQGZmZmbmI4RAmpmZmRnihEDNzMzMTKCFQAAAAACAXoZAMzMzM7Mch0BmZmZm5tqHQJqZmZkZmYhAzczMzExXiUAAAAAAgBWKQDMzMzOz04pAZmZmZuaRi0CamZmZGVCMQM3MzMxMDo1AAAAAAIDMjUAzMzMzs4qOQGZmZmbmSI9A\",\"dtype\":\"float64\",\"shape\":[75]}},\"selected\":{\"id\":\"fd65f0fb-d332-46ba-b377-5eeee2385634\",\"type\":\"Selection\"},\"selection_policy\":{\"id\":\"37671681-0754-4203-b42c-a0c2c0a6ef3a\",\"type\":\"UnionRenderers\"}},\"id\":\"88e5c891-1d98-40bf-9111-0424941d097f\",\"type\":\"ColumnDataSource\"},{\"attributes\":{\"fill_alpha\":{\"value\":0.1},\"fill_color\":{\"value\":\"#1f77b4\"},\"line_alpha\":{\"value\":0.1},\"line_color\":{\"value\":\"#1f77b4\"},\"x\":{\"field\":\"x\"},\"y\":{\"field\":\"y\"}},\"id\":\"bf35ecdc-e175-4339-8643-ad9ddb97104e\",\"type\":\"Triangle\"},{\"attributes\":{\"data_source\":{\"id\":\"6df3b38d-a581-4ee4-b632-3fa4ceb4256d\",\"type\":\"ColumnDataSource\"},\"glyph\":{\"id\":\"bccdaed7-f1dd-446c-9cf5-47f5d005435c\",\"type\":\"Triangle\"},\"hover_glyph\":null,\"muted_glyph\":null,\"nonselection_glyph\":{\"id\":\"bf35ecdc-e175-4339-8643-ad9ddb97104e\",\"type\":\"Triangle\"},\"selection_glyph\":null,\"view\":{\"id\":\"4e3ef6ed-156b-497e-94a8-571dce822942\",\"type\":\"CDSView\"}},\"id\":\"cf35a67b-87b1-466d-abd1-a4e1787f9149\",\"type\":\"GlyphRenderer\"},{\"attributes\":{\"source\":{\"id\":\"6df3b38d-a581-4ee4-b632-3fa4ceb4256d\",\"type\":\"ColumnDataSource\"}},\"id\":\"4e3ef6ed-156b-497e-94a8-571dce822942\",\"type\":\"CDSView\"},{\"attributes\":{\"line_alpha\":0.3,\"line_color\":\"#377eb8\",\"line_width\":2,\"x\":{\"field\":\"x\"},\"y\":{\"field\":\"y\"}},\"id\":\"b2431e65-016f-4339-b93b-367c3efdc287\",\"type\":\"Line\"},{\"attributes\":{\"children\":[{\"id\":\"eaa0be78-49b4-4db9-be3a-18c8a94314bd\",\"type\":\"Row\"}]},\"id\":\"6035d4fc-d2a2-440d-9327-ac0185a2310e\",\"type\":\"Column\"},{\"attributes\":{\"callback\":null,\"end\":0.01,\"start\":1020},\"id\":\"1775368b-498c-40e4-898b-1959f1c49016\",\"type\":\"Range1d\"},{\"attributes\":{\"line_alpha\":0.1,\"line_color\":\"#1f77b4\",\"line_width\":2,\"x\":{\"field\":\"x\"},\"y\":{\"field\":\"y\"}},\"id\":\"b9d4bc78-dfa5-4a66-886f-25ca6fc6cad5\",\"type\":\"Line\"},{\"attributes\":{\"data_source\":{\"id\":\"88e5c891-1d98-40bf-9111-0424941d097f\",\"type\":\"ColumnDataSource\"},\"glyph\":{\"id\":\"b2431e65-016f-4339-b93b-367c3efdc287\",\"type\":\"Line\"},\"hover_glyph\":null,\"muted_glyph\":null,\"nonselection_glyph\":{\"id\":\"b9d4bc78-dfa5-4a66-886f-25ca6fc6cad5\",\"type\":\"Line\"},\"selection_glyph\":null,\"view\":{\"id\":\"577d2bc1-6549-4f7d-a42b-18daf782e520\",\"type\":\"CDSView\"}},\"id\":\"4fc3d3b2-f05e-4a93-94c6-1cbb9cdb43fe\",\"type\":\"GlyphRenderer\"},{\"attributes\":{\"line_color\":\"#4daf4a\",\"line_width\":1.5,\"x\":{\"field\":\"x\"},\"y\":{\"field\":\"y\"}},\"id\":\"2a55653b-c7e8-49d1-a0a1-9d1edc6b06fd\",\"type\":\"Line\"},{\"attributes\":{\"source\":{\"id\":\"88e5c891-1d98-40bf-9111-0424941d097f\",\"type\":\"ColumnDataSource\"}},\"id\":\"577d2bc1-6549-4f7d-a42b-18daf782e520\",\"type\":\"CDSView\"},{\"attributes\":{\"plot\":null,\"text\":\"\"},\"id\":\"8cfac78b-8df6-400b-bbf0-7c50953928ce\",\"type\":\"Title\"},{\"attributes\":{\"callback\":null,\"data\":{\"x\":{\"__ndarray__\":\"nPVlBVgGUr/8hunBdAhSv9FlfxvIDFK/vbXcMSYRUr9BFb/xShVSv6DKqdgxGVK/LHp3ydccUr84yAKnOSBSvzKYE/lUI1K/7UxltScmUr80aB2SsChSv7ypNcbvKlK/Fi7myecsUr8xeE2NrS5Sv7LpDeI/MFK/FJy6bmoZUr+2CGZ3ipZRv5JPuEv3XVC/F9EjMM0WTL/7KDAlcBREv6CtYKDDZyy/ILQKe7m9OT+OVcABkaxRP6MHAsg3uVI/cjqGtvMRQz99jfxlLsz4PpQTXroTCzq/bmrfGzm6Rr9VKg7N60VNv+27L9nC9FC/BuvffEHHUr+fFx8Ec2RUvyZOm+be+VW/SKwlGi3SV78GHqRXpkdav7QIalQ+jV2/MxRtSlaeYL9QE7Oe3mxiv4kHqHq/O2S/jG8ZCGr+Zb9AYFGRS6Nnv7N1nugi1Gi/n4O10QOWab+ORLe4sPBpv0Lg7ApJ42m/tOfh7Qleab9O+k87m1Vovw+m5zFY3ma/wqHYhmHyZL+Vrdk5MndivwkOmNkBPV+/c4VHgHKSWL8KyFqkiS5Rv7G4nhuWCEK/C4UnWxIxzL7RLWwp805DP1arKggiKlQ/fkJHgbZ7Xz9zlf9sSsJlP8dAf+I+OWw/dHKE4WN9cT8+wTFLQxR1PzZyLtzx2ng/oOLMeGHHfD/bu9KvPnCAP8AgJRIej4I/x3SfHgazhD9gff+QxdCGP3lhT2HD2Ig/XRGAqMnGij9/6WEmWaCMP8RD5U3ob44/dLR1M00fkD/cy+3G0QiRP18p2jv09JE/\",\"dtype\":\"float64\",\"shape\":[75]},\"y\":{\"__ndarray__\":\"GhExyth1ND/Sv8nbtpRIP2vylNV0PVE/aTum7souWD/At0SJ8fVgPw3Iuahxymc/MSNhhJWvcD/bTfBN02d3P2zb5nxnaoA/CD5h5MAGhz8NmeH1TyaQP+zrCsc9p5Y/LbKd76fGnz/bLW5ISEmmPww9YvTcQq8/JV2OstnstT8Er5Y7M8G+P0c+r3jqkcU/5h99k6ZBzj88bCIzFzjVP4enV8oyxN0//yH99nXg5D8qOpLLf0jtP5kqGJXUifQ/c9cS8kHP/D+/DpwzojQEQIEmwoanVwxA4lgXt9HgE0BSSZ2AJuIbQAMJih9jjiNA5q4l5INuK0AwTKYKRj0zQNv5fmq8/DpAaCJseHrtQkB/+zpwzoxKQM3MzMzMeFJAZmZmZmZqWEAAAAAAAFxeQM3MzMzMJmJAmpmZmZkfZUBmZmZmZhhoQDMzMzMzEWtAAAAAAAAKbkBmZmZmZoFwQM3MzMzM/XFAMzMzMzN6c0CamZmZmfZ0QAAAAAAAc3ZAZmZmZmbvd0DNzMzMzGt5QDMzMzMz6HpAmpmZmZlkfEAAAAAAAOF9QGZmZmZmXX9AZmZmZuZsgECamZmZGSuBQM3MzMxM6YFAAAAAAICngkAzMzMzs2WDQGZmZmbmI4RAmpmZmRnihEDNzMzMTKCFQAAAAACAXoZAMzMzM7Mch0BmZmZm5tqHQJqZmZkZmYhAzczMzExXiUAAAAAAgBWKQDMzMzOz04pAZmZmZuaRi0CamZmZGVCMQM3MzMxMDo1AAAAAAIDMjUAzMzMzs4qOQGZmZmbmSI9A\",\"dtype\":\"float64\",\"shape\":[75]}},\"selected\":{\"id\":\"f08ed798-41c2-4a48-9529-d735e3860c7a\",\"type\":\"Selection\"},\"selection_policy\":{\"id\":\"32c974e2-157c-4b3a-8cdb-561fb32302ff\",\"type\":\"UnionRenderers\"}},\"id\":\"57b01808-f347-4058-b000-3721af5cf7ca\",\"type\":\"ColumnDataSource\"},{\"attributes\":{\"children\":[{\"id\":\"b211d3e8-376a-47b1-98b6-0501538d2420\",\"subtype\":\"Figure\",\"type\":\"Plot\"},{\"id\":\"64f50483-ccf4-429a-967a-c620d5c2364f\",\"subtype\":\"Figure\",\"type\":\"Plot\"}]},\"id\":\"eaa0be78-49b4-4db9-be3a-18c8a94314bd\",\"type\":\"Row\"},{\"attributes\":{\"fill_alpha\":{\"value\":0.7},\"fill_color\":{\"value\":\"#984ea3\"},\"line_alpha\":{\"value\":0.7},\"line_color\":{\"value\":\"#984ea3\"},\"x\":{\"field\":\"x\"},\"y\":{\"field\":\"y\"}},\"id\":\"84075de3-419b-4fed-9f1e-179e6558bb1e\",\"type\":\"Square\"},{\"attributes\":{\"data_source\":{\"id\":\"3b44c39f-5906-44ac-9841-78db918c7b68\",\"type\":\"ColumnDataSource\"},\"glyph\":{\"id\":\"51d1c2ac-219f-4722-8840-7c957da8e68f\",\"type\":\"Line\"},\"hover_glyph\":null,\"muted_glyph\":null,\"nonselection_glyph\":{\"id\":\"eb10b7b9-8cac-4f20-908d-38779b489cb1\",\"type\":\"Line\"},\"selection_glyph\":null,\"view\":{\"id\":\"d4c2c795-89f6-4024-8d6e-615b95a34421\",\"type\":\"CDSView\"}},\"id\":\"cef3e726-1c42-4239-8581-77f6a5736315\",\"type\":\"GlyphRenderer\"},{\"attributes\":{\"label\":{\"value\":\"CRD\"},\"renderers\":[{\"id\":\"9465338d-c475-4d25-8250-6bcb7959fdeb\",\"type\":\"GlyphRenderer\"},{\"id\":\"c6349d9b-63cc-4138-b150-58b332b5be12\",\"type\":\"GlyphRenderer\"}]},\"id\":\"5dd9804b-6a4d-4c65-9932-a34b4ceb51ed\",\"type\":\"LegendItem\"},{\"attributes\":{},\"id\":\"0df281f0-c63f-4042-b427-da846f2a4606\",\"type\":\"Selection\"},{\"attributes\":{\"ticker\":null},\"id\":\"49e8862a-3916-4a07-9871-383f118228fb\",\"type\":\"LogTickFormatter\"},{\"attributes\":{\"line_alpha\":0.1,\"line_color\":\"#1f77b4\",\"line_width\":1.5,\"x\":{\"field\":\"x\"},\"y\":{\"field\":\"y\"}},\"id\":\"3df7c227-a5fe-4b44-be78-ed24f5f473a2\",\"type\":\"Line\"},{\"attributes\":{\"callback\":null,\"data\":{\"x\":{\"__ndarray__\":\"nPVlBVgGUr/8hunBdAhSv9FlfxvIDFK/vbXcMSYRUr9BFb/xShVSv6DKqdgxGVK/LHp3ydccUr84yAKnOSBSvzKYE/lUI1K/7UxltScmUr80aB2SsChSv7ypNcbvKlK/Fi7myecsUr8xeE2NrS5Sv7LpDeI/MFK/FJy6bmoZUr+2CGZ3ipZRv5JPuEv3XVC/F9EjMM0WTL/7KDAlcBREv6CtYKDDZyy/ILQKe7m9OT+OVcABkaxRP6MHAsg3uVI/cjqGtvMRQz99jfxlLsz4PpQTXroTCzq/bmrfGzm6Rr9VKg7N60VNv+27L9nC9FC/BuvffEHHUr+fFx8Ec2RUvyZOm+be+VW/SKwlGi3SV78GHqRXpkdav7QIalQ+jV2/MxRtSlaeYL9QE7Oe3mxiv4kHqHq/O2S/jG8ZCGr+Zb9AYFGRS6Nnv7N1nugi1Gi/n4O10QOWab+ORLe4sPBpv0Lg7ApJ42m/tOfh7Qleab9O+k87m1Vovw+m5zFY3ma/wqHYhmHyZL+Vrdk5MndivwkOmNkBPV+/c4VHgHKSWL8KyFqkiS5Rv7G4nhuWCEK/C4UnWxIxzL7RLWwp805DP1arKggiKlQ/fkJHgbZ7Xz9zlf9sSsJlP8dAf+I+OWw/dHKE4WN9cT8+wTFLQxR1PzZyLtzx2ng/oOLMeGHHfD/bu9KvPnCAP8AgJRIej4I/x3SfHgazhD9gff+QxdCGP3lhT2HD2Ig/XRGAqMnGij9/6WEmWaCMP8RD5U3ob44/dLR1M00fkD/cy+3G0QiRP18p2jv09JE/\",\"dtype\":\"float64\",\"shape\":[75]},\"y\":{\"__ndarray__\":\"GhExyth1ND/Sv8nbtpRIP2vylNV0PVE/aTum7souWD/At0SJ8fVgPw3Iuahxymc/MSNhhJWvcD/bTfBN02d3P2zb5nxnaoA/CD5h5MAGhz8NmeH1TyaQP+zrCsc9p5Y/LbKd76fGnz/bLW5ISEmmPww9YvTcQq8/JV2OstnstT8Er5Y7M8G+P0c+r3jqkcU/5h99k6ZBzj88bCIzFzjVP4enV8oyxN0//yH99nXg5D8qOpLLf0jtP5kqGJXUifQ/c9cS8kHP/D+/DpwzojQEQIEmwoanVwxA4lgXt9HgE0BSSZ2AJuIbQAMJih9jjiNA5q4l5INuK0AwTKYKRj0zQNv5fmq8/DpAaCJseHrtQkB/+zpwzoxKQM3MzMzMeFJAZmZmZmZqWEAAAAAAAFxeQM3MzMzMJmJAmpmZmZkfZUBmZmZmZhhoQDMzMzMzEWtAAAAAAAAKbkBmZmZmZoFwQM3MzMzM/XFAMzMzMzN6c0CamZmZmfZ0QAAAAAAAc3ZAZmZmZmbvd0DNzMzMzGt5QDMzMzMz6HpAmpmZmZlkfEAAAAAAAOF9QGZmZmZmXX9AZmZmZuZsgECamZmZGSuBQM3MzMxM6YFAAAAAAICngkAzMzMzs2WDQGZmZmbmI4RAmpmZmRnihEDNzMzMTKCFQAAAAACAXoZAMzMzM7Mch0BmZmZm5tqHQJqZmZkZmYhAzczMzExXiUAAAAAAgBWKQDMzMzOz04pAZmZmZuaRi0CamZmZGVCMQM3MzMxMDo1AAAAAAIDMjUAzMzMzs4qOQGZmZmbmSI9A\",\"dtype\":\"float64\",\"shape\":[75]}},\"selected\":{\"id\":\"e255d9e7-8902-4f40-a342-3bc2c2d8fe6f\",\"type\":\"Selection\"},\"selection_policy\":{\"id\":\"2a38c5cf-c68b-4356-824d-267aaad5629e\",\"type\":\"UnionRenderers\"}},\"id\":\"b3e20027-887b-4873-878e-a1c41a1a1977\",\"type\":\"ColumnDataSource\"},{\"attributes\":{\"label\":{\"value\":\"WGT igg=1\"},\"renderers\":[{\"id\":\"3c2ecae7-8569-4826-8421-43ae5febcd98\",\"type\":\"GlyphRenderer\"},{\"id\":\"4b5fcb2a-4205-4075-8a36-840658ac5160\",\"type\":\"GlyphRenderer\"}]},\"id\":\"d320c385-94de-496a-bd97-38397609ae46\",\"type\":\"LegendItem\"},{\"attributes\":{},\"id\":\"3ab1f365-ce45-402e-9f3a-2ac7e03ac808\",\"type\":\"Selection\"},{\"attributes\":{},\"id\":\"ef0bf4f2-5e1c-465a-8f5d-c50757d1f2d4\",\"type\":\"WheelZoomTool\"},{\"attributes\":{\"label\":{\"value\":\"WGT igg=10\"},\"renderers\":[{\"id\":\"cf35a67b-87b1-466d-abd1-a4e1787f9149\",\"type\":\"GlyphRenderer\"},{\"id\":\"4fc3d3b2-f05e-4a93-94c6-1cbb9cdb43fe\",\"type\":\"GlyphRenderer\"}]},\"id\":\"bebf8d47-c587-4e53-9d1d-230e9b969c72\",\"type\":\"LegendItem\"},{\"attributes\":{\"plot\":null,\"text\":\"\"},\"id\":\"11a1df2a-cd85-463f-9275-0fbfd06b48c3\",\"type\":\"Title\"},{\"attributes\":{\"source\":{\"id\":\"5ee3a94d-0f9e-4f73-8bd2-02f87cf8d9ed\",\"type\":\"ColumnDataSource\"}},\"id\":\"a9c476ce-c4f5-483f-bd1e-34a2f79b12e7\",\"type\":\"CDSView\"},{\"attributes\":{},\"id\":\"2b2f8ded-ae24-40eb-a70d-8d279323ce74\",\"type\":\"Selection\"},{\"attributes\":{},\"id\":\"79a88423-ddab-44c6-9062-10d90f03fbba\",\"type\":\"BasicTickFormatter\"},{\"attributes\":{},\"id\":\"3f74978e-ce40-4df5-8c3f-79549015e839\",\"type\":\"BasicTickFormatter\"},{\"attributes\":{\"data_source\":{\"id\":\"66e1f9ab-954d-4f67-81d7-537f19209ea3\",\"type\":\"ColumnDataSource\"},\"glyph\":{\"id\":\"2a55653b-c7e8-49d1-a0a1-9d1edc6b06fd\",\"type\":\"Line\"},\"hover_glyph\":null,\"muted_glyph\":null,\"nonselection_glyph\":{\"id\":\"3df7c227-a5fe-4b44-be78-ed24f5f473a2\",\"type\":\"Line\"},\"selection_glyph\":null,\"view\":{\"id\":\"3e9a174c-af41-434c-93ff-20a4ea916f21\",\"type\":\"CDSView\"}},\"id\":\"c6349d9b-63cc-4138-b150-58b332b5be12\",\"type\":\"GlyphRenderer\"},{\"attributes\":{},\"id\":\"025e32b3-b2e6-4d65-ac85-77353a04fea9\",\"type\":\"UnionRenderers\"},{\"attributes\":{},\"id\":\"f17d3f31-40d0-4d67-ac93-b9d825c1c6dc\",\"type\":\"Selection\"},{\"attributes\":{},\"id\":\"a0f91b94-d858-44a1-aae9-34b3210c5e6d\",\"type\":\"UnionRenderers\"},{\"attributes\":{\"callback\":null,\"data\":{\"x\":{\"__ndarray__\":\"nPVlBVgGUr/8hunBdAhSv9FlfxvIDFK/vbXcMSYRUr9BFb/xShVSv6DKqdgxGVK/LHp3ydccUr84yAKnOSBSvzKYE/lUI1K/7UxltScmUr80aB2SsChSv7ypNcbvKlK/Fi7myecsUr8xeE2NrS5Sv7LpDeI/MFK/FJy6bmoZUr+2CGZ3ipZRv5JPuEv3XVC/F9EjMM0WTL/7KDAlcBREv6CtYKDDZyy/ILQKe7m9OT+OVcABkaxRP6MHAsg3uVI/cjqGtvMRQz99jfxlLsz4PpQTXroTCzq/bmrfGzm6Rr9VKg7N60VNv+27L9nC9FC/BuvffEHHUr+fFx8Ec2RUvyZOm+be+VW/SKwlGi3SV78GHqRXpkdav7QIalQ+jV2/MxRtSlaeYL9QE7Oe3mxiv4kHqHq/O2S/jG8ZCGr+Zb9AYFGRS6Nnv7N1nugi1Gi/n4O10QOWab+ORLe4sPBpv0Lg7ApJ42m/tOfh7Qleab9O+k87m1Vovw+m5zFY3ma/wqHYhmHyZL+Vrdk5MndivwkOmNkBPV+/c4VHgHKSWL8KyFqkiS5Rv7G4nhuWCEK/C4UnWxIxzL7RLWwp805DP1arKggiKlQ/fkJHgbZ7Xz9zlf9sSsJlP8dAf+I+OWw/dHKE4WN9cT8+wTFLQxR1PzZyLtzx2ng/oOLMeGHHfD/bu9KvPnCAP8AgJRIej4I/x3SfHgazhD9gff+QxdCGP3lhT2HD2Ig/XRGAqMnGij9/6WEmWaCMP8RD5U3ob44/dLR1M00fkD/cy+3G0QiRP18p2jv09JE/\",\"dtype\":\"float64\",\"shape\":[75]},\"y\":{\"__ndarray__\":\"GhExyth1ND/Sv8nbtpRIP2vylNV0PVE/aTum7souWD/At0SJ8fVgPw3Iuahxymc/MSNhhJWvcD/bTfBN02d3P2zb5nxnaoA/CD5h5MAGhz8NmeH1TyaQP+zrCsc9p5Y/LbKd76fGnz/bLW5ISEmmPww9YvTcQq8/JV2OstnstT8Er5Y7M8G+P0c+r3jqkcU/5h99k6ZBzj88bCIzFzjVP4enV8oyxN0//yH99nXg5D8qOpLLf0jtP5kqGJXUifQ/c9cS8kHP/D+/DpwzojQEQIEmwoanVwxA4lgXt9HgE0BSSZ2AJuIbQAMJih9jjiNA5q4l5INuK0AwTKYKRj0zQNv5fmq8/DpAaCJseHrtQkB/+zpwzoxKQM3MzMzMeFJAZmZmZmZqWEAAAAAAAFxeQM3MzMzMJmJAmpmZmZkfZUBmZmZmZhhoQDMzMzMzEWtAAAAAAAAKbkBmZmZmZoFwQM3MzMzM/XFAMzMzMzN6c0CamZmZmfZ0QAAAAAAAc3ZAZmZmZmbvd0DNzMzMzGt5QDMzMzMz6HpAmpmZmZlkfEAAAAAAAOF9QGZmZmZmXX9AZmZmZuZsgECamZmZGSuBQM3MzMxM6YFAAAAAAICngkAzMzMzs2WDQGZmZmbmI4RAmpmZmRnihEDNzMzMTKCFQAAAAACAXoZAMzMzM7Mch0BmZmZm5tqHQJqZmZkZmYhAzczMzExXiUAAAAAAgBWKQDMzMzOz04pAZmZmZuaRi0CamZmZGVCMQM3MzMxMDo1AAAAAAIDMjUAzMzMzs4qOQGZmZmbmSI9A\",\"dtype\":\"float64\",\"shape\":[75]}},\"selected\":{\"id\":\"0df281f0-c63f-4042-b427-da846f2a4606\",\"type\":\"Selection\"},\"selection_policy\":{\"id\":\"8f1119d5-552f-47f7-a7f2-c2ec92b256a5\",\"type\":\"UnionRenderers\"}},\"id\":\"3b44c39f-5906-44ac-9841-78db918c7b68\",\"type\":\"ColumnDataSource\"},{\"attributes\":{},\"id\":\"e255d9e7-8902-4f40-a342-3bc2c2d8fe6f\",\"type\":\"Selection\"},{\"attributes\":{},\"id\":\"af592ee1-8d8a-4426-b36c-185072f14e82\",\"type\":\"Selection\"},{\"attributes\":{\"line_alpha\":0.1,\"line_color\":\"#1f77b4\",\"line_width\":3,\"x\":{\"field\":\"x\"},\"y\":{\"field\":\"y\"}},\"id\":\"eb10b7b9-8cac-4f20-908d-38779b489cb1\",\"type\":\"Line\"},{\"attributes\":{},\"id\":\"32c974e2-157c-4b3a-8cdb-561fb32302ff\",\"type\":\"UnionRenderers\"},{\"attributes\":{},\"id\":\"8f6ae3a1-d597-45a2-8c51-f600fe60ec47\",\"type\":\"Selection\"},{\"attributes\":{\"data_source\":{\"id\":\"d600487f-c0ab-4d62-886d-c43868e66773\",\"type\":\"ColumnDataSource\"},\"glyph\":{\"id\":\"05e584c8-fe33-45f5-a9a5-a70c736cc576\",\"type\":\"Triangle\"},\"hover_glyph\":null,\"muted_glyph\":null,\"nonselection_glyph\":{\"id\":\"a94da11d-f3b6-4df2-b170-e7a530a667cd\",\"type\":\"Triangle\"},\"selection_glyph\":null,\"view\":{\"id\":\"ae0ee59e-f25a-4a07-8434-ef69372ec9c9\",\"type\":\"CDSView\"}},\"id\":\"46486f6b-145f-43bc-8e8a-58160ed4a182\",\"type\":\"GlyphRenderer\"},{\"attributes\":{},\"id\":\"8c94d8c1-3964-4713-a13e-ba70d8be3f87\",\"type\":\"UnionRenderers\"},{\"attributes\":{\"fill_alpha\":{\"value\":0.1},\"fill_color\":{\"value\":\"#1f77b4\"},\"line_alpha\":{\"value\":0.1},\"line_color\":{\"value\":\"#1f77b4\"},\"x\":{\"field\":\"x\"},\"y\":{\"field\":\"y\"}},\"id\":\"a94da11d-f3b6-4df2-b170-e7a530a667cd\",\"type\":\"Triangle\"},{\"attributes\":{},\"id\":\"3dff8909-07b6-400f-8205-451c9e4325b9\",\"type\":\"UnionRenderers\"},{\"attributes\":{\"line_alpha\":0.1,\"line_color\":\"#1f77b4\",\"line_width\":2,\"x\":{\"field\":\"x\"},\"y\":{\"field\":\"y\"}},\"id\":\"b771001f-a4a7-4e9c-b9e1-9753e3d2e388\",\"type\":\"Line\"},{\"attributes\":{},\"id\":\"2a38c5cf-c68b-4356-824d-267aaad5629e\",\"type\":\"UnionRenderers\"},{\"attributes\":{\"line_alpha\":0.6,\"line_color\":\"#984ea3\",\"line_width\":3,\"x\":{\"field\":\"x\"},\"y\":{\"field\":\"y\"}},\"id\":\"51d1c2ac-219f-4722-8840-7c957da8e68f\",\"type\":\"Line\"},{\"attributes\":{},\"id\":\"5a66c4fc-4ece-4bb0-ae98-e13a89ec97c1\",\"type\":\"BasicTickFormatter\"},{\"attributes\":{\"toolbar\":{\"id\":\"af0e650f-b8e9-450b-9cc3-694dda9dc469\",\"type\":\"ProxyToolbar\"},\"toolbar_location\":\"above\"},\"id\":\"a7c4e4e9-f709-403a-a906-e3a2b04b2384\",\"type\":\"ToolbarBox\"},{\"attributes\":{\"callback\":null,\"data\":{\"x\":{\"__ndarray__\":\"8Loau639UL/5m4lXBABRv58KsZvWBFG/evEVi8UJUb/O2uyWhA5RvzurFmsQE1G/h2f3l2UXUb/40tPAgRtRvz0w5PZiH1G/LOLjLwcjUb8bCm90bSZRv7SG6buWKVG/1bSRR4UsUb9i/ngRYC9RvwUKZbeQNFG/X1ze6OAqUb9IjBMgQMZQv86kuWLUgU+/SDUuFJeAS78ib64EbXxEv30CNiCEAzK//hJdZJCHMT/Lstl8I9dMP4Cy7Xcxtk4/fmQ7V/iNPD/a/G3z3VoQv5AQmQjbnzy/dCgKhsjoRr8izJivdK5Mv/rxJJznXlC/TQcAwAn7Ub+frSF+J2lTvzDljd1P11S/jYgShw2KVr/YGSDGJNJYvwEOtpz431u/SCtxN6VQX7+wrMZnsVphvwkfONEoCWO/NaN8EGSuZL+tDsQeyC1mvzypNgUgWGe/YPkeNz0daL+ZlMvWJH5ovy5/jqsid2i/bs1u1m0DaL/jFBk1UR9nv2laSFpPyGW/SaPQWlv9Y78pb0U3Ar5hvz4bIZveIF6/rBwEZIL2V79K5hvEXAhRv7J3nAMat0K/ZprldFnnDb/l4GCpbH5APwvotJgnMVI/sUnBBafmXD9dh27eRi9kP4//S2BWS2o/ojHMLnxicD/MfJOfPs1zP2yVe6FCZXc/AC9j7skoez9JMpUAaBR/P4PRXJNkkIE/w2rgiQifgz9bUHoHwaiFP+FmPfGmn4c/QTYSZq9+iT8uwZUrPUyLP8zekTJbEo0/SCBEgyvYjj8vm8Fer1CQP55OaEjLN5E/\",\"dtype\":\"float64\",\"shape\":[75]},\"y\":{\"__ndarray__\":\"GhExyth1ND/Sv8nbtpRIP2vylNV0PVE/aTum7souWD/At0SJ8fVgPw3Iuahxymc/MSNhhJWvcD/bTfBN02d3P2zb5nxnaoA/CD5h5MAGhz8NmeH1TyaQP+zrCsc9p5Y/LbKd76fGnz/bLW5ISEmmPww9YvTcQq8/JV2OstnstT8Er5Y7M8G+P0c+r3jqkcU/5h99k6ZBzj88bCIzFzjVP4enV8oyxN0//yH99nXg5D8qOpLLf0jtP5kqGJXUifQ/c9cS8kHP/D+/DpwzojQEQIEmwoanVwxA4lgXt9HgE0BSSZ2AJuIbQAMJih9jjiNA5q4l5INuK0AwTKYKRj0zQNv5fmq8/DpAaCJseHrtQkB/+zpwzoxKQM3MzMzMeFJAZmZmZmZqWEAAAAAAAFxeQM3MzMzMJmJAmpmZmZkfZUBmZmZmZhhoQDMzMzMzEWtAAAAAAAAKbkBmZmZmZoFwQM3MzMzM/XFAMzMzMzN6c0CamZmZmfZ0QAAAAAAAc3ZAZmZmZmbvd0DNzMzMzGt5QDMzMzMz6HpAmpmZmZlkfEAAAAAAAOF9QGZmZmZmXX9AZmZmZuZsgECamZmZGSuBQM3MzMxM6YFAAAAAAICngkAzMzMzs2WDQGZmZmbmI4RAmpmZmRnihEDNzMzMTKCFQAAAAACAXoZAMzMzM7Mch0BmZmZm5tqHQJqZmZkZmYhAzczMzExXiUAAAAAAgBWKQDMzMzOz04pAZmZmZuaRi0CamZmZGVCMQM3MzMxMDo1AAAAAAIDMjUAzMzMzs4qOQGZmZmbmSI9A\",\"dtype\":\"float64\",\"shape\":[75]}},\"selected\":{\"id\":\"3afec9ae-2127-45b0-9e7b-e9289d510e36\",\"type\":\"Selection\"},\"selection_policy\":{\"id\":\"5462bdd1-c832-4bbe-8100-3031f98b4508\",\"type\":\"UnionRenderers\"}},\"id\":\"d600487f-c0ab-4d62-886d-c43868e66773\",\"type\":\"ColumnDataSource\"},{\"attributes\":{\"source\":{\"id\":\"f2e83b14-570b-42df-9aaa-a73d39ac3e3a\",\"type\":\"ColumnDataSource\"}},\"id\":\"0ce03921-842c-463d-8d67-056e324f1628\",\"type\":\"CDSView\"},{\"attributes\":{},\"id\":\"691e6923-48eb-43bf-bec1-69043a5fc7ac\",\"type\":\"UnionRenderers\"},{\"attributes\":{},\"id\":\"7fe1116b-326b-43c5-a737-9c92e02b0540\",\"type\":\"Selection\"},{\"attributes\":{},\"id\":\"0130765e-6b3f-4c27-ae81-c9fd16fa207b\",\"type\":\"UnionRenderers\"},{\"attributes\":{\"source\":{\"id\":\"d600487f-c0ab-4d62-886d-c43868e66773\",\"type\":\"ColumnDataSource\"}},\"id\":\"ae0ee59e-f25a-4a07-8434-ef69372ec9c9\",\"type\":\"CDSView\"},{\"attributes\":{},\"id\":\"fd8b2ba1-07f0-4d54-8904-1120eb6b4f14\",\"type\":\"Selection\"},{\"attributes\":{},\"id\":\"a9349d2c-eb78-47f5-8189-8ce5927460df\",\"type\":\"UnionRenderers\"},{\"attributes\":{\"tools\":[{\"id\":\"550290d5-546d-4bd9-92db-bdd6273e259e\",\"type\":\"PanTool\"},{\"id\":\"140b025a-e8e8-4c6e-b2f9-1507b08b8bee\",\"type\":\"WheelZoomTool\"},{\"id\":\"93d986b0-223c-4c86-ada2-06c859bba748\",\"type\":\"BoxZoomTool\"},{\"id\":\"f2cce166-b9a9-4c39-8921-f8ce04b94158\",\"type\":\"SaveTool\"},{\"id\":\"d106f481-19ae-4722-9487-9b60a594d003\",\"type\":\"ResetTool\"},{\"id\":\"d9adff57-f93d-4747-ba80-8303e6cf47d7\",\"type\":\"HelpTool\"},{\"id\":\"09a19f55-050c-4ff4-91c6-e51c28a821a9\",\"type\":\"PanTool\"},{\"id\":\"ef0bf4f2-5e1c-465a-8f5d-c50757d1f2d4\",\"type\":\"WheelZoomTool\"},{\"id\":\"455f6c6d-7f19-4728-8e24-e10c5d31d50f\",\"type\":\"BoxZoomTool\"},{\"id\":\"9f70104f-5901-41b4-ae4c-5a864107c8c6\",\"type\":\"SaveTool\"},{\"id\":\"5a300494-9cb5-4daa-9a9c-aea73bf636cc\",\"type\":\"ResetTool\"},{\"id\":\"238c2e01-1bcb-4f8d-ba42-6f846d795c84\",\"type\":\"HelpTool\"}]},\"id\":\"af0e650f-b8e9-450b-9cc3-694dda9dc469\",\"type\":\"ProxyToolbar\"},{\"attributes\":{\"fill_alpha\":{\"value\":0.1},\"fill_color\":{\"value\":\"#1f77b4\"},\"line_alpha\":{\"value\":0.1},\"line_color\":{\"value\":\"#1f77b4\"},\"x\":{\"field\":\"x\"},\"y\":{\"field\":\"y\"}},\"id\":\"7c40872a-0dc0-4961-8f85-377d092b729c\",\"type\":\"Square\"},{\"attributes\":{\"source\":{\"id\":\"3b44c39f-5906-44ac-9841-78db918c7b68\",\"type\":\"ColumnDataSource\"}},\"id\":\"d4c2c795-89f6-4024-8d6e-615b95a34421\",\"type\":\"CDSView\"},{\"attributes\":{},\"id\":\"fd65f0fb-d332-46ba-b377-5eeee2385634\",\"type\":\"Selection\"},{\"attributes\":{\"callback\":null,\"data\":{\"x\":{\"__ndarray__\":\"eSBkWvZpTL+qyUfjNGpMv70Wt0/maUy/DeDu+MpoTL/ixXSt4mZMv/2PzOI+ZEy/WuO/DfNgTL/IKyOHsVxMv8AwVQajV0y/BLak1sRRTL8mub/FL0tMv143qre3Q0y/Tt6cmt86TL+bE29qujBMv2h3MHClCEy/p3eXABxTS7/wFwTMVlZJvyojje7nkEW/Ryl1Ot5CPr9kfic0kuwiv6JHO+Ii1zY/eWqVYynHUT+bm9yXBhFfP7SjYKEpD2A/93YoGo37VD8qAQBML5lDP6li0mDvnRM/hiWFr9m6M79w6dAosmBCv4WAybx/e0i/opub8RVMTb98QEtY1bJQvz04oc2/j1K/R3r8lqyOVL9o2tKn9BNXv4v2Z6ylU1q/0VZZp0fkXb8heBAEzq5gvyLsEM5SamK/OA9pTG8cZL8MNES6RJplvzAP0+bKrGa/IxjYOX5OZ7/LBqn9VYVnv/MFkSohT2e/dm8qMnioZr8jvzREEo9lv0fhlmndAWS/hbbGpqgBYr+f0Lc5GCBfvxmj7dAba1m/KVIT3bD2Ur+3A5aW5aVHvxHXw6q9HTC/+w2OJMKtMT/6JXTWEhBLPyKdSAszT1c/dHVLmz/gYD9YRr7hMm1mPzEuEN5JTWw/CyYZWfQ+cT9BwCjp6350P1Q55QEQ5nc/DN1FyNtyez9alSag5yF/P304pK+pdYE/QHz7m5legz/9b9b0YTyFP6JrxGsV/4Y/6+jRt3mhiD8uE4/V9yuKP7L7p35Sq4s/oamurtAojT9NlxQLu6mOPz4FN4eoGJA/\",\"dtype\":\"float64\",\"shape\":[75]},\"y\":{\"__ndarray__\":\"GhExyth1ND/Sv8nbtpRIP2vylNV0PVE/aTum7souWD/At0SJ8fVgPw3Iuahxymc/MSNhhJWvcD/bTfBN02d3P2zb5nxnaoA/CD5h5MAGhz8NmeH1TyaQP+zrCsc9p5Y/LbKd76fGnz/bLW5ISEmmPww9YvTcQq8/JV2OstnstT8Er5Y7M8G+P0c+r3jqkcU/5h99k6ZBzj88bCIzFzjVP4enV8oyxN0//yH99nXg5D8qOpLLf0jtP5kqGJXUifQ/c9cS8kHP/D+/DpwzojQEQIEmwoanVwxA4lgXt9HgE0BSSZ2AJuIbQAMJih9jjiNA5q4l5INuK0AwTKYKRj0zQNv5fmq8/DpAaCJseHrtQkB/+zpwzoxKQM3MzMzMeFJAZmZmZmZqWEAAAAAAAFxeQM3MzMzMJmJAmpmZmZkfZUBmZmZmZhhoQDMzMzMzEWtAAAAAAAAKbkBmZmZmZoFwQM3MzMzM/XFAMzMzMzN6c0CamZmZmfZ0QAAAAAAAc3ZAZmZmZmbvd0DNzMzMzGt5QDMzMzMz6HpAmpmZmZlkfEAAAAAAAOF9QGZmZmZmXX9AZmZmZuZsgECamZmZGSuBQM3MzMxM6YFAAAAAAICngkAzMzMzs2WDQGZmZmbmI4RAmpmZmRnihEDNzMzMTKCFQAAAAACAXoZAMzMzM7Mch0BmZmZm5tqHQJqZmZkZmYhAzczMzExXiUAAAAAAgBWKQDMzMzOz04pAZmZmZuaRi0CamZmZGVCMQM3MzMxMDo1AAAAAAIDMjUAzMzMzs4qOQGZmZmbmSI9A\",\"dtype\":\"float64\",\"shape\":[75]}},\"selected\":{\"id\":\"f17d3f31-40d0-4d67-ac93-b9d825c1c6dc\",\"type\":\"Selection\"},\"selection_policy\":{\"id\":\"3dff8909-07b6-400f-8205-451c9e4325b9\",\"type\":\"UnionRenderers\"}},\"id\":\"f2e83b14-570b-42df-9aaa-a73d39ac3e3a\",\"type\":\"ColumnDataSource\"},{\"attributes\":{},\"id\":\"37671681-0754-4203-b42c-a0c2c0a6ef3a\",\"type\":\"UnionRenderers\"},{\"attributes\":{\"children\":[{\"id\":\"a7c4e4e9-f709-403a-a906-e3a2b04b2384\",\"type\":\"ToolbarBox\"},{\"id\":\"6035d4fc-d2a2-440d-9327-ac0185a2310e\",\"type\":\"Column\"}]},\"id\":\"dd395d6a-0610-4699-9ce1-de284eb54796\",\"type\":\"Column\"},{\"attributes\":{\"above\":[{\"id\":\"d841f5e2-5833-4e5c-993e-099ce94ebd6c\",\"type\":\"Legend\"}],\"below\":[{\"id\":\"a97cff3b-4383-4e9a-ada4-42dde644fc88\",\"type\":\"LinearAxis\"}],\"left\":[{\"id\":\"1464e679-ace3-4d33-97dd-c1d8b29b0bb2\",\"type\":\"LogAxis\"}],\"plot_height\":500,\"plot_width\":400,\"renderers\":[{\"id\":\"a97cff3b-4383-4e9a-ada4-42dde644fc88\",\"type\":\"LinearAxis\"},{\"id\":\"389fe236-2c68-42e7-9961-d75a2bdc5a6a\",\"type\":\"Grid\"},{\"id\":\"1464e679-ace3-4d33-97dd-c1d8b29b0bb2\",\"type\":\"LogAxis\"},{\"id\":\"4f8f7787-0c54-41bb-9342-0648fc40e7bd\",\"type\":\"Grid\"},{\"id\":\"e8c61b28-1182-484e-9a5c-4579ba08eddd\",\"type\":\"BoxAnnotation\"},{\"id\":\"9465338d-c475-4d25-8250-6bcb7959fdeb\",\"type\":\"GlyphRenderer\"},{\"id\":\"c6349d9b-63cc-4138-b150-58b332b5be12\",\"type\":\"GlyphRenderer\"},{\"id\":\"3c2ecae7-8569-4826-8421-43ae5febcd98\",\"type\":\"GlyphRenderer\"},{\"id\":\"4b5fcb2a-4205-4075-8a36-840658ac5160\",\"type\":\"GlyphRenderer\"},{\"id\":\"cf35a67b-87b1-466d-abd1-a4e1787f9149\",\"type\":\"GlyphRenderer\"},{\"id\":\"4fc3d3b2-f05e-4a93-94c6-1cbb9cdb43fe\",\"type\":\"GlyphRenderer\"},{\"id\":\"d841f5e2-5833-4e5c-993e-099ce94ebd6c\",\"type\":\"Legend\"}],\"title\":{\"id\":\"11a1df2a-cd85-463f-9275-0fbfd06b48c3\",\"type\":\"Title\"},\"toolbar\":{\"id\":\"5104410b-e5ea-4608-8b40-eb3906ded902\",\"type\":\"Toolbar\"},\"toolbar_location\":null,\"x_range\":{\"id\":\"c5862109-a42d-4e8b-af89-235ef18b83b3\",\"type\":\"Range1d\"},\"x_scale\":{\"id\":\"1b43c014-7272-4c3a-9cbb-ed740930c7ce\",\"type\":\"LinearScale\"},\"y_range\":{\"id\":\"1775368b-498c-40e4-898b-1959f1c49016\",\"type\":\"Range1d\"},\"y_scale\":{\"id\":\"f053f443-0e5e-4c91-8c22-3901a629d73f\",\"type\":\"LogScale\"}},\"id\":\"64f50483-ccf4-429a-967a-c620d5c2364f\",\"subtype\":\"Figure\",\"type\":\"Plot\"},{\"attributes\":{\"line_alpha\":0.6,\"line_color\":\"#984ea3\",\"line_width\":3,\"x\":{\"field\":\"x\"},\"y\":{\"field\":\"y\"}},\"id\":\"215fc858-0536-4c7a-bb69-802a2314d158\",\"type\":\"Line\"},{\"attributes\":{\"data_source\":{\"id\":\"57b01808-f347-4058-b000-3721af5cf7ca\",\"type\":\"ColumnDataSource\"},\"glyph\":{\"id\":\"84075de3-419b-4fed-9f1e-179e6558bb1e\",\"type\":\"Square\"},\"hover_glyph\":null,\"muted_glyph\":null,\"nonselection_glyph\":{\"id\":\"7c40872a-0dc0-4961-8f85-377d092b729c\",\"type\":\"Square\"},\"selection_glyph\":null,\"view\":{\"id\":\"a256cd05-12ff-495f-bbb8-17b36db2227b\",\"type\":\"CDSView\"}},\"id\":\"0d36620d-be8d-491a-a887-0ad5374ead84\",\"type\":\"GlyphRenderer\"},{\"attributes\":{\"data_source\":{\"id\":\"b3e20027-887b-4873-878e-a1c41a1a1977\",\"type\":\"ColumnDataSource\"},\"glyph\":{\"id\":\"af29eecd-a00a-44ad-8e66-180ddd4cd0c3\",\"type\":\"Square\"},\"hover_glyph\":null,\"muted_glyph\":null,\"nonselection_glyph\":{\"id\":\"e803cc3d-d47c-42f9-8c25-1af7e19c566a\",\"type\":\"Square\"},\"selection_glyph\":null,\"view\":{\"id\":\"e6954c99-0bc2-49e8-b9c3-9bab52c34e72\",\"type\":\"CDSView\"}},\"id\":\"3c2ecae7-8569-4826-8421-43ae5febcd98\",\"type\":\"GlyphRenderer\"},{\"attributes\":{\"data_source\":{\"id\":\"5ee3a94d-0f9e-4f73-8bd2-02f87cf8d9ed\",\"type\":\"ColumnDataSource\"},\"glyph\":{\"id\":\"ce2cc95d-e2cf-4ec7-8262-9035ee4eff26\",\"type\":\"Line\"},\"hover_glyph\":null,\"muted_glyph\":null,\"nonselection_glyph\":{\"id\":\"42a7c014-a557-4c73-aa8a-d60c100f6f04\",\"type\":\"Line\"},\"selection_glyph\":null,\"view\":{\"id\":\"a9c476ce-c4f5-483f-bd1e-34a2f79b12e7\",\"type\":\"CDSView\"}},\"id\":\"6ee92680-7f76-4b5d-ac69-12a27fdd47bf\",\"type\":\"GlyphRenderer\"},{\"attributes\":{\"data_source\":{\"id\":\"f2e83b14-570b-42df-9aaa-a73d39ac3e3a\",\"type\":\"ColumnDataSource\"},\"glyph\":{\"id\":\"f9cb392d-4789-4362-be34-63f21ad0342e\",\"type\":\"Circle\"},\"hover_glyph\":null,\"muted_glyph\":null,\"nonselection_glyph\":{\"id\":\"f455758e-2fe8-434e-8247-198dc17d4890\",\"type\":\"Circle\"},\"selection_glyph\":null,\"view\":{\"id\":\"0ce03921-842c-463d-8d67-056e324f1628\",\"type\":\"CDSView\"}},\"id\":\"9465338d-c475-4d25-8250-6bcb7959fdeb\",\"type\":\"GlyphRenderer\"},{\"attributes\":{\"line_alpha\":0.3,\"line_color\":\"#377eb8\",\"line_width\":2,\"x\":{\"field\":\"x\"},\"y\":{\"field\":\"y\"}},\"id\":\"ae92cc12-d2b6-45aa-89b4-92e8cd279214\",\"type\":\"Line\"},{\"attributes\":{\"source\":{\"id\":\"cc09eb94-95b8-43b2-8aa1-7ae9ef492001\",\"type\":\"ColumnDataSource\"}},\"id\":\"1946f7d8-0f16-4000-9749-b9c07c30f259\",\"type\":\"CDSView\"},{\"attributes\":{\"line_alpha\":0.1,\"line_color\":\"#1f77b4\",\"line_width\":1.5,\"x\":{\"field\":\"x\"},\"y\":{\"field\":\"y\"}},\"id\":\"42a7c014-a557-4c73-aa8a-d60c100f6f04\",\"type\":\"Line\"},{\"attributes\":{\"callback\":null,\"data\":{\"x\":{\"__ndarray__\":\"8Loau639UL/5m4lXBABRv58KsZvWBFG/evEVi8UJUb/O2uyWhA5RvzurFmsQE1G/h2f3l2UXUb/40tPAgRtRvz0w5PZiH1G/LOLjLwcjUb8bCm90bSZRv7SG6buWKVG/1bSRR4UsUb9i/ngRYC9RvwUKZbeQNFG/X1ze6OAqUb9IjBMgQMZQv86kuWLUgU+/SDUuFJeAS78ib64EbXxEv30CNiCEAzK//hJdZJCHMT/Lstl8I9dMP4Cy7Xcxtk4/fmQ7V/iNPD/a/G3z3VoQv5AQmQjbnzy/dCgKhsjoRr8izJivdK5Mv/rxJJznXlC/TQcAwAn7Ub+frSF+J2lTvzDljd1P11S/jYgShw2KVr/YGSDGJNJYvwEOtpz431u/SCtxN6VQX7+wrMZnsVphvwkfONEoCWO/NaN8EGSuZL+tDsQeyC1mvzypNgUgWGe/YPkeNz0daL+ZlMvWJH5ovy5/jqsid2i/bs1u1m0DaL/jFBk1UR9nv2laSFpPyGW/SaPQWlv9Y78pb0U3Ar5hvz4bIZveIF6/rBwEZIL2V79K5hvEXAhRv7J3nAMat0K/ZprldFnnDb/l4GCpbH5APwvotJgnMVI/sUnBBafmXD9dh27eRi9kP4//S2BWS2o/ojHMLnxicD/MfJOfPs1zP2yVe6FCZXc/AC9j7skoez9JMpUAaBR/P4PRXJNkkIE/w2rgiQifgz9bUHoHwaiFP+FmPfGmn4c/QTYSZq9+iT8uwZUrPUyLP8zekTJbEo0/SCBEgyvYjj8vm8Fer1CQP55OaEjLN5E/\",\"dtype\":\"float64\",\"shape\":[75]},\"y\":{\"__ndarray__\":\"GhExyth1ND/Sv8nbtpRIP2vylNV0PVE/aTum7souWD/At0SJ8fVgPw3Iuahxymc/MSNhhJWvcD/bTfBN02d3P2zb5nxnaoA/CD5h5MAGhz8NmeH1TyaQP+zrCsc9p5Y/LbKd76fGnz/bLW5ISEmmPww9YvTcQq8/JV2OstnstT8Er5Y7M8G+P0c+r3jqkcU/5h99k6ZBzj88bCIzFzjVP4enV8oyxN0//yH99nXg5D8qOpLLf0jtP5kqGJXUifQ/c9cS8kHP/D+/DpwzojQEQIEmwoanVwxA4lgXt9HgE0BSSZ2AJuIbQAMJih9jjiNA5q4l5INuK0AwTKYKRj0zQNv5fmq8/DpAaCJseHrtQkB/+zpwzoxKQM3MzMzMeFJAZmZmZmZqWEAAAAAAAFxeQM3MzMzMJmJAmpmZmZkfZUBmZmZmZhhoQDMzMzMzEWtAAAAAAAAKbkBmZmZmZoFwQM3MzMzM/XFAMzMzMzN6c0CamZmZmfZ0QAAAAAAAc3ZAZmZmZmbvd0DNzMzMzGt5QDMzMzMz6HpAmpmZmZlkfEAAAAAAAOF9QGZmZmZmXX9AZmZmZuZsgECamZmZGSuBQM3MzMxM6YFAAAAAAICngkAzMzMzs2WDQGZmZmbmI4RAmpmZmRnihEDNzMzMTKCFQAAAAACAXoZAMzMzM7Mch0BmZmZm5tqHQJqZmZkZmYhAzczMzExXiUAAAAAAgBWKQDMzMzOz04pAZmZmZuaRi0CamZmZGVCMQM3MzMxMDo1AAAAAAIDMjUAzMzMzs4qOQGZmZmbmSI9A\",\"dtype\":\"float64\",\"shape\":[75]}},\"selected\":{\"id\":\"8f6ae3a1-d597-45a2-8c51-f600fe60ec47\",\"type\":\"Selection\"},\"selection_policy\":{\"id\":\"8c94d8c1-3964-4713-a13e-ba70d8be3f87\",\"type\":\"UnionRenderers\"}},\"id\":\"cc09eb94-95b8-43b2-8aa1-7ae9ef492001\",\"type\":\"ColumnDataSource\"},{\"attributes\":{},\"id\":\"5462bdd1-c832-4bbe-8100-3031f98b4508\",\"type\":\"UnionRenderers\"},{\"attributes\":{\"fill_alpha\":{\"value\":0.7},\"fill_color\":{\"value\":\"#377eb8\"},\"line_alpha\":{\"value\":0.7},\"line_color\":{\"value\":\"#377eb8\"},\"x\":{\"field\":\"x\"},\"y\":{\"field\":\"y\"}},\"id\":\"05e584c8-fe33-45f5-a9a5-a70c736cc576\",\"type\":\"Triangle\"},{\"attributes\":{\"source\":{\"id\":\"b3e20027-887b-4873-878e-a1c41a1a1977\",\"type\":\"ColumnDataSource\"}},\"id\":\"e6954c99-0bc2-49e8-b9c3-9bab52c34e72\",\"type\":\"CDSView\"},{\"attributes\":{\"source\":{\"id\":\"57b01808-f347-4058-b000-3721af5cf7ca\",\"type\":\"ColumnDataSource\"}},\"id\":\"a256cd05-12ff-495f-bbb8-17b36db2227b\",\"type\":\"CDSView\"},{\"attributes\":{\"data_source\":{\"id\":\"cc09eb94-95b8-43b2-8aa1-7ae9ef492001\",\"type\":\"ColumnDataSource\"},\"glyph\":{\"id\":\"ae92cc12-d2b6-45aa-89b4-92e8cd279214\",\"type\":\"Line\"},\"hover_glyph\":null,\"muted_glyph\":null,\"nonselection_glyph\":{\"id\":\"b771001f-a4a7-4e9c-b9e1-9753e3d2e388\",\"type\":\"Line\"},\"selection_glyph\":null,\"view\":{\"id\":\"1946f7d8-0f16-4000-9749-b9c07c30f259\",\"type\":\"CDSView\"}},\"id\":\"1b298a0f-8643-4193-ad05-d5f7d6a45c52\",\"type\":\"GlyphRenderer\"},{\"attributes\":{\"active_drag\":\"auto\",\"active_inspect\":\"auto\",\"active_scroll\":\"auto\",\"active_tap\":\"auto\",\"tools\":[{\"id\":\"09a19f55-050c-4ff4-91c6-e51c28a821a9\",\"type\":\"PanTool\"},{\"id\":\"ef0bf4f2-5e1c-465a-8f5d-c50757d1f2d4\",\"type\":\"WheelZoomTool\"},{\"id\":\"455f6c6d-7f19-4728-8e24-e10c5d31d50f\",\"type\":\"BoxZoomTool\"},{\"id\":\"9f70104f-5901-41b4-ae4c-5a864107c8c6\",\"type\":\"SaveTool\"},{\"id\":\"5a300494-9cb5-4daa-9a9c-aea73bf636cc\",\"type\":\"ResetTool\"},{\"id\":\"238c2e01-1bcb-4f8d-ba42-6f846d795c84\",\"type\":\"HelpTool\"}]},\"id\":\"5104410b-e5ea-4608-8b40-eb3906ded902\",\"type\":\"Toolbar\"},{\"attributes\":{\"label\":{\"value\":\"CRD\"},\"renderers\":[{\"id\":\"04416a37-5fe8-4069-b91e-fdb3a381538f\",\"type\":\"GlyphRenderer\"},{\"id\":\"6ee92680-7f76-4b5d-ac69-12a27fdd47bf\",\"type\":\"GlyphRenderer\"}]},\"id\":\"f2f18deb-4031-4af0-a138-5800f796f5fc\",\"type\":\"LegendItem\"},{\"attributes\":{\"callback\":null,\"end\":0.002008813475,\"start\":-0.0029339407750000003},\"id\":\"c5862109-a42d-4e8b-af89-235ef18b83b3\",\"type\":\"Range1d\"},{\"attributes\":{\"label\":{\"value\":\"WGT igg=1\"},\"renderers\":[{\"id\":\"0d36620d-be8d-491a-a887-0ad5374ead84\",\"type\":\"GlyphRenderer\"},{\"id\":\"cef3e726-1c42-4239-8581-77f6a5736315\",\"type\":\"GlyphRenderer\"}]},\"id\":\"71834984-65d4-4196-af89-a900a1b81a4b\",\"type\":\"LegendItem\"},{\"attributes\":{\"fill_alpha\":{\"value\":0.1},\"fill_color\":{\"value\":\"#1f77b4\"},\"line_alpha\":{\"value\":0.1},\"line_color\":{\"value\":\"#1f77b4\"},\"x\":{\"field\":\"x\"},\"y\":{\"field\":\"y\"}},\"id\":\"e803cc3d-d47c-42f9-8c25-1af7e19c566a\",\"type\":\"Square\"},{\"attributes\":{},\"id\":\"1b43c014-7272-4c3a-9cbb-ed740930c7ce\",\"type\":\"LinearScale\"},{\"attributes\":{\"label\":{\"value\":\"WGT igg=10\"},\"renderers\":[{\"id\":\"46486f6b-145f-43bc-8e8a-58160ed4a182\",\"type\":\"GlyphRenderer\"},{\"id\":\"1b298a0f-8643-4193-ad05-d5f7d6a45c52\",\"type\":\"GlyphRenderer\"}]},\"id\":\"31aa8804-a5ec-4914-9d73-59ea0e7901e7\",\"type\":\"LegendItem\"},{\"attributes\":{\"fill_alpha\":{\"value\":0.7},\"fill_color\":{\"value\":\"#984ea3\"},\"line_alpha\":{\"value\":0.7},\"line_color\":{\"value\":\"#984ea3\"},\"x\":{\"field\":\"x\"},\"y\":{\"field\":\"y\"}},\"id\":\"af29eecd-a00a-44ad-8e66-180ddd4cd0c3\",\"type\":\"Square\"},{\"attributes\":{},\"id\":\"09a19f55-050c-4ff4-91c6-e51c28a821a9\",\"type\":\"PanTool\"},{\"attributes\":{\"callback\":null,\"data\":{\"x\":{\"__ndarray__\":\"eSBkWvZpTL+qyUfjNGpMv70Wt0/maUy/DeDu+MpoTL/ixXSt4mZMv/2PzOI+ZEy/WuO/DfNgTL/IKyOHsVxMv8AwVQajV0y/BLak1sRRTL8mub/FL0tMv143qre3Q0y/Tt6cmt86TL+bE29qujBMv2h3MHClCEy/p3eXABxTS7/wFwTMVlZJvyojje7nkEW/Ryl1Ot5CPr9kfic0kuwiv6JHO+Ii1zY/eWqVYynHUT+bm9yXBhFfP7SjYKEpD2A/93YoGo37VD8qAQBML5lDP6li0mDvnRM/hiWFr9m6M79w6dAosmBCv4WAybx/e0i/opub8RVMTb98QEtY1bJQvz04oc2/j1K/R3r8lqyOVL9o2tKn9BNXv4v2Z6ylU1q/0VZZp0fkXb8heBAEzq5gvyLsEM5SamK/OA9pTG8cZL8MNES6RJplvzAP0+bKrGa/IxjYOX5OZ7/LBqn9VYVnv/MFkSohT2e/dm8qMnioZr8jvzREEo9lv0fhlmndAWS/hbbGpqgBYr+f0Lc5GCBfvxmj7dAba1m/KVIT3bD2Ur+3A5aW5aVHvxHXw6q9HTC/+w2OJMKtMT/6JXTWEhBLPyKdSAszT1c/dHVLmz/gYD9YRr7hMm1mPzEuEN5JTWw/CyYZWfQ+cT9BwCjp6350P1Q55QEQ5nc/DN1FyNtyez9alSag5yF/P304pK+pdYE/QHz7m5legz/9b9b0YTyFP6JrxGsV/4Y/6+jRt3mhiD8uE4/V9yuKP7L7p35Sq4s/oamurtAojT9NlxQLu6mOPz4FN4eoGJA/\",\"dtype\":\"float64\",\"shape\":[75]},\"y\":{\"__ndarray__\":\"GhExyth1ND/Sv8nbtpRIP2vylNV0PVE/aTum7souWD/At0SJ8fVgPw3Iuahxymc/MSNhhJWvcD/bTfBN02d3P2zb5nxnaoA/CD5h5MAGhz8NmeH1TyaQP+zrCsc9p5Y/LbKd76fGnz/bLW5ISEmmPww9YvTcQq8/JV2OstnstT8Er5Y7M8G+P0c+r3jqkcU/5h99k6ZBzj88bCIzFzjVP4enV8oyxN0//yH99nXg5D8qOpLLf0jtP5kqGJXUifQ/c9cS8kHP/D+/DpwzojQEQIEmwoanVwxA4lgXt9HgE0BSSZ2AJuIbQAMJih9jjiNA5q4l5INuK0AwTKYKRj0zQNv5fmq8/DpAaCJseHrtQkB/+zpwzoxKQM3MzMzMeFJAZmZmZmZqWEAAAAAAAFxeQM3MzMzMJmJAmpmZmZkfZUBmZmZmZhhoQDMzMzMzEWtAAAAAAAAKbkBmZmZmZoFwQM3MzMzM/XFAMzMzMzN6c0CamZmZmfZ0QAAAAAAAc3ZAZmZmZmbvd0DNzMzMzGt5QDMzMzMz6HpAmpmZmZlkfEAAAAAAAOF9QGZmZmZmXX9AZmZmZuZsgECamZmZGSuBQM3MzMxM6YFAAAAAAICngkAzMzMzs2WDQGZmZmbmI4RAmpmZmRnihEDNzMzMTKCFQAAAAACAXoZAMzMzM7Mch0BmZmZm5tqHQJqZmZkZmYhAzczMzExXiUAAAAAAgBWKQDMzMzOz04pAZmZmZuaRi0CamZmZGVCMQM3MzMxMDo1AAAAAAIDMjUAzMzMzs4qOQGZmZmbmSI9A\",\"dtype\":\"float64\",\"shape\":[75]}},\"selected\":{\"id\":\"af592ee1-8d8a-4426-b36c-185072f14e82\",\"type\":\"Selection\"},\"selection_policy\":{\"id\":\"691e6923-48eb-43bf-bec1-69043a5fc7ac\",\"type\":\"UnionRenderers\"}},\"id\":\"66e1f9ab-954d-4f67-81d7-537f19209ea3\",\"type\":\"ColumnDataSource\"},{\"attributes\":{\"data_source\":{\"id\":\"619c7e81-d08a-40c8-ac04-b07ac3fab903\",\"type\":\"ColumnDataSource\"},\"glyph\":{\"id\":\"215fc858-0536-4c7a-bb69-802a2314d158\",\"type\":\"Line\"},\"hover_glyph\":null,\"muted_glyph\":null,\"nonselection_glyph\":{\"id\":\"2b077e60-6a51-4cfb-a69c-c39ba639b72a\",\"type\":\"Line\"},\"selection_glyph\":null,\"view\":{\"id\":\"fd2fc5d7-377c-4ec3-9514-889e032e7872\",\"type\":\"CDSView\"}},\"id\":\"4b5fcb2a-4205-4075-8a36-840658ac5160\",\"type\":\"GlyphRenderer\"},{\"attributes\":{\"items\":[{\"id\":\"5dd9804b-6a4d-4c65-9932-a34b4ceb51ed\",\"type\":\"LegendItem\"},{\"id\":\"d320c385-94de-496a-bd97-38397609ae46\",\"type\":\"LegendItem\"},{\"id\":\"bebf8d47-c587-4e53-9d1d-230e9b969c72\",\"type\":\"LegendItem\"}],\"label_text_font_size\":{\"value\":\"8pt\"},\"location\":\"top_center\",\"orientation\":\"horizontal\",\"plot\":{\"id\":\"64f50483-ccf4-429a-967a-c620d5c2364f\",\"subtype\":\"Figure\",\"type\":\"Plot\"}},\"id\":\"d841f5e2-5833-4e5c-993e-099ce94ebd6c\",\"type\":\"Legend\"},{\"attributes\":{\"overlay\":{\"id\":\"e8c61b28-1182-484e-9a5c-4579ba08eddd\",\"type\":\"BoxAnnotation\"}},\"id\":\"455f6c6d-7f19-4728-8e24-e10c5d31d50f\",\"type\":\"BoxZoomTool\"},{\"attributes\":{\"callback\":null,\"data\":{\"x\":{\"__ndarray__\":\"8Loau639UL/5m4lXBABRv58KsZvWBFG/evEVi8UJUb/O2uyWhA5RvzurFmsQE1G/h2f3l2UXUb/40tPAgRtRvz0w5PZiH1G/LOLjLwcjUb8bCm90bSZRv7SG6buWKVG/1bSRR4UsUb9i/ngRYC9RvwUKZbeQNFG/X1ze6OAqUb9IjBMgQMZQv86kuWLUgU+/SDUuFJeAS78ib64EbXxEv30CNiCEAzK//hJdZJCHMT/Lstl8I9dMP4Cy7Xcxtk4/fmQ7V/iNPD/a/G3z3VoQv5AQmQjbnzy/dCgKhsjoRr8izJivdK5Mv/rxJJznXlC/TQcAwAn7Ub+frSF+J2lTvzDljd1P11S/jYgShw2KVr/YGSDGJNJYvwEOtpz431u/SCtxN6VQX7+wrMZnsVphvwkfONEoCWO/NaN8EGSuZL+tDsQeyC1mvzypNgUgWGe/YPkeNz0daL+ZlMvWJH5ovy5/jqsid2i/bs1u1m0DaL/jFBk1UR9nv2laSFpPyGW/SaPQWlv9Y78pb0U3Ar5hvz4bIZveIF6/rBwEZIL2V79K5hvEXAhRv7J3nAMat0K/ZprldFnnDb/l4GCpbH5APwvotJgnMVI/sUnBBafmXD9dh27eRi9kP4//S2BWS2o/ojHMLnxicD/MfJOfPs1zP2yVe6FCZXc/AC9j7skoez9JMpUAaBR/P4PRXJNkkIE/w2rgiQifgz9bUHoHwaiFP+FmPfGmn4c/QTYSZq9+iT8uwZUrPUyLP8zekTJbEo0/SCBEgyvYjj8vm8Fer1CQP55OaEjLN5E/\",\"dtype\":\"float64\",\"shape\":[75]},\"y\":{\"__ndarray__\":\"GhExyth1ND/Sv8nbtpRIP2vylNV0PVE/aTum7souWD/At0SJ8fVgPw3Iuahxymc/MSNhhJWvcD/bTfBN02d3P2zb5nxnaoA/CD5h5MAGhz8NmeH1TyaQP+zrCsc9p5Y/LbKd76fGnz/bLW5ISEmmPww9YvTcQq8/JV2OstnstT8Er5Y7M8G+P0c+r3jqkcU/5h99k6ZBzj88bCIzFzjVP4enV8oyxN0//yH99nXg5D8qOpLLf0jtP5kqGJXUifQ/c9cS8kHP/D+/DpwzojQEQIEmwoanVwxA4lgXt9HgE0BSSZ2AJuIbQAMJih9jjiNA5q4l5INuK0AwTKYKRj0zQNv5fmq8/DpAaCJseHrtQkB/+zpwzoxKQM3MzMzMeFJAZmZmZmZqWEAAAAAAAFxeQM3MzMzMJmJAmpmZmZkfZUBmZmZmZhhoQDMzMzMzEWtAAAAAAAAKbkBmZmZmZoFwQM3MzMzM/XFAMzMzMzN6c0CamZmZmfZ0QAAAAAAAc3ZAZmZmZmbvd0DNzMzMzGt5QDMzMzMz6HpAmpmZmZlkfEAAAAAAAOF9QGZmZmZmXX9AZmZmZuZsgECamZmZGSuBQM3MzMxM6YFAAAAAAICngkAzMzMzs2WDQGZmZmbmI4RAmpmZmRnihEDNzMzMTKCFQAAAAACAXoZAMzMzM7Mch0BmZmZm5tqHQJqZmZkZmYhAzczMzExXiUAAAAAAgBWKQDMzMzOz04pAZmZmZuaRi0CamZmZGVCMQM3MzMxMDo1AAAAAAIDMjUAzMzMzs4qOQGZmZmbmSI9A\",\"dtype\":\"float64\",\"shape\":[75]}},\"selected\":{\"id\":\"7fe1116b-326b-43c5-a737-9c92e02b0540\",\"type\":\"Selection\"},\"selection_policy\":{\"id\":\"0130765e-6b3f-4c27-ae81-c9fd16fa207b\",\"type\":\"UnionRenderers\"}},\"id\":\"6df3b38d-a581-4ee4-b632-3fa4ceb4256d\",\"type\":\"ColumnDataSource\"},{\"attributes\":{},\"id\":\"f053f443-0e5e-4c91-8c22-3901a629d73f\",\"type\":\"LogScale\"},{\"attributes\":{\"fill_alpha\":{\"value\":0.7},\"fill_color\":{\"value\":\"#377eb8\"},\"line_alpha\":{\"value\":0.7},\"line_color\":{\"value\":\"#377eb8\"},\"x\":{\"field\":\"x\"},\"y\":{\"field\":\"y\"}},\"id\":\"bccdaed7-f1dd-446c-9cf5-47f5d005435c\",\"type\":\"Triangle\"},{\"attributes\":{\"axis_label\":\"cooling rate [K/day]\",\"formatter\":{\"id\":\"5a66c4fc-4ece-4bb0-ae98-e13a89ec97c1\",\"type\":\"BasicTickFormatter\"},\"plot\":{\"id\":\"64f50483-ccf4-429a-967a-c620d5c2364f\",\"subtype\":\"Figure\",\"type\":\"Plot\"},\"ticker\":{\"id\":\"b45d03cf-eda1-4c3e-9aa9-02c372064bd1\",\"type\":\"BasicTicker\"}},\"id\":\"a97cff3b-4383-4e9a-ada4-42dde644fc88\",\"type\":\"LinearAxis\"},{\"attributes\":{\"source\":{\"id\":\"66e1f9ab-954d-4f67-81d7-537f19209ea3\",\"type\":\"ColumnDataSource\"}},\"id\":\"3e9a174c-af41-434c-93ff-20a4ea916f21\",\"type\":\"CDSView\"},{\"attributes\":{},\"id\":\"b45d03cf-eda1-4c3e-9aa9-02c372064bd1\",\"type\":\"BasicTicker\"},{\"attributes\":{\"bottom_units\":\"screen\",\"fill_alpha\":{\"value\":0.5},\"fill_color\":{\"value\":\"lightgrey\"},\"left_units\":\"screen\",\"level\":\"overlay\",\"line_alpha\":{\"value\":1.0},\"line_color\":{\"value\":\"black\"},\"line_dash\":[4,4],\"line_width\":{\"value\":2},\"plot\":null,\"render_mode\":\"css\",\"right_units\":\"screen\",\"top_units\":\"screen\"},\"id\":\"e8c61b28-1182-484e-9a5c-4579ba08eddd\",\"type\":\"BoxAnnotation\"},{\"attributes\":{},\"id\":\"9f70104f-5901-41b4-ae4c-5a864107c8c6\",\"type\":\"SaveTool\"},{\"attributes\":{},\"id\":\"5a300494-9cb5-4daa-9a9c-aea73bf636cc\",\"type\":\"ResetTool\"},{\"attributes\":{\"callback\":null,\"data\":{\"x\":{\"__ndarray__\":\"nPVlBVgGUr/8hunBdAhSv9FlfxvIDFK/vbXcMSYRUr9BFb/xShVSv6DKqdgxGVK/LHp3ydccUr84yAKnOSBSvzKYE/lUI1K/7UxltScmUr80aB2SsChSv7ypNcbvKlK/Fi7myecsUr8xeE2NrS5Sv7LpDeI/MFK/FJy6bmoZUr+2CGZ3ipZRv5JPuEv3XVC/F9EjMM0WTL/7KDAlcBREv6CtYKDDZyy/ILQKe7m9OT+OVcABkaxRP6MHAsg3uVI/cjqGtvMRQz99jfxlLsz4PpQTXroTCzq/bmrfGzm6Rr9VKg7N60VNv+27L9nC9FC/BuvffEHHUr+fFx8Ec2RUvyZOm+be+VW/SKwlGi3SV78GHqRXpkdav7QIalQ+jV2/MxRtSlaeYL9QE7Oe3mxiv4kHqHq/O2S/jG8ZCGr+Zb9AYFGRS6Nnv7N1nugi1Gi/n4O10QOWab+ORLe4sPBpv0Lg7ApJ42m/tOfh7Qleab9O+k87m1Vovw+m5zFY3ma/wqHYhmHyZL+Vrdk5MndivwkOmNkBPV+/c4VHgHKSWL8KyFqkiS5Rv7G4nhuWCEK/C4UnWxIxzL7RLWwp805DP1arKggiKlQ/fkJHgbZ7Xz9zlf9sSsJlP8dAf+I+OWw/dHKE4WN9cT8+wTFLQxR1PzZyLtzx2ng/oOLMeGHHfD/bu9KvPnCAP8AgJRIej4I/x3SfHgazhD9gff+QxdCGP3lhT2HD2Ig/XRGAqMnGij9/6WEmWaCMP8RD5U3ob44/dLR1M00fkD/cy+3G0QiRP18p2jv09JE/\",\"dtype\":\"float64\",\"shape\":[75]},\"y\":{\"__ndarray__\":\"GhExyth1ND/Sv8nbtpRIP2vylNV0PVE/aTum7souWD/At0SJ8fVgPw3Iuahxymc/MSNhhJWvcD/bTfBN02d3P2zb5nxnaoA/CD5h5MAGhz8NmeH1TyaQP+zrCsc9p5Y/LbKd76fGnz/bLW5ISEmmPww9YvTcQq8/JV2OstnstT8Er5Y7M8G+P0c+r3jqkcU/5h99k6ZBzj88bCIzFzjVP4enV8oyxN0//yH99nXg5D8qOpLLf0jtP5kqGJXUifQ/c9cS8kHP/D+/DpwzojQEQIEmwoanVwxA4lgXt9HgE0BSSZ2AJuIbQAMJih9jjiNA5q4l5INuK0AwTKYKRj0zQNv5fmq8/DpAaCJseHrtQkB/+zpwzoxKQM3MzMzMeFJAZmZmZmZqWEAAAAAAAFxeQM3MzMzMJmJAmpmZmZkfZUBmZmZmZhhoQDMzMzMzEWtAAAAAAAAKbkBmZmZmZoFwQM3MzMzM/XFAMzMzMzN6c0CamZmZmfZ0QAAAAAAAc3ZAZmZmZmbvd0DNzMzMzGt5QDMzMzMz6HpAmpmZmZlkfEAAAAAAAOF9QGZmZmZmXX9AZmZmZuZsgECamZmZGSuBQM3MzMxM6YFAAAAAAICngkAzMzMzs2WDQGZmZmbmI4RAmpmZmRnihEDNzMzMTKCFQAAAAACAXoZAMzMzM7Mch0BmZmZm5tqHQJqZmZkZmYhAzczMzExXiUAAAAAAgBWKQDMzMzOz04pAZmZmZuaRi0CamZmZGVCMQM3MzMxMDo1AAAAAAIDMjUAzMzMzs4qOQGZmZmbmSI9A\",\"dtype\":\"float64\",\"shape\":[75]}},\"selected\":{\"id\":\"fd8b2ba1-07f0-4d54-8904-1120eb6b4f14\",\"type\":\"Selection\"},\"selection_policy\":{\"id\":\"a9349d2c-eb78-47f5-8189-8ce5927460df\",\"type\":\"UnionRenderers\"}},\"id\":\"619c7e81-d08a-40c8-ac04-b07ac3fab903\",\"type\":\"ColumnDataSource\"},{\"attributes\":{},\"id\":\"238c2e01-1bcb-4f8d-ba42-6f846d795c84\",\"type\":\"HelpTool\"},{\"attributes\":{\"line_alpha\":0.1,\"line_color\":\"#1f77b4\",\"line_width\":3,\"x\":{\"field\":\"x\"},\"y\":{\"field\":\"y\"}},\"id\":\"2b077e60-6a51-4cfb-a69c-c39ba639b72a\",\"type\":\"Line\"},{\"attributes\":{\"fill_alpha\":{\"value\":0.1},\"fill_color\":{\"value\":\"#1f77b4\"},\"line_alpha\":{\"value\":0.1},\"line_color\":{\"value\":\"#1f77b4\"},\"x\":{\"field\":\"x\"},\"y\":{\"field\":\"y\"}},\"id\":\"f455758e-2fe8-434e-8247-198dc17d4890\",\"type\":\"Circle\"},{\"attributes\":{},\"id\":\"8f1119d5-552f-47f7-a7f2-c2ec92b256a5\",\"type\":\"UnionRenderers\"},{\"attributes\":{\"source\":{\"id\":\"619c7e81-d08a-40c8-ac04-b07ac3fab903\",\"type\":\"ColumnDataSource\"}},\"id\":\"fd2fc5d7-377c-4ec3-9514-889e032e7872\",\"type\":\"CDSView\"},{\"attributes\":{\"fill_alpha\":{\"value\":0.7},\"fill_color\":{\"value\":\"#4daf4a\"},\"line_alpha\":{\"value\":0.7},\"line_color\":{\"value\":\"#4daf4a\"},\"x\":{\"field\":\"x\"},\"y\":{\"field\":\"y\"}},\"id\":\"f9cb392d-4789-4362-be34-63f21ad0342e\",\"type\":\"Circle\"},{\"attributes\":{\"callback\":null,\"end\":0.017743013159,\"start\":-0.0033735530589999994},\"id\":\"65fdf1bd-39bf-447a-8d8a-5eb07de663e4\",\"type\":\"Range1d\"},{\"attributes\":{\"data_source\":{\"id\":\"185e7e5a-a25d-4e6e-9446-1c7eadc579ef\",\"type\":\"ColumnDataSource\"},\"glyph\":{\"id\":\"93353cc8-68a8-4ab3-b92c-20177edb18d1\",\"type\":\"Circle\"},\"hover_glyph\":null,\"muted_glyph\":null,\"nonselection_glyph\":{\"id\":\"3120aff4-3257-41ec-bab2-f31381652fb0\",\"type\":\"Circle\"},\"selection_glyph\":null,\"view\":{\"id\":\"ce29ceba-8e28-402f-8e14-0b879e9849e7\",\"type\":\"CDSView\"}},\"id\":\"04416a37-5fe8-4069-b91e-fdb3a381538f\",\"type\":\"GlyphRenderer\"},{\"attributes\":{},\"id\":\"ae64847a-5f55-4cc4-a558-6fa6e64d99a3\",\"type\":\"LinearScale\"},{\"attributes\":{\"plot\":{\"id\":\"64f50483-ccf4-429a-967a-c620d5c2364f\",\"subtype\":\"Figure\",\"type\":\"Plot\"},\"ticker\":{\"id\":\"b45d03cf-eda1-4c3e-9aa9-02c372064bd1\",\"type\":\"BasicTicker\"}},\"id\":\"389fe236-2c68-42e7-9961-d75a2bdc5a6a\",\"type\":\"Grid\"},{\"attributes\":{\"items\":[{\"id\":\"f2f18deb-4031-4af0-a138-5800f796f5fc\",\"type\":\"LegendItem\"},{\"id\":\"71834984-65d4-4196-af89-a900a1b81a4b\",\"type\":\"LegendItem\"},{\"id\":\"31aa8804-a5ec-4914-9d73-59ea0e7901e7\",\"type\":\"LegendItem\"}],\"label_text_font_size\":{\"value\":\"8pt\"},\"location\":\"top_center\",\"orientation\":\"horizontal\",\"plot\":{\"id\":\"b211d3e8-376a-47b1-98b6-0501538d2420\",\"subtype\":\"Figure\",\"type\":\"Plot\"}},\"id\":\"8b34feab-69c9-4378-8ec0-bb7aa898e2e1\",\"type\":\"Legend\"},{\"attributes\":{},\"id\":\"d503a8bc-7608-4ac4-98d6-4288e1b9ca29\",\"type\":\"LinearScale\"},{\"attributes\":{\"active_drag\":\"auto\",\"active_inspect\":\"auto\",\"active_scroll\":\"auto\",\"active_tap\":\"auto\",\"tools\":[{\"id\":\"550290d5-546d-4bd9-92db-bdd6273e259e\",\"type\":\"PanTool\"},{\"id\":\"140b025a-e8e8-4c6e-b2f9-1507b08b8bee\",\"type\":\"WheelZoomTool\"},{\"id\":\"93d986b0-223c-4c86-ada2-06c859bba748\",\"type\":\"BoxZoomTool\"},{\"id\":\"f2cce166-b9a9-4c39-8921-f8ce04b94158\",\"type\":\"SaveTool\"},{\"id\":\"d106f481-19ae-4722-9487-9b60a594d003\",\"type\":\"ResetTool\"},{\"id\":\"d9adff57-f93d-4747-ba80-8303e6cf47d7\",\"type\":\"HelpTool\"}]},\"id\":\"544776eb-be93-4201-8d7b-1a4f1e151233\",\"type\":\"Toolbar\"},{\"attributes\":{\"dimension\":1,\"plot\":{\"id\":\"b211d3e8-376a-47b1-98b6-0501538d2420\",\"subtype\":\"Figure\",\"type\":\"Plot\"},\"ticker\":{\"id\":\"7d6c8e77-98f5-4d15-91f4-b228e4de5398\",\"type\":\"BasicTicker\"}},\"id\":\"4966b1ec-79e5-49f5-a354-22aa9f1d5fa0\",\"type\":\"Grid\"},{\"attributes\":{\"overlay\":{\"id\":\"f9755140-06b9-4cef-a771-fb281fa93435\",\"type\":\"BoxAnnotation\"}},\"id\":\"93d986b0-223c-4c86-ada2-06c859bba748\",\"type\":\"BoxZoomTool\"},{\"attributes\":{},\"id\":\"7d6c8e77-98f5-4d15-91f4-b228e4de5398\",\"type\":\"BasicTicker\"},{\"attributes\":{\"axis_label\":\"pressure [mb]\",\"formatter\":{\"id\":\"79a88423-ddab-44c6-9062-10d90f03fbba\",\"type\":\"BasicTickFormatter\"},\"plot\":{\"id\":\"b211d3e8-376a-47b1-98b6-0501538d2420\",\"subtype\":\"Figure\",\"type\":\"Plot\"},\"ticker\":{\"id\":\"7d6c8e77-98f5-4d15-91f4-b228e4de5398\",\"type\":\"BasicTicker\"}},\"id\":\"d5286417-386f-440b-ade5-6a27422ee0db\",\"type\":\"LinearAxis\"},{\"attributes\":{},\"id\":\"7943af8a-32c9-4b7f-88b2-add012722e56\",\"type\":\"BasicTicker\"},{\"attributes\":{\"axis_label\":\"cooling rate [K/day]\",\"formatter\":{\"id\":\"3f74978e-ce40-4df5-8c3f-79549015e839\",\"type\":\"BasicTickFormatter\"},\"plot\":{\"id\":\"b211d3e8-376a-47b1-98b6-0501538d2420\",\"subtype\":\"Figure\",\"type\":\"Plot\"},\"ticker\":{\"id\":\"7943af8a-32c9-4b7f-88b2-add012722e56\",\"type\":\"BasicTicker\"}},\"id\":\"7581d533-922a-4db2-bfec-1f23bbb42837\",\"type\":\"LinearAxis\"},{\"attributes\":{},\"id\":\"f2cce166-b9a9-4c39-8921-f8ce04b94158\",\"type\":\"SaveTool\"},{\"attributes\":{\"plot\":{\"id\":\"b211d3e8-376a-47b1-98b6-0501538d2420\",\"subtype\":\"Figure\",\"type\":\"Plot\"},\"ticker\":{\"id\":\"7943af8a-32c9-4b7f-88b2-add012722e56\",\"type\":\"BasicTicker\"}},\"id\":\"232ced32-f9f4-4857-ae1c-c47bd1e31e40\",\"type\":\"Grid\"},{\"attributes\":{\"above\":[{\"id\":\"8b34feab-69c9-4378-8ec0-bb7aa898e2e1\",\"type\":\"Legend\"}],\"below\":[{\"id\":\"7581d533-922a-4db2-bfec-1f23bbb42837\",\"type\":\"LinearAxis\"}],\"left\":[{\"id\":\"d5286417-386f-440b-ade5-6a27422ee0db\",\"type\":\"LinearAxis\"}],\"plot_height\":500,\"plot_width\":400,\"renderers\":[{\"id\":\"7581d533-922a-4db2-bfec-1f23bbb42837\",\"type\":\"LinearAxis\"},{\"id\":\"232ced32-f9f4-4857-ae1c-c47bd1e31e40\",\"type\":\"Grid\"},{\"id\":\"d5286417-386f-440b-ade5-6a27422ee0db\",\"type\":\"LinearAxis\"},{\"id\":\"4966b1ec-79e5-49f5-a354-22aa9f1d5fa0\",\"type\":\"Grid\"},{\"id\":\"f9755140-06b9-4cef-a771-fb281fa93435\",\"type\":\"BoxAnnotation\"},{\"id\":\"04416a37-5fe8-4069-b91e-fdb3a381538f\",\"type\":\"GlyphRenderer\"},{\"id\":\"6ee92680-7f76-4b5d-ac69-12a27fdd47bf\",\"type\":\"GlyphRenderer\"},{\"id\":\"0d36620d-be8d-491a-a887-0ad5374ead84\",\"type\":\"GlyphRenderer\"},{\"id\":\"cef3e726-1c42-4239-8581-77f6a5736315\",\"type\":\"GlyphRenderer\"},{\"id\":\"46486f6b-145f-43bc-8e8a-58160ed4a182\",\"type\":\"GlyphRenderer\"},{\"id\":\"1b298a0f-8643-4193-ad05-d5f7d6a45c52\",\"type\":\"GlyphRenderer\"},{\"id\":\"8b34feab-69c9-4378-8ec0-bb7aa898e2e1\",\"type\":\"Legend\"}],\"title\":{\"id\":\"8cfac78b-8df6-400b-bbf0-7c50953928ce\",\"type\":\"Title\"},\"toolbar\":{\"id\":\"544776eb-be93-4201-8d7b-1a4f1e151233\",\"type\":\"Toolbar\"},\"toolbar_location\":null,\"x_range\":{\"id\":\"65fdf1bd-39bf-447a-8d8a-5eb07de663e4\",\"type\":\"Range1d\"},\"x_scale\":{\"id\":\"ae64847a-5f55-4cc4-a558-6fa6e64d99a3\",\"type\":\"LinearScale\"},\"y_range\":{\"id\":\"14da84bf-0cd0-46f5-b2e7-ef2a0ff21972\",\"type\":\"Range1d\"},\"y_scale\":{\"id\":\"d503a8bc-7608-4ac4-98d6-4288e1b9ca29\",\"type\":\"LinearScale\"}},\"id\":\"b211d3e8-376a-47b1-98b6-0501538d2420\",\"subtype\":\"Figure\",\"type\":\"Plot\"},{\"attributes\":{\"callback\":null,\"end\":0.01,\"start\":1020},\"id\":\"14da84bf-0cd0-46f5-b2e7-ef2a0ff21972\",\"type\":\"Range1d\"},{\"attributes\":{},\"id\":\"140b025a-e8e8-4c6e-b2f9-1507b08b8bee\",\"type\":\"WheelZoomTool\"},{\"attributes\":{\"bottom_units\":\"screen\",\"fill_alpha\":{\"value\":0.5},\"fill_color\":{\"value\":\"lightgrey\"},\"left_units\":\"screen\",\"level\":\"overlay\",\"line_alpha\":{\"value\":1.0},\"line_color\":{\"value\":\"black\"},\"line_dash\":[4,4],\"line_width\":{\"value\":2},\"plot\":null,\"render_mode\":\"css\",\"right_units\":\"screen\",\"top_units\":\"screen\"},\"id\":\"f9755140-06b9-4cef-a771-fb281fa93435\",\"type\":\"BoxAnnotation\"},{\"attributes\":{\"fill_alpha\":{\"value\":0.1},\"fill_color\":{\"value\":\"#1f77b4\"},\"line_alpha\":{\"value\":0.1},\"line_color\":{\"value\":\"#1f77b4\"},\"x\":{\"field\":\"x\"},\"y\":{\"field\":\"y\"}},\"id\":\"3120aff4-3257-41ec-bab2-f31381652fb0\",\"type\":\"Circle\"},{\"attributes\":{},\"id\":\"550290d5-546d-4bd9-92db-bdd6273e259e\",\"type\":\"PanTool\"},{\"attributes\":{},\"id\":\"d106f481-19ae-4722-9487-9b60a594d003\",\"type\":\"ResetTool\"},{\"attributes\":{},\"id\":\"3afec9ae-2127-45b0-9e7b-e9289d510e36\",\"type\":\"Selection\"}],\"root_ids\":[\"dd395d6a-0610-4699-9ce1-de284eb54796\"]},\"title\":\"Bokeh Application\",\"version\":\"0.12.16\"}};\n",
       "  var render_items = [{\"docid\":\"5f526231-f699-4ab0-b371-621649bec407\",\"elementid\":\"b2c5835c-5dfc-4d42-9a73-6e05fa1445e8\",\"modelid\":\"dd395d6a-0610-4699-9ce1-de284eb54796\"}];\n",
       "  root.Bokeh.embed.embed_items_notebook(docs_json, render_items);\n",
       "\n",
       "  }\n",
       "  if (root.Bokeh !== undefined) {\n",
       "    embed_document(root);\n",
       "  } else {\n",
       "    var attempts = 0;\n",
       "    var timer = setInterval(function(root) {\n",
       "      if (root.Bokeh !== undefined) {\n",
       "        embed_document(root);\n",
       "        clearInterval(timer);\n",
       "      }\n",
       "      attempts++;\n",
       "      if (attempts > 100) {\n",
       "        console.log(\"Bokeh: ERROR: Unable to run BokehJS code because BokehJS library is missing\")\n",
       "        clearInterval(timer);\n",
       "      }\n",
       "    }, 10, root)\n",
       "  }\n",
       "})(window);"
      ],
      "application/vnd.bokehjs_exec.v0+json": ""
     },
     "metadata": {
      "application/vnd.bokehjs_exec.v0+json": {
       "id": "dd395d6a-0610-4699-9ce1-de284eb54796"
      }
     },
     "output_type": "display_data"
    },
    {
     "data": {
      "text/markdown": [
       "*FIGURE.* Cooling rates. g=4"
      ],
      "text/plain": [
       "<IPython.core.display.Markdown object>"
      ]
     },
     "metadata": {},
     "output_type": "display_data"
    },
    {
     "data": {
      "text/html": [
       "\n",
       "<div class=\"bk-root\">\n",
       "    <div class=\"bk-plotdiv\" id=\"9c31b5da-acd0-40d7-aaa6-6d52a7fd74b1\"></div>\n",
       "</div>"
      ]
     },
     "metadata": {},
     "output_type": "display_data"
    },
    {
     "data": {
      "application/javascript": [
       "(function(root) {\n",
       "  function embed_document(root) {\n",
       "    \n",
       "  var docs_json = {\"d4974529-78b0-4ce8-a073-c59b7369f16e\":{\"roots\":{\"references\":[{\"attributes\":{},\"id\":\"689f82ad-0680-4701-8e9b-a9e8c81ba570\",\"type\":\"LinearScale\"},{\"attributes\":{\"fill_alpha\":{\"value\":0.1},\"fill_color\":{\"value\":\"#1f77b4\"},\"line_alpha\":{\"value\":0.1},\"line_color\":{\"value\":\"#1f77b4\"},\"x\":{\"field\":\"x\"},\"y\":{\"field\":\"y\"}},\"id\":\"7a3b38d2-6ee3-4a39-9a85-74a589bdc0a1\",\"type\":\"Square\"},{\"attributes\":{\"items\":[{\"id\":\"9d1b333a-6a39-479f-8d8c-a4a997c68d29\",\"type\":\"LegendItem\"},{\"id\":\"46533331-9b3b-4cd0-b6ef-e8358f8075ca\",\"type\":\"LegendItem\"},{\"id\":\"f824c367-c7c9-491c-af4c-d49baa292619\",\"type\":\"LegendItem\"}],\"label_text_font_size\":{\"value\":\"8pt\"},\"location\":\"top_center\",\"orientation\":\"horizontal\",\"plot\":{\"id\":\"857d6b14-752b-49a0-99a8-8b9f151e8c69\",\"subtype\":\"Figure\",\"type\":\"Plot\"}},\"id\":\"b60ad90b-7d77-4308-b3c0-972faa3886e3\",\"type\":\"Legend\"},{\"attributes\":{\"plot\":{\"id\":\"857d6b14-752b-49a0-99a8-8b9f151e8c69\",\"subtype\":\"Figure\",\"type\":\"Plot\"},\"ticker\":{\"id\":\"175da7e7-d5bf-4bc9-ae8e-314611ea563e\",\"type\":\"BasicTicker\"}},\"id\":\"90d85b11-d463-493d-a424-572a6d8e135a\",\"type\":\"Grid\"},{\"attributes\":{\"fill_alpha\":{\"value\":0.1},\"fill_color\":{\"value\":\"#1f77b4\"},\"line_alpha\":{\"value\":0.1},\"line_color\":{\"value\":\"#1f77b4\"},\"x\":{\"field\":\"x\"},\"y\":{\"field\":\"y\"}},\"id\":\"db102cb6-9de8-4727-a52f-425fe2a6192a\",\"type\":\"Circle\"},{\"attributes\":{\"active_drag\":\"auto\",\"active_inspect\":\"auto\",\"active_scroll\":\"auto\",\"active_tap\":\"auto\",\"tools\":[{\"id\":\"3830b163-7a55-45a2-bc9f-80e4366a2038\",\"type\":\"PanTool\"},{\"id\":\"f98e9840-3692-4057-adca-3e5e7e8b0b99\",\"type\":\"WheelZoomTool\"},{\"id\":\"1afb5b1a-2d58-4b89-9de0-a664b45057fa\",\"type\":\"BoxZoomTool\"},{\"id\":\"d3f47c43-d55f-421d-a9f7-a12d8c9bd987\",\"type\":\"SaveTool\"},{\"id\":\"2c363f00-c8e2-455f-aa7f-e0d9d6dc7453\",\"type\":\"ResetTool\"},{\"id\":\"549a079e-7b73-45eb-be85-9bb343aa3558\",\"type\":\"HelpTool\"}]},\"id\":\"c452d78f-7cc6-420a-b98d-2f3a012661b3\",\"type\":\"Toolbar\"},{\"attributes\":{},\"id\":\"d3f47c43-d55f-421d-a9f7-a12d8c9bd987\",\"type\":\"SaveTool\"},{\"attributes\":{\"callback\":null,\"data\":{\"x\":{\"__ndarray__\":\"CbQKvwANpr/AU0MHUeKlv9GDQC1vhqW/3Iv/+dcipb8bkR5Ofb2kv+wFGu5pX6S/th3s0XP4o79Vvx/T042jvzIDAN+FMKO/PtOK8KjRor+TXfKYnmeiv7d5t8OpE6K/Nn68CTTJob+JEa7rwHuhvxKms3PCQKC/kQGAsUIgmL+QyAP1Mv2CvwXQKRpD5oE/n60e07KRnz+DSW2NS5KtP5xKF7P6H7c/XeMEB/aSwD8JymdJWh/FP4oDt5nC9sQ/bwwckQ92wD9hduDFNFu3P/WL2Io15K4/nuNjPLEjoz+O31OH28aWP2xwg9omzoo/SvRBVmYdfj+wRaA0sxprP5ydzSgqm0E/nbOSCcnYYb+Mdz6WIYV7v8BTmEbX24q/bC+dF9q2k7/9b0XFTSmZvxG5wrajCp+/IGvK9T1Bor92xSrrYICjv1YM+z41IKO/MMH78IFIor+P5dpWO0ehv+AQDq+TIaC/2qQwpS2rnb/BmUhOkcuav5wzkT/ArZe/CKfRAqNZlL/4CojwFdaQv8v4nmHPdoq/QCJH2gUwg798SHpujeh3vx0rSV1T+2K/nhny2J0JVD8Aqi5bCL1zP4v/yD3CZ4E/65H5diYoiT/9iq1pM5GQP+smCHa+sZQ/Y07qmYvzmD/UFATr7V6dP5650hZZ+6A/ANQ9jzVdoz/0lfEDGNWlPxtky+v9W6g/zjeAvQHcqj/e1y/qHDGtPwo/R4jAN68/J85rm8t1sD9lksteOjaxP/wC91gW8bE/ina3yu+0sj+S4DLJKouzP4VKM6czfLQ/\",\"dtype\":\"float64\",\"shape\":[75]},\"y\":{\"__ndarray__\":\"GhExyth1ND/Sv8nbtpRIP2vylNV0PVE/aTum7souWD/At0SJ8fVgPw3Iuahxymc/MSNhhJWvcD/bTfBN02d3P2zb5nxnaoA/CD5h5MAGhz8NmeH1TyaQP+zrCsc9p5Y/LbKd76fGnz/bLW5ISEmmPww9YvTcQq8/JV2OstnstT8Er5Y7M8G+P0c+r3jqkcU/5h99k6ZBzj88bCIzFzjVP4enV8oyxN0//yH99nXg5D8qOpLLf0jtP5kqGJXUifQ/c9cS8kHP/D+/DpwzojQEQIEmwoanVwxA4lgXt9HgE0BSSZ2AJuIbQAMJih9jjiNA5q4l5INuK0AwTKYKRj0zQNv5fmq8/DpAaCJseHrtQkB/+zpwzoxKQM3MzMzMeFJAZmZmZmZqWEAAAAAAAFxeQM3MzMzMJmJAmpmZmZkfZUBmZmZmZhhoQDMzMzMzEWtAAAAAAAAKbkBmZmZmZoFwQM3MzMzM/XFAMzMzMzN6c0CamZmZmfZ0QAAAAAAAc3ZAZmZmZmbvd0DNzMzMzGt5QDMzMzMz6HpAmpmZmZlkfEAAAAAAAOF9QGZmZmZmXX9AZmZmZuZsgECamZmZGSuBQM3MzMxM6YFAAAAAAICngkAzMzMzs2WDQGZmZmbmI4RAmpmZmRnihEDNzMzMTKCFQAAAAACAXoZAMzMzM7Mch0BmZmZm5tqHQJqZmZkZmYhAzczMzExXiUAAAAAAgBWKQDMzMzOz04pAZmZmZuaRi0CamZmZGVCMQM3MzMxMDo1AAAAAAIDMjUAzMzMzs4qOQGZmZmbmSI9A\",\"dtype\":\"float64\",\"shape\":[75]}},\"selected\":{\"id\":\"9918cfe8-e1d1-4884-ba24-a3ea9bcb39c6\",\"type\":\"Selection\"},\"selection_policy\":{\"id\":\"0fc6eb8d-bdcb-4c73-a9b2-eb0dda3c21e7\",\"type\":\"UnionRenderers\"}},\"id\":\"a393763b-1997-4b45-8ca4-b7e84e9271ff\",\"type\":\"ColumnDataSource\"},{\"attributes\":{\"ticker\":null},\"id\":\"c409a9d2-5ef7-4a1d-b5a3-1454c4689419\",\"type\":\"LogTickFormatter\"},{\"attributes\":{\"fill_alpha\":{\"value\":0.7},\"fill_color\":{\"value\":\"#984ea3\"},\"line_alpha\":{\"value\":0.7},\"line_color\":{\"value\":\"#984ea3\"},\"x\":{\"field\":\"x\"},\"y\":{\"field\":\"y\"}},\"id\":\"ee147ca6-4186-45d7-8860-07ec7af8fd78\",\"type\":\"Square\"},{\"attributes\":{\"source\":{\"id\":\"a4817c32-418d-486c-a916-c4b87522c4d2\",\"type\":\"ColumnDataSource\"}},\"id\":\"eb2d7aab-3d92-4e35-a2cc-b2b42a5e262e\",\"type\":\"CDSView\"},{\"attributes\":{\"dimension\":1,\"plot\":{\"id\":\"857d6b14-752b-49a0-99a8-8b9f151e8c69\",\"subtype\":\"Figure\",\"type\":\"Plot\"},\"ticker\":{\"id\":\"da21e1e4-f1be-48d8-b130-fe07b8059e43\",\"type\":\"BasicTicker\"}},\"id\":\"b38aa8b4-f9e6-42da-9456-01741ef6e707\",\"type\":\"Grid\"},{\"attributes\":{\"source\":{\"id\":\"a2e4445b-f6ec-4551-bb19-eec168c2794a\",\"type\":\"ColumnDataSource\"}},\"id\":\"1c70e0e7-dc43-470f-aa6c-9625d5efe4b8\",\"type\":\"CDSView\"},{\"attributes\":{\"callback\":null,\"data\":{\"x\":{\"__ndarray__\":\"22pJWOcDsb9V0dLjPeawv99+NnKkoLC/mCexNMdWsL+neuJ9YhCwv4l2lJVjlq+/wIGNocESr7/j+fmZtJiuv9U53BhjL66/+aA2Mgjarb/ZgtvY7aKtvwRhXjwwlq2/kokSa3/Grb/yR48bRkKuv4YVnj95nq2/DRWubPviqL+kI9MgywigvxLNuqel0IS/lzKZN4ePjj/BgAv0l9imPym2E0tzerQ/yxZcepOCvz+42gLvhbLEP9uWjFmyp8M/LdzDNISJuz975KBhzGmxP3u9/PUmwqU/4PO2EXFKnD8wYdKE8RqUPxz/A4HVXo4/gEjA8QOwhT8BB4QlYqB5Py7a2Kw0xmc/kHlnBoDGMz88vAxNY+ppv5hiFOLAr3+/qoI6l5pRiL/n120FvqePv/9djUCijZS/LSg08a6Tmb+CVOQmFN6bv5BQU7lo+Jq/8qLmcnSMmb+Q7+I9oRKYv9awO/KCbpa/CEDrdRKUlL/FiwFeB4CSvwbScEA7M5C/XB54J+lii7+kBCRy5gSGv+vX6Trbb4C/UXR8ic6Tdb+DslwVi6pkv3aznBj8YSw/UFOdng+AaD/KjWetL+13PxzrtpGYA4I/5Bvz3L9QiD+zUTOJcOWOP31sjaoQ5JI/cccNUv9/lj+el3WKD0yaPxS57iiTTp4/NJ8P3URGoT+YOK//bIOjP5mPW93l2KU/RGJqLQkxqD9NKgadJWKqPwTXpyhPQ6w/iw4Q1rjQrT9Oh3vFfDGvP/95IA4nS7A/GlYUQG0RsT9RlAAiw/ixP/SED3vlEbM/\",\"dtype\":\"float64\",\"shape\":[75]},\"y\":{\"__ndarray__\":\"GhExyth1ND/Sv8nbtpRIP2vylNV0PVE/aTum7souWD/At0SJ8fVgPw3Iuahxymc/MSNhhJWvcD/bTfBN02d3P2zb5nxnaoA/CD5h5MAGhz8NmeH1TyaQP+zrCsc9p5Y/LbKd76fGnz/bLW5ISEmmPww9YvTcQq8/JV2OstnstT8Er5Y7M8G+P0c+r3jqkcU/5h99k6ZBzj88bCIzFzjVP4enV8oyxN0//yH99nXg5D8qOpLLf0jtP5kqGJXUifQ/c9cS8kHP/D+/DpwzojQEQIEmwoanVwxA4lgXt9HgE0BSSZ2AJuIbQAMJih9jjiNA5q4l5INuK0AwTKYKRj0zQNv5fmq8/DpAaCJseHrtQkB/+zpwzoxKQM3MzMzMeFJAZmZmZmZqWEAAAAAAAFxeQM3MzMzMJmJAmpmZmZkfZUBmZmZmZhhoQDMzMzMzEWtAAAAAAAAKbkBmZmZmZoFwQM3MzMzM/XFAMzMzMzN6c0CamZmZmfZ0QAAAAAAAc3ZAZmZmZmbvd0DNzMzMzGt5QDMzMzMz6HpAmpmZmZlkfEAAAAAAAOF9QGZmZmZmXX9AZmZmZuZsgECamZmZGSuBQM3MzMxM6YFAAAAAAICngkAzMzMzs2WDQGZmZmbmI4RAmpmZmRnihEDNzMzMTKCFQAAAAACAXoZAMzMzM7Mch0BmZmZm5tqHQJqZmZkZmYhAzczMzExXiUAAAAAAgBWKQDMzMzOz04pAZmZmZuaRi0CamZmZGVCMQM3MzMxMDo1AAAAAAIDMjUAzMzMzs4qOQGZmZmbmSI9A\",\"dtype\":\"float64\",\"shape\":[75]}},\"selected\":{\"id\":\"94b355a8-d52b-4c9d-b057-a0dd28d8657c\",\"type\":\"Selection\"},\"selection_policy\":{\"id\":\"aaa6ee25-f23f-4ed2-b4a3-5fb78ad1c57b\",\"type\":\"UnionRenderers\"}},\"id\":\"a4817c32-418d-486c-a916-c4b87522c4d2\",\"type\":\"ColumnDataSource\"},{\"attributes\":{\"line_alpha\":0.6,\"line_color\":\"#984ea3\",\"line_width\":3,\"x\":{\"field\":\"x\"},\"y\":{\"field\":\"y\"}},\"id\":\"2e0eeddf-f93d-4e65-9e75-f1a4a347a963\",\"type\":\"Line\"},{\"attributes\":{\"axis_label\":\"pressure [mb]\",\"formatter\":{\"id\":\"874aa776-9050-448f-93a8-2fb88c729f0d\",\"type\":\"BasicTickFormatter\"},\"plot\":{\"id\":\"857d6b14-752b-49a0-99a8-8b9f151e8c69\",\"subtype\":\"Figure\",\"type\":\"Plot\"},\"ticker\":{\"id\":\"da21e1e4-f1be-48d8-b130-fe07b8059e43\",\"type\":\"BasicTicker\"}},\"id\":\"1bac6f58-b64b-404d-acd3-cfe0f1a3e8b6\",\"type\":\"LinearAxis\"},{\"attributes\":{\"data_source\":{\"id\":\"7a0c7515-f7ac-4299-9cd2-fb6b88bd1e42\",\"type\":\"ColumnDataSource\"},\"glyph\":{\"id\":\"ee147ca6-4186-45d7-8860-07ec7af8fd78\",\"type\":\"Square\"},\"hover_glyph\":null,\"muted_glyph\":null,\"nonselection_glyph\":{\"id\":\"7a3b38d2-6ee3-4a39-9a85-74a589bdc0a1\",\"type\":\"Square\"},\"selection_glyph\":null,\"view\":{\"id\":\"8db107dc-5134-429c-bc85-fabbf173181c\",\"type\":\"CDSView\"}},\"id\":\"d2e24a97-82b6-4ea5-a089-255ba9a8b10a\",\"type\":\"GlyphRenderer\"},{\"attributes\":{},\"id\":\"da21e1e4-f1be-48d8-b130-fe07b8059e43\",\"type\":\"BasicTicker\"},{\"attributes\":{\"line_color\":\"#4daf4a\",\"line_width\":1.5,\"x\":{\"field\":\"x\"},\"y\":{\"field\":\"y\"}},\"id\":\"117d3e32-32de-4614-be09-0daa72b5b69e\",\"type\":\"Line\"},{\"attributes\":{},\"id\":\"2c363f00-c8e2-455f-aa7f-e0d9d6dc7453\",\"type\":\"ResetTool\"},{\"attributes\":{\"callback\":null,\"end\":0.01,\"start\":1020},\"id\":\"27709087-23e0-4740-8345-da6a0ad7f2ac\",\"type\":\"Range1d\"},{\"attributes\":{\"line_alpha\":0.1,\"line_color\":\"#1f77b4\",\"line_width\":1.5,\"x\":{\"field\":\"x\"},\"y\":{\"field\":\"y\"}},\"id\":\"c2af572f-b1a2-474d-a5dc-353d766c292e\",\"type\":\"Line\"},{\"attributes\":{},\"id\":\"175da7e7-d5bf-4bc9-ae8e-314611ea563e\",\"type\":\"BasicTicker\"},{\"attributes\":{\"axis_label\":\"cooling rate [K/day]\",\"formatter\":{\"id\":\"9c57a2f3-55bb-4444-8fed-631714d48117\",\"type\":\"BasicTickFormatter\"},\"plot\":{\"id\":\"857d6b14-752b-49a0-99a8-8b9f151e8c69\",\"subtype\":\"Figure\",\"type\":\"Plot\"},\"ticker\":{\"id\":\"175da7e7-d5bf-4bc9-ae8e-314611ea563e\",\"type\":\"BasicTicker\"}},\"id\":\"b7845526-f3ab-49a7-b5b5-f169f87848de\",\"type\":\"LinearAxis\"},{\"attributes\":{\"callback\":null,\"data\":{\"x\":{\"__ndarray__\":\"CbQKvwANpr/AU0MHUeKlv9GDQC1vhqW/3Iv/+dcipb8bkR5Ofb2kv+wFGu5pX6S/th3s0XP4o79Vvx/T042jvzIDAN+FMKO/PtOK8KjRor+TXfKYnmeiv7d5t8OpE6K/Nn68CTTJob+JEa7rwHuhvxKms3PCQKC/kQGAsUIgmL+QyAP1Mv2CvwXQKRpD5oE/n60e07KRnz+DSW2NS5KtP5xKF7P6H7c/XeMEB/aSwD8JymdJWh/FP4oDt5nC9sQ/bwwckQ92wD9hduDFNFu3P/WL2Io15K4/nuNjPLEjoz+O31OH28aWP2xwg9omzoo/SvRBVmYdfj+wRaA0sxprP5ydzSgqm0E/nbOSCcnYYb+Mdz6WIYV7v8BTmEbX24q/bC+dF9q2k7/9b0XFTSmZvxG5wrajCp+/IGvK9T1Bor92xSrrYICjv1YM+z41IKO/MMH78IFIor+P5dpWO0ehv+AQDq+TIaC/2qQwpS2rnb/BmUhOkcuav5wzkT/ArZe/CKfRAqNZlL/4CojwFdaQv8v4nmHPdoq/QCJH2gUwg798SHpujeh3vx0rSV1T+2K/nhny2J0JVD8Aqi5bCL1zP4v/yD3CZ4E/65H5diYoiT/9iq1pM5GQP+smCHa+sZQ/Y07qmYvzmD/UFATr7V6dP5650hZZ+6A/ANQ9jzVdoz/0lfEDGNWlPxtky+v9W6g/zjeAvQHcqj/e1y/qHDGtPwo/R4jAN68/J85rm8t1sD9lksteOjaxP/wC91gW8bE/ina3yu+0sj+S4DLJKouzP4VKM6czfLQ/\",\"dtype\":\"float64\",\"shape\":[75]},\"y\":{\"__ndarray__\":\"GhExyth1ND/Sv8nbtpRIP2vylNV0PVE/aTum7souWD/At0SJ8fVgPw3Iuahxymc/MSNhhJWvcD/bTfBN02d3P2zb5nxnaoA/CD5h5MAGhz8NmeH1TyaQP+zrCsc9p5Y/LbKd76fGnz/bLW5ISEmmPww9YvTcQq8/JV2OstnstT8Er5Y7M8G+P0c+r3jqkcU/5h99k6ZBzj88bCIzFzjVP4enV8oyxN0//yH99nXg5D8qOpLLf0jtP5kqGJXUifQ/c9cS8kHP/D+/DpwzojQEQIEmwoanVwxA4lgXt9HgE0BSSZ2AJuIbQAMJih9jjiNA5q4l5INuK0AwTKYKRj0zQNv5fmq8/DpAaCJseHrtQkB/+zpwzoxKQM3MzMzMeFJAZmZmZmZqWEAAAAAAAFxeQM3MzMzMJmJAmpmZmZkfZUBmZmZmZhhoQDMzMzMzEWtAAAAAAAAKbkBmZmZmZoFwQM3MzMzM/XFAMzMzMzN6c0CamZmZmfZ0QAAAAAAAc3ZAZmZmZmbvd0DNzMzMzGt5QDMzMzMz6HpAmpmZmZlkfEAAAAAAAOF9QGZmZmZmXX9AZmZmZuZsgECamZmZGSuBQM3MzMxM6YFAAAAAAICngkAzMzMzs2WDQGZmZmbmI4RAmpmZmRnihEDNzMzMTKCFQAAAAACAXoZAMzMzM7Mch0BmZmZm5tqHQJqZmZkZmYhAzczMzExXiUAAAAAAgBWKQDMzMzOz04pAZmZmZuaRi0CamZmZGVCMQM3MzMxMDo1AAAAAAIDMjUAzMzMzs4qOQGZmZmbmSI9A\",\"dtype\":\"float64\",\"shape\":[75]}},\"selected\":{\"id\":\"395de65c-ed99-4dc9-a3a5-be072933667c\",\"type\":\"Selection\"},\"selection_policy\":{\"id\":\"018b98a0-c36a-48cb-b8ff-5caa751775fa\",\"type\":\"UnionRenderers\"}},\"id\":\"7a0c7515-f7ac-4299-9cd2-fb6b88bd1e42\",\"type\":\"ColumnDataSource\"},{\"attributes\":{\"data_source\":{\"id\":\"a393763b-1997-4b45-8ca4-b7e84e9271ff\",\"type\":\"ColumnDataSource\"},\"glyph\":{\"id\":\"2e0eeddf-f93d-4e65-9e75-f1a4a347a963\",\"type\":\"Line\"},\"hover_glyph\":null,\"muted_glyph\":null,\"nonselection_glyph\":{\"id\":\"f441ce33-60a2-4aa0-bf78-f1f5962d40f2\",\"type\":\"Line\"},\"selection_glyph\":null,\"view\":{\"id\":\"a7a431ea-3f4a-4abb-b56b-657b2283eefa\",\"type\":\"CDSView\"}},\"id\":\"475841f2-e696-4dfc-9af3-35ea4ef4745e\",\"type\":\"GlyphRenderer\"},{\"attributes\":{\"source\":{\"id\":\"7a0c7515-f7ac-4299-9cd2-fb6b88bd1e42\",\"type\":\"ColumnDataSource\"}},\"id\":\"8db107dc-5134-429c-bc85-fabbf173181c\",\"type\":\"CDSView\"},{\"attributes\":{\"line_alpha\":0.1,\"line_color\":\"#1f77b4\",\"line_width\":3,\"x\":{\"field\":\"x\"},\"y\":{\"field\":\"y\"}},\"id\":\"f441ce33-60a2-4aa0-bf78-f1f5962d40f2\",\"type\":\"Line\"},{\"attributes\":{\"callback\":null,\"data\":{\"x\":{\"__ndarray__\":\"1DWDilReo78YEGTjTzijvyivISuJ5aK/c00gdFOMor+DMydfeDGiv7ZVSOMe1aG/RW7GHGN3ob9alThKbxihvwvw0il9uKC/dcV5COxXoL/gI8WXhu6fv8dih5xnLp+/dTMO1G5xnr/jSW2oL6ydv9tJSGNjE5u/yfFRdbb/kr+QyYqUSlJ0vxgxqRtJKok/U3KT59Y3oT+1NL75a6OuP2p5N6VYfLc/W2ib0t+nwD/FDI8SICXFP+h6FHQ9O8U/fTD1U44YwT+LP/Ek3dO4P9v5n3ill7A/2QwzU9cgpD8mYeUf5xuWPwLWUe7qEIY/+pf6e53bcj+7VzPP5sFRP8iPfeH130q/Xv1HVNeCZ7+kzm4NNeR8v03UA/mebYu/dmI/x80ulL9+emjYP9+ZvymRhSZQ1p+/uZqrfkCgor/I/DFjCeijv8ZpN1g2q6O/b4kMBQ3xor+WlxJoogSiv3evEuhe66C/wvX92zJOn7/RUBZqHnWcvx7Stn2yUpm/nh6Oaejvlb8moryRjleSv3O7x5OnOY2/Rk48LoWjhb9Sl7IqxwZ8v44I5Iw5aWm/dpsJiV1YRj+tQOU3eJdyPzRtLgtWY4E/VYMS7OeziT8SMuW3ZCGRP/sgOmkCipU/sGy1oTAVmj/xl6nNVMWeP6QP0XFlzqE/VnyHz8VNpD/DSGu+d96mP0utPmayeKk/dOyEMuEIrD/zWeogg22uP60rrlJOQ7A/MdOH38AnsT/CxguTZfGxPwXy+9szsbI/uphlCuxysz/CxRqwAT20Px6gvJnpErU/\",\"dtype\":\"float64\",\"shape\":[75]},\"y\":{\"__ndarray__\":\"GhExyth1ND/Sv8nbtpRIP2vylNV0PVE/aTum7souWD/At0SJ8fVgPw3Iuahxymc/MSNhhJWvcD/bTfBN02d3P2zb5nxnaoA/CD5h5MAGhz8NmeH1TyaQP+zrCsc9p5Y/LbKd76fGnz/bLW5ISEmmPww9YvTcQq8/JV2OstnstT8Er5Y7M8G+P0c+r3jqkcU/5h99k6ZBzj88bCIzFzjVP4enV8oyxN0//yH99nXg5D8qOpLLf0jtP5kqGJXUifQ/c9cS8kHP/D+/DpwzojQEQIEmwoanVwxA4lgXt9HgE0BSSZ2AJuIbQAMJih9jjiNA5q4l5INuK0AwTKYKRj0zQNv5fmq8/DpAaCJseHrtQkB/+zpwzoxKQM3MzMzMeFJAZmZmZmZqWEAAAAAAAFxeQM3MzMzMJmJAmpmZmZkfZUBmZmZmZhhoQDMzMzMzEWtAAAAAAAAKbkBmZmZmZoFwQM3MzMzM/XFAMzMzMzN6c0CamZmZmfZ0QAAAAAAAc3ZAZmZmZmbvd0DNzMzMzGt5QDMzMzMz6HpAmpmZmZlkfEAAAAAAAOF9QGZmZmZmXX9AZmZmZuZsgECamZmZGSuBQM3MzMxM6YFAAAAAAICngkAzMzMzs2WDQGZmZmbmI4RAmpmZmRnihEDNzMzMTKCFQAAAAACAXoZAMzMzM7Mch0BmZmZm5tqHQJqZmZkZmYhAzczMzExXiUAAAAAAgBWKQDMzMzOz04pAZmZmZuaRi0CamZmZGVCMQM3MzMxMDo1AAAAAAIDMjUAzMzMzs4qOQGZmZmbmSI9A\",\"dtype\":\"float64\",\"shape\":[75]}},\"selected\":{\"id\":\"6c185dcd-349a-439f-9091-8e9e2fe67f2c\",\"type\":\"Selection\"},\"selection_policy\":{\"id\":\"8ebbaef1-db55-4825-80d7-06d8221e4c94\",\"type\":\"UnionRenderers\"}},\"id\":\"d4eccd8e-9fd4-4b26-8d53-1e4810040d5b\",\"type\":\"ColumnDataSource\"},{\"attributes\":{\"callback\":null,\"data\":{\"x\":{\"__ndarray__\":\"1DWDilReo78YEGTjTzijvyivISuJ5aK/c00gdFOMor+DMydfeDGiv7ZVSOMe1aG/RW7GHGN3ob9alThKbxihvwvw0il9uKC/dcV5COxXoL/gI8WXhu6fv8dih5xnLp+/dTMO1G5xnr/jSW2oL6ydv9tJSGNjE5u/yfFRdbb/kr+QyYqUSlJ0vxgxqRtJKok/U3KT59Y3oT+1NL75a6OuP2p5N6VYfLc/W2ib0t+nwD/FDI8SICXFP+h6FHQ9O8U/fTD1U44YwT+LP/Ek3dO4P9v5n3ill7A/2QwzU9cgpD8mYeUf5xuWPwLWUe7qEIY/+pf6e53bcj+7VzPP5sFRP8iPfeH130q/Xv1HVNeCZ7+kzm4NNeR8v03UA/mebYu/dmI/x80ulL9+emjYP9+ZvymRhSZQ1p+/uZqrfkCgor/I/DFjCeijv8ZpN1g2q6O/b4kMBQ3xor+WlxJoogSiv3evEuhe66C/wvX92zJOn7/RUBZqHnWcvx7Stn2yUpm/nh6Oaejvlb8moryRjleSv3O7x5OnOY2/Rk48LoWjhb9Sl7IqxwZ8v44I5Iw5aWm/dpsJiV1YRj+tQOU3eJdyPzRtLgtWY4E/VYMS7OeziT8SMuW3ZCGRP/sgOmkCipU/sGy1oTAVmj/xl6nNVMWeP6QP0XFlzqE/VnyHz8VNpD/DSGu+d96mP0utPmayeKk/dOyEMuEIrD/zWeogg22uP60rrlJOQ7A/MdOH38AnsT/CxguTZfGxPwXy+9szsbI/uphlCuxysz/CxRqwAT20Px6gvJnpErU/\",\"dtype\":\"float64\",\"shape\":[75]},\"y\":{\"__ndarray__\":\"GhExyth1ND/Sv8nbtpRIP2vylNV0PVE/aTum7souWD/At0SJ8fVgPw3Iuahxymc/MSNhhJWvcD/bTfBN02d3P2zb5nxnaoA/CD5h5MAGhz8NmeH1TyaQP+zrCsc9p5Y/LbKd76fGnz/bLW5ISEmmPww9YvTcQq8/JV2OstnstT8Er5Y7M8G+P0c+r3jqkcU/5h99k6ZBzj88bCIzFzjVP4enV8oyxN0//yH99nXg5D8qOpLLf0jtP5kqGJXUifQ/c9cS8kHP/D+/DpwzojQEQIEmwoanVwxA4lgXt9HgE0BSSZ2AJuIbQAMJih9jjiNA5q4l5INuK0AwTKYKRj0zQNv5fmq8/DpAaCJseHrtQkB/+zpwzoxKQM3MzMzMeFJAZmZmZmZqWEAAAAAAAFxeQM3MzMzMJmJAmpmZmZkfZUBmZmZmZhhoQDMzMzMzEWtAAAAAAAAKbkBmZmZmZoFwQM3MzMzM/XFAMzMzMzN6c0CamZmZmfZ0QAAAAAAAc3ZAZmZmZmbvd0DNzMzMzGt5QDMzMzMz6HpAmpmZmZlkfEAAAAAAAOF9QGZmZmZmXX9AZmZmZuZsgECamZmZGSuBQM3MzMxM6YFAAAAAAICngkAzMzMzs2WDQGZmZmbmI4RAmpmZmRnihEDNzMzMTKCFQAAAAACAXoZAMzMzM7Mch0BmZmZm5tqHQJqZmZkZmYhAzczMzExXiUAAAAAAgBWKQDMzMzOz04pAZmZmZuaRi0CamZmZGVCMQM3MzMxMDo1AAAAAAIDMjUAzMzMzs4qOQGZmZmbmSI9A\",\"dtype\":\"float64\",\"shape\":[75]}},\"selected\":{\"id\":\"25229c03-7560-4158-8757-0f52f1af6757\",\"type\":\"Selection\"},\"selection_policy\":{\"id\":\"f3ca74ba-3ba0-483f-9e45-3a7a46e117f4\",\"type\":\"UnionRenderers\"}},\"id\":\"92b445ac-ede8-4138-9a85-5202c357abf4\",\"type\":\"ColumnDataSource\"},{\"attributes\":{\"data_source\":{\"id\":\"a4817c32-418d-486c-a916-c4b87522c4d2\",\"type\":\"ColumnDataSource\"},\"glyph\":{\"id\":\"117d3e32-32de-4614-be09-0daa72b5b69e\",\"type\":\"Line\"},\"hover_glyph\":null,\"muted_glyph\":null,\"nonselection_glyph\":{\"id\":\"c2af572f-b1a2-474d-a5dc-353d766c292e\",\"type\":\"Line\"},\"selection_glyph\":null,\"view\":{\"id\":\"eb2d7aab-3d92-4e35-a2cc-b2b42a5e262e\",\"type\":\"CDSView\"}},\"id\":\"7478aa03-af18-48e2-81f7-902999db8117\",\"type\":\"GlyphRenderer\"},{\"attributes\":{\"source\":{\"id\":\"a393763b-1997-4b45-8ca4-b7e84e9271ff\",\"type\":\"ColumnDataSource\"}},\"id\":\"a7a431ea-3f4a-4abb-b56b-657b2283eefa\",\"type\":\"CDSView\"},{\"attributes\":{\"fill_alpha\":{\"value\":0.7},\"fill_color\":{\"value\":\"#377eb8\"},\"line_alpha\":{\"value\":0.7},\"line_color\":{\"value\":\"#377eb8\"},\"x\":{\"field\":\"x\"},\"y\":{\"field\":\"y\"}},\"id\":\"b6e5d621-da93-41fb-914a-d2eeba6d8e24\",\"type\":\"Triangle\"},{\"attributes\":{\"overlay\":{\"id\":\"3bbd7d04-d82c-443a-b342-22b41d2805a3\",\"type\":\"BoxAnnotation\"}},\"id\":\"1afb5b1a-2d58-4b89-9de0-a664b45057fa\",\"type\":\"BoxZoomTool\"},{\"attributes\":{\"fill_alpha\":{\"value\":0.1},\"fill_color\":{\"value\":\"#1f77b4\"},\"line_alpha\":{\"value\":0.1},\"line_color\":{\"value\":\"#1f77b4\"},\"x\":{\"field\":\"x\"},\"y\":{\"field\":\"y\"}},\"id\":\"97d8d6ae-c842-45bf-8394-5b9ac2b5c15c\",\"type\":\"Triangle\"},{\"attributes\":{\"data_source\":{\"id\":\"92b445ac-ede8-4138-9a85-5202c357abf4\",\"type\":\"ColumnDataSource\"},\"glyph\":{\"id\":\"b6e5d621-da93-41fb-914a-d2eeba6d8e24\",\"type\":\"Triangle\"},\"hover_glyph\":null,\"muted_glyph\":null,\"nonselection_glyph\":{\"id\":\"97d8d6ae-c842-45bf-8394-5b9ac2b5c15c\",\"type\":\"Triangle\"},\"selection_glyph\":null,\"view\":{\"id\":\"95426f1f-a850-4e80-8afc-e12aebce80ea\",\"type\":\"CDSView\"}},\"id\":\"92c0ca3b-39bd-44e5-8947-00b0c5e2119a\",\"type\":\"GlyphRenderer\"},{\"attributes\":{\"source\":{\"id\":\"92b445ac-ede8-4138-9a85-5202c357abf4\",\"type\":\"ColumnDataSource\"}},\"id\":\"95426f1f-a850-4e80-8afc-e12aebce80ea\",\"type\":\"CDSView\"},{\"attributes\":{\"line_alpha\":0.3,\"line_color\":\"#377eb8\",\"line_width\":2,\"x\":{\"field\":\"x\"},\"y\":{\"field\":\"y\"}},\"id\":\"f095c9c8-fdb6-4b9d-b1e1-091c163044ef\",\"type\":\"Line\"},{\"attributes\":{\"children\":[{\"id\":\"4451a1d2-c46e-4483-837f-05af4de4ada8\",\"type\":\"Row\"}]},\"id\":\"6bd2f559-6efb-43e1-ae6b-314a86b2c5ea\",\"type\":\"Column\"},{\"attributes\":{\"line_alpha\":0.1,\"line_color\":\"#1f77b4\",\"line_width\":2,\"x\":{\"field\":\"x\"},\"y\":{\"field\":\"y\"}},\"id\":\"4354f37d-98e3-42af-90a8-03354713d2af\",\"type\":\"Line\"},{\"attributes\":{\"data_source\":{\"id\":\"d4eccd8e-9fd4-4b26-8d53-1e4810040d5b\",\"type\":\"ColumnDataSource\"},\"glyph\":{\"id\":\"f095c9c8-fdb6-4b9d-b1e1-091c163044ef\",\"type\":\"Line\"},\"hover_glyph\":null,\"muted_glyph\":null,\"nonselection_glyph\":{\"id\":\"4354f37d-98e3-42af-90a8-03354713d2af\",\"type\":\"Line\"},\"selection_glyph\":null,\"view\":{\"id\":\"91855f20-a7a0-4fa7-a644-793d789bbe4d\",\"type\":\"CDSView\"}},\"id\":\"89882e0f-dc1d-4aed-8645-18bc52542bd2\",\"type\":\"GlyphRenderer\"},{\"attributes\":{\"source\":{\"id\":\"d4eccd8e-9fd4-4b26-8d53-1e4810040d5b\",\"type\":\"ColumnDataSource\"}},\"id\":\"91855f20-a7a0-4fa7-a644-793d789bbe4d\",\"type\":\"CDSView\"},{\"attributes\":{\"plot\":null,\"text\":\"\"},\"id\":\"eb70ae8b-eeaf-41ca-8fad-487b9200f85b\",\"type\":\"Title\"},{\"attributes\":{\"children\":[{\"id\":\"857d6b14-752b-49a0-99a8-8b9f151e8c69\",\"subtype\":\"Figure\",\"type\":\"Plot\"},{\"id\":\"f515bad6-21ea-4c3a-9df6-cf7e436d3889\",\"subtype\":\"Figure\",\"type\":\"Plot\"}]},\"id\":\"4451a1d2-c46e-4483-837f-05af4de4ada8\",\"type\":\"Row\"},{\"attributes\":{\"label\":{\"value\":\"CRD\"},\"renderers\":[{\"id\":\"d57f34b3-4f21-4c62-bb1f-63a02d35a7e1\",\"type\":\"GlyphRenderer\"},{\"id\":\"7478aa03-af18-48e2-81f7-902999db8117\",\"type\":\"GlyphRenderer\"}]},\"id\":\"570e94be-b5ae-4364-9c65-ce232f43e40c\",\"type\":\"LegendItem\"},{\"attributes\":{},\"id\":\"7cc5e362-20f5-4778-8f93-d40b5c0ec889\",\"type\":\"Selection\"},{\"attributes\":{\"label\":{\"value\":\"WGT igg=1\"},\"renderers\":[{\"id\":\"d2e24a97-82b6-4ea5-a089-255ba9a8b10a\",\"type\":\"GlyphRenderer\"},{\"id\":\"475841f2-e696-4dfc-9af3-35ea4ef4745e\",\"type\":\"GlyphRenderer\"}]},\"id\":\"0d045088-e7e7-4e68-b710-2d9338f3183e\",\"type\":\"LegendItem\"},{\"attributes\":{},\"id\":\"9ee82593-5630-4b7d-b7ff-b99dc5c5acee\",\"type\":\"Selection\"},{\"attributes\":{\"label\":{\"value\":\"WGT igg=10\"},\"renderers\":[{\"id\":\"92c0ca3b-39bd-44e5-8947-00b0c5e2119a\",\"type\":\"GlyphRenderer\"},{\"id\":\"89882e0f-dc1d-4aed-8645-18bc52542bd2\",\"type\":\"GlyphRenderer\"}]},\"id\":\"127832b3-a6f1-451f-b847-9e8ec04f8cc1\",\"type\":\"LegendItem\"},{\"attributes\":{\"plot\":null,\"text\":\"\"},\"id\":\"989124b1-67b4-4d46-8f81-88bda65827e2\",\"type\":\"Title\"},{\"attributes\":{},\"id\":\"8734469e-bbc3-47ac-b210-fc53305ee28f\",\"type\":\"Selection\"},{\"attributes\":{},\"id\":\"549a079e-7b73-45eb-be85-9bb343aa3558\",\"type\":\"HelpTool\"},{\"attributes\":{},\"id\":\"874aa776-9050-448f-93a8-2fb88c729f0d\",\"type\":\"BasicTickFormatter\"},{\"attributes\":{},\"id\":\"3830b163-7a55-45a2-bc9f-80e4366a2038\",\"type\":\"PanTool\"},{\"attributes\":{},\"id\":\"9c57a2f3-55bb-4444-8fed-631714d48117\",\"type\":\"BasicTickFormatter\"},{\"attributes\":{\"bottom_units\":\"screen\",\"fill_alpha\":{\"value\":0.5},\"fill_color\":{\"value\":\"lightgrey\"},\"left_units\":\"screen\",\"level\":\"overlay\",\"line_alpha\":{\"value\":1.0},\"line_color\":{\"value\":\"black\"},\"line_dash\":[4,4],\"line_width\":{\"value\":2},\"plot\":null,\"render_mode\":\"css\",\"right_units\":\"screen\",\"top_units\":\"screen\"},\"id\":\"3bbd7d04-d82c-443a-b342-22b41d2805a3\",\"type\":\"BoxAnnotation\"},{\"attributes\":{},\"id\":\"05511f22-d8fb-4c78-8fc5-1360eb6a878e\",\"type\":\"UnionRenderers\"},{\"attributes\":{},\"id\":\"f98e9840-3692-4057-adca-3e5e7e8b0b99\",\"type\":\"WheelZoomTool\"},{\"attributes\":{},\"id\":\"c90e729d-06ec-4470-bc55-8fbb391de8e8\",\"type\":\"UnionRenderers\"},{\"attributes\":{},\"id\":\"524f6d46-2b0e-4bc2-b084-24f5ef7e534c\",\"type\":\"UnionRenderers\"},{\"attributes\":{},\"id\":\"2364f521-e26d-4bed-9d9e-61f4b6ae0b77\",\"type\":\"UnionRenderers\"},{\"attributes\":{\"line_alpha\":0.6,\"line_color\":\"#984ea3\",\"line_width\":3,\"x\":{\"field\":\"x\"},\"y\":{\"field\":\"y\"}},\"id\":\"f54d6695-c2a7-4486-b384-8bc93248cd6b\",\"type\":\"Line\"},{\"attributes\":{\"source\":{\"id\":\"3cbe00ff-da6d-4710-b458-f9b6ba5aaf44\",\"type\":\"ColumnDataSource\"}},\"id\":\"5d2af589-5902-492e-a6d1-c6b2c5fcd253\",\"type\":\"CDSView\"},{\"attributes\":{\"data_source\":{\"id\":\"3cbe00ff-da6d-4710-b458-f9b6ba5aaf44\",\"type\":\"ColumnDataSource\"},\"glyph\":{\"id\":\"c8f663e9-369b-4c29-b044-e865111befb1\",\"type\":\"Line\"},\"hover_glyph\":null,\"muted_glyph\":null,\"nonselection_glyph\":{\"id\":\"d2f72196-c348-4255-888b-578c23ffc92f\",\"type\":\"Line\"},\"selection_glyph\":null,\"view\":{\"id\":\"5d2af589-5902-492e-a6d1-c6b2c5fcd253\",\"type\":\"CDSView\"}},\"id\":\"c157f9ba-e7b4-4791-a926-f22e6b5c0c22\",\"type\":\"GlyphRenderer\"},{\"attributes\":{\"line_alpha\":0.1,\"line_color\":\"#1f77b4\",\"line_width\":2,\"x\":{\"field\":\"x\"},\"y\":{\"field\":\"y\"}},\"id\":\"d2f72196-c348-4255-888b-578c23ffc92f\",\"type\":\"Line\"},{\"attributes\":{\"above\":[{\"id\":\"e2c4f739-93d3-4db6-b10f-837d5bea3bc4\",\"type\":\"Legend\"}],\"below\":[{\"id\":\"6ad2fc50-7c5a-45f2-84eb-39aa9c739e00\",\"type\":\"LinearAxis\"}],\"left\":[{\"id\":\"97025e86-8677-43e3-9ab6-c29e10db62e6\",\"type\":\"LogAxis\"}],\"plot_height\":500,\"plot_width\":400,\"renderers\":[{\"id\":\"6ad2fc50-7c5a-45f2-84eb-39aa9c739e00\",\"type\":\"LinearAxis\"},{\"id\":\"9c95e459-16c5-4e7a-9860-3094b1374f4a\",\"type\":\"Grid\"},{\"id\":\"97025e86-8677-43e3-9ab6-c29e10db62e6\",\"type\":\"LogAxis\"},{\"id\":\"be584872-e587-408e-bfc6-307fe9d9bc23\",\"type\":\"Grid\"},{\"id\":\"641b271b-ee6b-4bfe-ad89-cf917507c2da\",\"type\":\"BoxAnnotation\"},{\"id\":\"d57f34b3-4f21-4c62-bb1f-63a02d35a7e1\",\"type\":\"GlyphRenderer\"},{\"id\":\"7478aa03-af18-48e2-81f7-902999db8117\",\"type\":\"GlyphRenderer\"},{\"id\":\"d2e24a97-82b6-4ea5-a089-255ba9a8b10a\",\"type\":\"GlyphRenderer\"},{\"id\":\"475841f2-e696-4dfc-9af3-35ea4ef4745e\",\"type\":\"GlyphRenderer\"},{\"id\":\"92c0ca3b-39bd-44e5-8947-00b0c5e2119a\",\"type\":\"GlyphRenderer\"},{\"id\":\"89882e0f-dc1d-4aed-8645-18bc52542bd2\",\"type\":\"GlyphRenderer\"},{\"id\":\"e2c4f739-93d3-4db6-b10f-837d5bea3bc4\",\"type\":\"Legend\"}],\"title\":{\"id\":\"989124b1-67b4-4d46-8f81-88bda65827e2\",\"type\":\"Title\"},\"toolbar\":{\"id\":\"a5f10b56-6479-4c1e-90d0-7e0a1ab4bedf\",\"type\":\"Toolbar\"},\"toolbar_location\":null,\"x_range\":{\"id\":\"edd1f943-287e-4c79-9a08-7cfcae06bb92\",\"type\":\"Range1d\"},\"x_scale\":{\"id\":\"6bfd6fb2-b2a4-4c5f-b505-cb2f602cedf3\",\"type\":\"LinearScale\"},\"y_range\":{\"id\":\"c0a83a77-c0f3-4f95-bc31-9c7133d4a233\",\"type\":\"Range1d\"},\"y_scale\":{\"id\":\"b90aad08-8586-47f8-809c-1678a79664ad\",\"type\":\"LogScale\"}},\"id\":\"f515bad6-21ea-4c3a-9df6-cf7e436d3889\",\"subtype\":\"Figure\",\"type\":\"Plot\"},{\"attributes\":{\"line_alpha\":0.3,\"line_color\":\"#377eb8\",\"line_width\":2,\"x\":{\"field\":\"x\"},\"y\":{\"field\":\"y\"}},\"id\":\"c8f663e9-369b-4c29-b044-e865111befb1\",\"type\":\"Line\"},{\"attributes\":{\"fill_alpha\":{\"value\":0.7},\"fill_color\":{\"value\":\"#377eb8\"},\"line_alpha\":{\"value\":0.7},\"line_color\":{\"value\":\"#377eb8\"},\"x\":{\"field\":\"x\"},\"y\":{\"field\":\"y\"}},\"id\":\"5cd87144-4c21-4c77-b74a-6880ab6b019a\",\"type\":\"Triangle\"},{\"attributes\":{\"callback\":null,\"data\":{\"x\":{\"__ndarray__\":\"1DWDilReo78YEGTjTzijvyivISuJ5aK/c00gdFOMor+DMydfeDGiv7ZVSOMe1aG/RW7GHGN3ob9alThKbxihvwvw0il9uKC/dcV5COxXoL/gI8WXhu6fv8dih5xnLp+/dTMO1G5xnr/jSW2oL6ydv9tJSGNjE5u/yfFRdbb/kr+QyYqUSlJ0vxgxqRtJKok/U3KT59Y3oT+1NL75a6OuP2p5N6VYfLc/W2ib0t+nwD/FDI8SICXFP+h6FHQ9O8U/fTD1U44YwT+LP/Ek3dO4P9v5n3ill7A/2QwzU9cgpD8mYeUf5xuWPwLWUe7qEIY/+pf6e53bcj+7VzPP5sFRP8iPfeH130q/Xv1HVNeCZ7+kzm4NNeR8v03UA/mebYu/dmI/x80ulL9+emjYP9+ZvymRhSZQ1p+/uZqrfkCgor/I/DFjCeijv8ZpN1g2q6O/b4kMBQ3xor+WlxJoogSiv3evEuhe66C/wvX92zJOn7/RUBZqHnWcvx7Stn2yUpm/nh6Oaejvlb8moryRjleSv3O7x5OnOY2/Rk48LoWjhb9Sl7IqxwZ8v44I5Iw5aWm/dpsJiV1YRj+tQOU3eJdyPzRtLgtWY4E/VYMS7OeziT8SMuW3ZCGRP/sgOmkCipU/sGy1oTAVmj/xl6nNVMWeP6QP0XFlzqE/VnyHz8VNpD/DSGu+d96mP0utPmayeKk/dOyEMuEIrD/zWeogg22uP60rrlJOQ7A/MdOH38AnsT/CxguTZfGxPwXy+9szsbI/uphlCuxysz/CxRqwAT20Px6gvJnpErU/\",\"dtype\":\"float64\",\"shape\":[75]},\"y\":{\"__ndarray__\":\"GhExyth1ND/Sv8nbtpRIP2vylNV0PVE/aTum7souWD/At0SJ8fVgPw3Iuahxymc/MSNhhJWvcD/bTfBN02d3P2zb5nxnaoA/CD5h5MAGhz8NmeH1TyaQP+zrCsc9p5Y/LbKd76fGnz/bLW5ISEmmPww9YvTcQq8/JV2OstnstT8Er5Y7M8G+P0c+r3jqkcU/5h99k6ZBzj88bCIzFzjVP4enV8oyxN0//yH99nXg5D8qOpLLf0jtP5kqGJXUifQ/c9cS8kHP/D+/DpwzojQEQIEmwoanVwxA4lgXt9HgE0BSSZ2AJuIbQAMJih9jjiNA5q4l5INuK0AwTKYKRj0zQNv5fmq8/DpAaCJseHrtQkB/+zpwzoxKQM3MzMzMeFJAZmZmZmZqWEAAAAAAAFxeQM3MzMzMJmJAmpmZmZkfZUBmZmZmZhhoQDMzMzMzEWtAAAAAAAAKbkBmZmZmZoFwQM3MzMzM/XFAMzMzMzN6c0CamZmZmfZ0QAAAAAAAc3ZAZmZmZmbvd0DNzMzMzGt5QDMzMzMz6HpAmpmZmZlkfEAAAAAAAOF9QGZmZmZmXX9AZmZmZuZsgECamZmZGSuBQM3MzMxM6YFAAAAAAICngkAzMzMzs2WDQGZmZmbmI4RAmpmZmRnihEDNzMzMTKCFQAAAAACAXoZAMzMzM7Mch0BmZmZm5tqHQJqZmZkZmYhAzczMzExXiUAAAAAAgBWKQDMzMzOz04pAZmZmZuaRi0CamZmZGVCMQM3MzMxMDo1AAAAAAIDMjUAzMzMzs4qOQGZmZmbmSI9A\",\"dtype\":\"float64\",\"shape\":[75]}},\"selected\":{\"id\":\"434a9344-71b7-40f3-ad8f-4e5af3ece8ba\",\"type\":\"Selection\"},\"selection_policy\":{\"id\":\"2364f521-e26d-4bed-9d9e-61f4b6ae0b77\",\"type\":\"UnionRenderers\"}},\"id\":\"3cbe00ff-da6d-4710-b458-f9b6ba5aaf44\",\"type\":\"ColumnDataSource\"},{\"attributes\":{\"data_source\":{\"id\":\"dbe039f9-8be5-4a31-a398-82b26e2c83ce\",\"type\":\"ColumnDataSource\"},\"glyph\":{\"id\":\"5cd87144-4c21-4c77-b74a-6880ab6b019a\",\"type\":\"Triangle\"},\"hover_glyph\":null,\"muted_glyph\":null,\"nonselection_glyph\":{\"id\":\"e6aab672-227a-419b-83d7-5a19e0da18aa\",\"type\":\"Triangle\"},\"selection_glyph\":null,\"view\":{\"id\":\"313d8f50-4293-4a5b-919c-41f1c1e3b6a4\",\"type\":\"CDSView\"}},\"id\":\"9a3a7055-97bb-4cba-b910-c28838521c18\",\"type\":\"GlyphRenderer\"},{\"attributes\":{\"source\":{\"id\":\"dbe039f9-8be5-4a31-a398-82b26e2c83ce\",\"type\":\"ColumnDataSource\"}},\"id\":\"313d8f50-4293-4a5b-919c-41f1c1e3b6a4\",\"type\":\"CDSView\"},{\"attributes\":{\"source\":{\"id\":\"12c9b758-4155-46b3-8515-829f24aa389d\",\"type\":\"ColumnDataSource\"}},\"id\":\"19ca21e3-3638-4296-b923-9abe1d3132e5\",\"type\":\"CDSView\"},{\"attributes\":{\"source\":{\"id\":\"a1032a2c-5766-441e-87f3-086fce6596c8\",\"type\":\"ColumnDataSource\"}},\"id\":\"402e56fb-1ac1-453c-9770-8f8335b63944\",\"type\":\"CDSView\"},{\"attributes\":{\"line_alpha\":0.1,\"line_color\":\"#1f77b4\",\"line_width\":3,\"x\":{\"field\":\"x\"},\"y\":{\"field\":\"y\"}},\"id\":\"14a69c8a-da6f-4ec1-af08-01c6fe7e479a\",\"type\":\"Line\"},{\"attributes\":{\"fill_alpha\":{\"value\":0.1},\"fill_color\":{\"value\":\"#1f77b4\"},\"line_alpha\":{\"value\":0.1},\"line_color\":{\"value\":\"#1f77b4\"},\"x\":{\"field\":\"x\"},\"y\":{\"field\":\"y\"}},\"id\":\"e6aab672-227a-419b-83d7-5a19e0da18aa\",\"type\":\"Triangle\"},{\"attributes\":{\"data_source\":{\"id\":\"a1032a2c-5766-441e-87f3-086fce6596c8\",\"type\":\"ColumnDataSource\"},\"glyph\":{\"id\":\"f54d6695-c2a7-4486-b384-8bc93248cd6b\",\"type\":\"Line\"},\"hover_glyph\":null,\"muted_glyph\":null,\"nonselection_glyph\":{\"id\":\"14a69c8a-da6f-4ec1-af08-01c6fe7e479a\",\"type\":\"Line\"},\"selection_glyph\":null,\"view\":{\"id\":\"402e56fb-1ac1-453c-9770-8f8335b63944\",\"type\":\"CDSView\"}},\"id\":\"bbd66de2-fd87-4915-99d4-cb7ae665c12f\",\"type\":\"GlyphRenderer\"},{\"attributes\":{\"callback\":null,\"data\":{\"x\":{\"__ndarray__\":\"CbQKvwANpr/AU0MHUeKlv9GDQC1vhqW/3Iv/+dcipb8bkR5Ofb2kv+wFGu5pX6S/th3s0XP4o79Vvx/T042jvzIDAN+FMKO/PtOK8KjRor+TXfKYnmeiv7d5t8OpE6K/Nn68CTTJob+JEa7rwHuhvxKms3PCQKC/kQGAsUIgmL+QyAP1Mv2CvwXQKRpD5oE/n60e07KRnz+DSW2NS5KtP5xKF7P6H7c/XeMEB/aSwD8JymdJWh/FP4oDt5nC9sQ/bwwckQ92wD9hduDFNFu3P/WL2Io15K4/nuNjPLEjoz+O31OH28aWP2xwg9omzoo/SvRBVmYdfj+wRaA0sxprP5ydzSgqm0E/nbOSCcnYYb+Mdz6WIYV7v8BTmEbX24q/bC+dF9q2k7/9b0XFTSmZvxG5wrajCp+/IGvK9T1Bor92xSrrYICjv1YM+z41IKO/MMH78IFIor+P5dpWO0ehv+AQDq+TIaC/2qQwpS2rnb/BmUhOkcuav5wzkT/ArZe/CKfRAqNZlL/4CojwFdaQv8v4nmHPdoq/QCJH2gUwg798SHpujeh3vx0rSV1T+2K/nhny2J0JVD8Aqi5bCL1zP4v/yD3CZ4E/65H5diYoiT/9iq1pM5GQP+smCHa+sZQ/Y07qmYvzmD/UFATr7V6dP5650hZZ+6A/ANQ9jzVdoz/0lfEDGNWlPxtky+v9W6g/zjeAvQHcqj/e1y/qHDGtPwo/R4jAN68/J85rm8t1sD9lksteOjaxP/wC91gW8bE/ina3yu+0sj+S4DLJKouzP4VKM6czfLQ/\",\"dtype\":\"float64\",\"shape\":[75]},\"y\":{\"__ndarray__\":\"GhExyth1ND/Sv8nbtpRIP2vylNV0PVE/aTum7souWD/At0SJ8fVgPw3Iuahxymc/MSNhhJWvcD/bTfBN02d3P2zb5nxnaoA/CD5h5MAGhz8NmeH1TyaQP+zrCsc9p5Y/LbKd76fGnz/bLW5ISEmmPww9YvTcQq8/JV2OstnstT8Er5Y7M8G+P0c+r3jqkcU/5h99k6ZBzj88bCIzFzjVP4enV8oyxN0//yH99nXg5D8qOpLLf0jtP5kqGJXUifQ/c9cS8kHP/D+/DpwzojQEQIEmwoanVwxA4lgXt9HgE0BSSZ2AJuIbQAMJih9jjiNA5q4l5INuK0AwTKYKRj0zQNv5fmq8/DpAaCJseHrtQkB/+zpwzoxKQM3MzMzMeFJAZmZmZmZqWEAAAAAAAFxeQM3MzMzMJmJAmpmZmZkfZUBmZmZmZhhoQDMzMzMzEWtAAAAAAAAKbkBmZmZmZoFwQM3MzMzM/XFAMzMzMzN6c0CamZmZmfZ0QAAAAAAAc3ZAZmZmZmbvd0DNzMzMzGt5QDMzMzMz6HpAmpmZmZlkfEAAAAAAAOF9QGZmZmZmXX9AZmZmZuZsgECamZmZGSuBQM3MzMxM6YFAAAAAAICngkAzMzMzs2WDQGZmZmbmI4RAmpmZmRnihEDNzMzMTKCFQAAAAACAXoZAMzMzM7Mch0BmZmZm5tqHQJqZmZkZmYhAzczMzExXiUAAAAAAgBWKQDMzMzOz04pAZmZmZuaRi0CamZmZGVCMQM3MzMxMDo1AAAAAAIDMjUAzMzMzs4qOQGZmZmbmSI9A\",\"dtype\":\"float64\",\"shape\":[75]}},\"selected\":{\"id\":\"b24d7e1d-e8e9-457b-9b14-f167dd097f90\",\"type\":\"Selection\"},\"selection_policy\":{\"id\":\"faab0187-b383-4f46-b778-ad8b65302682\",\"type\":\"UnionRenderers\"}},\"id\":\"a1032a2c-5766-441e-87f3-086fce6596c8\",\"type\":\"ColumnDataSource\"},{\"attributes\":{\"data_source\":{\"id\":\"a2e4445b-f6ec-4551-bb19-eec168c2794a\",\"type\":\"ColumnDataSource\"},\"glyph\":{\"id\":\"056d8015-b02b-4c77-a0fe-bca907eadd4e\",\"type\":\"Circle\"},\"hover_glyph\":null,\"muted_glyph\":null,\"nonselection_glyph\":{\"id\":\"db102cb6-9de8-4727-a52f-425fe2a6192a\",\"type\":\"Circle\"},\"selection_glyph\":null,\"view\":{\"id\":\"1c70e0e7-dc43-470f-aa6c-9625d5efe4b8\",\"type\":\"CDSView\"}},\"id\":\"d57f34b3-4f21-4c62-bb1f-63a02d35a7e1\",\"type\":\"GlyphRenderer\"},{\"attributes\":{\"callback\":null,\"data\":{\"x\":{\"__ndarray__\":\"1DWDilReo78YEGTjTzijvyivISuJ5aK/c00gdFOMor+DMydfeDGiv7ZVSOMe1aG/RW7GHGN3ob9alThKbxihvwvw0il9uKC/dcV5COxXoL/gI8WXhu6fv8dih5xnLp+/dTMO1G5xnr/jSW2oL6ydv9tJSGNjE5u/yfFRdbb/kr+QyYqUSlJ0vxgxqRtJKok/U3KT59Y3oT+1NL75a6OuP2p5N6VYfLc/W2ib0t+nwD/FDI8SICXFP+h6FHQ9O8U/fTD1U44YwT+LP/Ek3dO4P9v5n3ill7A/2QwzU9cgpD8mYeUf5xuWPwLWUe7qEIY/+pf6e53bcj+7VzPP5sFRP8iPfeH130q/Xv1HVNeCZ7+kzm4NNeR8v03UA/mebYu/dmI/x80ulL9+emjYP9+ZvymRhSZQ1p+/uZqrfkCgor/I/DFjCeijv8ZpN1g2q6O/b4kMBQ3xor+WlxJoogSiv3evEuhe66C/wvX92zJOn7/RUBZqHnWcvx7Stn2yUpm/nh6Oaejvlb8moryRjleSv3O7x5OnOY2/Rk48LoWjhb9Sl7IqxwZ8v44I5Iw5aWm/dpsJiV1YRj+tQOU3eJdyPzRtLgtWY4E/VYMS7OeziT8SMuW3ZCGRP/sgOmkCipU/sGy1oTAVmj/xl6nNVMWeP6QP0XFlzqE/VnyHz8VNpD/DSGu+d96mP0utPmayeKk/dOyEMuEIrD/zWeogg22uP60rrlJOQ7A/MdOH38AnsT/CxguTZfGxPwXy+9szsbI/uphlCuxysz/CxRqwAT20Px6gvJnpErU/\",\"dtype\":\"float64\",\"shape\":[75]},\"y\":{\"__ndarray__\":\"GhExyth1ND/Sv8nbtpRIP2vylNV0PVE/aTum7souWD/At0SJ8fVgPw3Iuahxymc/MSNhhJWvcD/bTfBN02d3P2zb5nxnaoA/CD5h5MAGhz8NmeH1TyaQP+zrCsc9p5Y/LbKd76fGnz/bLW5ISEmmPww9YvTcQq8/JV2OstnstT8Er5Y7M8G+P0c+r3jqkcU/5h99k6ZBzj88bCIzFzjVP4enV8oyxN0//yH99nXg5D8qOpLLf0jtP5kqGJXUifQ/c9cS8kHP/D+/DpwzojQEQIEmwoanVwxA4lgXt9HgE0BSSZ2AJuIbQAMJih9jjiNA5q4l5INuK0AwTKYKRj0zQNv5fmq8/DpAaCJseHrtQkB/+zpwzoxKQM3MzMzMeFJAZmZmZmZqWEAAAAAAAFxeQM3MzMzMJmJAmpmZmZkfZUBmZmZmZhhoQDMzMzMzEWtAAAAAAAAKbkBmZmZmZoFwQM3MzMzM/XFAMzMzMzN6c0CamZmZmfZ0QAAAAAAAc3ZAZmZmZmbvd0DNzMzMzGt5QDMzMzMz6HpAmpmZmZlkfEAAAAAAAOF9QGZmZmZmXX9AZmZmZuZsgECamZmZGSuBQM3MzMxM6YFAAAAAAICngkAzMzMzs2WDQGZmZmbmI4RAmpmZmRnihEDNzMzMTKCFQAAAAACAXoZAMzMzM7Mch0BmZmZm5tqHQJqZmZkZmYhAzczMzExXiUAAAAAAgBWKQDMzMzOz04pAZmZmZuaRi0CamZmZGVCMQM3MzMxMDo1AAAAAAIDMjUAzMzMzs4qOQGZmZmbmSI9A\",\"dtype\":\"float64\",\"shape\":[75]}},\"selected\":{\"id\":\"3351e07e-fd10-42e6-8397-e4ac1d0045a1\",\"type\":\"Selection\"},\"selection_policy\":{\"id\":\"e7fe9d40-b6e0-4e4d-a626-7fbc2652c9da\",\"type\":\"UnionRenderers\"}},\"id\":\"dbe039f9-8be5-4a31-a398-82b26e2c83ce\",\"type\":\"ColumnDataSource\"},{\"attributes\":{\"data_source\":{\"id\":\"12c9b758-4155-46b3-8515-829f24aa389d\",\"type\":\"ColumnDataSource\"},\"glyph\":{\"id\":\"4d3483cf-2826-4612-b51e-2501f8868181\",\"type\":\"Square\"},\"hover_glyph\":null,\"muted_glyph\":null,\"nonselection_glyph\":{\"id\":\"cacd426b-a407-464a-83ed-ba3741c3b631\",\"type\":\"Square\"},\"selection_glyph\":null,\"view\":{\"id\":\"19ca21e3-3638-4296-b923-9abe1d3132e5\",\"type\":\"CDSView\"}},\"id\":\"8e9d4352-b82d-450b-96f6-318e4e887582\",\"type\":\"GlyphRenderer\"},{\"attributes\":{\"active_drag\":\"auto\",\"active_inspect\":\"auto\",\"active_scroll\":\"auto\",\"active_tap\":\"auto\",\"tools\":[{\"id\":\"a8bf9a61-b9b9-4e72-80fb-35d4fd040f0f\",\"type\":\"PanTool\"},{\"id\":\"2474d962-9164-41e4-8cc2-265ec8473679\",\"type\":\"WheelZoomTool\"},{\"id\":\"8688e4c2-0779-4856-9209-8d5d360c5b0e\",\"type\":\"BoxZoomTool\"},{\"id\":\"c330add7-ba22-42f5-9e28-89ed24383520\",\"type\":\"SaveTool\"},{\"id\":\"a23a3d28-8cc2-4524-9782-a1a87e095e36\",\"type\":\"ResetTool\"},{\"id\":\"0286ff75-2789-4d25-9ffd-fd7852ab9523\",\"type\":\"HelpTool\"}]},\"id\":\"a5f10b56-6479-4c1e-90d0-7e0a1ab4bedf\",\"type\":\"Toolbar\"},{\"attributes\":{\"label\":{\"value\":\"WGT igg=1\"},\"renderers\":[{\"id\":\"8e9d4352-b82d-450b-96f6-318e4e887582\",\"type\":\"GlyphRenderer\"},{\"id\":\"bbd66de2-fd87-4915-99d4-cb7ae665c12f\",\"type\":\"GlyphRenderer\"}]},\"id\":\"46533331-9b3b-4cd0-b6ef-e8358f8075ca\",\"type\":\"LegendItem\"},{\"attributes\":{\"callback\":null,\"end\":0.16812006035340002,\"start\":-0.0613490768334},\"id\":\"edd1f943-287e-4c79-9a08-7cfcae06bb92\",\"type\":\"Range1d\"},{\"attributes\":{\"label\":{\"value\":\"CRD\"},\"renderers\":[{\"id\":\"07caac62-d568-4e9d-9495-2df50f6dffa8\",\"type\":\"GlyphRenderer\"},{\"id\":\"96dce6bb-3c04-4b19-be42-7953e9b81486\",\"type\":\"GlyphRenderer\"}]},\"id\":\"9d1b333a-6a39-479f-8d8c-a4a997c68d29\",\"type\":\"LegendItem\"},{\"attributes\":{\"plot\":{\"id\":\"f515bad6-21ea-4c3a-9df6-cf7e436d3889\",\"subtype\":\"Figure\",\"type\":\"Plot\"},\"ticker\":{\"id\":\"905daa9c-5a75-46c0-a740-00c8641244a7\",\"type\":\"BasicTicker\"}},\"id\":\"9c95e459-16c5-4e7a-9860-3094b1374f4a\",\"type\":\"Grid\"},{\"attributes\":{\"label\":{\"value\":\"WGT igg=10\"},\"renderers\":[{\"id\":\"9a3a7055-97bb-4cba-b910-c28838521c18\",\"type\":\"GlyphRenderer\"},{\"id\":\"c157f9ba-e7b4-4791-a926-f22e6b5c0c22\",\"type\":\"GlyphRenderer\"}]},\"id\":\"f824c367-c7c9-491c-af4c-d49baa292619\",\"type\":\"LegendItem\"},{\"attributes\":{},\"id\":\"6bfd6fb2-b2a4-4c5f-b505-cb2f602cedf3\",\"type\":\"LinearScale\"},{\"attributes\":{},\"id\":\"b90aad08-8586-47f8-809c-1678a79664ad\",\"type\":\"LogScale\"},{\"attributes\":{\"items\":[{\"id\":\"570e94be-b5ae-4364-9c65-ce232f43e40c\",\"type\":\"LegendItem\"},{\"id\":\"0d045088-e7e7-4e68-b710-2d9338f3183e\",\"type\":\"LegendItem\"},{\"id\":\"127832b3-a6f1-451f-b847-9e8ec04f8cc1\",\"type\":\"LegendItem\"}],\"label_text_font_size\":{\"value\":\"8pt\"},\"location\":\"top_center\",\"orientation\":\"horizontal\",\"plot\":{\"id\":\"f515bad6-21ea-4c3a-9df6-cf7e436d3889\",\"subtype\":\"Figure\",\"type\":\"Plot\"}},\"id\":\"e2c4f739-93d3-4db6-b10f-837d5bea3bc4\",\"type\":\"Legend\"},{\"attributes\":{\"axis_label\":\"pressure [mb]\",\"formatter\":{\"id\":\"c409a9d2-5ef7-4a1d-b5a3-1454c4689419\",\"type\":\"LogTickFormatter\"},\"plot\":{\"id\":\"f515bad6-21ea-4c3a-9df6-cf7e436d3889\",\"subtype\":\"Figure\",\"type\":\"Plot\"},\"ticker\":{\"id\":\"6c77de92-56e7-46ac-90b1-da06bfcd4f03\",\"type\":\"LogTicker\"}},\"id\":\"97025e86-8677-43e3-9ab6-c29e10db62e6\",\"type\":\"LogAxis\"},{\"attributes\":{\"callback\":null,\"end\":0.0835318269418,\"start\":-0.0400916693618},\"id\":\"993896b9-38dd-40a5-a37c-647c9cc0600a\",\"type\":\"Range1d\"},{\"attributes\":{},\"id\":\"905daa9c-5a75-46c0-a740-00c8641244a7\",\"type\":\"BasicTicker\"},{\"attributes\":{\"axis_label\":\"cooling rate [K/day]\",\"formatter\":{\"id\":\"2c04f10a-0737-429d-9e0c-0a099b92c866\",\"type\":\"BasicTickFormatter\"},\"plot\":{\"id\":\"f515bad6-21ea-4c3a-9df6-cf7e436d3889\",\"subtype\":\"Figure\",\"type\":\"Plot\"},\"ticker\":{\"id\":\"905daa9c-5a75-46c0-a740-00c8641244a7\",\"type\":\"BasicTicker\"}},\"id\":\"6ad2fc50-7c5a-45f2-84eb-39aa9c739e00\",\"type\":\"LinearAxis\"},{\"attributes\":{\"dimension\":1,\"plot\":{\"id\":\"f515bad6-21ea-4c3a-9df6-cf7e436d3889\",\"subtype\":\"Figure\",\"type\":\"Plot\"},\"ticker\":{\"id\":\"6c77de92-56e7-46ac-90b1-da06bfcd4f03\",\"type\":\"LogTicker\"}},\"id\":\"be584872-e587-408e-bfc6-307fe9d9bc23\",\"type\":\"Grid\"},{\"attributes\":{\"num_minor_ticks\":10},\"id\":\"6c77de92-56e7-46ac-90b1-da06bfcd4f03\",\"type\":\"LogTicker\"},{\"attributes\":{},\"id\":\"a8bf9a61-b9b9-4e72-80fb-35d4fd040f0f\",\"type\":\"PanTool\"},{\"attributes\":{},\"id\":\"3351e07e-fd10-42e6-8397-e4ac1d0045a1\",\"type\":\"Selection\"},{\"attributes\":{},\"id\":\"e7fe9d40-b6e0-4e4d-a626-7fbc2652c9da\",\"type\":\"UnionRenderers\"},{\"attributes\":{},\"id\":\"2474d962-9164-41e4-8cc2-265ec8473679\",\"type\":\"WheelZoomTool\"},{\"attributes\":{\"overlay\":{\"id\":\"641b271b-ee6b-4bfe-ad89-cf917507c2da\",\"type\":\"BoxAnnotation\"}},\"id\":\"8688e4c2-0779-4856-9209-8d5d360c5b0e\",\"type\":\"BoxZoomTool\"},{\"attributes\":{\"callback\":null,\"data\":{\"x\":{\"__ndarray__\":\"22pJWOcDsb9V0dLjPeawv99+NnKkoLC/mCexNMdWsL+neuJ9YhCwv4l2lJVjlq+/wIGNocESr7/j+fmZtJiuv9U53BhjL66/+aA2Mgjarb/ZgtvY7aKtvwRhXjwwlq2/kokSa3/Grb/yR48bRkKuv4YVnj95nq2/DRWubPviqL+kI9MgywigvxLNuqel0IS/lzKZN4ePjj/BgAv0l9imPym2E0tzerQ/yxZcepOCvz+42gLvhbLEP9uWjFmyp8M/LdzDNISJuz975KBhzGmxP3u9/PUmwqU/4PO2EXFKnD8wYdKE8RqUPxz/A4HVXo4/gEjA8QOwhT8BB4QlYqB5Py7a2Kw0xmc/kHlnBoDGMz88vAxNY+ppv5hiFOLAr3+/qoI6l5pRiL/n120FvqePv/9djUCijZS/LSg08a6Tmb+CVOQmFN6bv5BQU7lo+Jq/8qLmcnSMmb+Q7+I9oRKYv9awO/KCbpa/CEDrdRKUlL/FiwFeB4CSvwbScEA7M5C/XB54J+lii7+kBCRy5gSGv+vX6Trbb4C/UXR8ic6Tdb+DslwVi6pkv3aznBj8YSw/UFOdng+AaD/KjWetL+13PxzrtpGYA4I/5Bvz3L9QiD+zUTOJcOWOP31sjaoQ5JI/cccNUv9/lj+el3WKD0yaPxS57iiTTp4/NJ8P3URGoT+YOK//bIOjP5mPW93l2KU/RGJqLQkxqD9NKgadJWKqPwTXpyhPQ6w/iw4Q1rjQrT9Oh3vFfDGvP/95IA4nS7A/GlYUQG0RsT9RlAAiw/ixP/SED3vlEbM/\",\"dtype\":\"float64\",\"shape\":[75]},\"y\":{\"__ndarray__\":\"GhExyth1ND/Sv8nbtpRIP2vylNV0PVE/aTum7souWD/At0SJ8fVgPw3Iuahxymc/MSNhhJWvcD/bTfBN02d3P2zb5nxnaoA/CD5h5MAGhz8NmeH1TyaQP+zrCsc9p5Y/LbKd76fGnz/bLW5ISEmmPww9YvTcQq8/JV2OstnstT8Er5Y7M8G+P0c+r3jqkcU/5h99k6ZBzj88bCIzFzjVP4enV8oyxN0//yH99nXg5D8qOpLLf0jtP5kqGJXUifQ/c9cS8kHP/D+/DpwzojQEQIEmwoanVwxA4lgXt9HgE0BSSZ2AJuIbQAMJih9jjiNA5q4l5INuK0AwTKYKRj0zQNv5fmq8/DpAaCJseHrtQkB/+zpwzoxKQM3MzMzMeFJAZmZmZmZqWEAAAAAAAFxeQM3MzMzMJmJAmpmZmZkfZUBmZmZmZhhoQDMzMzMzEWtAAAAAAAAKbkBmZmZmZoFwQM3MzMzM/XFAMzMzMzN6c0CamZmZmfZ0QAAAAAAAc3ZAZmZmZmbvd0DNzMzMzGt5QDMzMzMz6HpAmpmZmZlkfEAAAAAAAOF9QGZmZmZmXX9AZmZmZuZsgECamZmZGSuBQM3MzMxM6YFAAAAAAICngkAzMzMzs2WDQGZmZmbmI4RAmpmZmRnihEDNzMzMTKCFQAAAAACAXoZAMzMzM7Mch0BmZmZm5tqHQJqZmZkZmYhAzczMzExXiUAAAAAAgBWKQDMzMzOz04pAZmZmZuaRi0CamZmZGVCMQM3MzMxMDo1AAAAAAIDMjUAzMzMzs4qOQGZmZmbmSI9A\",\"dtype\":\"float64\",\"shape\":[75]}},\"selected\":{\"id\":\"56d323c6-fee0-4440-8660-a9219f9acc7c\",\"type\":\"Selection\"},\"selection_policy\":{\"id\":\"939e57e0-44d0-4e47-a12f-0939042e6043\",\"type\":\"UnionRenderers\"}},\"id\":\"a2e4445b-f6ec-4551-bb19-eec168c2794a\",\"type\":\"ColumnDataSource\"},{\"attributes\":{},\"id\":\"faab0187-b383-4f46-b778-ad8b65302682\",\"type\":\"UnionRenderers\"},{\"attributes\":{},\"id\":\"434a9344-71b7-40f3-ad8f-4e5af3ece8ba\",\"type\":\"Selection\"},{\"attributes\":{\"callback\":null,\"end\":0.01,\"start\":1020},\"id\":\"c0a83a77-c0f3-4f95-bc31-9c7133d4a233\",\"type\":\"Range1d\"},{\"attributes\":{},\"id\":\"b24d7e1d-e8e9-457b-9b14-f167dd097f90\",\"type\":\"Selection\"},{\"attributes\":{\"fill_alpha\":{\"value\":0.7},\"fill_color\":{\"value\":\"#4daf4a\"},\"line_alpha\":{\"value\":0.7},\"line_color\":{\"value\":\"#4daf4a\"},\"x\":{\"field\":\"x\"},\"y\":{\"field\":\"y\"}},\"id\":\"a07de57f-d385-453e-b8bf-5338e693ff80\",\"type\":\"Circle\"},{\"attributes\":{},\"id\":\"2c04f10a-0737-429d-9e0c-0a099b92c866\",\"type\":\"BasicTickFormatter\"},{\"attributes\":{},\"id\":\"56d323c6-fee0-4440-8660-a9219f9acc7c\",\"type\":\"Selection\"},{\"attributes\":{},\"id\":\"f6403363-d717-492e-ad2c-3af740893695\",\"type\":\"LinearScale\"},{\"attributes\":{},\"id\":\"939e57e0-44d0-4e47-a12f-0939042e6043\",\"type\":\"UnionRenderers\"},{\"attributes\":{\"toolbar\":{\"id\":\"7af90824-d94a-4c30-8eff-833cc9a543ed\",\"type\":\"ProxyToolbar\"},\"toolbar_location\":\"above\"},\"id\":\"2cb086f8-7f78-42e6-be96-ca6706bd923f\",\"type\":\"ToolbarBox\"},{\"attributes\":{},\"id\":\"395de65c-ed99-4dc9-a3a5-be072933667c\",\"type\":\"Selection\"},{\"attributes\":{},\"id\":\"94b355a8-d52b-4c9d-b057-a0dd28d8657c\",\"type\":\"Selection\"},{\"attributes\":{},\"id\":\"018b98a0-c36a-48cb-b8ff-5caa751775fa\",\"type\":\"UnionRenderers\"},{\"attributes\":{},\"id\":\"aaa6ee25-f23f-4ed2-b4a3-5fb78ad1c57b\",\"type\":\"UnionRenderers\"},{\"attributes\":{},\"id\":\"25229c03-7560-4158-8757-0f52f1af6757\",\"type\":\"Selection\"},{\"attributes\":{},\"id\":\"f3ca74ba-3ba0-483f-9e45-3a7a46e117f4\",\"type\":\"UnionRenderers\"},{\"attributes\":{},\"id\":\"9918cfe8-e1d1-4884-ba24-a3ea9bcb39c6\",\"type\":\"Selection\"},{\"attributes\":{},\"id\":\"0fc6eb8d-bdcb-4c73-a9b2-eb0dda3c21e7\",\"type\":\"UnionRenderers\"},{\"attributes\":{\"tools\":[{\"id\":\"3830b163-7a55-45a2-bc9f-80e4366a2038\",\"type\":\"PanTool\"},{\"id\":\"f98e9840-3692-4057-adca-3e5e7e8b0b99\",\"type\":\"WheelZoomTool\"},{\"id\":\"1afb5b1a-2d58-4b89-9de0-a664b45057fa\",\"type\":\"BoxZoomTool\"},{\"id\":\"d3f47c43-d55f-421d-a9f7-a12d8c9bd987\",\"type\":\"SaveTool\"},{\"id\":\"2c363f00-c8e2-455f-aa7f-e0d9d6dc7453\",\"type\":\"ResetTool\"},{\"id\":\"549a079e-7b73-45eb-be85-9bb343aa3558\",\"type\":\"HelpTool\"},{\"id\":\"a8bf9a61-b9b9-4e72-80fb-35d4fd040f0f\",\"type\":\"PanTool\"},{\"id\":\"2474d962-9164-41e4-8cc2-265ec8473679\",\"type\":\"WheelZoomTool\"},{\"id\":\"8688e4c2-0779-4856-9209-8d5d360c5b0e\",\"type\":\"BoxZoomTool\"},{\"id\":\"c330add7-ba22-42f5-9e28-89ed24383520\",\"type\":\"SaveTool\"},{\"id\":\"a23a3d28-8cc2-4524-9782-a1a87e095e36\",\"type\":\"ResetTool\"},{\"id\":\"0286ff75-2789-4d25-9ffd-fd7852ab9523\",\"type\":\"HelpTool\"}]},\"id\":\"7af90824-d94a-4c30-8eff-833cc9a543ed\",\"type\":\"ProxyToolbar\"},{\"attributes\":{},\"id\":\"6c185dcd-349a-439f-9091-8e9e2fe67f2c\",\"type\":\"Selection\"},{\"attributes\":{},\"id\":\"8ebbaef1-db55-4825-80d7-06d8221e4c94\",\"type\":\"UnionRenderers\"},{\"attributes\":{\"children\":[{\"id\":\"2cb086f8-7f78-42e6-be96-ca6706bd923f\",\"type\":\"ToolbarBox\"},{\"id\":\"6bd2f559-6efb-43e1-ae6b-314a86b2c5ea\",\"type\":\"Column\"}]},\"id\":\"8f70d478-4c5d-4a5f-adff-d41798b01a07\",\"type\":\"Column\"},{\"attributes\":{},\"id\":\"a23a3d28-8cc2-4524-9782-a1a87e095e36\",\"type\":\"ResetTool\"},{\"attributes\":{},\"id\":\"0286ff75-2789-4d25-9ffd-fd7852ab9523\",\"type\":\"HelpTool\"},{\"attributes\":{\"fill_alpha\":{\"value\":0.1},\"fill_color\":{\"value\":\"#1f77b4\"},\"line_alpha\":{\"value\":0.1},\"line_color\":{\"value\":\"#1f77b4\"},\"x\":{\"field\":\"x\"},\"y\":{\"field\":\"y\"}},\"id\":\"d4182bad-366a-4b86-b394-b4a2ab813965\",\"type\":\"Circle\"},{\"attributes\":{\"bottom_units\":\"screen\",\"fill_alpha\":{\"value\":0.5},\"fill_color\":{\"value\":\"lightgrey\"},\"left_units\":\"screen\",\"level\":\"overlay\",\"line_alpha\":{\"value\":1.0},\"line_color\":{\"value\":\"black\"},\"line_dash\":[4,4],\"line_width\":{\"value\":2},\"plot\":null,\"render_mode\":\"css\",\"right_units\":\"screen\",\"top_units\":\"screen\"},\"id\":\"641b271b-ee6b-4bfe-ad89-cf917507c2da\",\"type\":\"BoxAnnotation\"},{\"attributes\":{\"data_source\":{\"id\":\"56ff75d5-3d61-4685-88f3-d327738a02ed\",\"type\":\"ColumnDataSource\"},\"glyph\":{\"id\":\"a07de57f-d385-453e-b8bf-5338e693ff80\",\"type\":\"Circle\"},\"hover_glyph\":null,\"muted_glyph\":null,\"nonselection_glyph\":{\"id\":\"d4182bad-366a-4b86-b394-b4a2ab813965\",\"type\":\"Circle\"},\"selection_glyph\":null,\"view\":{\"id\":\"77a9aac7-f77f-4327-b514-d98fb64238f6\",\"type\":\"CDSView\"}},\"id\":\"07caac62-d568-4e9d-9495-2df50f6dffa8\",\"type\":\"GlyphRenderer\"},{\"attributes\":{\"above\":[{\"id\":\"b60ad90b-7d77-4308-b3c0-972faa3886e3\",\"type\":\"Legend\"}],\"below\":[{\"id\":\"b7845526-f3ab-49a7-b5b5-f169f87848de\",\"type\":\"LinearAxis\"}],\"left\":[{\"id\":\"1bac6f58-b64b-404d-acd3-cfe0f1a3e8b6\",\"type\":\"LinearAxis\"}],\"plot_height\":500,\"plot_width\":400,\"renderers\":[{\"id\":\"b7845526-f3ab-49a7-b5b5-f169f87848de\",\"type\":\"LinearAxis\"},{\"id\":\"90d85b11-d463-493d-a424-572a6d8e135a\",\"type\":\"Grid\"},{\"id\":\"1bac6f58-b64b-404d-acd3-cfe0f1a3e8b6\",\"type\":\"LinearAxis\"},{\"id\":\"b38aa8b4-f9e6-42da-9456-01741ef6e707\",\"type\":\"Grid\"},{\"id\":\"3bbd7d04-d82c-443a-b342-22b41d2805a3\",\"type\":\"BoxAnnotation\"},{\"id\":\"07caac62-d568-4e9d-9495-2df50f6dffa8\",\"type\":\"GlyphRenderer\"},{\"id\":\"96dce6bb-3c04-4b19-be42-7953e9b81486\",\"type\":\"GlyphRenderer\"},{\"id\":\"8e9d4352-b82d-450b-96f6-318e4e887582\",\"type\":\"GlyphRenderer\"},{\"id\":\"bbd66de2-fd87-4915-99d4-cb7ae665c12f\",\"type\":\"GlyphRenderer\"},{\"id\":\"9a3a7055-97bb-4cba-b910-c28838521c18\",\"type\":\"GlyphRenderer\"},{\"id\":\"c157f9ba-e7b4-4791-a926-f22e6b5c0c22\",\"type\":\"GlyphRenderer\"},{\"id\":\"b60ad90b-7d77-4308-b3c0-972faa3886e3\",\"type\":\"Legend\"}],\"title\":{\"id\":\"eb70ae8b-eeaf-41ca-8fad-487b9200f85b\",\"type\":\"Title\"},\"toolbar\":{\"id\":\"c452d78f-7cc6-420a-b98d-2f3a012661b3\",\"type\":\"Toolbar\"},\"toolbar_location\":null,\"x_range\":{\"id\":\"993896b9-38dd-40a5-a37c-647c9cc0600a\",\"type\":\"Range1d\"},\"x_scale\":{\"id\":\"f6403363-d717-492e-ad2c-3af740893695\",\"type\":\"LinearScale\"},\"y_range\":{\"id\":\"27709087-23e0-4740-8345-da6a0ad7f2ac\",\"type\":\"Range1d\"},\"y_scale\":{\"id\":\"689f82ad-0680-4701-8e9b-a9e8c81ba570\",\"type\":\"LinearScale\"}},\"id\":\"857d6b14-752b-49a0-99a8-8b9f151e8c69\",\"subtype\":\"Figure\",\"type\":\"Plot\"},{\"attributes\":{\"source\":{\"id\":\"56ff75d5-3d61-4685-88f3-d327738a02ed\",\"type\":\"ColumnDataSource\"}},\"id\":\"77a9aac7-f77f-4327-b514-d98fb64238f6\",\"type\":\"CDSView\"},{\"attributes\":{\"callback\":null,\"data\":{\"x\":{\"__ndarray__\":\"22pJWOcDsb9V0dLjPeawv99+NnKkoLC/mCexNMdWsL+neuJ9YhCwv4l2lJVjlq+/wIGNocESr7/j+fmZtJiuv9U53BhjL66/+aA2Mgjarb/ZgtvY7aKtvwRhXjwwlq2/kokSa3/Grb/yR48bRkKuv4YVnj95nq2/DRWubPviqL+kI9MgywigvxLNuqel0IS/lzKZN4ePjj/BgAv0l9imPym2E0tzerQ/yxZcepOCvz+42gLvhbLEP9uWjFmyp8M/LdzDNISJuz975KBhzGmxP3u9/PUmwqU/4PO2EXFKnD8wYdKE8RqUPxz/A4HVXo4/gEjA8QOwhT8BB4QlYqB5Py7a2Kw0xmc/kHlnBoDGMz88vAxNY+ppv5hiFOLAr3+/qoI6l5pRiL/n120FvqePv/9djUCijZS/LSg08a6Tmb+CVOQmFN6bv5BQU7lo+Jq/8qLmcnSMmb+Q7+I9oRKYv9awO/KCbpa/CEDrdRKUlL/FiwFeB4CSvwbScEA7M5C/XB54J+lii7+kBCRy5gSGv+vX6Trbb4C/UXR8ic6Tdb+DslwVi6pkv3aznBj8YSw/UFOdng+AaD/KjWetL+13PxzrtpGYA4I/5Bvz3L9QiD+zUTOJcOWOP31sjaoQ5JI/cccNUv9/lj+el3WKD0yaPxS57iiTTp4/NJ8P3URGoT+YOK//bIOjP5mPW93l2KU/RGJqLQkxqD9NKgadJWKqPwTXpyhPQ6w/iw4Q1rjQrT9Oh3vFfDGvP/95IA4nS7A/GlYUQG0RsT9RlAAiw/ixP/SED3vlEbM/\",\"dtype\":\"float64\",\"shape\":[75]},\"y\":{\"__ndarray__\":\"GhExyth1ND/Sv8nbtpRIP2vylNV0PVE/aTum7souWD/At0SJ8fVgPw3Iuahxymc/MSNhhJWvcD/bTfBN02d3P2zb5nxnaoA/CD5h5MAGhz8NmeH1TyaQP+zrCsc9p5Y/LbKd76fGnz/bLW5ISEmmPww9YvTcQq8/JV2OstnstT8Er5Y7M8G+P0c+r3jqkcU/5h99k6ZBzj88bCIzFzjVP4enV8oyxN0//yH99nXg5D8qOpLLf0jtP5kqGJXUifQ/c9cS8kHP/D+/DpwzojQEQIEmwoanVwxA4lgXt9HgE0BSSZ2AJuIbQAMJih9jjiNA5q4l5INuK0AwTKYKRj0zQNv5fmq8/DpAaCJseHrtQkB/+zpwzoxKQM3MzMzMeFJAZmZmZmZqWEAAAAAAAFxeQM3MzMzMJmJAmpmZmZkfZUBmZmZmZhhoQDMzMzMzEWtAAAAAAAAKbkBmZmZmZoFwQM3MzMzM/XFAMzMzMzN6c0CamZmZmfZ0QAAAAAAAc3ZAZmZmZmbvd0DNzMzMzGt5QDMzMzMz6HpAmpmZmZlkfEAAAAAAAOF9QGZmZmZmXX9AZmZmZuZsgECamZmZGSuBQM3MzMxM6YFAAAAAAICngkAzMzMzs2WDQGZmZmbmI4RAmpmZmRnihEDNzMzMTKCFQAAAAACAXoZAMzMzM7Mch0BmZmZm5tqHQJqZmZkZmYhAzczMzExXiUAAAAAAgBWKQDMzMzOz04pAZmZmZuaRi0CamZmZGVCMQM3MzMxMDo1AAAAAAIDMjUAzMzMzs4qOQGZmZmbmSI9A\",\"dtype\":\"float64\",\"shape\":[75]}},\"selected\":{\"id\":\"8734469e-bbc3-47ac-b210-fc53305ee28f\",\"type\":\"Selection\"},\"selection_policy\":{\"id\":\"05511f22-d8fb-4c78-8fc5-1360eb6a878e\",\"type\":\"UnionRenderers\"}},\"id\":\"56ff75d5-3d61-4685-88f3-d327738a02ed\",\"type\":\"ColumnDataSource\"},{\"attributes\":{\"fill_alpha\":{\"value\":0.7},\"fill_color\":{\"value\":\"#4daf4a\"},\"line_alpha\":{\"value\":0.7},\"line_color\":{\"value\":\"#4daf4a\"},\"x\":{\"field\":\"x\"},\"y\":{\"field\":\"y\"}},\"id\":\"056d8015-b02b-4c77-a0fe-bca907eadd4e\",\"type\":\"Circle\"},{\"attributes\":{\"source\":{\"id\":\"0a6b7fb4-a6ca-437d-82f1-7f1c1ec8dadf\",\"type\":\"ColumnDataSource\"}},\"id\":\"6dfd7d6f-c76b-4de7-a3ed-5f919d940e69\",\"type\":\"CDSView\"},{\"attributes\":{\"fill_alpha\":{\"value\":0.7},\"fill_color\":{\"value\":\"#984ea3\"},\"line_alpha\":{\"value\":0.7},\"line_color\":{\"value\":\"#984ea3\"},\"x\":{\"field\":\"x\"},\"y\":{\"field\":\"y\"}},\"id\":\"4d3483cf-2826-4612-b51e-2501f8868181\",\"type\":\"Square\"},{\"attributes\":{},\"id\":\"c330add7-ba22-42f5-9e28-89ed24383520\",\"type\":\"SaveTool\"},{\"attributes\":{\"data_source\":{\"id\":\"0a6b7fb4-a6ca-437d-82f1-7f1c1ec8dadf\",\"type\":\"ColumnDataSource\"},\"glyph\":{\"id\":\"d01fd374-50a5-4763-a277-4410dbc23fdd\",\"type\":\"Line\"},\"hover_glyph\":null,\"muted_glyph\":null,\"nonselection_glyph\":{\"id\":\"f65693c9-4c61-48f5-891d-8af22e602411\",\"type\":\"Line\"},\"selection_glyph\":null,\"view\":{\"id\":\"6dfd7d6f-c76b-4de7-a3ed-5f919d940e69\",\"type\":\"CDSView\"}},\"id\":\"96dce6bb-3c04-4b19-be42-7953e9b81486\",\"type\":\"GlyphRenderer\"},{\"attributes\":{\"line_alpha\":0.1,\"line_color\":\"#1f77b4\",\"line_width\":1.5,\"x\":{\"field\":\"x\"},\"y\":{\"field\":\"y\"}},\"id\":\"f65693c9-4c61-48f5-891d-8af22e602411\",\"type\":\"Line\"},{\"attributes\":{\"callback\":null,\"data\":{\"x\":{\"__ndarray__\":\"22pJWOcDsb9V0dLjPeawv99+NnKkoLC/mCexNMdWsL+neuJ9YhCwv4l2lJVjlq+/wIGNocESr7/j+fmZtJiuv9U53BhjL66/+aA2Mgjarb/ZgtvY7aKtvwRhXjwwlq2/kokSa3/Grb/yR48bRkKuv4YVnj95nq2/DRWubPviqL+kI9MgywigvxLNuqel0IS/lzKZN4ePjj/BgAv0l9imPym2E0tzerQ/yxZcepOCvz+42gLvhbLEP9uWjFmyp8M/LdzDNISJuz975KBhzGmxP3u9/PUmwqU/4PO2EXFKnD8wYdKE8RqUPxz/A4HVXo4/gEjA8QOwhT8BB4QlYqB5Py7a2Kw0xmc/kHlnBoDGMz88vAxNY+ppv5hiFOLAr3+/qoI6l5pRiL/n120FvqePv/9djUCijZS/LSg08a6Tmb+CVOQmFN6bv5BQU7lo+Jq/8qLmcnSMmb+Q7+I9oRKYv9awO/KCbpa/CEDrdRKUlL/FiwFeB4CSvwbScEA7M5C/XB54J+lii7+kBCRy5gSGv+vX6Trbb4C/UXR8ic6Tdb+DslwVi6pkv3aznBj8YSw/UFOdng+AaD/KjWetL+13PxzrtpGYA4I/5Bvz3L9QiD+zUTOJcOWOP31sjaoQ5JI/cccNUv9/lj+el3WKD0yaPxS57iiTTp4/NJ8P3URGoT+YOK//bIOjP5mPW93l2KU/RGJqLQkxqD9NKgadJWKqPwTXpyhPQ6w/iw4Q1rjQrT9Oh3vFfDGvP/95IA4nS7A/GlYUQG0RsT9RlAAiw/ixP/SED3vlEbM/\",\"dtype\":\"float64\",\"shape\":[75]},\"y\":{\"__ndarray__\":\"GhExyth1ND/Sv8nbtpRIP2vylNV0PVE/aTum7souWD/At0SJ8fVgPw3Iuahxymc/MSNhhJWvcD/bTfBN02d3P2zb5nxnaoA/CD5h5MAGhz8NmeH1TyaQP+zrCsc9p5Y/LbKd76fGnz/bLW5ISEmmPww9YvTcQq8/JV2OstnstT8Er5Y7M8G+P0c+r3jqkcU/5h99k6ZBzj88bCIzFzjVP4enV8oyxN0//yH99nXg5D8qOpLLf0jtP5kqGJXUifQ/c9cS8kHP/D+/DpwzojQEQIEmwoanVwxA4lgXt9HgE0BSSZ2AJuIbQAMJih9jjiNA5q4l5INuK0AwTKYKRj0zQNv5fmq8/DpAaCJseHrtQkB/+zpwzoxKQM3MzMzMeFJAZmZmZmZqWEAAAAAAAFxeQM3MzMzMJmJAmpmZmZkfZUBmZmZmZhhoQDMzMzMzEWtAAAAAAAAKbkBmZmZmZoFwQM3MzMzM/XFAMzMzMzN6c0CamZmZmfZ0QAAAAAAAc3ZAZmZmZmbvd0DNzMzMzGt5QDMzMzMz6HpAmpmZmZlkfEAAAAAAAOF9QGZmZmZmXX9AZmZmZuZsgECamZmZGSuBQM3MzMxM6YFAAAAAAICngkAzMzMzs2WDQGZmZmbmI4RAmpmZmRnihEDNzMzMTKCFQAAAAACAXoZAMzMzM7Mch0BmZmZm5tqHQJqZmZkZmYhAzczMzExXiUAAAAAAgBWKQDMzMzOz04pAZmZmZuaRi0CamZmZGVCMQM3MzMxMDo1AAAAAAIDMjUAzMzMzs4qOQGZmZmbmSI9A\",\"dtype\":\"float64\",\"shape\":[75]}},\"selected\":{\"id\":\"9ee82593-5630-4b7d-b7ff-b99dc5c5acee\",\"type\":\"Selection\"},\"selection_policy\":{\"id\":\"524f6d46-2b0e-4bc2-b084-24f5ef7e534c\",\"type\":\"UnionRenderers\"}},\"id\":\"0a6b7fb4-a6ca-437d-82f1-7f1c1ec8dadf\",\"type\":\"ColumnDataSource\"},{\"attributes\":{\"line_color\":\"#4daf4a\",\"line_width\":1.5,\"x\":{\"field\":\"x\"},\"y\":{\"field\":\"y\"}},\"id\":\"d01fd374-50a5-4763-a277-4410dbc23fdd\",\"type\":\"Line\"},{\"attributes\":{\"fill_alpha\":{\"value\":0.1},\"fill_color\":{\"value\":\"#1f77b4\"},\"line_alpha\":{\"value\":0.1},\"line_color\":{\"value\":\"#1f77b4\"},\"x\":{\"field\":\"x\"},\"y\":{\"field\":\"y\"}},\"id\":\"cacd426b-a407-464a-83ed-ba3741c3b631\",\"type\":\"Square\"},{\"attributes\":{\"callback\":null,\"data\":{\"x\":{\"__ndarray__\":\"CbQKvwANpr/AU0MHUeKlv9GDQC1vhqW/3Iv/+dcipb8bkR5Ofb2kv+wFGu5pX6S/th3s0XP4o79Vvx/T042jvzIDAN+FMKO/PtOK8KjRor+TXfKYnmeiv7d5t8OpE6K/Nn68CTTJob+JEa7rwHuhvxKms3PCQKC/kQGAsUIgmL+QyAP1Mv2CvwXQKRpD5oE/n60e07KRnz+DSW2NS5KtP5xKF7P6H7c/XeMEB/aSwD8JymdJWh/FP4oDt5nC9sQ/bwwckQ92wD9hduDFNFu3P/WL2Io15K4/nuNjPLEjoz+O31OH28aWP2xwg9omzoo/SvRBVmYdfj+wRaA0sxprP5ydzSgqm0E/nbOSCcnYYb+Mdz6WIYV7v8BTmEbX24q/bC+dF9q2k7/9b0XFTSmZvxG5wrajCp+/IGvK9T1Bor92xSrrYICjv1YM+z41IKO/MMH78IFIor+P5dpWO0ehv+AQDq+TIaC/2qQwpS2rnb/BmUhOkcuav5wzkT/ArZe/CKfRAqNZlL/4CojwFdaQv8v4nmHPdoq/QCJH2gUwg798SHpujeh3vx0rSV1T+2K/nhny2J0JVD8Aqi5bCL1zP4v/yD3CZ4E/65H5diYoiT/9iq1pM5GQP+smCHa+sZQ/Y07qmYvzmD/UFATr7V6dP5650hZZ+6A/ANQ9jzVdoz/0lfEDGNWlPxtky+v9W6g/zjeAvQHcqj/e1y/qHDGtPwo/R4jAN68/J85rm8t1sD9lksteOjaxP/wC91gW8bE/ina3yu+0sj+S4DLJKouzP4VKM6czfLQ/\",\"dtype\":\"float64\",\"shape\":[75]},\"y\":{\"__ndarray__\":\"GhExyth1ND/Sv8nbtpRIP2vylNV0PVE/aTum7souWD/At0SJ8fVgPw3Iuahxymc/MSNhhJWvcD/bTfBN02d3P2zb5nxnaoA/CD5h5MAGhz8NmeH1TyaQP+zrCsc9p5Y/LbKd76fGnz/bLW5ISEmmPww9YvTcQq8/JV2OstnstT8Er5Y7M8G+P0c+r3jqkcU/5h99k6ZBzj88bCIzFzjVP4enV8oyxN0//yH99nXg5D8qOpLLf0jtP5kqGJXUifQ/c9cS8kHP/D+/DpwzojQEQIEmwoanVwxA4lgXt9HgE0BSSZ2AJuIbQAMJih9jjiNA5q4l5INuK0AwTKYKRj0zQNv5fmq8/DpAaCJseHrtQkB/+zpwzoxKQM3MzMzMeFJAZmZmZmZqWEAAAAAAAFxeQM3MzMzMJmJAmpmZmZkfZUBmZmZmZhhoQDMzMzMzEWtAAAAAAAAKbkBmZmZmZoFwQM3MzMzM/XFAMzMzMzN6c0CamZmZmfZ0QAAAAAAAc3ZAZmZmZmbvd0DNzMzMzGt5QDMzMzMz6HpAmpmZmZlkfEAAAAAAAOF9QGZmZmZmXX9AZmZmZuZsgECamZmZGSuBQM3MzMxM6YFAAAAAAICngkAzMzMzs2WDQGZmZmbmI4RAmpmZmRnihEDNzMzMTKCFQAAAAACAXoZAMzMzM7Mch0BmZmZm5tqHQJqZmZkZmYhAzczMzExXiUAAAAAAgBWKQDMzMzOz04pAZmZmZuaRi0CamZmZGVCMQM3MzMxMDo1AAAAAAIDMjUAzMzMzs4qOQGZmZmbmSI9A\",\"dtype\":\"float64\",\"shape\":[75]}},\"selected\":{\"id\":\"7cc5e362-20f5-4778-8f93-d40b5c0ec889\",\"type\":\"Selection\"},\"selection_policy\":{\"id\":\"c90e729d-06ec-4470-bc55-8fbb391de8e8\",\"type\":\"UnionRenderers\"}},\"id\":\"12c9b758-4155-46b3-8515-829f24aa389d\",\"type\":\"ColumnDataSource\"}],\"root_ids\":[\"8f70d478-4c5d-4a5f-adff-d41798b01a07\"]},\"title\":\"Bokeh Application\",\"version\":\"0.12.16\"}};\n",
       "  var render_items = [{\"docid\":\"d4974529-78b0-4ce8-a073-c59b7369f16e\",\"elementid\":\"9c31b5da-acd0-40d7-aaa6-6d52a7fd74b1\",\"modelid\":\"8f70d478-4c5d-4a5f-adff-d41798b01a07\"}];\n",
       "  root.Bokeh.embed.embed_items_notebook(docs_json, render_items);\n",
       "\n",
       "  }\n",
       "  if (root.Bokeh !== undefined) {\n",
       "    embed_document(root);\n",
       "  } else {\n",
       "    var attempts = 0;\n",
       "    var timer = setInterval(function(root) {\n",
       "      if (root.Bokeh !== undefined) {\n",
       "        embed_document(root);\n",
       "        clearInterval(timer);\n",
       "      }\n",
       "      attempts++;\n",
       "      if (attempts > 100) {\n",
       "        console.log(\"Bokeh: ERROR: Unable to run BokehJS code because BokehJS library is missing\")\n",
       "        clearInterval(timer);\n",
       "      }\n",
       "    }, 10, root)\n",
       "  }\n",
       "})(window);"
      ],
      "application/vnd.bokehjs_exec.v0+json": ""
     },
     "metadata": {
      "application/vnd.bokehjs_exec.v0+json": {
       "id": "8f70d478-4c5d-4a5f-adff-d41798b01a07"
      }
     },
     "output_type": "display_data"
    },
    {
     "data": {
      "text/markdown": [
       "*FIGURE.* Cooling rates. Summed over g."
      ],
      "text/plain": [
       "<IPython.core.display.Markdown object>"
      ]
     },
     "metadata": {},
     "output_type": "display_data"
    },
    {
     "data": {
      "text/html": [
       "<a id=\"Flux_Comparison\"></a>"
      ],
      "text/plain": [
       "<IPython.core.display.HTML object>"
      ]
     },
     "metadata": {},
     "output_type": "display_data"
    },
    {
     "data": {
      "text/markdown": [
       "# Flux Comparison"
      ],
      "text/plain": [
       "<IPython.core.display.Markdown object>"
      ]
     },
     "metadata": {},
     "output_type": "display_data"
    },
    {
     "data": {
      "text/html": [
       "<div>\n",
       "<style scoped>\n",
       "    .dataframe tbody tr th:only-of-type {\n",
       "        vertical-align: middle;\n",
       "    }\n",
       "\n",
       "    .dataframe tbody tr th {\n",
       "        vertical-align: top;\n",
       "    }\n",
       "\n",
       "    .dataframe thead th {\n",
       "        text-align: right;\n",
       "    }\n",
       "</style>\n",
       "<table border=\"1\" class=\"dataframe\">\n",
       "  <thead>\n",
       "    <tr style=\"text-align: right;\">\n",
       "      <th></th>\n",
       "      <th></th>\n",
       "      <th></th>\n",
       "      <th>flug</th>\n",
       "      <th>fldg</th>\n",
       "      <th>fnetg</th>\n",
       "    </tr>\n",
       "    <tr>\n",
       "      <th>g</th>\n",
       "      <th>pressure</th>\n",
       "      <th>level</th>\n",
       "      <th></th>\n",
       "      <th></th>\n",
       "      <th></th>\n",
       "    </tr>\n",
       "  </thead>\n",
       "  <tbody>\n",
       "    <tr>\n",
       "      <th rowspan=\"3\" valign=\"top\">1</th>\n",
       "      <th>0.000</th>\n",
       "      <th>1</th>\n",
       "      <td>-0.045699</td>\n",
       "      <td>0.000000</td>\n",
       "      <td>-0.045699</td>\n",
       "    </tr>\n",
       "    <tr>\n",
       "      <th>180.875</th>\n",
       "      <th>41</th>\n",
       "      <td>-0.039225</td>\n",
       "      <td>0.013281</td>\n",
       "      <td>-0.025944</td>\n",
       "    </tr>\n",
       "    <tr>\n",
       "      <th>1013.000</th>\n",
       "      <th>76</th>\n",
       "      <td>-0.126941</td>\n",
       "      <td>0.099081</td>\n",
       "      <td>-0.027861</td>\n",
       "    </tr>\n",
       "    <tr>\n",
       "      <th rowspan=\"3\" valign=\"top\">2</th>\n",
       "      <th>0.000</th>\n",
       "      <th>1</th>\n",
       "      <td>-0.296681</td>\n",
       "      <td>0.000000</td>\n",
       "      <td>-0.296681</td>\n",
       "    </tr>\n",
       "    <tr>\n",
       "      <th>180.875</th>\n",
       "      <th>41</th>\n",
       "      <td>-0.342893</td>\n",
       "      <td>0.061566</td>\n",
       "      <td>-0.281327</td>\n",
       "    </tr>\n",
       "    <tr>\n",
       "      <th>1013.000</th>\n",
       "      <th>76</th>\n",
       "      <td>-0.947176</td>\n",
       "      <td>0.716672</td>\n",
       "      <td>-0.230504</td>\n",
       "    </tr>\n",
       "    <tr>\n",
       "      <th rowspan=\"3\" valign=\"top\">3</th>\n",
       "      <th>0.000</th>\n",
       "      <th>1</th>\n",
       "      <td>-4.193426</td>\n",
       "      <td>0.000000</td>\n",
       "      <td>-4.193426</td>\n",
       "    </tr>\n",
       "    <tr>\n",
       "      <th>180.875</th>\n",
       "      <th>41</th>\n",
       "      <td>-4.452946</td>\n",
       "      <td>0.097718</td>\n",
       "      <td>-4.355229</td>\n",
       "    </tr>\n",
       "    <tr>\n",
       "      <th>1013.000</th>\n",
       "      <th>76</th>\n",
       "      <td>-7.117617</td>\n",
       "      <td>3.986362</td>\n",
       "      <td>-3.131255</td>\n",
       "    </tr>\n",
       "    <tr>\n",
       "      <th rowspan=\"3\" valign=\"top\">4</th>\n",
       "      <th>0.000</th>\n",
       "      <th>1</th>\n",
       "      <td>-15.156248</td>\n",
       "      <td>0.000000</td>\n",
       "      <td>-15.156248</td>\n",
       "    </tr>\n",
       "    <tr>\n",
       "      <th>180.875</th>\n",
       "      <th>41</th>\n",
       "      <td>-15.200082</td>\n",
       "      <td>0.007691</td>\n",
       "      <td>-15.192391</td>\n",
       "    </tr>\n",
       "    <tr>\n",
       "      <th>1013.000</th>\n",
       "      <th>76</th>\n",
       "      <td>-15.563441</td>\n",
       "      <td>0.746655</td>\n",
       "      <td>-14.816786</td>\n",
       "    </tr>\n",
       "  </tbody>\n",
       "</table>\n",
       "</div>"
      ],
      "text/plain": [
       "                       flug      fldg      fnetg\n",
       "g pressure level                                \n",
       "1 0.000    1      -0.045699  0.000000  -0.045699\n",
       "  180.875  41     -0.039225  0.013281  -0.025944\n",
       "  1013.000 76     -0.126941  0.099081  -0.027861\n",
       "2 0.000    1      -0.296681  0.000000  -0.296681\n",
       "  180.875  41     -0.342893  0.061566  -0.281327\n",
       "  1013.000 76     -0.947176  0.716672  -0.230504\n",
       "3 0.000    1      -4.193426  0.000000  -4.193426\n",
       "  180.875  41     -4.452946  0.097718  -4.355229\n",
       "  1013.000 76     -7.117617  3.986362  -3.131255\n",
       "4 0.000    1     -15.156248  0.000000 -15.156248\n",
       "  180.875  41    -15.200082  0.007691 -15.192391\n",
       "  1013.000 76    -15.563441  0.746655 -14.816786"
      ]
     },
     "metadata": {},
     "output_type": "display_data"
    },
    {
     "data": {
      "text/markdown": [
       "*TABLE.* Fluxes. CRD"
      ],
      "text/plain": [
       "<IPython.core.display.Markdown object>"
      ]
     },
     "metadata": {},
     "output_type": "display_data"
    },
    {
     "data": {
      "text/html": [
       "<div>\n",
       "<style scoped>\n",
       "    .dataframe tbody tr th:only-of-type {\n",
       "        vertical-align: middle;\n",
       "    }\n",
       "\n",
       "    .dataframe tbody tr th {\n",
       "        vertical-align: top;\n",
       "    }\n",
       "\n",
       "    .dataframe thead th {\n",
       "        text-align: right;\n",
       "    }\n",
       "</style>\n",
       "<table border=\"1\" class=\"dataframe\">\n",
       "  <thead>\n",
       "    <tr style=\"text-align: right;\">\n",
       "      <th></th>\n",
       "      <th></th>\n",
       "      <th></th>\n",
       "      <th>flug</th>\n",
       "      <th>fldg</th>\n",
       "      <th>fnetg</th>\n",
       "    </tr>\n",
       "    <tr>\n",
       "      <th>g</th>\n",
       "      <th>pressure</th>\n",
       "      <th>level</th>\n",
       "      <th></th>\n",
       "      <th></th>\n",
       "      <th></th>\n",
       "    </tr>\n",
       "  </thead>\n",
       "  <tbody>\n",
       "    <tr>\n",
       "      <th rowspan=\"3\" valign=\"top\">1</th>\n",
       "      <th>0.000</th>\n",
       "      <th>1</th>\n",
       "      <td>-0.044121</td>\n",
       "      <td>0.000000</td>\n",
       "      <td>-0.044121</td>\n",
       "    </tr>\n",
       "    <tr>\n",
       "      <th>180.875</th>\n",
       "      <th>41</th>\n",
       "      <td>-0.021274</td>\n",
       "      <td>0.013232</td>\n",
       "      <td>-0.008042</td>\n",
       "    </tr>\n",
       "    <tr>\n",
       "      <th>1013.000</th>\n",
       "      <th>76</th>\n",
       "      <td>-0.127435</td>\n",
       "      <td>0.111023</td>\n",
       "      <td>-0.016412</td>\n",
       "    </tr>\n",
       "    <tr>\n",
       "      <th rowspan=\"3\" valign=\"top\">2</th>\n",
       "      <th>0.000</th>\n",
       "      <th>1</th>\n",
       "      <td>-0.157499</td>\n",
       "      <td>0.000000</td>\n",
       "      <td>-0.157499</td>\n",
       "    </tr>\n",
       "    <tr>\n",
       "      <th>180.875</th>\n",
       "      <th>41</th>\n",
       "      <td>-0.250785</td>\n",
       "      <td>0.077191</td>\n",
       "      <td>-0.173595</td>\n",
       "    </tr>\n",
       "    <tr>\n",
       "      <th>1013.000</th>\n",
       "      <th>76</th>\n",
       "      <td>-0.952685</td>\n",
       "      <td>0.746534</td>\n",
       "      <td>-0.206151</td>\n",
       "    </tr>\n",
       "    <tr>\n",
       "      <th rowspan=\"3\" valign=\"top\">3</th>\n",
       "      <th>0.000</th>\n",
       "      <th>1</th>\n",
       "      <td>-3.826415</td>\n",
       "      <td>0.000000</td>\n",
       "      <td>-3.826415</td>\n",
       "    </tr>\n",
       "    <tr>\n",
       "      <th>180.875</th>\n",
       "      <th>41</th>\n",
       "      <td>-4.192431</td>\n",
       "      <td>0.096022</td>\n",
       "      <td>-4.096409</td>\n",
       "    </tr>\n",
       "    <tr>\n",
       "      <th>1013.000</th>\n",
       "      <th>76</th>\n",
       "      <td>-7.155502</td>\n",
       "      <td>4.274227</td>\n",
       "      <td>-2.881275</td>\n",
       "    </tr>\n",
       "    <tr>\n",
       "      <th rowspan=\"3\" valign=\"top\">4</th>\n",
       "      <th>0.000</th>\n",
       "      <th>1</th>\n",
       "      <td>-15.099583</td>\n",
       "      <td>0.000000</td>\n",
       "      <td>-15.099583</td>\n",
       "    </tr>\n",
       "    <tr>\n",
       "      <th>180.875</th>\n",
       "      <th>41</th>\n",
       "      <td>-15.147906</td>\n",
       "      <td>0.007362</td>\n",
       "      <td>-15.140544</td>\n",
       "    </tr>\n",
       "    <tr>\n",
       "      <th>1013.000</th>\n",
       "      <th>76</th>\n",
       "      <td>-15.519554</td>\n",
       "      <td>0.775003</td>\n",
       "      <td>-14.744551</td>\n",
       "    </tr>\n",
       "  </tbody>\n",
       "</table>\n",
       "</div>"
      ],
      "text/plain": [
       "                       flug      fldg      fnetg\n",
       "g pressure level                                \n",
       "1 0.000    1      -0.044121  0.000000  -0.044121\n",
       "  180.875  41     -0.021274  0.013232  -0.008042\n",
       "  1013.000 76     -0.127435  0.111023  -0.016412\n",
       "2 0.000    1      -0.157499  0.000000  -0.157499\n",
       "  180.875  41     -0.250785  0.077191  -0.173595\n",
       "  1013.000 76     -0.952685  0.746534  -0.206151\n",
       "3 0.000    1      -3.826415  0.000000  -3.826415\n",
       "  180.875  41     -4.192431  0.096022  -4.096409\n",
       "  1013.000 76     -7.155502  4.274227  -2.881275\n",
       "4 0.000    1     -15.099583  0.000000 -15.099583\n",
       "  180.875  41    -15.147906  0.007362 -15.140544\n",
       "  1013.000 76    -15.519554  0.775003 -14.744551"
      ]
     },
     "metadata": {},
     "output_type": "display_data"
    },
    {
     "data": {
      "text/markdown": [
       "*TABLE.* Fluxes. WGT igg=1"
      ],
      "text/plain": [
       "<IPython.core.display.Markdown object>"
      ]
     },
     "metadata": {},
     "output_type": "display_data"
    },
    {
     "data": {
      "text/html": [
       "<div>\n",
       "<style scoped>\n",
       "    .dataframe tbody tr th:only-of-type {\n",
       "        vertical-align: middle;\n",
       "    }\n",
       "\n",
       "    .dataframe tbody tr th {\n",
       "        vertical-align: top;\n",
       "    }\n",
       "\n",
       "    .dataframe thead th {\n",
       "        text-align: right;\n",
       "    }\n",
       "</style>\n",
       "<table border=\"1\" class=\"dataframe\">\n",
       "  <thead>\n",
       "    <tr style=\"text-align: right;\">\n",
       "      <th></th>\n",
       "      <th></th>\n",
       "      <th></th>\n",
       "      <th>flug</th>\n",
       "      <th>fldg</th>\n",
       "      <th>fnetg</th>\n",
       "    </tr>\n",
       "    <tr>\n",
       "      <th>g</th>\n",
       "      <th>pressure</th>\n",
       "      <th>level</th>\n",
       "      <th></th>\n",
       "      <th></th>\n",
       "      <th></th>\n",
       "    </tr>\n",
       "  </thead>\n",
       "  <tbody>\n",
       "    <tr>\n",
       "      <th rowspan=\"3\" valign=\"top\">1</th>\n",
       "      <th>0.000</th>\n",
       "      <th>1</th>\n",
       "      <td>-0.045980</td>\n",
       "      <td>0.000000</td>\n",
       "      <td>-0.045980</td>\n",
       "    </tr>\n",
       "    <tr>\n",
       "      <th>180.875</th>\n",
       "      <th>41</th>\n",
       "      <td>-0.019476</td>\n",
       "      <td>0.013133</td>\n",
       "      <td>-0.006344</td>\n",
       "    </tr>\n",
       "    <tr>\n",
       "      <th>1013.000</th>\n",
       "      <th>76</th>\n",
       "      <td>-0.127435</td>\n",
       "      <td>0.113835</td>\n",
       "      <td>-0.013600</td>\n",
       "    </tr>\n",
       "    <tr>\n",
       "      <th rowspan=\"3\" valign=\"top\">2</th>\n",
       "      <th>0.000</th>\n",
       "      <th>1</th>\n",
       "      <td>-0.141313</td>\n",
       "      <td>0.000000</td>\n",
       "      <td>-0.141313</td>\n",
       "    </tr>\n",
       "    <tr>\n",
       "      <th>180.875</th>\n",
       "      <th>41</th>\n",
       "      <td>-0.233779</td>\n",
       "      <td>0.080134</td>\n",
       "      <td>-0.153646</td>\n",
       "    </tr>\n",
       "    <tr>\n",
       "      <th>1013.000</th>\n",
       "      <th>76</th>\n",
       "      <td>-0.952685</td>\n",
       "      <td>0.762722</td>\n",
       "      <td>-0.189963</td>\n",
       "    </tr>\n",
       "    <tr>\n",
       "      <th rowspan=\"3\" valign=\"top\">3</th>\n",
       "      <th>0.000</th>\n",
       "      <th>1</th>\n",
       "      <td>-3.857930</td>\n",
       "      <td>0.000000</td>\n",
       "      <td>-3.857930</td>\n",
       "    </tr>\n",
       "    <tr>\n",
       "      <th>180.875</th>\n",
       "      <th>41</th>\n",
       "      <td>-4.234450</td>\n",
       "      <td>0.083456</td>\n",
       "      <td>-4.150993</td>\n",
       "    </tr>\n",
       "    <tr>\n",
       "      <th>1013.000</th>\n",
       "      <th>76</th>\n",
       "      <td>-7.155502</td>\n",
       "      <td>4.288495</td>\n",
       "      <td>-2.867006</td>\n",
       "    </tr>\n",
       "    <tr>\n",
       "      <th rowspan=\"3\" valign=\"top\">4</th>\n",
       "      <th>0.000</th>\n",
       "      <th>1</th>\n",
       "      <td>-15.128464</td>\n",
       "      <td>0.000000</td>\n",
       "      <td>-15.128464</td>\n",
       "    </tr>\n",
       "    <tr>\n",
       "      <th>180.875</th>\n",
       "      <th>41</th>\n",
       "      <td>-15.173810</td>\n",
       "      <td>0.006660</td>\n",
       "      <td>-15.167150</td>\n",
       "    </tr>\n",
       "    <tr>\n",
       "      <th>1013.000</th>\n",
       "      <th>76</th>\n",
       "      <td>-15.519554</td>\n",
       "      <td>0.728099</td>\n",
       "      <td>-14.791454</td>\n",
       "    </tr>\n",
       "  </tbody>\n",
       "</table>\n",
       "</div>"
      ],
      "text/plain": [
       "                       flug      fldg      fnetg\n",
       "g pressure level                                \n",
       "1 0.000    1      -0.045980  0.000000  -0.045980\n",
       "  180.875  41     -0.019476  0.013133  -0.006344\n",
       "  1013.000 76     -0.127435  0.113835  -0.013600\n",
       "2 0.000    1      -0.141313  0.000000  -0.141313\n",
       "  180.875  41     -0.233779  0.080134  -0.153646\n",
       "  1013.000 76     -0.952685  0.762722  -0.189963\n",
       "3 0.000    1      -3.857930  0.000000  -3.857930\n",
       "  180.875  41     -4.234450  0.083456  -4.150993\n",
       "  1013.000 76     -7.155502  4.288495  -2.867006\n",
       "4 0.000    1     -15.128464  0.000000 -15.128464\n",
       "  180.875  41    -15.173810  0.006660 -15.167150\n",
       "  1013.000 76    -15.519554  0.728099 -14.791454"
      ]
     },
     "metadata": {},
     "output_type": "display_data"
    },
    {
     "data": {
      "text/markdown": [
       "*TABLE.* Fluxes. WGT igg=10"
      ],
      "text/plain": [
       "<IPython.core.display.Markdown object>"
      ]
     },
     "metadata": {},
     "output_type": "display_data"
    },
    {
     "data": {
      "text/html": [
       "<div>\n",
       "<style scoped>\n",
       "    .dataframe tbody tr th:only-of-type {\n",
       "        vertical-align: middle;\n",
       "    }\n",
       "\n",
       "    .dataframe tbody tr th {\n",
       "        vertical-align: top;\n",
       "    }\n",
       "\n",
       "    .dataframe thead th {\n",
       "        text-align: right;\n",
       "    }\n",
       "</style>\n",
       "<table border=\"1\" class=\"dataframe\">\n",
       "  <thead>\n",
       "    <tr style=\"text-align: right;\">\n",
       "      <th></th>\n",
       "      <th></th>\n",
       "      <th></th>\n",
       "      <th>flug</th>\n",
       "      <th>fldg</th>\n",
       "      <th>fnetg</th>\n",
       "    </tr>\n",
       "    <tr>\n",
       "      <th>g</th>\n",
       "      <th>pressure</th>\n",
       "      <th>level</th>\n",
       "      <th></th>\n",
       "      <th></th>\n",
       "      <th></th>\n",
       "    </tr>\n",
       "  </thead>\n",
       "  <tbody>\n",
       "    <tr>\n",
       "      <th rowspan=\"3\" valign=\"top\">1</th>\n",
       "      <th>0.000</th>\n",
       "      <th>1</th>\n",
       "      <td>0.001577</td>\n",
       "      <td>0.000000</td>\n",
       "      <td>0.001577</td>\n",
       "    </tr>\n",
       "    <tr>\n",
       "      <th>180.875</th>\n",
       "      <th>41</th>\n",
       "      <td>0.017951</td>\n",
       "      <td>-0.000049</td>\n",
       "      <td>0.017902</td>\n",
       "    </tr>\n",
       "    <tr>\n",
       "      <th>1013.000</th>\n",
       "      <th>76</th>\n",
       "      <td>-0.000494</td>\n",
       "      <td>0.011942</td>\n",
       "      <td>0.011448</td>\n",
       "    </tr>\n",
       "    <tr>\n",
       "      <th rowspan=\"3\" valign=\"top\">2</th>\n",
       "      <th>0.000</th>\n",
       "      <th>1</th>\n",
       "      <td>0.139182</td>\n",
       "      <td>0.000000</td>\n",
       "      <td>0.139182</td>\n",
       "    </tr>\n",
       "    <tr>\n",
       "      <th>180.875</th>\n",
       "      <th>41</th>\n",
       "      <td>0.092108</td>\n",
       "      <td>0.015625</td>\n",
       "      <td>0.107732</td>\n",
       "    </tr>\n",
       "    <tr>\n",
       "      <th>1013.000</th>\n",
       "      <th>76</th>\n",
       "      <td>-0.005509</td>\n",
       "      <td>0.029862</td>\n",
       "      <td>0.024353</td>\n",
       "    </tr>\n",
       "    <tr>\n",
       "      <th rowspan=\"3\" valign=\"top\">3</th>\n",
       "      <th>0.000</th>\n",
       "      <th>1</th>\n",
       "      <td>0.367012</td>\n",
       "      <td>0.000000</td>\n",
       "      <td>0.367012</td>\n",
       "    </tr>\n",
       "    <tr>\n",
       "      <th>180.875</th>\n",
       "      <th>41</th>\n",
       "      <td>0.260515</td>\n",
       "      <td>-0.001695</td>\n",
       "      <td>0.258820</td>\n",
       "    </tr>\n",
       "    <tr>\n",
       "      <th>1013.000</th>\n",
       "      <th>76</th>\n",
       "      <td>-0.037885</td>\n",
       "      <td>0.287865</td>\n",
       "      <td>0.249980</td>\n",
       "    </tr>\n",
       "    <tr>\n",
       "      <th rowspan=\"3\" valign=\"top\">4</th>\n",
       "      <th>0.000</th>\n",
       "      <th>1</th>\n",
       "      <td>0.056665</td>\n",
       "      <td>0.000000</td>\n",
       "      <td>0.056665</td>\n",
       "    </tr>\n",
       "    <tr>\n",
       "      <th>180.875</th>\n",
       "      <th>41</th>\n",
       "      <td>0.052176</td>\n",
       "      <td>-0.000328</td>\n",
       "      <td>0.051847</td>\n",
       "    </tr>\n",
       "    <tr>\n",
       "      <th>1013.000</th>\n",
       "      <th>76</th>\n",
       "      <td>0.043887</td>\n",
       "      <td>0.028348</td>\n",
       "      <td>0.072235</td>\n",
       "    </tr>\n",
       "  </tbody>\n",
       "</table>\n",
       "</div>"
      ],
      "text/plain": [
       "                      flug      fldg     fnetg\n",
       "g pressure level                              \n",
       "1 0.000    1      0.001577  0.000000  0.001577\n",
       "  180.875  41     0.017951 -0.000049  0.017902\n",
       "  1013.000 76    -0.000494  0.011942  0.011448\n",
       "2 0.000    1      0.139182  0.000000  0.139182\n",
       "  180.875  41     0.092108  0.015625  0.107732\n",
       "  1013.000 76    -0.005509  0.029862  0.024353\n",
       "3 0.000    1      0.367012  0.000000  0.367012\n",
       "  180.875  41     0.260515 -0.001695  0.258820\n",
       "  1013.000 76    -0.037885  0.287865  0.249980\n",
       "4 0.000    1      0.056665  0.000000  0.056665\n",
       "  180.875  41     0.052176 -0.000328  0.051847\n",
       "  1013.000 76     0.043887  0.028348  0.072235"
      ]
     },
     "metadata": {},
     "output_type": "display_data"
    },
    {
     "data": {
      "text/markdown": [
       "*TABLE.* Fluxes. (WGT igg=1) - (CRD)"
      ],
      "text/plain": [
       "<IPython.core.display.Markdown object>"
      ]
     },
     "metadata": {},
     "output_type": "display_data"
    },
    {
     "data": {
      "text/html": [
       "<div>\n",
       "<style scoped>\n",
       "    .dataframe tbody tr th:only-of-type {\n",
       "        vertical-align: middle;\n",
       "    }\n",
       "\n",
       "    .dataframe tbody tr th {\n",
       "        vertical-align: top;\n",
       "    }\n",
       "\n",
       "    .dataframe thead th {\n",
       "        text-align: right;\n",
       "    }\n",
       "</style>\n",
       "<table border=\"1\" class=\"dataframe\">\n",
       "  <thead>\n",
       "    <tr style=\"text-align: right;\">\n",
       "      <th></th>\n",
       "      <th></th>\n",
       "      <th></th>\n",
       "      <th>flug</th>\n",
       "      <th>fldg</th>\n",
       "      <th>fnetg</th>\n",
       "    </tr>\n",
       "    <tr>\n",
       "      <th>g</th>\n",
       "      <th>pressure</th>\n",
       "      <th>level</th>\n",
       "      <th></th>\n",
       "      <th></th>\n",
       "      <th></th>\n",
       "    </tr>\n",
       "  </thead>\n",
       "  <tbody>\n",
       "    <tr>\n",
       "      <th rowspan=\"3\" valign=\"top\">1</th>\n",
       "      <th>0.000</th>\n",
       "      <th>1</th>\n",
       "      <td>-0.000281</td>\n",
       "      <td>0.000000</td>\n",
       "      <td>-0.000281</td>\n",
       "    </tr>\n",
       "    <tr>\n",
       "      <th>180.875</th>\n",
       "      <th>41</th>\n",
       "      <td>0.019749</td>\n",
       "      <td>-0.000149</td>\n",
       "      <td>0.019600</td>\n",
       "    </tr>\n",
       "    <tr>\n",
       "      <th>1013.000</th>\n",
       "      <th>76</th>\n",
       "      <td>-0.000494</td>\n",
       "      <td>0.014755</td>\n",
       "      <td>0.014261</td>\n",
       "    </tr>\n",
       "    <tr>\n",
       "      <th rowspan=\"3\" valign=\"top\">2</th>\n",
       "      <th>0.000</th>\n",
       "      <th>1</th>\n",
       "      <td>0.155368</td>\n",
       "      <td>0.000000</td>\n",
       "      <td>0.155368</td>\n",
       "    </tr>\n",
       "    <tr>\n",
       "      <th>180.875</th>\n",
       "      <th>41</th>\n",
       "      <td>0.109114</td>\n",
       "      <td>0.018568</td>\n",
       "      <td>0.127682</td>\n",
       "    </tr>\n",
       "    <tr>\n",
       "      <th>1013.000</th>\n",
       "      <th>76</th>\n",
       "      <td>-0.005509</td>\n",
       "      <td>0.046050</td>\n",
       "      <td>0.040541</td>\n",
       "    </tr>\n",
       "    <tr>\n",
       "      <th rowspan=\"3\" valign=\"top\">3</th>\n",
       "      <th>0.000</th>\n",
       "      <th>1</th>\n",
       "      <td>0.335496</td>\n",
       "      <td>0.000000</td>\n",
       "      <td>0.335496</td>\n",
       "    </tr>\n",
       "    <tr>\n",
       "      <th>180.875</th>\n",
       "      <th>41</th>\n",
       "      <td>0.218497</td>\n",
       "      <td>-0.014261</td>\n",
       "      <td>0.204236</td>\n",
       "    </tr>\n",
       "    <tr>\n",
       "      <th>1013.000</th>\n",
       "      <th>76</th>\n",
       "      <td>-0.037885</td>\n",
       "      <td>0.302133</td>\n",
       "      <td>0.264248</td>\n",
       "    </tr>\n",
       "    <tr>\n",
       "      <th rowspan=\"3\" valign=\"top\">4</th>\n",
       "      <th>0.000</th>\n",
       "      <th>1</th>\n",
       "      <td>0.027784</td>\n",
       "      <td>0.000000</td>\n",
       "      <td>0.027784</td>\n",
       "    </tr>\n",
       "    <tr>\n",
       "      <th>180.875</th>\n",
       "      <th>41</th>\n",
       "      <td>0.026272</td>\n",
       "      <td>-0.001030</td>\n",
       "      <td>0.025241</td>\n",
       "    </tr>\n",
       "    <tr>\n",
       "      <th>1013.000</th>\n",
       "      <th>76</th>\n",
       "      <td>0.043887</td>\n",
       "      <td>-0.018556</td>\n",
       "      <td>0.025332</td>\n",
       "    </tr>\n",
       "  </tbody>\n",
       "</table>\n",
       "</div>"
      ],
      "text/plain": [
       "                      flug      fldg     fnetg\n",
       "g pressure level                              \n",
       "1 0.000    1     -0.000281  0.000000 -0.000281\n",
       "  180.875  41     0.019749 -0.000149  0.019600\n",
       "  1013.000 76    -0.000494  0.014755  0.014261\n",
       "2 0.000    1      0.155368  0.000000  0.155368\n",
       "  180.875  41     0.109114  0.018568  0.127682\n",
       "  1013.000 76    -0.005509  0.046050  0.040541\n",
       "3 0.000    1      0.335496  0.000000  0.335496\n",
       "  180.875  41     0.218497 -0.014261  0.204236\n",
       "  1013.000 76    -0.037885  0.302133  0.264248\n",
       "4 0.000    1      0.027784  0.000000  0.027784\n",
       "  180.875  41     0.026272 -0.001030  0.025241\n",
       "  1013.000 76     0.043887 -0.018556  0.025332"
      ]
     },
     "metadata": {},
     "output_type": "display_data"
    },
    {
     "data": {
      "text/markdown": [
       "*TABLE.* Fluxes. (WGT igg=10) - (CRD)"
      ],
      "text/plain": [
       "<IPython.core.display.Markdown object>"
      ]
     },
     "metadata": {},
     "output_type": "display_data"
    },
    {
     "data": {
      "text/html": [
       "<div>\n",
       "<style scoped>\n",
       "    .dataframe tbody tr th:only-of-type {\n",
       "        vertical-align: middle;\n",
       "    }\n",
       "\n",
       "    .dataframe tbody tr th {\n",
       "        vertical-align: top;\n",
       "    }\n",
       "\n",
       "    .dataframe thead th {\n",
       "        text-align: right;\n",
       "    }\n",
       "</style>\n",
       "<table border=\"1\" class=\"dataframe\">\n",
       "  <thead>\n",
       "    <tr style=\"text-align: right;\">\n",
       "      <th></th>\n",
       "      <th></th>\n",
       "      <th>flug</th>\n",
       "      <th>fldg</th>\n",
       "      <th>fnetg</th>\n",
       "    </tr>\n",
       "    <tr>\n",
       "      <th>pressure</th>\n",
       "      <th>level</th>\n",
       "      <th></th>\n",
       "      <th></th>\n",
       "      <th></th>\n",
       "    </tr>\n",
       "  </thead>\n",
       "  <tbody>\n",
       "    <tr>\n",
       "      <th>0.000</th>\n",
       "      <th>1</th>\n",
       "      <td>-19.692054</td>\n",
       "      <td>0.000000</td>\n",
       "      <td>-19.692054</td>\n",
       "    </tr>\n",
       "    <tr>\n",
       "      <th>180.875</th>\n",
       "      <th>41</th>\n",
       "      <td>-20.035147</td>\n",
       "      <td>0.180256</td>\n",
       "      <td>-19.854891</td>\n",
       "    </tr>\n",
       "    <tr>\n",
       "      <th>1013.000</th>\n",
       "      <th>76</th>\n",
       "      <td>-23.755175</td>\n",
       "      <td>5.548770</td>\n",
       "      <td>-18.206405</td>\n",
       "    </tr>\n",
       "  </tbody>\n",
       "</table>\n",
       "</div>"
      ],
      "text/plain": [
       "                     flug      fldg      fnetg\n",
       "pressure level                                \n",
       "0.000    1     -19.692054  0.000000 -19.692054\n",
       "180.875  41    -20.035147  0.180256 -19.854891\n",
       "1013.000 76    -23.755175  5.548770 -18.206405"
      ]
     },
     "metadata": {},
     "output_type": "display_data"
    },
    {
     "data": {
      "text/markdown": [
       "*TABLE.* Fluxes. CRD"
      ],
      "text/plain": [
       "<IPython.core.display.Markdown object>"
      ]
     },
     "metadata": {},
     "output_type": "display_data"
    },
    {
     "data": {
      "text/html": [
       "<div>\n",
       "<style scoped>\n",
       "    .dataframe tbody tr th:only-of-type {\n",
       "        vertical-align: middle;\n",
       "    }\n",
       "\n",
       "    .dataframe tbody tr th {\n",
       "        vertical-align: top;\n",
       "    }\n",
       "\n",
       "    .dataframe thead th {\n",
       "        text-align: right;\n",
       "    }\n",
       "</style>\n",
       "<table border=\"1\" class=\"dataframe\">\n",
       "  <thead>\n",
       "    <tr style=\"text-align: right;\">\n",
       "      <th></th>\n",
       "      <th></th>\n",
       "      <th>flug</th>\n",
       "      <th>fldg</th>\n",
       "      <th>fnetg</th>\n",
       "    </tr>\n",
       "    <tr>\n",
       "      <th>pressure</th>\n",
       "      <th>level</th>\n",
       "      <th></th>\n",
       "      <th></th>\n",
       "      <th></th>\n",
       "    </tr>\n",
       "  </thead>\n",
       "  <tbody>\n",
       "    <tr>\n",
       "      <th>0.000</th>\n",
       "      <th>1</th>\n",
       "      <td>-19.127618</td>\n",
       "      <td>0.000000</td>\n",
       "      <td>-19.127618</td>\n",
       "    </tr>\n",
       "    <tr>\n",
       "      <th>180.875</th>\n",
       "      <th>41</th>\n",
       "      <td>-19.612396</td>\n",
       "      <td>0.193807</td>\n",
       "      <td>-19.418589</td>\n",
       "    </tr>\n",
       "    <tr>\n",
       "      <th>1013.000</th>\n",
       "      <th>76</th>\n",
       "      <td>-23.755176</td>\n",
       "      <td>5.906788</td>\n",
       "      <td>-17.848388</td>\n",
       "    </tr>\n",
       "  </tbody>\n",
       "</table>\n",
       "</div>"
      ],
      "text/plain": [
       "                     flug      fldg      fnetg\n",
       "pressure level                                \n",
       "0.000    1     -19.127618  0.000000 -19.127618\n",
       "180.875  41    -19.612396  0.193807 -19.418589\n",
       "1013.000 76    -23.755176  5.906788 -17.848388"
      ]
     },
     "metadata": {},
     "output_type": "display_data"
    },
    {
     "data": {
      "text/markdown": [
       "*TABLE.* Fluxes. WGT igg=1"
      ],
      "text/plain": [
       "<IPython.core.display.Markdown object>"
      ]
     },
     "metadata": {},
     "output_type": "display_data"
    },
    {
     "data": {
      "text/html": [
       "<div>\n",
       "<style scoped>\n",
       "    .dataframe tbody tr th:only-of-type {\n",
       "        vertical-align: middle;\n",
       "    }\n",
       "\n",
       "    .dataframe tbody tr th {\n",
       "        vertical-align: top;\n",
       "    }\n",
       "\n",
       "    .dataframe thead th {\n",
       "        text-align: right;\n",
       "    }\n",
       "</style>\n",
       "<table border=\"1\" class=\"dataframe\">\n",
       "  <thead>\n",
       "    <tr style=\"text-align: right;\">\n",
       "      <th></th>\n",
       "      <th></th>\n",
       "      <th>flug</th>\n",
       "      <th>fldg</th>\n",
       "      <th>fnetg</th>\n",
       "    </tr>\n",
       "    <tr>\n",
       "      <th>pressure</th>\n",
       "      <th>level</th>\n",
       "      <th></th>\n",
       "      <th></th>\n",
       "      <th></th>\n",
       "    </tr>\n",
       "  </thead>\n",
       "  <tbody>\n",
       "    <tr>\n",
       "      <th>0.000</th>\n",
       "      <th>1</th>\n",
       "      <td>-19.173687</td>\n",
       "      <td>0.000000</td>\n",
       "      <td>-19.173687</td>\n",
       "    </tr>\n",
       "    <tr>\n",
       "      <th>180.875</th>\n",
       "      <th>41</th>\n",
       "      <td>-19.661515</td>\n",
       "      <td>0.183383</td>\n",
       "      <td>-19.478133</td>\n",
       "    </tr>\n",
       "    <tr>\n",
       "      <th>1013.000</th>\n",
       "      <th>76</th>\n",
       "      <td>-23.755176</td>\n",
       "      <td>5.893152</td>\n",
       "      <td>-17.862023</td>\n",
       "    </tr>\n",
       "  </tbody>\n",
       "</table>\n",
       "</div>"
      ],
      "text/plain": [
       "                     flug      fldg      fnetg\n",
       "pressure level                                \n",
       "0.000    1     -19.173687  0.000000 -19.173687\n",
       "180.875  41    -19.661515  0.183383 -19.478133\n",
       "1013.000 76    -23.755176  5.893152 -17.862023"
      ]
     },
     "metadata": {},
     "output_type": "display_data"
    },
    {
     "data": {
      "text/markdown": [
       "*TABLE.* Fluxes. WGT igg=10"
      ],
      "text/plain": [
       "<IPython.core.display.Markdown object>"
      ]
     },
     "metadata": {},
     "output_type": "display_data"
    },
    {
     "data": {
      "text/html": [
       "<div>\n",
       "<style scoped>\n",
       "    .dataframe tbody tr th:only-of-type {\n",
       "        vertical-align: middle;\n",
       "    }\n",
       "\n",
       "    .dataframe tbody tr th {\n",
       "        vertical-align: top;\n",
       "    }\n",
       "\n",
       "    .dataframe thead th {\n",
       "        text-align: right;\n",
       "    }\n",
       "</style>\n",
       "<table border=\"1\" class=\"dataframe\">\n",
       "  <thead>\n",
       "    <tr style=\"text-align: right;\">\n",
       "      <th></th>\n",
       "      <th></th>\n",
       "      <th>flug</th>\n",
       "      <th>fldg</th>\n",
       "      <th>fnetg</th>\n",
       "    </tr>\n",
       "    <tr>\n",
       "      <th>pressure</th>\n",
       "      <th>level</th>\n",
       "      <th></th>\n",
       "      <th></th>\n",
       "      <th></th>\n",
       "    </tr>\n",
       "  </thead>\n",
       "  <tbody>\n",
       "    <tr>\n",
       "      <th>0.000</th>\n",
       "      <th>1</th>\n",
       "      <td>5.644353e-01</td>\n",
       "      <td>0.000000</td>\n",
       "      <td>0.564435</td>\n",
       "    </tr>\n",
       "    <tr>\n",
       "      <th>180.875</th>\n",
       "      <th>41</th>\n",
       "      <td>4.227504e-01</td>\n",
       "      <td>0.013552</td>\n",
       "      <td>0.436301</td>\n",
       "    </tr>\n",
       "    <tr>\n",
       "      <th>1013.000</th>\n",
       "      <th>76</th>\n",
       "      <td>-6.800000e-07</td>\n",
       "      <td>0.358017</td>\n",
       "      <td>0.358017</td>\n",
       "    </tr>\n",
       "  </tbody>\n",
       "</table>\n",
       "</div>"
      ],
      "text/plain": [
       "                        flug      fldg     fnetg\n",
       "pressure level                                  \n",
       "0.000    1      5.644353e-01  0.000000  0.564435\n",
       "180.875  41     4.227504e-01  0.013552  0.436301\n",
       "1013.000 76    -6.800000e-07  0.358017  0.358017"
      ]
     },
     "metadata": {},
     "output_type": "display_data"
    },
    {
     "data": {
      "text/markdown": [
       "*TABLE.* Fluxes. (WGT igg=1) - (CRD)"
      ],
      "text/plain": [
       "<IPython.core.display.Markdown object>"
      ]
     },
     "metadata": {},
     "output_type": "display_data"
    },
    {
     "data": {
      "text/html": [
       "<div>\n",
       "<style scoped>\n",
       "    .dataframe tbody tr th:only-of-type {\n",
       "        vertical-align: middle;\n",
       "    }\n",
       "\n",
       "    .dataframe tbody tr th {\n",
       "        vertical-align: top;\n",
       "    }\n",
       "\n",
       "    .dataframe thead th {\n",
       "        text-align: right;\n",
       "    }\n",
       "</style>\n",
       "<table border=\"1\" class=\"dataframe\">\n",
       "  <thead>\n",
       "    <tr style=\"text-align: right;\">\n",
       "      <th></th>\n",
       "      <th></th>\n",
       "      <th>flug</th>\n",
       "      <th>fldg</th>\n",
       "      <th>fnetg</th>\n",
       "    </tr>\n",
       "    <tr>\n",
       "      <th>pressure</th>\n",
       "      <th>level</th>\n",
       "      <th></th>\n",
       "      <th></th>\n",
       "      <th></th>\n",
       "    </tr>\n",
       "  </thead>\n",
       "  <tbody>\n",
       "    <tr>\n",
       "      <th>0.000</th>\n",
       "      <th>1</th>\n",
       "      <td>5.183669e-01</td>\n",
       "      <td>0.000000</td>\n",
       "      <td>0.518367</td>\n",
       "    </tr>\n",
       "    <tr>\n",
       "      <th>180.875</th>\n",
       "      <th>41</th>\n",
       "      <td>3.736313e-01</td>\n",
       "      <td>0.003127</td>\n",
       "      <td>0.376758</td>\n",
       "    </tr>\n",
       "    <tr>\n",
       "      <th>1013.000</th>\n",
       "      <th>76</th>\n",
       "      <td>-6.800000e-07</td>\n",
       "      <td>0.344382</td>\n",
       "      <td>0.344382</td>\n",
       "    </tr>\n",
       "  </tbody>\n",
       "</table>\n",
       "</div>"
      ],
      "text/plain": [
       "                        flug      fldg     fnetg\n",
       "pressure level                                  \n",
       "0.000    1      5.183669e-01  0.000000  0.518367\n",
       "180.875  41     3.736313e-01  0.003127  0.376758\n",
       "1013.000 76    -6.800000e-07  0.344382  0.344382"
      ]
     },
     "metadata": {},
     "output_type": "display_data"
    },
    {
     "data": {
      "text/markdown": [
       "*TABLE.* Fluxes. (WGT igg=10) - (CRD)"
      ],
      "text/plain": [
       "<IPython.core.display.Markdown object>"
      ]
     },
     "metadata": {},
     "output_type": "display_data"
    },
    {
     "data": {
      "text/html": [
       "<a id=\"g-interval_Summary\"></a>"
      ],
      "text/plain": [
       "<IPython.core.display.HTML object>"
      ]
     },
     "metadata": {},
     "output_type": "display_data"
    },
    {
     "data": {
      "text/markdown": [
       "# g-interval Summary"
      ],
      "text/plain": [
       "<IPython.core.display.Markdown object>"
      ]
     },
     "metadata": {},
     "output_type": "display_data"
    },
    {
     "data": {
      "text/html": [
       "<div>\n",
       "<style scoped>\n",
       "    .dataframe tbody tr th:only-of-type {\n",
       "        vertical-align: middle;\n",
       "    }\n",
       "\n",
       "    .dataframe tbody tr th {\n",
       "        vertical-align: top;\n",
       "    }\n",
       "\n",
       "    .dataframe thead th {\n",
       "        text-align: right;\n",
       "    }\n",
       "</style>\n",
       "<table border=\"1\" class=\"dataframe\">\n",
       "  <thead>\n",
       "    <tr style=\"text-align: right;\">\n",
       "      <th></th>\n",
       "      <th>abscom</th>\n",
       "      <th>k(ig) / k(ig - 1)</th>\n",
       "      <th>dg</th>\n",
       "      <th>dgs</th>\n",
       "      <th>dg cumsum</th>\n",
       "      <th>dgs cumsum</th>\n",
       "      <th>pref</th>\n",
       "    </tr>\n",
       "    <tr>\n",
       "      <th>g</th>\n",
       "      <th></th>\n",
       "      <th></th>\n",
       "      <th></th>\n",
       "      <th></th>\n",
       "      <th></th>\n",
       "      <th></th>\n",
       "      <th></th>\n",
       "    </tr>\n",
       "  </thead>\n",
       "  <tbody>\n",
       "    <tr>\n",
       "      <th>1</th>\n",
       "      <td>6.376210e-19</td>\n",
       "      <td>NaN</td>\n",
       "      <td>0.005230</td>\n",
       "      <td>0.005365</td>\n",
       "      <td>0.005230</td>\n",
       "      <td>0.005365</td>\n",
       "      <td>1.0</td>\n",
       "    </tr>\n",
       "    <tr>\n",
       "      <th>2</th>\n",
       "      <td>5.353590e-21</td>\n",
       "      <td>8.396195e-03</td>\n",
       "      <td>0.038788</td>\n",
       "      <td>0.040104</td>\n",
       "      <td>0.044018</td>\n",
       "      <td>0.045469</td>\n",
       "      <td>1.0</td>\n",
       "    </tr>\n",
       "    <tr>\n",
       "      <th>3</th>\n",
       "      <td>2.220488e-20</td>\n",
       "      <td>4.147661e+00</td>\n",
       "      <td>0.291909</td>\n",
       "      <td>0.301219</td>\n",
       "      <td>0.335927</td>\n",
       "      <td>0.346687</td>\n",
       "      <td>500.0</td>\n",
       "    </tr>\n",
       "    <tr>\n",
       "      <th>4</th>\n",
       "      <td>2.163830e-26</td>\n",
       "      <td>9.744839e-07</td>\n",
       "      <td>0.664073</td>\n",
       "      <td>0.653313</td>\n",
       "      <td>1.000000</td>\n",
       "      <td>1.000000</td>\n",
       "      <td>500.0</td>\n",
       "    </tr>\n",
       "  </tbody>\n",
       "</table>\n",
       "</div>"
      ],
      "text/plain": [
       "         abscom  k(ig) / k(ig - 1)        dg       dgs  dg cumsum  dgs cumsum  \\\n",
       "g                                                                               \n",
       "1  6.376210e-19                NaN  0.005230  0.005365   0.005230    0.005365   \n",
       "2  5.353590e-21       8.396195e-03  0.038788  0.040104   0.044018    0.045469   \n",
       "3  2.220488e-20       4.147661e+00  0.291909  0.301219   0.335927    0.346687   \n",
       "4  2.163830e-26       9.744839e-07  0.664073  0.653313   1.000000    1.000000   \n",
       "\n",
       "    pref  \n",
       "g         \n",
       "1    1.0  \n",
       "2    1.0  \n",
       "3  500.0  \n",
       "4  500.0  "
      ]
     },
     "metadata": {},
     "output_type": "display_data"
    },
    {
     "data": {
      "text/markdown": [
       "TABLE. g-interval summary.  *abscom* is the lower bound of the g-interval."
      ],
      "text/plain": [
       "<IPython.core.display.Markdown object>"
      ]
     },
     "metadata": {},
     "output_type": "display_data"
    },
    {
     "data": {
      "text/html": [
       "<a id=\"Download_Data\"></a>"
      ],
      "text/plain": [
       "<IPython.core.display.HTML object>"
      ]
     },
     "metadata": {},
     "output_type": "display_data"
    },
    {
     "data": {
      "text/markdown": [
       "# Download Data"
      ],
      "text/plain": [
       "<IPython.core.display.Markdown object>"
      ]
     },
     "metadata": {},
     "output_type": "display_data"
    },
    {
     "data": {
      "text/html": [
       "Download: <a href=\"./lblnew-bestfit_flux.xlsx\">lblnew-bestfit_flux.xlsx</a>"
      ],
      "text/plain": [
       "<IPython.core.display.HTML object>"
      ]
     },
     "metadata": {},
     "output_type": "display_data"
    },
    {
     "data": {
      "text/html": [
       "Download: <a href=\"./lblnew-bestfit_cool.xlsx\">lblnew-bestfit_cool.xlsx</a>"
      ],
      "text/plain": [
       "<IPython.core.display.HTML object>"
      ]
     },
     "metadata": {},
     "output_type": "display_data"
    }
   ],
   "source": [
    "script()"
   ]
  },
  {
   "cell_type": "code",
   "execution_count": 14,
   "metadata": {},
   "outputs": [
    {
     "data": {
      "text/html": [
       "<script>\n",
       "code_show=true; \n",
       "function code_toggle() {\n",
       " if (code_show){\n",
       " $('div.input').hide();\n",
       " } else {\n",
       " $('div.input').show();\n",
       " }\n",
       " code_show = !code_show\n",
       "} \n",
       "$( document ).ready(code_toggle);\n",
       "</script>\n",
       "<form action=\"javascript:code_toggle()\"><input type=\"submit\" value=\"Click here to toggle on/off the raw code.\"></form>"
      ],
      "text/plain": [
       "<IPython.core.display.HTML object>"
      ]
     },
     "execution_count": 14,
     "metadata": {},
     "output_type": "execute_result"
    }
   ],
   "source": [
    "display.HTML('''<script>\n",
    "code_show=true; \n",
    "function code_toggle() {\n",
    " if (code_show){\n",
    " $('div.input').hide();\n",
    " } else {\n",
    " $('div.input').show();\n",
    " }\n",
    " code_show = !code_show\n",
    "} \n",
    "$( document ).ready(code_toggle);\n",
    "</script>\n",
    "<form action=\"javascript:code_toggle()\"><input type=\"submit\" value=\"Click here to toggle on/off the raw code.\"></form>''')"
   ]
  },
  {
   "cell_type": "code",
   "execution_count": 15,
   "metadata": {
    "collapsed": true
   },
   "outputs": [],
   "source": []
  }
 ],
 "metadata": {
  "kernelspec": {
   "display_name": "Python 3",
   "language": "python",
   "name": "python3"
  },
  "language_info": {
   "codemirror_mode": {
    "name": "ipython",
    "version": 3
   },
   "file_extension": ".py",
   "mimetype": "text/x-python",
   "name": "python",
   "nbconvert_exporter": "python",
   "pygments_lexer": "ipython3",
   "version": "3.6.1"
  }
 },
 "nbformat": 4,
 "nbformat_minor": 2
}
