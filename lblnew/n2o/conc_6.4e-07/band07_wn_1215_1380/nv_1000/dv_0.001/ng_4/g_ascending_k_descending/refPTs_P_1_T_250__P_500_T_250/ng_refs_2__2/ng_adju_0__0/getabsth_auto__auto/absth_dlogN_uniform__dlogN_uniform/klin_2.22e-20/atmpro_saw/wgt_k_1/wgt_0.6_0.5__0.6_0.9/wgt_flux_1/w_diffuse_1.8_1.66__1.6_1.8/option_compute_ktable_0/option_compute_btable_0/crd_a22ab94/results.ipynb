{
 "cells": [
  {
   "cell_type": "code",
   "execution_count": 1,
   "metadata": {
    "collapsed": true
   },
   "outputs": [],
   "source": [
    "%reload_ext autoreload\n",
    "%autoreload 2\n",
    "%matplotlib inline"
   ]
  },
  {
   "cell_type": "code",
   "execution_count": 2,
   "metadata": {
    "collapsed": true
   },
   "outputs": [],
   "source": [
    "import io\n",
    "\n",
    "import numpy as np\n",
    "import pymongo\n",
    "\n",
    "from bokeh.io import output_notebook, show\n",
    "from bokeh.palettes import all_palettes\n",
    "from bokeh.layouts import gridplot\n",
    "\n",
    "from IPython import display\n",
    "\n",
    "from climatools.cliradlw.dataset import load_output_file\n",
    "import climatools.html.html as climahtml\n",
    "from climatools.plot.plot import *"
   ]
  },
  {
   "cell_type": "code",
   "execution_count": 3,
   "metadata": {},
   "outputs": [
    {
     "data": {
      "text/html": [
       "\n",
       "    <div class=\"bk-root\">\n",
       "        <a href=\"https://bokeh.pydata.org\" target=\"_blank\" class=\"bk-logo bk-logo-small bk-logo-notebook\"></a>\n",
       "        <span id=\"61fafa6a-afb3-4dd0-aed7-b5f9315926d5\">Loading BokehJS ...</span>\n",
       "    </div>"
      ]
     },
     "metadata": {},
     "output_type": "display_data"
    },
    {
     "data": {
      "application/javascript": [
       "\n",
       "(function(root) {\n",
       "  function now() {\n",
       "    return new Date();\n",
       "  }\n",
       "\n",
       "  var force = true;\n",
       "\n",
       "  if (typeof (root._bokeh_onload_callbacks) === \"undefined\" || force === true) {\n",
       "    root._bokeh_onload_callbacks = [];\n",
       "    root._bokeh_is_loading = undefined;\n",
       "  }\n",
       "\n",
       "  var JS_MIME_TYPE = 'application/javascript';\n",
       "  var HTML_MIME_TYPE = 'text/html';\n",
       "  var EXEC_MIME_TYPE = 'application/vnd.bokehjs_exec.v0+json';\n",
       "  var CLASS_NAME = 'output_bokeh rendered_html';\n",
       "\n",
       "  /**\n",
       "   * Render data to the DOM node\n",
       "   */\n",
       "  function render(props, node) {\n",
       "    var script = document.createElement(\"script\");\n",
       "    node.appendChild(script);\n",
       "  }\n",
       "\n",
       "  /**\n",
       "   * Handle when an output is cleared or removed\n",
       "   */\n",
       "  function handleClearOutput(event, handle) {\n",
       "    var cell = handle.cell;\n",
       "\n",
       "    var id = cell.output_area._bokeh_element_id;\n",
       "    var server_id = cell.output_area._bokeh_server_id;\n",
       "    // Clean up Bokeh references\n",
       "    if (id !== undefined) {\n",
       "      Bokeh.index[id].model.document.clear();\n",
       "      delete Bokeh.index[id];\n",
       "    }\n",
       "\n",
       "    if (server_id !== undefined) {\n",
       "      // Clean up Bokeh references\n",
       "      var cmd = \"from bokeh.io.state import curstate; print(curstate().uuid_to_server['\" + server_id + \"'].get_sessions()[0].document.roots[0]._id)\";\n",
       "      cell.notebook.kernel.execute(cmd, {\n",
       "        iopub: {\n",
       "          output: function(msg) {\n",
       "            var element_id = msg.content.text.trim();\n",
       "            Bokeh.index[element_id].model.document.clear();\n",
       "            delete Bokeh.index[element_id];\n",
       "          }\n",
       "        }\n",
       "      });\n",
       "      // Destroy server and session\n",
       "      var cmd = \"import bokeh.io.notebook as ion; ion.destroy_server('\" + server_id + \"')\";\n",
       "      cell.notebook.kernel.execute(cmd);\n",
       "    }\n",
       "  }\n",
       "\n",
       "  /**\n",
       "   * Handle when a new output is added\n",
       "   */\n",
       "  function handleAddOutput(event, handle) {\n",
       "    var output_area = handle.output_area;\n",
       "    var output = handle.output;\n",
       "\n",
       "    // limit handleAddOutput to display_data with EXEC_MIME_TYPE content only\n",
       "    if ((output.output_type != \"display_data\") || (!output.data.hasOwnProperty(EXEC_MIME_TYPE))) {\n",
       "      return\n",
       "    }\n",
       "\n",
       "    var toinsert = output_area.element.find(\".\" + CLASS_NAME.split(' ')[0]);\n",
       "\n",
       "    if (output.metadata[EXEC_MIME_TYPE][\"id\"] !== undefined) {\n",
       "      toinsert[toinsert.length - 1].firstChild.textContent = output.data[JS_MIME_TYPE];\n",
       "      // store reference to embed id on output_area\n",
       "      output_area._bokeh_element_id = output.metadata[EXEC_MIME_TYPE][\"id\"];\n",
       "    }\n",
       "    if (output.metadata[EXEC_MIME_TYPE][\"server_id\"] !== undefined) {\n",
       "      var bk_div = document.createElement(\"div\");\n",
       "      bk_div.innerHTML = output.data[HTML_MIME_TYPE];\n",
       "      var script_attrs = bk_div.children[0].attributes;\n",
       "      for (var i = 0; i < script_attrs.length; i++) {\n",
       "        toinsert[toinsert.length - 1].firstChild.setAttribute(script_attrs[i].name, script_attrs[i].value);\n",
       "      }\n",
       "      // store reference to server id on output_area\n",
       "      output_area._bokeh_server_id = output.metadata[EXEC_MIME_TYPE][\"server_id\"];\n",
       "    }\n",
       "  }\n",
       "\n",
       "  function register_renderer(events, OutputArea) {\n",
       "\n",
       "    function append_mime(data, metadata, element) {\n",
       "      // create a DOM node to render to\n",
       "      var toinsert = this.create_output_subarea(\n",
       "        metadata,\n",
       "        CLASS_NAME,\n",
       "        EXEC_MIME_TYPE\n",
       "      );\n",
       "      this.keyboard_manager.register_events(toinsert);\n",
       "      // Render to node\n",
       "      var props = {data: data, metadata: metadata[EXEC_MIME_TYPE]};\n",
       "      render(props, toinsert[toinsert.length - 1]);\n",
       "      element.append(toinsert);\n",
       "      return toinsert\n",
       "    }\n",
       "\n",
       "    /* Handle when an output is cleared or removed */\n",
       "    events.on('clear_output.CodeCell', handleClearOutput);\n",
       "    events.on('delete.Cell', handleClearOutput);\n",
       "\n",
       "    /* Handle when a new output is added */\n",
       "    events.on('output_added.OutputArea', handleAddOutput);\n",
       "\n",
       "    /**\n",
       "     * Register the mime type and append_mime function with output_area\n",
       "     */\n",
       "    OutputArea.prototype.register_mime_type(EXEC_MIME_TYPE, append_mime, {\n",
       "      /* Is output safe? */\n",
       "      safe: true,\n",
       "      /* Index of renderer in `output_area.display_order` */\n",
       "      index: 0\n",
       "    });\n",
       "  }\n",
       "\n",
       "  // register the mime type if in Jupyter Notebook environment and previously unregistered\n",
       "  if (root.Jupyter !== undefined) {\n",
       "    var events = require('base/js/events');\n",
       "    var OutputArea = require('notebook/js/outputarea').OutputArea;\n",
       "\n",
       "    if (OutputArea.prototype.mime_types().indexOf(EXEC_MIME_TYPE) == -1) {\n",
       "      register_renderer(events, OutputArea);\n",
       "    }\n",
       "  }\n",
       "\n",
       "  \n",
       "  if (typeof (root._bokeh_timeout) === \"undefined\" || force === true) {\n",
       "    root._bokeh_timeout = Date.now() + 5000;\n",
       "    root._bokeh_failed_load = false;\n",
       "  }\n",
       "\n",
       "  var NB_LOAD_WARNING = {'data': {'text/html':\n",
       "     \"<div style='background-color: #fdd'>\\n\"+\n",
       "     \"<p>\\n\"+\n",
       "     \"BokehJS does not appear to have successfully loaded. If loading BokehJS from CDN, this \\n\"+\n",
       "     \"may be due to a slow or bad network connection. Possible fixes:\\n\"+\n",
       "     \"</p>\\n\"+\n",
       "     \"<ul>\\n\"+\n",
       "     \"<li>re-rerun `output_notebook()` to attempt to load from CDN again, or</li>\\n\"+\n",
       "     \"<li>use INLINE resources instead, as so:</li>\\n\"+\n",
       "     \"</ul>\\n\"+\n",
       "     \"<code>\\n\"+\n",
       "     \"from bokeh.resources import INLINE\\n\"+\n",
       "     \"output_notebook(resources=INLINE)\\n\"+\n",
       "     \"</code>\\n\"+\n",
       "     \"</div>\"}};\n",
       "\n",
       "  function display_loaded() {\n",
       "    var el = document.getElementById(\"61fafa6a-afb3-4dd0-aed7-b5f9315926d5\");\n",
       "    if (el != null) {\n",
       "      el.textContent = \"BokehJS is loading...\";\n",
       "    }\n",
       "    if (root.Bokeh !== undefined) {\n",
       "      if (el != null) {\n",
       "        el.textContent = \"BokehJS \" + root.Bokeh.version + \" successfully loaded.\";\n",
       "      }\n",
       "    } else if (Date.now() < root._bokeh_timeout) {\n",
       "      setTimeout(display_loaded, 100)\n",
       "    }\n",
       "  }\n",
       "\n",
       "\n",
       "  function run_callbacks() {\n",
       "    try {\n",
       "      root._bokeh_onload_callbacks.forEach(function(callback) { callback() });\n",
       "    }\n",
       "    finally {\n",
       "      delete root._bokeh_onload_callbacks\n",
       "    }\n",
       "    console.info(\"Bokeh: all callbacks have finished\");\n",
       "  }\n",
       "\n",
       "  function load_libs(js_urls, callback) {\n",
       "    root._bokeh_onload_callbacks.push(callback);\n",
       "    if (root._bokeh_is_loading > 0) {\n",
       "      console.log(\"Bokeh: BokehJS is being loaded, scheduling callback at\", now());\n",
       "      return null;\n",
       "    }\n",
       "    if (js_urls == null || js_urls.length === 0) {\n",
       "      run_callbacks();\n",
       "      return null;\n",
       "    }\n",
       "    console.log(\"Bokeh: BokehJS not loaded, scheduling load and callback at\", now());\n",
       "    root._bokeh_is_loading = js_urls.length;\n",
       "    for (var i = 0; i < js_urls.length; i++) {\n",
       "      var url = js_urls[i];\n",
       "      var s = document.createElement('script');\n",
       "      s.src = url;\n",
       "      s.async = false;\n",
       "      s.onreadystatechange = s.onload = function() {\n",
       "        root._bokeh_is_loading--;\n",
       "        if (root._bokeh_is_loading === 0) {\n",
       "          console.log(\"Bokeh: all BokehJS libraries loaded\");\n",
       "          run_callbacks()\n",
       "        }\n",
       "      };\n",
       "      s.onerror = function() {\n",
       "        console.warn(\"failed to load library \" + url);\n",
       "      };\n",
       "      console.log(\"Bokeh: injecting script tag for BokehJS library: \", url);\n",
       "      document.getElementsByTagName(\"head\")[0].appendChild(s);\n",
       "    }\n",
       "  };var element = document.getElementById(\"61fafa6a-afb3-4dd0-aed7-b5f9315926d5\");\n",
       "  if (element == null) {\n",
       "    console.log(\"Bokeh: ERROR: autoload.js configured with elementid '61fafa6a-afb3-4dd0-aed7-b5f9315926d5' but no matching script tag was found. \")\n",
       "    return false;\n",
       "  }\n",
       "\n",
       "  var js_urls = [\"https://cdn.pydata.org/bokeh/release/bokeh-0.12.16.min.js\", \"https://cdn.pydata.org/bokeh/release/bokeh-widgets-0.12.16.min.js\", \"https://cdn.pydata.org/bokeh/release/bokeh-tables-0.12.16.min.js\", \"https://cdn.pydata.org/bokeh/release/bokeh-gl-0.12.16.min.js\"];\n",
       "\n",
       "  var inline_js = [\n",
       "    function(Bokeh) {\n",
       "      Bokeh.set_log_level(\"info\");\n",
       "    },\n",
       "    \n",
       "    function(Bokeh) {\n",
       "      \n",
       "    },\n",
       "    function(Bokeh) {\n",
       "      console.log(\"Bokeh: injecting CSS: https://cdn.pydata.org/bokeh/release/bokeh-0.12.16.min.css\");\n",
       "      Bokeh.embed.inject_css(\"https://cdn.pydata.org/bokeh/release/bokeh-0.12.16.min.css\");\n",
       "      console.log(\"Bokeh: injecting CSS: https://cdn.pydata.org/bokeh/release/bokeh-widgets-0.12.16.min.css\");\n",
       "      Bokeh.embed.inject_css(\"https://cdn.pydata.org/bokeh/release/bokeh-widgets-0.12.16.min.css\");\n",
       "      console.log(\"Bokeh: injecting CSS: https://cdn.pydata.org/bokeh/release/bokeh-tables-0.12.16.min.css\");\n",
       "      Bokeh.embed.inject_css(\"https://cdn.pydata.org/bokeh/release/bokeh-tables-0.12.16.min.css\");\n",
       "    }\n",
       "  ];\n",
       "\n",
       "  function run_inline_js() {\n",
       "    \n",
       "    if ((root.Bokeh !== undefined) || (force === true)) {\n",
       "      for (var i = 0; i < inline_js.length; i++) {\n",
       "        inline_js[i].call(root, root.Bokeh);\n",
       "      }if (force === true) {\n",
       "        display_loaded();\n",
       "      }} else if (Date.now() < root._bokeh_timeout) {\n",
       "      setTimeout(run_inline_js, 100);\n",
       "    } else if (!root._bokeh_failed_load) {\n",
       "      console.log(\"Bokeh: BokehJS failed to load within specified timeout.\");\n",
       "      root._bokeh_failed_load = true;\n",
       "    } else if (force !== true) {\n",
       "      var cell = $(document.getElementById(\"61fafa6a-afb3-4dd0-aed7-b5f9315926d5\")).parents('.cell').data().cell;\n",
       "      cell.output_area.append_execute_result(NB_LOAD_WARNING)\n",
       "    }\n",
       "\n",
       "  }\n",
       "\n",
       "  if (root._bokeh_is_loading === 0) {\n",
       "    console.log(\"Bokeh: BokehJS loaded, going straight to plotting\");\n",
       "    run_inline_js();\n",
       "  } else {\n",
       "    load_libs(js_urls, function() {\n",
       "      console.log(\"Bokeh: BokehJS plotting callback run at\", now());\n",
       "      run_inline_js();\n",
       "    });\n",
       "  }\n",
       "}(window));"
      ],
      "application/vnd.bokehjs_load.v0+json": "\n(function(root) {\n  function now() {\n    return new Date();\n  }\n\n  var force = true;\n\n  if (typeof (root._bokeh_onload_callbacks) === \"undefined\" || force === true) {\n    root._bokeh_onload_callbacks = [];\n    root._bokeh_is_loading = undefined;\n  }\n\n  \n\n  \n  if (typeof (root._bokeh_timeout) === \"undefined\" || force === true) {\n    root._bokeh_timeout = Date.now() + 5000;\n    root._bokeh_failed_load = false;\n  }\n\n  var NB_LOAD_WARNING = {'data': {'text/html':\n     \"<div style='background-color: #fdd'>\\n\"+\n     \"<p>\\n\"+\n     \"BokehJS does not appear to have successfully loaded. If loading BokehJS from CDN, this \\n\"+\n     \"may be due to a slow or bad network connection. Possible fixes:\\n\"+\n     \"</p>\\n\"+\n     \"<ul>\\n\"+\n     \"<li>re-rerun `output_notebook()` to attempt to load from CDN again, or</li>\\n\"+\n     \"<li>use INLINE resources instead, as so:</li>\\n\"+\n     \"</ul>\\n\"+\n     \"<code>\\n\"+\n     \"from bokeh.resources import INLINE\\n\"+\n     \"output_notebook(resources=INLINE)\\n\"+\n     \"</code>\\n\"+\n     \"</div>\"}};\n\n  function display_loaded() {\n    var el = document.getElementById(\"61fafa6a-afb3-4dd0-aed7-b5f9315926d5\");\n    if (el != null) {\n      el.textContent = \"BokehJS is loading...\";\n    }\n    if (root.Bokeh !== undefined) {\n      if (el != null) {\n        el.textContent = \"BokehJS \" + root.Bokeh.version + \" successfully loaded.\";\n      }\n    } else if (Date.now() < root._bokeh_timeout) {\n      setTimeout(display_loaded, 100)\n    }\n  }\n\n\n  function run_callbacks() {\n    try {\n      root._bokeh_onload_callbacks.forEach(function(callback) { callback() });\n    }\n    finally {\n      delete root._bokeh_onload_callbacks\n    }\n    console.info(\"Bokeh: all callbacks have finished\");\n  }\n\n  function load_libs(js_urls, callback) {\n    root._bokeh_onload_callbacks.push(callback);\n    if (root._bokeh_is_loading > 0) {\n      console.log(\"Bokeh: BokehJS is being loaded, scheduling callback at\", now());\n      return null;\n    }\n    if (js_urls == null || js_urls.length === 0) {\n      run_callbacks();\n      return null;\n    }\n    console.log(\"Bokeh: BokehJS not loaded, scheduling load and callback at\", now());\n    root._bokeh_is_loading = js_urls.length;\n    for (var i = 0; i < js_urls.length; i++) {\n      var url = js_urls[i];\n      var s = document.createElement('script');\n      s.src = url;\n      s.async = false;\n      s.onreadystatechange = s.onload = function() {\n        root._bokeh_is_loading--;\n        if (root._bokeh_is_loading === 0) {\n          console.log(\"Bokeh: all BokehJS libraries loaded\");\n          run_callbacks()\n        }\n      };\n      s.onerror = function() {\n        console.warn(\"failed to load library \" + url);\n      };\n      console.log(\"Bokeh: injecting script tag for BokehJS library: \", url);\n      document.getElementsByTagName(\"head\")[0].appendChild(s);\n    }\n  };var element = document.getElementById(\"61fafa6a-afb3-4dd0-aed7-b5f9315926d5\");\n  if (element == null) {\n    console.log(\"Bokeh: ERROR: autoload.js configured with elementid '61fafa6a-afb3-4dd0-aed7-b5f9315926d5' but no matching script tag was found. \")\n    return false;\n  }\n\n  var js_urls = [\"https://cdn.pydata.org/bokeh/release/bokeh-0.12.16.min.js\", \"https://cdn.pydata.org/bokeh/release/bokeh-widgets-0.12.16.min.js\", \"https://cdn.pydata.org/bokeh/release/bokeh-tables-0.12.16.min.js\", \"https://cdn.pydata.org/bokeh/release/bokeh-gl-0.12.16.min.js\"];\n\n  var inline_js = [\n    function(Bokeh) {\n      Bokeh.set_log_level(\"info\");\n    },\n    \n    function(Bokeh) {\n      \n    },\n    function(Bokeh) {\n      console.log(\"Bokeh: injecting CSS: https://cdn.pydata.org/bokeh/release/bokeh-0.12.16.min.css\");\n      Bokeh.embed.inject_css(\"https://cdn.pydata.org/bokeh/release/bokeh-0.12.16.min.css\");\n      console.log(\"Bokeh: injecting CSS: https://cdn.pydata.org/bokeh/release/bokeh-widgets-0.12.16.min.css\");\n      Bokeh.embed.inject_css(\"https://cdn.pydata.org/bokeh/release/bokeh-widgets-0.12.16.min.css\");\n      console.log(\"Bokeh: injecting CSS: https://cdn.pydata.org/bokeh/release/bokeh-tables-0.12.16.min.css\");\n      Bokeh.embed.inject_css(\"https://cdn.pydata.org/bokeh/release/bokeh-tables-0.12.16.min.css\");\n    }\n  ];\n\n  function run_inline_js() {\n    \n    if ((root.Bokeh !== undefined) || (force === true)) {\n      for (var i = 0; i < inline_js.length; i++) {\n        inline_js[i].call(root, root.Bokeh);\n      }if (force === true) {\n        display_loaded();\n      }} else if (Date.now() < root._bokeh_timeout) {\n      setTimeout(run_inline_js, 100);\n    } else if (!root._bokeh_failed_load) {\n      console.log(\"Bokeh: BokehJS failed to load within specified timeout.\");\n      root._bokeh_failed_load = true;\n    } else if (force !== true) {\n      var cell = $(document.getElementById(\"61fafa6a-afb3-4dd0-aed7-b5f9315926d5\")).parents('.cell').data().cell;\n      cell.output_area.append_execute_result(NB_LOAD_WARNING)\n    }\n\n  }\n\n  if (root._bokeh_is_loading === 0) {\n    console.log(\"Bokeh: BokehJS loaded, going straight to plotting\");\n    run_inline_js();\n  } else {\n    load_libs(js_urls, function() {\n      console.log(\"Bokeh: BokehJS plotting callback run at\", now());\n      run_inline_js();\n    });\n  }\n}(window));"
     },
     "metadata": {},
     "output_type": "display_data"
    }
   ],
   "source": [
    "output_notebook()"
   ]
  },
  {
   "cell_type": "code",
   "execution_count": 4,
   "metadata": {
    "collapsed": true
   },
   "outputs": [],
   "source": [
    "def make_query(param=None):\n",
    "    '''\n",
    "    Returns the MongoDB query for a lblnew \n",
    "    run's document.\n",
    "    \n",
    "    Parameters\n",
    "    ----------\n",
    "    param: dict\n",
    "    lblnew-bestfit input parameters.\n",
    "    '''\n",
    "    return {'param.' + name: value for name, value in param.items()}   "
   ]
  },
  {
   "cell_type": "code",
   "execution_count": 5,
   "metadata": {
    "collapsed": true
   },
   "outputs": [],
   "source": [
    "def print_input_param():\n",
    "    '''\n",
    "    Print to screen the input parameters \n",
    "    of the lblnew run.\n",
    "    '''\n",
    "    for name, value in sorted(PARAM.items()):\n",
    "        print(f'{name} = {value}')"
   ]
  },
  {
   "cell_type": "code",
   "execution_count": 6,
   "metadata": {
    "collapsed": true
   },
   "outputs": [],
   "source": [
    "def fmt_cool(ds_in):\n",
    "    ds = ds_in.copy(deep=True)\n",
    "    \n",
    "    if 'i' in ds.dims:                                                                                               \n",
    "        ds = ds.sel(i=ds.dims['i']) \n",
    "        \n",
    "    if 'band' in ds.dims:\n",
    "        try:\n",
    "            ds = ds.squeeze('band')\n",
    "        except ValueError:\n",
    "            ds = ds.sum('band') \n",
    "            \n",
    "    return ds['coolrg']\n",
    "\n",
    "\n",
    "\n",
    "def pltdata_cool(g=None):\n",
    "    '''\n",
    "    Define the plotting data for cooling rate\n",
    "    profile plots.  Add/remove entries in\n",
    "    the `data` list.\n",
    "    \n",
    "    Parameters\n",
    "    ----------\n",
    "    g: int\n",
    "        g-interval to be plotted.  If None,\n",
    "        the sum over all g-intervals will be\n",
    "        plotted.\n",
    "    data: dict\n",
    "        Plot data, including colour, line attributes, etc.\n",
    "    '''\n",
    "    colors = all_palettes['Set1'][4]\n",
    "    \n",
    "    if g == None:\n",
    "        ds_cool_crd = DS_COOL_CRD.sum('g')\n",
    "        ds_cool_wgt = DS_COOL_WGT.sum('g')\n",
    "    else:\n",
    "        ds_cool_crd = DS_COOL_CRD.sel(g=g)\n",
    "        ds_cool_wgt = DS_COOL_WGT.sel(g=g)\n",
    "    \n",
    "    data = [\n",
    "        {'label': 'CRD',\n",
    "         'srs': fmt_cool(ds_cool_crd),\n",
    "         'line_dash': 'solid', 'line_width':1.5,\n",
    "         'marker': 'circle', 'mark_size': 5,\n",
    "         'color': colors[2], 'alpha': 1},\n",
    "        {'label': 'WGT igg=1',\n",
    "         'srs': fmt_cool(ds_cool_wgt.sel(igg=1)),\n",
    "         'line_dash': 'solid', 'line_width': 3,\n",
    "         'marker': 'square', 'marker_size': 5,\n",
    "         'color': colors[3], 'alpha': .6},\n",
    "        {'label': 'WGT igg=10',\n",
    "         'srs': fmt_cool(ds_cool_wgt.sel(igg=10)),\n",
    "         'line_dash': 'solid', 'line_width': 2,\n",
    "         'marker': 'triangle', 'marker_size': 2,\n",
    "         'color': colors[1], 'alpha': .3}]\n",
    "    return data\n",
    "\n",
    "\n",
    "\n",
    "def plt_cool(pltdata=None):\n",
    "    '''\n",
    "    Plot cooling rate profiles on linear\n",
    "    and log pressure axes.\n",
    "    \n",
    "    Parameters\n",
    "    ----------\n",
    "    pltdata: dict\n",
    "        Plot data, including colour, line attributes, etc.\n",
    "    everything: bokeh.models.layouts.Column\n",
    "        Cooling rate profile plot.\n",
    "    '''\n",
    "    plin = plt_vert_profile_bokeh(pltdata=pltdata, \n",
    "                                  y_axis_type='linear',\n",
    "                                  prange=(50, 1050))\n",
    "    plin.plot_width, plin.plot_height = 400, 500\n",
    "    \n",
    "    plog = plt_vert_profile_bokeh(pltdata=pltdata,\n",
    "                                  y_axis_type='log',\n",
    "                                  prange=(.01, 200)) \n",
    "    plog.plot_width, plog.plot_height = 400, 500\n",
    "    \n",
    "    everything = gridplot(plin, plog, ncols=2)\n",
    "    return everything\n",
    "    \n",
    "    \n",
    "\n",
    "def script_plt_cool():\n",
    "    '''\n",
    "    Script to plot the cooling rate profiles\n",
    "    in each g-interval and the total \n",
    "    cooling rate profile over all g-intervals.\n",
    "    '''\n",
    "    ng = sum(PARAM['ng_refs'])\n",
    "    for g in np.arange(1, ng + 1):\n",
    "        data = pltdata_cool(g=g)\n",
    "        p = plt_cool(pltdata=data)\n",
    "        show(p)\n",
    "        display.display(\n",
    "            display.Markdown(f'*FIGURE.* Cooling rates. g={g}'))\n",
    "    \n",
    "    data = pltdata_cool()\n",
    "    p = plt_cool(pltdata=data)\n",
    "    show(p)\n",
    "    display.display(\n",
    "        display.Markdown(f'*FIGURE.* Cooling rates. Summed over g.'))\n",
    "    \n"
   ]
  },
  {
   "cell_type": "code",
   "execution_count": 7,
   "metadata": {
    "collapsed": true
   },
   "outputs": [],
   "source": [
    "def fmt_flux(ds_in, ilevels=None):\n",
    "    ds = ds_in.copy(deep=True)\n",
    "    \n",
    "    for l in ('level', 'layer'):\n",
    "        if l in ds.data_vars:\n",
    "            if len(ds[l].dims) > 1:\n",
    "                surface = {d: 0 for d in ds.dims if d != 'pressure'}\n",
    "                coord_level = ds[l][surface]\n",
    "                ds.coords[l] = ('pressure', coord_level)\n",
    "            else:\n",
    "                ds.coords[l] = ('pressure', ds[l])\n",
    "    \n",
    "    if ilevels:\n",
    "        ds = ds.isel(pressure=ilevels)\n",
    "\n",
    "    if 'i' in ds.dims:                                                                                               \n",
    "        ds = ds.sel(i=ds.dims['i'])\n",
    "        \n",
    "    if 'igg' in ds.dims:\n",
    "        ds = ds.squeeze('igg').drop('igg')\n",
    "            \n",
    "    if 'band' in ds.dims:\n",
    "        try:\n",
    "            ds = ds.squeeze('band').drop('band')\n",
    "        except ValueError:\n",
    "            ds = ds.sum('band')\n",
    "                \n",
    "    df = ds.to_dataframe()\n",
    "    df = df.set_index('level', append=True)               \n",
    "    return df\n",
    "\n",
    "\n",
    "def tbdata_flux():\n",
    "    '''\n",
    "    Define the flux data to be tabulated for\n",
    "    the g-intervals.  Add/remove entries in the\n",
    "    `tbs` list.\n",
    "    \n",
    "    Parameters\n",
    "    ----------\n",
    "    data: dict\n",
    "        Flux data, including how each set is to be\n",
    "        labeled in the output table.\n",
    "    '''\n",
    "    tropopauses = {'mls': 40, 'saw': 45, 'trp': 37}\n",
    "    atmpro = PARAM['atmpro']\n",
    "    ilevels = [0, tropopauses[atmpro], -1]\n",
    "    \n",
    "    benchmark = {'label': 'CRD',\n",
    "                 'df': fmt_flux(DS_FLUX_CRD, ilevels=ilevels)}\n",
    "    \n",
    "    tbs = [{'label': 'WGT igg=1',\n",
    "            'df': fmt_flux(DS_FLUX_WGT.sel(igg=[1]), ilevels=ilevels)},\n",
    "           {'label': 'WGT igg=10',\n",
    "            'df': fmt_flux(DS_FLUX_WGT.sel(igg=[10]), ilevels=ilevels)}]\n",
    "    \n",
    "    data = {'benchmark': benchmark, 'others': tbs}\n",
    "    return data\n",
    "\n",
    "\n",
    "\n",
    "def tbdata_flux_sumg():\n",
    "    '''\n",
    "    Define the total flux data, over all g-intervals,\n",
    "    to be tabulated.\n",
    "    \n",
    "    Parameters\n",
    "    ----------\n",
    "    data: dict\n",
    "        Flux data, including how each set is to e\n",
    "        labeled in the output table.\n",
    "    '''\n",
    "    tropopauses = {'mls': 40, 'saw': 45, 'trp': 37}\n",
    "    \n",
    "    atmpro = PARAM['atmpro']\n",
    "    ilevels = [0, tropopauses[atmpro], -1]\n",
    "    \n",
    "    benchmark = {'label': 'CRD',\n",
    "                 'df': fmt_flux(DS_FLUX_CRD.sum('g'), ilevels=ilevels)}\n",
    "    \n",
    "    tbs = [{'label': 'WGT igg=1',\n",
    "            'df': fmt_flux(DS_FLUX_WGT.sel(igg=[1]).sum('g'), \n",
    "                           ilevels=ilevels)},\n",
    "           {'label': 'WGT igg=10',\n",
    "            'df': fmt_flux(DS_FLUX_WGT.sel(igg=[10]).sum('g'), \n",
    "                           ilevels=ilevels)}]\n",
    "    \n",
    "    data = {'benchmark': benchmark, 'others': tbs}\n",
    "    return data\n",
    "\n",
    "\n",
    "def tb_flux(tbdata=None):\n",
    "    '''\n",
    "    Display flux table for each set, and display\n",
    "    the difference between each set and the set\n",
    "    that is specified to be the benchmark.\n",
    "    \n",
    "    Parameters\n",
    "    ----------\n",
    "    tbdata: dict\n",
    "        Flux data, including how each set it to be\n",
    "        labeled in the output table.\n",
    "    '''\n",
    "    benchmark = tbdata['benchmark']\n",
    "    others = tbdata['others']\n",
    "    \n",
    "    def show_tb(d=None):\n",
    "        display.display(d['df'])\n",
    "        display.display(display.Markdown(\n",
    "            f\"*TABLE.* Fluxes. {d['label']}\"))\n",
    "        \n",
    "    def show_tbdiff(d0=None, d=None):\n",
    "        df = d['df']\n",
    "        df.index = d0['df'].index\n",
    "        display.display(df - d0['df'])\n",
    "        display.display(display.Markdown(\n",
    "            f\"*TABLE.* Fluxes. ({d['label']}) - ({d0['label']})\"))\n",
    "        \n",
    "    show_tb(benchmark)\n",
    "    for d in others:\n",
    "        show_tb(d)\n",
    "        \n",
    "    for d in others:\n",
    "        show_tbdiff(d=d, d0=benchmark)\n",
    "        \n",
    "\n",
    "        \n",
    "def script_tb_flux():\n",
    "    '''\n",
    "    Script to display the flux tables in \n",
    "    each g-interval, and the flux table\n",
    "    for the total flux, over all g-intervals.\n",
    "    '''\n",
    "    tb_flux(tbdata=tbdata_flux())\n",
    "    tb_flux(tbdata=tbdata_flux_sumg())\n"
   ]
  },
  {
   "cell_type": "code",
   "execution_count": 8,
   "metadata": {
    "collapsed": true
   },
   "outputs": [],
   "source": [
    "def script_gsummary():\n",
    "    '''\n",
    "    Script to display how the g-intervals\n",
    "    are defined according the hyperparameters\n",
    "    chosen for this lblnew-bestfit run.\n",
    "    '''\n",
    "    ng_refs = PARAM['ng_refs']\n",
    "    p_refs = list(zip(*PARAM['ref_pts']))[0]\n",
    "    ng = sum(ng_refs)\n",
    "    df_abscom = pd.read_csv(io.StringIO(DOC['abscom']), \n",
    "                            sep=r'\\s+', index_col=[0])\n",
    "    df_dgdgs = pd.read_csv(io.StringIO(DOC['dgdgs']), \n",
    "                            sep=r'\\s+', index_col=[0])\n",
    "    \n",
    "    # absth(g + 1) / absth(g)\n",
    "    df_abscom_copy = df_abscom.copy()\n",
    "    df_abscom_copy.index = df_abscom.index + 1\n",
    "    df_absratio = df_abscom / df_abscom_copy\n",
    "    df_absratio.columns = ['k(ig) / k(ig - 1)']\n",
    "    df_absratio = df_absratio.loc[: ng]    \n",
    "    \n",
    "    df_dgdgs_cumsum = df_dgdgs.cumsum(axis=0)\n",
    "    df_dgdgs_cumsum.columns = ['dg cumsum', 'dgs cumsum']\n",
    "    \n",
    "    data_pref = np.concatenate([p_ref * np.ones((ng_ref,)) \n",
    "                                for ng_ref, p_ref \n",
    "                                in zip(ng_refs, p_refs)], axis=0)\n",
    "    df_pref = pd.DataFrame(data_pref, \n",
    "                           index=df_dgdgs.index, columns=['pref'])\n",
    "    \n",
    "    df_all = pd.concat([df_abscom, df_absratio,\n",
    "                        df_dgdgs, df_dgdgs_cumsum,\n",
    "                        df_pref], axis=1) \n",
    "    \n",
    "    display.display(df_all)\n",
    "    display.display(display.Markdown(\n",
    "        (f\"TABLE. g-interval summary.  \"\n",
    "         f\"*abscom* is the lower bound of the g-interval.\")))\n",
    "    \n"
   ]
  },
  {
   "cell_type": "code",
   "execution_count": 9,
   "metadata": {
    "collapsed": true
   },
   "outputs": [],
   "source": [
    "def script_flux_to_excel():\n",
    "    '''\n",
    "    Script to save the lblnew-bestfit run's\n",
    "    output flux to excel file and display the\n",
    "    link to download the excel file.\n",
    "    '''\n",
    "    fname = 'lblnew-bestfit_flux.xlsx'\n",
    "    writer = pd.ExcelWriter(fname)\n",
    "    \n",
    "    ds = DS_FLUX_CRD\n",
    "    for g in ds.coords['g']:\n",
    "        df = ds.sel(g=g).to_dataframe()\n",
    "        df.to_excel(writer, f'crd flux g={int(g)}')\n",
    "                \n",
    "    ds = DS_FLUX_WGT\n",
    "    for g in ds.coords['g']:\n",
    "        df = ds.sel(g=g, igg=1).to_dataframe()\n",
    "        df.to_excel(writer, f'wgt igg=1 flux g={int(g)}')\n",
    "        \n",
    "        df = ds.sel(g=g, igg=10).to_dataframe()\n",
    "        df.to_excel(writer, f'wgt igg=10 flux g={int(g)}')\n",
    "        \n",
    "    writer.save()    \n",
    "    html_download = f'Download: <a href=\"./{fname}\">{fname}</a>'\n",
    "    display.display(display.HTML(html_download))\n",
    "\n",
    "\n",
    "def script_cool_to_excel():\n",
    "    '''\n",
    "    Script to save the lblnew-bestfit run's\n",
    "    output cooling rate to excel file and display\n",
    "    the link to download the excel file.\n",
    "    '''\n",
    "    fname = 'lblnew-bestfit_cool.xlsx'\n",
    "    writer = pd.ExcelWriter(fname)\n",
    "    \n",
    "    ds = DS_COOL_CRD\n",
    "    for g in ds.coords['g']:\n",
    "        df = ds.sel(g=g).to_dataframe()\n",
    "        df.to_excel(writer, f'crd cool g={int(g)}')\n",
    "        \n",
    "    ds = DS_COOL_WGT\n",
    "    for g in ds.coords['g']:\n",
    "        df = ds.sel(g=g, igg=1).to_dataframe()\n",
    "        df.to_excel(writer, f'wgt igg=1 cool g={int(g)}')\n",
    "        \n",
    "        df = ds.sel(g=g, igg=10).to_dataframe()\n",
    "        df.to_excel(writer, f'wgt igg=10 cool g={int(g)}')\n",
    "        \n",
    "    writer.save()\n",
    "    html_download = f'Download: <a href=\"./{fname}\">{fname}</a>'\n",
    "    display.display(display.HTML(html_download))"
   ]
  },
  {
   "cell_type": "code",
   "execution_count": 10,
   "metadata": {
    "collapsed": true
   },
   "outputs": [],
   "source": [
    "def show_html(s):\n",
    "    display.display(display.HTML(s))\n",
    "\n",
    "    \n",
    "def show_markdown(s):\n",
    "    display.display(display.Markdown(s))"
   ]
  },
  {
   "cell_type": "code",
   "execution_count": 11,
   "metadata": {
    "collapsed": true
   },
   "outputs": [],
   "source": [
    "def script():\n",
    "    title = ('### lblnew-bestfit' \n",
    "             if 'ng_refs' in PARAM else '### lblnew-overlap')\n",
    "    s_input = 'Input Parameters'\n",
    "    s_plt_cool = 'Cooling Rate Profiles'\n",
    "    s_tb_flux = 'Flux Comparison'\n",
    "    s_gsummary = 'g-interval Summary'\n",
    "    s_download = 'Download Data'\n",
    "    \n",
    "    # title\n",
    "    show_markdown(title)\n",
    "    \n",
    "    # TOC\n",
    "    show_markdown('### Table of Contents')\n",
    "    show_html(climahtml.getHTML_hrefanchor(s_input))\n",
    "    show_html(climahtml.getHTML_hrefanchor(s_plt_cool))\n",
    "    show_html(climahtml.getHTML_hrefanchor(s_tb_flux))\n",
    "    show_html(climahtml.getHTML_hrefanchor(s_gsummary))\n",
    "    show_html(climahtml.getHTML_hrefanchor(s_download))\n",
    "    \n",
    "    # Input parameters\n",
    "    show_html(climahtml.getHTML_idanchor(s_input))\n",
    "    show_markdown(climahtml.getMarkdown_sectitle(s_input))\n",
    "    print_input_param()\n",
    "    \n",
    "    # Cooling rate profiles\n",
    "    show_html(climahtml.getHTML_idanchor(s_plt_cool))\n",
    "    show_markdown(climahtml.getMarkdown_sectitle(s_plt_cool))\n",
    "    script_plt_cool()\n",
    "    \n",
    "    # Flux comparison\n",
    "    show_html(climahtml.getHTML_idanchor(s_tb_flux))\n",
    "    show_markdown(climahtml.getMarkdown_sectitle(s_tb_flux))\n",
    "    script_tb_flux()\n",
    "    \n",
    "    # g-interval summary\n",
    "    show_html(climahtml.getHTML_idanchor(s_gsummary))\n",
    "    show_markdown(climahtml.getMarkdown_sectitle(s_gsummary))\n",
    "    script_gsummary()\n",
    "    \n",
    "    # Download cooling rate and fluxes\n",
    "    show_html(climahtml.getHTML_idanchor(s_download))\n",
    "    show_markdown(climahtml.getMarkdown_sectitle(s_download))\n",
    "    script_flux_to_excel()\n",
    "    script_cool_to_excel()"
   ]
  },
  {
   "cell_type": "code",
   "execution_count": 12,
   "metadata": {
    "collapsed": true
   },
   "outputs": [],
   "source": [
    "%run param.py\n",
    "\n",
    "client = pymongo.MongoClient('localhost', 27017, connect=False)\n",
    "db = client.lblnew\n",
    "\n",
    "\n",
    "DOC = db.bestfit_lw.find_one(make_query(param=PARAM))\n",
    "DS_FLUX_CRD = load_output_file(io.StringIO(DOC['output_fluxg']))\n",
    "DS_COOL_CRD = load_output_file(io.StringIO(DOC['output_coolrg']))\n",
    "DS_FLUX_WGT = load_output_file(io.StringIO(DOC['output_wfluxg']))\n",
    "DS_COOL_WGT = load_output_file(io.StringIO(DOC['output_wcoolrg']))"
   ]
  },
  {
   "cell_type": "code",
   "execution_count": 13,
   "metadata": {
    "scrolled": false
   },
   "outputs": [
    {
     "data": {
      "text/markdown": [
       "### lblnew-bestfit"
      ],
      "text/plain": [
       "<IPython.core.display.Markdown object>"
      ]
     },
     "metadata": {},
     "output_type": "display_data"
    },
    {
     "data": {
      "text/markdown": [
       "### Table of Contents"
      ],
      "text/plain": [
       "<IPython.core.display.Markdown object>"
      ]
     },
     "metadata": {},
     "output_type": "display_data"
    },
    {
     "data": {
      "text/html": [
       "<a href=\"#Input_Parameters\">Input Parameters</a>"
      ],
      "text/plain": [
       "<IPython.core.display.HTML object>"
      ]
     },
     "metadata": {},
     "output_type": "display_data"
    },
    {
     "data": {
      "text/html": [
       "<a href=\"#Cooling_Rate_Profiles\">Cooling Rate Profiles</a>"
      ],
      "text/plain": [
       "<IPython.core.display.HTML object>"
      ]
     },
     "metadata": {},
     "output_type": "display_data"
    },
    {
     "data": {
      "text/html": [
       "<a href=\"#Flux_Comparison\">Flux Comparison</a>"
      ],
      "text/plain": [
       "<IPython.core.display.HTML object>"
      ]
     },
     "metadata": {},
     "output_type": "display_data"
    },
    {
     "data": {
      "text/html": [
       "<a href=\"#g-interval_Summary\">g-interval Summary</a>"
      ],
      "text/plain": [
       "<IPython.core.display.HTML object>"
      ]
     },
     "metadata": {},
     "output_type": "display_data"
    },
    {
     "data": {
      "text/html": [
       "<a href=\"#Download_Data\">Download Data</a>"
      ],
      "text/plain": [
       "<IPython.core.display.HTML object>"
      ]
     },
     "metadata": {},
     "output_type": "display_data"
    },
    {
     "data": {
      "text/html": [
       "<a id=\"Input_Parameters\"></a>"
      ],
      "text/plain": [
       "<IPython.core.display.HTML object>"
      ]
     },
     "metadata": {},
     "output_type": "display_data"
    },
    {
     "data": {
      "text/markdown": [
       "# Input Parameters"
      ],
      "text/plain": [
       "<IPython.core.display.Markdown object>"
      ]
     },
     "metadata": {},
     "output_type": "display_data"
    },
    {
     "name": "stdout",
     "output_type": "stream",
     "text": [
      "atmpro = saw\n",
      "band = 7\n",
      "commitnumber = a22ab94\n",
      "conc = 6.4e-07\n",
      "dv = 0.001\n",
      "klin = 2.22e-20\n",
      "molecule = n2o\n",
      "ng_adju = [0, 0]\n",
      "ng_refs = [2, 2]\n",
      "nv = 1000\n",
      "option_compute_btable = 0\n",
      "option_compute_ktable = 0\n",
      "option_wgt_flux = 1\n",
      "option_wgt_k = 1\n",
      "ref_pts = [(1, 250), (500, 250)]\n",
      "tsfc = 257\n",
      "vmax = 1380\n",
      "vmin = 1215\n",
      "w_diffuse = [(1.8, 1.66), (1.6, 1.8)]\n",
      "wgt = [(0.6, 0.5), (0.6, 0.9)]\n"
     ]
    },
    {
     "data": {
      "text/html": [
       "<a id=\"Cooling_Rate_Profiles\"></a>"
      ],
      "text/plain": [
       "<IPython.core.display.HTML object>"
      ]
     },
     "metadata": {},
     "output_type": "display_data"
    },
    {
     "data": {
      "text/markdown": [
       "# Cooling Rate Profiles"
      ],
      "text/plain": [
       "<IPython.core.display.Markdown object>"
      ]
     },
     "metadata": {},
     "output_type": "display_data"
    },
    {
     "data": {
      "text/html": [
       "\n",
       "<div class=\"bk-root\">\n",
       "    <div class=\"bk-plotdiv\" id=\"ba47fce1-38be-4d2a-8bae-4861a2621302\"></div>\n",
       "</div>"
      ]
     },
     "metadata": {},
     "output_type": "display_data"
    },
    {
     "data": {
      "application/javascript": [
       "(function(root) {\n",
       "  function embed_document(root) {\n",
       "    \n",
       "  var docs_json = {\"25aaa8e4-ec15-4b96-8786-88cc4d78b0cc\":{\"roots\":{\"references\":[{\"attributes\":{},\"id\":\"68325f2a-634b-41df-b3e1-ef76b62066c3\",\"type\":\"BasicTickFormatter\"},{\"attributes\":{\"line_alpha\":0.3,\"line_color\":\"#377eb8\",\"line_width\":2,\"x\":{\"field\":\"x\"},\"y\":{\"field\":\"y\"}},\"id\":\"d0302695-5786-42c8-bd89-dfe5e48796c5\",\"type\":\"Line\"},{\"attributes\":{},\"id\":\"587e97ba-e870-478f-ac1f-0fc837d66267\",\"type\":\"UnionRenderers\"},{\"attributes\":{\"label\":{\"value\":\"WGT igg=10\"},\"renderers\":[{\"id\":\"066e7272-9914-4f82-9145-47f06fc2159f\",\"type\":\"GlyphRenderer\"},{\"id\":\"ff6b1f36-8c28-4397-9353-a17a5d7a8910\",\"type\":\"GlyphRenderer\"}]},\"id\":\"22a8477e-2524-444e-9b25-93434e8c7da5\",\"type\":\"LegendItem\"},{\"attributes\":{\"source\":{\"id\":\"a451569a-76f5-4e98-8db0-ab690f1c6fa1\",\"type\":\"ColumnDataSource\"}},\"id\":\"95546f16-b73f-4d26-aeda-e5cdc45ab630\",\"type\":\"CDSView\"},{\"attributes\":{},\"id\":\"00a0aa47-b0a7-440d-b4d9-b009c73547ce\",\"type\":\"Selection\"},{\"attributes\":{\"line_alpha\":0.1,\"line_color\":\"#1f77b4\",\"line_width\":2,\"x\":{\"field\":\"x\"},\"y\":{\"field\":\"y\"}},\"id\":\"cd6d2215-cd61-45d4-bbb8-98a37d53a1f9\",\"type\":\"Line\"},{\"attributes\":{},\"id\":\"64e693ac-1e73-42ff-892b-78d1b08d1e29\",\"type\":\"Selection\"},{\"attributes\":{},\"id\":\"41535b52-20ac-44ff-9cd9-9d4d105946a4\",\"type\":\"BasicTickFormatter\"},{\"attributes\":{},\"id\":\"360760bb-04c7-473c-afa4-34e1adaa9b04\",\"type\":\"Selection\"},{\"attributes\":{},\"id\":\"b683a2fe-f19c-42bb-8133-3532564ed01f\",\"type\":\"UnionRenderers\"},{\"attributes\":{\"line_alpha\":0.6,\"line_color\":\"#984ea3\",\"line_width\":3,\"x\":{\"field\":\"x\"},\"y\":{\"field\":\"y\"}},\"id\":\"10391d7a-7529-4509-8ab0-5209f788b69d\",\"type\":\"Line\"},{\"attributes\":{},\"id\":\"e8f8773c-7066-4b43-b0f7-2fb02bd7deec\",\"type\":\"Selection\"},{\"attributes\":{},\"id\":\"e48d4c0c-1309-4e10-a0b1-b9a3a24cd3cb\",\"type\":\"UnionRenderers\"},{\"attributes\":{},\"id\":\"1e432b52-47db-476d-9e63-f42cfe052ebd\",\"type\":\"Selection\"},{\"attributes\":{\"callback\":null,\"data\":{\"x\":{\"__ndarray__\":\"7x98AeXKa7/WZUG4LGVcv6R6Yso9pV4/Umpjb5gWeD8A1KcxLhCFP1j6H0zJ844/GIAJhrrilD+ZttCspMmaP+cgQyLInKA/GKPMC1IepD/ZkX2fkO6nP1f8ynbKEqw/tbgVroZFsD+7748snWWyP7YS5cs+IbQ/HoL+0DmwtT9vVhfMbEu3P7CyN6oz9Lg/z962Qpqpuj8FRxM5jmm8P4VIwMfk/b0/Xuml98davD/1lVF2RM+2P2botHut3LA//ZcGphyRpz8N/cIUrSieP294b3xVfZA/x3NS6NDzfD/zq6lLzlljP7kM22M7SAw/p1q1shfmUb8vwHErGvFYv/nV8+mFP1K/OoeVx5+TOr9XaHydroQSv+8YEfT+oA4/Wnk7Eyb6HD8FaA+0Ll0RP3odtH+T1d2+riJMtWqxD78qBcF+3O8ev9GFxpJLTSm/UTOhMQBbM79TbdYTWW08v4BlGXQiikO/un2SYuOwRb9wAbypSQlDv55kdnqthz6/4acfTHnROL9+DVrf42g0vwHGYfgHuTC/XGg7F5THKr+3cb5JC2Ekv6FLJifoAxy/GG6BvHhMDr8/zlvuFurhviC3Ij2+9AQ/iapqjS+pFj+QCKXf1vsgP+uhpZGzGCY/WzGMbKOrKj8VvBoOVdQuP/VG7QIFZTE/GYbNbxNqMz/qpybi4Js1PxrTl6ICETg/YQ4T8fzAOj/mUtxuP1o9P50wnbTFCD8/S7wBxgSWPj8I2ncSdFQ7P0tsxmS54zU/BF7ofWMQLz9AEAdHek8iP0MHbusovwg/\",\"dtype\":\"float64\",\"shape\":[75]},\"y\":{\"__ndarray__\":\"GhExyth1ND/Sv8nbtpRIP2vylNV0PVE/aTum7souWD/At0SJ8fVgPw3Iuahxymc/MSNhhJWvcD/bTfBN02d3P2zb5nxnaoA/CD5h5MAGhz8NmeH1TyaQP+zrCsc9p5Y/LbKd76fGnz/bLW5ISEmmPww9YvTcQq8/JV2OstnstT8Er5Y7M8G+P0c+r3jqkcU/5h99k6ZBzj88bCIzFzjVP4enV8oyxN0//yH99nXg5D8qOpLLf0jtP5kqGJXUifQ/c9cS8kHP/D+/DpwzojQEQIEmwoanVwxA4lgXt9HgE0BSSZ2AJuIbQAMJih9jjiNA5q4l5INuK0AwTKYKRj0zQNv5fmq8/DpAaCJseHrtQkB/+zpwzoxKQM3MzMzMeFJAZmZmZmZqWEAAAAAAAFxeQM3MzMzMJmJAmpmZmZkfZUBmZmZmZhhoQDMzMzMzEWtAAAAAAAAKbkBmZmZmZoFwQM3MzMzM/XFAMzMzMzN6c0CamZmZmfZ0QAAAAAAAc3ZAZmZmZmbvd0DNzMzMzGt5QDMzMzMz6HpAmpmZmZlkfEAAAAAAAOF9QGZmZmZmXX9AZmZmZuZsgECamZmZGSuBQM3MzMxM6YFAAAAAAICngkAzMzMzs2WDQGZmZmbmI4RAmpmZmRnihEDNzMzMTKCFQAAAAACAXoZAMzMzM7Mch0BmZmZm5tqHQJqZmZkZmYhAzczMzExXiUAAAAAAgBWKQDMzMzOz04pAZmZmZuaRi0CamZmZGVCMQM3MzMxMDo1AAAAAAIDMjUAzMzMzs4qOQGZmZmbmSI9A\",\"dtype\":\"float64\",\"shape\":[75]}},\"selected\":{\"id\":\"cdeef013-6006-4929-9cb2-354e20c20b4f\",\"type\":\"Selection\"},\"selection_policy\":{\"id\":\"932c1953-6610-4b89-a9f5-be9fdb08bc47\",\"type\":\"UnionRenderers\"}},\"id\":\"b0c35e8d-080a-41c5-8d08-aeb8833f1e10\",\"type\":\"ColumnDataSource\"},{\"attributes\":{},\"id\":\"dcba0551-ef75-4b3e-865a-aa6d0b151bad\",\"type\":\"UnionRenderers\"},{\"attributes\":{\"plot\":null,\"text\":\"\"},\"id\":\"d4e4a7d4-9a73-4c2e-ab8d-f8f9f1c7dc45\",\"type\":\"Title\"},{\"attributes\":{\"callback\":null,\"data\":{\"x\":{\"__ndarray__\":\"7x98AeXKa7/WZUG4LGVcv6R6Yso9pV4/Umpjb5gWeD8A1KcxLhCFP1j6H0zJ844/GIAJhrrilD+ZttCspMmaP+cgQyLInKA/GKPMC1IepD/ZkX2fkO6nP1f8ynbKEqw/tbgVroZFsD+7748snWWyP7YS5cs+IbQ/HoL+0DmwtT9vVhfMbEu3P7CyN6oz9Lg/z962Qpqpuj8FRxM5jmm8P4VIwMfk/b0/Xuml98davD/1lVF2RM+2P2botHut3LA//ZcGphyRpz8N/cIUrSieP294b3xVfZA/x3NS6NDzfD/zq6lLzlljP7kM22M7SAw/p1q1shfmUb8vwHErGvFYv/nV8+mFP1K/OoeVx5+TOr9XaHydroQSv+8YEfT+oA4/Wnk7Eyb6HD8FaA+0Ll0RP3odtH+T1d2+riJMtWqxD78qBcF+3O8ev9GFxpJLTSm/UTOhMQBbM79TbdYTWW08v4BlGXQiikO/un2SYuOwRb9wAbypSQlDv55kdnqthz6/4acfTHnROL9+DVrf42g0vwHGYfgHuTC/XGg7F5THKr+3cb5JC2Ekv6FLJifoAxy/GG6BvHhMDr8/zlvuFurhviC3Ij2+9AQ/iapqjS+pFj+QCKXf1vsgP+uhpZGzGCY/WzGMbKOrKj8VvBoOVdQuP/VG7QIFZTE/GYbNbxNqMz/qpybi4Js1PxrTl6ICETg/YQ4T8fzAOj/mUtxuP1o9P50wnbTFCD8/S7wBxgSWPj8I2ncSdFQ7P0tsxmS54zU/BF7ofWMQLz9AEAdHek8iP0MHbusovwg/\",\"dtype\":\"float64\",\"shape\":[75]},\"y\":{\"__ndarray__\":\"GhExyth1ND/Sv8nbtpRIP2vylNV0PVE/aTum7souWD/At0SJ8fVgPw3Iuahxymc/MSNhhJWvcD/bTfBN02d3P2zb5nxnaoA/CD5h5MAGhz8NmeH1TyaQP+zrCsc9p5Y/LbKd76fGnz/bLW5ISEmmPww9YvTcQq8/JV2OstnstT8Er5Y7M8G+P0c+r3jqkcU/5h99k6ZBzj88bCIzFzjVP4enV8oyxN0//yH99nXg5D8qOpLLf0jtP5kqGJXUifQ/c9cS8kHP/D+/DpwzojQEQIEmwoanVwxA4lgXt9HgE0BSSZ2AJuIbQAMJih9jjiNA5q4l5INuK0AwTKYKRj0zQNv5fmq8/DpAaCJseHrtQkB/+zpwzoxKQM3MzMzMeFJAZmZmZmZqWEAAAAAAAFxeQM3MzMzMJmJAmpmZmZkfZUBmZmZmZhhoQDMzMzMzEWtAAAAAAAAKbkBmZmZmZoFwQM3MzMzM/XFAMzMzMzN6c0CamZmZmfZ0QAAAAAAAc3ZAZmZmZmbvd0DNzMzMzGt5QDMzMzMz6HpAmpmZmZlkfEAAAAAAAOF9QGZmZmZmXX9AZmZmZuZsgECamZmZGSuBQM3MzMxM6YFAAAAAAICngkAzMzMzs2WDQGZmZmbmI4RAmpmZmRnihEDNzMzMTKCFQAAAAACAXoZAMzMzM7Mch0BmZmZm5tqHQJqZmZkZmYhAzczMzExXiUAAAAAAgBWKQDMzMzOz04pAZmZmZuaRi0CamZmZGVCMQM3MzMxMDo1AAAAAAIDMjUAzMzMzs4qOQGZmZmbmSI9A\",\"dtype\":\"float64\",\"shape\":[75]}},\"selected\":{\"id\":\"b1ba5b5b-6251-4a9c-b81c-084a66a46f86\",\"type\":\"Selection\"},\"selection_policy\":{\"id\":\"79c5ca2b-92b4-41c6-a2b8-01dbe34067be\",\"type\":\"UnionRenderers\"}},\"id\":\"a451569a-76f5-4e98-8db0-ab690f1c6fa1\",\"type\":\"ColumnDataSource\"},{\"attributes\":{},\"id\":\"79c5ca2b-92b4-41c6-a2b8-01dbe34067be\",\"type\":\"UnionRenderers\"},{\"attributes\":{\"above\":[{\"id\":\"794e7804-f760-424a-b034-4bd79402d588\",\"type\":\"Legend\"}],\"below\":[{\"id\":\"c216549e-3e0b-45ea-ad57-fa16f837511b\",\"type\":\"LinearAxis\"}],\"left\":[{\"id\":\"129b5ab8-dfc3-4c9b-9c0d-07183347329a\",\"type\":\"LogAxis\"}],\"plot_height\":500,\"plot_width\":400,\"renderers\":[{\"id\":\"c216549e-3e0b-45ea-ad57-fa16f837511b\",\"type\":\"LinearAxis\"},{\"id\":\"639b982a-d330-4e22-88cb-18804c8f12c7\",\"type\":\"Grid\"},{\"id\":\"129b5ab8-dfc3-4c9b-9c0d-07183347329a\",\"type\":\"LogAxis\"},{\"id\":\"c1a15538-578a-40fe-8959-152779b48c9a\",\"type\":\"Grid\"},{\"id\":\"ef0b2c4b-b1c0-4c65-a8e1-9464d3814e5b\",\"type\":\"BoxAnnotation\"},{\"id\":\"89eb4449-0f38-40e2-8b9c-54dc93ac2c86\",\"type\":\"GlyphRenderer\"},{\"id\":\"d41e86ec-7de1-49d5-a1f0-06f8d794f12a\",\"type\":\"GlyphRenderer\"},{\"id\":\"e1f40264-0b0c-4a9a-a452-56f0c45a1dc3\",\"type\":\"GlyphRenderer\"},{\"id\":\"ae038465-27d3-4f68-a876-96271770e0d9\",\"type\":\"GlyphRenderer\"},{\"id\":\"066e7272-9914-4f82-9145-47f06fc2159f\",\"type\":\"GlyphRenderer\"},{\"id\":\"ff6b1f36-8c28-4397-9353-a17a5d7a8910\",\"type\":\"GlyphRenderer\"},{\"id\":\"794e7804-f760-424a-b034-4bd79402d588\",\"type\":\"Legend\"}],\"title\":{\"id\":\"d4e4a7d4-9a73-4c2e-ab8d-f8f9f1c7dc45\",\"type\":\"Title\"},\"toolbar\":{\"id\":\"64a9ea79-1e0d-4592-a4ff-d53abec20c70\",\"type\":\"Toolbar\"},\"toolbar_location\":null,\"x_range\":{\"id\":\"f28963f2-a2bb-4ce7-a5fe-f19c1c7d09fa\",\"type\":\"Range1d\"},\"x_scale\":{\"id\":\"9455895e-62ca-4b23-9163-27a352355ec2\",\"type\":\"LinearScale\"},\"y_range\":{\"id\":\"060a65bf-3236-4729-9369-fba52ba51e15\",\"type\":\"Range1d\"},\"y_scale\":{\"id\":\"622561e8-b8a6-4b00-b5ca-d147715c5050\",\"type\":\"LogScale\"}},\"id\":\"edc1c000-ee3d-4913-8d8b-11b9e2930ad0\",\"subtype\":\"Figure\",\"type\":\"Plot\"},{\"attributes\":{\"ticker\":null},\"id\":\"386f679e-2c9c-4013-a7c0-d4b0d9c97a04\",\"type\":\"LogTickFormatter\"},{\"attributes\":{\"fill_alpha\":{\"value\":0.1},\"fill_color\":{\"value\":\"#1f77b4\"},\"line_alpha\":{\"value\":0.1},\"line_color\":{\"value\":\"#1f77b4\"},\"x\":{\"field\":\"x\"},\"y\":{\"field\":\"y\"}},\"id\":\"63cfbf11-28f5-45b2-9ac5-7604ed33b78e\",\"type\":\"Triangle\"},{\"attributes\":{},\"id\":\"8960ff69-f4a2-47c0-a7c8-cc200c8de349\",\"type\":\"BasicTickFormatter\"},{\"attributes\":{\"plot\":{\"id\":\"edc1c000-ee3d-4913-8d8b-11b9e2930ad0\",\"subtype\":\"Figure\",\"type\":\"Plot\"},\"ticker\":{\"id\":\"373f4482-685a-4be8-a256-1ae6133957b2\",\"type\":\"BasicTicker\"}},\"id\":\"639b982a-d330-4e22-88cb-18804c8f12c7\",\"type\":\"Grid\"},{\"attributes\":{},\"id\":\"a4c3c51e-a331-4d54-999e-af07eb240cd6\",\"type\":\"Selection\"},{\"attributes\":{\"source\":{\"id\":\"3f2c254d-9d77-47d1-a2e5-2622afcc0aaf\",\"type\":\"ColumnDataSource\"}},\"id\":\"9e389850-ceb5-4156-8e59-af0ec006d759\",\"type\":\"CDSView\"},{\"attributes\":{},\"id\":\"9e49cde5-5357-4535-a2d5-5faccdec8757\",\"type\":\"Selection\"},{\"attributes\":{\"data_source\":{\"id\":\"3f2c254d-9d77-47d1-a2e5-2622afcc0aaf\",\"type\":\"ColumnDataSource\"},\"glyph\":{\"id\":\"10391d7a-7529-4509-8ab0-5209f788b69d\",\"type\":\"Line\"},\"hover_glyph\":null,\"muted_glyph\":null,\"nonselection_glyph\":{\"id\":\"82d0c76d-6a90-4bcd-ac3f-f7110aa7c4b1\",\"type\":\"Line\"},\"selection_glyph\":null,\"view\":{\"id\":\"9e389850-ceb5-4156-8e59-af0ec006d759\",\"type\":\"CDSView\"}},\"id\":\"c542915f-fe66-4593-9eca-ddd28cdfaa6a\",\"type\":\"GlyphRenderer\"},{\"attributes\":{},\"id\":\"cfd9b347-c6e8-486c-bd86-2bd3ab3485e2\",\"type\":\"UnionRenderers\"},{\"attributes\":{},\"id\":\"a7db1663-c885-4fd0-81e4-82fd8e155748\",\"type\":\"UnionRenderers\"},{\"attributes\":{},\"id\":\"1d941752-bd51-418e-842e-de48e09a0694\",\"type\":\"UnionRenderers\"},{\"attributes\":{\"data_source\":{\"id\":\"a451569a-76f5-4e98-8db0-ab690f1c6fa1\",\"type\":\"ColumnDataSource\"},\"glyph\":{\"id\":\"2597a3f4-af2c-4ded-b204-abef28c65df2\",\"type\":\"Triangle\"},\"hover_glyph\":null,\"muted_glyph\":null,\"nonselection_glyph\":{\"id\":\"63cfbf11-28f5-45b2-9ac5-7604ed33b78e\",\"type\":\"Triangle\"},\"selection_glyph\":null,\"view\":{\"id\":\"95546f16-b73f-4d26-aeda-e5cdc45ab630\",\"type\":\"CDSView\"}},\"id\":\"96051dd2-e283-4f7c-bbda-1410c79e9bde\",\"type\":\"GlyphRenderer\"},{\"attributes\":{},\"id\":\"4bb65776-c54e-4d96-8d8d-6959a07c4e12\",\"type\":\"Selection\"},{\"attributes\":{},\"id\":\"4abb2f48-a37a-4f53-ad34-6cd1944969fc\",\"type\":\"UnionRenderers\"},{\"attributes\":{},\"id\":\"901a761f-69dd-4ef7-b443-ab3882066294\",\"type\":\"Selection\"},{\"attributes\":{\"fill_alpha\":{\"value\":0.7},\"fill_color\":{\"value\":\"#377eb8\"},\"line_alpha\":{\"value\":0.7},\"line_color\":{\"value\":\"#377eb8\"},\"x\":{\"field\":\"x\"},\"y\":{\"field\":\"y\"}},\"id\":\"2597a3f4-af2c-4ded-b204-abef28c65df2\",\"type\":\"Triangle\"},{\"attributes\":{},\"id\":\"58c33c85-b263-47e6-ae1e-539c4e39c376\",\"type\":\"UnionRenderers\"},{\"attributes\":{},\"id\":\"47c7c434-d0fb-4ae9-890d-43ea1a154a33\",\"type\":\"Selection\"},{\"attributes\":{\"children\":[{\"id\":\"ce9ee9ca-a480-43e9-89f6-7f6ef4bda0fe\",\"type\":\"ToolbarBox\"},{\"id\":\"030eae6b-31a9-4246-831f-15655aa0815b\",\"type\":\"Column\"}]},\"id\":\"dd67ffbe-97ae-49c2-b22d-2c67454d7410\",\"type\":\"Column\"},{\"attributes\":{\"line_alpha\":0.1,\"line_color\":\"#1f77b4\",\"line_width\":3,\"x\":{\"field\":\"x\"},\"y\":{\"field\":\"y\"}},\"id\":\"82d0c76d-6a90-4bcd-ac3f-f7110aa7c4b1\",\"type\":\"Line\"},{\"attributes\":{\"tools\":[{\"id\":\"6abe0136-9f74-421f-b5f8-2335087da6eb\",\"type\":\"PanTool\"},{\"id\":\"58e35968-8b6d-497c-8f7f-b1d4e63ae2c3\",\"type\":\"WheelZoomTool\"},{\"id\":\"770c8ba8-737a-45d4-9f90-5c3f681218ba\",\"type\":\"BoxZoomTool\"},{\"id\":\"308996d4-98c2-49b7-8e2a-fbdb1e023d05\",\"type\":\"SaveTool\"},{\"id\":\"78c7f456-d9a2-4ea3-b661-4be855333fa5\",\"type\":\"ResetTool\"},{\"id\":\"aaf7907e-77e0-461e-bc08-3a4190935a8d\",\"type\":\"HelpTool\"},{\"id\":\"7498b953-20f3-42b8-8ed6-d985dbb348d2\",\"type\":\"PanTool\"},{\"id\":\"cd898d0d-a1c6-4019-9c56-d9bbb6b41b82\",\"type\":\"WheelZoomTool\"},{\"id\":\"9c71860e-b87a-4743-bc45-bac278c0a3fd\",\"type\":\"BoxZoomTool\"},{\"id\":\"f161602f-1731-4659-a492-b6f840988e8d\",\"type\":\"SaveTool\"},{\"id\":\"2ad7b2bb-7282-4585-8c6b-7189c2199306\",\"type\":\"ResetTool\"},{\"id\":\"99731cd9-13b0-4fbf-aac8-669c5ac8a28a\",\"type\":\"HelpTool\"}]},\"id\":\"bc32bfd5-c65b-49ef-962e-3e90f64ea713\",\"type\":\"ProxyToolbar\"},{\"attributes\":{},\"id\":\"373f4482-685a-4be8-a256-1ae6133957b2\",\"type\":\"BasicTicker\"},{\"attributes\":{\"toolbar\":{\"id\":\"bc32bfd5-c65b-49ef-962e-3e90f64ea713\",\"type\":\"ProxyToolbar\"},\"toolbar_location\":\"above\"},\"id\":\"ce9ee9ca-a480-43e9-89f6-7f6ef4bda0fe\",\"type\":\"ToolbarBox\"},{\"attributes\":{\"data_source\":{\"id\":\"b0c35e8d-080a-41c5-8d08-aeb8833f1e10\",\"type\":\"ColumnDataSource\"},\"glyph\":{\"id\":\"d0302695-5786-42c8-bd89-dfe5e48796c5\",\"type\":\"Line\"},\"hover_glyph\":null,\"muted_glyph\":null,\"nonselection_glyph\":{\"id\":\"cd6d2215-cd61-45d4-bbb8-98a37d53a1f9\",\"type\":\"Line\"},\"selection_glyph\":null,\"view\":{\"id\":\"b6fd01f7-841d-4dd9-ae2d-2b82032b5ab1\",\"type\":\"CDSView\"}},\"id\":\"30a023ea-e1ec-423d-9d95-7f11fe8fab5b\",\"type\":\"GlyphRenderer\"},{\"attributes\":{\"label\":{\"value\":\"CRD\"},\"renderers\":[{\"id\":\"07142435-dcae-4635-846c-187f0849c1cd\",\"type\":\"GlyphRenderer\"},{\"id\":\"59f9bd63-a1c1-4a00-9aad-e282d0d3c7f1\",\"type\":\"GlyphRenderer\"}]},\"id\":\"c5439602-ba93-4f67-8367-61150b490bfb\",\"type\":\"LegendItem\"},{\"attributes\":{\"callback\":null,\"end\":0.12057402477000001,\"start\":-0.0027312017700000003},\"id\":\"f28963f2-a2bb-4ce7-a5fe-f19c1c7d09fa\",\"type\":\"Range1d\"},{\"attributes\":{\"items\":[{\"id\":\"b7c59ecc-58b4-4213-b3c6-fe4874b785e7\",\"type\":\"LegendItem\"},{\"id\":\"e7cb922d-40d8-4267-805f-9f59ddff125f\",\"type\":\"LegendItem\"},{\"id\":\"22a8477e-2524-444e-9b25-93434e8c7da5\",\"type\":\"LegendItem\"}],\"label_text_font_size\":{\"value\":\"8pt\"},\"location\":\"top_center\",\"orientation\":\"horizontal\",\"plot\":{\"id\":\"edc1c000-ee3d-4913-8d8b-11b9e2930ad0\",\"subtype\":\"Figure\",\"type\":\"Plot\"}},\"id\":\"794e7804-f760-424a-b034-4bd79402d588\",\"type\":\"Legend\"},{\"attributes\":{\"source\":{\"id\":\"b0c35e8d-080a-41c5-8d08-aeb8833f1e10\",\"type\":\"ColumnDataSource\"}},\"id\":\"b6fd01f7-841d-4dd9-ae2d-2b82032b5ab1\",\"type\":\"CDSView\"},{\"attributes\":{},\"id\":\"622561e8-b8a6-4b00-b5ca-d147715c5050\",\"type\":\"LogScale\"},{\"attributes\":{\"label\":{\"value\":\"WGT igg=10\"},\"renderers\":[{\"id\":\"96051dd2-e283-4f7c-bbda-1410c79e9bde\",\"type\":\"GlyphRenderer\"},{\"id\":\"30a023ea-e1ec-423d-9d95-7f11fe8fab5b\",\"type\":\"GlyphRenderer\"}]},\"id\":\"93889bcf-f63f-417d-9e57-c43ebdae67de\",\"type\":\"LegendItem\"},{\"attributes\":{\"label\":{\"value\":\"WGT igg=1\"},\"renderers\":[{\"id\":\"93077374-9f7c-4b6a-a370-2a4cfb1d684c\",\"type\":\"GlyphRenderer\"},{\"id\":\"c542915f-fe66-4593-9eca-ddd28cdfaa6a\",\"type\":\"GlyphRenderer\"}]},\"id\":\"b4b9ca1c-7924-4a87-92e6-77e15c3c0a92\",\"type\":\"LegendItem\"},{\"attributes\":{\"active_drag\":\"auto\",\"active_inspect\":\"auto\",\"active_scroll\":\"auto\",\"active_tap\":\"auto\",\"tools\":[{\"id\":\"7498b953-20f3-42b8-8ed6-d985dbb348d2\",\"type\":\"PanTool\"},{\"id\":\"cd898d0d-a1c6-4019-9c56-d9bbb6b41b82\",\"type\":\"WheelZoomTool\"},{\"id\":\"9c71860e-b87a-4743-bc45-bac278c0a3fd\",\"type\":\"BoxZoomTool\"},{\"id\":\"f161602f-1731-4659-a492-b6f840988e8d\",\"type\":\"SaveTool\"},{\"id\":\"2ad7b2bb-7282-4585-8c6b-7189c2199306\",\"type\":\"ResetTool\"},{\"id\":\"99731cd9-13b0-4fbf-aac8-669c5ac8a28a\",\"type\":\"HelpTool\"}]},\"id\":\"64a9ea79-1e0d-4592-a4ff-d53abec20c70\",\"type\":\"Toolbar\"},{\"attributes\":{},\"id\":\"9455895e-62ca-4b23-9163-27a352355ec2\",\"type\":\"LinearScale\"},{\"attributes\":{\"axis_label\":\"pressure [mb]\",\"formatter\":{\"id\":\"386f679e-2c9c-4013-a7c0-d4b0d9c97a04\",\"type\":\"LogTickFormatter\"},\"plot\":{\"id\":\"edc1c000-ee3d-4913-8d8b-11b9e2930ad0\",\"subtype\":\"Figure\",\"type\":\"Plot\"},\"ticker\":{\"id\":\"f64d9573-b07e-419a-8796-7ef1f3fe0a37\",\"type\":\"LogTicker\"}},\"id\":\"129b5ab8-dfc3-4c9b-9c0d-07183347329a\",\"type\":\"LogAxis\"},{\"attributes\":{\"axis_label\":\"cooling rate [K/day]\",\"formatter\":{\"id\":\"8960ff69-f4a2-47c0-a7c8-cc200c8de349\",\"type\":\"BasicTickFormatter\"},\"plot\":{\"id\":\"edc1c000-ee3d-4913-8d8b-11b9e2930ad0\",\"subtype\":\"Figure\",\"type\":\"Plot\"},\"ticker\":{\"id\":\"373f4482-685a-4be8-a256-1ae6133957b2\",\"type\":\"BasicTicker\"}},\"id\":\"c216549e-3e0b-45ea-ad57-fa16f837511b\",\"type\":\"LinearAxis\"},{\"attributes\":{\"num_minor_ticks\":10},\"id\":\"f64d9573-b07e-419a-8796-7ef1f3fe0a37\",\"type\":\"LogTicker\"},{\"attributes\":{\"dimension\":1,\"plot\":{\"id\":\"edc1c000-ee3d-4913-8d8b-11b9e2930ad0\",\"subtype\":\"Figure\",\"type\":\"Plot\"},\"ticker\":{\"id\":\"f64d9573-b07e-419a-8796-7ef1f3fe0a37\",\"type\":\"LogTicker\"}},\"id\":\"c1a15538-578a-40fe-8959-152779b48c9a\",\"type\":\"Grid\"},{\"attributes\":{},\"id\":\"cdeef013-6006-4929-9cb2-354e20c20b4f\",\"type\":\"Selection\"},{\"attributes\":{\"bottom_units\":\"screen\",\"fill_alpha\":{\"value\":0.5},\"fill_color\":{\"value\":\"lightgrey\"},\"left_units\":\"screen\",\"level\":\"overlay\",\"line_alpha\":{\"value\":1.0},\"line_color\":{\"value\":\"black\"},\"line_dash\":[4,4],\"line_width\":{\"value\":2},\"plot\":null,\"render_mode\":\"css\",\"right_units\":\"screen\",\"top_units\":\"screen\"},\"id\":\"ef0b2c4b-b1c0-4c65-a8e1-9464d3814e5b\",\"type\":\"BoxAnnotation\"},{\"attributes\":{},\"id\":\"7498b953-20f3-42b8-8ed6-d985dbb348d2\",\"type\":\"PanTool\"},{\"attributes\":{},\"id\":\"cd898d0d-a1c6-4019-9c56-d9bbb6b41b82\",\"type\":\"WheelZoomTool\"},{\"attributes\":{\"overlay\":{\"id\":\"ef0b2c4b-b1c0-4c65-a8e1-9464d3814e5b\",\"type\":\"BoxAnnotation\"}},\"id\":\"9c71860e-b87a-4743-bc45-bac278c0a3fd\",\"type\":\"BoxZoomTool\"},{\"attributes\":{},\"id\":\"f161602f-1731-4659-a492-b6f840988e8d\",\"type\":\"SaveTool\"},{\"attributes\":{},\"id\":\"2ad7b2bb-7282-4585-8c6b-7189c2199306\",\"type\":\"ResetTool\"},{\"attributes\":{},\"id\":\"99731cd9-13b0-4fbf-aac8-669c5ac8a28a\",\"type\":\"HelpTool\"},{\"attributes\":{\"callback\":null,\"end\":0.01,\"start\":1020},\"id\":\"060a65bf-3236-4729-9369-fba52ba51e15\",\"type\":\"Range1d\"},{\"attributes\":{},\"id\":\"932c1953-6610-4b89-a9f5-be9fdb08bc47\",\"type\":\"UnionRenderers\"},{\"attributes\":{\"callback\":null,\"data\":{\"x\":{\"__ndarray__\":\"OcdTa25Apb8KSEeupcSjvxlThUZ9gKC/o5J8HR/Kmb8CE/9Kw/2Rv+1UA8jlA4O/6XRbTZf4Nb96eYV3lQuDP14PUUUkHJQ/pSemt7Fsnz8JNdFUQLulP11RjCQoG6w/tjepfJBksT/gnOFrp2S0Py0v4gOHjLY/bTijG540uD994xAWure5P+q/WveHFLs/s05scOhOvD+qAXPCvny9P/Y5iOe2jr4/QxaSYU8auz8KXUBqPqeyP2uiuKujH6Y/7NiywzISmD9lXpWrIlOHP8/rDOqbb3E/XL3ei5x2Uj8/pJhIL6FCP8GqqF2jhDU/JrdHomAVIr/bKFVeWvdDv7SeaMUk4EK/jj3bivJvMr8VxQwYpdElv69h8MBAqhy/29xk1NYzE78E6rkZdhEav8mP9THCTiK/fQuKW4TcJL95K6uHFmAnv1s8BotorSq/MMEiUoOtL7/4+XzSJBs0v/HcBeX00jq/qrOo9neYPb+4xW+2ijM5v7y02sO91DO/A4pEyjxDML/wlhKGtvcqv+E7mJOI/CW/yoBOU7kmIb/QOboiMIcYv1CDD6po+gy/hDr7GB2u8L4fP6+KhC75Pvf1zhbwrBA/UTcJIZ+rGj/QiGX5kvshP9qMxHDuLCY/qhijS83jKT88T7cJQjQtP3JFkLONIzA/vVQMcEysMT/8MHjYyFUzP1FfhMZAPjU/mjnLRShxNz/8Ld8Nub85P0N7s3ZSfjs/VxSaF2ySOz+L6LXPW085PyoUyd6pPDU/xEjj8T5yMD9a75CoRjgnP19lbqR7MRs/\",\"dtype\":\"float64\",\"shape\":[75]},\"y\":{\"__ndarray__\":\"GhExyth1ND/Sv8nbtpRIP2vylNV0PVE/aTum7souWD/At0SJ8fVgPw3Iuahxymc/MSNhhJWvcD/bTfBN02d3P2zb5nxnaoA/CD5h5MAGhz8NmeH1TyaQP+zrCsc9p5Y/LbKd76fGnz/bLW5ISEmmPww9YvTcQq8/JV2OstnstT8Er5Y7M8G+P0c+r3jqkcU/5h99k6ZBzj88bCIzFzjVP4enV8oyxN0//yH99nXg5D8qOpLLf0jtP5kqGJXUifQ/c9cS8kHP/D+/DpwzojQEQIEmwoanVwxA4lgXt9HgE0BSSZ2AJuIbQAMJih9jjiNA5q4l5INuK0AwTKYKRj0zQNv5fmq8/DpAaCJseHrtQkB/+zpwzoxKQM3MzMzMeFJAZmZmZmZqWEAAAAAAAFxeQM3MzMzMJmJAmpmZmZkfZUBmZmZmZhhoQDMzMzMzEWtAAAAAAAAKbkBmZmZmZoFwQM3MzMzM/XFAMzMzMzN6c0CamZmZmfZ0QAAAAAAAc3ZAZmZmZmbvd0DNzMzMzGt5QDMzMzMz6HpAmpmZmZlkfEAAAAAAAOF9QGZmZmZmXX9AZmZmZuZsgECamZmZGSuBQM3MzMxM6YFAAAAAAICngkAzMzMzs2WDQGZmZmbmI4RAmpmZmRnihEDNzMzMTKCFQAAAAACAXoZAMzMzM7Mch0BmZmZm5tqHQJqZmZkZmYhAzczMzExXiUAAAAAAgBWKQDMzMzOz04pAZmZmZuaRi0CamZmZGVCMQM3MzMxMDo1AAAAAAIDMjUAzMzMzs4qOQGZmZmbmSI9A\",\"dtype\":\"float64\",\"shape\":[75]}},\"selected\":{\"id\":\"1e432b52-47db-476d-9e63-f42cfe052ebd\",\"type\":\"Selection\"},\"selection_policy\":{\"id\":\"cfd9b347-c6e8-486c-bd86-2bd3ab3485e2\",\"type\":\"UnionRenderers\"}},\"id\":\"259b4e20-a0a4-4450-8ba3-63f540be10c6\",\"type\":\"ColumnDataSource\"},{\"attributes\":{\"data_source\":{\"id\":\"259b4e20-a0a4-4450-8ba3-63f540be10c6\",\"type\":\"ColumnDataSource\"},\"glyph\":{\"id\":\"de0d30e0-d7e5-49e8-bcc4-a984650b0a90\",\"type\":\"Circle\"},\"hover_glyph\":null,\"muted_glyph\":null,\"nonselection_glyph\":{\"id\":\"e40a608f-d8a6-4ce2-8273-b6bc004ce17c\",\"type\":\"Circle\"},\"selection_glyph\":null,\"view\":{\"id\":\"349c3af9-7aab-4861-8ed6-3b720720a8a2\",\"type\":\"CDSView\"}},\"id\":\"89eb4449-0f38-40e2-8b9c-54dc93ac2c86\",\"type\":\"GlyphRenderer\"},{\"attributes\":{},\"id\":\"308996d4-98c2-49b7-8e2a-fbdb1e023d05\",\"type\":\"SaveTool\"},{\"attributes\":{\"overlay\":{\"id\":\"7502ead2-562b-4af3-9340-c21902a7a95f\",\"type\":\"BoxAnnotation\"}},\"id\":\"770c8ba8-737a-45d4-9f90-5c3f681218ba\",\"type\":\"BoxZoomTool\"},{\"attributes\":{},\"id\":\"58e35968-8b6d-497c-8f7f-b1d4e63ae2c3\",\"type\":\"WheelZoomTool\"},{\"attributes\":{\"line_color\":\"#4daf4a\",\"line_width\":1.5,\"x\":{\"field\":\"x\"},\"y\":{\"field\":\"y\"}},\"id\":\"071c8165-5ad3-4a64-a8b0-2d9884362214\",\"type\":\"Line\"},{\"attributes\":{},\"id\":\"6abe0136-9f74-421f-b5f8-2335087da6eb\",\"type\":\"PanTool\"},{\"attributes\":{\"line_alpha\":0.1,\"line_color\":\"#1f77b4\",\"line_width\":1.5,\"x\":{\"field\":\"x\"},\"y\":{\"field\":\"y\"}},\"id\":\"5e5a0722-b21e-4698-8142-1021447016d8\",\"type\":\"Line\"},{\"attributes\":{\"callback\":null,\"data\":{\"x\":{\"__ndarray__\":\"qLwXTPUFg7+Ybg2B54t+v/jZnNDRjWy/hN7tIKKqTj/xFp0rkLl3P9+sCtJhxYY/PjCyKuNbkT8p4HYfgtWXP78Z+vw3/J4/BIe8ijFVoz+pRLsFcIWnPzQt5CO/BKw/n/gv5YNrsD8svEJUHrOyPzpFwzlVhLQ/xUTCeH8ctj8roWBrW7m3PydgHcJWW7k/du3iaFQBuz/wToBZiKu8P5Viqg0MKL4/S5oWJ4QvvD82yScVoRm2P+Cwn4unmq8/hFjQkP5SpT+KMdRUW1maPw1KpZP914s/OpcASiw6eD/ShO6Vp5piP2y1RjvdU0A/Er/15SEQQr+sNteeTVZSv+MvKKYTBU6/fOUTSRe3N7+JnODUjrEVv2VKKnwY4QE/0q1owjcTFD+kK9OanIf5PqD6ajPSHw2/PYSaTy5THr/i+aP+ST0nv5E2nBV0azC/pJPUAHqANr+KhyU/tlM+v9O2zoQYDkS/rv+amoTgRb+OYf8UGTBDv4z1jzrIDz+/aVUE8ASCOb82e+3IghE1vxFZYm2lOjG/e6f2XdZXK79fVe+yQXkkvyYNv394Vhu/Pg4vvph2C781Nial8xyvvqQICYoL0Qk/OpMpOA9gGT9lgP8+x20iP51apc9hkic/E2MoTsYdLD9hNL6zkhMwP7FIwLxj8jE/MkBufhDMMz8ooyb5+MI1P5IwMTyX8Tc/61rHLfBZOj+N5M52X7k8P9S/6FY2UT4/r/sAlkb2PT9qxmK4uPs6P0gST8SW+TU/4j0/4dUkMD9+rcF2TZMkP7abpaV/dxI/\",\"dtype\":\"float64\",\"shape\":[75]},\"y\":{\"__ndarray__\":\"GhExyth1ND/Sv8nbtpRIP2vylNV0PVE/aTum7souWD/At0SJ8fVgPw3Iuahxymc/MSNhhJWvcD/bTfBN02d3P2zb5nxnaoA/CD5h5MAGhz8NmeH1TyaQP+zrCsc9p5Y/LbKd76fGnz/bLW5ISEmmPww9YvTcQq8/JV2OstnstT8Er5Y7M8G+P0c+r3jqkcU/5h99k6ZBzj88bCIzFzjVP4enV8oyxN0//yH99nXg5D8qOpLLf0jtP5kqGJXUifQ/c9cS8kHP/D+/DpwzojQEQIEmwoanVwxA4lgXt9HgE0BSSZ2AJuIbQAMJih9jjiNA5q4l5INuK0AwTKYKRj0zQNv5fmq8/DpAaCJseHrtQkB/+zpwzoxKQM3MzMzMeFJAZmZmZmZqWEAAAAAAAFxeQM3MzMzMJmJAmpmZmZkfZUBmZmZmZhhoQDMzMzMzEWtAAAAAAAAKbkBmZmZmZoFwQM3MzMzM/XFAMzMzMzN6c0CamZmZmfZ0QAAAAAAAc3ZAZmZmZmbvd0DNzMzMzGt5QDMzMzMz6HpAmpmZmZlkfEAAAAAAAOF9QGZmZmZmXX9AZmZmZuZsgECamZmZGSuBQM3MzMxM6YFAAAAAAICngkAzMzMzs2WDQGZmZmbmI4RAmpmZmRnihEDNzMzMTKCFQAAAAACAXoZAMzMzM7Mch0BmZmZm5tqHQJqZmZkZmYhAzczMzExXiUAAAAAAgBWKQDMzMzOz04pAZmZmZuaRi0CamZmZGVCMQM3MzMxMDo1AAAAAAIDMjUAzMzMzs4qOQGZmZmbmSI9A\",\"dtype\":\"float64\",\"shape\":[75]}},\"selected\":{\"id\":\"9e49cde5-5357-4535-a2d5-5faccdec8757\",\"type\":\"Selection\"},\"selection_policy\":{\"id\":\"dcba0551-ef75-4b3e-865a-aa6d0b151bad\",\"type\":\"UnionRenderers\"}},\"id\":\"6f28cdfb-edb8-451b-8ab6-352e172abfac\",\"type\":\"ColumnDataSource\"},{\"attributes\":{},\"id\":\"78c7f456-d9a2-4ea3-b661-4be855333fa5\",\"type\":\"ResetTool\"},{\"attributes\":{},\"id\":\"aaf7907e-77e0-461e-bc08-3a4190935a8d\",\"type\":\"HelpTool\"},{\"attributes\":{\"data_source\":{\"id\":\"27b432db-2ebe-497c-98b8-61c2c26959e8\",\"type\":\"ColumnDataSource\"},\"glyph\":{\"id\":\"071c8165-5ad3-4a64-a8b0-2d9884362214\",\"type\":\"Line\"},\"hover_glyph\":null,\"muted_glyph\":null,\"nonselection_glyph\":{\"id\":\"5e5a0722-b21e-4698-8142-1021447016d8\",\"type\":\"Line\"},\"selection_glyph\":null,\"view\":{\"id\":\"a86da2a8-303a-4836-8e85-b89d8eba3533\",\"type\":\"CDSView\"}},\"id\":\"d41e86ec-7de1-49d5-a1f0-06f8d794f12a\",\"type\":\"GlyphRenderer\"},{\"attributes\":{\"bottom_units\":\"screen\",\"fill_alpha\":{\"value\":0.5},\"fill_color\":{\"value\":\"lightgrey\"},\"left_units\":\"screen\",\"level\":\"overlay\",\"line_alpha\":{\"value\":1.0},\"line_color\":{\"value\":\"black\"},\"line_dash\":[4,4],\"line_width\":{\"value\":2},\"plot\":null,\"render_mode\":\"css\",\"right_units\":\"screen\",\"top_units\":\"screen\"},\"id\":\"7502ead2-562b-4af3-9340-c21902a7a95f\",\"type\":\"BoxAnnotation\"},{\"attributes\":{\"data_source\":{\"id\":\"67d77262-dd28-44c8-82a4-df66fc7aa54e\",\"type\":\"ColumnDataSource\"},\"glyph\":{\"id\":\"2da8fa73-ec69-47e6-a571-89ba21a7575d\",\"type\":\"Square\"},\"hover_glyph\":null,\"muted_glyph\":null,\"nonselection_glyph\":{\"id\":\"4ff984db-2f34-4090-86cd-934fa5c47865\",\"type\":\"Square\"},\"selection_glyph\":null,\"view\":{\"id\":\"4933a310-6304-445c-836b-fe729cc1f9f2\",\"type\":\"CDSView\"}},\"id\":\"93077374-9f7c-4b6a-a370-2a4cfb1d684c\",\"type\":\"GlyphRenderer\"},{\"attributes\":{\"source\":{\"id\":\"259b4e20-a0a4-4450-8ba3-63f540be10c6\",\"type\":\"ColumnDataSource\"}},\"id\":\"349c3af9-7aab-4861-8ed6-3b720720a8a2\",\"type\":\"CDSView\"},{\"attributes\":{\"callback\":null,\"data\":{\"x\":{\"__ndarray__\":\"qLwXTPUFg7+Ybg2B54t+v/jZnNDRjWy/hN7tIKKqTj/xFp0rkLl3P9+sCtJhxYY/PjCyKuNbkT8p4HYfgtWXP78Z+vw3/J4/BIe8ijFVoz+pRLsFcIWnPzQt5CO/BKw/n/gv5YNrsD8svEJUHrOyPzpFwzlVhLQ/xUTCeH8ctj8roWBrW7m3PydgHcJWW7k/du3iaFQBuz/wToBZiKu8P5Viqg0MKL4/S5oWJ4QvvD82yScVoRm2P+Cwn4unmq8/hFjQkP5SpT+KMdRUW1maPw1KpZP914s/OpcASiw6eD/ShO6Vp5piP2y1RjvdU0A/Er/15SEQQr+sNteeTVZSv+MvKKYTBU6/fOUTSRe3N7+JnODUjrEVv2VKKnwY4QE/0q1owjcTFD+kK9OanIf5PqD6ajPSHw2/PYSaTy5THr/i+aP+ST0nv5E2nBV0azC/pJPUAHqANr+KhyU/tlM+v9O2zoQYDkS/rv+amoTgRb+OYf8UGTBDv4z1jzrIDz+/aVUE8ASCOb82e+3IghE1vxFZYm2lOjG/e6f2XdZXK79fVe+yQXkkvyYNv394Vhu/Pg4vvph2C781Nial8xyvvqQICYoL0Qk/OpMpOA9gGT9lgP8+x20iP51apc9hkic/E2MoTsYdLD9hNL6zkhMwP7FIwLxj8jE/MkBufhDMMz8ooyb5+MI1P5IwMTyX8Tc/61rHLfBZOj+N5M52X7k8P9S/6FY2UT4/r/sAlkb2PT9qxmK4uPs6P0gST8SW+TU/4j0/4dUkMD9+rcF2TZMkP7abpaV/dxI/\",\"dtype\":\"float64\",\"shape\":[75]},\"y\":{\"__ndarray__\":\"GhExyth1ND/Sv8nbtpRIP2vylNV0PVE/aTum7souWD/At0SJ8fVgPw3Iuahxymc/MSNhhJWvcD/bTfBN02d3P2zb5nxnaoA/CD5h5MAGhz8NmeH1TyaQP+zrCsc9p5Y/LbKd76fGnz/bLW5ISEmmPww9YvTcQq8/JV2OstnstT8Er5Y7M8G+P0c+r3jqkcU/5h99k6ZBzj88bCIzFzjVP4enV8oyxN0//yH99nXg5D8qOpLLf0jtP5kqGJXUifQ/c9cS8kHP/D+/DpwzojQEQIEmwoanVwxA4lgXt9HgE0BSSZ2AJuIbQAMJih9jjiNA5q4l5INuK0AwTKYKRj0zQNv5fmq8/DpAaCJseHrtQkB/+zpwzoxKQM3MzMzMeFJAZmZmZmZqWEAAAAAAAFxeQM3MzMzMJmJAmpmZmZkfZUBmZmZmZhhoQDMzMzMzEWtAAAAAAAAKbkBmZmZmZoFwQM3MzMzM/XFAMzMzMzN6c0CamZmZmfZ0QAAAAAAAc3ZAZmZmZmbvd0DNzMzMzGt5QDMzMzMz6HpAmpmZmZlkfEAAAAAAAOF9QGZmZmZmXX9AZmZmZuZsgECamZmZGSuBQM3MzMxM6YFAAAAAAICngkAzMzMzs2WDQGZmZmbmI4RAmpmZmRnihEDNzMzMTKCFQAAAAACAXoZAMzMzM7Mch0BmZmZm5tqHQJqZmZkZmYhAzczMzExXiUAAAAAAgBWKQDMzMzOz04pAZmZmZuaRi0CamZmZGVCMQM3MzMxMDo1AAAAAAIDMjUAzMzMzs4qOQGZmZmbmSI9A\",\"dtype\":\"float64\",\"shape\":[75]}},\"selected\":{\"id\":\"e8f8773c-7066-4b43-b0f7-2fb02bd7deec\",\"type\":\"Selection\"},\"selection_policy\":{\"id\":\"327a6d07-362d-40cb-8d39-ff7d4043ad52\",\"type\":\"UnionRenderers\"}},\"id\":\"3f2c254d-9d77-47d1-a2e5-2622afcc0aaf\",\"type\":\"ColumnDataSource\"},{\"attributes\":{\"fill_alpha\":{\"value\":0.1},\"fill_color\":{\"value\":\"#1f77b4\"},\"line_alpha\":{\"value\":0.1},\"line_color\":{\"value\":\"#1f77b4\"},\"x\":{\"field\":\"x\"},\"y\":{\"field\":\"y\"}},\"id\":\"e40a608f-d8a6-4ce2-8273-b6bc004ce17c\",\"type\":\"Circle\"},{\"attributes\":{\"fill_alpha\":{\"value\":0.1},\"fill_color\":{\"value\":\"#1f77b4\"},\"line_alpha\":{\"value\":0.1},\"line_color\":{\"value\":\"#1f77b4\"},\"x\":{\"field\":\"x\"},\"y\":{\"field\":\"y\"}},\"id\":\"85e2838a-ed90-4e8e-a0a9-b462a7ea6cbd\",\"type\":\"Square\"},{\"attributes\":{},\"id\":\"b1ba5b5b-6251-4a9c-b81c-084a66a46f86\",\"type\":\"Selection\"},{\"attributes\":{\"source\":{\"id\":\"6f28cdfb-edb8-451b-8ab6-352e172abfac\",\"type\":\"ColumnDataSource\"}},\"id\":\"a8b34993-b8bd-4735-8698-7f04f51b8f14\",\"type\":\"CDSView\"},{\"attributes\":{\"fill_alpha\":{\"value\":0.1},\"fill_color\":{\"value\":\"#1f77b4\"},\"line_alpha\":{\"value\":0.1},\"line_color\":{\"value\":\"#1f77b4\"},\"x\":{\"field\":\"x\"},\"y\":{\"field\":\"y\"}},\"id\":\"4ff984db-2f34-4090-86cd-934fa5c47865\",\"type\":\"Square\"},{\"attributes\":{\"source\":{\"id\":\"27b432db-2ebe-497c-98b8-61c2c26959e8\",\"type\":\"ColumnDataSource\"}},\"id\":\"a86da2a8-303a-4836-8e85-b89d8eba3533\",\"type\":\"CDSView\"},{\"attributes\":{\"data_source\":{\"id\":\"6f28cdfb-edb8-451b-8ab6-352e172abfac\",\"type\":\"ColumnDataSource\"},\"glyph\":{\"id\":\"de729868-b6bd-4df1-b36e-bd97b1317607\",\"type\":\"Square\"},\"hover_glyph\":null,\"muted_glyph\":null,\"nonselection_glyph\":{\"id\":\"85e2838a-ed90-4e8e-a0a9-b462a7ea6cbd\",\"type\":\"Square\"},\"selection_glyph\":null,\"view\":{\"id\":\"a8b34993-b8bd-4735-8698-7f04f51b8f14\",\"type\":\"CDSView\"}},\"id\":\"e1f40264-0b0c-4a9a-a452-56f0c45a1dc3\",\"type\":\"GlyphRenderer\"},{\"attributes\":{\"callback\":null,\"data\":{\"x\":{\"__ndarray__\":\"qLwXTPUFg7+Ybg2B54t+v/jZnNDRjWy/hN7tIKKqTj/xFp0rkLl3P9+sCtJhxYY/PjCyKuNbkT8p4HYfgtWXP78Z+vw3/J4/BIe8ijFVoz+pRLsFcIWnPzQt5CO/BKw/n/gv5YNrsD8svEJUHrOyPzpFwzlVhLQ/xUTCeH8ctj8roWBrW7m3PydgHcJWW7k/du3iaFQBuz/wToBZiKu8P5Viqg0MKL4/S5oWJ4QvvD82yScVoRm2P+Cwn4unmq8/hFjQkP5SpT+KMdRUW1maPw1KpZP914s/OpcASiw6eD/ShO6Vp5piP2y1RjvdU0A/Er/15SEQQr+sNteeTVZSv+MvKKYTBU6/fOUTSRe3N7+JnODUjrEVv2VKKnwY4QE/0q1owjcTFD+kK9OanIf5PqD6ajPSHw2/PYSaTy5THr/i+aP+ST0nv5E2nBV0azC/pJPUAHqANr+KhyU/tlM+v9O2zoQYDkS/rv+amoTgRb+OYf8UGTBDv4z1jzrIDz+/aVUE8ASCOb82e+3IghE1vxFZYm2lOjG/e6f2XdZXK79fVe+yQXkkvyYNv394Vhu/Pg4vvph2C781Nial8xyvvqQICYoL0Qk/OpMpOA9gGT9lgP8+x20iP51apc9hkic/E2MoTsYdLD9hNL6zkhMwP7FIwLxj8jE/MkBufhDMMz8ooyb5+MI1P5IwMTyX8Tc/61rHLfBZOj+N5M52X7k8P9S/6FY2UT4/r/sAlkb2PT9qxmK4uPs6P0gST8SW+TU/4j0/4dUkMD9+rcF2TZMkP7abpaV/dxI/\",\"dtype\":\"float64\",\"shape\":[75]},\"y\":{\"__ndarray__\":\"GhExyth1ND/Sv8nbtpRIP2vylNV0PVE/aTum7souWD/At0SJ8fVgPw3Iuahxymc/MSNhhJWvcD/bTfBN02d3P2zb5nxnaoA/CD5h5MAGhz8NmeH1TyaQP+zrCsc9p5Y/LbKd76fGnz/bLW5ISEmmPww9YvTcQq8/JV2OstnstT8Er5Y7M8G+P0c+r3jqkcU/5h99k6ZBzj88bCIzFzjVP4enV8oyxN0//yH99nXg5D8qOpLLf0jtP5kqGJXUifQ/c9cS8kHP/D+/DpwzojQEQIEmwoanVwxA4lgXt9HgE0BSSZ2AJuIbQAMJih9jjiNA5q4l5INuK0AwTKYKRj0zQNv5fmq8/DpAaCJseHrtQkB/+zpwzoxKQM3MzMzMeFJAZmZmZmZqWEAAAAAAAFxeQM3MzMzMJmJAmpmZmZkfZUBmZmZmZhhoQDMzMzMzEWtAAAAAAAAKbkBmZmZmZoFwQM3MzMzM/XFAMzMzMzN6c0CamZmZmfZ0QAAAAAAAc3ZAZmZmZmbvd0DNzMzMzGt5QDMzMzMz6HpAmpmZmZlkfEAAAAAAAOF9QGZmZmZmXX9AZmZmZuZsgECamZmZGSuBQM3MzMxM6YFAAAAAAICngkAzMzMzs2WDQGZmZmbmI4RAmpmZmRnihEDNzMzMTKCFQAAAAACAXoZAMzMzM7Mch0BmZmZm5tqHQJqZmZkZmYhAzczMzExXiUAAAAAAgBWKQDMzMzOz04pAZmZmZuaRi0CamZmZGVCMQM3MzMxMDo1AAAAAAIDMjUAzMzMzs4qOQGZmZmbmSI9A\",\"dtype\":\"float64\",\"shape\":[75]}},\"selected\":{\"id\":\"00a0aa47-b0a7-440d-b4d9-b009c73547ce\",\"type\":\"Selection\"},\"selection_policy\":{\"id\":\"587e97ba-e870-478f-ac1f-0fc837d66267\",\"type\":\"UnionRenderers\"}},\"id\":\"67d77262-dd28-44c8-82a4-df66fc7aa54e\",\"type\":\"ColumnDataSource\"},{\"attributes\":{\"line_color\":\"#4daf4a\",\"line_width\":1.5,\"x\":{\"field\":\"x\"},\"y\":{\"field\":\"y\"}},\"id\":\"5c2fbab5-1af3-419c-a6a2-d3f8f5c1b091\",\"type\":\"Line\"},{\"attributes\":{\"line_alpha\":0.6,\"line_color\":\"#984ea3\",\"line_width\":3,\"x\":{\"field\":\"x\"},\"y\":{\"field\":\"y\"}},\"id\":\"066e7ab8-f4cd-4e2b-9c13-7d86918a5370\",\"type\":\"Line\"},{\"attributes\":{\"data_source\":{\"id\":\"61d4923d-fece-4c7e-92fc-5b9667a0d660\",\"type\":\"ColumnDataSource\"},\"glyph\":{\"id\":\"066e7ab8-f4cd-4e2b-9c13-7d86918a5370\",\"type\":\"Line\"},\"hover_glyph\":null,\"muted_glyph\":null,\"nonselection_glyph\":{\"id\":\"371d0153-8fcc-4e1d-b117-adb9db7126fc\",\"type\":\"Line\"},\"selection_glyph\":null,\"view\":{\"id\":\"dcd9dec6-66b8-4c15-a5e4-27412d669196\",\"type\":\"CDSView\"}},\"id\":\"ae038465-27d3-4f68-a876-96271770e0d9\",\"type\":\"GlyphRenderer\"},{\"attributes\":{\"fill_alpha\":{\"value\":0.1},\"fill_color\":{\"value\":\"#1f77b4\"},\"line_alpha\":{\"value\":0.1},\"line_color\":{\"value\":\"#1f77b4\"},\"x\":{\"field\":\"x\"},\"y\":{\"field\":\"y\"}},\"id\":\"b52e77a0-483c-41f7-991e-20ac754f677b\",\"type\":\"Circle\"},{\"attributes\":{\"data_source\":{\"id\":\"c0ca3a5e-c8d3-43a5-a33f-0dd49d77534e\",\"type\":\"ColumnDataSource\"},\"glyph\":{\"id\":\"a5e3e398-086c-49d9-a724-5f37c140d028\",\"type\":\"Line\"},\"hover_glyph\":null,\"muted_glyph\":null,\"nonselection_glyph\":{\"id\":\"26e953bd-5899-4ec2-bfd7-1eb1eb9cd709\",\"type\":\"Line\"},\"selection_glyph\":null,\"view\":{\"id\":\"4394294a-7465-4754-81d6-0cc7e78f731b\",\"type\":\"CDSView\"}},\"id\":\"ff6b1f36-8c28-4397-9353-a17a5d7a8910\",\"type\":\"GlyphRenderer\"},{\"attributes\":{\"fill_alpha\":{\"value\":0.1},\"fill_color\":{\"value\":\"#1f77b4\"},\"line_alpha\":{\"value\":0.1},\"line_color\":{\"value\":\"#1f77b4\"},\"x\":{\"field\":\"x\"},\"y\":{\"field\":\"y\"}},\"id\":\"8d6bca51-c981-4f1a-b0c4-d2bd042f7ce3\",\"type\":\"Triangle\"},{\"attributes\":{\"callback\":null,\"data\":{\"x\":{\"__ndarray__\":\"7x98AeXKa7/WZUG4LGVcv6R6Yso9pV4/Umpjb5gWeD8A1KcxLhCFP1j6H0zJ844/GIAJhrrilD+ZttCspMmaP+cgQyLInKA/GKPMC1IepD/ZkX2fkO6nP1f8ynbKEqw/tbgVroZFsD+7748snWWyP7YS5cs+IbQ/HoL+0DmwtT9vVhfMbEu3P7CyN6oz9Lg/z962Qpqpuj8FRxM5jmm8P4VIwMfk/b0/Xuml98davD/1lVF2RM+2P2botHut3LA//ZcGphyRpz8N/cIUrSieP294b3xVfZA/x3NS6NDzfD/zq6lLzlljP7kM22M7SAw/p1q1shfmUb8vwHErGvFYv/nV8+mFP1K/OoeVx5+TOr9XaHydroQSv+8YEfT+oA4/Wnk7Eyb6HD8FaA+0Ll0RP3odtH+T1d2+riJMtWqxD78qBcF+3O8ev9GFxpJLTSm/UTOhMQBbM79TbdYTWW08v4BlGXQiikO/un2SYuOwRb9wAbypSQlDv55kdnqthz6/4acfTHnROL9+DVrf42g0vwHGYfgHuTC/XGg7F5THKr+3cb5JC2Ekv6FLJifoAxy/GG6BvHhMDr8/zlvuFurhviC3Ij2+9AQ/iapqjS+pFj+QCKXf1vsgP+uhpZGzGCY/WzGMbKOrKj8VvBoOVdQuP/VG7QIFZTE/GYbNbxNqMz/qpybi4Js1PxrTl6ICETg/YQ4T8fzAOj/mUtxuP1o9P50wnbTFCD8/S7wBxgSWPj8I2ncSdFQ7P0tsxmS54zU/BF7ofWMQLz9AEAdHek8iP0MHbusovwg/\",\"dtype\":\"float64\",\"shape\":[75]},\"y\":{\"__ndarray__\":\"GhExyth1ND/Sv8nbtpRIP2vylNV0PVE/aTum7souWD/At0SJ8fVgPw3Iuahxymc/MSNhhJWvcD/bTfBN02d3P2zb5nxnaoA/CD5h5MAGhz8NmeH1TyaQP+zrCsc9p5Y/LbKd76fGnz/bLW5ISEmmPww9YvTcQq8/JV2OstnstT8Er5Y7M8G+P0c+r3jqkcU/5h99k6ZBzj88bCIzFzjVP4enV8oyxN0//yH99nXg5D8qOpLLf0jtP5kqGJXUifQ/c9cS8kHP/D+/DpwzojQEQIEmwoanVwxA4lgXt9HgE0BSSZ2AJuIbQAMJih9jjiNA5q4l5INuK0AwTKYKRj0zQNv5fmq8/DpAaCJseHrtQkB/+zpwzoxKQM3MzMzMeFJAZmZmZmZqWEAAAAAAAFxeQM3MzMzMJmJAmpmZmZkfZUBmZmZmZhhoQDMzMzMzEWtAAAAAAAAKbkBmZmZmZoFwQM3MzMzM/XFAMzMzMzN6c0CamZmZmfZ0QAAAAAAAc3ZAZmZmZmbvd0DNzMzMzGt5QDMzMzMz6HpAmpmZmZlkfEAAAAAAAOF9QGZmZmZmXX9AZmZmZuZsgECamZmZGSuBQM3MzMxM6YFAAAAAAICngkAzMzMzs2WDQGZmZmbmI4RAmpmZmRnihEDNzMzMTKCFQAAAAACAXoZAMzMzM7Mch0BmZmZm5tqHQJqZmZkZmYhAzczMzExXiUAAAAAAgBWKQDMzMzOz04pAZmZmZuaRi0CamZmZGVCMQM3MzMxMDo1AAAAAAIDMjUAzMzMzs4qOQGZmZmbmSI9A\",\"dtype\":\"float64\",\"shape\":[75]}},\"selected\":{\"id\":\"901a761f-69dd-4ef7-b443-ab3882066294\",\"type\":\"Selection\"},\"selection_policy\":{\"id\":\"4abb2f48-a37a-4f53-ad34-6cd1944969fc\",\"type\":\"UnionRenderers\"}},\"id\":\"c0ca3a5e-c8d3-43a5-a33f-0dd49d77534e\",\"type\":\"ColumnDataSource\"},{\"attributes\":{\"data_source\":{\"id\":\"34340460-6859-4989-8d83-132c978f81f7\",\"type\":\"ColumnDataSource\"},\"glyph\":{\"id\":\"5c2fbab5-1af3-419c-a6a2-d3f8f5c1b091\",\"type\":\"Line\"},\"hover_glyph\":null,\"muted_glyph\":null,\"nonselection_glyph\":{\"id\":\"4a089450-5e8b-446d-bc83-cfd11a21d51c\",\"type\":\"Line\"},\"selection_glyph\":null,\"view\":{\"id\":\"3e8b105e-8879-4f8f-beb5-ff430ec3f3e0\",\"type\":\"CDSView\"}},\"id\":\"59f9bd63-a1c1-4a00-9aad-e282d0d3c7f1\",\"type\":\"GlyphRenderer\"},{\"attributes\":{\"callback\":null,\"data\":{\"x\":{\"__ndarray__\":\"OcdTa25Apb8KSEeupcSjvxlThUZ9gKC/o5J8HR/Kmb8CE/9Kw/2Rv+1UA8jlA4O/6XRbTZf4Nb96eYV3lQuDP14PUUUkHJQ/pSemt7Fsnz8JNdFUQLulP11RjCQoG6w/tjepfJBksT/gnOFrp2S0Py0v4gOHjLY/bTijG540uD994xAWure5P+q/WveHFLs/s05scOhOvD+qAXPCvny9P/Y5iOe2jr4/QxaSYU8auz8KXUBqPqeyP2uiuKujH6Y/7NiywzISmD9lXpWrIlOHP8/rDOqbb3E/XL3ei5x2Uj8/pJhIL6FCP8GqqF2jhDU/JrdHomAVIr/bKFVeWvdDv7SeaMUk4EK/jj3bivJvMr8VxQwYpdElv69h8MBAqhy/29xk1NYzE78E6rkZdhEav8mP9THCTiK/fQuKW4TcJL95K6uHFmAnv1s8BotorSq/MMEiUoOtL7/4+XzSJBs0v/HcBeX00jq/qrOo9neYPb+4xW+2ijM5v7y02sO91DO/A4pEyjxDML/wlhKGtvcqv+E7mJOI/CW/yoBOU7kmIb/QOboiMIcYv1CDD6po+gy/hDr7GB2u8L4fP6+KhC75Pvf1zhbwrBA/UTcJIZ+rGj/QiGX5kvshP9qMxHDuLCY/qhijS83jKT88T7cJQjQtP3JFkLONIzA/vVQMcEysMT/8MHjYyFUzP1FfhMZAPjU/mjnLRShxNz/8Ld8Nub85P0N7s3ZSfjs/VxSaF2ySOz+L6LXPW085PyoUyd6pPDU/xEjj8T5yMD9a75CoRjgnP19lbqR7MRs/\",\"dtype\":\"float64\",\"shape\":[75]},\"y\":{\"__ndarray__\":\"GhExyth1ND/Sv8nbtpRIP2vylNV0PVE/aTum7souWD/At0SJ8fVgPw3Iuahxymc/MSNhhJWvcD/bTfBN02d3P2zb5nxnaoA/CD5h5MAGhz8NmeH1TyaQP+zrCsc9p5Y/LbKd76fGnz/bLW5ISEmmPww9YvTcQq8/JV2OstnstT8Er5Y7M8G+P0c+r3jqkcU/5h99k6ZBzj88bCIzFzjVP4enV8oyxN0//yH99nXg5D8qOpLLf0jtP5kqGJXUifQ/c9cS8kHP/D+/DpwzojQEQIEmwoanVwxA4lgXt9HgE0BSSZ2AJuIbQAMJih9jjiNA5q4l5INuK0AwTKYKRj0zQNv5fmq8/DpAaCJseHrtQkB/+zpwzoxKQM3MzMzMeFJAZmZmZmZqWEAAAAAAAFxeQM3MzMzMJmJAmpmZmZkfZUBmZmZmZhhoQDMzMzMzEWtAAAAAAAAKbkBmZmZmZoFwQM3MzMzM/XFAMzMzMzN6c0CamZmZmfZ0QAAAAAAAc3ZAZmZmZmbvd0DNzMzMzGt5QDMzMzMz6HpAmpmZmZlkfEAAAAAAAOF9QGZmZmZmXX9AZmZmZuZsgECamZmZGSuBQM3MzMxM6YFAAAAAAICngkAzMzMzs2WDQGZmZmbmI4RAmpmZmRnihEDNzMzMTKCFQAAAAACAXoZAMzMzM7Mch0BmZmZm5tqHQJqZmZkZmYhAzczMzExXiUAAAAAAgBWKQDMzMzOz04pAZmZmZuaRi0CamZmZGVCMQM3MzMxMDo1AAAAAAIDMjUAzMzMzs4qOQGZmZmbmSI9A\",\"dtype\":\"float64\",\"shape\":[75]}},\"selected\":{\"id\":\"a4c3c51e-a331-4d54-999e-af07eb240cd6\",\"type\":\"Selection\"},\"selection_policy\":{\"id\":\"a7db1663-c885-4fd0-81e4-82fd8e155748\",\"type\":\"UnionRenderers\"}},\"id\":\"27b432db-2ebe-497c-98b8-61c2c26959e8\",\"type\":\"ColumnDataSource\"},{\"attributes\":{\"fill_alpha\":{\"value\":0.7},\"fill_color\":{\"value\":\"#4daf4a\"},\"line_alpha\":{\"value\":0.7},\"line_color\":{\"value\":\"#4daf4a\"},\"x\":{\"field\":\"x\"},\"y\":{\"field\":\"y\"}},\"id\":\"0e19d6e1-ad58-46ac-920f-661c6620daa0\",\"type\":\"Circle\"},{\"attributes\":{\"source\":{\"id\":\"34340460-6859-4989-8d83-132c978f81f7\",\"type\":\"ColumnDataSource\"}},\"id\":\"3e8b105e-8879-4f8f-beb5-ff430ec3f3e0\",\"type\":\"CDSView\"},{\"attributes\":{\"line_alpha\":0.1,\"line_color\":\"#1f77b4\",\"line_width\":3,\"x\":{\"field\":\"x\"},\"y\":{\"field\":\"y\"}},\"id\":\"371d0153-8fcc-4e1d-b117-adb9db7126fc\",\"type\":\"Line\"},{\"attributes\":{\"fill_alpha\":{\"value\":0.7},\"fill_color\":{\"value\":\"#4daf4a\"},\"line_alpha\":{\"value\":0.7},\"line_color\":{\"value\":\"#4daf4a\"},\"x\":{\"field\":\"x\"},\"y\":{\"field\":\"y\"}},\"id\":\"de0d30e0-d7e5-49e8-bcc4-a984650b0a90\",\"type\":\"Circle\"},{\"attributes\":{\"data_source\":{\"id\":\"4c90e67e-d223-43c8-8797-0499b5e2f592\",\"type\":\"ColumnDataSource\"},\"glyph\":{\"id\":\"580aeab9-f8ef-42d1-9c1b-dcae6b98af6a\",\"type\":\"Triangle\"},\"hover_glyph\":null,\"muted_glyph\":null,\"nonselection_glyph\":{\"id\":\"8d6bca51-c981-4f1a-b0c4-d2bd042f7ce3\",\"type\":\"Triangle\"},\"selection_glyph\":null,\"view\":{\"id\":\"cafe8c26-f175-45b9-b875-db518c9de6f4\",\"type\":\"CDSView\"}},\"id\":\"066e7272-9914-4f82-9145-47f06fc2159f\",\"type\":\"GlyphRenderer\"},{\"attributes\":{\"children\":[{\"id\":\"18d50aa4-9001-4259-ab87-ab5608d3a08b\",\"type\":\"Row\"}]},\"id\":\"030eae6b-31a9-4246-831f-15655aa0815b\",\"type\":\"Column\"},{\"attributes\":{\"callback\":null,\"data\":{\"x\":{\"__ndarray__\":\"qLwXTPUFg7+Ybg2B54t+v/jZnNDRjWy/hN7tIKKqTj/xFp0rkLl3P9+sCtJhxYY/PjCyKuNbkT8p4HYfgtWXP78Z+vw3/J4/BIe8ijFVoz+pRLsFcIWnPzQt5CO/BKw/n/gv5YNrsD8svEJUHrOyPzpFwzlVhLQ/xUTCeH8ctj8roWBrW7m3PydgHcJWW7k/du3iaFQBuz/wToBZiKu8P5Viqg0MKL4/S5oWJ4QvvD82yScVoRm2P+Cwn4unmq8/hFjQkP5SpT+KMdRUW1maPw1KpZP914s/OpcASiw6eD/ShO6Vp5piP2y1RjvdU0A/Er/15SEQQr+sNteeTVZSv+MvKKYTBU6/fOUTSRe3N7+JnODUjrEVv2VKKnwY4QE/0q1owjcTFD+kK9OanIf5PqD6ajPSHw2/PYSaTy5THr/i+aP+ST0nv5E2nBV0azC/pJPUAHqANr+KhyU/tlM+v9O2zoQYDkS/rv+amoTgRb+OYf8UGTBDv4z1jzrIDz+/aVUE8ASCOb82e+3IghE1vxFZYm2lOjG/e6f2XdZXK79fVe+yQXkkvyYNv394Vhu/Pg4vvph2C781Nial8xyvvqQICYoL0Qk/OpMpOA9gGT9lgP8+x20iP51apc9hkic/E2MoTsYdLD9hNL6zkhMwP7FIwLxj8jE/MkBufhDMMz8ooyb5+MI1P5IwMTyX8Tc/61rHLfBZOj+N5M52X7k8P9S/6FY2UT4/r/sAlkb2PT9qxmK4uPs6P0gST8SW+TU/4j0/4dUkMD9+rcF2TZMkP7abpaV/dxI/\",\"dtype\":\"float64\",\"shape\":[75]},\"y\":{\"__ndarray__\":\"GhExyth1ND/Sv8nbtpRIP2vylNV0PVE/aTum7souWD/At0SJ8fVgPw3Iuahxymc/MSNhhJWvcD/bTfBN02d3P2zb5nxnaoA/CD5h5MAGhz8NmeH1TyaQP+zrCsc9p5Y/LbKd76fGnz/bLW5ISEmmPww9YvTcQq8/JV2OstnstT8Er5Y7M8G+P0c+r3jqkcU/5h99k6ZBzj88bCIzFzjVP4enV8oyxN0//yH99nXg5D8qOpLLf0jtP5kqGJXUifQ/c9cS8kHP/D+/DpwzojQEQIEmwoanVwxA4lgXt9HgE0BSSZ2AJuIbQAMJih9jjiNA5q4l5INuK0AwTKYKRj0zQNv5fmq8/DpAaCJseHrtQkB/+zpwzoxKQM3MzMzMeFJAZmZmZmZqWEAAAAAAAFxeQM3MzMzMJmJAmpmZmZkfZUBmZmZmZhhoQDMzMzMzEWtAAAAAAAAKbkBmZmZmZoFwQM3MzMzM/XFAMzMzMzN6c0CamZmZmfZ0QAAAAAAAc3ZAZmZmZmbvd0DNzMzMzGt5QDMzMzMz6HpAmpmZmZlkfEAAAAAAAOF9QGZmZmZmXX9AZmZmZuZsgECamZmZGSuBQM3MzMxM6YFAAAAAAICngkAzMzMzs2WDQGZmZmbmI4RAmpmZmRnihEDNzMzMTKCFQAAAAACAXoZAMzMzM7Mch0BmZmZm5tqHQJqZmZkZmYhAzczMzExXiUAAAAAAgBWKQDMzMzOz04pAZmZmZuaRi0CamZmZGVCMQM3MzMxMDo1AAAAAAIDMjUAzMzMzs4qOQGZmZmbmSI9A\",\"dtype\":\"float64\",\"shape\":[75]}},\"selected\":{\"id\":\"4bb65776-c54e-4d96-8d8d-6959a07c4e12\",\"type\":\"Selection\"},\"selection_policy\":{\"id\":\"1d941752-bd51-418e-842e-de48e09a0694\",\"type\":\"UnionRenderers\"}},\"id\":\"61d4923d-fece-4c7e-92fc-5b9667a0d660\",\"type\":\"ColumnDataSource\"},{\"attributes\":{\"fill_alpha\":{\"value\":0.7},\"fill_color\":{\"value\":\"#984ea3\"},\"line_alpha\":{\"value\":0.7},\"line_color\":{\"value\":\"#984ea3\"},\"x\":{\"field\":\"x\"},\"y\":{\"field\":\"y\"}},\"id\":\"2da8fa73-ec69-47e6-a571-89ba21a7575d\",\"type\":\"Square\"},{\"attributes\":{\"fill_alpha\":{\"value\":0.7},\"fill_color\":{\"value\":\"#984ea3\"},\"line_alpha\":{\"value\":0.7},\"line_color\":{\"value\":\"#984ea3\"},\"x\":{\"field\":\"x\"},\"y\":{\"field\":\"y\"}},\"id\":\"de729868-b6bd-4df1-b36e-bd97b1317607\",\"type\":\"Square\"},{\"attributes\":{\"source\":{\"id\":\"61d4923d-fece-4c7e-92fc-5b9667a0d660\",\"type\":\"ColumnDataSource\"}},\"id\":\"dcd9dec6-66b8-4c15-a5e4-27412d669196\",\"type\":\"CDSView\"},{\"attributes\":{\"callback\":null,\"data\":{\"x\":{\"__ndarray__\":\"7x98AeXKa7/WZUG4LGVcv6R6Yso9pV4/Umpjb5gWeD8A1KcxLhCFP1j6H0zJ844/GIAJhrrilD+ZttCspMmaP+cgQyLInKA/GKPMC1IepD/ZkX2fkO6nP1f8ynbKEqw/tbgVroZFsD+7748snWWyP7YS5cs+IbQ/HoL+0DmwtT9vVhfMbEu3P7CyN6oz9Lg/z962Qpqpuj8FRxM5jmm8P4VIwMfk/b0/Xuml98davD/1lVF2RM+2P2botHut3LA//ZcGphyRpz8N/cIUrSieP294b3xVfZA/x3NS6NDzfD/zq6lLzlljP7kM22M7SAw/p1q1shfmUb8vwHErGvFYv/nV8+mFP1K/OoeVx5+TOr9XaHydroQSv+8YEfT+oA4/Wnk7Eyb6HD8FaA+0Ll0RP3odtH+T1d2+riJMtWqxD78qBcF+3O8ev9GFxpJLTSm/UTOhMQBbM79TbdYTWW08v4BlGXQiikO/un2SYuOwRb9wAbypSQlDv55kdnqthz6/4acfTHnROL9+DVrf42g0vwHGYfgHuTC/XGg7F5THKr+3cb5JC2Ekv6FLJifoAxy/GG6BvHhMDr8/zlvuFurhviC3Ij2+9AQ/iapqjS+pFj+QCKXf1vsgP+uhpZGzGCY/WzGMbKOrKj8VvBoOVdQuP/VG7QIFZTE/GYbNbxNqMz/qpybi4Js1PxrTl6ICETg/YQ4T8fzAOj/mUtxuP1o9P50wnbTFCD8/S7wBxgSWPj8I2ncSdFQ7P0tsxmS54zU/BF7ofWMQLz9AEAdHek8iP0MHbusovwg/\",\"dtype\":\"float64\",\"shape\":[75]},\"y\":{\"__ndarray__\":\"GhExyth1ND/Sv8nbtpRIP2vylNV0PVE/aTum7souWD/At0SJ8fVgPw3Iuahxymc/MSNhhJWvcD/bTfBN02d3P2zb5nxnaoA/CD5h5MAGhz8NmeH1TyaQP+zrCsc9p5Y/LbKd76fGnz/bLW5ISEmmPww9YvTcQq8/JV2OstnstT8Er5Y7M8G+P0c+r3jqkcU/5h99k6ZBzj88bCIzFzjVP4enV8oyxN0//yH99nXg5D8qOpLLf0jtP5kqGJXUifQ/c9cS8kHP/D+/DpwzojQEQIEmwoanVwxA4lgXt9HgE0BSSZ2AJuIbQAMJih9jjiNA5q4l5INuK0AwTKYKRj0zQNv5fmq8/DpAaCJseHrtQkB/+zpwzoxKQM3MzMzMeFJAZmZmZmZqWEAAAAAAAFxeQM3MzMzMJmJAmpmZmZkfZUBmZmZmZhhoQDMzMzMzEWtAAAAAAAAKbkBmZmZmZoFwQM3MzMzM/XFAMzMzMzN6c0CamZmZmfZ0QAAAAAAAc3ZAZmZmZmbvd0DNzMzMzGt5QDMzMzMz6HpAmpmZmZlkfEAAAAAAAOF9QGZmZmZmXX9AZmZmZuZsgECamZmZGSuBQM3MzMxM6YFAAAAAAICngkAzMzMzs2WDQGZmZmbmI4RAmpmZmRnihEDNzMzMTKCFQAAAAACAXoZAMzMzM7Mch0BmZmZm5tqHQJqZmZkZmYhAzczMzExXiUAAAAAAgBWKQDMzMzOz04pAZmZmZuaRi0CamZmZGVCMQM3MzMxMDo1AAAAAAIDMjUAzMzMzs4qOQGZmZmbmSI9A\",\"dtype\":\"float64\",\"shape\":[75]}},\"selected\":{\"id\":\"47c7c434-d0fb-4ae9-890d-43ea1a154a33\",\"type\":\"Selection\"},\"selection_policy\":{\"id\":\"58c33c85-b263-47e6-ae1e-539c4e39c376\",\"type\":\"UnionRenderers\"}},\"id\":\"4c90e67e-d223-43c8-8797-0499b5e2f592\",\"type\":\"ColumnDataSource\"},{\"attributes\":{\"line_alpha\":0.3,\"line_color\":\"#377eb8\",\"line_width\":2,\"x\":{\"field\":\"x\"},\"y\":{\"field\":\"y\"}},\"id\":\"a5e3e398-086c-49d9-a724-5f37c140d028\",\"type\":\"Line\"},{\"attributes\":{\"fill_alpha\":{\"value\":0.7},\"fill_color\":{\"value\":\"#377eb8\"},\"line_alpha\":{\"value\":0.7},\"line_color\":{\"value\":\"#377eb8\"},\"x\":{\"field\":\"x\"},\"y\":{\"field\":\"y\"}},\"id\":\"580aeab9-f8ef-42d1-9c1b-dcae6b98af6a\",\"type\":\"Triangle\"},{\"attributes\":{\"line_alpha\":0.1,\"line_color\":\"#1f77b4\",\"line_width\":1.5,\"x\":{\"field\":\"x\"},\"y\":{\"field\":\"y\"}},\"id\":\"4a089450-5e8b-446d-bc83-cfd11a21d51c\",\"type\":\"Line\"},{\"attributes\":{\"line_alpha\":0.1,\"line_color\":\"#1f77b4\",\"line_width\":2,\"x\":{\"field\":\"x\"},\"y\":{\"field\":\"y\"}},\"id\":\"26e953bd-5899-4ec2-bfd7-1eb1eb9cd709\",\"type\":\"Line\"},{\"attributes\":{\"source\":{\"id\":\"4c90e67e-d223-43c8-8797-0499b5e2f592\",\"type\":\"ColumnDataSource\"}},\"id\":\"cafe8c26-f175-45b9-b875-db518c9de6f4\",\"type\":\"CDSView\"},{\"attributes\":{\"source\":{\"id\":\"c0ca3a5e-c8d3-43a5-a33f-0dd49d77534e\",\"type\":\"ColumnDataSource\"}},\"id\":\"4394294a-7465-4754-81d6-0cc7e78f731b\",\"type\":\"CDSView\"},{\"attributes\":{\"plot\":null,\"text\":\"\"},\"id\":\"c660a87c-5ea2-4e10-9dc5-f0893c5b4765\",\"type\":\"Title\"},{\"attributes\":{\"children\":[{\"id\":\"52cee2fa-bd36-4bbd-93ca-46f20146662d\",\"subtype\":\"Figure\",\"type\":\"Plot\"},{\"id\":\"edc1c000-ee3d-4913-8d8b-11b9e2930ad0\",\"subtype\":\"Figure\",\"type\":\"Plot\"}]},\"id\":\"18d50aa4-9001-4259-ab87-ab5608d3a08b\",\"type\":\"Row\"},{\"attributes\":{\"label\":{\"value\":\"CRD\"},\"renderers\":[{\"id\":\"89eb4449-0f38-40e2-8b9c-54dc93ac2c86\",\"type\":\"GlyphRenderer\"},{\"id\":\"d41e86ec-7de1-49d5-a1f0-06f8d794f12a\",\"type\":\"GlyphRenderer\"}]},\"id\":\"b7c59ecc-58b4-4213-b3c6-fe4874b785e7\",\"type\":\"LegendItem\"},{\"attributes\":{\"source\":{\"id\":\"67d77262-dd28-44c8-82a4-df66fc7aa54e\",\"type\":\"ColumnDataSource\"}},\"id\":\"4933a310-6304-445c-836b-fe729cc1f9f2\",\"type\":\"CDSView\"},{\"attributes\":{\"label\":{\"value\":\"WGT igg=1\"},\"renderers\":[{\"id\":\"e1f40264-0b0c-4a9a-a452-56f0c45a1dc3\",\"type\":\"GlyphRenderer\"},{\"id\":\"ae038465-27d3-4f68-a876-96271770e0d9\",\"type\":\"GlyphRenderer\"}]},\"id\":\"e7cb922d-40d8-4267-805f-9f59ddff125f\",\"type\":\"LegendItem\"},{\"attributes\":{},\"id\":\"327a6d07-362d-40cb-8d39-ff7d4043ad52\",\"type\":\"UnionRenderers\"},{\"attributes\":{\"callback\":null,\"data\":{\"x\":{\"__ndarray__\":\"OcdTa25Apb8KSEeupcSjvxlThUZ9gKC/o5J8HR/Kmb8CE/9Kw/2Rv+1UA8jlA4O/6XRbTZf4Nb96eYV3lQuDP14PUUUkHJQ/pSemt7Fsnz8JNdFUQLulP11RjCQoG6w/tjepfJBksT/gnOFrp2S0Py0v4gOHjLY/bTijG540uD994xAWure5P+q/WveHFLs/s05scOhOvD+qAXPCvny9P/Y5iOe2jr4/QxaSYU8auz8KXUBqPqeyP2uiuKujH6Y/7NiywzISmD9lXpWrIlOHP8/rDOqbb3E/XL3ei5x2Uj8/pJhIL6FCP8GqqF2jhDU/JrdHomAVIr/bKFVeWvdDv7SeaMUk4EK/jj3bivJvMr8VxQwYpdElv69h8MBAqhy/29xk1NYzE78E6rkZdhEav8mP9THCTiK/fQuKW4TcJL95K6uHFmAnv1s8BotorSq/MMEiUoOtL7/4+XzSJBs0v/HcBeX00jq/qrOo9neYPb+4xW+2ijM5v7y02sO91DO/A4pEyjxDML/wlhKGtvcqv+E7mJOI/CW/yoBOU7kmIb/QOboiMIcYv1CDD6po+gy/hDr7GB2u8L4fP6+KhC75Pvf1zhbwrBA/UTcJIZ+rGj/QiGX5kvshP9qMxHDuLCY/qhijS83jKT88T7cJQjQtP3JFkLONIzA/vVQMcEysMT/8MHjYyFUzP1FfhMZAPjU/mjnLRShxNz/8Ld8Nub85P0N7s3ZSfjs/VxSaF2ySOz+L6LXPW085PyoUyd6pPDU/xEjj8T5yMD9a75CoRjgnP19lbqR7MRs/\",\"dtype\":\"float64\",\"shape\":[75]},\"y\":{\"__ndarray__\":\"GhExyth1ND/Sv8nbtpRIP2vylNV0PVE/aTum7souWD/At0SJ8fVgPw3Iuahxymc/MSNhhJWvcD/bTfBN02d3P2zb5nxnaoA/CD5h5MAGhz8NmeH1TyaQP+zrCsc9p5Y/LbKd76fGnz/bLW5ISEmmPww9YvTcQq8/JV2OstnstT8Er5Y7M8G+P0c+r3jqkcU/5h99k6ZBzj88bCIzFzjVP4enV8oyxN0//yH99nXg5D8qOpLLf0jtP5kqGJXUifQ/c9cS8kHP/D+/DpwzojQEQIEmwoanVwxA4lgXt9HgE0BSSZ2AJuIbQAMJih9jjiNA5q4l5INuK0AwTKYKRj0zQNv5fmq8/DpAaCJseHrtQkB/+zpwzoxKQM3MzMzMeFJAZmZmZmZqWEAAAAAAAFxeQM3MzMzMJmJAmpmZmZkfZUBmZmZmZhhoQDMzMzMzEWtAAAAAAAAKbkBmZmZmZoFwQM3MzMzM/XFAMzMzMzN6c0CamZmZmfZ0QAAAAAAAc3ZAZmZmZmbvd0DNzMzMzGt5QDMzMzMz6HpAmpmZmZlkfEAAAAAAAOF9QGZmZmZmXX9AZmZmZuZsgECamZmZGSuBQM3MzMxM6YFAAAAAAICngkAzMzMzs2WDQGZmZmbmI4RAmpmZmRnihEDNzMzMTKCFQAAAAACAXoZAMzMzM7Mch0BmZmZm5tqHQJqZmZkZmYhAzczMzExXiUAAAAAAgBWKQDMzMzOz04pAZmZmZuaRi0CamZmZGVCMQM3MzMxMDo1AAAAAAIDMjUAzMzMzs4qOQGZmZmbmSI9A\",\"dtype\":\"float64\",\"shape\":[75]}},\"selected\":{\"id\":\"360760bb-04c7-473c-afa4-34e1adaa9b04\",\"type\":\"Selection\"},\"selection_policy\":{\"id\":\"e48d4c0c-1309-4e10-a0b1-b9a3a24cd3cb\",\"type\":\"UnionRenderers\"}},\"id\":\"34340460-6859-4989-8d83-132c978f81f7\",\"type\":\"ColumnDataSource\"},{\"attributes\":{\"dimension\":1,\"plot\":{\"id\":\"52cee2fa-bd36-4bbd-93ca-46f20146662d\",\"subtype\":\"Figure\",\"type\":\"Plot\"},\"ticker\":{\"id\":\"a45ae5cd-0670-4089-889a-d9b5e69761a3\",\"type\":\"BasicTicker\"}},\"id\":\"a833c561-c38b-4f42-8f30-b42acd72a1ce\",\"type\":\"Grid\"},{\"attributes\":{\"callback\":null,\"end\":0.01,\"start\":1020},\"id\":\"fd58e9a4-509b-4f9b-a1cc-ebc916a1e984\",\"type\":\"Range1d\"},{\"attributes\":{},\"id\":\"82ba7fc2-57c0-4d45-b19f-96ccc11dbc61\",\"type\":\"BasicTicker\"},{\"attributes\":{\"callback\":null,\"data\":{\"x\":{\"__ndarray__\":\"OcdTa25Apb8KSEeupcSjvxlThUZ9gKC/o5J8HR/Kmb8CE/9Kw/2Rv+1UA8jlA4O/6XRbTZf4Nb96eYV3lQuDP14PUUUkHJQ/pSemt7Fsnz8JNdFUQLulP11RjCQoG6w/tjepfJBksT/gnOFrp2S0Py0v4gOHjLY/bTijG540uD994xAWure5P+q/WveHFLs/s05scOhOvD+qAXPCvny9P/Y5iOe2jr4/QxaSYU8auz8KXUBqPqeyP2uiuKujH6Y/7NiywzISmD9lXpWrIlOHP8/rDOqbb3E/XL3ei5x2Uj8/pJhIL6FCP8GqqF2jhDU/JrdHomAVIr/bKFVeWvdDv7SeaMUk4EK/jj3bivJvMr8VxQwYpdElv69h8MBAqhy/29xk1NYzE78E6rkZdhEav8mP9THCTiK/fQuKW4TcJL95K6uHFmAnv1s8BotorSq/MMEiUoOtL7/4+XzSJBs0v/HcBeX00jq/qrOo9neYPb+4xW+2ijM5v7y02sO91DO/A4pEyjxDML/wlhKGtvcqv+E7mJOI/CW/yoBOU7kmIb/QOboiMIcYv1CDD6po+gy/hDr7GB2u8L4fP6+KhC75Pvf1zhbwrBA/UTcJIZ+rGj/QiGX5kvshP9qMxHDuLCY/qhijS83jKT88T7cJQjQtP3JFkLONIzA/vVQMcEysMT/8MHjYyFUzP1FfhMZAPjU/mjnLRShxNz/8Ld8Nub85P0N7s3ZSfjs/VxSaF2ySOz+L6LXPW085PyoUyd6pPDU/xEjj8T5yMD9a75CoRjgnP19lbqR7MRs/\",\"dtype\":\"float64\",\"shape\":[75]},\"y\":{\"__ndarray__\":\"GhExyth1ND/Sv8nbtpRIP2vylNV0PVE/aTum7souWD/At0SJ8fVgPw3Iuahxymc/MSNhhJWvcD/bTfBN02d3P2zb5nxnaoA/CD5h5MAGhz8NmeH1TyaQP+zrCsc9p5Y/LbKd76fGnz/bLW5ISEmmPww9YvTcQq8/JV2OstnstT8Er5Y7M8G+P0c+r3jqkcU/5h99k6ZBzj88bCIzFzjVP4enV8oyxN0//yH99nXg5D8qOpLLf0jtP5kqGJXUifQ/c9cS8kHP/D+/DpwzojQEQIEmwoanVwxA4lgXt9HgE0BSSZ2AJuIbQAMJih9jjiNA5q4l5INuK0AwTKYKRj0zQNv5fmq8/DpAaCJseHrtQkB/+zpwzoxKQM3MzMzMeFJAZmZmZmZqWEAAAAAAAFxeQM3MzMzMJmJAmpmZmZkfZUBmZmZmZhhoQDMzMzMzEWtAAAAAAAAKbkBmZmZmZoFwQM3MzMzM/XFAMzMzMzN6c0CamZmZmfZ0QAAAAAAAc3ZAZmZmZmbvd0DNzMzMzGt5QDMzMzMz6HpAmpmZmZlkfEAAAAAAAOF9QGZmZmZmXX9AZmZmZuZsgECamZmZGSuBQM3MzMxM6YFAAAAAAICngkAzMzMzs2WDQGZmZmbmI4RAmpmZmRnihEDNzMzMTKCFQAAAAACAXoZAMzMzM7Mch0BmZmZm5tqHQJqZmZkZmYhAzczMzExXiUAAAAAAgBWKQDMzMzOz04pAZmZmZuaRi0CamZmZGVCMQM3MzMxMDo1AAAAAAIDMjUAzMzMzs4qOQGZmZmbmSI9A\",\"dtype\":\"float64\",\"shape\":[75]}},\"selected\":{\"id\":\"64e693ac-1e73-42ff-892b-78d1b08d1e29\",\"type\":\"Selection\"},\"selection_policy\":{\"id\":\"b683a2fe-f19c-42bb-8133-3532564ed01f\",\"type\":\"UnionRenderers\"}},\"id\":\"93f8bcae-68d2-4683-a4ea-5dcf378e1847\",\"type\":\"ColumnDataSource\"},{\"attributes\":{},\"id\":\"a45ae5cd-0670-4089-889a-d9b5e69761a3\",\"type\":\"BasicTicker\"},{\"attributes\":{\"axis_label\":\"cooling rate [K/day]\",\"formatter\":{\"id\":\"41535b52-20ac-44ff-9cd9-9d4d105946a4\",\"type\":\"BasicTickFormatter\"},\"plot\":{\"id\":\"52cee2fa-bd36-4bbd-93ca-46f20146662d\",\"subtype\":\"Figure\",\"type\":\"Plot\"},\"ticker\":{\"id\":\"82ba7fc2-57c0-4d45-b19f-96ccc11dbc61\",\"type\":\"BasicTicker\"}},\"id\":\"2748f784-6f25-4a0c-a7fa-d60cac00fb45\",\"type\":\"LinearAxis\"},{\"attributes\":{\"callback\":null,\"end\":0.00048495712099999995,\"start\":-0.0006790455610000001},\"id\":\"570a3ad8-c4d9-4491-98c9-ee4853d5df65\",\"type\":\"Range1d\"},{\"attributes\":{\"axis_label\":\"pressure [mb]\",\"formatter\":{\"id\":\"68325f2a-634b-41df-b3e1-ef76b62066c3\",\"type\":\"BasicTickFormatter\"},\"plot\":{\"id\":\"52cee2fa-bd36-4bbd-93ca-46f20146662d\",\"subtype\":\"Figure\",\"type\":\"Plot\"},\"ticker\":{\"id\":\"a45ae5cd-0670-4089-889a-d9b5e69761a3\",\"type\":\"BasicTicker\"}},\"id\":\"eea172e6-0973-44fe-a429-891eaec71a0b\",\"type\":\"LinearAxis\"},{\"attributes\":{},\"id\":\"e91d7c20-6252-452c-814b-3803477eddeb\",\"type\":\"LinearScale\"},{\"attributes\":{\"plot\":{\"id\":\"52cee2fa-bd36-4bbd-93ca-46f20146662d\",\"subtype\":\"Figure\",\"type\":\"Plot\"},\"ticker\":{\"id\":\"82ba7fc2-57c0-4d45-b19f-96ccc11dbc61\",\"type\":\"BasicTicker\"}},\"id\":\"5378ba3a-a747-4d32-8f5f-588f06f3d099\",\"type\":\"Grid\"},{\"attributes\":{\"active_drag\":\"auto\",\"active_inspect\":\"auto\",\"active_scroll\":\"auto\",\"active_tap\":\"auto\",\"tools\":[{\"id\":\"6abe0136-9f74-421f-b5f8-2335087da6eb\",\"type\":\"PanTool\"},{\"id\":\"58e35968-8b6d-497c-8f7f-b1d4e63ae2c3\",\"type\":\"WheelZoomTool\"},{\"id\":\"770c8ba8-737a-45d4-9f90-5c3f681218ba\",\"type\":\"BoxZoomTool\"},{\"id\":\"308996d4-98c2-49b7-8e2a-fbdb1e023d05\",\"type\":\"SaveTool\"},{\"id\":\"78c7f456-d9a2-4ea3-b661-4be855333fa5\",\"type\":\"ResetTool\"},{\"id\":\"aaf7907e-77e0-461e-bc08-3a4190935a8d\",\"type\":\"HelpTool\"}]},\"id\":\"c6cfbfe2-7294-4a03-9187-5468b9f37751\",\"type\":\"Toolbar\"},{\"attributes\":{},\"id\":\"e1812084-abc2-44d0-9f74-7077251d5b67\",\"type\":\"LinearScale\"},{\"attributes\":{\"items\":[{\"id\":\"c5439602-ba93-4f67-8367-61150b490bfb\",\"type\":\"LegendItem\"},{\"id\":\"b4b9ca1c-7924-4a87-92e6-77e15c3c0a92\",\"type\":\"LegendItem\"},{\"id\":\"93889bcf-f63f-417d-9e57-c43ebdae67de\",\"type\":\"LegendItem\"}],\"label_text_font_size\":{\"value\":\"8pt\"},\"location\":\"top_center\",\"orientation\":\"horizontal\",\"plot\":{\"id\":\"52cee2fa-bd36-4bbd-93ca-46f20146662d\",\"subtype\":\"Figure\",\"type\":\"Plot\"}},\"id\":\"20401ca7-3b7b-4992-a427-6405bd608e23\",\"type\":\"Legend\"},{\"attributes\":{\"above\":[{\"id\":\"20401ca7-3b7b-4992-a427-6405bd608e23\",\"type\":\"Legend\"}],\"below\":[{\"id\":\"2748f784-6f25-4a0c-a7fa-d60cac00fb45\",\"type\":\"LinearAxis\"}],\"left\":[{\"id\":\"eea172e6-0973-44fe-a429-891eaec71a0b\",\"type\":\"LinearAxis\"}],\"plot_height\":500,\"plot_width\":400,\"renderers\":[{\"id\":\"2748f784-6f25-4a0c-a7fa-d60cac00fb45\",\"type\":\"LinearAxis\"},{\"id\":\"5378ba3a-a747-4d32-8f5f-588f06f3d099\",\"type\":\"Grid\"},{\"id\":\"eea172e6-0973-44fe-a429-891eaec71a0b\",\"type\":\"LinearAxis\"},{\"id\":\"a833c561-c38b-4f42-8f30-b42acd72a1ce\",\"type\":\"Grid\"},{\"id\":\"7502ead2-562b-4af3-9340-c21902a7a95f\",\"type\":\"BoxAnnotation\"},{\"id\":\"07142435-dcae-4635-846c-187f0849c1cd\",\"type\":\"GlyphRenderer\"},{\"id\":\"59f9bd63-a1c1-4a00-9aad-e282d0d3c7f1\",\"type\":\"GlyphRenderer\"},{\"id\":\"93077374-9f7c-4b6a-a370-2a4cfb1d684c\",\"type\":\"GlyphRenderer\"},{\"id\":\"c542915f-fe66-4593-9eca-ddd28cdfaa6a\",\"type\":\"GlyphRenderer\"},{\"id\":\"96051dd2-e283-4f7c-bbda-1410c79e9bde\",\"type\":\"GlyphRenderer\"},{\"id\":\"30a023ea-e1ec-423d-9d95-7f11fe8fab5b\",\"type\":\"GlyphRenderer\"},{\"id\":\"20401ca7-3b7b-4992-a427-6405bd608e23\",\"type\":\"Legend\"}],\"title\":{\"id\":\"c660a87c-5ea2-4e10-9dc5-f0893c5b4765\",\"type\":\"Title\"},\"toolbar\":{\"id\":\"c6cfbfe2-7294-4a03-9187-5468b9f37751\",\"type\":\"Toolbar\"},\"toolbar_location\":null,\"x_range\":{\"id\":\"570a3ad8-c4d9-4491-98c9-ee4853d5df65\",\"type\":\"Range1d\"},\"x_scale\":{\"id\":\"e1812084-abc2-44d0-9f74-7077251d5b67\",\"type\":\"LinearScale\"},\"y_range\":{\"id\":\"fd58e9a4-509b-4f9b-a1cc-ebc916a1e984\",\"type\":\"Range1d\"},\"y_scale\":{\"id\":\"e91d7c20-6252-452c-814b-3803477eddeb\",\"type\":\"LinearScale\"}},\"id\":\"52cee2fa-bd36-4bbd-93ca-46f20146662d\",\"subtype\":\"Figure\",\"type\":\"Plot\"},{\"attributes\":{\"source\":{\"id\":\"93f8bcae-68d2-4683-a4ea-5dcf378e1847\",\"type\":\"ColumnDataSource\"}},\"id\":\"757edf76-221a-409e-999b-289dfe20475a\",\"type\":\"CDSView\"},{\"attributes\":{\"data_source\":{\"id\":\"93f8bcae-68d2-4683-a4ea-5dcf378e1847\",\"type\":\"ColumnDataSource\"},\"glyph\":{\"id\":\"0e19d6e1-ad58-46ac-920f-661c6620daa0\",\"type\":\"Circle\"},\"hover_glyph\":null,\"muted_glyph\":null,\"nonselection_glyph\":{\"id\":\"b52e77a0-483c-41f7-991e-20ac754f677b\",\"type\":\"Circle\"},\"selection_glyph\":null,\"view\":{\"id\":\"757edf76-221a-409e-999b-289dfe20475a\",\"type\":\"CDSView\"}},\"id\":\"07142435-dcae-4635-846c-187f0849c1cd\",\"type\":\"GlyphRenderer\"}],\"root_ids\":[\"dd67ffbe-97ae-49c2-b22d-2c67454d7410\"]},\"title\":\"Bokeh Application\",\"version\":\"0.12.16\"}};\n",
       "  var render_items = [{\"docid\":\"25aaa8e4-ec15-4b96-8786-88cc4d78b0cc\",\"elementid\":\"ba47fce1-38be-4d2a-8bae-4861a2621302\",\"modelid\":\"dd67ffbe-97ae-49c2-b22d-2c67454d7410\"}];\n",
       "  root.Bokeh.embed.embed_items_notebook(docs_json, render_items);\n",
       "\n",
       "  }\n",
       "  if (root.Bokeh !== undefined) {\n",
       "    embed_document(root);\n",
       "  } else {\n",
       "    var attempts = 0;\n",
       "    var timer = setInterval(function(root) {\n",
       "      if (root.Bokeh !== undefined) {\n",
       "        embed_document(root);\n",
       "        clearInterval(timer);\n",
       "      }\n",
       "      attempts++;\n",
       "      if (attempts > 100) {\n",
       "        console.log(\"Bokeh: ERROR: Unable to run BokehJS code because BokehJS library is missing\")\n",
       "        clearInterval(timer);\n",
       "      }\n",
       "    }, 10, root)\n",
       "  }\n",
       "})(window);"
      ],
      "application/vnd.bokehjs_exec.v0+json": ""
     },
     "metadata": {
      "application/vnd.bokehjs_exec.v0+json": {
       "id": "dd67ffbe-97ae-49c2-b22d-2c67454d7410"
      }
     },
     "output_type": "display_data"
    },
    {
     "data": {
      "text/markdown": [
       "*FIGURE.* Cooling rates. g=1"
      ],
      "text/plain": [
       "<IPython.core.display.Markdown object>"
      ]
     },
     "metadata": {},
     "output_type": "display_data"
    },
    {
     "data": {
      "text/html": [
       "\n",
       "<div class=\"bk-root\">\n",
       "    <div class=\"bk-plotdiv\" id=\"ea5cd529-4f7a-4527-96f4-0899b63b3fdf\"></div>\n",
       "</div>"
      ]
     },
     "metadata": {},
     "output_type": "display_data"
    },
    {
     "data": {
      "application/javascript": [
       "(function(root) {\n",
       "  function embed_document(root) {\n",
       "    \n",
       "  var docs_json = {\"8dfc7fe2-fce2-4060-b8c0-756675fc97f8\":{\"roots\":{\"references\":[{\"attributes\":{\"line_alpha\":0.1,\"line_color\":\"#1f77b4\",\"line_width\":3,\"x\":{\"field\":\"x\"},\"y\":{\"field\":\"y\"}},\"id\":\"5ac9ec68-0d02-46b2-be31-52c72e354827\",\"type\":\"Line\"},{\"attributes\":{\"callback\":null,\"data\":{\"x\":{\"__ndarray__\":\"7ZCdzKRYHz8H3pOJWmsiP94A72IYnCg/wvb4j7bnLz9TTuGhUTI0PyaD9OktITk/7BV+NL7aPj+jQV0vjL5CP10rKvahmEY/SRhVaxUTSz/BCtHQKCVQP3tmjea2MFM/CXVowye+Vj9RyQ8NMXRaP8sbF35G410/YesEAkW2YD+Qr22jG8diP9FtlWFNPmU/KvpFfZk+aD8dXcuCjvhrP2XUc5FNOXA/w0mbZMv9cD+r5l8yoQdvPwgHRbMujms/8px/jNjmaD8Nc23kDbtmPyML6CunyWQ/dj8KAtutYz8wkAFHZBJkPyDZZ8xnK2U/jBvEMGPvZT/9I/iMcA1mP74/YS2XvWc/GY0mXjjsaz9R1dCDTIRuP6rQvoZgFG0/AeXpt1PcZz8cl5E8x6dfP5bOjAo2vUs/zXfZ7MoPIr9Wjv6LrxNRvwwq5CkvIl+/BCkR3qd1Zr+t43ki6GVtv8gxkvQi93G/KoVtQTc/c780kR6yRMhxv2xh/M5Uo26/dFZVeUzuab8FxSTfkoNlvz9ka6haTGG/Cd/mEqhsWr+BXgrghWxSv6tOASz0H0W/eU5WlTLYJr9a8CL1g4QyP2hDiMZRlkc/rltS56mEUj/+5u4I4bBYP3I3xfCDPV4/oK6Q52qTYT8/JQPRLr5jPyq4Y5/8rGU/UFkeegNyZz+ve+s/ix5pP9sMWDf8vGo/7xTYPslGbD9/7AqK2o5tP0yJz56FJG4/tfvtnHplbT9KzbSDZfpqP40L/xmJP2c/iWwlzQbtYj+9tiqNgBhdP1VpzqxztFQ/\",\"dtype\":\"float64\",\"shape\":[75]},\"y\":{\"__ndarray__\":\"GhExyth1ND/Sv8nbtpRIP2vylNV0PVE/aTum7souWD/At0SJ8fVgPw3Iuahxymc/MSNhhJWvcD/bTfBN02d3P2zb5nxnaoA/CD5h5MAGhz8NmeH1TyaQP+zrCsc9p5Y/LbKd76fGnz/bLW5ISEmmPww9YvTcQq8/JV2OstnstT8Er5Y7M8G+P0c+r3jqkcU/5h99k6ZBzj88bCIzFzjVP4enV8oyxN0//yH99nXg5D8qOpLLf0jtP5kqGJXUifQ/c9cS8kHP/D+/DpwzojQEQIEmwoanVwxA4lgXt9HgE0BSSZ2AJuIbQAMJih9jjiNA5q4l5INuK0AwTKYKRj0zQNv5fmq8/DpAaCJseHrtQkB/+zpwzoxKQM3MzMzMeFJAZmZmZmZqWEAAAAAAAFxeQM3MzMzMJmJAmpmZmZkfZUBmZmZmZhhoQDMzMzMzEWtAAAAAAAAKbkBmZmZmZoFwQM3MzMzM/XFAMzMzMzN6c0CamZmZmfZ0QAAAAAAAc3ZAZmZmZmbvd0DNzMzMzGt5QDMzMzMz6HpAmpmZmZlkfEAAAAAAAOF9QGZmZmZmXX9AZmZmZuZsgECamZmZGSuBQM3MzMxM6YFAAAAAAICngkAzMzMzs2WDQGZmZmbmI4RAmpmZmRnihEDNzMzMTKCFQAAAAACAXoZAMzMzM7Mch0BmZmZm5tqHQJqZmZkZmYhAzczMzExXiUAAAAAAgBWKQDMzMzOz04pAZmZmZuaRi0CamZmZGVCMQM3MzMxMDo1AAAAAAIDMjUAzMzMzs4qOQGZmZmbmSI9A\",\"dtype\":\"float64\",\"shape\":[75]}},\"selected\":{\"id\":\"afd9eeea-da05-4a5d-bbbd-db46a91fc22d\",\"type\":\"Selection\"},\"selection_policy\":{\"id\":\"a75ec779-f628-4d75-9611-3fa0c3ab99f1\",\"type\":\"UnionRenderers\"}},\"id\":\"6e1e976e-b434-418e-a672-4f9b926afb46\",\"type\":\"ColumnDataSource\"},{\"attributes\":{\"data_source\":{\"id\":\"095b256a-f0f8-428d-a6a5-d684c3e374e2\",\"type\":\"ColumnDataSource\"},\"glyph\":{\"id\":\"cd1af4b9-5ecf-4f81-ae59-a8abf1564690\",\"type\":\"Triangle\"},\"hover_glyph\":null,\"muted_glyph\":null,\"nonselection_glyph\":{\"id\":\"5073a050-a313-48ef-beff-12abc69eb761\",\"type\":\"Triangle\"},\"selection_glyph\":null,\"view\":{\"id\":\"ad0a258f-f5d1-47e1-815a-6715387d7bc5\",\"type\":\"CDSView\"}},\"id\":\"a1f043d7-1c1d-402c-8bed-b3897f5b5804\",\"type\":\"GlyphRenderer\"},{\"attributes\":{\"source\":{\"id\":\"c47df37d-a84d-40b7-b68b-8cacfe73400b\",\"type\":\"ColumnDataSource\"}},\"id\":\"b1bd87d4-5677-4329-84f0-eada6e669c87\",\"type\":\"CDSView\"},{\"attributes\":{\"source\":{\"id\":\"095b256a-f0f8-428d-a6a5-d684c3e374e2\",\"type\":\"ColumnDataSource\"}},\"id\":\"ad0a258f-f5d1-47e1-815a-6715387d7bc5\",\"type\":\"CDSView\"},{\"attributes\":{\"line_alpha\":0.3,\"line_color\":\"#377eb8\",\"line_width\":2,\"x\":{\"field\":\"x\"},\"y\":{\"field\":\"y\"}},\"id\":\"b36b32ba-70e1-4c26-855c-edb2882105da\",\"type\":\"Line\"},{\"attributes\":{\"children\":[{\"id\":\"283086b3-040f-4506-9b31-9dea6ee66cba\",\"type\":\"Row\"}]},\"id\":\"40cb811c-9b13-4903-b534-e768db7dcb57\",\"type\":\"Column\"},{\"attributes\":{\"line_alpha\":0.1,\"line_color\":\"#1f77b4\",\"line_width\":2,\"x\":{\"field\":\"x\"},\"y\":{\"field\":\"y\"}},\"id\":\"a48134b0-1c93-4dea-bfe7-fb4f0e964f06\",\"type\":\"Line\"},{\"attributes\":{\"data_source\":{\"id\":\"6e1e976e-b434-418e-a672-4f9b926afb46\",\"type\":\"ColumnDataSource\"},\"glyph\":{\"id\":\"b36b32ba-70e1-4c26-855c-edb2882105da\",\"type\":\"Line\"},\"hover_glyph\":null,\"muted_glyph\":null,\"nonselection_glyph\":{\"id\":\"a48134b0-1c93-4dea-bfe7-fb4f0e964f06\",\"type\":\"Line\"},\"selection_glyph\":null,\"view\":{\"id\":\"be37a1b7-f9cc-4d9f-ace4-cb1be174a280\",\"type\":\"CDSView\"}},\"id\":\"e980e9c5-d194-47c1-ac21-657ab2a096aa\",\"type\":\"GlyphRenderer\"},{\"attributes\":{\"callback\":null,\"end\":0.01,\"start\":1020},\"id\":\"cfeea89a-1ce0-4564-9bc5-0160ae7368a4\",\"type\":\"Range1d\"},{\"attributes\":{\"source\":{\"id\":\"6e1e976e-b434-418e-a672-4f9b926afb46\",\"type\":\"ColumnDataSource\"}},\"id\":\"be37a1b7-f9cc-4d9f-ace4-cb1be174a280\",\"type\":\"CDSView\"},{\"attributes\":{\"plot\":null,\"text\":\"\"},\"id\":\"aebfafa9-0aa9-4729-a29c-498f38a626fe\",\"type\":\"Title\"},{\"attributes\":{\"fill_alpha\":{\"value\":0.7},\"fill_color\":{\"value\":\"#984ea3\"},\"line_alpha\":{\"value\":0.7},\"line_color\":{\"value\":\"#984ea3\"},\"x\":{\"field\":\"x\"},\"y\":{\"field\":\"y\"}},\"id\":\"2f2e513c-1ab2-4e53-9b0d-b2eff6e79001\",\"type\":\"Square\"},{\"attributes\":{\"children\":[{\"id\":\"b79ef203-0768-4355-ba41-2b9ce14dad0f\",\"subtype\":\"Figure\",\"type\":\"Plot\"},{\"id\":\"4f857d66-f8d9-486c-9de8-ce8e8b4d3d20\",\"subtype\":\"Figure\",\"type\":\"Plot\"}]},\"id\":\"283086b3-040f-4506-9b31-9dea6ee66cba\",\"type\":\"Row\"},{\"attributes\":{\"label\":{\"value\":\"CRD\"},\"renderers\":[{\"id\":\"8cd24134-ac91-42de-a3e5-5e3a44f27a43\",\"type\":\"GlyphRenderer\"},{\"id\":\"9132b984-18bb-47d4-9f32-e68309f7f3e1\",\"type\":\"GlyphRenderer\"}]},\"id\":\"88eec79a-6922-4d63-8cbd-cdc15f98a289\",\"type\":\"LegendItem\"},{\"attributes\":{},\"id\":\"6074e20a-6c4a-4e74-b5db-9c5aa8b18bce\",\"type\":\"BasicTickFormatter\"},{\"attributes\":{\"data_source\":{\"id\":\"45e74211-ebef-4fef-a2c2-fe6f44e5bdff\",\"type\":\"ColumnDataSource\"},\"glyph\":{\"id\":\"f7f34999-332a-4e5a-8a54-8a9a9974934d\",\"type\":\"Line\"},\"hover_glyph\":null,\"muted_glyph\":null,\"nonselection_glyph\":{\"id\":\"5ac9ec68-0d02-46b2-be31-52c72e354827\",\"type\":\"Line\"},\"selection_glyph\":null,\"view\":{\"id\":\"d86ec42f-69ef-4481-9ed3-d471c9e4617c\",\"type\":\"CDSView\"}},\"id\":\"8c530203-1bf6-4e34-ae4d-9c0e5da1b9c3\",\"type\":\"GlyphRenderer\"},{\"attributes\":{\"label\":{\"value\":\"WGT igg=1\"},\"renderers\":[{\"id\":\"d67b6cf4-8c8f-47bc-8ad2-83f5aadf459e\",\"type\":\"GlyphRenderer\"},{\"id\":\"ce9ab4bc-f00d-4d54-be07-2c3cc0d06ccd\",\"type\":\"GlyphRenderer\"}]},\"id\":\"2f8ee43c-a4c1-4c75-a1fb-cc806a01a93d\",\"type\":\"LegendItem\"},{\"attributes\":{\"ticker\":null},\"id\":\"309bba3f-6ed2-417d-97bf-c6f359b284cf\",\"type\":\"LogTickFormatter\"},{\"attributes\":{\"line_alpha\":0.6,\"line_color\":\"#984ea3\",\"line_width\":3,\"x\":{\"field\":\"x\"},\"y\":{\"field\":\"y\"}},\"id\":\"f7f34999-332a-4e5a-8a54-8a9a9974934d\",\"type\":\"Line\"},{\"attributes\":{\"label\":{\"value\":\"WGT igg=10\"},\"renderers\":[{\"id\":\"a1f043d7-1c1d-402c-8bed-b3897f5b5804\",\"type\":\"GlyphRenderer\"},{\"id\":\"e980e9c5-d194-47c1-ac21-657ab2a096aa\",\"type\":\"GlyphRenderer\"}]},\"id\":\"bce1497d-bd62-4316-9b32-f40c49279556\",\"type\":\"LegendItem\"},{\"attributes\":{\"dimension\":1,\"plot\":{\"id\":\"4f857d66-f8d9-486c-9de8-ce8e8b4d3d20\",\"subtype\":\"Figure\",\"type\":\"Plot\"},\"ticker\":{\"id\":\"8a4248f8-1eeb-4d9a-99c3-575e4d1b07e7\",\"type\":\"LogTicker\"}},\"id\":\"f7df8fde-9610-4331-88de-074c5f0b8c95\",\"type\":\"Grid\"},{\"attributes\":{},\"id\":\"da46fcd2-dee9-4828-9786-8e473cc10ca4\",\"type\":\"UnionRenderers\"},{\"attributes\":{},\"id\":\"a6c44732-124c-48a5-baf7-0de457b44c8c\",\"type\":\"Selection\"},{\"attributes\":{},\"id\":\"d0fd8fda-14bd-432c-b44d-ca6b396d27ff\",\"type\":\"BasicTickFormatter\"},{\"attributes\":{\"callback\":null,\"data\":{\"x\":{\"__ndarray__\":\"tOgLV9LYIj+hWR4TRSImP96CFi3rii0/OutdiwMjMz9XS49cNjc4P8vyNUd2Hj4/Uxmlox18Qj+ICpJ2QXRGP9v51p4yEEs/B7nB0gA2UD80oG1c11RTP5aOX9+a+VY/h6Q1DsU5Wz/5DS9igapfP/9UL5Mu42E/FkGH7MgAZD/QJYjxlHlmP/rxuCTebGk/5fH70UwEbT8IKCuLZL1wPxTJ0chZa3M/P2c8HclWdD/gDV/ibJNyPwYnCPmFgHA/57+fFAjfbT++V52zhk1rP8hW6OMguGg/v7ZZWFJXZz8lxtBAnKZnP1zqyUAKjGg/jNAeG8DcaD/iV+3Yz/RnP5gmH9XNWWg/6ymnMWkpaz8cPRSLMxRsP8zG2gk1Vmk/MP3gtpXiYz8HpTI8K6ZYP8iNAlYvD0E/PpyTwEAQNr8sHNMfUjZSv+Du2hViRF6/oxtuexMnZb9CsemOq3Rrv8zibuZR3nC/pl78k80Tcr/rMOeYen1wvx1DByrR/Gu/94lYDKt0Z7+kNmNst1Fjv/NST3U42V6/qAgXws9XV78yJhnKJAJQvwZcULN3mEG/68jRoEh+G79EYYqTAqw0P56kbwS4iEc/5vavidz1UT+f0djKy6JXP8MsNT3PuFw/S3RE7V+aYD8YgA9kmZNiP6uv2YowV2Q/iCmEY0z5ZT9+n81RF45nP7xFeCTrI2k/WbMSFry4aj/yJ1gKoiFsP099vU4s6Gw/4oUnDr1ZbD/FpL67vBFqP8bT9uAKcGY/6b6EGBQ3Yj/tdY7mqOFbP9bCSS7InFM/\",\"dtype\":\"float64\",\"shape\":[75]},\"y\":{\"__ndarray__\":\"GhExyth1ND/Sv8nbtpRIP2vylNV0PVE/aTum7souWD/At0SJ8fVgPw3Iuahxymc/MSNhhJWvcD/bTfBN02d3P2zb5nxnaoA/CD5h5MAGhz8NmeH1TyaQP+zrCsc9p5Y/LbKd76fGnz/bLW5ISEmmPww9YvTcQq8/JV2OstnstT8Er5Y7M8G+P0c+r3jqkcU/5h99k6ZBzj88bCIzFzjVP4enV8oyxN0//yH99nXg5D8qOpLLf0jtP5kqGJXUifQ/c9cS8kHP/D+/DpwzojQEQIEmwoanVwxA4lgXt9HgE0BSSZ2AJuIbQAMJih9jjiNA5q4l5INuK0AwTKYKRj0zQNv5fmq8/DpAaCJseHrtQkB/+zpwzoxKQM3MzMzMeFJAZmZmZmZqWEAAAAAAAFxeQM3MzMzMJmJAmpmZmZkfZUBmZmZmZhhoQDMzMzMzEWtAAAAAAAAKbkBmZmZmZoFwQM3MzMzM/XFAMzMzMzN6c0CamZmZmfZ0QAAAAAAAc3ZAZmZmZmbvd0DNzMzMzGt5QDMzMzMz6HpAmpmZmZlkfEAAAAAAAOF9QGZmZmZmXX9AZmZmZuZsgECamZmZGSuBQM3MzMxM6YFAAAAAAICngkAzMzMzs2WDQGZmZmbmI4RAmpmZmRnihEDNzMzMTKCFQAAAAACAXoZAMzMzM7Mch0BmZmZm5tqHQJqZmZkZmYhAzczMzExXiUAAAAAAgBWKQDMzMzOz04pAZmZmZuaRi0CamZmZGVCMQM3MzMxMDo1AAAAAAIDMjUAzMzMzs4qOQGZmZmbmSI9A\",\"dtype\":\"float64\",\"shape\":[75]}},\"selected\":{\"id\":\"71805d23-5a3f-401d-a599-bea2160b7d03\",\"type\":\"Selection\"},\"selection_policy\":{\"id\":\"549c2440-688a-42dc-bdf2-1f4c07cafcdf\",\"type\":\"UnionRenderers\"}},\"id\":\"45e74211-ebef-4fef-a2c2-fe6f44e5bdff\",\"type\":\"ColumnDataSource\"},{\"attributes\":{},\"id\":\"39ec48f7-1e9b-4b8e-8ac2-29b14e6809da\",\"type\":\"Selection\"},{\"attributes\":{},\"id\":\"ae96158c-fd88-49c7-99fc-400722db8f75\",\"type\":\"UnionRenderers\"},{\"attributes\":{},\"id\":\"71805d23-5a3f-401d-a599-bea2160b7d03\",\"type\":\"Selection\"},{\"attributes\":{},\"id\":\"fbd77bc1-ef9c-4817-b897-937ad0c9f6bd\",\"type\":\"UnionRenderers\"},{\"attributes\":{\"data_source\":{\"id\":\"fb27b706-f1a7-4b71-9402-fde3c27b4e15\",\"type\":\"ColumnDataSource\"},\"glyph\":{\"id\":\"255dd9c7-0ee4-4fd3-a9da-79b4227e5f54\",\"type\":\"Triangle\"},\"hover_glyph\":null,\"muted_glyph\":null,\"nonselection_glyph\":{\"id\":\"af5b10ca-ce2e-457e-83d8-9e79462c09d2\",\"type\":\"Triangle\"},\"selection_glyph\":null,\"view\":{\"id\":\"3cf6668d-d446-4691-aa7e-a340ae8040c0\",\"type\":\"CDSView\"}},\"id\":\"8d4e2ee1-a64b-4ce5-b2e6-9a3ad3afc012\",\"type\":\"GlyphRenderer\"},{\"attributes\":{},\"id\":\"4c8e3fc0-ae92-4fc5-a97f-204ad4ff6ae6\",\"type\":\"UnionRenderers\"},{\"attributes\":{\"callback\":null,\"data\":{\"x\":{\"__ndarray__\":\"7ZCdzKRYHz8H3pOJWmsiP94A72IYnCg/wvb4j7bnLz9TTuGhUTI0PyaD9OktITk/7BV+NL7aPj+jQV0vjL5CP10rKvahmEY/SRhVaxUTSz/BCtHQKCVQP3tmjea2MFM/CXVowye+Vj9RyQ8NMXRaP8sbF35G410/YesEAkW2YD+Qr22jG8diP9FtlWFNPmU/KvpFfZk+aD8dXcuCjvhrP2XUc5FNOXA/w0mbZMv9cD+r5l8yoQdvPwgHRbMujms/8px/jNjmaD8Nc23kDbtmPyML6CunyWQ/dj8KAtutYz8wkAFHZBJkPyDZZ8xnK2U/jBvEMGPvZT/9I/iMcA1mP74/YS2XvWc/GY0mXjjsaz9R1dCDTIRuP6rQvoZgFG0/AeXpt1PcZz8cl5E8x6dfP5bOjAo2vUs/zXfZ7MoPIr9Wjv6LrxNRvwwq5CkvIl+/BCkR3qd1Zr+t43ki6GVtv8gxkvQi93G/KoVtQTc/c780kR6yRMhxv2xh/M5Uo26/dFZVeUzuab8FxSTfkoNlvz9ka6haTGG/Cd/mEqhsWr+BXgrghWxSv6tOASz0H0W/eU5WlTLYJr9a8CL1g4QyP2hDiMZRlkc/rltS56mEUj/+5u4I4bBYP3I3xfCDPV4/oK6Q52qTYT8/JQPRLr5jPyq4Y5/8rGU/UFkeegNyZz+ve+s/ix5pP9sMWDf8vGo/7xTYPslGbD9/7AqK2o5tP0yJz56FJG4/tfvtnHplbT9KzbSDZfpqP40L/xmJP2c/iWwlzQbtYj+9tiqNgBhdP1VpzqxztFQ/\",\"dtype\":\"float64\",\"shape\":[75]},\"y\":{\"__ndarray__\":\"GhExyth1ND/Sv8nbtpRIP2vylNV0PVE/aTum7souWD/At0SJ8fVgPw3Iuahxymc/MSNhhJWvcD/bTfBN02d3P2zb5nxnaoA/CD5h5MAGhz8NmeH1TyaQP+zrCsc9p5Y/LbKd76fGnz/bLW5ISEmmPww9YvTcQq8/JV2OstnstT8Er5Y7M8G+P0c+r3jqkcU/5h99k6ZBzj88bCIzFzjVP4enV8oyxN0//yH99nXg5D8qOpLLf0jtP5kqGJXUifQ/c9cS8kHP/D+/DpwzojQEQIEmwoanVwxA4lgXt9HgE0BSSZ2AJuIbQAMJih9jjiNA5q4l5INuK0AwTKYKRj0zQNv5fmq8/DpAaCJseHrtQkB/+zpwzoxKQM3MzMzMeFJAZmZmZmZqWEAAAAAAAFxeQM3MzMzMJmJAmpmZmZkfZUBmZmZmZhhoQDMzMzMzEWtAAAAAAAAKbkBmZmZmZoFwQM3MzMzM/XFAMzMzMzN6c0CamZmZmfZ0QAAAAAAAc3ZAZmZmZmbvd0DNzMzMzGt5QDMzMzMz6HpAmpmZmZlkfEAAAAAAAOF9QGZmZmZmXX9AZmZmZuZsgECamZmZGSuBQM3MzMxM6YFAAAAAAICngkAzMzMzs2WDQGZmZmbmI4RAmpmZmRnihEDNzMzMTKCFQAAAAACAXoZAMzMzM7Mch0BmZmZm5tqHQJqZmZkZmYhAzczMzExXiUAAAAAAgBWKQDMzMzOz04pAZmZmZuaRi0CamZmZGVCMQM3MzMxMDo1AAAAAAIDMjUAzMzMzs4qOQGZmZmbmSI9A\",\"dtype\":\"float64\",\"shape\":[75]}},\"selected\":{\"id\":\"150d4b0e-e978-4f7e-9c57-ea1fcc13591c\",\"type\":\"Selection\"},\"selection_policy\":{\"id\":\"4c8e3fc0-ae92-4fc5-a97f-204ad4ff6ae6\",\"type\":\"UnionRenderers\"}},\"id\":\"fb27b706-f1a7-4b71-9402-fde3c27b4e15\",\"type\":\"ColumnDataSource\"},{\"attributes\":{},\"id\":\"150d4b0e-e978-4f7e-9c57-ea1fcc13591c\",\"type\":\"Selection\"},{\"attributes\":{\"plot\":null,\"text\":\"\"},\"id\":\"340ca07d-6d01-4285-b0c5-b57be3d29ead\",\"type\":\"Title\"},{\"attributes\":{\"line_alpha\":0.1,\"line_color\":\"#1f77b4\",\"line_width\":2,\"x\":{\"field\":\"x\"},\"y\":{\"field\":\"y\"}},\"id\":\"d8a8c937-24ba-4c44-9fd4-70b30f08c6c6\",\"type\":\"Line\"},{\"attributes\":{},\"id\":\"040c7e79-6a90-41c8-822d-383de0a1f4cd\",\"type\":\"BasicTickFormatter\"},{\"attributes\":{\"fill_alpha\":{\"value\":0.1},\"fill_color\":{\"value\":\"#1f77b4\"},\"line_alpha\":{\"value\":0.1},\"line_color\":{\"value\":\"#1f77b4\"},\"x\":{\"field\":\"x\"},\"y\":{\"field\":\"y\"}},\"id\":\"af5b10ca-ce2e-457e-83d8-9e79462c09d2\",\"type\":\"Triangle\"},{\"attributes\":{},\"id\":\"00516a3a-9503-4ea8-92f0-172f3f991ba7\",\"type\":\"Selection\"},{\"attributes\":{\"line_alpha\":0.1,\"line_color\":\"#1f77b4\",\"line_width\":1.5,\"x\":{\"field\":\"x\"},\"y\":{\"field\":\"y\"}},\"id\":\"be61a173-2164-4f21-8322-18eb5bcbadea\",\"type\":\"Line\"},{\"attributes\":{},\"id\":\"cb3b3767-fee8-4c10-a01c-cf3ce060a448\",\"type\":\"Selection\"},{\"attributes\":{\"data_source\":{\"id\":\"91a3d0af-bd81-461b-80e3-ab8b1ee3af87\",\"type\":\"ColumnDataSource\"},\"glyph\":{\"id\":\"1685abae-a331-4b85-b6ba-d0d6efba3dc4\",\"type\":\"Line\"},\"hover_glyph\":null,\"muted_glyph\":null,\"nonselection_glyph\":{\"id\":\"be61a173-2164-4f21-8322-18eb5bcbadea\",\"type\":\"Line\"},\"selection_glyph\":null,\"view\":{\"id\":\"51d1df0c-b7ef-4f54-9a04-47bf8df30a10\",\"type\":\"CDSView\"}},\"id\":\"4e7d8cfa-1722-48aa-a185-6703434b73d6\",\"type\":\"GlyphRenderer\"},{\"attributes\":{},\"id\":\"ae4081cc-eeb6-4221-ae66-b6bdcf5e012e\",\"type\":\"UnionRenderers\"},{\"attributes\":{},\"id\":\"9506c9b9-f331-4bf2-abd5-f2b74951782f\",\"type\":\"UnionRenderers\"},{\"attributes\":{},\"id\":\"9d1bb783-b03d-4043-beb6-2728068147eb\",\"type\":\"UnionRenderers\"},{\"attributes\":{\"source\":{\"id\":\"fb27b706-f1a7-4b71-9402-fde3c27b4e15\",\"type\":\"ColumnDataSource\"}},\"id\":\"3cf6668d-d446-4691-aa7e-a340ae8040c0\",\"type\":\"CDSView\"},{\"attributes\":{},\"id\":\"6fee039e-5edc-4920-a85d-1ecf74d36136\",\"type\":\"Selection\"},{\"attributes\":{\"source\":{\"id\":\"91a3d0af-bd81-461b-80e3-ab8b1ee3af87\",\"type\":\"ColumnDataSource\"}},\"id\":\"51d1df0c-b7ef-4f54-9a04-47bf8df30a10\",\"type\":\"CDSView\"},{\"attributes\":{},\"id\":\"a75ec779-f628-4d75-9611-3fa0c3ab99f1\",\"type\":\"UnionRenderers\"},{\"attributes\":{},\"id\":\"afd9eeea-da05-4a5d-bbbd-db46a91fc22d\",\"type\":\"Selection\"},{\"attributes\":{},\"id\":\"776a72ca-0dea-4ffb-9b8d-9a16a3db17a2\",\"type\":\"UnionRenderers\"},{\"attributes\":{\"source\":{\"id\":\"45e74211-ebef-4fef-a2c2-fe6f44e5bdff\",\"type\":\"ColumnDataSource\"}},\"id\":\"d86ec42f-69ef-4481-9ed3-d471c9e4617c\",\"type\":\"CDSView\"},{\"attributes\":{},\"id\":\"d0f491e5-7cfd-478d-a229-e26313f03d6a\",\"type\":\"Selection\"},{\"attributes\":{\"children\":[{\"id\":\"a0243111-7afc-4a39-bfd1-824ed61069b5\",\"type\":\"ToolbarBox\"},{\"id\":\"40cb811c-9b13-4903-b534-e768db7dcb57\",\"type\":\"Column\"}]},\"id\":\"00ebd4d8-ed33-485d-8f38-aa0f06b9c0b4\",\"type\":\"Column\"},{\"attributes\":{\"above\":[{\"id\":\"2842000d-d157-49bf-b7e3-5d4cea0a24dd\",\"type\":\"Legend\"}],\"below\":[{\"id\":\"aaadfcab-17f2-4f52-94bb-95cb9db48076\",\"type\":\"LinearAxis\"}],\"left\":[{\"id\":\"7e5bbead-3830-492b-86ed-f7dad0b128a2\",\"type\":\"LogAxis\"}],\"plot_height\":500,\"plot_width\":400,\"renderers\":[{\"id\":\"aaadfcab-17f2-4f52-94bb-95cb9db48076\",\"type\":\"LinearAxis\"},{\"id\":\"4ccf6b5b-84d4-4f3f-9275-67dbb3312cc1\",\"type\":\"Grid\"},{\"id\":\"7e5bbead-3830-492b-86ed-f7dad0b128a2\",\"type\":\"LogAxis\"},{\"id\":\"f7df8fde-9610-4331-88de-074c5f0b8c95\",\"type\":\"Grid\"},{\"id\":\"2949d93c-b24f-45e3-90b7-8c12839ee00b\",\"type\":\"BoxAnnotation\"},{\"id\":\"8cd24134-ac91-42de-a3e5-5e3a44f27a43\",\"type\":\"GlyphRenderer\"},{\"id\":\"9132b984-18bb-47d4-9f32-e68309f7f3e1\",\"type\":\"GlyphRenderer\"},{\"id\":\"d67b6cf4-8c8f-47bc-8ad2-83f5aadf459e\",\"type\":\"GlyphRenderer\"},{\"id\":\"ce9ab4bc-f00d-4d54-be07-2c3cc0d06ccd\",\"type\":\"GlyphRenderer\"},{\"id\":\"a1f043d7-1c1d-402c-8bed-b3897f5b5804\",\"type\":\"GlyphRenderer\"},{\"id\":\"e980e9c5-d194-47c1-ac21-657ab2a096aa\",\"type\":\"GlyphRenderer\"},{\"id\":\"2842000d-d157-49bf-b7e3-5d4cea0a24dd\",\"type\":\"Legend\"}],\"title\":{\"id\":\"340ca07d-6d01-4285-b0c5-b57be3d29ead\",\"type\":\"Title\"},\"toolbar\":{\"id\":\"6e456377-e940-46f0-af71-aca70660981f\",\"type\":\"Toolbar\"},\"toolbar_location\":null,\"x_range\":{\"id\":\"7a1dcecd-6c23-4c73-b475-8541f475a3ac\",\"type\":\"Range1d\"},\"x_scale\":{\"id\":\"6b2daacd-ea4a-4959-9d17-9ca45de090c6\",\"type\":\"LinearScale\"},\"y_range\":{\"id\":\"cfeea89a-1ce0-4564-9bc5-0160ae7368a4\",\"type\":\"Range1d\"},\"y_scale\":{\"id\":\"22bb46db-5eec-4819-91bb-5b6707cf5db0\",\"type\":\"LogScale\"}},\"id\":\"4f857d66-f8d9-486c-9de8-ce8e8b4d3d20\",\"subtype\":\"Figure\",\"type\":\"Plot\"},{\"attributes\":{\"callback\":null,\"data\":{\"x\":{\"__ndarray__\":\"tOgLV9LYIj+hWR4TRSImP96CFi3rii0/OutdiwMjMz9XS49cNjc4P8vyNUd2Hj4/Uxmlox18Qj+ICpJ2QXRGP9v51p4yEEs/B7nB0gA2UD80oG1c11RTP5aOX9+a+VY/h6Q1DsU5Wz/5DS9igapfP/9UL5Mu42E/FkGH7MgAZD/QJYjxlHlmP/rxuCTebGk/5fH70UwEbT8IKCuLZL1wPxTJ0chZa3M/P2c8HclWdD/gDV/ibJNyPwYnCPmFgHA/57+fFAjfbT++V52zhk1rP8hW6OMguGg/v7ZZWFJXZz8lxtBAnKZnP1zqyUAKjGg/jNAeG8DcaD/iV+3Yz/RnP5gmH9XNWWg/6ymnMWkpaz8cPRSLMxRsP8zG2gk1Vmk/MP3gtpXiYz8HpTI8K6ZYP8iNAlYvD0E/PpyTwEAQNr8sHNMfUjZSv+Du2hViRF6/oxtuexMnZb9CsemOq3Rrv8zibuZR3nC/pl78k80Tcr/rMOeYen1wvx1DByrR/Gu/94lYDKt0Z7+kNmNst1Fjv/NST3U42V6/qAgXws9XV78yJhnKJAJQvwZcULN3mEG/68jRoEh+G79EYYqTAqw0P56kbwS4iEc/5vavidz1UT+f0djKy6JXP8MsNT3PuFw/S3RE7V+aYD8YgA9kmZNiP6uv2YowV2Q/iCmEY0z5ZT9+n81RF45nP7xFeCTrI2k/WbMSFry4aj/yJ1gKoiFsP099vU4s6Gw/4oUnDr1ZbD/FpL67vBFqP8bT9uAKcGY/6b6EGBQ3Yj/tdY7mqOFbP9bCSS7InFM/\",\"dtype\":\"float64\",\"shape\":[75]},\"y\":{\"__ndarray__\":\"GhExyth1ND/Sv8nbtpRIP2vylNV0PVE/aTum7souWD/At0SJ8fVgPw3Iuahxymc/MSNhhJWvcD/bTfBN02d3P2zb5nxnaoA/CD5h5MAGhz8NmeH1TyaQP+zrCsc9p5Y/LbKd76fGnz/bLW5ISEmmPww9YvTcQq8/JV2OstnstT8Er5Y7M8G+P0c+r3jqkcU/5h99k6ZBzj88bCIzFzjVP4enV8oyxN0//yH99nXg5D8qOpLLf0jtP5kqGJXUifQ/c9cS8kHP/D+/DpwzojQEQIEmwoanVwxA4lgXt9HgE0BSSZ2AJuIbQAMJih9jjiNA5q4l5INuK0AwTKYKRj0zQNv5fmq8/DpAaCJseHrtQkB/+zpwzoxKQM3MzMzMeFJAZmZmZmZqWEAAAAAAAFxeQM3MzMzMJmJAmpmZmZkfZUBmZmZmZhhoQDMzMzMzEWtAAAAAAAAKbkBmZmZmZoFwQM3MzMzM/XFAMzMzMzN6c0CamZmZmfZ0QAAAAAAAc3ZAZmZmZmbvd0DNzMzMzGt5QDMzMzMz6HpAmpmZmZlkfEAAAAAAAOF9QGZmZmZmXX9AZmZmZuZsgECamZmZGSuBQM3MzMxM6YFAAAAAAICngkAzMzMzs2WDQGZmZmbmI4RAmpmZmRnihEDNzMzMTKCFQAAAAACAXoZAMzMzM7Mch0BmZmZm5tqHQJqZmZkZmYhAzczMzExXiUAAAAAAgBWKQDMzMzOz04pAZmZmZuaRi0CamZmZGVCMQM3MzMxMDo1AAAAAAIDMjUAzMzMzs4qOQGZmZmbmSI9A\",\"dtype\":\"float64\",\"shape\":[75]}},\"selected\":{\"id\":\"09df4c3a-0e3a-40b4-9dfb-ad5ec58a8972\",\"type\":\"Selection\"},\"selection_policy\":{\"id\":\"56b9f6f2-4c22-4bbe-b4d5-8905d5bfe5c0\",\"type\":\"UnionRenderers\"}},\"id\":\"c47df37d-a84d-40b7-b68b-8cacfe73400b\",\"type\":\"ColumnDataSource\"},{\"attributes\":{\"tools\":[{\"id\":\"bb7b8038-68a9-47db-87b4-4275571cc0f2\",\"type\":\"PanTool\"},{\"id\":\"3249be6e-6927-43b0-b666-a34355629a70\",\"type\":\"WheelZoomTool\"},{\"id\":\"749a3312-4ac1-4f75-a883-82a393da1a47\",\"type\":\"BoxZoomTool\"},{\"id\":\"6e0c0370-06f5-4e3c-841c-8bf7e6a4e4b1\",\"type\":\"SaveTool\"},{\"id\":\"f19e0d59-3500-48a5-bd4c-1c384c18ddcf\",\"type\":\"ResetTool\"},{\"id\":\"108ce90e-c3b5-4b8e-a875-23e0e1938407\",\"type\":\"HelpTool\"},{\"id\":\"19706262-3f26-4549-a09f-7e46ab779513\",\"type\":\"PanTool\"},{\"id\":\"e1c34428-85c7-49a1-a671-c5f595b4df7a\",\"type\":\"WheelZoomTool\"},{\"id\":\"935e6cfa-eaf2-4df8-a774-4d12fe0a03ff\",\"type\":\"BoxZoomTool\"},{\"id\":\"b637bcb7-b067-4bbe-ac96-f2d024b79103\",\"type\":\"SaveTool\"},{\"id\":\"fa43a188-c40e-4fc7-9be9-d79ebf133852\",\"type\":\"ResetTool\"},{\"id\":\"6a30298c-5990-47ae-8e8c-205aaaeb144c\",\"type\":\"HelpTool\"}]},\"id\":\"db71b660-c809-4c73-8e80-6f15475dd1b6\",\"type\":\"ProxyToolbar\"},{\"attributes\":{\"toolbar\":{\"id\":\"db71b660-c809-4c73-8e80-6f15475dd1b6\",\"type\":\"ProxyToolbar\"},\"toolbar_location\":\"above\"},\"id\":\"a0243111-7afc-4a39-bfd1-824ed61069b5\",\"type\":\"ToolbarBox\"},{\"attributes\":{\"bottom_units\":\"screen\",\"fill_alpha\":{\"value\":0.5},\"fill_color\":{\"value\":\"lightgrey\"},\"left_units\":\"screen\",\"level\":\"overlay\",\"line_alpha\":{\"value\":1.0},\"line_color\":{\"value\":\"black\"},\"line_dash\":[4,4],\"line_width\":{\"value\":2},\"plot\":null,\"render_mode\":\"css\",\"right_units\":\"screen\",\"top_units\":\"screen\"},\"id\":\"6a1fa533-ecdb-43f2-a62d-297d722d2065\",\"type\":\"BoxAnnotation\"},{\"attributes\":{\"callback\":null,\"data\":{\"x\":{\"__ndarray__\":\"QLqGSC5AGb9iDK/E0B4Qv4IqRMPSavo+8t8RQJ8xIT/2nZyYDOkwP0fUiF3gfjo/9It6TMbcQj+PU9bKgGxJPw6cZ7h+i1A/dsYXr2kFVT+RJa9q4j9aP8HklGlFLmA/j2w/tG6+Yz9eqRkgeXFnP8GPToPAz2o/vilgxgo6bj/MqP4s0hdxP5AY/y6TcHM/TrY0iOVHdj9KAl40Vch5P0kK0uvb+X0/TrFJSxwqfz925yt2awF8P+oMnlZJnHg/AAfJWG9Idj+fxkg1tpd0P7yf4fGXFHM/XsqYOV8Xcj9rFcqw9BtyP95UDKZNFHI/j1h+Jf+vcD+A8IU4OzprP1ie8Ug2umY/5EP3xVF0Zj9NaWY2mxFlP0pK+U4l6mE/Am8/n9NzXD9NDrc1vVpSP9l5P42vNUA/isiHZ+G+Bz8TcxmV6Hg1v36zb5Ehm0a/0HLsXj8kUr/X4fPBdXdbvxj/2JK3FmS/b+nfETgCZ7/Dm3oDobNjv0pMtzjoY16/o83PlvUXWL8XevIgpShTv2YOTi9ti02/zUfWNoIXRb+xoT5v/iE5v6hXOS/KWR6/XJDfk5sKJT8OV00cXfc8P06O/wfkrEc//DYa2DJIUD8NkysojG5UP3w6JqSYMFg/jeCpPfGHWz+5WjrtiIZeP91sJK/kqGA/YlqXe4EQYj+GkWb8F5ljPx0LWBKjXmU/mziAEB5sZz9OdPCkspVpP1RJOegmO2s/vGqvT0pSaz+mFiiqeTVpP08eOJ1bXmU/OfoMZhvRYD9ZdJzvaGJYPxYJ0mv1Qk4/\",\"dtype\":\"float64\",\"shape\":[75]},\"y\":{\"__ndarray__\":\"GhExyth1ND/Sv8nbtpRIP2vylNV0PVE/aTum7souWD/At0SJ8fVgPw3Iuahxymc/MSNhhJWvcD/bTfBN02d3P2zb5nxnaoA/CD5h5MAGhz8NmeH1TyaQP+zrCsc9p5Y/LbKd76fGnz/bLW5ISEmmPww9YvTcQq8/JV2OstnstT8Er5Y7M8G+P0c+r3jqkcU/5h99k6ZBzj88bCIzFzjVP4enV8oyxN0//yH99nXg5D8qOpLLf0jtP5kqGJXUifQ/c9cS8kHP/D+/DpwzojQEQIEmwoanVwxA4lgXt9HgE0BSSZ2AJuIbQAMJih9jjiNA5q4l5INuK0AwTKYKRj0zQNv5fmq8/DpAaCJseHrtQkB/+zpwzoxKQM3MzMzMeFJAZmZmZmZqWEAAAAAAAFxeQM3MzMzMJmJAmpmZmZkfZUBmZmZmZhhoQDMzMzMzEWtAAAAAAAAKbkBmZmZmZoFwQM3MzMzM/XFAMzMzMzN6c0CamZmZmfZ0QAAAAAAAc3ZAZmZmZmbvd0DNzMzMzGt5QDMzMzMz6HpAmpmZmZlkfEAAAAAAAOF9QGZmZmZmXX9AZmZmZuZsgECamZmZGSuBQM3MzMxM6YFAAAAAAICngkAzMzMzs2WDQGZmZmbmI4RAmpmZmRnihEDNzMzMTKCFQAAAAACAXoZAMzMzM7Mch0BmZmZm5tqHQJqZmZkZmYhAzczMzExXiUAAAAAAgBWKQDMzMzOz04pAZmZmZuaRi0CamZmZGVCMQM3MzMxMDo1AAAAAAIDMjUAzMzMzs4qOQGZmZmbmSI9A\",\"dtype\":\"float64\",\"shape\":[75]}},\"selected\":{\"id\":\"08472ec2-076a-443e-ab69-6ddc46a76bb9\",\"type\":\"Selection\"},\"selection_policy\":{\"id\":\"5fa069aa-fca8-4681-8dc0-7b5305d805a3\",\"type\":\"UnionRenderers\"}},\"id\":\"91a3d0af-bd81-461b-80e3-ab8b1ee3af87\",\"type\":\"ColumnDataSource\"},{\"attributes\":{\"source\":{\"id\":\"8247b79d-d977-4802-aaf5-7231476ac83b\",\"type\":\"ColumnDataSource\"}},\"id\":\"b5485a77-5b17-4edf-bffb-cc553a5632cd\",\"type\":\"CDSView\"},{\"attributes\":{\"axis_label\":\"pressure [mb]\",\"formatter\":{\"id\":\"309bba3f-6ed2-417d-97bf-c6f359b284cf\",\"type\":\"LogTickFormatter\"},\"plot\":{\"id\":\"4f857d66-f8d9-486c-9de8-ce8e8b4d3d20\",\"subtype\":\"Figure\",\"type\":\"Plot\"},\"ticker\":{\"id\":\"8a4248f8-1eeb-4d9a-99c3-575e4d1b07e7\",\"type\":\"LogTicker\"}},\"id\":\"7e5bbead-3830-492b-86ed-f7dad0b128a2\",\"type\":\"LogAxis\"},{\"attributes\":{\"line_alpha\":0.3,\"line_color\":\"#377eb8\",\"line_width\":2,\"x\":{\"field\":\"x\"},\"y\":{\"field\":\"y\"}},\"id\":\"c280f9bb-7c4d-4471-ba17-2d89b491071b\",\"type\":\"Line\"},{\"attributes\":{\"line_color\":\"#4daf4a\",\"line_width\":1.5,\"x\":{\"field\":\"x\"},\"y\":{\"field\":\"y\"}},\"id\":\"1685abae-a331-4b85-b6ba-d0d6efba3dc4\",\"type\":\"Line\"},{\"attributes\":{\"fill_alpha\":{\"value\":0.1},\"fill_color\":{\"value\":\"#1f77b4\"},\"line_alpha\":{\"value\":0.1},\"line_color\":{\"value\":\"#1f77b4\"},\"x\":{\"field\":\"x\"},\"y\":{\"field\":\"y\"}},\"id\":\"d0e4761b-e598-476b-b4ce-e769dc9da864\",\"type\":\"Square\"},{\"attributes\":{\"callback\":null,\"data\":{\"x\":{\"__ndarray__\":\"7ZCdzKRYHz8H3pOJWmsiP94A72IYnCg/wvb4j7bnLz9TTuGhUTI0PyaD9OktITk/7BV+NL7aPj+jQV0vjL5CP10rKvahmEY/SRhVaxUTSz/BCtHQKCVQP3tmjea2MFM/CXVowye+Vj9RyQ8NMXRaP8sbF35G410/YesEAkW2YD+Qr22jG8diP9FtlWFNPmU/KvpFfZk+aD8dXcuCjvhrP2XUc5FNOXA/w0mbZMv9cD+r5l8yoQdvPwgHRbMujms/8px/jNjmaD8Nc23kDbtmPyML6CunyWQ/dj8KAtutYz8wkAFHZBJkPyDZZ8xnK2U/jBvEMGPvZT/9I/iMcA1mP74/YS2XvWc/GY0mXjjsaz9R1dCDTIRuP6rQvoZgFG0/AeXpt1PcZz8cl5E8x6dfP5bOjAo2vUs/zXfZ7MoPIr9Wjv6LrxNRvwwq5CkvIl+/BCkR3qd1Zr+t43ki6GVtv8gxkvQi93G/KoVtQTc/c780kR6yRMhxv2xh/M5Uo26/dFZVeUzuab8FxSTfkoNlvz9ka6haTGG/Cd/mEqhsWr+BXgrghWxSv6tOASz0H0W/eU5WlTLYJr9a8CL1g4QyP2hDiMZRlkc/rltS56mEUj/+5u4I4bBYP3I3xfCDPV4/oK6Q52qTYT8/JQPRLr5jPyq4Y5/8rGU/UFkeegNyZz+ve+s/ix5pP9sMWDf8vGo/7xTYPslGbD9/7AqK2o5tP0yJz56FJG4/tfvtnHplbT9KzbSDZfpqP40L/xmJP2c/iWwlzQbtYj+9tiqNgBhdP1VpzqxztFQ/\",\"dtype\":\"float64\",\"shape\":[75]},\"y\":{\"__ndarray__\":\"GhExyth1ND/Sv8nbtpRIP2vylNV0PVE/aTum7souWD/At0SJ8fVgPw3Iuahxymc/MSNhhJWvcD/bTfBN02d3P2zb5nxnaoA/CD5h5MAGhz8NmeH1TyaQP+zrCsc9p5Y/LbKd76fGnz/bLW5ISEmmPww9YvTcQq8/JV2OstnstT8Er5Y7M8G+P0c+r3jqkcU/5h99k6ZBzj88bCIzFzjVP4enV8oyxN0//yH99nXg5D8qOpLLf0jtP5kqGJXUifQ/c9cS8kHP/D+/DpwzojQEQIEmwoanVwxA4lgXt9HgE0BSSZ2AJuIbQAMJih9jjiNA5q4l5INuK0AwTKYKRj0zQNv5fmq8/DpAaCJseHrtQkB/+zpwzoxKQM3MzMzMeFJAZmZmZmZqWEAAAAAAAFxeQM3MzMzMJmJAmpmZmZkfZUBmZmZmZhhoQDMzMzMzEWtAAAAAAAAKbkBmZmZmZoFwQM3MzMzM/XFAMzMzMzN6c0CamZmZmfZ0QAAAAAAAc3ZAZmZmZmbvd0DNzMzMzGt5QDMzMzMz6HpAmpmZmZlkfEAAAAAAAOF9QGZmZmZmXX9AZmZmZuZsgECamZmZGSuBQM3MzMxM6YFAAAAAAICngkAzMzMzs2WDQGZmZmbmI4RAmpmZmRnihEDNzMzMTKCFQAAAAACAXoZAMzMzM7Mch0BmZmZm5tqHQJqZmZkZmYhAzczMzExXiUAAAAAAgBWKQDMzMzOz04pAZmZmZuaRi0CamZmZGVCMQM3MzMxMDo1AAAAAAIDMjUAzMzMzs4qOQGZmZmbmSI9A\",\"dtype\":\"float64\",\"shape\":[75]}},\"selected\":{\"id\":\"39ec48f7-1e9b-4b8e-8ac2-29b14e6809da\",\"type\":\"Selection\"},\"selection_policy\":{\"id\":\"fbd77bc1-ef9c-4817-b897-937ad0c9f6bd\",\"type\":\"UnionRenderers\"}},\"id\":\"8247b79d-d977-4802-aaf5-7231476ac83b\",\"type\":\"ColumnDataSource\"},{\"attributes\":{\"label\":{\"value\":\"CRD\"},\"renderers\":[{\"id\":\"e5343a5e-9046-4e32-a25d-b8dd8698593e\",\"type\":\"GlyphRenderer\"},{\"id\":\"4e7d8cfa-1722-48aa-a185-6703434b73d6\",\"type\":\"GlyphRenderer\"}]},\"id\":\"0c3e54ca-8049-4408-a635-b75b6f32907e\",\"type\":\"LegendItem\"},{\"attributes\":{\"active_drag\":\"auto\",\"active_inspect\":\"auto\",\"active_scroll\":\"auto\",\"active_tap\":\"auto\",\"tools\":[{\"id\":\"19706262-3f26-4549-a09f-7e46ab779513\",\"type\":\"PanTool\"},{\"id\":\"e1c34428-85c7-49a1-a671-c5f595b4df7a\",\"type\":\"WheelZoomTool\"},{\"id\":\"935e6cfa-eaf2-4df8-a774-4d12fe0a03ff\",\"type\":\"BoxZoomTool\"},{\"id\":\"b637bcb7-b067-4bbe-ac96-f2d024b79103\",\"type\":\"SaveTool\"},{\"id\":\"fa43a188-c40e-4fc7-9be9-d79ebf133852\",\"type\":\"ResetTool\"},{\"id\":\"6a30298c-5990-47ae-8e8c-205aaaeb144c\",\"type\":\"HelpTool\"}]},\"id\":\"6e456377-e940-46f0-af71-aca70660981f\",\"type\":\"Toolbar\"},{\"attributes\":{\"plot\":{\"id\":\"4f857d66-f8d9-486c-9de8-ce8e8b4d3d20\",\"subtype\":\"Figure\",\"type\":\"Plot\"},\"ticker\":{\"id\":\"aeaac989-b9ac-456a-95d6-103280a021ee\",\"type\":\"BasicTicker\"}},\"id\":\"4ccf6b5b-84d4-4f3f-9275-67dbb3312cc1\",\"type\":\"Grid\"},{\"attributes\":{\"data_source\":{\"id\":\"8247b79d-d977-4802-aaf5-7231476ac83b\",\"type\":\"ColumnDataSource\"},\"glyph\":{\"id\":\"c280f9bb-7c4d-4471-ba17-2d89b491071b\",\"type\":\"Line\"},\"hover_glyph\":null,\"muted_glyph\":null,\"nonselection_glyph\":{\"id\":\"d8a8c937-24ba-4c44-9fd4-70b30f08c6c6\",\"type\":\"Line\"},\"selection_glyph\":null,\"view\":{\"id\":\"b5485a77-5b17-4edf-bffb-cc553a5632cd\",\"type\":\"CDSView\"}},\"id\":\"f22a2149-cd15-4138-b090-41da988bf489\",\"type\":\"GlyphRenderer\"},{\"attributes\":{\"data_source\":{\"id\":\"c47df37d-a84d-40b7-b68b-8cacfe73400b\",\"type\":\"ColumnDataSource\"},\"glyph\":{\"id\":\"2f2e513c-1ab2-4e53-9b0d-b2eff6e79001\",\"type\":\"Square\"},\"hover_glyph\":null,\"muted_glyph\":null,\"nonselection_glyph\":{\"id\":\"d0e4761b-e598-476b-b4ce-e769dc9da864\",\"type\":\"Square\"},\"selection_glyph\":null,\"view\":{\"id\":\"b1bd87d4-5677-4329-84f0-eada6e669c87\",\"type\":\"CDSView\"}},\"id\":\"153c77d8-212c-4e03-8070-89e30e1962f3\",\"type\":\"GlyphRenderer\"},{\"attributes\":{\"fill_alpha\":{\"value\":0.7},\"fill_color\":{\"value\":\"#377eb8\"},\"line_alpha\":{\"value\":0.7},\"line_color\":{\"value\":\"#377eb8\"},\"x\":{\"field\":\"x\"},\"y\":{\"field\":\"y\"}},\"id\":\"255dd9c7-0ee4-4fd3-a9da-79b4227e5f54\",\"type\":\"Triangle\"},{\"attributes\":{\"label\":{\"value\":\"WGT igg=1\"},\"renderers\":[{\"id\":\"153c77d8-212c-4e03-8070-89e30e1962f3\",\"type\":\"GlyphRenderer\"},{\"id\":\"8c530203-1bf6-4e34-ae4d-9c0e5da1b9c3\",\"type\":\"GlyphRenderer\"}]},\"id\":\"2a099711-d94e-4913-a842-6365e7a2abf1\",\"type\":\"LegendItem\"},{\"attributes\":{},\"id\":\"aeaac989-b9ac-456a-95d6-103280a021ee\",\"type\":\"BasicTicker\"},{\"attributes\":{},\"id\":\"549c2440-688a-42dc-bdf2-1f4c07cafcdf\",\"type\":\"UnionRenderers\"},{\"attributes\":{},\"id\":\"19706262-3f26-4549-a09f-7e46ab779513\",\"type\":\"PanTool\"},{\"attributes\":{\"label\":{\"value\":\"WGT igg=10\"},\"renderers\":[{\"id\":\"8d4e2ee1-a64b-4ce5-b2e6-9a3ad3afc012\",\"type\":\"GlyphRenderer\"},{\"id\":\"f22a2149-cd15-4138-b090-41da988bf489\",\"type\":\"GlyphRenderer\"}]},\"id\":\"4f1e328b-fee9-451d-8ed8-94971d6904fa\",\"type\":\"LegendItem\"},{\"attributes\":{\"bottom_units\":\"screen\",\"fill_alpha\":{\"value\":0.5},\"fill_color\":{\"value\":\"lightgrey\"},\"left_units\":\"screen\",\"level\":\"overlay\",\"line_alpha\":{\"value\":1.0},\"line_color\":{\"value\":\"black\"},\"line_dash\":[4,4],\"line_width\":{\"value\":2},\"plot\":null,\"render_mode\":\"css\",\"right_units\":\"screen\",\"top_units\":\"screen\"},\"id\":\"2949d93c-b24f-45e3-90b7-8c12839ee00b\",\"type\":\"BoxAnnotation\"},{\"attributes\":{},\"id\":\"09df4c3a-0e3a-40b4-9dfb-ad5ec58a8972\",\"type\":\"Selection\"},{\"attributes\":{},\"id\":\"56b9f6f2-4c22-4bbe-b4d5-8905d5bfe5c0\",\"type\":\"UnionRenderers\"},{\"attributes\":{},\"id\":\"6a30298c-5990-47ae-8e8c-205aaaeb144c\",\"type\":\"HelpTool\"},{\"attributes\":{},\"id\":\"fa43a188-c40e-4fc7-9be9-d79ebf133852\",\"type\":\"ResetTool\"},{\"attributes\":{\"num_minor_ticks\":10},\"id\":\"8a4248f8-1eeb-4d9a-99c3-575e4d1b07e7\",\"type\":\"LogTicker\"},{\"attributes\":{},\"id\":\"b637bcb7-b067-4bbe-ac96-f2d024b79103\",\"type\":\"SaveTool\"},{\"attributes\":{\"overlay\":{\"id\":\"2949d93c-b24f-45e3-90b7-8c12839ee00b\",\"type\":\"BoxAnnotation\"}},\"id\":\"935e6cfa-eaf2-4df8-a774-4d12fe0a03ff\",\"type\":\"BoxZoomTool\"},{\"attributes\":{},\"id\":\"e1c34428-85c7-49a1-a671-c5f595b4df7a\",\"type\":\"WheelZoomTool\"},{\"attributes\":{\"callback\":null,\"end\":0.01,\"start\":1020},\"id\":\"0f836ad1-925d-419e-b2c7-472a9af9f774\",\"type\":\"Range1d\"},{\"attributes\":{\"callback\":null,\"data\":{\"x\":{\"__ndarray__\":\"QLqGSC5AGb9iDK/E0B4Qv4IqRMPSavo+8t8RQJ8xIT/2nZyYDOkwP0fUiF3gfjo/9It6TMbcQj+PU9bKgGxJPw6cZ7h+i1A/dsYXr2kFVT+RJa9q4j9aP8HklGlFLmA/j2w/tG6+Yz9eqRkgeXFnP8GPToPAz2o/vilgxgo6bj/MqP4s0hdxP5AY/y6TcHM/TrY0iOVHdj9KAl40Vch5P0kK0uvb+X0/TrFJSxwqfz925yt2awF8P+oMnlZJnHg/AAfJWG9Idj+fxkg1tpd0P7yf4fGXFHM/XsqYOV8Xcj9rFcqw9BtyP95UDKZNFHI/j1h+Jf+vcD+A8IU4OzprP1ie8Ug2umY/5EP3xVF0Zj9NaWY2mxFlP0pK+U4l6mE/Am8/n9NzXD9NDrc1vVpSP9l5P42vNUA/isiHZ+G+Bz8TcxmV6Hg1v36zb5Ehm0a/0HLsXj8kUr/X4fPBdXdbvxj/2JK3FmS/b+nfETgCZ7/Dm3oDobNjv0pMtzjoY16/o83PlvUXWL8XevIgpShTv2YOTi9ti02/zUfWNoIXRb+xoT5v/iE5v6hXOS/KWR6/XJDfk5sKJT8OV00cXfc8P06O/wfkrEc//DYa2DJIUD8NkysojG5UP3w6JqSYMFg/jeCpPfGHWz+5WjrtiIZeP91sJK/kqGA/YlqXe4EQYj+GkWb8F5ljPx0LWBKjXmU/mziAEB5sZz9OdPCkspVpP1RJOegmO2s/vGqvT0pSaz+mFiiqeTVpP08eOJ1bXmU/OfoMZhvRYD9ZdJzvaGJYPxYJ0mv1Qk4/\",\"dtype\":\"float64\",\"shape\":[75]},\"y\":{\"__ndarray__\":\"GhExyth1ND/Sv8nbtpRIP2vylNV0PVE/aTum7souWD/At0SJ8fVgPw3Iuahxymc/MSNhhJWvcD/bTfBN02d3P2zb5nxnaoA/CD5h5MAGhz8NmeH1TyaQP+zrCsc9p5Y/LbKd76fGnz/bLW5ISEmmPww9YvTcQq8/JV2OstnstT8Er5Y7M8G+P0c+r3jqkcU/5h99k6ZBzj88bCIzFzjVP4enV8oyxN0//yH99nXg5D8qOpLLf0jtP5kqGJXUifQ/c9cS8kHP/D+/DpwzojQEQIEmwoanVwxA4lgXt9HgE0BSSZ2AJuIbQAMJih9jjiNA5q4l5INuK0AwTKYKRj0zQNv5fmq8/DpAaCJseHrtQkB/+zpwzoxKQM3MzMzMeFJAZmZmZmZqWEAAAAAAAFxeQM3MzMzMJmJAmpmZmZkfZUBmZmZmZhhoQDMzMzMzEWtAAAAAAAAKbkBmZmZmZoFwQM3MzMzM/XFAMzMzMzN6c0CamZmZmfZ0QAAAAAAAc3ZAZmZmZmbvd0DNzMzMzGt5QDMzMzMz6HpAmpmZmZlkfEAAAAAAAOF9QGZmZmZmXX9AZmZmZuZsgECamZmZGSuBQM3MzMxM6YFAAAAAAICngkAzMzMzs2WDQGZmZmbmI4RAmpmZmRnihEDNzMzMTKCFQAAAAACAXoZAMzMzM7Mch0BmZmZm5tqHQJqZmZkZmYhAzczMzExXiUAAAAAAgBWKQDMzMzOz04pAZmZmZuaRi0CamZmZGVCMQM3MzMxMDo1AAAAAAIDMjUAzMzMzs4qOQGZmZmbmSI9A\",\"dtype\":\"float64\",\"shape\":[75]}},\"selected\":{\"id\":\"a6c44732-124c-48a5-baf7-0de457b44c8c\",\"type\":\"Selection\"},\"selection_policy\":{\"id\":\"ae4081cc-eeb6-4221-ae66-b6bdcf5e012e\",\"type\":\"UnionRenderers\"}},\"id\":\"26dbc702-71a1-4e90-b48e-6dfc7969c69b\",\"type\":\"ColumnDataSource\"},{\"attributes\":{\"line_color\":\"#4daf4a\",\"line_width\":1.5,\"x\":{\"field\":\"x\"},\"y\":{\"field\":\"y\"}},\"id\":\"c45333c0-4d82-4f3d-9090-983b96a0bdf1\",\"type\":\"Line\"},{\"attributes\":{},\"id\":\"5fa069aa-fca8-4681-8dc0-7b5305d805a3\",\"type\":\"UnionRenderers\"},{\"attributes\":{\"line_alpha\":0.1,\"line_color\":\"#1f77b4\",\"line_width\":1.5,\"x\":{\"field\":\"x\"},\"y\":{\"field\":\"y\"}},\"id\":\"27ebd7e4-3a02-434f-8c34-48a1763a172b\",\"type\":\"Line\"},{\"attributes\":{\"callback\":null,\"data\":{\"x\":{\"__ndarray__\":\"tOgLV9LYIj+hWR4TRSImP96CFi3rii0/OutdiwMjMz9XS49cNjc4P8vyNUd2Hj4/Uxmlox18Qj+ICpJ2QXRGP9v51p4yEEs/B7nB0gA2UD80oG1c11RTP5aOX9+a+VY/h6Q1DsU5Wz/5DS9igapfP/9UL5Mu42E/FkGH7MgAZD/QJYjxlHlmP/rxuCTebGk/5fH70UwEbT8IKCuLZL1wPxTJ0chZa3M/P2c8HclWdD/gDV/ibJNyPwYnCPmFgHA/57+fFAjfbT++V52zhk1rP8hW6OMguGg/v7ZZWFJXZz8lxtBAnKZnP1zqyUAKjGg/jNAeG8DcaD/iV+3Yz/RnP5gmH9XNWWg/6ymnMWkpaz8cPRSLMxRsP8zG2gk1Vmk/MP3gtpXiYz8HpTI8K6ZYP8iNAlYvD0E/PpyTwEAQNr8sHNMfUjZSv+Du2hViRF6/oxtuexMnZb9CsemOq3Rrv8zibuZR3nC/pl78k80Tcr/rMOeYen1wvx1DByrR/Gu/94lYDKt0Z7+kNmNst1Fjv/NST3U42V6/qAgXws9XV78yJhnKJAJQvwZcULN3mEG/68jRoEh+G79EYYqTAqw0P56kbwS4iEc/5vavidz1UT+f0djKy6JXP8MsNT3PuFw/S3RE7V+aYD8YgA9kmZNiP6uv2YowV2Q/iCmEY0z5ZT9+n81RF45nP7xFeCTrI2k/WbMSFry4aj/yJ1gKoiFsP099vU4s6Gw/4oUnDr1ZbD/FpL67vBFqP8bT9uAKcGY/6b6EGBQ3Yj/tdY7mqOFbP9bCSS7InFM/\",\"dtype\":\"float64\",\"shape\":[75]},\"y\":{\"__ndarray__\":\"GhExyth1ND/Sv8nbtpRIP2vylNV0PVE/aTum7souWD/At0SJ8fVgPw3Iuahxymc/MSNhhJWvcD/bTfBN02d3P2zb5nxnaoA/CD5h5MAGhz8NmeH1TyaQP+zrCsc9p5Y/LbKd76fGnz/bLW5ISEmmPww9YvTcQq8/JV2OstnstT8Er5Y7M8G+P0c+r3jqkcU/5h99k6ZBzj88bCIzFzjVP4enV8oyxN0//yH99nXg5D8qOpLLf0jtP5kqGJXUifQ/c9cS8kHP/D+/DpwzojQEQIEmwoanVwxA4lgXt9HgE0BSSZ2AJuIbQAMJih9jjiNA5q4l5INuK0AwTKYKRj0zQNv5fmq8/DpAaCJseHrtQkB/+zpwzoxKQM3MzMzMeFJAZmZmZmZqWEAAAAAAAFxeQM3MzMzMJmJAmpmZmZkfZUBmZmZmZhhoQDMzMzMzEWtAAAAAAAAKbkBmZmZmZoFwQM3MzMzM/XFAMzMzMzN6c0CamZmZmfZ0QAAAAAAAc3ZAZmZmZmbvd0DNzMzMzGt5QDMzMzMz6HpAmpmZmZlkfEAAAAAAAOF9QGZmZmZmXX9AZmZmZuZsgECamZmZGSuBQM3MzMxM6YFAAAAAAICngkAzMzMzs2WDQGZmZmbmI4RAmpmZmRnihEDNzMzMTKCFQAAAAACAXoZAMzMzM7Mch0BmZmZm5tqHQJqZmZkZmYhAzczMzExXiUAAAAAAgBWKQDMzMzOz04pAZmZmZuaRi0CamZmZGVCMQM3MzMxMDo1AAAAAAIDMjUAzMzMzs4qOQGZmZmbmSI9A\",\"dtype\":\"float64\",\"shape\":[75]}},\"selected\":{\"id\":\"cb3b3767-fee8-4c10-a01c-cf3ce060a448\",\"type\":\"Selection\"},\"selection_policy\":{\"id\":\"da46fcd2-dee9-4828-9786-8e473cc10ca4\",\"type\":\"UnionRenderers\"}},\"id\":\"703697a9-2ed3-4254-b6a8-c83b39824e87\",\"type\":\"ColumnDataSource\"},{\"attributes\":{\"data_source\":{\"id\":\"7cd1d83a-b2b2-4c7b-881b-ceba3e276ddf\",\"type\":\"ColumnDataSource\"},\"glyph\":{\"id\":\"c45333c0-4d82-4f3d-9090-983b96a0bdf1\",\"type\":\"Line\"},\"hover_glyph\":null,\"muted_glyph\":null,\"nonselection_glyph\":{\"id\":\"27ebd7e4-3a02-434f-8c34-48a1763a172b\",\"type\":\"Line\"},\"selection_glyph\":null,\"view\":{\"id\":\"7fee4cc3-b94d-43ec-8caf-0d3b3b4d5bb5\",\"type\":\"CDSView\"}},\"id\":\"9132b984-18bb-47d4-9f32-e68309f7f3e1\",\"type\":\"GlyphRenderer\"},{\"attributes\":{},\"id\":\"08472ec2-076a-443e-ab69-6ddc46a76bb9\",\"type\":\"Selection\"},{\"attributes\":{\"data_source\":{\"id\":\"26dbc702-71a1-4e90-b48e-6dfc7969c69b\",\"type\":\"ColumnDataSource\"},\"glyph\":{\"id\":\"7659ab0f-c65c-4a7b-9bb8-63fb5cfc8eb4\",\"type\":\"Circle\"},\"hover_glyph\":null,\"muted_glyph\":null,\"nonselection_glyph\":{\"id\":\"0835a2a7-8a02-45f7-94f0-449e8304cef2\",\"type\":\"Circle\"},\"selection_glyph\":null,\"view\":{\"id\":\"5394756d-f858-4255-929f-c8bda4287f95\",\"type\":\"CDSView\"}},\"id\":\"8cd24134-ac91-42de-a3e5-5e3a44f27a43\",\"type\":\"GlyphRenderer\"},{\"attributes\":{\"data_source\":{\"id\":\"703697a9-2ed3-4254-b6a8-c83b39824e87\",\"type\":\"ColumnDataSource\"},\"glyph\":{\"id\":\"20d54961-8017-482a-a282-4a004865156b\",\"type\":\"Square\"},\"hover_glyph\":null,\"muted_glyph\":null,\"nonselection_glyph\":{\"id\":\"7af1f03d-b02f-46f9-b75b-209dfc054ca2\",\"type\":\"Square\"},\"selection_glyph\":null,\"view\":{\"id\":\"9bee5e1d-e093-4771-9394-379464e8897d\",\"type\":\"CDSView\"}},\"id\":\"d67b6cf4-8c8f-47bc-8ad2-83f5aadf459e\",\"type\":\"GlyphRenderer\"},{\"attributes\":{\"source\":{\"id\":\"26dbc702-71a1-4e90-b48e-6dfc7969c69b\",\"type\":\"ColumnDataSource\"}},\"id\":\"5394756d-f858-4255-929f-c8bda4287f95\",\"type\":\"CDSView\"},{\"attributes\":{\"fill_alpha\":{\"value\":0.1},\"fill_color\":{\"value\":\"#1f77b4\"},\"line_alpha\":{\"value\":0.1},\"line_color\":{\"value\":\"#1f77b4\"},\"x\":{\"field\":\"x\"},\"y\":{\"field\":\"y\"}},\"id\":\"0835a2a7-8a02-45f7-94f0-449e8304cef2\",\"type\":\"Circle\"},{\"attributes\":{},\"id\":\"7c6d2954-027f-46d3-a5fc-558d136194ab\",\"type\":\"Selection\"},{\"attributes\":{\"source\":{\"id\":\"703697a9-2ed3-4254-b6a8-c83b39824e87\",\"type\":\"ColumnDataSource\"}},\"id\":\"9bee5e1d-e093-4771-9394-379464e8897d\",\"type\":\"CDSView\"},{\"attributes\":{\"fill_alpha\":{\"value\":0.1},\"fill_color\":{\"value\":\"#1f77b4\"},\"line_alpha\":{\"value\":0.1},\"line_color\":{\"value\":\"#1f77b4\"},\"x\":{\"field\":\"x\"},\"y\":{\"field\":\"y\"}},\"id\":\"7af1f03d-b02f-46f9-b75b-209dfc054ca2\",\"type\":\"Square\"},{\"attributes\":{\"callback\":null,\"data\":{\"x\":{\"__ndarray__\":\"QLqGSC5AGb9iDK/E0B4Qv4IqRMPSavo+8t8RQJ8xIT/2nZyYDOkwP0fUiF3gfjo/9It6TMbcQj+PU9bKgGxJPw6cZ7h+i1A/dsYXr2kFVT+RJa9q4j9aP8HklGlFLmA/j2w/tG6+Yz9eqRkgeXFnP8GPToPAz2o/vilgxgo6bj/MqP4s0hdxP5AY/y6TcHM/TrY0iOVHdj9KAl40Vch5P0kK0uvb+X0/TrFJSxwqfz925yt2awF8P+oMnlZJnHg/AAfJWG9Idj+fxkg1tpd0P7yf4fGXFHM/XsqYOV8Xcj9rFcqw9BtyP95UDKZNFHI/j1h+Jf+vcD+A8IU4OzprP1ie8Ug2umY/5EP3xVF0Zj9NaWY2mxFlP0pK+U4l6mE/Am8/n9NzXD9NDrc1vVpSP9l5P42vNUA/isiHZ+G+Bz8TcxmV6Hg1v36zb5Ehm0a/0HLsXj8kUr/X4fPBdXdbvxj/2JK3FmS/b+nfETgCZ7/Dm3oDobNjv0pMtzjoY16/o83PlvUXWL8XevIgpShTv2YOTi9ti02/zUfWNoIXRb+xoT5v/iE5v6hXOS/KWR6/XJDfk5sKJT8OV00cXfc8P06O/wfkrEc//DYa2DJIUD8NkysojG5UP3w6JqSYMFg/jeCpPfGHWz+5WjrtiIZeP91sJK/kqGA/YlqXe4EQYj+GkWb8F5ljPx0LWBKjXmU/mziAEB5sZz9OdPCkspVpP1RJOegmO2s/vGqvT0pSaz+mFiiqeTVpP08eOJ1bXmU/OfoMZhvRYD9ZdJzvaGJYPxYJ0mv1Qk4/\",\"dtype\":\"float64\",\"shape\":[75]},\"y\":{\"__ndarray__\":\"GhExyth1ND/Sv8nbtpRIP2vylNV0PVE/aTum7souWD/At0SJ8fVgPw3Iuahxymc/MSNhhJWvcD/bTfBN02d3P2zb5nxnaoA/CD5h5MAGhz8NmeH1TyaQP+zrCsc9p5Y/LbKd76fGnz/bLW5ISEmmPww9YvTcQq8/JV2OstnstT8Er5Y7M8G+P0c+r3jqkcU/5h99k6ZBzj88bCIzFzjVP4enV8oyxN0//yH99nXg5D8qOpLLf0jtP5kqGJXUifQ/c9cS8kHP/D+/DpwzojQEQIEmwoanVwxA4lgXt9HgE0BSSZ2AJuIbQAMJih9jjiNA5q4l5INuK0AwTKYKRj0zQNv5fmq8/DpAaCJseHrtQkB/+zpwzoxKQM3MzMzMeFJAZmZmZmZqWEAAAAAAAFxeQM3MzMzMJmJAmpmZmZkfZUBmZmZmZhhoQDMzMzMzEWtAAAAAAAAKbkBmZmZmZoFwQM3MzMzM/XFAMzMzMzN6c0CamZmZmfZ0QAAAAAAAc3ZAZmZmZmbvd0DNzMzMzGt5QDMzMzMz6HpAmpmZmZlkfEAAAAAAAOF9QGZmZmZmXX9AZmZmZuZsgECamZmZGSuBQM3MzMxM6YFAAAAAAICngkAzMzMzs2WDQGZmZmbmI4RAmpmZmRnihEDNzMzMTKCFQAAAAACAXoZAMzMzM7Mch0BmZmZm5tqHQJqZmZkZmYhAzczMzExXiUAAAAAAgBWKQDMzMzOz04pAZmZmZuaRi0CamZmZGVCMQM3MzMxMDo1AAAAAAIDMjUAzMzMzs4qOQGZmZmbmSI9A\",\"dtype\":\"float64\",\"shape\":[75]}},\"selected\":{\"id\":\"00516a3a-9503-4ea8-92f0-172f3f991ba7\",\"type\":\"Selection\"},\"selection_policy\":{\"id\":\"9506c9b9-f331-4bf2-abd5-f2b74951782f\",\"type\":\"UnionRenderers\"}},\"id\":\"7cd1d83a-b2b2-4c7b-881b-ceba3e276ddf\",\"type\":\"ColumnDataSource\"},{\"attributes\":{\"line_alpha\":0.6,\"line_color\":\"#984ea3\",\"line_width\":3,\"x\":{\"field\":\"x\"},\"y\":{\"field\":\"y\"}},\"id\":\"25bca566-4e82-4bda-9148-cff2c04026d8\",\"type\":\"Line\"},{\"attributes\":{\"data_source\":{\"id\":\"337e350b-cfa4-411a-b8f8-d33860509969\",\"type\":\"ColumnDataSource\"},\"glyph\":{\"id\":\"25bca566-4e82-4bda-9148-cff2c04026d8\",\"type\":\"Line\"},\"hover_glyph\":null,\"muted_glyph\":null,\"nonselection_glyph\":{\"id\":\"b40a99bd-2a06-4d96-902b-4f35cfb9975c\",\"type\":\"Line\"},\"selection_glyph\":null,\"view\":{\"id\":\"4cfed038-4083-48d0-97af-749e35ee42b5\",\"type\":\"CDSView\"}},\"id\":\"ce9ab4bc-f00d-4d54-be07-2c3cc0d06ccd\",\"type\":\"GlyphRenderer\"},{\"attributes\":{\"callback\":null,\"data\":{\"x\":{\"__ndarray__\":\"7ZCdzKRYHz8H3pOJWmsiP94A72IYnCg/wvb4j7bnLz9TTuGhUTI0PyaD9OktITk/7BV+NL7aPj+jQV0vjL5CP10rKvahmEY/SRhVaxUTSz/BCtHQKCVQP3tmjea2MFM/CXVowye+Vj9RyQ8NMXRaP8sbF35G410/YesEAkW2YD+Qr22jG8diP9FtlWFNPmU/KvpFfZk+aD8dXcuCjvhrP2XUc5FNOXA/w0mbZMv9cD+r5l8yoQdvPwgHRbMujms/8px/jNjmaD8Nc23kDbtmPyML6CunyWQ/dj8KAtutYz8wkAFHZBJkPyDZZ8xnK2U/jBvEMGPvZT/9I/iMcA1mP74/YS2XvWc/GY0mXjjsaz9R1dCDTIRuP6rQvoZgFG0/AeXpt1PcZz8cl5E8x6dfP5bOjAo2vUs/zXfZ7MoPIr9Wjv6LrxNRvwwq5CkvIl+/BCkR3qd1Zr+t43ki6GVtv8gxkvQi93G/KoVtQTc/c780kR6yRMhxv2xh/M5Uo26/dFZVeUzuab8FxSTfkoNlvz9ka6haTGG/Cd/mEqhsWr+BXgrghWxSv6tOASz0H0W/eU5WlTLYJr9a8CL1g4QyP2hDiMZRlkc/rltS56mEUj/+5u4I4bBYP3I3xfCDPV4/oK6Q52qTYT8/JQPRLr5jPyq4Y5/8rGU/UFkeegNyZz+ve+s/ix5pP9sMWDf8vGo/7xTYPslGbD9/7AqK2o5tP0yJz56FJG4/tfvtnHplbT9KzbSDZfpqP40L/xmJP2c/iWwlzQbtYj+9tiqNgBhdP1VpzqxztFQ/\",\"dtype\":\"float64\",\"shape\":[75]},\"y\":{\"__ndarray__\":\"GhExyth1ND/Sv8nbtpRIP2vylNV0PVE/aTum7souWD/At0SJ8fVgPw3Iuahxymc/MSNhhJWvcD/bTfBN02d3P2zb5nxnaoA/CD5h5MAGhz8NmeH1TyaQP+zrCsc9p5Y/LbKd76fGnz/bLW5ISEmmPww9YvTcQq8/JV2OstnstT8Er5Y7M8G+P0c+r3jqkcU/5h99k6ZBzj88bCIzFzjVP4enV8oyxN0//yH99nXg5D8qOpLLf0jtP5kqGJXUifQ/c9cS8kHP/D+/DpwzojQEQIEmwoanVwxA4lgXt9HgE0BSSZ2AJuIbQAMJih9jjiNA5q4l5INuK0AwTKYKRj0zQNv5fmq8/DpAaCJseHrtQkB/+zpwzoxKQM3MzMzMeFJAZmZmZmZqWEAAAAAAAFxeQM3MzMzMJmJAmpmZmZkfZUBmZmZmZhhoQDMzMzMzEWtAAAAAAAAKbkBmZmZmZoFwQM3MzMzM/XFAMzMzMzN6c0CamZmZmfZ0QAAAAAAAc3ZAZmZmZmbvd0DNzMzMzGt5QDMzMzMz6HpAmpmZmZlkfEAAAAAAAOF9QGZmZmZmXX9AZmZmZuZsgECamZmZGSuBQM3MzMxM6YFAAAAAAICngkAzMzMzs2WDQGZmZmbmI4RAmpmZmRnihEDNzMzMTKCFQAAAAACAXoZAMzMzM7Mch0BmZmZm5tqHQJqZmZkZmYhAzczMzExXiUAAAAAAgBWKQDMzMzOz04pAZmZmZuaRi0CamZmZGVCMQM3MzMxMDo1AAAAAAIDMjUAzMzMzs4qOQGZmZmbmSI9A\",\"dtype\":\"float64\",\"shape\":[75]}},\"selected\":{\"id\":\"d0f491e5-7cfd-478d-a229-e26313f03d6a\",\"type\":\"Selection\"},\"selection_policy\":{\"id\":\"776a72ca-0dea-4ffb-9b8d-9a16a3db17a2\",\"type\":\"UnionRenderers\"}},\"id\":\"095b256a-f0f8-428d-a6a5-d684c3e374e2\",\"type\":\"ColumnDataSource\"},{\"attributes\":{\"fill_alpha\":{\"value\":0.1},\"fill_color\":{\"value\":\"#1f77b4\"},\"line_alpha\":{\"value\":0.1},\"line_color\":{\"value\":\"#1f77b4\"},\"x\":{\"field\":\"x\"},\"y\":{\"field\":\"y\"}},\"id\":\"5073a050-a313-48ef-beff-12abc69eb761\",\"type\":\"Triangle\"},{\"attributes\":{\"source\":{\"id\":\"7cd1d83a-b2b2-4c7b-881b-ceba3e276ddf\",\"type\":\"ColumnDataSource\"}},\"id\":\"7fee4cc3-b94d-43ec-8caf-0d3b3b4d5bb5\",\"type\":\"CDSView\"},{\"attributes\":{\"callback\":null,\"data\":{\"x\":{\"__ndarray__\":\"tOgLV9LYIj+hWR4TRSImP96CFi3rii0/OutdiwMjMz9XS49cNjc4P8vyNUd2Hj4/Uxmlox18Qj+ICpJ2QXRGP9v51p4yEEs/B7nB0gA2UD80oG1c11RTP5aOX9+a+VY/h6Q1DsU5Wz/5DS9igapfP/9UL5Mu42E/FkGH7MgAZD/QJYjxlHlmP/rxuCTebGk/5fH70UwEbT8IKCuLZL1wPxTJ0chZa3M/P2c8HclWdD/gDV/ibJNyPwYnCPmFgHA/57+fFAjfbT++V52zhk1rP8hW6OMguGg/v7ZZWFJXZz8lxtBAnKZnP1zqyUAKjGg/jNAeG8DcaD/iV+3Yz/RnP5gmH9XNWWg/6ymnMWkpaz8cPRSLMxRsP8zG2gk1Vmk/MP3gtpXiYz8HpTI8K6ZYP8iNAlYvD0E/PpyTwEAQNr8sHNMfUjZSv+Du2hViRF6/oxtuexMnZb9CsemOq3Rrv8zibuZR3nC/pl78k80Tcr/rMOeYen1wvx1DByrR/Gu/94lYDKt0Z7+kNmNst1Fjv/NST3U42V6/qAgXws9XV78yJhnKJAJQvwZcULN3mEG/68jRoEh+G79EYYqTAqw0P56kbwS4iEc/5vavidz1UT+f0djKy6JXP8MsNT3PuFw/S3RE7V+aYD8YgA9kmZNiP6uv2YowV2Q/iCmEY0z5ZT9+n81RF45nP7xFeCTrI2k/WbMSFry4aj/yJ1gKoiFsP099vU4s6Gw/4oUnDr1ZbD/FpL67vBFqP8bT9uAKcGY/6b6EGBQ3Yj/tdY7mqOFbP9bCSS7InFM/\",\"dtype\":\"float64\",\"shape\":[75]},\"y\":{\"__ndarray__\":\"GhExyth1ND/Sv8nbtpRIP2vylNV0PVE/aTum7souWD/At0SJ8fVgPw3Iuahxymc/MSNhhJWvcD/bTfBN02d3P2zb5nxnaoA/CD5h5MAGhz8NmeH1TyaQP+zrCsc9p5Y/LbKd76fGnz/bLW5ISEmmPww9YvTcQq8/JV2OstnstT8Er5Y7M8G+P0c+r3jqkcU/5h99k6ZBzj88bCIzFzjVP4enV8oyxN0//yH99nXg5D8qOpLLf0jtP5kqGJXUifQ/c9cS8kHP/D+/DpwzojQEQIEmwoanVwxA4lgXt9HgE0BSSZ2AJuIbQAMJih9jjiNA5q4l5INuK0AwTKYKRj0zQNv5fmq8/DpAaCJseHrtQkB/+zpwzoxKQM3MzMzMeFJAZmZmZmZqWEAAAAAAAFxeQM3MzMzMJmJAmpmZmZkfZUBmZmZmZhhoQDMzMzMzEWtAAAAAAAAKbkBmZmZmZoFwQM3MzMzM/XFAMzMzMzN6c0CamZmZmfZ0QAAAAAAAc3ZAZmZmZmbvd0DNzMzMzGt5QDMzMzMz6HpAmpmZmZlkfEAAAAAAAOF9QGZmZmZmXX9AZmZmZuZsgECamZmZGSuBQM3MzMxM6YFAAAAAAICngkAzMzMzs2WDQGZmZmbmI4RAmpmZmRnihEDNzMzMTKCFQAAAAACAXoZAMzMzM7Mch0BmZmZm5tqHQJqZmZkZmYhAzczMzExXiUAAAAAAgBWKQDMzMzOz04pAZmZmZuaRi0CamZmZGVCMQM3MzMxMDo1AAAAAAIDMjUAzMzMzs4qOQGZmZmbmSI9A\",\"dtype\":\"float64\",\"shape\":[75]}},\"selected\":{\"id\":\"6fee039e-5edc-4920-a85d-1ecf74d36136\",\"type\":\"Selection\"},\"selection_policy\":{\"id\":\"9d1bb783-b03d-4043-beb6-2728068147eb\",\"type\":\"UnionRenderers\"}},\"id\":\"337e350b-cfa4-411a-b8f8-d33860509969\",\"type\":\"ColumnDataSource\"},{\"attributes\":{\"line_alpha\":0.1,\"line_color\":\"#1f77b4\",\"line_width\":3,\"x\":{\"field\":\"x\"},\"y\":{\"field\":\"y\"}},\"id\":\"b40a99bd-2a06-4d96-902b-4f35cfb9975c\",\"type\":\"Line\"},{\"attributes\":{\"fill_alpha\":{\"value\":0.7},\"fill_color\":{\"value\":\"#4daf4a\"},\"line_alpha\":{\"value\":0.7},\"line_color\":{\"value\":\"#4daf4a\"},\"x\":{\"field\":\"x\"},\"y\":{\"field\":\"y\"}},\"id\":\"7659ab0f-c65c-4a7b-9bb8-63fb5cfc8eb4\",\"type\":\"Circle\"},{\"attributes\":{\"fill_alpha\":{\"value\":0.7},\"fill_color\":{\"value\":\"#984ea3\"},\"line_alpha\":{\"value\":0.7},\"line_color\":{\"value\":\"#984ea3\"},\"x\":{\"field\":\"x\"},\"y\":{\"field\":\"y\"}},\"id\":\"20d54961-8017-482a-a282-4a004865156b\",\"type\":\"Square\"},{\"attributes\":{\"fill_alpha\":{\"value\":0.7},\"fill_color\":{\"value\":\"#377eb8\"},\"line_alpha\":{\"value\":0.7},\"line_color\":{\"value\":\"#377eb8\"},\"x\":{\"field\":\"x\"},\"y\":{\"field\":\"y\"}},\"id\":\"cd1af4b9-5ecf-4f81-ae59-a8abf1564690\",\"type\":\"Triangle\"},{\"attributes\":{\"source\":{\"id\":\"337e350b-cfa4-411a-b8f8-d33860509969\",\"type\":\"ColumnDataSource\"}},\"id\":\"4cfed038-4083-48d0-97af-749e35ee42b5\",\"type\":\"CDSView\"},{\"attributes\":{\"dimension\":1,\"plot\":{\"id\":\"b79ef203-0768-4355-ba41-2b9ce14dad0f\",\"subtype\":\"Figure\",\"type\":\"Plot\"},\"ticker\":{\"id\":\"1286f6cd-150d-477e-817d-f95a78ce08d8\",\"type\":\"BasicTicker\"}},\"id\":\"b37cb62d-f6ec-496c-8bc3-f49915f8c069\",\"type\":\"Grid\"},{\"attributes\":{\"overlay\":{\"id\":\"6a1fa533-ecdb-43f2-a62d-297d722d2065\",\"type\":\"BoxAnnotation\"}},\"id\":\"749a3312-4ac1-4f75-a883-82a393da1a47\",\"type\":\"BoxZoomTool\"},{\"attributes\":{\"items\":[{\"id\":\"88eec79a-6922-4d63-8cbd-cdc15f98a289\",\"type\":\"LegendItem\"},{\"id\":\"2f8ee43c-a4c1-4c75-a1fb-cc806a01a93d\",\"type\":\"LegendItem\"},{\"id\":\"bce1497d-bd62-4316-9b32-f40c49279556\",\"type\":\"LegendItem\"}],\"label_text_font_size\":{\"value\":\"8pt\"},\"location\":\"top_center\",\"orientation\":\"horizontal\",\"plot\":{\"id\":\"4f857d66-f8d9-486c-9de8-ce8e8b4d3d20\",\"subtype\":\"Figure\",\"type\":\"Plot\"}},\"id\":\"2842000d-d157-49bf-b7e3-5d4cea0a24dd\",\"type\":\"Legend\"},{\"attributes\":{},\"id\":\"3249be6e-6927-43b0-b666-a34355629a70\",\"type\":\"WheelZoomTool\"},{\"attributes\":{},\"id\":\"108ce90e-c3b5-4b8e-a875-23e0e1938407\",\"type\":\"HelpTool\"},{\"attributes\":{},\"id\":\"bb7b8038-68a9-47db-87b4-4275571cc0f2\",\"type\":\"PanTool\"},{\"attributes\":{},\"id\":\"6e0c0370-06f5-4e3c-841c-8bf7e6a4e4b1\",\"type\":\"SaveTool\"},{\"attributes\":{\"data_source\":{\"id\":\"1910c676-bb75-4ee3-a2fc-f26c91921709\",\"type\":\"ColumnDataSource\"},\"glyph\":{\"id\":\"2acb4dd4-45c1-4405-8359-f414a6adc528\",\"type\":\"Circle\"},\"hover_glyph\":null,\"muted_glyph\":null,\"nonselection_glyph\":{\"id\":\"76414850-5431-4e9e-a90b-3c616a9608ec\",\"type\":\"Circle\"},\"selection_glyph\":null,\"view\":{\"id\":\"61ada9bd-d537-45c7-a0a4-a8c39223f93a\",\"type\":\"CDSView\"}},\"id\":\"e5343a5e-9046-4e32-a25d-b8dd8698593e\",\"type\":\"GlyphRenderer\"},{\"attributes\":{},\"id\":\"f19e0d59-3500-48a5-bd4c-1c384c18ddcf\",\"type\":\"ResetTool\"},{\"attributes\":{\"callback\":null,\"end\":0.007695720130000001,\"start\":-0.00119878493},\"id\":\"7a1dcecd-6c23-4c73-b475-8541f475a3ac\",\"type\":\"Range1d\"},{\"attributes\":{},\"id\":\"1286f6cd-150d-477e-817d-f95a78ce08d8\",\"type\":\"BasicTicker\"},{\"attributes\":{},\"id\":\"245a8b93-b0c8-46d4-86c9-a0ad40d57e5e\",\"type\":\"BasicTicker\"},{\"attributes\":{\"callback\":null,\"end\":0.003809435936,\"start\":-0.004783200736},\"id\":\"d600f695-61cb-4397-aa3a-171de8905675\",\"type\":\"Range1d\"},{\"attributes\":{},\"id\":\"22bb46db-5eec-4819-91bb-5b6707cf5db0\",\"type\":\"LogScale\"},{\"attributes\":{},\"id\":\"6b2daacd-ea4a-4959-9d17-9ca45de090c6\",\"type\":\"LinearScale\"},{\"attributes\":{\"items\":[{\"id\":\"0c3e54ca-8049-4408-a635-b75b6f32907e\",\"type\":\"LegendItem\"},{\"id\":\"2a099711-d94e-4913-a842-6365e7a2abf1\",\"type\":\"LegendItem\"},{\"id\":\"4f1e328b-fee9-451d-8ed8-94971d6904fa\",\"type\":\"LegendItem\"}],\"label_text_font_size\":{\"value\":\"8pt\"},\"location\":\"top_center\",\"orientation\":\"horizontal\",\"plot\":{\"id\":\"b79ef203-0768-4355-ba41-2b9ce14dad0f\",\"subtype\":\"Figure\",\"type\":\"Plot\"}},\"id\":\"d138c137-f17c-4976-a882-50db5e826910\",\"type\":\"Legend\"},{\"attributes\":{\"plot\":{\"id\":\"b79ef203-0768-4355-ba41-2b9ce14dad0f\",\"subtype\":\"Figure\",\"type\":\"Plot\"},\"ticker\":{\"id\":\"245a8b93-b0c8-46d4-86c9-a0ad40d57e5e\",\"type\":\"BasicTicker\"}},\"id\":\"4409d286-3f59-4427-84e8-fe3cac10ded8\",\"type\":\"Grid\"},{\"attributes\":{\"active_drag\":\"auto\",\"active_inspect\":\"auto\",\"active_scroll\":\"auto\",\"active_tap\":\"auto\",\"tools\":[{\"id\":\"bb7b8038-68a9-47db-87b4-4275571cc0f2\",\"type\":\"PanTool\"},{\"id\":\"3249be6e-6927-43b0-b666-a34355629a70\",\"type\":\"WheelZoomTool\"},{\"id\":\"749a3312-4ac1-4f75-a883-82a393da1a47\",\"type\":\"BoxZoomTool\"},{\"id\":\"6e0c0370-06f5-4e3c-841c-8bf7e6a4e4b1\",\"type\":\"SaveTool\"},{\"id\":\"f19e0d59-3500-48a5-bd4c-1c384c18ddcf\",\"type\":\"ResetTool\"},{\"id\":\"108ce90e-c3b5-4b8e-a875-23e0e1938407\",\"type\":\"HelpTool\"}]},\"id\":\"784b848f-1cda-46e4-b4d6-526eb5635d63\",\"type\":\"Toolbar\"},{\"attributes\":{},\"id\":\"c1ae32af-f728-40b7-8e43-7f1fd58bfa49\",\"type\":\"LinearScale\"},{\"attributes\":{\"axis_label\":\"cooling rate [K/day]\",\"formatter\":{\"id\":\"040c7e79-6a90-41c8-822d-383de0a1f4cd\",\"type\":\"BasicTickFormatter\"},\"plot\":{\"id\":\"4f857d66-f8d9-486c-9de8-ce8e8b4d3d20\",\"subtype\":\"Figure\",\"type\":\"Plot\"},\"ticker\":{\"id\":\"aeaac989-b9ac-456a-95d6-103280a021ee\",\"type\":\"BasicTicker\"}},\"id\":\"aaadfcab-17f2-4f52-94bb-95cb9db48076\",\"type\":\"LinearAxis\"},{\"attributes\":{\"above\":[{\"id\":\"d138c137-f17c-4976-a882-50db5e826910\",\"type\":\"Legend\"}],\"below\":[{\"id\":\"378ac71c-5673-45bc-9254-8dfc3b0b434f\",\"type\":\"LinearAxis\"}],\"left\":[{\"id\":\"d6d2c03d-f8ca-471c-8a22-e0a6e90e1f1d\",\"type\":\"LinearAxis\"}],\"plot_height\":500,\"plot_width\":400,\"renderers\":[{\"id\":\"378ac71c-5673-45bc-9254-8dfc3b0b434f\",\"type\":\"LinearAxis\"},{\"id\":\"4409d286-3f59-4427-84e8-fe3cac10ded8\",\"type\":\"Grid\"},{\"id\":\"d6d2c03d-f8ca-471c-8a22-e0a6e90e1f1d\",\"type\":\"LinearAxis\"},{\"id\":\"b37cb62d-f6ec-496c-8bc3-f49915f8c069\",\"type\":\"Grid\"},{\"id\":\"6a1fa533-ecdb-43f2-a62d-297d722d2065\",\"type\":\"BoxAnnotation\"},{\"id\":\"e5343a5e-9046-4e32-a25d-b8dd8698593e\",\"type\":\"GlyphRenderer\"},{\"id\":\"4e7d8cfa-1722-48aa-a185-6703434b73d6\",\"type\":\"GlyphRenderer\"},{\"id\":\"153c77d8-212c-4e03-8070-89e30e1962f3\",\"type\":\"GlyphRenderer\"},{\"id\":\"8c530203-1bf6-4e34-ae4d-9c0e5da1b9c3\",\"type\":\"GlyphRenderer\"},{\"id\":\"8d4e2ee1-a64b-4ce5-b2e6-9a3ad3afc012\",\"type\":\"GlyphRenderer\"},{\"id\":\"f22a2149-cd15-4138-b090-41da988bf489\",\"type\":\"GlyphRenderer\"},{\"id\":\"d138c137-f17c-4976-a882-50db5e826910\",\"type\":\"Legend\"}],\"title\":{\"id\":\"aebfafa9-0aa9-4729-a29c-498f38a626fe\",\"type\":\"Title\"},\"toolbar\":{\"id\":\"784b848f-1cda-46e4-b4d6-526eb5635d63\",\"type\":\"Toolbar\"},\"toolbar_location\":null,\"x_range\":{\"id\":\"d600f695-61cb-4397-aa3a-171de8905675\",\"type\":\"Range1d\"},\"x_scale\":{\"id\":\"c1ae32af-f728-40b7-8e43-7f1fd58bfa49\",\"type\":\"LinearScale\"},\"y_range\":{\"id\":\"0f836ad1-925d-419e-b2c7-472a9af9f774\",\"type\":\"Range1d\"},\"y_scale\":{\"id\":\"ad85ed8a-508d-405a-a3ba-7546bf23c2b9\",\"type\":\"LinearScale\"}},\"id\":\"b79ef203-0768-4355-ba41-2b9ce14dad0f\",\"subtype\":\"Figure\",\"type\":\"Plot\"},{\"attributes\":{\"axis_label\":\"cooling rate [K/day]\",\"formatter\":{\"id\":\"d0fd8fda-14bd-432c-b44d-ca6b396d27ff\",\"type\":\"BasicTickFormatter\"},\"plot\":{\"id\":\"b79ef203-0768-4355-ba41-2b9ce14dad0f\",\"subtype\":\"Figure\",\"type\":\"Plot\"},\"ticker\":{\"id\":\"245a8b93-b0c8-46d4-86c9-a0ad40d57e5e\",\"type\":\"BasicTicker\"}},\"id\":\"378ac71c-5673-45bc-9254-8dfc3b0b434f\",\"type\":\"LinearAxis\"},{\"attributes\":{},\"id\":\"ad85ed8a-508d-405a-a3ba-7546bf23c2b9\",\"type\":\"LinearScale\"},{\"attributes\":{\"fill_alpha\":{\"value\":0.1},\"fill_color\":{\"value\":\"#1f77b4\"},\"line_alpha\":{\"value\":0.1},\"line_color\":{\"value\":\"#1f77b4\"},\"x\":{\"field\":\"x\"},\"y\":{\"field\":\"y\"}},\"id\":\"76414850-5431-4e9e-a90b-3c616a9608ec\",\"type\":\"Circle\"},{\"attributes\":{\"axis_label\":\"pressure [mb]\",\"formatter\":{\"id\":\"6074e20a-6c4a-4e74-b5db-9c5aa8b18bce\",\"type\":\"BasicTickFormatter\"},\"plot\":{\"id\":\"b79ef203-0768-4355-ba41-2b9ce14dad0f\",\"subtype\":\"Figure\",\"type\":\"Plot\"},\"ticker\":{\"id\":\"1286f6cd-150d-477e-817d-f95a78ce08d8\",\"type\":\"BasicTicker\"}},\"id\":\"d6d2c03d-f8ca-471c-8a22-e0a6e90e1f1d\",\"type\":\"LinearAxis\"},{\"attributes\":{\"source\":{\"id\":\"1910c676-bb75-4ee3-a2fc-f26c91921709\",\"type\":\"ColumnDataSource\"}},\"id\":\"61ada9bd-d537-45c7-a0a4-a8c39223f93a\",\"type\":\"CDSView\"},{\"attributes\":{\"fill_alpha\":{\"value\":0.7},\"fill_color\":{\"value\":\"#4daf4a\"},\"line_alpha\":{\"value\":0.7},\"line_color\":{\"value\":\"#4daf4a\"},\"x\":{\"field\":\"x\"},\"y\":{\"field\":\"y\"}},\"id\":\"2acb4dd4-45c1-4405-8359-f414a6adc528\",\"type\":\"Circle\"},{\"attributes\":{\"callback\":null,\"data\":{\"x\":{\"__ndarray__\":\"QLqGSC5AGb9iDK/E0B4Qv4IqRMPSavo+8t8RQJ8xIT/2nZyYDOkwP0fUiF3gfjo/9It6TMbcQj+PU9bKgGxJPw6cZ7h+i1A/dsYXr2kFVT+RJa9q4j9aP8HklGlFLmA/j2w/tG6+Yz9eqRkgeXFnP8GPToPAz2o/vilgxgo6bj/MqP4s0hdxP5AY/y6TcHM/TrY0iOVHdj9KAl40Vch5P0kK0uvb+X0/TrFJSxwqfz925yt2awF8P+oMnlZJnHg/AAfJWG9Idj+fxkg1tpd0P7yf4fGXFHM/XsqYOV8Xcj9rFcqw9BtyP95UDKZNFHI/j1h+Jf+vcD+A8IU4OzprP1ie8Ug2umY/5EP3xVF0Zj9NaWY2mxFlP0pK+U4l6mE/Am8/n9NzXD9NDrc1vVpSP9l5P42vNUA/isiHZ+G+Bz8TcxmV6Hg1v36zb5Ehm0a/0HLsXj8kUr/X4fPBdXdbvxj/2JK3FmS/b+nfETgCZ7/Dm3oDobNjv0pMtzjoY16/o83PlvUXWL8XevIgpShTv2YOTi9ti02/zUfWNoIXRb+xoT5v/iE5v6hXOS/KWR6/XJDfk5sKJT8OV00cXfc8P06O/wfkrEc//DYa2DJIUD8NkysojG5UP3w6JqSYMFg/jeCpPfGHWz+5WjrtiIZeP91sJK/kqGA/YlqXe4EQYj+GkWb8F5ljPx0LWBKjXmU/mziAEB5sZz9OdPCkspVpP1RJOegmO2s/vGqvT0pSaz+mFiiqeTVpP08eOJ1bXmU/OfoMZhvRYD9ZdJzvaGJYPxYJ0mv1Qk4/\",\"dtype\":\"float64\",\"shape\":[75]},\"y\":{\"__ndarray__\":\"GhExyth1ND/Sv8nbtpRIP2vylNV0PVE/aTum7souWD/At0SJ8fVgPw3Iuahxymc/MSNhhJWvcD/bTfBN02d3P2zb5nxnaoA/CD5h5MAGhz8NmeH1TyaQP+zrCsc9p5Y/LbKd76fGnz/bLW5ISEmmPww9YvTcQq8/JV2OstnstT8Er5Y7M8G+P0c+r3jqkcU/5h99k6ZBzj88bCIzFzjVP4enV8oyxN0//yH99nXg5D8qOpLLf0jtP5kqGJXUifQ/c9cS8kHP/D+/DpwzojQEQIEmwoanVwxA4lgXt9HgE0BSSZ2AJuIbQAMJih9jjiNA5q4l5INuK0AwTKYKRj0zQNv5fmq8/DpAaCJseHrtQkB/+zpwzoxKQM3MzMzMeFJAZmZmZmZqWEAAAAAAAFxeQM3MzMzMJmJAmpmZmZkfZUBmZmZmZhhoQDMzMzMzEWtAAAAAAAAKbkBmZmZmZoFwQM3MzMzM/XFAMzMzMzN6c0CamZmZmfZ0QAAAAAAAc3ZAZmZmZmbvd0DNzMzMzGt5QDMzMzMz6HpAmpmZmZlkfEAAAAAAAOF9QGZmZmZmXX9AZmZmZuZsgECamZmZGSuBQM3MzMxM6YFAAAAAAICngkAzMzMzs2WDQGZmZmbmI4RAmpmZmRnihEDNzMzMTKCFQAAAAACAXoZAMzMzM7Mch0BmZmZm5tqHQJqZmZkZmYhAzczMzExXiUAAAAAAgBWKQDMzMzOz04pAZmZmZuaRi0CamZmZGVCMQM3MzMxMDo1AAAAAAIDMjUAzMzMzs4qOQGZmZmbmSI9A\",\"dtype\":\"float64\",\"shape\":[75]}},\"selected\":{\"id\":\"7c6d2954-027f-46d3-a5fc-558d136194ab\",\"type\":\"Selection\"},\"selection_policy\":{\"id\":\"ae96158c-fd88-49c7-99fc-400722db8f75\",\"type\":\"UnionRenderers\"}},\"id\":\"1910c676-bb75-4ee3-a2fc-f26c91921709\",\"type\":\"ColumnDataSource\"}],\"root_ids\":[\"00ebd4d8-ed33-485d-8f38-aa0f06b9c0b4\"]},\"title\":\"Bokeh Application\",\"version\":\"0.12.16\"}};\n",
       "  var render_items = [{\"docid\":\"8dfc7fe2-fce2-4060-b8c0-756675fc97f8\",\"elementid\":\"ea5cd529-4f7a-4527-96f4-0899b63b3fdf\",\"modelid\":\"00ebd4d8-ed33-485d-8f38-aa0f06b9c0b4\"}];\n",
       "  root.Bokeh.embed.embed_items_notebook(docs_json, render_items);\n",
       "\n",
       "  }\n",
       "  if (root.Bokeh !== undefined) {\n",
       "    embed_document(root);\n",
       "  } else {\n",
       "    var attempts = 0;\n",
       "    var timer = setInterval(function(root) {\n",
       "      if (root.Bokeh !== undefined) {\n",
       "        embed_document(root);\n",
       "        clearInterval(timer);\n",
       "      }\n",
       "      attempts++;\n",
       "      if (attempts > 100) {\n",
       "        console.log(\"Bokeh: ERROR: Unable to run BokehJS code because BokehJS library is missing\")\n",
       "        clearInterval(timer);\n",
       "      }\n",
       "    }, 10, root)\n",
       "  }\n",
       "})(window);"
      ],
      "application/vnd.bokehjs_exec.v0+json": ""
     },
     "metadata": {
      "application/vnd.bokehjs_exec.v0+json": {
       "id": "00ebd4d8-ed33-485d-8f38-aa0f06b9c0b4"
      }
     },
     "output_type": "display_data"
    },
    {
     "data": {
      "text/markdown": [
       "*FIGURE.* Cooling rates. g=2"
      ],
      "text/plain": [
       "<IPython.core.display.Markdown object>"
      ]
     },
     "metadata": {},
     "output_type": "display_data"
    },
    {
     "data": {
      "text/html": [
       "\n",
       "<div class=\"bk-root\">\n",
       "    <div class=\"bk-plotdiv\" id=\"77642e8a-e4ba-456a-89fc-0ba06b15f4e5\"></div>\n",
       "</div>"
      ]
     },
     "metadata": {},
     "output_type": "display_data"
    },
    {
     "data": {
      "application/javascript": [
       "(function(root) {\n",
       "  function embed_document(root) {\n",
       "    \n",
       "  var docs_json = {\"53b3f2f9-3243-42ab-8b06-b51542879084\":{\"roots\":{\"references\":[{\"attributes\":{\"callback\":null,\"data\":{\"x\":{\"__ndarray__\":\"fPGbhKV/1L49zdE/VZTSvhgDdpwTF8u+VsP9iEiNu740qAiQi2SaPtknlNjM2Mg+4ZdroIoB2j4kbmWhoonlPuKnDqGeIfA+4OBNeRjj9j75YcGiQnD/PsE6PbKyKwU/r5BgIiwpDD8ThDX/BzASPxHbnWR+ohY/ulwg/sX5Gz/8g72pIIohP8NNM+wsXyY/4a6V4AwRLT/t6nU3qz0zP+P88DoUvDk/9BIwZjLlPj8S13aYpgpAP3UE4eM7DEA/8JDul/IJQD+a9nyDRGs/PyGVb7OMaT0/dAKjnoj9Oj/qrqT9SdA5P5GNQIkcZzg/gAbPxZJvND91Pkksc7sqP6Mq+8NwtiY/rD9SUdxxNz9dFdV5+ghGP1e+LgyfkFA/Q2CPh0ocUz+Wg7ld+1NMP1k2seY0pCQ/QYwF3wh5SL/s7EetIORdv09J0gQ1NGm/HKIHx/eIcr+W2p8DA3N5v+qU5TEsgoC/dmMkMBt6gr8T4l8+OCOBv5eQPWkCeHy/6TegoZdDdr9Pkdq7M5Bvv0ykd9y+72G/DZ6bvlDBPL9rH3vRKOpWP1S/81D5JWs/NtVjdxKsdT8MQQEglul9Pxwv4pSgE4M/9gi+NAgdhz84JjBCHfuKPxGqFglUnI4/B8FSeRX7kD8iCRnNbIWSP8ibMQlt8pM/rzhOamVLlT+LvKXPIJuWP7+rX5V96pc/mtCyW7w5mT9b2JarZnCaP44krlQxRJs/xT/C6Yo9mz+ApV3G+Q2aP5Cu/1795Jc/zbLJD8w5lT8CzGNqnmWSPxG8t6hqEI8/\",\"dtype\":\"float64\",\"shape\":[75]},\"y\":{\"__ndarray__\":\"GhExyth1ND/Sv8nbtpRIP2vylNV0PVE/aTum7souWD/At0SJ8fVgPw3Iuahxymc/MSNhhJWvcD/bTfBN02d3P2zb5nxnaoA/CD5h5MAGhz8NmeH1TyaQP+zrCsc9p5Y/LbKd76fGnz/bLW5ISEmmPww9YvTcQq8/JV2OstnstT8Er5Y7M8G+P0c+r3jqkcU/5h99k6ZBzj88bCIzFzjVP4enV8oyxN0//yH99nXg5D8qOpLLf0jtP5kqGJXUifQ/c9cS8kHP/D+/DpwzojQEQIEmwoanVwxA4lgXt9HgE0BSSZ2AJuIbQAMJih9jjiNA5q4l5INuK0AwTKYKRj0zQNv5fmq8/DpAaCJseHrtQkB/+zpwzoxKQM3MzMzMeFJAZmZmZmZqWEAAAAAAAFxeQM3MzMzMJmJAmpmZmZkfZUBmZmZmZhhoQDMzMzMzEWtAAAAAAAAKbkBmZmZmZoFwQM3MzMzM/XFAMzMzMzN6c0CamZmZmfZ0QAAAAAAAc3ZAZmZmZmbvd0DNzMzMzGt5QDMzMzMz6HpAmpmZmZlkfEAAAAAAAOF9QGZmZmZmXX9AZmZmZuZsgECamZmZGSuBQM3MzMxM6YFAAAAAAICngkAzMzMzs2WDQGZmZmbmI4RAmpmZmRnihEDNzMzMTKCFQAAAAACAXoZAMzMzM7Mch0BmZmZm5tqHQJqZmZkZmYhAzczMzExXiUAAAAAAgBWKQDMzMzOz04pAZmZmZuaRi0CamZmZGVCMQM3MzMxMDo1AAAAAAIDMjUAzMzMzs4qOQGZmZmbmSI9A\",\"dtype\":\"float64\",\"shape\":[75]}},\"selected\":{\"id\":\"cd20ec36-bff9-47ad-a28f-0661c607f6d6\",\"type\":\"Selection\"},\"selection_policy\":{\"id\":\"071092d5-26d7-421c-9304-5e9bd58d17c0\",\"type\":\"UnionRenderers\"}},\"id\":\"0e3e8240-8c44-43bd-9526-a2e12a725272\",\"type\":\"ColumnDataSource\"},{\"attributes\":{},\"id\":\"e4fe8ab6-e6f2-4da8-855d-322b5f201cf4\",\"type\":\"UnionRenderers\"},{\"attributes\":{},\"id\":\"e17be09c-8335-47eb-b3be-cd5df8516b2a\",\"type\":\"Selection\"},{\"attributes\":{},\"id\":\"9e287108-8fe0-4bde-bfb9-5e1474256a12\",\"type\":\"ResetTool\"},{\"attributes\":{},\"id\":\"005f69ee-6b8d-4a8b-a490-396c61fb0911\",\"type\":\"UnionRenderers\"},{\"attributes\":{\"dimension\":1,\"plot\":{\"id\":\"8268d3d0-3953-4766-845e-f5fdbc476ca5\",\"subtype\":\"Figure\",\"type\":\"Plot\"},\"ticker\":{\"id\":\"ddd914b1-28a9-4e15-9ff9-87e2e4cee784\",\"type\":\"LogTicker\"}},\"id\":\"d238d104-f42a-4bb7-8e3b-8cbff199ba49\",\"type\":\"Grid\"},{\"attributes\":{},\"id\":\"54344c3e-dff1-4089-b75d-f7904d8dcf8c\",\"type\":\"UnionRenderers\"},{\"attributes\":{},\"id\":\"07b164de-77a4-4b46-9a45-593df0d3bfb1\",\"type\":\"HelpTool\"},{\"attributes\":{\"fill_alpha\":{\"value\":0.7},\"fill_color\":{\"value\":\"#4daf4a\"},\"line_alpha\":{\"value\":0.7},\"line_color\":{\"value\":\"#4daf4a\"},\"x\":{\"field\":\"x\"},\"y\":{\"field\":\"y\"}},\"id\":\"67da45a4-a084-4631-b778-e0408a1987a0\",\"type\":\"Circle\"},{\"attributes\":{\"callback\":null,\"data\":{\"x\":{\"__ndarray__\":\"fPGbhKV/1L49zdE/VZTSvhgDdpwTF8u+VsP9iEiNu740qAiQi2SaPtknlNjM2Mg+4ZdroIoB2j4kbmWhoonlPuKnDqGeIfA+4OBNeRjj9j75YcGiQnD/PsE6PbKyKwU/r5BgIiwpDD8ThDX/BzASPxHbnWR+ohY/ulwg/sX5Gz/8g72pIIohP8NNM+wsXyY/4a6V4AwRLT/t6nU3qz0zP+P88DoUvDk/9BIwZjLlPj8S13aYpgpAP3UE4eM7DEA/8JDul/IJQD+a9nyDRGs/PyGVb7OMaT0/dAKjnoj9Oj/qrqT9SdA5P5GNQIkcZzg/gAbPxZJvND91Pkksc7sqP6Mq+8NwtiY/rD9SUdxxNz9dFdV5+ghGP1e+LgyfkFA/Q2CPh0ocUz+Wg7ld+1NMP1k2seY0pCQ/QYwF3wh5SL/s7EetIORdv09J0gQ1NGm/HKIHx/eIcr+W2p8DA3N5v+qU5TEsgoC/dmMkMBt6gr8T4l8+OCOBv5eQPWkCeHy/6TegoZdDdr9Pkdq7M5Bvv0ykd9y+72G/DZ6bvlDBPL9rH3vRKOpWP1S/81D5JWs/NtVjdxKsdT8MQQEglul9Pxwv4pSgE4M/9gi+NAgdhz84JjBCHfuKPxGqFglUnI4/B8FSeRX7kD8iCRnNbIWSP8ibMQlt8pM/rzhOamVLlT+LvKXPIJuWP7+rX5V96pc/mtCyW7w5mT9b2JarZnCaP44krlQxRJs/xT/C6Yo9mz+ApV3G+Q2aP5Cu/1795Jc/zbLJD8w5lT8CzGNqnmWSPxG8t6hqEI8/\",\"dtype\":\"float64\",\"shape\":[75]},\"y\":{\"__ndarray__\":\"GhExyth1ND/Sv8nbtpRIP2vylNV0PVE/aTum7souWD/At0SJ8fVgPw3Iuahxymc/MSNhhJWvcD/bTfBN02d3P2zb5nxnaoA/CD5h5MAGhz8NmeH1TyaQP+zrCsc9p5Y/LbKd76fGnz/bLW5ISEmmPww9YvTcQq8/JV2OstnstT8Er5Y7M8G+P0c+r3jqkcU/5h99k6ZBzj88bCIzFzjVP4enV8oyxN0//yH99nXg5D8qOpLLf0jtP5kqGJXUifQ/c9cS8kHP/D+/DpwzojQEQIEmwoanVwxA4lgXt9HgE0BSSZ2AJuIbQAMJih9jjiNA5q4l5INuK0AwTKYKRj0zQNv5fmq8/DpAaCJseHrtQkB/+zpwzoxKQM3MzMzMeFJAZmZmZmZqWEAAAAAAAFxeQM3MzMzMJmJAmpmZmZkfZUBmZmZmZhhoQDMzMzMzEWtAAAAAAAAKbkBmZmZmZoFwQM3MzMzM/XFAMzMzMzN6c0CamZmZmfZ0QAAAAAAAc3ZAZmZmZmbvd0DNzMzMzGt5QDMzMzMz6HpAmpmZmZlkfEAAAAAAAOF9QGZmZmZmXX9AZmZmZuZsgECamZmZGSuBQM3MzMxM6YFAAAAAAICngkAzMzMzs2WDQGZmZmbmI4RAmpmZmRnihEDNzMzMTKCFQAAAAACAXoZAMzMzM7Mch0BmZmZm5tqHQJqZmZkZmYhAzczMzExXiUAAAAAAgBWKQDMzMzOz04pAZmZmZuaRi0CamZmZGVCMQM3MzMxMDo1AAAAAAIDMjUAzMzMzs4qOQGZmZmbmSI9A\",\"dtype\":\"float64\",\"shape\":[75]}},\"selected\":{\"id\":\"0d7795e0-e87b-4d29-a0e8-cf44110e79ce\",\"type\":\"Selection\"},\"selection_policy\":{\"id\":\"e4fe8ab6-e6f2-4da8-855d-322b5f201cf4\",\"type\":\"UnionRenderers\"}},\"id\":\"d2ed185c-08cd-4e61-829b-bec9103987b2\",\"type\":\"ColumnDataSource\"},{\"attributes\":{\"bottom_units\":\"screen\",\"fill_alpha\":{\"value\":0.5},\"fill_color\":{\"value\":\"lightgrey\"},\"left_units\":\"screen\",\"level\":\"overlay\",\"line_alpha\":{\"value\":1.0},\"line_color\":{\"value\":\"black\"},\"line_dash\":[4,4],\"line_width\":{\"value\":2},\"plot\":null,\"render_mode\":\"css\",\"right_units\":\"screen\",\"top_units\":\"screen\"},\"id\":\"56cbdd98-f70b-41a9-983a-d87dc087632b\",\"type\":\"BoxAnnotation\"},{\"attributes\":{\"num_minor_ticks\":10},\"id\":\"ddd914b1-28a9-4e15-9ff9-87e2e4cee784\",\"type\":\"LogTicker\"},{\"attributes\":{},\"id\":\"9ea9e482-3074-45f9-b6d0-88c6386bb59f\",\"type\":\"SaveTool\"},{\"attributes\":{\"data_source\":{\"id\":\"0e3e8240-8c44-43bd-9526-a2e12a725272\",\"type\":\"ColumnDataSource\"},\"glyph\":{\"id\":\"67da45a4-a084-4631-b778-e0408a1987a0\",\"type\":\"Circle\"},\"hover_glyph\":null,\"muted_glyph\":null,\"nonselection_glyph\":{\"id\":\"abe9de62-98d4-4698-b873-fca71b54229e\",\"type\":\"Circle\"},\"selection_glyph\":null,\"view\":{\"id\":\"d5b3a2d4-aa87-4a05-8b4b-49e0fc5a42d2\",\"type\":\"CDSView\"}},\"id\":\"7b9b4fb0-d1ec-4b0b-882b-566ebcdb5bea\",\"type\":\"GlyphRenderer\"},{\"attributes\":{\"axis_label\":\"pressure [mb]\",\"formatter\":{\"id\":\"0b564695-a951-4cd6-aae4-194ef6bf7d1e\",\"type\":\"LogTickFormatter\"},\"plot\":{\"id\":\"8268d3d0-3953-4766-845e-f5fdbc476ca5\",\"subtype\":\"Figure\",\"type\":\"Plot\"},\"ticker\":{\"id\":\"ddd914b1-28a9-4e15-9ff9-87e2e4cee784\",\"type\":\"LogTicker\"}},\"id\":\"f7969837-7903-47d5-824f-b94dea1317b2\",\"type\":\"LogAxis\"},{\"attributes\":{\"source\":{\"id\":\"0e3e8240-8c44-43bd-9526-a2e12a725272\",\"type\":\"ColumnDataSource\"}},\"id\":\"d5b3a2d4-aa87-4a05-8b4b-49e0fc5a42d2\",\"type\":\"CDSView\"},{\"attributes\":{\"fill_alpha\":{\"value\":0.1},\"fill_color\":{\"value\":\"#1f77b4\"},\"line_alpha\":{\"value\":0.1},\"line_color\":{\"value\":\"#1f77b4\"},\"x\":{\"field\":\"x\"},\"y\":{\"field\":\"y\"}},\"id\":\"abe9de62-98d4-4698-b873-fca71b54229e\",\"type\":\"Circle\"},{\"attributes\":{},\"id\":\"4919d30a-2fef-4b44-bdd6-c5d7b0396db5\",\"type\":\"Selection\"},{\"attributes\":{\"callback\":null,\"data\":{\"x\":{\"__ndarray__\":\"cTfDDKFe1L5X3BVomALTvkceLmCszc6+fFDab7w6xb7xTG8ZaLyxvhGdqkhHqas+MVJCeATqyj40ZJl3RBDaPmSD02/x9+Q+v8CVZW367j6QEeqTztP1PiVSCHbZ6P0+5apR2bYiBD+RE/jeQTEKP9E6S2OmVRA/S/4+zKswFD9rZbL1L08ZP3pCSmzXIiA/TG9RtIf2JD911+HVrcIrP3ngC8WLjzI/8xcb1o37NT/s5xy0XO41Pw8CgbPpfDQ/zdxDgFBmMj85CKuKmO0tPwvCswHzsCI/jyiTguPt/j5Ohg5BNcoZv6lRKjSFeTG/Y95YUxLKQL8utMYrT+pLv2ZLMshfzlO/4KPcR3eaWL9wdq7aA1Vdv4WRjTH/QmG/Kzci7mJAZL9Yq6aGXshov+O7UwzX9G6/zuQGwFL2cr/2gG3Dt9d2v24NjMdDInu/DPS0c4bYf79MYSe6A3yCvzdQZNYgBoW/BBzV+GsDhr9PDdwLUWiEvwFSsosPW4G/lu67lASpe78kDEEemupzv6sqlIL3IGe/d2OUUUZqRb9sOT1OXalaP84SAP6SXXA/0Dug9JZOej+M8FW3KiyCP/Em/Kg/KIc/H0th1nIEjD/vGzT7CVWQP2H+Cpkrg5I/YUS3a/2FlD/GQVPAh1yWP+e//TzqCJg//s25S0qQmT9usFv3m/iaP/SO3matRZw/U3f4et1znT8P+CexnmyeP29eQT/49Z4/RGBM/TO4nj+/ijCecXydP0ZTMSbhaJs/9waUihzbmD/7VO1Ruh+WP+/DN9AgXpM/\",\"dtype\":\"float64\",\"shape\":[75]},\"y\":{\"__ndarray__\":\"GhExyth1ND/Sv8nbtpRIP2vylNV0PVE/aTum7souWD/At0SJ8fVgPw3Iuahxymc/MSNhhJWvcD/bTfBN02d3P2zb5nxnaoA/CD5h5MAGhz8NmeH1TyaQP+zrCsc9p5Y/LbKd76fGnz/bLW5ISEmmPww9YvTcQq8/JV2OstnstT8Er5Y7M8G+P0c+r3jqkcU/5h99k6ZBzj88bCIzFzjVP4enV8oyxN0//yH99nXg5D8qOpLLf0jtP5kqGJXUifQ/c9cS8kHP/D+/DpwzojQEQIEmwoanVwxA4lgXt9HgE0BSSZ2AJuIbQAMJih9jjiNA5q4l5INuK0AwTKYKRj0zQNv5fmq8/DpAaCJseHrtQkB/+zpwzoxKQM3MzMzMeFJAZmZmZmZqWEAAAAAAAFxeQM3MzMzMJmJAmpmZmZkfZUBmZmZmZhhoQDMzMzMzEWtAAAAAAAAKbkBmZmZmZoFwQM3MzMzM/XFAMzMzMzN6c0CamZmZmfZ0QAAAAAAAc3ZAZmZmZmbvd0DNzMzMzGt5QDMzMzMz6HpAmpmZmZlkfEAAAAAAAOF9QGZmZmZmXX9AZmZmZuZsgECamZmZGSuBQM3MzMxM6YFAAAAAAICngkAzMzMzs2WDQGZmZmbmI4RAmpmZmRnihEDNzMzMTKCFQAAAAACAXoZAMzMzM7Mch0BmZmZm5tqHQJqZmZkZmYhAzczMzExXiUAAAAAAgBWKQDMzMzOz04pAZmZmZuaRi0CamZmZGVCMQM3MzMxMDo1AAAAAAIDMjUAzMzMzs4qOQGZmZmbmSI9A\",\"dtype\":\"float64\",\"shape\":[75]}},\"selected\":{\"id\":\"c70ab5f4-58b8-40a5-b998-a3ba2ede5c2f\",\"type\":\"Selection\"},\"selection_policy\":{\"id\":\"9ddf98c6-7961-4e3b-bfaa-a004649a2876\",\"type\":\"UnionRenderers\"}},\"id\":\"ff6fa68a-1967-4f4e-b42f-5100be46fbb0\",\"type\":\"ColumnDataSource\"},{\"attributes\":{\"fill_alpha\":{\"value\":0.1},\"fill_color\":{\"value\":\"#1f77b4\"},\"line_alpha\":{\"value\":0.1},\"line_color\":{\"value\":\"#1f77b4\"},\"x\":{\"field\":\"x\"},\"y\":{\"field\":\"y\"}},\"id\":\"95d34b7f-1924-40c7-a41d-67d67239fa08\",\"type\":\"Triangle\"},{\"attributes\":{\"data_source\":{\"id\":\"d063c494-e34d-4b34-95bf-b807af52a37e\",\"type\":\"ColumnDataSource\"},\"glyph\":{\"id\":\"4be83cd1-b3af-467f-afbe-56475c8e1cd3\",\"type\":\"Triangle\"},\"hover_glyph\":null,\"muted_glyph\":null,\"nonselection_glyph\":{\"id\":\"95d34b7f-1924-40c7-a41d-67d67239fa08\",\"type\":\"Triangle\"},\"selection_glyph\":null,\"view\":{\"id\":\"57b4dfd7-051b-4cc1-a7eb-9401389e75bd\",\"type\":\"CDSView\"}},\"id\":\"cd353601-70e7-4420-9250-a985268af2ca\",\"type\":\"GlyphRenderer\"},{\"attributes\":{\"source\":{\"id\":\"d063c494-e34d-4b34-95bf-b807af52a37e\",\"type\":\"ColumnDataSource\"}},\"id\":\"57b4dfd7-051b-4cc1-a7eb-9401389e75bd\",\"type\":\"CDSView\"},{\"attributes\":{\"line_alpha\":0.3,\"line_color\":\"#377eb8\",\"line_width\":2,\"x\":{\"field\":\"x\"},\"y\":{\"field\":\"y\"}},\"id\":\"3a60b03e-4822-47b2-8304-1e3e6802fe83\",\"type\":\"Line\"},{\"attributes\":{\"children\":[{\"id\":\"27b942a8-4d97-47c4-8444-cc1464a8a2f9\",\"type\":\"Row\"}]},\"id\":\"55521f00-ed3a-434b-a9fe-9bc641b4d5a9\",\"type\":\"Column\"},{\"attributes\":{\"line_alpha\":0.1,\"line_color\":\"#1f77b4\",\"line_width\":2,\"x\":{\"field\":\"x\"},\"y\":{\"field\":\"y\"}},\"id\":\"5f5b59a8-4124-4637-8fc9-b1a509601365\",\"type\":\"Line\"},{\"attributes\":{\"data_source\":{\"id\":\"ff6fa68a-1967-4f4e-b42f-5100be46fbb0\",\"type\":\"ColumnDataSource\"},\"glyph\":{\"id\":\"3a60b03e-4822-47b2-8304-1e3e6802fe83\",\"type\":\"Line\"},\"hover_glyph\":null,\"muted_glyph\":null,\"nonselection_glyph\":{\"id\":\"5f5b59a8-4124-4637-8fc9-b1a509601365\",\"type\":\"Line\"},\"selection_glyph\":null,\"view\":{\"id\":\"a9339793-3647-420f-b141-833d3b37b52f\",\"type\":\"CDSView\"}},\"id\":\"21249588-3175-4872-a2fa-2d8a9d87ca19\",\"type\":\"GlyphRenderer\"},{\"attributes\":{\"source\":{\"id\":\"ff6fa68a-1967-4f4e-b42f-5100be46fbb0\",\"type\":\"ColumnDataSource\"}},\"id\":\"a9339793-3647-420f-b141-833d3b37b52f\",\"type\":\"CDSView\"},{\"attributes\":{\"plot\":null,\"text\":\"\"},\"id\":\"02feb168-544b-44b9-b859-cdb12d78dd4f\",\"type\":\"Title\"},{\"attributes\":{\"children\":[{\"id\":\"231f976e-f7b2-48d6-87f9-7df4d028bb73\",\"subtype\":\"Figure\",\"type\":\"Plot\"},{\"id\":\"8268d3d0-3953-4766-845e-f5fdbc476ca5\",\"subtype\":\"Figure\",\"type\":\"Plot\"}]},\"id\":\"27b942a8-4d97-47c4-8444-cc1464a8a2f9\",\"type\":\"Row\"},{\"attributes\":{\"label\":{\"value\":\"CRD\"},\"renderers\":[{\"id\":\"06d292bb-67ba-4696-bbed-1feb22436fac\",\"type\":\"GlyphRenderer\"},{\"id\":\"0f17410d-feed-439d-9cc8-482e7a70c602\",\"type\":\"GlyphRenderer\"}]},\"id\":\"1683cbf6-9491-4797-acf4-130d20841c48\",\"type\":\"LegendItem\"},{\"attributes\":{},\"id\":\"e0059564-e99d-4ac4-bcd0-740d3ea4ddf3\",\"type\":\"BasicTickFormatter\"},{\"attributes\":{\"label\":{\"value\":\"WGT igg=1\"},\"renderers\":[{\"id\":\"0067a0b8-114a-4c42-92f2-812bf4fc7d60\",\"type\":\"GlyphRenderer\"},{\"id\":\"eb8103a2-395d-45b0-a72e-047199f48c3d\",\"type\":\"GlyphRenderer\"}]},\"id\":\"965f5111-036e-45e9-9b9d-f95aabe6bea7\",\"type\":\"LegendItem\"},{\"attributes\":{},\"id\":\"f57de4ff-7361-4b1f-a696-a74d0b7ebfd3\",\"type\":\"Selection\"},{\"attributes\":{\"label\":{\"value\":\"WGT igg=10\"},\"renderers\":[{\"id\":\"cd353601-70e7-4420-9250-a985268af2ca\",\"type\":\"GlyphRenderer\"},{\"id\":\"21249588-3175-4872-a2fa-2d8a9d87ca19\",\"type\":\"GlyphRenderer\"}]},\"id\":\"63eb5821-60ed-4e21-bca3-466c6c21959f\",\"type\":\"LegendItem\"},{\"attributes\":{},\"id\":\"58cafbb1-a083-4d26-b48d-71d42a589733\",\"type\":\"Selection\"},{\"attributes\":{},\"id\":\"cd20ec36-bff9-47ad-a28f-0661c607f6d6\",\"type\":\"Selection\"},{\"attributes\":{},\"id\":\"7710dead-1f55-4e11-a8a4-679092e4cb29\",\"type\":\"BasicTickFormatter\"},{\"attributes\":{},\"id\":\"75e249d3-72c8-4442-b1e4-68745e52c3ef\",\"type\":\"UnionRenderers\"},{\"attributes\":{},\"id\":\"071092d5-26d7-421c-9304-5e9bd58d17c0\",\"type\":\"UnionRenderers\"},{\"attributes\":{\"ticker\":null},\"id\":\"0b564695-a951-4cd6-aae4-194ef6bf7d1e\",\"type\":\"LogTickFormatter\"},{\"attributes\":{},\"id\":\"f318ef47-aef8-43a6-9868-d6ebedb07ee5\",\"type\":\"Selection\"},{\"attributes\":{\"plot\":null,\"text\":\"\"},\"id\":\"d91118be-effe-48c3-97fc-46c3b93b93ae\",\"type\":\"Title\"},{\"attributes\":{},\"id\":\"1c0a0b68-d5e3-465c-a1ca-9842c4101379\",\"type\":\"BasicTickFormatter\"},{\"attributes\":{},\"id\":\"bf685aa6-5e00-4d24-ada7-673c19c112ef\",\"type\":\"UnionRenderers\"},{\"attributes\":{},\"id\":\"9a7ea95d-1aca-4a29-b856-5319812a9d07\",\"type\":\"UnionRenderers\"},{\"attributes\":{},\"id\":\"4657e01b-414d-4f20-b1ad-bd67bc39e1f0\",\"type\":\"UnionRenderers\"},{\"attributes\":{},\"id\":\"f0bfc3c0-bf01-40cf-80ab-649a4b33f324\",\"type\":\"Selection\"},{\"attributes\":{},\"id\":\"9ddf98c6-7961-4e3b-bfaa-a004649a2876\",\"type\":\"UnionRenderers\"},{\"attributes\":{},\"id\":\"c70ab5f4-58b8-40a5-b998-a3ba2ede5c2f\",\"type\":\"Selection\"},{\"attributes\":{},\"id\":\"32519cf0-0f34-4586-b0c6-5c5f30b489a3\",\"type\":\"UnionRenderers\"},{\"attributes\":{},\"id\":\"e2309d60-6af7-40bf-8bc6-845f75b49728\",\"type\":\"Selection\"},{\"attributes\":{\"children\":[{\"id\":\"7159aa0c-0677-46d7-9ba5-c4a3666ad41d\",\"type\":\"ToolbarBox\"},{\"id\":\"55521f00-ed3a-434b-a9fe-9bc641b4d5a9\",\"type\":\"Column\"}]},\"id\":\"8150f593-51f6-4e3a-8295-873d128f940a\",\"type\":\"Column\"},{\"attributes\":{\"tools\":[{\"id\":\"a080bb19-5917-4c54-b52e-89f6b3051349\",\"type\":\"PanTool\"},{\"id\":\"f1c6d81f-4232-43bc-b476-bea6bbb3cbbc\",\"type\":\"WheelZoomTool\"},{\"id\":\"dc642814-42a9-435f-b42b-8aa9a1e7c5a3\",\"type\":\"BoxZoomTool\"},{\"id\":\"9ea9e482-3074-45f9-b6d0-88c6386bb59f\",\"type\":\"SaveTool\"},{\"id\":\"9e287108-8fe0-4bde-bfb9-5e1474256a12\",\"type\":\"ResetTool\"},{\"id\":\"07b164de-77a4-4b46-9a45-593df0d3bfb1\",\"type\":\"HelpTool\"},{\"id\":\"bae4d9b7-c294-4100-b600-e75940b774d0\",\"type\":\"PanTool\"},{\"id\":\"d8ed4534-8e65-4588-85a9-011e069ce088\",\"type\":\"WheelZoomTool\"},{\"id\":\"981b1b9f-a1ed-4496-816f-5250651532ee\",\"type\":\"BoxZoomTool\"},{\"id\":\"67efb113-06fe-4063-b747-435bd328f278\",\"type\":\"SaveTool\"},{\"id\":\"9554bcae-10d9-454d-80a8-4218ea9c26a5\",\"type\":\"ResetTool\"},{\"id\":\"d5ea9fb2-8e68-4fb1-9b86-1617893d56db\",\"type\":\"HelpTool\"}]},\"id\":\"fca9fd5a-427b-4a5b-acb6-b902c4c6bb5c\",\"type\":\"ProxyToolbar\"},{\"attributes\":{\"toolbar\":{\"id\":\"fca9fd5a-427b-4a5b-acb6-b902c4c6bb5c\",\"type\":\"ProxyToolbar\"},\"toolbar_location\":\"above\"},\"id\":\"7159aa0c-0677-46d7-9ba5-c4a3666ad41d\",\"type\":\"ToolbarBox\"},{\"attributes\":{\"callback\":null,\"end\":0.01,\"start\":1020},\"id\":\"aad7140d-cd34-4ae9-9f02-bdf9b06e9b24\",\"type\":\"Range1d\"},{\"attributes\":{\"data_source\":{\"id\":\"8c77eb0b-187b-40b2-b98b-af1386473c0f\",\"type\":\"ColumnDataSource\"},\"glyph\":{\"id\":\"abc0ee6c-cfaa-4b79-82df-8e47c6fadd91\",\"type\":\"Square\"},\"hover_glyph\":null,\"muted_glyph\":null,\"nonselection_glyph\":{\"id\":\"13267512-cf16-4c80-baef-a4848a7a7400\",\"type\":\"Square\"},\"selection_glyph\":null,\"view\":{\"id\":\"71072858-070e-4dac-90e0-78abbe7cdb68\",\"type\":\"CDSView\"}},\"id\":\"7942890e-9071-4cb5-8012-9f9c70dcaac7\",\"type\":\"GlyphRenderer\"},{\"attributes\":{\"callback\":null,\"data\":{\"x\":{\"__ndarray__\":\"cTfDDKFe1L5X3BVomALTvkceLmCszc6+fFDab7w6xb7xTG8ZaLyxvhGdqkhHqas+MVJCeATqyj40ZJl3RBDaPmSD02/x9+Q+v8CVZW367j6QEeqTztP1PiVSCHbZ6P0+5apR2bYiBD+RE/jeQTEKP9E6S2OmVRA/S/4+zKswFD9rZbL1L08ZP3pCSmzXIiA/TG9RtIf2JD911+HVrcIrP3ngC8WLjzI/8xcb1o37NT/s5xy0XO41Pw8CgbPpfDQ/zdxDgFBmMj85CKuKmO0tPwvCswHzsCI/jyiTguPt/j5Ohg5BNcoZv6lRKjSFeTG/Y95YUxLKQL8utMYrT+pLv2ZLMshfzlO/4KPcR3eaWL9wdq7aA1Vdv4WRjTH/QmG/Kzci7mJAZL9Yq6aGXshov+O7UwzX9G6/zuQGwFL2cr/2gG3Dt9d2v24NjMdDInu/DPS0c4bYf79MYSe6A3yCvzdQZNYgBoW/BBzV+GsDhr9PDdwLUWiEvwFSsosPW4G/lu67lASpe78kDEEemupzv6sqlIL3IGe/d2OUUUZqRb9sOT1OXalaP84SAP6SXXA/0Dug9JZOej+M8FW3KiyCP/Em/Kg/KIc/H0th1nIEjD/vGzT7CVWQP2H+Cpkrg5I/YUS3a/2FlD/GQVPAh1yWP+e//TzqCJg//s25S0qQmT9usFv3m/iaP/SO3matRZw/U3f4et1znT8P+CexnmyeP29eQT/49Z4/RGBM/TO4nj+/ijCecXydP0ZTMSbhaJs/9waUihzbmD/7VO1Ruh+WP+/DN9AgXpM/\",\"dtype\":\"float64\",\"shape\":[75]},\"y\":{\"__ndarray__\":\"GhExyth1ND/Sv8nbtpRIP2vylNV0PVE/aTum7souWD/At0SJ8fVgPw3Iuahxymc/MSNhhJWvcD/bTfBN02d3P2zb5nxnaoA/CD5h5MAGhz8NmeH1TyaQP+zrCsc9p5Y/LbKd76fGnz/bLW5ISEmmPww9YvTcQq8/JV2OstnstT8Er5Y7M8G+P0c+r3jqkcU/5h99k6ZBzj88bCIzFzjVP4enV8oyxN0//yH99nXg5D8qOpLLf0jtP5kqGJXUifQ/c9cS8kHP/D+/DpwzojQEQIEmwoanVwxA4lgXt9HgE0BSSZ2AJuIbQAMJih9jjiNA5q4l5INuK0AwTKYKRj0zQNv5fmq8/DpAaCJseHrtQkB/+zpwzoxKQM3MzMzMeFJAZmZmZmZqWEAAAAAAAFxeQM3MzMzMJmJAmpmZmZkfZUBmZmZmZhhoQDMzMzMzEWtAAAAAAAAKbkBmZmZmZoFwQM3MzMzM/XFAMzMzMzN6c0CamZmZmfZ0QAAAAAAAc3ZAZmZmZmbvd0DNzMzMzGt5QDMzMzMz6HpAmpmZmZlkfEAAAAAAAOF9QGZmZmZmXX9AZmZmZuZsgECamZmZGSuBQM3MzMxM6YFAAAAAAICngkAzMzMzs2WDQGZmZmbmI4RAmpmZmRnihEDNzMzMTKCFQAAAAACAXoZAMzMzM7Mch0BmZmZm5tqHQJqZmZkZmYhAzczMzExXiUAAAAAAgBWKQDMzMzOz04pAZmZmZuaRi0CamZmZGVCMQM3MzMxMDo1AAAAAAIDMjUAzMzMzs4qOQGZmZmbmSI9A\",\"dtype\":\"float64\",\"shape\":[75]}},\"selected\":{\"id\":\"4919d30a-2fef-4b44-bdd6-c5d7b0396db5\",\"type\":\"Selection\"},\"selection_policy\":{\"id\":\"005f69ee-6b8d-4a8b-a490-396c61fb0911\",\"type\":\"UnionRenderers\"}},\"id\":\"83e2645d-8b9e-4fe4-aa76-fb58fab01bae\",\"type\":\"ColumnDataSource\"},{\"attributes\":{},\"id\":\"8eef237f-9bb3-4eb5-b8b0-e3c492a1aecf\",\"type\":\"UnionRenderers\"},{\"attributes\":{\"line_alpha\":0.1,\"line_color\":\"#1f77b4\",\"line_width\":3,\"x\":{\"field\":\"x\"},\"y\":{\"field\":\"y\"}},\"id\":\"15ea5b7a-827e-46ee-a945-b525a6ba2eff\",\"type\":\"Line\"},{\"attributes\":{},\"id\":\"d8ed4534-8e65-4588-85a9-011e069ce088\",\"type\":\"WheelZoomTool\"},{\"attributes\":{\"source\":{\"id\":\"8c77eb0b-187b-40b2-b98b-af1386473c0f\",\"type\":\"ColumnDataSource\"}},\"id\":\"71072858-070e-4dac-90e0-78abbe7cdb68\",\"type\":\"CDSView\"},{\"attributes\":{\"line_color\":\"#4daf4a\",\"line_width\":1.5,\"x\":{\"field\":\"x\"},\"y\":{\"field\":\"y\"}},\"id\":\"13342f96-44ff-4017-8d74-0362c4f5355b\",\"type\":\"Line\"},{\"attributes\":{\"fill_alpha\":{\"value\":0.7},\"fill_color\":{\"value\":\"#984ea3\"},\"line_alpha\":{\"value\":0.7},\"line_color\":{\"value\":\"#984ea3\"},\"x\":{\"field\":\"x\"},\"y\":{\"field\":\"y\"}},\"id\":\"abc0ee6c-cfaa-4b79-82df-8e47c6fadd91\",\"type\":\"Square\"},{\"attributes\":{\"line_color\":\"#4daf4a\",\"line_width\":1.5,\"x\":{\"field\":\"x\"},\"y\":{\"field\":\"y\"}},\"id\":\"e138e691-504c-4d93-bd1a-09e8d88b1cb9\",\"type\":\"Line\"},{\"attributes\":{},\"id\":\"dfd87d62-72c6-4a8b-995e-81ff7ea15bc9\",\"type\":\"Selection\"},{\"attributes\":{\"line_alpha\":0.6,\"line_color\":\"#984ea3\",\"line_width\":3,\"x\":{\"field\":\"x\"},\"y\":{\"field\":\"y\"}},\"id\":\"46ed1711-2cdc-4a35-8479-4a677117d105\",\"type\":\"Line\"},{\"attributes\":{\"line_alpha\":0.1,\"line_color\":\"#1f77b4\",\"line_width\":1.5,\"x\":{\"field\":\"x\"},\"y\":{\"field\":\"y\"}},\"id\":\"6cc2a035-e199-409a-865e-56456f9328cd\",\"type\":\"Line\"},{\"attributes\":{},\"id\":\"f80863d4-a647-4902-83eb-e42f71e09029\",\"type\":\"UnionRenderers\"},{\"attributes\":{\"callback\":null,\"data\":{\"x\":{\"__ndarray__\":\"reYTRJYYzb7NJyMMM+bIvm1cuAAYtLy+10hvJt2rdr5uhYqY3ZHAPlWCZxtoJtM+76Py6u1f4D42KojemNzoPv0NooOEu/E+ijDV0D1g+D4M0y+STl8AP8VjHtIfrwU/NgHqIfR3DD/kG0AYIDISP27pvKN3cRY/6ApomGuCGz84qKiymx0hPyUCFtiIriU/bCZ3FMUALD8vvnsiv3EyP9/FCijvjjg/9P7lhrguPT8aui9Tc5g9P3IVbcthejw/Vi56OpLZOj9nQLu5XfE3P6++uUfS2zI/ELMbR5+FKD+LNX0YALMVP5JcEjudgQu/GfEtz/7oML/Cw+xFZ99Bv3/mEisLAEu/3jneWl++T7+9CmsSXGZRvxt2JAad6lK//gkPkjXOVb+EhH+ErnNdv7Ev1glB7WS/Dp0k+lFdbL8WsPZW8X1yv8Y6/3SPZXe/AgaLBEjtfL/myUyhp4yBv7daq2Zrt4S/bB5cQaAhhr+MUxKxP4uEvxV+reqsX4G/eqOs4ZaWe7/qkx5+5d5zvy90/afITWe/qxAg9N/mR7/3CTShT0BYP/aQim201m4/2XZ3OXX5eD/upU5b+kuBP92qOpchD4Y/Wb63tN2uij9vWtcFDxWPP9f5da+sl5E/BEW8DRt5kz+fjio3Dy+VP6JLIVihvZY/ujx6HDYsmD8bk75DY4OZP7otRX2IyZo/uPW5K9L8mz952buuewWdP0pC25dXoZ0/kQXQGHtpnT+o6wovIRycP9eQio/n5Jk/6OGAbS8vlz9J6XZPTk+UPyheW/vfapE/\",\"dtype\":\"float64\",\"shape\":[75]},\"y\":{\"__ndarray__\":\"GhExyth1ND/Sv8nbtpRIP2vylNV0PVE/aTum7souWD/At0SJ8fVgPw3Iuahxymc/MSNhhJWvcD/bTfBN02d3P2zb5nxnaoA/CD5h5MAGhz8NmeH1TyaQP+zrCsc9p5Y/LbKd76fGnz/bLW5ISEmmPww9YvTcQq8/JV2OstnstT8Er5Y7M8G+P0c+r3jqkcU/5h99k6ZBzj88bCIzFzjVP4enV8oyxN0//yH99nXg5D8qOpLLf0jtP5kqGJXUifQ/c9cS8kHP/D+/DpwzojQEQIEmwoanVwxA4lgXt9HgE0BSSZ2AJuIbQAMJih9jjiNA5q4l5INuK0AwTKYKRj0zQNv5fmq8/DpAaCJseHrtQkB/+zpwzoxKQM3MzMzMeFJAZmZmZmZqWEAAAAAAAFxeQM3MzMzMJmJAmpmZmZkfZUBmZmZmZhhoQDMzMzMzEWtAAAAAAAAKbkBmZmZmZoFwQM3MzMzM/XFAMzMzMzN6c0CamZmZmfZ0QAAAAAAAc3ZAZmZmZmbvd0DNzMzMzGt5QDMzMzMz6HpAmpmZmZlkfEAAAAAAAOF9QGZmZmZmXX9AZmZmZuZsgECamZmZGSuBQM3MzMxM6YFAAAAAAICngkAzMzMzs2WDQGZmZmbmI4RAmpmZmRnihEDNzMzMTKCFQAAAAACAXoZAMzMzM7Mch0BmZmZm5tqHQJqZmZkZmYhAzczMzExXiUAAAAAAgBWKQDMzMzOz04pAZmZmZuaRi0CamZmZGVCMQM3MzMxMDo1AAAAAAIDMjUAzMzMzs4qOQGZmZmbmSI9A\",\"dtype\":\"float64\",\"shape\":[75]}},\"selected\":{\"id\":\"dfd87d62-72c6-4a8b-995e-81ff7ea15bc9\",\"type\":\"Selection\"},\"selection_policy\":{\"id\":\"f80863d4-a647-4902-83eb-e42f71e09029\",\"type\":\"UnionRenderers\"}},\"id\":\"97dfcc15-4a4a-4faf-a645-958e84509037\",\"type\":\"ColumnDataSource\"},{\"attributes\":{\"callback\":null,\"data\":{\"x\":{\"__ndarray__\":\"reYTRJYYzb7NJyMMM+bIvm1cuAAYtLy+10hvJt2rdr5uhYqY3ZHAPlWCZxtoJtM+76Py6u1f4D42KojemNzoPv0NooOEu/E+ijDV0D1g+D4M0y+STl8AP8VjHtIfrwU/NgHqIfR3DD/kG0AYIDISP27pvKN3cRY/6ApomGuCGz84qKiymx0hPyUCFtiIriU/bCZ3FMUALD8vvnsiv3EyP9/FCijvjjg/9P7lhrguPT8aui9Tc5g9P3IVbcthejw/Vi56OpLZOj9nQLu5XfE3P6++uUfS2zI/ELMbR5+FKD+LNX0YALMVP5JcEjudgQu/GfEtz/7oML/Cw+xFZ99Bv3/mEisLAEu/3jneWl++T7+9CmsSXGZRvxt2JAad6lK//gkPkjXOVb+EhH+ErnNdv7Ev1glB7WS/Dp0k+lFdbL8WsPZW8X1yv8Y6/3SPZXe/AgaLBEjtfL/myUyhp4yBv7daq2Zrt4S/bB5cQaAhhr+MUxKxP4uEvxV+reqsX4G/eqOs4ZaWe7/qkx5+5d5zvy90/afITWe/qxAg9N/mR7/3CTShT0BYP/aQim201m4/2XZ3OXX5eD/upU5b+kuBP92qOpchD4Y/Wb63tN2uij9vWtcFDxWPP9f5da+sl5E/BEW8DRt5kz+fjio3Dy+VP6JLIVihvZY/ujx6HDYsmD8bk75DY4OZP7otRX2IyZo/uPW5K9L8mz952buuewWdP0pC25dXoZ0/kQXQGHtpnT+o6wovIRycP9eQio/n5Jk/6OGAbS8vlz9J6XZPTk+UPyheW/vfapE/\",\"dtype\":\"float64\",\"shape\":[75]},\"y\":{\"__ndarray__\":\"GhExyth1ND/Sv8nbtpRIP2vylNV0PVE/aTum7souWD/At0SJ8fVgPw3Iuahxymc/MSNhhJWvcD/bTfBN02d3P2zb5nxnaoA/CD5h5MAGhz8NmeH1TyaQP+zrCsc9p5Y/LbKd76fGnz/bLW5ISEmmPww9YvTcQq8/JV2OstnstT8Er5Y7M8G+P0c+r3jqkcU/5h99k6ZBzj88bCIzFzjVP4enV8oyxN0//yH99nXg5D8qOpLLf0jtP5kqGJXUifQ/c9cS8kHP/D+/DpwzojQEQIEmwoanVwxA4lgXt9HgE0BSSZ2AJuIbQAMJih9jjiNA5q4l5INuK0AwTKYKRj0zQNv5fmq8/DpAaCJseHrtQkB/+zpwzoxKQM3MzMzMeFJAZmZmZmZqWEAAAAAAAFxeQM3MzMzMJmJAmpmZmZkfZUBmZmZmZhhoQDMzMzMzEWtAAAAAAAAKbkBmZmZmZoFwQM3MzMzM/XFAMzMzMzN6c0CamZmZmfZ0QAAAAAAAc3ZAZmZmZmbvd0DNzMzMzGt5QDMzMzMz6HpAmpmZmZlkfEAAAAAAAOF9QGZmZmZmXX9AZmZmZuZsgECamZmZGSuBQM3MzMxM6YFAAAAAAICngkAzMzMzs2WDQGZmZmbmI4RAmpmZmRnihEDNzMzMTKCFQAAAAACAXoZAMzMzM7Mch0BmZmZm5tqHQJqZmZkZmYhAzczMzExXiUAAAAAAgBWKQDMzMzOz04pAZmZmZuaRi0CamZmZGVCMQM3MzMxMDo1AAAAAAIDMjUAzMzMzs4qOQGZmZmbmSI9A\",\"dtype\":\"float64\",\"shape\":[75]}},\"selected\":{\"id\":\"58cafbb1-a083-4d26-b48d-71d42a589733\",\"type\":\"Selection\"},\"selection_policy\":{\"id\":\"75e249d3-72c8-4442-b1e4-68745e52c3ef\",\"type\":\"UnionRenderers\"}},\"id\":\"ec6a3e67-e7f7-4f52-a365-c9f14301fde1\",\"type\":\"ColumnDataSource\"},{\"attributes\":{\"data_source\":{\"id\":\"83e2645d-8b9e-4fe4-aa76-fb58fab01bae\",\"type\":\"ColumnDataSource\"},\"glyph\":{\"id\":\"4e4c7d0f-97d5-4ca2-af5b-3a55097a1456\",\"type\":\"Triangle\"},\"hover_glyph\":null,\"muted_glyph\":null,\"nonselection_glyph\":{\"id\":\"9683cdf9-0c50-49de-af65-3c31490693e5\",\"type\":\"Triangle\"},\"selection_glyph\":null,\"view\":{\"id\":\"9efe1333-755c-44d2-82f9-abeb6dfccf77\",\"type\":\"CDSView\"}},\"id\":\"071c04cc-d6b8-4b0a-aa58-cc60cc26c539\",\"type\":\"GlyphRenderer\"},{\"attributes\":{\"data_source\":{\"id\":\"d2ed185c-08cd-4e61-829b-bec9103987b2\",\"type\":\"ColumnDataSource\"},\"glyph\":{\"id\":\"e138e691-504c-4d93-bd1a-09e8d88b1cb9\",\"type\":\"Line\"},\"hover_glyph\":null,\"muted_glyph\":null,\"nonselection_glyph\":{\"id\":\"c13d5f67-d9f2-4390-a8c4-08b6190133f0\",\"type\":\"Line\"},\"selection_glyph\":null,\"view\":{\"id\":\"6bf07715-0a16-4d9a-8f05-a493e1e2940f\",\"type\":\"CDSView\"}},\"id\":\"6df8f5a9-8db0-4625-84bb-40f1903ebe9d\",\"type\":\"GlyphRenderer\"},{\"attributes\":{\"line_alpha\":0.1,\"line_color\":\"#1f77b4\",\"line_width\":1.5,\"x\":{\"field\":\"x\"},\"y\":{\"field\":\"y\"}},\"id\":\"c13d5f67-d9f2-4390-a8c4-08b6190133f0\",\"type\":\"Line\"},{\"attributes\":{\"data_source\":{\"id\":\"86c8aa15-09e0-41f5-8297-57d1187d5c7c\",\"type\":\"ColumnDataSource\"},\"glyph\":{\"id\":\"fcb1ae2b-c91f-4a72-ae97-0bbc649764b1\",\"type\":\"Circle\"},\"hover_glyph\":null,\"muted_glyph\":null,\"nonselection_glyph\":{\"id\":\"892c0585-29e3-4fc2-b047-cb22abe2156f\",\"type\":\"Circle\"},\"selection_glyph\":null,\"view\":{\"id\":\"318de9d2-f860-4ef5-9d95-d96c88dde9f5\",\"type\":\"CDSView\"}},\"id\":\"06d292bb-67ba-4696-bbed-1feb22436fac\",\"type\":\"GlyphRenderer\"},{\"attributes\":{\"fill_alpha\":{\"value\":0.1},\"fill_color\":{\"value\":\"#1f77b4\"},\"line_alpha\":{\"value\":0.1},\"line_color\":{\"value\":\"#1f77b4\"},\"x\":{\"field\":\"x\"},\"y\":{\"field\":\"y\"}},\"id\":\"13267512-cf16-4c80-baef-a4848a7a7400\",\"type\":\"Square\"},{\"attributes\":{\"data_source\":{\"id\":\"1508190a-4145-4bc3-a8b3-7f9fe9529456\",\"type\":\"ColumnDataSource\"},\"glyph\":{\"id\":\"13342f96-44ff-4017-8d74-0362c4f5355b\",\"type\":\"Line\"},\"hover_glyph\":null,\"muted_glyph\":null,\"nonselection_glyph\":{\"id\":\"6cc2a035-e199-409a-865e-56456f9328cd\",\"type\":\"Line\"},\"selection_glyph\":null,\"view\":{\"id\":\"3245f2ca-093a-4514-b4c8-3aede4d82238\",\"type\":\"CDSView\"}},\"id\":\"0f17410d-feed-439d-9cc8-482e7a70c602\",\"type\":\"GlyphRenderer\"},{\"attributes\":{\"source\":{\"id\":\"d2ed185c-08cd-4e61-829b-bec9103987b2\",\"type\":\"ColumnDataSource\"}},\"id\":\"6bf07715-0a16-4d9a-8f05-a493e1e2940f\",\"type\":\"CDSView\"},{\"attributes\":{\"fill_alpha\":{\"value\":0.7},\"fill_color\":{\"value\":\"#377eb8\"},\"line_alpha\":{\"value\":0.7},\"line_color\":{\"value\":\"#377eb8\"},\"x\":{\"field\":\"x\"},\"y\":{\"field\":\"y\"}},\"id\":\"4e4c7d0f-97d5-4ca2-af5b-3a55097a1456\",\"type\":\"Triangle\"},{\"attributes\":{\"callback\":null,\"data\":{\"x\":{\"__ndarray__\":\"reYTRJYYzb7NJyMMM+bIvm1cuAAYtLy+10hvJt2rdr5uhYqY3ZHAPlWCZxtoJtM+76Py6u1f4D42KojemNzoPv0NooOEu/E+ijDV0D1g+D4M0y+STl8AP8VjHtIfrwU/NgHqIfR3DD/kG0AYIDISP27pvKN3cRY/6ApomGuCGz84qKiymx0hPyUCFtiIriU/bCZ3FMUALD8vvnsiv3EyP9/FCijvjjg/9P7lhrguPT8aui9Tc5g9P3IVbcthejw/Vi56OpLZOj9nQLu5XfE3P6++uUfS2zI/ELMbR5+FKD+LNX0YALMVP5JcEjudgQu/GfEtz/7oML/Cw+xFZ99Bv3/mEisLAEu/3jneWl++T7+9CmsSXGZRvxt2JAad6lK//gkPkjXOVb+EhH+ErnNdv7Ev1glB7WS/Dp0k+lFdbL8WsPZW8X1yv8Y6/3SPZXe/AgaLBEjtfL/myUyhp4yBv7daq2Zrt4S/bB5cQaAhhr+MUxKxP4uEvxV+reqsX4G/eqOs4ZaWe7/qkx5+5d5zvy90/afITWe/qxAg9N/mR7/3CTShT0BYP/aQim201m4/2XZ3OXX5eD/upU5b+kuBP92qOpchD4Y/Wb63tN2uij9vWtcFDxWPP9f5da+sl5E/BEW8DRt5kz+fjio3Dy+VP6JLIVihvZY/ujx6HDYsmD8bk75DY4OZP7otRX2IyZo/uPW5K9L8mz952buuewWdP0pC25dXoZ0/kQXQGHtpnT+o6wovIRycP9eQio/n5Jk/6OGAbS8vlz9J6XZPTk+UPyheW/vfapE/\",\"dtype\":\"float64\",\"shape\":[75]},\"y\":{\"__ndarray__\":\"GhExyth1ND/Sv8nbtpRIP2vylNV0PVE/aTum7souWD/At0SJ8fVgPw3Iuahxymc/MSNhhJWvcD/bTfBN02d3P2zb5nxnaoA/CD5h5MAGhz8NmeH1TyaQP+zrCsc9p5Y/LbKd76fGnz/bLW5ISEmmPww9YvTcQq8/JV2OstnstT8Er5Y7M8G+P0c+r3jqkcU/5h99k6ZBzj88bCIzFzjVP4enV8oyxN0//yH99nXg5D8qOpLLf0jtP5kqGJXUifQ/c9cS8kHP/D+/DpwzojQEQIEmwoanVwxA4lgXt9HgE0BSSZ2AJuIbQAMJih9jjiNA5q4l5INuK0AwTKYKRj0zQNv5fmq8/DpAaCJseHrtQkB/+zpwzoxKQM3MzMzMeFJAZmZmZmZqWEAAAAAAAFxeQM3MzMzMJmJAmpmZmZkfZUBmZmZmZhhoQDMzMzMzEWtAAAAAAAAKbkBmZmZmZoFwQM3MzMzM/XFAMzMzMzN6c0CamZmZmfZ0QAAAAAAAc3ZAZmZmZmbvd0DNzMzMzGt5QDMzMzMz6HpAmpmZmZlkfEAAAAAAAOF9QGZmZmZmXX9AZmZmZuZsgECamZmZGSuBQM3MzMxM6YFAAAAAAICngkAzMzMzs2WDQGZmZmbmI4RAmpmZmRnihEDNzMzMTKCFQAAAAACAXoZAMzMzM7Mch0BmZmZm5tqHQJqZmZkZmYhAzczMzExXiUAAAAAAgBWKQDMzMzOz04pAZmZmZuaRi0CamZmZGVCMQM3MzMxMDo1AAAAAAIDMjUAzMzMzs4qOQGZmZmbmSI9A\",\"dtype\":\"float64\",\"shape\":[75]}},\"selected\":{\"id\":\"21152cef-d853-4a27-bda4-b3f53d273237\",\"type\":\"Selection\"},\"selection_policy\":{\"id\":\"8eef237f-9bb3-4eb5-b8b0-e3c492a1aecf\",\"type\":\"UnionRenderers\"}},\"id\":\"8c77eb0b-187b-40b2-b98b-af1386473c0f\",\"type\":\"ColumnDataSource\"},{\"attributes\":{\"data_source\":{\"id\":\"ec6a3e67-e7f7-4f52-a365-c9f14301fde1\",\"type\":\"ColumnDataSource\"},\"glyph\":{\"id\":\"891fbca0-ad0c-43e3-89eb-ca24bd6691b3\",\"type\":\"Square\"},\"hover_glyph\":null,\"muted_glyph\":null,\"nonselection_glyph\":{\"id\":\"8d9642d2-54cc-4aa3-bf38-2c05f6a792fe\",\"type\":\"Square\"},\"selection_glyph\":null,\"view\":{\"id\":\"411b273a-8d15-44e6-8461-8975685b287c\",\"type\":\"CDSView\"}},\"id\":\"0067a0b8-114a-4c42-92f2-812bf4fc7d60\",\"type\":\"GlyphRenderer\"},{\"attributes\":{\"callback\":null,\"data\":{\"x\":{\"__ndarray__\":\"cTfDDKFe1L5X3BVomALTvkceLmCszc6+fFDab7w6xb7xTG8ZaLyxvhGdqkhHqas+MVJCeATqyj40ZJl3RBDaPmSD02/x9+Q+v8CVZW367j6QEeqTztP1PiVSCHbZ6P0+5apR2bYiBD+RE/jeQTEKP9E6S2OmVRA/S/4+zKswFD9rZbL1L08ZP3pCSmzXIiA/TG9RtIf2JD911+HVrcIrP3ngC8WLjzI/8xcb1o37NT/s5xy0XO41Pw8CgbPpfDQ/zdxDgFBmMj85CKuKmO0tPwvCswHzsCI/jyiTguPt/j5Ohg5BNcoZv6lRKjSFeTG/Y95YUxLKQL8utMYrT+pLv2ZLMshfzlO/4KPcR3eaWL9wdq7aA1Vdv4WRjTH/QmG/Kzci7mJAZL9Yq6aGXshov+O7UwzX9G6/zuQGwFL2cr/2gG3Dt9d2v24NjMdDInu/DPS0c4bYf79MYSe6A3yCvzdQZNYgBoW/BBzV+GsDhr9PDdwLUWiEvwFSsosPW4G/lu67lASpe78kDEEemupzv6sqlIL3IGe/d2OUUUZqRb9sOT1OXalaP84SAP6SXXA/0Dug9JZOej+M8FW3KiyCP/Em/Kg/KIc/H0th1nIEjD/vGzT7CVWQP2H+Cpkrg5I/YUS3a/2FlD/GQVPAh1yWP+e//TzqCJg//s25S0qQmT9usFv3m/iaP/SO3matRZw/U3f4et1znT8P+CexnmyeP29eQT/49Z4/RGBM/TO4nj+/ijCecXydP0ZTMSbhaJs/9waUihzbmD/7VO1Ruh+WP+/DN9AgXpM/\",\"dtype\":\"float64\",\"shape\":[75]},\"y\":{\"__ndarray__\":\"GhExyth1ND/Sv8nbtpRIP2vylNV0PVE/aTum7souWD/At0SJ8fVgPw3Iuahxymc/MSNhhJWvcD/bTfBN02d3P2zb5nxnaoA/CD5h5MAGhz8NmeH1TyaQP+zrCsc9p5Y/LbKd76fGnz/bLW5ISEmmPww9YvTcQq8/JV2OstnstT8Er5Y7M8G+P0c+r3jqkcU/5h99k6ZBzj88bCIzFzjVP4enV8oyxN0//yH99nXg5D8qOpLLf0jtP5kqGJXUifQ/c9cS8kHP/D+/DpwzojQEQIEmwoanVwxA4lgXt9HgE0BSSZ2AJuIbQAMJih9jjiNA5q4l5INuK0AwTKYKRj0zQNv5fmq8/DpAaCJseHrtQkB/+zpwzoxKQM3MzMzMeFJAZmZmZmZqWEAAAAAAAFxeQM3MzMzMJmJAmpmZmZkfZUBmZmZmZhhoQDMzMzMzEWtAAAAAAAAKbkBmZmZmZoFwQM3MzMzM/XFAMzMzMzN6c0CamZmZmfZ0QAAAAAAAc3ZAZmZmZmbvd0DNzMzMzGt5QDMzMzMz6HpAmpmZmZlkfEAAAAAAAOF9QGZmZmZmXX9AZmZmZuZsgECamZmZGSuBQM3MzMxM6YFAAAAAAICngkAzMzMzs2WDQGZmZmbmI4RAmpmZmRnihEDNzMzMTKCFQAAAAACAXoZAMzMzM7Mch0BmZmZm5tqHQJqZmZkZmYhAzczMzExXiUAAAAAAgBWKQDMzMzOz04pAZmZmZuaRi0CamZmZGVCMQM3MzMxMDo1AAAAAAIDMjUAzMzMzs4qOQGZmZmbmSI9A\",\"dtype\":\"float64\",\"shape\":[75]}},\"selected\":{\"id\":\"e17be09c-8335-47eb-b3be-cd5df8516b2a\",\"type\":\"Selection\"},\"selection_policy\":{\"id\":\"54344c3e-dff1-4089-b75d-f7904d8dcf8c\",\"type\":\"UnionRenderers\"}},\"id\":\"e984d4a8-3ba6-4bba-b0d6-4ece8ce737aa\",\"type\":\"ColumnDataSource\"},{\"attributes\":{\"data_source\":{\"id\":\"97dfcc15-4a4a-4faf-a645-958e84509037\",\"type\":\"ColumnDataSource\"},\"glyph\":{\"id\":\"46ed1711-2cdc-4a35-8479-4a677117d105\",\"type\":\"Line\"},\"hover_glyph\":null,\"muted_glyph\":null,\"nonselection_glyph\":{\"id\":\"15ea5b7a-827e-46ee-a945-b525a6ba2eff\",\"type\":\"Line\"},\"selection_glyph\":null,\"view\":{\"id\":\"e14e7af3-919e-43fa-a66d-87cafb99bedf\",\"type\":\"CDSView\"}},\"id\":\"2d2fff0c-b518-479d-b1ba-6ca7ca029b67\",\"type\":\"GlyphRenderer\"},{\"attributes\":{\"source\":{\"id\":\"86c8aa15-09e0-41f5-8297-57d1187d5c7c\",\"type\":\"ColumnDataSource\"}},\"id\":\"318de9d2-f860-4ef5-9d95-d96c88dde9f5\",\"type\":\"CDSView\"},{\"attributes\":{\"fill_alpha\":{\"value\":0.1},\"fill_color\":{\"value\":\"#1f77b4\"},\"line_alpha\":{\"value\":0.1},\"line_color\":{\"value\":\"#1f77b4\"},\"x\":{\"field\":\"x\"},\"y\":{\"field\":\"y\"}},\"id\":\"9683cdf9-0c50-49de-af65-3c31490693e5\",\"type\":\"Triangle\"},{\"attributes\":{\"line_alpha\":0.3,\"line_color\":\"#377eb8\",\"line_width\":2,\"x\":{\"field\":\"x\"},\"y\":{\"field\":\"y\"}},\"id\":\"dc6910b8-5e0f-49d6-bc9b-d08cae45c669\",\"type\":\"Line\"},{\"attributes\":{\"fill_alpha\":{\"value\":0.1},\"fill_color\":{\"value\":\"#1f77b4\"},\"line_alpha\":{\"value\":0.1},\"line_color\":{\"value\":\"#1f77b4\"},\"x\":{\"field\":\"x\"},\"y\":{\"field\":\"y\"}},\"id\":\"892c0585-29e3-4fc2-b047-cb22abe2156f\",\"type\":\"Circle\"},{\"attributes\":{\"source\":{\"id\":\"e984d4a8-3ba6-4bba-b0d6-4ece8ce737aa\",\"type\":\"ColumnDataSource\"}},\"id\":\"f2b41c7b-31cd-47bd-9dc3-899cf250c9bc\",\"type\":\"CDSView\"},{\"attributes\":{\"source\":{\"id\":\"97dfcc15-4a4a-4faf-a645-958e84509037\",\"type\":\"ColumnDataSource\"}},\"id\":\"e14e7af3-919e-43fa-a66d-87cafb99bedf\",\"type\":\"CDSView\"},{\"attributes\":{},\"id\":\"0d7795e0-e87b-4d29-a0e8-cf44110e79ce\",\"type\":\"Selection\"},{\"attributes\":{\"line_alpha\":0.1,\"line_color\":\"#1f77b4\",\"line_width\":2,\"x\":{\"field\":\"x\"},\"y\":{\"field\":\"y\"}},\"id\":\"6ffe871d-2a2e-4eb4-b7e2-b8d771c37dfe\",\"type\":\"Line\"},{\"attributes\":{\"source\":{\"id\":\"ec6a3e67-e7f7-4f52-a365-c9f14301fde1\",\"type\":\"ColumnDataSource\"}},\"id\":\"411b273a-8d15-44e6-8461-8975685b287c\",\"type\":\"CDSView\"},{\"attributes\":{\"above\":[{\"id\":\"41f74455-2441-46f0-9d36-8867ff3968db\",\"type\":\"Legend\"}],\"below\":[{\"id\":\"cd374fc9-e668-4d0e-b9c5-7d577652579e\",\"type\":\"LinearAxis\"}],\"left\":[{\"id\":\"f7969837-7903-47d5-824f-b94dea1317b2\",\"type\":\"LogAxis\"}],\"plot_height\":500,\"plot_width\":400,\"renderers\":[{\"id\":\"cd374fc9-e668-4d0e-b9c5-7d577652579e\",\"type\":\"LinearAxis\"},{\"id\":\"e45d9b3c-2429-475d-9db4-4d2f22e02120\",\"type\":\"Grid\"},{\"id\":\"f7969837-7903-47d5-824f-b94dea1317b2\",\"type\":\"LogAxis\"},{\"id\":\"d238d104-f42a-4bb7-8e3b-8cbff199ba49\",\"type\":\"Grid\"},{\"id\":\"d66882ec-47b3-4750-b88f-70e5463d7a67\",\"type\":\"BoxAnnotation\"},{\"id\":\"06d292bb-67ba-4696-bbed-1feb22436fac\",\"type\":\"GlyphRenderer\"},{\"id\":\"0f17410d-feed-439d-9cc8-482e7a70c602\",\"type\":\"GlyphRenderer\"},{\"id\":\"0067a0b8-114a-4c42-92f2-812bf4fc7d60\",\"type\":\"GlyphRenderer\"},{\"id\":\"eb8103a2-395d-45b0-a72e-047199f48c3d\",\"type\":\"GlyphRenderer\"},{\"id\":\"cd353601-70e7-4420-9250-a985268af2ca\",\"type\":\"GlyphRenderer\"},{\"id\":\"21249588-3175-4872-a2fa-2d8a9d87ca19\",\"type\":\"GlyphRenderer\"},{\"id\":\"41f74455-2441-46f0-9d36-8867ff3968db\",\"type\":\"Legend\"}],\"title\":{\"id\":\"d91118be-effe-48c3-97fc-46c3b93b93ae\",\"type\":\"Title\"},\"toolbar\":{\"id\":\"c6a7fa56-c426-4e68-b228-10eec739c06f\",\"type\":\"Toolbar\"},\"toolbar_location\":null,\"x_range\":{\"id\":\"fda726f3-a05a-4451-a895-bd8fcaccbb82\",\"type\":\"Range1d\"},\"x_scale\":{\"id\":\"5ef33d27-1e74-42d6-8fb3-cce56d88a093\",\"type\":\"LinearScale\"},\"y_range\":{\"id\":\"aad7140d-cd34-4ae9-9f02-bdf9b06e9b24\",\"type\":\"Range1d\"},\"y_scale\":{\"id\":\"8349cbbe-c5ce-412d-8c7b-09761fd65c0f\",\"type\":\"LogScale\"}},\"id\":\"8268d3d0-3953-4766-845e-f5fdbc476ca5\",\"subtype\":\"Figure\",\"type\":\"Plot\"},{\"attributes\":{\"source\":{\"id\":\"83e2645d-8b9e-4fe4-aa76-fb58fab01bae\",\"type\":\"ColumnDataSource\"}},\"id\":\"9efe1333-755c-44d2-82f9-abeb6dfccf77\",\"type\":\"CDSView\"},{\"attributes\":{\"data_source\":{\"id\":\"e984d4a8-3ba6-4bba-b0d6-4ece8ce737aa\",\"type\":\"ColumnDataSource\"},\"glyph\":{\"id\":\"dc6910b8-5e0f-49d6-bc9b-d08cae45c669\",\"type\":\"Line\"},\"hover_glyph\":null,\"muted_glyph\":null,\"nonselection_glyph\":{\"id\":\"6ffe871d-2a2e-4eb4-b7e2-b8d771c37dfe\",\"type\":\"Line\"},\"selection_glyph\":null,\"view\":{\"id\":\"f2b41c7b-31cd-47bd-9dc3-899cf250c9bc\",\"type\":\"CDSView\"}},\"id\":\"cb0a11da-959c-444b-a25d-5ada67c5f57a\",\"type\":\"GlyphRenderer\"},{\"attributes\":{\"active_drag\":\"auto\",\"active_inspect\":\"auto\",\"active_scroll\":\"auto\",\"active_tap\":\"auto\",\"tools\":[{\"id\":\"bae4d9b7-c294-4100-b600-e75940b774d0\",\"type\":\"PanTool\"},{\"id\":\"d8ed4534-8e65-4588-85a9-011e069ce088\",\"type\":\"WheelZoomTool\"},{\"id\":\"981b1b9f-a1ed-4496-816f-5250651532ee\",\"type\":\"BoxZoomTool\"},{\"id\":\"67efb113-06fe-4063-b747-435bd328f278\",\"type\":\"SaveTool\"},{\"id\":\"9554bcae-10d9-454d-80a8-4218ea9c26a5\",\"type\":\"ResetTool\"},{\"id\":\"d5ea9fb2-8e68-4fb1-9b86-1617893d56db\",\"type\":\"HelpTool\"}]},\"id\":\"c6a7fa56-c426-4e68-b228-10eec739c06f\",\"type\":\"Toolbar\"},{\"attributes\":{\"label\":{\"value\":\"CRD\"},\"renderers\":[{\"id\":\"7b9b4fb0-d1ec-4b0b-882b-566ebcdb5bea\",\"type\":\"GlyphRenderer\"},{\"id\":\"6df8f5a9-8db0-4625-84bb-40f1903ebe9d\",\"type\":\"GlyphRenderer\"}]},\"id\":\"8629e082-4dc2-47ec-b917-3a4c3238373b\",\"type\":\"LegendItem\"},{\"attributes\":{\"callback\":null,\"end\":0.001233845414,\"start\":-0.005644250613999999},\"id\":\"fda726f3-a05a-4451-a895-bd8fcaccbb82\",\"type\":\"Range1d\"},{\"attributes\":{\"fill_alpha\":{\"value\":0.1},\"fill_color\":{\"value\":\"#1f77b4\"},\"line_alpha\":{\"value\":0.1},\"line_color\":{\"value\":\"#1f77b4\"},\"x\":{\"field\":\"x\"},\"y\":{\"field\":\"y\"}},\"id\":\"8d9642d2-54cc-4aa3-bf38-2c05f6a792fe\",\"type\":\"Square\"},{\"attributes\":{\"label\":{\"value\":\"WGT igg=1\"},\"renderers\":[{\"id\":\"7942890e-9071-4cb5-8012-9f9c70dcaac7\",\"type\":\"GlyphRenderer\"},{\"id\":\"2d2fff0c-b518-479d-b1ba-6ca7ca029b67\",\"type\":\"GlyphRenderer\"}]},\"id\":\"052f42d6-6229-4a46-a763-c87868b88ac4\",\"type\":\"LegendItem\"},{\"attributes\":{\"callback\":null,\"data\":{\"x\":{\"__ndarray__\":\"fPGbhKV/1L49zdE/VZTSvhgDdpwTF8u+VsP9iEiNu740qAiQi2SaPtknlNjM2Mg+4ZdroIoB2j4kbmWhoonlPuKnDqGeIfA+4OBNeRjj9j75YcGiQnD/PsE6PbKyKwU/r5BgIiwpDD8ThDX/BzASPxHbnWR+ohY/ulwg/sX5Gz/8g72pIIohP8NNM+wsXyY/4a6V4AwRLT/t6nU3qz0zP+P88DoUvDk/9BIwZjLlPj8S13aYpgpAP3UE4eM7DEA/8JDul/IJQD+a9nyDRGs/PyGVb7OMaT0/dAKjnoj9Oj/qrqT9SdA5P5GNQIkcZzg/gAbPxZJvND91Pkksc7sqP6Mq+8NwtiY/rD9SUdxxNz9dFdV5+ghGP1e+LgyfkFA/Q2CPh0ocUz+Wg7ld+1NMP1k2seY0pCQ/QYwF3wh5SL/s7EetIORdv09J0gQ1NGm/HKIHx/eIcr+W2p8DA3N5v+qU5TEsgoC/dmMkMBt6gr8T4l8+OCOBv5eQPWkCeHy/6TegoZdDdr9Pkdq7M5Bvv0ykd9y+72G/DZ6bvlDBPL9rH3vRKOpWP1S/81D5JWs/NtVjdxKsdT8MQQEglul9Pxwv4pSgE4M/9gi+NAgdhz84JjBCHfuKPxGqFglUnI4/B8FSeRX7kD8iCRnNbIWSP8ibMQlt8pM/rzhOamVLlT+LvKXPIJuWP7+rX5V96pc/mtCyW7w5mT9b2JarZnCaP44krlQxRJs/xT/C6Yo9mz+ApV3G+Q2aP5Cu/1795Jc/zbLJD8w5lT8CzGNqnmWSPxG8t6hqEI8/\",\"dtype\":\"float64\",\"shape\":[75]},\"y\":{\"__ndarray__\":\"GhExyth1ND/Sv8nbtpRIP2vylNV0PVE/aTum7souWD/At0SJ8fVgPw3Iuahxymc/MSNhhJWvcD/bTfBN02d3P2zb5nxnaoA/CD5h5MAGhz8NmeH1TyaQP+zrCsc9p5Y/LbKd76fGnz/bLW5ISEmmPww9YvTcQq8/JV2OstnstT8Er5Y7M8G+P0c+r3jqkcU/5h99k6ZBzj88bCIzFzjVP4enV8oyxN0//yH99nXg5D8qOpLLf0jtP5kqGJXUifQ/c9cS8kHP/D+/DpwzojQEQIEmwoanVwxA4lgXt9HgE0BSSZ2AJuIbQAMJih9jjiNA5q4l5INuK0AwTKYKRj0zQNv5fmq8/DpAaCJseHrtQkB/+zpwzoxKQM3MzMzMeFJAZmZmZmZqWEAAAAAAAFxeQM3MzMzMJmJAmpmZmZkfZUBmZmZmZhhoQDMzMzMzEWtAAAAAAAAKbkBmZmZmZoFwQM3MzMzM/XFAMzMzMzN6c0CamZmZmfZ0QAAAAAAAc3ZAZmZmZmbvd0DNzMzMzGt5QDMzMzMz6HpAmpmZmZlkfEAAAAAAAOF9QGZmZmZmXX9AZmZmZuZsgECamZmZGSuBQM3MzMxM6YFAAAAAAICngkAzMzMzs2WDQGZmZmbmI4RAmpmZmRnihEDNzMzMTKCFQAAAAACAXoZAMzMzM7Mch0BmZmZm5tqHQJqZmZkZmYhAzczMzExXiUAAAAAAgBWKQDMzMzOz04pAZmZmZuaRi0CamZmZGVCMQM3MzMxMDo1AAAAAAIDMjUAzMzMzs4qOQGZmZmbmSI9A\",\"dtype\":\"float64\",\"shape\":[75]}},\"selected\":{\"id\":\"f57de4ff-7361-4b1f-a696-a74d0b7ebfd3\",\"type\":\"Selection\"},\"selection_policy\":{\"id\":\"9a7ea95d-1aca-4a29-b856-5319812a9d07\",\"type\":\"UnionRenderers\"}},\"id\":\"1508190a-4145-4bc3-a8b3-7f9fe9529456\",\"type\":\"ColumnDataSource\"},{\"attributes\":{},\"id\":\"5ef33d27-1e74-42d6-8fb3-cce56d88a093\",\"type\":\"LinearScale\"},{\"attributes\":{\"label\":{\"value\":\"WGT igg=10\"},\"renderers\":[{\"id\":\"071c04cc-d6b8-4b0a-aa58-cc60cc26c539\",\"type\":\"GlyphRenderer\"},{\"id\":\"cb0a11da-959c-444b-a25d-5ada67c5f57a\",\"type\":\"GlyphRenderer\"}]},\"id\":\"ea758813-623e-402b-992b-3b633a1821b3\",\"type\":\"LegendItem\"},{\"attributes\":{\"line_alpha\":0.6,\"line_color\":\"#984ea3\",\"line_width\":3,\"x\":{\"field\":\"x\"},\"y\":{\"field\":\"y\"}},\"id\":\"1cb14ece-c2be-4be9-b676-d3fe6b22144e\",\"type\":\"Line\"},{\"attributes\":{},\"id\":\"bae4d9b7-c294-4100-b600-e75940b774d0\",\"type\":\"PanTool\"},{\"attributes\":{\"data_source\":{\"id\":\"eaa891a0-4347-49f7-83bc-0c5a592a23ac\",\"type\":\"ColumnDataSource\"},\"glyph\":{\"id\":\"1cb14ece-c2be-4be9-b676-d3fe6b22144e\",\"type\":\"Line\"},\"hover_glyph\":null,\"muted_glyph\":null,\"nonselection_glyph\":{\"id\":\"a216a95f-0a11-4f3f-baeb-2745345ec5c5\",\"type\":\"Line\"},\"selection_glyph\":null,\"view\":{\"id\":\"cc3f5b48-d66c-4b7e-be1e-2074218c7bf8\",\"type\":\"CDSView\"}},\"id\":\"eb8103a2-395d-45b0-a72e-047199f48c3d\",\"type\":\"GlyphRenderer\"},{\"attributes\":{\"items\":[{\"id\":\"1683cbf6-9491-4797-acf4-130d20841c48\",\"type\":\"LegendItem\"},{\"id\":\"965f5111-036e-45e9-9b9d-f95aabe6bea7\",\"type\":\"LegendItem\"},{\"id\":\"63eb5821-60ed-4e21-bca3-466c6c21959f\",\"type\":\"LegendItem\"}],\"label_text_font_size\":{\"value\":\"8pt\"},\"location\":\"top_center\",\"orientation\":\"horizontal\",\"plot\":{\"id\":\"8268d3d0-3953-4766-845e-f5fdbc476ca5\",\"subtype\":\"Figure\",\"type\":\"Plot\"}},\"id\":\"41f74455-2441-46f0-9d36-8867ff3968db\",\"type\":\"Legend\"},{\"attributes\":{\"callback\":null,\"data\":{\"x\":{\"__ndarray__\":\"cTfDDKFe1L5X3BVomALTvkceLmCszc6+fFDab7w6xb7xTG8ZaLyxvhGdqkhHqas+MVJCeATqyj40ZJl3RBDaPmSD02/x9+Q+v8CVZW367j6QEeqTztP1PiVSCHbZ6P0+5apR2bYiBD+RE/jeQTEKP9E6S2OmVRA/S/4+zKswFD9rZbL1L08ZP3pCSmzXIiA/TG9RtIf2JD911+HVrcIrP3ngC8WLjzI/8xcb1o37NT/s5xy0XO41Pw8CgbPpfDQ/zdxDgFBmMj85CKuKmO0tPwvCswHzsCI/jyiTguPt/j5Ohg5BNcoZv6lRKjSFeTG/Y95YUxLKQL8utMYrT+pLv2ZLMshfzlO/4KPcR3eaWL9wdq7aA1Vdv4WRjTH/QmG/Kzci7mJAZL9Yq6aGXshov+O7UwzX9G6/zuQGwFL2cr/2gG3Dt9d2v24NjMdDInu/DPS0c4bYf79MYSe6A3yCvzdQZNYgBoW/BBzV+GsDhr9PDdwLUWiEvwFSsosPW4G/lu67lASpe78kDEEemupzv6sqlIL3IGe/d2OUUUZqRb9sOT1OXalaP84SAP6SXXA/0Dug9JZOej+M8FW3KiyCP/Em/Kg/KIc/H0th1nIEjD/vGzT7CVWQP2H+Cpkrg5I/YUS3a/2FlD/GQVPAh1yWP+e//TzqCJg//s25S0qQmT9usFv3m/iaP/SO3matRZw/U3f4et1znT8P+CexnmyeP29eQT/49Z4/RGBM/TO4nj+/ijCecXydP0ZTMSbhaJs/9waUihzbmD/7VO1Ruh+WP+/DN9AgXpM/\",\"dtype\":\"float64\",\"shape\":[75]},\"y\":{\"__ndarray__\":\"GhExyth1ND/Sv8nbtpRIP2vylNV0PVE/aTum7souWD/At0SJ8fVgPw3Iuahxymc/MSNhhJWvcD/bTfBN02d3P2zb5nxnaoA/CD5h5MAGhz8NmeH1TyaQP+zrCsc9p5Y/LbKd76fGnz/bLW5ISEmmPww9YvTcQq8/JV2OstnstT8Er5Y7M8G+P0c+r3jqkcU/5h99k6ZBzj88bCIzFzjVP4enV8oyxN0//yH99nXg5D8qOpLLf0jtP5kqGJXUifQ/c9cS8kHP/D+/DpwzojQEQIEmwoanVwxA4lgXt9HgE0BSSZ2AJuIbQAMJih9jjiNA5q4l5INuK0AwTKYKRj0zQNv5fmq8/DpAaCJseHrtQkB/+zpwzoxKQM3MzMzMeFJAZmZmZmZqWEAAAAAAAFxeQM3MzMzMJmJAmpmZmZkfZUBmZmZmZhhoQDMzMzMzEWtAAAAAAAAKbkBmZmZmZoFwQM3MzMzM/XFAMzMzMzN6c0CamZmZmfZ0QAAAAAAAc3ZAZmZmZmbvd0DNzMzMzGt5QDMzMzMz6HpAmpmZmZlkfEAAAAAAAOF9QGZmZmZmXX9AZmZmZuZsgECamZmZGSuBQM3MzMxM6YFAAAAAAICngkAzMzMzs2WDQGZmZmbmI4RAmpmZmRnihEDNzMzMTKCFQAAAAACAXoZAMzMzM7Mch0BmZmZm5tqHQJqZmZkZmYhAzczMzExXiUAAAAAAgBWKQDMzMzOz04pAZmZmZuaRi0CamZmZGVCMQM3MzMxMDo1AAAAAAIDMjUAzMzMzs4qOQGZmZmbmSI9A\",\"dtype\":\"float64\",\"shape\":[75]}},\"selected\":{\"id\":\"e2309d60-6af7-40bf-8bc6-845f75b49728\",\"type\":\"Selection\"},\"selection_policy\":{\"id\":\"32519cf0-0f34-4586-b0c6-5c5f30b489a3\",\"type\":\"UnionRenderers\"}},\"id\":\"d063c494-e34d-4b34-95bf-b807af52a37e\",\"type\":\"ColumnDataSource\"},{\"attributes\":{\"overlay\":{\"id\":\"d66882ec-47b3-4750-b88f-70e5463d7a67\",\"type\":\"BoxAnnotation\"}},\"id\":\"981b1b9f-a1ed-4496-816f-5250651532ee\",\"type\":\"BoxZoomTool\"},{\"attributes\":{\"fill_alpha\":{\"value\":0.7},\"fill_color\":{\"value\":\"#377eb8\"},\"line_alpha\":{\"value\":0.7},\"line_color\":{\"value\":\"#377eb8\"},\"x\":{\"field\":\"x\"},\"y\":{\"field\":\"y\"}},\"id\":\"4be83cd1-b3af-467f-afbe-56475c8e1cd3\",\"type\":\"Triangle\"},{\"attributes\":{},\"id\":\"8349cbbe-c5ce-412d-8c7b-09761fd65c0f\",\"type\":\"LogScale\"},{\"attributes\":{\"source\":{\"id\":\"1508190a-4145-4bc3-a8b3-7f9fe9529456\",\"type\":\"ColumnDataSource\"}},\"id\":\"3245f2ca-093a-4514-b4c8-3aede4d82238\",\"type\":\"CDSView\"},{\"attributes\":{\"axis_label\":\"cooling rate [K/day]\",\"formatter\":{\"id\":\"1c0a0b68-d5e3-465c-a1ca-9842c4101379\",\"type\":\"BasicTickFormatter\"},\"plot\":{\"id\":\"8268d3d0-3953-4766-845e-f5fdbc476ca5\",\"subtype\":\"Figure\",\"type\":\"Plot\"},\"ticker\":{\"id\":\"9dcecf1a-6386-4783-ac93-ec4b9cb0b60d\",\"type\":\"BasicTicker\"}},\"id\":\"cd374fc9-e668-4d0e-b9c5-7d577652579e\",\"type\":\"LinearAxis\"},{\"attributes\":{},\"id\":\"9dcecf1a-6386-4783-ac93-ec4b9cb0b60d\",\"type\":\"BasicTicker\"},{\"attributes\":{\"bottom_units\":\"screen\",\"fill_alpha\":{\"value\":0.5},\"fill_color\":{\"value\":\"lightgrey\"},\"left_units\":\"screen\",\"level\":\"overlay\",\"line_alpha\":{\"value\":1.0},\"line_color\":{\"value\":\"black\"},\"line_dash\":[4,4],\"line_width\":{\"value\":2},\"plot\":null,\"render_mode\":\"css\",\"right_units\":\"screen\",\"top_units\":\"screen\"},\"id\":\"d66882ec-47b3-4750-b88f-70e5463d7a67\",\"type\":\"BoxAnnotation\"},{\"attributes\":{},\"id\":\"67efb113-06fe-4063-b747-435bd328f278\",\"type\":\"SaveTool\"},{\"attributes\":{\"callback\":null,\"data\":{\"x\":{\"__ndarray__\":\"reYTRJYYzb7NJyMMM+bIvm1cuAAYtLy+10hvJt2rdr5uhYqY3ZHAPlWCZxtoJtM+76Py6u1f4D42KojemNzoPv0NooOEu/E+ijDV0D1g+D4M0y+STl8AP8VjHtIfrwU/NgHqIfR3DD/kG0AYIDISP27pvKN3cRY/6ApomGuCGz84qKiymx0hPyUCFtiIriU/bCZ3FMUALD8vvnsiv3EyP9/FCijvjjg/9P7lhrguPT8aui9Tc5g9P3IVbcthejw/Vi56OpLZOj9nQLu5XfE3P6++uUfS2zI/ELMbR5+FKD+LNX0YALMVP5JcEjudgQu/GfEtz/7oML/Cw+xFZ99Bv3/mEisLAEu/3jneWl++T7+9CmsSXGZRvxt2JAad6lK//gkPkjXOVb+EhH+ErnNdv7Ev1glB7WS/Dp0k+lFdbL8WsPZW8X1yv8Y6/3SPZXe/AgaLBEjtfL/myUyhp4yBv7daq2Zrt4S/bB5cQaAhhr+MUxKxP4uEvxV+reqsX4G/eqOs4ZaWe7/qkx5+5d5zvy90/afITWe/qxAg9N/mR7/3CTShT0BYP/aQim201m4/2XZ3OXX5eD/upU5b+kuBP92qOpchD4Y/Wb63tN2uij9vWtcFDxWPP9f5da+sl5E/BEW8DRt5kz+fjio3Dy+VP6JLIVihvZY/ujx6HDYsmD8bk75DY4OZP7otRX2IyZo/uPW5K9L8mz952buuewWdP0pC25dXoZ0/kQXQGHtpnT+o6wovIRycP9eQio/n5Jk/6OGAbS8vlz9J6XZPTk+UPyheW/vfapE/\",\"dtype\":\"float64\",\"shape\":[75]},\"y\":{\"__ndarray__\":\"GhExyth1ND/Sv8nbtpRIP2vylNV0PVE/aTum7souWD/At0SJ8fVgPw3Iuahxymc/MSNhhJWvcD/bTfBN02d3P2zb5nxnaoA/CD5h5MAGhz8NmeH1TyaQP+zrCsc9p5Y/LbKd76fGnz/bLW5ISEmmPww9YvTcQq8/JV2OstnstT8Er5Y7M8G+P0c+r3jqkcU/5h99k6ZBzj88bCIzFzjVP4enV8oyxN0//yH99nXg5D8qOpLLf0jtP5kqGJXUifQ/c9cS8kHP/D+/DpwzojQEQIEmwoanVwxA4lgXt9HgE0BSSZ2AJuIbQAMJih9jjiNA5q4l5INuK0AwTKYKRj0zQNv5fmq8/DpAaCJseHrtQkB/+zpwzoxKQM3MzMzMeFJAZmZmZmZqWEAAAAAAAFxeQM3MzMzMJmJAmpmZmZkfZUBmZmZmZhhoQDMzMzMzEWtAAAAAAAAKbkBmZmZmZoFwQM3MzMzM/XFAMzMzMzN6c0CamZmZmfZ0QAAAAAAAc3ZAZmZmZmbvd0DNzMzMzGt5QDMzMzMz6HpAmpmZmZlkfEAAAAAAAOF9QGZmZmZmXX9AZmZmZuZsgECamZmZGSuBQM3MzMxM6YFAAAAAAICngkAzMzMzs2WDQGZmZmbmI4RAmpmZmRnihEDNzMzMTKCFQAAAAACAXoZAMzMzM7Mch0BmZmZm5tqHQJqZmZkZmYhAzczMzExXiUAAAAAAgBWKQDMzMzOz04pAZmZmZuaRi0CamZmZGVCMQM3MzMxMDo1AAAAAAIDMjUAzMzMzs4qOQGZmZmbmSI9A\",\"dtype\":\"float64\",\"shape\":[75]}},\"selected\":{\"id\":\"f0bfc3c0-bf01-40cf-80ab-649a4b33f324\",\"type\":\"Selection\"},\"selection_policy\":{\"id\":\"4657e01b-414d-4f20-b1ad-bd67bc39e1f0\",\"type\":\"UnionRenderers\"}},\"id\":\"eaa891a0-4347-49f7-83bc-0c5a592a23ac\",\"type\":\"ColumnDataSource\"},{\"attributes\":{},\"id\":\"9554bcae-10d9-454d-80a8-4218ea9c26a5\",\"type\":\"ResetTool\"},{\"attributes\":{},\"id\":\"d5ea9fb2-8e68-4fb1-9b86-1617893d56db\",\"type\":\"HelpTool\"},{\"attributes\":{\"line_alpha\":0.1,\"line_color\":\"#1f77b4\",\"line_width\":3,\"x\":{\"field\":\"x\"},\"y\":{\"field\":\"y\"}},\"id\":\"a216a95f-0a11-4f3f-baeb-2745345ec5c5\",\"type\":\"Line\"},{\"attributes\":{\"fill_alpha\":{\"value\":0.7},\"fill_color\":{\"value\":\"#4daf4a\"},\"line_alpha\":{\"value\":0.7},\"line_color\":{\"value\":\"#4daf4a\"},\"x\":{\"field\":\"x\"},\"y\":{\"field\":\"y\"}},\"id\":\"fcb1ae2b-c91f-4a72-ae97-0bbc649764b1\",\"type\":\"Circle\"},{\"attributes\":{},\"id\":\"21152cef-d853-4a27-bda4-b3f53d273237\",\"type\":\"Selection\"},{\"attributes\":{\"callback\":null,\"data\":{\"x\":{\"__ndarray__\":\"fPGbhKV/1L49zdE/VZTSvhgDdpwTF8u+VsP9iEiNu740qAiQi2SaPtknlNjM2Mg+4ZdroIoB2j4kbmWhoonlPuKnDqGeIfA+4OBNeRjj9j75YcGiQnD/PsE6PbKyKwU/r5BgIiwpDD8ThDX/BzASPxHbnWR+ohY/ulwg/sX5Gz/8g72pIIohP8NNM+wsXyY/4a6V4AwRLT/t6nU3qz0zP+P88DoUvDk/9BIwZjLlPj8S13aYpgpAP3UE4eM7DEA/8JDul/IJQD+a9nyDRGs/PyGVb7OMaT0/dAKjnoj9Oj/qrqT9SdA5P5GNQIkcZzg/gAbPxZJvND91Pkksc7sqP6Mq+8NwtiY/rD9SUdxxNz9dFdV5+ghGP1e+LgyfkFA/Q2CPh0ocUz+Wg7ld+1NMP1k2seY0pCQ/QYwF3wh5SL/s7EetIORdv09J0gQ1NGm/HKIHx/eIcr+W2p8DA3N5v+qU5TEsgoC/dmMkMBt6gr8T4l8+OCOBv5eQPWkCeHy/6TegoZdDdr9Pkdq7M5Bvv0ykd9y+72G/DZ6bvlDBPL9rH3vRKOpWP1S/81D5JWs/NtVjdxKsdT8MQQEglul9Pxwv4pSgE4M/9gi+NAgdhz84JjBCHfuKPxGqFglUnI4/B8FSeRX7kD8iCRnNbIWSP8ibMQlt8pM/rzhOamVLlT+LvKXPIJuWP7+rX5V96pc/mtCyW7w5mT9b2JarZnCaP44krlQxRJs/xT/C6Yo9mz+ApV3G+Q2aP5Cu/1795Jc/zbLJD8w5lT8CzGNqnmWSPxG8t6hqEI8/\",\"dtype\":\"float64\",\"shape\":[75]},\"y\":{\"__ndarray__\":\"GhExyth1ND/Sv8nbtpRIP2vylNV0PVE/aTum7souWD/At0SJ8fVgPw3Iuahxymc/MSNhhJWvcD/bTfBN02d3P2zb5nxnaoA/CD5h5MAGhz8NmeH1TyaQP+zrCsc9p5Y/LbKd76fGnz/bLW5ISEmmPww9YvTcQq8/JV2OstnstT8Er5Y7M8G+P0c+r3jqkcU/5h99k6ZBzj88bCIzFzjVP4enV8oyxN0//yH99nXg5D8qOpLLf0jtP5kqGJXUifQ/c9cS8kHP/D+/DpwzojQEQIEmwoanVwxA4lgXt9HgE0BSSZ2AJuIbQAMJih9jjiNA5q4l5INuK0AwTKYKRj0zQNv5fmq8/DpAaCJseHrtQkB/+zpwzoxKQM3MzMzMeFJAZmZmZmZqWEAAAAAAAFxeQM3MzMzMJmJAmpmZmZkfZUBmZmZmZhhoQDMzMzMzEWtAAAAAAAAKbkBmZmZmZoFwQM3MzMzM/XFAMzMzMzN6c0CamZmZmfZ0QAAAAAAAc3ZAZmZmZmbvd0DNzMzMzGt5QDMzMzMz6HpAmpmZmZlkfEAAAAAAAOF9QGZmZmZmXX9AZmZmZuZsgECamZmZGSuBQM3MzMxM6YFAAAAAAICngkAzMzMzs2WDQGZmZmbmI4RAmpmZmRnihEDNzMzMTKCFQAAAAACAXoZAMzMzM7Mch0BmZmZm5tqHQJqZmZkZmYhAzczMzExXiUAAAAAAgBWKQDMzMzOz04pAZmZmZuaRi0CamZmZGVCMQM3MzMxMDo1AAAAAAIDMjUAzMzMzs4qOQGZmZmbmSI9A\",\"dtype\":\"float64\",\"shape\":[75]}},\"selected\":{\"id\":\"f318ef47-aef8-43a6-9868-d6ebedb07ee5\",\"type\":\"Selection\"},\"selection_policy\":{\"id\":\"bf685aa6-5e00-4d24-ada7-673c19c112ef\",\"type\":\"UnionRenderers\"}},\"id\":\"86c8aa15-09e0-41f5-8297-57d1187d5c7c\",\"type\":\"ColumnDataSource\"},{\"attributes\":{\"fill_alpha\":{\"value\":0.7},\"fill_color\":{\"value\":\"#984ea3\"},\"line_alpha\":{\"value\":0.7},\"line_color\":{\"value\":\"#984ea3\"},\"x\":{\"field\":\"x\"},\"y\":{\"field\":\"y\"}},\"id\":\"891fbca0-ad0c-43e3-89eb-ca24bd6691b3\",\"type\":\"Square\"},{\"attributes\":{\"source\":{\"id\":\"eaa891a0-4347-49f7-83bc-0c5a592a23ac\",\"type\":\"ColumnDataSource\"}},\"id\":\"cc3f5b48-d66c-4b7e-be1e-2074218c7bf8\",\"type\":\"CDSView\"},{\"attributes\":{\"items\":[{\"id\":\"8629e082-4dc2-47ec-b917-3a4c3238373b\",\"type\":\"LegendItem\"},{\"id\":\"052f42d6-6229-4a46-a763-c87868b88ac4\",\"type\":\"LegendItem\"},{\"id\":\"ea758813-623e-402b-992b-3b633a1821b3\",\"type\":\"LegendItem\"}],\"label_text_font_size\":{\"value\":\"8pt\"},\"location\":\"top_center\",\"orientation\":\"horizontal\",\"plot\":{\"id\":\"231f976e-f7b2-48d6-87f9-7df4d028bb73\",\"subtype\":\"Figure\",\"type\":\"Plot\"}},\"id\":\"59caa88f-eb1d-43a3-949c-1a8df420f476\",\"type\":\"Legend\"},{\"attributes\":{\"above\":[{\"id\":\"59caa88f-eb1d-43a3-949c-1a8df420f476\",\"type\":\"Legend\"}],\"below\":[{\"id\":\"1b8c6921-9eb4-4161-ba3e-03ffa60a4d91\",\"type\":\"LinearAxis\"}],\"left\":[{\"id\":\"0f3486b3-ee5d-4ba4-ac91-35a2d591b354\",\"type\":\"LinearAxis\"}],\"plot_height\":500,\"plot_width\":400,\"renderers\":[{\"id\":\"1b8c6921-9eb4-4161-ba3e-03ffa60a4d91\",\"type\":\"LinearAxis\"},{\"id\":\"5ab7261e-8f1f-452d-a85c-460d5f259900\",\"type\":\"Grid\"},{\"id\":\"0f3486b3-ee5d-4ba4-ac91-35a2d591b354\",\"type\":\"LinearAxis\"},{\"id\":\"f024a112-4acb-4f87-9bf7-4ca173903bdb\",\"type\":\"Grid\"},{\"id\":\"56cbdd98-f70b-41a9-983a-d87dc087632b\",\"type\":\"BoxAnnotation\"},{\"id\":\"7b9b4fb0-d1ec-4b0b-882b-566ebcdb5bea\",\"type\":\"GlyphRenderer\"},{\"id\":\"6df8f5a9-8db0-4625-84bb-40f1903ebe9d\",\"type\":\"GlyphRenderer\"},{\"id\":\"7942890e-9071-4cb5-8012-9f9c70dcaac7\",\"type\":\"GlyphRenderer\"},{\"id\":\"2d2fff0c-b518-479d-b1ba-6ca7ca029b67\",\"type\":\"GlyphRenderer\"},{\"id\":\"071c04cc-d6b8-4b0a-aa58-cc60cc26c539\",\"type\":\"GlyphRenderer\"},{\"id\":\"cb0a11da-959c-444b-a25d-5ada67c5f57a\",\"type\":\"GlyphRenderer\"},{\"id\":\"59caa88f-eb1d-43a3-949c-1a8df420f476\",\"type\":\"Legend\"}],\"title\":{\"id\":\"02feb168-544b-44b9-b859-cdb12d78dd4f\",\"type\":\"Title\"},\"toolbar\":{\"id\":\"5a3ecce8-6bab-4c3d-bdbe-9d2d38cb28e6\",\"type\":\"Toolbar\"},\"toolbar_location\":null,\"x_range\":{\"id\":\"a0dd5730-560d-4d2a-b7cf-e6a906864220\",\"type\":\"Range1d\"},\"x_scale\":{\"id\":\"1a879944-dd54-4e84-921e-784827a68cb6\",\"type\":\"LinearScale\"},\"y_range\":{\"id\":\"5dfed8e5-eb2f-4e39-81c0-3d43f2eb1afe\",\"type\":\"Range1d\"},\"y_scale\":{\"id\":\"17363b75-1cab-4801-81d3-190e2c7bb85a\",\"type\":\"LinearScale\"}},\"id\":\"231f976e-f7b2-48d6-87f9-7df4d028bb73\",\"subtype\":\"Figure\",\"type\":\"Plot\"},{\"attributes\":{\"axis_label\":\"pressure [mb]\",\"formatter\":{\"id\":\"e0059564-e99d-4ac4-bcd0-740d3ea4ddf3\",\"type\":\"BasicTickFormatter\"},\"plot\":{\"id\":\"231f976e-f7b2-48d6-87f9-7df4d028bb73\",\"subtype\":\"Figure\",\"type\":\"Plot\"},\"ticker\":{\"id\":\"008a2676-4c5f-4505-8d4a-6e7b656f0c65\",\"type\":\"BasicTicker\"}},\"id\":\"0f3486b3-ee5d-4ba4-ac91-35a2d591b354\",\"type\":\"LinearAxis\"},{\"attributes\":{},\"id\":\"a080bb19-5917-4c54-b52e-89f6b3051349\",\"type\":\"PanTool\"},{\"attributes\":{},\"id\":\"1a879944-dd54-4e84-921e-784827a68cb6\",\"type\":\"LinearScale\"},{\"attributes\":{},\"id\":\"e8674742-97ba-401b-9b66-4e5cf13e1d6d\",\"type\":\"BasicTicker\"},{\"attributes\":{\"active_drag\":\"auto\",\"active_inspect\":\"auto\",\"active_scroll\":\"auto\",\"active_tap\":\"auto\",\"tools\":[{\"id\":\"a080bb19-5917-4c54-b52e-89f6b3051349\",\"type\":\"PanTool\"},{\"id\":\"f1c6d81f-4232-43bc-b476-bea6bbb3cbbc\",\"type\":\"WheelZoomTool\"},{\"id\":\"dc642814-42a9-435f-b42b-8aa9a1e7c5a3\",\"type\":\"BoxZoomTool\"},{\"id\":\"9ea9e482-3074-45f9-b6d0-88c6386bb59f\",\"type\":\"SaveTool\"},{\"id\":\"9e287108-8fe0-4bde-bfb9-5e1474256a12\",\"type\":\"ResetTool\"},{\"id\":\"07b164de-77a4-4b46-9a45-593df0d3bfb1\",\"type\":\"HelpTool\"}]},\"id\":\"5a3ecce8-6bab-4c3d-bdbe-9d2d38cb28e6\",\"type\":\"Toolbar\"},{\"attributes\":{\"axis_label\":\"cooling rate [K/day]\",\"formatter\":{\"id\":\"7710dead-1f55-4e11-a8a4-679092e4cb29\",\"type\":\"BasicTickFormatter\"},\"plot\":{\"id\":\"231f976e-f7b2-48d6-87f9-7df4d028bb73\",\"subtype\":\"Figure\",\"type\":\"Plot\"},\"ticker\":{\"id\":\"e8674742-97ba-401b-9b66-4e5cf13e1d6d\",\"type\":\"BasicTicker\"}},\"id\":\"1b8c6921-9eb4-4161-ba3e-03ffa60a4d91\",\"type\":\"LinearAxis\"},{\"attributes\":{\"plot\":{\"id\":\"231f976e-f7b2-48d6-87f9-7df4d028bb73\",\"subtype\":\"Figure\",\"type\":\"Plot\"},\"ticker\":{\"id\":\"e8674742-97ba-401b-9b66-4e5cf13e1d6d\",\"type\":\"BasicTicker\"}},\"id\":\"5ab7261e-8f1f-452d-a85c-460d5f259900\",\"type\":\"Grid\"},{\"attributes\":{\"callback\":null,\"end\":0.03064558999,\"start\":-0.011216738989999999},\"id\":\"a0dd5730-560d-4d2a-b7cf-e6a906864220\",\"type\":\"Range1d\"},{\"attributes\":{},\"id\":\"17363b75-1cab-4801-81d3-190e2c7bb85a\",\"type\":\"LinearScale\"},{\"attributes\":{},\"id\":\"008a2676-4c5f-4505-8d4a-6e7b656f0c65\",\"type\":\"BasicTicker\"},{\"attributes\":{\"overlay\":{\"id\":\"56cbdd98-f70b-41a9-983a-d87dc087632b\",\"type\":\"BoxAnnotation\"}},\"id\":\"dc642814-42a9-435f-b42b-8aa9a1e7c5a3\",\"type\":\"BoxZoomTool\"},{\"attributes\":{\"callback\":null,\"end\":0.01,\"start\":1020},\"id\":\"5dfed8e5-eb2f-4e39-81c0-3d43f2eb1afe\",\"type\":\"Range1d\"},{\"attributes\":{\"plot\":{\"id\":\"8268d3d0-3953-4766-845e-f5fdbc476ca5\",\"subtype\":\"Figure\",\"type\":\"Plot\"},\"ticker\":{\"id\":\"9dcecf1a-6386-4783-ac93-ec4b9cb0b60d\",\"type\":\"BasicTicker\"}},\"id\":\"e45d9b3c-2429-475d-9db4-4d2f22e02120\",\"type\":\"Grid\"},{\"attributes\":{},\"id\":\"f1c6d81f-4232-43bc-b476-bea6bbb3cbbc\",\"type\":\"WheelZoomTool\"},{\"attributes\":{\"dimension\":1,\"plot\":{\"id\":\"231f976e-f7b2-48d6-87f9-7df4d028bb73\",\"subtype\":\"Figure\",\"type\":\"Plot\"},\"ticker\":{\"id\":\"008a2676-4c5f-4505-8d4a-6e7b656f0c65\",\"type\":\"BasicTicker\"}},\"id\":\"f024a112-4acb-4f87-9bf7-4ca173903bdb\",\"type\":\"Grid\"}],\"root_ids\":[\"8150f593-51f6-4e3a-8295-873d128f940a\"]},\"title\":\"Bokeh Application\",\"version\":\"0.12.16\"}};\n",
       "  var render_items = [{\"docid\":\"53b3f2f9-3243-42ab-8b06-b51542879084\",\"elementid\":\"77642e8a-e4ba-456a-89fc-0ba06b15f4e5\",\"modelid\":\"8150f593-51f6-4e3a-8295-873d128f940a\"}];\n",
       "  root.Bokeh.embed.embed_items_notebook(docs_json, render_items);\n",
       "\n",
       "  }\n",
       "  if (root.Bokeh !== undefined) {\n",
       "    embed_document(root);\n",
       "  } else {\n",
       "    var attempts = 0;\n",
       "    var timer = setInterval(function(root) {\n",
       "      if (root.Bokeh !== undefined) {\n",
       "        embed_document(root);\n",
       "        clearInterval(timer);\n",
       "      }\n",
       "      attempts++;\n",
       "      if (attempts > 100) {\n",
       "        console.log(\"Bokeh: ERROR: Unable to run BokehJS code because BokehJS library is missing\")\n",
       "        clearInterval(timer);\n",
       "      }\n",
       "    }, 10, root)\n",
       "  }\n",
       "})(window);"
      ],
      "application/vnd.bokehjs_exec.v0+json": ""
     },
     "metadata": {
      "application/vnd.bokehjs_exec.v0+json": {
       "id": "8150f593-51f6-4e3a-8295-873d128f940a"
      }
     },
     "output_type": "display_data"
    },
    {
     "data": {
      "text/markdown": [
       "*FIGURE.* Cooling rates. g=3"
      ],
      "text/plain": [
       "<IPython.core.display.Markdown object>"
      ]
     },
     "metadata": {},
     "output_type": "display_data"
    },
    {
     "data": {
      "text/html": [
       "\n",
       "<div class=\"bk-root\">\n",
       "    <div class=\"bk-plotdiv\" id=\"a89d4367-34c4-4bd5-9a47-79303bcad5e4\"></div>\n",
       "</div>"
      ]
     },
     "metadata": {},
     "output_type": "display_data"
    },
    {
     "data": {
      "application/javascript": [
       "(function(root) {\n",
       "  function embed_document(root) {\n",
       "    \n",
       "  var docs_json = {\"1ca3eebd-388b-46b3-a901-3ae718ec6256\":{\"roots\":{\"references\":[{\"attributes\":{\"line_color\":\"#4daf4a\",\"line_width\":1.5,\"x\":{\"field\":\"x\"},\"y\":{\"field\":\"y\"}},\"id\":\"fcf5f1ad-e0e1-4d4a-8f6a-acdd7c35326e\",\"type\":\"Line\"},{\"attributes\":{\"items\":[{\"id\":\"e94d745b-6ebb-4cdc-a93e-216197b36c3a\",\"type\":\"LegendItem\"},{\"id\":\"2d88330a-bf39-409f-9a88-67660afd6224\",\"type\":\"LegendItem\"},{\"id\":\"11f80064-cdea-4101-a8ed-fcb1334d5226\",\"type\":\"LegendItem\"}],\"label_text_font_size\":{\"value\":\"8pt\"},\"location\":\"top_center\",\"orientation\":\"horizontal\",\"plot\":{\"id\":\"9c40e881-fe31-44b6-90fe-fe110b4f909a\",\"subtype\":\"Figure\",\"type\":\"Plot\"}},\"id\":\"5024b82e-52d2-4cf6-af2a-c6a231ac8c1f\",\"type\":\"Legend\"},{\"attributes\":{},\"id\":\"f477cb27-44a7-4723-951a-50fdbdaa577e\",\"type\":\"Selection\"},{\"attributes\":{\"line_alpha\":0.1,\"line_color\":\"#1f77b4\",\"line_width\":1.5,\"x\":{\"field\":\"x\"},\"y\":{\"field\":\"y\"}},\"id\":\"8b52bf26-758a-4463-977b-52c7fc83b5de\",\"type\":\"Line\"},{\"attributes\":{\"active_drag\":\"auto\",\"active_inspect\":\"auto\",\"active_scroll\":\"auto\",\"active_tap\":\"auto\",\"tools\":[{\"id\":\"6f982a6e-c311-4e9c-8dd0-90f7f71955e2\",\"type\":\"PanTool\"},{\"id\":\"945b0aab-8a61-453e-88f6-813e14ac8fc7\",\"type\":\"WheelZoomTool\"},{\"id\":\"05e3e5f3-2347-494c-808a-8783e149a007\",\"type\":\"BoxZoomTool\"},{\"id\":\"f890e218-258e-457d-b633-b3080c6e1639\",\"type\":\"SaveTool\"},{\"id\":\"18960dd1-40eb-4dab-904f-74a4e4822e36\",\"type\":\"ResetTool\"},{\"id\":\"b9c3ac38-7f2b-48b6-a2c6-76d9a543ae41\",\"type\":\"HelpTool\"}]},\"id\":\"7a0b5f18-d2f0-48de-b0b3-f611f93759c3\",\"type\":\"Toolbar\"},{\"attributes\":{\"callback\":null,\"data\":{\"x\":{\"__ndarray__\":\"3FG8QzOTNL9UpoSfuQA0v56rOkjFrTK/oOoozvkSMb9KVAr4ElAuv6+QYeikvSm/omXoS+hMJL/PosjmGLAbv/fy/ARS3Ai/sK9VmtU99j6oFvcCH7oaPzJFMi6+ySk/dZG+fwAjND+NeabXX4w7P8ZlMOpb/0A/dOBtuwwQRD/isYbJBWVHP3zgyiUTCEs/gGCwZ1oATz8jyrn5b6pRP9TfHIQxyFM/4hTOFFAmUj8RwW4YibBIP9eYNr46kjs/9cpHe/JIJz+vtVL82e+5PopX+i5haSC/PEMfPnIZK78s67oJTa4wv7Uk/cIW9zK/g5/mE1oXNb9KaY56GiY3v1PJC9HQyTi/CLShz4ENOr/MC5HhPKg7v5S59BiB1T2/rrhstTo2QL8EIxhEJsFBv9FO2erjekO/jiagC587Rb9nLn5/tAtHv2VaM4TV1Ui/y93qCCyWSr81ZUSA30tMv1qTVr3b4U2/ZHOHZLc8Tr9IMtOIpTlMv5MohhVkcUi/jvw5spOqQ799AimBSPI7v7/Mf+wijSy/YOAA83RZ9D41sUP2uZ0yP1RdSg6qEkM/RsETcr+TTT8T6teJU3VUP/oMD/byb1o/h3C5qkZQYD86mDlTW4BjP8pCqIynsGY/W4/IHCfjaT+Cx6lxBQhtP1GAW4nWEHA/no9AMSqYcT+hwm/MNBZzPyE2THyLkXQ/ZNJcOGL+dT9Q6cPeO1Z3PyM2AxSWfHg/++QCeXFAeT8UO/OaMop5P/kUdIJMZ3k/+krE/b79eD+6r8Y6VXV4P4pA6QpF4Xc/\",\"dtype\":\"float64\",\"shape\":[75]},\"y\":{\"__ndarray__\":\"GhExyth1ND/Sv8nbtpRIP2vylNV0PVE/aTum7souWD/At0SJ8fVgPw3Iuahxymc/MSNhhJWvcD/bTfBN02d3P2zb5nxnaoA/CD5h5MAGhz8NmeH1TyaQP+zrCsc9p5Y/LbKd76fGnz/bLW5ISEmmPww9YvTcQq8/JV2OstnstT8Er5Y7M8G+P0c+r3jqkcU/5h99k6ZBzj88bCIzFzjVP4enV8oyxN0//yH99nXg5D8qOpLLf0jtP5kqGJXUifQ/c9cS8kHP/D+/DpwzojQEQIEmwoanVwxA4lgXt9HgE0BSSZ2AJuIbQAMJih9jjiNA5q4l5INuK0AwTKYKRj0zQNv5fmq8/DpAaCJseHrtQkB/+zpwzoxKQM3MzMzMeFJAZmZmZmZqWEAAAAAAAFxeQM3MzMzMJmJAmpmZmZkfZUBmZmZmZhhoQDMzMzMzEWtAAAAAAAAKbkBmZmZmZoFwQM3MzMzM/XFAMzMzMzN6c0CamZmZmfZ0QAAAAAAAc3ZAZmZmZmbvd0DNzMzMzGt5QDMzMzMz6HpAmpmZmZlkfEAAAAAAAOF9QGZmZmZmXX9AZmZmZuZsgECamZmZGSuBQM3MzMxM6YFAAAAAAICngkAzMzMzs2WDQGZmZmbmI4RAmpmZmRnihEDNzMzMTKCFQAAAAACAXoZAMzMzM7Mch0BmZmZm5tqHQJqZmZkZmYhAzczMzExXiUAAAAAAgBWKQDMzMzOz04pAZmZmZuaRi0CamZmZGVCMQM3MzMxMDo1AAAAAAIDMjUAzMzMzs4qOQGZmZmbmSI9A\",\"dtype\":\"float64\",\"shape\":[75]}},\"selected\":{\"id\":\"d69f7127-d900-44e5-99f8-be87d048f9ce\",\"type\":\"Selection\"},\"selection_policy\":{\"id\":\"12169810-94d2-4802-b254-ac2e9ee4a968\",\"type\":\"UnionRenderers\"}},\"id\":\"15b45498-a973-4b8b-99d4-4dde041fdd48\",\"type\":\"ColumnDataSource\"},{\"attributes\":{\"above\":[{\"id\":\"5024b82e-52d2-4cf6-af2a-c6a231ac8c1f\",\"type\":\"Legend\"}],\"below\":[{\"id\":\"0034b4fb-e2e8-4c25-8112-c8fbc6f3e512\",\"type\":\"LinearAxis\"}],\"left\":[{\"id\":\"059759ef-c55b-464d-99f5-0fe017aba2e8\",\"type\":\"LinearAxis\"}],\"plot_height\":500,\"plot_width\":400,\"renderers\":[{\"id\":\"0034b4fb-e2e8-4c25-8112-c8fbc6f3e512\",\"type\":\"LinearAxis\"},{\"id\":\"1e14b957-13aa-468e-9979-6f199c8458ee\",\"type\":\"Grid\"},{\"id\":\"059759ef-c55b-464d-99f5-0fe017aba2e8\",\"type\":\"LinearAxis\"},{\"id\":\"d64b612d-e3cf-4f50-ad1e-da7d54901b44\",\"type\":\"Grid\"},{\"id\":\"9dd332ab-2eb6-42c1-aab5-6bbe582f91d8\",\"type\":\"BoxAnnotation\"},{\"id\":\"e5fb1752-a981-4e22-9d4f-ab7f56710f8b\",\"type\":\"GlyphRenderer\"},{\"id\":\"8a671ef9-36bb-4afe-ab72-e3eab14d0279\",\"type\":\"GlyphRenderer\"},{\"id\":\"ca0ed4ed-2a9c-47d3-a731-d033d93cba05\",\"type\":\"GlyphRenderer\"},{\"id\":\"c4986d4c-a4c1-4595-b3ba-8d887ff16e1c\",\"type\":\"GlyphRenderer\"},{\"id\":\"979247cb-b41f-4991-b3cb-8d87f78140d6\",\"type\":\"GlyphRenderer\"},{\"id\":\"ca88eb8f-c10e-4891-800f-14dd5a5c8896\",\"type\":\"GlyphRenderer\"},{\"id\":\"5024b82e-52d2-4cf6-af2a-c6a231ac8c1f\",\"type\":\"Legend\"}],\"title\":{\"id\":\"61dfcb48-2f16-41b5-859a-e2159616b16f\",\"type\":\"Title\"},\"toolbar\":{\"id\":\"7a0b5f18-d2f0-48de-b0b3-f611f93759c3\",\"type\":\"Toolbar\"},\"toolbar_location\":null,\"x_range\":{\"id\":\"eda77d82-277d-41e6-a2ae-2c9ac07b59a0\",\"type\":\"Range1d\"},\"x_scale\":{\"id\":\"469a54af-c10c-4421-93c7-0d5ea0344ba5\",\"type\":\"LinearScale\"},\"y_range\":{\"id\":\"8ce7dbf0-a78e-4937-9aa4-15f3297056c7\",\"type\":\"Range1d\"},\"y_scale\":{\"id\":\"8d106fa4-18df-4900-b5cf-9c13f6225d15\",\"type\":\"LinearScale\"}},\"id\":\"9c40e881-fe31-44b6-90fe-fe110b4f909a\",\"subtype\":\"Figure\",\"type\":\"Plot\"},{\"attributes\":{\"data_source\":{\"id\":\"0f0ad74e-f898-4057-bdf9-c46b312690df\",\"type\":\"ColumnDataSource\"},\"glyph\":{\"id\":\"fcf5f1ad-e0e1-4d4a-8f6a-acdd7c35326e\",\"type\":\"Line\"},\"hover_glyph\":null,\"muted_glyph\":null,\"nonselection_glyph\":{\"id\":\"8b52bf26-758a-4463-977b-52c7fc83b5de\",\"type\":\"Line\"},\"selection_glyph\":null,\"view\":{\"id\":\"9149d737-7f96-4ff8-9375-99e1996d3e5d\",\"type\":\"CDSView\"}},\"id\":\"3933000f-a142-4be2-9e89-d91e90d89f29\",\"type\":\"GlyphRenderer\"},{\"attributes\":{},\"id\":\"a657a725-91a5-42b7-b3ed-c368a7d77996\",\"type\":\"BasicTicker\"},{\"attributes\":{\"axis_label\":\"pressure [mb]\",\"formatter\":{\"id\":\"b21a4c96-e258-49b4-b409-18721da5bbfa\",\"type\":\"BasicTickFormatter\"},\"plot\":{\"id\":\"9c40e881-fe31-44b6-90fe-fe110b4f909a\",\"subtype\":\"Figure\",\"type\":\"Plot\"},\"ticker\":{\"id\":\"c3dc3bbd-9e31-4e0c-a1da-8a6b539a7ea9\",\"type\":\"BasicTicker\"}},\"id\":\"059759ef-c55b-464d-99f5-0fe017aba2e8\",\"type\":\"LinearAxis\"},{\"attributes\":{},\"id\":\"6f982a6e-c311-4e9c-8dd0-90f7f71955e2\",\"type\":\"PanTool\"},{\"attributes\":{},\"id\":\"b7a011ab-c3d2-4011-9dad-777cc51a4310\",\"type\":\"UnionRenderers\"},{\"attributes\":{\"data_source\":{\"id\":\"c8234513-bd46-4781-8cd7-103a91ba992b\",\"type\":\"ColumnDataSource\"},\"glyph\":{\"id\":\"fb5bc880-69bf-4cf7-ac73-15730de55260\",\"type\":\"Circle\"},\"hover_glyph\":null,\"muted_glyph\":null,\"nonselection_glyph\":{\"id\":\"a5634adb-ee65-4829-8b93-e2972f6cde04\",\"type\":\"Circle\"},\"selection_glyph\":null,\"view\":{\"id\":\"134ec7fb-3ddf-45d2-b25f-fabff4810202\",\"type\":\"CDSView\"}},\"id\":\"8957bf0e-db3d-40b4-872f-7b14c2c22df6\",\"type\":\"GlyphRenderer\"},{\"attributes\":{\"axis_label\":\"cooling rate [K/day]\",\"formatter\":{\"id\":\"a8ee3484-da5a-4371-8d36-8daaf8e0bc3f\",\"type\":\"BasicTickFormatter\"},\"plot\":{\"id\":\"9c40e881-fe31-44b6-90fe-fe110b4f909a\",\"subtype\":\"Figure\",\"type\":\"Plot\"},\"ticker\":{\"id\":\"a657a725-91a5-42b7-b3ed-c368a7d77996\",\"type\":\"BasicTicker\"}},\"id\":\"0034b4fb-e2e8-4c25-8112-c8fbc6f3e512\",\"type\":\"LinearAxis\"},{\"attributes\":{\"plot\":{\"id\":\"9c40e881-fe31-44b6-90fe-fe110b4f909a\",\"subtype\":\"Figure\",\"type\":\"Plot\"},\"ticker\":{\"id\":\"a657a725-91a5-42b7-b3ed-c368a7d77996\",\"type\":\"BasicTicker\"}},\"id\":\"1e14b957-13aa-468e-9979-6f199c8458ee\",\"type\":\"Grid\"},{\"attributes\":{},\"id\":\"8d106fa4-18df-4900-b5cf-9c13f6225d15\",\"type\":\"LinearScale\"},{\"attributes\":{},\"id\":\"469a54af-c10c-4421-93c7-0d5ea0344ba5\",\"type\":\"LinearScale\"},{\"attributes\":{},\"id\":\"c3dc3bbd-9e31-4e0c-a1da-8a6b539a7ea9\",\"type\":\"BasicTicker\"},{\"attributes\":{\"overlay\":{\"id\":\"9dd332ab-2eb6-42c1-aab5-6bbe582f91d8\",\"type\":\"BoxAnnotation\"}},\"id\":\"05e3e5f3-2347-494c-808a-8783e149a007\",\"type\":\"BoxZoomTool\"},{\"attributes\":{\"callback\":null,\"end\":0.006306891964999999,\"start\":-0.0009943460649999999},\"id\":\"eda77d82-277d-41e6-a2ae-2c9ac07b59a0\",\"type\":\"Range1d\"},{\"attributes\":{\"line_alpha\":0.6,\"line_color\":\"#984ea3\",\"line_width\":3,\"x\":{\"field\":\"x\"},\"y\":{\"field\":\"y\"}},\"id\":\"ddca620b-67f0-4931-820c-4449d58b50a0\",\"type\":\"Line\"},{\"attributes\":{},\"id\":\"18960dd1-40eb-4dab-904f-74a4e4822e36\",\"type\":\"ResetTool\"},{\"attributes\":{\"source\":{\"id\":\"c8234513-bd46-4781-8cd7-103a91ba992b\",\"type\":\"ColumnDataSource\"}},\"id\":\"134ec7fb-3ddf-45d2-b25f-fabff4810202\",\"type\":\"CDSView\"},{\"attributes\":{\"fill_alpha\":{\"value\":0.1},\"fill_color\":{\"value\":\"#1f77b4\"},\"line_alpha\":{\"value\":0.1},\"line_color\":{\"value\":\"#1f77b4\"},\"x\":{\"field\":\"x\"},\"y\":{\"field\":\"y\"}},\"id\":\"a5634adb-ee65-4829-8b93-e2972f6cde04\",\"type\":\"Circle\"},{\"attributes\":{},\"id\":\"1abc7520-dcfb-4bd3-a158-836009f8d88b\",\"type\":\"Selection\"},{\"attributes\":{\"callback\":null,\"data\":{\"x\":{\"__ndarray__\":\"NdeZ3btPM7/aYQCYUM0yv1zgsnAenzG/L9A6YU8wML+1Y6RHpfIsvz8F7JLB2ii/4IWWPVX6I7+HEkCBHV4cv3MGkMKnUw2/2cZptXoj2D7d1l51oYwUP6FRNZdmdSU/errg6KxAMT+4i4nnc+43P4KYw1kvvj0/GXR3T6qiQT9YOBlbBaREP/zSZ0IA7Ec/TK3rFhCBSz8C99I7jmlPP5nQOQPQnVE/WyTDAXUkUD/Oz0p9X85FP7FcznN38Tc/llCjAOUtIz/3iVlHXZrpvnxtrsvQiiC/R0nq6UwmKr8ZdYnLvcgvv3g0dd8l9TG/TjqNim7gM7+F6qlpysA1v8cj8wktRje/jfccCPd8OL+B3E9TNQQ6v7enakvhGjy/Qdj2evWTPr/YUPfgrr1Avx3pdIW+W0K/l3dbsu74Q7+4imXnUJNFv8MWfqUEK0e/tNO+zj3ASL+q3xMP0lFKv+zaaBCTuUu/gZdl2pzvS7/T4NB4thBKvzs1LziXo0a/TEbpYGo8Qr+vMAAxYs85v//zbpbgkSq/h5yNYxup8T5xcxbWbFMxPzSc9leYp0E/j+M2eF13Sz9gpkYYoQBTPyVZKqDuklg/3WKgWFdfXj+CdbDHSihiPwqHUV3vKGU/2V2Au/wnaD9esGxGTCBrP94yjQmdDm4/GKM9PBV5cD/Tsa6BmeVxP9jLRhFYTHM/UYUZ/PipdD+3sIMOZ/N1P2j3eKF4Dnc/yvc1H4rTdz8NtiJ7zid4P2UkqSpHGHg/NyLmOhfLdz+kfX06iGB3P76Q4iDA6XY/\",\"dtype\":\"float64\",\"shape\":[75]},\"y\":{\"__ndarray__\":\"GhExyth1ND/Sv8nbtpRIP2vylNV0PVE/aTum7souWD/At0SJ8fVgPw3Iuahxymc/MSNhhJWvcD/bTfBN02d3P2zb5nxnaoA/CD5h5MAGhz8NmeH1TyaQP+zrCsc9p5Y/LbKd76fGnz/bLW5ISEmmPww9YvTcQq8/JV2OstnstT8Er5Y7M8G+P0c+r3jqkcU/5h99k6ZBzj88bCIzFzjVP4enV8oyxN0//yH99nXg5D8qOpLLf0jtP5kqGJXUifQ/c9cS8kHP/D+/DpwzojQEQIEmwoanVwxA4lgXt9HgE0BSSZ2AJuIbQAMJih9jjiNA5q4l5INuK0AwTKYKRj0zQNv5fmq8/DpAaCJseHrtQkB/+zpwzoxKQM3MzMzMeFJAZmZmZmZqWEAAAAAAAFxeQM3MzMzMJmJAmpmZmZkfZUBmZmZmZhhoQDMzMzMzEWtAAAAAAAAKbkBmZmZmZoFwQM3MzMzM/XFAMzMzMzN6c0CamZmZmfZ0QAAAAAAAc3ZAZmZmZmbvd0DNzMzMzGt5QDMzMzMz6HpAmpmZmZlkfEAAAAAAAOF9QGZmZmZmXX9AZmZmZuZsgECamZmZGSuBQM3MzMxM6YFAAAAAAICngkAzMzMzs2WDQGZmZmbmI4RAmpmZmRnihEDNzMzMTKCFQAAAAACAXoZAMzMzM7Mch0BmZmZm5tqHQJqZmZkZmYhAzczMzExXiUAAAAAAgBWKQDMzMzOz04pAZmZmZuaRi0CamZmZGVCMQM3MzMxMDo1AAAAAAIDMjUAzMzMzs4qOQGZmZmbmSI9A\",\"dtype\":\"float64\",\"shape\":[75]}},\"selected\":{\"id\":\"67b83e00-7bee-4a2f-88d6-a1d3b0ca21c2\",\"type\":\"Selection\"},\"selection_policy\":{\"id\":\"8f2457e5-332e-4df6-87bb-bc7aeb33824f\",\"type\":\"UnionRenderers\"}},\"id\":\"8f0cd76e-a88e-438a-93d9-f6720cfaaa17\",\"type\":\"ColumnDataSource\"},{\"attributes\":{},\"id\":\"f890e218-258e-457d-b633-b3080c6e1639\",\"type\":\"SaveTool\"},{\"attributes\":{\"source\":{\"id\":\"15b45498-a973-4b8b-99d4-4dde041fdd48\",\"type\":\"ColumnDataSource\"}},\"id\":\"3f38db5e-1518-4dd1-a3ce-3c6fa5a35186\",\"type\":\"CDSView\"},{\"attributes\":{\"plot\":{\"id\":\"225585f8-bb98-40e2-80f9-db9b795ca769\",\"subtype\":\"Figure\",\"type\":\"Plot\"},\"ticker\":{\"id\":\"224f6c6a-84af-4005-be70-e15780439874\",\"type\":\"BasicTicker\"}},\"id\":\"37a1a56e-b747-4452-8060-da7118075fe8\",\"type\":\"Grid\"},{\"attributes\":{\"callback\":null,\"data\":{\"x\":{\"__ndarray__\":\"KV4xQfwKL7/I9JDh27Etv4EXZ9c3kyq/H/JJbe7MJr8S3KEyvkwivxHEVFr+5hm/2kssXehuCr/oQcNlGYDcPv02A7THdBM/TgaucW4fJD9zYMaxaykwP5dCUqVfTjc/5OjA8UWePz/S0lc/1g1EP5QyLra3vUc/SwHmNKQ+Sz8pbXtIYgxPP0TnYvcQmVE/ZIxOYPraUz+MeXwH705WP5NrP59lslg/EgntuATQVj9hGN/4GytQP2L4dGsM0EM/5bcqgXs7NT8PGTk1S0sfP5Aw/QbN+f2+dNRk65NVIL+uRfwvUM8nvwYGqLnLSi2/7K4dglAnMb+Z6yT3OYgzv/klDzbzWzW/3rNI2ZurNr+e5M82hTU4v5is3RdqPzq/RJVQsLWtPL9Gj76LZKw/v1sWjJtHkUG/V/LKWOFUQ7/e1O9iGyFFvyN0JRc9+Ea/E3Mhp4TcSL+NPaLYc85Kvy1OvObXoUy/bnz3334XTb/xOT1vgR9Lv86Q4LqVY0e/dgKesjycQr/fhBw9ebY5v6OjTMOVhCi/oQyaakQACT9l5AvegGQ0P3Yvo4gcuUM/eCgvC0ERTj92Hne77o5UP81OJnmsXFo/o2v+Fp8tYD81CmNx2jhjP6vNnssdRGY/5g4oBaBEaT8MjnZL1zRsP9u3NKmqEW8/zFz8R4jtcD9AT25YLUlyP6kJ1d+om3M/OiBUZJfhdD9Dkl1RWA52P7mDGv8zA3c/k3A/LlqRdz9cM0eISpl3P68gEJorK3c//ZAwtel0dj8DbZWZ95x1PwPAUD4/t3Q/\",\"dtype\":\"float64\",\"shape\":[75]},\"y\":{\"__ndarray__\":\"GhExyth1ND/Sv8nbtpRIP2vylNV0PVE/aTum7souWD/At0SJ8fVgPw3Iuahxymc/MSNhhJWvcD/bTfBN02d3P2zb5nxnaoA/CD5h5MAGhz8NmeH1TyaQP+zrCsc9p5Y/LbKd76fGnz/bLW5ISEmmPww9YvTcQq8/JV2OstnstT8Er5Y7M8G+P0c+r3jqkcU/5h99k6ZBzj88bCIzFzjVP4enV8oyxN0//yH99nXg5D8qOpLLf0jtP5kqGJXUifQ/c9cS8kHP/D+/DpwzojQEQIEmwoanVwxA4lgXt9HgE0BSSZ2AJuIbQAMJih9jjiNA5q4l5INuK0AwTKYKRj0zQNv5fmq8/DpAaCJseHrtQkB/+zpwzoxKQM3MzMzMeFJAZmZmZmZqWEAAAAAAAFxeQM3MzMzMJmJAmpmZmZkfZUBmZmZmZhhoQDMzMzMzEWtAAAAAAAAKbkBmZmZmZoFwQM3MzMzM/XFAMzMzMzN6c0CamZmZmfZ0QAAAAAAAc3ZAZmZmZmbvd0DNzMzMzGt5QDMzMzMz6HpAmpmZmZlkfEAAAAAAAOF9QGZmZmZmXX9AZmZmZuZsgECamZmZGSuBQM3MzMxM6YFAAAAAAICngkAzMzMzs2WDQGZmZmbmI4RAmpmZmRnihEDNzMzMTKCFQAAAAACAXoZAMzMzM7Mch0BmZmZm5tqHQJqZmZkZmYhAzczMzExXiUAAAAAAgBWKQDMzMzOz04pAZmZmZuaRi0CamZmZGVCMQM3MzMxMDo1AAAAAAIDMjUAzMzMzs4qOQGZmZmbmSI9A\",\"dtype\":\"float64\",\"shape\":[75]}},\"selected\":{\"id\":\"53e2b12e-ab2f-43ac-94ef-6e7225750d72\",\"type\":\"Selection\"},\"selection_policy\":{\"id\":\"3e1df59f-4f88-4d5b-acdd-b37f0c5b8379\",\"type\":\"UnionRenderers\"}},\"id\":\"0f0ad74e-f898-4057-bdf9-c46b312690df\",\"type\":\"ColumnDataSource\"},{\"attributes\":{},\"id\":\"b9c3ac38-7f2b-48b6-a2c6-76d9a543ae41\",\"type\":\"HelpTool\"},{\"attributes\":{\"axis_label\":\"pressure [mb]\",\"formatter\":{\"id\":\"680bff07-6495-491f-a712-3deefbe5295b\",\"type\":\"LogTickFormatter\"},\"plot\":{\"id\":\"225585f8-bb98-40e2-80f9-db9b795ca769\",\"subtype\":\"Figure\",\"type\":\"Plot\"},\"ticker\":{\"id\":\"5e3eaafd-b1f6-404e-a50a-17ecf55608b6\",\"type\":\"LogTicker\"}},\"id\":\"5633a363-a72c-4718-8244-3a253c7875b4\",\"type\":\"LogAxis\"},{\"attributes\":{},\"id\":\"945b0aab-8a61-453e-88f6-813e14ac8fc7\",\"type\":\"WheelZoomTool\"},{\"attributes\":{\"line_alpha\":0.1,\"line_color\":\"#1f77b4\",\"line_width\":3,\"x\":{\"field\":\"x\"},\"y\":{\"field\":\"y\"}},\"id\":\"1151f3f7-b633-4175-bb85-8d27be2d5d74\",\"type\":\"Line\"},{\"attributes\":{\"fill_alpha\":{\"value\":0.7},\"fill_color\":{\"value\":\"#377eb8\"},\"line_alpha\":{\"value\":0.7},\"line_color\":{\"value\":\"#377eb8\"},\"x\":{\"field\":\"x\"},\"y\":{\"field\":\"y\"}},\"id\":\"675a764b-11b4-422a-975d-35e747176727\",\"type\":\"Triangle\"},{\"attributes\":{\"dimension\":1,\"plot\":{\"id\":\"9c40e881-fe31-44b6-90fe-fe110b4f909a\",\"subtype\":\"Figure\",\"type\":\"Plot\"},\"ticker\":{\"id\":\"c3dc3bbd-9e31-4e0c-a1da-8a6b539a7ea9\",\"type\":\"BasicTicker\"}},\"id\":\"d64b612d-e3cf-4f50-ad1e-da7d54901b44\",\"type\":\"Grid\"},{\"attributes\":{\"data_source\":{\"id\":\"ffbb8f80-8208-4ecf-a268-0c0962d3e330\",\"type\":\"ColumnDataSource\"},\"glyph\":{\"id\":\"ddca620b-67f0-4931-820c-4449d58b50a0\",\"type\":\"Line\"},\"hover_glyph\":null,\"muted_glyph\":null,\"nonselection_glyph\":{\"id\":\"1151f3f7-b633-4175-bb85-8d27be2d5d74\",\"type\":\"Line\"},\"selection_glyph\":null,\"view\":{\"id\":\"4d5160db-d56e-45e6-81f1-08e17ddfd37c\",\"type\":\"CDSView\"}},\"id\":\"9cb22c61-1969-4930-a25a-13b477328a23\",\"type\":\"GlyphRenderer\"},{\"attributes\":{\"data_source\":{\"id\":\"8f0cd76e-a88e-438a-93d9-f6720cfaaa17\",\"type\":\"ColumnDataSource\"},\"glyph\":{\"id\":\"675a764b-11b4-422a-975d-35e747176727\",\"type\":\"Triangle\"},\"hover_glyph\":null,\"muted_glyph\":null,\"nonselection_glyph\":{\"id\":\"2efb4a5f-237a-4a13-8fd0-4f436d7cf36f\",\"type\":\"Triangle\"},\"selection_glyph\":null,\"view\":{\"id\":\"4186204b-4660-4eb9-ac1a-caec1656d882\",\"type\":\"CDSView\"}},\"id\":\"61fc94f3-9be8-42e2-aa91-571582b65f9d\",\"type\":\"GlyphRenderer\"},{\"attributes\":{\"source\":{\"id\":\"0f0ad74e-f898-4057-bdf9-c46b312690df\",\"type\":\"ColumnDataSource\"}},\"id\":\"9149d737-7f96-4ff8-9375-99e1996d3e5d\",\"type\":\"CDSView\"},{\"attributes\":{\"data_source\":{\"id\":\"15b45498-a973-4b8b-99d4-4dde041fdd48\",\"type\":\"ColumnDataSource\"},\"glyph\":{\"id\":\"375d3fe5-909d-4fc1-a407-a04df43367bc\",\"type\":\"Square\"},\"hover_glyph\":null,\"muted_glyph\":null,\"nonselection_glyph\":{\"id\":\"3a5364c3-929d-4ef7-b832-9fd17cdae189\",\"type\":\"Square\"},\"selection_glyph\":null,\"view\":{\"id\":\"3f38db5e-1518-4dd1-a3ce-3c6fa5a35186\",\"type\":\"CDSView\"}},\"id\":\"5d61f659-0c2e-49af-b7d9-4240c1c07e2a\",\"type\":\"GlyphRenderer\"},{\"attributes\":{\"source\":{\"id\":\"ffbb8f80-8208-4ecf-a268-0c0962d3e330\",\"type\":\"ColumnDataSource\"}},\"id\":\"4d5160db-d56e-45e6-81f1-08e17ddfd37c\",\"type\":\"CDSView\"},{\"attributes\":{\"fill_alpha\":{\"value\":0.7},\"fill_color\":{\"value\":\"#4daf4a\"},\"line_alpha\":{\"value\":0.7},\"line_color\":{\"value\":\"#4daf4a\"},\"x\":{\"field\":\"x\"},\"y\":{\"field\":\"y\"}},\"id\":\"fb5bc880-69bf-4cf7-ac73-15730de55260\",\"type\":\"Circle\"},{\"attributes\":{\"fill_alpha\":{\"value\":0.1},\"fill_color\":{\"value\":\"#1f77b4\"},\"line_alpha\":{\"value\":0.1},\"line_color\":{\"value\":\"#1f77b4\"},\"x\":{\"field\":\"x\"},\"y\":{\"field\":\"y\"}},\"id\":\"3a5364c3-929d-4ef7-b832-9fd17cdae189\",\"type\":\"Square\"},{\"attributes\":{\"callback\":null,\"data\":{\"x\":{\"__ndarray__\":\"3FG8QzOTNL9UpoSfuQA0v56rOkjFrTK/oOoozvkSMb9KVAr4ElAuv6+QYeikvSm/omXoS+hMJL/PosjmGLAbv/fy/ARS3Ai/sK9VmtU99j6oFvcCH7oaPzJFMi6+ySk/dZG+fwAjND+NeabXX4w7P8ZlMOpb/0A/dOBtuwwQRD/isYbJBWVHP3zgyiUTCEs/gGCwZ1oATz8jyrn5b6pRP9TfHIQxyFM/4hTOFFAmUj8RwW4YibBIP9eYNr46kjs/9cpHe/JIJz+vtVL82e+5PopX+i5haSC/PEMfPnIZK78s67oJTa4wv7Uk/cIW9zK/g5/mE1oXNb9KaY56GiY3v1PJC9HQyTi/CLShz4ENOr/MC5HhPKg7v5S59BiB1T2/rrhstTo2QL8EIxhEJsFBv9FO2erjekO/jiagC587Rb9nLn5/tAtHv2VaM4TV1Ui/y93qCCyWSr81ZUSA30tMv1qTVr3b4U2/ZHOHZLc8Tr9IMtOIpTlMv5MohhVkcUi/jvw5spOqQ799AimBSPI7v7/Mf+wijSy/YOAA83RZ9D41sUP2uZ0yP1RdSg6qEkM/RsETcr+TTT8T6teJU3VUP/oMD/byb1o/h3C5qkZQYD86mDlTW4BjP8pCqIynsGY/W4/IHCfjaT+Cx6lxBQhtP1GAW4nWEHA/no9AMSqYcT+hwm/MNBZzPyE2THyLkXQ/ZNJcOGL+dT9Q6cPeO1Z3PyM2AxSWfHg/++QCeXFAeT8UO/OaMop5P/kUdIJMZ3k/+krE/b79eD+6r8Y6VXV4P4pA6QpF4Xc/\",\"dtype\":\"float64\",\"shape\":[75]},\"y\":{\"__ndarray__\":\"GhExyth1ND/Sv8nbtpRIP2vylNV0PVE/aTum7souWD/At0SJ8fVgPw3Iuahxymc/MSNhhJWvcD/bTfBN02d3P2zb5nxnaoA/CD5h5MAGhz8NmeH1TyaQP+zrCsc9p5Y/LbKd76fGnz/bLW5ISEmmPww9YvTcQq8/JV2OstnstT8Er5Y7M8G+P0c+r3jqkcU/5h99k6ZBzj88bCIzFzjVP4enV8oyxN0//yH99nXg5D8qOpLLf0jtP5kqGJXUifQ/c9cS8kHP/D+/DpwzojQEQIEmwoanVwxA4lgXt9HgE0BSSZ2AJuIbQAMJih9jjiNA5q4l5INuK0AwTKYKRj0zQNv5fmq8/DpAaCJseHrtQkB/+zpwzoxKQM3MzMzMeFJAZmZmZmZqWEAAAAAAAFxeQM3MzMzMJmJAmpmZmZkfZUBmZmZmZhhoQDMzMzMzEWtAAAAAAAAKbkBmZmZmZoFwQM3MzMzM/XFAMzMzMzN6c0CamZmZmfZ0QAAAAAAAc3ZAZmZmZmbvd0DNzMzMzGt5QDMzMzMz6HpAmpmZmZlkfEAAAAAAAOF9QGZmZmZmXX9AZmZmZuZsgECamZmZGSuBQM3MzMxM6YFAAAAAAICngkAzMzMzs2WDQGZmZmbmI4RAmpmZmRnihEDNzMzMTKCFQAAAAACAXoZAMzMzM7Mch0BmZmZm5tqHQJqZmZkZmYhAzczMzExXiUAAAAAAgBWKQDMzMzOz04pAZmZmZuaRi0CamZmZGVCMQM3MzMxMDo1AAAAAAIDMjUAzMzMzs4qOQGZmZmbmSI9A\",\"dtype\":\"float64\",\"shape\":[75]}},\"selected\":{\"id\":\"0e8366a5-75fb-4b93-bc90-0e8f1fa7412a\",\"type\":\"Selection\"},\"selection_policy\":{\"id\":\"1a089826-62d3-4322-a591-69821e8432fb\",\"type\":\"UnionRenderers\"}},\"id\":\"ffbb8f80-8208-4ecf-a268-0c0962d3e330\",\"type\":\"ColumnDataSource\"},{\"attributes\":{\"fill_alpha\":{\"value\":0.1},\"fill_color\":{\"value\":\"#1f77b4\"},\"line_alpha\":{\"value\":0.1},\"line_color\":{\"value\":\"#1f77b4\"},\"x\":{\"field\":\"x\"},\"y\":{\"field\":\"y\"}},\"id\":\"2efb4a5f-237a-4a13-8fd0-4f436d7cf36f\",\"type\":\"Triangle\"},{\"attributes\":{\"source\":{\"id\":\"8f0cd76e-a88e-438a-93d9-f6720cfaaa17\",\"type\":\"ColumnDataSource\"}},\"id\":\"4186204b-4660-4eb9-ac1a-caec1656d882\",\"type\":\"CDSView\"},{\"attributes\":{\"fill_alpha\":{\"value\":0.7},\"fill_color\":{\"value\":\"#984ea3\"},\"line_alpha\":{\"value\":0.7},\"line_color\":{\"value\":\"#984ea3\"},\"x\":{\"field\":\"x\"},\"y\":{\"field\":\"y\"}},\"id\":\"375d3fe5-909d-4fc1-a407-a04df43367bc\",\"type\":\"Square\"},{\"attributes\":{\"callback\":null,\"data\":{\"x\":{\"__ndarray__\":\"NdeZ3btPM7/aYQCYUM0yv1zgsnAenzG/L9A6YU8wML+1Y6RHpfIsvz8F7JLB2ii/4IWWPVX6I7+HEkCBHV4cv3MGkMKnUw2/2cZptXoj2D7d1l51oYwUP6FRNZdmdSU/errg6KxAMT+4i4nnc+43P4KYw1kvvj0/GXR3T6qiQT9YOBlbBaREP/zSZ0IA7Ec/TK3rFhCBSz8C99I7jmlPP5nQOQPQnVE/WyTDAXUkUD/Oz0p9X85FP7FcznN38Tc/llCjAOUtIz/3iVlHXZrpvnxtrsvQiiC/R0nq6UwmKr8ZdYnLvcgvv3g0dd8l9TG/TjqNim7gM7+F6qlpysA1v8cj8wktRje/jfccCPd8OL+B3E9TNQQ6v7enakvhGjy/Qdj2evWTPr/YUPfgrr1Avx3pdIW+W0K/l3dbsu74Q7+4imXnUJNFv8MWfqUEK0e/tNO+zj3ASL+q3xMP0lFKv+zaaBCTuUu/gZdl2pzvS7/T4NB4thBKvzs1LziXo0a/TEbpYGo8Qr+vMAAxYs85v//zbpbgkSq/h5yNYxup8T5xcxbWbFMxPzSc9leYp0E/j+M2eF13Sz9gpkYYoQBTPyVZKqDuklg/3WKgWFdfXj+CdbDHSihiPwqHUV3vKGU/2V2Au/wnaD9esGxGTCBrP94yjQmdDm4/GKM9PBV5cD/Tsa6BmeVxP9jLRhFYTHM/UYUZ/PipdD+3sIMOZ/N1P2j3eKF4Dnc/yvc1H4rTdz8NtiJ7zid4P2UkqSpHGHg/NyLmOhfLdz+kfX06iGB3P76Q4iDA6XY/\",\"dtype\":\"float64\",\"shape\":[75]},\"y\":{\"__ndarray__\":\"GhExyth1ND/Sv8nbtpRIP2vylNV0PVE/aTum7souWD/At0SJ8fVgPw3Iuahxymc/MSNhhJWvcD/bTfBN02d3P2zb5nxnaoA/CD5h5MAGhz8NmeH1TyaQP+zrCsc9p5Y/LbKd76fGnz/bLW5ISEmmPww9YvTcQq8/JV2OstnstT8Er5Y7M8G+P0c+r3jqkcU/5h99k6ZBzj88bCIzFzjVP4enV8oyxN0//yH99nXg5D8qOpLLf0jtP5kqGJXUifQ/c9cS8kHP/D+/DpwzojQEQIEmwoanVwxA4lgXt9HgE0BSSZ2AJuIbQAMJih9jjiNA5q4l5INuK0AwTKYKRj0zQNv5fmq8/DpAaCJseHrtQkB/+zpwzoxKQM3MzMzMeFJAZmZmZmZqWEAAAAAAAFxeQM3MzMzMJmJAmpmZmZkfZUBmZmZmZhhoQDMzMzMzEWtAAAAAAAAKbkBmZmZmZoFwQM3MzMzM/XFAMzMzMzN6c0CamZmZmfZ0QAAAAAAAc3ZAZmZmZmbvd0DNzMzMzGt5QDMzMzMz6HpAmpmZmZlkfEAAAAAAAOF9QGZmZmZmXX9AZmZmZuZsgECamZmZGSuBQM3MzMxM6YFAAAAAAICngkAzMzMzs2WDQGZmZmbmI4RAmpmZmRnihEDNzMzMTKCFQAAAAACAXoZAMzMzM7Mch0BmZmZm5tqHQJqZmZkZmYhAzczMzExXiUAAAAAAgBWKQDMzMzOz04pAZmZmZuaRi0CamZmZGVCMQM3MzMxMDo1AAAAAAIDMjUAzMzMzs4qOQGZmZmbmSI9A\",\"dtype\":\"float64\",\"shape\":[75]}},\"selected\":{\"id\":\"811cfa3c-9c3c-42b7-8ffd-aed43e04f3b1\",\"type\":\"Selection\"},\"selection_policy\":{\"id\":\"419a38a0-743f-4015-990d-8a85c99e0c9d\",\"type\":\"UnionRenderers\"}},\"id\":\"a24f1555-7681-45f5-9dd8-824e84b84b20\",\"type\":\"ColumnDataSource\"},{\"attributes\":{\"line_alpha\":0.3,\"line_color\":\"#377eb8\",\"line_width\":2,\"x\":{\"field\":\"x\"},\"y\":{\"field\":\"y\"}},\"id\":\"3b22fc5d-8934-4dff-bdfc-ad51ed7fde31\",\"type\":\"Line\"},{\"attributes\":{\"children\":[{\"id\":\"d3a76b88-74f2-4d8d-b3d0-7663d7ea7d7b\",\"type\":\"Row\"}]},\"id\":\"fc5b4d18-d4dc-4934-b7ea-17b2468ef09d\",\"type\":\"Column\"},{\"attributes\":{\"line_alpha\":0.1,\"line_color\":\"#1f77b4\",\"line_width\":2,\"x\":{\"field\":\"x\"},\"y\":{\"field\":\"y\"}},\"id\":\"b08b02f5-2559-4206-86a9-300f3a205042\",\"type\":\"Line\"},{\"attributes\":{\"data_source\":{\"id\":\"a24f1555-7681-45f5-9dd8-824e84b84b20\",\"type\":\"ColumnDataSource\"},\"glyph\":{\"id\":\"3b22fc5d-8934-4dff-bdfc-ad51ed7fde31\",\"type\":\"Line\"},\"hover_glyph\":null,\"muted_glyph\":null,\"nonselection_glyph\":{\"id\":\"b08b02f5-2559-4206-86a9-300f3a205042\",\"type\":\"Line\"},\"selection_glyph\":null,\"view\":{\"id\":\"70005a59-7548-448b-9308-825af06bf16d\",\"type\":\"CDSView\"}},\"id\":\"7c86d78f-e2cb-4cd7-b87e-f8f136718ed5\",\"type\":\"GlyphRenderer\"},{\"attributes\":{\"source\":{\"id\":\"a24f1555-7681-45f5-9dd8-824e84b84b20\",\"type\":\"ColumnDataSource\"}},\"id\":\"70005a59-7548-448b-9308-825af06bf16d\",\"type\":\"CDSView\"},{\"attributes\":{\"plot\":null,\"text\":\"\"},\"id\":\"61dfcb48-2f16-41b5-859a-e2159616b16f\",\"type\":\"Title\"},{\"attributes\":{\"children\":[{\"id\":\"9c40e881-fe31-44b6-90fe-fe110b4f909a\",\"subtype\":\"Figure\",\"type\":\"Plot\"},{\"id\":\"225585f8-bb98-40e2-80f9-db9b795ca769\",\"subtype\":\"Figure\",\"type\":\"Plot\"}]},\"id\":\"d3a76b88-74f2-4d8d-b3d0-7663d7ea7d7b\",\"type\":\"Row\"},{\"attributes\":{\"label\":{\"value\":\"CRD\"},\"renderers\":[{\"id\":\"8957bf0e-db3d-40b4-872f-7b14c2c22df6\",\"type\":\"GlyphRenderer\"},{\"id\":\"3933000f-a142-4be2-9e89-d91e90d89f29\",\"type\":\"GlyphRenderer\"}]},\"id\":\"1ebf4ccd-b301-4639-b797-9c914843e5e2\",\"type\":\"LegendItem\"},{\"attributes\":{},\"id\":\"b21a4c96-e258-49b4-b409-18721da5bbfa\",\"type\":\"BasicTickFormatter\"},{\"attributes\":{\"label\":{\"value\":\"WGT igg=1\"},\"renderers\":[{\"id\":\"5d61f659-0c2e-49af-b7d9-4240c1c07e2a\",\"type\":\"GlyphRenderer\"},{\"id\":\"9cb22c61-1969-4930-a25a-13b477328a23\",\"type\":\"GlyphRenderer\"}]},\"id\":\"944a0dab-4ae7-47f4-955e-dbe92e098d31\",\"type\":\"LegendItem\"},{\"attributes\":{\"ticker\":null},\"id\":\"680bff07-6495-491f-a712-3deefbe5295b\",\"type\":\"LogTickFormatter\"},{\"attributes\":{\"label\":{\"value\":\"WGT igg=10\"},\"renderers\":[{\"id\":\"61fc94f3-9be8-42e2-aa91-571582b65f9d\",\"type\":\"GlyphRenderer\"},{\"id\":\"7c86d78f-e2cb-4cd7-b87e-f8f136718ed5\",\"type\":\"GlyphRenderer\"}]},\"id\":\"3f1c6231-f8eb-4e0e-a126-0e6f1556448e\",\"type\":\"LegendItem\"},{\"attributes\":{},\"id\":\"12169810-94d2-4802-b254-ac2e9ee4a968\",\"type\":\"UnionRenderers\"},{\"attributes\":{},\"id\":\"c9813bd9-b853-4641-9a9b-33e5691205b2\",\"type\":\"Selection\"},{\"attributes\":{},\"id\":\"a8ee3484-da5a-4371-8d36-8daaf8e0bc3f\",\"type\":\"BasicTickFormatter\"},{\"attributes\":{},\"id\":\"615563b8-17dd-4ad7-a064-09118fb24b6f\",\"type\":\"Selection\"},{\"attributes\":{},\"id\":\"3897992b-ef70-439a-b598-99fea2e271de\",\"type\":\"UnionRenderers\"},{\"attributes\":{},\"id\":\"bcee5b3b-80f6-47e8-a8cd-fb692ff07cb1\",\"type\":\"UnionRenderers\"},{\"attributes\":{},\"id\":\"d1056567-051d-42f9-b7d4-3bc30f363e43\",\"type\":\"Selection\"},{\"attributes\":{},\"id\":\"f46727e7-bf2b-4f76-9e20-7273b122ad6f\",\"type\":\"UnionRenderers\"},{\"attributes\":{},\"id\":\"6fe62ad7-0011-41da-9e8d-a3642ffc67a4\",\"type\":\"Selection\"},{\"attributes\":{\"plot\":null,\"text\":\"\"},\"id\":\"2ed1eb80-4ea4-49a5-b31b-36f8bfc80b7e\",\"type\":\"Title\"},{\"attributes\":{},\"id\":\"61ed74c6-56d8-4ebc-ac4b-5d17d39d0f71\",\"type\":\"BasicTickFormatter\"},{\"attributes\":{},\"id\":\"53e2b12e-ab2f-43ac-94ef-6e7225750d72\",\"type\":\"Selection\"},{\"attributes\":{},\"id\":\"d69f7127-d900-44e5-99f8-be87d048f9ce\",\"type\":\"Selection\"},{\"attributes\":{},\"id\":\"32ca6b23-efab-42ce-b0df-61ad68ff3024\",\"type\":\"UnionRenderers\"},{\"attributes\":{},\"id\":\"3e1df59f-4f88-4d5b-acdd-b37f0c5b8379\",\"type\":\"UnionRenderers\"},{\"attributes\":{},\"id\":\"1a089826-62d3-4322-a591-69821e8432fb\",\"type\":\"UnionRenderers\"},{\"attributes\":{},\"id\":\"0e8366a5-75fb-4b93-bc90-0e8f1fa7412a\",\"type\":\"Selection\"},{\"attributes\":{},\"id\":\"419a38a0-743f-4015-990d-8a85c99e0c9d\",\"type\":\"UnionRenderers\"},{\"attributes\":{},\"id\":\"811cfa3c-9c3c-42b7-8ffd-aed43e04f3b1\",\"type\":\"Selection\"},{\"attributes\":{},\"id\":\"8f2457e5-332e-4df6-87bb-bc7aeb33824f\",\"type\":\"UnionRenderers\"},{\"attributes\":{},\"id\":\"67b83e00-7bee-4a2f-88d6-a1d3b0ca21c2\",\"type\":\"Selection\"},{\"attributes\":{\"children\":[{\"id\":\"aac546dc-d82d-4e79-a9a2-8b817aaf42e3\",\"type\":\"ToolbarBox\"},{\"id\":\"fc5b4d18-d4dc-4934-b7ea-17b2468ef09d\",\"type\":\"Column\"}]},\"id\":\"13cf4920-e0ef-4b55-b723-bbaa731d99a7\",\"type\":\"Column\"},{\"attributes\":{\"tools\":[{\"id\":\"6f982a6e-c311-4e9c-8dd0-90f7f71955e2\",\"type\":\"PanTool\"},{\"id\":\"945b0aab-8a61-453e-88f6-813e14ac8fc7\",\"type\":\"WheelZoomTool\"},{\"id\":\"05e3e5f3-2347-494c-808a-8783e149a007\",\"type\":\"BoxZoomTool\"},{\"id\":\"f890e218-258e-457d-b633-b3080c6e1639\",\"type\":\"SaveTool\"},{\"id\":\"18960dd1-40eb-4dab-904f-74a4e4822e36\",\"type\":\"ResetTool\"},{\"id\":\"b9c3ac38-7f2b-48b6-a2c6-76d9a543ae41\",\"type\":\"HelpTool\"},{\"id\":\"5654e2b9-9e94-4ff7-bbd8-52e2da517a5d\",\"type\":\"PanTool\"},{\"id\":\"82e54136-7559-418e-8689-efa2d464f14c\",\"type\":\"WheelZoomTool\"},{\"id\":\"bb4b8070-d1c3-4eb3-a6d6-d4b62eac11b5\",\"type\":\"BoxZoomTool\"},{\"id\":\"e1b49007-57e9-4f26-a35f-97b152a9e5de\",\"type\":\"SaveTool\"},{\"id\":\"d66f5a36-e1b3-484d-879b-c15968983380\",\"type\":\"ResetTool\"},{\"id\":\"7e39f375-d302-4106-8676-2028831e1cea\",\"type\":\"HelpTool\"}]},\"id\":\"de8339f2-87d9-4ea8-852a-061530ed3d54\",\"type\":\"ProxyToolbar\"},{\"attributes\":{\"toolbar\":{\"id\":\"de8339f2-87d9-4ea8-852a-061530ed3d54\",\"type\":\"ProxyToolbar\"},\"toolbar_location\":\"above\"},\"id\":\"aac546dc-d82d-4e79-a9a2-8b817aaf42e3\",\"type\":\"ToolbarBox\"},{\"attributes\":{\"source\":{\"id\":\"bca83766-5e99-4bce-b404-1e070dc5e359\",\"type\":\"ColumnDataSource\"}},\"id\":\"30c7dd37-6a92-483d-b616-123726f3cf45\",\"type\":\"CDSView\"},{\"attributes\":{\"callback\":null,\"data\":{\"x\":{\"__ndarray__\":\"KV4xQfwKL7/I9JDh27Etv4EXZ9c3kyq/H/JJbe7MJr8S3KEyvkwivxHEVFr+5hm/2kssXehuCr/oQcNlGYDcPv02A7THdBM/TgaucW4fJD9zYMaxaykwP5dCUqVfTjc/5OjA8UWePz/S0lc/1g1EP5QyLra3vUc/SwHmNKQ+Sz8pbXtIYgxPP0TnYvcQmVE/ZIxOYPraUz+MeXwH705WP5NrP59lslg/EgntuATQVj9hGN/4GytQP2L4dGsM0EM/5bcqgXs7NT8PGTk1S0sfP5Aw/QbN+f2+dNRk65NVIL+uRfwvUM8nvwYGqLnLSi2/7K4dglAnMb+Z6yT3OYgzv/klDzbzWzW/3rNI2ZurNr+e5M82hTU4v5is3RdqPzq/RJVQsLWtPL9Gj76LZKw/v1sWjJtHkUG/V/LKWOFUQ7/e1O9iGyFFvyN0JRc9+Ea/E3Mhp4TcSL+NPaLYc85Kvy1OvObXoUy/bnz3334XTb/xOT1vgR9Lv86Q4LqVY0e/dgKesjycQr/fhBw9ebY5v6OjTMOVhCi/oQyaakQACT9l5AvegGQ0P3Yvo4gcuUM/eCgvC0ERTj92Hne77o5UP81OJnmsXFo/o2v+Fp8tYD81CmNx2jhjP6vNnssdRGY/5g4oBaBEaT8MjnZL1zRsP9u3NKmqEW8/zFz8R4jtcD9AT25YLUlyP6kJ1d+om3M/OiBUZJfhdD9Dkl1RWA52P7mDGv8zA3c/k3A/LlqRdz9cM0eISpl3P68gEJorK3c//ZAwtel0dj8DbZWZ95x1PwPAUD4/t3Q/\",\"dtype\":\"float64\",\"shape\":[75]},\"y\":{\"__ndarray__\":\"GhExyth1ND/Sv8nbtpRIP2vylNV0PVE/aTum7souWD/At0SJ8fVgPw3Iuahxymc/MSNhhJWvcD/bTfBN02d3P2zb5nxnaoA/CD5h5MAGhz8NmeH1TyaQP+zrCsc9p5Y/LbKd76fGnz/bLW5ISEmmPww9YvTcQq8/JV2OstnstT8Er5Y7M8G+P0c+r3jqkcU/5h99k6ZBzj88bCIzFzjVP4enV8oyxN0//yH99nXg5D8qOpLLf0jtP5kqGJXUifQ/c9cS8kHP/D+/DpwzojQEQIEmwoanVwxA4lgXt9HgE0BSSZ2AJuIbQAMJih9jjiNA5q4l5INuK0AwTKYKRj0zQNv5fmq8/DpAaCJseHrtQkB/+zpwzoxKQM3MzMzMeFJAZmZmZmZqWEAAAAAAAFxeQM3MzMzMJmJAmpmZmZkfZUBmZmZmZhhoQDMzMzMzEWtAAAAAAAAKbkBmZmZmZoFwQM3MzMzM/XFAMzMzMzN6c0CamZmZmfZ0QAAAAAAAc3ZAZmZmZmbvd0DNzMzMzGt5QDMzMzMz6HpAmpmZmZlkfEAAAAAAAOF9QGZmZmZmXX9AZmZmZuZsgECamZmZGSuBQM3MzMxM6YFAAAAAAICngkAzMzMzs2WDQGZmZmbmI4RAmpmZmRnihEDNzMzMTKCFQAAAAACAXoZAMzMzM7Mch0BmZmZm5tqHQJqZmZkZmYhAzczMzExXiUAAAAAAgBWKQDMzMzOz04pAZmZmZuaRi0CamZmZGVCMQM3MzMxMDo1AAAAAAIDMjUAzMzMzs4qOQGZmZmbmSI9A\",\"dtype\":\"float64\",\"shape\":[75]}},\"selected\":{\"id\":\"f477cb27-44a7-4723-951a-50fdbdaa577e\",\"type\":\"Selection\"},\"selection_policy\":{\"id\":\"cd12f879-640f-49c3-a802-b9f5a462dbf3\",\"type\":\"UnionRenderers\"}},\"id\":\"457f5992-27f6-40f8-88a7-b0350533a3ab\",\"type\":\"ColumnDataSource\"},{\"attributes\":{\"bottom_units\":\"screen\",\"fill_alpha\":{\"value\":0.5},\"fill_color\":{\"value\":\"lightgrey\"},\"left_units\":\"screen\",\"level\":\"overlay\",\"line_alpha\":{\"value\":1.0},\"line_color\":{\"value\":\"black\"},\"line_dash\":[4,4],\"line_width\":{\"value\":2},\"plot\":null,\"render_mode\":\"css\",\"right_units\":\"screen\",\"top_units\":\"screen\"},\"id\":\"9dd332ab-2eb6-42c1-aab5-6bbe582f91d8\",\"type\":\"BoxAnnotation\"},{\"attributes\":{},\"id\":\"9f5b80c4-8427-4253-9763-2486011b89c9\",\"type\":\"UnionRenderers\"},{\"attributes\":{\"callback\":null,\"end\":0.01,\"start\":1020},\"id\":\"8ce7dbf0-a78e-4937-9aa4-15f3297056c7\",\"type\":\"Range1d\"},{\"attributes\":{\"num_minor_ticks\":10},\"id\":\"5e3eaafd-b1f6-404e-a50a-17ecf55608b6\",\"type\":\"LogTicker\"},{\"attributes\":{\"source\":{\"id\":\"457f5992-27f6-40f8-88a7-b0350533a3ab\",\"type\":\"ColumnDataSource\"}},\"id\":\"d87d41a7-38cd-449d-a3e9-8e168041dfd6\",\"type\":\"CDSView\"},{\"attributes\":{\"line_alpha\":0.1,\"line_color\":\"#1f77b4\",\"line_width\":3,\"x\":{\"field\":\"x\"},\"y\":{\"field\":\"y\"}},\"id\":\"40042ca3-bd9c-4101-91ba-f38633da4be5\",\"type\":\"Line\"},{\"attributes\":{\"data_source\":{\"id\":\"9d72e59b-63bc-4597-9df0-c9aeb57b1475\",\"type\":\"ColumnDataSource\"},\"glyph\":{\"id\":\"5f55e59d-46fe-478a-93b0-92bbeb0447e4\",\"type\":\"Line\"},\"hover_glyph\":null,\"muted_glyph\":null,\"nonselection_glyph\":{\"id\":\"40042ca3-bd9c-4101-91ba-f38633da4be5\",\"type\":\"Line\"},\"selection_glyph\":null,\"view\":{\"id\":\"7ff9922a-0d67-482c-8315-4ff1b350d6a9\",\"type\":\"CDSView\"}},\"id\":\"c4986d4c-a4c1-4595-b3ba-8d887ff16e1c\",\"type\":\"GlyphRenderer\"},{\"attributes\":{},\"id\":\"82e54136-7559-418e-8689-efa2d464f14c\",\"type\":\"WheelZoomTool\"},{\"attributes\":{\"data_source\":{\"id\":\"457f5992-27f6-40f8-88a7-b0350533a3ab\",\"type\":\"ColumnDataSource\"},\"glyph\":{\"id\":\"4d97c3c0-3000-4bb6-8c82-1c46fd8a891c\",\"type\":\"Line\"},\"hover_glyph\":null,\"muted_glyph\":null,\"nonselection_glyph\":{\"id\":\"59c32a28-e846-449a-8530-137ec4e2a92b\",\"type\":\"Line\"},\"selection_glyph\":null,\"view\":{\"id\":\"d87d41a7-38cd-449d-a3e9-8e168041dfd6\",\"type\":\"CDSView\"}},\"id\":\"8a671ef9-36bb-4afe-ab72-e3eab14d0279\",\"type\":\"GlyphRenderer\"},{\"attributes\":{},\"id\":\"cd12f879-640f-49c3-a802-b9f5a462dbf3\",\"type\":\"UnionRenderers\"},{\"attributes\":{\"fill_alpha\":{\"value\":0.7},\"fill_color\":{\"value\":\"#984ea3\"},\"line_alpha\":{\"value\":0.7},\"line_color\":{\"value\":\"#984ea3\"},\"x\":{\"field\":\"x\"},\"y\":{\"field\":\"y\"}},\"id\":\"9c881769-0329-47bc-9891-e263f4d44339\",\"type\":\"Square\"},{\"attributes\":{\"data_source\":{\"id\":\"c912e7aa-9e10-4fb4-a6dc-b9abd5359d66\",\"type\":\"ColumnDataSource\"},\"glyph\":{\"id\":\"0cebc015-1f9a-479c-bd96-7468928251a1\",\"type\":\"Triangle\"},\"hover_glyph\":null,\"muted_glyph\":null,\"nonselection_glyph\":{\"id\":\"a3a8f17f-a243-451a-b346-4fd7bec8789f\",\"type\":\"Triangle\"},\"selection_glyph\":null,\"view\":{\"id\":\"283c0700-103c-4535-9c08-6bb212eba393\",\"type\":\"CDSView\"}},\"id\":\"979247cb-b41f-4991-b3cb-8d87f78140d6\",\"type\":\"GlyphRenderer\"},{\"attributes\":{\"line_alpha\":0.1,\"line_color\":\"#1f77b4\",\"line_width\":1.5,\"x\":{\"field\":\"x\"},\"y\":{\"field\":\"y\"}},\"id\":\"59c32a28-e846-449a-8530-137ec4e2a92b\",\"type\":\"Line\"},{\"attributes\":{\"fill_alpha\":{\"value\":0.1},\"fill_color\":{\"value\":\"#1f77b4\"},\"line_alpha\":{\"value\":0.1},\"line_color\":{\"value\":\"#1f77b4\"},\"x\":{\"field\":\"x\"},\"y\":{\"field\":\"y\"}},\"id\":\"a3a8f17f-a243-451a-b346-4fd7bec8789f\",\"type\":\"Triangle\"},{\"attributes\":{\"line_alpha\":0.1,\"line_color\":\"#1f77b4\",\"line_width\":2,\"x\":{\"field\":\"x\"},\"y\":{\"field\":\"y\"}},\"id\":\"6230ce29-1149-4fb0-b0dc-56094efbca7a\",\"type\":\"Line\"},{\"attributes\":{\"source\":{\"id\":\"87bf1159-9aff-431f-b5fa-668d86dedb92\",\"type\":\"ColumnDataSource\"}},\"id\":\"a41e3973-e1ce-4f25-9318-b14418d194c4\",\"type\":\"CDSView\"},{\"attributes\":{\"line_alpha\":0.6,\"line_color\":\"#984ea3\",\"line_width\":3,\"x\":{\"field\":\"x\"},\"y\":{\"field\":\"y\"}},\"id\":\"5f55e59d-46fe-478a-93b0-92bbeb0447e4\",\"type\":\"Line\"},{\"attributes\":{\"dimension\":1,\"plot\":{\"id\":\"225585f8-bb98-40e2-80f9-db9b795ca769\",\"subtype\":\"Figure\",\"type\":\"Plot\"},\"ticker\":{\"id\":\"5e3eaafd-b1f6-404e-a50a-17ecf55608b6\",\"type\":\"LogTicker\"}},\"id\":\"60b36f59-77d1-4cad-a151-861786c28502\",\"type\":\"Grid\"},{\"attributes\":{\"source\":{\"id\":\"c912e7aa-9e10-4fb4-a6dc-b9abd5359d66\",\"type\":\"ColumnDataSource\"}},\"id\":\"283c0700-103c-4535-9c08-6bb212eba393\",\"type\":\"CDSView\"},{\"attributes\":{\"callback\":null,\"data\":{\"x\":{\"__ndarray__\":\"3FG8QzOTNL9UpoSfuQA0v56rOkjFrTK/oOoozvkSMb9KVAr4ElAuv6+QYeikvSm/omXoS+hMJL/PosjmGLAbv/fy/ARS3Ai/sK9VmtU99j6oFvcCH7oaPzJFMi6+ySk/dZG+fwAjND+NeabXX4w7P8ZlMOpb/0A/dOBtuwwQRD/isYbJBWVHP3zgyiUTCEs/gGCwZ1oATz8jyrn5b6pRP9TfHIQxyFM/4hTOFFAmUj8RwW4YibBIP9eYNr46kjs/9cpHe/JIJz+vtVL82e+5PopX+i5haSC/PEMfPnIZK78s67oJTa4wv7Uk/cIW9zK/g5/mE1oXNb9KaY56GiY3v1PJC9HQyTi/CLShz4ENOr/MC5HhPKg7v5S59BiB1T2/rrhstTo2QL8EIxhEJsFBv9FO2erjekO/jiagC587Rb9nLn5/tAtHv2VaM4TV1Ui/y93qCCyWSr81ZUSA30tMv1qTVr3b4U2/ZHOHZLc8Tr9IMtOIpTlMv5MohhVkcUi/jvw5spOqQ799AimBSPI7v7/Mf+wijSy/YOAA83RZ9D41sUP2uZ0yP1RdSg6qEkM/RsETcr+TTT8T6teJU3VUP/oMD/byb1o/h3C5qkZQYD86mDlTW4BjP8pCqIynsGY/W4/IHCfjaT+Cx6lxBQhtP1GAW4nWEHA/no9AMSqYcT+hwm/MNBZzPyE2THyLkXQ/ZNJcOGL+dT9Q6cPeO1Z3PyM2AxSWfHg/++QCeXFAeT8UO/OaMop5P/kUdIJMZ3k/+krE/b79eD+6r8Y6VXV4P4pA6QpF4Xc/\",\"dtype\":\"float64\",\"shape\":[75]},\"y\":{\"__ndarray__\":\"GhExyth1ND/Sv8nbtpRIP2vylNV0PVE/aTum7souWD/At0SJ8fVgPw3Iuahxymc/MSNhhJWvcD/bTfBN02d3P2zb5nxnaoA/CD5h5MAGhz8NmeH1TyaQP+zrCsc9p5Y/LbKd76fGnz/bLW5ISEmmPww9YvTcQq8/JV2OstnstT8Er5Y7M8G+P0c+r3jqkcU/5h99k6ZBzj88bCIzFzjVP4enV8oyxN0//yH99nXg5D8qOpLLf0jtP5kqGJXUifQ/c9cS8kHP/D+/DpwzojQEQIEmwoanVwxA4lgXt9HgE0BSSZ2AJuIbQAMJih9jjiNA5q4l5INuK0AwTKYKRj0zQNv5fmq8/DpAaCJseHrtQkB/+zpwzoxKQM3MzMzMeFJAZmZmZmZqWEAAAAAAAFxeQM3MzMzMJmJAmpmZmZkfZUBmZmZmZhhoQDMzMzMzEWtAAAAAAAAKbkBmZmZmZoFwQM3MzMzM/XFAMzMzMzN6c0CamZmZmfZ0QAAAAAAAc3ZAZmZmZmbvd0DNzMzMzGt5QDMzMzMz6HpAmpmZmZlkfEAAAAAAAOF9QGZmZmZmXX9AZmZmZuZsgECamZmZGSuBQM3MzMxM6YFAAAAAAICngkAzMzMzs2WDQGZmZmbmI4RAmpmZmRnihEDNzMzMTKCFQAAAAACAXoZAMzMzM7Mch0BmZmZm5tqHQJqZmZkZmYhAzczMzExXiUAAAAAAgBWKQDMzMzOz04pAZmZmZuaRi0CamZmZGVCMQM3MzMxMDo1AAAAAAIDMjUAzMzMzs4qOQGZmZmbmSI9A\",\"dtype\":\"float64\",\"shape\":[75]}},\"selected\":{\"id\":\"1abc7520-dcfb-4bd3-a158-836009f8d88b\",\"type\":\"Selection\"},\"selection_policy\":{\"id\":\"9f5b80c4-8427-4253-9763-2486011b89c9\",\"type\":\"UnionRenderers\"}},\"id\":\"9d72e59b-63bc-4597-9df0-c9aeb57b1475\",\"type\":\"ColumnDataSource\"},{\"attributes\":{\"source\":{\"id\":\"9d72e59b-63bc-4597-9df0-c9aeb57b1475\",\"type\":\"ColumnDataSource\"}},\"id\":\"7ff9922a-0d67-482c-8315-4ff1b350d6a9\",\"type\":\"CDSView\"},{\"attributes\":{\"callback\":null,\"data\":{\"x\":{\"__ndarray__\":\"NdeZ3btPM7/aYQCYUM0yv1zgsnAenzG/L9A6YU8wML+1Y6RHpfIsvz8F7JLB2ii/4IWWPVX6I7+HEkCBHV4cv3MGkMKnUw2/2cZptXoj2D7d1l51oYwUP6FRNZdmdSU/errg6KxAMT+4i4nnc+43P4KYw1kvvj0/GXR3T6qiQT9YOBlbBaREP/zSZ0IA7Ec/TK3rFhCBSz8C99I7jmlPP5nQOQPQnVE/WyTDAXUkUD/Oz0p9X85FP7FcznN38Tc/llCjAOUtIz/3iVlHXZrpvnxtrsvQiiC/R0nq6UwmKr8ZdYnLvcgvv3g0dd8l9TG/TjqNim7gM7+F6qlpysA1v8cj8wktRje/jfccCPd8OL+B3E9TNQQ6v7enakvhGjy/Qdj2evWTPr/YUPfgrr1Avx3pdIW+W0K/l3dbsu74Q7+4imXnUJNFv8MWfqUEK0e/tNO+zj3ASL+q3xMP0lFKv+zaaBCTuUu/gZdl2pzvS7/T4NB4thBKvzs1LziXo0a/TEbpYGo8Qr+vMAAxYs85v//zbpbgkSq/h5yNYxup8T5xcxbWbFMxPzSc9leYp0E/j+M2eF13Sz9gpkYYoQBTPyVZKqDuklg/3WKgWFdfXj+CdbDHSihiPwqHUV3vKGU/2V2Au/wnaD9esGxGTCBrP94yjQmdDm4/GKM9PBV5cD/Tsa6BmeVxP9jLRhFYTHM/UYUZ/PipdD+3sIMOZ/N1P2j3eKF4Dnc/yvc1H4rTdz8NtiJ7zid4P2UkqSpHGHg/NyLmOhfLdz+kfX06iGB3P76Q4iDA6XY/\",\"dtype\":\"float64\",\"shape\":[75]},\"y\":{\"__ndarray__\":\"GhExyth1ND/Sv8nbtpRIP2vylNV0PVE/aTum7souWD/At0SJ8fVgPw3Iuahxymc/MSNhhJWvcD/bTfBN02d3P2zb5nxnaoA/CD5h5MAGhz8NmeH1TyaQP+zrCsc9p5Y/LbKd76fGnz/bLW5ISEmmPww9YvTcQq8/JV2OstnstT8Er5Y7M8G+P0c+r3jqkcU/5h99k6ZBzj88bCIzFzjVP4enV8oyxN0//yH99nXg5D8qOpLLf0jtP5kqGJXUifQ/c9cS8kHP/D+/DpwzojQEQIEmwoanVwxA4lgXt9HgE0BSSZ2AJuIbQAMJih9jjiNA5q4l5INuK0AwTKYKRj0zQNv5fmq8/DpAaCJseHrtQkB/+zpwzoxKQM3MzMzMeFJAZmZmZmZqWEAAAAAAAFxeQM3MzMzMJmJAmpmZmZkfZUBmZmZmZhhoQDMzMzMzEWtAAAAAAAAKbkBmZmZmZoFwQM3MzMzM/XFAMzMzMzN6c0CamZmZmfZ0QAAAAAAAc3ZAZmZmZmbvd0DNzMzMzGt5QDMzMzMz6HpAmpmZmZlkfEAAAAAAAOF9QGZmZmZmXX9AZmZmZuZsgECamZmZGSuBQM3MzMxM6YFAAAAAAICngkAzMzMzs2WDQGZmZmbmI4RAmpmZmRnihEDNzMzMTKCFQAAAAACAXoZAMzMzM7Mch0BmZmZm5tqHQJqZmZkZmYhAzczMzExXiUAAAAAAgBWKQDMzMzOz04pAZmZmZuaRi0CamZmZGVCMQM3MzMxMDo1AAAAAAIDMjUAzMzMzs4qOQGZmZmbmSI9A\",\"dtype\":\"float64\",\"shape\":[75]}},\"selected\":{\"id\":\"6fe62ad7-0011-41da-9e8d-a3642ffc67a4\",\"type\":\"Selection\"},\"selection_policy\":{\"id\":\"f46727e7-bf2b-4f76-9e20-7273b122ad6f\",\"type\":\"UnionRenderers\"}},\"id\":\"c912e7aa-9e10-4fb4-a6dc-b9abd5359d66\",\"type\":\"ColumnDataSource\"},{\"attributes\":{\"above\":[{\"id\":\"b814e510-3e49-48f1-be68-20302924be15\",\"type\":\"Legend\"}],\"below\":[{\"id\":\"5ff7172f-5428-4b81-ab0c-1d656850c958\",\"type\":\"LinearAxis\"}],\"left\":[{\"id\":\"5633a363-a72c-4718-8244-3a253c7875b4\",\"type\":\"LogAxis\"}],\"plot_height\":500,\"plot_width\":400,\"renderers\":[{\"id\":\"5ff7172f-5428-4b81-ab0c-1d656850c958\",\"type\":\"LinearAxis\"},{\"id\":\"37a1a56e-b747-4452-8060-da7118075fe8\",\"type\":\"Grid\"},{\"id\":\"5633a363-a72c-4718-8244-3a253c7875b4\",\"type\":\"LogAxis\"},{\"id\":\"60b36f59-77d1-4cad-a151-861786c28502\",\"type\":\"Grid\"},{\"id\":\"f1aab53e-603e-4466-924c-a80e52a0399a\",\"type\":\"BoxAnnotation\"},{\"id\":\"8957bf0e-db3d-40b4-872f-7b14c2c22df6\",\"type\":\"GlyphRenderer\"},{\"id\":\"3933000f-a142-4be2-9e89-d91e90d89f29\",\"type\":\"GlyphRenderer\"},{\"id\":\"5d61f659-0c2e-49af-b7d9-4240c1c07e2a\",\"type\":\"GlyphRenderer\"},{\"id\":\"9cb22c61-1969-4930-a25a-13b477328a23\",\"type\":\"GlyphRenderer\"},{\"id\":\"61fc94f3-9be8-42e2-aa91-571582b65f9d\",\"type\":\"GlyphRenderer\"},{\"id\":\"7c86d78f-e2cb-4cd7-b87e-f8f136718ed5\",\"type\":\"GlyphRenderer\"},{\"id\":\"b814e510-3e49-48f1-be68-20302924be15\",\"type\":\"Legend\"}],\"title\":{\"id\":\"2ed1eb80-4ea4-49a5-b31b-36f8bfc80b7e\",\"type\":\"Title\"},\"toolbar\":{\"id\":\"36d0fe6f-9791-4489-9617-c92a8f8f8380\",\"type\":\"Toolbar\"},\"toolbar_location\":null,\"x_range\":{\"id\":\"e1e1e659-8875-4cc0-b249-5d6b81c8817f\",\"type\":\"Range1d\"},\"x_scale\":{\"id\":\"86fb040f-f5b7-4c8b-a1d9-51ad7abe8505\",\"type\":\"LinearScale\"},\"y_range\":{\"id\":\"7b6237ef-c838-4697-9145-fd7c549616d8\",\"type\":\"Range1d\"},\"y_scale\":{\"id\":\"9aec6338-651e-4cb5-b98f-2924e421fc3e\",\"type\":\"LogScale\"}},\"id\":\"225585f8-bb98-40e2-80f9-db9b795ca769\",\"subtype\":\"Figure\",\"type\":\"Plot\"},{\"attributes\":{\"fill_alpha\":{\"value\":0.1},\"fill_color\":{\"value\":\"#1f77b4\"},\"line_alpha\":{\"value\":0.1},\"line_color\":{\"value\":\"#1f77b4\"},\"x\":{\"field\":\"x\"},\"y\":{\"field\":\"y\"}},\"id\":\"0a28d1b9-6f84-43ed-b545-2df3566a7d1b\",\"type\":\"Square\"},{\"attributes\":{\"callback\":null,\"data\":{\"x\":{\"__ndarray__\":\"3FG8QzOTNL9UpoSfuQA0v56rOkjFrTK/oOoozvkSMb9KVAr4ElAuv6+QYeikvSm/omXoS+hMJL/PosjmGLAbv/fy/ARS3Ai/sK9VmtU99j6oFvcCH7oaPzJFMi6+ySk/dZG+fwAjND+NeabXX4w7P8ZlMOpb/0A/dOBtuwwQRD/isYbJBWVHP3zgyiUTCEs/gGCwZ1oATz8jyrn5b6pRP9TfHIQxyFM/4hTOFFAmUj8RwW4YibBIP9eYNr46kjs/9cpHe/JIJz+vtVL82e+5PopX+i5haSC/PEMfPnIZK78s67oJTa4wv7Uk/cIW9zK/g5/mE1oXNb9KaY56GiY3v1PJC9HQyTi/CLShz4ENOr/MC5HhPKg7v5S59BiB1T2/rrhstTo2QL8EIxhEJsFBv9FO2erjekO/jiagC587Rb9nLn5/tAtHv2VaM4TV1Ui/y93qCCyWSr81ZUSA30tMv1qTVr3b4U2/ZHOHZLc8Tr9IMtOIpTlMv5MohhVkcUi/jvw5spOqQ799AimBSPI7v7/Mf+wijSy/YOAA83RZ9D41sUP2uZ0yP1RdSg6qEkM/RsETcr+TTT8T6teJU3VUP/oMD/byb1o/h3C5qkZQYD86mDlTW4BjP8pCqIynsGY/W4/IHCfjaT+Cx6lxBQhtP1GAW4nWEHA/no9AMSqYcT+hwm/MNBZzPyE2THyLkXQ/ZNJcOGL+dT9Q6cPeO1Z3PyM2AxSWfHg/++QCeXFAeT8UO/OaMop5P/kUdIJMZ3k/+krE/b79eD+6r8Y6VXV4P4pA6QpF4Xc/\",\"dtype\":\"float64\",\"shape\":[75]},\"y\":{\"__ndarray__\":\"GhExyth1ND/Sv8nbtpRIP2vylNV0PVE/aTum7souWD/At0SJ8fVgPw3Iuahxymc/MSNhhJWvcD/bTfBN02d3P2zb5nxnaoA/CD5h5MAGhz8NmeH1TyaQP+zrCsc9p5Y/LbKd76fGnz/bLW5ISEmmPww9YvTcQq8/JV2OstnstT8Er5Y7M8G+P0c+r3jqkcU/5h99k6ZBzj88bCIzFzjVP4enV8oyxN0//yH99nXg5D8qOpLLf0jtP5kqGJXUifQ/c9cS8kHP/D+/DpwzojQEQIEmwoanVwxA4lgXt9HgE0BSSZ2AJuIbQAMJih9jjiNA5q4l5INuK0AwTKYKRj0zQNv5fmq8/DpAaCJseHrtQkB/+zpwzoxKQM3MzMzMeFJAZmZmZmZqWEAAAAAAAFxeQM3MzMzMJmJAmpmZmZkfZUBmZmZmZhhoQDMzMzMzEWtAAAAAAAAKbkBmZmZmZoFwQM3MzMzM/XFAMzMzMzN6c0CamZmZmfZ0QAAAAAAAc3ZAZmZmZmbvd0DNzMzMzGt5QDMzMzMz6HpAmpmZmZlkfEAAAAAAAOF9QGZmZmZmXX9AZmZmZuZsgECamZmZGSuBQM3MzMxM6YFAAAAAAICngkAzMzMzs2WDQGZmZmbmI4RAmpmZmRnihEDNzMzMTKCFQAAAAACAXoZAMzMzM7Mch0BmZmZm5tqHQJqZmZkZmYhAzczMzExXiUAAAAAAgBWKQDMzMzOz04pAZmZmZuaRi0CamZmZGVCMQM3MzMxMDo1AAAAAAIDMjUAzMzMzs4qOQGZmZmbmSI9A\",\"dtype\":\"float64\",\"shape\":[75]}},\"selected\":{\"id\":\"64969dc7-07ec-4a79-8b7d-a4849c18ba69\",\"type\":\"Selection\"},\"selection_policy\":{\"id\":\"b7a011ab-c3d2-4011-9dad-777cc51a4310\",\"type\":\"UnionRenderers\"}},\"id\":\"87bf1159-9aff-431f-b5fa-668d86dedb92\",\"type\":\"ColumnDataSource\"},{\"attributes\":{\"line_alpha\":0.3,\"line_color\":\"#377eb8\",\"line_width\":2,\"x\":{\"field\":\"x\"},\"y\":{\"field\":\"y\"}},\"id\":\"29fb8b68-4bc3-4f4b-aa7a-44d4ce3d96b5\",\"type\":\"Line\"},{\"attributes\":{\"source\":{\"id\":\"b255a0bb-550c-4967-911c-6de91e959179\",\"type\":\"ColumnDataSource\"}},\"id\":\"86b717a2-d86b-4a7e-8562-113fc0abd11c\",\"type\":\"CDSView\"},{\"attributes\":{\"line_color\":\"#4daf4a\",\"line_width\":1.5,\"x\":{\"field\":\"x\"},\"y\":{\"field\":\"y\"}},\"id\":\"4d97c3c0-3000-4bb6-8c82-1c46fd8a891c\",\"type\":\"Line\"},{\"attributes\":{\"callback\":null,\"data\":{\"x\":{\"__ndarray__\":\"NdeZ3btPM7/aYQCYUM0yv1zgsnAenzG/L9A6YU8wML+1Y6RHpfIsvz8F7JLB2ii/4IWWPVX6I7+HEkCBHV4cv3MGkMKnUw2/2cZptXoj2D7d1l51oYwUP6FRNZdmdSU/errg6KxAMT+4i4nnc+43P4KYw1kvvj0/GXR3T6qiQT9YOBlbBaREP/zSZ0IA7Ec/TK3rFhCBSz8C99I7jmlPP5nQOQPQnVE/WyTDAXUkUD/Oz0p9X85FP7FcznN38Tc/llCjAOUtIz/3iVlHXZrpvnxtrsvQiiC/R0nq6UwmKr8ZdYnLvcgvv3g0dd8l9TG/TjqNim7gM7+F6qlpysA1v8cj8wktRje/jfccCPd8OL+B3E9TNQQ6v7enakvhGjy/Qdj2evWTPr/YUPfgrr1Avx3pdIW+W0K/l3dbsu74Q7+4imXnUJNFv8MWfqUEK0e/tNO+zj3ASL+q3xMP0lFKv+zaaBCTuUu/gZdl2pzvS7/T4NB4thBKvzs1LziXo0a/TEbpYGo8Qr+vMAAxYs85v//zbpbgkSq/h5yNYxup8T5xcxbWbFMxPzSc9leYp0E/j+M2eF13Sz9gpkYYoQBTPyVZKqDuklg/3WKgWFdfXj+CdbDHSihiPwqHUV3vKGU/2V2Au/wnaD9esGxGTCBrP94yjQmdDm4/GKM9PBV5cD/Tsa6BmeVxP9jLRhFYTHM/UYUZ/PipdD+3sIMOZ/N1P2j3eKF4Dnc/yvc1H4rTdz8NtiJ7zid4P2UkqSpHGHg/NyLmOhfLdz+kfX06iGB3P76Q4iDA6XY/\",\"dtype\":\"float64\",\"shape\":[75]},\"y\":{\"__ndarray__\":\"GhExyth1ND/Sv8nbtpRIP2vylNV0PVE/aTum7souWD/At0SJ8fVgPw3Iuahxymc/MSNhhJWvcD/bTfBN02d3P2zb5nxnaoA/CD5h5MAGhz8NmeH1TyaQP+zrCsc9p5Y/LbKd76fGnz/bLW5ISEmmPww9YvTcQq8/JV2OstnstT8Er5Y7M8G+P0c+r3jqkcU/5h99k6ZBzj88bCIzFzjVP4enV8oyxN0//yH99nXg5D8qOpLLf0jtP5kqGJXUifQ/c9cS8kHP/D+/DpwzojQEQIEmwoanVwxA4lgXt9HgE0BSSZ2AJuIbQAMJih9jjiNA5q4l5INuK0AwTKYKRj0zQNv5fmq8/DpAaCJseHrtQkB/+zpwzoxKQM3MzMzMeFJAZmZmZmZqWEAAAAAAAFxeQM3MzMzMJmJAmpmZmZkfZUBmZmZmZhhoQDMzMzMzEWtAAAAAAAAKbkBmZmZmZoFwQM3MzMzM/XFAMzMzMzN6c0CamZmZmfZ0QAAAAAAAc3ZAZmZmZmbvd0DNzMzMzGt5QDMzMzMz6HpAmpmZmZlkfEAAAAAAAOF9QGZmZmZmXX9AZmZmZuZsgECamZmZGSuBQM3MzMxM6YFAAAAAAICngkAzMzMzs2WDQGZmZmbmI4RAmpmZmRnihEDNzMzMTKCFQAAAAACAXoZAMzMzM7Mch0BmZmZm5tqHQJqZmZkZmYhAzczMzExXiUAAAAAAgBWKQDMzMzOz04pAZmZmZuaRi0CamZmZGVCMQM3MzMxMDo1AAAAAAIDMjUAzMzMzs4qOQGZmZmbmSI9A\",\"dtype\":\"float64\",\"shape\":[75]}},\"selected\":{\"id\":\"615563b8-17dd-4ad7-a064-09118fb24b6f\",\"type\":\"Selection\"},\"selection_policy\":{\"id\":\"bcee5b3b-80f6-47e8-a8cd-fb692ff07cb1\",\"type\":\"UnionRenderers\"}},\"id\":\"b255a0bb-550c-4967-911c-6de91e959179\",\"type\":\"ColumnDataSource\"},{\"attributes\":{\"fill_alpha\":{\"value\":0.7},\"fill_color\":{\"value\":\"#377eb8\"},\"line_alpha\":{\"value\":0.7},\"line_color\":{\"value\":\"#377eb8\"},\"x\":{\"field\":\"x\"},\"y\":{\"field\":\"y\"}},\"id\":\"0cebc015-1f9a-479c-bd96-7468928251a1\",\"type\":\"Triangle\"},{\"attributes\":{\"data_source\":{\"id\":\"87bf1159-9aff-431f-b5fa-668d86dedb92\",\"type\":\"ColumnDataSource\"},\"glyph\":{\"id\":\"9c881769-0329-47bc-9891-e263f4d44339\",\"type\":\"Square\"},\"hover_glyph\":null,\"muted_glyph\":null,\"nonselection_glyph\":{\"id\":\"0a28d1b9-6f84-43ed-b545-2df3566a7d1b\",\"type\":\"Square\"},\"selection_glyph\":null,\"view\":{\"id\":\"a41e3973-e1ce-4f25-9318-b14418d194c4\",\"type\":\"CDSView\"}},\"id\":\"ca0ed4ed-2a9c-47d3-a731-d033d93cba05\",\"type\":\"GlyphRenderer\"},{\"attributes\":{\"data_source\":{\"id\":\"b255a0bb-550c-4967-911c-6de91e959179\",\"type\":\"ColumnDataSource\"},\"glyph\":{\"id\":\"29fb8b68-4bc3-4f4b-aa7a-44d4ce3d96b5\",\"type\":\"Line\"},\"hover_glyph\":null,\"muted_glyph\":null,\"nonselection_glyph\":{\"id\":\"6230ce29-1149-4fb0-b0dc-56094efbca7a\",\"type\":\"Line\"},\"selection_glyph\":null,\"view\":{\"id\":\"86b717a2-d86b-4a7e-8562-113fc0abd11c\",\"type\":\"CDSView\"}},\"id\":\"ca88eb8f-c10e-4891-800f-14dd5a5c8896\",\"type\":\"GlyphRenderer\"},{\"attributes\":{\"active_drag\":\"auto\",\"active_inspect\":\"auto\",\"active_scroll\":\"auto\",\"active_tap\":\"auto\",\"tools\":[{\"id\":\"5654e2b9-9e94-4ff7-bbd8-52e2da517a5d\",\"type\":\"PanTool\"},{\"id\":\"82e54136-7559-418e-8689-efa2d464f14c\",\"type\":\"WheelZoomTool\"},{\"id\":\"bb4b8070-d1c3-4eb3-a6d6-d4b62eac11b5\",\"type\":\"BoxZoomTool\"},{\"id\":\"e1b49007-57e9-4f26-a35f-97b152a9e5de\",\"type\":\"SaveTool\"},{\"id\":\"d66f5a36-e1b3-484d-879b-c15968983380\",\"type\":\"ResetTool\"},{\"id\":\"7e39f375-d302-4106-8676-2028831e1cea\",\"type\":\"HelpTool\"}]},\"id\":\"36d0fe6f-9791-4489-9617-c92a8f8f8380\",\"type\":\"Toolbar\"},{\"attributes\":{\"fill_alpha\":{\"value\":0.7},\"fill_color\":{\"value\":\"#4daf4a\"},\"line_alpha\":{\"value\":0.7},\"line_color\":{\"value\":\"#4daf4a\"},\"x\":{\"field\":\"x\"},\"y\":{\"field\":\"y\"}},\"id\":\"89a68f87-89ec-44bf-9ac1-6c4183fbadf4\",\"type\":\"Circle\"},{\"attributes\":{\"label\":{\"value\":\"CRD\"},\"renderers\":[{\"id\":\"e5fb1752-a981-4e22-9d4f-ab7f56710f8b\",\"type\":\"GlyphRenderer\"},{\"id\":\"8a671ef9-36bb-4afe-ab72-e3eab14d0279\",\"type\":\"GlyphRenderer\"}]},\"id\":\"e94d745b-6ebb-4cdc-a93e-216197b36c3a\",\"type\":\"LegendItem\"},{\"attributes\":{\"fill_alpha\":{\"value\":0.1},\"fill_color\":{\"value\":\"#1f77b4\"},\"line_alpha\":{\"value\":0.1},\"line_color\":{\"value\":\"#1f77b4\"},\"x\":{\"field\":\"x\"},\"y\":{\"field\":\"y\"}},\"id\":\"5dd19e65-22e6-422a-aab9-87b732954ca6\",\"type\":\"Circle\"},{\"attributes\":{\"callback\":null,\"end\":0.0015294836655,\"start\":-0.0007254064155},\"id\":\"e1e1e659-8875-4cc0-b249-5d6b81c8817f\",\"type\":\"Range1d\"},{\"attributes\":{\"label\":{\"value\":\"WGT igg=1\"},\"renderers\":[{\"id\":\"ca0ed4ed-2a9c-47d3-a731-d033d93cba05\",\"type\":\"GlyphRenderer\"},{\"id\":\"c4986d4c-a4c1-4595-b3ba-8d887ff16e1c\",\"type\":\"GlyphRenderer\"}]},\"id\":\"2d88330a-bf39-409f-9a88-67660afd6224\",\"type\":\"LegendItem\"},{\"attributes\":{},\"id\":\"86fb040f-f5b7-4c8b-a1d9-51ad7abe8505\",\"type\":\"LinearScale\"},{\"attributes\":{\"label\":{\"value\":\"WGT igg=10\"},\"renderers\":[{\"id\":\"979247cb-b41f-4991-b3cb-8d87f78140d6\",\"type\":\"GlyphRenderer\"},{\"id\":\"ca88eb8f-c10e-4891-800f-14dd5a5c8896\",\"type\":\"GlyphRenderer\"}]},\"id\":\"11f80064-cdea-4101-a8ed-fcb1334d5226\",\"type\":\"LegendItem\"},{\"attributes\":{},\"id\":\"5654e2b9-9e94-4ff7-bbd8-52e2da517a5d\",\"type\":\"PanTool\"},{\"attributes\":{\"items\":[{\"id\":\"1ebf4ccd-b301-4639-b797-9c914843e5e2\",\"type\":\"LegendItem\"},{\"id\":\"944a0dab-4ae7-47f4-955e-dbe92e098d31\",\"type\":\"LegendItem\"},{\"id\":\"3f1c6231-f8eb-4e0e-a126-0e6f1556448e\",\"type\":\"LegendItem\"}],\"label_text_font_size\":{\"value\":\"8pt\"},\"location\":\"top_center\",\"orientation\":\"horizontal\",\"plot\":{\"id\":\"225585f8-bb98-40e2-80f9-db9b795ca769\",\"subtype\":\"Figure\",\"type\":\"Plot\"}},\"id\":\"b814e510-3e49-48f1-be68-20302924be15\",\"type\":\"Legend\"},{\"attributes\":{\"overlay\":{\"id\":\"f1aab53e-603e-4466-924c-a80e52a0399a\",\"type\":\"BoxAnnotation\"}},\"id\":\"bb4b8070-d1c3-4eb3-a6d6-d4b62eac11b5\",\"type\":\"BoxZoomTool\"},{\"attributes\":{},\"id\":\"9aec6338-651e-4cb5-b98f-2924e421fc3e\",\"type\":\"LogScale\"},{\"attributes\":{\"callback\":null,\"data\":{\"x\":{\"__ndarray__\":\"KV4xQfwKL7/I9JDh27Etv4EXZ9c3kyq/H/JJbe7MJr8S3KEyvkwivxHEVFr+5hm/2kssXehuCr/oQcNlGYDcPv02A7THdBM/TgaucW4fJD9zYMaxaykwP5dCUqVfTjc/5OjA8UWePz/S0lc/1g1EP5QyLra3vUc/SwHmNKQ+Sz8pbXtIYgxPP0TnYvcQmVE/ZIxOYPraUz+MeXwH705WP5NrP59lslg/EgntuATQVj9hGN/4GytQP2L4dGsM0EM/5bcqgXs7NT8PGTk1S0sfP5Aw/QbN+f2+dNRk65NVIL+uRfwvUM8nvwYGqLnLSi2/7K4dglAnMb+Z6yT3OYgzv/klDzbzWzW/3rNI2ZurNr+e5M82hTU4v5is3RdqPzq/RJVQsLWtPL9Gj76LZKw/v1sWjJtHkUG/V/LKWOFUQ7/e1O9iGyFFvyN0JRc9+Ea/E3Mhp4TcSL+NPaLYc85Kvy1OvObXoUy/bnz3334XTb/xOT1vgR9Lv86Q4LqVY0e/dgKesjycQr/fhBw9ebY5v6OjTMOVhCi/oQyaakQACT9l5AvegGQ0P3Yvo4gcuUM/eCgvC0ERTj92Hne77o5UP81OJnmsXFo/o2v+Fp8tYD81CmNx2jhjP6vNnssdRGY/5g4oBaBEaT8MjnZL1zRsP9u3NKmqEW8/zFz8R4jtcD9AT25YLUlyP6kJ1d+om3M/OiBUZJfhdD9Dkl1RWA52P7mDGv8zA3c/k3A/LlqRdz9cM0eISpl3P68gEJorK3c//ZAwtel0dj8DbZWZ95x1PwPAUD4/t3Q/\",\"dtype\":\"float64\",\"shape\":[75]},\"y\":{\"__ndarray__\":\"GhExyth1ND/Sv8nbtpRIP2vylNV0PVE/aTum7souWD/At0SJ8fVgPw3Iuahxymc/MSNhhJWvcD/bTfBN02d3P2zb5nxnaoA/CD5h5MAGhz8NmeH1TyaQP+zrCsc9p5Y/LbKd76fGnz/bLW5ISEmmPww9YvTcQq8/JV2OstnstT8Er5Y7M8G+P0c+r3jqkcU/5h99k6ZBzj88bCIzFzjVP4enV8oyxN0//yH99nXg5D8qOpLLf0jtP5kqGJXUifQ/c9cS8kHP/D+/DpwzojQEQIEmwoanVwxA4lgXt9HgE0BSSZ2AJuIbQAMJih9jjiNA5q4l5INuK0AwTKYKRj0zQNv5fmq8/DpAaCJseHrtQkB/+zpwzoxKQM3MzMzMeFJAZmZmZmZqWEAAAAAAAFxeQM3MzMzMJmJAmpmZmZkfZUBmZmZmZhhoQDMzMzMzEWtAAAAAAAAKbkBmZmZmZoFwQM3MzMzM/XFAMzMzMzN6c0CamZmZmfZ0QAAAAAAAc3ZAZmZmZmbvd0DNzMzMzGt5QDMzMzMz6HpAmpmZmZlkfEAAAAAAAOF9QGZmZmZmXX9AZmZmZuZsgECamZmZGSuBQM3MzMxM6YFAAAAAAICngkAzMzMzs2WDQGZmZmbmI4RAmpmZmRnihEDNzMzMTKCFQAAAAACAXoZAMzMzM7Mch0BmZmZm5tqHQJqZmZkZmYhAzczMzExXiUAAAAAAgBWKQDMzMzOz04pAZmZmZuaRi0CamZmZGVCMQM3MzMxMDo1AAAAAAIDMjUAzMzMzs4qOQGZmZmbmSI9A\",\"dtype\":\"float64\",\"shape\":[75]}},\"selected\":{\"id\":\"c9813bd9-b853-4641-9a9b-33e5691205b2\",\"type\":\"Selection\"},\"selection_policy\":{\"id\":\"3897992b-ef70-439a-b598-99fea2e271de\",\"type\":\"UnionRenderers\"}},\"id\":\"bca83766-5e99-4bce-b404-1e070dc5e359\",\"type\":\"ColumnDataSource\"},{\"attributes\":{\"axis_label\":\"cooling rate [K/day]\",\"formatter\":{\"id\":\"61ed74c6-56d8-4ebc-ac4b-5d17d39d0f71\",\"type\":\"BasicTickFormatter\"},\"plot\":{\"id\":\"225585f8-bb98-40e2-80f9-db9b795ca769\",\"subtype\":\"Figure\",\"type\":\"Plot\"},\"ticker\":{\"id\":\"224f6c6a-84af-4005-be70-e15780439874\",\"type\":\"BasicTicker\"}},\"id\":\"5ff7172f-5428-4b81-ab0c-1d656850c958\",\"type\":\"LinearAxis\"},{\"attributes\":{},\"id\":\"224f6c6a-84af-4005-be70-e15780439874\",\"type\":\"BasicTicker\"},{\"attributes\":{\"bottom_units\":\"screen\",\"fill_alpha\":{\"value\":0.5},\"fill_color\":{\"value\":\"lightgrey\"},\"left_units\":\"screen\",\"level\":\"overlay\",\"line_alpha\":{\"value\":1.0},\"line_color\":{\"value\":\"black\"},\"line_dash\":[4,4],\"line_width\":{\"value\":2},\"plot\":null,\"render_mode\":\"css\",\"right_units\":\"screen\",\"top_units\":\"screen\"},\"id\":\"f1aab53e-603e-4466-924c-a80e52a0399a\",\"type\":\"BoxAnnotation\"},{\"attributes\":{\"data_source\":{\"id\":\"bca83766-5e99-4bce-b404-1e070dc5e359\",\"type\":\"ColumnDataSource\"},\"glyph\":{\"id\":\"89a68f87-89ec-44bf-9ac1-6c4183fbadf4\",\"type\":\"Circle\"},\"hover_glyph\":null,\"muted_glyph\":null,\"nonselection_glyph\":{\"id\":\"5dd19e65-22e6-422a-aab9-87b732954ca6\",\"type\":\"Circle\"},\"selection_glyph\":null,\"view\":{\"id\":\"30c7dd37-6a92-483d-b616-123726f3cf45\",\"type\":\"CDSView\"}},\"id\":\"e5fb1752-a981-4e22-9d4f-ab7f56710f8b\",\"type\":\"GlyphRenderer\"},{\"attributes\":{},\"id\":\"e1b49007-57e9-4f26-a35f-97b152a9e5de\",\"type\":\"SaveTool\"},{\"attributes\":{},\"id\":\"d66f5a36-e1b3-484d-879b-c15968983380\",\"type\":\"ResetTool\"},{\"attributes\":{},\"id\":\"7e39f375-d302-4106-8676-2028831e1cea\",\"type\":\"HelpTool\"},{\"attributes\":{},\"id\":\"64969dc7-07ec-4a79-8b7d-a4849c18ba69\",\"type\":\"Selection\"},{\"attributes\":{\"callback\":null,\"data\":{\"x\":{\"__ndarray__\":\"KV4xQfwKL7/I9JDh27Etv4EXZ9c3kyq/H/JJbe7MJr8S3KEyvkwivxHEVFr+5hm/2kssXehuCr/oQcNlGYDcPv02A7THdBM/TgaucW4fJD9zYMaxaykwP5dCUqVfTjc/5OjA8UWePz/S0lc/1g1EP5QyLra3vUc/SwHmNKQ+Sz8pbXtIYgxPP0TnYvcQmVE/ZIxOYPraUz+MeXwH705WP5NrP59lslg/EgntuATQVj9hGN/4GytQP2L4dGsM0EM/5bcqgXs7NT8PGTk1S0sfP5Aw/QbN+f2+dNRk65NVIL+uRfwvUM8nvwYGqLnLSi2/7K4dglAnMb+Z6yT3OYgzv/klDzbzWzW/3rNI2ZurNr+e5M82hTU4v5is3RdqPzq/RJVQsLWtPL9Gj76LZKw/v1sWjJtHkUG/V/LKWOFUQ7/e1O9iGyFFvyN0JRc9+Ea/E3Mhp4TcSL+NPaLYc85Kvy1OvObXoUy/bnz3334XTb/xOT1vgR9Lv86Q4LqVY0e/dgKesjycQr/fhBw9ebY5v6OjTMOVhCi/oQyaakQACT9l5AvegGQ0P3Yvo4gcuUM/eCgvC0ERTj92Hne77o5UP81OJnmsXFo/o2v+Fp8tYD81CmNx2jhjP6vNnssdRGY/5g4oBaBEaT8MjnZL1zRsP9u3NKmqEW8/zFz8R4jtcD9AT25YLUlyP6kJ1d+om3M/OiBUZJfhdD9Dkl1RWA52P7mDGv8zA3c/k3A/LlqRdz9cM0eISpl3P68gEJorK3c//ZAwtel0dj8DbZWZ95x1PwPAUD4/t3Q/\",\"dtype\":\"float64\",\"shape\":[75]},\"y\":{\"__ndarray__\":\"GhExyth1ND/Sv8nbtpRIP2vylNV0PVE/aTum7souWD/At0SJ8fVgPw3Iuahxymc/MSNhhJWvcD/bTfBN02d3P2zb5nxnaoA/CD5h5MAGhz8NmeH1TyaQP+zrCsc9p5Y/LbKd76fGnz/bLW5ISEmmPww9YvTcQq8/JV2OstnstT8Er5Y7M8G+P0c+r3jqkcU/5h99k6ZBzj88bCIzFzjVP4enV8oyxN0//yH99nXg5D8qOpLLf0jtP5kqGJXUifQ/c9cS8kHP/D+/DpwzojQEQIEmwoanVwxA4lgXt9HgE0BSSZ2AJuIbQAMJih9jjiNA5q4l5INuK0AwTKYKRj0zQNv5fmq8/DpAaCJseHrtQkB/+zpwzoxKQM3MzMzMeFJAZmZmZmZqWEAAAAAAAFxeQM3MzMzMJmJAmpmZmZkfZUBmZmZmZhhoQDMzMzMzEWtAAAAAAAAKbkBmZmZmZoFwQM3MzMzM/XFAMzMzMzN6c0CamZmZmfZ0QAAAAAAAc3ZAZmZmZmbvd0DNzMzMzGt5QDMzMzMz6HpAmpmZmZlkfEAAAAAAAOF9QGZmZmZmXX9AZmZmZuZsgECamZmZGSuBQM3MzMxM6YFAAAAAAICngkAzMzMzs2WDQGZmZmbmI4RAmpmZmRnihEDNzMzMTKCFQAAAAACAXoZAMzMzM7Mch0BmZmZm5tqHQJqZmZkZmYhAzczMzExXiUAAAAAAgBWKQDMzMzOz04pAZmZmZuaRi0CamZmZGVCMQM3MzMxMDo1AAAAAAIDMjUAzMzMzs4qOQGZmZmbmSI9A\",\"dtype\":\"float64\",\"shape\":[75]}},\"selected\":{\"id\":\"d1056567-051d-42f9-b7d4-3bc30f363e43\",\"type\":\"Selection\"},\"selection_policy\":{\"id\":\"32ca6b23-efab-42ce-b0df-61ad68ff3024\",\"type\":\"UnionRenderers\"}},\"id\":\"c8234513-bd46-4781-8cd7-103a91ba992b\",\"type\":\"ColumnDataSource\"},{\"attributes\":{\"callback\":null,\"end\":0.01,\"start\":1020},\"id\":\"7b6237ef-c838-4697-9145-fd7c549616d8\",\"type\":\"Range1d\"}],\"root_ids\":[\"13cf4920-e0ef-4b55-b723-bbaa731d99a7\"]},\"title\":\"Bokeh Application\",\"version\":\"0.12.16\"}};\n",
       "  var render_items = [{\"docid\":\"1ca3eebd-388b-46b3-a901-3ae718ec6256\",\"elementid\":\"a89d4367-34c4-4bd5-9a47-79303bcad5e4\",\"modelid\":\"13cf4920-e0ef-4b55-b723-bbaa731d99a7\"}];\n",
       "  root.Bokeh.embed.embed_items_notebook(docs_json, render_items);\n",
       "\n",
       "  }\n",
       "  if (root.Bokeh !== undefined) {\n",
       "    embed_document(root);\n",
       "  } else {\n",
       "    var attempts = 0;\n",
       "    var timer = setInterval(function(root) {\n",
       "      if (root.Bokeh !== undefined) {\n",
       "        embed_document(root);\n",
       "        clearInterval(timer);\n",
       "      }\n",
       "      attempts++;\n",
       "      if (attempts > 100) {\n",
       "        console.log(\"Bokeh: ERROR: Unable to run BokehJS code because BokehJS library is missing\")\n",
       "        clearInterval(timer);\n",
       "      }\n",
       "    }, 10, root)\n",
       "  }\n",
       "})(window);"
      ],
      "application/vnd.bokehjs_exec.v0+json": ""
     },
     "metadata": {
      "application/vnd.bokehjs_exec.v0+json": {
       "id": "13cf4920-e0ef-4b55-b723-bbaa731d99a7"
      }
     },
     "output_type": "display_data"
    },
    {
     "data": {
      "text/markdown": [
       "*FIGURE.* Cooling rates. g=4"
      ],
      "text/plain": [
       "<IPython.core.display.Markdown object>"
      ]
     },
     "metadata": {},
     "output_type": "display_data"
    },
    {
     "data": {
      "text/html": [
       "\n",
       "<div class=\"bk-root\">\n",
       "    <div class=\"bk-plotdiv\" id=\"dd01a9d8-5530-4661-bcd6-37ecb1028ccd\"></div>\n",
       "</div>"
      ]
     },
     "metadata": {},
     "output_type": "display_data"
    },
    {
     "data": {
      "application/javascript": [
       "(function(root) {\n",
       "  function embed_document(root) {\n",
       "    \n",
       "  var docs_json = {\"04152b78-f25d-41cf-ac6b-8e0eab67ea24\":{\"roots\":{\"references\":[{\"attributes\":{},\"id\":\"5373a46c-98eb-4451-836b-98dab588f399\",\"type\":\"ResetTool\"},{\"attributes\":{},\"id\":\"597ba48e-7c69-4637-adc0-a2d112faf781\",\"type\":\"HelpTool\"},{\"attributes\":{\"fill_alpha\":{\"value\":0.7},\"fill_color\":{\"value\":\"#4daf4a\"},\"line_alpha\":{\"value\":0.7},\"line_color\":{\"value\":\"#4daf4a\"},\"x\":{\"field\":\"x\"},\"y\":{\"field\":\"y\"}},\"id\":\"89679416-9c91-4357-89c2-9b66b6cd3da3\",\"type\":\"Circle\"},{\"attributes\":{\"bottom_units\":\"screen\",\"fill_alpha\":{\"value\":0.5},\"fill_color\":{\"value\":\"lightgrey\"},\"left_units\":\"screen\",\"level\":\"overlay\",\"line_alpha\":{\"value\":1.0},\"line_color\":{\"value\":\"black\"},\"line_dash\":[4,4],\"line_width\":{\"value\":2},\"plot\":null,\"render_mode\":\"css\",\"right_units\":\"screen\",\"top_units\":\"screen\"},\"id\":\"5da0d39a-962c-4a0a-870a-45dc5ff6d838\",\"type\":\"BoxAnnotation\"},{\"attributes\":{\"fill_alpha\":{\"value\":0.1},\"fill_color\":{\"value\":\"#1f77b4\"},\"line_alpha\":{\"value\":0.1},\"line_color\":{\"value\":\"#1f77b4\"},\"x\":{\"field\":\"x\"},\"y\":{\"field\":\"y\"}},\"id\":\"490ede65-02cc-48f6-812a-3be8abb7841d\",\"type\":\"Circle\"},{\"attributes\":{\"data_source\":{\"id\":\"ad29b646-cc42-4226-b037-ba2dc42db872\",\"type\":\"ColumnDataSource\"},\"glyph\":{\"id\":\"89679416-9c91-4357-89c2-9b66b6cd3da3\",\"type\":\"Circle\"},\"hover_glyph\":null,\"muted_glyph\":null,\"nonselection_glyph\":{\"id\":\"490ede65-02cc-48f6-812a-3be8abb7841d\",\"type\":\"Circle\"},\"selection_glyph\":null,\"view\":{\"id\":\"93d05a40-a6f4-4f3f-a3ef-f9c357dc8036\",\"type\":\"CDSView\"}},\"id\":\"6aee171d-3238-4a83-92b2-21834c4512da\",\"type\":\"GlyphRenderer\"},{\"attributes\":{\"callback\":null,\"data\":{\"x\":{\"__ndarray__\":\"1GDle71spb8TLzWV++qjv4TDUoAvmKC/vib58MPVmb85VHYwnt6Rv5Eu/jQvYoK/yI/r1Dy2KT938AfwT6uEPwDQM2BZPJU/yKnM+n91oD8jk95HgLGmP33THCf0Ua0/FUDBXaclsj8y52Dj2ky1P4cnAhcpmLc/1Y2/K+pjuT+mo8YNFRC7P7dWngQlnbw/IR/hOFsRvj+gSQ59vYW/P6KkfihtdcA/j5WQaxaHvT+RhbfeFsi0P/y7yfedwqk/FDqpHIx5nj/NDWBAd2yRP9dDD21pHoM/OIMfRzLidz+1kje4pE51PzOorUazCHQ/TzCnRNhTcD+9nNCUFHdlP5ZEFb0VwmA/rA2dgxs/ZD+/5YDcDjBmP9VwDYw1BWY/FC66prmYYz+mjQhgivhWP8BbtiNsx/i+eEIdnI7EV7/IzH2qdV9ov37705vxIXO/PAM4TgQre78vdSyeMHaCv3vILzyPKIi/NhtR4uT4ir/R2uXrtIuIv4eQgoVdHYS/QTRMalChf78zRCxuaAV3v951uQ2sOmy/HgsnUuoYU797zAJrVjJUP2iC+n6IrW4/jbtPWOEFej+tRpcS+3qCP8ePtERe+4c/Lf3Ck81mjT+l+LnXiU+RP38bIyURxpM/HqdpKPAPlj8u727J2C6YP3QBCytNKpo/gWyA3YgPnD9QA7BI5u2dPwoBujI10p8/UYb3S7XeoD8X5GH82MahP0peqz0ubaI/yTjTNzp9oj9npnmGHMChP2vvUjBDWKA/dgOf5fIynT9nEBRtc4GZP7gM80pOw5U/\",\"dtype\":\"float64\",\"shape\":[75]},\"y\":{\"__ndarray__\":\"GhExyth1ND/Sv8nbtpRIP2vylNV0PVE/aTum7souWD/At0SJ8fVgPw3Iuahxymc/MSNhhJWvcD/bTfBN02d3P2zb5nxnaoA/CD5h5MAGhz8NmeH1TyaQP+zrCsc9p5Y/LbKd76fGnz/bLW5ISEmmPww9YvTcQq8/JV2OstnstT8Er5Y7M8G+P0c+r3jqkcU/5h99k6ZBzj88bCIzFzjVP4enV8oyxN0//yH99nXg5D8qOpLLf0jtP5kqGJXUifQ/c9cS8kHP/D+/DpwzojQEQIEmwoanVwxA4lgXt9HgE0BSSZ2AJuIbQAMJih9jjiNA5q4l5INuK0AwTKYKRj0zQNv5fmq8/DpAaCJseHrtQkB/+zpwzoxKQM3MzMzMeFJAZmZmZmZqWEAAAAAAAFxeQM3MzMzMJmJAmpmZmZkfZUBmZmZmZhhoQDMzMzMzEWtAAAAAAAAKbkBmZmZmZoFwQM3MzMzM/XFAMzMzMzN6c0CamZmZmfZ0QAAAAAAAc3ZAZmZmZmbvd0DNzMzMzGt5QDMzMzMz6HpAmpmZmZlkfEAAAAAAAOF9QGZmZmZmXX9AZmZmZuZsgECamZmZGSuBQM3MzMxM6YFAAAAAAICngkAzMzMzs2WDQGZmZmbmI4RAmpmZmRnihEDNzMzMTKCFQAAAAACAXoZAMzMzM7Mch0BmZmZm5tqHQJqZmZkZmYhAzczMzExXiUAAAAAAgBWKQDMzMzOz04pAZmZmZuaRi0CamZmZGVCMQM3MzMxMDo1AAAAAAIDMjUAzMzMzs4qOQGZmZmbmSI9A\",\"dtype\":\"float64\",\"shape\":[75]}},\"selected\":{\"id\":\"21b73749-7d57-4e54-91b5-75727fff5274\",\"type\":\"Selection\"},\"selection_policy\":{\"id\":\"5d9e6e18-5117-4439-a5cb-51129d942e7d\",\"type\":\"UnionRenderers\"}},\"id\":\"7c04d64d-2ced-444b-9056-5d5e3ffd0c94\",\"type\":\"ColumnDataSource\"},{\"attributes\":{\"source\":{\"id\":\"fc15a8de-fc39-4c5e-a6f8-1b59826f46c2\",\"type\":\"ColumnDataSource\"}},\"id\":\"37de2211-d109-4467-bc69-fc997badc310\",\"type\":\"CDSView\"},{\"attributes\":{\"fill_alpha\":{\"value\":0.7},\"fill_color\":{\"value\":\"#984ea3\"},\"line_alpha\":{\"value\":0.7},\"line_color\":{\"value\":\"#984ea3\"},\"x\":{\"field\":\"x\"},\"y\":{\"field\":\"y\"}},\"id\":\"4620d70c-1537-4a39-8845-47c4d70c19ff\",\"type\":\"Square\"},{\"attributes\":{},\"id\":\"323b9f14-4de6-437d-a931-8423b699c8eb\",\"type\":\"SaveTool\"},{\"attributes\":{\"line_alpha\":0.1,\"line_color\":\"#1f77b4\",\"line_width\":1.5,\"x\":{\"field\":\"x\"},\"y\":{\"field\":\"y\"}},\"id\":\"2c3d74bd-1ee4-4117-864d-19daf52f3a7d\",\"type\":\"Line\"},{\"attributes\":{\"callback\":null,\"data\":{\"x\":{\"__ndarray__\":\"0rA9Jv1gg7+VSs64/R1/v0re0klyDm2/ViufoPGxTz9Vylg1lUx4PyJDpr3DUYc/kub0RDbJkT/feGClj3CYP5g7D0q6zJ8/KPq/U7Xcoz8rucSjizGoP4fjAYHB26w/Asts+BzwsD/lLqlB4VGzP+gPGsQJO7U/knSDdIbrtj8SRFnsgKS4P3nI+h2lZ7o/WWnM5nc1vD9XZDwhehC+P2v9b19xxr8/En/EsbjavT9Qx9Fo0ZG3P47+6cFoDbE/qpAKKet9pz/PupZhOSOePyyiEG2fLZE/DKs6b5vogT+f6yUbiWx0P66pT0IY1Gk/aZ19ClkxXz/J+dKiL7RNP1Kfuxow/Us/htCxb3wCWj/BIgve4nxeP2s7NYt121g/0j1G+hc6Rj+gSNvv749Kv96L2Xet/GW/LvfNo22wcr+9XNC+5qZ6v5oSK/YMjIG/ZFy2cc8dhr/GqAQvLiGLv2CQAs/JIpC/eDqmZa02kb8+FWPnmMCPvxExXLh13oq/rzaQli+vhb+My3j0/kuAv8yyjN9FVXW/NfEMWmoyY7/Myps84qxEP+AYS0CNWm4/wkm60wYHfD+hYVdtiH+EP8+PzYF874o/PzaGhzWakD9ZbH44m5mTP7GffVhzaJY/PzaaewcBmT9ksLBc0WKbP85ixpqGlJ0/1J40d5qgnz8gaXyi38igP14E7I4XuaE/FE+l/nSeoj8viskyEmmjPz6xB8Bj66M/vdmWGVTeoz8QjRAoahajP2zWqzNRsqE/fImHBxX2nz/y/37H5FOcPxTwn0B1r5g/\",\"dtype\":\"float64\",\"shape\":[75]},\"y\":{\"__ndarray__\":\"GhExyth1ND/Sv8nbtpRIP2vylNV0PVE/aTum7souWD/At0SJ8fVgPw3Iuahxymc/MSNhhJWvcD/bTfBN02d3P2zb5nxnaoA/CD5h5MAGhz8NmeH1TyaQP+zrCsc9p5Y/LbKd76fGnz/bLW5ISEmmPww9YvTcQq8/JV2OstnstT8Er5Y7M8G+P0c+r3jqkcU/5h99k6ZBzj88bCIzFzjVP4enV8oyxN0//yH99nXg5D8qOpLLf0jtP5kqGJXUifQ/c9cS8kHP/D+/DpwzojQEQIEmwoanVwxA4lgXt9HgE0BSSZ2AJuIbQAMJih9jjiNA5q4l5INuK0AwTKYKRj0zQNv5fmq8/DpAaCJseHrtQkB/+zpwzoxKQM3MzMzMeFJAZmZmZmZqWEAAAAAAAFxeQM3MzMzMJmJAmpmZmZkfZUBmZmZmZhhoQDMzMzMzEWtAAAAAAAAKbkBmZmZmZoFwQM3MzMzM/XFAMzMzMzN6c0CamZmZmfZ0QAAAAAAAc3ZAZmZmZmbvd0DNzMzMzGt5QDMzMzMz6HpAmpmZmZlkfEAAAAAAAOF9QGZmZmZmXX9AZmZmZuZsgECamZmZGSuBQM3MzMxM6YFAAAAAAICngkAzMzMzs2WDQGZmZmbmI4RAmpmZmRnihEDNzMzMTKCFQAAAAACAXoZAMzMzM7Mch0BmZmZm5tqHQJqZmZkZmYhAzczMzExXiUAAAAAAgBWKQDMzMzOz04pAZmZmZuaRi0CamZmZGVCMQM3MzMxMDo1AAAAAAIDMjUAzMzMzs4qOQGZmZmbmSI9A\",\"dtype\":\"float64\",\"shape\":[75]}},\"selected\":{\"id\":\"127d385d-68d3-4bf2-8b80-dcf4cc598710\",\"type\":\"Selection\"},\"selection_policy\":{\"id\":\"7e414deb-6952-43c3-a962-36e07061f0e2\",\"type\":\"UnionRenderers\"}},\"id\":\"78424d3f-62ee-44e2-bdd9-ef88d70267c4\",\"type\":\"ColumnDataSource\"},{\"attributes\":{\"fill_alpha\":{\"value\":0.1},\"fill_color\":{\"value\":\"#1f77b4\"},\"line_alpha\":{\"value\":0.1},\"line_color\":{\"value\":\"#1f77b4\"},\"x\":{\"field\":\"x\"},\"y\":{\"field\":\"y\"}},\"id\":\"3ff179c4-b951-461a-89f5-335a195066a7\",\"type\":\"Square\"},{\"attributes\":{\"data_source\":{\"id\":\"fc15a8de-fc39-4c5e-a6f8-1b59826f46c2\",\"type\":\"ColumnDataSource\"},\"glyph\":{\"id\":\"57a9cd03-67b4-47ce-a82e-01616edb75d5\",\"type\":\"Line\"},\"hover_glyph\":null,\"muted_glyph\":null,\"nonselection_glyph\":{\"id\":\"2c3d74bd-1ee4-4117-864d-19daf52f3a7d\",\"type\":\"Line\"},\"selection_glyph\":null,\"view\":{\"id\":\"37de2211-d109-4467-bc69-fc997badc310\",\"type\":\"CDSView\"}},\"id\":\"949a025a-7300-4e14-a7da-7e9e3394daf7\",\"type\":\"GlyphRenderer\"},{\"attributes\":{\"line_color\":\"#4daf4a\",\"line_width\":1.5,\"x\":{\"field\":\"x\"},\"y\":{\"field\":\"y\"}},\"id\":\"57a9cd03-67b4-47ce-a82e-01616edb75d5\",\"type\":\"Line\"},{\"attributes\":{\"source\":{\"id\":\"ad29b646-cc42-4226-b037-ba2dc42db872\",\"type\":\"ColumnDataSource\"}},\"id\":\"93d05a40-a6f4-4f3f-a3ef-f9c357dc8036\",\"type\":\"CDSView\"},{\"attributes\":{\"callback\":null,\"data\":{\"x\":{\"__ndarray__\":\"1GDle71spb8TLzWV++qjv4TDUoAvmKC/vib58MPVmb85VHYwnt6Rv5Eu/jQvYoK/yI/r1Dy2KT938AfwT6uEPwDQM2BZPJU/yKnM+n91oD8jk95HgLGmP33THCf0Ua0/FUDBXaclsj8y52Dj2ky1P4cnAhcpmLc/1Y2/K+pjuT+mo8YNFRC7P7dWngQlnbw/IR/hOFsRvj+gSQ59vYW/P6KkfihtdcA/j5WQaxaHvT+RhbfeFsi0P/y7yfedwqk/FDqpHIx5nj/NDWBAd2yRP9dDD21pHoM/OIMfRzLidz+1kje4pE51PzOorUazCHQ/TzCnRNhTcD+9nNCUFHdlP5ZEFb0VwmA/rA2dgxs/ZD+/5YDcDjBmP9VwDYw1BWY/FC66prmYYz+mjQhgivhWP8BbtiNsx/i+eEIdnI7EV7/IzH2qdV9ov37705vxIXO/PAM4TgQre78vdSyeMHaCv3vILzyPKIi/NhtR4uT4ir/R2uXrtIuIv4eQgoVdHYS/QTRMalChf78zRCxuaAV3v951uQ2sOmy/HgsnUuoYU797zAJrVjJUP2iC+n6IrW4/jbtPWOEFej+tRpcS+3qCP8ePtERe+4c/Lf3Ck81mjT+l+LnXiU+RP38bIyURxpM/HqdpKPAPlj8u727J2C6YP3QBCytNKpo/gWyA3YgPnD9QA7BI5u2dPwoBujI10p8/UYb3S7XeoD8X5GH82MahP0peqz0ubaI/yTjTNzp9oj9npnmGHMChP2vvUjBDWKA/dgOf5fIynT9nEBRtc4GZP7gM80pOw5U/\",\"dtype\":\"float64\",\"shape\":[75]},\"y\":{\"__ndarray__\":\"GhExyth1ND/Sv8nbtpRIP2vylNV0PVE/aTum7souWD/At0SJ8fVgPw3Iuahxymc/MSNhhJWvcD/bTfBN02d3P2zb5nxnaoA/CD5h5MAGhz8NmeH1TyaQP+zrCsc9p5Y/LbKd76fGnz/bLW5ISEmmPww9YvTcQq8/JV2OstnstT8Er5Y7M8G+P0c+r3jqkcU/5h99k6ZBzj88bCIzFzjVP4enV8oyxN0//yH99nXg5D8qOpLLf0jtP5kqGJXUifQ/c9cS8kHP/D+/DpwzojQEQIEmwoanVwxA4lgXt9HgE0BSSZ2AJuIbQAMJih9jjiNA5q4l5INuK0AwTKYKRj0zQNv5fmq8/DpAaCJseHrtQkB/+zpwzoxKQM3MzMzMeFJAZmZmZmZqWEAAAAAAAFxeQM3MzMzMJmJAmpmZmZkfZUBmZmZmZhhoQDMzMzMzEWtAAAAAAAAKbkBmZmZmZoFwQM3MzMzM/XFAMzMzMzN6c0CamZmZmfZ0QAAAAAAAc3ZAZmZmZmbvd0DNzMzMzGt5QDMzMzMz6HpAmpmZmZlkfEAAAAAAAOF9QGZmZmZmXX9AZmZmZuZsgECamZmZGSuBQM3MzMxM6YFAAAAAAICngkAzMzMzs2WDQGZmZmbmI4RAmpmZmRnihEDNzMzMTKCFQAAAAACAXoZAMzMzM7Mch0BmZmZm5tqHQJqZmZkZmYhAzczMzExXiUAAAAAAgBWKQDMzMzOz04pAZmZmZuaRi0CamZmZGVCMQM3MzMxMDo1AAAAAAIDMjUAzMzMzs4qOQGZmZmbmSI9A\",\"dtype\":\"float64\",\"shape\":[75]}},\"selected\":{\"id\":\"606c7f21-68a4-42c3-9638-2a781c122c6a\",\"type\":\"Selection\"},\"selection_policy\":{\"id\":\"2e595f6a-6901-486a-a725-ebcf5fa9dacd\",\"type\":\"UnionRenderers\"}},\"id\":\"fc15a8de-fc39-4c5e-a6f8-1b59826f46c2\",\"type\":\"ColumnDataSource\"},{\"attributes\":{},\"id\":\"7ea7b9a5-3380-4d84-b9de-21e95bc26ade\",\"type\":\"UnionRenderers\"},{\"attributes\":{},\"id\":\"1237cc54-de87-4673-8cdb-7c7e86e3b311\",\"type\":\"Selection\"},{\"attributes\":{},\"id\":\"452ca534-99d7-4239-88e9-865ed08cbda4\",\"type\":\"UnionRenderers\"},{\"attributes\":{},\"id\":\"22345313-2885-4af9-917a-5c939551708f\",\"type\":\"Selection\"},{\"attributes\":{},\"id\":\"496ae1f0-2316-407d-9186-a067f5e0aba5\",\"type\":\"UnionRenderers\"},{\"attributes\":{},\"id\":\"eaed3748-ee0c-4d00-baa8-4456a5bda8e3\",\"type\":\"Selection\"},{\"attributes\":{},\"id\":\"c85c2258-a1c3-4cc0-99e1-b3d9f81a691b\",\"type\":\"UnionRenderers\"},{\"attributes\":{},\"id\":\"1409b892-fcc8-4a59-a7b7-a487c74db734\",\"type\":\"Selection\"},{\"attributes\":{},\"id\":\"52884c0a-f9c9-4999-92d7-f06bfe65d452\",\"type\":\"UnionRenderers\"},{\"attributes\":{},\"id\":\"c38cf841-f41e-4d2d-9e49-9c2fe3f2c587\",\"type\":\"Selection\"},{\"attributes\":{\"children\":[{\"id\":\"b240b605-982d-4cbc-b56b-cdf2a771d1a8\",\"type\":\"ToolbarBox\"},{\"id\":\"2c11799a-23b8-4340-88b8-58273ee91074\",\"type\":\"Column\"}]},\"id\":\"7af4714f-4315-4d6f-bed5-0c272c773e70\",\"type\":\"Column\"},{\"attributes\":{\"tools\":[{\"id\":\"c7733bb2-d6db-49ca-88c7-65733e00fe33\",\"type\":\"PanTool\"},{\"id\":\"df76fe43-40b4-4a90-96ea-bca516812f6d\",\"type\":\"WheelZoomTool\"},{\"id\":\"44a3bcf7-af6f-449b-ab49-3354194c4075\",\"type\":\"BoxZoomTool\"},{\"id\":\"4240f6e9-64f7-4797-88cf-0a72cfd7f0c8\",\"type\":\"SaveTool\"},{\"id\":\"d059458b-8cf7-44bd-add4-9342ea87580e\",\"type\":\"ResetTool\"},{\"id\":\"a78f9f79-70c1-4892-8f2d-132d4673f18d\",\"type\":\"HelpTool\"},{\"id\":\"3531dbb5-d023-458d-b539-04d698b87358\",\"type\":\"PanTool\"},{\"id\":\"74270d7d-c72f-4712-8272-54543a17d357\",\"type\":\"WheelZoomTool\"},{\"id\":\"c3b91c5c-7aa7-49a8-9911-b05364daf1ca\",\"type\":\"BoxZoomTool\"},{\"id\":\"323b9f14-4de6-437d-a931-8423b699c8eb\",\"type\":\"SaveTool\"},{\"id\":\"5373a46c-98eb-4451-836b-98dab588f399\",\"type\":\"ResetTool\"},{\"id\":\"597ba48e-7c69-4637-adc0-a2d112faf781\",\"type\":\"HelpTool\"}]},\"id\":\"37fa61a5-85a1-483c-95e0-16c6b6d22426\",\"type\":\"ProxyToolbar\"},{\"attributes\":{\"toolbar\":{\"id\":\"37fa61a5-85a1-483c-95e0-16c6b6d22426\",\"type\":\"ProxyToolbar\"},\"toolbar_location\":\"above\"},\"id\":\"b240b605-982d-4cbc-b56b-cdf2a771d1a8\",\"type\":\"ToolbarBox\"},{\"attributes\":{\"above\":[{\"id\":\"ac0c9ca3-6202-4b26-8981-9437f8829d5f\",\"type\":\"Legend\"}],\"below\":[{\"id\":\"5e0b12a3-4982-4d70-8e3b-1e56863df5cb\",\"type\":\"LinearAxis\"}],\"left\":[{\"id\":\"d8242e8e-411b-410a-9209-bb32dbb5affd\",\"type\":\"LinearAxis\"}],\"plot_height\":500,\"plot_width\":400,\"renderers\":[{\"id\":\"5e0b12a3-4982-4d70-8e3b-1e56863df5cb\",\"type\":\"LinearAxis\"},{\"id\":\"a4b753a7-83f6-4aeb-a467-ccb403d50f08\",\"type\":\"Grid\"},{\"id\":\"d8242e8e-411b-410a-9209-bb32dbb5affd\",\"type\":\"LinearAxis\"},{\"id\":\"e7650a0c-12f3-4dbe-8f73-e62257d62844\",\"type\":\"Grid\"},{\"id\":\"865830ba-4a53-4a11-9e23-71297d7bba04\",\"type\":\"BoxAnnotation\"},{\"id\":\"6aee171d-3238-4a83-92b2-21834c4512da\",\"type\":\"GlyphRenderer\"},{\"id\":\"949a025a-7300-4e14-a7da-7e9e3394daf7\",\"type\":\"GlyphRenderer\"},{\"id\":\"0b19fe2d-b21c-47b7-af69-74a7363e1d55\",\"type\":\"GlyphRenderer\"},{\"id\":\"310136f3-83f5-456e-b0a4-1ede962dc4a4\",\"type\":\"GlyphRenderer\"},{\"id\":\"2cdc3051-a722-4d5d-a16e-5934b57338f2\",\"type\":\"GlyphRenderer\"},{\"id\":\"aab6f6bf-4c8a-4127-87ce-54c9c6925d42\",\"type\":\"GlyphRenderer\"},{\"id\":\"ac0c9ca3-6202-4b26-8981-9437f8829d5f\",\"type\":\"Legend\"}],\"title\":{\"id\":\"dd46ead2-2975-4547-8040-d7b429ca8656\",\"type\":\"Title\"},\"toolbar\":{\"id\":\"80a64ce2-961e-4d71-a760-5a3585b5184c\",\"type\":\"Toolbar\"},\"toolbar_location\":null,\"x_range\":{\"id\":\"828491fe-49da-411d-b64d-296afecfcb75\",\"type\":\"Range1d\"},\"x_scale\":{\"id\":\"d2cdf337-9c71-49dc-b3b2-6cc59f3a3444\",\"type\":\"LinearScale\"},\"y_range\":{\"id\":\"5a0e107b-2748-4bb0-a055-41dcc144b433\",\"type\":\"Range1d\"},\"y_scale\":{\"id\":\"68409e3d-5d93-4b18-b11a-706905e1a90d\",\"type\":\"LinearScale\"}},\"id\":\"025d203a-9896-44c2-98fe-98015901621f\",\"subtype\":\"Figure\",\"type\":\"Plot\"},{\"attributes\":{\"bottom_units\":\"screen\",\"fill_alpha\":{\"value\":0.5},\"fill_color\":{\"value\":\"lightgrey\"},\"left_units\":\"screen\",\"level\":\"overlay\",\"line_alpha\":{\"value\":1.0},\"line_color\":{\"value\":\"black\"},\"line_dash\":[4,4],\"line_width\":{\"value\":2},\"plot\":null,\"render_mode\":\"css\",\"right_units\":\"screen\",\"top_units\":\"screen\"},\"id\":\"865830ba-4a53-4a11-9e23-71297d7bba04\",\"type\":\"BoxAnnotation\"},{\"attributes\":{},\"id\":\"c5e03435-ae33-48b6-b272-0814b801d101\",\"type\":\"UnionRenderers\"},{\"attributes\":{\"callback\":null,\"data\":{\"x\":{\"__ndarray__\":\"1GDle71spb8TLzWV++qjv4TDUoAvmKC/vib58MPVmb85VHYwnt6Rv5Eu/jQvYoK/yI/r1Dy2KT938AfwT6uEPwDQM2BZPJU/yKnM+n91oD8jk95HgLGmP33THCf0Ua0/FUDBXaclsj8y52Dj2ky1P4cnAhcpmLc/1Y2/K+pjuT+mo8YNFRC7P7dWngQlnbw/IR/hOFsRvj+gSQ59vYW/P6KkfihtdcA/j5WQaxaHvT+RhbfeFsi0P/y7yfedwqk/FDqpHIx5nj/NDWBAd2yRP9dDD21pHoM/OIMfRzLidz+1kje4pE51PzOorUazCHQ/TzCnRNhTcD+9nNCUFHdlP5ZEFb0VwmA/rA2dgxs/ZD+/5YDcDjBmP9VwDYw1BWY/FC66prmYYz+mjQhgivhWP8BbtiNsx/i+eEIdnI7EV7/IzH2qdV9ov37705vxIXO/PAM4TgQre78vdSyeMHaCv3vILzyPKIi/NhtR4uT4ir/R2uXrtIuIv4eQgoVdHYS/QTRMalChf78zRCxuaAV3v951uQ2sOmy/HgsnUuoYU797zAJrVjJUP2iC+n6IrW4/jbtPWOEFej+tRpcS+3qCP8ePtERe+4c/Lf3Ck81mjT+l+LnXiU+RP38bIyURxpM/HqdpKPAPlj8u727J2C6YP3QBCytNKpo/gWyA3YgPnD9QA7BI5u2dPwoBujI10p8/UYb3S7XeoD8X5GH82MahP0peqz0ubaI/yTjTNzp9oj9npnmGHMChP2vvUjBDWKA/dgOf5fIynT9nEBRtc4GZP7gM80pOw5U/\",\"dtype\":\"float64\",\"shape\":[75]},\"y\":{\"__ndarray__\":\"GhExyth1ND/Sv8nbtpRIP2vylNV0PVE/aTum7souWD/At0SJ8fVgPw3Iuahxymc/MSNhhJWvcD/bTfBN02d3P2zb5nxnaoA/CD5h5MAGhz8NmeH1TyaQP+zrCsc9p5Y/LbKd76fGnz/bLW5ISEmmPww9YvTcQq8/JV2OstnstT8Er5Y7M8G+P0c+r3jqkcU/5h99k6ZBzj88bCIzFzjVP4enV8oyxN0//yH99nXg5D8qOpLLf0jtP5kqGJXUifQ/c9cS8kHP/D+/DpwzojQEQIEmwoanVwxA4lgXt9HgE0BSSZ2AJuIbQAMJih9jjiNA5q4l5INuK0AwTKYKRj0zQNv5fmq8/DpAaCJseHrtQkB/+zpwzoxKQM3MzMzMeFJAZmZmZmZqWEAAAAAAAFxeQM3MzMzMJmJAmpmZmZkfZUBmZmZmZhhoQDMzMzMzEWtAAAAAAAAKbkBmZmZmZoFwQM3MzMzM/XFAMzMzMzN6c0CamZmZmfZ0QAAAAAAAc3ZAZmZmZmbvd0DNzMzMzGt5QDMzMzMz6HpAmpmZmZlkfEAAAAAAAOF9QGZmZmZmXX9AZmZmZuZsgECamZmZGSuBQM3MzMxM6YFAAAAAAICngkAzMzMzs2WDQGZmZmbmI4RAmpmZmRnihEDNzMzMTKCFQAAAAACAXoZAMzMzM7Mch0BmZmZm5tqHQJqZmZkZmYhAzczMzExXiUAAAAAAgBWKQDMzMzOz04pAZmZmZuaRi0CamZmZGVCMQM3MzMxMDo1AAAAAAIDMjUAzMzMzs4qOQGZmZmbmSI9A\",\"dtype\":\"float64\",\"shape\":[75]}},\"selected\":{\"id\":\"f196ee21-f687-49c5-9806-38184059bb7a\",\"type\":\"Selection\"},\"selection_policy\":{\"id\":\"0a7a1c54-7f21-4abb-9b6a-f5b308de4b16\",\"type\":\"UnionRenderers\"}},\"id\":\"ad29b646-cc42-4226-b037-ba2dc42db872\",\"type\":\"ColumnDataSource\"},{\"attributes\":{\"items\":[{\"id\":\"81fb235c-4d19-4da7-8143-cb14a4aad721\",\"type\":\"LegendItem\"},{\"id\":\"2883c188-3fd4-4136-b338-f581c1baccd3\",\"type\":\"LegendItem\"},{\"id\":\"4851544f-8f2b-4329-b887-fe8649a0fc98\",\"type\":\"LegendItem\"}],\"label_text_font_size\":{\"value\":\"8pt\"},\"location\":\"top_center\",\"orientation\":\"horizontal\",\"plot\":{\"id\":\"025d203a-9896-44c2-98fe-98015901621f\",\"subtype\":\"Figure\",\"type\":\"Plot\"}},\"id\":\"ac0c9ca3-6202-4b26-8981-9437f8829d5f\",\"type\":\"Legend\"},{\"attributes\":{\"line_alpha\":0.6,\"line_color\":\"#984ea3\",\"line_width\":3,\"x\":{\"field\":\"x\"},\"y\":{\"field\":\"y\"}},\"id\":\"eafaf05a-18a8-4c48-94c5-38ba9a0761cf\",\"type\":\"Line\"},{\"attributes\":{\"source\":{\"id\":\"78424d3f-62ee-44e2-bdd9-ef88d70267c4\",\"type\":\"ColumnDataSource\"}},\"id\":\"2eff58a2-b88e-4e64-a57e-7ac7d3f899bc\",\"type\":\"CDSView\"},{\"attributes\":{\"line_color\":\"#4daf4a\",\"line_width\":1.5,\"x\":{\"field\":\"x\"},\"y\":{\"field\":\"y\"}},\"id\":\"31da14fe-ff95-4b5d-8e07-ac6fcba4f14e\",\"type\":\"Line\"},{\"attributes\":{\"callback\":null,\"data\":{\"x\":{\"__ndarray__\":\"689Qp0ZEbb9oGHclGN5ev5mLY2SSQV0/u4lB1ikQeD9qgVdGaD2FPwYRQVrWWY8/dw2EJAg3lT8p2hH120SbP8oiQj8l8aA/I/wlJE+NpD/cRpGwunyoP+ddxa+Cxaw/eGXnUES0sD9ul+eMouqyP40F0H6furQ/IaigeD1etj/2YuZ/QRG4P+ZSf4EP1rk/sw6pcgytuz/IOIwgB5a9P+14qWyAWr8/o8XMDzLBvT+yR5ObDAm4P/1fdlKN5bE/17zPtIRXqT8mi15bW5ygP3yEWKbWGpM/MGrF8jwMgz9QGPWFqlByP49Ug1ezLmE/WT0GxRM3ST+gdqbnoMntvlqp/DDr3Sw/odaDwNN5Uj+MdkfuPApYPyRdKE8SkVE/HNNVYGkoFj+AcfZV+jFZv5OczfRjq2y/xbcjw1FFdr/32VQ1zUp+v3yHpUFNTYO/HbvXD4mwh7+dy1WsBV6Mv5HGetT2epC/9q+tzodekb8HEoqzCQ+Qv9UQyJ5bYou/jN4i2Wc6hr9EiWz388eAv3VbuZnIFna/ryOFqAwaZL8gUwF1IgtEP6FGxMXv/G4/8mKDHSjKfD/nRUx06BuFPwQZp1f3yIs/Izy9riInkT8gY3gSGUeUP/3N5CpTOJc/U37ypsHymT/ycV3N/3WcP2SSJ4bxxZ4/AxzmKzx1oD98s6ahIXahP2nRUn5TaKI/vxPPahxJoz+M2eJhXgikPxsBJhklfaQ/T9Ln9Q5qpD+q2NzegamjP8FL13w5V6I/6Qb3/NG0oD/wbe1dA+6dP7gFs6c3cJo/\",\"dtype\":\"float64\",\"shape\":[75]},\"y\":{\"__ndarray__\":\"GhExyth1ND/Sv8nbtpRIP2vylNV0PVE/aTum7souWD/At0SJ8fVgPw3Iuahxymc/MSNhhJWvcD/bTfBN02d3P2zb5nxnaoA/CD5h5MAGhz8NmeH1TyaQP+zrCsc9p5Y/LbKd76fGnz/bLW5ISEmmPww9YvTcQq8/JV2OstnstT8Er5Y7M8G+P0c+r3jqkcU/5h99k6ZBzj88bCIzFzjVP4enV8oyxN0//yH99nXg5D8qOpLLf0jtP5kqGJXUifQ/c9cS8kHP/D+/DpwzojQEQIEmwoanVwxA4lgXt9HgE0BSSZ2AJuIbQAMJih9jjiNA5q4l5INuK0AwTKYKRj0zQNv5fmq8/DpAaCJseHrtQkB/+zpwzoxKQM3MzMzMeFJAZmZmZmZqWEAAAAAAAFxeQM3MzMzMJmJAmpmZmZkfZUBmZmZmZhhoQDMzMzMzEWtAAAAAAAAKbkBmZmZmZoFwQM3MzMzM/XFAMzMzMzN6c0CamZmZmfZ0QAAAAAAAc3ZAZmZmZmbvd0DNzMzMzGt5QDMzMzMz6HpAmpmZmZlkfEAAAAAAAOF9QGZmZmZmXX9AZmZmZuZsgECamZmZGSuBQM3MzMxM6YFAAAAAAICngkAzMzMzs2WDQGZmZmbmI4RAmpmZmRnihEDNzMzMTKCFQAAAAACAXoZAMzMzM7Mch0BmZmZm5tqHQJqZmZkZmYhAzczMzExXiUAAAAAAgBWKQDMzMzOz04pAZmZmZuaRi0CamZmZGVCMQM3MzMxMDo1AAAAAAIDMjUAzMzMzs4qOQGZmZmbmSI9A\",\"dtype\":\"float64\",\"shape\":[75]}},\"selected\":{\"id\":\"fb4afdbb-018e-42a1-8612-6041717cbaa0\",\"type\":\"Selection\"},\"selection_policy\":{\"id\":\"9821b76a-f100-4607-b0e8-9850a6bce99c\",\"type\":\"UnionRenderers\"}},\"id\":\"c76c4287-8243-4812-9444-ee07cc101557\",\"type\":\"ColumnDataSource\"},{\"attributes\":{},\"id\":\"d2cdf337-9c71-49dc-b3b2-6cc59f3a3444\",\"type\":\"LinearScale\"},{\"attributes\":{\"data_source\":{\"id\":\"78424d3f-62ee-44e2-bdd9-ef88d70267c4\",\"type\":\"ColumnDataSource\"},\"glyph\":{\"id\":\"4620d70c-1537-4a39-8845-47c4d70c19ff\",\"type\":\"Square\"},\"hover_glyph\":null,\"muted_glyph\":null,\"nonselection_glyph\":{\"id\":\"3ff179c4-b951-461a-89f5-335a195066a7\",\"type\":\"Square\"},\"selection_glyph\":null,\"view\":{\"id\":\"2eff58a2-b88e-4e64-a57e-7ac7d3f899bc\",\"type\":\"CDSView\"}},\"id\":\"0b19fe2d-b21c-47b7-af69-74a7363e1d55\",\"type\":\"GlyphRenderer\"},{\"attributes\":{\"callback\":null,\"data\":{\"x\":{\"__ndarray__\":\"0rA9Jv1gg7+VSs64/R1/v0re0klyDm2/ViufoPGxTz9Vylg1lUx4PyJDpr3DUYc/kub0RDbJkT/feGClj3CYP5g7D0q6zJ8/KPq/U7Xcoz8rucSjizGoP4fjAYHB26w/Asts+BzwsD/lLqlB4VGzP+gPGsQJO7U/knSDdIbrtj8SRFnsgKS4P3nI+h2lZ7o/WWnM5nc1vD9XZDwhehC+P2v9b19xxr8/En/EsbjavT9Qx9Fo0ZG3P47+6cFoDbE/qpAKKet9pz/PupZhOSOePyyiEG2fLZE/DKs6b5vogT+f6yUbiWx0P66pT0IY1Gk/aZ19ClkxXz/J+dKiL7RNP1Kfuxow/Us/htCxb3wCWj/BIgve4nxeP2s7NYt121g/0j1G+hc6Rj+gSNvv749Kv96L2Xet/GW/LvfNo22wcr+9XNC+5qZ6v5oSK/YMjIG/ZFy2cc8dhr/GqAQvLiGLv2CQAs/JIpC/eDqmZa02kb8+FWPnmMCPvxExXLh13oq/rzaQli+vhb+My3j0/kuAv8yyjN9FVXW/NfEMWmoyY7/Myps84qxEP+AYS0CNWm4/wkm60wYHfD+hYVdtiH+EP8+PzYF874o/PzaGhzWakD9ZbH44m5mTP7GffVhzaJY/PzaaewcBmT9ksLBc0WKbP85ixpqGlJ0/1J40d5qgnz8gaXyi38igP14E7I4XuaE/FE+l/nSeoj8viskyEmmjPz6xB8Bj66M/vdmWGVTeoz8QjRAoahajP2zWqzNRsqE/fImHBxX2nz/y/37H5FOcPxTwn0B1r5g/\",\"dtype\":\"float64\",\"shape\":[75]},\"y\":{\"__ndarray__\":\"GhExyth1ND/Sv8nbtpRIP2vylNV0PVE/aTum7souWD/At0SJ8fVgPw3Iuahxymc/MSNhhJWvcD/bTfBN02d3P2zb5nxnaoA/CD5h5MAGhz8NmeH1TyaQP+zrCsc9p5Y/LbKd76fGnz/bLW5ISEmmPww9YvTcQq8/JV2OstnstT8Er5Y7M8G+P0c+r3jqkcU/5h99k6ZBzj88bCIzFzjVP4enV8oyxN0//yH99nXg5D8qOpLLf0jtP5kqGJXUifQ/c9cS8kHP/D+/DpwzojQEQIEmwoanVwxA4lgXt9HgE0BSSZ2AJuIbQAMJih9jjiNA5q4l5INuK0AwTKYKRj0zQNv5fmq8/DpAaCJseHrtQkB/+zpwzoxKQM3MzMzMeFJAZmZmZmZqWEAAAAAAAFxeQM3MzMzMJmJAmpmZmZkfZUBmZmZmZhhoQDMzMzMzEWtAAAAAAAAKbkBmZmZmZoFwQM3MzMzM/XFAMzMzMzN6c0CamZmZmfZ0QAAAAAAAc3ZAZmZmZmbvd0DNzMzMzGt5QDMzMzMz6HpAmpmZmZlkfEAAAAAAAOF9QGZmZmZmXX9AZmZmZuZsgECamZmZGSuBQM3MzMxM6YFAAAAAAICngkAzMzMzs2WDQGZmZmbmI4RAmpmZmRnihEDNzMzMTKCFQAAAAACAXoZAMzMzM7Mch0BmZmZm5tqHQJqZmZkZmYhAzczMzExXiUAAAAAAgBWKQDMzMzOz04pAZmZmZuaRi0CamZmZGVCMQM3MzMxMDo1AAAAAAIDMjUAzMzMzs4qOQGZmZmbmSI9A\",\"dtype\":\"float64\",\"shape\":[75]}},\"selected\":{\"id\":\"fbf819f7-dbb3-4557-b9d0-55bf3794a79c\",\"type\":\"Selection\"},\"selection_policy\":{\"id\":\"c5e03435-ae33-48b6-b272-0814b801d101\",\"type\":\"UnionRenderers\"}},\"id\":\"1bfbb3eb-dfbb-4d84-97c7-de81c0b425d6\",\"type\":\"ColumnDataSource\"},{\"attributes\":{\"data_source\":{\"id\":\"1bfbb3eb-dfbb-4d84-97c7-de81c0b425d6\",\"type\":\"ColumnDataSource\"},\"glyph\":{\"id\":\"eafaf05a-18a8-4c48-94c5-38ba9a0761cf\",\"type\":\"Line\"},\"hover_glyph\":null,\"muted_glyph\":null,\"nonselection_glyph\":{\"id\":\"cac2a925-5bea-4860-a8a2-ad6907eb40c8\",\"type\":\"Line\"},\"selection_glyph\":null,\"view\":{\"id\":\"66e34422-a433-4339-a4a9-458a71449e62\",\"type\":\"CDSView\"}},\"id\":\"310136f3-83f5-456e-b0a4-1ede962dc4a4\",\"type\":\"GlyphRenderer\"},{\"attributes\":{\"callback\":null,\"end\":0.01,\"start\":1020},\"id\":\"6cc07bb1-0cdf-4ff8-b585-689238590348\",\"type\":\"Range1d\"},{\"attributes\":{\"fill_alpha\":{\"value\":0.1},\"fill_color\":{\"value\":\"#1f77b4\"},\"line_alpha\":{\"value\":0.1},\"line_color\":{\"value\":\"#1f77b4\"},\"x\":{\"field\":\"x\"},\"y\":{\"field\":\"y\"}},\"id\":\"b32b3deb-e1cd-4be7-882c-6b3687429168\",\"type\":\"Triangle\"},{\"attributes\":{\"callback\":null,\"end\":0.040587074406600004,\"start\":-0.0175319622066},\"id\":\"828491fe-49da-411d-b64d-296afecfcb75\",\"type\":\"Range1d\"},{\"attributes\":{\"line_alpha\":0.1,\"line_color\":\"#1f77b4\",\"line_width\":3,\"x\":{\"field\":\"x\"},\"y\":{\"field\":\"y\"}},\"id\":\"cac2a925-5bea-4860-a8a2-ad6907eb40c8\",\"type\":\"Line\"},{\"attributes\":{},\"id\":\"68409e3d-5d93-4b18-b11a-706905e1a90d\",\"type\":\"LinearScale\"},{\"attributes\":{\"source\":{\"id\":\"1bfbb3eb-dfbb-4d84-97c7-de81c0b425d6\",\"type\":\"ColumnDataSource\"}},\"id\":\"66e34422-a433-4339-a4a9-458a71449e62\",\"type\":\"CDSView\"},{\"attributes\":{\"source\":{\"id\":\"7c04d64d-2ced-444b-9056-5d5e3ffd0c94\",\"type\":\"ColumnDataSource\"}},\"id\":\"cbb1585d-3936-421f-928b-c7bd2672261d\",\"type\":\"CDSView\"},{\"attributes\":{\"fill_alpha\":{\"value\":0.7},\"fill_color\":{\"value\":\"#377eb8\"},\"line_alpha\":{\"value\":0.7},\"line_color\":{\"value\":\"#377eb8\"},\"x\":{\"field\":\"x\"},\"y\":{\"field\":\"y\"}},\"id\":\"58563895-92e1-4792-82af-049e6b22e13f\",\"type\":\"Triangle\"},{\"attributes\":{\"callback\":null,\"data\":{\"x\":{\"__ndarray__\":\"689Qp0ZEbb9oGHclGN5ev5mLY2SSQV0/u4lB1ikQeD9qgVdGaD2FPwYRQVrWWY8/dw2EJAg3lT8p2hH120SbP8oiQj8l8aA/I/wlJE+NpD/cRpGwunyoP+ddxa+Cxaw/eGXnUES0sD9ul+eMouqyP40F0H6furQ/IaigeD1etj/2YuZ/QRG4P+ZSf4EP1rk/sw6pcgytuz/IOIwgB5a9P+14qWyAWr8/o8XMDzLBvT+yR5ObDAm4P/1fdlKN5bE/17zPtIRXqT8mi15bW5ygP3yEWKbWGpM/MGrF8jwMgz9QGPWFqlByP49Ug1ezLmE/WT0GxRM3ST+gdqbnoMntvlqp/DDr3Sw/odaDwNN5Uj+MdkfuPApYPyRdKE8SkVE/HNNVYGkoFj+AcfZV+jFZv5OczfRjq2y/xbcjw1FFdr/32VQ1zUp+v3yHpUFNTYO/HbvXD4mwh7+dy1WsBV6Mv5HGetT2epC/9q+tzodekb8HEoqzCQ+Qv9UQyJ5bYou/jN4i2Wc6hr9EiWz388eAv3VbuZnIFna/ryOFqAwaZL8gUwF1IgtEP6FGxMXv/G4/8mKDHSjKfD/nRUx06BuFPwQZp1f3yIs/Izy9riInkT8gY3gSGUeUP/3N5CpTOJc/U37ypsHymT/ycV3N/3WcP2SSJ4bxxZ4/AxzmKzx1oD98s6ahIXahP2nRUn5TaKI/vxPPahxJoz+M2eJhXgikPxsBJhklfaQ/T9Ln9Q5qpD+q2NzegamjP8FL13w5V6I/6Qb3/NG0oD/wbe1dA+6dP7gFs6c3cJo/\",\"dtype\":\"float64\",\"shape\":[75]},\"y\":{\"__ndarray__\":\"GhExyth1ND/Sv8nbtpRIP2vylNV0PVE/aTum7souWD/At0SJ8fVgPw3Iuahxymc/MSNhhJWvcD/bTfBN02d3P2zb5nxnaoA/CD5h5MAGhz8NmeH1TyaQP+zrCsc9p5Y/LbKd76fGnz/bLW5ISEmmPww9YvTcQq8/JV2OstnstT8Er5Y7M8G+P0c+r3jqkcU/5h99k6ZBzj88bCIzFzjVP4enV8oyxN0//yH99nXg5D8qOpLLf0jtP5kqGJXUifQ/c9cS8kHP/D+/DpwzojQEQIEmwoanVwxA4lgXt9HgE0BSSZ2AJuIbQAMJih9jjiNA5q4l5INuK0AwTKYKRj0zQNv5fmq8/DpAaCJseHrtQkB/+zpwzoxKQM3MzMzMeFJAZmZmZmZqWEAAAAAAAFxeQM3MzMzMJmJAmpmZmZkfZUBmZmZmZhhoQDMzMzMzEWtAAAAAAAAKbkBmZmZmZoFwQM3MzMzM/XFAMzMzMzN6c0CamZmZmfZ0QAAAAAAAc3ZAZmZmZmbvd0DNzMzMzGt5QDMzMzMz6HpAmpmZmZlkfEAAAAAAAOF9QGZmZmZmXX9AZmZmZuZsgECamZmZGSuBQM3MzMxM6YFAAAAAAICngkAzMzMzs2WDQGZmZmbmI4RAmpmZmRnihEDNzMzMTKCFQAAAAACAXoZAMzMzM7Mch0BmZmZm5tqHQJqZmZkZmYhAzczMzExXiUAAAAAAgBWKQDMzMzOz04pAZmZmZuaRi0CamZmZGVCMQM3MzMxMDo1AAAAAAIDMjUAzMzMzs4qOQGZmZmbmSI9A\",\"dtype\":\"float64\",\"shape\":[75]}},\"selected\":{\"id\":\"d415952d-9629-4e80-855c-2921a74e1ccb\",\"type\":\"Selection\"},\"selection_policy\":{\"id\":\"8ab1347f-b5eb-4d57-a917-7eedb0100d6d\",\"type\":\"UnionRenderers\"}},\"id\":\"eb64a7ff-0ad1-4521-9351-15ab65d5f802\",\"type\":\"ColumnDataSource\"},{\"attributes\":{\"active_drag\":\"auto\",\"active_inspect\":\"auto\",\"active_scroll\":\"auto\",\"active_tap\":\"auto\",\"tools\":[{\"id\":\"c7733bb2-d6db-49ca-88c7-65733e00fe33\",\"type\":\"PanTool\"},{\"id\":\"df76fe43-40b4-4a90-96ea-bca516812f6d\",\"type\":\"WheelZoomTool\"},{\"id\":\"44a3bcf7-af6f-449b-ab49-3354194c4075\",\"type\":\"BoxZoomTool\"},{\"id\":\"4240f6e9-64f7-4797-88cf-0a72cfd7f0c8\",\"type\":\"SaveTool\"},{\"id\":\"d059458b-8cf7-44bd-add4-9342ea87580e\",\"type\":\"ResetTool\"},{\"id\":\"a78f9f79-70c1-4892-8f2d-132d4673f18d\",\"type\":\"HelpTool\"}]},\"id\":\"80a64ce2-961e-4d71-a760-5a3585b5184c\",\"type\":\"Toolbar\"},{\"attributes\":{\"data_source\":{\"id\":\"7c04d64d-2ced-444b-9056-5d5e3ffd0c94\",\"type\":\"ColumnDataSource\"},\"glyph\":{\"id\":\"8bb6d27b-948a-4ca9-9a10-4f9162669839\",\"type\":\"Circle\"},\"hover_glyph\":null,\"muted_glyph\":null,\"nonselection_glyph\":{\"id\":\"65a60cf7-cebb-49c8-a6bb-b7436a4f1c8e\",\"type\":\"Circle\"},\"selection_glyph\":null,\"view\":{\"id\":\"cbb1585d-3936-421f-928b-c7bd2672261d\",\"type\":\"CDSView\"}},\"id\":\"b6351524-4c1f-405a-80ce-c08fcaa3201c\",\"type\":\"GlyphRenderer\"},{\"attributes\":{\"data_source\":{\"id\":\"c76c4287-8243-4812-9444-ee07cc101557\",\"type\":\"ColumnDataSource\"},\"glyph\":{\"id\":\"58563895-92e1-4792-82af-049e6b22e13f\",\"type\":\"Triangle\"},\"hover_glyph\":null,\"muted_glyph\":null,\"nonselection_glyph\":{\"id\":\"b32b3deb-e1cd-4be7-882c-6b3687429168\",\"type\":\"Triangle\"},\"selection_glyph\":null,\"view\":{\"id\":\"17dbd28c-0f7d-47f6-aa51-c47c5dda3543\",\"type\":\"CDSView\"}},\"id\":\"2cdc3051-a722-4d5d-a16e-5934b57338f2\",\"type\":\"GlyphRenderer\"},{\"attributes\":{\"source\":{\"id\":\"c76c4287-8243-4812-9444-ee07cc101557\",\"type\":\"ColumnDataSource\"}},\"id\":\"17dbd28c-0f7d-47f6-aa51-c47c5dda3543\",\"type\":\"CDSView\"},{\"attributes\":{},\"id\":\"8ab1347f-b5eb-4d57-a917-7eedb0100d6d\",\"type\":\"UnionRenderers\"},{\"attributes\":{\"data_source\":{\"id\":\"7efb0504-795b-46db-9003-0cbf038c3c94\",\"type\":\"ColumnDataSource\"},\"glyph\":{\"id\":\"31da14fe-ff95-4b5d-8e07-ac6fcba4f14e\",\"type\":\"Line\"},\"hover_glyph\":null,\"muted_glyph\":null,\"nonselection_glyph\":{\"id\":\"5884ab17-ac11-488b-9fe4-647ce9bf08a5\",\"type\":\"Line\"},\"selection_glyph\":null,\"view\":{\"id\":\"f4a12721-93a9-4e74-8914-d87321b2ee9e\",\"type\":\"CDSView\"}},\"id\":\"5d0d8259-77ca-4e47-8066-3bfe5e378ed6\",\"type\":\"GlyphRenderer\"},{\"attributes\":{\"line_alpha\":0.3,\"line_color\":\"#377eb8\",\"line_width\":2,\"x\":{\"field\":\"x\"},\"y\":{\"field\":\"y\"}},\"id\":\"c220ac56-88b3-4522-9eb1-cf6557abb201\",\"type\":\"Line\"},{\"attributes\":{\"above\":[{\"id\":\"e86ee7a2-ae67-4df1-b54e-636966cdb9c7\",\"type\":\"Legend\"}],\"below\":[{\"id\":\"fe2c9754-f522-4778-a62a-af0dae55569c\",\"type\":\"LinearAxis\"}],\"left\":[{\"id\":\"85837030-9787-4de2-8640-97285aa44820\",\"type\":\"LogAxis\"}],\"plot_height\":500,\"plot_width\":400,\"renderers\":[{\"id\":\"fe2c9754-f522-4778-a62a-af0dae55569c\",\"type\":\"LinearAxis\"},{\"id\":\"80bbdfcd-5e62-4944-bdae-0d0be78c0ae0\",\"type\":\"Grid\"},{\"id\":\"85837030-9787-4de2-8640-97285aa44820\",\"type\":\"LogAxis\"},{\"id\":\"e65cd839-5371-46dd-8814-d6a5cd70e4da\",\"type\":\"Grid\"},{\"id\":\"5da0d39a-962c-4a0a-870a-45dc5ff6d838\",\"type\":\"BoxAnnotation\"},{\"id\":\"b6351524-4c1f-405a-80ce-c08fcaa3201c\",\"type\":\"GlyphRenderer\"},{\"id\":\"5d0d8259-77ca-4e47-8066-3bfe5e378ed6\",\"type\":\"GlyphRenderer\"},{\"id\":\"d4b75ed4-7460-4007-a943-936c3b795abf\",\"type\":\"GlyphRenderer\"},{\"id\":\"42691435-1414-42af-bbc5-d4b88712f443\",\"type\":\"GlyphRenderer\"},{\"id\":\"586928fc-bce3-4124-9a54-6984c83f3d3a\",\"type\":\"GlyphRenderer\"},{\"id\":\"eadedfda-b0f7-4fb6-9a2e-53e4d981aa2f\",\"type\":\"GlyphRenderer\"},{\"id\":\"e86ee7a2-ae67-4df1-b54e-636966cdb9c7\",\"type\":\"Legend\"}],\"title\":{\"id\":\"e18b5eed-726d-459c-ab8e-a38255ddf346\",\"type\":\"Title\"},\"toolbar\":{\"id\":\"45675e08-7955-4fc1-a54c-827c203fd7a2\",\"type\":\"Toolbar\"},\"toolbar_location\":null,\"x_range\":{\"id\":\"cb1c9bdb-6681-4f18-a0d9-99cc46683826\",\"type\":\"Range1d\"},\"x_scale\":{\"id\":\"1613e611-c50b-49cd-a724-28e7ab733e3e\",\"type\":\"LinearScale\"},\"y_range\":{\"id\":\"6cc07bb1-0cdf-4ff8-b585-689238590348\",\"type\":\"Range1d\"},\"y_scale\":{\"id\":\"943bc356-188c-4bba-8575-aef2cad5e462\",\"type\":\"LogScale\"}},\"id\":\"30ff4953-fa78-4148-a415-5269962299db\",\"subtype\":\"Figure\",\"type\":\"Plot\"},{\"attributes\":{\"dimension\":1,\"plot\":{\"id\":\"025d203a-9896-44c2-98fe-98015901621f\",\"subtype\":\"Figure\",\"type\":\"Plot\"},\"ticker\":{\"id\":\"0a4da24f-1a7b-4229-8b93-c792d65d1899\",\"type\":\"BasicTicker\"}},\"id\":\"e7650a0c-12f3-4dbe-8f73-e62257d62844\",\"type\":\"Grid\"},{\"attributes\":{\"line_alpha\":0.1,\"line_color\":\"#1f77b4\",\"line_width\":2,\"x\":{\"field\":\"x\"},\"y\":{\"field\":\"y\"}},\"id\":\"d227c53c-266a-40b2-95cb-1e87f3ddff9f\",\"type\":\"Line\"},{\"attributes\":{\"data_source\":{\"id\":\"eb64a7ff-0ad1-4521-9351-15ab65d5f802\",\"type\":\"ColumnDataSource\"},\"glyph\":{\"id\":\"c220ac56-88b3-4522-9eb1-cf6557abb201\",\"type\":\"Line\"},\"hover_glyph\":null,\"muted_glyph\":null,\"nonselection_glyph\":{\"id\":\"d227c53c-266a-40b2-95cb-1e87f3ddff9f\",\"type\":\"Line\"},\"selection_glyph\":null,\"view\":{\"id\":\"ef316810-5c4f-46d4-9e02-aa227d1e8ccb\",\"type\":\"CDSView\"}},\"id\":\"aab6f6bf-4c8a-4127-87ce-54c9c6925d42\",\"type\":\"GlyphRenderer\"},{\"attributes\":{\"overlay\":{\"id\":\"865830ba-4a53-4a11-9e23-71297d7bba04\",\"type\":\"BoxAnnotation\"}},\"id\":\"44a3bcf7-af6f-449b-ab49-3354194c4075\",\"type\":\"BoxZoomTool\"},{\"attributes\":{\"source\":{\"id\":\"eb64a7ff-0ad1-4521-9351-15ab65d5f802\",\"type\":\"ColumnDataSource\"}},\"id\":\"ef316810-5c4f-46d4-9e02-aa227d1e8ccb\",\"type\":\"CDSView\"},{\"attributes\":{\"active_drag\":\"auto\",\"active_inspect\":\"auto\",\"active_scroll\":\"auto\",\"active_tap\":\"auto\",\"tools\":[{\"id\":\"3531dbb5-d023-458d-b539-04d698b87358\",\"type\":\"PanTool\"},{\"id\":\"74270d7d-c72f-4712-8272-54543a17d357\",\"type\":\"WheelZoomTool\"},{\"id\":\"c3b91c5c-7aa7-49a8-9911-b05364daf1ca\",\"type\":\"BoxZoomTool\"},{\"id\":\"323b9f14-4de6-437d-a931-8423b699c8eb\",\"type\":\"SaveTool\"},{\"id\":\"5373a46c-98eb-4451-836b-98dab588f399\",\"type\":\"ResetTool\"},{\"id\":\"597ba48e-7c69-4637-adc0-a2d112faf781\",\"type\":\"HelpTool\"}]},\"id\":\"45675e08-7955-4fc1-a54c-827c203fd7a2\",\"type\":\"Toolbar\"},{\"attributes\":{},\"id\":\"fbf819f7-dbb3-4557-b9d0-55bf3794a79c\",\"type\":\"Selection\"},{\"attributes\":{\"label\":{\"value\":\"CRD\"},\"renderers\":[{\"id\":\"6aee171d-3238-4a83-92b2-21834c4512da\",\"type\":\"GlyphRenderer\"},{\"id\":\"949a025a-7300-4e14-a7da-7e9e3394daf7\",\"type\":\"GlyphRenderer\"}]},\"id\":\"81fb235c-4d19-4da7-8143-cb14a4aad721\",\"type\":\"LegendItem\"},{\"attributes\":{\"callback\":null,\"data\":{\"x\":{\"__ndarray__\":\"0rA9Jv1gg7+VSs64/R1/v0re0klyDm2/ViufoPGxTz9Vylg1lUx4PyJDpr3DUYc/kub0RDbJkT/feGClj3CYP5g7D0q6zJ8/KPq/U7Xcoz8rucSjizGoP4fjAYHB26w/Asts+BzwsD/lLqlB4VGzP+gPGsQJO7U/knSDdIbrtj8SRFnsgKS4P3nI+h2lZ7o/WWnM5nc1vD9XZDwhehC+P2v9b19xxr8/En/EsbjavT9Qx9Fo0ZG3P47+6cFoDbE/qpAKKet9pz/PupZhOSOePyyiEG2fLZE/DKs6b5vogT+f6yUbiWx0P66pT0IY1Gk/aZ19ClkxXz/J+dKiL7RNP1Kfuxow/Us/htCxb3wCWj/BIgve4nxeP2s7NYt121g/0j1G+hc6Rj+gSNvv749Kv96L2Xet/GW/LvfNo22wcr+9XNC+5qZ6v5oSK/YMjIG/ZFy2cc8dhr/GqAQvLiGLv2CQAs/JIpC/eDqmZa02kb8+FWPnmMCPvxExXLh13oq/rzaQli+vhb+My3j0/kuAv8yyjN9FVXW/NfEMWmoyY7/Myps84qxEP+AYS0CNWm4/wkm60wYHfD+hYVdtiH+EP8+PzYF874o/PzaGhzWakD9ZbH44m5mTP7GffVhzaJY/PzaaewcBmT9ksLBc0WKbP85ixpqGlJ0/1J40d5qgnz8gaXyi38igP14E7I4XuaE/FE+l/nSeoj8viskyEmmjPz6xB8Bj66M/vdmWGVTeoz8QjRAoahajP2zWqzNRsqE/fImHBxX2nz/y/37H5FOcPxTwn0B1r5g/\",\"dtype\":\"float64\",\"shape\":[75]},\"y\":{\"__ndarray__\":\"GhExyth1ND/Sv8nbtpRIP2vylNV0PVE/aTum7souWD/At0SJ8fVgPw3Iuahxymc/MSNhhJWvcD/bTfBN02d3P2zb5nxnaoA/CD5h5MAGhz8NmeH1TyaQP+zrCsc9p5Y/LbKd76fGnz/bLW5ISEmmPww9YvTcQq8/JV2OstnstT8Er5Y7M8G+P0c+r3jqkcU/5h99k6ZBzj88bCIzFzjVP4enV8oyxN0//yH99nXg5D8qOpLLf0jtP5kqGJXUifQ/c9cS8kHP/D+/DpwzojQEQIEmwoanVwxA4lgXt9HgE0BSSZ2AJuIbQAMJih9jjiNA5q4l5INuK0AwTKYKRj0zQNv5fmq8/DpAaCJseHrtQkB/+zpwzoxKQM3MzMzMeFJAZmZmZmZqWEAAAAAAAFxeQM3MzMzMJmJAmpmZmZkfZUBmZmZmZhhoQDMzMzMzEWtAAAAAAAAKbkBmZmZmZoFwQM3MzMzM/XFAMzMzMzN6c0CamZmZmfZ0QAAAAAAAc3ZAZmZmZmbvd0DNzMzMzGt5QDMzMzMz6HpAmpmZmZlkfEAAAAAAAOF9QGZmZmZmXX9AZmZmZuZsgECamZmZGSuBQM3MzMxM6YFAAAAAAICngkAzMzMzs2WDQGZmZmbmI4RAmpmZmRnihEDNzMzMTKCFQAAAAACAXoZAMzMzM7Mch0BmZmZm5tqHQJqZmZkZmYhAzczMzExXiUAAAAAAgBWKQDMzMzOz04pAZmZmZuaRi0CamZmZGVCMQM3MzMxMDo1AAAAAAIDMjUAzMzMzs4qOQGZmZmbmSI9A\",\"dtype\":\"float64\",\"shape\":[75]}},\"selected\":{\"id\":\"eaed3748-ee0c-4d00-baa8-4456a5bda8e3\",\"type\":\"Selection\"},\"selection_policy\":{\"id\":\"496ae1f0-2316-407d-9186-a067f5e0aba5\",\"type\":\"UnionRenderers\"}},\"id\":\"7a11cb22-222a-47b6-86e5-1f75d2e9dde6\",\"type\":\"ColumnDataSource\"},{\"attributes\":{\"data_source\":{\"id\":\"7a11cb22-222a-47b6-86e5-1f75d2e9dde6\",\"type\":\"ColumnDataSource\"},\"glyph\":{\"id\":\"b9dc0c74-c54f-4d17-a384-6da5b7efe062\",\"type\":\"Square\"},\"hover_glyph\":null,\"muted_glyph\":null,\"nonselection_glyph\":{\"id\":\"1e2dc456-5e03-4c2a-bd4b-96f7a5637917\",\"type\":\"Square\"},\"selection_glyph\":null,\"view\":{\"id\":\"f092b752-2a44-4369-83ea-15adc59af4e9\",\"type\":\"CDSView\"}},\"id\":\"d4b75ed4-7460-4007-a943-936c3b795abf\",\"type\":\"GlyphRenderer\"},{\"attributes\":{\"callback\":null,\"end\":0.12994336055419997,\"start\":-0.0087553463542},\"id\":\"cb1c9bdb-6681-4f18-a0d9-99cc46683826\",\"type\":\"Range1d\"},{\"attributes\":{\"label\":{\"value\":\"WGT igg=1\"},\"renderers\":[{\"id\":\"0b19fe2d-b21c-47b7-af69-74a7363e1d55\",\"type\":\"GlyphRenderer\"},{\"id\":\"310136f3-83f5-456e-b0a4-1ede962dc4a4\",\"type\":\"GlyphRenderer\"}]},\"id\":\"2883c188-3fd4-4136-b338-f581c1baccd3\",\"type\":\"LegendItem\"},{\"attributes\":{},\"id\":\"1613e611-c50b-49cd-a724-28e7ab733e3e\",\"type\":\"LinearScale\"},{\"attributes\":{\"fill_alpha\":{\"value\":0.7},\"fill_color\":{\"value\":\"#984ea3\"},\"line_alpha\":{\"value\":0.7},\"line_color\":{\"value\":\"#984ea3\"},\"x\":{\"field\":\"x\"},\"y\":{\"field\":\"y\"}},\"id\":\"b9dc0c74-c54f-4d17-a384-6da5b7efe062\",\"type\":\"Square\"},{\"attributes\":{\"label\":{\"value\":\"WGT igg=10\"},\"renderers\":[{\"id\":\"2cdc3051-a722-4d5d-a16e-5934b57338f2\",\"type\":\"GlyphRenderer\"},{\"id\":\"aab6f6bf-4c8a-4127-87ce-54c9c6925d42\",\"type\":\"GlyphRenderer\"}]},\"id\":\"4851544f-8f2b-4329-b887-fe8649a0fc98\",\"type\":\"LegendItem\"},{\"attributes\":{\"source\":{\"id\":\"7efb0504-795b-46db-9003-0cbf038c3c94\",\"type\":\"ColumnDataSource\"}},\"id\":\"f4a12721-93a9-4e74-8914-d87321b2ee9e\",\"type\":\"CDSView\"},{\"attributes\":{\"plot\":{\"id\":\"30ff4953-fa78-4148-a415-5269962299db\",\"subtype\":\"Figure\",\"type\":\"Plot\"},\"ticker\":{\"id\":\"bc7eacc2-f560-4d5a-be2f-f9d7ce4b88cd\",\"type\":\"BasicTicker\"}},\"id\":\"80bbdfcd-5e62-4944-bdae-0d0be78c0ae0\",\"type\":\"Grid\"},{\"attributes\":{\"callback\":null,\"data\":{\"x\":{\"__ndarray__\":\"0rA9Jv1gg7+VSs64/R1/v0re0klyDm2/ViufoPGxTz9Vylg1lUx4PyJDpr3DUYc/kub0RDbJkT/feGClj3CYP5g7D0q6zJ8/KPq/U7Xcoz8rucSjizGoP4fjAYHB26w/Asts+BzwsD/lLqlB4VGzP+gPGsQJO7U/knSDdIbrtj8SRFnsgKS4P3nI+h2lZ7o/WWnM5nc1vD9XZDwhehC+P2v9b19xxr8/En/EsbjavT9Qx9Fo0ZG3P47+6cFoDbE/qpAKKet9pz/PupZhOSOePyyiEG2fLZE/DKs6b5vogT+f6yUbiWx0P66pT0IY1Gk/aZ19ClkxXz/J+dKiL7RNP1Kfuxow/Us/htCxb3wCWj/BIgve4nxeP2s7NYt121g/0j1G+hc6Rj+gSNvv749Kv96L2Xet/GW/LvfNo22wcr+9XNC+5qZ6v5oSK/YMjIG/ZFy2cc8dhr/GqAQvLiGLv2CQAs/JIpC/eDqmZa02kb8+FWPnmMCPvxExXLh13oq/rzaQli+vhb+My3j0/kuAv8yyjN9FVXW/NfEMWmoyY7/Myps84qxEP+AYS0CNWm4/wkm60wYHfD+hYVdtiH+EP8+PzYF874o/PzaGhzWakD9ZbH44m5mTP7GffVhzaJY/PzaaewcBmT9ksLBc0WKbP85ixpqGlJ0/1J40d5qgnz8gaXyi38igP14E7I4XuaE/FE+l/nSeoj8viskyEmmjPz6xB8Bj66M/vdmWGVTeoz8QjRAoahajP2zWqzNRsqE/fImHBxX2nz/y/37H5FOcPxTwn0B1r5g/\",\"dtype\":\"float64\",\"shape\":[75]},\"y\":{\"__ndarray__\":\"GhExyth1ND/Sv8nbtpRIP2vylNV0PVE/aTum7souWD/At0SJ8fVgPw3Iuahxymc/MSNhhJWvcD/bTfBN02d3P2zb5nxnaoA/CD5h5MAGhz8NmeH1TyaQP+zrCsc9p5Y/LbKd76fGnz/bLW5ISEmmPww9YvTcQq8/JV2OstnstT8Er5Y7M8G+P0c+r3jqkcU/5h99k6ZBzj88bCIzFzjVP4enV8oyxN0//yH99nXg5D8qOpLLf0jtP5kqGJXUifQ/c9cS8kHP/D+/DpwzojQEQIEmwoanVwxA4lgXt9HgE0BSSZ2AJuIbQAMJih9jjiNA5q4l5INuK0AwTKYKRj0zQNv5fmq8/DpAaCJseHrtQkB/+zpwzoxKQM3MzMzMeFJAZmZmZmZqWEAAAAAAAFxeQM3MzMzMJmJAmpmZmZkfZUBmZmZmZhhoQDMzMzMzEWtAAAAAAAAKbkBmZmZmZoFwQM3MzMzM/XFAMzMzMzN6c0CamZmZmfZ0QAAAAAAAc3ZAZmZmZmbvd0DNzMzMzGt5QDMzMzMz6HpAmpmZmZlkfEAAAAAAAOF9QGZmZmZmXX9AZmZmZuZsgECamZmZGSuBQM3MzMxM6YFAAAAAAICngkAzMzMzs2WDQGZmZmbmI4RAmpmZmRnihEDNzMzMTKCFQAAAAACAXoZAMzMzM7Mch0BmZmZm5tqHQJqZmZkZmYhAzczMzExXiUAAAAAAgBWKQDMzMzOz04pAZmZmZuaRi0CamZmZGVCMQM3MzMxMDo1AAAAAAIDMjUAzMzMzs4qOQGZmZmbmSI9A\",\"dtype\":\"float64\",\"shape\":[75]}},\"selected\":{\"id\":\"22345313-2885-4af9-917a-5c939551708f\",\"type\":\"Selection\"},\"selection_policy\":{\"id\":\"452ca534-99d7-4239-88e9-865ed08cbda4\",\"type\":\"UnionRenderers\"}},\"id\":\"08f8655b-84e6-4284-9c5f-2d6ef7e5b0ef\",\"type\":\"ColumnDataSource\"},{\"attributes\":{\"items\":[{\"id\":\"f041f489-4348-4393-94ca-9f8315288bed\",\"type\":\"LegendItem\"},{\"id\":\"352b06b7-838e-45f9-8ad8-a43188789726\",\"type\":\"LegendItem\"},{\"id\":\"87d86b58-4924-46fd-b45c-766364a70666\",\"type\":\"LegendItem\"}],\"label_text_font_size\":{\"value\":\"8pt\"},\"location\":\"top_center\",\"orientation\":\"horizontal\",\"plot\":{\"id\":\"30ff4953-fa78-4148-a415-5269962299db\",\"subtype\":\"Figure\",\"type\":\"Plot\"}},\"id\":\"e86ee7a2-ae67-4df1-b54e-636966cdb9c7\",\"type\":\"Legend\"},{\"attributes\":{},\"id\":\"0a4da24f-1a7b-4229-8b93-c792d65d1899\",\"type\":\"BasicTicker\"},{\"attributes\":{\"line_alpha\":0.1,\"line_color\":\"#1f77b4\",\"line_width\":1.5,\"x\":{\"field\":\"x\"},\"y\":{\"field\":\"y\"}},\"id\":\"5884ab17-ac11-488b-9fe4-647ce9bf08a5\",\"type\":\"Line\"},{\"attributes\":{},\"id\":\"943bc356-188c-4bba-8575-aef2cad5e462\",\"type\":\"LogScale\"},{\"attributes\":{\"axis_label\":\"pressure [mb]\",\"formatter\":{\"id\":\"d680ca9f-e926-489e-9ef1-d10daac0740b\",\"type\":\"BasicTickFormatter\"},\"plot\":{\"id\":\"025d203a-9896-44c2-98fe-98015901621f\",\"subtype\":\"Figure\",\"type\":\"Plot\"},\"ticker\":{\"id\":\"0a4da24f-1a7b-4229-8b93-c792d65d1899\",\"type\":\"BasicTicker\"}},\"id\":\"d8242e8e-411b-410a-9209-bb32dbb5affd\",\"type\":\"LinearAxis\"},{\"attributes\":{\"axis_label\":\"cooling rate [K/day]\",\"formatter\":{\"id\":\"26a3e2c9-f0d1-4fa8-bd47-ad27c813af9c\",\"type\":\"BasicTickFormatter\"},\"plot\":{\"id\":\"30ff4953-fa78-4148-a415-5269962299db\",\"subtype\":\"Figure\",\"type\":\"Plot\"},\"ticker\":{\"id\":\"bc7eacc2-f560-4d5a-be2f-f9d7ce4b88cd\",\"type\":\"BasicTicker\"}},\"id\":\"fe2c9754-f522-4778-a62a-af0dae55569c\",\"type\":\"LinearAxis\"},{\"attributes\":{},\"id\":\"d88a2473-675c-41a0-84a0-c287425d3fc7\",\"type\":\"BasicTicker\"},{\"attributes\":{},\"id\":\"bc7eacc2-f560-4d5a-be2f-f9d7ce4b88cd\",\"type\":\"BasicTicker\"},{\"attributes\":{\"source\":{\"id\":\"08f8655b-84e6-4284-9c5f-2d6ef7e5b0ef\",\"type\":\"ColumnDataSource\"}},\"id\":\"e6fec298-a7b2-442e-be95-b1e27c8806ad\",\"type\":\"CDSView\"},{\"attributes\":{\"axis_label\":\"pressure [mb]\",\"formatter\":{\"id\":\"a6060de6-389a-4a12-b6f2-b02d3dcfa7b5\",\"type\":\"LogTickFormatter\"},\"plot\":{\"id\":\"30ff4953-fa78-4148-a415-5269962299db\",\"subtype\":\"Figure\",\"type\":\"Plot\"},\"ticker\":{\"id\":\"34a24c51-ff0d-496f-88cf-c2d8ebbd0062\",\"type\":\"LogTicker\"}},\"id\":\"85837030-9787-4de2-8640-97285aa44820\",\"type\":\"LogAxis\"},{\"attributes\":{\"axis_label\":\"cooling rate [K/day]\",\"formatter\":{\"id\":\"00a1a3ce-256b-4994-9647-47b0cc7c252c\",\"type\":\"BasicTickFormatter\"},\"plot\":{\"id\":\"025d203a-9896-44c2-98fe-98015901621f\",\"subtype\":\"Figure\",\"type\":\"Plot\"},\"ticker\":{\"id\":\"d88a2473-675c-41a0-84a0-c287425d3fc7\",\"type\":\"BasicTicker\"}},\"id\":\"5e0b12a3-4982-4d70-8e3b-1e56863df5cb\",\"type\":\"LinearAxis\"},{\"attributes\":{\"num_minor_ticks\":10},\"id\":\"34a24c51-ff0d-496f-88cf-c2d8ebbd0062\",\"type\":\"LogTicker\"},{\"attributes\":{},\"id\":\"4240f6e9-64f7-4797-88cf-0a72cfd7f0c8\",\"type\":\"SaveTool\"},{\"attributes\":{\"dimension\":1,\"plot\":{\"id\":\"30ff4953-fa78-4148-a415-5269962299db\",\"subtype\":\"Figure\",\"type\":\"Plot\"},\"ticker\":{\"id\":\"34a24c51-ff0d-496f-88cf-c2d8ebbd0062\",\"type\":\"LogTicker\"}},\"id\":\"e65cd839-5371-46dd-8814-d6a5cd70e4da\",\"type\":\"Grid\"},{\"attributes\":{\"fill_alpha\":{\"value\":0.1},\"fill_color\":{\"value\":\"#1f77b4\"},\"line_alpha\":{\"value\":0.1},\"line_color\":{\"value\":\"#1f77b4\"},\"x\":{\"field\":\"x\"},\"y\":{\"field\":\"y\"}},\"id\":\"1e2dc456-5e03-4c2a-bd4b-96f7a5637917\",\"type\":\"Square\"},{\"attributes\":{\"plot\":{\"id\":\"025d203a-9896-44c2-98fe-98015901621f\",\"subtype\":\"Figure\",\"type\":\"Plot\"},\"ticker\":{\"id\":\"d88a2473-675c-41a0-84a0-c287425d3fc7\",\"type\":\"BasicTicker\"}},\"id\":\"a4b753a7-83f6-4aeb-a467-ccb403d50f08\",\"type\":\"Grid\"},{\"attributes\":{\"data_source\":{\"id\":\"08f8655b-84e6-4284-9c5f-2d6ef7e5b0ef\",\"type\":\"ColumnDataSource\"},\"glyph\":{\"id\":\"dba043e6-14ea-4f07-8eff-2b4cf3f526c2\",\"type\":\"Line\"},\"hover_glyph\":null,\"muted_glyph\":null,\"nonselection_glyph\":{\"id\":\"3586c99a-8e0f-49e4-959f-c989d3df36ff\",\"type\":\"Line\"},\"selection_glyph\":null,\"view\":{\"id\":\"e6fec298-a7b2-442e-be95-b1e27c8806ad\",\"type\":\"CDSView\"}},\"id\":\"42691435-1414-42af-bbc5-d4b88712f443\",\"type\":\"GlyphRenderer\"},{\"attributes\":{\"line_alpha\":0.6,\"line_color\":\"#984ea3\",\"line_width\":3,\"x\":{\"field\":\"x\"},\"y\":{\"field\":\"y\"}},\"id\":\"dba043e6-14ea-4f07-8eff-2b4cf3f526c2\",\"type\":\"Line\"},{\"attributes\":{\"callback\":null,\"data\":{\"x\":{\"__ndarray__\":\"689Qp0ZEbb9oGHclGN5ev5mLY2SSQV0/u4lB1ikQeD9qgVdGaD2FPwYRQVrWWY8/dw2EJAg3lT8p2hH120SbP8oiQj8l8aA/I/wlJE+NpD/cRpGwunyoP+ddxa+Cxaw/eGXnUES0sD9ul+eMouqyP40F0H6furQ/IaigeD1etj/2YuZ/QRG4P+ZSf4EP1rk/sw6pcgytuz/IOIwgB5a9P+14qWyAWr8/o8XMDzLBvT+yR5ObDAm4P/1fdlKN5bE/17zPtIRXqT8mi15bW5ygP3yEWKbWGpM/MGrF8jwMgz9QGPWFqlByP49Ug1ezLmE/WT0GxRM3ST+gdqbnoMntvlqp/DDr3Sw/odaDwNN5Uj+MdkfuPApYPyRdKE8SkVE/HNNVYGkoFj+AcfZV+jFZv5OczfRjq2y/xbcjw1FFdr/32VQ1zUp+v3yHpUFNTYO/HbvXD4mwh7+dy1WsBV6Mv5HGetT2epC/9q+tzodekb8HEoqzCQ+Qv9UQyJ5bYou/jN4i2Wc6hr9EiWz388eAv3VbuZnIFna/ryOFqAwaZL8gUwF1IgtEP6FGxMXv/G4/8mKDHSjKfD/nRUx06BuFPwQZp1f3yIs/Izy9riInkT8gY3gSGUeUP/3N5CpTOJc/U37ypsHymT/ycV3N/3WcP2SSJ4bxxZ4/AxzmKzx1oD98s6ahIXahP2nRUn5TaKI/vxPPahxJoz+M2eJhXgikPxsBJhklfaQ/T9Ln9Q5qpD+q2NzegamjP8FL13w5V6I/6Qb3/NG0oD/wbe1dA+6dP7gFs6c3cJo/\",\"dtype\":\"float64\",\"shape\":[75]},\"y\":{\"__ndarray__\":\"GhExyth1ND/Sv8nbtpRIP2vylNV0PVE/aTum7souWD/At0SJ8fVgPw3Iuahxymc/MSNhhJWvcD/bTfBN02d3P2zb5nxnaoA/CD5h5MAGhz8NmeH1TyaQP+zrCsc9p5Y/LbKd76fGnz/bLW5ISEmmPww9YvTcQq8/JV2OstnstT8Er5Y7M8G+P0c+r3jqkcU/5h99k6ZBzj88bCIzFzjVP4enV8oyxN0//yH99nXg5D8qOpLLf0jtP5kqGJXUifQ/c9cS8kHP/D+/DpwzojQEQIEmwoanVwxA4lgXt9HgE0BSSZ2AJuIbQAMJih9jjiNA5q4l5INuK0AwTKYKRj0zQNv5fmq8/DpAaCJseHrtQkB/+zpwzoxKQM3MzMzMeFJAZmZmZmZqWEAAAAAAAFxeQM3MzMzMJmJAmpmZmZkfZUBmZmZmZhhoQDMzMzMzEWtAAAAAAAAKbkBmZmZmZoFwQM3MzMzM/XFAMzMzMzN6c0CamZmZmfZ0QAAAAAAAc3ZAZmZmZmbvd0DNzMzMzGt5QDMzMzMz6HpAmpmZmZlkfEAAAAAAAOF9QGZmZmZmXX9AZmZmZuZsgECamZmZGSuBQM3MzMxM6YFAAAAAAICngkAzMzMzs2WDQGZmZmbmI4RAmpmZmRnihEDNzMzMTKCFQAAAAACAXoZAMzMzM7Mch0BmZmZm5tqHQJqZmZkZmYhAzczMzExXiUAAAAAAgBWKQDMzMzOz04pAZmZmZuaRi0CamZmZGVCMQM3MzMxMDo1AAAAAAIDMjUAzMzMzs4qOQGZmZmbmSI9A\",\"dtype\":\"float64\",\"shape\":[75]}},\"selected\":{\"id\":\"c38cf841-f41e-4d2d-9e49-9c2fe3f2c587\",\"type\":\"Selection\"},\"selection_policy\":{\"id\":\"52884c0a-f9c9-4999-92d7-f06bfe65d452\",\"type\":\"UnionRenderers\"}},\"id\":\"99a18311-5549-44e4-b127-9450fb761432\",\"type\":\"ColumnDataSource\"},{\"attributes\":{},\"id\":\"3531dbb5-d023-458d-b539-04d698b87358\",\"type\":\"PanTool\"},{\"attributes\":{\"source\":{\"id\":\"7a11cb22-222a-47b6-86e5-1f75d2e9dde6\",\"type\":\"ColumnDataSource\"}},\"id\":\"f092b752-2a44-4369-83ea-15adc59af4e9\",\"type\":\"CDSView\"},{\"attributes\":{\"callback\":null,\"data\":{\"x\":{\"__ndarray__\":\"1GDle71spb8TLzWV++qjv4TDUoAvmKC/vib58MPVmb85VHYwnt6Rv5Eu/jQvYoK/yI/r1Dy2KT938AfwT6uEPwDQM2BZPJU/yKnM+n91oD8jk95HgLGmP33THCf0Ua0/FUDBXaclsj8y52Dj2ky1P4cnAhcpmLc/1Y2/K+pjuT+mo8YNFRC7P7dWngQlnbw/IR/hOFsRvj+gSQ59vYW/P6KkfihtdcA/j5WQaxaHvT+RhbfeFsi0P/y7yfedwqk/FDqpHIx5nj/NDWBAd2yRP9dDD21pHoM/OIMfRzLidz+1kje4pE51PzOorUazCHQ/TzCnRNhTcD+9nNCUFHdlP5ZEFb0VwmA/rA2dgxs/ZD+/5YDcDjBmP9VwDYw1BWY/FC66prmYYz+mjQhgivhWP8BbtiNsx/i+eEIdnI7EV7/IzH2qdV9ov37705vxIXO/PAM4TgQre78vdSyeMHaCv3vILzyPKIi/NhtR4uT4ir/R2uXrtIuIv4eQgoVdHYS/QTRMalChf78zRCxuaAV3v951uQ2sOmy/HgsnUuoYU797zAJrVjJUP2iC+n6IrW4/jbtPWOEFej+tRpcS+3qCP8ePtERe+4c/Lf3Ck81mjT+l+LnXiU+RP38bIyURxpM/HqdpKPAPlj8u727J2C6YP3QBCytNKpo/gWyA3YgPnD9QA7BI5u2dPwoBujI10p8/UYb3S7XeoD8X5GH82MahP0peqz0ubaI/yTjTNzp9oj9npnmGHMChP2vvUjBDWKA/dgOf5fIynT9nEBRtc4GZP7gM80pOw5U/\",\"dtype\":\"float64\",\"shape\":[75]},\"y\":{\"__ndarray__\":\"GhExyth1ND/Sv8nbtpRIP2vylNV0PVE/aTum7souWD/At0SJ8fVgPw3Iuahxymc/MSNhhJWvcD/bTfBN02d3P2zb5nxnaoA/CD5h5MAGhz8NmeH1TyaQP+zrCsc9p5Y/LbKd76fGnz/bLW5ISEmmPww9YvTcQq8/JV2OstnstT8Er5Y7M8G+P0c+r3jqkcU/5h99k6ZBzj88bCIzFzjVP4enV8oyxN0//yH99nXg5D8qOpLLf0jtP5kqGJXUifQ/c9cS8kHP/D+/DpwzojQEQIEmwoanVwxA4lgXt9HgE0BSSZ2AJuIbQAMJih9jjiNA5q4l5INuK0AwTKYKRj0zQNv5fmq8/DpAaCJseHrtQkB/+zpwzoxKQM3MzMzMeFJAZmZmZmZqWEAAAAAAAFxeQM3MzMzMJmJAmpmZmZkfZUBmZmZmZhhoQDMzMzMzEWtAAAAAAAAKbkBmZmZmZoFwQM3MzMzM/XFAMzMzMzN6c0CamZmZmfZ0QAAAAAAAc3ZAZmZmZmbvd0DNzMzMzGt5QDMzMzMz6HpAmpmZmZlkfEAAAAAAAOF9QGZmZmZmXX9AZmZmZuZsgECamZmZGSuBQM3MzMxM6YFAAAAAAICngkAzMzMzs2WDQGZmZmbmI4RAmpmZmRnihEDNzMzMTKCFQAAAAACAXoZAMzMzM7Mch0BmZmZm5tqHQJqZmZkZmYhAzczMzExXiUAAAAAAgBWKQDMzMzOz04pAZmZmZuaRi0CamZmZGVCMQM3MzMxMDo1AAAAAAIDMjUAzMzMzs4qOQGZmZmbmSI9A\",\"dtype\":\"float64\",\"shape\":[75]}},\"selected\":{\"id\":\"1237cc54-de87-4673-8cdb-7c7e86e3b311\",\"type\":\"Selection\"},\"selection_policy\":{\"id\":\"7ea7b9a5-3380-4d84-b9de-21e95bc26ade\",\"type\":\"UnionRenderers\"}},\"id\":\"7efb0504-795b-46db-9003-0cbf038c3c94\",\"type\":\"ColumnDataSource\"},{\"attributes\":{},\"id\":\"74270d7d-c72f-4712-8272-54543a17d357\",\"type\":\"WheelZoomTool\"},{\"attributes\":{\"line_alpha\":0.1,\"line_color\":\"#1f77b4\",\"line_width\":3,\"x\":{\"field\":\"x\"},\"y\":{\"field\":\"y\"}},\"id\":\"3586c99a-8e0f-49e4-959f-c989d3df36ff\",\"type\":\"Line\"},{\"attributes\":{\"overlay\":{\"id\":\"5da0d39a-962c-4a0a-870a-45dc5ff6d838\",\"type\":\"BoxAnnotation\"}},\"id\":\"c3b91c5c-7aa7-49a8-9911-b05364daf1ca\",\"type\":\"BoxZoomTool\"},{\"attributes\":{\"fill_alpha\":{\"value\":0.7},\"fill_color\":{\"value\":\"#377eb8\"},\"line_alpha\":{\"value\":0.7},\"line_color\":{\"value\":\"#377eb8\"},\"x\":{\"field\":\"x\"},\"y\":{\"field\":\"y\"}},\"id\":\"c8b754ab-08df-482e-9c18-b68310f4b46b\",\"type\":\"Triangle\"},{\"attributes\":{\"callback\":null,\"data\":{\"x\":{\"__ndarray__\":\"689Qp0ZEbb9oGHclGN5ev5mLY2SSQV0/u4lB1ikQeD9qgVdGaD2FPwYRQVrWWY8/dw2EJAg3lT8p2hH120SbP8oiQj8l8aA/I/wlJE+NpD/cRpGwunyoP+ddxa+Cxaw/eGXnUES0sD9ul+eMouqyP40F0H6furQ/IaigeD1etj/2YuZ/QRG4P+ZSf4EP1rk/sw6pcgytuz/IOIwgB5a9P+14qWyAWr8/o8XMDzLBvT+yR5ObDAm4P/1fdlKN5bE/17zPtIRXqT8mi15bW5ygP3yEWKbWGpM/MGrF8jwMgz9QGPWFqlByP49Ug1ezLmE/WT0GxRM3ST+gdqbnoMntvlqp/DDr3Sw/odaDwNN5Uj+MdkfuPApYPyRdKE8SkVE/HNNVYGkoFj+AcfZV+jFZv5OczfRjq2y/xbcjw1FFdr/32VQ1zUp+v3yHpUFNTYO/HbvXD4mwh7+dy1WsBV6Mv5HGetT2epC/9q+tzodekb8HEoqzCQ+Qv9UQyJ5bYou/jN4i2Wc6hr9EiWz388eAv3VbuZnIFna/ryOFqAwaZL8gUwF1IgtEP6FGxMXv/G4/8mKDHSjKfD/nRUx06BuFPwQZp1f3yIs/Izy9riInkT8gY3gSGUeUP/3N5CpTOJc/U37ypsHymT/ycV3N/3WcP2SSJ4bxxZ4/AxzmKzx1oD98s6ahIXahP2nRUn5TaKI/vxPPahxJoz+M2eJhXgikPxsBJhklfaQ/T9Ln9Q5qpD+q2NzegamjP8FL13w5V6I/6Qb3/NG0oD/wbe1dA+6dP7gFs6c3cJo/\",\"dtype\":\"float64\",\"shape\":[75]},\"y\":{\"__ndarray__\":\"GhExyth1ND/Sv8nbtpRIP2vylNV0PVE/aTum7souWD/At0SJ8fVgPw3Iuahxymc/MSNhhJWvcD/bTfBN02d3P2zb5nxnaoA/CD5h5MAGhz8NmeH1TyaQP+zrCsc9p5Y/LbKd76fGnz/bLW5ISEmmPww9YvTcQq8/JV2OstnstT8Er5Y7M8G+P0c+r3jqkcU/5h99k6ZBzj88bCIzFzjVP4enV8oyxN0//yH99nXg5D8qOpLLf0jtP5kqGJXUifQ/c9cS8kHP/D+/DpwzojQEQIEmwoanVwxA4lgXt9HgE0BSSZ2AJuIbQAMJih9jjiNA5q4l5INuK0AwTKYKRj0zQNv5fmq8/DpAaCJseHrtQkB/+zpwzoxKQM3MzMzMeFJAZmZmZmZqWEAAAAAAAFxeQM3MzMzMJmJAmpmZmZkfZUBmZmZmZhhoQDMzMzMzEWtAAAAAAAAKbkBmZmZmZoFwQM3MzMzM/XFAMzMzMzN6c0CamZmZmfZ0QAAAAAAAc3ZAZmZmZmbvd0DNzMzMzGt5QDMzMzMz6HpAmpmZmZlkfEAAAAAAAOF9QGZmZmZmXX9AZmZmZuZsgECamZmZGSuBQM3MzMxM6YFAAAAAAICngkAzMzMzs2WDQGZmZmbmI4RAmpmZmRnihEDNzMzMTKCFQAAAAACAXoZAMzMzM7Mch0BmZmZm5tqHQJqZmZkZmYhAzczMzExXiUAAAAAAgBWKQDMzMzOz04pAZmZmZuaRi0CamZmZGVCMQM3MzMxMDo1AAAAAAIDMjUAzMzMzs4qOQGZmZmbmSI9A\",\"dtype\":\"float64\",\"shape\":[75]}},\"selected\":{\"id\":\"1409b892-fcc8-4a59-a7b7-a487c74db734\",\"type\":\"Selection\"},\"selection_policy\":{\"id\":\"c85c2258-a1c3-4cc0-99e1-b3d9f81a691b\",\"type\":\"UnionRenderers\"}},\"id\":\"c9ce053f-b191-4038-9485-4f10d7065db0\",\"type\":\"ColumnDataSource\"},{\"attributes\":{\"fill_alpha\":{\"value\":0.1},\"fill_color\":{\"value\":\"#1f77b4\"},\"line_alpha\":{\"value\":0.1},\"line_color\":{\"value\":\"#1f77b4\"},\"x\":{\"field\":\"x\"},\"y\":{\"field\":\"y\"}},\"id\":\"aae0b92a-a5d4-43ec-ad29-4dc656411340\",\"type\":\"Triangle\"},{\"attributes\":{},\"id\":\"df76fe43-40b4-4a90-96ea-bca516812f6d\",\"type\":\"WheelZoomTool\"},{\"attributes\":{\"data_source\":{\"id\":\"99a18311-5549-44e4-b127-9450fb761432\",\"type\":\"ColumnDataSource\"},\"glyph\":{\"id\":\"c8b754ab-08df-482e-9c18-b68310f4b46b\",\"type\":\"Triangle\"},\"hover_glyph\":null,\"muted_glyph\":null,\"nonselection_glyph\":{\"id\":\"aae0b92a-a5d4-43ec-ad29-4dc656411340\",\"type\":\"Triangle\"},\"selection_glyph\":null,\"view\":{\"id\":\"adbdf11b-4fa9-478f-bffd-1fdc7e41eb66\",\"type\":\"CDSView\"}},\"id\":\"586928fc-bce3-4124-9a54-6984c83f3d3a\",\"type\":\"GlyphRenderer\"},{\"attributes\":{\"source\":{\"id\":\"99a18311-5549-44e4-b127-9450fb761432\",\"type\":\"ColumnDataSource\"}},\"id\":\"adbdf11b-4fa9-478f-bffd-1fdc7e41eb66\",\"type\":\"CDSView\"},{\"attributes\":{\"line_alpha\":0.3,\"line_color\":\"#377eb8\",\"line_width\":2,\"x\":{\"field\":\"x\"},\"y\":{\"field\":\"y\"}},\"id\":\"abb7153c-c786-4826-a4c6-6eef93e2d0ec\",\"type\":\"Line\"},{\"attributes\":{},\"id\":\"9821b76a-f100-4607-b0e8-9850a6bce99c\",\"type\":\"UnionRenderers\"},{\"attributes\":{\"children\":[{\"id\":\"cdb85958-ce26-4173-9112-e8d5e2ecf4fe\",\"type\":\"Row\"}]},\"id\":\"2c11799a-23b8-4340-88b8-58273ee91074\",\"type\":\"Column\"},{\"attributes\":{},\"id\":\"a78f9f79-70c1-4892-8f2d-132d4673f18d\",\"type\":\"HelpTool\"},{\"attributes\":{},\"id\":\"c7733bb2-d6db-49ca-88c7-65733e00fe33\",\"type\":\"PanTool\"},{\"attributes\":{\"line_alpha\":0.1,\"line_color\":\"#1f77b4\",\"line_width\":2,\"x\":{\"field\":\"x\"},\"y\":{\"field\":\"y\"}},\"id\":\"736de9ff-8348-4dc9-9086-47d6bf3bf7be\",\"type\":\"Line\"},{\"attributes\":{\"data_source\":{\"id\":\"c9ce053f-b191-4038-9485-4f10d7065db0\",\"type\":\"ColumnDataSource\"},\"glyph\":{\"id\":\"abb7153c-c786-4826-a4c6-6eef93e2d0ec\",\"type\":\"Line\"},\"hover_glyph\":null,\"muted_glyph\":null,\"nonselection_glyph\":{\"id\":\"736de9ff-8348-4dc9-9086-47d6bf3bf7be\",\"type\":\"Line\"},\"selection_glyph\":null,\"view\":{\"id\":\"c0725fa5-5d67-4273-8e6b-ecadf9699eb5\",\"type\":\"CDSView\"}},\"id\":\"eadedfda-b0f7-4fb6-9a2e-53e4d981aa2f\",\"type\":\"GlyphRenderer\"},{\"attributes\":{},\"id\":\"d059458b-8cf7-44bd-add4-9342ea87580e\",\"type\":\"ResetTool\"},{\"attributes\":{\"source\":{\"id\":\"c9ce053f-b191-4038-9485-4f10d7065db0\",\"type\":\"ColumnDataSource\"}},\"id\":\"c0725fa5-5d67-4273-8e6b-ecadf9699eb5\",\"type\":\"CDSView\"},{\"attributes\":{\"plot\":null,\"text\":\"\"},\"id\":\"dd46ead2-2975-4547-8040-d7b429ca8656\",\"type\":\"Title\"},{\"attributes\":{},\"id\":\"127d385d-68d3-4bf2-8b80-dcf4cc598710\",\"type\":\"Selection\"},{\"attributes\":{\"children\":[{\"id\":\"025d203a-9896-44c2-98fe-98015901621f\",\"subtype\":\"Figure\",\"type\":\"Plot\"},{\"id\":\"30ff4953-fa78-4148-a415-5269962299db\",\"subtype\":\"Figure\",\"type\":\"Plot\"}]},\"id\":\"cdb85958-ce26-4173-9112-e8d5e2ecf4fe\",\"type\":\"Row\"},{\"attributes\":{\"callback\":null,\"end\":0.01,\"start\":1020},\"id\":\"5a0e107b-2748-4bb0-a055-41dcc144b433\",\"type\":\"Range1d\"},{\"attributes\":{\"label\":{\"value\":\"CRD\"},\"renderers\":[{\"id\":\"b6351524-4c1f-405a-80ce-c08fcaa3201c\",\"type\":\"GlyphRenderer\"},{\"id\":\"5d0d8259-77ca-4e47-8066-3bfe5e378ed6\",\"type\":\"GlyphRenderer\"}]},\"id\":\"f041f489-4348-4393-94ca-9f8315288bed\",\"type\":\"LegendItem\"},{\"attributes\":{},\"id\":\"d680ca9f-e926-489e-9ef1-d10daac0740b\",\"type\":\"BasicTickFormatter\"},{\"attributes\":{\"label\":{\"value\":\"WGT igg=1\"},\"renderers\":[{\"id\":\"d4b75ed4-7460-4007-a943-936c3b795abf\",\"type\":\"GlyphRenderer\"},{\"id\":\"42691435-1414-42af-bbc5-d4b88712f443\",\"type\":\"GlyphRenderer\"}]},\"id\":\"352b06b7-838e-45f9-8ad8-a43188789726\",\"type\":\"LegendItem\"},{\"attributes\":{},\"id\":\"d415952d-9629-4e80-855c-2921a74e1ccb\",\"type\":\"Selection\"},{\"attributes\":{\"label\":{\"value\":\"WGT igg=10\"},\"renderers\":[{\"id\":\"586928fc-bce3-4124-9a54-6984c83f3d3a\",\"type\":\"GlyphRenderer\"},{\"id\":\"eadedfda-b0f7-4fb6-9a2e-53e4d981aa2f\",\"type\":\"GlyphRenderer\"}]},\"id\":\"87d86b58-4924-46fd-b45c-766364a70666\",\"type\":\"LegendItem\"},{\"attributes\":{},\"id\":\"fb4afdbb-018e-42a1-8612-6041717cbaa0\",\"type\":\"Selection\"},{\"attributes\":{},\"id\":\"f196ee21-f687-49c5-9806-38184059bb7a\",\"type\":\"Selection\"},{\"attributes\":{},\"id\":\"00a1a3ce-256b-4994-9647-47b0cc7c252c\",\"type\":\"BasicTickFormatter\"},{\"attributes\":{\"fill_alpha\":{\"value\":0.7},\"fill_color\":{\"value\":\"#4daf4a\"},\"line_alpha\":{\"value\":0.7},\"line_color\":{\"value\":\"#4daf4a\"},\"x\":{\"field\":\"x\"},\"y\":{\"field\":\"y\"}},\"id\":\"8bb6d27b-948a-4ca9-9a10-4f9162669839\",\"type\":\"Circle\"},{\"attributes\":{},\"id\":\"606c7f21-68a4-42c3-9638-2a781c122c6a\",\"type\":\"Selection\"},{\"attributes\":{},\"id\":\"0a7a1c54-7f21-4abb-9b6a-f5b308de4b16\",\"type\":\"UnionRenderers\"},{\"attributes\":{},\"id\":\"21b73749-7d57-4e54-91b5-75727fff5274\",\"type\":\"Selection\"},{\"attributes\":{},\"id\":\"2e595f6a-6901-486a-a725-ebcf5fa9dacd\",\"type\":\"UnionRenderers\"},{\"attributes\":{},\"id\":\"7e414deb-6952-43c3-a962-36e07061f0e2\",\"type\":\"UnionRenderers\"},{\"attributes\":{\"ticker\":null},\"id\":\"a6060de6-389a-4a12-b6f2-b02d3dcfa7b5\",\"type\":\"LogTickFormatter\"},{\"attributes\":{\"fill_alpha\":{\"value\":0.1},\"fill_color\":{\"value\":\"#1f77b4\"},\"line_alpha\":{\"value\":0.1},\"line_color\":{\"value\":\"#1f77b4\"},\"x\":{\"field\":\"x\"},\"y\":{\"field\":\"y\"}},\"id\":\"65a60cf7-cebb-49c8-a6bb-b7436a4f1c8e\",\"type\":\"Circle\"},{\"attributes\":{},\"id\":\"5d9e6e18-5117-4439-a5cb-51129d942e7d\",\"type\":\"UnionRenderers\"},{\"attributes\":{\"plot\":null,\"text\":\"\"},\"id\":\"e18b5eed-726d-459c-ab8e-a38255ddf346\",\"type\":\"Title\"},{\"attributes\":{},\"id\":\"26a3e2c9-f0d1-4fa8-bd47-ad27c813af9c\",\"type\":\"BasicTickFormatter\"}],\"root_ids\":[\"7af4714f-4315-4d6f-bed5-0c272c773e70\"]},\"title\":\"Bokeh Application\",\"version\":\"0.12.16\"}};\n",
       "  var render_items = [{\"docid\":\"04152b78-f25d-41cf-ac6b-8e0eab67ea24\",\"elementid\":\"dd01a9d8-5530-4661-bcd6-37ecb1028ccd\",\"modelid\":\"7af4714f-4315-4d6f-bed5-0c272c773e70\"}];\n",
       "  root.Bokeh.embed.embed_items_notebook(docs_json, render_items);\n",
       "\n",
       "  }\n",
       "  if (root.Bokeh !== undefined) {\n",
       "    embed_document(root);\n",
       "  } else {\n",
       "    var attempts = 0;\n",
       "    var timer = setInterval(function(root) {\n",
       "      if (root.Bokeh !== undefined) {\n",
       "        embed_document(root);\n",
       "        clearInterval(timer);\n",
       "      }\n",
       "      attempts++;\n",
       "      if (attempts > 100) {\n",
       "        console.log(\"Bokeh: ERROR: Unable to run BokehJS code because BokehJS library is missing\")\n",
       "        clearInterval(timer);\n",
       "      }\n",
       "    }, 10, root)\n",
       "  }\n",
       "})(window);"
      ],
      "application/vnd.bokehjs_exec.v0+json": ""
     },
     "metadata": {
      "application/vnd.bokehjs_exec.v0+json": {
       "id": "7af4714f-4315-4d6f-bed5-0c272c773e70"
      }
     },
     "output_type": "display_data"
    },
    {
     "data": {
      "text/markdown": [
       "*FIGURE.* Cooling rates. Summed over g."
      ],
      "text/plain": [
       "<IPython.core.display.Markdown object>"
      ]
     },
     "metadata": {},
     "output_type": "display_data"
    },
    {
     "data": {
      "text/html": [
       "<a id=\"Flux_Comparison\"></a>"
      ],
      "text/plain": [
       "<IPython.core.display.HTML object>"
      ]
     },
     "metadata": {},
     "output_type": "display_data"
    },
    {
     "data": {
      "text/markdown": [
       "# Flux Comparison"
      ],
      "text/plain": [
       "<IPython.core.display.Markdown object>"
      ]
     },
     "metadata": {},
     "output_type": "display_data"
    },
    {
     "data": {
      "text/html": [
       "<div>\n",
       "<style scoped>\n",
       "    .dataframe tbody tr th:only-of-type {\n",
       "        vertical-align: middle;\n",
       "    }\n",
       "\n",
       "    .dataframe tbody tr th {\n",
       "        vertical-align: top;\n",
       "    }\n",
       "\n",
       "    .dataframe thead th {\n",
       "        text-align: right;\n",
       "    }\n",
       "</style>\n",
       "<table border=\"1\" class=\"dataframe\">\n",
       "  <thead>\n",
       "    <tr style=\"text-align: right;\">\n",
       "      <th></th>\n",
       "      <th></th>\n",
       "      <th></th>\n",
       "      <th>flug</th>\n",
       "      <th>fldg</th>\n",
       "      <th>fnetg</th>\n",
       "    </tr>\n",
       "    <tr>\n",
       "      <th>g</th>\n",
       "      <th>pressure</th>\n",
       "      <th>level</th>\n",
       "      <th></th>\n",
       "      <th></th>\n",
       "      <th></th>\n",
       "    </tr>\n",
       "  </thead>\n",
       "  <tbody>\n",
       "    <tr>\n",
       "      <th rowspan=\"3\" valign=\"top\">1</th>\n",
       "      <th>0.00</th>\n",
       "      <th>1</th>\n",
       "      <td>-0.026001</td>\n",
       "      <td>0.000000</td>\n",
       "      <td>-0.026001</td>\n",
       "    </tr>\n",
       "    <tr>\n",
       "      <th>299.75</th>\n",
       "      <th>46</th>\n",
       "      <td>-0.026911</td>\n",
       "      <td>0.011881</td>\n",
       "      <td>-0.015030</td>\n",
       "    </tr>\n",
       "    <tr>\n",
       "      <th>1013.00</th>\n",
       "      <th>76</th>\n",
       "      <td>-0.051243</td>\n",
       "      <td>0.044178</td>\n",
       "      <td>-0.007065</td>\n",
       "    </tr>\n",
       "    <tr>\n",
       "      <th rowspan=\"3\" valign=\"top\">2</th>\n",
       "      <th>0.00</th>\n",
       "      <th>1</th>\n",
       "      <td>-0.162262</td>\n",
       "      <td>0.000000</td>\n",
       "      <td>-0.162262</td>\n",
       "    </tr>\n",
       "    <tr>\n",
       "      <th>299.75</th>\n",
       "      <th>46</th>\n",
       "      <td>-0.209733</td>\n",
       "      <td>0.069321</td>\n",
       "      <td>-0.140412</td>\n",
       "    </tr>\n",
       "    <tr>\n",
       "      <th>1013.00</th>\n",
       "      <th>76</th>\n",
       "      <td>-0.382953</td>\n",
       "      <td>0.323833</td>\n",
       "      <td>-0.059120</td>\n",
       "    </tr>\n",
       "    <tr>\n",
       "      <th rowspan=\"3\" valign=\"top\">3</th>\n",
       "      <th>0.00</th>\n",
       "      <th>1</th>\n",
       "      <td>-1.960559</td>\n",
       "      <td>0.000000</td>\n",
       "      <td>-1.960559</td>\n",
       "    </tr>\n",
       "    <tr>\n",
       "      <th>299.75</th>\n",
       "      <th>46</th>\n",
       "      <td>-2.203757</td>\n",
       "      <td>0.186377</td>\n",
       "      <td>-2.017380</td>\n",
       "    </tr>\n",
       "    <tr>\n",
       "      <th>1013.00</th>\n",
       "      <th>76</th>\n",
       "      <td>-2.876572</td>\n",
       "      <td>1.863127</td>\n",
       "      <td>-1.013445</td>\n",
       "    </tr>\n",
       "    <tr>\n",
       "      <th rowspan=\"3\" valign=\"top\">4</th>\n",
       "      <th>0.00</th>\n",
       "      <th>1</th>\n",
       "      <td>-6.154138</td>\n",
       "      <td>0.000000</td>\n",
       "      <td>-6.154138</td>\n",
       "    </tr>\n",
       "    <tr>\n",
       "      <th>299.75</th>\n",
       "      <th>46</th>\n",
       "      <td>-6.187159</td>\n",
       "      <td>0.013466</td>\n",
       "      <td>-6.173693</td>\n",
       "    </tr>\n",
       "    <tr>\n",
       "      <th>1013.00</th>\n",
       "      <th>76</th>\n",
       "      <td>-6.247262</td>\n",
       "      <td>0.301687</td>\n",
       "      <td>-5.945575</td>\n",
       "    </tr>\n",
       "  </tbody>\n",
       "</table>\n",
       "</div>"
      ],
      "text/plain": [
       "                      flug      fldg     fnetg\n",
       "g pressure level                              \n",
       "1 0.00     1     -0.026001  0.000000 -0.026001\n",
       "  299.75   46    -0.026911  0.011881 -0.015030\n",
       "  1013.00  76    -0.051243  0.044178 -0.007065\n",
       "2 0.00     1     -0.162262  0.000000 -0.162262\n",
       "  299.75   46    -0.209733  0.069321 -0.140412\n",
       "  1013.00  76    -0.382953  0.323833 -0.059120\n",
       "3 0.00     1     -1.960559  0.000000 -1.960559\n",
       "  299.75   46    -2.203757  0.186377 -2.017380\n",
       "  1013.00  76    -2.876572  1.863127 -1.013445\n",
       "4 0.00     1     -6.154138  0.000000 -6.154138\n",
       "  299.75   46    -6.187159  0.013466 -6.173693\n",
       "  1013.00  76    -6.247262  0.301687 -5.945575"
      ]
     },
     "metadata": {},
     "output_type": "display_data"
    },
    {
     "data": {
      "text/markdown": [
       "*TABLE.* Fluxes. CRD"
      ],
      "text/plain": [
       "<IPython.core.display.Markdown object>"
      ]
     },
     "metadata": {},
     "output_type": "display_data"
    },
    {
     "data": {
      "text/html": [
       "<div>\n",
       "<style scoped>\n",
       "    .dataframe tbody tr th:only-of-type {\n",
       "        vertical-align: middle;\n",
       "    }\n",
       "\n",
       "    .dataframe tbody tr th {\n",
       "        vertical-align: top;\n",
       "    }\n",
       "\n",
       "    .dataframe thead th {\n",
       "        text-align: right;\n",
       "    }\n",
       "</style>\n",
       "<table border=\"1\" class=\"dataframe\">\n",
       "  <thead>\n",
       "    <tr style=\"text-align: right;\">\n",
       "      <th></th>\n",
       "      <th></th>\n",
       "      <th></th>\n",
       "      <th>flug</th>\n",
       "      <th>fldg</th>\n",
       "      <th>fnetg</th>\n",
       "    </tr>\n",
       "    <tr>\n",
       "      <th>g</th>\n",
       "      <th>pressure</th>\n",
       "      <th>level</th>\n",
       "      <th></th>\n",
       "      <th></th>\n",
       "      <th></th>\n",
       "    </tr>\n",
       "  </thead>\n",
       "  <tbody>\n",
       "    <tr>\n",
       "      <th rowspan=\"3\" valign=\"top\">1</th>\n",
       "      <th>0.00</th>\n",
       "      <th>1</th>\n",
       "      <td>-0.023395</td>\n",
       "      <td>0.000000</td>\n",
       "      <td>-0.023395</td>\n",
       "    </tr>\n",
       "    <tr>\n",
       "      <th>299.75</th>\n",
       "      <th>46</th>\n",
       "      <td>-0.020007</td>\n",
       "      <td>0.013601</td>\n",
       "      <td>-0.006405</td>\n",
       "    </tr>\n",
       "    <tr>\n",
       "      <th>1013.00</th>\n",
       "      <th>76</th>\n",
       "      <td>-0.051274</td>\n",
       "      <td>0.050382</td>\n",
       "      <td>-0.000893</td>\n",
       "    </tr>\n",
       "    <tr>\n",
       "      <th rowspan=\"3\" valign=\"top\">2</th>\n",
       "      <th>0.00</th>\n",
       "      <th>1</th>\n",
       "      <td>-0.109631</td>\n",
       "      <td>0.000000</td>\n",
       "      <td>-0.109631</td>\n",
       "    </tr>\n",
       "    <tr>\n",
       "      <th>299.75</th>\n",
       "      <th>46</th>\n",
       "      <td>-0.192203</td>\n",
       "      <td>0.089788</td>\n",
       "      <td>-0.102415</td>\n",
       "    </tr>\n",
       "    <tr>\n",
       "      <th>1013.00</th>\n",
       "      <th>76</th>\n",
       "      <td>-0.383318</td>\n",
       "      <td>0.346959</td>\n",
       "      <td>-0.036359</td>\n",
       "    </tr>\n",
       "    <tr>\n",
       "      <th rowspan=\"3\" valign=\"top\">3</th>\n",
       "      <th>0.00</th>\n",
       "      <th>1</th>\n",
       "      <td>-1.825484</td>\n",
       "      <td>0.000000</td>\n",
       "      <td>-1.825484</td>\n",
       "    </tr>\n",
       "    <tr>\n",
       "      <th>299.75</th>\n",
       "      <th>46</th>\n",
       "      <td>-2.160156</td>\n",
       "      <td>0.199426</td>\n",
       "      <td>-1.960729</td>\n",
       "    </tr>\n",
       "    <tr>\n",
       "      <th>1013.00</th>\n",
       "      <th>76</th>\n",
       "      <td>-2.879057</td>\n",
       "      <td>2.026856</td>\n",
       "      <td>-0.852201</td>\n",
       "    </tr>\n",
       "    <tr>\n",
       "      <th rowspan=\"3\" valign=\"top\">4</th>\n",
       "      <th>0.00</th>\n",
       "      <th>1</th>\n",
       "      <td>-6.151932</td>\n",
       "      <td>0.000000</td>\n",
       "      <td>-6.151932</td>\n",
       "    </tr>\n",
       "    <tr>\n",
       "      <th>299.75</th>\n",
       "      <th>46</th>\n",
       "      <td>-6.186165</td>\n",
       "      <td>0.012702</td>\n",
       "      <td>-6.173463</td>\n",
       "    </tr>\n",
       "    <tr>\n",
       "      <th>1013.00</th>\n",
       "      <th>76</th>\n",
       "      <td>-6.244381</td>\n",
       "      <td>0.313603</td>\n",
       "      <td>-5.930778</td>\n",
       "    </tr>\n",
       "  </tbody>\n",
       "</table>\n",
       "</div>"
      ],
      "text/plain": [
       "                      flug      fldg     fnetg\n",
       "g pressure level                              \n",
       "1 0.00     1     -0.023395  0.000000 -0.023395\n",
       "  299.75   46    -0.020007  0.013601 -0.006405\n",
       "  1013.00  76    -0.051274  0.050382 -0.000893\n",
       "2 0.00     1     -0.109631  0.000000 -0.109631\n",
       "  299.75   46    -0.192203  0.089788 -0.102415\n",
       "  1013.00  76    -0.383318  0.346959 -0.036359\n",
       "3 0.00     1     -1.825484  0.000000 -1.825484\n",
       "  299.75   46    -2.160156  0.199426 -1.960729\n",
       "  1013.00  76    -2.879057  2.026856 -0.852201\n",
       "4 0.00     1     -6.151932  0.000000 -6.151932\n",
       "  299.75   46    -6.186165  0.012702 -6.173463\n",
       "  1013.00  76    -6.244381  0.313603 -5.930778"
      ]
     },
     "metadata": {},
     "output_type": "display_data"
    },
    {
     "data": {
      "text/markdown": [
       "*TABLE.* Fluxes. WGT igg=1"
      ],
      "text/plain": [
       "<IPython.core.display.Markdown object>"
      ]
     },
     "metadata": {},
     "output_type": "display_data"
    },
    {
     "data": {
      "text/html": [
       "<div>\n",
       "<style scoped>\n",
       "    .dataframe tbody tr th:only-of-type {\n",
       "        vertical-align: middle;\n",
       "    }\n",
       "\n",
       "    .dataframe tbody tr th {\n",
       "        vertical-align: top;\n",
       "    }\n",
       "\n",
       "    .dataframe thead th {\n",
       "        text-align: right;\n",
       "    }\n",
       "</style>\n",
       "<table border=\"1\" class=\"dataframe\">\n",
       "  <thead>\n",
       "    <tr style=\"text-align: right;\">\n",
       "      <th></th>\n",
       "      <th></th>\n",
       "      <th></th>\n",
       "      <th>flug</th>\n",
       "      <th>fldg</th>\n",
       "      <th>fnetg</th>\n",
       "    </tr>\n",
       "    <tr>\n",
       "      <th>g</th>\n",
       "      <th>pressure</th>\n",
       "      <th>level</th>\n",
       "      <th></th>\n",
       "      <th></th>\n",
       "      <th></th>\n",
       "    </tr>\n",
       "  </thead>\n",
       "  <tbody>\n",
       "    <tr>\n",
       "      <th rowspan=\"3\" valign=\"top\">1</th>\n",
       "      <th>0.00</th>\n",
       "      <th>1</th>\n",
       "      <td>-0.023812</td>\n",
       "      <td>0.000000</td>\n",
       "      <td>-0.023812</td>\n",
       "    </tr>\n",
       "    <tr>\n",
       "      <th>299.75</th>\n",
       "      <th>46</th>\n",
       "      <td>-0.018742</td>\n",
       "      <td>0.013615</td>\n",
       "      <td>-0.005128</td>\n",
       "    </tr>\n",
       "    <tr>\n",
       "      <th>1013.00</th>\n",
       "      <th>76</th>\n",
       "      <td>-0.051274</td>\n",
       "      <td>0.051515</td>\n",
       "      <td>0.000241</td>\n",
       "    </tr>\n",
       "    <tr>\n",
       "      <th rowspan=\"3\" valign=\"top\">2</th>\n",
       "      <th>0.00</th>\n",
       "      <th>1</th>\n",
       "      <td>-0.104318</td>\n",
       "      <td>0.000000</td>\n",
       "      <td>-0.104318</td>\n",
       "    </tr>\n",
       "    <tr>\n",
       "      <th>299.75</th>\n",
       "      <th>46</th>\n",
       "      <td>-0.186808</td>\n",
       "      <td>0.092876</td>\n",
       "      <td>-0.093932</td>\n",
       "    </tr>\n",
       "    <tr>\n",
       "      <th>1013.00</th>\n",
       "      <th>76</th>\n",
       "      <td>-0.383318</td>\n",
       "      <td>0.355424</td>\n",
       "      <td>-0.027895</td>\n",
       "    </tr>\n",
       "    <tr>\n",
       "      <th rowspan=\"3\" valign=\"top\">3</th>\n",
       "      <th>0.00</th>\n",
       "      <th>1</th>\n",
       "      <td>-1.846730</td>\n",
       "      <td>0.000000</td>\n",
       "      <td>-1.846730</td>\n",
       "    </tr>\n",
       "    <tr>\n",
       "      <th>299.75</th>\n",
       "      <th>46</th>\n",
       "      <td>-2.193013</td>\n",
       "      <td>0.182325</td>\n",
       "      <td>-2.010688</td>\n",
       "    </tr>\n",
       "    <tr>\n",
       "      <th>1013.00</th>\n",
       "      <th>76</th>\n",
       "      <td>-2.879057</td>\n",
       "      <td>2.048354</td>\n",
       "      <td>-0.830703</td>\n",
       "    </tr>\n",
       "    <tr>\n",
       "      <th rowspan=\"3\" valign=\"top\">4</th>\n",
       "      <th>0.00</th>\n",
       "      <th>1</th>\n",
       "      <td>-6.159459</td>\n",
       "      <td>0.000000</td>\n",
       "      <td>-6.159459</td>\n",
       "    </tr>\n",
       "    <tr>\n",
       "      <th>299.75</th>\n",
       "      <th>46</th>\n",
       "      <td>-6.191169</td>\n",
       "      <td>0.011538</td>\n",
       "      <td>-6.179631</td>\n",
       "    </tr>\n",
       "    <tr>\n",
       "      <th>1013.00</th>\n",
       "      <th>76</th>\n",
       "      <td>-6.244381</td>\n",
       "      <td>0.293579</td>\n",
       "      <td>-5.950802</td>\n",
       "    </tr>\n",
       "  </tbody>\n",
       "</table>\n",
       "</div>"
      ],
      "text/plain": [
       "                      flug      fldg     fnetg\n",
       "g pressure level                              \n",
       "1 0.00     1     -0.023812  0.000000 -0.023812\n",
       "  299.75   46    -0.018742  0.013615 -0.005128\n",
       "  1013.00  76    -0.051274  0.051515  0.000241\n",
       "2 0.00     1     -0.104318  0.000000 -0.104318\n",
       "  299.75   46    -0.186808  0.092876 -0.093932\n",
       "  1013.00  76    -0.383318  0.355424 -0.027895\n",
       "3 0.00     1     -1.846730  0.000000 -1.846730\n",
       "  299.75   46    -2.193013  0.182325 -2.010688\n",
       "  1013.00  76    -2.879057  2.048354 -0.830703\n",
       "4 0.00     1     -6.159459  0.000000 -6.159459\n",
       "  299.75   46    -6.191169  0.011538 -6.179631\n",
       "  1013.00  76    -6.244381  0.293579 -5.950802"
      ]
     },
     "metadata": {},
     "output_type": "display_data"
    },
    {
     "data": {
      "text/markdown": [
       "*TABLE.* Fluxes. WGT igg=10"
      ],
      "text/plain": [
       "<IPython.core.display.Markdown object>"
      ]
     },
     "metadata": {},
     "output_type": "display_data"
    },
    {
     "data": {
      "text/html": [
       "<div>\n",
       "<style scoped>\n",
       "    .dataframe tbody tr th:only-of-type {\n",
       "        vertical-align: middle;\n",
       "    }\n",
       "\n",
       "    .dataframe tbody tr th {\n",
       "        vertical-align: top;\n",
       "    }\n",
       "\n",
       "    .dataframe thead th {\n",
       "        text-align: right;\n",
       "    }\n",
       "</style>\n",
       "<table border=\"1\" class=\"dataframe\">\n",
       "  <thead>\n",
       "    <tr style=\"text-align: right;\">\n",
       "      <th></th>\n",
       "      <th></th>\n",
       "      <th></th>\n",
       "      <th>flug</th>\n",
       "      <th>fldg</th>\n",
       "      <th>fnetg</th>\n",
       "    </tr>\n",
       "    <tr>\n",
       "      <th>g</th>\n",
       "      <th>pressure</th>\n",
       "      <th>level</th>\n",
       "      <th></th>\n",
       "      <th></th>\n",
       "      <th></th>\n",
       "    </tr>\n",
       "  </thead>\n",
       "  <tbody>\n",
       "    <tr>\n",
       "      <th rowspan=\"3\" valign=\"top\">1</th>\n",
       "      <th>0.00</th>\n",
       "      <th>1</th>\n",
       "      <td>0.002605</td>\n",
       "      <td>0.000000</td>\n",
       "      <td>0.002605</td>\n",
       "    </tr>\n",
       "    <tr>\n",
       "      <th>299.75</th>\n",
       "      <th>46</th>\n",
       "      <td>0.006904</td>\n",
       "      <td>0.001720</td>\n",
       "      <td>0.008624</td>\n",
       "    </tr>\n",
       "    <tr>\n",
       "      <th>1013.00</th>\n",
       "      <th>76</th>\n",
       "      <td>-0.000031</td>\n",
       "      <td>0.006203</td>\n",
       "      <td>0.006172</td>\n",
       "    </tr>\n",
       "    <tr>\n",
       "      <th rowspan=\"3\" valign=\"top\">2</th>\n",
       "      <th>0.00</th>\n",
       "      <th>1</th>\n",
       "      <td>0.052631</td>\n",
       "      <td>0.000000</td>\n",
       "      <td>0.052631</td>\n",
       "    </tr>\n",
       "    <tr>\n",
       "      <th>299.75</th>\n",
       "      <th>46</th>\n",
       "      <td>0.017530</td>\n",
       "      <td>0.020467</td>\n",
       "      <td>0.037997</td>\n",
       "    </tr>\n",
       "    <tr>\n",
       "      <th>1013.00</th>\n",
       "      <th>76</th>\n",
       "      <td>-0.000365</td>\n",
       "      <td>0.023126</td>\n",
       "      <td>0.022761</td>\n",
       "    </tr>\n",
       "    <tr>\n",
       "      <th rowspan=\"3\" valign=\"top\">3</th>\n",
       "      <th>0.00</th>\n",
       "      <th>1</th>\n",
       "      <td>0.135075</td>\n",
       "      <td>0.000000</td>\n",
       "      <td>0.135075</td>\n",
       "    </tr>\n",
       "    <tr>\n",
       "      <th>299.75</th>\n",
       "      <th>46</th>\n",
       "      <td>0.043601</td>\n",
       "      <td>0.013050</td>\n",
       "      <td>0.056651</td>\n",
       "    </tr>\n",
       "    <tr>\n",
       "      <th>1013.00</th>\n",
       "      <th>76</th>\n",
       "      <td>-0.002485</td>\n",
       "      <td>0.163729</td>\n",
       "      <td>0.161244</td>\n",
       "    </tr>\n",
       "    <tr>\n",
       "      <th rowspan=\"3\" valign=\"top\">4</th>\n",
       "      <th>0.00</th>\n",
       "      <th>1</th>\n",
       "      <td>0.002206</td>\n",
       "      <td>0.000000</td>\n",
       "      <td>0.002206</td>\n",
       "    </tr>\n",
       "    <tr>\n",
       "      <th>299.75</th>\n",
       "      <th>46</th>\n",
       "      <td>0.000995</td>\n",
       "      <td>-0.000764</td>\n",
       "      <td>0.000230</td>\n",
       "    </tr>\n",
       "    <tr>\n",
       "      <th>1013.00</th>\n",
       "      <th>76</th>\n",
       "      <td>0.002881</td>\n",
       "      <td>0.011916</td>\n",
       "      <td>0.014797</td>\n",
       "    </tr>\n",
       "  </tbody>\n",
       "</table>\n",
       "</div>"
      ],
      "text/plain": [
       "                      flug      fldg     fnetg\n",
       "g pressure level                              \n",
       "1 0.00     1      0.002605  0.000000  0.002605\n",
       "  299.75   46     0.006904  0.001720  0.008624\n",
       "  1013.00  76    -0.000031  0.006203  0.006172\n",
       "2 0.00     1      0.052631  0.000000  0.052631\n",
       "  299.75   46     0.017530  0.020467  0.037997\n",
       "  1013.00  76    -0.000365  0.023126  0.022761\n",
       "3 0.00     1      0.135075  0.000000  0.135075\n",
       "  299.75   46     0.043601  0.013050  0.056651\n",
       "  1013.00  76    -0.002485  0.163729  0.161244\n",
       "4 0.00     1      0.002206  0.000000  0.002206\n",
       "  299.75   46     0.000995 -0.000764  0.000230\n",
       "  1013.00  76     0.002881  0.011916  0.014797"
      ]
     },
     "metadata": {},
     "output_type": "display_data"
    },
    {
     "data": {
      "text/markdown": [
       "*TABLE.* Fluxes. (WGT igg=1) - (CRD)"
      ],
      "text/plain": [
       "<IPython.core.display.Markdown object>"
      ]
     },
     "metadata": {},
     "output_type": "display_data"
    },
    {
     "data": {
      "text/html": [
       "<div>\n",
       "<style scoped>\n",
       "    .dataframe tbody tr th:only-of-type {\n",
       "        vertical-align: middle;\n",
       "    }\n",
       "\n",
       "    .dataframe tbody tr th {\n",
       "        vertical-align: top;\n",
       "    }\n",
       "\n",
       "    .dataframe thead th {\n",
       "        text-align: right;\n",
       "    }\n",
       "</style>\n",
       "<table border=\"1\" class=\"dataframe\">\n",
       "  <thead>\n",
       "    <tr style=\"text-align: right;\">\n",
       "      <th></th>\n",
       "      <th></th>\n",
       "      <th></th>\n",
       "      <th>flug</th>\n",
       "      <th>fldg</th>\n",
       "      <th>fnetg</th>\n",
       "    </tr>\n",
       "    <tr>\n",
       "      <th>g</th>\n",
       "      <th>pressure</th>\n",
       "      <th>level</th>\n",
       "      <th></th>\n",
       "      <th></th>\n",
       "      <th></th>\n",
       "    </tr>\n",
       "  </thead>\n",
       "  <tbody>\n",
       "    <tr>\n",
       "      <th rowspan=\"3\" valign=\"top\">1</th>\n",
       "      <th>0.00</th>\n",
       "      <th>1</th>\n",
       "      <td>0.002188</td>\n",
       "      <td>0.000000</td>\n",
       "      <td>0.002188</td>\n",
       "    </tr>\n",
       "    <tr>\n",
       "      <th>299.75</th>\n",
       "      <th>46</th>\n",
       "      <td>0.008169</td>\n",
       "      <td>0.001733</td>\n",
       "      <td>0.009902</td>\n",
       "    </tr>\n",
       "    <tr>\n",
       "      <th>1013.00</th>\n",
       "      <th>76</th>\n",
       "      <td>-0.000031</td>\n",
       "      <td>0.007337</td>\n",
       "      <td>0.007306</td>\n",
       "    </tr>\n",
       "    <tr>\n",
       "      <th rowspan=\"3\" valign=\"top\">2</th>\n",
       "      <th>0.00</th>\n",
       "      <th>1</th>\n",
       "      <td>0.057944</td>\n",
       "      <td>0.000000</td>\n",
       "      <td>0.057944</td>\n",
       "    </tr>\n",
       "    <tr>\n",
       "      <th>299.75</th>\n",
       "      <th>46</th>\n",
       "      <td>0.022924</td>\n",
       "      <td>0.023555</td>\n",
       "      <td>0.046480</td>\n",
       "    </tr>\n",
       "    <tr>\n",
       "      <th>1013.00</th>\n",
       "      <th>76</th>\n",
       "      <td>-0.000365</td>\n",
       "      <td>0.031591</td>\n",
       "      <td>0.031225</td>\n",
       "    </tr>\n",
       "    <tr>\n",
       "      <th rowspan=\"3\" valign=\"top\">3</th>\n",
       "      <th>0.00</th>\n",
       "      <th>1</th>\n",
       "      <td>0.113829</td>\n",
       "      <td>0.000000</td>\n",
       "      <td>0.113829</td>\n",
       "    </tr>\n",
       "    <tr>\n",
       "      <th>299.75</th>\n",
       "      <th>46</th>\n",
       "      <td>0.010744</td>\n",
       "      <td>-0.004051</td>\n",
       "      <td>0.006692</td>\n",
       "    </tr>\n",
       "    <tr>\n",
       "      <th>1013.00</th>\n",
       "      <th>76</th>\n",
       "      <td>-0.002485</td>\n",
       "      <td>0.185227</td>\n",
       "      <td>0.182742</td>\n",
       "    </tr>\n",
       "    <tr>\n",
       "      <th rowspan=\"3\" valign=\"top\">4</th>\n",
       "      <th>0.00</th>\n",
       "      <th>1</th>\n",
       "      <td>-0.005321</td>\n",
       "      <td>0.000000</td>\n",
       "      <td>-0.005321</td>\n",
       "    </tr>\n",
       "    <tr>\n",
       "      <th>299.75</th>\n",
       "      <th>46</th>\n",
       "      <td>-0.004009</td>\n",
       "      <td>-0.001928</td>\n",
       "      <td>-0.005937</td>\n",
       "    </tr>\n",
       "    <tr>\n",
       "      <th>1013.00</th>\n",
       "      <th>76</th>\n",
       "      <td>0.002881</td>\n",
       "      <td>-0.008108</td>\n",
       "      <td>-0.005227</td>\n",
       "    </tr>\n",
       "  </tbody>\n",
       "</table>\n",
       "</div>"
      ],
      "text/plain": [
       "                      flug      fldg     fnetg\n",
       "g pressure level                              \n",
       "1 0.00     1      0.002188  0.000000  0.002188\n",
       "  299.75   46     0.008169  0.001733  0.009902\n",
       "  1013.00  76    -0.000031  0.007337  0.007306\n",
       "2 0.00     1      0.057944  0.000000  0.057944\n",
       "  299.75   46     0.022924  0.023555  0.046480\n",
       "  1013.00  76    -0.000365  0.031591  0.031225\n",
       "3 0.00     1      0.113829  0.000000  0.113829\n",
       "  299.75   46     0.010744 -0.004051  0.006692\n",
       "  1013.00  76    -0.002485  0.185227  0.182742\n",
       "4 0.00     1     -0.005321  0.000000 -0.005321\n",
       "  299.75   46    -0.004009 -0.001928 -0.005937\n",
       "  1013.00  76     0.002881 -0.008108 -0.005227"
      ]
     },
     "metadata": {},
     "output_type": "display_data"
    },
    {
     "data": {
      "text/markdown": [
       "*TABLE.* Fluxes. (WGT igg=10) - (CRD)"
      ],
      "text/plain": [
       "<IPython.core.display.Markdown object>"
      ]
     },
     "metadata": {},
     "output_type": "display_data"
    },
    {
     "data": {
      "text/html": [
       "<div>\n",
       "<style scoped>\n",
       "    .dataframe tbody tr th:only-of-type {\n",
       "        vertical-align: middle;\n",
       "    }\n",
       "\n",
       "    .dataframe tbody tr th {\n",
       "        vertical-align: top;\n",
       "    }\n",
       "\n",
       "    .dataframe thead th {\n",
       "        text-align: right;\n",
       "    }\n",
       "</style>\n",
       "<table border=\"1\" class=\"dataframe\">\n",
       "  <thead>\n",
       "    <tr style=\"text-align: right;\">\n",
       "      <th></th>\n",
       "      <th></th>\n",
       "      <th>flug</th>\n",
       "      <th>fldg</th>\n",
       "      <th>fnetg</th>\n",
       "    </tr>\n",
       "    <tr>\n",
       "      <th>pressure</th>\n",
       "      <th>level</th>\n",
       "      <th></th>\n",
       "      <th></th>\n",
       "      <th></th>\n",
       "    </tr>\n",
       "  </thead>\n",
       "  <tbody>\n",
       "    <tr>\n",
       "      <th>0.00</th>\n",
       "      <th>1</th>\n",
       "      <td>-8.30296</td>\n",
       "      <td>0.000000</td>\n",
       "      <td>-8.302960</td>\n",
       "    </tr>\n",
       "    <tr>\n",
       "      <th>299.75</th>\n",
       "      <th>46</th>\n",
       "      <td>-8.62756</td>\n",
       "      <td>0.281045</td>\n",
       "      <td>-8.346515</td>\n",
       "    </tr>\n",
       "    <tr>\n",
       "      <th>1013.00</th>\n",
       "      <th>76</th>\n",
       "      <td>-9.55803</td>\n",
       "      <td>2.532825</td>\n",
       "      <td>-7.025205</td>\n",
       "    </tr>\n",
       "  </tbody>\n",
       "</table>\n",
       "</div>"
      ],
      "text/plain": [
       "                   flug      fldg     fnetg\n",
       "pressure level                             \n",
       "0.00     1     -8.30296  0.000000 -8.302960\n",
       "299.75   46    -8.62756  0.281045 -8.346515\n",
       "1013.00  76    -9.55803  2.532825 -7.025205"
      ]
     },
     "metadata": {},
     "output_type": "display_data"
    },
    {
     "data": {
      "text/markdown": [
       "*TABLE.* Fluxes. CRD"
      ],
      "text/plain": [
       "<IPython.core.display.Markdown object>"
      ]
     },
     "metadata": {},
     "output_type": "display_data"
    },
    {
     "data": {
      "text/html": [
       "<div>\n",
       "<style scoped>\n",
       "    .dataframe tbody tr th:only-of-type {\n",
       "        vertical-align: middle;\n",
       "    }\n",
       "\n",
       "    .dataframe tbody tr th {\n",
       "        vertical-align: top;\n",
       "    }\n",
       "\n",
       "    .dataframe thead th {\n",
       "        text-align: right;\n",
       "    }\n",
       "</style>\n",
       "<table border=\"1\" class=\"dataframe\">\n",
       "  <thead>\n",
       "    <tr style=\"text-align: right;\">\n",
       "      <th></th>\n",
       "      <th></th>\n",
       "      <th>flug</th>\n",
       "      <th>fldg</th>\n",
       "      <th>fnetg</th>\n",
       "    </tr>\n",
       "    <tr>\n",
       "      <th>pressure</th>\n",
       "      <th>level</th>\n",
       "      <th></th>\n",
       "      <th></th>\n",
       "      <th></th>\n",
       "    </tr>\n",
       "  </thead>\n",
       "  <tbody>\n",
       "    <tr>\n",
       "      <th>0.00</th>\n",
       "      <th>1</th>\n",
       "      <td>-8.110442</td>\n",
       "      <td>0.000000</td>\n",
       "      <td>-8.110442</td>\n",
       "    </tr>\n",
       "    <tr>\n",
       "      <th>299.75</th>\n",
       "      <th>46</th>\n",
       "      <td>-8.558530</td>\n",
       "      <td>0.315517</td>\n",
       "      <td>-8.243013</td>\n",
       "    </tr>\n",
       "    <tr>\n",
       "      <th>1013.00</th>\n",
       "      <th>76</th>\n",
       "      <td>-9.558030</td>\n",
       "      <td>2.737800</td>\n",
       "      <td>-6.820230</td>\n",
       "    </tr>\n",
       "  </tbody>\n",
       "</table>\n",
       "</div>"
      ],
      "text/plain": [
       "                    flug      fldg     fnetg\n",
       "pressure level                              \n",
       "0.00     1     -8.110442  0.000000 -8.110442\n",
       "299.75   46    -8.558530  0.315517 -8.243013\n",
       "1013.00  76    -9.558030  2.737800 -6.820230"
      ]
     },
     "metadata": {},
     "output_type": "display_data"
    },
    {
     "data": {
      "text/markdown": [
       "*TABLE.* Fluxes. WGT igg=1"
      ],
      "text/plain": [
       "<IPython.core.display.Markdown object>"
      ]
     },
     "metadata": {},
     "output_type": "display_data"
    },
    {
     "data": {
      "text/html": [
       "<div>\n",
       "<style scoped>\n",
       "    .dataframe tbody tr th:only-of-type {\n",
       "        vertical-align: middle;\n",
       "    }\n",
       "\n",
       "    .dataframe tbody tr th {\n",
       "        vertical-align: top;\n",
       "    }\n",
       "\n",
       "    .dataframe thead th {\n",
       "        text-align: right;\n",
       "    }\n",
       "</style>\n",
       "<table border=\"1\" class=\"dataframe\">\n",
       "  <thead>\n",
       "    <tr style=\"text-align: right;\">\n",
       "      <th></th>\n",
       "      <th></th>\n",
       "      <th>flug</th>\n",
       "      <th>fldg</th>\n",
       "      <th>fnetg</th>\n",
       "    </tr>\n",
       "    <tr>\n",
       "      <th>pressure</th>\n",
       "      <th>level</th>\n",
       "      <th></th>\n",
       "      <th></th>\n",
       "      <th></th>\n",
       "    </tr>\n",
       "  </thead>\n",
       "  <tbody>\n",
       "    <tr>\n",
       "      <th>0.00</th>\n",
       "      <th>1</th>\n",
       "      <td>-8.134320</td>\n",
       "      <td>0.000000</td>\n",
       "      <td>-8.134320</td>\n",
       "    </tr>\n",
       "    <tr>\n",
       "      <th>299.75</th>\n",
       "      <th>46</th>\n",
       "      <td>-8.589733</td>\n",
       "      <td>0.300354</td>\n",
       "      <td>-8.289378</td>\n",
       "    </tr>\n",
       "    <tr>\n",
       "      <th>1013.00</th>\n",
       "      <th>76</th>\n",
       "      <td>-9.558030</td>\n",
       "      <td>2.748871</td>\n",
       "      <td>-6.809159</td>\n",
       "    </tr>\n",
       "  </tbody>\n",
       "</table>\n",
       "</div>"
      ],
      "text/plain": [
       "                    flug      fldg     fnetg\n",
       "pressure level                              \n",
       "0.00     1     -8.134320  0.000000 -8.134320\n",
       "299.75   46    -8.589733  0.300354 -8.289378\n",
       "1013.00  76    -9.558030  2.748871 -6.809159"
      ]
     },
     "metadata": {},
     "output_type": "display_data"
    },
    {
     "data": {
      "text/markdown": [
       "*TABLE.* Fluxes. WGT igg=10"
      ],
      "text/plain": [
       "<IPython.core.display.Markdown object>"
      ]
     },
     "metadata": {},
     "output_type": "display_data"
    },
    {
     "data": {
      "text/html": [
       "<div>\n",
       "<style scoped>\n",
       "    .dataframe tbody tr th:only-of-type {\n",
       "        vertical-align: middle;\n",
       "    }\n",
       "\n",
       "    .dataframe tbody tr th {\n",
       "        vertical-align: top;\n",
       "    }\n",
       "\n",
       "    .dataframe thead th {\n",
       "        text-align: right;\n",
       "    }\n",
       "</style>\n",
       "<table border=\"1\" class=\"dataframe\">\n",
       "  <thead>\n",
       "    <tr style=\"text-align: right;\">\n",
       "      <th></th>\n",
       "      <th></th>\n",
       "      <th>flug</th>\n",
       "      <th>fldg</th>\n",
       "      <th>fnetg</th>\n",
       "    </tr>\n",
       "    <tr>\n",
       "      <th>pressure</th>\n",
       "      <th>level</th>\n",
       "      <th></th>\n",
       "      <th></th>\n",
       "      <th></th>\n",
       "    </tr>\n",
       "  </thead>\n",
       "  <tbody>\n",
       "    <tr>\n",
       "      <th>0.00</th>\n",
       "      <th>1</th>\n",
       "      <td>1.925175e-01</td>\n",
       "      <td>0.000000</td>\n",
       "      <td>0.192518</td>\n",
       "    </tr>\n",
       "    <tr>\n",
       "      <th>299.75</th>\n",
       "      <th>46</th>\n",
       "      <td>6.903019e-02</td>\n",
       "      <td>0.034472</td>\n",
       "      <td>0.103502</td>\n",
       "    </tr>\n",
       "    <tr>\n",
       "      <th>1013.00</th>\n",
       "      <th>76</th>\n",
       "      <td>8.999999e-09</td>\n",
       "      <td>0.204975</td>\n",
       "      <td>0.204975</td>\n",
       "    </tr>\n",
       "  </tbody>\n",
       "</table>\n",
       "</div>"
      ],
      "text/plain": [
       "                        flug      fldg     fnetg\n",
       "pressure level                                  \n",
       "0.00     1      1.925175e-01  0.000000  0.192518\n",
       "299.75   46     6.903019e-02  0.034472  0.103502\n",
       "1013.00  76     8.999999e-09  0.204975  0.204975"
      ]
     },
     "metadata": {},
     "output_type": "display_data"
    },
    {
     "data": {
      "text/markdown": [
       "*TABLE.* Fluxes. (WGT igg=1) - (CRD)"
      ],
      "text/plain": [
       "<IPython.core.display.Markdown object>"
      ]
     },
     "metadata": {},
     "output_type": "display_data"
    },
    {
     "data": {
      "text/html": [
       "<div>\n",
       "<style scoped>\n",
       "    .dataframe tbody tr th:only-of-type {\n",
       "        vertical-align: middle;\n",
       "    }\n",
       "\n",
       "    .dataframe tbody tr th {\n",
       "        vertical-align: top;\n",
       "    }\n",
       "\n",
       "    .dataframe thead th {\n",
       "        text-align: right;\n",
       "    }\n",
       "</style>\n",
       "<table border=\"1\" class=\"dataframe\">\n",
       "  <thead>\n",
       "    <tr style=\"text-align: right;\">\n",
       "      <th></th>\n",
       "      <th></th>\n",
       "      <th>flug</th>\n",
       "      <th>fldg</th>\n",
       "      <th>fnetg</th>\n",
       "    </tr>\n",
       "    <tr>\n",
       "      <th>pressure</th>\n",
       "      <th>level</th>\n",
       "      <th></th>\n",
       "      <th></th>\n",
       "      <th></th>\n",
       "    </tr>\n",
       "  </thead>\n",
       "  <tbody>\n",
       "    <tr>\n",
       "      <th>0.00</th>\n",
       "      <th>1</th>\n",
       "      <td>1.686404e-01</td>\n",
       "      <td>0.000000</td>\n",
       "      <td>0.168640</td>\n",
       "    </tr>\n",
       "    <tr>\n",
       "      <th>299.75</th>\n",
       "      <th>46</th>\n",
       "      <td>3.782737e-02</td>\n",
       "      <td>0.019309</td>\n",
       "      <td>0.057137</td>\n",
       "    </tr>\n",
       "    <tr>\n",
       "      <th>1013.00</th>\n",
       "      <th>76</th>\n",
       "      <td>8.999999e-09</td>\n",
       "      <td>0.216046</td>\n",
       "      <td>0.216046</td>\n",
       "    </tr>\n",
       "  </tbody>\n",
       "</table>\n",
       "</div>"
      ],
      "text/plain": [
       "                        flug      fldg     fnetg\n",
       "pressure level                                  \n",
       "0.00     1      1.686404e-01  0.000000  0.168640\n",
       "299.75   46     3.782737e-02  0.019309  0.057137\n",
       "1013.00  76     8.999999e-09  0.216046  0.216046"
      ]
     },
     "metadata": {},
     "output_type": "display_data"
    },
    {
     "data": {
      "text/markdown": [
       "*TABLE.* Fluxes. (WGT igg=10) - (CRD)"
      ],
      "text/plain": [
       "<IPython.core.display.Markdown object>"
      ]
     },
     "metadata": {},
     "output_type": "display_data"
    },
    {
     "data": {
      "text/html": [
       "<a id=\"g-interval_Summary\"></a>"
      ],
      "text/plain": [
       "<IPython.core.display.HTML object>"
      ]
     },
     "metadata": {},
     "output_type": "display_data"
    },
    {
     "data": {
      "text/markdown": [
       "# g-interval Summary"
      ],
      "text/plain": [
       "<IPython.core.display.Markdown object>"
      ]
     },
     "metadata": {},
     "output_type": "display_data"
    },
    {
     "data": {
      "text/html": [
       "<div>\n",
       "<style scoped>\n",
       "    .dataframe tbody tr th:only-of-type {\n",
       "        vertical-align: middle;\n",
       "    }\n",
       "\n",
       "    .dataframe tbody tr th {\n",
       "        vertical-align: top;\n",
       "    }\n",
       "\n",
       "    .dataframe thead th {\n",
       "        text-align: right;\n",
       "    }\n",
       "</style>\n",
       "<table border=\"1\" class=\"dataframe\">\n",
       "  <thead>\n",
       "    <tr style=\"text-align: right;\">\n",
       "      <th></th>\n",
       "      <th>abscom</th>\n",
       "      <th>k(ig) / k(ig - 1)</th>\n",
       "      <th>dg</th>\n",
       "      <th>dgs</th>\n",
       "      <th>dg cumsum</th>\n",
       "      <th>dgs cumsum</th>\n",
       "      <th>pref</th>\n",
       "    </tr>\n",
       "    <tr>\n",
       "      <th>g</th>\n",
       "      <th></th>\n",
       "      <th></th>\n",
       "      <th></th>\n",
       "      <th></th>\n",
       "      <th></th>\n",
       "      <th></th>\n",
       "      <th></th>\n",
       "    </tr>\n",
       "  </thead>\n",
       "  <tbody>\n",
       "    <tr>\n",
       "      <th>1</th>\n",
       "      <td>6.376210e-19</td>\n",
       "      <td>NaN</td>\n",
       "      <td>0.005230</td>\n",
       "      <td>0.005365</td>\n",
       "      <td>0.005230</td>\n",
       "      <td>0.005365</td>\n",
       "      <td>1.0</td>\n",
       "    </tr>\n",
       "    <tr>\n",
       "      <th>2</th>\n",
       "      <td>5.353590e-21</td>\n",
       "      <td>8.396195e-03</td>\n",
       "      <td>0.038788</td>\n",
       "      <td>0.040104</td>\n",
       "      <td>0.044018</td>\n",
       "      <td>0.045469</td>\n",
       "      <td>1.0</td>\n",
       "    </tr>\n",
       "    <tr>\n",
       "      <th>3</th>\n",
       "      <td>2.220488e-20</td>\n",
       "      <td>4.147661e+00</td>\n",
       "      <td>0.291909</td>\n",
       "      <td>0.301219</td>\n",
       "      <td>0.335927</td>\n",
       "      <td>0.346687</td>\n",
       "      <td>500.0</td>\n",
       "    </tr>\n",
       "    <tr>\n",
       "      <th>4</th>\n",
       "      <td>2.163830e-26</td>\n",
       "      <td>9.744839e-07</td>\n",
       "      <td>0.664073</td>\n",
       "      <td>0.653313</td>\n",
       "      <td>1.000000</td>\n",
       "      <td>1.000000</td>\n",
       "      <td>500.0</td>\n",
       "    </tr>\n",
       "  </tbody>\n",
       "</table>\n",
       "</div>"
      ],
      "text/plain": [
       "         abscom  k(ig) / k(ig - 1)        dg       dgs  dg cumsum  dgs cumsum  \\\n",
       "g                                                                               \n",
       "1  6.376210e-19                NaN  0.005230  0.005365   0.005230    0.005365   \n",
       "2  5.353590e-21       8.396195e-03  0.038788  0.040104   0.044018    0.045469   \n",
       "3  2.220488e-20       4.147661e+00  0.291909  0.301219   0.335927    0.346687   \n",
       "4  2.163830e-26       9.744839e-07  0.664073  0.653313   1.000000    1.000000   \n",
       "\n",
       "    pref  \n",
       "g         \n",
       "1    1.0  \n",
       "2    1.0  \n",
       "3  500.0  \n",
       "4  500.0  "
      ]
     },
     "metadata": {},
     "output_type": "display_data"
    },
    {
     "data": {
      "text/markdown": [
       "TABLE. g-interval summary.  *abscom* is the lower bound of the g-interval."
      ],
      "text/plain": [
       "<IPython.core.display.Markdown object>"
      ]
     },
     "metadata": {},
     "output_type": "display_data"
    },
    {
     "data": {
      "text/html": [
       "<a id=\"Download_Data\"></a>"
      ],
      "text/plain": [
       "<IPython.core.display.HTML object>"
      ]
     },
     "metadata": {},
     "output_type": "display_data"
    },
    {
     "data": {
      "text/markdown": [
       "# Download Data"
      ],
      "text/plain": [
       "<IPython.core.display.Markdown object>"
      ]
     },
     "metadata": {},
     "output_type": "display_data"
    },
    {
     "data": {
      "text/html": [
       "Download: <a href=\"./lblnew-bestfit_flux.xlsx\">lblnew-bestfit_flux.xlsx</a>"
      ],
      "text/plain": [
       "<IPython.core.display.HTML object>"
      ]
     },
     "metadata": {},
     "output_type": "display_data"
    },
    {
     "data": {
      "text/html": [
       "Download: <a href=\"./lblnew-bestfit_cool.xlsx\">lblnew-bestfit_cool.xlsx</a>"
      ],
      "text/plain": [
       "<IPython.core.display.HTML object>"
      ]
     },
     "metadata": {},
     "output_type": "display_data"
    }
   ],
   "source": [
    "script()"
   ]
  },
  {
   "cell_type": "code",
   "execution_count": 14,
   "metadata": {},
   "outputs": [
    {
     "data": {
      "text/html": [
       "<script>\n",
       "code_show=true; \n",
       "function code_toggle() {\n",
       " if (code_show){\n",
       " $('div.input').hide();\n",
       " } else {\n",
       " $('div.input').show();\n",
       " }\n",
       " code_show = !code_show\n",
       "} \n",
       "$( document ).ready(code_toggle);\n",
       "</script>\n",
       "<form action=\"javascript:code_toggle()\"><input type=\"submit\" value=\"Click here to toggle on/off the raw code.\"></form>"
      ],
      "text/plain": [
       "<IPython.core.display.HTML object>"
      ]
     },
     "execution_count": 14,
     "metadata": {},
     "output_type": "execute_result"
    }
   ],
   "source": [
    "display.HTML('''<script>\n",
    "code_show=true; \n",
    "function code_toggle() {\n",
    " if (code_show){\n",
    " $('div.input').hide();\n",
    " } else {\n",
    " $('div.input').show();\n",
    " }\n",
    " code_show = !code_show\n",
    "} \n",
    "$( document ).ready(code_toggle);\n",
    "</script>\n",
    "<form action=\"javascript:code_toggle()\"><input type=\"submit\" value=\"Click here to toggle on/off the raw code.\"></form>''')"
   ]
  },
  {
   "cell_type": "code",
   "execution_count": 15,
   "metadata": {
    "collapsed": true
   },
   "outputs": [],
   "source": []
  }
 ],
 "metadata": {
  "kernelspec": {
   "display_name": "Python 3",
   "language": "python",
   "name": "python3"
  },
  "language_info": {
   "codemirror_mode": {
    "name": "ipython",
    "version": 3
   },
   "file_extension": ".py",
   "mimetype": "text/x-python",
   "name": "python",
   "nbconvert_exporter": "python",
   "pygments_lexer": "ipython3",
   "version": "3.6.1"
  }
 },
 "nbformat": 4,
 "nbformat_minor": 2
}
