{
 "cells": [
  {
   "cell_type": "code",
   "execution_count": 1,
   "metadata": {
    "collapsed": true
   },
   "outputs": [],
   "source": [
    "%reload_ext autoreload\n",
    "%autoreload 2\n",
    "%matplotlib inline"
   ]
  },
  {
   "cell_type": "code",
   "execution_count": 2,
   "metadata": {
    "collapsed": true
   },
   "outputs": [],
   "source": [
    "import io\n",
    "\n",
    "import numpy as np\n",
    "import pymongo\n",
    "\n",
    "from bokeh.io import output_notebook, show\n",
    "from bokeh.palettes import all_palettes\n",
    "from bokeh.layouts import gridplot\n",
    "\n",
    "from IPython import display\n",
    "\n",
    "from climatools.cliradlw.dataset import load_output_file\n",
    "import climatools.html.html as climahtml\n",
    "from climatools.plot.plot import *"
   ]
  },
  {
   "cell_type": "code",
   "execution_count": 3,
   "metadata": {},
   "outputs": [
    {
     "data": {
      "text/html": [
       "\n",
       "    <div class=\"bk-root\">\n",
       "        <a href=\"https://bokeh.pydata.org\" target=\"_blank\" class=\"bk-logo bk-logo-small bk-logo-notebook\"></a>\n",
       "        <span id=\"7f11c514-1e34-4518-9440-2c484b3f9e4d\">Loading BokehJS ...</span>\n",
       "    </div>"
      ]
     },
     "metadata": {},
     "output_type": "display_data"
    },
    {
     "data": {
      "application/javascript": [
       "\n",
       "(function(root) {\n",
       "  function now() {\n",
       "    return new Date();\n",
       "  }\n",
       "\n",
       "  var force = true;\n",
       "\n",
       "  if (typeof (root._bokeh_onload_callbacks) === \"undefined\" || force === true) {\n",
       "    root._bokeh_onload_callbacks = [];\n",
       "    root._bokeh_is_loading = undefined;\n",
       "  }\n",
       "\n",
       "  var JS_MIME_TYPE = 'application/javascript';\n",
       "  var HTML_MIME_TYPE = 'text/html';\n",
       "  var EXEC_MIME_TYPE = 'application/vnd.bokehjs_exec.v0+json';\n",
       "  var CLASS_NAME = 'output_bokeh rendered_html';\n",
       "\n",
       "  /**\n",
       "   * Render data to the DOM node\n",
       "   */\n",
       "  function render(props, node) {\n",
       "    var script = document.createElement(\"script\");\n",
       "    node.appendChild(script);\n",
       "  }\n",
       "\n",
       "  /**\n",
       "   * Handle when an output is cleared or removed\n",
       "   */\n",
       "  function handleClearOutput(event, handle) {\n",
       "    var cell = handle.cell;\n",
       "\n",
       "    var id = cell.output_area._bokeh_element_id;\n",
       "    var server_id = cell.output_area._bokeh_server_id;\n",
       "    // Clean up Bokeh references\n",
       "    if (id !== undefined) {\n",
       "      Bokeh.index[id].model.document.clear();\n",
       "      delete Bokeh.index[id];\n",
       "    }\n",
       "\n",
       "    if (server_id !== undefined) {\n",
       "      // Clean up Bokeh references\n",
       "      var cmd = \"from bokeh.io.state import curstate; print(curstate().uuid_to_server['\" + server_id + \"'].get_sessions()[0].document.roots[0]._id)\";\n",
       "      cell.notebook.kernel.execute(cmd, {\n",
       "        iopub: {\n",
       "          output: function(msg) {\n",
       "            var element_id = msg.content.text.trim();\n",
       "            Bokeh.index[element_id].model.document.clear();\n",
       "            delete Bokeh.index[element_id];\n",
       "          }\n",
       "        }\n",
       "      });\n",
       "      // Destroy server and session\n",
       "      var cmd = \"import bokeh.io.notebook as ion; ion.destroy_server('\" + server_id + \"')\";\n",
       "      cell.notebook.kernel.execute(cmd);\n",
       "    }\n",
       "  }\n",
       "\n",
       "  /**\n",
       "   * Handle when a new output is added\n",
       "   */\n",
       "  function handleAddOutput(event, handle) {\n",
       "    var output_area = handle.output_area;\n",
       "    var output = handle.output;\n",
       "\n",
       "    // limit handleAddOutput to display_data with EXEC_MIME_TYPE content only\n",
       "    if ((output.output_type != \"display_data\") || (!output.data.hasOwnProperty(EXEC_MIME_TYPE))) {\n",
       "      return\n",
       "    }\n",
       "\n",
       "    var toinsert = output_area.element.find(\".\" + CLASS_NAME.split(' ')[0]);\n",
       "\n",
       "    if (output.metadata[EXEC_MIME_TYPE][\"id\"] !== undefined) {\n",
       "      toinsert[toinsert.length - 1].firstChild.textContent = output.data[JS_MIME_TYPE];\n",
       "      // store reference to embed id on output_area\n",
       "      output_area._bokeh_element_id = output.metadata[EXEC_MIME_TYPE][\"id\"];\n",
       "    }\n",
       "    if (output.metadata[EXEC_MIME_TYPE][\"server_id\"] !== undefined) {\n",
       "      var bk_div = document.createElement(\"div\");\n",
       "      bk_div.innerHTML = output.data[HTML_MIME_TYPE];\n",
       "      var script_attrs = bk_div.children[0].attributes;\n",
       "      for (var i = 0; i < script_attrs.length; i++) {\n",
       "        toinsert[toinsert.length - 1].firstChild.setAttribute(script_attrs[i].name, script_attrs[i].value);\n",
       "      }\n",
       "      // store reference to server id on output_area\n",
       "      output_area._bokeh_server_id = output.metadata[EXEC_MIME_TYPE][\"server_id\"];\n",
       "    }\n",
       "  }\n",
       "\n",
       "  function register_renderer(events, OutputArea) {\n",
       "\n",
       "    function append_mime(data, metadata, element) {\n",
       "      // create a DOM node to render to\n",
       "      var toinsert = this.create_output_subarea(\n",
       "        metadata,\n",
       "        CLASS_NAME,\n",
       "        EXEC_MIME_TYPE\n",
       "      );\n",
       "      this.keyboard_manager.register_events(toinsert);\n",
       "      // Render to node\n",
       "      var props = {data: data, metadata: metadata[EXEC_MIME_TYPE]};\n",
       "      render(props, toinsert[toinsert.length - 1]);\n",
       "      element.append(toinsert);\n",
       "      return toinsert\n",
       "    }\n",
       "\n",
       "    /* Handle when an output is cleared or removed */\n",
       "    events.on('clear_output.CodeCell', handleClearOutput);\n",
       "    events.on('delete.Cell', handleClearOutput);\n",
       "\n",
       "    /* Handle when a new output is added */\n",
       "    events.on('output_added.OutputArea', handleAddOutput);\n",
       "\n",
       "    /**\n",
       "     * Register the mime type and append_mime function with output_area\n",
       "     */\n",
       "    OutputArea.prototype.register_mime_type(EXEC_MIME_TYPE, append_mime, {\n",
       "      /* Is output safe? */\n",
       "      safe: true,\n",
       "      /* Index of renderer in `output_area.display_order` */\n",
       "      index: 0\n",
       "    });\n",
       "  }\n",
       "\n",
       "  // register the mime type if in Jupyter Notebook environment and previously unregistered\n",
       "  if (root.Jupyter !== undefined) {\n",
       "    var events = require('base/js/events');\n",
       "    var OutputArea = require('notebook/js/outputarea').OutputArea;\n",
       "\n",
       "    if (OutputArea.prototype.mime_types().indexOf(EXEC_MIME_TYPE) == -1) {\n",
       "      register_renderer(events, OutputArea);\n",
       "    }\n",
       "  }\n",
       "\n",
       "  \n",
       "  if (typeof (root._bokeh_timeout) === \"undefined\" || force === true) {\n",
       "    root._bokeh_timeout = Date.now() + 5000;\n",
       "    root._bokeh_failed_load = false;\n",
       "  }\n",
       "\n",
       "  var NB_LOAD_WARNING = {'data': {'text/html':\n",
       "     \"<div style='background-color: #fdd'>\\n\"+\n",
       "     \"<p>\\n\"+\n",
       "     \"BokehJS does not appear to have successfully loaded. If loading BokehJS from CDN, this \\n\"+\n",
       "     \"may be due to a slow or bad network connection. Possible fixes:\\n\"+\n",
       "     \"</p>\\n\"+\n",
       "     \"<ul>\\n\"+\n",
       "     \"<li>re-rerun `output_notebook()` to attempt to load from CDN again, or</li>\\n\"+\n",
       "     \"<li>use INLINE resources instead, as so:</li>\\n\"+\n",
       "     \"</ul>\\n\"+\n",
       "     \"<code>\\n\"+\n",
       "     \"from bokeh.resources import INLINE\\n\"+\n",
       "     \"output_notebook(resources=INLINE)\\n\"+\n",
       "     \"</code>\\n\"+\n",
       "     \"</div>\"}};\n",
       "\n",
       "  function display_loaded() {\n",
       "    var el = document.getElementById(\"7f11c514-1e34-4518-9440-2c484b3f9e4d\");\n",
       "    if (el != null) {\n",
       "      el.textContent = \"BokehJS is loading...\";\n",
       "    }\n",
       "    if (root.Bokeh !== undefined) {\n",
       "      if (el != null) {\n",
       "        el.textContent = \"BokehJS \" + root.Bokeh.version + \" successfully loaded.\";\n",
       "      }\n",
       "    } else if (Date.now() < root._bokeh_timeout) {\n",
       "      setTimeout(display_loaded, 100)\n",
       "    }\n",
       "  }\n",
       "\n",
       "\n",
       "  function run_callbacks() {\n",
       "    try {\n",
       "      root._bokeh_onload_callbacks.forEach(function(callback) { callback() });\n",
       "    }\n",
       "    finally {\n",
       "      delete root._bokeh_onload_callbacks\n",
       "    }\n",
       "    console.info(\"Bokeh: all callbacks have finished\");\n",
       "  }\n",
       "\n",
       "  function load_libs(js_urls, callback) {\n",
       "    root._bokeh_onload_callbacks.push(callback);\n",
       "    if (root._bokeh_is_loading > 0) {\n",
       "      console.log(\"Bokeh: BokehJS is being loaded, scheduling callback at\", now());\n",
       "      return null;\n",
       "    }\n",
       "    if (js_urls == null || js_urls.length === 0) {\n",
       "      run_callbacks();\n",
       "      return null;\n",
       "    }\n",
       "    console.log(\"Bokeh: BokehJS not loaded, scheduling load and callback at\", now());\n",
       "    root._bokeh_is_loading = js_urls.length;\n",
       "    for (var i = 0; i < js_urls.length; i++) {\n",
       "      var url = js_urls[i];\n",
       "      var s = document.createElement('script');\n",
       "      s.src = url;\n",
       "      s.async = false;\n",
       "      s.onreadystatechange = s.onload = function() {\n",
       "        root._bokeh_is_loading--;\n",
       "        if (root._bokeh_is_loading === 0) {\n",
       "          console.log(\"Bokeh: all BokehJS libraries loaded\");\n",
       "          run_callbacks()\n",
       "        }\n",
       "      };\n",
       "      s.onerror = function() {\n",
       "        console.warn(\"failed to load library \" + url);\n",
       "      };\n",
       "      console.log(\"Bokeh: injecting script tag for BokehJS library: \", url);\n",
       "      document.getElementsByTagName(\"head\")[0].appendChild(s);\n",
       "    }\n",
       "  };var element = document.getElementById(\"7f11c514-1e34-4518-9440-2c484b3f9e4d\");\n",
       "  if (element == null) {\n",
       "    console.log(\"Bokeh: ERROR: autoload.js configured with elementid '7f11c514-1e34-4518-9440-2c484b3f9e4d' but no matching script tag was found. \")\n",
       "    return false;\n",
       "  }\n",
       "\n",
       "  var js_urls = [\"https://cdn.pydata.org/bokeh/release/bokeh-0.12.16.min.js\", \"https://cdn.pydata.org/bokeh/release/bokeh-widgets-0.12.16.min.js\", \"https://cdn.pydata.org/bokeh/release/bokeh-tables-0.12.16.min.js\", \"https://cdn.pydata.org/bokeh/release/bokeh-gl-0.12.16.min.js\"];\n",
       "\n",
       "  var inline_js = [\n",
       "    function(Bokeh) {\n",
       "      Bokeh.set_log_level(\"info\");\n",
       "    },\n",
       "    \n",
       "    function(Bokeh) {\n",
       "      \n",
       "    },\n",
       "    function(Bokeh) {\n",
       "      console.log(\"Bokeh: injecting CSS: https://cdn.pydata.org/bokeh/release/bokeh-0.12.16.min.css\");\n",
       "      Bokeh.embed.inject_css(\"https://cdn.pydata.org/bokeh/release/bokeh-0.12.16.min.css\");\n",
       "      console.log(\"Bokeh: injecting CSS: https://cdn.pydata.org/bokeh/release/bokeh-widgets-0.12.16.min.css\");\n",
       "      Bokeh.embed.inject_css(\"https://cdn.pydata.org/bokeh/release/bokeh-widgets-0.12.16.min.css\");\n",
       "      console.log(\"Bokeh: injecting CSS: https://cdn.pydata.org/bokeh/release/bokeh-tables-0.12.16.min.css\");\n",
       "      Bokeh.embed.inject_css(\"https://cdn.pydata.org/bokeh/release/bokeh-tables-0.12.16.min.css\");\n",
       "    }\n",
       "  ];\n",
       "\n",
       "  function run_inline_js() {\n",
       "    \n",
       "    if ((root.Bokeh !== undefined) || (force === true)) {\n",
       "      for (var i = 0; i < inline_js.length; i++) {\n",
       "        inline_js[i].call(root, root.Bokeh);\n",
       "      }if (force === true) {\n",
       "        display_loaded();\n",
       "      }} else if (Date.now() < root._bokeh_timeout) {\n",
       "      setTimeout(run_inline_js, 100);\n",
       "    } else if (!root._bokeh_failed_load) {\n",
       "      console.log(\"Bokeh: BokehJS failed to load within specified timeout.\");\n",
       "      root._bokeh_failed_load = true;\n",
       "    } else if (force !== true) {\n",
       "      var cell = $(document.getElementById(\"7f11c514-1e34-4518-9440-2c484b3f9e4d\")).parents('.cell').data().cell;\n",
       "      cell.output_area.append_execute_result(NB_LOAD_WARNING)\n",
       "    }\n",
       "\n",
       "  }\n",
       "\n",
       "  if (root._bokeh_is_loading === 0) {\n",
       "    console.log(\"Bokeh: BokehJS loaded, going straight to plotting\");\n",
       "    run_inline_js();\n",
       "  } else {\n",
       "    load_libs(js_urls, function() {\n",
       "      console.log(\"Bokeh: BokehJS plotting callback run at\", now());\n",
       "      run_inline_js();\n",
       "    });\n",
       "  }\n",
       "}(window));"
      ],
      "application/vnd.bokehjs_load.v0+json": "\n(function(root) {\n  function now() {\n    return new Date();\n  }\n\n  var force = true;\n\n  if (typeof (root._bokeh_onload_callbacks) === \"undefined\" || force === true) {\n    root._bokeh_onload_callbacks = [];\n    root._bokeh_is_loading = undefined;\n  }\n\n  \n\n  \n  if (typeof (root._bokeh_timeout) === \"undefined\" || force === true) {\n    root._bokeh_timeout = Date.now() + 5000;\n    root._bokeh_failed_load = false;\n  }\n\n  var NB_LOAD_WARNING = {'data': {'text/html':\n     \"<div style='background-color: #fdd'>\\n\"+\n     \"<p>\\n\"+\n     \"BokehJS does not appear to have successfully loaded. If loading BokehJS from CDN, this \\n\"+\n     \"may be due to a slow or bad network connection. Possible fixes:\\n\"+\n     \"</p>\\n\"+\n     \"<ul>\\n\"+\n     \"<li>re-rerun `output_notebook()` to attempt to load from CDN again, or</li>\\n\"+\n     \"<li>use INLINE resources instead, as so:</li>\\n\"+\n     \"</ul>\\n\"+\n     \"<code>\\n\"+\n     \"from bokeh.resources import INLINE\\n\"+\n     \"output_notebook(resources=INLINE)\\n\"+\n     \"</code>\\n\"+\n     \"</div>\"}};\n\n  function display_loaded() {\n    var el = document.getElementById(\"7f11c514-1e34-4518-9440-2c484b3f9e4d\");\n    if (el != null) {\n      el.textContent = \"BokehJS is loading...\";\n    }\n    if (root.Bokeh !== undefined) {\n      if (el != null) {\n        el.textContent = \"BokehJS \" + root.Bokeh.version + \" successfully loaded.\";\n      }\n    } else if (Date.now() < root._bokeh_timeout) {\n      setTimeout(display_loaded, 100)\n    }\n  }\n\n\n  function run_callbacks() {\n    try {\n      root._bokeh_onload_callbacks.forEach(function(callback) { callback() });\n    }\n    finally {\n      delete root._bokeh_onload_callbacks\n    }\n    console.info(\"Bokeh: all callbacks have finished\");\n  }\n\n  function load_libs(js_urls, callback) {\n    root._bokeh_onload_callbacks.push(callback);\n    if (root._bokeh_is_loading > 0) {\n      console.log(\"Bokeh: BokehJS is being loaded, scheduling callback at\", now());\n      return null;\n    }\n    if (js_urls == null || js_urls.length === 0) {\n      run_callbacks();\n      return null;\n    }\n    console.log(\"Bokeh: BokehJS not loaded, scheduling load and callback at\", now());\n    root._bokeh_is_loading = js_urls.length;\n    for (var i = 0; i < js_urls.length; i++) {\n      var url = js_urls[i];\n      var s = document.createElement('script');\n      s.src = url;\n      s.async = false;\n      s.onreadystatechange = s.onload = function() {\n        root._bokeh_is_loading--;\n        if (root._bokeh_is_loading === 0) {\n          console.log(\"Bokeh: all BokehJS libraries loaded\");\n          run_callbacks()\n        }\n      };\n      s.onerror = function() {\n        console.warn(\"failed to load library \" + url);\n      };\n      console.log(\"Bokeh: injecting script tag for BokehJS library: \", url);\n      document.getElementsByTagName(\"head\")[0].appendChild(s);\n    }\n  };var element = document.getElementById(\"7f11c514-1e34-4518-9440-2c484b3f9e4d\");\n  if (element == null) {\n    console.log(\"Bokeh: ERROR: autoload.js configured with elementid '7f11c514-1e34-4518-9440-2c484b3f9e4d' but no matching script tag was found. \")\n    return false;\n  }\n\n  var js_urls = [\"https://cdn.pydata.org/bokeh/release/bokeh-0.12.16.min.js\", \"https://cdn.pydata.org/bokeh/release/bokeh-widgets-0.12.16.min.js\", \"https://cdn.pydata.org/bokeh/release/bokeh-tables-0.12.16.min.js\", \"https://cdn.pydata.org/bokeh/release/bokeh-gl-0.12.16.min.js\"];\n\n  var inline_js = [\n    function(Bokeh) {\n      Bokeh.set_log_level(\"info\");\n    },\n    \n    function(Bokeh) {\n      \n    },\n    function(Bokeh) {\n      console.log(\"Bokeh: injecting CSS: https://cdn.pydata.org/bokeh/release/bokeh-0.12.16.min.css\");\n      Bokeh.embed.inject_css(\"https://cdn.pydata.org/bokeh/release/bokeh-0.12.16.min.css\");\n      console.log(\"Bokeh: injecting CSS: https://cdn.pydata.org/bokeh/release/bokeh-widgets-0.12.16.min.css\");\n      Bokeh.embed.inject_css(\"https://cdn.pydata.org/bokeh/release/bokeh-widgets-0.12.16.min.css\");\n      console.log(\"Bokeh: injecting CSS: https://cdn.pydata.org/bokeh/release/bokeh-tables-0.12.16.min.css\");\n      Bokeh.embed.inject_css(\"https://cdn.pydata.org/bokeh/release/bokeh-tables-0.12.16.min.css\");\n    }\n  ];\n\n  function run_inline_js() {\n    \n    if ((root.Bokeh !== undefined) || (force === true)) {\n      for (var i = 0; i < inline_js.length; i++) {\n        inline_js[i].call(root, root.Bokeh);\n      }if (force === true) {\n        display_loaded();\n      }} else if (Date.now() < root._bokeh_timeout) {\n      setTimeout(run_inline_js, 100);\n    } else if (!root._bokeh_failed_load) {\n      console.log(\"Bokeh: BokehJS failed to load within specified timeout.\");\n      root._bokeh_failed_load = true;\n    } else if (force !== true) {\n      var cell = $(document.getElementById(\"7f11c514-1e34-4518-9440-2c484b3f9e4d\")).parents('.cell').data().cell;\n      cell.output_area.append_execute_result(NB_LOAD_WARNING)\n    }\n\n  }\n\n  if (root._bokeh_is_loading === 0) {\n    console.log(\"Bokeh: BokehJS loaded, going straight to plotting\");\n    run_inline_js();\n  } else {\n    load_libs(js_urls, function() {\n      console.log(\"Bokeh: BokehJS plotting callback run at\", now());\n      run_inline_js();\n    });\n  }\n}(window));"
     },
     "metadata": {},
     "output_type": "display_data"
    }
   ],
   "source": [
    "output_notebook()"
   ]
  },
  {
   "cell_type": "code",
   "execution_count": 4,
   "metadata": {
    "collapsed": true
   },
   "outputs": [],
   "source": [
    "def make_query(param=None):\n",
    "    '''\n",
    "    Returns the MongoDB query for a lblnew \n",
    "    run's document.\n",
    "    \n",
    "    Parameters\n",
    "    ----------\n",
    "    param: dict\n",
    "    lblnew-bestfit input parameters.\n",
    "    '''\n",
    "    return {'param.' + name: value for name, value in param.items()}   "
   ]
  },
  {
   "cell_type": "code",
   "execution_count": 5,
   "metadata": {
    "collapsed": true
   },
   "outputs": [],
   "source": [
    "def print_input_param():\n",
    "    '''\n",
    "    Print to screen the input parameters \n",
    "    of the lblnew run.\n",
    "    '''\n",
    "    for name, value in sorted(PARAM.items()):\n",
    "        print(f'{name} = {value}')"
   ]
  },
  {
   "cell_type": "code",
   "execution_count": 6,
   "metadata": {
    "collapsed": true
   },
   "outputs": [],
   "source": [
    "def fmt_cool(ds_in):\n",
    "    ds = ds_in.copy(deep=True)\n",
    "    \n",
    "    if 'i' in ds.dims:                                                                                               \n",
    "        ds = ds.sel(i=ds.dims['i']) \n",
    "        \n",
    "    if 'band' in ds.dims:\n",
    "        try:\n",
    "            ds = ds.squeeze('band')\n",
    "        except ValueError:\n",
    "            ds = ds.sum('band') \n",
    "            \n",
    "    return ds['coolrg']\n",
    "\n",
    "\n",
    "\n",
    "def pltdata_cool(g=None):\n",
    "    '''\n",
    "    Define the plotting data for cooling rate\n",
    "    profile plots.  Add/remove entries in\n",
    "    the `data` list.\n",
    "    \n",
    "    Parameters\n",
    "    ----------\n",
    "    g: int\n",
    "        g-interval to be plotted.  If None,\n",
    "        the sum over all g-intervals will be\n",
    "        plotted.\n",
    "    data: dict\n",
    "        Plot data, including colour, line attributes, etc.\n",
    "    '''\n",
    "    colors = all_palettes['Set1'][4]\n",
    "    \n",
    "    if g == None:\n",
    "        ds_cool_crd = DS_COOL_CRD.sum('g')\n",
    "        ds_cool_wgt = DS_COOL_WGT.sum('g')\n",
    "    else:\n",
    "        ds_cool_crd = DS_COOL_CRD.sel(g=g)\n",
    "        ds_cool_wgt = DS_COOL_WGT.sel(g=g)\n",
    "    \n",
    "    data = [\n",
    "        {'label': 'CRD',\n",
    "         'srs': fmt_cool(ds_cool_crd),\n",
    "         'line_dash': 'solid', 'line_width':1.5,\n",
    "         'marker': 'circle', 'mark_size': 5,\n",
    "         'color': colors[2], 'alpha': 1},\n",
    "        {'label': 'WGT igg=1',\n",
    "         'srs': fmt_cool(ds_cool_wgt.sel(igg=1)),\n",
    "         'line_dash': 'solid', 'line_width': 3,\n",
    "         'marker': 'square', 'marker_size': 5,\n",
    "         'color': colors[3], 'alpha': .6},\n",
    "        {'label': 'WGT igg=10',\n",
    "         'srs': fmt_cool(ds_cool_wgt.sel(igg=10)),\n",
    "         'line_dash': 'solid', 'line_width': 2,\n",
    "         'marker': 'triangle', 'marker_size': 2,\n",
    "         'color': colors[1], 'alpha': .3}]\n",
    "    return data\n",
    "\n",
    "\n",
    "\n",
    "def plt_cool(pltdata=None):\n",
    "    '''\n",
    "    Plot cooling rate profiles on linear\n",
    "    and log pressure axes.\n",
    "    \n",
    "    Parameters\n",
    "    ----------\n",
    "    pltdata: dict\n",
    "        Plot data, including colour, line attributes, etc.\n",
    "    everything: bokeh.models.layouts.Column\n",
    "        Cooling rate profile plot.\n",
    "    '''\n",
    "    plin = plt_vert_profile_bokeh(pltdata=pltdata, \n",
    "                                  y_axis_type='linear',\n",
    "                                  prange=(50, 1050))\n",
    "    plin.plot_width, plin.plot_height = 400, 500\n",
    "    \n",
    "    plog = plt_vert_profile_bokeh(pltdata=pltdata,\n",
    "                                  y_axis_type='log',\n",
    "                                  prange=(.01, 200)) \n",
    "    plog.plot_width, plog.plot_height = 400, 500\n",
    "    \n",
    "    everything = gridplot(plin, plog, ncols=2)\n",
    "    return everything\n",
    "    \n",
    "    \n",
    "\n",
    "def script_plt_cool():\n",
    "    '''\n",
    "    Script to plot the cooling rate profiles\n",
    "    in each g-interval and the total \n",
    "    cooling rate profile over all g-intervals.\n",
    "    '''\n",
    "    ng = sum(PARAM['ng_refs'])\n",
    "    for g in np.arange(1, ng + 1):\n",
    "        data = pltdata_cool(g=g)\n",
    "        p = plt_cool(pltdata=data)\n",
    "        show(p)\n",
    "        display.display(\n",
    "            display.Markdown(f'*FIGURE.* Cooling rates. g={g}'))\n",
    "    \n",
    "    data = pltdata_cool()\n",
    "    p = plt_cool(pltdata=data)\n",
    "    show(p)\n",
    "    display.display(\n",
    "        display.Markdown(f'*FIGURE.* Cooling rates. Summed over g.'))\n",
    "    \n"
   ]
  },
  {
   "cell_type": "code",
   "execution_count": 7,
   "metadata": {
    "collapsed": true
   },
   "outputs": [],
   "source": [
    "def fmt_flux(ds_in, ilevels=None):\n",
    "    ds = ds_in.copy(deep=True)\n",
    "    \n",
    "    for l in ('level', 'layer'):\n",
    "        if l in ds.data_vars:\n",
    "            if len(ds[l].dims) > 1:\n",
    "                surface = {d: 0 for d in ds.dims if d != 'pressure'}\n",
    "                coord_level = ds[l][surface]\n",
    "                ds.coords[l] = ('pressure', coord_level)\n",
    "            else:\n",
    "                ds.coords[l] = ('pressure', ds[l])\n",
    "    \n",
    "    if ilevels:\n",
    "        ds = ds.isel(pressure=ilevels)\n",
    "\n",
    "    if 'i' in ds.dims:                                                                                               \n",
    "        ds = ds.sel(i=ds.dims['i'])\n",
    "        \n",
    "    if 'igg' in ds.dims:\n",
    "        ds = ds.squeeze('igg').drop('igg')\n",
    "            \n",
    "    if 'band' in ds.dims:\n",
    "        try:\n",
    "            ds = ds.squeeze('band').drop('band')\n",
    "        except ValueError:\n",
    "            ds = ds.sum('band')\n",
    "                \n",
    "    df = ds.to_dataframe()\n",
    "    df = df.set_index('level', append=True)               \n",
    "    return df\n",
    "\n",
    "\n",
    "def tbdata_flux():\n",
    "    '''\n",
    "    Define the flux data to be tabulated for\n",
    "    the g-intervals.  Add/remove entries in the\n",
    "    `tbs` list.\n",
    "    \n",
    "    Parameters\n",
    "    ----------\n",
    "    data: dict\n",
    "        Flux data, including how each set is to be\n",
    "        labeled in the output table.\n",
    "    '''\n",
    "    tropopauses = {'mls': 40, 'saw': 45, 'trp': 37}\n",
    "    atmpro = PARAM['atmpro']\n",
    "    ilevels = [0, tropopauses[atmpro], -1]\n",
    "    \n",
    "    benchmark = {'label': 'CRD',\n",
    "                 'df': fmt_flux(DS_FLUX_CRD, ilevels=ilevels)}\n",
    "    \n",
    "    tbs = [{'label': 'WGT igg=1',\n",
    "            'df': fmt_flux(DS_FLUX_WGT.sel(igg=[1]), ilevels=ilevels)},\n",
    "           {'label': 'WGT igg=10',\n",
    "            'df': fmt_flux(DS_FLUX_WGT.sel(igg=[10]), ilevels=ilevels)}]\n",
    "    \n",
    "    data = {'benchmark': benchmark, 'others': tbs}\n",
    "    return data\n",
    "\n",
    "\n",
    "\n",
    "def tbdata_flux_sumg():\n",
    "    '''\n",
    "    Define the total flux data, over all g-intervals,\n",
    "    to be tabulated.\n",
    "    \n",
    "    Parameters\n",
    "    ----------\n",
    "    data: dict\n",
    "        Flux data, including how each set is to e\n",
    "        labeled in the output table.\n",
    "    '''\n",
    "    tropopauses = {'mls': 40, 'saw': 45, 'trp': 37}\n",
    "    \n",
    "    atmpro = PARAM['atmpro']\n",
    "    ilevels = [0, tropopauses[atmpro], -1]\n",
    "    \n",
    "    benchmark = {'label': 'CRD',\n",
    "                 'df': fmt_flux(DS_FLUX_CRD.sum('g'), ilevels=ilevels)}\n",
    "    \n",
    "    tbs = [{'label': 'WGT igg=1',\n",
    "            'df': fmt_flux(DS_FLUX_WGT.sel(igg=[1]).sum('g'), \n",
    "                           ilevels=ilevels)},\n",
    "           {'label': 'WGT igg=10',\n",
    "            'df': fmt_flux(DS_FLUX_WGT.sel(igg=[10]).sum('g'), \n",
    "                           ilevels=ilevels)}]\n",
    "    \n",
    "    data = {'benchmark': benchmark, 'others': tbs}\n",
    "    return data\n",
    "\n",
    "\n",
    "def tb_flux(tbdata=None):\n",
    "    '''\n",
    "    Display flux table for each set, and display\n",
    "    the difference between each set and the set\n",
    "    that is specified to be the benchmark.\n",
    "    \n",
    "    Parameters\n",
    "    ----------\n",
    "    tbdata: dict\n",
    "        Flux data, including how each set it to be\n",
    "        labeled in the output table.\n",
    "    '''\n",
    "    benchmark = tbdata['benchmark']\n",
    "    others = tbdata['others']\n",
    "    \n",
    "    def show_tb(d=None):\n",
    "        display.display(d['df'])\n",
    "        display.display(display.Markdown(\n",
    "            f\"*TABLE.* Fluxes. {d['label']}\"))\n",
    "        \n",
    "    def show_tbdiff(d0=None, d=None):\n",
    "        df = d['df']\n",
    "        df.index = d0['df'].index\n",
    "        display.display(df - d0['df'])\n",
    "        display.display(display.Markdown(\n",
    "            f\"*TABLE.* Fluxes. ({d['label']}) - ({d0['label']})\"))\n",
    "        \n",
    "    show_tb(benchmark)\n",
    "    for d in others:\n",
    "        show_tb(d)\n",
    "        \n",
    "    for d in others:\n",
    "        show_tbdiff(d=d, d0=benchmark)\n",
    "        \n",
    "\n",
    "        \n",
    "def script_tb_flux():\n",
    "    '''\n",
    "    Script to display the flux tables in \n",
    "    each g-interval, and the flux table\n",
    "    for the total flux, over all g-intervals.\n",
    "    '''\n",
    "    tb_flux(tbdata=tbdata_flux())\n",
    "    tb_flux(tbdata=tbdata_flux_sumg())\n"
   ]
  },
  {
   "cell_type": "code",
   "execution_count": 8,
   "metadata": {
    "collapsed": true
   },
   "outputs": [],
   "source": [
    "def script_gsummary():\n",
    "    '''\n",
    "    Script to display how the g-intervals\n",
    "    are defined according the hyperparameters\n",
    "    chosen for this lblnew-bestfit run.\n",
    "    '''\n",
    "    ng_refs = PARAM['ng_refs']\n",
    "    p_refs = list(zip(*PARAM['ref_pts']))[0]\n",
    "    ng = sum(ng_refs)\n",
    "    df_abscom = pd.read_csv(io.StringIO(DOC['abscom']), \n",
    "                            sep=r'\\s+', index_col=[0])\n",
    "    df_dgdgs = pd.read_csv(io.StringIO(DOC['dgdgs']), \n",
    "                            sep=r'\\s+', index_col=[0])\n",
    "    \n",
    "    # absth(g + 1) / absth(g)\n",
    "    df_abscom_copy = df_abscom.copy()\n",
    "    df_abscom_copy.index = df_abscom.index + 1\n",
    "    df_absratio = df_abscom / df_abscom_copy\n",
    "    df_absratio.columns = ['k(ig) / k(ig - 1)']\n",
    "    df_absratio = df_absratio.loc[: ng]    \n",
    "    \n",
    "    df_dgdgs_cumsum = df_dgdgs.cumsum(axis=0)\n",
    "    df_dgdgs_cumsum.columns = ['dg cumsum', 'dgs cumsum']\n",
    "    \n",
    "    data_pref = np.concatenate([p_ref * np.ones((ng_ref,)) \n",
    "                                for ng_ref, p_ref \n",
    "                                in zip(ng_refs, p_refs)], axis=0)\n",
    "    df_pref = pd.DataFrame(data_pref, \n",
    "                           index=df_dgdgs.index, columns=['pref'])\n",
    "    \n",
    "    df_all = pd.concat([df_abscom, df_absratio,\n",
    "                        df_dgdgs, df_dgdgs_cumsum,\n",
    "                        df_pref], axis=1) \n",
    "    \n",
    "    display.display(df_all)\n",
    "    display.display(display.Markdown(\n",
    "        (f\"TABLE. g-interval summary.  \"\n",
    "         f\"*abscom* is the lower bound of the g-interval.\")))\n",
    "    \n"
   ]
  },
  {
   "cell_type": "code",
   "execution_count": 9,
   "metadata": {
    "collapsed": true
   },
   "outputs": [],
   "source": [
    "def script_flux_to_excel():\n",
    "    '''\n",
    "    Script to save the lblnew-bestfit run's\n",
    "    output flux to excel file and display the\n",
    "    link to download the excel file.\n",
    "    '''\n",
    "    fname = 'lblnew-bestfit_flux.xlsx'\n",
    "    writer = pd.ExcelWriter(fname)\n",
    "    \n",
    "    ds = DS_FLUX_CRD\n",
    "    for g in ds.coords['g']:\n",
    "        df = ds.sel(g=g).to_dataframe()\n",
    "        df.to_excel(writer, f'crd flux g={int(g)}')\n",
    "                \n",
    "    ds = DS_FLUX_WGT\n",
    "    for g in ds.coords['g']:\n",
    "        df = ds.sel(g=g, igg=1).to_dataframe()\n",
    "        df.to_excel(writer, f'wgt igg=1 flux g={int(g)}')\n",
    "        \n",
    "        df = ds.sel(g=g, igg=10).to_dataframe()\n",
    "        df.to_excel(writer, f'wgt igg=10 flux g={int(g)}')\n",
    "        \n",
    "    writer.save()    \n",
    "    html_download = f'Download: <a href=\"./{fname}\">{fname}</a>'\n",
    "    display.display(display.HTML(html_download))\n",
    "\n",
    "\n",
    "def script_cool_to_excel():\n",
    "    '''\n",
    "    Script to save the lblnew-bestfit run's\n",
    "    output cooling rate to excel file and display\n",
    "    the link to download the excel file.\n",
    "    '''\n",
    "    fname = 'lblnew-bestfit_cool.xlsx'\n",
    "    writer = pd.ExcelWriter(fname)\n",
    "    \n",
    "    ds = DS_COOL_CRD\n",
    "    for g in ds.coords['g']:\n",
    "        df = ds.sel(g=g).to_dataframe()\n",
    "        df.to_excel(writer, f'crd cool g={int(g)}')\n",
    "        \n",
    "    ds = DS_COOL_WGT\n",
    "    for g in ds.coords['g']:\n",
    "        df = ds.sel(g=g, igg=1).to_dataframe()\n",
    "        df.to_excel(writer, f'wgt igg=1 cool g={int(g)}')\n",
    "        \n",
    "        df = ds.sel(g=g, igg=10).to_dataframe()\n",
    "        df.to_excel(writer, f'wgt igg=10 cool g={int(g)}')\n",
    "        \n",
    "    writer.save()\n",
    "    html_download = f'Download: <a href=\"./{fname}\">{fname}</a>'\n",
    "    display.display(display.HTML(html_download))"
   ]
  },
  {
   "cell_type": "code",
   "execution_count": 10,
   "metadata": {
    "collapsed": true
   },
   "outputs": [],
   "source": [
    "def show_html(s):\n",
    "    display.display(display.HTML(s))\n",
    "\n",
    "    \n",
    "def show_markdown(s):\n",
    "    display.display(display.Markdown(s))"
   ]
  },
  {
   "cell_type": "code",
   "execution_count": 11,
   "metadata": {
    "collapsed": true
   },
   "outputs": [],
   "source": [
    "def script():\n",
    "    title = ('### lblnew-bestfit' \n",
    "             if 'ng_refs' in PARAM else '### lblnew-overlap')\n",
    "    s_input = 'Input Parameters'\n",
    "    s_plt_cool = 'Cooling Rate Profiles'\n",
    "    s_tb_flux = 'Flux Comparison'\n",
    "    s_gsummary = 'g-interval Summary'\n",
    "    s_download = 'Download Data'\n",
    "    \n",
    "    # title\n",
    "    show_markdown(title)\n",
    "    \n",
    "    # TOC\n",
    "    show_markdown('### Table of Contents')\n",
    "    show_html(climahtml.getHTML_hrefanchor(s_input))\n",
    "    show_html(climahtml.getHTML_hrefanchor(s_plt_cool))\n",
    "    show_html(climahtml.getHTML_hrefanchor(s_tb_flux))\n",
    "    show_html(climahtml.getHTML_hrefanchor(s_gsummary))\n",
    "    show_html(climahtml.getHTML_hrefanchor(s_download))\n",
    "    \n",
    "    # Input parameters\n",
    "    show_html(climahtml.getHTML_idanchor(s_input))\n",
    "    show_markdown(climahtml.getMarkdown_sectitle(s_input))\n",
    "    print_input_param()\n",
    "    \n",
    "    # Cooling rate profiles\n",
    "    show_html(climahtml.getHTML_idanchor(s_plt_cool))\n",
    "    show_markdown(climahtml.getMarkdown_sectitle(s_plt_cool))\n",
    "    script_plt_cool()\n",
    "    \n",
    "    # Flux comparison\n",
    "    show_html(climahtml.getHTML_idanchor(s_tb_flux))\n",
    "    show_markdown(climahtml.getMarkdown_sectitle(s_tb_flux))\n",
    "    script_tb_flux()\n",
    "    \n",
    "    # g-interval summary\n",
    "    show_html(climahtml.getHTML_idanchor(s_gsummary))\n",
    "    show_markdown(climahtml.getMarkdown_sectitle(s_gsummary))\n",
    "    script_gsummary()\n",
    "    \n",
    "    # Download cooling rate and fluxes\n",
    "    show_html(climahtml.getHTML_idanchor(s_download))\n",
    "    show_markdown(climahtml.getMarkdown_sectitle(s_download))\n",
    "    script_flux_to_excel()\n",
    "    script_cool_to_excel()"
   ]
  },
  {
   "cell_type": "code",
   "execution_count": 12,
   "metadata": {
    "collapsed": true
   },
   "outputs": [],
   "source": [
    "%run param.py\n",
    "\n",
    "client = pymongo.MongoClient('localhost', 27017, connect=False)\n",
    "db = client.lblnew\n",
    "\n",
    "\n",
    "DOC = db.bestfit_lw.find_one(make_query(param=PARAM))\n",
    "DS_FLUX_CRD = load_output_file(io.StringIO(DOC['output_fluxg']))\n",
    "DS_COOL_CRD = load_output_file(io.StringIO(DOC['output_coolrg']))\n",
    "DS_FLUX_WGT = load_output_file(io.StringIO(DOC['output_wfluxg']))\n",
    "DS_COOL_WGT = load_output_file(io.StringIO(DOC['output_wcoolrg']))"
   ]
  },
  {
   "cell_type": "code",
   "execution_count": 13,
   "metadata": {
    "scrolled": false
   },
   "outputs": [
    {
     "data": {
      "text/markdown": [
       "### lblnew-bestfit"
      ],
      "text/plain": [
       "<IPython.core.display.Markdown object>"
      ]
     },
     "metadata": {},
     "output_type": "display_data"
    },
    {
     "data": {
      "text/markdown": [
       "### Table of Contents"
      ],
      "text/plain": [
       "<IPython.core.display.Markdown object>"
      ]
     },
     "metadata": {},
     "output_type": "display_data"
    },
    {
     "data": {
      "text/html": [
       "<a href=\"#Input_Parameters\">Input Parameters</a>"
      ],
      "text/plain": [
       "<IPython.core.display.HTML object>"
      ]
     },
     "metadata": {},
     "output_type": "display_data"
    },
    {
     "data": {
      "text/html": [
       "<a href=\"#Cooling_Rate_Profiles\">Cooling Rate Profiles</a>"
      ],
      "text/plain": [
       "<IPython.core.display.HTML object>"
      ]
     },
     "metadata": {},
     "output_type": "display_data"
    },
    {
     "data": {
      "text/html": [
       "<a href=\"#Flux_Comparison\">Flux Comparison</a>"
      ],
      "text/plain": [
       "<IPython.core.display.HTML object>"
      ]
     },
     "metadata": {},
     "output_type": "display_data"
    },
    {
     "data": {
      "text/html": [
       "<a href=\"#g-interval_Summary\">g-interval Summary</a>"
      ],
      "text/plain": [
       "<IPython.core.display.HTML object>"
      ]
     },
     "metadata": {},
     "output_type": "display_data"
    },
    {
     "data": {
      "text/html": [
       "<a href=\"#Download_Data\">Download Data</a>"
      ],
      "text/plain": [
       "<IPython.core.display.HTML object>"
      ]
     },
     "metadata": {},
     "output_type": "display_data"
    },
    {
     "data": {
      "text/html": [
       "<a id=\"Input_Parameters\"></a>"
      ],
      "text/plain": [
       "<IPython.core.display.HTML object>"
      ]
     },
     "metadata": {},
     "output_type": "display_data"
    },
    {
     "data": {
      "text/markdown": [
       "# Input Parameters"
      ],
      "text/plain": [
       "<IPython.core.display.Markdown object>"
      ]
     },
     "metadata": {},
     "output_type": "display_data"
    },
    {
     "name": "stdout",
     "output_type": "stream",
     "text": [
      "atmpro = trp\n",
      "band = 7\n",
      "commitnumber = a22ab94\n",
      "conc = 6.4e-07\n",
      "dv = 0.001\n",
      "klin = 2.22e-20\n",
      "molecule = n2o\n",
      "ng_adju = [0, 0]\n",
      "ng_refs = [2, 2]\n",
      "nv = 1000\n",
      "option_compute_btable = 0\n",
      "option_compute_ktable = 0\n",
      "option_wgt_flux = 1\n",
      "option_wgt_k = 1\n",
      "ref_pts = [(1, 250), (500, 250)]\n",
      "tsfc = 300\n",
      "vmax = 1380\n",
      "vmin = 1215\n",
      "w_diffuse = [(1.8, 1.66), (1.6, 1.8)]\n",
      "wgt = [(0.6, 0.5), (0.6, 0.9)]\n"
     ]
    },
    {
     "data": {
      "text/html": [
       "<a id=\"Cooling_Rate_Profiles\"></a>"
      ],
      "text/plain": [
       "<IPython.core.display.HTML object>"
      ]
     },
     "metadata": {},
     "output_type": "display_data"
    },
    {
     "data": {
      "text/markdown": [
       "# Cooling Rate Profiles"
      ],
      "text/plain": [
       "<IPython.core.display.Markdown object>"
      ]
     },
     "metadata": {},
     "output_type": "display_data"
    },
    {
     "data": {
      "text/html": [
       "\n",
       "<div class=\"bk-root\">\n",
       "    <div class=\"bk-plotdiv\" id=\"279e6975-244b-4d80-b5a0-98fed3c96386\"></div>\n",
       "</div>"
      ]
     },
     "metadata": {},
     "output_type": "display_data"
    },
    {
     "data": {
      "application/javascript": [
       "(function(root) {\n",
       "  function embed_document(root) {\n",
       "    \n",
       "  var docs_json = {\"55b19f01-5510-4f03-9ea6-9ca6c2fd30cc\":{\"roots\":{\"references\":[{\"attributes\":{\"source\":{\"id\":\"ae1384e6-580b-4c9c-aa13-c07be4b5fdba\",\"type\":\"ColumnDataSource\"}},\"id\":\"9b21ea0b-22c3-4361-949e-1c6925ef0c71\",\"type\":\"CDSView\"},{\"attributes\":{\"line_alpha\":0.3,\"line_color\":\"#377eb8\",\"line_width\":2,\"x\":{\"field\":\"x\"},\"y\":{\"field\":\"y\"}},\"id\":\"84640755-9919-4211-85c8-6f1ca965baf1\",\"type\":\"Line\"},{\"attributes\":{\"callback\":null,\"data\":{\"x\":{\"__ndarray__\":\"nwQakrHfnb/oOBd8I4Wdv2vyupwXyZy/89LYVJkGnL+mGqzuR0Cbv05YYYFPdpq/MFw0nOaomb+PeWsAOdiYv/xE7LPNBJi/0WqkTDovl7/G0veCZViWv1xqA/6QgZW/Gyvq+b6rlL+WR7OJ/paTv+bg1jM9jo6/YoaE925Wdb8/ydiqT3uBP6rUEkn565k/iZJ8ZPRVpz9tRZ3kB+GxPxnUcviIPrk/Zbpj82l8wD9SfhDRAazBP0ZjBo0Nm78/fPy1Jw7BuT+op9Hc8cOyP6x4ruVRzqg/ubBmS/ManT/Tkiz/2CaMP8fdqiePQHI/mUgjcJt/Jr+VtsqpI5tZv/go+PbCblW/v2/cABosRL+G1KSENvpFvzE7JrPDXVK/l/PXLwlsVr/CHetL9pRTv4Fe9pzyFUu/HVNud3U2Rr9QjdWXo/RDv3U8wmg9ukK/AsB+62PrQb80KThZykxBv+f3jnP3w0C/LMDijm9EQL99SQArJ44/v4BLb29pjj6/7FGYwId/Pb9k4RrJbVU8v4aBSd3hCDu/yd7fUwqQOb+5AnhXnOA3v8NiHWCT7DW//4fcRlejM7926OxL0/Mwv002oIYlkiu/u6FCY2QbJL+taASQ6tgWv8TmPlXt1uq+T3TNtJ5cED9q3ipAyaQfP+umlfxvMCI/0y3N7F4MHT+Na61LArsPP8VQbBRPL/g+lGb38hjo+D48JvlNTBcSP52qbAa0oiM/pACcrxC3MD+/2wk7StU4P9ZFkolODkE/J3vMYUBTRj8nZ3xiQFNMP6JrYUFallE/\",\"dtype\":\"float64\",\"shape\":[75]},\"y\":{\"__ndarray__\":\"GhExyth1ND/Sv8nbtpRIP2vylNV0PVE/aTum7souWD/At0SJ8fVgPw3Iuahxymc/MSNhhJWvcD/bTfBN02d3P2zb5nxnaoA/CD5h5MAGhz8NmeH1TyaQP+zrCsc9p5Y/LbKd76fGnz/bLW5ISEmmPww9YvTcQq8/JV2OstnstT8Er5Y7M8G+P0c+r3jqkcU/5h99k6ZBzj88bCIzFzjVP4enV8oyxN0//yH99nXg5D8qOpLLf0jtP5kqGJXUifQ/c9cS8kHP/D+/DpwzojQEQIEmwoanVwxA4lgXt9HgE0BSSZ2AJuIbQAMJih9jjiNA5q4l5INuK0AwTKYKRj0zQNv5fmq8/DpAaCJseHrtQkB/+zpwzoxKQM3MzMzMeFJAZmZmZmZqWEAAAAAAAFxeQM3MzMzMJmJAmpmZmZkfZUBmZmZmZhhoQDMzMzMzEWtAAAAAAAAKbkBmZmZmZoFwQM3MzMzM/XFAMzMzMzN6c0CamZmZmfZ0QAAAAAAAc3ZAZmZmZmbvd0DNzMzMzGt5QDMzMzMz6HpAmpmZmZlkfEAAAAAAAOF9QGZmZmZmXX9AZmZmZuZsgECamZmZGSuBQM3MzMxM6YFAAAAAAICngkAzMzMzs2WDQGZmZmbmI4RAmpmZmRnihEDNzMzMTKCFQAAAAACAXoZAMzMzM7Mch0BmZmZm5tqHQJqZmZkZmYhAzczMzExXiUAAAAAAgBWKQDMzMzOz04pAZmZmZuaRi0CamZmZGVCMQM3MzMxMDo1AAAAAAIDMjUAzMzMzs4qOQGZmZmbmSI9A\",\"dtype\":\"float64\",\"shape\":[75]}},\"selected\":{\"id\":\"48bce21d-7ffb-4883-9365-edf4532171c4\",\"type\":\"Selection\"},\"selection_policy\":{\"id\":\"cf3fe697-d493-4611-9844-f5211fa66736\",\"type\":\"UnionRenderers\"}},\"id\":\"c2dd7aee-6390-4a41-8c7d-b7d79c6051a7\",\"type\":\"ColumnDataSource\"},{\"attributes\":{\"fill_alpha\":{\"value\":0.1},\"fill_color\":{\"value\":\"#1f77b4\"},\"line_alpha\":{\"value\":0.1},\"line_color\":{\"value\":\"#1f77b4\"},\"x\":{\"field\":\"x\"},\"y\":{\"field\":\"y\"}},\"id\":\"f03de3b8-75d1-4b79-ad87-fd7d40030594\",\"type\":\"Triangle\"},{\"attributes\":{\"source\":{\"id\":\"dc2ba03a-cff7-4c98-9f11-2db7dd6fcbed\",\"type\":\"ColumnDataSource\"}},\"id\":\"0c6c7660-a2e4-4e09-ba3b-a125c4597978\",\"type\":\"CDSView\"},{\"attributes\":{\"dimension\":1,\"plot\":{\"id\":\"9e52d04e-0311-4efe-be3e-b4ac0b5d349d\",\"subtype\":\"Figure\",\"type\":\"Plot\"},\"ticker\":{\"id\":\"02a3033b-b214-4512-b43d-756eb720af39\",\"type\":\"BasicTicker\"}},\"id\":\"1f7509a9-6f86-44ce-ae6d-988883815e23\",\"type\":\"Grid\"},{\"attributes\":{\"data_source\":{\"id\":\"95058fc5-149e-4f17-9cd4-a8233a250cd5\",\"type\":\"ColumnDataSource\"},\"glyph\":{\"id\":\"0d6a6d3f-4907-4f3f-a623-c5859213ab1a\",\"type\":\"Line\"},\"hover_glyph\":null,\"muted_glyph\":null,\"nonselection_glyph\":{\"id\":\"66544a40-cf8b-4cbb-8a13-07dfbe56f699\",\"type\":\"Line\"},\"selection_glyph\":null,\"view\":{\"id\":\"165e032a-bcb6-4143-840e-4b270c7fa3b6\",\"type\":\"CDSView\"}},\"id\":\"7e198a34-a067-4e9d-b956-d36f3db842c8\",\"type\":\"GlyphRenderer\"},{\"attributes\":{\"data_source\":{\"id\":\"916ca7b2-621d-47ef-bdf4-5489e72fc2d2\",\"type\":\"ColumnDataSource\"},\"glyph\":{\"id\":\"b71c5c30-aa08-4a0f-8a53-98e5c8a93288\",\"type\":\"Square\"},\"hover_glyph\":null,\"muted_glyph\":null,\"nonselection_glyph\":{\"id\":\"da7a6328-2191-41fe-94f0-703777dab51a\",\"type\":\"Square\"},\"selection_glyph\":null,\"view\":{\"id\":\"0d6be64c-5029-4bfe-ba97-59133fd18823\",\"type\":\"CDSView\"}},\"id\":\"ed3f87e2-f057-4695-9a55-a63ae3c5d75c\",\"type\":\"GlyphRenderer\"},{\"attributes\":{\"axis_label\":\"pressure [mb]\",\"formatter\":{\"id\":\"eb3e9d03-9a4e-483b-afb9-7252009c8f24\",\"type\":\"BasicTickFormatter\"},\"plot\":{\"id\":\"9e52d04e-0311-4efe-be3e-b4ac0b5d349d\",\"subtype\":\"Figure\",\"type\":\"Plot\"},\"ticker\":{\"id\":\"02a3033b-b214-4512-b43d-756eb720af39\",\"type\":\"BasicTicker\"}},\"id\":\"4babf8f3-c723-417f-a107-2bbec028b868\",\"type\":\"LinearAxis\"},{\"attributes\":{\"callback\":null,\"data\":{\"x\":{\"__ndarray__\":\"ufe/D0Ztob/wZPjOtjqhv4Lzw7eZ0qC/Dw2xGHpmoL9mzY2+ie6fv91KuT86HJ+/i7akTx0+nr87p62fa1Cdv2KcVSXlfJy/+gDNtaKsm79m9gJ+UMGav/pBb4cM/5m/2LrUCP1Mmb/pkJQnIlmYv1jejbn2+5O/z17KOH4Tg79+Bru1kRF1P6YRifv1Lpc/RiW3HmxOpj/tD9b3yIOxPzxvnV6tA7k/yZ/applqwD/dBMaX3GrBP1QEtITna74/ytfVTA0guD8c1j16DwyxP4NdOANoA6Y/MLh+q4nGmT/dh7ktXBmKP1GahTKfd3Q/RD9rEUrqTT/57ftDHp5GvxqohG0DDk6/yfQ/xvbsQ78FqgAcpdxKv4ibXYST91S/f4bZQg6VWL9Z6Jvd56tVv7dn1neDq0+/7kuKAPXESr+jIjLSqTBIv8tXBLWilEa/wdo6tw5nRb/52EJaDXFEv7SW24aKgEO/tDwzayfWQr+I/sO/lgZCvzbiZycpO0G/7iMdNUFpQL+P1s8SxRA/v0eVohViOD2/k56KY4UvO7+c/Qzanf44v1wlvIE7iza/8aZzYz3UM7+x+yssMMgwv0TtosXKryq/q9g/NVfNIr8pI0SNarkTv3CpgGTm6Kc+rYEEDPCDFD9wbvo6aJAiP+ZyUPmI9SU/HjoHj7KeIz/HH2K4YdYcP/eBJMj/RBU/skFausnNFj9F7dKfNFkhPxc+TfqGSys/H9ov7vLsMz/WTIMfxS07PxV9zuoEtEE/ONt7LWdpRj+TulRBCuhLP1UlJU+mSVE/\",\"dtype\":\"float64\",\"shape\":[75]},\"y\":{\"__ndarray__\":\"GhExyth1ND/Sv8nbtpRIP2vylNV0PVE/aTum7souWD/At0SJ8fVgPw3Iuahxymc/MSNhhJWvcD/bTfBN02d3P2zb5nxnaoA/CD5h5MAGhz8NmeH1TyaQP+zrCsc9p5Y/LbKd76fGnz/bLW5ISEmmPww9YvTcQq8/JV2OstnstT8Er5Y7M8G+P0c+r3jqkcU/5h99k6ZBzj88bCIzFzjVP4enV8oyxN0//yH99nXg5D8qOpLLf0jtP5kqGJXUifQ/c9cS8kHP/D+/DpwzojQEQIEmwoanVwxA4lgXt9HgE0BSSZ2AJuIbQAMJih9jjiNA5q4l5INuK0AwTKYKRj0zQNv5fmq8/DpAaCJseHrtQkB/+zpwzoxKQM3MzMzMeFJAZmZmZmZqWEAAAAAAAFxeQM3MzMzMJmJAmpmZmZkfZUBmZmZmZhhoQDMzMzMzEWtAAAAAAAAKbkBmZmZmZoFwQM3MzMzM/XFAMzMzMzN6c0CamZmZmfZ0QAAAAAAAc3ZAZmZmZmbvd0DNzMzMzGt5QDMzMzMz6HpAmpmZmZlkfEAAAAAAAOF9QGZmZmZmXX9AZmZmZuZsgECamZmZGSuBQM3MzMxM6YFAAAAAAICngkAzMzMzs2WDQGZmZmbmI4RAmpmZmRnihEDNzMzMTKCFQAAAAACAXoZAMzMzM7Mch0BmZmZm5tqHQJqZmZkZmYhAzczMzExXiUAAAAAAgBWKQDMzMzOz04pAZmZmZuaRi0CamZmZGVCMQM3MzMxMDo1AAAAAAIDMjUAzMzMzs4qOQGZmZmbmSI9A\",\"dtype\":\"float64\",\"shape\":[75]}},\"selected\":{\"id\":\"dfabd254-f4f0-4e15-ae50-9cb0ac499c53\",\"type\":\"Selection\"},\"selection_policy\":{\"id\":\"5de3ecf7-472b-469a-8ec9-d0af22cc8fa0\",\"type\":\"UnionRenderers\"}},\"id\":\"95058fc5-149e-4f17-9cd4-a8233a250cd5\",\"type\":\"ColumnDataSource\"},{\"attributes\":{\"data_source\":{\"id\":\"ae1384e6-580b-4c9c-aa13-c07be4b5fdba\",\"type\":\"ColumnDataSource\"},\"glyph\":{\"id\":\"01312c71-0a47-44e4-ba9c-ea45cc049c83\",\"type\":\"Triangle\"},\"hover_glyph\":null,\"muted_glyph\":null,\"nonselection_glyph\":{\"id\":\"f03de3b8-75d1-4b79-ad87-fd7d40030594\",\"type\":\"Triangle\"},\"selection_glyph\":null,\"view\":{\"id\":\"9b21ea0b-22c3-4361-949e-1c6925ef0c71\",\"type\":\"CDSView\"}},\"id\":\"d9a07e6e-0363-4b3e-85b1-416c46023825\",\"type\":\"GlyphRenderer\"},{\"attributes\":{\"source\":{\"id\":\"95058fc5-149e-4f17-9cd4-a8233a250cd5\",\"type\":\"ColumnDataSource\"}},\"id\":\"165e032a-bcb6-4143-840e-4b270c7fa3b6\",\"type\":\"CDSView\"},{\"attributes\":{\"plot\":null,\"text\":\"\"},\"id\":\"50bccc01-2ffa-4068-a62a-cdd05814015f\",\"type\":\"Title\"},{\"attributes\":{},\"id\":\"02a3033b-b214-4512-b43d-756eb720af39\",\"type\":\"BasicTicker\"},{\"attributes\":{\"callback\":null,\"data\":{\"x\":{\"__ndarray__\":\"nwQakrHfnb/oOBd8I4Wdv2vyupwXyZy/89LYVJkGnL+mGqzuR0Cbv05YYYFPdpq/MFw0nOaomb+PeWsAOdiYv/xE7LPNBJi/0WqkTDovl7/G0veCZViWv1xqA/6QgZW/Gyvq+b6rlL+WR7OJ/paTv+bg1jM9jo6/YoaE925Wdb8/ydiqT3uBP6rUEkn565k/iZJ8ZPRVpz9tRZ3kB+GxPxnUcviIPrk/Zbpj82l8wD9SfhDRAazBP0ZjBo0Nm78/fPy1Jw7BuT+op9Hc8cOyP6x4ruVRzqg/ubBmS/ManT/Tkiz/2CaMP8fdqiePQHI/mUgjcJt/Jr+VtsqpI5tZv/go+PbCblW/v2/cABosRL+G1KSENvpFvzE7JrPDXVK/l/PXLwlsVr/CHetL9pRTv4Fe9pzyFUu/HVNud3U2Rr9QjdWXo/RDv3U8wmg9ukK/AsB+62PrQb80KThZykxBv+f3jnP3w0C/LMDijm9EQL99SQArJ44/v4BLb29pjj6/7FGYwId/Pb9k4RrJbVU8v4aBSd3hCDu/yd7fUwqQOb+5AnhXnOA3v8NiHWCT7DW//4fcRlejM7926OxL0/Mwv002oIYlkiu/u6FCY2QbJL+taASQ6tgWv8TmPlXt1uq+T3TNtJ5cED9q3ipAyaQfP+umlfxvMCI/0y3N7F4MHT+Na61LArsPP8VQbBRPL/g+lGb38hjo+D48JvlNTBcSP52qbAa0oiM/pACcrxC3MD+/2wk7StU4P9ZFkolODkE/J3vMYUBTRj8nZ3xiQFNMP6JrYUFallE/\",\"dtype\":\"float64\",\"shape\":[75]},\"y\":{\"__ndarray__\":\"GhExyth1ND/Sv8nbtpRIP2vylNV0PVE/aTum7souWD/At0SJ8fVgPw3Iuahxymc/MSNhhJWvcD/bTfBN02d3P2zb5nxnaoA/CD5h5MAGhz8NmeH1TyaQP+zrCsc9p5Y/LbKd76fGnz/bLW5ISEmmPww9YvTcQq8/JV2OstnstT8Er5Y7M8G+P0c+r3jqkcU/5h99k6ZBzj88bCIzFzjVP4enV8oyxN0//yH99nXg5D8qOpLLf0jtP5kqGJXUifQ/c9cS8kHP/D+/DpwzojQEQIEmwoanVwxA4lgXt9HgE0BSSZ2AJuIbQAMJih9jjiNA5q4l5INuK0AwTKYKRj0zQNv5fmq8/DpAaCJseHrtQkB/+zpwzoxKQM3MzMzMeFJAZmZmZmZqWEAAAAAAAFxeQM3MzMzMJmJAmpmZmZkfZUBmZmZmZhhoQDMzMzMzEWtAAAAAAAAKbkBmZmZmZoFwQM3MzMzM/XFAMzMzMzN6c0CamZmZmfZ0QAAAAAAAc3ZAZmZmZmbvd0DNzMzMzGt5QDMzMzMz6HpAmpmZmZlkfEAAAAAAAOF9QGZmZmZmXX9AZmZmZuZsgECamZmZGSuBQM3MzMxM6YFAAAAAAICngkAzMzMzs2WDQGZmZmbmI4RAmpmZmRnihEDNzMzMTKCFQAAAAACAXoZAMzMzM7Mch0BmZmZm5tqHQJqZmZkZmYhAzczMzExXiUAAAAAAgBWKQDMzMzOz04pAZmZmZuaRi0CamZmZGVCMQM3MzMxMDo1AAAAAAIDMjUAzMzMzs4qOQGZmZmbmSI9A\",\"dtype\":\"float64\",\"shape\":[75]}},\"selected\":{\"id\":\"0811cf43-2ea5-49da-a71d-76c38ba0f936\",\"type\":\"Selection\"},\"selection_policy\":{\"id\":\"ef1be5f5-a245-4d37-a12a-20222fb91b06\",\"type\":\"UnionRenderers\"}},\"id\":\"ae1384e6-580b-4c9c-aa13-c07be4b5fdba\",\"type\":\"ColumnDataSource\"},{\"attributes\":{\"line_alpha\":0.6,\"line_color\":\"#984ea3\",\"line_width\":3,\"x\":{\"field\":\"x\"},\"y\":{\"field\":\"y\"}},\"id\":\"0d6a6d3f-4907-4f3f-a623-c5859213ab1a\",\"type\":\"Line\"},{\"attributes\":{\"plot\":{\"id\":\"9e52d04e-0311-4efe-be3e-b4ac0b5d349d\",\"subtype\":\"Figure\",\"type\":\"Plot\"},\"ticker\":{\"id\":\"5e936fa7-71ef-4ecb-97c5-7e857696e516\",\"type\":\"BasicTicker\"}},\"id\":\"9e9f9f50-fd71-4044-a92a-04b0e4b21364\",\"type\":\"Grid\"},{\"attributes\":{\"fill_alpha\":{\"value\":0.7},\"fill_color\":{\"value\":\"#377eb8\"},\"line_alpha\":{\"value\":0.7},\"line_color\":{\"value\":\"#377eb8\"},\"x\":{\"field\":\"x\"},\"y\":{\"field\":\"y\"}},\"id\":\"01312c71-0a47-44e4-ba9c-ea45cc049c83\",\"type\":\"Triangle\"},{\"attributes\":{},\"id\":\"7b582f84-afe0-49e5-b1bd-2a815e994a2d\",\"type\":\"LinearScale\"},{\"attributes\":{\"above\":[{\"id\":\"806c8ac3-ef9e-48e1-8bd3-7f99310af143\",\"type\":\"Legend\"}],\"below\":[{\"id\":\"08e9c056-74db-4a55-989a-c09a8b4e04a9\",\"type\":\"LinearAxis\"}],\"left\":[{\"id\":\"23a4f344-9315-42ed-96a3-a78b8162ce57\",\"type\":\"LogAxis\"}],\"plot_height\":500,\"plot_width\":400,\"renderers\":[{\"id\":\"08e9c056-74db-4a55-989a-c09a8b4e04a9\",\"type\":\"LinearAxis\"},{\"id\":\"6f684c92-2dc8-409d-bdae-e8d24d59e059\",\"type\":\"Grid\"},{\"id\":\"23a4f344-9315-42ed-96a3-a78b8162ce57\",\"type\":\"LogAxis\"},{\"id\":\"604d5dd5-e022-4272-be76-a424b26943ba\",\"type\":\"Grid\"},{\"id\":\"0acf4fb0-c8f8-48b6-816c-58b4e544b600\",\"type\":\"BoxAnnotation\"},{\"id\":\"12c671ff-1528-4b0f-b5aa-9e1b78207766\",\"type\":\"GlyphRenderer\"},{\"id\":\"b1cbb1bf-1254-4832-81f7-6a955d20266b\",\"type\":\"GlyphRenderer\"},{\"id\":\"515d2e88-a522-49dd-9233-15322a78fa1b\",\"type\":\"GlyphRenderer\"},{\"id\":\"45f0f8ba-aa82-4cbb-a91d-bcde8ea0dbd6\",\"type\":\"GlyphRenderer\"},{\"id\":\"85d2114c-9f84-4612-a6d3-b15051b2bc85\",\"type\":\"GlyphRenderer\"},{\"id\":\"c7d506eb-b417-41cb-81be-7c26487c5315\",\"type\":\"GlyphRenderer\"},{\"id\":\"806c8ac3-ef9e-48e1-8bd3-7f99310af143\",\"type\":\"Legend\"}],\"title\":{\"id\":\"50bccc01-2ffa-4068-a62a-cdd05814015f\",\"type\":\"Title\"},\"toolbar\":{\"id\":\"fe3a879c-a118-4c0f-898d-ec1b5725f829\",\"type\":\"Toolbar\"},\"toolbar_location\":null,\"x_range\":{\"id\":\"bf529622-9a4c-4fa1-8a43-5e64df58c296\",\"type\":\"Range1d\"},\"x_scale\":{\"id\":\"cdb7e7b0-c8e9-4cf4-9bc7-df8835e35b91\",\"type\":\"LinearScale\"},\"y_range\":{\"id\":\"c6044fe6-00b4-4182-b1d9-272d44847b82\",\"type\":\"Range1d\"},\"y_scale\":{\"id\":\"eb8e7183-45db-4727-a6d5-28033cf01575\",\"type\":\"LogScale\"}},\"id\":\"f582a683-d346-4bf7-a42d-2d6de4de7d03\",\"subtype\":\"Figure\",\"type\":\"Plot\"},{\"attributes\":{\"line_alpha\":0.1,\"line_color\":\"#1f77b4\",\"line_width\":3,\"x\":{\"field\":\"x\"},\"y\":{\"field\":\"y\"}},\"id\":\"66544a40-cf8b-4cbb-8a13-07dfbe56f699\",\"type\":\"Line\"},{\"attributes\":{\"data_source\":{\"id\":\"c2dd7aee-6390-4a41-8c7d-b7d79c6051a7\",\"type\":\"ColumnDataSource\"},\"glyph\":{\"id\":\"84640755-9919-4211-85c8-6f1ca965baf1\",\"type\":\"Line\"},\"hover_glyph\":null,\"muted_glyph\":null,\"nonselection_glyph\":{\"id\":\"4efe4d14-0a5c-43d0-813a-b61abd9dbc4e\",\"type\":\"Line\"},\"selection_glyph\":null,\"view\":{\"id\":\"824c18c9-c42a-409c-909c-103cc9fdb25c\",\"type\":\"CDSView\"}},\"id\":\"488d7b99-826f-4fd7-a8e2-75280ff88a21\",\"type\":\"GlyphRenderer\"},{\"attributes\":{\"callback\":null,\"data\":{\"x\":{\"__ndarray__\":\"ufe/D0Ztob/wZPjOtjqhv4Lzw7eZ0qC/Dw2xGHpmoL9mzY2+ie6fv91KuT86HJ+/i7akTx0+nr87p62fa1Cdv2KcVSXlfJy/+gDNtaKsm79m9gJ+UMGav/pBb4cM/5m/2LrUCP1Mmb/pkJQnIlmYv1jejbn2+5O/z17KOH4Tg79+Bru1kRF1P6YRifv1Lpc/RiW3HmxOpj/tD9b3yIOxPzxvnV6tA7k/yZ/applqwD/dBMaX3GrBP1QEtITna74/ytfVTA0guD8c1j16DwyxP4NdOANoA6Y/MLh+q4nGmT/dh7ktXBmKP1GahTKfd3Q/RD9rEUrqTT/57ftDHp5GvxqohG0DDk6/yfQ/xvbsQ78FqgAcpdxKv4ibXYST91S/f4bZQg6VWL9Z6Jvd56tVv7dn1neDq0+/7kuKAPXESr+jIjLSqTBIv8tXBLWilEa/wdo6tw5nRb/52EJaDXFEv7SW24aKgEO/tDwzayfWQr+I/sO/lgZCvzbiZycpO0G/7iMdNUFpQL+P1s8SxRA/v0eVohViOD2/k56KY4UvO7+c/Qzanf44v1wlvIE7iza/8aZzYz3UM7+x+yssMMgwv0TtosXKryq/q9g/NVfNIr8pI0SNarkTv3CpgGTm6Kc+rYEEDPCDFD9wbvo6aJAiP+ZyUPmI9SU/HjoHj7KeIz/HH2K4YdYcP/eBJMj/RBU/skFausnNFj9F7dKfNFkhPxc+TfqGSys/H9ov7vLsMz/WTIMfxS07PxV9zuoEtEE/ONt7LWdpRj+TulRBCuhLP1UlJU+mSVE/\",\"dtype\":\"float64\",\"shape\":[75]},\"y\":{\"__ndarray__\":\"GhExyth1ND/Sv8nbtpRIP2vylNV0PVE/aTum7souWD/At0SJ8fVgPw3Iuahxymc/MSNhhJWvcD/bTfBN02d3P2zb5nxnaoA/CD5h5MAGhz8NmeH1TyaQP+zrCsc9p5Y/LbKd76fGnz/bLW5ISEmmPww9YvTcQq8/JV2OstnstT8Er5Y7M8G+P0c+r3jqkcU/5h99k6ZBzj88bCIzFzjVP4enV8oyxN0//yH99nXg5D8qOpLLf0jtP5kqGJXUifQ/c9cS8kHP/D+/DpwzojQEQIEmwoanVwxA4lgXt9HgE0BSSZ2AJuIbQAMJih9jjiNA5q4l5INuK0AwTKYKRj0zQNv5fmq8/DpAaCJseHrtQkB/+zpwzoxKQM3MzMzMeFJAZmZmZmZqWEAAAAAAAFxeQM3MzMzMJmJAmpmZmZkfZUBmZmZmZhhoQDMzMzMzEWtAAAAAAAAKbkBmZmZmZoFwQM3MzMzM/XFAMzMzMzN6c0CamZmZmfZ0QAAAAAAAc3ZAZmZmZmbvd0DNzMzMzGt5QDMzMzMz6HpAmpmZmZlkfEAAAAAAAOF9QGZmZmZmXX9AZmZmZuZsgECamZmZGSuBQM3MzMxM6YFAAAAAAICngkAzMzMzs2WDQGZmZmbmI4RAmpmZmRnihEDNzMzMTKCFQAAAAACAXoZAMzMzM7Mch0BmZmZm5tqHQJqZmZkZmYhAzczMzExXiUAAAAAAgBWKQDMzMzOz04pAZmZmZuaRi0CamZmZGVCMQM3MzMxMDo1AAAAAAIDMjUAzMzMzs4qOQGZmZmbmSI9A\",\"dtype\":\"float64\",\"shape\":[75]}},\"selected\":{\"id\":\"911dfff1-456e-4be3-a51b-f144b09326dd\",\"type\":\"Selection\"},\"selection_policy\":{\"id\":\"278b3d70-84eb-49e1-8d89-560c686b2255\",\"type\":\"UnionRenderers\"}},\"id\":\"916ca7b2-621d-47ef-bdf4-5489e72fc2d2\",\"type\":\"ColumnDataSource\"},{\"attributes\":{\"line_alpha\":0.1,\"line_color\":\"#1f77b4\",\"line_width\":2,\"x\":{\"field\":\"x\"},\"y\":{\"field\":\"y\"}},\"id\":\"4efe4d14-0a5c-43d0-813a-b61abd9dbc4e\",\"type\":\"Line\"},{\"attributes\":{\"source\":{\"id\":\"916ca7b2-621d-47ef-bdf4-5489e72fc2d2\",\"type\":\"ColumnDataSource\"}},\"id\":\"0d6be64c-5029-4bfe-ba97-59133fd18823\",\"type\":\"CDSView\"},{\"attributes\":{\"source\":{\"id\":\"c2dd7aee-6390-4a41-8c7d-b7d79c6051a7\",\"type\":\"ColumnDataSource\"}},\"id\":\"824c18c9-c42a-409c-909c-103cc9fdb25c\",\"type\":\"CDSView\"},{\"attributes\":{},\"id\":\"5e936fa7-71ef-4ecb-97c5-7e857696e516\",\"type\":\"BasicTicker\"},{\"attributes\":{\"active_drag\":\"auto\",\"active_inspect\":\"auto\",\"active_scroll\":\"auto\",\"active_tap\":\"auto\",\"tools\":[{\"id\":\"0e034bea-33a2-48f9-a183-78ac5890bdfa\",\"type\":\"PanTool\"},{\"id\":\"8ca22549-06b4-4bfa-9426-9e663bf69b14\",\"type\":\"WheelZoomTool\"},{\"id\":\"2c5ed9c4-5d15-4262-8fdd-7d7fd566b5b6\",\"type\":\"BoxZoomTool\"},{\"id\":\"ebd6baf2-0031-45a4-903c-7d7385a7bf7b\",\"type\":\"SaveTool\"},{\"id\":\"e2904806-2a75-4201-b42c-bf9a160ef851\",\"type\":\"ResetTool\"},{\"id\":\"47a859d3-3185-422c-89ce-ff50760b45b0\",\"type\":\"HelpTool\"}]},\"id\":\"fe3a879c-a118-4c0f-898d-ec1b5725f829\",\"type\":\"Toolbar\"},{\"attributes\":{\"callback\":null,\"end\":0.13992071124,\"start\":-0.04969435524},\"id\":\"bf529622-9a4c-4fa1-8a43-5e64df58c296\",\"type\":\"Range1d\"},{\"attributes\":{\"axis_label\":\"cooling rate [K/day]\",\"formatter\":{\"id\":\"28f478b1-c4da-44e0-aae0-9f9dabb5ad26\",\"type\":\"BasicTickFormatter\"},\"plot\":{\"id\":\"9e52d04e-0311-4efe-be3e-b4ac0b5d349d\",\"subtype\":\"Figure\",\"type\":\"Plot\"},\"ticker\":{\"id\":\"5e936fa7-71ef-4ecb-97c5-7e857696e516\",\"type\":\"BasicTicker\"}},\"id\":\"e7e460c3-6adc-4b5a-89e6-d97702db2d87\",\"type\":\"LinearAxis\"},{\"attributes\":{\"plot\":{\"id\":\"f582a683-d346-4bf7-a42d-2d6de4de7d03\",\"subtype\":\"Figure\",\"type\":\"Plot\"},\"ticker\":{\"id\":\"ec27dc06-40fe-401e-b000-95b92b51ad08\",\"type\":\"BasicTicker\"}},\"id\":\"6f684c92-2dc8-409d-bdae-e8d24d59e059\",\"type\":\"Grid\"},{\"attributes\":{},\"id\":\"29c3c89f-3d93-43a8-bbf2-05db02dcbac0\",\"type\":\"LinearScale\"},{\"attributes\":{},\"id\":\"cdb7e7b0-c8e9-4cf4-9bc7-df8835e35b91\",\"type\":\"LinearScale\"},{\"attributes\":{\"label\":{\"value\":\"WGT igg=1\"},\"renderers\":[{\"id\":\"ed3f87e2-f057-4695-9a55-a63ae3c5d75c\",\"type\":\"GlyphRenderer\"},{\"id\":\"7e198a34-a067-4e9d-b956-d36f3db842c8\",\"type\":\"GlyphRenderer\"}]},\"id\":\"515c6f49-766f-4173-b6f5-0fd4f524d4cf\",\"type\":\"LegendItem\"},{\"attributes\":{\"above\":[{\"id\":\"aee5f783-765f-41ee-9a12-aafdfb141fb5\",\"type\":\"Legend\"}],\"below\":[{\"id\":\"e7e460c3-6adc-4b5a-89e6-d97702db2d87\",\"type\":\"LinearAxis\"}],\"left\":[{\"id\":\"4babf8f3-c723-417f-a107-2bbec028b868\",\"type\":\"LinearAxis\"}],\"plot_height\":500,\"plot_width\":400,\"renderers\":[{\"id\":\"e7e460c3-6adc-4b5a-89e6-d97702db2d87\",\"type\":\"LinearAxis\"},{\"id\":\"9e9f9f50-fd71-4044-a92a-04b0e4b21364\",\"type\":\"Grid\"},{\"id\":\"4babf8f3-c723-417f-a107-2bbec028b868\",\"type\":\"LinearAxis\"},{\"id\":\"1f7509a9-6f86-44ce-ae6d-988883815e23\",\"type\":\"Grid\"},{\"id\":\"b20b2d6c-f276-409b-b945-adedb180766b\",\"type\":\"BoxAnnotation\"},{\"id\":\"b65a911a-8a59-45ba-97a7-18dfbb29dd21\",\"type\":\"GlyphRenderer\"},{\"id\":\"5e04f7a0-ed8c-41f9-9c9b-2f4d18f98a15\",\"type\":\"GlyphRenderer\"},{\"id\":\"ed3f87e2-f057-4695-9a55-a63ae3c5d75c\",\"type\":\"GlyphRenderer\"},{\"id\":\"7e198a34-a067-4e9d-b956-d36f3db842c8\",\"type\":\"GlyphRenderer\"},{\"id\":\"d9a07e6e-0363-4b3e-85b1-416c46023825\",\"type\":\"GlyphRenderer\"},{\"id\":\"488d7b99-826f-4fd7-a8e2-75280ff88a21\",\"type\":\"GlyphRenderer\"},{\"id\":\"aee5f783-765f-41ee-9a12-aafdfb141fb5\",\"type\":\"Legend\"}],\"title\":{\"id\":\"f9d28726-e9d0-4293-aa15-590a739d27c5\",\"type\":\"Title\"},\"toolbar\":{\"id\":\"40b31dea-b7c7-4498-abae-8a344120c64f\",\"type\":\"Toolbar\"},\"toolbar_location\":null,\"x_range\":{\"id\":\"4c9af558-98cf-49bc-90df-bcc5b1bb3624\",\"type\":\"Range1d\"},\"x_scale\":{\"id\":\"29c3c89f-3d93-43a8-bbf2-05db02dcbac0\",\"type\":\"LinearScale\"},\"y_range\":{\"id\":\"1f442a9b-5187-4b03-914e-65297f030224\",\"type\":\"Range1d\"},\"y_scale\":{\"id\":\"7b582f84-afe0-49e5-b1bd-2a815e994a2d\",\"type\":\"LinearScale\"}},\"id\":\"9e52d04e-0311-4efe-be3e-b4ac0b5d349d\",\"subtype\":\"Figure\",\"type\":\"Plot\"},{\"attributes\":{\"label\":{\"value\":\"CRD\"},\"renderers\":[{\"id\":\"b65a911a-8a59-45ba-97a7-18dfbb29dd21\",\"type\":\"GlyphRenderer\"},{\"id\":\"5e04f7a0-ed8c-41f9-9c9b-2f4d18f98a15\",\"type\":\"GlyphRenderer\"}]},\"id\":\"9c3c5e26-150a-4c98-ad67-03f80abd2138\",\"type\":\"LegendItem\"},{\"attributes\":{\"label\":{\"value\":\"WGT igg=10\"},\"renderers\":[{\"id\":\"d9a07e6e-0363-4b3e-85b1-416c46023825\",\"type\":\"GlyphRenderer\"},{\"id\":\"488d7b99-826f-4fd7-a8e2-75280ff88a21\",\"type\":\"GlyphRenderer\"}]},\"id\":\"5c022e25-0469-47ba-963f-26ba4ea5a82c\",\"type\":\"LegendItem\"},{\"attributes\":{\"active_drag\":\"auto\",\"active_inspect\":\"auto\",\"active_scroll\":\"auto\",\"active_tap\":\"auto\",\"tools\":[{\"id\":\"93ab765e-4f70-43b7-868d-22884f086846\",\"type\":\"PanTool\"},{\"id\":\"7f41493c-b6f6-4492-97a2-8932d1c6f03e\",\"type\":\"WheelZoomTool\"},{\"id\":\"87d7960b-0491-4508-b297-19c367ad502a\",\"type\":\"BoxZoomTool\"},{\"id\":\"d583df0c-6381-4ae1-9f3f-ea7a708e3c39\",\"type\":\"SaveTool\"},{\"id\":\"e6485921-9932-49d1-92e3-26b6cfc8c69a\",\"type\":\"ResetTool\"},{\"id\":\"1dcbebd8-027d-4572-8030-30ca2218b51f\",\"type\":\"HelpTool\"}]},\"id\":\"40b31dea-b7c7-4498-abae-8a344120c64f\",\"type\":\"Toolbar\"},{\"attributes\":{\"items\":[{\"id\":\"38f74d4c-94d6-4772-9ef7-3afc4b905b63\",\"type\":\"LegendItem\"},{\"id\":\"bb671d43-4e22-423a-88a8-98437340f461\",\"type\":\"LegendItem\"},{\"id\":\"e3cb009f-ea31-4f25-818f-a12dd78286db\",\"type\":\"LegendItem\"}],\"label_text_font_size\":{\"value\":\"8pt\"},\"location\":\"top_center\",\"orientation\":\"horizontal\",\"plot\":{\"id\":\"f582a683-d346-4bf7-a42d-2d6de4de7d03\",\"subtype\":\"Figure\",\"type\":\"Plot\"}},\"id\":\"806c8ac3-ef9e-48e1-8bd3-7f99310af143\",\"type\":\"Legend\"},{\"attributes\":{\"items\":[{\"id\":\"9c3c5e26-150a-4c98-ad67-03f80abd2138\",\"type\":\"LegendItem\"},{\"id\":\"515c6f49-766f-4173-b6f5-0fd4f524d4cf\",\"type\":\"LegendItem\"},{\"id\":\"5c022e25-0469-47ba-963f-26ba4ea5a82c\",\"type\":\"LegendItem\"}],\"label_text_font_size\":{\"value\":\"8pt\"},\"location\":\"top_center\",\"orientation\":\"horizontal\",\"plot\":{\"id\":\"9e52d04e-0311-4efe-be3e-b4ac0b5d349d\",\"subtype\":\"Figure\",\"type\":\"Plot\"}},\"id\":\"aee5f783-765f-41ee-9a12-aafdfb141fb5\",\"type\":\"Legend\"},{\"attributes\":{},\"id\":\"eb8e7183-45db-4727-a6d5-28033cf01575\",\"type\":\"LogScale\"},{\"attributes\":{\"axis_label\":\"cooling rate [K/day]\",\"formatter\":{\"id\":\"6f9ab210-ddaa-4f84-a9a7-0598dd78a192\",\"type\":\"BasicTickFormatter\"},\"plot\":{\"id\":\"f582a683-d346-4bf7-a42d-2d6de4de7d03\",\"subtype\":\"Figure\",\"type\":\"Plot\"},\"ticker\":{\"id\":\"ec27dc06-40fe-401e-b000-95b92b51ad08\",\"type\":\"BasicTicker\"}},\"id\":\"08e9c056-74db-4a55-989a-c09a8b4e04a9\",\"type\":\"LinearAxis\"},{\"attributes\":{},\"id\":\"ec27dc06-40fe-401e-b000-95b92b51ad08\",\"type\":\"BasicTicker\"},{\"attributes\":{\"axis_label\":\"pressure [mb]\",\"formatter\":{\"id\":\"b3765b08-122a-4927-abce-9628d04967d3\",\"type\":\"LogTickFormatter\"},\"plot\":{\"id\":\"f582a683-d346-4bf7-a42d-2d6de4de7d03\",\"subtype\":\"Figure\",\"type\":\"Plot\"},\"ticker\":{\"id\":\"b9d94f20-16f7-4fba-a1a0-41badabe0dc8\",\"type\":\"LogTicker\"}},\"id\":\"23a4f344-9315-42ed-96a3-a78b8162ce57\",\"type\":\"LogAxis\"},{\"attributes\":{\"num_minor_ticks\":10},\"id\":\"b9d94f20-16f7-4fba-a1a0-41badabe0dc8\",\"type\":\"LogTicker\"},{\"attributes\":{\"dimension\":1,\"plot\":{\"id\":\"f582a683-d346-4bf7-a42d-2d6de4de7d03\",\"subtype\":\"Figure\",\"type\":\"Plot\"},\"ticker\":{\"id\":\"b9d94f20-16f7-4fba-a1a0-41badabe0dc8\",\"type\":\"LogTicker\"}},\"id\":\"604d5dd5-e022-4272-be76-a424b26943ba\",\"type\":\"Grid\"},{\"attributes\":{},\"id\":\"6f9ab210-ddaa-4f84-a9a7-0598dd78a192\",\"type\":\"BasicTickFormatter\"},{\"attributes\":{\"callback\":null,\"end\":0.001099182759,\"start\":-0.0015261196590000002},\"id\":\"4c9af558-98cf-49bc-90df-bcc5b1bb3624\",\"type\":\"Range1d\"},{\"attributes\":{\"callback\":null,\"end\":0.01,\"start\":1020},\"id\":\"c6044fe6-00b4-4182-b1d9-272d44847b82\",\"type\":\"Range1d\"},{\"attributes\":{\"bottom_units\":\"screen\",\"fill_alpha\":{\"value\":0.5},\"fill_color\":{\"value\":\"lightgrey\"},\"left_units\":\"screen\",\"level\":\"overlay\",\"line_alpha\":{\"value\":1.0},\"line_color\":{\"value\":\"black\"},\"line_dash\":[4,4],\"line_width\":{\"value\":2},\"plot\":null,\"render_mode\":\"css\",\"right_units\":\"screen\",\"top_units\":\"screen\"},\"id\":\"0acf4fb0-c8f8-48b6-816c-58b4e544b600\",\"type\":\"BoxAnnotation\"},{\"attributes\":{},\"id\":\"0e034bea-33a2-48f9-a183-78ac5890bdfa\",\"type\":\"PanTool\"},{\"attributes\":{},\"id\":\"8ca22549-06b4-4bfa-9426-9e663bf69b14\",\"type\":\"WheelZoomTool\"},{\"attributes\":{\"overlay\":{\"id\":\"0acf4fb0-c8f8-48b6-816c-58b4e544b600\",\"type\":\"BoxAnnotation\"}},\"id\":\"2c5ed9c4-5d15-4262-8fdd-7d7fd566b5b6\",\"type\":\"BoxZoomTool\"},{\"attributes\":{\"fill_alpha\":{\"value\":0.1},\"fill_color\":{\"value\":\"#1f77b4\"},\"line_alpha\":{\"value\":0.1},\"line_color\":{\"value\":\"#1f77b4\"},\"x\":{\"field\":\"x\"},\"y\":{\"field\":\"y\"}},\"id\":\"da7a6328-2191-41fe-94f0-703777dab51a\",\"type\":\"Square\"},{\"attributes\":{},\"id\":\"ebd6baf2-0031-45a4-903c-7d7385a7bf7b\",\"type\":\"SaveTool\"},{\"attributes\":{},\"id\":\"e2904806-2a75-4201-b42c-bf9a160ef851\",\"type\":\"ResetTool\"},{\"attributes\":{},\"id\":\"47a859d3-3185-422c-89ce-ff50760b45b0\",\"type\":\"HelpTool\"},{\"attributes\":{\"fill_alpha\":{\"value\":0.7},\"fill_color\":{\"value\":\"#984ea3\"},\"line_alpha\":{\"value\":0.7},\"line_color\":{\"value\":\"#984ea3\"},\"x\":{\"field\":\"x\"},\"y\":{\"field\":\"y\"}},\"id\":\"b71c5c30-aa08-4a0f-8a53-98e5c8a93288\",\"type\":\"Square\"},{\"attributes\":{\"callback\":null,\"data\":{\"x\":{\"__ndarray__\":\"qdlKgkw/rb9isS/Uv/asv4jTZQvqVqy/tSCHzW+0q7/ShzvScRmrv8TcdB8Of6q/i4EsRojrqb9aknPK8mGpv06inVSt5ai/k0K+I+F9qL/uzT9fUjOovy5Q5cPSEai/z3KhPj4rqL91dT5xPWCov94ut1iqO6a/XgfHX2y3n7/J26wiJTuLv/SKDt24+X0/W1DOBk/Xnz9NZmatO/KtP5/9X62OJ7c/hQvUvamjvz8e/jeClibAP/p67p/PSbk/NYkZmBeLsT96CCx+KNikP1BRxfKGspY/iEVgOhp4hz8nVhV8RNx1P0v6kaCMcV0/7gOlt7b5JL8Ns2ZYi95Qvz0Tq5kNX1O/jSo5LV92Tr/K3uGdVCBQv6/uPmGuYFK/D0nRbJXeUr/lCnvT3qtQvzJy4H8TAkq/Ucd6zrnvR7+BaCSqp6BGv9SW0ISfgkW/SOhkpyBuRL96ZqNHelxDvyCoQfIBSkK/fRG0U0E2Qb9imzXP4x9AvzQbGeBRDj6/pB1jt33UO7/gn5n6VY05v2EGbKd9Nze/oQJFOJPPNL/rV7eW5VAyvz3IzyNWaC+/fwVX+XPeKb83AZo+8Osjv6I11RK72Rq/yigzTqS/CL9rUlKnVITvPgwnTuQbQhY/kqfAMp62JD9iHEJbG84sP8bHLKhnRTA/MwEoe0b1Lj9dZ7PdHZkqPzfeAZhhWCc/2nvnoHXyJz/bfLMNdv4sPwcOMyNVqzI/gNwIJnXfNz8rTNe4GN49P22wW7X0X0I/+Jz9wiBpRj+jPLoYjlJLP5P/m/Dx1lA/\",\"dtype\":\"float64\",\"shape\":[75]},\"y\":{\"__ndarray__\":\"GhExyth1ND/Sv8nbtpRIP2vylNV0PVE/aTum7souWD/At0SJ8fVgPw3Iuahxymc/MSNhhJWvcD/bTfBN02d3P2zb5nxnaoA/CD5h5MAGhz8NmeH1TyaQP+zrCsc9p5Y/LbKd76fGnz/bLW5ISEmmPww9YvTcQq8/JV2OstnstT8Er5Y7M8G+P0c+r3jqkcU/5h99k6ZBzj88bCIzFzjVP4enV8oyxN0//yH99nXg5D8qOpLLf0jtP5kqGJXUifQ/c9cS8kHP/D+/DpwzojQEQIEmwoanVwxA4lgXt9HgE0BSSZ2AJuIbQAMJih9jjiNA5q4l5INuK0AwTKYKRj0zQNv5fmq8/DpAaCJseHrtQkB/+zpwzoxKQM3MzMzMeFJAZmZmZmZqWEAAAAAAAFxeQM3MzMzMJmJAmpmZmZkfZUBmZmZmZhhoQDMzMzMzEWtAAAAAAAAKbkBmZmZmZoFwQM3MzMzM/XFAMzMzMzN6c0CamZmZmfZ0QAAAAAAAc3ZAZmZmZmbvd0DNzMzMzGt5QDMzMzMz6HpAmpmZmZlkfEAAAAAAAOF9QGZmZmZmXX9AZmZmZuZsgECamZmZGSuBQM3MzMxM6YFAAAAAAICngkAzMzMzs2WDQGZmZmbmI4RAmpmZmRnihEDNzMzMTKCFQAAAAACAXoZAMzMzM7Mch0BmZmZm5tqHQJqZmZkZmYhAzczMzExXiUAAAAAAgBWKQDMzMzOz04pAZmZmZuaRi0CamZmZGVCMQM3MzMxMDo1AAAAAAIDMjUAzMzMzs4qOQGZmZmbmSI9A\",\"dtype\":\"float64\",\"shape\":[75]}},\"selected\":{\"id\":\"ef66573d-29c6-4fe7-ab80-2ca49f865964\",\"type\":\"Selection\"},\"selection_policy\":{\"id\":\"912e9ba0-95d4-4da1-bc1f-0d5c5db7cacb\",\"type\":\"UnionRenderers\"}},\"id\":\"cf47e5e4-1d0e-4bde-8c3d-ae111eaff1d8\",\"type\":\"ColumnDataSource\"},{\"attributes\":{\"fill_alpha\":{\"value\":0.1},\"fill_color\":{\"value\":\"#1f77b4\"},\"line_alpha\":{\"value\":0.1},\"line_color\":{\"value\":\"#1f77b4\"},\"x\":{\"field\":\"x\"},\"y\":{\"field\":\"y\"}},\"id\":\"376b94a6-9a7c-4b20-a39c-963319c6d396\",\"type\":\"Circle\"},{\"attributes\":{\"fill_alpha\":{\"value\":0.7},\"fill_color\":{\"value\":\"#4daf4a\"},\"line_alpha\":{\"value\":0.7},\"line_color\":{\"value\":\"#4daf4a\"},\"x\":{\"field\":\"x\"},\"y\":{\"field\":\"y\"}},\"id\":\"398295cd-c382-44dd-89db-90fbbc1568fd\",\"type\":\"Circle\"},{\"attributes\":{\"plot\":null,\"text\":\"\"},\"id\":\"f9d28726-e9d0-4293-aa15-590a739d27c5\",\"type\":\"Title\"},{\"attributes\":{\"data_source\":{\"id\":\"9745dc6a-a768-4f3e-a49e-5051971c800b\",\"type\":\"ColumnDataSource\"},\"glyph\":{\"id\":\"d449bd05-fedb-4c08-9f7b-0493ce6a205c\",\"type\":\"Line\"},\"hover_glyph\":null,\"muted_glyph\":null,\"nonselection_glyph\":{\"id\":\"7efff569-4214-4927-9028-d837140a720d\",\"type\":\"Line\"},\"selection_glyph\":null,\"view\":{\"id\":\"6af9f95f-0951-4024-b6e0-b5cbcd2753f1\",\"type\":\"CDSView\"}},\"id\":\"b1cbb1bf-1254-4832-81f7-6a955d20266b\",\"type\":\"GlyphRenderer\"},{\"attributes\":{\"label\":{\"value\":\"CRD\"},\"renderers\":[{\"id\":\"12c671ff-1528-4b0f-b5aa-9e1b78207766\",\"type\":\"GlyphRenderer\"},{\"id\":\"b1cbb1bf-1254-4832-81f7-6a955d20266b\",\"type\":\"GlyphRenderer\"}]},\"id\":\"38f74d4c-94d6-4772-9ef7-3afc4b905b63\",\"type\":\"LegendItem\"},{\"attributes\":{},\"id\":\"be1bc6c4-841a-4eaf-97fa-288b9b78fdbc\",\"type\":\"Selection\"},{\"attributes\":{},\"id\":\"eb3e9d03-9a4e-483b-afb9-7252009c8f24\",\"type\":\"BasicTickFormatter\"},{\"attributes\":{\"label\":{\"value\":\"WGT igg=10\"},\"renderers\":[{\"id\":\"85d2114c-9f84-4612-a6d3-b15051b2bc85\",\"type\":\"GlyphRenderer\"},{\"id\":\"c7d506eb-b417-41cb-81be-7c26487c5315\",\"type\":\"GlyphRenderer\"}]},\"id\":\"e3cb009f-ea31-4f25-818f-a12dd78286db\",\"type\":\"LegendItem\"},{\"attributes\":{},\"id\":\"12e58962-2ef8-4fce-a88b-e06e43dec4bb\",\"type\":\"UnionRenderers\"},{\"attributes\":{},\"id\":\"e541fb6b-0d16-4be7-96fa-62eb8af21a21\",\"type\":\"Selection\"},{\"attributes\":{},\"id\":\"28f478b1-c4da-44e0-aae0-9f9dabb5ad26\",\"type\":\"BasicTickFormatter\"},{\"attributes\":{},\"id\":\"dfabd254-f4f0-4e15-ae50-9cb0ac499c53\",\"type\":\"Selection\"},{\"attributes\":{},\"id\":\"36801d21-7c8d-47a6-b792-f21c6d809184\",\"type\":\"UnionRenderers\"},{\"attributes\":{},\"id\":\"6fb36001-5046-4ba0-8cc9-220ebc92c206\",\"type\":\"Selection\"},{\"attributes\":{},\"id\":\"5de3ecf7-472b-469a-8ec9-d0af22cc8fa0\",\"type\":\"UnionRenderers\"},{\"attributes\":{},\"id\":\"911dfff1-456e-4be3-a51b-f144b09326dd\",\"type\":\"Selection\"},{\"attributes\":{},\"id\":\"278b3d70-84eb-49e1-8d89-560c686b2255\",\"type\":\"UnionRenderers\"},{\"attributes\":{},\"id\":\"48bce21d-7ffb-4883-9365-edf4532171c4\",\"type\":\"Selection\"},{\"attributes\":{},\"id\":\"cf3fe697-d493-4611-9844-f5211fa66736\",\"type\":\"UnionRenderers\"},{\"attributes\":{},\"id\":\"0811cf43-2ea5-49da-a71d-76c38ba0f936\",\"type\":\"Selection\"},{\"attributes\":{},\"id\":\"ef1be5f5-a245-4d37-a12a-20222fb91b06\",\"type\":\"UnionRenderers\"},{\"attributes\":{},\"id\":\"ef66573d-29c6-4fe7-ab80-2ca49f865964\",\"type\":\"Selection\"},{\"attributes\":{\"callback\":null,\"data\":{\"x\":{\"__ndarray__\":\"nwQakrHfnb/oOBd8I4Wdv2vyupwXyZy/89LYVJkGnL+mGqzuR0Cbv05YYYFPdpq/MFw0nOaomb+PeWsAOdiYv/xE7LPNBJi/0WqkTDovl7/G0veCZViWv1xqA/6QgZW/Gyvq+b6rlL+WR7OJ/paTv+bg1jM9jo6/YoaE925Wdb8/ydiqT3uBP6rUEkn565k/iZJ8ZPRVpz9tRZ3kB+GxPxnUcviIPrk/Zbpj82l8wD9SfhDRAazBP0ZjBo0Nm78/fPy1Jw7BuT+op9Hc8cOyP6x4ruVRzqg/ubBmS/ManT/Tkiz/2CaMP8fdqiePQHI/mUgjcJt/Jr+VtsqpI5tZv/go+PbCblW/v2/cABosRL+G1KSENvpFvzE7JrPDXVK/l/PXLwlsVr/CHetL9pRTv4Fe9pzyFUu/HVNud3U2Rr9QjdWXo/RDv3U8wmg9ukK/AsB+62PrQb80KThZykxBv+f3jnP3w0C/LMDijm9EQL99SQArJ44/v4BLb29pjj6/7FGYwId/Pb9k4RrJbVU8v4aBSd3hCDu/yd7fUwqQOb+5AnhXnOA3v8NiHWCT7DW//4fcRlejM7926OxL0/Mwv002oIYlkiu/u6FCY2QbJL+taASQ6tgWv8TmPlXt1uq+T3TNtJ5cED9q3ipAyaQfP+umlfxvMCI/0y3N7F4MHT+Na61LArsPP8VQbBRPL/g+lGb38hjo+D48JvlNTBcSP52qbAa0oiM/pACcrxC3MD+/2wk7StU4P9ZFkolODkE/J3vMYUBTRj8nZ3xiQFNMP6JrYUFallE/\",\"dtype\":\"float64\",\"shape\":[75]},\"y\":{\"__ndarray__\":\"GhExyth1ND/Sv8nbtpRIP2vylNV0PVE/aTum7souWD/At0SJ8fVgPw3Iuahxymc/MSNhhJWvcD/bTfBN02d3P2zb5nxnaoA/CD5h5MAGhz8NmeH1TyaQP+zrCsc9p5Y/LbKd76fGnz/bLW5ISEmmPww9YvTcQq8/JV2OstnstT8Er5Y7M8G+P0c+r3jqkcU/5h99k6ZBzj88bCIzFzjVP4enV8oyxN0//yH99nXg5D8qOpLLf0jtP5kqGJXUifQ/c9cS8kHP/D+/DpwzojQEQIEmwoanVwxA4lgXt9HgE0BSSZ2AJuIbQAMJih9jjiNA5q4l5INuK0AwTKYKRj0zQNv5fmq8/DpAaCJseHrtQkB/+zpwzoxKQM3MzMzMeFJAZmZmZmZqWEAAAAAAAFxeQM3MzMzMJmJAmpmZmZkfZUBmZmZmZhhoQDMzMzMzEWtAAAAAAAAKbkBmZmZmZoFwQM3MzMzM/XFAMzMzMzN6c0CamZmZmfZ0QAAAAAAAc3ZAZmZmZmbvd0DNzMzMzGt5QDMzMzMz6HpAmpmZmZlkfEAAAAAAAOF9QGZmZmZmXX9AZmZmZuZsgECamZmZGSuBQM3MzMxM6YFAAAAAAICngkAzMzMzs2WDQGZmZmbmI4RAmpmZmRnihEDNzMzMTKCFQAAAAACAXoZAMzMzM7Mch0BmZmZm5tqHQJqZmZkZmYhAzczMzExXiUAAAAAAgBWKQDMzMzOz04pAZmZmZuaRi0CamZmZGVCMQM3MzMxMDo1AAAAAAIDMjUAzMzMzs4qOQGZmZmbmSI9A\",\"dtype\":\"float64\",\"shape\":[75]}},\"selected\":{\"id\":\"66560443-033d-4031-91eb-177ab00dddbd\",\"type\":\"Selection\"},\"selection_policy\":{\"id\":\"e62c5877-8d24-4bf4-b8e0-6aae82e63ef3\",\"type\":\"UnionRenderers\"}},\"id\":\"c1631de9-7100-4257-ad56-83c2c3f4a94b\",\"type\":\"ColumnDataSource\"},{\"attributes\":{},\"id\":\"b1665560-fea5-48e2-bbb2-8a1c56dbc07a\",\"type\":\"UnionRenderers\"},{\"attributes\":{\"ticker\":null},\"id\":\"b3765b08-122a-4927-abce-9628d04967d3\",\"type\":\"LogTickFormatter\"},{\"attributes\":{},\"id\":\"912e9ba0-95d4-4da1-bc1f-0d5c5db7cacb\",\"type\":\"UnionRenderers\"},{\"attributes\":{},\"id\":\"9720ff21-45e2-4ed8-a4f8-5838c198f18e\",\"type\":\"Selection\"},{\"attributes\":{\"toolbar\":{\"id\":\"31cb8baa-4fe9-4e68-bbf4-4f60d656b0fa\",\"type\":\"ProxyToolbar\"},\"toolbar_location\":\"above\"},\"id\":\"1d1b1a4d-76da-4567-ba43-c7a6b07ec675\",\"type\":\"ToolbarBox\"},{\"attributes\":{},\"id\":\"f82fc7d2-63f1-465b-a24c-f36d9238823d\",\"type\":\"UnionRenderers\"},{\"attributes\":{},\"id\":\"afde2fe9-2681-412a-aaba-39a3c8451434\",\"type\":\"Selection\"},{\"attributes\":{},\"id\":\"b4033bff-52aa-4b5f-b0e9-68cf14cfc1ee\",\"type\":\"UnionRenderers\"},{\"attributes\":{},\"id\":\"705f353c-d0c5-4730-be16-a0f9cb81c223\",\"type\":\"Selection\"},{\"attributes\":{},\"id\":\"b1424f2f-8133-4057-aa03-21dba36a6312\",\"type\":\"UnionRenderers\"},{\"attributes\":{},\"id\":\"66560443-033d-4031-91eb-177ab00dddbd\",\"type\":\"Selection\"},{\"attributes\":{},\"id\":\"e62c5877-8d24-4bf4-b8e0-6aae82e63ef3\",\"type\":\"UnionRenderers\"},{\"attributes\":{\"children\":[{\"id\":\"1d1b1a4d-76da-4567-ba43-c7a6b07ec675\",\"type\":\"ToolbarBox\"},{\"id\":\"010a6246-03c4-4c3c-8c79-da9a2d39be10\",\"type\":\"Column\"}]},\"id\":\"30c57395-ad53-4f49-9aa8-0c680b5d4f6a\",\"type\":\"Column\"},{\"attributes\":{\"line_alpha\":0.6,\"line_color\":\"#984ea3\",\"line_width\":3,\"x\":{\"field\":\"x\"},\"y\":{\"field\":\"y\"}},\"id\":\"b4259f00-c830-4b04-810a-11ab138afeda\",\"type\":\"Line\"},{\"attributes\":{\"tools\":[{\"id\":\"93ab765e-4f70-43b7-868d-22884f086846\",\"type\":\"PanTool\"},{\"id\":\"7f41493c-b6f6-4492-97a2-8932d1c6f03e\",\"type\":\"WheelZoomTool\"},{\"id\":\"87d7960b-0491-4508-b297-19c367ad502a\",\"type\":\"BoxZoomTool\"},{\"id\":\"d583df0c-6381-4ae1-9f3f-ea7a708e3c39\",\"type\":\"SaveTool\"},{\"id\":\"e6485921-9932-49d1-92e3-26b6cfc8c69a\",\"type\":\"ResetTool\"},{\"id\":\"1dcbebd8-027d-4572-8030-30ca2218b51f\",\"type\":\"HelpTool\"},{\"id\":\"0e034bea-33a2-48f9-a183-78ac5890bdfa\",\"type\":\"PanTool\"},{\"id\":\"8ca22549-06b4-4bfa-9426-9e663bf69b14\",\"type\":\"WheelZoomTool\"},{\"id\":\"2c5ed9c4-5d15-4262-8fdd-7d7fd566b5b6\",\"type\":\"BoxZoomTool\"},{\"id\":\"ebd6baf2-0031-45a4-903c-7d7385a7bf7b\",\"type\":\"SaveTool\"},{\"id\":\"e2904806-2a75-4201-b42c-bf9a160ef851\",\"type\":\"ResetTool\"},{\"id\":\"47a859d3-3185-422c-89ce-ff50760b45b0\",\"type\":\"HelpTool\"}]},\"id\":\"31cb8baa-4fe9-4e68-bbf4-4f60d656b0fa\",\"type\":\"ProxyToolbar\"},{\"attributes\":{\"source\":{\"id\":\"21b5a06e-5c10-46ae-89f7-ded3b9efdd4c\",\"type\":\"ColumnDataSource\"}},\"id\":\"256d53d6-980c-46ef-9f8c-5c07a1178852\",\"type\":\"CDSView\"},{\"attributes\":{\"source\":{\"id\":\"9745dc6a-a768-4f3e-a49e-5051971c800b\",\"type\":\"ColumnDataSource\"}},\"id\":\"6af9f95f-0951-4024-b6e0-b5cbcd2753f1\",\"type\":\"CDSView\"},{\"attributes\":{\"line_alpha\":0.1,\"line_color\":\"#1f77b4\",\"line_width\":3,\"x\":{\"field\":\"x\"},\"y\":{\"field\":\"y\"}},\"id\":\"a8ebc489-dc10-492c-b066-046d3e235b48\",\"type\":\"Line\"},{\"attributes\":{\"fill_alpha\":{\"value\":0.1},\"fill_color\":{\"value\":\"#1f77b4\"},\"line_alpha\":{\"value\":0.1},\"line_color\":{\"value\":\"#1f77b4\"},\"x\":{\"field\":\"x\"},\"y\":{\"field\":\"y\"}},\"id\":\"ddd3a03c-cad6-42d1-b865-bff5d7592cd0\",\"type\":\"Square\"},{\"attributes\":{\"children\":[{\"id\":\"7e3fe22f-8e87-4064-a930-e14c0d22773d\",\"type\":\"Row\"}]},\"id\":\"010a6246-03c4-4c3c-8c79-da9a2d39be10\",\"type\":\"Column\"},{\"attributes\":{\"source\":{\"id\":\"cf47e5e4-1d0e-4bde-8c3d-ae111eaff1d8\",\"type\":\"ColumnDataSource\"}},\"id\":\"64f7d2ce-0f87-4027-8738-6830f45302e6\",\"type\":\"CDSView\"},{\"attributes\":{\"data_source\":{\"id\":\"cf47e5e4-1d0e-4bde-8c3d-ae111eaff1d8\",\"type\":\"ColumnDataSource\"},\"glyph\":{\"id\":\"0fe4d8d5-5bad-4aeb-bff4-f3fcd3475833\",\"type\":\"Circle\"},\"hover_glyph\":null,\"muted_glyph\":null,\"nonselection_glyph\":{\"id\":\"376b94a6-9a7c-4b20-a39c-963319c6d396\",\"type\":\"Circle\"},\"selection_glyph\":null,\"view\":{\"id\":\"64f7d2ce-0f87-4027-8738-6830f45302e6\",\"type\":\"CDSView\"}},\"id\":\"12c671ff-1528-4b0f-b5aa-9e1b78207766\",\"type\":\"GlyphRenderer\"},{\"attributes\":{\"source\":{\"id\":\"c6fe2994-51b8-4e88-8496-ea2545f6cfb2\",\"type\":\"ColumnDataSource\"}},\"id\":\"e4fab7b8-c734-4246-bfef-d238999d28ef\",\"type\":\"CDSView\"},{\"attributes\":{\"data_source\":{\"id\":\"c6fe2994-51b8-4e88-8496-ea2545f6cfb2\",\"type\":\"ColumnDataSource\"},\"glyph\":{\"id\":\"b4259f00-c830-4b04-810a-11ab138afeda\",\"type\":\"Line\"},\"hover_glyph\":null,\"muted_glyph\":null,\"nonselection_glyph\":{\"id\":\"a8ebc489-dc10-492c-b066-046d3e235b48\",\"type\":\"Line\"},\"selection_glyph\":null,\"view\":{\"id\":\"e4fab7b8-c734-4246-bfef-d238999d28ef\",\"type\":\"CDSView\"}},\"id\":\"45f0f8ba-aa82-4cbb-a91d-bcde8ea0dbd6\",\"type\":\"GlyphRenderer\"},{\"attributes\":{\"callback\":null,\"data\":{\"x\":{\"__ndarray__\":\"ufe/D0Ztob/wZPjOtjqhv4Lzw7eZ0qC/Dw2xGHpmoL9mzY2+ie6fv91KuT86HJ+/i7akTx0+nr87p62fa1Cdv2KcVSXlfJy/+gDNtaKsm79m9gJ+UMGav/pBb4cM/5m/2LrUCP1Mmb/pkJQnIlmYv1jejbn2+5O/z17KOH4Tg79+Bru1kRF1P6YRifv1Lpc/RiW3HmxOpj/tD9b3yIOxPzxvnV6tA7k/yZ/applqwD/dBMaX3GrBP1QEtITna74/ytfVTA0guD8c1j16DwyxP4NdOANoA6Y/MLh+q4nGmT/dh7ktXBmKP1GahTKfd3Q/RD9rEUrqTT/57ftDHp5GvxqohG0DDk6/yfQ/xvbsQ78FqgAcpdxKv4ibXYST91S/f4bZQg6VWL9Z6Jvd56tVv7dn1neDq0+/7kuKAPXESr+jIjLSqTBIv8tXBLWilEa/wdo6tw5nRb/52EJaDXFEv7SW24aKgEO/tDwzayfWQr+I/sO/lgZCvzbiZycpO0G/7iMdNUFpQL+P1s8SxRA/v0eVohViOD2/k56KY4UvO7+c/Qzanf44v1wlvIE7iza/8aZzYz3UM7+x+yssMMgwv0TtosXKryq/q9g/NVfNIr8pI0SNarkTv3CpgGTm6Kc+rYEEDPCDFD9wbvo6aJAiP+ZyUPmI9SU/HjoHj7KeIz/HH2K4YdYcP/eBJMj/RBU/skFausnNFj9F7dKfNFkhPxc+TfqGSys/H9ov7vLsMz/WTIMfxS07PxV9zuoEtEE/ONt7LWdpRj+TulRBCuhLP1UlJU+mSVE/\",\"dtype\":\"float64\",\"shape\":[75]},\"y\":{\"__ndarray__\":\"GhExyth1ND/Sv8nbtpRIP2vylNV0PVE/aTum7souWD/At0SJ8fVgPw3Iuahxymc/MSNhhJWvcD/bTfBN02d3P2zb5nxnaoA/CD5h5MAGhz8NmeH1TyaQP+zrCsc9p5Y/LbKd76fGnz/bLW5ISEmmPww9YvTcQq8/JV2OstnstT8Er5Y7M8G+P0c+r3jqkcU/5h99k6ZBzj88bCIzFzjVP4enV8oyxN0//yH99nXg5D8qOpLLf0jtP5kqGJXUifQ/c9cS8kHP/D+/DpwzojQEQIEmwoanVwxA4lgXt9HgE0BSSZ2AJuIbQAMJih9jjiNA5q4l5INuK0AwTKYKRj0zQNv5fmq8/DpAaCJseHrtQkB/+zpwzoxKQM3MzMzMeFJAZmZmZmZqWEAAAAAAAFxeQM3MzMzMJmJAmpmZmZkfZUBmZmZmZhhoQDMzMzMzEWtAAAAAAAAKbkBmZmZmZoFwQM3MzMzM/XFAMzMzMzN6c0CamZmZmfZ0QAAAAAAAc3ZAZmZmZmbvd0DNzMzMzGt5QDMzMzMz6HpAmpmZmZlkfEAAAAAAAOF9QGZmZmZmXX9AZmZmZuZsgECamZmZGSuBQM3MzMxM6YFAAAAAAICngkAzMzMzs2WDQGZmZmbmI4RAmpmZmRnihEDNzMzMTKCFQAAAAACAXoZAMzMzM7Mch0BmZmZm5tqHQJqZmZkZmYhAzczMzExXiUAAAAAAgBWKQDMzMzOz04pAZmZmZuaRi0CamZmZGVCMQM3MzMxMDo1AAAAAAIDMjUAzMzMzs4qOQGZmZmbmSI9A\",\"dtype\":\"float64\",\"shape\":[75]}},\"selected\":{\"id\":\"afde2fe9-2681-412a-aaba-39a3c8451434\",\"type\":\"Selection\"},\"selection_policy\":{\"id\":\"b4033bff-52aa-4b5f-b0e9-68cf14cfc1ee\",\"type\":\"UnionRenderers\"}},\"id\":\"21b5a06e-5c10-46ae-89f7-ded3b9efdd4c\",\"type\":\"ColumnDataSource\"},{\"attributes\":{\"line_color\":\"#4daf4a\",\"line_width\":1.5,\"x\":{\"field\":\"x\"},\"y\":{\"field\":\"y\"}},\"id\":\"d449bd05-fedb-4c08-9f7b-0493ce6a205c\",\"type\":\"Line\"},{\"attributes\":{\"line_alpha\":0.3,\"line_color\":\"#377eb8\",\"line_width\":2,\"x\":{\"field\":\"x\"},\"y\":{\"field\":\"y\"}},\"id\":\"f611924a-821e-46bc-a33f-8566de8fd55c\",\"type\":\"Line\"},{\"attributes\":{\"line_alpha\":0.1,\"line_color\":\"#1f77b4\",\"line_width\":1.5,\"x\":{\"field\":\"x\"},\"y\":{\"field\":\"y\"}},\"id\":\"7efff569-4214-4927-9028-d837140a720d\",\"type\":\"Line\"},{\"attributes\":{\"data_source\":{\"id\":\"21b5a06e-5c10-46ae-89f7-ded3b9efdd4c\",\"type\":\"ColumnDataSource\"},\"glyph\":{\"id\":\"e179adb3-5191-43bb-b297-feb5fac61a97\",\"type\":\"Square\"},\"hover_glyph\":null,\"muted_glyph\":null,\"nonselection_glyph\":{\"id\":\"ddd3a03c-cad6-42d1-b865-bff5d7592cd0\",\"type\":\"Square\"},\"selection_glyph\":null,\"view\":{\"id\":\"256d53d6-980c-46ef-9f8c-5c07a1178852\",\"type\":\"CDSView\"}},\"id\":\"515d2e88-a522-49dd-9233-15322a78fa1b\",\"type\":\"GlyphRenderer\"},{\"attributes\":{\"label\":{\"value\":\"WGT igg=1\"},\"renderers\":[{\"id\":\"515d2e88-a522-49dd-9233-15322a78fa1b\",\"type\":\"GlyphRenderer\"},{\"id\":\"45f0f8ba-aa82-4cbb-a91d-bcde8ea0dbd6\",\"type\":\"GlyphRenderer\"}]},\"id\":\"bb671d43-4e22-423a-88a8-98437340f461\",\"type\":\"LegendItem\"},{\"attributes\":{\"callback\":null,\"data\":{\"x\":{\"__ndarray__\":\"qdlKgkw/rb9isS/Uv/asv4jTZQvqVqy/tSCHzW+0q7/ShzvScRmrv8TcdB8Of6q/i4EsRojrqb9aknPK8mGpv06inVSt5ai/k0K+I+F9qL/uzT9fUjOovy5Q5cPSEai/z3KhPj4rqL91dT5xPWCov94ut1iqO6a/XgfHX2y3n7/J26wiJTuLv/SKDt24+X0/W1DOBk/Xnz9NZmatO/KtP5/9X62OJ7c/hQvUvamjvz8e/jeClibAP/p67p/PSbk/NYkZmBeLsT96CCx+KNikP1BRxfKGspY/iEVgOhp4hz8nVhV8RNx1P0v6kaCMcV0/7gOlt7b5JL8Ns2ZYi95Qvz0Tq5kNX1O/jSo5LV92Tr/K3uGdVCBQv6/uPmGuYFK/D0nRbJXeUr/lCnvT3qtQvzJy4H8TAkq/Ucd6zrnvR7+BaCSqp6BGv9SW0ISfgkW/SOhkpyBuRL96ZqNHelxDvyCoQfIBSkK/fRG0U0E2Qb9imzXP4x9AvzQbGeBRDj6/pB1jt33UO7/gn5n6VY05v2EGbKd9Nze/oQJFOJPPNL/rV7eW5VAyvz3IzyNWaC+/fwVX+XPeKb83AZo+8Osjv6I11RK72Rq/yigzTqS/CL9rUlKnVITvPgwnTuQbQhY/kqfAMp62JD9iHEJbG84sP8bHLKhnRTA/MwEoe0b1Lj9dZ7PdHZkqPzfeAZhhWCc/2nvnoHXyJz/bfLMNdv4sPwcOMyNVqzI/gNwIJnXfNz8rTNe4GN49P22wW7X0X0I/+Jz9wiBpRj+jPLoYjlJLP5P/m/Dx1lA/\",\"dtype\":\"float64\",\"shape\":[75]},\"y\":{\"__ndarray__\":\"GhExyth1ND/Sv8nbtpRIP2vylNV0PVE/aTum7souWD/At0SJ8fVgPw3Iuahxymc/MSNhhJWvcD/bTfBN02d3P2zb5nxnaoA/CD5h5MAGhz8NmeH1TyaQP+zrCsc9p5Y/LbKd76fGnz/bLW5ISEmmPww9YvTcQq8/JV2OstnstT8Er5Y7M8G+P0c+r3jqkcU/5h99k6ZBzj88bCIzFzjVP4enV8oyxN0//yH99nXg5D8qOpLLf0jtP5kqGJXUifQ/c9cS8kHP/D+/DpwzojQEQIEmwoanVwxA4lgXt9HgE0BSSZ2AJuIbQAMJih9jjiNA5q4l5INuK0AwTKYKRj0zQNv5fmq8/DpAaCJseHrtQkB/+zpwzoxKQM3MzMzMeFJAZmZmZmZqWEAAAAAAAFxeQM3MzMzMJmJAmpmZmZkfZUBmZmZmZhhoQDMzMzMzEWtAAAAAAAAKbkBmZmZmZoFwQM3MzMzM/XFAMzMzMzN6c0CamZmZmfZ0QAAAAAAAc3ZAZmZmZmbvd0DNzMzMzGt5QDMzMzMz6HpAmpmZmZlkfEAAAAAAAOF9QGZmZmZmXX9AZmZmZuZsgECamZmZGSuBQM3MzMxM6YFAAAAAAICngkAzMzMzs2WDQGZmZmbmI4RAmpmZmRnihEDNzMzMTKCFQAAAAACAXoZAMzMzM7Mch0BmZmZm5tqHQJqZmZkZmYhAzczMzExXiUAAAAAAgBWKQDMzMzOz04pAZmZmZuaRi0CamZmZGVCMQM3MzMxMDo1AAAAAAIDMjUAzMzMzs4qOQGZmZmbmSI9A\",\"dtype\":\"float64\",\"shape\":[75]}},\"selected\":{\"id\":\"9720ff21-45e2-4ed8-a4f8-5838c198f18e\",\"type\":\"Selection\"},\"selection_policy\":{\"id\":\"f82fc7d2-63f1-465b-a24c-f36d9238823d\",\"type\":\"UnionRenderers\"}},\"id\":\"9745dc6a-a768-4f3e-a49e-5051971c800b\",\"type\":\"ColumnDataSource\"},{\"attributes\":{\"data_source\":{\"id\":\"c1631de9-7100-4257-ad56-83c2c3f4a94b\",\"type\":\"ColumnDataSource\"},\"glyph\":{\"id\":\"1722cf5b-c7ff-46d1-99ec-cb172ce0a17d\",\"type\":\"Triangle\"},\"hover_glyph\":null,\"muted_glyph\":null,\"nonselection_glyph\":{\"id\":\"d70b434b-67b5-4a3e-a23a-9e044e42d2c2\",\"type\":\"Triangle\"},\"selection_glyph\":null,\"view\":{\"id\":\"a18900f6-393e-4473-99d4-a135b2fa3727\",\"type\":\"CDSView\"}},\"id\":\"85d2114c-9f84-4612-a6d3-b15051b2bc85\",\"type\":\"GlyphRenderer\"},{\"attributes\":{\"callback\":null,\"data\":{\"x\":{\"__ndarray__\":\"nwQakrHfnb/oOBd8I4Wdv2vyupwXyZy/89LYVJkGnL+mGqzuR0Cbv05YYYFPdpq/MFw0nOaomb+PeWsAOdiYv/xE7LPNBJi/0WqkTDovl7/G0veCZViWv1xqA/6QgZW/Gyvq+b6rlL+WR7OJ/paTv+bg1jM9jo6/YoaE925Wdb8/ydiqT3uBP6rUEkn565k/iZJ8ZPRVpz9tRZ3kB+GxPxnUcviIPrk/Zbpj82l8wD9SfhDRAazBP0ZjBo0Nm78/fPy1Jw7BuT+op9Hc8cOyP6x4ruVRzqg/ubBmS/ManT/Tkiz/2CaMP8fdqiePQHI/mUgjcJt/Jr+VtsqpI5tZv/go+PbCblW/v2/cABosRL+G1KSENvpFvzE7JrPDXVK/l/PXLwlsVr/CHetL9pRTv4Fe9pzyFUu/HVNud3U2Rr9QjdWXo/RDv3U8wmg9ukK/AsB+62PrQb80KThZykxBv+f3jnP3w0C/LMDijm9EQL99SQArJ44/v4BLb29pjj6/7FGYwId/Pb9k4RrJbVU8v4aBSd3hCDu/yd7fUwqQOb+5AnhXnOA3v8NiHWCT7DW//4fcRlejM7926OxL0/Mwv002oIYlkiu/u6FCY2QbJL+taASQ6tgWv8TmPlXt1uq+T3TNtJ5cED9q3ipAyaQfP+umlfxvMCI/0y3N7F4MHT+Na61LArsPP8VQbBRPL/g+lGb38hjo+D48JvlNTBcSP52qbAa0oiM/pACcrxC3MD+/2wk7StU4P9ZFkolODkE/J3vMYUBTRj8nZ3xiQFNMP6JrYUFallE/\",\"dtype\":\"float64\",\"shape\":[75]},\"y\":{\"__ndarray__\":\"GhExyth1ND/Sv8nbtpRIP2vylNV0PVE/aTum7souWD/At0SJ8fVgPw3Iuahxymc/MSNhhJWvcD/bTfBN02d3P2zb5nxnaoA/CD5h5MAGhz8NmeH1TyaQP+zrCsc9p5Y/LbKd76fGnz/bLW5ISEmmPww9YvTcQq8/JV2OstnstT8Er5Y7M8G+P0c+r3jqkcU/5h99k6ZBzj88bCIzFzjVP4enV8oyxN0//yH99nXg5D8qOpLLf0jtP5kqGJXUifQ/c9cS8kHP/D+/DpwzojQEQIEmwoanVwxA4lgXt9HgE0BSSZ2AJuIbQAMJih9jjiNA5q4l5INuK0AwTKYKRj0zQNv5fmq8/DpAaCJseHrtQkB/+zpwzoxKQM3MzMzMeFJAZmZmZmZqWEAAAAAAAFxeQM3MzMzMJmJAmpmZmZkfZUBmZmZmZhhoQDMzMzMzEWtAAAAAAAAKbkBmZmZmZoFwQM3MzMzM/XFAMzMzMzN6c0CamZmZmfZ0QAAAAAAAc3ZAZmZmZmbvd0DNzMzMzGt5QDMzMzMz6HpAmpmZmZlkfEAAAAAAAOF9QGZmZmZmXX9AZmZmZuZsgECamZmZGSuBQM3MzMxM6YFAAAAAAICngkAzMzMzs2WDQGZmZmbmI4RAmpmZmRnihEDNzMzMTKCFQAAAAACAXoZAMzMzM7Mch0BmZmZm5tqHQJqZmZkZmYhAzczMzExXiUAAAAAAgBWKQDMzMzOz04pAZmZmZuaRi0CamZmZGVCMQM3MzMxMDo1AAAAAAIDMjUAzMzMzs4qOQGZmZmbmSI9A\",\"dtype\":\"float64\",\"shape\":[75]}},\"selected\":{\"id\":\"705f353c-d0c5-4730-be16-a0f9cb81c223\",\"type\":\"Selection\"},\"selection_policy\":{\"id\":\"b1424f2f-8133-4057-aa03-21dba36a6312\",\"type\":\"UnionRenderers\"}},\"id\":\"4b03fc1d-af5a-452a-941a-e07e41c59a13\",\"type\":\"ColumnDataSource\"},{\"attributes\":{\"source\":{\"id\":\"c1631de9-7100-4257-ad56-83c2c3f4a94b\",\"type\":\"ColumnDataSource\"}},\"id\":\"a18900f6-393e-4473-99d4-a135b2fa3727\",\"type\":\"CDSView\"},{\"attributes\":{\"data_source\":{\"id\":\"4b03fc1d-af5a-452a-941a-e07e41c59a13\",\"type\":\"ColumnDataSource\"},\"glyph\":{\"id\":\"f611924a-821e-46bc-a33f-8566de8fd55c\",\"type\":\"Line\"},\"hover_glyph\":null,\"muted_glyph\":null,\"nonselection_glyph\":{\"id\":\"337e9edd-82dd-43bf-a016-5c5cc25498d0\",\"type\":\"Line\"},\"selection_glyph\":null,\"view\":{\"id\":\"dfd29f66-552a-47c0-8d13-5ed41d5bb31f\",\"type\":\"CDSView\"}},\"id\":\"c7d506eb-b417-41cb-81be-7c26487c5315\",\"type\":\"GlyphRenderer\"},{\"attributes\":{\"fill_alpha\":{\"value\":0.1},\"fill_color\":{\"value\":\"#1f77b4\"},\"line_alpha\":{\"value\":0.1},\"line_color\":{\"value\":\"#1f77b4\"},\"x\":{\"field\":\"x\"},\"y\":{\"field\":\"y\"}},\"id\":\"d70b434b-67b5-4a3e-a23a-9e044e42d2c2\",\"type\":\"Triangle\"},{\"attributes\":{\"fill_alpha\":{\"value\":0.7},\"fill_color\":{\"value\":\"#984ea3\"},\"line_alpha\":{\"value\":0.7},\"line_color\":{\"value\":\"#984ea3\"},\"x\":{\"field\":\"x\"},\"y\":{\"field\":\"y\"}},\"id\":\"e179adb3-5191-43bb-b297-feb5fac61a97\",\"type\":\"Square\"},{\"attributes\":{\"callback\":null,\"data\":{\"x\":{\"__ndarray__\":\"ufe/D0Ztob/wZPjOtjqhv4Lzw7eZ0qC/Dw2xGHpmoL9mzY2+ie6fv91KuT86HJ+/i7akTx0+nr87p62fa1Cdv2KcVSXlfJy/+gDNtaKsm79m9gJ+UMGav/pBb4cM/5m/2LrUCP1Mmb/pkJQnIlmYv1jejbn2+5O/z17KOH4Tg79+Bru1kRF1P6YRifv1Lpc/RiW3HmxOpj/tD9b3yIOxPzxvnV6tA7k/yZ/applqwD/dBMaX3GrBP1QEtITna74/ytfVTA0guD8c1j16DwyxP4NdOANoA6Y/MLh+q4nGmT/dh7ktXBmKP1GahTKfd3Q/RD9rEUrqTT/57ftDHp5GvxqohG0DDk6/yfQ/xvbsQ78FqgAcpdxKv4ibXYST91S/f4bZQg6VWL9Z6Jvd56tVv7dn1neDq0+/7kuKAPXESr+jIjLSqTBIv8tXBLWilEa/wdo6tw5nRb/52EJaDXFEv7SW24aKgEO/tDwzayfWQr+I/sO/lgZCvzbiZycpO0G/7iMdNUFpQL+P1s8SxRA/v0eVohViOD2/k56KY4UvO7+c/Qzanf44v1wlvIE7iza/8aZzYz3UM7+x+yssMMgwv0TtosXKryq/q9g/NVfNIr8pI0SNarkTv3CpgGTm6Kc+rYEEDPCDFD9wbvo6aJAiP+ZyUPmI9SU/HjoHj7KeIz/HH2K4YdYcP/eBJMj/RBU/skFausnNFj9F7dKfNFkhPxc+TfqGSys/H9ov7vLsMz/WTIMfxS07PxV9zuoEtEE/ONt7LWdpRj+TulRBCuhLP1UlJU+mSVE/\",\"dtype\":\"float64\",\"shape\":[75]},\"y\":{\"__ndarray__\":\"GhExyth1ND/Sv8nbtpRIP2vylNV0PVE/aTum7souWD/At0SJ8fVgPw3Iuahxymc/MSNhhJWvcD/bTfBN02d3P2zb5nxnaoA/CD5h5MAGhz8NmeH1TyaQP+zrCsc9p5Y/LbKd76fGnz/bLW5ISEmmPww9YvTcQq8/JV2OstnstT8Er5Y7M8G+P0c+r3jqkcU/5h99k6ZBzj88bCIzFzjVP4enV8oyxN0//yH99nXg5D8qOpLLf0jtP5kqGJXUifQ/c9cS8kHP/D+/DpwzojQEQIEmwoanVwxA4lgXt9HgE0BSSZ2AJuIbQAMJih9jjiNA5q4l5INuK0AwTKYKRj0zQNv5fmq8/DpAaCJseHrtQkB/+zpwzoxKQM3MzMzMeFJAZmZmZmZqWEAAAAAAAFxeQM3MzMzMJmJAmpmZmZkfZUBmZmZmZhhoQDMzMzMzEWtAAAAAAAAKbkBmZmZmZoFwQM3MzMzM/XFAMzMzMzN6c0CamZmZmfZ0QAAAAAAAc3ZAZmZmZmbvd0DNzMzMzGt5QDMzMzMz6HpAmpmZmZlkfEAAAAAAAOF9QGZmZmZmXX9AZmZmZuZsgECamZmZGSuBQM3MzMxM6YFAAAAAAICngkAzMzMzs2WDQGZmZmbmI4RAmpmZmRnihEDNzMzMTKCFQAAAAACAXoZAMzMzM7Mch0BmZmZm5tqHQJqZmZkZmYhAzczMzExXiUAAAAAAgBWKQDMzMzOz04pAZmZmZuaRi0CamZmZGVCMQM3MzMxMDo1AAAAAAIDMjUAzMzMzs4qOQGZmZmbmSI9A\",\"dtype\":\"float64\",\"shape\":[75]}},\"selected\":{\"id\":\"6fb36001-5046-4ba0-8cc9-220ebc92c206\",\"type\":\"Selection\"},\"selection_policy\":{\"id\":\"b1665560-fea5-48e2-bbb2-8a1c56dbc07a\",\"type\":\"UnionRenderers\"}},\"id\":\"c6fe2994-51b8-4e88-8496-ea2545f6cfb2\",\"type\":\"ColumnDataSource\"},{\"attributes\":{\"fill_alpha\":{\"value\":0.7},\"fill_color\":{\"value\":\"#377eb8\"},\"line_alpha\":{\"value\":0.7},\"line_color\":{\"value\":\"#377eb8\"},\"x\":{\"field\":\"x\"},\"y\":{\"field\":\"y\"}},\"id\":\"1722cf5b-c7ff-46d1-99ec-cb172ce0a17d\",\"type\":\"Triangle\"},{\"attributes\":{\"line_alpha\":0.1,\"line_color\":\"#1f77b4\",\"line_width\":2,\"x\":{\"field\":\"x\"},\"y\":{\"field\":\"y\"}},\"id\":\"337e9edd-82dd-43bf-a016-5c5cc25498d0\",\"type\":\"Line\"},{\"attributes\":{\"source\":{\"id\":\"4b03fc1d-af5a-452a-941a-e07e41c59a13\",\"type\":\"ColumnDataSource\"}},\"id\":\"dfd29f66-552a-47c0-8d13-5ed41d5bb31f\",\"type\":\"CDSView\"},{\"attributes\":{\"children\":[{\"id\":\"9e52d04e-0311-4efe-be3e-b4ac0b5d349d\",\"subtype\":\"Figure\",\"type\":\"Plot\"},{\"id\":\"f582a683-d346-4bf7-a42d-2d6de4de7d03\",\"subtype\":\"Figure\",\"type\":\"Plot\"}]},\"id\":\"7e3fe22f-8e87-4064-a930-e14c0d22773d\",\"type\":\"Row\"},{\"attributes\":{},\"id\":\"7f41493c-b6f6-4492-97a2-8932d1c6f03e\",\"type\":\"WheelZoomTool\"},{\"attributes\":{},\"id\":\"93ab765e-4f70-43b7-868d-22884f086846\",\"type\":\"PanTool\"},{\"attributes\":{\"bottom_units\":\"screen\",\"fill_alpha\":{\"value\":0.5},\"fill_color\":{\"value\":\"lightgrey\"},\"left_units\":\"screen\",\"level\":\"overlay\",\"line_alpha\":{\"value\":1.0},\"line_color\":{\"value\":\"black\"},\"line_dash\":[4,4],\"line_width\":{\"value\":2},\"plot\":null,\"render_mode\":\"css\",\"right_units\":\"screen\",\"top_units\":\"screen\"},\"id\":\"b20b2d6c-f276-409b-b945-adedb180766b\",\"type\":\"BoxAnnotation\"},{\"attributes\":{\"line_alpha\":0.1,\"line_color\":\"#1f77b4\",\"line_width\":1.5,\"x\":{\"field\":\"x\"},\"y\":{\"field\":\"y\"}},\"id\":\"759b1df0-a37b-455e-b8a9-a9c20bf643f7\",\"type\":\"Line\"},{\"attributes\":{\"overlay\":{\"id\":\"b20b2d6c-f276-409b-b945-adedb180766b\",\"type\":\"BoxAnnotation\"}},\"id\":\"87d7960b-0491-4508-b297-19c367ad502a\",\"type\":\"BoxZoomTool\"},{\"attributes\":{},\"id\":\"d583df0c-6381-4ae1-9f3f-ea7a708e3c39\",\"type\":\"SaveTool\"},{\"attributes\":{},\"id\":\"e6485921-9932-49d1-92e3-26b6cfc8c69a\",\"type\":\"ResetTool\"},{\"attributes\":{},\"id\":\"1dcbebd8-027d-4572-8030-30ca2218b51f\",\"type\":\"HelpTool\"},{\"attributes\":{\"data_source\":{\"id\":\"dc2ba03a-cff7-4c98-9f11-2db7dd6fcbed\",\"type\":\"ColumnDataSource\"},\"glyph\":{\"id\":\"69cce4c0-a3c5-4d4e-8276-c4c366cffb4f\",\"type\":\"Line\"},\"hover_glyph\":null,\"muted_glyph\":null,\"nonselection_glyph\":{\"id\":\"759b1df0-a37b-455e-b8a9-a9c20bf643f7\",\"type\":\"Line\"},\"selection_glyph\":null,\"view\":{\"id\":\"0c6c7660-a2e4-4e09-ba3b-a125c4597978\",\"type\":\"CDSView\"}},\"id\":\"5e04f7a0-ed8c-41f9-9c9b-2f4d18f98a15\",\"type\":\"GlyphRenderer\"},{\"attributes\":{\"source\":{\"id\":\"fdc79989-2a5a-4184-8626-7208f3ec6d31\",\"type\":\"ColumnDataSource\"}},\"id\":\"f4ddf07c-a8eb-485f-8206-f1fdc3694648\",\"type\":\"CDSView\"},{\"attributes\":{\"line_color\":\"#4daf4a\",\"line_width\":1.5,\"x\":{\"field\":\"x\"},\"y\":{\"field\":\"y\"}},\"id\":\"69cce4c0-a3c5-4d4e-8276-c4c366cffb4f\",\"type\":\"Line\"},{\"attributes\":{\"callback\":null,\"data\":{\"x\":{\"__ndarray__\":\"qdlKgkw/rb9isS/Uv/asv4jTZQvqVqy/tSCHzW+0q7/ShzvScRmrv8TcdB8Of6q/i4EsRojrqb9aknPK8mGpv06inVSt5ai/k0K+I+F9qL/uzT9fUjOovy5Q5cPSEai/z3KhPj4rqL91dT5xPWCov94ut1iqO6a/XgfHX2y3n7/J26wiJTuLv/SKDt24+X0/W1DOBk/Xnz9NZmatO/KtP5/9X62OJ7c/hQvUvamjvz8e/jeClibAP/p67p/PSbk/NYkZmBeLsT96CCx+KNikP1BRxfKGspY/iEVgOhp4hz8nVhV8RNx1P0v6kaCMcV0/7gOlt7b5JL8Ns2ZYi95Qvz0Tq5kNX1O/jSo5LV92Tr/K3uGdVCBQv6/uPmGuYFK/D0nRbJXeUr/lCnvT3qtQvzJy4H8TAkq/Ucd6zrnvR7+BaCSqp6BGv9SW0ISfgkW/SOhkpyBuRL96ZqNHelxDvyCoQfIBSkK/fRG0U0E2Qb9imzXP4x9AvzQbGeBRDj6/pB1jt33UO7/gn5n6VY05v2EGbKd9Nze/oQJFOJPPNL/rV7eW5VAyvz3IzyNWaC+/fwVX+XPeKb83AZo+8Osjv6I11RK72Rq/yigzTqS/CL9rUlKnVITvPgwnTuQbQhY/kqfAMp62JD9iHEJbG84sP8bHLKhnRTA/MwEoe0b1Lj9dZ7PdHZkqPzfeAZhhWCc/2nvnoHXyJz/bfLMNdv4sPwcOMyNVqzI/gNwIJnXfNz8rTNe4GN49P22wW7X0X0I/+Jz9wiBpRj+jPLoYjlJLP5P/m/Dx1lA/\",\"dtype\":\"float64\",\"shape\":[75]},\"y\":{\"__ndarray__\":\"GhExyth1ND/Sv8nbtpRIP2vylNV0PVE/aTum7souWD/At0SJ8fVgPw3Iuahxymc/MSNhhJWvcD/bTfBN02d3P2zb5nxnaoA/CD5h5MAGhz8NmeH1TyaQP+zrCsc9p5Y/LbKd76fGnz/bLW5ISEmmPww9YvTcQq8/JV2OstnstT8Er5Y7M8G+P0c+r3jqkcU/5h99k6ZBzj88bCIzFzjVP4enV8oyxN0//yH99nXg5D8qOpLLf0jtP5kqGJXUifQ/c9cS8kHP/D+/DpwzojQEQIEmwoanVwxA4lgXt9HgE0BSSZ2AJuIbQAMJih9jjiNA5q4l5INuK0AwTKYKRj0zQNv5fmq8/DpAaCJseHrtQkB/+zpwzoxKQM3MzMzMeFJAZmZmZmZqWEAAAAAAAFxeQM3MzMzMJmJAmpmZmZkfZUBmZmZmZhhoQDMzMzMzEWtAAAAAAAAKbkBmZmZmZoFwQM3MzMzM/XFAMzMzMzN6c0CamZmZmfZ0QAAAAAAAc3ZAZmZmZmbvd0DNzMzMzGt5QDMzMzMz6HpAmpmZmZlkfEAAAAAAAOF9QGZmZmZmXX9AZmZmZuZsgECamZmZGSuBQM3MzMxM6YFAAAAAAICngkAzMzMzs2WDQGZmZmbmI4RAmpmZmRnihEDNzMzMTKCFQAAAAACAXoZAMzMzM7Mch0BmZmZm5tqHQJqZmZkZmYhAzczMzExXiUAAAAAAgBWKQDMzMzOz04pAZmZmZuaRi0CamZmZGVCMQM3MzMxMDo1AAAAAAIDMjUAzMzMzs4qOQGZmZmbmSI9A\",\"dtype\":\"float64\",\"shape\":[75]}},\"selected\":{\"id\":\"be1bc6c4-841a-4eaf-97fa-288b9b78fdbc\",\"type\":\"Selection\"},\"selection_policy\":{\"id\":\"36801d21-7c8d-47a6-b792-f21c6d809184\",\"type\":\"UnionRenderers\"}},\"id\":\"dc2ba03a-cff7-4c98-9f11-2db7dd6fcbed\",\"type\":\"ColumnDataSource\"},{\"attributes\":{\"callback\":null,\"data\":{\"x\":{\"__ndarray__\":\"qdlKgkw/rb9isS/Uv/asv4jTZQvqVqy/tSCHzW+0q7/ShzvScRmrv8TcdB8Of6q/i4EsRojrqb9aknPK8mGpv06inVSt5ai/k0K+I+F9qL/uzT9fUjOovy5Q5cPSEai/z3KhPj4rqL91dT5xPWCov94ut1iqO6a/XgfHX2y3n7/J26wiJTuLv/SKDt24+X0/W1DOBk/Xnz9NZmatO/KtP5/9X62OJ7c/hQvUvamjvz8e/jeClibAP/p67p/PSbk/NYkZmBeLsT96CCx+KNikP1BRxfKGspY/iEVgOhp4hz8nVhV8RNx1P0v6kaCMcV0/7gOlt7b5JL8Ns2ZYi95Qvz0Tq5kNX1O/jSo5LV92Tr/K3uGdVCBQv6/uPmGuYFK/D0nRbJXeUr/lCnvT3qtQvzJy4H8TAkq/Ucd6zrnvR7+BaCSqp6BGv9SW0ISfgkW/SOhkpyBuRL96ZqNHelxDvyCoQfIBSkK/fRG0U0E2Qb9imzXP4x9AvzQbGeBRDj6/pB1jt33UO7/gn5n6VY05v2EGbKd9Nze/oQJFOJPPNL/rV7eW5VAyvz3IzyNWaC+/fwVX+XPeKb83AZo+8Osjv6I11RK72Rq/yigzTqS/CL9rUlKnVITvPgwnTuQbQhY/kqfAMp62JD9iHEJbG84sP8bHLKhnRTA/MwEoe0b1Lj9dZ7PdHZkqPzfeAZhhWCc/2nvnoHXyJz/bfLMNdv4sPwcOMyNVqzI/gNwIJnXfNz8rTNe4GN49P22wW7X0X0I/+Jz9wiBpRj+jPLoYjlJLP5P/m/Dx1lA/\",\"dtype\":\"float64\",\"shape\":[75]},\"y\":{\"__ndarray__\":\"GhExyth1ND/Sv8nbtpRIP2vylNV0PVE/aTum7souWD/At0SJ8fVgPw3Iuahxymc/MSNhhJWvcD/bTfBN02d3P2zb5nxnaoA/CD5h5MAGhz8NmeH1TyaQP+zrCsc9p5Y/LbKd76fGnz/bLW5ISEmmPww9YvTcQq8/JV2OstnstT8Er5Y7M8G+P0c+r3jqkcU/5h99k6ZBzj88bCIzFzjVP4enV8oyxN0//yH99nXg5D8qOpLLf0jtP5kqGJXUifQ/c9cS8kHP/D+/DpwzojQEQIEmwoanVwxA4lgXt9HgE0BSSZ2AJuIbQAMJih9jjiNA5q4l5INuK0AwTKYKRj0zQNv5fmq8/DpAaCJseHrtQkB/+zpwzoxKQM3MzMzMeFJAZmZmZmZqWEAAAAAAAFxeQM3MzMzMJmJAmpmZmZkfZUBmZmZmZhhoQDMzMzMzEWtAAAAAAAAKbkBmZmZmZoFwQM3MzMzM/XFAMzMzMzN6c0CamZmZmfZ0QAAAAAAAc3ZAZmZmZmbvd0DNzMzMzGt5QDMzMzMz6HpAmpmZmZlkfEAAAAAAAOF9QGZmZmZmXX9AZmZmZuZsgECamZmZGSuBQM3MzMxM6YFAAAAAAICngkAzMzMzs2WDQGZmZmbmI4RAmpmZmRnihEDNzMzMTKCFQAAAAACAXoZAMzMzM7Mch0BmZmZm5tqHQJqZmZkZmYhAzczMzExXiUAAAAAAgBWKQDMzMzOz04pAZmZmZuaRi0CamZmZGVCMQM3MzMxMDo1AAAAAAIDMjUAzMzMzs4qOQGZmZmbmSI9A\",\"dtype\":\"float64\",\"shape\":[75]}},\"selected\":{\"id\":\"e541fb6b-0d16-4be7-96fa-62eb8af21a21\",\"type\":\"Selection\"},\"selection_policy\":{\"id\":\"12e58962-2ef8-4fce-a88b-e06e43dec4bb\",\"type\":\"UnionRenderers\"}},\"id\":\"fdc79989-2a5a-4184-8626-7208f3ec6d31\",\"type\":\"ColumnDataSource\"},{\"attributes\":{\"fill_alpha\":{\"value\":0.1},\"fill_color\":{\"value\":\"#1f77b4\"},\"line_alpha\":{\"value\":0.1},\"line_color\":{\"value\":\"#1f77b4\"},\"x\":{\"field\":\"x\"},\"y\":{\"field\":\"y\"}},\"id\":\"a148e08f-3e89-4b20-aca8-f9d0cd1d2ce6\",\"type\":\"Circle\"},{\"attributes\":{\"callback\":null,\"end\":0.01,\"start\":1020},\"id\":\"1f442a9b-5187-4b03-914e-65297f030224\",\"type\":\"Range1d\"},{\"attributes\":{\"fill_alpha\":{\"value\":0.7},\"fill_color\":{\"value\":\"#4daf4a\"},\"line_alpha\":{\"value\":0.7},\"line_color\":{\"value\":\"#4daf4a\"},\"x\":{\"field\":\"x\"},\"y\":{\"field\":\"y\"}},\"id\":\"0fe4d8d5-5bad-4aeb-bff4-f3fcd3475833\",\"type\":\"Circle\"},{\"attributes\":{\"data_source\":{\"id\":\"fdc79989-2a5a-4184-8626-7208f3ec6d31\",\"type\":\"ColumnDataSource\"},\"glyph\":{\"id\":\"398295cd-c382-44dd-89db-90fbbc1568fd\",\"type\":\"Circle\"},\"hover_glyph\":null,\"muted_glyph\":null,\"nonselection_glyph\":{\"id\":\"a148e08f-3e89-4b20-aca8-f9d0cd1d2ce6\",\"type\":\"Circle\"},\"selection_glyph\":null,\"view\":{\"id\":\"f4ddf07c-a8eb-485f-8206-f1fdc3694648\",\"type\":\"CDSView\"}},\"id\":\"b65a911a-8a59-45ba-97a7-18dfbb29dd21\",\"type\":\"GlyphRenderer\"}],\"root_ids\":[\"30c57395-ad53-4f49-9aa8-0c680b5d4f6a\"]},\"title\":\"Bokeh Application\",\"version\":\"0.12.16\"}};\n",
       "  var render_items = [{\"docid\":\"55b19f01-5510-4f03-9ea6-9ca6c2fd30cc\",\"elementid\":\"279e6975-244b-4d80-b5a0-98fed3c96386\",\"modelid\":\"30c57395-ad53-4f49-9aa8-0c680b5d4f6a\"}];\n",
       "  root.Bokeh.embed.embed_items_notebook(docs_json, render_items);\n",
       "\n",
       "  }\n",
       "  if (root.Bokeh !== undefined) {\n",
       "    embed_document(root);\n",
       "  } else {\n",
       "    var attempts = 0;\n",
       "    var timer = setInterval(function(root) {\n",
       "      if (root.Bokeh !== undefined) {\n",
       "        embed_document(root);\n",
       "        clearInterval(timer);\n",
       "      }\n",
       "      attempts++;\n",
       "      if (attempts > 100) {\n",
       "        console.log(\"Bokeh: ERROR: Unable to run BokehJS code because BokehJS library is missing\")\n",
       "        clearInterval(timer);\n",
       "      }\n",
       "    }, 10, root)\n",
       "  }\n",
       "})(window);"
      ],
      "application/vnd.bokehjs_exec.v0+json": ""
     },
     "metadata": {
      "application/vnd.bokehjs_exec.v0+json": {
       "id": "30c57395-ad53-4f49-9aa8-0c680b5d4f6a"
      }
     },
     "output_type": "display_data"
    },
    {
     "data": {
      "text/markdown": [
       "*FIGURE.* Cooling rates. g=1"
      ],
      "text/plain": [
       "<IPython.core.display.Markdown object>"
      ]
     },
     "metadata": {},
     "output_type": "display_data"
    },
    {
     "data": {
      "text/html": [
       "\n",
       "<div class=\"bk-root\">\n",
       "    <div class=\"bk-plotdiv\" id=\"9ee4268a-9f4c-4d91-af3d-b02257b073b7\"></div>\n",
       "</div>"
      ]
     },
     "metadata": {},
     "output_type": "display_data"
    },
    {
     "data": {
      "application/javascript": [
       "(function(root) {\n",
       "  function embed_document(root) {\n",
       "    \n",
       "  var docs_json = {\"30f08022-0355-402c-8828-6dafedff89f1\":{\"roots\":{\"references\":[{\"attributes\":{\"callback\":null,\"end\":0.008242029738,\"start\":-0.009483513738},\"id\":\"02773b4a-93c8-40f0-ba0a-5fe18371b65f\",\"type\":\"Range1d\"},{\"attributes\":{\"callback\":null,\"data\":{\"x\":{\"__ndarray__\":\"SJD7gFyJT79qq3IhIoZPv6Gh/PnSQE+/JBqB56LkTr+nkeGoNXJOv1t9gALGDU6/6SSSbU6kTb/iBCTP0zRNvxMeIDa0vky/skzO5CJBTL+vQhcZorpLvzT9SsdPKUu/Y59K5BmKSr/INI3EyK1JvzI0vsWLXEa/BW+H2ysDO7/DVc/d6XoRPyyyEyJEYEo/teIB/7mDXz8QGznGpnltPwt3qpxv7Xg/vvykk9JXgz+aAo8r0h2IP0ITaH24Tok//+uItYt4iT/vcDZ7ct2IP63CV1Xed4g/dhYyYXhIiD+ikUQ5FcyHP+vL+BVwcYY/B2cFAZjEgz/6M/u9xo5/P0Basl/9PHY/94UsW/+4aj9aB4VKEq83P+JUUsR1zme/YENCJNuqdL8ATj4p0n51v264Ecv0b3G/2UL5i6x/b78ceNAMpHttvy2R4E2E+2u/DdQGgFqnar9NVXdvQGBpv0QqhXMfFmi/Hwe1CTbBZr+CuWqaj11lvzAoMLVO6WO/kFTVPrNhYr8dlKDelMJgvyXFGyfyFV6/FChuzYBwWr8eApu4e45Wv607EdnLY1K/KwHgYmu+S78r/Ts12dhBv+OOV4NFYSu/4r6WNdpVJj/Q7xZoOcBDP5VWWH1p4lE/XDwg7oFNWj8LbEHzIbZgP2iJrduCV2I/TaAW8COYYT/3lBL99ytfP/Iw7ncBHlw/g+aEY+6HXD9NroFsG39gP1WoGQpLQGQ/oxIjd9T5aD/nrVgJP3RuPzAWwZiYYnI/6dPB8akZdj+z2ZB896B6PxlD/9wFPoA/\",\"dtype\":\"float64\",\"shape\":[75]},\"y\":{\"__ndarray__\":\"GhExyth1ND/Sv8nbtpRIP2vylNV0PVE/aTum7souWD/At0SJ8fVgPw3Iuahxymc/MSNhhJWvcD/bTfBN02d3P2zb5nxnaoA/CD5h5MAGhz8NmeH1TyaQP+zrCsc9p5Y/LbKd76fGnz/bLW5ISEmmPww9YvTcQq8/JV2OstnstT8Er5Y7M8G+P0c+r3jqkcU/5h99k6ZBzj88bCIzFzjVP4enV8oyxN0//yH99nXg5D8qOpLLf0jtP5kqGJXUifQ/c9cS8kHP/D+/DpwzojQEQIEmwoanVwxA4lgXt9HgE0BSSZ2AJuIbQAMJih9jjiNA5q4l5INuK0AwTKYKRj0zQNv5fmq8/DpAaCJseHrtQkB/+zpwzoxKQM3MzMzMeFJAZmZmZmZqWEAAAAAAAFxeQM3MzMzMJmJAmpmZmZkfZUBmZmZmZhhoQDMzMzMzEWtAAAAAAAAKbkBmZmZmZoFwQM3MzMzM/XFAMzMzMzN6c0CamZmZmfZ0QAAAAAAAc3ZAZmZmZmbvd0DNzMzMzGt5QDMzMzMz6HpAmpmZmZlkfEAAAAAAAOF9QGZmZmZmXX9AZmZmZuZsgECamZmZGSuBQM3MzMxM6YFAAAAAAICngkAzMzMzs2WDQGZmZmbmI4RAmpmZmRnihEDNzMzMTKCFQAAAAACAXoZAMzMzM7Mch0BmZmZm5tqHQJqZmZkZmYhAzczMzExXiUAAAAAAgBWKQDMzMzOz04pAZmZmZuaRi0CamZmZGVCMQM3MzMxMDo1AAAAAAIDMjUAzMzMzs4qOQGZmZmbmSI9A\",\"dtype\":\"float64\",\"shape\":[75]}},\"selected\":{\"id\":\"1668c25b-0ad8-4e35-8f2a-decfeea7bd59\",\"type\":\"Selection\"},\"selection_policy\":{\"id\":\"7b1463b7-3702-4619-b5a4-983ce2e90295\",\"type\":\"UnionRenderers\"}},\"id\":\"87f560a8-30fd-420b-9c5d-f11eea719263\",\"type\":\"ColumnDataSource\"},{\"attributes\":{},\"id\":\"e55d28ab-73f8-4767-92f4-69bf4503ab0f\",\"type\":\"LinearScale\"},{\"attributes\":{\"line_color\":\"#4daf4a\",\"line_width\":1.5,\"x\":{\"field\":\"x\"},\"y\":{\"field\":\"y\"}},\"id\":\"1ba9d356-a3e6-4d9b-b0fb-9a570eeb758f\",\"type\":\"Line\"},{\"attributes\":{\"axis_label\":\"cooling rate [K/day]\",\"formatter\":{\"id\":\"0f46cfbf-b502-404a-ab03-3a1d0ed5f8b4\",\"type\":\"BasicTickFormatter\"},\"plot\":{\"id\":\"5c467266-28c7-4c39-8256-37b75ac1aad1\",\"subtype\":\"Figure\",\"type\":\"Plot\"},\"ticker\":{\"id\":\"c7a9ce45-eb83-4a59-b15c-579b09d26bfd\",\"type\":\"BasicTicker\"}},\"id\":\"36eb0f71-38e7-4ca0-9444-5f572ef7a099\",\"type\":\"LinearAxis\"},{\"attributes\":{},\"id\":\"94f99fbc-88ff-43cf-b69a-68384493c6ac\",\"type\":\"UnionRenderers\"},{\"attributes\":{\"line_alpha\":0.1,\"line_color\":\"#1f77b4\",\"line_width\":1.5,\"x\":{\"field\":\"x\"},\"y\":{\"field\":\"y\"}},\"id\":\"51d771d2-4d66-4ca2-856a-e6478afc29a0\",\"type\":\"Line\"},{\"attributes\":{\"callback\":null,\"data\":{\"x\":{\"__ndarray__\":\"+dsLqiMnEj/dGJAOTHUTPxMTf982JhY/6WDYSTb8GD8/gblBTvAbP89SBRhBBR8/sI85anofIT/X2HGXqdEiP7sVNAK8nCQ/YYZ4sOqFJj+eZEklQJQoPyjB7fhp0So/gdxQeFpMLT+o5WCSVFcwP+Gulcp/MzY/SP60lihQQj85ryBlXzJOP7IF9U+myFc/ilwJSC82Yj9HXAuxPWVrPyiZ+Sb2XXQ/tXn3GlY+fT827UrZTsWBP+W+LYV0soI/yXjiIgjqgj9p9Ld8XIaCP0w4HCj8CoI/MK7Yag3ogT8gwkSvAt2BP1AnRj6CroE//mIkJqkGgT/fK6Az1cp+PwkN9Vn0vng/cgAjhiJ/bj8qSyqxCrEnvxM8td7emnS/gxyDcjxWgb89ZxRV+xCDv68cTfEZiYG/nKjLgLhNgL8B1AZ/NYJ+vzfZXVw+pHy/AyvTpB7mer87tXKwsEB5v8S+XAS4q3e/QvymZekgdr9PLDjHbpt0v7JPzx1uF3O/nKDTkI2Qcb9txa+1xgJwv0yB8t5k2Wy/KNp2DcOWab9zRV+BbDlmv2pQ8KhDu2K/Fx1XRzgrXr9kf5j9rIRWv6r9pb3G5ky/ZtOJse2dN7+wnHjqPyUpP5OWi88CLUk/JSllKcTpVT9+R15jAdZdP+aDUKz7UWE/WGaqFH3tYT/Y3eof3phhP7JUOv9GoGE/zufBvXD3Yj8jvNT/Zt9lP3ixopk2Amo/GKxl6CDzbj+uGRO9MDtyP3JJB0OTP3U/C9H8zaaMeD+3NOvG4zR8Pz0+TATrLYA/\",\"dtype\":\"float64\",\"shape\":[75]},\"y\":{\"__ndarray__\":\"GhExyth1ND/Sv8nbtpRIP2vylNV0PVE/aTum7souWD/At0SJ8fVgPw3Iuahxymc/MSNhhJWvcD/bTfBN02d3P2zb5nxnaoA/CD5h5MAGhz8NmeH1TyaQP+zrCsc9p5Y/LbKd76fGnz/bLW5ISEmmPww9YvTcQq8/JV2OstnstT8Er5Y7M8G+P0c+r3jqkcU/5h99k6ZBzj88bCIzFzjVP4enV8oyxN0//yH99nXg5D8qOpLLf0jtP5kqGJXUifQ/c9cS8kHP/D+/DpwzojQEQIEmwoanVwxA4lgXt9HgE0BSSZ2AJuIbQAMJih9jjiNA5q4l5INuK0AwTKYKRj0zQNv5fmq8/DpAaCJseHrtQkB/+zpwzoxKQM3MzMzMeFJAZmZmZmZqWEAAAAAAAFxeQM3MzMzMJmJAmpmZmZkfZUBmZmZmZhhoQDMzMzMzEWtAAAAAAAAKbkBmZmZmZoFwQM3MzMzM/XFAMzMzMzN6c0CamZmZmfZ0QAAAAAAAc3ZAZmZmZmbvd0DNzMzMzGt5QDMzMzMz6HpAmpmZmZlkfEAAAAAAAOF9QGZmZmZmXX9AZmZmZuZsgECamZmZGSuBQM3MzMxM6YFAAAAAAICngkAzMzMzs2WDQGZmZmbmI4RAmpmZmRnihEDNzMzMTKCFQAAAAACAXoZAMzMzM7Mch0BmZmZm5tqHQJqZmZkZmYhAzczMzExXiUAAAAAAgBWKQDMzMzOz04pAZmZmZuaRi0CamZmZGVCMQM3MzMxMDo1AAAAAAIDMjUAzMzMzs4qOQGZmZmbmSI9A\",\"dtype\":\"float64\",\"shape\":[75]}},\"selected\":{\"id\":\"56a962d4-1f77-4159-bb0f-87a77fcf13f6\",\"type\":\"Selection\"},\"selection_policy\":{\"id\":\"78efac4c-e117-4e20-bb9b-66010047e250\",\"type\":\"UnionRenderers\"}},\"id\":\"5b06151f-cb38-481a-a9b9-20329e8d6273\",\"type\":\"ColumnDataSource\"},{\"attributes\":{\"data_source\":{\"id\":\"8c60745c-9559-4174-a680-34857411b336\",\"type\":\"ColumnDataSource\"},\"glyph\":{\"id\":\"1ba9d356-a3e6-4d9b-b0fb-9a570eeb758f\",\"type\":\"Line\"},\"hover_glyph\":null,\"muted_glyph\":null,\"nonselection_glyph\":{\"id\":\"51d771d2-4d66-4ca2-856a-e6478afc29a0\",\"type\":\"Line\"},\"selection_glyph\":null,\"view\":{\"id\":\"600e9927-b10f-40cc-a9a5-827dc0426ed3\",\"type\":\"CDSView\"}},\"id\":\"e1bf58b7-7802-4d3e-b9ab-2833306c2f59\",\"type\":\"GlyphRenderer\"},{\"attributes\":{\"callback\":null,\"end\":0.012654420878999999,\"start\":-0.009527200779000001},\"id\":\"5c4b4991-705b-4746-9838-f9f813acdaf7\",\"type\":\"Range1d\"},{\"attributes\":{},\"id\":\"4427fb78-6047-42e1-96df-621a1a5ffad0\",\"type\":\"Selection\"},{\"attributes\":{\"data_source\":{\"id\":\"96bf050c-4c31-4b7f-b665-4c624905850a\",\"type\":\"ColumnDataSource\"},\"glyph\":{\"id\":\"cde7aa37-9579-478d-85b1-8eb1bdf38e9e\",\"type\":\"Circle\"},\"hover_glyph\":null,\"muted_glyph\":null,\"nonselection_glyph\":{\"id\":\"2e18f619-7290-4996-9f0f-cd2e6d1c471d\",\"type\":\"Circle\"},\"selection_glyph\":null,\"view\":{\"id\":\"098d3d0c-0475-4795-ac3c-37b114498c01\",\"type\":\"CDSView\"}},\"id\":\"fd0d868b-3158-43ed-8e0c-1f67ad11283b\",\"type\":\"GlyphRenderer\"},{\"attributes\":{\"items\":[{\"id\":\"b4346a82-114f-4f64-9d94-4c65386e569e\",\"type\":\"LegendItem\"},{\"id\":\"07675b9c-e07d-4fe9-b810-c9b259fee135\",\"type\":\"LegendItem\"},{\"id\":\"42c1182a-9bdf-41b2-a774-b3ad23886515\",\"type\":\"LegendItem\"}],\"label_text_font_size\":{\"value\":\"8pt\"},\"location\":\"top_center\",\"orientation\":\"horizontal\",\"plot\":{\"id\":\"5ca828ff-5e7f-4100-a4c0-5b092411d880\",\"subtype\":\"Figure\",\"type\":\"Plot\"}},\"id\":\"acc9199c-859b-43a1-aef2-45e73863eeec\",\"type\":\"Legend\"},{\"attributes\":{},\"id\":\"c7a9ce45-eb83-4a59-b15c-579b09d26bfd\",\"type\":\"BasicTicker\"},{\"attributes\":{\"line_alpha\":0.6,\"line_color\":\"#984ea3\",\"line_width\":3,\"x\":{\"field\":\"x\"},\"y\":{\"field\":\"y\"}},\"id\":\"72609518-32ef-43f0-99e4-a3a593f62889\",\"type\":\"Line\"},{\"attributes\":{},\"id\":\"0321f9d0-5528-4f55-af4e-8922fb66c39e\",\"type\":\"Selection\"},{\"attributes\":{\"source\":{\"id\":\"96bf050c-4c31-4b7f-b665-4c624905850a\",\"type\":\"ColumnDataSource\"}},\"id\":\"098d3d0c-0475-4795-ac3c-37b114498c01\",\"type\":\"CDSView\"},{\"attributes\":{\"fill_alpha\":{\"value\":0.1},\"fill_color\":{\"value\":\"#1f77b4\"},\"line_alpha\":{\"value\":0.1},\"line_color\":{\"value\":\"#1f77b4\"},\"x\":{\"field\":\"x\"},\"y\":{\"field\":\"y\"}},\"id\":\"2e18f619-7290-4996-9f0f-cd2e6d1c471d\",\"type\":\"Circle\"},{\"attributes\":{\"active_drag\":\"auto\",\"active_inspect\":\"auto\",\"active_scroll\":\"auto\",\"active_tap\":\"auto\",\"tools\":[{\"id\":\"ee0605c9-23c9-4f92-804c-00f4d5f54607\",\"type\":\"PanTool\"},{\"id\":\"8b261e6e-9b2c-4bef-8701-e4a588a46ca1\",\"type\":\"WheelZoomTool\"},{\"id\":\"edb36575-00ac-4df5-8e91-6037ff15ed98\",\"type\":\"BoxZoomTool\"},{\"id\":\"e0c3dd6a-7246-4295-99f6-d2eb1270518e\",\"type\":\"SaveTool\"},{\"id\":\"3c7d8952-6ec9-4846-aad6-78ada6aa9f45\",\"type\":\"ResetTool\"},{\"id\":\"7306f702-34b1-4ef7-8e1d-fa4bd4c2a072\",\"type\":\"HelpTool\"}]},\"id\":\"62f595b8-779e-40e5-8ffc-ebb87bd83958\",\"type\":\"Toolbar\"},{\"attributes\":{\"data_source\":{\"id\":\"5b06151f-cb38-481a-a9b9-20329e8d6273\",\"type\":\"ColumnDataSource\"},\"glyph\":{\"id\":\"bb52a468-61db-44ad-8804-b7815c29cd35\",\"type\":\"Square\"},\"hover_glyph\":null,\"muted_glyph\":null,\"nonselection_glyph\":{\"id\":\"d17c58c0-b4a8-4685-a69b-87a9f57a27d9\",\"type\":\"Square\"},\"selection_glyph\":null,\"view\":{\"id\":\"bda4aec4-65c8-4117-9386-28065fcc5eea\",\"type\":\"CDSView\"}},\"id\":\"052dcdad-c988-4413-bc59-19e71c1fa4f1\",\"type\":\"GlyphRenderer\"},{\"attributes\":{},\"id\":\"45042445-bcd5-4c9c-9636-912d8dbd5082\",\"type\":\"LinearScale\"},{\"attributes\":{\"source\":{\"id\":\"5b06151f-cb38-481a-a9b9-20329e8d6273\",\"type\":\"ColumnDataSource\"}},\"id\":\"bda4aec4-65c8-4117-9386-28065fcc5eea\",\"type\":\"CDSView\"},{\"attributes\":{\"dimension\":1,\"plot\":{\"id\":\"5ca828ff-5e7f-4100-a4c0-5b092411d880\",\"subtype\":\"Figure\",\"type\":\"Plot\"},\"ticker\":{\"id\":\"56047194-f0f0-4bed-b4bc-fa07b17a86bf\",\"type\":\"BasicTicker\"}},\"id\":\"1baff3db-cf3f-495f-aad2-5a2cdacf74b0\",\"type\":\"Grid\"},{\"attributes\":{\"fill_alpha\":{\"value\":0.7},\"fill_color\":{\"value\":\"#4daf4a\"},\"line_alpha\":{\"value\":0.7},\"line_color\":{\"value\":\"#4daf4a\"},\"x\":{\"field\":\"x\"},\"y\":{\"field\":\"y\"}},\"id\":\"2acea0bd-31b7-4ebe-9796-9813b773fac8\",\"type\":\"Circle\"},{\"attributes\":{\"axis_label\":\"pressure [mb]\",\"formatter\":{\"id\":\"a2efa936-13ae-4f17-a5b2-f9afc489f7d0\",\"type\":\"BasicTickFormatter\"},\"plot\":{\"id\":\"5ca828ff-5e7f-4100-a4c0-5b092411d880\",\"subtype\":\"Figure\",\"type\":\"Plot\"},\"ticker\":{\"id\":\"56047194-f0f0-4bed-b4bc-fa07b17a86bf\",\"type\":\"BasicTicker\"}},\"id\":\"df37ab07-b572-44de-81ca-2dc8fdde7544\",\"type\":\"LinearAxis\"},{\"attributes\":{},\"id\":\"ae8093ac-33a2-4712-984d-16b3ffb07ce0\",\"type\":\"LogScale\"},{\"attributes\":{},\"id\":\"56047194-f0f0-4bed-b4bc-fa07b17a86bf\",\"type\":\"BasicTicker\"},{\"attributes\":{\"items\":[{\"id\":\"7d1f6896-bb39-4764-8649-0a1cbb07b592\",\"type\":\"LegendItem\"},{\"id\":\"486a5ae4-23ce-47ee-a299-67def38efdac\",\"type\":\"LegendItem\"},{\"id\":\"efa08e8c-d8ae-4631-9a2e-bc69b0b773aa\",\"type\":\"LegendItem\"}],\"label_text_font_size\":{\"value\":\"8pt\"},\"location\":\"top_center\",\"orientation\":\"horizontal\",\"plot\":{\"id\":\"5c467266-28c7-4c39-8256-37b75ac1aad1\",\"subtype\":\"Figure\",\"type\":\"Plot\"}},\"id\":\"43de0d51-0391-4417-b74d-ea9a7ea2cf09\",\"type\":\"Legend\"},{\"attributes\":{\"callback\":null,\"data\":{\"x\":{\"__ndarray__\":\"SJD7gFyJT79qq3IhIoZPv6Gh/PnSQE+/JBqB56LkTr+nkeGoNXJOv1t9gALGDU6/6SSSbU6kTb/iBCTP0zRNvxMeIDa0vky/skzO5CJBTL+vQhcZorpLvzT9SsdPKUu/Y59K5BmKSr/INI3EyK1JvzI0vsWLXEa/BW+H2ysDO7/DVc/d6XoRPyyyEyJEYEo/teIB/7mDXz8QGznGpnltPwt3qpxv7Xg/vvykk9JXgz+aAo8r0h2IP0ITaH24Tok//+uItYt4iT/vcDZ7ct2IP63CV1Xed4g/dhYyYXhIiD+ikUQ5FcyHP+vL+BVwcYY/B2cFAZjEgz/6M/u9xo5/P0Basl/9PHY/94UsW/+4aj9aB4VKEq83P+JUUsR1zme/YENCJNuqdL8ATj4p0n51v264Ecv0b3G/2UL5i6x/b78ceNAMpHttvy2R4E2E+2u/DdQGgFqnar9NVXdvQGBpv0QqhXMfFmi/Hwe1CTbBZr+CuWqaj11lvzAoMLVO6WO/kFTVPrNhYr8dlKDelMJgvyXFGyfyFV6/FChuzYBwWr8eApu4e45Wv607EdnLY1K/KwHgYmu+S78r/Ts12dhBv+OOV4NFYSu/4r6WNdpVJj/Q7xZoOcBDP5VWWH1p4lE/XDwg7oFNWj8LbEHzIbZgP2iJrduCV2I/TaAW8COYYT/3lBL99ytfP/Iw7ncBHlw/g+aEY+6HXD9NroFsG39gP1WoGQpLQGQ/oxIjd9T5aD/nrVgJP3RuPzAWwZiYYnI/6dPB8akZdj+z2ZB896B6PxlD/9wFPoA/\",\"dtype\":\"float64\",\"shape\":[75]},\"y\":{\"__ndarray__\":\"GhExyth1ND/Sv8nbtpRIP2vylNV0PVE/aTum7souWD/At0SJ8fVgPw3Iuahxymc/MSNhhJWvcD/bTfBN02d3P2zb5nxnaoA/CD5h5MAGhz8NmeH1TyaQP+zrCsc9p5Y/LbKd76fGnz/bLW5ISEmmPww9YvTcQq8/JV2OstnstT8Er5Y7M8G+P0c+r3jqkcU/5h99k6ZBzj88bCIzFzjVP4enV8oyxN0//yH99nXg5D8qOpLLf0jtP5kqGJXUifQ/c9cS8kHP/D+/DpwzojQEQIEmwoanVwxA4lgXt9HgE0BSSZ2AJuIbQAMJih9jjiNA5q4l5INuK0AwTKYKRj0zQNv5fmq8/DpAaCJseHrtQkB/+zpwzoxKQM3MzMzMeFJAZmZmZmZqWEAAAAAAAFxeQM3MzMzMJmJAmpmZmZkfZUBmZmZmZhhoQDMzMzMzEWtAAAAAAAAKbkBmZmZmZoFwQM3MzMzM/XFAMzMzMzN6c0CamZmZmfZ0QAAAAAAAc3ZAZmZmZmbvd0DNzMzMzGt5QDMzMzMz6HpAmpmZmZlkfEAAAAAAAOF9QGZmZmZmXX9AZmZmZuZsgECamZmZGSuBQM3MzMxM6YFAAAAAAICngkAzMzMzs2WDQGZmZmbmI4RAmpmZmRnihEDNzMzMTKCFQAAAAACAXoZAMzMzM7Mch0BmZmZm5tqHQJqZmZkZmYhAzczMzExXiUAAAAAAgBWKQDMzMzOz04pAZmZmZuaRi0CamZmZGVCMQM3MzMxMDo1AAAAAAIDMjUAzMzMzs4qOQGZmZmbmSI9A\",\"dtype\":\"float64\",\"shape\":[75]}},\"selected\":{\"id\":\"c225f6d6-6bf5-4e6a-be21-08ee85b953ad\",\"type\":\"Selection\"},\"selection_policy\":{\"id\":\"6209c9ba-d542-4139-aa27-d58c94affea3\",\"type\":\"UnionRenderers\"}},\"id\":\"29e31e60-7fa5-4ef6-ba61-770a77101de6\",\"type\":\"ColumnDataSource\"},{\"attributes\":{\"fill_alpha\":{\"value\":0.1},\"fill_color\":{\"value\":\"#1f77b4\"},\"line_alpha\":{\"value\":0.1},\"line_color\":{\"value\":\"#1f77b4\"},\"x\":{\"field\":\"x\"},\"y\":{\"field\":\"y\"}},\"id\":\"d17c58c0-b4a8-4685-a69b-87a9f57a27d9\",\"type\":\"Square\"},{\"attributes\":{\"fill_alpha\":{\"value\":0.7},\"fill_color\":{\"value\":\"#984ea3\"},\"line_alpha\":{\"value\":0.7},\"line_color\":{\"value\":\"#984ea3\"},\"x\":{\"field\":\"x\"},\"y\":{\"field\":\"y\"}},\"id\":\"bb52a468-61db-44ad-8804-b7815c29cd35\",\"type\":\"Square\"},{\"attributes\":{\"axis_label\":\"cooling rate [K/day]\",\"formatter\":{\"id\":\"33142421-70a8-454e-b1b0-0fc93b2ea6a7\",\"type\":\"BasicTickFormatter\"},\"plot\":{\"id\":\"5ca828ff-5e7f-4100-a4c0-5b092411d880\",\"subtype\":\"Figure\",\"type\":\"Plot\"},\"ticker\":{\"id\":\"cd96a781-b46f-47e9-82bb-eae3ba60e7d6\",\"type\":\"BasicTicker\"}},\"id\":\"b544da49-1af5-45ea-898c-18fefd1bcc3d\",\"type\":\"LinearAxis\"},{\"attributes\":{\"callback\":null,\"data\":{\"x\":{\"__ndarray__\":\"SJD7gFyJT79qq3IhIoZPv6Gh/PnSQE+/JBqB56LkTr+nkeGoNXJOv1t9gALGDU6/6SSSbU6kTb/iBCTP0zRNvxMeIDa0vky/skzO5CJBTL+vQhcZorpLvzT9SsdPKUu/Y59K5BmKSr/INI3EyK1JvzI0vsWLXEa/BW+H2ysDO7/DVc/d6XoRPyyyEyJEYEo/teIB/7mDXz8QGznGpnltPwt3qpxv7Xg/vvykk9JXgz+aAo8r0h2IP0ITaH24Tok//+uItYt4iT/vcDZ7ct2IP63CV1Xed4g/dhYyYXhIiD+ikUQ5FcyHP+vL+BVwcYY/B2cFAZjEgz/6M/u9xo5/P0Basl/9PHY/94UsW/+4aj9aB4VKEq83P+JUUsR1zme/YENCJNuqdL8ATj4p0n51v264Ecv0b3G/2UL5i6x/b78ceNAMpHttvy2R4E2E+2u/DdQGgFqnar9NVXdvQGBpv0QqhXMfFmi/Hwe1CTbBZr+CuWqaj11lvzAoMLVO6WO/kFTVPrNhYr8dlKDelMJgvyXFGyfyFV6/FChuzYBwWr8eApu4e45Wv607EdnLY1K/KwHgYmu+S78r/Ts12dhBv+OOV4NFYSu/4r6WNdpVJj/Q7xZoOcBDP5VWWH1p4lE/XDwg7oFNWj8LbEHzIbZgP2iJrduCV2I/TaAW8COYYT/3lBL99ytfP/Iw7ncBHlw/g+aEY+6HXD9NroFsG39gP1WoGQpLQGQ/oxIjd9T5aD/nrVgJP3RuPzAWwZiYYnI/6dPB8akZdj+z2ZB896B6PxlD/9wFPoA/\",\"dtype\":\"float64\",\"shape\":[75]},\"y\":{\"__ndarray__\":\"GhExyth1ND/Sv8nbtpRIP2vylNV0PVE/aTum7souWD/At0SJ8fVgPw3Iuahxymc/MSNhhJWvcD/bTfBN02d3P2zb5nxnaoA/CD5h5MAGhz8NmeH1TyaQP+zrCsc9p5Y/LbKd76fGnz/bLW5ISEmmPww9YvTcQq8/JV2OstnstT8Er5Y7M8G+P0c+r3jqkcU/5h99k6ZBzj88bCIzFzjVP4enV8oyxN0//yH99nXg5D8qOpLLf0jtP5kqGJXUifQ/c9cS8kHP/D+/DpwzojQEQIEmwoanVwxA4lgXt9HgE0BSSZ2AJuIbQAMJih9jjiNA5q4l5INuK0AwTKYKRj0zQNv5fmq8/DpAaCJseHrtQkB/+zpwzoxKQM3MzMzMeFJAZmZmZmZqWEAAAAAAAFxeQM3MzMzMJmJAmpmZmZkfZUBmZmZmZhhoQDMzMzMzEWtAAAAAAAAKbkBmZmZmZoFwQM3MzMzM/XFAMzMzMzN6c0CamZmZmfZ0QAAAAAAAc3ZAZmZmZmbvd0DNzMzMzGt5QDMzMzMz6HpAmpmZmZlkfEAAAAAAAOF9QGZmZmZmXX9AZmZmZuZsgECamZmZGSuBQM3MzMxM6YFAAAAAAICngkAzMzMzs2WDQGZmZmbmI4RAmpmZmRnihEDNzMzMTKCFQAAAAACAXoZAMzMzM7Mch0BmZmZm5tqHQJqZmZkZmYhAzczMzExXiUAAAAAAgBWKQDMzMzOz04pAZmZmZuaRi0CamZmZGVCMQM3MzMxMDo1AAAAAAIDMjUAzMzMzs4qOQGZmZmbmSI9A\",\"dtype\":\"float64\",\"shape\":[75]}},\"selected\":{\"id\":\"0ebaf7a6-66a2-4c17-80e4-1a2181735ba8\",\"type\":\"Selection\"},\"selection_policy\":{\"id\":\"e2f6f5d5-9f6e-40db-bc04-29386485f6ce\",\"type\":\"UnionRenderers\"}},\"id\":\"8c60745c-9559-4174-a680-34857411b336\",\"type\":\"ColumnDataSource\"},{\"attributes\":{\"data_source\":{\"id\":\"20a3fee4-1127-4eaa-b3d9-2c66b8d3ea5f\",\"type\":\"ColumnDataSource\"},\"glyph\":{\"id\":\"72609518-32ef-43f0-99e4-a3a593f62889\",\"type\":\"Line\"},\"hover_glyph\":null,\"muted_glyph\":null,\"nonselection_glyph\":{\"id\":\"a4d8a5c9-bce2-44d3-8f3d-d040aceb04db\",\"type\":\"Line\"},\"selection_glyph\":null,\"view\":{\"id\":\"17ea3b3e-98c2-4984-9f61-f5b8eccd695d\",\"type\":\"CDSView\"}},\"id\":\"c6f0ce29-4560-43ac-89bb-d1c0640a862a\",\"type\":\"GlyphRenderer\"},{\"attributes\":{\"callback\":null,\"data\":{\"x\":{\"__ndarray__\":\"vZTyPWY/FT++LYnMQV4WPwm4mL1Iqxg/HpqxBh8YGz9ws+nh854dP6cU9mIrISA/ovvAgPKCIT8dSlMhhvciPwxv6mwwgiQ/EUP/dbwnJj8H1PkEnO4nP61jHfeg3yk/pT9ZTEMILD+IufNncPkuP/g4JztcgDQ/wbHxEQNiQD/2wS8JrHNKP45XoB5ikVQ/dTjjgIk7Xz9mLM7kGFpnP7oSXW3HSHE/O+NZCzW/eD/d+rS7XAx+P1m3uWmeoH8/fA0wWJIBgD/HrxionmJ/Px1MDezt4X4/LyzN39zVfj9giJ5RCBZ/P95r6jdxRH8/+U4joA/Ffj+Ids/qNsJ8P75Lm0W+P3g/yqKtHDMvcD97hrcWeGc0P6vdcAz6c3K/hfNcZwudgL8mWrKm0siCv2843KECm4G/tnpbpOF4gL/VmVfLn+N+vwMAgTf2Bn2/mHS8S6dKe784/eQmrap5v2q/9grSHni/UvMt4cSfdr+HZvXKUCd1v6G9JflEsHO/+YftahI1cr+KKLYaw7Bwvxufxo8KQm6/CZGWBhoFa79HUu4YAKVnv5e9a19nG2S/PIsXMOVhYL9cZSgRGuZYv3wgCkr3kVC/rEkAeNr4Pr/EV3iLDhEZP+h/lP91a0Y/JyzEtgulVD+E9+Cr2adcP3xzngJ32GA/G4uXP0exYT8OhQFaIq9hP95ogaZ3C2I/Mh831BSuYz+b1/YNQ9hmP85e5ENjPWs/m+YrrfA6cD/tNwfOqCBzP1pSVtkcQ3Y/sGKt7IaeeT+02Lt5iTV9PwXSpisWhoA/\",\"dtype\":\"float64\",\"shape\":[75]},\"y\":{\"__ndarray__\":\"GhExyth1ND/Sv8nbtpRIP2vylNV0PVE/aTum7souWD/At0SJ8fVgPw3Iuahxymc/MSNhhJWvcD/bTfBN02d3P2zb5nxnaoA/CD5h5MAGhz8NmeH1TyaQP+zrCsc9p5Y/LbKd76fGnz/bLW5ISEmmPww9YvTcQq8/JV2OstnstT8Er5Y7M8G+P0c+r3jqkcU/5h99k6ZBzj88bCIzFzjVP4enV8oyxN0//yH99nXg5D8qOpLLf0jtP5kqGJXUifQ/c9cS8kHP/D+/DpwzojQEQIEmwoanVwxA4lgXt9HgE0BSSZ2AJuIbQAMJih9jjiNA5q4l5INuK0AwTKYKRj0zQNv5fmq8/DpAaCJseHrtQkB/+zpwzoxKQM3MzMzMeFJAZmZmZmZqWEAAAAAAAFxeQM3MzMzMJmJAmpmZmZkfZUBmZmZmZhhoQDMzMzMzEWtAAAAAAAAKbkBmZmZmZoFwQM3MzMzM/XFAMzMzMzN6c0CamZmZmfZ0QAAAAAAAc3ZAZmZmZmbvd0DNzMzMzGt5QDMzMzMz6HpAmpmZmZlkfEAAAAAAAOF9QGZmZmZmXX9AZmZmZuZsgECamZmZGSuBQM3MzMxM6YFAAAAAAICngkAzMzMzs2WDQGZmZmbmI4RAmpmZmRnihEDNzMzMTKCFQAAAAACAXoZAMzMzM7Mch0BmZmZm5tqHQJqZmZkZmYhAzczMzExXiUAAAAAAgBWKQDMzMzOz04pAZmZmZuaRi0CamZmZGVCMQM3MzMxMDo1AAAAAAIDMjUAzMzMzs4qOQGZmZmbmSI9A\",\"dtype\":\"float64\",\"shape\":[75]}},\"selected\":{\"id\":\"813f45e3-11ed-4975-a181-498e7495423c\",\"type\":\"Selection\"},\"selection_policy\":{\"id\":\"ea9f1905-7ddc-4f0e-90fa-3d6b98c09ca5\",\"type\":\"UnionRenderers\"}},\"id\":\"4b754915-52e7-45c5-8610-0d1069d19e9d\",\"type\":\"ColumnDataSource\"},{\"attributes\":{\"source\":{\"id\":\"20a3fee4-1127-4eaa-b3d9-2c66b8d3ea5f\",\"type\":\"ColumnDataSource\"}},\"id\":\"17ea3b3e-98c2-4984-9f61-f5b8eccd695d\",\"type\":\"CDSView\"},{\"attributes\":{\"plot\":{\"id\":\"5c467266-28c7-4c39-8256-37b75ac1aad1\",\"subtype\":\"Figure\",\"type\":\"Plot\"},\"ticker\":{\"id\":\"c7a9ce45-eb83-4a59-b15c-579b09d26bfd\",\"type\":\"BasicTicker\"}},\"id\":\"5f87a4de-2879-41a1-b40d-c76205d49182\",\"type\":\"Grid\"},{\"attributes\":{},\"id\":\"cd96a781-b46f-47e9-82bb-eae3ba60e7d6\",\"type\":\"BasicTicker\"},{\"attributes\":{\"source\":{\"id\":\"8c60745c-9559-4174-a680-34857411b336\",\"type\":\"ColumnDataSource\"}},\"id\":\"600e9927-b10f-40cc-a9a5-827dc0426ed3\",\"type\":\"CDSView\"},{\"attributes\":{\"callback\":null,\"data\":{\"x\":{\"__ndarray__\":\"+dsLqiMnEj/dGJAOTHUTPxMTf982JhY/6WDYSTb8GD8/gblBTvAbP89SBRhBBR8/sI85anofIT/X2HGXqdEiP7sVNAK8nCQ/YYZ4sOqFJj+eZEklQJQoPyjB7fhp0So/gdxQeFpMLT+o5WCSVFcwP+Gulcp/MzY/SP60lihQQj85ryBlXzJOP7IF9U+myFc/ilwJSC82Yj9HXAuxPWVrPyiZ+Sb2XXQ/tXn3GlY+fT827UrZTsWBP+W+LYV0soI/yXjiIgjqgj9p9Ld8XIaCP0w4HCj8CoI/MK7Yag3ogT8gwkSvAt2BP1AnRj6CroE//mIkJqkGgT/fK6Az1cp+PwkN9Vn0vng/cgAjhiJ/bj8qSyqxCrEnvxM8td7emnS/gxyDcjxWgb89ZxRV+xCDv68cTfEZiYG/nKjLgLhNgL8B1AZ/NYJ+vzfZXVw+pHy/AyvTpB7mer87tXKwsEB5v8S+XAS4q3e/QvymZekgdr9PLDjHbpt0v7JPzx1uF3O/nKDTkI2Qcb9txa+1xgJwv0yB8t5k2Wy/KNp2DcOWab9zRV+BbDlmv2pQ8KhDu2K/Fx1XRzgrXr9kf5j9rIRWv6r9pb3G5ky/ZtOJse2dN7+wnHjqPyUpP5OWi88CLUk/JSllKcTpVT9+R15jAdZdP+aDUKz7UWE/WGaqFH3tYT/Y3eof3phhP7JUOv9GoGE/zufBvXD3Yj8jvNT/Zt9lP3ixopk2Amo/GKxl6CDzbj+uGRO9MDtyP3JJB0OTP3U/C9H8zaaMeD+3NOvG4zR8Pz0+TATrLYA/\",\"dtype\":\"float64\",\"shape\":[75]},\"y\":{\"__ndarray__\":\"GhExyth1ND/Sv8nbtpRIP2vylNV0PVE/aTum7souWD/At0SJ8fVgPw3Iuahxymc/MSNhhJWvcD/bTfBN02d3P2zb5nxnaoA/CD5h5MAGhz8NmeH1TyaQP+zrCsc9p5Y/LbKd76fGnz/bLW5ISEmmPww9YvTcQq8/JV2OstnstT8Er5Y7M8G+P0c+r3jqkcU/5h99k6ZBzj88bCIzFzjVP4enV8oyxN0//yH99nXg5D8qOpLLf0jtP5kqGJXUifQ/c9cS8kHP/D+/DpwzojQEQIEmwoanVwxA4lgXt9HgE0BSSZ2AJuIbQAMJih9jjiNA5q4l5INuK0AwTKYKRj0zQNv5fmq8/DpAaCJseHrtQkB/+zpwzoxKQM3MzMzMeFJAZmZmZmZqWEAAAAAAAFxeQM3MzMzMJmJAmpmZmZkfZUBmZmZmZhhoQDMzMzMzEWtAAAAAAAAKbkBmZmZmZoFwQM3MzMzM/XFAMzMzMzN6c0CamZmZmfZ0QAAAAAAAc3ZAZmZmZmbvd0DNzMzMzGt5QDMzMzMz6HpAmpmZmZlkfEAAAAAAAOF9QGZmZmZmXX9AZmZmZuZsgECamZmZGSuBQM3MzMxM6YFAAAAAAICngkAzMzMzs2WDQGZmZmbmI4RAmpmZmRnihEDNzMzMTKCFQAAAAACAXoZAMzMzM7Mch0BmZmZm5tqHQJqZmZkZmYhAzczMzExXiUAAAAAAgBWKQDMzMzOz04pAZmZmZuaRi0CamZmZGVCMQM3MzMxMDo1AAAAAAIDMjUAzMzMzs4qOQGZmZmbmSI9A\",\"dtype\":\"float64\",\"shape\":[75]}},\"selected\":{\"id\":\"5ee204d8-be3c-4dfa-93a6-cfd90083ff40\",\"type\":\"Selection\"},\"selection_policy\":{\"id\":\"9649d815-2ceb-4fb7-8b76-c7fdccb4ae0a\",\"type\":\"UnionRenderers\"}},\"id\":\"20a3fee4-1127-4eaa-b3d9-2c66b8d3ea5f\",\"type\":\"ColumnDataSource\"},{\"attributes\":{\"data_source\":{\"id\":\"87f560a8-30fd-420b-9c5d-f11eea719263\",\"type\":\"ColumnDataSource\"},\"glyph\":{\"id\":\"2acea0bd-31b7-4ebe-9796-9813b773fac8\",\"type\":\"Circle\"},\"hover_glyph\":null,\"muted_glyph\":null,\"nonselection_glyph\":{\"id\":\"c440c0ee-b760-4e88-9498-91b285e110bb\",\"type\":\"Circle\"},\"selection_glyph\":null,\"view\":{\"id\":\"1d5580f9-3164-46c1-b3ac-bf4b9d2a3ddd\",\"type\":\"CDSView\"}},\"id\":\"d48a535d-ec3e-4602-b647-2e68d9d5ca6b\",\"type\":\"GlyphRenderer\"},{\"attributes\":{\"plot\":{\"id\":\"5ca828ff-5e7f-4100-a4c0-5b092411d880\",\"subtype\":\"Figure\",\"type\":\"Plot\"},\"ticker\":{\"id\":\"cd96a781-b46f-47e9-82bb-eae3ba60e7d6\",\"type\":\"BasicTicker\"}},\"id\":\"dd1ead04-fa81-43f4-800d-c12c95ec8686\",\"type\":\"Grid\"},{\"attributes\":{\"line_alpha\":0.1,\"line_color\":\"#1f77b4\",\"line_width\":3,\"x\":{\"field\":\"x\"},\"y\":{\"field\":\"y\"}},\"id\":\"a4d8a5c9-bce2-44d3-8f3d-d040aceb04db\",\"type\":\"Line\"},{\"attributes\":{\"fill_alpha\":{\"value\":0.7},\"fill_color\":{\"value\":\"#4daf4a\"},\"line_alpha\":{\"value\":0.7},\"line_color\":{\"value\":\"#4daf4a\"},\"x\":{\"field\":\"x\"},\"y\":{\"field\":\"y\"}},\"id\":\"cde7aa37-9579-478d-85b1-8eb1bdf38e9e\",\"type\":\"Circle\"},{\"attributes\":{\"source\":{\"id\":\"87f560a8-30fd-420b-9c5d-f11eea719263\",\"type\":\"ColumnDataSource\"}},\"id\":\"1d5580f9-3164-46c1-b3ac-bf4b9d2a3ddd\",\"type\":\"CDSView\"},{\"attributes\":{\"label\":{\"value\":\"WGT igg=1\"},\"renderers\":[{\"id\":\"052dcdad-c988-4413-bc59-19e71c1fa4f1\",\"type\":\"GlyphRenderer\"},{\"id\":\"c6f0ce29-4560-43ac-89bb-d1c0640a862a\",\"type\":\"GlyphRenderer\"}]},\"id\":\"486a5ae4-23ce-47ee-a299-67def38efdac\",\"type\":\"LegendItem\"},{\"attributes\":{\"callback\":null,\"end\":0.01,\"start\":1020},\"id\":\"cfe83ab2-9cdd-4308-9914-fb8f1bb389c6\",\"type\":\"Range1d\"},{\"attributes\":{\"line_alpha\":0.6,\"line_color\":\"#984ea3\",\"line_width\":3,\"x\":{\"field\":\"x\"},\"y\":{\"field\":\"y\"}},\"id\":\"a0830061-95d1-4426-904c-abc86347da31\",\"type\":\"Line\"},{\"attributes\":{},\"id\":\"ee152f5c-b474-4bf3-8e0a-a2405a1e4f87\",\"type\":\"Selection\"},{\"attributes\":{\"callback\":null,\"data\":{\"x\":{\"__ndarray__\":\"vZTyPWY/FT++LYnMQV4WPwm4mL1Iqxg/HpqxBh8YGz9ws+nh854dP6cU9mIrISA/ovvAgPKCIT8dSlMhhvciPwxv6mwwgiQ/EUP/dbwnJj8H1PkEnO4nP61jHfeg3yk/pT9ZTEMILD+IufNncPkuP/g4JztcgDQ/wbHxEQNiQD/2wS8JrHNKP45XoB5ikVQ/dTjjgIk7Xz9mLM7kGFpnP7oSXW3HSHE/O+NZCzW/eD/d+rS7XAx+P1m3uWmeoH8/fA0wWJIBgD/HrxionmJ/Px1MDezt4X4/LyzN39zVfj9giJ5RCBZ/P95r6jdxRH8/+U4joA/Ffj+Ids/qNsJ8P75Lm0W+P3g/yqKtHDMvcD97hrcWeGc0P6vdcAz6c3K/hfNcZwudgL8mWrKm0siCv2843KECm4G/tnpbpOF4gL/VmVfLn+N+vwMAgTf2Bn2/mHS8S6dKe784/eQmrap5v2q/9grSHni/UvMt4cSfdr+HZvXKUCd1v6G9JflEsHO/+YftahI1cr+KKLYaw7Bwvxufxo8KQm6/CZGWBhoFa79HUu4YAKVnv5e9a19nG2S/PIsXMOVhYL9cZSgRGuZYv3wgCkr3kVC/rEkAeNr4Pr/EV3iLDhEZP+h/lP91a0Y/JyzEtgulVD+E9+Cr2adcP3xzngJ32GA/G4uXP0exYT8OhQFaIq9hP95ogaZ3C2I/Mh831BSuYz+b1/YNQ9hmP85e5ENjPWs/m+YrrfA6cD/tNwfOqCBzP1pSVtkcQ3Y/sGKt7IaeeT+02Lt5iTV9PwXSpisWhoA/\",\"dtype\":\"float64\",\"shape\":[75]},\"y\":{\"__ndarray__\":\"GhExyth1ND/Sv8nbtpRIP2vylNV0PVE/aTum7souWD/At0SJ8fVgPw3Iuahxymc/MSNhhJWvcD/bTfBN02d3P2zb5nxnaoA/CD5h5MAGhz8NmeH1TyaQP+zrCsc9p5Y/LbKd76fGnz/bLW5ISEmmPww9YvTcQq8/JV2OstnstT8Er5Y7M8G+P0c+r3jqkcU/5h99k6ZBzj88bCIzFzjVP4enV8oyxN0//yH99nXg5D8qOpLLf0jtP5kqGJXUifQ/c9cS8kHP/D+/DpwzojQEQIEmwoanVwxA4lgXt9HgE0BSSZ2AJuIbQAMJih9jjiNA5q4l5INuK0AwTKYKRj0zQNv5fmq8/DpAaCJseHrtQkB/+zpwzoxKQM3MzMzMeFJAZmZmZmZqWEAAAAAAAFxeQM3MzMzMJmJAmpmZmZkfZUBmZmZmZhhoQDMzMzMzEWtAAAAAAAAKbkBmZmZmZoFwQM3MzMzM/XFAMzMzMzN6c0CamZmZmfZ0QAAAAAAAc3ZAZmZmZmbvd0DNzMzMzGt5QDMzMzMz6HpAmpmZmZlkfEAAAAAAAOF9QGZmZmZmXX9AZmZmZuZsgECamZmZGSuBQM3MzMxM6YFAAAAAAICngkAzMzMzs2WDQGZmZmbmI4RAmpmZmRnihEDNzMzMTKCFQAAAAACAXoZAMzMzM7Mch0BmZmZm5tqHQJqZmZkZmYhAzczMzExXiUAAAAAAgBWKQDMzMzOz04pAZmZmZuaRi0CamZmZGVCMQM3MzMxMDo1AAAAAAIDMjUAzMzMzs4qOQGZmZmbmSI9A\",\"dtype\":\"float64\",\"shape\":[75]}},\"selected\":{\"id\":\"ee152f5c-b474-4bf3-8e0a-a2405a1e4f87\",\"type\":\"Selection\"},\"selection_policy\":{\"id\":\"62d05230-399d-4160-b50c-7a03c1feafd8\",\"type\":\"UnionRenderers\"}},\"id\":\"b6903d91-3b94-4246-9210-2446ecd84b86\",\"type\":\"ColumnDataSource\"},{\"attributes\":{\"line_alpha\":0.1,\"line_color\":\"#1f77b4\",\"line_width\":3,\"x\":{\"field\":\"x\"},\"y\":{\"field\":\"y\"}},\"id\":\"1498a873-446e-42a2-87e7-cbcf72eeac19\",\"type\":\"Line\"},{\"attributes\":{\"data_source\":{\"id\":\"bca9a8ce-e7c1-4f5a-aaed-4aca53383dcf\",\"type\":\"ColumnDataSource\"},\"glyph\":{\"id\":\"36d2454e-93cd-45db-ac6f-943ab2041b94\",\"type\":\"Square\"},\"hover_glyph\":null,\"muted_glyph\":null,\"nonselection_glyph\":{\"id\":\"afc973b3-41bf-4649-89e3-11f95c995b09\",\"type\":\"Square\"},\"selection_glyph\":null,\"view\":{\"id\":\"1083d48f-f92d-4038-872b-239504034608\",\"type\":\"CDSView\"}},\"id\":\"f5f6c09f-f8c9-4c0b-ac43-52a42fd5f49c\",\"type\":\"GlyphRenderer\"},{\"attributes\":{\"source\":{\"id\":\"bca9a8ce-e7c1-4f5a-aaed-4aca53383dcf\",\"type\":\"ColumnDataSource\"}},\"id\":\"1083d48f-f92d-4038-872b-239504034608\",\"type\":\"CDSView\"},{\"attributes\":{\"fill_alpha\":{\"value\":0.7},\"fill_color\":{\"value\":\"#984ea3\"},\"line_alpha\":{\"value\":0.7},\"line_color\":{\"value\":\"#984ea3\"},\"x\":{\"field\":\"x\"},\"y\":{\"field\":\"y\"}},\"id\":\"36d2454e-93cd-45db-ac6f-943ab2041b94\",\"type\":\"Square\"},{\"attributes\":{\"callback\":null,\"data\":{\"x\":{\"__ndarray__\":\"+dsLqiMnEj/dGJAOTHUTPxMTf982JhY/6WDYSTb8GD8/gblBTvAbP89SBRhBBR8/sI85anofIT/X2HGXqdEiP7sVNAK8nCQ/YYZ4sOqFJj+eZEklQJQoPyjB7fhp0So/gdxQeFpMLT+o5WCSVFcwP+Gulcp/MzY/SP60lihQQj85ryBlXzJOP7IF9U+myFc/ilwJSC82Yj9HXAuxPWVrPyiZ+Sb2XXQ/tXn3GlY+fT827UrZTsWBP+W+LYV0soI/yXjiIgjqgj9p9Ld8XIaCP0w4HCj8CoI/MK7Yag3ogT8gwkSvAt2BP1AnRj6CroE//mIkJqkGgT/fK6Az1cp+PwkN9Vn0vng/cgAjhiJ/bj8qSyqxCrEnvxM8td7emnS/gxyDcjxWgb89ZxRV+xCDv68cTfEZiYG/nKjLgLhNgL8B1AZ/NYJ+vzfZXVw+pHy/AyvTpB7mer87tXKwsEB5v8S+XAS4q3e/QvymZekgdr9PLDjHbpt0v7JPzx1uF3O/nKDTkI2Qcb9txa+1xgJwv0yB8t5k2Wy/KNp2DcOWab9zRV+BbDlmv2pQ8KhDu2K/Fx1XRzgrXr9kf5j9rIRWv6r9pb3G5ky/ZtOJse2dN7+wnHjqPyUpP5OWi88CLUk/JSllKcTpVT9+R15jAdZdP+aDUKz7UWE/WGaqFH3tYT/Y3eof3phhP7JUOv9GoGE/zufBvXD3Yj8jvNT/Zt9lP3ixopk2Amo/GKxl6CDzbj+uGRO9MDtyP3JJB0OTP3U/C9H8zaaMeD+3NOvG4zR8Pz0+TATrLYA/\",\"dtype\":\"float64\",\"shape\":[75]},\"y\":{\"__ndarray__\":\"GhExyth1ND/Sv8nbtpRIP2vylNV0PVE/aTum7souWD/At0SJ8fVgPw3Iuahxymc/MSNhhJWvcD/bTfBN02d3P2zb5nxnaoA/CD5h5MAGhz8NmeH1TyaQP+zrCsc9p5Y/LbKd76fGnz/bLW5ISEmmPww9YvTcQq8/JV2OstnstT8Er5Y7M8G+P0c+r3jqkcU/5h99k6ZBzj88bCIzFzjVP4enV8oyxN0//yH99nXg5D8qOpLLf0jtP5kqGJXUifQ/c9cS8kHP/D+/DpwzojQEQIEmwoanVwxA4lgXt9HgE0BSSZ2AJuIbQAMJih9jjiNA5q4l5INuK0AwTKYKRj0zQNv5fmq8/DpAaCJseHrtQkB/+zpwzoxKQM3MzMzMeFJAZmZmZmZqWEAAAAAAAFxeQM3MzMzMJmJAmpmZmZkfZUBmZmZmZhhoQDMzMzMzEWtAAAAAAAAKbkBmZmZmZoFwQM3MzMzM/XFAMzMzMzN6c0CamZmZmfZ0QAAAAAAAc3ZAZmZmZmbvd0DNzMzMzGt5QDMzMzMz6HpAmpmZmZlkfEAAAAAAAOF9QGZmZmZmXX9AZmZmZuZsgECamZmZGSuBQM3MzMxM6YFAAAAAAICngkAzMzMzs2WDQGZmZmbmI4RAmpmZmRnihEDNzMzMTKCFQAAAAACAXoZAMzMzM7Mch0BmZmZm5tqHQJqZmZkZmYhAzczMzExXiUAAAAAAgBWKQDMzMzOz04pAZmZmZuaRi0CamZmZGVCMQM3MzMxMDo1AAAAAAIDMjUAzMzMzs4qOQGZmZmbmSI9A\",\"dtype\":\"float64\",\"shape\":[75]}},\"selected\":{\"id\":\"0321f9d0-5528-4f55-af4e-8922fb66c39e\",\"type\":\"Selection\"},\"selection_policy\":{\"id\":\"94f99fbc-88ff-43cf-b69a-68384493c6ac\",\"type\":\"UnionRenderers\"}},\"id\":\"bca9a8ce-e7c1-4f5a-aaed-4aca53383dcf\",\"type\":\"ColumnDataSource\"},{\"attributes\":{\"data_source\":{\"id\":\"b6903d91-3b94-4246-9210-2446ecd84b86\",\"type\":\"ColumnDataSource\"},\"glyph\":{\"id\":\"e7147a85-d313-4f88-8265-391b71b41860\",\"type\":\"Triangle\"},\"hover_glyph\":null,\"muted_glyph\":null,\"nonselection_glyph\":{\"id\":\"2eacf91c-9be4-4a48-8b45-593d10d87a86\",\"type\":\"Triangle\"},\"selection_glyph\":null,\"view\":{\"id\":\"1ac4fb5d-6d16-413e-8eab-05b1f605391b\",\"type\":\"CDSView\"}},\"id\":\"58d85105-2493-4b2b-af1e-da179c030e0e\",\"type\":\"GlyphRenderer\"},{\"attributes\":{\"callback\":null,\"end\":0.01,\"start\":1020},\"id\":\"67a0f138-63b5-4764-accf-e18704a0b9ab\",\"type\":\"Range1d\"},{\"attributes\":{\"callback\":null,\"data\":{\"x\":{\"__ndarray__\":\"+dsLqiMnEj/dGJAOTHUTPxMTf982JhY/6WDYSTb8GD8/gblBTvAbP89SBRhBBR8/sI85anofIT/X2HGXqdEiP7sVNAK8nCQ/YYZ4sOqFJj+eZEklQJQoPyjB7fhp0So/gdxQeFpMLT+o5WCSVFcwP+Gulcp/MzY/SP60lihQQj85ryBlXzJOP7IF9U+myFc/ilwJSC82Yj9HXAuxPWVrPyiZ+Sb2XXQ/tXn3GlY+fT827UrZTsWBP+W+LYV0soI/yXjiIgjqgj9p9Ld8XIaCP0w4HCj8CoI/MK7Yag3ogT8gwkSvAt2BP1AnRj6CroE//mIkJqkGgT/fK6Az1cp+PwkN9Vn0vng/cgAjhiJ/bj8qSyqxCrEnvxM8td7emnS/gxyDcjxWgb89ZxRV+xCDv68cTfEZiYG/nKjLgLhNgL8B1AZ/NYJ+vzfZXVw+pHy/AyvTpB7mer87tXKwsEB5v8S+XAS4q3e/QvymZekgdr9PLDjHbpt0v7JPzx1uF3O/nKDTkI2Qcb9txa+1xgJwv0yB8t5k2Wy/KNp2DcOWab9zRV+BbDlmv2pQ8KhDu2K/Fx1XRzgrXr9kf5j9rIRWv6r9pb3G5ky/ZtOJse2dN7+wnHjqPyUpP5OWi88CLUk/JSllKcTpVT9+R15jAdZdP+aDUKz7UWE/WGaqFH3tYT/Y3eof3phhP7JUOv9GoGE/zufBvXD3Yj8jvNT/Zt9lP3ixopk2Amo/GKxl6CDzbj+uGRO9MDtyP3JJB0OTP3U/C9H8zaaMeD+3NOvG4zR8Pz0+TATrLYA/\",\"dtype\":\"float64\",\"shape\":[75]},\"y\":{\"__ndarray__\":\"GhExyth1ND/Sv8nbtpRIP2vylNV0PVE/aTum7souWD/At0SJ8fVgPw3Iuahxymc/MSNhhJWvcD/bTfBN02d3P2zb5nxnaoA/CD5h5MAGhz8NmeH1TyaQP+zrCsc9p5Y/LbKd76fGnz/bLW5ISEmmPww9YvTcQq8/JV2OstnstT8Er5Y7M8G+P0c+r3jqkcU/5h99k6ZBzj88bCIzFzjVP4enV8oyxN0//yH99nXg5D8qOpLLf0jtP5kqGJXUifQ/c9cS8kHP/D+/DpwzojQEQIEmwoanVwxA4lgXt9HgE0BSSZ2AJuIbQAMJih9jjiNA5q4l5INuK0AwTKYKRj0zQNv5fmq8/DpAaCJseHrtQkB/+zpwzoxKQM3MzMzMeFJAZmZmZmZqWEAAAAAAAFxeQM3MzMzMJmJAmpmZmZkfZUBmZmZmZhhoQDMzMzMzEWtAAAAAAAAKbkBmZmZmZoFwQM3MzMzM/XFAMzMzMzN6c0CamZmZmfZ0QAAAAAAAc3ZAZmZmZmbvd0DNzMzMzGt5QDMzMzMz6HpAmpmZmZlkfEAAAAAAAOF9QGZmZmZmXX9AZmZmZuZsgECamZmZGSuBQM3MzMxM6YFAAAAAAICngkAzMzMzs2WDQGZmZmbmI4RAmpmZmRnihEDNzMzMTKCFQAAAAACAXoZAMzMzM7Mch0BmZmZm5tqHQJqZmZkZmYhAzczMzExXiUAAAAAAgBWKQDMzMzOz04pAZmZmZuaRi0CamZmZGVCMQM3MzMxMDo1AAAAAAIDMjUAzMzMzs4qOQGZmZmbmSI9A\",\"dtype\":\"float64\",\"shape\":[75]}},\"selected\":{\"id\":\"4427fb78-6047-42e1-96df-621a1a5ffad0\",\"type\":\"Selection\"},\"selection_policy\":{\"id\":\"e3f1af1f-2cb0-414b-8a7e-402d0c1d46ee\",\"type\":\"UnionRenderers\"}},\"id\":\"385945ee-ac67-4986-9bde-3c310054be4e\",\"type\":\"ColumnDataSource\"},{\"attributes\":{\"data_source\":{\"id\":\"268ff2c1-988b-4c8d-9c0b-908b6b75aa99\",\"type\":\"ColumnDataSource\"},\"glyph\":{\"id\":\"b535cd33-975c-4ab0-b1ec-dbe15d2be35c\",\"type\":\"Line\"},\"hover_glyph\":null,\"muted_glyph\":null,\"nonselection_glyph\":{\"id\":\"feaba634-87a1-49aa-a8a7-107d8d296084\",\"type\":\"Line\"},\"selection_glyph\":null,\"view\":{\"id\":\"52c6684f-6b03-46ec-928c-51006445152f\",\"type\":\"CDSView\"}},\"id\":\"69cc533b-17bc-4ca5-9378-ca9bde61b100\",\"type\":\"GlyphRenderer\"},{\"attributes\":{\"data_source\":{\"id\":\"29e31e60-7fa5-4ef6-ba61-770a77101de6\",\"type\":\"ColumnDataSource\"},\"glyph\":{\"id\":\"d367d525-5d57-4d63-ae83-f86f4dcdfda7\",\"type\":\"Line\"},\"hover_glyph\":null,\"muted_glyph\":null,\"nonselection_glyph\":{\"id\":\"52b65142-a6f2-4b6a-bc7b-884a91ae51c2\",\"type\":\"Line\"},\"selection_glyph\":null,\"view\":{\"id\":\"e352e533-6cf7-451c-82b3-85d1f27c0528\",\"type\":\"CDSView\"}},\"id\":\"33cc61d2-7e4a-4d01-abaf-feed27870649\",\"type\":\"GlyphRenderer\"},{\"attributes\":{\"line_alpha\":0.1,\"line_color\":\"#1f77b4\",\"line_width\":1.5,\"x\":{\"field\":\"x\"},\"y\":{\"field\":\"y\"}},\"id\":\"52b65142-a6f2-4b6a-bc7b-884a91ae51c2\",\"type\":\"Line\"},{\"attributes\":{\"line_color\":\"#4daf4a\",\"line_width\":1.5,\"x\":{\"field\":\"x\"},\"y\":{\"field\":\"y\"}},\"id\":\"d367d525-5d57-4d63-ae83-f86f4dcdfda7\",\"type\":\"Line\"},{\"attributes\":{\"source\":{\"id\":\"29e31e60-7fa5-4ef6-ba61-770a77101de6\",\"type\":\"ColumnDataSource\"}},\"id\":\"e352e533-6cf7-451c-82b3-85d1f27c0528\",\"type\":\"CDSView\"},{\"attributes\":{\"fill_alpha\":{\"value\":0.7},\"fill_color\":{\"value\":\"#377eb8\"},\"line_alpha\":{\"value\":0.7},\"line_color\":{\"value\":\"#377eb8\"},\"x\":{\"field\":\"x\"},\"y\":{\"field\":\"y\"}},\"id\":\"e7147a85-d313-4f88-8265-391b71b41860\",\"type\":\"Triangle\"},{\"attributes\":{\"num_minor_ticks\":10},\"id\":\"e82b8e81-250b-4b76-84f5-18a56fa16514\",\"type\":\"LogTicker\"},{\"attributes\":{},\"id\":\"7306f702-34b1-4ef7-8e1d-fa4bd4c2a072\",\"type\":\"HelpTool\"},{\"attributes\":{\"callback\":null,\"data\":{\"x\":{\"__ndarray__\":\"vZTyPWY/FT++LYnMQV4WPwm4mL1Iqxg/HpqxBh8YGz9ws+nh854dP6cU9mIrISA/ovvAgPKCIT8dSlMhhvciPwxv6mwwgiQ/EUP/dbwnJj8H1PkEnO4nP61jHfeg3yk/pT9ZTEMILD+IufNncPkuP/g4JztcgDQ/wbHxEQNiQD/2wS8JrHNKP45XoB5ikVQ/dTjjgIk7Xz9mLM7kGFpnP7oSXW3HSHE/O+NZCzW/eD/d+rS7XAx+P1m3uWmeoH8/fA0wWJIBgD/HrxionmJ/Px1MDezt4X4/LyzN39zVfj9giJ5RCBZ/P95r6jdxRH8/+U4joA/Ffj+Ids/qNsJ8P75Lm0W+P3g/yqKtHDMvcD97hrcWeGc0P6vdcAz6c3K/hfNcZwudgL8mWrKm0siCv2843KECm4G/tnpbpOF4gL/VmVfLn+N+vwMAgTf2Bn2/mHS8S6dKe784/eQmrap5v2q/9grSHni/UvMt4cSfdr+HZvXKUCd1v6G9JflEsHO/+YftahI1cr+KKLYaw7Bwvxufxo8KQm6/CZGWBhoFa79HUu4YAKVnv5e9a19nG2S/PIsXMOVhYL9cZSgRGuZYv3wgCkr3kVC/rEkAeNr4Pr/EV3iLDhEZP+h/lP91a0Y/JyzEtgulVD+E9+Cr2adcP3xzngJ32GA/G4uXP0exYT8OhQFaIq9hP95ogaZ3C2I/Mh831BSuYz+b1/YNQ9hmP85e5ENjPWs/m+YrrfA6cD/tNwfOqCBzP1pSVtkcQ3Y/sGKt7IaeeT+02Lt5iTV9PwXSpisWhoA/\",\"dtype\":\"float64\",\"shape\":[75]},\"y\":{\"__ndarray__\":\"GhExyth1ND/Sv8nbtpRIP2vylNV0PVE/aTum7souWD/At0SJ8fVgPw3Iuahxymc/MSNhhJWvcD/bTfBN02d3P2zb5nxnaoA/CD5h5MAGhz8NmeH1TyaQP+zrCsc9p5Y/LbKd76fGnz/bLW5ISEmmPww9YvTcQq8/JV2OstnstT8Er5Y7M8G+P0c+r3jqkcU/5h99k6ZBzj88bCIzFzjVP4enV8oyxN0//yH99nXg5D8qOpLLf0jtP5kqGJXUifQ/c9cS8kHP/D+/DpwzojQEQIEmwoanVwxA4lgXt9HgE0BSSZ2AJuIbQAMJih9jjiNA5q4l5INuK0AwTKYKRj0zQNv5fmq8/DpAaCJseHrtQkB/+zpwzoxKQM3MzMzMeFJAZmZmZmZqWEAAAAAAAFxeQM3MzMzMJmJAmpmZmZkfZUBmZmZmZhhoQDMzMzMzEWtAAAAAAAAKbkBmZmZmZoFwQM3MzMzM/XFAMzMzMzN6c0CamZmZmfZ0QAAAAAAAc3ZAZmZmZmbvd0DNzMzMzGt5QDMzMzMz6HpAmpmZmZlkfEAAAAAAAOF9QGZmZmZmXX9AZmZmZuZsgECamZmZGSuBQM3MzMxM6YFAAAAAAICngkAzMzMzs2WDQGZmZmbmI4RAmpmZmRnihEDNzMzMTKCFQAAAAACAXoZAMzMzM7Mch0BmZmZm5tqHQJqZmZkZmYhAzczMzExXiUAAAAAAgBWKQDMzMzOz04pAZmZmZuaRi0CamZmZGVCMQM3MzMxMDo1AAAAAAIDMjUAzMzMzs4qOQGZmZmbmSI9A\",\"dtype\":\"float64\",\"shape\":[75]}},\"selected\":{\"id\":\"83de537c-342d-4354-946e-155b78b0c978\",\"type\":\"Selection\"},\"selection_policy\":{\"id\":\"cbe9c9df-9d08-44ca-b98a-a0bf6808ebbd\",\"type\":\"UnionRenderers\"}},\"id\":\"268ff2c1-988b-4c8d-9c0b-908b6b75aa99\",\"type\":\"ColumnDataSource\"},{\"attributes\":{\"data_source\":{\"id\":\"385945ee-ac67-4986-9bde-3c310054be4e\",\"type\":\"ColumnDataSource\"},\"glyph\":{\"id\":\"a0830061-95d1-4426-904c-abc86347da31\",\"type\":\"Line\"},\"hover_glyph\":null,\"muted_glyph\":null,\"nonselection_glyph\":{\"id\":\"1498a873-446e-42a2-87e7-cbcf72eeac19\",\"type\":\"Line\"},\"selection_glyph\":null,\"view\":{\"id\":\"8a8219db-4fad-4c00-817c-51687c1d0a1b\",\"type\":\"CDSView\"}},\"id\":\"18637d8e-067a-457d-ac90-42008ed09754\",\"type\":\"GlyphRenderer\"},{\"attributes\":{\"bottom_units\":\"screen\",\"fill_alpha\":{\"value\":0.5},\"fill_color\":{\"value\":\"lightgrey\"},\"left_units\":\"screen\",\"level\":\"overlay\",\"line_alpha\":{\"value\":1.0},\"line_color\":{\"value\":\"black\"},\"line_dash\":[4,4],\"line_width\":{\"value\":2},\"plot\":null,\"render_mode\":\"css\",\"right_units\":\"screen\",\"top_units\":\"screen\"},\"id\":\"f539f34c-bb53-4641-ba64-1a834619c1a9\",\"type\":\"BoxAnnotation\"},{\"attributes\":{\"fill_alpha\":{\"value\":0.1},\"fill_color\":{\"value\":\"#1f77b4\"},\"line_alpha\":{\"value\":0.1},\"line_color\":{\"value\":\"#1f77b4\"},\"x\":{\"field\":\"x\"},\"y\":{\"field\":\"y\"}},\"id\":\"2eacf91c-9be4-4a48-8b45-593d10d87a86\",\"type\":\"Triangle\"},{\"attributes\":{\"line_alpha\":0.3,\"line_color\":\"#377eb8\",\"line_width\":2,\"x\":{\"field\":\"x\"},\"y\":{\"field\":\"y\"}},\"id\":\"b535cd33-975c-4ab0-b1ec-dbe15d2be35c\",\"type\":\"Line\"},{\"attributes\":{\"fill_alpha\":{\"value\":0.1},\"fill_color\":{\"value\":\"#1f77b4\"},\"line_alpha\":{\"value\":0.1},\"line_color\":{\"value\":\"#1f77b4\"},\"x\":{\"field\":\"x\"},\"y\":{\"field\":\"y\"}},\"id\":\"afc973b3-41bf-4649-89e3-11f95c995b09\",\"type\":\"Square\"},{\"attributes\":{\"source\":{\"id\":\"385945ee-ac67-4986-9bde-3c310054be4e\",\"type\":\"ColumnDataSource\"}},\"id\":\"8a8219db-4fad-4c00-817c-51687c1d0a1b\",\"type\":\"CDSView\"},{\"attributes\":{\"above\":[{\"id\":\"43de0d51-0391-4417-b74d-ea9a7ea2cf09\",\"type\":\"Legend\"}],\"below\":[{\"id\":\"36eb0f71-38e7-4ca0-9444-5f572ef7a099\",\"type\":\"LinearAxis\"}],\"left\":[{\"id\":\"db18b5fb-3d5b-4773-a0b7-d78c417b7a75\",\"type\":\"LogAxis\"}],\"plot_height\":500,\"plot_width\":400,\"renderers\":[{\"id\":\"36eb0f71-38e7-4ca0-9444-5f572ef7a099\",\"type\":\"LinearAxis\"},{\"id\":\"5f87a4de-2879-41a1-b40d-c76205d49182\",\"type\":\"Grid\"},{\"id\":\"db18b5fb-3d5b-4773-a0b7-d78c417b7a75\",\"type\":\"LogAxis\"},{\"id\":\"91dc4eb4-332a-4367-b013-b53b1b6a1ce0\",\"type\":\"Grid\"},{\"id\":\"91ce7eca-7e50-40eb-bf98-f40b9c8925e6\",\"type\":\"BoxAnnotation\"},{\"id\":\"fd0d868b-3158-43ed-8e0c-1f67ad11283b\",\"type\":\"GlyphRenderer\"},{\"id\":\"e1bf58b7-7802-4d3e-b9ab-2833306c2f59\",\"type\":\"GlyphRenderer\"},{\"id\":\"052dcdad-c988-4413-bc59-19e71c1fa4f1\",\"type\":\"GlyphRenderer\"},{\"id\":\"c6f0ce29-4560-43ac-89bb-d1c0640a862a\",\"type\":\"GlyphRenderer\"},{\"id\":\"1baafbcf-ad43-4991-9923-6edc6222739b\",\"type\":\"GlyphRenderer\"},{\"id\":\"83ea0870-6e3e-400c-89da-f26a9e0932b2\",\"type\":\"GlyphRenderer\"},{\"id\":\"43de0d51-0391-4417-b74d-ea9a7ea2cf09\",\"type\":\"Legend\"}],\"title\":{\"id\":\"39acb58e-1422-4b9d-9e36-5c092538e97b\",\"type\":\"Title\"},\"toolbar\":{\"id\":\"f3bd08a4-9d32-4993-a9f6-3af1ba00d0e0\",\"type\":\"Toolbar\"},\"toolbar_location\":null,\"x_range\":{\"id\":\"5c4b4991-705b-4746-9838-f9f813acdaf7\",\"type\":\"Range1d\"},\"x_scale\":{\"id\":\"95931d8d-d837-4dcf-a82b-09d4a806bf12\",\"type\":\"LinearScale\"},\"y_range\":{\"id\":\"cfe83ab2-9cdd-4308-9914-fb8f1bb389c6\",\"type\":\"Range1d\"},\"y_scale\":{\"id\":\"ae8093ac-33a2-4712-984d-16b3ffb07ce0\",\"type\":\"LogScale\"}},\"id\":\"5c467266-28c7-4c39-8256-37b75ac1aad1\",\"subtype\":\"Figure\",\"type\":\"Plot\"},{\"attributes\":{\"line_alpha\":0.1,\"line_color\":\"#1f77b4\",\"line_width\":2,\"x\":{\"field\":\"x\"},\"y\":{\"field\":\"y\"}},\"id\":\"feaba634-87a1-49aa-a8a7-107d8d296084\",\"type\":\"Line\"},{\"attributes\":{\"source\":{\"id\":\"b6903d91-3b94-4246-9210-2446ecd84b86\",\"type\":\"ColumnDataSource\"}},\"id\":\"1ac4fb5d-6d16-413e-8eab-05b1f605391b\",\"type\":\"CDSView\"},{\"attributes\":{\"source\":{\"id\":\"268ff2c1-988b-4c8d-9c0b-908b6b75aa99\",\"type\":\"ColumnDataSource\"}},\"id\":\"52c6684f-6b03-46ec-928c-51006445152f\",\"type\":\"CDSView\"},{\"attributes\":{\"active_drag\":\"auto\",\"active_inspect\":\"auto\",\"active_scroll\":\"auto\",\"active_tap\":\"auto\",\"tools\":[{\"id\":\"974b3723-d8f1-4bae-a14f-2b5ef0902cc0\",\"type\":\"PanTool\"},{\"id\":\"8c74f718-5350-40bc-8640-dec5913d1497\",\"type\":\"WheelZoomTool\"},{\"id\":\"15f861c1-d359-4a81-ba7e-58a6c65c49f1\",\"type\":\"BoxZoomTool\"},{\"id\":\"ebd0a4ee-24c5-4baf-a3a1-e913e5b63906\",\"type\":\"SaveTool\"},{\"id\":\"e8d3433f-81d3-4d99-a1f6-867b6fcff9ca\",\"type\":\"ResetTool\"},{\"id\":\"9d990d09-50d9-45bb-a92e-b6bccf453430\",\"type\":\"HelpTool\"}]},\"id\":\"f3bd08a4-9d32-4993-a9f6-3af1ba00d0e0\",\"type\":\"Toolbar\"},{\"attributes\":{\"axis_label\":\"pressure [mb]\",\"formatter\":{\"id\":\"d67640d1-573d-4e03-bfad-e386872fa8e3\",\"type\":\"LogTickFormatter\"},\"plot\":{\"id\":\"5c467266-28c7-4c39-8256-37b75ac1aad1\",\"subtype\":\"Figure\",\"type\":\"Plot\"},\"ticker\":{\"id\":\"e82b8e81-250b-4b76-84f5-18a56fa16514\",\"type\":\"LogTicker\"}},\"id\":\"db18b5fb-3d5b-4773-a0b7-d78c417b7a75\",\"type\":\"LogAxis\"},{\"attributes\":{\"label\":{\"value\":\"CRD\"},\"renderers\":[{\"id\":\"d48a535d-ec3e-4602-b647-2e68d9d5ca6b\",\"type\":\"GlyphRenderer\"},{\"id\":\"33cc61d2-7e4a-4d01-abaf-feed27870649\",\"type\":\"GlyphRenderer\"}]},\"id\":\"b4346a82-114f-4f64-9d94-4c65386e569e\",\"type\":\"LegendItem\"},{\"attributes\":{\"label\":{\"value\":\"WGT igg=1\"},\"renderers\":[{\"id\":\"f5f6c09f-f8c9-4c0b-ac43-52a42fd5f49c\",\"type\":\"GlyphRenderer\"},{\"id\":\"18637d8e-067a-457d-ac90-42008ed09754\",\"type\":\"GlyphRenderer\"}]},\"id\":\"07675b9c-e07d-4fe9-b810-c9b259fee135\",\"type\":\"LegendItem\"},{\"attributes\":{\"label\":{\"value\":\"WGT igg=10\"},\"renderers\":[{\"id\":\"58d85105-2493-4b2b-af1e-da179c030e0e\",\"type\":\"GlyphRenderer\"},{\"id\":\"69cc533b-17bc-4ca5-9378-ca9bde61b100\",\"type\":\"GlyphRenderer\"}]},\"id\":\"42c1182a-9bdf-41b2-a774-b3ad23886515\",\"type\":\"LegendItem\"},{\"attributes\":{},\"id\":\"974b3723-d8f1-4bae-a14f-2b5ef0902cc0\",\"type\":\"PanTool\"},{\"attributes\":{\"fill_alpha\":{\"value\":0.1},\"fill_color\":{\"value\":\"#1f77b4\"},\"line_alpha\":{\"value\":0.1},\"line_color\":{\"value\":\"#1f77b4\"},\"x\":{\"field\":\"x\"},\"y\":{\"field\":\"y\"}},\"id\":\"c440c0ee-b760-4e88-9498-91b285e110bb\",\"type\":\"Circle\"},{\"attributes\":{\"children\":[{\"id\":\"730b7a30-471a-4732-a47c-71960272560e\",\"type\":\"Row\"}]},\"id\":\"bfb36fe7-cc0f-4e00-b067-2946a8134abf\",\"type\":\"Column\"},{\"attributes\":{},\"id\":\"62d05230-399d-4160-b50c-7a03c1feafd8\",\"type\":\"UnionRenderers\"},{\"attributes\":{\"bottom_units\":\"screen\",\"fill_alpha\":{\"value\":0.5},\"fill_color\":{\"value\":\"lightgrey\"},\"left_units\":\"screen\",\"level\":\"overlay\",\"line_alpha\":{\"value\":1.0},\"line_color\":{\"value\":\"black\"},\"line_dash\":[4,4],\"line_width\":{\"value\":2},\"plot\":null,\"render_mode\":\"css\",\"right_units\":\"screen\",\"top_units\":\"screen\"},\"id\":\"91ce7eca-7e50-40eb-bf98-f40b9c8925e6\",\"type\":\"BoxAnnotation\"},{\"attributes\":{},\"id\":\"8c74f718-5350-40bc-8640-dec5913d1497\",\"type\":\"WheelZoomTool\"},{\"attributes\":{\"overlay\":{\"id\":\"91ce7eca-7e50-40eb-bf98-f40b9c8925e6\",\"type\":\"BoxAnnotation\"}},\"id\":\"15f861c1-d359-4a81-ba7e-58a6c65c49f1\",\"type\":\"BoxZoomTool\"},{\"attributes\":{},\"id\":\"ebd0a4ee-24c5-4baf-a3a1-e913e5b63906\",\"type\":\"SaveTool\"},{\"attributes\":{},\"id\":\"e8d3433f-81d3-4d99-a1f6-867b6fcff9ca\",\"type\":\"ResetTool\"},{\"attributes\":{},\"id\":\"9d990d09-50d9-45bb-a92e-b6bccf453430\",\"type\":\"HelpTool\"},{\"attributes\":{},\"id\":\"e3f1af1f-2cb0-414b-8a7e-402d0c1d46ee\",\"type\":\"UnionRenderers\"},{\"attributes\":{\"dimension\":1,\"plot\":{\"id\":\"5c467266-28c7-4c39-8256-37b75ac1aad1\",\"subtype\":\"Figure\",\"type\":\"Plot\"},\"ticker\":{\"id\":\"e82b8e81-250b-4b76-84f5-18a56fa16514\",\"type\":\"LogTicker\"}},\"id\":\"91dc4eb4-332a-4367-b013-b53b1b6a1ce0\",\"type\":\"Grid\"},{\"attributes\":{\"callback\":null,\"data\":{\"x\":{\"__ndarray__\":\"SJD7gFyJT79qq3IhIoZPv6Gh/PnSQE+/JBqB56LkTr+nkeGoNXJOv1t9gALGDU6/6SSSbU6kTb/iBCTP0zRNvxMeIDa0vky/skzO5CJBTL+vQhcZorpLvzT9SsdPKUu/Y59K5BmKSr/INI3EyK1JvzI0vsWLXEa/BW+H2ysDO7/DVc/d6XoRPyyyEyJEYEo/teIB/7mDXz8QGznGpnltPwt3qpxv7Xg/vvykk9JXgz+aAo8r0h2IP0ITaH24Tok//+uItYt4iT/vcDZ7ct2IP63CV1Xed4g/dhYyYXhIiD+ikUQ5FcyHP+vL+BVwcYY/B2cFAZjEgz/6M/u9xo5/P0Basl/9PHY/94UsW/+4aj9aB4VKEq83P+JUUsR1zme/YENCJNuqdL8ATj4p0n51v264Ecv0b3G/2UL5i6x/b78ceNAMpHttvy2R4E2E+2u/DdQGgFqnar9NVXdvQGBpv0QqhXMfFmi/Hwe1CTbBZr+CuWqaj11lvzAoMLVO6WO/kFTVPrNhYr8dlKDelMJgvyXFGyfyFV6/FChuzYBwWr8eApu4e45Wv607EdnLY1K/KwHgYmu+S78r/Ts12dhBv+OOV4NFYSu/4r6WNdpVJj/Q7xZoOcBDP5VWWH1p4lE/XDwg7oFNWj8LbEHzIbZgP2iJrduCV2I/TaAW8COYYT/3lBL99ytfP/Iw7ncBHlw/g+aEY+6HXD9NroFsG39gP1WoGQpLQGQ/oxIjd9T5aD/nrVgJP3RuPzAWwZiYYnI/6dPB8akZdj+z2ZB896B6PxlD/9wFPoA/\",\"dtype\":\"float64\",\"shape\":[75]},\"y\":{\"__ndarray__\":\"GhExyth1ND/Sv8nbtpRIP2vylNV0PVE/aTum7souWD/At0SJ8fVgPw3Iuahxymc/MSNhhJWvcD/bTfBN02d3P2zb5nxnaoA/CD5h5MAGhz8NmeH1TyaQP+zrCsc9p5Y/LbKd76fGnz/bLW5ISEmmPww9YvTcQq8/JV2OstnstT8Er5Y7M8G+P0c+r3jqkcU/5h99k6ZBzj88bCIzFzjVP4enV8oyxN0//yH99nXg5D8qOpLLf0jtP5kqGJXUifQ/c9cS8kHP/D+/DpwzojQEQIEmwoanVwxA4lgXt9HgE0BSSZ2AJuIbQAMJih9jjiNA5q4l5INuK0AwTKYKRj0zQNv5fmq8/DpAaCJseHrtQkB/+zpwzoxKQM3MzMzMeFJAZmZmZmZqWEAAAAAAAFxeQM3MzMzMJmJAmpmZmZkfZUBmZmZmZhhoQDMzMzMzEWtAAAAAAAAKbkBmZmZmZoFwQM3MzMzM/XFAMzMzMzN6c0CamZmZmfZ0QAAAAAAAc3ZAZmZmZmbvd0DNzMzMzGt5QDMzMzMz6HpAmpmZmZlkfEAAAAAAAOF9QGZmZmZmXX9AZmZmZuZsgECamZmZGSuBQM3MzMxM6YFAAAAAAICngkAzMzMzs2WDQGZmZmbmI4RAmpmZmRnihEDNzMzMTKCFQAAAAACAXoZAMzMzM7Mch0BmZmZm5tqHQJqZmZkZmYhAzczMzExXiUAAAAAAgBWKQDMzMzOz04pAZmZmZuaRi0CamZmZGVCMQM3MzMxMDo1AAAAAAIDMjUAzMzMzs4qOQGZmZmbmSI9A\",\"dtype\":\"float64\",\"shape\":[75]}},\"selected\":{\"id\":\"9d95e2e3-0c73-4128-afaf-55ec3515431c\",\"type\":\"Selection\"},\"selection_policy\":{\"id\":\"41ecef20-80f6-4e0b-962d-eda1021d200c\",\"type\":\"UnionRenderers\"}},\"id\":\"96bf050c-4c31-4b7f-b665-4c624905850a\",\"type\":\"ColumnDataSource\"},{\"attributes\":{\"source\":{\"id\":\"4b754915-52e7-45c5-8610-0d1069d19e9d\",\"type\":\"ColumnDataSource\"}},\"id\":\"51dd2805-df1e-4eca-864e-a5ba10cbbf99\",\"type\":\"CDSView\"},{\"attributes\":{\"data_source\":{\"id\":\"4b754915-52e7-45c5-8610-0d1069d19e9d\",\"type\":\"ColumnDataSource\"},\"glyph\":{\"id\":\"f80361c0-3fe7-43a3-8041-34cb49d6b87c\",\"type\":\"Triangle\"},\"hover_glyph\":null,\"muted_glyph\":null,\"nonselection_glyph\":{\"id\":\"55e462c4-0108-4e9c-bc4b-5b6cad805f4a\",\"type\":\"Triangle\"},\"selection_glyph\":null,\"view\":{\"id\":\"51dd2805-df1e-4eca-864e-a5ba10cbbf99\",\"type\":\"CDSView\"}},\"id\":\"1baafbcf-ad43-4991-9923-6edc6222739b\",\"type\":\"GlyphRenderer\"},{\"attributes\":{},\"id\":\"95931d8d-d837-4dcf-a82b-09d4a806bf12\",\"type\":\"LinearScale\"},{\"attributes\":{\"overlay\":{\"id\":\"f539f34c-bb53-4641-ba64-1a834619c1a9\",\"type\":\"BoxAnnotation\"}},\"id\":\"edb36575-00ac-4df5-8e91-6037ff15ed98\",\"type\":\"BoxZoomTool\"},{\"attributes\":{\"callback\":null,\"data\":{\"x\":{\"__ndarray__\":\"vZTyPWY/FT++LYnMQV4WPwm4mL1Iqxg/HpqxBh8YGz9ws+nh854dP6cU9mIrISA/ovvAgPKCIT8dSlMhhvciPwxv6mwwgiQ/EUP/dbwnJj8H1PkEnO4nP61jHfeg3yk/pT9ZTEMILD+IufNncPkuP/g4JztcgDQ/wbHxEQNiQD/2wS8JrHNKP45XoB5ikVQ/dTjjgIk7Xz9mLM7kGFpnP7oSXW3HSHE/O+NZCzW/eD/d+rS7XAx+P1m3uWmeoH8/fA0wWJIBgD/HrxionmJ/Px1MDezt4X4/LyzN39zVfj9giJ5RCBZ/P95r6jdxRH8/+U4joA/Ffj+Ids/qNsJ8P75Lm0W+P3g/yqKtHDMvcD97hrcWeGc0P6vdcAz6c3K/hfNcZwudgL8mWrKm0siCv2843KECm4G/tnpbpOF4gL/VmVfLn+N+vwMAgTf2Bn2/mHS8S6dKe784/eQmrap5v2q/9grSHni/UvMt4cSfdr+HZvXKUCd1v6G9JflEsHO/+YftahI1cr+KKLYaw7Bwvxufxo8KQm6/CZGWBhoFa79HUu4YAKVnv5e9a19nG2S/PIsXMOVhYL9cZSgRGuZYv3wgCkr3kVC/rEkAeNr4Pr/EV3iLDhEZP+h/lP91a0Y/JyzEtgulVD+E9+Cr2adcP3xzngJ32GA/G4uXP0exYT8OhQFaIq9hP95ogaZ3C2I/Mh831BSuYz+b1/YNQ9hmP85e5ENjPWs/m+YrrfA6cD/tNwfOqCBzP1pSVtkcQ3Y/sGKt7IaeeT+02Lt5iTV9PwXSpisWhoA/\",\"dtype\":\"float64\",\"shape\":[75]},\"y\":{\"__ndarray__\":\"GhExyth1ND/Sv8nbtpRIP2vylNV0PVE/aTum7souWD/At0SJ8fVgPw3Iuahxymc/MSNhhJWvcD/bTfBN02d3P2zb5nxnaoA/CD5h5MAGhz8NmeH1TyaQP+zrCsc9p5Y/LbKd76fGnz/bLW5ISEmmPww9YvTcQq8/JV2OstnstT8Er5Y7M8G+P0c+r3jqkcU/5h99k6ZBzj88bCIzFzjVP4enV8oyxN0//yH99nXg5D8qOpLLf0jtP5kqGJXUifQ/c9cS8kHP/D+/DpwzojQEQIEmwoanVwxA4lgXt9HgE0BSSZ2AJuIbQAMJih9jjiNA5q4l5INuK0AwTKYKRj0zQNv5fmq8/DpAaCJseHrtQkB/+zpwzoxKQM3MzMzMeFJAZmZmZmZqWEAAAAAAAFxeQM3MzMzMJmJAmpmZmZkfZUBmZmZmZhhoQDMzMzMzEWtAAAAAAAAKbkBmZmZmZoFwQM3MzMzM/XFAMzMzMzN6c0CamZmZmfZ0QAAAAAAAc3ZAZmZmZmbvd0DNzMzMzGt5QDMzMzMz6HpAmpmZmZlkfEAAAAAAAOF9QGZmZmZmXX9AZmZmZuZsgECamZmZGSuBQM3MzMxM6YFAAAAAAICngkAzMzMzs2WDQGZmZmbmI4RAmpmZmRnihEDNzMzMTKCFQAAAAACAXoZAMzMzM7Mch0BmZmZm5tqHQJqZmZkZmYhAzczMzExXiUAAAAAAgBWKQDMzMzOz04pAZmZmZuaRi0CamZmZGVCMQM3MzMxMDo1AAAAAAIDMjUAzMzMzs4qOQGZmZmbmSI9A\",\"dtype\":\"float64\",\"shape\":[75]}},\"selected\":{\"id\":\"15378a4c-0d12-473e-b0df-a0dd26b3eb5d\",\"type\":\"Selection\"},\"selection_policy\":{\"id\":\"0237a2a5-e252-4327-80d1-33feb3f3b6ab\",\"type\":\"UnionRenderers\"}},\"id\":\"3e06763a-aaaf-431e-b27f-ce59613de4bb\",\"type\":\"ColumnDataSource\"},{\"attributes\":{\"fill_alpha\":{\"value\":0.7},\"fill_color\":{\"value\":\"#377eb8\"},\"line_alpha\":{\"value\":0.7},\"line_color\":{\"value\":\"#377eb8\"},\"x\":{\"field\":\"x\"},\"y\":{\"field\":\"y\"}},\"id\":\"f80361c0-3fe7-43a3-8041-34cb49d6b87c\",\"type\":\"Triangle\"},{\"attributes\":{\"fill_alpha\":{\"value\":0.1},\"fill_color\":{\"value\":\"#1f77b4\"},\"line_alpha\":{\"value\":0.1},\"line_color\":{\"value\":\"#1f77b4\"},\"x\":{\"field\":\"x\"},\"y\":{\"field\":\"y\"}},\"id\":\"55e462c4-0108-4e9c-bc4b-5b6cad805f4a\",\"type\":\"Triangle\"},{\"attributes\":{\"plot\":null,\"text\":\"\"},\"id\":\"22a095aa-8d0e-428b-b1bf-348034944c0b\",\"type\":\"Title\"},{\"attributes\":{},\"id\":\"83de537c-342d-4354-946e-155b78b0c978\",\"type\":\"Selection\"},{\"attributes\":{\"line_alpha\":0.1,\"line_color\":\"#1f77b4\",\"line_width\":2,\"x\":{\"field\":\"x\"},\"y\":{\"field\":\"y\"}},\"id\":\"f6128c11-18b7-481d-94c7-9b0740da48d0\",\"type\":\"Line\"},{\"attributes\":{\"line_alpha\":0.3,\"line_color\":\"#377eb8\",\"line_width\":2,\"x\":{\"field\":\"x\"},\"y\":{\"field\":\"y\"}},\"id\":\"ff11d922-7436-43b6-a8a3-d4872cd0c66c\",\"type\":\"Line\"},{\"attributes\":{\"children\":[{\"id\":\"5ca828ff-5e7f-4100-a4c0-5b092411d880\",\"subtype\":\"Figure\",\"type\":\"Plot\"},{\"id\":\"5c467266-28c7-4c39-8256-37b75ac1aad1\",\"subtype\":\"Figure\",\"type\":\"Plot\"}]},\"id\":\"730b7a30-471a-4732-a47c-71960272560e\",\"type\":\"Row\"},{\"attributes\":{\"data_source\":{\"id\":\"3e06763a-aaaf-431e-b27f-ce59613de4bb\",\"type\":\"ColumnDataSource\"},\"glyph\":{\"id\":\"ff11d922-7436-43b6-a8a3-d4872cd0c66c\",\"type\":\"Line\"},\"hover_glyph\":null,\"muted_glyph\":null,\"nonselection_glyph\":{\"id\":\"f6128c11-18b7-481d-94c7-9b0740da48d0\",\"type\":\"Line\"},\"selection_glyph\":null,\"view\":{\"id\":\"e9f7b52b-93ef-41c4-97b6-31c7e5614138\",\"type\":\"CDSView\"}},\"id\":\"83ea0870-6e3e-400c-89da-f26a9e0932b2\",\"type\":\"GlyphRenderer\"},{\"attributes\":{},\"id\":\"cbe9c9df-9d08-44ca-b98a-a0bf6808ebbd\",\"type\":\"UnionRenderers\"},{\"attributes\":{},\"id\":\"8b261e6e-9b2c-4bef-8701-e4a588a46ca1\",\"type\":\"WheelZoomTool\"},{\"attributes\":{},\"id\":\"c225f6d6-6bf5-4e6a-be21-08ee85b953ad\",\"type\":\"Selection\"},{\"attributes\":{\"source\":{\"id\":\"3e06763a-aaaf-431e-b27f-ce59613de4bb\",\"type\":\"ColumnDataSource\"}},\"id\":\"e9f7b52b-93ef-41c4-97b6-31c7e5614138\",\"type\":\"CDSView\"},{\"attributes\":{\"label\":{\"value\":\"CRD\"},\"renderers\":[{\"id\":\"fd0d868b-3158-43ed-8e0c-1f67ad11283b\",\"type\":\"GlyphRenderer\"},{\"id\":\"e1bf58b7-7802-4d3e-b9ab-2833306c2f59\",\"type\":\"GlyphRenderer\"}]},\"id\":\"7d1f6896-bb39-4764-8649-0a1cbb07b592\",\"type\":\"LegendItem\"},{\"attributes\":{},\"id\":\"3c7d8952-6ec9-4846-aad6-78ada6aa9f45\",\"type\":\"ResetTool\"},{\"attributes\":{},\"id\":\"a2efa936-13ae-4f17-a5b2-f9afc489f7d0\",\"type\":\"BasicTickFormatter\"},{\"attributes\":{},\"id\":\"ee0605c9-23c9-4f92-804c-00f4d5f54607\",\"type\":\"PanTool\"},{\"attributes\":{},\"id\":\"7b1463b7-3702-4619-b5a4-983ce2e90295\",\"type\":\"UnionRenderers\"},{\"attributes\":{\"label\":{\"value\":\"WGT igg=10\"},\"renderers\":[{\"id\":\"1baafbcf-ad43-4991-9923-6edc6222739b\",\"type\":\"GlyphRenderer\"},{\"id\":\"83ea0870-6e3e-400c-89da-f26a9e0932b2\",\"type\":\"GlyphRenderer\"}]},\"id\":\"efa08e8c-d8ae-4631-9a2e-bc69b0b773aa\",\"type\":\"LegendItem\"},{\"attributes\":{},\"id\":\"e0c3dd6a-7246-4295-99f6-d2eb1270518e\",\"type\":\"SaveTool\"},{\"attributes\":{\"ticker\":null},\"id\":\"d67640d1-573d-4e03-bfad-e386872fa8e3\",\"type\":\"LogTickFormatter\"},{\"attributes\":{\"above\":[{\"id\":\"acc9199c-859b-43a1-aef2-45e73863eeec\",\"type\":\"Legend\"}],\"below\":[{\"id\":\"b544da49-1af5-45ea-898c-18fefd1bcc3d\",\"type\":\"LinearAxis\"}],\"left\":[{\"id\":\"df37ab07-b572-44de-81ca-2dc8fdde7544\",\"type\":\"LinearAxis\"}],\"plot_height\":500,\"plot_width\":400,\"renderers\":[{\"id\":\"b544da49-1af5-45ea-898c-18fefd1bcc3d\",\"type\":\"LinearAxis\"},{\"id\":\"dd1ead04-fa81-43f4-800d-c12c95ec8686\",\"type\":\"Grid\"},{\"id\":\"df37ab07-b572-44de-81ca-2dc8fdde7544\",\"type\":\"LinearAxis\"},{\"id\":\"1baff3db-cf3f-495f-aad2-5a2cdacf74b0\",\"type\":\"Grid\"},{\"id\":\"f539f34c-bb53-4641-ba64-1a834619c1a9\",\"type\":\"BoxAnnotation\"},{\"id\":\"d48a535d-ec3e-4602-b647-2e68d9d5ca6b\",\"type\":\"GlyphRenderer\"},{\"id\":\"33cc61d2-7e4a-4d01-abaf-feed27870649\",\"type\":\"GlyphRenderer\"},{\"id\":\"f5f6c09f-f8c9-4c0b-ac43-52a42fd5f49c\",\"type\":\"GlyphRenderer\"},{\"id\":\"18637d8e-067a-457d-ac90-42008ed09754\",\"type\":\"GlyphRenderer\"},{\"id\":\"58d85105-2493-4b2b-af1e-da179c030e0e\",\"type\":\"GlyphRenderer\"},{\"id\":\"69cc533b-17bc-4ca5-9378-ca9bde61b100\",\"type\":\"GlyphRenderer\"},{\"id\":\"acc9199c-859b-43a1-aef2-45e73863eeec\",\"type\":\"Legend\"}],\"title\":{\"id\":\"22a095aa-8d0e-428b-b1bf-348034944c0b\",\"type\":\"Title\"},\"toolbar\":{\"id\":\"62f595b8-779e-40e5-8ffc-ebb87bd83958\",\"type\":\"Toolbar\"},\"toolbar_location\":null,\"x_range\":{\"id\":\"02773b4a-93c8-40f0-ba0a-5fe18371b65f\",\"type\":\"Range1d\"},\"x_scale\":{\"id\":\"e55d28ab-73f8-4767-92f4-69bf4503ab0f\",\"type\":\"LinearScale\"},\"y_range\":{\"id\":\"67a0f138-63b5-4764-accf-e18704a0b9ab\",\"type\":\"Range1d\"},\"y_scale\":{\"id\":\"45042445-bcd5-4c9c-9636-912d8dbd5082\",\"type\":\"LinearScale\"}},\"id\":\"5ca828ff-5e7f-4100-a4c0-5b092411d880\",\"subtype\":\"Figure\",\"type\":\"Plot\"},{\"attributes\":{},\"id\":\"33142421-70a8-454e-b1b0-0fc93b2ea6a7\",\"type\":\"BasicTickFormatter\"},{\"attributes\":{},\"id\":\"1668c25b-0ad8-4e35-8f2a-decfeea7bd59\",\"type\":\"Selection\"},{\"attributes\":{},\"id\":\"0f46cfbf-b502-404a-ab03-3a1d0ed5f8b4\",\"type\":\"BasicTickFormatter\"},{\"attributes\":{},\"id\":\"6209c9ba-d542-4139-aa27-d58c94affea3\",\"type\":\"UnionRenderers\"},{\"attributes\":{},\"id\":\"0ebaf7a6-66a2-4c17-80e4-1a2181735ba8\",\"type\":\"Selection\"},{\"attributes\":{},\"id\":\"e2f6f5d5-9f6e-40db-bc04-29386485f6ce\",\"type\":\"UnionRenderers\"},{\"attributes\":{\"plot\":null,\"text\":\"\"},\"id\":\"39acb58e-1422-4b9d-9e36-5c092538e97b\",\"type\":\"Title\"},{\"attributes\":{\"toolbar\":{\"id\":\"f7c91340-0abe-4098-a33e-1eba058c5579\",\"type\":\"ProxyToolbar\"},\"toolbar_location\":\"above\"},\"id\":\"645c279a-8358-44ca-90c9-f2475cffaddc\",\"type\":\"ToolbarBox\"},{\"attributes\":{},\"id\":\"9d95e2e3-0c73-4128-afaf-55ec3515431c\",\"type\":\"Selection\"},{\"attributes\":{},\"id\":\"813f45e3-11ed-4975-a181-498e7495423c\",\"type\":\"Selection\"},{\"attributes\":{},\"id\":\"78efac4c-e117-4e20-bb9b-66010047e250\",\"type\":\"UnionRenderers\"},{\"attributes\":{},\"id\":\"41ecef20-80f6-4e0b-962d-eda1021d200c\",\"type\":\"UnionRenderers\"},{\"attributes\":{},\"id\":\"5ee204d8-be3c-4dfa-93a6-cfd90083ff40\",\"type\":\"Selection\"},{\"attributes\":{},\"id\":\"56a962d4-1f77-4159-bb0f-87a77fcf13f6\",\"type\":\"Selection\"},{\"attributes\":{},\"id\":\"9649d815-2ceb-4fb7-8b76-c7fdccb4ae0a\",\"type\":\"UnionRenderers\"},{\"attributes\":{},\"id\":\"0237a2a5-e252-4327-80d1-33feb3f3b6ab\",\"type\":\"UnionRenderers\"},{\"attributes\":{},\"id\":\"15378a4c-0d12-473e-b0df-a0dd26b3eb5d\",\"type\":\"Selection\"},{\"attributes\":{},\"id\":\"ea9f1905-7ddc-4f0e-90fa-3d6b98c09ca5\",\"type\":\"UnionRenderers\"},{\"attributes\":{\"children\":[{\"id\":\"645c279a-8358-44ca-90c9-f2475cffaddc\",\"type\":\"ToolbarBox\"},{\"id\":\"bfb36fe7-cc0f-4e00-b067-2946a8134abf\",\"type\":\"Column\"}]},\"id\":\"3f83e07d-4e36-494d-a4c6-c0ed93ab2b53\",\"type\":\"Column\"},{\"attributes\":{\"tools\":[{\"id\":\"ee0605c9-23c9-4f92-804c-00f4d5f54607\",\"type\":\"PanTool\"},{\"id\":\"8b261e6e-9b2c-4bef-8701-e4a588a46ca1\",\"type\":\"WheelZoomTool\"},{\"id\":\"edb36575-00ac-4df5-8e91-6037ff15ed98\",\"type\":\"BoxZoomTool\"},{\"id\":\"e0c3dd6a-7246-4295-99f6-d2eb1270518e\",\"type\":\"SaveTool\"},{\"id\":\"3c7d8952-6ec9-4846-aad6-78ada6aa9f45\",\"type\":\"ResetTool\"},{\"id\":\"7306f702-34b1-4ef7-8e1d-fa4bd4c2a072\",\"type\":\"HelpTool\"},{\"id\":\"974b3723-d8f1-4bae-a14f-2b5ef0902cc0\",\"type\":\"PanTool\"},{\"id\":\"8c74f718-5350-40bc-8640-dec5913d1497\",\"type\":\"WheelZoomTool\"},{\"id\":\"15f861c1-d359-4a81-ba7e-58a6c65c49f1\",\"type\":\"BoxZoomTool\"},{\"id\":\"ebd0a4ee-24c5-4baf-a3a1-e913e5b63906\",\"type\":\"SaveTool\"},{\"id\":\"e8d3433f-81d3-4d99-a1f6-867b6fcff9ca\",\"type\":\"ResetTool\"},{\"id\":\"9d990d09-50d9-45bb-a92e-b6bccf453430\",\"type\":\"HelpTool\"}]},\"id\":\"f7c91340-0abe-4098-a33e-1eba058c5579\",\"type\":\"ProxyToolbar\"}],\"root_ids\":[\"3f83e07d-4e36-494d-a4c6-c0ed93ab2b53\"]},\"title\":\"Bokeh Application\",\"version\":\"0.12.16\"}};\n",
       "  var render_items = [{\"docid\":\"30f08022-0355-402c-8828-6dafedff89f1\",\"elementid\":\"9ee4268a-9f4c-4d91-af3d-b02257b073b7\",\"modelid\":\"3f83e07d-4e36-494d-a4c6-c0ed93ab2b53\"}];\n",
       "  root.Bokeh.embed.embed_items_notebook(docs_json, render_items);\n",
       "\n",
       "  }\n",
       "  if (root.Bokeh !== undefined) {\n",
       "    embed_document(root);\n",
       "  } else {\n",
       "    var attempts = 0;\n",
       "    var timer = setInterval(function(root) {\n",
       "      if (root.Bokeh !== undefined) {\n",
       "        embed_document(root);\n",
       "        clearInterval(timer);\n",
       "      }\n",
       "      attempts++;\n",
       "      if (attempts > 100) {\n",
       "        console.log(\"Bokeh: ERROR: Unable to run BokehJS code because BokehJS library is missing\")\n",
       "        clearInterval(timer);\n",
       "      }\n",
       "    }, 10, root)\n",
       "  }\n",
       "})(window);"
      ],
      "application/vnd.bokehjs_exec.v0+json": ""
     },
     "metadata": {
      "application/vnd.bokehjs_exec.v0+json": {
       "id": "3f83e07d-4e36-494d-a4c6-c0ed93ab2b53"
      }
     },
     "output_type": "display_data"
    },
    {
     "data": {
      "text/markdown": [
       "*FIGURE.* Cooling rates. g=2"
      ],
      "text/plain": [
       "<IPython.core.display.Markdown object>"
      ]
     },
     "metadata": {},
     "output_type": "display_data"
    },
    {
     "data": {
      "text/html": [
       "\n",
       "<div class=\"bk-root\">\n",
       "    <div class=\"bk-plotdiv\" id=\"7c6fdba8-14a0-4212-aa2d-8fb9367d209e\"></div>\n",
       "</div>"
      ]
     },
     "metadata": {},
     "output_type": "display_data"
    },
    {
     "data": {
      "application/javascript": [
       "(function(root) {\n",
       "  function embed_document(root) {\n",
       "    \n",
       "  var docs_json = {\"a26c415b-15b0-4a8a-9fff-f1ff8783f7c8\":{\"roots\":{\"references\":[{\"attributes\":{\"items\":[{\"id\":\"3b7b5b2d-4878-4b4e-af7c-ee95d8a4ba47\",\"type\":\"LegendItem\"},{\"id\":\"452cc334-5fd7-4670-8e9f-3834ddc78b3c\",\"type\":\"LegendItem\"},{\"id\":\"8a0d8836-8077-40ac-b3bd-2299b54238dd\",\"type\":\"LegendItem\"}],\"label_text_font_size\":{\"value\":\"8pt\"},\"location\":\"top_center\",\"orientation\":\"horizontal\",\"plot\":{\"id\":\"5ca99301-a1a4-4f20-8c0f-7234519a8266\",\"subtype\":\"Figure\",\"type\":\"Plot\"}},\"id\":\"a8256411-9606-4e8d-b38b-36ca76c22865\",\"type\":\"Legend\"},{\"attributes\":{\"axis_label\":\"pressure [mb]\",\"formatter\":{\"id\":\"5f7cda71-771d-4156-a008-dfe5e80c67b6\",\"type\":\"BasicTickFormatter\"},\"plot\":{\"id\":\"5ca99301-a1a4-4f20-8c0f-7234519a8266\",\"subtype\":\"Figure\",\"type\":\"Plot\"},\"ticker\":{\"id\":\"b41289cf-7fbd-41be-8848-9f9acb1bed1e\",\"type\":\"BasicTicker\"}},\"id\":\"c96921cb-8456-497e-8400-32395639dda5\",\"type\":\"LinearAxis\"},{\"attributes\":{\"above\":[{\"id\":\"a8256411-9606-4e8d-b38b-36ca76c22865\",\"type\":\"Legend\"}],\"below\":[{\"id\":\"21871460-12ff-40d0-8cfe-584b34cef8d9\",\"type\":\"LinearAxis\"}],\"left\":[{\"id\":\"c96921cb-8456-497e-8400-32395639dda5\",\"type\":\"LinearAxis\"}],\"plot_height\":500,\"plot_width\":400,\"renderers\":[{\"id\":\"21871460-12ff-40d0-8cfe-584b34cef8d9\",\"type\":\"LinearAxis\"},{\"id\":\"678d074d-f2c3-4419-998d-fd26bfcda9fa\",\"type\":\"Grid\"},{\"id\":\"c96921cb-8456-497e-8400-32395639dda5\",\"type\":\"LinearAxis\"},{\"id\":\"c775b698-bef2-4a61-85c2-8f82a7a84dc0\",\"type\":\"Grid\"},{\"id\":\"425d79c1-2502-4d43-8297-75646661d7a1\",\"type\":\"BoxAnnotation\"},{\"id\":\"4b495c2f-16b8-41c1-b25f-815c398f1698\",\"type\":\"GlyphRenderer\"},{\"id\":\"ea3269d0-4305-46e2-934c-5d44be34ca0b\",\"type\":\"GlyphRenderer\"},{\"id\":\"88e3de2c-1f09-4f0d-a2c4-0eb2be514418\",\"type\":\"GlyphRenderer\"},{\"id\":\"b1d8a359-d565-4a7e-a31f-eee82d63ec03\",\"type\":\"GlyphRenderer\"},{\"id\":\"961a7f43-1c89-4474-86ab-e5c7fbf54566\",\"type\":\"GlyphRenderer\"},{\"id\":\"755b6e74-cdf9-4195-ba88-7381a81e7846\",\"type\":\"GlyphRenderer\"},{\"id\":\"a8256411-9606-4e8d-b38b-36ca76c22865\",\"type\":\"Legend\"}],\"title\":{\"id\":\"95a0ca7e-4cbd-4ea7-8bdd-b81dd261efde\",\"type\":\"Title\"},\"toolbar\":{\"id\":\"1a347d38-786a-4082-ad9d-0b78a9a1f9ad\",\"type\":\"Toolbar\"},\"toolbar_location\":null,\"x_range\":{\"id\":\"564a3ab5-7af6-4f17-a07a-8a88a4390e3b\",\"type\":\"Range1d\"},\"x_scale\":{\"id\":\"5159d1d7-2418-4af9-8e4c-bb49e02b5c20\",\"type\":\"LinearScale\"},\"y_range\":{\"id\":\"61a74dfd-7018-4b84-b0d1-dc1739dbcf2f\",\"type\":\"Range1d\"},\"y_scale\":{\"id\":\"87a21193-6b0d-4936-b3b5-b5b666471822\",\"type\":\"LinearScale\"}},\"id\":\"5ca99301-a1a4-4f20-8c0f-7234519a8266\",\"subtype\":\"Figure\",\"type\":\"Plot\"},{\"attributes\":{\"active_drag\":\"auto\",\"active_inspect\":\"auto\",\"active_scroll\":\"auto\",\"active_tap\":\"auto\",\"tools\":[{\"id\":\"9b5d5872-3068-4f77-a2e6-807e4ee6f027\",\"type\":\"PanTool\"},{\"id\":\"9ec5c3ee-5606-4948-8807-6772026acc4d\",\"type\":\"WheelZoomTool\"},{\"id\":\"8cc17642-83da-40c8-bfd9-ef35dbdf241f\",\"type\":\"BoxZoomTool\"},{\"id\":\"4cd51939-8cc8-49a7-99e6-f70b038d8b89\",\"type\":\"SaveTool\"},{\"id\":\"0c12ab45-1ef6-4a42-87a3-de1c8e125174\",\"type\":\"ResetTool\"},{\"id\":\"88925708-543d-4dfe-9fbf-eecd496a0877\",\"type\":\"HelpTool\"}]},\"id\":\"1a347d38-786a-4082-ad9d-0b78a9a1f9ad\",\"type\":\"Toolbar\"},{\"attributes\":{},\"id\":\"5159d1d7-2418-4af9-8e4c-bb49e02b5c20\",\"type\":\"LinearScale\"},{\"attributes\":{},\"id\":\"54c1986a-571f-4ad2-bb0a-44f0e6e6b809\",\"type\":\"BasicTicker\"},{\"attributes\":{\"plot\":{\"id\":\"5ca99301-a1a4-4f20-8c0f-7234519a8266\",\"subtype\":\"Figure\",\"type\":\"Plot\"},\"ticker\":{\"id\":\"54c1986a-571f-4ad2-bb0a-44f0e6e6b809\",\"type\":\"BasicTicker\"}},\"id\":\"678d074d-f2c3-4419-998d-fd26bfcda9fa\",\"type\":\"Grid\"},{\"attributes\":{\"dimension\":1,\"plot\":{\"id\":\"ae6b7b43-1026-4f1b-9846-1894e6362d92\",\"subtype\":\"Figure\",\"type\":\"Plot\"},\"ticker\":{\"id\":\"9dc88c47-543e-4be1-b393-b121e1505da8\",\"type\":\"LogTicker\"}},\"id\":\"6193ce9d-075b-45f4-8e00-991ed1272e2e\",\"type\":\"Grid\"},{\"attributes\":{\"callback\":null,\"end\":0.01,\"start\":1020},\"id\":\"61a74dfd-7018-4b84-b0d1-dc1739dbcf2f\",\"type\":\"Range1d\"},{\"attributes\":{\"axis_label\":\"cooling rate [K/day]\",\"formatter\":{\"id\":\"ea88c07d-08c1-4a24-8ca6-8c6de55030a3\",\"type\":\"BasicTickFormatter\"},\"plot\":{\"id\":\"5ca99301-a1a4-4f20-8c0f-7234519a8266\",\"subtype\":\"Figure\",\"type\":\"Plot\"},\"ticker\":{\"id\":\"54c1986a-571f-4ad2-bb0a-44f0e6e6b809\",\"type\":\"BasicTicker\"}},\"id\":\"21871460-12ff-40d0-8cfe-584b34cef8d9\",\"type\":\"LinearAxis\"},{\"attributes\":{\"callback\":null,\"end\":0.06939017813,\"start\":-0.03189522313},\"id\":\"564a3ab5-7af6-4f17-a07a-8a88a4390e3b\",\"type\":\"Range1d\"},{\"attributes\":{},\"id\":\"9b5d5872-3068-4f77-a2e6-807e4ee6f027\",\"type\":\"PanTool\"},{\"attributes\":{\"callback\":null,\"end\":0.01,\"start\":1020},\"id\":\"64a672a1-e2ce-46ff-b3be-cb8842f6af70\",\"type\":\"Range1d\"},{\"attributes\":{},\"id\":\"87a21193-6b0d-4936-b3b5-b5b666471822\",\"type\":\"LinearScale\"},{\"attributes\":{\"num_minor_ticks\":10},\"id\":\"9dc88c47-543e-4be1-b393-b121e1505da8\",\"type\":\"LogTicker\"},{\"attributes\":{\"plot\":{\"id\":\"ae6b7b43-1026-4f1b-9846-1894e6362d92\",\"subtype\":\"Figure\",\"type\":\"Plot\"},\"ticker\":{\"id\":\"ff21c49f-513d-476b-b6b0-813363de182d\",\"type\":\"BasicTicker\"}},\"id\":\"3164ed4d-85b2-4657-8827-9cee8765c914\",\"type\":\"Grid\"},{\"attributes\":{\"dimension\":1,\"plot\":{\"id\":\"5ca99301-a1a4-4f20-8c0f-7234519a8266\",\"subtype\":\"Figure\",\"type\":\"Plot\"},\"ticker\":{\"id\":\"b41289cf-7fbd-41be-8848-9f9acb1bed1e\",\"type\":\"BasicTicker\"}},\"id\":\"c775b698-bef2-4a61-85c2-8f82a7a84dc0\",\"type\":\"Grid\"},{\"attributes\":{\"axis_label\":\"pressure [mb]\",\"formatter\":{\"id\":\"6821b2a6-411e-4e91-9601-3c569eacad4f\",\"type\":\"LogTickFormatter\"},\"plot\":{\"id\":\"ae6b7b43-1026-4f1b-9846-1894e6362d92\",\"subtype\":\"Figure\",\"type\":\"Plot\"},\"ticker\":{\"id\":\"9dc88c47-543e-4be1-b393-b121e1505da8\",\"type\":\"LogTicker\"}},\"id\":\"b12dab12-4f4f-4009-9ac3-3649a0db9eab\",\"type\":\"LogAxis\"},{\"attributes\":{},\"id\":\"9ec5c3ee-5606-4948-8807-6772026acc4d\",\"type\":\"WheelZoomTool\"},{\"attributes\":{},\"id\":\"b41289cf-7fbd-41be-8848-9f9acb1bed1e\",\"type\":\"BasicTicker\"},{\"attributes\":{\"fill_alpha\":{\"value\":0.1},\"fill_color\":{\"value\":\"#1f77b4\"},\"line_alpha\":{\"value\":0.1},\"line_color\":{\"value\":\"#1f77b4\"},\"x\":{\"field\":\"x\"},\"y\":{\"field\":\"y\"}},\"id\":\"f09c6093-26c8-4eb0-afb7-2769c9d9698b\",\"type\":\"Circle\"},{\"attributes\":{\"source\":{\"id\":\"696005dd-5e80-4ae0-990b-cd7f7571df48\",\"type\":\"ColumnDataSource\"}},\"id\":\"2fc6a5b8-26cb-47ae-9a33-e7b703dfd2d8\",\"type\":\"CDSView\"},{\"attributes\":{\"fill_alpha\":{\"value\":0.7},\"fill_color\":{\"value\":\"#4daf4a\"},\"line_alpha\":{\"value\":0.7},\"line_color\":{\"value\":\"#4daf4a\"},\"x\":{\"field\":\"x\"},\"y\":{\"field\":\"y\"}},\"id\":\"bbe7888f-7d5f-4b6d-8ed4-7edc1203c273\",\"type\":\"Circle\"},{\"attributes\":{\"callback\":null,\"data\":{\"x\":{\"__ndarray__\":\"Q8I8S3Jf+r7jtJQ1xoH6vpwnd+rkpPq+uppKFtrF+r64Obalr+b6viYOuoWODPu+Y6KoQ8k2+74E96PRY2f7vuR+NuM2ofu+5SO3fezn+74C3rCPS0D8vkrv0yjFsPy+EHpFJS1B/b6R3rXsoez9vhTmJqf4oP2+UxMwWM0w+b7xvwErrijpvgZqRhxWVOs+co8wKF7gDz/qPtIuu2AjP4l1tdHAyTM/FiuJU1gJQj/c07mcQfhJP7IaVeAbEk8/sKeiW2SAUT8ZxdV1ZopSP0qDRwmtD1M/A6SJuZz5Uj/vFvSZjcBRPwhDxwzgJk0/tUoRGQ3SQD+Kh5l/PNMhv4PpZk3UXFO/BhIy3j8nZ79Wbk+8fXB3v1iebVmxBIW/BcxEXeD8jr8XUkthSMiSv6pvkWIdGpS/XQrdXxzglL/PiJV7yC6Vv8CD3pzDFZW/gCwZB2SdlL9nGxW+EtaTv8H9nFw1ypK/T0xqqh+Ckb9cG43wtASQv1qabQRor4y/C3hSjBf+iL/bJXQO0/uEv57PwpYFsIC/F9w7HeI8eL+71nNVxiZtv6p87ef9kFG//PcQOIFOWT8ng04JQplxP7v4sh/vdn0/hAeTA/L8hD8EozLI1JKLP8joDs8DOZE/Yd14d2SslD/pc89p/8uXP3alVnmxGZo/SRqzV+Vjmz/BtHClExOcP5dftxxw3Jw/nRESWvBRnj/VIlvDMFOgPyzG9uPB2aE/UPuo5G6goz8Nyk03/ZelP2wDubwgv6c/qlYfQm4cqj89zSf9TcCsP68JOVQryq8/\",\"dtype\":\"float64\",\"shape\":[75]},\"y\":{\"__ndarray__\":\"GhExyth1ND/Sv8nbtpRIP2vylNV0PVE/aTum7souWD/At0SJ8fVgPw3Iuahxymc/MSNhhJWvcD/bTfBN02d3P2zb5nxnaoA/CD5h5MAGhz8NmeH1TyaQP+zrCsc9p5Y/LbKd76fGnz/bLW5ISEmmPww9YvTcQq8/JV2OstnstT8Er5Y7M8G+P0c+r3jqkcU/5h99k6ZBzj88bCIzFzjVP4enV8oyxN0//yH99nXg5D8qOpLLf0jtP5kqGJXUifQ/c9cS8kHP/D+/DpwzojQEQIEmwoanVwxA4lgXt9HgE0BSSZ2AJuIbQAMJih9jjiNA5q4l5INuK0AwTKYKRj0zQNv5fmq8/DpAaCJseHrtQkB/+zpwzoxKQM3MzMzMeFJAZmZmZmZqWEAAAAAAAFxeQM3MzMzMJmJAmpmZmZkfZUBmZmZmZhhoQDMzMzMzEWtAAAAAAAAKbkBmZmZmZoFwQM3MzMzM/XFAMzMzMzN6c0CamZmZmfZ0QAAAAAAAc3ZAZmZmZmbvd0DNzMzMzGt5QDMzMzMz6HpAmpmZmZlkfEAAAAAAAOF9QGZmZmZmXX9AZmZmZuZsgECamZmZGSuBQM3MzMxM6YFAAAAAAICngkAzMzMzs2WDQGZmZmbmI4RAmpmZmRnihEDNzMzMTKCFQAAAAACAXoZAMzMzM7Mch0BmZmZm5tqHQJqZmZkZmYhAzczMzExXiUAAAAAAgBWKQDMzMzOz04pAZmZmZuaRi0CamZmZGVCMQM3MzMxMDo1AAAAAAIDMjUAzMzMzs4qOQGZmZmbmSI9A\",\"dtype\":\"float64\",\"shape\":[75]}},\"selected\":{\"id\":\"21535c86-97e7-4e6b-a344-0be3bf7fe008\",\"type\":\"Selection\"},\"selection_policy\":{\"id\":\"da8d4cc9-ed87-4509-aad8-5a0de36f1f49\",\"type\":\"UnionRenderers\"}},\"id\":\"696005dd-5e80-4ae0-990b-cd7f7571df48\",\"type\":\"ColumnDataSource\"},{\"attributes\":{\"fill_alpha\":{\"value\":0.7},\"fill_color\":{\"value\":\"#984ea3\"},\"line_alpha\":{\"value\":0.7},\"line_color\":{\"value\":\"#984ea3\"},\"x\":{\"field\":\"x\"},\"y\":{\"field\":\"y\"}},\"id\":\"26c6c263-e88b-4cc6-9327-691e8f88f4eb\",\"type\":\"Square\"},{\"attributes\":{\"callback\":null,\"data\":{\"x\":{\"__ndarray__\":\"Q8I8S3Jf+r7jtJQ1xoH6vpwnd+rkpPq+uppKFtrF+r64Obalr+b6viYOuoWODPu+Y6KoQ8k2+74E96PRY2f7vuR+NuM2ofu+5SO3fezn+74C3rCPS0D8vkrv0yjFsPy+EHpFJS1B/b6R3rXsoez9vhTmJqf4oP2+UxMwWM0w+b7xvwErrijpvgZqRhxWVOs+co8wKF7gDz/qPtIuu2AjP4l1tdHAyTM/FiuJU1gJQj/c07mcQfhJP7IaVeAbEk8/sKeiW2SAUT8ZxdV1ZopSP0qDRwmtD1M/A6SJuZz5Uj/vFvSZjcBRPwhDxwzgJk0/tUoRGQ3SQD+Kh5l/PNMhv4PpZk3UXFO/BhIy3j8nZ79Wbk+8fXB3v1iebVmxBIW/BcxEXeD8jr8XUkthSMiSv6pvkWIdGpS/XQrdXxzglL/PiJV7yC6Vv8CD3pzDFZW/gCwZB2SdlL9nGxW+EtaTv8H9nFw1ypK/T0xqqh+Ckb9cG43wtASQv1qabQRor4y/C3hSjBf+iL/bJXQO0/uEv57PwpYFsIC/F9w7HeI8eL+71nNVxiZtv6p87ef9kFG//PcQOIFOWT8ng04JQplxP7v4sh/vdn0/hAeTA/L8hD8EozLI1JKLP8joDs8DOZE/Yd14d2SslD/pc89p/8uXP3alVnmxGZo/SRqzV+Vjmz/BtHClExOcP5dftxxw3Jw/nRESWvBRnj/VIlvDMFOgPyzG9uPB2aE/UPuo5G6goz8Nyk03/ZelP2wDubwgv6c/qlYfQm4cqj89zSf9TcCsP68JOVQryq8/\",\"dtype\":\"float64\",\"shape\":[75]},\"y\":{\"__ndarray__\":\"GhExyth1ND/Sv8nbtpRIP2vylNV0PVE/aTum7souWD/At0SJ8fVgPw3Iuahxymc/MSNhhJWvcD/bTfBN02d3P2zb5nxnaoA/CD5h5MAGhz8NmeH1TyaQP+zrCsc9p5Y/LbKd76fGnz/bLW5ISEmmPww9YvTcQq8/JV2OstnstT8Er5Y7M8G+P0c+r3jqkcU/5h99k6ZBzj88bCIzFzjVP4enV8oyxN0//yH99nXg5D8qOpLLf0jtP5kqGJXUifQ/c9cS8kHP/D+/DpwzojQEQIEmwoanVwxA4lgXt9HgE0BSSZ2AJuIbQAMJih9jjiNA5q4l5INuK0AwTKYKRj0zQNv5fmq8/DpAaCJseHrtQkB/+zpwzoxKQM3MzMzMeFJAZmZmZmZqWEAAAAAAAFxeQM3MzMzMJmJAmpmZmZkfZUBmZmZmZhhoQDMzMzMzEWtAAAAAAAAKbkBmZmZmZoFwQM3MzMzM/XFAMzMzMzN6c0CamZmZmfZ0QAAAAAAAc3ZAZmZmZmbvd0DNzMzMzGt5QDMzMzMz6HpAmpmZmZlkfEAAAAAAAOF9QGZmZmZmXX9AZmZmZuZsgECamZmZGSuBQM3MzMxM6YFAAAAAAICngkAzMzMzs2WDQGZmZmbmI4RAmpmZmRnihEDNzMzMTKCFQAAAAACAXoZAMzMzM7Mch0BmZmZm5tqHQJqZmZkZmYhAzczMzExXiUAAAAAAgBWKQDMzMzOz04pAZmZmZuaRi0CamZmZGVCMQM3MzMxMDo1AAAAAAIDMjUAzMzMzs4qOQGZmZmbmSI9A\",\"dtype\":\"float64\",\"shape\":[75]}},\"selected\":{\"id\":\"41c7cc09-c45e-4f31-8c01-7a90fa2375d6\",\"type\":\"Selection\"},\"selection_policy\":{\"id\":\"9e6718f5-0134-4da4-8c23-ec2106adcf9c\",\"type\":\"UnionRenderers\"}},\"id\":\"ecb834e8-c6e3-49ac-87ec-cc14f9321e0d\",\"type\":\"ColumnDataSource\"},{\"attributes\":{\"callback\":null,\"data\":{\"x\":{\"__ndarray__\":\"lXge37qS977MbUoMv8P3vmco3nrT+fe+2FhsvVo3+L4ENGlkEH/4vicz9kBe1fi+ICIP/XZA+b5MC+ol+Mj5vnjOYl/Jevq+z3lUEHJm+76MU3f/zKL8vlDopwNxT/6+heGPwPVLAL/2OFthEdgBv+PwOpTFlwO/xEDSegCHBL/xPMTxhj8Dv+9fGJvu2vu+pRs0R3tSwL7yVtRWNqoJP7PXrEDLLCM/RsvHztBBND8zpj9/ysY9P1NTnxR0y0A/lIAdVw7eQD90mCgWL2g8P5t5qiP6+zE/NbHtvMzi8D6mfxUUiXg5vw93SSrAaFC/jQp+zYksX7+LkzXJEzFqv2ghipQpkHS/qWX1kxQNf78lz0EMfl+Hv+ImKQQANJG/jDQZ173qlr+dHNNNQQKbv84trM9gSZ2/2ULAvCjDnr+2GtpM+oWfv2/JtnvVpJ+/1YrRm9Mqn798UgJvPDCev+sLpyDNxZy/ncd/htn5mr96zMHlEdmYv6epXrGYbpa/MBknuyLDk7+/t1Zsrd6Qv4rAW5dPk4u/Vk/Z9XoThb9yKhlJyY58v9hd5Ard2Gy/f6fd+JO6Cj8HJh/JEZxuP+9aJcST134/Pn64qVZmhz8fw1vOQo6PP+bEWz3g55M/u9osjGT3lz83HMY/lLGbP+35knRqup4/yicfEw14oD+lUykG4FChP3LdtQBELKI/q/WXQL5Coz8SOLT2rqmkPwI0hEKIVKY/zVOSf6otqD8We0RZsyaqP1v0ds2pOaw/N52NKv1jrj9F1fsChFOwP3Qia1R6grE/\",\"dtype\":\"float64\",\"shape\":[75]},\"y\":{\"__ndarray__\":\"GhExyth1ND/Sv8nbtpRIP2vylNV0PVE/aTum7souWD/At0SJ8fVgPw3Iuahxymc/MSNhhJWvcD/bTfBN02d3P2zb5nxnaoA/CD5h5MAGhz8NmeH1TyaQP+zrCsc9p5Y/LbKd76fGnz/bLW5ISEmmPww9YvTcQq8/JV2OstnstT8Er5Y7M8G+P0c+r3jqkcU/5h99k6ZBzj88bCIzFzjVP4enV8oyxN0//yH99nXg5D8qOpLLf0jtP5kqGJXUifQ/c9cS8kHP/D+/DpwzojQEQIEmwoanVwxA4lgXt9HgE0BSSZ2AJuIbQAMJih9jjiNA5q4l5INuK0AwTKYKRj0zQNv5fmq8/DpAaCJseHrtQkB/+zpwzoxKQM3MzMzMeFJAZmZmZmZqWEAAAAAAAFxeQM3MzMzMJmJAmpmZmZkfZUBmZmZmZhhoQDMzMzMzEWtAAAAAAAAKbkBmZmZmZoFwQM3MzMzM/XFAMzMzMzN6c0CamZmZmfZ0QAAAAAAAc3ZAZmZmZmbvd0DNzMzMzGt5QDMzMzMz6HpAmpmZmZlkfEAAAAAAAOF9QGZmZmZmXX9AZmZmZuZsgECamZmZGSuBQM3MzMxM6YFAAAAAAICngkAzMzMzs2WDQGZmZmbmI4RAmpmZmRnihEDNzMzMTKCFQAAAAACAXoZAMzMzM7Mch0BmZmZm5tqHQJqZmZkZmYhAzczMzExXiUAAAAAAgBWKQDMzMzOz04pAZmZmZuaRi0CamZmZGVCMQM3MzMxMDo1AAAAAAIDMjUAzMzMzs4qOQGZmZmbmSI9A\",\"dtype\":\"float64\",\"shape\":[75]}},\"selected\":{\"id\":\"40868aef-e694-4347-8e26-905e1f3b3bd3\",\"type\":\"Selection\"},\"selection_policy\":{\"id\":\"66b5c636-b284-40ff-b668-dbf91eedef3b\",\"type\":\"UnionRenderers\"}},\"id\":\"357cd7f8-e2b8-4fb0-8eed-0a3001411e03\",\"type\":\"ColumnDataSource\"},{\"attributes\":{},\"id\":\"40f7259f-42c1-4b7d-afbb-74c67d99d6ba\",\"type\":\"WheelZoomTool\"},{\"attributes\":{\"line_alpha\":0.1,\"line_color\":\"#1f77b4\",\"line_width\":3,\"x\":{\"field\":\"x\"},\"y\":{\"field\":\"y\"}},\"id\":\"ed94475c-4996-4923-b93b-e8f4b34fc892\",\"type\":\"Line\"},{\"attributes\":{\"data_source\":{\"id\":\"7828bfc8-ca2c-43bc-ace7-00af6856b4a1\",\"type\":\"ColumnDataSource\"},\"glyph\":{\"id\":\"482dec94-a418-4c84-86a6-76ac3a9535f4\",\"type\":\"Line\"},\"hover_glyph\":null,\"muted_glyph\":null,\"nonselection_glyph\":{\"id\":\"ed94475c-4996-4923-b93b-e8f4b34fc892\",\"type\":\"Line\"},\"selection_glyph\":null,\"view\":{\"id\":\"18dfd325-e057-47ab-8003-1265ef70a8b6\",\"type\":\"CDSView\"}},\"id\":\"b1d8a359-d565-4a7e-a31f-eee82d63ec03\",\"type\":\"GlyphRenderer\"},{\"attributes\":{\"source\":{\"id\":\"b064548e-7363-4d79-8fd0-7d82300858c4\",\"type\":\"ColumnDataSource\"}},\"id\":\"afa304b7-4b22-4227-af21-7a6d405c34c5\",\"type\":\"CDSView\"},{\"attributes\":{\"line_alpha\":0.6,\"line_color\":\"#984ea3\",\"line_width\":3,\"x\":{\"field\":\"x\"},\"y\":{\"field\":\"y\"}},\"id\":\"482dec94-a418-4c84-86a6-76ac3a9535f4\",\"type\":\"Line\"},{\"attributes\":{\"callback\":null,\"data\":{\"x\":{\"__ndarray__\":\"0RhMvZdX9b5UmmTLq3r1vhbb70QGmPW+itpXtpq69b5fn0Q2/OT1vvvASVTrGva+kyaXuqlh9r6vlJmLccD2vjQumXw/Qfe+4nB6jtfx974bhm2RIOX4vt3VEGkINfq+PVpj0d8E/L5HPhvzxHD+vmgdPyKwLgC/Y2zmnoi4/r6Acb5/gQL2vkWIBOLqTra+kUB6dYhPBD9Jg/zoqxYePw+jy8gCljA/pFlzMIBbPz9rA6+/5n5GP4MrHqsU+kk/IdxMUdeTSz8LquWbA1dKP0WGutHqvkY/PxqCOiwyQD/4PWn8r4IkP82hOuzI6zi/BTYOzWGkU7/IOku6taZjv/trMlkOA3G/hL6YzzAze789sBtqn4SFv6g7VPUgdJC/gK7tVXpZlr/Rg4MJGGeavxFrH2LraJy/sFDJC3mcnb/n3tBPyR2evzzVCJoiAp6/4zFmv6xYnb841uHCYzqcvw6/OEQeuZq/3symK/HjmL9ZL+mcXcaWv31pmyz/a5S/xdDYAVHckb8tKCCuGz2Ov9j6jIXNcoi/xJhncmBjgr+f7LnXiCp4v9n+dz/MMGa/hLuqyuBIQz9rx2blpFlwP19+ZtLfuX4/JPPu5q7Hhj8Lxa7RmGeOP+e+PGeCFpM/utRc/Nrrlj8brrIP4mWaP1MLphNpGJ0/zU64t1janj9HvHJGXwSgP/Ky0BU/oqA/KkmmXESIoT8KPaIPhM6iP3ETNLShZaQ/7w4PskM0pj8tqL7fpyuoPwgRC91uR6o/4K3VGT2JrD+laLUlSvmuP70iG+9e07A/\",\"dtype\":\"float64\",\"shape\":[75]},\"y\":{\"__ndarray__\":\"GhExyth1ND/Sv8nbtpRIP2vylNV0PVE/aTum7souWD/At0SJ8fVgPw3Iuahxymc/MSNhhJWvcD/bTfBN02d3P2zb5nxnaoA/CD5h5MAGhz8NmeH1TyaQP+zrCsc9p5Y/LbKd76fGnz/bLW5ISEmmPww9YvTcQq8/JV2OstnstT8Er5Y7M8G+P0c+r3jqkcU/5h99k6ZBzj88bCIzFzjVP4enV8oyxN0//yH99nXg5D8qOpLLf0jtP5kqGJXUifQ/c9cS8kHP/D+/DpwzojQEQIEmwoanVwxA4lgXt9HgE0BSSZ2AJuIbQAMJih9jjiNA5q4l5INuK0AwTKYKRj0zQNv5fmq8/DpAaCJseHrtQkB/+zpwzoxKQM3MzMzMeFJAZmZmZmZqWEAAAAAAAFxeQM3MzMzMJmJAmpmZmZkfZUBmZmZmZhhoQDMzMzMzEWtAAAAAAAAKbkBmZmZmZoFwQM3MzMzM/XFAMzMzMzN6c0CamZmZmfZ0QAAAAAAAc3ZAZmZmZmbvd0DNzMzMzGt5QDMzMzMz6HpAmpmZmZlkfEAAAAAAAOF9QGZmZmZmXX9AZmZmZuZsgECamZmZGSuBQM3MzMxM6YFAAAAAAICngkAzMzMzs2WDQGZmZmbmI4RAmpmZmRnihEDNzMzMTKCFQAAAAACAXoZAMzMzM7Mch0BmZmZm5tqHQJqZmZkZmYhAzczMzExXiUAAAAAAgBWKQDMzMzOz04pAZmZmZuaRi0CamZmZGVCMQM3MzMxMDo1AAAAAAIDMjUAzMzMzs4qOQGZmZmbmSI9A\",\"dtype\":\"float64\",\"shape\":[75]}},\"selected\":{\"id\":\"519e26d4-fb96-47ac-9f94-e7e3334d3e21\",\"type\":\"Selection\"},\"selection_policy\":{\"id\":\"eb8aad42-9ebc-4882-8c24-4ffe39ca4dcd\",\"type\":\"UnionRenderers\"}},\"id\":\"7828bfc8-ca2c-43bc-ace7-00af6856b4a1\",\"type\":\"ColumnDataSource\"},{\"attributes\":{\"callback\":null,\"data\":{\"x\":{\"__ndarray__\":\"0RhMvZdX9b5UmmTLq3r1vhbb70QGmPW+itpXtpq69b5fn0Q2/OT1vvvASVTrGva+kyaXuqlh9r6vlJmLccD2vjQumXw/Qfe+4nB6jtfx974bhm2RIOX4vt3VEGkINfq+PVpj0d8E/L5HPhvzxHD+vmgdPyKwLgC/Y2zmnoi4/r6Acb5/gQL2vkWIBOLqTra+kUB6dYhPBD9Jg/zoqxYePw+jy8gCljA/pFlzMIBbPz9rA6+/5n5GP4MrHqsU+kk/IdxMUdeTSz8LquWbA1dKP0WGutHqvkY/PxqCOiwyQD/4PWn8r4IkP82hOuzI6zi/BTYOzWGkU7/IOku6taZjv/trMlkOA3G/hL6YzzAze789sBtqn4SFv6g7VPUgdJC/gK7tVXpZlr/Rg4MJGGeavxFrH2LraJy/sFDJC3mcnb/n3tBPyR2evzzVCJoiAp6/4zFmv6xYnb841uHCYzqcvw6/OEQeuZq/3symK/HjmL9ZL+mcXcaWv31pmyz/a5S/xdDYAVHckb8tKCCuGz2Ov9j6jIXNcoi/xJhncmBjgr+f7LnXiCp4v9n+dz/MMGa/hLuqyuBIQz9rx2blpFlwP19+ZtLfuX4/JPPu5q7Hhj8Lxa7RmGeOP+e+PGeCFpM/utRc/Nrrlj8brrIP4mWaP1MLphNpGJ0/zU64t1janj9HvHJGXwSgP/Ky0BU/oqA/KkmmXESIoT8KPaIPhM6iP3ETNLShZaQ/7w4PskM0pj8tqL7fpyuoPwgRC91uR6o/4K3VGT2JrD+laLUlSvmuP70iG+9e07A/\",\"dtype\":\"float64\",\"shape\":[75]},\"y\":{\"__ndarray__\":\"GhExyth1ND/Sv8nbtpRIP2vylNV0PVE/aTum7souWD/At0SJ8fVgPw3Iuahxymc/MSNhhJWvcD/bTfBN02d3P2zb5nxnaoA/CD5h5MAGhz8NmeH1TyaQP+zrCsc9p5Y/LbKd76fGnz/bLW5ISEmmPww9YvTcQq8/JV2OstnstT8Er5Y7M8G+P0c+r3jqkcU/5h99k6ZBzj88bCIzFzjVP4enV8oyxN0//yH99nXg5D8qOpLLf0jtP5kqGJXUifQ/c9cS8kHP/D+/DpwzojQEQIEmwoanVwxA4lgXt9HgE0BSSZ2AJuIbQAMJih9jjiNA5q4l5INuK0AwTKYKRj0zQNv5fmq8/DpAaCJseHrtQkB/+zpwzoxKQM3MzMzMeFJAZmZmZmZqWEAAAAAAAFxeQM3MzMzMJmJAmpmZmZkfZUBmZmZmZhhoQDMzMzMzEWtAAAAAAAAKbkBmZmZmZoFwQM3MzMzM/XFAMzMzMzN6c0CamZmZmfZ0QAAAAAAAc3ZAZmZmZmbvd0DNzMzMzGt5QDMzMzMz6HpAmpmZmZlkfEAAAAAAAOF9QGZmZmZmXX9AZmZmZuZsgECamZmZGSuBQM3MzMxM6YFAAAAAAICngkAzMzMzs2WDQGZmZmbmI4RAmpmZmRnihEDNzMzMTKCFQAAAAACAXoZAMzMzM7Mch0BmZmZm5tqHQJqZmZkZmYhAzczMzExXiUAAAAAAgBWKQDMzMzOz04pAZmZmZuaRi0CamZmZGVCMQM3MzMxMDo1AAAAAAIDMjUAzMzMzs4qOQGZmZmbmSI9A\",\"dtype\":\"float64\",\"shape\":[75]}},\"selected\":{\"id\":\"b16bfe95-d4c0-4bb5-b804-2bb12602999a\",\"type\":\"Selection\"},\"selection_policy\":{\"id\":\"e9026fb7-9cf7-4b3c-9a81-9ef45128e878\",\"type\":\"UnionRenderers\"}},\"id\":\"b064548e-7363-4d79-8fd0-7d82300858c4\",\"type\":\"ColumnDataSource\"},{\"attributes\":{\"data_source\":{\"id\":\"357cd7f8-e2b8-4fb0-8eed-0a3001411e03\",\"type\":\"ColumnDataSource\"},\"glyph\":{\"id\":\"60306c87-90c1-4002-8c91-066c3a669e3f\",\"type\":\"Triangle\"},\"hover_glyph\":null,\"muted_glyph\":null,\"nonselection_glyph\":{\"id\":\"50a509d1-62fb-4263-9a7b-3a7a7cf5a785\",\"type\":\"Triangle\"},\"selection_glyph\":null,\"view\":{\"id\":\"3b44920b-4705-4724-9c6c-d028292bb661\",\"type\":\"CDSView\"}},\"id\":\"961a7f43-1c89-4474-86ab-e5c7fbf54566\",\"type\":\"GlyphRenderer\"},{\"attributes\":{\"fill_alpha\":{\"value\":0.1},\"fill_color\":{\"value\":\"#1f77b4\"},\"line_alpha\":{\"value\":0.1},\"line_color\":{\"value\":\"#1f77b4\"},\"x\":{\"field\":\"x\"},\"y\":{\"field\":\"y\"}},\"id\":\"50a509d1-62fb-4263-9a7b-3a7a7cf5a785\",\"type\":\"Triangle\"},{\"attributes\":{\"line_alpha\":0.1,\"line_color\":\"#1f77b4\",\"line_width\":2,\"x\":{\"field\":\"x\"},\"y\":{\"field\":\"y\"}},\"id\":\"36879df0-a9d6-4ef3-b27f-0090b702af4e\",\"type\":\"Line\"},{\"attributes\":{\"data_source\":{\"id\":\"1ca15d08-2d55-4a68-babe-c8bd38e4f7ba\",\"type\":\"ColumnDataSource\"},\"glyph\":{\"id\":\"a29b32d6-0765-4d0b-a82f-f92662e6496a\",\"type\":\"Line\"},\"hover_glyph\":null,\"muted_glyph\":null,\"nonselection_glyph\":{\"id\":\"46adfcaa-bd28-4e21-b53b-fbe54055f5a0\",\"type\":\"Line\"},\"selection_glyph\":null,\"view\":{\"id\":\"30133f77-3366-4b23-880c-e597d40c3a40\",\"type\":\"CDSView\"}},\"id\":\"ea3269d0-4305-46e2-934c-5d44be34ca0b\",\"type\":\"GlyphRenderer\"},{\"attributes\":{\"line_alpha\":0.1,\"line_color\":\"#1f77b4\",\"line_width\":1.5,\"x\":{\"field\":\"x\"},\"y\":{\"field\":\"y\"}},\"id\":\"46adfcaa-bd28-4e21-b53b-fbe54055f5a0\",\"type\":\"Line\"},{\"attributes\":{\"source\":{\"id\":\"357cd7f8-e2b8-4fb0-8eed-0a3001411e03\",\"type\":\"ColumnDataSource\"}},\"id\":\"3b44920b-4705-4724-9c6c-d028292bb661\",\"type\":\"CDSView\"},{\"attributes\":{\"source\":{\"id\":\"1ca15d08-2d55-4a68-babe-c8bd38e4f7ba\",\"type\":\"ColumnDataSource\"}},\"id\":\"30133f77-3366-4b23-880c-e597d40c3a40\",\"type\":\"CDSView\"},{\"attributes\":{\"source\":{\"id\":\"7828bfc8-ca2c-43bc-ace7-00af6856b4a1\",\"type\":\"ColumnDataSource\"}},\"id\":\"18dfd325-e057-47ab-8003-1265ef70a8b6\",\"type\":\"CDSView\"},{\"attributes\":{\"callback\":null,\"end\":0.0014828846739999998,\"start\":-0.031104001274000002},\"id\":\"dac0b967-c6b4-4c63-899a-ad5c82698e20\",\"type\":\"Range1d\"},{\"attributes\":{\"above\":[{\"id\":\"54167f24-09bb-4e16-93f4-63c4a12c1d72\",\"type\":\"Legend\"}],\"below\":[{\"id\":\"dbacedaf-c5e3-4494-a829-f75c85a6bf14\",\"type\":\"LinearAxis\"}],\"left\":[{\"id\":\"b12dab12-4f4f-4009-9ac3-3649a0db9eab\",\"type\":\"LogAxis\"}],\"plot_height\":500,\"plot_width\":400,\"renderers\":[{\"id\":\"dbacedaf-c5e3-4494-a829-f75c85a6bf14\",\"type\":\"LinearAxis\"},{\"id\":\"3164ed4d-85b2-4657-8827-9cee8765c914\",\"type\":\"Grid\"},{\"id\":\"b12dab12-4f4f-4009-9ac3-3649a0db9eab\",\"type\":\"LogAxis\"},{\"id\":\"6193ce9d-075b-45f4-8e00-991ed1272e2e\",\"type\":\"Grid\"},{\"id\":\"621e4945-0354-4b65-819c-3b88d43724b1\",\"type\":\"BoxAnnotation\"},{\"id\":\"03aede67-f0b9-4f76-bbe7-06648aefd575\",\"type\":\"GlyphRenderer\"},{\"id\":\"6f10c544-f521-4469-b966-749b06af0c75\",\"type\":\"GlyphRenderer\"},{\"id\":\"9eb5f2a7-64bc-4db7-a3ec-2341a7643743\",\"type\":\"GlyphRenderer\"},{\"id\":\"8830eb89-1112-4216-bb50-850ad41614bb\",\"type\":\"GlyphRenderer\"},{\"id\":\"5eab3d22-6b5c-419f-9f95-c5cd3ca23f0c\",\"type\":\"GlyphRenderer\"},{\"id\":\"e32fa19c-5dd7-4551-948c-bb3880438035\",\"type\":\"GlyphRenderer\"},{\"id\":\"54167f24-09bb-4e16-93f4-63c4a12c1d72\",\"type\":\"Legend\"}],\"title\":{\"id\":\"5cfae512-3b70-4771-b7bb-537ea3a131a6\",\"type\":\"Title\"},\"toolbar\":{\"id\":\"7212a003-19bc-4dc9-9152-e10ed16492dd\",\"type\":\"Toolbar\"},\"toolbar_location\":null,\"x_range\":{\"id\":\"dac0b967-c6b4-4c63-899a-ad5c82698e20\",\"type\":\"Range1d\"},\"x_scale\":{\"id\":\"6840cf4f-ec56-4516-a0e0-118a548e5ca2\",\"type\":\"LinearScale\"},\"y_range\":{\"id\":\"64a672a1-e2ce-46ff-b3be-cb8842f6af70\",\"type\":\"Range1d\"},\"y_scale\":{\"id\":\"9cbb34ed-dbb2-4729-ad8f-8ab54495911c\",\"type\":\"LogScale\"}},\"id\":\"ae6b7b43-1026-4f1b-9846-1894e6362d92\",\"subtype\":\"Figure\",\"type\":\"Plot\"},{\"attributes\":{\"fill_alpha\":{\"value\":0.1},\"fill_color\":{\"value\":\"#1f77b4\"},\"line_alpha\":{\"value\":0.1},\"line_color\":{\"value\":\"#1f77b4\"},\"x\":{\"field\":\"x\"},\"y\":{\"field\":\"y\"}},\"id\":\"c4488edb-4bc9-49a3-a539-38350af4e505\",\"type\":\"Square\"},{\"attributes\":{\"line_color\":\"#4daf4a\",\"line_width\":1.5,\"x\":{\"field\":\"x\"},\"y\":{\"field\":\"y\"}},\"id\":\"a29b32d6-0765-4d0b-a82f-f92662e6496a\",\"type\":\"Line\"},{\"attributes\":{\"line_alpha\":0.3,\"line_color\":\"#377eb8\",\"line_width\":2,\"x\":{\"field\":\"x\"},\"y\":{\"field\":\"y\"}},\"id\":\"364bbebf-4174-4e76-b57f-33bde0fa39cd\",\"type\":\"Line\"},{\"attributes\":{\"source\":{\"id\":\"861e6a06-1e85-4884-aee2-b017992c2da0\",\"type\":\"ColumnDataSource\"}},\"id\":\"069e2ed3-675c-4056-9c9b-5dd1dad7f44f\",\"type\":\"CDSView\"},{\"attributes\":{\"callback\":null,\"data\":{\"x\":{\"__ndarray__\":\"Q8I8S3Jf+r7jtJQ1xoH6vpwnd+rkpPq+uppKFtrF+r64Obalr+b6viYOuoWODPu+Y6KoQ8k2+74E96PRY2f7vuR+NuM2ofu+5SO3fezn+74C3rCPS0D8vkrv0yjFsPy+EHpFJS1B/b6R3rXsoez9vhTmJqf4oP2+UxMwWM0w+b7xvwErrijpvgZqRhxWVOs+co8wKF7gDz/qPtIuu2AjP4l1tdHAyTM/FiuJU1gJQj/c07mcQfhJP7IaVeAbEk8/sKeiW2SAUT8ZxdV1ZopSP0qDRwmtD1M/A6SJuZz5Uj/vFvSZjcBRPwhDxwzgJk0/tUoRGQ3SQD+Kh5l/PNMhv4PpZk3UXFO/BhIy3j8nZ79Wbk+8fXB3v1iebVmxBIW/BcxEXeD8jr8XUkthSMiSv6pvkWIdGpS/XQrdXxzglL/PiJV7yC6Vv8CD3pzDFZW/gCwZB2SdlL9nGxW+EtaTv8H9nFw1ypK/T0xqqh+Ckb9cG43wtASQv1qabQRor4y/C3hSjBf+iL/bJXQO0/uEv57PwpYFsIC/F9w7HeI8eL+71nNVxiZtv6p87ef9kFG//PcQOIFOWT8ng04JQplxP7v4sh/vdn0/hAeTA/L8hD8EozLI1JKLP8joDs8DOZE/Yd14d2SslD/pc89p/8uXP3alVnmxGZo/SRqzV+Vjmz/BtHClExOcP5dftxxw3Jw/nRESWvBRnj/VIlvDMFOgPyzG9uPB2aE/UPuo5G6goz8Nyk03/ZelP2wDubwgv6c/qlYfQm4cqj89zSf9TcCsP68JOVQryq8/\",\"dtype\":\"float64\",\"shape\":[75]},\"y\":{\"__ndarray__\":\"GhExyth1ND/Sv8nbtpRIP2vylNV0PVE/aTum7souWD/At0SJ8fVgPw3Iuahxymc/MSNhhJWvcD/bTfBN02d3P2zb5nxnaoA/CD5h5MAGhz8NmeH1TyaQP+zrCsc9p5Y/LbKd76fGnz/bLW5ISEmmPww9YvTcQq8/JV2OstnstT8Er5Y7M8G+P0c+r3jqkcU/5h99k6ZBzj88bCIzFzjVP4enV8oyxN0//yH99nXg5D8qOpLLf0jtP5kqGJXUifQ/c9cS8kHP/D+/DpwzojQEQIEmwoanVwxA4lgXt9HgE0BSSZ2AJuIbQAMJih9jjiNA5q4l5INuK0AwTKYKRj0zQNv5fmq8/DpAaCJseHrtQkB/+zpwzoxKQM3MzMzMeFJAZmZmZmZqWEAAAAAAAFxeQM3MzMzMJmJAmpmZmZkfZUBmZmZmZhhoQDMzMzMzEWtAAAAAAAAKbkBmZmZmZoFwQM3MzMzM/XFAMzMzMzN6c0CamZmZmfZ0QAAAAAAAc3ZAZmZmZmbvd0DNzMzMzGt5QDMzMzMz6HpAmpmZmZlkfEAAAAAAAOF9QGZmZmZmXX9AZmZmZuZsgECamZmZGSuBQM3MzMxM6YFAAAAAAICngkAzMzMzs2WDQGZmZmbmI4RAmpmZmRnihEDNzMzMTKCFQAAAAACAXoZAMzMzM7Mch0BmZmZm5tqHQJqZmZkZmYhAzczMzExXiUAAAAAAgBWKQDMzMzOz04pAZmZmZuaRi0CamZmZGVCMQM3MzMxMDo1AAAAAAIDMjUAzMzMzs4qOQGZmZmbmSI9A\",\"dtype\":\"float64\",\"shape\":[75]}},\"selected\":{\"id\":\"bded6a1d-8fd8-4bc4-94bf-7ff932b25f68\",\"type\":\"Selection\"},\"selection_policy\":{\"id\":\"16089579-e533-46e4-b996-e64d056edfa1\",\"type\":\"UnionRenderers\"}},\"id\":\"1ca15d08-2d55-4a68-babe-c8bd38e4f7ba\",\"type\":\"ColumnDataSource\"},{\"attributes\":{\"callback\":null,\"data\":{\"x\":{\"__ndarray__\":\"lXge37qS977MbUoMv8P3vmco3nrT+fe+2FhsvVo3+L4ENGlkEH/4vicz9kBe1fi+ICIP/XZA+b5MC+ol+Mj5vnjOYl/Jevq+z3lUEHJm+76MU3f/zKL8vlDopwNxT/6+heGPwPVLAL/2OFthEdgBv+PwOpTFlwO/xEDSegCHBL/xPMTxhj8Dv+9fGJvu2vu+pRs0R3tSwL7yVtRWNqoJP7PXrEDLLCM/RsvHztBBND8zpj9/ysY9P1NTnxR0y0A/lIAdVw7eQD90mCgWL2g8P5t5qiP6+zE/NbHtvMzi8D6mfxUUiXg5vw93SSrAaFC/jQp+zYksX7+LkzXJEzFqv2ghipQpkHS/qWX1kxQNf78lz0EMfl+Hv+ImKQQANJG/jDQZ173qlr+dHNNNQQKbv84trM9gSZ2/2ULAvCjDnr+2GtpM+oWfv2/JtnvVpJ+/1YrRm9Mqn798UgJvPDCev+sLpyDNxZy/ncd/htn5mr96zMHlEdmYv6epXrGYbpa/MBknuyLDk7+/t1Zsrd6Qv4rAW5dPk4u/Vk/Z9XoThb9yKhlJyY58v9hd5Ard2Gy/f6fd+JO6Cj8HJh/JEZxuP+9aJcST134/Pn64qVZmhz8fw1vOQo6PP+bEWz3g55M/u9osjGT3lz83HMY/lLGbP+35knRqup4/yicfEw14oD+lUykG4FChP3LdtQBELKI/q/WXQL5Coz8SOLT2rqmkPwI0hEKIVKY/zVOSf6otqD8We0RZsyaqP1v0ds2pOaw/N52NKv1jrj9F1fsChFOwP3Qia1R6grE/\",\"dtype\":\"float64\",\"shape\":[75]},\"y\":{\"__ndarray__\":\"GhExyth1ND/Sv8nbtpRIP2vylNV0PVE/aTum7souWD/At0SJ8fVgPw3Iuahxymc/MSNhhJWvcD/bTfBN02d3P2zb5nxnaoA/CD5h5MAGhz8NmeH1TyaQP+zrCsc9p5Y/LbKd76fGnz/bLW5ISEmmPww9YvTcQq8/JV2OstnstT8Er5Y7M8G+P0c+r3jqkcU/5h99k6ZBzj88bCIzFzjVP4enV8oyxN0//yH99nXg5D8qOpLLf0jtP5kqGJXUifQ/c9cS8kHP/D+/DpwzojQEQIEmwoanVwxA4lgXt9HgE0BSSZ2AJuIbQAMJih9jjiNA5q4l5INuK0AwTKYKRj0zQNv5fmq8/DpAaCJseHrtQkB/+zpwzoxKQM3MzMzMeFJAZmZmZmZqWEAAAAAAAFxeQM3MzMzMJmJAmpmZmZkfZUBmZmZmZhhoQDMzMzMzEWtAAAAAAAAKbkBmZmZmZoFwQM3MzMzM/XFAMzMzMzN6c0CamZmZmfZ0QAAAAAAAc3ZAZmZmZmbvd0DNzMzMzGt5QDMzMzMz6HpAmpmZmZlkfEAAAAAAAOF9QGZmZmZmXX9AZmZmZuZsgECamZmZGSuBQM3MzMxM6YFAAAAAAICngkAzMzMzs2WDQGZmZmbmI4RAmpmZmRnihEDNzMzMTKCFQAAAAACAXoZAMzMzM7Mch0BmZmZm5tqHQJqZmZkZmYhAzczMzExXiUAAAAAAgBWKQDMzMzOz04pAZmZmZuaRi0CamZmZGVCMQM3MzMxMDo1AAAAAAIDMjUAzMzMzs4qOQGZmZmbmSI9A\",\"dtype\":\"float64\",\"shape\":[75]}},\"selected\":{\"id\":\"43d3599e-90d3-445d-a33e-86d4ee62cc6b\",\"type\":\"Selection\"},\"selection_policy\":{\"id\":\"390b3297-97e5-4f27-86e8-c1bd16125618\",\"type\":\"UnionRenderers\"}},\"id\":\"861e6a06-1e85-4884-aee2-b017992c2da0\",\"type\":\"ColumnDataSource\"},{\"attributes\":{\"fill_alpha\":{\"value\":0.7},\"fill_color\":{\"value\":\"#377eb8\"},\"line_alpha\":{\"value\":0.7},\"line_color\":{\"value\":\"#377eb8\"},\"x\":{\"field\":\"x\"},\"y\":{\"field\":\"y\"}},\"id\":\"60306c87-90c1-4002-8c91-066c3a669e3f\",\"type\":\"Triangle\"},{\"attributes\":{\"data_source\":{\"id\":\"b064548e-7363-4d79-8fd0-7d82300858c4\",\"type\":\"ColumnDataSource\"},\"glyph\":{\"id\":\"26c6c263-e88b-4cc6-9327-691e8f88f4eb\",\"type\":\"Square\"},\"hover_glyph\":null,\"muted_glyph\":null,\"nonselection_glyph\":{\"id\":\"c4488edb-4bc9-49a3-a539-38350af4e505\",\"type\":\"Square\"},\"selection_glyph\":null,\"view\":{\"id\":\"afa304b7-4b22-4227-af21-7a6d405c34c5\",\"type\":\"CDSView\"}},\"id\":\"88e3de2c-1f09-4f0d-a2c4-0eb2be514418\",\"type\":\"GlyphRenderer\"},{\"attributes\":{\"data_source\":{\"id\":\"861e6a06-1e85-4884-aee2-b017992c2da0\",\"type\":\"ColumnDataSource\"},\"glyph\":{\"id\":\"364bbebf-4174-4e76-b57f-33bde0fa39cd\",\"type\":\"Line\"},\"hover_glyph\":null,\"muted_glyph\":null,\"nonselection_glyph\":{\"id\":\"36879df0-a9d6-4ef3-b27f-0090b702af4e\",\"type\":\"Line\"},\"selection_glyph\":null,\"view\":{\"id\":\"069e2ed3-675c-4056-9c9b-5dd1dad7f44f\",\"type\":\"CDSView\"}},\"id\":\"755b6e74-cdf9-4195-ba88-7381a81e7846\",\"type\":\"GlyphRenderer\"},{\"attributes\":{\"active_drag\":\"auto\",\"active_inspect\":\"auto\",\"active_scroll\":\"auto\",\"active_tap\":\"auto\",\"tools\":[{\"id\":\"600b2646-5799-4b58-9cd5-48450e59a109\",\"type\":\"PanTool\"},{\"id\":\"40f7259f-42c1-4b7d-afbb-74c67d99d6ba\",\"type\":\"WheelZoomTool\"},{\"id\":\"801a7399-8d49-46dc-920a-40f313b325d0\",\"type\":\"BoxZoomTool\"},{\"id\":\"9be20472-87b4-4f91-b2f4-b752fba3c47d\",\"type\":\"SaveTool\"},{\"id\":\"2fd659e3-c7f8-47f5-879e-cb4acc5dea8a\",\"type\":\"ResetTool\"},{\"id\":\"5b331c79-01ac-4f26-a7c6-886d918985ac\",\"type\":\"HelpTool\"}]},\"id\":\"7212a003-19bc-4dc9-9152-e10ed16492dd\",\"type\":\"Toolbar\"},{\"attributes\":{\"label\":{\"value\":\"CRD\"},\"renderers\":[{\"id\":\"4b495c2f-16b8-41c1-b25f-815c398f1698\",\"type\":\"GlyphRenderer\"},{\"id\":\"ea3269d0-4305-46e2-934c-5d44be34ca0b\",\"type\":\"GlyphRenderer\"}]},\"id\":\"3b7b5b2d-4878-4b4e-af7c-ee95d8a4ba47\",\"type\":\"LegendItem\"},{\"attributes\":{},\"id\":\"6840cf4f-ec56-4516-a0e0-118a548e5ca2\",\"type\":\"LinearScale\"},{\"attributes\":{\"label\":{\"value\":\"WGT igg=1\"},\"renderers\":[{\"id\":\"88e3de2c-1f09-4f0d-a2c4-0eb2be514418\",\"type\":\"GlyphRenderer\"},{\"id\":\"b1d8a359-d565-4a7e-a31f-eee82d63ec03\",\"type\":\"GlyphRenderer\"}]},\"id\":\"452cc334-5fd7-4670-8e9f-3834ddc78b3c\",\"type\":\"LegendItem\"},{\"attributes\":{\"label\":{\"value\":\"WGT igg=10\"},\"renderers\":[{\"id\":\"961a7f43-1c89-4474-86ab-e5c7fbf54566\",\"type\":\"GlyphRenderer\"},{\"id\":\"755b6e74-cdf9-4195-ba88-7381a81e7846\",\"type\":\"GlyphRenderer\"}]},\"id\":\"8a0d8836-8077-40ac-b3bd-2299b54238dd\",\"type\":\"LegendItem\"},{\"attributes\":{},\"id\":\"600b2646-5799-4b58-9cd5-48450e59a109\",\"type\":\"PanTool\"},{\"attributes\":{\"items\":[{\"id\":\"f53959bf-2388-42b8-8e10-7b78762c8bb5\",\"type\":\"LegendItem\"},{\"id\":\"027db4e5-7d3d-4992-882c-264d16070c1d\",\"type\":\"LegendItem\"},{\"id\":\"5b69db40-34a4-4d8a-be0e-1e01c4dac16f\",\"type\":\"LegendItem\"}],\"label_text_font_size\":{\"value\":\"8pt\"},\"location\":\"top_center\",\"orientation\":\"horizontal\",\"plot\":{\"id\":\"ae6b7b43-1026-4f1b-9846-1894e6362d92\",\"subtype\":\"Figure\",\"type\":\"Plot\"}},\"id\":\"54167f24-09bb-4e16-93f4-63c4a12c1d72\",\"type\":\"Legend\"},{\"attributes\":{\"bottom_units\":\"screen\",\"fill_alpha\":{\"value\":0.5},\"fill_color\":{\"value\":\"lightgrey\"},\"left_units\":\"screen\",\"level\":\"overlay\",\"line_alpha\":{\"value\":1.0},\"line_color\":{\"value\":\"black\"},\"line_dash\":[4,4],\"line_width\":{\"value\":2},\"plot\":null,\"render_mode\":\"css\",\"right_units\":\"screen\",\"top_units\":\"screen\"},\"id\":\"621e4945-0354-4b65-819c-3b88d43724b1\",\"type\":\"BoxAnnotation\"},{\"attributes\":{},\"id\":\"9cbb34ed-dbb2-4729-ad8f-8ab54495911c\",\"type\":\"LogScale\"},{\"attributes\":{\"axis_label\":\"cooling rate [K/day]\",\"formatter\":{\"id\":\"9208f857-5a5e-485a-aa33-175d68912b2f\",\"type\":\"BasicTickFormatter\"},\"plot\":{\"id\":\"ae6b7b43-1026-4f1b-9846-1894e6362d92\",\"subtype\":\"Figure\",\"type\":\"Plot\"},\"ticker\":{\"id\":\"ff21c49f-513d-476b-b6b0-813363de182d\",\"type\":\"BasicTicker\"}},\"id\":\"dbacedaf-c5e3-4494-a829-f75c85a6bf14\",\"type\":\"LinearAxis\"},{\"attributes\":{},\"id\":\"ff21c49f-513d-476b-b6b0-813363de182d\",\"type\":\"BasicTicker\"},{\"attributes\":{\"overlay\":{\"id\":\"621e4945-0354-4b65-819c-3b88d43724b1\",\"type\":\"BoxAnnotation\"}},\"id\":\"801a7399-8d49-46dc-920a-40f313b325d0\",\"type\":\"BoxZoomTool\"},{\"attributes\":{},\"id\":\"9be20472-87b4-4f91-b2f4-b752fba3c47d\",\"type\":\"SaveTool\"},{\"attributes\":{},\"id\":\"2fd659e3-c7f8-47f5-879e-cb4acc5dea8a\",\"type\":\"ResetTool\"},{\"attributes\":{},\"id\":\"5b331c79-01ac-4f26-a7c6-886d918985ac\",\"type\":\"HelpTool\"},{\"attributes\":{},\"id\":\"66b5c636-b284-40ff-b668-dbf91eedef3b\",\"type\":\"UnionRenderers\"},{\"attributes\":{\"callback\":null,\"data\":{\"x\":{\"__ndarray__\":\"lXge37qS977MbUoMv8P3vmco3nrT+fe+2FhsvVo3+L4ENGlkEH/4vicz9kBe1fi+ICIP/XZA+b5MC+ol+Mj5vnjOYl/Jevq+z3lUEHJm+76MU3f/zKL8vlDopwNxT/6+heGPwPVLAL/2OFthEdgBv+PwOpTFlwO/xEDSegCHBL/xPMTxhj8Dv+9fGJvu2vu+pRs0R3tSwL7yVtRWNqoJP7PXrEDLLCM/RsvHztBBND8zpj9/ysY9P1NTnxR0y0A/lIAdVw7eQD90mCgWL2g8P5t5qiP6+zE/NbHtvMzi8D6mfxUUiXg5vw93SSrAaFC/jQp+zYksX7+LkzXJEzFqv2ghipQpkHS/qWX1kxQNf78lz0EMfl+Hv+ImKQQANJG/jDQZ173qlr+dHNNNQQKbv84trM9gSZ2/2ULAvCjDnr+2GtpM+oWfv2/JtnvVpJ+/1YrRm9Mqn798UgJvPDCev+sLpyDNxZy/ncd/htn5mr96zMHlEdmYv6epXrGYbpa/MBknuyLDk7+/t1Zsrd6Qv4rAW5dPk4u/Vk/Z9XoThb9yKhlJyY58v9hd5Ard2Gy/f6fd+JO6Cj8HJh/JEZxuP+9aJcST134/Pn64qVZmhz8fw1vOQo6PP+bEWz3g55M/u9osjGT3lz83HMY/lLGbP+35knRqup4/yicfEw14oD+lUykG4FChP3LdtQBELKI/q/WXQL5Coz8SOLT2rqmkPwI0hEKIVKY/zVOSf6otqD8We0RZsyaqP1v0ds2pOaw/N52NKv1jrj9F1fsChFOwP3Qia1R6grE/\",\"dtype\":\"float64\",\"shape\":[75]},\"y\":{\"__ndarray__\":\"GhExyth1ND/Sv8nbtpRIP2vylNV0PVE/aTum7souWD/At0SJ8fVgPw3Iuahxymc/MSNhhJWvcD/bTfBN02d3P2zb5nxnaoA/CD5h5MAGhz8NmeH1TyaQP+zrCsc9p5Y/LbKd76fGnz/bLW5ISEmmPww9YvTcQq8/JV2OstnstT8Er5Y7M8G+P0c+r3jqkcU/5h99k6ZBzj88bCIzFzjVP4enV8oyxN0//yH99nXg5D8qOpLLf0jtP5kqGJXUifQ/c9cS8kHP/D+/DpwzojQEQIEmwoanVwxA4lgXt9HgE0BSSZ2AJuIbQAMJih9jjiNA5q4l5INuK0AwTKYKRj0zQNv5fmq8/DpAaCJseHrtQkB/+zpwzoxKQM3MzMzMeFJAZmZmZmZqWEAAAAAAAFxeQM3MzMzMJmJAmpmZmZkfZUBmZmZmZhhoQDMzMzMzEWtAAAAAAAAKbkBmZmZmZoFwQM3MzMzM/XFAMzMzMzN6c0CamZmZmfZ0QAAAAAAAc3ZAZmZmZmbvd0DNzMzMzGt5QDMzMzMz6HpAmpmZmZlkfEAAAAAAAOF9QGZmZmZmXX9AZmZmZuZsgECamZmZGSuBQM3MzMxM6YFAAAAAAICngkAzMzMzs2WDQGZmZmbmI4RAmpmZmRnihEDNzMzMTKCFQAAAAACAXoZAMzMzM7Mch0BmZmZm5tqHQJqZmZkZmYhAzczMzExXiUAAAAAAgBWKQDMzMzOz04pAZmZmZuaRi0CamZmZGVCMQM3MzMxMDo1AAAAAAIDMjUAzMzMzs4qOQGZmZmbmSI9A\",\"dtype\":\"float64\",\"shape\":[75]}},\"selected\":{\"id\":\"6d1e9f25-28dd-47b8-9259-a20eb4fb9fec\",\"type\":\"Selection\"},\"selection_policy\":{\"id\":\"6cf90c9b-b72b-4bb1-abc4-46ede4aabac2\",\"type\":\"UnionRenderers\"}},\"id\":\"a8d07e75-4530-4f88-8e88-aa7071cddee8\",\"type\":\"ColumnDataSource\"},{\"attributes\":{\"callback\":null,\"data\":{\"x\":{\"__ndarray__\":\"lXge37qS977MbUoMv8P3vmco3nrT+fe+2FhsvVo3+L4ENGlkEH/4vicz9kBe1fi+ICIP/XZA+b5MC+ol+Mj5vnjOYl/Jevq+z3lUEHJm+76MU3f/zKL8vlDopwNxT/6+heGPwPVLAL/2OFthEdgBv+PwOpTFlwO/xEDSegCHBL/xPMTxhj8Dv+9fGJvu2vu+pRs0R3tSwL7yVtRWNqoJP7PXrEDLLCM/RsvHztBBND8zpj9/ysY9P1NTnxR0y0A/lIAdVw7eQD90mCgWL2g8P5t5qiP6+zE/NbHtvMzi8D6mfxUUiXg5vw93SSrAaFC/jQp+zYksX7+LkzXJEzFqv2ghipQpkHS/qWX1kxQNf78lz0EMfl+Hv+ImKQQANJG/jDQZ173qlr+dHNNNQQKbv84trM9gSZ2/2ULAvCjDnr+2GtpM+oWfv2/JtnvVpJ+/1YrRm9Mqn798UgJvPDCev+sLpyDNxZy/ncd/htn5mr96zMHlEdmYv6epXrGYbpa/MBknuyLDk7+/t1Zsrd6Qv4rAW5dPk4u/Vk/Z9XoThb9yKhlJyY58v9hd5Ard2Gy/f6fd+JO6Cj8HJh/JEZxuP+9aJcST134/Pn64qVZmhz8fw1vOQo6PP+bEWz3g55M/u9osjGT3lz83HMY/lLGbP+35knRqup4/yicfEw14oD+lUykG4FChP3LdtQBELKI/q/WXQL5Coz8SOLT2rqmkPwI0hEKIVKY/zVOSf6otqD8We0RZsyaqP1v0ds2pOaw/N52NKv1jrj9F1fsChFOwP3Qia1R6grE/\",\"dtype\":\"float64\",\"shape\":[75]},\"y\":{\"__ndarray__\":\"GhExyth1ND/Sv8nbtpRIP2vylNV0PVE/aTum7souWD/At0SJ8fVgPw3Iuahxymc/MSNhhJWvcD/bTfBN02d3P2zb5nxnaoA/CD5h5MAGhz8NmeH1TyaQP+zrCsc9p5Y/LbKd76fGnz/bLW5ISEmmPww9YvTcQq8/JV2OstnstT8Er5Y7M8G+P0c+r3jqkcU/5h99k6ZBzj88bCIzFzjVP4enV8oyxN0//yH99nXg5D8qOpLLf0jtP5kqGJXUifQ/c9cS8kHP/D+/DpwzojQEQIEmwoanVwxA4lgXt9HgE0BSSZ2AJuIbQAMJih9jjiNA5q4l5INuK0AwTKYKRj0zQNv5fmq8/DpAaCJseHrtQkB/+zpwzoxKQM3MzMzMeFJAZmZmZmZqWEAAAAAAAFxeQM3MzMzMJmJAmpmZmZkfZUBmZmZmZhhoQDMzMzMzEWtAAAAAAAAKbkBmZmZmZoFwQM3MzMzM/XFAMzMzMzN6c0CamZmZmfZ0QAAAAAAAc3ZAZmZmZmbvd0DNzMzMzGt5QDMzMzMz6HpAmpmZmZlkfEAAAAAAAOF9QGZmZmZmXX9AZmZmZuZsgECamZmZGSuBQM3MzMxM6YFAAAAAAICngkAzMzMzs2WDQGZmZmbmI4RAmpmZmRnihEDNzMzMTKCFQAAAAACAXoZAMzMzM7Mch0BmZmZm5tqHQJqZmZkZmYhAzczMzExXiUAAAAAAgBWKQDMzMzOz04pAZmZmZuaRi0CamZmZGVCMQM3MzMxMDo1AAAAAAIDMjUAzMzMzs4qOQGZmZmbmSI9A\",\"dtype\":\"float64\",\"shape\":[75]}},\"selected\":{\"id\":\"5f62ca45-f93b-4289-b1db-4b10cf79b5cc\",\"type\":\"Selection\"},\"selection_policy\":{\"id\":\"43037482-a2be-4b8b-86fc-caeacb36fb87\",\"type\":\"UnionRenderers\"}},\"id\":\"e97cd49e-da1e-4979-80d7-16a5d5c46d56\",\"type\":\"ColumnDataSource\"},{\"attributes\":{\"fill_alpha\":{\"value\":0.7},\"fill_color\":{\"value\":\"#377eb8\"},\"line_alpha\":{\"value\":0.7},\"line_color\":{\"value\":\"#377eb8\"},\"x\":{\"field\":\"x\"},\"y\":{\"field\":\"y\"}},\"id\":\"1e395e70-c91d-4ee6-8dc8-243e56845940\",\"type\":\"Triangle\"},{\"attributes\":{\"fill_alpha\":{\"value\":0.1},\"fill_color\":{\"value\":\"#1f77b4\"},\"line_alpha\":{\"value\":0.1},\"line_color\":{\"value\":\"#1f77b4\"},\"x\":{\"field\":\"x\"},\"y\":{\"field\":\"y\"}},\"id\":\"cb3a40e6-39cf-4314-8508-b84c7070c6b4\",\"type\":\"Triangle\"},{\"attributes\":{\"data_source\":{\"id\":\"e97cd49e-da1e-4979-80d7-16a5d5c46d56\",\"type\":\"ColumnDataSource\"},\"glyph\":{\"id\":\"1e395e70-c91d-4ee6-8dc8-243e56845940\",\"type\":\"Triangle\"},\"hover_glyph\":null,\"muted_glyph\":null,\"nonselection_glyph\":{\"id\":\"cb3a40e6-39cf-4314-8508-b84c7070c6b4\",\"type\":\"Triangle\"},\"selection_glyph\":null,\"view\":{\"id\":\"8d7399df-938e-42ba-accd-ecb2fd32a105\",\"type\":\"CDSView\"}},\"id\":\"5eab3d22-6b5c-419f-9f95-c5cd3ca23f0c\",\"type\":\"GlyphRenderer\"},{\"attributes\":{\"source\":{\"id\":\"e97cd49e-da1e-4979-80d7-16a5d5c46d56\",\"type\":\"ColumnDataSource\"}},\"id\":\"8d7399df-938e-42ba-accd-ecb2fd32a105\",\"type\":\"CDSView\"},{\"attributes\":{\"line_alpha\":0.3,\"line_color\":\"#377eb8\",\"line_width\":2,\"x\":{\"field\":\"x\"},\"y\":{\"field\":\"y\"}},\"id\":\"02666383-7dd2-450f-88bd-b9d4ff4dace6\",\"type\":\"Line\"},{\"attributes\":{\"children\":[{\"id\":\"93082b24-f32d-4f77-b825-48e89e21a7d2\",\"type\":\"Row\"}]},\"id\":\"45251520-11bc-4509-93b3-c47897fc5210\",\"type\":\"Column\"},{\"attributes\":{\"line_alpha\":0.1,\"line_color\":\"#1f77b4\",\"line_width\":2,\"x\":{\"field\":\"x\"},\"y\":{\"field\":\"y\"}},\"id\":\"6c492fcd-88e3-460d-b240-422acfc7a1bb\",\"type\":\"Line\"},{\"attributes\":{\"data_source\":{\"id\":\"a8d07e75-4530-4f88-8e88-aa7071cddee8\",\"type\":\"ColumnDataSource\"},\"glyph\":{\"id\":\"02666383-7dd2-450f-88bd-b9d4ff4dace6\",\"type\":\"Line\"},\"hover_glyph\":null,\"muted_glyph\":null,\"nonselection_glyph\":{\"id\":\"6c492fcd-88e3-460d-b240-422acfc7a1bb\",\"type\":\"Line\"},\"selection_glyph\":null,\"view\":{\"id\":\"20fa0e60-2efd-42fe-afa8-ba739a10e2a4\",\"type\":\"CDSView\"}},\"id\":\"e32fa19c-5dd7-4551-948c-bb3880438035\",\"type\":\"GlyphRenderer\"},{\"attributes\":{\"source\":{\"id\":\"a8d07e75-4530-4f88-8e88-aa7071cddee8\",\"type\":\"ColumnDataSource\"}},\"id\":\"20fa0e60-2efd-42fe-afa8-ba739a10e2a4\",\"type\":\"CDSView\"},{\"attributes\":{\"plot\":null,\"text\":\"\"},\"id\":\"95a0ca7e-4cbd-4ea7-8bdd-b81dd261efde\",\"type\":\"Title\"},{\"attributes\":{\"children\":[{\"id\":\"5ca99301-a1a4-4f20-8c0f-7234519a8266\",\"subtype\":\"Figure\",\"type\":\"Plot\"},{\"id\":\"ae6b7b43-1026-4f1b-9846-1894e6362d92\",\"subtype\":\"Figure\",\"type\":\"Plot\"}]},\"id\":\"93082b24-f32d-4f77-b825-48e89e21a7d2\",\"type\":\"Row\"},{\"attributes\":{\"label\":{\"value\":\"CRD\"},\"renderers\":[{\"id\":\"03aede67-f0b9-4f76-bbe7-06648aefd575\",\"type\":\"GlyphRenderer\"},{\"id\":\"6f10c544-f521-4469-b966-749b06af0c75\",\"type\":\"GlyphRenderer\"}]},\"id\":\"f53959bf-2388-42b8-8e10-7b78762c8bb5\",\"type\":\"LegendItem\"},{\"attributes\":{},\"id\":\"bded6a1d-8fd8-4bc4-94bf-7ff932b25f68\",\"type\":\"Selection\"},{\"attributes\":{},\"id\":\"5f7cda71-771d-4156-a008-dfe5e80c67b6\",\"type\":\"BasicTickFormatter\"},{\"attributes\":{\"label\":{\"value\":\"WGT igg=10\"},\"renderers\":[{\"id\":\"5eab3d22-6b5c-419f-9f95-c5cd3ca23f0c\",\"type\":\"GlyphRenderer\"},{\"id\":\"e32fa19c-5dd7-4551-948c-bb3880438035\",\"type\":\"GlyphRenderer\"}]},\"id\":\"5b69db40-34a4-4d8a-be0e-1e01c4dac16f\",\"type\":\"LegendItem\"},{\"attributes\":{},\"id\":\"da8d4cc9-ed87-4509-aad8-5a0de36f1f49\",\"type\":\"UnionRenderers\"},{\"attributes\":{},\"id\":\"21535c86-97e7-4e6b-a344-0be3bf7fe008\",\"type\":\"Selection\"},{\"attributes\":{},\"id\":\"ea88c07d-08c1-4a24-8ca6-8c6de55030a3\",\"type\":\"BasicTickFormatter\"},{\"attributes\":{\"ticker\":null},\"id\":\"6821b2a6-411e-4e91-9601-3c569eacad4f\",\"type\":\"LogTickFormatter\"},{\"attributes\":{},\"id\":\"16089579-e533-46e4-b996-e64d056edfa1\",\"type\":\"UnionRenderers\"},{\"attributes\":{},\"id\":\"9208f857-5a5e-485a-aa33-175d68912b2f\",\"type\":\"BasicTickFormatter\"},{\"attributes\":{},\"id\":\"95b76723-bc9c-4be0-a1c4-c70202328fe2\",\"type\":\"Selection\"},{\"attributes\":{},\"id\":\"b16bfe95-d4c0-4bb5-b804-2bb12602999a\",\"type\":\"Selection\"},{\"attributes\":{},\"id\":\"e9026fb7-9cf7-4b3c-9a81-9ef45128e878\",\"type\":\"UnionRenderers\"},{\"attributes\":{\"plot\":null,\"text\":\"\"},\"id\":\"5cfae512-3b70-4771-b7bb-537ea3a131a6\",\"type\":\"Title\"},{\"attributes\":{},\"id\":\"41c7cc09-c45e-4f31-8c01-7a90fa2375d6\",\"type\":\"Selection\"},{\"attributes\":{},\"id\":\"0cb8c1ff-74c6-4313-a106-0911a9f20523\",\"type\":\"UnionRenderers\"},{\"attributes\":{\"toolbar\":{\"id\":\"7e414177-dca3-4767-bbb7-9a294bdae6ed\",\"type\":\"ProxyToolbar\"},\"toolbar_location\":\"above\"},\"id\":\"c5a99041-bc37-4653-8557-3169f3458c5a\",\"type\":\"ToolbarBox\"},{\"attributes\":{},\"id\":\"0c12ab45-1ef6-4a42-87a3-de1c8e125174\",\"type\":\"ResetTool\"},{\"attributes\":{},\"id\":\"0ec0754a-4bb8-49a6-9bce-bb7e4fa69eff\",\"type\":\"Selection\"},{\"attributes\":{},\"id\":\"9e6718f5-0134-4da4-8c23-ec2106adcf9c\",\"type\":\"UnionRenderers\"},{\"attributes\":{},\"id\":\"6d1e9f25-28dd-47b8-9259-a20eb4fb9fec\",\"type\":\"Selection\"},{\"attributes\":{},\"id\":\"6cf90c9b-b72b-4bb1-abc4-46ede4aabac2\",\"type\":\"UnionRenderers\"},{\"attributes\":{},\"id\":\"68659a4c-a09b-4395-9ae4-0bb15bd6243e\",\"type\":\"Selection\"},{\"attributes\":{},\"id\":\"43037482-a2be-4b8b-86fc-caeacb36fb87\",\"type\":\"UnionRenderers\"},{\"attributes\":{},\"id\":\"867cc43e-0fde-42b6-af3f-8fba019af7c2\",\"type\":\"UnionRenderers\"},{\"attributes\":{\"tools\":[{\"id\":\"9b5d5872-3068-4f77-a2e6-807e4ee6f027\",\"type\":\"PanTool\"},{\"id\":\"9ec5c3ee-5606-4948-8807-6772026acc4d\",\"type\":\"WheelZoomTool\"},{\"id\":\"8cc17642-83da-40c8-bfd9-ef35dbdf241f\",\"type\":\"BoxZoomTool\"},{\"id\":\"4cd51939-8cc8-49a7-99e6-f70b038d8b89\",\"type\":\"SaveTool\"},{\"id\":\"0c12ab45-1ef6-4a42-87a3-de1c8e125174\",\"type\":\"ResetTool\"},{\"id\":\"88925708-543d-4dfe-9fbf-eecd496a0877\",\"type\":\"HelpTool\"},{\"id\":\"600b2646-5799-4b58-9cd5-48450e59a109\",\"type\":\"PanTool\"},{\"id\":\"40f7259f-42c1-4b7d-afbb-74c67d99d6ba\",\"type\":\"WheelZoomTool\"},{\"id\":\"801a7399-8d49-46dc-920a-40f313b325d0\",\"type\":\"BoxZoomTool\"},{\"id\":\"9be20472-87b4-4f91-b2f4-b752fba3c47d\",\"type\":\"SaveTool\"},{\"id\":\"2fd659e3-c7f8-47f5-879e-cb4acc5dea8a\",\"type\":\"ResetTool\"},{\"id\":\"5b331c79-01ac-4f26-a7c6-886d918985ac\",\"type\":\"HelpTool\"}]},\"id\":\"7e414177-dca3-4767-bbb7-9a294bdae6ed\",\"type\":\"ProxyToolbar\"},{\"attributes\":{\"children\":[{\"id\":\"c5a99041-bc37-4653-8557-3169f3458c5a\",\"type\":\"ToolbarBox\"},{\"id\":\"45251520-11bc-4509-93b3-c47897fc5210\",\"type\":\"Column\"}]},\"id\":\"05b5bdc3-9b77-48c9-88c5-61150fcbbe57\",\"type\":\"Column\"},{\"attributes\":{},\"id\":\"4cd51939-8cc8-49a7-99e6-f70b038d8b89\",\"type\":\"SaveTool\"},{\"attributes\":{\"overlay\":{\"id\":\"425d79c1-2502-4d43-8297-75646661d7a1\",\"type\":\"BoxAnnotation\"}},\"id\":\"8cc17642-83da-40c8-bfd9-ef35dbdf241f\",\"type\":\"BoxZoomTool\"},{\"attributes\":{},\"id\":\"88925708-543d-4dfe-9fbf-eecd496a0877\",\"type\":\"HelpTool\"},{\"attributes\":{},\"id\":\"eb8aad42-9ebc-4882-8c24-4ffe39ca4dcd\",\"type\":\"UnionRenderers\"},{\"attributes\":{},\"id\":\"40868aef-e694-4347-8e26-905e1f3b3bd3\",\"type\":\"Selection\"},{\"attributes\":{\"source\":{\"id\":\"ecb834e8-c6e3-49ac-87ec-cc14f9321e0d\",\"type\":\"ColumnDataSource\"}},\"id\":\"8cb86aa6-1c80-4a48-960e-af2e9b83693d\",\"type\":\"CDSView\"},{\"attributes\":{},\"id\":\"519e26d4-fb96-47ac-9f94-e7e3334d3e21\",\"type\":\"Selection\"},{\"attributes\":{\"callback\":null,\"data\":{\"x\":{\"__ndarray__\":\"0RhMvZdX9b5UmmTLq3r1vhbb70QGmPW+itpXtpq69b5fn0Q2/OT1vvvASVTrGva+kyaXuqlh9r6vlJmLccD2vjQumXw/Qfe+4nB6jtfx974bhm2RIOX4vt3VEGkINfq+PVpj0d8E/L5HPhvzxHD+vmgdPyKwLgC/Y2zmnoi4/r6Acb5/gQL2vkWIBOLqTra+kUB6dYhPBD9Jg/zoqxYePw+jy8gCljA/pFlzMIBbPz9rA6+/5n5GP4MrHqsU+kk/IdxMUdeTSz8LquWbA1dKP0WGutHqvkY/PxqCOiwyQD/4PWn8r4IkP82hOuzI6zi/BTYOzWGkU7/IOku6taZjv/trMlkOA3G/hL6YzzAze789sBtqn4SFv6g7VPUgdJC/gK7tVXpZlr/Rg4MJGGeavxFrH2LraJy/sFDJC3mcnb/n3tBPyR2evzzVCJoiAp6/4zFmv6xYnb841uHCYzqcvw6/OEQeuZq/3symK/HjmL9ZL+mcXcaWv31pmyz/a5S/xdDYAVHckb8tKCCuGz2Ov9j6jIXNcoi/xJhncmBjgr+f7LnXiCp4v9n+dz/MMGa/hLuqyuBIQz9rx2blpFlwP19+ZtLfuX4/JPPu5q7Hhj8Lxa7RmGeOP+e+PGeCFpM/utRc/Nrrlj8brrIP4mWaP1MLphNpGJ0/zU64t1janj9HvHJGXwSgP/Ky0BU/oqA/KkmmXESIoT8KPaIPhM6iP3ETNLShZaQ/7w4PskM0pj8tqL7fpyuoPwgRC91uR6o/4K3VGT2JrD+laLUlSvmuP70iG+9e07A/\",\"dtype\":\"float64\",\"shape\":[75]},\"y\":{\"__ndarray__\":\"GhExyth1ND/Sv8nbtpRIP2vylNV0PVE/aTum7souWD/At0SJ8fVgPw3Iuahxymc/MSNhhJWvcD/bTfBN02d3P2zb5nxnaoA/CD5h5MAGhz8NmeH1TyaQP+zrCsc9p5Y/LbKd76fGnz/bLW5ISEmmPww9YvTcQq8/JV2OstnstT8Er5Y7M8G+P0c+r3jqkcU/5h99k6ZBzj88bCIzFzjVP4enV8oyxN0//yH99nXg5D8qOpLLf0jtP5kqGJXUifQ/c9cS8kHP/D+/DpwzojQEQIEmwoanVwxA4lgXt9HgE0BSSZ2AJuIbQAMJih9jjiNA5q4l5INuK0AwTKYKRj0zQNv5fmq8/DpAaCJseHrtQkB/+zpwzoxKQM3MzMzMeFJAZmZmZmZqWEAAAAAAAFxeQM3MzMzMJmJAmpmZmZkfZUBmZmZmZhhoQDMzMzMzEWtAAAAAAAAKbkBmZmZmZoFwQM3MzMzM/XFAMzMzMzN6c0CamZmZmfZ0QAAAAAAAc3ZAZmZmZmbvd0DNzMzMzGt5QDMzMzMz6HpAmpmZmZlkfEAAAAAAAOF9QGZmZmZmXX9AZmZmZuZsgECamZmZGSuBQM3MzMxM6YFAAAAAAICngkAzMzMzs2WDQGZmZmbmI4RAmpmZmRnihEDNzMzMTKCFQAAAAACAXoZAMzMzM7Mch0BmZmZm5tqHQJqZmZkZmYhAzczMzExXiUAAAAAAgBWKQDMzMzOz04pAZmZmZuaRi0CamZmZGVCMQM3MzMxMDo1AAAAAAIDMjUAzMzMzs4qOQGZmZmbmSI9A\",\"dtype\":\"float64\",\"shape\":[75]}},\"selected\":{\"id\":\"68659a4c-a09b-4395-9ae4-0bb15bd6243e\",\"type\":\"Selection\"},\"selection_policy\":{\"id\":\"867cc43e-0fde-42b6-af3f-8fba019af7c2\",\"type\":\"UnionRenderers\"}},\"id\":\"616b5eef-df58-4a08-9918-9a8fc8d337e6\",\"type\":\"ColumnDataSource\"},{\"attributes\":{\"line_color\":\"#4daf4a\",\"line_width\":1.5,\"x\":{\"field\":\"x\"},\"y\":{\"field\":\"y\"}},\"id\":\"1c794cc4-080a-4a41-a58e-4726afd61b7c\",\"type\":\"Line\"},{\"attributes\":{\"fill_alpha\":{\"value\":0.1},\"fill_color\":{\"value\":\"#1f77b4\"},\"line_alpha\":{\"value\":0.1},\"line_color\":{\"value\":\"#1f77b4\"},\"x\":{\"field\":\"x\"},\"y\":{\"field\":\"y\"}},\"id\":\"18b88ddd-6f07-48ac-a460-03dbe120ecdf\",\"type\":\"Circle\"},{\"attributes\":{\"line_alpha\":0.1,\"line_color\":\"#1f77b4\",\"line_width\":1.5,\"x\":{\"field\":\"x\"},\"y\":{\"field\":\"y\"}},\"id\":\"1f4adf18-308c-4c2a-b761-a21aa22a6535\",\"type\":\"Line\"},{\"attributes\":{},\"id\":\"5f62ca45-f93b-4289-b1db-4b10cf79b5cc\",\"type\":\"Selection\"},{\"attributes\":{\"bottom_units\":\"screen\",\"fill_alpha\":{\"value\":0.5},\"fill_color\":{\"value\":\"lightgrey\"},\"left_units\":\"screen\",\"level\":\"overlay\",\"line_alpha\":{\"value\":1.0},\"line_color\":{\"value\":\"black\"},\"line_dash\":[4,4],\"line_width\":{\"value\":2},\"plot\":null,\"render_mode\":\"css\",\"right_units\":\"screen\",\"top_units\":\"screen\"},\"id\":\"425d79c1-2502-4d43-8297-75646661d7a1\",\"type\":\"BoxAnnotation\"},{\"attributes\":{\"source\":{\"id\":\"616b5eef-df58-4a08-9918-9a8fc8d337e6\",\"type\":\"ColumnDataSource\"}},\"id\":\"cc31a0ea-ef9c-4409-be1b-69d3f4ab714d\",\"type\":\"CDSView\"},{\"attributes\":{},\"id\":\"390b3297-97e5-4f27-86e8-c1bd16125618\",\"type\":\"UnionRenderers\"},{\"attributes\":{\"data_source\":{\"id\":\"ecb834e8-c6e3-49ac-87ec-cc14f9321e0d\",\"type\":\"ColumnDataSource\"},\"glyph\":{\"id\":\"d90f26ca-d48e-4677-9539-6b86447597b2\",\"type\":\"Circle\"},\"hover_glyph\":null,\"muted_glyph\":null,\"nonselection_glyph\":{\"id\":\"18b88ddd-6f07-48ac-a460-03dbe120ecdf\",\"type\":\"Circle\"},\"selection_glyph\":null,\"view\":{\"id\":\"8cb86aa6-1c80-4a48-960e-af2e9b83693d\",\"type\":\"CDSView\"}},\"id\":\"03aede67-f0b9-4f76-bbe7-06648aefd575\",\"type\":\"GlyphRenderer\"},{\"attributes\":{\"fill_alpha\":{\"value\":0.7},\"fill_color\":{\"value\":\"#4daf4a\"},\"line_alpha\":{\"value\":0.7},\"line_color\":{\"value\":\"#4daf4a\"},\"x\":{\"field\":\"x\"},\"y\":{\"field\":\"y\"}},\"id\":\"d90f26ca-d48e-4677-9539-6b86447597b2\",\"type\":\"Circle\"},{\"attributes\":{},\"id\":\"f52f15b9-ea36-4c85-9d11-189a210d0e72\",\"type\":\"UnionRenderers\"},{\"attributes\":{\"fill_alpha\":{\"value\":0.1},\"fill_color\":{\"value\":\"#1f77b4\"},\"line_alpha\":{\"value\":0.1},\"line_color\":{\"value\":\"#1f77b4\"},\"x\":{\"field\":\"x\"},\"y\":{\"field\":\"y\"}},\"id\":\"e5ee46a8-63e5-4498-99b1-916d24805cfa\",\"type\":\"Square\"},{\"attributes\":{\"data_source\":{\"id\":\"616b5eef-df58-4a08-9918-9a8fc8d337e6\",\"type\":\"ColumnDataSource\"},\"glyph\":{\"id\":\"7d56ecb0-3bad-4d77-aab9-86ae6335dbb3\",\"type\":\"Square\"},\"hover_glyph\":null,\"muted_glyph\":null,\"nonselection_glyph\":{\"id\":\"e5ee46a8-63e5-4498-99b1-916d24805cfa\",\"type\":\"Square\"},\"selection_glyph\":null,\"view\":{\"id\":\"cc31a0ea-ef9c-4409-be1b-69d3f4ab714d\",\"type\":\"CDSView\"}},\"id\":\"9eb5f2a7-64bc-4db7-a3ec-2341a7643743\",\"type\":\"GlyphRenderer\"},{\"attributes\":{\"data_source\":{\"id\":\"696005dd-5e80-4ae0-990b-cd7f7571df48\",\"type\":\"ColumnDataSource\"},\"glyph\":{\"id\":\"bbe7888f-7d5f-4b6d-8ed4-7edc1203c273\",\"type\":\"Circle\"},\"hover_glyph\":null,\"muted_glyph\":null,\"nonselection_glyph\":{\"id\":\"f09c6093-26c8-4eb0-afb7-2769c9d9698b\",\"type\":\"Circle\"},\"selection_glyph\":null,\"view\":{\"id\":\"2fc6a5b8-26cb-47ae-9a33-e7b703dfd2d8\",\"type\":\"CDSView\"}},\"id\":\"4b495c2f-16b8-41c1-b25f-815c398f1698\",\"type\":\"GlyphRenderer\"},{\"attributes\":{\"callback\":null,\"data\":{\"x\":{\"__ndarray__\":\"0RhMvZdX9b5UmmTLq3r1vhbb70QGmPW+itpXtpq69b5fn0Q2/OT1vvvASVTrGva+kyaXuqlh9r6vlJmLccD2vjQumXw/Qfe+4nB6jtfx974bhm2RIOX4vt3VEGkINfq+PVpj0d8E/L5HPhvzxHD+vmgdPyKwLgC/Y2zmnoi4/r6Acb5/gQL2vkWIBOLqTra+kUB6dYhPBD9Jg/zoqxYePw+jy8gCljA/pFlzMIBbPz9rA6+/5n5GP4MrHqsU+kk/IdxMUdeTSz8LquWbA1dKP0WGutHqvkY/PxqCOiwyQD/4PWn8r4IkP82hOuzI6zi/BTYOzWGkU7/IOku6taZjv/trMlkOA3G/hL6YzzAze789sBtqn4SFv6g7VPUgdJC/gK7tVXpZlr/Rg4MJGGeavxFrH2LraJy/sFDJC3mcnb/n3tBPyR2evzzVCJoiAp6/4zFmv6xYnb841uHCYzqcvw6/OEQeuZq/3symK/HjmL9ZL+mcXcaWv31pmyz/a5S/xdDYAVHckb8tKCCuGz2Ov9j6jIXNcoi/xJhncmBjgr+f7LnXiCp4v9n+dz/MMGa/hLuqyuBIQz9rx2blpFlwP19+ZtLfuX4/JPPu5q7Hhj8Lxa7RmGeOP+e+PGeCFpM/utRc/Nrrlj8brrIP4mWaP1MLphNpGJ0/zU64t1janj9HvHJGXwSgP/Ky0BU/oqA/KkmmXESIoT8KPaIPhM6iP3ETNLShZaQ/7w4PskM0pj8tqL7fpyuoPwgRC91uR6o/4K3VGT2JrD+laLUlSvmuP70iG+9e07A/\",\"dtype\":\"float64\",\"shape\":[75]},\"y\":{\"__ndarray__\":\"GhExyth1ND/Sv8nbtpRIP2vylNV0PVE/aTum7souWD/At0SJ8fVgPw3Iuahxymc/MSNhhJWvcD/bTfBN02d3P2zb5nxnaoA/CD5h5MAGhz8NmeH1TyaQP+zrCsc9p5Y/LbKd76fGnz/bLW5ISEmmPww9YvTcQq8/JV2OstnstT8Er5Y7M8G+P0c+r3jqkcU/5h99k6ZBzj88bCIzFzjVP4enV8oyxN0//yH99nXg5D8qOpLLf0jtP5kqGJXUifQ/c9cS8kHP/D+/DpwzojQEQIEmwoanVwxA4lgXt9HgE0BSSZ2AJuIbQAMJih9jjiNA5q4l5INuK0AwTKYKRj0zQNv5fmq8/DpAaCJseHrtQkB/+zpwzoxKQM3MzMzMeFJAZmZmZmZqWEAAAAAAAFxeQM3MzMzMJmJAmpmZmZkfZUBmZmZmZhhoQDMzMzMzEWtAAAAAAAAKbkBmZmZmZoFwQM3MzMzM/XFAMzMzMzN6c0CamZmZmfZ0QAAAAAAAc3ZAZmZmZmbvd0DNzMzMzGt5QDMzMzMz6HpAmpmZmZlkfEAAAAAAAOF9QGZmZmZmXX9AZmZmZuZsgECamZmZGSuBQM3MzMxM6YFAAAAAAICngkAzMzMzs2WDQGZmZmbmI4RAmpmZmRnihEDNzMzMTKCFQAAAAACAXoZAMzMzM7Mch0BmZmZm5tqHQJqZmZkZmYhAzczMzExXiUAAAAAAgBWKQDMzMzOz04pAZmZmZuaRi0CamZmZGVCMQM3MzMxMDo1AAAAAAIDMjUAzMzMzs4qOQGZmZmbmSI9A\",\"dtype\":\"float64\",\"shape\":[75]}},\"selected\":{\"id\":\"0ec0754a-4bb8-49a6-9bce-bb7e4fa69eff\",\"type\":\"Selection\"},\"selection_policy\":{\"id\":\"f52f15b9-ea36-4c85-9d11-189a210d0e72\",\"type\":\"UnionRenderers\"}},\"id\":\"72abf605-d3c4-4e04-b555-ba57c6a70f18\",\"type\":\"ColumnDataSource\"},{\"attributes\":{\"data_source\":{\"id\":\"72abf605-d3c4-4e04-b555-ba57c6a70f18\",\"type\":\"ColumnDataSource\"},\"glyph\":{\"id\":\"87326e57-55be-46aa-8f6e-97615e4fc8e6\",\"type\":\"Line\"},\"hover_glyph\":null,\"muted_glyph\":null,\"nonselection_glyph\":{\"id\":\"804cce2b-e08f-46c6-830a-c3a192904511\",\"type\":\"Line\"},\"selection_glyph\":null,\"view\":{\"id\":\"21c6b612-a94e-41d4-aae2-fb537ed43fc6\",\"type\":\"CDSView\"}},\"id\":\"8830eb89-1112-4216-bb50-850ad41614bb\",\"type\":\"GlyphRenderer\"},{\"attributes\":{\"line_alpha\":0.6,\"line_color\":\"#984ea3\",\"line_width\":3,\"x\":{\"field\":\"x\"},\"y\":{\"field\":\"y\"}},\"id\":\"87326e57-55be-46aa-8f6e-97615e4fc8e6\",\"type\":\"Line\"},{\"attributes\":{\"callback\":null,\"data\":{\"x\":{\"__ndarray__\":\"Q8I8S3Jf+r7jtJQ1xoH6vpwnd+rkpPq+uppKFtrF+r64Obalr+b6viYOuoWODPu+Y6KoQ8k2+74E96PRY2f7vuR+NuM2ofu+5SO3fezn+74C3rCPS0D8vkrv0yjFsPy+EHpFJS1B/b6R3rXsoez9vhTmJqf4oP2+UxMwWM0w+b7xvwErrijpvgZqRhxWVOs+co8wKF7gDz/qPtIuu2AjP4l1tdHAyTM/FiuJU1gJQj/c07mcQfhJP7IaVeAbEk8/sKeiW2SAUT8ZxdV1ZopSP0qDRwmtD1M/A6SJuZz5Uj/vFvSZjcBRPwhDxwzgJk0/tUoRGQ3SQD+Kh5l/PNMhv4PpZk3UXFO/BhIy3j8nZ79Wbk+8fXB3v1iebVmxBIW/BcxEXeD8jr8XUkthSMiSv6pvkWIdGpS/XQrdXxzglL/PiJV7yC6Vv8CD3pzDFZW/gCwZB2SdlL9nGxW+EtaTv8H9nFw1ypK/T0xqqh+Ckb9cG43wtASQv1qabQRor4y/C3hSjBf+iL/bJXQO0/uEv57PwpYFsIC/F9w7HeI8eL+71nNVxiZtv6p87ef9kFG//PcQOIFOWT8ng04JQplxP7v4sh/vdn0/hAeTA/L8hD8EozLI1JKLP8joDs8DOZE/Yd14d2SslD/pc89p/8uXP3alVnmxGZo/SRqzV+Vjmz/BtHClExOcP5dftxxw3Jw/nRESWvBRnj/VIlvDMFOgPyzG9uPB2aE/UPuo5G6goz8Nyk03/ZelP2wDubwgv6c/qlYfQm4cqj89zSf9TcCsP68JOVQryq8/\",\"dtype\":\"float64\",\"shape\":[75]},\"y\":{\"__ndarray__\":\"GhExyth1ND/Sv8nbtpRIP2vylNV0PVE/aTum7souWD/At0SJ8fVgPw3Iuahxymc/MSNhhJWvcD/bTfBN02d3P2zb5nxnaoA/CD5h5MAGhz8NmeH1TyaQP+zrCsc9p5Y/LbKd76fGnz/bLW5ISEmmPww9YvTcQq8/JV2OstnstT8Er5Y7M8G+P0c+r3jqkcU/5h99k6ZBzj88bCIzFzjVP4enV8oyxN0//yH99nXg5D8qOpLLf0jtP5kqGJXUifQ/c9cS8kHP/D+/DpwzojQEQIEmwoanVwxA4lgXt9HgE0BSSZ2AJuIbQAMJih9jjiNA5q4l5INuK0AwTKYKRj0zQNv5fmq8/DpAaCJseHrtQkB/+zpwzoxKQM3MzMzMeFJAZmZmZmZqWEAAAAAAAFxeQM3MzMzMJmJAmpmZmZkfZUBmZmZmZhhoQDMzMzMzEWtAAAAAAAAKbkBmZmZmZoFwQM3MzMzM/XFAMzMzMzN6c0CamZmZmfZ0QAAAAAAAc3ZAZmZmZmbvd0DNzMzMzGt5QDMzMzMz6HpAmpmZmZlkfEAAAAAAAOF9QGZmZmZmXX9AZmZmZuZsgECamZmZGSuBQM3MzMxM6YFAAAAAAICngkAzMzMzs2WDQGZmZmbmI4RAmpmZmRnihEDNzMzMTKCFQAAAAACAXoZAMzMzM7Mch0BmZmZm5tqHQJqZmZkZmYhAzczMzExXiUAAAAAAgBWKQDMzMzOz04pAZmZmZuaRi0CamZmZGVCMQM3MzMxMDo1AAAAAAIDMjUAzMzMzs4qOQGZmZmbmSI9A\",\"dtype\":\"float64\",\"shape\":[75]}},\"selected\":{\"id\":\"95b76723-bc9c-4be0-a1c4-c70202328fe2\",\"type\":\"Selection\"},\"selection_policy\":{\"id\":\"0cb8c1ff-74c6-4313-a106-0911a9f20523\",\"type\":\"UnionRenderers\"}},\"id\":\"3709d710-354d-407a-91b4-f3830689b5a2\",\"type\":\"ColumnDataSource\"},{\"attributes\":{},\"id\":\"43d3599e-90d3-445d-a33e-86d4ee62cc6b\",\"type\":\"Selection\"},{\"attributes\":{\"fill_alpha\":{\"value\":0.7},\"fill_color\":{\"value\":\"#984ea3\"},\"line_alpha\":{\"value\":0.7},\"line_color\":{\"value\":\"#984ea3\"},\"x\":{\"field\":\"x\"},\"y\":{\"field\":\"y\"}},\"id\":\"7d56ecb0-3bad-4d77-aab9-86ae6335dbb3\",\"type\":\"Square\"},{\"attributes\":{\"data_source\":{\"id\":\"3709d710-354d-407a-91b4-f3830689b5a2\",\"type\":\"ColumnDataSource\"},\"glyph\":{\"id\":\"1c794cc4-080a-4a41-a58e-4726afd61b7c\",\"type\":\"Line\"},\"hover_glyph\":null,\"muted_glyph\":null,\"nonselection_glyph\":{\"id\":\"1f4adf18-308c-4c2a-b761-a21aa22a6535\",\"type\":\"Line\"},\"selection_glyph\":null,\"view\":{\"id\":\"6488cfda-5d5c-4907-b73b-4a9401b5debe\",\"type\":\"CDSView\"}},\"id\":\"6f10c544-f521-4469-b966-749b06af0c75\",\"type\":\"GlyphRenderer\"},{\"attributes\":{\"source\":{\"id\":\"3709d710-354d-407a-91b4-f3830689b5a2\",\"type\":\"ColumnDataSource\"}},\"id\":\"6488cfda-5d5c-4907-b73b-4a9401b5debe\",\"type\":\"CDSView\"},{\"attributes\":{\"source\":{\"id\":\"72abf605-d3c4-4e04-b555-ba57c6a70f18\",\"type\":\"ColumnDataSource\"}},\"id\":\"21c6b612-a94e-41d4-aae2-fb537ed43fc6\",\"type\":\"CDSView\"},{\"attributes\":{\"label\":{\"value\":\"WGT igg=1\"},\"renderers\":[{\"id\":\"9eb5f2a7-64bc-4db7-a3ec-2341a7643743\",\"type\":\"GlyphRenderer\"},{\"id\":\"8830eb89-1112-4216-bb50-850ad41614bb\",\"type\":\"GlyphRenderer\"}]},\"id\":\"027db4e5-7d3d-4992-882c-264d16070c1d\",\"type\":\"LegendItem\"},{\"attributes\":{\"line_alpha\":0.1,\"line_color\":\"#1f77b4\",\"line_width\":3,\"x\":{\"field\":\"x\"},\"y\":{\"field\":\"y\"}},\"id\":\"804cce2b-e08f-46c6-830a-c3a192904511\",\"type\":\"Line\"}],\"root_ids\":[\"05b5bdc3-9b77-48c9-88c5-61150fcbbe57\"]},\"title\":\"Bokeh Application\",\"version\":\"0.12.16\"}};\n",
       "  var render_items = [{\"docid\":\"a26c415b-15b0-4a8a-9fff-f1ff8783f7c8\",\"elementid\":\"7c6fdba8-14a0-4212-aa2d-8fb9367d209e\",\"modelid\":\"05b5bdc3-9b77-48c9-88c5-61150fcbbe57\"}];\n",
       "  root.Bokeh.embed.embed_items_notebook(docs_json, render_items);\n",
       "\n",
       "  }\n",
       "  if (root.Bokeh !== undefined) {\n",
       "    embed_document(root);\n",
       "  } else {\n",
       "    var attempts = 0;\n",
       "    var timer = setInterval(function(root) {\n",
       "      if (root.Bokeh !== undefined) {\n",
       "        embed_document(root);\n",
       "        clearInterval(timer);\n",
       "      }\n",
       "      attempts++;\n",
       "      if (attempts > 100) {\n",
       "        console.log(\"Bokeh: ERROR: Unable to run BokehJS code because BokehJS library is missing\")\n",
       "        clearInterval(timer);\n",
       "      }\n",
       "    }, 10, root)\n",
       "  }\n",
       "})(window);"
      ],
      "application/vnd.bokehjs_exec.v0+json": ""
     },
     "metadata": {
      "application/vnd.bokehjs_exec.v0+json": {
       "id": "05b5bdc3-9b77-48c9-88c5-61150fcbbe57"
      }
     },
     "output_type": "display_data"
    },
    {
     "data": {
      "text/markdown": [
       "*FIGURE.* Cooling rates. g=3"
      ],
      "text/plain": [
       "<IPython.core.display.Markdown object>"
      ]
     },
     "metadata": {},
     "output_type": "display_data"
    },
    {
     "data": {
      "text/html": [
       "\n",
       "<div class=\"bk-root\">\n",
       "    <div class=\"bk-plotdiv\" id=\"75f0787b-29a4-4260-9382-f4d4f99a17e3\"></div>\n",
       "</div>"
      ]
     },
     "metadata": {},
     "output_type": "display_data"
    },
    {
     "data": {
      "application/javascript": [
       "(function(root) {\n",
       "  function embed_document(root) {\n",
       "    \n",
       "  var docs_json = {\"8740d543-cf79-413c-bb5d-7b85e756dd9e\":{\"roots\":{\"references\":[{\"attributes\":{\"line_color\":\"#4daf4a\",\"line_width\":1.5,\"x\":{\"field\":\"x\"},\"y\":{\"field\":\"y\"}},\"id\":\"0e92ad9b-c3db-4abc-8163-19587f284a8e\",\"type\":\"Line\"},{\"attributes\":{\"callback\":null,\"end\":0.020710408179,\"start\":-0.004076324079},\"id\":\"de45c6bd-c365-4d07-a383-d16621bc2679\",\"type\":\"Range1d\"},{\"attributes\":{},\"id\":\"fade3101-d354-4712-8be3-d99f78e6dc5c\",\"type\":\"UnionRenderers\"},{\"attributes\":{\"line_alpha\":0.1,\"line_color\":\"#1f77b4\",\"line_width\":1.5,\"x\":{\"field\":\"x\"},\"y\":{\"field\":\"y\"}},\"id\":\"45fb609a-9c73-4f1e-bfe8-a12e4c483ec9\",\"type\":\"Line\"},{\"attributes\":{\"axis_label\":\"pressure [mb]\",\"formatter\":{\"id\":\"91302629-6594-4354-a51d-b56e12a98520\",\"type\":\"LogTickFormatter\"},\"plot\":{\"id\":\"56d6a443-c3cd-4d08-b958-eaa6ac509fa7\",\"subtype\":\"Figure\",\"type\":\"Plot\"},\"ticker\":{\"id\":\"cfc1eb20-a6fb-4ce9-9e07-6c0b778f6568\",\"type\":\"LogTicker\"}},\"id\":\"58954bd3-acb1-49f6-a338-6a8d757746ae\",\"type\":\"LogAxis\"},{\"attributes\":{\"callback\":null,\"data\":{\"x\":{\"__ndarray__\":\"ZNoXxXTeVL+3M909EeNUv09vI75D7FS/ChxR5Wn1VL+X7IwxX/5Uv/jH6ZYeB1W/kxRud6MPVb/ZteFa6xdVvzASS6PxH1W/4ezu87MnVb9NSP+UMC9Vv3YkfIZnNlW/7LaKTGA9Vb9Tw0g4t0VVv//iTCWZW1W/J/vSF5VfVb8Nhk20UfxUv+I75Ddb8VO/AIaApNHiUb/GwxC8R51Mv5L/qcrfDUG/8vD/l0snBb+q6q/V3k8lP58AMwrKoQK/bHdPLcxdNr98jLZFufZFv3TwvHMwa06/m/yh2NQ5Ur+wn3oyI2ZUv6kHru1LCFa/AjqOxrpkV7/FK0ufFrZYv51WT8N+Klq/VWgyeYkFXL9E2QzNRHNev0zu3OUuw2C/Lg88OIScYr/xAVVyQudkv7XfAXZaZGe/GMziNPKoab8Cv+lFRKRrv7iB2QHyRW2/9m5nr5tqbr/aaAHdxSJvvw0CEFcMZ2+/yMSAAZE5b7/uGXhbkWtuv4w2i3taI22/9YNLYihia7/kewC77PFovwnV1TYoDma/nDIrI8uMYr+m/tA8nwldv3huKBxE4lO/IV26vX8aQ7//Cz43ghEdP4OnFctlmUw/D4gp9G7qWz+3QrhIcTxlP0uc2ckAEm0/3ohm1r2Scj9od3si5a12P3Zqi4P0oXo/C4XS129Gfj85EBAX8uSAP4/p2u0rtYI/GzQ4bW2xhD8xLnO/5d+GP9GDYvsuRIk/mWcJWMnMiz/yO+DJjXOOP4HDWmgmmZA/BKtNEDMDkj/FyJI5lneTP6Fqtwdo9ZQ/\",\"dtype\":\"float64\",\"shape\":[75]},\"y\":{\"__ndarray__\":\"GhExyth1ND/Sv8nbtpRIP2vylNV0PVE/aTum7souWD/At0SJ8fVgPw3Iuahxymc/MSNhhJWvcD/bTfBN02d3P2zb5nxnaoA/CD5h5MAGhz8NmeH1TyaQP+zrCsc9p5Y/LbKd76fGnz/bLW5ISEmmPww9YvTcQq8/JV2OstnstT8Er5Y7M8G+P0c+r3jqkcU/5h99k6ZBzj88bCIzFzjVP4enV8oyxN0//yH99nXg5D8qOpLLf0jtP5kqGJXUifQ/c9cS8kHP/D+/DpwzojQEQIEmwoanVwxA4lgXt9HgE0BSSZ2AJuIbQAMJih9jjiNA5q4l5INuK0AwTKYKRj0zQNv5fmq8/DpAaCJseHrtQkB/+zpwzoxKQM3MzMzMeFJAZmZmZmZqWEAAAAAAAFxeQM3MzMzMJmJAmpmZmZkfZUBmZmZmZhhoQDMzMzMzEWtAAAAAAAAKbkBmZmZmZoFwQM3MzMzM/XFAMzMzMzN6c0CamZmZmfZ0QAAAAAAAc3ZAZmZmZmbvd0DNzMzMzGt5QDMzMzMz6HpAmpmZmZlkfEAAAAAAAOF9QGZmZmZmXX9AZmZmZuZsgECamZmZGSuBQM3MzMxM6YFAAAAAAICngkAzMzMzs2WDQGZmZmbmI4RAmpmZmRnihEDNzMzMTKCFQAAAAACAXoZAMzMzM7Mch0BmZmZm5tqHQJqZmZkZmYhAzczMzExXiUAAAAAAgBWKQDMzMzOz04pAZmZmZuaRi0CamZmZGVCMQM3MzMxMDo1AAAAAAIDMjUAzMzMzs4qOQGZmZmbmSI9A\",\"dtype\":\"float64\",\"shape\":[75]}},\"selected\":{\"id\":\"5d8013de-ac81-49b2-b60f-561043b5f4da\",\"type\":\"Selection\"},\"selection_policy\":{\"id\":\"968b97e7-f67d-4247-94da-a9ec45ddbe70\",\"type\":\"UnionRenderers\"}},\"id\":\"49175966-8d57-4b7d-b8ef-0f2087c8e04b\",\"type\":\"ColumnDataSource\"},{\"attributes\":{\"items\":[{\"id\":\"536e9aa3-9a43-45b7-b096-c79c84e67a5e\",\"type\":\"LegendItem\"},{\"id\":\"9833bcdb-4bfd-4b7e-b5b6-515c01b832ef\",\"type\":\"LegendItem\"},{\"id\":\"71241efa-b7ec-4729-afc3-562f47a3a0c5\",\"type\":\"LegendItem\"}],\"label_text_font_size\":{\"value\":\"8pt\"},\"location\":\"top_center\",\"orientation\":\"horizontal\",\"plot\":{\"id\":\"e96705aa-d2fe-4307-873c-f6193be2c445\",\"subtype\":\"Figure\",\"type\":\"Plot\"}},\"id\":\"293913fa-ab65-4f17-8326-7c707c36b347\",\"type\":\"Legend\"},{\"attributes\":{},\"id\":\"3d190f05-392a-4744-a240-19282d77be39\",\"type\":\"LinearScale\"},{\"attributes\":{\"active_drag\":\"auto\",\"active_inspect\":\"auto\",\"active_scroll\":\"auto\",\"active_tap\":\"auto\",\"tools\":[{\"id\":\"21099b5c-3774-469d-b44f-7b9151bba3b4\",\"type\":\"PanTool\"},{\"id\":\"798eb868-6ba6-49d0-b1b9-9dd7a352d5d4\",\"type\":\"WheelZoomTool\"},{\"id\":\"44b9bd3a-1319-40c6-8aaa-44dd58aa4f71\",\"type\":\"BoxZoomTool\"},{\"id\":\"e8995096-9e77-4a7c-adbb-3664e3b601dc\",\"type\":\"SaveTool\"},{\"id\":\"218eab8a-0c70-4c38-aba1-4cbf7077fa98\",\"type\":\"ResetTool\"},{\"id\":\"3cb1f0f5-e1e1-44d6-903a-b2cb77e818a4\",\"type\":\"HelpTool\"}]},\"id\":\"f4230dd5-522b-4a59-9452-460c96da566d\",\"type\":\"Toolbar\"},{\"attributes\":{\"data_source\":{\"id\":\"64f9d835-0192-4b34-ad62-5cfcd3fadeb4\",\"type\":\"ColumnDataSource\"},\"glyph\":{\"id\":\"0e92ad9b-c3db-4abc-8163-19587f284a8e\",\"type\":\"Line\"},\"hover_glyph\":null,\"muted_glyph\":null,\"nonselection_glyph\":{\"id\":\"45fb609a-9c73-4f1e-bfe8-a12e4c483ec9\",\"type\":\"Line\"},\"selection_glyph\":null,\"view\":{\"id\":\"f76fab1f-f861-41ba-a568-b2eb96e02243\",\"type\":\"CDSView\"}},\"id\":\"cf029dd3-8f47-437e-8846-cb1625ec86b8\",\"type\":\"GlyphRenderer\"},{\"attributes\":{},\"id\":\"d01dd924-f8a8-461b-b840-3fb2ccc04e94\",\"type\":\"BasicTicker\"},{\"attributes\":{\"dimension\":1,\"plot\":{\"id\":\"e96705aa-d2fe-4307-873c-f6193be2c445\",\"subtype\":\"Figure\",\"type\":\"Plot\"},\"ticker\":{\"id\":\"d01dd924-f8a8-461b-b840-3fb2ccc04e94\",\"type\":\"BasicTicker\"}},\"id\":\"26feb4e3-308d-4921-abc6-1baf666d9f60\",\"type\":\"Grid\"},{\"attributes\":{},\"id\":\"798eb868-6ba6-49d0-b1b9-9dd7a352d5d4\",\"type\":\"WheelZoomTool\"},{\"attributes\":{},\"id\":\"bce62da7-5476-4229-a0c4-d9af7acfdeba\",\"type\":\"Selection\"},{\"attributes\":{\"data_source\":{\"id\":\"e3c91894-e2cb-4cc2-9bf3-65d9112ffb44\",\"type\":\"ColumnDataSource\"},\"glyph\":{\"id\":\"5ada3fc5-7acb-47bf-b766-c00d4d9329d6\",\"type\":\"Circle\"},\"hover_glyph\":null,\"muted_glyph\":null,\"nonselection_glyph\":{\"id\":\"aec62cbd-18bd-420e-a110-8d01f5d2d865\",\"type\":\"Circle\"},\"selection_glyph\":null,\"view\":{\"id\":\"06de7e9e-6fd4-454e-ae10-4f13a9f747b9\",\"type\":\"CDSView\"}},\"id\":\"997abac8-08e2-46ca-b169-8b8f9c6d65d9\",\"type\":\"GlyphRenderer\"},{\"attributes\":{\"axis_label\":\"pressure [mb]\",\"formatter\":{\"id\":\"4365201f-ce06-447f-94fe-503bd73f2ff0\",\"type\":\"BasicTickFormatter\"},\"plot\":{\"id\":\"e96705aa-d2fe-4307-873c-f6193be2c445\",\"subtype\":\"Figure\",\"type\":\"Plot\"},\"ticker\":{\"id\":\"d01dd924-f8a8-461b-b840-3fb2ccc04e94\",\"type\":\"BasicTicker\"}},\"id\":\"17ecd85a-8e07-4e0e-966c-c21439357778\",\"type\":\"LinearAxis\"},{\"attributes\":{},\"id\":\"21fdd4c9-2ab9-4172-8ef7-99a763dca6e4\",\"type\":\"BasicTicker\"},{\"attributes\":{\"axis_label\":\"cooling rate [K/day]\",\"formatter\":{\"id\":\"cd975832-c9ef-473c-89af-e3bf935df66d\",\"type\":\"BasicTickFormatter\"},\"plot\":{\"id\":\"e96705aa-d2fe-4307-873c-f6193be2c445\",\"subtype\":\"Figure\",\"type\":\"Plot\"},\"ticker\":{\"id\":\"21fdd4c9-2ab9-4172-8ef7-99a763dca6e4\",\"type\":\"BasicTicker\"}},\"id\":\"e80d7334-efd6-4802-af5c-0febabd8fcfb\",\"type\":\"LinearAxis\"},{\"attributes\":{\"plot\":{\"id\":\"e96705aa-d2fe-4307-873c-f6193be2c445\",\"subtype\":\"Figure\",\"type\":\"Plot\"},\"ticker\":{\"id\":\"21fdd4c9-2ab9-4172-8ef7-99a763dca6e4\",\"type\":\"BasicTicker\"}},\"id\":\"8083f31a-ac6b-4c5c-8678-9c1d1a8b05f0\",\"type\":\"Grid\"},{\"attributes\":{\"overlay\":{\"id\":\"85b25a85-c12f-465e-ab98-7b92373735cb\",\"type\":\"BoxAnnotation\"}},\"id\":\"44b9bd3a-1319-40c6-8aaa-44dd58aa4f71\",\"type\":\"BoxZoomTool\"},{\"attributes\":{\"line_alpha\":0.6,\"line_color\":\"#984ea3\",\"line_width\":3,\"x\":{\"field\":\"x\"},\"y\":{\"field\":\"y\"}},\"id\":\"f794003a-ab86-48fe-8dfc-78508abc2ec1\",\"type\":\"Line\"},{\"attributes\":{},\"id\":\"85ca6ff2-59f1-4b02-b71e-e3a9c672fe92\",\"type\":\"LinearScale\"},{\"attributes\":{},\"id\":\"d1268535-9ee7-4ee2-a15f-beaaa379fa2f\",\"type\":\"Selection\"},{\"attributes\":{\"source\":{\"id\":\"e3c91894-e2cb-4cc2-9bf3-65d9112ffb44\",\"type\":\"ColumnDataSource\"}},\"id\":\"06de7e9e-6fd4-454e-ae10-4f13a9f747b9\",\"type\":\"CDSView\"},{\"attributes\":{\"fill_alpha\":{\"value\":0.1},\"fill_color\":{\"value\":\"#1f77b4\"},\"line_alpha\":{\"value\":0.1},\"line_color\":{\"value\":\"#1f77b4\"},\"x\":{\"field\":\"x\"},\"y\":{\"field\":\"y\"}},\"id\":\"aec62cbd-18bd-420e-a110-8d01f5d2d865\",\"type\":\"Circle\"},{\"attributes\":{\"data_source\":{\"id\":\"49175966-8d57-4b7d-b8ef-0f2087c8e04b\",\"type\":\"ColumnDataSource\"},\"glyph\":{\"id\":\"116404d7-6629-47da-b592-13d3205b0499\",\"type\":\"Square\"},\"hover_glyph\":null,\"muted_glyph\":null,\"nonselection_glyph\":{\"id\":\"8993984a-f8f8-44f0-b968-d5fb67f328fb\",\"type\":\"Square\"},\"selection_glyph\":null,\"view\":{\"id\":\"856dbc41-7578-4f54-a5a3-ffdca4290092\",\"type\":\"CDSView\"}},\"id\":\"e1de90b2-8ce3-4d2a-bbf2-ba154614cf83\",\"type\":\"GlyphRenderer\"},{\"attributes\":{\"source\":{\"id\":\"49175966-8d57-4b7d-b8ef-0f2087c8e04b\",\"type\":\"ColumnDataSource\"}},\"id\":\"856dbc41-7578-4f54-a5a3-ffdca4290092\",\"type\":\"CDSView\"},{\"attributes\":{},\"id\":\"218eab8a-0c70-4c38-aba1-4cbf7077fa98\",\"type\":\"ResetTool\"},{\"attributes\":{},\"id\":\"21099b5c-3774-469d-b44f-7b9151bba3b4\",\"type\":\"PanTool\"},{\"attributes\":{\"fill_alpha\":{\"value\":0.1},\"fill_color\":{\"value\":\"#1f77b4\"},\"line_alpha\":{\"value\":0.1},\"line_color\":{\"value\":\"#1f77b4\"},\"x\":{\"field\":\"x\"},\"y\":{\"field\":\"y\"}},\"id\":\"8993984a-f8f8-44f0-b968-d5fb67f328fb\",\"type\":\"Square\"},{\"attributes\":{\"plot\":{\"id\":\"56d6a443-c3cd-4d08-b958-eaa6ac509fa7\",\"subtype\":\"Figure\",\"type\":\"Plot\"},\"ticker\":{\"id\":\"7475d19b-f2dd-4168-97dd-b2db5a4b56c3\",\"type\":\"BasicTicker\"}},\"id\":\"657ba8c4-cb3a-43fb-8826-efb4a2d031c5\",\"type\":\"Grid\"},{\"attributes\":{},\"id\":\"e8995096-9e77-4a7c-adbb-3664e3b601dc\",\"type\":\"SaveTool\"},{\"attributes\":{\"fill_alpha\":{\"value\":0.7},\"fill_color\":{\"value\":\"#984ea3\"},\"line_alpha\":{\"value\":0.7},\"line_color\":{\"value\":\"#984ea3\"},\"x\":{\"field\":\"x\"},\"y\":{\"field\":\"y\"}},\"id\":\"116404d7-6629-47da-b592-13d3205b0499\",\"type\":\"Square\"},{\"attributes\":{\"callback\":null,\"data\":{\"x\":{\"__ndarray__\":\"mhWk11hHUL/a66wDW0lQvzqkM5n6TFC/TT7avjxQUL/Ng2x0GlNQv1Y2DJGSVVC/8Pqic6FXUL96H0SlSFlQv0vQgbxzWlC/2yZTbSdbUL+LTM6Jf1tQv6LK80hHW1C/zBkL/ppaUL+252yB5lhQv9wobs/gR1C/+amA66ndT7/dbWpXTwBOv+5cPrDoeEq/cojYl5J4RL+yaUNq3rg1vzPXzhir6x4/DTPHdhM5Rz+ztmll2BtPP2bos/fb4EY/Dw22Rm1gND+Npvcl+OIcv409Q1jaYz2/YCSGrXHnRr81eW6MIgVNv4Y+25Dm21C/hZOlrw/GUr9G/zZRbIFUv+SWUK4iRFa/czbgncNPWL+6VVePydNav1QSC9TY2V2/WEbGCVyuYL8VkGQBFN1iv3mkNnvkMmW/Tvsti1dKZ7/UemU9QRJpv33DZv9BfWq/bwxxy096a7/TNxrUPwdsvzj2VJ3BHmy/FR8dokO8a7+1t10lbdxqv4MNVyDdfGm/Dxeo6RSbZ79yuYHHHjZlvxPQtQi0T2K/5VPmN2PQXb8210FKmQBWv8sATr3qY0q/93VlJvUzK7+Wytfy8ns9P5hmDI2NG1M/LaUUoCDLXz8YkQoVM7FmPx29D8B85G0/GMML0OWucj81dcuDtWd2Pzx0umf25Hk/FaAZyJsKfT+LWnopPvt/PzLBM5Rof4E/H3M9iJ8qgz9tfNxtzQyFPyE9mw7KH4c/DoAH8itXiT86i5AaEKqLP83dP/pMFI4/t6q/OptJkD8SYRfTuZORP2cXNHaH6ZI/\",\"dtype\":\"float64\",\"shape\":[75]},\"y\":{\"__ndarray__\":\"GhExyth1ND/Sv8nbtpRIP2vylNV0PVE/aTum7souWD/At0SJ8fVgPw3Iuahxymc/MSNhhJWvcD/bTfBN02d3P2zb5nxnaoA/CD5h5MAGhz8NmeH1TyaQP+zrCsc9p5Y/LbKd76fGnz/bLW5ISEmmPww9YvTcQq8/JV2OstnstT8Er5Y7M8G+P0c+r3jqkcU/5h99k6ZBzj88bCIzFzjVP4enV8oyxN0//yH99nXg5D8qOpLLf0jtP5kqGJXUifQ/c9cS8kHP/D+/DpwzojQEQIEmwoanVwxA4lgXt9HgE0BSSZ2AJuIbQAMJih9jjiNA5q4l5INuK0AwTKYKRj0zQNv5fmq8/DpAaCJseHrtQkB/+zpwzoxKQM3MzMzMeFJAZmZmZmZqWEAAAAAAAFxeQM3MzMzMJmJAmpmZmZkfZUBmZmZmZhhoQDMzMzMzEWtAAAAAAAAKbkBmZmZmZoFwQM3MzMzM/XFAMzMzMzN6c0CamZmZmfZ0QAAAAAAAc3ZAZmZmZmbvd0DNzMzMzGt5QDMzMzMz6HpAmpmZmZlkfEAAAAAAAOF9QGZmZmZmXX9AZmZmZuZsgECamZmZGSuBQM3MzMxM6YFAAAAAAICngkAzMzMzs2WDQGZmZmbmI4RAmpmZmRnihEDNzMzMTKCFQAAAAACAXoZAMzMzM7Mch0BmZmZm5tqHQJqZmZkZmYhAzczMzExXiUAAAAAAgBWKQDMzMzOz04pAZmZmZuaRi0CamZmZGVCMQM3MzMxMDo1AAAAAAIDMjUAzMzMzs4qOQGZmZmbmSI9A\",\"dtype\":\"float64\",\"shape\":[75]}},\"selected\":{\"id\":\"e3c41063-6f68-4455-96f9-e72385b61ba8\",\"type\":\"Selection\"},\"selection_policy\":{\"id\":\"d4cbf178-3fe8-4c91-8df8-cfe124bc4c06\",\"type\":\"UnionRenderers\"}},\"id\":\"64f9d835-0192-4b34-ad62-5cfcd3fadeb4\",\"type\":\"ColumnDataSource\"},{\"attributes\":{\"data_source\":{\"id\":\"f557afc5-93e8-4a7d-bb04-fe7d409dd178\",\"type\":\"ColumnDataSource\"},\"glyph\":{\"id\":\"f794003a-ab86-48fe-8dfc-78508abc2ec1\",\"type\":\"Line\"},\"hover_glyph\":null,\"muted_glyph\":null,\"nonselection_glyph\":{\"id\":\"aa5dbb01-dc4a-426e-88b0-4ecf3b16f673\",\"type\":\"Line\"},\"selection_glyph\":null,\"view\":{\"id\":\"baf8d7c6-c803-4ee6-894f-1894f38e8e63\",\"type\":\"CDSView\"}},\"id\":\"60760ac9-8bc2-4fc6-99c2-5eb4f393e38e\",\"type\":\"GlyphRenderer\"},{\"attributes\":{\"callback\":null,\"data\":{\"x\":{\"__ndarray__\":\"QQTjuzC0U78GgB2N+bhTv980Wh6NwlO/BSqdeCDMU7/vkzLQjdVTv1AZJ1DQ3lO/8L7eiOTnU788aCECyPBTv9zaZad2+VO/NRnewO4BVL82xTLpLgpUvx8+1Kk3ElS/BXjImREaVL84NbQnnyNUv4Gra97APlS/Qxc34odSVL+YKlKJfQ5UvxWsAlCkNlO/ZIPQszV4Ub/AQSu9irtMv+6/1QeAlEK/KyXD31ejIr9kgsVzWh0EP7fS1yq7BCK/wDFlTvnKOr+s7j4JeupGv6FUMB7tVU6/obH8nrTOUb9SOc/T3rJTv0wt0R0oHlW/CyuxBHRMVr/oe9xiNnRXv4Bp1Y5pxFi/S1ylhdR3Wr+NA59G6bBcv3cFMBuchV+/6Q2OicF5Yb+FOtmDkaJjv7hUeq1R/WW/EDfusKwkaL8X+NchKAZqv2OUJrCAk2u/opnxvx+6bL+IstfG1nZtv1RF1Gf3wm2/dq5aqGSYbb8UOfAlLvJsv5xNCwtjzGu/d2yGh7Aiar9GWkbEdvJnvzEA8GoiPGW/jc3ISIj+Yb95QRBUEHJcvzUu5YKP1lO/aIwsEOdURL/S5hIsbCoCP7mZFu+ttkg/kNeIS8owWT/yZ5qd9YNjPwBcnHvH5Wo/InULeZVQcT8jM+J8TTp1P3NKtRAaAXk/GJOQnbaMfD8JAP0j9Ph/P/sQuwKPwIE/42u7SCKtgz8JhTZwb82FP5Xx7zMuHIg/UhD/WqWOij9x2REc0RyNP9P1FJ5vwo8/fUUX0f89kT+LWN1NZKSSP5j1z8RVFJQ/\",\"dtype\":\"float64\",\"shape\":[75]},\"y\":{\"__ndarray__\":\"GhExyth1ND/Sv8nbtpRIP2vylNV0PVE/aTum7souWD/At0SJ8fVgPw3Iuahxymc/MSNhhJWvcD/bTfBN02d3P2zb5nxnaoA/CD5h5MAGhz8NmeH1TyaQP+zrCsc9p5Y/LbKd76fGnz/bLW5ISEmmPww9YvTcQq8/JV2OstnstT8Er5Y7M8G+P0c+r3jqkcU/5h99k6ZBzj88bCIzFzjVP4enV8oyxN0//yH99nXg5D8qOpLLf0jtP5kqGJXUifQ/c9cS8kHP/D+/DpwzojQEQIEmwoanVwxA4lgXt9HgE0BSSZ2AJuIbQAMJih9jjiNA5q4l5INuK0AwTKYKRj0zQNv5fmq8/DpAaCJseHrtQkB/+zpwzoxKQM3MzMzMeFJAZmZmZmZqWEAAAAAAAFxeQM3MzMzMJmJAmpmZmZkfZUBmZmZmZhhoQDMzMzMzEWtAAAAAAAAKbkBmZmZmZoFwQM3MzMzM/XFAMzMzMzN6c0CamZmZmfZ0QAAAAAAAc3ZAZmZmZmbvd0DNzMzMzGt5QDMzMzMz6HpAmpmZmZlkfEAAAAAAAOF9QGZmZmZmXX9AZmZmZuZsgECamZmZGSuBQM3MzMxM6YFAAAAAAICngkAzMzMzs2WDQGZmZmbmI4RAmpmZmRnihEDNzMzMTKCFQAAAAACAXoZAMzMzM7Mch0BmZmZm5tqHQJqZmZkZmYhAzczMzExXiUAAAAAAgBWKQDMzMzOz04pAZmZmZuaRi0CamZmZGVCMQM3MzMxMDo1AAAAAAIDMjUAzMzMzs4qOQGZmZmbmSI9A\",\"dtype\":\"float64\",\"shape\":[75]}},\"selected\":{\"id\":\"ad38d9d0-c8c3-4609-8bb9-40bf2b80741b\",\"type\":\"Selection\"},\"selection_policy\":{\"id\":\"0043410a-e338-4bcd-a3e3-19837f709aaf\",\"type\":\"UnionRenderers\"}},\"id\":\"8505418e-33a3-40cc-b3c4-1bf380d3eff0\",\"type\":\"ColumnDataSource\"},{\"attributes\":{\"fill_alpha\":{\"value\":0.1},\"fill_color\":{\"value\":\"#1f77b4\"},\"line_alpha\":{\"value\":0.1},\"line_color\":{\"value\":\"#1f77b4\"},\"x\":{\"field\":\"x\"},\"y\":{\"field\":\"y\"}},\"id\":\"b9a7b4d3-700c-4893-adec-3ca7ff5c5b51\",\"type\":\"Triangle\"},{\"attributes\":{\"source\":{\"id\":\"64f9d835-0192-4b34-ad62-5cfcd3fadeb4\",\"type\":\"ColumnDataSource\"}},\"id\":\"f76fab1f-f861-41ba-a568-b2eb96e02243\",\"type\":\"CDSView\"},{\"attributes\":{\"callback\":null,\"data\":{\"x\":{\"__ndarray__\":\"ZNoXxXTeVL+3M909EeNUv09vI75D7FS/ChxR5Wn1VL+X7IwxX/5Uv/jH6ZYeB1W/kxRud6MPVb/ZteFa6xdVvzASS6PxH1W/4ezu87MnVb9NSP+UMC9Vv3YkfIZnNlW/7LaKTGA9Vb9Tw0g4t0VVv//iTCWZW1W/J/vSF5VfVb8Nhk20UfxUv+I75Ddb8VO/AIaApNHiUb/GwxC8R51Mv5L/qcrfDUG/8vD/l0snBb+q6q/V3k8lP58AMwrKoQK/bHdPLcxdNr98jLZFufZFv3TwvHMwa06/m/yh2NQ5Ur+wn3oyI2ZUv6kHru1LCFa/AjqOxrpkV7/FK0ufFrZYv51WT8N+Klq/VWgyeYkFXL9E2QzNRHNev0zu3OUuw2C/Lg88OIScYr/xAVVyQudkv7XfAXZaZGe/GMziNPKoab8Cv+lFRKRrv7iB2QHyRW2/9m5nr5tqbr/aaAHdxSJvvw0CEFcMZ2+/yMSAAZE5b7/uGXhbkWtuv4w2i3taI22/9YNLYihia7/kewC77PFovwnV1TYoDma/nDIrI8uMYr+m/tA8nwldv3huKBxE4lO/IV26vX8aQ7//Cz43ghEdP4OnFctlmUw/D4gp9G7qWz+3QrhIcTxlP0uc2ckAEm0/3ohm1r2Scj9od3si5a12P3Zqi4P0oXo/C4XS129Gfj85EBAX8uSAP4/p2u0rtYI/GzQ4bW2xhD8xLnO/5d+GP9GDYvsuRIk/mWcJWMnMiz/yO+DJjXOOP4HDWmgmmZA/BKtNEDMDkj/FyJI5lneTP6Fqtwdo9ZQ/\",\"dtype\":\"float64\",\"shape\":[75]},\"y\":{\"__ndarray__\":\"GhExyth1ND/Sv8nbtpRIP2vylNV0PVE/aTum7souWD/At0SJ8fVgPw3Iuahxymc/MSNhhJWvcD/bTfBN02d3P2zb5nxnaoA/CD5h5MAGhz8NmeH1TyaQP+zrCsc9p5Y/LbKd76fGnz/bLW5ISEmmPww9YvTcQq8/JV2OstnstT8Er5Y7M8G+P0c+r3jqkcU/5h99k6ZBzj88bCIzFzjVP4enV8oyxN0//yH99nXg5D8qOpLLf0jtP5kqGJXUifQ/c9cS8kHP/D+/DpwzojQEQIEmwoanVwxA4lgXt9HgE0BSSZ2AJuIbQAMJih9jjiNA5q4l5INuK0AwTKYKRj0zQNv5fmq8/DpAaCJseHrtQkB/+zpwzoxKQM3MzMzMeFJAZmZmZmZqWEAAAAAAAFxeQM3MzMzMJmJAmpmZmZkfZUBmZmZmZhhoQDMzMzMzEWtAAAAAAAAKbkBmZmZmZoFwQM3MzMzM/XFAMzMzMzN6c0CamZmZmfZ0QAAAAAAAc3ZAZmZmZmbvd0DNzMzMzGt5QDMzMzMz6HpAmpmZmZlkfEAAAAAAAOF9QGZmZmZmXX9AZmZmZuZsgECamZmZGSuBQM3MzMxM6YFAAAAAAICngkAzMzMzs2WDQGZmZmbmI4RAmpmZmRnihEDNzMzMTKCFQAAAAACAXoZAMzMzM7Mch0BmZmZm5tqHQJqZmZkZmYhAzczMzExXiUAAAAAAgBWKQDMzMzOz04pAZmZmZuaRi0CamZmZGVCMQM3MzMxMDo1AAAAAAIDMjUAzMzMzs4qOQGZmZmbmSI9A\",\"dtype\":\"float64\",\"shape\":[75]}},\"selected\":{\"id\":\"d392a4a0-4881-4e00-8b36-b7bde9430db3\",\"type\":\"Selection\"},\"selection_policy\":{\"id\":\"d3bbb1a1-3e0c-4ad9-a4cb-2e0890f866c7\",\"type\":\"UnionRenderers\"}},\"id\":\"f557afc5-93e8-4a7d-bb04-fe7d409dd178\",\"type\":\"ColumnDataSource\"},{\"attributes\":{\"line_alpha\":0.1,\"line_color\":\"#1f77b4\",\"line_width\":3,\"x\":{\"field\":\"x\"},\"y\":{\"field\":\"y\"}},\"id\":\"aa5dbb01-dc4a-426e-88b0-4ecf3b16f673\",\"type\":\"Line\"},{\"attributes\":{\"fill_alpha\":{\"value\":0.7},\"fill_color\":{\"value\":\"#4daf4a\"},\"line_alpha\":{\"value\":0.7},\"line_color\":{\"value\":\"#4daf4a\"},\"x\":{\"field\":\"x\"},\"y\":{\"field\":\"y\"}},\"id\":\"5ada3fc5-7acb-47bf-b766-c00d4d9329d6\",\"type\":\"Circle\"},{\"attributes\":{\"label\":{\"value\":\"WGT igg=1\"},\"renderers\":[{\"id\":\"e1de90b2-8ce3-4d2a-bbf2-ba154614cf83\",\"type\":\"GlyphRenderer\"},{\"id\":\"60760ac9-8bc2-4fc6-99c2-5eb4f393e38e\",\"type\":\"GlyphRenderer\"}]},\"id\":\"37a8404f-ed89-4967-aedb-1642d41600c1\",\"type\":\"LegendItem\"},{\"attributes\":{\"fill_alpha\":{\"value\":0.7},\"fill_color\":{\"value\":\"#377eb8\"},\"line_alpha\":{\"value\":0.7},\"line_color\":{\"value\":\"#377eb8\"},\"x\":{\"field\":\"x\"},\"y\":{\"field\":\"y\"}},\"id\":\"299171ed-9e00-4f76-8cbf-4e6552140ccd\",\"type\":\"Triangle\"},{\"attributes\":{\"source\":{\"id\":\"f557afc5-93e8-4a7d-bb04-fe7d409dd178\",\"type\":\"ColumnDataSource\"}},\"id\":\"baf8d7c6-c803-4ee6-894f-1894f38e8e63\",\"type\":\"CDSView\"},{\"attributes\":{\"callback\":null,\"data\":{\"x\":{\"__ndarray__\":\"mhWk11hHUL/a66wDW0lQvzqkM5n6TFC/TT7avjxQUL/Ng2x0GlNQv1Y2DJGSVVC/8Pqic6FXUL96H0SlSFlQv0vQgbxzWlC/2yZTbSdbUL+LTM6Jf1tQv6LK80hHW1C/zBkL/ppaUL+252yB5lhQv9wobs/gR1C/+amA66ndT7/dbWpXTwBOv+5cPrDoeEq/cojYl5J4RL+yaUNq3rg1vzPXzhir6x4/DTPHdhM5Rz+ztmll2BtPP2bos/fb4EY/Dw22Rm1gND+Npvcl+OIcv409Q1jaYz2/YCSGrXHnRr81eW6MIgVNv4Y+25Dm21C/hZOlrw/GUr9G/zZRbIFUv+SWUK4iRFa/czbgncNPWL+6VVePydNav1QSC9TY2V2/WEbGCVyuYL8VkGQBFN1iv3mkNnvkMmW/Tvsti1dKZ7/UemU9QRJpv33DZv9BfWq/bwxxy096a7/TNxrUPwdsvzj2VJ3BHmy/FR8dokO8a7+1t10lbdxqv4MNVyDdfGm/Dxeo6RSbZ79yuYHHHjZlvxPQtQi0T2K/5VPmN2PQXb8210FKmQBWv8sATr3qY0q/93VlJvUzK7+Wytfy8ns9P5hmDI2NG1M/LaUUoCDLXz8YkQoVM7FmPx29D8B85G0/GMML0OWucj81dcuDtWd2Pzx0umf25Hk/FaAZyJsKfT+LWnopPvt/PzLBM5Rof4E/H3M9iJ8qgz9tfNxtzQyFPyE9mw7KH4c/DoAH8itXiT86i5AaEKqLP83dP/pMFI4/t6q/OptJkD8SYRfTuZORP2cXNHaH6ZI/\",\"dtype\":\"float64\",\"shape\":[75]},\"y\":{\"__ndarray__\":\"GhExyth1ND/Sv8nbtpRIP2vylNV0PVE/aTum7souWD/At0SJ8fVgPw3Iuahxymc/MSNhhJWvcD/bTfBN02d3P2zb5nxnaoA/CD5h5MAGhz8NmeH1TyaQP+zrCsc9p5Y/LbKd76fGnz/bLW5ISEmmPww9YvTcQq8/JV2OstnstT8Er5Y7M8G+P0c+r3jqkcU/5h99k6ZBzj88bCIzFzjVP4enV8oyxN0//yH99nXg5D8qOpLLf0jtP5kqGJXUifQ/c9cS8kHP/D+/DpwzojQEQIEmwoanVwxA4lgXt9HgE0BSSZ2AJuIbQAMJih9jjiNA5q4l5INuK0AwTKYKRj0zQNv5fmq8/DpAaCJseHrtQkB/+zpwzoxKQM3MzMzMeFJAZmZmZmZqWEAAAAAAAFxeQM3MzMzMJmJAmpmZmZkfZUBmZmZmZhhoQDMzMzMzEWtAAAAAAAAKbkBmZmZmZoFwQM3MzMzM/XFAMzMzMzN6c0CamZmZmfZ0QAAAAAAAc3ZAZmZmZmbvd0DNzMzMzGt5QDMzMzMz6HpAmpmZmZlkfEAAAAAAAOF9QGZmZmZmXX9AZmZmZuZsgECamZmZGSuBQM3MzMxM6YFAAAAAAICngkAzMzMzs2WDQGZmZmbmI4RAmpmZmRnihEDNzMzMTKCFQAAAAACAXoZAMzMzM7Mch0BmZmZm5tqHQJqZmZkZmYhAzczMzExXiUAAAAAAgBWKQDMzMzOz04pAZmZmZuaRi0CamZmZGVCMQM3MzMxMDo1AAAAAAIDMjUAzMzMzs4qOQGZmZmbmSI9A\",\"dtype\":\"float64\",\"shape\":[75]}},\"selected\":{\"id\":\"7a3bb929-bb5d-4fd7-890d-3b1cd0b62e5a\",\"type\":\"Selection\"},\"selection_policy\":{\"id\":\"a5fff642-eb4c-483b-af43-f75c40f1e3f7\",\"type\":\"UnionRenderers\"}},\"id\":\"fd671929-62b8-4d29-932a-41e05ffd3d3e\",\"type\":\"ColumnDataSource\"},{\"attributes\":{},\"id\":\"63f036ea-ebd0-49b1-b853-57ad08cd6f16\",\"type\":\"UnionRenderers\"},{\"attributes\":{\"dimension\":1,\"plot\":{\"id\":\"56d6a443-c3cd-4d08-b958-eaa6ac509fa7\",\"subtype\":\"Figure\",\"type\":\"Plot\"},\"ticker\":{\"id\":\"cfc1eb20-a6fb-4ce9-9e07-6c0b778f6568\",\"type\":\"LogTicker\"}},\"id\":\"07414182-8886-46fe-8c04-c709e309de65\",\"type\":\"Grid\"},{\"attributes\":{\"fill_alpha\":{\"value\":0.7},\"fill_color\":{\"value\":\"#4daf4a\"},\"line_alpha\":{\"value\":0.7},\"line_color\":{\"value\":\"#4daf4a\"},\"x\":{\"field\":\"x\"},\"y\":{\"field\":\"y\"}},\"id\":\"93ef5dfd-f6c1-4af4-a854-4435c42ae62f\",\"type\":\"Circle\"},{\"attributes\":{\"callback\":null,\"data\":{\"x\":{\"__ndarray__\":\"mhWk11hHUL/a66wDW0lQvzqkM5n6TFC/TT7avjxQUL/Ng2x0GlNQv1Y2DJGSVVC/8Pqic6FXUL96H0SlSFlQv0vQgbxzWlC/2yZTbSdbUL+LTM6Jf1tQv6LK80hHW1C/zBkL/ppaUL+252yB5lhQv9wobs/gR1C/+amA66ndT7/dbWpXTwBOv+5cPrDoeEq/cojYl5J4RL+yaUNq3rg1vzPXzhir6x4/DTPHdhM5Rz+ztmll2BtPP2bos/fb4EY/Dw22Rm1gND+Npvcl+OIcv409Q1jaYz2/YCSGrXHnRr81eW6MIgVNv4Y+25Dm21C/hZOlrw/GUr9G/zZRbIFUv+SWUK4iRFa/czbgncNPWL+6VVePydNav1QSC9TY2V2/WEbGCVyuYL8VkGQBFN1iv3mkNnvkMmW/Tvsti1dKZ7/UemU9QRJpv33DZv9BfWq/bwxxy096a7/TNxrUPwdsvzj2VJ3BHmy/FR8dokO8a7+1t10lbdxqv4MNVyDdfGm/Dxeo6RSbZ79yuYHHHjZlvxPQtQi0T2K/5VPmN2PQXb8210FKmQBWv8sATr3qY0q/93VlJvUzK7+Wytfy8ns9P5hmDI2NG1M/LaUUoCDLXz8YkQoVM7FmPx29D8B85G0/GMML0OWucj81dcuDtWd2Pzx0umf25Hk/FaAZyJsKfT+LWnopPvt/PzLBM5Rof4E/H3M9iJ8qgz9tfNxtzQyFPyE9mw7KH4c/DoAH8itXiT86i5AaEKqLP83dP/pMFI4/t6q/OptJkD8SYRfTuZORP2cXNHaH6ZI/\",\"dtype\":\"float64\",\"shape\":[75]},\"y\":{\"__ndarray__\":\"GhExyth1ND/Sv8nbtpRIP2vylNV0PVE/aTum7souWD/At0SJ8fVgPw3Iuahxymc/MSNhhJWvcD/bTfBN02d3P2zb5nxnaoA/CD5h5MAGhz8NmeH1TyaQP+zrCsc9p5Y/LbKd76fGnz/bLW5ISEmmPww9YvTcQq8/JV2OstnstT8Er5Y7M8G+P0c+r3jqkcU/5h99k6ZBzj88bCIzFzjVP4enV8oyxN0//yH99nXg5D8qOpLLf0jtP5kqGJXUifQ/c9cS8kHP/D+/DpwzojQEQIEmwoanVwxA4lgXt9HgE0BSSZ2AJuIbQAMJih9jjiNA5q4l5INuK0AwTKYKRj0zQNv5fmq8/DpAaCJseHrtQkB/+zpwzoxKQM3MzMzMeFJAZmZmZmZqWEAAAAAAAFxeQM3MzMzMJmJAmpmZmZkfZUBmZmZmZhhoQDMzMzMzEWtAAAAAAAAKbkBmZmZmZoFwQM3MzMzM/XFAMzMzMzN6c0CamZmZmfZ0QAAAAAAAc3ZAZmZmZmbvd0DNzMzMzGt5QDMzMzMz6HpAmpmZmZlkfEAAAAAAAOF9QGZmZmZmXX9AZmZmZuZsgECamZmZGSuBQM3MzMxM6YFAAAAAAICngkAzMzMzs2WDQGZmZmbmI4RAmpmZmRnihEDNzMzMTKCFQAAAAACAXoZAMzMzM7Mch0BmZmZm5tqHQJqZmZkZmYhAzczMzExXiUAAAAAAgBWKQDMzMzOz04pAZmZmZuaRi0CamZmZGVCMQM3MzMxMDo1AAAAAAIDMjUAzMzMzs4qOQGZmZmbmSI9A\",\"dtype\":\"float64\",\"shape\":[75]}},\"selected\":{\"id\":\"21348ba6-b69d-4008-bb81-a5b2c456208a\",\"type\":\"Selection\"},\"selection_policy\":{\"id\":\"d12a0112-e53f-4f3b-a09a-68a8fa5b31e6\",\"type\":\"UnionRenderers\"}},\"id\":\"19635f76-3615-43e7-8c49-405181338bc0\",\"type\":\"ColumnDataSource\"},{\"attributes\":{\"num_minor_ticks\":10},\"id\":\"cfc1eb20-a6fb-4ce9-9e07-6c0b778f6568\",\"type\":\"LogTicker\"},{\"attributes\":{\"data_source\":{\"id\":\"fd671929-62b8-4d29-932a-41e05ffd3d3e\",\"type\":\"ColumnDataSource\"},\"glyph\":{\"id\":\"93ef5dfd-f6c1-4af4-a854-4435c42ae62f\",\"type\":\"Circle\"},\"hover_glyph\":null,\"muted_glyph\":null,\"nonselection_glyph\":{\"id\":\"9212b669-ab21-4138-a2c2-97b7dfd4fe83\",\"type\":\"Circle\"},\"selection_glyph\":null,\"view\":{\"id\":\"30a6ddd2-aebd-4644-9d4c-740113850a87\",\"type\":\"CDSView\"}},\"id\":\"37f75bb8-e433-4f1f-9b5e-7a1f0e0155e9\",\"type\":\"GlyphRenderer\"},{\"attributes\":{\"source\":{\"id\":\"fd671929-62b8-4d29-932a-41e05ffd3d3e\",\"type\":\"ColumnDataSource\"}},\"id\":\"30a6ddd2-aebd-4644-9d4c-740113850a87\",\"type\":\"CDSView\"},{\"attributes\":{\"callback\":null,\"end\":0.01,\"start\":1020},\"id\":\"2cca637f-2a2a-4959-9ff6-60c1927b05d5\",\"type\":\"Range1d\"},{\"attributes\":{\"line_alpha\":0.1,\"line_color\":\"#1f77b4\",\"line_width\":1.5,\"x\":{\"field\":\"x\"},\"y\":{\"field\":\"y\"}},\"id\":\"1b44e85b-d3ba-4d6d-a7b5-941255356793\",\"type\":\"Line\"},{\"attributes\":{},\"id\":\"e391b65c-5299-495c-83bc-c4bf4ae3e497\",\"type\":\"WheelZoomTool\"},{\"attributes\":{\"line_alpha\":0.1,\"line_color\":\"#1f77b4\",\"line_width\":3,\"x\":{\"field\":\"x\"},\"y\":{\"field\":\"y\"}},\"id\":\"c18af980-e315-4a0c-9132-b2fb627c001e\",\"type\":\"Line\"},{\"attributes\":{\"data_source\":{\"id\":\"771ebb68-4b5a-4eb2-96ed-2d2d924c2779\",\"type\":\"ColumnDataSource\"},\"glyph\":{\"id\":\"7e9c77df-bb1b-4f47-925a-9d5dcf63833e\",\"type\":\"Line\"},\"hover_glyph\":null,\"muted_glyph\":null,\"nonselection_glyph\":{\"id\":\"c18af980-e315-4a0c-9132-b2fb627c001e\",\"type\":\"Line\"},\"selection_glyph\":null,\"view\":{\"id\":\"e2c9ba0a-6c68-440a-a3bb-857502bb0a71\",\"type\":\"CDSView\"}},\"id\":\"90b9b027-abed-4814-a57d-71307764ffaf\",\"type\":\"GlyphRenderer\"},{\"attributes\":{\"source\":{\"id\":\"19635f76-3615-43e7-8c49-405181338bc0\",\"type\":\"ColumnDataSource\"}},\"id\":\"2ced1561-8162-4d4d-8454-9c2763561fc1\",\"type\":\"CDSView\"},{\"attributes\":{\"data_source\":{\"id\":\"19635f76-3615-43e7-8c49-405181338bc0\",\"type\":\"ColumnDataSource\"},\"glyph\":{\"id\":\"72834e28-987f-414c-b260-63d783953f01\",\"type\":\"Line\"},\"hover_glyph\":null,\"muted_glyph\":null,\"nonselection_glyph\":{\"id\":\"1b44e85b-d3ba-4d6d-a7b5-941255356793\",\"type\":\"Line\"},\"selection_glyph\":null,\"view\":{\"id\":\"2ced1561-8162-4d4d-8454-9c2763561fc1\",\"type\":\"CDSView\"}},\"id\":\"1a2dc305-c4e8-4c8d-a35c-eeed89132ce3\",\"type\":\"GlyphRenderer\"},{\"attributes\":{\"fill_alpha\":{\"value\":0.7},\"fill_color\":{\"value\":\"#984ea3\"},\"line_alpha\":{\"value\":0.7},\"line_color\":{\"value\":\"#984ea3\"},\"x\":{\"field\":\"x\"},\"y\":{\"field\":\"y\"}},\"id\":\"42b1c008-af4a-4e3a-8f33-d5d91b28d6ce\",\"type\":\"Square\"},{\"attributes\":{\"callback\":null,\"data\":{\"x\":{\"__ndarray__\":\"QQTjuzC0U78GgB2N+bhTv980Wh6NwlO/BSqdeCDMU7/vkzLQjdVTv1AZJ1DQ3lO/8L7eiOTnU788aCECyPBTv9zaZad2+VO/NRnewO4BVL82xTLpLgpUvx8+1Kk3ElS/BXjImREaVL84NbQnnyNUv4Gra97APlS/Qxc34odSVL+YKlKJfQ5UvxWsAlCkNlO/ZIPQszV4Ub/AQSu9irtMv+6/1QeAlEK/KyXD31ejIr9kgsVzWh0EP7fS1yq7BCK/wDFlTvnKOr+s7j4JeupGv6FUMB7tVU6/obH8nrTOUb9SOc/T3rJTv0wt0R0oHlW/CyuxBHRMVr/oe9xiNnRXv4Bp1Y5pxFi/S1ylhdR3Wr+NA59G6bBcv3cFMBuchV+/6Q2OicF5Yb+FOtmDkaJjv7hUeq1R/WW/EDfusKwkaL8X+NchKAZqv2OUJrCAk2u/opnxvx+6bL+IstfG1nZtv1RF1Gf3wm2/dq5aqGSYbb8UOfAlLvJsv5xNCwtjzGu/d2yGh7Aiar9GWkbEdvJnvzEA8GoiPGW/jc3ISIj+Yb95QRBUEHJcvzUu5YKP1lO/aIwsEOdURL/S5hIsbCoCP7mZFu+ttkg/kNeIS8owWT/yZ5qd9YNjPwBcnHvH5Wo/InULeZVQcT8jM+J8TTp1P3NKtRAaAXk/GJOQnbaMfD8JAP0j9Ph/P/sQuwKPwIE/42u7SCKtgz8JhTZwb82FP5Xx7zMuHIg/UhD/WqWOij9x2REc0RyNP9P1FJ5vwo8/fUUX0f89kT+LWN1NZKSSP5j1z8RVFJQ/\",\"dtype\":\"float64\",\"shape\":[75]},\"y\":{\"__ndarray__\":\"GhExyth1ND/Sv8nbtpRIP2vylNV0PVE/aTum7souWD/At0SJ8fVgPw3Iuahxymc/MSNhhJWvcD/bTfBN02d3P2zb5nxnaoA/CD5h5MAGhz8NmeH1TyaQP+zrCsc9p5Y/LbKd76fGnz/bLW5ISEmmPww9YvTcQq8/JV2OstnstT8Er5Y7M8G+P0c+r3jqkcU/5h99k6ZBzj88bCIzFzjVP4enV8oyxN0//yH99nXg5D8qOpLLf0jtP5kqGJXUifQ/c9cS8kHP/D+/DpwzojQEQIEmwoanVwxA4lgXt9HgE0BSSZ2AJuIbQAMJih9jjiNA5q4l5INuK0AwTKYKRj0zQNv5fmq8/DpAaCJseHrtQkB/+zpwzoxKQM3MzMzMeFJAZmZmZmZqWEAAAAAAAFxeQM3MzMzMJmJAmpmZmZkfZUBmZmZmZhhoQDMzMzMzEWtAAAAAAAAKbkBmZmZmZoFwQM3MzMzM/XFAMzMzMzN6c0CamZmZmfZ0QAAAAAAAc3ZAZmZmZmbvd0DNzMzMzGt5QDMzMzMz6HpAmpmZmZlkfEAAAAAAAOF9QGZmZmZmXX9AZmZmZuZsgECamZmZGSuBQM3MzMxM6YFAAAAAAICngkAzMzMzs2WDQGZmZmbmI4RAmpmZmRnihEDNzMzMTKCFQAAAAACAXoZAMzMzM7Mch0BmZmZm5tqHQJqZmZkZmYhAzczMzExXiUAAAAAAgBWKQDMzMzOz04pAZmZmZuaRi0CamZmZGVCMQM3MzMxMDo1AAAAAAIDMjUAzMzMzs4qOQGZmZmbmSI9A\",\"dtype\":\"float64\",\"shape\":[75]}},\"selected\":{\"id\":\"1bb4f482-c0df-4261-878f-abe8f0c16fe2\",\"type\":\"Selection\"},\"selection_policy\":{\"id\":\"97a5c5b7-80f6-46ac-9420-4ff6d19f4009\",\"type\":\"UnionRenderers\"}},\"id\":\"06d83ff2-dde9-4003-b162-715cd55884b3\",\"type\":\"ColumnDataSource\"},{\"attributes\":{\"data_source\":{\"id\":\"06d83ff2-dde9-4003-b162-715cd55884b3\",\"type\":\"ColumnDataSource\"},\"glyph\":{\"id\":\"ff0a0fa9-d209-404b-9828-6692ea24a5e3\",\"type\":\"Triangle\"},\"hover_glyph\":null,\"muted_glyph\":null,\"nonselection_glyph\":{\"id\":\"1c9dbc75-7c5c-4283-9549-47b483843ede\",\"type\":\"Triangle\"},\"selection_glyph\":null,\"view\":{\"id\":\"3e03027a-d6a6-4840-9ead-92a9ce0cd183\",\"type\":\"CDSView\"}},\"id\":\"4240d99b-3e37-4d0d-8c2d-ec0d361ff832\",\"type\":\"GlyphRenderer\"},{\"attributes\":{\"fill_alpha\":{\"value\":0.1},\"fill_color\":{\"value\":\"#1f77b4\"},\"line_alpha\":{\"value\":0.1},\"line_color\":{\"value\":\"#1f77b4\"},\"x\":{\"field\":\"x\"},\"y\":{\"field\":\"y\"}},\"id\":\"1c9dbc75-7c5c-4283-9549-47b483843ede\",\"type\":\"Triangle\"},{\"attributes\":{\"line_alpha\":0.1,\"line_color\":\"#1f77b4\",\"line_width\":2,\"x\":{\"field\":\"x\"},\"y\":{\"field\":\"y\"}},\"id\":\"caa80862-98ed-4cb7-80b1-a974c709d1bc\",\"type\":\"Line\"},{\"attributes\":{\"source\":{\"id\":\"755200a5-2deb-4b18-aace-df7dc967331b\",\"type\":\"ColumnDataSource\"}},\"id\":\"142aeb60-10c5-48df-98b3-df40c0554f2d\",\"type\":\"CDSView\"},{\"attributes\":{\"line_alpha\":0.6,\"line_color\":\"#984ea3\",\"line_width\":3,\"x\":{\"field\":\"x\"},\"y\":{\"field\":\"y\"}},\"id\":\"7e9c77df-bb1b-4f47-925a-9d5dcf63833e\",\"type\":\"Line\"},{\"attributes\":{\"source\":{\"id\":\"06d83ff2-dde9-4003-b162-715cd55884b3\",\"type\":\"ColumnDataSource\"}},\"id\":\"3e03027a-d6a6-4840-9ead-92a9ce0cd183\",\"type\":\"CDSView\"},{\"attributes\":{\"callback\":null,\"data\":{\"x\":{\"__ndarray__\":\"ZNoXxXTeVL+3M909EeNUv09vI75D7FS/ChxR5Wn1VL+X7IwxX/5Uv/jH6ZYeB1W/kxRud6MPVb/ZteFa6xdVvzASS6PxH1W/4ezu87MnVb9NSP+UMC9Vv3YkfIZnNlW/7LaKTGA9Vb9Tw0g4t0VVv//iTCWZW1W/J/vSF5VfVb8Nhk20UfxUv+I75Ddb8VO/AIaApNHiUb/GwxC8R51Mv5L/qcrfDUG/8vD/l0snBb+q6q/V3k8lP58AMwrKoQK/bHdPLcxdNr98jLZFufZFv3TwvHMwa06/m/yh2NQ5Ur+wn3oyI2ZUv6kHru1LCFa/AjqOxrpkV7/FK0ufFrZYv51WT8N+Klq/VWgyeYkFXL9E2QzNRHNev0zu3OUuw2C/Lg88OIScYr/xAVVyQudkv7XfAXZaZGe/GMziNPKoab8Cv+lFRKRrv7iB2QHyRW2/9m5nr5tqbr/aaAHdxSJvvw0CEFcMZ2+/yMSAAZE5b7/uGXhbkWtuv4w2i3taI22/9YNLYihia7/kewC77PFovwnV1TYoDma/nDIrI8uMYr+m/tA8nwldv3huKBxE4lO/IV26vX8aQ7//Cz43ghEdP4OnFctlmUw/D4gp9G7qWz+3QrhIcTxlP0uc2ckAEm0/3ohm1r2Scj9od3si5a12P3Zqi4P0oXo/C4XS129Gfj85EBAX8uSAP4/p2u0rtYI/GzQ4bW2xhD8xLnO/5d+GP9GDYvsuRIk/mWcJWMnMiz/yO+DJjXOOP4HDWmgmmZA/BKtNEDMDkj/FyJI5lneTP6Fqtwdo9ZQ/\",\"dtype\":\"float64\",\"shape\":[75]},\"y\":{\"__ndarray__\":\"GhExyth1ND/Sv8nbtpRIP2vylNV0PVE/aTum7souWD/At0SJ8fVgPw3Iuahxymc/MSNhhJWvcD/bTfBN02d3P2zb5nxnaoA/CD5h5MAGhz8NmeH1TyaQP+zrCsc9p5Y/LbKd76fGnz/bLW5ISEmmPww9YvTcQq8/JV2OstnstT8Er5Y7M8G+P0c+r3jqkcU/5h99k6ZBzj88bCIzFzjVP4enV8oyxN0//yH99nXg5D8qOpLLf0jtP5kqGJXUifQ/c9cS8kHP/D+/DpwzojQEQIEmwoanVwxA4lgXt9HgE0BSSZ2AJuIbQAMJih9jjiNA5q4l5INuK0AwTKYKRj0zQNv5fmq8/DpAaCJseHrtQkB/+zpwzoxKQM3MzMzMeFJAZmZmZmZqWEAAAAAAAFxeQM3MzMzMJmJAmpmZmZkfZUBmZmZmZhhoQDMzMzMzEWtAAAAAAAAKbkBmZmZmZoFwQM3MzMzM/XFAMzMzMzN6c0CamZmZmfZ0QAAAAAAAc3ZAZmZmZmbvd0DNzMzMzGt5QDMzMzMz6HpAmpmZmZlkfEAAAAAAAOF9QGZmZmZmXX9AZmZmZuZsgECamZmZGSuBQM3MzMxM6YFAAAAAAICngkAzMzMzs2WDQGZmZmbmI4RAmpmZmRnihEDNzMzMTKCFQAAAAACAXoZAMzMzM7Mch0BmZmZm5tqHQJqZmZkZmYhAzczMzExXiUAAAAAAgBWKQDMzMzOz04pAZmZmZuaRi0CamZmZGVCMQM3MzMxMDo1AAAAAAIDMjUAzMzMzs4qOQGZmZmbmSI9A\",\"dtype\":\"float64\",\"shape\":[75]}},\"selected\":{\"id\":\"bce62da7-5476-4229-a0c4-d9af7acfdeba\",\"type\":\"Selection\"},\"selection_policy\":{\"id\":\"fade3101-d354-4712-8be3-d99f78e6dc5c\",\"type\":\"UnionRenderers\"}},\"id\":\"771ebb68-4b5a-4eb2-96ed-2d2d924c2779\",\"type\":\"ColumnDataSource\"},{\"attributes\":{\"source\":{\"id\":\"771ebb68-4b5a-4eb2-96ed-2d2d924c2779\",\"type\":\"ColumnDataSource\"}},\"id\":\"e2c9ba0a-6c68-440a-a3bb-857502bb0a71\",\"type\":\"CDSView\"},{\"attributes\":{\"callback\":null,\"end\":0.0009926002524000002,\"start\":-0.0034174628124},\"id\":\"7b9d9fd7-742f-4df8-9732-749cb0a05718\",\"type\":\"Range1d\"},{\"attributes\":{\"above\":[{\"id\":\"9135fe48-2b69-4f00-98fe-5bdf64b7b0e6\",\"type\":\"Legend\"}],\"below\":[{\"id\":\"a4c2029d-0739-4f1c-ad12-8250493b7bef\",\"type\":\"LinearAxis\"}],\"left\":[{\"id\":\"58954bd3-acb1-49f6-a338-6a8d757746ae\",\"type\":\"LogAxis\"}],\"plot_height\":500,\"plot_width\":400,\"renderers\":[{\"id\":\"a4c2029d-0739-4f1c-ad12-8250493b7bef\",\"type\":\"LinearAxis\"},{\"id\":\"657ba8c4-cb3a-43fb-8826-efb4a2d031c5\",\"type\":\"Grid\"},{\"id\":\"58954bd3-acb1-49f6-a338-6a8d757746ae\",\"type\":\"LogAxis\"},{\"id\":\"07414182-8886-46fe-8c04-c709e309de65\",\"type\":\"Grid\"},{\"id\":\"4801c635-dc5d-4422-80b5-f5fdaa778902\",\"type\":\"BoxAnnotation\"},{\"id\":\"997abac8-08e2-46ca-b169-8b8f9c6d65d9\",\"type\":\"GlyphRenderer\"},{\"id\":\"cf029dd3-8f47-437e-8846-cb1625ec86b8\",\"type\":\"GlyphRenderer\"},{\"id\":\"e1de90b2-8ce3-4d2a-bbf2-ba154614cf83\",\"type\":\"GlyphRenderer\"},{\"id\":\"60760ac9-8bc2-4fc6-99c2-5eb4f393e38e\",\"type\":\"GlyphRenderer\"},{\"id\":\"1e78a0d3-6272-4763-978d-31f688bbeb98\",\"type\":\"GlyphRenderer\"},{\"id\":\"8513c173-cc53-4a8f-9e31-ff3b2269054e\",\"type\":\"GlyphRenderer\"},{\"id\":\"9135fe48-2b69-4f00-98fe-5bdf64b7b0e6\",\"type\":\"Legend\"}],\"title\":{\"id\":\"18ad3fb7-6ce7-4c1f-a735-1697f73b8ec6\",\"type\":\"Title\"},\"toolbar\":{\"id\":\"67c79ad7-6189-4aa6-a43a-0ac9ea66d378\",\"type\":\"Toolbar\"},\"toolbar_location\":null,\"x_range\":{\"id\":\"7b9d9fd7-742f-4df8-9732-749cb0a05718\",\"type\":\"Range1d\"},\"x_scale\":{\"id\":\"8a75f4c0-f914-4a31-b88b-e4c381e2c284\",\"type\":\"LinearScale\"},\"y_range\":{\"id\":\"2cca637f-2a2a-4959-9ff6-60c1927b05d5\",\"type\":\"Range1d\"},\"y_scale\":{\"id\":\"81896088-a94b-49a1-a942-3121c2ff4906\",\"type\":\"LogScale\"}},\"id\":\"56d6a443-c3cd-4d08-b958-eaa6ac509fa7\",\"subtype\":\"Figure\",\"type\":\"Plot\"},{\"attributes\":{\"bottom_units\":\"screen\",\"fill_alpha\":{\"value\":0.5},\"fill_color\":{\"value\":\"lightgrey\"},\"left_units\":\"screen\",\"level\":\"overlay\",\"line_alpha\":{\"value\":1.0},\"line_color\":{\"value\":\"black\"},\"line_dash\":[4,4],\"line_width\":{\"value\":2},\"plot\":null,\"render_mode\":\"css\",\"right_units\":\"screen\",\"top_units\":\"screen\"},\"id\":\"85b25a85-c12f-465e-ab98-7b92373735cb\",\"type\":\"BoxAnnotation\"},{\"attributes\":{\"fill_alpha\":{\"value\":0.1},\"fill_color\":{\"value\":\"#1f77b4\"},\"line_alpha\":{\"value\":0.1},\"line_color\":{\"value\":\"#1f77b4\"},\"x\":{\"field\":\"x\"},\"y\":{\"field\":\"y\"}},\"id\":\"a3bf1074-009a-4701-a5df-c53baf57cba4\",\"type\":\"Square\"},{\"attributes\":{\"callback\":null,\"data\":{\"x\":{\"__ndarray__\":\"ZNoXxXTeVL+3M909EeNUv09vI75D7FS/ChxR5Wn1VL+X7IwxX/5Uv/jH6ZYeB1W/kxRud6MPVb/ZteFa6xdVvzASS6PxH1W/4ezu87MnVb9NSP+UMC9Vv3YkfIZnNlW/7LaKTGA9Vb9Tw0g4t0VVv//iTCWZW1W/J/vSF5VfVb8Nhk20UfxUv+I75Ddb8VO/AIaApNHiUb/GwxC8R51Mv5L/qcrfDUG/8vD/l0snBb+q6q/V3k8lP58AMwrKoQK/bHdPLcxdNr98jLZFufZFv3TwvHMwa06/m/yh2NQ5Ur+wn3oyI2ZUv6kHru1LCFa/AjqOxrpkV7/FK0ufFrZYv51WT8N+Klq/VWgyeYkFXL9E2QzNRHNev0zu3OUuw2C/Lg88OIScYr/xAVVyQudkv7XfAXZaZGe/GMziNPKoab8Cv+lFRKRrv7iB2QHyRW2/9m5nr5tqbr/aaAHdxSJvvw0CEFcMZ2+/yMSAAZE5b7/uGXhbkWtuv4w2i3taI22/9YNLYihia7/kewC77PFovwnV1TYoDma/nDIrI8uMYr+m/tA8nwldv3huKBxE4lO/IV26vX8aQ7//Cz43ghEdP4OnFctlmUw/D4gp9G7qWz+3QrhIcTxlP0uc2ckAEm0/3ohm1r2Scj9od3si5a12P3Zqi4P0oXo/C4XS129Gfj85EBAX8uSAP4/p2u0rtYI/GzQ4bW2xhD8xLnO/5d+GP9GDYvsuRIk/mWcJWMnMiz/yO+DJjXOOP4HDWmgmmZA/BKtNEDMDkj/FyJI5lneTP6Fqtwdo9ZQ/\",\"dtype\":\"float64\",\"shape\":[75]},\"y\":{\"__ndarray__\":\"GhExyth1ND/Sv8nbtpRIP2vylNV0PVE/aTum7souWD/At0SJ8fVgPw3Iuahxymc/MSNhhJWvcD/bTfBN02d3P2zb5nxnaoA/CD5h5MAGhz8NmeH1TyaQP+zrCsc9p5Y/LbKd76fGnz/bLW5ISEmmPww9YvTcQq8/JV2OstnstT8Er5Y7M8G+P0c+r3jqkcU/5h99k6ZBzj88bCIzFzjVP4enV8oyxN0//yH99nXg5D8qOpLLf0jtP5kqGJXUifQ/c9cS8kHP/D+/DpwzojQEQIEmwoanVwxA4lgXt9HgE0BSSZ2AJuIbQAMJih9jjiNA5q4l5INuK0AwTKYKRj0zQNv5fmq8/DpAaCJseHrtQkB/+zpwzoxKQM3MzMzMeFJAZmZmZmZqWEAAAAAAAFxeQM3MzMzMJmJAmpmZmZkfZUBmZmZmZhhoQDMzMzMzEWtAAAAAAAAKbkBmZmZmZoFwQM3MzMzM/XFAMzMzMzN6c0CamZmZmfZ0QAAAAAAAc3ZAZmZmZmbvd0DNzMzMzGt5QDMzMzMz6HpAmpmZmZlkfEAAAAAAAOF9QGZmZmZmXX9AZmZmZuZsgECamZmZGSuBQM3MzMxM6YFAAAAAAICngkAzMzMzs2WDQGZmZmbmI4RAmpmZmRnihEDNzMzMTKCFQAAAAACAXoZAMzMzM7Mch0BmZmZm5tqHQJqZmZkZmYhAzczMzExXiUAAAAAAgBWKQDMzMzOz04pAZmZmZuaRi0CamZmZGVCMQM3MzMxMDo1AAAAAAIDMjUAzMzMzs4qOQGZmZmbmSI9A\",\"dtype\":\"float64\",\"shape\":[75]}},\"selected\":{\"id\":\"015ce6c6-bade-4513-9a19-7ecfcce3a577\",\"type\":\"Selection\"},\"selection_policy\":{\"id\":\"63f036ea-ebd0-49b1-b853-57ad08cd6f16\",\"type\":\"UnionRenderers\"}},\"id\":\"755200a5-2deb-4b18-aace-df7dc967331b\",\"type\":\"ColumnDataSource\"},{\"attributes\":{\"line_alpha\":0.3,\"line_color\":\"#377eb8\",\"line_width\":2,\"x\":{\"field\":\"x\"},\"y\":{\"field\":\"y\"}},\"id\":\"05f3e318-b9c7-45f6-90f7-7faf1f6c9116\",\"type\":\"Line\"},{\"attributes\":{},\"id\":\"3cb1f0f5-e1e1-44d6-903a-b2cb77e818a4\",\"type\":\"HelpTool\"},{\"attributes\":{\"source\":{\"id\":\"4377b862-b4bc-484d-9ecd-e54c5c4c563d\",\"type\":\"ColumnDataSource\"}},\"id\":\"f855e0b9-fd8c-41a6-b03b-a8e1e0bc20a2\",\"type\":\"CDSView\"},{\"attributes\":{\"line_color\":\"#4daf4a\",\"line_width\":1.5,\"x\":{\"field\":\"x\"},\"y\":{\"field\":\"y\"}},\"id\":\"72834e28-987f-414c-b260-63d783953f01\",\"type\":\"Line\"},{\"attributes\":{\"callback\":null,\"data\":{\"x\":{\"__ndarray__\":\"QQTjuzC0U78GgB2N+bhTv980Wh6NwlO/BSqdeCDMU7/vkzLQjdVTv1AZJ1DQ3lO/8L7eiOTnU788aCECyPBTv9zaZad2+VO/NRnewO4BVL82xTLpLgpUvx8+1Kk3ElS/BXjImREaVL84NbQnnyNUv4Gra97APlS/Qxc34odSVL+YKlKJfQ5UvxWsAlCkNlO/ZIPQszV4Ub/AQSu9irtMv+6/1QeAlEK/KyXD31ejIr9kgsVzWh0EP7fS1yq7BCK/wDFlTvnKOr+s7j4JeupGv6FUMB7tVU6/obH8nrTOUb9SOc/T3rJTv0wt0R0oHlW/CyuxBHRMVr/oe9xiNnRXv4Bp1Y5pxFi/S1ylhdR3Wr+NA59G6bBcv3cFMBuchV+/6Q2OicF5Yb+FOtmDkaJjv7hUeq1R/WW/EDfusKwkaL8X+NchKAZqv2OUJrCAk2u/opnxvx+6bL+IstfG1nZtv1RF1Gf3wm2/dq5aqGSYbb8UOfAlLvJsv5xNCwtjzGu/d2yGh7Aiar9GWkbEdvJnvzEA8GoiPGW/jc3ISIj+Yb95QRBUEHJcvzUu5YKP1lO/aIwsEOdURL/S5hIsbCoCP7mZFu+ttkg/kNeIS8owWT/yZ5qd9YNjPwBcnHvH5Wo/InULeZVQcT8jM+J8TTp1P3NKtRAaAXk/GJOQnbaMfD8JAP0j9Ph/P/sQuwKPwIE/42u7SCKtgz8JhTZwb82FP5Xx7zMuHIg/UhD/WqWOij9x2REc0RyNP9P1FJ5vwo8/fUUX0f89kT+LWN1NZKSSP5j1z8RVFJQ/\",\"dtype\":\"float64\",\"shape\":[75]},\"y\":{\"__ndarray__\":\"GhExyth1ND/Sv8nbtpRIP2vylNV0PVE/aTum7souWD/At0SJ8fVgPw3Iuahxymc/MSNhhJWvcD/bTfBN02d3P2zb5nxnaoA/CD5h5MAGhz8NmeH1TyaQP+zrCsc9p5Y/LbKd76fGnz/bLW5ISEmmPww9YvTcQq8/JV2OstnstT8Er5Y7M8G+P0c+r3jqkcU/5h99k6ZBzj88bCIzFzjVP4enV8oyxN0//yH99nXg5D8qOpLLf0jtP5kqGJXUifQ/c9cS8kHP/D+/DpwzojQEQIEmwoanVwxA4lgXt9HgE0BSSZ2AJuIbQAMJih9jjiNA5q4l5INuK0AwTKYKRj0zQNv5fmq8/DpAaCJseHrtQkB/+zpwzoxKQM3MzMzMeFJAZmZmZmZqWEAAAAAAAFxeQM3MzMzMJmJAmpmZmZkfZUBmZmZmZhhoQDMzMzMzEWtAAAAAAAAKbkBmZmZmZoFwQM3MzMzM/XFAMzMzMzN6c0CamZmZmfZ0QAAAAAAAc3ZAZmZmZmbvd0DNzMzMzGt5QDMzMzMz6HpAmpmZmZlkfEAAAAAAAOF9QGZmZmZmXX9AZmZmZuZsgECamZmZGSuBQM3MzMxM6YFAAAAAAICngkAzMzMzs2WDQGZmZmbmI4RAmpmZmRnihEDNzMzMTKCFQAAAAACAXoZAMzMzM7Mch0BmZmZm5tqHQJqZmZkZmYhAzczMzExXiUAAAAAAgBWKQDMzMzOz04pAZmZmZuaRi0CamZmZGVCMQM3MzMxMDo1AAAAAAIDMjUAzMzMzs4qOQGZmZmbmSI9A\",\"dtype\":\"float64\",\"shape\":[75]}},\"selected\":{\"id\":\"d1268535-9ee7-4ee2-a15f-beaaa379fa2f\",\"type\":\"Selection\"},\"selection_policy\":{\"id\":\"7339bac8-f5a3-4fde-946a-d99135997c81\",\"type\":\"UnionRenderers\"}},\"id\":\"4377b862-b4bc-484d-9ecd-e54c5c4c563d\",\"type\":\"ColumnDataSource\"},{\"attributes\":{\"fill_alpha\":{\"value\":0.7},\"fill_color\":{\"value\":\"#377eb8\"},\"line_alpha\":{\"value\":0.7},\"line_color\":{\"value\":\"#377eb8\"},\"x\":{\"field\":\"x\"},\"y\":{\"field\":\"y\"}},\"id\":\"ff0a0fa9-d209-404b-9828-6692ea24a5e3\",\"type\":\"Triangle\"},{\"attributes\":{\"data_source\":{\"id\":\"755200a5-2deb-4b18-aace-df7dc967331b\",\"type\":\"ColumnDataSource\"},\"glyph\":{\"id\":\"42b1c008-af4a-4e3a-8f33-d5d91b28d6ce\",\"type\":\"Square\"},\"hover_glyph\":null,\"muted_glyph\":null,\"nonselection_glyph\":{\"id\":\"a3bf1074-009a-4701-a5df-c53baf57cba4\",\"type\":\"Square\"},\"selection_glyph\":null,\"view\":{\"id\":\"142aeb60-10c5-48df-98b3-df40c0554f2d\",\"type\":\"CDSView\"}},\"id\":\"d7dc56e3-e190-48bb-ab99-18d04d252b91\",\"type\":\"GlyphRenderer\"},{\"attributes\":{\"data_source\":{\"id\":\"4377b862-b4bc-484d-9ecd-e54c5c4c563d\",\"type\":\"ColumnDataSource\"},\"glyph\":{\"id\":\"05f3e318-b9c7-45f6-90f7-7faf1f6c9116\",\"type\":\"Line\"},\"hover_glyph\":null,\"muted_glyph\":null,\"nonselection_glyph\":{\"id\":\"caa80862-98ed-4cb7-80b1-a974c709d1bc\",\"type\":\"Line\"},\"selection_glyph\":null,\"view\":{\"id\":\"f855e0b9-fd8c-41a6-b03b-a8e1e0bc20a2\",\"type\":\"CDSView\"}},\"id\":\"91f235aa-8d05-4ff9-a93b-d599157cb661\",\"type\":\"GlyphRenderer\"},{\"attributes\":{\"active_drag\":\"auto\",\"active_inspect\":\"auto\",\"active_scroll\":\"auto\",\"active_tap\":\"auto\",\"tools\":[{\"id\":\"0e3f299c-2564-4deb-b76a-871b4e272247\",\"type\":\"PanTool\"},{\"id\":\"e391b65c-5299-495c-83bc-c4bf4ae3e497\",\"type\":\"WheelZoomTool\"},{\"id\":\"d4bacbc8-12b3-497b-a6f5-f3e9b7f27aa1\",\"type\":\"BoxZoomTool\"},{\"id\":\"6df012a0-5519-4d13-ad70-1f36b8093c3d\",\"type\":\"SaveTool\"},{\"id\":\"d30b2c93-afbf-427c-8ca1-08f327c528b5\",\"type\":\"ResetTool\"},{\"id\":\"3225fee8-6b5c-48d6-b5e8-acf7821b6343\",\"type\":\"HelpTool\"}]},\"id\":\"67c79ad7-6189-4aa6-a43a-0ac9ea66d378\",\"type\":\"Toolbar\"},{\"attributes\":{\"label\":{\"value\":\"CRD\"},\"renderers\":[{\"id\":\"37f75bb8-e433-4f1f-9b5e-7a1f0e0155e9\",\"type\":\"GlyphRenderer\"},{\"id\":\"1a2dc305-c4e8-4c8d-a35c-eeed89132ce3\",\"type\":\"GlyphRenderer\"}]},\"id\":\"536e9aa3-9a43-45b7-b096-c79c84e67a5e\",\"type\":\"LegendItem\"},{\"attributes\":{},\"id\":\"8a75f4c0-f914-4a31-b88b-e4c381e2c284\",\"type\":\"LinearScale\"},{\"attributes\":{\"label\":{\"value\":\"WGT igg=1\"},\"renderers\":[{\"id\":\"d7dc56e3-e190-48bb-ab99-18d04d252b91\",\"type\":\"GlyphRenderer\"},{\"id\":\"90b9b027-abed-4814-a57d-71307764ffaf\",\"type\":\"GlyphRenderer\"}]},\"id\":\"9833bcdb-4bfd-4b7e-b5b6-515c01b832ef\",\"type\":\"LegendItem\"},{\"attributes\":{\"label\":{\"value\":\"WGT igg=10\"},\"renderers\":[{\"id\":\"4240d99b-3e37-4d0d-8c2d-ec0d361ff832\",\"type\":\"GlyphRenderer\"},{\"id\":\"91f235aa-8d05-4ff9-a93b-d599157cb661\",\"type\":\"GlyphRenderer\"}]},\"id\":\"71241efa-b7ec-4729-afc3-562f47a3a0c5\",\"type\":\"LegendItem\"},{\"attributes\":{},\"id\":\"0e3f299c-2564-4deb-b76a-871b4e272247\",\"type\":\"PanTool\"},{\"attributes\":{\"items\":[{\"id\":\"4f4b6145-2251-4a88-95a9-af2ba51acdd9\",\"type\":\"LegendItem\"},{\"id\":\"37a8404f-ed89-4967-aedb-1642d41600c1\",\"type\":\"LegendItem\"},{\"id\":\"488e1626-1b0e-4d50-90d2-056b55d42791\",\"type\":\"LegendItem\"}],\"label_text_font_size\":{\"value\":\"8pt\"},\"location\":\"top_center\",\"orientation\":\"horizontal\",\"plot\":{\"id\":\"56d6a443-c3cd-4d08-b958-eaa6ac509fa7\",\"subtype\":\"Figure\",\"type\":\"Plot\"}},\"id\":\"9135fe48-2b69-4f00-98fe-5bdf64b7b0e6\",\"type\":\"Legend\"},{\"attributes\":{\"overlay\":{\"id\":\"4801c635-dc5d-4422-80b5-f5fdaa778902\",\"type\":\"BoxAnnotation\"}},\"id\":\"d4bacbc8-12b3-497b-a6f5-f3e9b7f27aa1\",\"type\":\"BoxZoomTool\"},{\"attributes\":{},\"id\":\"81896088-a94b-49a1-a942-3121c2ff4906\",\"type\":\"LogScale\"},{\"attributes\":{\"axis_label\":\"cooling rate [K/day]\",\"formatter\":{\"id\":\"faf55e91-7ba6-41c7-b056-46aa1722b030\",\"type\":\"BasicTickFormatter\"},\"plot\":{\"id\":\"56d6a443-c3cd-4d08-b958-eaa6ac509fa7\",\"subtype\":\"Figure\",\"type\":\"Plot\"},\"ticker\":{\"id\":\"7475d19b-f2dd-4168-97dd-b2db5a4b56c3\",\"type\":\"BasicTicker\"}},\"id\":\"a4c2029d-0739-4f1c-ad12-8250493b7bef\",\"type\":\"LinearAxis\"},{\"attributes\":{},\"id\":\"7475d19b-f2dd-4168-97dd-b2db5a4b56c3\",\"type\":\"BasicTicker\"},{\"attributes\":{\"bottom_units\":\"screen\",\"fill_alpha\":{\"value\":0.5},\"fill_color\":{\"value\":\"lightgrey\"},\"left_units\":\"screen\",\"level\":\"overlay\",\"line_alpha\":{\"value\":1.0},\"line_color\":{\"value\":\"black\"},\"line_dash\":[4,4],\"line_width\":{\"value\":2},\"plot\":null,\"render_mode\":\"css\",\"right_units\":\"screen\",\"top_units\":\"screen\"},\"id\":\"4801c635-dc5d-4422-80b5-f5fdaa778902\",\"type\":\"BoxAnnotation\"},{\"attributes\":{},\"id\":\"6df012a0-5519-4d13-ad70-1f36b8093c3d\",\"type\":\"SaveTool\"},{\"attributes\":{},\"id\":\"d30b2c93-afbf-427c-8ca1-08f327c528b5\",\"type\":\"ResetTool\"},{\"attributes\":{},\"id\":\"3225fee8-6b5c-48d6-b5e8-acf7821b6343\",\"type\":\"HelpTool\"},{\"attributes\":{},\"id\":\"97a5c5b7-80f6-46ac-9420-4ff6d19f4009\",\"type\":\"UnionRenderers\"},{\"attributes\":{},\"id\":\"1bb4f482-c0df-4261-878f-abe8f0c16fe2\",\"type\":\"Selection\"},{\"attributes\":{\"fill_alpha\":{\"value\":0.1},\"fill_color\":{\"value\":\"#1f77b4\"},\"line_alpha\":{\"value\":0.1},\"line_color\":{\"value\":\"#1f77b4\"},\"x\":{\"field\":\"x\"},\"y\":{\"field\":\"y\"}},\"id\":\"9212b669-ab21-4138-a2c2-97b7dfd4fe83\",\"type\":\"Circle\"},{\"attributes\":{\"callback\":null,\"data\":{\"x\":{\"__ndarray__\":\"mhWk11hHUL/a66wDW0lQvzqkM5n6TFC/TT7avjxQUL/Ng2x0GlNQv1Y2DJGSVVC/8Pqic6FXUL96H0SlSFlQv0vQgbxzWlC/2yZTbSdbUL+LTM6Jf1tQv6LK80hHW1C/zBkL/ppaUL+252yB5lhQv9wobs/gR1C/+amA66ndT7/dbWpXTwBOv+5cPrDoeEq/cojYl5J4RL+yaUNq3rg1vzPXzhir6x4/DTPHdhM5Rz+ztmll2BtPP2bos/fb4EY/Dw22Rm1gND+Npvcl+OIcv409Q1jaYz2/YCSGrXHnRr81eW6MIgVNv4Y+25Dm21C/hZOlrw/GUr9G/zZRbIFUv+SWUK4iRFa/czbgncNPWL+6VVePydNav1QSC9TY2V2/WEbGCVyuYL8VkGQBFN1iv3mkNnvkMmW/Tvsti1dKZ7/UemU9QRJpv33DZv9BfWq/bwxxy096a7/TNxrUPwdsvzj2VJ3BHmy/FR8dokO8a7+1t10lbdxqv4MNVyDdfGm/Dxeo6RSbZ79yuYHHHjZlvxPQtQi0T2K/5VPmN2PQXb8210FKmQBWv8sATr3qY0q/93VlJvUzK7+Wytfy8ns9P5hmDI2NG1M/LaUUoCDLXz8YkQoVM7FmPx29D8B85G0/GMML0OWucj81dcuDtWd2Pzx0umf25Hk/FaAZyJsKfT+LWnopPvt/PzLBM5Rof4E/H3M9iJ8qgz9tfNxtzQyFPyE9mw7KH4c/DoAH8itXiT86i5AaEKqLP83dP/pMFI4/t6q/OptJkD8SYRfTuZORP2cXNHaH6ZI/\",\"dtype\":\"float64\",\"shape\":[75]},\"y\":{\"__ndarray__\":\"GhExyth1ND/Sv8nbtpRIP2vylNV0PVE/aTum7souWD/At0SJ8fVgPw3Iuahxymc/MSNhhJWvcD/bTfBN02d3P2zb5nxnaoA/CD5h5MAGhz8NmeH1TyaQP+zrCsc9p5Y/LbKd76fGnz/bLW5ISEmmPww9YvTcQq8/JV2OstnstT8Er5Y7M8G+P0c+r3jqkcU/5h99k6ZBzj88bCIzFzjVP4enV8oyxN0//yH99nXg5D8qOpLLf0jtP5kqGJXUifQ/c9cS8kHP/D+/DpwzojQEQIEmwoanVwxA4lgXt9HgE0BSSZ2AJuIbQAMJih9jjiNA5q4l5INuK0AwTKYKRj0zQNv5fmq8/DpAaCJseHrtQkB/+zpwzoxKQM3MzMzMeFJAZmZmZmZqWEAAAAAAAFxeQM3MzMzMJmJAmpmZmZkfZUBmZmZmZhhoQDMzMzMzEWtAAAAAAAAKbkBmZmZmZoFwQM3MzMzM/XFAMzMzMzN6c0CamZmZmfZ0QAAAAAAAc3ZAZmZmZmbvd0DNzMzMzGt5QDMzMzMz6HpAmpmZmZlkfEAAAAAAAOF9QGZmZmZmXX9AZmZmZuZsgECamZmZGSuBQM3MzMxM6YFAAAAAAICngkAzMzMzs2WDQGZmZmbmI4RAmpmZmRnihEDNzMzMTKCFQAAAAACAXoZAMzMzM7Mch0BmZmZm5tqHQJqZmZkZmYhAzczMzExXiUAAAAAAgBWKQDMzMzOz04pAZmZmZuaRi0CamZmZGVCMQM3MzMxMDo1AAAAAAIDMjUAzMzMzs4qOQGZmZmbmSI9A\",\"dtype\":\"float64\",\"shape\":[75]}},\"selected\":{\"id\":\"23d9f0ec-53ec-4a02-b0d9-8f64f2a9efdb\",\"type\":\"Selection\"},\"selection_policy\":{\"id\":\"8f8d3b3b-fb4b-48c5-b82b-3fcad019a21f\",\"type\":\"UnionRenderers\"}},\"id\":\"e3c91894-e2cb-4cc2-9bf3-65d9112ffb44\",\"type\":\"ColumnDataSource\"},{\"attributes\":{\"data_source\":{\"id\":\"8505418e-33a3-40cc-b3c4-1bf380d3eff0\",\"type\":\"ColumnDataSource\"},\"glyph\":{\"id\":\"299171ed-9e00-4f76-8cbf-4e6552140ccd\",\"type\":\"Triangle\"},\"hover_glyph\":null,\"muted_glyph\":null,\"nonselection_glyph\":{\"id\":\"b9a7b4d3-700c-4893-adec-3ca7ff5c5b51\",\"type\":\"Triangle\"},\"selection_glyph\":null,\"view\":{\"id\":\"4a69075e-0156-4865-8d97-b0adef8a8a99\",\"type\":\"CDSView\"}},\"id\":\"1e78a0d3-6272-4763-978d-31f688bbeb98\",\"type\":\"GlyphRenderer\"},{\"attributes\":{\"callback\":null,\"data\":{\"x\":{\"__ndarray__\":\"QQTjuzC0U78GgB2N+bhTv980Wh6NwlO/BSqdeCDMU7/vkzLQjdVTv1AZJ1DQ3lO/8L7eiOTnU788aCECyPBTv9zaZad2+VO/NRnewO4BVL82xTLpLgpUvx8+1Kk3ElS/BXjImREaVL84NbQnnyNUv4Gra97APlS/Qxc34odSVL+YKlKJfQ5UvxWsAlCkNlO/ZIPQszV4Ub/AQSu9irtMv+6/1QeAlEK/KyXD31ejIr9kgsVzWh0EP7fS1yq7BCK/wDFlTvnKOr+s7j4JeupGv6FUMB7tVU6/obH8nrTOUb9SOc/T3rJTv0wt0R0oHlW/CyuxBHRMVr/oe9xiNnRXv4Bp1Y5pxFi/S1ylhdR3Wr+NA59G6bBcv3cFMBuchV+/6Q2OicF5Yb+FOtmDkaJjv7hUeq1R/WW/EDfusKwkaL8X+NchKAZqv2OUJrCAk2u/opnxvx+6bL+IstfG1nZtv1RF1Gf3wm2/dq5aqGSYbb8UOfAlLvJsv5xNCwtjzGu/d2yGh7Aiar9GWkbEdvJnvzEA8GoiPGW/jc3ISIj+Yb95QRBUEHJcvzUu5YKP1lO/aIwsEOdURL/S5hIsbCoCP7mZFu+ttkg/kNeIS8owWT/yZ5qd9YNjPwBcnHvH5Wo/InULeZVQcT8jM+J8TTp1P3NKtRAaAXk/GJOQnbaMfD8JAP0j9Ph/P/sQuwKPwIE/42u7SCKtgz8JhTZwb82FP5Xx7zMuHIg/UhD/WqWOij9x2REc0RyNP9P1FJ5vwo8/fUUX0f89kT+LWN1NZKSSP5j1z8RVFJQ/\",\"dtype\":\"float64\",\"shape\":[75]},\"y\":{\"__ndarray__\":\"GhExyth1ND/Sv8nbtpRIP2vylNV0PVE/aTum7souWD/At0SJ8fVgPw3Iuahxymc/MSNhhJWvcD/bTfBN02d3P2zb5nxnaoA/CD5h5MAGhz8NmeH1TyaQP+zrCsc9p5Y/LbKd76fGnz/bLW5ISEmmPww9YvTcQq8/JV2OstnstT8Er5Y7M8G+P0c+r3jqkcU/5h99k6ZBzj88bCIzFzjVP4enV8oyxN0//yH99nXg5D8qOpLLf0jtP5kqGJXUifQ/c9cS8kHP/D+/DpwzojQEQIEmwoanVwxA4lgXt9HgE0BSSZ2AJuIbQAMJih9jjiNA5q4l5INuK0AwTKYKRj0zQNv5fmq8/DpAaCJseHrtQkB/+zpwzoxKQM3MzMzMeFJAZmZmZmZqWEAAAAAAAFxeQM3MzMzMJmJAmpmZmZkfZUBmZmZmZhhoQDMzMzMzEWtAAAAAAAAKbkBmZmZmZoFwQM3MzMzM/XFAMzMzMzN6c0CamZmZmfZ0QAAAAAAAc3ZAZmZmZmbvd0DNzMzMzGt5QDMzMzMz6HpAmpmZmZlkfEAAAAAAAOF9QGZmZmZmXX9AZmZmZuZsgECamZmZGSuBQM3MzMxM6YFAAAAAAICngkAzMzMzs2WDQGZmZmbmI4RAmpmZmRnihEDNzMzMTKCFQAAAAACAXoZAMzMzM7Mch0BmZmZm5tqHQJqZmZkZmYhAzczMzExXiUAAAAAAgBWKQDMzMzOz04pAZmZmZuaRi0CamZmZGVCMQM3MzMxMDo1AAAAAAIDMjUAzMzMzs4qOQGZmZmbmSI9A\",\"dtype\":\"float64\",\"shape\":[75]}},\"selected\":{\"id\":\"04bee82e-0831-4fac-aa9b-9c7ce89555fb\",\"type\":\"Selection\"},\"selection_policy\":{\"id\":\"96049567-96f1-4abc-8717-22247ab522d4\",\"type\":\"UnionRenderers\"}},\"id\":\"30545677-45a7-414f-beae-01900a949e4e\",\"type\":\"ColumnDataSource\"},{\"attributes\":{\"source\":{\"id\":\"8505418e-33a3-40cc-b3c4-1bf380d3eff0\",\"type\":\"ColumnDataSource\"}},\"id\":\"4a69075e-0156-4865-8d97-b0adef8a8a99\",\"type\":\"CDSView\"},{\"attributes\":{\"line_alpha\":0.3,\"line_color\":\"#377eb8\",\"line_width\":2,\"x\":{\"field\":\"x\"},\"y\":{\"field\":\"y\"}},\"id\":\"2bbce209-6d6d-41ef-940b-d174d2ac1786\",\"type\":\"Line\"},{\"attributes\":{\"children\":[{\"id\":\"550f6ce5-5575-4106-86d2-f4583a4c25d6\",\"type\":\"Row\"}]},\"id\":\"c6bf0105-e5ca-452a-b8a3-75f231adbee5\",\"type\":\"Column\"},{\"attributes\":{\"line_alpha\":0.1,\"line_color\":\"#1f77b4\",\"line_width\":2,\"x\":{\"field\":\"x\"},\"y\":{\"field\":\"y\"}},\"id\":\"3f61cebd-f0ec-4c5f-bfad-d1d843508052\",\"type\":\"Line\"},{\"attributes\":{\"data_source\":{\"id\":\"30545677-45a7-414f-beae-01900a949e4e\",\"type\":\"ColumnDataSource\"},\"glyph\":{\"id\":\"2bbce209-6d6d-41ef-940b-d174d2ac1786\",\"type\":\"Line\"},\"hover_glyph\":null,\"muted_glyph\":null,\"nonselection_glyph\":{\"id\":\"3f61cebd-f0ec-4c5f-bfad-d1d843508052\",\"type\":\"Line\"},\"selection_glyph\":null,\"view\":{\"id\":\"f9ff5934-09c2-4aa7-99d8-3e5702f8b7c1\",\"type\":\"CDSView\"}},\"id\":\"8513c173-cc53-4a8f-9e31-ff3b2269054e\",\"type\":\"GlyphRenderer\"},{\"attributes\":{\"source\":{\"id\":\"30545677-45a7-414f-beae-01900a949e4e\",\"type\":\"ColumnDataSource\"}},\"id\":\"f9ff5934-09c2-4aa7-99d8-3e5702f8b7c1\",\"type\":\"CDSView\"},{\"attributes\":{\"plot\":null,\"text\":\"\"},\"id\":\"27a766bd-8587-4d6f-9751-dd6d0f369681\",\"type\":\"Title\"},{\"attributes\":{\"children\":[{\"id\":\"e96705aa-d2fe-4307-873c-f6193be2c445\",\"subtype\":\"Figure\",\"type\":\"Plot\"},{\"id\":\"56d6a443-c3cd-4d08-b958-eaa6ac509fa7\",\"subtype\":\"Figure\",\"type\":\"Plot\"}]},\"id\":\"550f6ce5-5575-4106-86d2-f4583a4c25d6\",\"type\":\"Row\"},{\"attributes\":{\"label\":{\"value\":\"CRD\"},\"renderers\":[{\"id\":\"997abac8-08e2-46ca-b169-8b8f9c6d65d9\",\"type\":\"GlyphRenderer\"},{\"id\":\"cf029dd3-8f47-437e-8846-cb1625ec86b8\",\"type\":\"GlyphRenderer\"}]},\"id\":\"4f4b6145-2251-4a88-95a9-af2ba51acdd9\",\"type\":\"LegendItem\"},{\"attributes\":{},\"id\":\"21348ba6-b69d-4008-bb81-a5b2c456208a\",\"type\":\"Selection\"},{\"attributes\":{},\"id\":\"4365201f-ce06-447f-94fe-503bd73f2ff0\",\"type\":\"BasicTickFormatter\"},{\"attributes\":{\"label\":{\"value\":\"WGT igg=10\"},\"renderers\":[{\"id\":\"1e78a0d3-6272-4763-978d-31f688bbeb98\",\"type\":\"GlyphRenderer\"},{\"id\":\"8513c173-cc53-4a8f-9e31-ff3b2269054e\",\"type\":\"GlyphRenderer\"}]},\"id\":\"488e1626-1b0e-4d50-90d2-056b55d42791\",\"type\":\"LegendItem\"},{\"attributes\":{},\"id\":\"a5fff642-eb4c-483b-af43-f75c40f1e3f7\",\"type\":\"UnionRenderers\"},{\"attributes\":{},\"id\":\"7a3bb929-bb5d-4fd7-890d-3b1cd0b62e5a\",\"type\":\"Selection\"},{\"attributes\":{},\"id\":\"cd975832-c9ef-473c-89af-e3bf935df66d\",\"type\":\"BasicTickFormatter\"},{\"attributes\":{\"ticker\":null},\"id\":\"91302629-6594-4354-a51d-b56e12a98520\",\"type\":\"LogTickFormatter\"},{\"attributes\":{},\"id\":\"d12a0112-e53f-4f3b-a09a-68a8fa5b31e6\",\"type\":\"UnionRenderers\"},{\"attributes\":{},\"id\":\"7339bac8-f5a3-4fde-946a-d99135997c81\",\"type\":\"UnionRenderers\"},{\"attributes\":{},\"id\":\"e3c41063-6f68-4455-96f9-e72385b61ba8\",\"type\":\"Selection\"},{\"attributes\":{},\"id\":\"015ce6c6-bade-4513-9a19-7ecfcce3a577\",\"type\":\"Selection\"},{\"attributes\":{},\"id\":\"faf55e91-7ba6-41c7-b056-46aa1722b030\",\"type\":\"BasicTickFormatter\"},{\"attributes\":{\"plot\":null,\"text\":\"\"},\"id\":\"18ad3fb7-6ce7-4c1f-a735-1697f73b8ec6\",\"type\":\"Title\"},{\"attributes\":{},\"id\":\"23d9f0ec-53ec-4a02-b0d9-8f64f2a9efdb\",\"type\":\"Selection\"},{\"attributes\":{},\"id\":\"d4cbf178-3fe8-4c91-8df8-cfe124bc4c06\",\"type\":\"UnionRenderers\"},{\"attributes\":{\"toolbar\":{\"id\":\"e9ede3aa-c82f-40fd-8381-c50e495dc787\",\"type\":\"ProxyToolbar\"},\"toolbar_location\":\"above\"},\"id\":\"bec4e8fc-3a9e-4bea-a9f1-7bf4048ef603\",\"type\":\"ToolbarBox\"},{\"attributes\":{},\"id\":\"d392a4a0-4881-4e00-8b36-b7bde9430db3\",\"type\":\"Selection\"},{\"attributes\":{},\"id\":\"8f8d3b3b-fb4b-48c5-b82b-3fcad019a21f\",\"type\":\"UnionRenderers\"},{\"attributes\":{},\"id\":\"d3bbb1a1-3e0c-4ad9-a4cb-2e0890f866c7\",\"type\":\"UnionRenderers\"},{\"attributes\":{},\"id\":\"5d8013de-ac81-49b2-b60f-561043b5f4da\",\"type\":\"Selection\"},{\"attributes\":{},\"id\":\"968b97e7-f67d-4247-94da-a9ec45ddbe70\",\"type\":\"UnionRenderers\"},{\"attributes\":{},\"id\":\"04bee82e-0831-4fac-aa9b-9c7ce89555fb\",\"type\":\"Selection\"},{\"attributes\":{},\"id\":\"96049567-96f1-4abc-8717-22247ab522d4\",\"type\":\"UnionRenderers\"},{\"attributes\":{},\"id\":\"ad38d9d0-c8c3-4609-8bb9-40bf2b80741b\",\"type\":\"Selection\"},{\"attributes\":{},\"id\":\"0043410a-e338-4bcd-a3e3-19837f709aaf\",\"type\":\"UnionRenderers\"},{\"attributes\":{\"children\":[{\"id\":\"bec4e8fc-3a9e-4bea-a9f1-7bf4048ef603\",\"type\":\"ToolbarBox\"},{\"id\":\"c6bf0105-e5ca-452a-b8a3-75f231adbee5\",\"type\":\"Column\"}]},\"id\":\"9a5a502e-5c56-4465-aa60-8fdc2573dd60\",\"type\":\"Column\"},{\"attributes\":{\"callback\":null,\"end\":0.01,\"start\":1020},\"id\":\"8e59bff7-e31e-48f6-9a48-470bf70415a6\",\"type\":\"Range1d\"},{\"attributes\":{\"tools\":[{\"id\":\"21099b5c-3774-469d-b44f-7b9151bba3b4\",\"type\":\"PanTool\"},{\"id\":\"798eb868-6ba6-49d0-b1b9-9dd7a352d5d4\",\"type\":\"WheelZoomTool\"},{\"id\":\"44b9bd3a-1319-40c6-8aaa-44dd58aa4f71\",\"type\":\"BoxZoomTool\"},{\"id\":\"e8995096-9e77-4a7c-adbb-3664e3b601dc\",\"type\":\"SaveTool\"},{\"id\":\"218eab8a-0c70-4c38-aba1-4cbf7077fa98\",\"type\":\"ResetTool\"},{\"id\":\"3cb1f0f5-e1e1-44d6-903a-b2cb77e818a4\",\"type\":\"HelpTool\"},{\"id\":\"0e3f299c-2564-4deb-b76a-871b4e272247\",\"type\":\"PanTool\"},{\"id\":\"e391b65c-5299-495c-83bc-c4bf4ae3e497\",\"type\":\"WheelZoomTool\"},{\"id\":\"d4bacbc8-12b3-497b-a6f5-f3e9b7f27aa1\",\"type\":\"BoxZoomTool\"},{\"id\":\"6df012a0-5519-4d13-ad70-1f36b8093c3d\",\"type\":\"SaveTool\"},{\"id\":\"d30b2c93-afbf-427c-8ca1-08f327c528b5\",\"type\":\"ResetTool\"},{\"id\":\"3225fee8-6b5c-48d6-b5e8-acf7821b6343\",\"type\":\"HelpTool\"}]},\"id\":\"e9ede3aa-c82f-40fd-8381-c50e495dc787\",\"type\":\"ProxyToolbar\"},{\"attributes\":{\"above\":[{\"id\":\"293913fa-ab65-4f17-8326-7c707c36b347\",\"type\":\"Legend\"}],\"below\":[{\"id\":\"e80d7334-efd6-4802-af5c-0febabd8fcfb\",\"type\":\"LinearAxis\"}],\"left\":[{\"id\":\"17ecd85a-8e07-4e0e-966c-c21439357778\",\"type\":\"LinearAxis\"}],\"plot_height\":500,\"plot_width\":400,\"renderers\":[{\"id\":\"e80d7334-efd6-4802-af5c-0febabd8fcfb\",\"type\":\"LinearAxis\"},{\"id\":\"8083f31a-ac6b-4c5c-8678-9c1d1a8b05f0\",\"type\":\"Grid\"},{\"id\":\"17ecd85a-8e07-4e0e-966c-c21439357778\",\"type\":\"LinearAxis\"},{\"id\":\"26feb4e3-308d-4921-abc6-1baf666d9f60\",\"type\":\"Grid\"},{\"id\":\"85b25a85-c12f-465e-ab98-7b92373735cb\",\"type\":\"BoxAnnotation\"},{\"id\":\"37f75bb8-e433-4f1f-9b5e-7a1f0e0155e9\",\"type\":\"GlyphRenderer\"},{\"id\":\"1a2dc305-c4e8-4c8d-a35c-eeed89132ce3\",\"type\":\"GlyphRenderer\"},{\"id\":\"d7dc56e3-e190-48bb-ab99-18d04d252b91\",\"type\":\"GlyphRenderer\"},{\"id\":\"90b9b027-abed-4814-a57d-71307764ffaf\",\"type\":\"GlyphRenderer\"},{\"id\":\"4240d99b-3e37-4d0d-8c2d-ec0d361ff832\",\"type\":\"GlyphRenderer\"},{\"id\":\"91f235aa-8d05-4ff9-a93b-d599157cb661\",\"type\":\"GlyphRenderer\"},{\"id\":\"293913fa-ab65-4f17-8326-7c707c36b347\",\"type\":\"Legend\"}],\"title\":{\"id\":\"27a766bd-8587-4d6f-9751-dd6d0f369681\",\"type\":\"Title\"},\"toolbar\":{\"id\":\"f4230dd5-522b-4a59-9452-460c96da566d\",\"type\":\"Toolbar\"},\"toolbar_location\":null,\"x_range\":{\"id\":\"de45c6bd-c365-4d07-a383-d16621bc2679\",\"type\":\"Range1d\"},\"x_scale\":{\"id\":\"3d190f05-392a-4744-a240-19282d77be39\",\"type\":\"LinearScale\"},\"y_range\":{\"id\":\"8e59bff7-e31e-48f6-9a48-470bf70415a6\",\"type\":\"Range1d\"},\"y_scale\":{\"id\":\"85ca6ff2-59f1-4b02-b71e-e3a9c672fe92\",\"type\":\"LinearScale\"}},\"id\":\"e96705aa-d2fe-4307-873c-f6193be2c445\",\"subtype\":\"Figure\",\"type\":\"Plot\"}],\"root_ids\":[\"9a5a502e-5c56-4465-aa60-8fdc2573dd60\"]},\"title\":\"Bokeh Application\",\"version\":\"0.12.16\"}};\n",
       "  var render_items = [{\"docid\":\"8740d543-cf79-413c-bb5d-7b85e756dd9e\",\"elementid\":\"75f0787b-29a4-4260-9382-f4d4f99a17e3\",\"modelid\":\"9a5a502e-5c56-4465-aa60-8fdc2573dd60\"}];\n",
       "  root.Bokeh.embed.embed_items_notebook(docs_json, render_items);\n",
       "\n",
       "  }\n",
       "  if (root.Bokeh !== undefined) {\n",
       "    embed_document(root);\n",
       "  } else {\n",
       "    var attempts = 0;\n",
       "    var timer = setInterval(function(root) {\n",
       "      if (root.Bokeh !== undefined) {\n",
       "        embed_document(root);\n",
       "        clearInterval(timer);\n",
       "      }\n",
       "      attempts++;\n",
       "      if (attempts > 100) {\n",
       "        console.log(\"Bokeh: ERROR: Unable to run BokehJS code because BokehJS library is missing\")\n",
       "        clearInterval(timer);\n",
       "      }\n",
       "    }, 10, root)\n",
       "  }\n",
       "})(window);"
      ],
      "application/vnd.bokehjs_exec.v0+json": ""
     },
     "metadata": {
      "application/vnd.bokehjs_exec.v0+json": {
       "id": "9a5a502e-5c56-4465-aa60-8fdc2573dd60"
      }
     },
     "output_type": "display_data"
    },
    {
     "data": {
      "text/markdown": [
       "*FIGURE.* Cooling rates. g=4"
      ],
      "text/plain": [
       "<IPython.core.display.Markdown object>"
      ]
     },
     "metadata": {},
     "output_type": "display_data"
    },
    {
     "data": {
      "text/html": [
       "\n",
       "<div class=\"bk-root\">\n",
       "    <div class=\"bk-plotdiv\" id=\"fa8c235b-d126-4f83-88bd-e42e1e1652b7\"></div>\n",
       "</div>"
      ]
     },
     "metadata": {},
     "output_type": "display_data"
    },
    {
     "data": {
      "application/javascript": [
       "(function(root) {\n",
       "  function embed_document(root) {\n",
       "    \n",
       "  var docs_json = {\"45b79160-cdf1-43e0-b10d-f614dd808376\":{\"roots\":{\"references\":[{\"attributes\":{\"callback\":null,\"data\":{\"x\":{\"__ndarray__\":\"IVoLF9ENor8Vc1kIxNqhv23tDbubcaG/unQNoF4Eob/rOTlR/JOgvz16ctGWKaC/f8q1/HByn79MxY8e94Gev6YLZRd7q52/V52OlQ7YnL+EsyxPVOmbv/Rs/21dI5u/ZR2hkDttmr9XYAx6vHOZv1t1yaT5AJW/heGolsqphL9x/MuzxoJzPzGWXnERbJc/bxUxaMznpj9oiOAAPi2yP3KAQAQHOLo/RRURo+diwT+uzs9jBKPCPxRZtwLrecA/JHGnMxieuj/kMoGem2WzP+1ht/Z1Z6o/KICaOkIMoT9/TVCb0t2UP3VecRLqYYg/4hGPaVQIez+Wi1DMYexnP+JMDu7Qg0S/+dabw6Bydb8y/0GAll+Lvy4CA8K3Apm/iCsy/bxwob8ZCxlAnvOjv050ouKvi6S/cOhnnU3npL9urnBDMvqkv0DPgcNKxKS/rOAgKmBFpL+1Y7iKOImjv9tlNBJ5lqK/Nh9NcAd1ob/PLhIYcCWgv0zju0wfYJ2/ixIAfAMwmr9IVCcwwLmWv4sS1u05C5O/6XCsKcBFjr9uT59iyAyGv5YFWrNM13q/0evdjIuEYb8OwDVYeUBkPzBc51212n0/KNYS+9c8iT/yFzan6/mRPyYYwWhagpc/Bs6YpKoDnT+lsn4f7gmhP6rLAl6IC6M/pyWw2nBopD9CnxHflGWlP+IkHwExdKY/z6GtqH3vpz9FJxwkzfWpP7ssoWMccqw/SyN0/IE+rz98EAx6JiOxP/ZKokZiwbI/eAY5jAh7tD9EwzDyqFW2P8IZz+qcW7g/\",\"dtype\":\"float64\",\"shape\":[75]},\"y\":{\"__ndarray__\":\"GhExyth1ND/Sv8nbtpRIP2vylNV0PVE/aTum7souWD/At0SJ8fVgPw3Iuahxymc/MSNhhJWvcD/bTfBN02d3P2zb5nxnaoA/CD5h5MAGhz8NmeH1TyaQP+zrCsc9p5Y/LbKd76fGnz/bLW5ISEmmPww9YvTcQq8/JV2OstnstT8Er5Y7M8G+P0c+r3jqkcU/5h99k6ZBzj88bCIzFzjVP4enV8oyxN0//yH99nXg5D8qOpLLf0jtP5kqGJXUifQ/c9cS8kHP/D+/DpwzojQEQIEmwoanVwxA4lgXt9HgE0BSSZ2AJuIbQAMJih9jjiNA5q4l5INuK0AwTKYKRj0zQNv5fmq8/DpAaCJseHrtQkB/+zpwzoxKQM3MzMzMeFJAZmZmZmZqWEAAAAAAAFxeQM3MzMzMJmJAmpmZmZkfZUBmZmZmZhhoQDMzMzMzEWtAAAAAAAAKbkBmZmZmZoFwQM3MzMzM/XFAMzMzMzN6c0CamZmZmfZ0QAAAAAAAc3ZAZmZmZmbvd0DNzMzMzGt5QDMzMzMz6HpAmpmZmZlkfEAAAAAAAOF9QGZmZmZmXX9AZmZmZuZsgECamZmZGSuBQM3MzMxM6YFAAAAAAICngkAzMzMzs2WDQGZmZmbmI4RAmpmZmRnihEDNzMzMTKCFQAAAAACAXoZAMzMzM7Mch0BmZmZm5tqHQJqZmZkZmYhAzczMzExXiUAAAAAAgBWKQDMzMzOz04pAZmZmZuaRi0CamZmZGVCMQM3MzMxMDo1AAAAAAIDMjUAzMzMzs4qOQGZmZmbmSI9A\",\"dtype\":\"float64\",\"shape\":[75]}},\"selected\":{\"id\":\"b696b399-b7b6-47c8-aeb0-303b7a714786\",\"type\":\"Selection\"},\"selection_policy\":{\"id\":\"38313ad0-d873-46e7-9af3-d80c69cdeb84\",\"type\":\"UnionRenderers\"}},\"id\":\"e5443af7-eefe-4d45-82c5-aa99b49c5874\",\"type\":\"ColumnDataSource\"},{\"attributes\":{\"fill_alpha\":{\"value\":0.7},\"fill_color\":{\"value\":\"#984ea3\"},\"line_alpha\":{\"value\":0.7},\"line_color\":{\"value\":\"#984ea3\"},\"x\":{\"field\":\"x\"},\"y\":{\"field\":\"y\"}},\"id\":\"25a095ff-9e50-47ba-afeb-8a1e62b0b9ae\",\"type\":\"Square\"},{\"attributes\":{\"fill_alpha\":{\"value\":0.1},\"fill_color\":{\"value\":\"#1f77b4\"},\"line_alpha\":{\"value\":0.1},\"line_color\":{\"value\":\"#1f77b4\"},\"x\":{\"field\":\"x\"},\"y\":{\"field\":\"y\"}},\"id\":\"37809a63-96ab-48bc-bdea-4c6250b87a36\",\"type\":\"Square\"},{\"attributes\":{},\"id\":\"9b4e47fb-1e4a-48fe-9083-98b64b99b68e\",\"type\":\"Selection\"},{\"attributes\":{\"data_source\":{\"id\":\"5bff72b3-01f8-4f9d-9bed-ec54e6b2cb01\",\"type\":\"ColumnDataSource\"},\"glyph\":{\"id\":\"7ed215c7-2432-4ea2-96d0-ae7abea91cbe\",\"type\":\"Line\"},\"hover_glyph\":null,\"muted_glyph\":null,\"nonselection_glyph\":{\"id\":\"8a962f68-d0d8-4104-9427-9f59315c3e86\",\"type\":\"Line\"},\"selection_glyph\":null,\"view\":{\"id\":\"72c73e33-4187-4b1c-801c-2774f88890f8\",\"type\":\"CDSView\"}},\"id\":\"e901fad6-ffe8-49e0-8a49-554c8b481b88\",\"type\":\"GlyphRenderer\"},{\"attributes\":{\"callback\":null,\"data\":{\"x\":{\"__ndarray__\":\"IVoLF9ENor8Vc1kIxNqhv23tDbubcaG/unQNoF4Eob/rOTlR/JOgvz16ctGWKaC/f8q1/HByn79MxY8e94Gev6YLZRd7q52/V52OlQ7YnL+EsyxPVOmbv/Rs/21dI5u/ZR2hkDttmr9XYAx6vHOZv1t1yaT5AJW/heGolsqphL9x/MuzxoJzPzGWXnERbJc/bxUxaMznpj9oiOAAPi2yP3KAQAQHOLo/RRURo+diwT+uzs9jBKPCPxRZtwLrecA/JHGnMxieuj/kMoGem2WzP+1ht/Z1Z6o/KICaOkIMoT9/TVCb0t2UP3VecRLqYYg/4hGPaVQIez+Wi1DMYexnP+JMDu7Qg0S/+dabw6Bydb8y/0GAll+Lvy4CA8K3Apm/iCsy/bxwob8ZCxlAnvOjv050ouKvi6S/cOhnnU3npL9urnBDMvqkv0DPgcNKxKS/rOAgKmBFpL+1Y7iKOImjv9tlNBJ5lqK/Nh9NcAd1ob/PLhIYcCWgv0zju0wfYJ2/ixIAfAMwmr9IVCcwwLmWv4sS1u05C5O/6XCsKcBFjr9uT59iyAyGv5YFWrNM13q/0evdjIuEYb8OwDVYeUBkPzBc51212n0/KNYS+9c8iT/yFzan6/mRPyYYwWhagpc/Bs6YpKoDnT+lsn4f7gmhP6rLAl6IC6M/pyWw2nBopD9CnxHflGWlP+IkHwExdKY/z6GtqH3vpz9FJxwkzfWpP7ssoWMccqw/SyN0/IE+rz98EAx6JiOxP/ZKokZiwbI/eAY5jAh7tD9EwzDyqFW2P8IZz+qcW7g/\",\"dtype\":\"float64\",\"shape\":[75]},\"y\":{\"__ndarray__\":\"GhExyth1ND/Sv8nbtpRIP2vylNV0PVE/aTum7souWD/At0SJ8fVgPw3Iuahxymc/MSNhhJWvcD/bTfBN02d3P2zb5nxnaoA/CD5h5MAGhz8NmeH1TyaQP+zrCsc9p5Y/LbKd76fGnz/bLW5ISEmmPww9YvTcQq8/JV2OstnstT8Er5Y7M8G+P0c+r3jqkcU/5h99k6ZBzj88bCIzFzjVP4enV8oyxN0//yH99nXg5D8qOpLLf0jtP5kqGJXUifQ/c9cS8kHP/D+/DpwzojQEQIEmwoanVwxA4lgXt9HgE0BSSZ2AJuIbQAMJih9jjiNA5q4l5INuK0AwTKYKRj0zQNv5fmq8/DpAaCJseHrtQkB/+zpwzoxKQM3MzMzMeFJAZmZmZmZqWEAAAAAAAFxeQM3MzMzMJmJAmpmZmZkfZUBmZmZmZhhoQDMzMzMzEWtAAAAAAAAKbkBmZmZmZoFwQM3MzMzM/XFAMzMzMzN6c0CamZmZmfZ0QAAAAAAAc3ZAZmZmZmbvd0DNzMzMzGt5QDMzMzMz6HpAmpmZmZlkfEAAAAAAAOF9QGZmZmZmXX9AZmZmZuZsgECamZmZGSuBQM3MzMxM6YFAAAAAAICngkAzMzMzs2WDQGZmZmbmI4RAmpmZmRnihEDNzMzMTKCFQAAAAACAXoZAMzMzM7Mch0BmZmZm5tqHQJqZmZkZmYhAzczMzExXiUAAAAAAgBWKQDMzMzOz04pAZmZmZuaRi0CamZmZGVCMQM3MzMxMDo1AAAAAAIDMjUAzMzMzs4qOQGZmZmbmSI9A\",\"dtype\":\"float64\",\"shape\":[75]}},\"selected\":{\"id\":\"9350a10c-c44d-4dba-b327-42b0fadf4a0b\",\"type\":\"Selection\"},\"selection_policy\":{\"id\":\"acdea389-d889-4e40-b7e5-155862875217\",\"type\":\"UnionRenderers\"}},\"id\":\"6d2880f8-d143-4846-96ce-7c257d9b770b\",\"type\":\"ColumnDataSource\"},{\"attributes\":{\"data_source\":{\"id\":\"100d43e6-084b-45a9-b9be-7be958679224\",\"type\":\"ColumnDataSource\"},\"glyph\":{\"id\":\"d2b7bc97-1d25-457b-a69a-981879740d48\",\"type\":\"Circle\"},\"hover_glyph\":null,\"muted_glyph\":null,\"nonselection_glyph\":{\"id\":\"927aede0-cd14-45b8-a89d-9b4fd1314644\",\"type\":\"Circle\"},\"selection_glyph\":null,\"view\":{\"id\":\"ef39c0cd-169d-48c9-8c72-8020f765f310\",\"type\":\"CDSView\"}},\"id\":\"cd523f7f-137c-45be-aac7-a43b010e1601\",\"type\":\"GlyphRenderer\"},{\"attributes\":{\"callback\":null,\"data\":{\"x\":{\"__ndarray__\":\"L1BVqfhCrr8Glpltc/qtvxaytMipWa2/Y8Be+ty1rL/+KHdSMBmsv673111Tfau/CleoZD3oqr/pd1RL/VyqvxiYNurv3qm/4ctL6Dt1qb95k2TtoCipv/Y071XoBKm/yp7Ho+Mbqb9CqJlceU2pv9N9Xq0PG6e/N5vzSFmUoL9rpPJvfv6Mv9JYV3ZOBH4/ReGJINudoD9qQyQYxbGvPzyOwlLq0bg/7KXuc5QwwT/TEfO+h+HBP2iPS5+M37w/Yed/DYsUtT8MV5XUZpWrP/JOUsLw1KE/HJf1i6dYmD8AbOOA+5CRP5MXvNiS1ok/MTXDARAlgj8q+5bvLqh1P1zVZunw81s/7PFDHbozYL+BtXoRSlmAv9i5ldjPf5C/N9S4z9vsl79IKP9YXY6bv+a1u8CH7Ju/Xcg1sdp4nL9wai1iirWcvwzzrWLxkJy/0k/DVQoFnL8+aMSY5h2bvxFPSo4h45m/ojGC6oBbmL9e1v+m84yWv1AYaMSyfJS/8HUWwvYtkr8+htGnakaPv3scD8tswIm/oKUKKQrNg78yl9zENtx6v+PYD/LkiWq/4J+livkzMz8hsN+PhpZwP4oASLWwe4A//cMd3O02iT9uRZAcg0GRP/yzyhr8KZY/PFPDRmMmmz/wAuE/TbafP2jTrYZ6j6E/LVNZqr2Loj/B7a116hyjP34TwKBaxqM/RnTV99HvpD9SEKhLVLumPxWWhcIPC6k/Nh7pEpa1qz9SJvlfgaWuPzRGm3AD7bA/e65h0Aqvsj/4QFQHyqW0PxPjCwuU6rY/\",\"dtype\":\"float64\",\"shape\":[75]},\"y\":{\"__ndarray__\":\"GhExyth1ND/Sv8nbtpRIP2vylNV0PVE/aTum7souWD/At0SJ8fVgPw3Iuahxymc/MSNhhJWvcD/bTfBN02d3P2zb5nxnaoA/CD5h5MAGhz8NmeH1TyaQP+zrCsc9p5Y/LbKd76fGnz/bLW5ISEmmPww9YvTcQq8/JV2OstnstT8Er5Y7M8G+P0c+r3jqkcU/5h99k6ZBzj88bCIzFzjVP4enV8oyxN0//yH99nXg5D8qOpLLf0jtP5kqGJXUifQ/c9cS8kHP/D+/DpwzojQEQIEmwoanVwxA4lgXt9HgE0BSSZ2AJuIbQAMJih9jjiNA5q4l5INuK0AwTKYKRj0zQNv5fmq8/DpAaCJseHrtQkB/+zpwzoxKQM3MzMzMeFJAZmZmZmZqWEAAAAAAAFxeQM3MzMzMJmJAmpmZmZkfZUBmZmZmZhhoQDMzMzMzEWtAAAAAAAAKbkBmZmZmZoFwQM3MzMzM/XFAMzMzMzN6c0CamZmZmfZ0QAAAAAAAc3ZAZmZmZmbvd0DNzMzMzGt5QDMzMzMz6HpAmpmZmZlkfEAAAAAAAOF9QGZmZmZmXX9AZmZmZuZsgECamZmZGSuBQM3MzMxM6YFAAAAAAICngkAzMzMzs2WDQGZmZmbmI4RAmpmZmRnihEDNzMzMTKCFQAAAAACAXoZAMzMzM7Mch0BmZmZm5tqHQJqZmZkZmYhAzczMzExXiUAAAAAAgBWKQDMzMzOz04pAZmZmZuaRi0CamZmZGVCMQM3MzMxMDo1AAAAAAIDMjUAzMzMzs4qOQGZmZmbmSI9A\",\"dtype\":\"float64\",\"shape\":[75]}},\"selected\":{\"id\":\"5301f8cc-20ed-4394-b9ca-f7e7300b3741\",\"type\":\"Selection\"},\"selection_policy\":{\"id\":\"346e08dd-6a07-4566-96dd-011533e36097\",\"type\":\"UnionRenderers\"}},\"id\":\"5bff72b3-01f8-4f9d-9bed-ec54e6b2cb01\",\"type\":\"ColumnDataSource\"},{\"attributes\":{\"source\":{\"id\":\"5bff72b3-01f8-4f9d-9bed-ec54e6b2cb01\",\"type\":\"ColumnDataSource\"}},\"id\":\"72c73e33-4187-4b1c-801c-2774f88890f8\",\"type\":\"CDSView\"},{\"attributes\":{\"source\":{\"id\":\"6d2880f8-d143-4846-96ce-7c257d9b770b\",\"type\":\"ColumnDataSource\"}},\"id\":\"36bc2c10-d9fd-4f43-b8ce-dc9c23abc52e\",\"type\":\"CDSView\"},{\"attributes\":{\"source\":{\"id\":\"100d43e6-084b-45a9-b9be-7be958679224\",\"type\":\"ColumnDataSource\"}},\"id\":\"ef39c0cd-169d-48c9-8c72-8020f765f310\",\"type\":\"CDSView\"},{\"attributes\":{\"callback\":null,\"data\":{\"x\":{\"__ndarray__\":\"L1BVqfhCrr8Glpltc/qtvxaytMipWa2/Y8Be+ty1rL/+KHdSMBmsv673111Tfau/CleoZD3oqr/pd1RL/VyqvxiYNurv3qm/4ctL6Dt1qb95k2TtoCipv/Y071XoBKm/yp7Ho+Mbqb9CqJlceU2pv9N9Xq0PG6e/N5vzSFmUoL9rpPJvfv6Mv9JYV3ZOBH4/ReGJINudoD9qQyQYxbGvPzyOwlLq0bg/7KXuc5QwwT/TEfO+h+HBP2iPS5+M37w/Yed/DYsUtT8MV5XUZpWrP/JOUsLw1KE/HJf1i6dYmD8AbOOA+5CRP5MXvNiS1ok/MTXDARAlgj8q+5bvLqh1P1zVZunw81s/7PFDHbozYL+BtXoRSlmAv9i5ldjPf5C/N9S4z9vsl79IKP9YXY6bv+a1u8CH7Ju/Xcg1sdp4nL9wai1iirWcvwzzrWLxkJy/0k/DVQoFnL8+aMSY5h2bvxFPSo4h45m/ojGC6oBbmL9e1v+m84yWv1AYaMSyfJS/8HUWwvYtkr8+htGnakaPv3scD8tswIm/oKUKKQrNg78yl9zENtx6v+PYD/LkiWq/4J+livkzMz8hsN+PhpZwP4oASLWwe4A//cMd3O02iT9uRZAcg0GRP/yzyhr8KZY/PFPDRmMmmz/wAuE/TbafP2jTrYZ6j6E/LVNZqr2Loj/B7a116hyjP34TwKBaxqM/RnTV99HvpD9SEKhLVLumPxWWhcIPC6k/Nh7pEpa1qz9SJvlfgaWuPzRGm3AD7bA/e65h0Aqvsj/4QFQHyqW0PxPjCwuU6rY/\",\"dtype\":\"float64\",\"shape\":[75]},\"y\":{\"__ndarray__\":\"GhExyth1ND/Sv8nbtpRIP2vylNV0PVE/aTum7souWD/At0SJ8fVgPw3Iuahxymc/MSNhhJWvcD/bTfBN02d3P2zb5nxnaoA/CD5h5MAGhz8NmeH1TyaQP+zrCsc9p5Y/LbKd76fGnz/bLW5ISEmmPww9YvTcQq8/JV2OstnstT8Er5Y7M8G+P0c+r3jqkcU/5h99k6ZBzj88bCIzFzjVP4enV8oyxN0//yH99nXg5D8qOpLLf0jtP5kqGJXUifQ/c9cS8kHP/D+/DpwzojQEQIEmwoanVwxA4lgXt9HgE0BSSZ2AJuIbQAMJih9jjiNA5q4l5INuK0AwTKYKRj0zQNv5fmq8/DpAaCJseHrtQkB/+zpwzoxKQM3MzMzMeFJAZmZmZmZqWEAAAAAAAFxeQM3MzMzMJmJAmpmZmZkfZUBmZmZmZhhoQDMzMzMzEWtAAAAAAAAKbkBmZmZmZoFwQM3MzMzM/XFAMzMzMzN6c0CamZmZmfZ0QAAAAAAAc3ZAZmZmZmbvd0DNzMzMzGt5QDMzMzMz6HpAmpmZmZlkfEAAAAAAAOF9QGZmZmZmXX9AZmZmZuZsgECamZmZGSuBQM3MzMxM6YFAAAAAAICngkAzMzMzs2WDQGZmZmbmI4RAmpmZmRnihEDNzMzMTKCFQAAAAACAXoZAMzMzM7Mch0BmZmZm5tqHQJqZmZkZmYhAzczMzExXiUAAAAAAgBWKQDMzMzOz04pAZmZmZuaRi0CamZmZGVCMQM3MzMxMDo1AAAAAAIDMjUAzMzMzs4qOQGZmZmbmSI9A\",\"dtype\":\"float64\",\"shape\":[75]}},\"selected\":{\"id\":\"45da672d-8da1-43ec-a8d5-c16d123b2894\",\"type\":\"Selection\"},\"selection_policy\":{\"id\":\"a0e176f1-c459-4569-897a-cc9af563995f\",\"type\":\"UnionRenderers\"}},\"id\":\"8cd8b28a-22bd-4af5-af32-39b7212ce62c\",\"type\":\"ColumnDataSource\"},{\"attributes\":{\"data_source\":{\"id\":\"6d2880f8-d143-4846-96ce-7c257d9b770b\",\"type\":\"ColumnDataSource\"},\"glyph\":{\"id\":\"25a095ff-9e50-47ba-afeb-8a1e62b0b9ae\",\"type\":\"Square\"},\"hover_glyph\":null,\"muted_glyph\":null,\"nonselection_glyph\":{\"id\":\"37809a63-96ab-48bc-bdea-4c6250b87a36\",\"type\":\"Square\"},\"selection_glyph\":null,\"view\":{\"id\":\"36bc2c10-d9fd-4f43-b8ce-dc9c23abc52e\",\"type\":\"CDSView\"}},\"id\":\"715c22b6-a91b-4ca9-a515-91a2fcd8b1dd\",\"type\":\"GlyphRenderer\"},{\"attributes\":{\"line_color\":\"#4daf4a\",\"line_width\":1.5,\"x\":{\"field\":\"x\"},\"y\":{\"field\":\"y\"}},\"id\":\"7ed215c7-2432-4ea2-96d0-ae7abea91cbe\",\"type\":\"Line\"},{\"attributes\":{\"data_source\":{\"id\":\"e5443af7-eefe-4d45-82c5-aa99b49c5874\",\"type\":\"ColumnDataSource\"},\"glyph\":{\"id\":\"1368fb4e-6102-43d0-94b0-3cfca8edbea1\",\"type\":\"Line\"},\"hover_glyph\":null,\"muted_glyph\":null,\"nonselection_glyph\":{\"id\":\"ec8136cb-53d5-497c-aab4-a36006a9873e\",\"type\":\"Line\"},\"selection_glyph\":null,\"view\":{\"id\":\"410d6e24-f5d2-46a2-8239-82bb333f60a8\",\"type\":\"CDSView\"}},\"id\":\"ff6ddf34-cf5a-47ed-ab37-9ccee9154500\",\"type\":\"GlyphRenderer\"},{\"attributes\":{},\"id\":\"2a85db0a-fee1-4a73-8b27-1aaa0c3c5d91\",\"type\":\"BasicTickFormatter\"},{\"attributes\":{\"line_alpha\":0.6,\"line_color\":\"#984ea3\",\"line_width\":3,\"x\":{\"field\":\"x\"},\"y\":{\"field\":\"y\"}},\"id\":\"1368fb4e-6102-43d0-94b0-3cfca8edbea1\",\"type\":\"Line\"},{\"attributes\":{\"line_alpha\":0.1,\"line_color\":\"#1f77b4\",\"line_width\":3,\"x\":{\"field\":\"x\"},\"y\":{\"field\":\"y\"}},\"id\":\"ec8136cb-53d5-497c-aab4-a36006a9873e\",\"type\":\"Line\"},{\"attributes\":{\"callback\":null,\"data\":{\"x\":{\"__ndarray__\":\"7AlS5pkLn79Vmt/CRbCev4u0wZqT8p2/D08LFFEunb9/dOabIWacv0cbLocvmpu/8QmAHa/Kmr8CZFSyyPeZv4Cm4G//IZm//GJKXONJmL9G6cDsU3CXv3Fd8xKJlpa/DUjOh3W9lb8SUQ+kMaSUv8CrrxnVQpC/fbrJjt6HeL/Ou08ze42AP0rpVWqu+pk/Ygv4uM3Dpz/YOhTdlmWyPzFQ2dSCN7o/nPwtrttHwT9UAtXxiazCP7zoGv/V1sA/+9MbljHIuz9f3VYCr6i0P9C1/uIvVaw/C7ZM9tvboT/uoXCC3jeUP0ZQxyajEYQ/TmcWUNOycD8cAVcYtC5LPyDpiMHZdF+/6qfM2FkBeL+sQKrcArKLv1fCKoQ075i/o3d7J55nob9uETMbJgqkv8ijmPWd16S/15xjaPFapb9M1lQwpo+lv/D2cIVqd6W/mGgNQw4Spb+yJDByFGqkvxfe/SUAhqO/IdgmaH1ror8yl/Q8sh+hv/A/x/ZvTp+/BarVhbsKnL+weLHCgnqYvzTaefKQpZS/+RIo7nGQkL8P8gWY632Iv3Ev40uPzn6/uMgajZ+AZ7/lob0HNFNgP1WkUINa7Xw/XIzcjTtEiT99otw+2DmSP4hMIf+Z9Jc/OsiQRDemnT+rcX4BJXWhPyOjhlwQnaM/dhlBij4zpT9S99tw33KmP8lFryUlwKc/hKEoIwVsqT9hQ8ipmpOrP//ixLcMI64/W2arBhB9sD8U9j+n0wGyP5miJkVxm7M/HA8beQ1ItT/B4dMunAi3P8l/GfSr3rg/\",\"dtype\":\"float64\",\"shape\":[75]},\"y\":{\"__ndarray__\":\"GhExyth1ND/Sv8nbtpRIP2vylNV0PVE/aTum7souWD/At0SJ8fVgPw3Iuahxymc/MSNhhJWvcD/bTfBN02d3P2zb5nxnaoA/CD5h5MAGhz8NmeH1TyaQP+zrCsc9p5Y/LbKd76fGnz/bLW5ISEmmPww9YvTcQq8/JV2OstnstT8Er5Y7M8G+P0c+r3jqkcU/5h99k6ZBzj88bCIzFzjVP4enV8oyxN0//yH99nXg5D8qOpLLf0jtP5kqGJXUifQ/c9cS8kHP/D+/DpwzojQEQIEmwoanVwxA4lgXt9HgE0BSSZ2AJuIbQAMJih9jjiNA5q4l5INuK0AwTKYKRj0zQNv5fmq8/DpAaCJseHrtQkB/+zpwzoxKQM3MzMzMeFJAZmZmZmZqWEAAAAAAAFxeQM3MzMzMJmJAmpmZmZkfZUBmZmZmZhhoQDMzMzMzEWtAAAAAAAAKbkBmZmZmZoFwQM3MzMzM/XFAMzMzMzN6c0CamZmZmfZ0QAAAAAAAc3ZAZmZmZmbvd0DNzMzMzGt5QDMzMzMz6HpAmpmZmZlkfEAAAAAAAOF9QGZmZmZmXX9AZmZmZuZsgECamZmZGSuBQM3MzMxM6YFAAAAAAICngkAzMzMzs2WDQGZmZmbmI4RAmpmZmRnihEDNzMzMTKCFQAAAAACAXoZAMzMzM7Mch0BmZmZm5tqHQJqZmZkZmYhAzczMzExXiUAAAAAAgBWKQDMzMzOz04pAZmZmZuaRi0CamZmZGVCMQM3MzMxMDo1AAAAAAIDMjUAzMzMzs4qOQGZmZmbmSI9A\",\"dtype\":\"float64\",\"shape\":[75]}},\"selected\":{\"id\":\"710972b9-19e2-4c0e-9438-01d82ef621cb\",\"type\":\"Selection\"},\"selection_policy\":{\"id\":\"2885ab94-aa2e-49e4-8c74-ab38dd48e03c\",\"type\":\"UnionRenderers\"}},\"id\":\"98f928e1-521a-4f7f-8a71-2ad6e30960e1\",\"type\":\"ColumnDataSource\"},{\"attributes\":{\"callback\":null,\"data\":{\"x\":{\"__ndarray__\":\"7AlS5pkLn79Vmt/CRbCev4u0wZqT8p2/D08LFFEunb9/dOabIWacv0cbLocvmpu/8QmAHa/Kmr8CZFSyyPeZv4Cm4G//IZm//GJKXONJmL9G6cDsU3CXv3Fd8xKJlpa/DUjOh3W9lb8SUQ+kMaSUv8CrrxnVQpC/fbrJjt6HeL/Ou08ze42AP0rpVWqu+pk/Ygv4uM3Dpz/YOhTdlmWyPzFQ2dSCN7o/nPwtrttHwT9UAtXxiazCP7zoGv/V1sA/+9MbljHIuz9f3VYCr6i0P9C1/uIvVaw/C7ZM9tvboT/uoXCC3jeUP0ZQxyajEYQ/TmcWUNOycD8cAVcYtC5LPyDpiMHZdF+/6qfM2FkBeL+sQKrcArKLv1fCKoQ075i/o3d7J55nob9uETMbJgqkv8ijmPWd16S/15xjaPFapb9M1lQwpo+lv/D2cIVqd6W/mGgNQw4Spb+yJDByFGqkvxfe/SUAhqO/IdgmaH1ror8yl/Q8sh+hv/A/x/ZvTp+/BarVhbsKnL+weLHCgnqYvzTaefKQpZS/+RIo7nGQkL8P8gWY632Iv3Ev40uPzn6/uMgajZ+AZ7/lob0HNFNgP1WkUINa7Xw/XIzcjTtEiT99otw+2DmSP4hMIf+Z9Jc/OsiQRDemnT+rcX4BJXWhPyOjhlwQnaM/dhlBij4zpT9S99tw33KmP8lFryUlwKc/hKEoIwVsqT9hQ8ipmpOrP//ixLcMI64/W2arBhB9sD8U9j+n0wGyP5miJkVxm7M/HA8beQ1ItT/B4dMunAi3P8l/GfSr3rg/\",\"dtype\":\"float64\",\"shape\":[75]},\"y\":{\"__ndarray__\":\"GhExyth1ND/Sv8nbtpRIP2vylNV0PVE/aTum7souWD/At0SJ8fVgPw3Iuahxymc/MSNhhJWvcD/bTfBN02d3P2zb5nxnaoA/CD5h5MAGhz8NmeH1TyaQP+zrCsc9p5Y/LbKd76fGnz/bLW5ISEmmPww9YvTcQq8/JV2OstnstT8Er5Y7M8G+P0c+r3jqkcU/5h99k6ZBzj88bCIzFzjVP4enV8oyxN0//yH99nXg5D8qOpLLf0jtP5kqGJXUifQ/c9cS8kHP/D+/DpwzojQEQIEmwoanVwxA4lgXt9HgE0BSSZ2AJuIbQAMJih9jjiNA5q4l5INuK0AwTKYKRj0zQNv5fmq8/DpAaCJseHrtQkB/+zpwzoxKQM3MzMzMeFJAZmZmZmZqWEAAAAAAAFxeQM3MzMzMJmJAmpmZmZkfZUBmZmZmZhhoQDMzMzMzEWtAAAAAAAAKbkBmZmZmZoFwQM3MzMzM/XFAMzMzMzN6c0CamZmZmfZ0QAAAAAAAc3ZAZmZmZmbvd0DNzMzMzGt5QDMzMzMz6HpAmpmZmZlkfEAAAAAAAOF9QGZmZmZmXX9AZmZmZuZsgECamZmZGSuBQM3MzMxM6YFAAAAAAICngkAzMzMzs2WDQGZmZmbmI4RAmpmZmRnihEDNzMzMTKCFQAAAAACAXoZAMzMzM7Mch0BmZmZm5tqHQJqZmZkZmYhAzczMzExXiUAAAAAAgBWKQDMzMzOz04pAZmZmZuaRi0CamZmZGVCMQM3MzMxMDo1AAAAAAIDMjUAzMzMzs4qOQGZmZmbmSI9A\",\"dtype\":\"float64\",\"shape\":[75]}},\"selected\":{\"id\":\"df7a2934-b685-46c3-8651-6b8cffe89172\",\"type\":\"Selection\"},\"selection_policy\":{\"id\":\"34219bcf-3aa5-4bdb-b857-5a895750dbcd\",\"type\":\"UnionRenderers\"}},\"id\":\"043e942a-a5a8-46ee-abeb-a376297e332e\",\"type\":\"ColumnDataSource\"},{\"attributes\":{\"line_alpha\":0.1,\"line_color\":\"#1f77b4\",\"line_width\":1.5,\"x\":{\"field\":\"x\"},\"y\":{\"field\":\"y\"}},\"id\":\"8a962f68-d0d8-4104-9427-9f59315c3e86\",\"type\":\"Line\"},{\"attributes\":{\"source\":{\"id\":\"e5443af7-eefe-4d45-82c5-aa99b49c5874\",\"type\":\"ColumnDataSource\"}},\"id\":\"410d6e24-f5d2-46a2-8239-82bb333f60a8\",\"type\":\"CDSView\"},{\"attributes\":{\"fill_alpha\":{\"value\":0.7},\"fill_color\":{\"value\":\"#377eb8\"},\"line_alpha\":{\"value\":0.7},\"line_color\":{\"value\":\"#377eb8\"},\"x\":{\"field\":\"x\"},\"y\":{\"field\":\"y\"}},\"id\":\"8e9f483d-7df8-495f-8118-b1ccd5ceeedc\",\"type\":\"Triangle\"},{\"attributes\":{\"fill_alpha\":{\"value\":0.1},\"fill_color\":{\"value\":\"#1f77b4\"},\"line_alpha\":{\"value\":0.1},\"line_color\":{\"value\":\"#1f77b4\"},\"x\":{\"field\":\"x\"},\"y\":{\"field\":\"y\"}},\"id\":\"b009044d-014a-4d16-aad0-d5a973548746\",\"type\":\"Triangle\"},{\"attributes\":{\"data_source\":{\"id\":\"043e942a-a5a8-46ee-abeb-a376297e332e\",\"type\":\"ColumnDataSource\"},\"glyph\":{\"id\":\"8e9f483d-7df8-495f-8118-b1ccd5ceeedc\",\"type\":\"Triangle\"},\"hover_glyph\":null,\"muted_glyph\":null,\"nonselection_glyph\":{\"id\":\"b009044d-014a-4d16-aad0-d5a973548746\",\"type\":\"Triangle\"},\"selection_glyph\":null,\"view\":{\"id\":\"6b4853b1-d780-41d7-a0e0-7e7986e25fa4\",\"type\":\"CDSView\"}},\"id\":\"9d462386-61c5-4e16-bb90-090537041263\",\"type\":\"GlyphRenderer\"},{\"attributes\":{\"source\":{\"id\":\"043e942a-a5a8-46ee-abeb-a376297e332e\",\"type\":\"ColumnDataSource\"}},\"id\":\"6b4853b1-d780-41d7-a0e0-7e7986e25fa4\",\"type\":\"CDSView\"},{\"attributes\":{\"line_alpha\":0.3,\"line_color\":\"#377eb8\",\"line_width\":2,\"x\":{\"field\":\"x\"},\"y\":{\"field\":\"y\"}},\"id\":\"a5c11ae3-8b6c-4505-883c-8ae74194366f\",\"type\":\"Line\"},{\"attributes\":{\"children\":[{\"id\":\"1f3c9f9f-e526-40cc-b11c-89debcd1fc14\",\"type\":\"Row\"}]},\"id\":\"4dd89752-c580-4eb8-a43d-92677d0f4c28\",\"type\":\"Column\"},{\"attributes\":{\"line_alpha\":0.1,\"line_color\":\"#1f77b4\",\"line_width\":2,\"x\":{\"field\":\"x\"},\"y\":{\"field\":\"y\"}},\"id\":\"5eaaf496-f070-4304-8b98-8f6b1fac525c\",\"type\":\"Line\"},{\"attributes\":{\"data_source\":{\"id\":\"98f928e1-521a-4f7f-8a71-2ad6e30960e1\",\"type\":\"ColumnDataSource\"},\"glyph\":{\"id\":\"a5c11ae3-8b6c-4505-883c-8ae74194366f\",\"type\":\"Line\"},\"hover_glyph\":null,\"muted_glyph\":null,\"nonselection_glyph\":{\"id\":\"5eaaf496-f070-4304-8b98-8f6b1fac525c\",\"type\":\"Line\"},\"selection_glyph\":null,\"view\":{\"id\":\"ca43168b-bf0c-449a-8083-b404afc307a3\",\"type\":\"CDSView\"}},\"id\":\"fa988784-7448-4bc9-b809-462f008abb24\",\"type\":\"GlyphRenderer\"},{\"attributes\":{\"source\":{\"id\":\"98f928e1-521a-4f7f-8a71-2ad6e30960e1\",\"type\":\"ColumnDataSource\"}},\"id\":\"ca43168b-bf0c-449a-8083-b404afc307a3\",\"type\":\"CDSView\"},{\"attributes\":{\"plot\":null,\"text\":\"\"},\"id\":\"ba2bd8e8-443b-4a7a-98cb-f1feb41de544\",\"type\":\"Title\"},{\"attributes\":{\"children\":[{\"id\":\"63b6b0e8-ab9c-4c10-a458-2e0575b45132\",\"subtype\":\"Figure\",\"type\":\"Plot\"},{\"id\":\"943ad0c0-5442-43ad-b947-56418cccb86c\",\"subtype\":\"Figure\",\"type\":\"Plot\"}]},\"id\":\"1f3c9f9f-e526-40cc-b11c-89debcd1fc14\",\"type\":\"Row\"},{\"attributes\":{},\"id\":\"f8568fe2-af66-422b-a26b-f97432b3c807\",\"type\":\"ResetTool\"},{\"attributes\":{\"label\":{\"value\":\"CRD\"},\"renderers\":[{\"id\":\"cd523f7f-137c-45be-aac7-a43b010e1601\",\"type\":\"GlyphRenderer\"},{\"id\":\"e901fad6-ffe8-49e0-8a49-554c8b481b88\",\"type\":\"GlyphRenderer\"}]},\"id\":\"b9293616-70c7-47f1-b480-a70101733932\",\"type\":\"LegendItem\"},{\"attributes\":{},\"id\":\"af83b1d6-56a5-4dcb-81a2-8134de2da8ff\",\"type\":\"Selection\"},{\"attributes\":{\"label\":{\"value\":\"WGT igg=1\"},\"renderers\":[{\"id\":\"715c22b6-a91b-4ca9-a515-91a2fcd8b1dd\",\"type\":\"GlyphRenderer\"},{\"id\":\"ff6ddf34-cf5a-47ed-ab37-9ccee9154500\",\"type\":\"GlyphRenderer\"}]},\"id\":\"7fadb684-cc03-448b-815f-8429e9ee9126\",\"type\":\"LegendItem\"},{\"attributes\":{\"label\":{\"value\":\"WGT igg=10\"},\"renderers\":[{\"id\":\"9d462386-61c5-4e16-bb90-090537041263\",\"type\":\"GlyphRenderer\"},{\"id\":\"fa988784-7448-4bc9-b809-462f008abb24\",\"type\":\"GlyphRenderer\"}]},\"id\":\"93d34c2c-4819-4301-83a0-9e3957c66e80\",\"type\":\"LegendItem\"},{\"attributes\":{},\"id\":\"a0e176f1-c459-4569-897a-cc9af563995f\",\"type\":\"UnionRenderers\"},{\"attributes\":{},\"id\":\"45da672d-8da1-43ec-a8d5-c16d123b2894\",\"type\":\"Selection\"},{\"attributes\":{},\"id\":\"87b1b43a-f598-49bd-981b-bb4769ee83cd\",\"type\":\"BasicTickFormatter\"},{\"attributes\":{},\"id\":\"b64ffbcc-aeac-4a0e-b88d-3f859d73147a\",\"type\":\"Selection\"},{\"attributes\":{},\"id\":\"fa4fc5f3-c8f8-4953-8915-5ec2080d0108\",\"type\":\"UnionRenderers\"},{\"attributes\":{},\"id\":\"cad4f4e3-9db0-4747-a64b-593a95440886\",\"type\":\"BasicTickFormatter\"},{\"attributes\":{},\"id\":\"73619fa8-a9e2-4259-86a2-44c3826ac040\",\"type\":\"UnionRenderers\"},{\"attributes\":{},\"id\":\"cfb5f83a-5bbb-4ea9-ab45-4dd3e9f8e192\",\"type\":\"Selection\"},{\"attributes\":{},\"id\":\"c6305e37-b4cb-4492-a096-2bb95ffff9f7\",\"type\":\"UnionRenderers\"},{\"attributes\":{\"ticker\":null},\"id\":\"06a61ff1-743b-49f7-8b3d-2f6a81c9fbac\",\"type\":\"LogTickFormatter\"},{\"attributes\":{\"callback\":null,\"end\":0.14784659789461999,\"start\":-0.05167867971262},\"id\":\"7d7b01bd-6cc1-43a2-8688-719ef675415b\",\"type\":\"Range1d\"},{\"attributes\":{\"callback\":null,\"data\":{\"x\":{\"__ndarray__\":\"7AlS5pkLn79Vmt/CRbCev4u0wZqT8p2/D08LFFEunb9/dOabIWacv0cbLocvmpu/8QmAHa/Kmr8CZFSyyPeZv4Cm4G//IZm//GJKXONJmL9G6cDsU3CXv3Fd8xKJlpa/DUjOh3W9lb8SUQ+kMaSUv8CrrxnVQpC/fbrJjt6HeL/Ou08ze42AP0rpVWqu+pk/Ygv4uM3Dpz/YOhTdlmWyPzFQ2dSCN7o/nPwtrttHwT9UAtXxiazCP7zoGv/V1sA/+9MbljHIuz9f3VYCr6i0P9C1/uIvVaw/C7ZM9tvboT/uoXCC3jeUP0ZQxyajEYQ/TmcWUNOycD8cAVcYtC5LPyDpiMHZdF+/6qfM2FkBeL+sQKrcArKLv1fCKoQ075i/o3d7J55nob9uETMbJgqkv8ijmPWd16S/15xjaPFapb9M1lQwpo+lv/D2cIVqd6W/mGgNQw4Spb+yJDByFGqkvxfe/SUAhqO/IdgmaH1ror8yl/Q8sh+hv/A/x/ZvTp+/BarVhbsKnL+weLHCgnqYvzTaefKQpZS/+RIo7nGQkL8P8gWY632Iv3Ev40uPzn6/uMgajZ+AZ7/lob0HNFNgP1WkUINa7Xw/XIzcjTtEiT99otw+2DmSP4hMIf+Z9Jc/OsiQRDemnT+rcX4BJXWhPyOjhlwQnaM/dhlBij4zpT9S99tw33KmP8lFryUlwKc/hKEoIwVsqT9hQ8ipmpOrP//ixLcMI64/W2arBhB9sD8U9j+n0wGyP5miJkVxm7M/HA8beQ1ItT/B4dMunAi3P8l/GfSr3rg/\",\"dtype\":\"float64\",\"shape\":[75]},\"y\":{\"__ndarray__\":\"GhExyth1ND/Sv8nbtpRIP2vylNV0PVE/aTum7souWD/At0SJ8fVgPw3Iuahxymc/MSNhhJWvcD/bTfBN02d3P2zb5nxnaoA/CD5h5MAGhz8NmeH1TyaQP+zrCsc9p5Y/LbKd76fGnz/bLW5ISEmmPww9YvTcQq8/JV2OstnstT8Er5Y7M8G+P0c+r3jqkcU/5h99k6ZBzj88bCIzFzjVP4enV8oyxN0//yH99nXg5D8qOpLLf0jtP5kqGJXUifQ/c9cS8kHP/D+/DpwzojQEQIEmwoanVwxA4lgXt9HgE0BSSZ2AJuIbQAMJih9jjiNA5q4l5INuK0AwTKYKRj0zQNv5fmq8/DpAaCJseHrtQkB/+zpwzoxKQM3MzMzMeFJAZmZmZmZqWEAAAAAAAFxeQM3MzMzMJmJAmpmZmZkfZUBmZmZmZhhoQDMzMzMzEWtAAAAAAAAKbkBmZmZmZoFwQM3MzMzM/XFAMzMzMzN6c0CamZmZmfZ0QAAAAAAAc3ZAZmZmZmbvd0DNzMzMzGt5QDMzMzMz6HpAmpmZmZlkfEAAAAAAAOF9QGZmZmZmXX9AZmZmZuZsgECamZmZGSuBQM3MzMxM6YFAAAAAAICngkAzMzMzs2WDQGZmZmbmI4RAmpmZmRnihEDNzMzMTKCFQAAAAACAXoZAMzMzM7Mch0BmZmZm5tqHQJqZmZkZmYhAzczMzExXiUAAAAAAgBWKQDMzMzOz04pAZmZmZuaRi0CamZmZGVCMQM3MzMxMDo1AAAAAAIDMjUAzMzMzs4qOQGZmZmbmSI9A\",\"dtype\":\"float64\",\"shape\":[75]}},\"selected\":{\"id\":\"e4a2eb22-c3a5-4275-99c2-97141891b4c1\",\"type\":\"Selection\"},\"selection_policy\":{\"id\":\"cc27f7b4-1c05-4cdc-985c-b568ad8bf659\",\"type\":\"UnionRenderers\"}},\"id\":\"21715a51-5ea7-4f32-918f-57190f35adbc\",\"type\":\"ColumnDataSource\"},{\"attributes\":{\"source\":{\"id\":\"69501fef-879e-49df-8bbd-34725402c2cd\",\"type\":\"ColumnDataSource\"}},\"id\":\"3e258abf-360a-4fb6-b283-545fe4bbd7c4\",\"type\":\"CDSView\"},{\"attributes\":{\"callback\":null,\"end\":0.09854029321629999,\"start\":-0.0435041740463},\"id\":\"bd3089cc-607a-43d6-80aa-b846398e7bee\",\"type\":\"Range1d\"},{\"attributes\":{\"line_alpha\":0.6,\"line_color\":\"#984ea3\",\"line_width\":3,\"x\":{\"field\":\"x\"},\"y\":{\"field\":\"y\"}},\"id\":\"ebe7b15b-8ad9-4a3e-9a90-3a2dde0d6526\",\"type\":\"Line\"},{\"attributes\":{\"fill_alpha\":{\"value\":0.1},\"fill_color\":{\"value\":\"#1f77b4\"},\"line_alpha\":{\"value\":0.1},\"line_color\":{\"value\":\"#1f77b4\"},\"x\":{\"field\":\"x\"},\"y\":{\"field\":\"y\"}},\"id\":\"927aede0-cd14-45b8-a89d-9b4fd1314644\",\"type\":\"Circle\"},{\"attributes\":{\"data_source\":{\"id\":\"99695655-5f6f-4b73-ade5-b6677a26c774\",\"type\":\"ColumnDataSource\"},\"glyph\":{\"id\":\"ebe7b15b-8ad9-4a3e-9a90-3a2dde0d6526\",\"type\":\"Line\"},\"hover_glyph\":null,\"muted_glyph\":null,\"nonselection_glyph\":{\"id\":\"878ef5fc-33a4-48af-a845-a121cc7ca52f\",\"type\":\"Line\"},\"selection_glyph\":null,\"view\":{\"id\":\"265b5d99-732b-4aa3-81a3-965b6bcf426f\",\"type\":\"CDSView\"}},\"id\":\"d52fca2d-dc0c-4a44-9602-78ce662781dd\",\"type\":\"GlyphRenderer\"},{\"attributes\":{\"items\":[{\"id\":\"50e719e1-6fe2-476f-8ac0-6f147a6b07e8\",\"type\":\"LegendItem\"},{\"id\":\"06fbdd72-8e6d-49dc-9553-1af9ad341f98\",\"type\":\"LegendItem\"},{\"id\":\"3a42a0e6-7f09-4bb5-a09e-5bf6b7b0c6dc\",\"type\":\"LegendItem\"}],\"label_text_font_size\":{\"value\":\"8pt\"},\"location\":\"top_center\",\"orientation\":\"horizontal\",\"plot\":{\"id\":\"63b6b0e8-ab9c-4c10-a458-2e0575b45132\",\"subtype\":\"Figure\",\"type\":\"Plot\"}},\"id\":\"03e071e7-c08b-4457-af49-54a419c7f8a1\",\"type\":\"Legend\"},{\"attributes\":{},\"id\":\"8f7bb7b3-1ec5-43cb-9d91-d8bf8006f4c6\",\"type\":\"LinearScale\"},{\"attributes\":{\"plot\":null,\"text\":\"\"},\"id\":\"a71581a5-3bba-409b-bf68-b689a7a34d4d\",\"type\":\"Title\"},{\"attributes\":{\"active_drag\":\"auto\",\"active_inspect\":\"auto\",\"active_scroll\":\"auto\",\"active_tap\":\"auto\",\"tools\":[{\"id\":\"a087e09d-9166-4a1c-ba6e-1019ec45ff4a\",\"type\":\"PanTool\"},{\"id\":\"0bd27577-e5d5-409b-9e13-b53eb651026c\",\"type\":\"WheelZoomTool\"},{\"id\":\"805bcbca-ab22-48cb-bec3-a4e88c8db2ac\",\"type\":\"BoxZoomTool\"},{\"id\":\"05b5377c-5390-4fdf-b417-05fd5c77cec8\",\"type\":\"SaveTool\"},{\"id\":\"f8568fe2-af66-422b-a26b-f97432b3c807\",\"type\":\"ResetTool\"},{\"id\":\"13f5622d-ca74-4cf9-9d4a-02b1f93bd309\",\"type\":\"HelpTool\"}]},\"id\":\"a3baf9e5-aaaf-4507-981b-f522f9c3a461\",\"type\":\"Toolbar\"},{\"attributes\":{\"callback\":null,\"data\":{\"x\":{\"__ndarray__\":\"IVoLF9ENor8Vc1kIxNqhv23tDbubcaG/unQNoF4Eob/rOTlR/JOgvz16ctGWKaC/f8q1/HByn79MxY8e94Gev6YLZRd7q52/V52OlQ7YnL+EsyxPVOmbv/Rs/21dI5u/ZR2hkDttmr9XYAx6vHOZv1t1yaT5AJW/heGolsqphL9x/MuzxoJzPzGWXnERbJc/bxUxaMznpj9oiOAAPi2yP3KAQAQHOLo/RRURo+diwT+uzs9jBKPCPxRZtwLrecA/JHGnMxieuj/kMoGem2WzP+1ht/Z1Z6o/KICaOkIMoT9/TVCb0t2UP3VecRLqYYg/4hGPaVQIez+Wi1DMYexnP+JMDu7Qg0S/+dabw6Bydb8y/0GAll+Lvy4CA8K3Apm/iCsy/bxwob8ZCxlAnvOjv050ouKvi6S/cOhnnU3npL9urnBDMvqkv0DPgcNKxKS/rOAgKmBFpL+1Y7iKOImjv9tlNBJ5lqK/Nh9NcAd1ob/PLhIYcCWgv0zju0wfYJ2/ixIAfAMwmr9IVCcwwLmWv4sS1u05C5O/6XCsKcBFjr9uT59iyAyGv5YFWrNM13q/0evdjIuEYb8OwDVYeUBkPzBc51212n0/KNYS+9c8iT/yFzan6/mRPyYYwWhagpc/Bs6YpKoDnT+lsn4f7gmhP6rLAl6IC6M/pyWw2nBopD9CnxHflGWlP+IkHwExdKY/z6GtqH3vpz9FJxwkzfWpP7ssoWMccqw/SyN0/IE+rz98EAx6JiOxP/ZKokZiwbI/eAY5jAh7tD9EwzDyqFW2P8IZz+qcW7g/\",\"dtype\":\"float64\",\"shape\":[75]},\"y\":{\"__ndarray__\":\"GhExyth1ND/Sv8nbtpRIP2vylNV0PVE/aTum7souWD/At0SJ8fVgPw3Iuahxymc/MSNhhJWvcD/bTfBN02d3P2zb5nxnaoA/CD5h5MAGhz8NmeH1TyaQP+zrCsc9p5Y/LbKd76fGnz/bLW5ISEmmPww9YvTcQq8/JV2OstnstT8Er5Y7M8G+P0c+r3jqkcU/5h99k6ZBzj88bCIzFzjVP4enV8oyxN0//yH99nXg5D8qOpLLf0jtP5kqGJXUifQ/c9cS8kHP/D+/DpwzojQEQIEmwoanVwxA4lgXt9HgE0BSSZ2AJuIbQAMJih9jjiNA5q4l5INuK0AwTKYKRj0zQNv5fmq8/DpAaCJseHrtQkB/+zpwzoxKQM3MzMzMeFJAZmZmZmZqWEAAAAAAAFxeQM3MzMzMJmJAmpmZmZkfZUBmZmZmZhhoQDMzMzMzEWtAAAAAAAAKbkBmZmZmZoFwQM3MzMzM/XFAMzMzMzN6c0CamZmZmfZ0QAAAAAAAc3ZAZmZmZmbvd0DNzMzMzGt5QDMzMzMz6HpAmpmZmZlkfEAAAAAAAOF9QGZmZmZmXX9AZmZmZuZsgECamZmZGSuBQM3MzMxM6YFAAAAAAICngkAzMzMzs2WDQGZmZmbmI4RAmpmZmRnihEDNzMzMTKCFQAAAAACAXoZAMzMzM7Mch0BmZmZm5tqHQJqZmZkZmYhAzczMzExXiUAAAAAAgBWKQDMzMzOz04pAZmZmZuaRi0CamZmZGVCMQM3MzMxMDo1AAAAAAIDMjUAzMzMzs4qOQGZmZmbmSI9A\",\"dtype\":\"float64\",\"shape\":[75]}},\"selected\":{\"id\":\"b64ffbcc-aeac-4a0e-b88d-3f859d73147a\",\"type\":\"Selection\"},\"selection_policy\":{\"id\":\"73619fa8-a9e2-4259-86a2-44c3826ac040\",\"type\":\"UnionRenderers\"}},\"id\":\"99695655-5f6f-4b73-ade5-b6677a26c774\",\"type\":\"ColumnDataSource\"},{\"attributes\":{\"data_source\":{\"id\":\"21715a51-5ea7-4f32-918f-57190f35adbc\",\"type\":\"ColumnDataSource\"},\"glyph\":{\"id\":\"c223d700-fb73-4ee7-ac99-0bcbfa53a0b8\",\"type\":\"Triangle\"},\"hover_glyph\":null,\"muted_glyph\":null,\"nonselection_glyph\":{\"id\":\"f2c4587a-489f-4cd0-944c-647cd25c66fd\",\"type\":\"Triangle\"},\"selection_glyph\":null,\"view\":{\"id\":\"8fde972d-0631-48d8-a230-8562aa553c7e\",\"type\":\"CDSView\"}},\"id\":\"2d321aca-9802-4ef5-890b-5a218c492e82\",\"type\":\"GlyphRenderer\"},{\"attributes\":{\"fill_alpha\":{\"value\":0.1},\"fill_color\":{\"value\":\"#1f77b4\"},\"line_alpha\":{\"value\":0.1},\"line_color\":{\"value\":\"#1f77b4\"},\"x\":{\"field\":\"x\"},\"y\":{\"field\":\"y\"}},\"id\":\"f2c4587a-489f-4cd0-944c-647cd25c66fd\",\"type\":\"Triangle\"},{\"attributes\":{\"source\":{\"id\":\"21715a51-5ea7-4f32-918f-57190f35adbc\",\"type\":\"ColumnDataSource\"}},\"id\":\"8fde972d-0631-48d8-a230-8562aa553c7e\",\"type\":\"CDSView\"},{\"attributes\":{},\"id\":\"f909adb7-40e2-4cd6-a7df-b3911900220b\",\"type\":\"BasicTicker\"},{\"attributes\":{\"above\":[{\"id\":\"dbfd80b8-4a75-452c-8101-b6e47dce476f\",\"type\":\"Legend\"}],\"below\":[{\"id\":\"dfa34554-0e6a-4add-9f7b-bd06ea514099\",\"type\":\"LinearAxis\"}],\"left\":[{\"id\":\"9a119dfa-7aad-4c8f-99f7-a184302777d2\",\"type\":\"LogAxis\"}],\"plot_height\":500,\"plot_width\":400,\"renderers\":[{\"id\":\"dfa34554-0e6a-4add-9f7b-bd06ea514099\",\"type\":\"LinearAxis\"},{\"id\":\"f9be1c24-90ac-43fd-9259-8d59561a5fa9\",\"type\":\"Grid\"},{\"id\":\"9a119dfa-7aad-4c8f-99f7-a184302777d2\",\"type\":\"LogAxis\"},{\"id\":\"786cbba4-7e6a-4c02-9c5c-742dbb3b6754\",\"type\":\"Grid\"},{\"id\":\"2113e855-3060-4e02-a4df-90a5fde3a2d3\",\"type\":\"BoxAnnotation\"},{\"id\":\"cd523f7f-137c-45be-aac7-a43b010e1601\",\"type\":\"GlyphRenderer\"},{\"id\":\"e901fad6-ffe8-49e0-8a49-554c8b481b88\",\"type\":\"GlyphRenderer\"},{\"id\":\"715c22b6-a91b-4ca9-a515-91a2fcd8b1dd\",\"type\":\"GlyphRenderer\"},{\"id\":\"ff6ddf34-cf5a-47ed-ab37-9ccee9154500\",\"type\":\"GlyphRenderer\"},{\"id\":\"9d462386-61c5-4e16-bb90-090537041263\",\"type\":\"GlyphRenderer\"},{\"id\":\"fa988784-7448-4bc9-b809-462f008abb24\",\"type\":\"GlyphRenderer\"},{\"id\":\"dbfd80b8-4a75-452c-8101-b6e47dce476f\",\"type\":\"Legend\"}],\"title\":{\"id\":\"a71581a5-3bba-409b-bf68-b689a7a34d4d\",\"type\":\"Title\"},\"toolbar\":{\"id\":\"66b050e4-e3fe-47af-90f0-4b6b8fd39f1f\",\"type\":\"Toolbar\"},\"toolbar_location\":null,\"x_range\":{\"id\":\"7d7b01bd-6cc1-43a2-8688-719ef675415b\",\"type\":\"Range1d\"},\"x_scale\":{\"id\":\"de3eaeda-2319-478d-9a74-02c2ba7c76cb\",\"type\":\"LinearScale\"},\"y_range\":{\"id\":\"624e4b54-3a7f-4683-b8ab-cbbf855f35a0\",\"type\":\"Range1d\"},\"y_scale\":{\"id\":\"76ae056c-8833-4c9e-920a-ad6d0c5e83dd\",\"type\":\"LogScale\"}},\"id\":\"943ad0c0-5442-43ad-b947-56418cccb86c\",\"subtype\":\"Figure\",\"type\":\"Plot\"},{\"attributes\":{\"dimension\":1,\"plot\":{\"id\":\"63b6b0e8-ab9c-4c10-a458-2e0575b45132\",\"subtype\":\"Figure\",\"type\":\"Plot\"},\"ticker\":{\"id\":\"f909adb7-40e2-4cd6-a7df-b3911900220b\",\"type\":\"BasicTicker\"}},\"id\":\"d412d17a-0aef-436c-9081-79f54264048c\",\"type\":\"Grid\"},{\"attributes\":{},\"id\":\"0bd27577-e5d5-409b-9e13-b53eb651026c\",\"type\":\"WheelZoomTool\"},{\"attributes\":{\"fill_alpha\":{\"value\":0.7},\"fill_color\":{\"value\":\"#377eb8\"},\"line_alpha\":{\"value\":0.7},\"line_color\":{\"value\":\"#377eb8\"},\"x\":{\"field\":\"x\"},\"y\":{\"field\":\"y\"}},\"id\":\"c223d700-fb73-4ee7-ac99-0bcbfa53a0b8\",\"type\":\"Triangle\"},{\"attributes\":{\"line_alpha\":0.1,\"line_color\":\"#1f77b4\",\"line_width\":3,\"x\":{\"field\":\"x\"},\"y\":{\"field\":\"y\"}},\"id\":\"878ef5fc-33a4-48af-a845-a121cc7ca52f\",\"type\":\"Line\"},{\"attributes\":{\"source\":{\"id\":\"99695655-5f6f-4b73-ade5-b6677a26c774\",\"type\":\"ColumnDataSource\"}},\"id\":\"265b5d99-732b-4aa3-81a3-965b6bcf426f\",\"type\":\"CDSView\"},{\"attributes\":{\"line_alpha\":0.3,\"line_color\":\"#377eb8\",\"line_width\":2,\"x\":{\"field\":\"x\"},\"y\":{\"field\":\"y\"}},\"id\":\"a72d65c7-ec5e-4d76-98f7-4a6027298cd8\",\"type\":\"Line\"},{\"attributes\":{\"callback\":null,\"data\":{\"x\":{\"__ndarray__\":\"7AlS5pkLn79Vmt/CRbCev4u0wZqT8p2/D08LFFEunb9/dOabIWacv0cbLocvmpu/8QmAHa/Kmr8CZFSyyPeZv4Cm4G//IZm//GJKXONJmL9G6cDsU3CXv3Fd8xKJlpa/DUjOh3W9lb8SUQ+kMaSUv8CrrxnVQpC/fbrJjt6HeL/Ou08ze42AP0rpVWqu+pk/Ygv4uM3Dpz/YOhTdlmWyPzFQ2dSCN7o/nPwtrttHwT9UAtXxiazCP7zoGv/V1sA/+9MbljHIuz9f3VYCr6i0P9C1/uIvVaw/C7ZM9tvboT/uoXCC3jeUP0ZQxyajEYQ/TmcWUNOycD8cAVcYtC5LPyDpiMHZdF+/6qfM2FkBeL+sQKrcArKLv1fCKoQ075i/o3d7J55nob9uETMbJgqkv8ijmPWd16S/15xjaPFapb9M1lQwpo+lv/D2cIVqd6W/mGgNQw4Spb+yJDByFGqkvxfe/SUAhqO/IdgmaH1ror8yl/Q8sh+hv/A/x/ZvTp+/BarVhbsKnL+weLHCgnqYvzTaefKQpZS/+RIo7nGQkL8P8gWY632Iv3Ev40uPzn6/uMgajZ+AZ7/lob0HNFNgP1WkUINa7Xw/XIzcjTtEiT99otw+2DmSP4hMIf+Z9Jc/OsiQRDemnT+rcX4BJXWhPyOjhlwQnaM/dhlBij4zpT9S99tw33KmP8lFryUlwKc/hKEoIwVsqT9hQ8ipmpOrP//ixLcMI64/W2arBhB9sD8U9j+n0wGyP5miJkVxm7M/HA8beQ1ItT/B4dMunAi3P8l/GfSr3rg/\",\"dtype\":\"float64\",\"shape\":[75]},\"y\":{\"__ndarray__\":\"GhExyth1ND/Sv8nbtpRIP2vylNV0PVE/aTum7souWD/At0SJ8fVgPw3Iuahxymc/MSNhhJWvcD/bTfBN02d3P2zb5nxnaoA/CD5h5MAGhz8NmeH1TyaQP+zrCsc9p5Y/LbKd76fGnz/bLW5ISEmmPww9YvTcQq8/JV2OstnstT8Er5Y7M8G+P0c+r3jqkcU/5h99k6ZBzj88bCIzFzjVP4enV8oyxN0//yH99nXg5D8qOpLLf0jtP5kqGJXUifQ/c9cS8kHP/D+/DpwzojQEQIEmwoanVwxA4lgXt9HgE0BSSZ2AJuIbQAMJih9jjiNA5q4l5INuK0AwTKYKRj0zQNv5fmq8/DpAaCJseHrtQkB/+zpwzoxKQM3MzMzMeFJAZmZmZmZqWEAAAAAAAFxeQM3MzMzMJmJAmpmZmZkfZUBmZmZmZhhoQDMzMzMzEWtAAAAAAAAKbkBmZmZmZoFwQM3MzMzM/XFAMzMzMzN6c0CamZmZmfZ0QAAAAAAAc3ZAZmZmZmbvd0DNzMzMzGt5QDMzMzMz6HpAmpmZmZlkfEAAAAAAAOF9QGZmZmZmXX9AZmZmZuZsgECamZmZGSuBQM3MzMxM6YFAAAAAAICngkAzMzMzs2WDQGZmZmbmI4RAmpmZmRnihEDNzMzMTKCFQAAAAACAXoZAMzMzM7Mch0BmZmZm5tqHQJqZmZkZmYhAzczMzExXiUAAAAAAgBWKQDMzMzOz04pAZmZmZuaRi0CamZmZGVCMQM3MzMxMDo1AAAAAAIDMjUAzMzMzs4qOQGZmZmbmSI9A\",\"dtype\":\"float64\",\"shape\":[75]}},\"selected\":{\"id\":\"78c2167c-2a33-43f4-bfa4-21e0fcbf0ce7\",\"type\":\"Selection\"},\"selection_policy\":{\"id\":\"d61b6b76-a059-49c4-90ab-ca3b43753837\",\"type\":\"UnionRenderers\"}},\"id\":\"7fb69ad2-0ecd-4e8a-bf2e-f4fb705b8cf9\",\"type\":\"ColumnDataSource\"},{\"attributes\":{\"source\":{\"id\":\"7fb69ad2-0ecd-4e8a-bf2e-f4fb705b8cf9\",\"type\":\"ColumnDataSource\"}},\"id\":\"b49ff219-74a9-41b6-90ea-bdd93c070386\",\"type\":\"CDSView\"},{\"attributes\":{\"line_alpha\":0.1,\"line_color\":\"#1f77b4\",\"line_width\":2,\"x\":{\"field\":\"x\"},\"y\":{\"field\":\"y\"}},\"id\":\"b02cacca-2053-454d-bb4c-aa4f45682874\",\"type\":\"Line\"},{\"attributes\":{\"num_minor_ticks\":10},\"id\":\"e96066f6-b580-4378-91cf-288d135f0bd6\",\"type\":\"LogTicker\"},{\"attributes\":{\"label\":{\"value\":\"CRD\"},\"renderers\":[{\"id\":\"59da6c2f-f0d9-461d-a926-70f51e2e826c\",\"type\":\"GlyphRenderer\"},{\"id\":\"045dd50b-bd6d-4ddf-9145-3fe772db5de1\",\"type\":\"GlyphRenderer\"}]},\"id\":\"50e719e1-6fe2-476f-8ac0-6f147a6b07e8\",\"type\":\"LegendItem\"},{\"attributes\":{\"axis_label\":\"pressure [mb]\",\"formatter\":{\"id\":\"2a85db0a-fee1-4a73-8b27-1aaa0c3c5d91\",\"type\":\"BasicTickFormatter\"},\"plot\":{\"id\":\"63b6b0e8-ab9c-4c10-a458-2e0575b45132\",\"subtype\":\"Figure\",\"type\":\"Plot\"},\"ticker\":{\"id\":\"f909adb7-40e2-4cd6-a7df-b3911900220b\",\"type\":\"BasicTicker\"}},\"id\":\"4258c4f8-cd20-4828-bb64-0635a8c321c2\",\"type\":\"LinearAxis\"},{\"attributes\":{\"data_source\":{\"id\":\"7fb69ad2-0ecd-4e8a-bf2e-f4fb705b8cf9\",\"type\":\"ColumnDataSource\"},\"glyph\":{\"id\":\"a72d65c7-ec5e-4d76-98f7-4a6027298cd8\",\"type\":\"Line\"},\"hover_glyph\":null,\"muted_glyph\":null,\"nonselection_glyph\":{\"id\":\"b02cacca-2053-454d-bb4c-aa4f45682874\",\"type\":\"Line\"},\"selection_glyph\":null,\"view\":{\"id\":\"b49ff219-74a9-41b6-90ea-bdd93c070386\",\"type\":\"CDSView\"}},\"id\":\"72785bd2-f26e-46f7-abf1-18814b6ccc27\",\"type\":\"GlyphRenderer\"},{\"attributes\":{\"active_drag\":\"auto\",\"active_inspect\":\"auto\",\"active_scroll\":\"auto\",\"active_tap\":\"auto\",\"tools\":[{\"id\":\"3868fef0-8e01-4824-8c69-595d055c244b\",\"type\":\"PanTool\"},{\"id\":\"d60e5d9a-e88d-4b83-88f2-d86f32f15c09\",\"type\":\"WheelZoomTool\"},{\"id\":\"38432322-524e-4700-acf5-a601f99ec743\",\"type\":\"BoxZoomTool\"},{\"id\":\"c19de6d1-9e68-4e05-a4cd-b8587c111792\",\"type\":\"SaveTool\"},{\"id\":\"fd32a29b-8fd0-4096-b3dd-296efd1409b3\",\"type\":\"ResetTool\"},{\"id\":\"9d4aeb36-0451-4eb4-8961-a8e33b6017e2\",\"type\":\"HelpTool\"}]},\"id\":\"66b050e4-e3fe-47af-90f0-4b6b8fd39f1f\",\"type\":\"Toolbar\"},{\"attributes\":{},\"id\":\"e2e47237-4a4d-44b9-8486-aafcf2fdb70c\",\"type\":\"BasicTicker\"},{\"attributes\":{\"axis_label\":\"cooling rate [K/day]\",\"formatter\":{\"id\":\"87b1b43a-f598-49bd-981b-bb4769ee83cd\",\"type\":\"BasicTickFormatter\"},\"plot\":{\"id\":\"63b6b0e8-ab9c-4c10-a458-2e0575b45132\",\"subtype\":\"Figure\",\"type\":\"Plot\"},\"ticker\":{\"id\":\"e2e47237-4a4d-44b9-8486-aafcf2fdb70c\",\"type\":\"BasicTicker\"}},\"id\":\"f22aa452-017b-4ad7-ac81-e00c7b171761\",\"type\":\"LinearAxis\"},{\"attributes\":{},\"id\":\"68a08938-7d11-41ef-ad49-8910d5c7cef3\",\"type\":\"BasicTicker\"},{\"attributes\":{},\"id\":\"de3eaeda-2319-478d-9a74-02c2ba7c76cb\",\"type\":\"LinearScale\"},{\"attributes\":{\"plot\":{\"id\":\"63b6b0e8-ab9c-4c10-a458-2e0575b45132\",\"subtype\":\"Figure\",\"type\":\"Plot\"},\"ticker\":{\"id\":\"e2e47237-4a4d-44b9-8486-aafcf2fdb70c\",\"type\":\"BasicTicker\"}},\"id\":\"6ccb352c-3a19-4de7-bc27-aa6395f042e8\",\"type\":\"Grid\"},{\"attributes\":{\"label\":{\"value\":\"WGT igg=1\"},\"renderers\":[{\"id\":\"79947ce9-edf5-4214-8c23-fff6ec1b5ef0\",\"type\":\"GlyphRenderer\"},{\"id\":\"d52fca2d-dc0c-4a44-9602-78ce662781dd\",\"type\":\"GlyphRenderer\"}]},\"id\":\"06fbdd72-8e6d-49dc-9553-1af9ad341f98\",\"type\":\"LegendItem\"},{\"attributes\":{\"label\":{\"value\":\"WGT igg=10\"},\"renderers\":[{\"id\":\"2d321aca-9802-4ef5-890b-5a218c492e82\",\"type\":\"GlyphRenderer\"},{\"id\":\"72785bd2-f26e-46f7-abf1-18814b6ccc27\",\"type\":\"GlyphRenderer\"}]},\"id\":\"3a42a0e6-7f09-4bb5-a09e-5bf6b7b0c6dc\",\"type\":\"LegendItem\"},{\"attributes\":{\"plot\":{\"id\":\"943ad0c0-5442-43ad-b947-56418cccb86c\",\"subtype\":\"Figure\",\"type\":\"Plot\"},\"ticker\":{\"id\":\"68a08938-7d11-41ef-ad49-8910d5c7cef3\",\"type\":\"BasicTicker\"}},\"id\":\"f9be1c24-90ac-43fd-9259-8d59561a5fa9\",\"type\":\"Grid\"},{\"attributes\":{\"overlay\":{\"id\":\"07e2a2f9-23f9-4f50-a299-22fd7162f9b7\",\"type\":\"BoxAnnotation\"}},\"id\":\"805bcbca-ab22-48cb-bec3-a4e88c8db2ac\",\"type\":\"BoxZoomTool\"},{\"attributes\":{},\"id\":\"76ae056c-8833-4c9e-920a-ad6d0c5e83dd\",\"type\":\"LogScale\"},{\"attributes\":{},\"id\":\"264c66e2-6362-4549-9cb2-31c1594e40a6\",\"type\":\"LinearScale\"},{\"attributes\":{\"items\":[{\"id\":\"b9293616-70c7-47f1-b480-a70101733932\",\"type\":\"LegendItem\"},{\"id\":\"7fadb684-cc03-448b-815f-8429e9ee9126\",\"type\":\"LegendItem\"},{\"id\":\"93d34c2c-4819-4301-83a0-9e3957c66e80\",\"type\":\"LegendItem\"}],\"label_text_font_size\":{\"value\":\"8pt\"},\"location\":\"top_center\",\"orientation\":\"horizontal\",\"plot\":{\"id\":\"943ad0c0-5442-43ad-b947-56418cccb86c\",\"subtype\":\"Figure\",\"type\":\"Plot\"}},\"id\":\"dbfd80b8-4a75-452c-8101-b6e47dce476f\",\"type\":\"Legend\"},{\"attributes\":{\"axis_label\":\"pressure [mb]\",\"formatter\":{\"id\":\"06a61ff1-743b-49f7-8b3d-2f6a81c9fbac\",\"type\":\"LogTickFormatter\"},\"plot\":{\"id\":\"943ad0c0-5442-43ad-b947-56418cccb86c\",\"subtype\":\"Figure\",\"type\":\"Plot\"},\"ticker\":{\"id\":\"e96066f6-b580-4378-91cf-288d135f0bd6\",\"type\":\"LogTicker\"}},\"id\":\"9a119dfa-7aad-4c8f-99f7-a184302777d2\",\"type\":\"LogAxis\"},{\"attributes\":{\"axis_label\":\"cooling rate [K/day]\",\"formatter\":{\"id\":\"cad4f4e3-9db0-4747-a64b-593a95440886\",\"type\":\"BasicTickFormatter\"},\"plot\":{\"id\":\"943ad0c0-5442-43ad-b947-56418cccb86c\",\"subtype\":\"Figure\",\"type\":\"Plot\"},\"ticker\":{\"id\":\"68a08938-7d11-41ef-ad49-8910d5c7cef3\",\"type\":\"BasicTicker\"}},\"id\":\"dfa34554-0e6a-4add-9f7b-bd06ea514099\",\"type\":\"LinearAxis\"},{\"attributes\":{\"overlay\":{\"id\":\"2113e855-3060-4e02-a4df-90a5fde3a2d3\",\"type\":\"BoxAnnotation\"}},\"id\":\"38432322-524e-4700-acf5-a601f99ec743\",\"type\":\"BoxZoomTool\"},{\"attributes\":{\"dimension\":1,\"plot\":{\"id\":\"943ad0c0-5442-43ad-b947-56418cccb86c\",\"subtype\":\"Figure\",\"type\":\"Plot\"},\"ticker\":{\"id\":\"e96066f6-b580-4378-91cf-288d135f0bd6\",\"type\":\"LogTicker\"}},\"id\":\"786cbba4-7e6a-4c02-9c5c-742dbb3b6754\",\"type\":\"Grid\"},{\"attributes\":{},\"id\":\"d61b6b76-a059-49c4-90ab-ca3b43753837\",\"type\":\"UnionRenderers\"},{\"attributes\":{},\"id\":\"13f5622d-ca74-4cf9-9d4a-02b1f93bd309\",\"type\":\"HelpTool\"},{\"attributes\":{},\"id\":\"3868fef0-8e01-4824-8c69-595d055c244b\",\"type\":\"PanTool\"},{\"attributes\":{},\"id\":\"d60e5d9a-e88d-4b83-88f2-d86f32f15c09\",\"type\":\"WheelZoomTool\"},{\"attributes\":{},\"id\":\"a087e09d-9166-4a1c-ba6e-1019ec45ff4a\",\"type\":\"PanTool\"},{\"attributes\":{\"callback\":null,\"data\":{\"x\":{\"__ndarray__\":\"L1BVqfhCrr8Glpltc/qtvxaytMipWa2/Y8Be+ty1rL/+KHdSMBmsv673111Tfau/CleoZD3oqr/pd1RL/VyqvxiYNurv3qm/4ctL6Dt1qb95k2TtoCipv/Y071XoBKm/yp7Ho+Mbqb9CqJlceU2pv9N9Xq0PG6e/N5vzSFmUoL9rpPJvfv6Mv9JYV3ZOBH4/ReGJINudoD9qQyQYxbGvPzyOwlLq0bg/7KXuc5QwwT/TEfO+h+HBP2iPS5+M37w/Yed/DYsUtT8MV5XUZpWrP/JOUsLw1KE/HJf1i6dYmD8AbOOA+5CRP5MXvNiS1ok/MTXDARAlgj8q+5bvLqh1P1zVZunw81s/7PFDHbozYL+BtXoRSlmAv9i5ldjPf5C/N9S4z9vsl79IKP9YXY6bv+a1u8CH7Ju/Xcg1sdp4nL9wai1iirWcvwzzrWLxkJy/0k/DVQoFnL8+aMSY5h2bvxFPSo4h45m/ojGC6oBbmL9e1v+m84yWv1AYaMSyfJS/8HUWwvYtkr8+htGnakaPv3scD8tswIm/oKUKKQrNg78yl9zENtx6v+PYD/LkiWq/4J+livkzMz8hsN+PhpZwP4oASLWwe4A//cMd3O02iT9uRZAcg0GRP/yzyhr8KZY/PFPDRmMmmz/wAuE/TbafP2jTrYZ6j6E/LVNZqr2Loj/B7a116hyjP34TwKBaxqM/RnTV99HvpD9SEKhLVLumPxWWhcIPC6k/Nh7pEpa1qz9SJvlfgaWuPzRGm3AD7bA/e65h0Aqvsj/4QFQHyqW0PxPjCwuU6rY/\",\"dtype\":\"float64\",\"shape\":[75]},\"y\":{\"__ndarray__\":\"GhExyth1ND/Sv8nbtpRIP2vylNV0PVE/aTum7souWD/At0SJ8fVgPw3Iuahxymc/MSNhhJWvcD/bTfBN02d3P2zb5nxnaoA/CD5h5MAGhz8NmeH1TyaQP+zrCsc9p5Y/LbKd76fGnz/bLW5ISEmmPww9YvTcQq8/JV2OstnstT8Er5Y7M8G+P0c+r3jqkcU/5h99k6ZBzj88bCIzFzjVP4enV8oyxN0//yH99nXg5D8qOpLLf0jtP5kqGJXUifQ/c9cS8kHP/D+/DpwzojQEQIEmwoanVwxA4lgXt9HgE0BSSZ2AJuIbQAMJih9jjiNA5q4l5INuK0AwTKYKRj0zQNv5fmq8/DpAaCJseHrtQkB/+zpwzoxKQM3MzMzMeFJAZmZmZmZqWEAAAAAAAFxeQM3MzMzMJmJAmpmZmZkfZUBmZmZmZhhoQDMzMzMzEWtAAAAAAAAKbkBmZmZmZoFwQM3MzMzM/XFAMzMzMzN6c0CamZmZmfZ0QAAAAAAAc3ZAZmZmZmbvd0DNzMzMzGt5QDMzMzMz6HpAmpmZmZlkfEAAAAAAAOF9QGZmZmZmXX9AZmZmZuZsgECamZmZGSuBQM3MzMxM6YFAAAAAAICngkAzMzMzs2WDQGZmZmbmI4RAmpmZmRnihEDNzMzMTKCFQAAAAACAXoZAMzMzM7Mch0BmZmZm5tqHQJqZmZkZmYhAzczMzExXiUAAAAAAgBWKQDMzMzOz04pAZmZmZuaRi0CamZmZGVCMQM3MzMxMDo1AAAAAAIDMjUAzMzMzs4qOQGZmZmbmSI9A\",\"dtype\":\"float64\",\"shape\":[75]}},\"selected\":{\"id\":\"9b4e47fb-1e4a-48fe-9083-98b64b99b68e\",\"type\":\"Selection\"},\"selection_policy\":{\"id\":\"deadffd8-7222-4aba-9948-a6bdc4e997cc\",\"type\":\"UnionRenderers\"}},\"id\":\"100d43e6-084b-45a9-b9be-7be958679224\",\"type\":\"ColumnDataSource\"},{\"attributes\":{},\"id\":\"05b5377c-5390-4fdf-b417-05fd5c77cec8\",\"type\":\"SaveTool\"},{\"attributes\":{},\"id\":\"cc27f7b4-1c05-4cdc-985c-b568ad8bf659\",\"type\":\"UnionRenderers\"},{\"attributes\":{},\"id\":\"e4a2eb22-c3a5-4275-99c2-97141891b4c1\",\"type\":\"Selection\"},{\"attributes\":{},\"id\":\"fd32a29b-8fd0-4096-b3dd-296efd1409b3\",\"type\":\"ResetTool\"},{\"attributes\":{},\"id\":\"9d4aeb36-0451-4eb4-8961-a8e33b6017e2\",\"type\":\"HelpTool\"},{\"attributes\":{\"fill_alpha\":{\"value\":0.1},\"fill_color\":{\"value\":\"#1f77b4\"},\"line_alpha\":{\"value\":0.1},\"line_color\":{\"value\":\"#1f77b4\"},\"x\":{\"field\":\"x\"},\"y\":{\"field\":\"y\"}},\"id\":\"cfaa63f0-dfe6-4125-8345-e68550e4956f\",\"type\":\"Circle\"},{\"attributes\":{\"bottom_units\":\"screen\",\"fill_alpha\":{\"value\":0.5},\"fill_color\":{\"value\":\"lightgrey\"},\"left_units\":\"screen\",\"level\":\"overlay\",\"line_alpha\":{\"value\":1.0},\"line_color\":{\"value\":\"black\"},\"line_dash\":[4,4],\"line_width\":{\"value\":2},\"plot\":null,\"render_mode\":\"css\",\"right_units\":\"screen\",\"top_units\":\"screen\"},\"id\":\"2113e855-3060-4e02-a4df-90a5fde3a2d3\",\"type\":\"BoxAnnotation\"},{\"attributes\":{\"data_source\":{\"id\":\"8cd8b28a-22bd-4af5-af32-39b7212ce62c\",\"type\":\"ColumnDataSource\"},\"glyph\":{\"id\":\"72509cc9-c39e-47fc-b8b0-aae751abf607\",\"type\":\"Circle\"},\"hover_glyph\":null,\"muted_glyph\":null,\"nonselection_glyph\":{\"id\":\"cfaa63f0-dfe6-4125-8345-e68550e4956f\",\"type\":\"Circle\"},\"selection_glyph\":null,\"view\":{\"id\":\"6241d369-7624-4171-a312-7c5c6884711c\",\"type\":\"CDSView\"}},\"id\":\"59da6c2f-f0d9-461d-a926-70f51e2e826c\",\"type\":\"GlyphRenderer\"},{\"attributes\":{\"callback\":null,\"end\":0.01,\"start\":1020},\"id\":\"7ea3d5d7-fd31-4316-b85c-87f27c6f151c\",\"type\":\"Range1d\"},{\"attributes\":{\"source\":{\"id\":\"8cd8b28a-22bd-4af5-af32-39b7212ce62c\",\"type\":\"ColumnDataSource\"}},\"id\":\"6241d369-7624-4171-a312-7c5c6884711c\",\"type\":\"CDSView\"},{\"attributes\":{\"above\":[{\"id\":\"03e071e7-c08b-4457-af49-54a419c7f8a1\",\"type\":\"Legend\"}],\"below\":[{\"id\":\"f22aa452-017b-4ad7-ac81-e00c7b171761\",\"type\":\"LinearAxis\"}],\"left\":[{\"id\":\"4258c4f8-cd20-4828-bb64-0635a8c321c2\",\"type\":\"LinearAxis\"}],\"plot_height\":500,\"plot_width\":400,\"renderers\":[{\"id\":\"f22aa452-017b-4ad7-ac81-e00c7b171761\",\"type\":\"LinearAxis\"},{\"id\":\"6ccb352c-3a19-4de7-bc27-aa6395f042e8\",\"type\":\"Grid\"},{\"id\":\"4258c4f8-cd20-4828-bb64-0635a8c321c2\",\"type\":\"LinearAxis\"},{\"id\":\"d412d17a-0aef-436c-9081-79f54264048c\",\"type\":\"Grid\"},{\"id\":\"07e2a2f9-23f9-4f50-a299-22fd7162f9b7\",\"type\":\"BoxAnnotation\"},{\"id\":\"59da6c2f-f0d9-461d-a926-70f51e2e826c\",\"type\":\"GlyphRenderer\"},{\"id\":\"045dd50b-bd6d-4ddf-9145-3fe772db5de1\",\"type\":\"GlyphRenderer\"},{\"id\":\"79947ce9-edf5-4214-8c23-fff6ec1b5ef0\",\"type\":\"GlyphRenderer\"},{\"id\":\"d52fca2d-dc0c-4a44-9602-78ce662781dd\",\"type\":\"GlyphRenderer\"},{\"id\":\"2d321aca-9802-4ef5-890b-5a218c492e82\",\"type\":\"GlyphRenderer\"},{\"id\":\"72785bd2-f26e-46f7-abf1-18814b6ccc27\",\"type\":\"GlyphRenderer\"},{\"id\":\"03e071e7-c08b-4457-af49-54a419c7f8a1\",\"type\":\"Legend\"}],\"title\":{\"id\":\"ba2bd8e8-443b-4a7a-98cb-f1feb41de544\",\"type\":\"Title\"},\"toolbar\":{\"id\":\"a3baf9e5-aaaf-4507-981b-f522f9c3a461\",\"type\":\"Toolbar\"},\"toolbar_location\":null,\"x_range\":{\"id\":\"bd3089cc-607a-43d6-80aa-b846398e7bee\",\"type\":\"Range1d\"},\"x_scale\":{\"id\":\"8f7bb7b3-1ec5-43cb-9d91-d8bf8006f4c6\",\"type\":\"LinearScale\"},\"y_range\":{\"id\":\"7ea3d5d7-fd31-4316-b85c-87f27c6f151c\",\"type\":\"Range1d\"},\"y_scale\":{\"id\":\"264c66e2-6362-4549-9cb2-31c1594e40a6\",\"type\":\"LinearScale\"}},\"id\":\"63b6b0e8-ab9c-4c10-a458-2e0575b45132\",\"subtype\":\"Figure\",\"type\":\"Plot\"},{\"attributes\":{\"fill_alpha\":{\"value\":0.7},\"fill_color\":{\"value\":\"#4daf4a\"},\"line_alpha\":{\"value\":0.7},\"line_color\":{\"value\":\"#4daf4a\"},\"x\":{\"field\":\"x\"},\"y\":{\"field\":\"y\"}},\"id\":\"d2b7bc97-1d25-457b-a69a-981879740d48\",\"type\":\"Circle\"},{\"attributes\":{\"source\":{\"id\":\"75cb230b-0ae9-42b5-8a02-654c2e6cb391\",\"type\":\"ColumnDataSource\"}},\"id\":\"27c8d02f-ae61-470f-af4c-b5036a61ced9\",\"type\":\"CDSView\"},{\"attributes\":{\"fill_alpha\":{\"value\":0.7},\"fill_color\":{\"value\":\"#984ea3\"},\"line_alpha\":{\"value\":0.7},\"line_color\":{\"value\":\"#984ea3\"},\"x\":{\"field\":\"x\"},\"y\":{\"field\":\"y\"}},\"id\":\"412649fc-e8d2-40bd-9fa7-b716e464ec3c\",\"type\":\"Square\"},{\"attributes\":{\"data_source\":{\"id\":\"69501fef-879e-49df-8bbd-34725402c2cd\",\"type\":\"ColumnDataSource\"},\"glyph\":{\"id\":\"412649fc-e8d2-40bd-9fa7-b716e464ec3c\",\"type\":\"Square\"},\"hover_glyph\":null,\"muted_glyph\":null,\"nonselection_glyph\":{\"id\":\"f90ef353-0577-47e7-9827-2fa4369f1a5e\",\"type\":\"Square\"},\"selection_glyph\":null,\"view\":{\"id\":\"3e258abf-360a-4fb6-b283-545fe4bbd7c4\",\"type\":\"CDSView\"}},\"id\":\"79947ce9-edf5-4214-8c23-fff6ec1b5ef0\",\"type\":\"GlyphRenderer\"},{\"attributes\":{},\"id\":\"c19de6d1-9e68-4e05-a4cd-b8587c111792\",\"type\":\"SaveTool\"},{\"attributes\":{\"data_source\":{\"id\":\"75cb230b-0ae9-42b5-8a02-654c2e6cb391\",\"type\":\"ColumnDataSource\"},\"glyph\":{\"id\":\"15720b34-d27d-46e3-b696-a5c7e4daae78\",\"type\":\"Line\"},\"hover_glyph\":null,\"muted_glyph\":null,\"nonselection_glyph\":{\"id\":\"7d371a32-7ba9-481d-87b9-b8e5ad7a13d5\",\"type\":\"Line\"},\"selection_glyph\":null,\"view\":{\"id\":\"27c8d02f-ae61-470f-af4c-b5036a61ced9\",\"type\":\"CDSView\"}},\"id\":\"045dd50b-bd6d-4ddf-9145-3fe772db5de1\",\"type\":\"GlyphRenderer\"},{\"attributes\":{\"line_alpha\":0.1,\"line_color\":\"#1f77b4\",\"line_width\":1.5,\"x\":{\"field\":\"x\"},\"y\":{\"field\":\"y\"}},\"id\":\"7d371a32-7ba9-481d-87b9-b8e5ad7a13d5\",\"type\":\"Line\"},{\"attributes\":{\"fill_alpha\":{\"value\":0.7},\"fill_color\":{\"value\":\"#4daf4a\"},\"line_alpha\":{\"value\":0.7},\"line_color\":{\"value\":\"#4daf4a\"},\"x\":{\"field\":\"x\"},\"y\":{\"field\":\"y\"}},\"id\":\"72509cc9-c39e-47fc-b8b0-aae751abf607\",\"type\":\"Circle\"},{\"attributes\":{\"fill_alpha\":{\"value\":0.1},\"fill_color\":{\"value\":\"#1f77b4\"},\"line_alpha\":{\"value\":0.1},\"line_color\":{\"value\":\"#1f77b4\"},\"x\":{\"field\":\"x\"},\"y\":{\"field\":\"y\"}},\"id\":\"f90ef353-0577-47e7-9827-2fa4369f1a5e\",\"type\":\"Square\"},{\"attributes\":{\"callback\":null,\"data\":{\"x\":{\"__ndarray__\":\"IVoLF9ENor8Vc1kIxNqhv23tDbubcaG/unQNoF4Eob/rOTlR/JOgvz16ctGWKaC/f8q1/HByn79MxY8e94Gev6YLZRd7q52/V52OlQ7YnL+EsyxPVOmbv/Rs/21dI5u/ZR2hkDttmr9XYAx6vHOZv1t1yaT5AJW/heGolsqphL9x/MuzxoJzPzGWXnERbJc/bxUxaMznpj9oiOAAPi2yP3KAQAQHOLo/RRURo+diwT+uzs9jBKPCPxRZtwLrecA/JHGnMxieuj/kMoGem2WzP+1ht/Z1Z6o/KICaOkIMoT9/TVCb0t2UP3VecRLqYYg/4hGPaVQIez+Wi1DMYexnP+JMDu7Qg0S/+dabw6Bydb8y/0GAll+Lvy4CA8K3Apm/iCsy/bxwob8ZCxlAnvOjv050ouKvi6S/cOhnnU3npL9urnBDMvqkv0DPgcNKxKS/rOAgKmBFpL+1Y7iKOImjv9tlNBJ5lqK/Nh9NcAd1ob/PLhIYcCWgv0zju0wfYJ2/ixIAfAMwmr9IVCcwwLmWv4sS1u05C5O/6XCsKcBFjr9uT59iyAyGv5YFWrNM13q/0evdjIuEYb8OwDVYeUBkPzBc51212n0/KNYS+9c8iT/yFzan6/mRPyYYwWhagpc/Bs6YpKoDnT+lsn4f7gmhP6rLAl6IC6M/pyWw2nBopD9CnxHflGWlP+IkHwExdKY/z6GtqH3vpz9FJxwkzfWpP7ssoWMccqw/SyN0/IE+rz98EAx6JiOxP/ZKokZiwbI/eAY5jAh7tD9EwzDyqFW2P8IZz+qcW7g/\",\"dtype\":\"float64\",\"shape\":[75]},\"y\":{\"__ndarray__\":\"GhExyth1ND/Sv8nbtpRIP2vylNV0PVE/aTum7souWD/At0SJ8fVgPw3Iuahxymc/MSNhhJWvcD/bTfBN02d3P2zb5nxnaoA/CD5h5MAGhz8NmeH1TyaQP+zrCsc9p5Y/LbKd76fGnz/bLW5ISEmmPww9YvTcQq8/JV2OstnstT8Er5Y7M8G+P0c+r3jqkcU/5h99k6ZBzj88bCIzFzjVP4enV8oyxN0//yH99nXg5D8qOpLLf0jtP5kqGJXUifQ/c9cS8kHP/D+/DpwzojQEQIEmwoanVwxA4lgXt9HgE0BSSZ2AJuIbQAMJih9jjiNA5q4l5INuK0AwTKYKRj0zQNv5fmq8/DpAaCJseHrtQkB/+zpwzoxKQM3MzMzMeFJAZmZmZmZqWEAAAAAAAFxeQM3MzMzMJmJAmpmZmZkfZUBmZmZmZhhoQDMzMzMzEWtAAAAAAAAKbkBmZmZmZoFwQM3MzMzM/XFAMzMzMzN6c0CamZmZmfZ0QAAAAAAAc3ZAZmZmZmbvd0DNzMzMzGt5QDMzMzMz6HpAmpmZmZlkfEAAAAAAAOF9QGZmZmZmXX9AZmZmZuZsgECamZmZGSuBQM3MzMxM6YFAAAAAAICngkAzMzMzs2WDQGZmZmbmI4RAmpmZmRnihEDNzMzMTKCFQAAAAACAXoZAMzMzM7Mch0BmZmZm5tqHQJqZmZkZmYhAzczMzExXiUAAAAAAgBWKQDMzMzOz04pAZmZmZuaRi0CamZmZGVCMQM3MzMxMDo1AAAAAAIDMjUAzMzMzs4qOQGZmZmbmSI9A\",\"dtype\":\"float64\",\"shape\":[75]}},\"selected\":{\"id\":\"cfb5f83a-5bbb-4ea9-ab45-4dd3e9f8e192\",\"type\":\"Selection\"},\"selection_policy\":{\"id\":\"c6305e37-b4cb-4492-a096-2bb95ffff9f7\",\"type\":\"UnionRenderers\"}},\"id\":\"69501fef-879e-49df-8bbd-34725402c2cd\",\"type\":\"ColumnDataSource\"},{\"attributes\":{\"line_color\":\"#4daf4a\",\"line_width\":1.5,\"x\":{\"field\":\"x\"},\"y\":{\"field\":\"y\"}},\"id\":\"15720b34-d27d-46e3-b696-a5c7e4daae78\",\"type\":\"Line\"},{\"attributes\":{\"callback\":null,\"data\":{\"x\":{\"__ndarray__\":\"L1BVqfhCrr8Glpltc/qtvxaytMipWa2/Y8Be+ty1rL/+KHdSMBmsv673111Tfau/CleoZD3oqr/pd1RL/VyqvxiYNurv3qm/4ctL6Dt1qb95k2TtoCipv/Y071XoBKm/yp7Ho+Mbqb9CqJlceU2pv9N9Xq0PG6e/N5vzSFmUoL9rpPJvfv6Mv9JYV3ZOBH4/ReGJINudoD9qQyQYxbGvPzyOwlLq0bg/7KXuc5QwwT/TEfO+h+HBP2iPS5+M37w/Yed/DYsUtT8MV5XUZpWrP/JOUsLw1KE/HJf1i6dYmD8AbOOA+5CRP5MXvNiS1ok/MTXDARAlgj8q+5bvLqh1P1zVZunw81s/7PFDHbozYL+BtXoRSlmAv9i5ldjPf5C/N9S4z9vsl79IKP9YXY6bv+a1u8CH7Ju/Xcg1sdp4nL9wai1iirWcvwzzrWLxkJy/0k/DVQoFnL8+aMSY5h2bvxFPSo4h45m/ojGC6oBbmL9e1v+m84yWv1AYaMSyfJS/8HUWwvYtkr8+htGnakaPv3scD8tswIm/oKUKKQrNg78yl9zENtx6v+PYD/LkiWq/4J+livkzMz8hsN+PhpZwP4oASLWwe4A//cMd3O02iT9uRZAcg0GRP/yzyhr8KZY/PFPDRmMmmz/wAuE/TbafP2jTrYZ6j6E/LVNZqr2Loj/B7a116hyjP34TwKBaxqM/RnTV99HvpD9SEKhLVLumPxWWhcIPC6k/Nh7pEpa1qz9SJvlfgaWuPzRGm3AD7bA/e65h0Aqvsj/4QFQHyqW0PxPjCwuU6rY/\",\"dtype\":\"float64\",\"shape\":[75]},\"y\":{\"__ndarray__\":\"GhExyth1ND/Sv8nbtpRIP2vylNV0PVE/aTum7souWD/At0SJ8fVgPw3Iuahxymc/MSNhhJWvcD/bTfBN02d3P2zb5nxnaoA/CD5h5MAGhz8NmeH1TyaQP+zrCsc9p5Y/LbKd76fGnz/bLW5ISEmmPww9YvTcQq8/JV2OstnstT8Er5Y7M8G+P0c+r3jqkcU/5h99k6ZBzj88bCIzFzjVP4enV8oyxN0//yH99nXg5D8qOpLLf0jtP5kqGJXUifQ/c9cS8kHP/D+/DpwzojQEQIEmwoanVwxA4lgXt9HgE0BSSZ2AJuIbQAMJih9jjiNA5q4l5INuK0AwTKYKRj0zQNv5fmq8/DpAaCJseHrtQkB/+zpwzoxKQM3MzMzMeFJAZmZmZmZqWEAAAAAAAFxeQM3MzMzMJmJAmpmZmZkfZUBmZmZmZhhoQDMzMzMzEWtAAAAAAAAKbkBmZmZmZoFwQM3MzMzM/XFAMzMzMzN6c0CamZmZmfZ0QAAAAAAAc3ZAZmZmZmbvd0DNzMzMzGt5QDMzMzMz6HpAmpmZmZlkfEAAAAAAAOF9QGZmZmZmXX9AZmZmZuZsgECamZmZGSuBQM3MzMxM6YFAAAAAAICngkAzMzMzs2WDQGZmZmbmI4RAmpmZmRnihEDNzMzMTKCFQAAAAACAXoZAMzMzM7Mch0BmZmZm5tqHQJqZmZkZmYhAzczMzExXiUAAAAAAgBWKQDMzMzOz04pAZmZmZuaRi0CamZmZGVCMQM3MzMxMDo1AAAAAAIDMjUAzMzMzs4qOQGZmZmbmSI9A\",\"dtype\":\"float64\",\"shape\":[75]}},\"selected\":{\"id\":\"af83b1d6-56a5-4dcb-81a2-8134de2da8ff\",\"type\":\"Selection\"},\"selection_policy\":{\"id\":\"fa4fc5f3-c8f8-4953-8915-5ec2080d0108\",\"type\":\"UnionRenderers\"}},\"id\":\"75cb230b-0ae9-42b5-8a02-654c2e6cb391\",\"type\":\"ColumnDataSource\"},{\"attributes\":{\"toolbar\":{\"id\":\"9b5ad838-29b9-4eb9-a26f-27420f80668f\",\"type\":\"ProxyToolbar\"},\"toolbar_location\":\"above\"},\"id\":\"194ef306-18e9-4b8c-81e4-ac21d4d7909e\",\"type\":\"ToolbarBox\"},{\"attributes\":{},\"id\":\"deadffd8-7222-4aba-9948-a6bdc4e997cc\",\"type\":\"UnionRenderers\"},{\"attributes\":{},\"id\":\"5301f8cc-20ed-4394-b9ca-f7e7300b3741\",\"type\":\"Selection\"},{\"attributes\":{},\"id\":\"346e08dd-6a07-4566-96dd-011533e36097\",\"type\":\"UnionRenderers\"},{\"attributes\":{},\"id\":\"b696b399-b7b6-47c8-aeb0-303b7a714786\",\"type\":\"Selection\"},{\"attributes\":{},\"id\":\"38313ad0-d873-46e7-9af3-d80c69cdeb84\",\"type\":\"UnionRenderers\"},{\"attributes\":{},\"id\":\"9350a10c-c44d-4dba-b327-42b0fadf4a0b\",\"type\":\"Selection\"},{\"attributes\":{},\"id\":\"acdea389-d889-4e40-b7e5-155862875217\",\"type\":\"UnionRenderers\"},{\"attributes\":{},\"id\":\"710972b9-19e2-4c0e-9438-01d82ef621cb\",\"type\":\"Selection\"},{\"attributes\":{},\"id\":\"2885ab94-aa2e-49e4-8c74-ab38dd48e03c\",\"type\":\"UnionRenderers\"},{\"attributes\":{},\"id\":\"df7a2934-b685-46c3-8651-6b8cffe89172\",\"type\":\"Selection\"},{\"attributes\":{},\"id\":\"34219bcf-3aa5-4bdb-b857-5a895750dbcd\",\"type\":\"UnionRenderers\"},{\"attributes\":{\"children\":[{\"id\":\"194ef306-18e9-4b8c-81e4-ac21d4d7909e\",\"type\":\"ToolbarBox\"},{\"id\":\"4dd89752-c580-4eb8-a43d-92677d0f4c28\",\"type\":\"Column\"}]},\"id\":\"fb39db91-dc05-4238-88a5-90bbf2008ead\",\"type\":\"Column\"},{\"attributes\":{\"tools\":[{\"id\":\"a087e09d-9166-4a1c-ba6e-1019ec45ff4a\",\"type\":\"PanTool\"},{\"id\":\"0bd27577-e5d5-409b-9e13-b53eb651026c\",\"type\":\"WheelZoomTool\"},{\"id\":\"805bcbca-ab22-48cb-bec3-a4e88c8db2ac\",\"type\":\"BoxZoomTool\"},{\"id\":\"05b5377c-5390-4fdf-b417-05fd5c77cec8\",\"type\":\"SaveTool\"},{\"id\":\"f8568fe2-af66-422b-a26b-f97432b3c807\",\"type\":\"ResetTool\"},{\"id\":\"13f5622d-ca74-4cf9-9d4a-02b1f93bd309\",\"type\":\"HelpTool\"},{\"id\":\"3868fef0-8e01-4824-8c69-595d055c244b\",\"type\":\"PanTool\"},{\"id\":\"d60e5d9a-e88d-4b83-88f2-d86f32f15c09\",\"type\":\"WheelZoomTool\"},{\"id\":\"38432322-524e-4700-acf5-a601f99ec743\",\"type\":\"BoxZoomTool\"},{\"id\":\"c19de6d1-9e68-4e05-a4cd-b8587c111792\",\"type\":\"SaveTool\"},{\"id\":\"fd32a29b-8fd0-4096-b3dd-296efd1409b3\",\"type\":\"ResetTool\"},{\"id\":\"9d4aeb36-0451-4eb4-8961-a8e33b6017e2\",\"type\":\"HelpTool\"}]},\"id\":\"9b5ad838-29b9-4eb9-a26f-27420f80668f\",\"type\":\"ProxyToolbar\"},{\"attributes\":{},\"id\":\"78c2167c-2a33-43f4-bfa4-21e0fcbf0ce7\",\"type\":\"Selection\"},{\"attributes\":{\"bottom_units\":\"screen\",\"fill_alpha\":{\"value\":0.5},\"fill_color\":{\"value\":\"lightgrey\"},\"left_units\":\"screen\",\"level\":\"overlay\",\"line_alpha\":{\"value\":1.0},\"line_color\":{\"value\":\"black\"},\"line_dash\":[4,4],\"line_width\":{\"value\":2},\"plot\":null,\"render_mode\":\"css\",\"right_units\":\"screen\",\"top_units\":\"screen\"},\"id\":\"07e2a2f9-23f9-4f50-a299-22fd7162f9b7\",\"type\":\"BoxAnnotation\"},{\"attributes\":{\"callback\":null,\"end\":0.01,\"start\":1020},\"id\":\"624e4b54-3a7f-4683-b8ab-cbbf855f35a0\",\"type\":\"Range1d\"}],\"root_ids\":[\"fb39db91-dc05-4238-88a5-90bbf2008ead\"]},\"title\":\"Bokeh Application\",\"version\":\"0.12.16\"}};\n",
       "  var render_items = [{\"docid\":\"45b79160-cdf1-43e0-b10d-f614dd808376\",\"elementid\":\"fa8c235b-d126-4f83-88bd-e42e1e1652b7\",\"modelid\":\"fb39db91-dc05-4238-88a5-90bbf2008ead\"}];\n",
       "  root.Bokeh.embed.embed_items_notebook(docs_json, render_items);\n",
       "\n",
       "  }\n",
       "  if (root.Bokeh !== undefined) {\n",
       "    embed_document(root);\n",
       "  } else {\n",
       "    var attempts = 0;\n",
       "    var timer = setInterval(function(root) {\n",
       "      if (root.Bokeh !== undefined) {\n",
       "        embed_document(root);\n",
       "        clearInterval(timer);\n",
       "      }\n",
       "      attempts++;\n",
       "      if (attempts > 100) {\n",
       "        console.log(\"Bokeh: ERROR: Unable to run BokehJS code because BokehJS library is missing\")\n",
       "        clearInterval(timer);\n",
       "      }\n",
       "    }, 10, root)\n",
       "  }\n",
       "})(window);"
      ],
      "application/vnd.bokehjs_exec.v0+json": ""
     },
     "metadata": {
      "application/vnd.bokehjs_exec.v0+json": {
       "id": "fb39db91-dc05-4238-88a5-90bbf2008ead"
      }
     },
     "output_type": "display_data"
    },
    {
     "data": {
      "text/markdown": [
       "*FIGURE.* Cooling rates. Summed over g."
      ],
      "text/plain": [
       "<IPython.core.display.Markdown object>"
      ]
     },
     "metadata": {},
     "output_type": "display_data"
    },
    {
     "data": {
      "text/html": [
       "<a id=\"Flux_Comparison\"></a>"
      ],
      "text/plain": [
       "<IPython.core.display.HTML object>"
      ]
     },
     "metadata": {},
     "output_type": "display_data"
    },
    {
     "data": {
      "text/markdown": [
       "# Flux Comparison"
      ],
      "text/plain": [
       "<IPython.core.display.Markdown object>"
      ]
     },
     "metadata": {},
     "output_type": "display_data"
    },
    {
     "data": {
      "text/html": [
       "<div>\n",
       "<style scoped>\n",
       "    .dataframe tbody tr th:only-of-type {\n",
       "        vertical-align: middle;\n",
       "    }\n",
       "\n",
       "    .dataframe tbody tr th {\n",
       "        vertical-align: top;\n",
       "    }\n",
       "\n",
       "    .dataframe thead th {\n",
       "        text-align: right;\n",
       "    }\n",
       "</style>\n",
       "<table border=\"1\" class=\"dataframe\">\n",
       "  <thead>\n",
       "    <tr style=\"text-align: right;\">\n",
       "      <th></th>\n",
       "      <th></th>\n",
       "      <th></th>\n",
       "      <th>flug</th>\n",
       "      <th>fldg</th>\n",
       "      <th>fnetg</th>\n",
       "    </tr>\n",
       "    <tr>\n",
       "      <th>g</th>\n",
       "      <th>pressure</th>\n",
       "      <th>level</th>\n",
       "      <th></th>\n",
       "      <th></th>\n",
       "      <th></th>\n",
       "    </tr>\n",
       "  </thead>\n",
       "  <tbody>\n",
       "    <tr>\n",
       "      <th rowspan=\"3\" valign=\"top\">1</th>\n",
       "      <th>0.00</th>\n",
       "      <th>1</th>\n",
       "      <td>-0.043744</td>\n",
       "      <td>0.000000</td>\n",
       "      <td>-0.043744</td>\n",
       "    </tr>\n",
       "    <tr>\n",
       "      <th>109.55</th>\n",
       "      <th>38</th>\n",
       "      <td>-0.032627</td>\n",
       "      <td>0.008445</td>\n",
       "      <td>-0.024183</td>\n",
       "    </tr>\n",
       "    <tr>\n",
       "      <th>1013.00</th>\n",
       "      <th>76</th>\n",
       "      <td>-0.144006</td>\n",
       "      <td>0.109450</td>\n",
       "      <td>-0.034556</td>\n",
       "    </tr>\n",
       "    <tr>\n",
       "      <th rowspan=\"3\" valign=\"top\">2</th>\n",
       "      <th>0.00</th>\n",
       "      <th>1</th>\n",
       "      <td>-0.302512</td>\n",
       "      <td>0.000000</td>\n",
       "      <td>-0.302512</td>\n",
       "    </tr>\n",
       "    <tr>\n",
       "      <th>109.55</th>\n",
       "      <th>38</th>\n",
       "      <td>-0.316006</td>\n",
       "      <td>0.028802</td>\n",
       "      <td>-0.287204</td>\n",
       "    </tr>\n",
       "    <tr>\n",
       "      <th>1013.00</th>\n",
       "      <th>76</th>\n",
       "      <td>-1.074268</td>\n",
       "      <td>0.791326</td>\n",
       "      <td>-0.282942</td>\n",
       "    </tr>\n",
       "    <tr>\n",
       "      <th rowspan=\"3\" valign=\"top\">3</th>\n",
       "      <th>0.00</th>\n",
       "      <th>1</th>\n",
       "      <td>-4.600489</td>\n",
       "      <td>0.000000</td>\n",
       "      <td>-4.600489</td>\n",
       "    </tr>\n",
       "    <tr>\n",
       "      <th>109.55</th>\n",
       "      <th>38</th>\n",
       "      <td>-4.716404</td>\n",
       "      <td>0.028320</td>\n",
       "      <td>-4.688084</td>\n",
       "    </tr>\n",
       "    <tr>\n",
       "      <th>1013.00</th>\n",
       "      <th>76</th>\n",
       "      <td>-8.073110</td>\n",
       "      <td>4.376199</td>\n",
       "      <td>-3.696911</td>\n",
       "    </tr>\n",
       "    <tr>\n",
       "      <th rowspan=\"3\" valign=\"top\">4</th>\n",
       "      <th>0.00</th>\n",
       "      <th>1</th>\n",
       "      <td>-17.174338</td>\n",
       "      <td>0.000000</td>\n",
       "      <td>-17.174338</td>\n",
       "    </tr>\n",
       "    <tr>\n",
       "      <th>109.55</th>\n",
       "      <th>38</th>\n",
       "      <td>-17.197760</td>\n",
       "      <td>0.003061</td>\n",
       "      <td>-17.194699</td>\n",
       "    </tr>\n",
       "    <tr>\n",
       "      <th>1013.00</th>\n",
       "      <th>76</th>\n",
       "      <td>-17.671361</td>\n",
       "      <td>0.834092</td>\n",
       "      <td>-16.837270</td>\n",
       "    </tr>\n",
       "  </tbody>\n",
       "</table>\n",
       "</div>"
      ],
      "text/plain": [
       "                       flug      fldg      fnetg\n",
       "g pressure level                                \n",
       "1 0.00     1      -0.043744  0.000000  -0.043744\n",
       "  109.55   38     -0.032627  0.008445  -0.024183\n",
       "  1013.00  76     -0.144006  0.109450  -0.034556\n",
       "2 0.00     1      -0.302512  0.000000  -0.302512\n",
       "  109.55   38     -0.316006  0.028802  -0.287204\n",
       "  1013.00  76     -1.074268  0.791326  -0.282942\n",
       "3 0.00     1      -4.600489  0.000000  -4.600489\n",
       "  109.55   38     -4.716404  0.028320  -4.688084\n",
       "  1013.00  76     -8.073110  4.376199  -3.696911\n",
       "4 0.00     1     -17.174338  0.000000 -17.174338\n",
       "  109.55   38    -17.197760  0.003061 -17.194699\n",
       "  1013.00  76    -17.671361  0.834092 -16.837270"
      ]
     },
     "metadata": {},
     "output_type": "display_data"
    },
    {
     "data": {
      "text/markdown": [
       "*TABLE.* Fluxes. CRD"
      ],
      "text/plain": [
       "<IPython.core.display.Markdown object>"
      ]
     },
     "metadata": {},
     "output_type": "display_data"
    },
    {
     "data": {
      "text/html": [
       "<div>\n",
       "<style scoped>\n",
       "    .dataframe tbody tr th:only-of-type {\n",
       "        vertical-align: middle;\n",
       "    }\n",
       "\n",
       "    .dataframe tbody tr th {\n",
       "        vertical-align: top;\n",
       "    }\n",
       "\n",
       "    .dataframe thead th {\n",
       "        text-align: right;\n",
       "    }\n",
       "</style>\n",
       "<table border=\"1\" class=\"dataframe\">\n",
       "  <thead>\n",
       "    <tr style=\"text-align: right;\">\n",
       "      <th></th>\n",
       "      <th></th>\n",
       "      <th></th>\n",
       "      <th>flug</th>\n",
       "      <th>fldg</th>\n",
       "      <th>fnetg</th>\n",
       "    </tr>\n",
       "    <tr>\n",
       "      <th>g</th>\n",
       "      <th>pressure</th>\n",
       "      <th>level</th>\n",
       "      <th></th>\n",
       "      <th></th>\n",
       "      <th></th>\n",
       "    </tr>\n",
       "  </thead>\n",
       "  <tbody>\n",
       "    <tr>\n",
       "      <th rowspan=\"3\" valign=\"top\">1</th>\n",
       "      <th>0.00</th>\n",
       "      <th>1</th>\n",
       "      <td>-0.039235</td>\n",
       "      <td>0.000000</td>\n",
       "      <td>-0.039235</td>\n",
       "    </tr>\n",
       "    <tr>\n",
       "      <th>109.55</th>\n",
       "      <th>38</th>\n",
       "      <td>-0.010643</td>\n",
       "      <td>0.007202</td>\n",
       "      <td>-0.003441</td>\n",
       "    </tr>\n",
       "    <tr>\n",
       "      <th>1013.00</th>\n",
       "      <th>76</th>\n",
       "      <td>-0.144642</td>\n",
       "      <td>0.122637</td>\n",
       "      <td>-0.022006</td>\n",
       "    </tr>\n",
       "    <tr>\n",
       "      <th rowspan=\"3\" valign=\"top\">2</th>\n",
       "      <th>0.00</th>\n",
       "      <th>1</th>\n",
       "      <td>-0.134812</td>\n",
       "      <td>0.000000</td>\n",
       "      <td>-0.134812</td>\n",
       "    </tr>\n",
       "    <tr>\n",
       "      <th>109.55</th>\n",
       "      <th>38</th>\n",
       "      <td>-0.176444</td>\n",
       "      <td>0.037023</td>\n",
       "      <td>-0.139421</td>\n",
       "    </tr>\n",
       "    <tr>\n",
       "      <th>1013.00</th>\n",
       "      <th>76</th>\n",
       "      <td>-1.081322</td>\n",
       "      <td>0.820513</td>\n",
       "      <td>-0.260809</td>\n",
       "    </tr>\n",
       "    <tr>\n",
       "      <th rowspan=\"3\" valign=\"top\">3</th>\n",
       "      <th>0.00</th>\n",
       "      <th>1</th>\n",
       "      <td>-4.169889</td>\n",
       "      <td>0.000000</td>\n",
       "      <td>-4.169889</td>\n",
       "    </tr>\n",
       "    <tr>\n",
       "      <th>109.55</th>\n",
       "      <th>38</th>\n",
       "      <td>-4.342114</td>\n",
       "      <td>0.026748</td>\n",
       "      <td>-4.315366</td>\n",
       "    </tr>\n",
       "    <tr>\n",
       "      <th>1013.00</th>\n",
       "      <th>76</th>\n",
       "      <td>-8.121682</td>\n",
       "      <td>4.679749</td>\n",
       "      <td>-3.441933</td>\n",
       "    </tr>\n",
       "    <tr>\n",
       "      <th rowspan=\"3\" valign=\"top\">4</th>\n",
       "      <th>0.00</th>\n",
       "      <th>1</th>\n",
       "      <td>-17.099946</td>\n",
       "      <td>0.000000</td>\n",
       "      <td>-17.099946</td>\n",
       "    </tr>\n",
       "    <tr>\n",
       "      <th>109.55</th>\n",
       "      <th>38</th>\n",
       "      <td>-17.126566</td>\n",
       "      <td>0.002962</td>\n",
       "      <td>-17.123604</td>\n",
       "    </tr>\n",
       "    <tr>\n",
       "      <th>1013.00</th>\n",
       "      <th>76</th>\n",
       "      <td>-17.615100</td>\n",
       "      <td>0.865161</td>\n",
       "      <td>-16.749938</td>\n",
       "    </tr>\n",
       "  </tbody>\n",
       "</table>\n",
       "</div>"
      ],
      "text/plain": [
       "                       flug      fldg      fnetg\n",
       "g pressure level                                \n",
       "1 0.00     1      -0.039235  0.000000  -0.039235\n",
       "  109.55   38     -0.010643  0.007202  -0.003441\n",
       "  1013.00  76     -0.144642  0.122637  -0.022006\n",
       "2 0.00     1      -0.134812  0.000000  -0.134812\n",
       "  109.55   38     -0.176444  0.037023  -0.139421\n",
       "  1013.00  76     -1.081322  0.820513  -0.260809\n",
       "3 0.00     1      -4.169889  0.000000  -4.169889\n",
       "  109.55   38     -4.342114  0.026748  -4.315366\n",
       "  1013.00  76     -8.121682  4.679749  -3.441933\n",
       "4 0.00     1     -17.099946  0.000000 -17.099946\n",
       "  109.55   38    -17.126566  0.002962 -17.123604\n",
       "  1013.00  76    -17.615100  0.865161 -16.749938"
      ]
     },
     "metadata": {},
     "output_type": "display_data"
    },
    {
     "data": {
      "text/markdown": [
       "*TABLE.* Fluxes. WGT igg=1"
      ],
      "text/plain": [
       "<IPython.core.display.Markdown object>"
      ]
     },
     "metadata": {},
     "output_type": "display_data"
    },
    {
     "data": {
      "text/html": [
       "<div>\n",
       "<style scoped>\n",
       "    .dataframe tbody tr th:only-of-type {\n",
       "        vertical-align: middle;\n",
       "    }\n",
       "\n",
       "    .dataframe tbody tr th {\n",
       "        vertical-align: top;\n",
       "    }\n",
       "\n",
       "    .dataframe thead th {\n",
       "        text-align: right;\n",
       "    }\n",
       "</style>\n",
       "<table border=\"1\" class=\"dataframe\">\n",
       "  <thead>\n",
       "    <tr style=\"text-align: right;\">\n",
       "      <th></th>\n",
       "      <th></th>\n",
       "      <th></th>\n",
       "      <th>flug</th>\n",
       "      <th>fldg</th>\n",
       "      <th>fnetg</th>\n",
       "    </tr>\n",
       "    <tr>\n",
       "      <th>g</th>\n",
       "      <th>pressure</th>\n",
       "      <th>level</th>\n",
       "      <th></th>\n",
       "      <th></th>\n",
       "      <th></th>\n",
       "    </tr>\n",
       "  </thead>\n",
       "  <tbody>\n",
       "    <tr>\n",
       "      <th rowspan=\"3\" valign=\"top\">1</th>\n",
       "      <th>0.00</th>\n",
       "      <th>1</th>\n",
       "      <td>-0.040905</td>\n",
       "      <td>0.000000</td>\n",
       "      <td>-0.040905</td>\n",
       "    </tr>\n",
       "    <tr>\n",
       "      <th>109.55</th>\n",
       "      <th>38</th>\n",
       "      <td>-0.009330</td>\n",
       "      <td>0.006731</td>\n",
       "      <td>-0.002598</td>\n",
       "    </tr>\n",
       "    <tr>\n",
       "      <th>1013.00</th>\n",
       "      <th>76</th>\n",
       "      <td>-0.144642</td>\n",
       "      <td>0.125754</td>\n",
       "      <td>-0.018889</td>\n",
       "    </tr>\n",
       "    <tr>\n",
       "      <th rowspan=\"3\" valign=\"top\">2</th>\n",
       "      <th>0.00</th>\n",
       "      <th>1</th>\n",
       "      <td>-0.115536</td>\n",
       "      <td>0.000000</td>\n",
       "      <td>-0.115536</td>\n",
       "    </tr>\n",
       "    <tr>\n",
       "      <th>109.55</th>\n",
       "      <th>38</th>\n",
       "      <td>-0.157323</td>\n",
       "      <td>0.038553</td>\n",
       "      <td>-0.118770</td>\n",
       "    </tr>\n",
       "    <tr>\n",
       "      <th>1013.00</th>\n",
       "      <th>76</th>\n",
       "      <td>-1.081322</td>\n",
       "      <td>0.838059</td>\n",
       "      <td>-0.243264</td>\n",
       "    </tr>\n",
       "    <tr>\n",
       "      <th rowspan=\"3\" valign=\"top\">3</th>\n",
       "      <th>0.00</th>\n",
       "      <th>1</th>\n",
       "      <td>-4.203883</td>\n",
       "      <td>0.000000</td>\n",
       "      <td>-4.203883</td>\n",
       "    </tr>\n",
       "    <tr>\n",
       "      <th>109.55</th>\n",
       "      <th>38</th>\n",
       "      <td>-4.381411</td>\n",
       "      <td>0.022547</td>\n",
       "      <td>-4.358864</td>\n",
       "    </tr>\n",
       "    <tr>\n",
       "      <th>1013.00</th>\n",
       "      <th>76</th>\n",
       "      <td>-8.121682</td>\n",
       "      <td>4.688862</td>\n",
       "      <td>-3.432819</td>\n",
       "    </tr>\n",
       "    <tr>\n",
       "      <th rowspan=\"3\" valign=\"top\">4</th>\n",
       "      <th>0.00</th>\n",
       "      <th>1</th>\n",
       "      <td>-17.134579</td>\n",
       "      <td>0.000000</td>\n",
       "      <td>-17.134579</td>\n",
       "    </tr>\n",
       "    <tr>\n",
       "      <th>109.55</th>\n",
       "      <th>38</th>\n",
       "      <td>-17.159610</td>\n",
       "      <td>0.002682</td>\n",
       "      <td>-17.156928</td>\n",
       "    </tr>\n",
       "    <tr>\n",
       "      <th>1013.00</th>\n",
       "      <th>76</th>\n",
       "      <td>-17.615100</td>\n",
       "      <td>0.813032</td>\n",
       "      <td>-16.802068</td>\n",
       "    </tr>\n",
       "  </tbody>\n",
       "</table>\n",
       "</div>"
      ],
      "text/plain": [
       "                       flug      fldg      fnetg\n",
       "g pressure level                                \n",
       "1 0.00     1      -0.040905  0.000000  -0.040905\n",
       "  109.55   38     -0.009330  0.006731  -0.002598\n",
       "  1013.00  76     -0.144642  0.125754  -0.018889\n",
       "2 0.00     1      -0.115536  0.000000  -0.115536\n",
       "  109.55   38     -0.157323  0.038553  -0.118770\n",
       "  1013.00  76     -1.081322  0.838059  -0.243264\n",
       "3 0.00     1      -4.203883  0.000000  -4.203883\n",
       "  109.55   38     -4.381411  0.022547  -4.358864\n",
       "  1013.00  76     -8.121682  4.688862  -3.432819\n",
       "4 0.00     1     -17.134579  0.000000 -17.134579\n",
       "  109.55   38    -17.159610  0.002682 -17.156928\n",
       "  1013.00  76    -17.615100  0.813032 -16.802068"
      ]
     },
     "metadata": {},
     "output_type": "display_data"
    },
    {
     "data": {
      "text/markdown": [
       "*TABLE.* Fluxes. WGT igg=10"
      ],
      "text/plain": [
       "<IPython.core.display.Markdown object>"
      ]
     },
     "metadata": {},
     "output_type": "display_data"
    },
    {
     "data": {
      "text/html": [
       "<div>\n",
       "<style scoped>\n",
       "    .dataframe tbody tr th:only-of-type {\n",
       "        vertical-align: middle;\n",
       "    }\n",
       "\n",
       "    .dataframe tbody tr th {\n",
       "        vertical-align: top;\n",
       "    }\n",
       "\n",
       "    .dataframe thead th {\n",
       "        text-align: right;\n",
       "    }\n",
       "</style>\n",
       "<table border=\"1\" class=\"dataframe\">\n",
       "  <thead>\n",
       "    <tr style=\"text-align: right;\">\n",
       "      <th></th>\n",
       "      <th></th>\n",
       "      <th></th>\n",
       "      <th>flug</th>\n",
       "      <th>fldg</th>\n",
       "      <th>fnetg</th>\n",
       "    </tr>\n",
       "    <tr>\n",
       "      <th>g</th>\n",
       "      <th>pressure</th>\n",
       "      <th>level</th>\n",
       "      <th></th>\n",
       "      <th></th>\n",
       "      <th></th>\n",
       "    </tr>\n",
       "  </thead>\n",
       "  <tbody>\n",
       "    <tr>\n",
       "      <th rowspan=\"3\" valign=\"top\">1</th>\n",
       "      <th>0.00</th>\n",
       "      <th>1</th>\n",
       "      <td>0.004508</td>\n",
       "      <td>0.000000</td>\n",
       "      <td>0.004508</td>\n",
       "    </tr>\n",
       "    <tr>\n",
       "      <th>109.55</th>\n",
       "      <th>38</th>\n",
       "      <td>0.021985</td>\n",
       "      <td>-0.001243</td>\n",
       "      <td>0.020742</td>\n",
       "    </tr>\n",
       "    <tr>\n",
       "      <th>1013.00</th>\n",
       "      <th>76</th>\n",
       "      <td>-0.000636</td>\n",
       "      <td>0.013187</td>\n",
       "      <td>0.012550</td>\n",
       "    </tr>\n",
       "    <tr>\n",
       "      <th rowspan=\"3\" valign=\"top\">2</th>\n",
       "      <th>0.00</th>\n",
       "      <th>1</th>\n",
       "      <td>0.167701</td>\n",
       "      <td>0.000000</td>\n",
       "      <td>0.167701</td>\n",
       "    </tr>\n",
       "    <tr>\n",
       "      <th>109.55</th>\n",
       "      <th>38</th>\n",
       "      <td>0.139563</td>\n",
       "      <td>0.008221</td>\n",
       "      <td>0.147783</td>\n",
       "    </tr>\n",
       "    <tr>\n",
       "      <th>1013.00</th>\n",
       "      <th>76</th>\n",
       "      <td>-0.007054</td>\n",
       "      <td>0.029187</td>\n",
       "      <td>0.022133</td>\n",
       "    </tr>\n",
       "    <tr>\n",
       "      <th rowspan=\"3\" valign=\"top\">3</th>\n",
       "      <th>0.00</th>\n",
       "      <th>1</th>\n",
       "      <td>0.430600</td>\n",
       "      <td>0.000000</td>\n",
       "      <td>0.430600</td>\n",
       "    </tr>\n",
       "    <tr>\n",
       "      <th>109.55</th>\n",
       "      <th>38</th>\n",
       "      <td>0.374290</td>\n",
       "      <td>-0.001572</td>\n",
       "      <td>0.372718</td>\n",
       "    </tr>\n",
       "    <tr>\n",
       "      <th>1013.00</th>\n",
       "      <th>76</th>\n",
       "      <td>-0.048571</td>\n",
       "      <td>0.303550</td>\n",
       "      <td>0.254979</td>\n",
       "    </tr>\n",
       "    <tr>\n",
       "      <th rowspan=\"3\" valign=\"top\">4</th>\n",
       "      <th>0.00</th>\n",
       "      <th>1</th>\n",
       "      <td>0.074392</td>\n",
       "      <td>0.000000</td>\n",
       "      <td>0.074392</td>\n",
       "    </tr>\n",
       "    <tr>\n",
       "      <th>109.55</th>\n",
       "      <th>38</th>\n",
       "      <td>0.071194</td>\n",
       "      <td>-0.000099</td>\n",
       "      <td>0.071095</td>\n",
       "    </tr>\n",
       "    <tr>\n",
       "      <th>1013.00</th>\n",
       "      <th>76</th>\n",
       "      <td>0.056261</td>\n",
       "      <td>0.031070</td>\n",
       "      <td>0.087332</td>\n",
       "    </tr>\n",
       "  </tbody>\n",
       "</table>\n",
       "</div>"
      ],
      "text/plain": [
       "                      flug      fldg     fnetg\n",
       "g pressure level                              \n",
       "1 0.00     1      0.004508  0.000000  0.004508\n",
       "  109.55   38     0.021985 -0.001243  0.020742\n",
       "  1013.00  76    -0.000636  0.013187  0.012550\n",
       "2 0.00     1      0.167701  0.000000  0.167701\n",
       "  109.55   38     0.139563  0.008221  0.147783\n",
       "  1013.00  76    -0.007054  0.029187  0.022133\n",
       "3 0.00     1      0.430600  0.000000  0.430600\n",
       "  109.55   38     0.374290 -0.001572  0.372718\n",
       "  1013.00  76    -0.048571  0.303550  0.254979\n",
       "4 0.00     1      0.074392  0.000000  0.074392\n",
       "  109.55   38     0.071194 -0.000099  0.071095\n",
       "  1013.00  76     0.056261  0.031070  0.087332"
      ]
     },
     "metadata": {},
     "output_type": "display_data"
    },
    {
     "data": {
      "text/markdown": [
       "*TABLE.* Fluxes. (WGT igg=1) - (CRD)"
      ],
      "text/plain": [
       "<IPython.core.display.Markdown object>"
      ]
     },
     "metadata": {},
     "output_type": "display_data"
    },
    {
     "data": {
      "text/html": [
       "<div>\n",
       "<style scoped>\n",
       "    .dataframe tbody tr th:only-of-type {\n",
       "        vertical-align: middle;\n",
       "    }\n",
       "\n",
       "    .dataframe tbody tr th {\n",
       "        vertical-align: top;\n",
       "    }\n",
       "\n",
       "    .dataframe thead th {\n",
       "        text-align: right;\n",
       "    }\n",
       "</style>\n",
       "<table border=\"1\" class=\"dataframe\">\n",
       "  <thead>\n",
       "    <tr style=\"text-align: right;\">\n",
       "      <th></th>\n",
       "      <th></th>\n",
       "      <th></th>\n",
       "      <th>flug</th>\n",
       "      <th>fldg</th>\n",
       "      <th>fnetg</th>\n",
       "    </tr>\n",
       "    <tr>\n",
       "      <th>g</th>\n",
       "      <th>pressure</th>\n",
       "      <th>level</th>\n",
       "      <th></th>\n",
       "      <th></th>\n",
       "      <th></th>\n",
       "    </tr>\n",
       "  </thead>\n",
       "  <tbody>\n",
       "    <tr>\n",
       "      <th rowspan=\"3\" valign=\"top\">1</th>\n",
       "      <th>0.00</th>\n",
       "      <th>1</th>\n",
       "      <td>0.002838</td>\n",
       "      <td>0.000000</td>\n",
       "      <td>0.002838</td>\n",
       "    </tr>\n",
       "    <tr>\n",
       "      <th>109.55</th>\n",
       "      <th>38</th>\n",
       "      <td>0.023298</td>\n",
       "      <td>-0.001714</td>\n",
       "      <td>0.021584</td>\n",
       "    </tr>\n",
       "    <tr>\n",
       "      <th>1013.00</th>\n",
       "      <th>76</th>\n",
       "      <td>-0.000636</td>\n",
       "      <td>0.016303</td>\n",
       "      <td>0.015667</td>\n",
       "    </tr>\n",
       "    <tr>\n",
       "      <th rowspan=\"3\" valign=\"top\">2</th>\n",
       "      <th>0.00</th>\n",
       "      <th>1</th>\n",
       "      <td>0.186977</td>\n",
       "      <td>0.000000</td>\n",
       "      <td>0.186977</td>\n",
       "    </tr>\n",
       "    <tr>\n",
       "      <th>109.55</th>\n",
       "      <th>38</th>\n",
       "      <td>0.158684</td>\n",
       "      <td>0.009750</td>\n",
       "      <td>0.168434</td>\n",
       "    </tr>\n",
       "    <tr>\n",
       "      <th>1013.00</th>\n",
       "      <th>76</th>\n",
       "      <td>-0.007054</td>\n",
       "      <td>0.046733</td>\n",
       "      <td>0.039679</td>\n",
       "    </tr>\n",
       "    <tr>\n",
       "      <th rowspan=\"3\" valign=\"top\">3</th>\n",
       "      <th>0.00</th>\n",
       "      <th>1</th>\n",
       "      <td>0.396606</td>\n",
       "      <td>0.000000</td>\n",
       "      <td>0.396606</td>\n",
       "    </tr>\n",
       "    <tr>\n",
       "      <th>109.55</th>\n",
       "      <th>38</th>\n",
       "      <td>0.334993</td>\n",
       "      <td>-0.005773</td>\n",
       "      <td>0.329220</td>\n",
       "    </tr>\n",
       "    <tr>\n",
       "      <th>1013.00</th>\n",
       "      <th>76</th>\n",
       "      <td>-0.048571</td>\n",
       "      <td>0.312664</td>\n",
       "      <td>0.264092</td>\n",
       "    </tr>\n",
       "    <tr>\n",
       "      <th rowspan=\"3\" valign=\"top\">4</th>\n",
       "      <th>0.00</th>\n",
       "      <th>1</th>\n",
       "      <td>0.039759</td>\n",
       "      <td>0.000000</td>\n",
       "      <td>0.039759</td>\n",
       "    </tr>\n",
       "    <tr>\n",
       "      <th>109.55</th>\n",
       "      <th>38</th>\n",
       "      <td>0.038150</td>\n",
       "      <td>-0.000379</td>\n",
       "      <td>0.037771</td>\n",
       "    </tr>\n",
       "    <tr>\n",
       "      <th>1013.00</th>\n",
       "      <th>76</th>\n",
       "      <td>0.056261</td>\n",
       "      <td>-0.021060</td>\n",
       "      <td>0.035202</td>\n",
       "    </tr>\n",
       "  </tbody>\n",
       "</table>\n",
       "</div>"
      ],
      "text/plain": [
       "                      flug      fldg     fnetg\n",
       "g pressure level                              \n",
       "1 0.00     1      0.002838  0.000000  0.002838\n",
       "  109.55   38     0.023298 -0.001714  0.021584\n",
       "  1013.00  76    -0.000636  0.016303  0.015667\n",
       "2 0.00     1      0.186977  0.000000  0.186977\n",
       "  109.55   38     0.158684  0.009750  0.168434\n",
       "  1013.00  76    -0.007054  0.046733  0.039679\n",
       "3 0.00     1      0.396606  0.000000  0.396606\n",
       "  109.55   38     0.334993 -0.005773  0.329220\n",
       "  1013.00  76    -0.048571  0.312664  0.264092\n",
       "4 0.00     1      0.039759  0.000000  0.039759\n",
       "  109.55   38     0.038150 -0.000379  0.037771\n",
       "  1013.00  76     0.056261 -0.021060  0.035202"
      ]
     },
     "metadata": {},
     "output_type": "display_data"
    },
    {
     "data": {
      "text/markdown": [
       "*TABLE.* Fluxes. (WGT igg=10) - (CRD)"
      ],
      "text/plain": [
       "<IPython.core.display.Markdown object>"
      ]
     },
     "metadata": {},
     "output_type": "display_data"
    },
    {
     "data": {
      "text/html": [
       "<div>\n",
       "<style scoped>\n",
       "    .dataframe tbody tr th:only-of-type {\n",
       "        vertical-align: middle;\n",
       "    }\n",
       "\n",
       "    .dataframe tbody tr th {\n",
       "        vertical-align: top;\n",
       "    }\n",
       "\n",
       "    .dataframe thead th {\n",
       "        text-align: right;\n",
       "    }\n",
       "</style>\n",
       "<table border=\"1\" class=\"dataframe\">\n",
       "  <thead>\n",
       "    <tr style=\"text-align: right;\">\n",
       "      <th></th>\n",
       "      <th></th>\n",
       "      <th>flug</th>\n",
       "      <th>fldg</th>\n",
       "      <th>fnetg</th>\n",
       "    </tr>\n",
       "    <tr>\n",
       "      <th>pressure</th>\n",
       "      <th>level</th>\n",
       "      <th></th>\n",
       "      <th></th>\n",
       "      <th></th>\n",
       "    </tr>\n",
       "  </thead>\n",
       "  <tbody>\n",
       "    <tr>\n",
       "      <th>0.00</th>\n",
       "      <th>1</th>\n",
       "      <td>-22.121083</td>\n",
       "      <td>0.000000</td>\n",
       "      <td>-22.121083</td>\n",
       "    </tr>\n",
       "    <tr>\n",
       "      <th>109.55</th>\n",
       "      <th>38</th>\n",
       "      <td>-22.262798</td>\n",
       "      <td>0.068628</td>\n",
       "      <td>-22.194170</td>\n",
       "    </tr>\n",
       "    <tr>\n",
       "      <th>1013.00</th>\n",
       "      <th>76</th>\n",
       "      <td>-26.962746</td>\n",
       "      <td>6.111067</td>\n",
       "      <td>-20.851680</td>\n",
       "    </tr>\n",
       "  </tbody>\n",
       "</table>\n",
       "</div>"
      ],
      "text/plain": [
       "                     flug      fldg      fnetg\n",
       "pressure level                                \n",
       "0.00     1     -22.121083  0.000000 -22.121083\n",
       "109.55   38    -22.262798  0.068628 -22.194170\n",
       "1013.00  76    -26.962746  6.111067 -20.851680"
      ]
     },
     "metadata": {},
     "output_type": "display_data"
    },
    {
     "data": {
      "text/markdown": [
       "*TABLE.* Fluxes. CRD"
      ],
      "text/plain": [
       "<IPython.core.display.Markdown object>"
      ]
     },
     "metadata": {},
     "output_type": "display_data"
    },
    {
     "data": {
      "text/html": [
       "<div>\n",
       "<style scoped>\n",
       "    .dataframe tbody tr th:only-of-type {\n",
       "        vertical-align: middle;\n",
       "    }\n",
       "\n",
       "    .dataframe tbody tr th {\n",
       "        vertical-align: top;\n",
       "    }\n",
       "\n",
       "    .dataframe thead th {\n",
       "        text-align: right;\n",
       "    }\n",
       "</style>\n",
       "<table border=\"1\" class=\"dataframe\">\n",
       "  <thead>\n",
       "    <tr style=\"text-align: right;\">\n",
       "      <th></th>\n",
       "      <th></th>\n",
       "      <th>flug</th>\n",
       "      <th>fldg</th>\n",
       "      <th>fnetg</th>\n",
       "    </tr>\n",
       "    <tr>\n",
       "      <th>pressure</th>\n",
       "      <th>level</th>\n",
       "      <th></th>\n",
       "      <th></th>\n",
       "      <th></th>\n",
       "    </tr>\n",
       "  </thead>\n",
       "  <tbody>\n",
       "    <tr>\n",
       "      <th>0.00</th>\n",
       "      <th>1</th>\n",
       "      <td>-21.443881</td>\n",
       "      <td>0.000000</td>\n",
       "      <td>-21.443881</td>\n",
       "    </tr>\n",
       "    <tr>\n",
       "      <th>109.55</th>\n",
       "      <th>38</th>\n",
       "      <td>-21.655767</td>\n",
       "      <td>0.073935</td>\n",
       "      <td>-21.581831</td>\n",
       "    </tr>\n",
       "    <tr>\n",
       "      <th>1013.00</th>\n",
       "      <th>76</th>\n",
       "      <td>-26.962747</td>\n",
       "      <td>6.488060</td>\n",
       "      <td>-20.474685</td>\n",
       "    </tr>\n",
       "  </tbody>\n",
       "</table>\n",
       "</div>"
      ],
      "text/plain": [
       "                     flug      fldg      fnetg\n",
       "pressure level                                \n",
       "0.00     1     -21.443881  0.000000 -21.443881\n",
       "109.55   38    -21.655767  0.073935 -21.581831\n",
       "1013.00  76    -26.962747  6.488060 -20.474685"
      ]
     },
     "metadata": {},
     "output_type": "display_data"
    },
    {
     "data": {
      "text/markdown": [
       "*TABLE.* Fluxes. WGT igg=1"
      ],
      "text/plain": [
       "<IPython.core.display.Markdown object>"
      ]
     },
     "metadata": {},
     "output_type": "display_data"
    },
    {
     "data": {
      "text/html": [
       "<div>\n",
       "<style scoped>\n",
       "    .dataframe tbody tr th:only-of-type {\n",
       "        vertical-align: middle;\n",
       "    }\n",
       "\n",
       "    .dataframe tbody tr th {\n",
       "        vertical-align: top;\n",
       "    }\n",
       "\n",
       "    .dataframe thead th {\n",
       "        text-align: right;\n",
       "    }\n",
       "</style>\n",
       "<table border=\"1\" class=\"dataframe\">\n",
       "  <thead>\n",
       "    <tr style=\"text-align: right;\">\n",
       "      <th></th>\n",
       "      <th></th>\n",
       "      <th>flug</th>\n",
       "      <th>fldg</th>\n",
       "      <th>fnetg</th>\n",
       "    </tr>\n",
       "    <tr>\n",
       "      <th>pressure</th>\n",
       "      <th>level</th>\n",
       "      <th></th>\n",
       "      <th></th>\n",
       "      <th></th>\n",
       "    </tr>\n",
       "  </thead>\n",
       "  <tbody>\n",
       "    <tr>\n",
       "      <th>0.00</th>\n",
       "      <th>1</th>\n",
       "      <td>-21.494903</td>\n",
       "      <td>0.000000</td>\n",
       "      <td>-21.494903</td>\n",
       "    </tr>\n",
       "    <tr>\n",
       "      <th>109.55</th>\n",
       "      <th>38</th>\n",
       "      <td>-21.707673</td>\n",
       "      <td>0.070513</td>\n",
       "      <td>-21.637161</td>\n",
       "    </tr>\n",
       "    <tr>\n",
       "      <th>1013.00</th>\n",
       "      <th>76</th>\n",
       "      <td>-26.962747</td>\n",
       "      <td>6.465706</td>\n",
       "      <td>-20.497040</td>\n",
       "    </tr>\n",
       "  </tbody>\n",
       "</table>\n",
       "</div>"
      ],
      "text/plain": [
       "                     flug      fldg      fnetg\n",
       "pressure level                                \n",
       "0.00     1     -21.494903  0.000000 -21.494903\n",
       "109.55   38    -21.707673  0.070513 -21.637161\n",
       "1013.00  76    -26.962747  6.465706 -20.497040"
      ]
     },
     "metadata": {},
     "output_type": "display_data"
    },
    {
     "data": {
      "text/markdown": [
       "*TABLE.* Fluxes. WGT igg=10"
      ],
      "text/plain": [
       "<IPython.core.display.Markdown object>"
      ]
     },
     "metadata": {},
     "output_type": "display_data"
    },
    {
     "data": {
      "text/html": [
       "<div>\n",
       "<style scoped>\n",
       "    .dataframe tbody tr th:only-of-type {\n",
       "        vertical-align: middle;\n",
       "    }\n",
       "\n",
       "    .dataframe tbody tr th {\n",
       "        vertical-align: top;\n",
       "    }\n",
       "\n",
       "    .dataframe thead th {\n",
       "        text-align: right;\n",
       "    }\n",
       "</style>\n",
       "<table border=\"1\" class=\"dataframe\">\n",
       "  <thead>\n",
       "    <tr style=\"text-align: right;\">\n",
       "      <th></th>\n",
       "      <th></th>\n",
       "      <th>flug</th>\n",
       "      <th>fldg</th>\n",
       "      <th>fnetg</th>\n",
       "    </tr>\n",
       "    <tr>\n",
       "      <th>pressure</th>\n",
       "      <th>level</th>\n",
       "      <th></th>\n",
       "      <th></th>\n",
       "      <th></th>\n",
       "    </tr>\n",
       "  </thead>\n",
       "  <tbody>\n",
       "    <tr>\n",
       "      <th>0.00</th>\n",
       "      <th>1</th>\n",
       "      <td>6.772012e-01</td>\n",
       "      <td>0.000000</td>\n",
       "      <td>0.677201</td>\n",
       "    </tr>\n",
       "    <tr>\n",
       "      <th>109.55</th>\n",
       "      <th>38</th>\n",
       "      <td>6.070311e-01</td>\n",
       "      <td>0.005307</td>\n",
       "      <td>0.612338</td>\n",
       "    </tr>\n",
       "    <tr>\n",
       "      <th>1013.00</th>\n",
       "      <th>76</th>\n",
       "      <td>-8.800000e-07</td>\n",
       "      <td>0.376994</td>\n",
       "      <td>0.376994</td>\n",
       "    </tr>\n",
       "  </tbody>\n",
       "</table>\n",
       "</div>"
      ],
      "text/plain": [
       "                        flug      fldg     fnetg\n",
       "pressure level                                  \n",
       "0.00     1      6.772012e-01  0.000000  0.677201\n",
       "109.55   38     6.070311e-01  0.005307  0.612338\n",
       "1013.00  76    -8.800000e-07  0.376994  0.376994"
      ]
     },
     "metadata": {},
     "output_type": "display_data"
    },
    {
     "data": {
      "text/markdown": [
       "*TABLE.* Fluxes. (WGT igg=1) - (CRD)"
      ],
      "text/plain": [
       "<IPython.core.display.Markdown object>"
      ]
     },
     "metadata": {},
     "output_type": "display_data"
    },
    {
     "data": {
      "text/html": [
       "<div>\n",
       "<style scoped>\n",
       "    .dataframe tbody tr th:only-of-type {\n",
       "        vertical-align: middle;\n",
       "    }\n",
       "\n",
       "    .dataframe tbody tr th {\n",
       "        vertical-align: top;\n",
       "    }\n",
       "\n",
       "    .dataframe thead th {\n",
       "        text-align: right;\n",
       "    }\n",
       "</style>\n",
       "<table border=\"1\" class=\"dataframe\">\n",
       "  <thead>\n",
       "    <tr style=\"text-align: right;\">\n",
       "      <th></th>\n",
       "      <th></th>\n",
       "      <th>flug</th>\n",
       "      <th>fldg</th>\n",
       "      <th>fnetg</th>\n",
       "    </tr>\n",
       "    <tr>\n",
       "      <th>pressure</th>\n",
       "      <th>level</th>\n",
       "      <th></th>\n",
       "      <th></th>\n",
       "      <th></th>\n",
       "    </tr>\n",
       "  </thead>\n",
       "  <tbody>\n",
       "    <tr>\n",
       "      <th>0.00</th>\n",
       "      <th>1</th>\n",
       "      <td>6.261801e-01</td>\n",
       "      <td>0.000000</td>\n",
       "      <td>0.626180</td>\n",
       "    </tr>\n",
       "    <tr>\n",
       "      <th>109.55</th>\n",
       "      <th>38</th>\n",
       "      <td>5.551245e-01</td>\n",
       "      <td>0.001885</td>\n",
       "      <td>0.557009</td>\n",
       "    </tr>\n",
       "    <tr>\n",
       "      <th>1013.00</th>\n",
       "      <th>76</th>\n",
       "      <td>-8.800000e-07</td>\n",
       "      <td>0.354640</td>\n",
       "      <td>0.354640</td>\n",
       "    </tr>\n",
       "  </tbody>\n",
       "</table>\n",
       "</div>"
      ],
      "text/plain": [
       "                        flug      fldg     fnetg\n",
       "pressure level                                  \n",
       "0.00     1      6.261801e-01  0.000000  0.626180\n",
       "109.55   38     5.551245e-01  0.001885  0.557009\n",
       "1013.00  76    -8.800000e-07  0.354640  0.354640"
      ]
     },
     "metadata": {},
     "output_type": "display_data"
    },
    {
     "data": {
      "text/markdown": [
       "*TABLE.* Fluxes. (WGT igg=10) - (CRD)"
      ],
      "text/plain": [
       "<IPython.core.display.Markdown object>"
      ]
     },
     "metadata": {},
     "output_type": "display_data"
    },
    {
     "data": {
      "text/html": [
       "<a id=\"g-interval_Summary\"></a>"
      ],
      "text/plain": [
       "<IPython.core.display.HTML object>"
      ]
     },
     "metadata": {},
     "output_type": "display_data"
    },
    {
     "data": {
      "text/markdown": [
       "# g-interval Summary"
      ],
      "text/plain": [
       "<IPython.core.display.Markdown object>"
      ]
     },
     "metadata": {},
     "output_type": "display_data"
    },
    {
     "data": {
      "text/html": [
       "<div>\n",
       "<style scoped>\n",
       "    .dataframe tbody tr th:only-of-type {\n",
       "        vertical-align: middle;\n",
       "    }\n",
       "\n",
       "    .dataframe tbody tr th {\n",
       "        vertical-align: top;\n",
       "    }\n",
       "\n",
       "    .dataframe thead th {\n",
       "        text-align: right;\n",
       "    }\n",
       "</style>\n",
       "<table border=\"1\" class=\"dataframe\">\n",
       "  <thead>\n",
       "    <tr style=\"text-align: right;\">\n",
       "      <th></th>\n",
       "      <th>abscom</th>\n",
       "      <th>k(ig) / k(ig - 1)</th>\n",
       "      <th>dg</th>\n",
       "      <th>dgs</th>\n",
       "      <th>dg cumsum</th>\n",
       "      <th>dgs cumsum</th>\n",
       "      <th>pref</th>\n",
       "    </tr>\n",
       "    <tr>\n",
       "      <th>g</th>\n",
       "      <th></th>\n",
       "      <th></th>\n",
       "      <th></th>\n",
       "      <th></th>\n",
       "      <th></th>\n",
       "      <th></th>\n",
       "      <th></th>\n",
       "    </tr>\n",
       "  </thead>\n",
       "  <tbody>\n",
       "    <tr>\n",
       "      <th>1</th>\n",
       "      <td>6.376210e-19</td>\n",
       "      <td>NaN</td>\n",
       "      <td>0.005230</td>\n",
       "      <td>0.005365</td>\n",
       "      <td>0.005230</td>\n",
       "      <td>0.005365</td>\n",
       "      <td>1.0</td>\n",
       "    </tr>\n",
       "    <tr>\n",
       "      <th>2</th>\n",
       "      <td>5.353590e-21</td>\n",
       "      <td>8.396195e-03</td>\n",
       "      <td>0.038788</td>\n",
       "      <td>0.040104</td>\n",
       "      <td>0.044018</td>\n",
       "      <td>0.045469</td>\n",
       "      <td>1.0</td>\n",
       "    </tr>\n",
       "    <tr>\n",
       "      <th>3</th>\n",
       "      <td>2.220488e-20</td>\n",
       "      <td>4.147661e+00</td>\n",
       "      <td>0.291909</td>\n",
       "      <td>0.301219</td>\n",
       "      <td>0.335927</td>\n",
       "      <td>0.346687</td>\n",
       "      <td>500.0</td>\n",
       "    </tr>\n",
       "    <tr>\n",
       "      <th>4</th>\n",
       "      <td>2.163830e-26</td>\n",
       "      <td>9.744839e-07</td>\n",
       "      <td>0.664073</td>\n",
       "      <td>0.653313</td>\n",
       "      <td>1.000000</td>\n",
       "      <td>1.000000</td>\n",
       "      <td>500.0</td>\n",
       "    </tr>\n",
       "  </tbody>\n",
       "</table>\n",
       "</div>"
      ],
      "text/plain": [
       "         abscom  k(ig) / k(ig - 1)        dg       dgs  dg cumsum  dgs cumsum  \\\n",
       "g                                                                               \n",
       "1  6.376210e-19                NaN  0.005230  0.005365   0.005230    0.005365   \n",
       "2  5.353590e-21       8.396195e-03  0.038788  0.040104   0.044018    0.045469   \n",
       "3  2.220488e-20       4.147661e+00  0.291909  0.301219   0.335927    0.346687   \n",
       "4  2.163830e-26       9.744839e-07  0.664073  0.653313   1.000000    1.000000   \n",
       "\n",
       "    pref  \n",
       "g         \n",
       "1    1.0  \n",
       "2    1.0  \n",
       "3  500.0  \n",
       "4  500.0  "
      ]
     },
     "metadata": {},
     "output_type": "display_data"
    },
    {
     "data": {
      "text/markdown": [
       "TABLE. g-interval summary.  *abscom* is the lower bound of the g-interval."
      ],
      "text/plain": [
       "<IPython.core.display.Markdown object>"
      ]
     },
     "metadata": {},
     "output_type": "display_data"
    },
    {
     "data": {
      "text/html": [
       "<a id=\"Download_Data\"></a>"
      ],
      "text/plain": [
       "<IPython.core.display.HTML object>"
      ]
     },
     "metadata": {},
     "output_type": "display_data"
    },
    {
     "data": {
      "text/markdown": [
       "# Download Data"
      ],
      "text/plain": [
       "<IPython.core.display.Markdown object>"
      ]
     },
     "metadata": {},
     "output_type": "display_data"
    },
    {
     "data": {
      "text/html": [
       "Download: <a href=\"./lblnew-bestfit_flux.xlsx\">lblnew-bestfit_flux.xlsx</a>"
      ],
      "text/plain": [
       "<IPython.core.display.HTML object>"
      ]
     },
     "metadata": {},
     "output_type": "display_data"
    },
    {
     "data": {
      "text/html": [
       "Download: <a href=\"./lblnew-bestfit_cool.xlsx\">lblnew-bestfit_cool.xlsx</a>"
      ],
      "text/plain": [
       "<IPython.core.display.HTML object>"
      ]
     },
     "metadata": {},
     "output_type": "display_data"
    }
   ],
   "source": [
    "script()"
   ]
  },
  {
   "cell_type": "code",
   "execution_count": 14,
   "metadata": {},
   "outputs": [
    {
     "data": {
      "text/html": [
       "<script>\n",
       "code_show=true; \n",
       "function code_toggle() {\n",
       " if (code_show){\n",
       " $('div.input').hide();\n",
       " } else {\n",
       " $('div.input').show();\n",
       " }\n",
       " code_show = !code_show\n",
       "} \n",
       "$( document ).ready(code_toggle);\n",
       "</script>\n",
       "<form action=\"javascript:code_toggle()\"><input type=\"submit\" value=\"Click here to toggle on/off the raw code.\"></form>"
      ],
      "text/plain": [
       "<IPython.core.display.HTML object>"
      ]
     },
     "execution_count": 14,
     "metadata": {},
     "output_type": "execute_result"
    }
   ],
   "source": [
    "display.HTML('''<script>\n",
    "code_show=true; \n",
    "function code_toggle() {\n",
    " if (code_show){\n",
    " $('div.input').hide();\n",
    " } else {\n",
    " $('div.input').show();\n",
    " }\n",
    " code_show = !code_show\n",
    "} \n",
    "$( document ).ready(code_toggle);\n",
    "</script>\n",
    "<form action=\"javascript:code_toggle()\"><input type=\"submit\" value=\"Click here to toggle on/off the raw code.\"></form>''')"
   ]
  },
  {
   "cell_type": "code",
   "execution_count": 15,
   "metadata": {
    "collapsed": true
   },
   "outputs": [],
   "source": []
  }
 ],
 "metadata": {
  "kernelspec": {
   "display_name": "Python 3",
   "language": "python",
   "name": "python3"
  },
  "language_info": {
   "codemirror_mode": {
    "name": "ipython",
    "version": 3
   },
   "file_extension": ".py",
   "mimetype": "text/x-python",
   "name": "python",
   "nbconvert_exporter": "python",
   "pygments_lexer": "ipython3",
   "version": "3.6.1"
  }
 },
 "nbformat": 4,
 "nbformat_minor": 2
}
