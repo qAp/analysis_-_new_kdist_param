{
 "cells": [
  {
   "cell_type": "code",
   "execution_count": 1,
   "metadata": {
    "collapsed": true
   },
   "outputs": [],
   "source": [
    "%reload_ext autoreload\n",
    "%autoreload 2\n",
    "%matplotlib inline"
   ]
  },
  {
   "cell_type": "code",
   "execution_count": 2,
   "metadata": {
    "collapsed": true
   },
   "outputs": [],
   "source": [
    "import io\n",
    "\n",
    "import numpy as np\n",
    "import pymongo\n",
    "\n",
    "from bokeh.io import output_notebook, show\n",
    "from bokeh.palettes import all_palettes\n",
    "from bokeh.layouts import gridplot\n",
    "\n",
    "from IPython import display\n",
    "\n",
    "from climatools.cliradlw.dataset import load_output_file\n",
    "import climatools.html.html as climahtml\n",
    "from climatools.plot.plot import *"
   ]
  },
  {
   "cell_type": "code",
   "execution_count": 3,
   "metadata": {},
   "outputs": [
    {
     "data": {
      "text/html": [
       "\n",
       "    <div class=\"bk-root\">\n",
       "        <a href=\"https://bokeh.pydata.org\" target=\"_blank\" class=\"bk-logo bk-logo-small bk-logo-notebook\"></a>\n",
       "        <span id=\"aec8817a-3316-4528-a328-ab4b954623df\">Loading BokehJS ...</span>\n",
       "    </div>"
      ]
     },
     "metadata": {},
     "output_type": "display_data"
    },
    {
     "data": {
      "application/javascript": [
       "\n",
       "(function(root) {\n",
       "  function now() {\n",
       "    return new Date();\n",
       "  }\n",
       "\n",
       "  var force = true;\n",
       "\n",
       "  if (typeof (root._bokeh_onload_callbacks) === \"undefined\" || force === true) {\n",
       "    root._bokeh_onload_callbacks = [];\n",
       "    root._bokeh_is_loading = undefined;\n",
       "  }\n",
       "\n",
       "  var JS_MIME_TYPE = 'application/javascript';\n",
       "  var HTML_MIME_TYPE = 'text/html';\n",
       "  var EXEC_MIME_TYPE = 'application/vnd.bokehjs_exec.v0+json';\n",
       "  var CLASS_NAME = 'output_bokeh rendered_html';\n",
       "\n",
       "  /**\n",
       "   * Render data to the DOM node\n",
       "   */\n",
       "  function render(props, node) {\n",
       "    var script = document.createElement(\"script\");\n",
       "    node.appendChild(script);\n",
       "  }\n",
       "\n",
       "  /**\n",
       "   * Handle when an output is cleared or removed\n",
       "   */\n",
       "  function handleClearOutput(event, handle) {\n",
       "    var cell = handle.cell;\n",
       "\n",
       "    var id = cell.output_area._bokeh_element_id;\n",
       "    var server_id = cell.output_area._bokeh_server_id;\n",
       "    // Clean up Bokeh references\n",
       "    if (id !== undefined) {\n",
       "      Bokeh.index[id].model.document.clear();\n",
       "      delete Bokeh.index[id];\n",
       "    }\n",
       "\n",
       "    if (server_id !== undefined) {\n",
       "      // Clean up Bokeh references\n",
       "      var cmd = \"from bokeh.io.state import curstate; print(curstate().uuid_to_server['\" + server_id + \"'].get_sessions()[0].document.roots[0]._id)\";\n",
       "      cell.notebook.kernel.execute(cmd, {\n",
       "        iopub: {\n",
       "          output: function(msg) {\n",
       "            var element_id = msg.content.text.trim();\n",
       "            Bokeh.index[element_id].model.document.clear();\n",
       "            delete Bokeh.index[element_id];\n",
       "          }\n",
       "        }\n",
       "      });\n",
       "      // Destroy server and session\n",
       "      var cmd = \"import bokeh.io.notebook as ion; ion.destroy_server('\" + server_id + \"')\";\n",
       "      cell.notebook.kernel.execute(cmd);\n",
       "    }\n",
       "  }\n",
       "\n",
       "  /**\n",
       "   * Handle when a new output is added\n",
       "   */\n",
       "  function handleAddOutput(event, handle) {\n",
       "    var output_area = handle.output_area;\n",
       "    var output = handle.output;\n",
       "\n",
       "    // limit handleAddOutput to display_data with EXEC_MIME_TYPE content only\n",
       "    if ((output.output_type != \"display_data\") || (!output.data.hasOwnProperty(EXEC_MIME_TYPE))) {\n",
       "      return\n",
       "    }\n",
       "\n",
       "    var toinsert = output_area.element.find(\".\" + CLASS_NAME.split(' ')[0]);\n",
       "\n",
       "    if (output.metadata[EXEC_MIME_TYPE][\"id\"] !== undefined) {\n",
       "      toinsert[toinsert.length - 1].firstChild.textContent = output.data[JS_MIME_TYPE];\n",
       "      // store reference to embed id on output_area\n",
       "      output_area._bokeh_element_id = output.metadata[EXEC_MIME_TYPE][\"id\"];\n",
       "    }\n",
       "    if (output.metadata[EXEC_MIME_TYPE][\"server_id\"] !== undefined) {\n",
       "      var bk_div = document.createElement(\"div\");\n",
       "      bk_div.innerHTML = output.data[HTML_MIME_TYPE];\n",
       "      var script_attrs = bk_div.children[0].attributes;\n",
       "      for (var i = 0; i < script_attrs.length; i++) {\n",
       "        toinsert[toinsert.length - 1].firstChild.setAttribute(script_attrs[i].name, script_attrs[i].value);\n",
       "      }\n",
       "      // store reference to server id on output_area\n",
       "      output_area._bokeh_server_id = output.metadata[EXEC_MIME_TYPE][\"server_id\"];\n",
       "    }\n",
       "  }\n",
       "\n",
       "  function register_renderer(events, OutputArea) {\n",
       "\n",
       "    function append_mime(data, metadata, element) {\n",
       "      // create a DOM node to render to\n",
       "      var toinsert = this.create_output_subarea(\n",
       "        metadata,\n",
       "        CLASS_NAME,\n",
       "        EXEC_MIME_TYPE\n",
       "      );\n",
       "      this.keyboard_manager.register_events(toinsert);\n",
       "      // Render to node\n",
       "      var props = {data: data, metadata: metadata[EXEC_MIME_TYPE]};\n",
       "      render(props, toinsert[toinsert.length - 1]);\n",
       "      element.append(toinsert);\n",
       "      return toinsert\n",
       "    }\n",
       "\n",
       "    /* Handle when an output is cleared or removed */\n",
       "    events.on('clear_output.CodeCell', handleClearOutput);\n",
       "    events.on('delete.Cell', handleClearOutput);\n",
       "\n",
       "    /* Handle when a new output is added */\n",
       "    events.on('output_added.OutputArea', handleAddOutput);\n",
       "\n",
       "    /**\n",
       "     * Register the mime type and append_mime function with output_area\n",
       "     */\n",
       "    OutputArea.prototype.register_mime_type(EXEC_MIME_TYPE, append_mime, {\n",
       "      /* Is output safe? */\n",
       "      safe: true,\n",
       "      /* Index of renderer in `output_area.display_order` */\n",
       "      index: 0\n",
       "    });\n",
       "  }\n",
       "\n",
       "  // register the mime type if in Jupyter Notebook environment and previously unregistered\n",
       "  if (root.Jupyter !== undefined) {\n",
       "    var events = require('base/js/events');\n",
       "    var OutputArea = require('notebook/js/outputarea').OutputArea;\n",
       "\n",
       "    if (OutputArea.prototype.mime_types().indexOf(EXEC_MIME_TYPE) == -1) {\n",
       "      register_renderer(events, OutputArea);\n",
       "    }\n",
       "  }\n",
       "\n",
       "  \n",
       "  if (typeof (root._bokeh_timeout) === \"undefined\" || force === true) {\n",
       "    root._bokeh_timeout = Date.now() + 5000;\n",
       "    root._bokeh_failed_load = false;\n",
       "  }\n",
       "\n",
       "  var NB_LOAD_WARNING = {'data': {'text/html':\n",
       "     \"<div style='background-color: #fdd'>\\n\"+\n",
       "     \"<p>\\n\"+\n",
       "     \"BokehJS does not appear to have successfully loaded. If loading BokehJS from CDN, this \\n\"+\n",
       "     \"may be due to a slow or bad network connection. Possible fixes:\\n\"+\n",
       "     \"</p>\\n\"+\n",
       "     \"<ul>\\n\"+\n",
       "     \"<li>re-rerun `output_notebook()` to attempt to load from CDN again, or</li>\\n\"+\n",
       "     \"<li>use INLINE resources instead, as so:</li>\\n\"+\n",
       "     \"</ul>\\n\"+\n",
       "     \"<code>\\n\"+\n",
       "     \"from bokeh.resources import INLINE\\n\"+\n",
       "     \"output_notebook(resources=INLINE)\\n\"+\n",
       "     \"</code>\\n\"+\n",
       "     \"</div>\"}};\n",
       "\n",
       "  function display_loaded() {\n",
       "    var el = document.getElementById(\"aec8817a-3316-4528-a328-ab4b954623df\");\n",
       "    if (el != null) {\n",
       "      el.textContent = \"BokehJS is loading...\";\n",
       "    }\n",
       "    if (root.Bokeh !== undefined) {\n",
       "      if (el != null) {\n",
       "        el.textContent = \"BokehJS \" + root.Bokeh.version + \" successfully loaded.\";\n",
       "      }\n",
       "    } else if (Date.now() < root._bokeh_timeout) {\n",
       "      setTimeout(display_loaded, 100)\n",
       "    }\n",
       "  }\n",
       "\n",
       "\n",
       "  function run_callbacks() {\n",
       "    try {\n",
       "      root._bokeh_onload_callbacks.forEach(function(callback) { callback() });\n",
       "    }\n",
       "    finally {\n",
       "      delete root._bokeh_onload_callbacks\n",
       "    }\n",
       "    console.info(\"Bokeh: all callbacks have finished\");\n",
       "  }\n",
       "\n",
       "  function load_libs(js_urls, callback) {\n",
       "    root._bokeh_onload_callbacks.push(callback);\n",
       "    if (root._bokeh_is_loading > 0) {\n",
       "      console.log(\"Bokeh: BokehJS is being loaded, scheduling callback at\", now());\n",
       "      return null;\n",
       "    }\n",
       "    if (js_urls == null || js_urls.length === 0) {\n",
       "      run_callbacks();\n",
       "      return null;\n",
       "    }\n",
       "    console.log(\"Bokeh: BokehJS not loaded, scheduling load and callback at\", now());\n",
       "    root._bokeh_is_loading = js_urls.length;\n",
       "    for (var i = 0; i < js_urls.length; i++) {\n",
       "      var url = js_urls[i];\n",
       "      var s = document.createElement('script');\n",
       "      s.src = url;\n",
       "      s.async = false;\n",
       "      s.onreadystatechange = s.onload = function() {\n",
       "        root._bokeh_is_loading--;\n",
       "        if (root._bokeh_is_loading === 0) {\n",
       "          console.log(\"Bokeh: all BokehJS libraries loaded\");\n",
       "          run_callbacks()\n",
       "        }\n",
       "      };\n",
       "      s.onerror = function() {\n",
       "        console.warn(\"failed to load library \" + url);\n",
       "      };\n",
       "      console.log(\"Bokeh: injecting script tag for BokehJS library: \", url);\n",
       "      document.getElementsByTagName(\"head\")[0].appendChild(s);\n",
       "    }\n",
       "  };var element = document.getElementById(\"aec8817a-3316-4528-a328-ab4b954623df\");\n",
       "  if (element == null) {\n",
       "    console.log(\"Bokeh: ERROR: autoload.js configured with elementid 'aec8817a-3316-4528-a328-ab4b954623df' but no matching script tag was found. \")\n",
       "    return false;\n",
       "  }\n",
       "\n",
       "  var js_urls = [\"https://cdn.pydata.org/bokeh/release/bokeh-0.12.16.min.js\", \"https://cdn.pydata.org/bokeh/release/bokeh-widgets-0.12.16.min.js\", \"https://cdn.pydata.org/bokeh/release/bokeh-tables-0.12.16.min.js\", \"https://cdn.pydata.org/bokeh/release/bokeh-gl-0.12.16.min.js\"];\n",
       "\n",
       "  var inline_js = [\n",
       "    function(Bokeh) {\n",
       "      Bokeh.set_log_level(\"info\");\n",
       "    },\n",
       "    \n",
       "    function(Bokeh) {\n",
       "      \n",
       "    },\n",
       "    function(Bokeh) {\n",
       "      console.log(\"Bokeh: injecting CSS: https://cdn.pydata.org/bokeh/release/bokeh-0.12.16.min.css\");\n",
       "      Bokeh.embed.inject_css(\"https://cdn.pydata.org/bokeh/release/bokeh-0.12.16.min.css\");\n",
       "      console.log(\"Bokeh: injecting CSS: https://cdn.pydata.org/bokeh/release/bokeh-widgets-0.12.16.min.css\");\n",
       "      Bokeh.embed.inject_css(\"https://cdn.pydata.org/bokeh/release/bokeh-widgets-0.12.16.min.css\");\n",
       "      console.log(\"Bokeh: injecting CSS: https://cdn.pydata.org/bokeh/release/bokeh-tables-0.12.16.min.css\");\n",
       "      Bokeh.embed.inject_css(\"https://cdn.pydata.org/bokeh/release/bokeh-tables-0.12.16.min.css\");\n",
       "    }\n",
       "  ];\n",
       "\n",
       "  function run_inline_js() {\n",
       "    \n",
       "    if ((root.Bokeh !== undefined) || (force === true)) {\n",
       "      for (var i = 0; i < inline_js.length; i++) {\n",
       "        inline_js[i].call(root, root.Bokeh);\n",
       "      }if (force === true) {\n",
       "        display_loaded();\n",
       "      }} else if (Date.now() < root._bokeh_timeout) {\n",
       "      setTimeout(run_inline_js, 100);\n",
       "    } else if (!root._bokeh_failed_load) {\n",
       "      console.log(\"Bokeh: BokehJS failed to load within specified timeout.\");\n",
       "      root._bokeh_failed_load = true;\n",
       "    } else if (force !== true) {\n",
       "      var cell = $(document.getElementById(\"aec8817a-3316-4528-a328-ab4b954623df\")).parents('.cell').data().cell;\n",
       "      cell.output_area.append_execute_result(NB_LOAD_WARNING)\n",
       "    }\n",
       "\n",
       "  }\n",
       "\n",
       "  if (root._bokeh_is_loading === 0) {\n",
       "    console.log(\"Bokeh: BokehJS loaded, going straight to plotting\");\n",
       "    run_inline_js();\n",
       "  } else {\n",
       "    load_libs(js_urls, function() {\n",
       "      console.log(\"Bokeh: BokehJS plotting callback run at\", now());\n",
       "      run_inline_js();\n",
       "    });\n",
       "  }\n",
       "}(window));"
      ],
      "application/vnd.bokehjs_load.v0+json": "\n(function(root) {\n  function now() {\n    return new Date();\n  }\n\n  var force = true;\n\n  if (typeof (root._bokeh_onload_callbacks) === \"undefined\" || force === true) {\n    root._bokeh_onload_callbacks = [];\n    root._bokeh_is_loading = undefined;\n  }\n\n  \n\n  \n  if (typeof (root._bokeh_timeout) === \"undefined\" || force === true) {\n    root._bokeh_timeout = Date.now() + 5000;\n    root._bokeh_failed_load = false;\n  }\n\n  var NB_LOAD_WARNING = {'data': {'text/html':\n     \"<div style='background-color: #fdd'>\\n\"+\n     \"<p>\\n\"+\n     \"BokehJS does not appear to have successfully loaded. If loading BokehJS from CDN, this \\n\"+\n     \"may be due to a slow or bad network connection. Possible fixes:\\n\"+\n     \"</p>\\n\"+\n     \"<ul>\\n\"+\n     \"<li>re-rerun `output_notebook()` to attempt to load from CDN again, or</li>\\n\"+\n     \"<li>use INLINE resources instead, as so:</li>\\n\"+\n     \"</ul>\\n\"+\n     \"<code>\\n\"+\n     \"from bokeh.resources import INLINE\\n\"+\n     \"output_notebook(resources=INLINE)\\n\"+\n     \"</code>\\n\"+\n     \"</div>\"}};\n\n  function display_loaded() {\n    var el = document.getElementById(\"aec8817a-3316-4528-a328-ab4b954623df\");\n    if (el != null) {\n      el.textContent = \"BokehJS is loading...\";\n    }\n    if (root.Bokeh !== undefined) {\n      if (el != null) {\n        el.textContent = \"BokehJS \" + root.Bokeh.version + \" successfully loaded.\";\n      }\n    } else if (Date.now() < root._bokeh_timeout) {\n      setTimeout(display_loaded, 100)\n    }\n  }\n\n\n  function run_callbacks() {\n    try {\n      root._bokeh_onload_callbacks.forEach(function(callback) { callback() });\n    }\n    finally {\n      delete root._bokeh_onload_callbacks\n    }\n    console.info(\"Bokeh: all callbacks have finished\");\n  }\n\n  function load_libs(js_urls, callback) {\n    root._bokeh_onload_callbacks.push(callback);\n    if (root._bokeh_is_loading > 0) {\n      console.log(\"Bokeh: BokehJS is being loaded, scheduling callback at\", now());\n      return null;\n    }\n    if (js_urls == null || js_urls.length === 0) {\n      run_callbacks();\n      return null;\n    }\n    console.log(\"Bokeh: BokehJS not loaded, scheduling load and callback at\", now());\n    root._bokeh_is_loading = js_urls.length;\n    for (var i = 0; i < js_urls.length; i++) {\n      var url = js_urls[i];\n      var s = document.createElement('script');\n      s.src = url;\n      s.async = false;\n      s.onreadystatechange = s.onload = function() {\n        root._bokeh_is_loading--;\n        if (root._bokeh_is_loading === 0) {\n          console.log(\"Bokeh: all BokehJS libraries loaded\");\n          run_callbacks()\n        }\n      };\n      s.onerror = function() {\n        console.warn(\"failed to load library \" + url);\n      };\n      console.log(\"Bokeh: injecting script tag for BokehJS library: \", url);\n      document.getElementsByTagName(\"head\")[0].appendChild(s);\n    }\n  };var element = document.getElementById(\"aec8817a-3316-4528-a328-ab4b954623df\");\n  if (element == null) {\n    console.log(\"Bokeh: ERROR: autoload.js configured with elementid 'aec8817a-3316-4528-a328-ab4b954623df' but no matching script tag was found. \")\n    return false;\n  }\n\n  var js_urls = [\"https://cdn.pydata.org/bokeh/release/bokeh-0.12.16.min.js\", \"https://cdn.pydata.org/bokeh/release/bokeh-widgets-0.12.16.min.js\", \"https://cdn.pydata.org/bokeh/release/bokeh-tables-0.12.16.min.js\", \"https://cdn.pydata.org/bokeh/release/bokeh-gl-0.12.16.min.js\"];\n\n  var inline_js = [\n    function(Bokeh) {\n      Bokeh.set_log_level(\"info\");\n    },\n    \n    function(Bokeh) {\n      \n    },\n    function(Bokeh) {\n      console.log(\"Bokeh: injecting CSS: https://cdn.pydata.org/bokeh/release/bokeh-0.12.16.min.css\");\n      Bokeh.embed.inject_css(\"https://cdn.pydata.org/bokeh/release/bokeh-0.12.16.min.css\");\n      console.log(\"Bokeh: injecting CSS: https://cdn.pydata.org/bokeh/release/bokeh-widgets-0.12.16.min.css\");\n      Bokeh.embed.inject_css(\"https://cdn.pydata.org/bokeh/release/bokeh-widgets-0.12.16.min.css\");\n      console.log(\"Bokeh: injecting CSS: https://cdn.pydata.org/bokeh/release/bokeh-tables-0.12.16.min.css\");\n      Bokeh.embed.inject_css(\"https://cdn.pydata.org/bokeh/release/bokeh-tables-0.12.16.min.css\");\n    }\n  ];\n\n  function run_inline_js() {\n    \n    if ((root.Bokeh !== undefined) || (force === true)) {\n      for (var i = 0; i < inline_js.length; i++) {\n        inline_js[i].call(root, root.Bokeh);\n      }if (force === true) {\n        display_loaded();\n      }} else if (Date.now() < root._bokeh_timeout) {\n      setTimeout(run_inline_js, 100);\n    } else if (!root._bokeh_failed_load) {\n      console.log(\"Bokeh: BokehJS failed to load within specified timeout.\");\n      root._bokeh_failed_load = true;\n    } else if (force !== true) {\n      var cell = $(document.getElementById(\"aec8817a-3316-4528-a328-ab4b954623df\")).parents('.cell').data().cell;\n      cell.output_area.append_execute_result(NB_LOAD_WARNING)\n    }\n\n  }\n\n  if (root._bokeh_is_loading === 0) {\n    console.log(\"Bokeh: BokehJS loaded, going straight to plotting\");\n    run_inline_js();\n  } else {\n    load_libs(js_urls, function() {\n      console.log(\"Bokeh: BokehJS plotting callback run at\", now());\n      run_inline_js();\n    });\n  }\n}(window));"
     },
     "metadata": {},
     "output_type": "display_data"
    }
   ],
   "source": [
    "output_notebook()"
   ]
  },
  {
   "cell_type": "code",
   "execution_count": 4,
   "metadata": {
    "collapsed": true
   },
   "outputs": [],
   "source": [
    "def make_query(param=None):\n",
    "    '''\n",
    "    Returns the MongoDB query for a lblnew \n",
    "    run's document.\n",
    "    \n",
    "    Parameters\n",
    "    ----------\n",
    "    param: dict\n",
    "    lblnew-bestfit input parameters.\n",
    "    '''\n",
    "    return {'param.' + name: value for name, value in param.items()}   "
   ]
  },
  {
   "cell_type": "code",
   "execution_count": 5,
   "metadata": {
    "collapsed": true
   },
   "outputs": [],
   "source": [
    "def print_input_param():\n",
    "    '''\n",
    "    Print to screen the input parameters \n",
    "    of the lblnew run.\n",
    "    '''\n",
    "    for name, value in sorted(PARAM.items()):\n",
    "        print(f'{name} = {value}')"
   ]
  },
  {
   "cell_type": "code",
   "execution_count": 6,
   "metadata": {
    "collapsed": true
   },
   "outputs": [],
   "source": [
    "def fmt_cool(ds_in):\n",
    "    ds = ds_in.copy(deep=True)\n",
    "    \n",
    "    if 'i' in ds.dims:                                                                                               \n",
    "        ds = ds.sel(i=ds.dims['i']) \n",
    "        \n",
    "    if 'band' in ds.dims:\n",
    "        try:\n",
    "            ds = ds.squeeze('band')\n",
    "        except ValueError:\n",
    "            ds = ds.sum('band') \n",
    "            \n",
    "    return ds['coolrg']\n",
    "\n",
    "\n",
    "\n",
    "def pltdata_cool(g=None):\n",
    "    '''\n",
    "    Define the plotting data for cooling rate\n",
    "    profile plots.  Add/remove entries in\n",
    "    the `data` list.\n",
    "    \n",
    "    Parameters\n",
    "    ----------\n",
    "    g: int\n",
    "        g-interval to be plotted.  If None,\n",
    "        the sum over all g-intervals will be\n",
    "        plotted.\n",
    "    data: dict\n",
    "        Plot data, including colour, line attributes, etc.\n",
    "    '''\n",
    "    colors = all_palettes['Set1'][4]\n",
    "    \n",
    "    if g == None:\n",
    "        ds_cool_crd = DS_COOL_CRD.sum('g')\n",
    "        ds_cool_wgt = DS_COOL_WGT.sum('g')\n",
    "    else:\n",
    "        ds_cool_crd = DS_COOL_CRD.sel(g=g)\n",
    "        ds_cool_wgt = DS_COOL_WGT.sel(g=g)\n",
    "    \n",
    "    data = [\n",
    "        {'label': 'CRD',\n",
    "         'srs': fmt_cool(ds_cool_crd),\n",
    "         'line_dash': 'solid', 'line_width':1.5,\n",
    "         'marker': 'circle', 'mark_size': 5,\n",
    "         'color': colors[2], 'alpha': 1},\n",
    "        {'label': 'WGT igg=1',\n",
    "         'srs': fmt_cool(ds_cool_wgt.sel(igg=1)),\n",
    "         'line_dash': 'solid', 'line_width': 3,\n",
    "         'marker': 'square', 'marker_size': 5,\n",
    "         'color': colors[3], 'alpha': .6},\n",
    "        {'label': 'WGT igg=10',\n",
    "         'srs': fmt_cool(ds_cool_wgt.sel(igg=10)),\n",
    "         'line_dash': 'solid', 'line_width': 2,\n",
    "         'marker': 'triangle', 'marker_size': 2,\n",
    "         'color': colors[1], 'alpha': .3}]\n",
    "    return data\n",
    "\n",
    "\n",
    "\n",
    "def plt_cool(pltdata=None):\n",
    "    '''\n",
    "    Plot cooling rate profiles on linear\n",
    "    and log pressure axes.\n",
    "    \n",
    "    Parameters\n",
    "    ----------\n",
    "    pltdata: dict\n",
    "        Plot data, including colour, line attributes, etc.\n",
    "    everything: bokeh.models.layouts.Column\n",
    "        Cooling rate profile plot.\n",
    "    '''\n",
    "    plin = plt_vert_profile_bokeh(pltdata=pltdata, \n",
    "                                  y_axis_type='linear',\n",
    "                                  prange=(50, 1050))\n",
    "    plin.plot_width, plin.plot_height = 400, 500\n",
    "    \n",
    "    plog = plt_vert_profile_bokeh(pltdata=pltdata,\n",
    "                                  y_axis_type='log',\n",
    "                                  prange=(.01, 200)) \n",
    "    plog.plot_width, plog.plot_height = 400, 500\n",
    "    \n",
    "    everything = gridplot(plin, plog, ncols=2)\n",
    "    return everything\n",
    "    \n",
    "    \n",
    "\n",
    "def script_plt_cool():\n",
    "    '''\n",
    "    Script to plot the cooling rate profiles\n",
    "    in each g-interval and the total \n",
    "    cooling rate profile over all g-intervals.\n",
    "    '''\n",
    "    ng = sum(PARAM['ng_refs'])\n",
    "    for g in np.arange(1, ng + 1):\n",
    "        data = pltdata_cool(g=g)\n",
    "        p = plt_cool(pltdata=data)\n",
    "        show(p)\n",
    "        display.display(\n",
    "            display.Markdown(f'*FIGURE.* Cooling rates. g={g}'))\n",
    "    \n",
    "    data = pltdata_cool()\n",
    "    p = plt_cool(pltdata=data)\n",
    "    show(p)\n",
    "    display.display(\n",
    "        display.Markdown(f'*FIGURE.* Cooling rates. Summed over g.'))\n",
    "    \n"
   ]
  },
  {
   "cell_type": "code",
   "execution_count": 7,
   "metadata": {
    "collapsed": true
   },
   "outputs": [],
   "source": [
    "def fmt_flux(ds_in, ilevels=None):\n",
    "    ds = ds_in.copy(deep=True)\n",
    "    \n",
    "    for l in ('level', 'layer'):\n",
    "        if l in ds.data_vars:\n",
    "            if len(ds[l].dims) > 1:\n",
    "                surface = {d: 0 for d in ds.dims if d != 'pressure'}\n",
    "                coord_level = ds[l][surface]\n",
    "                ds.coords[l] = ('pressure', coord_level)\n",
    "            else:\n",
    "                ds.coords[l] = ('pressure', ds[l])\n",
    "    \n",
    "    if ilevels:\n",
    "        ds = ds.isel(pressure=ilevels)\n",
    "\n",
    "    if 'i' in ds.dims:                                                                                               \n",
    "        ds = ds.sel(i=ds.dims['i'])\n",
    "        \n",
    "    if 'igg' in ds.dims:\n",
    "        ds = ds.squeeze('igg').drop('igg')\n",
    "            \n",
    "    if 'band' in ds.dims:\n",
    "        try:\n",
    "            ds = ds.squeeze('band').drop('band')\n",
    "        except ValueError:\n",
    "            ds = ds.sum('band')\n",
    "                \n",
    "    df = ds.to_dataframe()\n",
    "    df = df.set_index('level', append=True)               \n",
    "    return df\n",
    "\n",
    "\n",
    "def tbdata_flux():\n",
    "    '''\n",
    "    Define the flux data to be tabulated for\n",
    "    the g-intervals.  Add/remove entries in the\n",
    "    `tbs` list.\n",
    "    \n",
    "    Parameters\n",
    "    ----------\n",
    "    data: dict\n",
    "        Flux data, including how each set is to be\n",
    "        labeled in the output table.\n",
    "    '''\n",
    "    tropopauses = {'mls': 40, 'saw': 45, 'trp': 37}\n",
    "    atmpro = PARAM['atmpro']\n",
    "    ilevels = [0, tropopauses[atmpro], -1]\n",
    "    \n",
    "    benchmark = {'label': 'CRD',\n",
    "                 'df': fmt_flux(DS_FLUX_CRD, ilevels=ilevels)}\n",
    "    \n",
    "    tbs = [{'label': 'WGT igg=1',\n",
    "            'df': fmt_flux(DS_FLUX_WGT.sel(igg=[1]), ilevels=ilevels)},\n",
    "           {'label': 'WGT igg=10',\n",
    "            'df': fmt_flux(DS_FLUX_WGT.sel(igg=[10]), ilevels=ilevels)}]\n",
    "    \n",
    "    data = {'benchmark': benchmark, 'others': tbs}\n",
    "    return data\n",
    "\n",
    "\n",
    "\n",
    "def tbdata_flux_sumg():\n",
    "    '''\n",
    "    Define the total flux data, over all g-intervals,\n",
    "    to be tabulated.\n",
    "    \n",
    "    Parameters\n",
    "    ----------\n",
    "    data: dict\n",
    "        Flux data, including how each set is to e\n",
    "        labeled in the output table.\n",
    "    '''\n",
    "    tropopauses = {'mls': 40, 'saw': 45, 'trp': 37}\n",
    "    \n",
    "    atmpro = PARAM['atmpro']\n",
    "    ilevels = [0, tropopauses[atmpro], -1]\n",
    "    \n",
    "    benchmark = {'label': 'CRD',\n",
    "                 'df': fmt_flux(DS_FLUX_CRD.sum('g'), ilevels=ilevels)}\n",
    "    \n",
    "    tbs = [{'label': 'WGT igg=1',\n",
    "            'df': fmt_flux(DS_FLUX_WGT.sel(igg=[1]).sum('g'), \n",
    "                           ilevels=ilevels)},\n",
    "           {'label': 'WGT igg=10',\n",
    "            'df': fmt_flux(DS_FLUX_WGT.sel(igg=[10]).sum('g'), \n",
    "                           ilevels=ilevels)}]\n",
    "    \n",
    "    data = {'benchmark': benchmark, 'others': tbs}\n",
    "    return data\n",
    "\n",
    "\n",
    "def tb_flux(tbdata=None):\n",
    "    '''\n",
    "    Display flux table for each set, and display\n",
    "    the difference between each set and the set\n",
    "    that is specified to be the benchmark.\n",
    "    \n",
    "    Parameters\n",
    "    ----------\n",
    "    tbdata: dict\n",
    "        Flux data, including how each set it to be\n",
    "        labeled in the output table.\n",
    "    '''\n",
    "    benchmark = tbdata['benchmark']\n",
    "    others = tbdata['others']\n",
    "    \n",
    "    def show_tb(d=None):\n",
    "        display.display(d['df'])\n",
    "        display.display(display.Markdown(\n",
    "            f\"*TABLE.* Fluxes. {d['label']}\"))\n",
    "        \n",
    "    def show_tbdiff(d0=None, d=None):\n",
    "        df = d['df']\n",
    "        df.index = d0['df'].index\n",
    "        display.display(df - d0['df'])\n",
    "        display.display(display.Markdown(\n",
    "            f\"*TABLE.* Fluxes. ({d['label']}) - ({d0['label']})\"))\n",
    "        \n",
    "    show_tb(benchmark)\n",
    "    for d in others:\n",
    "        show_tb(d)\n",
    "        \n",
    "    for d in others:\n",
    "        show_tbdiff(d=d, d0=benchmark)\n",
    "        \n",
    "\n",
    "        \n",
    "def script_tb_flux():\n",
    "    '''\n",
    "    Script to display the flux tables in \n",
    "    each g-interval, and the flux table\n",
    "    for the total flux, over all g-intervals.\n",
    "    '''\n",
    "    tb_flux(tbdata=tbdata_flux())\n",
    "    tb_flux(tbdata=tbdata_flux_sumg())\n"
   ]
  },
  {
   "cell_type": "code",
   "execution_count": 8,
   "metadata": {
    "collapsed": true
   },
   "outputs": [],
   "source": [
    "def script_gsummary():\n",
    "    '''\n",
    "    Script to display how the g-intervals\n",
    "    are defined according the hyperparameters\n",
    "    chosen for this lblnew-bestfit run.\n",
    "    '''\n",
    "    ng_refs = PARAM['ng_refs']\n",
    "    p_refs = list(zip(*PARAM['ref_pts']))[0]\n",
    "    ng = sum(ng_refs)\n",
    "    df_abscom = pd.read_csv(io.StringIO(DOC['abscom']), \n",
    "                            sep=r'\\s+', index_col=[0])\n",
    "    df_dgdgs = pd.read_csv(io.StringIO(DOC['dgdgs']), \n",
    "                            sep=r'\\s+', index_col=[0])\n",
    "    \n",
    "    # absth(g + 1) / absth(g)\n",
    "    df_abscom_copy = df_abscom.copy()\n",
    "    df_abscom_copy.index = df_abscom.index + 1\n",
    "    df_absratio = df_abscom / df_abscom_copy\n",
    "    df_absratio.columns = ['k(ig) / k(ig - 1)']\n",
    "    df_absratio = df_absratio.loc[: ng]    \n",
    "    \n",
    "    df_dgdgs_cumsum = df_dgdgs.cumsum(axis=0)\n",
    "    df_dgdgs_cumsum.columns = ['dg cumsum', 'dgs cumsum']\n",
    "    \n",
    "    data_pref = np.concatenate([p_ref * np.ones((ng_ref,)) \n",
    "                                for ng_ref, p_ref \n",
    "                                in zip(ng_refs, p_refs)], axis=0)\n",
    "    df_pref = pd.DataFrame(data_pref, \n",
    "                           index=df_dgdgs.index, columns=['pref'])\n",
    "    \n",
    "    df_all = pd.concat([df_abscom, df_absratio,\n",
    "                        df_dgdgs, df_dgdgs_cumsum,\n",
    "                        df_pref], axis=1) \n",
    "    \n",
    "    display.display(df_all)\n",
    "    display.display(display.Markdown(\n",
    "        (f\"TABLE. g-interval summary.  \"\n",
    "         f\"*abscom* is the lower bound of the g-interval.\")))\n",
    "    \n"
   ]
  },
  {
   "cell_type": "code",
   "execution_count": 9,
   "metadata": {
    "collapsed": true
   },
   "outputs": [],
   "source": [
    "def script_flux_to_excel():\n",
    "    '''\n",
    "    Script to save the lblnew-bestfit run's\n",
    "    output flux to excel file and display the\n",
    "    link to download the excel file.\n",
    "    '''\n",
    "    fname = 'lblnew-bestfit_flux.xlsx'\n",
    "    writer = pd.ExcelWriter(fname)\n",
    "    \n",
    "    ds = DS_FLUX_CRD\n",
    "    for g in ds.coords['g']:\n",
    "        df = ds.sel(g=g).to_dataframe()\n",
    "        df.to_excel(writer, f'crd flux g={int(g)}')\n",
    "                \n",
    "    ds = DS_FLUX_WGT\n",
    "    for g in ds.coords['g']:\n",
    "        df = ds.sel(g=g, igg=1).to_dataframe()\n",
    "        df.to_excel(writer, f'wgt igg=1 flux g={int(g)}')\n",
    "        \n",
    "        df = ds.sel(g=g, igg=10).to_dataframe()\n",
    "        df.to_excel(writer, f'wgt igg=10 flux g={int(g)}')\n",
    "        \n",
    "    writer.save()    \n",
    "    html_download = f'Download: <a href=\"./{fname}\">{fname}</a>'\n",
    "    display.display(display.HTML(html_download))\n",
    "\n",
    "\n",
    "def script_cool_to_excel():\n",
    "    '''\n",
    "    Script to save the lblnew-bestfit run's\n",
    "    output cooling rate to excel file and display\n",
    "    the link to download the excel file.\n",
    "    '''\n",
    "    fname = 'lblnew-bestfit_cool.xlsx'\n",
    "    writer = pd.ExcelWriter(fname)\n",
    "    \n",
    "    ds = DS_COOL_CRD\n",
    "    for g in ds.coords['g']:\n",
    "        df = ds.sel(g=g).to_dataframe()\n",
    "        df.to_excel(writer, f'crd cool g={int(g)}')\n",
    "        \n",
    "    ds = DS_COOL_WGT\n",
    "    for g in ds.coords['g']:\n",
    "        df = ds.sel(g=g, igg=1).to_dataframe()\n",
    "        df.to_excel(writer, f'wgt igg=1 cool g={int(g)}')\n",
    "        \n",
    "        df = ds.sel(g=g, igg=10).to_dataframe()\n",
    "        df.to_excel(writer, f'wgt igg=10 cool g={int(g)}')\n",
    "        \n",
    "    writer.save()\n",
    "    html_download = f'Download: <a href=\"./{fname}\">{fname}</a>'\n",
    "    display.display(display.HTML(html_download))"
   ]
  },
  {
   "cell_type": "code",
   "execution_count": 10,
   "metadata": {
    "collapsed": true
   },
   "outputs": [],
   "source": [
    "def show_html(s):\n",
    "    display.display(display.HTML(s))\n",
    "\n",
    "    \n",
    "def show_markdown(s):\n",
    "    display.display(display.Markdown(s))"
   ]
  },
  {
   "cell_type": "code",
   "execution_count": 11,
   "metadata": {
    "collapsed": true
   },
   "outputs": [],
   "source": [
    "def script():\n",
    "    title = ('### lblnew-bestfit' \n",
    "             if 'ng_refs' in PARAM else '### lblnew-overlap')\n",
    "    s_input = 'Input Parameters'\n",
    "    s_plt_cool = 'Cooling Rate Profiles'\n",
    "    s_tb_flux = 'Flux Comparison'\n",
    "    s_gsummary = 'g-interval Summary'\n",
    "    s_download = 'Download Data'\n",
    "    \n",
    "    # title\n",
    "    show_markdown(title)\n",
    "    \n",
    "    # TOC\n",
    "    show_markdown('### Table of Contents')\n",
    "    show_html(climahtml.getHTML_hrefanchor(s_input))\n",
    "    show_html(climahtml.getHTML_hrefanchor(s_plt_cool))\n",
    "    show_html(climahtml.getHTML_hrefanchor(s_tb_flux))\n",
    "    show_html(climahtml.getHTML_hrefanchor(s_gsummary))\n",
    "    show_html(climahtml.getHTML_hrefanchor(s_download))\n",
    "    \n",
    "    # Input parameters\n",
    "    show_html(climahtml.getHTML_idanchor(s_input))\n",
    "    show_markdown(climahtml.getMarkdown_sectitle(s_input))\n",
    "    print_input_param()\n",
    "    \n",
    "    # Cooling rate profiles\n",
    "    show_html(climahtml.getHTML_idanchor(s_plt_cool))\n",
    "    show_markdown(climahtml.getMarkdown_sectitle(s_plt_cool))\n",
    "    script_plt_cool()\n",
    "    \n",
    "    # Flux comparison\n",
    "    show_html(climahtml.getHTML_idanchor(s_tb_flux))\n",
    "    show_markdown(climahtml.getMarkdown_sectitle(s_tb_flux))\n",
    "    script_tb_flux()\n",
    "    \n",
    "    # g-interval summary\n",
    "    show_html(climahtml.getHTML_idanchor(s_gsummary))\n",
    "    show_markdown(climahtml.getMarkdown_sectitle(s_gsummary))\n",
    "    script_gsummary()\n",
    "    \n",
    "    # Download cooling rate and fluxes\n",
    "    show_html(climahtml.getHTML_idanchor(s_download))\n",
    "    show_markdown(climahtml.getMarkdown_sectitle(s_download))\n",
    "    script_flux_to_excel()\n",
    "    script_cool_to_excel()"
   ]
  },
  {
   "cell_type": "code",
   "execution_count": 12,
   "metadata": {
    "collapsed": true
   },
   "outputs": [],
   "source": [
    "%run param.py\n",
    "\n",
    "client = pymongo.MongoClient('localhost', 27017, connect=False)\n",
    "db = client.lblnew\n",
    "\n",
    "\n",
    "DOC = db.bestfit_lw.find_one(make_query(param=PARAM))\n",
    "DS_FLUX_CRD = load_output_file(io.StringIO(DOC['output_fluxg']))\n",
    "DS_COOL_CRD = load_output_file(io.StringIO(DOC['output_coolrg']))\n",
    "DS_FLUX_WGT = load_output_file(io.StringIO(DOC['output_wfluxg']))\n",
    "DS_COOL_WGT = load_output_file(io.StringIO(DOC['output_wcoolrg']))"
   ]
  },
  {
   "cell_type": "code",
   "execution_count": 13,
   "metadata": {
    "scrolled": false
   },
   "outputs": [
    {
     "data": {
      "text/markdown": [
       "### lblnew-bestfit"
      ],
      "text/plain": [
       "<IPython.core.display.Markdown object>"
      ]
     },
     "metadata": {},
     "output_type": "display_data"
    },
    {
     "data": {
      "text/markdown": [
       "### Table of Contents"
      ],
      "text/plain": [
       "<IPython.core.display.Markdown object>"
      ]
     },
     "metadata": {},
     "output_type": "display_data"
    },
    {
     "data": {
      "text/html": [
       "<a href=\"#Input_Parameters\">Input Parameters</a>"
      ],
      "text/plain": [
       "<IPython.core.display.HTML object>"
      ]
     },
     "metadata": {},
     "output_type": "display_data"
    },
    {
     "data": {
      "text/html": [
       "<a href=\"#Cooling_Rate_Profiles\">Cooling Rate Profiles</a>"
      ],
      "text/plain": [
       "<IPython.core.display.HTML object>"
      ]
     },
     "metadata": {},
     "output_type": "display_data"
    },
    {
     "data": {
      "text/html": [
       "<a href=\"#Flux_Comparison\">Flux Comparison</a>"
      ],
      "text/plain": [
       "<IPython.core.display.HTML object>"
      ]
     },
     "metadata": {},
     "output_type": "display_data"
    },
    {
     "data": {
      "text/html": [
       "<a href=\"#g-interval_Summary\">g-interval Summary</a>"
      ],
      "text/plain": [
       "<IPython.core.display.HTML object>"
      ]
     },
     "metadata": {},
     "output_type": "display_data"
    },
    {
     "data": {
      "text/html": [
       "<a href=\"#Download_Data\">Download Data</a>"
      ],
      "text/plain": [
       "<IPython.core.display.HTML object>"
      ]
     },
     "metadata": {},
     "output_type": "display_data"
    },
    {
     "data": {
      "text/html": [
       "<a id=\"Input_Parameters\"></a>"
      ],
      "text/plain": [
       "<IPython.core.display.HTML object>"
      ]
     },
     "metadata": {},
     "output_type": "display_data"
    },
    {
     "data": {
      "text/markdown": [
       "# Input Parameters"
      ],
      "text/plain": [
       "<IPython.core.display.Markdown object>"
      ]
     },
     "metadata": {},
     "output_type": "display_data"
    },
    {
     "name": "stdout",
     "output_type": "stream",
     "text": [
      "atmpro = trp\n",
      "band = 7\n",
      "commitnumber = 5014a19\n",
      "conc = 3.2e-07\n",
      "dv = 0.001\n",
      "klin = 2.22e-20\n",
      "molecule = n2o\n",
      "ng_adju = [0, 0]\n",
      "ng_refs = [2, 2]\n",
      "nv = 1000\n",
      "option_compute_btable = 0\n",
      "option_compute_ktable = 0\n",
      "option_wgt_flux = 1\n",
      "option_wgt_k = 1\n",
      "ref_pts = [(1, 250), (500, 250)]\n",
      "tsfc = 300\n",
      "vmax = 1380\n",
      "vmin = 1215\n",
      "w_diffuse = [(1.8, 1.66), (1.6, 1.8)]\n",
      "wgt = [(0.6, 0.5), (0.6, 0.9)]\n"
     ]
    },
    {
     "data": {
      "text/html": [
       "<a id=\"Cooling_Rate_Profiles\"></a>"
      ],
      "text/plain": [
       "<IPython.core.display.HTML object>"
      ]
     },
     "metadata": {},
     "output_type": "display_data"
    },
    {
     "data": {
      "text/markdown": [
       "# Cooling Rate Profiles"
      ],
      "text/plain": [
       "<IPython.core.display.Markdown object>"
      ]
     },
     "metadata": {},
     "output_type": "display_data"
    },
    {
     "data": {
      "text/html": [
       "\n",
       "<div class=\"bk-root\">\n",
       "    <div class=\"bk-plotdiv\" id=\"2a8a6be3-56b1-4483-afad-c50c23365f15\"></div>\n",
       "</div>"
      ]
     },
     "metadata": {},
     "output_type": "display_data"
    },
    {
     "data": {
      "application/javascript": [
       "(function(root) {\n",
       "  function embed_document(root) {\n",
       "    \n",
       "  var docs_json = {\"20956eab-e087-4aae-9334-0045ad48b322\":{\"roots\":{\"references\":[{\"attributes\":{},\"id\":\"1ed04e73-cff1-46a1-bd65-5bf1f3819dbc\",\"type\":\"Selection\"},{\"attributes\":{},\"id\":\"5886f42e-0540-4b7f-9c10-6cd23d769e29\",\"type\":\"UnionRenderers\"},{\"attributes\":{\"label\":{\"value\":\"WGT igg=10\"},\"renderers\":[{\"id\":\"d40bc7e5-0229-4851-9b78-3a99afdfa5ae\",\"type\":\"GlyphRenderer\"},{\"id\":\"8d9787d5-cc23-4a94-b778-66fc78bc9cb2\",\"type\":\"GlyphRenderer\"}]},\"id\":\"fb548ede-0980-4ab0-bc93-9a940e372dd4\",\"type\":\"LegendItem\"},{\"attributes\":{},\"id\":\"6dcd8880-2df8-4639-9e9b-569440b115af\",\"type\":\"BasicTickFormatter\"},{\"attributes\":{},\"id\":\"6f7d27b8-d21f-4929-9823-466d0896e4ed\",\"type\":\"BasicTickFormatter\"},{\"attributes\":{},\"id\":\"cb3e9a4a-a143-4596-a057-340363fd67b5\",\"type\":\"BasicTickFormatter\"},{\"attributes\":{},\"id\":\"fa3af0a4-a832-4188-b6a9-089b736c8ac5\",\"type\":\"UnionRenderers\"},{\"attributes\":{\"plot\":null,\"text\":\"\"},\"id\":\"f578e7bc-8408-40bf-a67c-7a539d3e9ad6\",\"type\":\"Title\"},{\"attributes\":{},\"id\":\"4c0082a8-0314-42d1-ae61-a34f9b3d4ebd\",\"type\":\"Selection\"},{\"attributes\":{\"ticker\":null},\"id\":\"cbbcd7d0-eb10-4e82-b85f-3465fe0d77a6\",\"type\":\"LogTickFormatter\"},{\"attributes\":{},\"id\":\"52afce1a-ffb5-426e-b5e2-0393d6a26efb\",\"type\":\"UnionRenderers\"},{\"attributes\":{},\"id\":\"09697074-01f6-4567-879b-2c02a636a6e6\",\"type\":\"Selection\"},{\"attributes\":{},\"id\":\"706a0fef-00a4-459c-9c28-ff0b7fbbf86f\",\"type\":\"UnionRenderers\"},{\"attributes\":{},\"id\":\"4772a7a7-a495-48e3-aeab-e1425cdd8747\",\"type\":\"Selection\"},{\"attributes\":{},\"id\":\"88cf1f50-fa59-4872-9ed7-0fbff450d764\",\"type\":\"Selection\"},{\"attributes\":{},\"id\":\"183be39b-df74-476c-a30f-8a3872f66591\",\"type\":\"Selection\"},{\"attributes\":{},\"id\":\"03de780b-ba72-43f4-9dd0-a0e64a674cd8\",\"type\":\"UnionRenderers\"},{\"attributes\":{},\"id\":\"ef61da42-5256-4f1e-9879-5861183ebe76\",\"type\":\"UnionRenderers\"},{\"attributes\":{},\"id\":\"8d1c9b1e-2a46-4e3a-a665-e522ada8889c\",\"type\":\"UnionRenderers\"},{\"attributes\":{},\"id\":\"82a89c26-4076-433e-937e-943c1d0aef5f\",\"type\":\"Selection\"},{\"attributes\":{},\"id\":\"01138318-2e79-48d1-98db-7ecaffa88212\",\"type\":\"Selection\"},{\"attributes\":{},\"id\":\"495c6ff4-2149-43e2-9067-8e0d606c4d2d\",\"type\":\"UnionRenderers\"},{\"attributes\":{},\"id\":\"9f033424-8a53-4712-8438-4035ff55ce08\",\"type\":\"Selection\"},{\"attributes\":{},\"id\":\"28ec4a99-e09b-441b-a116-dd1b155f6458\",\"type\":\"UnionRenderers\"},{\"attributes\":{},\"id\":\"131b2783-a166-42f0-910b-e6c042d8050b\",\"type\":\"Selection\"},{\"attributes\":{\"tools\":[{\"id\":\"82af6d69-2941-4357-b856-babfda8faf2a\",\"type\":\"PanTool\"},{\"id\":\"33e1cb74-a3d5-4cf6-8da7-0e356200831f\",\"type\":\"WheelZoomTool\"},{\"id\":\"c80e740b-8da5-476d-87c6-5072ea8e1cf0\",\"type\":\"BoxZoomTool\"},{\"id\":\"cf44d928-b119-4a07-b600-7942562e2724\",\"type\":\"SaveTool\"},{\"id\":\"29a483c3-9989-43eb-9d9a-ebfd7b0b1814\",\"type\":\"ResetTool\"},{\"id\":\"8410831f-60ac-4007-9627-cba2457fcff7\",\"type\":\"HelpTool\"},{\"id\":\"2476982d-4ab0-49dc-b1b3-2934096a8b2a\",\"type\":\"PanTool\"},{\"id\":\"ae4aa646-38e1-42cf-9c9e-65ef7f67f9e8\",\"type\":\"WheelZoomTool\"},{\"id\":\"c32ae263-9d62-4f8f-b3f3-cbe3715de28f\",\"type\":\"BoxZoomTool\"},{\"id\":\"b9ff6f1f-c981-403b-982c-5e57927bbe67\",\"type\":\"SaveTool\"},{\"id\":\"856a9794-86a2-4ada-be22-7a47dde69c36\",\"type\":\"ResetTool\"},{\"id\":\"fc419e35-3b72-4462-8048-4e79e146fd68\",\"type\":\"HelpTool\"}]},\"id\":\"02dbd804-ca65-4f41-a222-f16d94de7bce\",\"type\":\"ProxyToolbar\"},{\"attributes\":{\"toolbar\":{\"id\":\"02dbd804-ca65-4f41-a222-f16d94de7bce\",\"type\":\"ProxyToolbar\"},\"toolbar_location\":\"above\"},\"id\":\"f651b4eb-3781-4bc0-ae29-66c23ac78a4f\",\"type\":\"ToolbarBox\"},{\"attributes\":{},\"id\":\"827f99ed-4aea-4f6e-8512-a71560140d08\",\"type\":\"UnionRenderers\"},{\"attributes\":{},\"id\":\"8dc82fec-23bb-4790-8cd5-f64d3cd05c7b\",\"type\":\"Selection\"},{\"attributes\":{\"children\":[{\"id\":\"f651b4eb-3781-4bc0-ae29-66c23ac78a4f\",\"type\":\"ToolbarBox\"},{\"id\":\"e87d9686-69fb-42b6-a9a3-b289131b99bf\",\"type\":\"Column\"}]},\"id\":\"3c87ccb8-2cff-4a54-89da-e7606a87440e\",\"type\":\"Column\"},{\"attributes\":{\"line_alpha\":0.1,\"line_color\":\"#1f77b4\",\"line_width\":1.5,\"x\":{\"field\":\"x\"},\"y\":{\"field\":\"y\"}},\"id\":\"5c1bcac9-3e02-49da-b729-789d8909bf5b\",\"type\":\"Line\"},{\"attributes\":{\"fill_alpha\":{\"value\":0.1},\"fill_color\":{\"value\":\"#1f77b4\"},\"line_alpha\":{\"value\":0.1},\"line_color\":{\"value\":\"#1f77b4\"},\"x\":{\"field\":\"x\"},\"y\":{\"field\":\"y\"}},\"id\":\"85dfd0b8-bc20-45c2-9152-b406074ee393\",\"type\":\"Circle\"},{\"attributes\":{\"fill_alpha\":{\"value\":0.7},\"fill_color\":{\"value\":\"#4daf4a\"},\"line_alpha\":{\"value\":0.7},\"line_color\":{\"value\":\"#4daf4a\"},\"x\":{\"field\":\"x\"},\"y\":{\"field\":\"y\"}},\"id\":\"275ea216-6651-414b-b795-37247c76c34a\",\"type\":\"Circle\"},{\"attributes\":{\"dimension\":1,\"plot\":{\"id\":\"a8ffb91d-b5a1-440e-af5e-00f51cffbe30\",\"subtype\":\"Figure\",\"type\":\"Plot\"},\"ticker\":{\"id\":\"4dd0b88b-098d-4767-a49f-b8cd3fde0c3c\",\"type\":\"BasicTicker\"}},\"id\":\"d73c399d-7296-45c7-9294-a5353ad4088b\",\"type\":\"Grid\"},{\"attributes\":{\"fill_alpha\":{\"value\":0.7},\"fill_color\":{\"value\":\"#984ea3\"},\"line_alpha\":{\"value\":0.7},\"line_color\":{\"value\":\"#984ea3\"},\"x\":{\"field\":\"x\"},\"y\":{\"field\":\"y\"}},\"id\":\"875e0b71-4dc2-46b6-964f-bd7c16950a7e\",\"type\":\"Square\"},{\"attributes\":{},\"id\":\"db83d0c6-e845-4085-af65-3d257e13a737\",\"type\":\"BasicTicker\"},{\"attributes\":{\"axis_label\":\"pressure [mb]\",\"formatter\":{\"id\":\"cb3e9a4a-a143-4596-a057-340363fd67b5\",\"type\":\"BasicTickFormatter\"},\"plot\":{\"id\":\"a8ffb91d-b5a1-440e-af5e-00f51cffbe30\",\"subtype\":\"Figure\",\"type\":\"Plot\"},\"ticker\":{\"id\":\"4dd0b88b-098d-4767-a49f-b8cd3fde0c3c\",\"type\":\"BasicTicker\"}},\"id\":\"8ad00e87-7aa5-4f2d-ae80-cd8e50b23ebc\",\"type\":\"LinearAxis\"},{\"attributes\":{\"plot\":{\"id\":\"a8ffb91d-b5a1-440e-af5e-00f51cffbe30\",\"subtype\":\"Figure\",\"type\":\"Plot\"},\"ticker\":{\"id\":\"db83d0c6-e845-4085-af65-3d257e13a737\",\"type\":\"BasicTicker\"}},\"id\":\"3ddd9a92-d9d7-4549-94ca-b53aafd16188\",\"type\":\"Grid\"},{\"attributes\":{},\"id\":\"4dd0b88b-098d-4767-a49f-b8cd3fde0c3c\",\"type\":\"BasicTicker\"},{\"attributes\":{},\"id\":\"4288b001-596a-4ff9-b959-81eb367ccb16\",\"type\":\"LinearScale\"},{\"attributes\":{\"callback\":null,\"end\":0.001060304526,\"start\":-0.0021057169260000003},\"id\":\"a5c8efb9-58a3-40cc-be4d-412aa3e72cba\",\"type\":\"Range1d\"},{\"attributes\":{\"source\":{\"id\":\"4f9b1888-2e16-401d-b32a-58622c964e32\",\"type\":\"ColumnDataSource\"}},\"id\":\"8c179b46-5346-4f18-b16d-55bd4931e9fb\",\"type\":\"CDSView\"},{\"attributes\":{\"axis_label\":\"cooling rate [K/day]\",\"formatter\":{\"id\":\"6f7d27b8-d21f-4929-9823-466d0896e4ed\",\"type\":\"BasicTickFormatter\"},\"plot\":{\"id\":\"a8ffb91d-b5a1-440e-af5e-00f51cffbe30\",\"subtype\":\"Figure\",\"type\":\"Plot\"},\"ticker\":{\"id\":\"db83d0c6-e845-4085-af65-3d257e13a737\",\"type\":\"BasicTicker\"}},\"id\":\"38234431-31ec-4f26-a1bb-de016781854d\",\"type\":\"LinearAxis\"},{\"attributes\":{},\"id\":\"62170e59-5c4e-41a0-8118-5fda03f1588a\",\"type\":\"LinearScale\"},{\"attributes\":{\"line_alpha\":0.6,\"line_color\":\"#984ea3\",\"line_width\":3,\"x\":{\"field\":\"x\"},\"y\":{\"field\":\"y\"}},\"id\":\"c441fb0e-9050-413f-93c5-0de73c91c476\",\"type\":\"Line\"},{\"attributes\":{\"above\":[{\"id\":\"3ed04a4d-4152-4fc6-91f9-059d179a73b7\",\"type\":\"Legend\"}],\"below\":[{\"id\":\"38234431-31ec-4f26-a1bb-de016781854d\",\"type\":\"LinearAxis\"}],\"left\":[{\"id\":\"8ad00e87-7aa5-4f2d-ae80-cd8e50b23ebc\",\"type\":\"LinearAxis\"}],\"plot_height\":500,\"plot_width\":400,\"renderers\":[{\"id\":\"38234431-31ec-4f26-a1bb-de016781854d\",\"type\":\"LinearAxis\"},{\"id\":\"3ddd9a92-d9d7-4549-94ca-b53aafd16188\",\"type\":\"Grid\"},{\"id\":\"8ad00e87-7aa5-4f2d-ae80-cd8e50b23ebc\",\"type\":\"LinearAxis\"},{\"id\":\"d73c399d-7296-45c7-9294-a5353ad4088b\",\"type\":\"Grid\"},{\"id\":\"1ff8c68e-97d9-40fb-9db6-6e296500f4f2\",\"type\":\"BoxAnnotation\"},{\"id\":\"595cfc4c-8321-441d-a759-ad2d958de715\",\"type\":\"GlyphRenderer\"},{\"id\":\"b1e72079-f5c5-4529-b647-651653e51caf\",\"type\":\"GlyphRenderer\"},{\"id\":\"5c407f83-6cc3-4e23-b4db-33c398fbf395\",\"type\":\"GlyphRenderer\"},{\"id\":\"c8b87d1c-6099-4bba-8c3a-e2c6bee6ec6d\",\"type\":\"GlyphRenderer\"},{\"id\":\"cb665663-1314-43a8-b120-b63b0ab055d9\",\"type\":\"GlyphRenderer\"},{\"id\":\"9aa709b7-538c-4589-b94e-548a024f4ab3\",\"type\":\"GlyphRenderer\"},{\"id\":\"3ed04a4d-4152-4fc6-91f9-059d179a73b7\",\"type\":\"Legend\"}],\"title\":{\"id\":\"a569ce21-4af0-4279-9278-41a8457f93a5\",\"type\":\"Title\"},\"toolbar\":{\"id\":\"40dc8c05-01f6-4d1f-9ce2-7e21abf4777d\",\"type\":\"Toolbar\"},\"toolbar_location\":null,\"x_range\":{\"id\":\"a5c8efb9-58a3-40cc-be4d-412aa3e72cba\",\"type\":\"Range1d\"},\"x_scale\":{\"id\":\"4288b001-596a-4ff9-b959-81eb367ccb16\",\"type\":\"LinearScale\"},\"y_range\":{\"id\":\"c275d070-ffe4-4c03-a492-9e02f7c3220c\",\"type\":\"Range1d\"},\"y_scale\":{\"id\":\"62170e59-5c4e-41a0-8118-5fda03f1588a\",\"type\":\"LinearScale\"}},\"id\":\"a8ffb91d-b5a1-440e-af5e-00f51cffbe30\",\"subtype\":\"Figure\",\"type\":\"Plot\"},{\"attributes\":{\"items\":[{\"id\":\"5164e96c-f99a-49bf-b502-779f70074917\",\"type\":\"LegendItem\"},{\"id\":\"730f0581-b7ca-4af0-a2c2-720677ed7daa\",\"type\":\"LegendItem\"},{\"id\":\"623ee207-724e-4c72-9b51-5c64029af07c\",\"type\":\"LegendItem\"}],\"label_text_font_size\":{\"value\":\"8pt\"},\"location\":\"top_center\",\"orientation\":\"horizontal\",\"plot\":{\"id\":\"a8ffb91d-b5a1-440e-af5e-00f51cffbe30\",\"subtype\":\"Figure\",\"type\":\"Plot\"}},\"id\":\"3ed04a4d-4152-4fc6-91f9-059d179a73b7\",\"type\":\"Legend\"},{\"attributes\":{\"callback\":null,\"data\":{\"x\":{\"__ndarray__\":\"DIEDKoFsiL9CCAq0IgeIvypngO9cNoe/Y031/Bpdhr8N6sARW3yFv7rCfvmrmoS/GhZ+DDi0g790Npl/GMuCv9qGCoTP5YG/StDfjCEOgb81qajHpCmAv9a362QyVX6/a9+S0iKRfL8XlUWDSlN6v6X0EV+CH3G/sUBo+1/HUj9rxatqUbiBP1q0m0HFNpI/bLoIzVp8nT9T8Ym5x3mlP1gqbUYNc60/LilOILLpsj//NQeluy20P2h013cdKLI/k5NWamAlrj/tKw/SU+SmP7NHljaWXKA/ZN+PhzARlj/G2nI98IKLP0jL2o2SnH4/HYcjS8sobD/HMA3S5ypQPzfsviHRUzO/OK0QO5KrTL+Dz+Ghec5Xv+my926jpF+/6FNkAOr+YL8UJbKqPSdfv7wP7Y+qQFq/4mgYDJ9FV780S7iP2StVv6xwCxrah1O/B1fUcrQiUr98GRi7deVQv6Y6TS2rgk+/DFTVqFVaTb80LsIUz0VLv8CS5cHePEm/gYM3JDg4R7+Cimuc+TFFv7tWJCHvJ0O/fz7RoZwWQb/zI5Pks/Y9v1ul1VX+pTm/zxytQRM1Nb+JTvZeWp4wv1D71SNPtie/BbzCsxeWG7+h6b6Fj8v7vhuWiLiegQw/3W8Ibtt8IT8BhlYAe2AqP6zXTJNvFzA/7gLvYlpDMT8+kPy66YkxP/1nCeQ/JzI/KtQm77b9Mz/asuFy30Q3PzaN7MMNqDs/wu1fVDtfQD/4gyaNGCZDP2L4bLgcIEY/mMmwUM5PST+7T/NDt8FMP2kigjFyR1A/\",\"dtype\":\"float64\",\"shape\":[75]},\"y\":{\"__ndarray__\":\"GhExyth1ND/Sv8nbtpRIP2vylNV0PVE/aTum7souWD/At0SJ8fVgPw3Iuahxymc/MSNhhJWvcD/bTfBN02d3P2zb5nxnaoA/CD5h5MAGhz8NmeH1TyaQP+zrCsc9p5Y/LbKd76fGnz/bLW5ISEmmPww9YvTcQq8/JV2OstnstT8Er5Y7M8G+P0c+r3jqkcU/5h99k6ZBzj88bCIzFzjVP4enV8oyxN0//yH99nXg5D8qOpLLf0jtP5kqGJXUifQ/c9cS8kHP/D+/DpwzojQEQIEmwoanVwxA4lgXt9HgE0BSSZ2AJuIbQAMJih9jjiNA5q4l5INuK0AwTKYKRj0zQNv5fmq8/DpAaCJseHrtQkB/+zpwzoxKQM3MzMzMeFJAZmZmZmZqWEAAAAAAAFxeQM3MzMzMJmJAmpmZmZkfZUBmZmZmZhhoQDMzMzMzEWtAAAAAAAAKbkBmZmZmZoFwQM3MzMzM/XFAMzMzMzN6c0CamZmZmfZ0QAAAAAAAc3ZAZmZmZmbvd0DNzMzMzGt5QDMzMzMz6HpAmpmZmZlkfEAAAAAAAOF9QGZmZmZmXX9AZmZmZuZsgECamZmZGSuBQM3MzMxM6YFAAAAAAICngkAzMzMzs2WDQGZmZmbmI4RAmpmZmRnihEDNzMzMTKCFQAAAAACAXoZAMzMzM7Mch0BmZmZm5tqHQJqZmZkZmYhAzczMzExXiUAAAAAAgBWKQDMzMzOz04pAZmZmZuaRi0CamZmZGVCMQM3MzMxMDo1AAAAAAIDMjUAzMzMzs4qOQGZmZmbmSI9A\",\"dtype\":\"float64\",\"shape\":[75]}},\"selected\":{\"id\":\"4772a7a7-a495-48e3-aeab-e1425cdd8747\",\"type\":\"Selection\"},\"selection_policy\":{\"id\":\"706a0fef-00a4-459c-9c28-ff0b7fbbf86f\",\"type\":\"UnionRenderers\"}},\"id\":\"b5aceea2-0c81-47ab-b52c-b5fdb38ea68e\",\"type\":\"ColumnDataSource\"},{\"attributes\":{\"active_drag\":\"auto\",\"active_inspect\":\"auto\",\"active_scroll\":\"auto\",\"active_tap\":\"auto\",\"tools\":[{\"id\":\"82af6d69-2941-4357-b856-babfda8faf2a\",\"type\":\"PanTool\"},{\"id\":\"33e1cb74-a3d5-4cf6-8da7-0e356200831f\",\"type\":\"WheelZoomTool\"},{\"id\":\"c80e740b-8da5-476d-87c6-5072ea8e1cf0\",\"type\":\"BoxZoomTool\"},{\"id\":\"cf44d928-b119-4a07-b600-7942562e2724\",\"type\":\"SaveTool\"},{\"id\":\"29a483c3-9989-43eb-9d9a-ebfd7b0b1814\",\"type\":\"ResetTool\"},{\"id\":\"8410831f-60ac-4007-9627-cba2457fcff7\",\"type\":\"HelpTool\"}]},\"id\":\"40dc8c05-01f6-4d1f-9ce2-7e21abf4777d\",\"type\":\"Toolbar\"},{\"attributes\":{\"data_source\":{\"id\":\"4f9b1888-2e16-401d-b32a-58622c964e32\",\"type\":\"ColumnDataSource\"},\"glyph\":{\"id\":\"875e0b71-4dc2-46b6-964f-bd7c16950a7e\",\"type\":\"Square\"},\"hover_glyph\":null,\"muted_glyph\":null,\"nonselection_glyph\":{\"id\":\"9964acf6-3c92-42df-9551-6892a16b9980\",\"type\":\"Square\"},\"selection_glyph\":null,\"view\":{\"id\":\"8c179b46-5346-4f18-b16d-55bd4931e9fb\",\"type\":\"CDSView\"}},\"id\":\"5c407f83-6cc3-4e23-b4db-33c398fbf395\",\"type\":\"GlyphRenderer\"},{\"attributes\":{\"fill_alpha\":{\"value\":0.1},\"fill_color\":{\"value\":\"#1f77b4\"},\"line_alpha\":{\"value\":0.1},\"line_color\":{\"value\":\"#1f77b4\"},\"x\":{\"field\":\"x\"},\"y\":{\"field\":\"y\"}},\"id\":\"9964acf6-3c92-42df-9551-6892a16b9980\",\"type\":\"Square\"},{\"attributes\":{\"source\":{\"id\":\"2aa99acc-96b4-45f2-af47-772d86ef4086\",\"type\":\"ColumnDataSource\"}},\"id\":\"c4215f37-f3da-47bc-8e56-77f39af86442\",\"type\":\"CDSView\"},{\"attributes\":{\"data_source\":{\"id\":\"2aa99acc-96b4-45f2-af47-772d86ef4086\",\"type\":\"ColumnDataSource\"},\"glyph\":{\"id\":\"bd2b21c1-d6a8-40c0-b167-54e120642081\",\"type\":\"Line\"},\"hover_glyph\":null,\"muted_glyph\":null,\"nonselection_glyph\":{\"id\":\"ddecb467-d0b5-4ed8-9be9-c3bd6481654b\",\"type\":\"Line\"},\"selection_glyph\":null,\"view\":{\"id\":\"c4215f37-f3da-47bc-8e56-77f39af86442\",\"type\":\"CDSView\"}},\"id\":\"9aa709b7-538c-4589-b94e-548a024f4ab3\",\"type\":\"GlyphRenderer\"},{\"attributes\":{\"data_source\":{\"id\":\"b5aceea2-0c81-47ab-b52c-b5fdb38ea68e\",\"type\":\"ColumnDataSource\"},\"glyph\":{\"id\":\"c441fb0e-9050-413f-93c5-0de73c91c476\",\"type\":\"Line\"},\"hover_glyph\":null,\"muted_glyph\":null,\"nonselection_glyph\":{\"id\":\"15433f08-8ccc-415a-8739-4e9fa3fc09ec\",\"type\":\"Line\"},\"selection_glyph\":null,\"view\":{\"id\":\"bc5e40b7-fe72-4a7a-87df-ab0f1a2f19cc\",\"type\":\"CDSView\"}},\"id\":\"c8b87d1c-6099-4bba-8c3a-e2c6bee6ec6d\",\"type\":\"GlyphRenderer\"},{\"attributes\":{\"above\":[{\"id\":\"401cac23-6913-478b-acdc-a156f64eee55\",\"type\":\"Legend\"}],\"below\":[{\"id\":\"def938ba-d8cb-4e0b-8132-0d3d46e603c2\",\"type\":\"LinearAxis\"}],\"left\":[{\"id\":\"186f314d-e929-47c2-ab74-59a39e8c3235\",\"type\":\"LogAxis\"}],\"plot_height\":500,\"plot_width\":400,\"renderers\":[{\"id\":\"def938ba-d8cb-4e0b-8132-0d3d46e603c2\",\"type\":\"LinearAxis\"},{\"id\":\"b1f5b884-6358-4e8a-bbe1-908859e35615\",\"type\":\"Grid\"},{\"id\":\"186f314d-e929-47c2-ab74-59a39e8c3235\",\"type\":\"LogAxis\"},{\"id\":\"06cecd34-71ae-44d6-8ad5-e51f17e26463\",\"type\":\"Grid\"},{\"id\":\"65af88ab-a2c7-40bc-92d6-fa23245817be\",\"type\":\"BoxAnnotation\"},{\"id\":\"e9fb0904-910e-4b5d-9cab-046c03557df6\",\"type\":\"GlyphRenderer\"},{\"id\":\"9b78c652-9cc6-4a9a-b100-344e66d0c9d5\",\"type\":\"GlyphRenderer\"},{\"id\":\"844d3034-2d09-40b5-9e12-f49beb2ec5c1\",\"type\":\"GlyphRenderer\"},{\"id\":\"207324c9-10aa-4831-a5dd-d506371420e1\",\"type\":\"GlyphRenderer\"},{\"id\":\"d40bc7e5-0229-4851-9b78-3a99afdfa5ae\",\"type\":\"GlyphRenderer\"},{\"id\":\"8d9787d5-cc23-4a94-b778-66fc78bc9cb2\",\"type\":\"GlyphRenderer\"},{\"id\":\"401cac23-6913-478b-acdc-a156f64eee55\",\"type\":\"Legend\"}],\"title\":{\"id\":\"f578e7bc-8408-40bf-a67c-7a539d3e9ad6\",\"type\":\"Title\"},\"toolbar\":{\"id\":\"687ed18b-f5a8-40cd-a7c2-7e7e8ed982f9\",\"type\":\"Toolbar\"},\"toolbar_location\":null,\"x_range\":{\"id\":\"29d11fab-2bf5-40ff-a39a-68ce7d940ca9\",\"type\":\"Range1d\"},\"x_scale\":{\"id\":\"80836883-305b-4add-8e8e-38968973532f\",\"type\":\"LinearScale\"},\"y_range\":{\"id\":\"8609b87d-381f-437f-a203-1dbdbb2961eb\",\"type\":\"Range1d\"},\"y_scale\":{\"id\":\"81246b29-eed1-4d5a-83ac-3d16e80c20a2\",\"type\":\"LogScale\"}},\"id\":\"d7ad7782-d8d4-4617-85b9-bd0d3603586b\",\"subtype\":\"Figure\",\"type\":\"Plot\"},{\"attributes\":{},\"id\":\"82af6d69-2941-4357-b856-babfda8faf2a\",\"type\":\"PanTool\"},{\"attributes\":{\"bottom_units\":\"screen\",\"fill_alpha\":{\"value\":0.5},\"fill_color\":{\"value\":\"lightgrey\"},\"left_units\":\"screen\",\"level\":\"overlay\",\"line_alpha\":{\"value\":1.0},\"line_color\":{\"value\":\"black\"},\"line_dash\":[4,4],\"line_width\":{\"value\":2},\"plot\":null,\"render_mode\":\"css\",\"right_units\":\"screen\",\"top_units\":\"screen\"},\"id\":\"1ff8c68e-97d9-40fb-9db6-6e296500f4f2\",\"type\":\"BoxAnnotation\"},{\"attributes\":{\"line_alpha\":0.1,\"line_color\":\"#1f77b4\",\"line_width\":2,\"x\":{\"field\":\"x\"},\"y\":{\"field\":\"y\"}},\"id\":\"ddecb467-d0b5-4ed8-9be9-c3bd6481654b\",\"type\":\"Line\"},{\"attributes\":{\"data_source\":{\"id\":\"602ab079-ccc7-484a-bb5a-fd8c0f7adbc4\",\"type\":\"ColumnDataSource\"},\"glyph\":{\"id\":\"eea8c0eb-a6ca-4223-8219-10972f70befa\",\"type\":\"Triangle\"},\"hover_glyph\":null,\"muted_glyph\":null,\"nonselection_glyph\":{\"id\":\"5c8ce5fa-d6c0-4bd9-a96f-04a86419c340\",\"type\":\"Triangle\"},\"selection_glyph\":null,\"view\":{\"id\":\"7f0abfdd-96f3-48c6-b280-c41c9e84d7c8\",\"type\":\"CDSView\"}},\"id\":\"cb665663-1314-43a8-b120-b63b0ab055d9\",\"type\":\"GlyphRenderer\"},{\"attributes\":{\"source\":{\"id\":\"2d60de43-501c-4980-bc52-6905e1363d13\",\"type\":\"ColumnDataSource\"}},\"id\":\"36eedae3-c745-4781-9794-36213c039778\",\"type\":\"CDSView\"},{\"attributes\":{\"source\":{\"id\":\"b5aceea2-0c81-47ab-b52c-b5fdb38ea68e\",\"type\":\"ColumnDataSource\"}},\"id\":\"bc5e40b7-fe72-4a7a-87df-ab0f1a2f19cc\",\"type\":\"CDSView\"},{\"attributes\":{\"callback\":null,\"data\":{\"x\":{\"__ndarray__\":\"VrSXP2/CgL93psyc2WaAvyR2wW5FU3+/9FlpzIfLfb8bSX8Bljt8v3A20JaQo3q/Nd97VpYDeb/6GviDkFt3v+xomPryq3W/DH+m1w/1c7+1Oy7mgzdyv2LD5uomdHC/7FovyEVVbb9zO3WRtK5ovyFkEhJGw0u/dBMmHFvHcD/PdPOw97KGPzqltuYkGpQ/YpKAh1iznj+tnJKzfbalPy9qWta7R60/9gsEbs6isj9EeV6rtvuzP5XZCfcWS7I/m5xOcLkTrz+Sz3JzBlOoP+6p5oOv+aE/+oNlkq8JmT8nAAGWVQuQP/JSQpRVL4I/cbyr9NTXcD8/3n+xpL9TP9gPwHe28i6/H+OCGltbSr9WW77p7h5Wv78/2WBeEV6/GnVPTE5VYL/GlYnT79hdv61xl7RS3li/1j8DB//dVb/2evDEd9xTvy3z4nQ1YVK/rDx0hlEsUb89U7l1QyFQv5VE54uiXE6/WpjABFaRTL9Du7/ysNJKv0oiuMlGF0m/Cdc8+wxXR78HBCdJrotFvwslwSx6skO/RXVgFfHHQb+iVxmWnZI/v9T0NLtJZzu/ZBLto0UIN78/IdeqSXEyv/FQLjWgOyu/9Vr/wuYVIb93IOBBKOYJv9LRcd19tQE/aGaujDEYHj+MyVIROiMoP63K5DTMIy4/kNuUtAVeMD9vGNSkT88wP4tFI6RvojE/PcqOp3e7Mz81VR7+zVQ3P1SZyEgAHDw/BowVn9vSQD8BAm24UNdDP57y5UwiDUc/J9mCj9VuSj9JbrE1KP1NP9PlYPwM3VA/\",\"dtype\":\"float64\",\"shape\":[75]},\"y\":{\"__ndarray__\":\"GhExyth1ND/Sv8nbtpRIP2vylNV0PVE/aTum7souWD/At0SJ8fVgPw3Iuahxymc/MSNhhJWvcD/bTfBN02d3P2zb5nxnaoA/CD5h5MAGhz8NmeH1TyaQP+zrCsc9p5Y/LbKd76fGnz/bLW5ISEmmPww9YvTcQq8/JV2OstnstT8Er5Y7M8G+P0c+r3jqkcU/5h99k6ZBzj88bCIzFzjVP4enV8oyxN0//yH99nXg5D8qOpLLf0jtP5kqGJXUifQ/c9cS8kHP/D+/DpwzojQEQIEmwoanVwxA4lgXt9HgE0BSSZ2AJuIbQAMJih9jjiNA5q4l5INuK0AwTKYKRj0zQNv5fmq8/DpAaCJseHrtQkB/+zpwzoxKQM3MzMzMeFJAZmZmZmZqWEAAAAAAAFxeQM3MzMzMJmJAmpmZmZkfZUBmZmZmZhhoQDMzMzMzEWtAAAAAAAAKbkBmZmZmZoFwQM3MzMzM/XFAMzMzMzN6c0CamZmZmfZ0QAAAAAAAc3ZAZmZmZmbvd0DNzMzMzGt5QDMzMzMz6HpAmpmZmZlkfEAAAAAAAOF9QGZmZmZmXX9AZmZmZuZsgECamZmZGSuBQM3MzMxM6YFAAAAAAICngkAzMzMzs2WDQGZmZmbmI4RAmpmZmRnihEDNzMzMTKCFQAAAAACAXoZAMzMzM7Mch0BmZmZm5tqHQJqZmZkZmYhAzczMzExXiUAAAAAAgBWKQDMzMzOz04pAZmZmZuaRi0CamZmZGVCMQM3MzMxMDo1AAAAAAIDMjUAzMzMzs4qOQGZmZmbmSI9A\",\"dtype\":\"float64\",\"shape\":[75]}},\"selected\":{\"id\":\"2333f92e-ab37-41b4-b861-de8e18f62198\",\"type\":\"Selection\"},\"selection_policy\":{\"id\":\"6558f35a-07f2-420f-acad-045a326f4682\",\"type\":\"UnionRenderers\"}},\"id\":\"602ab079-ccc7-484a-bb5a-fd8c0f7adbc4\",\"type\":\"ColumnDataSource\"},{\"attributes\":{\"source\":{\"id\":\"602ab079-ccc7-484a-bb5a-fd8c0f7adbc4\",\"type\":\"ColumnDataSource\"}},\"id\":\"7f0abfdd-96f3-48c6-b280-c41c9e84d7c8\",\"type\":\"CDSView\"},{\"attributes\":{},\"id\":\"33e1cb74-a3d5-4cf6-8da7-0e356200831f\",\"type\":\"WheelZoomTool\"},{\"attributes\":{\"label\":{\"value\":\"WGT igg=10\"},\"renderers\":[{\"id\":\"cb665663-1314-43a8-b120-b63b0ab055d9\",\"type\":\"GlyphRenderer\"},{\"id\":\"9aa709b7-538c-4589-b94e-548a024f4ab3\",\"type\":\"GlyphRenderer\"}]},\"id\":\"623ee207-724e-4c72-9b51-5c64029af07c\",\"type\":\"LegendItem\"},{\"attributes\":{\"callback\":null,\"data\":{\"x\":{\"__ndarray__\":\"VrSXP2/CgL93psyc2WaAvyR2wW5FU3+/9FlpzIfLfb8bSX8Bljt8v3A20JaQo3q/Nd97VpYDeb/6GviDkFt3v+xomPryq3W/DH+m1w/1c7+1Oy7mgzdyv2LD5uomdHC/7FovyEVVbb9zO3WRtK5ovyFkEhJGw0u/dBMmHFvHcD/PdPOw97KGPzqltuYkGpQ/YpKAh1iznj+tnJKzfbalPy9qWta7R60/9gsEbs6isj9EeV6rtvuzP5XZCfcWS7I/m5xOcLkTrz+Sz3JzBlOoP+6p5oOv+aE/+oNlkq8JmT8nAAGWVQuQP/JSQpRVL4I/cbyr9NTXcD8/3n+xpL9TP9gPwHe28i6/H+OCGltbSr9WW77p7h5Wv78/2WBeEV6/GnVPTE5VYL/GlYnT79hdv61xl7RS3li/1j8DB//dVb/2evDEd9xTvy3z4nQ1YVK/rDx0hlEsUb89U7l1QyFQv5VE54uiXE6/WpjABFaRTL9Du7/ysNJKv0oiuMlGF0m/Cdc8+wxXR78HBCdJrotFvwslwSx6skO/RXVgFfHHQb+iVxmWnZI/v9T0NLtJZzu/ZBLto0UIN78/IdeqSXEyv/FQLjWgOyu/9Vr/wuYVIb93IOBBKOYJv9LRcd19tQE/aGaujDEYHj+MyVIROiMoP63K5DTMIy4/kNuUtAVeMD9vGNSkT88wP4tFI6RvojE/PcqOp3e7Mz81VR7+zVQ3P1SZyEgAHDw/BowVn9vSQD8BAm24UNdDP57y5UwiDUc/J9mCj9VuSj9JbrE1KP1NP9PlYPwM3VA/\",\"dtype\":\"float64\",\"shape\":[75]},\"y\":{\"__ndarray__\":\"GhExyth1ND/Sv8nbtpRIP2vylNV0PVE/aTum7souWD/At0SJ8fVgPw3Iuahxymc/MSNhhJWvcD/bTfBN02d3P2zb5nxnaoA/CD5h5MAGhz8NmeH1TyaQP+zrCsc9p5Y/LbKd76fGnz/bLW5ISEmmPww9YvTcQq8/JV2OstnstT8Er5Y7M8G+P0c+r3jqkcU/5h99k6ZBzj88bCIzFzjVP4enV8oyxN0//yH99nXg5D8qOpLLf0jtP5kqGJXUifQ/c9cS8kHP/D+/DpwzojQEQIEmwoanVwxA4lgXt9HgE0BSSZ2AJuIbQAMJih9jjiNA5q4l5INuK0AwTKYKRj0zQNv5fmq8/DpAaCJseHrtQkB/+zpwzoxKQM3MzMzMeFJAZmZmZmZqWEAAAAAAAFxeQM3MzMzMJmJAmpmZmZkfZUBmZmZmZhhoQDMzMzMzEWtAAAAAAAAKbkBmZmZmZoFwQM3MzMzM/XFAMzMzMzN6c0CamZmZmfZ0QAAAAAAAc3ZAZmZmZmbvd0DNzMzMzGt5QDMzMzMz6HpAmpmZmZlkfEAAAAAAAOF9QGZmZmZmXX9AZmZmZuZsgECamZmZGSuBQM3MzMxM6YFAAAAAAICngkAzMzMzs2WDQGZmZmbmI4RAmpmZmRnihEDNzMzMTKCFQAAAAACAXoZAMzMzM7Mch0BmZmZm5tqHQJqZmZkZmYhAzczMzExXiUAAAAAAgBWKQDMzMzOz04pAZmZmZuaRi0CamZmZGVCMQM3MzMxMDo1AAAAAAIDMjUAzMzMzs4qOQGZmZmbmSI9A\",\"dtype\":\"float64\",\"shape\":[75]}},\"selected\":{\"id\":\"88cf1f50-fa59-4872-9ed7-0fbff450d764\",\"type\":\"Selection\"},\"selection_policy\":{\"id\":\"e5427c04-158b-469b-9934-b88f852ff4fd\",\"type\":\"UnionRenderers\"}},\"id\":\"2aa99acc-96b4-45f2-af47-772d86ef4086\",\"type\":\"ColumnDataSource\"},{\"attributes\":{\"overlay\":{\"id\":\"1ff8c68e-97d9-40fb-9db6-6e296500f4f2\",\"type\":\"BoxAnnotation\"}},\"id\":\"c80e740b-8da5-476d-87c6-5072ea8e1cf0\",\"type\":\"BoxZoomTool\"},{\"attributes\":{\"fill_alpha\":{\"value\":0.7},\"fill_color\":{\"value\":\"#377eb8\"},\"line_alpha\":{\"value\":0.7},\"line_color\":{\"value\":\"#377eb8\"},\"x\":{\"field\":\"x\"},\"y\":{\"field\":\"y\"}},\"id\":\"eea8c0eb-a6ca-4223-8219-10972f70befa\",\"type\":\"Triangle\"},{\"attributes\":{},\"id\":\"cf44d928-b119-4a07-b600-7942562e2724\",\"type\":\"SaveTool\"},{\"attributes\":{},\"id\":\"29a483c3-9989-43eb-9d9a-ebfd7b0b1814\",\"type\":\"ResetTool\"},{\"attributes\":{},\"id\":\"8410831f-60ac-4007-9627-cba2457fcff7\",\"type\":\"HelpTool\"},{\"attributes\":{\"line_alpha\":0.3,\"line_color\":\"#377eb8\",\"line_width\":2,\"x\":{\"field\":\"x\"},\"y\":{\"field\":\"y\"}},\"id\":\"bd2b21c1-d6a8-40c0-b167-54e120642081\",\"type\":\"Line\"},{\"attributes\":{\"callback\":null,\"data\":{\"x\":{\"__ndarray__\":\"DIEDKoFsiL9CCAq0IgeIvypngO9cNoe/Y031/Bpdhr8N6sARW3yFv7rCfvmrmoS/GhZ+DDi0g790Npl/GMuCv9qGCoTP5YG/StDfjCEOgb81qajHpCmAv9a362QyVX6/a9+S0iKRfL8XlUWDSlN6v6X0EV+CH3G/sUBo+1/HUj9rxatqUbiBP1q0m0HFNpI/bLoIzVp8nT9T8Ym5x3mlP1gqbUYNc60/LilOILLpsj//NQeluy20P2h013cdKLI/k5NWamAlrj/tKw/SU+SmP7NHljaWXKA/ZN+PhzARlj/G2nI98IKLP0jL2o2SnH4/HYcjS8sobD/HMA3S5ypQPzfsviHRUzO/OK0QO5KrTL+Dz+Ghec5Xv+my926jpF+/6FNkAOr+YL8UJbKqPSdfv7wP7Y+qQFq/4mgYDJ9FV780S7iP2StVv6xwCxrah1O/B1fUcrQiUr98GRi7deVQv6Y6TS2rgk+/DFTVqFVaTb80LsIUz0VLv8CS5cHePEm/gYM3JDg4R7+Cimuc+TFFv7tWJCHvJ0O/fz7RoZwWQb/zI5Pks/Y9v1ul1VX+pTm/zxytQRM1Nb+JTvZeWp4wv1D71SNPtie/BbzCsxeWG7+h6b6Fj8v7vhuWiLiegQw/3W8Ibtt8IT8BhlYAe2AqP6zXTJNvFzA/7gLvYlpDMT8+kPy66YkxP/1nCeQ/JzI/KtQm77b9Mz/asuFy30Q3PzaN7MMNqDs/wu1fVDtfQD/4gyaNGCZDP2L4bLgcIEY/mMmwUM5PST+7T/NDt8FMP2kigjFyR1A/\",\"dtype\":\"float64\",\"shape\":[75]},\"y\":{\"__ndarray__\":\"GhExyth1ND/Sv8nbtpRIP2vylNV0PVE/aTum7souWD/At0SJ8fVgPw3Iuahxymc/MSNhhJWvcD/bTfBN02d3P2zb5nxnaoA/CD5h5MAGhz8NmeH1TyaQP+zrCsc9p5Y/LbKd76fGnz/bLW5ISEmmPww9YvTcQq8/JV2OstnstT8Er5Y7M8G+P0c+r3jqkcU/5h99k6ZBzj88bCIzFzjVP4enV8oyxN0//yH99nXg5D8qOpLLf0jtP5kqGJXUifQ/c9cS8kHP/D+/DpwzojQEQIEmwoanVwxA4lgXt9HgE0BSSZ2AJuIbQAMJih9jjiNA5q4l5INuK0AwTKYKRj0zQNv5fmq8/DpAaCJseHrtQkB/+zpwzoxKQM3MzMzMeFJAZmZmZmZqWEAAAAAAAFxeQM3MzMzMJmJAmpmZmZkfZUBmZmZmZhhoQDMzMzMzEWtAAAAAAAAKbkBmZmZmZoFwQM3MzMzM/XFAMzMzMzN6c0CamZmZmfZ0QAAAAAAAc3ZAZmZmZmbvd0DNzMzMzGt5QDMzMzMz6HpAmpmZmZlkfEAAAAAAAOF9QGZmZmZmXX9AZmZmZuZsgECamZmZGSuBQM3MzMxM6YFAAAAAAICngkAzMzMzs2WDQGZmZmbmI4RAmpmZmRnihEDNzMzMTKCFQAAAAACAXoZAMzMzM7Mch0BmZmZm5tqHQJqZmZkZmYhAzczMzExXiUAAAAAAgBWKQDMzMzOz04pAZmZmZuaRi0CamZmZGVCMQM3MzMxMDo1AAAAAAIDMjUAzMzMzs4qOQGZmZmbmSI9A\",\"dtype\":\"float64\",\"shape\":[75]}},\"selected\":{\"id\":\"4c0082a8-0314-42d1-ae61-a34f9b3d4ebd\",\"type\":\"Selection\"},\"selection_policy\":{\"id\":\"5886f42e-0540-4b7f-9c10-6cd23d769e29\",\"type\":\"UnionRenderers\"}},\"id\":\"4f9b1888-2e16-401d-b32a-58622c964e32\",\"type\":\"ColumnDataSource\"},{\"attributes\":{\"fill_alpha\":{\"value\":0.1},\"fill_color\":{\"value\":\"#1f77b4\"},\"line_alpha\":{\"value\":0.1},\"line_color\":{\"value\":\"#1f77b4\"},\"x\":{\"field\":\"x\"},\"y\":{\"field\":\"y\"}},\"id\":\"5c8ce5fa-d6c0-4bd9-a96f-04a86419c340\",\"type\":\"Triangle\"},{\"attributes\":{\"line_alpha\":0.1,\"line_color\":\"#1f77b4\",\"line_width\":3,\"x\":{\"field\":\"x\"},\"y\":{\"field\":\"y\"}},\"id\":\"15433f08-8ccc-415a-8739-4e9fa3fc09ec\",\"type\":\"Line\"},{\"attributes\":{\"label\":{\"value\":\"WGT igg=1\"},\"renderers\":[{\"id\":\"5c407f83-6cc3-4e23-b4db-33c398fbf395\",\"type\":\"GlyphRenderer\"},{\"id\":\"c8b87d1c-6099-4bba-8c3a-e2c6bee6ec6d\",\"type\":\"GlyphRenderer\"}]},\"id\":\"730f0581-b7ca-4af0-a2c2-720677ed7daa\",\"type\":\"LegendItem\"},{\"attributes\":{\"line_color\":\"#4daf4a\",\"line_width\":1.5,\"x\":{\"field\":\"x\"},\"y\":{\"field\":\"y\"}},\"id\":\"c0ddf435-0089-4986-8dc6-75e57523bcef\",\"type\":\"Line\"},{\"attributes\":{\"callback\":null,\"end\":0.08181286223,\"start\":-0.02685010723},\"id\":\"29d11fab-2bf5-40ff-a39a-68ce7d940ca9\",\"type\":\"Range1d\"},{\"attributes\":{\"active_drag\":\"auto\",\"active_inspect\":\"auto\",\"active_scroll\":\"auto\",\"active_tap\":\"auto\",\"tools\":[{\"id\":\"2476982d-4ab0-49dc-b1b3-2934096a8b2a\",\"type\":\"PanTool\"},{\"id\":\"ae4aa646-38e1-42cf-9c9e-65ef7f67f9e8\",\"type\":\"WheelZoomTool\"},{\"id\":\"c32ae263-9d62-4f8f-b3f3-cbe3715de28f\",\"type\":\"BoxZoomTool\"},{\"id\":\"b9ff6f1f-c981-403b-982c-5e57927bbe67\",\"type\":\"SaveTool\"},{\"id\":\"856a9794-86a2-4ada-be22-7a47dde69c36\",\"type\":\"ResetTool\"},{\"id\":\"fc419e35-3b72-4462-8048-4e79e146fd68\",\"type\":\"HelpTool\"}]},\"id\":\"687ed18b-f5a8-40cd-a7c2-7e7e8ed982f9\",\"type\":\"Toolbar\"},{\"attributes\":{\"axis_label\":\"cooling rate [K/day]\",\"formatter\":{\"id\":\"6dcd8880-2df8-4639-9e9b-569440b115af\",\"type\":\"BasicTickFormatter\"},\"plot\":{\"id\":\"d7ad7782-d8d4-4617-85b9-bd0d3603586b\",\"subtype\":\"Figure\",\"type\":\"Plot\"},\"ticker\":{\"id\":\"2c0f9245-346b-4e36-8a8c-7c4b88f057c0\",\"type\":\"BasicTicker\"}},\"id\":\"def938ba-d8cb-4e0b-8132-0d3d46e603c2\",\"type\":\"LinearAxis\"},{\"attributes\":{\"label\":{\"value\":\"CRD\"},\"renderers\":[{\"id\":\"595cfc4c-8321-441d-a759-ad2d958de715\",\"type\":\"GlyphRenderer\"},{\"id\":\"b1e72079-f5c5-4529-b647-651653e51caf\",\"type\":\"GlyphRenderer\"}]},\"id\":\"5164e96c-f99a-49bf-b502-779f70074917\",\"type\":\"LegendItem\"},{\"attributes\":{},\"id\":\"80836883-305b-4add-8e8e-38968973532f\",\"type\":\"LinearScale\"},{\"attributes\":{\"items\":[{\"id\":\"ea104c90-2825-4156-b48a-67ed3d8558da\",\"type\":\"LegendItem\"},{\"id\":\"b9ab44d3-e89c-4e37-9a2a-ceddb482ff6c\",\"type\":\"LegendItem\"},{\"id\":\"fb548ede-0980-4ab0-bc93-9a940e372dd4\",\"type\":\"LegendItem\"}],\"label_text_font_size\":{\"value\":\"8pt\"},\"location\":\"top_center\",\"orientation\":\"horizontal\",\"plot\":{\"id\":\"d7ad7782-d8d4-4617-85b9-bd0d3603586b\",\"subtype\":\"Figure\",\"type\":\"Plot\"}},\"id\":\"401cac23-6913-478b-acdc-a156f64eee55\",\"type\":\"Legend\"},{\"attributes\":{},\"id\":\"81246b29-eed1-4d5a-83ac-3d16e80c20a2\",\"type\":\"LogScale\"},{\"attributes\":{\"plot\":{\"id\":\"d7ad7782-d8d4-4617-85b9-bd0d3603586b\",\"subtype\":\"Figure\",\"type\":\"Plot\"},\"ticker\":{\"id\":\"2c0f9245-346b-4e36-8a8c-7c4b88f057c0\",\"type\":\"BasicTicker\"}},\"id\":\"b1f5b884-6358-4e8a-bbe1-908859e35615\",\"type\":\"Grid\"},{\"attributes\":{},\"id\":\"2c0f9245-346b-4e36-8a8c-7c4b88f057c0\",\"type\":\"BasicTicker\"},{\"attributes\":{\"data_source\":{\"id\":\"2d60de43-501c-4980-bc52-6905e1363d13\",\"type\":\"ColumnDataSource\"},\"glyph\":{\"id\":\"c0ddf435-0089-4986-8dc6-75e57523bcef\",\"type\":\"Line\"},\"hover_glyph\":null,\"muted_glyph\":null,\"nonselection_glyph\":{\"id\":\"5c1bcac9-3e02-49da-b729-789d8909bf5b\",\"type\":\"Line\"},\"selection_glyph\":null,\"view\":{\"id\":\"36eedae3-c745-4781-9794-36213c039778\",\"type\":\"CDSView\"}},\"id\":\"b1e72079-f5c5-4529-b647-651653e51caf\",\"type\":\"GlyphRenderer\"},{\"attributes\":{\"axis_label\":\"pressure [mb]\",\"formatter\":{\"id\":\"cbbcd7d0-eb10-4e82-b85f-3465fe0d77a6\",\"type\":\"LogTickFormatter\"},\"plot\":{\"id\":\"d7ad7782-d8d4-4617-85b9-bd0d3603586b\",\"subtype\":\"Figure\",\"type\":\"Plot\"},\"ticker\":{\"id\":\"50205d90-50c8-4b78-a372-d59254c06067\",\"type\":\"LogTicker\"}},\"id\":\"186f314d-e929-47c2-ab74-59a39e8c3235\",\"type\":\"LogAxis\"},{\"attributes\":{\"callback\":null,\"data\":{\"x\":{\"__ndarray__\":\"GrJ/c4avn7+/5OFlz2Ofv9A3ru50wZ6/ieD8qZganr8xonPSiXGdvzJAkCZYyJy/qgmdNUonnL/G0flJ5Yibv1x41TjY8Zq/LsUOkFNnmr+2biVpbu2Zv1c179UajJm/ZHJEoPVOmb+MuJZPqguZv7DPGL2FO5a/HWryzH/Tjb9CXcoXuUlyv+cfIWzv0X4/FLQxxQgglj+3bGOi93yjP6rfkSB4Vq0/1mzbs4vCsz/Kyzzn3qu0P9wlgzkANrE/HN7w3viqqT8ju8MHJbWgP4EG3VZh0JM/Wto3ZPS9hT8EvD5PWU91P/GRdp7WP2A/ugvhJm8TIz+h2kAWzdlJvyjwA9Uc51G/Iw95Z+VbUL+uUl4ISYhRv5W6lXpeflO/iSpaQsDWU78N6cP9//RRv+id3vzY302/711zOxB8S78860ambvtJv7vv247IwUi/jZMgLsmZR7/gcIfIxHVGvwjs42AOT0W/PA1HlxojRL+hKzkuJe9CvxoFzJABs0G/hbvs/D9sQL/AFvE8FzE+v5nVxFgzcDu/X6lf/PmSOL/ew3i3k5Y1v+YDIoYNdjK/gqLHN8dXLr+K2kctFGYnv94WBleCBiC/ArnR+t9NEL+3RjBDLUrAPmm3iJOnPhI/HzTi8AL6IT+MG07SrJopP46QfagmXC4/VAuKSQDNLz/LMfj7DowvP4t7g0MaADA/cKGMM8BvMT9VOuiqKkg0P6HGBaufMzg/rDwl/tXNPD9lpazI3PBAPzIcF2Lxs0M/C2I32P63Rj/XVY2LAxFKP9p338vO5U0/\",\"dtype\":\"float64\",\"shape\":[75]},\"y\":{\"__ndarray__\":\"GhExyth1ND/Sv8nbtpRIP2vylNV0PVE/aTum7souWD/At0SJ8fVgPw3Iuahxymc/MSNhhJWvcD/bTfBN02d3P2zb5nxnaoA/CD5h5MAGhz8NmeH1TyaQP+zrCsc9p5Y/LbKd76fGnz/bLW5ISEmmPww9YvTcQq8/JV2OstnstT8Er5Y7M8G+P0c+r3jqkcU/5h99k6ZBzj88bCIzFzjVP4enV8oyxN0//yH99nXg5D8qOpLLf0jtP5kqGJXUifQ/c9cS8kHP/D+/DpwzojQEQIEmwoanVwxA4lgXt9HgE0BSSZ2AJuIbQAMJih9jjiNA5q4l5INuK0AwTKYKRj0zQNv5fmq8/DpAaCJseHrtQkB/+zpwzoxKQM3MzMzMeFJAZmZmZmZqWEAAAAAAAFxeQM3MzMzMJmJAmpmZmZkfZUBmZmZmZhhoQDMzMzMzEWtAAAAAAAAKbkBmZmZmZoFwQM3MzMzM/XFAMzMzMzN6c0CamZmZmfZ0QAAAAAAAc3ZAZmZmZmbvd0DNzMzMzGt5QDMzMzMz6HpAmpmZmZlkfEAAAAAAAOF9QGZmZmZmXX9AZmZmZuZsgECamZmZGSuBQM3MzMxM6YFAAAAAAICngkAzMzMzs2WDQGZmZmbmI4RAmpmZmRnihEDNzMzMTKCFQAAAAACAXoZAMzMzM7Mch0BmZmZm5tqHQJqZmZkZmYhAzczMzExXiUAAAAAAgBWKQDMzMzOz04pAZmZmZuaRi0CamZmZGVCMQM3MzMxMDo1AAAAAAIDMjUAzMzMzs4qOQGZmZmbmSI9A\",\"dtype\":\"float64\",\"shape\":[75]}},\"selected\":{\"id\":\"09697074-01f6-4567-879b-2c02a636a6e6\",\"type\":\"Selection\"},\"selection_policy\":{\"id\":\"52afce1a-ffb5-426e-b5e2-0393d6a26efb\",\"type\":\"UnionRenderers\"}},\"id\":\"2d60de43-501c-4980-bc52-6905e1363d13\",\"type\":\"ColumnDataSource\"},{\"attributes\":{\"num_minor_ticks\":10},\"id\":\"50205d90-50c8-4b78-a372-d59254c06067\",\"type\":\"LogTicker\"},{\"attributes\":{\"dimension\":1,\"plot\":{\"id\":\"d7ad7782-d8d4-4617-85b9-bd0d3603586b\",\"subtype\":\"Figure\",\"type\":\"Plot\"},\"ticker\":{\"id\":\"50205d90-50c8-4b78-a372-d59254c06067\",\"type\":\"LogTicker\"}},\"id\":\"06cecd34-71ae-44d6-8ad5-e51f17e26463\",\"type\":\"Grid\"},{\"attributes\":{\"callback\":null,\"data\":{\"x\":{\"__ndarray__\":\"GrJ/c4avn7+/5OFlz2Ofv9A3ru50wZ6/ieD8qZganr8xonPSiXGdvzJAkCZYyJy/qgmdNUonnL/G0flJ5Yibv1x41TjY8Zq/LsUOkFNnmr+2biVpbu2Zv1c179UajJm/ZHJEoPVOmb+MuJZPqguZv7DPGL2FO5a/HWryzH/Tjb9CXcoXuUlyv+cfIWzv0X4/FLQxxQgglj+3bGOi93yjP6rfkSB4Vq0/1mzbs4vCsz/Kyzzn3qu0P9wlgzkANrE/HN7w3viqqT8ju8MHJbWgP4EG3VZh0JM/Wto3ZPS9hT8EvD5PWU91P/GRdp7WP2A/ugvhJm8TIz+h2kAWzdlJvyjwA9Uc51G/Iw95Z+VbUL+uUl4ISYhRv5W6lXpeflO/iSpaQsDWU78N6cP9//RRv+id3vzY302/711zOxB8S78860ambvtJv7vv247IwUi/jZMgLsmZR7/gcIfIxHVGvwjs42AOT0W/PA1HlxojRL+hKzkuJe9CvxoFzJABs0G/hbvs/D9sQL/AFvE8FzE+v5nVxFgzcDu/X6lf/PmSOL/ew3i3k5Y1v+YDIoYNdjK/gqLHN8dXLr+K2kctFGYnv94WBleCBiC/ArnR+t9NEL+3RjBDLUrAPmm3iJOnPhI/HzTi8AL6IT+MG07SrJopP46QfagmXC4/VAuKSQDNLz/LMfj7DowvP4t7g0MaADA/cKGMM8BvMT9VOuiqKkg0P6HGBaufMzg/rDwl/tXNPD9lpazI3PBAPzIcF2Lxs0M/C2I32P63Rj/XVY2LAxFKP9p338vO5U0/\",\"dtype\":\"float64\",\"shape\":[75]},\"y\":{\"__ndarray__\":\"GhExyth1ND/Sv8nbtpRIP2vylNV0PVE/aTum7souWD/At0SJ8fVgPw3Iuahxymc/MSNhhJWvcD/bTfBN02d3P2zb5nxnaoA/CD5h5MAGhz8NmeH1TyaQP+zrCsc9p5Y/LbKd76fGnz/bLW5ISEmmPww9YvTcQq8/JV2OstnstT8Er5Y7M8G+P0c+r3jqkcU/5h99k6ZBzj88bCIzFzjVP4enV8oyxN0//yH99nXg5D8qOpLLf0jtP5kqGJXUifQ/c9cS8kHP/D+/DpwzojQEQIEmwoanVwxA4lgXt9HgE0BSSZ2AJuIbQAMJih9jjiNA5q4l5INuK0AwTKYKRj0zQNv5fmq8/DpAaCJseHrtQkB/+zpwzoxKQM3MzMzMeFJAZmZmZmZqWEAAAAAAAFxeQM3MzMzMJmJAmpmZmZkfZUBmZmZmZhhoQDMzMzMzEWtAAAAAAAAKbkBmZmZmZoFwQM3MzMzM/XFAMzMzMzN6c0CamZmZmfZ0QAAAAAAAc3ZAZmZmZmbvd0DNzMzMzGt5QDMzMzMz6HpAmpmZmZlkfEAAAAAAAOF9QGZmZmZmXX9AZmZmZuZsgECamZmZGSuBQM3MzMxM6YFAAAAAAICngkAzMzMzs2WDQGZmZmbmI4RAmpmZmRnihEDNzMzMTKCFQAAAAACAXoZAMzMzM7Mch0BmZmZm5tqHQJqZmZkZmYhAzczMzExXiUAAAAAAgBWKQDMzMzOz04pAZmZmZuaRi0CamZmZGVCMQM3MzMxMDo1AAAAAAIDMjUAzMzMzs4qOQGZmZmbmSI9A\",\"dtype\":\"float64\",\"shape\":[75]}},\"selected\":{\"id\":\"1ed04e73-cff1-46a1-bd65-5bf1f3819dbc\",\"type\":\"Selection\"},\"selection_policy\":{\"id\":\"fa3af0a4-a832-4188-b6a9-089b736c8ac5\",\"type\":\"UnionRenderers\"}},\"id\":\"cf659140-af43-4cd3-91b7-d86ce033ee00\",\"type\":\"ColumnDataSource\"},{\"attributes\":{},\"id\":\"6558f35a-07f2-420f-acad-045a326f4682\",\"type\":\"UnionRenderers\"},{\"attributes\":{\"callback\":null,\"end\":0.01,\"start\":1020},\"id\":\"8609b87d-381f-437f-a203-1dbdbb2961eb\",\"type\":\"Range1d\"},{\"attributes\":{\"bottom_units\":\"screen\",\"fill_alpha\":{\"value\":0.5},\"fill_color\":{\"value\":\"lightgrey\"},\"left_units\":\"screen\",\"level\":\"overlay\",\"line_alpha\":{\"value\":1.0},\"line_color\":{\"value\":\"black\"},\"line_dash\":[4,4],\"line_width\":{\"value\":2},\"plot\":null,\"render_mode\":\"css\",\"right_units\":\"screen\",\"top_units\":\"screen\"},\"id\":\"65af88ab-a2c7-40bc-92d6-fa23245817be\",\"type\":\"BoxAnnotation\"},{\"attributes\":{},\"id\":\"2476982d-4ab0-49dc-b1b3-2934096a8b2a\",\"type\":\"PanTool\"},{\"attributes\":{},\"id\":\"ae4aa646-38e1-42cf-9c9e-65ef7f67f9e8\",\"type\":\"WheelZoomTool\"},{\"attributes\":{\"data_source\":{\"id\":\"cf659140-af43-4cd3-91b7-d86ce033ee00\",\"type\":\"ColumnDataSource\"},\"glyph\":{\"id\":\"275ea216-6651-414b-b795-37247c76c34a\",\"type\":\"Circle\"},\"hover_glyph\":null,\"muted_glyph\":null,\"nonselection_glyph\":{\"id\":\"85dfd0b8-bc20-45c2-9152-b406074ee393\",\"type\":\"Circle\"},\"selection_glyph\":null,\"view\":{\"id\":\"51c6d836-1ea8-432d-acec-2f26ccb96463\",\"type\":\"CDSView\"}},\"id\":\"595cfc4c-8321-441d-a759-ad2d958de715\",\"type\":\"GlyphRenderer\"},{\"attributes\":{\"overlay\":{\"id\":\"65af88ab-a2c7-40bc-92d6-fa23245817be\",\"type\":\"BoxAnnotation\"}},\"id\":\"c32ae263-9d62-4f8f-b3f3-cbe3715de28f\",\"type\":\"BoxZoomTool\"},{\"attributes\":{},\"id\":\"b9ff6f1f-c981-403b-982c-5e57927bbe67\",\"type\":\"SaveTool\"},{\"attributes\":{},\"id\":\"856a9794-86a2-4ada-be22-7a47dde69c36\",\"type\":\"ResetTool\"},{\"attributes\":{},\"id\":\"fc419e35-3b72-4462-8048-4e79e146fd68\",\"type\":\"HelpTool\"},{\"attributes\":{\"callback\":null,\"end\":0.01,\"start\":1020},\"id\":\"c275d070-ffe4-4c03-a492-9e02f7c3220c\",\"type\":\"Range1d\"},{\"attributes\":{\"source\":{\"id\":\"cf659140-af43-4cd3-91b7-d86ce033ee00\",\"type\":\"ColumnDataSource\"}},\"id\":\"51c6d836-1ea8-432d-acec-2f26ccb96463\",\"type\":\"CDSView\"},{\"attributes\":{\"fill_alpha\":{\"value\":0.7},\"fill_color\":{\"value\":\"#4daf4a\"},\"line_alpha\":{\"value\":0.7},\"line_color\":{\"value\":\"#4daf4a\"},\"x\":{\"field\":\"x\"},\"y\":{\"field\":\"y\"}},\"id\":\"55f9871a-359e-40f0-a602-574994c525c4\",\"type\":\"Circle\"},{\"attributes\":{\"fill_alpha\":{\"value\":0.1},\"fill_color\":{\"value\":\"#1f77b4\"},\"line_alpha\":{\"value\":0.1},\"line_color\":{\"value\":\"#1f77b4\"},\"x\":{\"field\":\"x\"},\"y\":{\"field\":\"y\"}},\"id\":\"d0f3c50e-0b52-4f4b-9e43-8e5780dce9de\",\"type\":\"Circle\"},{\"attributes\":{\"callback\":null,\"data\":{\"x\":{\"__ndarray__\":\"GrJ/c4avn7+/5OFlz2Ofv9A3ru50wZ6/ieD8qZganr8xonPSiXGdvzJAkCZYyJy/qgmdNUonnL/G0flJ5Yibv1x41TjY8Zq/LsUOkFNnmr+2biVpbu2Zv1c179UajJm/ZHJEoPVOmb+MuJZPqguZv7DPGL2FO5a/HWryzH/Tjb9CXcoXuUlyv+cfIWzv0X4/FLQxxQgglj+3bGOi93yjP6rfkSB4Vq0/1mzbs4vCsz/Kyzzn3qu0P9wlgzkANrE/HN7w3viqqT8ju8MHJbWgP4EG3VZh0JM/Wto3ZPS9hT8EvD5PWU91P/GRdp7WP2A/ugvhJm8TIz+h2kAWzdlJvyjwA9Uc51G/Iw95Z+VbUL+uUl4ISYhRv5W6lXpeflO/iSpaQsDWU78N6cP9//RRv+id3vzY302/711zOxB8S78860ambvtJv7vv247IwUi/jZMgLsmZR7/gcIfIxHVGvwjs42AOT0W/PA1HlxojRL+hKzkuJe9CvxoFzJABs0G/hbvs/D9sQL/AFvE8FzE+v5nVxFgzcDu/X6lf/PmSOL/ew3i3k5Y1v+YDIoYNdjK/gqLHN8dXLr+K2kctFGYnv94WBleCBiC/ArnR+t9NEL+3RjBDLUrAPmm3iJOnPhI/HzTi8AL6IT+MG07SrJopP46QfagmXC4/VAuKSQDNLz/LMfj7DowvP4t7g0MaADA/cKGMM8BvMT9VOuiqKkg0P6HGBaufMzg/rDwl/tXNPD9lpazI3PBAPzIcF2Lxs0M/C2I32P63Rj/XVY2LAxFKP9p338vO5U0/\",\"dtype\":\"float64\",\"shape\":[75]},\"y\":{\"__ndarray__\":\"GhExyth1ND/Sv8nbtpRIP2vylNV0PVE/aTum7souWD/At0SJ8fVgPw3Iuahxymc/MSNhhJWvcD/bTfBN02d3P2zb5nxnaoA/CD5h5MAGhz8NmeH1TyaQP+zrCsc9p5Y/LbKd76fGnz/bLW5ISEmmPww9YvTcQq8/JV2OstnstT8Er5Y7M8G+P0c+r3jqkcU/5h99k6ZBzj88bCIzFzjVP4enV8oyxN0//yH99nXg5D8qOpLLf0jtP5kqGJXUifQ/c9cS8kHP/D+/DpwzojQEQIEmwoanVwxA4lgXt9HgE0BSSZ2AJuIbQAMJih9jjiNA5q4l5INuK0AwTKYKRj0zQNv5fmq8/DpAaCJseHrtQkB/+zpwzoxKQM3MzMzMeFJAZmZmZmZqWEAAAAAAAFxeQM3MzMzMJmJAmpmZmZkfZUBmZmZmZhhoQDMzMzMzEWtAAAAAAAAKbkBmZmZmZoFwQM3MzMzM/XFAMzMzMzN6c0CamZmZmfZ0QAAAAAAAc3ZAZmZmZmbvd0DNzMzMzGt5QDMzMzMz6HpAmpmZmZlkfEAAAAAAAOF9QGZmZmZmXX9AZmZmZuZsgECamZmZGSuBQM3MzMxM6YFAAAAAAICngkAzMzMzs2WDQGZmZmbmI4RAmpmZmRnihEDNzMzMTKCFQAAAAACAXoZAMzMzM7Mch0BmZmZm5tqHQJqZmZkZmYhAzczMzExXiUAAAAAAgBWKQDMzMzOz04pAZmZmZuaRi0CamZmZGVCMQM3MzMxMDo1AAAAAAIDMjUAzMzMzs4qOQGZmZmbmSI9A\",\"dtype\":\"float64\",\"shape\":[75]}},\"selected\":{\"id\":\"183be39b-df74-476c-a30f-8a3872f66591\",\"type\":\"Selection\"},\"selection_policy\":{\"id\":\"ef61da42-5256-4f1e-9879-5861183ebe76\",\"type\":\"UnionRenderers\"}},\"id\":\"d66e8df1-f776-41f6-9158-5293299cf3c0\",\"type\":\"ColumnDataSource\"},{\"attributes\":{\"data_source\":{\"id\":\"d66e8df1-f776-41f6-9158-5293299cf3c0\",\"type\":\"ColumnDataSource\"},\"glyph\":{\"id\":\"55f9871a-359e-40f0-a602-574994c525c4\",\"type\":\"Circle\"},\"hover_glyph\":null,\"muted_glyph\":null,\"nonselection_glyph\":{\"id\":\"d0f3c50e-0b52-4f4b-9e43-8e5780dce9de\",\"type\":\"Circle\"},\"selection_glyph\":null,\"view\":{\"id\":\"68de3474-8644-48ce-a2d5-8ddc72c259f5\",\"type\":\"CDSView\"}},\"id\":\"e9fb0904-910e-4b5d-9cab-046c03557df6\",\"type\":\"GlyphRenderer\"},{\"attributes\":{\"fill_alpha\":{\"value\":0.1},\"fill_color\":{\"value\":\"#1f77b4\"},\"line_alpha\":{\"value\":0.1},\"line_color\":{\"value\":\"#1f77b4\"},\"x\":{\"field\":\"x\"},\"y\":{\"field\":\"y\"}},\"id\":\"3ac98232-ff64-4c14-b5f7-ce0bf45c1293\",\"type\":\"Square\"},{\"attributes\":{\"source\":{\"id\":\"bc15c27b-bf13-4ba8-bf67-8bedbd79ca5a\",\"type\":\"ColumnDataSource\"}},\"id\":\"4dee7546-194d-444a-afb1-a424f052172c\",\"type\":\"CDSView\"},{\"attributes\":{\"line_color\":\"#4daf4a\",\"line_width\":1.5,\"x\":{\"field\":\"x\"},\"y\":{\"field\":\"y\"}},\"id\":\"2a98d52b-8f69-4c21-91fa-1ddd6ca8409a\",\"type\":\"Line\"},{\"attributes\":{},\"id\":\"2333f92e-ab37-41b4-b861-de8e18f62198\",\"type\":\"Selection\"},{\"attributes\":{\"callback\":null,\"data\":{\"x\":{\"__ndarray__\":\"DIEDKoFsiL9CCAq0IgeIvypngO9cNoe/Y031/Bpdhr8N6sARW3yFv7rCfvmrmoS/GhZ+DDi0g790Npl/GMuCv9qGCoTP5YG/StDfjCEOgb81qajHpCmAv9a362QyVX6/a9+S0iKRfL8XlUWDSlN6v6X0EV+CH3G/sUBo+1/HUj9rxatqUbiBP1q0m0HFNpI/bLoIzVp8nT9T8Ym5x3mlP1gqbUYNc60/LilOILLpsj//NQeluy20P2h013cdKLI/k5NWamAlrj/tKw/SU+SmP7NHljaWXKA/ZN+PhzARlj/G2nI98IKLP0jL2o2SnH4/HYcjS8sobD/HMA3S5ypQPzfsviHRUzO/OK0QO5KrTL+Dz+Ghec5Xv+my926jpF+/6FNkAOr+YL8UJbKqPSdfv7wP7Y+qQFq/4mgYDJ9FV780S7iP2StVv6xwCxrah1O/B1fUcrQiUr98GRi7deVQv6Y6TS2rgk+/DFTVqFVaTb80LsIUz0VLv8CS5cHePEm/gYM3JDg4R7+Cimuc+TFFv7tWJCHvJ0O/fz7RoZwWQb/zI5Pks/Y9v1ul1VX+pTm/zxytQRM1Nb+JTvZeWp4wv1D71SNPtie/BbzCsxeWG7+h6b6Fj8v7vhuWiLiegQw/3W8Ibtt8IT8BhlYAe2AqP6zXTJNvFzA/7gLvYlpDMT8+kPy66YkxP/1nCeQ/JzI/KtQm77b9Mz/asuFy30Q3PzaN7MMNqDs/wu1fVDtfQD/4gyaNGCZDP2L4bLgcIEY/mMmwUM5PST+7T/NDt8FMP2kigjFyR1A/\",\"dtype\":\"float64\",\"shape\":[75]},\"y\":{\"__ndarray__\":\"GhExyth1ND/Sv8nbtpRIP2vylNV0PVE/aTum7souWD/At0SJ8fVgPw3Iuahxymc/MSNhhJWvcD/bTfBN02d3P2zb5nxnaoA/CD5h5MAGhz8NmeH1TyaQP+zrCsc9p5Y/LbKd76fGnz/bLW5ISEmmPww9YvTcQq8/JV2OstnstT8Er5Y7M8G+P0c+r3jqkcU/5h99k6ZBzj88bCIzFzjVP4enV8oyxN0//yH99nXg5D8qOpLLf0jtP5kqGJXUifQ/c9cS8kHP/D+/DpwzojQEQIEmwoanVwxA4lgXt9HgE0BSSZ2AJuIbQAMJih9jjiNA5q4l5INuK0AwTKYKRj0zQNv5fmq8/DpAaCJseHrtQkB/+zpwzoxKQM3MzMzMeFJAZmZmZmZqWEAAAAAAAFxeQM3MzMzMJmJAmpmZmZkfZUBmZmZmZhhoQDMzMzMzEWtAAAAAAAAKbkBmZmZmZoFwQM3MzMzM/XFAMzMzMzN6c0CamZmZmfZ0QAAAAAAAc3ZAZmZmZmbvd0DNzMzMzGt5QDMzMzMz6HpAmpmZmZlkfEAAAAAAAOF9QGZmZmZmXX9AZmZmZuZsgECamZmZGSuBQM3MzMxM6YFAAAAAAICngkAzMzMzs2WDQGZmZmbmI4RAmpmZmRnihEDNzMzMTKCFQAAAAACAXoZAMzMzM7Mch0BmZmZm5tqHQJqZmZkZmYhAzczMzExXiUAAAAAAgBWKQDMzMzOz04pAZmZmZuaRi0CamZmZGVCMQM3MzMxMDo1AAAAAAIDMjUAzMzMzs4qOQGZmZmbmSI9A\",\"dtype\":\"float64\",\"shape\":[75]}},\"selected\":{\"id\":\"82a89c26-4076-433e-937e-943c1d0aef5f\",\"type\":\"Selection\"},\"selection_policy\":{\"id\":\"03de780b-ba72-43f4-9dd0-a0e64a674cd8\",\"type\":\"UnionRenderers\"}},\"id\":\"bc15c27b-bf13-4ba8-bf67-8bedbd79ca5a\",\"type\":\"ColumnDataSource\"},{\"attributes\":{\"source\":{\"id\":\"d66e8df1-f776-41f6-9158-5293299cf3c0\",\"type\":\"ColumnDataSource\"}},\"id\":\"68de3474-8644-48ce-a2d5-8ddc72c259f5\",\"type\":\"CDSView\"},{\"attributes\":{},\"id\":\"e5427c04-158b-469b-9934-b88f852ff4fd\",\"type\":\"UnionRenderers\"},{\"attributes\":{\"line_alpha\":0.6,\"line_color\":\"#984ea3\",\"line_width\":3,\"x\":{\"field\":\"x\"},\"y\":{\"field\":\"y\"}},\"id\":\"0ffad03b-dc01-4042-9867-573fafb3175e\",\"type\":\"Line\"},{\"attributes\":{\"source\":{\"id\":\"961c3989-e46c-45fc-b054-25227be63e17\",\"type\":\"ColumnDataSource\"}},\"id\":\"4acaeb15-af2c-41f5-802d-15d266fd47cd\",\"type\":\"CDSView\"},{\"attributes\":{\"line_alpha\":0.1,\"line_color\":\"#1f77b4\",\"line_width\":1.5,\"x\":{\"field\":\"x\"},\"y\":{\"field\":\"y\"}},\"id\":\"2268cd4c-7839-45a1-8dc7-7fc5d751be41\",\"type\":\"Line\"},{\"attributes\":{\"callback\":null,\"data\":{\"x\":{\"__ndarray__\":\"VrSXP2/CgL93psyc2WaAvyR2wW5FU3+/9FlpzIfLfb8bSX8Bljt8v3A20JaQo3q/Nd97VpYDeb/6GviDkFt3v+xomPryq3W/DH+m1w/1c7+1Oy7mgzdyv2LD5uomdHC/7FovyEVVbb9zO3WRtK5ovyFkEhJGw0u/dBMmHFvHcD/PdPOw97KGPzqltuYkGpQ/YpKAh1iznj+tnJKzfbalPy9qWta7R60/9gsEbs6isj9EeV6rtvuzP5XZCfcWS7I/m5xOcLkTrz+Sz3JzBlOoP+6p5oOv+aE/+oNlkq8JmT8nAAGWVQuQP/JSQpRVL4I/cbyr9NTXcD8/3n+xpL9TP9gPwHe28i6/H+OCGltbSr9WW77p7h5Wv78/2WBeEV6/GnVPTE5VYL/GlYnT79hdv61xl7RS3li/1j8DB//dVb/2evDEd9xTvy3z4nQ1YVK/rDx0hlEsUb89U7l1QyFQv5VE54uiXE6/WpjABFaRTL9Du7/ysNJKv0oiuMlGF0m/Cdc8+wxXR78HBCdJrotFvwslwSx6skO/RXVgFfHHQb+iVxmWnZI/v9T0NLtJZzu/ZBLto0UIN78/IdeqSXEyv/FQLjWgOyu/9Vr/wuYVIb93IOBBKOYJv9LRcd19tQE/aGaujDEYHj+MyVIROiMoP63K5DTMIy4/kNuUtAVeMD9vGNSkT88wP4tFI6RvojE/PcqOp3e7Mz81VR7+zVQ3P1SZyEgAHDw/BowVn9vSQD8BAm24UNdDP57y5UwiDUc/J9mCj9VuSj9JbrE1KP1NP9PlYPwM3VA/\",\"dtype\":\"float64\",\"shape\":[75]},\"y\":{\"__ndarray__\":\"GhExyth1ND/Sv8nbtpRIP2vylNV0PVE/aTum7souWD/At0SJ8fVgPw3Iuahxymc/MSNhhJWvcD/bTfBN02d3P2zb5nxnaoA/CD5h5MAGhz8NmeH1TyaQP+zrCsc9p5Y/LbKd76fGnz/bLW5ISEmmPww9YvTcQq8/JV2OstnstT8Er5Y7M8G+P0c+r3jqkcU/5h99k6ZBzj88bCIzFzjVP4enV8oyxN0//yH99nXg5D8qOpLLf0jtP5kqGJXUifQ/c9cS8kHP/D+/DpwzojQEQIEmwoanVwxA4lgXt9HgE0BSSZ2AJuIbQAMJih9jjiNA5q4l5INuK0AwTKYKRj0zQNv5fmq8/DpAaCJseHrtQkB/+zpwzoxKQM3MzMzMeFJAZmZmZmZqWEAAAAAAAFxeQM3MzMzMJmJAmpmZmZkfZUBmZmZmZhhoQDMzMzMzEWtAAAAAAAAKbkBmZmZmZoFwQM3MzMzM/XFAMzMzMzN6c0CamZmZmfZ0QAAAAAAAc3ZAZmZmZmbvd0DNzMzMzGt5QDMzMzMz6HpAmpmZmZlkfEAAAAAAAOF9QGZmZmZmXX9AZmZmZuZsgECamZmZGSuBQM3MzMxM6YFAAAAAAICngkAzMzMzs2WDQGZmZmbmI4RAmpmZmRnihEDNzMzMTKCFQAAAAACAXoZAMzMzM7Mch0BmZmZm5tqHQJqZmZkZmYhAzczMzExXiUAAAAAAgBWKQDMzMzOz04pAZmZmZuaRi0CamZmZGVCMQM3MzMxMDo1AAAAAAIDMjUAzMzMzs4qOQGZmZmbmSI9A\",\"dtype\":\"float64\",\"shape\":[75]}},\"selected\":{\"id\":\"01138318-2e79-48d1-98db-7ecaffa88212\",\"type\":\"Selection\"},\"selection_policy\":{\"id\":\"8d1c9b1e-2a46-4e3a-a665-e522ada8889c\",\"type\":\"UnionRenderers\"}},\"id\":\"c6a38bcc-c1b8-4d04-94c4-dbd4b947e161\",\"type\":\"ColumnDataSource\"},{\"attributes\":{\"data_source\":{\"id\":\"ba7b59ea-4f40-4f8e-9b93-74b2f9f1eadd\",\"type\":\"ColumnDataSource\"},\"glyph\":{\"id\":\"0ffad03b-dc01-4042-9867-573fafb3175e\",\"type\":\"Line\"},\"hover_glyph\":null,\"muted_glyph\":null,\"nonselection_glyph\":{\"id\":\"79e8a6e4-749f-43db-b5c1-48f35f889b3d\",\"type\":\"Line\"},\"selection_glyph\":null,\"view\":{\"id\":\"c624fc8f-1a4d-43e6-81f2-31850f66289c\",\"type\":\"CDSView\"}},\"id\":\"207324c9-10aa-4831-a5dd-d506371420e1\",\"type\":\"GlyphRenderer\"},{\"attributes\":{\"data_source\":{\"id\":\"aeb6561c-029c-4478-a430-f1e9449aca96\",\"type\":\"ColumnDataSource\"},\"glyph\":{\"id\":\"64265891-234c-4f35-8638-301f5d614574\",\"type\":\"Line\"},\"hover_glyph\":null,\"muted_glyph\":null,\"nonselection_glyph\":{\"id\":\"3418840e-c8af-4c46-8d2d-470c1c14eec5\",\"type\":\"Line\"},\"selection_glyph\":null,\"view\":{\"id\":\"520a4791-9260-441f-aece-5f85d5c8bd23\",\"type\":\"CDSView\"}},\"id\":\"8d9787d5-cc23-4a94-b778-66fc78bc9cb2\",\"type\":\"GlyphRenderer\"},{\"attributes\":{\"data_source\":{\"id\":\"bc15c27b-bf13-4ba8-bf67-8bedbd79ca5a\",\"type\":\"ColumnDataSource\"},\"glyph\":{\"id\":\"98f835d6-d1d5-4f08-9d05-aa012b60cec8\",\"type\":\"Square\"},\"hover_glyph\":null,\"muted_glyph\":null,\"nonselection_glyph\":{\"id\":\"3ac98232-ff64-4c14-b5f7-ce0bf45c1293\",\"type\":\"Square\"},\"selection_glyph\":null,\"view\":{\"id\":\"4dee7546-194d-444a-afb1-a424f052172c\",\"type\":\"CDSView\"}},\"id\":\"844d3034-2d09-40b5-9e12-f49beb2ec5c1\",\"type\":\"GlyphRenderer\"},{\"attributes\":{\"fill_alpha\":{\"value\":0.7},\"fill_color\":{\"value\":\"#377eb8\"},\"line_alpha\":{\"value\":0.7},\"line_color\":{\"value\":\"#377eb8\"},\"x\":{\"field\":\"x\"},\"y\":{\"field\":\"y\"}},\"id\":\"76fb6523-808c-4e83-a8e0-b40d931cf0bd\",\"type\":\"Triangle\"},{\"attributes\":{\"callback\":null,\"data\":{\"x\":{\"__ndarray__\":\"GrJ/c4avn7+/5OFlz2Ofv9A3ru50wZ6/ieD8qZganr8xonPSiXGdvzJAkCZYyJy/qgmdNUonnL/G0flJ5Yibv1x41TjY8Zq/LsUOkFNnmr+2biVpbu2Zv1c179UajJm/ZHJEoPVOmb+MuJZPqguZv7DPGL2FO5a/HWryzH/Tjb9CXcoXuUlyv+cfIWzv0X4/FLQxxQgglj+3bGOi93yjP6rfkSB4Vq0/1mzbs4vCsz/Kyzzn3qu0P9wlgzkANrE/HN7w3viqqT8ju8MHJbWgP4EG3VZh0JM/Wto3ZPS9hT8EvD5PWU91P/GRdp7WP2A/ugvhJm8TIz+h2kAWzdlJvyjwA9Uc51G/Iw95Z+VbUL+uUl4ISYhRv5W6lXpeflO/iSpaQsDWU78N6cP9//RRv+id3vzY302/711zOxB8S78860ambvtJv7vv247IwUi/jZMgLsmZR7/gcIfIxHVGvwjs42AOT0W/PA1HlxojRL+hKzkuJe9CvxoFzJABs0G/hbvs/D9sQL/AFvE8FzE+v5nVxFgzcDu/X6lf/PmSOL/ew3i3k5Y1v+YDIoYNdjK/gqLHN8dXLr+K2kctFGYnv94WBleCBiC/ArnR+t9NEL+3RjBDLUrAPmm3iJOnPhI/HzTi8AL6IT+MG07SrJopP46QfagmXC4/VAuKSQDNLz/LMfj7DowvP4t7g0MaADA/cKGMM8BvMT9VOuiqKkg0P6HGBaufMzg/rDwl/tXNPD9lpazI3PBAPzIcF2Lxs0M/C2I32P63Rj/XVY2LAxFKP9p338vO5U0/\",\"dtype\":\"float64\",\"shape\":[75]},\"y\":{\"__ndarray__\":\"GhExyth1ND/Sv8nbtpRIP2vylNV0PVE/aTum7souWD/At0SJ8fVgPw3Iuahxymc/MSNhhJWvcD/bTfBN02d3P2zb5nxnaoA/CD5h5MAGhz8NmeH1TyaQP+zrCsc9p5Y/LbKd76fGnz/bLW5ISEmmPww9YvTcQq8/JV2OstnstT8Er5Y7M8G+P0c+r3jqkcU/5h99k6ZBzj88bCIzFzjVP4enV8oyxN0//yH99nXg5D8qOpLLf0jtP5kqGJXUifQ/c9cS8kHP/D+/DpwzojQEQIEmwoanVwxA4lgXt9HgE0BSSZ2AJuIbQAMJih9jjiNA5q4l5INuK0AwTKYKRj0zQNv5fmq8/DpAaCJseHrtQkB/+zpwzoxKQM3MzMzMeFJAZmZmZmZqWEAAAAAAAFxeQM3MzMzMJmJAmpmZmZkfZUBmZmZmZhhoQDMzMzMzEWtAAAAAAAAKbkBmZmZmZoFwQM3MzMzM/XFAMzMzMzN6c0CamZmZmfZ0QAAAAAAAc3ZAZmZmZmbvd0DNzMzMzGt5QDMzMzMz6HpAmpmZmZlkfEAAAAAAAOF9QGZmZmZmXX9AZmZmZuZsgECamZmZGSuBQM3MzMxM6YFAAAAAAICngkAzMzMzs2WDQGZmZmbmI4RAmpmZmRnihEDNzMzMTKCFQAAAAACAXoZAMzMzM7Mch0BmZmZm5tqHQJqZmZkZmYhAzczMzExXiUAAAAAAgBWKQDMzMzOz04pAZmZmZuaRi0CamZmZGVCMQM3MzMxMDo1AAAAAAIDMjUAzMzMzs4qOQGZmZmbmSI9A\",\"dtype\":\"float64\",\"shape\":[75]}},\"selected\":{\"id\":\"9f033424-8a53-4712-8438-4035ff55ce08\",\"type\":\"Selection\"},\"selection_policy\":{\"id\":\"495c6ff4-2149-43e2-9067-8e0d606c4d2d\",\"type\":\"UnionRenderers\"}},\"id\":\"961c3989-e46c-45fc-b054-25227be63e17\",\"type\":\"ColumnDataSource\"},{\"attributes\":{\"data_source\":{\"id\":\"961c3989-e46c-45fc-b054-25227be63e17\",\"type\":\"ColumnDataSource\"},\"glyph\":{\"id\":\"2a98d52b-8f69-4c21-91fa-1ddd6ca8409a\",\"type\":\"Line\"},\"hover_glyph\":null,\"muted_glyph\":null,\"nonselection_glyph\":{\"id\":\"2268cd4c-7839-45a1-8dc7-7fc5d751be41\",\"type\":\"Line\"},\"selection_glyph\":null,\"view\":{\"id\":\"4acaeb15-af2c-41f5-802d-15d266fd47cd\",\"type\":\"CDSView\"}},\"id\":\"9b78c652-9cc6-4a9a-b100-344e66d0c9d5\",\"type\":\"GlyphRenderer\"},{\"attributes\":{\"source\":{\"id\":\"ba7b59ea-4f40-4f8e-9b93-74b2f9f1eadd\",\"type\":\"ColumnDataSource\"}},\"id\":\"c624fc8f-1a4d-43e6-81f2-31850f66289c\",\"type\":\"CDSView\"},{\"attributes\":{\"callback\":null,\"data\":{\"x\":{\"__ndarray__\":\"DIEDKoFsiL9CCAq0IgeIvypngO9cNoe/Y031/Bpdhr8N6sARW3yFv7rCfvmrmoS/GhZ+DDi0g790Npl/GMuCv9qGCoTP5YG/StDfjCEOgb81qajHpCmAv9a362QyVX6/a9+S0iKRfL8XlUWDSlN6v6X0EV+CH3G/sUBo+1/HUj9rxatqUbiBP1q0m0HFNpI/bLoIzVp8nT9T8Ym5x3mlP1gqbUYNc60/LilOILLpsj//NQeluy20P2h013cdKLI/k5NWamAlrj/tKw/SU+SmP7NHljaWXKA/ZN+PhzARlj/G2nI98IKLP0jL2o2SnH4/HYcjS8sobD/HMA3S5ypQPzfsviHRUzO/OK0QO5KrTL+Dz+Ghec5Xv+my926jpF+/6FNkAOr+YL8UJbKqPSdfv7wP7Y+qQFq/4mgYDJ9FV780S7iP2StVv6xwCxrah1O/B1fUcrQiUr98GRi7deVQv6Y6TS2rgk+/DFTVqFVaTb80LsIUz0VLv8CS5cHePEm/gYM3JDg4R7+Cimuc+TFFv7tWJCHvJ0O/fz7RoZwWQb/zI5Pks/Y9v1ul1VX+pTm/zxytQRM1Nb+JTvZeWp4wv1D71SNPtie/BbzCsxeWG7+h6b6Fj8v7vhuWiLiegQw/3W8Ibtt8IT8BhlYAe2AqP6zXTJNvFzA/7gLvYlpDMT8+kPy66YkxP/1nCeQ/JzI/KtQm77b9Mz/asuFy30Q3PzaN7MMNqDs/wu1fVDtfQD/4gyaNGCZDP2L4bLgcIEY/mMmwUM5PST+7T/NDt8FMP2kigjFyR1A/\",\"dtype\":\"float64\",\"shape\":[75]},\"y\":{\"__ndarray__\":\"GhExyth1ND/Sv8nbtpRIP2vylNV0PVE/aTum7souWD/At0SJ8fVgPw3Iuahxymc/MSNhhJWvcD/bTfBN02d3P2zb5nxnaoA/CD5h5MAGhz8NmeH1TyaQP+zrCsc9p5Y/LbKd76fGnz/bLW5ISEmmPww9YvTcQq8/JV2OstnstT8Er5Y7M8G+P0c+r3jqkcU/5h99k6ZBzj88bCIzFzjVP4enV8oyxN0//yH99nXg5D8qOpLLf0jtP5kqGJXUifQ/c9cS8kHP/D+/DpwzojQEQIEmwoanVwxA4lgXt9HgE0BSSZ2AJuIbQAMJih9jjiNA5q4l5INuK0AwTKYKRj0zQNv5fmq8/DpAaCJseHrtQkB/+zpwzoxKQM3MzMzMeFJAZmZmZmZqWEAAAAAAAFxeQM3MzMzMJmJAmpmZmZkfZUBmZmZmZhhoQDMzMzMzEWtAAAAAAAAKbkBmZmZmZoFwQM3MzMzM/XFAMzMzMzN6c0CamZmZmfZ0QAAAAAAAc3ZAZmZmZmbvd0DNzMzMzGt5QDMzMzMz6HpAmpmZmZlkfEAAAAAAAOF9QGZmZmZmXX9AZmZmZuZsgECamZmZGSuBQM3MzMxM6YFAAAAAAICngkAzMzMzs2WDQGZmZmbmI4RAmpmZmRnihEDNzMzMTKCFQAAAAACAXoZAMzMzM7Mch0BmZmZm5tqHQJqZmZkZmYhAzczMzExXiUAAAAAAgBWKQDMzMzOz04pAZmZmZuaRi0CamZmZGVCMQM3MzMxMDo1AAAAAAIDMjUAzMzMzs4qOQGZmZmbmSI9A\",\"dtype\":\"float64\",\"shape\":[75]}},\"selected\":{\"id\":\"131b2783-a166-42f0-910b-e6c042d8050b\",\"type\":\"Selection\"},\"selection_policy\":{\"id\":\"28ec4a99-e09b-441b-a116-dd1b155f6458\",\"type\":\"UnionRenderers\"}},\"id\":\"ba7b59ea-4f40-4f8e-9b93-74b2f9f1eadd\",\"type\":\"ColumnDataSource\"},{\"attributes\":{\"line_alpha\":0.1,\"line_color\":\"#1f77b4\",\"line_width\":3,\"x\":{\"field\":\"x\"},\"y\":{\"field\":\"y\"}},\"id\":\"79e8a6e4-749f-43db-b5c1-48f35f889b3d\",\"type\":\"Line\"},{\"attributes\":{\"callback\":null,\"data\":{\"x\":{\"__ndarray__\":\"VrSXP2/CgL93psyc2WaAvyR2wW5FU3+/9FlpzIfLfb8bSX8Bljt8v3A20JaQo3q/Nd97VpYDeb/6GviDkFt3v+xomPryq3W/DH+m1w/1c7+1Oy7mgzdyv2LD5uomdHC/7FovyEVVbb9zO3WRtK5ovyFkEhJGw0u/dBMmHFvHcD/PdPOw97KGPzqltuYkGpQ/YpKAh1iznj+tnJKzfbalPy9qWta7R60/9gsEbs6isj9EeV6rtvuzP5XZCfcWS7I/m5xOcLkTrz+Sz3JzBlOoP+6p5oOv+aE/+oNlkq8JmT8nAAGWVQuQP/JSQpRVL4I/cbyr9NTXcD8/3n+xpL9TP9gPwHe28i6/H+OCGltbSr9WW77p7h5Wv78/2WBeEV6/GnVPTE5VYL/GlYnT79hdv61xl7RS3li/1j8DB//dVb/2evDEd9xTvy3z4nQ1YVK/rDx0hlEsUb89U7l1QyFQv5VE54uiXE6/WpjABFaRTL9Du7/ysNJKv0oiuMlGF0m/Cdc8+wxXR78HBCdJrotFvwslwSx6skO/RXVgFfHHQb+iVxmWnZI/v9T0NLtJZzu/ZBLto0UIN78/IdeqSXEyv/FQLjWgOyu/9Vr/wuYVIb93IOBBKOYJv9LRcd19tQE/aGaujDEYHj+MyVIROiMoP63K5DTMIy4/kNuUtAVeMD9vGNSkT88wP4tFI6RvojE/PcqOp3e7Mz81VR7+zVQ3P1SZyEgAHDw/BowVn9vSQD8BAm24UNdDP57y5UwiDUc/J9mCj9VuSj9JbrE1KP1NP9PlYPwM3VA/\",\"dtype\":\"float64\",\"shape\":[75]},\"y\":{\"__ndarray__\":\"GhExyth1ND/Sv8nbtpRIP2vylNV0PVE/aTum7souWD/At0SJ8fVgPw3Iuahxymc/MSNhhJWvcD/bTfBN02d3P2zb5nxnaoA/CD5h5MAGhz8NmeH1TyaQP+zrCsc9p5Y/LbKd76fGnz/bLW5ISEmmPww9YvTcQq8/JV2OstnstT8Er5Y7M8G+P0c+r3jqkcU/5h99k6ZBzj88bCIzFzjVP4enV8oyxN0//yH99nXg5D8qOpLLf0jtP5kqGJXUifQ/c9cS8kHP/D+/DpwzojQEQIEmwoanVwxA4lgXt9HgE0BSSZ2AJuIbQAMJih9jjiNA5q4l5INuK0AwTKYKRj0zQNv5fmq8/DpAaCJseHrtQkB/+zpwzoxKQM3MzMzMeFJAZmZmZmZqWEAAAAAAAFxeQM3MzMzMJmJAmpmZmZkfZUBmZmZmZhhoQDMzMzMzEWtAAAAAAAAKbkBmZmZmZoFwQM3MzMzM/XFAMzMzMzN6c0CamZmZmfZ0QAAAAAAAc3ZAZmZmZmbvd0DNzMzMzGt5QDMzMzMz6HpAmpmZmZlkfEAAAAAAAOF9QGZmZmZmXX9AZmZmZuZsgECamZmZGSuBQM3MzMxM6YFAAAAAAICngkAzMzMzs2WDQGZmZmbmI4RAmpmZmRnihEDNzMzMTKCFQAAAAACAXoZAMzMzM7Mch0BmZmZm5tqHQJqZmZkZmYhAzczMzExXiUAAAAAAgBWKQDMzMzOz04pAZmZmZuaRi0CamZmZGVCMQM3MzMxMDo1AAAAAAIDMjUAzMzMzs4qOQGZmZmbmSI9A\",\"dtype\":\"float64\",\"shape\":[75]}},\"selected\":{\"id\":\"8dc82fec-23bb-4790-8cd5-f64d3cd05c7b\",\"type\":\"Selection\"},\"selection_policy\":{\"id\":\"827f99ed-4aea-4f6e-8512-a71560140d08\",\"type\":\"UnionRenderers\"}},\"id\":\"aeb6561c-029c-4478-a430-f1e9449aca96\",\"type\":\"ColumnDataSource\"},{\"attributes\":{\"fill_alpha\":{\"value\":0.1},\"fill_color\":{\"value\":\"#1f77b4\"},\"line_alpha\":{\"value\":0.1},\"line_color\":{\"value\":\"#1f77b4\"},\"x\":{\"field\":\"x\"},\"y\":{\"field\":\"y\"}},\"id\":\"0c71ed2e-1d91-4f26-a085-f1a1f9ddbfc2\",\"type\":\"Triangle\"},{\"attributes\":{\"line_alpha\":0.3,\"line_color\":\"#377eb8\",\"line_width\":2,\"x\":{\"field\":\"x\"},\"y\":{\"field\":\"y\"}},\"id\":\"64265891-234c-4f35-8638-301f5d614574\",\"type\":\"Line\"},{\"attributes\":{\"fill_alpha\":{\"value\":0.7},\"fill_color\":{\"value\":\"#984ea3\"},\"line_alpha\":{\"value\":0.7},\"line_color\":{\"value\":\"#984ea3\"},\"x\":{\"field\":\"x\"},\"y\":{\"field\":\"y\"}},\"id\":\"98f835d6-d1d5-4f08-9d05-aa012b60cec8\",\"type\":\"Square\"},{\"attributes\":{\"data_source\":{\"id\":\"c6a38bcc-c1b8-4d04-94c4-dbd4b947e161\",\"type\":\"ColumnDataSource\"},\"glyph\":{\"id\":\"76fb6523-808c-4e83-a8e0-b40d931cf0bd\",\"type\":\"Triangle\"},\"hover_glyph\":null,\"muted_glyph\":null,\"nonselection_glyph\":{\"id\":\"0c71ed2e-1d91-4f26-a085-f1a1f9ddbfc2\",\"type\":\"Triangle\"},\"selection_glyph\":null,\"view\":{\"id\":\"7ee8d7ea-5797-4354-8f94-844e7a52342a\",\"type\":\"CDSView\"}},\"id\":\"d40bc7e5-0229-4851-9b78-3a99afdfa5ae\",\"type\":\"GlyphRenderer\"},{\"attributes\":{\"children\":[{\"id\":\"10c0de25-7c08-4e64-8776-8321782f1206\",\"type\":\"Row\"}]},\"id\":\"e87d9686-69fb-42b6-a9a3-b289131b99bf\",\"type\":\"Column\"},{\"attributes\":{\"line_alpha\":0.1,\"line_color\":\"#1f77b4\",\"line_width\":2,\"x\":{\"field\":\"x\"},\"y\":{\"field\":\"y\"}},\"id\":\"3418840e-c8af-4c46-8d2d-470c1c14eec5\",\"type\":\"Line\"},{\"attributes\":{\"source\":{\"id\":\"c6a38bcc-c1b8-4d04-94c4-dbd4b947e161\",\"type\":\"ColumnDataSource\"}},\"id\":\"7ee8d7ea-5797-4354-8f94-844e7a52342a\",\"type\":\"CDSView\"},{\"attributes\":{\"source\":{\"id\":\"aeb6561c-029c-4478-a430-f1e9449aca96\",\"type\":\"ColumnDataSource\"}},\"id\":\"520a4791-9260-441f-aece-5f85d5c8bd23\",\"type\":\"CDSView\"},{\"attributes\":{\"plot\":null,\"text\":\"\"},\"id\":\"a569ce21-4af0-4279-9278-41a8457f93a5\",\"type\":\"Title\"},{\"attributes\":{\"children\":[{\"id\":\"a8ffb91d-b5a1-440e-af5e-00f51cffbe30\",\"subtype\":\"Figure\",\"type\":\"Plot\"},{\"id\":\"d7ad7782-d8d4-4617-85b9-bd0d3603586b\",\"subtype\":\"Figure\",\"type\":\"Plot\"}]},\"id\":\"10c0de25-7c08-4e64-8776-8321782f1206\",\"type\":\"Row\"},{\"attributes\":{\"label\":{\"value\":\"CRD\"},\"renderers\":[{\"id\":\"e9fb0904-910e-4b5d-9cab-046c03557df6\",\"type\":\"GlyphRenderer\"},{\"id\":\"9b78c652-9cc6-4a9a-b100-344e66d0c9d5\",\"type\":\"GlyphRenderer\"}]},\"id\":\"ea104c90-2825-4156-b48a-67ed3d8558da\",\"type\":\"LegendItem\"},{\"attributes\":{\"label\":{\"value\":\"WGT igg=1\"},\"renderers\":[{\"id\":\"844d3034-2d09-40b5-9e12-f49beb2ec5c1\",\"type\":\"GlyphRenderer\"},{\"id\":\"207324c9-10aa-4831-a5dd-d506371420e1\",\"type\":\"GlyphRenderer\"}]},\"id\":\"b9ab44d3-e89c-4e37-9a2a-ceddb482ff6c\",\"type\":\"LegendItem\"}],\"root_ids\":[\"3c87ccb8-2cff-4a54-89da-e7606a87440e\"]},\"title\":\"Bokeh Application\",\"version\":\"0.12.16\"}};\n",
       "  var render_items = [{\"docid\":\"20956eab-e087-4aae-9334-0045ad48b322\",\"elementid\":\"2a8a6be3-56b1-4483-afad-c50c23365f15\",\"modelid\":\"3c87ccb8-2cff-4a54-89da-e7606a87440e\"}];\n",
       "  root.Bokeh.embed.embed_items_notebook(docs_json, render_items);\n",
       "\n",
       "  }\n",
       "  if (root.Bokeh !== undefined) {\n",
       "    embed_document(root);\n",
       "  } else {\n",
       "    var attempts = 0;\n",
       "    var timer = setInterval(function(root) {\n",
       "      if (root.Bokeh !== undefined) {\n",
       "        embed_document(root);\n",
       "        clearInterval(timer);\n",
       "      }\n",
       "      attempts++;\n",
       "      if (attempts > 100) {\n",
       "        console.log(\"Bokeh: ERROR: Unable to run BokehJS code because BokehJS library is missing\")\n",
       "        clearInterval(timer);\n",
       "      }\n",
       "    }, 10, root)\n",
       "  }\n",
       "})(window);"
      ],
      "application/vnd.bokehjs_exec.v0+json": ""
     },
     "metadata": {
      "application/vnd.bokehjs_exec.v0+json": {
       "id": "3c87ccb8-2cff-4a54-89da-e7606a87440e"
      }
     },
     "output_type": "display_data"
    },
    {
     "data": {
      "text/markdown": [
       "*FIGURE.* Cooling rates. g=1"
      ],
      "text/plain": [
       "<IPython.core.display.Markdown object>"
      ]
     },
     "metadata": {},
     "output_type": "display_data"
    },
    {
     "data": {
      "text/html": [
       "\n",
       "<div class=\"bk-root\">\n",
       "    <div class=\"bk-plotdiv\" id=\"469475b5-27c9-4714-bbcb-c133f523d755\"></div>\n",
       "</div>"
      ]
     },
     "metadata": {},
     "output_type": "display_data"
    },
    {
     "data": {
      "application/javascript": [
       "(function(root) {\n",
       "  function embed_document(root) {\n",
       "    \n",
       "  var docs_json = {\"a64db4db-8682-4b7b-9f9b-3b984320b2f1\":{\"roots\":{\"references\":[{\"attributes\":{\"num_minor_ticks\":10},\"id\":\"37ae5c4b-e189-4c18-a510-0a448f98a278\",\"type\":\"LogTicker\"},{\"attributes\":{\"data_source\":{\"id\":\"0b0ad4a1-e3f0-4cc3-bb98-82d50e53cdf3\",\"type\":\"ColumnDataSource\"},\"glyph\":{\"id\":\"020c4ccc-04aa-440c-8f6a-9a21c154cf2e\",\"type\":\"Circle\"},\"hover_glyph\":null,\"muted_glyph\":null,\"nonselection_glyph\":{\"id\":\"b232f9d6-df26-4148-8641-cbb8af855c3f\",\"type\":\"Circle\"},\"selection_glyph\":null,\"view\":{\"id\":\"42283755-50bf-4c15-a1c9-c1804f888600\",\"type\":\"CDSView\"}},\"id\":\"ee7e5c41-8a2c-4a68-9b99-1f58c85ac240\",\"type\":\"GlyphRenderer\"},{\"attributes\":{\"axis_label\":\"pressure [mb]\",\"formatter\":{\"id\":\"38370fd4-b232-4c60-9c32-4038f7c8cb64\",\"type\":\"LogTickFormatter\"},\"plot\":{\"id\":\"3341ae1b-436d-475d-bba5-4757558c6be3\",\"subtype\":\"Figure\",\"type\":\"Plot\"},\"ticker\":{\"id\":\"37ae5c4b-e189-4c18-a510-0a448f98a278\",\"type\":\"LogTicker\"}},\"id\":\"5be5377a-b321-402b-a0f6-2ba39579f331\",\"type\":\"LogAxis\"},{\"attributes\":{\"dimension\":1,\"plot\":{\"id\":\"3341ae1b-436d-475d-bba5-4757558c6be3\",\"subtype\":\"Figure\",\"type\":\"Plot\"},\"ticker\":{\"id\":\"37ae5c4b-e189-4c18-a510-0a448f98a278\",\"type\":\"LogTicker\"}},\"id\":\"d7379219-c619-401b-8873-e8aa75caeb83\",\"type\":\"Grid\"},{\"attributes\":{\"bottom_units\":\"screen\",\"fill_alpha\":{\"value\":0.5},\"fill_color\":{\"value\":\"lightgrey\"},\"left_units\":\"screen\",\"level\":\"overlay\",\"line_alpha\":{\"value\":1.0},\"line_color\":{\"value\":\"black\"},\"line_dash\":[4,4],\"line_width\":{\"value\":2},\"plot\":null,\"render_mode\":\"css\",\"right_units\":\"screen\",\"top_units\":\"screen\"},\"id\":\"037cdaa2-3af9-4204-9842-da327d6a40f9\",\"type\":\"BoxAnnotation\"},{\"attributes\":{},\"id\":\"6156bb7d-26c7-4068-9e7e-3a3c4c9a42d4\",\"type\":\"HelpTool\"},{\"attributes\":{\"callback\":null,\"data\":{\"x\":{\"__ndarray__\":\"R7y5gDlAFb8j9YbzQdgUvw53N/Kg9hO/zFLJbl0JE79UPbWxfBMSv5EeAhUQFRG/v5dqiCQOEL/k8yYsJP0Nv01hnQjPzAu/mk7S266KCb/EHK57oDUHv/aTgxxZywS/HTWhwm5FAr/WhlIQv4j9vkOj8ahJ1qs+GaV6I29tFD/95yY2CoUrP0idz/dcuzo/jtx0axH+Rj/VwOBouJlSP/PyT8OLC10/Ig7c+EiHZT/VlKTvFWRqP9kaOgu1hWs/q14uhe9Uaz8iwK+yMvFpP3Kro9AZZGg/D45FW13jZj/baRxHex5lP4iDX4bhjGI/wXLBJt3gXD/Tyd8RRKhPP9KkoF8PhS2/N/3xUK8qX78BjipzTSJyv7fJ0IyYrX6/slLOgajug78DGf8TY2aFvwAOpAJczYS/6vVD/cn3g7+gRv65mAGDv6sauz4X+IG/4EhRxPHegL8m8Lr+ZX5/vyJtolinOH2/6iyxdVvwer+F0TBcpKd4v9ChHcqoX3a/jvjLb9wXdL/5ORhK2s9xv35eEXXIEW+/+u1V7viEar+rvWBcV/hlv4PoRwZramG/NDMmCTGzWb8QthTjh4lQv6iDZn0/VT2/ab7nRk2nHj/3eau2a15GPztq48g+YVQ/Rpypa0g3XT83zy0FP4liPxRmfI2UlWU/uM1Ig2qqZz8OavXMCDNpP2qNPCWrz2o/aYaL1vX2bD9KU2erl8pvPxQXAFm6kXE/tE2nvcxlcz8P3Qpm7k91P4Tda+IPSHc/6XRYlQhKeT/uuCImYVV7P+ClL99Van0/\",\"dtype\":\"float64\",\"shape\":[75]},\"y\":{\"__ndarray__\":\"GhExyth1ND/Sv8nbtpRIP2vylNV0PVE/aTum7souWD/At0SJ8fVgPw3Iuahxymc/MSNhhJWvcD/bTfBN02d3P2zb5nxnaoA/CD5h5MAGhz8NmeH1TyaQP+zrCsc9p5Y/LbKd76fGnz/bLW5ISEmmPww9YvTcQq8/JV2OstnstT8Er5Y7M8G+P0c+r3jqkcU/5h99k6ZBzj88bCIzFzjVP4enV8oyxN0//yH99nXg5D8qOpLLf0jtP5kqGJXUifQ/c9cS8kHP/D+/DpwzojQEQIEmwoanVwxA4lgXt9HgE0BSSZ2AJuIbQAMJih9jjiNA5q4l5INuK0AwTKYKRj0zQNv5fmq8/DpAaCJseHrtQkB/+zpwzoxKQM3MzMzMeFJAZmZmZmZqWEAAAAAAAFxeQM3MzMzMJmJAmpmZmZkfZUBmZmZmZhhoQDMzMzMzEWtAAAAAAAAKbkBmZmZmZoFwQM3MzMzM/XFAMzMzMzN6c0CamZmZmfZ0QAAAAAAAc3ZAZmZmZmbvd0DNzMzMzGt5QDMzMzMz6HpAmpmZmZlkfEAAAAAAAOF9QGZmZmZmXX9AZmZmZuZsgECamZmZGSuBQM3MzMxM6YFAAAAAAICngkAzMzMzs2WDQGZmZmbmI4RAmpmZmRnihEDNzMzMTKCFQAAAAACAXoZAMzMzM7Mch0BmZmZm5tqHQJqZmZkZmYhAzczMzExXiUAAAAAAgBWKQDMzMzOz04pAZmZmZuaRi0CamZmZGVCMQM3MzMxMDo1AAAAAAIDMjUAzMzMzs4qOQGZmZmbmSI9A\",\"dtype\":\"float64\",\"shape\":[75]}},\"selected\":{\"id\":\"cab3465f-2bb7-4f1f-af9d-ec6029485679\",\"type\":\"Selection\"},\"selection_policy\":{\"id\":\"1b377b9a-6688-4b4b-8b40-60ac94791920\",\"type\":\"UnionRenderers\"}},\"id\":\"13c8ecea-906d-42a0-8c77-52dc9a83ad12\",\"type\":\"ColumnDataSource\"},{\"attributes\":{\"data_source\":{\"id\":\"1c7f6916-f3ec-45a5-8e67-7f508a1e100d\",\"type\":\"ColumnDataSource\"},\"glyph\":{\"id\":\"a3d14cb2-e22c-4209-8e14-5c8b8e6dbb5a\",\"type\":\"Triangle\"},\"hover_glyph\":null,\"muted_glyph\":null,\"nonselection_glyph\":{\"id\":\"ed5adedd-6695-4040-b836-5b3449c23e9f\",\"type\":\"Triangle\"},\"selection_glyph\":null,\"view\":{\"id\":\"eb2bfec4-6ea1-4c9c-9f61-bbc04c84f972\",\"type\":\"CDSView\"}},\"id\":\"7bb002d4-7dc3-4eee-97f2-8ec49c31b1fd\",\"type\":\"GlyphRenderer\"},{\"attributes\":{\"fill_alpha\":{\"value\":0.7},\"fill_color\":{\"value\":\"#984ea3\"},\"line_alpha\":{\"value\":0.7},\"line_color\":{\"value\":\"#984ea3\"},\"x\":{\"field\":\"x\"},\"y\":{\"field\":\"y\"}},\"id\":\"e62234db-4373-4552-87a3-46682ac26524\",\"type\":\"Square\"},{\"attributes\":{\"source\":{\"id\":\"1c7f6916-f3ec-45a5-8e67-7f508a1e100d\",\"type\":\"ColumnDataSource\"}},\"id\":\"eb2bfec4-6ea1-4c9c-9f61-bbc04c84f972\",\"type\":\"CDSView\"},{\"attributes\":{\"line_alpha\":0.3,\"line_color\":\"#377eb8\",\"line_width\":2,\"x\":{\"field\":\"x\"},\"y\":{\"field\":\"y\"}},\"id\":\"98810523-f663-449a-a5d4-abb9ae21d7a0\",\"type\":\"Line\"},{\"attributes\":{\"children\":[{\"id\":\"df504e7e-3f43-412a-934c-d413e29b8f12\",\"type\":\"Row\"}]},\"id\":\"a2dd5216-7a01-44a1-9e53-a67e762036a9\",\"type\":\"Column\"},{\"attributes\":{\"callback\":null,\"end\":0.01,\"start\":1020},\"id\":\"025fda5e-b50f-4697-9c7d-b08e5b6ceab8\",\"type\":\"Range1d\"},{\"attributes\":{\"line_alpha\":0.1,\"line_color\":\"#1f77b4\",\"line_width\":2,\"x\":{\"field\":\"x\"},\"y\":{\"field\":\"y\"}},\"id\":\"4836ec29-161a-4db4-8146-8e4ebe85fafa\",\"type\":\"Line\"},{\"attributes\":{\"data_source\":{\"id\":\"13c8ecea-906d-42a0-8c77-52dc9a83ad12\",\"type\":\"ColumnDataSource\"},\"glyph\":{\"id\":\"98810523-f663-449a-a5d4-abb9ae21d7a0\",\"type\":\"Line\"},\"hover_glyph\":null,\"muted_glyph\":null,\"nonselection_glyph\":{\"id\":\"4836ec29-161a-4db4-8146-8e4ebe85fafa\",\"type\":\"Line\"},\"selection_glyph\":null,\"view\":{\"id\":\"2c732201-8696-475f-85b5-e9eb4ce98d76\",\"type\":\"CDSView\"}},\"id\":\"495b41cc-ae22-4500-bd32-6e0030a0595c\",\"type\":\"GlyphRenderer\"},{\"attributes\":{\"source\":{\"id\":\"13c8ecea-906d-42a0-8c77-52dc9a83ad12\",\"type\":\"ColumnDataSource\"}},\"id\":\"2c732201-8696-475f-85b5-e9eb4ce98d76\",\"type\":\"CDSView\"},{\"attributes\":{\"plot\":null,\"text\":\"\"},\"id\":\"d5715668-b7fe-4700-ae7d-48a07a7c7275\",\"type\":\"Title\"},{\"attributes\":{\"line_alpha\":0.1,\"line_color\":\"#1f77b4\",\"line_width\":3,\"x\":{\"field\":\"x\"},\"y\":{\"field\":\"y\"}},\"id\":\"9a1e590a-e8a3-4ff6-9521-3e19ed3faa70\",\"type\":\"Line\"},{\"attributes\":{\"children\":[{\"id\":\"e6962cfc-de2f-47bd-bb8a-35e53ecea5f0\",\"subtype\":\"Figure\",\"type\":\"Plot\"},{\"id\":\"3341ae1b-436d-475d-bba5-4757558c6be3\",\"subtype\":\"Figure\",\"type\":\"Plot\"}]},\"id\":\"df504e7e-3f43-412a-934c-d413e29b8f12\",\"type\":\"Row\"},{\"attributes\":{},\"id\":\"3c16f504-1497-4155-bb39-2fe3cfce7369\",\"type\":\"UnionRenderers\"},{\"attributes\":{\"data_source\":{\"id\":\"45497a07-ef7e-4fed-a0dd-149c2f015a58\",\"type\":\"ColumnDataSource\"},\"glyph\":{\"id\":\"4ef0f273-f8a9-4c03-a05e-d063f6c78c64\",\"type\":\"Line\"},\"hover_glyph\":null,\"muted_glyph\":null,\"nonselection_glyph\":{\"id\":\"9a1e590a-e8a3-4ff6-9521-3e19ed3faa70\",\"type\":\"Line\"},\"selection_glyph\":null,\"view\":{\"id\":\"034ad5c8-4724-4a6f-b1fb-a7272dd5994a\",\"type\":\"CDSView\"}},\"id\":\"c79d2364-99c2-4eef-b51f-482428cfbe23\",\"type\":\"GlyphRenderer\"},{\"attributes\":{\"label\":{\"value\":\"CRD\"},\"renderers\":[{\"id\":\"df9da3dc-58de-4fd2-8175-091ac326094c\",\"type\":\"GlyphRenderer\"},{\"id\":\"237b1b63-c19e-483b-b8db-f9070c71bea2\",\"type\":\"GlyphRenderer\"}]},\"id\":\"33da3322-f469-4abb-bba4-d2bb2c759381\",\"type\":\"LegendItem\"},{\"attributes\":{},\"id\":\"943e3499-de3d-4e54-b1c9-ceaaf136076b\",\"type\":\"UnionRenderers\"},{\"attributes\":{\"source\":{\"id\":\"45497a07-ef7e-4fed-a0dd-149c2f015a58\",\"type\":\"ColumnDataSource\"}},\"id\":\"034ad5c8-4724-4a6f-b1fb-a7272dd5994a\",\"type\":\"CDSView\"},{\"attributes\":{\"label\":{\"value\":\"WGT igg=1\"},\"renderers\":[{\"id\":\"d907601a-3e1d-41b2-b66c-00f738348001\",\"type\":\"GlyphRenderer\"},{\"id\":\"80d8cd14-6aa4-4ccd-b964-470f4678f64b\",\"type\":\"GlyphRenderer\"}]},\"id\":\"1dd53d9f-05d4-4e83-a09c-497f28bc8d62\",\"type\":\"LegendItem\"},{\"attributes\":{\"callback\":null,\"end\":0.007357794315,\"start\":-0.010625500815000001},\"id\":\"ad0753f3-87b5-47b7-a4c9-d024d29526e1\",\"type\":\"Range1d\"},{\"attributes\":{},\"id\":\"cb0eb5b5-7362-4e57-8ccb-4f0a7fc3bdfd\",\"type\":\"Selection\"},{\"attributes\":{\"label\":{\"value\":\"WGT igg=10\"},\"renderers\":[{\"id\":\"7bb002d4-7dc3-4eee-97f2-8ec49c31b1fd\",\"type\":\"GlyphRenderer\"},{\"id\":\"495b41cc-ae22-4500-bd32-6e0030a0595c\",\"type\":\"GlyphRenderer\"}]},\"id\":\"40082ecc-6f53-4072-9864-01f1cf841da4\",\"type\":\"LegendItem\"},{\"attributes\":{\"data_source\":{\"id\":\"a80bf558-1b6e-449b-bbac-270855964cdb\",\"type\":\"ColumnDataSource\"},\"glyph\":{\"id\":\"e62234db-4373-4552-87a3-46682ac26524\",\"type\":\"Square\"},\"hover_glyph\":null,\"muted_glyph\":null,\"nonselection_glyph\":{\"id\":\"2c6836cd-1c69-44b0-8349-523babb276bd\",\"type\":\"Square\"},\"selection_glyph\":null,\"view\":{\"id\":\"029dbb62-87f5-4111-a8ea-ff0b5bdf7f80\",\"type\":\"CDSView\"}},\"id\":\"18f98e9d-d360-4452-8a1c-f2c7b2ec65b8\",\"type\":\"GlyphRenderer\"},{\"attributes\":{},\"id\":\"53a20746-dc5f-440b-8b5e-e2bc7cad2998\",\"type\":\"Selection\"},{\"attributes\":{\"dimension\":1,\"plot\":{\"id\":\"e6962cfc-de2f-47bd-bb8a-35e53ecea5f0\",\"subtype\":\"Figure\",\"type\":\"Plot\"},\"ticker\":{\"id\":\"03735a0b-0c33-4697-bad6-e8be92e67af8\",\"type\":\"BasicTicker\"}},\"id\":\"56bf6e34-ce3f-4d8b-8c8b-a82237b447bf\",\"type\":\"Grid\"},{\"attributes\":{},\"id\":\"f53f671f-0d96-4679-9a76-6d6843993812\",\"type\":\"BasicTickFormatter\"},{\"attributes\":{\"callback\":null,\"data\":{\"x\":{\"__ndarray__\":\"R7y5gDlAFb8j9YbzQdgUvw53N/Kg9hO/zFLJbl0JE79UPbWxfBMSv5EeAhUQFRG/v5dqiCQOEL/k8yYsJP0Nv01hnQjPzAu/mk7S266KCb/EHK57oDUHv/aTgxxZywS/HTWhwm5FAr/WhlIQv4j9vkOj8ahJ1qs+GaV6I29tFD/95yY2CoUrP0idz/dcuzo/jtx0axH+Rj/VwOBouJlSP/PyT8OLC10/Ig7c+EiHZT/VlKTvFWRqP9kaOgu1hWs/q14uhe9Uaz8iwK+yMvFpP3Kro9AZZGg/D45FW13jZj/baRxHex5lP4iDX4bhjGI/wXLBJt3gXD/Tyd8RRKhPP9KkoF8PhS2/N/3xUK8qX78BjipzTSJyv7fJ0IyYrX6/slLOgajug78DGf8TY2aFvwAOpAJczYS/6vVD/cn3g7+gRv65mAGDv6sauz4X+IG/4EhRxPHegL8m8Lr+ZX5/vyJtolinOH2/6iyxdVvwer+F0TBcpKd4v9ChHcqoX3a/jvjLb9wXdL/5ORhK2s9xv35eEXXIEW+/+u1V7viEar+rvWBcV/hlv4PoRwZramG/NDMmCTGzWb8QthTjh4lQv6iDZn0/VT2/ab7nRk2nHj/3eau2a15GPztq48g+YVQ/Rpypa0g3XT83zy0FP4liPxRmfI2UlWU/uM1Ig2qqZz8OavXMCDNpP2qNPCWrz2o/aYaL1vX2bD9KU2erl8pvPxQXAFm6kXE/tE2nvcxlcz8P3Qpm7k91P4Tda+IPSHc/6XRYlQhKeT/uuCImYVV7P+ClL99Van0/\",\"dtype\":\"float64\",\"shape\":[75]},\"y\":{\"__ndarray__\":\"GhExyth1ND/Sv8nbtpRIP2vylNV0PVE/aTum7souWD/At0SJ8fVgPw3Iuahxymc/MSNhhJWvcD/bTfBN02d3P2zb5nxnaoA/CD5h5MAGhz8NmeH1TyaQP+zrCsc9p5Y/LbKd76fGnz/bLW5ISEmmPww9YvTcQq8/JV2OstnstT8Er5Y7M8G+P0c+r3jqkcU/5h99k6ZBzj88bCIzFzjVP4enV8oyxN0//yH99nXg5D8qOpLLf0jtP5kqGJXUifQ/c9cS8kHP/D+/DpwzojQEQIEmwoanVwxA4lgXt9HgE0BSSZ2AJuIbQAMJih9jjiNA5q4l5INuK0AwTKYKRj0zQNv5fmq8/DpAaCJseHrtQkB/+zpwzoxKQM3MzMzMeFJAZmZmZmZqWEAAAAAAAFxeQM3MzMzMJmJAmpmZmZkfZUBmZmZmZhhoQDMzMzMzEWtAAAAAAAAKbkBmZmZmZoFwQM3MzMzM/XFAMzMzMzN6c0CamZmZmfZ0QAAAAAAAc3ZAZmZmZmbvd0DNzMzMzGt5QDMzMzMz6HpAmpmZmZlkfEAAAAAAAOF9QGZmZmZmXX9AZmZmZuZsgECamZmZGSuBQM3MzMxM6YFAAAAAAICngkAzMzMzs2WDQGZmZmbmI4RAmpmZmRnihEDNzMzMTKCFQAAAAACAXoZAMzMzM7Mch0BmZmZm5tqHQJqZmZkZmYhAzczMzExXiUAAAAAAgBWKQDMzMzOz04pAZmZmZuaRi0CamZmZGVCMQM3MzMxMDo1AAAAAAIDMjUAzMzMzs4qOQGZmZmbmSI9A\",\"dtype\":\"float64\",\"shape\":[75]}},\"selected\":{\"id\":\"53a20746-dc5f-440b-8b5e-e2bc7cad2998\",\"type\":\"Selection\"},\"selection_policy\":{\"id\":\"943e3499-de3d-4e54-b1c9-ceaaf136076b\",\"type\":\"UnionRenderers\"}},\"id\":\"774fab2f-0a83-4ba6-b2fe-170ea54f38eb\",\"type\":\"ColumnDataSource\"},{\"attributes\":{},\"id\":\"6c01e035-f2b0-4ffc-b4a0-795cf76c43d4\",\"type\":\"BasicTickFormatter\"},{\"attributes\":{},\"id\":\"343ccfd0-40f6-4c50-b475-7a142a26a2e2\",\"type\":\"BasicTickFormatter\"},{\"attributes\":{},\"id\":\"37f56b90-3c57-4421-963a-1670fd8e0213\",\"type\":\"UnionRenderers\"},{\"attributes\":{\"plot\":null,\"text\":\"\"},\"id\":\"b2e07d80-553c-4e40-b9bd-b2365a4914b8\",\"type\":\"Title\"},{\"attributes\":{},\"id\":\"19654ad9-d79b-45fd-bbf4-7545d0088bfd\",\"type\":\"Selection\"},{\"attributes\":{\"ticker\":null},\"id\":\"38370fd4-b232-4c60-9c32-4038f7c8cb64\",\"type\":\"LogTickFormatter\"},{\"attributes\":{\"source\":{\"id\":\"a80bf558-1b6e-449b-bbac-270855964cdb\",\"type\":\"ColumnDataSource\"}},\"id\":\"029dbb62-87f5-4111-a8ea-ff0b5bdf7f80\",\"type\":\"CDSView\"},{\"attributes\":{},\"id\":\"9af32bd5-e64e-4d6e-aa1b-e915a5556ab7\",\"type\":\"UnionRenderers\"},{\"attributes\":{},\"id\":\"6cd1e2a0-aec1-49da-965e-70c2ccf58ec8\",\"type\":\"Selection\"},{\"attributes\":{\"callback\":null,\"data\":{\"x\":{\"__ndarray__\":\"1SvLfKm0Eb+7eZBxvS4Rv+D94BgpEBC/0SB+4EHFDb8IOk1/dlMLvy+QItpxygi/LtE55WwpBr9WOomfym4Dvy8OdicPmQC/cD9gtKhK+770v5/fyR71vkiCB5grQ+2+Nb1HCwTn3r7RuRX5Tfm8Pir/ouMwRAQ/kQDxl2+tIT8A9sCTYIgzP9HM6faJu0E/bXov4/R/TT+iYvnCxmZXP8sngvSoCmI/1/YmKZiIaj8cQK+fjTpwPzCsI86Y93A/unJfjuPucD/g3mraGzVwP8NACGbb2W4//wsOc6VFbT8NZKXhjpJrPzfYgDGn92g/afUY4Je+ZD/0Urp+/axbP++1ZX9MEDs/T6lNfj12Vr98cs2TnY1wv6/CSJhykX2/2eq+2IVjg79VIMxQiamEv9o1dIeazoO/zyqVqovYgr9Fk4kwhdSBvwnWRuq1yIC/I45HOTBqf78xF/XoDUB9vzkyxjjcFnu/5EvnjVPweL+MF7BAUs12v655oT4arnS/ykW9ZzKRcr8EKmY8BnZwvy+8tmESumy/t+2bvSOKaL9fYTkxSFtkv1yBl0u5KmC/8Ijq6wnrV7833oj2VeZOvyEEuns3ozu/Lmk3uRacGz/B2frW9eJEP/I2euqNKVM/gMqkisqUWz9oMVfTLIFhP8a/r8+sRWQ/ZaAhiQb8ZT+1936q1xtnP0UWwSwhWWg/OrJ6mJk4aj8/RaJQDt9sP2AmR0/DD3A/3Nj0cB7fcT/nDrZmmMtzP/2H0YOkznU/ZSoJ+FHndz/OMBCooBl6P0TmUf/Obnw/\",\"dtype\":\"float64\",\"shape\":[75]},\"y\":{\"__ndarray__\":\"GhExyth1ND/Sv8nbtpRIP2vylNV0PVE/aTum7souWD/At0SJ8fVgPw3Iuahxymc/MSNhhJWvcD/bTfBN02d3P2zb5nxnaoA/CD5h5MAGhz8NmeH1TyaQP+zrCsc9p5Y/LbKd76fGnz/bLW5ISEmmPww9YvTcQq8/JV2OstnstT8Er5Y7M8G+P0c+r3jqkcU/5h99k6ZBzj88bCIzFzjVP4enV8oyxN0//yH99nXg5D8qOpLLf0jtP5kqGJXUifQ/c9cS8kHP/D+/DpwzojQEQIEmwoanVwxA4lgXt9HgE0BSSZ2AJuIbQAMJih9jjiNA5q4l5INuK0AwTKYKRj0zQNv5fmq8/DpAaCJseHrtQkB/+zpwzoxKQM3MzMzMeFJAZmZmZmZqWEAAAAAAAFxeQM3MzMzMJmJAmpmZmZkfZUBmZmZmZhhoQDMzMzMzEWtAAAAAAAAKbkBmZmZmZoFwQM3MzMzM/XFAMzMzMzN6c0CamZmZmfZ0QAAAAAAAc3ZAZmZmZmbvd0DNzMzMzGt5QDMzMzMz6HpAmpmZmZlkfEAAAAAAAOF9QGZmZmZmXX9AZmZmZuZsgECamZmZGSuBQM3MzMxM6YFAAAAAAICngkAzMzMzs2WDQGZmZmbmI4RAmpmZmRnihEDNzMzMTKCFQAAAAACAXoZAMzMzM7Mch0BmZmZm5tqHQJqZmZkZmYhAzczMzExXiUAAAAAAgBWKQDMzMzOz04pAZmZmZuaRi0CamZmZGVCMQM3MzMxMDo1AAAAAAIDMjUAzMzMzs4qOQGZmZmbmSI9A\",\"dtype\":\"float64\",\"shape\":[75]}},\"selected\":{\"id\":\"6804b2b8-b191-47b9-8c8c-006aca5feab7\",\"type\":\"Selection\"},\"selection_policy\":{\"id\":\"3c16f504-1497-4155-bb39-2fe3cfce7369\",\"type\":\"UnionRenderers\"}},\"id\":\"a80bf558-1b6e-449b-bbac-270855964cdb\",\"type\":\"ColumnDataSource\"},{\"attributes\":{},\"id\":\"25b33b41-c57f-4911-ba42-06f5d0794a20\",\"type\":\"UnionRenderers\"},{\"attributes\":{\"data_source\":{\"id\":\"1310120b-decb-4b86-b0de-e40745380ea2\",\"type\":\"ColumnDataSource\"},\"glyph\":{\"id\":\"beae33e9-a257-4c5a-bbae-d11ff661c411\",\"type\":\"Line\"},\"hover_glyph\":null,\"muted_glyph\":null,\"nonselection_glyph\":{\"id\":\"d0c2443d-d0cc-48c2-8e48-b8c737f3b4e3\",\"type\":\"Line\"},\"selection_glyph\":null,\"view\":{\"id\":\"5b9b1357-5d66-4451-8436-92ec49bd616b\",\"type\":\"CDSView\"}},\"id\":\"721b1876-f8dc-4c82-8635-827176ca7576\",\"type\":\"GlyphRenderer\"},{\"attributes\":{},\"id\":\"13a841f8-d89d-4504-92fc-06dc261ff71c\",\"type\":\"UnionRenderers\"},{\"attributes\":{\"data_source\":{\"id\":\"774fab2f-0a83-4ba6-b2fe-170ea54f38eb\",\"type\":\"ColumnDataSource\"},\"glyph\":{\"id\":\"131edb2c-d98a-48b8-a39e-bc7e351caba5\",\"type\":\"Triangle\"},\"hover_glyph\":null,\"muted_glyph\":null,\"nonselection_glyph\":{\"id\":\"fa846d48-df51-41b9-9450-3b89a86e98ab\",\"type\":\"Triangle\"},\"selection_glyph\":null,\"view\":{\"id\":\"24c8f599-23d6-4df9-9cae-533627ecce15\",\"type\":\"CDSView\"}},\"id\":\"10015b7c-9fec-4909-8296-7eea61dad9c4\",\"type\":\"GlyphRenderer\"},{\"attributes\":{\"source\":{\"id\":\"1310120b-decb-4b86-b0de-e40745380ea2\",\"type\":\"ColumnDataSource\"}},\"id\":\"5b9b1357-5d66-4451-8436-92ec49bd616b\",\"type\":\"CDSView\"},{\"attributes\":{},\"id\":\"4552bdf0-99e2-4a07-974a-c0b17ad7349b\",\"type\":\"UnionRenderers\"},{\"attributes\":{\"data_source\":{\"id\":\"84b542a5-d32d-4757-a960-8f0543c0a389\",\"type\":\"ColumnDataSource\"},\"glyph\":{\"id\":\"ce73e87a-6e67-40a6-a524-7ad8c6a2b2f9\",\"type\":\"Line\"},\"hover_glyph\":null,\"muted_glyph\":null,\"nonselection_glyph\":{\"id\":\"fa9ce339-a8a7-4ec9-888c-1ff3bb00b937\",\"type\":\"Line\"},\"selection_glyph\":null,\"view\":{\"id\":\"4acfa67d-c6bf-489b-8011-5b5d9b19711f\",\"type\":\"CDSView\"}},\"id\":\"74276654-8fa3-4864-8744-c8d6acadd73e\",\"type\":\"GlyphRenderer\"},{\"attributes\":{},\"id\":\"2040525d-19f3-4c40-93c1-97fd50301d0f\",\"type\":\"Selection\"},{\"attributes\":{\"line_alpha\":0.1,\"line_color\":\"#1f77b4\",\"line_width\":1.5,\"x\":{\"field\":\"x\"},\"y\":{\"field\":\"y\"}},\"id\":\"fa9ce339-a8a7-4ec9-888c-1ff3bb00b937\",\"type\":\"Line\"},{\"attributes\":{},\"id\":\"beb62a04-f1ef-473e-a196-9a77ae4c29bd\",\"type\":\"Selection\"},{\"attributes\":{},\"id\":\"55e2cc8e-c05a-456f-b661-04fc030036ad\",\"type\":\"UnionRenderers\"},{\"attributes\":{},\"id\":\"05d4517b-1420-470f-a08d-3360dbe65ae7\",\"type\":\"Selection\"},{\"attributes\":{},\"id\":\"d010e28f-f9ba-41ab-a157-5fce8e762006\",\"type\":\"UnionRenderers\"},{\"attributes\":{\"source\":{\"id\":\"774fab2f-0a83-4ba6-b2fe-170ea54f38eb\",\"type\":\"ColumnDataSource\"}},\"id\":\"24c8f599-23d6-4df9-9cae-533627ecce15\",\"type\":\"CDSView\"},{\"attributes\":{},\"id\":\"4704b80a-cb7d-49e9-bbea-f299ff65b4ea\",\"type\":\"Selection\"},{\"attributes\":{\"tools\":[{\"id\":\"8977afa5-ba2e-446d-ae4a-ffad706c0fb0\",\"type\":\"PanTool\"},{\"id\":\"4eb68181-aa13-44af-8497-215319506a9b\",\"type\":\"WheelZoomTool\"},{\"id\":\"3ad1ed78-6292-49a9-8bbf-613ba5d55e2a\",\"type\":\"BoxZoomTool\"},{\"id\":\"76b30a22-35db-4120-ad8f-ada02dba1d58\",\"type\":\"SaveTool\"},{\"id\":\"042893dc-c9a6-4a7d-a0e2-3a720f0582c5\",\"type\":\"ResetTool\"},{\"id\":\"6156bb7d-26c7-4068-9e7e-3a3c4c9a42d4\",\"type\":\"HelpTool\"},{\"id\":\"6f934f73-3e3f-425c-9966-9c6b1f508578\",\"type\":\"PanTool\"},{\"id\":\"e5891e3f-c4e7-4a76-93ed-784ed21994ce\",\"type\":\"WheelZoomTool\"},{\"id\":\"726d9e61-f29f-4dd9-84d4-4502546cd2c8\",\"type\":\"BoxZoomTool\"},{\"id\":\"b4d10339-44c7-43a6-aa13-7d930250e30f\",\"type\":\"SaveTool\"},{\"id\":\"5ea98c03-95d1-4c4c-9cd0-e5cfd15e0282\",\"type\":\"ResetTool\"},{\"id\":\"f29fafb1-506d-4b08-af42-0763a13ec108\",\"type\":\"HelpTool\"}]},\"id\":\"1e2b4ae5-4c24-4e77-8ed6-8c943cb84ca6\",\"type\":\"ProxyToolbar\"},{\"attributes\":{\"toolbar\":{\"id\":\"1e2b4ae5-4c24-4e77-8ed6-8c943cb84ca6\",\"type\":\"ProxyToolbar\"},\"toolbar_location\":\"above\"},\"id\":\"372ca255-13a1-439c-9cdb-ffe897472845\",\"type\":\"ToolbarBox\"},{\"attributes\":{\"source\":{\"id\":\"84b542a5-d32d-4757-a960-8f0543c0a389\",\"type\":\"ColumnDataSource\"}},\"id\":\"4acfa67d-c6bf-489b-8011-5b5d9b19711f\",\"type\":\"CDSView\"},{\"attributes\":{},\"id\":\"1b377b9a-6688-4b4b-8b40-60ac94791920\",\"type\":\"UnionRenderers\"},{\"attributes\":{\"fill_alpha\":{\"value\":0.7},\"fill_color\":{\"value\":\"#377eb8\"},\"line_alpha\":{\"value\":0.7},\"line_color\":{\"value\":\"#377eb8\"},\"x\":{\"field\":\"x\"},\"y\":{\"field\":\"y\"}},\"id\":\"131edb2c-d98a-48b8-a39e-bc7e351caba5\",\"type\":\"Triangle\"},{\"attributes\":{},\"id\":\"cab3465f-2bb7-4f1f-af9d-ec6029485679\",\"type\":\"Selection\"},{\"attributes\":{\"children\":[{\"id\":\"372ca255-13a1-439c-9cdb-ffe897472845\",\"type\":\"ToolbarBox\"},{\"id\":\"a2dd5216-7a01-44a1-9e53-a67e762036a9\",\"type\":\"Column\"}]},\"id\":\"03b9e316-126d-4176-8107-0a70a26bba17\",\"type\":\"Column\"},{\"attributes\":{\"callback\":null,\"data\":{\"x\":{\"__ndarray__\":\"1SvLfKm0Eb+7eZBxvS4Rv+D94BgpEBC/0SB+4EHFDb8IOk1/dlMLvy+QItpxygi/LtE55WwpBr9WOomfym4Dvy8OdicPmQC/cD9gtKhK+770v5/fyR71vkiCB5grQ+2+Nb1HCwTn3r7RuRX5Tfm8Pir/ouMwRAQ/kQDxl2+tIT8A9sCTYIgzP9HM6faJu0E/bXov4/R/TT+iYvnCxmZXP8sngvSoCmI/1/YmKZiIaj8cQK+fjTpwPzCsI86Y93A/unJfjuPucD/g3mraGzVwP8NACGbb2W4//wsOc6VFbT8NZKXhjpJrPzfYgDGn92g/afUY4Je+ZD/0Urp+/axbP++1ZX9MEDs/T6lNfj12Vr98cs2TnY1wv6/CSJhykX2/2eq+2IVjg79VIMxQiamEv9o1dIeazoO/zyqVqovYgr9Fk4kwhdSBvwnWRuq1yIC/I45HOTBqf78xF/XoDUB9vzkyxjjcFnu/5EvnjVPweL+MF7BAUs12v655oT4arnS/ykW9ZzKRcr8EKmY8BnZwvy+8tmESumy/t+2bvSOKaL9fYTkxSFtkv1yBl0u5KmC/8Ijq6wnrV7833oj2VeZOvyEEuns3ozu/Lmk3uRacGz/B2frW9eJEP/I2euqNKVM/gMqkisqUWz9oMVfTLIFhP8a/r8+sRWQ/ZaAhiQb8ZT+1936q1xtnP0UWwSwhWWg/OrJ6mJk4aj8/RaJQDt9sP2AmR0/DD3A/3Nj0cB7fcT/nDrZmmMtzP/2H0YOkznU/ZSoJ+FHndz/OMBCooBl6P0TmUf/Obnw/\",\"dtype\":\"float64\",\"shape\":[75]},\"y\":{\"__ndarray__\":\"GhExyth1ND/Sv8nbtpRIP2vylNV0PVE/aTum7souWD/At0SJ8fVgPw3Iuahxymc/MSNhhJWvcD/bTfBN02d3P2zb5nxnaoA/CD5h5MAGhz8NmeH1TyaQP+zrCsc9p5Y/LbKd76fGnz/bLW5ISEmmPww9YvTcQq8/JV2OstnstT8Er5Y7M8G+P0c+r3jqkcU/5h99k6ZBzj88bCIzFzjVP4enV8oyxN0//yH99nXg5D8qOpLLf0jtP5kqGJXUifQ/c9cS8kHP/D+/DpwzojQEQIEmwoanVwxA4lgXt9HgE0BSSZ2AJuIbQAMJih9jjiNA5q4l5INuK0AwTKYKRj0zQNv5fmq8/DpAaCJseHrtQkB/+zpwzoxKQM3MzMzMeFJAZmZmZmZqWEAAAAAAAFxeQM3MzMzMJmJAmpmZmZkfZUBmZmZmZhhoQDMzMzMzEWtAAAAAAAAKbkBmZmZmZoFwQM3MzMzM/XFAMzMzMzN6c0CamZmZmfZ0QAAAAAAAc3ZAZmZmZmbvd0DNzMzMzGt5QDMzMzMz6HpAmpmZmZlkfEAAAAAAAOF9QGZmZmZmXX9AZmZmZuZsgECamZmZGSuBQM3MzMxM6YFAAAAAAICngkAzMzMzs2WDQGZmZmbmI4RAmpmZmRnihEDNzMzMTKCFQAAAAACAXoZAMzMzM7Mch0BmZmZm5tqHQJqZmZkZmYhAzczMzExXiUAAAAAAgBWKQDMzMzOz04pAZmZmZuaRi0CamZmZGVCMQM3MzMxMDo1AAAAAAIDMjUAzMzMzs4qOQGZmZmbmSI9A\",\"dtype\":\"float64\",\"shape\":[75]}},\"selected\":{\"id\":\"cb0eb5b5-7362-4e57-8ccb-4f0a7fc3bdfd\",\"type\":\"Selection\"},\"selection_policy\":{\"id\":\"9af32bd5-e64e-4d6e-aa1b-e915a5556ab7\",\"type\":\"UnionRenderers\"}},\"id\":\"45497a07-ef7e-4fed-a0dd-149c2f015a58\",\"type\":\"ColumnDataSource\"},{\"attributes\":{},\"id\":\"274915cb-398d-4aee-aded-31d3f3cb670d\",\"type\":\"LinearScale\"},{\"attributes\":{\"line_alpha\":0.1,\"line_color\":\"#1f77b4\",\"line_width\":2,\"x\":{\"field\":\"x\"},\"y\":{\"field\":\"y\"}},\"id\":\"d0c2443d-d0cc-48c2-8e48-b8c737f3b4e3\",\"type\":\"Line\"},{\"attributes\":{\"fill_alpha\":{\"value\":0.1},\"fill_color\":{\"value\":\"#1f77b4\"},\"line_alpha\":{\"value\":0.1},\"line_color\":{\"value\":\"#1f77b4\"},\"x\":{\"field\":\"x\"},\"y\":{\"field\":\"y\"}},\"id\":\"2c6836cd-1c69-44b0-8349-523babb276bd\",\"type\":\"Square\"},{\"attributes\":{\"line_color\":\"#4daf4a\",\"line_width\":1.5,\"x\":{\"field\":\"x\"},\"y\":{\"field\":\"y\"}},\"id\":\"ce73e87a-6e67-40a6-a524-7ad8c6a2b2f9\",\"type\":\"Line\"},{\"attributes\":{\"above\":[{\"id\":\"eab7cad3-94bf-411d-a7ab-356ac5640b3b\",\"type\":\"Legend\"}],\"below\":[{\"id\":\"3e3c34c4-ade0-450f-9549-1f599be1ab56\",\"type\":\"LinearAxis\"}],\"left\":[{\"id\":\"5be5377a-b321-402b-a0f6-2ba39579f331\",\"type\":\"LogAxis\"}],\"plot_height\":500,\"plot_width\":400,\"renderers\":[{\"id\":\"3e3c34c4-ade0-450f-9549-1f599be1ab56\",\"type\":\"LinearAxis\"},{\"id\":\"edffeebf-a99d-46a6-992d-7fbe40f1e12c\",\"type\":\"Grid\"},{\"id\":\"5be5377a-b321-402b-a0f6-2ba39579f331\",\"type\":\"LogAxis\"},{\"id\":\"d7379219-c619-401b-8873-e8aa75caeb83\",\"type\":\"Grid\"},{\"id\":\"50b5fc34-861e-4420-8fdd-45c045b9d7d9\",\"type\":\"BoxAnnotation\"},{\"id\":\"df9da3dc-58de-4fd2-8175-091ac326094c\",\"type\":\"GlyphRenderer\"},{\"id\":\"237b1b63-c19e-483b-b8db-f9070c71bea2\",\"type\":\"GlyphRenderer\"},{\"id\":\"d907601a-3e1d-41b2-b66c-00f738348001\",\"type\":\"GlyphRenderer\"},{\"id\":\"80d8cd14-6aa4-4ccd-b964-470f4678f64b\",\"type\":\"GlyphRenderer\"},{\"id\":\"7bb002d4-7dc3-4eee-97f2-8ec49c31b1fd\",\"type\":\"GlyphRenderer\"},{\"id\":\"495b41cc-ae22-4500-bd32-6e0030a0595c\",\"type\":\"GlyphRenderer\"},{\"id\":\"eab7cad3-94bf-411d-a7ab-356ac5640b3b\",\"type\":\"Legend\"}],\"title\":{\"id\":\"b2e07d80-553c-4e40-b9bd-b2365a4914b8\",\"type\":\"Title\"},\"toolbar\":{\"id\":\"e9500d50-36ab-40a2-a681-ac6c868dd28d\",\"type\":\"Toolbar\"},\"toolbar_location\":null,\"x_range\":{\"id\":\"9546112d-325c-4cca-93a4-8262f39bc3ec\",\"type\":\"Range1d\"},\"x_scale\":{\"id\":\"e2cf245d-c9ec-47b6-a5af-9f1cb037c515\",\"type\":\"LinearScale\"},\"y_range\":{\"id\":\"025fda5e-b50f-4697-9c7d-b08e5b6ceab8\",\"type\":\"Range1d\"},\"y_scale\":{\"id\":\"b4934097-d395-4c3c-a8f5-d5e821678e1f\",\"type\":\"LogScale\"}},\"id\":\"3341ae1b-436d-475d-bba5-4757558c6be3\",\"subtype\":\"Figure\",\"type\":\"Plot\"},{\"attributes\":{\"line_alpha\":0.3,\"line_color\":\"#377eb8\",\"line_width\":2,\"x\":{\"field\":\"x\"},\"y\":{\"field\":\"y\"}},\"id\":\"beae33e9-a257-4c5a-bbae-d11ff661c411\",\"type\":\"Line\"},{\"attributes\":{\"active_drag\":\"auto\",\"active_inspect\":\"auto\",\"active_scroll\":\"auto\",\"active_tap\":\"auto\",\"tools\":[{\"id\":\"8977afa5-ba2e-446d-ae4a-ffad706c0fb0\",\"type\":\"PanTool\"},{\"id\":\"4eb68181-aa13-44af-8497-215319506a9b\",\"type\":\"WheelZoomTool\"},{\"id\":\"3ad1ed78-6292-49a9-8bbf-613ba5d55e2a\",\"type\":\"BoxZoomTool\"},{\"id\":\"76b30a22-35db-4120-ad8f-ada02dba1d58\",\"type\":\"SaveTool\"},{\"id\":\"042893dc-c9a6-4a7d-a0e2-3a720f0582c5\",\"type\":\"ResetTool\"},{\"id\":\"6156bb7d-26c7-4068-9e7e-3a3c4c9a42d4\",\"type\":\"HelpTool\"}]},\"id\":\"87c26def-8ab7-4bad-aa8f-c8f40a9b9915\",\"type\":\"Toolbar\"},{\"attributes\":{\"callback\":null,\"data\":{\"x\":{\"__ndarray__\":\"cxXij7n1SL/lYgsoEv1Iv93zIZfn7Ei/TS0VmtHRSL9JIUE42qtIv/fw3x8ajUi/C+v/K/trSL+wiI0WJkhIvwFofPgoIUi/lkC3npb2R78NPJ+hmMdHvywt9PY6k0e/M6MksNNXR79MtisPfQNHv5xMwt37vkW/y1z/dFAtQr/eTM+Jjew2v/bjYZB0efW+/DgeclwoQD9KR7VfqfRUP3GtELz8M2Q/mqLroNy/cD85YwNmmHN1P5YAz4kDwHY/9e7WFVYadz9eOhKZxcV2P0rwRmKiunY//LEiSd0Fdz9a0QBEnDN3P40bmIvhsnY/WGSi5r7sdD8mCv1oyX5xP35x1zknKWk/0HGpmn02Wz9ICb+/3Bw9v74JsfbYlmi/pMjc6OPic79pB5S4C6d1v8j5Mv/OkHO/7z1AHa1vcr/3LsLxjJ9xv9YjDAAn7XC/2PllFjs/cL90jL21WR5vv3ozhe5UsG2/hI1rO+YubL/hxJKdd5Zqv7IerPuW5Gi/1vRhPNEVZ7/EX2+4kSZlvzSnMI5IFmO/RRd9Sc/iYL9Mxt2SrxNdv6+SIkHXD1i/JRqOsviwUr9xqsLl09tJv52x3WxU6Dq/YbN/7VwOvL4KGYCGiMg8P3d9jI07wU0/R0sNSBWZVj8fvybQSEldPyKABTxqvWA/pfuDSfRgYT9UWP1WEUNhP9I3t/KjdGE/TQtmZV67Yj/cwuFv9UhlP96zInGl02g/eZGpPOoBbT+cdpb4WtJwP+EjJ3p1WnM/GAxU3DYgdj95uID7sTV5P73W9tYGvnw/\",\"dtype\":\"float64\",\"shape\":[75]},\"y\":{\"__ndarray__\":\"GhExyth1ND/Sv8nbtpRIP2vylNV0PVE/aTum7souWD/At0SJ8fVgPw3Iuahxymc/MSNhhJWvcD/bTfBN02d3P2zb5nxnaoA/CD5h5MAGhz8NmeH1TyaQP+zrCsc9p5Y/LbKd76fGnz/bLW5ISEmmPww9YvTcQq8/JV2OstnstT8Er5Y7M8G+P0c+r3jqkcU/5h99k6ZBzj88bCIzFzjVP4enV8oyxN0//yH99nXg5D8qOpLLf0jtP5kqGJXUifQ/c9cS8kHP/D+/DpwzojQEQIEmwoanVwxA4lgXt9HgE0BSSZ2AJuIbQAMJih9jjiNA5q4l5INuK0AwTKYKRj0zQNv5fmq8/DpAaCJseHrtQkB/+zpwzoxKQM3MzMzMeFJAZmZmZmZqWEAAAAAAAFxeQM3MzMzMJmJAmpmZmZkfZUBmZmZmZhhoQDMzMzMzEWtAAAAAAAAKbkBmZmZmZoFwQM3MzMzM/XFAMzMzMzN6c0CamZmZmfZ0QAAAAAAAc3ZAZmZmZmbvd0DNzMzMzGt5QDMzMzMz6HpAmpmZmZlkfEAAAAAAAOF9QGZmZmZmXX9AZmZmZuZsgECamZmZGSuBQM3MzMxM6YFAAAAAAICngkAzMzMzs2WDQGZmZmbmI4RAmpmZmRnihEDNzMzMTKCFQAAAAACAXoZAMzMzM7Mch0BmZmZm5tqHQJqZmZkZmYhAzczMzExXiUAAAAAAgBWKQDMzMzOz04pAZmZmZuaRi0CamZmZGVCMQM3MzMxMDo1AAAAAAIDMjUAzMzMzs4qOQGZmZmbmSI9A\",\"dtype\":\"float64\",\"shape\":[75]}},\"selected\":{\"id\":\"442dd534-0a97-480e-97f5-965210f5bb35\",\"type\":\"Selection\"},\"selection_policy\":{\"id\":\"9b9679b5-2aba-4117-8054-155684c874fe\",\"type\":\"UnionRenderers\"}},\"id\":\"84b542a5-d32d-4757-a960-8f0543c0a389\",\"type\":\"ColumnDataSource\"},{\"attributes\":{\"callback\":null,\"data\":{\"x\":{\"__ndarray__\":\"R7y5gDlAFb8j9YbzQdgUvw53N/Kg9hO/zFLJbl0JE79UPbWxfBMSv5EeAhUQFRG/v5dqiCQOEL/k8yYsJP0Nv01hnQjPzAu/mk7S266KCb/EHK57oDUHv/aTgxxZywS/HTWhwm5FAr/WhlIQv4j9vkOj8ahJ1qs+GaV6I29tFD/95yY2CoUrP0idz/dcuzo/jtx0axH+Rj/VwOBouJlSP/PyT8OLC10/Ig7c+EiHZT/VlKTvFWRqP9kaOgu1hWs/q14uhe9Uaz8iwK+yMvFpP3Kro9AZZGg/D45FW13jZj/baRxHex5lP4iDX4bhjGI/wXLBJt3gXD/Tyd8RRKhPP9KkoF8PhS2/N/3xUK8qX78BjipzTSJyv7fJ0IyYrX6/slLOgajug78DGf8TY2aFvwAOpAJczYS/6vVD/cn3g7+gRv65mAGDv6sauz4X+IG/4EhRxPHegL8m8Lr+ZX5/vyJtolinOH2/6iyxdVvwer+F0TBcpKd4v9ChHcqoX3a/jvjLb9wXdL/5ORhK2s9xv35eEXXIEW+/+u1V7viEar+rvWBcV/hlv4PoRwZramG/NDMmCTGzWb8QthTjh4lQv6iDZn0/VT2/ab7nRk2nHj/3eau2a15GPztq48g+YVQ/Rpypa0g3XT83zy0FP4liPxRmfI2UlWU/uM1Ig2qqZz8OavXMCDNpP2qNPCWrz2o/aYaL1vX2bD9KU2erl8pvPxQXAFm6kXE/tE2nvcxlcz8P3Qpm7k91P4Tda+IPSHc/6XRYlQhKeT/uuCImYVV7P+ClL99Van0/\",\"dtype\":\"float64\",\"shape\":[75]},\"y\":{\"__ndarray__\":\"GhExyth1ND/Sv8nbtpRIP2vylNV0PVE/aTum7souWD/At0SJ8fVgPw3Iuahxymc/MSNhhJWvcD/bTfBN02d3P2zb5nxnaoA/CD5h5MAGhz8NmeH1TyaQP+zrCsc9p5Y/LbKd76fGnz/bLW5ISEmmPww9YvTcQq8/JV2OstnstT8Er5Y7M8G+P0c+r3jqkcU/5h99k6ZBzj88bCIzFzjVP4enV8oyxN0//yH99nXg5D8qOpLLf0jtP5kqGJXUifQ/c9cS8kHP/D+/DpwzojQEQIEmwoanVwxA4lgXt9HgE0BSSZ2AJuIbQAMJih9jjiNA5q4l5INuK0AwTKYKRj0zQNv5fmq8/DpAaCJseHrtQkB/+zpwzoxKQM3MzMzMeFJAZmZmZmZqWEAAAAAAAFxeQM3MzMzMJmJAmpmZmZkfZUBmZmZmZhhoQDMzMzMzEWtAAAAAAAAKbkBmZmZmZoFwQM3MzMzM/XFAMzMzMzN6c0CamZmZmfZ0QAAAAAAAc3ZAZmZmZmbvd0DNzMzMzGt5QDMzMzMz6HpAmpmZmZlkfEAAAAAAAOF9QGZmZmZmXX9AZmZmZuZsgECamZmZGSuBQM3MzMxM6YFAAAAAAICngkAzMzMzs2WDQGZmZmbmI4RAmpmZmRnihEDNzMzMTKCFQAAAAACAXoZAMzMzM7Mch0BmZmZm5tqHQJqZmZkZmYhAzczMzExXiUAAAAAAgBWKQDMzMzOz04pAZmZmZuaRi0CamZmZGVCMQM3MzMxMDo1AAAAAAIDMjUAzMzMzs4qOQGZmZmbmSI9A\",\"dtype\":\"float64\",\"shape\":[75]}},\"selected\":{\"id\":\"19654ad9-d79b-45fd-bbf4-7545d0088bfd\",\"type\":\"Selection\"},\"selection_policy\":{\"id\":\"37f56b90-3c57-4421-963a-1670fd8e0213\",\"type\":\"UnionRenderers\"}},\"id\":\"1310120b-decb-4b86-b0de-e40745380ea2\",\"type\":\"ColumnDataSource\"},{\"attributes\":{\"fill_alpha\":{\"value\":0.1},\"fill_color\":{\"value\":\"#1f77b4\"},\"line_alpha\":{\"value\":0.1},\"line_color\":{\"value\":\"#1f77b4\"},\"x\":{\"field\":\"x\"},\"y\":{\"field\":\"y\"}},\"id\":\"fa846d48-df51-41b9-9450-3b89a86e98ab\",\"type\":\"Triangle\"},{\"attributes\":{\"items\":[{\"id\":\"82d2cd79-c02a-4771-ac9c-ad9d968e952f\",\"type\":\"LegendItem\"},{\"id\":\"5f668d41-b30f-44de-9454-5e87fe7bc9fd\",\"type\":\"LegendItem\"},{\"id\":\"287177b3-9717-4e6e-89a7-731c1769e8a4\",\"type\":\"LegendItem\"}],\"label_text_font_size\":{\"value\":\"8pt\"},\"location\":\"top_center\",\"orientation\":\"horizontal\",\"plot\":{\"id\":\"e6962cfc-de2f-47bd-bb8a-35e53ecea5f0\",\"subtype\":\"Figure\",\"type\":\"Plot\"}},\"id\":\"55b110d0-af60-4906-8540-99e3f4cabcaf\",\"type\":\"Legend\"},{\"attributes\":{\"line_alpha\":0.6,\"line_color\":\"#984ea3\",\"line_width\":3,\"x\":{\"field\":\"x\"},\"y\":{\"field\":\"y\"}},\"id\":\"4ef0f273-f8a9-4c03-a05e-d063f6c78c64\",\"type\":\"Line\"},{\"attributes\":{\"active_drag\":\"auto\",\"active_inspect\":\"auto\",\"active_scroll\":\"auto\",\"active_tap\":\"auto\",\"tools\":[{\"id\":\"6f934f73-3e3f-425c-9966-9c6b1f508578\",\"type\":\"PanTool\"},{\"id\":\"e5891e3f-c4e7-4a76-93ed-784ed21994ce\",\"type\":\"WheelZoomTool\"},{\"id\":\"726d9e61-f29f-4dd9-84d4-4502546cd2c8\",\"type\":\"BoxZoomTool\"},{\"id\":\"b4d10339-44c7-43a6-aa13-7d930250e30f\",\"type\":\"SaveTool\"},{\"id\":\"5ea98c03-95d1-4c4c-9cd0-e5cfd15e0282\",\"type\":\"ResetTool\"},{\"id\":\"f29fafb1-506d-4b08-af42-0763a13ec108\",\"type\":\"HelpTool\"}]},\"id\":\"e9500d50-36ab-40a2-a681-ac6c868dd28d\",\"type\":\"Toolbar\"},{\"attributes\":{\"label\":{\"value\":\"CRD\"},\"renderers\":[{\"id\":\"ee7e5c41-8a2c-4a68-9b99-1f58c85ac240\",\"type\":\"GlyphRenderer\"},{\"id\":\"74276654-8fa3-4864-8744-c8d6acadd73e\",\"type\":\"GlyphRenderer\"}]},\"id\":\"82d2cd79-c02a-4771-ac9c-ad9d968e952f\",\"type\":\"LegendItem\"},{\"attributes\":{\"above\":[{\"id\":\"55b110d0-af60-4906-8540-99e3f4cabcaf\",\"type\":\"Legend\"}],\"below\":[{\"id\":\"6644c6e4-1769-406f-a325-978cf4d4f7bd\",\"type\":\"LinearAxis\"}],\"left\":[{\"id\":\"a47570fc-9dfa-4943-a199-c4aca14211f4\",\"type\":\"LinearAxis\"}],\"plot_height\":500,\"plot_width\":400,\"renderers\":[{\"id\":\"6644c6e4-1769-406f-a325-978cf4d4f7bd\",\"type\":\"LinearAxis\"},{\"id\":\"9acef9ed-5e66-4489-941b-8c2936f9b923\",\"type\":\"Grid\"},{\"id\":\"a47570fc-9dfa-4943-a199-c4aca14211f4\",\"type\":\"LinearAxis\"},{\"id\":\"56bf6e34-ce3f-4d8b-8c8b-a82237b447bf\",\"type\":\"Grid\"},{\"id\":\"037cdaa2-3af9-4204-9842-da327d6a40f9\",\"type\":\"BoxAnnotation\"},{\"id\":\"ee7e5c41-8a2c-4a68-9b99-1f58c85ac240\",\"type\":\"GlyphRenderer\"},{\"id\":\"74276654-8fa3-4864-8744-c8d6acadd73e\",\"type\":\"GlyphRenderer\"},{\"id\":\"18f98e9d-d360-4452-8a1c-f2c7b2ec65b8\",\"type\":\"GlyphRenderer\"},{\"id\":\"c79d2364-99c2-4eef-b51f-482428cfbe23\",\"type\":\"GlyphRenderer\"},{\"id\":\"10015b7c-9fec-4909-8296-7eea61dad9c4\",\"type\":\"GlyphRenderer\"},{\"id\":\"721b1876-f8dc-4c82-8635-827176ca7576\",\"type\":\"GlyphRenderer\"},{\"id\":\"55b110d0-af60-4906-8540-99e3f4cabcaf\",\"type\":\"Legend\"}],\"title\":{\"id\":\"d5715668-b7fe-4700-ae7d-48a07a7c7275\",\"type\":\"Title\"},\"toolbar\":{\"id\":\"87c26def-8ab7-4bad-aa8f-c8f40a9b9915\",\"type\":\"Toolbar\"},\"toolbar_location\":null,\"x_range\":{\"id\":\"ad0753f3-87b5-47b7-a4c9-d024d29526e1\",\"type\":\"Range1d\"},\"x_scale\":{\"id\":\"274915cb-398d-4aee-aded-31d3f3cb670d\",\"type\":\"LinearScale\"},\"y_range\":{\"id\":\"ac3d204b-9fd2-4823-85e2-162ed372e42e\",\"type\":\"Range1d\"},\"y_scale\":{\"id\":\"f1234343-6da4-463d-ae24-58871cb0726e\",\"type\":\"LinearScale\"}},\"id\":\"e6962cfc-de2f-47bd-bb8a-35e53ecea5f0\",\"subtype\":\"Figure\",\"type\":\"Plot\"},{\"attributes\":{\"label\":{\"value\":\"WGT igg=1\"},\"renderers\":[{\"id\":\"18f98e9d-d360-4452-8a1c-f2c7b2ec65b8\",\"type\":\"GlyphRenderer\"},{\"id\":\"c79d2364-99c2-4eef-b51f-482428cfbe23\",\"type\":\"GlyphRenderer\"}]},\"id\":\"5f668d41-b30f-44de-9454-5e87fe7bc9fd\",\"type\":\"LegendItem\"},{\"attributes\":{\"axis_label\":\"pressure [mb]\",\"formatter\":{\"id\":\"6c01e035-f2b0-4ffc-b4a0-795cf76c43d4\",\"type\":\"BasicTickFormatter\"},\"plot\":{\"id\":\"e6962cfc-de2f-47bd-bb8a-35e53ecea5f0\",\"subtype\":\"Figure\",\"type\":\"Plot\"},\"ticker\":{\"id\":\"03735a0b-0c33-4697-bad6-e8be92e67af8\",\"type\":\"BasicTicker\"}},\"id\":\"a47570fc-9dfa-4943-a199-c4aca14211f4\",\"type\":\"LinearAxis\"},{\"attributes\":{\"label\":{\"value\":\"WGT igg=10\"},\"renderers\":[{\"id\":\"10015b7c-9fec-4909-8296-7eea61dad9c4\",\"type\":\"GlyphRenderer\"},{\"id\":\"721b1876-f8dc-4c82-8635-827176ca7576\",\"type\":\"GlyphRenderer\"}]},\"id\":\"287177b3-9717-4e6e-89a7-731c1769e8a4\",\"type\":\"LegendItem\"},{\"attributes\":{},\"id\":\"6f934f73-3e3f-425c-9966-9c6b1f508578\",\"type\":\"PanTool\"},{\"attributes\":{},\"id\":\"03735a0b-0c33-4697-bad6-e8be92e67af8\",\"type\":\"BasicTicker\"},{\"attributes\":{\"items\":[{\"id\":\"33da3322-f469-4abb-bba4-d2bb2c759381\",\"type\":\"LegendItem\"},{\"id\":\"1dd53d9f-05d4-4e83-a09c-497f28bc8d62\",\"type\":\"LegendItem\"},{\"id\":\"40082ecc-6f53-4072-9864-01f1cf841da4\",\"type\":\"LegendItem\"}],\"label_text_font_size\":{\"value\":\"8pt\"},\"location\":\"top_center\",\"orientation\":\"horizontal\",\"plot\":{\"id\":\"3341ae1b-436d-475d-bba5-4757558c6be3\",\"subtype\":\"Figure\",\"type\":\"Plot\"}},\"id\":\"eab7cad3-94bf-411d-a7ab-356ac5640b3b\",\"type\":\"Legend\"},{\"attributes\":{},\"id\":\"8710a955-8411-4694-82c1-1a44886fb299\",\"type\":\"BasicTicker\"},{\"attributes\":{},\"id\":\"6804b2b8-b191-47b9-8c8c-006aca5feab7\",\"type\":\"Selection\"},{\"attributes\":{\"bottom_units\":\"screen\",\"fill_alpha\":{\"value\":0.5},\"fill_color\":{\"value\":\"lightgrey\"},\"left_units\":\"screen\",\"level\":\"overlay\",\"line_alpha\":{\"value\":1.0},\"line_color\":{\"value\":\"black\"},\"line_dash\":[4,4],\"line_width\":{\"value\":2},\"plot\":null,\"render_mode\":\"css\",\"right_units\":\"screen\",\"top_units\":\"screen\"},\"id\":\"50b5fc34-861e-4420-8fdd-45c045b9d7d9\",\"type\":\"BoxAnnotation\"},{\"attributes\":{},\"id\":\"e5891e3f-c4e7-4a76-93ed-784ed21994ce\",\"type\":\"WheelZoomTool\"},{\"attributes\":{\"overlay\":{\"id\":\"50b5fc34-861e-4420-8fdd-45c045b9d7d9\",\"type\":\"BoxAnnotation\"}},\"id\":\"726d9e61-f29f-4dd9-84d4-4502546cd2c8\",\"type\":\"BoxZoomTool\"},{\"attributes\":{},\"id\":\"f1234343-6da4-463d-ae24-58871cb0726e\",\"type\":\"LinearScale\"},{\"attributes\":{},\"id\":\"b4d10339-44c7-43a6-aa13-7d930250e30f\",\"type\":\"SaveTool\"},{\"attributes\":{},\"id\":\"5ea98c03-95d1-4c4c-9cd0-e5cfd15e0282\",\"type\":\"ResetTool\"},{\"attributes\":{\"plot\":{\"id\":\"e6962cfc-de2f-47bd-bb8a-35e53ecea5f0\",\"subtype\":\"Figure\",\"type\":\"Plot\"},\"ticker\":{\"id\":\"8710a955-8411-4694-82c1-1a44886fb299\",\"type\":\"BasicTicker\"}},\"id\":\"9acef9ed-5e66-4489-941b-8c2936f9b923\",\"type\":\"Grid\"},{\"attributes\":{},\"id\":\"f29fafb1-506d-4b08-af42-0763a13ec108\",\"type\":\"HelpTool\"},{\"attributes\":{},\"id\":\"442dd534-0a97-480e-97f5-965210f5bb35\",\"type\":\"Selection\"},{\"attributes\":{\"axis_label\":\"cooling rate [K/day]\",\"formatter\":{\"id\":\"f53f671f-0d96-4679-9a76-6d6843993812\",\"type\":\"BasicTickFormatter\"},\"plot\":{\"id\":\"e6962cfc-de2f-47bd-bb8a-35e53ecea5f0\",\"subtype\":\"Figure\",\"type\":\"Plot\"},\"ticker\":{\"id\":\"8710a955-8411-4694-82c1-1a44886fb299\",\"type\":\"BasicTicker\"}},\"id\":\"6644c6e4-1769-406f-a325-978cf4d4f7bd\",\"type\":\"LinearAxis\"},{\"attributes\":{\"callback\":null,\"data\":{\"x\":{\"__ndarray__\":\"cxXij7n1SL/lYgsoEv1Iv93zIZfn7Ei/TS0VmtHRSL9JIUE42qtIv/fw3x8ajUi/C+v/K/trSL+wiI0WJkhIvwFofPgoIUi/lkC3npb2R78NPJ+hmMdHvywt9PY6k0e/M6MksNNXR79MtisPfQNHv5xMwt37vkW/y1z/dFAtQr/eTM+Jjew2v/bjYZB0efW+/DgeclwoQD9KR7VfqfRUP3GtELz8M2Q/mqLroNy/cD85YwNmmHN1P5YAz4kDwHY/9e7WFVYadz9eOhKZxcV2P0rwRmKiunY//LEiSd0Fdz9a0QBEnDN3P40bmIvhsnY/WGSi5r7sdD8mCv1oyX5xP35x1zknKWk/0HGpmn02Wz9ICb+/3Bw9v74JsfbYlmi/pMjc6OPic79pB5S4C6d1v8j5Mv/OkHO/7z1AHa1vcr/3LsLxjJ9xv9YjDAAn7XC/2PllFjs/cL90jL21WR5vv3ozhe5UsG2/hI1rO+YubL/hxJKdd5Zqv7IerPuW5Gi/1vRhPNEVZ7/EX2+4kSZlvzSnMI5IFmO/RRd9Sc/iYL9Mxt2SrxNdv6+SIkHXD1i/JRqOsviwUr9xqsLl09tJv52x3WxU6Dq/YbN/7VwOvL4KGYCGiMg8P3d9jI07wU0/R0sNSBWZVj8fvybQSEldPyKABTxqvWA/pfuDSfRgYT9UWP1WEUNhP9I3t/KjdGE/TQtmZV67Yj/cwuFv9UhlP96zInGl02g/eZGpPOoBbT+cdpb4WtJwP+EjJ3p1WnM/GAxU3DYgdj95uID7sTV5P73W9tYGvnw/\",\"dtype\":\"float64\",\"shape\":[75]},\"y\":{\"__ndarray__\":\"GhExyth1ND/Sv8nbtpRIP2vylNV0PVE/aTum7souWD/At0SJ8fVgPw3Iuahxymc/MSNhhJWvcD/bTfBN02d3P2zb5nxnaoA/CD5h5MAGhz8NmeH1TyaQP+zrCsc9p5Y/LbKd76fGnz/bLW5ISEmmPww9YvTcQq8/JV2OstnstT8Er5Y7M8G+P0c+r3jqkcU/5h99k6ZBzj88bCIzFzjVP4enV8oyxN0//yH99nXg5D8qOpLLf0jtP5kqGJXUifQ/c9cS8kHP/D+/DpwzojQEQIEmwoanVwxA4lgXt9HgE0BSSZ2AJuIbQAMJih9jjiNA5q4l5INuK0AwTKYKRj0zQNv5fmq8/DpAaCJseHrtQkB/+zpwzoxKQM3MzMzMeFJAZmZmZmZqWEAAAAAAAFxeQM3MzMzMJmJAmpmZmZkfZUBmZmZmZhhoQDMzMzMzEWtAAAAAAAAKbkBmZmZmZoFwQM3MzMzM/XFAMzMzMzN6c0CamZmZmfZ0QAAAAAAAc3ZAZmZmZmbvd0DNzMzMzGt5QDMzMzMz6HpAmpmZmZlkfEAAAAAAAOF9QGZmZmZmXX9AZmZmZuZsgECamZmZGSuBQM3MzMxM6YFAAAAAAICngkAzMzMzs2WDQGZmZmbmI4RAmpmZmRnihEDNzMzMTKCFQAAAAACAXoZAMzMzM7Mch0BmZmZm5tqHQJqZmZkZmYhAzczMzExXiUAAAAAAgBWKQDMzMzOz04pAZmZmZuaRi0CamZmZGVCMQM3MzMxMDo1AAAAAAIDMjUAzMzMzs4qOQGZmZmbmSI9A\",\"dtype\":\"float64\",\"shape\":[75]}},\"selected\":{\"id\":\"6cd1e2a0-aec1-49da-965e-70c2ccf58ec8\",\"type\":\"Selection\"},\"selection_policy\":{\"id\":\"13a841f8-d89d-4504-92fc-06dc261ff71c\",\"type\":\"UnionRenderers\"}},\"id\":\"4ecdbf79-35c5-4786-b0e1-c4d7ef5e1216\",\"type\":\"ColumnDataSource\"},{\"attributes\":{\"overlay\":{\"id\":\"037cdaa2-3af9-4204-9842-da327d6a40f9\",\"type\":\"BoxAnnotation\"}},\"id\":\"3ad1ed78-6292-49a9-8bbf-613ba5d55e2a\",\"type\":\"BoxZoomTool\"},{\"attributes\":{},\"id\":\"e2cf245d-c9ec-47b6-a5af-9f1cb037c515\",\"type\":\"LinearScale\"},{\"attributes\":{},\"id\":\"86e1338c-c79f-4bfa-8adc-d4e58253b75d\",\"type\":\"Selection\"},{\"attributes\":{},\"id\":\"4eb68181-aa13-44af-8497-215319506a9b\",\"type\":\"WheelZoomTool\"},{\"attributes\":{},\"id\":\"042893dc-c9a6-4a7d-a0e2-3a720f0582c5\",\"type\":\"ResetTool\"},{\"attributes\":{},\"id\":\"8977afa5-ba2e-446d-ae4a-ffad706c0fb0\",\"type\":\"PanTool\"},{\"attributes\":{},\"id\":\"76b30a22-35db-4120-ad8f-ada02dba1d58\",\"type\":\"SaveTool\"},{\"attributes\":{\"axis_label\":\"cooling rate [K/day]\",\"formatter\":{\"id\":\"343ccfd0-40f6-4c50-b475-7a142a26a2e2\",\"type\":\"BasicTickFormatter\"},\"plot\":{\"id\":\"3341ae1b-436d-475d-bba5-4757558c6be3\",\"subtype\":\"Figure\",\"type\":\"Plot\"},\"ticker\":{\"id\":\"86924e6b-9451-412a-bbc7-1f42990fe9fc\",\"type\":\"BasicTicker\"}},\"id\":\"3e3c34c4-ade0-450f-9549-1f599be1ab56\",\"type\":\"LinearAxis\"},{\"attributes\":{\"callback\":null,\"end\":0.005825590379,\"start\":-0.010610330479},\"id\":\"9546112d-325c-4cca-93a4-8262f39bc3ec\",\"type\":\"Range1d\"},{\"attributes\":{\"line_color\":\"#4daf4a\",\"line_width\":1.5,\"x\":{\"field\":\"x\"},\"y\":{\"field\":\"y\"}},\"id\":\"ce73e017-fa58-4b0d-a0d9-4a7de3832d6f\",\"type\":\"Line\"},{\"attributes\":{},\"id\":\"6448caa8-1d13-4eee-a606-99a67e774af0\",\"type\":\"UnionRenderers\"},{\"attributes\":{\"line_alpha\":0.1,\"line_color\":\"#1f77b4\",\"line_width\":1.5,\"x\":{\"field\":\"x\"},\"y\":{\"field\":\"y\"}},\"id\":\"330b99a9-7779-4707-a3e9-317418fc6e2c\",\"type\":\"Line\"},{\"attributes\":{\"callback\":null,\"data\":{\"x\":{\"__ndarray__\":\"1SvLfKm0Eb+7eZBxvS4Rv+D94BgpEBC/0SB+4EHFDb8IOk1/dlMLvy+QItpxygi/LtE55WwpBr9WOomfym4Dvy8OdicPmQC/cD9gtKhK+770v5/fyR71vkiCB5grQ+2+Nb1HCwTn3r7RuRX5Tfm8Pir/ouMwRAQ/kQDxl2+tIT8A9sCTYIgzP9HM6faJu0E/bXov4/R/TT+iYvnCxmZXP8sngvSoCmI/1/YmKZiIaj8cQK+fjTpwPzCsI86Y93A/unJfjuPucD/g3mraGzVwP8NACGbb2W4//wsOc6VFbT8NZKXhjpJrPzfYgDGn92g/afUY4Je+ZD/0Urp+/axbP++1ZX9MEDs/T6lNfj12Vr98cs2TnY1wv6/CSJhykX2/2eq+2IVjg79VIMxQiamEv9o1dIeazoO/zyqVqovYgr9Fk4kwhdSBvwnWRuq1yIC/I45HOTBqf78xF/XoDUB9vzkyxjjcFnu/5EvnjVPweL+MF7BAUs12v655oT4arnS/ykW9ZzKRcr8EKmY8BnZwvy+8tmESumy/t+2bvSOKaL9fYTkxSFtkv1yBl0u5KmC/8Ijq6wnrV7833oj2VeZOvyEEuns3ozu/Lmk3uRacGz/B2frW9eJEP/I2euqNKVM/gMqkisqUWz9oMVfTLIFhP8a/r8+sRWQ/ZaAhiQb8ZT+1936q1xtnP0UWwSwhWWg/OrJ6mJk4aj8/RaJQDt9sP2AmR0/DD3A/3Nj0cB7fcT/nDrZmmMtzP/2H0YOkznU/ZSoJ+FHndz/OMBCooBl6P0TmUf/Obnw/\",\"dtype\":\"float64\",\"shape\":[75]},\"y\":{\"__ndarray__\":\"GhExyth1ND/Sv8nbtpRIP2vylNV0PVE/aTum7souWD/At0SJ8fVgPw3Iuahxymc/MSNhhJWvcD/bTfBN02d3P2zb5nxnaoA/CD5h5MAGhz8NmeH1TyaQP+zrCsc9p5Y/LbKd76fGnz/bLW5ISEmmPww9YvTcQq8/JV2OstnstT8Er5Y7M8G+P0c+r3jqkcU/5h99k6ZBzj88bCIzFzjVP4enV8oyxN0//yH99nXg5D8qOpLLf0jtP5kqGJXUifQ/c9cS8kHP/D+/DpwzojQEQIEmwoanVwxA4lgXt9HgE0BSSZ2AJuIbQAMJih9jjiNA5q4l5INuK0AwTKYKRj0zQNv5fmq8/DpAaCJseHrtQkB/+zpwzoxKQM3MzMzMeFJAZmZmZmZqWEAAAAAAAFxeQM3MzMzMJmJAmpmZmZkfZUBmZmZmZhhoQDMzMzMzEWtAAAAAAAAKbkBmZmZmZoFwQM3MzMzM/XFAMzMzMzN6c0CamZmZmfZ0QAAAAAAAc3ZAZmZmZmbvd0DNzMzMzGt5QDMzMzMz6HpAmpmZmZlkfEAAAAAAAOF9QGZmZmZmXX9AZmZmZuZsgECamZmZGSuBQM3MzMxM6YFAAAAAAICngkAzMzMzs2WDQGZmZmbmI4RAmpmZmRnihEDNzMzMTKCFQAAAAACAXoZAMzMzM7Mch0BmZmZm5tqHQJqZmZkZmYhAzczMzExXiUAAAAAAgBWKQDMzMzOz04pAZmZmZuaRi0CamZmZGVCMQM3MzMxMDo1AAAAAAIDMjUAzMzMzs4qOQGZmZmbmSI9A\",\"dtype\":\"float64\",\"shape\":[75]}},\"selected\":{\"id\":\"2040525d-19f3-4c40-93c1-97fd50301d0f\",\"type\":\"Selection\"},\"selection_policy\":{\"id\":\"25b33b41-c57f-4911-ba42-06f5d0794a20\",\"type\":\"UnionRenderers\"}},\"id\":\"375fd623-64e8-4a9a-b72a-d2ecdae25006\",\"type\":\"ColumnDataSource\"},{\"attributes\":{\"data_source\":{\"id\":\"4ecdbf79-35c5-4786-b0e1-c4d7ef5e1216\",\"type\":\"ColumnDataSource\"},\"glyph\":{\"id\":\"6f6a9598-4929-4c0f-8334-5a9719d46e27\",\"type\":\"Circle\"},\"hover_glyph\":null,\"muted_glyph\":null,\"nonselection_glyph\":{\"id\":\"98f8a867-6cc4-414b-8e4f-f6c3c78d0198\",\"type\":\"Circle\"},\"selection_glyph\":null,\"view\":{\"id\":\"f9eb1220-ef74-410b-83c2-808267606b1b\",\"type\":\"CDSView\"}},\"id\":\"df9da3dc-58de-4fd2-8175-091ac326094c\",\"type\":\"GlyphRenderer\"},{\"attributes\":{},\"id\":\"86924e6b-9451-412a-bbc7-1f42990fe9fc\",\"type\":\"BasicTicker\"},{\"attributes\":{\"data_source\":{\"id\":\"7a1b8cab-0009-4a3f-b548-5f5a8b2748b0\",\"type\":\"ColumnDataSource\"},\"glyph\":{\"id\":\"ce73e017-fa58-4b0d-a0d9-4a7de3832d6f\",\"type\":\"Line\"},\"hover_glyph\":null,\"muted_glyph\":null,\"nonselection_glyph\":{\"id\":\"330b99a9-7779-4707-a3e9-317418fc6e2c\",\"type\":\"Line\"},\"selection_glyph\":null,\"view\":{\"id\":\"fa7ab8b6-51ad-4799-a0f7-2a69f15f036e\",\"type\":\"CDSView\"}},\"id\":\"237b1b63-c19e-483b-b8db-f9070c71bea2\",\"type\":\"GlyphRenderer\"},{\"attributes\":{\"callback\":null,\"data\":{\"x\":{\"__ndarray__\":\"R7y5gDlAFb8j9YbzQdgUvw53N/Kg9hO/zFLJbl0JE79UPbWxfBMSv5EeAhUQFRG/v5dqiCQOEL/k8yYsJP0Nv01hnQjPzAu/mk7S266KCb/EHK57oDUHv/aTgxxZywS/HTWhwm5FAr/WhlIQv4j9vkOj8ahJ1qs+GaV6I29tFD/95yY2CoUrP0idz/dcuzo/jtx0axH+Rj/VwOBouJlSP/PyT8OLC10/Ig7c+EiHZT/VlKTvFWRqP9kaOgu1hWs/q14uhe9Uaz8iwK+yMvFpP3Kro9AZZGg/D45FW13jZj/baRxHex5lP4iDX4bhjGI/wXLBJt3gXD/Tyd8RRKhPP9KkoF8PhS2/N/3xUK8qX78BjipzTSJyv7fJ0IyYrX6/slLOgajug78DGf8TY2aFvwAOpAJczYS/6vVD/cn3g7+gRv65mAGDv6sauz4X+IG/4EhRxPHegL8m8Lr+ZX5/vyJtolinOH2/6iyxdVvwer+F0TBcpKd4v9ChHcqoX3a/jvjLb9wXdL/5ORhK2s9xv35eEXXIEW+/+u1V7viEar+rvWBcV/hlv4PoRwZramG/NDMmCTGzWb8QthTjh4lQv6iDZn0/VT2/ab7nRk2nHj/3eau2a15GPztq48g+YVQ/Rpypa0g3XT83zy0FP4liPxRmfI2UlWU/uM1Ig2qqZz8OavXMCDNpP2qNPCWrz2o/aYaL1vX2bD9KU2erl8pvPxQXAFm6kXE/tE2nvcxlcz8P3Qpm7k91P4Tda+IPSHc/6XRYlQhKeT/uuCImYVV7P+ClL99Van0/\",\"dtype\":\"float64\",\"shape\":[75]},\"y\":{\"__ndarray__\":\"GhExyth1ND/Sv8nbtpRIP2vylNV0PVE/aTum7souWD/At0SJ8fVgPw3Iuahxymc/MSNhhJWvcD/bTfBN02d3P2zb5nxnaoA/CD5h5MAGhz8NmeH1TyaQP+zrCsc9p5Y/LbKd76fGnz/bLW5ISEmmPww9YvTcQq8/JV2OstnstT8Er5Y7M8G+P0c+r3jqkcU/5h99k6ZBzj88bCIzFzjVP4enV8oyxN0//yH99nXg5D8qOpLLf0jtP5kqGJXUifQ/c9cS8kHP/D+/DpwzojQEQIEmwoanVwxA4lgXt9HgE0BSSZ2AJuIbQAMJih9jjiNA5q4l5INuK0AwTKYKRj0zQNv5fmq8/DpAaCJseHrtQkB/+zpwzoxKQM3MzMzMeFJAZmZmZmZqWEAAAAAAAFxeQM3MzMzMJmJAmpmZmZkfZUBmZmZmZhhoQDMzMzMzEWtAAAAAAAAKbkBmZmZmZoFwQM3MzMzM/XFAMzMzMzN6c0CamZmZmfZ0QAAAAAAAc3ZAZmZmZmbvd0DNzMzMzGt5QDMzMzMz6HpAmpmZmZlkfEAAAAAAAOF9QGZmZmZmXX9AZmZmZuZsgECamZmZGSuBQM3MzMxM6YFAAAAAAICngkAzMzMzs2WDQGZmZmbmI4RAmpmZmRnihEDNzMzMTKCFQAAAAACAXoZAMzMzM7Mch0BmZmZm5tqHQJqZmZkZmYhAzczMzExXiUAAAAAAgBWKQDMzMzOz04pAZmZmZuaRi0CamZmZGVCMQM3MzMxMDo1AAAAAAIDMjUAzMzMzs4qOQGZmZmbmSI9A\",\"dtype\":\"float64\",\"shape\":[75]}},\"selected\":{\"id\":\"beb62a04-f1ef-473e-a196-9a77ae4c29bd\",\"type\":\"Selection\"},\"selection_policy\":{\"id\":\"4552bdf0-99e2-4a07-974a-c0b17ad7349b\",\"type\":\"UnionRenderers\"}},\"id\":\"1c7f6916-f3ec-45a5-8e67-7f508a1e100d\",\"type\":\"ColumnDataSource\"},{\"attributes\":{},\"id\":\"9b9679b5-2aba-4117-8054-155684c874fe\",\"type\":\"UnionRenderers\"},{\"attributes\":{\"source\":{\"id\":\"4ecdbf79-35c5-4786-b0e1-c4d7ef5e1216\",\"type\":\"ColumnDataSource\"}},\"id\":\"f9eb1220-ef74-410b-83c2-808267606b1b\",\"type\":\"CDSView\"},{\"attributes\":{\"fill_alpha\":{\"value\":0.1},\"fill_color\":{\"value\":\"#1f77b4\"},\"line_alpha\":{\"value\":0.1},\"line_color\":{\"value\":\"#1f77b4\"},\"x\":{\"field\":\"x\"},\"y\":{\"field\":\"y\"}},\"id\":\"98f8a867-6cc4-414b-8e4f-f6c3c78d0198\",\"type\":\"Circle\"},{\"attributes\":{\"plot\":{\"id\":\"3341ae1b-436d-475d-bba5-4757558c6be3\",\"subtype\":\"Figure\",\"type\":\"Plot\"},\"ticker\":{\"id\":\"86924e6b-9451-412a-bbc7-1f42990fe9fc\",\"type\":\"BasicTicker\"}},\"id\":\"edffeebf-a99d-46a6-992d-7fbe40f1e12c\",\"type\":\"Grid\"},{\"attributes\":{},\"id\":\"b4934097-d395-4c3c-a8f5-d5e821678e1f\",\"type\":\"LogScale\"},{\"attributes\":{\"line_alpha\":0.6,\"line_color\":\"#984ea3\",\"line_width\":3,\"x\":{\"field\":\"x\"},\"y\":{\"field\":\"y\"}},\"id\":\"ad385aa0-313b-49fd-b08e-555d3285438d\",\"type\":\"Line\"},{\"attributes\":{\"data_source\":{\"id\":\"375fd623-64e8-4a9a-b72a-d2ecdae25006\",\"type\":\"ColumnDataSource\"},\"glyph\":{\"id\":\"64d57b47-379f-4f4c-a680-8931396d74c0\",\"type\":\"Square\"},\"hover_glyph\":null,\"muted_glyph\":null,\"nonselection_glyph\":{\"id\":\"80ab7ec3-e2c9-4d25-85bf-49eda2883054\",\"type\":\"Square\"},\"selection_glyph\":null,\"view\":{\"id\":\"2af9144d-9311-4d3c-95fd-f907d23d5ed1\",\"type\":\"CDSView\"}},\"id\":\"d907601a-3e1d-41b2-b66c-00f738348001\",\"type\":\"GlyphRenderer\"},{\"attributes\":{\"fill_alpha\":{\"value\":0.1},\"fill_color\":{\"value\":\"#1f77b4\"},\"line_alpha\":{\"value\":0.1},\"line_color\":{\"value\":\"#1f77b4\"},\"x\":{\"field\":\"x\"},\"y\":{\"field\":\"y\"}},\"id\":\"80ab7ec3-e2c9-4d25-85bf-49eda2883054\",\"type\":\"Square\"},{\"attributes\":{\"fill_alpha\":{\"value\":0.7},\"fill_color\":{\"value\":\"#984ea3\"},\"line_alpha\":{\"value\":0.7},\"line_color\":{\"value\":\"#984ea3\"},\"x\":{\"field\":\"x\"},\"y\":{\"field\":\"y\"}},\"id\":\"64d57b47-379f-4f4c-a680-8931396d74c0\",\"type\":\"Square\"},{\"attributes\":{\"callback\":null,\"data\":{\"x\":{\"__ndarray__\":\"cxXij7n1SL/lYgsoEv1Iv93zIZfn7Ei/TS0VmtHRSL9JIUE42qtIv/fw3x8ajUi/C+v/K/trSL+wiI0WJkhIvwFofPgoIUi/lkC3npb2R78NPJ+hmMdHvywt9PY6k0e/M6MksNNXR79MtisPfQNHv5xMwt37vkW/y1z/dFAtQr/eTM+Jjew2v/bjYZB0efW+/DgeclwoQD9KR7VfqfRUP3GtELz8M2Q/mqLroNy/cD85YwNmmHN1P5YAz4kDwHY/9e7WFVYadz9eOhKZxcV2P0rwRmKiunY//LEiSd0Fdz9a0QBEnDN3P40bmIvhsnY/WGSi5r7sdD8mCv1oyX5xP35x1zknKWk/0HGpmn02Wz9ICb+/3Bw9v74JsfbYlmi/pMjc6OPic79pB5S4C6d1v8j5Mv/OkHO/7z1AHa1vcr/3LsLxjJ9xv9YjDAAn7XC/2PllFjs/cL90jL21WR5vv3ozhe5UsG2/hI1rO+YubL/hxJKdd5Zqv7IerPuW5Gi/1vRhPNEVZ7/EX2+4kSZlvzSnMI5IFmO/RRd9Sc/iYL9Mxt2SrxNdv6+SIkHXD1i/JRqOsviwUr9xqsLl09tJv52x3WxU6Dq/YbN/7VwOvL4KGYCGiMg8P3d9jI07wU0/R0sNSBWZVj8fvybQSEldPyKABTxqvWA/pfuDSfRgYT9UWP1WEUNhP9I3t/KjdGE/TQtmZV67Yj/cwuFv9UhlP96zInGl02g/eZGpPOoBbT+cdpb4WtJwP+EjJ3p1WnM/GAxU3DYgdj95uID7sTV5P73W9tYGvnw/\",\"dtype\":\"float64\",\"shape\":[75]},\"y\":{\"__ndarray__\":\"GhExyth1ND/Sv8nbtpRIP2vylNV0PVE/aTum7souWD/At0SJ8fVgPw3Iuahxymc/MSNhhJWvcD/bTfBN02d3P2zb5nxnaoA/CD5h5MAGhz8NmeH1TyaQP+zrCsc9p5Y/LbKd76fGnz/bLW5ISEmmPww9YvTcQq8/JV2OstnstT8Er5Y7M8G+P0c+r3jqkcU/5h99k6ZBzj88bCIzFzjVP4enV8oyxN0//yH99nXg5D8qOpLLf0jtP5kqGJXUifQ/c9cS8kHP/D+/DpwzojQEQIEmwoanVwxA4lgXt9HgE0BSSZ2AJuIbQAMJih9jjiNA5q4l5INuK0AwTKYKRj0zQNv5fmq8/DpAaCJseHrtQkB/+zpwzoxKQM3MzMzMeFJAZmZmZmZqWEAAAAAAAFxeQM3MzMzMJmJAmpmZmZkfZUBmZmZmZhhoQDMzMzMzEWtAAAAAAAAKbkBmZmZmZoFwQM3MzMzM/XFAMzMzMzN6c0CamZmZmfZ0QAAAAAAAc3ZAZmZmZmbvd0DNzMzMzGt5QDMzMzMz6HpAmpmZmZlkfEAAAAAAAOF9QGZmZmZmXX9AZmZmZuZsgECamZmZGSuBQM3MzMxM6YFAAAAAAICngkAzMzMzs2WDQGZmZmbmI4RAmpmZmRnihEDNzMzMTKCFQAAAAACAXoZAMzMzM7Mch0BmZmZm5tqHQJqZmZkZmYhAzczMzExXiUAAAAAAgBWKQDMzMzOz04pAZmZmZuaRi0CamZmZGVCMQM3MzMxMDo1AAAAAAIDMjUAzMzMzs4qOQGZmZmbmSI9A\",\"dtype\":\"float64\",\"shape\":[75]}},\"selected\":{\"id\":\"05d4517b-1420-470f-a08d-3360dbe65ae7\",\"type\":\"Selection\"},\"selection_policy\":{\"id\":\"55e2cc8e-c05a-456f-b661-04fc030036ad\",\"type\":\"UnionRenderers\"}},\"id\":\"7a1b8cab-0009-4a3f-b548-5f5a8b2748b0\",\"type\":\"ColumnDataSource\"},{\"attributes\":{\"source\":{\"id\":\"0f175fd7-be10-4115-bdae-a144a23e668d\",\"type\":\"ColumnDataSource\"}},\"id\":\"36fa5f9c-64ef-4e15-998d-3cb91ba73e9f\",\"type\":\"CDSView\"},{\"attributes\":{\"line_alpha\":0.1,\"line_color\":\"#1f77b4\",\"line_width\":3,\"x\":{\"field\":\"x\"},\"y\":{\"field\":\"y\"}},\"id\":\"9747b8ce-3aa9-4261-9d68-4d5173698c6d\",\"type\":\"Line\"},{\"attributes\":{\"fill_alpha\":{\"value\":0.1},\"fill_color\":{\"value\":\"#1f77b4\"},\"line_alpha\":{\"value\":0.1},\"line_color\":{\"value\":\"#1f77b4\"},\"x\":{\"field\":\"x\"},\"y\":{\"field\":\"y\"}},\"id\":\"ed5adedd-6695-4040-b836-5b3449c23e9f\",\"type\":\"Triangle\"},{\"attributes\":{\"source\":{\"id\":\"7a1b8cab-0009-4a3f-b548-5f5a8b2748b0\",\"type\":\"ColumnDataSource\"}},\"id\":\"fa7ab8b6-51ad-4799-a0f7-2a69f15f036e\",\"type\":\"CDSView\"},{\"attributes\":{\"source\":{\"id\":\"375fd623-64e8-4a9a-b72a-d2ecdae25006\",\"type\":\"ColumnDataSource\"}},\"id\":\"2af9144d-9311-4d3c-95fd-f907d23d5ed1\",\"type\":\"CDSView\"},{\"attributes\":{\"fill_alpha\":{\"value\":0.1},\"fill_color\":{\"value\":\"#1f77b4\"},\"line_alpha\":{\"value\":0.1},\"line_color\":{\"value\":\"#1f77b4\"},\"x\":{\"field\":\"x\"},\"y\":{\"field\":\"y\"}},\"id\":\"b232f9d6-df26-4148-8641-cbb8af855c3f\",\"type\":\"Circle\"},{\"attributes\":{\"data_source\":{\"id\":\"0f175fd7-be10-4115-bdae-a144a23e668d\",\"type\":\"ColumnDataSource\"},\"glyph\":{\"id\":\"ad385aa0-313b-49fd-b08e-555d3285438d\",\"type\":\"Line\"},\"hover_glyph\":null,\"muted_glyph\":null,\"nonselection_glyph\":{\"id\":\"9747b8ce-3aa9-4261-9d68-4d5173698c6d\",\"type\":\"Line\"},\"selection_glyph\":null,\"view\":{\"id\":\"36fa5f9c-64ef-4e15-998d-3cb91ba73e9f\",\"type\":\"CDSView\"}},\"id\":\"80d8cd14-6aa4-4ccd-b964-470f4678f64b\",\"type\":\"GlyphRenderer\"},{\"attributes\":{\"source\":{\"id\":\"0b0ad4a1-e3f0-4cc3-bb98-82d50e53cdf3\",\"type\":\"ColumnDataSource\"}},\"id\":\"42283755-50bf-4c15-a1c9-c1804f888600\",\"type\":\"CDSView\"},{\"attributes\":{\"fill_alpha\":{\"value\":0.7},\"fill_color\":{\"value\":\"#4daf4a\"},\"line_alpha\":{\"value\":0.7},\"line_color\":{\"value\":\"#4daf4a\"},\"x\":{\"field\":\"x\"},\"y\":{\"field\":\"y\"}},\"id\":\"6f6a9598-4929-4c0f-8334-5a9719d46e27\",\"type\":\"Circle\"},{\"attributes\":{\"callback\":null,\"data\":{\"x\":{\"__ndarray__\":\"cxXij7n1SL/lYgsoEv1Iv93zIZfn7Ei/TS0VmtHRSL9JIUE42qtIv/fw3x8ajUi/C+v/K/trSL+wiI0WJkhIvwFofPgoIUi/lkC3npb2R78NPJ+hmMdHvywt9PY6k0e/M6MksNNXR79MtisPfQNHv5xMwt37vkW/y1z/dFAtQr/eTM+Jjew2v/bjYZB0efW+/DgeclwoQD9KR7VfqfRUP3GtELz8M2Q/mqLroNy/cD85YwNmmHN1P5YAz4kDwHY/9e7WFVYadz9eOhKZxcV2P0rwRmKiunY//LEiSd0Fdz9a0QBEnDN3P40bmIvhsnY/WGSi5r7sdD8mCv1oyX5xP35x1zknKWk/0HGpmn02Wz9ICb+/3Bw9v74JsfbYlmi/pMjc6OPic79pB5S4C6d1v8j5Mv/OkHO/7z1AHa1vcr/3LsLxjJ9xv9YjDAAn7XC/2PllFjs/cL90jL21WR5vv3ozhe5UsG2/hI1rO+YubL/hxJKdd5Zqv7IerPuW5Gi/1vRhPNEVZ7/EX2+4kSZlvzSnMI5IFmO/RRd9Sc/iYL9Mxt2SrxNdv6+SIkHXD1i/JRqOsviwUr9xqsLl09tJv52x3WxU6Dq/YbN/7VwOvL4KGYCGiMg8P3d9jI07wU0/R0sNSBWZVj8fvybQSEldPyKABTxqvWA/pfuDSfRgYT9UWP1WEUNhP9I3t/KjdGE/TQtmZV67Yj/cwuFv9UhlP96zInGl02g/eZGpPOoBbT+cdpb4WtJwP+EjJ3p1WnM/GAxU3DYgdj95uID7sTV5P73W9tYGvnw/\",\"dtype\":\"float64\",\"shape\":[75]},\"y\":{\"__ndarray__\":\"GhExyth1ND/Sv8nbtpRIP2vylNV0PVE/aTum7souWD/At0SJ8fVgPw3Iuahxymc/MSNhhJWvcD/bTfBN02d3P2zb5nxnaoA/CD5h5MAGhz8NmeH1TyaQP+zrCsc9p5Y/LbKd76fGnz/bLW5ISEmmPww9YvTcQq8/JV2OstnstT8Er5Y7M8G+P0c+r3jqkcU/5h99k6ZBzj88bCIzFzjVP4enV8oyxN0//yH99nXg5D8qOpLLf0jtP5kqGJXUifQ/c9cS8kHP/D+/DpwzojQEQIEmwoanVwxA4lgXt9HgE0BSSZ2AJuIbQAMJih9jjiNA5q4l5INuK0AwTKYKRj0zQNv5fmq8/DpAaCJseHrtQkB/+zpwzoxKQM3MzMzMeFJAZmZmZmZqWEAAAAAAAFxeQM3MzMzMJmJAmpmZmZkfZUBmZmZmZhhoQDMzMzMzEWtAAAAAAAAKbkBmZmZmZoFwQM3MzMzM/XFAMzMzMzN6c0CamZmZmfZ0QAAAAAAAc3ZAZmZmZmbvd0DNzMzMzGt5QDMzMzMz6HpAmpmZmZlkfEAAAAAAAOF9QGZmZmZmXX9AZmZmZuZsgECamZmZGSuBQM3MzMxM6YFAAAAAAICngkAzMzMzs2WDQGZmZmbmI4RAmpmZmRnihEDNzMzMTKCFQAAAAACAXoZAMzMzM7Mch0BmZmZm5tqHQJqZmZkZmYhAzczMzExXiUAAAAAAgBWKQDMzMzOz04pAZmZmZuaRi0CamZmZGVCMQM3MzMxMDo1AAAAAAIDMjUAzMzMzs4qOQGZmZmbmSI9A\",\"dtype\":\"float64\",\"shape\":[75]}},\"selected\":{\"id\":\"86e1338c-c79f-4bfa-8adc-d4e58253b75d\",\"type\":\"Selection\"},\"selection_policy\":{\"id\":\"6448caa8-1d13-4eee-a606-99a67e774af0\",\"type\":\"UnionRenderers\"}},\"id\":\"0b0ad4a1-e3f0-4cc3-bb98-82d50e53cdf3\",\"type\":\"ColumnDataSource\"},{\"attributes\":{\"callback\":null,\"data\":{\"x\":{\"__ndarray__\":\"1SvLfKm0Eb+7eZBxvS4Rv+D94BgpEBC/0SB+4EHFDb8IOk1/dlMLvy+QItpxygi/LtE55WwpBr9WOomfym4Dvy8OdicPmQC/cD9gtKhK+770v5/fyR71vkiCB5grQ+2+Nb1HCwTn3r7RuRX5Tfm8Pir/ouMwRAQ/kQDxl2+tIT8A9sCTYIgzP9HM6faJu0E/bXov4/R/TT+iYvnCxmZXP8sngvSoCmI/1/YmKZiIaj8cQK+fjTpwPzCsI86Y93A/unJfjuPucD/g3mraGzVwP8NACGbb2W4//wsOc6VFbT8NZKXhjpJrPzfYgDGn92g/afUY4Je+ZD/0Urp+/axbP++1ZX9MEDs/T6lNfj12Vr98cs2TnY1wv6/CSJhykX2/2eq+2IVjg79VIMxQiamEv9o1dIeazoO/zyqVqovYgr9Fk4kwhdSBvwnWRuq1yIC/I45HOTBqf78xF/XoDUB9vzkyxjjcFnu/5EvnjVPweL+MF7BAUs12v655oT4arnS/ykW9ZzKRcr8EKmY8BnZwvy+8tmESumy/t+2bvSOKaL9fYTkxSFtkv1yBl0u5KmC/8Ijq6wnrV7833oj2VeZOvyEEuns3ozu/Lmk3uRacGz/B2frW9eJEP/I2euqNKVM/gMqkisqUWz9oMVfTLIFhP8a/r8+sRWQ/ZaAhiQb8ZT+1936q1xtnP0UWwSwhWWg/OrJ6mJk4aj8/RaJQDt9sP2AmR0/DD3A/3Nj0cB7fcT/nDrZmmMtzP/2H0YOkznU/ZSoJ+FHndz/OMBCooBl6P0TmUf/Obnw/\",\"dtype\":\"float64\",\"shape\":[75]},\"y\":{\"__ndarray__\":\"GhExyth1ND/Sv8nbtpRIP2vylNV0PVE/aTum7souWD/At0SJ8fVgPw3Iuahxymc/MSNhhJWvcD/bTfBN02d3P2zb5nxnaoA/CD5h5MAGhz8NmeH1TyaQP+zrCsc9p5Y/LbKd76fGnz/bLW5ISEmmPww9YvTcQq8/JV2OstnstT8Er5Y7M8G+P0c+r3jqkcU/5h99k6ZBzj88bCIzFzjVP4enV8oyxN0//yH99nXg5D8qOpLLf0jtP5kqGJXUifQ/c9cS8kHP/D+/DpwzojQEQIEmwoanVwxA4lgXt9HgE0BSSZ2AJuIbQAMJih9jjiNA5q4l5INuK0AwTKYKRj0zQNv5fmq8/DpAaCJseHrtQkB/+zpwzoxKQM3MzMzMeFJAZmZmZmZqWEAAAAAAAFxeQM3MzMzMJmJAmpmZmZkfZUBmZmZmZhhoQDMzMzMzEWtAAAAAAAAKbkBmZmZmZoFwQM3MzMzM/XFAMzMzMzN6c0CamZmZmfZ0QAAAAAAAc3ZAZmZmZmbvd0DNzMzMzGt5QDMzMzMz6HpAmpmZmZlkfEAAAAAAAOF9QGZmZmZmXX9AZmZmZuZsgECamZmZGSuBQM3MzMxM6YFAAAAAAICngkAzMzMzs2WDQGZmZmbmI4RAmpmZmRnihEDNzMzMTKCFQAAAAACAXoZAMzMzM7Mch0BmZmZm5tqHQJqZmZkZmYhAzczMzExXiUAAAAAAgBWKQDMzMzOz04pAZmZmZuaRi0CamZmZGVCMQM3MzMxMDo1AAAAAAIDMjUAzMzMzs4qOQGZmZmbmSI9A\",\"dtype\":\"float64\",\"shape\":[75]}},\"selected\":{\"id\":\"4704b80a-cb7d-49e9-bbea-f299ff65b4ea\",\"type\":\"Selection\"},\"selection_policy\":{\"id\":\"d010e28f-f9ba-41ab-a157-5fce8e762006\",\"type\":\"UnionRenderers\"}},\"id\":\"0f175fd7-be10-4115-bdae-a144a23e668d\",\"type\":\"ColumnDataSource\"},{\"attributes\":{\"fill_alpha\":{\"value\":0.7},\"fill_color\":{\"value\":\"#4daf4a\"},\"line_alpha\":{\"value\":0.7},\"line_color\":{\"value\":\"#4daf4a\"},\"x\":{\"field\":\"x\"},\"y\":{\"field\":\"y\"}},\"id\":\"020c4ccc-04aa-440c-8f6a-9a21c154cf2e\",\"type\":\"Circle\"},{\"attributes\":{\"fill_alpha\":{\"value\":0.7},\"fill_color\":{\"value\":\"#377eb8\"},\"line_alpha\":{\"value\":0.7},\"line_color\":{\"value\":\"#377eb8\"},\"x\":{\"field\":\"x\"},\"y\":{\"field\":\"y\"}},\"id\":\"a3d14cb2-e22c-4209-8e14-5c8b8e6dbb5a\",\"type\":\"Triangle\"},{\"attributes\":{\"callback\":null,\"end\":0.01,\"start\":1020},\"id\":\"ac3d204b-9fd2-4823-85e2-162ed372e42e\",\"type\":\"Range1d\"}],\"root_ids\":[\"03b9e316-126d-4176-8107-0a70a26bba17\"]},\"title\":\"Bokeh Application\",\"version\":\"0.12.16\"}};\n",
       "  var render_items = [{\"docid\":\"a64db4db-8682-4b7b-9f9b-3b984320b2f1\",\"elementid\":\"469475b5-27c9-4714-bbcb-c133f523d755\",\"modelid\":\"03b9e316-126d-4176-8107-0a70a26bba17\"}];\n",
       "  root.Bokeh.embed.embed_items_notebook(docs_json, render_items);\n",
       "\n",
       "  }\n",
       "  if (root.Bokeh !== undefined) {\n",
       "    embed_document(root);\n",
       "  } else {\n",
       "    var attempts = 0;\n",
       "    var timer = setInterval(function(root) {\n",
       "      if (root.Bokeh !== undefined) {\n",
       "        embed_document(root);\n",
       "        clearInterval(timer);\n",
       "      }\n",
       "      attempts++;\n",
       "      if (attempts > 100) {\n",
       "        console.log(\"Bokeh: ERROR: Unable to run BokehJS code because BokehJS library is missing\")\n",
       "        clearInterval(timer);\n",
       "      }\n",
       "    }, 10, root)\n",
       "  }\n",
       "})(window);"
      ],
      "application/vnd.bokehjs_exec.v0+json": ""
     },
     "metadata": {
      "application/vnd.bokehjs_exec.v0+json": {
       "id": "03b9e316-126d-4176-8107-0a70a26bba17"
      }
     },
     "output_type": "display_data"
    },
    {
     "data": {
      "text/markdown": [
       "*FIGURE.* Cooling rates. g=2"
      ],
      "text/plain": [
       "<IPython.core.display.Markdown object>"
      ]
     },
     "metadata": {},
     "output_type": "display_data"
    },
    {
     "data": {
      "text/html": [
       "\n",
       "<div class=\"bk-root\">\n",
       "    <div class=\"bk-plotdiv\" id=\"f4f353ff-3bcd-418a-8020-3a3510c2ae83\"></div>\n",
       "</div>"
      ]
     },
     "metadata": {},
     "output_type": "display_data"
    },
    {
     "data": {
      "application/javascript": [
       "(function(root) {\n",
       "  function embed_document(root) {\n",
       "    \n",
       "  var docs_json = {\"f2d94516-356e-4b1a-94c4-03aa79110c4d\":{\"roots\":{\"references\":[{\"attributes\":{\"callback\":null,\"data\":{\"x\":{\"__ndarray__\":\"KsxCWKx08b4YOyl/lZ/xvtREO7K61fG+3gWdI2sS8r7HvIUBo1fyvkyKys3kqPK+LJS3YfsK877wBj0RsYTzvsjY8VpqH/S+B3Qb00Do9L4FlfCnZ/H1vprmhO0tVPe+v8Ge5sQz+b4Hb2AhIMT7vnrF2Yz+Pv+++5RQCYSCAb+1S7sQWNoCv0nlQXqd2AK/8xBnN2nu/763URoBh9Ptvpj3MjGr+/Y+J1B0KfWzFj+i3MySvEMiPyh783ki4iI/+2qm6q9nHT8vDIz6R4P7PqDtkMWUch6/uf4DIXm/Nb86g1Xp7V5Fv3M17Na2UVK/cfsAxB81Xb+Hz8UDKz5mv8FghfvLZXC/uyXjX56qd7/5hnf+yhGBv442/qxIOIi/aAsNZkGYj7+xRhDDG42Sv7RlwxHZRJS/oQNlL+h4lb8jRHgCATWWv8fITWU1g5a/jNyyxzRolr/BoTb4YvKVvyTMcOAuK5W/ceYVV64alL/Cgd9yNMiSvypfP+BbOpG/6gPlkLbsjr/tV10usgKLvynMe5xpwoa/34rD3w80gr+oeNMZDr56v7t8mDIxk3C/ZmTl37vJV790GkMrOWhUPwrueySCiXA/03Md9yVTfD9cPBVX6TOEP5toCZJ0Voo/ySowWgM4kD+IVgOhsByTP+FJFQnJqZU/fGGkqhjNlz8+xZpfB62ZP1B2JnkdjZs/LmpG8tSknT9ysFpAOASgP0NvqhsTVaE/Aq1R83u5oj//zGJagimkP+hxC6JdoaU/qkMGo6Yepz/PBvvXO6GoPz4yRrluKao/\",\"dtype\":\"float64\",\"shape\":[75]},\"y\":{\"__ndarray__\":\"GhExyth1ND/Sv8nbtpRIP2vylNV0PVE/aTum7souWD/At0SJ8fVgPw3Iuahxymc/MSNhhJWvcD/bTfBN02d3P2zb5nxnaoA/CD5h5MAGhz8NmeH1TyaQP+zrCsc9p5Y/LbKd76fGnz/bLW5ISEmmPww9YvTcQq8/JV2OstnstT8Er5Y7M8G+P0c+r3jqkcU/5h99k6ZBzj88bCIzFzjVP4enV8oyxN0//yH99nXg5D8qOpLLf0jtP5kqGJXUifQ/c9cS8kHP/D+/DpwzojQEQIEmwoanVwxA4lgXt9HgE0BSSZ2AJuIbQAMJih9jjiNA5q4l5INuK0AwTKYKRj0zQNv5fmq8/DpAaCJseHrtQkB/+zpwzoxKQM3MzMzMeFJAZmZmZmZqWEAAAAAAAFxeQM3MzMzMJmJAmpmZmZkfZUBmZmZmZhhoQDMzMzMzEWtAAAAAAAAKbkBmZmZmZoFwQM3MzMzM/XFAMzMzMzN6c0CamZmZmfZ0QAAAAAAAc3ZAZmZmZmbvd0DNzMzMzGt5QDMzMzMz6HpAmpmZmZlkfEAAAAAAAOF9QGZmZmZmXX9AZmZmZuZsgECamZmZGSuBQM3MzMxM6YFAAAAAAICngkAzMzMzs2WDQGZmZmbmI4RAmpmZmRnihEDNzMzMTKCFQAAAAACAXoZAMzMzM7Mch0BmZmZm5tqHQJqZmZkZmYhAzczMzExXiUAAAAAAgBWKQDMzMzOz04pAZmZmZuaRi0CamZmZGVCMQM3MzMxMDo1AAAAAAIDMjUAzMzMzs4qOQGZmZmbmSI9A\",\"dtype\":\"float64\",\"shape\":[75]}},\"selected\":{\"id\":\"3c1b67bb-7684-4bf0-8fcf-5175fa79e47b\",\"type\":\"Selection\"},\"selection_policy\":{\"id\":\"6e943b7c-f861-40fa-8a6b-4a5e85c38057\",\"type\":\"UnionRenderers\"}},\"id\":\"2c463ed8-fdb7-460f-81a4-ff19442504bf\",\"type\":\"ColumnDataSource\"},{\"attributes\":{\"fill_alpha\":{\"value\":0.1},\"fill_color\":{\"value\":\"#1f77b4\"},\"line_alpha\":{\"value\":0.1},\"line_color\":{\"value\":\"#1f77b4\"},\"x\":{\"field\":\"x\"},\"y\":{\"field\":\"y\"}},\"id\":\"18ebd5b6-e447-4728-b1d8-2864b6d4f5de\",\"type\":\"Triangle\"},{\"attributes\":{\"data_source\":{\"id\":\"cb6c573f-b26e-4c81-a02c-af440efc8e72\",\"type\":\"ColumnDataSource\"},\"glyph\":{\"id\":\"3ab979be-d9d7-4e6a-86ee-33835203882b\",\"type\":\"Triangle\"},\"hover_glyph\":null,\"muted_glyph\":null,\"nonselection_glyph\":{\"id\":\"18ebd5b6-e447-4728-b1d8-2864b6d4f5de\",\"type\":\"Triangle\"},\"selection_glyph\":null,\"view\":{\"id\":\"39bd4137-d09b-45e4-a720-434507709109\",\"type\":\"CDSView\"}},\"id\":\"5b860bf5-995e-483f-a16d-6cc3c94a2f04\",\"type\":\"GlyphRenderer\"},{\"attributes\":{\"fill_alpha\":{\"value\":0.7},\"fill_color\":{\"value\":\"#984ea3\"},\"line_alpha\":{\"value\":0.7},\"line_color\":{\"value\":\"#984ea3\"},\"x\":{\"field\":\"x\"},\"y\":{\"field\":\"y\"}},\"id\":\"08f8fd6c-4e76-4703-9b93-a182bb364803\",\"type\":\"Square\"},{\"attributes\":{\"source\":{\"id\":\"cb6c573f-b26e-4c81-a02c-af440efc8e72\",\"type\":\"ColumnDataSource\"}},\"id\":\"39bd4137-d09b-45e4-a720-434507709109\",\"type\":\"CDSView\"},{\"attributes\":{\"line_alpha\":0.3,\"line_color\":\"#377eb8\",\"line_width\":2,\"x\":{\"field\":\"x\"},\"y\":{\"field\":\"y\"}},\"id\":\"2917a8fe-e341-4f2b-81bb-f8999ba2586c\",\"type\":\"Line\"},{\"attributes\":{\"children\":[{\"id\":\"f4e6947b-f94b-4449-8559-8c197e99a078\",\"type\":\"Row\"}]},\"id\":\"d9cf75b4-50a8-4b05-b3a2-5e32eda40b79\",\"type\":\"Column\"},{\"attributes\":{\"callback\":null,\"end\":0.01,\"start\":1020},\"id\":\"bdeee14c-e5cb-4f59-87f5-0ab5ad1d5ade\",\"type\":\"Range1d\"},{\"attributes\":{\"line_alpha\":0.1,\"line_color\":\"#1f77b4\",\"line_width\":2,\"x\":{\"field\":\"x\"},\"y\":{\"field\":\"y\"}},\"id\":\"1841858c-c5d5-4cfd-a37b-3208b723168e\",\"type\":\"Line\"},{\"attributes\":{\"data_source\":{\"id\":\"2c463ed8-fdb7-460f-81a4-ff19442504bf\",\"type\":\"ColumnDataSource\"},\"glyph\":{\"id\":\"2917a8fe-e341-4f2b-81bb-f8999ba2586c\",\"type\":\"Line\"},\"hover_glyph\":null,\"muted_glyph\":null,\"nonselection_glyph\":{\"id\":\"1841858c-c5d5-4cfd-a37b-3208b723168e\",\"type\":\"Line\"},\"selection_glyph\":null,\"view\":{\"id\":\"59df5120-1268-4f45-95b3-419b15120580\",\"type\":\"CDSView\"}},\"id\":\"f3b519c3-16e0-420f-87c2-ef91a55f2992\",\"type\":\"GlyphRenderer\"},{\"attributes\":{\"source\":{\"id\":\"2c463ed8-fdb7-460f-81a4-ff19442504bf\",\"type\":\"ColumnDataSource\"}},\"id\":\"59df5120-1268-4f45-95b3-419b15120580\",\"type\":\"CDSView\"},{\"attributes\":{\"plot\":null,\"text\":\"\"},\"id\":\"dd8d1d23-ce42-4b99-bc64-2cc78c2fb51b\",\"type\":\"Title\"},{\"attributes\":{\"line_alpha\":0.1,\"line_color\":\"#1f77b4\",\"line_width\":3,\"x\":{\"field\":\"x\"},\"y\":{\"field\":\"y\"}},\"id\":\"e8a46093-49d3-4caf-b14f-422cfdbdb08e\",\"type\":\"Line\"},{\"attributes\":{\"children\":[{\"id\":\"b20eefc0-3dbe-4889-a220-56652300b80c\",\"subtype\":\"Figure\",\"type\":\"Plot\"},{\"id\":\"fe0547fd-d0ea-4697-b740-402cd7419357\",\"subtype\":\"Figure\",\"type\":\"Plot\"}]},\"id\":\"f4e6947b-f94b-4449-8559-8c197e99a078\",\"type\":\"Row\"},{\"attributes\":{},\"id\":\"b65ea020-5c3a-487b-8239-10826fdfbcce\",\"type\":\"PanTool\"},{\"attributes\":{\"data_source\":{\"id\":\"52c69b8e-917a-4ff5-848a-64816918c588\",\"type\":\"ColumnDataSource\"},\"glyph\":{\"id\":\"056874a5-c0e4-4e94-85db-6dc1929f3d61\",\"type\":\"Line\"},\"hover_glyph\":null,\"muted_glyph\":null,\"nonselection_glyph\":{\"id\":\"e8a46093-49d3-4caf-b14f-422cfdbdb08e\",\"type\":\"Line\"},\"selection_glyph\":null,\"view\":{\"id\":\"db14ab40-61f2-4c88-b513-a959f25ae7e9\",\"type\":\"CDSView\"}},\"id\":\"a84a9432-cfef-472b-af91-3fd746964f05\",\"type\":\"GlyphRenderer\"},{\"attributes\":{\"label\":{\"value\":\"CRD\"},\"renderers\":[{\"id\":\"907f59b3-ccc7-4ed2-a196-d94b151d7097\",\"type\":\"GlyphRenderer\"},{\"id\":\"c95dba07-46be-4f2b-92c2-fc0a1ed93d82\",\"type\":\"GlyphRenderer\"}]},\"id\":\"84fc6c5e-5da1-4ed0-94a7-7921842d049f\",\"type\":\"LegendItem\"},{\"attributes\":{},\"id\":\"37fb4d95-c9e0-4bf7-b860-4c004827151f\",\"type\":\"Selection\"},{\"attributes\":{\"source\":{\"id\":\"52c69b8e-917a-4ff5-848a-64816918c588\",\"type\":\"ColumnDataSource\"}},\"id\":\"db14ab40-61f2-4c88-b513-a959f25ae7e9\",\"type\":\"CDSView\"},{\"attributes\":{\"label\":{\"value\":\"WGT igg=1\"},\"renderers\":[{\"id\":\"bf6aa2b9-2bfc-4ff4-9972-9ea40260e389\",\"type\":\"GlyphRenderer\"},{\"id\":\"1f94956c-b533-4b88-ad20-a7ced6fbff60\",\"type\":\"GlyphRenderer\"}]},\"id\":\"852e9981-e8fe-4b40-9405-e84ab68c5e3c\",\"type\":\"LegendItem\"},{\"attributes\":{},\"id\":\"5a0fff40-cc2c-439f-aed6-089b6a47532b\",\"type\":\"Selection\"},{\"attributes\":{\"label\":{\"value\":\"WGT igg=10\"},\"renderers\":[{\"id\":\"5b860bf5-995e-483f-a16d-6cc3c94a2f04\",\"type\":\"GlyphRenderer\"},{\"id\":\"f3b519c3-16e0-420f-87c2-ef91a55f2992\",\"type\":\"GlyphRenderer\"}]},\"id\":\"d3d8cbf2-a6a5-4ae4-9738-9c660654c096\",\"type\":\"LegendItem\"},{\"attributes\":{\"data_source\":{\"id\":\"ee5ef1cc-268e-4f0e-a8bc-32fa07b840c8\",\"type\":\"ColumnDataSource\"},\"glyph\":{\"id\":\"08f8fd6c-4e76-4703-9b93-a182bb364803\",\"type\":\"Square\"},\"hover_glyph\":null,\"muted_glyph\":null,\"nonselection_glyph\":{\"id\":\"5541858d-c298-40a3-9d72-5f7aed8e08ef\",\"type\":\"Square\"},\"selection_glyph\":null,\"view\":{\"id\":\"23b678c5-edef-4ef1-bd9e-d28fa34a31c8\",\"type\":\"CDSView\"}},\"id\":\"5a726098-9078-498d-af3a-dddb65d4843a\",\"type\":\"GlyphRenderer\"},{\"attributes\":{},\"id\":\"525ac1af-cc8c-447f-a77b-d8ededf24450\",\"type\":\"BasicTickFormatter\"},{\"attributes\":{},\"id\":\"390c327c-ba56-44e2-b99d-3993869a84e9\",\"type\":\"BasicTickFormatter\"},{\"attributes\":{\"callback\":null,\"data\":{\"x\":{\"__ndarray__\":\"KsxCWKx08b4YOyl/lZ/xvtREO7K61fG+3gWdI2sS8r7HvIUBo1fyvkyKys3kqPK+LJS3YfsK877wBj0RsYTzvsjY8VpqH/S+B3Qb00Do9L4FlfCnZ/H1vprmhO0tVPe+v8Ge5sQz+b4Hb2AhIMT7vnrF2Yz+Pv+++5RQCYSCAb+1S7sQWNoCv0nlQXqd2AK/8xBnN2nu/763URoBh9Ptvpj3MjGr+/Y+J1B0KfWzFj+i3MySvEMiPyh783ki4iI/+2qm6q9nHT8vDIz6R4P7PqDtkMWUch6/uf4DIXm/Nb86g1Xp7V5Fv3M17Na2UVK/cfsAxB81Xb+Hz8UDKz5mv8FghfvLZXC/uyXjX56qd7/5hnf+yhGBv442/qxIOIi/aAsNZkGYj7+xRhDDG42Sv7RlwxHZRJS/oQNlL+h4lb8jRHgCATWWv8fITWU1g5a/jNyyxzRolr/BoTb4YvKVvyTMcOAuK5W/ceYVV64alL/Cgd9yNMiSvypfP+BbOpG/6gPlkLbsjr/tV10usgKLvynMe5xpwoa/34rD3w80gr+oeNMZDr56v7t8mDIxk3C/ZmTl37vJV790GkMrOWhUPwrueySCiXA/03Md9yVTfD9cPBVX6TOEP5toCZJ0Voo/ySowWgM4kD+IVgOhsByTP+FJFQnJqZU/fGGkqhjNlz8+xZpfB62ZP1B2JnkdjZs/LmpG8tSknT9ysFpAOASgP0NvqhsTVaE/Aq1R83u5oj//zGJagimkP+hxC6JdoaU/qkMGo6Yepz/PBvvXO6GoPz4yRrluKao/\",\"dtype\":\"float64\",\"shape\":[75]},\"y\":{\"__ndarray__\":\"GhExyth1ND/Sv8nbtpRIP2vylNV0PVE/aTum7souWD/At0SJ8fVgPw3Iuahxymc/MSNhhJWvcD/bTfBN02d3P2zb5nxnaoA/CD5h5MAGhz8NmeH1TyaQP+zrCsc9p5Y/LbKd76fGnz/bLW5ISEmmPww9YvTcQq8/JV2OstnstT8Er5Y7M8G+P0c+r3jqkcU/5h99k6ZBzj88bCIzFzjVP4enV8oyxN0//yH99nXg5D8qOpLLf0jtP5kqGJXUifQ/c9cS8kHP/D+/DpwzojQEQIEmwoanVwxA4lgXt9HgE0BSSZ2AJuIbQAMJih9jjiNA5q4l5INuK0AwTKYKRj0zQNv5fmq8/DpAaCJseHrtQkB/+zpwzoxKQM3MzMzMeFJAZmZmZmZqWEAAAAAAAFxeQM3MzMzMJmJAmpmZmZkfZUBmZmZmZhhoQDMzMzMzEWtAAAAAAAAKbkBmZmZmZoFwQM3MzMzM/XFAMzMzMzN6c0CamZmZmfZ0QAAAAAAAc3ZAZmZmZmbvd0DNzMzMzGt5QDMzMzMz6HpAmpmZmZlkfEAAAAAAAOF9QGZmZmZmXX9AZmZmZuZsgECamZmZGSuBQM3MzMxM6YFAAAAAAICngkAzMzMzs2WDQGZmZmbmI4RAmpmZmRnihEDNzMzMTKCFQAAAAACAXoZAMzMzM7Mch0BmZmZm5tqHQJqZmZkZmYhAzczMzExXiUAAAAAAgBWKQDMzMzOz04pAZmZmZuaRi0CamZmZGVCMQM3MzMxMDo1AAAAAAIDMjUAzMzMzs4qOQGZmZmbmSI9A\",\"dtype\":\"float64\",\"shape\":[75]}},\"selected\":{\"id\":\"0bf94b2a-b48e-44ef-aef7-63e9c0224fa8\",\"type\":\"Selection\"},\"selection_policy\":{\"id\":\"904ab4e2-49b5-4c35-a671-a8dc2a6fcb45\",\"type\":\"UnionRenderers\"}},\"id\":\"4acbfcfc-a93e-4392-9eef-dd1ebd3c37de\",\"type\":\"ColumnDataSource\"},{\"attributes\":{},\"id\":\"fc6b4d40-ebe7-4564-9c26-6108a7e9f061\",\"type\":\"BasicTickFormatter\"},{\"attributes\":{},\"id\":\"fcb2d652-8e74-44af-bd0d-f3136c8e532d\",\"type\":\"Selection\"},{\"attributes\":{},\"id\":\"0c592e2d-4474-454f-9778-9a569329ccba\",\"type\":\"UnionRenderers\"},{\"attributes\":{},\"id\":\"2138a485-449f-42d5-8f93-867e86fcea11\",\"type\":\"UnionRenderers\"},{\"attributes\":{},\"id\":\"99a1416c-f024-45ff-b384-1d742629f9b2\",\"type\":\"UnionRenderers\"},{\"attributes\":{\"ticker\":null},\"id\":\"299a214a-c6ee-4db6-8f54-9d188cae939a\",\"type\":\"LogTickFormatter\"},{\"attributes\":{\"plot\":null,\"text\":\"\"},\"id\":\"ee881ea3-81e7-445a-8bb8-98fcd37daae5\",\"type\":\"Title\"},{\"attributes\":{\"source\":{\"id\":\"ee5ef1cc-268e-4f0e-a8bc-32fa07b840c8\",\"type\":\"ColumnDataSource\"}},\"id\":\"23b678c5-edef-4ef1-bd9e-d28fa34a31c8\",\"type\":\"CDSView\"},{\"attributes\":{},\"id\":\"475b1d11-643d-4b9f-ab09-e7c2c8e63a21\",\"type\":\"UnionRenderers\"},{\"attributes\":{\"callback\":null,\"data\":{\"x\":{\"__ndarray__\":\"dMxBPwfl8L7C9TrdzQrxvrKHEIQzN/G+KyHCE1dp8b4tz3WPM6Pxvo2IjQD75/G+Fvg8Sj088r6W6pRNUabyvvForob6LvO+lCbEdGXi874neH1AetH0vjUW+aOeE/a+JqPlETfJ976UL2kd3Rz6vvPu23ms+fy+/6JHgCRF/76x3ibYikT/vsGCd607yfq+K5pXUE8/676w5aY0y0LvPoE4m5fobRI/oWSUEq+UJT+Mj0wQQC0wP+4NurKR5zE/ueibhmMhMT+uO0+NI0QpP970A1iRDRI/ZWCMZGmJIL+98dktDtY7v4TxLawxfEy/1VD+ALjRWL8+Nx43duxjv4VFCoOAZW6/mH4qK+SKdr9RZvDoYKyAv/jiAgUbLYi/GGmYkMXsj79DfOYAT8eSv9WZQ56ZapS/r6Mti+KFlb80ClHXPSaWv3YJ6VE6Vpa/KnOiRukelr9Tk+84lo6Vv7iUFNTHrpS/AjBml+SKk7/Dx10NGyiSv53UIJf7jpC/m1RQKy6Jjb8IQOZHH5qJv7NMt9NzXoW/EpY1SAHdgL+f/rZVNzh4v8DolL6Og2y/8PxpH+zrTr/KsGLdJZ1bP2E9VvYCD3I/XaBKLLWOfT8VHjS77q2EP4Mvr9DFroo/LqxQ4V5SkD/1SQVN/x2TP/oil7tzgZU/J0gjoVhnlz99Tt8K3/2YP/s6AzJamJo/r1zSxWR5nD9qyip5MLqeP9QWYuvVpKA/NzLRGJQGoj9+aHzllXmjP5iv12M++qQ/8B+bfGSHpj/miF5B+CKoPwweG4vq0Kk/\",\"dtype\":\"float64\",\"shape\":[75]},\"y\":{\"__ndarray__\":\"GhExyth1ND/Sv8nbtpRIP2vylNV0PVE/aTum7souWD/At0SJ8fVgPw3Iuahxymc/MSNhhJWvcD/bTfBN02d3P2zb5nxnaoA/CD5h5MAGhz8NmeH1TyaQP+zrCsc9p5Y/LbKd76fGnz/bLW5ISEmmPww9YvTcQq8/JV2OstnstT8Er5Y7M8G+P0c+r3jqkcU/5h99k6ZBzj88bCIzFzjVP4enV8oyxN0//yH99nXg5D8qOpLLf0jtP5kqGJXUifQ/c9cS8kHP/D+/DpwzojQEQIEmwoanVwxA4lgXt9HgE0BSSZ2AJuIbQAMJih9jjiNA5q4l5INuK0AwTKYKRj0zQNv5fmq8/DpAaCJseHrtQkB/+zpwzoxKQM3MzMzMeFJAZmZmZmZqWEAAAAAAAFxeQM3MzMzMJmJAmpmZmZkfZUBmZmZmZhhoQDMzMzMzEWtAAAAAAAAKbkBmZmZmZoFwQM3MzMzM/XFAMzMzMzN6c0CamZmZmfZ0QAAAAAAAc3ZAZmZmZmbvd0DNzMzMzGt5QDMzMzMz6HpAmpmZmZlkfEAAAAAAAOF9QGZmZmZmXX9AZmZmZuZsgECamZmZGSuBQM3MzMxM6YFAAAAAAICngkAzMzMzs2WDQGZmZmbmI4RAmpmZmRnihEDNzMzMTKCFQAAAAACAXoZAMzMzM7Mch0BmZmZm5tqHQJqZmZkZmYhAzczMzExXiUAAAAAAgBWKQDMzMzOz04pAZmZmZuaRi0CamZmZGVCMQM3MzMxMDo1AAAAAAIDMjUAzMzMzs4qOQGZmZmbmSI9A\",\"dtype\":\"float64\",\"shape\":[75]}},\"selected\":{\"id\":\"4935cbe5-b506-4aa8-b31f-327baffa5217\",\"type\":\"Selection\"},\"selection_policy\":{\"id\":\"20b3b20f-128e-480d-be05-4f6d511624af\",\"type\":\"UnionRenderers\"}},\"id\":\"ee5ef1cc-268e-4f0e-a8bc-32fa07b840c8\",\"type\":\"ColumnDataSource\"},{\"attributes\":{},\"id\":\"78e5eb94-8993-4dff-a904-f4d6e469c7c1\",\"type\":\"Selection\"},{\"attributes\":{\"source\":{\"id\":\"4acbfcfc-a93e-4392-9eef-dd1ebd3c37de\",\"type\":\"ColumnDataSource\"}},\"id\":\"a1e7a5b2-3eda-44f5-a5a8-57808f6bd39d\",\"type\":\"CDSView\"},{\"attributes\":{},\"id\":\"f965676e-7247-4ac9-914b-a07badfde39e\",\"type\":\"Selection\"},{\"attributes\":{\"data_source\":{\"id\":\"4acbfcfc-a93e-4392-9eef-dd1ebd3c37de\",\"type\":\"ColumnDataSource\"},\"glyph\":{\"id\":\"90dcc1fd-b2d9-411f-b559-f96e0e190180\",\"type\":\"Triangle\"},\"hover_glyph\":null,\"muted_glyph\":null,\"nonselection_glyph\":{\"id\":\"75cc4c2c-a2a4-44b6-8346-3f6fbcd33f13\",\"type\":\"Triangle\"},\"selection_glyph\":null,\"view\":{\"id\":\"a1e7a5b2-3eda-44f5-a5a8-57808f6bd39d\",\"type\":\"CDSView\"}},\"id\":\"51cc2c51-333e-4120-92fe-93343a7a2d28\",\"type\":\"GlyphRenderer\"},{\"attributes\":{},\"id\":\"64423025-03a6-47b9-9201-282a3b2459a9\",\"type\":\"UnionRenderers\"},{\"attributes\":{\"data_source\":{\"id\":\"bc3ba5f9-08bc-4b41-8dff-a60c34cb1724\",\"type\":\"ColumnDataSource\"},\"glyph\":{\"id\":\"38ed4672-664d-42c6-ae6d-1a4841f99760\",\"type\":\"Line\"},\"hover_glyph\":null,\"muted_glyph\":null,\"nonselection_glyph\":{\"id\":\"cc5079fe-0993-4b9c-bf65-bf6e7486a549\",\"type\":\"Line\"},\"selection_glyph\":null,\"view\":{\"id\":\"058c7655-0d28-4c6c-b828-90bbed6d8c96\",\"type\":\"CDSView\"}},\"id\":\"edf7ef3d-5d7e-44f7-a288-55a2ca432de5\",\"type\":\"GlyphRenderer\"},{\"attributes\":{},\"id\":\"de19f2cb-d55a-4d79-ba26-483a462bf01a\",\"type\":\"Selection\"},{\"attributes\":{\"data_source\":{\"id\":\"188b5dad-063e-4675-beac-28566049f0cb\",\"type\":\"ColumnDataSource\"},\"glyph\":{\"id\":\"d4a6026f-f323-4572-80ce-cd18850b8d58\",\"type\":\"Line\"},\"hover_glyph\":null,\"muted_glyph\":null,\"nonselection_glyph\":{\"id\":\"f338ff48-0eb1-4e50-bd62-bda851a04739\",\"type\":\"Line\"},\"selection_glyph\":null,\"view\":{\"id\":\"8054eb12-6742-417c-be0f-ce228e5323a0\",\"type\":\"CDSView\"}},\"id\":\"85161dae-14ce-4ec3-920e-19f8cac1eb52\",\"type\":\"GlyphRenderer\"},{\"attributes\":{},\"id\":\"14d0fefd-49e5-4194-9adc-f66cec1d37b8\",\"type\":\"UnionRenderers\"},{\"attributes\":{},\"id\":\"c2053ace-520b-4875-a3ec-4a5141e2e7b9\",\"type\":\"ResetTool\"},{\"attributes\":{\"line_alpha\":0.1,\"line_color\":\"#1f77b4\",\"line_width\":1.5,\"x\":{\"field\":\"x\"},\"y\":{\"field\":\"y\"}},\"id\":\"f338ff48-0eb1-4e50-bd62-bda851a04739\",\"type\":\"Line\"},{\"attributes\":{},\"id\":\"5523fc2d-b070-4e66-886b-c49fe5a227b5\",\"type\":\"Selection\"},{\"attributes\":{\"tools\":[{\"id\":\"4625af61-1070-4dc3-ad9d-1f9c19a11720\",\"type\":\"PanTool\"},{\"id\":\"93184282-15e0-4e47-a34f-36df3e81ae57\",\"type\":\"WheelZoomTool\"},{\"id\":\"a4e0523b-bc3e-4d01-9644-9c7280a3b5b9\",\"type\":\"BoxZoomTool\"},{\"id\":\"d051d337-f5e0-41a4-8355-35a8afadf1a3\",\"type\":\"SaveTool\"},{\"id\":\"c2053ace-520b-4875-a3ec-4a5141e2e7b9\",\"type\":\"ResetTool\"},{\"id\":\"eec4c753-c363-443b-a6c1-b956c4f9593c\",\"type\":\"HelpTool\"},{\"id\":\"b65ea020-5c3a-487b-8239-10826fdfbcce\",\"type\":\"PanTool\"},{\"id\":\"912c772c-5bcb-451f-bb18-e84f0381e287\",\"type\":\"WheelZoomTool\"},{\"id\":\"21237b40-6a92-449c-8e2f-e250b530be3f\",\"type\":\"BoxZoomTool\"},{\"id\":\"5b1bf085-ecd8-4d9f-bb03-e4f72e6b1103\",\"type\":\"SaveTool\"},{\"id\":\"4b5b9408-911b-4a2e-82aa-e2129ee27bf5\",\"type\":\"ResetTool\"},{\"id\":\"f19779e4-632e-4835-82f7-32abe7fdd19e\",\"type\":\"HelpTool\"}]},\"id\":\"e9411798-b3ee-4efb-9837-519371d72cb1\",\"type\":\"ProxyToolbar\"},{\"attributes\":{},\"id\":\"eec4c753-c363-443b-a6c1-b956c4f9593c\",\"type\":\"HelpTool\"},{\"attributes\":{\"toolbar\":{\"id\":\"e9411798-b3ee-4efb-9837-519371d72cb1\",\"type\":\"ProxyToolbar\"},\"toolbar_location\":\"above\"},\"id\":\"3e690e67-2273-4165-8a0c-9aeda55171bd\",\"type\":\"ToolbarBox\"},{\"attributes\":{},\"id\":\"6e943b7c-f861-40fa-8a6b-4a5e85c38057\",\"type\":\"UnionRenderers\"},{\"attributes\":{\"line_alpha\":0.3,\"line_color\":\"#377eb8\",\"line_width\":2,\"x\":{\"field\":\"x\"},\"y\":{\"field\":\"y\"}},\"id\":\"38ed4672-664d-42c6-ae6d-1a4841f99760\",\"type\":\"Line\"},{\"attributes\":{},\"id\":\"4ea9dcf4-ced7-4935-9a4b-d3d213f8a607\",\"type\":\"UnionRenderers\"},{\"attributes\":{},\"id\":\"3c1b67bb-7684-4bf0-8fcf-5175fa79e47b\",\"type\":\"Selection\"},{\"attributes\":{\"children\":[{\"id\":\"3e690e67-2273-4165-8a0c-9aeda55171bd\",\"type\":\"ToolbarBox\"},{\"id\":\"d9cf75b4-50a8-4b05-b3a2-5e32eda40b79\",\"type\":\"Column\"}]},\"id\":\"f51d5fa2-5eae-4057-8a5e-ce02ef0f166f\",\"type\":\"Column\"},{\"attributes\":{\"source\":{\"id\":\"188b5dad-063e-4675-beac-28566049f0cb\",\"type\":\"ColumnDataSource\"}},\"id\":\"8054eb12-6742-417c-be0f-ce228e5323a0\",\"type\":\"CDSView\"},{\"attributes\":{\"fill_alpha\":{\"value\":0.7},\"fill_color\":{\"value\":\"#377eb8\"},\"line_alpha\":{\"value\":0.7},\"line_color\":{\"value\":\"#377eb8\"},\"x\":{\"field\":\"x\"},\"y\":{\"field\":\"y\"}},\"id\":\"90dcc1fd-b2d9-411f-b559-f96e0e190180\",\"type\":\"Triangle\"},{\"attributes\":{\"callback\":null,\"data\":{\"x\":{\"__ndarray__\":\"dMxBPwfl8L7C9TrdzQrxvrKHEIQzN/G+KyHCE1dp8b4tz3WPM6Pxvo2IjQD75/G+Fvg8Sj088r6W6pRNUabyvvForob6LvO+lCbEdGXi874neH1AetH0vjUW+aOeE/a+JqPlETfJ976UL2kd3Rz6vvPu23ms+fy+/6JHgCRF/76x3ibYikT/vsGCd607yfq+K5pXUE8/676w5aY0y0LvPoE4m5fobRI/oWSUEq+UJT+Mj0wQQC0wP+4NurKR5zE/ueibhmMhMT+uO0+NI0QpP970A1iRDRI/ZWCMZGmJIL+98dktDtY7v4TxLawxfEy/1VD+ALjRWL8+Nx43duxjv4VFCoOAZW6/mH4qK+SKdr9RZvDoYKyAv/jiAgUbLYi/GGmYkMXsj79DfOYAT8eSv9WZQ56ZapS/r6Mti+KFlb80ClHXPSaWv3YJ6VE6Vpa/KnOiRukelr9Tk+84lo6Vv7iUFNTHrpS/AjBml+SKk7/Dx10NGyiSv53UIJf7jpC/m1RQKy6Jjb8IQOZHH5qJv7NMt9NzXoW/EpY1SAHdgL+f/rZVNzh4v8DolL6Og2y/8PxpH+zrTr/KsGLdJZ1bP2E9VvYCD3I/XaBKLLWOfT8VHjS77q2EP4Mvr9DFroo/LqxQ4V5SkD/1SQVN/x2TP/oil7tzgZU/J0gjoVhnlz99Tt8K3/2YP/s6AzJamJo/r1zSxWR5nD9qyip5MLqeP9QWYuvVpKA/NzLRGJQGoj9+aHzllXmjP5iv12M++qQ/8B+bfGSHpj/miF5B+CKoPwweG4vq0Kk/\",\"dtype\":\"float64\",\"shape\":[75]},\"y\":{\"__ndarray__\":\"GhExyth1ND/Sv8nbtpRIP2vylNV0PVE/aTum7souWD/At0SJ8fVgPw3Iuahxymc/MSNhhJWvcD/bTfBN02d3P2zb5nxnaoA/CD5h5MAGhz8NmeH1TyaQP+zrCsc9p5Y/LbKd76fGnz/bLW5ISEmmPww9YvTcQq8/JV2OstnstT8Er5Y7M8G+P0c+r3jqkcU/5h99k6ZBzj88bCIzFzjVP4enV8oyxN0//yH99nXg5D8qOpLLf0jtP5kqGJXUifQ/c9cS8kHP/D+/DpwzojQEQIEmwoanVwxA4lgXt9HgE0BSSZ2AJuIbQAMJih9jjiNA5q4l5INuK0AwTKYKRj0zQNv5fmq8/DpAaCJseHrtQkB/+zpwzoxKQM3MzMzMeFJAZmZmZmZqWEAAAAAAAFxeQM3MzMzMJmJAmpmZmZkfZUBmZmZmZhhoQDMzMzMzEWtAAAAAAAAKbkBmZmZmZoFwQM3MzMzM/XFAMzMzMzN6c0CamZmZmfZ0QAAAAAAAc3ZAZmZmZmbvd0DNzMzMzGt5QDMzMzMz6HpAmpmZmZlkfEAAAAAAAOF9QGZmZmZmXX9AZmZmZuZsgECamZmZGSuBQM3MzMxM6YFAAAAAAICngkAzMzMzs2WDQGZmZmbmI4RAmpmZmRnihEDNzMzMTKCFQAAAAACAXoZAMzMzM7Mch0BmZmZm5tqHQJqZmZkZmYhAzczMzExXiUAAAAAAgBWKQDMzMzOz04pAZmZmZuaRi0CamZmZGVCMQM3MzMxMDo1AAAAAAIDMjUAzMzMzs4qOQGZmZmbmSI9A\",\"dtype\":\"float64\",\"shape\":[75]}},\"selected\":{\"id\":\"c970e95b-a4c7-4305-9efb-560fecb6164b\",\"type\":\"Selection\"},\"selection_policy\":{\"id\":\"e3a5e773-f7f9-4b05-b0a8-a5c8e646ec7c\",\"type\":\"UnionRenderers\"}},\"id\":\"52c69b8e-917a-4ff5-848a-64816918c588\",\"type\":\"ColumnDataSource\"},{\"attributes\":{\"line_alpha\":0.1,\"line_color\":\"#1f77b4\",\"line_width\":2,\"x\":{\"field\":\"x\"},\"y\":{\"field\":\"y\"}},\"id\":\"cc5079fe-0993-4b9c-bf65-bf6e7486a549\",\"type\":\"Line\"},{\"attributes\":{\"fill_alpha\":{\"value\":0.1},\"fill_color\":{\"value\":\"#1f77b4\"},\"line_alpha\":{\"value\":0.1},\"line_color\":{\"value\":\"#1f77b4\"},\"x\":{\"field\":\"x\"},\"y\":{\"field\":\"y\"}},\"id\":\"5541858d-c298-40a3-9d72-5f7aed8e08ef\",\"type\":\"Square\"},{\"attributes\":{\"line_color\":\"#4daf4a\",\"line_width\":1.5,\"x\":{\"field\":\"x\"},\"y\":{\"field\":\"y\"}},\"id\":\"d4a6026f-f323-4572-80ce-cd18850b8d58\",\"type\":\"Line\"},{\"attributes\":{\"above\":[{\"id\":\"3940b0c9-43b1-490d-8469-5c64491ce7bf\",\"type\":\"Legend\"}],\"below\":[{\"id\":\"2854c227-8671-4a6a-8b10-547ddb192ddd\",\"type\":\"LinearAxis\"}],\"left\":[{\"id\":\"cddb7253-6537-4421-ac2f-cd68da23d5dd\",\"type\":\"LogAxis\"}],\"plot_height\":500,\"plot_width\":400,\"renderers\":[{\"id\":\"2854c227-8671-4a6a-8b10-547ddb192ddd\",\"type\":\"LinearAxis\"},{\"id\":\"714df96d-d498-4dec-936e-f612b1152c42\",\"type\":\"Grid\"},{\"id\":\"cddb7253-6537-4421-ac2f-cd68da23d5dd\",\"type\":\"LogAxis\"},{\"id\":\"30b13395-3850-424c-b49c-bc689442ff7d\",\"type\":\"Grid\"},{\"id\":\"305045f4-40b0-4f35-a135-941690d5848f\",\"type\":\"BoxAnnotation\"},{\"id\":\"907f59b3-ccc7-4ed2-a196-d94b151d7097\",\"type\":\"GlyphRenderer\"},{\"id\":\"c95dba07-46be-4f2b-92c2-fc0a1ed93d82\",\"type\":\"GlyphRenderer\"},{\"id\":\"bf6aa2b9-2bfc-4ff4-9972-9ea40260e389\",\"type\":\"GlyphRenderer\"},{\"id\":\"1f94956c-b533-4b88-ad20-a7ced6fbff60\",\"type\":\"GlyphRenderer\"},{\"id\":\"5b860bf5-995e-483f-a16d-6cc3c94a2f04\",\"type\":\"GlyphRenderer\"},{\"id\":\"f3b519c3-16e0-420f-87c2-ef91a55f2992\",\"type\":\"GlyphRenderer\"},{\"id\":\"3940b0c9-43b1-490d-8469-5c64491ce7bf\",\"type\":\"Legend\"}],\"title\":{\"id\":\"ee881ea3-81e7-445a-8bb8-98fcd37daae5\",\"type\":\"Title\"},\"toolbar\":{\"id\":\"d78b138b-cd4b-40c5-9fb0-c5801108bf46\",\"type\":\"Toolbar\"},\"toolbar_location\":null,\"x_range\":{\"id\":\"9d6fa89b-291b-4961-8a1f-567b6c5120d9\",\"type\":\"Range1d\"},\"x_scale\":{\"id\":\"c66e5696-ef99-4aa1-9b47-7103d406ff37\",\"type\":\"LinearScale\"},\"y_range\":{\"id\":\"bdeee14c-e5cb-4f59-87f5-0ab5ad1d5ade\",\"type\":\"Range1d\"},\"y_scale\":{\"id\":\"c785f866-640e-4e32-b728-2ba6cdf4112d\",\"type\":\"LogScale\"}},\"id\":\"fe0547fd-d0ea-4697-b740-402cd7419357\",\"subtype\":\"Figure\",\"type\":\"Plot\"},{\"attributes\":{},\"id\":\"d051d337-f5e0-41a4-8355-35a8afadf1a3\",\"type\":\"SaveTool\"},{\"attributes\":{\"active_drag\":\"auto\",\"active_inspect\":\"auto\",\"active_scroll\":\"auto\",\"active_tap\":\"auto\",\"tools\":[{\"id\":\"b65ea020-5c3a-487b-8239-10826fdfbcce\",\"type\":\"PanTool\"},{\"id\":\"912c772c-5bcb-451f-bb18-e84f0381e287\",\"type\":\"WheelZoomTool\"},{\"id\":\"21237b40-6a92-449c-8e2f-e250b530be3f\",\"type\":\"BoxZoomTool\"},{\"id\":\"5b1bf085-ecd8-4d9f-bb03-e4f72e6b1103\",\"type\":\"SaveTool\"},{\"id\":\"4b5b9408-911b-4a2e-82aa-e2129ee27bf5\",\"type\":\"ResetTool\"},{\"id\":\"f19779e4-632e-4835-82f7-32abe7fdd19e\",\"type\":\"HelpTool\"}]},\"id\":\"d78b138b-cd4b-40c5-9fb0-c5801108bf46\",\"type\":\"Toolbar\"},{\"attributes\":{\"callback\":null,\"data\":{\"x\":{\"__ndarray__\":\"c/YhIG2E8r403X3Tf6byvl+03gytz/K+l6i/BKf78r4p6g2Ekinzvo5JE0nkXfO+B1nVKDWZ877vQMklAt/zvi7taUlgMvS+cQOUocKZ9L4kS+9ZPBz1vsIVnuWFxPW+XZH/jcGg9r6INJsuDcT3voPViIAVC/m+K1ygyNU7+b4xmloQe1D2vmqEuUrzcuu+FaILuD3U1D4K98pHHEYFP6PD2wiwABw/geMn7V5kLD+DDCpeMgc1P2cH6xB80Dg/4vukiLD4Oj8gSZY355s6PyBcBodTOTg/iLMaoSVCMz+amtItj04kPzRvmw+X/RS/QrE8lS4WPr8dudSahBhRv1lYb9GbY1+/iWqyTGRCar9IBnXc9Jh1vxtwY6FAGYG/3PNuv4vdh79UPKpxobiMvy6MeNsaS4+/ijOYHP2DkL9YyBCLDgSRv4V2hl2fL5G/FgaIKWELkb+yESWtOqOQv4B4rAU1/Y+/ZXxT6QtHjr9I9OmzLi6Mv3l26qtau4m/kaDc3Lb0hr/oBsjo4N+Dv7N+V661g4C/Ug+5J3TIeb/CJC9HnAlyv6P+hECYnmO/ZNWNH/3CMb/vdC5fcxtgP0fJQmtyrnE/EdDGD2rGez/Fxd0ZVyeDP2+ItDc/mIg/1TQ+fxkNjj9MtbmrA5KRP66idCbDqpM/lIr2E/Y2lT9CwW7T/W6WP2PHP2Z5tJc/VIw1VHNWmT/4bD4q1XCbPw/N4f8z750/ZmEsLOhYoD9Rjoh9kNKhPx5LTfKLYaM/zw5BoPYFpT8Z6dDfB8SmPxgpvwUMpKg/\",\"dtype\":\"float64\",\"shape\":[75]},\"y\":{\"__ndarray__\":\"GhExyth1ND/Sv8nbtpRIP2vylNV0PVE/aTum7souWD/At0SJ8fVgPw3Iuahxymc/MSNhhJWvcD/bTfBN02d3P2zb5nxnaoA/CD5h5MAGhz8NmeH1TyaQP+zrCsc9p5Y/LbKd76fGnz/bLW5ISEmmPww9YvTcQq8/JV2OstnstT8Er5Y7M8G+P0c+r3jqkcU/5h99k6ZBzj88bCIzFzjVP4enV8oyxN0//yH99nXg5D8qOpLLf0jtP5kqGJXUifQ/c9cS8kHP/D+/DpwzojQEQIEmwoanVwxA4lgXt9HgE0BSSZ2AJuIbQAMJih9jjiNA5q4l5INuK0AwTKYKRj0zQNv5fmq8/DpAaCJseHrtQkB/+zpwzoxKQM3MzMzMeFJAZmZmZmZqWEAAAAAAAFxeQM3MzMzMJmJAmpmZmZkfZUBmZmZmZhhoQDMzMzMzEWtAAAAAAAAKbkBmZmZmZoFwQM3MzMzM/XFAMzMzMzN6c0CamZmZmfZ0QAAAAAAAc3ZAZmZmZmbvd0DNzMzMzGt5QDMzMzMz6HpAmpmZmZlkfEAAAAAAAOF9QGZmZmZmXX9AZmZmZuZsgECamZmZGSuBQM3MzMxM6YFAAAAAAICngkAzMzMzs2WDQGZmZmbmI4RAmpmZmRnihEDNzMzMTKCFQAAAAACAXoZAMzMzM7Mch0BmZmZm5tqHQJqZmZkZmYhAzczMzExXiUAAAAAAgBWKQDMzMzOz04pAZmZmZuaRi0CamZmZGVCMQM3MzMxMDo1AAAAAAIDMjUAzMzMzs4qOQGZmZmbmSI9A\",\"dtype\":\"float64\",\"shape\":[75]}},\"selected\":{\"id\":\"f6b49d04-91e2-4e5b-84a3-f4eb693b4356\",\"type\":\"Selection\"},\"selection_policy\":{\"id\":\"b836cf95-fe0b-4915-a153-467a018fb109\",\"type\":\"UnionRenderers\"}},\"id\":\"188b5dad-063e-4675-beac-28566049f0cb\",\"type\":\"ColumnDataSource\"},{\"attributes\":{\"fill_alpha\":{\"value\":0.1},\"fill_color\":{\"value\":\"#1f77b4\"},\"line_alpha\":{\"value\":0.1},\"line_color\":{\"value\":\"#1f77b4\"},\"x\":{\"field\":\"x\"},\"y\":{\"field\":\"y\"}},\"id\":\"75cc4c2c-a2a4-44b6-8346-3f6fbcd33f13\",\"type\":\"Triangle\"},{\"attributes\":{\"callback\":null,\"data\":{\"x\":{\"__ndarray__\":\"KsxCWKx08b4YOyl/lZ/xvtREO7K61fG+3gWdI2sS8r7HvIUBo1fyvkyKys3kqPK+LJS3YfsK877wBj0RsYTzvsjY8VpqH/S+B3Qb00Do9L4FlfCnZ/H1vprmhO0tVPe+v8Ge5sQz+b4Hb2AhIMT7vnrF2Yz+Pv+++5RQCYSCAb+1S7sQWNoCv0nlQXqd2AK/8xBnN2nu/763URoBh9Ptvpj3MjGr+/Y+J1B0KfWzFj+i3MySvEMiPyh783ki4iI/+2qm6q9nHT8vDIz6R4P7PqDtkMWUch6/uf4DIXm/Nb86g1Xp7V5Fv3M17Na2UVK/cfsAxB81Xb+Hz8UDKz5mv8FghfvLZXC/uyXjX56qd7/5hnf+yhGBv442/qxIOIi/aAsNZkGYj7+xRhDDG42Sv7RlwxHZRJS/oQNlL+h4lb8jRHgCATWWv8fITWU1g5a/jNyyxzRolr/BoTb4YvKVvyTMcOAuK5W/ceYVV64alL/Cgd9yNMiSvypfP+BbOpG/6gPlkLbsjr/tV10usgKLvynMe5xpwoa/34rD3w80gr+oeNMZDr56v7t8mDIxk3C/ZmTl37vJV790GkMrOWhUPwrueySCiXA/03Md9yVTfD9cPBVX6TOEP5toCZJ0Voo/ySowWgM4kD+IVgOhsByTP+FJFQnJqZU/fGGkqhjNlz8+xZpfB62ZP1B2JnkdjZs/LmpG8tSknT9ysFpAOASgP0NvqhsTVaE/Aq1R83u5oj//zGJagimkP+hxC6JdoaU/qkMGo6Yepz/PBvvXO6GoPz4yRrluKao/\",\"dtype\":\"float64\",\"shape\":[75]},\"y\":{\"__ndarray__\":\"GhExyth1ND/Sv8nbtpRIP2vylNV0PVE/aTum7souWD/At0SJ8fVgPw3Iuahxymc/MSNhhJWvcD/bTfBN02d3P2zb5nxnaoA/CD5h5MAGhz8NmeH1TyaQP+zrCsc9p5Y/LbKd76fGnz/bLW5ISEmmPww9YvTcQq8/JV2OstnstT8Er5Y7M8G+P0c+r3jqkcU/5h99k6ZBzj88bCIzFzjVP4enV8oyxN0//yH99nXg5D8qOpLLf0jtP5kqGJXUifQ/c9cS8kHP/D+/DpwzojQEQIEmwoanVwxA4lgXt9HgE0BSSZ2AJuIbQAMJih9jjiNA5q4l5INuK0AwTKYKRj0zQNv5fmq8/DpAaCJseHrtQkB/+zpwzoxKQM3MzMzMeFJAZmZmZmZqWEAAAAAAAFxeQM3MzMzMJmJAmpmZmZkfZUBmZmZmZhhoQDMzMzMzEWtAAAAAAAAKbkBmZmZmZoFwQM3MzMzM/XFAMzMzMzN6c0CamZmZmfZ0QAAAAAAAc3ZAZmZmZmbvd0DNzMzMzGt5QDMzMzMz6HpAmpmZmZlkfEAAAAAAAOF9QGZmZmZmXX9AZmZmZuZsgECamZmZGSuBQM3MzMxM6YFAAAAAAICngkAzMzMzs2WDQGZmZmbmI4RAmpmZmRnihEDNzMzMTKCFQAAAAACAXoZAMzMzM7Mch0BmZmZm5tqHQJqZmZkZmYhAzczMzExXiUAAAAAAgBWKQDMzMzOz04pAZmZmZuaRi0CamZmZGVCMQM3MzMxMDo1AAAAAAIDMjUAzMzMzs4qOQGZmZmbmSI9A\",\"dtype\":\"float64\",\"shape\":[75]}},\"selected\":{\"id\":\"fcb2d652-8e74-44af-bd0d-f3136c8e532d\",\"type\":\"Selection\"},\"selection_policy\":{\"id\":\"4ea9dcf4-ced7-4935-9a4b-d3d213f8a607\",\"type\":\"UnionRenderers\"}},\"id\":\"bc3ba5f9-08bc-4b41-8dff-a60c34cb1724\",\"type\":\"ColumnDataSource\"},{\"attributes\":{\"line_alpha\":0.6,\"line_color\":\"#984ea3\",\"line_width\":3,\"x\":{\"field\":\"x\"},\"y\":{\"field\":\"y\"}},\"id\":\"056874a5-c0e4-4e94-85db-6dc1929f3d61\",\"type\":\"Line\"},{\"attributes\":{\"source\":{\"id\":\"bc3ba5f9-08bc-4b41-8dff-a60c34cb1724\",\"type\":\"ColumnDataSource\"}},\"id\":\"058c7655-0d28-4c6c-b828-90bbed6d8c96\",\"type\":\"CDSView\"},{\"attributes\":{\"label\":{\"value\":\"CRD\"},\"renderers\":[{\"id\":\"67599433-f366-4b95-8e8d-2eace5b58a4a\",\"type\":\"GlyphRenderer\"},{\"id\":\"85161dae-14ce-4ec3-920e-19f8cac1eb52\",\"type\":\"GlyphRenderer\"}]},\"id\":\"72a35cb1-6b95-4bef-ba42-801197d1fa90\",\"type\":\"LegendItem\"},{\"attributes\":{\"callback\":null,\"end\":0.0006325327757,\"start\":-0.0219075502057},\"id\":\"9d6fa89b-291b-4961-8a1f-567b6c5120d9\",\"type\":\"Range1d\"},{\"attributes\":{\"label\":{\"value\":\"WGT igg=1\"},\"renderers\":[{\"id\":\"5a726098-9078-498d-af3a-dddb65d4843a\",\"type\":\"GlyphRenderer\"},{\"id\":\"a84a9432-cfef-472b-af91-3fd746964f05\",\"type\":\"GlyphRenderer\"}]},\"id\":\"9f26b81e-2a52-4284-9b54-66a1e7405422\",\"type\":\"LegendItem\"},{\"attributes\":{},\"id\":\"c66e5696-ef99-4aa1-9b47-7103d406ff37\",\"type\":\"LinearScale\"},{\"attributes\":{\"label\":{\"value\":\"WGT igg=10\"},\"renderers\":[{\"id\":\"51cc2c51-333e-4120-92fe-93343a7a2d28\",\"type\":\"GlyphRenderer\"},{\"id\":\"edf7ef3d-5d7e-44f7-a288-55a2ca432de5\",\"type\":\"GlyphRenderer\"}]},\"id\":\"05c10262-d294-4230-94b1-083827048b17\",\"type\":\"LegendItem\"},{\"attributes\":{\"bottom_units\":\"screen\",\"fill_alpha\":{\"value\":0.5},\"fill_color\":{\"value\":\"lightgrey\"},\"left_units\":\"screen\",\"level\":\"overlay\",\"line_alpha\":{\"value\":1.0},\"line_color\":{\"value\":\"black\"},\"line_dash\":[4,4],\"line_width\":{\"value\":2},\"plot\":null,\"render_mode\":\"css\",\"right_units\":\"screen\",\"top_units\":\"screen\"},\"id\":\"305045f4-40b0-4f35-a135-941690d5848f\",\"type\":\"BoxAnnotation\"},{\"attributes\":{\"items\":[{\"id\":\"84fc6c5e-5da1-4ed0-94a7-7921842d049f\",\"type\":\"LegendItem\"},{\"id\":\"852e9981-e8fe-4b40-9405-e84ab68c5e3c\",\"type\":\"LegendItem\"},{\"id\":\"d3d8cbf2-a6a5-4ae4-9738-9c660654c096\",\"type\":\"LegendItem\"}],\"label_text_font_size\":{\"value\":\"8pt\"},\"location\":\"top_center\",\"orientation\":\"horizontal\",\"plot\":{\"id\":\"fe0547fd-d0ea-4697-b740-402cd7419357\",\"subtype\":\"Figure\",\"type\":\"Plot\"}},\"id\":\"3940b0c9-43b1-490d-8469-5c64491ce7bf\",\"type\":\"Legend\"},{\"attributes\":{},\"id\":\"912c772c-5bcb-451f-bb18-e84f0381e287\",\"type\":\"WheelZoomTool\"},{\"attributes\":{},\"id\":\"c785f866-640e-4e32-b728-2ba6cdf4112d\",\"type\":\"LogScale\"},{\"attributes\":{\"axis_label\":\"cooling rate [K/day]\",\"formatter\":{\"id\":\"525ac1af-cc8c-447f-a77b-d8ededf24450\",\"type\":\"BasicTickFormatter\"},\"plot\":{\"id\":\"fe0547fd-d0ea-4697-b740-402cd7419357\",\"subtype\":\"Figure\",\"type\":\"Plot\"},\"ticker\":{\"id\":\"9d40e37a-9918-47ed-ad13-f64275432d53\",\"type\":\"BasicTicker\"}},\"id\":\"2854c227-8671-4a6a-8b10-547ddb192ddd\",\"type\":\"LinearAxis\"},{\"attributes\":{},\"id\":\"9d40e37a-9918-47ed-ad13-f64275432d53\",\"type\":\"BasicTicker\"},{\"attributes\":{\"overlay\":{\"id\":\"305045f4-40b0-4f35-a135-941690d5848f\",\"type\":\"BoxAnnotation\"}},\"id\":\"21237b40-6a92-449c-8e2f-e250b530be3f\",\"type\":\"BoxZoomTool\"},{\"attributes\":{},\"id\":\"5b1bf085-ecd8-4d9f-bb03-e4f72e6b1103\",\"type\":\"SaveTool\"},{\"attributes\":{},\"id\":\"4b5b9408-911b-4a2e-82aa-e2129ee27bf5\",\"type\":\"ResetTool\"},{\"attributes\":{},\"id\":\"f19779e4-632e-4835-82f7-32abe7fdd19e\",\"type\":\"HelpTool\"},{\"attributes\":{},\"id\":\"20b3b20f-128e-480d-be05-4f6d511624af\",\"type\":\"UnionRenderers\"},{\"attributes\":{\"callback\":null,\"data\":{\"x\":{\"__ndarray__\":\"c/YhIG2E8r403X3Tf6byvl+03gytz/K+l6i/BKf78r4p6g2Ekinzvo5JE0nkXfO+B1nVKDWZ877vQMklAt/zvi7taUlgMvS+cQOUocKZ9L4kS+9ZPBz1vsIVnuWFxPW+XZH/jcGg9r6INJsuDcT3voPViIAVC/m+K1ygyNU7+b4xmloQe1D2vmqEuUrzcuu+FaILuD3U1D4K98pHHEYFP6PD2wiwABw/geMn7V5kLD+DDCpeMgc1P2cH6xB80Dg/4vukiLD4Oj8gSZY355s6PyBcBodTOTg/iLMaoSVCMz+amtItj04kPzRvmw+X/RS/QrE8lS4WPr8dudSahBhRv1lYb9GbY1+/iWqyTGRCar9IBnXc9Jh1vxtwY6FAGYG/3PNuv4vdh79UPKpxobiMvy6MeNsaS4+/ijOYHP2DkL9YyBCLDgSRv4V2hl2fL5G/FgaIKWELkb+yESWtOqOQv4B4rAU1/Y+/ZXxT6QtHjr9I9OmzLi6Mv3l26qtau4m/kaDc3Lb0hr/oBsjo4N+Dv7N+V661g4C/Ug+5J3TIeb/CJC9HnAlyv6P+hECYnmO/ZNWNH/3CMb/vdC5fcxtgP0fJQmtyrnE/EdDGD2rGez/Fxd0ZVyeDP2+ItDc/mIg/1TQ+fxkNjj9MtbmrA5KRP66idCbDqpM/lIr2E/Y2lT9CwW7T/W6WP2PHP2Z5tJc/VIw1VHNWmT/4bD4q1XCbPw/N4f8z750/ZmEsLOhYoD9Rjoh9kNKhPx5LTfKLYaM/zw5BoPYFpT8Z6dDfB8SmPxgpvwUMpKg/\",\"dtype\":\"float64\",\"shape\":[75]},\"y\":{\"__ndarray__\":\"GhExyth1ND/Sv8nbtpRIP2vylNV0PVE/aTum7souWD/At0SJ8fVgPw3Iuahxymc/MSNhhJWvcD/bTfBN02d3P2zb5nxnaoA/CD5h5MAGhz8NmeH1TyaQP+zrCsc9p5Y/LbKd76fGnz/bLW5ISEmmPww9YvTcQq8/JV2OstnstT8Er5Y7M8G+P0c+r3jqkcU/5h99k6ZBzj88bCIzFzjVP4enV8oyxN0//yH99nXg5D8qOpLLf0jtP5kqGJXUifQ/c9cS8kHP/D+/DpwzojQEQIEmwoanVwxA4lgXt9HgE0BSSZ2AJuIbQAMJih9jjiNA5q4l5INuK0AwTKYKRj0zQNv5fmq8/DpAaCJseHrtQkB/+zpwzoxKQM3MzMzMeFJAZmZmZmZqWEAAAAAAAFxeQM3MzMzMJmJAmpmZmZkfZUBmZmZmZhhoQDMzMzMzEWtAAAAAAAAKbkBmZmZmZoFwQM3MzMzM/XFAMzMzMzN6c0CamZmZmfZ0QAAAAAAAc3ZAZmZmZmbvd0DNzMzMzGt5QDMzMzMz6HpAmpmZmZlkfEAAAAAAAOF9QGZmZmZmXX9AZmZmZuZsgECamZmZGSuBQM3MzMxM6YFAAAAAAICngkAzMzMzs2WDQGZmZmbmI4RAmpmZmRnihEDNzMzMTKCFQAAAAACAXoZAMzMzM7Mch0BmZmZm5tqHQJqZmZkZmYhAzczMzExXiUAAAAAAgBWKQDMzMzOz04pAZmZmZuaRi0CamZmZGVCMQM3MzMxMDo1AAAAAAIDMjUAzMzMzs4qOQGZmZmbmSI9A\",\"dtype\":\"float64\",\"shape\":[75]}},\"selected\":{\"id\":\"5a0fff40-cc2c-439f-aed6-089b6a47532b\",\"type\":\"Selection\"},\"selection_policy\":{\"id\":\"2138a485-449f-42d5-8f93-867e86fcea11\",\"type\":\"UnionRenderers\"}},\"id\":\"c7db67cb-34cf-4850-b1c3-3a6162202fd4\",\"type\":\"ColumnDataSource\"},{\"attributes\":{},\"id\":\"904ab4e2-49b5-4c35-a671-a8dc2a6fcb45\",\"type\":\"UnionRenderers\"},{\"attributes\":{},\"id\":\"c970e95b-a4c7-4305-9efb-560fecb6164b\",\"type\":\"Selection\"},{\"attributes\":{\"data_source\":{\"id\":\"55bce2e9-1a48-48ff-bd98-6c8371ad904d\",\"type\":\"ColumnDataSource\"},\"glyph\":{\"id\":\"f7061218-6dd2-42ba-9221-50568fdb98c2\",\"type\":\"Circle\"},\"hover_glyph\":null,\"muted_glyph\":null,\"nonselection_glyph\":{\"id\":\"b99a4aa8-b8e8-4b0c-9ff6-dc2d4f4629b5\",\"type\":\"Circle\"},\"selection_glyph\":null,\"view\":{\"id\":\"92d8f08d-6958-4380-a6de-9cbcd3ff1bb0\",\"type\":\"CDSView\"}},\"id\":\"67599433-f366-4b95-8e8d-2eace5b58a4a\",\"type\":\"GlyphRenderer\"},{\"attributes\":{},\"id\":\"0bf94b2a-b48e-44ef-aef7-63e9c0224fa8\",\"type\":\"Selection\"},{\"attributes\":{\"bottom_units\":\"screen\",\"fill_alpha\":{\"value\":0.5},\"fill_color\":{\"value\":\"lightgrey\"},\"left_units\":\"screen\",\"level\":\"overlay\",\"line_alpha\":{\"value\":1.0},\"line_color\":{\"value\":\"black\"},\"line_dash\":[4,4],\"line_width\":{\"value\":2},\"plot\":null,\"render_mode\":\"css\",\"right_units\":\"screen\",\"top_units\":\"screen\"},\"id\":\"b89e2ef8-443b-4ec9-a370-6bb6972cdfbd\",\"type\":\"BoxAnnotation\"},{\"attributes\":{\"active_drag\":\"auto\",\"active_inspect\":\"auto\",\"active_scroll\":\"auto\",\"active_tap\":\"auto\",\"tools\":[{\"id\":\"4625af61-1070-4dc3-ad9d-1f9c19a11720\",\"type\":\"PanTool\"},{\"id\":\"93184282-15e0-4e47-a34f-36df3e81ae57\",\"type\":\"WheelZoomTool\"},{\"id\":\"a4e0523b-bc3e-4d01-9644-9c7280a3b5b9\",\"type\":\"BoxZoomTool\"},{\"id\":\"d051d337-f5e0-41a4-8355-35a8afadf1a3\",\"type\":\"SaveTool\"},{\"id\":\"c2053ace-520b-4875-a3ec-4a5141e2e7b9\",\"type\":\"ResetTool\"},{\"id\":\"eec4c753-c363-443b-a6c1-b956c4f9593c\",\"type\":\"HelpTool\"}]},\"id\":\"35cd5a0a-fa7f-4813-9304-d0b2b60d881f\",\"type\":\"Toolbar\"},{\"attributes\":{\"items\":[{\"id\":\"72a35cb1-6b95-4bef-ba42-801197d1fa90\",\"type\":\"LegendItem\"},{\"id\":\"9f26b81e-2a52-4284-9b54-66a1e7405422\",\"type\":\"LegendItem\"},{\"id\":\"05c10262-d294-4230-94b1-083827048b17\",\"type\":\"LegendItem\"}],\"label_text_font_size\":{\"value\":\"8pt\"},\"location\":\"top_center\",\"orientation\":\"horizontal\",\"plot\":{\"id\":\"b20eefc0-3dbe-4889-a220-56652300b80c\",\"subtype\":\"Figure\",\"type\":\"Plot\"}},\"id\":\"8062b2af-7316-44d6-9f7f-dea246d27ebf\",\"type\":\"Legend\"},{\"attributes\":{},\"id\":\"4935cbe5-b506-4aa8-b31f-327baffa5217\",\"type\":\"Selection\"},{\"attributes\":{},\"id\":\"4625af61-1070-4dc3-ad9d-1f9c19a11720\",\"type\":\"PanTool\"},{\"attributes\":{\"line_color\":\"#4daf4a\",\"line_width\":1.5,\"x\":{\"field\":\"x\"},\"y\":{\"field\":\"y\"}},\"id\":\"6e935ce3-90b4-4548-a4b9-4c285129934a\",\"type\":\"Line\"},{\"attributes\":{\"above\":[{\"id\":\"8062b2af-7316-44d6-9f7f-dea246d27ebf\",\"type\":\"Legend\"}],\"below\":[{\"id\":\"11d8fc0f-0582-4f86-a16f-2df40d8f3b19\",\"type\":\"LinearAxis\"}],\"left\":[{\"id\":\"242fd9c2-986a-4088-a81d-e44238a6ad86\",\"type\":\"LinearAxis\"}],\"plot_height\":500,\"plot_width\":400,\"renderers\":[{\"id\":\"11d8fc0f-0582-4f86-a16f-2df40d8f3b19\",\"type\":\"LinearAxis\"},{\"id\":\"cc155ff6-bcf3-4e52-b3f3-4948e74ea6c5\",\"type\":\"Grid\"},{\"id\":\"242fd9c2-986a-4088-a81d-e44238a6ad86\",\"type\":\"LinearAxis\"},{\"id\":\"ca30040f-4162-4b0c-b86a-07b9854f47d5\",\"type\":\"Grid\"},{\"id\":\"b89e2ef8-443b-4ec9-a370-6bb6972cdfbd\",\"type\":\"BoxAnnotation\"},{\"id\":\"67599433-f366-4b95-8e8d-2eace5b58a4a\",\"type\":\"GlyphRenderer\"},{\"id\":\"85161dae-14ce-4ec3-920e-19f8cac1eb52\",\"type\":\"GlyphRenderer\"},{\"id\":\"5a726098-9078-498d-af3a-dddb65d4843a\",\"type\":\"GlyphRenderer\"},{\"id\":\"a84a9432-cfef-472b-af91-3fd746964f05\",\"type\":\"GlyphRenderer\"},{\"id\":\"51cc2c51-333e-4120-92fe-93343a7a2d28\",\"type\":\"GlyphRenderer\"},{\"id\":\"edf7ef3d-5d7e-44f7-a288-55a2ca432de5\",\"type\":\"GlyphRenderer\"},{\"id\":\"8062b2af-7316-44d6-9f7f-dea246d27ebf\",\"type\":\"Legend\"}],\"title\":{\"id\":\"dd8d1d23-ce42-4b99-bc64-2cc78c2fb51b\",\"type\":\"Title\"},\"toolbar\":{\"id\":\"35cd5a0a-fa7f-4813-9304-d0b2b60d881f\",\"type\":\"Toolbar\"},\"toolbar_location\":null,\"x_range\":{\"id\":\"2bd5a172-2c30-4c88-8d4a-4e0af1ace448\",\"type\":\"Range1d\"},\"x_scale\":{\"id\":\"1415dfdf-0c8c-4b1e-99b8-635c5c47a069\",\"type\":\"LinearScale\"},\"y_range\":{\"id\":\"b2cb787b-4baf-4907-8f04-041610044340\",\"type\":\"Range1d\"},\"y_scale\":{\"id\":\"db4ba16f-9e6e-4d86-b65f-9b37800753de\",\"type\":\"LinearScale\"}},\"id\":\"b20eefc0-3dbe-4889-a220-56652300b80c\",\"subtype\":\"Figure\",\"type\":\"Plot\"},{\"attributes\":{},\"id\":\"81b681a7-7dcb-4e32-8a49-da6839ff38d2\",\"type\":\"BasicTicker\"},{\"attributes\":{},\"id\":\"f6b49d04-91e2-4e5b-84a3-f4eb693b4356\",\"type\":\"Selection\"},{\"attributes\":{\"line_alpha\":0.1,\"line_color\":\"#1f77b4\",\"line_width\":1.5,\"x\":{\"field\":\"x\"},\"y\":{\"field\":\"y\"}},\"id\":\"b5f69a78-3f71-49cb-9f5c-cbc6dd8eada3\",\"type\":\"Line\"},{\"attributes\":{\"axis_label\":\"pressure [mb]\",\"formatter\":{\"id\":\"fc6b4d40-ebe7-4564-9c26-6108a7e9f061\",\"type\":\"BasicTickFormatter\"},\"plot\":{\"id\":\"b20eefc0-3dbe-4889-a220-56652300b80c\",\"subtype\":\"Figure\",\"type\":\"Plot\"},\"ticker\":{\"id\":\"7b4fcc73-fe90-44ee-a878-aafed22e47fb\",\"type\":\"BasicTicker\"}},\"id\":\"242fd9c2-986a-4088-a81d-e44238a6ad86\",\"type\":\"LinearAxis\"},{\"attributes\":{\"callback\":null,\"data\":{\"x\":{\"__ndarray__\":\"dMxBPwfl8L7C9TrdzQrxvrKHEIQzN/G+KyHCE1dp8b4tz3WPM6Pxvo2IjQD75/G+Fvg8Sj088r6W6pRNUabyvvForob6LvO+lCbEdGXi874neH1AetH0vjUW+aOeE/a+JqPlETfJ976UL2kd3Rz6vvPu23ms+fy+/6JHgCRF/76x3ibYikT/vsGCd607yfq+K5pXUE8/676w5aY0y0LvPoE4m5fobRI/oWSUEq+UJT+Mj0wQQC0wP+4NurKR5zE/ueibhmMhMT+uO0+NI0QpP970A1iRDRI/ZWCMZGmJIL+98dktDtY7v4TxLawxfEy/1VD+ALjRWL8+Nx43duxjv4VFCoOAZW6/mH4qK+SKdr9RZvDoYKyAv/jiAgUbLYi/GGmYkMXsj79DfOYAT8eSv9WZQ56ZapS/r6Mti+KFlb80ClHXPSaWv3YJ6VE6Vpa/KnOiRukelr9Tk+84lo6Vv7iUFNTHrpS/AjBml+SKk7/Dx10NGyiSv53UIJf7jpC/m1RQKy6Jjb8IQOZHH5qJv7NMt9NzXoW/EpY1SAHdgL+f/rZVNzh4v8DolL6Og2y/8PxpH+zrTr/KsGLdJZ1bP2E9VvYCD3I/XaBKLLWOfT8VHjS77q2EP4Mvr9DFroo/LqxQ4V5SkD/1SQVN/x2TP/oil7tzgZU/J0gjoVhnlz99Tt8K3/2YP/s6AzJamJo/r1zSxWR5nD9qyip5MLqeP9QWYuvVpKA/NzLRGJQGoj9+aHzllXmjP5iv12M++qQ/8B+bfGSHpj/miF5B+CKoPwweG4vq0Kk/\",\"dtype\":\"float64\",\"shape\":[75]},\"y\":{\"__ndarray__\":\"GhExyth1ND/Sv8nbtpRIP2vylNV0PVE/aTum7souWD/At0SJ8fVgPw3Iuahxymc/MSNhhJWvcD/bTfBN02d3P2zb5nxnaoA/CD5h5MAGhz8NmeH1TyaQP+zrCsc9p5Y/LbKd76fGnz/bLW5ISEmmPww9YvTcQq8/JV2OstnstT8Er5Y7M8G+P0c+r3jqkcU/5h99k6ZBzj88bCIzFzjVP4enV8oyxN0//yH99nXg5D8qOpLLf0jtP5kqGJXUifQ/c9cS8kHP/D+/DpwzojQEQIEmwoanVwxA4lgXt9HgE0BSSZ2AJuIbQAMJih9jjiNA5q4l5INuK0AwTKYKRj0zQNv5fmq8/DpAaCJseHrtQkB/+zpwzoxKQM3MzMzMeFJAZmZmZmZqWEAAAAAAAFxeQM3MzMzMJmJAmpmZmZkfZUBmZmZmZhhoQDMzMzMzEWtAAAAAAAAKbkBmZmZmZoFwQM3MzMzM/XFAMzMzMzN6c0CamZmZmfZ0QAAAAAAAc3ZAZmZmZmbvd0DNzMzMzGt5QDMzMzMz6HpAmpmZmZlkfEAAAAAAAOF9QGZmZmZmXX9AZmZmZuZsgECamZmZGSuBQM3MzMxM6YFAAAAAAICngkAzMzMzs2WDQGZmZmbmI4RAmpmZmRnihEDNzMzMTKCFQAAAAACAXoZAMzMzM7Mch0BmZmZm5tqHQJqZmZkZmYhAzczMzExXiUAAAAAAgBWKQDMzMzOz04pAZmZmZuaRi0CamZmZGVCMQM3MzMxMDo1AAAAAAIDMjUAzMzMzs4qOQGZmZmbmSI9A\",\"dtype\":\"float64\",\"shape\":[75]}},\"selected\":{\"id\":\"78e5eb94-8993-4dff-a904-f4d6e469c7c1\",\"type\":\"Selection\"},\"selection_policy\":{\"id\":\"99a1416c-f024-45ff-b384-1d742629f9b2\",\"type\":\"UnionRenderers\"}},\"id\":\"735636c3-bea8-4a47-a43e-038728ad0ba1\",\"type\":\"ColumnDataSource\"},{\"attributes\":{\"data_source\":{\"id\":\"c7db67cb-34cf-4850-b1c3-3a6162202fd4\",\"type\":\"ColumnDataSource\"},\"glyph\":{\"id\":\"29561d74-5b2d-4418-97c5-6738bd89c87b\",\"type\":\"Circle\"},\"hover_glyph\":null,\"muted_glyph\":null,\"nonselection_glyph\":{\"id\":\"d03213e8-b380-4295-91d6-0fd84b657a01\",\"type\":\"Circle\"},\"selection_glyph\":null,\"view\":{\"id\":\"00d550fb-3241-4f83-82a6-5cfca1da5c5f\",\"type\":\"CDSView\"}},\"id\":\"907f59b3-ccc7-4ed2-a196-d94b151d7097\",\"type\":\"GlyphRenderer\"},{\"attributes\":{\"axis_label\":\"cooling rate [K/day]\",\"formatter\":{\"id\":\"390c327c-ba56-44e2-b99d-3993869a84e9\",\"type\":\"BasicTickFormatter\"},\"plot\":{\"id\":\"b20eefc0-3dbe-4889-a220-56652300b80c\",\"subtype\":\"Figure\",\"type\":\"Plot\"},\"ticker\":{\"id\":\"81b681a7-7dcb-4e32-8a49-da6839ff38d2\",\"type\":\"BasicTicker\"}},\"id\":\"11d8fc0f-0582-4f86-a16f-2df40d8f3b19\",\"type\":\"LinearAxis\"},{\"attributes\":{\"data_source\":{\"id\":\"fa122e70-627f-439d-a11b-d91bd916d3a4\",\"type\":\"ColumnDataSource\"},\"glyph\":{\"id\":\"6e935ce3-90b4-4548-a4b9-4c285129934a\",\"type\":\"Line\"},\"hover_glyph\":null,\"muted_glyph\":null,\"nonselection_glyph\":{\"id\":\"b5f69a78-3f71-49cb-9f5c-cbc6dd8eada3\",\"type\":\"Line\"},\"selection_glyph\":null,\"view\":{\"id\":\"baa68e3b-2aa1-401b-8c22-b29adef936dd\",\"type\":\"CDSView\"}},\"id\":\"c95dba07-46be-4f2b-92c2-fc0a1ed93d82\",\"type\":\"GlyphRenderer\"},{\"attributes\":{\"plot\":{\"id\":\"b20eefc0-3dbe-4889-a220-56652300b80c\",\"subtype\":\"Figure\",\"type\":\"Plot\"},\"ticker\":{\"id\":\"81b681a7-7dcb-4e32-8a49-da6839ff38d2\",\"type\":\"BasicTicker\"}},\"id\":\"cc155ff6-bcf3-4e52-b3f3-4948e74ea6c5\",\"type\":\"Grid\"},{\"attributes\":{\"callback\":null,\"end\":0.01,\"start\":1020},\"id\":\"b2cb787b-4baf-4907-8f04-041610044340\",\"type\":\"Range1d\"},{\"attributes\":{},\"id\":\"db4ba16f-9e6e-4d86-b65f-9b37800753de\",\"type\":\"LinearScale\"},{\"attributes\":{},\"id\":\"1415dfdf-0c8c-4b1e-99b8-635c5c47a069\",\"type\":\"LinearScale\"},{\"attributes\":{},\"id\":\"7b4fcc73-fe90-44ee-a878-aafed22e47fb\",\"type\":\"BasicTicker\"},{\"attributes\":{\"overlay\":{\"id\":\"b89e2ef8-443b-4ec9-a370-6bb6972cdfbd\",\"type\":\"BoxAnnotation\"}},\"id\":\"a4e0523b-bc3e-4d01-9644-9c7280a3b5b9\",\"type\":\"BoxZoomTool\"},{\"attributes\":{\"callback\":null,\"end\":0.05182817751,\"start\":-0.02271571851},\"id\":\"2bd5a172-2c30-4c88-8d4a-4e0af1ace448\",\"type\":\"Range1d\"},{\"attributes\":{\"callback\":null,\"data\":{\"x\":{\"__ndarray__\":\"KsxCWKx08b4YOyl/lZ/xvtREO7K61fG+3gWdI2sS8r7HvIUBo1fyvkyKys3kqPK+LJS3YfsK877wBj0RsYTzvsjY8VpqH/S+B3Qb00Do9L4FlfCnZ/H1vprmhO0tVPe+v8Ge5sQz+b4Hb2AhIMT7vnrF2Yz+Pv+++5RQCYSCAb+1S7sQWNoCv0nlQXqd2AK/8xBnN2nu/763URoBh9Ptvpj3MjGr+/Y+J1B0KfWzFj+i3MySvEMiPyh783ki4iI/+2qm6q9nHT8vDIz6R4P7PqDtkMWUch6/uf4DIXm/Nb86g1Xp7V5Fv3M17Na2UVK/cfsAxB81Xb+Hz8UDKz5mv8FghfvLZXC/uyXjX56qd7/5hnf+yhGBv442/qxIOIi/aAsNZkGYj7+xRhDDG42Sv7RlwxHZRJS/oQNlL+h4lb8jRHgCATWWv8fITWU1g5a/jNyyxzRolr/BoTb4YvKVvyTMcOAuK5W/ceYVV64alL/Cgd9yNMiSvypfP+BbOpG/6gPlkLbsjr/tV10usgKLvynMe5xpwoa/34rD3w80gr+oeNMZDr56v7t8mDIxk3C/ZmTl37vJV790GkMrOWhUPwrueySCiXA/03Md9yVTfD9cPBVX6TOEP5toCZJ0Voo/ySowWgM4kD+IVgOhsByTP+FJFQnJqZU/fGGkqhjNlz8+xZpfB62ZP1B2JnkdjZs/LmpG8tSknT9ysFpAOASgP0NvqhsTVaE/Aq1R83u5oj//zGJagimkP+hxC6JdoaU/qkMGo6Yepz/PBvvXO6GoPz4yRrluKao/\",\"dtype\":\"float64\",\"shape\":[75]},\"y\":{\"__ndarray__\":\"GhExyth1ND/Sv8nbtpRIP2vylNV0PVE/aTum7souWD/At0SJ8fVgPw3Iuahxymc/MSNhhJWvcD/bTfBN02d3P2zb5nxnaoA/CD5h5MAGhz8NmeH1TyaQP+zrCsc9p5Y/LbKd76fGnz/bLW5ISEmmPww9YvTcQq8/JV2OstnstT8Er5Y7M8G+P0c+r3jqkcU/5h99k6ZBzj88bCIzFzjVP4enV8oyxN0//yH99nXg5D8qOpLLf0jtP5kqGJXUifQ/c9cS8kHP/D+/DpwzojQEQIEmwoanVwxA4lgXt9HgE0BSSZ2AJuIbQAMJih9jjiNA5q4l5INuK0AwTKYKRj0zQNv5fmq8/DpAaCJseHrtQkB/+zpwzoxKQM3MzMzMeFJAZmZmZmZqWEAAAAAAAFxeQM3MzMzMJmJAmpmZmZkfZUBmZmZmZhhoQDMzMzMzEWtAAAAAAAAKbkBmZmZmZoFwQM3MzMzM/XFAMzMzMzN6c0CamZmZmfZ0QAAAAAAAc3ZAZmZmZmbvd0DNzMzMzGt5QDMzMzMz6HpAmpmZmZlkfEAAAAAAAOF9QGZmZmZmXX9AZmZmZuZsgECamZmZGSuBQM3MzMxM6YFAAAAAAICngkAzMzMzs2WDQGZmZmbmI4RAmpmZmRnihEDNzMzMTKCFQAAAAACAXoZAMzMzM7Mch0BmZmZm5tqHQJqZmZkZmYhAzczMzExXiUAAAAAAgBWKQDMzMzOz04pAZmZmZuaRi0CamZmZGVCMQM3MzMxMDo1AAAAAAIDMjUAzMzMzs4qOQGZmZmbmSI9A\",\"dtype\":\"float64\",\"shape\":[75]}},\"selected\":{\"id\":\"f965676e-7247-4ac9-914b-a07badfde39e\",\"type\":\"Selection\"},\"selection_policy\":{\"id\":\"475b1d11-643d-4b9f-ab09-e7c2c8e63a21\",\"type\":\"UnionRenderers\"}},\"id\":\"cb6c573f-b26e-4c81-a02c-af440efc8e72\",\"type\":\"ColumnDataSource\"},{\"attributes\":{},\"id\":\"e3a5e773-f7f9-4b05-b0a8-a5c8e646ec7c\",\"type\":\"UnionRenderers\"},{\"attributes\":{\"source\":{\"id\":\"c7db67cb-34cf-4850-b1c3-3a6162202fd4\",\"type\":\"ColumnDataSource\"}},\"id\":\"00d550fb-3241-4f83-82a6-5cfca1da5c5f\",\"type\":\"CDSView\"},{\"attributes\":{\"fill_alpha\":{\"value\":0.1},\"fill_color\":{\"value\":\"#1f77b4\"},\"line_alpha\":{\"value\":0.1},\"line_color\":{\"value\":\"#1f77b4\"},\"x\":{\"field\":\"x\"},\"y\":{\"field\":\"y\"}},\"id\":\"d03213e8-b380-4295-91d6-0fd84b657a01\",\"type\":\"Circle\"},{\"attributes\":{\"line_alpha\":0.6,\"line_color\":\"#984ea3\",\"line_width\":3,\"x\":{\"field\":\"x\"},\"y\":{\"field\":\"y\"}},\"id\":\"8f0a05c0-0427-40e8-afea-185d82c2b0ab\",\"type\":\"Line\"},{\"attributes\":{\"data_source\":{\"id\":\"735636c3-bea8-4a47-a43e-038728ad0ba1\",\"type\":\"ColumnDataSource\"},\"glyph\":{\"id\":\"0c8855c9-2ebb-48a3-b16f-aa5e5e2f7c49\",\"type\":\"Square\"},\"hover_glyph\":null,\"muted_glyph\":null,\"nonselection_glyph\":{\"id\":\"5f23cd83-5d79-4751-8bab-5b5b8650818a\",\"type\":\"Square\"},\"selection_glyph\":null,\"view\":{\"id\":\"c88f8d27-7c8e-4a73-b3e3-437332b7b3c4\",\"type\":\"CDSView\"}},\"id\":\"bf6aa2b9-2bfc-4ff4-9972-9ea40260e389\",\"type\":\"GlyphRenderer\"},{\"attributes\":{\"plot\":{\"id\":\"fe0547fd-d0ea-4697-b740-402cd7419357\",\"subtype\":\"Figure\",\"type\":\"Plot\"},\"ticker\":{\"id\":\"9d40e37a-9918-47ed-ad13-f64275432d53\",\"type\":\"BasicTicker\"}},\"id\":\"714df96d-d498-4dec-936e-f612b1152c42\",\"type\":\"Grid\"},{\"attributes\":{\"axis_label\":\"pressure [mb]\",\"formatter\":{\"id\":\"299a214a-c6ee-4db6-8f54-9d188cae939a\",\"type\":\"LogTickFormatter\"},\"plot\":{\"id\":\"fe0547fd-d0ea-4697-b740-402cd7419357\",\"subtype\":\"Figure\",\"type\":\"Plot\"},\"ticker\":{\"id\":\"305e06db-7ec6-425f-91c0-05ed9697328e\",\"type\":\"LogTicker\"}},\"id\":\"cddb7253-6537-4421-ac2f-cd68da23d5dd\",\"type\":\"LogAxis\"},{\"attributes\":{\"fill_alpha\":{\"value\":0.1},\"fill_color\":{\"value\":\"#1f77b4\"},\"line_alpha\":{\"value\":0.1},\"line_color\":{\"value\":\"#1f77b4\"},\"x\":{\"field\":\"x\"},\"y\":{\"field\":\"y\"}},\"id\":\"5f23cd83-5d79-4751-8bab-5b5b8650818a\",\"type\":\"Square\"},{\"attributes\":{},\"id\":\"93184282-15e0-4e47-a34f-36df3e81ae57\",\"type\":\"WheelZoomTool\"},{\"attributes\":{\"fill_alpha\":{\"value\":0.7},\"fill_color\":{\"value\":\"#984ea3\"},\"line_alpha\":{\"value\":0.7},\"line_color\":{\"value\":\"#984ea3\"},\"x\":{\"field\":\"x\"},\"y\":{\"field\":\"y\"}},\"id\":\"0c8855c9-2ebb-48a3-b16f-aa5e5e2f7c49\",\"type\":\"Square\"},{\"attributes\":{\"dimension\":1,\"plot\":{\"id\":\"b20eefc0-3dbe-4889-a220-56652300b80c\",\"subtype\":\"Figure\",\"type\":\"Plot\"},\"ticker\":{\"id\":\"7b4fcc73-fe90-44ee-a878-aafed22e47fb\",\"type\":\"BasicTicker\"}},\"id\":\"ca30040f-4162-4b0c-b86a-07b9854f47d5\",\"type\":\"Grid\"},{\"attributes\":{\"callback\":null,\"data\":{\"x\":{\"__ndarray__\":\"c/YhIG2E8r403X3Tf6byvl+03gytz/K+l6i/BKf78r4p6g2Ekinzvo5JE0nkXfO+B1nVKDWZ877vQMklAt/zvi7taUlgMvS+cQOUocKZ9L4kS+9ZPBz1vsIVnuWFxPW+XZH/jcGg9r6INJsuDcT3voPViIAVC/m+K1ygyNU7+b4xmloQe1D2vmqEuUrzcuu+FaILuD3U1D4K98pHHEYFP6PD2wiwABw/geMn7V5kLD+DDCpeMgc1P2cH6xB80Dg/4vukiLD4Oj8gSZY355s6PyBcBodTOTg/iLMaoSVCMz+amtItj04kPzRvmw+X/RS/QrE8lS4WPr8dudSahBhRv1lYb9GbY1+/iWqyTGRCar9IBnXc9Jh1vxtwY6FAGYG/3PNuv4vdh79UPKpxobiMvy6MeNsaS4+/ijOYHP2DkL9YyBCLDgSRv4V2hl2fL5G/FgaIKWELkb+yESWtOqOQv4B4rAU1/Y+/ZXxT6QtHjr9I9OmzLi6Mv3l26qtau4m/kaDc3Lb0hr/oBsjo4N+Dv7N+V661g4C/Ug+5J3TIeb/CJC9HnAlyv6P+hECYnmO/ZNWNH/3CMb/vdC5fcxtgP0fJQmtyrnE/EdDGD2rGez/Fxd0ZVyeDP2+ItDc/mIg/1TQ+fxkNjj9MtbmrA5KRP66idCbDqpM/lIr2E/Y2lT9CwW7T/W6WP2PHP2Z5tJc/VIw1VHNWmT/4bD4q1XCbPw/N4f8z750/ZmEsLOhYoD9Rjoh9kNKhPx5LTfKLYaM/zw5BoPYFpT8Z6dDfB8SmPxgpvwUMpKg/\",\"dtype\":\"float64\",\"shape\":[75]},\"y\":{\"__ndarray__\":\"GhExyth1ND/Sv8nbtpRIP2vylNV0PVE/aTum7souWD/At0SJ8fVgPw3Iuahxymc/MSNhhJWvcD/bTfBN02d3P2zb5nxnaoA/CD5h5MAGhz8NmeH1TyaQP+zrCsc9p5Y/LbKd76fGnz/bLW5ISEmmPww9YvTcQq8/JV2OstnstT8Er5Y7M8G+P0c+r3jqkcU/5h99k6ZBzj88bCIzFzjVP4enV8oyxN0//yH99nXg5D8qOpLLf0jtP5kqGJXUifQ/c9cS8kHP/D+/DpwzojQEQIEmwoanVwxA4lgXt9HgE0BSSZ2AJuIbQAMJih9jjiNA5q4l5INuK0AwTKYKRj0zQNv5fmq8/DpAaCJseHrtQkB/+zpwzoxKQM3MzMzMeFJAZmZmZmZqWEAAAAAAAFxeQM3MzMzMJmJAmpmZmZkfZUBmZmZmZhhoQDMzMzMzEWtAAAAAAAAKbkBmZmZmZoFwQM3MzMzM/XFAMzMzMzN6c0CamZmZmfZ0QAAAAAAAc3ZAZmZmZmbvd0DNzMzMzGt5QDMzMzMz6HpAmpmZmZlkfEAAAAAAAOF9QGZmZmZmXX9AZmZmZuZsgECamZmZGSuBQM3MzMxM6YFAAAAAAICngkAzMzMzs2WDQGZmZmbmI4RAmpmZmRnihEDNzMzMTKCFQAAAAACAXoZAMzMzM7Mch0BmZmZm5tqHQJqZmZkZmYhAzczMzExXiUAAAAAAgBWKQDMzMzOz04pAZmZmZuaRi0CamZmZGVCMQM3MzMxMDo1AAAAAAIDMjUAzMzMzs4qOQGZmZmbmSI9A\",\"dtype\":\"float64\",\"shape\":[75]}},\"selected\":{\"id\":\"de19f2cb-d55a-4d79-ba26-483a462bf01a\",\"type\":\"Selection\"},\"selection_policy\":{\"id\":\"64423025-03a6-47b9-9201-282a3b2459a9\",\"type\":\"UnionRenderers\"}},\"id\":\"fa122e70-627f-439d-a11b-d91bd916d3a4\",\"type\":\"ColumnDataSource\"},{\"attributes\":{\"source\":{\"id\":\"719db8d6-ea78-4c69-a454-114e3d58d1d4\",\"type\":\"ColumnDataSource\"}},\"id\":\"b12bc888-9c35-4499-82d6-75756136d5bf\",\"type\":\"CDSView\"},{\"attributes\":{\"line_alpha\":0.1,\"line_color\":\"#1f77b4\",\"line_width\":3,\"x\":{\"field\":\"x\"},\"y\":{\"field\":\"y\"}},\"id\":\"650a5b4f-d4aa-4b16-bfe7-122479470659\",\"type\":\"Line\"},{\"attributes\":{\"fill_alpha\":{\"value\":0.7},\"fill_color\":{\"value\":\"#377eb8\"},\"line_alpha\":{\"value\":0.7},\"line_color\":{\"value\":\"#377eb8\"},\"x\":{\"field\":\"x\"},\"y\":{\"field\":\"y\"}},\"id\":\"3ab979be-d9d7-4e6a-86ee-33835203882b\",\"type\":\"Triangle\"},{\"attributes\":{\"source\":{\"id\":\"fa122e70-627f-439d-a11b-d91bd916d3a4\",\"type\":\"ColumnDataSource\"}},\"id\":\"baa68e3b-2aa1-401b-8c22-b29adef936dd\",\"type\":\"CDSView\"},{\"attributes\":{\"source\":{\"id\":\"735636c3-bea8-4a47-a43e-038728ad0ba1\",\"type\":\"ColumnDataSource\"}},\"id\":\"c88f8d27-7c8e-4a73-b3e3-437332b7b3c4\",\"type\":\"CDSView\"},{\"attributes\":{\"data_source\":{\"id\":\"719db8d6-ea78-4c69-a454-114e3d58d1d4\",\"type\":\"ColumnDataSource\"},\"glyph\":{\"id\":\"8f0a05c0-0427-40e8-afea-185d82c2b0ab\",\"type\":\"Line\"},\"hover_glyph\":null,\"muted_glyph\":null,\"nonselection_glyph\":{\"id\":\"650a5b4f-d4aa-4b16-bfe7-122479470659\",\"type\":\"Line\"},\"selection_glyph\":null,\"view\":{\"id\":\"b12bc888-9c35-4499-82d6-75756136d5bf\",\"type\":\"CDSView\"}},\"id\":\"1f94956c-b533-4b88-ad20-a7ced6fbff60\",\"type\":\"GlyphRenderer\"},{\"attributes\":{\"fill_alpha\":{\"value\":0.7},\"fill_color\":{\"value\":\"#4daf4a\"},\"line_alpha\":{\"value\":0.7},\"line_color\":{\"value\":\"#4daf4a\"},\"x\":{\"field\":\"x\"},\"y\":{\"field\":\"y\"}},\"id\":\"29561d74-5b2d-4418-97c5-6738bd89c87b\",\"type\":\"Circle\"},{\"attributes\":{\"callback\":null,\"data\":{\"x\":{\"__ndarray__\":\"dMxBPwfl8L7C9TrdzQrxvrKHEIQzN/G+KyHCE1dp8b4tz3WPM6Pxvo2IjQD75/G+Fvg8Sj088r6W6pRNUabyvvForob6LvO+lCbEdGXi874neH1AetH0vjUW+aOeE/a+JqPlETfJ976UL2kd3Rz6vvPu23ms+fy+/6JHgCRF/76x3ibYikT/vsGCd607yfq+K5pXUE8/676w5aY0y0LvPoE4m5fobRI/oWSUEq+UJT+Mj0wQQC0wP+4NurKR5zE/ueibhmMhMT+uO0+NI0QpP970A1iRDRI/ZWCMZGmJIL+98dktDtY7v4TxLawxfEy/1VD+ALjRWL8+Nx43duxjv4VFCoOAZW6/mH4qK+SKdr9RZvDoYKyAv/jiAgUbLYi/GGmYkMXsj79DfOYAT8eSv9WZQ56ZapS/r6Mti+KFlb80ClHXPSaWv3YJ6VE6Vpa/KnOiRukelr9Tk+84lo6Vv7iUFNTHrpS/AjBml+SKk7/Dx10NGyiSv53UIJf7jpC/m1RQKy6Jjb8IQOZHH5qJv7NMt9NzXoW/EpY1SAHdgL+f/rZVNzh4v8DolL6Og2y/8PxpH+zrTr/KsGLdJZ1bP2E9VvYCD3I/XaBKLLWOfT8VHjS77q2EP4Mvr9DFroo/LqxQ4V5SkD/1SQVN/x2TP/oil7tzgZU/J0gjoVhnlz99Tt8K3/2YP/s6AzJamJo/r1zSxWR5nD9qyip5MLqeP9QWYuvVpKA/NzLRGJQGoj9+aHzllXmjP5iv12M++qQ/8B+bfGSHpj/miF5B+CKoPwweG4vq0Kk/\",\"dtype\":\"float64\",\"shape\":[75]},\"y\":{\"__ndarray__\":\"GhExyth1ND/Sv8nbtpRIP2vylNV0PVE/aTum7souWD/At0SJ8fVgPw3Iuahxymc/MSNhhJWvcD/bTfBN02d3P2zb5nxnaoA/CD5h5MAGhz8NmeH1TyaQP+zrCsc9p5Y/LbKd76fGnz/bLW5ISEmmPww9YvTcQq8/JV2OstnstT8Er5Y7M8G+P0c+r3jqkcU/5h99k6ZBzj88bCIzFzjVP4enV8oyxN0//yH99nXg5D8qOpLLf0jtP5kqGJXUifQ/c9cS8kHP/D+/DpwzojQEQIEmwoanVwxA4lgXt9HgE0BSSZ2AJuIbQAMJih9jjiNA5q4l5INuK0AwTKYKRj0zQNv5fmq8/DpAaCJseHrtQkB/+zpwzoxKQM3MzMzMeFJAZmZmZmZqWEAAAAAAAFxeQM3MzMzMJmJAmpmZmZkfZUBmZmZmZhhoQDMzMzMzEWtAAAAAAAAKbkBmZmZmZoFwQM3MzMzM/XFAMzMzMzN6c0CamZmZmfZ0QAAAAAAAc3ZAZmZmZmbvd0DNzMzMzGt5QDMzMzMz6HpAmpmZmZlkfEAAAAAAAOF9QGZmZmZmXX9AZmZmZuZsgECamZmZGSuBQM3MzMxM6YFAAAAAAICngkAzMzMzs2WDQGZmZmbmI4RAmpmZmRnihEDNzMzMTKCFQAAAAACAXoZAMzMzM7Mch0BmZmZm5tqHQJqZmZkZmYhAzczMzExXiUAAAAAAgBWKQDMzMzOz04pAZmZmZuaRi0CamZmZGVCMQM3MzMxMDo1AAAAAAIDMjUAzMzMzs4qOQGZmZmbmSI9A\",\"dtype\":\"float64\",\"shape\":[75]}},\"selected\":{\"id\":\"5523fc2d-b070-4e66-886b-c49fe5a227b5\",\"type\":\"Selection\"},\"selection_policy\":{\"id\":\"14d0fefd-49e5-4194-9adc-f66cec1d37b8\",\"type\":\"UnionRenderers\"}},\"id\":\"719db8d6-ea78-4c69-a454-114e3d58d1d4\",\"type\":\"ColumnDataSource\"},{\"attributes\":{},\"id\":\"b836cf95-fe0b-4915-a153-467a018fb109\",\"type\":\"UnionRenderers\"},{\"attributes\":{\"dimension\":1,\"plot\":{\"id\":\"fe0547fd-d0ea-4697-b740-402cd7419357\",\"subtype\":\"Figure\",\"type\":\"Plot\"},\"ticker\":{\"id\":\"305e06db-7ec6-425f-91c0-05ed9697328e\",\"type\":\"LogTicker\"}},\"id\":\"30b13395-3850-424c-b49c-bc689442ff7d\",\"type\":\"Grid\"},{\"attributes\":{\"num_minor_ticks\":10},\"id\":\"305e06db-7ec6-425f-91c0-05ed9697328e\",\"type\":\"LogTicker\"},{\"attributes\":{\"fill_alpha\":{\"value\":0.1},\"fill_color\":{\"value\":\"#1f77b4\"},\"line_alpha\":{\"value\":0.1},\"line_color\":{\"value\":\"#1f77b4\"},\"x\":{\"field\":\"x\"},\"y\":{\"field\":\"y\"}},\"id\":\"b99a4aa8-b8e8-4b0c-9ff6-dc2d4f4629b5\",\"type\":\"Circle\"},{\"attributes\":{\"source\":{\"id\":\"55bce2e9-1a48-48ff-bd98-6c8371ad904d\",\"type\":\"ColumnDataSource\"}},\"id\":\"92d8f08d-6958-4380-a6de-9cbcd3ff1bb0\",\"type\":\"CDSView\"},{\"attributes\":{\"fill_alpha\":{\"value\":0.7},\"fill_color\":{\"value\":\"#4daf4a\"},\"line_alpha\":{\"value\":0.7},\"line_color\":{\"value\":\"#4daf4a\"},\"x\":{\"field\":\"x\"},\"y\":{\"field\":\"y\"}},\"id\":\"f7061218-6dd2-42ba-9221-50568fdb98c2\",\"type\":\"Circle\"},{\"attributes\":{\"callback\":null,\"data\":{\"x\":{\"__ndarray__\":\"c/YhIG2E8r403X3Tf6byvl+03gytz/K+l6i/BKf78r4p6g2Ekinzvo5JE0nkXfO+B1nVKDWZ877vQMklAt/zvi7taUlgMvS+cQOUocKZ9L4kS+9ZPBz1vsIVnuWFxPW+XZH/jcGg9r6INJsuDcT3voPViIAVC/m+K1ygyNU7+b4xmloQe1D2vmqEuUrzcuu+FaILuD3U1D4K98pHHEYFP6PD2wiwABw/geMn7V5kLD+DDCpeMgc1P2cH6xB80Dg/4vukiLD4Oj8gSZY355s6PyBcBodTOTg/iLMaoSVCMz+amtItj04kPzRvmw+X/RS/QrE8lS4WPr8dudSahBhRv1lYb9GbY1+/iWqyTGRCar9IBnXc9Jh1vxtwY6FAGYG/3PNuv4vdh79UPKpxobiMvy6MeNsaS4+/ijOYHP2DkL9YyBCLDgSRv4V2hl2fL5G/FgaIKWELkb+yESWtOqOQv4B4rAU1/Y+/ZXxT6QtHjr9I9OmzLi6Mv3l26qtau4m/kaDc3Lb0hr/oBsjo4N+Dv7N+V661g4C/Ug+5J3TIeb/CJC9HnAlyv6P+hECYnmO/ZNWNH/3CMb/vdC5fcxtgP0fJQmtyrnE/EdDGD2rGez/Fxd0ZVyeDP2+ItDc/mIg/1TQ+fxkNjj9MtbmrA5KRP66idCbDqpM/lIr2E/Y2lT9CwW7T/W6WP2PHP2Z5tJc/VIw1VHNWmT/4bD4q1XCbPw/N4f8z750/ZmEsLOhYoD9Rjoh9kNKhPx5LTfKLYaM/zw5BoPYFpT8Z6dDfB8SmPxgpvwUMpKg/\",\"dtype\":\"float64\",\"shape\":[75]},\"y\":{\"__ndarray__\":\"GhExyth1ND/Sv8nbtpRIP2vylNV0PVE/aTum7souWD/At0SJ8fVgPw3Iuahxymc/MSNhhJWvcD/bTfBN02d3P2zb5nxnaoA/CD5h5MAGhz8NmeH1TyaQP+zrCsc9p5Y/LbKd76fGnz/bLW5ISEmmPww9YvTcQq8/JV2OstnstT8Er5Y7M8G+P0c+r3jqkcU/5h99k6ZBzj88bCIzFzjVP4enV8oyxN0//yH99nXg5D8qOpLLf0jtP5kqGJXUifQ/c9cS8kHP/D+/DpwzojQEQIEmwoanVwxA4lgXt9HgE0BSSZ2AJuIbQAMJih9jjiNA5q4l5INuK0AwTKYKRj0zQNv5fmq8/DpAaCJseHrtQkB/+zpwzoxKQM3MzMzMeFJAZmZmZmZqWEAAAAAAAFxeQM3MzMzMJmJAmpmZmZkfZUBmZmZmZhhoQDMzMzMzEWtAAAAAAAAKbkBmZmZmZoFwQM3MzMzM/XFAMzMzMzN6c0CamZmZmfZ0QAAAAAAAc3ZAZmZmZmbvd0DNzMzMzGt5QDMzMzMz6HpAmpmZmZlkfEAAAAAAAOF9QGZmZmZmXX9AZmZmZuZsgECamZmZGSuBQM3MzMxM6YFAAAAAAICngkAzMzMzs2WDQGZmZmbmI4RAmpmZmRnihEDNzMzMTKCFQAAAAACAXoZAMzMzM7Mch0BmZmZm5tqHQJqZmZkZmYhAzczMzExXiUAAAAAAgBWKQDMzMzOz04pAZmZmZuaRi0CamZmZGVCMQM3MzMxMDo1AAAAAAIDMjUAzMzMzs4qOQGZmZmbmSI9A\",\"dtype\":\"float64\",\"shape\":[75]}},\"selected\":{\"id\":\"37fb4d95-c9e0-4bf7-b860-4c004827151f\",\"type\":\"Selection\"},\"selection_policy\":{\"id\":\"0c592e2d-4474-454f-9778-9a569329ccba\",\"type\":\"UnionRenderers\"}},\"id\":\"55bce2e9-1a48-48ff-bd98-6c8371ad904d\",\"type\":\"ColumnDataSource\"}],\"root_ids\":[\"f51d5fa2-5eae-4057-8a5e-ce02ef0f166f\"]},\"title\":\"Bokeh Application\",\"version\":\"0.12.16\"}};\n",
       "  var render_items = [{\"docid\":\"f2d94516-356e-4b1a-94c4-03aa79110c4d\",\"elementid\":\"f4f353ff-3bcd-418a-8020-3a3510c2ae83\",\"modelid\":\"f51d5fa2-5eae-4057-8a5e-ce02ef0f166f\"}];\n",
       "  root.Bokeh.embed.embed_items_notebook(docs_json, render_items);\n",
       "\n",
       "  }\n",
       "  if (root.Bokeh !== undefined) {\n",
       "    embed_document(root);\n",
       "  } else {\n",
       "    var attempts = 0;\n",
       "    var timer = setInterval(function(root) {\n",
       "      if (root.Bokeh !== undefined) {\n",
       "        embed_document(root);\n",
       "        clearInterval(timer);\n",
       "      }\n",
       "      attempts++;\n",
       "      if (attempts > 100) {\n",
       "        console.log(\"Bokeh: ERROR: Unable to run BokehJS code because BokehJS library is missing\")\n",
       "        clearInterval(timer);\n",
       "      }\n",
       "    }, 10, root)\n",
       "  }\n",
       "})(window);"
      ],
      "application/vnd.bokehjs_exec.v0+json": ""
     },
     "metadata": {
      "application/vnd.bokehjs_exec.v0+json": {
       "id": "f51d5fa2-5eae-4057-8a5e-ce02ef0f166f"
      }
     },
     "output_type": "display_data"
    },
    {
     "data": {
      "text/markdown": [
       "*FIGURE.* Cooling rates. g=3"
      ],
      "text/plain": [
       "<IPython.core.display.Markdown object>"
      ]
     },
     "metadata": {},
     "output_type": "display_data"
    },
    {
     "data": {
      "text/html": [
       "\n",
       "<div class=\"bk-root\">\n",
       "    <div class=\"bk-plotdiv\" id=\"52f863bf-8eeb-4249-9484-e4cace586e6d\"></div>\n",
       "</div>"
      ]
     },
     "metadata": {},
     "output_type": "display_data"
    },
    {
     "data": {
      "application/javascript": [
       "(function(root) {\n",
       "  function embed_document(root) {\n",
       "    \n",
       "  var docs_json = {\"6f5a8d14-10e3-471b-aeb1-ebeb0e9cd68c\":{\"roots\":{\"references\":[{\"attributes\":{\"callback\":null,\"end\":0.01,\"start\":1020},\"id\":\"6f0e29c7-e380-4fe1-ad7d-9236420258b6\",\"type\":\"Range1d\"},{\"attributes\":{\"line_alpha\":0.1,\"line_color\":\"#1f77b4\",\"line_width\":1.5,\"x\":{\"field\":\"x\"},\"y\":{\"field\":\"y\"}},\"id\":\"24383f6c-ca8f-42c0-83ac-337349fe74af\",\"type\":\"Line\"},{\"attributes\":{},\"id\":\"371c6fe8-f6f1-4da1-8b6f-a1c46a0cde0c\",\"type\":\"PanTool\"},{\"attributes\":{\"data_source\":{\"id\":\"93dde5e0-4396-4d29-bf9d-be26e021fa8a\",\"type\":\"ColumnDataSource\"},\"glyph\":{\"id\":\"ba4cb6a8-aa6e-4da1-bf61-b40045132c21\",\"type\":\"Line\"},\"hover_glyph\":null,\"muted_glyph\":null,\"nonselection_glyph\":{\"id\":\"dcfd5081-e3d4-4d30-a08a-13a24e469fd9\",\"type\":\"Line\"},\"selection_glyph\":null,\"view\":{\"id\":\"6cfa743d-b760-41e6-8e9d-16016bca986a\",\"type\":\"CDSView\"}},\"id\":\"0d03d738-0526-4517-9bec-5900da3801e8\",\"type\":\"GlyphRenderer\"},{\"attributes\":{\"source\":{\"id\":\"93dde5e0-4396-4d29-bf9d-be26e021fa8a\",\"type\":\"ColumnDataSource\"}},\"id\":\"6cfa743d-b760-41e6-8e9d-16016bca986a\",\"type\":\"CDSView\"},{\"attributes\":{\"source\":{\"id\":\"9201b09f-4058-45d7-b4f1-b2f57ca43f62\",\"type\":\"ColumnDataSource\"}},\"id\":\"185fcd17-aae0-4d8c-b9e3-b2f08db880a4\",\"type\":\"CDSView\"},{\"attributes\":{\"data_source\":{\"id\":\"9201b09f-4058-45d7-b4f1-b2f57ca43f62\",\"type\":\"ColumnDataSource\"},\"glyph\":{\"id\":\"4df809e2-4713-4197-847a-be9b3b1ee0b7\",\"type\":\"Line\"},\"hover_glyph\":null,\"muted_glyph\":null,\"nonselection_glyph\":{\"id\":\"24383f6c-ca8f-42c0-83ac-337349fe74af\",\"type\":\"Line\"},\"selection_glyph\":null,\"view\":{\"id\":\"185fcd17-aae0-4d8c-b9e3-b2f08db880a4\",\"type\":\"CDSView\"}},\"id\":\"97602772-925b-4923-9040-38d8f2f9aa99\",\"type\":\"GlyphRenderer\"},{\"attributes\":{\"fill_alpha\":{\"value\":0.7},\"fill_color\":{\"value\":\"#984ea3\"},\"line_alpha\":{\"value\":0.7},\"line_color\":{\"value\":\"#984ea3\"},\"x\":{\"field\":\"x\"},\"y\":{\"field\":\"y\"}},\"id\":\"8dffd4db-662a-4964-8718-8308934ee001\",\"type\":\"Square\"},{\"attributes\":{\"line_alpha\":0.1,\"line_color\":\"#1f77b4\",\"line_width\":3,\"x\":{\"field\":\"x\"},\"y\":{\"field\":\"y\"}},\"id\":\"dcfd5081-e3d4-4d30-a08a-13a24e469fd9\",\"type\":\"Line\"},{\"attributes\":{\"source\":{\"id\":\"cbae6193-fc2d-460b-ad3d-6b482761cd7f\",\"type\":\"ColumnDataSource\"}},\"id\":\"b5a9348e-8458-4cda-a5a2-5a638bb796fe\",\"type\":\"CDSView\"},{\"attributes\":{},\"id\":\"b2524653-2405-43b2-b641-f60a7c442137\",\"type\":\"ResetTool\"},{\"attributes\":{\"data_source\":{\"id\":\"cbae6193-fc2d-460b-ad3d-6b482761cd7f\",\"type\":\"ColumnDataSource\"},\"glyph\":{\"id\":\"fdac9807-f43f-495f-b43f-7bb8c53a35be\",\"type\":\"Triangle\"},\"hover_glyph\":null,\"muted_glyph\":null,\"nonselection_glyph\":{\"id\":\"35e06bf7-bee5-4cf9-8509-45f2c41802d0\",\"type\":\"Triangle\"},\"selection_glyph\":null,\"view\":{\"id\":\"b5a9348e-8458-4cda-a5a2-5a638bb796fe\",\"type\":\"CDSView\"}},\"id\":\"1af151c8-7ba8-48c7-8612-527ef62ff45f\",\"type\":\"GlyphRenderer\"},{\"attributes\":{\"data_source\":{\"id\":\"a07ae492-b926-48c6-ad3c-d95368852706\",\"type\":\"ColumnDataSource\"},\"glyph\":{\"id\":\"bbfa737f-13d7-49c6-a92a-9641ba9239e4\",\"type\":\"Line\"},\"hover_glyph\":null,\"muted_glyph\":null,\"nonselection_glyph\":{\"id\":\"b4906e64-707a-4fcc-92f0-04f74e1f73ce\",\"type\":\"Line\"},\"selection_glyph\":null,\"view\":{\"id\":\"6511d391-f40f-40b3-8346-be92efba6701\",\"type\":\"CDSView\"}},\"id\":\"460eb8ab-361f-4f44-8b8d-2f550a5e4eb3\",\"type\":\"GlyphRenderer\"},{\"attributes\":{\"data_source\":{\"id\":\"d15210a1-e3d1-4eb9-84ce-fac109905483\",\"type\":\"ColumnDataSource\"},\"glyph\":{\"id\":\"8dffd4db-662a-4964-8718-8308934ee001\",\"type\":\"Square\"},\"hover_glyph\":null,\"muted_glyph\":null,\"nonselection_glyph\":{\"id\":\"93ef6eff-41d3-4999-8e7f-29469ed1b575\",\"type\":\"Square\"},\"selection_glyph\":null,\"view\":{\"id\":\"99b1a97e-ca8c-4c8c-aa14-4a608d8ed13a\",\"type\":\"CDSView\"}},\"id\":\"840caa53-f33c-4f64-b617-e5ba4892ac7c\",\"type\":\"GlyphRenderer\"},{\"attributes\":{\"callback\":null,\"data\":{\"x\":{\"__ndarray__\":\"gobCnyAGRL+5ClGDKAtEvyUsW1Y9FUS/hqh7ylUfRL9pNRVOSylEvzDawo0YM0S/SVz2oLk8RL+lXVgiLUZEv8IkcWNuT0S/pzNr7ntYRL8PzGqEVGFEvzxN4K74aUS/F0o523FyRL9Kxw3hznxEv5L/7uDnmkS/16vrVkG1RL8ffvDqIXpEv5a/Ut7orEO/+u81gAP7Qb8S1z8Tbd49vxpjWRNL2TO/hHzdBqVDGL8xnvRs7bDJvvdCPX4Dqxe/Ob4STtx1Lb/5GRA3miY4v+UmFH9Cej+/2WHFx6FWQr8HS7vzPDJEv8G1MfC0lkW/UAZHav+/Rr9HlFQZtORHv22f73TrM0m/sNmK0aroSr+7rLV+JSRNv+qUl0MP/U+/ZFLL57i5Ub9Pu0yPVepTvwNrsMNsT1a/s5YW/wSBWL/tTfwvWGxav+kylFblAly/nCtQML8xXb9S7LY9mfVdv5y9slmVR16/e8BUJWUhXr+i0tVM6H1dvzeMpBMAWVy/cRToqCauWr8+rp9Tj3pYvzYs1eOIvlW/5gSUXsB4Ur+K9kNi31BNvxt/3csvmkS/oNT+uyGaNb+4eAv4qdDFPmWTxPSNGjg/GprGX8IWST+xNIZ2W5RTP+ww5QURF1s/Bnd/93B7YT9iYFMnJHllP6ix+OaiVWk/klNh05b4bD+XFpb85j5wPyVrJdRSEHI/gEaAyiULdD9jL/0TqDp2P7BbZ6eWmXg/Oo5mSDgdez8u2B10iL19P8RFGEUiO4A/XUS1s/GhgT+qT/151hKDPxnnN5jCjYQ/\",\"dtype\":\"float64\",\"shape\":[75]},\"y\":{\"__ndarray__\":\"GhExyth1ND/Sv8nbtpRIP2vylNV0PVE/aTum7souWD/At0SJ8fVgPw3Iuahxymc/MSNhhJWvcD/bTfBN02d3P2zb5nxnaoA/CD5h5MAGhz8NmeH1TyaQP+zrCsc9p5Y/LbKd76fGnz/bLW5ISEmmPww9YvTcQq8/JV2OstnstT8Er5Y7M8G+P0c+r3jqkcU/5h99k6ZBzj88bCIzFzjVP4enV8oyxN0//yH99nXg5D8qOpLLf0jtP5kqGJXUifQ/c9cS8kHP/D+/DpwzojQEQIEmwoanVwxA4lgXt9HgE0BSSZ2AJuIbQAMJih9jjiNA5q4l5INuK0AwTKYKRj0zQNv5fmq8/DpAaCJseHrtQkB/+zpwzoxKQM3MzMzMeFJAZmZmZmZqWEAAAAAAAFxeQM3MzMzMJmJAmpmZmZkfZUBmZmZmZhhoQDMzMzMzEWtAAAAAAAAKbkBmZmZmZoFwQM3MzMzM/XFAMzMzMzN6c0CamZmZmfZ0QAAAAAAAc3ZAZmZmZmbvd0DNzMzMzGt5QDMzMzMz6HpAmpmZmZlkfEAAAAAAAOF9QGZmZmZmXX9AZmZmZuZsgECamZmZGSuBQM3MzMxM6YFAAAAAAICngkAzMzMzs2WDQGZmZmbmI4RAmpmZmRnihEDNzMzMTKCFQAAAAACAXoZAMzMzM7Mch0BmZmZm5tqHQJqZmZkZmYhAzczMzExXiUAAAAAAgBWKQDMzMzOz04pAZmZmZuaRi0CamZmZGVCMQM3MzMxMDo1AAAAAAIDMjUAzMzMzs4qOQGZmZmbmSI9A\",\"dtype\":\"float64\",\"shape\":[75]}},\"selected\":{\"id\":\"ef624663-cc1c-4784-b7ab-92a5b473ce0f\",\"type\":\"Selection\"},\"selection_policy\":{\"id\":\"2229f520-bd87-4f2f-be20-eafa2ec00219\",\"type\":\"UnionRenderers\"}},\"id\":\"cbae6193-fc2d-460b-ad3d-6b482761cd7f\",\"type\":\"ColumnDataSource\"},{\"attributes\":{\"line_alpha\":0.3,\"line_color\":\"#377eb8\",\"line_width\":2,\"x\":{\"field\":\"x\"},\"y\":{\"field\":\"y\"}},\"id\":\"bbfa737f-13d7-49c6-a92a-9641ba9239e4\",\"type\":\"Line\"},{\"attributes\":{\"source\":{\"id\":\"d15210a1-e3d1-4eb9-84ce-fac109905483\",\"type\":\"ColumnDataSource\"}},\"id\":\"99b1a97e-ca8c-4c8c-aa14-4a608d8ed13a\",\"type\":\"CDSView\"},{\"attributes\":{\"fill_alpha\":{\"value\":0.7},\"fill_color\":{\"value\":\"#377eb8\"},\"line_alpha\":{\"value\":0.7},\"line_color\":{\"value\":\"#377eb8\"},\"x\":{\"field\":\"x\"},\"y\":{\"field\":\"y\"}},\"id\":\"fdac9807-f43f-495f-b43f-7bb8c53a35be\",\"type\":\"Triangle\"},{\"attributes\":{\"callback\":null,\"data\":{\"x\":{\"__ndarray__\":\"74Yl6bWaRb8R9+9Q459Fv2lYm1o9qkW/h/pW1Za0Rb8ZWQbDxL5Fv3qarpDCyEW/6gTTu4vSRb9Km680HtxFv/7DSl115UW/0KFeNo/uRb9DV6DsafdFv2FDezUGAEa/g1nmK20IRr8vEHDKoBJGv62Zi5xTL0a/z1rw3WlCRr/i0lvjpPNFv4gClwEaAUW/UMxhYWEPQ7+agPqYtjk/v/iZ5p1L+DO/FqHvV044Er+oN5UyNo//PuLsWzE2rhG/AU0oun2ELL+/J1PfktA4v5S7n7i7hUC/XZIrna9yQ7+T+WrCnotFvzf+cwR7Hke/rTgtMGJtSL9vnR+LZ7ZJvygG/+iQKEu/lVqHEr4HTb+DFz5CeXtPv8InUN7kS1G/pSvLZVkvU79BlhlAhY1Vv0lNwFEgI1i/ldBpF0R9Wr9jVNphmolcvzYOk237Pl6/i9ju+f19X78FJS4DsyJgv2XvemWtTGC//4XRNPA4YL/x/8ItAapfvzhjUmNNY16/RC/+WgCRXL94kBRVIyJavwCoHeD7Mle/WBk5xu+YU7/m4tNVKeROv/5qnjBIekW/1m6fxEzDNb8dg2mQW1z8PlJzURFurjs/oM+48f/lSz8EFMyTyXtVP0YRyFcRnV0/1bUGj6cHYz8meQiEEUtnP6atzH4WcGs/UmnjR75Lbz9wQh1ueYBxP6JGxaH1bnM/wGpqMsqHdT8di7tzgNZ3P8WdMaFAXno/7Cg063EIfT9h1CCSQtV/PyPswGJZXIE/nd4Fhdragj8ndelqKWOEP8nVsxNq9YU/\",\"dtype\":\"float64\",\"shape\":[75]},\"y\":{\"__ndarray__\":\"GhExyth1ND/Sv8nbtpRIP2vylNV0PVE/aTum7souWD/At0SJ8fVgPw3Iuahxymc/MSNhhJWvcD/bTfBN02d3P2zb5nxnaoA/CD5h5MAGhz8NmeH1TyaQP+zrCsc9p5Y/LbKd76fGnz/bLW5ISEmmPww9YvTcQq8/JV2OstnstT8Er5Y7M8G+P0c+r3jqkcU/5h99k6ZBzj88bCIzFzjVP4enV8oyxN0//yH99nXg5D8qOpLLf0jtP5kqGJXUifQ/c9cS8kHP/D+/DpwzojQEQIEmwoanVwxA4lgXt9HgE0BSSZ2AJuIbQAMJih9jjiNA5q4l5INuK0AwTKYKRj0zQNv5fmq8/DpAaCJseHrtQkB/+zpwzoxKQM3MzMzMeFJAZmZmZmZqWEAAAAAAAFxeQM3MzMzMJmJAmpmZmZkfZUBmZmZmZhhoQDMzMzMzEWtAAAAAAAAKbkBmZmZmZoFwQM3MzMzM/XFAMzMzMzN6c0CamZmZmfZ0QAAAAAAAc3ZAZmZmZmbvd0DNzMzMzGt5QDMzMzMz6HpAmpmZmZlkfEAAAAAAAOF9QGZmZmZmXX9AZmZmZuZsgECamZmZGSuBQM3MzMxM6YFAAAAAAICngkAzMzMzs2WDQGZmZmbmI4RAmpmZmRnihEDNzMzMTKCFQAAAAACAXoZAMzMzM7Mch0BmZmZm5tqHQJqZmZkZmYhAzczMzExXiUAAAAAAgBWKQDMzMzOz04pAZmZmZuaRi0CamZmZGVCMQM3MzMxMDo1AAAAAAIDMjUAzMzMzs4qOQGZmZmbmSI9A\",\"dtype\":\"float64\",\"shape\":[75]}},\"selected\":{\"id\":\"e2ebac0f-ad1b-4c4e-a8ed-ad746556f89c\",\"type\":\"Selection\"},\"selection_policy\":{\"id\":\"c689a063-cc53-4731-a685-10f1ed901acd\",\"type\":\"UnionRenderers\"}},\"id\":\"93dde5e0-4396-4d29-bf9d-be26e021fa8a\",\"type\":\"ColumnDataSource\"},{\"attributes\":{\"line_alpha\":0.1,\"line_color\":\"#1f77b4\",\"line_width\":2,\"x\":{\"field\":\"x\"},\"y\":{\"field\":\"y\"}},\"id\":\"b4906e64-707a-4fcc-92f0-04f74e1f73ce\",\"type\":\"Line\"},{\"attributes\":{\"fill_alpha\":{\"value\":0.1},\"fill_color\":{\"value\":\"#1f77b4\"},\"line_alpha\":{\"value\":0.1},\"line_color\":{\"value\":\"#1f77b4\"},\"x\":{\"field\":\"x\"},\"y\":{\"field\":\"y\"}},\"id\":\"93ef6eff-41d3-4999-8e7f-29469ed1b575\",\"type\":\"Square\"},{\"attributes\":{\"callback\":null,\"data\":{\"x\":{\"__ndarray__\":\"74Yl6bWaRb8R9+9Q459Fv2lYm1o9qkW/h/pW1Za0Rb8ZWQbDxL5Fv3qarpDCyEW/6gTTu4vSRb9Km680HtxFv/7DSl115UW/0KFeNo/uRb9DV6DsafdFv2FDezUGAEa/g1nmK20IRr8vEHDKoBJGv62Zi5xTL0a/z1rw3WlCRr/i0lvjpPNFv4gClwEaAUW/UMxhYWEPQ7+agPqYtjk/v/iZ5p1L+DO/FqHvV044Er+oN5UyNo//PuLsWzE2rhG/AU0oun2ELL+/J1PfktA4v5S7n7i7hUC/XZIrna9yQ7+T+WrCnotFvzf+cwR7Hke/rTgtMGJtSL9vnR+LZ7ZJvygG/+iQKEu/lVqHEr4HTb+DFz5CeXtPv8InUN7kS1G/pSvLZVkvU79BlhlAhY1Vv0lNwFEgI1i/ldBpF0R9Wr9jVNphmolcvzYOk237Pl6/i9ju+f19X78FJS4DsyJgv2XvemWtTGC//4XRNPA4YL/x/8ItAapfvzhjUmNNY16/RC/+WgCRXL94kBRVIyJavwCoHeD7Mle/WBk5xu+YU7/m4tNVKeROv/5qnjBIekW/1m6fxEzDNb8dg2mQW1z8PlJzURFurjs/oM+48f/lSz8EFMyTyXtVP0YRyFcRnV0/1bUGj6cHYz8meQiEEUtnP6atzH4WcGs/UmnjR75Lbz9wQh1ueYBxP6JGxaH1bnM/wGpqMsqHdT8di7tzgNZ3P8WdMaFAXno/7Cg063EIfT9h1CCSQtV/PyPswGJZXIE/nd4Fhdragj8ndelqKWOEP8nVsxNq9YU/\",\"dtype\":\"float64\",\"shape\":[75]},\"y\":{\"__ndarray__\":\"GhExyth1ND/Sv8nbtpRIP2vylNV0PVE/aTum7souWD/At0SJ8fVgPw3Iuahxymc/MSNhhJWvcD/bTfBN02d3P2zb5nxnaoA/CD5h5MAGhz8NmeH1TyaQP+zrCsc9p5Y/LbKd76fGnz/bLW5ISEmmPww9YvTcQq8/JV2OstnstT8Er5Y7M8G+P0c+r3jqkcU/5h99k6ZBzj88bCIzFzjVP4enV8oyxN0//yH99nXg5D8qOpLLf0jtP5kqGJXUifQ/c9cS8kHP/D+/DpwzojQEQIEmwoanVwxA4lgXt9HgE0BSSZ2AJuIbQAMJih9jjiNA5q4l5INuK0AwTKYKRj0zQNv5fmq8/DpAaCJseHrtQkB/+zpwzoxKQM3MzMzMeFJAZmZmZmZqWEAAAAAAAFxeQM3MzMzMJmJAmpmZmZkfZUBmZmZmZhhoQDMzMzMzEWtAAAAAAAAKbkBmZmZmZoFwQM3MzMzM/XFAMzMzMzN6c0CamZmZmfZ0QAAAAAAAc3ZAZmZmZmbvd0DNzMzMzGt5QDMzMzMz6HpAmpmZmZlkfEAAAAAAAOF9QGZmZmZmXX9AZmZmZuZsgECamZmZGSuBQM3MzMxM6YFAAAAAAICngkAzMzMzs2WDQGZmZmbmI4RAmpmZmRnihEDNzMzMTKCFQAAAAACAXoZAMzMzM7Mch0BmZmZm5tqHQJqZmZkZmYhAzczMzExXiUAAAAAAgBWKQDMzMzOz04pAZmZmZuaRi0CamZmZGVCMQM3MzMxMDo1AAAAAAIDMjUAzMzMzs4qOQGZmZmbmSI9A\",\"dtype\":\"float64\",\"shape\":[75]}},\"selected\":{\"id\":\"b98f51ce-5ba7-41b0-8f05-539ab86a102c\",\"type\":\"Selection\"},\"selection_policy\":{\"id\":\"74578b91-e4d6-4c41-aa0a-3bc885204fe7\",\"type\":\"UnionRenderers\"}},\"id\":\"d15210a1-e3d1-4eb9-84ce-fac109905483\",\"type\":\"ColumnDataSource\"},{\"attributes\":{\"above\":[{\"id\":\"8f5259b2-837b-405d-88e1-7ef7d38def29\",\"type\":\"Legend\"}],\"below\":[{\"id\":\"0069767a-5682-4ca0-9b3e-09318ea61802\",\"type\":\"LinearAxis\"}],\"left\":[{\"id\":\"483219bb-a364-4725-9372-5c3d58bb8e09\",\"type\":\"LogAxis\"}],\"plot_height\":500,\"plot_width\":400,\"renderers\":[{\"id\":\"0069767a-5682-4ca0-9b3e-09318ea61802\",\"type\":\"LinearAxis\"},{\"id\":\"6722146d-c863-41e6-b724-7c6e0a6b03e2\",\"type\":\"Grid\"},{\"id\":\"483219bb-a364-4725-9372-5c3d58bb8e09\",\"type\":\"LogAxis\"},{\"id\":\"33532711-33c8-4544-b7e1-01b15789b9d2\",\"type\":\"Grid\"},{\"id\":\"763d2607-fa13-44c5-9806-d83ab6a1ff5b\",\"type\":\"BoxAnnotation\"},{\"id\":\"f8b04f96-fcc1-4280-b0fd-1dd0b6d73067\",\"type\":\"GlyphRenderer\"},{\"id\":\"4a817a40-85bd-4437-bf75-91c715816400\",\"type\":\"GlyphRenderer\"},{\"id\":\"4d9927da-81da-4bd7-9101-a5f5869bf3d4\",\"type\":\"GlyphRenderer\"},{\"id\":\"3947a3dd-bbb4-4b33-be91-abf38ae65e12\",\"type\":\"GlyphRenderer\"},{\"id\":\"046bbeb0-b334-49e5-9bed-c9d861e0d811\",\"type\":\"GlyphRenderer\"},{\"id\":\"1dda7bc7-cca6-4e8b-9976-af66c632f1b3\",\"type\":\"GlyphRenderer\"},{\"id\":\"8f5259b2-837b-405d-88e1-7ef7d38def29\",\"type\":\"Legend\"}],\"title\":{\"id\":\"1ba0bcff-280b-4465-a0eb-dea501bfaed6\",\"type\":\"Title\"},\"toolbar\":{\"id\":\"1bdf1a8c-cbc8-48a7-862b-23515055b056\",\"type\":\"Toolbar\"},\"toolbar_location\":null,\"x_range\":{\"id\":\"48dcb61e-c943-42e9-9e11-0f71f09e46cd\",\"type\":\"Range1d\"},\"x_scale\":{\"id\":\"462cb5ef-0adc-4e77-a41b-99482a383568\",\"type\":\"LinearScale\"},\"y_range\":{\"id\":\"6f0e29c7-e380-4fe1-ad7d-9236420258b6\",\"type\":\"Range1d\"},\"y_scale\":{\"id\":\"43c88028-f96e-48ff-8940-12fccf8f8f6d\",\"type\":\"LogScale\"}},\"id\":\"2db548a3-4dca-40f7-bdd5-66fbc0d54ee0\",\"subtype\":\"Figure\",\"type\":\"Plot\"},{\"attributes\":{\"active_drag\":\"auto\",\"active_inspect\":\"auto\",\"active_scroll\":\"auto\",\"active_tap\":\"auto\",\"tools\":[{\"id\":\"371c6fe8-f6f1-4da1-8b6f-a1c46a0cde0c\",\"type\":\"PanTool\"},{\"id\":\"049a3287-ac04-45a4-bc4e-f84cfa28c002\",\"type\":\"WheelZoomTool\"},{\"id\":\"b0e67371-bb8f-46ba-848b-d0fae15652f4\",\"type\":\"BoxZoomTool\"},{\"id\":\"611f2b09-0f87-4aae-9573-facbdbb5d2c5\",\"type\":\"SaveTool\"},{\"id\":\"32d8332a-35d1-4486-8ea7-a0ea0a4d4521\",\"type\":\"ResetTool\"},{\"id\":\"024fbf16-d69f-488d-bda4-aa5c15468e2a\",\"type\":\"HelpTool\"}]},\"id\":\"1bdf1a8c-cbc8-48a7-862b-23515055b056\",\"type\":\"Toolbar\"},{\"attributes\":{\"line_color\":\"#4daf4a\",\"line_width\":1.5,\"x\":{\"field\":\"x\"},\"y\":{\"field\":\"y\"}},\"id\":\"4df809e2-4713-4197-847a-be9b3b1ee0b7\",\"type\":\"Line\"},{\"attributes\":{\"fill_alpha\":{\"value\":0.1},\"fill_color\":{\"value\":\"#1f77b4\"},\"line_alpha\":{\"value\":0.1},\"line_color\":{\"value\":\"#1f77b4\"},\"x\":{\"field\":\"x\"},\"y\":{\"field\":\"y\"}},\"id\":\"35e06bf7-bee5-4cf9-8509-45f2c41802d0\",\"type\":\"Triangle\"},{\"attributes\":{\"callback\":null,\"data\":{\"x\":{\"__ndarray__\":\"gobCnyAGRL+5ClGDKAtEvyUsW1Y9FUS/hqh7ylUfRL9pNRVOSylEvzDawo0YM0S/SVz2oLk8RL+lXVgiLUZEv8IkcWNuT0S/pzNr7ntYRL8PzGqEVGFEvzxN4K74aUS/F0o523FyRL9Kxw3hznxEv5L/7uDnmkS/16vrVkG1RL8ffvDqIXpEv5a/Ut7orEO/+u81gAP7Qb8S1z8Tbd49vxpjWRNL2TO/hHzdBqVDGL8xnvRs7bDJvvdCPX4Dqxe/Ob4STtx1Lb/5GRA3miY4v+UmFH9Cej+/2WHFx6FWQr8HS7vzPDJEv8G1MfC0lkW/UAZHav+/Rr9HlFQZtORHv22f73TrM0m/sNmK0aroSr+7rLV+JSRNv+qUl0MP/U+/ZFLL57i5Ub9Pu0yPVepTvwNrsMNsT1a/s5YW/wSBWL/tTfwvWGxav+kylFblAly/nCtQML8xXb9S7LY9mfVdv5y9slmVR16/e8BUJWUhXr+i0tVM6H1dvzeMpBMAWVy/cRToqCauWr8+rp9Tj3pYvzYs1eOIvlW/5gSUXsB4Ur+K9kNi31BNvxt/3csvmkS/oNT+uyGaNb+4eAv4qdDFPmWTxPSNGjg/GprGX8IWST+xNIZ2W5RTP+ww5QURF1s/Bnd/93B7YT9iYFMnJHllP6ix+OaiVWk/klNh05b4bD+XFpb85j5wPyVrJdRSEHI/gEaAyiULdD9jL/0TqDp2P7BbZ6eWmXg/Oo5mSDgdez8u2B10iL19P8RFGEUiO4A/XUS1s/GhgT+qT/151hKDPxnnN5jCjYQ/\",\"dtype\":\"float64\",\"shape\":[75]},\"y\":{\"__ndarray__\":\"GhExyth1ND/Sv8nbtpRIP2vylNV0PVE/aTum7souWD/At0SJ8fVgPw3Iuahxymc/MSNhhJWvcD/bTfBN02d3P2zb5nxnaoA/CD5h5MAGhz8NmeH1TyaQP+zrCsc9p5Y/LbKd76fGnz/bLW5ISEmmPww9YvTcQq8/JV2OstnstT8Er5Y7M8G+P0c+r3jqkcU/5h99k6ZBzj88bCIzFzjVP4enV8oyxN0//yH99nXg5D8qOpLLf0jtP5kqGJXUifQ/c9cS8kHP/D+/DpwzojQEQIEmwoanVwxA4lgXt9HgE0BSSZ2AJuIbQAMJih9jjiNA5q4l5INuK0AwTKYKRj0zQNv5fmq8/DpAaCJseHrtQkB/+zpwzoxKQM3MzMzMeFJAZmZmZmZqWEAAAAAAAFxeQM3MzMzMJmJAmpmZmZkfZUBmZmZmZhhoQDMzMzMzEWtAAAAAAAAKbkBmZmZmZoFwQM3MzMzM/XFAMzMzMzN6c0CamZmZmfZ0QAAAAAAAc3ZAZmZmZmbvd0DNzMzMzGt5QDMzMzMz6HpAmpmZmZlkfEAAAAAAAOF9QGZmZmZmXX9AZmZmZuZsgECamZmZGSuBQM3MzMxM6YFAAAAAAICngkAzMzMzs2WDQGZmZmbmI4RAmpmZmRnihEDNzMzMTKCFQAAAAACAXoZAMzMzM7Mch0BmZmZm5tqHQJqZmZkZmYhAzczMzExXiUAAAAAAgBWKQDMzMzOz04pAZmZmZuaRi0CamZmZGVCMQM3MzMxMDo1AAAAAAIDMjUAzMzMzs4qOQGZmZmbmSI9A\",\"dtype\":\"float64\",\"shape\":[75]}},\"selected\":{\"id\":\"655aa2c6-028a-4d12-9078-a4b320c79698\",\"type\":\"Selection\"},\"selection_policy\":{\"id\":\"28c9553a-2cfb-448e-9e3d-3be7014bce61\",\"type\":\"UnionRenderers\"}},\"id\":\"a07ae492-b926-48c6-ad3c-d95368852706\",\"type\":\"ColumnDataSource\"},{\"attributes\":{\"line_alpha\":0.6,\"line_color\":\"#984ea3\",\"line_width\":3,\"x\":{\"field\":\"x\"},\"y\":{\"field\":\"y\"}},\"id\":\"ba4cb6a8-aa6e-4da1-bf61-b40045132c21\",\"type\":\"Line\"},{\"attributes\":{\"source\":{\"id\":\"a07ae492-b926-48c6-ad3c-d95368852706\",\"type\":\"ColumnDataSource\"}},\"id\":\"6511d391-f40f-40b3-8346-be92efba6701\",\"type\":\"CDSView\"},{\"attributes\":{\"label\":{\"value\":\"CRD\"},\"renderers\":[{\"id\":\"5acd3eec-9950-422d-8e19-f5f2d46b6111\",\"type\":\"GlyphRenderer\"},{\"id\":\"97602772-925b-4923-9040-38d8f2f9aa99\",\"type\":\"GlyphRenderer\"}]},\"id\":\"5d6b3700-2bfd-4cf0-ab21-884c7f3ca8a0\",\"type\":\"LegendItem\"},{\"attributes\":{\"callback\":null,\"end\":0.0003200689196,\"start\":-0.0017622059596},\"id\":\"48dcb61e-c943-42e9-9e11-0f71f09e46cd\",\"type\":\"Range1d\"},{\"attributes\":{\"label\":{\"value\":\"WGT igg=1\"},\"renderers\":[{\"id\":\"840caa53-f33c-4f64-b617-e5ba4892ac7c\",\"type\":\"GlyphRenderer\"},{\"id\":\"0d03d738-0526-4517-9bec-5900da3801e8\",\"type\":\"GlyphRenderer\"}]},\"id\":\"6b7c6933-4bb0-4481-a222-909bfc2bda25\",\"type\":\"LegendItem\"},{\"attributes\":{\"fill_alpha\":{\"value\":0.1},\"fill_color\":{\"value\":\"#1f77b4\"},\"line_alpha\":{\"value\":0.1},\"line_color\":{\"value\":\"#1f77b4\"},\"x\":{\"field\":\"x\"},\"y\":{\"field\":\"y\"}},\"id\":\"30031f95-a741-4c01-ad7f-9126e1b88096\",\"type\":\"Circle\"},{\"attributes\":{},\"id\":\"462cb5ef-0adc-4e77-a41b-99482a383568\",\"type\":\"LinearScale\"},{\"attributes\":{\"label\":{\"value\":\"WGT igg=10\"},\"renderers\":[{\"id\":\"1af151c8-7ba8-48c7-8612-527ef62ff45f\",\"type\":\"GlyphRenderer\"},{\"id\":\"460eb8ab-361f-4f44-8b8d-2f550a5e4eb3\",\"type\":\"GlyphRenderer\"}]},\"id\":\"e9c0cad1-8e46-4ef0-9a49-9cf76c3aa837\",\"type\":\"LegendItem\"},{\"attributes\":{\"bottom_units\":\"screen\",\"fill_alpha\":{\"value\":0.5},\"fill_color\":{\"value\":\"lightgrey\"},\"left_units\":\"screen\",\"level\":\"overlay\",\"line_alpha\":{\"value\":1.0},\"line_color\":{\"value\":\"black\"},\"line_dash\":[4,4],\"line_width\":{\"value\":2},\"plot\":null,\"render_mode\":\"css\",\"right_units\":\"screen\",\"top_units\":\"screen\"},\"id\":\"763d2607-fa13-44c5-9806-d83ab6a1ff5b\",\"type\":\"BoxAnnotation\"},{\"attributes\":{\"items\":[{\"id\":\"6ed29e77-cc9e-43b8-ac7d-7e94790e9cbd\",\"type\":\"LegendItem\"},{\"id\":\"3a477506-3a83-4fe7-a5a4-b63e2d2fa7aa\",\"type\":\"LegendItem\"},{\"id\":\"4e7434b2-6c1e-4d9a-b6dc-f7e3a2836fa6\",\"type\":\"LegendItem\"}],\"label_text_font_size\":{\"value\":\"8pt\"},\"location\":\"top_center\",\"orientation\":\"horizontal\",\"plot\":{\"id\":\"2db548a3-4dca-40f7-bdd5-66fbc0d54ee0\",\"subtype\":\"Figure\",\"type\":\"Plot\"}},\"id\":\"8f5259b2-837b-405d-88e1-7ef7d38def29\",\"type\":\"Legend\"},{\"attributes\":{},\"id\":\"049a3287-ac04-45a4-bc4e-f84cfa28c002\",\"type\":\"WheelZoomTool\"},{\"attributes\":{},\"id\":\"43c88028-f96e-48ff-8940-12fccf8f8f6d\",\"type\":\"LogScale\"},{\"attributes\":{\"axis_label\":\"cooling rate [K/day]\",\"formatter\":{\"id\":\"d5155c09-1856-496e-843e-ae949537bfda\",\"type\":\"BasicTickFormatter\"},\"plot\":{\"id\":\"2db548a3-4dca-40f7-bdd5-66fbc0d54ee0\",\"subtype\":\"Figure\",\"type\":\"Plot\"},\"ticker\":{\"id\":\"fab4fe5e-5f23-46be-97f1-483bf5120dad\",\"type\":\"BasicTicker\"}},\"id\":\"0069767a-5682-4ca0-9b3e-09318ea61802\",\"type\":\"LinearAxis\"},{\"attributes\":{},\"id\":\"fab4fe5e-5f23-46be-97f1-483bf5120dad\",\"type\":\"BasicTicker\"},{\"attributes\":{\"overlay\":{\"id\":\"763d2607-fa13-44c5-9806-d83ab6a1ff5b\",\"type\":\"BoxAnnotation\"}},\"id\":\"b0e67371-bb8f-46ba-848b-d0fae15652f4\",\"type\":\"BoxZoomTool\"},{\"attributes\":{},\"id\":\"c689a063-cc53-4731-a685-10f1ed901acd\",\"type\":\"UnionRenderers\"},{\"attributes\":{},\"id\":\"611f2b09-0f87-4aae-9573-facbdbb5d2c5\",\"type\":\"SaveTool\"},{\"attributes\":{},\"id\":\"32d8332a-35d1-4486-8ea7-a0ea0a4d4521\",\"type\":\"ResetTool\"},{\"attributes\":{},\"id\":\"024fbf16-d69f-488d-bda4-aa5c15468e2a\",\"type\":\"HelpTool\"},{\"attributes\":{},\"id\":\"74578b91-e4d6-4c41-aa0a-3bc885204fe7\",\"type\":\"UnionRenderers\"},{\"attributes\":{\"bottom_units\":\"screen\",\"fill_alpha\":{\"value\":0.5},\"fill_color\":{\"value\":\"lightgrey\"},\"left_units\":\"screen\",\"level\":\"overlay\",\"line_alpha\":{\"value\":1.0},\"line_color\":{\"value\":\"black\"},\"line_dash\":[4,4],\"line_width\":{\"value\":2},\"plot\":null,\"render_mode\":\"css\",\"right_units\":\"screen\",\"top_units\":\"screen\"},\"id\":\"19dd955a-5b23-4da5-96e1-77441757d518\",\"type\":\"BoxAnnotation\"},{\"attributes\":{\"callback\":null,\"data\":{\"x\":{\"__ndarray__\":\"a5SB5snYQr+3cCD48NxCv++bg6Qa5UK/UWwwbvvsQr+fX/f2lPRCv8rqDybY+0K/XE6FmMQCQ7+6yDV3WwlDv+GqhYSQD0O/DLRkT2QVQ78Bf+WZ2hpDvyFBSP7jH0O/nfpxZpckQ798BS+m3ylDv/H0T4d5MkO/Cbr5zJcRQ7/Byve6qG1Cv8g1l6N5AUG/etb0q4DMPL9mOgLc1hQ0v5JQAWlzZxm/sc0eq1wKKD+EvhUbXqMzPxhQatYyxSc/xlTFG8TCtL4fhjSVrAkqv5aS527eTje/R3PWxUbTPr9A+Vum+ypCv3IFm70XQ0S/uP+D0xn5Rb+8SBe3TI1Hvy+WVDOMN0m/1b/eEN06S7+OW2hqoL5Nvy7c9pPqaFC/uLl0NTlBUr+0lrwhmKFUvxCyyW09O1e/glX2F2GVWb8GeYu5w5xbv2zzZ0V5Ql2/nVdH1QBzXr+cAVaQZCtfv6hXjxn2ZF+/ZN0/X8EZX79Pr61LSEVev/RvSAAG5Fy/ZsquQxPyWr/VPVuUjG1Yv+V5glqSV1W/XFAVk7uvUb9gNocI1OtKv6vM+Jr5VEG/KOo0CwxwKr8EIlp+gfMkP22bw+9ZM0I/GFp/XNQhUD9cFQBZA7FXPxwOnpSIul8/jer7x/4NZD/BHN3CI0NoP4PSdtj0Q2w/PmkbFXXzbz926TJ/BLpxP6RCBPoOh3M/7r1dziOBdT9xxZ5l8bV3Pyb9jgAtH3o/vr3TswywfD8MiS7CMV9/P07mvJv3E4E/DZkRL2aDgj9COrQA2P2DPwaHmMS5g4U/\",\"dtype\":\"float64\",\"shape\":[75]},\"y\":{\"__ndarray__\":\"GhExyth1ND/Sv8nbtpRIP2vylNV0PVE/aTum7souWD/At0SJ8fVgPw3Iuahxymc/MSNhhJWvcD/bTfBN02d3P2zb5nxnaoA/CD5h5MAGhz8NmeH1TyaQP+zrCsc9p5Y/LbKd76fGnz/bLW5ISEmmPww9YvTcQq8/JV2OstnstT8Er5Y7M8G+P0c+r3jqkcU/5h99k6ZBzj88bCIzFzjVP4enV8oyxN0//yH99nXg5D8qOpLLf0jtP5kqGJXUifQ/c9cS8kHP/D+/DpwzojQEQIEmwoanVwxA4lgXt9HgE0BSSZ2AJuIbQAMJih9jjiNA5q4l5INuK0AwTKYKRj0zQNv5fmq8/DpAaCJseHrtQkB/+zpwzoxKQM3MzMzMeFJAZmZmZmZqWEAAAAAAAFxeQM3MzMzMJmJAmpmZmZkfZUBmZmZmZhhoQDMzMzMzEWtAAAAAAAAKbkBmZmZmZoFwQM3MzMzM/XFAMzMzMzN6c0CamZmZmfZ0QAAAAAAAc3ZAZmZmZmbvd0DNzMzMzGt5QDMzMzMz6HpAmpmZmZlkfEAAAAAAAOF9QGZmZmZmXX9AZmZmZuZsgECamZmZGSuBQM3MzMxM6YFAAAAAAICngkAzMzMzs2WDQGZmZmbmI4RAmpmZmRnihEDNzMzMTKCFQAAAAACAXoZAMzMzM7Mch0BmZmZm5tqHQJqZmZkZmYhAzczMzExXiUAAAAAAgBWKQDMzMzOz04pAZmZmZuaRi0CamZmZGVCMQM3MzMxMDo1AAAAAAIDMjUAzMzMzs4qOQGZmZmbmSI9A\",\"dtype\":\"float64\",\"shape\":[75]}},\"selected\":{\"id\":\"ee7aa1c7-4f92-4c9a-94cd-3ef76fbfa7d0\",\"type\":\"Selection\"},\"selection_policy\":{\"id\":\"25527ce8-1fb5-498e-8d85-0ffc5d51a1b1\",\"type\":\"UnionRenderers\"}},\"id\":\"ba97ace3-b62f-4557-a56d-343dff21bb0f\",\"type\":\"ColumnDataSource\"},{\"attributes\":{\"above\":[{\"id\":\"cbfd0d6c-aabd-44fb-8cb4-d74b9437133b\",\"type\":\"Legend\"}],\"below\":[{\"id\":\"554c5f8c-96e8-4e28-b3a9-1c30e6ba893b\",\"type\":\"LinearAxis\"}],\"left\":[{\"id\":\"e5526976-5c8f-4570-9149-8b68a8cc7d49\",\"type\":\"LinearAxis\"}],\"plot_height\":500,\"plot_width\":400,\"renderers\":[{\"id\":\"554c5f8c-96e8-4e28-b3a9-1c30e6ba893b\",\"type\":\"LinearAxis\"},{\"id\":\"68c4fa48-6163-42b0-95ab-e79a8b7a8b1e\",\"type\":\"Grid\"},{\"id\":\"e5526976-5c8f-4570-9149-8b68a8cc7d49\",\"type\":\"LinearAxis\"},{\"id\":\"bfd87000-2181-4309-9dc4-aae5b7d90940\",\"type\":\"Grid\"},{\"id\":\"19dd955a-5b23-4da5-96e1-77441757d518\",\"type\":\"BoxAnnotation\"},{\"id\":\"5acd3eec-9950-422d-8e19-f5f2d46b6111\",\"type\":\"GlyphRenderer\"},{\"id\":\"97602772-925b-4923-9040-38d8f2f9aa99\",\"type\":\"GlyphRenderer\"},{\"id\":\"840caa53-f33c-4f64-b617-e5ba4892ac7c\",\"type\":\"GlyphRenderer\"},{\"id\":\"0d03d738-0526-4517-9bec-5900da3801e8\",\"type\":\"GlyphRenderer\"},{\"id\":\"1af151c8-7ba8-48c7-8612-527ef62ff45f\",\"type\":\"GlyphRenderer\"},{\"id\":\"460eb8ab-361f-4f44-8b8d-2f550a5e4eb3\",\"type\":\"GlyphRenderer\"},{\"id\":\"cbfd0d6c-aabd-44fb-8cb4-d74b9437133b\",\"type\":\"Legend\"}],\"title\":{\"id\":\"1805b0a6-2e54-4777-b8bc-9909c57dcc2b\",\"type\":\"Title\"},\"toolbar\":{\"id\":\"644a57d4-d8f6-40ab-a312-1f1753ccdcb7\",\"type\":\"Toolbar\"},\"toolbar_location\":null,\"x_range\":{\"id\":\"695db354-4418-4b0f-932d-402cec41b8c7\",\"type\":\"Range1d\"},\"x_scale\":{\"id\":\"55d23f30-7109-47b6-86c8-4ca818f3b64b\",\"type\":\"LinearScale\"},\"y_range\":{\"id\":\"19ad531b-22b6-4f53-a3b6-1be93bf3b029\",\"type\":\"Range1d\"},\"y_scale\":{\"id\":\"84ed6766-f6de-474b-8335-bad0c9c32fea\",\"type\":\"LinearScale\"}},\"id\":\"9a8c7d8e-6e3e-4060-9cf7-e222ded8d01b\",\"subtype\":\"Figure\",\"type\":\"Plot\"},{\"attributes\":{\"children\":[{\"id\":\"84b31c8e-ea1e-4bfd-9d7e-d58fe78f8c4a\",\"type\":\"Row\"}]},\"id\":\"e5424e1e-1f44-4ecd-9adc-2a91d3dbdf9e\",\"type\":\"Column\"},{\"attributes\":{},\"id\":\"0b1ea40e-bc8a-479b-a062-062358d71ff3\",\"type\":\"UnionRenderers\"},{\"attributes\":{\"label\":{\"value\":\"WGT igg=10\"},\"renderers\":[{\"id\":\"046bbeb0-b334-49e5-9bed-c9d861e0d811\",\"type\":\"GlyphRenderer\"},{\"id\":\"1dda7bc7-cca6-4e8b-9976-af66c632f1b3\",\"type\":\"GlyphRenderer\"}]},\"id\":\"4e7434b2-6c1e-4d9a-b6dc-f7e3a2836fa6\",\"type\":\"LegendItem\"},{\"attributes\":{\"data_source\":{\"id\":\"75c1a9e6-4b52-48f3-9583-a4f03d7c107c\",\"type\":\"ColumnDataSource\"},\"glyph\":{\"id\":\"f912e4bd-2a3d-4a50-a3cb-b8a583763048\",\"type\":\"Line\"},\"hover_glyph\":null,\"muted_glyph\":null,\"nonselection_glyph\":{\"id\":\"f4ad3088-8f91-4f2c-946f-c6a570328244\",\"type\":\"Line\"},\"selection_glyph\":null,\"view\":{\"id\":\"dc2ec720-d662-4bd3-b8ad-750f2596c69b\",\"type\":\"CDSView\"}},\"id\":\"1dda7bc7-cca6-4e8b-9976-af66c632f1b3\",\"type\":\"GlyphRenderer\"},{\"attributes\":{\"line_alpha\":0.3,\"line_color\":\"#377eb8\",\"line_width\":2,\"x\":{\"field\":\"x\"},\"y\":{\"field\":\"y\"}},\"id\":\"f912e4bd-2a3d-4a50-a3cb-b8a583763048\",\"type\":\"Line\"},{\"attributes\":{\"line_color\":\"#4daf4a\",\"line_width\":1.5,\"x\":{\"field\":\"x\"},\"y\":{\"field\":\"y\"}},\"id\":\"f9e0a28c-7407-4efa-9323-1c75dd8f08a0\",\"type\":\"Line\"},{\"attributes\":{\"callback\":null,\"data\":{\"x\":{\"__ndarray__\":\"gobCnyAGRL+5ClGDKAtEvyUsW1Y9FUS/hqh7ylUfRL9pNRVOSylEvzDawo0YM0S/SVz2oLk8RL+lXVgiLUZEv8IkcWNuT0S/pzNr7ntYRL8PzGqEVGFEvzxN4K74aUS/F0o523FyRL9Kxw3hznxEv5L/7uDnmkS/16vrVkG1RL8ffvDqIXpEv5a/Ut7orEO/+u81gAP7Qb8S1z8Tbd49vxpjWRNL2TO/hHzdBqVDGL8xnvRs7bDJvvdCPX4Dqxe/Ob4STtx1Lb/5GRA3miY4v+UmFH9Cej+/2WHFx6FWQr8HS7vzPDJEv8G1MfC0lkW/UAZHav+/Rr9HlFQZtORHv22f73TrM0m/sNmK0aroSr+7rLV+JSRNv+qUl0MP/U+/ZFLL57i5Ub9Pu0yPVepTvwNrsMNsT1a/s5YW/wSBWL/tTfwvWGxav+kylFblAly/nCtQML8xXb9S7LY9mfVdv5y9slmVR16/e8BUJWUhXr+i0tVM6H1dvzeMpBMAWVy/cRToqCauWr8+rp9Tj3pYvzYs1eOIvlW/5gSUXsB4Ur+K9kNi31BNvxt/3csvmkS/oNT+uyGaNb+4eAv4qdDFPmWTxPSNGjg/GprGX8IWST+xNIZ2W5RTP+ww5QURF1s/Bnd/93B7YT9iYFMnJHllP6ix+OaiVWk/klNh05b4bD+XFpb85j5wPyVrJdRSEHI/gEaAyiULdD9jL/0TqDp2P7BbZ6eWmXg/Oo5mSDgdez8u2B10iL19P8RFGEUiO4A/XUS1s/GhgT+qT/151hKDPxnnN5jCjYQ/\",\"dtype\":\"float64\",\"shape\":[75]},\"y\":{\"__ndarray__\":\"GhExyth1ND/Sv8nbtpRIP2vylNV0PVE/aTum7souWD/At0SJ8fVgPw3Iuahxymc/MSNhhJWvcD/bTfBN02d3P2zb5nxnaoA/CD5h5MAGhz8NmeH1TyaQP+zrCsc9p5Y/LbKd76fGnz/bLW5ISEmmPww9YvTcQq8/JV2OstnstT8Er5Y7M8G+P0c+r3jqkcU/5h99k6ZBzj88bCIzFzjVP4enV8oyxN0//yH99nXg5D8qOpLLf0jtP5kqGJXUifQ/c9cS8kHP/D+/DpwzojQEQIEmwoanVwxA4lgXt9HgE0BSSZ2AJuIbQAMJih9jjiNA5q4l5INuK0AwTKYKRj0zQNv5fmq8/DpAaCJseHrtQkB/+zpwzoxKQM3MzMzMeFJAZmZmZmZqWEAAAAAAAFxeQM3MzMzMJmJAmpmZmZkfZUBmZmZmZhhoQDMzMzMzEWtAAAAAAAAKbkBmZmZmZoFwQM3MzMzM/XFAMzMzMzN6c0CamZmZmfZ0QAAAAAAAc3ZAZmZmZmbvd0DNzMzMzGt5QDMzMzMz6HpAmpmZmZlkfEAAAAAAAOF9QGZmZmZmXX9AZmZmZuZsgECamZmZGSuBQM3MzMxM6YFAAAAAAICngkAzMzMzs2WDQGZmZmbmI4RAmpmZmRnihEDNzMzMTKCFQAAAAACAXoZAMzMzM7Mch0BmZmZm5tqHQJqZmZkZmYhAzczMzExXiUAAAAAAgBWKQDMzMzOz04pAZmZmZuaRi0CamZmZGVCMQM3MzMxMDo1AAAAAAIDMjUAzMzMzs4qOQGZmZmbmSI9A\",\"dtype\":\"float64\",\"shape\":[75]}},\"selected\":{\"id\":\"85b3700d-1368-4ae4-b01e-34b489bb4f7e\",\"type\":\"Selection\"},\"selection_policy\":{\"id\":\"4f3ca908-686e-49b8-9ec7-7007802bc136\",\"type\":\"UnionRenderers\"}},\"id\":\"75c1a9e6-4b52-48f3-9583-a4f03d7c107c\",\"type\":\"ColumnDataSource\"},{\"attributes\":{\"label\":{\"value\":\"WGT igg=1\"},\"renderers\":[{\"id\":\"4d9927da-81da-4bd7-9101-a5f5869bf3d4\",\"type\":\"GlyphRenderer\"},{\"id\":\"3947a3dd-bbb4-4b33-be91-abf38ae65e12\",\"type\":\"GlyphRenderer\"}]},\"id\":\"3a477506-3a83-4fe7-a5a4-b63e2d2fa7aa\",\"type\":\"LegendItem\"},{\"attributes\":{\"line_alpha\":0.1,\"line_color\":\"#1f77b4\",\"line_width\":2,\"x\":{\"field\":\"x\"},\"y\":{\"field\":\"y\"}},\"id\":\"f4ad3088-8f91-4f2c-946f-c6a570328244\",\"type\":\"Line\"},{\"attributes\":{\"plot\":null,\"text\":\"\"},\"id\":\"1805b0a6-2e54-4777-b8bc-9909c57dcc2b\",\"type\":\"Title\"},{\"attributes\":{},\"id\":\"b98f51ce-5ba7-41b0-8f05-539ab86a102c\",\"type\":\"Selection\"},{\"attributes\":{\"line_alpha\":0.1,\"line_color\":\"#1f77b4\",\"line_width\":1.5,\"x\":{\"field\":\"x\"},\"y\":{\"field\":\"y\"}},\"id\":\"ec996067-abb8-4f2b-b553-d1889f48141a\",\"type\":\"Line\"},{\"attributes\":{\"source\":{\"id\":\"75c1a9e6-4b52-48f3-9583-a4f03d7c107c\",\"type\":\"ColumnDataSource\"}},\"id\":\"dc2ec720-d662-4bd3-b8ad-750f2596c69b\",\"type\":\"CDSView\"},{\"attributes\":{\"label\":{\"value\":\"CRD\"},\"renderers\":[{\"id\":\"f8b04f96-fcc1-4280-b0fd-1dd0b6d73067\",\"type\":\"GlyphRenderer\"},{\"id\":\"4a817a40-85bd-4437-bf75-91c715816400\",\"type\":\"GlyphRenderer\"}]},\"id\":\"6ed29e77-cc9e-43b8-ac7d-7e94790e9cbd\",\"type\":\"LegendItem\"},{\"attributes\":{\"callback\":null,\"data\":{\"x\":{\"__ndarray__\":\"74Yl6bWaRb8R9+9Q459Fv2lYm1o9qkW/h/pW1Za0Rb8ZWQbDxL5Fv3qarpDCyEW/6gTTu4vSRb9Km680HtxFv/7DSl115UW/0KFeNo/uRb9DV6DsafdFv2FDezUGAEa/g1nmK20IRr8vEHDKoBJGv62Zi5xTL0a/z1rw3WlCRr/i0lvjpPNFv4gClwEaAUW/UMxhYWEPQ7+agPqYtjk/v/iZ5p1L+DO/FqHvV044Er+oN5UyNo//PuLsWzE2rhG/AU0oun2ELL+/J1PfktA4v5S7n7i7hUC/XZIrna9yQ7+T+WrCnotFvzf+cwR7Hke/rTgtMGJtSL9vnR+LZ7ZJvygG/+iQKEu/lVqHEr4HTb+DFz5CeXtPv8InUN7kS1G/pSvLZVkvU79BlhlAhY1Vv0lNwFEgI1i/ldBpF0R9Wr9jVNphmolcvzYOk237Pl6/i9ju+f19X78FJS4DsyJgv2XvemWtTGC//4XRNPA4YL/x/8ItAapfvzhjUmNNY16/RC/+WgCRXL94kBRVIyJavwCoHeD7Mle/WBk5xu+YU7/m4tNVKeROv/5qnjBIekW/1m6fxEzDNb8dg2mQW1z8PlJzURFurjs/oM+48f/lSz8EFMyTyXtVP0YRyFcRnV0/1bUGj6cHYz8meQiEEUtnP6atzH4WcGs/UmnjR75Lbz9wQh1ueYBxP6JGxaH1bnM/wGpqMsqHdT8di7tzgNZ3P8WdMaFAXno/7Cg063EIfT9h1CCSQtV/PyPswGJZXIE/nd4Fhdragj8ndelqKWOEP8nVsxNq9YU/\",\"dtype\":\"float64\",\"shape\":[75]},\"y\":{\"__ndarray__\":\"GhExyth1ND/Sv8nbtpRIP2vylNV0PVE/aTum7souWD/At0SJ8fVgPw3Iuahxymc/MSNhhJWvcD/bTfBN02d3P2zb5nxnaoA/CD5h5MAGhz8NmeH1TyaQP+zrCsc9p5Y/LbKd76fGnz/bLW5ISEmmPww9YvTcQq8/JV2OstnstT8Er5Y7M8G+P0c+r3jqkcU/5h99k6ZBzj88bCIzFzjVP4enV8oyxN0//yH99nXg5D8qOpLLf0jtP5kqGJXUifQ/c9cS8kHP/D+/DpwzojQEQIEmwoanVwxA4lgXt9HgE0BSSZ2AJuIbQAMJih9jjiNA5q4l5INuK0AwTKYKRj0zQNv5fmq8/DpAaCJseHrtQkB/+zpwzoxKQM3MzMzMeFJAZmZmZmZqWEAAAAAAAFxeQM3MzMzMJmJAmpmZmZkfZUBmZmZmZhhoQDMzMzMzEWtAAAAAAAAKbkBmZmZmZoFwQM3MzMzM/XFAMzMzMzN6c0CamZmZmfZ0QAAAAAAAc3ZAZmZmZmbvd0DNzMzMzGt5QDMzMzMz6HpAmpmZmZlkfEAAAAAAAOF9QGZmZmZmXX9AZmZmZuZsgECamZmZGSuBQM3MzMxM6YFAAAAAAICngkAzMzMzs2WDQGZmZmbmI4RAmpmZmRnihEDNzMzMTKCFQAAAAACAXoZAMzMzM7Mch0BmZmZm5tqHQJqZmZkZmYhAzczMzExXiUAAAAAAgBWKQDMzMzOz04pAZmZmZuaRi0CamZmZGVCMQM3MzMxMDo1AAAAAAIDMjUAzMzMzs4qOQGZmZmbmSI9A\",\"dtype\":\"float64\",\"shape\":[75]}},\"selected\":{\"id\":\"15886f92-e12b-432c-b319-cd97a27b9df8\",\"type\":\"Selection\"},\"selection_policy\":{\"id\":\"cdd6a79c-61ab-428b-a912-b88fb11ff923\",\"type\":\"UnionRenderers\"}},\"id\":\"7c82aa1e-9736-40ed-95b1-12f5267b08a6\",\"type\":\"ColumnDataSource\"},{\"attributes\":{\"children\":[{\"id\":\"9a8c7d8e-6e3e-4060-9cf7-e222ded8d01b\",\"subtype\":\"Figure\",\"type\":\"Plot\"},{\"id\":\"2db548a3-4dca-40f7-bdd5-66fbc0d54ee0\",\"subtype\":\"Figure\",\"type\":\"Plot\"}]},\"id\":\"84b31c8e-ea1e-4bfd-9d7e-d58fe78f8c4a\",\"type\":\"Row\"},{\"attributes\":{\"plot\":null,\"text\":\"\"},\"id\":\"1ba0bcff-280b-4465-a0eb-dea501bfaed6\",\"type\":\"Title\"},{\"attributes\":{},\"id\":\"666610c0-f1ff-4e54-ac2c-da3e3c48fd23\",\"type\":\"BasicTickFormatter\"},{\"attributes\":{},\"id\":\"3327f2e9-5b66-4b5e-9067-16cd7767c927\",\"type\":\"Selection\"},{\"attributes\":{},\"id\":\"d5155c09-1856-496e-843e-ae949537bfda\",\"type\":\"BasicTickFormatter\"},{\"attributes\":{},\"id\":\"20162574-0594-438d-9e97-ce5b9081f877\",\"type\":\"BasicTickFormatter\"},{\"attributes\":{\"data_source\":{\"id\":\"20ef2553-3307-4b0e-ba94-3a4be9b50f9a\",\"type\":\"ColumnDataSource\"},\"glyph\":{\"id\":\"f9e0a28c-7407-4efa-9323-1c75dd8f08a0\",\"type\":\"Line\"},\"hover_glyph\":null,\"muted_glyph\":null,\"nonselection_glyph\":{\"id\":\"ec996067-abb8-4f2b-b553-d1889f48141a\",\"type\":\"Line\"},\"selection_glyph\":null,\"view\":{\"id\":\"6cd2bd59-ba92-4337-b86d-66bdf2e425be\",\"type\":\"CDSView\"}},\"id\":\"4a817a40-85bd-4437-bf75-91c715816400\",\"type\":\"GlyphRenderer\"},{\"attributes\":{},\"id\":\"655aa2c6-028a-4d12-9078-a4b320c79698\",\"type\":\"Selection\"},{\"attributes\":{\"ticker\":null},\"id\":\"eeb21799-e388-4a1e-94ee-f3e44322e6df\",\"type\":\"LogTickFormatter\"},{\"attributes\":{},\"id\":\"28c9553a-2cfb-448e-9e3d-3be7014bce61\",\"type\":\"UnionRenderers\"},{\"attributes\":{},\"id\":\"ef624663-cc1c-4784-b7ab-92a5b473ce0f\",\"type\":\"Selection\"},{\"attributes\":{},\"id\":\"47d8f411-c8f0-4bf1-abdb-b215e7a70113\",\"type\":\"Selection\"},{\"attributes\":{},\"id\":\"2229f520-bd87-4f2f-be20-eafa2ec00219\",\"type\":\"UnionRenderers\"},{\"attributes\":{},\"id\":\"25527ce8-1fb5-498e-8d85-0ffc5d51a1b1\",\"type\":\"UnionRenderers\"},{\"attributes\":{},\"id\":\"cdd6a79c-61ab-428b-a912-b88fb11ff923\",\"type\":\"UnionRenderers\"},{\"attributes\":{},\"id\":\"ee7aa1c7-4f92-4c9a-94cd-3ef76fbfa7d0\",\"type\":\"Selection\"},{\"attributes\":{},\"id\":\"98cac9db-7621-4475-9ce4-91b1e1830974\",\"type\":\"UnionRenderers\"},{\"attributes\":{},\"id\":\"15886f92-e12b-432c-b319-cd97a27b9df8\",\"type\":\"Selection\"},{\"attributes\":{\"data_source\":{\"id\":\"ba97ace3-b62f-4557-a56d-343dff21bb0f\",\"type\":\"ColumnDataSource\"},\"glyph\":{\"id\":\"035c84ff-bd9f-47b5-ae2e-77314fb1adf6\",\"type\":\"Circle\"},\"hover_glyph\":null,\"muted_glyph\":null,\"nonselection_glyph\":{\"id\":\"2352e29b-5594-4b9d-9e4c-9f2d90727382\",\"type\":\"Circle\"},\"selection_glyph\":null,\"view\":{\"id\":\"d434c377-4bd7-451a-b241-a63588028040\",\"type\":\"CDSView\"}},\"id\":\"f8b04f96-fcc1-4280-b0fd-1dd0b6d73067\",\"type\":\"GlyphRenderer\"},{\"attributes\":{},\"id\":\"4fcd706b-0f56-4104-8b58-69789b3fa35f\",\"type\":\"UnionRenderers\"},{\"attributes\":{},\"id\":\"b13d6f2a-fdac-458d-a008-98b90a9fcfdc\",\"type\":\"Selection\"},{\"attributes\":{},\"id\":\"01905633-fc2e-40ec-acb6-733e46e8b805\",\"type\":\"Selection\"},{\"attributes\":{},\"id\":\"5aa6bd90-6509-4330-b4af-a67f194fd54f\",\"type\":\"UnionRenderers\"},{\"attributes\":{},\"id\":\"6e443d5d-0028-4c4b-a5f5-b6d425830fac\",\"type\":\"Selection\"},{\"attributes\":{},\"id\":\"4f3ca908-686e-49b8-9ec7-7007802bc136\",\"type\":\"UnionRenderers\"},{\"attributes\":{\"toolbar\":{\"id\":\"cd1188f3-8d0d-432d-a329-f9da3b2ff986\",\"type\":\"ProxyToolbar\"},\"toolbar_location\":\"above\"},\"id\":\"8d55357b-2e67-480c-9fc6-9dbd0794aea8\",\"type\":\"ToolbarBox\"},{\"attributes\":{\"callback\":null,\"end\":0.01,\"start\":1020},\"id\":\"19ad531b-22b6-4f53-a3b6-1be93bf3b029\",\"type\":\"Range1d\"},{\"attributes\":{\"tools\":[{\"id\":\"09250329-6476-4f91-8ddc-dd042fc63f82\",\"type\":\"PanTool\"},{\"id\":\"05df6aa9-c41f-48ae-ac69-f54c1c59051f\",\"type\":\"WheelZoomTool\"},{\"id\":\"a382bddb-e721-48c5-9019-c83e594c3a3f\",\"type\":\"BoxZoomTool\"},{\"id\":\"a0b21934-fa8e-4dfe-ad22-391b69620258\",\"type\":\"SaveTool\"},{\"id\":\"b2524653-2405-43b2-b641-f60a7c442137\",\"type\":\"ResetTool\"},{\"id\":\"ad81a497-69d0-4fc4-96dc-8bbc8ecc4bd8\",\"type\":\"HelpTool\"},{\"id\":\"371c6fe8-f6f1-4da1-8b6f-a1c46a0cde0c\",\"type\":\"PanTool\"},{\"id\":\"049a3287-ac04-45a4-bc4e-f84cfa28c002\",\"type\":\"WheelZoomTool\"},{\"id\":\"b0e67371-bb8f-46ba-848b-d0fae15652f4\",\"type\":\"BoxZoomTool\"},{\"id\":\"611f2b09-0f87-4aae-9573-facbdbb5d2c5\",\"type\":\"SaveTool\"},{\"id\":\"32d8332a-35d1-4486-8ea7-a0ea0a4d4521\",\"type\":\"ResetTool\"},{\"id\":\"024fbf16-d69f-488d-bda4-aa5c15468e2a\",\"type\":\"HelpTool\"}]},\"id\":\"cd1188f3-8d0d-432d-a329-f9da3b2ff986\",\"type\":\"ProxyToolbar\"},{\"attributes\":{\"line_alpha\":0.1,\"line_color\":\"#1f77b4\",\"line_width\":3,\"x\":{\"field\":\"x\"},\"y\":{\"field\":\"y\"}},\"id\":\"0c82c275-1918-4c2b-8a58-21e6ff9883ec\",\"type\":\"Line\"},{\"attributes\":{},\"id\":\"e2ebac0f-ad1b-4c4e-a8ed-ad746556f89c\",\"type\":\"Selection\"},{\"attributes\":{\"children\":[{\"id\":\"8d55357b-2e67-480c-9fc6-9dbd0794aea8\",\"type\":\"ToolbarBox\"},{\"id\":\"e5424e1e-1f44-4ecd-9adc-2a91d3dbdf9e\",\"type\":\"Column\"}]},\"id\":\"0fbe876e-696d-4a18-a122-46604b2642e3\",\"type\":\"Column\"},{\"attributes\":{\"source\":{\"id\":\"ba97ace3-b62f-4557-a56d-343dff21bb0f\",\"type\":\"ColumnDataSource\"}},\"id\":\"d434c377-4bd7-451a-b241-a63588028040\",\"type\":\"CDSView\"},{\"attributes\":{},\"id\":\"85b3700d-1368-4ae4-b01e-34b489bb4f7e\",\"type\":\"Selection\"},{\"attributes\":{\"fill_alpha\":{\"value\":0.1},\"fill_color\":{\"value\":\"#1f77b4\"},\"line_alpha\":{\"value\":0.1},\"line_color\":{\"value\":\"#1f77b4\"},\"x\":{\"field\":\"x\"},\"y\":{\"field\":\"y\"}},\"id\":\"2352e29b-5594-4b9d-9e4c-9f2d90727382\",\"type\":\"Circle\"},{\"attributes\":{\"data_source\":{\"id\":\"7c82aa1e-9736-40ed-95b1-12f5267b08a6\",\"type\":\"ColumnDataSource\"},\"glyph\":{\"id\":\"039569e1-9752-448a-9b8f-17cd0b8d544c\",\"type\":\"Square\"},\"hover_glyph\":null,\"muted_glyph\":null,\"nonselection_glyph\":{\"id\":\"918b3d04-78ef-4541-b673-c1196048edd3\",\"type\":\"Square\"},\"selection_glyph\":null,\"view\":{\"id\":\"c756cd01-1ccd-42ca-9727-1a96a83f4011\",\"type\":\"CDSView\"}},\"id\":\"4d9927da-81da-4bd7-9101-a5f5869bf3d4\",\"type\":\"GlyphRenderer\"},{\"attributes\":{\"callback\":null,\"data\":{\"x\":{\"__ndarray__\":\"gobCnyAGRL+5ClGDKAtEvyUsW1Y9FUS/hqh7ylUfRL9pNRVOSylEvzDawo0YM0S/SVz2oLk8RL+lXVgiLUZEv8IkcWNuT0S/pzNr7ntYRL8PzGqEVGFEvzxN4K74aUS/F0o523FyRL9Kxw3hznxEv5L/7uDnmkS/16vrVkG1RL8ffvDqIXpEv5a/Ut7orEO/+u81gAP7Qb8S1z8Tbd49vxpjWRNL2TO/hHzdBqVDGL8xnvRs7bDJvvdCPX4Dqxe/Ob4STtx1Lb/5GRA3miY4v+UmFH9Cej+/2WHFx6FWQr8HS7vzPDJEv8G1MfC0lkW/UAZHav+/Rr9HlFQZtORHv22f73TrM0m/sNmK0aroSr+7rLV+JSRNv+qUl0MP/U+/ZFLL57i5Ub9Pu0yPVepTvwNrsMNsT1a/s5YW/wSBWL/tTfwvWGxav+kylFblAly/nCtQML8xXb9S7LY9mfVdv5y9slmVR16/e8BUJWUhXr+i0tVM6H1dvzeMpBMAWVy/cRToqCauWr8+rp9Tj3pYvzYs1eOIvlW/5gSUXsB4Ur+K9kNi31BNvxt/3csvmkS/oNT+uyGaNb+4eAv4qdDFPmWTxPSNGjg/GprGX8IWST+xNIZ2W5RTP+ww5QURF1s/Bnd/93B7YT9iYFMnJHllP6ix+OaiVWk/klNh05b4bD+XFpb85j5wPyVrJdRSEHI/gEaAyiULdD9jL/0TqDp2P7BbZ6eWmXg/Oo5mSDgdez8u2B10iL19P8RFGEUiO4A/XUS1s/GhgT+qT/151hKDPxnnN5jCjYQ/\",\"dtype\":\"float64\",\"shape\":[75]},\"y\":{\"__ndarray__\":\"GhExyth1ND/Sv8nbtpRIP2vylNV0PVE/aTum7souWD/At0SJ8fVgPw3Iuahxymc/MSNhhJWvcD/bTfBN02d3P2zb5nxnaoA/CD5h5MAGhz8NmeH1TyaQP+zrCsc9p5Y/LbKd76fGnz/bLW5ISEmmPww9YvTcQq8/JV2OstnstT8Er5Y7M8G+P0c+r3jqkcU/5h99k6ZBzj88bCIzFzjVP4enV8oyxN0//yH99nXg5D8qOpLLf0jtP5kqGJXUifQ/c9cS8kHP/D+/DpwzojQEQIEmwoanVwxA4lgXt9HgE0BSSZ2AJuIbQAMJih9jjiNA5q4l5INuK0AwTKYKRj0zQNv5fmq8/DpAaCJseHrtQkB/+zpwzoxKQM3MzMzMeFJAZmZmZmZqWEAAAAAAAFxeQM3MzMzMJmJAmpmZmZkfZUBmZmZmZhhoQDMzMzMzEWtAAAAAAAAKbkBmZmZmZoFwQM3MzMzM/XFAMzMzMzN6c0CamZmZmfZ0QAAAAAAAc3ZAZmZmZmbvd0DNzMzMzGt5QDMzMzMz6HpAmpmZmZlkfEAAAAAAAOF9QGZmZmZmXX9AZmZmZuZsgECamZmZGSuBQM3MzMxM6YFAAAAAAICngkAzMzMzs2WDQGZmZmbmI4RAmpmZmRnihEDNzMzMTKCFQAAAAACAXoZAMzMzM7Mch0BmZmZm5tqHQJqZmZkZmYhAzczMzExXiUAAAAAAgBWKQDMzMzOz04pAZmZmZuaRi0CamZmZGVCMQM3MzMxMDo1AAAAAAIDMjUAzMzMzs4qOQGZmZmbmSI9A\",\"dtype\":\"float64\",\"shape\":[75]}},\"selected\":{\"id\":\"b13d6f2a-fdac-458d-a008-98b90a9fcfdc\",\"type\":\"Selection\"},\"selection_policy\":{\"id\":\"4fcd706b-0f56-4104-8b58-69789b3fa35f\",\"type\":\"UnionRenderers\"}},\"id\":\"e5735cc3-f300-4fdb-baf2-5b1128117731\",\"type\":\"ColumnDataSource\"},{\"attributes\":{\"line_alpha\":0.6,\"line_color\":\"#984ea3\",\"line_width\":3,\"x\":{\"field\":\"x\"},\"y\":{\"field\":\"y\"}},\"id\":\"4700a7d7-765b-4bbb-82c1-204432078e93\",\"type\":\"Line\"},{\"attributes\":{\"source\":{\"id\":\"7c82aa1e-9736-40ed-95b1-12f5267b08a6\",\"type\":\"ColumnDataSource\"}},\"id\":\"c756cd01-1ccd-42ca-9727-1a96a83f4011\",\"type\":\"CDSView\"},{\"attributes\":{\"callback\":null,\"data\":{\"x\":{\"__ndarray__\":\"a5SB5snYQr+3cCD48NxCv++bg6Qa5UK/UWwwbvvsQr+fX/f2lPRCv8rqDybY+0K/XE6FmMQCQ7+6yDV3WwlDv+GqhYSQD0O/DLRkT2QVQ78Bf+WZ2hpDvyFBSP7jH0O/nfpxZpckQ798BS+m3ylDv/H0T4d5MkO/Cbr5zJcRQ7/Byve6qG1Cv8g1l6N5AUG/etb0q4DMPL9mOgLc1hQ0v5JQAWlzZxm/sc0eq1wKKD+EvhUbXqMzPxhQatYyxSc/xlTFG8TCtL4fhjSVrAkqv5aS527eTje/R3PWxUbTPr9A+Vum+ypCv3IFm70XQ0S/uP+D0xn5Rb+8SBe3TI1Hvy+WVDOMN0m/1b/eEN06S7+OW2hqoL5Nvy7c9pPqaFC/uLl0NTlBUr+0lrwhmKFUvxCyyW09O1e/glX2F2GVWb8GeYu5w5xbv2zzZ0V5Ql2/nVdH1QBzXr+cAVaQZCtfv6hXjxn2ZF+/ZN0/X8EZX79Pr61LSEVev/RvSAAG5Fy/ZsquQxPyWr/VPVuUjG1Yv+V5glqSV1W/XFAVk7uvUb9gNocI1OtKv6vM+Jr5VEG/KOo0CwxwKr8EIlp+gfMkP22bw+9ZM0I/GFp/XNQhUD9cFQBZA7FXPxwOnpSIul8/jer7x/4NZD/BHN3CI0NoP4PSdtj0Q2w/PmkbFXXzbz926TJ/BLpxP6RCBPoOh3M/7r1dziOBdT9xxZ5l8bV3Pyb9jgAtH3o/vr3TswywfD8MiS7CMV9/P07mvJv3E4E/DZkRL2aDgj9COrQA2P2DPwaHmMS5g4U/\",\"dtype\":\"float64\",\"shape\":[75]},\"y\":{\"__ndarray__\":\"GhExyth1ND/Sv8nbtpRIP2vylNV0PVE/aTum7souWD/At0SJ8fVgPw3Iuahxymc/MSNhhJWvcD/bTfBN02d3P2zb5nxnaoA/CD5h5MAGhz8NmeH1TyaQP+zrCsc9p5Y/LbKd76fGnz/bLW5ISEmmPww9YvTcQq8/JV2OstnstT8Er5Y7M8G+P0c+r3jqkcU/5h99k6ZBzj88bCIzFzjVP4enV8oyxN0//yH99nXg5D8qOpLLf0jtP5kqGJXUifQ/c9cS8kHP/D+/DpwzojQEQIEmwoanVwxA4lgXt9HgE0BSSZ2AJuIbQAMJih9jjiNA5q4l5INuK0AwTKYKRj0zQNv5fmq8/DpAaCJseHrtQkB/+zpwzoxKQM3MzMzMeFJAZmZmZmZqWEAAAAAAAFxeQM3MzMzMJmJAmpmZmZkfZUBmZmZmZhhoQDMzMzMzEWtAAAAAAAAKbkBmZmZmZoFwQM3MzMzM/XFAMzMzMzN6c0CamZmZmfZ0QAAAAAAAc3ZAZmZmZmbvd0DNzMzMzGt5QDMzMzMz6HpAmpmZmZlkfEAAAAAAAOF9QGZmZmZmXX9AZmZmZuZsgECamZmZGSuBQM3MzMxM6YFAAAAAAICngkAzMzMzs2WDQGZmZmbmI4RAmpmZmRnihEDNzMzMTKCFQAAAAACAXoZAMzMzM7Mch0BmZmZm5tqHQJqZmZkZmYhAzczMzExXiUAAAAAAgBWKQDMzMzOz04pAZmZmZuaRi0CamZmZGVCMQM3MzMxMDo1AAAAAAIDMjUAzMzMzs4qOQGZmZmbmSI9A\",\"dtype\":\"float64\",\"shape\":[75]}},\"selected\":{\"id\":\"6e443d5d-0028-4c4b-a5f5-b6d425830fac\",\"type\":\"Selection\"},\"selection_policy\":{\"id\":\"98cac9db-7621-4475-9ce4-91b1e1830974\",\"type\":\"UnionRenderers\"}},\"id\":\"20ef2553-3307-4b0e-ba94-3a4be9b50f9a\",\"type\":\"ColumnDataSource\"},{\"attributes\":{\"fill_alpha\":{\"value\":0.7},\"fill_color\":{\"value\":\"#377eb8\"},\"line_alpha\":{\"value\":0.7},\"line_color\":{\"value\":\"#377eb8\"},\"x\":{\"field\":\"x\"},\"y\":{\"field\":\"y\"}},\"id\":\"57d3a925-22b3-4ea6-aaab-d5d2eb90ef7d\",\"type\":\"Triangle\"},{\"attributes\":{\"data_source\":{\"id\":\"d97db751-3165-4d02-b944-eca8a7298dee\",\"type\":\"ColumnDataSource\"},\"glyph\":{\"id\":\"4700a7d7-765b-4bbb-82c1-204432078e93\",\"type\":\"Line\"},\"hover_glyph\":null,\"muted_glyph\":null,\"nonselection_glyph\":{\"id\":\"0c82c275-1918-4c2b-8a58-21e6ff9883ec\",\"type\":\"Line\"},\"selection_glyph\":null,\"view\":{\"id\":\"f055722b-abdb-415c-beeb-e5a06a8a0392\",\"type\":\"CDSView\"}},\"id\":\"3947a3dd-bbb4-4b33-be91-abf38ae65e12\",\"type\":\"GlyphRenderer\"},{\"attributes\":{\"data_source\":{\"id\":\"e5735cc3-f300-4fdb-baf2-5b1128117731\",\"type\":\"ColumnDataSource\"},\"glyph\":{\"id\":\"57d3a925-22b3-4ea6-aaab-d5d2eb90ef7d\",\"type\":\"Triangle\"},\"hover_glyph\":null,\"muted_glyph\":null,\"nonselection_glyph\":{\"id\":\"fc76674e-ab0f-41af-8fb5-dca8f7eb9d1b\",\"type\":\"Triangle\"},\"selection_glyph\":null,\"view\":{\"id\":\"6f92caff-06f5-4304-8779-1a5cecdb87d6\",\"type\":\"CDSView\"}},\"id\":\"046bbeb0-b334-49e5-9bed-c9d861e0d811\",\"type\":\"GlyphRenderer\"},{\"attributes\":{\"source\":{\"id\":\"20ef2553-3307-4b0e-ba94-3a4be9b50f9a\",\"type\":\"ColumnDataSource\"}},\"id\":\"6cd2bd59-ba92-4337-b86d-66bdf2e425be\",\"type\":\"CDSView\"},{\"attributes\":{\"fill_alpha\":{\"value\":0.1},\"fill_color\":{\"value\":\"#1f77b4\"},\"line_alpha\":{\"value\":0.1},\"line_color\":{\"value\":\"#1f77b4\"},\"x\":{\"field\":\"x\"},\"y\":{\"field\":\"y\"}},\"id\":\"918b3d04-78ef-4541-b673-c1196048edd3\",\"type\":\"Square\"},{\"attributes\":{\"source\":{\"id\":\"d97db751-3165-4d02-b944-eca8a7298dee\",\"type\":\"ColumnDataSource\"}},\"id\":\"f055722b-abdb-415c-beeb-e5a06a8a0392\",\"type\":\"CDSView\"},{\"attributes\":{\"fill_alpha\":{\"value\":0.7},\"fill_color\":{\"value\":\"#4daf4a\"},\"line_alpha\":{\"value\":0.7},\"line_color\":{\"value\":\"#4daf4a\"},\"x\":{\"field\":\"x\"},\"y\":{\"field\":\"y\"}},\"id\":\"035c84ff-bd9f-47b5-ae2e-77314fb1adf6\",\"type\":\"Circle\"},{\"attributes\":{\"callback\":null,\"data\":{\"x\":{\"__ndarray__\":\"74Yl6bWaRb8R9+9Q459Fv2lYm1o9qkW/h/pW1Za0Rb8ZWQbDxL5Fv3qarpDCyEW/6gTTu4vSRb9Km680HtxFv/7DSl115UW/0KFeNo/uRb9DV6DsafdFv2FDezUGAEa/g1nmK20IRr8vEHDKoBJGv62Zi5xTL0a/z1rw3WlCRr/i0lvjpPNFv4gClwEaAUW/UMxhYWEPQ7+agPqYtjk/v/iZ5p1L+DO/FqHvV044Er+oN5UyNo//PuLsWzE2rhG/AU0oun2ELL+/J1PfktA4v5S7n7i7hUC/XZIrna9yQ7+T+WrCnotFvzf+cwR7Hke/rTgtMGJtSL9vnR+LZ7ZJvygG/+iQKEu/lVqHEr4HTb+DFz5CeXtPv8InUN7kS1G/pSvLZVkvU79BlhlAhY1Vv0lNwFEgI1i/ldBpF0R9Wr9jVNphmolcvzYOk237Pl6/i9ju+f19X78FJS4DsyJgv2XvemWtTGC//4XRNPA4YL/x/8ItAapfvzhjUmNNY16/RC/+WgCRXL94kBRVIyJavwCoHeD7Mle/WBk5xu+YU7/m4tNVKeROv/5qnjBIekW/1m6fxEzDNb8dg2mQW1z8PlJzURFurjs/oM+48f/lSz8EFMyTyXtVP0YRyFcRnV0/1bUGj6cHYz8meQiEEUtnP6atzH4WcGs/UmnjR75Lbz9wQh1ueYBxP6JGxaH1bnM/wGpqMsqHdT8di7tzgNZ3P8WdMaFAXno/7Cg063EIfT9h1CCSQtV/PyPswGJZXIE/nd4Fhdragj8ndelqKWOEP8nVsxNq9YU/\",\"dtype\":\"float64\",\"shape\":[75]},\"y\":{\"__ndarray__\":\"GhExyth1ND/Sv8nbtpRIP2vylNV0PVE/aTum7souWD/At0SJ8fVgPw3Iuahxymc/MSNhhJWvcD/bTfBN02d3P2zb5nxnaoA/CD5h5MAGhz8NmeH1TyaQP+zrCsc9p5Y/LbKd76fGnz/bLW5ISEmmPww9YvTcQq8/JV2OstnstT8Er5Y7M8G+P0c+r3jqkcU/5h99k6ZBzj88bCIzFzjVP4enV8oyxN0//yH99nXg5D8qOpLLf0jtP5kqGJXUifQ/c9cS8kHP/D+/DpwzojQEQIEmwoanVwxA4lgXt9HgE0BSSZ2AJuIbQAMJih9jjiNA5q4l5INuK0AwTKYKRj0zQNv5fmq8/DpAaCJseHrtQkB/+zpwzoxKQM3MzMzMeFJAZmZmZmZqWEAAAAAAAFxeQM3MzMzMJmJAmpmZmZkfZUBmZmZmZhhoQDMzMzMzEWtAAAAAAAAKbkBmZmZmZoFwQM3MzMzM/XFAMzMzMzN6c0CamZmZmfZ0QAAAAAAAc3ZAZmZmZmbvd0DNzMzMzGt5QDMzMzMz6HpAmpmZmZlkfEAAAAAAAOF9QGZmZmZmXX9AZmZmZuZsgECamZmZGSuBQM3MzMxM6YFAAAAAAICngkAzMzMzs2WDQGZmZmbmI4RAmpmZmRnihEDNzMzMTKCFQAAAAACAXoZAMzMzM7Mch0BmZmZm5tqHQJqZmZkZmYhAzczMzExXiUAAAAAAgBWKQDMzMzOz04pAZmZmZuaRi0CamZmZGVCMQM3MzMxMDo1AAAAAAIDMjUAzMzMzs4qOQGZmZmbmSI9A\",\"dtype\":\"float64\",\"shape\":[75]}},\"selected\":{\"id\":\"01905633-fc2e-40ec-acb6-733e46e8b805\",\"type\":\"Selection\"},\"selection_policy\":{\"id\":\"5aa6bd90-6509-4330-b4af-a67f194fd54f\",\"type\":\"UnionRenderers\"}},\"id\":\"d97db751-3165-4d02-b944-eca8a7298dee\",\"type\":\"ColumnDataSource\"},{\"attributes\":{\"fill_alpha\":{\"value\":0.7},\"fill_color\":{\"value\":\"#984ea3\"},\"line_alpha\":{\"value\":0.7},\"line_color\":{\"value\":\"#984ea3\"},\"x\":{\"field\":\"x\"},\"y\":{\"field\":\"y\"}},\"id\":\"039569e1-9752-448a-9b8f-17cd0b8d544c\",\"type\":\"Square\"},{\"attributes\":{\"fill_alpha\":{\"value\":0.1},\"fill_color\":{\"value\":\"#1f77b4\"},\"line_alpha\":{\"value\":0.1},\"line_color\":{\"value\":\"#1f77b4\"},\"x\":{\"field\":\"x\"},\"y\":{\"field\":\"y\"}},\"id\":\"fc76674e-ab0f-41af-8fb5-dca8f7eb9d1b\",\"type\":\"Triangle\"},{\"attributes\":{\"source\":{\"id\":\"e5735cc3-f300-4fdb-baf2-5b1128117731\",\"type\":\"ColumnDataSource\"}},\"id\":\"6f92caff-06f5-4304-8779-1a5cecdb87d6\",\"type\":\"CDSView\"},{\"attributes\":{\"callback\":null,\"end\":0.010849113845999998,\"start\":-0.0021168044460000003},\"id\":\"695db354-4418-4b0f-932d-402cec41b8c7\",\"type\":\"Range1d\"},{\"attributes\":{\"axis_label\":\"pressure [mb]\",\"formatter\":{\"id\":\"eeb21799-e388-4a1e-94ee-f3e44322e6df\",\"type\":\"LogTickFormatter\"},\"plot\":{\"id\":\"2db548a3-4dca-40f7-bdd5-66fbc0d54ee0\",\"subtype\":\"Figure\",\"type\":\"Plot\"},\"ticker\":{\"id\":\"604e6c55-1ec5-4580-be7c-bd0ad88436a1\",\"type\":\"LogTicker\"}},\"id\":\"483219bb-a364-4725-9372-5c3d58bb8e09\",\"type\":\"LogAxis\"},{\"attributes\":{\"items\":[{\"id\":\"5d6b3700-2bfd-4cf0-ab21-884c7f3ca8a0\",\"type\":\"LegendItem\"},{\"id\":\"6b7c6933-4bb0-4481-a222-909bfc2bda25\",\"type\":\"LegendItem\"},{\"id\":\"e9c0cad1-8e46-4ef0-9a49-9cf76c3aa837\",\"type\":\"LegendItem\"}],\"label_text_font_size\":{\"value\":\"8pt\"},\"location\":\"top_center\",\"orientation\":\"horizontal\",\"plot\":{\"id\":\"9a8c7d8e-6e3e-4060-9cf7-e222ded8d01b\",\"subtype\":\"Figure\",\"type\":\"Plot\"}},\"id\":\"cbfd0d6c-aabd-44fb-8cb4-d74b9437133b\",\"type\":\"Legend\"},{\"attributes\":{},\"id\":\"55d23f30-7109-47b6-86c8-4ca818f3b64b\",\"type\":\"LinearScale\"},{\"attributes\":{},\"id\":\"8cf6381c-7c4c-4ff4-8e2b-63fbf258d59c\",\"type\":\"UnionRenderers\"},{\"attributes\":{\"active_drag\":\"auto\",\"active_inspect\":\"auto\",\"active_scroll\":\"auto\",\"active_tap\":\"auto\",\"tools\":[{\"id\":\"09250329-6476-4f91-8ddc-dd042fc63f82\",\"type\":\"PanTool\"},{\"id\":\"05df6aa9-c41f-48ae-ac69-f54c1c59051f\",\"type\":\"WheelZoomTool\"},{\"id\":\"a382bddb-e721-48c5-9019-c83e594c3a3f\",\"type\":\"BoxZoomTool\"},{\"id\":\"a0b21934-fa8e-4dfe-ad22-391b69620258\",\"type\":\"SaveTool\"},{\"id\":\"b2524653-2405-43b2-b641-f60a7c442137\",\"type\":\"ResetTool\"},{\"id\":\"ad81a497-69d0-4fc4-96dc-8bbc8ecc4bd8\",\"type\":\"HelpTool\"}]},\"id\":\"644a57d4-d8f6-40ab-a312-1f1753ccdcb7\",\"type\":\"Toolbar\"},{\"attributes\":{},\"id\":\"50b37214-239b-4e70-a940-057205b3ed35\",\"type\":\"BasicTicker\"},{\"attributes\":{\"dimension\":1,\"plot\":{\"id\":\"9a8c7d8e-6e3e-4060-9cf7-e222ded8d01b\",\"subtype\":\"Figure\",\"type\":\"Plot\"},\"ticker\":{\"id\":\"50b37214-239b-4e70-a940-057205b3ed35\",\"type\":\"BasicTicker\"}},\"id\":\"bfd87000-2181-4309-9dc4-aae5b7d90940\",\"type\":\"Grid\"},{\"attributes\":{},\"id\":\"05df6aa9-c41f-48ae-ac69-f54c1c59051f\",\"type\":\"WheelZoomTool\"},{\"attributes\":{\"dimension\":1,\"plot\":{\"id\":\"2db548a3-4dca-40f7-bdd5-66fbc0d54ee0\",\"subtype\":\"Figure\",\"type\":\"Plot\"},\"ticker\":{\"id\":\"604e6c55-1ec5-4580-be7c-bd0ad88436a1\",\"type\":\"LogTicker\"}},\"id\":\"33532711-33c8-4544-b7e1-01b15789b9d2\",\"type\":\"Grid\"},{\"attributes\":{\"axis_label\":\"pressure [mb]\",\"formatter\":{\"id\":\"666610c0-f1ff-4e54-ac2c-da3e3c48fd23\",\"type\":\"BasicTickFormatter\"},\"plot\":{\"id\":\"9a8c7d8e-6e3e-4060-9cf7-e222ded8d01b\",\"subtype\":\"Figure\",\"type\":\"Plot\"},\"ticker\":{\"id\":\"50b37214-239b-4e70-a940-057205b3ed35\",\"type\":\"BasicTicker\"}},\"id\":\"e5526976-5c8f-4570-9149-8b68a8cc7d49\",\"type\":\"LinearAxis\"},{\"attributes\":{},\"id\":\"593be764-e3dc-4c3d-ac62-d2ea28506fe4\",\"type\":\"BasicTicker\"},{\"attributes\":{\"axis_label\":\"cooling rate [K/day]\",\"formatter\":{\"id\":\"20162574-0594-438d-9e97-ce5b9081f877\",\"type\":\"BasicTickFormatter\"},\"plot\":{\"id\":\"9a8c7d8e-6e3e-4060-9cf7-e222ded8d01b\",\"subtype\":\"Figure\",\"type\":\"Plot\"},\"ticker\":{\"id\":\"593be764-e3dc-4c3d-ac62-d2ea28506fe4\",\"type\":\"BasicTicker\"}},\"id\":\"554c5f8c-96e8-4e28-b3a9-1c30e6ba893b\",\"type\":\"LinearAxis\"},{\"attributes\":{\"plot\":{\"id\":\"9a8c7d8e-6e3e-4060-9cf7-e222ded8d01b\",\"subtype\":\"Figure\",\"type\":\"Plot\"},\"ticker\":{\"id\":\"593be764-e3dc-4c3d-ac62-d2ea28506fe4\",\"type\":\"BasicTicker\"}},\"id\":\"68c4fa48-6163-42b0-95ab-e79a8b7a8b1e\",\"type\":\"Grid\"},{\"attributes\":{\"fill_alpha\":{\"value\":0.7},\"fill_color\":{\"value\":\"#4daf4a\"},\"line_alpha\":{\"value\":0.7},\"line_color\":{\"value\":\"#4daf4a\"},\"x\":{\"field\":\"x\"},\"y\":{\"field\":\"y\"}},\"id\":\"cad03f13-a7bf-4626-8f1a-ab11dcdaeccb\",\"type\":\"Circle\"},{\"attributes\":{\"overlay\":{\"id\":\"19dd955a-5b23-4da5-96e1-77441757d518\",\"type\":\"BoxAnnotation\"}},\"id\":\"a382bddb-e721-48c5-9019-c83e594c3a3f\",\"type\":\"BoxZoomTool\"},{\"attributes\":{},\"id\":\"84ed6766-f6de-474b-8335-bad0c9c32fea\",\"type\":\"LinearScale\"},{\"attributes\":{\"callback\":null,\"data\":{\"x\":{\"__ndarray__\":\"a5SB5snYQr+3cCD48NxCv++bg6Qa5UK/UWwwbvvsQr+fX/f2lPRCv8rqDybY+0K/XE6FmMQCQ7+6yDV3WwlDv+GqhYSQD0O/DLRkT2QVQ78Bf+WZ2hpDvyFBSP7jH0O/nfpxZpckQ798BS+m3ylDv/H0T4d5MkO/Cbr5zJcRQ7/Byve6qG1Cv8g1l6N5AUG/etb0q4DMPL9mOgLc1hQ0v5JQAWlzZxm/sc0eq1wKKD+EvhUbXqMzPxhQatYyxSc/xlTFG8TCtL4fhjSVrAkqv5aS527eTje/R3PWxUbTPr9A+Vum+ypCv3IFm70XQ0S/uP+D0xn5Rb+8SBe3TI1Hvy+WVDOMN0m/1b/eEN06S7+OW2hqoL5Nvy7c9pPqaFC/uLl0NTlBUr+0lrwhmKFUvxCyyW09O1e/glX2F2GVWb8GeYu5w5xbv2zzZ0V5Ql2/nVdH1QBzXr+cAVaQZCtfv6hXjxn2ZF+/ZN0/X8EZX79Pr61LSEVev/RvSAAG5Fy/ZsquQxPyWr/VPVuUjG1Yv+V5glqSV1W/XFAVk7uvUb9gNocI1OtKv6vM+Jr5VEG/KOo0CwxwKr8EIlp+gfMkP22bw+9ZM0I/GFp/XNQhUD9cFQBZA7FXPxwOnpSIul8/jer7x/4NZD/BHN3CI0NoP4PSdtj0Q2w/PmkbFXXzbz926TJ/BLpxP6RCBPoOh3M/7r1dziOBdT9xxZ5l8bV3Pyb9jgAtH3o/vr3TswywfD8MiS7CMV9/P07mvJv3E4E/DZkRL2aDgj9COrQA2P2DPwaHmMS5g4U/\",\"dtype\":\"float64\",\"shape\":[75]},\"y\":{\"__ndarray__\":\"GhExyth1ND/Sv8nbtpRIP2vylNV0PVE/aTum7souWD/At0SJ8fVgPw3Iuahxymc/MSNhhJWvcD/bTfBN02d3P2zb5nxnaoA/CD5h5MAGhz8NmeH1TyaQP+zrCsc9p5Y/LbKd76fGnz/bLW5ISEmmPww9YvTcQq8/JV2OstnstT8Er5Y7M8G+P0c+r3jqkcU/5h99k6ZBzj88bCIzFzjVP4enV8oyxN0//yH99nXg5D8qOpLLf0jtP5kqGJXUifQ/c9cS8kHP/D+/DpwzojQEQIEmwoanVwxA4lgXt9HgE0BSSZ2AJuIbQAMJih9jjiNA5q4l5INuK0AwTKYKRj0zQNv5fmq8/DpAaCJseHrtQkB/+zpwzoxKQM3MzMzMeFJAZmZmZmZqWEAAAAAAAFxeQM3MzMzMJmJAmpmZmZkfZUBmZmZmZhhoQDMzMzMzEWtAAAAAAAAKbkBmZmZmZoFwQM3MzMzM/XFAMzMzMzN6c0CamZmZmfZ0QAAAAAAAc3ZAZmZmZmbvd0DNzMzMzGt5QDMzMzMz6HpAmpmZmZlkfEAAAAAAAOF9QGZmZmZmXX9AZmZmZuZsgECamZmZGSuBQM3MzMxM6YFAAAAAAICngkAzMzMzs2WDQGZmZmbmI4RAmpmZmRnihEDNzMzMTKCFQAAAAACAXoZAMzMzM7Mch0BmZmZm5tqHQJqZmZkZmYhAzczMzExXiUAAAAAAgBWKQDMzMzOz04pAZmZmZuaRi0CamZmZGVCMQM3MzMxMDo1AAAAAAIDMjUAzMzMzs4qOQGZmZmbmSI9A\",\"dtype\":\"float64\",\"shape\":[75]}},\"selected\":{\"id\":\"47d8f411-c8f0-4bf1-abdb-b215e7a70113\",\"type\":\"Selection\"},\"selection_policy\":{\"id\":\"8cf6381c-7c4c-4ff4-8e2b-63fbf258d59c\",\"type\":\"UnionRenderers\"}},\"id\":\"9201b09f-4058-45d7-b4f1-b2f57ca43f62\",\"type\":\"ColumnDataSource\"},{\"attributes\":{\"num_minor_ticks\":10},\"id\":\"604e6c55-1ec5-4580-be7c-bd0ad88436a1\",\"type\":\"LogTicker\"},{\"attributes\":{\"callback\":null,\"data\":{\"x\":{\"__ndarray__\":\"a5SB5snYQr+3cCD48NxCv++bg6Qa5UK/UWwwbvvsQr+fX/f2lPRCv8rqDybY+0K/XE6FmMQCQ7+6yDV3WwlDv+GqhYSQD0O/DLRkT2QVQ78Bf+WZ2hpDvyFBSP7jH0O/nfpxZpckQ798BS+m3ylDv/H0T4d5MkO/Cbr5zJcRQ7/Byve6qG1Cv8g1l6N5AUG/etb0q4DMPL9mOgLc1hQ0v5JQAWlzZxm/sc0eq1wKKD+EvhUbXqMzPxhQatYyxSc/xlTFG8TCtL4fhjSVrAkqv5aS527eTje/R3PWxUbTPr9A+Vum+ypCv3IFm70XQ0S/uP+D0xn5Rb+8SBe3TI1Hvy+WVDOMN0m/1b/eEN06S7+OW2hqoL5Nvy7c9pPqaFC/uLl0NTlBUr+0lrwhmKFUvxCyyW09O1e/glX2F2GVWb8GeYu5w5xbv2zzZ0V5Ql2/nVdH1QBzXr+cAVaQZCtfv6hXjxn2ZF+/ZN0/X8EZX79Pr61LSEVev/RvSAAG5Fy/ZsquQxPyWr/VPVuUjG1Yv+V5glqSV1W/XFAVk7uvUb9gNocI1OtKv6vM+Jr5VEG/KOo0CwxwKr8EIlp+gfMkP22bw+9ZM0I/GFp/XNQhUD9cFQBZA7FXPxwOnpSIul8/jer7x/4NZD/BHN3CI0NoP4PSdtj0Q2w/PmkbFXXzbz926TJ/BLpxP6RCBPoOh3M/7r1dziOBdT9xxZ5l8bV3Pyb9jgAtH3o/vr3TswywfD8MiS7CMV9/P07mvJv3E4E/DZkRL2aDgj9COrQA2P2DPwaHmMS5g4U/\",\"dtype\":\"float64\",\"shape\":[75]},\"y\":{\"__ndarray__\":\"GhExyth1ND/Sv8nbtpRIP2vylNV0PVE/aTum7souWD/At0SJ8fVgPw3Iuahxymc/MSNhhJWvcD/bTfBN02d3P2zb5nxnaoA/CD5h5MAGhz8NmeH1TyaQP+zrCsc9p5Y/LbKd76fGnz/bLW5ISEmmPww9YvTcQq8/JV2OstnstT8Er5Y7M8G+P0c+r3jqkcU/5h99k6ZBzj88bCIzFzjVP4enV8oyxN0//yH99nXg5D8qOpLLf0jtP5kqGJXUifQ/c9cS8kHP/D+/DpwzojQEQIEmwoanVwxA4lgXt9HgE0BSSZ2AJuIbQAMJih9jjiNA5q4l5INuK0AwTKYKRj0zQNv5fmq8/DpAaCJseHrtQkB/+zpwzoxKQM3MzMzMeFJAZmZmZmZqWEAAAAAAAFxeQM3MzMzMJmJAmpmZmZkfZUBmZmZmZhhoQDMzMzMzEWtAAAAAAAAKbkBmZmZmZoFwQM3MzMzM/XFAMzMzMzN6c0CamZmZmfZ0QAAAAAAAc3ZAZmZmZmbvd0DNzMzMzGt5QDMzMzMz6HpAmpmZmZlkfEAAAAAAAOF9QGZmZmZmXX9AZmZmZuZsgECamZmZGSuBQM3MzMxM6YFAAAAAAICngkAzMzMzs2WDQGZmZmbmI4RAmpmZmRnihEDNzMzMTKCFQAAAAACAXoZAMzMzM7Mch0BmZmZm5tqHQJqZmZkZmYhAzczMzExXiUAAAAAAgBWKQDMzMzOz04pAZmZmZuaRi0CamZmZGVCMQM3MzMxMDo1AAAAAAIDMjUAzMzMzs4qOQGZmZmbmSI9A\",\"dtype\":\"float64\",\"shape\":[75]}},\"selected\":{\"id\":\"3327f2e9-5b66-4b5e-9067-16cd7767c927\",\"type\":\"Selection\"},\"selection_policy\":{\"id\":\"0b1ea40e-bc8a-479b-a062-062358d71ff3\",\"type\":\"UnionRenderers\"}},\"id\":\"9cc55a43-ac09-4298-80f1-ebcd8e87d763\",\"type\":\"ColumnDataSource\"},{\"attributes\":{},\"id\":\"ad81a497-69d0-4fc4-96dc-8bbc8ecc4bd8\",\"type\":\"HelpTool\"},{\"attributes\":{},\"id\":\"09250329-6476-4f91-8ddc-dd042fc63f82\",\"type\":\"PanTool\"},{\"attributes\":{\"plot\":{\"id\":\"2db548a3-4dca-40f7-bdd5-66fbc0d54ee0\",\"subtype\":\"Figure\",\"type\":\"Plot\"},\"ticker\":{\"id\":\"fab4fe5e-5f23-46be-97f1-483bf5120dad\",\"type\":\"BasicTicker\"}},\"id\":\"6722146d-c863-41e6-b724-7c6e0a6b03e2\",\"type\":\"Grid\"},{\"attributes\":{},\"id\":\"a0b21934-fa8e-4dfe-ad22-391b69620258\",\"type\":\"SaveTool\"},{\"attributes\":{\"data_source\":{\"id\":\"9cc55a43-ac09-4298-80f1-ebcd8e87d763\",\"type\":\"ColumnDataSource\"},\"glyph\":{\"id\":\"cad03f13-a7bf-4626-8f1a-ab11dcdaeccb\",\"type\":\"Circle\"},\"hover_glyph\":null,\"muted_glyph\":null,\"nonselection_glyph\":{\"id\":\"30031f95-a741-4c01-ad7f-9126e1b88096\",\"type\":\"Circle\"},\"selection_glyph\":null,\"view\":{\"id\":\"b9fbc7e6-dcad-4930-a907-1f631b67faab\",\"type\":\"CDSView\"}},\"id\":\"5acd3eec-9950-422d-8e19-f5f2d46b6111\",\"type\":\"GlyphRenderer\"},{\"attributes\":{\"source\":{\"id\":\"9cc55a43-ac09-4298-80f1-ebcd8e87d763\",\"type\":\"ColumnDataSource\"}},\"id\":\"b9fbc7e6-dcad-4930-a907-1f631b67faab\",\"type\":\"CDSView\"}],\"root_ids\":[\"0fbe876e-696d-4a18-a122-46604b2642e3\"]},\"title\":\"Bokeh Application\",\"version\":\"0.12.16\"}};\n",
       "  var render_items = [{\"docid\":\"6f5a8d14-10e3-471b-aeb1-ebeb0e9cd68c\",\"elementid\":\"52f863bf-8eeb-4249-9484-e4cace586e6d\",\"modelid\":\"0fbe876e-696d-4a18-a122-46604b2642e3\"}];\n",
       "  root.Bokeh.embed.embed_items_notebook(docs_json, render_items);\n",
       "\n",
       "  }\n",
       "  if (root.Bokeh !== undefined) {\n",
       "    embed_document(root);\n",
       "  } else {\n",
       "    var attempts = 0;\n",
       "    var timer = setInterval(function(root) {\n",
       "      if (root.Bokeh !== undefined) {\n",
       "        embed_document(root);\n",
       "        clearInterval(timer);\n",
       "      }\n",
       "      attempts++;\n",
       "      if (attempts > 100) {\n",
       "        console.log(\"Bokeh: ERROR: Unable to run BokehJS code because BokehJS library is missing\")\n",
       "        clearInterval(timer);\n",
       "      }\n",
       "    }, 10, root)\n",
       "  }\n",
       "})(window);"
      ],
      "application/vnd.bokehjs_exec.v0+json": ""
     },
     "metadata": {
      "application/vnd.bokehjs_exec.v0+json": {
       "id": "0fbe876e-696d-4a18-a122-46604b2642e3"
      }
     },
     "output_type": "display_data"
    },
    {
     "data": {
      "text/markdown": [
       "*FIGURE.* Cooling rates. g=4"
      ],
      "text/plain": [
       "<IPython.core.display.Markdown object>"
      ]
     },
     "metadata": {},
     "output_type": "display_data"
    },
    {
     "data": {
      "text/html": [
       "\n",
       "<div class=\"bk-root\">\n",
       "    <div class=\"bk-plotdiv\" id=\"af9987de-b3a7-4448-b7f7-b11550453024\"></div>\n",
       "</div>"
      ]
     },
     "metadata": {},
     "output_type": "display_data"
    },
    {
     "data": {
      "application/javascript": [
       "(function(root) {\n",
       "  function embed_document(root) {\n",
       "    \n",
       "  var docs_json = {\"2c68b4dd-6f60-4036-bd5a-805d402d176c\":{\"roots\":{\"references\":[{\"attributes\":{},\"id\":\"6729a817-e7f5-4351-a729-57ae2f375617\",\"type\":\"ResetTool\"},{\"attributes\":{},\"id\":\"b950421a-8bca-4d0f-a749-47589742ebbf\",\"type\":\"HelpTool\"},{\"attributes\":{\"fill_alpha\":{\"value\":0.1},\"fill_color\":{\"value\":\"#1f77b4\"},\"line_alpha\":{\"value\":0.1},\"line_color\":{\"value\":\"#1f77b4\"},\"x\":{\"field\":\"x\"},\"y\":{\"field\":\"y\"}},\"id\":\"3816baa9-756a-4053-badf-6b9ae154e20a\",\"type\":\"Circle\"},{\"attributes\":{\"data_source\":{\"id\":\"2894dd8e-9a4c-4ea8-94e2-e22e33451fc8\",\"type\":\"ColumnDataSource\"},\"glyph\":{\"id\":\"42e9e21f-277a-4d8b-a1f5-9f9c5394e2af\",\"type\":\"Circle\"},\"hover_glyph\":null,\"muted_glyph\":null,\"nonselection_glyph\":{\"id\":\"3816baa9-756a-4053-badf-6b9ae154e20a\",\"type\":\"Circle\"},\"selection_glyph\":null,\"view\":{\"id\":\"4082c4e4-ca91-4f56-96ca-9e56e6fc92ff\",\"type\":\"CDSView\"}},\"id\":\"a4245f03-a6dd-4a10-897d-9f8776a252dc\",\"type\":\"GlyphRenderer\"},{\"attributes\":{\"source\":{\"id\":\"2894dd8e-9a4c-4ea8-94e2-e22e33451fc8\",\"type\":\"ColumnDataSource\"}},\"id\":\"4082c4e4-ca91-4f56-96ca-9e56e6fc92ff\",\"type\":\"CDSView\"},{\"attributes\":{\"bottom_units\":\"screen\",\"fill_alpha\":{\"value\":0.5},\"fill_color\":{\"value\":\"lightgrey\"},\"left_units\":\"screen\",\"level\":\"overlay\",\"line_alpha\":{\"value\":1.0},\"line_color\":{\"value\":\"black\"},\"line_dash\":[4,4],\"line_width\":{\"value\":2},\"plot\":null,\"render_mode\":\"css\",\"right_units\":\"screen\",\"top_units\":\"screen\"},\"id\":\"9746746d-a573-461b-bd8e-cb018a787b1e\",\"type\":\"BoxAnnotation\"},{\"attributes\":{\"callback\":null,\"end\":0.01,\"start\":1020},\"id\":\"ada5d207-14ce-4693-930f-4ba1c1a7a310\",\"type\":\"Range1d\"},{\"attributes\":{\"source\":{\"id\":\"4f17be71-9c11-4c07-ab0a-6206dac97ca7\",\"type\":\"ColumnDataSource\"}},\"id\":\"47c14c60-afe9-442c-a867-a747bf2cf203\",\"type\":\"CDSView\"},{\"attributes\":{\"fill_alpha\":{\"value\":0.7},\"fill_color\":{\"value\":\"#984ea3\"},\"line_alpha\":{\"value\":0.7},\"line_color\":{\"value\":\"#984ea3\"},\"x\":{\"field\":\"x\"},\"y\":{\"field\":\"y\"}},\"id\":\"ccc7bc8a-4acb-4a9b-8ea4-5b767883b392\",\"type\":\"Square\"},{\"attributes\":{\"data_source\":{\"id\":\"72c9de87-c096-41e0-be23-2aee20bc6fbf\",\"type\":\"ColumnDataSource\"},\"glyph\":{\"id\":\"ccc7bc8a-4acb-4a9b-8ea4-5b767883b392\",\"type\":\"Square\"},\"hover_glyph\":null,\"muted_glyph\":null,\"nonselection_glyph\":{\"id\":\"2d072367-795e-4da1-9e3d-deacaad6d6c3\",\"type\":\"Square\"},\"selection_glyph\":null,\"view\":{\"id\":\"0760028a-e7d1-4e5f-ad3b-70d34bce807f\",\"type\":\"CDSView\"}},\"id\":\"2b0f54f4-75a4-40d7-93cd-a7823093b371\",\"type\":\"GlyphRenderer\"},{\"attributes\":{},\"id\":\"753dd373-0181-47d7-95d9-a1c2ee752c11\",\"type\":\"SaveTool\"},{\"attributes\":{\"data_source\":{\"id\":\"4f17be71-9c11-4c07-ab0a-6206dac97ca7\",\"type\":\"ColumnDataSource\"},\"glyph\":{\"id\":\"b8150ee5-b0fc-4551-bca7-eb28e55ac379\",\"type\":\"Line\"},\"hover_glyph\":null,\"muted_glyph\":null,\"nonselection_glyph\":{\"id\":\"ee12d432-570d-4d02-a0d8-f59e909442fa\",\"type\":\"Line\"},\"selection_glyph\":null,\"view\":{\"id\":\"47c14c60-afe9-442c-a867-a747bf2cf203\",\"type\":\"CDSView\"}},\"id\":\"6891bd0c-0d97-487c-93f9-90f97eb0976f\",\"type\":\"GlyphRenderer\"},{\"attributes\":{\"line_alpha\":0.1,\"line_color\":\"#1f77b4\",\"line_width\":1.5,\"x\":{\"field\":\"x\"},\"y\":{\"field\":\"y\"}},\"id\":\"ee12d432-570d-4d02-a0d8-f59e909442fa\",\"type\":\"Line\"},{\"attributes\":{\"fill_alpha\":{\"value\":0.7},\"fill_color\":{\"value\":\"#4daf4a\"},\"line_alpha\":{\"value\":0.7},\"line_color\":{\"value\":\"#4daf4a\"},\"x\":{\"field\":\"x\"},\"y\":{\"field\":\"y\"}},\"id\":\"42e9e21f-277a-4d8b-a1f5-9f9c5394e2af\",\"type\":\"Circle\"},{\"attributes\":{\"fill_alpha\":{\"value\":0.1},\"fill_color\":{\"value\":\"#1f77b4\"},\"line_alpha\":{\"value\":0.1},\"line_color\":{\"value\":\"#1f77b4\"},\"x\":{\"field\":\"x\"},\"y\":{\"field\":\"y\"}},\"id\":\"2d072367-795e-4da1-9e3d-deacaad6d6c3\",\"type\":\"Square\"},{\"attributes\":{\"callback\":null,\"data\":{\"x\":{\"__ndarray__\":\"uRAvXwjyib8hxurKA4yJv/HmHbG8uYi/PRy1V97eh7/BVzhubPyGv7YV5JH2GIa/tp7FU6gwhb/YgypWnEWEv1wASmZXXoO/mkxaB6GEgr9FvYKIE56Bv42OBTD0nIC/LWIkcLNxf7/xbtHk6y19v8z9VR3e2XO/nyna2oi9Qj9+/Kfbt+WAP8zsWnLmFZI/6hwtf3fMnT/VESOvfvilPz1NxTL+dK4/L6+KJTPEsz/kn3WyikO1Pz4S4AgTRbM/t8i6kn0ksD+2MCtLmtKoP8tOwMYjEaI/kCs/5jz9mD9RWiPMFBiQP7d8Q0iIUoI/8QWyni5jbj/vcgnGdbhBv+yWyqgKHHK/83Q4ym6vgb/4Ojd7tuSNv9IfaK3yiZa/MOcUi/j6nL8SpPzrrzOgv0lFDMgRvKC/Vy5YSSsHob/oflfX6xWhvzQuw0+B66C/1kTgPcCJoL9YH0RvR/GfvwnpX+gpep6/XN7ALuq4nL8XDwwpPrCav9KFDfOdapi/0BppdrXrlb/gT0E1QzaTvxV7HW3rUpC/k8iA+hGEir/1rqvr5RCEv8Rch/DMoHq/KVWZ/osPab8xqERxq+dAP3oEkeYDUnE/g8ZLk8aFgD+8blqDsZ2IP5AA2KsNcpA/ceC3MpqPlD9T7PENSGyYPwfks+OJuJs/aaXPpF5Vnj8oOFEB0EOgP4Zqzl/sY6E/e3ScsDC5oj9TvvzuYlSkP3MI+YTmKaY/KNKnEQMlqD/33sumSTqqP4LP47+pY6w/CoAglkSgrj/EXBXH/niwP60wv0Atr7E/\",\"dtype\":\"float64\",\"shape\":[75]},\"y\":{\"__ndarray__\":\"GhExyth1ND/Sv8nbtpRIP2vylNV0PVE/aTum7souWD/At0SJ8fVgPw3Iuahxymc/MSNhhJWvcD/bTfBN02d3P2zb5nxnaoA/CD5h5MAGhz8NmeH1TyaQP+zrCsc9p5Y/LbKd76fGnz/bLW5ISEmmPww9YvTcQq8/JV2OstnstT8Er5Y7M8G+P0c+r3jqkcU/5h99k6ZBzj88bCIzFzjVP4enV8oyxN0//yH99nXg5D8qOpLLf0jtP5kqGJXUifQ/c9cS8kHP/D+/DpwzojQEQIEmwoanVwxA4lgXt9HgE0BSSZ2AJuIbQAMJih9jjiNA5q4l5INuK0AwTKYKRj0zQNv5fmq8/DpAaCJseHrtQkB/+zpwzoxKQM3MzMzMeFJAZmZmZmZqWEAAAAAAAFxeQM3MzMzMJmJAmpmZmZkfZUBmZmZmZhhoQDMzMzMzEWtAAAAAAAAKbkBmZmZmZoFwQM3MzMzM/XFAMzMzMzN6c0CamZmZmfZ0QAAAAAAAc3ZAZmZmZmbvd0DNzMzMzGt5QDMzMzMz6HpAmpmZmZlkfEAAAAAAAOF9QGZmZmZmXX9AZmZmZuZsgECamZmZGSuBQM3MzMxM6YFAAAAAAICngkAzMzMzs2WDQGZmZmbmI4RAmpmZmRnihEDNzMzMTKCFQAAAAACAXoZAMzMzM7Mch0BmZmZm5tqHQJqZmZkZmYhAzczMzExXiUAAAAAAgBWKQDMzMzOz04pAZmZmZuaRi0CamZmZGVCMQM3MzMxMDo1AAAAAAIDMjUAzMzMzs4qOQGZmZmbmSI9A\",\"dtype\":\"float64\",\"shape\":[75]}},\"selected\":{\"id\":\"50526e15-c9f3-4e5f-90f3-4d8cff30dfbe\",\"type\":\"Selection\"},\"selection_policy\":{\"id\":\"4c95cd40-844e-456b-a7d9-135b74d7bc39\",\"type\":\"UnionRenderers\"}},\"id\":\"72c9de87-c096-41e0-be23-2aee20bc6fbf\",\"type\":\"ColumnDataSource\"},{\"attributes\":{\"line_color\":\"#4daf4a\",\"line_width\":1.5,\"x\":{\"field\":\"x\"},\"y\":{\"field\":\"y\"}},\"id\":\"b8150ee5-b0fc-4551-bca7-eb28e55ac379\",\"type\":\"Line\"},{\"attributes\":{\"callback\":null,\"data\":{\"x\":{\"__ndarray__\":\"9Gs91U2JoL9qEWyPpGOgv/5N53VcEqC/QD0A/E19n7+zaY6wV9Oev+ID0jF3KZ6/y2gLgaaHnb+iXvEWaeicv27jz5xqUJy/1Ako2NnEm79hEBgSyUmbv06AEu8k55q/N6dcKYGomr83NY04BmOav/KDoS1UiZe/3CX7HQYakL8CptaChxx2v4h6eEmNjnw/PFPu6WYvlj86BbvGxAGkP7vXoooEm64/WUq228DotD/KQRb+wiu2PxQ2nIezxrI/aM40fQvErD97+r/cC6mjP7o9z8Ozgpk/rarR/yxykD+FUfFLBXCFPxuW4YZz9ns/qyEVPNTkcD/OXXMiFC9cPzlh3ZhgKEe/J+lRd8+ja7/6ltX3qIR/v2NF4QDgu4u/XJprcf5Ik78AKPIofS+Wv5mUTMxz7Ja/TUND9x6Vl78AQ0x4mfWXvy/eVvYeBZi/ov7mRS6/l7/iXiZTai2Xv4r3RvVsVZa/I2bFphc8lb8S99P7s+WTvzum9aEYVpK/ZuEcypiPkL9Kz1ajvyiNv2oe+re7z4i/0HSBKH0XhL9fCW/oawV+v9FdTPxBJXO/EyHRYrI6Xr+U3Z11qvpSP+QwtU8kxnE/uIcsweaLfz8+/AVswASHP3gjSFIhkI4/2TAB89EVkz8NYbwKMqKWPyMoVVanh5k/R4tdQB2hmz8OFxM8+USdP/TMJQzSBJ8/3/ejivOpoD/N+yZuSCyiP/j8ajYh+aM/r7xtEqT4pT/c4AOIhRyoP57FCU6oYKo/HdTwArfFrD8QRJwteFKvP8jReUYpCrE/\",\"dtype\":\"float64\",\"shape\":[75]},\"y\":{\"__ndarray__\":\"GhExyth1ND/Sv8nbtpRIP2vylNV0PVE/aTum7souWD/At0SJ8fVgPw3Iuahxymc/MSNhhJWvcD/bTfBN02d3P2zb5nxnaoA/CD5h5MAGhz8NmeH1TyaQP+zrCsc9p5Y/LbKd76fGnz/bLW5ISEmmPww9YvTcQq8/JV2OstnstT8Er5Y7M8G+P0c+r3jqkcU/5h99k6ZBzj88bCIzFzjVP4enV8oyxN0//yH99nXg5D8qOpLLf0jtP5kqGJXUifQ/c9cS8kHP/D+/DpwzojQEQIEmwoanVwxA4lgXt9HgE0BSSZ2AJuIbQAMJih9jjiNA5q4l5INuK0AwTKYKRj0zQNv5fmq8/DpAaCJseHrtQkB/+zpwzoxKQM3MzMzMeFJAZmZmZmZqWEAAAAAAAFxeQM3MzMzMJmJAmpmZmZkfZUBmZmZmZhhoQDMzMzMzEWtAAAAAAAAKbkBmZmZmZoFwQM3MzMzM/XFAMzMzMzN6c0CamZmZmfZ0QAAAAAAAc3ZAZmZmZmbvd0DNzMzMzGt5QDMzMzMz6HpAmpmZmZlkfEAAAAAAAOF9QGZmZmZmXX9AZmZmZuZsgECamZmZGSuBQM3MzMxM6YFAAAAAAICngkAzMzMzs2WDQGZmZmbmI4RAmpmZmRnihEDNzMzMTKCFQAAAAACAXoZAMzMzM7Mch0BmZmZm5tqHQJqZmZkZmYhAzczMzExXiUAAAAAAgBWKQDMzMzOz04pAZmZmZuaRi0CamZmZGVCMQM3MzMxMDo1AAAAAAIDMjUAzMzMzs4qOQGZmZmbmSI9A\",\"dtype\":\"float64\",\"shape\":[75]}},\"selected\":{\"id\":\"835edb72-fa01-4386-a778-db1252543549\",\"type\":\"Selection\"},\"selection_policy\":{\"id\":\"5d5b370c-565e-44c6-9fb8-bd62b902f287\",\"type\":\"UnionRenderers\"}},\"id\":\"4f17be71-9c11-4c07-ab0a-6206dac97ca7\",\"type\":\"ColumnDataSource\"},{\"attributes\":{\"overlay\":{\"id\":\"6829f614-c7ae-4a82-b8f4-b3946e94c724\",\"type\":\"BoxAnnotation\"}},\"id\":\"4e2c29be-45b6-4c60-a85c-83cb553f88e2\",\"type\":\"BoxZoomTool\"},{\"attributes\":{},\"id\":\"cece3f9d-5117-40e2-8818-86fd9b286d6f\",\"type\":\"UnionRenderers\"},{\"attributes\":{},\"id\":\"6e0aaec8-c9bd-4f75-b83c-570f76c096fe\",\"type\":\"Selection\"},{\"attributes\":{},\"id\":\"64dd203d-5713-4795-a246-0aa039401949\",\"type\":\"UnionRenderers\"},{\"attributes\":{\"line_color\":\"#4daf4a\",\"line_width\":1.5,\"x\":{\"field\":\"x\"},\"y\":{\"field\":\"y\"}},\"id\":\"2bee0446-bad5-4b94-82c1-06c8cc401f5c\",\"type\":\"Line\"},{\"attributes\":{},\"id\":\"33a38c6e-61a1-4972-a4be-d0e8e1e20575\",\"type\":\"Selection\"},{\"attributes\":{},\"id\":\"2a62efc2-661d-43a5-92d9-3fa745a084b0\",\"type\":\"UnionRenderers\"},{\"attributes\":{},\"id\":\"e7860360-3146-4624-bbea-9cd8d002b36f\",\"type\":\"Selection\"},{\"attributes\":{},\"id\":\"e57ce84d-e927-41bd-bb44-a83155284929\",\"type\":\"UnionRenderers\"},{\"attributes\":{},\"id\":\"283bdf98-1e16-47d5-bd02-66e174cf4d9b\",\"type\":\"Selection\"},{\"attributes\":{\"tools\":[{\"id\":\"1afa1f2d-a754-4287-8076-eb0b81894ca2\",\"type\":\"PanTool\"},{\"id\":\"50da85b9-67b6-47a3-93f5-108ecfd81ff8\",\"type\":\"WheelZoomTool\"},{\"id\":\"4e2c29be-45b6-4c60-a85c-83cb553f88e2\",\"type\":\"BoxZoomTool\"},{\"id\":\"5e65f6b7-fafe-4e65-ab9a-6a72b46961b6\",\"type\":\"SaveTool\"},{\"id\":\"9cc9f677-dc58-4739-86d6-9fe2e52493c3\",\"type\":\"ResetTool\"},{\"id\":\"4b641e20-e42e-40b9-9a4b-f6dd0f6c0ff6\",\"type\":\"HelpTool\"},{\"id\":\"2dd973f0-9588-44db-95f2-d829188adcf2\",\"type\":\"PanTool\"},{\"id\":\"0d430bfb-098c-4ad8-9239-b4073dbdfca6\",\"type\":\"WheelZoomTool\"},{\"id\":\"1e349d5b-2397-493a-b412-c8ccfd07aa3b\",\"type\":\"BoxZoomTool\"},{\"id\":\"753dd373-0181-47d7-95d9-a1c2ee752c11\",\"type\":\"SaveTool\"},{\"id\":\"6729a817-e7f5-4351-a729-57ae2f375617\",\"type\":\"ResetTool\"},{\"id\":\"b950421a-8bca-4d0f-a749-47589742ebbf\",\"type\":\"HelpTool\"}]},\"id\":\"ff134675-38ac-425c-b111-46b831138961\",\"type\":\"ProxyToolbar\"},{\"attributes\":{\"fill_alpha\":{\"value\":0.7},\"fill_color\":{\"value\":\"#984ea3\"},\"line_alpha\":{\"value\":0.7},\"line_color\":{\"value\":\"#984ea3\"},\"x\":{\"field\":\"x\"},\"y\":{\"field\":\"y\"}},\"id\":\"9329bc7f-2f43-4621-a94d-fabf41c43041\",\"type\":\"Square\"},{\"attributes\":{\"toolbar\":{\"id\":\"ff134675-38ac-425c-b111-46b831138961\",\"type\":\"ProxyToolbar\"},\"toolbar_location\":\"above\"},\"id\":\"e4d473d1-b36a-4dab-921f-4beec1c26936\",\"type\":\"ToolbarBox\"},{\"attributes\":{},\"id\":\"61c94526-e739-4708-8073-ae499303903e\",\"type\":\"UnionRenderers\"},{\"attributes\":{\"source\":{\"id\":\"592b1a6b-2681-4fbb-9d45-4bf2e4cd9888\",\"type\":\"ColumnDataSource\"}},\"id\":\"50c606df-3060-47bb-be53-07f81219ba93\",\"type\":\"CDSView\"},{\"attributes\":{},\"id\":\"add48e88-7f14-4eeb-a60c-2b2fde23cea2\",\"type\":\"Selection\"},{\"attributes\":{\"children\":[{\"id\":\"e4d473d1-b36a-4dab-921f-4beec1c26936\",\"type\":\"ToolbarBox\"},{\"id\":\"a67523f0-f9f7-48da-ae36-d2949714a468\",\"type\":\"Column\"}]},\"id\":\"aef93653-a9ea-4bb4-8b2e-92768bf3c39f\",\"type\":\"Column\"},{\"attributes\":{\"data_source\":{\"id\":\"592b1a6b-2681-4fbb-9d45-4bf2e4cd9888\",\"type\":\"ColumnDataSource\"},\"glyph\":{\"id\":\"9f8875d3-775e-4017-86d4-4cf80f318b65\",\"type\":\"Circle\"},\"hover_glyph\":null,\"muted_glyph\":null,\"nonselection_glyph\":{\"id\":\"19fe7ffd-3c32-407e-ab2f-714576fcc817\",\"type\":\"Circle\"},\"selection_glyph\":null,\"view\":{\"id\":\"50c606df-3060-47bb-be53-07f81219ba93\",\"type\":\"CDSView\"}},\"id\":\"7747547e-8827-45af-91d1-36db237c4472\",\"type\":\"GlyphRenderer\"},{\"attributes\":{},\"id\":\"723fda95-9d8c-479b-8768-8aab6a3cb31a\",\"type\":\"Selection\"},{\"attributes\":{\"data_source\":{\"id\":\"0f787015-2ed3-4d0d-98bd-1c58cb8cfd52\",\"type\":\"ColumnDataSource\"},\"glyph\":{\"id\":\"2bee0446-bad5-4b94-82c1-06c8cc401f5c\",\"type\":\"Line\"},\"hover_glyph\":null,\"muted_glyph\":null,\"nonselection_glyph\":{\"id\":\"283d80d5-0988-4c44-8840-2849f3a08313\",\"type\":\"Line\"},\"selection_glyph\":null,\"view\":{\"id\":\"a29ed269-7f58-4e15-9be1-b9eff7972cf5\",\"type\":\"CDSView\"}},\"id\":\"ef220c49-0ba2-4f31-943a-6283e8d3c938\",\"type\":\"GlyphRenderer\"},{\"attributes\":{\"callback\":null,\"data\":{\"x\":{\"__ndarray__\":\"uRAvXwjyib8hxurKA4yJv/HmHbG8uYi/PRy1V97eh7/BVzhubPyGv7YV5JH2GIa/tp7FU6gwhb/YgypWnEWEv1wASmZXXoO/mkxaB6GEgr9FvYKIE56Bv42OBTD0nIC/LWIkcLNxf7/xbtHk6y19v8z9VR3e2XO/nyna2oi9Qj9+/Kfbt+WAP8zsWnLmFZI/6hwtf3fMnT/VESOvfvilPz1NxTL+dK4/L6+KJTPEsz/kn3WyikO1Pz4S4AgTRbM/t8i6kn0ksD+2MCtLmtKoP8tOwMYjEaI/kCs/5jz9mD9RWiPMFBiQP7d8Q0iIUoI/8QWyni5jbj/vcgnGdbhBv+yWyqgKHHK/83Q4ym6vgb/4Ojd7tuSNv9IfaK3yiZa/MOcUi/j6nL8SpPzrrzOgv0lFDMgRvKC/Vy5YSSsHob/oflfX6xWhvzQuw0+B66C/1kTgPcCJoL9YH0RvR/GfvwnpX+gpep6/XN7ALuq4nL8XDwwpPrCav9KFDfOdapi/0BppdrXrlb/gT0E1QzaTvxV7HW3rUpC/k8iA+hGEir/1rqvr5RCEv8Rch/DMoHq/KVWZ/osPab8xqERxq+dAP3oEkeYDUnE/g8ZLk8aFgD+8blqDsZ2IP5AA2KsNcpA/ceC3MpqPlD9T7PENSGyYPwfks+OJuJs/aaXPpF5Vnj8oOFEB0EOgP4Zqzl/sY6E/e3ScsDC5oj9TvvzuYlSkP3MI+YTmKaY/KNKnEQMlqD/33sumSTqqP4LP47+pY6w/CoAglkSgrj/EXBXH/niwP60wv0Atr7E/\",\"dtype\":\"float64\",\"shape\":[75]},\"y\":{\"__ndarray__\":\"GhExyth1ND/Sv8nbtpRIP2vylNV0PVE/aTum7souWD/At0SJ8fVgPw3Iuahxymc/MSNhhJWvcD/bTfBN02d3P2zb5nxnaoA/CD5h5MAGhz8NmeH1TyaQP+zrCsc9p5Y/LbKd76fGnz/bLW5ISEmmPww9YvTcQq8/JV2OstnstT8Er5Y7M8G+P0c+r3jqkcU/5h99k6ZBzj88bCIzFzjVP4enV8oyxN0//yH99nXg5D8qOpLLf0jtP5kqGJXUifQ/c9cS8kHP/D+/DpwzojQEQIEmwoanVwxA4lgXt9HgE0BSSZ2AJuIbQAMJih9jjiNA5q4l5INuK0AwTKYKRj0zQNv5fmq8/DpAaCJseHrtQkB/+zpwzoxKQM3MzMzMeFJAZmZmZmZqWEAAAAAAAFxeQM3MzMzMJmJAmpmZmZkfZUBmZmZmZhhoQDMzMzMzEWtAAAAAAAAKbkBmZmZmZoFwQM3MzMzM/XFAMzMzMzN6c0CamZmZmfZ0QAAAAAAAc3ZAZmZmZmbvd0DNzMzMzGt5QDMzMzMz6HpAmpmZmZlkfEAAAAAAAOF9QGZmZmZmXX9AZmZmZuZsgECamZmZGSuBQM3MzMxM6YFAAAAAAICngkAzMzMzs2WDQGZmZmbmI4RAmpmZmRnihEDNzMzMTKCFQAAAAACAXoZAMzMzM7Mch0BmZmZm5tqHQJqZmZkZmYhAzczMzExXiUAAAAAAgBWKQDMzMzOz04pAZmZmZuaRi0CamZmZGVCMQM3MzMxMDo1AAAAAAIDMjUAzMzMzs4qOQGZmZmbmSI9A\",\"dtype\":\"float64\",\"shape\":[75]}},\"selected\":{\"id\":\"33a38c6e-61a1-4972-a4be-d0e8e1e20575\",\"type\":\"Selection\"},\"selection_policy\":{\"id\":\"64dd203d-5713-4795-a246-0aa039401949\",\"type\":\"UnionRenderers\"}},\"id\":\"d15eb127-1dd0-4b28-9001-f910c60627ab\",\"type\":\"ColumnDataSource\"},{\"attributes\":{\"callback\":null,\"data\":{\"x\":{\"__ndarray__\":\"nXHBEgw2gr+rWahzDNqBv2X6A6zOG4G/q8hLM9VWgL96SgoBZRt/v7pkqs3wgH2/sQweGHHee7+esawh1TN6vyC6cs+ZgXi/kqX+8xzIdr8G4lofCwh1vxhZ6eBQQnO/5Lfqwa92cb8yExwIgkBuv7v6fiqYqFi/xs6HS8e+bD9BTQxjj8aFP78s5sQ+3pM/ArCMXHXTnj9hEUNksQ2mP2BdtBNFC64/HJLTyaROsz9wKkrXxde0P9kUwe/KKrM/f2EkMiNdsD/i/C7TPMWpP+Dzj1HDMaM/svoLS2j8mj/wBvynm2KRP8qR+cvrLoM/9vIlwIjVaz8KJsZZ6dpUv1Ra3pgHcHW/Ua7QeOUOg78w9C/tEbmOv1ee3dmIqJa/1lL0S7rpnL8inJ7RQC6gv0D1TIUxz6C/AE40t14tob8AGmMvLU2hvz9ksVjBMqG/wOOjWsfeoL/iMI4htVmgv2vNkyC3UJ+/doL9Nmadnb8nEU+WkaCbv3PRTkqQYJm/GOjNNu3hlr957TcRVimUv9BtgzzqPJG/T46BOOVAjL/l9dbGv66Fvy1w60ohkn2/rkiDYMNSbr/0xWuxGVcGv/24kBT0t24/OOsZQuxnfz9x2g5ZdfKHP+n23wSaK5A/1WFnMf5YlD8OIrZ6Q02YP262DZB3w5s/E/lL7PCinj9EJHm7L5OgP+73s6jY2KE/4hMrf7VKoz89CI1Z4PakP87uSDy10qY/sL6PAijNqD+vl4l4jtqqP9SW0rhc9aw/w67ceB8arz/IuwoeSaSwP/eTjkGJwLE/\",\"dtype\":\"float64\",\"shape\":[75]},\"y\":{\"__ndarray__\":\"GhExyth1ND/Sv8nbtpRIP2vylNV0PVE/aTum7souWD/At0SJ8fVgPw3Iuahxymc/MSNhhJWvcD/bTfBN02d3P2zb5nxnaoA/CD5h5MAGhz8NmeH1TyaQP+zrCsc9p5Y/LbKd76fGnz/bLW5ISEmmPww9YvTcQq8/JV2OstnstT8Er5Y7M8G+P0c+r3jqkcU/5h99k6ZBzj88bCIzFzjVP4enV8oyxN0//yH99nXg5D8qOpLLf0jtP5kqGJXUifQ/c9cS8kHP/D+/DpwzojQEQIEmwoanVwxA4lgXt9HgE0BSSZ2AJuIbQAMJih9jjiNA5q4l5INuK0AwTKYKRj0zQNv5fmq8/DpAaCJseHrtQkB/+zpwzoxKQM3MzMzMeFJAZmZmZmZqWEAAAAAAAFxeQM3MzMzMJmJAmpmZmZkfZUBmZmZmZhhoQDMzMzMzEWtAAAAAAAAKbkBmZmZmZoFwQM3MzMzM/XFAMzMzMzN6c0CamZmZmfZ0QAAAAAAAc3ZAZmZmZmbvd0DNzMzMzGt5QDMzMzMz6HpAmpmZmZlkfEAAAAAAAOF9QGZmZmZmXX9AZmZmZuZsgECamZmZGSuBQM3MzMxM6YFAAAAAAICngkAzMzMzs2WDQGZmZmbmI4RAmpmZmRnihEDNzMzMTKCFQAAAAACAXoZAMzMzM7Mch0BmZmZm5tqHQJqZmZkZmYhAzczMzExXiUAAAAAAgBWKQDMzMzOz04pAZmZmZuaRi0CamZmZGVCMQM3MzMxMDo1AAAAAAIDMjUAzMzMzs4qOQGZmZmbmSI9A\",\"dtype\":\"float64\",\"shape\":[75]}},\"selected\":{\"id\":\"e7860360-3146-4624-bbea-9cd8d002b36f\",\"type\":\"Selection\"},\"selection_policy\":{\"id\":\"2a62efc2-661d-43a5-92d9-3fa745a084b0\",\"type\":\"UnionRenderers\"}},\"id\":\"1ee4c637-cfae-4084-ae3b-5e7a7fb13a3f\",\"type\":\"ColumnDataSource\"},{\"attributes\":{\"line_alpha\":0.6,\"line_color\":\"#984ea3\",\"line_width\":3,\"x\":{\"field\":\"x\"},\"y\":{\"field\":\"y\"}},\"id\":\"67e35ee0-27b5-4e43-9fb4-0cad61a385a6\",\"type\":\"Line\"},{\"attributes\":{\"source\":{\"id\":\"0f787015-2ed3-4d0d-98bd-1c58cb8cfd52\",\"type\":\"ColumnDataSource\"}},\"id\":\"a29ed269-7f58-4e15-9be1-b9eff7972cf5\",\"type\":\"CDSView\"},{\"attributes\":{\"source\":{\"id\":\"d15eb127-1dd0-4b28-9001-f910c60627ab\",\"type\":\"ColumnDataSource\"}},\"id\":\"f6e714cd-a59d-48e7-8891-af678c2f054c\",\"type\":\"CDSView\"},{\"attributes\":{\"line_alpha\":0.1,\"line_color\":\"#1f77b4\",\"line_width\":1.5,\"x\":{\"field\":\"x\"},\"y\":{\"field\":\"y\"}},\"id\":\"283d80d5-0988-4c44-8840-2849f3a08313\",\"type\":\"Line\"},{\"attributes\":{\"fill_alpha\":{\"value\":0.7},\"fill_color\":{\"value\":\"#377eb8\"},\"line_alpha\":{\"value\":0.7},\"line_color\":{\"value\":\"#377eb8\"},\"x\":{\"field\":\"x\"},\"y\":{\"field\":\"y\"}},\"id\":\"eb385037-0ffd-4552-a53b-57f3c629d766\",\"type\":\"Triangle\"},{\"attributes\":{\"fill_alpha\":{\"value\":0.1},\"fill_color\":{\"value\":\"#1f77b4\"},\"line_alpha\":{\"value\":0.1},\"line_color\":{\"value\":\"#1f77b4\"},\"x\":{\"field\":\"x\"},\"y\":{\"field\":\"y\"}},\"id\":\"71e9be4e-4b5e-4d28-ace9-4037d4883722\",\"type\":\"Square\"},{\"attributes\":{\"source\":{\"id\":\"343fc963-39ef-4f14-90f3-16079ddd4927\",\"type\":\"ColumnDataSource\"}},\"id\":\"f4b46f62-eebc-4255-bcc6-e6d654889a95\",\"type\":\"CDSView\"},{\"attributes\":{\"callback\":null,\"data\":{\"x\":{\"__ndarray__\":\"uRAvXwjyib8hxurKA4yJv/HmHbG8uYi/PRy1V97eh7/BVzhubPyGv7YV5JH2GIa/tp7FU6gwhb/YgypWnEWEv1wASmZXXoO/mkxaB6GEgr9FvYKIE56Bv42OBTD0nIC/LWIkcLNxf7/xbtHk6y19v8z9VR3e2XO/nyna2oi9Qj9+/Kfbt+WAP8zsWnLmFZI/6hwtf3fMnT/VESOvfvilPz1NxTL+dK4/L6+KJTPEsz/kn3WyikO1Pz4S4AgTRbM/t8i6kn0ksD+2MCtLmtKoP8tOwMYjEaI/kCs/5jz9mD9RWiPMFBiQP7d8Q0iIUoI/8QWyni5jbj/vcgnGdbhBv+yWyqgKHHK/83Q4ym6vgb/4Ojd7tuSNv9IfaK3yiZa/MOcUi/j6nL8SpPzrrzOgv0lFDMgRvKC/Vy5YSSsHob/oflfX6xWhvzQuw0+B66C/1kTgPcCJoL9YH0RvR/GfvwnpX+gpep6/XN7ALuq4nL8XDwwpPrCav9KFDfOdapi/0BppdrXrlb/gT0E1QzaTvxV7HW3rUpC/k8iA+hGEir/1rqvr5RCEv8Rch/DMoHq/KVWZ/osPab8xqERxq+dAP3oEkeYDUnE/g8ZLk8aFgD+8blqDsZ2IP5AA2KsNcpA/ceC3MpqPlD9T7PENSGyYPwfks+OJuJs/aaXPpF5Vnj8oOFEB0EOgP4Zqzl/sY6E/e3ScsDC5oj9TvvzuYlSkP3MI+YTmKaY/KNKnEQMlqD/33sumSTqqP4LP47+pY6w/CoAglkSgrj/EXBXH/niwP60wv0Atr7E/\",\"dtype\":\"float64\",\"shape\":[75]},\"y\":{\"__ndarray__\":\"GhExyth1ND/Sv8nbtpRIP2vylNV0PVE/aTum7souWD/At0SJ8fVgPw3Iuahxymc/MSNhhJWvcD/bTfBN02d3P2zb5nxnaoA/CD5h5MAGhz8NmeH1TyaQP+zrCsc9p5Y/LbKd76fGnz/bLW5ISEmmPww9YvTcQq8/JV2OstnstT8Er5Y7M8G+P0c+r3jqkcU/5h99k6ZBzj88bCIzFzjVP4enV8oyxN0//yH99nXg5D8qOpLLf0jtP5kqGJXUifQ/c9cS8kHP/D+/DpwzojQEQIEmwoanVwxA4lgXt9HgE0BSSZ2AJuIbQAMJih9jjiNA5q4l5INuK0AwTKYKRj0zQNv5fmq8/DpAaCJseHrtQkB/+zpwzoxKQM3MzMzMeFJAZmZmZmZqWEAAAAAAAFxeQM3MzMzMJmJAmpmZmZkfZUBmZmZmZhhoQDMzMzMzEWtAAAAAAAAKbkBmZmZmZoFwQM3MzMzM/XFAMzMzMzN6c0CamZmZmfZ0QAAAAAAAc3ZAZmZmZmbvd0DNzMzMzGt5QDMzMzMz6HpAmpmZmZlkfEAAAAAAAOF9QGZmZmZmXX9AZmZmZuZsgECamZmZGSuBQM3MzMxM6YFAAAAAAICngkAzMzMzs2WDQGZmZmbmI4RAmpmZmRnihEDNzMzMTKCFQAAAAACAXoZAMzMzM7Mch0BmZmZm5tqHQJqZmZkZmYhAzczMzExXiUAAAAAAgBWKQDMzMzOz04pAZmZmZuaRi0CamZmZGVCMQM3MzMxMDo1AAAAAAIDMjUAzMzMzs4qOQGZmZmbmSI9A\",\"dtype\":\"float64\",\"shape\":[75]}},\"selected\":{\"id\":\"283bdf98-1e16-47d5-bd02-66e174cf4d9b\",\"type\":\"Selection\"},\"selection_policy\":{\"id\":\"e57ce84d-e927-41bd-bb44-a83155284929\",\"type\":\"UnionRenderers\"}},\"id\":\"343fc963-39ef-4f14-90f3-16079ddd4927\",\"type\":\"ColumnDataSource\"},{\"attributes\":{\"line_alpha\":0.1,\"line_color\":\"#1f77b4\",\"line_width\":3,\"x\":{\"field\":\"x\"},\"y\":{\"field\":\"y\"}},\"id\":\"e84359ab-8d1c-4c53-9a56-6c2eeff9fe3e\",\"type\":\"Line\"},{\"attributes\":{\"data_source\":{\"id\":\"d15eb127-1dd0-4b28-9001-f910c60627ab\",\"type\":\"ColumnDataSource\"},\"glyph\":{\"id\":\"9329bc7f-2f43-4621-a94d-fabf41c43041\",\"type\":\"Square\"},\"hover_glyph\":null,\"muted_glyph\":null,\"nonselection_glyph\":{\"id\":\"71e9be4e-4b5e-4d28-ace9-4037d4883722\",\"type\":\"Square\"},\"selection_glyph\":null,\"view\":{\"id\":\"f6e714cd-a59d-48e7-8891-af678c2f054c\",\"type\":\"CDSView\"}},\"id\":\"792d2c02-4861-4eb0-b84a-fcd1da9bbe95\",\"type\":\"GlyphRenderer\"},{\"attributes\":{\"callback\":null,\"data\":{\"x\":{\"__ndarray__\":\"9Gs91U2JoL9qEWyPpGOgv/5N53VcEqC/QD0A/E19n7+zaY6wV9Oev+ID0jF3KZ6/y2gLgaaHnb+iXvEWaeicv27jz5xqUJy/1Ako2NnEm79hEBgSyUmbv06AEu8k55q/N6dcKYGomr83NY04BmOav/KDoS1UiZe/3CX7HQYakL8CptaChxx2v4h6eEmNjnw/PFPu6WYvlj86BbvGxAGkP7vXoooEm64/WUq228DotD/KQRb+wiu2PxQ2nIezxrI/aM40fQvErD97+r/cC6mjP7o9z8Ozgpk/rarR/yxykD+FUfFLBXCFPxuW4YZz9ns/qyEVPNTkcD/OXXMiFC9cPzlh3ZhgKEe/J+lRd8+ja7/6ltX3qIR/v2NF4QDgu4u/XJprcf5Ik78AKPIofS+Wv5mUTMxz7Ja/TUND9x6Vl78AQ0x4mfWXvy/eVvYeBZi/ov7mRS6/l7/iXiZTai2Xv4r3RvVsVZa/I2bFphc8lb8S99P7s+WTvzum9aEYVpK/ZuEcypiPkL9Kz1ajvyiNv2oe+re7z4i/0HSBKH0XhL9fCW/oawV+v9FdTPxBJXO/EyHRYrI6Xr+U3Z11qvpSP+QwtU8kxnE/uIcsweaLfz8+/AVswASHP3gjSFIhkI4/2TAB89EVkz8NYbwKMqKWPyMoVVanh5k/R4tdQB2hmz8OFxM8+USdP/TMJQzSBJ8/3/ejivOpoD/N+yZuSCyiP/j8ajYh+aM/r7xtEqT4pT/c4AOIhRyoP57FCU6oYKo/HdTwArfFrD8QRJwteFKvP8jReUYpCrE/\",\"dtype\":\"float64\",\"shape\":[75]},\"y\":{\"__ndarray__\":\"GhExyth1ND/Sv8nbtpRIP2vylNV0PVE/aTum7souWD/At0SJ8fVgPw3Iuahxymc/MSNhhJWvcD/bTfBN02d3P2zb5nxnaoA/CD5h5MAGhz8NmeH1TyaQP+zrCsc9p5Y/LbKd76fGnz/bLW5ISEmmPww9YvTcQq8/JV2OstnstT8Er5Y7M8G+P0c+r3jqkcU/5h99k6ZBzj88bCIzFzjVP4enV8oyxN0//yH99nXg5D8qOpLLf0jtP5kqGJXUifQ/c9cS8kHP/D+/DpwzojQEQIEmwoanVwxA4lgXt9HgE0BSSZ2AJuIbQAMJih9jjiNA5q4l5INuK0AwTKYKRj0zQNv5fmq8/DpAaCJseHrtQkB/+zpwzoxKQM3MzMzMeFJAZmZmZmZqWEAAAAAAAFxeQM3MzMzMJmJAmpmZmZkfZUBmZmZmZhhoQDMzMzMzEWtAAAAAAAAKbkBmZmZmZoFwQM3MzMzM/XFAMzMzMzN6c0CamZmZmfZ0QAAAAAAAc3ZAZmZmZmbvd0DNzMzMzGt5QDMzMzMz6HpAmpmZmZlkfEAAAAAAAOF9QGZmZmZmXX9AZmZmZuZsgECamZmZGSuBQM3MzMxM6YFAAAAAAICngkAzMzMzs2WDQGZmZmbmI4RAmpmZmRnihEDNzMzMTKCFQAAAAACAXoZAMzMzM7Mch0BmZmZm5tqHQJqZmZkZmYhAzczMzExXiUAAAAAAgBWKQDMzMzOz04pAZmZmZuaRi0CamZmZGVCMQM3MzMxMDo1AAAAAAIDMjUAzMzMzs4qOQGZmZmbmSI9A\",\"dtype\":\"float64\",\"shape\":[75]}},\"selected\":{\"id\":\"6e0aaec8-c9bd-4f75-b83c-570f76c096fe\",\"type\":\"Selection\"},\"selection_policy\":{\"id\":\"cece3f9d-5117-40e2-8818-86fd9b286d6f\",\"type\":\"UnionRenderers\"}},\"id\":\"0f787015-2ed3-4d0d-98bd-1c58cb8cfd52\",\"type\":\"ColumnDataSource\"},{\"attributes\":{\"data_source\":{\"id\":\"343fc963-39ef-4f14-90f3-16079ddd4927\",\"type\":\"ColumnDataSource\"},\"glyph\":{\"id\":\"67e35ee0-27b5-4e43-9fb4-0cad61a385a6\",\"type\":\"Line\"},\"hover_glyph\":null,\"muted_glyph\":null,\"nonselection_glyph\":{\"id\":\"e84359ab-8d1c-4c53-9a56-6c2eeff9fe3e\",\"type\":\"Line\"},\"selection_glyph\":null,\"view\":{\"id\":\"f4b46f62-eebc-4255-bcc6-e6d654889a95\",\"type\":\"CDSView\"}},\"id\":\"4401b27d-a72a-485d-8488-09d4b8f337bf\",\"type\":\"GlyphRenderer\"},{\"attributes\":{\"callback\":null,\"data\":{\"x\":{\"__ndarray__\":\"nXHBEgw2gr+rWahzDNqBv2X6A6zOG4G/q8hLM9VWgL96SgoBZRt/v7pkqs3wgH2/sQweGHHee7+esawh1TN6vyC6cs+ZgXi/kqX+8xzIdr8G4lofCwh1vxhZ6eBQQnO/5Lfqwa92cb8yExwIgkBuv7v6fiqYqFi/xs6HS8e+bD9BTQxjj8aFP78s5sQ+3pM/ArCMXHXTnj9hEUNksQ2mP2BdtBNFC64/HJLTyaROsz9wKkrXxde0P9kUwe/KKrM/f2EkMiNdsD/i/C7TPMWpP+Dzj1HDMaM/svoLS2j8mj/wBvynm2KRP8qR+cvrLoM/9vIlwIjVaz8KJsZZ6dpUv1Ra3pgHcHW/Ua7QeOUOg78w9C/tEbmOv1ee3dmIqJa/1lL0S7rpnL8inJ7RQC6gv0D1TIUxz6C/AE40t14tob8AGmMvLU2hvz9ksVjBMqG/wOOjWsfeoL/iMI4htVmgv2vNkyC3UJ+/doL9Nmadnb8nEU+WkaCbv3PRTkqQYJm/GOjNNu3hlr957TcRVimUv9BtgzzqPJG/T46BOOVAjL/l9dbGv66Fvy1w60ohkn2/rkiDYMNSbr/0xWuxGVcGv/24kBT0t24/OOsZQuxnfz9x2g5ZdfKHP+n23wSaK5A/1WFnMf5YlD8OIrZ6Q02YP262DZB3w5s/E/lL7PCinj9EJHm7L5OgP+73s6jY2KE/4hMrf7VKoz89CI1Z4PakP87uSDy10qY/sL6PAijNqD+vl4l4jtqqP9SW0rhc9aw/w67ceB8arz/IuwoeSaSwP/eTjkGJwLE/\",\"dtype\":\"float64\",\"shape\":[75]},\"y\":{\"__ndarray__\":\"GhExyth1ND/Sv8nbtpRIP2vylNV0PVE/aTum7souWD/At0SJ8fVgPw3Iuahxymc/MSNhhJWvcD/bTfBN02d3P2zb5nxnaoA/CD5h5MAGhz8NmeH1TyaQP+zrCsc9p5Y/LbKd76fGnz/bLW5ISEmmPww9YvTcQq8/JV2OstnstT8Er5Y7M8G+P0c+r3jqkcU/5h99k6ZBzj88bCIzFzjVP4enV8oyxN0//yH99nXg5D8qOpLLf0jtP5kqGJXUifQ/c9cS8kHP/D+/DpwzojQEQIEmwoanVwxA4lgXt9HgE0BSSZ2AJuIbQAMJih9jjiNA5q4l5INuK0AwTKYKRj0zQNv5fmq8/DpAaCJseHrtQkB/+zpwzoxKQM3MzMzMeFJAZmZmZmZqWEAAAAAAAFxeQM3MzMzMJmJAmpmZmZkfZUBmZmZmZhhoQDMzMzMzEWtAAAAAAAAKbkBmZmZmZoFwQM3MzMzM/XFAMzMzMzN6c0CamZmZmfZ0QAAAAAAAc3ZAZmZmZmbvd0DNzMzMzGt5QDMzMzMz6HpAmpmZmZlkfEAAAAAAAOF9QGZmZmZmXX9AZmZmZuZsgECamZmZGSuBQM3MzMxM6YFAAAAAAICngkAzMzMzs2WDQGZmZmbmI4RAmpmZmRnihEDNzMzMTKCFQAAAAACAXoZAMzMzM7Mch0BmZmZm5tqHQJqZmZkZmYhAzczMzExXiUAAAAAAgBWKQDMzMzOz04pAZmZmZuaRi0CamZmZGVCMQM3MzMxMDo1AAAAAAIDMjUAzMzMzs4qOQGZmZmbmSI9A\",\"dtype\":\"float64\",\"shape\":[75]}},\"selected\":{\"id\":\"add48e88-7f14-4eeb-a60c-2b2fde23cea2\",\"type\":\"Selection\"},\"selection_policy\":{\"id\":\"61c94526-e739-4708-8073-ae499303903e\",\"type\":\"UnionRenderers\"}},\"id\":\"95946473-b9d2-4d94-bbc4-6a4b4bdd5af9\",\"type\":\"ColumnDataSource\"},{\"attributes\":{\"fill_alpha\":{\"value\":0.1},\"fill_color\":{\"value\":\"#1f77b4\"},\"line_alpha\":{\"value\":0.1},\"line_color\":{\"value\":\"#1f77b4\"},\"x\":{\"field\":\"x\"},\"y\":{\"field\":\"y\"}},\"id\":\"baa4f145-b4d6-434f-bbb4-dce318904f50\",\"type\":\"Triangle\"},{\"attributes\":{\"data_source\":{\"id\":\"1ee4c637-cfae-4084-ae3b-5e7a7fb13a3f\",\"type\":\"ColumnDataSource\"},\"glyph\":{\"id\":\"eb385037-0ffd-4552-a53b-57f3c629d766\",\"type\":\"Triangle\"},\"hover_glyph\":null,\"muted_glyph\":null,\"nonselection_glyph\":{\"id\":\"baa4f145-b4d6-434f-bbb4-dce318904f50\",\"type\":\"Triangle\"},\"selection_glyph\":null,\"view\":{\"id\":\"60c2d872-7f94-495c-ae9a-4c15ba5be295\",\"type\":\"CDSView\"}},\"id\":\"e89022f9-a69f-42a1-b254-70aea6bfa2ec\",\"type\":\"GlyphRenderer\"},{\"attributes\":{\"source\":{\"id\":\"1ee4c637-cfae-4084-ae3b-5e7a7fb13a3f\",\"type\":\"ColumnDataSource\"}},\"id\":\"60c2d872-7f94-495c-ae9a-4c15ba5be295\",\"type\":\"CDSView\"},{\"attributes\":{\"line_alpha\":0.3,\"line_color\":\"#377eb8\",\"line_width\":2,\"x\":{\"field\":\"x\"},\"y\":{\"field\":\"y\"}},\"id\":\"9c215193-b5df-4f17-861b-25be2ee76c9d\",\"type\":\"Line\"},{\"attributes\":{\"children\":[{\"id\":\"7bae5e22-d38f-4355-95ed-7751e95f4c9b\",\"type\":\"Row\"}]},\"id\":\"a67523f0-f9f7-48da-ae36-d2949714a468\",\"type\":\"Column\"},{\"attributes\":{\"line_alpha\":0.1,\"line_color\":\"#1f77b4\",\"line_width\":2,\"x\":{\"field\":\"x\"},\"y\":{\"field\":\"y\"}},\"id\":\"77a45ddb-6b29-4b2e-b509-c893ba9cf4b3\",\"type\":\"Line\"},{\"attributes\":{\"data_source\":{\"id\":\"95946473-b9d2-4d94-bbc4-6a4b4bdd5af9\",\"type\":\"ColumnDataSource\"},\"glyph\":{\"id\":\"9c215193-b5df-4f17-861b-25be2ee76c9d\",\"type\":\"Line\"},\"hover_glyph\":null,\"muted_glyph\":null,\"nonselection_glyph\":{\"id\":\"77a45ddb-6b29-4b2e-b509-c893ba9cf4b3\",\"type\":\"Line\"},\"selection_glyph\":null,\"view\":{\"id\":\"8e365b7e-f4bf-47f4-abee-0f064c458d2f\",\"type\":\"CDSView\"}},\"id\":\"dc3461a4-baec-4637-91fb-73b64b228a27\",\"type\":\"GlyphRenderer\"},{\"attributes\":{\"source\":{\"id\":\"95946473-b9d2-4d94-bbc4-6a4b4bdd5af9\",\"type\":\"ColumnDataSource\"}},\"id\":\"8e365b7e-f4bf-47f4-abee-0f064c458d2f\",\"type\":\"CDSView\"},{\"attributes\":{\"plot\":null,\"text\":\"\"},\"id\":\"02778104-aeaa-4f21-be64-7e691722be88\",\"type\":\"Title\"},{\"attributes\":{\"children\":[{\"id\":\"ffdb950c-1628-4384-ad25-0cffa8ffadd3\",\"subtype\":\"Figure\",\"type\":\"Plot\"},{\"id\":\"34e947e8-34c1-4177-815d-68ddf0db6dd4\",\"subtype\":\"Figure\",\"type\":\"Plot\"}]},\"id\":\"7bae5e22-d38f-4355-95ed-7751e95f4c9b\",\"type\":\"Row\"},{\"attributes\":{\"label\":{\"value\":\"CRD\"},\"renderers\":[{\"id\":\"7747547e-8827-45af-91d1-36db237c4472\",\"type\":\"GlyphRenderer\"},{\"id\":\"ef220c49-0ba2-4f31-943a-6283e8d3c938\",\"type\":\"GlyphRenderer\"}]},\"id\":\"6075e6e1-42c0-4e14-9993-2daca9db36e2\",\"type\":\"LegendItem\"},{\"attributes\":{},\"id\":\"418f5797-94d3-4f27-a426-97bae543d533\",\"type\":\"Selection\"},{\"attributes\":{\"label\":{\"value\":\"WGT igg=1\"},\"renderers\":[{\"id\":\"792d2c02-4861-4eb0-b84a-fcd1da9bbe95\",\"type\":\"GlyphRenderer\"},{\"id\":\"4401b27d-a72a-485d-8488-09d4b8f337bf\",\"type\":\"GlyphRenderer\"}]},\"id\":\"123ef8bd-3360-4b80-9502-eb0234d32f51\",\"type\":\"LegendItem\"},{\"attributes\":{},\"id\":\"c0724828-d7cf-4ede-a7b5-fd62d699aecf\",\"type\":\"BasicTickFormatter\"},{\"attributes\":{\"label\":{\"value\":\"WGT igg=10\"},\"renderers\":[{\"id\":\"e89022f9-a69f-42a1-b254-70aea6bfa2ec\",\"type\":\"GlyphRenderer\"},{\"id\":\"dc3461a4-baec-4637-91fb-73b64b228a27\",\"type\":\"GlyphRenderer\"}]},\"id\":\"14173eab-5205-4534-a8c0-e581e164367b\",\"type\":\"LegendItem\"},{\"attributes\":{\"plot\":null,\"text\":\"\"},\"id\":\"3e5d703b-972b-4433-a100-bc76002e6151\",\"type\":\"Title\"},{\"attributes\":{},\"id\":\"0e02fb06-aacf-4de8-b299-b10ec0d923fe\",\"type\":\"BasicTickFormatter\"},{\"attributes\":{},\"id\":\"284563bf-6f07-47ba-88ba-667b3a71bcf4\",\"type\":\"BasicTickFormatter\"},{\"attributes\":{},\"id\":\"050eaa68-afd9-4843-b8e4-f58e33d3bb8f\",\"type\":\"UnionRenderers\"},{\"attributes\":{},\"id\":\"b638bcce-4466-4af2-b0db-250b7798583c\",\"type\":\"UnionRenderers\"},{\"attributes\":{\"ticker\":null},\"id\":\"848fc041-fb16-4e1e-b4c7-066a2160140d\",\"type\":\"LogTickFormatter\"},{\"attributes\":{},\"id\":\"8b076ad4-8733-4152-9715-920273cba590\",\"type\":\"Selection\"},{\"attributes\":{},\"id\":\"5d5b370c-565e-44c6-9fb8-bd62b902f287\",\"type\":\"UnionRenderers\"},{\"attributes\":{},\"id\":\"835edb72-fa01-4386-a778-db1252543549\",\"type\":\"Selection\"},{\"attributes\":{},\"id\":\"5f87e89a-2a01-4495-a4f6-b72f336d89f9\",\"type\":\"UnionRenderers\"},{\"attributes\":{},\"id\":\"4d283511-4549-4606-b476-b80f0c3cdc0c\",\"type\":\"Selection\"},{\"attributes\":{\"callback\":null,\"data\":{\"x\":{\"__ndarray__\":\"9Gs91U2JoL9qEWyPpGOgv/5N53VcEqC/QD0A/E19n7+zaY6wV9Oev+ID0jF3KZ6/y2gLgaaHnb+iXvEWaeicv27jz5xqUJy/1Ako2NnEm79hEBgSyUmbv06AEu8k55q/N6dcKYGomr83NY04BmOav/KDoS1UiZe/3CX7HQYakL8CptaChxx2v4h6eEmNjnw/PFPu6WYvlj86BbvGxAGkP7vXoooEm64/WUq228DotD/KQRb+wiu2PxQ2nIezxrI/aM40fQvErD97+r/cC6mjP7o9z8Ozgpk/rarR/yxykD+FUfFLBXCFPxuW4YZz9ns/qyEVPNTkcD/OXXMiFC9cPzlh3ZhgKEe/J+lRd8+ja7/6ltX3qIR/v2NF4QDgu4u/XJprcf5Ik78AKPIofS+Wv5mUTMxz7Ja/TUND9x6Vl78AQ0x4mfWXvy/eVvYeBZi/ov7mRS6/l7/iXiZTai2Xv4r3RvVsVZa/I2bFphc8lb8S99P7s+WTvzum9aEYVpK/ZuEcypiPkL9Kz1ajvyiNv2oe+re7z4i/0HSBKH0XhL9fCW/oawV+v9FdTPxBJXO/EyHRYrI6Xr+U3Z11qvpSP+QwtU8kxnE/uIcsweaLfz8+/AVswASHP3gjSFIhkI4/2TAB89EVkz8NYbwKMqKWPyMoVVanh5k/R4tdQB2hmz8OFxM8+USdP/TMJQzSBJ8/3/ejivOpoD/N+yZuSCyiP/j8ajYh+aM/r7xtEqT4pT/c4AOIhRyoP57FCU6oYKo/HdTwArfFrD8QRJwteFKvP8jReUYpCrE/\",\"dtype\":\"float64\",\"shape\":[75]},\"y\":{\"__ndarray__\":\"GhExyth1ND/Sv8nbtpRIP2vylNV0PVE/aTum7souWD/At0SJ8fVgPw3Iuahxymc/MSNhhJWvcD/bTfBN02d3P2zb5nxnaoA/CD5h5MAGhz8NmeH1TyaQP+zrCsc9p5Y/LbKd76fGnz/bLW5ISEmmPww9YvTcQq8/JV2OstnstT8Er5Y7M8G+P0c+r3jqkcU/5h99k6ZBzj88bCIzFzjVP4enV8oyxN0//yH99nXg5D8qOpLLf0jtP5kqGJXUifQ/c9cS8kHP/D+/DpwzojQEQIEmwoanVwxA4lgXt9HgE0BSSZ2AJuIbQAMJih9jjiNA5q4l5INuK0AwTKYKRj0zQNv5fmq8/DpAaCJseHrtQkB/+zpwzoxKQM3MzMzMeFJAZmZmZmZqWEAAAAAAAFxeQM3MzMzMJmJAmpmZmZkfZUBmZmZmZhhoQDMzMzMzEWtAAAAAAAAKbkBmZmZmZoFwQM3MzMzM/XFAMzMzMzN6c0CamZmZmfZ0QAAAAAAAc3ZAZmZmZmbvd0DNzMzMzGt5QDMzMzMz6HpAmpmZmZlkfEAAAAAAAOF9QGZmZmZmXX9AZmZmZuZsgECamZmZGSuBQM3MzMxM6YFAAAAAAICngkAzMzMzs2WDQGZmZmbmI4RAmpmZmRnihEDNzMzMTKCFQAAAAACAXoZAMzMzM7Mch0BmZmZm5tqHQJqZmZkZmYhAzczMzExXiUAAAAAAgBWKQDMzMzOz04pAZmZmZuaRi0CamZmZGVCMQM3MzMxMDo1AAAAAAIDMjUAzMzMzs4qOQGZmZmbmSI9A\",\"dtype\":\"float64\",\"shape\":[75]}},\"selected\":{\"id\":\"418f5797-94d3-4f27-a426-97bae543d533\",\"type\":\"Selection\"},\"selection_policy\":{\"id\":\"050eaa68-afd9-4843-b8e4-f58e33d3bb8f\",\"type\":\"UnionRenderers\"}},\"id\":\"2894dd8e-9a4c-4ea8-94e2-e22e33451fc8\",\"type\":\"ColumnDataSource\"},{\"attributes\":{\"bottom_units\":\"screen\",\"fill_alpha\":{\"value\":0.5},\"fill_color\":{\"value\":\"lightgrey\"},\"left_units\":\"screen\",\"level\":\"overlay\",\"line_alpha\":{\"value\":1.0},\"line_color\":{\"value\":\"black\"},\"line_dash\":[4,4],\"line_width\":{\"value\":2},\"plot\":null,\"render_mode\":\"css\",\"right_units\":\"screen\",\"top_units\":\"screen\"},\"id\":\"6829f614-c7ae-4a82-b8f4-b3946e94c724\",\"type\":\"BoxAnnotation\"},{\"attributes\":{},\"id\":\"9cc9f677-dc58-4739-86d6-9fe2e52493c3\",\"type\":\"ResetTool\"},{\"attributes\":{},\"id\":\"4b641e20-e42e-40b9-9a4b-f6dd0f6c0ff6\",\"type\":\"HelpTool\"},{\"attributes\":{},\"id\":\"b61611a3-2b98-465a-8144-bb5cdd9a5ad9\",\"type\":\"Selection\"},{\"attributes\":{\"items\":[{\"id\":\"2ca2fbda-8375-4aa8-adba-6a90ad65d14a\",\"type\":\"LegendItem\"},{\"id\":\"c2743c75-f282-4775-ab4d-728da0346c38\",\"type\":\"LegendItem\"},{\"id\":\"c3cca4fc-85d6-41a0-a89c-4bb3d70a54c4\",\"type\":\"LegendItem\"}],\"label_text_font_size\":{\"value\":\"8pt\"},\"location\":\"top_center\",\"orientation\":\"horizontal\",\"plot\":{\"id\":\"ffdb950c-1628-4384-ad25-0cffa8ffadd3\",\"subtype\":\"Figure\",\"type\":\"Plot\"}},\"id\":\"d87982ba-cfd0-4328-89aa-0f829a4525fa\",\"type\":\"Legend\"},{\"attributes\":{\"callback\":null,\"data\":{\"x\":{\"__ndarray__\":\"nXHBEgw2gr+rWahzDNqBv2X6A6zOG4G/q8hLM9VWgL96SgoBZRt/v7pkqs3wgH2/sQweGHHee7+esawh1TN6vyC6cs+ZgXi/kqX+8xzIdr8G4lofCwh1vxhZ6eBQQnO/5Lfqwa92cb8yExwIgkBuv7v6fiqYqFi/xs6HS8e+bD9BTQxjj8aFP78s5sQ+3pM/ArCMXHXTnj9hEUNksQ2mP2BdtBNFC64/HJLTyaROsz9wKkrXxde0P9kUwe/KKrM/f2EkMiNdsD/i/C7TPMWpP+Dzj1HDMaM/svoLS2j8mj/wBvynm2KRP8qR+cvrLoM/9vIlwIjVaz8KJsZZ6dpUv1Ra3pgHcHW/Ua7QeOUOg78w9C/tEbmOv1ee3dmIqJa/1lL0S7rpnL8inJ7RQC6gv0D1TIUxz6C/AE40t14tob8AGmMvLU2hvz9ksVjBMqG/wOOjWsfeoL/iMI4htVmgv2vNkyC3UJ+/doL9Nmadnb8nEU+WkaCbv3PRTkqQYJm/GOjNNu3hlr957TcRVimUv9BtgzzqPJG/T46BOOVAjL/l9dbGv66Fvy1w60ohkn2/rkiDYMNSbr/0xWuxGVcGv/24kBT0t24/OOsZQuxnfz9x2g5ZdfKHP+n23wSaK5A/1WFnMf5YlD8OIrZ6Q02YP262DZB3w5s/E/lL7PCinj9EJHm7L5OgP+73s6jY2KE/4hMrf7VKoz89CI1Z4PakP87uSDy10qY/sL6PAijNqD+vl4l4jtqqP9SW0rhc9aw/w67ceB8arz/IuwoeSaSwP/eTjkGJwLE/\",\"dtype\":\"float64\",\"shape\":[75]},\"y\":{\"__ndarray__\":\"GhExyth1ND/Sv8nbtpRIP2vylNV0PVE/aTum7souWD/At0SJ8fVgPw3Iuahxymc/MSNhhJWvcD/bTfBN02d3P2zb5nxnaoA/CD5h5MAGhz8NmeH1TyaQP+zrCsc9p5Y/LbKd76fGnz/bLW5ISEmmPww9YvTcQq8/JV2OstnstT8Er5Y7M8G+P0c+r3jqkcU/5h99k6ZBzj88bCIzFzjVP4enV8oyxN0//yH99nXg5D8qOpLLf0jtP5kqGJXUifQ/c9cS8kHP/D+/DpwzojQEQIEmwoanVwxA4lgXt9HgE0BSSZ2AJuIbQAMJih9jjiNA5q4l5INuK0AwTKYKRj0zQNv5fmq8/DpAaCJseHrtQkB/+zpwzoxKQM3MzMzMeFJAZmZmZmZqWEAAAAAAAFxeQM3MzMzMJmJAmpmZmZkfZUBmZmZmZhhoQDMzMzMzEWtAAAAAAAAKbkBmZmZmZoFwQM3MzMzM/XFAMzMzMzN6c0CamZmZmfZ0QAAAAAAAc3ZAZmZmZmbvd0DNzMzMzGt5QDMzMzMz6HpAmpmZmZlkfEAAAAAAAOF9QGZmZmZmXX9AZmZmZuZsgECamZmZGSuBQM3MzMxM6YFAAAAAAICngkAzMzMzs2WDQGZmZmbmI4RAmpmZmRnihEDNzMzMTKCFQAAAAACAXoZAMzMzM7Mch0BmZmZm5tqHQJqZmZkZmYhAzczMzExXiUAAAAAAgBWKQDMzMzOz04pAZmZmZuaRi0CamZmZGVCMQM3MzMxMDo1AAAAAAIDMjUAzMzMzs4qOQGZmZmbmSI9A\",\"dtype\":\"float64\",\"shape\":[75]}},\"selected\":{\"id\":\"723fda95-9d8c-479b-8768-8aab6a3cb31a\",\"type\":\"Selection\"},\"selection_policy\":{\"id\":\"1032cbbb-3b20-4a4c-ada3-056bfb10e751\",\"type\":\"UnionRenderers\"}},\"id\":\"43119c74-13b5-4cec-878b-e94355f16e12\",\"type\":\"ColumnDataSource\"},{\"attributes\":{\"callback\":null,\"data\":{\"x\":{\"__ndarray__\":\"uRAvXwjyib8hxurKA4yJv/HmHbG8uYi/PRy1V97eh7/BVzhubPyGv7YV5JH2GIa/tp7FU6gwhb/YgypWnEWEv1wASmZXXoO/mkxaB6GEgr9FvYKIE56Bv42OBTD0nIC/LWIkcLNxf7/xbtHk6y19v8z9VR3e2XO/nyna2oi9Qj9+/Kfbt+WAP8zsWnLmFZI/6hwtf3fMnT/VESOvfvilPz1NxTL+dK4/L6+KJTPEsz/kn3WyikO1Pz4S4AgTRbM/t8i6kn0ksD+2MCtLmtKoP8tOwMYjEaI/kCs/5jz9mD9RWiPMFBiQP7d8Q0iIUoI/8QWyni5jbj/vcgnGdbhBv+yWyqgKHHK/83Q4ym6vgb/4Ojd7tuSNv9IfaK3yiZa/MOcUi/j6nL8SpPzrrzOgv0lFDMgRvKC/Vy5YSSsHob/oflfX6xWhvzQuw0+B66C/1kTgPcCJoL9YH0RvR/GfvwnpX+gpep6/XN7ALuq4nL8XDwwpPrCav9KFDfOdapi/0BppdrXrlb/gT0E1QzaTvxV7HW3rUpC/k8iA+hGEir/1rqvr5RCEv8Rch/DMoHq/KVWZ/osPab8xqERxq+dAP3oEkeYDUnE/g8ZLk8aFgD+8blqDsZ2IP5AA2KsNcpA/ceC3MpqPlD9T7PENSGyYPwfks+OJuJs/aaXPpF5Vnj8oOFEB0EOgP4Zqzl/sY6E/e3ScsDC5oj9TvvzuYlSkP3MI+YTmKaY/KNKnEQMlqD/33sumSTqqP4LP47+pY6w/CoAglkSgrj/EXBXH/niwP60wv0Atr7E/\",\"dtype\":\"float64\",\"shape\":[75]},\"y\":{\"__ndarray__\":\"GhExyth1ND/Sv8nbtpRIP2vylNV0PVE/aTum7souWD/At0SJ8fVgPw3Iuahxymc/MSNhhJWvcD/bTfBN02d3P2zb5nxnaoA/CD5h5MAGhz8NmeH1TyaQP+zrCsc9p5Y/LbKd76fGnz/bLW5ISEmmPww9YvTcQq8/JV2OstnstT8Er5Y7M8G+P0c+r3jqkcU/5h99k6ZBzj88bCIzFzjVP4enV8oyxN0//yH99nXg5D8qOpLLf0jtP5kqGJXUifQ/c9cS8kHP/D+/DpwzojQEQIEmwoanVwxA4lgXt9HgE0BSSZ2AJuIbQAMJih9jjiNA5q4l5INuK0AwTKYKRj0zQNv5fmq8/DpAaCJseHrtQkB/+zpwzoxKQM3MzMzMeFJAZmZmZmZqWEAAAAAAAFxeQM3MzMzMJmJAmpmZmZkfZUBmZmZmZhhoQDMzMzMzEWtAAAAAAAAKbkBmZmZmZoFwQM3MzMzM/XFAMzMzMzN6c0CamZmZmfZ0QAAAAAAAc3ZAZmZmZmbvd0DNzMzMzGt5QDMzMzMz6HpAmpmZmZlkfEAAAAAAAOF9QGZmZmZmXX9AZmZmZuZsgECamZmZGSuBQM3MzMxM6YFAAAAAAICngkAzMzMzs2WDQGZmZmbmI4RAmpmZmRnihEDNzMzMTKCFQAAAAACAXoZAMzMzM7Mch0BmZmZm5tqHQJqZmZkZmYhAzczMzExXiUAAAAAAgBWKQDMzMzOz04pAZmZmZuaRi0CamZmZGVCMQM3MzMxMDo1AAAAAAIDMjUAzMzMzs4qOQGZmZmbmSI9A\",\"dtype\":\"float64\",\"shape\":[75]}},\"selected\":{\"id\":\"b61611a3-2b98-465a-8144-bb5cdd9a5ad9\",\"type\":\"Selection\"},\"selection_policy\":{\"id\":\"90a99c93-fb6d-495b-9d87-6f2795f64862\",\"type\":\"UnionRenderers\"}},\"id\":\"a368702b-1dc8-4ba5-9302-303ee1782d59\",\"type\":\"ColumnDataSource\"},{\"attributes\":{\"active_drag\":\"auto\",\"active_inspect\":\"auto\",\"active_scroll\":\"auto\",\"active_tap\":\"auto\",\"tools\":[{\"id\":\"1afa1f2d-a754-4287-8076-eb0b81894ca2\",\"type\":\"PanTool\"},{\"id\":\"50da85b9-67b6-47a3-93f5-108ecfd81ff8\",\"type\":\"WheelZoomTool\"},{\"id\":\"4e2c29be-45b6-4c60-a85c-83cb553f88e2\",\"type\":\"BoxZoomTool\"},{\"id\":\"5e65f6b7-fafe-4e65-ab9a-6a72b46961b6\",\"type\":\"SaveTool\"},{\"id\":\"9cc9f677-dc58-4739-86d6-9fe2e52493c3\",\"type\":\"ResetTool\"},{\"id\":\"4b641e20-e42e-40b9-9a4b-f6dd0f6c0ff6\",\"type\":\"HelpTool\"}]},\"id\":\"cabd2d2f-c68c-439e-841a-3f816575466f\",\"type\":\"Toolbar\"},{\"attributes\":{\"line_alpha\":0.1,\"line_color\":\"#1f77b4\",\"line_width\":3,\"x\":{\"field\":\"x\"},\"y\":{\"field\":\"y\"}},\"id\":\"3bd4732e-4562-412a-aab0-8e5442f31dff\",\"type\":\"Line\"},{\"attributes\":{\"source\":{\"id\":\"72c9de87-c096-41e0-be23-2aee20bc6fbf\",\"type\":\"ColumnDataSource\"}},\"id\":\"0760028a-e7d1-4e5f-ad3b-70d34bce807f\",\"type\":\"CDSView\"},{\"attributes\":{\"line_alpha\":0.6,\"line_color\":\"#984ea3\",\"line_width\":3,\"x\":{\"field\":\"x\"},\"y\":{\"field\":\"y\"}},\"id\":\"55aee078-6aca-4a9c-81d4-b10e28f2a374\",\"type\":\"Line\"},{\"attributes\":{\"source\":{\"id\":\"a368702b-1dc8-4ba5-9302-303ee1782d59\",\"type\":\"ColumnDataSource\"}},\"id\":\"9f69526f-2f7c-4f31-9016-32ce293dd9f9\",\"type\":\"CDSView\"},{\"attributes\":{\"above\":[{\"id\":\"d87982ba-cfd0-4328-89aa-0f829a4525fa\",\"type\":\"Legend\"}],\"below\":[{\"id\":\"8546b761-d358-4f21-9beb-232a24007ab1\",\"type\":\"LinearAxis\"}],\"left\":[{\"id\":\"bb793f04-bdc4-4159-b13d-4373aa103dac\",\"type\":\"LinearAxis\"}],\"plot_height\":500,\"plot_width\":400,\"renderers\":[{\"id\":\"8546b761-d358-4f21-9beb-232a24007ab1\",\"type\":\"LinearAxis\"},{\"id\":\"89c41451-2ef0-4397-b4eb-f43bb724c6ec\",\"type\":\"Grid\"},{\"id\":\"bb793f04-bdc4-4159-b13d-4373aa103dac\",\"type\":\"LinearAxis\"},{\"id\":\"436b0d48-8079-4445-b41e-a50e9bf1967e\",\"type\":\"Grid\"},{\"id\":\"6829f614-c7ae-4a82-b8f4-b3946e94c724\",\"type\":\"BoxAnnotation\"},{\"id\":\"a4245f03-a6dd-4a10-897d-9f8776a252dc\",\"type\":\"GlyphRenderer\"},{\"id\":\"6891bd0c-0d97-487c-93f9-90f97eb0976f\",\"type\":\"GlyphRenderer\"},{\"id\":\"2b0f54f4-75a4-40d7-93cd-a7823093b371\",\"type\":\"GlyphRenderer\"},{\"id\":\"6cd51cec-0682-44b2-ba88-7cc64c28ab0a\",\"type\":\"GlyphRenderer\"},{\"id\":\"1a2a7b5d-524e-4263-ad00-ce0b65c4008b\",\"type\":\"GlyphRenderer\"},{\"id\":\"5c93f1d6-a4cc-4358-96ec-d7f5f600b270\",\"type\":\"GlyphRenderer\"},{\"id\":\"d87982ba-cfd0-4328-89aa-0f829a4525fa\",\"type\":\"Legend\"}],\"title\":{\"id\":\"02778104-aeaa-4f21-be64-7e691722be88\",\"type\":\"Title\"},\"toolbar\":{\"id\":\"cabd2d2f-c68c-439e-841a-3f816575466f\",\"type\":\"Toolbar\"},\"toolbar_location\":null,\"x_range\":{\"id\":\"3727247a-fa34-4a72-8270-5bbec9e2e873\",\"type\":\"Range1d\"},\"x_scale\":{\"id\":\"87068d70-c86a-49bb-977a-229695d6934a\",\"type\":\"LinearScale\"},\"y_range\":{\"id\":\"00a122f3-ec53-4505-9aca-437c4ed9e868\",\"type\":\"Range1d\"},\"y_scale\":{\"id\":\"27fbac03-599f-4547-a51a-4c0d4687d7c6\",\"type\":\"LinearScale\"}},\"id\":\"ffdb950c-1628-4384-ad25-0cffa8ffadd3\",\"subtype\":\"Figure\",\"type\":\"Plot\"},{\"attributes\":{\"data_source\":{\"id\":\"43119c74-13b5-4cec-878b-e94355f16e12\",\"type\":\"ColumnDataSource\"},\"glyph\":{\"id\":\"af4a41fb-9cb0-4463-b515-ea87a6bf22c8\",\"type\":\"Triangle\"},\"hover_glyph\":null,\"muted_glyph\":null,\"nonselection_glyph\":{\"id\":\"78d8dc4a-7613-4f9e-8a66-ce9a8a426a99\",\"type\":\"Triangle\"},\"selection_glyph\":null,\"view\":{\"id\":\"f1c9b740-ff19-4978-a689-87046118a907\",\"type\":\"CDSView\"}},\"id\":\"1a2a7b5d-524e-4263-ad00-ce0b65c4008b\",\"type\":\"GlyphRenderer\"},{\"attributes\":{\"data_source\":{\"id\":\"a368702b-1dc8-4ba5-9302-303ee1782d59\",\"type\":\"ColumnDataSource\"},\"glyph\":{\"id\":\"55aee078-6aca-4a9c-81d4-b10e28f2a374\",\"type\":\"Line\"},\"hover_glyph\":null,\"muted_glyph\":null,\"nonselection_glyph\":{\"id\":\"3bd4732e-4562-412a-aab0-8e5442f31dff\",\"type\":\"Line\"},\"selection_glyph\":null,\"view\":{\"id\":\"9f69526f-2f7c-4f31-9016-32ce293dd9f9\",\"type\":\"CDSView\"}},\"id\":\"6cd51cec-0682-44b2-ba88-7cc64c28ab0a\",\"type\":\"GlyphRenderer\"},{\"attributes\":{\"fill_alpha\":{\"value\":0.7},\"fill_color\":{\"value\":\"#377eb8\"},\"line_alpha\":{\"value\":0.7},\"line_color\":{\"value\":\"#377eb8\"},\"x\":{\"field\":\"x\"},\"y\":{\"field\":\"y\"}},\"id\":\"af4a41fb-9cb0-4463-b515-ea87a6bf22c8\",\"type\":\"Triangle\"},{\"attributes\":{\"callback\":null,\"data\":{\"x\":{\"__ndarray__\":\"nXHBEgw2gr+rWahzDNqBv2X6A6zOG4G/q8hLM9VWgL96SgoBZRt/v7pkqs3wgH2/sQweGHHee7+esawh1TN6vyC6cs+ZgXi/kqX+8xzIdr8G4lofCwh1vxhZ6eBQQnO/5Lfqwa92cb8yExwIgkBuv7v6fiqYqFi/xs6HS8e+bD9BTQxjj8aFP78s5sQ+3pM/ArCMXHXTnj9hEUNksQ2mP2BdtBNFC64/HJLTyaROsz9wKkrXxde0P9kUwe/KKrM/f2EkMiNdsD/i/C7TPMWpP+Dzj1HDMaM/svoLS2j8mj/wBvynm2KRP8qR+cvrLoM/9vIlwIjVaz8KJsZZ6dpUv1Ra3pgHcHW/Ua7QeOUOg78w9C/tEbmOv1ee3dmIqJa/1lL0S7rpnL8inJ7RQC6gv0D1TIUxz6C/AE40t14tob8AGmMvLU2hvz9ksVjBMqG/wOOjWsfeoL/iMI4htVmgv2vNkyC3UJ+/doL9Nmadnb8nEU+WkaCbv3PRTkqQYJm/GOjNNu3hlr957TcRVimUv9BtgzzqPJG/T46BOOVAjL/l9dbGv66Fvy1w60ohkn2/rkiDYMNSbr/0xWuxGVcGv/24kBT0t24/OOsZQuxnfz9x2g5ZdfKHP+n23wSaK5A/1WFnMf5YlD8OIrZ6Q02YP262DZB3w5s/E/lL7PCinj9EJHm7L5OgP+73s6jY2KE/4hMrf7VKoz89CI1Z4PakP87uSDy10qY/sL6PAijNqD+vl4l4jtqqP9SW0rhc9aw/w67ceB8arz/IuwoeSaSwP/eTjkGJwLE/\",\"dtype\":\"float64\",\"shape\":[75]},\"y\":{\"__ndarray__\":\"GhExyth1ND/Sv8nbtpRIP2vylNV0PVE/aTum7souWD/At0SJ8fVgPw3Iuahxymc/MSNhhJWvcD/bTfBN02d3P2zb5nxnaoA/CD5h5MAGhz8NmeH1TyaQP+zrCsc9p5Y/LbKd76fGnz/bLW5ISEmmPww9YvTcQq8/JV2OstnstT8Er5Y7M8G+P0c+r3jqkcU/5h99k6ZBzj88bCIzFzjVP4enV8oyxN0//yH99nXg5D8qOpLLf0jtP5kqGJXUifQ/c9cS8kHP/D+/DpwzojQEQIEmwoanVwxA4lgXt9HgE0BSSZ2AJuIbQAMJih9jjiNA5q4l5INuK0AwTKYKRj0zQNv5fmq8/DpAaCJseHrtQkB/+zpwzoxKQM3MzMzMeFJAZmZmZmZqWEAAAAAAAFxeQM3MzMzMJmJAmpmZmZkfZUBmZmZmZhhoQDMzMzMzEWtAAAAAAAAKbkBmZmZmZoFwQM3MzMzM/XFAMzMzMzN6c0CamZmZmfZ0QAAAAAAAc3ZAZmZmZmbvd0DNzMzMzGt5QDMzMzMz6HpAmpmZmZlkfEAAAAAAAOF9QGZmZmZmXX9AZmZmZuZsgECamZmZGSuBQM3MzMxM6YFAAAAAAICngkAzMzMzs2WDQGZmZmbmI4RAmpmZmRnihEDNzMzMTKCFQAAAAACAXoZAMzMzM7Mch0BmZmZm5tqHQJqZmZkZmYhAzczMzExXiUAAAAAAgBWKQDMzMzOz04pAZmZmZuaRi0CamZmZGVCMQM3MzMxMDo1AAAAAAIDMjUAzMzMzs4qOQGZmZmbmSI9A\",\"dtype\":\"float64\",\"shape\":[75]}},\"selected\":{\"id\":\"8b076ad4-8733-4152-9715-920273cba590\",\"type\":\"Selection\"},\"selection_policy\":{\"id\":\"b638bcce-4466-4af2-b0db-250b7798583c\",\"type\":\"UnionRenderers\"}},\"id\":\"e39e3383-376e-4eea-b965-9bfdbfdbdc85\",\"type\":\"ColumnDataSource\"},{\"attributes\":{\"fill_alpha\":{\"value\":0.1},\"fill_color\":{\"value\":\"#1f77b4\"},\"line_alpha\":{\"value\":0.1},\"line_color\":{\"value\":\"#1f77b4\"},\"x\":{\"field\":\"x\"},\"y\":{\"field\":\"y\"}},\"id\":\"78d8dc4a-7613-4f9e-8a66-ce9a8a426a99\",\"type\":\"Triangle\"},{\"attributes\":{},\"id\":\"45f9e7a6-9c8d-4702-971d-3f592c02f3d3\",\"type\":\"BasicTicker\"},{\"attributes\":{\"source\":{\"id\":\"43119c74-13b5-4cec-878b-e94355f16e12\",\"type\":\"ColumnDataSource\"}},\"id\":\"f1c9b740-ff19-4978-a689-87046118a907\",\"type\":\"CDSView\"},{\"attributes\":{\"axis_label\":\"pressure [mb]\",\"formatter\":{\"id\":\"284563bf-6f07-47ba-88ba-667b3a71bcf4\",\"type\":\"BasicTickFormatter\"},\"plot\":{\"id\":\"ffdb950c-1628-4384-ad25-0cffa8ffadd3\",\"subtype\":\"Figure\",\"type\":\"Plot\"},\"ticker\":{\"id\":\"bc0e888b-a0dd-4855-8a3c-7867774f38c3\",\"type\":\"BasicTicker\"}},\"id\":\"bb793f04-bdc4-4159-b13d-4373aa103dac\",\"type\":\"LinearAxis\"},{\"attributes\":{\"line_alpha\":0.3,\"line_color\":\"#377eb8\",\"line_width\":2,\"x\":{\"field\":\"x\"},\"y\":{\"field\":\"y\"}},\"id\":\"a36a3ee2-debf-46f1-9e80-5ba460a7143b\",\"type\":\"Line\"},{\"attributes\":{},\"id\":\"1afa1f2d-a754-4287-8076-eb0b81894ca2\",\"type\":\"PanTool\"},{\"attributes\":{\"above\":[{\"id\":\"3e602687-4be2-419c-9610-8f564ba6d633\",\"type\":\"Legend\"}],\"below\":[{\"id\":\"5dc1a1b0-68dd-4e14-931e-add9c744839e\",\"type\":\"LinearAxis\"}],\"left\":[{\"id\":\"6a0e937d-a79d-4122-8928-016689c38f79\",\"type\":\"LogAxis\"}],\"plot_height\":500,\"plot_width\":400,\"renderers\":[{\"id\":\"5dc1a1b0-68dd-4e14-931e-add9c744839e\",\"type\":\"LinearAxis\"},{\"id\":\"6c29e862-82d1-4226-a961-879387c76639\",\"type\":\"Grid\"},{\"id\":\"6a0e937d-a79d-4122-8928-016689c38f79\",\"type\":\"LogAxis\"},{\"id\":\"254826f3-f886-45f1-959c-f89bbe075e33\",\"type\":\"Grid\"},{\"id\":\"9746746d-a573-461b-bd8e-cb018a787b1e\",\"type\":\"BoxAnnotation\"},{\"id\":\"7747547e-8827-45af-91d1-36db237c4472\",\"type\":\"GlyphRenderer\"},{\"id\":\"ef220c49-0ba2-4f31-943a-6283e8d3c938\",\"type\":\"GlyphRenderer\"},{\"id\":\"792d2c02-4861-4eb0-b84a-fcd1da9bbe95\",\"type\":\"GlyphRenderer\"},{\"id\":\"4401b27d-a72a-485d-8488-09d4b8f337bf\",\"type\":\"GlyphRenderer\"},{\"id\":\"e89022f9-a69f-42a1-b254-70aea6bfa2ec\",\"type\":\"GlyphRenderer\"},{\"id\":\"dc3461a4-baec-4637-91fb-73b64b228a27\",\"type\":\"GlyphRenderer\"},{\"id\":\"3e602687-4be2-419c-9610-8f564ba6d633\",\"type\":\"Legend\"}],\"title\":{\"id\":\"3e5d703b-972b-4433-a100-bc76002e6151\",\"type\":\"Title\"},\"toolbar\":{\"id\":\"35728274-cb17-4e0d-a7c1-946e5934555c\",\"type\":\"Toolbar\"},\"toolbar_location\":null,\"x_range\":{\"id\":\"1812e61a-4dc3-4219-99b7-4072329886b6\",\"type\":\"Range1d\"},\"x_scale\":{\"id\":\"4221dc7f-1282-4c93-896a-5272ad4834c3\",\"type\":\"LinearScale\"},\"y_range\":{\"id\":\"ada5d207-14ce-4693-930f-4ba1c1a7a310\",\"type\":\"Range1d\"},\"y_scale\":{\"id\":\"9a6d621c-ef95-4bb3-977b-4b3e6ff85fcf\",\"type\":\"LogScale\"}},\"id\":\"34e947e8-34c1-4177-815d-68ddf0db6dd4\",\"subtype\":\"Figure\",\"type\":\"Plot\"},{\"attributes\":{\"line_alpha\":0.1,\"line_color\":\"#1f77b4\",\"line_width\":2,\"x\":{\"field\":\"x\"},\"y\":{\"field\":\"y\"}},\"id\":\"0a91aa01-5ec7-488a-8db2-853c4ac47a3e\",\"type\":\"Line\"},{\"attributes\":{\"data_source\":{\"id\":\"e39e3383-376e-4eea-b965-9bfdbfdbdc85\",\"type\":\"ColumnDataSource\"},\"glyph\":{\"id\":\"a36a3ee2-debf-46f1-9e80-5ba460a7143b\",\"type\":\"Line\"},\"hover_glyph\":null,\"muted_glyph\":null,\"nonselection_glyph\":{\"id\":\"0a91aa01-5ec7-488a-8db2-853c4ac47a3e\",\"type\":\"Line\"},\"selection_glyph\":null,\"view\":{\"id\":\"63a52713-730b-4fa2-b1a2-9a1c29dc2874\",\"type\":\"CDSView\"}},\"id\":\"5c93f1d6-a4cc-4358-96ec-d7f5f600b270\",\"type\":\"GlyphRenderer\"},{\"attributes\":{\"source\":{\"id\":\"e39e3383-376e-4eea-b965-9bfdbfdbdc85\",\"type\":\"ColumnDataSource\"}},\"id\":\"63a52713-730b-4fa2-b1a2-9a1c29dc2874\",\"type\":\"CDSView\"},{\"attributes\":{\"active_drag\":\"auto\",\"active_inspect\":\"auto\",\"active_scroll\":\"auto\",\"active_tap\":\"auto\",\"tools\":[{\"id\":\"2dd973f0-9588-44db-95f2-d829188adcf2\",\"type\":\"PanTool\"},{\"id\":\"0d430bfb-098c-4ad8-9239-b4073dbdfca6\",\"type\":\"WheelZoomTool\"},{\"id\":\"1e349d5b-2397-493a-b412-c8ccfd07aa3b\",\"type\":\"BoxZoomTool\"},{\"id\":\"753dd373-0181-47d7-95d9-a1c2ee752c11\",\"type\":\"SaveTool\"},{\"id\":\"6729a817-e7f5-4351-a729-57ae2f375617\",\"type\":\"ResetTool\"},{\"id\":\"b950421a-8bca-4d0f-a749-47589742ebbf\",\"type\":\"HelpTool\"}]},\"id\":\"35728274-cb17-4e0d-a7c1-946e5934555c\",\"type\":\"Toolbar\"},{\"attributes\":{\"label\":{\"value\":\"CRD\"},\"renderers\":[{\"id\":\"a4245f03-a6dd-4a10-897d-9f8776a252dc\",\"type\":\"GlyphRenderer\"},{\"id\":\"6891bd0c-0d97-487c-93f9-90f97eb0976f\",\"type\":\"GlyphRenderer\"}]},\"id\":\"2ca2fbda-8375-4aa8-adba-6a90ad65d14a\",\"type\":\"LegendItem\"},{\"attributes\":{\"callback\":null,\"end\":0.08780922224390003,\"start\":-0.03499590685389999},\"id\":\"1812e61a-4dc3-4219-99b7-4072329886b6\",\"type\":\"Range1d\"},{\"attributes\":{\"label\":{\"value\":\"WGT igg=1\"},\"renderers\":[{\"id\":\"2b0f54f4-75a4-40d7-93cd-a7823093b371\",\"type\":\"GlyphRenderer\"},{\"id\":\"6cd51cec-0682-44b2-ba88-7cc64c28ab0a\",\"type\":\"GlyphRenderer\"}]},\"id\":\"c2743c75-f282-4775-ab4d-728da0346c38\",\"type\":\"LegendItem\"},{\"attributes\":{\"axis_label\":\"cooling rate [K/day]\",\"formatter\":{\"id\":\"0e02fb06-aacf-4de8-b299-b10ec0d923fe\",\"type\":\"BasicTickFormatter\"},\"plot\":{\"id\":\"ffdb950c-1628-4384-ad25-0cffa8ffadd3\",\"subtype\":\"Figure\",\"type\":\"Plot\"},\"ticker\":{\"id\":\"45f9e7a6-9c8d-4702-971d-3f592c02f3d3\",\"type\":\"BasicTicker\"}},\"id\":\"8546b761-d358-4f21-9beb-232a24007ab1\",\"type\":\"LinearAxis\"},{\"attributes\":{},\"id\":\"4221dc7f-1282-4c93-896a-5272ad4834c3\",\"type\":\"LinearScale\"},{\"attributes\":{\"label\":{\"value\":\"WGT igg=10\"},\"renderers\":[{\"id\":\"1a2a7b5d-524e-4263-ad00-ce0b65c4008b\",\"type\":\"GlyphRenderer\"},{\"id\":\"5c93f1d6-a4cc-4358-96ec-d7f5f600b270\",\"type\":\"GlyphRenderer\"}]},\"id\":\"c3cca4fc-85d6-41a0-a89c-4bb3d70a54c4\",\"type\":\"LegendItem\"},{\"attributes\":{\"plot\":{\"id\":\"34e947e8-34c1-4177-815d-68ddf0db6dd4\",\"subtype\":\"Figure\",\"type\":\"Plot\"},\"ticker\":{\"id\":\"b3068c98-af72-4218-a773-9bcb4d5484fe\",\"type\":\"BasicTicker\"}},\"id\":\"6c29e862-82d1-4226-a961-879387c76639\",\"type\":\"Grid\"},{\"attributes\":{\"plot\":{\"id\":\"ffdb950c-1628-4384-ad25-0cffa8ffadd3\",\"subtype\":\"Figure\",\"type\":\"Plot\"},\"ticker\":{\"id\":\"45f9e7a6-9c8d-4702-971d-3f592c02f3d3\",\"type\":\"BasicTicker\"}},\"id\":\"89c41451-2ef0-4397-b4eb-f43bb724c6ec\",\"type\":\"Grid\"},{\"attributes\":{\"items\":[{\"id\":\"6075e6e1-42c0-4e14-9993-2daca9db36e2\",\"type\":\"LegendItem\"},{\"id\":\"123ef8bd-3360-4b80-9502-eb0234d32f51\",\"type\":\"LegendItem\"},{\"id\":\"14173eab-5205-4534-a8c0-e581e164367b\",\"type\":\"LegendItem\"}],\"label_text_font_size\":{\"value\":\"8pt\"},\"location\":\"top_center\",\"orientation\":\"horizontal\",\"plot\":{\"id\":\"34e947e8-34c1-4177-815d-68ddf0db6dd4\",\"subtype\":\"Figure\",\"type\":\"Plot\"}},\"id\":\"3e602687-4be2-419c-9610-8f564ba6d633\",\"type\":\"Legend\"},{\"attributes\":{},\"id\":\"27fbac03-599f-4547-a51a-4c0d4687d7c6\",\"type\":\"LinearScale\"},{\"attributes\":{},\"id\":\"87068d70-c86a-49bb-977a-229695d6934a\",\"type\":\"LinearScale\"},{\"attributes\":{},\"id\":\"9a6d621c-ef95-4bb3-977b-4b3e6ff85fcf\",\"type\":\"LogScale\"},{\"attributes\":{\"axis_label\":\"cooling rate [K/day]\",\"formatter\":{\"id\":\"c0724828-d7cf-4ede-a7b5-fd62d699aecf\",\"type\":\"BasicTickFormatter\"},\"plot\":{\"id\":\"34e947e8-34c1-4177-815d-68ddf0db6dd4\",\"subtype\":\"Figure\",\"type\":\"Plot\"},\"ticker\":{\"id\":\"b3068c98-af72-4218-a773-9bcb4d5484fe\",\"type\":\"BasicTicker\"}},\"id\":\"5dc1a1b0-68dd-4e14-931e-add9c744839e\",\"type\":\"LinearAxis\"},{\"attributes\":{},\"id\":\"bc0e888b-a0dd-4855-8a3c-7867774f38c3\",\"type\":\"BasicTicker\"},{\"attributes\":{},\"id\":\"5e65f6b7-fafe-4e65-ab9a-6a72b46961b6\",\"type\":\"SaveTool\"},{\"attributes\":{},\"id\":\"b3068c98-af72-4218-a773-9bcb4d5484fe\",\"type\":\"BasicTicker\"},{\"attributes\":{\"axis_label\":\"pressure [mb]\",\"formatter\":{\"id\":\"848fc041-fb16-4e1e-b4c7-066a2160140d\",\"type\":\"LogTickFormatter\"},\"plot\":{\"id\":\"34e947e8-34c1-4177-815d-68ddf0db6dd4\",\"subtype\":\"Figure\",\"type\":\"Plot\"},\"ticker\":{\"id\":\"5873d84e-13db-4e8a-843e-10ac27e7e56e\",\"type\":\"LogTicker\"}},\"id\":\"6a0e937d-a79d-4122-8928-016689c38f79\",\"type\":\"LogAxis\"},{\"attributes\":{\"callback\":null,\"end\":0.070375479136,\"start\":-0.034823295536},\"id\":\"3727247a-fa34-4a72-8270-5bbec9e2e873\",\"type\":\"Range1d\"},{\"attributes\":{\"num_minor_ticks\":10},\"id\":\"5873d84e-13db-4e8a-843e-10ac27e7e56e\",\"type\":\"LogTicker\"},{\"attributes\":{\"dimension\":1,\"plot\":{\"id\":\"34e947e8-34c1-4177-815d-68ddf0db6dd4\",\"subtype\":\"Figure\",\"type\":\"Plot\"},\"ticker\":{\"id\":\"5873d84e-13db-4e8a-843e-10ac27e7e56e\",\"type\":\"LogTicker\"}},\"id\":\"254826f3-f886-45f1-959c-f89bbe075e33\",\"type\":\"Grid\"},{\"attributes\":{},\"id\":\"90a99c93-fb6d-495b-9d87-6f2795f64862\",\"type\":\"UnionRenderers\"},{\"attributes\":{},\"id\":\"2dd973f0-9588-44db-95f2-d829188adcf2\",\"type\":\"PanTool\"},{\"attributes\":{},\"id\":\"0d430bfb-098c-4ad8-9239-b4073dbdfca6\",\"type\":\"WheelZoomTool\"},{\"attributes\":{\"overlay\":{\"id\":\"9746746d-a573-461b-bd8e-cb018a787b1e\",\"type\":\"BoxAnnotation\"}},\"id\":\"1e349d5b-2397-493a-b412-c8ccfd07aa3b\",\"type\":\"BoxZoomTool\"},{\"attributes\":{\"callback\":null,\"end\":0.01,\"start\":1020},\"id\":\"00a122f3-ec53-4505-9aca-437c4ed9e868\",\"type\":\"Range1d\"},{\"attributes\":{\"callback\":null,\"data\":{\"x\":{\"__ndarray__\":\"9Gs91U2JoL9qEWyPpGOgv/5N53VcEqC/QD0A/E19n7+zaY6wV9Oev+ID0jF3KZ6/y2gLgaaHnb+iXvEWaeicv27jz5xqUJy/1Ako2NnEm79hEBgSyUmbv06AEu8k55q/N6dcKYGomr83NY04BmOav/KDoS1UiZe/3CX7HQYakL8CptaChxx2v4h6eEmNjnw/PFPu6WYvlj86BbvGxAGkP7vXoooEm64/WUq228DotD/KQRb+wiu2PxQ2nIezxrI/aM40fQvErD97+r/cC6mjP7o9z8Ozgpk/rarR/yxykD+FUfFLBXCFPxuW4YZz9ns/qyEVPNTkcD/OXXMiFC9cPzlh3ZhgKEe/J+lRd8+ja7/6ltX3qIR/v2NF4QDgu4u/XJprcf5Ik78AKPIofS+Wv5mUTMxz7Ja/TUND9x6Vl78AQ0x4mfWXvy/eVvYeBZi/ov7mRS6/l7/iXiZTai2Xv4r3RvVsVZa/I2bFphc8lb8S99P7s+WTvzum9aEYVpK/ZuEcypiPkL9Kz1ajvyiNv2oe+re7z4i/0HSBKH0XhL9fCW/oawV+v9FdTPxBJXO/EyHRYrI6Xr+U3Z11qvpSP+QwtU8kxnE/uIcsweaLfz8+/AVswASHP3gjSFIhkI4/2TAB89EVkz8NYbwKMqKWPyMoVVanh5k/R4tdQB2hmz8OFxM8+USdP/TMJQzSBJ8/3/ejivOpoD/N+yZuSCyiP/j8ajYh+aM/r7xtEqT4pT/c4AOIhRyoP57FCU6oYKo/HdTwArfFrD8QRJwteFKvP8jReUYpCrE/\",\"dtype\":\"float64\",\"shape\":[75]},\"y\":{\"__ndarray__\":\"GhExyth1ND/Sv8nbtpRIP2vylNV0PVE/aTum7souWD/At0SJ8fVgPw3Iuahxymc/MSNhhJWvcD/bTfBN02d3P2zb5nxnaoA/CD5h5MAGhz8NmeH1TyaQP+zrCsc9p5Y/LbKd76fGnz/bLW5ISEmmPww9YvTcQq8/JV2OstnstT8Er5Y7M8G+P0c+r3jqkcU/5h99k6ZBzj88bCIzFzjVP4enV8oyxN0//yH99nXg5D8qOpLLf0jtP5kqGJXUifQ/c9cS8kHP/D+/DpwzojQEQIEmwoanVwxA4lgXt9HgE0BSSZ2AJuIbQAMJih9jjiNA5q4l5INuK0AwTKYKRj0zQNv5fmq8/DpAaCJseHrtQkB/+zpwzoxKQM3MzMzMeFJAZmZmZmZqWEAAAAAAAFxeQM3MzMzMJmJAmpmZmZkfZUBmZmZmZhhoQDMzMzMzEWtAAAAAAAAKbkBmZmZmZoFwQM3MzMzM/XFAMzMzMzN6c0CamZmZmfZ0QAAAAAAAc3ZAZmZmZmbvd0DNzMzMzGt5QDMzMzMz6HpAmpmZmZlkfEAAAAAAAOF9QGZmZmZmXX9AZmZmZuZsgECamZmZGSuBQM3MzMxM6YFAAAAAAICngkAzMzMzs2WDQGZmZmbmI4RAmpmZmRnihEDNzMzMTKCFQAAAAACAXoZAMzMzM7Mch0BmZmZm5tqHQJqZmZkZmYhAzczMzExXiUAAAAAAgBWKQDMzMzOz04pAZmZmZuaRi0CamZmZGVCMQM3MzMxMDo1AAAAAAIDMjUAzMzMzs4qOQGZmZmbmSI9A\",\"dtype\":\"float64\",\"shape\":[75]}},\"selected\":{\"id\":\"4d283511-4549-4606-b476-b80f0c3cdc0c\",\"type\":\"Selection\"},\"selection_policy\":{\"id\":\"5f87e89a-2a01-4495-a4f6-b72f336d89f9\",\"type\":\"UnionRenderers\"}},\"id\":\"592b1a6b-2681-4fbb-9d45-4bf2e4cd9888\",\"type\":\"ColumnDataSource\"},{\"attributes\":{},\"id\":\"50da85b9-67b6-47a3-93f5-108ecfd81ff8\",\"type\":\"WheelZoomTool\"},{\"attributes\":{},\"id\":\"1032cbbb-3b20-4a4c-ada3-056bfb10e751\",\"type\":\"UnionRenderers\"},{\"attributes\":{\"dimension\":1,\"plot\":{\"id\":\"ffdb950c-1628-4384-ad25-0cffa8ffadd3\",\"subtype\":\"Figure\",\"type\":\"Plot\"},\"ticker\":{\"id\":\"bc0e888b-a0dd-4855-8a3c-7867774f38c3\",\"type\":\"BasicTicker\"}},\"id\":\"436b0d48-8079-4445-b41e-a50e9bf1967e\",\"type\":\"Grid\"},{\"attributes\":{},\"id\":\"50526e15-c9f3-4e5f-90f3-4d8cff30dfbe\",\"type\":\"Selection\"},{\"attributes\":{\"fill_alpha\":{\"value\":0.7},\"fill_color\":{\"value\":\"#4daf4a\"},\"line_alpha\":{\"value\":0.7},\"line_color\":{\"value\":\"#4daf4a\"},\"x\":{\"field\":\"x\"},\"y\":{\"field\":\"y\"}},\"id\":\"9f8875d3-775e-4017-86d4-4cf80f318b65\",\"type\":\"Circle\"},{\"attributes\":{},\"id\":\"4c95cd40-844e-456b-a7d9-135b74d7bc39\",\"type\":\"UnionRenderers\"},{\"attributes\":{\"fill_alpha\":{\"value\":0.1},\"fill_color\":{\"value\":\"#1f77b4\"},\"line_alpha\":{\"value\":0.1},\"line_color\":{\"value\":\"#1f77b4\"},\"x\":{\"field\":\"x\"},\"y\":{\"field\":\"y\"}},\"id\":\"19fe7ffd-3c32-407e-ab2f-714576fcc817\",\"type\":\"Circle\"}],\"root_ids\":[\"aef93653-a9ea-4bb4-8b2e-92768bf3c39f\"]},\"title\":\"Bokeh Application\",\"version\":\"0.12.16\"}};\n",
       "  var render_items = [{\"docid\":\"2c68b4dd-6f60-4036-bd5a-805d402d176c\",\"elementid\":\"af9987de-b3a7-4448-b7f7-b11550453024\",\"modelid\":\"aef93653-a9ea-4bb4-8b2e-92768bf3c39f\"}];\n",
       "  root.Bokeh.embed.embed_items_notebook(docs_json, render_items);\n",
       "\n",
       "  }\n",
       "  if (root.Bokeh !== undefined) {\n",
       "    embed_document(root);\n",
       "  } else {\n",
       "    var attempts = 0;\n",
       "    var timer = setInterval(function(root) {\n",
       "      if (root.Bokeh !== undefined) {\n",
       "        embed_document(root);\n",
       "        clearInterval(timer);\n",
       "      }\n",
       "      attempts++;\n",
       "      if (attempts > 100) {\n",
       "        console.log(\"Bokeh: ERROR: Unable to run BokehJS code because BokehJS library is missing\")\n",
       "        clearInterval(timer);\n",
       "      }\n",
       "    }, 10, root)\n",
       "  }\n",
       "})(window);"
      ],
      "application/vnd.bokehjs_exec.v0+json": ""
     },
     "metadata": {
      "application/vnd.bokehjs_exec.v0+json": {
       "id": "aef93653-a9ea-4bb4-8b2e-92768bf3c39f"
      }
     },
     "output_type": "display_data"
    },
    {
     "data": {
      "text/markdown": [
       "*FIGURE.* Cooling rates. Summed over g."
      ],
      "text/plain": [
       "<IPython.core.display.Markdown object>"
      ]
     },
     "metadata": {},
     "output_type": "display_data"
    },
    {
     "data": {
      "text/html": [
       "<a id=\"Flux_Comparison\"></a>"
      ],
      "text/plain": [
       "<IPython.core.display.HTML object>"
      ]
     },
     "metadata": {},
     "output_type": "display_data"
    },
    {
     "data": {
      "text/markdown": [
       "# Flux Comparison"
      ],
      "text/plain": [
       "<IPython.core.display.Markdown object>"
      ]
     },
     "metadata": {},
     "output_type": "display_data"
    },
    {
     "data": {
      "text/html": [
       "<div>\n",
       "<style scoped>\n",
       "    .dataframe tbody tr th:only-of-type {\n",
       "        vertical-align: middle;\n",
       "    }\n",
       "\n",
       "    .dataframe tbody tr th {\n",
       "        vertical-align: top;\n",
       "    }\n",
       "\n",
       "    .dataframe thead th {\n",
       "        text-align: right;\n",
       "    }\n",
       "</style>\n",
       "<table border=\"1\" class=\"dataframe\">\n",
       "  <thead>\n",
       "    <tr style=\"text-align: right;\">\n",
       "      <th></th>\n",
       "      <th></th>\n",
       "      <th></th>\n",
       "      <th>flug</th>\n",
       "      <th>fldg</th>\n",
       "      <th>fnetg</th>\n",
       "    </tr>\n",
       "    <tr>\n",
       "      <th>g</th>\n",
       "      <th>pressure</th>\n",
       "      <th>level</th>\n",
       "      <th></th>\n",
       "      <th></th>\n",
       "      <th></th>\n",
       "    </tr>\n",
       "  </thead>\n",
       "  <tbody>\n",
       "    <tr>\n",
       "      <th rowspan=\"3\" valign=\"top\">1</th>\n",
       "      <th>0.00</th>\n",
       "      <th>1</th>\n",
       "      <td>-0.050801</td>\n",
       "      <td>0.000000</td>\n",
       "      <td>-0.050801</td>\n",
       "    </tr>\n",
       "    <tr>\n",
       "      <th>109.55</th>\n",
       "      <th>38</th>\n",
       "      <td>-0.046799</td>\n",
       "      <td>0.007566</td>\n",
       "      <td>-0.039233</td>\n",
       "    </tr>\n",
       "    <tr>\n",
       "      <th>1013.00</th>\n",
       "      <th>76</th>\n",
       "      <td>-0.144006</td>\n",
       "      <td>0.091037</td>\n",
       "      <td>-0.052969</td>\n",
       "    </tr>\n",
       "    <tr>\n",
       "      <th rowspan=\"3\" valign=\"top\">2</th>\n",
       "      <th>0.00</th>\n",
       "      <th>1</th>\n",
       "      <td>-0.396952</td>\n",
       "      <td>0.000000</td>\n",
       "      <td>-0.396952</td>\n",
       "    </tr>\n",
       "    <tr>\n",
       "      <th>109.55</th>\n",
       "      <th>38</th>\n",
       "      <td>-0.423238</td>\n",
       "      <td>0.022263</td>\n",
       "      <td>-0.400975</td>\n",
       "    </tr>\n",
       "    <tr>\n",
       "      <th>1013.00</th>\n",
       "      <th>76</th>\n",
       "      <td>-1.074268</td>\n",
       "      <td>0.651577</td>\n",
       "      <td>-0.422691</td>\n",
       "    </tr>\n",
       "    <tr>\n",
       "      <th rowspan=\"3\" valign=\"top\">3</th>\n",
       "      <th>0.00</th>\n",
       "      <th>1</th>\n",
       "      <td>-5.672712</td>\n",
       "      <td>0.000000</td>\n",
       "      <td>-5.672712</td>\n",
       "    </tr>\n",
       "    <tr>\n",
       "      <th>109.55</th>\n",
       "      <th>38</th>\n",
       "      <td>-5.763389</td>\n",
       "      <td>0.015539</td>\n",
       "      <td>-5.747850</td>\n",
       "    </tr>\n",
       "    <tr>\n",
       "      <th>1013.00</th>\n",
       "      <th>76</th>\n",
       "      <td>-8.073110</td>\n",
       "      <td>3.055986</td>\n",
       "      <td>-5.017124</td>\n",
       "    </tr>\n",
       "    <tr>\n",
       "      <th rowspan=\"3\" valign=\"top\">4</th>\n",
       "      <th>0.00</th>\n",
       "      <th>1</th>\n",
       "      <td>-17.403914</td>\n",
       "      <td>0.000000</td>\n",
       "      <td>-17.403914</td>\n",
       "    </tr>\n",
       "    <tr>\n",
       "      <th>109.55</th>\n",
       "      <th>38</th>\n",
       "      <td>-17.416909</td>\n",
       "      <td>0.001580</td>\n",
       "      <td>-17.415329</td>\n",
       "    </tr>\n",
       "    <tr>\n",
       "      <th>1013.00</th>\n",
       "      <th>76</th>\n",
       "      <td>-17.671361</td>\n",
       "      <td>0.455136</td>\n",
       "      <td>-17.216225</td>\n",
       "    </tr>\n",
       "  </tbody>\n",
       "</table>\n",
       "</div>"
      ],
      "text/plain": [
       "                       flug      fldg      fnetg\n",
       "g pressure level                                \n",
       "1 0.00     1      -0.050801  0.000000  -0.050801\n",
       "  109.55   38     -0.046799  0.007566  -0.039233\n",
       "  1013.00  76     -0.144006  0.091037  -0.052969\n",
       "2 0.00     1      -0.396952  0.000000  -0.396952\n",
       "  109.55   38     -0.423238  0.022263  -0.400975\n",
       "  1013.00  76     -1.074268  0.651577  -0.422691\n",
       "3 0.00     1      -5.672712  0.000000  -5.672712\n",
       "  109.55   38     -5.763389  0.015539  -5.747850\n",
       "  1013.00  76     -8.073110  3.055986  -5.017124\n",
       "4 0.00     1     -17.403914  0.000000 -17.403914\n",
       "  109.55   38    -17.416909  0.001580 -17.415329\n",
       "  1013.00  76    -17.671361  0.455136 -17.216225"
      ]
     },
     "metadata": {},
     "output_type": "display_data"
    },
    {
     "data": {
      "text/markdown": [
       "*TABLE.* Fluxes. CRD"
      ],
      "text/plain": [
       "<IPython.core.display.Markdown object>"
      ]
     },
     "metadata": {},
     "output_type": "display_data"
    },
    {
     "data": {
      "text/html": [
       "<div>\n",
       "<style scoped>\n",
       "    .dataframe tbody tr th:only-of-type {\n",
       "        vertical-align: middle;\n",
       "    }\n",
       "\n",
       "    .dataframe tbody tr th {\n",
       "        vertical-align: top;\n",
       "    }\n",
       "\n",
       "    .dataframe thead th {\n",
       "        text-align: right;\n",
       "    }\n",
       "</style>\n",
       "<table border=\"1\" class=\"dataframe\">\n",
       "  <thead>\n",
       "    <tr style=\"text-align: right;\">\n",
       "      <th></th>\n",
       "      <th></th>\n",
       "      <th></th>\n",
       "      <th>flug</th>\n",
       "      <th>fldg</th>\n",
       "      <th>fnetg</th>\n",
       "    </tr>\n",
       "    <tr>\n",
       "      <th>g</th>\n",
       "      <th>pressure</th>\n",
       "      <th>level</th>\n",
       "      <th></th>\n",
       "      <th></th>\n",
       "      <th></th>\n",
       "    </tr>\n",
       "  </thead>\n",
       "  <tbody>\n",
       "    <tr>\n",
       "      <th rowspan=\"3\" valign=\"top\">1</th>\n",
       "      <th>0.00</th>\n",
       "      <th>1</th>\n",
       "      <td>-0.031350</td>\n",
       "      <td>0.000000</td>\n",
       "      <td>-0.031350</td>\n",
       "    </tr>\n",
       "    <tr>\n",
       "      <th>109.55</th>\n",
       "      <th>38</th>\n",
       "      <td>-0.019441</td>\n",
       "      <td>0.009189</td>\n",
       "      <td>-0.010252</td>\n",
       "    </tr>\n",
       "    <tr>\n",
       "      <th>1013.00</th>\n",
       "      <th>76</th>\n",
       "      <td>-0.144642</td>\n",
       "      <td>0.105441</td>\n",
       "      <td>-0.039201</td>\n",
       "    </tr>\n",
       "    <tr>\n",
       "      <th rowspan=\"3\" valign=\"top\">2</th>\n",
       "      <th>0.00</th>\n",
       "      <th>1</th>\n",
       "      <td>-0.258951</td>\n",
       "      <td>0.000000</td>\n",
       "      <td>-0.258951</td>\n",
       "    </tr>\n",
       "    <tr>\n",
       "      <th>109.55</th>\n",
       "      <th>38</th>\n",
       "      <td>-0.333641</td>\n",
       "      <td>0.024782</td>\n",
       "      <td>-0.308859</td>\n",
       "    </tr>\n",
       "    <tr>\n",
       "      <th>1013.00</th>\n",
       "      <th>76</th>\n",
       "      <td>-1.081322</td>\n",
       "      <td>0.644800</td>\n",
       "      <td>-0.436522</td>\n",
       "    </tr>\n",
       "    <tr>\n",
       "      <th rowspan=\"3\" valign=\"top\">3</th>\n",
       "      <th>0.00</th>\n",
       "      <th>1</th>\n",
       "      <td>-5.547873</td>\n",
       "      <td>0.000000</td>\n",
       "      <td>-5.547873</td>\n",
       "    </tr>\n",
       "    <tr>\n",
       "      <th>109.55</th>\n",
       "      <th>38</th>\n",
       "      <td>-5.671370</td>\n",
       "      <td>0.013847</td>\n",
       "      <td>-5.657523</td>\n",
       "    </tr>\n",
       "    <tr>\n",
       "      <th>1013.00</th>\n",
       "      <th>76</th>\n",
       "      <td>-8.121682</td>\n",
       "      <td>3.131279</td>\n",
       "      <td>-4.990403</td>\n",
       "    </tr>\n",
       "    <tr>\n",
       "      <th rowspan=\"3\" valign=\"top\">4</th>\n",
       "      <th>0.00</th>\n",
       "      <th>1</th>\n",
       "      <td>-17.351029</td>\n",
       "      <td>0.000000</td>\n",
       "      <td>-17.351029</td>\n",
       "    </tr>\n",
       "    <tr>\n",
       "      <th>109.55</th>\n",
       "      <th>38</th>\n",
       "      <td>-17.364766</td>\n",
       "      <td>0.001481</td>\n",
       "      <td>-17.363285</td>\n",
       "    </tr>\n",
       "    <tr>\n",
       "      <th>1013.00</th>\n",
       "      <th>76</th>\n",
       "      <td>-17.615100</td>\n",
       "      <td>0.446094</td>\n",
       "      <td>-17.169006</td>\n",
       "    </tr>\n",
       "  </tbody>\n",
       "</table>\n",
       "</div>"
      ],
      "text/plain": [
       "                       flug      fldg      fnetg\n",
       "g pressure level                                \n",
       "1 0.00     1      -0.031350  0.000000  -0.031350\n",
       "  109.55   38     -0.019441  0.009189  -0.010252\n",
       "  1013.00  76     -0.144642  0.105441  -0.039201\n",
       "2 0.00     1      -0.258951  0.000000  -0.258951\n",
       "  109.55   38     -0.333641  0.024782  -0.308859\n",
       "  1013.00  76     -1.081322  0.644800  -0.436522\n",
       "3 0.00     1      -5.547873  0.000000  -5.547873\n",
       "  109.55   38     -5.671370  0.013847  -5.657523\n",
       "  1013.00  76     -8.121682  3.131279  -4.990403\n",
       "4 0.00     1     -17.351029  0.000000 -17.351029\n",
       "  109.55   38    -17.364766  0.001481 -17.363285\n",
       "  1013.00  76    -17.615100  0.446094 -17.169006"
      ]
     },
     "metadata": {},
     "output_type": "display_data"
    },
    {
     "data": {
      "text/markdown": [
       "*TABLE.* Fluxes. WGT igg=1"
      ],
      "text/plain": [
       "<IPython.core.display.Markdown object>"
      ]
     },
     "metadata": {},
     "output_type": "display_data"
    },
    {
     "data": {
      "text/html": [
       "<div>\n",
       "<style scoped>\n",
       "    .dataframe tbody tr th:only-of-type {\n",
       "        vertical-align: middle;\n",
       "    }\n",
       "\n",
       "    .dataframe tbody tr th {\n",
       "        vertical-align: top;\n",
       "    }\n",
       "\n",
       "    .dataframe thead th {\n",
       "        text-align: right;\n",
       "    }\n",
       "</style>\n",
       "<table border=\"1\" class=\"dataframe\">\n",
       "  <thead>\n",
       "    <tr style=\"text-align: right;\">\n",
       "      <th></th>\n",
       "      <th></th>\n",
       "      <th></th>\n",
       "      <th>flug</th>\n",
       "      <th>fldg</th>\n",
       "      <th>fnetg</th>\n",
       "    </tr>\n",
       "    <tr>\n",
       "      <th>g</th>\n",
       "      <th>pressure</th>\n",
       "      <th>level</th>\n",
       "      <th></th>\n",
       "      <th></th>\n",
       "      <th></th>\n",
       "    </tr>\n",
       "  </thead>\n",
       "  <tbody>\n",
       "    <tr>\n",
       "      <th rowspan=\"3\" valign=\"top\">1</th>\n",
       "      <th>0.00</th>\n",
       "      <th>1</th>\n",
       "      <td>-0.031993</td>\n",
       "      <td>0.000000</td>\n",
       "      <td>-0.031993</td>\n",
       "    </tr>\n",
       "    <tr>\n",
       "      <th>109.55</th>\n",
       "      <th>38</th>\n",
       "      <td>-0.015637</td>\n",
       "      <td>0.008796</td>\n",
       "      <td>-0.006841</td>\n",
       "    </tr>\n",
       "    <tr>\n",
       "      <th>1013.00</th>\n",
       "      <th>76</th>\n",
       "      <td>-0.144642</td>\n",
       "      <td>0.110033</td>\n",
       "      <td>-0.034609</td>\n",
       "    </tr>\n",
       "    <tr>\n",
       "      <th rowspan=\"3\" valign=\"top\">2</th>\n",
       "      <th>0.00</th>\n",
       "      <th>1</th>\n",
       "      <td>-0.231020</td>\n",
       "      <td>0.000000</td>\n",
       "      <td>-0.231020</td>\n",
       "    </tr>\n",
       "    <tr>\n",
       "      <th>109.55</th>\n",
       "      <th>38</th>\n",
       "      <td>-0.311405</td>\n",
       "      <td>0.024678</td>\n",
       "      <td>-0.286727</td>\n",
       "    </tr>\n",
       "    <tr>\n",
       "      <th>1013.00</th>\n",
       "      <th>76</th>\n",
       "      <td>-1.081322</td>\n",
       "      <td>0.658488</td>\n",
       "      <td>-0.422834</td>\n",
       "    </tr>\n",
       "    <tr>\n",
       "      <th rowspan=\"3\" valign=\"top\">3</th>\n",
       "      <th>0.00</th>\n",
       "      <th>1</th>\n",
       "      <td>-5.669438</td>\n",
       "      <td>0.000000</td>\n",
       "      <td>-5.669438</td>\n",
       "    </tr>\n",
       "    <tr>\n",
       "      <th>109.55</th>\n",
       "      <th>38</th>\n",
       "      <td>-5.791895</td>\n",
       "      <td>0.011437</td>\n",
       "      <td>-5.780458</td>\n",
       "    </tr>\n",
       "    <tr>\n",
       "      <th>1013.00</th>\n",
       "      <th>76</th>\n",
       "      <td>-8.121682</td>\n",
       "      <td>3.019362</td>\n",
       "      <td>-5.102320</td>\n",
       "    </tr>\n",
       "    <tr>\n",
       "      <th rowspan=\"3\" valign=\"top\">4</th>\n",
       "      <th>0.00</th>\n",
       "      <th>1</th>\n",
       "      <td>-17.372146</td>\n",
       "      <td>0.000000</td>\n",
       "      <td>-17.372146</td>\n",
       "    </tr>\n",
       "    <tr>\n",
       "      <th>109.55</th>\n",
       "      <th>38</th>\n",
       "      <td>-17.384849</td>\n",
       "      <td>0.001342</td>\n",
       "      <td>-17.383507</td>\n",
       "    </tr>\n",
       "    <tr>\n",
       "      <th>1013.00</th>\n",
       "      <th>76</th>\n",
       "      <td>-17.615100</td>\n",
       "      <td>0.412353</td>\n",
       "      <td>-17.202747</td>\n",
       "    </tr>\n",
       "  </tbody>\n",
       "</table>\n",
       "</div>"
      ],
      "text/plain": [
       "                       flug      fldg      fnetg\n",
       "g pressure level                                \n",
       "1 0.00     1      -0.031993  0.000000  -0.031993\n",
       "  109.55   38     -0.015637  0.008796  -0.006841\n",
       "  1013.00  76     -0.144642  0.110033  -0.034609\n",
       "2 0.00     1      -0.231020  0.000000  -0.231020\n",
       "  109.55   38     -0.311405  0.024678  -0.286727\n",
       "  1013.00  76     -1.081322  0.658488  -0.422834\n",
       "3 0.00     1      -5.669438  0.000000  -5.669438\n",
       "  109.55   38     -5.791895  0.011437  -5.780458\n",
       "  1013.00  76     -8.121682  3.019362  -5.102320\n",
       "4 0.00     1     -17.372146  0.000000 -17.372146\n",
       "  109.55   38    -17.384849  0.001342 -17.383507\n",
       "  1013.00  76    -17.615100  0.412353 -17.202747"
      ]
     },
     "metadata": {},
     "output_type": "display_data"
    },
    {
     "data": {
      "text/markdown": [
       "*TABLE.* Fluxes. WGT igg=10"
      ],
      "text/plain": [
       "<IPython.core.display.Markdown object>"
      ]
     },
     "metadata": {},
     "output_type": "display_data"
    },
    {
     "data": {
      "text/html": [
       "<div>\n",
       "<style scoped>\n",
       "    .dataframe tbody tr th:only-of-type {\n",
       "        vertical-align: middle;\n",
       "    }\n",
       "\n",
       "    .dataframe tbody tr th {\n",
       "        vertical-align: top;\n",
       "    }\n",
       "\n",
       "    .dataframe thead th {\n",
       "        text-align: right;\n",
       "    }\n",
       "</style>\n",
       "<table border=\"1\" class=\"dataframe\">\n",
       "  <thead>\n",
       "    <tr style=\"text-align: right;\">\n",
       "      <th></th>\n",
       "      <th></th>\n",
       "      <th></th>\n",
       "      <th>flug</th>\n",
       "      <th>fldg</th>\n",
       "      <th>fnetg</th>\n",
       "    </tr>\n",
       "    <tr>\n",
       "      <th>g</th>\n",
       "      <th>pressure</th>\n",
       "      <th>level</th>\n",
       "      <th></th>\n",
       "      <th></th>\n",
       "      <th></th>\n",
       "    </tr>\n",
       "  </thead>\n",
       "  <tbody>\n",
       "    <tr>\n",
       "      <th rowspan=\"3\" valign=\"top\">1</th>\n",
       "      <th>0.00</th>\n",
       "      <th>1</th>\n",
       "      <td>0.019452</td>\n",
       "      <td>0.000000</td>\n",
       "      <td>0.019452</td>\n",
       "    </tr>\n",
       "    <tr>\n",
       "      <th>109.55</th>\n",
       "      <th>38</th>\n",
       "      <td>0.027357</td>\n",
       "      <td>0.001623</td>\n",
       "      <td>0.028980</td>\n",
       "    </tr>\n",
       "    <tr>\n",
       "      <th>1013.00</th>\n",
       "      <th>76</th>\n",
       "      <td>-0.000636</td>\n",
       "      <td>0.014405</td>\n",
       "      <td>0.013768</td>\n",
       "    </tr>\n",
       "    <tr>\n",
       "      <th rowspan=\"3\" valign=\"top\">2</th>\n",
       "      <th>0.00</th>\n",
       "      <th>1</th>\n",
       "      <td>0.138001</td>\n",
       "      <td>0.000000</td>\n",
       "      <td>0.138001</td>\n",
       "    </tr>\n",
       "    <tr>\n",
       "      <th>109.55</th>\n",
       "      <th>38</th>\n",
       "      <td>0.089597</td>\n",
       "      <td>0.002520</td>\n",
       "      <td>0.092116</td>\n",
       "    </tr>\n",
       "    <tr>\n",
       "      <th>1013.00</th>\n",
       "      <th>76</th>\n",
       "      <td>-0.007054</td>\n",
       "      <td>-0.006777</td>\n",
       "      <td>-0.013831</td>\n",
       "    </tr>\n",
       "    <tr>\n",
       "      <th rowspan=\"3\" valign=\"top\">3</th>\n",
       "      <th>0.00</th>\n",
       "      <th>1</th>\n",
       "      <td>0.124839</td>\n",
       "      <td>0.000000</td>\n",
       "      <td>0.124839</td>\n",
       "    </tr>\n",
       "    <tr>\n",
       "      <th>109.55</th>\n",
       "      <th>38</th>\n",
       "      <td>0.092019</td>\n",
       "      <td>-0.001692</td>\n",
       "      <td>0.090326</td>\n",
       "    </tr>\n",
       "    <tr>\n",
       "      <th>1013.00</th>\n",
       "      <th>76</th>\n",
       "      <td>-0.048571</td>\n",
       "      <td>0.075293</td>\n",
       "      <td>0.026721</td>\n",
       "    </tr>\n",
       "    <tr>\n",
       "      <th rowspan=\"3\" valign=\"top\">4</th>\n",
       "      <th>0.00</th>\n",
       "      <th>1</th>\n",
       "      <td>0.052885</td>\n",
       "      <td>0.000000</td>\n",
       "      <td>0.052885</td>\n",
       "    </tr>\n",
       "    <tr>\n",
       "      <th>109.55</th>\n",
       "      <th>38</th>\n",
       "      <td>0.052143</td>\n",
       "      <td>-0.000099</td>\n",
       "      <td>0.052044</td>\n",
       "    </tr>\n",
       "    <tr>\n",
       "      <th>1013.00</th>\n",
       "      <th>76</th>\n",
       "      <td>0.056261</td>\n",
       "      <td>-0.009043</td>\n",
       "      <td>0.047219</td>\n",
       "    </tr>\n",
       "  </tbody>\n",
       "</table>\n",
       "</div>"
      ],
      "text/plain": [
       "                      flug      fldg     fnetg\n",
       "g pressure level                              \n",
       "1 0.00     1      0.019452  0.000000  0.019452\n",
       "  109.55   38     0.027357  0.001623  0.028980\n",
       "  1013.00  76    -0.000636  0.014405  0.013768\n",
       "2 0.00     1      0.138001  0.000000  0.138001\n",
       "  109.55   38     0.089597  0.002520  0.092116\n",
       "  1013.00  76    -0.007054 -0.006777 -0.013831\n",
       "3 0.00     1      0.124839  0.000000  0.124839\n",
       "  109.55   38     0.092019 -0.001692  0.090326\n",
       "  1013.00  76    -0.048571  0.075293  0.026721\n",
       "4 0.00     1      0.052885  0.000000  0.052885\n",
       "  109.55   38     0.052143 -0.000099  0.052044\n",
       "  1013.00  76     0.056261 -0.009043  0.047219"
      ]
     },
     "metadata": {},
     "output_type": "display_data"
    },
    {
     "data": {
      "text/markdown": [
       "*TABLE.* Fluxes. (WGT igg=1) - (CRD)"
      ],
      "text/plain": [
       "<IPython.core.display.Markdown object>"
      ]
     },
     "metadata": {},
     "output_type": "display_data"
    },
    {
     "data": {
      "text/html": [
       "<div>\n",
       "<style scoped>\n",
       "    .dataframe tbody tr th:only-of-type {\n",
       "        vertical-align: middle;\n",
       "    }\n",
       "\n",
       "    .dataframe tbody tr th {\n",
       "        vertical-align: top;\n",
       "    }\n",
       "\n",
       "    .dataframe thead th {\n",
       "        text-align: right;\n",
       "    }\n",
       "</style>\n",
       "<table border=\"1\" class=\"dataframe\">\n",
       "  <thead>\n",
       "    <tr style=\"text-align: right;\">\n",
       "      <th></th>\n",
       "      <th></th>\n",
       "      <th></th>\n",
       "      <th>flug</th>\n",
       "      <th>fldg</th>\n",
       "      <th>fnetg</th>\n",
       "    </tr>\n",
       "    <tr>\n",
       "      <th>g</th>\n",
       "      <th>pressure</th>\n",
       "      <th>level</th>\n",
       "      <th></th>\n",
       "      <th></th>\n",
       "      <th></th>\n",
       "    </tr>\n",
       "  </thead>\n",
       "  <tbody>\n",
       "    <tr>\n",
       "      <th rowspan=\"3\" valign=\"top\">1</th>\n",
       "      <th>0.00</th>\n",
       "      <th>1</th>\n",
       "      <td>0.018808</td>\n",
       "      <td>0.000000</td>\n",
       "      <td>0.018808</td>\n",
       "    </tr>\n",
       "    <tr>\n",
       "      <th>109.55</th>\n",
       "      <th>38</th>\n",
       "      <td>0.031162</td>\n",
       "      <td>0.001230</td>\n",
       "      <td>0.032392</td>\n",
       "    </tr>\n",
       "    <tr>\n",
       "      <th>1013.00</th>\n",
       "      <th>76</th>\n",
       "      <td>-0.000636</td>\n",
       "      <td>0.018996</td>\n",
       "      <td>0.018360</td>\n",
       "    </tr>\n",
       "    <tr>\n",
       "      <th rowspan=\"3\" valign=\"top\">2</th>\n",
       "      <th>0.00</th>\n",
       "      <th>1</th>\n",
       "      <td>0.165932</td>\n",
       "      <td>0.000000</td>\n",
       "      <td>0.165932</td>\n",
       "    </tr>\n",
       "    <tr>\n",
       "      <th>109.55</th>\n",
       "      <th>38</th>\n",
       "      <td>0.111833</td>\n",
       "      <td>0.002415</td>\n",
       "      <td>0.114248</td>\n",
       "    </tr>\n",
       "    <tr>\n",
       "      <th>1013.00</th>\n",
       "      <th>76</th>\n",
       "      <td>-0.007054</td>\n",
       "      <td>0.006911</td>\n",
       "      <td>-0.000143</td>\n",
       "    </tr>\n",
       "    <tr>\n",
       "      <th rowspan=\"3\" valign=\"top\">3</th>\n",
       "      <th>0.00</th>\n",
       "      <th>1</th>\n",
       "      <td>0.003274</td>\n",
       "      <td>0.000000</td>\n",
       "      <td>0.003274</td>\n",
       "    </tr>\n",
       "    <tr>\n",
       "      <th>109.55</th>\n",
       "      <th>38</th>\n",
       "      <td>-0.028506</td>\n",
       "      <td>-0.004102</td>\n",
       "      <td>-0.032609</td>\n",
       "    </tr>\n",
       "    <tr>\n",
       "      <th>1013.00</th>\n",
       "      <th>76</th>\n",
       "      <td>-0.048571</td>\n",
       "      <td>-0.036624</td>\n",
       "      <td>-0.085196</td>\n",
       "    </tr>\n",
       "    <tr>\n",
       "      <th rowspan=\"3\" valign=\"top\">4</th>\n",
       "      <th>0.00</th>\n",
       "      <th>1</th>\n",
       "      <td>0.031768</td>\n",
       "      <td>0.000000</td>\n",
       "      <td>0.031768</td>\n",
       "    </tr>\n",
       "    <tr>\n",
       "      <th>109.55</th>\n",
       "      <th>38</th>\n",
       "      <td>0.032060</td>\n",
       "      <td>-0.000238</td>\n",
       "      <td>0.031822</td>\n",
       "    </tr>\n",
       "    <tr>\n",
       "      <th>1013.00</th>\n",
       "      <th>76</th>\n",
       "      <td>0.056261</td>\n",
       "      <td>-0.042784</td>\n",
       "      <td>0.013478</td>\n",
       "    </tr>\n",
       "  </tbody>\n",
       "</table>\n",
       "</div>"
      ],
      "text/plain": [
       "                      flug      fldg     fnetg\n",
       "g pressure level                              \n",
       "1 0.00     1      0.018808  0.000000  0.018808\n",
       "  109.55   38     0.031162  0.001230  0.032392\n",
       "  1013.00  76    -0.000636  0.018996  0.018360\n",
       "2 0.00     1      0.165932  0.000000  0.165932\n",
       "  109.55   38     0.111833  0.002415  0.114248\n",
       "  1013.00  76    -0.007054  0.006911 -0.000143\n",
       "3 0.00     1      0.003274  0.000000  0.003274\n",
       "  109.55   38    -0.028506 -0.004102 -0.032609\n",
       "  1013.00  76    -0.048571 -0.036624 -0.085196\n",
       "4 0.00     1      0.031768  0.000000  0.031768\n",
       "  109.55   38     0.032060 -0.000238  0.031822\n",
       "  1013.00  76     0.056261 -0.042784  0.013478"
      ]
     },
     "metadata": {},
     "output_type": "display_data"
    },
    {
     "data": {
      "text/markdown": [
       "*TABLE.* Fluxes. (WGT igg=10) - (CRD)"
      ],
      "text/plain": [
       "<IPython.core.display.Markdown object>"
      ]
     },
     "metadata": {},
     "output_type": "display_data"
    },
    {
     "data": {
      "text/html": [
       "<div>\n",
       "<style scoped>\n",
       "    .dataframe tbody tr th:only-of-type {\n",
       "        vertical-align: middle;\n",
       "    }\n",
       "\n",
       "    .dataframe tbody tr th {\n",
       "        vertical-align: top;\n",
       "    }\n",
       "\n",
       "    .dataframe thead th {\n",
       "        text-align: right;\n",
       "    }\n",
       "</style>\n",
       "<table border=\"1\" class=\"dataframe\">\n",
       "  <thead>\n",
       "    <tr style=\"text-align: right;\">\n",
       "      <th></th>\n",
       "      <th></th>\n",
       "      <th>flug</th>\n",
       "      <th>fldg</th>\n",
       "      <th>fnetg</th>\n",
       "    </tr>\n",
       "    <tr>\n",
       "      <th>pressure</th>\n",
       "      <th>level</th>\n",
       "      <th></th>\n",
       "      <th></th>\n",
       "      <th></th>\n",
       "    </tr>\n",
       "  </thead>\n",
       "  <tbody>\n",
       "    <tr>\n",
       "      <th>0.00</th>\n",
       "      <th>1</th>\n",
       "      <td>-23.524379</td>\n",
       "      <td>0.000000</td>\n",
       "      <td>-23.524379</td>\n",
       "    </tr>\n",
       "    <tr>\n",
       "      <th>109.55</th>\n",
       "      <th>38</th>\n",
       "      <td>-23.650334</td>\n",
       "      <td>0.046948</td>\n",
       "      <td>-23.603386</td>\n",
       "    </tr>\n",
       "    <tr>\n",
       "      <th>1013.00</th>\n",
       "      <th>76</th>\n",
       "      <td>-26.962746</td>\n",
       "      <td>4.253737</td>\n",
       "      <td>-22.709010</td>\n",
       "    </tr>\n",
       "  </tbody>\n",
       "</table>\n",
       "</div>"
      ],
      "text/plain": [
       "                     flug      fldg      fnetg\n",
       "pressure level                                \n",
       "0.00     1     -23.524379  0.000000 -23.524379\n",
       "109.55   38    -23.650334  0.046948 -23.603386\n",
       "1013.00  76    -26.962746  4.253737 -22.709010"
      ]
     },
     "metadata": {},
     "output_type": "display_data"
    },
    {
     "data": {
      "text/markdown": [
       "*TABLE.* Fluxes. CRD"
      ],
      "text/plain": [
       "<IPython.core.display.Markdown object>"
      ]
     },
     "metadata": {},
     "output_type": "display_data"
    },
    {
     "data": {
      "text/html": [
       "<div>\n",
       "<style scoped>\n",
       "    .dataframe tbody tr th:only-of-type {\n",
       "        vertical-align: middle;\n",
       "    }\n",
       "\n",
       "    .dataframe tbody tr th {\n",
       "        vertical-align: top;\n",
       "    }\n",
       "\n",
       "    .dataframe thead th {\n",
       "        text-align: right;\n",
       "    }\n",
       "</style>\n",
       "<table border=\"1\" class=\"dataframe\">\n",
       "  <thead>\n",
       "    <tr style=\"text-align: right;\">\n",
       "      <th></th>\n",
       "      <th></th>\n",
       "      <th>flug</th>\n",
       "      <th>fldg</th>\n",
       "      <th>fnetg</th>\n",
       "    </tr>\n",
       "    <tr>\n",
       "      <th>pressure</th>\n",
       "      <th>level</th>\n",
       "      <th></th>\n",
       "      <th></th>\n",
       "      <th></th>\n",
       "    </tr>\n",
       "  </thead>\n",
       "  <tbody>\n",
       "    <tr>\n",
       "      <th>0.00</th>\n",
       "      <th>1</th>\n",
       "      <td>-23.189203</td>\n",
       "      <td>0.000000</td>\n",
       "      <td>-23.189203</td>\n",
       "    </tr>\n",
       "    <tr>\n",
       "      <th>109.55</th>\n",
       "      <th>38</th>\n",
       "      <td>-23.389219</td>\n",
       "      <td>0.049299</td>\n",
       "      <td>-23.339920</td>\n",
       "    </tr>\n",
       "    <tr>\n",
       "      <th>1013.00</th>\n",
       "      <th>76</th>\n",
       "      <td>-26.962747</td>\n",
       "      <td>4.327614</td>\n",
       "      <td>-22.635132</td>\n",
       "    </tr>\n",
       "  </tbody>\n",
       "</table>\n",
       "</div>"
      ],
      "text/plain": [
       "                     flug      fldg      fnetg\n",
       "pressure level                                \n",
       "0.00     1     -23.189203  0.000000 -23.189203\n",
       "109.55   38    -23.389219  0.049299 -23.339920\n",
       "1013.00  76    -26.962747  4.327614 -22.635132"
      ]
     },
     "metadata": {},
     "output_type": "display_data"
    },
    {
     "data": {
      "text/markdown": [
       "*TABLE.* Fluxes. WGT igg=1"
      ],
      "text/plain": [
       "<IPython.core.display.Markdown object>"
      ]
     },
     "metadata": {},
     "output_type": "display_data"
    },
    {
     "data": {
      "text/html": [
       "<div>\n",
       "<style scoped>\n",
       "    .dataframe tbody tr th:only-of-type {\n",
       "        vertical-align: middle;\n",
       "    }\n",
       "\n",
       "    .dataframe tbody tr th {\n",
       "        vertical-align: top;\n",
       "    }\n",
       "\n",
       "    .dataframe thead th {\n",
       "        text-align: right;\n",
       "    }\n",
       "</style>\n",
       "<table border=\"1\" class=\"dataframe\">\n",
       "  <thead>\n",
       "    <tr style=\"text-align: right;\">\n",
       "      <th></th>\n",
       "      <th></th>\n",
       "      <th>flug</th>\n",
       "      <th>fldg</th>\n",
       "      <th>fnetg</th>\n",
       "    </tr>\n",
       "    <tr>\n",
       "      <th>pressure</th>\n",
       "      <th>level</th>\n",
       "      <th></th>\n",
       "      <th></th>\n",
       "      <th></th>\n",
       "    </tr>\n",
       "  </thead>\n",
       "  <tbody>\n",
       "    <tr>\n",
       "      <th>0.00</th>\n",
       "      <th>1</th>\n",
       "      <td>-23.304597</td>\n",
       "      <td>0.000000</td>\n",
       "      <td>-23.304597</td>\n",
       "    </tr>\n",
       "    <tr>\n",
       "      <th>109.55</th>\n",
       "      <th>38</th>\n",
       "      <td>-23.503786</td>\n",
       "      <td>0.046253</td>\n",
       "      <td>-23.457533</td>\n",
       "    </tr>\n",
       "    <tr>\n",
       "      <th>1013.00</th>\n",
       "      <th>76</th>\n",
       "      <td>-26.962747</td>\n",
       "      <td>4.200236</td>\n",
       "      <td>-22.762510</td>\n",
       "    </tr>\n",
       "  </tbody>\n",
       "</table>\n",
       "</div>"
      ],
      "text/plain": [
       "                     flug      fldg      fnetg\n",
       "pressure level                                \n",
       "0.00     1     -23.304597  0.000000 -23.304597\n",
       "109.55   38    -23.503786  0.046253 -23.457533\n",
       "1013.00  76    -26.962747  4.200236 -22.762510"
      ]
     },
     "metadata": {},
     "output_type": "display_data"
    },
    {
     "data": {
      "text/markdown": [
       "*TABLE.* Fluxes. WGT igg=10"
      ],
      "text/plain": [
       "<IPython.core.display.Markdown object>"
      ]
     },
     "metadata": {},
     "output_type": "display_data"
    },
    {
     "data": {
      "text/html": [
       "<div>\n",
       "<style scoped>\n",
       "    .dataframe tbody tr th:only-of-type {\n",
       "        vertical-align: middle;\n",
       "    }\n",
       "\n",
       "    .dataframe tbody tr th {\n",
       "        vertical-align: top;\n",
       "    }\n",
       "\n",
       "    .dataframe thead th {\n",
       "        text-align: right;\n",
       "    }\n",
       "</style>\n",
       "<table border=\"1\" class=\"dataframe\">\n",
       "  <thead>\n",
       "    <tr style=\"text-align: right;\">\n",
       "      <th></th>\n",
       "      <th></th>\n",
       "      <th>flug</th>\n",
       "      <th>fldg</th>\n",
       "      <th>fnetg</th>\n",
       "    </tr>\n",
       "    <tr>\n",
       "      <th>pressure</th>\n",
       "      <th>level</th>\n",
       "      <th></th>\n",
       "      <th></th>\n",
       "      <th></th>\n",
       "    </tr>\n",
       "  </thead>\n",
       "  <tbody>\n",
       "    <tr>\n",
       "      <th>0.00</th>\n",
       "      <th>1</th>\n",
       "      <td>3.351763e-01</td>\n",
       "      <td>0.000000</td>\n",
       "      <td>0.335176</td>\n",
       "    </tr>\n",
       "    <tr>\n",
       "      <th>109.55</th>\n",
       "      <th>38</th>\n",
       "      <td>2.611156e-01</td>\n",
       "      <td>0.002351</td>\n",
       "      <td>0.263467</td>\n",
       "    </tr>\n",
       "    <tr>\n",
       "      <th>1013.00</th>\n",
       "      <th>76</th>\n",
       "      <td>-8.800000e-07</td>\n",
       "      <td>0.073878</td>\n",
       "      <td>0.073878</td>\n",
       "    </tr>\n",
       "  </tbody>\n",
       "</table>\n",
       "</div>"
      ],
      "text/plain": [
       "                        flug      fldg     fnetg\n",
       "pressure level                                  \n",
       "0.00     1      3.351763e-01  0.000000  0.335176\n",
       "109.55   38     2.611156e-01  0.002351  0.263467\n",
       "1013.00  76    -8.800000e-07  0.073878  0.073878"
      ]
     },
     "metadata": {},
     "output_type": "display_data"
    },
    {
     "data": {
      "text/markdown": [
       "*TABLE.* Fluxes. (WGT igg=1) - (CRD)"
      ],
      "text/plain": [
       "<IPython.core.display.Markdown object>"
      ]
     },
     "metadata": {},
     "output_type": "display_data"
    },
    {
     "data": {
      "text/html": [
       "<div>\n",
       "<style scoped>\n",
       "    .dataframe tbody tr th:only-of-type {\n",
       "        vertical-align: middle;\n",
       "    }\n",
       "\n",
       "    .dataframe tbody tr th {\n",
       "        vertical-align: top;\n",
       "    }\n",
       "\n",
       "    .dataframe thead th {\n",
       "        text-align: right;\n",
       "    }\n",
       "</style>\n",
       "<table border=\"1\" class=\"dataframe\">\n",
       "  <thead>\n",
       "    <tr style=\"text-align: right;\">\n",
       "      <th></th>\n",
       "      <th></th>\n",
       "      <th>flug</th>\n",
       "      <th>fldg</th>\n",
       "      <th>fnetg</th>\n",
       "    </tr>\n",
       "    <tr>\n",
       "      <th>pressure</th>\n",
       "      <th>level</th>\n",
       "      <th></th>\n",
       "      <th></th>\n",
       "      <th></th>\n",
       "    </tr>\n",
       "  </thead>\n",
       "  <tbody>\n",
       "    <tr>\n",
       "      <th>0.00</th>\n",
       "      <th>1</th>\n",
       "      <td>2.197819e-01</td>\n",
       "      <td>0.000000</td>\n",
       "      <td>0.219782</td>\n",
       "    </tr>\n",
       "    <tr>\n",
       "      <th>109.55</th>\n",
       "      <th>38</th>\n",
       "      <td>1.465478e-01</td>\n",
       "      <td>-0.000695</td>\n",
       "      <td>0.145853</td>\n",
       "    </tr>\n",
       "    <tr>\n",
       "      <th>1013.00</th>\n",
       "      <th>76</th>\n",
       "      <td>-8.800000e-07</td>\n",
       "      <td>-0.053501</td>\n",
       "      <td>-0.053501</td>\n",
       "    </tr>\n",
       "  </tbody>\n",
       "</table>\n",
       "</div>"
      ],
      "text/plain": [
       "                        flug      fldg     fnetg\n",
       "pressure level                                  \n",
       "0.00     1      2.197819e-01  0.000000  0.219782\n",
       "109.55   38     1.465478e-01 -0.000695  0.145853\n",
       "1013.00  76    -8.800000e-07 -0.053501 -0.053501"
      ]
     },
     "metadata": {},
     "output_type": "display_data"
    },
    {
     "data": {
      "text/markdown": [
       "*TABLE.* Fluxes. (WGT igg=10) - (CRD)"
      ],
      "text/plain": [
       "<IPython.core.display.Markdown object>"
      ]
     },
     "metadata": {},
     "output_type": "display_data"
    },
    {
     "data": {
      "text/html": [
       "<a id=\"g-interval_Summary\"></a>"
      ],
      "text/plain": [
       "<IPython.core.display.HTML object>"
      ]
     },
     "metadata": {},
     "output_type": "display_data"
    },
    {
     "data": {
      "text/markdown": [
       "# g-interval Summary"
      ],
      "text/plain": [
       "<IPython.core.display.Markdown object>"
      ]
     },
     "metadata": {},
     "output_type": "display_data"
    },
    {
     "data": {
      "text/html": [
       "<div>\n",
       "<style scoped>\n",
       "    .dataframe tbody tr th:only-of-type {\n",
       "        vertical-align: middle;\n",
       "    }\n",
       "\n",
       "    .dataframe tbody tr th {\n",
       "        vertical-align: top;\n",
       "    }\n",
       "\n",
       "    .dataframe thead th {\n",
       "        text-align: right;\n",
       "    }\n",
       "</style>\n",
       "<table border=\"1\" class=\"dataframe\">\n",
       "  <thead>\n",
       "    <tr style=\"text-align: right;\">\n",
       "      <th></th>\n",
       "      <th>abscom</th>\n",
       "      <th>k(ig) / k(ig - 1)</th>\n",
       "      <th>dg</th>\n",
       "      <th>dgs</th>\n",
       "      <th>dg cumsum</th>\n",
       "      <th>dgs cumsum</th>\n",
       "      <th>pref</th>\n",
       "    </tr>\n",
       "    <tr>\n",
       "      <th>g</th>\n",
       "      <th></th>\n",
       "      <th></th>\n",
       "      <th></th>\n",
       "      <th></th>\n",
       "      <th></th>\n",
       "      <th></th>\n",
       "      <th></th>\n",
       "    </tr>\n",
       "  </thead>\n",
       "  <tbody>\n",
       "    <tr>\n",
       "      <th>1</th>\n",
       "      <td>6.376210e-19</td>\n",
       "      <td>NaN</td>\n",
       "      <td>0.005230</td>\n",
       "      <td>0.005365</td>\n",
       "      <td>0.005230</td>\n",
       "      <td>0.005365</td>\n",
       "      <td>1.0</td>\n",
       "    </tr>\n",
       "    <tr>\n",
       "      <th>2</th>\n",
       "      <td>5.353590e-21</td>\n",
       "      <td>8.396195e-03</td>\n",
       "      <td>0.038788</td>\n",
       "      <td>0.040104</td>\n",
       "      <td>0.044018</td>\n",
       "      <td>0.045469</td>\n",
       "      <td>1.0</td>\n",
       "    </tr>\n",
       "    <tr>\n",
       "      <th>3</th>\n",
       "      <td>2.220488e-20</td>\n",
       "      <td>4.147661e+00</td>\n",
       "      <td>0.291909</td>\n",
       "      <td>0.301219</td>\n",
       "      <td>0.335927</td>\n",
       "      <td>0.346687</td>\n",
       "      <td>500.0</td>\n",
       "    </tr>\n",
       "    <tr>\n",
       "      <th>4</th>\n",
       "      <td>2.163830e-26</td>\n",
       "      <td>9.744839e-07</td>\n",
       "      <td>0.664073</td>\n",
       "      <td>0.653313</td>\n",
       "      <td>1.000000</td>\n",
       "      <td>1.000000</td>\n",
       "      <td>500.0</td>\n",
       "    </tr>\n",
       "  </tbody>\n",
       "</table>\n",
       "</div>"
      ],
      "text/plain": [
       "         abscom  k(ig) / k(ig - 1)        dg       dgs  dg cumsum  dgs cumsum  \\\n",
       "g                                                                               \n",
       "1  6.376210e-19                NaN  0.005230  0.005365   0.005230    0.005365   \n",
       "2  5.353590e-21       8.396195e-03  0.038788  0.040104   0.044018    0.045469   \n",
       "3  2.220488e-20       4.147661e+00  0.291909  0.301219   0.335927    0.346687   \n",
       "4  2.163830e-26       9.744839e-07  0.664073  0.653313   1.000000    1.000000   \n",
       "\n",
       "    pref  \n",
       "g         \n",
       "1    1.0  \n",
       "2    1.0  \n",
       "3  500.0  \n",
       "4  500.0  "
      ]
     },
     "metadata": {},
     "output_type": "display_data"
    },
    {
     "data": {
      "text/markdown": [
       "TABLE. g-interval summary.  *abscom* is the lower bound of the g-interval."
      ],
      "text/plain": [
       "<IPython.core.display.Markdown object>"
      ]
     },
     "metadata": {},
     "output_type": "display_data"
    },
    {
     "data": {
      "text/html": [
       "<a id=\"Download_Data\"></a>"
      ],
      "text/plain": [
       "<IPython.core.display.HTML object>"
      ]
     },
     "metadata": {},
     "output_type": "display_data"
    },
    {
     "data": {
      "text/markdown": [
       "# Download Data"
      ],
      "text/plain": [
       "<IPython.core.display.Markdown object>"
      ]
     },
     "metadata": {},
     "output_type": "display_data"
    },
    {
     "data": {
      "text/html": [
       "Download: <a href=\"./lblnew-bestfit_flux.xlsx\">lblnew-bestfit_flux.xlsx</a>"
      ],
      "text/plain": [
       "<IPython.core.display.HTML object>"
      ]
     },
     "metadata": {},
     "output_type": "display_data"
    },
    {
     "data": {
      "text/html": [
       "Download: <a href=\"./lblnew-bestfit_cool.xlsx\">lblnew-bestfit_cool.xlsx</a>"
      ],
      "text/plain": [
       "<IPython.core.display.HTML object>"
      ]
     },
     "metadata": {},
     "output_type": "display_data"
    }
   ],
   "source": [
    "script()"
   ]
  },
  {
   "cell_type": "code",
   "execution_count": 14,
   "metadata": {},
   "outputs": [
    {
     "data": {
      "text/html": [
       "<script>\n",
       "code_show=true; \n",
       "function code_toggle() {\n",
       " if (code_show){\n",
       " $('div.input').hide();\n",
       " } else {\n",
       " $('div.input').show();\n",
       " }\n",
       " code_show = !code_show\n",
       "} \n",
       "$( document ).ready(code_toggle);\n",
       "</script>\n",
       "<form action=\"javascript:code_toggle()\"><input type=\"submit\" value=\"Click here to toggle on/off the raw code.\"></form>"
      ],
      "text/plain": [
       "<IPython.core.display.HTML object>"
      ]
     },
     "execution_count": 14,
     "metadata": {},
     "output_type": "execute_result"
    }
   ],
   "source": [
    "display.HTML('''<script>\n",
    "code_show=true; \n",
    "function code_toggle() {\n",
    " if (code_show){\n",
    " $('div.input').hide();\n",
    " } else {\n",
    " $('div.input').show();\n",
    " }\n",
    " code_show = !code_show\n",
    "} \n",
    "$( document ).ready(code_toggle);\n",
    "</script>\n",
    "<form action=\"javascript:code_toggle()\"><input type=\"submit\" value=\"Click here to toggle on/off the raw code.\"></form>''')"
   ]
  },
  {
   "cell_type": "code",
   "execution_count": 15,
   "metadata": {
    "collapsed": true
   },
   "outputs": [],
   "source": []
  }
 ],
 "metadata": {
  "kernelspec": {
   "display_name": "Python 3",
   "language": "python",
   "name": "python3"
  },
  "language_info": {
   "codemirror_mode": {
    "name": "ipython",
    "version": 3
   },
   "file_extension": ".py",
   "mimetype": "text/x-python",
   "name": "python",
   "nbconvert_exporter": "python",
   "pygments_lexer": "ipython3",
   "version": "3.6.1"
  }
 },
 "nbformat": 4,
 "nbformat_minor": 2
}
