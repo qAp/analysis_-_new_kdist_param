{
 "cells": [
  {
   "cell_type": "code",
   "execution_count": 1,
   "metadata": {
    "collapsed": true
   },
   "outputs": [],
   "source": [
    "%reload_ext autoreload\n",
    "%autoreload 2\n",
    "%matplotlib inline"
   ]
  },
  {
   "cell_type": "code",
   "execution_count": 2,
   "metadata": {
    "collapsed": true
   },
   "outputs": [],
   "source": [
    "import io\n",
    "\n",
    "import numpy as np\n",
    "import pymongo\n",
    "\n",
    "from bokeh.io import output_notebook, show\n",
    "from bokeh.palettes import all_palettes\n",
    "from bokeh.layouts import gridplot\n",
    "\n",
    "from IPython import display\n",
    "\n",
    "from climatools.cliradlw.dataset import load_output_file\n",
    "import climatools.html.html as climahtml\n",
    "from climatools.plot.plot import *"
   ]
  },
  {
   "cell_type": "code",
   "execution_count": 3,
   "metadata": {},
   "outputs": [
    {
     "data": {
      "text/html": [
       "\n",
       "    <div class=\"bk-root\">\n",
       "        <a href=\"https://bokeh.pydata.org\" target=\"_blank\" class=\"bk-logo bk-logo-small bk-logo-notebook\"></a>\n",
       "        <span id=\"2ea77559-8a42-40f0-80d6-bc60c0a90925\">Loading BokehJS ...</span>\n",
       "    </div>"
      ]
     },
     "metadata": {},
     "output_type": "display_data"
    },
    {
     "data": {
      "application/javascript": [
       "\n",
       "(function(root) {\n",
       "  function now() {\n",
       "    return new Date();\n",
       "  }\n",
       "\n",
       "  var force = true;\n",
       "\n",
       "  if (typeof (root._bokeh_onload_callbacks) === \"undefined\" || force === true) {\n",
       "    root._bokeh_onload_callbacks = [];\n",
       "    root._bokeh_is_loading = undefined;\n",
       "  }\n",
       "\n",
       "  var JS_MIME_TYPE = 'application/javascript';\n",
       "  var HTML_MIME_TYPE = 'text/html';\n",
       "  var EXEC_MIME_TYPE = 'application/vnd.bokehjs_exec.v0+json';\n",
       "  var CLASS_NAME = 'output_bokeh rendered_html';\n",
       "\n",
       "  /**\n",
       "   * Render data to the DOM node\n",
       "   */\n",
       "  function render(props, node) {\n",
       "    var script = document.createElement(\"script\");\n",
       "    node.appendChild(script);\n",
       "  }\n",
       "\n",
       "  /**\n",
       "   * Handle when an output is cleared or removed\n",
       "   */\n",
       "  function handleClearOutput(event, handle) {\n",
       "    var cell = handle.cell;\n",
       "\n",
       "    var id = cell.output_area._bokeh_element_id;\n",
       "    var server_id = cell.output_area._bokeh_server_id;\n",
       "    // Clean up Bokeh references\n",
       "    if (id !== undefined) {\n",
       "      Bokeh.index[id].model.document.clear();\n",
       "      delete Bokeh.index[id];\n",
       "    }\n",
       "\n",
       "    if (server_id !== undefined) {\n",
       "      // Clean up Bokeh references\n",
       "      var cmd = \"from bokeh.io.state import curstate; print(curstate().uuid_to_server['\" + server_id + \"'].get_sessions()[0].document.roots[0]._id)\";\n",
       "      cell.notebook.kernel.execute(cmd, {\n",
       "        iopub: {\n",
       "          output: function(msg) {\n",
       "            var element_id = msg.content.text.trim();\n",
       "            Bokeh.index[element_id].model.document.clear();\n",
       "            delete Bokeh.index[element_id];\n",
       "          }\n",
       "        }\n",
       "      });\n",
       "      // Destroy server and session\n",
       "      var cmd = \"import bokeh.io.notebook as ion; ion.destroy_server('\" + server_id + \"')\";\n",
       "      cell.notebook.kernel.execute(cmd);\n",
       "    }\n",
       "  }\n",
       "\n",
       "  /**\n",
       "   * Handle when a new output is added\n",
       "   */\n",
       "  function handleAddOutput(event, handle) {\n",
       "    var output_area = handle.output_area;\n",
       "    var output = handle.output;\n",
       "\n",
       "    // limit handleAddOutput to display_data with EXEC_MIME_TYPE content only\n",
       "    if ((output.output_type != \"display_data\") || (!output.data.hasOwnProperty(EXEC_MIME_TYPE))) {\n",
       "      return\n",
       "    }\n",
       "\n",
       "    var toinsert = output_area.element.find(\".\" + CLASS_NAME.split(' ')[0]);\n",
       "\n",
       "    if (output.metadata[EXEC_MIME_TYPE][\"id\"] !== undefined) {\n",
       "      toinsert[toinsert.length - 1].firstChild.textContent = output.data[JS_MIME_TYPE];\n",
       "      // store reference to embed id on output_area\n",
       "      output_area._bokeh_element_id = output.metadata[EXEC_MIME_TYPE][\"id\"];\n",
       "    }\n",
       "    if (output.metadata[EXEC_MIME_TYPE][\"server_id\"] !== undefined) {\n",
       "      var bk_div = document.createElement(\"div\");\n",
       "      bk_div.innerHTML = output.data[HTML_MIME_TYPE];\n",
       "      var script_attrs = bk_div.children[0].attributes;\n",
       "      for (var i = 0; i < script_attrs.length; i++) {\n",
       "        toinsert[toinsert.length - 1].firstChild.setAttribute(script_attrs[i].name, script_attrs[i].value);\n",
       "      }\n",
       "      // store reference to server id on output_area\n",
       "      output_area._bokeh_server_id = output.metadata[EXEC_MIME_TYPE][\"server_id\"];\n",
       "    }\n",
       "  }\n",
       "\n",
       "  function register_renderer(events, OutputArea) {\n",
       "\n",
       "    function append_mime(data, metadata, element) {\n",
       "      // create a DOM node to render to\n",
       "      var toinsert = this.create_output_subarea(\n",
       "        metadata,\n",
       "        CLASS_NAME,\n",
       "        EXEC_MIME_TYPE\n",
       "      );\n",
       "      this.keyboard_manager.register_events(toinsert);\n",
       "      // Render to node\n",
       "      var props = {data: data, metadata: metadata[EXEC_MIME_TYPE]};\n",
       "      render(props, toinsert[toinsert.length - 1]);\n",
       "      element.append(toinsert);\n",
       "      return toinsert\n",
       "    }\n",
       "\n",
       "    /* Handle when an output is cleared or removed */\n",
       "    events.on('clear_output.CodeCell', handleClearOutput);\n",
       "    events.on('delete.Cell', handleClearOutput);\n",
       "\n",
       "    /* Handle when a new output is added */\n",
       "    events.on('output_added.OutputArea', handleAddOutput);\n",
       "\n",
       "    /**\n",
       "     * Register the mime type and append_mime function with output_area\n",
       "     */\n",
       "    OutputArea.prototype.register_mime_type(EXEC_MIME_TYPE, append_mime, {\n",
       "      /* Is output safe? */\n",
       "      safe: true,\n",
       "      /* Index of renderer in `output_area.display_order` */\n",
       "      index: 0\n",
       "    });\n",
       "  }\n",
       "\n",
       "  // register the mime type if in Jupyter Notebook environment and previously unregistered\n",
       "  if (root.Jupyter !== undefined) {\n",
       "    var events = require('base/js/events');\n",
       "    var OutputArea = require('notebook/js/outputarea').OutputArea;\n",
       "\n",
       "    if (OutputArea.prototype.mime_types().indexOf(EXEC_MIME_TYPE) == -1) {\n",
       "      register_renderer(events, OutputArea);\n",
       "    }\n",
       "  }\n",
       "\n",
       "  \n",
       "  if (typeof (root._bokeh_timeout) === \"undefined\" || force === true) {\n",
       "    root._bokeh_timeout = Date.now() + 5000;\n",
       "    root._bokeh_failed_load = false;\n",
       "  }\n",
       "\n",
       "  var NB_LOAD_WARNING = {'data': {'text/html':\n",
       "     \"<div style='background-color: #fdd'>\\n\"+\n",
       "     \"<p>\\n\"+\n",
       "     \"BokehJS does not appear to have successfully loaded. If loading BokehJS from CDN, this \\n\"+\n",
       "     \"may be due to a slow or bad network connection. Possible fixes:\\n\"+\n",
       "     \"</p>\\n\"+\n",
       "     \"<ul>\\n\"+\n",
       "     \"<li>re-rerun `output_notebook()` to attempt to load from CDN again, or</li>\\n\"+\n",
       "     \"<li>use INLINE resources instead, as so:</li>\\n\"+\n",
       "     \"</ul>\\n\"+\n",
       "     \"<code>\\n\"+\n",
       "     \"from bokeh.resources import INLINE\\n\"+\n",
       "     \"output_notebook(resources=INLINE)\\n\"+\n",
       "     \"</code>\\n\"+\n",
       "     \"</div>\"}};\n",
       "\n",
       "  function display_loaded() {\n",
       "    var el = document.getElementById(\"2ea77559-8a42-40f0-80d6-bc60c0a90925\");\n",
       "    if (el != null) {\n",
       "      el.textContent = \"BokehJS is loading...\";\n",
       "    }\n",
       "    if (root.Bokeh !== undefined) {\n",
       "      if (el != null) {\n",
       "        el.textContent = \"BokehJS \" + root.Bokeh.version + \" successfully loaded.\";\n",
       "      }\n",
       "    } else if (Date.now() < root._bokeh_timeout) {\n",
       "      setTimeout(display_loaded, 100)\n",
       "    }\n",
       "  }\n",
       "\n",
       "\n",
       "  function run_callbacks() {\n",
       "    try {\n",
       "      root._bokeh_onload_callbacks.forEach(function(callback) { callback() });\n",
       "    }\n",
       "    finally {\n",
       "      delete root._bokeh_onload_callbacks\n",
       "    }\n",
       "    console.info(\"Bokeh: all callbacks have finished\");\n",
       "  }\n",
       "\n",
       "  function load_libs(js_urls, callback) {\n",
       "    root._bokeh_onload_callbacks.push(callback);\n",
       "    if (root._bokeh_is_loading > 0) {\n",
       "      console.log(\"Bokeh: BokehJS is being loaded, scheduling callback at\", now());\n",
       "      return null;\n",
       "    }\n",
       "    if (js_urls == null || js_urls.length === 0) {\n",
       "      run_callbacks();\n",
       "      return null;\n",
       "    }\n",
       "    console.log(\"Bokeh: BokehJS not loaded, scheduling load and callback at\", now());\n",
       "    root._bokeh_is_loading = js_urls.length;\n",
       "    for (var i = 0; i < js_urls.length; i++) {\n",
       "      var url = js_urls[i];\n",
       "      var s = document.createElement('script');\n",
       "      s.src = url;\n",
       "      s.async = false;\n",
       "      s.onreadystatechange = s.onload = function() {\n",
       "        root._bokeh_is_loading--;\n",
       "        if (root._bokeh_is_loading === 0) {\n",
       "          console.log(\"Bokeh: all BokehJS libraries loaded\");\n",
       "          run_callbacks()\n",
       "        }\n",
       "      };\n",
       "      s.onerror = function() {\n",
       "        console.warn(\"failed to load library \" + url);\n",
       "      };\n",
       "      console.log(\"Bokeh: injecting script tag for BokehJS library: \", url);\n",
       "      document.getElementsByTagName(\"head\")[0].appendChild(s);\n",
       "    }\n",
       "  };var element = document.getElementById(\"2ea77559-8a42-40f0-80d6-bc60c0a90925\");\n",
       "  if (element == null) {\n",
       "    console.log(\"Bokeh: ERROR: autoload.js configured with elementid '2ea77559-8a42-40f0-80d6-bc60c0a90925' but no matching script tag was found. \")\n",
       "    return false;\n",
       "  }\n",
       "\n",
       "  var js_urls = [\"https://cdn.pydata.org/bokeh/release/bokeh-0.12.16.min.js\", \"https://cdn.pydata.org/bokeh/release/bokeh-widgets-0.12.16.min.js\", \"https://cdn.pydata.org/bokeh/release/bokeh-tables-0.12.16.min.js\", \"https://cdn.pydata.org/bokeh/release/bokeh-gl-0.12.16.min.js\"];\n",
       "\n",
       "  var inline_js = [\n",
       "    function(Bokeh) {\n",
       "      Bokeh.set_log_level(\"info\");\n",
       "    },\n",
       "    \n",
       "    function(Bokeh) {\n",
       "      \n",
       "    },\n",
       "    function(Bokeh) {\n",
       "      console.log(\"Bokeh: injecting CSS: https://cdn.pydata.org/bokeh/release/bokeh-0.12.16.min.css\");\n",
       "      Bokeh.embed.inject_css(\"https://cdn.pydata.org/bokeh/release/bokeh-0.12.16.min.css\");\n",
       "      console.log(\"Bokeh: injecting CSS: https://cdn.pydata.org/bokeh/release/bokeh-widgets-0.12.16.min.css\");\n",
       "      Bokeh.embed.inject_css(\"https://cdn.pydata.org/bokeh/release/bokeh-widgets-0.12.16.min.css\");\n",
       "      console.log(\"Bokeh: injecting CSS: https://cdn.pydata.org/bokeh/release/bokeh-tables-0.12.16.min.css\");\n",
       "      Bokeh.embed.inject_css(\"https://cdn.pydata.org/bokeh/release/bokeh-tables-0.12.16.min.css\");\n",
       "    }\n",
       "  ];\n",
       "\n",
       "  function run_inline_js() {\n",
       "    \n",
       "    if ((root.Bokeh !== undefined) || (force === true)) {\n",
       "      for (var i = 0; i < inline_js.length; i++) {\n",
       "        inline_js[i].call(root, root.Bokeh);\n",
       "      }if (force === true) {\n",
       "        display_loaded();\n",
       "      }} else if (Date.now() < root._bokeh_timeout) {\n",
       "      setTimeout(run_inline_js, 100);\n",
       "    } else if (!root._bokeh_failed_load) {\n",
       "      console.log(\"Bokeh: BokehJS failed to load within specified timeout.\");\n",
       "      root._bokeh_failed_load = true;\n",
       "    } else if (force !== true) {\n",
       "      var cell = $(document.getElementById(\"2ea77559-8a42-40f0-80d6-bc60c0a90925\")).parents('.cell').data().cell;\n",
       "      cell.output_area.append_execute_result(NB_LOAD_WARNING)\n",
       "    }\n",
       "\n",
       "  }\n",
       "\n",
       "  if (root._bokeh_is_loading === 0) {\n",
       "    console.log(\"Bokeh: BokehJS loaded, going straight to plotting\");\n",
       "    run_inline_js();\n",
       "  } else {\n",
       "    load_libs(js_urls, function() {\n",
       "      console.log(\"Bokeh: BokehJS plotting callback run at\", now());\n",
       "      run_inline_js();\n",
       "    });\n",
       "  }\n",
       "}(window));"
      ],
      "application/vnd.bokehjs_load.v0+json": "\n(function(root) {\n  function now() {\n    return new Date();\n  }\n\n  var force = true;\n\n  if (typeof (root._bokeh_onload_callbacks) === \"undefined\" || force === true) {\n    root._bokeh_onload_callbacks = [];\n    root._bokeh_is_loading = undefined;\n  }\n\n  \n\n  \n  if (typeof (root._bokeh_timeout) === \"undefined\" || force === true) {\n    root._bokeh_timeout = Date.now() + 5000;\n    root._bokeh_failed_load = false;\n  }\n\n  var NB_LOAD_WARNING = {'data': {'text/html':\n     \"<div style='background-color: #fdd'>\\n\"+\n     \"<p>\\n\"+\n     \"BokehJS does not appear to have successfully loaded. If loading BokehJS from CDN, this \\n\"+\n     \"may be due to a slow or bad network connection. Possible fixes:\\n\"+\n     \"</p>\\n\"+\n     \"<ul>\\n\"+\n     \"<li>re-rerun `output_notebook()` to attempt to load from CDN again, or</li>\\n\"+\n     \"<li>use INLINE resources instead, as so:</li>\\n\"+\n     \"</ul>\\n\"+\n     \"<code>\\n\"+\n     \"from bokeh.resources import INLINE\\n\"+\n     \"output_notebook(resources=INLINE)\\n\"+\n     \"</code>\\n\"+\n     \"</div>\"}};\n\n  function display_loaded() {\n    var el = document.getElementById(\"2ea77559-8a42-40f0-80d6-bc60c0a90925\");\n    if (el != null) {\n      el.textContent = \"BokehJS is loading...\";\n    }\n    if (root.Bokeh !== undefined) {\n      if (el != null) {\n        el.textContent = \"BokehJS \" + root.Bokeh.version + \" successfully loaded.\";\n      }\n    } else if (Date.now() < root._bokeh_timeout) {\n      setTimeout(display_loaded, 100)\n    }\n  }\n\n\n  function run_callbacks() {\n    try {\n      root._bokeh_onload_callbacks.forEach(function(callback) { callback() });\n    }\n    finally {\n      delete root._bokeh_onload_callbacks\n    }\n    console.info(\"Bokeh: all callbacks have finished\");\n  }\n\n  function load_libs(js_urls, callback) {\n    root._bokeh_onload_callbacks.push(callback);\n    if (root._bokeh_is_loading > 0) {\n      console.log(\"Bokeh: BokehJS is being loaded, scheduling callback at\", now());\n      return null;\n    }\n    if (js_urls == null || js_urls.length === 0) {\n      run_callbacks();\n      return null;\n    }\n    console.log(\"Bokeh: BokehJS not loaded, scheduling load and callback at\", now());\n    root._bokeh_is_loading = js_urls.length;\n    for (var i = 0; i < js_urls.length; i++) {\n      var url = js_urls[i];\n      var s = document.createElement('script');\n      s.src = url;\n      s.async = false;\n      s.onreadystatechange = s.onload = function() {\n        root._bokeh_is_loading--;\n        if (root._bokeh_is_loading === 0) {\n          console.log(\"Bokeh: all BokehJS libraries loaded\");\n          run_callbacks()\n        }\n      };\n      s.onerror = function() {\n        console.warn(\"failed to load library \" + url);\n      };\n      console.log(\"Bokeh: injecting script tag for BokehJS library: \", url);\n      document.getElementsByTagName(\"head\")[0].appendChild(s);\n    }\n  };var element = document.getElementById(\"2ea77559-8a42-40f0-80d6-bc60c0a90925\");\n  if (element == null) {\n    console.log(\"Bokeh: ERROR: autoload.js configured with elementid '2ea77559-8a42-40f0-80d6-bc60c0a90925' but no matching script tag was found. \")\n    return false;\n  }\n\n  var js_urls = [\"https://cdn.pydata.org/bokeh/release/bokeh-0.12.16.min.js\", \"https://cdn.pydata.org/bokeh/release/bokeh-widgets-0.12.16.min.js\", \"https://cdn.pydata.org/bokeh/release/bokeh-tables-0.12.16.min.js\", \"https://cdn.pydata.org/bokeh/release/bokeh-gl-0.12.16.min.js\"];\n\n  var inline_js = [\n    function(Bokeh) {\n      Bokeh.set_log_level(\"info\");\n    },\n    \n    function(Bokeh) {\n      \n    },\n    function(Bokeh) {\n      console.log(\"Bokeh: injecting CSS: https://cdn.pydata.org/bokeh/release/bokeh-0.12.16.min.css\");\n      Bokeh.embed.inject_css(\"https://cdn.pydata.org/bokeh/release/bokeh-0.12.16.min.css\");\n      console.log(\"Bokeh: injecting CSS: https://cdn.pydata.org/bokeh/release/bokeh-widgets-0.12.16.min.css\");\n      Bokeh.embed.inject_css(\"https://cdn.pydata.org/bokeh/release/bokeh-widgets-0.12.16.min.css\");\n      console.log(\"Bokeh: injecting CSS: https://cdn.pydata.org/bokeh/release/bokeh-tables-0.12.16.min.css\");\n      Bokeh.embed.inject_css(\"https://cdn.pydata.org/bokeh/release/bokeh-tables-0.12.16.min.css\");\n    }\n  ];\n\n  function run_inline_js() {\n    \n    if ((root.Bokeh !== undefined) || (force === true)) {\n      for (var i = 0; i < inline_js.length; i++) {\n        inline_js[i].call(root, root.Bokeh);\n      }if (force === true) {\n        display_loaded();\n      }} else if (Date.now() < root._bokeh_timeout) {\n      setTimeout(run_inline_js, 100);\n    } else if (!root._bokeh_failed_load) {\n      console.log(\"Bokeh: BokehJS failed to load within specified timeout.\");\n      root._bokeh_failed_load = true;\n    } else if (force !== true) {\n      var cell = $(document.getElementById(\"2ea77559-8a42-40f0-80d6-bc60c0a90925\")).parents('.cell').data().cell;\n      cell.output_area.append_execute_result(NB_LOAD_WARNING)\n    }\n\n  }\n\n  if (root._bokeh_is_loading === 0) {\n    console.log(\"Bokeh: BokehJS loaded, going straight to plotting\");\n    run_inline_js();\n  } else {\n    load_libs(js_urls, function() {\n      console.log(\"Bokeh: BokehJS plotting callback run at\", now());\n      run_inline_js();\n    });\n  }\n}(window));"
     },
     "metadata": {},
     "output_type": "display_data"
    }
   ],
   "source": [
    "output_notebook()"
   ]
  },
  {
   "cell_type": "code",
   "execution_count": 4,
   "metadata": {
    "collapsed": true
   },
   "outputs": [],
   "source": [
    "def make_query(param=None):\n",
    "    '''\n",
    "    Returns the MongoDB query for a lblnew \n",
    "    run's document.\n",
    "    \n",
    "    Parameters\n",
    "    ----------\n",
    "    param: dict\n",
    "    lblnew-bestfit input parameters.\n",
    "    '''\n",
    "    return {'param.' + name: value for name, value in param.items()}   "
   ]
  },
  {
   "cell_type": "code",
   "execution_count": 5,
   "metadata": {
    "collapsed": true
   },
   "outputs": [],
   "source": [
    "def print_input_param():\n",
    "    '''\n",
    "    Print to screen the input parameters \n",
    "    of the lblnew run.\n",
    "    '''\n",
    "    for name, value in sorted(PARAM.items()):\n",
    "        print(f'{name} = {value}')"
   ]
  },
  {
   "cell_type": "code",
   "execution_count": 6,
   "metadata": {
    "collapsed": true
   },
   "outputs": [],
   "source": [
    "def fmt_cool(ds_in):\n",
    "    ds = ds_in.copy(deep=True)\n",
    "    \n",
    "    if 'i' in ds.dims:                                                                                               \n",
    "        ds = ds.sel(i=ds.dims['i']) \n",
    "        \n",
    "    if 'band' in ds.dims:\n",
    "        try:\n",
    "            ds = ds.squeeze('band')\n",
    "        except ValueError:\n",
    "            ds = ds.sum('band') \n",
    "            \n",
    "    return ds['coolrg']\n",
    "\n",
    "\n",
    "\n",
    "def pltdata_cool(g=None):\n",
    "    '''\n",
    "    Define the plotting data for cooling rate\n",
    "    profile plots.  Add/remove entries in\n",
    "    the `data` list.\n",
    "    \n",
    "    Parameters\n",
    "    ----------\n",
    "    g: int\n",
    "        g-interval to be plotted.  If None,\n",
    "        the sum over all g-intervals will be\n",
    "        plotted.\n",
    "    data: dict\n",
    "        Plot data, including colour, line attributes, etc.\n",
    "    '''\n",
    "    colors = all_palettes['Set1'][4]\n",
    "    \n",
    "    if g == None:\n",
    "        ds_cool_crd = DS_COOL_CRD.sum('g')\n",
    "        ds_cool_wgt = DS_COOL_WGT.sum('g')\n",
    "    else:\n",
    "        ds_cool_crd = DS_COOL_CRD.sel(g=g)\n",
    "        ds_cool_wgt = DS_COOL_WGT.sel(g=g)\n",
    "    \n",
    "    data = [\n",
    "        {'label': 'CRD',\n",
    "         'srs': fmt_cool(ds_cool_crd),\n",
    "         'line_dash': 'solid', 'line_width':1.5,\n",
    "         'marker': 'circle', 'mark_size': 5,\n",
    "         'color': colors[2], 'alpha': 1},\n",
    "        {'label': 'WGT igg=1',\n",
    "         'srs': fmt_cool(ds_cool_wgt.sel(igg=1)),\n",
    "         'line_dash': 'solid', 'line_width': 3,\n",
    "         'marker': 'square', 'marker_size': 5,\n",
    "         'color': colors[3], 'alpha': .6},\n",
    "        {'label': 'WGT igg=10',\n",
    "         'srs': fmt_cool(ds_cool_wgt.sel(igg=10)),\n",
    "         'line_dash': 'solid', 'line_width': 2,\n",
    "         'marker': 'triangle', 'marker_size': 2,\n",
    "         'color': colors[1], 'alpha': .3}]\n",
    "    return data\n",
    "\n",
    "\n",
    "\n",
    "def plt_cool(pltdata=None):\n",
    "    '''\n",
    "    Plot cooling rate profiles on linear\n",
    "    and log pressure axes.\n",
    "    \n",
    "    Parameters\n",
    "    ----------\n",
    "    pltdata: dict\n",
    "        Plot data, including colour, line attributes, etc.\n",
    "    everything: bokeh.models.layouts.Column\n",
    "        Cooling rate profile plot.\n",
    "    '''\n",
    "    plin = plt_vert_profile_bokeh(pltdata=pltdata, \n",
    "                                  y_axis_type='linear',\n",
    "                                  prange=(50, 1050))\n",
    "    plin.plot_width, plin.plot_height = 400, 500\n",
    "    \n",
    "    plog = plt_vert_profile_bokeh(pltdata=pltdata,\n",
    "                                  y_axis_type='log',\n",
    "                                  prange=(.01, 200)) \n",
    "    plog.plot_width, plog.plot_height = 400, 500\n",
    "    \n",
    "    everything = gridplot(plin, plog, ncols=2)\n",
    "    return everything\n",
    "    \n",
    "    \n",
    "\n",
    "def script_plt_cool():\n",
    "    '''\n",
    "    Script to plot the cooling rate profiles\n",
    "    in each g-interval and the total \n",
    "    cooling rate profile over all g-intervals.\n",
    "    '''\n",
    "    ng = sum(PARAM['ng_refs'])\n",
    "    for g in np.arange(1, ng + 1):\n",
    "        data = pltdata_cool(g=g)\n",
    "        p = plt_cool(pltdata=data)\n",
    "        show(p)\n",
    "        display.display(\n",
    "            display.Markdown(f'*FIGURE.* Cooling rates. g={g}'))\n",
    "    \n",
    "    data = pltdata_cool()\n",
    "    p = plt_cool(pltdata=data)\n",
    "    show(p)\n",
    "    display.display(\n",
    "        display.Markdown(f'*FIGURE.* Cooling rates. Summed over g.'))\n",
    "    \n"
   ]
  },
  {
   "cell_type": "code",
   "execution_count": 7,
   "metadata": {
    "collapsed": true
   },
   "outputs": [],
   "source": [
    "def fmt_flux(ds_in, ilevels=None):\n",
    "    ds = ds_in.copy(deep=True)\n",
    "    \n",
    "    for l in ('level', 'layer'):\n",
    "        if l in ds.data_vars:\n",
    "            if len(ds[l].dims) > 1:\n",
    "                surface = {d: 0 for d in ds.dims if d != 'pressure'}\n",
    "                coord_level = ds[l][surface]\n",
    "                ds.coords[l] = ('pressure', coord_level)\n",
    "            else:\n",
    "                ds.coords[l] = ('pressure', ds[l])\n",
    "    \n",
    "    if ilevels:\n",
    "        ds = ds.isel(pressure=ilevels)\n",
    "\n",
    "    if 'i' in ds.dims:                                                                                               \n",
    "        ds = ds.sel(i=ds.dims['i'])\n",
    "        \n",
    "    if 'igg' in ds.dims:\n",
    "        ds = ds.squeeze('igg').drop('igg')\n",
    "            \n",
    "    if 'band' in ds.dims:\n",
    "        try:\n",
    "            ds = ds.squeeze('band').drop('band')\n",
    "        except ValueError:\n",
    "            ds = ds.sum('band')\n",
    "                \n",
    "    df = ds.to_dataframe()\n",
    "    df = df.set_index('level', append=True)               \n",
    "    return df\n",
    "\n",
    "\n",
    "def tbdata_flux():\n",
    "    '''\n",
    "    Define the flux data to be tabulated for\n",
    "    the g-intervals.  Add/remove entries in the\n",
    "    `tbs` list.\n",
    "    \n",
    "    Parameters\n",
    "    ----------\n",
    "    data: dict\n",
    "        Flux data, including how each set is to be\n",
    "        labeled in the output table.\n",
    "    '''\n",
    "    tropopauses = {'mls': 40, 'saw': 45, 'trp': 37}\n",
    "    atmpro = PARAM['atmpro']\n",
    "    ilevels = [0, tropopauses[atmpro], -1]\n",
    "    \n",
    "    benchmark = {'label': 'CRD',\n",
    "                 'df': fmt_flux(DS_FLUX_CRD, ilevels=ilevels)}\n",
    "    \n",
    "    tbs = [{'label': 'WGT igg=1',\n",
    "            'df': fmt_flux(DS_FLUX_WGT.sel(igg=[1]), ilevels=ilevels)},\n",
    "           {'label': 'WGT igg=10',\n",
    "            'df': fmt_flux(DS_FLUX_WGT.sel(igg=[10]), ilevels=ilevels)}]\n",
    "    \n",
    "    data = {'benchmark': benchmark, 'others': tbs}\n",
    "    return data\n",
    "\n",
    "\n",
    "\n",
    "def tbdata_flux_sumg():\n",
    "    '''\n",
    "    Define the total flux data, over all g-intervals,\n",
    "    to be tabulated.\n",
    "    \n",
    "    Parameters\n",
    "    ----------\n",
    "    data: dict\n",
    "        Flux data, including how each set is to e\n",
    "        labeled in the output table.\n",
    "    '''\n",
    "    tropopauses = {'mls': 40, 'saw': 45, 'trp': 37}\n",
    "    \n",
    "    atmpro = PARAM['atmpro']\n",
    "    ilevels = [0, tropopauses[atmpro], -1]\n",
    "    \n",
    "    benchmark = {'label': 'CRD',\n",
    "                 'df': fmt_flux(DS_FLUX_CRD.sum('g'), ilevels=ilevels)}\n",
    "    \n",
    "    tbs = [{'label': 'WGT igg=1',\n",
    "            'df': fmt_flux(DS_FLUX_WGT.sel(igg=[1]).sum('g'), \n",
    "                           ilevels=ilevels)},\n",
    "           {'label': 'WGT igg=10',\n",
    "            'df': fmt_flux(DS_FLUX_WGT.sel(igg=[10]).sum('g'), \n",
    "                           ilevels=ilevels)}]\n",
    "    \n",
    "    data = {'benchmark': benchmark, 'others': tbs}\n",
    "    return data\n",
    "\n",
    "\n",
    "def tb_flux(tbdata=None):\n",
    "    '''\n",
    "    Display flux table for each set, and display\n",
    "    the difference between each set and the set\n",
    "    that is specified to be the benchmark.\n",
    "    \n",
    "    Parameters\n",
    "    ----------\n",
    "    tbdata: dict\n",
    "        Flux data, including how each set it to be\n",
    "        labeled in the output table.\n",
    "    '''\n",
    "    benchmark = tbdata['benchmark']\n",
    "    others = tbdata['others']\n",
    "    \n",
    "    def show_tb(d=None):\n",
    "        display.display(d['df'])\n",
    "        display.display(display.Markdown(\n",
    "            f\"*TABLE.* Fluxes. {d['label']}\"))\n",
    "        \n",
    "    def show_tbdiff(d0=None, d=None):\n",
    "        df = d['df']\n",
    "        df.index = d0['df'].index\n",
    "        display.display(df - d0['df'])\n",
    "        display.display(display.Markdown(\n",
    "            f\"*TABLE.* Fluxes. ({d['label']}) - ({d0['label']})\"))\n",
    "        \n",
    "    show_tb(benchmark)\n",
    "    for d in others:\n",
    "        show_tb(d)\n",
    "        \n",
    "    for d in others:\n",
    "        show_tbdiff(d=d, d0=benchmark)\n",
    "        \n",
    "\n",
    "        \n",
    "def script_tb_flux():\n",
    "    '''\n",
    "    Script to display the flux tables in \n",
    "    each g-interval, and the flux table\n",
    "    for the total flux, over all g-intervals.\n",
    "    '''\n",
    "    tb_flux(tbdata=tbdata_flux())\n",
    "    tb_flux(tbdata=tbdata_flux_sumg())\n"
   ]
  },
  {
   "cell_type": "code",
   "execution_count": 8,
   "metadata": {
    "collapsed": true
   },
   "outputs": [],
   "source": [
    "def script_gsummary():\n",
    "    '''\n",
    "    Script to display how the g-intervals\n",
    "    are defined according the hyperparameters\n",
    "    chosen for this lblnew-bestfit run.\n",
    "    '''\n",
    "    ng_refs = PARAM['ng_refs']\n",
    "    p_refs = list(zip(*PARAM['ref_pts']))[0]\n",
    "    ng = sum(ng_refs)\n",
    "    df_abscom = pd.read_csv(io.StringIO(DOC['abscom']), \n",
    "                            sep=r'\\s+', index_col=[0])\n",
    "    df_dgdgs = pd.read_csv(io.StringIO(DOC['dgdgs']), \n",
    "                            sep=r'\\s+', index_col=[0])\n",
    "    \n",
    "    # absth(g + 1) / absth(g)\n",
    "    df_abscom_copy = df_abscom.copy()\n",
    "    df_abscom_copy.index = df_abscom.index + 1\n",
    "    df_absratio = df_abscom / df_abscom_copy\n",
    "    df_absratio.columns = ['k(ig) / k(ig - 1)']\n",
    "    df_absratio = df_absratio.loc[: ng]    \n",
    "    \n",
    "    df_dgdgs_cumsum = df_dgdgs.cumsum(axis=0)\n",
    "    df_dgdgs_cumsum.columns = ['dg cumsum', 'dgs cumsum']\n",
    "    \n",
    "    data_pref = np.concatenate([p_ref * np.ones((ng_ref,)) \n",
    "                                for ng_ref, p_ref \n",
    "                                in zip(ng_refs, p_refs)], axis=0)\n",
    "    df_pref = pd.DataFrame(data_pref, \n",
    "                           index=df_dgdgs.index, columns=['pref'])\n",
    "    \n",
    "    df_all = pd.concat([df_abscom, df_absratio,\n",
    "                        df_dgdgs, df_dgdgs_cumsum,\n",
    "                        df_pref], axis=1) \n",
    "    \n",
    "    display.display(df_all)\n",
    "    display.display(display.Markdown(\n",
    "        (f\"TABLE. g-interval summary.  \"\n",
    "         f\"*abscom* is the lower bound of the g-interval.\")))\n",
    "    \n"
   ]
  },
  {
   "cell_type": "code",
   "execution_count": 9,
   "metadata": {
    "collapsed": true
   },
   "outputs": [],
   "source": [
    "def script_flux_to_excel():\n",
    "    '''\n",
    "    Script to save the lblnew-bestfit run's\n",
    "    output flux to excel file and display the\n",
    "    link to download the excel file.\n",
    "    '''\n",
    "    fname = 'lblnew-bestfit_flux.xlsx'\n",
    "    writer = pd.ExcelWriter(fname)\n",
    "    \n",
    "    ds = DS_FLUX_CRD\n",
    "    for g in ds.coords['g']:\n",
    "        df = ds.sel(g=g).to_dataframe()\n",
    "        df.to_excel(writer, f'crd flux g={int(g)}')\n",
    "                \n",
    "    ds = DS_FLUX_WGT\n",
    "    for g in ds.coords['g']:\n",
    "        df = ds.sel(g=g, igg=1).to_dataframe()\n",
    "        df.to_excel(writer, f'wgt igg=1 flux g={int(g)}')\n",
    "        \n",
    "        df = ds.sel(g=g, igg=10).to_dataframe()\n",
    "        df.to_excel(writer, f'wgt igg=10 flux g={int(g)}')\n",
    "        \n",
    "    writer.save()    \n",
    "    html_download = f'Download: <a href=\"./{fname}\">{fname}</a>'\n",
    "    display.display(display.HTML(html_download))\n",
    "\n",
    "\n",
    "def script_cool_to_excel():\n",
    "    '''\n",
    "    Script to save the lblnew-bestfit run's\n",
    "    output cooling rate to excel file and display\n",
    "    the link to download the excel file.\n",
    "    '''\n",
    "    fname = 'lblnew-bestfit_cool.xlsx'\n",
    "    writer = pd.ExcelWriter(fname)\n",
    "    \n",
    "    ds = DS_COOL_CRD\n",
    "    for g in ds.coords['g']:\n",
    "        df = ds.sel(g=g).to_dataframe()\n",
    "        df.to_excel(writer, f'crd cool g={int(g)}')\n",
    "        \n",
    "    ds = DS_COOL_WGT\n",
    "    for g in ds.coords['g']:\n",
    "        df = ds.sel(g=g, igg=1).to_dataframe()\n",
    "        df.to_excel(writer, f'wgt igg=1 cool g={int(g)}')\n",
    "        \n",
    "        df = ds.sel(g=g, igg=10).to_dataframe()\n",
    "        df.to_excel(writer, f'wgt igg=10 cool g={int(g)}')\n",
    "        \n",
    "    writer.save()\n",
    "    html_download = f'Download: <a href=\"./{fname}\">{fname}</a>'\n",
    "    display.display(display.HTML(html_download))"
   ]
  },
  {
   "cell_type": "code",
   "execution_count": 10,
   "metadata": {
    "collapsed": true
   },
   "outputs": [],
   "source": [
    "def show_html(s):\n",
    "    display.display(display.HTML(s))\n",
    "\n",
    "    \n",
    "def show_markdown(s):\n",
    "    display.display(display.Markdown(s))"
   ]
  },
  {
   "cell_type": "code",
   "execution_count": 11,
   "metadata": {
    "collapsed": true
   },
   "outputs": [],
   "source": [
    "def script():\n",
    "    title = ('### lblnew-bestfit' \n",
    "             if 'ng_refs' in PARAM else '### lblnew-overlap')\n",
    "    s_input = 'Input Parameters'\n",
    "    s_plt_cool = 'Cooling Rate Profiles'\n",
    "    s_tb_flux = 'Flux Comparison'\n",
    "    s_gsummary = 'g-interval Summary'\n",
    "    s_download = 'Download Data'\n",
    "    \n",
    "    # title\n",
    "    show_markdown(title)\n",
    "    \n",
    "    # TOC\n",
    "    show_markdown('### Table of Contents')\n",
    "    show_html(climahtml.getHTML_hrefanchor(s_input))\n",
    "    show_html(climahtml.getHTML_hrefanchor(s_plt_cool))\n",
    "    show_html(climahtml.getHTML_hrefanchor(s_tb_flux))\n",
    "    show_html(climahtml.getHTML_hrefanchor(s_gsummary))\n",
    "    show_html(climahtml.getHTML_hrefanchor(s_download))\n",
    "    \n",
    "    # Input parameters\n",
    "    show_html(climahtml.getHTML_idanchor(s_input))\n",
    "    show_markdown(climahtml.getMarkdown_sectitle(s_input))\n",
    "    print_input_param()\n",
    "    \n",
    "    # Cooling rate profiles\n",
    "    show_html(climahtml.getHTML_idanchor(s_plt_cool))\n",
    "    show_markdown(climahtml.getMarkdown_sectitle(s_plt_cool))\n",
    "    script_plt_cool()\n",
    "    \n",
    "    # Flux comparison\n",
    "    show_html(climahtml.getHTML_idanchor(s_tb_flux))\n",
    "    show_markdown(climahtml.getMarkdown_sectitle(s_tb_flux))\n",
    "    script_tb_flux()\n",
    "    \n",
    "    # g-interval summary\n",
    "    show_html(climahtml.getHTML_idanchor(s_gsummary))\n",
    "    show_markdown(climahtml.getMarkdown_sectitle(s_gsummary))\n",
    "    script_gsummary()\n",
    "    \n",
    "    # Download cooling rate and fluxes\n",
    "    show_html(climahtml.getHTML_idanchor(s_download))\n",
    "    show_markdown(climahtml.getMarkdown_sectitle(s_download))\n",
    "    script_flux_to_excel()\n",
    "    script_cool_to_excel()"
   ]
  },
  {
   "cell_type": "code",
   "execution_count": 12,
   "metadata": {
    "collapsed": true
   },
   "outputs": [],
   "source": [
    "%run param.py\n",
    "\n",
    "client = pymongo.MongoClient('localhost', 27017, connect=False)\n",
    "db = client.lblnew\n",
    "\n",
    "\n",
    "DOC = db.bestfit_lw.find_one(make_query(param=PARAM))\n",
    "DS_FLUX_CRD = load_output_file(io.StringIO(DOC['output_fluxg']))\n",
    "DS_COOL_CRD = load_output_file(io.StringIO(DOC['output_coolrg']))\n",
    "DS_FLUX_WGT = load_output_file(io.StringIO(DOC['output_wfluxg']))\n",
    "DS_COOL_WGT = load_output_file(io.StringIO(DOC['output_wcoolrg']))"
   ]
  },
  {
   "cell_type": "code",
   "execution_count": 13,
   "metadata": {
    "scrolled": false
   },
   "outputs": [
    {
     "data": {
      "text/markdown": [
       "### lblnew-bestfit"
      ],
      "text/plain": [
       "<IPython.core.display.Markdown object>"
      ]
     },
     "metadata": {},
     "output_type": "display_data"
    },
    {
     "data": {
      "text/markdown": [
       "### Table of Contents"
      ],
      "text/plain": [
       "<IPython.core.display.Markdown object>"
      ]
     },
     "metadata": {},
     "output_type": "display_data"
    },
    {
     "data": {
      "text/html": [
       "<a href=\"#Input_Parameters\">Input Parameters</a>"
      ],
      "text/plain": [
       "<IPython.core.display.HTML object>"
      ]
     },
     "metadata": {},
     "output_type": "display_data"
    },
    {
     "data": {
      "text/html": [
       "<a href=\"#Cooling_Rate_Profiles\">Cooling Rate Profiles</a>"
      ],
      "text/plain": [
       "<IPython.core.display.HTML object>"
      ]
     },
     "metadata": {},
     "output_type": "display_data"
    },
    {
     "data": {
      "text/html": [
       "<a href=\"#Flux_Comparison\">Flux Comparison</a>"
      ],
      "text/plain": [
       "<IPython.core.display.HTML object>"
      ]
     },
     "metadata": {},
     "output_type": "display_data"
    },
    {
     "data": {
      "text/html": [
       "<a href=\"#g-interval_Summary\">g-interval Summary</a>"
      ],
      "text/plain": [
       "<IPython.core.display.HTML object>"
      ]
     },
     "metadata": {},
     "output_type": "display_data"
    },
    {
     "data": {
      "text/html": [
       "<a href=\"#Download_Data\">Download Data</a>"
      ],
      "text/plain": [
       "<IPython.core.display.HTML object>"
      ]
     },
     "metadata": {},
     "output_type": "display_data"
    },
    {
     "data": {
      "text/html": [
       "<a id=\"Input_Parameters\"></a>"
      ],
      "text/plain": [
       "<IPython.core.display.HTML object>"
      ]
     },
     "metadata": {},
     "output_type": "display_data"
    },
    {
     "data": {
      "text/markdown": [
       "# Input Parameters"
      ],
      "text/plain": [
       "<IPython.core.display.Markdown object>"
      ]
     },
     "metadata": {},
     "output_type": "display_data"
    },
    {
     "name": "stdout",
     "output_type": "stream",
     "text": [
      "atmpro = saw\n",
      "band = 7\n",
      "commitnumber = 5014a19\n",
      "conc = 3.2e-07\n",
      "dv = 0.001\n",
      "klin = 2.22e-20\n",
      "molecule = n2o\n",
      "ng_adju = [0, 0]\n",
      "ng_refs = [2, 2]\n",
      "nv = 1000\n",
      "option_compute_btable = 0\n",
      "option_compute_ktable = 0\n",
      "option_wgt_flux = 1\n",
      "option_wgt_k = 1\n",
      "ref_pts = [(1, 250), (500, 250)]\n",
      "tsfc = 257\n",
      "vmax = 1380\n",
      "vmin = 1215\n",
      "w_diffuse = [(1.8, 1.66), (1.6, 1.8)]\n",
      "wgt = [(0.6, 0.5), (0.6, 0.9)]\n"
     ]
    },
    {
     "data": {
      "text/html": [
       "<a id=\"Cooling_Rate_Profiles\"></a>"
      ],
      "text/plain": [
       "<IPython.core.display.HTML object>"
      ]
     },
     "metadata": {},
     "output_type": "display_data"
    },
    {
     "data": {
      "text/markdown": [
       "# Cooling Rate Profiles"
      ],
      "text/plain": [
       "<IPython.core.display.Markdown object>"
      ]
     },
     "metadata": {},
     "output_type": "display_data"
    },
    {
     "data": {
      "text/html": [
       "\n",
       "<div class=\"bk-root\">\n",
       "    <div class=\"bk-plotdiv\" id=\"ec3bbf09-15c0-432a-8b47-7c40264e983a\"></div>\n",
       "</div>"
      ]
     },
     "metadata": {},
     "output_type": "display_data"
    },
    {
     "data": {
      "application/javascript": [
       "(function(root) {\n",
       "  function embed_document(root) {\n",
       "    \n",
       "  var docs_json = {\"87b61da1-d8d1-4ca4-854e-6ec9a2b88dee\":{\"roots\":{\"references\":[{\"attributes\":{},\"id\":\"9357e1fd-7ab8-4936-9675-49cfae21c05e\",\"type\":\"LinearScale\"},{\"attributes\":{},\"id\":\"a4634305-f9c3-4bd5-9f88-2dee99f217c0\",\"type\":\"UnionRenderers\"},{\"attributes\":{},\"id\":\"21ab575d-81e8-44a0-b8ca-0974ff7d7f3f\",\"type\":\"UnionRenderers\"},{\"attributes\":{},\"id\":\"a0a518f9-d691-4330-807f-2d63d27835be\",\"type\":\"WheelZoomTool\"},{\"attributes\":{\"items\":[{\"id\":\"59387d0a-e425-4b6b-9ff3-a56bd75f8a78\",\"type\":\"LegendItem\"},{\"id\":\"15673cb2-f83d-4a9d-a349-54ed287600b7\",\"type\":\"LegendItem\"},{\"id\":\"d64230ce-e7b4-41aa-a6e0-3596f0b1fd83\",\"type\":\"LegendItem\"}],\"label_text_font_size\":{\"value\":\"8pt\"},\"location\":\"top_center\",\"orientation\":\"horizontal\",\"plot\":{\"id\":\"29718a67-d64e-4797-837a-c3aa312ab99f\",\"subtype\":\"Figure\",\"type\":\"Plot\"}},\"id\":\"763f8fde-4eee-4f24-9a49-b0377b1b10db\",\"type\":\"Legend\"},{\"attributes\":{\"label\":{\"value\":\"WGT igg=10\"},\"renderers\":[{\"id\":\"60769b0f-9863-4885-9400-e506f6347470\",\"type\":\"GlyphRenderer\"},{\"id\":\"b17b98c0-97bf-4436-89f7-dd32323dd98d\",\"type\":\"GlyphRenderer\"}]},\"id\":\"bb1d57a7-35b3-4ea9-8d88-65ef6708ceb0\",\"type\":\"LegendItem\"},{\"attributes\":{},\"id\":\"0defe383-9412-481e-a1b7-5fbc9bd715f2\",\"type\":\"Selection\"},{\"attributes\":{},\"id\":\"3f6fd532-9b9a-41d0-bddf-46641e8d1f8a\",\"type\":\"UnionRenderers\"},{\"attributes\":{},\"id\":\"34557400-bb0c-42a1-bb43-3da40c77ebeb\",\"type\":\"BasicTickFormatter\"},{\"attributes\":{},\"id\":\"974927ad-7781-449a-bded-90b8dbbbb9c5\",\"type\":\"PanTool\"},{\"attributes\":{\"ticker\":null},\"id\":\"3a79e329-de46-4746-8c79-483acfd49d7f\",\"type\":\"LogTickFormatter\"},{\"attributes\":{},\"id\":\"3e5bdc17-d7d9-410f-9653-b8cc999b47f3\",\"type\":\"UnionRenderers\"},{\"attributes\":{},\"id\":\"6147f7d6-00be-4b3f-9ffd-3add0ce50321\",\"type\":\"UnionRenderers\"},{\"attributes\":{},\"id\":\"00b468ac-ba92-4ddf-88a7-71f15b00d2a5\",\"type\":\"Selection\"},{\"attributes\":{\"bottom_units\":\"screen\",\"fill_alpha\":{\"value\":0.5},\"fill_color\":{\"value\":\"lightgrey\"},\"left_units\":\"screen\",\"level\":\"overlay\",\"line_alpha\":{\"value\":1.0},\"line_color\":{\"value\":\"black\"},\"line_dash\":[4,4],\"line_width\":{\"value\":2},\"plot\":null,\"render_mode\":\"css\",\"right_units\":\"screen\",\"top_units\":\"screen\"},\"id\":\"b17efbcf-796c-425f-89d5-a89a4c91837f\",\"type\":\"BoxAnnotation\"},{\"attributes\":{},\"id\":\"7e016f85-4198-44c6-a349-a8393cbf1c8d\",\"type\":\"UnionRenderers\"},{\"attributes\":{},\"id\":\"51fc4d72-a286-4518-a2ee-b05d9bee0aa3\",\"type\":\"Selection\"},{\"attributes\":{},\"id\":\"a78305cb-6bb4-4af8-a6da-31f59ccb2273\",\"type\":\"UnionRenderers\"},{\"attributes\":{\"data_source\":{\"id\":\"2a257dff-452b-4852-af94-ff412e0ec573\",\"type\":\"ColumnDataSource\"},\"glyph\":{\"id\":\"a5a924f9-2306-4c28-82d4-a1337507e7b5\",\"type\":\"Square\"},\"hover_glyph\":null,\"muted_glyph\":null,\"nonselection_glyph\":{\"id\":\"d4164970-0d51-4c6a-a7dd-61b6bfbb7c7c\",\"type\":\"Square\"},\"selection_glyph\":null,\"view\":{\"id\":\"f4c0ac0b-927f-4fdc-b5e7-97afc00cb2df\",\"type\":\"CDSView\"}},\"id\":\"7b52c633-7074-4590-93ad-a66224c62871\",\"type\":\"GlyphRenderer\"},{\"attributes\":{},\"id\":\"54448fc9-38b4-4098-bcee-4c85321c5f56\",\"type\":\"Selection\"},{\"attributes\":{},\"id\":\"9783313f-e532-42d2-b32b-b3afec5b1531\",\"type\":\"UnionRenderers\"},{\"attributes\":{\"callback\":null,\"end\":0.01,\"start\":1020},\"id\":\"2a707f6f-5184-41bc-b311-c8166d49de34\",\"type\":\"Range1d\"},{\"attributes\":{},\"id\":\"9a89480b-b548-4bf2-920f-3080deca6368\",\"type\":\"Selection\"},{\"attributes\":{},\"id\":\"5dd29a9c-1ea0-4b97-b5b6-8b91cc7a2390\",\"type\":\"Selection\"},{\"attributes\":{},\"id\":\"c017af44-ab26-4aad-9bdf-c55b92c446ad\",\"type\":\"Selection\"},{\"attributes\":{\"overlay\":{\"id\":\"b17efbcf-796c-425f-89d5-a89a4c91837f\",\"type\":\"BoxAnnotation\"}},\"id\":\"dc2866aa-676b-4f27-9388-931a3e6a32bc\",\"type\":\"BoxZoomTool\"},{\"attributes\":{\"dimension\":1,\"plot\":{\"id\":\"29718a67-d64e-4797-837a-c3aa312ab99f\",\"subtype\":\"Figure\",\"type\":\"Plot\"},\"ticker\":{\"id\":\"d273f6b1-190e-4063-aa85-737694b77a53\",\"type\":\"BasicTicker\"}},\"id\":\"9e499fe2-50fb-4443-bdb9-4fb1084390ef\",\"type\":\"Grid\"},{\"attributes\":{},\"id\":\"7adb0c07-9fe3-4b10-93f1-636cf0dfef79\",\"type\":\"UnionRenderers\"},{\"attributes\":{},\"id\":\"bd9a4e96-a0e2-4de1-b833-998014c008a7\",\"type\":\"UnionRenderers\"},{\"attributes\":{},\"id\":\"c437c4ee-2cfd-4a82-8d01-48c09b137509\",\"type\":\"SaveTool\"},{\"attributes\":{\"axis_label\":\"pressure [mb]\",\"formatter\":{\"id\":\"34557400-bb0c-42a1-bb43-3da40c77ebeb\",\"type\":\"BasicTickFormatter\"},\"plot\":{\"id\":\"29718a67-d64e-4797-837a-c3aa312ab99f\",\"subtype\":\"Figure\",\"type\":\"Plot\"},\"ticker\":{\"id\":\"d273f6b1-190e-4063-aa85-737694b77a53\",\"type\":\"BasicTicker\"}},\"id\":\"db2a849d-6a00-4bb0-be2f-ebb7370c355a\",\"type\":\"LinearAxis\"},{\"attributes\":{},\"id\":\"4b9aab6c-b010-4cf4-ba13-10268718b51f\",\"type\":\"UnionRenderers\"},{\"attributes\":{},\"id\":\"8fb949a4-f118-44e5-a745-c06f319a582a\",\"type\":\"ResetTool\"},{\"attributes\":{\"plot\":{\"id\":\"29718a67-d64e-4797-837a-c3aa312ab99f\",\"subtype\":\"Figure\",\"type\":\"Plot\"},\"ticker\":{\"id\":\"28eca585-6f33-402f-b59c-adfa2a9fd81e\",\"type\":\"BasicTicker\"}},\"id\":\"97ad9764-70f0-4cd5-a2cf-3a619de9600a\",\"type\":\"Grid\"},{\"attributes\":{},\"id\":\"22dd2160-006b-43dc-9c66-57562b55a952\",\"type\":\"Selection\"},{\"attributes\":{\"toolbar\":{\"id\":\"f51472f9-6973-4fde-be91-d03427524708\",\"type\":\"ProxyToolbar\"},\"toolbar_location\":\"above\"},\"id\":\"f3ca2caa-2c8e-4aed-bb4d-2f2bbadbd3db\",\"type\":\"ToolbarBox\"},{\"attributes\":{},\"id\":\"8e0a140b-b0de-4d01-8755-50b439070dc7\",\"type\":\"HelpTool\"},{\"attributes\":{},\"id\":\"d273f6b1-190e-4063-aa85-737694b77a53\",\"type\":\"BasicTicker\"},{\"attributes\":{},\"id\":\"5e5b9822-fd8b-4746-ba59-904fe6657bf9\",\"type\":\"Selection\"},{\"attributes\":{},\"id\":\"6ef2cb8f-6096-4586-8b36-33e735768287\",\"type\":\"Selection\"},{\"attributes\":{\"children\":[{\"id\":\"f3ca2caa-2c8e-4aed-bb4d-2f2bbadbd3db\",\"type\":\"ToolbarBox\"},{\"id\":\"1f8a24c6-1874-4d6a-93dc-3d10de089c25\",\"type\":\"Column\"}]},\"id\":\"a1cad20b-6028-414c-a1dc-be44944e2e75\",\"type\":\"Column\"},{\"attributes\":{\"fill_alpha\":{\"value\":0.1},\"fill_color\":{\"value\":\"#1f77b4\"},\"line_alpha\":{\"value\":0.1},\"line_color\":{\"value\":\"#1f77b4\"},\"x\":{\"field\":\"x\"},\"y\":{\"field\":\"y\"}},\"id\":\"d4164970-0d51-4c6a-a7dd-61b6bfbb7c7c\",\"type\":\"Square\"},{\"attributes\":{},\"id\":\"2f1dde89-9d83-4bdc-9b0f-cafc56f82677\",\"type\":\"Selection\"},{\"attributes\":{\"tools\":[{\"id\":\"974927ad-7781-449a-bded-90b8dbbbb9c5\",\"type\":\"PanTool\"},{\"id\":\"a0a518f9-d691-4330-807f-2d63d27835be\",\"type\":\"WheelZoomTool\"},{\"id\":\"dc2866aa-676b-4f27-9388-931a3e6a32bc\",\"type\":\"BoxZoomTool\"},{\"id\":\"c437c4ee-2cfd-4a82-8d01-48c09b137509\",\"type\":\"SaveTool\"},{\"id\":\"8fb949a4-f118-44e5-a745-c06f319a582a\",\"type\":\"ResetTool\"},{\"id\":\"8e0a140b-b0de-4d01-8755-50b439070dc7\",\"type\":\"HelpTool\"},{\"id\":\"f7ab9be9-da9b-4816-bc93-e82e7ffdb86a\",\"type\":\"PanTool\"},{\"id\":\"ea8dbf09-740a-450e-bd42-274d9dcd875f\",\"type\":\"WheelZoomTool\"},{\"id\":\"8a42c96a-87a9-4eb1-9816-9990e6188ff7\",\"type\":\"BoxZoomTool\"},{\"id\":\"37ffb626-5cd0-4bf2-afdd-ad60d04116fe\",\"type\":\"SaveTool\"},{\"id\":\"65f56b03-524c-4234-bb6a-e38035682e47\",\"type\":\"ResetTool\"},{\"id\":\"0f642f28-5dd9-49db-bf2f-d3dd98a42965\",\"type\":\"HelpTool\"}]},\"id\":\"f51472f9-6973-4fde-be91-d03427524708\",\"type\":\"ProxyToolbar\"},{\"attributes\":{},\"id\":\"194a4afc-2065-4f7a-9230-172aae9b2944\",\"type\":\"LinearScale\"},{\"attributes\":{\"axis_label\":\"cooling rate [K/day]\",\"formatter\":{\"id\":\"6398cc31-8eed-46d1-9837-ad103c7efee6\",\"type\":\"BasicTickFormatter\"},\"plot\":{\"id\":\"29718a67-d64e-4797-837a-c3aa312ab99f\",\"subtype\":\"Figure\",\"type\":\"Plot\"},\"ticker\":{\"id\":\"28eca585-6f33-402f-b59c-adfa2a9fd81e\",\"type\":\"BasicTicker\"}},\"id\":\"d10bf9a4-7964-43e7-b6c1-d8cab3b732d2\",\"type\":\"LinearAxis\"},{\"attributes\":{},\"id\":\"28eca585-6f33-402f-b59c-adfa2a9fd81e\",\"type\":\"BasicTicker\"},{\"attributes\":{\"callback\":null,\"data\":{\"x\":{\"__ndarray__\":\"oAB4rmmKkL8cQ20MGxSOvxFC1SKBioe//h3rUK9OgL/N1CZ5btRwv/xnMgH0wBc/VRul1cz2cj9WZ/CQzYmDP/yuEnArZI4/tWbsyrUIlT87Yjmxo0ubP3yJs03q/qA/3xFzG52LpD8mj2qC79CnP6BrOXmMUKo/w+kszKVlrD8/EGrQ4WuuPwNY8QESMbA/ZXYqoToksT8eYdlLoROyP6zXGGcY5rI/9EnVE+lAsT8J04PEboapPwRyONwPxKA/a4Q8ioxxlD+T62kxv22GPzFoIt2oPXQ/qUdpIqvcXT+14f6XRrpLP7ScFGjNezw/RgYC1E9S676YzrpRNgA9v0kAXz1Ycz+/7Jy2jcPhMb/liwnZNsQmv7slovO3GyC/Uur6oPH4GL9Z6IofUQsfv8+zszHTbSS/4gn4ztO0J78n6trVahorv35jOjrPVC+/G3hJI+l+Mr9spP4YgG82v7+9XNGEXzu/v1CKi1UPPb8/JmznWaY5v/diVZLUJjW/DgHV0ACYMb+3iB+QASEtv7pGSgEJjSe/gZtByBonIr+0o5oN3ZEZv7zRrOq4jQ2/uRt7QhFk777I4Z5BmHj7PgkVSengaRE/6wfckTl7Gz8jqwOqBG4iPyH2d6qLsSY/SmQWLZiEKj9aUeY0J/MtPxwvmiW2izA/d17GuusJMj+kwnRSXIYzPwBA7VgTDjU/XY0hstSfNj+MOgkk8RU4PyhwOE4jBTk/jPKxbz3KOD+Lyl+LdAo3P3djOBQCHTQ/UY0SEUmvMD8oz3pJw28qP0lG9r3+tCM/\",\"dtype\":\"float64\",\"shape\":[75]},\"y\":{\"__ndarray__\":\"GhExyth1ND/Sv8nbtpRIP2vylNV0PVE/aTum7souWD/At0SJ8fVgPw3Iuahxymc/MSNhhJWvcD/bTfBN02d3P2zb5nxnaoA/CD5h5MAGhz8NmeH1TyaQP+zrCsc9p5Y/LbKd76fGnz/bLW5ISEmmPww9YvTcQq8/JV2OstnstT8Er5Y7M8G+P0c+r3jqkcU/5h99k6ZBzj88bCIzFzjVP4enV8oyxN0//yH99nXg5D8qOpLLf0jtP5kqGJXUifQ/c9cS8kHP/D+/DpwzojQEQIEmwoanVwxA4lgXt9HgE0BSSZ2AJuIbQAMJih9jjiNA5q4l5INuK0AwTKYKRj0zQNv5fmq8/DpAaCJseHrtQkB/+zpwzoxKQM3MzMzMeFJAZmZmZmZqWEAAAAAAAFxeQM3MzMzMJmJAmpmZmZkfZUBmZmZmZhhoQDMzMzMzEWtAAAAAAAAKbkBmZmZmZoFwQM3MzMzM/XFAMzMzMzN6c0CamZmZmfZ0QAAAAAAAc3ZAZmZmZmbvd0DNzMzMzGt5QDMzMzMz6HpAmpmZmZlkfEAAAAAAAOF9QGZmZmZmXX9AZmZmZuZsgECamZmZGSuBQM3MzMxM6YFAAAAAAICngkAzMzMzs2WDQGZmZmbmI4RAmpmZmRnihEDNzMzMTKCFQAAAAACAXoZAMzMzM7Mch0BmZmZm5tqHQJqZmZkZmYhAzczMzExXiUAAAAAAgBWKQDMzMzOz04pAZmZmZuaRi0CamZmZGVCMQM3MzMxMDo1AAAAAAIDMjUAzMzMzs4qOQGZmZmbmSI9A\",\"dtype\":\"float64\",\"shape\":[75]}},\"selected\":{\"id\":\"8e17c2e5-0811-4370-8584-d72b759f6233\",\"type\":\"Selection\"},\"selection_policy\":{\"id\":\"3f6fd532-9b9a-41d0-bddf-46641e8d1f8a\",\"type\":\"UnionRenderers\"}},\"id\":\"ad6561f7-826b-440a-a205-ef65d5193578\",\"type\":\"ColumnDataSource\"},{\"attributes\":{\"callback\":null,\"end\":0.0004847848919,\"start\":-0.0007465287019},\"id\":\"d5cc5916-5c1e-471f-8bd4-c6bf53023f0c\",\"type\":\"Range1d\"},{\"attributes\":{\"fill_alpha\":{\"value\":0.7},\"fill_color\":{\"value\":\"#984ea3\"},\"line_alpha\":{\"value\":0.7},\"line_color\":{\"value\":\"#984ea3\"},\"x\":{\"field\":\"x\"},\"y\":{\"field\":\"y\"}},\"id\":\"a5a924f9-2306-4c28-82d4-a1337507e7b5\",\"type\":\"Square\"},{\"attributes\":{\"callback\":null,\"data\":{\"x\":{\"__ndarray__\":\"XgrtOjXRSr/dFtqbc+wZP1fjUVMXHGE/ln8mYzmgcT9/o7xWi5Z7Pxiei4WwQYM/6ZnBjOc7iT9EGOuN7cSPP+gOn8oiepM/zj9Itr1Ulz8E9q/k3oebP3TH/W9uEaA/y4Kg2/+Loj+gBVJ2u92kP4j54B8wu6Y/2VE3eKhrqD/diCQDCyOqPw8TuVJi5qs/u7rNle21rT90/b0/npCvP103hK5tn7A/J43brB1srz8UpRAKQmCpP6GhM/RF/qI/yxQQ5rhLmz+XpmuaNYCSP39LhDbO4IY/eZSxNpI4ej9HupWY/fdtP6DQMtxOTF8/BuE4LS1+RD8vf93U8SEvvxOX1r9rYz2/dUNPmUZLMb+BMgtrT2Aiv3i3UXeysRi/UeUNFw1eGr/yASeZA/glvys2ADiKdTC/GubtcVDzNL9SLVklkCU5v8PVuiReaT2/Te1ZZXL9QL/NA0+XiYZDvxoNNydUFka/YhtXtUKeRr+dl9leFFJEv3PSFV2DN0G/mljLODvoPL8ebbo2R+03v3Ra9VTxSzO/zEoYfQfJLb9YaueDv0klv5v1zjCZFBq/aaCfQaImBL/ey5b5J071PtAuqDly8xM/LZfBhRfKID897HeHdAAnPzyCXS+gjCw/lgAXhLS2MD/3QanE1NkyP4xHdtyhvjQ/3N7mHSl4Nj99aDEHPBk4P/mhKa53rjk/MO04GhA1Oz8JCZewroQ8P2cPGAkEMT0/dSllwgWaPD+FChLDHGk6P2vPWb1p+jY/RJIsNcQBMz8wB8sbh/4tPzRE2PmgRSY/\",\"dtype\":\"float64\",\"shape\":[75]},\"y\":{\"__ndarray__\":\"GhExyth1ND/Sv8nbtpRIP2vylNV0PVE/aTum7souWD/At0SJ8fVgPw3Iuahxymc/MSNhhJWvcD/bTfBN02d3P2zb5nxnaoA/CD5h5MAGhz8NmeH1TyaQP+zrCsc9p5Y/LbKd76fGnz/bLW5ISEmmPww9YvTcQq8/JV2OstnstT8Er5Y7M8G+P0c+r3jqkcU/5h99k6ZBzj88bCIzFzjVP4enV8oyxN0//yH99nXg5D8qOpLLf0jtP5kqGJXUifQ/c9cS8kHP/D+/DpwzojQEQIEmwoanVwxA4lgXt9HgE0BSSZ2AJuIbQAMJih9jjiNA5q4l5INuK0AwTKYKRj0zQNv5fmq8/DpAaCJseHrtQkB/+zpwzoxKQM3MzMzMeFJAZmZmZmZqWEAAAAAAAFxeQM3MzMzMJmJAmpmZmZkfZUBmZmZmZhhoQDMzMzMzEWtAAAAAAAAKbkBmZmZmZoFwQM3MzMzM/XFAMzMzMzN6c0CamZmZmfZ0QAAAAAAAc3ZAZmZmZmbvd0DNzMzMzGt5QDMzMzMz6HpAmpmZmZlkfEAAAAAAAOF9QGZmZmZmXX9AZmZmZuZsgECamZmZGSuBQM3MzMxM6YFAAAAAAICngkAzMzMzs2WDQGZmZmbmI4RAmpmZmRnihEDNzMzMTKCFQAAAAACAXoZAMzMzM7Mch0BmZmZm5tqHQJqZmZkZmYhAzczMzExXiUAAAAAAgBWKQDMzMzOz04pAZmZmZuaRi0CamZmZGVCMQM3MzMxMDo1AAAAAAIDMjUAzMzMzs4qOQGZmZmbmSI9A\",\"dtype\":\"float64\",\"shape\":[75]}},\"selected\":{\"id\":\"51fc4d72-a286-4518-a2ee-b05d9bee0aa3\",\"type\":\"Selection\"},\"selection_policy\":{\"id\":\"6147f7d6-00be-4b3f-9ffd-3add0ce50321\",\"type\":\"UnionRenderers\"}},\"id\":\"ac27d207-7973-4d15-8856-66ae2be54556\",\"type\":\"ColumnDataSource\"},{\"attributes\":{\"above\":[{\"id\":\"763f8fde-4eee-4f24-9a49-b0377b1b10db\",\"type\":\"Legend\"}],\"below\":[{\"id\":\"d10bf9a4-7964-43e7-b6c1-d8cab3b732d2\",\"type\":\"LinearAxis\"}],\"left\":[{\"id\":\"db2a849d-6a00-4bb0-be2f-ebb7370c355a\",\"type\":\"LinearAxis\"}],\"plot_height\":500,\"plot_width\":400,\"renderers\":[{\"id\":\"d10bf9a4-7964-43e7-b6c1-d8cab3b732d2\",\"type\":\"LinearAxis\"},{\"id\":\"97ad9764-70f0-4cd5-a2cf-3a619de9600a\",\"type\":\"Grid\"},{\"id\":\"db2a849d-6a00-4bb0-be2f-ebb7370c355a\",\"type\":\"LinearAxis\"},{\"id\":\"9e499fe2-50fb-4443-bdb9-4fb1084390ef\",\"type\":\"Grid\"},{\"id\":\"b17efbcf-796c-425f-89d5-a89a4c91837f\",\"type\":\"BoxAnnotation\"},{\"id\":\"1c3a7d0e-2edc-4beb-b6c8-633e9b56ebca\",\"type\":\"GlyphRenderer\"},{\"id\":\"057c3a87-045f-40e3-b453-53c6702c55fa\",\"type\":\"GlyphRenderer\"},{\"id\":\"7b52c633-7074-4590-93ad-a66224c62871\",\"type\":\"GlyphRenderer\"},{\"id\":\"66a6d525-58e1-4683-a524-00ff79f1cd9a\",\"type\":\"GlyphRenderer\"},{\"id\":\"0d861e41-12b4-450c-aa72-295160bb730b\",\"type\":\"GlyphRenderer\"},{\"id\":\"ee9efb1f-551b-4a0f-9cb0-b770b26683fd\",\"type\":\"GlyphRenderer\"},{\"id\":\"763f8fde-4eee-4f24-9a49-b0377b1b10db\",\"type\":\"Legend\"}],\"title\":{\"id\":\"1d76df3e-35cd-4ac8-8739-c25b3cda84aa\",\"type\":\"Title\"},\"toolbar\":{\"id\":\"79958fae-c7e2-4b74-b2e5-04451752ecc6\",\"type\":\"Toolbar\"},\"toolbar_location\":null,\"x_range\":{\"id\":\"d5cc5916-5c1e-471f-8bd4-c6bf53023f0c\",\"type\":\"Range1d\"},\"x_scale\":{\"id\":\"194a4afc-2065-4f7a-9230-172aae9b2944\",\"type\":\"LinearScale\"},\"y_range\":{\"id\":\"2a707f6f-5184-41bc-b311-c8166d49de34\",\"type\":\"Range1d\"},\"y_scale\":{\"id\":\"9357e1fd-7ab8-4936-9675-49cfae21c05e\",\"type\":\"LinearScale\"}},\"id\":\"29718a67-d64e-4797-837a-c3aa312ab99f\",\"subtype\":\"Figure\",\"type\":\"Plot\"},{\"attributes\":{\"active_drag\":\"auto\",\"active_inspect\":\"auto\",\"active_scroll\":\"auto\",\"active_tap\":\"auto\",\"tools\":[{\"id\":\"974927ad-7781-449a-bded-90b8dbbbb9c5\",\"type\":\"PanTool\"},{\"id\":\"a0a518f9-d691-4330-807f-2d63d27835be\",\"type\":\"WheelZoomTool\"},{\"id\":\"dc2866aa-676b-4f27-9388-931a3e6a32bc\",\"type\":\"BoxZoomTool\"},{\"id\":\"c437c4ee-2cfd-4a82-8d01-48c09b137509\",\"type\":\"SaveTool\"},{\"id\":\"8fb949a4-f118-44e5-a745-c06f319a582a\",\"type\":\"ResetTool\"},{\"id\":\"8e0a140b-b0de-4d01-8755-50b439070dc7\",\"type\":\"HelpTool\"}]},\"id\":\"79958fae-c7e2-4b74-b2e5-04451752ecc6\",\"type\":\"Toolbar\"},{\"attributes\":{\"source\":{\"id\":\"0e53e169-0162-4fd7-95cf-a292d4394e46\",\"type\":\"ColumnDataSource\"}},\"id\":\"beefe860-569c-4e6e-92d0-5552461e94f1\",\"type\":\"CDSView\"},{\"attributes\":{\"fill_alpha\":{\"value\":0.1},\"fill_color\":{\"value\":\"#1f77b4\"},\"line_alpha\":{\"value\":0.1},\"line_color\":{\"value\":\"#1f77b4\"},\"x\":{\"field\":\"x\"},\"y\":{\"field\":\"y\"}},\"id\":\"881fedea-133c-47a5-9499-b21b45e620ef\",\"type\":\"Circle\"},{\"attributes\":{\"source\":{\"id\":\"ad6561f7-826b-440a-a205-ef65d5193578\",\"type\":\"ColumnDataSource\"}},\"id\":\"10226165-0b4c-45fc-af42-954b7045b036\",\"type\":\"CDSView\"},{\"attributes\":{\"callback\":null,\"data\":{\"x\":{\"__ndarray__\":\"oAB4rmmKkL8cQ20MGxSOvxFC1SKBioe//h3rUK9OgL/N1CZ5btRwv/xnMgH0wBc/VRul1cz2cj9WZ/CQzYmDP/yuEnArZI4/tWbsyrUIlT87Yjmxo0ubP3yJs03q/qA/3xFzG52LpD8mj2qC79CnP6BrOXmMUKo/w+kszKVlrD8/EGrQ4WuuPwNY8QESMbA/ZXYqoToksT8eYdlLoROyP6zXGGcY5rI/9EnVE+lAsT8J04PEboapPwRyONwPxKA/a4Q8ioxxlD+T62kxv22GPzFoIt2oPXQ/qUdpIqvcXT+14f6XRrpLP7ScFGjNezw/RgYC1E9S676YzrpRNgA9v0kAXz1Ycz+/7Jy2jcPhMb/liwnZNsQmv7slovO3GyC/Uur6oPH4GL9Z6IofUQsfv8+zszHTbSS/4gn4ztO0J78n6trVahorv35jOjrPVC+/G3hJI+l+Mr9spP4YgG82v7+9XNGEXzu/v1CKi1UPPb8/JmznWaY5v/diVZLUJjW/DgHV0ACYMb+3iB+QASEtv7pGSgEJjSe/gZtByBonIr+0o5oN3ZEZv7zRrOq4jQ2/uRt7QhFk777I4Z5BmHj7PgkVSengaRE/6wfckTl7Gz8jqwOqBG4iPyH2d6qLsSY/SmQWLZiEKj9aUeY0J/MtPxwvmiW2izA/d17GuusJMj+kwnRSXIYzPwBA7VgTDjU/XY0hstSfNj+MOgkk8RU4PyhwOE4jBTk/jPKxbz3KOD+Lyl+LdAo3P3djOBQCHTQ/UY0SEUmvMD8oz3pJw28qP0lG9r3+tCM/\",\"dtype\":\"float64\",\"shape\":[75]},\"y\":{\"__ndarray__\":\"GhExyth1ND/Sv8nbtpRIP2vylNV0PVE/aTum7souWD/At0SJ8fVgPw3Iuahxymc/MSNhhJWvcD/bTfBN02d3P2zb5nxnaoA/CD5h5MAGhz8NmeH1TyaQP+zrCsc9p5Y/LbKd76fGnz/bLW5ISEmmPww9YvTcQq8/JV2OstnstT8Er5Y7M8G+P0c+r3jqkcU/5h99k6ZBzj88bCIzFzjVP4enV8oyxN0//yH99nXg5D8qOpLLf0jtP5kqGJXUifQ/c9cS8kHP/D+/DpwzojQEQIEmwoanVwxA4lgXt9HgE0BSSZ2AJuIbQAMJih9jjiNA5q4l5INuK0AwTKYKRj0zQNv5fmq8/DpAaCJseHrtQkB/+zpwzoxKQM3MzMzMeFJAZmZmZmZqWEAAAAAAAFxeQM3MzMzMJmJAmpmZmZkfZUBmZmZmZhhoQDMzMzMzEWtAAAAAAAAKbkBmZmZmZoFwQM3MzMzM/XFAMzMzMzN6c0CamZmZmfZ0QAAAAAAAc3ZAZmZmZmbvd0DNzMzMzGt5QDMzMzMz6HpAmpmZmZlkfEAAAAAAAOF9QGZmZmZmXX9AZmZmZuZsgECamZmZGSuBQM3MzMxM6YFAAAAAAICngkAzMzMzs2WDQGZmZmbmI4RAmpmZmRnihEDNzMzMTKCFQAAAAACAXoZAMzMzM7Mch0BmZmZm5tqHQJqZmZkZmYhAzczMzExXiUAAAAAAgBWKQDMzMzOz04pAZmZmZuaRi0CamZmZGVCMQM3MzMxMDo1AAAAAAIDMjUAzMzMzs4qOQGZmZmbmSI9A\",\"dtype\":\"float64\",\"shape\":[75]}},\"selected\":{\"id\":\"0defe383-9412-481e-a1b7-5fbc9bd715f2\",\"type\":\"Selection\"},\"selection_policy\":{\"id\":\"21ab575d-81e8-44a0-b8ca-0974ff7d7f3f\",\"type\":\"UnionRenderers\"}},\"id\":\"0e53e169-0162-4fd7-95cf-a292d4394e46\",\"type\":\"ColumnDataSource\"},{\"attributes\":{\"source\":{\"id\":\"2a257dff-452b-4852-af94-ff412e0ec573\",\"type\":\"ColumnDataSource\"}},\"id\":\"f4c0ac0b-927f-4fdc-b5e7-97afc00cb2df\",\"type\":\"CDSView\"},{\"attributes\":{\"line_color\":\"#4daf4a\",\"line_width\":1.5,\"x\":{\"field\":\"x\"},\"y\":{\"field\":\"y\"}},\"id\":\"ec3247b2-f3b8-458e-bc6f-66175704d30c\",\"type\":\"Line\"},{\"attributes\":{\"data_source\":{\"id\":\"ad6561f7-826b-440a-a205-ef65d5193578\",\"type\":\"ColumnDataSource\"},\"glyph\":{\"id\":\"2c579e17-e2e5-43d7-83f5-2cd222054b78\",\"type\":\"Circle\"},\"hover_glyph\":null,\"muted_glyph\":null,\"nonselection_glyph\":{\"id\":\"881fedea-133c-47a5-9499-b21b45e620ef\",\"type\":\"Circle\"},\"selection_glyph\":null,\"view\":{\"id\":\"10226165-0b4c-45fc-af42-954b7045b036\",\"type\":\"CDSView\"}},\"id\":\"1c3a7d0e-2edc-4beb-b6c8-633e9b56ebca\",\"type\":\"GlyphRenderer\"},{\"attributes\":{\"callback\":null,\"end\":0.01,\"start\":1020},\"id\":\"6c63a18d-3e2a-44b7-ba72-d346bd8ec089\",\"type\":\"Range1d\"},{\"attributes\":{\"line_alpha\":0.1,\"line_color\":\"#1f77b4\",\"line_width\":1.5,\"x\":{\"field\":\"x\"},\"y\":{\"field\":\"y\"}},\"id\":\"64736f40-55ba-49a7-b751-ab69808c600d\",\"type\":\"Line\"},{\"attributes\":{\"data_source\":{\"id\":\"0e53e169-0162-4fd7-95cf-a292d4394e46\",\"type\":\"ColumnDataSource\"},\"glyph\":{\"id\":\"ec3247b2-f3b8-458e-bc6f-66175704d30c\",\"type\":\"Line\"},\"hover_glyph\":null,\"muted_glyph\":null,\"nonselection_glyph\":{\"id\":\"64736f40-55ba-49a7-b751-ab69808c600d\",\"type\":\"Line\"},\"selection_glyph\":null,\"view\":{\"id\":\"beefe860-569c-4e6e-92d0-5552461e94f1\",\"type\":\"CDSView\"}},\"id\":\"057c3a87-045f-40e3-b453-53c6702c55fa\",\"type\":\"GlyphRenderer\"},{\"attributes\":{\"callback\":null,\"data\":{\"x\":{\"__ndarray__\":\"XgrtOjXRSr/dFtqbc+wZP1fjUVMXHGE/ln8mYzmgcT9/o7xWi5Z7Pxiei4WwQYM/6ZnBjOc7iT9EGOuN7cSPP+gOn8oiepM/zj9Itr1Ulz8E9q/k3oebP3TH/W9uEaA/y4Kg2/+Loj+gBVJ2u92kP4j54B8wu6Y/2VE3eKhrqD/diCQDCyOqPw8TuVJi5qs/u7rNle21rT90/b0/npCvP103hK5tn7A/J43brB1srz8UpRAKQmCpP6GhM/RF/qI/yxQQ5rhLmz+XpmuaNYCSP39LhDbO4IY/eZSxNpI4ej9HupWY/fdtP6DQMtxOTF8/BuE4LS1+RD8vf93U8SEvvxOX1r9rYz2/dUNPmUZLMb+BMgtrT2Aiv3i3UXeysRi/UeUNFw1eGr/yASeZA/glvys2ADiKdTC/GubtcVDzNL9SLVklkCU5v8PVuiReaT2/Te1ZZXL9QL/NA0+XiYZDvxoNNydUFka/YhtXtUKeRr+dl9leFFJEv3PSFV2DN0G/mljLODvoPL8ebbo2R+03v3Ra9VTxSzO/zEoYfQfJLb9YaueDv0klv5v1zjCZFBq/aaCfQaImBL/ey5b5J071PtAuqDly8xM/LZfBhRfKID897HeHdAAnPzyCXS+gjCw/lgAXhLS2MD/3QanE1NkyP4xHdtyhvjQ/3N7mHSl4Nj99aDEHPBk4P/mhKa53rjk/MO04GhA1Oz8JCZewroQ8P2cPGAkEMT0/dSllwgWaPD+FChLDHGk6P2vPWb1p+jY/RJIsNcQBMz8wB8sbh/4tPzRE2PmgRSY/\",\"dtype\":\"float64\",\"shape\":[75]},\"y\":{\"__ndarray__\":\"GhExyth1ND/Sv8nbtpRIP2vylNV0PVE/aTum7souWD/At0SJ8fVgPw3Iuahxymc/MSNhhJWvcD/bTfBN02d3P2zb5nxnaoA/CD5h5MAGhz8NmeH1TyaQP+zrCsc9p5Y/LbKd76fGnz/bLW5ISEmmPww9YvTcQq8/JV2OstnstT8Er5Y7M8G+P0c+r3jqkcU/5h99k6ZBzj88bCIzFzjVP4enV8oyxN0//yH99nXg5D8qOpLLf0jtP5kqGJXUifQ/c9cS8kHP/D+/DpwzojQEQIEmwoanVwxA4lgXt9HgE0BSSZ2AJuIbQAMJih9jjiNA5q4l5INuK0AwTKYKRj0zQNv5fmq8/DpAaCJseHrtQkB/+zpwzoxKQM3MzMzMeFJAZmZmZmZqWEAAAAAAAFxeQM3MzMzMJmJAmpmZmZkfZUBmZmZmZhhoQDMzMzMzEWtAAAAAAAAKbkBmZmZmZoFwQM3MzMzM/XFAMzMzMzN6c0CamZmZmfZ0QAAAAAAAc3ZAZmZmZmbvd0DNzMzMzGt5QDMzMzMz6HpAmpmZmZlkfEAAAAAAAOF9QGZmZmZmXX9AZmZmZuZsgECamZmZGSuBQM3MzMxM6YFAAAAAAICngkAzMzMzs2WDQGZmZmbmI4RAmpmZmRnihEDNzMzMTKCFQAAAAACAXoZAMzMzM7Mch0BmZmZm5tqHQJqZmZkZmYhAzczMzExXiUAAAAAAgBWKQDMzMzOz04pAZmZmZuaRi0CamZmZGVCMQM3MzMxMDo1AAAAAAIDMjUAzMzMzs4qOQGZmZmbmSI9A\",\"dtype\":\"float64\",\"shape\":[75]}},\"selected\":{\"id\":\"00b468ac-ba92-4ddf-88a7-71f15b00d2a5\",\"type\":\"Selection\"},\"selection_policy\":{\"id\":\"3e5bdc17-d7d9-410f-9653-b8cc999b47f3\",\"type\":\"UnionRenderers\"}},\"id\":\"2a257dff-452b-4852-af94-ff412e0ec573\",\"type\":\"ColumnDataSource\"},{\"attributes\":{\"line_alpha\":0.6,\"line_color\":\"#984ea3\",\"line_width\":3,\"x\":{\"field\":\"x\"},\"y\":{\"field\":\"y\"}},\"id\":\"fd6331d3-f56d-4212-bbcb-a07cc6c8f96b\",\"type\":\"Line\"},{\"attributes\":{\"fill_alpha\":{\"value\":0.1},\"fill_color\":{\"value\":\"#1f77b4\"},\"line_alpha\":{\"value\":0.1},\"line_color\":{\"value\":\"#1f77b4\"},\"x\":{\"field\":\"x\"},\"y\":{\"field\":\"y\"}},\"id\":\"9ca41276-fb25-4558-ae98-da49b1f115d0\",\"type\":\"Triangle\"},{\"attributes\":{\"line_alpha\":0.3,\"line_color\":\"#377eb8\",\"line_width\":2,\"x\":{\"field\":\"x\"},\"y\":{\"field\":\"y\"}},\"id\":\"5dbaf702-4bde-4ce9-be64-6097c82115f5\",\"type\":\"Line\"},{\"attributes\":{\"above\":[{\"id\":\"953cafa8-13b4-4ed9-b6d5-d670d432a1ad\",\"type\":\"Legend\"}],\"below\":[{\"id\":\"4bbb2525-9247-4fb1-9131-55ad09b7e6e8\",\"type\":\"LinearAxis\"}],\"left\":[{\"id\":\"6ba4885c-ead1-4c62-a5f2-ced5d44b2b1d\",\"type\":\"LogAxis\"}],\"plot_height\":500,\"plot_width\":400,\"renderers\":[{\"id\":\"4bbb2525-9247-4fb1-9131-55ad09b7e6e8\",\"type\":\"LinearAxis\"},{\"id\":\"6ead3d26-9014-44ba-b96a-460457cc7b29\",\"type\":\"Grid\"},{\"id\":\"6ba4885c-ead1-4c62-a5f2-ced5d44b2b1d\",\"type\":\"LogAxis\"},{\"id\":\"b3dcfeeb-33cc-4180-bb0c-85978fc7a21a\",\"type\":\"Grid\"},{\"id\":\"27c033c6-7562-4cd5-8e13-443df023f5d1\",\"type\":\"BoxAnnotation\"},{\"id\":\"07c06f86-732f-42d6-b3a5-7aacd06b888f\",\"type\":\"GlyphRenderer\"},{\"id\":\"887fb54c-558f-4086-b0a9-0afb5d0ca26f\",\"type\":\"GlyphRenderer\"},{\"id\":\"036d99e5-ecb2-4084-a693-0eb7331311cc\",\"type\":\"GlyphRenderer\"},{\"id\":\"12b69b7f-fe43-4ac6-a113-1b22ec13ade1\",\"type\":\"GlyphRenderer\"},{\"id\":\"60769b0f-9863-4885-9400-e506f6347470\",\"type\":\"GlyphRenderer\"},{\"id\":\"b17b98c0-97bf-4436-89f7-dd32323dd98d\",\"type\":\"GlyphRenderer\"},{\"id\":\"953cafa8-13b4-4ed9-b6d5-d670d432a1ad\",\"type\":\"Legend\"}],\"title\":{\"id\":\"c98f4cba-68ea-4be1-a188-aaa3df828ff2\",\"type\":\"Title\"},\"toolbar\":{\"id\":\"bba29d63-f95c-4504-b2d0-1605fecb52ba\",\"type\":\"Toolbar\"},\"toolbar_location\":null,\"x_range\":{\"id\":\"0db6f9ad-f5b7-4df8-9e8c-cdfc7d1aaf38\",\"type\":\"Range1d\"},\"x_scale\":{\"id\":\"a37eac3c-458a-44bb-9131-5d94a8a739ca\",\"type\":\"LinearScale\"},\"y_range\":{\"id\":\"6c63a18d-3e2a-44b7-ba72-d346bd8ec089\",\"type\":\"Range1d\"},\"y_scale\":{\"id\":\"dcbb195d-5137-4807-9b01-69a47bcc7bf5\",\"type\":\"LogScale\"}},\"id\":\"6c6b0f5c-ea88-4d27-8f19-063dbdb74640\",\"subtype\":\"Figure\",\"type\":\"Plot\"},{\"attributes\":{\"data_source\":{\"id\":\"ac27d207-7973-4d15-8856-66ae2be54556\",\"type\":\"ColumnDataSource\"},\"glyph\":{\"id\":\"fd6331d3-f56d-4212-bbcb-a07cc6c8f96b\",\"type\":\"Line\"},\"hover_glyph\":null,\"muted_glyph\":null,\"nonselection_glyph\":{\"id\":\"91d6efca-8bcd-420f-a354-fcfb8f0d654b\",\"type\":\"Line\"},\"selection_glyph\":null,\"view\":{\"id\":\"0319e9ff-8178-45fb-b58b-67ba280b5eba\",\"type\":\"CDSView\"}},\"id\":\"66a6d525-58e1-4683-a524-00ff79f1cd9a\",\"type\":\"GlyphRenderer\"},{\"attributes\":{},\"id\":\"011bf3c0-fce9-437a-b444-9984d0eea7e1\",\"type\":\"BasicTickFormatter\"},{\"attributes\":{\"callback\":null,\"end\":0.0745670790986,\"start\":-0.0012804369586},\"id\":\"0db6f9ad-f5b7-4df8-9e8c-cdfc7d1aaf38\",\"type\":\"Range1d\"},{\"attributes\":{\"fill_alpha\":{\"value\":0.7},\"fill_color\":{\"value\":\"#377eb8\"},\"line_alpha\":{\"value\":0.7},\"line_color\":{\"value\":\"#377eb8\"},\"x\":{\"field\":\"x\"},\"y\":{\"field\":\"y\"}},\"id\":\"6f733196-2747-4e9e-aac2-9de4f7b88489\",\"type\":\"Triangle\"},{\"attributes\":{\"source\":{\"id\":\"ac27d207-7973-4d15-8856-66ae2be54556\",\"type\":\"ColumnDataSource\"}},\"id\":\"0319e9ff-8178-45fb-b58b-67ba280b5eba\",\"type\":\"CDSView\"},{\"attributes\":{\"label\":{\"value\":\"CRD\"},\"renderers\":[{\"id\":\"1c3a7d0e-2edc-4beb-b6c8-633e9b56ebca\",\"type\":\"GlyphRenderer\"},{\"id\":\"057c3a87-045f-40e3-b453-53c6702c55fa\",\"type\":\"GlyphRenderer\"}]},\"id\":\"59387d0a-e425-4b6b-9ff3-a56bd75f8a78\",\"type\":\"LegendItem\"},{\"attributes\":{\"callback\":null,\"data\":{\"x\":{\"__ndarray__\":\"+i8xyZEdXj/yli0O9d9lP8R/RE9mVXI/yqHC65OQej/2zkQuOs2BP9Af0iPRwYY/rnEzZXItjD8m+gWGbwuRP0oSUTr7RJQ/UiKRz47Ilz+IJ+6KdpubPxSifkI2w58/ylTLGhggoj+3SArHVEOkP/mwKDYwA6Y/2uc2g+2Xpz9YI7Nh6jqpPyr9pcFE7qo/2Las6+WxrD9epIUIjoSuPxI1mT1FGLA/K0r/Tjeprj/vUo/Z/jqpPwEtaus4YqM/C9A/jNO6nD+cwTUwHzSUPxQ2HbCULYo/6aRSRyKPfz+jerynqoRyPxphDM+ES2M/g+lR5Ru+SD+JDlWUjKcyv+t+oO9Jl0G/gwDn4i8eNL+0S0LO+BsgvyC7V/+yegS/Pnz0zvhKAb9CvAj0/SQbv9729K3U/Sm/6TCrAlNyMr8mzHxTzbY3v42UAMjPHj2/x9rKErpqQb/nsUVsNHZEv4xWtvxaXUe/OP3MZRIRSL8YPDGfwtFFvxi2klt3pEK/BE39HBx1P7+QihzMgyI6v2opKqgSKDW/GUDBVi9oML9pXQbH3KEnv8/SPmCOaR2/mhY2mc8kCL/vLgv2CYvyPl6Cm2i6hBQ/oVKapMOrIT/JMj3Ic3EoP5k7nso1gi4/gl+usNLtMT81v4SiQEc0P2mD9WTIWzY/1r7OILs9OD+WvPDELP45P6tW6Wwgpzs/va+HRNMxPT98ZIsLEXI+P+YRArHP+j4/rpyr2+QwPj/FSL1AKcQ7P8Sl8CCUEjg/Cea9KADRMz/D53YgmQovP/f9Ih7n1SY/\",\"dtype\":\"float64\",\"shape\":[75]},\"y\":{\"__ndarray__\":\"GhExyth1ND/Sv8nbtpRIP2vylNV0PVE/aTum7souWD/At0SJ8fVgPw3Iuahxymc/MSNhhJWvcD/bTfBN02d3P2zb5nxnaoA/CD5h5MAGhz8NmeH1TyaQP+zrCsc9p5Y/LbKd76fGnz/bLW5ISEmmPww9YvTcQq8/JV2OstnstT8Er5Y7M8G+P0c+r3jqkcU/5h99k6ZBzj88bCIzFzjVP4enV8oyxN0//yH99nXg5D8qOpLLf0jtP5kqGJXUifQ/c9cS8kHP/D+/DpwzojQEQIEmwoanVwxA4lgXt9HgE0BSSZ2AJuIbQAMJih9jjiNA5q4l5INuK0AwTKYKRj0zQNv5fmq8/DpAaCJseHrtQkB/+zpwzoxKQM3MzMzMeFJAZmZmZmZqWEAAAAAAAFxeQM3MzMzMJmJAmpmZmZkfZUBmZmZmZhhoQDMzMzMzEWtAAAAAAAAKbkBmZmZmZoFwQM3MzMzM/XFAMzMzMzN6c0CamZmZmfZ0QAAAAAAAc3ZAZmZmZmbvd0DNzMzMzGt5QDMzMzMz6HpAmpmZmZlkfEAAAAAAAOF9QGZmZmZmXX9AZmZmZuZsgECamZmZGSuBQM3MzMxM6YFAAAAAAICngkAzMzMzs2WDQGZmZmbmI4RAmpmZmRnihEDNzMzMTKCFQAAAAACAXoZAMzMzM7Mch0BmZmZm5tqHQJqZmZkZmYhAzczMzExXiUAAAAAAgBWKQDMzMzOz04pAZmZmZuaRi0CamZmZGVCMQM3MzMxMDo1AAAAAAIDMjUAzMzMzs4qOQGZmZmbmSI9A\",\"dtype\":\"float64\",\"shape\":[75]}},\"selected\":{\"id\":\"9a89480b-b548-4bf2-920f-3080deca6368\",\"type\":\"Selection\"},\"selection_policy\":{\"id\":\"1280909e-4581-4240-90ab-527e30582463\",\"type\":\"UnionRenderers\"}},\"id\":\"c1e2bccb-92cf-47b6-85a9-2f34ed56611d\",\"type\":\"ColumnDataSource\"},{\"attributes\":{\"line_alpha\":0.1,\"line_color\":\"#1f77b4\",\"line_width\":2,\"x\":{\"field\":\"x\"},\"y\":{\"field\":\"y\"}},\"id\":\"333c27a2-1563-4baf-9c17-5d03b6b219af\",\"type\":\"Line\"},{\"attributes\":{\"callback\":null,\"data\":{\"x\":{\"__ndarray__\":\"oAB4rmmKkL8cQ20MGxSOvxFC1SKBioe//h3rUK9OgL/N1CZ5btRwv/xnMgH0wBc/VRul1cz2cj9WZ/CQzYmDP/yuEnArZI4/tWbsyrUIlT87Yjmxo0ubP3yJs03q/qA/3xFzG52LpD8mj2qC79CnP6BrOXmMUKo/w+kszKVlrD8/EGrQ4WuuPwNY8QESMbA/ZXYqoToksT8eYdlLoROyP6zXGGcY5rI/9EnVE+lAsT8J04PEboapPwRyONwPxKA/a4Q8ioxxlD+T62kxv22GPzFoIt2oPXQ/qUdpIqvcXT+14f6XRrpLP7ScFGjNezw/RgYC1E9S676YzrpRNgA9v0kAXz1Ycz+/7Jy2jcPhMb/liwnZNsQmv7slovO3GyC/Uur6oPH4GL9Z6IofUQsfv8+zszHTbSS/4gn4ztO0J78n6trVahorv35jOjrPVC+/G3hJI+l+Mr9spP4YgG82v7+9XNGEXzu/v1CKi1UPPb8/JmznWaY5v/diVZLUJjW/DgHV0ACYMb+3iB+QASEtv7pGSgEJjSe/gZtByBonIr+0o5oN3ZEZv7zRrOq4jQ2/uRt7QhFk777I4Z5BmHj7PgkVSengaRE/6wfckTl7Gz8jqwOqBG4iPyH2d6qLsSY/SmQWLZiEKj9aUeY0J/MtPxwvmiW2izA/d17GuusJMj+kwnRSXIYzPwBA7VgTDjU/XY0hstSfNj+MOgkk8RU4PyhwOE4jBTk/jPKxbz3KOD+Lyl+LdAo3P3djOBQCHTQ/UY0SEUmvMD8oz3pJw28qP0lG9r3+tCM/\",\"dtype\":\"float64\",\"shape\":[75]},\"y\":{\"__ndarray__\":\"GhExyth1ND/Sv8nbtpRIP2vylNV0PVE/aTum7souWD/At0SJ8fVgPw3Iuahxymc/MSNhhJWvcD/bTfBN02d3P2zb5nxnaoA/CD5h5MAGhz8NmeH1TyaQP+zrCsc9p5Y/LbKd76fGnz/bLW5ISEmmPww9YvTcQq8/JV2OstnstT8Er5Y7M8G+P0c+r3jqkcU/5h99k6ZBzj88bCIzFzjVP4enV8oyxN0//yH99nXg5D8qOpLLf0jtP5kqGJXUifQ/c9cS8kHP/D+/DpwzojQEQIEmwoanVwxA4lgXt9HgE0BSSZ2AJuIbQAMJih9jjiNA5q4l5INuK0AwTKYKRj0zQNv5fmq8/DpAaCJseHrtQkB/+zpwzoxKQM3MzMzMeFJAZmZmZmZqWEAAAAAAAFxeQM3MzMzMJmJAmpmZmZkfZUBmZmZmZhhoQDMzMzMzEWtAAAAAAAAKbkBmZmZmZoFwQM3MzMzM/XFAMzMzMzN6c0CamZmZmfZ0QAAAAAAAc3ZAZmZmZmbvd0DNzMzMzGt5QDMzMzMz6HpAmpmZmZlkfEAAAAAAAOF9QGZmZmZmXX9AZmZmZuZsgECamZmZGSuBQM3MzMxM6YFAAAAAAICngkAzMzMzs2WDQGZmZmbmI4RAmpmZmRnihEDNzMzMTKCFQAAAAACAXoZAMzMzM7Mch0BmZmZm5tqHQJqZmZkZmYhAzczMzExXiUAAAAAAgBWKQDMzMzOz04pAZmZmZuaRi0CamZmZGVCMQM3MzMxMDo1AAAAAAIDMjUAzMzMzs4qOQGZmZmbmSI9A\",\"dtype\":\"float64\",\"shape\":[75]}},\"selected\":{\"id\":\"5dd29a9c-1ea0-4b97-b5b6-8b91cc7a2390\",\"type\":\"Selection\"},\"selection_policy\":{\"id\":\"a78305cb-6bb4-4af8-a6da-31f59ccb2273\",\"type\":\"UnionRenderers\"}},\"id\":\"76124662-1972-4061-a7f6-889793c60117\",\"type\":\"ColumnDataSource\"},{\"attributes\":{\"label\":{\"value\":\"WGT igg=1\"},\"renderers\":[{\"id\":\"7b52c633-7074-4590-93ad-a66224c62871\",\"type\":\"GlyphRenderer\"},{\"id\":\"66a6d525-58e1-4683-a524-00ff79f1cd9a\",\"type\":\"GlyphRenderer\"}]},\"id\":\"15673cb2-f83d-4a9d-a349-54ed287600b7\",\"type\":\"LegendItem\"},{\"attributes\":{\"data_source\":{\"id\":\"a6038f61-bd93-4e34-9575-d6a16b2bb332\",\"type\":\"ColumnDataSource\"},\"glyph\":{\"id\":\"6f733196-2747-4e9e-aac2-9de4f7b88489\",\"type\":\"Triangle\"},\"hover_glyph\":null,\"muted_glyph\":null,\"nonselection_glyph\":{\"id\":\"9ca41276-fb25-4558-ae98-da49b1f115d0\",\"type\":\"Triangle\"},\"selection_glyph\":null,\"view\":{\"id\":\"f4984e15-482e-4867-af29-2483a35be6bd\",\"type\":\"CDSView\"}},\"id\":\"0d861e41-12b4-450c-aa72-295160bb730b\",\"type\":\"GlyphRenderer\"},{\"attributes\":{\"line_alpha\":0.1,\"line_color\":\"#1f77b4\",\"line_width\":3,\"x\":{\"field\":\"x\"},\"y\":{\"field\":\"y\"}},\"id\":\"91d6efca-8bcd-420f-a354-fcfb8f0d654b\",\"type\":\"Line\"},{\"attributes\":{},\"id\":\"dcbb195d-5137-4807-9b01-69a47bcc7bf5\",\"type\":\"LogScale\"},{\"attributes\":{\"callback\":null,\"data\":{\"x\":{\"__ndarray__\":\"+i8xyZEdXj/yli0O9d9lP8R/RE9mVXI/yqHC65OQej/2zkQuOs2BP9Af0iPRwYY/rnEzZXItjD8m+gWGbwuRP0oSUTr7RJQ/UiKRz47Ilz+IJ+6KdpubPxSifkI2w58/ylTLGhggoj+3SArHVEOkP/mwKDYwA6Y/2uc2g+2Xpz9YI7Nh6jqpPyr9pcFE7qo/2Las6+WxrD9epIUIjoSuPxI1mT1FGLA/K0r/Tjeprj/vUo/Z/jqpPwEtaus4YqM/C9A/jNO6nD+cwTUwHzSUPxQ2HbCULYo/6aRSRyKPfz+jerynqoRyPxphDM+ES2M/g+lR5Ru+SD+JDlWUjKcyv+t+oO9Jl0G/gwDn4i8eNL+0S0LO+BsgvyC7V/+yegS/Pnz0zvhKAb9CvAj0/SQbv9729K3U/Sm/6TCrAlNyMr8mzHxTzbY3v42UAMjPHj2/x9rKErpqQb/nsUVsNHZEv4xWtvxaXUe/OP3MZRIRSL8YPDGfwtFFvxi2klt3pEK/BE39HBx1P7+QihzMgyI6v2opKqgSKDW/GUDBVi9oML9pXQbH3KEnv8/SPmCOaR2/mhY2mc8kCL/vLgv2CYvyPl6Cm2i6hBQ/oVKapMOrIT/JMj3Ic3EoP5k7nso1gi4/gl+usNLtMT81v4SiQEc0P2mD9WTIWzY/1r7OILs9OD+WvPDELP45P6tW6Wwgpzs/va+HRNMxPT98ZIsLEXI+P+YRArHP+j4/rpyr2+QwPj/FSL1AKcQ7P8Sl8CCUEjg/Cea9KADRMz/D53YgmQovP/f9Ih7n1SY/\",\"dtype\":\"float64\",\"shape\":[75]},\"y\":{\"__ndarray__\":\"GhExyth1ND/Sv8nbtpRIP2vylNV0PVE/aTum7souWD/At0SJ8fVgPw3Iuahxymc/MSNhhJWvcD/bTfBN02d3P2zb5nxnaoA/CD5h5MAGhz8NmeH1TyaQP+zrCsc9p5Y/LbKd76fGnz/bLW5ISEmmPww9YvTcQq8/JV2OstnstT8Er5Y7M8G+P0c+r3jqkcU/5h99k6ZBzj88bCIzFzjVP4enV8oyxN0//yH99nXg5D8qOpLLf0jtP5kqGJXUifQ/c9cS8kHP/D+/DpwzojQEQIEmwoanVwxA4lgXt9HgE0BSSZ2AJuIbQAMJih9jjiNA5q4l5INuK0AwTKYKRj0zQNv5fmq8/DpAaCJseHrtQkB/+zpwzoxKQM3MzMzMeFJAZmZmZmZqWEAAAAAAAFxeQM3MzMzMJmJAmpmZmZkfZUBmZmZmZhhoQDMzMzMzEWtAAAAAAAAKbkBmZmZmZoFwQM3MzMzM/XFAMzMzMzN6c0CamZmZmfZ0QAAAAAAAc3ZAZmZmZmbvd0DNzMzMzGt5QDMzMzMz6HpAmpmZmZlkfEAAAAAAAOF9QGZmZmZmXX9AZmZmZuZsgECamZmZGSuBQM3MzMxM6YFAAAAAAICngkAzMzMzs2WDQGZmZmbmI4RAmpmZmRnihEDNzMzMTKCFQAAAAACAXoZAMzMzM7Mch0BmZmZm5tqHQJqZmZkZmYhAzczMzExXiUAAAAAAgBWKQDMzMzOz04pAZmZmZuaRi0CamZmZGVCMQM3MzMxMDo1AAAAAAIDMjUAzMzMzs4qOQGZmZmbmSI9A\",\"dtype\":\"float64\",\"shape\":[75]}},\"selected\":{\"id\":\"54448fc9-38b4-4098-bcee-4c85321c5f56\",\"type\":\"Selection\"},\"selection_policy\":{\"id\":\"a4634305-f9c3-4bd5-9f88-2dee99f217c0\",\"type\":\"UnionRenderers\"}},\"id\":\"a6038f61-bd93-4e34-9575-d6a16b2bb332\",\"type\":\"ColumnDataSource\"},{\"attributes\":{\"source\":{\"id\":\"c1e2bccb-92cf-47b6-85a9-2f34ed56611d\",\"type\":\"ColumnDataSource\"}},\"id\":\"577b3d6f-f0c1-4297-8e28-47a465b1f998\",\"type\":\"CDSView\"},{\"attributes\":{\"data_source\":{\"id\":\"c1e2bccb-92cf-47b6-85a9-2f34ed56611d\",\"type\":\"ColumnDataSource\"},\"glyph\":{\"id\":\"5dbaf702-4bde-4ce9-be64-6097c82115f5\",\"type\":\"Line\"},\"hover_glyph\":null,\"muted_glyph\":null,\"nonselection_glyph\":{\"id\":\"333c27a2-1563-4baf-9c17-5d03b6b219af\",\"type\":\"Line\"},\"selection_glyph\":null,\"view\":{\"id\":\"577b3d6f-f0c1-4297-8e28-47a465b1f998\",\"type\":\"CDSView\"}},\"id\":\"ee9efb1f-551b-4a0f-9cb0-b770b26683fd\",\"type\":\"GlyphRenderer\"},{\"attributes\":{\"source\":{\"id\":\"a6038f61-bd93-4e34-9575-d6a16b2bb332\",\"type\":\"ColumnDataSource\"}},\"id\":\"f4984e15-482e-4867-af29-2483a35be6bd\",\"type\":\"CDSView\"},{\"attributes\":{\"label\":{\"value\":\"WGT igg=10\"},\"renderers\":[{\"id\":\"0d861e41-12b4-450c-aa72-295160bb730b\",\"type\":\"GlyphRenderer\"},{\"id\":\"ee9efb1f-551b-4a0f-9cb0-b770b26683fd\",\"type\":\"GlyphRenderer\"}]},\"id\":\"d64230ce-e7b4-41aa-a6e0-3596f0b1fd83\",\"type\":\"LegendItem\"},{\"attributes\":{\"active_drag\":\"auto\",\"active_inspect\":\"auto\",\"active_scroll\":\"auto\",\"active_tap\":\"auto\",\"tools\":[{\"id\":\"f7ab9be9-da9b-4816-bc93-e82e7ffdb86a\",\"type\":\"PanTool\"},{\"id\":\"ea8dbf09-740a-450e-bd42-274d9dcd875f\",\"type\":\"WheelZoomTool\"},{\"id\":\"8a42c96a-87a9-4eb1-9816-9990e6188ff7\",\"type\":\"BoxZoomTool\"},{\"id\":\"37ffb626-5cd0-4bf2-afdd-ad60d04116fe\",\"type\":\"SaveTool\"},{\"id\":\"65f56b03-524c-4234-bb6a-e38035682e47\",\"type\":\"ResetTool\"},{\"id\":\"0f642f28-5dd9-49db-bf2f-d3dd98a42965\",\"type\":\"HelpTool\"}]},\"id\":\"bba29d63-f95c-4504-b2d0-1605fecb52ba\",\"type\":\"Toolbar\"},{\"attributes\":{\"items\":[{\"id\":\"7605824f-e220-42cc-b6d7-1976323bc241\",\"type\":\"LegendItem\"},{\"id\":\"dc7c259b-989e-49bb-bd7c-c6e863bd1140\",\"type\":\"LegendItem\"},{\"id\":\"bb1d57a7-35b3-4ea9-8d88-65ef6708ceb0\",\"type\":\"LegendItem\"}],\"label_text_font_size\":{\"value\":\"8pt\"},\"location\":\"top_center\",\"orientation\":\"horizontal\",\"plot\":{\"id\":\"6c6b0f5c-ea88-4d27-8f19-063dbdb74640\",\"subtype\":\"Figure\",\"type\":\"Plot\"}},\"id\":\"953cafa8-13b4-4ed9-b6d5-d670d432a1ad\",\"type\":\"Legend\"},{\"attributes\":{},\"id\":\"a37eac3c-458a-44bb-9131-5d94a8a739ca\",\"type\":\"LinearScale\"},{\"attributes\":{\"plot\":{\"id\":\"6c6b0f5c-ea88-4d27-8f19-063dbdb74640\",\"subtype\":\"Figure\",\"type\":\"Plot\"},\"ticker\":{\"id\":\"87c2fd21-822d-49b7-ad71-ff06ce4ab138\",\"type\":\"BasicTicker\"}},\"id\":\"6ead3d26-9014-44ba-b96a-460457cc7b29\",\"type\":\"Grid\"},{\"attributes\":{\"axis_label\":\"cooling rate [K/day]\",\"formatter\":{\"id\":\"011bf3c0-fce9-437a-b444-9984d0eea7e1\",\"type\":\"BasicTickFormatter\"},\"plot\":{\"id\":\"6c6b0f5c-ea88-4d27-8f19-063dbdb74640\",\"subtype\":\"Figure\",\"type\":\"Plot\"},\"ticker\":{\"id\":\"87c2fd21-822d-49b7-ad71-ff06ce4ab138\",\"type\":\"BasicTicker\"}},\"id\":\"4bbb2525-9247-4fb1-9131-55ad09b7e6e8\",\"type\":\"LinearAxis\"},{\"attributes\":{},\"id\":\"87c2fd21-822d-49b7-ad71-ff06ce4ab138\",\"type\":\"BasicTicker\"},{\"attributes\":{\"axis_label\":\"pressure [mb]\",\"formatter\":{\"id\":\"3a79e329-de46-4746-8c79-483acfd49d7f\",\"type\":\"LogTickFormatter\"},\"plot\":{\"id\":\"6c6b0f5c-ea88-4d27-8f19-063dbdb74640\",\"subtype\":\"Figure\",\"type\":\"Plot\"},\"ticker\":{\"id\":\"7adaf127-b281-4738-abb8-1fc0ec997695\",\"type\":\"LogTicker\"}},\"id\":\"6ba4885c-ead1-4c62-a5f2-ced5d44b2b1d\",\"type\":\"LogAxis\"},{\"attributes\":{\"num_minor_ticks\":10},\"id\":\"7adaf127-b281-4738-abb8-1fc0ec997695\",\"type\":\"LogTicker\"},{\"attributes\":{\"dimension\":1,\"plot\":{\"id\":\"6c6b0f5c-ea88-4d27-8f19-063dbdb74640\",\"subtype\":\"Figure\",\"type\":\"Plot\"},\"ticker\":{\"id\":\"7adaf127-b281-4738-abb8-1fc0ec997695\",\"type\":\"LogTicker\"}},\"id\":\"b3dcfeeb-33cc-4180-bb0c-85978fc7a21a\",\"type\":\"Grid\"},{\"attributes\":{\"bottom_units\":\"screen\",\"fill_alpha\":{\"value\":0.5},\"fill_color\":{\"value\":\"lightgrey\"},\"left_units\":\"screen\",\"level\":\"overlay\",\"line_alpha\":{\"value\":1.0},\"line_color\":{\"value\":\"black\"},\"line_dash\":[4,4],\"line_width\":{\"value\":2},\"plot\":null,\"render_mode\":\"css\",\"right_units\":\"screen\",\"top_units\":\"screen\"},\"id\":\"27c033c6-7562-4cd5-8e13-443df023f5d1\",\"type\":\"BoxAnnotation\"},{\"attributes\":{},\"id\":\"f7ab9be9-da9b-4816-bc93-e82e7ffdb86a\",\"type\":\"PanTool\"},{\"attributes\":{},\"id\":\"ea8dbf09-740a-450e-bd42-274d9dcd875f\",\"type\":\"WheelZoomTool\"},{\"attributes\":{\"overlay\":{\"id\":\"27c033c6-7562-4cd5-8e13-443df023f5d1\",\"type\":\"BoxAnnotation\"}},\"id\":\"8a42c96a-87a9-4eb1-9816-9990e6188ff7\",\"type\":\"BoxZoomTool\"},{\"attributes\":{},\"id\":\"37ffb626-5cd0-4bf2-afdd-ad60d04116fe\",\"type\":\"SaveTool\"},{\"attributes\":{},\"id\":\"65f56b03-524c-4234-bb6a-e38035682e47\",\"type\":\"ResetTool\"},{\"attributes\":{},\"id\":\"0f642f28-5dd9-49db-bf2f-d3dd98a42965\",\"type\":\"HelpTool\"},{\"attributes\":{},\"id\":\"8e17c2e5-0811-4370-8584-d72b759f6233\",\"type\":\"Selection\"},{\"attributes\":{\"fill_alpha\":{\"value\":0.7},\"fill_color\":{\"value\":\"#4daf4a\"},\"line_alpha\":{\"value\":0.7},\"line_color\":{\"value\":\"#4daf4a\"},\"x\":{\"field\":\"x\"},\"y\":{\"field\":\"y\"}},\"id\":\"43aaeacf-08fd-4163-bd24-b4a87ec1e14a\",\"type\":\"Circle\"},{\"attributes\":{\"plot\":null,\"text\":\"\"},\"id\":\"c98f4cba-68ea-4be1-a188-aaa3df828ff2\",\"type\":\"Title\"},{\"attributes\":{\"source\":{\"id\":\"76124662-1972-4061-a7f6-889793c60117\",\"type\":\"ColumnDataSource\"}},\"id\":\"d3480233-72c6-4f89-975a-a75bdf7a8cd1\",\"type\":\"CDSView\"},{\"attributes\":{\"line_color\":\"#4daf4a\",\"line_width\":1.5,\"x\":{\"field\":\"x\"},\"y\":{\"field\":\"y\"}},\"id\":\"bbe26576-004c-4c3e-920b-8292bd0dbb24\",\"type\":\"Line\"},{\"attributes\":{\"fill_alpha\":{\"value\":0.1},\"fill_color\":{\"value\":\"#1f77b4\"},\"line_alpha\":{\"value\":0.1},\"line_color\":{\"value\":\"#1f77b4\"},\"x\":{\"field\":\"x\"},\"y\":{\"field\":\"y\"}},\"id\":\"dc461f28-2953-454c-b4b5-7f38cdeb1316\",\"type\":\"Square\"},{\"attributes\":{\"line_alpha\":0.1,\"line_color\":\"#1f77b4\",\"line_width\":1.5,\"x\":{\"field\":\"x\"},\"y\":{\"field\":\"y\"}},\"id\":\"7f1964b7-7873-4cfd-883c-c9e3379ecf91\",\"type\":\"Line\"},{\"attributes\":{\"callback\":null,\"data\":{\"x\":{\"__ndarray__\":\"XgrtOjXRSr/dFtqbc+wZP1fjUVMXHGE/ln8mYzmgcT9/o7xWi5Z7Pxiei4WwQYM/6ZnBjOc7iT9EGOuN7cSPP+gOn8oiepM/zj9Itr1Ulz8E9q/k3oebP3TH/W9uEaA/y4Kg2/+Loj+gBVJ2u92kP4j54B8wu6Y/2VE3eKhrqD/diCQDCyOqPw8TuVJi5qs/u7rNle21rT90/b0/npCvP103hK5tn7A/J43brB1srz8UpRAKQmCpP6GhM/RF/qI/yxQQ5rhLmz+XpmuaNYCSP39LhDbO4IY/eZSxNpI4ej9HupWY/fdtP6DQMtxOTF8/BuE4LS1+RD8vf93U8SEvvxOX1r9rYz2/dUNPmUZLMb+BMgtrT2Aiv3i3UXeysRi/UeUNFw1eGr/yASeZA/glvys2ADiKdTC/GubtcVDzNL9SLVklkCU5v8PVuiReaT2/Te1ZZXL9QL/NA0+XiYZDvxoNNydUFka/YhtXtUKeRr+dl9leFFJEv3PSFV2DN0G/mljLODvoPL8ebbo2R+03v3Ra9VTxSzO/zEoYfQfJLb9YaueDv0klv5v1zjCZFBq/aaCfQaImBL/ey5b5J071PtAuqDly8xM/LZfBhRfKID897HeHdAAnPzyCXS+gjCw/lgAXhLS2MD/3QanE1NkyP4xHdtyhvjQ/3N7mHSl4Nj99aDEHPBk4P/mhKa53rjk/MO04GhA1Oz8JCZewroQ8P2cPGAkEMT0/dSllwgWaPD+FChLDHGk6P2vPWb1p+jY/RJIsNcQBMz8wB8sbh/4tPzRE2PmgRSY/\",\"dtype\":\"float64\",\"shape\":[75]},\"y\":{\"__ndarray__\":\"GhExyth1ND/Sv8nbtpRIP2vylNV0PVE/aTum7souWD/At0SJ8fVgPw3Iuahxymc/MSNhhJWvcD/bTfBN02d3P2zb5nxnaoA/CD5h5MAGhz8NmeH1TyaQP+zrCsc9p5Y/LbKd76fGnz/bLW5ISEmmPww9YvTcQq8/JV2OstnstT8Er5Y7M8G+P0c+r3jqkcU/5h99k6ZBzj88bCIzFzjVP4enV8oyxN0//yH99nXg5D8qOpLLf0jtP5kqGJXUifQ/c9cS8kHP/D+/DpwzojQEQIEmwoanVwxA4lgXt9HgE0BSSZ2AJuIbQAMJih9jjiNA5q4l5INuK0AwTKYKRj0zQNv5fmq8/DpAaCJseHrtQkB/+zpwzoxKQM3MzMzMeFJAZmZmZmZqWEAAAAAAAFxeQM3MzMzMJmJAmpmZmZkfZUBmZmZmZhhoQDMzMzMzEWtAAAAAAAAKbkBmZmZmZoFwQM3MzMzM/XFAMzMzMzN6c0CamZmZmfZ0QAAAAAAAc3ZAZmZmZmbvd0DNzMzMzGt5QDMzMzMz6HpAmpmZmZlkfEAAAAAAAOF9QGZmZmZmXX9AZmZmZuZsgECamZmZGSuBQM3MzMxM6YFAAAAAAICngkAzMzMzs2WDQGZmZmbmI4RAmpmZmRnihEDNzMzMTKCFQAAAAACAXoZAMzMzM7Mch0BmZmZm5tqHQJqZmZkZmYhAzczMzExXiUAAAAAAgBWKQDMzMzOz04pAZmZmZuaRi0CamZmZGVCMQM3MzMxMDo1AAAAAAIDMjUAzMzMzs4qOQGZmZmbmSI9A\",\"dtype\":\"float64\",\"shape\":[75]}},\"selected\":{\"id\":\"22dd2160-006b-43dc-9c66-57562b55a952\",\"type\":\"Selection\"},\"selection_policy\":{\"id\":\"bd9a4e96-a0e2-4de1-b833-998014c008a7\",\"type\":\"UnionRenderers\"}},\"id\":\"95572ced-cef4-4c82-8a03-f15080e860f6\",\"type\":\"ColumnDataSource\"},{\"attributes\":{\"data_source\":{\"id\":\"717f9fa9-57a0-4130-894b-65fbd1877121\",\"type\":\"ColumnDataSource\"},\"glyph\":{\"id\":\"bbe26576-004c-4c3e-920b-8292bd0dbb24\",\"type\":\"Line\"},\"hover_glyph\":null,\"muted_glyph\":null,\"nonselection_glyph\":{\"id\":\"7f1964b7-7873-4cfd-883c-c9e3379ecf91\",\"type\":\"Line\"},\"selection_glyph\":null,\"view\":{\"id\":\"9f90a816-5542-4d9c-a96c-4134c593c1e1\",\"type\":\"CDSView\"}},\"id\":\"887fb54c-558f-4086-b0a9-0afb5d0ca26f\",\"type\":\"GlyphRenderer\"},{\"attributes\":{},\"id\":\"6398cc31-8eed-46d1-9837-ad103c7efee6\",\"type\":\"BasicTickFormatter\"},{\"attributes\":{\"line_alpha\":0.6,\"line_color\":\"#984ea3\",\"line_width\":3,\"x\":{\"field\":\"x\"},\"y\":{\"field\":\"y\"}},\"id\":\"7ecf4b46-d0c1-4f43-b84c-ae610e03a501\",\"type\":\"Line\"},{\"attributes\":{\"source\":{\"id\":\"95572ced-cef4-4c82-8a03-f15080e860f6\",\"type\":\"ColumnDataSource\"}},\"id\":\"04ca6729-7447-43e8-8de3-4793b1f7a062\",\"type\":\"CDSView\"},{\"attributes\":{\"data_source\":{\"id\":\"76124662-1972-4061-a7f6-889793c60117\",\"type\":\"ColumnDataSource\"},\"glyph\":{\"id\":\"43aaeacf-08fd-4163-bd24-b4a87ec1e14a\",\"type\":\"Circle\"},\"hover_glyph\":null,\"muted_glyph\":null,\"nonselection_glyph\":{\"id\":\"d549e9c3-ced7-4c2d-947b-0808593a1a78\",\"type\":\"Circle\"},\"selection_glyph\":null,\"view\":{\"id\":\"d3480233-72c6-4f89-975a-a75bdf7a8cd1\",\"type\":\"CDSView\"}},\"id\":\"07c06f86-732f-42d6-b3a5-7aacd06b888f\",\"type\":\"GlyphRenderer\"},{\"attributes\":{},\"id\":\"1280909e-4581-4240-90ab-527e30582463\",\"type\":\"UnionRenderers\"},{\"attributes\":{\"source\":{\"id\":\"717f9fa9-57a0-4130-894b-65fbd1877121\",\"type\":\"ColumnDataSource\"}},\"id\":\"9f90a816-5542-4d9c-a96c-4134c593c1e1\",\"type\":\"CDSView\"},{\"attributes\":{\"data_source\":{\"id\":\"0dcafbb8-0d05-4397-a23f-09fa9c71392e\",\"type\":\"ColumnDataSource\"},\"glyph\":{\"id\":\"f0f5e798-23a3-4d54-999f-17cdf30d461b\",\"type\":\"Triangle\"},\"hover_glyph\":null,\"muted_glyph\":null,\"nonselection_glyph\":{\"id\":\"1aadf890-2222-4e80-9f32-8a554d30e82c\",\"type\":\"Triangle\"},\"selection_glyph\":null,\"view\":{\"id\":\"88a63977-48b6-4145-aaac-1c622cd4f9b0\",\"type\":\"CDSView\"}},\"id\":\"60769b0f-9863-4885-9400-e506f6347470\",\"type\":\"GlyphRenderer\"},{\"attributes\":{\"data_source\":{\"id\":\"95572ced-cef4-4c82-8a03-f15080e860f6\",\"type\":\"ColumnDataSource\"},\"glyph\":{\"id\":\"8916ea31-e16f-4e4b-8ef0-ab4697a2d86d\",\"type\":\"Square\"},\"hover_glyph\":null,\"muted_glyph\":null,\"nonselection_glyph\":{\"id\":\"dc461f28-2953-454c-b4b5-7f38cdeb1316\",\"type\":\"Square\"},\"selection_glyph\":null,\"view\":{\"id\":\"04ca6729-7447-43e8-8de3-4793b1f7a062\",\"type\":\"CDSView\"}},\"id\":\"036d99e5-ecb2-4084-a693-0eb7331311cc\",\"type\":\"GlyphRenderer\"},{\"attributes\":{\"data_source\":{\"id\":\"cc5573b8-67f6-4b69-af41-1a2ebb99dbff\",\"type\":\"ColumnDataSource\"},\"glyph\":{\"id\":\"7ecf4b46-d0c1-4f43-b84c-ae610e03a501\",\"type\":\"Line\"},\"hover_glyph\":null,\"muted_glyph\":null,\"nonselection_glyph\":{\"id\":\"b5f81d0c-dce3-456a-aeab-ba91eb03563a\",\"type\":\"Line\"},\"selection_glyph\":null,\"view\":{\"id\":\"18583a1c-d715-48e4-8844-8273cf8fcee1\",\"type\":\"CDSView\"}},\"id\":\"12b69b7f-fe43-4ac6-a113-1b22ec13ade1\",\"type\":\"GlyphRenderer\"},{\"attributes\":{\"data_source\":{\"id\":\"7a42614b-bed5-4991-a001-b789e38a107b\",\"type\":\"ColumnDataSource\"},\"glyph\":{\"id\":\"3bf7d004-fdb8-40a5-b1d0-2da89e4eb90d\",\"type\":\"Line\"},\"hover_glyph\":null,\"muted_glyph\":null,\"nonselection_glyph\":{\"id\":\"ff3cdfb9-d3c2-4108-92e5-16b88a445d42\",\"type\":\"Line\"},\"selection_glyph\":null,\"view\":{\"id\":\"ae634245-7a4e-425c-85fb-5f960d6e2198\",\"type\":\"CDSView\"}},\"id\":\"b17b98c0-97bf-4436-89f7-dd32323dd98d\",\"type\":\"GlyphRenderer\"},{\"attributes\":{\"fill_alpha\":{\"value\":0.1},\"fill_color\":{\"value\":\"#1f77b4\"},\"line_alpha\":{\"value\":0.1},\"line_color\":{\"value\":\"#1f77b4\"},\"x\":{\"field\":\"x\"},\"y\":{\"field\":\"y\"}},\"id\":\"1aadf890-2222-4e80-9f32-8a554d30e82c\",\"type\":\"Triangle\"},{\"attributes\":{\"callback\":null,\"data\":{\"x\":{\"__ndarray__\":\"+i8xyZEdXj/yli0O9d9lP8R/RE9mVXI/yqHC65OQej/2zkQuOs2BP9Af0iPRwYY/rnEzZXItjD8m+gWGbwuRP0oSUTr7RJQ/UiKRz47Ilz+IJ+6KdpubPxSifkI2w58/ylTLGhggoj+3SArHVEOkP/mwKDYwA6Y/2uc2g+2Xpz9YI7Nh6jqpPyr9pcFE7qo/2Las6+WxrD9epIUIjoSuPxI1mT1FGLA/K0r/Tjeprj/vUo/Z/jqpPwEtaus4YqM/C9A/jNO6nD+cwTUwHzSUPxQ2HbCULYo/6aRSRyKPfz+jerynqoRyPxphDM+ES2M/g+lR5Ru+SD+JDlWUjKcyv+t+oO9Jl0G/gwDn4i8eNL+0S0LO+BsgvyC7V/+yegS/Pnz0zvhKAb9CvAj0/SQbv9729K3U/Sm/6TCrAlNyMr8mzHxTzbY3v42UAMjPHj2/x9rKErpqQb/nsUVsNHZEv4xWtvxaXUe/OP3MZRIRSL8YPDGfwtFFvxi2klt3pEK/BE39HBx1P7+QihzMgyI6v2opKqgSKDW/GUDBVi9oML9pXQbH3KEnv8/SPmCOaR2/mhY2mc8kCL/vLgv2CYvyPl6Cm2i6hBQ/oVKapMOrIT/JMj3Ic3EoP5k7nso1gi4/gl+usNLtMT81v4SiQEc0P2mD9WTIWzY/1r7OILs9OD+WvPDELP45P6tW6Wwgpzs/va+HRNMxPT98ZIsLEXI+P+YRArHP+j4/rpyr2+QwPj/FSL1AKcQ7P8Sl8CCUEjg/Cea9KADRMz/D53YgmQovP/f9Ih7n1SY/\",\"dtype\":\"float64\",\"shape\":[75]},\"y\":{\"__ndarray__\":\"GhExyth1ND/Sv8nbtpRIP2vylNV0PVE/aTum7souWD/At0SJ8fVgPw3Iuahxymc/MSNhhJWvcD/bTfBN02d3P2zb5nxnaoA/CD5h5MAGhz8NmeH1TyaQP+zrCsc9p5Y/LbKd76fGnz/bLW5ISEmmPww9YvTcQq8/JV2OstnstT8Er5Y7M8G+P0c+r3jqkcU/5h99k6ZBzj88bCIzFzjVP4enV8oyxN0//yH99nXg5D8qOpLLf0jtP5kqGJXUifQ/c9cS8kHP/D+/DpwzojQEQIEmwoanVwxA4lgXt9HgE0BSSZ2AJuIbQAMJih9jjiNA5q4l5INuK0AwTKYKRj0zQNv5fmq8/DpAaCJseHrtQkB/+zpwzoxKQM3MzMzMeFJAZmZmZmZqWEAAAAAAAFxeQM3MzMzMJmJAmpmZmZkfZUBmZmZmZhhoQDMzMzMzEWtAAAAAAAAKbkBmZmZmZoFwQM3MzMzM/XFAMzMzMzN6c0CamZmZmfZ0QAAAAAAAc3ZAZmZmZmbvd0DNzMzMzGt5QDMzMzMz6HpAmpmZmZlkfEAAAAAAAOF9QGZmZmZmXX9AZmZmZuZsgECamZmZGSuBQM3MzMxM6YFAAAAAAICngkAzMzMzs2WDQGZmZmbmI4RAmpmZmRnihEDNzMzMTKCFQAAAAACAXoZAMzMzM7Mch0BmZmZm5tqHQJqZmZkZmYhAzczMzExXiUAAAAAAgBWKQDMzMzOz04pAZmZmZuaRi0CamZmZGVCMQM3MzMxMDo1AAAAAAIDMjUAzMzMzs4qOQGZmZmbmSI9A\",\"dtype\":\"float64\",\"shape\":[75]}},\"selected\":{\"id\":\"2f1dde89-9d83-4bdc-9b0f-cafc56f82677\",\"type\":\"Selection\"},\"selection_policy\":{\"id\":\"4b9aab6c-b010-4cf4-ba13-10268718b51f\",\"type\":\"UnionRenderers\"}},\"id\":\"7a42614b-bed5-4991-a001-b789e38a107b\",\"type\":\"ColumnDataSource\"},{\"attributes\":{\"fill_alpha\":{\"value\":0.7},\"fill_color\":{\"value\":\"#4daf4a\"},\"line_alpha\":{\"value\":0.7},\"line_color\":{\"value\":\"#4daf4a\"},\"x\":{\"field\":\"x\"},\"y\":{\"field\":\"y\"}},\"id\":\"2c579e17-e2e5-43d7-83f5-2cd222054b78\",\"type\":\"Circle\"},{\"attributes\":{\"callback\":null,\"data\":{\"x\":{\"__ndarray__\":\"oAB4rmmKkL8cQ20MGxSOvxFC1SKBioe//h3rUK9OgL/N1CZ5btRwv/xnMgH0wBc/VRul1cz2cj9WZ/CQzYmDP/yuEnArZI4/tWbsyrUIlT87Yjmxo0ubP3yJs03q/qA/3xFzG52LpD8mj2qC79CnP6BrOXmMUKo/w+kszKVlrD8/EGrQ4WuuPwNY8QESMbA/ZXYqoToksT8eYdlLoROyP6zXGGcY5rI/9EnVE+lAsT8J04PEboapPwRyONwPxKA/a4Q8ioxxlD+T62kxv22GPzFoIt2oPXQ/qUdpIqvcXT+14f6XRrpLP7ScFGjNezw/RgYC1E9S676YzrpRNgA9v0kAXz1Ycz+/7Jy2jcPhMb/liwnZNsQmv7slovO3GyC/Uur6oPH4GL9Z6IofUQsfv8+zszHTbSS/4gn4ztO0J78n6trVahorv35jOjrPVC+/G3hJI+l+Mr9spP4YgG82v7+9XNGEXzu/v1CKi1UPPb8/JmznWaY5v/diVZLUJjW/DgHV0ACYMb+3iB+QASEtv7pGSgEJjSe/gZtByBonIr+0o5oN3ZEZv7zRrOq4jQ2/uRt7QhFk777I4Z5BmHj7PgkVSengaRE/6wfckTl7Gz8jqwOqBG4iPyH2d6qLsSY/SmQWLZiEKj9aUeY0J/MtPxwvmiW2izA/d17GuusJMj+kwnRSXIYzPwBA7VgTDjU/XY0hstSfNj+MOgkk8RU4PyhwOE4jBTk/jPKxbz3KOD+Lyl+LdAo3P3djOBQCHTQ/UY0SEUmvMD8oz3pJw28qP0lG9r3+tCM/\",\"dtype\":\"float64\",\"shape\":[75]},\"y\":{\"__ndarray__\":\"GhExyth1ND/Sv8nbtpRIP2vylNV0PVE/aTum7souWD/At0SJ8fVgPw3Iuahxymc/MSNhhJWvcD/bTfBN02d3P2zb5nxnaoA/CD5h5MAGhz8NmeH1TyaQP+zrCsc9p5Y/LbKd76fGnz/bLW5ISEmmPww9YvTcQq8/JV2OstnstT8Er5Y7M8G+P0c+r3jqkcU/5h99k6ZBzj88bCIzFzjVP4enV8oyxN0//yH99nXg5D8qOpLLf0jtP5kqGJXUifQ/c9cS8kHP/D+/DpwzojQEQIEmwoanVwxA4lgXt9HgE0BSSZ2AJuIbQAMJih9jjiNA5q4l5INuK0AwTKYKRj0zQNv5fmq8/DpAaCJseHrtQkB/+zpwzoxKQM3MzMzMeFJAZmZmZmZqWEAAAAAAAFxeQM3MzMzMJmJAmpmZmZkfZUBmZmZmZhhoQDMzMzMzEWtAAAAAAAAKbkBmZmZmZoFwQM3MzMzM/XFAMzMzMzN6c0CamZmZmfZ0QAAAAAAAc3ZAZmZmZmbvd0DNzMzMzGt5QDMzMzMz6HpAmpmZmZlkfEAAAAAAAOF9QGZmZmZmXX9AZmZmZuZsgECamZmZGSuBQM3MzMxM6YFAAAAAAICngkAzMzMzs2WDQGZmZmbmI4RAmpmZmRnihEDNzMzMTKCFQAAAAACAXoZAMzMzM7Mch0BmZmZm5tqHQJqZmZkZmYhAzczMzExXiUAAAAAAgBWKQDMzMzOz04pAZmZmZuaRi0CamZmZGVCMQM3MzMxMDo1AAAAAAIDMjUAzMzMzs4qOQGZmZmbmSI9A\",\"dtype\":\"float64\",\"shape\":[75]}},\"selected\":{\"id\":\"c017af44-ab26-4aad-9bdf-c55b92c446ad\",\"type\":\"Selection\"},\"selection_policy\":{\"id\":\"7adb0c07-9fe3-4b10-93f1-636cf0dfef79\",\"type\":\"UnionRenderers\"}},\"id\":\"717f9fa9-57a0-4130-894b-65fbd1877121\",\"type\":\"ColumnDataSource\"},{\"attributes\":{\"line_alpha\":0.1,\"line_color\":\"#1f77b4\",\"line_width\":3,\"x\":{\"field\":\"x\"},\"y\":{\"field\":\"y\"}},\"id\":\"b5f81d0c-dce3-456a-aeab-ba91eb03563a\",\"type\":\"Line\"},{\"attributes\":{\"fill_alpha\":{\"value\":0.1},\"fill_color\":{\"value\":\"#1f77b4\"},\"line_alpha\":{\"value\":0.1},\"line_color\":{\"value\":\"#1f77b4\"},\"x\":{\"field\":\"x\"},\"y\":{\"field\":\"y\"}},\"id\":\"d549e9c3-ced7-4c2d-947b-0808593a1a78\",\"type\":\"Circle\"},{\"attributes\":{\"children\":[{\"id\":\"11a38ce2-2fb9-4d9a-a07f-0b347aeb86b8\",\"type\":\"Row\"}]},\"id\":\"1f8a24c6-1874-4d6a-93dc-3d10de089c25\",\"type\":\"Column\"},{\"attributes\":{\"callback\":null,\"data\":{\"x\":{\"__ndarray__\":\"XgrtOjXRSr/dFtqbc+wZP1fjUVMXHGE/ln8mYzmgcT9/o7xWi5Z7Pxiei4WwQYM/6ZnBjOc7iT9EGOuN7cSPP+gOn8oiepM/zj9Itr1Ulz8E9q/k3oebP3TH/W9uEaA/y4Kg2/+Loj+gBVJ2u92kP4j54B8wu6Y/2VE3eKhrqD/diCQDCyOqPw8TuVJi5qs/u7rNle21rT90/b0/npCvP103hK5tn7A/J43brB1srz8UpRAKQmCpP6GhM/RF/qI/yxQQ5rhLmz+XpmuaNYCSP39LhDbO4IY/eZSxNpI4ej9HupWY/fdtP6DQMtxOTF8/BuE4LS1+RD8vf93U8SEvvxOX1r9rYz2/dUNPmUZLMb+BMgtrT2Aiv3i3UXeysRi/UeUNFw1eGr/yASeZA/glvys2ADiKdTC/GubtcVDzNL9SLVklkCU5v8PVuiReaT2/Te1ZZXL9QL/NA0+XiYZDvxoNNydUFka/YhtXtUKeRr+dl9leFFJEv3PSFV2DN0G/mljLODvoPL8ebbo2R+03v3Ra9VTxSzO/zEoYfQfJLb9YaueDv0klv5v1zjCZFBq/aaCfQaImBL/ey5b5J071PtAuqDly8xM/LZfBhRfKID897HeHdAAnPzyCXS+gjCw/lgAXhLS2MD/3QanE1NkyP4xHdtyhvjQ/3N7mHSl4Nj99aDEHPBk4P/mhKa53rjk/MO04GhA1Oz8JCZewroQ8P2cPGAkEMT0/dSllwgWaPD+FChLDHGk6P2vPWb1p+jY/RJIsNcQBMz8wB8sbh/4tPzRE2PmgRSY/\",\"dtype\":\"float64\",\"shape\":[75]},\"y\":{\"__ndarray__\":\"GhExyth1ND/Sv8nbtpRIP2vylNV0PVE/aTum7souWD/At0SJ8fVgPw3Iuahxymc/MSNhhJWvcD/bTfBN02d3P2zb5nxnaoA/CD5h5MAGhz8NmeH1TyaQP+zrCsc9p5Y/LbKd76fGnz/bLW5ISEmmPww9YvTcQq8/JV2OstnstT8Er5Y7M8G+P0c+r3jqkcU/5h99k6ZBzj88bCIzFzjVP4enV8oyxN0//yH99nXg5D8qOpLLf0jtP5kqGJXUifQ/c9cS8kHP/D+/DpwzojQEQIEmwoanVwxA4lgXt9HgE0BSSZ2AJuIbQAMJih9jjiNA5q4l5INuK0AwTKYKRj0zQNv5fmq8/DpAaCJseHrtQkB/+zpwzoxKQM3MzMzMeFJAZmZmZmZqWEAAAAAAAFxeQM3MzMzMJmJAmpmZmZkfZUBmZmZmZhhoQDMzMzMzEWtAAAAAAAAKbkBmZmZmZoFwQM3MzMzM/XFAMzMzMzN6c0CamZmZmfZ0QAAAAAAAc3ZAZmZmZmbvd0DNzMzMzGt5QDMzMzMz6HpAmpmZmZlkfEAAAAAAAOF9QGZmZmZmXX9AZmZmZuZsgECamZmZGSuBQM3MzMxM6YFAAAAAAICngkAzMzMzs2WDQGZmZmbmI4RAmpmZmRnihEDNzMzMTKCFQAAAAACAXoZAMzMzM7Mch0BmZmZm5tqHQJqZmZkZmYhAzczMzExXiUAAAAAAgBWKQDMzMzOz04pAZmZmZuaRi0CamZmZGVCMQM3MzMxMDo1AAAAAAIDMjUAzMzMzs4qOQGZmZmbmSI9A\",\"dtype\":\"float64\",\"shape\":[75]}},\"selected\":{\"id\":\"5e5b9822-fd8b-4746-ba59-904fe6657bf9\",\"type\":\"Selection\"},\"selection_policy\":{\"id\":\"9783313f-e532-42d2-b32b-b3afec5b1531\",\"type\":\"UnionRenderers\"}},\"id\":\"cc5573b8-67f6-4b69-af41-1a2ebb99dbff\",\"type\":\"ColumnDataSource\"},{\"attributes\":{\"fill_alpha\":{\"value\":0.7},\"fill_color\":{\"value\":\"#984ea3\"},\"line_alpha\":{\"value\":0.7},\"line_color\":{\"value\":\"#984ea3\"},\"x\":{\"field\":\"x\"},\"y\":{\"field\":\"y\"}},\"id\":\"8916ea31-e16f-4e4b-8ef0-ab4697a2d86d\",\"type\":\"Square\"},{\"attributes\":{\"source\":{\"id\":\"cc5573b8-67f6-4b69-af41-1a2ebb99dbff\",\"type\":\"ColumnDataSource\"}},\"id\":\"18583a1c-d715-48e4-8844-8273cf8fcee1\",\"type\":\"CDSView\"},{\"attributes\":{\"callback\":null,\"data\":{\"x\":{\"__ndarray__\":\"+i8xyZEdXj/yli0O9d9lP8R/RE9mVXI/yqHC65OQej/2zkQuOs2BP9Af0iPRwYY/rnEzZXItjD8m+gWGbwuRP0oSUTr7RJQ/UiKRz47Ilz+IJ+6KdpubPxSifkI2w58/ylTLGhggoj+3SArHVEOkP/mwKDYwA6Y/2uc2g+2Xpz9YI7Nh6jqpPyr9pcFE7qo/2Las6+WxrD9epIUIjoSuPxI1mT1FGLA/K0r/Tjeprj/vUo/Z/jqpPwEtaus4YqM/C9A/jNO6nD+cwTUwHzSUPxQ2HbCULYo/6aRSRyKPfz+jerynqoRyPxphDM+ES2M/g+lR5Ru+SD+JDlWUjKcyv+t+oO9Jl0G/gwDn4i8eNL+0S0LO+BsgvyC7V/+yegS/Pnz0zvhKAb9CvAj0/SQbv9729K3U/Sm/6TCrAlNyMr8mzHxTzbY3v42UAMjPHj2/x9rKErpqQb/nsUVsNHZEv4xWtvxaXUe/OP3MZRIRSL8YPDGfwtFFvxi2klt3pEK/BE39HBx1P7+QihzMgyI6v2opKqgSKDW/GUDBVi9oML9pXQbH3KEnv8/SPmCOaR2/mhY2mc8kCL/vLgv2CYvyPl6Cm2i6hBQ/oVKapMOrIT/JMj3Ic3EoP5k7nso1gi4/gl+usNLtMT81v4SiQEc0P2mD9WTIWzY/1r7OILs9OD+WvPDELP45P6tW6Wwgpzs/va+HRNMxPT98ZIsLEXI+P+YRArHP+j4/rpyr2+QwPj/FSL1AKcQ7P8Sl8CCUEjg/Cea9KADRMz/D53YgmQovP/f9Ih7n1SY/\",\"dtype\":\"float64\",\"shape\":[75]},\"y\":{\"__ndarray__\":\"GhExyth1ND/Sv8nbtpRIP2vylNV0PVE/aTum7souWD/At0SJ8fVgPw3Iuahxymc/MSNhhJWvcD/bTfBN02d3P2zb5nxnaoA/CD5h5MAGhz8NmeH1TyaQP+zrCsc9p5Y/LbKd76fGnz/bLW5ISEmmPww9YvTcQq8/JV2OstnstT8Er5Y7M8G+P0c+r3jqkcU/5h99k6ZBzj88bCIzFzjVP4enV8oyxN0//yH99nXg5D8qOpLLf0jtP5kqGJXUifQ/c9cS8kHP/D+/DpwzojQEQIEmwoanVwxA4lgXt9HgE0BSSZ2AJuIbQAMJih9jjiNA5q4l5INuK0AwTKYKRj0zQNv5fmq8/DpAaCJseHrtQkB/+zpwzoxKQM3MzMzMeFJAZmZmZmZqWEAAAAAAAFxeQM3MzMzMJmJAmpmZmZkfZUBmZmZmZhhoQDMzMzMzEWtAAAAAAAAKbkBmZmZmZoFwQM3MzMzM/XFAMzMzMzN6c0CamZmZmfZ0QAAAAAAAc3ZAZmZmZmbvd0DNzMzMzGt5QDMzMzMz6HpAmpmZmZlkfEAAAAAAAOF9QGZmZmZmXX9AZmZmZuZsgECamZmZGSuBQM3MzMxM6YFAAAAAAICngkAzMzMzs2WDQGZmZmbmI4RAmpmZmRnihEDNzMzMTKCFQAAAAACAXoZAMzMzM7Mch0BmZmZm5tqHQJqZmZkZmYhAzczMzExXiUAAAAAAgBWKQDMzMzOz04pAZmZmZuaRi0CamZmZGVCMQM3MzMxMDo1AAAAAAIDMjUAzMzMzs4qOQGZmZmbmSI9A\",\"dtype\":\"float64\",\"shape\":[75]}},\"selected\":{\"id\":\"6ef2cb8f-6096-4586-8b36-33e735768287\",\"type\":\"Selection\"},\"selection_policy\":{\"id\":\"7e016f85-4198-44c6-a349-a8393cbf1c8d\",\"type\":\"UnionRenderers\"}},\"id\":\"0dcafbb8-0d05-4397-a23f-09fa9c71392e\",\"type\":\"ColumnDataSource\"},{\"attributes\":{\"line_alpha\":0.3,\"line_color\":\"#377eb8\",\"line_width\":2,\"x\":{\"field\":\"x\"},\"y\":{\"field\":\"y\"}},\"id\":\"3bf7d004-fdb8-40a5-b1d0-2da89e4eb90d\",\"type\":\"Line\"},{\"attributes\":{\"fill_alpha\":{\"value\":0.7},\"fill_color\":{\"value\":\"#377eb8\"},\"line_alpha\":{\"value\":0.7},\"line_color\":{\"value\":\"#377eb8\"},\"x\":{\"field\":\"x\"},\"y\":{\"field\":\"y\"}},\"id\":\"f0f5e798-23a3-4d54-999f-17cdf30d461b\",\"type\":\"Triangle\"},{\"attributes\":{\"line_alpha\":0.1,\"line_color\":\"#1f77b4\",\"line_width\":2,\"x\":{\"field\":\"x\"},\"y\":{\"field\":\"y\"}},\"id\":\"ff3cdfb9-d3c2-4108-92e5-16b88a445d42\",\"type\":\"Line\"},{\"attributes\":{\"source\":{\"id\":\"0dcafbb8-0d05-4397-a23f-09fa9c71392e\",\"type\":\"ColumnDataSource\"}},\"id\":\"88a63977-48b6-4145-aaac-1c622cd4f9b0\",\"type\":\"CDSView\"},{\"attributes\":{\"source\":{\"id\":\"7a42614b-bed5-4991-a001-b789e38a107b\",\"type\":\"ColumnDataSource\"}},\"id\":\"ae634245-7a4e-425c-85fb-5f960d6e2198\",\"type\":\"CDSView\"},{\"attributes\":{\"plot\":null,\"text\":\"\"},\"id\":\"1d76df3e-35cd-4ac8-8739-c25b3cda84aa\",\"type\":\"Title\"},{\"attributes\":{\"children\":[{\"id\":\"29718a67-d64e-4797-837a-c3aa312ab99f\",\"subtype\":\"Figure\",\"type\":\"Plot\"},{\"id\":\"6c6b0f5c-ea88-4d27-8f19-063dbdb74640\",\"subtype\":\"Figure\",\"type\":\"Plot\"}]},\"id\":\"11a38ce2-2fb9-4d9a-a07f-0b347aeb86b8\",\"type\":\"Row\"},{\"attributes\":{\"label\":{\"value\":\"CRD\"},\"renderers\":[{\"id\":\"07c06f86-732f-42d6-b3a5-7aacd06b888f\",\"type\":\"GlyphRenderer\"},{\"id\":\"887fb54c-558f-4086-b0a9-0afb5d0ca26f\",\"type\":\"GlyphRenderer\"}]},\"id\":\"7605824f-e220-42cc-b6d7-1976323bc241\",\"type\":\"LegendItem\"},{\"attributes\":{\"label\":{\"value\":\"WGT igg=1\"},\"renderers\":[{\"id\":\"036d99e5-ecb2-4084-a693-0eb7331311cc\",\"type\":\"GlyphRenderer\"},{\"id\":\"12b69b7f-fe43-4ac6-a113-1b22ec13ade1\",\"type\":\"GlyphRenderer\"}]},\"id\":\"dc7c259b-989e-49bb-bd7c-c6e863bd1140\",\"type\":\"LegendItem\"}],\"root_ids\":[\"a1cad20b-6028-414c-a1dc-be44944e2e75\"]},\"title\":\"Bokeh Application\",\"version\":\"0.12.16\"}};\n",
       "  var render_items = [{\"docid\":\"87b61da1-d8d1-4ca4-854e-6ec9a2b88dee\",\"elementid\":\"ec3bbf09-15c0-432a-8b47-7c40264e983a\",\"modelid\":\"a1cad20b-6028-414c-a1dc-be44944e2e75\"}];\n",
       "  root.Bokeh.embed.embed_items_notebook(docs_json, render_items);\n",
       "\n",
       "  }\n",
       "  if (root.Bokeh !== undefined) {\n",
       "    embed_document(root);\n",
       "  } else {\n",
       "    var attempts = 0;\n",
       "    var timer = setInterval(function(root) {\n",
       "      if (root.Bokeh !== undefined) {\n",
       "        embed_document(root);\n",
       "        clearInterval(timer);\n",
       "      }\n",
       "      attempts++;\n",
       "      if (attempts > 100) {\n",
       "        console.log(\"Bokeh: ERROR: Unable to run BokehJS code because BokehJS library is missing\")\n",
       "        clearInterval(timer);\n",
       "      }\n",
       "    }, 10, root)\n",
       "  }\n",
       "})(window);"
      ],
      "application/vnd.bokehjs_exec.v0+json": ""
     },
     "metadata": {
      "application/vnd.bokehjs_exec.v0+json": {
       "id": "a1cad20b-6028-414c-a1dc-be44944e2e75"
      }
     },
     "output_type": "display_data"
    },
    {
     "data": {
      "text/markdown": [
       "*FIGURE.* Cooling rates. g=1"
      ],
      "text/plain": [
       "<IPython.core.display.Markdown object>"
      ]
     },
     "metadata": {},
     "output_type": "display_data"
    },
    {
     "data": {
      "text/html": [
       "\n",
       "<div class=\"bk-root\">\n",
       "    <div class=\"bk-plotdiv\" id=\"baf76e73-2405-435f-a877-7d9e5c4b6b54\"></div>\n",
       "</div>"
      ]
     },
     "metadata": {},
     "output_type": "display_data"
    },
    {
     "data": {
      "application/javascript": [
       "(function(root) {\n",
       "  function embed_document(root) {\n",
       "    \n",
       "  var docs_json = {\"fb24a562-f01c-42e7-978b-ef8bb6f99695\":{\"roots\":{\"references\":[{\"attributes\":{\"overlay\":{\"id\":\"08bc6dd8-a0c4-4ec0-ad7e-deed25740bed\",\"type\":\"BoxAnnotation\"}},\"id\":\"13c2dd4f-a4b7-44f9-98dd-823524939f53\",\"type\":\"BoxZoomTool\"},{\"attributes\":{},\"id\":\"40296337-df35-4a0e-be6e-cf7cbbfee4b9\",\"type\":\"LinearScale\"},{\"attributes\":{\"callback\":null,\"end\":0.003252505913,\"start\":-0.003625518613},\"id\":\"b2c253e8-c150-46d9-9765-267cedf067aa\",\"type\":\"Range1d\"},{\"attributes\":{},\"id\":\"b0025510-1727-4518-91fc-743d3b864cdf\",\"type\":\"UnionRenderers\"},{\"attributes\":{},\"id\":\"09df5ef9-aa7c-42df-b2d8-02e39f50d774\",\"type\":\"Selection\"},{\"attributes\":{},\"id\":\"4780971d-e901-4f29-a9da-b5a31abde9d1\",\"type\":\"WheelZoomTool\"},{\"attributes\":{},\"id\":\"65faa4c4-03f2-4c9c-b5f0-28e5ecda7e85\",\"type\":\"HelpTool\"},{\"attributes\":{},\"id\":\"b6792d42-c565-4375-9851-1c7e9ed5f161\",\"type\":\"PanTool\"},{\"attributes\":{},\"id\":\"f89c8821-dd51-4d17-8a0e-0668ed531cf3\",\"type\":\"SaveTool\"},{\"attributes\":{\"callback\":null,\"end\":0.0036847258899999997,\"start\":-0.00182547629},\"id\":\"f581fba5-7d96-4f01-8e40-20c14972fdc8\",\"type\":\"Range1d\"},{\"attributes\":{\"line_alpha\":0.1,\"line_color\":\"#1f77b4\",\"line_width\":1.5,\"x\":{\"field\":\"x\"},\"y\":{\"field\":\"y\"}},\"id\":\"3668b85a-f107-49dd-ae63-a36525ede227\",\"type\":\"Line\"},{\"attributes\":{},\"id\":\"ce43a4b0-c132-4932-b7d2-7a8b40b417ce\",\"type\":\"ResetTool\"},{\"attributes\":{},\"id\":\"eccf240f-fd95-41e7-8ef1-eb88e72c5ea4\",\"type\":\"Selection\"},{\"attributes\":{\"data_source\":{\"id\":\"5f780aed-95db-4d95-96ad-740458469b5b\",\"type\":\"ColumnDataSource\"},\"glyph\":{\"id\":\"2d52a16c-1d3b-4ad5-a617-f7bbaf3cdf1e\",\"type\":\"Line\"},\"hover_glyph\":null,\"muted_glyph\":null,\"nonselection_glyph\":{\"id\":\"3668b85a-f107-49dd-ae63-a36525ede227\",\"type\":\"Line\"},\"selection_glyph\":null,\"view\":{\"id\":\"e144ae16-018b-4f1d-9f01-83ccf4e20fe6\",\"type\":\"CDSView\"}},\"id\":\"8604e895-cadc-474e-b42c-a6d0754ebce1\",\"type\":\"GlyphRenderer\"},{\"attributes\":{\"callback\":null,\"data\":{\"x\":{\"__ndarray__\":\"0IUJHWKxIb8octNqeTofvzDdUTKluhS/kgmUIrcS/74/4pm193f/PuqpDYqr+xk/6v4ZPbGpJz9wWG4NbRkyP2NFX3EydDk/MClog8sJQT/P+zhKjBdGPwdK7ce4BEw/svLeaG15UT9El56O2hRVP7ut0xWjX1g/tGiZPwG4Wz8MGxORQppfPyGo7fJzG2I/7H+PKbfnZD+17fl3RGBoPzB93DT+iGw/6rhbhyO+bT+vv5Eu6bBqP5+28d8vamc/Ammd/hU1ZT8VfgyB06djP/vsjxa4U2I/g6ySBDScYT8E0fmCtAxiP0s5BDNLp2I/sIGwOHwQYj+9Y6O143tfP243lCSHRFw/bdZyBSGCXT839DiLHHtdPwVgbZiizVo/CCseM+EyVj+5GpB2wFJNP+b18uhccDg/p9+NMd7SEr+9yXnOA5M/v/6E2HKCOU2/OjamEiPlVb8xrz0Zvmpev12R+4EiAmS/amg9pKoVZr+SSRsFR9Rjvy9DQB8cXGC/v/wr8sblWr/Dd6BeycZVv5tgvMa1+FC/+sRkCCqKSL9L90WJ5zo+v3XTF+F4USa/wDozZrc7ID9aRqwUBGI7Pym6XAE6J0c/ZNuSSSIeUD9cvzmUw11UP8V5omWJQFg/A/+LS8TAWz/PAAHteulePzWpQi566GA//Q5h1m1LYj9A4Lliw61jP5ixnwiUG2U/+coOedyTZj845rxQjvNnP5ljcArv1mg/Z6UyjXKlaD+WTl8f+gZnP9UtXtNTSWQ/1JcLN8UMYT/+ZkivK4FbP/9ImsGUD1U/\",\"dtype\":\"float64\",\"shape\":[75]},\"y\":{\"__ndarray__\":\"GhExyth1ND/Sv8nbtpRIP2vylNV0PVE/aTum7souWD/At0SJ8fVgPw3Iuahxymc/MSNhhJWvcD/bTfBN02d3P2zb5nxnaoA/CD5h5MAGhz8NmeH1TyaQP+zrCsc9p5Y/LbKd76fGnz/bLW5ISEmmPww9YvTcQq8/JV2OstnstT8Er5Y7M8G+P0c+r3jqkcU/5h99k6ZBzj88bCIzFzjVP4enV8oyxN0//yH99nXg5D8qOpLLf0jtP5kqGJXUifQ/c9cS8kHP/D+/DpwzojQEQIEmwoanVwxA4lgXt9HgE0BSSZ2AJuIbQAMJih9jjiNA5q4l5INuK0AwTKYKRj0zQNv5fmq8/DpAaCJseHrtQkB/+zpwzoxKQM3MzMzMeFJAZmZmZmZqWEAAAAAAAFxeQM3MzMzMJmJAmpmZmZkfZUBmZmZmZhhoQDMzMzMzEWtAAAAAAAAKbkBmZmZmZoFwQM3MzMzM/XFAMzMzMzN6c0CamZmZmfZ0QAAAAAAAc3ZAZmZmZmbvd0DNzMzMzGt5QDMzMzMz6HpAmpmZmZlkfEAAAAAAAOF9QGZmZmZmXX9AZmZmZuZsgECamZmZGSuBQM3MzMxM6YFAAAAAAICngkAzMzMzs2WDQGZmZmbmI4RAmpmZmRnihEDNzMzMTKCFQAAAAACAXoZAMzMzM7Mch0BmZmZm5tqHQJqZmZkZmYhAzczMzExXiUAAAAAAgBWKQDMzMzOz04pAZmZmZuaRi0CamZmZGVCMQM3MzMxMDo1AAAAAAIDMjUAzMzMzs4qOQGZmZmbmSI9A\",\"dtype\":\"float64\",\"shape\":[75]}},\"selected\":{\"id\":\"c3906035-b34f-426c-8da4-8c77c036615c\",\"type\":\"Selection\"},\"selection_policy\":{\"id\":\"35cba835-fe73-4c6e-8887-24250c36eec8\",\"type\":\"UnionRenderers\"}},\"id\":\"5f780aed-95db-4d95-96ad-740458469b5b\",\"type\":\"ColumnDataSource\"},{\"attributes\":{\"source\":{\"id\":\"6429a500-a7c5-43bf-bb46-17347813ddf4\",\"type\":\"ColumnDataSource\"}},\"id\":\"596bba8b-78cb-49dc-8fdc-7513b815ab85\",\"type\":\"CDSView\"},{\"attributes\":{\"source\":{\"id\":\"5f780aed-95db-4d95-96ad-740458469b5b\",\"type\":\"ColumnDataSource\"}},\"id\":\"e144ae16-018b-4f1d-9f01-83ccf4e20fe6\",\"type\":\"CDSView\"},{\"attributes\":{\"callback\":null,\"data\":{\"x\":{\"__ndarray__\":\"oTS6CoN+Az/inoNC4rwJP4RJQw9t8RM/MKJxEwZQHD9VByhOzQojP18PgycxvSg/CF6wzIxeLz+/VNENX4kzP9bs8RjfBDg/QIeyHXc9PT+hDA0hV6pBP8w4TffyOUU/x+VrB7piST8DVjKUfbtNP8hXOtMP4FA/lNtc1xTxUj9PNJFO61pVPyXBTHkDPFg/zDdKMdO8Wz8AiTgzgAtgP3AoNgaop2I/xRpIfTSBYz+31cOGFKthP98ihWis+l4/QotIs8KEWz+Maxn8P39YP3gixDFkl1U/AZ06cH1BUz9WhFlwWH1SP94JfJm27FE/6fU3QQyWUD/NreSw4cxLP6AMgqMHjUk/YO+Esn6gTT+xqG6y165PP1Yp+Ka2IUs/4w/Jg4IIQD/WLG3Kd9MAv8R8/MtVP0S/T9Na3VnXUr/bmb1ATcxav2S3S/KOGWG/6N3PXrqfZL8HUPqkzQ9ov4mHp0OdLGu/NVRmdbTra7+C0u5U221pv1Hjlrm2vGW/9xlQ3QchYr+sS/9u101dv5OWVxjljFa/7y1Xc+3mT7+P3FnGzfpCv+xwF9TYZSm/PHJ8ONCzJz8JI8vL6rxBPyqwqU2c8kw/Qn9y6nuzUz+bnvq/33pYP9hEJlzow1w/VtxfDbVFYD94WtCVbu1hP7zdjtE6YWM/FCaSRESsZD/yfaV29dhlP+GFY0yw7mY/NRVB33/rZz+TRtqEOrdoP2o1CwjyEmk/0qp9jtShaD+OfelmKDJnP2nHM4Y++mQ/0Zjo85plYj+13m+044ZfP6WZw/X1alo/\",\"dtype\":\"float64\",\"shape\":[75]},\"y\":{\"__ndarray__\":\"GhExyth1ND/Sv8nbtpRIP2vylNV0PVE/aTum7souWD/At0SJ8fVgPw3Iuahxymc/MSNhhJWvcD/bTfBN02d3P2zb5nxnaoA/CD5h5MAGhz8NmeH1TyaQP+zrCsc9p5Y/LbKd76fGnz/bLW5ISEmmPww9YvTcQq8/JV2OstnstT8Er5Y7M8G+P0c+r3jqkcU/5h99k6ZBzj88bCIzFzjVP4enV8oyxN0//yH99nXg5D8qOpLLf0jtP5kqGJXUifQ/c9cS8kHP/D+/DpwzojQEQIEmwoanVwxA4lgXt9HgE0BSSZ2AJuIbQAMJih9jjiNA5q4l5INuK0AwTKYKRj0zQNv5fmq8/DpAaCJseHrtQkB/+zpwzoxKQM3MzMzMeFJAZmZmZmZqWEAAAAAAAFxeQM3MzMzMJmJAmpmZmZkfZUBmZmZmZhhoQDMzMzMzEWtAAAAAAAAKbkBmZmZmZoFwQM3MzMzM/XFAMzMzMzN6c0CamZmZmfZ0QAAAAAAAc3ZAZmZmZmbvd0DNzMzMzGt5QDMzMzMz6HpAmpmZmZlkfEAAAAAAAOF9QGZmZmZmXX9AZmZmZuZsgECamZmZGSuBQM3MzMxM6YFAAAAAAICngkAzMzMzs2WDQGZmZmbmI4RAmpmZmRnihEDNzMzMTKCFQAAAAACAXoZAMzMzM7Mch0BmZmZm5tqHQJqZmZkZmYhAzczMzExXiUAAAAAAgBWKQDMzMzOz04pAZmZmZuaRi0CamZmZGVCMQM3MzMxMDo1AAAAAAIDMjUAzMzMzs4qOQGZmZmbmSI9A\",\"dtype\":\"float64\",\"shape\":[75]}},\"selected\":{\"id\":\"5aaec659-c232-49f2-be59-4fa56dfabe8d\",\"type\":\"Selection\"},\"selection_policy\":{\"id\":\"6d6ad9c7-b719-4fcd-976f-29286a5a4b15\",\"type\":\"UnionRenderers\"}},\"id\":\"c5a5aaec-ee02-47e1-80af-668524a166fd\",\"type\":\"ColumnDataSource\"},{\"attributes\":{},\"id\":\"ef2b30dc-73c4-481b-9d7e-70bd2e1acd7b\",\"type\":\"LinearScale\"},{\"attributes\":{\"callback\":null,\"data\":{\"x\":{\"__ndarray__\":\"aANbJn1B9j6eOD6+6EAAP9VN/k4P5As/aeDEC+DWFD/6aAstBuYcP3Ut+VYmJyM/XD66owuiKD/jVAqBpQEvP3pbaGHeNjM/UDbTJzOKNz+bwtHCtZY8P0kcOeBoP0E/9prPFt+yRD8XxhiDR05IP+knDfiQo0s/mM8eJOEQTz+ki05QqohRP5okvqWo61M/7kF2ievSVj8eDZZXVm1aP3OhrknJv14/eZm4yIoQYD9L7qDwWgRdP3h8IfozUFk/fDqIqS5RVj+N2aGAPqhTPzmwvdP7BlE/QoNSghvpTT8xUaK8hg1MP0wvaBsjxEo/zJcpzqH0Rz8+30IE6TpDP7TCsLYWvkE/KQ47a/J2Rj9+PDMASitKP39k0BqhwUc/azMssZnCOz+7gjqELSIXv23tXWKafka/Jqy1wgB6VL/bni4ABQZdv2ZRVA0teGK/OM6ylh4nZr8SGwaM4pdpvzg93XUFhmy/nW+kadklbb9V4Vrj77tqv7sFKbC0F2e//YMdBsBmY79se5s8dYVfv0bZRVOpWVi/r2HgWmFKUb9ADLpby7VEvxBXKeGrlCy/beJ76yYaKD9SHQcqF61CP1N6JUMdqU4/IyhuPGfpVD+FtH2BPQNaP5LoyD6Gll4/VpOMxbtPYT/j7frpHBNjP02TLy+bnGQ/p88+8cT1ZT/IC/WszidnP8B2PGd8OGg/yluz7gYlaT/EGpkNU9dpP7DGhb6VF2o/IVRdS76VaT/c7irKeihoP6d/wO/VAWY/jzZgab+CYz9w3tSQzPRgP/b2+Ty+9Vw/\",\"dtype\":\"float64\",\"shape\":[75]},\"y\":{\"__ndarray__\":\"GhExyth1ND/Sv8nbtpRIP2vylNV0PVE/aTum7souWD/At0SJ8fVgPw3Iuahxymc/MSNhhJWvcD/bTfBN02d3P2zb5nxnaoA/CD5h5MAGhz8NmeH1TyaQP+zrCsc9p5Y/LbKd76fGnz/bLW5ISEmmPww9YvTcQq8/JV2OstnstT8Er5Y7M8G+P0c+r3jqkcU/5h99k6ZBzj88bCIzFzjVP4enV8oyxN0//yH99nXg5D8qOpLLf0jtP5kqGJXUifQ/c9cS8kHP/D+/DpwzojQEQIEmwoanVwxA4lgXt9HgE0BSSZ2AJuIbQAMJih9jjiNA5q4l5INuK0AwTKYKRj0zQNv5fmq8/DpAaCJseHrtQkB/+zpwzoxKQM3MzMzMeFJAZmZmZmZqWEAAAAAAAFxeQM3MzMzMJmJAmpmZmZkfZUBmZmZmZhhoQDMzMzMzEWtAAAAAAAAKbkBmZmZmZoFwQM3MzMzM/XFAMzMzMzN6c0CamZmZmfZ0QAAAAAAAc3ZAZmZmZmbvd0DNzMzMzGt5QDMzMzMz6HpAmpmZmZlkfEAAAAAAAOF9QGZmZmZmXX9AZmZmZuZsgECamZmZGSuBQM3MzMxM6YFAAAAAAICngkAzMzMzs2WDQGZmZmbmI4RAmpmZmRnihEDNzMzMTKCFQAAAAACAXoZAMzMzM7Mch0BmZmZm5tqHQJqZmZkZmYhAzczMzExXiUAAAAAAgBWKQDMzMzOz04pAZmZmZuaRi0CamZmZGVCMQM3MzMxMDo1AAAAAAIDMjUAzMzMzs4qOQGZmZmbmSI9A\",\"dtype\":\"float64\",\"shape\":[75]}},\"selected\":{\"id\":\"da194b25-52fb-4a0c-8a0d-8fa9f167aee9\",\"type\":\"Selection\"},\"selection_policy\":{\"id\":\"57edbaf0-d7c7-40c6-b566-1e878687357b\",\"type\":\"UnionRenderers\"}},\"id\":\"45f2aa67-edd3-417b-ae17-19d9367da163\",\"type\":\"ColumnDataSource\"},{\"attributes\":{\"active_drag\":\"auto\",\"active_inspect\":\"auto\",\"active_scroll\":\"auto\",\"active_tap\":\"auto\",\"tools\":[{\"id\":\"b6792d42-c565-4375-9851-1c7e9ed5f161\",\"type\":\"PanTool\"},{\"id\":\"4780971d-e901-4f29-a9da-b5a31abde9d1\",\"type\":\"WheelZoomTool\"},{\"id\":\"13c2dd4f-a4b7-44f9-98dd-823524939f53\",\"type\":\"BoxZoomTool\"},{\"id\":\"f89c8821-dd51-4d17-8a0e-0668ed531cf3\",\"type\":\"SaveTool\"},{\"id\":\"ce43a4b0-c132-4932-b7d2-7a8b40b417ce\",\"type\":\"ResetTool\"},{\"id\":\"65faa4c4-03f2-4c9c-b5f0-28e5ecda7e85\",\"type\":\"HelpTool\"}]},\"id\":\"924ff186-862a-424a-a840-b3cb3f39d342\",\"type\":\"Toolbar\"},{\"attributes\":{\"source\":{\"id\":\"c5a5aaec-ee02-47e1-80af-668524a166fd\",\"type\":\"ColumnDataSource\"}},\"id\":\"09e2920e-d59d-4dab-aab9-0dd84e4cf585\",\"type\":\"CDSView\"},{\"attributes\":{\"data_source\":{\"id\":\"6429a500-a7c5-43bf-bb46-17347813ddf4\",\"type\":\"ColumnDataSource\"},\"glyph\":{\"id\":\"e27c53ea-0ad0-4eda-b307-b410806c179e\",\"type\":\"Circle\"},\"hover_glyph\":null,\"muted_glyph\":null,\"nonselection_glyph\":{\"id\":\"1a01fbb3-d2bd-455f-b164-9bd9e82772fe\",\"type\":\"Circle\"},\"selection_glyph\":null,\"view\":{\"id\":\"596bba8b-78cb-49dc-8fdc-7513b815ab85\",\"type\":\"CDSView\"}},\"id\":\"0393a403-7d80-4dc4-9f96-ba5375b7b447\",\"type\":\"GlyphRenderer\"},{\"attributes\":{\"num_minor_ticks\":10},\"id\":\"3474cb98-823b-403c-b1ad-ff25389784e8\",\"type\":\"LogTicker\"},{\"attributes\":{\"items\":[{\"id\":\"1adcd687-b047-4b6f-9b44-f0890f1c3710\",\"type\":\"LegendItem\"},{\"id\":\"3bb82f15-5c69-47bc-92b0-fb3fd9fab2fe\",\"type\":\"LegendItem\"},{\"id\":\"948e3ca5-88b1-40e1-a4f7-dae23853c891\",\"type\":\"LegendItem\"}],\"label_text_font_size\":{\"value\":\"8pt\"},\"location\":\"top_center\",\"orientation\":\"horizontal\",\"plot\":{\"id\":\"87a88f0d-a26a-4150-bd70-0cd2fdd2fedc\",\"subtype\":\"Figure\",\"type\":\"Plot\"}},\"id\":\"a381f702-b3d4-45bc-9d35-ff97ed5994a3\",\"type\":\"Legend\"},{\"attributes\":{},\"id\":\"8bddc0e0-8b86-488a-89f2-1162b4a7efa7\",\"type\":\"UnionRenderers\"},{\"attributes\":{\"callback\":null,\"end\":0.01,\"start\":1020},\"id\":\"b685a120-186e-4581-8ea5-fb9549342733\",\"type\":\"Range1d\"},{\"attributes\":{\"line_alpha\":0.6,\"line_color\":\"#984ea3\",\"line_width\":3,\"x\":{\"field\":\"x\"},\"y\":{\"field\":\"y\"}},\"id\":\"7f216faa-1821-4f48-87f9-a5c120afd69c\",\"type\":\"Line\"},{\"attributes\":{\"data_source\":{\"id\":\"ec014c1b-6ebf-4cdc-98d9-be74c825e0bc\",\"type\":\"ColumnDataSource\"},\"glyph\":{\"id\":\"953d18cb-a1cd-45bb-98b2-36f122bc04fa\",\"type\":\"Circle\"},\"hover_glyph\":null,\"muted_glyph\":null,\"nonselection_glyph\":{\"id\":\"f97aeced-eb58-4b4a-ab31-8b663e3095dc\",\"type\":\"Circle\"},\"selection_glyph\":null,\"view\":{\"id\":\"de0ae51e-3cd8-4d8e-ac13-1cb000abcac9\",\"type\":\"CDSView\"}},\"id\":\"99498f71-56e1-4d78-9946-4d31c619f146\",\"type\":\"GlyphRenderer\"},{\"attributes\":{\"axis_label\":\"pressure [mb]\",\"formatter\":{\"id\":\"6ec16074-8018-4de0-b89b-1434c355cf2e\",\"type\":\"LogTickFormatter\"},\"plot\":{\"id\":\"94de4fd2-5586-4764-a9fd-7d1b5e2e1dee\",\"subtype\":\"Figure\",\"type\":\"Plot\"},\"ticker\":{\"id\":\"3474cb98-823b-403c-b1ad-ff25389784e8\",\"type\":\"LogTicker\"}},\"id\":\"b25477e9-577f-4d9e-acc0-a93c7adf2e90\",\"type\":\"LogAxis\"},{\"attributes\":{\"dimension\":1,\"plot\":{\"id\":\"87a88f0d-a26a-4150-bd70-0cd2fdd2fedc\",\"subtype\":\"Figure\",\"type\":\"Plot\"},\"ticker\":{\"id\":\"1a1b1db3-d82b-4228-ad36-c67eaecedff6\",\"type\":\"BasicTicker\"}},\"id\":\"7bf60ea7-f160-4bb3-bee4-491aa85f1390\",\"type\":\"Grid\"},{\"attributes\":{\"data_source\":{\"id\":\"c5a5aaec-ee02-47e1-80af-668524a166fd\",\"type\":\"ColumnDataSource\"},\"glyph\":{\"id\":\"2ac367fd-060b-47f8-8973-76b40e68cd58\",\"type\":\"Square\"},\"hover_glyph\":null,\"muted_glyph\":null,\"nonselection_glyph\":{\"id\":\"91a52783-4abe-4f99-bec7-8ee4536ef978\",\"type\":\"Square\"},\"selection_glyph\":null,\"view\":{\"id\":\"09e2920e-d59d-4dab-aab9-0dd84e4cf585\",\"type\":\"CDSView\"}},\"id\":\"3440ae72-0176-4bea-9f27-92f878a77cbb\",\"type\":\"GlyphRenderer\"},{\"attributes\":{\"dimension\":1,\"plot\":{\"id\":\"94de4fd2-5586-4764-a9fd-7d1b5e2e1dee\",\"subtype\":\"Figure\",\"type\":\"Plot\"},\"ticker\":{\"id\":\"3474cb98-823b-403c-b1ad-ff25389784e8\",\"type\":\"LogTicker\"}},\"id\":\"500c053c-f675-4038-b642-fb819d9ca294\",\"type\":\"Grid\"},{\"attributes\":{\"callback\":null,\"data\":{\"x\":{\"__ndarray__\":\"oTS6CoN+Az/inoNC4rwJP4RJQw9t8RM/MKJxEwZQHD9VByhOzQojP18PgycxvSg/CF6wzIxeLz+/VNENX4kzP9bs8RjfBDg/QIeyHXc9PT+hDA0hV6pBP8w4TffyOUU/x+VrB7piST8DVjKUfbtNP8hXOtMP4FA/lNtc1xTxUj9PNJFO61pVPyXBTHkDPFg/zDdKMdO8Wz8AiTgzgAtgP3AoNgaop2I/xRpIfTSBYz+31cOGFKthP98ihWis+l4/QotIs8KEWz+Maxn8P39YP3gixDFkl1U/AZ06cH1BUz9WhFlwWH1SP94JfJm27FE/6fU3QQyWUD/NreSw4cxLP6AMgqMHjUk/YO+Esn6gTT+xqG6y165PP1Yp+Ka2IUs/4w/Jg4IIQD/WLG3Kd9MAv8R8/MtVP0S/T9Na3VnXUr/bmb1ATcxav2S3S/KOGWG/6N3PXrqfZL8HUPqkzQ9ov4mHp0OdLGu/NVRmdbTra7+C0u5U221pv1Hjlrm2vGW/9xlQ3QchYr+sS/9u101dv5OWVxjljFa/7y1Xc+3mT7+P3FnGzfpCv+xwF9TYZSm/PHJ8ONCzJz8JI8vL6rxBPyqwqU2c8kw/Qn9y6nuzUz+bnvq/33pYP9hEJlzow1w/VtxfDbVFYD94WtCVbu1hP7zdjtE6YWM/FCaSRESsZD/yfaV29dhlP+GFY0yw7mY/NRVB33/rZz+TRtqEOrdoP2o1CwjyEmk/0qp9jtShaD+OfelmKDJnP2nHM4Y++mQ/0Zjo85plYj+13m+044ZfP6WZw/X1alo/\",\"dtype\":\"float64\",\"shape\":[75]},\"y\":{\"__ndarray__\":\"GhExyth1ND/Sv8nbtpRIP2vylNV0PVE/aTum7souWD/At0SJ8fVgPw3Iuahxymc/MSNhhJWvcD/bTfBN02d3P2zb5nxnaoA/CD5h5MAGhz8NmeH1TyaQP+zrCsc9p5Y/LbKd76fGnz/bLW5ISEmmPww9YvTcQq8/JV2OstnstT8Er5Y7M8G+P0c+r3jqkcU/5h99k6ZBzj88bCIzFzjVP4enV8oyxN0//yH99nXg5D8qOpLLf0jtP5kqGJXUifQ/c9cS8kHP/D+/DpwzojQEQIEmwoanVwxA4lgXt9HgE0BSSZ2AJuIbQAMJih9jjiNA5q4l5INuK0AwTKYKRj0zQNv5fmq8/DpAaCJseHrtQkB/+zpwzoxKQM3MzMzMeFJAZmZmZmZqWEAAAAAAAFxeQM3MzMzMJmJAmpmZmZkfZUBmZmZmZhhoQDMzMzMzEWtAAAAAAAAKbkBmZmZmZoFwQM3MzMzM/XFAMzMzMzN6c0CamZmZmfZ0QAAAAAAAc3ZAZmZmZmbvd0DNzMzMzGt5QDMzMzMz6HpAmpmZmZlkfEAAAAAAAOF9QGZmZmZmXX9AZmZmZuZsgECamZmZGSuBQM3MzMxM6YFAAAAAAICngkAzMzMzs2WDQGZmZmbmI4RAmpmZmRnihEDNzMzMTKCFQAAAAACAXoZAMzMzM7Mch0BmZmZm5tqHQJqZmZkZmYhAzczMzExXiUAAAAAAgBWKQDMzMzOz04pAZmZmZuaRi0CamZmZGVCMQM3MzMxMDo1AAAAAAIDMjUAzMzMzs4qOQGZmZmbmSI9A\",\"dtype\":\"float64\",\"shape\":[75]}},\"selected\":{\"id\":\"34b6d2c8-734e-4ab5-a3df-4e94b2dc2037\",\"type\":\"Selection\"},\"selection_policy\":{\"id\":\"cc3e99b7-4feb-4c3b-b0b5-2e42f56430f4\",\"type\":\"UnionRenderers\"}},\"id\":\"9d29596a-f3dd-444f-8b2a-1376f2e6aaf6\",\"type\":\"ColumnDataSource\"},{\"attributes\":{},\"id\":\"1a1b1db3-d82b-4228-ad36-c67eaecedff6\",\"type\":\"BasicTicker\"},{\"attributes\":{\"line_color\":\"#4daf4a\",\"line_width\":1.5,\"x\":{\"field\":\"x\"},\"y\":{\"field\":\"y\"}},\"id\":\"2d52a16c-1d3b-4ad5-a617-f7bbaf3cdf1e\",\"type\":\"Line\"},{\"attributes\":{\"source\":{\"id\":\"9d29596a-f3dd-444f-8b2a-1376f2e6aaf6\",\"type\":\"ColumnDataSource\"}},\"id\":\"dfc0366e-5f1f-4385-bdec-0a1d3f60655d\",\"type\":\"CDSView\"},{\"attributes\":{\"line_alpha\":0.1,\"line_color\":\"#1f77b4\",\"line_width\":3,\"x\":{\"field\":\"x\"},\"y\":{\"field\":\"y\"}},\"id\":\"710f4a1b-d369-40cb-a7a8-e976878f60ef\",\"type\":\"Line\"},{\"attributes\":{\"fill_alpha\":{\"value\":0.1},\"fill_color\":{\"value\":\"#1f77b4\"},\"line_alpha\":{\"value\":0.1},\"line_color\":{\"value\":\"#1f77b4\"},\"x\":{\"field\":\"x\"},\"y\":{\"field\":\"y\"}},\"id\":\"df528181-7b29-4c34-9af8-6d6465c43985\",\"type\":\"Triangle\"},{\"attributes\":{\"bottom_units\":\"screen\",\"fill_alpha\":{\"value\":0.5},\"fill_color\":{\"value\":\"lightgrey\"},\"left_units\":\"screen\",\"level\":\"overlay\",\"line_alpha\":{\"value\":1.0},\"line_color\":{\"value\":\"black\"},\"line_dash\":[4,4],\"line_width\":{\"value\":2},\"plot\":null,\"render_mode\":\"css\",\"right_units\":\"screen\",\"top_units\":\"screen\"},\"id\":\"08bc6dd8-a0c4-4ec0-ad7e-deed25740bed\",\"type\":\"BoxAnnotation\"},{\"attributes\":{\"axis_label\":\"cooling rate [K/day]\",\"formatter\":{\"id\":\"0a626235-210f-4f80-a4e8-3a108ef6cfa6\",\"type\":\"BasicTickFormatter\"},\"plot\":{\"id\":\"87a88f0d-a26a-4150-bd70-0cd2fdd2fedc\",\"subtype\":\"Figure\",\"type\":\"Plot\"},\"ticker\":{\"id\":\"c6e95dfc-d07f-4b4c-80d9-a513689ffbfd\",\"type\":\"BasicTicker\"}},\"id\":\"4a6b8214-4747-42aa-a3cc-024e48fc8f02\",\"type\":\"LinearAxis\"},{\"attributes\":{\"fill_alpha\":{\"value\":0.7},\"fill_color\":{\"value\":\"#984ea3\"},\"line_alpha\":{\"value\":0.7},\"line_color\":{\"value\":\"#984ea3\"},\"x\":{\"field\":\"x\"},\"y\":{\"field\":\"y\"}},\"id\":\"2ac367fd-060b-47f8-8973-76b40e68cd58\",\"type\":\"Square\"},{\"attributes\":{},\"id\":\"c6e95dfc-d07f-4b4c-80d9-a513689ffbfd\",\"type\":\"BasicTicker\"},{\"attributes\":{\"fill_alpha\":{\"value\":0.1},\"fill_color\":{\"value\":\"#1f77b4\"},\"line_alpha\":{\"value\":0.1},\"line_color\":{\"value\":\"#1f77b4\"},\"x\":{\"field\":\"x\"},\"y\":{\"field\":\"y\"}},\"id\":\"91a52783-4abe-4f99-bec7-8ee4536ef978\",\"type\":\"Square\"},{\"attributes\":{\"axis_label\":\"pressure [mb]\",\"formatter\":{\"id\":\"a8f5ef42-6036-4064-bbf6-a7e2cc869792\",\"type\":\"BasicTickFormatter\"},\"plot\":{\"id\":\"87a88f0d-a26a-4150-bd70-0cd2fdd2fedc\",\"subtype\":\"Figure\",\"type\":\"Plot\"},\"ticker\":{\"id\":\"1a1b1db3-d82b-4228-ad36-c67eaecedff6\",\"type\":\"BasicTicker\"}},\"id\":\"6c9b6de9-dab9-48db-81dc-9769316226d6\",\"type\":\"LinearAxis\"},{\"attributes\":{\"data_source\":{\"id\":\"9d29596a-f3dd-444f-8b2a-1376f2e6aaf6\",\"type\":\"ColumnDataSource\"},\"glyph\":{\"id\":\"7f216faa-1821-4f48-87f9-a5c120afd69c\",\"type\":\"Line\"},\"hover_glyph\":null,\"muted_glyph\":null,\"nonselection_glyph\":{\"id\":\"710f4a1b-d369-40cb-a7a8-e976878f60ef\",\"type\":\"Line\"},\"selection_glyph\":null,\"view\":{\"id\":\"dfc0366e-5f1f-4385-bdec-0a1d3f60655d\",\"type\":\"CDSView\"}},\"id\":\"5b78b720-ce51-40c2-a226-799952f9cef1\",\"type\":\"GlyphRenderer\"},{\"attributes\":{\"fill_alpha\":{\"value\":0.1},\"fill_color\":{\"value\":\"#1f77b4\"},\"line_alpha\":{\"value\":0.1},\"line_color\":{\"value\":\"#1f77b4\"},\"x\":{\"field\":\"x\"},\"y\":{\"field\":\"y\"}},\"id\":\"1a01fbb3-d2bd-455f-b164-9bd9e82772fe\",\"type\":\"Circle\"},{\"attributes\":{\"data_source\":{\"id\":\"45f2aa67-edd3-417b-ae17-19d9367da163\",\"type\":\"ColumnDataSource\"},\"glyph\":{\"id\":\"ee759ff7-c244-44aa-abdf-38ca90c92001\",\"type\":\"Triangle\"},\"hover_glyph\":null,\"muted_glyph\":null,\"nonselection_glyph\":{\"id\":\"df528181-7b29-4c34-9af8-6d6465c43985\",\"type\":\"Triangle\"},\"selection_glyph\":null,\"view\":{\"id\":\"0e721d5a-b404-4bb0-baa7-14eeece06d5b\",\"type\":\"CDSView\"}},\"id\":\"2c948507-2f87-4923-8dca-0b58cedf67cd\",\"type\":\"GlyphRenderer\"},{\"attributes\":{\"plot\":{\"id\":\"87a88f0d-a26a-4150-bd70-0cd2fdd2fedc\",\"subtype\":\"Figure\",\"type\":\"Plot\"},\"ticker\":{\"id\":\"c6e95dfc-d07f-4b4c-80d9-a513689ffbfd\",\"type\":\"BasicTicker\"}},\"id\":\"56f0e38c-5b01-42a5-8e23-378a3ec5a1c3\",\"type\":\"Grid\"},{\"attributes\":{\"fill_alpha\":{\"value\":0.7},\"fill_color\":{\"value\":\"#377eb8\"},\"line_alpha\":{\"value\":0.7},\"line_color\":{\"value\":\"#377eb8\"},\"x\":{\"field\":\"x\"},\"y\":{\"field\":\"y\"}},\"id\":\"ee759ff7-c244-44aa-abdf-38ca90c92001\",\"type\":\"Triangle\"},{\"attributes\":{\"callback\":null,\"data\":{\"x\":{\"__ndarray__\":\"aANbJn1B9j6eOD6+6EAAP9VN/k4P5As/aeDEC+DWFD/6aAstBuYcP3Ut+VYmJyM/XD66owuiKD/jVAqBpQEvP3pbaGHeNjM/UDbTJzOKNz+bwtHCtZY8P0kcOeBoP0E/9prPFt+yRD8XxhiDR05IP+knDfiQo0s/mM8eJOEQTz+ki05QqohRP5okvqWo61M/7kF2ievSVj8eDZZXVm1aP3OhrknJv14/eZm4yIoQYD9L7qDwWgRdP3h8IfozUFk/fDqIqS5RVj+N2aGAPqhTPzmwvdP7BlE/QoNSghvpTT8xUaK8hg1MP0wvaBsjxEo/zJcpzqH0Rz8+30IE6TpDP7TCsLYWvkE/KQ47a/J2Rj9+PDMASitKP39k0BqhwUc/azMssZnCOz+7gjqELSIXv23tXWKafka/Jqy1wgB6VL/bni4ABQZdv2ZRVA0teGK/OM6ylh4nZr8SGwaM4pdpvzg93XUFhmy/nW+kadklbb9V4Vrj77tqv7sFKbC0F2e//YMdBsBmY79se5s8dYVfv0bZRVOpWVi/r2HgWmFKUb9ADLpby7VEvxBXKeGrlCy/beJ76yYaKD9SHQcqF61CP1N6JUMdqU4/IyhuPGfpVD+FtH2BPQNaP5LoyD6Gll4/VpOMxbtPYT/j7frpHBNjP02TLy+bnGQ/p88+8cT1ZT/IC/WszidnP8B2PGd8OGg/yluz7gYlaT/EGpkNU9dpP7DGhb6VF2o/IVRdS76VaT/c7irKeihoP6d/wO/VAWY/jzZgab+CYz9w3tSQzPRgP/b2+Ty+9Vw/\",\"dtype\":\"float64\",\"shape\":[75]},\"y\":{\"__ndarray__\":\"GhExyth1ND/Sv8nbtpRIP2vylNV0PVE/aTum7souWD/At0SJ8fVgPw3Iuahxymc/MSNhhJWvcD/bTfBN02d3P2zb5nxnaoA/CD5h5MAGhz8NmeH1TyaQP+zrCsc9p5Y/LbKd76fGnz/bLW5ISEmmPww9YvTcQq8/JV2OstnstT8Er5Y7M8G+P0c+r3jqkcU/5h99k6ZBzj88bCIzFzjVP4enV8oyxN0//yH99nXg5D8qOpLLf0jtP5kqGJXUifQ/c9cS8kHP/D+/DpwzojQEQIEmwoanVwxA4lgXt9HgE0BSSZ2AJuIbQAMJih9jjiNA5q4l5INuK0AwTKYKRj0zQNv5fmq8/DpAaCJseHrtQkB/+zpwzoxKQM3MzMzMeFJAZmZmZmZqWEAAAAAAAFxeQM3MzMzMJmJAmpmZmZkfZUBmZmZmZhhoQDMzMzMzEWtAAAAAAAAKbkBmZmZmZoFwQM3MzMzM/XFAMzMzMzN6c0CamZmZmfZ0QAAAAAAAc3ZAZmZmZmbvd0DNzMzMzGt5QDMzMzMz6HpAmpmZmZlkfEAAAAAAAOF9QGZmZmZmXX9AZmZmZuZsgECamZmZGSuBQM3MzMxM6YFAAAAAAICngkAzMzMzs2WDQGZmZmbmI4RAmpmZmRnihEDNzMzMTKCFQAAAAACAXoZAMzMzM7Mch0BmZmZm5tqHQJqZmZkZmYhAzczMzExXiUAAAAAAgBWKQDMzMzOz04pAZmZmZuaRi0CamZmZGVCMQM3MzMxMDo1AAAAAAIDMjUAzMzMzs4qOQGZmZmbmSI9A\",\"dtype\":\"float64\",\"shape\":[75]}},\"selected\":{\"id\":\"cd902b4d-ec90-4668-8e2e-ce7351350496\",\"type\":\"Selection\"},\"selection_policy\":{\"id\":\"5a00508e-4eb4-45cc-be69-a2c57429aa95\",\"type\":\"UnionRenderers\"}},\"id\":\"bff101d8-53da-4f4d-ba8c-cdf5aef77c29\",\"type\":\"ColumnDataSource\"},{\"attributes\":{\"source\":{\"id\":\"45f2aa67-edd3-417b-ae17-19d9367da163\",\"type\":\"ColumnDataSource\"}},\"id\":\"0e721d5a-b404-4bb0-baa7-14eeece06d5b\",\"type\":\"CDSView\"},{\"attributes\":{\"line_alpha\":0.3,\"line_color\":\"#377eb8\",\"line_width\":2,\"x\":{\"field\":\"x\"},\"y\":{\"field\":\"y\"}},\"id\":\"5cde83fb-4e21-44f0-ba7e-bcc9053f74a0\",\"type\":\"Line\"},{\"attributes\":{\"children\":[{\"id\":\"080d2e88-e5ec-45c0-817c-2cb660aca132\",\"type\":\"Row\"}]},\"id\":\"5fe42824-06f4-41f6-96f4-44996c2b9257\",\"type\":\"Column\"},{\"attributes\":{\"line_alpha\":0.1,\"line_color\":\"#1f77b4\",\"line_width\":2,\"x\":{\"field\":\"x\"},\"y\":{\"field\":\"y\"}},\"id\":\"990fc2f3-3da0-4797-944b-337343b6e258\",\"type\":\"Line\"},{\"attributes\":{\"data_source\":{\"id\":\"bff101d8-53da-4f4d-ba8c-cdf5aef77c29\",\"type\":\"ColumnDataSource\"},\"glyph\":{\"id\":\"5cde83fb-4e21-44f0-ba7e-bcc9053f74a0\",\"type\":\"Line\"},\"hover_glyph\":null,\"muted_glyph\":null,\"nonselection_glyph\":{\"id\":\"990fc2f3-3da0-4797-944b-337343b6e258\",\"type\":\"Line\"},\"selection_glyph\":null,\"view\":{\"id\":\"d0494f1d-b861-4bf5-95e4-5e73d8d5f517\",\"type\":\"CDSView\"}},\"id\":\"9fb6e616-270b-47df-9235-0653bb20fac9\",\"type\":\"GlyphRenderer\"},{\"attributes\":{\"source\":{\"id\":\"bff101d8-53da-4f4d-ba8c-cdf5aef77c29\",\"type\":\"ColumnDataSource\"}},\"id\":\"d0494f1d-b861-4bf5-95e4-5e73d8d5f517\",\"type\":\"CDSView\"},{\"attributes\":{\"plot\":null,\"text\":\"\"},\"id\":\"ea808872-3ff1-467e-a003-532a0f1668b1\",\"type\":\"Title\"},{\"attributes\":{\"children\":[{\"id\":\"87a88f0d-a26a-4150-bd70-0cd2fdd2fedc\",\"subtype\":\"Figure\",\"type\":\"Plot\"},{\"id\":\"94de4fd2-5586-4764-a9fd-7d1b5e2e1dee\",\"subtype\":\"Figure\",\"type\":\"Plot\"}]},\"id\":\"080d2e88-e5ec-45c0-817c-2cb660aca132\",\"type\":\"Row\"},{\"attributes\":{\"label\":{\"value\":\"CRD\"},\"renderers\":[{\"id\":\"0393a403-7d80-4dc4-9f96-ba5375b7b447\",\"type\":\"GlyphRenderer\"},{\"id\":\"8604e895-cadc-474e-b42c-a6d0754ebce1\",\"type\":\"GlyphRenderer\"}]},\"id\":\"81a747d8-2095-40ee-9994-846f70a034dd\",\"type\":\"LegendItem\"},{\"attributes\":{},\"id\":\"57edbaf0-d7c7-40c6-b566-1e878687357b\",\"type\":\"UnionRenderers\"},{\"attributes\":{\"label\":{\"value\":\"WGT igg=1\"},\"renderers\":[{\"id\":\"3440ae72-0176-4bea-9f27-92f878a77cbb\",\"type\":\"GlyphRenderer\"},{\"id\":\"5b78b720-ce51-40c2-a226-799952f9cef1\",\"type\":\"GlyphRenderer\"}]},\"id\":\"6aa4de4b-b646-44ab-add6-3852d6595db8\",\"type\":\"LegendItem\"},{\"attributes\":{},\"id\":\"dfb79b4e-a3df-4887-adad-ea430112674f\",\"type\":\"Selection\"},{\"attributes\":{\"label\":{\"value\":\"WGT igg=10\"},\"renderers\":[{\"id\":\"2c948507-2f87-4923-8dca-0b58cedf67cd\",\"type\":\"GlyphRenderer\"},{\"id\":\"9fb6e616-270b-47df-9235-0653bb20fac9\",\"type\":\"GlyphRenderer\"}]},\"id\":\"32bded84-42ee-4ec6-b514-b580811370a7\",\"type\":\"LegendItem\"},{\"attributes\":{},\"id\":\"fe020cdb-7d7d-4e8d-b1f4-73988653add2\",\"type\":\"UnionRenderers\"},{\"attributes\":{},\"id\":\"a8f5ef42-6036-4064-bbf6-a7e2cc869792\",\"type\":\"BasicTickFormatter\"},{\"attributes\":{\"above\":[{\"id\":\"a381f702-b3d4-45bc-9d35-ff97ed5994a3\",\"type\":\"Legend\"}],\"below\":[{\"id\":\"4a6b8214-4747-42aa-a3cc-024e48fc8f02\",\"type\":\"LinearAxis\"}],\"left\":[{\"id\":\"6c9b6de9-dab9-48db-81dc-9769316226d6\",\"type\":\"LinearAxis\"}],\"plot_height\":500,\"plot_width\":400,\"renderers\":[{\"id\":\"4a6b8214-4747-42aa-a3cc-024e48fc8f02\",\"type\":\"LinearAxis\"},{\"id\":\"56f0e38c-5b01-42a5-8e23-378a3ec5a1c3\",\"type\":\"Grid\"},{\"id\":\"6c9b6de9-dab9-48db-81dc-9769316226d6\",\"type\":\"LinearAxis\"},{\"id\":\"7bf60ea7-f160-4bb3-bee4-491aa85f1390\",\"type\":\"Grid\"},{\"id\":\"08bc6dd8-a0c4-4ec0-ad7e-deed25740bed\",\"type\":\"BoxAnnotation\"},{\"id\":\"99498f71-56e1-4d78-9946-4d31c619f146\",\"type\":\"GlyphRenderer\"},{\"id\":\"6044f79c-a405-4cb3-a6af-0213b9f88b11\",\"type\":\"GlyphRenderer\"},{\"id\":\"085eba70-4975-4d74-8d76-370bed62b531\",\"type\":\"GlyphRenderer\"},{\"id\":\"1e2ce592-bb1e-4e75-9719-0c0706cc054f\",\"type\":\"GlyphRenderer\"},{\"id\":\"b0508fae-16fe-4069-b7f5-a90e9284f83a\",\"type\":\"GlyphRenderer\"},{\"id\":\"4d5ba164-9d51-4f7c-b5d5-77b7ec2e2ee9\",\"type\":\"GlyphRenderer\"},{\"id\":\"a381f702-b3d4-45bc-9d35-ff97ed5994a3\",\"type\":\"Legend\"}],\"title\":{\"id\":\"ea808872-3ff1-467e-a003-532a0f1668b1\",\"type\":\"Title\"},\"toolbar\":{\"id\":\"924ff186-862a-424a-a840-b3cb3f39d342\",\"type\":\"Toolbar\"},\"toolbar_location\":null,\"x_range\":{\"id\":\"b2c253e8-c150-46d9-9765-267cedf067aa\",\"type\":\"Range1d\"},\"x_scale\":{\"id\":\"40296337-df35-4a0e-be6e-cf7cbbfee4b9\",\"type\":\"LinearScale\"},\"y_range\":{\"id\":\"b685a120-186e-4581-8ea5-fb9549342733\",\"type\":\"Range1d\"},\"y_scale\":{\"id\":\"ef2b30dc-73c4-481b-9d7e-70bd2e1acd7b\",\"type\":\"LinearScale\"}},\"id\":\"87a88f0d-a26a-4150-bd70-0cd2fdd2fedc\",\"subtype\":\"Figure\",\"type\":\"Plot\"},{\"attributes\":{},\"id\":\"0a626235-210f-4f80-a4e8-3a108ef6cfa6\",\"type\":\"BasicTickFormatter\"},{\"attributes\":{},\"id\":\"919d5558-bfb9-4edc-8876-195e05667acc\",\"type\":\"Selection\"},{\"attributes\":{},\"id\":\"823d78d4-aa8d-4d91-8ddd-f74fe5274170\",\"type\":\"UnionRenderers\"},{\"attributes\":{},\"id\":\"0bc994e8-8831-444c-85bf-06cdb060a8b8\",\"type\":\"UnionRenderers\"},{\"attributes\":{},\"id\":\"8da9a7b8-3dfe-40de-b347-704f5f1b38b9\",\"type\":\"BasicTickFormatter\"},{\"attributes\":{},\"id\":\"e664f585-ad33-40de-a7e3-66ca1d3d771a\",\"type\":\"Selection\"},{\"attributes\":{\"ticker\":null},\"id\":\"6ec16074-8018-4de0-b89b-1434c355cf2e\",\"type\":\"LogTickFormatter\"},{\"attributes\":{},\"id\":\"c3906035-b34f-426c-8da4-8c77c036615c\",\"type\":\"Selection\"},{\"attributes\":{\"plot\":null,\"text\":\"\"},\"id\":\"341ea096-87d4-4b6e-a499-17f93399fe69\",\"type\":\"Title\"},{\"attributes\":{},\"id\":\"08bb36bb-9bf3-416b-acb1-531aaf472e63\",\"type\":\"UnionRenderers\"},{\"attributes\":{},\"id\":\"cc3e99b7-4feb-4c3b-b0b5-2e42f56430f4\",\"type\":\"UnionRenderers\"},{\"attributes\":{},\"id\":\"afc0e8b1-2522-4035-81a5-21d29a7201bd\",\"type\":\"Selection\"},{\"attributes\":{},\"id\":\"35cba835-fe73-4c6e-8887-24250c36eec8\",\"type\":\"UnionRenderers\"},{\"attributes\":{},\"id\":\"6d6ad9c7-b719-4fcd-976f-29286a5a4b15\",\"type\":\"UnionRenderers\"},{\"attributes\":{},\"id\":\"5a00508e-4eb4-45cc-be69-a2c57429aa95\",\"type\":\"UnionRenderers\"},{\"attributes\":{},\"id\":\"5aaec659-c232-49f2-be59-4fa56dfabe8d\",\"type\":\"Selection\"},{\"attributes\":{\"toolbar\":{\"id\":\"213fc598-f7c9-4269-a95c-763e68aeebaa\",\"type\":\"ProxyToolbar\"},\"toolbar_location\":\"above\"},\"id\":\"01cb861a-386b-4e2e-93f5-d41d647f78d3\",\"type\":\"ToolbarBox\"},{\"attributes\":{},\"id\":\"34b6d2c8-734e-4ab5-a3df-4e94b2dc2037\",\"type\":\"Selection\"},{\"attributes\":{},\"id\":\"da194b25-52fb-4a0c-8a0d-8fa9f167aee9\",\"type\":\"Selection\"},{\"attributes\":{\"children\":[{\"id\":\"01cb861a-386b-4e2e-93f5-d41d647f78d3\",\"type\":\"ToolbarBox\"},{\"id\":\"5fe42824-06f4-41f6-96f4-44996c2b9257\",\"type\":\"Column\"}]},\"id\":\"550205ac-23a8-4444-bf9f-e5bdba07ad28\",\"type\":\"Column\"},{\"attributes\":{},\"id\":\"cd902b4d-ec90-4668-8e2e-ce7351350496\",\"type\":\"Selection\"},{\"attributes\":{\"tools\":[{\"id\":\"b6792d42-c565-4375-9851-1c7e9ed5f161\",\"type\":\"PanTool\"},{\"id\":\"4780971d-e901-4f29-a9da-b5a31abde9d1\",\"type\":\"WheelZoomTool\"},{\"id\":\"13c2dd4f-a4b7-44f9-98dd-823524939f53\",\"type\":\"BoxZoomTool\"},{\"id\":\"f89c8821-dd51-4d17-8a0e-0668ed531cf3\",\"type\":\"SaveTool\"},{\"id\":\"ce43a4b0-c132-4932-b7d2-7a8b40b417ce\",\"type\":\"ResetTool\"},{\"id\":\"65faa4c4-03f2-4c9c-b5f0-28e5ecda7e85\",\"type\":\"HelpTool\"},{\"id\":\"95721529-ec5f-45c2-8322-d9d39597d856\",\"type\":\"PanTool\"},{\"id\":\"9dc9f70d-a360-4252-bb01-d24ae57516c6\",\"type\":\"WheelZoomTool\"},{\"id\":\"613d98c7-0b72-4428-bbaa-0140903b194a\",\"type\":\"BoxZoomTool\"},{\"id\":\"4ddc2c3f-671c-4acc-9b99-337787ceaf4f\",\"type\":\"SaveTool\"},{\"id\":\"c231bea3-7fc8-4a3f-9653-13a71b6b9150\",\"type\":\"ResetTool\"},{\"id\":\"d809a415-0683-4c7d-be17-72a7b86c6590\",\"type\":\"HelpTool\"}]},\"id\":\"213fc598-f7c9-4269-a95c-763e68aeebaa\",\"type\":\"ProxyToolbar\"},{\"attributes\":{\"axis_label\":\"cooling rate [K/day]\",\"formatter\":{\"id\":\"8da9a7b8-3dfe-40de-b347-704f5f1b38b9\",\"type\":\"BasicTickFormatter\"},\"plot\":{\"id\":\"94de4fd2-5586-4764-a9fd-7d1b5e2e1dee\",\"subtype\":\"Figure\",\"type\":\"Plot\"},\"ticker\":{\"id\":\"3c5e2f1e-d0c9-4f12-a453-46be04bbb98d\",\"type\":\"BasicTicker\"}},\"id\":\"b08d5a22-da3a-499e-8255-92d3caa5d33e\",\"type\":\"LinearAxis\"},{\"attributes\":{},\"id\":\"3c5e2f1e-d0c9-4f12-a453-46be04bbb98d\",\"type\":\"BasicTicker\"},{\"attributes\":{\"plot\":{\"id\":\"94de4fd2-5586-4764-a9fd-7d1b5e2e1dee\",\"subtype\":\"Figure\",\"type\":\"Plot\"},\"ticker\":{\"id\":\"3c5e2f1e-d0c9-4f12-a453-46be04bbb98d\",\"type\":\"BasicTicker\"}},\"id\":\"3e77831c-cdda-4ca7-ada4-13c2f602382c\",\"type\":\"Grid\"},{\"attributes\":{},\"id\":\"dd774f79-1081-49b5-ab2b-ae46a2603801\",\"type\":\"LogScale\"},{\"attributes\":{},\"id\":\"70fa04fc-8b8d-4c99-89c9-2fe71bc2bd21\",\"type\":\"LinearScale\"},{\"attributes\":{\"callback\":null,\"data\":{\"x\":{\"__ndarray__\":\"0IUJHWKxIb8octNqeTofvzDdUTKluhS/kgmUIrcS/74/4pm193f/PuqpDYqr+xk/6v4ZPbGpJz9wWG4NbRkyP2NFX3EydDk/MClog8sJQT/P+zhKjBdGPwdK7ce4BEw/svLeaG15UT9El56O2hRVP7ut0xWjX1g/tGiZPwG4Wz8MGxORQppfPyGo7fJzG2I/7H+PKbfnZD+17fl3RGBoPzB93DT+iGw/6rhbhyO+bT+vv5Eu6bBqP5+28d8vamc/Ammd/hU1ZT8VfgyB06djP/vsjxa4U2I/g6ySBDScYT8E0fmCtAxiP0s5BDNLp2I/sIGwOHwQYj+9Y6O143tfP243lCSHRFw/bdZyBSGCXT839DiLHHtdPwVgbZiizVo/CCseM+EyVj+5GpB2wFJNP+b18uhccDg/p9+NMd7SEr+9yXnOA5M/v/6E2HKCOU2/OjamEiPlVb8xrz0Zvmpev12R+4EiAmS/amg9pKoVZr+SSRsFR9Rjvy9DQB8cXGC/v/wr8sblWr/Dd6BeycZVv5tgvMa1+FC/+sRkCCqKSL9L90WJ5zo+v3XTF+F4USa/wDozZrc7ID9aRqwUBGI7Pym6XAE6J0c/ZNuSSSIeUD9cvzmUw11UP8V5omWJQFg/A/+LS8TAWz/PAAHteulePzWpQi566GA//Q5h1m1LYj9A4Lliw61jP5ixnwiUG2U/+coOedyTZj845rxQjvNnP5ljcArv1mg/Z6UyjXKlaD+WTl8f+gZnP9UtXtNTSWQ/1JcLN8UMYT/+ZkivK4FbP/9ImsGUD1U/\",\"dtype\":\"float64\",\"shape\":[75]},\"y\":{\"__ndarray__\":\"GhExyth1ND/Sv8nbtpRIP2vylNV0PVE/aTum7souWD/At0SJ8fVgPw3Iuahxymc/MSNhhJWvcD/bTfBN02d3P2zb5nxnaoA/CD5h5MAGhz8NmeH1TyaQP+zrCsc9p5Y/LbKd76fGnz/bLW5ISEmmPww9YvTcQq8/JV2OstnstT8Er5Y7M8G+P0c+r3jqkcU/5h99k6ZBzj88bCIzFzjVP4enV8oyxN0//yH99nXg5D8qOpLLf0jtP5kqGJXUifQ/c9cS8kHP/D+/DpwzojQEQIEmwoanVwxA4lgXt9HgE0BSSZ2AJuIbQAMJih9jjiNA5q4l5INuK0AwTKYKRj0zQNv5fmq8/DpAaCJseHrtQkB/+zpwzoxKQM3MzMzMeFJAZmZmZmZqWEAAAAAAAFxeQM3MzMzMJmJAmpmZmZkfZUBmZmZmZhhoQDMzMzMzEWtAAAAAAAAKbkBmZmZmZoFwQM3MzMzM/XFAMzMzMzN6c0CamZmZmfZ0QAAAAAAAc3ZAZmZmZmbvd0DNzMzMzGt5QDMzMzMz6HpAmpmZmZlkfEAAAAAAAOF9QGZmZmZmXX9AZmZmZuZsgECamZmZGSuBQM3MzMxM6YFAAAAAAICngkAzMzMzs2WDQGZmZmbmI4RAmpmZmRnihEDNzMzMTKCFQAAAAACAXoZAMzMzM7Mch0BmZmZm5tqHQJqZmZkZmYhAzczMzExXiUAAAAAAgBWKQDMzMzOz04pAZmZmZuaRi0CamZmZGVCMQM3MzMxMDo1AAAAAAIDMjUAzMzMzs4qOQGZmZmbmSI9A\",\"dtype\":\"float64\",\"shape\":[75]}},\"selected\":{\"id\":\"dfb79b4e-a3df-4887-adad-ea430112674f\",\"type\":\"Selection\"},\"selection_policy\":{\"id\":\"fe020cdb-7d7d-4e8d-b1f4-73988653add2\",\"type\":\"UnionRenderers\"}},\"id\":\"711a5cd0-a2f8-4177-992f-40fc1c3ffbc0\",\"type\":\"ColumnDataSource\"},{\"attributes\":{\"fill_alpha\":{\"value\":0.7},\"fill_color\":{\"value\":\"#4daf4a\"},\"line_alpha\":{\"value\":0.7},\"line_color\":{\"value\":\"#4daf4a\"},\"x\":{\"field\":\"x\"},\"y\":{\"field\":\"y\"}},\"id\":\"953d18cb-a1cd-45bb-98b2-36f122bc04fa\",\"type\":\"Circle\"},{\"attributes\":{\"fill_alpha\":{\"value\":0.1},\"fill_color\":{\"value\":\"#1f77b4\"},\"line_alpha\":{\"value\":0.1},\"line_color\":{\"value\":\"#1f77b4\"},\"x\":{\"field\":\"x\"},\"y\":{\"field\":\"y\"}},\"id\":\"f97aeced-eb58-4b4a-ab31-8b663e3095dc\",\"type\":\"Circle\"},{\"attributes\":{\"callback\":null,\"data\":{\"x\":{\"__ndarray__\":\"0IUJHWKxIb8octNqeTofvzDdUTKluhS/kgmUIrcS/74/4pm193f/PuqpDYqr+xk/6v4ZPbGpJz9wWG4NbRkyP2NFX3EydDk/MClog8sJQT/P+zhKjBdGPwdK7ce4BEw/svLeaG15UT9El56O2hRVP7ut0xWjX1g/tGiZPwG4Wz8MGxORQppfPyGo7fJzG2I/7H+PKbfnZD+17fl3RGBoPzB93DT+iGw/6rhbhyO+bT+vv5Eu6bBqP5+28d8vamc/Ammd/hU1ZT8VfgyB06djP/vsjxa4U2I/g6ySBDScYT8E0fmCtAxiP0s5BDNLp2I/sIGwOHwQYj+9Y6O143tfP243lCSHRFw/bdZyBSGCXT839DiLHHtdPwVgbZiizVo/CCseM+EyVj+5GpB2wFJNP+b18uhccDg/p9+NMd7SEr+9yXnOA5M/v/6E2HKCOU2/OjamEiPlVb8xrz0Zvmpev12R+4EiAmS/amg9pKoVZr+SSRsFR9Rjvy9DQB8cXGC/v/wr8sblWr/Dd6BeycZVv5tgvMa1+FC/+sRkCCqKSL9L90WJ5zo+v3XTF+F4USa/wDozZrc7ID9aRqwUBGI7Pym6XAE6J0c/ZNuSSSIeUD9cvzmUw11UP8V5omWJQFg/A/+LS8TAWz/PAAHteulePzWpQi566GA//Q5h1m1LYj9A4Lliw61jP5ixnwiUG2U/+coOedyTZj845rxQjvNnP5ljcArv1mg/Z6UyjXKlaD+WTl8f+gZnP9UtXtNTSWQ/1JcLN8UMYT/+ZkivK4FbP/9ImsGUD1U/\",\"dtype\":\"float64\",\"shape\":[75]},\"y\":{\"__ndarray__\":\"GhExyth1ND/Sv8nbtpRIP2vylNV0PVE/aTum7souWD/At0SJ8fVgPw3Iuahxymc/MSNhhJWvcD/bTfBN02d3P2zb5nxnaoA/CD5h5MAGhz8NmeH1TyaQP+zrCsc9p5Y/LbKd76fGnz/bLW5ISEmmPww9YvTcQq8/JV2OstnstT8Er5Y7M8G+P0c+r3jqkcU/5h99k6ZBzj88bCIzFzjVP4enV8oyxN0//yH99nXg5D8qOpLLf0jtP5kqGJXUifQ/c9cS8kHP/D+/DpwzojQEQIEmwoanVwxA4lgXt9HgE0BSSZ2AJuIbQAMJih9jjiNA5q4l5INuK0AwTKYKRj0zQNv5fmq8/DpAaCJseHrtQkB/+zpwzoxKQM3MzMzMeFJAZmZmZmZqWEAAAAAAAFxeQM3MzMzMJmJAmpmZmZkfZUBmZmZmZhhoQDMzMzMzEWtAAAAAAAAKbkBmZmZmZoFwQM3MzMzM/XFAMzMzMzN6c0CamZmZmfZ0QAAAAAAAc3ZAZmZmZmbvd0DNzMzMzGt5QDMzMzMz6HpAmpmZmZlkfEAAAAAAAOF9QGZmZmZmXX9AZmZmZuZsgECamZmZGSuBQM3MzMxM6YFAAAAAAICngkAzMzMzs2WDQGZmZmbmI4RAmpmZmRnihEDNzMzMTKCFQAAAAACAXoZAMzMzM7Mch0BmZmZm5tqHQJqZmZkZmYhAzczMzExXiUAAAAAAgBWKQDMzMzOz04pAZmZmZuaRi0CamZmZGVCMQM3MzMxMDo1AAAAAAIDMjUAzMzMzs4qOQGZmZmbmSI9A\",\"dtype\":\"float64\",\"shape\":[75]}},\"selected\":{\"id\":\"919d5558-bfb9-4edc-8876-195e05667acc\",\"type\":\"Selection\"},\"selection_policy\":{\"id\":\"823d78d4-aa8d-4d91-8ddd-f74fe5274170\",\"type\":\"UnionRenderers\"}},\"id\":\"ec014c1b-6ebf-4cdc-98d9-be74c825e0bc\",\"type\":\"ColumnDataSource\"},{\"attributes\":{\"fill_alpha\":{\"value\":0.1},\"fill_color\":{\"value\":\"#1f77b4\"},\"line_alpha\":{\"value\":0.1},\"line_color\":{\"value\":\"#1f77b4\"},\"x\":{\"field\":\"x\"},\"y\":{\"field\":\"y\"}},\"id\":\"e11c1b16-d09a-4635-a3c5-cb5f62fabf2b\",\"type\":\"Square\"},{\"attributes\":{\"callback\":null,\"data\":{\"x\":{\"__ndarray__\":\"oTS6CoN+Az/inoNC4rwJP4RJQw9t8RM/MKJxEwZQHD9VByhOzQojP18PgycxvSg/CF6wzIxeLz+/VNENX4kzP9bs8RjfBDg/QIeyHXc9PT+hDA0hV6pBP8w4TffyOUU/x+VrB7piST8DVjKUfbtNP8hXOtMP4FA/lNtc1xTxUj9PNJFO61pVPyXBTHkDPFg/zDdKMdO8Wz8AiTgzgAtgP3AoNgaop2I/xRpIfTSBYz+31cOGFKthP98ihWis+l4/QotIs8KEWz+Maxn8P39YP3gixDFkl1U/AZ06cH1BUz9WhFlwWH1SP94JfJm27FE/6fU3QQyWUD/NreSw4cxLP6AMgqMHjUk/YO+Esn6gTT+xqG6y165PP1Yp+Ka2IUs/4w/Jg4IIQD/WLG3Kd9MAv8R8/MtVP0S/T9Na3VnXUr/bmb1ATcxav2S3S/KOGWG/6N3PXrqfZL8HUPqkzQ9ov4mHp0OdLGu/NVRmdbTra7+C0u5U221pv1Hjlrm2vGW/9xlQ3QchYr+sS/9u101dv5OWVxjljFa/7y1Xc+3mT7+P3FnGzfpCv+xwF9TYZSm/PHJ8ONCzJz8JI8vL6rxBPyqwqU2c8kw/Qn9y6nuzUz+bnvq/33pYP9hEJlzow1w/VtxfDbVFYD94WtCVbu1hP7zdjtE6YWM/FCaSRESsZD/yfaV29dhlP+GFY0yw7mY/NRVB33/rZz+TRtqEOrdoP2o1CwjyEmk/0qp9jtShaD+OfelmKDJnP2nHM4Y++mQ/0Zjo85plYj+13m+044ZfP6WZw/X1alo/\",\"dtype\":\"float64\",\"shape\":[75]},\"y\":{\"__ndarray__\":\"GhExyth1ND/Sv8nbtpRIP2vylNV0PVE/aTum7souWD/At0SJ8fVgPw3Iuahxymc/MSNhhJWvcD/bTfBN02d3P2zb5nxnaoA/CD5h5MAGhz8NmeH1TyaQP+zrCsc9p5Y/LbKd76fGnz/bLW5ISEmmPww9YvTcQq8/JV2OstnstT8Er5Y7M8G+P0c+r3jqkcU/5h99k6ZBzj88bCIzFzjVP4enV8oyxN0//yH99nXg5D8qOpLLf0jtP5kqGJXUifQ/c9cS8kHP/D+/DpwzojQEQIEmwoanVwxA4lgXt9HgE0BSSZ2AJuIbQAMJih9jjiNA5q4l5INuK0AwTKYKRj0zQNv5fmq8/DpAaCJseHrtQkB/+zpwzoxKQM3MzMzMeFJAZmZmZmZqWEAAAAAAAFxeQM3MzMzMJmJAmpmZmZkfZUBmZmZmZhhoQDMzMzMzEWtAAAAAAAAKbkBmZmZmZoFwQM3MzMzM/XFAMzMzMzN6c0CamZmZmfZ0QAAAAAAAc3ZAZmZmZmbvd0DNzMzMzGt5QDMzMzMz6HpAmpmZmZlkfEAAAAAAAOF9QGZmZmZmXX9AZmZmZuZsgECamZmZGSuBQM3MzMxM6YFAAAAAAICngkAzMzMzs2WDQGZmZmbmI4RAmpmZmRnihEDNzMzMTKCFQAAAAACAXoZAMzMzM7Mch0BmZmZm5tqHQJqZmZkZmYhAzczMzExXiUAAAAAAgBWKQDMzMzOz04pAZmZmZuaRi0CamZmZGVCMQM3MzMxMDo1AAAAAAIDMjUAzMzMzs4qOQGZmZmbmSI9A\",\"dtype\":\"float64\",\"shape\":[75]}},\"selected\":{\"id\":\"eccf240f-fd95-41e7-8ef1-eb88e72c5ea4\",\"type\":\"Selection\"},\"selection_policy\":{\"id\":\"8bddc0e0-8b86-488a-89f2-1162b4a7efa7\",\"type\":\"UnionRenderers\"}},\"id\":\"e316be1b-2edb-4f86-b859-238db711a27d\",\"type\":\"ColumnDataSource\"},{\"attributes\":{\"data_source\":{\"id\":\"cd7a65f1-37cb-493b-8e7c-902c15043872\",\"type\":\"ColumnDataSource\"},\"glyph\":{\"id\":\"48c5077c-8ef2-4078-ada7-45913b4eac41\",\"type\":\"Line\"},\"hover_glyph\":null,\"muted_glyph\":null,\"nonselection_glyph\":{\"id\":\"b518f9af-a7bf-4c50-b5c7-1b7267388049\",\"type\":\"Line\"},\"selection_glyph\":null,\"view\":{\"id\":\"6ea5a0e0-7f40-4519-adf6-d5677ea4d699\",\"type\":\"CDSView\"}},\"id\":\"1e2ce592-bb1e-4e75-9719-0c0706cc054f\",\"type\":\"GlyphRenderer\"},{\"attributes\":{\"callback\":null,\"data\":{\"x\":{\"__ndarray__\":\"aANbJn1B9j6eOD6+6EAAP9VN/k4P5As/aeDEC+DWFD/6aAstBuYcP3Ut+VYmJyM/XD66owuiKD/jVAqBpQEvP3pbaGHeNjM/UDbTJzOKNz+bwtHCtZY8P0kcOeBoP0E/9prPFt+yRD8XxhiDR05IP+knDfiQo0s/mM8eJOEQTz+ki05QqohRP5okvqWo61M/7kF2ievSVj8eDZZXVm1aP3OhrknJv14/eZm4yIoQYD9L7qDwWgRdP3h8IfozUFk/fDqIqS5RVj+N2aGAPqhTPzmwvdP7BlE/QoNSghvpTT8xUaK8hg1MP0wvaBsjxEo/zJcpzqH0Rz8+30IE6TpDP7TCsLYWvkE/KQ47a/J2Rj9+PDMASitKP39k0BqhwUc/azMssZnCOz+7gjqELSIXv23tXWKafka/Jqy1wgB6VL/bni4ABQZdv2ZRVA0teGK/OM6ylh4nZr8SGwaM4pdpvzg93XUFhmy/nW+kadklbb9V4Vrj77tqv7sFKbC0F2e//YMdBsBmY79se5s8dYVfv0bZRVOpWVi/r2HgWmFKUb9ADLpby7VEvxBXKeGrlCy/beJ76yYaKD9SHQcqF61CP1N6JUMdqU4/IyhuPGfpVD+FtH2BPQNaP5LoyD6Gll4/VpOMxbtPYT/j7frpHBNjP02TLy+bnGQ/p88+8cT1ZT/IC/WszidnP8B2PGd8OGg/yluz7gYlaT/EGpkNU9dpP7DGhb6VF2o/IVRdS76VaT/c7irKeihoP6d/wO/VAWY/jzZgab+CYz9w3tSQzPRgP/b2+Ty+9Vw/\",\"dtype\":\"float64\",\"shape\":[75]},\"y\":{\"__ndarray__\":\"GhExyth1ND/Sv8nbtpRIP2vylNV0PVE/aTum7souWD/At0SJ8fVgPw3Iuahxymc/MSNhhJWvcD/bTfBN02d3P2zb5nxnaoA/CD5h5MAGhz8NmeH1TyaQP+zrCsc9p5Y/LbKd76fGnz/bLW5ISEmmPww9YvTcQq8/JV2OstnstT8Er5Y7M8G+P0c+r3jqkcU/5h99k6ZBzj88bCIzFzjVP4enV8oyxN0//yH99nXg5D8qOpLLf0jtP5kqGJXUifQ/c9cS8kHP/D+/DpwzojQEQIEmwoanVwxA4lgXt9HgE0BSSZ2AJuIbQAMJih9jjiNA5q4l5INuK0AwTKYKRj0zQNv5fmq8/DpAaCJseHrtQkB/+zpwzoxKQM3MzMzMeFJAZmZmZmZqWEAAAAAAAFxeQM3MzMzMJmJAmpmZmZkfZUBmZmZmZhhoQDMzMzMzEWtAAAAAAAAKbkBmZmZmZoFwQM3MzMzM/XFAMzMzMzN6c0CamZmZmfZ0QAAAAAAAc3ZAZmZmZmbvd0DNzMzMzGt5QDMzMzMz6HpAmpmZmZlkfEAAAAAAAOF9QGZmZmZmXX9AZmZmZuZsgECamZmZGSuBQM3MzMxM6YFAAAAAAICngkAzMzMzs2WDQGZmZmbmI4RAmpmZmRnihEDNzMzMTKCFQAAAAACAXoZAMzMzM7Mch0BmZmZm5tqHQJqZmZkZmYhAzczMzExXiUAAAAAAgBWKQDMzMzOz04pAZmZmZuaRi0CamZmZGVCMQM3MzMxMDo1AAAAAAIDMjUAzMzMzs4qOQGZmZmbmSI9A\",\"dtype\":\"float64\",\"shape\":[75]}},\"selected\":{\"id\":\"6d7fb23f-29b9-4906-83a4-cf1f83700a0a\",\"type\":\"Selection\"},\"selection_policy\":{\"id\":\"ae41b580-6029-4dc5-9f3c-2eede6e34b9d\",\"type\":\"UnionRenderers\"}},\"id\":\"5aa2dcf1-ea2e-4803-a515-3869c35f44c6\",\"type\":\"ColumnDataSource\"},{\"attributes\":{\"source\":{\"id\":\"cd7a65f1-37cb-493b-8e7c-902c15043872\",\"type\":\"ColumnDataSource\"}},\"id\":\"6ea5a0e0-7f40-4519-adf6-d5677ea4d699\",\"type\":\"CDSView\"},{\"attributes\":{\"line_alpha\":0.1,\"line_color\":\"#1f77b4\",\"line_width\":3,\"x\":{\"field\":\"x\"},\"y\":{\"field\":\"y\"}},\"id\":\"b518f9af-a7bf-4c50-b5c7-1b7267388049\",\"type\":\"Line\"},{\"attributes\":{\"data_source\":{\"id\":\"e316be1b-2edb-4f86-b859-238db711a27d\",\"type\":\"ColumnDataSource\"},\"glyph\":{\"id\":\"700936e1-d2d3-4dcf-a960-d3571ad04de8\",\"type\":\"Square\"},\"hover_glyph\":null,\"muted_glyph\":null,\"nonselection_glyph\":{\"id\":\"e11c1b16-d09a-4635-a3c5-cb5f62fabf2b\",\"type\":\"Square\"},\"selection_glyph\":null,\"view\":{\"id\":\"66c7605c-3944-43ac-87db-b6f6348e63c7\",\"type\":\"CDSView\"}},\"id\":\"085eba70-4975-4d74-8d76-370bed62b531\",\"type\":\"GlyphRenderer\"},{\"attributes\":{\"data_source\":{\"id\":\"711a5cd0-a2f8-4177-992f-40fc1c3ffbc0\",\"type\":\"ColumnDataSource\"},\"glyph\":{\"id\":\"8b546d05-8834-43f3-8580-996877c6686d\",\"type\":\"Line\"},\"hover_glyph\":null,\"muted_glyph\":null,\"nonselection_glyph\":{\"id\":\"8cace7bc-db06-4717-82cc-e9cb653d3966\",\"type\":\"Line\"},\"selection_glyph\":null,\"view\":{\"id\":\"4f80e92e-9e74-4e26-abeb-b39099f213fb\",\"type\":\"CDSView\"}},\"id\":\"6044f79c-a405-4cb3-a6af-0213b9f88b11\",\"type\":\"GlyphRenderer\"},{\"attributes\":{\"source\":{\"id\":\"5aa2dcf1-ea2e-4803-a515-3869c35f44c6\",\"type\":\"ColumnDataSource\"}},\"id\":\"524e00c1-8764-4cfa-9dac-332fded4bde9\",\"type\":\"CDSView\"},{\"attributes\":{\"data_source\":{\"id\":\"5aa2dcf1-ea2e-4803-a515-3869c35f44c6\",\"type\":\"ColumnDataSource\"},\"glyph\":{\"id\":\"10009634-cd6a-483f-83ba-f543d2acfba0\",\"type\":\"Triangle\"},\"hover_glyph\":null,\"muted_glyph\":null,\"nonselection_glyph\":{\"id\":\"fd994514-9f99-4fbb-af0e-184ecd6907e6\",\"type\":\"Triangle\"},\"selection_glyph\":null,\"view\":{\"id\":\"524e00c1-8764-4cfa-9dac-332fded4bde9\",\"type\":\"CDSView\"}},\"id\":\"b0508fae-16fe-4069-b7f5-a90e9284f83a\",\"type\":\"GlyphRenderer\"},{\"attributes\":{\"data_source\":{\"id\":\"081d3550-52b2-4895-aed1-35f1f9833f55\",\"type\":\"ColumnDataSource\"},\"glyph\":{\"id\":\"2d296d74-90a8-40d3-b241-d1bf770f95f3\",\"type\":\"Line\"},\"hover_glyph\":null,\"muted_glyph\":null,\"nonselection_glyph\":{\"id\":\"0c0de516-7ac1-48e4-b7f5-2a791e7259a1\",\"type\":\"Line\"},\"selection_glyph\":null,\"view\":{\"id\":\"310b9fd0-336a-43a4-b6f9-0e2ac6df4be5\",\"type\":\"CDSView\"}},\"id\":\"4d5ba164-9d51-4f7c-b5d5-77b7ec2e2ee9\",\"type\":\"GlyphRenderer\"},{\"attributes\":{\"fill_alpha\":{\"value\":0.7},\"fill_color\":{\"value\":\"#984ea3\"},\"line_alpha\":{\"value\":0.7},\"line_color\":{\"value\":\"#984ea3\"},\"x\":{\"field\":\"x\"},\"y\":{\"field\":\"y\"}},\"id\":\"700936e1-d2d3-4dcf-a960-d3571ad04de8\",\"type\":\"Square\"},{\"attributes\":{\"source\":{\"id\":\"711a5cd0-a2f8-4177-992f-40fc1c3ffbc0\",\"type\":\"ColumnDataSource\"}},\"id\":\"4f80e92e-9e74-4e26-abeb-b39099f213fb\",\"type\":\"CDSView\"},{\"attributes\":{\"line_alpha\":0.3,\"line_color\":\"#377eb8\",\"line_width\":2,\"x\":{\"field\":\"x\"},\"y\":{\"field\":\"y\"}},\"id\":\"2d296d74-90a8-40d3-b241-d1bf770f95f3\",\"type\":\"Line\"},{\"attributes\":{\"callback\":null,\"data\":{\"x\":{\"__ndarray__\":\"oTS6CoN+Az/inoNC4rwJP4RJQw9t8RM/MKJxEwZQHD9VByhOzQojP18PgycxvSg/CF6wzIxeLz+/VNENX4kzP9bs8RjfBDg/QIeyHXc9PT+hDA0hV6pBP8w4TffyOUU/x+VrB7piST8DVjKUfbtNP8hXOtMP4FA/lNtc1xTxUj9PNJFO61pVPyXBTHkDPFg/zDdKMdO8Wz8AiTgzgAtgP3AoNgaop2I/xRpIfTSBYz+31cOGFKthP98ihWis+l4/QotIs8KEWz+Maxn8P39YP3gixDFkl1U/AZ06cH1BUz9WhFlwWH1SP94JfJm27FE/6fU3QQyWUD/NreSw4cxLP6AMgqMHjUk/YO+Esn6gTT+xqG6y165PP1Yp+Ka2IUs/4w/Jg4IIQD/WLG3Kd9MAv8R8/MtVP0S/T9Na3VnXUr/bmb1ATcxav2S3S/KOGWG/6N3PXrqfZL8HUPqkzQ9ov4mHp0OdLGu/NVRmdbTra7+C0u5U221pv1Hjlrm2vGW/9xlQ3QchYr+sS/9u101dv5OWVxjljFa/7y1Xc+3mT7+P3FnGzfpCv+xwF9TYZSm/PHJ8ONCzJz8JI8vL6rxBPyqwqU2c8kw/Qn9y6nuzUz+bnvq/33pYP9hEJlzow1w/VtxfDbVFYD94WtCVbu1hP7zdjtE6YWM/FCaSRESsZD/yfaV29dhlP+GFY0yw7mY/NRVB33/rZz+TRtqEOrdoP2o1CwjyEmk/0qp9jtShaD+OfelmKDJnP2nHM4Y++mQ/0Zjo85plYj+13m+044ZfP6WZw/X1alo/\",\"dtype\":\"float64\",\"shape\":[75]},\"y\":{\"__ndarray__\":\"GhExyth1ND/Sv8nbtpRIP2vylNV0PVE/aTum7souWD/At0SJ8fVgPw3Iuahxymc/MSNhhJWvcD/bTfBN02d3P2zb5nxnaoA/CD5h5MAGhz8NmeH1TyaQP+zrCsc9p5Y/LbKd76fGnz/bLW5ISEmmPww9YvTcQq8/JV2OstnstT8Er5Y7M8G+P0c+r3jqkcU/5h99k6ZBzj88bCIzFzjVP4enV8oyxN0//yH99nXg5D8qOpLLf0jtP5kqGJXUifQ/c9cS8kHP/D+/DpwzojQEQIEmwoanVwxA4lgXt9HgE0BSSZ2AJuIbQAMJih9jjiNA5q4l5INuK0AwTKYKRj0zQNv5fmq8/DpAaCJseHrtQkB/+zpwzoxKQM3MzMzMeFJAZmZmZmZqWEAAAAAAAFxeQM3MzMzMJmJAmpmZmZkfZUBmZmZmZhhoQDMzMzMzEWtAAAAAAAAKbkBmZmZmZoFwQM3MzMzM/XFAMzMzMzN6c0CamZmZmfZ0QAAAAAAAc3ZAZmZmZmbvd0DNzMzMzGt5QDMzMzMz6HpAmpmZmZlkfEAAAAAAAOF9QGZmZmZmXX9AZmZmZuZsgECamZmZGSuBQM3MzMxM6YFAAAAAAICngkAzMzMzs2WDQGZmZmbmI4RAmpmZmRnihEDNzMzMTKCFQAAAAACAXoZAMzMzM7Mch0BmZmZm5tqHQJqZmZkZmYhAzczMzExXiUAAAAAAgBWKQDMzMzOz04pAZmZmZuaRi0CamZmZGVCMQM3MzMxMDo1AAAAAAIDMjUAzMzMzs4qOQGZmZmbmSI9A\",\"dtype\":\"float64\",\"shape\":[75]}},\"selected\":{\"id\":\"09df5ef9-aa7c-42df-b2d8-02e39f50d774\",\"type\":\"Selection\"},\"selection_policy\":{\"id\":\"b0025510-1727-4518-91fc-743d3b864cdf\",\"type\":\"UnionRenderers\"}},\"id\":\"cd7a65f1-37cb-493b-8e7c-902c15043872\",\"type\":\"ColumnDataSource\"},{\"attributes\":{\"fill_alpha\":{\"value\":0.7},\"fill_color\":{\"value\":\"#377eb8\"},\"line_alpha\":{\"value\":0.7},\"line_color\":{\"value\":\"#377eb8\"},\"x\":{\"field\":\"x\"},\"y\":{\"field\":\"y\"}},\"id\":\"10009634-cd6a-483f-83ba-f543d2acfba0\",\"type\":\"Triangle\"},{\"attributes\":{\"callback\":null,\"data\":{\"x\":{\"__ndarray__\":\"0IUJHWKxIb8octNqeTofvzDdUTKluhS/kgmUIrcS/74/4pm193f/PuqpDYqr+xk/6v4ZPbGpJz9wWG4NbRkyP2NFX3EydDk/MClog8sJQT/P+zhKjBdGPwdK7ce4BEw/svLeaG15UT9El56O2hRVP7ut0xWjX1g/tGiZPwG4Wz8MGxORQppfPyGo7fJzG2I/7H+PKbfnZD+17fl3RGBoPzB93DT+iGw/6rhbhyO+bT+vv5Eu6bBqP5+28d8vamc/Ammd/hU1ZT8VfgyB06djP/vsjxa4U2I/g6ySBDScYT8E0fmCtAxiP0s5BDNLp2I/sIGwOHwQYj+9Y6O143tfP243lCSHRFw/bdZyBSGCXT839DiLHHtdPwVgbZiizVo/CCseM+EyVj+5GpB2wFJNP+b18uhccDg/p9+NMd7SEr+9yXnOA5M/v/6E2HKCOU2/OjamEiPlVb8xrz0Zvmpev12R+4EiAmS/amg9pKoVZr+SSRsFR9Rjvy9DQB8cXGC/v/wr8sblWr/Dd6BeycZVv5tgvMa1+FC/+sRkCCqKSL9L90WJ5zo+v3XTF+F4USa/wDozZrc7ID9aRqwUBGI7Pym6XAE6J0c/ZNuSSSIeUD9cvzmUw11UP8V5omWJQFg/A/+LS8TAWz/PAAHteulePzWpQi566GA//Q5h1m1LYj9A4Lliw61jP5ixnwiUG2U/+coOedyTZj845rxQjvNnP5ljcArv1mg/Z6UyjXKlaD+WTl8f+gZnP9UtXtNTSWQ/1JcLN8UMYT/+ZkivK4FbP/9ImsGUD1U/\",\"dtype\":\"float64\",\"shape\":[75]},\"y\":{\"__ndarray__\":\"GhExyth1ND/Sv8nbtpRIP2vylNV0PVE/aTum7souWD/At0SJ8fVgPw3Iuahxymc/MSNhhJWvcD/bTfBN02d3P2zb5nxnaoA/CD5h5MAGhz8NmeH1TyaQP+zrCsc9p5Y/LbKd76fGnz/bLW5ISEmmPww9YvTcQq8/JV2OstnstT8Er5Y7M8G+P0c+r3jqkcU/5h99k6ZBzj88bCIzFzjVP4enV8oyxN0//yH99nXg5D8qOpLLf0jtP5kqGJXUifQ/c9cS8kHP/D+/DpwzojQEQIEmwoanVwxA4lgXt9HgE0BSSZ2AJuIbQAMJih9jjiNA5q4l5INuK0AwTKYKRj0zQNv5fmq8/DpAaCJseHrtQkB/+zpwzoxKQM3MzMzMeFJAZmZmZmZqWEAAAAAAAFxeQM3MzMzMJmJAmpmZmZkfZUBmZmZmZhhoQDMzMzMzEWtAAAAAAAAKbkBmZmZmZoFwQM3MzMzM/XFAMzMzMzN6c0CamZmZmfZ0QAAAAAAAc3ZAZmZmZmbvd0DNzMzMzGt5QDMzMzMz6HpAmpmZmZlkfEAAAAAAAOF9QGZmZmZmXX9AZmZmZuZsgECamZmZGSuBQM3MzMxM6YFAAAAAAICngkAzMzMzs2WDQGZmZmbmI4RAmpmZmRnihEDNzMzMTKCFQAAAAACAXoZAMzMzM7Mch0BmZmZm5tqHQJqZmZkZmYhAzczMzExXiUAAAAAAgBWKQDMzMzOz04pAZmZmZuaRi0CamZmZGVCMQM3MzMxMDo1AAAAAAIDMjUAzMzMzs4qOQGZmZmbmSI9A\",\"dtype\":\"float64\",\"shape\":[75]}},\"selected\":{\"id\":\"afc0e8b1-2522-4035-81a5-21d29a7201bd\",\"type\":\"Selection\"},\"selection_policy\":{\"id\":\"08bb36bb-9bf3-416b-acb1-531aaf472e63\",\"type\":\"UnionRenderers\"}},\"id\":\"6429a500-a7c5-43bf-bb46-17347813ddf4\",\"type\":\"ColumnDataSource\"},{\"attributes\":{\"line_alpha\":0.1,\"line_color\":\"#1f77b4\",\"line_width\":2,\"x\":{\"field\":\"x\"},\"y\":{\"field\":\"y\"}},\"id\":\"0c0de516-7ac1-48e4-b7f5-2a791e7259a1\",\"type\":\"Line\"},{\"attributes\":{\"source\":{\"id\":\"e316be1b-2edb-4f86-b859-238db711a27d\",\"type\":\"ColumnDataSource\"}},\"id\":\"66c7605c-3944-43ac-87db-b6f6348e63c7\",\"type\":\"CDSView\"},{\"attributes\":{\"line_color\":\"#4daf4a\",\"line_width\":1.5,\"x\":{\"field\":\"x\"},\"y\":{\"field\":\"y\"}},\"id\":\"8b546d05-8834-43f3-8580-996877c6686d\",\"type\":\"Line\"},{\"attributes\":{\"above\":[{\"id\":\"9e03fc29-267b-4c92-b4e1-9c4b15da8124\",\"type\":\"Legend\"}],\"below\":[{\"id\":\"b08d5a22-da3a-499e-8255-92d3caa5d33e\",\"type\":\"LinearAxis\"}],\"left\":[{\"id\":\"b25477e9-577f-4d9e-acc0-a93c7adf2e90\",\"type\":\"LogAxis\"}],\"plot_height\":500,\"plot_width\":400,\"renderers\":[{\"id\":\"b08d5a22-da3a-499e-8255-92d3caa5d33e\",\"type\":\"LinearAxis\"},{\"id\":\"3e77831c-cdda-4ca7-ada4-13c2f602382c\",\"type\":\"Grid\"},{\"id\":\"b25477e9-577f-4d9e-acc0-a93c7adf2e90\",\"type\":\"LogAxis\"},{\"id\":\"500c053c-f675-4038-b642-fb819d9ca294\",\"type\":\"Grid\"},{\"id\":\"9e630a0a-90c7-46ab-bf0d-3f4fab45e29f\",\"type\":\"BoxAnnotation\"},{\"id\":\"0393a403-7d80-4dc4-9f96-ba5375b7b447\",\"type\":\"GlyphRenderer\"},{\"id\":\"8604e895-cadc-474e-b42c-a6d0754ebce1\",\"type\":\"GlyphRenderer\"},{\"id\":\"3440ae72-0176-4bea-9f27-92f878a77cbb\",\"type\":\"GlyphRenderer\"},{\"id\":\"5b78b720-ce51-40c2-a226-799952f9cef1\",\"type\":\"GlyphRenderer\"},{\"id\":\"2c948507-2f87-4923-8dca-0b58cedf67cd\",\"type\":\"GlyphRenderer\"},{\"id\":\"9fb6e616-270b-47df-9235-0653bb20fac9\",\"type\":\"GlyphRenderer\"},{\"id\":\"9e03fc29-267b-4c92-b4e1-9c4b15da8124\",\"type\":\"Legend\"}],\"title\":{\"id\":\"341ea096-87d4-4b6e-a499-17f93399fe69\",\"type\":\"Title\"},\"toolbar\":{\"id\":\"a3b6ca03-b88d-4157-a8ca-4c78345665f4\",\"type\":\"Toolbar\"},\"toolbar_location\":null,\"x_range\":{\"id\":\"f581fba5-7d96-4f01-8e40-20c14972fdc8\",\"type\":\"Range1d\"},\"x_scale\":{\"id\":\"70fa04fc-8b8d-4c99-89c9-2fe71bc2bd21\",\"type\":\"LinearScale\"},\"y_range\":{\"id\":\"7fbf1f9c-1098-4e0f-8efc-563f2badd558\",\"type\":\"Range1d\"},\"y_scale\":{\"id\":\"dd774f79-1081-49b5-ab2b-ae46a2603801\",\"type\":\"LogScale\"}},\"id\":\"94de4fd2-5586-4764-a9fd-7d1b5e2e1dee\",\"subtype\":\"Figure\",\"type\":\"Plot\"},{\"attributes\":{\"active_drag\":\"auto\",\"active_inspect\":\"auto\",\"active_scroll\":\"auto\",\"active_tap\":\"auto\",\"tools\":[{\"id\":\"95721529-ec5f-45c2-8322-d9d39597d856\",\"type\":\"PanTool\"},{\"id\":\"9dc9f70d-a360-4252-bb01-d24ae57516c6\",\"type\":\"WheelZoomTool\"},{\"id\":\"613d98c7-0b72-4428-bbaa-0140903b194a\",\"type\":\"BoxZoomTool\"},{\"id\":\"4ddc2c3f-671c-4acc-9b99-337787ceaf4f\",\"type\":\"SaveTool\"},{\"id\":\"c231bea3-7fc8-4a3f-9653-13a71b6b9150\",\"type\":\"ResetTool\"},{\"id\":\"d809a415-0683-4c7d-be17-72a7b86c6590\",\"type\":\"HelpTool\"}]},\"id\":\"a3b6ca03-b88d-4157-a8ca-4c78345665f4\",\"type\":\"Toolbar\"},{\"attributes\":{\"line_alpha\":0.1,\"line_color\":\"#1f77b4\",\"line_width\":1.5,\"x\":{\"field\":\"x\"},\"y\":{\"field\":\"y\"}},\"id\":\"8cace7bc-db06-4717-82cc-e9cb653d3966\",\"type\":\"Line\"},{\"attributes\":{\"fill_alpha\":{\"value\":0.1},\"fill_color\":{\"value\":\"#1f77b4\"},\"line_alpha\":{\"value\":0.1},\"line_color\":{\"value\":\"#1f77b4\"},\"x\":{\"field\":\"x\"},\"y\":{\"field\":\"y\"}},\"id\":\"fd994514-9f99-4fbb-af0e-184ecd6907e6\",\"type\":\"Triangle\"},{\"attributes\":{\"callback\":null,\"data\":{\"x\":{\"__ndarray__\":\"aANbJn1B9j6eOD6+6EAAP9VN/k4P5As/aeDEC+DWFD/6aAstBuYcP3Ut+VYmJyM/XD66owuiKD/jVAqBpQEvP3pbaGHeNjM/UDbTJzOKNz+bwtHCtZY8P0kcOeBoP0E/9prPFt+yRD8XxhiDR05IP+knDfiQo0s/mM8eJOEQTz+ki05QqohRP5okvqWo61M/7kF2ievSVj8eDZZXVm1aP3OhrknJv14/eZm4yIoQYD9L7qDwWgRdP3h8IfozUFk/fDqIqS5RVj+N2aGAPqhTPzmwvdP7BlE/QoNSghvpTT8xUaK8hg1MP0wvaBsjxEo/zJcpzqH0Rz8+30IE6TpDP7TCsLYWvkE/KQ47a/J2Rj9+PDMASitKP39k0BqhwUc/azMssZnCOz+7gjqELSIXv23tXWKafka/Jqy1wgB6VL/bni4ABQZdv2ZRVA0teGK/OM6ylh4nZr8SGwaM4pdpvzg93XUFhmy/nW+kadklbb9V4Vrj77tqv7sFKbC0F2e//YMdBsBmY79se5s8dYVfv0bZRVOpWVi/r2HgWmFKUb9ADLpby7VEvxBXKeGrlCy/beJ76yYaKD9SHQcqF61CP1N6JUMdqU4/IyhuPGfpVD+FtH2BPQNaP5LoyD6Gll4/VpOMxbtPYT/j7frpHBNjP02TLy+bnGQ/p88+8cT1ZT/IC/WszidnP8B2PGd8OGg/yluz7gYlaT/EGpkNU9dpP7DGhb6VF2o/IVRdS76VaT/c7irKeihoP6d/wO/VAWY/jzZgab+CYz9w3tSQzPRgP/b2+Ty+9Vw/\",\"dtype\":\"float64\",\"shape\":[75]},\"y\":{\"__ndarray__\":\"GhExyth1ND/Sv8nbtpRIP2vylNV0PVE/aTum7souWD/At0SJ8fVgPw3Iuahxymc/MSNhhJWvcD/bTfBN02d3P2zb5nxnaoA/CD5h5MAGhz8NmeH1TyaQP+zrCsc9p5Y/LbKd76fGnz/bLW5ISEmmPww9YvTcQq8/JV2OstnstT8Er5Y7M8G+P0c+r3jqkcU/5h99k6ZBzj88bCIzFzjVP4enV8oyxN0//yH99nXg5D8qOpLLf0jtP5kqGJXUifQ/c9cS8kHP/D+/DpwzojQEQIEmwoanVwxA4lgXt9HgE0BSSZ2AJuIbQAMJih9jjiNA5q4l5INuK0AwTKYKRj0zQNv5fmq8/DpAaCJseHrtQkB/+zpwzoxKQM3MzMzMeFJAZmZmZmZqWEAAAAAAAFxeQM3MzMzMJmJAmpmZmZkfZUBmZmZmZhhoQDMzMzMzEWtAAAAAAAAKbkBmZmZmZoFwQM3MzMzM/XFAMzMzMzN6c0CamZmZmfZ0QAAAAAAAc3ZAZmZmZmbvd0DNzMzMzGt5QDMzMzMz6HpAmpmZmZlkfEAAAAAAAOF9QGZmZmZmXX9AZmZmZuZsgECamZmZGSuBQM3MzMxM6YFAAAAAAICngkAzMzMzs2WDQGZmZmbmI4RAmpmZmRnihEDNzMzMTKCFQAAAAACAXoZAMzMzM7Mch0BmZmZm5tqHQJqZmZkZmYhAzczMzExXiUAAAAAAgBWKQDMzMzOz04pAZmZmZuaRi0CamZmZGVCMQM3MzMxMDo1AAAAAAIDMjUAzMzMzs4qOQGZmZmbmSI9A\",\"dtype\":\"float64\",\"shape\":[75]}},\"selected\":{\"id\":\"e664f585-ad33-40de-a7e3-66ca1d3d771a\",\"type\":\"Selection\"},\"selection_policy\":{\"id\":\"0bc994e8-8831-444c-85bf-06cdb060a8b8\",\"type\":\"UnionRenderers\"}},\"id\":\"081d3550-52b2-4895-aed1-35f1f9833f55\",\"type\":\"ColumnDataSource\"},{\"attributes\":{\"line_alpha\":0.6,\"line_color\":\"#984ea3\",\"line_width\":3,\"x\":{\"field\":\"x\"},\"y\":{\"field\":\"y\"}},\"id\":\"48c5077c-8ef2-4078-ada7-45913b4eac41\",\"type\":\"Line\"},{\"attributes\":{\"source\":{\"id\":\"081d3550-52b2-4895-aed1-35f1f9833f55\",\"type\":\"ColumnDataSource\"}},\"id\":\"310b9fd0-336a-43a4-b6f9-0e2ac6df4be5\",\"type\":\"CDSView\"},{\"attributes\":{\"label\":{\"value\":\"CRD\"},\"renderers\":[{\"id\":\"99498f71-56e1-4d78-9946-4d31c619f146\",\"type\":\"GlyphRenderer\"},{\"id\":\"6044f79c-a405-4cb3-a6af-0213b9f88b11\",\"type\":\"GlyphRenderer\"}]},\"id\":\"1adcd687-b047-4b6f-9b44-f0890f1c3710\",\"type\":\"LegendItem\"},{\"attributes\":{},\"id\":\"6d7fb23f-29b9-4906-83a4-cf1f83700a0a\",\"type\":\"Selection\"},{\"attributes\":{\"label\":{\"value\":\"WGT igg=1\"},\"renderers\":[{\"id\":\"085eba70-4975-4d74-8d76-370bed62b531\",\"type\":\"GlyphRenderer\"},{\"id\":\"1e2ce592-bb1e-4e75-9719-0c0706cc054f\",\"type\":\"GlyphRenderer\"}]},\"id\":\"3bb82f15-5c69-47bc-92b0-fb3fd9fab2fe\",\"type\":\"LegendItem\"},{\"attributes\":{\"callback\":null,\"end\":0.01,\"start\":1020},\"id\":\"7fbf1f9c-1098-4e0f-8efc-563f2badd558\",\"type\":\"Range1d\"},{\"attributes\":{\"label\":{\"value\":\"WGT igg=10\"},\"renderers\":[{\"id\":\"b0508fae-16fe-4069-b7f5-a90e9284f83a\",\"type\":\"GlyphRenderer\"},{\"id\":\"4d5ba164-9d51-4f7c-b5d5-77b7ec2e2ee9\",\"type\":\"GlyphRenderer\"}]},\"id\":\"948e3ca5-88b1-40e1-a4f7-dae23853c891\",\"type\":\"LegendItem\"},{\"attributes\":{},\"id\":\"95721529-ec5f-45c2-8322-d9d39597d856\",\"type\":\"PanTool\"},{\"attributes\":{\"items\":[{\"id\":\"81a747d8-2095-40ee-9994-846f70a034dd\",\"type\":\"LegendItem\"},{\"id\":\"6aa4de4b-b646-44ab-add6-3852d6595db8\",\"type\":\"LegendItem\"},{\"id\":\"32bded84-42ee-4ec6-b514-b580811370a7\",\"type\":\"LegendItem\"}],\"label_text_font_size\":{\"value\":\"8pt\"},\"location\":\"top_center\",\"orientation\":\"horizontal\",\"plot\":{\"id\":\"94de4fd2-5586-4764-a9fd-7d1b5e2e1dee\",\"subtype\":\"Figure\",\"type\":\"Plot\"}},\"id\":\"9e03fc29-267b-4c92-b4e1-9c4b15da8124\",\"type\":\"Legend\"},{\"attributes\":{\"source\":{\"id\":\"ec014c1b-6ebf-4cdc-98d9-be74c825e0bc\",\"type\":\"ColumnDataSource\"}},\"id\":\"de0ae51e-3cd8-4d8e-ac13-1cb000abcac9\",\"type\":\"CDSView\"},{\"attributes\":{\"bottom_units\":\"screen\",\"fill_alpha\":{\"value\":0.5},\"fill_color\":{\"value\":\"lightgrey\"},\"left_units\":\"screen\",\"level\":\"overlay\",\"line_alpha\":{\"value\":1.0},\"line_color\":{\"value\":\"black\"},\"line_dash\":[4,4],\"line_width\":{\"value\":2},\"plot\":null,\"render_mode\":\"css\",\"right_units\":\"screen\",\"top_units\":\"screen\"},\"id\":\"9e630a0a-90c7-46ab-bf0d-3f4fab45e29f\",\"type\":\"BoxAnnotation\"},{\"attributes\":{},\"id\":\"9dc9f70d-a360-4252-bb01-d24ae57516c6\",\"type\":\"WheelZoomTool\"},{\"attributes\":{\"overlay\":{\"id\":\"9e630a0a-90c7-46ab-bf0d-3f4fab45e29f\",\"type\":\"BoxAnnotation\"}},\"id\":\"613d98c7-0b72-4428-bbaa-0140903b194a\",\"type\":\"BoxZoomTool\"},{\"attributes\":{},\"id\":\"4ddc2c3f-671c-4acc-9b99-337787ceaf4f\",\"type\":\"SaveTool\"},{\"attributes\":{},\"id\":\"c231bea3-7fc8-4a3f-9653-13a71b6b9150\",\"type\":\"ResetTool\"},{\"attributes\":{},\"id\":\"d809a415-0683-4c7d-be17-72a7b86c6590\",\"type\":\"HelpTool\"},{\"attributes\":{},\"id\":\"ae41b580-6029-4dc5-9f3c-2eede6e34b9d\",\"type\":\"UnionRenderers\"},{\"attributes\":{\"fill_alpha\":{\"value\":0.7},\"fill_color\":{\"value\":\"#4daf4a\"},\"line_alpha\":{\"value\":0.7},\"line_color\":{\"value\":\"#4daf4a\"},\"x\":{\"field\":\"x\"},\"y\":{\"field\":\"y\"}},\"id\":\"e27c53ea-0ad0-4eda-b307-b410806c179e\",\"type\":\"Circle\"}],\"root_ids\":[\"550205ac-23a8-4444-bf9f-e5bdba07ad28\"]},\"title\":\"Bokeh Application\",\"version\":\"0.12.16\"}};\n",
       "  var render_items = [{\"docid\":\"fb24a562-f01c-42e7-978b-ef8bb6f99695\",\"elementid\":\"baf76e73-2405-435f-a877-7d9e5c4b6b54\",\"modelid\":\"550205ac-23a8-4444-bf9f-e5bdba07ad28\"}];\n",
       "  root.Bokeh.embed.embed_items_notebook(docs_json, render_items);\n",
       "\n",
       "  }\n",
       "  if (root.Bokeh !== undefined) {\n",
       "    embed_document(root);\n",
       "  } else {\n",
       "    var attempts = 0;\n",
       "    var timer = setInterval(function(root) {\n",
       "      if (root.Bokeh !== undefined) {\n",
       "        embed_document(root);\n",
       "        clearInterval(timer);\n",
       "      }\n",
       "      attempts++;\n",
       "      if (attempts > 100) {\n",
       "        console.log(\"Bokeh: ERROR: Unable to run BokehJS code because BokehJS library is missing\")\n",
       "        clearInterval(timer);\n",
       "      }\n",
       "    }, 10, root)\n",
       "  }\n",
       "})(window);"
      ],
      "application/vnd.bokehjs_exec.v0+json": ""
     },
     "metadata": {
      "application/vnd.bokehjs_exec.v0+json": {
       "id": "550205ac-23a8-4444-bf9f-e5bdba07ad28"
      }
     },
     "output_type": "display_data"
    },
    {
     "data": {
      "text/markdown": [
       "*FIGURE.* Cooling rates. g=2"
      ],
      "text/plain": [
       "<IPython.core.display.Markdown object>"
      ]
     },
     "metadata": {},
     "output_type": "display_data"
    },
    {
     "data": {
      "text/html": [
       "\n",
       "<div class=\"bk-root\">\n",
       "    <div class=\"bk-plotdiv\" id=\"0bc2348e-6e98-48ed-854b-e8baadab9473\"></div>\n",
       "</div>"
      ]
     },
     "metadata": {},
     "output_type": "display_data"
    },
    {
     "data": {
      "application/javascript": [
       "(function(root) {\n",
       "  function embed_document(root) {\n",
       "    \n",
       "  var docs_json = {\"cfea321e-9880-45e1-858f-c82805b3d823\":{\"roots\":{\"references\":[{\"attributes\":{\"callback\":null,\"data\":{\"x\":{\"__ndarray__\":\"gHZXzBrnzb5GjyZpemTMvps199uuQci+Z0iQi+Wxwr5MRGbJqeG2vksGh4OV3JC+rL921q6Usz5BXm2NOt3IPuIP+yRE9dU+T3B65yYB4T4k+lx5kafoPga/mKgLN/E+WdgabAB+9z75DWBYndX+Pjgb97iHVgM/mkJMIoYACD8LDXP2YDIOP7YzthVEUBM/RbY+jW0pGT9wjPBOyrMgPzXt3YU/YSY/t+9yAuB2Kj9RIAsb8TEqPzYll7A0HSg/InTFup0bJT9z6mg2yUIgP4fNgTjN9BA/AFcAi3Rn7b5NrlVo7Y4bv7UXOB8PiS2/3GOj8lwhOr/Vmd1jG91Ev0iwqenBS02/bdGSX/B9Ur+xMCav5YRWv9c/57HPI1u/oMph3oAiYL8QZFic5YZjv1p41YH3x2e/7npoZdtebL/fbSKfRaJwv3kWh6rNPHO/ZhK21ewFdr/NqSt6Q/x4vxTlGRcx3Hu/8b3mLUPJfL+wuY0/dnt6v5KH0AwTYna/L0Cf48Oucb/XDz0ikBZpv6x/xjt2Bly/K0S/VGPXMb/oDe9pMlJUP+gmH24PCmc/IamZv88icj+55Owg5dV4P69xyzjehX8/GvDA2x8Kgz8lMy2dTjOGP/KAcA2FMok/0k2xViz/iz/y5xjmvZeOP+eyMaxrf5A/KP0G69SckT8RvLLvsKeSPz6DRuNiopM/RhgggL2KlD/9CqsOP1OVPzJz+NkF2ZU/IAHeLYnmlT+LhMh/B1qVP8vrAgpnSpQ/PX+OGgnwkj9tRZgrTniRP30kCejc8o8/\",\"dtype\":\"float64\",\"shape\":[75]},\"y\":{\"__ndarray__\":\"GhExyth1ND/Sv8nbtpRIP2vylNV0PVE/aTum7souWD/At0SJ8fVgPw3Iuahxymc/MSNhhJWvcD/bTfBN02d3P2zb5nxnaoA/CD5h5MAGhz8NmeH1TyaQP+zrCsc9p5Y/LbKd76fGnz/bLW5ISEmmPww9YvTcQq8/JV2OstnstT8Er5Y7M8G+P0c+r3jqkcU/5h99k6ZBzj88bCIzFzjVP4enV8oyxN0//yH99nXg5D8qOpLLf0jtP5kqGJXUifQ/c9cS8kHP/D+/DpwzojQEQIEmwoanVwxA4lgXt9HgE0BSSZ2AJuIbQAMJih9jjiNA5q4l5INuK0AwTKYKRj0zQNv5fmq8/DpAaCJseHrtQkB/+zpwzoxKQM3MzMzMeFJAZmZmZmZqWEAAAAAAAFxeQM3MzMzMJmJAmpmZmZkfZUBmZmZmZhhoQDMzMzMzEWtAAAAAAAAKbkBmZmZmZoFwQM3MzMzM/XFAMzMzMzN6c0CamZmZmfZ0QAAAAAAAc3ZAZmZmZmbvd0DNzMzMzGt5QDMzMzMz6HpAmpmZmZlkfEAAAAAAAOF9QGZmZmZmXX9AZmZmZuZsgECamZmZGSuBQM3MzMxM6YFAAAAAAICngkAzMzMzs2WDQGZmZmbmI4RAmpmZmRnihEDNzMzMTKCFQAAAAACAXoZAMzMzM7Mch0BmZmZm5tqHQJqZmZkZmYhAzczMzExXiUAAAAAAgBWKQDMzMzOz04pAZmZmZuaRi0CamZmZGVCMQM3MzMxMDo1AAAAAAIDMjUAzMzMzs4qOQGZmZmbmSI9A\",\"dtype\":\"float64\",\"shape\":[75]}},\"selected\":{\"id\":\"8d414b78-ba1d-433f-885c-21789b1fdd68\",\"type\":\"Selection\"},\"selection_policy\":{\"id\":\"f7f167e7-385d-41d7-bd08-e6c9b63bd7d0\",\"type\":\"UnionRenderers\"}},\"id\":\"1acf281e-193b-4872-bb14-5cc593ac3232\",\"type\":\"ColumnDataSource\"},{\"attributes\":{\"line_alpha\":0.1,\"line_color\":\"#1f77b4\",\"line_width\":3,\"x\":{\"field\":\"x\"},\"y\":{\"field\":\"y\"}},\"id\":\"c40073dc-63e8-4dc1-b5f6-2542b9c6c054\",\"type\":\"Line\"},{\"attributes\":{\"line_alpha\":0.6,\"line_color\":\"#984ea3\",\"line_width\":3,\"x\":{\"field\":\"x\"},\"y\":{\"field\":\"y\"}},\"id\":\"a5638cef-60de-4b63-bcea-79ce43efce71\",\"type\":\"Line\"},{\"attributes\":{\"data_source\":{\"id\":\"eca8454b-10ea-42fe-97f0-0304b01e0651\",\"type\":\"ColumnDataSource\"},\"glyph\":{\"id\":\"a5638cef-60de-4b63-bcea-79ce43efce71\",\"type\":\"Line\"},\"hover_glyph\":null,\"muted_glyph\":null,\"nonselection_glyph\":{\"id\":\"c40073dc-63e8-4dc1-b5f6-2542b9c6c054\",\"type\":\"Line\"},\"selection_glyph\":null,\"view\":{\"id\":\"46978e85-c58e-45d6-a5c7-5fcfe18b958e\",\"type\":\"CDSView\"}},\"id\":\"3b83dfd9-7daf-4e58-bff9-ca1cd191ab86\",\"type\":\"GlyphRenderer\"},{\"attributes\":{},\"id\":\"25c513e2-ab8e-4908-a399-ff1e7441ebcb\",\"type\":\"WheelZoomTool\"},{\"attributes\":{\"callback\":null,\"data\":{\"x\":{\"__ndarray__\":\"XR3+VJzi0L6yJtDwS3bQvhuabHEOT86+6KrKIhSfyr61lPYtUKbFvszAuEWiML6+UWjzkmFSqr6aBi0WhXihPpvO+7FeXMI+NJo0x4Qc0j4BhBU5nIjdPrY9j23dG+Y+WyRG3L+V7z5faeh5p1f1PgubblW9P/s+AxojsgghAT99yZTEx8kFP1+EIKlxIww/tAPbkL57Ej/Qf4fgQ7gYP+9DCBDUqCA/aBz9f0KcIz+ghSvXovYiP5Iy0n/rrSA/Z1A97uzGGj/ydA73LIUQPx5uSpjmXMI+RYQ/LPC/FL9kpuSAzDMnv23vl3JlIDS/0jdjPDUcQL81ofsqDV5Iv/kmK5mz5FC/9XAaS+WgVb8uzv21+vpav/AwoQ22lGC/LrXzeMDOY79yIisUMXlnv+xVCE2Jomu/5ofkQBzfb7+Tjr6+4Bdyv9U2j8ytTHS/+0/NkOKPdr8op9372eB4v2jsY/e4BXu/HCj/eWt3e7/F3OKXQit5v4qcUblhSXW/l4VY+FjMcL8cM2gjua5nv0QB531G31m/oXEOTZYzJ7864nrfclhVP6fmNo7NT2c/LpZ8jZgpcj+1sVqkPsV4P8vNGUwhYn8/Jb6QVsDygj9Jhym/fBqGP4REtP/8HIk/A7oG6ITxiz9OxToTopWOP5fxOArlhJA/j7Wb7cWokT9srXEurLiSP1N5ZkLGtZM/zHniE5SdlD9/bZURK2SVPx+ZpLj+65U/rGayjMgIlj+hNw046J6VP4DYlUCRwZQ/80h8Ifafkz9bUYoj/WCSP0TnbyETGZE/\",\"dtype\":\"float64\",\"shape\":[75]},\"y\":{\"__ndarray__\":\"GhExyth1ND/Sv8nbtpRIP2vylNV0PVE/aTum7souWD/At0SJ8fVgPw3Iuahxymc/MSNhhJWvcD/bTfBN02d3P2zb5nxnaoA/CD5h5MAGhz8NmeH1TyaQP+zrCsc9p5Y/LbKd76fGnz/bLW5ISEmmPww9YvTcQq8/JV2OstnstT8Er5Y7M8G+P0c+r3jqkcU/5h99k6ZBzj88bCIzFzjVP4enV8oyxN0//yH99nXg5D8qOpLLf0jtP5kqGJXUifQ/c9cS8kHP/D+/DpwzojQEQIEmwoanVwxA4lgXt9HgE0BSSZ2AJuIbQAMJih9jjiNA5q4l5INuK0AwTKYKRj0zQNv5fmq8/DpAaCJseHrtQkB/+zpwzoxKQM3MzMzMeFJAZmZmZmZqWEAAAAAAAFxeQM3MzMzMJmJAmpmZmZkfZUBmZmZmZhhoQDMzMzMzEWtAAAAAAAAKbkBmZmZmZoFwQM3MzMzM/XFAMzMzMzN6c0CamZmZmfZ0QAAAAAAAc3ZAZmZmZmbvd0DNzMzMzGt5QDMzMzMz6HpAmpmZmZlkfEAAAAAAAOF9QGZmZmZmXX9AZmZmZuZsgECamZmZGSuBQM3MzMxM6YFAAAAAAICngkAzMzMzs2WDQGZmZmbmI4RAmpmZmRnihEDNzMzMTKCFQAAAAACAXoZAMzMzM7Mch0BmZmZm5tqHQJqZmZkZmYhAzczMzExXiUAAAAAAgBWKQDMzMzOz04pAZmZmZuaRi0CamZmZGVCMQM3MzMxMDo1AAAAAAIDMjUAzMzMzs4qOQGZmZmbmSI9A\",\"dtype\":\"float64\",\"shape\":[75]}},\"selected\":{\"id\":\"fa8505c1-c2a0-4edd-8b22-6f10a61af29c\",\"type\":\"Selection\"},\"selection_policy\":{\"id\":\"4fc7807f-6c6d-4cdd-b4c2-222fb879d6df\",\"type\":\"UnionRenderers\"}},\"id\":\"815960ac-267d-40bf-b113-e97efe60472d\",\"type\":\"ColumnDataSource\"},{\"attributes\":{\"fill_alpha\":{\"value\":0.1},\"fill_color\":{\"value\":\"#1f77b4\"},\"line_alpha\":{\"value\":0.1},\"line_color\":{\"value\":\"#1f77b4\"},\"x\":{\"field\":\"x\"},\"y\":{\"field\":\"y\"}},\"id\":\"44032ef9-dc98-420b-afcf-ceabac8683d8\",\"type\":\"Square\"},{\"attributes\":{},\"id\":\"fa8505c1-c2a0-4edd-8b22-6f10a61af29c\",\"type\":\"Selection\"},{\"attributes\":{\"source\":{\"id\":\"d5b93a0e-6789-4b73-9a0f-8b2f725b0841\",\"type\":\"ColumnDataSource\"}},\"id\":\"e86bdee9-9e15-41c7-986c-d1ba1afe8765\",\"type\":\"CDSView\"},{\"attributes\":{\"data_source\":{\"id\":\"d5b93a0e-6789-4b73-9a0f-8b2f725b0841\",\"type\":\"ColumnDataSource\"},\"glyph\":{\"id\":\"1e9b67d9-af32-4487-8290-b08d19ecb5c2\",\"type\":\"Line\"},\"hover_glyph\":null,\"muted_glyph\":null,\"nonselection_glyph\":{\"id\":\"2d41dc28-f345-475c-bddc-f4cb0b1d44c0\",\"type\":\"Line\"},\"selection_glyph\":null,\"view\":{\"id\":\"e86bdee9-9e15-41c7-986c-d1ba1afe8765\",\"type\":\"CDSView\"}},\"id\":\"6f552395-4054-40c9-a4d2-dda31cd31358\",\"type\":\"GlyphRenderer\"},{\"attributes\":{\"data_source\":{\"id\":\"1acf281e-193b-4872-bb14-5cc593ac3232\",\"type\":\"ColumnDataSource\"},\"glyph\":{\"id\":\"add289eb-e983-48d7-932f-633541acc729\",\"type\":\"Square\"},\"hover_glyph\":null,\"muted_glyph\":null,\"nonselection_glyph\":{\"id\":\"44032ef9-dc98-420b-afcf-ceabac8683d8\",\"type\":\"Square\"},\"selection_glyph\":null,\"view\":{\"id\":\"eb6c8ade-a89f-4081-893d-6b49ce353101\",\"type\":\"CDSView\"}},\"id\":\"d5ff9efe-2c98-45fd-89dd-1c71d0f681d9\",\"type\":\"GlyphRenderer\"},{\"attributes\":{\"plot\":null,\"text\":\"\"},\"id\":\"e20cac42-199b-4685-8a66-300563b1451e\",\"type\":\"Title\"},{\"attributes\":{\"source\":{\"id\":\"815960ac-267d-40bf-b113-e97efe60472d\",\"type\":\"ColumnDataSource\"}},\"id\":\"c7873e0d-9379-4bb2-a665-921020711b21\",\"type\":\"CDSView\"},{\"attributes\":{\"fill_alpha\":{\"value\":0.7},\"fill_color\":{\"value\":\"#984ea3\"},\"line_alpha\":{\"value\":0.7},\"line_color\":{\"value\":\"#984ea3\"},\"x\":{\"field\":\"x\"},\"y\":{\"field\":\"y\"}},\"id\":\"add289eb-e983-48d7-932f-633541acc729\",\"type\":\"Square\"},{\"attributes\":{\"line_alpha\":0.1,\"line_color\":\"#1f77b4\",\"line_width\":1.5,\"x\":{\"field\":\"x\"},\"y\":{\"field\":\"y\"}},\"id\":\"2d41dc28-f345-475c-bddc-f4cb0b1d44c0\",\"type\":\"Line\"},{\"attributes\":{\"source\":{\"id\":\"1acf281e-193b-4872-bb14-5cc593ac3232\",\"type\":\"ColumnDataSource\"}},\"id\":\"eb6c8ade-a89f-4081-893d-6b49ce353101\",\"type\":\"CDSView\"},{\"attributes\":{\"active_drag\":\"auto\",\"active_inspect\":\"auto\",\"active_scroll\":\"auto\",\"active_tap\":\"auto\",\"tools\":[{\"id\":\"dab86b7d-2b82-4649-a111-5d8b9cd985b3\",\"type\":\"PanTool\"},{\"id\":\"5f913e40-65c2-4999-a3ee-afc0bb280f6c\",\"type\":\"WheelZoomTool\"},{\"id\":\"591028f3-5f47-4390-9b57-5f1b16a369ce\",\"type\":\"BoxZoomTool\"},{\"id\":\"e980c098-3d6b-419a-a1cd-508b9a54e380\",\"type\":\"SaveTool\"},{\"id\":\"3f3a268a-0c42-4edd-a009-1e2979bb4f6a\",\"type\":\"ResetTool\"},{\"id\":\"a88569bc-9b65-41ab-af9c-b4cfc7997030\",\"type\":\"HelpTool\"}]},\"id\":\"46588d39-4a92-4908-94b5-4eca81822cd6\",\"type\":\"Toolbar\"},{\"attributes\":{\"callback\":null,\"data\":{\"x\":{\"__ndarray__\":\"gHZXzBrnzb5GjyZpemTMvps199uuQci+Z0iQi+Wxwr5MRGbJqeG2vksGh4OV3JC+rL921q6Usz5BXm2NOt3IPuIP+yRE9dU+T3B65yYB4T4k+lx5kafoPga/mKgLN/E+WdgabAB+9z75DWBYndX+Pjgb97iHVgM/mkJMIoYACD8LDXP2YDIOP7YzthVEUBM/RbY+jW0pGT9wjPBOyrMgPzXt3YU/YSY/t+9yAuB2Kj9RIAsb8TEqPzYll7A0HSg/InTFup0bJT9z6mg2yUIgP4fNgTjN9BA/AFcAi3Rn7b5NrlVo7Y4bv7UXOB8PiS2/3GOj8lwhOr/Vmd1jG91Ev0iwqenBS02/bdGSX/B9Ur+xMCav5YRWv9c/57HPI1u/oMph3oAiYL8QZFic5YZjv1p41YH3x2e/7npoZdtebL/fbSKfRaJwv3kWh6rNPHO/ZhK21ewFdr/NqSt6Q/x4vxTlGRcx3Hu/8b3mLUPJfL+wuY0/dnt6v5KH0AwTYna/L0Cf48Oucb/XDz0ikBZpv6x/xjt2Bly/K0S/VGPXMb/oDe9pMlJUP+gmH24PCmc/IamZv88icj+55Owg5dV4P69xyzjehX8/GvDA2x8Kgz8lMy2dTjOGP/KAcA2FMok/0k2xViz/iz/y5xjmvZeOP+eyMaxrf5A/KP0G69SckT8RvLLvsKeSPz6DRuNiopM/RhgggL2KlD/9CqsOP1OVPzJz+NkF2ZU/IAHeLYnmlT+LhMh/B1qVP8vrAgpnSpQ/PX+OGgnwkj9tRZgrTniRP30kCejc8o8/\",\"dtype\":\"float64\",\"shape\":[75]},\"y\":{\"__ndarray__\":\"GhExyth1ND/Sv8nbtpRIP2vylNV0PVE/aTum7souWD/At0SJ8fVgPw3Iuahxymc/MSNhhJWvcD/bTfBN02d3P2zb5nxnaoA/CD5h5MAGhz8NmeH1TyaQP+zrCsc9p5Y/LbKd76fGnz/bLW5ISEmmPww9YvTcQq8/JV2OstnstT8Er5Y7M8G+P0c+r3jqkcU/5h99k6ZBzj88bCIzFzjVP4enV8oyxN0//yH99nXg5D8qOpLLf0jtP5kqGJXUifQ/c9cS8kHP/D+/DpwzojQEQIEmwoanVwxA4lgXt9HgE0BSSZ2AJuIbQAMJih9jjiNA5q4l5INuK0AwTKYKRj0zQNv5fmq8/DpAaCJseHrtQkB/+zpwzoxKQM3MzMzMeFJAZmZmZmZqWEAAAAAAAFxeQM3MzMzMJmJAmpmZmZkfZUBmZmZmZhhoQDMzMzMzEWtAAAAAAAAKbkBmZmZmZoFwQM3MzMzM/XFAMzMzMzN6c0CamZmZmfZ0QAAAAAAAc3ZAZmZmZmbvd0DNzMzMzGt5QDMzMzMz6HpAmpmZmZlkfEAAAAAAAOF9QGZmZmZmXX9AZmZmZuZsgECamZmZGSuBQM3MzMxM6YFAAAAAAICngkAzMzMzs2WDQGZmZmbmI4RAmpmZmRnihEDNzMzMTKCFQAAAAACAXoZAMzMzM7Mch0BmZmZm5tqHQJqZmZkZmYhAzczMzExXiUAAAAAAgBWKQDMzMzOz04pAZmZmZuaRi0CamZmZGVCMQM3MzMxMDo1AAAAAAIDMjUAzMzMzs4qOQGZmZmbmSI9A\",\"dtype\":\"float64\",\"shape\":[75]}},\"selected\":{\"id\":\"cd05c415-d561-49e6-89a1-a254bdbb544b\",\"type\":\"Selection\"},\"selection_policy\":{\"id\":\"0577f91b-202f-432e-b690-c7f964ffdab8\",\"type\":\"UnionRenderers\"}},\"id\":\"eca8454b-10ea-42fe-97f0-0304b01e0651\",\"type\":\"ColumnDataSource\"},{\"attributes\":{\"callback\":null,\"data\":{\"x\":{\"__ndarray__\":\"XR3+VJzi0L6yJtDwS3bQvhuabHEOT86+6KrKIhSfyr61lPYtUKbFvszAuEWiML6+UWjzkmFSqr6aBi0WhXihPpvO+7FeXMI+NJo0x4Qc0j4BhBU5nIjdPrY9j23dG+Y+WyRG3L+V7z5faeh5p1f1PgubblW9P/s+AxojsgghAT99yZTEx8kFP1+EIKlxIww/tAPbkL57Ej/Qf4fgQ7gYP+9DCBDUqCA/aBz9f0KcIz+ghSvXovYiP5Iy0n/rrSA/Z1A97uzGGj/ydA73LIUQPx5uSpjmXMI+RYQ/LPC/FL9kpuSAzDMnv23vl3JlIDS/0jdjPDUcQL81ofsqDV5Iv/kmK5mz5FC/9XAaS+WgVb8uzv21+vpav/AwoQ22lGC/LrXzeMDOY79yIisUMXlnv+xVCE2Jomu/5ofkQBzfb7+Tjr6+4Bdyv9U2j8ytTHS/+0/NkOKPdr8op9372eB4v2jsY/e4BXu/HCj/eWt3e7/F3OKXQit5v4qcUblhSXW/l4VY+FjMcL8cM2gjua5nv0QB531G31m/oXEOTZYzJ7864nrfclhVP6fmNo7NT2c/LpZ8jZgpcj+1sVqkPsV4P8vNGUwhYn8/Jb6QVsDygj9Jhym/fBqGP4REtP/8HIk/A7oG6ITxiz9OxToTopWOP5fxOArlhJA/j7Wb7cWokT9srXEurLiSP1N5ZkLGtZM/zHniE5SdlD9/bZURK2SVPx+ZpLj+65U/rGayjMgIlj+hNw046J6VP4DYlUCRwZQ/80h8Ifafkz9bUYoj/WCSP0TnbyETGZE/\",\"dtype\":\"float64\",\"shape\":[75]},\"y\":{\"__ndarray__\":\"GhExyth1ND/Sv8nbtpRIP2vylNV0PVE/aTum7souWD/At0SJ8fVgPw3Iuahxymc/MSNhhJWvcD/bTfBN02d3P2zb5nxnaoA/CD5h5MAGhz8NmeH1TyaQP+zrCsc9p5Y/LbKd76fGnz/bLW5ISEmmPww9YvTcQq8/JV2OstnstT8Er5Y7M8G+P0c+r3jqkcU/5h99k6ZBzj88bCIzFzjVP4enV8oyxN0//yH99nXg5D8qOpLLf0jtP5kqGJXUifQ/c9cS8kHP/D+/DpwzojQEQIEmwoanVwxA4lgXt9HgE0BSSZ2AJuIbQAMJih9jjiNA5q4l5INuK0AwTKYKRj0zQNv5fmq8/DpAaCJseHrtQkB/+zpwzoxKQM3MzMzMeFJAZmZmZmZqWEAAAAAAAFxeQM3MzMzMJmJAmpmZmZkfZUBmZmZmZhhoQDMzMzMzEWtAAAAAAAAKbkBmZmZmZoFwQM3MzMzM/XFAMzMzMzN6c0CamZmZmfZ0QAAAAAAAc3ZAZmZmZmbvd0DNzMzMzGt5QDMzMzMz6HpAmpmZmZlkfEAAAAAAAOF9QGZmZmZmXX9AZmZmZuZsgECamZmZGSuBQM3MzMxM6YFAAAAAAICngkAzMzMzs2WDQGZmZmbmI4RAmpmZmRnihEDNzMzMTKCFQAAAAACAXoZAMzMzM7Mch0BmZmZm5tqHQJqZmZkZmYhAzczMzExXiUAAAAAAgBWKQDMzMzOz04pAZmZmZuaRi0CamZmZGVCMQM3MzMxMDo1AAAAAAIDMjUAzMzMzs4qOQGZmZmbmSI9A\",\"dtype\":\"float64\",\"shape\":[75]}},\"selected\":{\"id\":\"3e1280f8-c44c-4ae2-ac46-2ed457f0e4ff\",\"type\":\"Selection\"},\"selection_policy\":{\"id\":\"1bf2bbf2-01cc-453d-9570-76194076e883\",\"type\":\"UnionRenderers\"}},\"id\":\"a42958f6-a649-4c24-abcd-a0eec636b189\",\"type\":\"ColumnDataSource\"},{\"attributes\":{\"above\":[{\"id\":\"d567ce23-b091-49cb-b5a3-ba5598369460\",\"type\":\"Legend\"}],\"below\":[{\"id\":\"91efdc88-533c-4d40-a430-2f1225bff683\",\"type\":\"LinearAxis\"}],\"left\":[{\"id\":\"392b536b-6eba-4411-85a6-4618bfbe57d0\",\"type\":\"LinearAxis\"}],\"plot_height\":500,\"plot_width\":400,\"renderers\":[{\"id\":\"91efdc88-533c-4d40-a430-2f1225bff683\",\"type\":\"LinearAxis\"},{\"id\":\"91a5af79-6abd-4745-85f6-c1261641459d\",\"type\":\"Grid\"},{\"id\":\"392b536b-6eba-4411-85a6-4618bfbe57d0\",\"type\":\"LinearAxis\"},{\"id\":\"72f32e98-4741-45d8-ad3f-b10fea90df68\",\"type\":\"Grid\"},{\"id\":\"1feb5ad4-ca56-470f-a122-e184736e24e2\",\"type\":\"BoxAnnotation\"},{\"id\":\"22385974-bd67-41b3-bf9f-bd9a88a9f33b\",\"type\":\"GlyphRenderer\"},{\"id\":\"6f552395-4054-40c9-a4d2-dda31cd31358\",\"type\":\"GlyphRenderer\"},{\"id\":\"d5ff9efe-2c98-45fd-89dd-1c71d0f681d9\",\"type\":\"GlyphRenderer\"},{\"id\":\"3b83dfd9-7daf-4e58-bff9-ca1cd191ab86\",\"type\":\"GlyphRenderer\"},{\"id\":\"b3f9ad98-c8a9-4ea3-9b60-f872c18ca2ee\",\"type\":\"GlyphRenderer\"},{\"id\":\"d56d0a25-84c5-4ce4-b16f-5ff12cdca332\",\"type\":\"GlyphRenderer\"},{\"id\":\"d567ce23-b091-49cb-b5a3-ba5598369460\",\"type\":\"Legend\"}],\"title\":{\"id\":\"baf83315-d1f3-4711-ab84-48f0d44d6ffd\",\"type\":\"Title\"},\"toolbar\":{\"id\":\"46588d39-4a92-4908-94b5-4eca81822cd6\",\"type\":\"Toolbar\"},\"toolbar_location\":null,\"x_range\":{\"id\":\"3e396924-ca03-4675-849d-b55e890db19e\",\"type\":\"Range1d\"},\"x_scale\":{\"id\":\"84c7dbd3-c988-4924-a7ce-2709690f6163\",\"type\":\"LinearScale\"},\"y_range\":{\"id\":\"5fa1409b-da06-4a4d-a664-ad232dbc84c4\",\"type\":\"Range1d\"},\"y_scale\":{\"id\":\"273dd774-14f1-47bb-bfb0-01ba8873ace6\",\"type\":\"LinearScale\"}},\"id\":\"e255cd85-ff57-4bcf-be7d-ecb934ad4476\",\"subtype\":\"Figure\",\"type\":\"Plot\"},{\"attributes\":{\"callback\":null,\"data\":{\"x\":{\"__ndarray__\":\"O987szy20L6VS+ANPf7PvgsyM3rh6su+wEiWIDBTxr6Q98frWui9vrNLD+6w3qW+0ZYigvTFqj5S+SAJcS7GPh4DOoaT7NQ+OMfWVaS14D6WJSIafazoPrTWABXDcfE+OdsT1bgG+D5FCA/riMf/PgYqLfsZFQQ/dHEWJTsdCT8Iog12nNAPP0m0tVL9eBQ/VChKZPbOGj9/TmHcM94hP4o2nuLnByg/cUTnnsDKLD8bR55KZn0tP38zNot7zyw/0htcz33LKz9P6enu/bcpP2hdcFNItyU/ECYyeuN7ID/7flknJ8EWPzh54TjshAI/ANPassSsCr+Gh8fULJEnv6SH310HPzO/sLVBMM1TNb+W/cU+HIY0v6wUuYNhdTO/gbJIMaQHN7+rAxqb0hNEv5xFetmHmFG/kdFcS2rfWr8H4/H+idtivyrnFrCgDWm/wBlxC9oHcL/bbar9vPpzvzg+EKFVG3i/bh12gJsVer86ztbKV0x4v5V3ciJKj3S/hhKl9SJXcL9lqfo3XYZnv3zibgTxV1u/5V7N3MkuOb/iUVAHWfxPP83vHiKhrWM/dMPs7szHbz8e2bqm0BF2PxVozrYuR3w/0hhpPY4zgT/f2qJ4UCqEP+Wc7Cfi+4Y/jvUZvwygiT9wiT1jSBaMP71EsAJgYo4/RcRT4zNGkD/ssz9a4E6RP8XdWASKTpI/xLlTKHVDkz+P5Dn1XR6UP7RDOyjatZQ/siE/6MfJlD+IEKNcJDGUP3qdlTNiBpM/WvTr2iCLkT9tlsPVnuWPP2PrViVKqIw/\",\"dtype\":\"float64\",\"shape\":[75]},\"y\":{\"__ndarray__\":\"GhExyth1ND/Sv8nbtpRIP2vylNV0PVE/aTum7souWD/At0SJ8fVgPw3Iuahxymc/MSNhhJWvcD/bTfBN02d3P2zb5nxnaoA/CD5h5MAGhz8NmeH1TyaQP+zrCsc9p5Y/LbKd76fGnz/bLW5ISEmmPww9YvTcQq8/JV2OstnstT8Er5Y7M8G+P0c+r3jqkcU/5h99k6ZBzj88bCIzFzjVP4enV8oyxN0//yH99nXg5D8qOpLLf0jtP5kqGJXUifQ/c9cS8kHP/D+/DpwzojQEQIEmwoanVwxA4lgXt9HgE0BSSZ2AJuIbQAMJih9jjiNA5q4l5INuK0AwTKYKRj0zQNv5fmq8/DpAaCJseHrtQkB/+zpwzoxKQM3MzMzMeFJAZmZmZmZqWEAAAAAAAFxeQM3MzMzMJmJAmpmZmZkfZUBmZmZmZhhoQDMzMzMzEWtAAAAAAAAKbkBmZmZmZoFwQM3MzMzM/XFAMzMzMzN6c0CamZmZmfZ0QAAAAAAAc3ZAZmZmZmbvd0DNzMzMzGt5QDMzMzMz6HpAmpmZmZlkfEAAAAAAAOF9QGZmZmZmXX9AZmZmZuZsgECamZmZGSuBQM3MzMxM6YFAAAAAAICngkAzMzMzs2WDQGZmZmbmI4RAmpmZmRnihEDNzMzMTKCFQAAAAACAXoZAMzMzM7Mch0BmZmZm5tqHQJqZmZkZmYhAzczMzExXiUAAAAAAgBWKQDMzMzOz04pAZmZmZuaRi0CamZmZGVCMQM3MzMxMDo1AAAAAAIDMjUAzMzMzs4qOQGZmZmbmSI9A\",\"dtype\":\"float64\",\"shape\":[75]}},\"selected\":{\"id\":\"916e3abb-cece-4d56-9601-d53e1d82f3f1\",\"type\":\"Selection\"},\"selection_policy\":{\"id\":\"19a7ee06-284a-4f48-9dd7-18d5a2671794\",\"type\":\"UnionRenderers\"}},\"id\":\"ca01e3ae-6db0-4b6b-a2ed-29f164c61876\",\"type\":\"ColumnDataSource\"},{\"attributes\":{\"fill_alpha\":{\"value\":0.1},\"fill_color\":{\"value\":\"#1f77b4\"},\"line_alpha\":{\"value\":0.1},\"line_color\":{\"value\":\"#1f77b4\"},\"x\":{\"field\":\"x\"},\"y\":{\"field\":\"y\"}},\"id\":\"b5645204-fbe4-406e-b3e8-3535b1f22d33\",\"type\":\"Triangle\"},{\"attributes\":{\"source\":{\"id\":\"eca8454b-10ea-42fe-97f0-0304b01e0651\",\"type\":\"ColumnDataSource\"}},\"id\":\"46978e85-c58e-45d6-a5c7-5fcfe18b958e\",\"type\":\"CDSView\"},{\"attributes\":{\"data_source\":{\"id\":\"815960ac-267d-40bf-b113-e97efe60472d\",\"type\":\"ColumnDataSource\"},\"glyph\":{\"id\":\"36ceab81-56a5-4b2e-a700-fcb969caacde\",\"type\":\"Triangle\"},\"hover_glyph\":null,\"muted_glyph\":null,\"nonselection_glyph\":{\"id\":\"b5645204-fbe4-406e-b3e8-3535b1f22d33\",\"type\":\"Triangle\"},\"selection_glyph\":null,\"view\":{\"id\":\"c7873e0d-9379-4bb2-a665-921020711b21\",\"type\":\"CDSView\"}},\"id\":\"b3f9ad98-c8a9-4ea3-9b60-f872c18ca2ee\",\"type\":\"GlyphRenderer\"},{\"attributes\":{\"above\":[{\"id\":\"5816e33d-5dc1-4b85-8301-dcea634fc027\",\"type\":\"Legend\"}],\"below\":[{\"id\":\"6b6092a6-6582-4199-8050-f46ce8c92aab\",\"type\":\"LinearAxis\"}],\"left\":[{\"id\":\"9ae37c9a-3059-49b3-938a-39a199cbea7f\",\"type\":\"LogAxis\"}],\"plot_height\":500,\"plot_width\":400,\"renderers\":[{\"id\":\"6b6092a6-6582-4199-8050-f46ce8c92aab\",\"type\":\"LinearAxis\"},{\"id\":\"9e5a8f8c-2976-470e-9b97-5e58ec7a84fc\",\"type\":\"Grid\"},{\"id\":\"9ae37c9a-3059-49b3-938a-39a199cbea7f\",\"type\":\"LogAxis\"},{\"id\":\"3dfdf2a1-807c-4cb2-857c-c5ed75573407\",\"type\":\"Grid\"},{\"id\":\"b148e836-752f-403b-97e7-61ce361b853a\",\"type\":\"BoxAnnotation\"},{\"id\":\"a5d3661f-c302-4f95-b977-7007ba448457\",\"type\":\"GlyphRenderer\"},{\"id\":\"78440fcb-c174-4f0f-ae46-0c23660be751\",\"type\":\"GlyphRenderer\"},{\"id\":\"7f015956-4a61-4218-9197-396ef8521caa\",\"type\":\"GlyphRenderer\"},{\"id\":\"25fae289-c13f-40c6-af62-3dee89a2d957\",\"type\":\"GlyphRenderer\"},{\"id\":\"11da9208-1a70-4297-bb7e-74911f02c98a\",\"type\":\"GlyphRenderer\"},{\"id\":\"afefb087-b65a-4a9d-bdd1-c73d17b2d98e\",\"type\":\"GlyphRenderer\"},{\"id\":\"5816e33d-5dc1-4b85-8301-dcea634fc027\",\"type\":\"Legend\"}],\"title\":{\"id\":\"e20cac42-199b-4685-8a66-300563b1451e\",\"type\":\"Title\"},\"toolbar\":{\"id\":\"a60264f8-2c4f-43c4-afb8-20c1e259e0da\",\"type\":\"Toolbar\"},\"toolbar_location\":null,\"x_range\":{\"id\":\"bd95bc10-b3ef-4576-86cc-a9d6f8b15240\",\"type\":\"Range1d\"},\"x_scale\":{\"id\":\"151a2398-88eb-4fd3-86bb-9590c4810c9d\",\"type\":\"LinearScale\"},\"y_range\":{\"id\":\"cafd821c-fc3a-45fd-a5b0-0a141c73dc50\",\"type\":\"Range1d\"},\"y_scale\":{\"id\":\"4d5f4615-7ef2-4b3c-a7ce-e0db6bd54b51\",\"type\":\"LogScale\"}},\"id\":\"452374c1-9f82-404a-8f12-b6549d5324a9\",\"subtype\":\"Figure\",\"type\":\"Plot\"},{\"attributes\":{\"active_drag\":\"auto\",\"active_inspect\":\"auto\",\"active_scroll\":\"auto\",\"active_tap\":\"auto\",\"tools\":[{\"id\":\"2d0ade22-c927-41e9-bab3-ae86dc69ac99\",\"type\":\"PanTool\"},{\"id\":\"25c513e2-ab8e-4908-a399-ff1e7441ebcb\",\"type\":\"WheelZoomTool\"},{\"id\":\"dca14dc0-4cba-4948-85a2-79136bf2aa7a\",\"type\":\"BoxZoomTool\"},{\"id\":\"6773950c-aeb7-4cdd-84ad-2f098b0b55c7\",\"type\":\"SaveTool\"},{\"id\":\"f4ddb568-9f19-491c-a3f3-2017a6ea18fd\",\"type\":\"ResetTool\"},{\"id\":\"0188df02-5732-4a86-8676-34f5394c25f9\",\"type\":\"HelpTool\"}]},\"id\":\"a60264f8-2c4f-43c4-afb8-20c1e259e0da\",\"type\":\"Toolbar\"},{\"attributes\":{\"callback\":null,\"end\":0.01,\"start\":1020},\"id\":\"5fa1409b-da06-4a4d-a664-ad232dbc84c4\",\"type\":\"Range1d\"},{\"attributes\":{\"fill_alpha\":{\"value\":0.7},\"fill_color\":{\"value\":\"#377eb8\"},\"line_alpha\":{\"value\":0.7},\"line_color\":{\"value\":\"#377eb8\"},\"x\":{\"field\":\"x\"},\"y\":{\"field\":\"y\"}},\"id\":\"36ceab81-56a5-4b2e-a700-fcb969caacde\",\"type\":\"Triangle\"},{\"attributes\":{\"data_source\":{\"id\":\"a42958f6-a649-4c24-abcd-a0eec636b189\",\"type\":\"ColumnDataSource\"},\"glyph\":{\"id\":\"43072126-7cce-4c47-9843-3c89e3198c9b\",\"type\":\"Line\"},\"hover_glyph\":null,\"muted_glyph\":null,\"nonselection_glyph\":{\"id\":\"43df2630-bbae-47a3-b751-37c176ae807a\",\"type\":\"Line\"},\"selection_glyph\":null,\"view\":{\"id\":\"3c106a86-f559-4975-b29b-f83040464b03\",\"type\":\"CDSView\"}},\"id\":\"d56d0a25-84c5-4ce4-b16f-5ff12cdca332\",\"type\":\"GlyphRenderer\"},{\"attributes\":{\"line_alpha\":0.1,\"line_color\":\"#1f77b4\",\"line_width\":2,\"x\":{\"field\":\"x\"},\"y\":{\"field\":\"y\"}},\"id\":\"43df2630-bbae-47a3-b751-37c176ae807a\",\"type\":\"Line\"},{\"attributes\":{\"line_alpha\":0.3,\"line_color\":\"#377eb8\",\"line_width\":2,\"x\":{\"field\":\"x\"},\"y\":{\"field\":\"y\"}},\"id\":\"43072126-7cce-4c47-9843-3c89e3198c9b\",\"type\":\"Line\"},{\"attributes\":{\"source\":{\"id\":\"a42958f6-a649-4c24-abcd-a0eec636b189\",\"type\":\"ColumnDataSource\"}},\"id\":\"3c106a86-f559-4975-b29b-f83040464b03\",\"type\":\"CDSView\"},{\"attributes\":{\"label\":{\"value\":\"CRD\"},\"renderers\":[{\"id\":\"22385974-bd67-41b3-bf9f-bd9a88a9f33b\",\"type\":\"GlyphRenderer\"},{\"id\":\"6f552395-4054-40c9-a4d2-dda31cd31358\",\"type\":\"GlyphRenderer\"}]},\"id\":\"10c80d9a-fd02-4b7e-9308-c29b30ab6889\",\"type\":\"LegendItem\"},{\"attributes\":{\"callback\":null,\"end\":0.0002714125664,\"start\":-0.0044637259264},\"id\":\"bd95bc10-b3ef-4576-86cc-a9d6f8b15240\",\"type\":\"Range1d\"},{\"attributes\":{\"label\":{\"value\":\"WGT igg=1\"},\"renderers\":[{\"id\":\"d5ff9efe-2c98-45fd-89dd-1c71d0f681d9\",\"type\":\"GlyphRenderer\"},{\"id\":\"3b83dfd9-7daf-4e58-bff9-ca1cd191ab86\",\"type\":\"GlyphRenderer\"}]},\"id\":\"294f87e8-0817-4a79-b0c7-700b94b57878\",\"type\":\"LegendItem\"},{\"attributes\":{},\"id\":\"151a2398-88eb-4fd3-86bb-9590c4810c9d\",\"type\":\"LinearScale\"},{\"attributes\":{\"label\":{\"value\":\"WGT igg=10\"},\"renderers\":[{\"id\":\"b3f9ad98-c8a9-4ea3-9b60-f872c18ca2ee\",\"type\":\"GlyphRenderer\"},{\"id\":\"d56d0a25-84c5-4ce4-b16f-5ff12cdca332\",\"type\":\"GlyphRenderer\"}]},\"id\":\"41cf121e-1514-4800-a808-8344f12590fa\",\"type\":\"LegendItem\"},{\"attributes\":{},\"id\":\"2d0ade22-c927-41e9-bab3-ae86dc69ac99\",\"type\":\"PanTool\"},{\"attributes\":{\"items\":[{\"id\":\"c2b29592-55da-4753-99fd-2695d1bcdbe8\",\"type\":\"LegendItem\"},{\"id\":\"da41e73e-716f-4298-aecd-ba7a978a3919\",\"type\":\"LegendItem\"},{\"id\":\"4e6e5443-5beb-46cf-90c6-59014b3ace59\",\"type\":\"LegendItem\"}],\"label_text_font_size\":{\"value\":\"8pt\"},\"location\":\"top_center\",\"orientation\":\"horizontal\",\"plot\":{\"id\":\"452374c1-9f82-404a-8f12-b6549d5324a9\",\"subtype\":\"Figure\",\"type\":\"Plot\"}},\"id\":\"5816e33d-5dc1-4b85-8301-dcea634fc027\",\"type\":\"Legend\"},{\"attributes\":{\"overlay\":{\"id\":\"b148e836-752f-403b-97e7-61ce361b853a\",\"type\":\"BoxAnnotation\"}},\"id\":\"dca14dc0-4cba-4948-85a2-79136bf2aa7a\",\"type\":\"BoxZoomTool\"},{\"attributes\":{},\"id\":\"4d5f4615-7ef2-4b3c-a7ce-e0db6bd54b51\",\"type\":\"LogScale\"},{\"attributes\":{\"axis_label\":\"cooling rate [K/day]\",\"formatter\":{\"id\":\"cf57df7b-2852-45d5-b8b1-9897c2b0f6c2\",\"type\":\"BasicTickFormatter\"},\"plot\":{\"id\":\"452374c1-9f82-404a-8f12-b6549d5324a9\",\"subtype\":\"Figure\",\"type\":\"Plot\"},\"ticker\":{\"id\":\"46e27da9-8700-4cc3-bb14-535150c57397\",\"type\":\"BasicTicker\"}},\"id\":\"6b6092a6-6582-4199-8050-f46ce8c92aab\",\"type\":\"LinearAxis\"},{\"attributes\":{},\"id\":\"46e27da9-8700-4cc3-bb14-535150c57397\",\"type\":\"BasicTicker\"},{\"attributes\":{\"bottom_units\":\"screen\",\"fill_alpha\":{\"value\":0.5},\"fill_color\":{\"value\":\"lightgrey\"},\"left_units\":\"screen\",\"level\":\"overlay\",\"line_alpha\":{\"value\":1.0},\"line_color\":{\"value\":\"black\"},\"line_dash\":[4,4],\"line_width\":{\"value\":2},\"plot\":null,\"render_mode\":\"css\",\"right_units\":\"screen\",\"top_units\":\"screen\"},\"id\":\"b148e836-752f-403b-97e7-61ce361b853a\",\"type\":\"BoxAnnotation\"},{\"attributes\":{},\"id\":\"6773950c-aeb7-4cdd-84ad-2f098b0b55c7\",\"type\":\"SaveTool\"},{\"attributes\":{},\"id\":\"f4ddb568-9f19-491c-a3f3-2017a6ea18fd\",\"type\":\"ResetTool\"},{\"attributes\":{},\"id\":\"0188df02-5732-4a86-8676-34f5394c25f9\",\"type\":\"HelpTool\"},{\"attributes\":{},\"id\":\"cd05c415-d561-49e6-89a1-a254bdbb544b\",\"type\":\"Selection\"},{\"attributes\":{\"data_source\":{\"id\":\"eaa0eac7-7618-4e13-acad-533e8910f72f\",\"type\":\"ColumnDataSource\"},\"glyph\":{\"id\":\"d2c63236-ed97-40a2-b877-3fe6f4129b85\",\"type\":\"Circle\"},\"hover_glyph\":null,\"muted_glyph\":null,\"nonselection_glyph\":{\"id\":\"9f55c219-b703-46b6-99a7-2e077741f59d\",\"type\":\"Circle\"},\"selection_glyph\":null,\"view\":{\"id\":\"a0ad2b88-2725-40cf-94a4-68e9bb0603cb\",\"type\":\"CDSView\"}},\"id\":\"22385974-bd67-41b3-bf9f-bd9a88a9f33b\",\"type\":\"GlyphRenderer\"},{\"attributes\":{\"fill_alpha\":{\"value\":0.7},\"fill_color\":{\"value\":\"#4daf4a\"},\"line_alpha\":{\"value\":0.7},\"line_color\":{\"value\":\"#4daf4a\"},\"x\":{\"field\":\"x\"},\"y\":{\"field\":\"y\"}},\"id\":\"f139f00b-a576-4195-9527-4a620627a54d\",\"type\":\"Circle\"},{\"attributes\":{},\"id\":\"1bf2bbf2-01cc-453d-9570-76194076e883\",\"type\":\"UnionRenderers\"},{\"attributes\":{},\"id\":\"cf57df7b-2852-45d5-b8b1-9897c2b0f6c2\",\"type\":\"BasicTickFormatter\"},{\"attributes\":{\"bottom_units\":\"screen\",\"fill_alpha\":{\"value\":0.5},\"fill_color\":{\"value\":\"lightgrey\"},\"left_units\":\"screen\",\"level\":\"overlay\",\"line_alpha\":{\"value\":1.0},\"line_color\":{\"value\":\"black\"},\"line_dash\":[4,4],\"line_width\":{\"value\":2},\"plot\":null,\"render_mode\":\"css\",\"right_units\":\"screen\",\"top_units\":\"screen\"},\"id\":\"1feb5ad4-ca56-470f-a122-e184736e24e2\",\"type\":\"BoxAnnotation\"},{\"attributes\":{\"fill_alpha\":{\"value\":0.1},\"fill_color\":{\"value\":\"#1f77b4\"},\"line_alpha\":{\"value\":0.1},\"line_color\":{\"value\":\"#1f77b4\"},\"x\":{\"field\":\"x\"},\"y\":{\"field\":\"y\"}},\"id\":\"9f55c219-b703-46b6-99a7-2e077741f59d\",\"type\":\"Circle\"},{\"attributes\":{},\"id\":\"3e1280f8-c44c-4ae2-ac46-2ed457f0e4ff\",\"type\":\"Selection\"},{\"attributes\":{},\"id\":\"a88569bc-9b65-41ab-af9c-b4cfc7997030\",\"type\":\"HelpTool\"},{\"attributes\":{\"callback\":null,\"end\":0.021803338573000004,\"start\":-0.007313333873},\"id\":\"3e396924-ca03-4675-849d-b55e890db19e\",\"type\":\"Range1d\"},{\"attributes\":{\"plot\":{\"id\":\"452374c1-9f82-404a-8f12-b6549d5324a9\",\"subtype\":\"Figure\",\"type\":\"Plot\"},\"ticker\":{\"id\":\"46e27da9-8700-4cc3-bb14-535150c57397\",\"type\":\"BasicTicker\"}},\"id\":\"9e5a8f8c-2976-470e-9b97-5e58ec7a84fc\",\"type\":\"Grid\"},{\"attributes\":{\"dimension\":1,\"plot\":{\"id\":\"e255cd85-ff57-4bcf-be7d-ecb934ad4476\",\"subtype\":\"Figure\",\"type\":\"Plot\"},\"ticker\":{\"id\":\"4dd624b6-0709-4fd5-b394-fa10a454f8ff\",\"type\":\"BasicTicker\"}},\"id\":\"72f32e98-4741-45d8-ad3f-b10fea90df68\",\"type\":\"Grid\"},{\"attributes\":{},\"id\":\"84c7dbd3-c988-4924-a7ce-2709690f6163\",\"type\":\"LinearScale\"},{\"attributes\":{},\"id\":\"5f913e40-65c2-4999-a3ee-afc0bb280f6c\",\"type\":\"WheelZoomTool\"},{\"attributes\":{\"items\":[{\"id\":\"10c80d9a-fd02-4b7e-9308-c29b30ab6889\",\"type\":\"LegendItem\"},{\"id\":\"294f87e8-0817-4a79-b0c7-700b94b57878\",\"type\":\"LegendItem\"},{\"id\":\"41cf121e-1514-4800-a808-8344f12590fa\",\"type\":\"LegendItem\"}],\"label_text_font_size\":{\"value\":\"8pt\"},\"location\":\"top_center\",\"orientation\":\"horizontal\",\"plot\":{\"id\":\"e255cd85-ff57-4bcf-be7d-ecb934ad4476\",\"subtype\":\"Figure\",\"type\":\"Plot\"}},\"id\":\"d567ce23-b091-49cb-b5a3-ba5598369460\",\"type\":\"Legend\"},{\"attributes\":{},\"id\":\"4dd624b6-0709-4fd5-b394-fa10a454f8ff\",\"type\":\"BasicTicker\"},{\"attributes\":{\"num_minor_ticks\":10},\"id\":\"7a76b35f-e1ce-41c4-85ad-5bfbe8d8830d\",\"type\":\"LogTicker\"},{\"attributes\":{\"line_color\":\"#4daf4a\",\"line_width\":1.5,\"x\":{\"field\":\"x\"},\"y\":{\"field\":\"y\"}},\"id\":\"1e9b67d9-af32-4487-8290-b08d19ecb5c2\",\"type\":\"Line\"},{\"attributes\":{\"overlay\":{\"id\":\"1feb5ad4-ca56-470f-a122-e184736e24e2\",\"type\":\"BoxAnnotation\"}},\"id\":\"591028f3-5f47-4390-9b57-5f1b16a369ce\",\"type\":\"BoxZoomTool\"},{\"attributes\":{\"axis_label\":\"pressure [mb]\",\"formatter\":{\"id\":\"a2f55301-f210-4555-822d-83f875c7ffb9\",\"type\":\"BasicTickFormatter\"},\"plot\":{\"id\":\"e255cd85-ff57-4bcf-be7d-ecb934ad4476\",\"subtype\":\"Figure\",\"type\":\"Plot\"},\"ticker\":{\"id\":\"4dd624b6-0709-4fd5-b394-fa10a454f8ff\",\"type\":\"BasicTicker\"}},\"id\":\"392b536b-6eba-4411-85a6-4618bfbe57d0\",\"type\":\"LinearAxis\"},{\"attributes\":{\"plot\":{\"id\":\"e255cd85-ff57-4bcf-be7d-ecb934ad4476\",\"subtype\":\"Figure\",\"type\":\"Plot\"},\"ticker\":{\"id\":\"0c4810ea-eca4-4159-a175-a63c73f67cc6\",\"type\":\"BasicTicker\"}},\"id\":\"91a5af79-6abd-4745-85f6-c1261641459d\",\"type\":\"Grid\"},{\"attributes\":{},\"id\":\"273dd774-14f1-47bb-bfb0-01ba8873ace6\",\"type\":\"LinearScale\"},{\"attributes\":{},\"id\":\"0c4810ea-eca4-4159-a175-a63c73f67cc6\",\"type\":\"BasicTicker\"},{\"attributes\":{\"axis_label\":\"cooling rate [K/day]\",\"formatter\":{\"id\":\"0b7502f1-7120-474d-b966-3f7faac38567\",\"type\":\"BasicTickFormatter\"},\"plot\":{\"id\":\"e255cd85-ff57-4bcf-be7d-ecb934ad4476\",\"subtype\":\"Figure\",\"type\":\"Plot\"},\"ticker\":{\"id\":\"0c4810ea-eca4-4159-a175-a63c73f67cc6\",\"type\":\"BasicTicker\"}},\"id\":\"91efdc88-533c-4d40-a430-2f1225bff683\",\"type\":\"LinearAxis\"},{\"attributes\":{\"dimension\":1,\"plot\":{\"id\":\"452374c1-9f82-404a-8f12-b6549d5324a9\",\"subtype\":\"Figure\",\"type\":\"Plot\"},\"ticker\":{\"id\":\"7a76b35f-e1ce-41c4-85ad-5bfbe8d8830d\",\"type\":\"LogTicker\"}},\"id\":\"3dfdf2a1-807c-4cb2-857c-c5ed75573407\",\"type\":\"Grid\"},{\"attributes\":{\"callback\":null,\"end\":0.01,\"start\":1020},\"id\":\"cafd821c-fc3a-45fd-a5b0-0a141c73dc50\",\"type\":\"Range1d\"},{\"attributes\":{\"callback\":null,\"data\":{\"x\":{\"__ndarray__\":\"O987szy20L6VS+ANPf7PvgsyM3rh6su+wEiWIDBTxr6Q98frWui9vrNLD+6w3qW+0ZYigvTFqj5S+SAJcS7GPh4DOoaT7NQ+OMfWVaS14D6WJSIafazoPrTWABXDcfE+OdsT1bgG+D5FCA/riMf/PgYqLfsZFQQ/dHEWJTsdCT8Iog12nNAPP0m0tVL9eBQ/VChKZPbOGj9/TmHcM94hP4o2nuLnByg/cUTnnsDKLD8bR55KZn0tP38zNot7zyw/0htcz33LKz9P6enu/bcpP2hdcFNItyU/ECYyeuN7ID/7flknJ8EWPzh54TjshAI/ANPassSsCr+Gh8fULJEnv6SH310HPzO/sLVBMM1TNb+W/cU+HIY0v6wUuYNhdTO/gbJIMaQHN7+rAxqb0hNEv5xFetmHmFG/kdFcS2rfWr8H4/H+idtivyrnFrCgDWm/wBlxC9oHcL/bbar9vPpzvzg+EKFVG3i/bh12gJsVer86ztbKV0x4v5V3ciJKj3S/hhKl9SJXcL9lqfo3XYZnv3zibgTxV1u/5V7N3MkuOb/iUVAHWfxPP83vHiKhrWM/dMPs7szHbz8e2bqm0BF2PxVozrYuR3w/0hhpPY4zgT/f2qJ4UCqEP+Wc7Cfi+4Y/jvUZvwygiT9wiT1jSBaMP71EsAJgYo4/RcRT4zNGkD/ssz9a4E6RP8XdWASKTpI/xLlTKHVDkz+P5Dn1XR6UP7RDOyjatZQ/siE/6MfJlD+IEKNcJDGUP3qdlTNiBpM/WvTr2iCLkT9tlsPVnuWPP2PrViVKqIw/\",\"dtype\":\"float64\",\"shape\":[75]},\"y\":{\"__ndarray__\":\"GhExyth1ND/Sv8nbtpRIP2vylNV0PVE/aTum7souWD/At0SJ8fVgPw3Iuahxymc/MSNhhJWvcD/bTfBN02d3P2zb5nxnaoA/CD5h5MAGhz8NmeH1TyaQP+zrCsc9p5Y/LbKd76fGnz/bLW5ISEmmPww9YvTcQq8/JV2OstnstT8Er5Y7M8G+P0c+r3jqkcU/5h99k6ZBzj88bCIzFzjVP4enV8oyxN0//yH99nXg5D8qOpLLf0jtP5kqGJXUifQ/c9cS8kHP/D+/DpwzojQEQIEmwoanVwxA4lgXt9HgE0BSSZ2AJuIbQAMJih9jjiNA5q4l5INuK0AwTKYKRj0zQNv5fmq8/DpAaCJseHrtQkB/+zpwzoxKQM3MzMzMeFJAZmZmZmZqWEAAAAAAAFxeQM3MzMzMJmJAmpmZmZkfZUBmZmZmZhhoQDMzMzMzEWtAAAAAAAAKbkBmZmZmZoFwQM3MzMzM/XFAMzMzMzN6c0CamZmZmfZ0QAAAAAAAc3ZAZmZmZmbvd0DNzMzMzGt5QDMzMzMz6HpAmpmZmZlkfEAAAAAAAOF9QGZmZmZmXX9AZmZmZuZsgECamZmZGSuBQM3MzMxM6YFAAAAAAICngkAzMzMzs2WDQGZmZmbmI4RAmpmZmRnihEDNzMzMTKCFQAAAAACAXoZAMzMzM7Mch0BmZmZm5tqHQJqZmZkZmYhAzczMzExXiUAAAAAAgBWKQDMzMzOz04pAZmZmZuaRi0CamZmZGVCMQM3MzMxMDo1AAAAAAIDMjUAzMzMzs4qOQGZmZmbmSI9A\",\"dtype\":\"float64\",\"shape\":[75]}},\"selected\":{\"id\":\"308dc71e-f8de-4340-a772-ad1410f9ca0a\",\"type\":\"Selection\"},\"selection_policy\":{\"id\":\"eb47b611-369f-4674-a300-a1655a9ea706\",\"type\":\"UnionRenderers\"}},\"id\":\"eaa0eac7-7618-4e13-acad-533e8910f72f\",\"type\":\"ColumnDataSource\"},{\"attributes\":{},\"id\":\"3f3a268a-0c42-4edd-a009-1e2979bb4f6a\",\"type\":\"ResetTool\"},{\"attributes\":{\"fill_alpha\":{\"value\":0.7},\"fill_color\":{\"value\":\"#4daf4a\"},\"line_alpha\":{\"value\":0.7},\"line_color\":{\"value\":\"#4daf4a\"},\"x\":{\"field\":\"x\"},\"y\":{\"field\":\"y\"}},\"id\":\"d2c63236-ed97-40a2-b877-3fe6f4129b85\",\"type\":\"Circle\"},{\"attributes\":{},\"id\":\"dab86b7d-2b82-4649-a111-5d8b9cd985b3\",\"type\":\"PanTool\"},{\"attributes\":{},\"id\":\"e980c098-3d6b-419a-a1cd-508b9a54e380\",\"type\":\"SaveTool\"},{\"attributes\":{\"callback\":null,\"data\":{\"x\":{\"__ndarray__\":\"O987szy20L6VS+ANPf7PvgsyM3rh6su+wEiWIDBTxr6Q98frWui9vrNLD+6w3qW+0ZYigvTFqj5S+SAJcS7GPh4DOoaT7NQ+OMfWVaS14D6WJSIafazoPrTWABXDcfE+OdsT1bgG+D5FCA/riMf/PgYqLfsZFQQ/dHEWJTsdCT8Iog12nNAPP0m0tVL9eBQ/VChKZPbOGj9/TmHcM94hP4o2nuLnByg/cUTnnsDKLD8bR55KZn0tP38zNot7zyw/0htcz33LKz9P6enu/bcpP2hdcFNItyU/ECYyeuN7ID/7flknJ8EWPzh54TjshAI/ANPassSsCr+Gh8fULJEnv6SH310HPzO/sLVBMM1TNb+W/cU+HIY0v6wUuYNhdTO/gbJIMaQHN7+rAxqb0hNEv5xFetmHmFG/kdFcS2rfWr8H4/H+idtivyrnFrCgDWm/wBlxC9oHcL/bbar9vPpzvzg+EKFVG3i/bh12gJsVer86ztbKV0x4v5V3ciJKj3S/hhKl9SJXcL9lqfo3XYZnv3zibgTxV1u/5V7N3MkuOb/iUVAHWfxPP83vHiKhrWM/dMPs7szHbz8e2bqm0BF2PxVozrYuR3w/0hhpPY4zgT/f2qJ4UCqEP+Wc7Cfi+4Y/jvUZvwygiT9wiT1jSBaMP71EsAJgYo4/RcRT4zNGkD/ssz9a4E6RP8XdWASKTpI/xLlTKHVDkz+P5Dn1XR6UP7RDOyjatZQ/siE/6MfJlD+IEKNcJDGUP3qdlTNiBpM/WvTr2iCLkT9tlsPVnuWPP2PrViVKqIw/\",\"dtype\":\"float64\",\"shape\":[75]},\"y\":{\"__ndarray__\":\"GhExyth1ND/Sv8nbtpRIP2vylNV0PVE/aTum7souWD/At0SJ8fVgPw3Iuahxymc/MSNhhJWvcD/bTfBN02d3P2zb5nxnaoA/CD5h5MAGhz8NmeH1TyaQP+zrCsc9p5Y/LbKd76fGnz/bLW5ISEmmPww9YvTcQq8/JV2OstnstT8Er5Y7M8G+P0c+r3jqkcU/5h99k6ZBzj88bCIzFzjVP4enV8oyxN0//yH99nXg5D8qOpLLf0jtP5kqGJXUifQ/c9cS8kHP/D+/DpwzojQEQIEmwoanVwxA4lgXt9HgE0BSSZ2AJuIbQAMJih9jjiNA5q4l5INuK0AwTKYKRj0zQNv5fmq8/DpAaCJseHrtQkB/+zpwzoxKQM3MzMzMeFJAZmZmZmZqWEAAAAAAAFxeQM3MzMzMJmJAmpmZmZkfZUBmZmZmZhhoQDMzMzMzEWtAAAAAAAAKbkBmZmZmZoFwQM3MzMzM/XFAMzMzMzN6c0CamZmZmfZ0QAAAAAAAc3ZAZmZmZmbvd0DNzMzMzGt5QDMzMzMz6HpAmpmZmZlkfEAAAAAAAOF9QGZmZmZmXX9AZmZmZuZsgECamZmZGSuBQM3MzMxM6YFAAAAAAICngkAzMzMzs2WDQGZmZmbmI4RAmpmZmRnihEDNzMzMTKCFQAAAAACAXoZAMzMzM7Mch0BmZmZm5tqHQJqZmZkZmYhAzczMzExXiUAAAAAAgBWKQDMzMzOz04pAZmZmZuaRi0CamZmZGVCMQM3MzMxMDo1AAAAAAIDMjUAzMzMzs4qOQGZmZmbmSI9A\",\"dtype\":\"float64\",\"shape\":[75]}},\"selected\":{\"id\":\"55201e70-f12b-40ff-ad45-88fc30fceff5\",\"type\":\"Selection\"},\"selection_policy\":{\"id\":\"ba6c42cd-bf34-4a3b-bf34-c58ccca9d5ab\",\"type\":\"UnionRenderers\"}},\"id\":\"d5b93a0e-6789-4b73-9a0f-8b2f725b0841\",\"type\":\"ColumnDataSource\"},{\"attributes\":{\"axis_label\":\"pressure [mb]\",\"formatter\":{\"id\":\"bfd4cca1-457d-4e30-9fc1-1586f3c7f028\",\"type\":\"LogTickFormatter\"},\"plot\":{\"id\":\"452374c1-9f82-404a-8f12-b6549d5324a9\",\"subtype\":\"Figure\",\"type\":\"Plot\"},\"ticker\":{\"id\":\"7a76b35f-e1ce-41c4-85ad-5bfbe8d8830d\",\"type\":\"LogTicker\"}},\"id\":\"9ae37c9a-3059-49b3-938a-39a199cbea7f\",\"type\":\"LogAxis\"},{\"attributes\":{\"source\":{\"id\":\"eaa0eac7-7618-4e13-acad-533e8910f72f\",\"type\":\"ColumnDataSource\"}},\"id\":\"a0ad2b88-2725-40cf-94a4-68e9bb0603cb\",\"type\":\"CDSView\"},{\"attributes\":{\"callback\":null,\"data\":{\"x\":{\"__ndarray__\":\"XR3+VJzi0L6yJtDwS3bQvhuabHEOT86+6KrKIhSfyr61lPYtUKbFvszAuEWiML6+UWjzkmFSqr6aBi0WhXihPpvO+7FeXMI+NJo0x4Qc0j4BhBU5nIjdPrY9j23dG+Y+WyRG3L+V7z5faeh5p1f1PgubblW9P/s+AxojsgghAT99yZTEx8kFP1+EIKlxIww/tAPbkL57Ej/Qf4fgQ7gYP+9DCBDUqCA/aBz9f0KcIz+ghSvXovYiP5Iy0n/rrSA/Z1A97uzGGj/ydA73LIUQPx5uSpjmXMI+RYQ/LPC/FL9kpuSAzDMnv23vl3JlIDS/0jdjPDUcQL81ofsqDV5Iv/kmK5mz5FC/9XAaS+WgVb8uzv21+vpav/AwoQ22lGC/LrXzeMDOY79yIisUMXlnv+xVCE2Jomu/5ofkQBzfb7+Tjr6+4Bdyv9U2j8ytTHS/+0/NkOKPdr8op9372eB4v2jsY/e4BXu/HCj/eWt3e7/F3OKXQit5v4qcUblhSXW/l4VY+FjMcL8cM2gjua5nv0QB531G31m/oXEOTZYzJ7864nrfclhVP6fmNo7NT2c/LpZ8jZgpcj+1sVqkPsV4P8vNGUwhYn8/Jb6QVsDygj9Jhym/fBqGP4REtP/8HIk/A7oG6ITxiz9OxToTopWOP5fxOArlhJA/j7Wb7cWokT9srXEurLiSP1N5ZkLGtZM/zHniE5SdlD9/bZURK2SVPx+ZpLj+65U/rGayjMgIlj+hNw046J6VP4DYlUCRwZQ/80h8Ifafkz9bUYoj/WCSP0TnbyETGZE/\",\"dtype\":\"float64\",\"shape\":[75]},\"y\":{\"__ndarray__\":\"GhExyth1ND/Sv8nbtpRIP2vylNV0PVE/aTum7souWD/At0SJ8fVgPw3Iuahxymc/MSNhhJWvcD/bTfBN02d3P2zb5nxnaoA/CD5h5MAGhz8NmeH1TyaQP+zrCsc9p5Y/LbKd76fGnz/bLW5ISEmmPww9YvTcQq8/JV2OstnstT8Er5Y7M8G+P0c+r3jqkcU/5h99k6ZBzj88bCIzFzjVP4enV8oyxN0//yH99nXg5D8qOpLLf0jtP5kqGJXUifQ/c9cS8kHP/D+/DpwzojQEQIEmwoanVwxA4lgXt9HgE0BSSZ2AJuIbQAMJih9jjiNA5q4l5INuK0AwTKYKRj0zQNv5fmq8/DpAaCJseHrtQkB/+zpwzoxKQM3MzMzMeFJAZmZmZmZqWEAAAAAAAFxeQM3MzMzMJmJAmpmZmZkfZUBmZmZmZhhoQDMzMzMzEWtAAAAAAAAKbkBmZmZmZoFwQM3MzMzM/XFAMzMzMzN6c0CamZmZmfZ0QAAAAAAAc3ZAZmZmZmbvd0DNzMzMzGt5QDMzMzMz6HpAmpmZmZlkfEAAAAAAAOF9QGZmZmZmXX9AZmZmZuZsgECamZmZGSuBQM3MzMxM6YFAAAAAAICngkAzMzMzs2WDQGZmZmbmI4RAmpmZmRnihEDNzMzMTKCFQAAAAACAXoZAMzMzM7Mch0BmZmZm5tqHQJqZmZkZmYhAzczMzExXiUAAAAAAgBWKQDMzMzOz04pAZmZmZuaRi0CamZmZGVCMQM3MzMxMDo1AAAAAAIDMjUAzMzMzs4qOQGZmZmbmSI9A\",\"dtype\":\"float64\",\"shape\":[75]}},\"selected\":{\"id\":\"555aa7b5-8c22-458c-a0bb-b322b4caf806\",\"type\":\"Selection\"},\"selection_policy\":{\"id\":\"8bdda3b3-4d55-4906-9b23-658cdb45f6d6\",\"type\":\"UnionRenderers\"}},\"id\":\"ff99da7f-c2ee-4e75-b42e-478934567cf9\",\"type\":\"ColumnDataSource\"},{\"attributes\":{\"data_source\":{\"id\":\"790d0b4b-32ac-48c6-993b-a06964028b6d\",\"type\":\"ColumnDataSource\"},\"glyph\":{\"id\":\"93e8ce99-3351-4a4a-ada0-07f1fbf02c5c\",\"type\":\"Triangle\"},\"hover_glyph\":null,\"muted_glyph\":null,\"nonselection_glyph\":{\"id\":\"f5fb278e-c250-42f3-99a7-20bc7890fe01\",\"type\":\"Triangle\"},\"selection_glyph\":null,\"view\":{\"id\":\"089340f7-bd50-43e1-beac-894567d14c0d\",\"type\":\"CDSView\"}},\"id\":\"11da9208-1a70-4297-bb7e-74911f02c98a\",\"type\":\"GlyphRenderer\"},{\"attributes\":{\"source\":{\"id\":\"790d0b4b-32ac-48c6-993b-a06964028b6d\",\"type\":\"ColumnDataSource\"}},\"id\":\"089340f7-bd50-43e1-beac-894567d14c0d\",\"type\":\"CDSView\"},{\"attributes\":{\"line_alpha\":0.3,\"line_color\":\"#377eb8\",\"line_width\":2,\"x\":{\"field\":\"x\"},\"y\":{\"field\":\"y\"}},\"id\":\"25138062-ac0d-4501-9c42-fdc8f7229347\",\"type\":\"Line\"},{\"attributes\":{\"children\":[{\"id\":\"d36a8faf-6f76-4183-85f3-c252d534e34c\",\"type\":\"Row\"}]},\"id\":\"dac94d65-7b1e-45bb-8d81-9e3c4f189908\",\"type\":\"Column\"},{\"attributes\":{\"line_alpha\":0.1,\"line_color\":\"#1f77b4\",\"line_width\":2,\"x\":{\"field\":\"x\"},\"y\":{\"field\":\"y\"}},\"id\":\"3526fcaa-c9dd-4628-b475-4147536e6a34\",\"type\":\"Line\"},{\"attributes\":{\"data_source\":{\"id\":\"ff99da7f-c2ee-4e75-b42e-478934567cf9\",\"type\":\"ColumnDataSource\"},\"glyph\":{\"id\":\"25138062-ac0d-4501-9c42-fdc8f7229347\",\"type\":\"Line\"},\"hover_glyph\":null,\"muted_glyph\":null,\"nonselection_glyph\":{\"id\":\"3526fcaa-c9dd-4628-b475-4147536e6a34\",\"type\":\"Line\"},\"selection_glyph\":null,\"view\":{\"id\":\"18f49a73-80e9-45d5-8c3c-36a68003f7a0\",\"type\":\"CDSView\"}},\"id\":\"afefb087-b65a-4a9d-bdd1-c73d17b2d98e\",\"type\":\"GlyphRenderer\"},{\"attributes\":{\"source\":{\"id\":\"ff99da7f-c2ee-4e75-b42e-478934567cf9\",\"type\":\"ColumnDataSource\"}},\"id\":\"18f49a73-80e9-45d5-8c3c-36a68003f7a0\",\"type\":\"CDSView\"},{\"attributes\":{\"plot\":null,\"text\":\"\"},\"id\":\"baf83315-d1f3-4711-ab84-48f0d44d6ffd\",\"type\":\"Title\"},{\"attributes\":{},\"id\":\"0577f91b-202f-432e-b690-c7f964ffdab8\",\"type\":\"UnionRenderers\"},{\"attributes\":{\"children\":[{\"id\":\"e255cd85-ff57-4bcf-be7d-ecb934ad4476\",\"subtype\":\"Figure\",\"type\":\"Plot\"},{\"id\":\"452374c1-9f82-404a-8f12-b6549d5324a9\",\"subtype\":\"Figure\",\"type\":\"Plot\"}]},\"id\":\"d36a8faf-6f76-4183-85f3-c252d534e34c\",\"type\":\"Row\"},{\"attributes\":{\"label\":{\"value\":\"CRD\"},\"renderers\":[{\"id\":\"a5d3661f-c302-4f95-b977-7007ba448457\",\"type\":\"GlyphRenderer\"},{\"id\":\"78440fcb-c174-4f0f-ae46-0c23660be751\",\"type\":\"GlyphRenderer\"}]},\"id\":\"c2b29592-55da-4753-99fd-2695d1bcdbe8\",\"type\":\"LegendItem\"},{\"attributes\":{},\"id\":\"4fc7807f-6c6d-4cdd-b4c2-222fb879d6df\",\"type\":\"UnionRenderers\"},{\"attributes\":{},\"id\":\"19a7ee06-284a-4f48-9dd7-18d5a2671794\",\"type\":\"UnionRenderers\"},{\"attributes\":{\"label\":{\"value\":\"WGT igg=1\"},\"renderers\":[{\"id\":\"7f015956-4a61-4218-9197-396ef8521caa\",\"type\":\"GlyphRenderer\"},{\"id\":\"25fae289-c13f-40c6-af62-3dee89a2d957\",\"type\":\"GlyphRenderer\"}]},\"id\":\"da41e73e-716f-4298-aecd-ba7a978a3919\",\"type\":\"LegendItem\"},{\"attributes\":{},\"id\":\"55201e70-f12b-40ff-ad45-88fc30fceff5\",\"type\":\"Selection\"},{\"attributes\":{\"label\":{\"value\":\"WGT igg=10\"},\"renderers\":[{\"id\":\"11da9208-1a70-4297-bb7e-74911f02c98a\",\"type\":\"GlyphRenderer\"},{\"id\":\"afefb087-b65a-4a9d-bdd1-c73d17b2d98e\",\"type\":\"GlyphRenderer\"}]},\"id\":\"4e6e5443-5beb-46cf-90c6-59014b3ace59\",\"type\":\"LegendItem\"},{\"attributes\":{},\"id\":\"ba6c42cd-bf34-4a3b-bf34-c58ccca9d5ab\",\"type\":\"UnionRenderers\"},{\"attributes\":{},\"id\":\"a2f55301-f210-4555-822d-83f875c7ffb9\",\"type\":\"BasicTickFormatter\"},{\"attributes\":{},\"id\":\"0b7502f1-7120-474d-b966-3f7faac38567\",\"type\":\"BasicTickFormatter\"},{\"attributes\":{},\"id\":\"308dc71e-f8de-4340-a772-ad1410f9ca0a\",\"type\":\"Selection\"},{\"attributes\":{},\"id\":\"eb47b611-369f-4674-a300-a1655a9ea706\",\"type\":\"UnionRenderers\"},{\"attributes\":{\"ticker\":null},\"id\":\"bfd4cca1-457d-4e30-9fc1-1586f3c7f028\",\"type\":\"LogTickFormatter\"},{\"attributes\":{},\"id\":\"ad7c1f1c-e74c-4cdd-9599-035bd72b2fb1\",\"type\":\"Selection\"},{\"attributes\":{\"line_alpha\":0.1,\"line_color\":\"#1f77b4\",\"line_width\":1.5,\"x\":{\"field\":\"x\"},\"y\":{\"field\":\"y\"}},\"id\":\"bcd1763e-da7f-4d7c-8a1a-71da4a04aac1\",\"type\":\"Line\"},{\"attributes\":{},\"id\":\"cc86d119-685f-4fbe-868b-ce786053dd8a\",\"type\":\"UnionRenderers\"},{\"attributes\":{},\"id\":\"8c754c0d-64f2-4d7a-8516-ddb0930a9ff1\",\"type\":\"UnionRenderers\"},{\"attributes\":{},\"id\":\"916e3abb-cece-4d56-9601-d53e1d82f3f1\",\"type\":\"Selection\"},{\"attributes\":{},\"id\":\"f7f167e7-385d-41d7-bd08-e6c9b63bd7d0\",\"type\":\"UnionRenderers\"},{\"attributes\":{},\"id\":\"4eb0101f-1207-41f9-8d5c-44770190d25b\",\"type\":\"UnionRenderers\"},{\"attributes\":{\"data_source\":{\"id\":\"957c2d46-0519-4f02-9779-3f688c5a4324\",\"type\":\"ColumnDataSource\"},\"glyph\":{\"id\":\"cbe694c1-902c-41e0-b7eb-89f11b8ac419\",\"type\":\"Line\"},\"hover_glyph\":null,\"muted_glyph\":null,\"nonselection_glyph\":{\"id\":\"bcd1763e-da7f-4d7c-8a1a-71da4a04aac1\",\"type\":\"Line\"},\"selection_glyph\":null,\"view\":{\"id\":\"2c7363db-2a38-4d26-b64d-c347622631ff\",\"type\":\"CDSView\"}},\"id\":\"78440fcb-c174-4f0f-ae46-0c23660be751\",\"type\":\"GlyphRenderer\"},{\"attributes\":{},\"id\":\"2375249c-58a1-46cb-bc83-41fd47d2708d\",\"type\":\"UnionRenderers\"},{\"attributes\":{\"callback\":null,\"data\":{\"x\":{\"__ndarray__\":\"O987szy20L6VS+ANPf7PvgsyM3rh6su+wEiWIDBTxr6Q98frWui9vrNLD+6w3qW+0ZYigvTFqj5S+SAJcS7GPh4DOoaT7NQ+OMfWVaS14D6WJSIafazoPrTWABXDcfE+OdsT1bgG+D5FCA/riMf/PgYqLfsZFQQ/dHEWJTsdCT8Iog12nNAPP0m0tVL9eBQ/VChKZPbOGj9/TmHcM94hP4o2nuLnByg/cUTnnsDKLD8bR55KZn0tP38zNot7zyw/0htcz33LKz9P6enu/bcpP2hdcFNItyU/ECYyeuN7ID/7flknJ8EWPzh54TjshAI/ANPassSsCr+Gh8fULJEnv6SH310HPzO/sLVBMM1TNb+W/cU+HIY0v6wUuYNhdTO/gbJIMaQHN7+rAxqb0hNEv5xFetmHmFG/kdFcS2rfWr8H4/H+idtivyrnFrCgDWm/wBlxC9oHcL/bbar9vPpzvzg+EKFVG3i/bh12gJsVer86ztbKV0x4v5V3ciJKj3S/hhKl9SJXcL9lqfo3XYZnv3zibgTxV1u/5V7N3MkuOb/iUVAHWfxPP83vHiKhrWM/dMPs7szHbz8e2bqm0BF2PxVozrYuR3w/0hhpPY4zgT/f2qJ4UCqEP+Wc7Cfi+4Y/jvUZvwygiT9wiT1jSBaMP71EsAJgYo4/RcRT4zNGkD/ssz9a4E6RP8XdWASKTpI/xLlTKHVDkz+P5Dn1XR6UP7RDOyjatZQ/siE/6MfJlD+IEKNcJDGUP3qdlTNiBpM/WvTr2iCLkT9tlsPVnuWPP2PrViVKqIw/\",\"dtype\":\"float64\",\"shape\":[75]},\"y\":{\"__ndarray__\":\"GhExyth1ND/Sv8nbtpRIP2vylNV0PVE/aTum7souWD/At0SJ8fVgPw3Iuahxymc/MSNhhJWvcD/bTfBN02d3P2zb5nxnaoA/CD5h5MAGhz8NmeH1TyaQP+zrCsc9p5Y/LbKd76fGnz/bLW5ISEmmPww9YvTcQq8/JV2OstnstT8Er5Y7M8G+P0c+r3jqkcU/5h99k6ZBzj88bCIzFzjVP4enV8oyxN0//yH99nXg5D8qOpLLf0jtP5kqGJXUifQ/c9cS8kHP/D+/DpwzojQEQIEmwoanVwxA4lgXt9HgE0BSSZ2AJuIbQAMJih9jjiNA5q4l5INuK0AwTKYKRj0zQNv5fmq8/DpAaCJseHrtQkB/+zpwzoxKQM3MzMzMeFJAZmZmZmZqWEAAAAAAAFxeQM3MzMzMJmJAmpmZmZkfZUBmZmZmZhhoQDMzMzMzEWtAAAAAAAAKbkBmZmZmZoFwQM3MzMzM/XFAMzMzMzN6c0CamZmZmfZ0QAAAAAAAc3ZAZmZmZmbvd0DNzMzMzGt5QDMzMzMz6HpAmpmZmZlkfEAAAAAAAOF9QGZmZmZmXX9AZmZmZuZsgECamZmZGSuBQM3MzMxM6YFAAAAAAICngkAzMzMzs2WDQGZmZmbmI4RAmpmZmRnihEDNzMzMTKCFQAAAAACAXoZAMzMzM7Mch0BmZmZm5tqHQJqZmZkZmYhAzczMzExXiUAAAAAAgBWKQDMzMzOz04pAZmZmZuaRi0CamZmZGVCMQM3MzMxMDo1AAAAAAIDMjUAzMzMzs4qOQGZmZmbmSI9A\",\"dtype\":\"float64\",\"shape\":[75]}},\"selected\":{\"id\":\"ad7c1f1c-e74c-4cdd-9599-035bd72b2fb1\",\"type\":\"Selection\"},\"selection_policy\":{\"id\":\"4eb0101f-1207-41f9-8d5c-44770190d25b\",\"type\":\"UnionRenderers\"}},\"id\":\"957c2d46-0519-4f02-9779-3f688c5a4324\",\"type\":\"ColumnDataSource\"},{\"attributes\":{},\"id\":\"8bdda3b3-4d55-4906-9b23-658cdb45f6d6\",\"type\":\"UnionRenderers\"},{\"attributes\":{},\"id\":\"ef75e3a2-852f-4173-8ffb-d5d062d29f9f\",\"type\":\"Selection\"},{\"attributes\":{\"toolbar\":{\"id\":\"c4a691cc-5fb1-452b-89a4-fc12502c2064\",\"type\":\"ProxyToolbar\"},\"toolbar_location\":\"above\"},\"id\":\"c20a440e-b06a-4a41-a5c9-14a612cf64fe\",\"type\":\"ToolbarBox\"},{\"attributes\":{},\"id\":\"550ed52b-0cfe-4eae-973f-7dafb86960b4\",\"type\":\"Selection\"},{\"attributes\":{\"source\":{\"id\":\"ca01e3ae-6db0-4b6b-a2ed-29f164c61876\",\"type\":\"ColumnDataSource\"}},\"id\":\"9f9998e7-d383-4a6b-b174-69aa97a387e5\",\"type\":\"CDSView\"},{\"attributes\":{},\"id\":\"87acafa7-db4b-4f5d-a302-98ec69951501\",\"type\":\"Selection\"},{\"attributes\":{\"children\":[{\"id\":\"c20a440e-b06a-4a41-a5c9-14a612cf64fe\",\"type\":\"ToolbarBox\"},{\"id\":\"dac94d65-7b1e-45bb-8d81-9e3c4f189908\",\"type\":\"Column\"}]},\"id\":\"ac663a5a-6de9-4b36-9520-d97ad9a1508c\",\"type\":\"Column\"},{\"attributes\":{\"source\":{\"id\":\"957c2d46-0519-4f02-9779-3f688c5a4324\",\"type\":\"ColumnDataSource\"}},\"id\":\"2c7363db-2a38-4d26-b64d-c347622631ff\",\"type\":\"CDSView\"},{\"attributes\":{},\"id\":\"555aa7b5-8c22-458c-a0bb-b322b4caf806\",\"type\":\"Selection\"},{\"attributes\":{\"tools\":[{\"id\":\"dab86b7d-2b82-4649-a111-5d8b9cd985b3\",\"type\":\"PanTool\"},{\"id\":\"5f913e40-65c2-4999-a3ee-afc0bb280f6c\",\"type\":\"WheelZoomTool\"},{\"id\":\"591028f3-5f47-4390-9b57-5f1b16a369ce\",\"type\":\"BoxZoomTool\"},{\"id\":\"e980c098-3d6b-419a-a1cd-508b9a54e380\",\"type\":\"SaveTool\"},{\"id\":\"3f3a268a-0c42-4edd-a009-1e2979bb4f6a\",\"type\":\"ResetTool\"},{\"id\":\"a88569bc-9b65-41ab-af9c-b4cfc7997030\",\"type\":\"HelpTool\"},{\"id\":\"2d0ade22-c927-41e9-bab3-ae86dc69ac99\",\"type\":\"PanTool\"},{\"id\":\"25c513e2-ab8e-4908-a399-ff1e7441ebcb\",\"type\":\"WheelZoomTool\"},{\"id\":\"dca14dc0-4cba-4948-85a2-79136bf2aa7a\",\"type\":\"BoxZoomTool\"},{\"id\":\"6773950c-aeb7-4cdd-84ad-2f098b0b55c7\",\"type\":\"SaveTool\"},{\"id\":\"f4ddb568-9f19-491c-a3f3-2017a6ea18fd\",\"type\":\"ResetTool\"},{\"id\":\"0188df02-5732-4a86-8676-34f5394c25f9\",\"type\":\"HelpTool\"}]},\"id\":\"c4a691cc-5fb1-452b-89a4-fc12502c2064\",\"type\":\"ProxyToolbar\"},{\"attributes\":{\"callback\":null,\"data\":{\"x\":{\"__ndarray__\":\"gHZXzBrnzb5GjyZpemTMvps199uuQci+Z0iQi+Wxwr5MRGbJqeG2vksGh4OV3JC+rL921q6Usz5BXm2NOt3IPuIP+yRE9dU+T3B65yYB4T4k+lx5kafoPga/mKgLN/E+WdgabAB+9z75DWBYndX+Pjgb97iHVgM/mkJMIoYACD8LDXP2YDIOP7YzthVEUBM/RbY+jW0pGT9wjPBOyrMgPzXt3YU/YSY/t+9yAuB2Kj9RIAsb8TEqPzYll7A0HSg/InTFup0bJT9z6mg2yUIgP4fNgTjN9BA/AFcAi3Rn7b5NrlVo7Y4bv7UXOB8PiS2/3GOj8lwhOr/Vmd1jG91Ev0iwqenBS02/bdGSX/B9Ur+xMCav5YRWv9c/57HPI1u/oMph3oAiYL8QZFic5YZjv1p41YH3x2e/7npoZdtebL/fbSKfRaJwv3kWh6rNPHO/ZhK21ewFdr/NqSt6Q/x4vxTlGRcx3Hu/8b3mLUPJfL+wuY0/dnt6v5KH0AwTYna/L0Cf48Oucb/XDz0ikBZpv6x/xjt2Bly/K0S/VGPXMb/oDe9pMlJUP+gmH24PCmc/IamZv88icj+55Owg5dV4P69xyzjehX8/GvDA2x8Kgz8lMy2dTjOGP/KAcA2FMok/0k2xViz/iz/y5xjmvZeOP+eyMaxrf5A/KP0G69SckT8RvLLvsKeSPz6DRuNiopM/RhgggL2KlD/9CqsOP1OVPzJz+NkF2ZU/IAHeLYnmlT+LhMh/B1qVP8vrAgpnSpQ/PX+OGgnwkj9tRZgrTniRP30kCejc8o8/\",\"dtype\":\"float64\",\"shape\":[75]},\"y\":{\"__ndarray__\":\"GhExyth1ND/Sv8nbtpRIP2vylNV0PVE/aTum7souWD/At0SJ8fVgPw3Iuahxymc/MSNhhJWvcD/bTfBN02d3P2zb5nxnaoA/CD5h5MAGhz8NmeH1TyaQP+zrCsc9p5Y/LbKd76fGnz/bLW5ISEmmPww9YvTcQq8/JV2OstnstT8Er5Y7M8G+P0c+r3jqkcU/5h99k6ZBzj88bCIzFzjVP4enV8oyxN0//yH99nXg5D8qOpLLf0jtP5kqGJXUifQ/c9cS8kHP/D+/DpwzojQEQIEmwoanVwxA4lgXt9HgE0BSSZ2AJuIbQAMJih9jjiNA5q4l5INuK0AwTKYKRj0zQNv5fmq8/DpAaCJseHrtQkB/+zpwzoxKQM3MzMzMeFJAZmZmZmZqWEAAAAAAAFxeQM3MzMzMJmJAmpmZmZkfZUBmZmZmZhhoQDMzMzMzEWtAAAAAAAAKbkBmZmZmZoFwQM3MzMzM/XFAMzMzMzN6c0CamZmZmfZ0QAAAAAAAc3ZAZmZmZmbvd0DNzMzMzGt5QDMzMzMz6HpAmpmZmZlkfEAAAAAAAOF9QGZmZmZmXX9AZmZmZuZsgECamZmZGSuBQM3MzMxM6YFAAAAAAICngkAzMzMzs2WDQGZmZmbmI4RAmpmZmRnihEDNzMzMTKCFQAAAAACAXoZAMzMzM7Mch0BmZmZm5tqHQJqZmZkZmYhAzczMzExXiUAAAAAAgBWKQDMzMzOz04pAZmZmZuaRi0CamZmZGVCMQM3MzMxMDo1AAAAAAIDMjUAzMzMzs4qOQGZmZmbmSI9A\",\"dtype\":\"float64\",\"shape\":[75]}},\"selected\":{\"id\":\"ef75e3a2-852f-4173-8ffb-d5d062d29f9f\",\"type\":\"Selection\"},\"selection_policy\":{\"id\":\"2375249c-58a1-46cb-bc83-41fd47d2708d\",\"type\":\"UnionRenderers\"}},\"id\":\"68ebca41-1688-4377-83d1-27e3153b4257\",\"type\":\"ColumnDataSource\"},{\"attributes\":{\"callback\":null,\"data\":{\"x\":{\"__ndarray__\":\"XR3+VJzi0L6yJtDwS3bQvhuabHEOT86+6KrKIhSfyr61lPYtUKbFvszAuEWiML6+UWjzkmFSqr6aBi0WhXihPpvO+7FeXMI+NJo0x4Qc0j4BhBU5nIjdPrY9j23dG+Y+WyRG3L+V7z5faeh5p1f1PgubblW9P/s+AxojsgghAT99yZTEx8kFP1+EIKlxIww/tAPbkL57Ej/Qf4fgQ7gYP+9DCBDUqCA/aBz9f0KcIz+ghSvXovYiP5Iy0n/rrSA/Z1A97uzGGj/ydA73LIUQPx5uSpjmXMI+RYQ/LPC/FL9kpuSAzDMnv23vl3JlIDS/0jdjPDUcQL81ofsqDV5Iv/kmK5mz5FC/9XAaS+WgVb8uzv21+vpav/AwoQ22lGC/LrXzeMDOY79yIisUMXlnv+xVCE2Jomu/5ofkQBzfb7+Tjr6+4Bdyv9U2j8ytTHS/+0/NkOKPdr8op9372eB4v2jsY/e4BXu/HCj/eWt3e7/F3OKXQit5v4qcUblhSXW/l4VY+FjMcL8cM2gjua5nv0QB531G31m/oXEOTZYzJ7864nrfclhVP6fmNo7NT2c/LpZ8jZgpcj+1sVqkPsV4P8vNGUwhYn8/Jb6QVsDygj9Jhym/fBqGP4REtP/8HIk/A7oG6ITxiz9OxToTopWOP5fxOArlhJA/j7Wb7cWokT9srXEurLiSP1N5ZkLGtZM/zHniE5SdlD9/bZURK2SVPx+ZpLj+65U/rGayjMgIlj+hNw046J6VP4DYlUCRwZQ/80h8Ifafkz9bUYoj/WCSP0TnbyETGZE/\",\"dtype\":\"float64\",\"shape\":[75]},\"y\":{\"__ndarray__\":\"GhExyth1ND/Sv8nbtpRIP2vylNV0PVE/aTum7souWD/At0SJ8fVgPw3Iuahxymc/MSNhhJWvcD/bTfBN02d3P2zb5nxnaoA/CD5h5MAGhz8NmeH1TyaQP+zrCsc9p5Y/LbKd76fGnz/bLW5ISEmmPww9YvTcQq8/JV2OstnstT8Er5Y7M8G+P0c+r3jqkcU/5h99k6ZBzj88bCIzFzjVP4enV8oyxN0//yH99nXg5D8qOpLLf0jtP5kqGJXUifQ/c9cS8kHP/D+/DpwzojQEQIEmwoanVwxA4lgXt9HgE0BSSZ2AJuIbQAMJih9jjiNA5q4l5INuK0AwTKYKRj0zQNv5fmq8/DpAaCJseHrtQkB/+zpwzoxKQM3MzMzMeFJAZmZmZmZqWEAAAAAAAFxeQM3MzMzMJmJAmpmZmZkfZUBmZmZmZhhoQDMzMzMzEWtAAAAAAAAKbkBmZmZmZoFwQM3MzMzM/XFAMzMzMzN6c0CamZmZmfZ0QAAAAAAAc3ZAZmZmZmbvd0DNzMzMzGt5QDMzMzMz6HpAmpmZmZlkfEAAAAAAAOF9QGZmZmZmXX9AZmZmZuZsgECamZmZGSuBQM3MzMxM6YFAAAAAAICngkAzMzMzs2WDQGZmZmbmI4RAmpmZmRnihEDNzMzMTKCFQAAAAACAXoZAMzMzM7Mch0BmZmZm5tqHQJqZmZkZmYhAzczMzExXiUAAAAAAgBWKQDMzMzOz04pAZmZmZuaRi0CamZmZGVCMQM3MzMxMDo1AAAAAAIDMjUAzMzMzs4qOQGZmZmbmSI9A\",\"dtype\":\"float64\",\"shape\":[75]}},\"selected\":{\"id\":\"87acafa7-db4b-4f5d-a302-98ec69951501\",\"type\":\"Selection\"},\"selection_policy\":{\"id\":\"8c754c0d-64f2-4d7a-8516-ddb0930a9ff1\",\"type\":\"UnionRenderers\"}},\"id\":\"790d0b4b-32ac-48c6-993b-a06964028b6d\",\"type\":\"ColumnDataSource\"},{\"attributes\":{\"source\":{\"id\":\"68ebca41-1688-4377-83d1-27e3153b4257\",\"type\":\"ColumnDataSource\"}},\"id\":\"4aade78b-a62e-4b2e-abd4-8d0513f196e1\",\"type\":\"CDSView\"},{\"attributes\":{\"data_source\":{\"id\":\"ca01e3ae-6db0-4b6b-a2ed-29f164c61876\",\"type\":\"ColumnDataSource\"},\"glyph\":{\"id\":\"f139f00b-a576-4195-9527-4a620627a54d\",\"type\":\"Circle\"},\"hover_glyph\":null,\"muted_glyph\":null,\"nonselection_glyph\":{\"id\":\"4c68b2f2-0f24-4a73-a243-96a94abd8453\",\"type\":\"Circle\"},\"selection_glyph\":null,\"view\":{\"id\":\"9f9998e7-d383-4a6b-b174-69aa97a387e5\",\"type\":\"CDSView\"}},\"id\":\"a5d3661f-c302-4f95-b977-7007ba448457\",\"type\":\"GlyphRenderer\"},{\"attributes\":{},\"id\":\"8d414b78-ba1d-433f-885c-21789b1fdd68\",\"type\":\"Selection\"},{\"attributes\":{\"line_alpha\":0.6,\"line_color\":\"#984ea3\",\"line_width\":3,\"x\":{\"field\":\"x\"},\"y\":{\"field\":\"y\"}},\"id\":\"3ca3b888-9f5d-4339-b10a-73bb9e652432\",\"type\":\"Line\"},{\"attributes\":{\"data_source\":{\"id\":\"68ebca41-1688-4377-83d1-27e3153b4257\",\"type\":\"ColumnDataSource\"},\"glyph\":{\"id\":\"41a7d64b-c293-49db-9cf8-57c22b3f5934\",\"type\":\"Square\"},\"hover_glyph\":null,\"muted_glyph\":null,\"nonselection_glyph\":{\"id\":\"dc9940fd-97ed-421c-8f1a-e0cb0d677f05\",\"type\":\"Square\"},\"selection_glyph\":null,\"view\":{\"id\":\"4aade78b-a62e-4b2e-abd4-8d0513f196e1\",\"type\":\"CDSView\"}},\"id\":\"7f015956-4a61-4218-9197-396ef8521caa\",\"type\":\"GlyphRenderer\"},{\"attributes\":{\"callback\":null,\"data\":{\"x\":{\"__ndarray__\":\"gHZXzBrnzb5GjyZpemTMvps199uuQci+Z0iQi+Wxwr5MRGbJqeG2vksGh4OV3JC+rL921q6Usz5BXm2NOt3IPuIP+yRE9dU+T3B65yYB4T4k+lx5kafoPga/mKgLN/E+WdgabAB+9z75DWBYndX+Pjgb97iHVgM/mkJMIoYACD8LDXP2YDIOP7YzthVEUBM/RbY+jW0pGT9wjPBOyrMgPzXt3YU/YSY/t+9yAuB2Kj9RIAsb8TEqPzYll7A0HSg/InTFup0bJT9z6mg2yUIgP4fNgTjN9BA/AFcAi3Rn7b5NrlVo7Y4bv7UXOB8PiS2/3GOj8lwhOr/Vmd1jG91Ev0iwqenBS02/bdGSX/B9Ur+xMCav5YRWv9c/57HPI1u/oMph3oAiYL8QZFic5YZjv1p41YH3x2e/7npoZdtebL/fbSKfRaJwv3kWh6rNPHO/ZhK21ewFdr/NqSt6Q/x4vxTlGRcx3Hu/8b3mLUPJfL+wuY0/dnt6v5KH0AwTYna/L0Cf48Oucb/XDz0ikBZpv6x/xjt2Bly/K0S/VGPXMb/oDe9pMlJUP+gmH24PCmc/IamZv88icj+55Owg5dV4P69xyzjehX8/GvDA2x8Kgz8lMy2dTjOGP/KAcA2FMok/0k2xViz/iz/y5xjmvZeOP+eyMaxrf5A/KP0G69SckT8RvLLvsKeSPz6DRuNiopM/RhgggL2KlD/9CqsOP1OVPzJz+NkF2ZU/IAHeLYnmlT+LhMh/B1qVP8vrAgpnSpQ/PX+OGgnwkj9tRZgrTniRP30kCejc8o8/\",\"dtype\":\"float64\",\"shape\":[75]},\"y\":{\"__ndarray__\":\"GhExyth1ND/Sv8nbtpRIP2vylNV0PVE/aTum7souWD/At0SJ8fVgPw3Iuahxymc/MSNhhJWvcD/bTfBN02d3P2zb5nxnaoA/CD5h5MAGhz8NmeH1TyaQP+zrCsc9p5Y/LbKd76fGnz/bLW5ISEmmPww9YvTcQq8/JV2OstnstT8Er5Y7M8G+P0c+r3jqkcU/5h99k6ZBzj88bCIzFzjVP4enV8oyxN0//yH99nXg5D8qOpLLf0jtP5kqGJXUifQ/c9cS8kHP/D+/DpwzojQEQIEmwoanVwxA4lgXt9HgE0BSSZ2AJuIbQAMJih9jjiNA5q4l5INuK0AwTKYKRj0zQNv5fmq8/DpAaCJseHrtQkB/+zpwzoxKQM3MzMzMeFJAZmZmZmZqWEAAAAAAAFxeQM3MzMzMJmJAmpmZmZkfZUBmZmZmZhhoQDMzMzMzEWtAAAAAAAAKbkBmZmZmZoFwQM3MzMzM/XFAMzMzMzN6c0CamZmZmfZ0QAAAAAAAc3ZAZmZmZmbvd0DNzMzMzGt5QDMzMzMz6HpAmpmZmZlkfEAAAAAAAOF9QGZmZmZmXX9AZmZmZuZsgECamZmZGSuBQM3MzMxM6YFAAAAAAICngkAzMzMzs2WDQGZmZmbmI4RAmpmZmRnihEDNzMzMTKCFQAAAAACAXoZAMzMzM7Mch0BmZmZm5tqHQJqZmZkZmYhAzczMzExXiUAAAAAAgBWKQDMzMzOz04pAZmZmZuaRi0CamZmZGVCMQM3MzMxMDo1AAAAAAIDMjUAzMzMzs4qOQGZmZmbmSI9A\",\"dtype\":\"float64\",\"shape\":[75]}},\"selected\":{\"id\":\"550ed52b-0cfe-4eae-973f-7dafb86960b4\",\"type\":\"Selection\"},\"selection_policy\":{\"id\":\"cc86d119-685f-4fbe-868b-ce786053dd8a\",\"type\":\"UnionRenderers\"}},\"id\":\"3b244881-cb68-47cd-a5dc-4398c9e89ec9\",\"type\":\"ColumnDataSource\"},{\"attributes\":{\"line_color\":\"#4daf4a\",\"line_width\":1.5,\"x\":{\"field\":\"x\"},\"y\":{\"field\":\"y\"}},\"id\":\"cbe694c1-902c-41e0-b7eb-89f11b8ac419\",\"type\":\"Line\"},{\"attributes\":{\"source\":{\"id\":\"3b244881-cb68-47cd-a5dc-4398c9e89ec9\",\"type\":\"ColumnDataSource\"}},\"id\":\"b83b043c-031a-4ef4-a43c-0ffd0bab442f\",\"type\":\"CDSView\"},{\"attributes\":{\"line_alpha\":0.1,\"line_color\":\"#1f77b4\",\"line_width\":3,\"x\":{\"field\":\"x\"},\"y\":{\"field\":\"y\"}},\"id\":\"39ee488c-baa7-4718-a2f9-f8103d838a66\",\"type\":\"Line\"},{\"attributes\":{\"fill_alpha\":{\"value\":0.1},\"fill_color\":{\"value\":\"#1f77b4\"},\"line_alpha\":{\"value\":0.1},\"line_color\":{\"value\":\"#1f77b4\"},\"x\":{\"field\":\"x\"},\"y\":{\"field\":\"y\"}},\"id\":\"f5fb278e-c250-42f3-99a7-20bc7890fe01\",\"type\":\"Triangle\"},{\"attributes\":{\"fill_alpha\":{\"value\":0.7},\"fill_color\":{\"value\":\"#984ea3\"},\"line_alpha\":{\"value\":0.7},\"line_color\":{\"value\":\"#984ea3\"},\"x\":{\"field\":\"x\"},\"y\":{\"field\":\"y\"}},\"id\":\"41a7d64b-c293-49db-9cf8-57c22b3f5934\",\"type\":\"Square\"},{\"attributes\":{\"fill_alpha\":{\"value\":0.1},\"fill_color\":{\"value\":\"#1f77b4\"},\"line_alpha\":{\"value\":0.1},\"line_color\":{\"value\":\"#1f77b4\"},\"x\":{\"field\":\"x\"},\"y\":{\"field\":\"y\"}},\"id\":\"dc9940fd-97ed-421c-8f1a-e0cb0d677f05\",\"type\":\"Square\"},{\"attributes\":{\"data_source\":{\"id\":\"3b244881-cb68-47cd-a5dc-4398c9e89ec9\",\"type\":\"ColumnDataSource\"},\"glyph\":{\"id\":\"3ca3b888-9f5d-4339-b10a-73bb9e652432\",\"type\":\"Line\"},\"hover_glyph\":null,\"muted_glyph\":null,\"nonselection_glyph\":{\"id\":\"39ee488c-baa7-4718-a2f9-f8103d838a66\",\"type\":\"Line\"},\"selection_glyph\":null,\"view\":{\"id\":\"b83b043c-031a-4ef4-a43c-0ffd0bab442f\",\"type\":\"CDSView\"}},\"id\":\"25fae289-c13f-40c6-af62-3dee89a2d957\",\"type\":\"GlyphRenderer\"},{\"attributes\":{\"fill_alpha\":{\"value\":0.1},\"fill_color\":{\"value\":\"#1f77b4\"},\"line_alpha\":{\"value\":0.1},\"line_color\":{\"value\":\"#1f77b4\"},\"x\":{\"field\":\"x\"},\"y\":{\"field\":\"y\"}},\"id\":\"4c68b2f2-0f24-4a73-a243-96a94abd8453\",\"type\":\"Circle\"},{\"attributes\":{\"fill_alpha\":{\"value\":0.7},\"fill_color\":{\"value\":\"#377eb8\"},\"line_alpha\":{\"value\":0.7},\"line_color\":{\"value\":\"#377eb8\"},\"x\":{\"field\":\"x\"},\"y\":{\"field\":\"y\"}},\"id\":\"93e8ce99-3351-4a4a-ada0-07f1fbf02c5c\",\"type\":\"Triangle\"}],\"root_ids\":[\"ac663a5a-6de9-4b36-9520-d97ad9a1508c\"]},\"title\":\"Bokeh Application\",\"version\":\"0.12.16\"}};\n",
       "  var render_items = [{\"docid\":\"cfea321e-9880-45e1-858f-c82805b3d823\",\"elementid\":\"0bc2348e-6e98-48ed-854b-e8baadab9473\",\"modelid\":\"ac663a5a-6de9-4b36-9520-d97ad9a1508c\"}];\n",
       "  root.Bokeh.embed.embed_items_notebook(docs_json, render_items);\n",
       "\n",
       "  }\n",
       "  if (root.Bokeh !== undefined) {\n",
       "    embed_document(root);\n",
       "  } else {\n",
       "    var attempts = 0;\n",
       "    var timer = setInterval(function(root) {\n",
       "      if (root.Bokeh !== undefined) {\n",
       "        embed_document(root);\n",
       "        clearInterval(timer);\n",
       "      }\n",
       "      attempts++;\n",
       "      if (attempts > 100) {\n",
       "        console.log(\"Bokeh: ERROR: Unable to run BokehJS code because BokehJS library is missing\")\n",
       "        clearInterval(timer);\n",
       "      }\n",
       "    }, 10, root)\n",
       "  }\n",
       "})(window);"
      ],
      "application/vnd.bokehjs_exec.v0+json": ""
     },
     "metadata": {
      "application/vnd.bokehjs_exec.v0+json": {
       "id": "ac663a5a-6de9-4b36-9520-d97ad9a1508c"
      }
     },
     "output_type": "display_data"
    },
    {
     "data": {
      "text/markdown": [
       "*FIGURE.* Cooling rates. g=3"
      ],
      "text/plain": [
       "<IPython.core.display.Markdown object>"
      ]
     },
     "metadata": {},
     "output_type": "display_data"
    },
    {
     "data": {
      "text/html": [
       "\n",
       "<div class=\"bk-root\">\n",
       "    <div class=\"bk-plotdiv\" id=\"e63a5ec0-d4c4-4ffb-957b-f69601baddee\"></div>\n",
       "</div>"
      ]
     },
     "metadata": {},
     "output_type": "display_data"
    },
    {
     "data": {
      "application/javascript": [
       "(function(root) {\n",
       "  function embed_document(root) {\n",
       "    \n",
       "  var docs_json = {\"13bc334e-3fe8-4865-a714-f6772ba7a47e\":{\"roots\":{\"references\":[{\"attributes\":{\"source\":{\"id\":\"b9ef873b-b069-4615-8ccd-42a1505a8919\",\"type\":\"ColumnDataSource\"}},\"id\":\"30e32bd5-a699-453f-a3fe-f442a70aa670\",\"type\":\"CDSView\"},{\"attributes\":{\"callback\":null,\"data\":{\"x\":{\"__ndarray__\":\"KcQ7nAAxJb/7DTzkt6Akv1yJ1Gd5UiO/XpXLlt28Ib9RjxwUGK8fv9dj8bvXKBu/4sPthy/FFb+LNZL7k7wOv+QkHIh4Mf++1e8iytMj0j4BpuP7SkwHPyIGUikeABg/KRAe9zI0Iz+wzWJwJZQqP4WDwlhofzA/lgzJz6KMMz8MMSsfC942PylkxhZkfTo/mAAXsM5xPj8URhFmJmFBP4s9pZACfUM/eFICAXvcQT9oZYubpic4P6tDO/QimCo/itIf24l9FT8hXpkpMVHXvv/aZqPw9RG/O2HnTHuSHL8uVnJbhGUhv0+oqIjLrCO/5jK+ziHKJb+J07Ek9twnv1KRxZUiiim/5UfvYDPcKr99EaWdTY0svwK0BOsn1i6/4//JA8bCML/mNszKxl0yvxo44T0sIjS/YIjkjDXrNb+dsqO5zqo3v3z77D8Kazm/POIkC9QqO7+/QxZbZ9w8v9yV5ME+bT6/SN03PMbLPr+vb2qb98M8v1LVDSkM+ji/dQ3IDdQZNL8+NRAVTF0sv3a4X2l64Ry/ll66o8bH5T7gJp8gD/AiPz/9WTzBXjM/TsKRJFo4Pj+ys7WAS/FEP2YYpedtC0s/kAkC8SSsUD/hDU4k1vJTP3LGNgVHRFc/xEuIYn+MWj8LKKzCWsRdP06QkD2Nf2A//xToRiEYYj+o23jAzKFjP2Vb3Rx0KmU/Ob8XFSetZj+zjQfwmRJoP/m6EQHDRWk/JtqZrhUgaj/GMKgxyHZqP/EfQHrSX2o/CGnx2SYLaj+YCsTHNI5pP8fSgnXuBmk/\",\"dtype\":\"float64\",\"shape\":[75]},\"y\":{\"__ndarray__\":\"GhExyth1ND/Sv8nbtpRIP2vylNV0PVE/aTum7souWD/At0SJ8fVgPw3Iuahxymc/MSNhhJWvcD/bTfBN02d3P2zb5nxnaoA/CD5h5MAGhz8NmeH1TyaQP+zrCsc9p5Y/LbKd76fGnz/bLW5ISEmmPww9YvTcQq8/JV2OstnstT8Er5Y7M8G+P0c+r3jqkcU/5h99k6ZBzj88bCIzFzjVP4enV8oyxN0//yH99nXg5D8qOpLLf0jtP5kqGJXUifQ/c9cS8kHP/D+/DpwzojQEQIEmwoanVwxA4lgXt9HgE0BSSZ2AJuIbQAMJih9jjiNA5q4l5INuK0AwTKYKRj0zQNv5fmq8/DpAaCJseHrtQkB/+zpwzoxKQM3MzMzMeFJAZmZmZmZqWEAAAAAAAFxeQM3MzMzMJmJAmpmZmZkfZUBmZmZmZhhoQDMzMzMzEWtAAAAAAAAKbkBmZmZmZoFwQM3MzMzM/XFAMzMzMzN6c0CamZmZmfZ0QAAAAAAAc3ZAZmZmZmbvd0DNzMzMzGt5QDMzMzMz6HpAmpmZmZlkfEAAAAAAAOF9QGZmZmZmXX9AZmZmZuZsgECamZmZGSuBQM3MzMxM6YFAAAAAAICngkAzMzMzs2WDQGZmZmbmI4RAmpmZmRnihEDNzMzMTKCFQAAAAACAXoZAMzMzM7Mch0BmZmZm5tqHQJqZmZkZmYhAzczMzExXiUAAAAAAgBWKQDMzMzOz04pAZmZmZuaRi0CamZmZGVCMQM3MzMxMDo1AAAAAAIDMjUAzMzMzs4qOQGZmZmbmSI9A\",\"dtype\":\"float64\",\"shape\":[75]}},\"selected\":{\"id\":\"022f0564-a51a-461a-9343-0fca0ccf813b\",\"type\":\"Selection\"},\"selection_policy\":{\"id\":\"a133211d-d6cd-4928-a226-d11ff7d79f85\",\"type\":\"UnionRenderers\"}},\"id\":\"36d2c533-c524-4a3e-b4b5-4ac6b2b0f645\",\"type\":\"ColumnDataSource\"},{\"attributes\":{\"fill_alpha\":{\"value\":0.7},\"fill_color\":{\"value\":\"#984ea3\"},\"line_alpha\":{\"value\":0.7},\"line_color\":{\"value\":\"#984ea3\"},\"x\":{\"field\":\"x\"},\"y\":{\"field\":\"y\"}},\"id\":\"2e1377fe-2d08-436e-8784-7ff23aa2eaaa\",\"type\":\"Square\"},{\"attributes\":{\"data_source\":{\"id\":\"a8c5c477-9e5e-4796-8fea-88d8b9b50644\",\"type\":\"ColumnDataSource\"},\"glyph\":{\"id\":\"31d71914-2d62-4a55-8e66-a60e1e3ef6eb\",\"type\":\"Line\"},\"hover_glyph\":null,\"muted_glyph\":null,\"nonselection_glyph\":{\"id\":\"d7f67d66-7f2b-41bb-be20-0992bccf1db4\",\"type\":\"Line\"},\"selection_glyph\":null,\"view\":{\"id\":\"216aa529-3a03-47e9-af8a-b07aed89690b\",\"type\":\"CDSView\"}},\"id\":\"607696f5-6943-4812-8604-94cda0357a66\",\"type\":\"GlyphRenderer\"},{\"attributes\":{\"bottom_units\":\"screen\",\"fill_alpha\":{\"value\":0.5},\"fill_color\":{\"value\":\"lightgrey\"},\"left_units\":\"screen\",\"level\":\"overlay\",\"line_alpha\":{\"value\":1.0},\"line_color\":{\"value\":\"black\"},\"line_dash\":[4,4],\"line_width\":{\"value\":2},\"plot\":null,\"render_mode\":\"css\",\"right_units\":\"screen\",\"top_units\":\"screen\"},\"id\":\"7a496051-02b6-4f21-ab2c-2f50ec16cdff\",\"type\":\"BoxAnnotation\"},{\"attributes\":{\"data_source\":{\"id\":\"f791db30-6d14-4d39-916d-5eab0785bc24\",\"type\":\"ColumnDataSource\"},\"glyph\":{\"id\":\"c1136521-772f-4537-9a6e-dbeea2b2bf85\",\"type\":\"Line\"},\"hover_glyph\":null,\"muted_glyph\":null,\"nonselection_glyph\":{\"id\":\"50a3eaf7-fcbf-4ccb-b34e-9098a8e6dea3\",\"type\":\"Line\"},\"selection_glyph\":null,\"view\":{\"id\":\"55af6f15-017b-4cd9-b271-49476b5994c3\",\"type\":\"CDSView\"}},\"id\":\"0c1277ea-eacd-49dc-8f55-cc4fc5ff2f91\",\"type\":\"GlyphRenderer\"},{\"attributes\":{\"source\":{\"id\":\"f791db30-6d14-4d39-916d-5eab0785bc24\",\"type\":\"ColumnDataSource\"}},\"id\":\"55af6f15-017b-4cd9-b271-49476b5994c3\",\"type\":\"CDSView\"},{\"attributes\":{\"callback\":null,\"data\":{\"x\":{\"__ndarray__\":\"KcQ7nAAxJb/7DTzkt6Akv1yJ1Gd5UiO/XpXLlt28Ib9RjxwUGK8fv9dj8bvXKBu/4sPthy/FFb+LNZL7k7wOv+QkHIh4Mf++1e8iytMj0j4BpuP7SkwHPyIGUikeABg/KRAe9zI0Iz+wzWJwJZQqP4WDwlhofzA/lgzJz6KMMz8MMSsfC942PylkxhZkfTo/mAAXsM5xPj8URhFmJmFBP4s9pZACfUM/eFICAXvcQT9oZYubpic4P6tDO/QimCo/itIf24l9FT8hXpkpMVHXvv/aZqPw9RG/O2HnTHuSHL8uVnJbhGUhv0+oqIjLrCO/5jK+ziHKJb+J07Ek9twnv1KRxZUiiim/5UfvYDPcKr99EaWdTY0svwK0BOsn1i6/4//JA8bCML/mNszKxl0yvxo44T0sIjS/YIjkjDXrNb+dsqO5zqo3v3z77D8Kazm/POIkC9QqO7+/QxZbZ9w8v9yV5ME+bT6/SN03PMbLPr+vb2qb98M8v1LVDSkM+ji/dQ3IDdQZNL8+NRAVTF0sv3a4X2l64Ry/ll66o8bH5T7gJp8gD/AiPz/9WTzBXjM/TsKRJFo4Pj+ys7WAS/FEP2YYpedtC0s/kAkC8SSsUD/hDU4k1vJTP3LGNgVHRFc/xEuIYn+MWj8LKKzCWsRdP06QkD2Nf2A//xToRiEYYj+o23jAzKFjP2Vb3Rx0KmU/Ob8XFSetZj+zjQfwmRJoP/m6EQHDRWk/JtqZrhUgaj/GMKgxyHZqP/EfQHrSX2o/CGnx2SYLaj+YCsTHNI5pP8fSgnXuBmk/\",\"dtype\":\"float64\",\"shape\":[75]},\"y\":{\"__ndarray__\":\"GhExyth1ND/Sv8nbtpRIP2vylNV0PVE/aTum7souWD/At0SJ8fVgPw3Iuahxymc/MSNhhJWvcD/bTfBN02d3P2zb5nxnaoA/CD5h5MAGhz8NmeH1TyaQP+zrCsc9p5Y/LbKd76fGnz/bLW5ISEmmPww9YvTcQq8/JV2OstnstT8Er5Y7M8G+P0c+r3jqkcU/5h99k6ZBzj88bCIzFzjVP4enV8oyxN0//yH99nXg5D8qOpLLf0jtP5kqGJXUifQ/c9cS8kHP/D+/DpwzojQEQIEmwoanVwxA4lgXt9HgE0BSSZ2AJuIbQAMJih9jjiNA5q4l5INuK0AwTKYKRj0zQNv5fmq8/DpAaCJseHrtQkB/+zpwzoxKQM3MzMzMeFJAZmZmZmZqWEAAAAAAAFxeQM3MzMzMJmJAmpmZmZkfZUBmZmZmZhhoQDMzMzMzEWtAAAAAAAAKbkBmZmZmZoFwQM3MzMzM/XFAMzMzMzN6c0CamZmZmfZ0QAAAAAAAc3ZAZmZmZmbvd0DNzMzMzGt5QDMzMzMz6HpAmpmZmZlkfEAAAAAAAOF9QGZmZmZmXX9AZmZmZuZsgECamZmZGSuBQM3MzMxM6YFAAAAAAICngkAzMzMzs2WDQGZmZmbmI4RAmpmZmRnihEDNzMzMTKCFQAAAAACAXoZAMzMzM7Mch0BmZmZm5tqHQJqZmZkZmYhAzczMzExXiUAAAAAAgBWKQDMzMzOz04pAZmZmZuaRi0CamZmZGVCMQM3MzMxMDo1AAAAAAIDMjUAzMzMzs4qOQGZmZmbmSI9A\",\"dtype\":\"float64\",\"shape\":[75]}},\"selected\":{\"id\":\"3817104c-8994-40af-949f-cb426e4b5edc\",\"type\":\"Selection\"},\"selection_policy\":{\"id\":\"fe48288f-c83f-4a26-ab0e-b85298ed04ea\",\"type\":\"UnionRenderers\"}},\"id\":\"a8c5c477-9e5e-4796-8fea-88d8b9b50644\",\"type\":\"ColumnDataSource\"},{\"attributes\":{\"line_alpha\":0.1,\"line_color\":\"#1f77b4\",\"line_width\":3,\"x\":{\"field\":\"x\"},\"y\":{\"field\":\"y\"}},\"id\":\"d7f67d66-7f2b-41bb-be20-0992bccf1db4\",\"type\":\"Line\"},{\"attributes\":{\"line_color\":\"#4daf4a\",\"line_width\":1.5,\"x\":{\"field\":\"x\"},\"y\":{\"field\":\"y\"}},\"id\":\"c1136521-772f-4537-9a6e-dbeea2b2bf85\",\"type\":\"Line\"},{\"attributes\":{\"source\":{\"id\":\"a8c5c477-9e5e-4796-8fea-88d8b9b50644\",\"type\":\"ColumnDataSource\"}},\"id\":\"216aa529-3a03-47e9-af8a-b07aed89690b\",\"type\":\"CDSView\"},{\"attributes\":{\"line_alpha\":0.1,\"line_color\":\"#1f77b4\",\"line_width\":2,\"x\":{\"field\":\"x\"},\"y\":{\"field\":\"y\"}},\"id\":\"b4aa14d9-1a30-4926-af47-09f86b6a3793\",\"type\":\"Line\"},{\"attributes\":{\"line_alpha\":0.6,\"line_color\":\"#984ea3\",\"line_width\":3,\"x\":{\"field\":\"x\"},\"y\":{\"field\":\"y\"}},\"id\":\"31d71914-2d62-4a55-8e66-a60e1e3ef6eb\",\"type\":\"Line\"},{\"attributes\":{\"callback\":null,\"data\":{\"x\":{\"__ndarray__\":\"2RL3JqOKI7+q+opjCQkjv5YIFC2Z3CG/QIcokrpvIL9JAHy3rHUdv0+54VxUYhm/2r880MmGFL8XdY/JcoENv+YBlefJsP++5H5/p6PjoT7LfDto90QDPwFW5v+VyhQ/MTaJTornID8GqY0ezZEnPwDvGc2rXi0/+wk0JZ5xMT9cZoISpXE0PxyLdug+uDc/7oNL+95LOz9dAUEU3jI/P1b/oSjEgUE/nJ1N5OsIQD+oZ9vBVps1P40918pDlCc/dXI818eCEj89qbGAgr7hvpegjytHHhG/7OfNFVSyGr854iHlgyggv3vap6WTOCK/cUah9O4jJL/vcebbYgUmv9w2BdvMjSe/w1o7XPLJKL8frTU6clgqv/2M4ocQeCy/WoDIzvX5Lr9aMkBhKPQwvzKUAqTNlDK/6oIBsMozNL/0PMd8Jc81v0RoMc/wZje/tI27YVT7OL/EWpTLGos6v59Jpx0a8Du/SsqU+7QiPL9mNm0ikT86vwsArEq2zDa/pNYnB95dMr8IMC8hwP4pv0QkWveQwBq/Pqhh4X8A4j4/2RZ5wnohP/qZ7bbczjE/GpC0MgO1Oz9QFF5GFSxDP4oRFXd+zEg/4I6OJYSoTj98B08KclVSPxJ3u+1pX1U/tLI7rIloWD9jvyGvq2tbP4TCuzOOZV4/87Z7/bWqYD/8VWlTwR1iP0LVIVxli2M/nQvxOUjwZD/5EtBaT0FmPyhfFc5DZGc/mXWooWsxaD/4iLDT441oP1aEEXanhmg/6dt9o+FBaD/oH7X05d9nP/vZWmvgcWc/\",\"dtype\":\"float64\",\"shape\":[75]},\"y\":{\"__ndarray__\":\"GhExyth1ND/Sv8nbtpRIP2vylNV0PVE/aTum7souWD/At0SJ8fVgPw3Iuahxymc/MSNhhJWvcD/bTfBN02d3P2zb5nxnaoA/CD5h5MAGhz8NmeH1TyaQP+zrCsc9p5Y/LbKd76fGnz/bLW5ISEmmPww9YvTcQq8/JV2OstnstT8Er5Y7M8G+P0c+r3jqkcU/5h99k6ZBzj88bCIzFzjVP4enV8oyxN0//yH99nXg5D8qOpLLf0jtP5kqGJXUifQ/c9cS8kHP/D+/DpwzojQEQIEmwoanVwxA4lgXt9HgE0BSSZ2AJuIbQAMJih9jjiNA5q4l5INuK0AwTKYKRj0zQNv5fmq8/DpAaCJseHrtQkB/+zpwzoxKQM3MzMzMeFJAZmZmZmZqWEAAAAAAAFxeQM3MzMzMJmJAmpmZmZkfZUBmZmZmZhhoQDMzMzMzEWtAAAAAAAAKbkBmZmZmZoFwQM3MzMzM/XFAMzMzMzN6c0CamZmZmfZ0QAAAAAAAc3ZAZmZmZmbvd0DNzMzMzGt5QDMzMzMz6HpAmpmZmZlkfEAAAAAAAOF9QGZmZmZmXX9AZmZmZuZsgECamZmZGSuBQM3MzMxM6YFAAAAAAICngkAzMzMzs2WDQGZmZmbmI4RAmpmZmRnihEDNzMzMTKCFQAAAAACAXoZAMzMzM7Mch0BmZmZm5tqHQJqZmZkZmYhAzczMzExXiUAAAAAAgBWKQDMzMzOz04pAZmZmZuaRi0CamZmZGVCMQM3MzMxMDo1AAAAAAIDMjUAzMzMzs4qOQGZmZmbmSI9A\",\"dtype\":\"float64\",\"shape\":[75]}},\"selected\":{\"id\":\"b8fa69d5-2b46-400b-930b-418ab9c9de74\",\"type\":\"Selection\"},\"selection_policy\":{\"id\":\"1e9c0d74-2ce0-46cf-ac3d-19bcda61801c\",\"type\":\"UnionRenderers\"}},\"id\":\"3ac5e5fd-092a-435b-ab20-bebbd774307c\",\"type\":\"ColumnDataSource\"},{\"attributes\":{\"above\":[{\"id\":\"5a86f41f-561f-4f15-8ad0-72dc9a223942\",\"type\":\"Legend\"}],\"below\":[{\"id\":\"62a4cdf9-1bfa-4799-bc47-a1e5de2a0a6c\",\"type\":\"LinearAxis\"}],\"left\":[{\"id\":\"cf3d2d8c-2b14-4837-8275-868c11cee2ca\",\"type\":\"LogAxis\"}],\"plot_height\":500,\"plot_width\":400,\"renderers\":[{\"id\":\"62a4cdf9-1bfa-4799-bc47-a1e5de2a0a6c\",\"type\":\"LinearAxis\"},{\"id\":\"e6e6fb5d-0ebb-4667-bb4c-72629c65680a\",\"type\":\"Grid\"},{\"id\":\"cf3d2d8c-2b14-4837-8275-868c11cee2ca\",\"type\":\"LogAxis\"},{\"id\":\"6a2a32d0-789a-4056-b240-d39ee4e9b35b\",\"type\":\"Grid\"},{\"id\":\"7a496051-02b6-4f21-ab2c-2f50ec16cdff\",\"type\":\"BoxAnnotation\"},{\"id\":\"c5ba05e9-6088-4f9e-8721-8560337c2bcb\",\"type\":\"GlyphRenderer\"},{\"id\":\"48335aa3-b599-4e3b-9ce5-d7132b2d5bf8\",\"type\":\"GlyphRenderer\"},{\"id\":\"c012cc19-f844-462d-b5f1-f75f3477f5ad\",\"type\":\"GlyphRenderer\"},{\"id\":\"73a5a7e6-58a3-4dd0-8d6f-cebba9dc5186\",\"type\":\"GlyphRenderer\"},{\"id\":\"ebdaa697-e70e-4635-a422-142cd99f34d0\",\"type\":\"GlyphRenderer\"},{\"id\":\"d4cd7585-b683-4c8a-919f-2192897f67df\",\"type\":\"GlyphRenderer\"},{\"id\":\"5a86f41f-561f-4f15-8ad0-72dc9a223942\",\"type\":\"Legend\"}],\"title\":{\"id\":\"f55eddcf-8b77-48a9-9d71-5a836d1f91da\",\"type\":\"Title\"},\"toolbar\":{\"id\":\"c099ea2b-8206-4f38-949b-1160e140fb60\",\"type\":\"Toolbar\"},\"toolbar_location\":null,\"x_range\":{\"id\":\"aa867ab3-ca5d-4b6b-b963-45483cb87307\",\"type\":\"Range1d\"},\"x_scale\":{\"id\":\"6af66089-728f-4aaf-87f8-f80aa6740977\",\"type\":\"LinearScale\"},\"y_range\":{\"id\":\"39e6eaa6-1611-4c3f-82a4-6a30e24fcffe\",\"type\":\"Range1d\"},\"y_scale\":{\"id\":\"deec0c4b-cf60-486e-83ec-12424d87a74b\",\"type\":\"LogScale\"}},\"id\":\"b45b677a-c7ba-4e4a-ae82-c10aee6f2ec4\",\"subtype\":\"Figure\",\"type\":\"Plot\"},{\"attributes\":{\"fill_alpha\":{\"value\":0.1},\"fill_color\":{\"value\":\"#1f77b4\"},\"line_alpha\":{\"value\":0.1},\"line_color\":{\"value\":\"#1f77b4\"},\"x\":{\"field\":\"x\"},\"y\":{\"field\":\"y\"}},\"id\":\"71b6f4ca-7f83-44e5-8c47-94b19055c4b8\",\"type\":\"Square\"},{\"attributes\":{\"fill_alpha\":{\"value\":0.1},\"fill_color\":{\"value\":\"#1f77b4\"},\"line_alpha\":{\"value\":0.1},\"line_color\":{\"value\":\"#1f77b4\"},\"x\":{\"field\":\"x\"},\"y\":{\"field\":\"y\"}},\"id\":\"238e13f4-2973-489f-9bd3-f4a3d1e1ad16\",\"type\":\"Triangle\"},{\"attributes\":{\"callback\":null,\"data\":{\"x\":{\"__ndarray__\":\"b7lPd1BBIr8Km3nAO54hv5kxbMo/IyC/FGvMPmOsHL+21J4i9lsYv3pzVsnvNRO/C4lIL5QpCr8uHgUn9Dr3vgW+Rn0XUOY+ZAC5fbbZCT9lf2PVedkYP+SD9CwQbCM/8cAS5+qTKz9uUdxsyfUxP9yjVZFOljU/5DQITEQJOT+ilCO0i8g8P4yqDCWhb0A/5/0epjKrQj+YrxhFXhpFPxPn+A7deEc/s0OrfJeeRT9M6hbkOiY+P3eUBcHm1TE//kYywv2gIT98pKfwHxMCPyLVhWgqvQO/HUx/tg8WFr/VSLSkaEwdv32TeGiSTSG/t/ScGCa9I79dS9w0QxQmv1JCCv0E7ye/6HaNNTlZKb+zOvgfqg4rv89NgXzCVS2/X1xDc3MBML8nm6q6nJwxv7s5hHqDbzO/3jnIWEhGNb9zWO9EYyA3v9uNI0HA/ji/GV03LSrjOr9+LvTJJ808v4CVzNt2jz6/hMHRPaHsPr9ZsbNjc9M8v2kilcQZ5zi/2hJxL3vdM79igin/P40rv+9csmWoiRq/PGfeY37k+D4pAh+TmIslP1xK3lpv+DQ/8JdaL0wJQD862195i/tFP/dqf5AmQEw/J7epXtdfUT8IN2J0XLBUP/w/6JBEBVg/7cWE0j9TWz8aBQhwSJReP+Ph121r4mA/BVjf1TZyYj+KtNXw4vljP1XQIaoYeWU/MTwcxBrsZj+rFukhuUVoP0Y644KKZmk/UeQRKNceaj/uIgMyWE5qP8fHZsgqBWo/1qZD/MJxaT/ml+DcL7toPxfybyz09Wc/\",\"dtype\":\"float64\",\"shape\":[75]},\"y\":{\"__ndarray__\":\"GhExyth1ND/Sv8nbtpRIP2vylNV0PVE/aTum7souWD/At0SJ8fVgPw3Iuahxymc/MSNhhJWvcD/bTfBN02d3P2zb5nxnaoA/CD5h5MAGhz8NmeH1TyaQP+zrCsc9p5Y/LbKd76fGnz/bLW5ISEmmPww9YvTcQq8/JV2OstnstT8Er5Y7M8G+P0c+r3jqkcU/5h99k6ZBzj88bCIzFzjVP4enV8oyxN0//yH99nXg5D8qOpLLf0jtP5kqGJXUifQ/c9cS8kHP/D+/DpwzojQEQIEmwoanVwxA4lgXt9HgE0BSSZ2AJuIbQAMJih9jjiNA5q4l5INuK0AwTKYKRj0zQNv5fmq8/DpAaCJseHrtQkB/+zpwzoxKQM3MzMzMeFJAZmZmZmZqWEAAAAAAAFxeQM3MzMzMJmJAmpmZmZkfZUBmZmZmZhhoQDMzMzMzEWtAAAAAAAAKbkBmZmZmZoFwQM3MzMzM/XFAMzMzMzN6c0CamZmZmfZ0QAAAAAAAc3ZAZmZmZmbvd0DNzMzMzGt5QDMzMzMz6HpAmpmZmZlkfEAAAAAAAOF9QGZmZmZmXX9AZmZmZuZsgECamZmZGSuBQM3MzMxM6YFAAAAAAICngkAzMzMzs2WDQGZmZmbmI4RAmpmZmRnihEDNzMzMTKCFQAAAAACAXoZAMzMzM7Mch0BmZmZm5tqHQJqZmZkZmYhAzczMzExXiUAAAAAAgBWKQDMzMzOz04pAZmZmZuaRi0CamZmZGVCMQM3MzMxMDo1AAAAAAIDMjUAzMzMzs4qOQGZmZmbmSI9A\",\"dtype\":\"float64\",\"shape\":[75]}},\"selected\":{\"id\":\"d01edc89-d420-4730-b5b0-eeb12d542d6b\",\"type\":\"Selection\"},\"selection_policy\":{\"id\":\"718437bb-5567-4f86-be17-cdba9959dc2d\",\"type\":\"UnionRenderers\"}},\"id\":\"aed38298-d4ed-4cd7-b07f-d170829e49d9\",\"type\":\"ColumnDataSource\"},{\"attributes\":{\"line_alpha\":0.1,\"line_color\":\"#1f77b4\",\"line_width\":1.5,\"x\":{\"field\":\"x\"},\"y\":{\"field\":\"y\"}},\"id\":\"50a3eaf7-fcbf-4ccb-b34e-9098a8e6dea3\",\"type\":\"Line\"},{\"attributes\":{\"source\":{\"id\":\"3ac5e5fd-092a-435b-ab20-bebbd774307c\",\"type\":\"ColumnDataSource\"}},\"id\":\"d85e9825-8c51-4812-b096-e254c7316170\",\"type\":\"CDSView\"},{\"attributes\":{\"callback\":null,\"data\":{\"x\":{\"__ndarray__\":\"2RL3JqOKI7+q+opjCQkjv5YIFC2Z3CG/QIcokrpvIL9JAHy3rHUdv0+54VxUYhm/2r880MmGFL8XdY/JcoENv+YBlefJsP++5H5/p6PjoT7LfDto90QDPwFW5v+VyhQ/MTaJTornID8GqY0ezZEnPwDvGc2rXi0/+wk0JZ5xMT9cZoISpXE0PxyLdug+uDc/7oNL+95LOz9dAUEU3jI/P1b/oSjEgUE/nJ1N5OsIQD+oZ9vBVps1P40918pDlCc/dXI818eCEj89qbGAgr7hvpegjytHHhG/7OfNFVSyGr854iHlgyggv3vap6WTOCK/cUah9O4jJL/vcebbYgUmv9w2BdvMjSe/w1o7XPLJKL8frTU6clgqv/2M4ocQeCy/WoDIzvX5Lr9aMkBhKPQwvzKUAqTNlDK/6oIBsMozNL/0PMd8Jc81v0RoMc/wZje/tI27YVT7OL/EWpTLGos6v59Jpx0a8Du/SsqU+7QiPL9mNm0ikT86vwsArEq2zDa/pNYnB95dMr8IMC8hwP4pv0QkWveQwBq/Pqhh4X8A4j4/2RZ5wnohP/qZ7bbczjE/GpC0MgO1Oz9QFF5GFSxDP4oRFXd+zEg/4I6OJYSoTj98B08KclVSPxJ3u+1pX1U/tLI7rIloWD9jvyGvq2tbP4TCuzOOZV4/87Z7/bWqYD/8VWlTwR1iP0LVIVxli2M/nQvxOUjwZD/5EtBaT0FmPyhfFc5DZGc/mXWooWsxaD/4iLDT441oP1aEEXanhmg/6dt9o+FBaD/oH7X05d9nP/vZWmvgcWc/\",\"dtype\":\"float64\",\"shape\":[75]},\"y\":{\"__ndarray__\":\"GhExyth1ND/Sv8nbtpRIP2vylNV0PVE/aTum7souWD/At0SJ8fVgPw3Iuahxymc/MSNhhJWvcD/bTfBN02d3P2zb5nxnaoA/CD5h5MAGhz8NmeH1TyaQP+zrCsc9p5Y/LbKd76fGnz/bLW5ISEmmPww9YvTcQq8/JV2OstnstT8Er5Y7M8G+P0c+r3jqkcU/5h99k6ZBzj88bCIzFzjVP4enV8oyxN0//yH99nXg5D8qOpLLf0jtP5kqGJXUifQ/c9cS8kHP/D+/DpwzojQEQIEmwoanVwxA4lgXt9HgE0BSSZ2AJuIbQAMJih9jjiNA5q4l5INuK0AwTKYKRj0zQNv5fmq8/DpAaCJseHrtQkB/+zpwzoxKQM3MzMzMeFJAZmZmZmZqWEAAAAAAAFxeQM3MzMzMJmJAmpmZmZkfZUBmZmZmZhhoQDMzMzMzEWtAAAAAAAAKbkBmZmZmZoFwQM3MzMzM/XFAMzMzMzN6c0CamZmZmfZ0QAAAAAAAc3ZAZmZmZmbvd0DNzMzMzGt5QDMzMzMz6HpAmpmZmZlkfEAAAAAAAOF9QGZmZmZmXX9AZmZmZuZsgECamZmZGSuBQM3MzMxM6YFAAAAAAICngkAzMzMzs2WDQGZmZmbmI4RAmpmZmRnihEDNzMzMTKCFQAAAAACAXoZAMzMzM7Mch0BmZmZm5tqHQJqZmZkZmYhAzczMzExXiUAAAAAAgBWKQDMzMzOz04pAZmZmZuaRi0CamZmZGVCMQM3MzMxMDo1AAAAAAIDMjUAzMzMzs4qOQGZmZmbmSI9A\",\"dtype\":\"float64\",\"shape\":[75]}},\"selected\":{\"id\":\"dda4f8e0-6905-4655-a653-3ce4cddf2f62\",\"type\":\"Selection\"},\"selection_policy\":{\"id\":\"474c5de0-9b24-428c-8d43-66c55f155f5c\",\"type\":\"UnionRenderers\"}},\"id\":\"b5229ddd-a6d2-4dfa-a6f8-1006754b8b3c\",\"type\":\"ColumnDataSource\"},{\"attributes\":{\"line_alpha\":0.3,\"line_color\":\"#377eb8\",\"line_width\":2,\"x\":{\"field\":\"x\"},\"y\":{\"field\":\"y\"}},\"id\":\"5c7f74d5-90f0-423d-b5d6-414875d18ef1\",\"type\":\"Line\"},{\"attributes\":{\"source\":{\"id\":\"b5229ddd-a6d2-4dfa-a6f8-1006754b8b3c\",\"type\":\"ColumnDataSource\"}},\"id\":\"1d0a631d-6691-43ae-a6cb-461ca7297d44\",\"type\":\"CDSView\"},{\"attributes\":{\"data_source\":{\"id\":\"3ac5e5fd-092a-435b-ab20-bebbd774307c\",\"type\":\"ColumnDataSource\"},\"glyph\":{\"id\":\"848f4094-b41e-4105-aac3-800733bbec0a\",\"type\":\"Triangle\"},\"hover_glyph\":null,\"muted_glyph\":null,\"nonselection_glyph\":{\"id\":\"238e13f4-2973-489f-9bd3-f4a3d1e1ad16\",\"type\":\"Triangle\"},\"selection_glyph\":null,\"view\":{\"id\":\"d85e9825-8c51-4812-b096-e254c7316170\",\"type\":\"CDSView\"}},\"id\":\"e7e88757-eb0a-4253-9b8f-1d91a152ee77\",\"type\":\"GlyphRenderer\"},{\"attributes\":{\"data_source\":{\"id\":\"36d2c533-c524-4a3e-b4b5-4ac6b2b0f645\",\"type\":\"ColumnDataSource\"},\"glyph\":{\"id\":\"2e1377fe-2d08-436e-8784-7ff23aa2eaaa\",\"type\":\"Square\"},\"hover_glyph\":null,\"muted_glyph\":null,\"nonselection_glyph\":{\"id\":\"71b6f4ca-7f83-44e5-8c47-94b19055c4b8\",\"type\":\"Square\"},\"selection_glyph\":null,\"view\":{\"id\":\"afa0202f-a272-4e59-96fd-4bc6035da563\",\"type\":\"CDSView\"}},\"id\":\"e637f0de-e52b-4d4b-86d8-19c4e372af69\",\"type\":\"GlyphRenderer\"},{\"attributes\":{\"source\":{\"id\":\"36d2c533-c524-4a3e-b4b5-4ac6b2b0f645\",\"type\":\"ColumnDataSource\"}},\"id\":\"afa0202f-a272-4e59-96fd-4bc6035da563\",\"type\":\"CDSView\"},{\"attributes\":{\"fill_alpha\":{\"value\":0.7},\"fill_color\":{\"value\":\"#377eb8\"},\"line_alpha\":{\"value\":0.7},\"line_color\":{\"value\":\"#377eb8\"},\"x\":{\"field\":\"x\"},\"y\":{\"field\":\"y\"}},\"id\":\"848f4094-b41e-4105-aac3-800733bbec0a\",\"type\":\"Triangle\"},{\"attributes\":{\"data_source\":{\"id\":\"b5229ddd-a6d2-4dfa-a6f8-1006754b8b3c\",\"type\":\"ColumnDataSource\"},\"glyph\":{\"id\":\"5c7f74d5-90f0-423d-b5d6-414875d18ef1\",\"type\":\"Line\"},\"hover_glyph\":null,\"muted_glyph\":null,\"nonselection_glyph\":{\"id\":\"b4aa14d9-1a30-4926-af47-09f86b6a3793\",\"type\":\"Line\"},\"selection_glyph\":null,\"view\":{\"id\":\"1d0a631d-6691-43ae-a6cb-461ca7297d44\",\"type\":\"CDSView\"}},\"id\":\"c3d6cb6f-3a11-4d09-af40-dcc464c3bb18\",\"type\":\"GlyphRenderer\"},{\"attributes\":{\"active_drag\":\"auto\",\"active_inspect\":\"auto\",\"active_scroll\":\"auto\",\"active_tap\":\"auto\",\"tools\":[{\"id\":\"98819fa1-436d-4491-8fca-ce97225ce36d\",\"type\":\"PanTool\"},{\"id\":\"f6580e48-642d-4c35-b3f5-1ef512bec121\",\"type\":\"WheelZoomTool\"},{\"id\":\"25338a39-7bf1-4627-b697-3b51487a7774\",\"type\":\"BoxZoomTool\"},{\"id\":\"65aa4572-9fd0-4503-99b6-590ae70c7a88\",\"type\":\"SaveTool\"},{\"id\":\"3157d8dc-17d8-4aef-a20c-e0e66edba2ab\",\"type\":\"ResetTool\"},{\"id\":\"f4bc21dc-43ae-4e89-8b5d-36398d0026b7\",\"type\":\"HelpTool\"}]},\"id\":\"c099ea2b-8206-4f38-949b-1160e140fb60\",\"type\":\"Toolbar\"},{\"attributes\":{\"data_source\":{\"id\":\"b9ef873b-b069-4615-8ccd-42a1505a8919\",\"type\":\"ColumnDataSource\"},\"glyph\":{\"id\":\"c3e9b024-9d87-4987-b62f-1b09439c7b3a\",\"type\":\"Circle\"},\"hover_glyph\":null,\"muted_glyph\":null,\"nonselection_glyph\":{\"id\":\"ed9dffc0-1aa9-411f-b777-380fba50bcfc\",\"type\":\"Circle\"},\"selection_glyph\":null,\"view\":{\"id\":\"30e32bd5-a699-453f-a3fe-f442a70aa670\",\"type\":\"CDSView\"}},\"id\":\"b748e69b-437f-408b-a379-f8a2382c2dc5\",\"type\":\"GlyphRenderer\"},{\"attributes\":{\"above\":[{\"id\":\"3406b444-9deb-40b9-a712-babaacbdfe5b\",\"type\":\"Legend\"}],\"below\":[{\"id\":\"bb1e3955-e71d-4013-8c19-45894171f36c\",\"type\":\"LinearAxis\"}],\"left\":[{\"id\":\"ad37f94a-7451-48d4-b054-bc33e647367a\",\"type\":\"LinearAxis\"}],\"plot_height\":500,\"plot_width\":400,\"renderers\":[{\"id\":\"bb1e3955-e71d-4013-8c19-45894171f36c\",\"type\":\"LinearAxis\"},{\"id\":\"d22ac3f8-2f6b-4663-9bfe-24e610da9ab1\",\"type\":\"Grid\"},{\"id\":\"ad37f94a-7451-48d4-b054-bc33e647367a\",\"type\":\"LinearAxis\"},{\"id\":\"dbba66fe-1f2a-4b88-9ca6-7d8ff4055f95\",\"type\":\"Grid\"},{\"id\":\"bdbaf46d-1141-45e6-8ba6-c89e86fc5c6e\",\"type\":\"BoxAnnotation\"},{\"id\":\"b748e69b-437f-408b-a379-f8a2382c2dc5\",\"type\":\"GlyphRenderer\"},{\"id\":\"0c1277ea-eacd-49dc-8f55-cc4fc5ff2f91\",\"type\":\"GlyphRenderer\"},{\"id\":\"e637f0de-e52b-4d4b-86d8-19c4e372af69\",\"type\":\"GlyphRenderer\"},{\"id\":\"607696f5-6943-4812-8604-94cda0357a66\",\"type\":\"GlyphRenderer\"},{\"id\":\"e7e88757-eb0a-4253-9b8f-1d91a152ee77\",\"type\":\"GlyphRenderer\"},{\"id\":\"c3d6cb6f-3a11-4d09-af40-dcc464c3bb18\",\"type\":\"GlyphRenderer\"},{\"id\":\"3406b444-9deb-40b9-a712-babaacbdfe5b\",\"type\":\"Legend\"}],\"title\":{\"id\":\"a572437d-6319-487f-9e45-13fc229352c6\",\"type\":\"Title\"},\"toolbar\":{\"id\":\"11038b69-1d16-4e05-a802-3e580b1f4007\",\"type\":\"Toolbar\"},\"toolbar_location\":null,\"x_range\":{\"id\":\"080ffc0f-73cc-4997-81d5-bad590c04080\",\"type\":\"Range1d\"},\"x_scale\":{\"id\":\"b3230207-9f37-4a5f-b8d9-94537e60663d\",\"type\":\"LinearScale\"},\"y_range\":{\"id\":\"d970a27a-d132-4c17-ab02-500f81b44e56\",\"type\":\"Range1d\"},\"y_scale\":{\"id\":\"2e726994-e401-4efc-b1ff-1cb936b03dcd\",\"type\":\"LinearScale\"}},\"id\":\"36718d2f-e3ce-4337-9b30-d6c9a5817e11\",\"subtype\":\"Figure\",\"type\":\"Plot\"},{\"attributes\":{\"label\":{\"value\":\"CRD\"},\"renderers\":[{\"id\":\"b748e69b-437f-408b-a379-f8a2382c2dc5\",\"type\":\"GlyphRenderer\"},{\"id\":\"0c1277ea-eacd-49dc-8f55-cc4fc5ff2f91\",\"type\":\"GlyphRenderer\"}]},\"id\":\"bb60bda1-13cd-4ea7-a999-24627bc28b11\",\"type\":\"LegendItem\"},{\"attributes\":{\"callback\":null,\"end\":0.0007270868042,\"start\":-0.0003719075242},\"id\":\"aa867ab3-ca5d-4b6b-b963-45483cb87307\",\"type\":\"Range1d\"},{\"attributes\":{\"label\":{\"value\":\"WGT igg=1\"},\"renderers\":[{\"id\":\"e637f0de-e52b-4d4b-86d8-19c4e372af69\",\"type\":\"GlyphRenderer\"},{\"id\":\"607696f5-6943-4812-8604-94cda0357a66\",\"type\":\"GlyphRenderer\"}]},\"id\":\"e7d0d984-951f-4656-a27c-b051bceec5f9\",\"type\":\"LegendItem\"},{\"attributes\":{},\"id\":\"6af66089-728f-4aaf-87f8-f80aa6740977\",\"type\":\"LinearScale\"},{\"attributes\":{\"label\":{\"value\":\"WGT igg=10\"},\"renderers\":[{\"id\":\"e7e88757-eb0a-4253-9b8f-1d91a152ee77\",\"type\":\"GlyphRenderer\"},{\"id\":\"c3d6cb6f-3a11-4d09-af40-dcc464c3bb18\",\"type\":\"GlyphRenderer\"}]},\"id\":\"455dfbb6-2ef8-4793-8d77-51960bd15f5d\",\"type\":\"LegendItem\"},{\"attributes\":{},\"id\":\"98819fa1-436d-4491-8fca-ce97225ce36d\",\"type\":\"PanTool\"},{\"attributes\":{\"items\":[{\"id\":\"d495c42d-35f4-47f2-9c7a-9f47b6560143\",\"type\":\"LegendItem\"},{\"id\":\"bdc001f7-8d52-449f-8477-562eeb485f59\",\"type\":\"LegendItem\"},{\"id\":\"f6260cbb-3f78-4ad5-8e34-00fdce993536\",\"type\":\"LegendItem\"}],\"label_text_font_size\":{\"value\":\"8pt\"},\"location\":\"top_center\",\"orientation\":\"horizontal\",\"plot\":{\"id\":\"b45b677a-c7ba-4e4a-ae82-c10aee6f2ec4\",\"subtype\":\"Figure\",\"type\":\"Plot\"}},\"id\":\"5a86f41f-561f-4f15-8ad0-72dc9a223942\",\"type\":\"Legend\"},{\"attributes\":{},\"id\":\"f6580e48-642d-4c35-b3f5-1ef512bec121\",\"type\":\"WheelZoomTool\"},{\"attributes\":{},\"id\":\"deec0c4b-cf60-486e-83ec-12424d87a74b\",\"type\":\"LogScale\"},{\"attributes\":{\"axis_label\":\"cooling rate [K/day]\",\"formatter\":{\"id\":\"d009b96d-22f0-4dad-adb7-9d4f51de5be0\",\"type\":\"BasicTickFormatter\"},\"plot\":{\"id\":\"b45b677a-c7ba-4e4a-ae82-c10aee6f2ec4\",\"subtype\":\"Figure\",\"type\":\"Plot\"},\"ticker\":{\"id\":\"b46ead9e-434c-403b-8e23-889ef92a62bf\",\"type\":\"BasicTicker\"}},\"id\":\"62a4cdf9-1bfa-4799-bc47-a1e5de2a0a6c\",\"type\":\"LinearAxis\"},{\"attributes\":{},\"id\":\"b46ead9e-434c-403b-8e23-889ef92a62bf\",\"type\":\"BasicTicker\"},{\"attributes\":{\"overlay\":{\"id\":\"7a496051-02b6-4f21-ab2c-2f50ec16cdff\",\"type\":\"BoxAnnotation\"}},\"id\":\"25338a39-7bf1-4627-b697-3b51487a7774\",\"type\":\"BoxZoomTool\"},{\"attributes\":{},\"id\":\"65aa4572-9fd0-4503-99b6-590ae70c7a88\",\"type\":\"SaveTool\"},{\"attributes\":{},\"id\":\"3157d8dc-17d8-4aef-a20c-e0e66edba2ab\",\"type\":\"ResetTool\"},{\"attributes\":{},\"id\":\"f4bc21dc-43ae-4e89-8b5d-36398d0026b7\",\"type\":\"HelpTool\"},{\"attributes\":{},\"id\":\"3817104c-8994-40af-949f-cb426e4b5edc\",\"type\":\"Selection\"},{\"attributes\":{\"fill_alpha\":{\"value\":0.7},\"fill_color\":{\"value\":\"#4daf4a\"},\"line_alpha\":{\"value\":0.7},\"line_color\":{\"value\":\"#4daf4a\"},\"x\":{\"field\":\"x\"},\"y\":{\"field\":\"y\"}},\"id\":\"c37d1d02-3e93-4a7c-ad00-d59a8733050d\",\"type\":\"Circle\"},{\"attributes\":{\"callback\":null,\"end\":0.0032674911571,\"start\":-0.0005088912671},\"id\":\"080ffc0f-73cc-4997-81d5-bad590c04080\",\"type\":\"Range1d\"},{\"attributes\":{\"plot\":{\"id\":\"b45b677a-c7ba-4e4a-ae82-c10aee6f2ec4\",\"subtype\":\"Figure\",\"type\":\"Plot\"},\"ticker\":{\"id\":\"b46ead9e-434c-403b-8e23-889ef92a62bf\",\"type\":\"BasicTicker\"}},\"id\":\"e6e6fb5d-0ebb-4667-bb4c-72629c65680a\",\"type\":\"Grid\"},{\"attributes\":{},\"id\":\"b3230207-9f37-4a5f-b8d9-94537e60663d\",\"type\":\"LinearScale\"},{\"attributes\":{\"items\":[{\"id\":\"bb60bda1-13cd-4ea7-a999-24627bc28b11\",\"type\":\"LegendItem\"},{\"id\":\"e7d0d984-951f-4656-a27c-b051bceec5f9\",\"type\":\"LegendItem\"},{\"id\":\"455dfbb6-2ef8-4793-8d77-51960bd15f5d\",\"type\":\"LegendItem\"}],\"label_text_font_size\":{\"value\":\"8pt\"},\"location\":\"top_center\",\"orientation\":\"horizontal\",\"plot\":{\"id\":\"36718d2f-e3ce-4337-9b30-d6c9a5817e11\",\"subtype\":\"Figure\",\"type\":\"Plot\"}},\"id\":\"3406b444-9deb-40b9-a712-babaacbdfe5b\",\"type\":\"Legend\"},{\"attributes\":{\"active_drag\":\"auto\",\"active_inspect\":\"auto\",\"active_scroll\":\"auto\",\"active_tap\":\"auto\",\"tools\":[{\"id\":\"8d8cb50b-2544-4f2e-8d82-c5759d6e162a\",\"type\":\"PanTool\"},{\"id\":\"ed2b62dc-d62e-4798-aee2-e32f79854aea\",\"type\":\"WheelZoomTool\"},{\"id\":\"53f20594-d45f-4775-a359-59d8dd55aaae\",\"type\":\"BoxZoomTool\"},{\"id\":\"a224b92f-679e-4859-a403-447162655d99\",\"type\":\"SaveTool\"},{\"id\":\"85d40559-bd29-4691-82bb-20c69b5e9d31\",\"type\":\"ResetTool\"},{\"id\":\"ec1daece-3a9c-4378-a04c-6af29ab6ad21\",\"type\":\"HelpTool\"}]},\"id\":\"11038b69-1d16-4e05-a802-3e580b1f4007\",\"type\":\"Toolbar\"},{\"attributes\":{\"dimension\":1,\"plot\":{\"id\":\"36718d2f-e3ce-4337-9b30-d6c9a5817e11\",\"subtype\":\"Figure\",\"type\":\"Plot\"},\"ticker\":{\"id\":\"1bcae57c-3b41-4032-96ef-2f55ea38e4d1\",\"type\":\"BasicTicker\"}},\"id\":\"dbba66fe-1f2a-4b88-9ca6-7d8ff4055f95\",\"type\":\"Grid\"},{\"attributes\":{},\"id\":\"1bcae57c-3b41-4032-96ef-2f55ea38e4d1\",\"type\":\"BasicTicker\"},{\"attributes\":{},\"id\":\"ed2b62dc-d62e-4798-aee2-e32f79854aea\",\"type\":\"WheelZoomTool\"},{\"attributes\":{},\"id\":\"2e726994-e401-4efc-b1ff-1cb936b03dcd\",\"type\":\"LinearScale\"},{\"attributes\":{\"overlay\":{\"id\":\"bdbaf46d-1141-45e6-8ba6-c89e86fc5c6e\",\"type\":\"BoxAnnotation\"}},\"id\":\"53f20594-d45f-4775-a359-59d8dd55aaae\",\"type\":\"BoxZoomTool\"},{\"attributes\":{\"plot\":{\"id\":\"36718d2f-e3ce-4337-9b30-d6c9a5817e11\",\"subtype\":\"Figure\",\"type\":\"Plot\"},\"ticker\":{\"id\":\"e937b5d0-a2a4-489a-86f9-66336ce6fffa\",\"type\":\"BasicTicker\"}},\"id\":\"d22ac3f8-2f6b-4663-9bfe-24e610da9ab1\",\"type\":\"Grid\"},{\"attributes\":{\"axis_label\":\"cooling rate [K/day]\",\"formatter\":{\"id\":\"9fa53543-e405-4e5e-8ef4-45779ac95928\",\"type\":\"BasicTickFormatter\"},\"plot\":{\"id\":\"36718d2f-e3ce-4337-9b30-d6c9a5817e11\",\"subtype\":\"Figure\",\"type\":\"Plot\"},\"ticker\":{\"id\":\"e937b5d0-a2a4-489a-86f9-66336ce6fffa\",\"type\":\"BasicTicker\"}},\"id\":\"bb1e3955-e71d-4013-8c19-45894171f36c\",\"type\":\"LinearAxis\"},{\"attributes\":{},\"id\":\"e937b5d0-a2a4-489a-86f9-66336ce6fffa\",\"type\":\"BasicTicker\"},{\"attributes\":{\"axis_label\":\"pressure [mb]\",\"formatter\":{\"id\":\"7862381f-411f-4193-97e0-c5c7cb337278\",\"type\":\"BasicTickFormatter\"},\"plot\":{\"id\":\"36718d2f-e3ce-4337-9b30-d6c9a5817e11\",\"subtype\":\"Figure\",\"type\":\"Plot\"},\"ticker\":{\"id\":\"1bcae57c-3b41-4032-96ef-2f55ea38e4d1\",\"type\":\"BasicTicker\"}},\"id\":\"ad37f94a-7451-48d4-b054-bc33e647367a\",\"type\":\"LinearAxis\"},{\"attributes\":{},\"id\":\"85d40559-bd29-4691-82bb-20c69b5e9d31\",\"type\":\"ResetTool\"},{\"attributes\":{},\"id\":\"8d8cb50b-2544-4f2e-8d82-c5759d6e162a\",\"type\":\"PanTool\"},{\"attributes\":{\"callback\":null,\"end\":0.01,\"start\":1020},\"id\":\"d970a27a-d132-4c17-ab02-500f81b44e56\",\"type\":\"Range1d\"},{\"attributes\":{},\"id\":\"a224b92f-679e-4859-a403-447162655d99\",\"type\":\"SaveTool\"},{\"attributes\":{\"line_alpha\":0.3,\"line_color\":\"#377eb8\",\"line_width\":2,\"x\":{\"field\":\"x\"},\"y\":{\"field\":\"y\"}},\"id\":\"16d48271-5f0b-4dab-8d34-ac68f3cba2f7\",\"type\":\"Line\"},{\"attributes\":{\"children\":[{\"id\":\"e9287ea1-3420-47af-9440-f8f5c018c5f7\",\"type\":\"Row\"}]},\"id\":\"2e104d52-f716-4d31-a86f-ef2e053b57a9\",\"type\":\"Column\"},{\"attributes\":{\"line_alpha\":0.1,\"line_color\":\"#1f77b4\",\"line_width\":2,\"x\":{\"field\":\"x\"},\"y\":{\"field\":\"y\"}},\"id\":\"a5a7c58e-0668-4517-bacb-7c63e6642ee5\",\"type\":\"Line\"},{\"attributes\":{\"data_source\":{\"id\":\"dce248f7-8125-4ed9-839f-8b5122cad07a\",\"type\":\"ColumnDataSource\"},\"glyph\":{\"id\":\"16d48271-5f0b-4dab-8d34-ac68f3cba2f7\",\"type\":\"Line\"},\"hover_glyph\":null,\"muted_glyph\":null,\"nonselection_glyph\":{\"id\":\"a5a7c58e-0668-4517-bacb-7c63e6642ee5\",\"type\":\"Line\"},\"selection_glyph\":null,\"view\":{\"id\":\"cc7c7b7a-c5f4-4664-b0fa-914885372569\",\"type\":\"CDSView\"}},\"id\":\"d4cd7585-b683-4c8a-919f-2192897f67df\",\"type\":\"GlyphRenderer\"},{\"attributes\":{\"fill_alpha\":{\"value\":0.1},\"fill_color\":{\"value\":\"#1f77b4\"},\"line_alpha\":{\"value\":0.1},\"line_color\":{\"value\":\"#1f77b4\"},\"x\":{\"field\":\"x\"},\"y\":{\"field\":\"y\"}},\"id\":\"ed9dffc0-1aa9-411f-b777-380fba50bcfc\",\"type\":\"Circle\"},{\"attributes\":{\"line_alpha\":0.1,\"line_color\":\"#1f77b4\",\"line_width\":1.5,\"x\":{\"field\":\"x\"},\"y\":{\"field\":\"y\"}},\"id\":\"f877751e-1bcc-4e54-a8b5-c59eb96f215d\",\"type\":\"Line\"},{\"attributes\":{\"source\":{\"id\":\"dce248f7-8125-4ed9-839f-8b5122cad07a\",\"type\":\"ColumnDataSource\"}},\"id\":\"cc7c7b7a-c5f4-4664-b0fa-914885372569\",\"type\":\"CDSView\"},{\"attributes\":{\"plot\":null,\"text\":\"\"},\"id\":\"a572437d-6319-487f-9e45-13fc229352c6\",\"type\":\"Title\"},{\"attributes\":{},\"id\":\"fe48288f-c83f-4a26-ab0e-b85298ed04ea\",\"type\":\"UnionRenderers\"},{\"attributes\":{\"children\":[{\"id\":\"36718d2f-e3ce-4337-9b30-d6c9a5817e11\",\"subtype\":\"Figure\",\"type\":\"Plot\"},{\"id\":\"b45b677a-c7ba-4e4a-ae82-c10aee6f2ec4\",\"subtype\":\"Figure\",\"type\":\"Plot\"}]},\"id\":\"e9287ea1-3420-47af-9440-f8f5c018c5f7\",\"type\":\"Row\"},{\"attributes\":{\"label\":{\"value\":\"CRD\"},\"renderers\":[{\"id\":\"c5ba05e9-6088-4f9e-8721-8560337c2bcb\",\"type\":\"GlyphRenderer\"},{\"id\":\"48335aa3-b599-4e3b-9ce5-d7132b2d5bf8\",\"type\":\"GlyphRenderer\"}]},\"id\":\"d495c42d-35f4-47f2-9c7a-9f47b6560143\",\"type\":\"LegendItem\"},{\"attributes\":{},\"id\":\"1e9c0d74-2ce0-46cf-ac3d-19bcda61801c\",\"type\":\"UnionRenderers\"},{\"attributes\":{},\"id\":\"9df9585c-eabc-4992-b82d-a7207e4476a8\",\"type\":\"UnionRenderers\"},{\"attributes\":{\"data_source\":{\"id\":\"5d01264f-a087-45ba-b18e-042a27906483\",\"type\":\"ColumnDataSource\"},\"glyph\":{\"id\":\"574ae6f5-7f0b-4bb0-a89d-af78f4b4a723\",\"type\":\"Line\"},\"hover_glyph\":null,\"muted_glyph\":null,\"nonselection_glyph\":{\"id\":\"f877751e-1bcc-4e54-a8b5-c59eb96f215d\",\"type\":\"Line\"},\"selection_glyph\":null,\"view\":{\"id\":\"bee7e70b-87a0-4118-a9bb-6aa49f0cff7b\",\"type\":\"CDSView\"}},\"id\":\"48335aa3-b599-4e3b-9ce5-d7132b2d5bf8\",\"type\":\"GlyphRenderer\"},{\"attributes\":{\"label\":{\"value\":\"WGT igg=1\"},\"renderers\":[{\"id\":\"c012cc19-f844-462d-b5f1-f75f3477f5ad\",\"type\":\"GlyphRenderer\"},{\"id\":\"73a5a7e6-58a3-4dd0-8d6f-cebba9dc5186\",\"type\":\"GlyphRenderer\"}]},\"id\":\"bdc001f7-8d52-449f-8477-562eeb485f59\",\"type\":\"LegendItem\"},{\"attributes\":{\"callback\":null,\"data\":{\"x\":{\"__ndarray__\":\"b7lPd1BBIr8Km3nAO54hv5kxbMo/IyC/FGvMPmOsHL+21J4i9lsYv3pzVsnvNRO/C4lIL5QpCr8uHgUn9Dr3vgW+Rn0XUOY+ZAC5fbbZCT9lf2PVedkYP+SD9CwQbCM/8cAS5+qTKz9uUdxsyfUxP9yjVZFOljU/5DQITEQJOT+ilCO0i8g8P4yqDCWhb0A/5/0epjKrQj+YrxhFXhpFPxPn+A7deEc/s0OrfJeeRT9M6hbkOiY+P3eUBcHm1TE//kYywv2gIT98pKfwHxMCPyLVhWgqvQO/HUx/tg8WFr/VSLSkaEwdv32TeGiSTSG/t/ScGCa9I79dS9w0QxQmv1JCCv0E7ye/6HaNNTlZKb+zOvgfqg4rv89NgXzCVS2/X1xDc3MBML8nm6q6nJwxv7s5hHqDbzO/3jnIWEhGNb9zWO9EYyA3v9uNI0HA/ji/GV03LSrjOr9+LvTJJ808v4CVzNt2jz6/hMHRPaHsPr9ZsbNjc9M8v2kilcQZ5zi/2hJxL3vdM79igin/P40rv+9csmWoiRq/PGfeY37k+D4pAh+TmIslP1xK3lpv+DQ/8JdaL0wJQD862195i/tFP/dqf5AmQEw/J7epXtdfUT8IN2J0XLBUP/w/6JBEBVg/7cWE0j9TWz8aBQhwSJReP+Ph121r4mA/BVjf1TZyYj+KtNXw4vljP1XQIaoYeWU/MTwcxBrsZj+rFukhuUVoP0Y644KKZmk/UeQRKNceaj/uIgMyWE5qP8fHZsgqBWo/1qZD/MJxaT/ml+DcL7toPxfybyz09Wc/\",\"dtype\":\"float64\",\"shape\":[75]},\"y\":{\"__ndarray__\":\"GhExyth1ND/Sv8nbtpRIP2vylNV0PVE/aTum7souWD/At0SJ8fVgPw3Iuahxymc/MSNhhJWvcD/bTfBN02d3P2zb5nxnaoA/CD5h5MAGhz8NmeH1TyaQP+zrCsc9p5Y/LbKd76fGnz/bLW5ISEmmPww9YvTcQq8/JV2OstnstT8Er5Y7M8G+P0c+r3jqkcU/5h99k6ZBzj88bCIzFzjVP4enV8oyxN0//yH99nXg5D8qOpLLf0jtP5kqGJXUifQ/c9cS8kHP/D+/DpwzojQEQIEmwoanVwxA4lgXt9HgE0BSSZ2AJuIbQAMJih9jjiNA5q4l5INuK0AwTKYKRj0zQNv5fmq8/DpAaCJseHrtQkB/+zpwzoxKQM3MzMzMeFJAZmZmZmZqWEAAAAAAAFxeQM3MzMzMJmJAmpmZmZkfZUBmZmZmZhhoQDMzMzMzEWtAAAAAAAAKbkBmZmZmZoFwQM3MzMzM/XFAMzMzMzN6c0CamZmZmfZ0QAAAAAAAc3ZAZmZmZmbvd0DNzMzMzGt5QDMzMzMz6HpAmpmZmZlkfEAAAAAAAOF9QGZmZmZmXX9AZmZmZuZsgECamZmZGSuBQM3MzMxM6YFAAAAAAICngkAzMzMzs2WDQGZmZmbmI4RAmpmZmRnihEDNzMzMTKCFQAAAAACAXoZAMzMzM7Mch0BmZmZm5tqHQJqZmZkZmYhAzczMzExXiUAAAAAAgBWKQDMzMzOz04pAZmZmZuaRi0CamZmZGVCMQM3MzMxMDo1AAAAAAIDMjUAzMzMzs4qOQGZmZmbmSI9A\",\"dtype\":\"float64\",\"shape\":[75]}},\"selected\":{\"id\":\"c6b0d27d-73bf-44a8-a7a3-51417f251e47\",\"type\":\"Selection\"},\"selection_policy\":{\"id\":\"66a1b1b3-4feb-4fbf-b6d1-c220764d5eac\",\"type\":\"UnionRenderers\"}},\"id\":\"5d01264f-a087-45ba-b18e-042a27906483\",\"type\":\"ColumnDataSource\"},{\"attributes\":{},\"id\":\"340c1af2-1748-4a20-adf9-853a962aa171\",\"type\":\"Selection\"},{\"attributes\":{\"label\":{\"value\":\"WGT igg=10\"},\"renderers\":[{\"id\":\"ebdaa697-e70e-4635-a422-142cd99f34d0\",\"type\":\"GlyphRenderer\"},{\"id\":\"d4cd7585-b683-4c8a-919f-2192897f67df\",\"type\":\"GlyphRenderer\"}]},\"id\":\"f6260cbb-3f78-4ad5-8e34-00fdce993536\",\"type\":\"LegendItem\"},{\"attributes\":{},\"id\":\"29925204-475a-4a2a-a7e1-666bcc169ac5\",\"type\":\"UnionRenderers\"},{\"attributes\":{},\"id\":\"7862381f-411f-4193-97e0-c5c7cb337278\",\"type\":\"BasicTickFormatter\"},{\"attributes\":{},\"id\":\"9fa53543-e405-4e5e-8ef4-45779ac95928\",\"type\":\"BasicTickFormatter\"},{\"attributes\":{},\"id\":\"da7cab4a-c3c5-47de-bd75-24f34238abe9\",\"type\":\"Selection\"},{\"attributes\":{},\"id\":\"342fd21d-e521-4d78-9acd-bd89d1e9ec65\",\"type\":\"UnionRenderers\"},{\"attributes\":{\"source\":{\"id\":\"5d01264f-a087-45ba-b18e-042a27906483\",\"type\":\"ColumnDataSource\"}},\"id\":\"bee7e70b-87a0-4118-a9bb-6aa49f0cff7b\",\"type\":\"CDSView\"},{\"attributes\":{},\"id\":\"474c5de0-9b24-428c-8d43-66c55f155f5c\",\"type\":\"UnionRenderers\"},{\"attributes\":{\"ticker\":null},\"id\":\"a4044060-7524-4738-af33-a94f19084ec4\",\"type\":\"LogTickFormatter\"},{\"attributes\":{},\"id\":\"dda4f8e0-6905-4655-a653-3ce4cddf2f62\",\"type\":\"Selection\"},{\"attributes\":{},\"id\":\"d009b96d-22f0-4dad-adb7-9d4f51de5be0\",\"type\":\"BasicTickFormatter\"},{\"attributes\":{},\"id\":\"c6b0d27d-73bf-44a8-a7a3-51417f251e47\",\"type\":\"Selection\"},{\"attributes\":{\"plot\":null,\"text\":\"\"},\"id\":\"f55eddcf-8b77-48a9-9d71-5a836d1f91da\",\"type\":\"Title\"},{\"attributes\":{},\"id\":\"a133211d-d6cd-4928-a226-d11ff7d79f85\",\"type\":\"UnionRenderers\"},{\"attributes\":{},\"id\":\"718437bb-5567-4f86-be17-cdba9959dc2d\",\"type\":\"UnionRenderers\"},{\"attributes\":{},\"id\":\"dbfa0021-bf45-4ce9-9e73-aaa578790775\",\"type\":\"UnionRenderers\"},{\"attributes\":{},\"id\":\"d01edc89-d420-4730-b5b0-eeb12d542d6b\",\"type\":\"Selection\"},{\"attributes\":{\"dimension\":1,\"plot\":{\"id\":\"b45b677a-c7ba-4e4a-ae82-c10aee6f2ec4\",\"subtype\":\"Figure\",\"type\":\"Plot\"},\"ticker\":{\"id\":\"012dca35-ab22-49b0-a4cf-0d7a2e05bca7\",\"type\":\"LogTicker\"}},\"id\":\"6a2a32d0-789a-4056-b240-d39ee4e9b35b\",\"type\":\"Grid\"},{\"attributes\":{},\"id\":\"66a1b1b3-4feb-4fbf-b6d1-c220764d5eac\",\"type\":\"UnionRenderers\"},{\"attributes\":{},\"id\":\"7298bac6-ae84-47ea-8a07-4f63a22a2a4f\",\"type\":\"UnionRenderers\"},{\"attributes\":{\"source\":{\"id\":\"aed38298-d4ed-4cd7-b07f-d170829e49d9\",\"type\":\"ColumnDataSource\"}},\"id\":\"1b8fe96a-6752-409b-9604-db5ca71e6007\",\"type\":\"CDSView\"},{\"attributes\":{},\"id\":\"006179d9-33d1-479c-9485-33d317eac4a8\",\"type\":\"UnionRenderers\"},{\"attributes\":{},\"id\":\"658ad613-575c-4c6f-a12c-3ccf1cde20a5\",\"type\":\"Selection\"},{\"attributes\":{\"toolbar\":{\"id\":\"88a5c513-4f5d-486e-9a83-39692dd38106\",\"type\":\"ProxyToolbar\"},\"toolbar_location\":\"above\"},\"id\":\"b39ebfd1-7353-496f-9dc2-4727b61fc2ef\",\"type\":\"ToolbarBox\"},{\"attributes\":{},\"id\":\"0bc1d695-ae9c-4a15-9838-998520a31c1c\",\"type\":\"Selection\"},{\"attributes\":{\"callback\":null,\"data\":{\"x\":{\"__ndarray__\":\"KcQ7nAAxJb/7DTzkt6Akv1yJ1Gd5UiO/XpXLlt28Ib9RjxwUGK8fv9dj8bvXKBu/4sPthy/FFb+LNZL7k7wOv+QkHIh4Mf++1e8iytMj0j4BpuP7SkwHPyIGUikeABg/KRAe9zI0Iz+wzWJwJZQqP4WDwlhofzA/lgzJz6KMMz8MMSsfC942PylkxhZkfTo/mAAXsM5xPj8URhFmJmFBP4s9pZACfUM/eFICAXvcQT9oZYubpic4P6tDO/QimCo/itIf24l9FT8hXpkpMVHXvv/aZqPw9RG/O2HnTHuSHL8uVnJbhGUhv0+oqIjLrCO/5jK+ziHKJb+J07Ek9twnv1KRxZUiiim/5UfvYDPcKr99EaWdTY0svwK0BOsn1i6/4//JA8bCML/mNszKxl0yvxo44T0sIjS/YIjkjDXrNb+dsqO5zqo3v3z77D8Kazm/POIkC9QqO7+/QxZbZ9w8v9yV5ME+bT6/SN03PMbLPr+vb2qb98M8v1LVDSkM+ji/dQ3IDdQZNL8+NRAVTF0sv3a4X2l64Ry/ll66o8bH5T7gJp8gD/AiPz/9WTzBXjM/TsKRJFo4Pj+ys7WAS/FEP2YYpedtC0s/kAkC8SSsUD/hDU4k1vJTP3LGNgVHRFc/xEuIYn+MWj8LKKzCWsRdP06QkD2Nf2A//xToRiEYYj+o23jAzKFjP2Vb3Rx0KmU/Ob8XFSetZj+zjQfwmRJoP/m6EQHDRWk/JtqZrhUgaj/GMKgxyHZqP/EfQHrSX2o/CGnx2SYLaj+YCsTHNI5pP8fSgnXuBmk/\",\"dtype\":\"float64\",\"shape\":[75]},\"y\":{\"__ndarray__\":\"GhExyth1ND/Sv8nbtpRIP2vylNV0PVE/aTum7souWD/At0SJ8fVgPw3Iuahxymc/MSNhhJWvcD/bTfBN02d3P2zb5nxnaoA/CD5h5MAGhz8NmeH1TyaQP+zrCsc9p5Y/LbKd76fGnz/bLW5ISEmmPww9YvTcQq8/JV2OstnstT8Er5Y7M8G+P0c+r3jqkcU/5h99k6ZBzj88bCIzFzjVP4enV8oyxN0//yH99nXg5D8qOpLLf0jtP5kqGJXUifQ/c9cS8kHP/D+/DpwzojQEQIEmwoanVwxA4lgXt9HgE0BSSZ2AJuIbQAMJih9jjiNA5q4l5INuK0AwTKYKRj0zQNv5fmq8/DpAaCJseHrtQkB/+zpwzoxKQM3MzMzMeFJAZmZmZmZqWEAAAAAAAFxeQM3MzMzMJmJAmpmZmZkfZUBmZmZmZhhoQDMzMzMzEWtAAAAAAAAKbkBmZmZmZoFwQM3MzMzM/XFAMzMzMzN6c0CamZmZmfZ0QAAAAAAAc3ZAZmZmZmbvd0DNzMzMzGt5QDMzMzMz6HpAmpmZmZlkfEAAAAAAAOF9QGZmZmZmXX9AZmZmZuZsgECamZmZGSuBQM3MzMxM6YFAAAAAAICngkAzMzMzs2WDQGZmZmbmI4RAmpmZmRnihEDNzMzMTKCFQAAAAACAXoZAMzMzM7Mch0BmZmZm5tqHQJqZmZkZmYhAzczMzExXiUAAAAAAgBWKQDMzMzOz04pAZmZmZuaRi0CamZmZGVCMQM3MzMxMDo1AAAAAAIDMjUAzMzMzs4qOQGZmZmbmSI9A\",\"dtype\":\"float64\",\"shape\":[75]}},\"selected\":{\"id\":\"658ad613-575c-4c6f-a12c-3ccf1cde20a5\",\"type\":\"Selection\"},\"selection_policy\":{\"id\":\"7298bac6-ae84-47ea-8a07-4f63a22a2a4f\",\"type\":\"UnionRenderers\"}},\"id\":\"989441a4-0055-450a-9d97-40fef51f53cb\",\"type\":\"ColumnDataSource\"},{\"attributes\":{},\"id\":\"7378057d-620f-466d-a109-440c6503a919\",\"type\":\"Selection\"},{\"attributes\":{\"children\":[{\"id\":\"b39ebfd1-7353-496f-9dc2-4727b61fc2ef\",\"type\":\"ToolbarBox\"},{\"id\":\"2e104d52-f716-4d31-a86f-ef2e053b57a9\",\"type\":\"Column\"}]},\"id\":\"b60257e1-6aec-4693-89a3-57633c398a26\",\"type\":\"Column\"},{\"attributes\":{},\"id\":\"4c398f03-10ed-41c7-bd1c-8da8db32fabf\",\"type\":\"Selection\"},{\"attributes\":{\"tools\":[{\"id\":\"8d8cb50b-2544-4f2e-8d82-c5759d6e162a\",\"type\":\"PanTool\"},{\"id\":\"ed2b62dc-d62e-4798-aee2-e32f79854aea\",\"type\":\"WheelZoomTool\"},{\"id\":\"53f20594-d45f-4775-a359-59d8dd55aaae\",\"type\":\"BoxZoomTool\"},{\"id\":\"a224b92f-679e-4859-a403-447162655d99\",\"type\":\"SaveTool\"},{\"id\":\"85d40559-bd29-4691-82bb-20c69b5e9d31\",\"type\":\"ResetTool\"},{\"id\":\"ec1daece-3a9c-4378-a04c-6af29ab6ad21\",\"type\":\"HelpTool\"},{\"id\":\"98819fa1-436d-4491-8fca-ce97225ce36d\",\"type\":\"PanTool\"},{\"id\":\"f6580e48-642d-4c35-b3f5-1ef512bec121\",\"type\":\"WheelZoomTool\"},{\"id\":\"25338a39-7bf1-4627-b697-3b51487a7774\",\"type\":\"BoxZoomTool\"},{\"id\":\"65aa4572-9fd0-4503-99b6-590ae70c7a88\",\"type\":\"SaveTool\"},{\"id\":\"3157d8dc-17d8-4aef-a20c-e0e66edba2ab\",\"type\":\"ResetTool\"},{\"id\":\"f4bc21dc-43ae-4e89-8b5d-36398d0026b7\",\"type\":\"HelpTool\"}]},\"id\":\"88a5c513-4f5d-486e-9a83-39692dd38106\",\"type\":\"ProxyToolbar\"},{\"attributes\":{\"bottom_units\":\"screen\",\"fill_alpha\":{\"value\":0.5},\"fill_color\":{\"value\":\"lightgrey\"},\"left_units\":\"screen\",\"level\":\"overlay\",\"line_alpha\":{\"value\":1.0},\"line_color\":{\"value\":\"black\"},\"line_dash\":[4,4],\"line_width\":{\"value\":2},\"plot\":null,\"render_mode\":\"css\",\"right_units\":\"screen\",\"top_units\":\"screen\"},\"id\":\"bdbaf46d-1141-45e6-8ba6-c89e86fc5c6e\",\"type\":\"BoxAnnotation\"},{\"attributes\":{\"data_source\":{\"id\":\"17a10a39-4a1b-457b-a3b6-8b5e873dc038\",\"type\":\"ColumnDataSource\"},\"glyph\":{\"id\":\"a3076178-6392-46c3-9cd8-3f37c8f326aa\",\"type\":\"Line\"},\"hover_glyph\":null,\"muted_glyph\":null,\"nonselection_glyph\":{\"id\":\"1639c3ab-9515-43bb-8b75-09bd675bc989\",\"type\":\"Line\"},\"selection_glyph\":null,\"view\":{\"id\":\"0bfae9ab-7bcd-49b7-b184-c6a1fd57708c\",\"type\":\"CDSView\"}},\"id\":\"73a5a7e6-58a3-4dd0-8d6f-cebba9dc5186\",\"type\":\"GlyphRenderer\"},{\"attributes\":{\"num_minor_ticks\":10},\"id\":\"012dca35-ab22-49b0-a4cf-0d7a2e05bca7\",\"type\":\"LogTicker\"},{\"attributes\":{\"callback\":null,\"data\":{\"x\":{\"__ndarray__\":\"2RL3JqOKI7+q+opjCQkjv5YIFC2Z3CG/QIcokrpvIL9JAHy3rHUdv0+54VxUYhm/2r880MmGFL8XdY/JcoENv+YBlefJsP++5H5/p6PjoT7LfDto90QDPwFW5v+VyhQ/MTaJTornID8GqY0ezZEnPwDvGc2rXi0/+wk0JZ5xMT9cZoISpXE0PxyLdug+uDc/7oNL+95LOz9dAUEU3jI/P1b/oSjEgUE/nJ1N5OsIQD+oZ9vBVps1P40918pDlCc/dXI818eCEj89qbGAgr7hvpegjytHHhG/7OfNFVSyGr854iHlgyggv3vap6WTOCK/cUah9O4jJL/vcebbYgUmv9w2BdvMjSe/w1o7XPLJKL8frTU6clgqv/2M4ocQeCy/WoDIzvX5Lr9aMkBhKPQwvzKUAqTNlDK/6oIBsMozNL/0PMd8Jc81v0RoMc/wZje/tI27YVT7OL/EWpTLGos6v59Jpx0a8Du/SsqU+7QiPL9mNm0ikT86vwsArEq2zDa/pNYnB95dMr8IMC8hwP4pv0QkWveQwBq/Pqhh4X8A4j4/2RZ5wnohP/qZ7bbczjE/GpC0MgO1Oz9QFF5GFSxDP4oRFXd+zEg/4I6OJYSoTj98B08KclVSPxJ3u+1pX1U/tLI7rIloWD9jvyGvq2tbP4TCuzOOZV4/87Z7/bWqYD/8VWlTwR1iP0LVIVxli2M/nQvxOUjwZD/5EtBaT0FmPyhfFc5DZGc/mXWooWsxaD/4iLDT441oP1aEEXanhmg/6dt9o+FBaD/oH7X05d9nP/vZWmvgcWc/\",\"dtype\":\"float64\",\"shape\":[75]},\"y\":{\"__ndarray__\":\"GhExyth1ND/Sv8nbtpRIP2vylNV0PVE/aTum7souWD/At0SJ8fVgPw3Iuahxymc/MSNhhJWvcD/bTfBN02d3P2zb5nxnaoA/CD5h5MAGhz8NmeH1TyaQP+zrCsc9p5Y/LbKd76fGnz/bLW5ISEmmPww9YvTcQq8/JV2OstnstT8Er5Y7M8G+P0c+r3jqkcU/5h99k6ZBzj88bCIzFzjVP4enV8oyxN0//yH99nXg5D8qOpLLf0jtP5kqGJXUifQ/c9cS8kHP/D+/DpwzojQEQIEmwoanVwxA4lgXt9HgE0BSSZ2AJuIbQAMJih9jjiNA5q4l5INuK0AwTKYKRj0zQNv5fmq8/DpAaCJseHrtQkB/+zpwzoxKQM3MzMzMeFJAZmZmZmZqWEAAAAAAAFxeQM3MzMzMJmJAmpmZmZkfZUBmZmZmZhhoQDMzMzMzEWtAAAAAAAAKbkBmZmZmZoFwQM3MzMzM/XFAMzMzMzN6c0CamZmZmfZ0QAAAAAAAc3ZAZmZmZmbvd0DNzMzMzGt5QDMzMzMz6HpAmpmZmZlkfEAAAAAAAOF9QGZmZmZmXX9AZmZmZuZsgECamZmZGSuBQM3MzMxM6YFAAAAAAICngkAzMzMzs2WDQGZmZmbmI4RAmpmZmRnihEDNzMzMTKCFQAAAAACAXoZAMzMzM7Mch0BmZmZm5tqHQJqZmZkZmYhAzczMzExXiUAAAAAAgBWKQDMzMzOz04pAZmZmZuaRi0CamZmZGVCMQM3MzMxMDo1AAAAAAIDMjUAzMzMzs4qOQGZmZmbmSI9A\",\"dtype\":\"float64\",\"shape\":[75]}},\"selected\":{\"id\":\"7378057d-620f-466d-a109-440c6503a919\",\"type\":\"Selection\"},\"selection_policy\":{\"id\":\"9df9585c-eabc-4992-b82d-a7207e4476a8\",\"type\":\"UnionRenderers\"}},\"id\":\"af03735f-8d66-4fdd-838e-74b821c03ce4\",\"type\":\"ColumnDataSource\"},{\"attributes\":{\"data_source\":{\"id\":\"aed38298-d4ed-4cd7-b07f-d170829e49d9\",\"type\":\"ColumnDataSource\"},\"glyph\":{\"id\":\"c37d1d02-3e93-4a7c-ad00-d59a8733050d\",\"type\":\"Circle\"},\"hover_glyph\":null,\"muted_glyph\":null,\"nonselection_glyph\":{\"id\":\"a5e5f422-f362-4d71-b713-81dba84db500\",\"type\":\"Circle\"},\"selection_glyph\":null,\"view\":{\"id\":\"1b8fe96a-6752-409b-9604-db5ca71e6007\",\"type\":\"CDSView\"}},\"id\":\"c5ba05e9-6088-4f9e-8721-8560337c2bcb\",\"type\":\"GlyphRenderer\"},{\"attributes\":{},\"id\":\"022f0564-a51a-461a-9343-0fca0ccf813b\",\"type\":\"Selection\"},{\"attributes\":{\"fill_alpha\":{\"value\":0.7},\"fill_color\":{\"value\":\"#4daf4a\"},\"line_alpha\":{\"value\":0.7},\"line_color\":{\"value\":\"#4daf4a\"},\"x\":{\"field\":\"x\"},\"y\":{\"field\":\"y\"}},\"id\":\"c3e9b024-9d87-4987-b62f-1b09439c7b3a\",\"type\":\"Circle\"},{\"attributes\":{\"line_alpha\":0.1,\"line_color\":\"#1f77b4\",\"line_width\":3,\"x\":{\"field\":\"x\"},\"y\":{\"field\":\"y\"}},\"id\":\"1639c3ab-9515-43bb-8b75-09bd675bc989\",\"type\":\"Line\"},{\"attributes\":{\"callback\":null,\"data\":{\"x\":{\"__ndarray__\":\"b7lPd1BBIr8Km3nAO54hv5kxbMo/IyC/FGvMPmOsHL+21J4i9lsYv3pzVsnvNRO/C4lIL5QpCr8uHgUn9Dr3vgW+Rn0XUOY+ZAC5fbbZCT9lf2PVedkYP+SD9CwQbCM/8cAS5+qTKz9uUdxsyfUxP9yjVZFOljU/5DQITEQJOT+ilCO0i8g8P4yqDCWhb0A/5/0epjKrQj+YrxhFXhpFPxPn+A7deEc/s0OrfJeeRT9M6hbkOiY+P3eUBcHm1TE//kYywv2gIT98pKfwHxMCPyLVhWgqvQO/HUx/tg8WFr/VSLSkaEwdv32TeGiSTSG/t/ScGCa9I79dS9w0QxQmv1JCCv0E7ye/6HaNNTlZKb+zOvgfqg4rv89NgXzCVS2/X1xDc3MBML8nm6q6nJwxv7s5hHqDbzO/3jnIWEhGNb9zWO9EYyA3v9uNI0HA/ji/GV03LSrjOr9+LvTJJ808v4CVzNt2jz6/hMHRPaHsPr9ZsbNjc9M8v2kilcQZ5zi/2hJxL3vdM79igin/P40rv+9csmWoiRq/PGfeY37k+D4pAh+TmIslP1xK3lpv+DQ/8JdaL0wJQD862195i/tFP/dqf5AmQEw/J7epXtdfUT8IN2J0XLBUP/w/6JBEBVg/7cWE0j9TWz8aBQhwSJReP+Ph121r4mA/BVjf1TZyYj+KtNXw4vljP1XQIaoYeWU/MTwcxBrsZj+rFukhuUVoP0Y644KKZmk/UeQRKNceaj/uIgMyWE5qP8fHZsgqBWo/1qZD/MJxaT/ml+DcL7toPxfybyz09Wc/\",\"dtype\":\"float64\",\"shape\":[75]},\"y\":{\"__ndarray__\":\"GhExyth1ND/Sv8nbtpRIP2vylNV0PVE/aTum7souWD/At0SJ8fVgPw3Iuahxymc/MSNhhJWvcD/bTfBN02d3P2zb5nxnaoA/CD5h5MAGhz8NmeH1TyaQP+zrCsc9p5Y/LbKd76fGnz/bLW5ISEmmPww9YvTcQq8/JV2OstnstT8Er5Y7M8G+P0c+r3jqkcU/5h99k6ZBzj88bCIzFzjVP4enV8oyxN0//yH99nXg5D8qOpLLf0jtP5kqGJXUifQ/c9cS8kHP/D+/DpwzojQEQIEmwoanVwxA4lgXt9HgE0BSSZ2AJuIbQAMJih9jjiNA5q4l5INuK0AwTKYKRj0zQNv5fmq8/DpAaCJseHrtQkB/+zpwzoxKQM3MzMzMeFJAZmZmZmZqWEAAAAAAAFxeQM3MzMzMJmJAmpmZmZkfZUBmZmZmZhhoQDMzMzMzEWtAAAAAAAAKbkBmZmZmZoFwQM3MzMzM/XFAMzMzMzN6c0CamZmZmfZ0QAAAAAAAc3ZAZmZmZmbvd0DNzMzMzGt5QDMzMzMz6HpAmpmZmZlkfEAAAAAAAOF9QGZmZmZmXX9AZmZmZuZsgECamZmZGSuBQM3MzMxM6YFAAAAAAICngkAzMzMzs2WDQGZmZmbmI4RAmpmZmRnihEDNzMzMTKCFQAAAAACAXoZAMzMzM7Mch0BmZmZm5tqHQJqZmZkZmYhAzczMzExXiUAAAAAAgBWKQDMzMzOz04pAZmZmZuaRi0CamZmZGVCMQM3MzMxMDo1AAAAAAIDMjUAzMzMzs4qOQGZmZmbmSI9A\",\"dtype\":\"float64\",\"shape\":[75]}},\"selected\":{\"id\":\"da7cab4a-c3c5-47de-bd75-24f34238abe9\",\"type\":\"Selection\"},\"selection_policy\":{\"id\":\"342fd21d-e521-4d78-9acd-bd89d1e9ec65\",\"type\":\"UnionRenderers\"}},\"id\":\"b9ef873b-b069-4615-8ccd-42a1505a8919\",\"type\":\"ColumnDataSource\"},{\"attributes\":{\"axis_label\":\"pressure [mb]\",\"formatter\":{\"id\":\"a4044060-7524-4738-af33-a94f19084ec4\",\"type\":\"LogTickFormatter\"},\"plot\":{\"id\":\"b45b677a-c7ba-4e4a-ae82-c10aee6f2ec4\",\"subtype\":\"Figure\",\"type\":\"Plot\"},\"ticker\":{\"id\":\"012dca35-ab22-49b0-a4cf-0d7a2e05bca7\",\"type\":\"LogTicker\"}},\"id\":\"cf3d2d8c-2b14-4837-8275-868c11cee2ca\",\"type\":\"LogAxis\"},{\"attributes\":{\"line_alpha\":0.6,\"line_color\":\"#984ea3\",\"line_width\":3,\"x\":{\"field\":\"x\"},\"y\":{\"field\":\"y\"}},\"id\":\"a3076178-6392-46c3-9cd8-3f37c8f326aa\",\"type\":\"Line\"},{\"attributes\":{\"data_source\":{\"id\":\"989441a4-0055-450a-9d97-40fef51f53cb\",\"type\":\"ColumnDataSource\"},\"glyph\":{\"id\":\"a2b779d9-be57-49dd-85c4-af267ffe75a5\",\"type\":\"Square\"},\"hover_glyph\":null,\"muted_glyph\":null,\"nonselection_glyph\":{\"id\":\"fc3969a2-96b6-48fd-b5a0-2a7e669d8f0e\",\"type\":\"Square\"},\"selection_glyph\":null,\"view\":{\"id\":\"c08c679f-9974-4b1a-8a5b-3e37bb15a26d\",\"type\":\"CDSView\"}},\"id\":\"c012cc19-f844-462d-b5f1-f75f3477f5ad\",\"type\":\"GlyphRenderer\"},{\"attributes\":{\"line_color\":\"#4daf4a\",\"line_width\":1.5,\"x\":{\"field\":\"x\"},\"y\":{\"field\":\"y\"}},\"id\":\"574ae6f5-7f0b-4bb0-a89d-af78f4b4a723\",\"type\":\"Line\"},{\"attributes\":{\"callback\":null,\"data\":{\"x\":{\"__ndarray__\":\"2RL3JqOKI7+q+opjCQkjv5YIFC2Z3CG/QIcokrpvIL9JAHy3rHUdv0+54VxUYhm/2r880MmGFL8XdY/JcoENv+YBlefJsP++5H5/p6PjoT7LfDto90QDPwFW5v+VyhQ/MTaJTornID8GqY0ezZEnPwDvGc2rXi0/+wk0JZ5xMT9cZoISpXE0PxyLdug+uDc/7oNL+95LOz9dAUEU3jI/P1b/oSjEgUE/nJ1N5OsIQD+oZ9vBVps1P40918pDlCc/dXI818eCEj89qbGAgr7hvpegjytHHhG/7OfNFVSyGr854iHlgyggv3vap6WTOCK/cUah9O4jJL/vcebbYgUmv9w2BdvMjSe/w1o7XPLJKL8frTU6clgqv/2M4ocQeCy/WoDIzvX5Lr9aMkBhKPQwvzKUAqTNlDK/6oIBsMozNL/0PMd8Jc81v0RoMc/wZje/tI27YVT7OL/EWpTLGos6v59Jpx0a8Du/SsqU+7QiPL9mNm0ikT86vwsArEq2zDa/pNYnB95dMr8IMC8hwP4pv0QkWveQwBq/Pqhh4X8A4j4/2RZ5wnohP/qZ7bbczjE/GpC0MgO1Oz9QFF5GFSxDP4oRFXd+zEg/4I6OJYSoTj98B08KclVSPxJ3u+1pX1U/tLI7rIloWD9jvyGvq2tbP4TCuzOOZV4/87Z7/bWqYD/8VWlTwR1iP0LVIVxli2M/nQvxOUjwZD/5EtBaT0FmPyhfFc5DZGc/mXWooWsxaD/4iLDT441oP1aEEXanhmg/6dt9o+FBaD/oH7X05d9nP/vZWmvgcWc/\",\"dtype\":\"float64\",\"shape\":[75]},\"y\":{\"__ndarray__\":\"GhExyth1ND/Sv8nbtpRIP2vylNV0PVE/aTum7souWD/At0SJ8fVgPw3Iuahxymc/MSNhhJWvcD/bTfBN02d3P2zb5nxnaoA/CD5h5MAGhz8NmeH1TyaQP+zrCsc9p5Y/LbKd76fGnz/bLW5ISEmmPww9YvTcQq8/JV2OstnstT8Er5Y7M8G+P0c+r3jqkcU/5h99k6ZBzj88bCIzFzjVP4enV8oyxN0//yH99nXg5D8qOpLLf0jtP5kqGJXUifQ/c9cS8kHP/D+/DpwzojQEQIEmwoanVwxA4lgXt9HgE0BSSZ2AJuIbQAMJih9jjiNA5q4l5INuK0AwTKYKRj0zQNv5fmq8/DpAaCJseHrtQkB/+zpwzoxKQM3MzMzMeFJAZmZmZmZqWEAAAAAAAFxeQM3MzMzMJmJAmpmZmZkfZUBmZmZmZhhoQDMzMzMzEWtAAAAAAAAKbkBmZmZmZoFwQM3MzMzM/XFAMzMzMzN6c0CamZmZmfZ0QAAAAAAAc3ZAZmZmZmbvd0DNzMzMzGt5QDMzMzMz6HpAmpmZmZlkfEAAAAAAAOF9QGZmZmZmXX9AZmZmZuZsgECamZmZGSuBQM3MzMxM6YFAAAAAAICngkAzMzMzs2WDQGZmZmbmI4RAmpmZmRnihEDNzMzMTKCFQAAAAACAXoZAMzMzM7Mch0BmZmZm5tqHQJqZmZkZmYhAzczMzExXiUAAAAAAgBWKQDMzMzOz04pAZmZmZuaRi0CamZmZGVCMQM3MzMxMDo1AAAAAAIDMjUAzMzMzs4qOQGZmZmbmSI9A\",\"dtype\":\"float64\",\"shape\":[75]}},\"selected\":{\"id\":\"4c398f03-10ed-41c7-bd1c-8da8db32fabf\",\"type\":\"Selection\"},\"selection_policy\":{\"id\":\"006179d9-33d1-479c-9485-33d317eac4a8\",\"type\":\"UnionRenderers\"}},\"id\":\"dce248f7-8125-4ed9-839f-8b5122cad07a\",\"type\":\"ColumnDataSource\"},{\"attributes\":{\"source\":{\"id\":\"17a10a39-4a1b-457b-a3b6-8b5e873dc038\",\"type\":\"ColumnDataSource\"}},\"id\":\"0bfae9ab-7bcd-49b7-b184-c6a1fd57708c\",\"type\":\"CDSView\"},{\"attributes\":{\"source\":{\"id\":\"af03735f-8d66-4fdd-838e-74b821c03ce4\",\"type\":\"ColumnDataSource\"}},\"id\":\"8cd1f18c-08d6-4d8d-bdc9-b76c5381c54a\",\"type\":\"CDSView\"},{\"attributes\":{\"fill_alpha\":{\"value\":0.7},\"fill_color\":{\"value\":\"#984ea3\"},\"line_alpha\":{\"value\":0.7},\"line_color\":{\"value\":\"#984ea3\"},\"x\":{\"field\":\"x\"},\"y\":{\"field\":\"y\"}},\"id\":\"a2b779d9-be57-49dd-85c4-af267ffe75a5\",\"type\":\"Square\"},{\"attributes\":{},\"id\":\"b8fa69d5-2b46-400b-930b-418ab9c9de74\",\"type\":\"Selection\"},{\"attributes\":{\"source\":{\"id\":\"989441a4-0055-450a-9d97-40fef51f53cb\",\"type\":\"ColumnDataSource\"}},\"id\":\"c08c679f-9974-4b1a-8a5b-3e37bb15a26d\",\"type\":\"CDSView\"},{\"attributes\":{\"callback\":null,\"data\":{\"x\":{\"__ndarray__\":\"b7lPd1BBIr8Km3nAO54hv5kxbMo/IyC/FGvMPmOsHL+21J4i9lsYv3pzVsnvNRO/C4lIL5QpCr8uHgUn9Dr3vgW+Rn0XUOY+ZAC5fbbZCT9lf2PVedkYP+SD9CwQbCM/8cAS5+qTKz9uUdxsyfUxP9yjVZFOljU/5DQITEQJOT+ilCO0i8g8P4yqDCWhb0A/5/0epjKrQj+YrxhFXhpFPxPn+A7deEc/s0OrfJeeRT9M6hbkOiY+P3eUBcHm1TE//kYywv2gIT98pKfwHxMCPyLVhWgqvQO/HUx/tg8WFr/VSLSkaEwdv32TeGiSTSG/t/ScGCa9I79dS9w0QxQmv1JCCv0E7ye/6HaNNTlZKb+zOvgfqg4rv89NgXzCVS2/X1xDc3MBML8nm6q6nJwxv7s5hHqDbzO/3jnIWEhGNb9zWO9EYyA3v9uNI0HA/ji/GV03LSrjOr9+LvTJJ808v4CVzNt2jz6/hMHRPaHsPr9ZsbNjc9M8v2kilcQZ5zi/2hJxL3vdM79igin/P40rv+9csmWoiRq/PGfeY37k+D4pAh+TmIslP1xK3lpv+DQ/8JdaL0wJQD862195i/tFP/dqf5AmQEw/J7epXtdfUT8IN2J0XLBUP/w/6JBEBVg/7cWE0j9TWz8aBQhwSJReP+Ph121r4mA/BVjf1TZyYj+KtNXw4vljP1XQIaoYeWU/MTwcxBrsZj+rFukhuUVoP0Y644KKZmk/UeQRKNceaj/uIgMyWE5qP8fHZsgqBWo/1qZD/MJxaT/ml+DcL7toPxfybyz09Wc/\",\"dtype\":\"float64\",\"shape\":[75]},\"y\":{\"__ndarray__\":\"GhExyth1ND/Sv8nbtpRIP2vylNV0PVE/aTum7souWD/At0SJ8fVgPw3Iuahxymc/MSNhhJWvcD/bTfBN02d3P2zb5nxnaoA/CD5h5MAGhz8NmeH1TyaQP+zrCsc9p5Y/LbKd76fGnz/bLW5ISEmmPww9YvTcQq8/JV2OstnstT8Er5Y7M8G+P0c+r3jqkcU/5h99k6ZBzj88bCIzFzjVP4enV8oyxN0//yH99nXg5D8qOpLLf0jtP5kqGJXUifQ/c9cS8kHP/D+/DpwzojQEQIEmwoanVwxA4lgXt9HgE0BSSZ2AJuIbQAMJih9jjiNA5q4l5INuK0AwTKYKRj0zQNv5fmq8/DpAaCJseHrtQkB/+zpwzoxKQM3MzMzMeFJAZmZmZmZqWEAAAAAAAFxeQM3MzMzMJmJAmpmZmZkfZUBmZmZmZhhoQDMzMzMzEWtAAAAAAAAKbkBmZmZmZoFwQM3MzMzM/XFAMzMzMzN6c0CamZmZmfZ0QAAAAAAAc3ZAZmZmZmbvd0DNzMzMzGt5QDMzMzMz6HpAmpmZmZlkfEAAAAAAAOF9QGZmZmZmXX9AZmZmZuZsgECamZmZGSuBQM3MzMxM6YFAAAAAAICngkAzMzMzs2WDQGZmZmbmI4RAmpmZmRnihEDNzMzMTKCFQAAAAACAXoZAMzMzM7Mch0BmZmZm5tqHQJqZmZkZmYhAzczMzExXiUAAAAAAgBWKQDMzMzOz04pAZmZmZuaRi0CamZmZGVCMQM3MzMxMDo1AAAAAAIDMjUAzMzMzs4qOQGZmZmbmSI9A\",\"dtype\":\"float64\",\"shape\":[75]}},\"selected\":{\"id\":\"340c1af2-1748-4a20-adf9-853a962aa171\",\"type\":\"Selection\"},\"selection_policy\":{\"id\":\"29925204-475a-4a2a-a7e1-666bcc169ac5\",\"type\":\"UnionRenderers\"}},\"id\":\"f791db30-6d14-4d39-916d-5eab0785bc24\",\"type\":\"ColumnDataSource\"},{\"attributes\":{\"callback\":null,\"end\":0.01,\"start\":1020},\"id\":\"39e6eaa6-1611-4c3f-82a4-6a30e24fcffe\",\"type\":\"Range1d\"},{\"attributes\":{\"fill_alpha\":{\"value\":0.7},\"fill_color\":{\"value\":\"#377eb8\"},\"line_alpha\":{\"value\":0.7},\"line_color\":{\"value\":\"#377eb8\"},\"x\":{\"field\":\"x\"},\"y\":{\"field\":\"y\"}},\"id\":\"fca3923d-aaca-4ef9-8273-209421880daa\",\"type\":\"Triangle\"},{\"attributes\":{\"fill_alpha\":{\"value\":0.1},\"fill_color\":{\"value\":\"#1f77b4\"},\"line_alpha\":{\"value\":0.1},\"line_color\":{\"value\":\"#1f77b4\"},\"x\":{\"field\":\"x\"},\"y\":{\"field\":\"y\"}},\"id\":\"a5e5f422-f362-4d71-b713-81dba84db500\",\"type\":\"Circle\"},{\"attributes\":{},\"id\":\"ec1daece-3a9c-4378-a04c-6af29ab6ad21\",\"type\":\"HelpTool\"},{\"attributes\":{\"fill_alpha\":{\"value\":0.1},\"fill_color\":{\"value\":\"#1f77b4\"},\"line_alpha\":{\"value\":0.1},\"line_color\":{\"value\":\"#1f77b4\"},\"x\":{\"field\":\"x\"},\"y\":{\"field\":\"y\"}},\"id\":\"fc3969a2-96b6-48fd-b5a0-2a7e669d8f0e\",\"type\":\"Square\"},{\"attributes\":{\"data_source\":{\"id\":\"af03735f-8d66-4fdd-838e-74b821c03ce4\",\"type\":\"ColumnDataSource\"},\"glyph\":{\"id\":\"fca3923d-aaca-4ef9-8273-209421880daa\",\"type\":\"Triangle\"},\"hover_glyph\":null,\"muted_glyph\":null,\"nonselection_glyph\":{\"id\":\"1bb61c68-1202-450c-88c9-b02ff5a92ac5\",\"type\":\"Triangle\"},\"selection_glyph\":null,\"view\":{\"id\":\"8cd1f18c-08d6-4d8d-bdc9-b76c5381c54a\",\"type\":\"CDSView\"}},\"id\":\"ebdaa697-e70e-4635-a422-142cd99f34d0\",\"type\":\"GlyphRenderer\"},{\"attributes\":{\"fill_alpha\":{\"value\":0.1},\"fill_color\":{\"value\":\"#1f77b4\"},\"line_alpha\":{\"value\":0.1},\"line_color\":{\"value\":\"#1f77b4\"},\"x\":{\"field\":\"x\"},\"y\":{\"field\":\"y\"}},\"id\":\"1bb61c68-1202-450c-88c9-b02ff5a92ac5\",\"type\":\"Triangle\"},{\"attributes\":{\"callback\":null,\"data\":{\"x\":{\"__ndarray__\":\"KcQ7nAAxJb/7DTzkt6Akv1yJ1Gd5UiO/XpXLlt28Ib9RjxwUGK8fv9dj8bvXKBu/4sPthy/FFb+LNZL7k7wOv+QkHIh4Mf++1e8iytMj0j4BpuP7SkwHPyIGUikeABg/KRAe9zI0Iz+wzWJwJZQqP4WDwlhofzA/lgzJz6KMMz8MMSsfC942PylkxhZkfTo/mAAXsM5xPj8URhFmJmFBP4s9pZACfUM/eFICAXvcQT9oZYubpic4P6tDO/QimCo/itIf24l9FT8hXpkpMVHXvv/aZqPw9RG/O2HnTHuSHL8uVnJbhGUhv0+oqIjLrCO/5jK+ziHKJb+J07Ek9twnv1KRxZUiiim/5UfvYDPcKr99EaWdTY0svwK0BOsn1i6/4//JA8bCML/mNszKxl0yvxo44T0sIjS/YIjkjDXrNb+dsqO5zqo3v3z77D8Kazm/POIkC9QqO7+/QxZbZ9w8v9yV5ME+bT6/SN03PMbLPr+vb2qb98M8v1LVDSkM+ji/dQ3IDdQZNL8+NRAVTF0sv3a4X2l64Ry/ll66o8bH5T7gJp8gD/AiPz/9WTzBXjM/TsKRJFo4Pj+ys7WAS/FEP2YYpedtC0s/kAkC8SSsUD/hDU4k1vJTP3LGNgVHRFc/xEuIYn+MWj8LKKzCWsRdP06QkD2Nf2A//xToRiEYYj+o23jAzKFjP2Vb3Rx0KmU/Ob8XFSetZj+zjQfwmRJoP/m6EQHDRWk/JtqZrhUgaj/GMKgxyHZqP/EfQHrSX2o/CGnx2SYLaj+YCsTHNI5pP8fSgnXuBmk/\",\"dtype\":\"float64\",\"shape\":[75]},\"y\":{\"__ndarray__\":\"GhExyth1ND/Sv8nbtpRIP2vylNV0PVE/aTum7souWD/At0SJ8fVgPw3Iuahxymc/MSNhhJWvcD/bTfBN02d3P2zb5nxnaoA/CD5h5MAGhz8NmeH1TyaQP+zrCsc9p5Y/LbKd76fGnz/bLW5ISEmmPww9YvTcQq8/JV2OstnstT8Er5Y7M8G+P0c+r3jqkcU/5h99k6ZBzj88bCIzFzjVP4enV8oyxN0//yH99nXg5D8qOpLLf0jtP5kqGJXUifQ/c9cS8kHP/D+/DpwzojQEQIEmwoanVwxA4lgXt9HgE0BSSZ2AJuIbQAMJih9jjiNA5q4l5INuK0AwTKYKRj0zQNv5fmq8/DpAaCJseHrtQkB/+zpwzoxKQM3MzMzMeFJAZmZmZmZqWEAAAAAAAFxeQM3MzMzMJmJAmpmZmZkfZUBmZmZmZhhoQDMzMzMzEWtAAAAAAAAKbkBmZmZmZoFwQM3MzMzM/XFAMzMzMzN6c0CamZmZmfZ0QAAAAAAAc3ZAZmZmZmbvd0DNzMzMzGt5QDMzMzMz6HpAmpmZmZlkfEAAAAAAAOF9QGZmZmZmXX9AZmZmZuZsgECamZmZGSuBQM3MzMxM6YFAAAAAAICngkAzMzMzs2WDQGZmZmbmI4RAmpmZmRnihEDNzMzMTKCFQAAAAACAXoZAMzMzM7Mch0BmZmZm5tqHQJqZmZkZmYhAzczMzExXiUAAAAAAgBWKQDMzMzOz04pAZmZmZuaRi0CamZmZGVCMQM3MzMxMDo1AAAAAAIDMjUAzMzMzs4qOQGZmZmbmSI9A\",\"dtype\":\"float64\",\"shape\":[75]}},\"selected\":{\"id\":\"0bc1d695-ae9c-4a15-9838-998520a31c1c\",\"type\":\"Selection\"},\"selection_policy\":{\"id\":\"dbfa0021-bf45-4ce9-9e73-aaa578790775\",\"type\":\"UnionRenderers\"}},\"id\":\"17a10a39-4a1b-457b-a3b6-8b5e873dc038\",\"type\":\"ColumnDataSource\"}],\"root_ids\":[\"b60257e1-6aec-4693-89a3-57633c398a26\"]},\"title\":\"Bokeh Application\",\"version\":\"0.12.16\"}};\n",
       "  var render_items = [{\"docid\":\"13bc334e-3fe8-4865-a714-f6772ba7a47e\",\"elementid\":\"e63a5ec0-d4c4-4ffb-957b-f69601baddee\",\"modelid\":\"b60257e1-6aec-4693-89a3-57633c398a26\"}];\n",
       "  root.Bokeh.embed.embed_items_notebook(docs_json, render_items);\n",
       "\n",
       "  }\n",
       "  if (root.Bokeh !== undefined) {\n",
       "    embed_document(root);\n",
       "  } else {\n",
       "    var attempts = 0;\n",
       "    var timer = setInterval(function(root) {\n",
       "      if (root.Bokeh !== undefined) {\n",
       "        embed_document(root);\n",
       "        clearInterval(timer);\n",
       "      }\n",
       "      attempts++;\n",
       "      if (attempts > 100) {\n",
       "        console.log(\"Bokeh: ERROR: Unable to run BokehJS code because BokehJS library is missing\")\n",
       "        clearInterval(timer);\n",
       "      }\n",
       "    }, 10, root)\n",
       "  }\n",
       "})(window);"
      ],
      "application/vnd.bokehjs_exec.v0+json": ""
     },
     "metadata": {
      "application/vnd.bokehjs_exec.v0+json": {
       "id": "b60257e1-6aec-4693-89a3-57633c398a26"
      }
     },
     "output_type": "display_data"
    },
    {
     "data": {
      "text/markdown": [
       "*FIGURE.* Cooling rates. g=4"
      ],
      "text/plain": [
       "<IPython.core.display.Markdown object>"
      ]
     },
     "metadata": {},
     "output_type": "display_data"
    },
    {
     "data": {
      "text/html": [
       "\n",
       "<div class=\"bk-root\">\n",
       "    <div class=\"bk-plotdiv\" id=\"9f819f5e-330f-4f22-83f9-cd17cc591aed\"></div>\n",
       "</div>"
      ]
     },
     "metadata": {},
     "output_type": "display_data"
    },
    {
     "data": {
      "application/javascript": [
       "(function(root) {\n",
       "  function embed_document(root) {\n",
       "    \n",
       "  var docs_json = {\"720c3420-ed72-46f6-b028-8432608efd40\":{\"roots\":{\"references\":[{\"attributes\":{\"line_alpha\":0.6,\"line_color\":\"#984ea3\",\"line_width\":3,\"x\":{\"field\":\"x\"},\"y\":{\"field\":\"y\"}},\"id\":\"eefeea25-2bdf-43a7-82be-e673684253e5\",\"type\":\"Line\"},{\"attributes\":{\"callback\":null,\"data\":{\"x\":{\"__ndarray__\":\"lK8cTHQDT78QUSv1ds3qvkC3l7lqgGA/a3cMUjyBcT8Z20BGt657P3/AhuExboM/jzNbBnSOiT/FcwPjBCKQP0MfIz3J05M/aJvY9PXMlz/be2W17COcP3K4ZCx9dKA/zdPCtq4Hoz/IPb5FGHOlPxSPGhEFaKc/4F0ahkowqT+kBRUMKwOrP/rgu1jl5qw/1dl+g0zdrj/UXWxTx3OwPxIimpPVZrE/h0Vb4AyDsD9aBM+QdMWqPyGdHK/QKKQ/OkiV1rlDnT+PdYcZOieUP7MF53W4kYk/CR5H6/OHfj/PVOQP7aFyPz9hWRAliWU/GMdTYYeTUT/ZAnPFzj8rv4ZThMv40ki/LSeEMRK4Rr+wyQnuWhZJvyTdQIPU+FK/nWtCzVIXXr+/D26ObHVnv6piyOFhtXC/Mhn4iSyTdb9VokHdXmJ6vz9v96nbNn+/lMY9yRIUgr9DC6L6YKGEv+1p+RQPDoe/piSEEdG/h79vfsv3csSFv2/I58t/e4K/i4OwxmjPfb9Sg/LAfEB2vzK0+Kc3mmy/n/w28eD2V79jLrL0KhNFP9R34j7lDmc/l2kjn6abdD9clnYS+sB9P771LaS2aoM/kYdGVTzZhz9lKNQrBx2MPzLMLL3eEpA/MoM9le/zkT/R5gPFObGTP8d5hzV/TpU/BuDtQELPlj/mTLMmbjeYP+9FJ09BjJk/iBYUn6bKmj+qoQlYjN6bP3xxQIvgmJw/ZYaKjC6xnD+AAucFyvibP/TPBtGSkZo/wXEeZSjKmD+6Wg8OgN6WP7rWBOSG7ZQ/\",\"dtype\":\"float64\",\"shape\":[75]},\"y\":{\"__ndarray__\":\"GhExyth1ND/Sv8nbtpRIP2vylNV0PVE/aTum7souWD/At0SJ8fVgPw3Iuahxymc/MSNhhJWvcD/bTfBN02d3P2zb5nxnaoA/CD5h5MAGhz8NmeH1TyaQP+zrCsc9p5Y/LbKd76fGnz/bLW5ISEmmPww9YvTcQq8/JV2OstnstT8Er5Y7M8G+P0c+r3jqkcU/5h99k6ZBzj88bCIzFzjVP4enV8oyxN0//yH99nXg5D8qOpLLf0jtP5kqGJXUifQ/c9cS8kHP/D+/DpwzojQEQIEmwoanVwxA4lgXt9HgE0BSSZ2AJuIbQAMJih9jjiNA5q4l5INuK0AwTKYKRj0zQNv5fmq8/DpAaCJseHrtQkB/+zpwzoxKQM3MzMzMeFJAZmZmZmZqWEAAAAAAAFxeQM3MzMzMJmJAmpmZmZkfZUBmZmZmZhhoQDMzMzMzEWtAAAAAAAAKbkBmZmZmZoFwQM3MzMzM/XFAMzMzMzN6c0CamZmZmfZ0QAAAAAAAc3ZAZmZmZmbvd0DNzMzMzGt5QDMzMzMz6HpAmpmZmZlkfEAAAAAAAOF9QGZmZmZmXX9AZmZmZuZsgECamZmZGSuBQM3MzMxM6YFAAAAAAICngkAzMzMzs2WDQGZmZmbmI4RAmpmZmRnihEDNzMzMTKCFQAAAAACAXoZAMzMzM7Mch0BmZmZm5tqHQJqZmZkZmYhAzczMzExXiUAAAAAAgBWKQDMzMzOz04pAZmZmZuaRi0CamZmZGVCMQM3MzMxMDo1AAAAAAIDMjUAzMzMzs4qOQGZmZmbmSI9A\",\"dtype\":\"float64\",\"shape\":[75]}},\"selected\":{\"id\":\"f0ef9283-aaeb-440b-9bfa-adf2afb6444a\",\"type\":\"Selection\"},\"selection_policy\":{\"id\":\"5b8c52af-295a-4187-abed-739631a1eebf\",\"type\":\"UnionRenderers\"}},\"id\":\"e2ce690d-7dcd-4e2b-a604-9cff2ae359a9\",\"type\":\"ColumnDataSource\"},{\"attributes\":{\"line_alpha\":0.1,\"line_color\":\"#1f77b4\",\"line_width\":1.5,\"x\":{\"field\":\"x\"},\"y\":{\"field\":\"y\"}},\"id\":\"f3f6178d-28ba-4000-b54d-e4d6087630de\",\"type\":\"Line\"},{\"attributes\":{\"callback\":null,\"data\":{\"x\":{\"__ndarray__\":\"kLuWvGD0Wz8WePX0LOhkP4iuq8J/+nE/vRfctB1dej9eDi18wMqBP00TYo+32oY/WZWbtoNmjD9vc60I1TqRP1ZeUmR9ipQ/dDHEK/0nmD+oHXFnTBmcP5oBl81fMqA/zuByfcSFoj+FdiSnyr6kP1utgB2FkqY/81M+hlw7qD+0wUtwhfWpP4YjD2EbxKs/cW035VKorT+KGluZuqKvP7k3GVWcvrA/VQec7f/9rz+2PG8BT2GqP1bihbr8VKQ/dc2dKzBNnj911+Z08HyVP4FRp2pdLYw/0F9KUz5HgT+EkCD8eMt0P1fxOK33VGY/4vfvuYyNSz+35dwnQ/hDv/CrA9EGw1O/WRW+WTaGUr8JL/MW4zNTvxo/0TZze1m/uIj2gjiLYr+1QhV87ylrv525f3JTmnK/OnpKLHB4d7/bds4rwTF8v6s/Vi6QaIC/puVNMj+wgr9NWBG+IfKEvzjl4Vm0+Ya/Gyai5VJnh78tpM73tXOFvxWbwTBLS4K/0Jmpneicfb+SOqYe2Cp2v5SDVsV+l2y/mbxv+t4mWL8q17/PU3FEP98NAPQR1WY/FlLRWHB1dD8YY10875J9P6jGgdZzUYM/YtUJjyTBhz+UE8R/WAeMP7SkN+7hCpA/FWQ70vnwkT9W71hkDLWTPzZ27nRAWJU/XUH2N8zdlj+WPJHhVkmYPy7ohfzenJk/eCUJRgXVmj/JwNCiB+GbPyIG/Chll5w/Vs7BXXG6nD+/m8uwxCScP5fb0z3r8po/2gK7Q85nmT/1fnymqLmXP+4n5+BWBJY/\",\"dtype\":\"float64\",\"shape\":[75]},\"y\":{\"__ndarray__\":\"GhExyth1ND/Sv8nbtpRIP2vylNV0PVE/aTum7souWD/At0SJ8fVgPw3Iuahxymc/MSNhhJWvcD/bTfBN02d3P2zb5nxnaoA/CD5h5MAGhz8NmeH1TyaQP+zrCsc9p5Y/LbKd76fGnz/bLW5ISEmmPww9YvTcQq8/JV2OstnstT8Er5Y7M8G+P0c+r3jqkcU/5h99k6ZBzj88bCIzFzjVP4enV8oyxN0//yH99nXg5D8qOpLLf0jtP5kqGJXUifQ/c9cS8kHP/D+/DpwzojQEQIEmwoanVwxA4lgXt9HgE0BSSZ2AJuIbQAMJih9jjiNA5q4l5INuK0AwTKYKRj0zQNv5fmq8/DpAaCJseHrtQkB/+zpwzoxKQM3MzMzMeFJAZmZmZmZqWEAAAAAAAFxeQM3MzMzMJmJAmpmZmZkfZUBmZmZmZhhoQDMzMzMzEWtAAAAAAAAKbkBmZmZmZoFwQM3MzMzM/XFAMzMzMzN6c0CamZmZmfZ0QAAAAAAAc3ZAZmZmZmbvd0DNzMzMzGt5QDMzMzMz6HpAmpmZmZlkfEAAAAAAAOF9QGZmZmZmXX9AZmZmZuZsgECamZmZGSuBQM3MzMxM6YFAAAAAAICngkAzMzMzs2WDQGZmZmbmI4RAmpmZmRnihEDNzMzMTKCFQAAAAACAXoZAMzMzM7Mch0BmZmZm5tqHQJqZmZkZmYhAzczMzExXiUAAAAAAgBWKQDMzMzOz04pAZmZmZuaRi0CamZmZGVCMQM3MzMxMDo1AAAAAAIDMjUAzMzMzs4qOQGZmZmbmSI9A\",\"dtype\":\"float64\",\"shape\":[75]}},\"selected\":{\"id\":\"c14dd09f-daad-46df-982d-1019630663de\",\"type\":\"Selection\"},\"selection_policy\":{\"id\":\"61c0b1bb-2ca1-46ed-bb86-9e7aab30c166\",\"type\":\"UnionRenderers\"}},\"id\":\"33d5347c-0283-4c8e-b7e4-3cb80eb1b77d\",\"type\":\"ColumnDataSource\"},{\"attributes\":{\"data_source\":{\"id\":\"f08bec45-1df7-4e5e-a9ce-628d677afdbc\",\"type\":\"ColumnDataSource\"},\"glyph\":{\"id\":\"af964b69-3bd2-4f60-9673-7618890907aa\",\"type\":\"Circle\"},\"hover_glyph\":null,\"muted_glyph\":null,\"nonselection_glyph\":{\"id\":\"40539f57-e175-49a4-a2c5-d2060158fa8c\",\"type\":\"Circle\"},\"selection_glyph\":null,\"view\":{\"id\":\"0c8931df-154c-4054-a7b9-b633c4acc178\",\"type\":\"CDSView\"}},\"id\":\"80f488cf-13fc-4f3e-923a-e38ad9bb5b14\",\"type\":\"GlyphRenderer\"},{\"attributes\":{\"callback\":null,\"data\":{\"x\":{\"__ndarray__\":\"lK8cTHQDT78QUSv1ds3qvkC3l7lqgGA/a3cMUjyBcT8Z20BGt657P3/AhuExboM/jzNbBnSOiT/FcwPjBCKQP0MfIz3J05M/aJvY9PXMlz/be2W17COcP3K4ZCx9dKA/zdPCtq4Hoz/IPb5FGHOlPxSPGhEFaKc/4F0ahkowqT+kBRUMKwOrP/rgu1jl5qw/1dl+g0zdrj/UXWxTx3OwPxIimpPVZrE/h0Vb4AyDsD9aBM+QdMWqPyGdHK/QKKQ/OkiV1rlDnT+PdYcZOieUP7MF53W4kYk/CR5H6/OHfj/PVOQP7aFyPz9hWRAliWU/GMdTYYeTUT/ZAnPFzj8rv4ZThMv40ki/LSeEMRK4Rr+wyQnuWhZJvyTdQIPU+FK/nWtCzVIXXr+/D26ObHVnv6piyOFhtXC/Mhn4iSyTdb9VokHdXmJ6vz9v96nbNn+/lMY9yRIUgr9DC6L6YKGEv+1p+RQPDoe/piSEEdG/h79vfsv3csSFv2/I58t/e4K/i4OwxmjPfb9Sg/LAfEB2vzK0+Kc3mmy/n/w28eD2V79jLrL0KhNFP9R34j7lDmc/l2kjn6abdD9clnYS+sB9P771LaS2aoM/kYdGVTzZhz9lKNQrBx2MPzLMLL3eEpA/MoM9le/zkT/R5gPFObGTP8d5hzV/TpU/BuDtQELPlj/mTLMmbjeYP+9FJ09BjJk/iBYUn6bKmj+qoQlYjN6bP3xxQIvgmJw/ZYaKjC6xnD+AAucFyvibP/TPBtGSkZo/wXEeZSjKmD+6Wg8OgN6WP7rWBOSG7ZQ/\",\"dtype\":\"float64\",\"shape\":[75]},\"y\":{\"__ndarray__\":\"GhExyth1ND/Sv8nbtpRIP2vylNV0PVE/aTum7souWD/At0SJ8fVgPw3Iuahxymc/MSNhhJWvcD/bTfBN02d3P2zb5nxnaoA/CD5h5MAGhz8NmeH1TyaQP+zrCsc9p5Y/LbKd76fGnz/bLW5ISEmmPww9YvTcQq8/JV2OstnstT8Er5Y7M8G+P0c+r3jqkcU/5h99k6ZBzj88bCIzFzjVP4enV8oyxN0//yH99nXg5D8qOpLLf0jtP5kqGJXUifQ/c9cS8kHP/D+/DpwzojQEQIEmwoanVwxA4lgXt9HgE0BSSZ2AJuIbQAMJih9jjiNA5q4l5INuK0AwTKYKRj0zQNv5fmq8/DpAaCJseHrtQkB/+zpwzoxKQM3MzMzMeFJAZmZmZmZqWEAAAAAAAFxeQM3MzMzMJmJAmpmZmZkfZUBmZmZmZhhoQDMzMzMzEWtAAAAAAAAKbkBmZmZmZoFwQM3MzMzM/XFAMzMzMzN6c0CamZmZmfZ0QAAAAAAAc3ZAZmZmZmbvd0DNzMzMzGt5QDMzMzMz6HpAmpmZmZlkfEAAAAAAAOF9QGZmZmZmXX9AZmZmZuZsgECamZmZGSuBQM3MzMxM6YFAAAAAAICngkAzMzMzs2WDQGZmZmbmI4RAmpmZmRnihEDNzMzMTKCFQAAAAACAXoZAMzMzM7Mch0BmZmZm5tqHQJqZmZkZmYhAzczMzExXiUAAAAAAgBWKQDMzMzOz04pAZmZmZuaRi0CamZmZGVCMQM3MzMxMDo1AAAAAAIDMjUAzMzMzs4qOQGZmZmbmSI9A\",\"dtype\":\"float64\",\"shape\":[75]}},\"selected\":{\"id\":\"107418c6-73c3-418e-b383-c45f13fd2861\",\"type\":\"Selection\"},\"selection_policy\":{\"id\":\"40c6144a-fb45-4cff-b763-d7eb41a9f4d1\",\"type\":\"UnionRenderers\"}},\"id\":\"9380d9ac-af08-4b0a-aaf0-404e9366f3c4\",\"type\":\"ColumnDataSource\"},{\"attributes\":{\"line_alpha\":0.1,\"line_color\":\"#1f77b4\",\"line_width\":3,\"x\":{\"field\":\"x\"},\"y\":{\"field\":\"y\"}},\"id\":\"0eda37d5-226c-430b-9e36-ada84ad8156f\",\"type\":\"Line\"},{\"attributes\":{\"source\":{\"id\":\"e2ce690d-7dcd-4e2b-a604-9cff2ae359a9\",\"type\":\"ColumnDataSource\"}},\"id\":\"afa3ec27-621b-4d40-a4db-ebd7860e88cc\",\"type\":\"CDSView\"},{\"attributes\":{\"data_source\":{\"id\":\"33d5347c-0283-4c8e-b7e4-3cb80eb1b77d\",\"type\":\"ColumnDataSource\"},\"glyph\":{\"id\":\"e3a8746a-134e-4a36-a71b-d63a2627c462\",\"type\":\"Triangle\"},\"hover_glyph\":null,\"muted_glyph\":null,\"nonselection_glyph\":{\"id\":\"f3387e77-9014-45d4-878b-333f3e831e0d\",\"type\":\"Triangle\"},\"selection_glyph\":null,\"view\":{\"id\":\"b3464ed1-e345-4996-b3f7-f33f3ecf9177\",\"type\":\"CDSView\"}},\"id\":\"8a5ae44c-5538-4aa9-b2ed-37de0c5c3f13\",\"type\":\"GlyphRenderer\"},{\"attributes\":{\"callback\":null,\"data\":{\"x\":{\"__ndarray__\":\"lK8cTHQDT78QUSv1ds3qvkC3l7lqgGA/a3cMUjyBcT8Z20BGt657P3/AhuExboM/jzNbBnSOiT/FcwPjBCKQP0MfIz3J05M/aJvY9PXMlz/be2W17COcP3K4ZCx9dKA/zdPCtq4Hoz/IPb5FGHOlPxSPGhEFaKc/4F0ahkowqT+kBRUMKwOrP/rgu1jl5qw/1dl+g0zdrj/UXWxTx3OwPxIimpPVZrE/h0Vb4AyDsD9aBM+QdMWqPyGdHK/QKKQ/OkiV1rlDnT+PdYcZOieUP7MF53W4kYk/CR5H6/OHfj/PVOQP7aFyPz9hWRAliWU/GMdTYYeTUT/ZAnPFzj8rv4ZThMv40ki/LSeEMRK4Rr+wyQnuWhZJvyTdQIPU+FK/nWtCzVIXXr+/D26ObHVnv6piyOFhtXC/Mhn4iSyTdb9VokHdXmJ6vz9v96nbNn+/lMY9yRIUgr9DC6L6YKGEv+1p+RQPDoe/piSEEdG/h79vfsv3csSFv2/I58t/e4K/i4OwxmjPfb9Sg/LAfEB2vzK0+Kc3mmy/n/w28eD2V79jLrL0KhNFP9R34j7lDmc/l2kjn6abdD9clnYS+sB9P771LaS2aoM/kYdGVTzZhz9lKNQrBx2MPzLMLL3eEpA/MoM9le/zkT/R5gPFObGTP8d5hzV/TpU/BuDtQELPlj/mTLMmbjeYP+9FJ09BjJk/iBYUn6bKmj+qoQlYjN6bP3xxQIvgmJw/ZYaKjC6xnD+AAucFyvibP/TPBtGSkZo/wXEeZSjKmD+6Wg8OgN6WP7rWBOSG7ZQ/\",\"dtype\":\"float64\",\"shape\":[75]},\"y\":{\"__ndarray__\":\"GhExyth1ND/Sv8nbtpRIP2vylNV0PVE/aTum7souWD/At0SJ8fVgPw3Iuahxymc/MSNhhJWvcD/bTfBN02d3P2zb5nxnaoA/CD5h5MAGhz8NmeH1TyaQP+zrCsc9p5Y/LbKd76fGnz/bLW5ISEmmPww9YvTcQq8/JV2OstnstT8Er5Y7M8G+P0c+r3jqkcU/5h99k6ZBzj88bCIzFzjVP4enV8oyxN0//yH99nXg5D8qOpLLf0jtP5kqGJXUifQ/c9cS8kHP/D+/DpwzojQEQIEmwoanVwxA4lgXt9HgE0BSSZ2AJuIbQAMJih9jjiNA5q4l5INuK0AwTKYKRj0zQNv5fmq8/DpAaCJseHrtQkB/+zpwzoxKQM3MzMzMeFJAZmZmZmZqWEAAAAAAAFxeQM3MzMzMJmJAmpmZmZkfZUBmZmZmZhhoQDMzMzMzEWtAAAAAAAAKbkBmZmZmZoFwQM3MzMzM/XFAMzMzMzN6c0CamZmZmfZ0QAAAAAAAc3ZAZmZmZmbvd0DNzMzMzGt5QDMzMzMz6HpAmpmZmZlkfEAAAAAAAOF9QGZmZmZmXX9AZmZmZuZsgECamZmZGSuBQM3MzMxM6YFAAAAAAICngkAzMzMzs2WDQGZmZmbmI4RAmpmZmRnihEDNzMzMTKCFQAAAAACAXoZAMzMzM7Mch0BmZmZm5tqHQJqZmZkZmYhAzczMzExXiUAAAAAAgBWKQDMzMzOz04pAZmZmZuaRi0CamZmZGVCMQM3MzMxMDo1AAAAAAIDMjUAzMzMzs4qOQGZmZmbmSI9A\",\"dtype\":\"float64\",\"shape\":[75]}},\"selected\":{\"id\":\"cf5c0f83-9a15-4255-94aa-62196f6839d3\",\"type\":\"Selection\"},\"selection_policy\":{\"id\":\"3ddf1a0d-9426-4e3b-ae0b-2333660c4c56\",\"type\":\"UnionRenderers\"}},\"id\":\"89c68c89-078c-4877-b53d-3dc9a51c3c62\",\"type\":\"ColumnDataSource\"},{\"attributes\":{\"data_source\":{\"id\":\"e2ce690d-7dcd-4e2b-a604-9cff2ae359a9\",\"type\":\"ColumnDataSource\"},\"glyph\":{\"id\":\"eefeea25-2bdf-43a7-82be-e673684253e5\",\"type\":\"Line\"},\"hover_glyph\":null,\"muted_glyph\":null,\"nonselection_glyph\":{\"id\":\"0eda37d5-226c-430b-9e36-ada84ad8156f\",\"type\":\"Line\"},\"selection_glyph\":null,\"view\":{\"id\":\"afa3ec27-621b-4d40-a4db-ebd7860e88cc\",\"type\":\"CDSView\"}},\"id\":\"d45f1a78-323e-473c-be81-620672b90bbc\",\"type\":\"GlyphRenderer\"},{\"attributes\":{\"fill_alpha\":{\"value\":0.7},\"fill_color\":{\"value\":\"#377eb8\"},\"line_alpha\":{\"value\":0.7},\"line_color\":{\"value\":\"#377eb8\"},\"x\":{\"field\":\"x\"},\"y\":{\"field\":\"y\"}},\"id\":\"e3a8746a-134e-4a36-a71b-d63a2627c462\",\"type\":\"Triangle\"},{\"attributes\":{\"callback\":null,\"data\":{\"x\":{\"__ndarray__\":\"kLuWvGD0Wz8WePX0LOhkP4iuq8J/+nE/vRfctB1dej9eDi18wMqBP00TYo+32oY/WZWbtoNmjD9vc60I1TqRP1ZeUmR9ipQ/dDHEK/0nmD+oHXFnTBmcP5oBl81fMqA/zuByfcSFoj+FdiSnyr6kP1utgB2FkqY/81M+hlw7qD+0wUtwhfWpP4YjD2EbxKs/cW035VKorT+KGluZuqKvP7k3GVWcvrA/VQec7f/9rz+2PG8BT2GqP1bihbr8VKQ/dc2dKzBNnj911+Z08HyVP4FRp2pdLYw/0F9KUz5HgT+EkCD8eMt0P1fxOK33VGY/4vfvuYyNSz+35dwnQ/hDv/CrA9EGw1O/WRW+WTaGUr8JL/MW4zNTvxo/0TZze1m/uIj2gjiLYr+1QhV87ylrv525f3JTmnK/OnpKLHB4d7/bds4rwTF8v6s/Vi6QaIC/puVNMj+wgr9NWBG+IfKEvzjl4Vm0+Ya/Gyai5VJnh78tpM73tXOFvxWbwTBLS4K/0Jmpneicfb+SOqYe2Cp2v5SDVsV+l2y/mbxv+t4mWL8q17/PU3FEP98NAPQR1WY/FlLRWHB1dD8YY10875J9P6jGgdZzUYM/YtUJjyTBhz+UE8R/WAeMP7SkN+7hCpA/FWQ70vnwkT9W71hkDLWTPzZ27nRAWJU/XUH2N8zdlj+WPJHhVkmYPy7ohfzenJk/eCUJRgXVmj/JwNCiB+GbPyIG/Chll5w/Vs7BXXG6nD+/m8uwxCScP5fb0z3r8po/2gK7Q85nmT/1fnymqLmXP+4n5+BWBJY/\",\"dtype\":\"float64\",\"shape\":[75]},\"y\":{\"__ndarray__\":\"GhExyth1ND/Sv8nbtpRIP2vylNV0PVE/aTum7souWD/At0SJ8fVgPw3Iuahxymc/MSNhhJWvcD/bTfBN02d3P2zb5nxnaoA/CD5h5MAGhz8NmeH1TyaQP+zrCsc9p5Y/LbKd76fGnz/bLW5ISEmmPww9YvTcQq8/JV2OstnstT8Er5Y7M8G+P0c+r3jqkcU/5h99k6ZBzj88bCIzFzjVP4enV8oyxN0//yH99nXg5D8qOpLLf0jtP5kqGJXUifQ/c9cS8kHP/D+/DpwzojQEQIEmwoanVwxA4lgXt9HgE0BSSZ2AJuIbQAMJih9jjiNA5q4l5INuK0AwTKYKRj0zQNv5fmq8/DpAaCJseHrtQkB/+zpwzoxKQM3MzMzMeFJAZmZmZmZqWEAAAAAAAFxeQM3MzMzMJmJAmpmZmZkfZUBmZmZmZhhoQDMzMzMzEWtAAAAAAAAKbkBmZmZmZoFwQM3MzMzM/XFAMzMzMzN6c0CamZmZmfZ0QAAAAAAAc3ZAZmZmZmbvd0DNzMzMzGt5QDMzMzMz6HpAmpmZmZlkfEAAAAAAAOF9QGZmZmZmXX9AZmZmZuZsgECamZmZGSuBQM3MzMxM6YFAAAAAAICngkAzMzMzs2WDQGZmZmbmI4RAmpmZmRnihEDNzMzMTKCFQAAAAACAXoZAMzMzM7Mch0BmZmZm5tqHQJqZmZkZmYhAzczMzExXiUAAAAAAgBWKQDMzMzOz04pAZmZmZuaRi0CamZmZGVCMQM3MzMxMDo1AAAAAAIDMjUAzMzMzs4qOQGZmZmbmSI9A\",\"dtype\":\"float64\",\"shape\":[75]}},\"selected\":{\"id\":\"cfe68242-9cb1-4144-93e3-58d5f6daa7b2\",\"type\":\"Selection\"},\"selection_policy\":{\"id\":\"c554855e-5069-4caf-9389-51b6e181f4c2\",\"type\":\"UnionRenderers\"}},\"id\":\"3314f1b7-740a-4c30-a1dd-752b815146bf\",\"type\":\"ColumnDataSource\"},{\"attributes\":{\"source\":{\"id\":\"f08bec45-1df7-4e5e-a9ce-628d677afdbc\",\"type\":\"ColumnDataSource\"}},\"id\":\"0c8931df-154c-4054-a7b9-b633c4acc178\",\"type\":\"CDSView\"},{\"attributes\":{\"fill_alpha\":{\"value\":0.1},\"fill_color\":{\"value\":\"#1f77b4\"},\"line_alpha\":{\"value\":0.1},\"line_color\":{\"value\":\"#1f77b4\"},\"x\":{\"field\":\"x\"},\"y\":{\"field\":\"y\"}},\"id\":\"f3387e77-9014-45d4-878b-333f3e831e0d\",\"type\":\"Triangle\"},{\"attributes\":{\"source\":{\"id\":\"33d5347c-0283-4c8e-b7e4-3cb80eb1b77d\",\"type\":\"ColumnDataSource\"}},\"id\":\"b3464ed1-e345-4996-b3f7-f33f3ecf9177\",\"type\":\"CDSView\"},{\"attributes\":{\"line_alpha\":0.3,\"line_color\":\"#377eb8\",\"line_width\":2,\"x\":{\"field\":\"x\"},\"y\":{\"field\":\"y\"}},\"id\":\"27859388-0870-43be-9252-733091756cf7\",\"type\":\"Line\"},{\"attributes\":{\"above\":[{\"id\":\"ef48862e-80ad-448a-8ccd-37ed96f6c2d1\",\"type\":\"Legend\"}],\"below\":[{\"id\":\"234ff175-f095-4406-bc14-f0834c8d0556\",\"type\":\"LinearAxis\"}],\"left\":[{\"id\":\"3a5ca07e-e083-4f65-84f0-9dc0bdfa8733\",\"type\":\"LogAxis\"}],\"plot_height\":500,\"plot_width\":400,\"renderers\":[{\"id\":\"234ff175-f095-4406-bc14-f0834c8d0556\",\"type\":\"LinearAxis\"},{\"id\":\"8794de09-ca24-4f18-8b42-9dae53c339c3\",\"type\":\"Grid\"},{\"id\":\"3a5ca07e-e083-4f65-84f0-9dc0bdfa8733\",\"type\":\"LogAxis\"},{\"id\":\"d3fd756f-972d-4e1c-ade4-725f89f69153\",\"type\":\"Grid\"},{\"id\":\"e0d374eb-933a-4379-ba2d-31782cb1fc46\",\"type\":\"BoxAnnotation\"},{\"id\":\"80f488cf-13fc-4f3e-923a-e38ad9bb5b14\",\"type\":\"GlyphRenderer\"},{\"id\":\"44a0f865-0e5e-4062-b5f7-178ed9e24641\",\"type\":\"GlyphRenderer\"},{\"id\":\"b1829f89-4514-4e6b-b9b3-7dfdcec0401d\",\"type\":\"GlyphRenderer\"},{\"id\":\"0383b900-205d-47f1-89b2-eef6ebb6e2c9\",\"type\":\"GlyphRenderer\"},{\"id\":\"ebae738d-7445-4dda-bc48-edff5a3cc699\",\"type\":\"GlyphRenderer\"},{\"id\":\"f9f1b8dd-7ea2-4615-b3c6-4a85cce32ade\",\"type\":\"GlyphRenderer\"},{\"id\":\"ef48862e-80ad-448a-8ccd-37ed96f6c2d1\",\"type\":\"Legend\"}],\"title\":{\"id\":\"6441255b-025b-440d-9a81-ee873e88d0d5\",\"type\":\"Title\"},\"toolbar\":{\"id\":\"10f6dff0-fcd7-4532-a19c-36e8b9b9067b\",\"type\":\"Toolbar\"},\"toolbar_location\":null,\"x_range\":{\"id\":\"72428d36-7f61-428f-928c-52fa31800396\",\"type\":\"Range1d\"},\"x_scale\":{\"id\":\"66984af0-6043-40a4-821a-afd9d1733954\",\"type\":\"LinearScale\"},\"y_range\":{\"id\":\"592c872f-a790-4a96-949c-07b13ce80e7e\",\"type\":\"Range1d\"},\"y_scale\":{\"id\":\"10084292-f21e-4dbd-bbd9-e7c2947e017b\",\"type\":\"LogScale\"}},\"id\":\"f854b5a5-ce0e-4f7f-a084-6bf0400cc912\",\"subtype\":\"Figure\",\"type\":\"Plot\"},{\"attributes\":{},\"id\":\"59849262-1c2f-4e43-a586-7d2e70019b6b\",\"type\":\"BasicTickFormatter\"},{\"attributes\":{\"line_alpha\":0.1,\"line_color\":\"#1f77b4\",\"line_width\":2,\"x\":{\"field\":\"x\"},\"y\":{\"field\":\"y\"}},\"id\":\"a572e99b-9f9b-4c34-ae9e-3fcf0769d72f\",\"type\":\"Line\"},{\"attributes\":{\"source\":{\"id\":\"4d69dc0e-48b3-4c49-8b3e-f3a152c454fc\",\"type\":\"ColumnDataSource\"}},\"id\":\"6473019c-6b7d-4ecd-a9be-a97dddff7c62\",\"type\":\"CDSView\"},{\"attributes\":{\"data_source\":{\"id\":\"3314f1b7-740a-4c30-a1dd-752b815146bf\",\"type\":\"ColumnDataSource\"},\"glyph\":{\"id\":\"27859388-0870-43be-9252-733091756cf7\",\"type\":\"Line\"},\"hover_glyph\":null,\"muted_glyph\":null,\"nonselection_glyph\":{\"id\":\"a572e99b-9f9b-4c34-ae9e-3fcf0769d72f\",\"type\":\"Line\"},\"selection_glyph\":null,\"view\":{\"id\":\"8d01f2f4-24ff-400c-83ce-3337249c242a\",\"type\":\"CDSView\"}},\"id\":\"5b102736-9221-48d1-a5b3-7b06b14f438a\",\"type\":\"GlyphRenderer\"},{\"attributes\":{\"source\":{\"id\":\"3314f1b7-740a-4c30-a1dd-752b815146bf\",\"type\":\"ColumnDataSource\"}},\"id\":\"8d01f2f4-24ff-400c-83ce-3337249c242a\",\"type\":\"CDSView\"},{\"attributes\":{\"active_drag\":\"auto\",\"active_inspect\":\"auto\",\"active_scroll\":\"auto\",\"active_tap\":\"auto\",\"tools\":[{\"id\":\"113415d1-7828-43c3-ba10-9932c35ee6b0\",\"type\":\"PanTool\"},{\"id\":\"c3057634-d801-4a14-b574-9043f36a7daf\",\"type\":\"WheelZoomTool\"},{\"id\":\"812a2642-ef4a-4d16-8ecb-613dd0575926\",\"type\":\"BoxZoomTool\"},{\"id\":\"1c61811c-b1f3-45bf-84a8-701198fe4e2e\",\"type\":\"SaveTool\"},{\"id\":\"2f4edf4c-68cd-4694-9738-52e505655acd\",\"type\":\"ResetTool\"},{\"id\":\"5c3d5b77-e771-4867-b6b0-8b7561df5357\",\"type\":\"HelpTool\"}]},\"id\":\"10f6dff0-fcd7-4532-a19c-36e8b9b9067b\",\"type\":\"Toolbar\"},{\"attributes\":{},\"id\":\"cfe68242-9cb1-4144-93e3-58d5f6daa7b2\",\"type\":\"Selection\"},{\"attributes\":{\"label\":{\"value\":\"CRD\"},\"renderers\":[{\"id\":\"72d688e5-ffde-4296-950f-a210c9c106f6\",\"type\":\"GlyphRenderer\"},{\"id\":\"a313ebd2-46ee-4808-8203-8d2bfd633316\",\"type\":\"GlyphRenderer\"}]},\"id\":\"e1e300ff-a520-4a45-8bd6-1a7a5799fecc\",\"type\":\"LegendItem\"},{\"attributes\":{\"callback\":null,\"end\":0.0790573196169,\"start\":-0.0077342852469},\"id\":\"72428d36-7f61-428f-928c-52fa31800396\",\"type\":\"Range1d\"},{\"attributes\":{\"label\":{\"value\":\"WGT igg=1\"},\"renderers\":[{\"id\":\"6ddc5437-bff5-432b-b69b-0694ffe24551\",\"type\":\"GlyphRenderer\"},{\"id\":\"d45f1a78-323e-473c-be81-620672b90bbc\",\"type\":\"GlyphRenderer\"}]},\"id\":\"68a09908-a6bd-49c8-ad83-f5bc4e464eb7\",\"type\":\"LegendItem\"},{\"attributes\":{\"callback\":null,\"data\":{\"x\":{\"__ndarray__\":\"3eZrd1rTkL9xrhXSCJuOv8Q5expC9oe/Pgr8pfaYgL+9cqrfRBhxv9R/DWDyWh4/T2vTZp2Acz+b6VhmXhCEPxfC7Zv+N48/Vz/RtgeglT/d0QMdTxicP0PTYnmXhKE/sb67SP01pT9kntbaeqGoP6F/iXW7Q6s/DwuLrb97rT+pc3gjOaqvPwaMJyPr57A/6kJcfYL3sT+SkhFGxwmzP3/8zgZWBbQ/5PFYv3xosj8gu38zR4urP8rORCMue6I/UU4zQQhzlz9hWlkpp9CLP+/VNNbE7X0/LDzbp8twcD8isw4d7MZoP4/JYmr/a2U/E0WHdKROYD+6NQAgKIdSP1KaRjwdNEk/6RJDr5WJUD/+O2dcOR9SP2mseukaQlA/VvHWXxjCRT+EnIQuVYYbvwsNFeQL5lK/oF9DX2IqYr/vtbyOnWNrvy+QSiSTuHK/orQiBURXeL/WBikCN8l+vw1OcE6r3YK/ZEmVHxhwhL8/OAsRDM+Cv4NBgRc3nn+/9HI0cuxneb/8uh8AU/pyv97Y1zhxdWi/CXTe2hhyVL9QwsHFjw9DP5qIvptgcWQ/ABHyrztXcj/MN3Pv2qJ6P4aIVybhfIE/M2OU5UOahT9YaF6MzJWJP/bTZxViX40/3zPI0U92kD+6Idm15h6SP37ccY27rJM/n+rGJxAmlT+PefuV7pGWPwPDFOhX9Zc/36DBYvNNmT8VyR6o3oWaPzGZHuedYZs/s3qmFHqFmz/j3fx4+LeaP7sdXw+mIJk/ZSaaBa8dlz9CWgWoJ/eUPxEFz+FGy5I/\",\"dtype\":\"float64\",\"shape\":[75]},\"y\":{\"__ndarray__\":\"GhExyth1ND/Sv8nbtpRIP2vylNV0PVE/aTum7souWD/At0SJ8fVgPw3Iuahxymc/MSNhhJWvcD/bTfBN02d3P2zb5nxnaoA/CD5h5MAGhz8NmeH1TyaQP+zrCsc9p5Y/LbKd76fGnz/bLW5ISEmmPww9YvTcQq8/JV2OstnstT8Er5Y7M8G+P0c+r3jqkcU/5h99k6ZBzj88bCIzFzjVP4enV8oyxN0//yH99nXg5D8qOpLLf0jtP5kqGJXUifQ/c9cS8kHP/D+/DpwzojQEQIEmwoanVwxA4lgXt9HgE0BSSZ2AJuIbQAMJih9jjiNA5q4l5INuK0AwTKYKRj0zQNv5fmq8/DpAaCJseHrtQkB/+zpwzoxKQM3MzMzMeFJAZmZmZmZqWEAAAAAAAFxeQM3MzMzMJmJAmpmZmZkfZUBmZmZmZhhoQDMzMzMzEWtAAAAAAAAKbkBmZmZmZoFwQM3MzMzM/XFAMzMzMzN6c0CamZmZmfZ0QAAAAAAAc3ZAZmZmZmbvd0DNzMzMzGt5QDMzMzMz6HpAmpmZmZlkfEAAAAAAAOF9QGZmZmZmXX9AZmZmZuZsgECamZmZGSuBQM3MzMxM6YFAAAAAAICngkAzMzMzs2WDQGZmZmbmI4RAmpmZmRnihEDNzMzMTKCFQAAAAACAXoZAMzMzM7Mch0BmZmZm5tqHQJqZmZkZmYhAzczMzExXiUAAAAAAgBWKQDMzMzOz04pAZmZmZuaRi0CamZmZGVCMQM3MzMxMDo1AAAAAAIDMjUAzMzMzs4qOQGZmZmbmSI9A\",\"dtype\":\"float64\",\"shape\":[75]}},\"selected\":{\"id\":\"e9aa9918-96c4-4a7b-8705-0714c8939452\",\"type\":\"Selection\"},\"selection_policy\":{\"id\":\"42728c1b-0cbe-4ef7-9369-01c208091ce1\",\"type\":\"UnionRenderers\"}},\"id\":\"4d69dc0e-48b3-4c49-8b3e-f3a152c454fc\",\"type\":\"ColumnDataSource\"},{\"attributes\":{},\"id\":\"66984af0-6043-40a4-821a-afd9d1733954\",\"type\":\"LinearScale\"},{\"attributes\":{\"label\":{\"value\":\"WGT igg=10\"},\"renderers\":[{\"id\":\"8a5ae44c-5538-4aa9-b2ed-37de0c5c3f13\",\"type\":\"GlyphRenderer\"},{\"id\":\"5b102736-9221-48d1-a5b3-7b06b14f438a\",\"type\":\"GlyphRenderer\"}]},\"id\":\"fa3bb61f-9602-43aa-b571-f5f1013a514b\",\"type\":\"LegendItem\"},{\"attributes\":{\"callback\":null,\"data\":{\"x\":{\"__ndarray__\":\"kLuWvGD0Wz8WePX0LOhkP4iuq8J/+nE/vRfctB1dej9eDi18wMqBP00TYo+32oY/WZWbtoNmjD9vc60I1TqRP1ZeUmR9ipQ/dDHEK/0nmD+oHXFnTBmcP5oBl81fMqA/zuByfcSFoj+FdiSnyr6kP1utgB2FkqY/81M+hlw7qD+0wUtwhfWpP4YjD2EbxKs/cW035VKorT+KGluZuqKvP7k3GVWcvrA/VQec7f/9rz+2PG8BT2GqP1bihbr8VKQ/dc2dKzBNnj911+Z08HyVP4FRp2pdLYw/0F9KUz5HgT+EkCD8eMt0P1fxOK33VGY/4vfvuYyNSz+35dwnQ/hDv/CrA9EGw1O/WRW+WTaGUr8JL/MW4zNTvxo/0TZze1m/uIj2gjiLYr+1QhV87ylrv525f3JTmnK/OnpKLHB4d7/bds4rwTF8v6s/Vi6QaIC/puVNMj+wgr9NWBG+IfKEvzjl4Vm0+Ya/Gyai5VJnh78tpM73tXOFvxWbwTBLS4K/0Jmpneicfb+SOqYe2Cp2v5SDVsV+l2y/mbxv+t4mWL8q17/PU3FEP98NAPQR1WY/FlLRWHB1dD8YY10875J9P6jGgdZzUYM/YtUJjyTBhz+UE8R/WAeMP7SkN+7hCpA/FWQ70vnwkT9W71hkDLWTPzZ27nRAWJU/XUH2N8zdlj+WPJHhVkmYPy7ohfzenJk/eCUJRgXVmj/JwNCiB+GbPyIG/Chll5w/Vs7BXXG6nD+/m8uwxCScP5fb0z3r8po/2gK7Q85nmT/1fnymqLmXP+4n5+BWBJY/\",\"dtype\":\"float64\",\"shape\":[75]},\"y\":{\"__ndarray__\":\"GhExyth1ND/Sv8nbtpRIP2vylNV0PVE/aTum7souWD/At0SJ8fVgPw3Iuahxymc/MSNhhJWvcD/bTfBN02d3P2zb5nxnaoA/CD5h5MAGhz8NmeH1TyaQP+zrCsc9p5Y/LbKd76fGnz/bLW5ISEmmPww9YvTcQq8/JV2OstnstT8Er5Y7M8G+P0c+r3jqkcU/5h99k6ZBzj88bCIzFzjVP4enV8oyxN0//yH99nXg5D8qOpLLf0jtP5kqGJXUifQ/c9cS8kHP/D+/DpwzojQEQIEmwoanVwxA4lgXt9HgE0BSSZ2AJuIbQAMJih9jjiNA5q4l5INuK0AwTKYKRj0zQNv5fmq8/DpAaCJseHrtQkB/+zpwzoxKQM3MzMzMeFJAZmZmZmZqWEAAAAAAAFxeQM3MzMzMJmJAmpmZmZkfZUBmZmZmZhhoQDMzMzMzEWtAAAAAAAAKbkBmZmZmZoFwQM3MzMzM/XFAMzMzMzN6c0CamZmZmfZ0QAAAAAAAc3ZAZmZmZmbvd0DNzMzMzGt5QDMzMzMz6HpAmpmZmZlkfEAAAAAAAOF9QGZmZmZmXX9AZmZmZuZsgECamZmZGSuBQM3MzMxM6YFAAAAAAICngkAzMzMzs2WDQGZmZmbmI4RAmpmZmRnihEDNzMzMTKCFQAAAAACAXoZAMzMzM7Mch0BmZmZm5tqHQJqZmZkZmYhAzczMzExXiUAAAAAAgBWKQDMzMzOz04pAZmZmZuaRi0CamZmZGVCMQM3MzMxMDo1AAAAAAIDMjUAzMzMzs4qOQGZmZmbmSI9A\",\"dtype\":\"float64\",\"shape\":[75]}},\"selected\":{\"id\":\"69d7cd27-451f-4280-913e-115d42fdfde1\",\"type\":\"Selection\"},\"selection_policy\":{\"id\":\"9953a259-8167-4149-9f12-5d94051499b9\",\"type\":\"UnionRenderers\"}},\"id\":\"21369037-1821-4b97-8161-9a7cccc3e6fb\",\"type\":\"ColumnDataSource\"},{\"attributes\":{\"plot\":{\"id\":\"f854b5a5-ce0e-4f7f-a084-6bf0400cc912\",\"subtype\":\"Figure\",\"type\":\"Plot\"},\"ticker\":{\"id\":\"c15db202-1186-486f-98e6-0a48680df74b\",\"type\":\"BasicTicker\"}},\"id\":\"8794de09-ca24-4f18-8b42-9dae53c339c3\",\"type\":\"Grid\"},{\"attributes\":{\"source\":{\"id\":\"9380d9ac-af08-4b0a-aaf0-404e9366f3c4\",\"type\":\"ColumnDataSource\"}},\"id\":\"44615d37-34e4-4cbf-b5c6-12fb6456185e\",\"type\":\"CDSView\"},{\"attributes\":{\"items\":[{\"id\":\"5a2809af-a4e9-4437-8bf5-7c2e8bed2a32\",\"type\":\"LegendItem\"},{\"id\":\"473c2f85-1cc3-4671-8c19-2a7464a87705\",\"type\":\"LegendItem\"},{\"id\":\"57ae6756-70e2-4e5f-a0c4-6e7b8994917e\",\"type\":\"LegendItem\"}],\"label_text_font_size\":{\"value\":\"8pt\"},\"location\":\"top_center\",\"orientation\":\"horizontal\",\"plot\":{\"id\":\"f854b5a5-ce0e-4f7f-a084-6bf0400cc912\",\"subtype\":\"Figure\",\"type\":\"Plot\"}},\"id\":\"ef48862e-80ad-448a-8ccd-37ed96f6c2d1\",\"type\":\"Legend\"},{\"attributes\":{\"fill_alpha\":{\"value\":0.7},\"fill_color\":{\"value\":\"#984ea3\"},\"line_alpha\":{\"value\":0.7},\"line_color\":{\"value\":\"#984ea3\"},\"x\":{\"field\":\"x\"},\"y\":{\"field\":\"y\"}},\"id\":\"19ad815b-8113-4279-85b2-ca113a9c340e\",\"type\":\"Square\"},{\"attributes\":{\"fill_alpha\":{\"value\":0.1},\"fill_color\":{\"value\":\"#1f77b4\"},\"line_alpha\":{\"value\":0.1},\"line_color\":{\"value\":\"#1f77b4\"},\"x\":{\"field\":\"x\"},\"y\":{\"field\":\"y\"}},\"id\":\"9e8e5d57-9082-4fd2-b52d-b657a77ae16d\",\"type\":\"Square\"},{\"attributes\":{},\"id\":\"10084292-f21e-4dbd-bbd9-e7c2947e017b\",\"type\":\"LogScale\"},{\"attributes\":{\"data_source\":{\"id\":\"4d69dc0e-48b3-4c49-8b3e-f3a152c454fc\",\"type\":\"ColumnDataSource\"},\"glyph\":{\"id\":\"0834d46f-c263-45cb-95b7-91c48a190dbc\",\"type\":\"Line\"},\"hover_glyph\":null,\"muted_glyph\":null,\"nonselection_glyph\":{\"id\":\"f3f6178d-28ba-4000-b54d-e4d6087630de\",\"type\":\"Line\"},\"selection_glyph\":null,\"view\":{\"id\":\"6473019c-6b7d-4ecd-a9be-a97dddff7c62\",\"type\":\"CDSView\"}},\"id\":\"44a0f865-0e5e-4062-b5f7-178ed9e24641\",\"type\":\"GlyphRenderer\"},{\"attributes\":{\"axis_label\":\"cooling rate [K/day]\",\"formatter\":{\"id\":\"59849262-1c2f-4e43-a586-7d2e70019b6b\",\"type\":\"BasicTickFormatter\"},\"plot\":{\"id\":\"f854b5a5-ce0e-4f7f-a084-6bf0400cc912\",\"subtype\":\"Figure\",\"type\":\"Plot\"},\"ticker\":{\"id\":\"c15db202-1186-486f-98e6-0a48680df74b\",\"type\":\"BasicTicker\"}},\"id\":\"234ff175-f095-4406-bc14-f0834c8d0556\",\"type\":\"LinearAxis\"},{\"attributes\":{},\"id\":\"c15db202-1186-486f-98e6-0a48680df74b\",\"type\":\"BasicTicker\"},{\"attributes\":{\"axis_label\":\"pressure [mb]\",\"formatter\":{\"id\":\"55378b86-fdbf-4ca0-8d01-be0f903fa841\",\"type\":\"LogTickFormatter\"},\"plot\":{\"id\":\"f854b5a5-ce0e-4f7f-a084-6bf0400cc912\",\"subtype\":\"Figure\",\"type\":\"Plot\"},\"ticker\":{\"id\":\"578998b5-b7b1-47e5-be49-1fccf7cf67b3\",\"type\":\"LogTicker\"}},\"id\":\"3a5ca07e-e083-4f65-84f0-9dc0bdfa8733\",\"type\":\"LogAxis\"},{\"attributes\":{\"num_minor_ticks\":10},\"id\":\"578998b5-b7b1-47e5-be49-1fccf7cf67b3\",\"type\":\"LogTicker\"},{\"attributes\":{\"fill_alpha\":{\"value\":0.7},\"fill_color\":{\"value\":\"#377eb8\"},\"line_alpha\":{\"value\":0.7},\"line_color\":{\"value\":\"#377eb8\"},\"x\":{\"field\":\"x\"},\"y\":{\"field\":\"y\"}},\"id\":\"194fe25e-aac4-46dc-89e5-6c3bc6d757c4\",\"type\":\"Triangle\"},{\"attributes\":{\"dimension\":1,\"plot\":{\"id\":\"f854b5a5-ce0e-4f7f-a084-6bf0400cc912\",\"subtype\":\"Figure\",\"type\":\"Plot\"},\"ticker\":{\"id\":\"578998b5-b7b1-47e5-be49-1fccf7cf67b3\",\"type\":\"LogTicker\"}},\"id\":\"d3fd756f-972d-4e1c-ade4-725f89f69153\",\"type\":\"Grid\"},{\"attributes\":{\"data_source\":{\"id\":\"9380d9ac-af08-4b0a-aaf0-404e9366f3c4\",\"type\":\"ColumnDataSource\"},\"glyph\":{\"id\":\"19ad815b-8113-4279-85b2-ca113a9c340e\",\"type\":\"Square\"},\"hover_glyph\":null,\"muted_glyph\":null,\"nonselection_glyph\":{\"id\":\"9e8e5d57-9082-4fd2-b52d-b657a77ae16d\",\"type\":\"Square\"},\"selection_glyph\":null,\"view\":{\"id\":\"44615d37-34e4-4cbf-b5c6-12fb6456185e\",\"type\":\"CDSView\"}},\"id\":\"b1829f89-4514-4e6b-b9b3-7dfdcec0401d\",\"type\":\"GlyphRenderer\"},{\"attributes\":{\"source\":{\"id\":\"89c68c89-078c-4877-b53d-3dc9a51c3c62\",\"type\":\"ColumnDataSource\"}},\"id\":\"254bbb08-ca4c-4f94-8795-12460727f046\",\"type\":\"CDSView\"},{\"attributes\":{},\"id\":\"113415d1-7828-43c3-ba10-9932c35ee6b0\",\"type\":\"PanTool\"},{\"attributes\":{\"line_alpha\":0.1,\"line_color\":\"#1f77b4\",\"line_width\":3,\"x\":{\"field\":\"x\"},\"y\":{\"field\":\"y\"}},\"id\":\"eb30ad66-10f9-484f-9d6d-41600a7889cd\",\"type\":\"Line\"},{\"attributes\":{\"line_alpha\":0.6,\"line_color\":\"#984ea3\",\"line_width\":3,\"x\":{\"field\":\"x\"},\"y\":{\"field\":\"y\"}},\"id\":\"dc25f524-64a7-4682-b33a-8c55a0d326e5\",\"type\":\"Line\"},{\"attributes\":{},\"id\":\"c3057634-d801-4a14-b574-9043f36a7daf\",\"type\":\"WheelZoomTool\"},{\"attributes\":{\"line_color\":\"#4daf4a\",\"line_width\":1.5,\"x\":{\"field\":\"x\"},\"y\":{\"field\":\"y\"}},\"id\":\"0834d46f-c263-45cb-95b7-91c48a190dbc\",\"type\":\"Line\"},{\"attributes\":{\"overlay\":{\"id\":\"e0d374eb-933a-4379-ba2d-31782cb1fc46\",\"type\":\"BoxAnnotation\"}},\"id\":\"812a2642-ef4a-4d16-8ecb-613dd0575926\",\"type\":\"BoxZoomTool\"},{\"attributes\":{\"data_source\":{\"id\":\"89c68c89-078c-4877-b53d-3dc9a51c3c62\",\"type\":\"ColumnDataSource\"},\"glyph\":{\"id\":\"dc25f524-64a7-4682-b33a-8c55a0d326e5\",\"type\":\"Line\"},\"hover_glyph\":null,\"muted_glyph\":null,\"nonselection_glyph\":{\"id\":\"eb30ad66-10f9-484f-9d6d-41600a7889cd\",\"type\":\"Line\"},\"selection_glyph\":null,\"view\":{\"id\":\"254bbb08-ca4c-4f94-8795-12460727f046\",\"type\":\"CDSView\"}},\"id\":\"0383b900-205d-47f1-89b2-eef6ebb6e2c9\",\"type\":\"GlyphRenderer\"},{\"attributes\":{},\"id\":\"1c61811c-b1f3-45bf-84a8-701198fe4e2e\",\"type\":\"SaveTool\"},{\"attributes\":{\"callback\":null,\"data\":{\"x\":{\"__ndarray__\":\"kLuWvGD0Wz8WePX0LOhkP4iuq8J/+nE/vRfctB1dej9eDi18wMqBP00TYo+32oY/WZWbtoNmjD9vc60I1TqRP1ZeUmR9ipQ/dDHEK/0nmD+oHXFnTBmcP5oBl81fMqA/zuByfcSFoj+FdiSnyr6kP1utgB2FkqY/81M+hlw7qD+0wUtwhfWpP4YjD2EbxKs/cW035VKorT+KGluZuqKvP7k3GVWcvrA/VQec7f/9rz+2PG8BT2GqP1bihbr8VKQ/dc2dKzBNnj911+Z08HyVP4FRp2pdLYw/0F9KUz5HgT+EkCD8eMt0P1fxOK33VGY/4vfvuYyNSz+35dwnQ/hDv/CrA9EGw1O/WRW+WTaGUr8JL/MW4zNTvxo/0TZze1m/uIj2gjiLYr+1QhV87ylrv525f3JTmnK/OnpKLHB4d7/bds4rwTF8v6s/Vi6QaIC/puVNMj+wgr9NWBG+IfKEvzjl4Vm0+Ya/Gyai5VJnh78tpM73tXOFvxWbwTBLS4K/0Jmpneicfb+SOqYe2Cp2v5SDVsV+l2y/mbxv+t4mWL8q17/PU3FEP98NAPQR1WY/FlLRWHB1dD8YY10875J9P6jGgdZzUYM/YtUJjyTBhz+UE8R/WAeMP7SkN+7hCpA/FWQ70vnwkT9W71hkDLWTPzZ27nRAWJU/XUH2N8zdlj+WPJHhVkmYPy7ohfzenJk/eCUJRgXVmj/JwNCiB+GbPyIG/Chll5w/Vs7BXXG6nD+/m8uwxCScP5fb0z3r8po/2gK7Q85nmT/1fnymqLmXP+4n5+BWBJY/\",\"dtype\":\"float64\",\"shape\":[75]},\"y\":{\"__ndarray__\":\"GhExyth1ND/Sv8nbtpRIP2vylNV0PVE/aTum7souWD/At0SJ8fVgPw3Iuahxymc/MSNhhJWvcD/bTfBN02d3P2zb5nxnaoA/CD5h5MAGhz8NmeH1TyaQP+zrCsc9p5Y/LbKd76fGnz/bLW5ISEmmPww9YvTcQq8/JV2OstnstT8Er5Y7M8G+P0c+r3jqkcU/5h99k6ZBzj88bCIzFzjVP4enV8oyxN0//yH99nXg5D8qOpLLf0jtP5kqGJXUifQ/c9cS8kHP/D+/DpwzojQEQIEmwoanVwxA4lgXt9HgE0BSSZ2AJuIbQAMJih9jjiNA5q4l5INuK0AwTKYKRj0zQNv5fmq8/DpAaCJseHrtQkB/+zpwzoxKQM3MzMzMeFJAZmZmZmZqWEAAAAAAAFxeQM3MzMzMJmJAmpmZmZkfZUBmZmZmZhhoQDMzMzMzEWtAAAAAAAAKbkBmZmZmZoFwQM3MzMzM/XFAMzMzMzN6c0CamZmZmfZ0QAAAAAAAc3ZAZmZmZmbvd0DNzMzMzGt5QDMzMzMz6HpAmpmZmZlkfEAAAAAAAOF9QGZmZmZmXX9AZmZmZuZsgECamZmZGSuBQM3MzMxM6YFAAAAAAICngkAzMzMzs2WDQGZmZmbmI4RAmpmZmRnihEDNzMzMTKCFQAAAAACAXoZAMzMzM7Mch0BmZmZm5tqHQJqZmZkZmYhAzczMzExXiUAAAAAAgBWKQDMzMzOz04pAZmZmZuaRi0CamZmZGVCMQM3MzMxMDo1AAAAAAIDMjUAzMzMzs4qOQGZmZmbmSI9A\",\"dtype\":\"float64\",\"shape\":[75]}},\"selected\":{\"id\":\"8ff47b2d-f358-4c45-bb79-0b27810cd092\",\"type\":\"Selection\"},\"selection_policy\":{\"id\":\"82c1e90b-c133-41ab-af10-5d7348e70aaa\",\"type\":\"UnionRenderers\"}},\"id\":\"c11c404a-f41e-4c90-bd59-41ab4cca561a\",\"type\":\"ColumnDataSource\"},{\"attributes\":{\"fill_alpha\":{\"value\":0.1},\"fill_color\":{\"value\":\"#1f77b4\"},\"line_alpha\":{\"value\":0.1},\"line_color\":{\"value\":\"#1f77b4\"},\"x\":{\"field\":\"x\"},\"y\":{\"field\":\"y\"}},\"id\":\"3b0da929-a870-4f62-8730-772ff7860452\",\"type\":\"Triangle\"},{\"attributes\":{\"data_source\":{\"id\":\"21369037-1821-4b97-8161-9a7cccc3e6fb\",\"type\":\"ColumnDataSource\"},\"glyph\":{\"id\":\"194fe25e-aac4-46dc-89e5-6c3bc6d757c4\",\"type\":\"Triangle\"},\"hover_glyph\":null,\"muted_glyph\":null,\"nonselection_glyph\":{\"id\":\"3b0da929-a870-4f62-8730-772ff7860452\",\"type\":\"Triangle\"},\"selection_glyph\":null,\"view\":{\"id\":\"f55b923f-8ef0-44dd-99aa-294c3a1f2a48\",\"type\":\"CDSView\"}},\"id\":\"ebae738d-7445-4dda-bc48-edff5a3cc699\",\"type\":\"GlyphRenderer\"},{\"attributes\":{\"source\":{\"id\":\"21369037-1821-4b97-8161-9a7cccc3e6fb\",\"type\":\"ColumnDataSource\"}},\"id\":\"f55b923f-8ef0-44dd-99aa-294c3a1f2a48\",\"type\":\"CDSView\"},{\"attributes\":{\"line_alpha\":0.3,\"line_color\":\"#377eb8\",\"line_width\":2,\"x\":{\"field\":\"x\"},\"y\":{\"field\":\"y\"}},\"id\":\"dd9b0dfe-d51f-4b24-9fc4-3c1c351c8bb8\",\"type\":\"Line\"},{\"attributes\":{\"children\":[{\"id\":\"059bab02-7f2a-4d45-8287-855b6764faf0\",\"type\":\"Row\"}]},\"id\":\"af5a3256-e0a4-4fb5-b666-66942cf02086\",\"type\":\"Column\"},{\"attributes\":{},\"id\":\"61c0b1bb-2ca1-46ed-bb86-9e7aab30c166\",\"type\":\"UnionRenderers\"},{\"attributes\":{\"line_alpha\":0.1,\"line_color\":\"#1f77b4\",\"line_width\":2,\"x\":{\"field\":\"x\"},\"y\":{\"field\":\"y\"}},\"id\":\"53b627f1-d676-4022-a4f7-0f58d32af166\",\"type\":\"Line\"},{\"attributes\":{\"data_source\":{\"id\":\"c11c404a-f41e-4c90-bd59-41ab4cca561a\",\"type\":\"ColumnDataSource\"},\"glyph\":{\"id\":\"dd9b0dfe-d51f-4b24-9fc4-3c1c351c8bb8\",\"type\":\"Line\"},\"hover_glyph\":null,\"muted_glyph\":null,\"nonselection_glyph\":{\"id\":\"53b627f1-d676-4022-a4f7-0f58d32af166\",\"type\":\"Line\"},\"selection_glyph\":null,\"view\":{\"id\":\"7de9b6a1-b848-4002-9622-4b0861363b3c\",\"type\":\"CDSView\"}},\"id\":\"f9f1b8dd-7ea2-4615-b3c6-4a85cce32ade\",\"type\":\"GlyphRenderer\"},{\"attributes\":{\"source\":{\"id\":\"c11c404a-f41e-4c90-bd59-41ab4cca561a\",\"type\":\"ColumnDataSource\"}},\"id\":\"7de9b6a1-b848-4002-9622-4b0861363b3c\",\"type\":\"CDSView\"},{\"attributes\":{\"plot\":null,\"text\":\"\"},\"id\":\"14307b24-3cfa-4aa2-b1ef-b67ba2db88cd\",\"type\":\"Title\"},{\"attributes\":{\"children\":[{\"id\":\"1e29d455-e242-43c7-aed6-7198f8e7fae6\",\"subtype\":\"Figure\",\"type\":\"Plot\"},{\"id\":\"f854b5a5-ce0e-4f7f-a084-6bf0400cc912\",\"subtype\":\"Figure\",\"type\":\"Plot\"}]},\"id\":\"059bab02-7f2a-4d45-8287-855b6764faf0\",\"type\":\"Row\"},{\"attributes\":{\"label\":{\"value\":\"CRD\"},\"renderers\":[{\"id\":\"80f488cf-13fc-4f3e-923a-e38ad9bb5b14\",\"type\":\"GlyphRenderer\"},{\"id\":\"44a0f865-0e5e-4062-b5f7-178ed9e24641\",\"type\":\"GlyphRenderer\"}]},\"id\":\"5a2809af-a4e9-4437-8bf5-7c2e8bed2a32\",\"type\":\"LegendItem\"},{\"attributes\":{},\"id\":\"5b8c52af-295a-4187-abed-739631a1eebf\",\"type\":\"UnionRenderers\"},{\"attributes\":{},\"id\":\"e9aa9918-96c4-4a7b-8705-0714c8939452\",\"type\":\"Selection\"},{\"attributes\":{\"label\":{\"value\":\"WGT igg=1\"},\"renderers\":[{\"id\":\"b1829f89-4514-4e6b-b9b3-7dfdcec0401d\",\"type\":\"GlyphRenderer\"},{\"id\":\"0383b900-205d-47f1-89b2-eef6ebb6e2c9\",\"type\":\"GlyphRenderer\"}]},\"id\":\"473c2f85-1cc3-4671-8c19-2a7464a87705\",\"type\":\"LegendItem\"},{\"attributes\":{},\"id\":\"3bc0e59d-2276-4374-b929-29098c9ce63d\",\"type\":\"Selection\"},{\"attributes\":{\"label\":{\"value\":\"WGT igg=10\"},\"renderers\":[{\"id\":\"ebae738d-7445-4dda-bc48-edff5a3cc699\",\"type\":\"GlyphRenderer\"},{\"id\":\"f9f1b8dd-7ea2-4615-b3c6-4a85cce32ade\",\"type\":\"GlyphRenderer\"}]},\"id\":\"57ae6756-70e2-4e5f-a0c4-6e7b8994917e\",\"type\":\"LegendItem\"},{\"attributes\":{},\"id\":\"34a48d0d-c5ef-43d8-8fbc-674575158105\",\"type\":\"UnionRenderers\"},{\"attributes\":{},\"id\":\"3d25866d-2ff9-4dbb-9013-8c4bb96e48b2\",\"type\":\"BasicTickFormatter\"},{\"attributes\":{},\"id\":\"5771b337-d590-470a-87eb-8b80a520fd82\",\"type\":\"BasicTickFormatter\"},{\"attributes\":{},\"id\":\"451f1d69-7c7a-4922-9ca5-e0a98163cbf3\",\"type\":\"Selection\"},{\"attributes\":{},\"id\":\"5e2d7177-920c-4f55-8e5b-1b5bb1a16306\",\"type\":\"UnionRenderers\"},{\"attributes\":{\"fill_alpha\":{\"value\":0.1},\"fill_color\":{\"value\":\"#1f77b4\"},\"line_alpha\":{\"value\":0.1},\"line_color\":{\"value\":\"#1f77b4\"},\"x\":{\"field\":\"x\"},\"y\":{\"field\":\"y\"}},\"id\":\"40539f57-e175-49a4-a2c5-d2060158fa8c\",\"type\":\"Circle\"},{\"attributes\":{},\"id\":\"c554855e-5069-4caf-9389-51b6e181f4c2\",\"type\":\"UnionRenderers\"},{\"attributes\":{},\"id\":\"d2e53668-153f-40ec-94da-45bb632ed69a\",\"type\":\"UnionRenderers\"},{\"attributes\":{},\"id\":\"42728c1b-0cbe-4ef7-9369-01c208091ce1\",\"type\":\"UnionRenderers\"},{\"attributes\":{},\"id\":\"af566c5f-2ade-40f1-810f-cc28e731154c\",\"type\":\"Selection\"},{\"attributes\":{},\"id\":\"f0ef9283-aaeb-440b-9bfa-adf2afb6444a\",\"type\":\"Selection\"},{\"attributes\":{\"plot\":null,\"text\":\"\"},\"id\":\"6441255b-025b-440d-9a81-ee873e88d0d5\",\"type\":\"Title\"},{\"attributes\":{\"fill_alpha\":{\"value\":0.7},\"fill_color\":{\"value\":\"#4daf4a\"},\"line_alpha\":{\"value\":0.7},\"line_color\":{\"value\":\"#4daf4a\"},\"x\":{\"field\":\"x\"},\"y\":{\"field\":\"y\"}},\"id\":\"af964b69-3bd2-4f60-9673-7618890907aa\",\"type\":\"Circle\"},{\"attributes\":{\"ticker\":null},\"id\":\"55378b86-fdbf-4ca0-8d01-be0f903fa841\",\"type\":\"LogTickFormatter\"},{\"attributes\":{},\"id\":\"7e1f5a11-f052-437a-ae1b-eac71bf13d3d\",\"type\":\"Selection\"},{\"attributes\":{},\"id\":\"6ef92904-3801-421d-b42d-ae9dbcc574cd\",\"type\":\"UnionRenderers\"},{\"attributes\":{\"data_source\":{\"id\":\"7628ba0e-b334-43fd-88c8-b6992d66f9ac\",\"type\":\"ColumnDataSource\"},\"glyph\":{\"id\":\"d5503f66-ff4e-46ad-a068-0b99117313f2\",\"type\":\"Circle\"},\"hover_glyph\":null,\"muted_glyph\":null,\"nonselection_glyph\":{\"id\":\"d01cd549-8ad8-4198-b096-8233127c9bf0\",\"type\":\"Circle\"},\"selection_glyph\":null,\"view\":{\"id\":\"ea6077f5-257f-4eec-848e-294bb95aca25\",\"type\":\"CDSView\"}},\"id\":\"72d688e5-ffde-4296-950f-a210c9c106f6\",\"type\":\"GlyphRenderer\"},{\"attributes\":{},\"id\":\"5c3d5b77-e771-4867-b6b0-8b7561df5357\",\"type\":\"HelpTool\"},{\"attributes\":{\"bottom_units\":\"screen\",\"fill_alpha\":{\"value\":0.5},\"fill_color\":{\"value\":\"lightgrey\"},\"left_units\":\"screen\",\"level\":\"overlay\",\"line_alpha\":{\"value\":1.0},\"line_color\":{\"value\":\"black\"},\"line_dash\":[4,4],\"line_width\":{\"value\":2},\"plot\":null,\"render_mode\":\"css\",\"right_units\":\"screen\",\"top_units\":\"screen\"},\"id\":\"e0d374eb-933a-4379-ba2d-31782cb1fc46\",\"type\":\"BoxAnnotation\"},{\"attributes\":{\"source\":{\"id\":\"7628ba0e-b334-43fd-88c8-b6992d66f9ac\",\"type\":\"ColumnDataSource\"}},\"id\":\"ea6077f5-257f-4eec-848e-294bb95aca25\",\"type\":\"CDSView\"},{\"attributes\":{\"line_alpha\":0.1,\"line_color\":\"#1f77b4\",\"line_width\":1.5,\"x\":{\"field\":\"x\"},\"y\":{\"field\":\"y\"}},\"id\":\"3e76e951-418f-4e8a-b93c-f1cd9d6723fb\",\"type\":\"Line\"},{\"attributes\":{},\"id\":\"2f4edf4c-68cd-4694-9738-52e505655acd\",\"type\":\"ResetTool\"},{\"attributes\":{\"callback\":null,\"data\":{\"x\":{\"__ndarray__\":\"lK8cTHQDT78QUSv1ds3qvkC3l7lqgGA/a3cMUjyBcT8Z20BGt657P3/AhuExboM/jzNbBnSOiT/FcwPjBCKQP0MfIz3J05M/aJvY9PXMlz/be2W17COcP3K4ZCx9dKA/zdPCtq4Hoz/IPb5FGHOlPxSPGhEFaKc/4F0ahkowqT+kBRUMKwOrP/rgu1jl5qw/1dl+g0zdrj/UXWxTx3OwPxIimpPVZrE/h0Vb4AyDsD9aBM+QdMWqPyGdHK/QKKQ/OkiV1rlDnT+PdYcZOieUP7MF53W4kYk/CR5H6/OHfj/PVOQP7aFyPz9hWRAliWU/GMdTYYeTUT/ZAnPFzj8rv4ZThMv40ki/LSeEMRK4Rr+wyQnuWhZJvyTdQIPU+FK/nWtCzVIXXr+/D26ObHVnv6piyOFhtXC/Mhn4iSyTdb9VokHdXmJ6vz9v96nbNn+/lMY9yRIUgr9DC6L6YKGEv+1p+RQPDoe/piSEEdG/h79vfsv3csSFv2/I58t/e4K/i4OwxmjPfb9Sg/LAfEB2vzK0+Kc3mmy/n/w28eD2V79jLrL0KhNFP9R34j7lDmc/l2kjn6abdD9clnYS+sB9P771LaS2aoM/kYdGVTzZhz9lKNQrBx2MPzLMLL3eEpA/MoM9le/zkT/R5gPFObGTP8d5hzV/TpU/BuDtQELPlj/mTLMmbjeYP+9FJ09BjJk/iBYUn6bKmj+qoQlYjN6bP3xxQIvgmJw/ZYaKjC6xnD+AAucFyvibP/TPBtGSkZo/wXEeZSjKmD+6Wg8OgN6WP7rWBOSG7ZQ/\",\"dtype\":\"float64\",\"shape\":[75]},\"y\":{\"__ndarray__\":\"GhExyth1ND/Sv8nbtpRIP2vylNV0PVE/aTum7souWD/At0SJ8fVgPw3Iuahxymc/MSNhhJWvcD/bTfBN02d3P2zb5nxnaoA/CD5h5MAGhz8NmeH1TyaQP+zrCsc9p5Y/LbKd76fGnz/bLW5ISEmmPww9YvTcQq8/JV2OstnstT8Er5Y7M8G+P0c+r3jqkcU/5h99k6ZBzj88bCIzFzjVP4enV8oyxN0//yH99nXg5D8qOpLLf0jtP5kqGJXUifQ/c9cS8kHP/D+/DpwzojQEQIEmwoanVwxA4lgXt9HgE0BSSZ2AJuIbQAMJih9jjiNA5q4l5INuK0AwTKYKRj0zQNv5fmq8/DpAaCJseHrtQkB/+zpwzoxKQM3MzMzMeFJAZmZmZmZqWEAAAAAAAFxeQM3MzMzMJmJAmpmZmZkfZUBmZmZmZhhoQDMzMzMzEWtAAAAAAAAKbkBmZmZmZoFwQM3MzMzM/XFAMzMzMzN6c0CamZmZmfZ0QAAAAAAAc3ZAZmZmZmbvd0DNzMzMzGt5QDMzMzMz6HpAmpmZmZlkfEAAAAAAAOF9QGZmZmZmXX9AZmZmZuZsgECamZmZGSuBQM3MzMxM6YFAAAAAAICngkAzMzMzs2WDQGZmZmbmI4RAmpmZmRnihEDNzMzMTKCFQAAAAACAXoZAMzMzM7Mch0BmZmZm5tqHQJqZmZkZmYhAzczMzExXiUAAAAAAgBWKQDMzMzOz04pAZmZmZuaRi0CamZmZGVCMQM3MzMxMDo1AAAAAAIDMjUAzMzMzs4qOQGZmZmbmSI9A\",\"dtype\":\"float64\",\"shape\":[75]}},\"selected\":{\"id\":\"af566c5f-2ade-40f1-810f-cc28e731154c\",\"type\":\"Selection\"},\"selection_policy\":{\"id\":\"d2e53668-153f-40ec-94da-45bb632ed69a\",\"type\":\"UnionRenderers\"}},\"id\":\"e7bac1a5-8a52-44e0-b148-183accc2bbb8\",\"type\":\"ColumnDataSource\"},{\"attributes\":{\"fill_alpha\":{\"value\":0.1},\"fill_color\":{\"value\":\"#1f77b4\"},\"line_alpha\":{\"value\":0.1},\"line_color\":{\"value\":\"#1f77b4\"},\"x\":{\"field\":\"x\"},\"y\":{\"field\":\"y\"}},\"id\":\"62334d1f-b2fe-493a-a71f-360a999a93d8\",\"type\":\"Square\"},{\"attributes\":{\"source\":{\"id\":\"e7bac1a5-8a52-44e0-b148-183accc2bbb8\",\"type\":\"ColumnDataSource\"}},\"id\":\"95617f8b-ca70-498a-9bfe-9c5481aa936a\",\"type\":\"CDSView\"},{\"attributes\":{\"callback\":null,\"end\":0.01,\"start\":1020},\"id\":\"592c872f-a790-4a96-949c-07b13ce80e7e\",\"type\":\"Range1d\"},{\"attributes\":{\"fill_alpha\":{\"value\":0.7},\"fill_color\":{\"value\":\"#984ea3\"},\"line_alpha\":{\"value\":0.7},\"line_color\":{\"value\":\"#984ea3\"},\"x\":{\"field\":\"x\"},\"y\":{\"field\":\"y\"}},\"id\":\"8e668cb9-1aee-43a8-b589-244fa7e6d9dd\",\"type\":\"Square\"},{\"attributes\":{\"source\":{\"id\":\"a33f127b-82e7-4ace-9693-33c6fd0bdd83\",\"type\":\"ColumnDataSource\"}},\"id\":\"7cbeef44-09ab-4ad3-93fa-a24c5a4408ad\",\"type\":\"CDSView\"},{\"attributes\":{\"fill_alpha\":{\"value\":0.1},\"fill_color\":{\"value\":\"#1f77b4\"},\"line_alpha\":{\"value\":0.1},\"line_color\":{\"value\":\"#1f77b4\"},\"x\":{\"field\":\"x\"},\"y\":{\"field\":\"y\"}},\"id\":\"d01cd549-8ad8-4198-b096-8233127c9bf0\",\"type\":\"Circle\"},{\"attributes\":{\"callback\":null,\"data\":{\"x\":{\"__ndarray__\":\"3eZrd1rTkL9xrhXSCJuOv8Q5expC9oe/Pgr8pfaYgL+9cqrfRBhxv9R/DWDyWh4/T2vTZp2Acz+b6VhmXhCEPxfC7Zv+N48/Vz/RtgeglT/d0QMdTxicP0PTYnmXhKE/sb67SP01pT9kntbaeqGoP6F/iXW7Q6s/DwuLrb97rT+pc3gjOaqvPwaMJyPr57A/6kJcfYL3sT+SkhFGxwmzP3/8zgZWBbQ/5PFYv3xosj8gu38zR4urP8rORCMue6I/UU4zQQhzlz9hWlkpp9CLP+/VNNbE7X0/LDzbp8twcD8isw4d7MZoP4/JYmr/a2U/E0WHdKROYD+6NQAgKIdSP1KaRjwdNEk/6RJDr5WJUD/+O2dcOR9SP2mseukaQlA/VvHWXxjCRT+EnIQuVYYbvwsNFeQL5lK/oF9DX2IqYr/vtbyOnWNrvy+QSiSTuHK/orQiBURXeL/WBikCN8l+vw1OcE6r3YK/ZEmVHxhwhL8/OAsRDM+Cv4NBgRc3nn+/9HI0cuxneb/8uh8AU/pyv97Y1zhxdWi/CXTe2hhyVL9QwsHFjw9DP5qIvptgcWQ/ABHyrztXcj/MN3Pv2qJ6P4aIVybhfIE/M2OU5UOahT9YaF6MzJWJP/bTZxViX40/3zPI0U92kD+6Idm15h6SP37ccY27rJM/n+rGJxAmlT+PefuV7pGWPwPDFOhX9Zc/36DBYvNNmT8VyR6o3oWaPzGZHuedYZs/s3qmFHqFmz/j3fx4+LeaP7sdXw+mIJk/ZSaaBa8dlz9CWgWoJ/eUPxEFz+FGy5I/\",\"dtype\":\"float64\",\"shape\":[75]},\"y\":{\"__ndarray__\":\"GhExyth1ND/Sv8nbtpRIP2vylNV0PVE/aTum7souWD/At0SJ8fVgPw3Iuahxymc/MSNhhJWvcD/bTfBN02d3P2zb5nxnaoA/CD5h5MAGhz8NmeH1TyaQP+zrCsc9p5Y/LbKd76fGnz/bLW5ISEmmPww9YvTcQq8/JV2OstnstT8Er5Y7M8G+P0c+r3jqkcU/5h99k6ZBzj88bCIzFzjVP4enV8oyxN0//yH99nXg5D8qOpLLf0jtP5kqGJXUifQ/c9cS8kHP/D+/DpwzojQEQIEmwoanVwxA4lgXt9HgE0BSSZ2AJuIbQAMJih9jjiNA5q4l5INuK0AwTKYKRj0zQNv5fmq8/DpAaCJseHrtQkB/+zpwzoxKQM3MzMzMeFJAZmZmZmZqWEAAAAAAAFxeQM3MzMzMJmJAmpmZmZkfZUBmZmZmZhhoQDMzMzMzEWtAAAAAAAAKbkBmZmZmZoFwQM3MzMzM/XFAMzMzMzN6c0CamZmZmfZ0QAAAAAAAc3ZAZmZmZmbvd0DNzMzMzGt5QDMzMzMz6HpAmpmZmZlkfEAAAAAAAOF9QGZmZmZmXX9AZmZmZuZsgECamZmZGSuBQM3MzMxM6YFAAAAAAICngkAzMzMzs2WDQGZmZmbmI4RAmpmZmRnihEDNzMzMTKCFQAAAAACAXoZAMzMzM7Mch0BmZmZm5tqHQJqZmZkZmYhAzczMzExXiUAAAAAAgBWKQDMzMzOz04pAZmZmZuaRi0CamZmZGVCMQM3MzMxMDo1AAAAAAIDMjUAzMzMzs4qOQGZmZmbmSI9A\",\"dtype\":\"float64\",\"shape\":[75]}},\"selected\":{\"id\":\"3bc0e59d-2276-4374-b929-29098c9ce63d\",\"type\":\"Selection\"},\"selection_policy\":{\"id\":\"34a48d0d-c5ef-43d8-8fbc-674575158105\",\"type\":\"UnionRenderers\"}},\"id\":\"a33f127b-82e7-4ace-9693-33c6fd0bdd83\",\"type\":\"ColumnDataSource\"},{\"attributes\":{\"data_source\":{\"id\":\"e7bac1a5-8a52-44e0-b148-183accc2bbb8\",\"type\":\"ColumnDataSource\"},\"glyph\":{\"id\":\"8e668cb9-1aee-43a8-b589-244fa7e6d9dd\",\"type\":\"Square\"},\"hover_glyph\":null,\"muted_glyph\":null,\"nonselection_glyph\":{\"id\":\"62334d1f-b2fe-493a-a71f-360a999a93d8\",\"type\":\"Square\"},\"selection_glyph\":null,\"view\":{\"id\":\"95617f8b-ca70-498a-9bfe-9c5481aa936a\",\"type\":\"CDSView\"}},\"id\":\"6ddc5437-bff5-432b-b69b-0694ffe24551\",\"type\":\"GlyphRenderer\"},{\"attributes\":{\"data_source\":{\"id\":\"a33f127b-82e7-4ace-9693-33c6fd0bdd83\",\"type\":\"ColumnDataSource\"},\"glyph\":{\"id\":\"2b4f096b-6bb6-4879-b9f3-df295a2a479d\",\"type\":\"Line\"},\"hover_glyph\":null,\"muted_glyph\":null,\"nonselection_glyph\":{\"id\":\"3e76e951-418f-4e8a-b93c-f1cd9d6723fb\",\"type\":\"Line\"},\"selection_glyph\":null,\"view\":{\"id\":\"7cbeef44-09ab-4ad3-93fa-a24c5a4408ad\",\"type\":\"CDSView\"}},\"id\":\"a313ebd2-46ee-4808-8203-8d2bfd633316\",\"type\":\"GlyphRenderer\"},{\"attributes\":{\"line_color\":\"#4daf4a\",\"line_width\":1.5,\"x\":{\"field\":\"x\"},\"y\":{\"field\":\"y\"}},\"id\":\"2b4f096b-6bb6-4879-b9f3-df295a2a479d\",\"type\":\"Line\"},{\"attributes\":{},\"id\":\"107418c6-73c3-418e-b383-c45f13fd2861\",\"type\":\"Selection\"},{\"attributes\":{},\"id\":\"3ddf1a0d-9426-4e3b-ae0b-2333660c4c56\",\"type\":\"UnionRenderers\"},{\"attributes\":{},\"id\":\"40c6144a-fb45-4cff-b763-d7eb41a9f4d1\",\"type\":\"UnionRenderers\"},{\"attributes\":{},\"id\":\"cf5c0f83-9a15-4255-94aa-62196f6839d3\",\"type\":\"Selection\"},{\"attributes\":{},\"id\":\"9953a259-8167-4149-9f12-5d94051499b9\",\"type\":\"UnionRenderers\"},{\"attributes\":{},\"id\":\"82c1e90b-c133-41ab-af10-5d7348e70aaa\",\"type\":\"UnionRenderers\"},{\"attributes\":{\"toolbar\":{\"id\":\"47b4d321-db51-41da-aa75-776d2570ab65\",\"type\":\"ProxyToolbar\"},\"toolbar_location\":\"above\"},\"id\":\"e6bf7842-8aca-4937-85ca-be300ace29ec\",\"type\":\"ToolbarBox\"},{\"attributes\":{},\"id\":\"69d7cd27-451f-4280-913e-115d42fdfde1\",\"type\":\"Selection\"},{\"attributes\":{\"children\":[{\"id\":\"e6bf7842-8aca-4937-85ca-be300ace29ec\",\"type\":\"ToolbarBox\"},{\"id\":\"af5a3256-e0a4-4fb5-b666-66942cf02086\",\"type\":\"Column\"}]},\"id\":\"06bf0bc4-6271-4ec4-9439-7e31cfc04d03\",\"type\":\"Column\"},{\"attributes\":{},\"id\":\"8ff47b2d-f358-4c45-bb79-0b27810cd092\",\"type\":\"Selection\"},{\"attributes\":{\"tools\":[{\"id\":\"0549955a-09c5-4bf8-aec9-3dec5a9ea587\",\"type\":\"PanTool\"},{\"id\":\"f8f461b3-12af-4b19-815d-0e09f87912c9\",\"type\":\"WheelZoomTool\"},{\"id\":\"5e7fbe8c-0c28-4cac-a4a6-98e9fe41a2d6\",\"type\":\"BoxZoomTool\"},{\"id\":\"e066f72f-067a-4df0-9f85-21ca84df9e2b\",\"type\":\"SaveTool\"},{\"id\":\"d5f03b92-80b6-4dcc-86e3-bacce4b75af7\",\"type\":\"ResetTool\"},{\"id\":\"04a332d6-1f32-434e-a302-6e7b8d11eab6\",\"type\":\"HelpTool\"},{\"id\":\"113415d1-7828-43c3-ba10-9932c35ee6b0\",\"type\":\"PanTool\"},{\"id\":\"c3057634-d801-4a14-b574-9043f36a7daf\",\"type\":\"WheelZoomTool\"},{\"id\":\"812a2642-ef4a-4d16-8ecb-613dd0575926\",\"type\":\"BoxZoomTool\"},{\"id\":\"1c61811c-b1f3-45bf-84a8-701198fe4e2e\",\"type\":\"SaveTool\"},{\"id\":\"2f4edf4c-68cd-4694-9738-52e505655acd\",\"type\":\"ResetTool\"},{\"id\":\"5c3d5b77-e771-4867-b6b0-8b7561df5357\",\"type\":\"HelpTool\"}]},\"id\":\"47b4d321-db51-41da-aa75-776d2570ab65\",\"type\":\"ProxyToolbar\"},{\"attributes\":{\"callback\":null,\"end\":0.028451486010000002,\"start\":-0.01199284305},\"id\":\"2048fd4a-85d7-484f-bb5b-65266787ff4c\",\"type\":\"Range1d\"},{\"attributes\":{\"callback\":null,\"data\":{\"x\":{\"__ndarray__\":\"3eZrd1rTkL9xrhXSCJuOv8Q5expC9oe/Pgr8pfaYgL+9cqrfRBhxv9R/DWDyWh4/T2vTZp2Acz+b6VhmXhCEPxfC7Zv+N48/Vz/RtgeglT/d0QMdTxicP0PTYnmXhKE/sb67SP01pT9kntbaeqGoP6F/iXW7Q6s/DwuLrb97rT+pc3gjOaqvPwaMJyPr57A/6kJcfYL3sT+SkhFGxwmzP3/8zgZWBbQ/5PFYv3xosj8gu38zR4urP8rORCMue6I/UU4zQQhzlz9hWlkpp9CLP+/VNNbE7X0/LDzbp8twcD8isw4d7MZoP4/JYmr/a2U/E0WHdKROYD+6NQAgKIdSP1KaRjwdNEk/6RJDr5WJUD/+O2dcOR9SP2mseukaQlA/VvHWXxjCRT+EnIQuVYYbvwsNFeQL5lK/oF9DX2IqYr/vtbyOnWNrvy+QSiSTuHK/orQiBURXeL/WBikCN8l+vw1OcE6r3YK/ZEmVHxhwhL8/OAsRDM+Cv4NBgRc3nn+/9HI0cuxneb/8uh8AU/pyv97Y1zhxdWi/CXTe2hhyVL9QwsHFjw9DP5qIvptgcWQ/ABHyrztXcj/MN3Pv2qJ6P4aIVybhfIE/M2OU5UOahT9YaF6MzJWJP/bTZxViX40/3zPI0U92kD+6Idm15h6SP37ccY27rJM/n+rGJxAmlT+PefuV7pGWPwPDFOhX9Zc/36DBYvNNmT8VyR6o3oWaPzGZHuedYZs/s3qmFHqFmz/j3fx4+LeaP7sdXw+mIJk/ZSaaBa8dlz9CWgWoJ/eUPxEFz+FGy5I/\",\"dtype\":\"float64\",\"shape\":[75]},\"y\":{\"__ndarray__\":\"GhExyth1ND/Sv8nbtpRIP2vylNV0PVE/aTum7souWD/At0SJ8fVgPw3Iuahxymc/MSNhhJWvcD/bTfBN02d3P2zb5nxnaoA/CD5h5MAGhz8NmeH1TyaQP+zrCsc9p5Y/LbKd76fGnz/bLW5ISEmmPww9YvTcQq8/JV2OstnstT8Er5Y7M8G+P0c+r3jqkcU/5h99k6ZBzj88bCIzFzjVP4enV8oyxN0//yH99nXg5D8qOpLLf0jtP5kqGJXUifQ/c9cS8kHP/D+/DpwzojQEQIEmwoanVwxA4lgXt9HgE0BSSZ2AJuIbQAMJih9jjiNA5q4l5INuK0AwTKYKRj0zQNv5fmq8/DpAaCJseHrtQkB/+zpwzoxKQM3MzMzMeFJAZmZmZmZqWEAAAAAAAFxeQM3MzMzMJmJAmpmZmZkfZUBmZmZmZhhoQDMzMzMzEWtAAAAAAAAKbkBmZmZmZoFwQM3MzMzM/XFAMzMzMzN6c0CamZmZmfZ0QAAAAAAAc3ZAZmZmZmbvd0DNzMzMzGt5QDMzMzMz6HpAmpmZmZlkfEAAAAAAAOF9QGZmZmZmXX9AZmZmZuZsgECamZmZGSuBQM3MzMxM6YFAAAAAAICngkAzMzMzs2WDQGZmZmbmI4RAmpmZmRnihEDNzMzMTKCFQAAAAACAXoZAMzMzM7Mch0BmZmZm5tqHQJqZmZkZmYhAzczMzExXiUAAAAAAgBWKQDMzMzOz04pAZmZmZuaRi0CamZmZGVCMQM3MzMxMDo1AAAAAAIDMjUAzMzMzs4qOQGZmZmbmSI9A\",\"dtype\":\"float64\",\"shape\":[75]}},\"selected\":{\"id\":\"7e1f5a11-f052-437a-ae1b-eac71bf13d3d\",\"type\":\"Selection\"},\"selection_policy\":{\"id\":\"6ef92904-3801-421d-b42d-ae9dbcc574cd\",\"type\":\"UnionRenderers\"}},\"id\":\"f08bec45-1df7-4e5e-a9ce-628d677afdbc\",\"type\":\"ColumnDataSource\"},{\"attributes\":{\"items\":[{\"id\":\"e1e300ff-a520-4a45-8bd6-1a7a5799fecc\",\"type\":\"LegendItem\"},{\"id\":\"68a09908-a6bd-49c8-ad83-f5bc4e464eb7\",\"type\":\"LegendItem\"},{\"id\":\"fa3bb61f-9602-43aa-b571-f5f1013a514b\",\"type\":\"LegendItem\"}],\"label_text_font_size\":{\"value\":\"8pt\"},\"location\":\"top_center\",\"orientation\":\"horizontal\",\"plot\":{\"id\":\"1e29d455-e242-43c7-aed6-7198f8e7fae6\",\"subtype\":\"Figure\",\"type\":\"Plot\"}},\"id\":\"011a07b1-98aa-4766-8c35-404e4c720b88\",\"type\":\"Legend\"},{\"attributes\":{},\"id\":\"8b4b0905-aaa3-4c51-9bdc-818d92ce70a9\",\"type\":\"LinearScale\"},{\"attributes\":{\"active_drag\":\"auto\",\"active_inspect\":\"auto\",\"active_scroll\":\"auto\",\"active_tap\":\"auto\",\"tools\":[{\"id\":\"0549955a-09c5-4bf8-aec9-3dec5a9ea587\",\"type\":\"PanTool\"},{\"id\":\"f8f461b3-12af-4b19-815d-0e09f87912c9\",\"type\":\"WheelZoomTool\"},{\"id\":\"5e7fbe8c-0c28-4cac-a4a6-98e9fe41a2d6\",\"type\":\"BoxZoomTool\"},{\"id\":\"e066f72f-067a-4df0-9f85-21ca84df9e2b\",\"type\":\"SaveTool\"},{\"id\":\"d5f03b92-80b6-4dcc-86e3-bacce4b75af7\",\"type\":\"ResetTool\"},{\"id\":\"04a332d6-1f32-434e-a302-6e7b8d11eab6\",\"type\":\"HelpTool\"}]},\"id\":\"d4479be7-c675-4a7c-8bbe-18e60a924945\",\"type\":\"Toolbar\"},{\"attributes\":{},\"id\":\"9f8600e3-0cac-47f4-897b-0ad8b385993f\",\"type\":\"BasicTicker\"},{\"attributes\":{\"dimension\":1,\"plot\":{\"id\":\"1e29d455-e242-43c7-aed6-7198f8e7fae6\",\"subtype\":\"Figure\",\"type\":\"Plot\"},\"ticker\":{\"id\":\"9f8600e3-0cac-47f4-897b-0ad8b385993f\",\"type\":\"BasicTicker\"}},\"id\":\"18673193-5b37-491f-8dd8-112766fdff87\",\"type\":\"Grid\"},{\"attributes\":{},\"id\":\"f8f461b3-12af-4b19-815d-0e09f87912c9\",\"type\":\"WheelZoomTool\"},{\"attributes\":{\"axis_label\":\"pressure [mb]\",\"formatter\":{\"id\":\"3d25866d-2ff9-4dbb-9013-8c4bb96e48b2\",\"type\":\"BasicTickFormatter\"},\"plot\":{\"id\":\"1e29d455-e242-43c7-aed6-7198f8e7fae6\",\"subtype\":\"Figure\",\"type\":\"Plot\"},\"ticker\":{\"id\":\"9f8600e3-0cac-47f4-897b-0ad8b385993f\",\"type\":\"BasicTicker\"}},\"id\":\"65da6095-30ce-4d75-a569-207928b2c913\",\"type\":\"LinearAxis\"},{\"attributes\":{},\"id\":\"f23b69b5-c7b4-41f5-8959-304c58332246\",\"type\":\"BasicTicker\"},{\"attributes\":{\"axis_label\":\"cooling rate [K/day]\",\"formatter\":{\"id\":\"5771b337-d590-470a-87eb-8b80a520fd82\",\"type\":\"BasicTickFormatter\"},\"plot\":{\"id\":\"1e29d455-e242-43c7-aed6-7198f8e7fae6\",\"subtype\":\"Figure\",\"type\":\"Plot\"},\"ticker\":{\"id\":\"f23b69b5-c7b4-41f5-8959-304c58332246\",\"type\":\"BasicTicker\"}},\"id\":\"c396d107-fd09-40fc-b8e4-8b4018846fd4\",\"type\":\"LinearAxis\"},{\"attributes\":{\"plot\":{\"id\":\"1e29d455-e242-43c7-aed6-7198f8e7fae6\",\"subtype\":\"Figure\",\"type\":\"Plot\"},\"ticker\":{\"id\":\"f23b69b5-c7b4-41f5-8959-304c58332246\",\"type\":\"BasicTicker\"}},\"id\":\"f71536f6-b904-4b4b-8fca-f377a3c9d83c\",\"type\":\"Grid\"},{\"attributes\":{\"overlay\":{\"id\":\"18966995-11e0-4cfb-b255-93fdccf99153\",\"type\":\"BoxAnnotation\"}},\"id\":\"5e7fbe8c-0c28-4cac-a4a6-98e9fe41a2d6\",\"type\":\"BoxZoomTool\"},{\"attributes\":{},\"id\":\"9536bef5-40a2-4ddf-9bb2-690aea725cea\",\"type\":\"LinearScale\"},{\"attributes\":{\"above\":[{\"id\":\"011a07b1-98aa-4766-8c35-404e4c720b88\",\"type\":\"Legend\"}],\"below\":[{\"id\":\"c396d107-fd09-40fc-b8e4-8b4018846fd4\",\"type\":\"LinearAxis\"}],\"left\":[{\"id\":\"65da6095-30ce-4d75-a569-207928b2c913\",\"type\":\"LinearAxis\"}],\"plot_height\":500,\"plot_width\":400,\"renderers\":[{\"id\":\"c396d107-fd09-40fc-b8e4-8b4018846fd4\",\"type\":\"LinearAxis\"},{\"id\":\"f71536f6-b904-4b4b-8fca-f377a3c9d83c\",\"type\":\"Grid\"},{\"id\":\"65da6095-30ce-4d75-a569-207928b2c913\",\"type\":\"LinearAxis\"},{\"id\":\"18673193-5b37-491f-8dd8-112766fdff87\",\"type\":\"Grid\"},{\"id\":\"18966995-11e0-4cfb-b255-93fdccf99153\",\"type\":\"BoxAnnotation\"},{\"id\":\"72d688e5-ffde-4296-950f-a210c9c106f6\",\"type\":\"GlyphRenderer\"},{\"id\":\"a313ebd2-46ee-4808-8203-8d2bfd633316\",\"type\":\"GlyphRenderer\"},{\"id\":\"6ddc5437-bff5-432b-b69b-0694ffe24551\",\"type\":\"GlyphRenderer\"},{\"id\":\"d45f1a78-323e-473c-be81-620672b90bbc\",\"type\":\"GlyphRenderer\"},{\"id\":\"8a5ae44c-5538-4aa9-b2ed-37de0c5c3f13\",\"type\":\"GlyphRenderer\"},{\"id\":\"5b102736-9221-48d1-a5b3-7b06b14f438a\",\"type\":\"GlyphRenderer\"},{\"id\":\"011a07b1-98aa-4766-8c35-404e4c720b88\",\"type\":\"Legend\"}],\"title\":{\"id\":\"14307b24-3cfa-4aa2-b1ef-b67ba2db88cd\",\"type\":\"Title\"},\"toolbar\":{\"id\":\"d4479be7-c675-4a7c-8bbe-18e60a924945\",\"type\":\"Toolbar\"},\"toolbar_location\":null,\"x_range\":{\"id\":\"2048fd4a-85d7-484f-bb5b-65266787ff4c\",\"type\":\"Range1d\"},\"x_scale\":{\"id\":\"8b4b0905-aaa3-4c51-9bdc-818d92ce70a9\",\"type\":\"LinearScale\"},\"y_range\":{\"id\":\"f95f9503-ded5-4d76-b4d0-c80839567b5a\",\"type\":\"Range1d\"},\"y_scale\":{\"id\":\"9536bef5-40a2-4ddf-9bb2-690aea725cea\",\"type\":\"LinearScale\"}},\"id\":\"1e29d455-e242-43c7-aed6-7198f8e7fae6\",\"subtype\":\"Figure\",\"type\":\"Plot\"},{\"attributes\":{\"callback\":null,\"data\":{\"x\":{\"__ndarray__\":\"3eZrd1rTkL9xrhXSCJuOv8Q5expC9oe/Pgr8pfaYgL+9cqrfRBhxv9R/DWDyWh4/T2vTZp2Acz+b6VhmXhCEPxfC7Zv+N48/Vz/RtgeglT/d0QMdTxicP0PTYnmXhKE/sb67SP01pT9kntbaeqGoP6F/iXW7Q6s/DwuLrb97rT+pc3gjOaqvPwaMJyPr57A/6kJcfYL3sT+SkhFGxwmzP3/8zgZWBbQ/5PFYv3xosj8gu38zR4urP8rORCMue6I/UU4zQQhzlz9hWlkpp9CLP+/VNNbE7X0/LDzbp8twcD8isw4d7MZoP4/JYmr/a2U/E0WHdKROYD+6NQAgKIdSP1KaRjwdNEk/6RJDr5WJUD/+O2dcOR9SP2mseukaQlA/VvHWXxjCRT+EnIQuVYYbvwsNFeQL5lK/oF9DX2IqYr/vtbyOnWNrvy+QSiSTuHK/orQiBURXeL/WBikCN8l+vw1OcE6r3YK/ZEmVHxhwhL8/OAsRDM+Cv4NBgRc3nn+/9HI0cuxneb/8uh8AU/pyv97Y1zhxdWi/CXTe2hhyVL9QwsHFjw9DP5qIvptgcWQ/ABHyrztXcj/MN3Pv2qJ6P4aIVybhfIE/M2OU5UOahT9YaF6MzJWJP/bTZxViX40/3zPI0U92kD+6Idm15h6SP37ccY27rJM/n+rGJxAmlT+PefuV7pGWPwPDFOhX9Zc/36DBYvNNmT8VyR6o3oWaPzGZHuedYZs/s3qmFHqFmz/j3fx4+LeaP7sdXw+mIJk/ZSaaBa8dlz9CWgWoJ/eUPxEFz+FGy5I/\",\"dtype\":\"float64\",\"shape\":[75]},\"y\":{\"__ndarray__\":\"GhExyth1ND/Sv8nbtpRIP2vylNV0PVE/aTum7souWD/At0SJ8fVgPw3Iuahxymc/MSNhhJWvcD/bTfBN02d3P2zb5nxnaoA/CD5h5MAGhz8NmeH1TyaQP+zrCsc9p5Y/LbKd76fGnz/bLW5ISEmmPww9YvTcQq8/JV2OstnstT8Er5Y7M8G+P0c+r3jqkcU/5h99k6ZBzj88bCIzFzjVP4enV8oyxN0//yH99nXg5D8qOpLLf0jtP5kqGJXUifQ/c9cS8kHP/D+/DpwzojQEQIEmwoanVwxA4lgXt9HgE0BSSZ2AJuIbQAMJih9jjiNA5q4l5INuK0AwTKYKRj0zQNv5fmq8/DpAaCJseHrtQkB/+zpwzoxKQM3MzMzMeFJAZmZmZmZqWEAAAAAAAFxeQM3MzMzMJmJAmpmZmZkfZUBmZmZmZhhoQDMzMzMzEWtAAAAAAAAKbkBmZmZmZoFwQM3MzMzM/XFAMzMzMzN6c0CamZmZmfZ0QAAAAAAAc3ZAZmZmZmbvd0DNzMzMzGt5QDMzMzMz6HpAmpmZmZlkfEAAAAAAAOF9QGZmZmZmXX9AZmZmZuZsgECamZmZGSuBQM3MzMxM6YFAAAAAAICngkAzMzMzs2WDQGZmZmbmI4RAmpmZmRnihEDNzMzMTKCFQAAAAACAXoZAMzMzM7Mch0BmZmZm5tqHQJqZmZkZmYhAzczMzExXiUAAAAAAgBWKQDMzMzOz04pAZmZmZuaRi0CamZmZGVCMQM3MzMxMDo1AAAAAAIDMjUAzMzMzs4qOQGZmZmbmSI9A\",\"dtype\":\"float64\",\"shape\":[75]}},\"selected\":{\"id\":\"451f1d69-7c7a-4922-9ca5-e0a98163cbf3\",\"type\":\"Selection\"},\"selection_policy\":{\"id\":\"5e2d7177-920c-4f55-8e5b-1b5bb1a16306\",\"type\":\"UnionRenderers\"}},\"id\":\"7628ba0e-b334-43fd-88c8-b6992d66f9ac\",\"type\":\"ColumnDataSource\"},{\"attributes\":{},\"id\":\"04a332d6-1f32-434e-a302-6e7b8d11eab6\",\"type\":\"HelpTool\"},{\"attributes\":{\"callback\":null,\"end\":0.01,\"start\":1020},\"id\":\"f95f9503-ded5-4d76-b4d0-c80839567b5a\",\"type\":\"Range1d\"},{\"attributes\":{\"bottom_units\":\"screen\",\"fill_alpha\":{\"value\":0.5},\"fill_color\":{\"value\":\"lightgrey\"},\"left_units\":\"screen\",\"level\":\"overlay\",\"line_alpha\":{\"value\":1.0},\"line_color\":{\"value\":\"black\"},\"line_dash\":[4,4],\"line_width\":{\"value\":2},\"plot\":null,\"render_mode\":\"css\",\"right_units\":\"screen\",\"top_units\":\"screen\"},\"id\":\"18966995-11e0-4cfb-b255-93fdccf99153\",\"type\":\"BoxAnnotation\"},{\"attributes\":{},\"id\":\"0549955a-09c5-4bf8-aec9-3dec5a9ea587\",\"type\":\"PanTool\"},{\"attributes\":{},\"id\":\"c14dd09f-daad-46df-982d-1019630663de\",\"type\":\"Selection\"},{\"attributes\":{},\"id\":\"e066f72f-067a-4df0-9f85-21ca84df9e2b\",\"type\":\"SaveTool\"},{\"attributes\":{},\"id\":\"d5f03b92-80b6-4dcc-86e3-bacce4b75af7\",\"type\":\"ResetTool\"},{\"attributes\":{\"fill_alpha\":{\"value\":0.7},\"fill_color\":{\"value\":\"#4daf4a\"},\"line_alpha\":{\"value\":0.7},\"line_color\":{\"value\":\"#4daf4a\"},\"x\":{\"field\":\"x\"},\"y\":{\"field\":\"y\"}},\"id\":\"d5503f66-ff4e-46ad-a068-0b99117313f2\",\"type\":\"Circle\"}],\"root_ids\":[\"06bf0bc4-6271-4ec4-9439-7e31cfc04d03\"]},\"title\":\"Bokeh Application\",\"version\":\"0.12.16\"}};\n",
       "  var render_items = [{\"docid\":\"720c3420-ed72-46f6-b028-8432608efd40\",\"elementid\":\"9f819f5e-330f-4f22-83f9-cd17cc591aed\",\"modelid\":\"06bf0bc4-6271-4ec4-9439-7e31cfc04d03\"}];\n",
       "  root.Bokeh.embed.embed_items_notebook(docs_json, render_items);\n",
       "\n",
       "  }\n",
       "  if (root.Bokeh !== undefined) {\n",
       "    embed_document(root);\n",
       "  } else {\n",
       "    var attempts = 0;\n",
       "    var timer = setInterval(function(root) {\n",
       "      if (root.Bokeh !== undefined) {\n",
       "        embed_document(root);\n",
       "        clearInterval(timer);\n",
       "      }\n",
       "      attempts++;\n",
       "      if (attempts > 100) {\n",
       "        console.log(\"Bokeh: ERROR: Unable to run BokehJS code because BokehJS library is missing\")\n",
       "        clearInterval(timer);\n",
       "      }\n",
       "    }, 10, root)\n",
       "  }\n",
       "})(window);"
      ],
      "application/vnd.bokehjs_exec.v0+json": ""
     },
     "metadata": {
      "application/vnd.bokehjs_exec.v0+json": {
       "id": "06bf0bc4-6271-4ec4-9439-7e31cfc04d03"
      }
     },
     "output_type": "display_data"
    },
    {
     "data": {
      "text/markdown": [
       "*FIGURE.* Cooling rates. Summed over g."
      ],
      "text/plain": [
       "<IPython.core.display.Markdown object>"
      ]
     },
     "metadata": {},
     "output_type": "display_data"
    },
    {
     "data": {
      "text/html": [
       "<a id=\"Flux_Comparison\"></a>"
      ],
      "text/plain": [
       "<IPython.core.display.HTML object>"
      ]
     },
     "metadata": {},
     "output_type": "display_data"
    },
    {
     "data": {
      "text/markdown": [
       "# Flux Comparison"
      ],
      "text/plain": [
       "<IPython.core.display.Markdown object>"
      ]
     },
     "metadata": {},
     "output_type": "display_data"
    },
    {
     "data": {
      "text/html": [
       "<div>\n",
       "<style scoped>\n",
       "    .dataframe tbody tr th:only-of-type {\n",
       "        vertical-align: middle;\n",
       "    }\n",
       "\n",
       "    .dataframe tbody tr th {\n",
       "        vertical-align: top;\n",
       "    }\n",
       "\n",
       "    .dataframe thead th {\n",
       "        text-align: right;\n",
       "    }\n",
       "</style>\n",
       "<table border=\"1\" class=\"dataframe\">\n",
       "  <thead>\n",
       "    <tr style=\"text-align: right;\">\n",
       "      <th></th>\n",
       "      <th></th>\n",
       "      <th></th>\n",
       "      <th>flug</th>\n",
       "      <th>fldg</th>\n",
       "      <th>fnetg</th>\n",
       "    </tr>\n",
       "    <tr>\n",
       "      <th>g</th>\n",
       "      <th>pressure</th>\n",
       "      <th>level</th>\n",
       "      <th></th>\n",
       "      <th></th>\n",
       "      <th></th>\n",
       "    </tr>\n",
       "  </thead>\n",
       "  <tbody>\n",
       "    <tr>\n",
       "      <th rowspan=\"3\" valign=\"top\">1</th>\n",
       "      <th>0.00</th>\n",
       "      <th>1</th>\n",
       "      <td>-0.026619</td>\n",
       "      <td>0.000000</td>\n",
       "      <td>-0.026619</td>\n",
       "    </tr>\n",
       "    <tr>\n",
       "      <th>299.75</th>\n",
       "      <th>46</th>\n",
       "      <td>-0.031520</td>\n",
       "      <td>0.010519</td>\n",
       "      <td>-0.021001</td>\n",
       "    </tr>\n",
       "    <tr>\n",
       "      <th>1013.00</th>\n",
       "      <th>76</th>\n",
       "      <td>-0.051243</td>\n",
       "      <td>0.037822</td>\n",
       "      <td>-0.013421</td>\n",
       "    </tr>\n",
       "    <tr>\n",
       "      <th rowspan=\"3\" valign=\"top\">2</th>\n",
       "      <th>0.00</th>\n",
       "      <th>1</th>\n",
       "      <td>-0.191630</td>\n",
       "      <td>0.000000</td>\n",
       "      <td>-0.191630</td>\n",
       "    </tr>\n",
       "    <tr>\n",
       "      <th>299.75</th>\n",
       "      <th>46</th>\n",
       "      <td>-0.244009</td>\n",
       "      <td>0.058633</td>\n",
       "      <td>-0.185376</td>\n",
       "    </tr>\n",
       "    <tr>\n",
       "      <th>1013.00</th>\n",
       "      <th>76</th>\n",
       "      <td>-0.382953</td>\n",
       "      <td>0.274645</td>\n",
       "      <td>-0.108309</td>\n",
       "    </tr>\n",
       "    <tr>\n",
       "      <th rowspan=\"3\" valign=\"top\">3</th>\n",
       "      <th>0.00</th>\n",
       "      <th>1</th>\n",
       "      <td>-2.261907</td>\n",
       "      <td>0.000000</td>\n",
       "      <td>-2.261907</td>\n",
       "    </tr>\n",
       "    <tr>\n",
       "      <th>299.75</th>\n",
       "      <th>46</th>\n",
       "      <td>-2.445628</td>\n",
       "      <td>0.114618</td>\n",
       "      <td>-2.331010</td>\n",
       "    </tr>\n",
       "    <tr>\n",
       "      <th>1013.00</th>\n",
       "      <th>76</th>\n",
       "      <td>-2.876572</td>\n",
       "      <td>1.329912</td>\n",
       "      <td>-1.546660</td>\n",
       "    </tr>\n",
       "    <tr>\n",
       "      <th rowspan=\"3\" valign=\"top\">4</th>\n",
       "      <th>0.00</th>\n",
       "      <th>1</th>\n",
       "      <td>-6.198554</td>\n",
       "      <td>0.000000</td>\n",
       "      <td>-6.198554</td>\n",
       "    </tr>\n",
       "    <tr>\n",
       "      <th>299.75</th>\n",
       "      <th>46</th>\n",
       "      <td>-6.216191</td>\n",
       "      <td>0.006897</td>\n",
       "      <td>-6.209293</td>\n",
       "    </tr>\n",
       "    <tr>\n",
       "      <th>1013.00</th>\n",
       "      <th>76</th>\n",
       "      <td>-6.247262</td>\n",
       "      <td>0.164162</td>\n",
       "      <td>-6.083100</td>\n",
       "    </tr>\n",
       "  </tbody>\n",
       "</table>\n",
       "</div>"
      ],
      "text/plain": [
       "                      flug      fldg     fnetg\n",
       "g pressure level                              \n",
       "1 0.00     1     -0.026619  0.000000 -0.026619\n",
       "  299.75   46    -0.031520  0.010519 -0.021001\n",
       "  1013.00  76    -0.051243  0.037822 -0.013421\n",
       "2 0.00     1     -0.191630  0.000000 -0.191630\n",
       "  299.75   46    -0.244009  0.058633 -0.185376\n",
       "  1013.00  76    -0.382953  0.274645 -0.108309\n",
       "3 0.00     1     -2.261907  0.000000 -2.261907\n",
       "  299.75   46    -2.445628  0.114618 -2.331010\n",
       "  1013.00  76    -2.876572  1.329912 -1.546660\n",
       "4 0.00     1     -6.198554  0.000000 -6.198554\n",
       "  299.75   46    -6.216191  0.006897 -6.209293\n",
       "  1013.00  76    -6.247262  0.164162 -6.083100"
      ]
     },
     "metadata": {},
     "output_type": "display_data"
    },
    {
     "data": {
      "text/markdown": [
       "*TABLE.* Fluxes. CRD"
      ],
      "text/plain": [
       "<IPython.core.display.Markdown object>"
      ]
     },
     "metadata": {},
     "output_type": "display_data"
    },
    {
     "data": {
      "text/html": [
       "<div>\n",
       "<style scoped>\n",
       "    .dataframe tbody tr th:only-of-type {\n",
       "        vertical-align: middle;\n",
       "    }\n",
       "\n",
       "    .dataframe tbody tr th {\n",
       "        vertical-align: top;\n",
       "    }\n",
       "\n",
       "    .dataframe thead th {\n",
       "        text-align: right;\n",
       "    }\n",
       "</style>\n",
       "<table border=\"1\" class=\"dataframe\">\n",
       "  <thead>\n",
       "    <tr style=\"text-align: right;\">\n",
       "      <th></th>\n",
       "      <th></th>\n",
       "      <th></th>\n",
       "      <th>flug</th>\n",
       "      <th>fldg</th>\n",
       "      <th>fnetg</th>\n",
       "    </tr>\n",
       "    <tr>\n",
       "      <th>g</th>\n",
       "      <th>pressure</th>\n",
       "      <th>level</th>\n",
       "      <th></th>\n",
       "      <th></th>\n",
       "      <th></th>\n",
       "    </tr>\n",
       "  </thead>\n",
       "  <tbody>\n",
       "    <tr>\n",
       "      <th rowspan=\"3\" valign=\"top\">1</th>\n",
       "      <th>0.00</th>\n",
       "      <th>1</th>\n",
       "      <td>-0.019018</td>\n",
       "      <td>0.000000</td>\n",
       "      <td>-0.019018</td>\n",
       "    </tr>\n",
       "    <tr>\n",
       "      <th>299.75</th>\n",
       "      <th>46</th>\n",
       "      <td>-0.026241</td>\n",
       "      <td>0.013405</td>\n",
       "      <td>-0.012836</td>\n",
       "    </tr>\n",
       "    <tr>\n",
       "      <th>1013.00</th>\n",
       "      <th>76</th>\n",
       "      <td>-0.051274</td>\n",
       "      <td>0.044888</td>\n",
       "      <td>-0.006386</td>\n",
       "    </tr>\n",
       "    <tr>\n",
       "      <th rowspan=\"3\" valign=\"top\">2</th>\n",
       "      <th>0.00</th>\n",
       "      <th>1</th>\n",
       "      <td>-0.148833</td>\n",
       "      <td>0.000000</td>\n",
       "      <td>-0.148833</td>\n",
       "    </tr>\n",
       "    <tr>\n",
       "      <th>299.75</th>\n",
       "      <th>46</th>\n",
       "      <td>-0.247897</td>\n",
       "      <td>0.069719</td>\n",
       "      <td>-0.178178</td>\n",
       "    </tr>\n",
       "    <tr>\n",
       "      <th>1013.00</th>\n",
       "      <th>76</th>\n",
       "      <td>-0.383318</td>\n",
       "      <td>0.282524</td>\n",
       "      <td>-0.100794</td>\n",
       "    </tr>\n",
       "    <tr>\n",
       "      <th rowspan=\"3\" valign=\"top\">3</th>\n",
       "      <th>0.00</th>\n",
       "      <th>1</th>\n",
       "      <td>-2.225321</td>\n",
       "      <td>0.000000</td>\n",
       "      <td>-2.225321</td>\n",
       "    </tr>\n",
       "    <tr>\n",
       "      <th>299.75</th>\n",
       "      <th>46</th>\n",
       "      <td>-2.453894</td>\n",
       "      <td>0.111263</td>\n",
       "      <td>-2.342631</td>\n",
       "    </tr>\n",
       "    <tr>\n",
       "      <th>1013.00</th>\n",
       "      <th>76</th>\n",
       "      <td>-2.879057</td>\n",
       "      <td>1.384419</td>\n",
       "      <td>-1.494638</td>\n",
       "    </tr>\n",
       "    <tr>\n",
       "      <th rowspan=\"3\" valign=\"top\">4</th>\n",
       "      <th>0.00</th>\n",
       "      <th>1</th>\n",
       "      <td>-6.197552</td>\n",
       "      <td>0.000000</td>\n",
       "      <td>-6.197552</td>\n",
       "    </tr>\n",
       "    <tr>\n",
       "      <th>299.75</th>\n",
       "      <th>46</th>\n",
       "      <td>-6.215002</td>\n",
       "      <td>0.006387</td>\n",
       "      <td>-6.208616</td>\n",
       "    </tr>\n",
       "    <tr>\n",
       "      <th>1013.00</th>\n",
       "      <th>76</th>\n",
       "      <td>-6.244381</td>\n",
       "      <td>0.161184</td>\n",
       "      <td>-6.083197</td>\n",
       "    </tr>\n",
       "  </tbody>\n",
       "</table>\n",
       "</div>"
      ],
      "text/plain": [
       "                      flug      fldg     fnetg\n",
       "g pressure level                              \n",
       "1 0.00     1     -0.019018  0.000000 -0.019018\n",
       "  299.75   46    -0.026241  0.013405 -0.012836\n",
       "  1013.00  76    -0.051274  0.044888 -0.006386\n",
       "2 0.00     1     -0.148833  0.000000 -0.148833\n",
       "  299.75   46    -0.247897  0.069719 -0.178178\n",
       "  1013.00  76    -0.383318  0.282524 -0.100794\n",
       "3 0.00     1     -2.225321  0.000000 -2.225321\n",
       "  299.75   46    -2.453894  0.111263 -2.342631\n",
       "  1013.00  76    -2.879057  1.384419 -1.494638\n",
       "4 0.00     1     -6.197552  0.000000 -6.197552\n",
       "  299.75   46    -6.215002  0.006387 -6.208616\n",
       "  1013.00  76    -6.244381  0.161184 -6.083197"
      ]
     },
     "metadata": {},
     "output_type": "display_data"
    },
    {
     "data": {
      "text/markdown": [
       "*TABLE.* Fluxes. WGT igg=1"
      ],
      "text/plain": [
       "<IPython.core.display.Markdown object>"
      ]
     },
     "metadata": {},
     "output_type": "display_data"
    },
    {
     "data": {
      "text/html": [
       "<div>\n",
       "<style scoped>\n",
       "    .dataframe tbody tr th:only-of-type {\n",
       "        vertical-align: middle;\n",
       "    }\n",
       "\n",
       "    .dataframe tbody tr th {\n",
       "        vertical-align: top;\n",
       "    }\n",
       "\n",
       "    .dataframe thead th {\n",
       "        text-align: right;\n",
       "    }\n",
       "</style>\n",
       "<table border=\"1\" class=\"dataframe\">\n",
       "  <thead>\n",
       "    <tr style=\"text-align: right;\">\n",
       "      <th></th>\n",
       "      <th></th>\n",
       "      <th></th>\n",
       "      <th>flug</th>\n",
       "      <th>fldg</th>\n",
       "      <th>fnetg</th>\n",
       "    </tr>\n",
       "    <tr>\n",
       "      <th>g</th>\n",
       "      <th>pressure</th>\n",
       "      <th>level</th>\n",
       "      <th></th>\n",
       "      <th></th>\n",
       "      <th></th>\n",
       "    </tr>\n",
       "  </thead>\n",
       "  <tbody>\n",
       "    <tr>\n",
       "      <th rowspan=\"3\" valign=\"top\">1</th>\n",
       "      <th>0.00</th>\n",
       "      <th>1</th>\n",
       "      <td>-0.018895</td>\n",
       "      <td>0.000000</td>\n",
       "      <td>-0.018895</td>\n",
       "    </tr>\n",
       "    <tr>\n",
       "      <th>299.75</th>\n",
       "      <th>46</th>\n",
       "      <td>-0.024656</td>\n",
       "      <td>0.013521</td>\n",
       "      <td>-0.011134</td>\n",
       "    </tr>\n",
       "    <tr>\n",
       "      <th>1013.00</th>\n",
       "      <th>76</th>\n",
       "      <td>-0.051274</td>\n",
       "      <td>0.046760</td>\n",
       "      <td>-0.004514</td>\n",
       "    </tr>\n",
       "    <tr>\n",
       "      <th rowspan=\"3\" valign=\"top\">2</th>\n",
       "      <th>0.00</th>\n",
       "      <th>1</th>\n",
       "      <td>-0.140478</td>\n",
       "      <td>0.000000</td>\n",
       "      <td>-0.140478</td>\n",
       "    </tr>\n",
       "    <tr>\n",
       "      <th>299.75</th>\n",
       "      <th>46</th>\n",
       "      <td>-0.246830</td>\n",
       "      <td>0.071850</td>\n",
       "      <td>-0.174980</td>\n",
       "    </tr>\n",
       "    <tr>\n",
       "      <th>1013.00</th>\n",
       "      <th>76</th>\n",
       "      <td>-0.383318</td>\n",
       "      <td>0.289742</td>\n",
       "      <td>-0.093576</td>\n",
       "    </tr>\n",
       "    <tr>\n",
       "      <th rowspan=\"3\" valign=\"top\">3</th>\n",
       "      <th>0.00</th>\n",
       "      <th>1</th>\n",
       "      <td>-2.269178</td>\n",
       "      <td>0.000000</td>\n",
       "      <td>-2.269178</td>\n",
       "    </tr>\n",
       "    <tr>\n",
       "      <th>299.75</th>\n",
       "      <th>46</th>\n",
       "      <td>-2.492729</td>\n",
       "      <td>0.097370</td>\n",
       "      <td>-2.395360</td>\n",
       "    </tr>\n",
       "    <tr>\n",
       "      <th>1013.00</th>\n",
       "      <th>76</th>\n",
       "      <td>-2.879057</td>\n",
       "      <td>1.346707</td>\n",
       "      <td>-1.532350</td>\n",
       "    </tr>\n",
       "    <tr>\n",
       "      <th rowspan=\"3\" valign=\"top\">4</th>\n",
       "      <th>0.00</th>\n",
       "      <th>1</th>\n",
       "      <td>-6.201717</td>\n",
       "      <td>0.000000</td>\n",
       "      <td>-6.201717</td>\n",
       "    </tr>\n",
       "    <tr>\n",
       "      <th>299.75</th>\n",
       "      <th>46</th>\n",
       "      <td>-6.217693</td>\n",
       "      <td>0.005779</td>\n",
       "      <td>-6.211914</td>\n",
       "    </tr>\n",
       "    <tr>\n",
       "      <th>1013.00</th>\n",
       "      <th>76</th>\n",
       "      <td>-6.244381</td>\n",
       "      <td>0.148611</td>\n",
       "      <td>-6.095770</td>\n",
       "    </tr>\n",
       "  </tbody>\n",
       "</table>\n",
       "</div>"
      ],
      "text/plain": [
       "                      flug      fldg     fnetg\n",
       "g pressure level                              \n",
       "1 0.00     1     -0.018895  0.000000 -0.018895\n",
       "  299.75   46    -0.024656  0.013521 -0.011134\n",
       "  1013.00  76    -0.051274  0.046760 -0.004514\n",
       "2 0.00     1     -0.140478  0.000000 -0.140478\n",
       "  299.75   46    -0.246830  0.071850 -0.174980\n",
       "  1013.00  76    -0.383318  0.289742 -0.093576\n",
       "3 0.00     1     -2.269178  0.000000 -2.269178\n",
       "  299.75   46    -2.492729  0.097370 -2.395360\n",
       "  1013.00  76    -2.879057  1.346707 -1.532350\n",
       "4 0.00     1     -6.201717  0.000000 -6.201717\n",
       "  299.75   46    -6.217693  0.005779 -6.211914\n",
       "  1013.00  76    -6.244381  0.148611 -6.095770"
      ]
     },
     "metadata": {},
     "output_type": "display_data"
    },
    {
     "data": {
      "text/markdown": [
       "*TABLE.* Fluxes. WGT igg=10"
      ],
      "text/plain": [
       "<IPython.core.display.Markdown object>"
      ]
     },
     "metadata": {},
     "output_type": "display_data"
    },
    {
     "data": {
      "text/html": [
       "<div>\n",
       "<style scoped>\n",
       "    .dataframe tbody tr th:only-of-type {\n",
       "        vertical-align: middle;\n",
       "    }\n",
       "\n",
       "    .dataframe tbody tr th {\n",
       "        vertical-align: top;\n",
       "    }\n",
       "\n",
       "    .dataframe thead th {\n",
       "        text-align: right;\n",
       "    }\n",
       "</style>\n",
       "<table border=\"1\" class=\"dataframe\">\n",
       "  <thead>\n",
       "    <tr style=\"text-align: right;\">\n",
       "      <th></th>\n",
       "      <th></th>\n",
       "      <th></th>\n",
       "      <th>flug</th>\n",
       "      <th>fldg</th>\n",
       "      <th>fnetg</th>\n",
       "    </tr>\n",
       "    <tr>\n",
       "      <th>g</th>\n",
       "      <th>pressure</th>\n",
       "      <th>level</th>\n",
       "      <th></th>\n",
       "      <th></th>\n",
       "      <th></th>\n",
       "    </tr>\n",
       "  </thead>\n",
       "  <tbody>\n",
       "    <tr>\n",
       "      <th rowspan=\"3\" valign=\"top\">1</th>\n",
       "      <th>0.00</th>\n",
       "      <th>1</th>\n",
       "      <td>0.007601</td>\n",
       "      <td>0.000000</td>\n",
       "      <td>0.007601</td>\n",
       "    </tr>\n",
       "    <tr>\n",
       "      <th>299.75</th>\n",
       "      <th>46</th>\n",
       "      <td>0.005279</td>\n",
       "      <td>0.002886</td>\n",
       "      <td>0.008165</td>\n",
       "    </tr>\n",
       "    <tr>\n",
       "      <th>1013.00</th>\n",
       "      <th>76</th>\n",
       "      <td>-0.000031</td>\n",
       "      <td>0.007065</td>\n",
       "      <td>0.007034</td>\n",
       "    </tr>\n",
       "    <tr>\n",
       "      <th rowspan=\"3\" valign=\"top\">2</th>\n",
       "      <th>0.00</th>\n",
       "      <th>1</th>\n",
       "      <td>0.042798</td>\n",
       "      <td>0.000000</td>\n",
       "      <td>0.042798</td>\n",
       "    </tr>\n",
       "    <tr>\n",
       "      <th>299.75</th>\n",
       "      <th>46</th>\n",
       "      <td>-0.003888</td>\n",
       "      <td>0.011086</td>\n",
       "      <td>0.007198</td>\n",
       "    </tr>\n",
       "    <tr>\n",
       "      <th>1013.00</th>\n",
       "      <th>76</th>\n",
       "      <td>-0.000365</td>\n",
       "      <td>0.007880</td>\n",
       "      <td>0.007515</td>\n",
       "    </tr>\n",
       "    <tr>\n",
       "      <th rowspan=\"3\" valign=\"top\">3</th>\n",
       "      <th>0.00</th>\n",
       "      <th>1</th>\n",
       "      <td>0.036587</td>\n",
       "      <td>0.000000</td>\n",
       "      <td>0.036587</td>\n",
       "    </tr>\n",
       "    <tr>\n",
       "      <th>299.75</th>\n",
       "      <th>46</th>\n",
       "      <td>-0.008266</td>\n",
       "      <td>-0.003355</td>\n",
       "      <td>-0.011621</td>\n",
       "    </tr>\n",
       "    <tr>\n",
       "      <th>1013.00</th>\n",
       "      <th>76</th>\n",
       "      <td>-0.002485</td>\n",
       "      <td>0.054507</td>\n",
       "      <td>0.052022</td>\n",
       "    </tr>\n",
       "    <tr>\n",
       "      <th rowspan=\"3\" valign=\"top\">4</th>\n",
       "      <th>0.00</th>\n",
       "      <th>1</th>\n",
       "      <td>0.001003</td>\n",
       "      <td>0.000000</td>\n",
       "      <td>0.001003</td>\n",
       "    </tr>\n",
       "    <tr>\n",
       "      <th>299.75</th>\n",
       "      <th>46</th>\n",
       "      <td>0.001188</td>\n",
       "      <td>-0.000511</td>\n",
       "      <td>0.000678</td>\n",
       "    </tr>\n",
       "    <tr>\n",
       "      <th>1013.00</th>\n",
       "      <th>76</th>\n",
       "      <td>0.002881</td>\n",
       "      <td>-0.002978</td>\n",
       "      <td>-0.000097</td>\n",
       "    </tr>\n",
       "  </tbody>\n",
       "</table>\n",
       "</div>"
      ],
      "text/plain": [
       "                      flug      fldg     fnetg\n",
       "g pressure level                              \n",
       "1 0.00     1      0.007601  0.000000  0.007601\n",
       "  299.75   46     0.005279  0.002886  0.008165\n",
       "  1013.00  76    -0.000031  0.007065  0.007034\n",
       "2 0.00     1      0.042798  0.000000  0.042798\n",
       "  299.75   46    -0.003888  0.011086  0.007198\n",
       "  1013.00  76    -0.000365  0.007880  0.007515\n",
       "3 0.00     1      0.036587  0.000000  0.036587\n",
       "  299.75   46    -0.008266 -0.003355 -0.011621\n",
       "  1013.00  76    -0.002485  0.054507  0.052022\n",
       "4 0.00     1      0.001003  0.000000  0.001003\n",
       "  299.75   46     0.001188 -0.000511  0.000678\n",
       "  1013.00  76     0.002881 -0.002978 -0.000097"
      ]
     },
     "metadata": {},
     "output_type": "display_data"
    },
    {
     "data": {
      "text/markdown": [
       "*TABLE.* Fluxes. (WGT igg=1) - (CRD)"
      ],
      "text/plain": [
       "<IPython.core.display.Markdown object>"
      ]
     },
     "metadata": {},
     "output_type": "display_data"
    },
    {
     "data": {
      "text/html": [
       "<div>\n",
       "<style scoped>\n",
       "    .dataframe tbody tr th:only-of-type {\n",
       "        vertical-align: middle;\n",
       "    }\n",
       "\n",
       "    .dataframe tbody tr th {\n",
       "        vertical-align: top;\n",
       "    }\n",
       "\n",
       "    .dataframe thead th {\n",
       "        text-align: right;\n",
       "    }\n",
       "</style>\n",
       "<table border=\"1\" class=\"dataframe\">\n",
       "  <thead>\n",
       "    <tr style=\"text-align: right;\">\n",
       "      <th></th>\n",
       "      <th></th>\n",
       "      <th></th>\n",
       "      <th>flug</th>\n",
       "      <th>fldg</th>\n",
       "      <th>fnetg</th>\n",
       "    </tr>\n",
       "    <tr>\n",
       "      <th>g</th>\n",
       "      <th>pressure</th>\n",
       "      <th>level</th>\n",
       "      <th></th>\n",
       "      <th></th>\n",
       "      <th></th>\n",
       "    </tr>\n",
       "  </thead>\n",
       "  <tbody>\n",
       "    <tr>\n",
       "      <th rowspan=\"3\" valign=\"top\">1</th>\n",
       "      <th>0.00</th>\n",
       "      <th>1</th>\n",
       "      <td>0.007724</td>\n",
       "      <td>0.000000</td>\n",
       "      <td>0.007724</td>\n",
       "    </tr>\n",
       "    <tr>\n",
       "      <th>299.75</th>\n",
       "      <th>46</th>\n",
       "      <td>0.006864</td>\n",
       "      <td>0.003003</td>\n",
       "      <td>0.009867</td>\n",
       "    </tr>\n",
       "    <tr>\n",
       "      <th>1013.00</th>\n",
       "      <th>76</th>\n",
       "      <td>-0.000031</td>\n",
       "      <td>0.008938</td>\n",
       "      <td>0.008907</td>\n",
       "    </tr>\n",
       "    <tr>\n",
       "      <th rowspan=\"3\" valign=\"top\">2</th>\n",
       "      <th>0.00</th>\n",
       "      <th>1</th>\n",
       "      <td>0.051152</td>\n",
       "      <td>0.000000</td>\n",
       "      <td>0.051152</td>\n",
       "    </tr>\n",
       "    <tr>\n",
       "      <th>299.75</th>\n",
       "      <th>46</th>\n",
       "      <td>-0.002821</td>\n",
       "      <td>0.013217</td>\n",
       "      <td>0.010396</td>\n",
       "    </tr>\n",
       "    <tr>\n",
       "      <th>1013.00</th>\n",
       "      <th>76</th>\n",
       "      <td>-0.000365</td>\n",
       "      <td>0.015097</td>\n",
       "      <td>0.014732</td>\n",
       "    </tr>\n",
       "    <tr>\n",
       "      <th rowspan=\"3\" valign=\"top\">3</th>\n",
       "      <th>0.00</th>\n",
       "      <th>1</th>\n",
       "      <td>-0.007271</td>\n",
       "      <td>0.000000</td>\n",
       "      <td>-0.007271</td>\n",
       "    </tr>\n",
       "    <tr>\n",
       "      <th>299.75</th>\n",
       "      <th>46</th>\n",
       "      <td>-0.047101</td>\n",
       "      <td>-0.017248</td>\n",
       "      <td>-0.064350</td>\n",
       "    </tr>\n",
       "    <tr>\n",
       "      <th>1013.00</th>\n",
       "      <th>76</th>\n",
       "      <td>-0.002485</td>\n",
       "      <td>0.016795</td>\n",
       "      <td>0.014310</td>\n",
       "    </tr>\n",
       "    <tr>\n",
       "      <th rowspan=\"3\" valign=\"top\">4</th>\n",
       "      <th>0.00</th>\n",
       "      <th>1</th>\n",
       "      <td>-0.003163</td>\n",
       "      <td>0.000000</td>\n",
       "      <td>-0.003163</td>\n",
       "    </tr>\n",
       "    <tr>\n",
       "      <th>299.75</th>\n",
       "      <th>46</th>\n",
       "      <td>-0.001502</td>\n",
       "      <td>-0.001118</td>\n",
       "      <td>-0.002620</td>\n",
       "    </tr>\n",
       "    <tr>\n",
       "      <th>1013.00</th>\n",
       "      <th>76</th>\n",
       "      <td>0.002881</td>\n",
       "      <td>-0.015551</td>\n",
       "      <td>-0.012670</td>\n",
       "    </tr>\n",
       "  </tbody>\n",
       "</table>\n",
       "</div>"
      ],
      "text/plain": [
       "                      flug      fldg     fnetg\n",
       "g pressure level                              \n",
       "1 0.00     1      0.007724  0.000000  0.007724\n",
       "  299.75   46     0.006864  0.003003  0.009867\n",
       "  1013.00  76    -0.000031  0.008938  0.008907\n",
       "2 0.00     1      0.051152  0.000000  0.051152\n",
       "  299.75   46    -0.002821  0.013217  0.010396\n",
       "  1013.00  76    -0.000365  0.015097  0.014732\n",
       "3 0.00     1     -0.007271  0.000000 -0.007271\n",
       "  299.75   46    -0.047101 -0.017248 -0.064350\n",
       "  1013.00  76    -0.002485  0.016795  0.014310\n",
       "4 0.00     1     -0.003163  0.000000 -0.003163\n",
       "  299.75   46    -0.001502 -0.001118 -0.002620\n",
       "  1013.00  76     0.002881 -0.015551 -0.012670"
      ]
     },
     "metadata": {},
     "output_type": "display_data"
    },
    {
     "data": {
      "text/markdown": [
       "*TABLE.* Fluxes. (WGT igg=10) - (CRD)"
      ],
      "text/plain": [
       "<IPython.core.display.Markdown object>"
      ]
     },
     "metadata": {},
     "output_type": "display_data"
    },
    {
     "data": {
      "text/html": [
       "<div>\n",
       "<style scoped>\n",
       "    .dataframe tbody tr th:only-of-type {\n",
       "        vertical-align: middle;\n",
       "    }\n",
       "\n",
       "    .dataframe tbody tr th {\n",
       "        vertical-align: top;\n",
       "    }\n",
       "\n",
       "    .dataframe thead th {\n",
       "        text-align: right;\n",
       "    }\n",
       "</style>\n",
       "<table border=\"1\" class=\"dataframe\">\n",
       "  <thead>\n",
       "    <tr style=\"text-align: right;\">\n",
       "      <th></th>\n",
       "      <th></th>\n",
       "      <th>flug</th>\n",
       "      <th>fldg</th>\n",
       "      <th>fnetg</th>\n",
       "    </tr>\n",
       "    <tr>\n",
       "      <th>pressure</th>\n",
       "      <th>level</th>\n",
       "      <th></th>\n",
       "      <th></th>\n",
       "      <th></th>\n",
       "    </tr>\n",
       "  </thead>\n",
       "  <tbody>\n",
       "    <tr>\n",
       "      <th>0.00</th>\n",
       "      <th>1</th>\n",
       "      <td>-8.678711</td>\n",
       "      <td>0.000000</td>\n",
       "      <td>-8.678711</td>\n",
       "    </tr>\n",
       "    <tr>\n",
       "      <th>299.75</th>\n",
       "      <th>46</th>\n",
       "      <td>-8.937347</td>\n",
       "      <td>0.190666</td>\n",
       "      <td>-8.746680</td>\n",
       "    </tr>\n",
       "    <tr>\n",
       "      <th>1013.00</th>\n",
       "      <th>76</th>\n",
       "      <td>-9.558030</td>\n",
       "      <td>1.806541</td>\n",
       "      <td>-7.751489</td>\n",
       "    </tr>\n",
       "  </tbody>\n",
       "</table>\n",
       "</div>"
      ],
      "text/plain": [
       "                    flug      fldg     fnetg\n",
       "pressure level                              \n",
       "0.00     1     -8.678711  0.000000 -8.678711\n",
       "299.75   46    -8.937347  0.190666 -8.746680\n",
       "1013.00  76    -9.558030  1.806541 -7.751489"
      ]
     },
     "metadata": {},
     "output_type": "display_data"
    },
    {
     "data": {
      "text/markdown": [
       "*TABLE.* Fluxes. CRD"
      ],
      "text/plain": [
       "<IPython.core.display.Markdown object>"
      ]
     },
     "metadata": {},
     "output_type": "display_data"
    },
    {
     "data": {
      "text/html": [
       "<div>\n",
       "<style scoped>\n",
       "    .dataframe tbody tr th:only-of-type {\n",
       "        vertical-align: middle;\n",
       "    }\n",
       "\n",
       "    .dataframe tbody tr th {\n",
       "        vertical-align: top;\n",
       "    }\n",
       "\n",
       "    .dataframe thead th {\n",
       "        text-align: right;\n",
       "    }\n",
       "</style>\n",
       "<table border=\"1\" class=\"dataframe\">\n",
       "  <thead>\n",
       "    <tr style=\"text-align: right;\">\n",
       "      <th></th>\n",
       "      <th></th>\n",
       "      <th>flug</th>\n",
       "      <th>fldg</th>\n",
       "      <th>fnetg</th>\n",
       "    </tr>\n",
       "    <tr>\n",
       "      <th>pressure</th>\n",
       "      <th>level</th>\n",
       "      <th></th>\n",
       "      <th></th>\n",
       "      <th></th>\n",
       "    </tr>\n",
       "  </thead>\n",
       "  <tbody>\n",
       "    <tr>\n",
       "      <th>0.00</th>\n",
       "      <th>1</th>\n",
       "      <td>-8.590723</td>\n",
       "      <td>0.000000</td>\n",
       "      <td>-8.590723</td>\n",
       "    </tr>\n",
       "    <tr>\n",
       "      <th>299.75</th>\n",
       "      <th>46</th>\n",
       "      <td>-8.943034</td>\n",
       "      <td>0.200774</td>\n",
       "      <td>-8.742261</td>\n",
       "    </tr>\n",
       "    <tr>\n",
       "      <th>1013.00</th>\n",
       "      <th>76</th>\n",
       "      <td>-9.558030</td>\n",
       "      <td>1.873015</td>\n",
       "      <td>-7.685015</td>\n",
       "    </tr>\n",
       "  </tbody>\n",
       "</table>\n",
       "</div>"
      ],
      "text/plain": [
       "                    flug      fldg     fnetg\n",
       "pressure level                              \n",
       "0.00     1     -8.590723  0.000000 -8.590723\n",
       "299.75   46    -8.943034  0.200774 -8.742261\n",
       "1013.00  76    -9.558030  1.873015 -7.685015"
      ]
     },
     "metadata": {},
     "output_type": "display_data"
    },
    {
     "data": {
      "text/markdown": [
       "*TABLE.* Fluxes. WGT igg=1"
      ],
      "text/plain": [
       "<IPython.core.display.Markdown object>"
      ]
     },
     "metadata": {},
     "output_type": "display_data"
    },
    {
     "data": {
      "text/html": [
       "<div>\n",
       "<style scoped>\n",
       "    .dataframe tbody tr th:only-of-type {\n",
       "        vertical-align: middle;\n",
       "    }\n",
       "\n",
       "    .dataframe tbody tr th {\n",
       "        vertical-align: top;\n",
       "    }\n",
       "\n",
       "    .dataframe thead th {\n",
       "        text-align: right;\n",
       "    }\n",
       "</style>\n",
       "<table border=\"1\" class=\"dataframe\">\n",
       "  <thead>\n",
       "    <tr style=\"text-align: right;\">\n",
       "      <th></th>\n",
       "      <th></th>\n",
       "      <th>flug</th>\n",
       "      <th>fldg</th>\n",
       "      <th>fnetg</th>\n",
       "    </tr>\n",
       "    <tr>\n",
       "      <th>pressure</th>\n",
       "      <th>level</th>\n",
       "      <th></th>\n",
       "      <th></th>\n",
       "      <th></th>\n",
       "    </tr>\n",
       "  </thead>\n",
       "  <tbody>\n",
       "    <tr>\n",
       "      <th>0.00</th>\n",
       "      <th>1</th>\n",
       "      <td>-8.630269</td>\n",
       "      <td>0.00000</td>\n",
       "      <td>-8.630269</td>\n",
       "    </tr>\n",
       "    <tr>\n",
       "      <th>299.75</th>\n",
       "      <th>46</th>\n",
       "      <td>-8.981908</td>\n",
       "      <td>0.18852</td>\n",
       "      <td>-8.793388</td>\n",
       "    </tr>\n",
       "    <tr>\n",
       "      <th>1013.00</th>\n",
       "      <th>76</th>\n",
       "      <td>-9.558030</td>\n",
       "      <td>1.83182</td>\n",
       "      <td>-7.726210</td>\n",
       "    </tr>\n",
       "  </tbody>\n",
       "</table>\n",
       "</div>"
      ],
      "text/plain": [
       "                    flug     fldg     fnetg\n",
       "pressure level                             \n",
       "0.00     1     -8.630269  0.00000 -8.630269\n",
       "299.75   46    -8.981908  0.18852 -8.793388\n",
       "1013.00  76    -9.558030  1.83182 -7.726210"
      ]
     },
     "metadata": {},
     "output_type": "display_data"
    },
    {
     "data": {
      "text/markdown": [
       "*TABLE.* Fluxes. WGT igg=10"
      ],
      "text/plain": [
       "<IPython.core.display.Markdown object>"
      ]
     },
     "metadata": {},
     "output_type": "display_data"
    },
    {
     "data": {
      "text/html": [
       "<div>\n",
       "<style scoped>\n",
       "    .dataframe tbody tr th:only-of-type {\n",
       "        vertical-align: middle;\n",
       "    }\n",
       "\n",
       "    .dataframe tbody tr th {\n",
       "        vertical-align: top;\n",
       "    }\n",
       "\n",
       "    .dataframe thead th {\n",
       "        text-align: right;\n",
       "    }\n",
       "</style>\n",
       "<table border=\"1\" class=\"dataframe\">\n",
       "  <thead>\n",
       "    <tr style=\"text-align: right;\">\n",
       "      <th></th>\n",
       "      <th></th>\n",
       "      <th>flug</th>\n",
       "      <th>fldg</th>\n",
       "      <th>fnetg</th>\n",
       "    </tr>\n",
       "    <tr>\n",
       "      <th>pressure</th>\n",
       "      <th>level</th>\n",
       "      <th></th>\n",
       "      <th></th>\n",
       "      <th></th>\n",
       "    </tr>\n",
       "  </thead>\n",
       "  <tbody>\n",
       "    <tr>\n",
       "      <th>0.00</th>\n",
       "      <th>1</th>\n",
       "      <td>8.798798e-02</td>\n",
       "      <td>0.000000</td>\n",
       "      <td>0.087988</td>\n",
       "    </tr>\n",
       "    <tr>\n",
       "      <th>299.75</th>\n",
       "      <th>46</th>\n",
       "      <td>-5.687272e-03</td>\n",
       "      <td>0.010107</td>\n",
       "      <td>0.004420</td>\n",
       "    </tr>\n",
       "    <tr>\n",
       "      <th>1013.00</th>\n",
       "      <th>76</th>\n",
       "      <td>8.999999e-09</td>\n",
       "      <td>0.066474</td>\n",
       "      <td>0.066474</td>\n",
       "    </tr>\n",
       "  </tbody>\n",
       "</table>\n",
       "</div>"
      ],
      "text/plain": [
       "                        flug      fldg     fnetg\n",
       "pressure level                                  \n",
       "0.00     1      8.798798e-02  0.000000  0.087988\n",
       "299.75   46    -5.687272e-03  0.010107  0.004420\n",
       "1013.00  76     8.999999e-09  0.066474  0.066474"
      ]
     },
     "metadata": {},
     "output_type": "display_data"
    },
    {
     "data": {
      "text/markdown": [
       "*TABLE.* Fluxes. (WGT igg=1) - (CRD)"
      ],
      "text/plain": [
       "<IPython.core.display.Markdown object>"
      ]
     },
     "metadata": {},
     "output_type": "display_data"
    },
    {
     "data": {
      "text/html": [
       "<div>\n",
       "<style scoped>\n",
       "    .dataframe tbody tr th:only-of-type {\n",
       "        vertical-align: middle;\n",
       "    }\n",
       "\n",
       "    .dataframe tbody tr th {\n",
       "        vertical-align: top;\n",
       "    }\n",
       "\n",
       "    .dataframe thead th {\n",
       "        text-align: right;\n",
       "    }\n",
       "</style>\n",
       "<table border=\"1\" class=\"dataframe\">\n",
       "  <thead>\n",
       "    <tr style=\"text-align: right;\">\n",
       "      <th></th>\n",
       "      <th></th>\n",
       "      <th>flug</th>\n",
       "      <th>fldg</th>\n",
       "      <th>fnetg</th>\n",
       "    </tr>\n",
       "    <tr>\n",
       "      <th>pressure</th>\n",
       "      <th>level</th>\n",
       "      <th></th>\n",
       "      <th></th>\n",
       "      <th></th>\n",
       "    </tr>\n",
       "  </thead>\n",
       "  <tbody>\n",
       "    <tr>\n",
       "      <th>0.00</th>\n",
       "      <th>1</th>\n",
       "      <td>4.844256e-02</td>\n",
       "      <td>0.000000</td>\n",
       "      <td>0.048443</td>\n",
       "    </tr>\n",
       "    <tr>\n",
       "      <th>299.75</th>\n",
       "      <th>46</th>\n",
       "      <td>-4.456103e-02</td>\n",
       "      <td>-0.002146</td>\n",
       "      <td>-0.046707</td>\n",
       "    </tr>\n",
       "    <tr>\n",
       "      <th>1013.00</th>\n",
       "      <th>76</th>\n",
       "      <td>8.999999e-09</td>\n",
       "      <td>0.025279</td>\n",
       "      <td>0.025279</td>\n",
       "    </tr>\n",
       "  </tbody>\n",
       "</table>\n",
       "</div>"
      ],
      "text/plain": [
       "                        flug      fldg     fnetg\n",
       "pressure level                                  \n",
       "0.00     1      4.844256e-02  0.000000  0.048443\n",
       "299.75   46    -4.456103e-02 -0.002146 -0.046707\n",
       "1013.00  76     8.999999e-09  0.025279  0.025279"
      ]
     },
     "metadata": {},
     "output_type": "display_data"
    },
    {
     "data": {
      "text/markdown": [
       "*TABLE.* Fluxes. (WGT igg=10) - (CRD)"
      ],
      "text/plain": [
       "<IPython.core.display.Markdown object>"
      ]
     },
     "metadata": {},
     "output_type": "display_data"
    },
    {
     "data": {
      "text/html": [
       "<a id=\"g-interval_Summary\"></a>"
      ],
      "text/plain": [
       "<IPython.core.display.HTML object>"
      ]
     },
     "metadata": {},
     "output_type": "display_data"
    },
    {
     "data": {
      "text/markdown": [
       "# g-interval Summary"
      ],
      "text/plain": [
       "<IPython.core.display.Markdown object>"
      ]
     },
     "metadata": {},
     "output_type": "display_data"
    },
    {
     "data": {
      "text/html": [
       "<div>\n",
       "<style scoped>\n",
       "    .dataframe tbody tr th:only-of-type {\n",
       "        vertical-align: middle;\n",
       "    }\n",
       "\n",
       "    .dataframe tbody tr th {\n",
       "        vertical-align: top;\n",
       "    }\n",
       "\n",
       "    .dataframe thead th {\n",
       "        text-align: right;\n",
       "    }\n",
       "</style>\n",
       "<table border=\"1\" class=\"dataframe\">\n",
       "  <thead>\n",
       "    <tr style=\"text-align: right;\">\n",
       "      <th></th>\n",
       "      <th>abscom</th>\n",
       "      <th>k(ig) / k(ig - 1)</th>\n",
       "      <th>dg</th>\n",
       "      <th>dgs</th>\n",
       "      <th>dg cumsum</th>\n",
       "      <th>dgs cumsum</th>\n",
       "      <th>pref</th>\n",
       "    </tr>\n",
       "    <tr>\n",
       "      <th>g</th>\n",
       "      <th></th>\n",
       "      <th></th>\n",
       "      <th></th>\n",
       "      <th></th>\n",
       "      <th></th>\n",
       "      <th></th>\n",
       "      <th></th>\n",
       "    </tr>\n",
       "  </thead>\n",
       "  <tbody>\n",
       "    <tr>\n",
       "      <th>1</th>\n",
       "      <td>6.376210e-19</td>\n",
       "      <td>NaN</td>\n",
       "      <td>0.005230</td>\n",
       "      <td>0.005365</td>\n",
       "      <td>0.005230</td>\n",
       "      <td>0.005365</td>\n",
       "      <td>1.0</td>\n",
       "    </tr>\n",
       "    <tr>\n",
       "      <th>2</th>\n",
       "      <td>5.353590e-21</td>\n",
       "      <td>8.396195e-03</td>\n",
       "      <td>0.038788</td>\n",
       "      <td>0.040104</td>\n",
       "      <td>0.044018</td>\n",
       "      <td>0.045469</td>\n",
       "      <td>1.0</td>\n",
       "    </tr>\n",
       "    <tr>\n",
       "      <th>3</th>\n",
       "      <td>2.220488e-20</td>\n",
       "      <td>4.147661e+00</td>\n",
       "      <td>0.291909</td>\n",
       "      <td>0.301219</td>\n",
       "      <td>0.335927</td>\n",
       "      <td>0.346687</td>\n",
       "      <td>500.0</td>\n",
       "    </tr>\n",
       "    <tr>\n",
       "      <th>4</th>\n",
       "      <td>2.163830e-26</td>\n",
       "      <td>9.744839e-07</td>\n",
       "      <td>0.664073</td>\n",
       "      <td>0.653313</td>\n",
       "      <td>1.000000</td>\n",
       "      <td>1.000000</td>\n",
       "      <td>500.0</td>\n",
       "    </tr>\n",
       "  </tbody>\n",
       "</table>\n",
       "</div>"
      ],
      "text/plain": [
       "         abscom  k(ig) / k(ig - 1)        dg       dgs  dg cumsum  dgs cumsum  \\\n",
       "g                                                                               \n",
       "1  6.376210e-19                NaN  0.005230  0.005365   0.005230    0.005365   \n",
       "2  5.353590e-21       8.396195e-03  0.038788  0.040104   0.044018    0.045469   \n",
       "3  2.220488e-20       4.147661e+00  0.291909  0.301219   0.335927    0.346687   \n",
       "4  2.163830e-26       9.744839e-07  0.664073  0.653313   1.000000    1.000000   \n",
       "\n",
       "    pref  \n",
       "g         \n",
       "1    1.0  \n",
       "2    1.0  \n",
       "3  500.0  \n",
       "4  500.0  "
      ]
     },
     "metadata": {},
     "output_type": "display_data"
    },
    {
     "data": {
      "text/markdown": [
       "TABLE. g-interval summary.  *abscom* is the lower bound of the g-interval."
      ],
      "text/plain": [
       "<IPython.core.display.Markdown object>"
      ]
     },
     "metadata": {},
     "output_type": "display_data"
    },
    {
     "data": {
      "text/html": [
       "<a id=\"Download_Data\"></a>"
      ],
      "text/plain": [
       "<IPython.core.display.HTML object>"
      ]
     },
     "metadata": {},
     "output_type": "display_data"
    },
    {
     "data": {
      "text/markdown": [
       "# Download Data"
      ],
      "text/plain": [
       "<IPython.core.display.Markdown object>"
      ]
     },
     "metadata": {},
     "output_type": "display_data"
    },
    {
     "data": {
      "text/html": [
       "Download: <a href=\"./lblnew-bestfit_flux.xlsx\">lblnew-bestfit_flux.xlsx</a>"
      ],
      "text/plain": [
       "<IPython.core.display.HTML object>"
      ]
     },
     "metadata": {},
     "output_type": "display_data"
    },
    {
     "data": {
      "text/html": [
       "Download: <a href=\"./lblnew-bestfit_cool.xlsx\">lblnew-bestfit_cool.xlsx</a>"
      ],
      "text/plain": [
       "<IPython.core.display.HTML object>"
      ]
     },
     "metadata": {},
     "output_type": "display_data"
    }
   ],
   "source": [
    "script()"
   ]
  },
  {
   "cell_type": "code",
   "execution_count": 14,
   "metadata": {},
   "outputs": [
    {
     "data": {
      "text/html": [
       "<script>\n",
       "code_show=true; \n",
       "function code_toggle() {\n",
       " if (code_show){\n",
       " $('div.input').hide();\n",
       " } else {\n",
       " $('div.input').show();\n",
       " }\n",
       " code_show = !code_show\n",
       "} \n",
       "$( document ).ready(code_toggle);\n",
       "</script>\n",
       "<form action=\"javascript:code_toggle()\"><input type=\"submit\" value=\"Click here to toggle on/off the raw code.\"></form>"
      ],
      "text/plain": [
       "<IPython.core.display.HTML object>"
      ]
     },
     "execution_count": 14,
     "metadata": {},
     "output_type": "execute_result"
    }
   ],
   "source": [
    "display.HTML('''<script>\n",
    "code_show=true; \n",
    "function code_toggle() {\n",
    " if (code_show){\n",
    " $('div.input').hide();\n",
    " } else {\n",
    " $('div.input').show();\n",
    " }\n",
    " code_show = !code_show\n",
    "} \n",
    "$( document ).ready(code_toggle);\n",
    "</script>\n",
    "<form action=\"javascript:code_toggle()\"><input type=\"submit\" value=\"Click here to toggle on/off the raw code.\"></form>''')"
   ]
  },
  {
   "cell_type": "code",
   "execution_count": 15,
   "metadata": {
    "collapsed": true
   },
   "outputs": [],
   "source": []
  }
 ],
 "metadata": {
  "kernelspec": {
   "display_name": "Python 3",
   "language": "python",
   "name": "python3"
  },
  "language_info": {
   "codemirror_mode": {
    "name": "ipython",
    "version": 3
   },
   "file_extension": ".py",
   "mimetype": "text/x-python",
   "name": "python",
   "nbconvert_exporter": "python",
   "pygments_lexer": "ipython3",
   "version": "3.6.1"
  }
 },
 "nbformat": 4,
 "nbformat_minor": 2
}
