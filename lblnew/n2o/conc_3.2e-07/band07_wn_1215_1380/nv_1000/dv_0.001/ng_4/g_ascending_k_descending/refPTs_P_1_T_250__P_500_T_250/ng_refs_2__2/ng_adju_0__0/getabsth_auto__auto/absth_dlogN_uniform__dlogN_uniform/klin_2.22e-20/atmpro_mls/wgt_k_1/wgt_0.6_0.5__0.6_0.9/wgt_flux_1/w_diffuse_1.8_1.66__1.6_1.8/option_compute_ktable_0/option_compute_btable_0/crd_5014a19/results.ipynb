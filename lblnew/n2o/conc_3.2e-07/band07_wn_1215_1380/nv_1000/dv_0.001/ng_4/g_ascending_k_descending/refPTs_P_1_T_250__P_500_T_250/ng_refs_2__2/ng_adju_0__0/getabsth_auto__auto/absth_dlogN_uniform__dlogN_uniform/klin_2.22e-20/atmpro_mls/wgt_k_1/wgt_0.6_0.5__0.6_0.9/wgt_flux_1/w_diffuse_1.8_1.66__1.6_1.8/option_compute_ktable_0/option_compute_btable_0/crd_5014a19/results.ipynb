{
 "cells": [
  {
   "cell_type": "code",
   "execution_count": 1,
   "metadata": {
    "collapsed": true
   },
   "outputs": [],
   "source": [
    "%reload_ext autoreload\n",
    "%autoreload 2\n",
    "%matplotlib inline"
   ]
  },
  {
   "cell_type": "code",
   "execution_count": 2,
   "metadata": {
    "collapsed": true
   },
   "outputs": [],
   "source": [
    "import io\n",
    "\n",
    "import numpy as np\n",
    "import pymongo\n",
    "\n",
    "from bokeh.io import output_notebook, show\n",
    "from bokeh.palettes import all_palettes\n",
    "from bokeh.layouts import gridplot\n",
    "\n",
    "from IPython import display\n",
    "\n",
    "from climatools.cliradlw.dataset import load_output_file\n",
    "import climatools.html.html as climahtml\n",
    "from climatools.plot.plot import *"
   ]
  },
  {
   "cell_type": "code",
   "execution_count": 3,
   "metadata": {},
   "outputs": [
    {
     "data": {
      "text/html": [
       "\n",
       "    <div class=\"bk-root\">\n",
       "        <a href=\"https://bokeh.pydata.org\" target=\"_blank\" class=\"bk-logo bk-logo-small bk-logo-notebook\"></a>\n",
       "        <span id=\"e3470743-4b0e-4d91-9015-0e89f8ef1078\">Loading BokehJS ...</span>\n",
       "    </div>"
      ]
     },
     "metadata": {},
     "output_type": "display_data"
    },
    {
     "data": {
      "application/javascript": [
       "\n",
       "(function(root) {\n",
       "  function now() {\n",
       "    return new Date();\n",
       "  }\n",
       "\n",
       "  var force = true;\n",
       "\n",
       "  if (typeof (root._bokeh_onload_callbacks) === \"undefined\" || force === true) {\n",
       "    root._bokeh_onload_callbacks = [];\n",
       "    root._bokeh_is_loading = undefined;\n",
       "  }\n",
       "\n",
       "  var JS_MIME_TYPE = 'application/javascript';\n",
       "  var HTML_MIME_TYPE = 'text/html';\n",
       "  var EXEC_MIME_TYPE = 'application/vnd.bokehjs_exec.v0+json';\n",
       "  var CLASS_NAME = 'output_bokeh rendered_html';\n",
       "\n",
       "  /**\n",
       "   * Render data to the DOM node\n",
       "   */\n",
       "  function render(props, node) {\n",
       "    var script = document.createElement(\"script\");\n",
       "    node.appendChild(script);\n",
       "  }\n",
       "\n",
       "  /**\n",
       "   * Handle when an output is cleared or removed\n",
       "   */\n",
       "  function handleClearOutput(event, handle) {\n",
       "    var cell = handle.cell;\n",
       "\n",
       "    var id = cell.output_area._bokeh_element_id;\n",
       "    var server_id = cell.output_area._bokeh_server_id;\n",
       "    // Clean up Bokeh references\n",
       "    if (id !== undefined) {\n",
       "      Bokeh.index[id].model.document.clear();\n",
       "      delete Bokeh.index[id];\n",
       "    }\n",
       "\n",
       "    if (server_id !== undefined) {\n",
       "      // Clean up Bokeh references\n",
       "      var cmd = \"from bokeh.io.state import curstate; print(curstate().uuid_to_server['\" + server_id + \"'].get_sessions()[0].document.roots[0]._id)\";\n",
       "      cell.notebook.kernel.execute(cmd, {\n",
       "        iopub: {\n",
       "          output: function(msg) {\n",
       "            var element_id = msg.content.text.trim();\n",
       "            Bokeh.index[element_id].model.document.clear();\n",
       "            delete Bokeh.index[element_id];\n",
       "          }\n",
       "        }\n",
       "      });\n",
       "      // Destroy server and session\n",
       "      var cmd = \"import bokeh.io.notebook as ion; ion.destroy_server('\" + server_id + \"')\";\n",
       "      cell.notebook.kernel.execute(cmd);\n",
       "    }\n",
       "  }\n",
       "\n",
       "  /**\n",
       "   * Handle when a new output is added\n",
       "   */\n",
       "  function handleAddOutput(event, handle) {\n",
       "    var output_area = handle.output_area;\n",
       "    var output = handle.output;\n",
       "\n",
       "    // limit handleAddOutput to display_data with EXEC_MIME_TYPE content only\n",
       "    if ((output.output_type != \"display_data\") || (!output.data.hasOwnProperty(EXEC_MIME_TYPE))) {\n",
       "      return\n",
       "    }\n",
       "\n",
       "    var toinsert = output_area.element.find(\".\" + CLASS_NAME.split(' ')[0]);\n",
       "\n",
       "    if (output.metadata[EXEC_MIME_TYPE][\"id\"] !== undefined) {\n",
       "      toinsert[toinsert.length - 1].firstChild.textContent = output.data[JS_MIME_TYPE];\n",
       "      // store reference to embed id on output_area\n",
       "      output_area._bokeh_element_id = output.metadata[EXEC_MIME_TYPE][\"id\"];\n",
       "    }\n",
       "    if (output.metadata[EXEC_MIME_TYPE][\"server_id\"] !== undefined) {\n",
       "      var bk_div = document.createElement(\"div\");\n",
       "      bk_div.innerHTML = output.data[HTML_MIME_TYPE];\n",
       "      var script_attrs = bk_div.children[0].attributes;\n",
       "      for (var i = 0; i < script_attrs.length; i++) {\n",
       "        toinsert[toinsert.length - 1].firstChild.setAttribute(script_attrs[i].name, script_attrs[i].value);\n",
       "      }\n",
       "      // store reference to server id on output_area\n",
       "      output_area._bokeh_server_id = output.metadata[EXEC_MIME_TYPE][\"server_id\"];\n",
       "    }\n",
       "  }\n",
       "\n",
       "  function register_renderer(events, OutputArea) {\n",
       "\n",
       "    function append_mime(data, metadata, element) {\n",
       "      // create a DOM node to render to\n",
       "      var toinsert = this.create_output_subarea(\n",
       "        metadata,\n",
       "        CLASS_NAME,\n",
       "        EXEC_MIME_TYPE\n",
       "      );\n",
       "      this.keyboard_manager.register_events(toinsert);\n",
       "      // Render to node\n",
       "      var props = {data: data, metadata: metadata[EXEC_MIME_TYPE]};\n",
       "      render(props, toinsert[toinsert.length - 1]);\n",
       "      element.append(toinsert);\n",
       "      return toinsert\n",
       "    }\n",
       "\n",
       "    /* Handle when an output is cleared or removed */\n",
       "    events.on('clear_output.CodeCell', handleClearOutput);\n",
       "    events.on('delete.Cell', handleClearOutput);\n",
       "\n",
       "    /* Handle when a new output is added */\n",
       "    events.on('output_added.OutputArea', handleAddOutput);\n",
       "\n",
       "    /**\n",
       "     * Register the mime type and append_mime function with output_area\n",
       "     */\n",
       "    OutputArea.prototype.register_mime_type(EXEC_MIME_TYPE, append_mime, {\n",
       "      /* Is output safe? */\n",
       "      safe: true,\n",
       "      /* Index of renderer in `output_area.display_order` */\n",
       "      index: 0\n",
       "    });\n",
       "  }\n",
       "\n",
       "  // register the mime type if in Jupyter Notebook environment and previously unregistered\n",
       "  if (root.Jupyter !== undefined) {\n",
       "    var events = require('base/js/events');\n",
       "    var OutputArea = require('notebook/js/outputarea').OutputArea;\n",
       "\n",
       "    if (OutputArea.prototype.mime_types().indexOf(EXEC_MIME_TYPE) == -1) {\n",
       "      register_renderer(events, OutputArea);\n",
       "    }\n",
       "  }\n",
       "\n",
       "  \n",
       "  if (typeof (root._bokeh_timeout) === \"undefined\" || force === true) {\n",
       "    root._bokeh_timeout = Date.now() + 5000;\n",
       "    root._bokeh_failed_load = false;\n",
       "  }\n",
       "\n",
       "  var NB_LOAD_WARNING = {'data': {'text/html':\n",
       "     \"<div style='background-color: #fdd'>\\n\"+\n",
       "     \"<p>\\n\"+\n",
       "     \"BokehJS does not appear to have successfully loaded. If loading BokehJS from CDN, this \\n\"+\n",
       "     \"may be due to a slow or bad network connection. Possible fixes:\\n\"+\n",
       "     \"</p>\\n\"+\n",
       "     \"<ul>\\n\"+\n",
       "     \"<li>re-rerun `output_notebook()` to attempt to load from CDN again, or</li>\\n\"+\n",
       "     \"<li>use INLINE resources instead, as so:</li>\\n\"+\n",
       "     \"</ul>\\n\"+\n",
       "     \"<code>\\n\"+\n",
       "     \"from bokeh.resources import INLINE\\n\"+\n",
       "     \"output_notebook(resources=INLINE)\\n\"+\n",
       "     \"</code>\\n\"+\n",
       "     \"</div>\"}};\n",
       "\n",
       "  function display_loaded() {\n",
       "    var el = document.getElementById(\"e3470743-4b0e-4d91-9015-0e89f8ef1078\");\n",
       "    if (el != null) {\n",
       "      el.textContent = \"BokehJS is loading...\";\n",
       "    }\n",
       "    if (root.Bokeh !== undefined) {\n",
       "      if (el != null) {\n",
       "        el.textContent = \"BokehJS \" + root.Bokeh.version + \" successfully loaded.\";\n",
       "      }\n",
       "    } else if (Date.now() < root._bokeh_timeout) {\n",
       "      setTimeout(display_loaded, 100)\n",
       "    }\n",
       "  }\n",
       "\n",
       "\n",
       "  function run_callbacks() {\n",
       "    try {\n",
       "      root._bokeh_onload_callbacks.forEach(function(callback) { callback() });\n",
       "    }\n",
       "    finally {\n",
       "      delete root._bokeh_onload_callbacks\n",
       "    }\n",
       "    console.info(\"Bokeh: all callbacks have finished\");\n",
       "  }\n",
       "\n",
       "  function load_libs(js_urls, callback) {\n",
       "    root._bokeh_onload_callbacks.push(callback);\n",
       "    if (root._bokeh_is_loading > 0) {\n",
       "      console.log(\"Bokeh: BokehJS is being loaded, scheduling callback at\", now());\n",
       "      return null;\n",
       "    }\n",
       "    if (js_urls == null || js_urls.length === 0) {\n",
       "      run_callbacks();\n",
       "      return null;\n",
       "    }\n",
       "    console.log(\"Bokeh: BokehJS not loaded, scheduling load and callback at\", now());\n",
       "    root._bokeh_is_loading = js_urls.length;\n",
       "    for (var i = 0; i < js_urls.length; i++) {\n",
       "      var url = js_urls[i];\n",
       "      var s = document.createElement('script');\n",
       "      s.src = url;\n",
       "      s.async = false;\n",
       "      s.onreadystatechange = s.onload = function() {\n",
       "        root._bokeh_is_loading--;\n",
       "        if (root._bokeh_is_loading === 0) {\n",
       "          console.log(\"Bokeh: all BokehJS libraries loaded\");\n",
       "          run_callbacks()\n",
       "        }\n",
       "      };\n",
       "      s.onerror = function() {\n",
       "        console.warn(\"failed to load library \" + url);\n",
       "      };\n",
       "      console.log(\"Bokeh: injecting script tag for BokehJS library: \", url);\n",
       "      document.getElementsByTagName(\"head\")[0].appendChild(s);\n",
       "    }\n",
       "  };var element = document.getElementById(\"e3470743-4b0e-4d91-9015-0e89f8ef1078\");\n",
       "  if (element == null) {\n",
       "    console.log(\"Bokeh: ERROR: autoload.js configured with elementid 'e3470743-4b0e-4d91-9015-0e89f8ef1078' but no matching script tag was found. \")\n",
       "    return false;\n",
       "  }\n",
       "\n",
       "  var js_urls = [\"https://cdn.pydata.org/bokeh/release/bokeh-0.12.16.min.js\", \"https://cdn.pydata.org/bokeh/release/bokeh-widgets-0.12.16.min.js\", \"https://cdn.pydata.org/bokeh/release/bokeh-tables-0.12.16.min.js\", \"https://cdn.pydata.org/bokeh/release/bokeh-gl-0.12.16.min.js\"];\n",
       "\n",
       "  var inline_js = [\n",
       "    function(Bokeh) {\n",
       "      Bokeh.set_log_level(\"info\");\n",
       "    },\n",
       "    \n",
       "    function(Bokeh) {\n",
       "      \n",
       "    },\n",
       "    function(Bokeh) {\n",
       "      console.log(\"Bokeh: injecting CSS: https://cdn.pydata.org/bokeh/release/bokeh-0.12.16.min.css\");\n",
       "      Bokeh.embed.inject_css(\"https://cdn.pydata.org/bokeh/release/bokeh-0.12.16.min.css\");\n",
       "      console.log(\"Bokeh: injecting CSS: https://cdn.pydata.org/bokeh/release/bokeh-widgets-0.12.16.min.css\");\n",
       "      Bokeh.embed.inject_css(\"https://cdn.pydata.org/bokeh/release/bokeh-widgets-0.12.16.min.css\");\n",
       "      console.log(\"Bokeh: injecting CSS: https://cdn.pydata.org/bokeh/release/bokeh-tables-0.12.16.min.css\");\n",
       "      Bokeh.embed.inject_css(\"https://cdn.pydata.org/bokeh/release/bokeh-tables-0.12.16.min.css\");\n",
       "    }\n",
       "  ];\n",
       "\n",
       "  function run_inline_js() {\n",
       "    \n",
       "    if ((root.Bokeh !== undefined) || (force === true)) {\n",
       "      for (var i = 0; i < inline_js.length; i++) {\n",
       "        inline_js[i].call(root, root.Bokeh);\n",
       "      }if (force === true) {\n",
       "        display_loaded();\n",
       "      }} else if (Date.now() < root._bokeh_timeout) {\n",
       "      setTimeout(run_inline_js, 100);\n",
       "    } else if (!root._bokeh_failed_load) {\n",
       "      console.log(\"Bokeh: BokehJS failed to load within specified timeout.\");\n",
       "      root._bokeh_failed_load = true;\n",
       "    } else if (force !== true) {\n",
       "      var cell = $(document.getElementById(\"e3470743-4b0e-4d91-9015-0e89f8ef1078\")).parents('.cell').data().cell;\n",
       "      cell.output_area.append_execute_result(NB_LOAD_WARNING)\n",
       "    }\n",
       "\n",
       "  }\n",
       "\n",
       "  if (root._bokeh_is_loading === 0) {\n",
       "    console.log(\"Bokeh: BokehJS loaded, going straight to plotting\");\n",
       "    run_inline_js();\n",
       "  } else {\n",
       "    load_libs(js_urls, function() {\n",
       "      console.log(\"Bokeh: BokehJS plotting callback run at\", now());\n",
       "      run_inline_js();\n",
       "    });\n",
       "  }\n",
       "}(window));"
      ],
      "application/vnd.bokehjs_load.v0+json": "\n(function(root) {\n  function now() {\n    return new Date();\n  }\n\n  var force = true;\n\n  if (typeof (root._bokeh_onload_callbacks) === \"undefined\" || force === true) {\n    root._bokeh_onload_callbacks = [];\n    root._bokeh_is_loading = undefined;\n  }\n\n  \n\n  \n  if (typeof (root._bokeh_timeout) === \"undefined\" || force === true) {\n    root._bokeh_timeout = Date.now() + 5000;\n    root._bokeh_failed_load = false;\n  }\n\n  var NB_LOAD_WARNING = {'data': {'text/html':\n     \"<div style='background-color: #fdd'>\\n\"+\n     \"<p>\\n\"+\n     \"BokehJS does not appear to have successfully loaded. If loading BokehJS from CDN, this \\n\"+\n     \"may be due to a slow or bad network connection. Possible fixes:\\n\"+\n     \"</p>\\n\"+\n     \"<ul>\\n\"+\n     \"<li>re-rerun `output_notebook()` to attempt to load from CDN again, or</li>\\n\"+\n     \"<li>use INLINE resources instead, as so:</li>\\n\"+\n     \"</ul>\\n\"+\n     \"<code>\\n\"+\n     \"from bokeh.resources import INLINE\\n\"+\n     \"output_notebook(resources=INLINE)\\n\"+\n     \"</code>\\n\"+\n     \"</div>\"}};\n\n  function display_loaded() {\n    var el = document.getElementById(\"e3470743-4b0e-4d91-9015-0e89f8ef1078\");\n    if (el != null) {\n      el.textContent = \"BokehJS is loading...\";\n    }\n    if (root.Bokeh !== undefined) {\n      if (el != null) {\n        el.textContent = \"BokehJS \" + root.Bokeh.version + \" successfully loaded.\";\n      }\n    } else if (Date.now() < root._bokeh_timeout) {\n      setTimeout(display_loaded, 100)\n    }\n  }\n\n\n  function run_callbacks() {\n    try {\n      root._bokeh_onload_callbacks.forEach(function(callback) { callback() });\n    }\n    finally {\n      delete root._bokeh_onload_callbacks\n    }\n    console.info(\"Bokeh: all callbacks have finished\");\n  }\n\n  function load_libs(js_urls, callback) {\n    root._bokeh_onload_callbacks.push(callback);\n    if (root._bokeh_is_loading > 0) {\n      console.log(\"Bokeh: BokehJS is being loaded, scheduling callback at\", now());\n      return null;\n    }\n    if (js_urls == null || js_urls.length === 0) {\n      run_callbacks();\n      return null;\n    }\n    console.log(\"Bokeh: BokehJS not loaded, scheduling load and callback at\", now());\n    root._bokeh_is_loading = js_urls.length;\n    for (var i = 0; i < js_urls.length; i++) {\n      var url = js_urls[i];\n      var s = document.createElement('script');\n      s.src = url;\n      s.async = false;\n      s.onreadystatechange = s.onload = function() {\n        root._bokeh_is_loading--;\n        if (root._bokeh_is_loading === 0) {\n          console.log(\"Bokeh: all BokehJS libraries loaded\");\n          run_callbacks()\n        }\n      };\n      s.onerror = function() {\n        console.warn(\"failed to load library \" + url);\n      };\n      console.log(\"Bokeh: injecting script tag for BokehJS library: \", url);\n      document.getElementsByTagName(\"head\")[0].appendChild(s);\n    }\n  };var element = document.getElementById(\"e3470743-4b0e-4d91-9015-0e89f8ef1078\");\n  if (element == null) {\n    console.log(\"Bokeh: ERROR: autoload.js configured with elementid 'e3470743-4b0e-4d91-9015-0e89f8ef1078' but no matching script tag was found. \")\n    return false;\n  }\n\n  var js_urls = [\"https://cdn.pydata.org/bokeh/release/bokeh-0.12.16.min.js\", \"https://cdn.pydata.org/bokeh/release/bokeh-widgets-0.12.16.min.js\", \"https://cdn.pydata.org/bokeh/release/bokeh-tables-0.12.16.min.js\", \"https://cdn.pydata.org/bokeh/release/bokeh-gl-0.12.16.min.js\"];\n\n  var inline_js = [\n    function(Bokeh) {\n      Bokeh.set_log_level(\"info\");\n    },\n    \n    function(Bokeh) {\n      \n    },\n    function(Bokeh) {\n      console.log(\"Bokeh: injecting CSS: https://cdn.pydata.org/bokeh/release/bokeh-0.12.16.min.css\");\n      Bokeh.embed.inject_css(\"https://cdn.pydata.org/bokeh/release/bokeh-0.12.16.min.css\");\n      console.log(\"Bokeh: injecting CSS: https://cdn.pydata.org/bokeh/release/bokeh-widgets-0.12.16.min.css\");\n      Bokeh.embed.inject_css(\"https://cdn.pydata.org/bokeh/release/bokeh-widgets-0.12.16.min.css\");\n      console.log(\"Bokeh: injecting CSS: https://cdn.pydata.org/bokeh/release/bokeh-tables-0.12.16.min.css\");\n      Bokeh.embed.inject_css(\"https://cdn.pydata.org/bokeh/release/bokeh-tables-0.12.16.min.css\");\n    }\n  ];\n\n  function run_inline_js() {\n    \n    if ((root.Bokeh !== undefined) || (force === true)) {\n      for (var i = 0; i < inline_js.length; i++) {\n        inline_js[i].call(root, root.Bokeh);\n      }if (force === true) {\n        display_loaded();\n      }} else if (Date.now() < root._bokeh_timeout) {\n      setTimeout(run_inline_js, 100);\n    } else if (!root._bokeh_failed_load) {\n      console.log(\"Bokeh: BokehJS failed to load within specified timeout.\");\n      root._bokeh_failed_load = true;\n    } else if (force !== true) {\n      var cell = $(document.getElementById(\"e3470743-4b0e-4d91-9015-0e89f8ef1078\")).parents('.cell').data().cell;\n      cell.output_area.append_execute_result(NB_LOAD_WARNING)\n    }\n\n  }\n\n  if (root._bokeh_is_loading === 0) {\n    console.log(\"Bokeh: BokehJS loaded, going straight to plotting\");\n    run_inline_js();\n  } else {\n    load_libs(js_urls, function() {\n      console.log(\"Bokeh: BokehJS plotting callback run at\", now());\n      run_inline_js();\n    });\n  }\n}(window));"
     },
     "metadata": {},
     "output_type": "display_data"
    }
   ],
   "source": [
    "output_notebook()"
   ]
  },
  {
   "cell_type": "code",
   "execution_count": 4,
   "metadata": {
    "collapsed": true
   },
   "outputs": [],
   "source": [
    "def make_query(param=None):\n",
    "    '''\n",
    "    Returns the MongoDB query for a lblnew \n",
    "    run's document.\n",
    "    \n",
    "    Parameters\n",
    "    ----------\n",
    "    param: dict\n",
    "    lblnew-bestfit input parameters.\n",
    "    '''\n",
    "    return {'param.' + name: value for name, value in param.items()}   "
   ]
  },
  {
   "cell_type": "code",
   "execution_count": 5,
   "metadata": {
    "collapsed": true
   },
   "outputs": [],
   "source": [
    "def print_input_param():\n",
    "    '''\n",
    "    Print to screen the input parameters \n",
    "    of the lblnew run.\n",
    "    '''\n",
    "    for name, value in sorted(PARAM.items()):\n",
    "        print(f'{name} = {value}')"
   ]
  },
  {
   "cell_type": "code",
   "execution_count": 6,
   "metadata": {
    "collapsed": true
   },
   "outputs": [],
   "source": [
    "def fmt_cool(ds_in):\n",
    "    ds = ds_in.copy(deep=True)\n",
    "    \n",
    "    if 'i' in ds.dims:                                                                                               \n",
    "        ds = ds.sel(i=ds.dims['i']) \n",
    "        \n",
    "    if 'band' in ds.dims:\n",
    "        try:\n",
    "            ds = ds.squeeze('band')\n",
    "        except ValueError:\n",
    "            ds = ds.sum('band') \n",
    "            \n",
    "    return ds['coolrg']\n",
    "\n",
    "\n",
    "\n",
    "def pltdata_cool(g=None):\n",
    "    '''\n",
    "    Define the plotting data for cooling rate\n",
    "    profile plots.  Add/remove entries in\n",
    "    the `data` list.\n",
    "    \n",
    "    Parameters\n",
    "    ----------\n",
    "    g: int\n",
    "        g-interval to be plotted.  If None,\n",
    "        the sum over all g-intervals will be\n",
    "        plotted.\n",
    "    data: dict\n",
    "        Plot data, including colour, line attributes, etc.\n",
    "    '''\n",
    "    colors = all_palettes['Set1'][4]\n",
    "    \n",
    "    if g == None:\n",
    "        ds_cool_crd = DS_COOL_CRD.sum('g')\n",
    "        ds_cool_wgt = DS_COOL_WGT.sum('g')\n",
    "    else:\n",
    "        ds_cool_crd = DS_COOL_CRD.sel(g=g)\n",
    "        ds_cool_wgt = DS_COOL_WGT.sel(g=g)\n",
    "    \n",
    "    data = [\n",
    "        {'label': 'CRD',\n",
    "         'srs': fmt_cool(ds_cool_crd),\n",
    "         'line_dash': 'solid', 'line_width':1.5,\n",
    "         'marker': 'circle', 'mark_size': 5,\n",
    "         'color': colors[2], 'alpha': 1},\n",
    "        {'label': 'WGT igg=1',\n",
    "         'srs': fmt_cool(ds_cool_wgt.sel(igg=1)),\n",
    "         'line_dash': 'solid', 'line_width': 3,\n",
    "         'marker': 'square', 'marker_size': 5,\n",
    "         'color': colors[3], 'alpha': .6},\n",
    "        {'label': 'WGT igg=10',\n",
    "         'srs': fmt_cool(ds_cool_wgt.sel(igg=10)),\n",
    "         'line_dash': 'solid', 'line_width': 2,\n",
    "         'marker': 'triangle', 'marker_size': 2,\n",
    "         'color': colors[1], 'alpha': .3}]\n",
    "    return data\n",
    "\n",
    "\n",
    "\n",
    "def plt_cool(pltdata=None):\n",
    "    '''\n",
    "    Plot cooling rate profiles on linear\n",
    "    and log pressure axes.\n",
    "    \n",
    "    Parameters\n",
    "    ----------\n",
    "    pltdata: dict\n",
    "        Plot data, including colour, line attributes, etc.\n",
    "    everything: bokeh.models.layouts.Column\n",
    "        Cooling rate profile plot.\n",
    "    '''\n",
    "    plin = plt_vert_profile_bokeh(pltdata=pltdata, \n",
    "                                  y_axis_type='linear',\n",
    "                                  prange=(50, 1050))\n",
    "    plin.plot_width, plin.plot_height = 400, 500\n",
    "    \n",
    "    plog = plt_vert_profile_bokeh(pltdata=pltdata,\n",
    "                                  y_axis_type='log',\n",
    "                                  prange=(.01, 200)) \n",
    "    plog.plot_width, plog.plot_height = 400, 500\n",
    "    \n",
    "    everything = gridplot(plin, plog, ncols=2)\n",
    "    return everything\n",
    "    \n",
    "    \n",
    "\n",
    "def script_plt_cool():\n",
    "    '''\n",
    "    Script to plot the cooling rate profiles\n",
    "    in each g-interval and the total \n",
    "    cooling rate profile over all g-intervals.\n",
    "    '''\n",
    "    ng = sum(PARAM['ng_refs'])\n",
    "    for g in np.arange(1, ng + 1):\n",
    "        data = pltdata_cool(g=g)\n",
    "        p = plt_cool(pltdata=data)\n",
    "        show(p)\n",
    "        display.display(\n",
    "            display.Markdown(f'*FIGURE.* Cooling rates. g={g}'))\n",
    "    \n",
    "    data = pltdata_cool()\n",
    "    p = plt_cool(pltdata=data)\n",
    "    show(p)\n",
    "    display.display(\n",
    "        display.Markdown(f'*FIGURE.* Cooling rates. Summed over g.'))\n",
    "    \n"
   ]
  },
  {
   "cell_type": "code",
   "execution_count": 7,
   "metadata": {
    "collapsed": true
   },
   "outputs": [],
   "source": [
    "def fmt_flux(ds_in, ilevels=None):\n",
    "    ds = ds_in.copy(deep=True)\n",
    "    \n",
    "    for l in ('level', 'layer'):\n",
    "        if l in ds.data_vars:\n",
    "            if len(ds[l].dims) > 1:\n",
    "                surface = {d: 0 for d in ds.dims if d != 'pressure'}\n",
    "                coord_level = ds[l][surface]\n",
    "                ds.coords[l] = ('pressure', coord_level)\n",
    "            else:\n",
    "                ds.coords[l] = ('pressure', ds[l])\n",
    "    \n",
    "    if ilevels:\n",
    "        ds = ds.isel(pressure=ilevels)\n",
    "\n",
    "    if 'i' in ds.dims:                                                                                               \n",
    "        ds = ds.sel(i=ds.dims['i'])\n",
    "        \n",
    "    if 'igg' in ds.dims:\n",
    "        ds = ds.squeeze('igg').drop('igg')\n",
    "            \n",
    "    if 'band' in ds.dims:\n",
    "        try:\n",
    "            ds = ds.squeeze('band').drop('band')\n",
    "        except ValueError:\n",
    "            ds = ds.sum('band')\n",
    "                \n",
    "    df = ds.to_dataframe()\n",
    "    df = df.set_index('level', append=True)               \n",
    "    return df\n",
    "\n",
    "\n",
    "def tbdata_flux():\n",
    "    '''\n",
    "    Define the flux data to be tabulated for\n",
    "    the g-intervals.  Add/remove entries in the\n",
    "    `tbs` list.\n",
    "    \n",
    "    Parameters\n",
    "    ----------\n",
    "    data: dict\n",
    "        Flux data, including how each set is to be\n",
    "        labeled in the output table.\n",
    "    '''\n",
    "    tropopauses = {'mls': 40, 'saw': 45, 'trp': 37}\n",
    "    atmpro = PARAM['atmpro']\n",
    "    ilevels = [0, tropopauses[atmpro], -1]\n",
    "    \n",
    "    benchmark = {'label': 'CRD',\n",
    "                 'df': fmt_flux(DS_FLUX_CRD, ilevels=ilevels)}\n",
    "    \n",
    "    tbs = [{'label': 'WGT igg=1',\n",
    "            'df': fmt_flux(DS_FLUX_WGT.sel(igg=[1]), ilevels=ilevels)},\n",
    "           {'label': 'WGT igg=10',\n",
    "            'df': fmt_flux(DS_FLUX_WGT.sel(igg=[10]), ilevels=ilevels)}]\n",
    "    \n",
    "    data = {'benchmark': benchmark, 'others': tbs}\n",
    "    return data\n",
    "\n",
    "\n",
    "\n",
    "def tbdata_flux_sumg():\n",
    "    '''\n",
    "    Define the total flux data, over all g-intervals,\n",
    "    to be tabulated.\n",
    "    \n",
    "    Parameters\n",
    "    ----------\n",
    "    data: dict\n",
    "        Flux data, including how each set is to e\n",
    "        labeled in the output table.\n",
    "    '''\n",
    "    tropopauses = {'mls': 40, 'saw': 45, 'trp': 37}\n",
    "    \n",
    "    atmpro = PARAM['atmpro']\n",
    "    ilevels = [0, tropopauses[atmpro], -1]\n",
    "    \n",
    "    benchmark = {'label': 'CRD',\n",
    "                 'df': fmt_flux(DS_FLUX_CRD.sum('g'), ilevels=ilevels)}\n",
    "    \n",
    "    tbs = [{'label': 'WGT igg=1',\n",
    "            'df': fmt_flux(DS_FLUX_WGT.sel(igg=[1]).sum('g'), \n",
    "                           ilevels=ilevels)},\n",
    "           {'label': 'WGT igg=10',\n",
    "            'df': fmt_flux(DS_FLUX_WGT.sel(igg=[10]).sum('g'), \n",
    "                           ilevels=ilevels)}]\n",
    "    \n",
    "    data = {'benchmark': benchmark, 'others': tbs}\n",
    "    return data\n",
    "\n",
    "\n",
    "def tb_flux(tbdata=None):\n",
    "    '''\n",
    "    Display flux table for each set, and display\n",
    "    the difference between each set and the set\n",
    "    that is specified to be the benchmark.\n",
    "    \n",
    "    Parameters\n",
    "    ----------\n",
    "    tbdata: dict\n",
    "        Flux data, including how each set it to be\n",
    "        labeled in the output table.\n",
    "    '''\n",
    "    benchmark = tbdata['benchmark']\n",
    "    others = tbdata['others']\n",
    "    \n",
    "    def show_tb(d=None):\n",
    "        display.display(d['df'])\n",
    "        display.display(display.Markdown(\n",
    "            f\"*TABLE.* Fluxes. {d['label']}\"))\n",
    "        \n",
    "    def show_tbdiff(d0=None, d=None):\n",
    "        df = d['df']\n",
    "        df.index = d0['df'].index\n",
    "        display.display(df - d0['df'])\n",
    "        display.display(display.Markdown(\n",
    "            f\"*TABLE.* Fluxes. ({d['label']}) - ({d0['label']})\"))\n",
    "        \n",
    "    show_tb(benchmark)\n",
    "    for d in others:\n",
    "        show_tb(d)\n",
    "        \n",
    "    for d in others:\n",
    "        show_tbdiff(d=d, d0=benchmark)\n",
    "        \n",
    "\n",
    "        \n",
    "def script_tb_flux():\n",
    "    '''\n",
    "    Script to display the flux tables in \n",
    "    each g-interval, and the flux table\n",
    "    for the total flux, over all g-intervals.\n",
    "    '''\n",
    "    tb_flux(tbdata=tbdata_flux())\n",
    "    tb_flux(tbdata=tbdata_flux_sumg())\n"
   ]
  },
  {
   "cell_type": "code",
   "execution_count": 8,
   "metadata": {
    "collapsed": true
   },
   "outputs": [],
   "source": [
    "def script_gsummary():\n",
    "    '''\n",
    "    Script to display how the g-intervals\n",
    "    are defined according the hyperparameters\n",
    "    chosen for this lblnew-bestfit run.\n",
    "    '''\n",
    "    ng_refs = PARAM['ng_refs']\n",
    "    p_refs = list(zip(*PARAM['ref_pts']))[0]\n",
    "    ng = sum(ng_refs)\n",
    "    df_abscom = pd.read_csv(io.StringIO(DOC['abscom']), \n",
    "                            sep=r'\\s+', index_col=[0])\n",
    "    df_dgdgs = pd.read_csv(io.StringIO(DOC['dgdgs']), \n",
    "                            sep=r'\\s+', index_col=[0])\n",
    "    \n",
    "    # absth(g + 1) / absth(g)\n",
    "    df_abscom_copy = df_abscom.copy()\n",
    "    df_abscom_copy.index = df_abscom.index + 1\n",
    "    df_absratio = df_abscom / df_abscom_copy\n",
    "    df_absratio.columns = ['k(ig) / k(ig - 1)']\n",
    "    df_absratio = df_absratio.loc[: ng]    \n",
    "    \n",
    "    df_dgdgs_cumsum = df_dgdgs.cumsum(axis=0)\n",
    "    df_dgdgs_cumsum.columns = ['dg cumsum', 'dgs cumsum']\n",
    "    \n",
    "    data_pref = np.concatenate([p_ref * np.ones((ng_ref,)) \n",
    "                                for ng_ref, p_ref \n",
    "                                in zip(ng_refs, p_refs)], axis=0)\n",
    "    df_pref = pd.DataFrame(data_pref, \n",
    "                           index=df_dgdgs.index, columns=['pref'])\n",
    "    \n",
    "    df_all = pd.concat([df_abscom, df_absratio,\n",
    "                        df_dgdgs, df_dgdgs_cumsum,\n",
    "                        df_pref], axis=1) \n",
    "    \n",
    "    display.display(df_all)\n",
    "    display.display(display.Markdown(\n",
    "        (f\"TABLE. g-interval summary.  \"\n",
    "         f\"*abscom* is the lower bound of the g-interval.\")))\n",
    "    \n"
   ]
  },
  {
   "cell_type": "code",
   "execution_count": 9,
   "metadata": {
    "collapsed": true
   },
   "outputs": [],
   "source": [
    "def script_flux_to_excel():\n",
    "    '''\n",
    "    Script to save the lblnew-bestfit run's\n",
    "    output flux to excel file and display the\n",
    "    link to download the excel file.\n",
    "    '''\n",
    "    fname = 'lblnew-bestfit_flux.xlsx'\n",
    "    writer = pd.ExcelWriter(fname)\n",
    "    \n",
    "    ds = DS_FLUX_CRD\n",
    "    for g in ds.coords['g']:\n",
    "        df = ds.sel(g=g).to_dataframe()\n",
    "        df.to_excel(writer, f'crd flux g={int(g)}')\n",
    "                \n",
    "    ds = DS_FLUX_WGT\n",
    "    for g in ds.coords['g']:\n",
    "        df = ds.sel(g=g, igg=1).to_dataframe()\n",
    "        df.to_excel(writer, f'wgt igg=1 flux g={int(g)}')\n",
    "        \n",
    "        df = ds.sel(g=g, igg=10).to_dataframe()\n",
    "        df.to_excel(writer, f'wgt igg=10 flux g={int(g)}')\n",
    "        \n",
    "    writer.save()    \n",
    "    html_download = f'Download: <a href=\"./{fname}\">{fname}</a>'\n",
    "    display.display(display.HTML(html_download))\n",
    "\n",
    "\n",
    "def script_cool_to_excel():\n",
    "    '''\n",
    "    Script to save the lblnew-bestfit run's\n",
    "    output cooling rate to excel file and display\n",
    "    the link to download the excel file.\n",
    "    '''\n",
    "    fname = 'lblnew-bestfit_cool.xlsx'\n",
    "    writer = pd.ExcelWriter(fname)\n",
    "    \n",
    "    ds = DS_COOL_CRD\n",
    "    for g in ds.coords['g']:\n",
    "        df = ds.sel(g=g).to_dataframe()\n",
    "        df.to_excel(writer, f'crd cool g={int(g)}')\n",
    "        \n",
    "    ds = DS_COOL_WGT\n",
    "    for g in ds.coords['g']:\n",
    "        df = ds.sel(g=g, igg=1).to_dataframe()\n",
    "        df.to_excel(writer, f'wgt igg=1 cool g={int(g)}')\n",
    "        \n",
    "        df = ds.sel(g=g, igg=10).to_dataframe()\n",
    "        df.to_excel(writer, f'wgt igg=10 cool g={int(g)}')\n",
    "        \n",
    "    writer.save()\n",
    "    html_download = f'Download: <a href=\"./{fname}\">{fname}</a>'\n",
    "    display.display(display.HTML(html_download))"
   ]
  },
  {
   "cell_type": "code",
   "execution_count": 10,
   "metadata": {
    "collapsed": true
   },
   "outputs": [],
   "source": [
    "def show_html(s):\n",
    "    display.display(display.HTML(s))\n",
    "\n",
    "    \n",
    "def show_markdown(s):\n",
    "    display.display(display.Markdown(s))"
   ]
  },
  {
   "cell_type": "code",
   "execution_count": 11,
   "metadata": {
    "collapsed": true
   },
   "outputs": [],
   "source": [
    "def script():\n",
    "    title = ('### lblnew-bestfit' \n",
    "             if 'ng_refs' in PARAM else '### lblnew-overlap')\n",
    "    s_input = 'Input Parameters'\n",
    "    s_plt_cool = 'Cooling Rate Profiles'\n",
    "    s_tb_flux = 'Flux Comparison'\n",
    "    s_gsummary = 'g-interval Summary'\n",
    "    s_download = 'Download Data'\n",
    "    \n",
    "    # title\n",
    "    show_markdown(title)\n",
    "    \n",
    "    # TOC\n",
    "    show_markdown('### Table of Contents')\n",
    "    show_html(climahtml.getHTML_hrefanchor(s_input))\n",
    "    show_html(climahtml.getHTML_hrefanchor(s_plt_cool))\n",
    "    show_html(climahtml.getHTML_hrefanchor(s_tb_flux))\n",
    "    show_html(climahtml.getHTML_hrefanchor(s_gsummary))\n",
    "    show_html(climahtml.getHTML_hrefanchor(s_download))\n",
    "    \n",
    "    # Input parameters\n",
    "    show_html(climahtml.getHTML_idanchor(s_input))\n",
    "    show_markdown(climahtml.getMarkdown_sectitle(s_input))\n",
    "    print_input_param()\n",
    "    \n",
    "    # Cooling rate profiles\n",
    "    show_html(climahtml.getHTML_idanchor(s_plt_cool))\n",
    "    show_markdown(climahtml.getMarkdown_sectitle(s_plt_cool))\n",
    "    script_plt_cool()\n",
    "    \n",
    "    # Flux comparison\n",
    "    show_html(climahtml.getHTML_idanchor(s_tb_flux))\n",
    "    show_markdown(climahtml.getMarkdown_sectitle(s_tb_flux))\n",
    "    script_tb_flux()\n",
    "    \n",
    "    # g-interval summary\n",
    "    show_html(climahtml.getHTML_idanchor(s_gsummary))\n",
    "    show_markdown(climahtml.getMarkdown_sectitle(s_gsummary))\n",
    "    script_gsummary()\n",
    "    \n",
    "    # Download cooling rate and fluxes\n",
    "    show_html(climahtml.getHTML_idanchor(s_download))\n",
    "    show_markdown(climahtml.getMarkdown_sectitle(s_download))\n",
    "    script_flux_to_excel()\n",
    "    script_cool_to_excel()"
   ]
  },
  {
   "cell_type": "code",
   "execution_count": 12,
   "metadata": {
    "collapsed": true
   },
   "outputs": [],
   "source": [
    "%run param.py\n",
    "\n",
    "client = pymongo.MongoClient('localhost', 27017, connect=False)\n",
    "db = client.lblnew\n",
    "\n",
    "\n",
    "DOC = db.bestfit_lw.find_one(make_query(param=PARAM))\n",
    "DS_FLUX_CRD = load_output_file(io.StringIO(DOC['output_fluxg']))\n",
    "DS_COOL_CRD = load_output_file(io.StringIO(DOC['output_coolrg']))\n",
    "DS_FLUX_WGT = load_output_file(io.StringIO(DOC['output_wfluxg']))\n",
    "DS_COOL_WGT = load_output_file(io.StringIO(DOC['output_wcoolrg']))"
   ]
  },
  {
   "cell_type": "code",
   "execution_count": 13,
   "metadata": {
    "scrolled": false
   },
   "outputs": [
    {
     "data": {
      "text/markdown": [
       "### lblnew-bestfit"
      ],
      "text/plain": [
       "<IPython.core.display.Markdown object>"
      ]
     },
     "metadata": {},
     "output_type": "display_data"
    },
    {
     "data": {
      "text/markdown": [
       "### Table of Contents"
      ],
      "text/plain": [
       "<IPython.core.display.Markdown object>"
      ]
     },
     "metadata": {},
     "output_type": "display_data"
    },
    {
     "data": {
      "text/html": [
       "<a href=\"#Input_Parameters\">Input Parameters</a>"
      ],
      "text/plain": [
       "<IPython.core.display.HTML object>"
      ]
     },
     "metadata": {},
     "output_type": "display_data"
    },
    {
     "data": {
      "text/html": [
       "<a href=\"#Cooling_Rate_Profiles\">Cooling Rate Profiles</a>"
      ],
      "text/plain": [
       "<IPython.core.display.HTML object>"
      ]
     },
     "metadata": {},
     "output_type": "display_data"
    },
    {
     "data": {
      "text/html": [
       "<a href=\"#Flux_Comparison\">Flux Comparison</a>"
      ],
      "text/plain": [
       "<IPython.core.display.HTML object>"
      ]
     },
     "metadata": {},
     "output_type": "display_data"
    },
    {
     "data": {
      "text/html": [
       "<a href=\"#g-interval_Summary\">g-interval Summary</a>"
      ],
      "text/plain": [
       "<IPython.core.display.HTML object>"
      ]
     },
     "metadata": {},
     "output_type": "display_data"
    },
    {
     "data": {
      "text/html": [
       "<a href=\"#Download_Data\">Download Data</a>"
      ],
      "text/plain": [
       "<IPython.core.display.HTML object>"
      ]
     },
     "metadata": {},
     "output_type": "display_data"
    },
    {
     "data": {
      "text/html": [
       "<a id=\"Input_Parameters\"></a>"
      ],
      "text/plain": [
       "<IPython.core.display.HTML object>"
      ]
     },
     "metadata": {},
     "output_type": "display_data"
    },
    {
     "data": {
      "text/markdown": [
       "# Input Parameters"
      ],
      "text/plain": [
       "<IPython.core.display.Markdown object>"
      ]
     },
     "metadata": {},
     "output_type": "display_data"
    },
    {
     "name": "stdout",
     "output_type": "stream",
     "text": [
      "atmpro = mls\n",
      "band = 7\n",
      "commitnumber = 5014a19\n",
      "conc = 3.2e-07\n",
      "dv = 0.001\n",
      "klin = 2.22e-20\n",
      "molecule = n2o\n",
      "ng_adju = [0, 0]\n",
      "ng_refs = [2, 2]\n",
      "nv = 1000\n",
      "option_compute_btable = 0\n",
      "option_compute_ktable = 0\n",
      "option_wgt_flux = 1\n",
      "option_wgt_k = 1\n",
      "ref_pts = [(1, 250), (500, 250)]\n",
      "tsfc = 294\n",
      "vmax = 1380\n",
      "vmin = 1215\n",
      "w_diffuse = [(1.8, 1.66), (1.6, 1.8)]\n",
      "wgt = [(0.6, 0.5), (0.6, 0.9)]\n"
     ]
    },
    {
     "data": {
      "text/html": [
       "<a id=\"Cooling_Rate_Profiles\"></a>"
      ],
      "text/plain": [
       "<IPython.core.display.HTML object>"
      ]
     },
     "metadata": {},
     "output_type": "display_data"
    },
    {
     "data": {
      "text/markdown": [
       "# Cooling Rate Profiles"
      ],
      "text/plain": [
       "<IPython.core.display.Markdown object>"
      ]
     },
     "metadata": {},
     "output_type": "display_data"
    },
    {
     "data": {
      "text/html": [
       "\n",
       "<div class=\"bk-root\">\n",
       "    <div class=\"bk-plotdiv\" id=\"96a322e6-1017-454c-b943-4d2c28fbbb57\"></div>\n",
       "</div>"
      ]
     },
     "metadata": {},
     "output_type": "display_data"
    },
    {
     "data": {
      "application/javascript": [
       "(function(root) {\n",
       "  function embed_document(root) {\n",
       "    \n",
       "  var docs_json = {\"82bcf4b9-cd1f-4e62-9120-8b0ccf239bb2\":{\"roots\":{\"references\":[{\"attributes\":{\"callback\":null,\"end\":0.01,\"start\":1020},\"id\":\"bb35b57f-962f-43ab-b6b3-5fbdc5532472\",\"type\":\"Range1d\"},{\"attributes\":{\"fill_alpha\":{\"value\":0.7},\"fill_color\":{\"value\":\"#4daf4a\"},\"line_alpha\":{\"value\":0.7},\"line_color\":{\"value\":\"#4daf4a\"},\"x\":{\"field\":\"x\"},\"y\":{\"field\":\"y\"}},\"id\":\"7c91a7e9-f326-4fb2-a721-6f36acc1f2e2\",\"type\":\"Circle\"},{\"attributes\":{\"label\":{\"value\":\"CRD\"},\"renderers\":[{\"id\":\"d536ac59-8052-4b61-8a67-c8f818b3181a\",\"type\":\"GlyphRenderer\"},{\"id\":\"78821f97-4eb4-44ab-baa6-1b31a223cd03\",\"type\":\"GlyphRenderer\"}]},\"id\":\"1a6332c2-41a5-4009-940a-6a7ade472b46\",\"type\":\"LegendItem\"},{\"attributes\":{\"callback\":null,\"data\":{\"x\":{\"__ndarray__\":\"N//fc4gBkL+IykfRUa6Pv7A5b7L5946/aZg6xTMzjr/+FgcRVWqNv2O1LHF6nYy/Ia9dk5vMi79bO0xZWACLv1hk+nnhO4q/yH9OL5t6ib848JjxHraIv5XvrOyhzoe/YBJpRv/+hr+0Iyt4NzqGv78BTGp/n4O/RNbC/+nMdb8fkWmH3KBfPw/1n1sGoYY/VeRP1bbBlj+eWS711VCiP60AhrWWoao/jf3ZTfg+sj/9e0mT7aS2Pz+7iF5ihrY/gyWTXa02sj/j2PkFW++qP2KwtdPjsqI/vacFPiU4mD/k0W9aThSNP80zpLn2Rn8/msCxBu/0aT9U+fPLSOE6PzpYEcvsR0i/MyDKcZH9T7/TsousMJJRv+hK1rqzQ1O/I13sbPrCU78+d1nHxVVUv8VlOWo8gVa/c5zjrKSmWL8+HzH3WiJYv1WYdNw0a1W/T0HRx7vtUr8f4dbKNPRQv9dF2XRnmk6/X8URGeSxS78Pd3sMzQlJv6TFC9MhjEa/J7DsINIsRL9dUbzoBOdBvx2ndVnngj+/3+AkY9yGO7+NgnQFq9o3v/FCTmmKajS/2f35S68YMb8L2kfocpcrv6DtiyJo5yS/mYo+vg8aHL+Wa9QvfO0Lv4hWabxxxsU+dtHjOVPPDz8dCTXKZ8kfP/4AgOUyMig/94XPmelvMD/6L3cEv/I0Pw6SQXRGjjk/LXpkq2kOPj8NDVhnqgxBP+P+BJrJr0I/EBPS7wLyQz9HtgLKVf9EP77xEIC1CUY/7TJ3YN8xRz+GANHDE4tIP2J8Z9RqJ0o/\",\"dtype\":\"float64\",\"shape\":[75]},\"y\":{\"__ndarray__\":\"GhExyth1ND/Sv8nbtpRIP2vylNV0PVE/aTum7souWD/At0SJ8fVgPw3Iuahxymc/MSNhhJWvcD/bTfBN02d3P2zb5nxnaoA/CD5h5MAGhz8NmeH1TyaQP+zrCsc9p5Y/LbKd76fGnz/bLW5ISEmmPww9YvTcQq8/JV2OstnstT8Er5Y7M8G+P0c+r3jqkcU/5h99k6ZBzj88bCIzFzjVP4enV8oyxN0//yH99nXg5D8qOpLLf0jtP5kqGJXUifQ/c9cS8kHP/D+/DpwzojQEQIEmwoanVwxA4lgXt9HgE0BSSZ2AJuIbQAMJih9jjiNA5q4l5INuK0AwTKYKRj0zQNv5fmq8/DpAaCJseHrtQkB/+zpwzoxKQM3MzMzMeFJAZmZmZmZqWEAAAAAAAFxeQM3MzMzMJmJAmpmZmZkfZUBmZmZmZhhoQDMzMzMzEWtAAAAAAAAKbkBmZmZmZoFwQM3MzMzM/XFAMzMzMzN6c0CamZmZmfZ0QAAAAAAAc3ZAZmZmZmbvd0DNzMzMzGt5QDMzMzMz6HpAmpmZmZlkfEAAAAAAAOF9QGZmZmZmXX9AZmZmZuZsgECamZmZGSuBQM3MzMxM6YFAAAAAAICngkAzMzMzs2WDQGZmZmbmI4RAmpmZmRnihEDNzMzMTKCFQAAAAACAXoZAMzMzM7Mch0BmZmZm5tqHQJqZmZkZmYhAzczMzExXiUAAAAAAgBWKQDMzMzOz04pAZmZmZuaRi0CamZmZGVCMQM3MzMxMDo1AAAAAAIDMjUAzMzMzs4qOQGZmZmbmSI9A\",\"dtype\":\"float64\",\"shape\":[75]}},\"selected\":{\"id\":\"7aadce26-070a-4758-a1a8-51c29c7a5ad4\",\"type\":\"Selection\"},\"selection_policy\":{\"id\":\"d3a29f99-b9a5-4d0f-b9ec-e751d3ff1b36\",\"type\":\"UnionRenderers\"}},\"id\":\"971cbffd-43e1-40b3-ab95-47b7f39edf97\",\"type\":\"ColumnDataSource\"},{\"attributes\":{},\"id\":\"7d083b9b-f78e-418f-b354-36e0d3bf81a3\",\"type\":\"UnionRenderers\"},{\"attributes\":{\"label\":{\"value\":\"WGT igg=1\"},\"renderers\":[{\"id\":\"ef362289-59cc-49f2-a178-b0335f005190\",\"type\":\"GlyphRenderer\"},{\"id\":\"6d8389c1-7c35-482b-b259-b0a09fbd572b\",\"type\":\"GlyphRenderer\"}]},\"id\":\"7e3df37b-f0ec-4ea9-804e-d0c44dc5448c\",\"type\":\"LegendItem\"},{\"attributes\":{\"plot\":null,\"text\":\"\"},\"id\":\"c8a4bfce-c229-45ea-95e2-ad842fb2d521\",\"type\":\"Title\"},{\"attributes\":{\"label\":{\"value\":\"WGT igg=10\"},\"renderers\":[{\"id\":\"1ca38246-593a-421d-8d6e-e94eed0c4dca\",\"type\":\"GlyphRenderer\"},{\"id\":\"9f9939cf-7337-4f09-b749-7f4b55c60136\",\"type\":\"GlyphRenderer\"}]},\"id\":\"40e7e421-674e-49bc-b6d7-703552e1e3ce\",\"type\":\"LegendItem\"},{\"attributes\":{},\"id\":\"b4be0d90-59a4-4c7f-af58-03fa3eca144f\",\"type\":\"UnionRenderers\"},{\"attributes\":{},\"id\":\"a2beec87-44ff-4b0f-a052-381431b51547\",\"type\":\"BasicTickFormatter\"},{\"attributes\":{},\"id\":\"e2cca601-7442-4156-9ddc-d2fc4c4ab04f\",\"type\":\"BasicTickFormatter\"},{\"attributes\":{},\"id\":\"ec0a378d-bfc9-4245-a16b-a44ffb3543e3\",\"type\":\"Selection\"},{\"attributes\":{},\"id\":\"2bda95bf-a6f3-4d07-9404-c4be4fc0d8c6\",\"type\":\"SaveTool\"},{\"attributes\":{},\"id\":\"135e0f44-501e-48cb-ad82-45e7cdf042f0\",\"type\":\"UnionRenderers\"},{\"attributes\":{},\"id\":\"82842f0d-be00-48c9-8d06-9e14866b8ec3\",\"type\":\"UnionRenderers\"},{\"attributes\":{\"above\":[{\"id\":\"b4869711-9a6a-4c8c-9f8c-599e78ed1a4c\",\"type\":\"Legend\"}],\"below\":[{\"id\":\"bbf12f99-3663-4c0d-bbe4-c084ff374d71\",\"type\":\"LinearAxis\"}],\"left\":[{\"id\":\"8f53c4e0-8965-4a7c-aca2-93afdeb9ef6d\",\"type\":\"LogAxis\"}],\"plot_height\":500,\"plot_width\":400,\"renderers\":[{\"id\":\"bbf12f99-3663-4c0d-bbe4-c084ff374d71\",\"type\":\"LinearAxis\"},{\"id\":\"7e407f4a-3728-40a3-a7b2-186a95394bce\",\"type\":\"Grid\"},{\"id\":\"8f53c4e0-8965-4a7c-aca2-93afdeb9ef6d\",\"type\":\"LogAxis\"},{\"id\":\"29e81583-0322-4c51-afab-38bbca02fa84\",\"type\":\"Grid\"},{\"id\":\"c2e085aa-1597-4a94-8d44-75cff31ecf38\",\"type\":\"BoxAnnotation\"},{\"id\":\"d536ac59-8052-4b61-8a67-c8f818b3181a\",\"type\":\"GlyphRenderer\"},{\"id\":\"78821f97-4eb4-44ab-baa6-1b31a223cd03\",\"type\":\"GlyphRenderer\"},{\"id\":\"ef362289-59cc-49f2-a178-b0335f005190\",\"type\":\"GlyphRenderer\"},{\"id\":\"6d8389c1-7c35-482b-b259-b0a09fbd572b\",\"type\":\"GlyphRenderer\"},{\"id\":\"1ca38246-593a-421d-8d6e-e94eed0c4dca\",\"type\":\"GlyphRenderer\"},{\"id\":\"9f9939cf-7337-4f09-b749-7f4b55c60136\",\"type\":\"GlyphRenderer\"},{\"id\":\"b4869711-9a6a-4c8c-9f8c-599e78ed1a4c\",\"type\":\"Legend\"}],\"title\":{\"id\":\"c8a4bfce-c229-45ea-95e2-ad842fb2d521\",\"type\":\"Title\"},\"toolbar\":{\"id\":\"1604e86b-5317-4781-b3e1-8332db984fd5\",\"type\":\"Toolbar\"},\"toolbar_location\":null,\"x_range\":{\"id\":\"7315296d-4a60-4597-9248-a15eb989d8c0\",\"type\":\"Range1d\"},\"x_scale\":{\"id\":\"97b377d9-6c3d-484c-ab8d-6d6b9428e689\",\"type\":\"LinearScale\"},\"y_range\":{\"id\":\"bb35b57f-962f-43ab-b6b3-5fbdc5532472\",\"type\":\"Range1d\"},\"y_scale\":{\"id\":\"2cf4d11d-c64c-4937-bf10-8ea3a37729c9\",\"type\":\"LogScale\"}},\"id\":\"6473b7a1-6e8b-45e2-add0-618612c465d7\",\"subtype\":\"Figure\",\"type\":\"Plot\"},{\"attributes\":{},\"id\":\"e240a1b0-48d1-4a63-aee2-cb9cfe6a7e42\",\"type\":\"Selection\"},{\"attributes\":{\"overlay\":{\"id\":\"3d7fc05e-88b8-4822-a5a5-663865ca24cb\",\"type\":\"BoxAnnotation\"}},\"id\":\"d97c21d7-658e-4c41-bc25-4700fd780443\",\"type\":\"BoxZoomTool\"},{\"attributes\":{\"callback\":null,\"data\":{\"x\":{\"__ndarray__\":\"N//fc4gBkL+IykfRUa6Pv7A5b7L5946/aZg6xTMzjr/+FgcRVWqNv2O1LHF6nYy/Ia9dk5vMi79bO0xZWACLv1hk+nnhO4q/yH9OL5t6ib848JjxHraIv5XvrOyhzoe/YBJpRv/+hr+0Iyt4NzqGv78BTGp/n4O/RNbC/+nMdb8fkWmH3KBfPw/1n1sGoYY/VeRP1bbBlj+eWS711VCiP60AhrWWoao/jf3ZTfg+sj/9e0mT7aS2Pz+7iF5ihrY/gyWTXa02sj/j2PkFW++qP2KwtdPjsqI/vacFPiU4mD/k0W9aThSNP80zpLn2Rn8/msCxBu/0aT9U+fPLSOE6PzpYEcvsR0i/MyDKcZH9T7/TsousMJJRv+hK1rqzQ1O/I13sbPrCU78+d1nHxVVUv8VlOWo8gVa/c5zjrKSmWL8+HzH3WiJYv1WYdNw0a1W/T0HRx7vtUr8f4dbKNPRQv9dF2XRnmk6/X8URGeSxS78Pd3sMzQlJv6TFC9MhjEa/J7DsINIsRL9dUbzoBOdBvx2ndVnngj+/3+AkY9yGO7+NgnQFq9o3v/FCTmmKajS/2f35S68YMb8L2kfocpcrv6DtiyJo5yS/mYo+vg8aHL+Wa9QvfO0Lv4hWabxxxsU+dtHjOVPPDz8dCTXKZ8kfP/4AgOUyMig/94XPmelvMD/6L3cEv/I0Pw6SQXRGjjk/LXpkq2kOPj8NDVhnqgxBP+P+BJrJr0I/EBPS7wLyQz9HtgLKVf9EP77xEIC1CUY/7TJ3YN8xRz+GANHDE4tIP2J8Z9RqJ0o/\",\"dtype\":\"float64\",\"shape\":[75]},\"y\":{\"__ndarray__\":\"GhExyth1ND/Sv8nbtpRIP2vylNV0PVE/aTum7souWD/At0SJ8fVgPw3Iuahxymc/MSNhhJWvcD/bTfBN02d3P2zb5nxnaoA/CD5h5MAGhz8NmeH1TyaQP+zrCsc9p5Y/LbKd76fGnz/bLW5ISEmmPww9YvTcQq8/JV2OstnstT8Er5Y7M8G+P0c+r3jqkcU/5h99k6ZBzj88bCIzFzjVP4enV8oyxN0//yH99nXg5D8qOpLLf0jtP5kqGJXUifQ/c9cS8kHP/D+/DpwzojQEQIEmwoanVwxA4lgXt9HgE0BSSZ2AJuIbQAMJih9jjiNA5q4l5INuK0AwTKYKRj0zQNv5fmq8/DpAaCJseHrtQkB/+zpwzoxKQM3MzMzMeFJAZmZmZmZqWEAAAAAAAFxeQM3MzMzMJmJAmpmZmZkfZUBmZmZmZhhoQDMzMzMzEWtAAAAAAAAKbkBmZmZmZoFwQM3MzMzM/XFAMzMzMzN6c0CamZmZmfZ0QAAAAAAAc3ZAZmZmZmbvd0DNzMzMzGt5QDMzMzMz6HpAmpmZmZlkfEAAAAAAAOF9QGZmZmZmXX9AZmZmZuZsgECamZmZGSuBQM3MzMxM6YFAAAAAAICngkAzMzMzs2WDQGZmZmbmI4RAmpmZmRnihEDNzMzMTKCFQAAAAACAXoZAMzMzM7Mch0BmZmZm5tqHQJqZmZkZmYhAzczMzExXiUAAAAAAgBWKQDMzMzOz04pAZmZmZuaRi0CamZmZGVCMQM3MzMxMDo1AAAAAAIDMjUAzMzMzs4qOQGZmZmbmSI9A\",\"dtype\":\"float64\",\"shape\":[75]}},\"selected\":{\"id\":\"b49a8762-4543-4f79-9727-91b701a09e7f\",\"type\":\"Selection\"},\"selection_policy\":{\"id\":\"82842f0d-be00-48c9-8d06-9e14866b8ec3\",\"type\":\"UnionRenderers\"}},\"id\":\"e0d7a879-1a53-4327-9f5e-fb202e56d08c\",\"type\":\"ColumnDataSource\"},{\"attributes\":{},\"id\":\"662b4db1-ac46-4ed5-a0bb-ac726b1fa3b2\",\"type\":\"BasicTickFormatter\"},{\"attributes\":{},\"id\":\"d90a60ad-67ee-4bcd-a3ae-84aebb7ac369\",\"type\":\"UnionRenderers\"},{\"attributes\":{},\"id\":\"3e591df8-772c-4617-accc-80aa607d3103\",\"type\":\"WheelZoomTool\"},{\"attributes\":{\"fill_alpha\":{\"value\":0.1},\"fill_color\":{\"value\":\"#1f77b4\"},\"line_alpha\":{\"value\":0.1},\"line_color\":{\"value\":\"#1f77b4\"},\"x\":{\"field\":\"x\"},\"y\":{\"field\":\"y\"}},\"id\":\"cc123296-1b5d-4118-8bf2-715baefac8c6\",\"type\":\"Square\"},{\"attributes\":{},\"id\":\"b49a8762-4543-4f79-9727-91b701a09e7f\",\"type\":\"Selection\"},{\"attributes\":{},\"id\":\"8b0343b0-14bb-43c1-82ad-d796587ad925\",\"type\":\"LinearScale\"},{\"attributes\":{},\"id\":\"bcb25ca6-7dcb-42b0-9027-4952ce533d47\",\"type\":\"UnionRenderers\"},{\"attributes\":{},\"id\":\"ce926666-1d5c-4eb9-90fa-d9fc2cd31a79\",\"type\":\"UnionRenderers\"},{\"attributes\":{},\"id\":\"c5719a5f-f8ac-4138-acdd-f945753ba1fa\",\"type\":\"Selection\"},{\"attributes\":{},\"id\":\"bf1315d2-3311-4a65-bc98-c8376a5c5930\",\"type\":\"Selection\"},{\"attributes\":{\"ticker\":null},\"id\":\"56b799ff-9ad3-4827-80f1-0e83129484ca\",\"type\":\"LogTickFormatter\"},{\"attributes\":{},\"id\":\"c8fd9442-9bee-4979-93fc-0274a4766896\",\"type\":\"PanTool\"},{\"attributes\":{\"data_source\":{\"id\":\"8264426e-0817-459a-84cc-ef58c143a063\",\"type\":\"ColumnDataSource\"},\"glyph\":{\"id\":\"b45a2e52-400d-4a14-b6a2-6eb2815c2ab8\",\"type\":\"Line\"},\"hover_glyph\":null,\"muted_glyph\":null,\"nonselection_glyph\":{\"id\":\"db86361f-3a80-4379-8dab-6fde9a5b8cc5\",\"type\":\"Line\"},\"selection_glyph\":null,\"view\":{\"id\":\"bb761a53-a33f-4a50-9f0a-4248c46a0822\",\"type\":\"CDSView\"}},\"id\":\"69c954b8-8ebb-40e6-8589-a39bec670e24\",\"type\":\"GlyphRenderer\"},{\"attributes\":{\"bottom_units\":\"screen\",\"fill_alpha\":{\"value\":0.5},\"fill_color\":{\"value\":\"lightgrey\"},\"left_units\":\"screen\",\"level\":\"overlay\",\"line_alpha\":{\"value\":1.0},\"line_color\":{\"value\":\"black\"},\"line_dash\":[4,4],\"line_width\":{\"value\":2},\"plot\":null,\"render_mode\":\"css\",\"right_units\":\"screen\",\"top_units\":\"screen\"},\"id\":\"3d7fc05e-88b8-4822-a5a5-663865ca24cb\",\"type\":\"BoxAnnotation\"},{\"attributes\":{},\"id\":\"d3a29f99-b9a5-4d0f-b9ec-e751d3ff1b36\",\"type\":\"UnionRenderers\"},{\"attributes\":{\"items\":[{\"id\":\"060fc497-0bd9-452a-a998-00a14ea1f982\",\"type\":\"LegendItem\"},{\"id\":\"30ab3af8-5f9e-4a08-aab5-64d3dcd8e39c\",\"type\":\"LegendItem\"},{\"id\":\"20108cd6-eb1c-4198-b275-358f5354eeb5\",\"type\":\"LegendItem\"}],\"label_text_font_size\":{\"value\":\"8pt\"},\"location\":\"top_center\",\"orientation\":\"horizontal\",\"plot\":{\"id\":\"a4161234-4c34-4d8c-a1ab-fc2873d1200d\",\"subtype\":\"Figure\",\"type\":\"Plot\"}},\"id\":\"c3464e6e-3880-4803-96ed-c3fb78d1f224\",\"type\":\"Legend\"},{\"attributes\":{},\"id\":\"7aadce26-070a-4758-a1a8-51c29c7a5ad4\",\"type\":\"Selection\"},{\"attributes\":{},\"id\":\"5e3076e8-d115-45d3-a287-2550d04f4616\",\"type\":\"Selection\"},{\"attributes\":{},\"id\":\"aa81faab-cb41-4d03-a698-8e9253548dec\",\"type\":\"UnionRenderers\"},{\"attributes\":{},\"id\":\"cd5049bf-aa94-4a8b-805f-38fde1753553\",\"type\":\"Selection\"},{\"attributes\":{},\"id\":\"019144cb-1b66-413b-ab08-953ac323e058\",\"type\":\"Selection\"},{\"attributes\":{},\"id\":\"33166bc8-60e5-476a-8e25-aa07f8e265c5\",\"type\":\"UnionRenderers\"},{\"attributes\":{},\"id\":\"5b14fd83-7d35-4404-9b4b-ced172b580a4\",\"type\":\"ResetTool\"},{\"attributes\":{\"plot\":{\"id\":\"a4161234-4c34-4d8c-a1ab-fc2873d1200d\",\"subtype\":\"Figure\",\"type\":\"Plot\"},\"ticker\":{\"id\":\"3a28b303-6c17-4a53-9816-78cb065b21f0\",\"type\":\"BasicTicker\"}},\"id\":\"467834e4-8dd8-492c-b9fa-6383ab175296\",\"type\":\"Grid\"},{\"attributes\":{},\"id\":\"0bacf29f-bf68-40ad-9b4a-f325c1f09d1f\",\"type\":\"Selection\"},{\"attributes\":{},\"id\":\"106ceef4-f179-49fb-bc4f-e38fd02c13b8\",\"type\":\"UnionRenderers\"},{\"attributes\":{\"tools\":[{\"id\":\"c8fd9442-9bee-4979-93fc-0274a4766896\",\"type\":\"PanTool\"},{\"id\":\"3e591df8-772c-4617-accc-80aa607d3103\",\"type\":\"WheelZoomTool\"},{\"id\":\"d97c21d7-658e-4c41-bc25-4700fd780443\",\"type\":\"BoxZoomTool\"},{\"id\":\"2bda95bf-a6f3-4d07-9404-c4be4fc0d8c6\",\"type\":\"SaveTool\"},{\"id\":\"5b14fd83-7d35-4404-9b4b-ced172b580a4\",\"type\":\"ResetTool\"},{\"id\":\"7d71c514-3138-4d3c-8e8a-f1d153d554eb\",\"type\":\"HelpTool\"},{\"id\":\"ae2efa47-2218-4d0c-9f10-40f3ce70279a\",\"type\":\"PanTool\"},{\"id\":\"70793dfc-bc5a-472d-a616-eff2a4871737\",\"type\":\"WheelZoomTool\"},{\"id\":\"f2ca91c8-db69-4c8b-bc33-4e00843d3580\",\"type\":\"BoxZoomTool\"},{\"id\":\"4717f259-32a0-4ff6-b2f9-3015ea3145b5\",\"type\":\"SaveTool\"},{\"id\":\"59e19397-50c5-4794-a991-bbe2df4ef566\",\"type\":\"ResetTool\"},{\"id\":\"28ab7906-068a-4cb9-bd5b-0e3726085a09\",\"type\":\"HelpTool\"}]},\"id\":\"2e91beaa-2f63-4b51-a5bc-41aee36ab51a\",\"type\":\"ProxyToolbar\"},{\"attributes\":{},\"id\":\"7d71c514-3138-4d3c-8e8a-f1d153d554eb\",\"type\":\"HelpTool\"},{\"attributes\":{\"line_color\":\"#4daf4a\",\"line_width\":1.5,\"x\":{\"field\":\"x\"},\"y\":{\"field\":\"y\"}},\"id\":\"268b757d-c37d-4ddd-aed1-5b5aff790e2a\",\"type\":\"Line\"},{\"attributes\":{\"toolbar\":{\"id\":\"2e91beaa-2f63-4b51-a5bc-41aee36ab51a\",\"type\":\"ProxyToolbar\"},\"toolbar_location\":\"above\"},\"id\":\"147f2227-d14d-45b9-baf7-d9f3c9532ed4\",\"type\":\"ToolbarBox\"},{\"attributes\":{\"source\":{\"id\":\"8264426e-0817-459a-84cc-ef58c143a063\",\"type\":\"ColumnDataSource\"}},\"id\":\"bb761a53-a33f-4a50-9f0a-4248c46a0822\",\"type\":\"CDSView\"},{\"attributes\":{\"source\":{\"id\":\"bf3794f1-2233-4c79-bb21-8e131fa8b12e\",\"type\":\"ColumnDataSource\"}},\"id\":\"1b05cb02-ed5f-4f61-a5fa-dee57562f4c4\",\"type\":\"CDSView\"},{\"attributes\":{},\"id\":\"c0fe9d2f-c470-4f76-8754-2dd798e51eef\",\"type\":\"Selection\"},{\"attributes\":{},\"id\":\"eb2c2d6d-d419-4eba-bb0f-3649b72b6640\",\"type\":\"UnionRenderers\"},{\"attributes\":{\"children\":[{\"id\":\"147f2227-d14d-45b9-baf7-d9f3c9532ed4\",\"type\":\"ToolbarBox\"},{\"id\":\"1c38d204-80fd-4c6a-b035-9298866954f5\",\"type\":\"Column\"}]},\"id\":\"bfe556fc-ba70-41a2-8e0a-e83ca4253e1e\",\"type\":\"Column\"},{\"attributes\":{\"line_alpha\":0.1,\"line_color\":\"#1f77b4\",\"line_width\":1.5,\"x\":{\"field\":\"x\"},\"y\":{\"field\":\"y\"}},\"id\":\"db86361f-3a80-4379-8dab-6fde9a5b8cc5\",\"type\":\"Line\"},{\"attributes\":{\"data_source\":{\"id\":\"bf3794f1-2233-4c79-bb21-8e131fa8b12e\",\"type\":\"ColumnDataSource\"},\"glyph\":{\"id\":\"f2750651-f05e-4f60-8a30-b59dd1c63055\",\"type\":\"Circle\"},\"hover_glyph\":null,\"muted_glyph\":null,\"nonselection_glyph\":{\"id\":\"be3bd389-2454-44cc-9817-f124a30dc7c0\",\"type\":\"Circle\"},\"selection_glyph\":null,\"view\":{\"id\":\"1b05cb02-ed5f-4f61-a5fa-dee57562f4c4\",\"type\":\"CDSView\"}},\"id\":\"d536ac59-8052-4b61-8a67-c8f818b3181a\",\"type\":\"GlyphRenderer\"},{\"attributes\":{\"dimension\":1,\"plot\":{\"id\":\"a4161234-4c34-4d8c-a1ab-fc2873d1200d\",\"subtype\":\"Figure\",\"type\":\"Plot\"},\"ticker\":{\"id\":\"935e6704-4ed3-47c3-9ce2-0aa553d520cf\",\"type\":\"BasicTicker\"}},\"id\":\"75d03a3f-f1a3-4fc4-b684-ad97fd21caa2\",\"type\":\"Grid\"},{\"attributes\":{\"callback\":null,\"data\":{\"x\":{\"__ndarray__\":\"N//fc4gBkL+IykfRUa6Pv7A5b7L5946/aZg6xTMzjr/+FgcRVWqNv2O1LHF6nYy/Ia9dk5vMi79bO0xZWACLv1hk+nnhO4q/yH9OL5t6ib848JjxHraIv5XvrOyhzoe/YBJpRv/+hr+0Iyt4NzqGv78BTGp/n4O/RNbC/+nMdb8fkWmH3KBfPw/1n1sGoYY/VeRP1bbBlj+eWS711VCiP60AhrWWoao/jf3ZTfg+sj/9e0mT7aS2Pz+7iF5ihrY/gyWTXa02sj/j2PkFW++qP2KwtdPjsqI/vacFPiU4mD/k0W9aThSNP80zpLn2Rn8/msCxBu/0aT9U+fPLSOE6PzpYEcvsR0i/MyDKcZH9T7/TsousMJJRv+hK1rqzQ1O/I13sbPrCU78+d1nHxVVUv8VlOWo8gVa/c5zjrKSmWL8+HzH3WiJYv1WYdNw0a1W/T0HRx7vtUr8f4dbKNPRQv9dF2XRnmk6/X8URGeSxS78Pd3sMzQlJv6TFC9MhjEa/J7DsINIsRL9dUbzoBOdBvx2ndVnngj+/3+AkY9yGO7+NgnQFq9o3v/FCTmmKajS/2f35S68YMb8L2kfocpcrv6DtiyJo5yS/mYo+vg8aHL+Wa9QvfO0Lv4hWabxxxsU+dtHjOVPPDz8dCTXKZ8kfP/4AgOUyMig/94XPmelvMD/6L3cEv/I0Pw6SQXRGjjk/LXpkq2kOPj8NDVhnqgxBP+P+BJrJr0I/EBPS7wLyQz9HtgLKVf9EP77xEIC1CUY/7TJ3YN8xRz+GANHDE4tIP2J8Z9RqJ0o/\",\"dtype\":\"float64\",\"shape\":[75]},\"y\":{\"__ndarray__\":\"GhExyth1ND/Sv8nbtpRIP2vylNV0PVE/aTum7souWD/At0SJ8fVgPw3Iuahxymc/MSNhhJWvcD/bTfBN02d3P2zb5nxnaoA/CD5h5MAGhz8NmeH1TyaQP+zrCsc9p5Y/LbKd76fGnz/bLW5ISEmmPww9YvTcQq8/JV2OstnstT8Er5Y7M8G+P0c+r3jqkcU/5h99k6ZBzj88bCIzFzjVP4enV8oyxN0//yH99nXg5D8qOpLLf0jtP5kqGJXUifQ/c9cS8kHP/D+/DpwzojQEQIEmwoanVwxA4lgXt9HgE0BSSZ2AJuIbQAMJih9jjiNA5q4l5INuK0AwTKYKRj0zQNv5fmq8/DpAaCJseHrtQkB/+zpwzoxKQM3MzMzMeFJAZmZmZmZqWEAAAAAAAFxeQM3MzMzMJmJAmpmZmZkfZUBmZmZmZhhoQDMzMzMzEWtAAAAAAAAKbkBmZmZmZoFwQM3MzMzM/XFAMzMzMzN6c0CamZmZmfZ0QAAAAAAAc3ZAZmZmZmbvd0DNzMzMzGt5QDMzMzMz6HpAmpmZmZlkfEAAAAAAAOF9QGZmZmZmXX9AZmZmZuZsgECamZmZGSuBQM3MzMxM6YFAAAAAAICngkAzMzMzs2WDQGZmZmbmI4RAmpmZmRnihEDNzMzMTKCFQAAAAACAXoZAMzMzM7Mch0BmZmZm5tqHQJqZmZkZmYhAzczMzExXiUAAAAAAgBWKQDMzMzOz04pAZmZmZuaRi0CamZmZGVCMQM3MzMxMDo1AAAAAAIDMjUAzMzMzs4qOQGZmZmbmSI9A\",\"dtype\":\"float64\",\"shape\":[75]}},\"selected\":{\"id\":\"0bacf29f-bf68-40ad-9b4a-f325c1f09d1f\",\"type\":\"Selection\"},\"selection_policy\":{\"id\":\"106ceef4-f179-49fb-bc4f-e38fd02c13b8\",\"type\":\"UnionRenderers\"}},\"id\":\"23d26487-2e05-4a7f-bfb8-2758d13c0361\",\"type\":\"ColumnDataSource\"},{\"attributes\":{\"source\":{\"id\":\"724bc24d-2927-41ac-98cb-09ca8468b54a\",\"type\":\"ColumnDataSource\"}},\"id\":\"a70aea01-05fd-4fc9-aa7d-e2616122a3b3\",\"type\":\"CDSView\"},{\"attributes\":{},\"id\":\"935e6704-4ed3-47c3-9ce2-0aa553d520cf\",\"type\":\"BasicTicker\"},{\"attributes\":{\"axis_label\":\"pressure [mb]\",\"formatter\":{\"id\":\"a2beec87-44ff-4b0f-a052-381431b51547\",\"type\":\"BasicTickFormatter\"},\"plot\":{\"id\":\"a4161234-4c34-4d8c-a1ab-fc2873d1200d\",\"subtype\":\"Figure\",\"type\":\"Plot\"},\"ticker\":{\"id\":\"935e6704-4ed3-47c3-9ce2-0aa553d520cf\",\"type\":\"BasicTicker\"}},\"id\":\"35dbfccb-61f0-4701-b7cb-506b866b442d\",\"type\":\"LinearAxis\"},{\"attributes\":{},\"id\":\"3a28b303-6c17-4a53-9816-78cb065b21f0\",\"type\":\"BasicTicker\"},{\"attributes\":{},\"id\":\"a42b394b-8531-438c-827d-ec2344a65c6e\",\"type\":\"LinearScale\"},{\"attributes\":{\"line_color\":\"#4daf4a\",\"line_width\":1.5,\"x\":{\"field\":\"x\"},\"y\":{\"field\":\"y\"}},\"id\":\"b45a2e52-400d-4a14-b6a2-6eb2815c2ab8\",\"type\":\"Line\"},{\"attributes\":{\"source\":{\"id\":\"a5889aef-8c4f-4dc1-86c6-be6711b10696\",\"type\":\"ColumnDataSource\"}},\"id\":\"49b542b2-3913-43f1-a5f8-975285cfc907\",\"type\":\"CDSView\"},{\"attributes\":{\"line_alpha\":0.6,\"line_color\":\"#984ea3\",\"line_width\":3,\"x\":{\"field\":\"x\"},\"y\":{\"field\":\"y\"}},\"id\":\"b84a57b8-5785-41fe-b134-e3314ff58953\",\"type\":\"Line\"},{\"attributes\":{\"axis_label\":\"cooling rate [K/day]\",\"formatter\":{\"id\":\"e2cca601-7442-4156-9ddc-d2fc4c4ab04f\",\"type\":\"BasicTickFormatter\"},\"plot\":{\"id\":\"a4161234-4c34-4d8c-a1ab-fc2873d1200d\",\"subtype\":\"Figure\",\"type\":\"Plot\"},\"ticker\":{\"id\":\"3a28b303-6c17-4a53-9816-78cb065b21f0\",\"type\":\"BasicTicker\"}},\"id\":\"43678fe9-4b75-4465-bde5-d18659eb34ab\",\"type\":\"LinearAxis\"},{\"attributes\":{\"data_source\":{\"id\":\"971cbffd-43e1-40b3-ab95-47b7f39edf97\",\"type\":\"ColumnDataSource\"},\"glyph\":{\"id\":\"554ba631-0556-4f6d-bab0-595b68a907a5\",\"type\":\"Square\"},\"hover_glyph\":null,\"muted_glyph\":null,\"nonselection_glyph\":{\"id\":\"cc123296-1b5d-4118-8bf2-715baefac8c6\",\"type\":\"Square\"},\"selection_glyph\":null,\"view\":{\"id\":\"b5cbbb36-fd38-46fd-9beb-ae5a1f075d6d\",\"type\":\"CDSView\"}},\"id\":\"ef362289-59cc-49f2-a178-b0335f005190\",\"type\":\"GlyphRenderer\"},{\"attributes\":{\"callback\":null,\"data\":{\"x\":{\"__ndarray__\":\"vBQ9QXlXor8QDV0Z7Deiv8d+8IPu8KG/XVj/M7+kob/SeQ7et1ehv7eaWXHIC6G/aUhH/+zDoL9AJT/GAn2gv47hIfSCO6C//o40+sn/n78CFjOhzZqfv4l3CRmLUJ+/vwB+ahUtn7815YluXTSfv0f3nIkj7p2/H+vDKVxXmL/boIx3m8WMvzj8M6GXOmG/8H8I8GTXiD/eZ8IaWqmdPzUPHnWN+ag/1YGaxJp2sj/Qch0Gmp+3P8xWjCornLY/jL5XtAZdsD/68xQJC8akPzK/fK2p/pc/EYOGHxgXiT+2vPHzOPN3PzrLnXJ0cGM/h3uuPyjDMj9gsUHqDdhOv/VeAS/oAlS/f23MTUW6UL8ycXa5/GJNv9L+KPFaCEy/rH8UFAauSb+3llZraEVIv+zeqsNV7Uq/FcDDU03WTr/nYQZ3VKNOv4X0C0QqyUq/Y+LxoOy/R7/JpM1Uq59Fv0dsGVwn5UO/WUdrFVtVQr9umLyPENZAv208E74stT6/KhnA1zC8O79X/cJGpcI4v8j07DSt3DW/3+CjOvsfM799e35zrpQwvwllXzCkWiy/ufE7xeKiJ78BPpSEqdkivyabfMvQzxu/pc06FfR8Eb+T1FfofZ36vvyvaKTt/PI+3NefFZHLED8MLpAgPpUdP3QfnJ6PmSU/xUunUjjaLD/Qbp+fqkUyPysFOgPjRjY/cWAslLVAOj87AL6mP9s9PxkzoSXPY0A/zzYt65SEQT8TThaW4HtCP+Bo5J2ge0M/dOJVi82kRD9zrXhs3wxGP9PWYx1LzEc/\",\"dtype\":\"float64\",\"shape\":[75]},\"y\":{\"__ndarray__\":\"GhExyth1ND/Sv8nbtpRIP2vylNV0PVE/aTum7souWD/At0SJ8fVgPw3Iuahxymc/MSNhhJWvcD/bTfBN02d3P2zb5nxnaoA/CD5h5MAGhz8NmeH1TyaQP+zrCsc9p5Y/LbKd76fGnz/bLW5ISEmmPww9YvTcQq8/JV2OstnstT8Er5Y7M8G+P0c+r3jqkcU/5h99k6ZBzj88bCIzFzjVP4enV8oyxN0//yH99nXg5D8qOpLLf0jtP5kqGJXUifQ/c9cS8kHP/D+/DpwzojQEQIEmwoanVwxA4lgXt9HgE0BSSZ2AJuIbQAMJih9jjiNA5q4l5INuK0AwTKYKRj0zQNv5fmq8/DpAaCJseHrtQkB/+zpwzoxKQM3MzMzMeFJAZmZmZmZqWEAAAAAAAFxeQM3MzMzMJmJAmpmZmZkfZUBmZmZmZhhoQDMzMzMzEWtAAAAAAAAKbkBmZmZmZoFwQM3MzMzM/XFAMzMzMzN6c0CamZmZmfZ0QAAAAAAAc3ZAZmZmZmbvd0DNzMzMzGt5QDMzMzMz6HpAmpmZmZlkfEAAAAAAAOF9QGZmZmZmXX9AZmZmZuZsgECamZmZGSuBQM3MzMxM6YFAAAAAAICngkAzMzMzs2WDQGZmZmbmI4RAmpmZmRnihEDNzMzMTKCFQAAAAACAXoZAMzMzM7Mch0BmZmZm5tqHQJqZmZkZmYhAzczMzExXiUAAAAAAgBWKQDMzMzOz04pAZmZmZuaRi0CamZmZGVCMQM3MzMxMDo1AAAAAAIDMjUAzMzMzs4qOQGZmZmbmSI9A\",\"dtype\":\"float64\",\"shape\":[75]}},\"selected\":{\"id\":\"5e3076e8-d115-45d3-a287-2550d04f4616\",\"type\":\"Selection\"},\"selection_policy\":{\"id\":\"b4be0d90-59a4-4c7f-af58-03fa3eca144f\",\"type\":\"UnionRenderers\"}},\"id\":\"8264426e-0817-459a-84cc-ef58c143a063\",\"type\":\"ColumnDataSource\"},{\"attributes\":{\"callback\":null,\"data\":{\"x\":{\"__ndarray__\":\"vBQ9QXlXor8QDV0Z7Deiv8d+8IPu8KG/XVj/M7+kob/SeQ7et1ehv7eaWXHIC6G/aUhH/+zDoL9AJT/GAn2gv47hIfSCO6C//o40+sn/n78CFjOhzZqfv4l3CRmLUJ+/vwB+ahUtn7815YluXTSfv0f3nIkj7p2/H+vDKVxXmL/boIx3m8WMvzj8M6GXOmG/8H8I8GTXiD/eZ8IaWqmdPzUPHnWN+ag/1YGaxJp2sj/Qch0Gmp+3P8xWjCornLY/jL5XtAZdsD/68xQJC8akPzK/fK2p/pc/EYOGHxgXiT+2vPHzOPN3PzrLnXJ0cGM/h3uuPyjDMj9gsUHqDdhOv/VeAS/oAlS/f23MTUW6UL8ycXa5/GJNv9L+KPFaCEy/rH8UFAauSb+3llZraEVIv+zeqsNV7Uq/FcDDU03WTr/nYQZ3VKNOv4X0C0QqyUq/Y+LxoOy/R7/JpM1Uq59Fv0dsGVwn5UO/WUdrFVtVQr9umLyPENZAv208E74stT6/KhnA1zC8O79X/cJGpcI4v8j07DSt3DW/3+CjOvsfM799e35zrpQwvwllXzCkWiy/ufE7xeKiJ78BPpSEqdkivyabfMvQzxu/pc06FfR8Eb+T1FfofZ36vvyvaKTt/PI+3NefFZHLED8MLpAgPpUdP3QfnJ6PmSU/xUunUjjaLD/Qbp+fqkUyPysFOgPjRjY/cWAslLVAOj87AL6mP9s9PxkzoSXPY0A/zzYt65SEQT8TThaW4HtCP+Bo5J2ge0M/dOJVi82kRD9zrXhs3wxGP9PWYx1LzEc/\",\"dtype\":\"float64\",\"shape\":[75]},\"y\":{\"__ndarray__\":\"GhExyth1ND/Sv8nbtpRIP2vylNV0PVE/aTum7souWD/At0SJ8fVgPw3Iuahxymc/MSNhhJWvcD/bTfBN02d3P2zb5nxnaoA/CD5h5MAGhz8NmeH1TyaQP+zrCsc9p5Y/LbKd76fGnz/bLW5ISEmmPww9YvTcQq8/JV2OstnstT8Er5Y7M8G+P0c+r3jqkcU/5h99k6ZBzj88bCIzFzjVP4enV8oyxN0//yH99nXg5D8qOpLLf0jtP5kqGJXUifQ/c9cS8kHP/D+/DpwzojQEQIEmwoanVwxA4lgXt9HgE0BSSZ2AJuIbQAMJih9jjiNA5q4l5INuK0AwTKYKRj0zQNv5fmq8/DpAaCJseHrtQkB/+zpwzoxKQM3MzMzMeFJAZmZmZmZqWEAAAAAAAFxeQM3MzMzMJmJAmpmZmZkfZUBmZmZmZhhoQDMzMzMzEWtAAAAAAAAKbkBmZmZmZoFwQM3MzMzM/XFAMzMzMzN6c0CamZmZmfZ0QAAAAAAAc3ZAZmZmZmbvd0DNzMzMzGt5QDMzMzMz6HpAmpmZmZlkfEAAAAAAAOF9QGZmZmZmXX9AZmZmZuZsgECamZmZGSuBQM3MzMxM6YFAAAAAAICngkAzMzMzs2WDQGZmZmbmI4RAmpmZmRnihEDNzMzMTKCFQAAAAACAXoZAMzMzM7Mch0BmZmZm5tqHQJqZmZkZmYhAzczMzExXiUAAAAAAgBWKQDMzMzOz04pAZmZmZuaRi0CamZmZGVCMQM3MzMxMDo1AAAAAAIDMjUAzMzMzs4qOQGZmZmbmSI9A\",\"dtype\":\"float64\",\"shape\":[75]}},\"selected\":{\"id\":\"bf1315d2-3311-4a65-bc98-c8376a5c5930\",\"type\":\"Selection\"},\"selection_policy\":{\"id\":\"ce926666-1d5c-4eb9-90fa-d9fc2cd31a79\",\"type\":\"UnionRenderers\"}},\"id\":\"bf3794f1-2233-4c79-bb21-8e131fa8b12e\",\"type\":\"ColumnDataSource\"},{\"attributes\":{\"line_alpha\":0.1,\"line_color\":\"#1f77b4\",\"line_width\":3,\"x\":{\"field\":\"x\"},\"y\":{\"field\":\"y\"}},\"id\":\"7d5c2f40-9066-4247-8827-4d21d3bfa740\",\"type\":\"Line\"},{\"attributes\":{\"callback\":null,\"data\":{\"x\":{\"__ndarray__\":\"vBQ9QXlXor8QDV0Z7Deiv8d+8IPu8KG/XVj/M7+kob/SeQ7et1ehv7eaWXHIC6G/aUhH/+zDoL9AJT/GAn2gv47hIfSCO6C//o40+sn/n78CFjOhzZqfv4l3CRmLUJ+/vwB+ahUtn7815YluXTSfv0f3nIkj7p2/H+vDKVxXmL/boIx3m8WMvzj8M6GXOmG/8H8I8GTXiD/eZ8IaWqmdPzUPHnWN+ag/1YGaxJp2sj/Qch0Gmp+3P8xWjCornLY/jL5XtAZdsD/68xQJC8akPzK/fK2p/pc/EYOGHxgXiT+2vPHzOPN3PzrLnXJ0cGM/h3uuPyjDMj9gsUHqDdhOv/VeAS/oAlS/f23MTUW6UL8ycXa5/GJNv9L+KPFaCEy/rH8UFAauSb+3llZraEVIv+zeqsNV7Uq/FcDDU03WTr/nYQZ3VKNOv4X0C0QqyUq/Y+LxoOy/R7/JpM1Uq59Fv0dsGVwn5UO/WUdrFVtVQr9umLyPENZAv208E74stT6/KhnA1zC8O79X/cJGpcI4v8j07DSt3DW/3+CjOvsfM799e35zrpQwvwllXzCkWiy/ufE7xeKiJ78BPpSEqdkivyabfMvQzxu/pc06FfR8Eb+T1FfofZ36vvyvaKTt/PI+3NefFZHLED8MLpAgPpUdP3QfnJ6PmSU/xUunUjjaLD/Qbp+fqkUyPysFOgPjRjY/cWAslLVAOj87AL6mP9s9PxkzoSXPY0A/zzYt65SEQT8TThaW4HtCP+Bo5J2ge0M/dOJVi82kRD9zrXhs3wxGP9PWYx1LzEc/\",\"dtype\":\"float64\",\"shape\":[75]},\"y\":{\"__ndarray__\":\"GhExyth1ND/Sv8nbtpRIP2vylNV0PVE/aTum7souWD/At0SJ8fVgPw3Iuahxymc/MSNhhJWvcD/bTfBN02d3P2zb5nxnaoA/CD5h5MAGhz8NmeH1TyaQP+zrCsc9p5Y/LbKd76fGnz/bLW5ISEmmPww9YvTcQq8/JV2OstnstT8Er5Y7M8G+P0c+r3jqkcU/5h99k6ZBzj88bCIzFzjVP4enV8oyxN0//yH99nXg5D8qOpLLf0jtP5kqGJXUifQ/c9cS8kHP/D+/DpwzojQEQIEmwoanVwxA4lgXt9HgE0BSSZ2AJuIbQAMJih9jjiNA5q4l5INuK0AwTKYKRj0zQNv5fmq8/DpAaCJseHrtQkB/+zpwzoxKQM3MzMzMeFJAZmZmZmZqWEAAAAAAAFxeQM3MzMzMJmJAmpmZmZkfZUBmZmZmZhhoQDMzMzMzEWtAAAAAAAAKbkBmZmZmZoFwQM3MzMzM/XFAMzMzMzN6c0CamZmZmfZ0QAAAAAAAc3ZAZmZmZmbvd0DNzMzMzGt5QDMzMzMz6HpAmpmZmZlkfEAAAAAAAOF9QGZmZmZmXX9AZmZmZuZsgECamZmZGSuBQM3MzMxM6YFAAAAAAICngkAzMzMzs2WDQGZmZmbmI4RAmpmZmRnihEDNzMzMTKCFQAAAAACAXoZAMzMzM7Mch0BmZmZm5tqHQJqZmZkZmYhAzczMzExXiUAAAAAAgBWKQDMzMzOz04pAZmZmZuaRi0CamZmZGVCMQM3MzMxMDo1AAAAAAIDMjUAzMzMzs4qOQGZmZmbmSI9A\",\"dtype\":\"float64\",\"shape\":[75]}},\"selected\":{\"id\":\"ec0a378d-bfc9-4245-a16b-a44ffb3543e3\",\"type\":\"Selection\"},\"selection_policy\":{\"id\":\"7d083b9b-f78e-418f-b354-36e0d3bf81a3\",\"type\":\"UnionRenderers\"}},\"id\":\"724bc24d-2927-41ac-98cb-09ca8468b54a\",\"type\":\"ColumnDataSource\"},{\"attributes\":{\"line_alpha\":0.1,\"line_color\":\"#1f77b4\",\"line_width\":2,\"x\":{\"field\":\"x\"},\"y\":{\"field\":\"y\"}},\"id\":\"6db45744-11bd-4c40-886e-d63b2232b016\",\"type\":\"Line\"},{\"attributes\":{\"source\":{\"id\":\"971cbffd-43e1-40b3-ab95-47b7f39edf97\",\"type\":\"ColumnDataSource\"}},\"id\":\"b5cbbb36-fd38-46fd-9beb-ae5a1f075d6d\",\"type\":\"CDSView\"},{\"attributes\":{\"active_drag\":\"auto\",\"active_inspect\":\"auto\",\"active_scroll\":\"auto\",\"active_tap\":\"auto\",\"tools\":[{\"id\":\"c8fd9442-9bee-4979-93fc-0274a4766896\",\"type\":\"PanTool\"},{\"id\":\"3e591df8-772c-4617-accc-80aa607d3103\",\"type\":\"WheelZoomTool\"},{\"id\":\"d97c21d7-658e-4c41-bc25-4700fd780443\",\"type\":\"BoxZoomTool\"},{\"id\":\"2bda95bf-a6f3-4d07-9404-c4be4fc0d8c6\",\"type\":\"SaveTool\"},{\"id\":\"5b14fd83-7d35-4404-9b4b-ced172b580a4\",\"type\":\"ResetTool\"},{\"id\":\"7d71c514-3138-4d3c-8e8a-f1d153d554eb\",\"type\":\"HelpTool\"}]},\"id\":\"d6e3f93a-994e-433f-b588-e97add1cf9ab\",\"type\":\"Toolbar\"},{\"attributes\":{\"source\":{\"id\":\"23d26487-2e05-4a7f-bfb8-2758d13c0361\",\"type\":\"ColumnDataSource\"}},\"id\":\"0bd09e9d-3f69-4a7b-a281-7e1d7ebacddf\",\"type\":\"CDSView\"},{\"attributes\":{\"fill_alpha\":{\"value\":0.1},\"fill_color\":{\"value\":\"#1f77b4\"},\"line_alpha\":{\"value\":0.1},\"line_color\":{\"value\":\"#1f77b4\"},\"x\":{\"field\":\"x\"},\"y\":{\"field\":\"y\"}},\"id\":\"5b42baac-c4ea-42cb-a2f8-d68c23500e1d\",\"type\":\"Square\"},{\"attributes\":{\"callback\":null,\"data\":{\"x\":{\"__ndarray__\":\"vBQ9QXlXor8QDV0Z7Deiv8d+8IPu8KG/XVj/M7+kob/SeQ7et1ehv7eaWXHIC6G/aUhH/+zDoL9AJT/GAn2gv47hIfSCO6C//o40+sn/n78CFjOhzZqfv4l3CRmLUJ+/vwB+ahUtn7815YluXTSfv0f3nIkj7p2/H+vDKVxXmL/boIx3m8WMvzj8M6GXOmG/8H8I8GTXiD/eZ8IaWqmdPzUPHnWN+ag/1YGaxJp2sj/Qch0Gmp+3P8xWjCornLY/jL5XtAZdsD/68xQJC8akPzK/fK2p/pc/EYOGHxgXiT+2vPHzOPN3PzrLnXJ0cGM/h3uuPyjDMj9gsUHqDdhOv/VeAS/oAlS/f23MTUW6UL8ycXa5/GJNv9L+KPFaCEy/rH8UFAauSb+3llZraEVIv+zeqsNV7Uq/FcDDU03WTr/nYQZ3VKNOv4X0C0QqyUq/Y+LxoOy/R7/JpM1Uq59Fv0dsGVwn5UO/WUdrFVtVQr9umLyPENZAv208E74stT6/KhnA1zC8O79X/cJGpcI4v8j07DSt3DW/3+CjOvsfM799e35zrpQwvwllXzCkWiy/ufE7xeKiJ78BPpSEqdkivyabfMvQzxu/pc06FfR8Eb+T1FfofZ36vvyvaKTt/PI+3NefFZHLED8MLpAgPpUdP3QfnJ6PmSU/xUunUjjaLD/Qbp+fqkUyPysFOgPjRjY/cWAslLVAOj87AL6mP9s9PxkzoSXPY0A/zzYt65SEQT8TThaW4HtCP+Bo5J2ge0M/dOJVi82kRD9zrXhs3wxGP9PWYx1LzEc/\",\"dtype\":\"float64\",\"shape\":[75]},\"y\":{\"__ndarray__\":\"GhExyth1ND/Sv8nbtpRIP2vylNV0PVE/aTum7souWD/At0SJ8fVgPw3Iuahxymc/MSNhhJWvcD/bTfBN02d3P2zb5nxnaoA/CD5h5MAGhz8NmeH1TyaQP+zrCsc9p5Y/LbKd76fGnz/bLW5ISEmmPww9YvTcQq8/JV2OstnstT8Er5Y7M8G+P0c+r3jqkcU/5h99k6ZBzj88bCIzFzjVP4enV8oyxN0//yH99nXg5D8qOpLLf0jtP5kqGJXUifQ/c9cS8kHP/D+/DpwzojQEQIEmwoanVwxA4lgXt9HgE0BSSZ2AJuIbQAMJih9jjiNA5q4l5INuK0AwTKYKRj0zQNv5fmq8/DpAaCJseHrtQkB/+zpwzoxKQM3MzMzMeFJAZmZmZmZqWEAAAAAAAFxeQM3MzMzMJmJAmpmZmZkfZUBmZmZmZhhoQDMzMzMzEWtAAAAAAAAKbkBmZmZmZoFwQM3MzMzM/XFAMzMzMzN6c0CamZmZmfZ0QAAAAAAAc3ZAZmZmZmbvd0DNzMzMzGt5QDMzMzMz6HpAmpmZmZlkfEAAAAAAAOF9QGZmZmZmXX9AZmZmZuZsgECamZmZGSuBQM3MzMxM6YFAAAAAAICngkAzMzMzs2WDQGZmZmbmI4RAmpmZmRnihEDNzMzMTKCFQAAAAACAXoZAMzMzM7Mch0BmZmZm5tqHQJqZmZkZmYhAzczMzExXiUAAAAAAgBWKQDMzMzOz04pAZmZmZuaRi0CamZmZGVCMQM3MzMxMDo1AAAAAAIDMjUAzMzMzs4qOQGZmZmbmSI9A\",\"dtype\":\"float64\",\"shape\":[75]}},\"selected\":{\"id\":\"019144cb-1b66-413b-ab08-953ac323e058\",\"type\":\"Selection\"},\"selection_policy\":{\"id\":\"33166bc8-60e5-476a-8e25-aa07f8e265c5\",\"type\":\"UnionRenderers\"}},\"id\":\"a5889aef-8c4f-4dc1-86c6-be6711b10696\",\"type\":\"ColumnDataSource\"},{\"attributes\":{\"above\":[{\"id\":\"c3464e6e-3880-4803-96ed-c3fb78d1f224\",\"type\":\"Legend\"}],\"below\":[{\"id\":\"43678fe9-4b75-4465-bde5-d18659eb34ab\",\"type\":\"LinearAxis\"}],\"left\":[{\"id\":\"35dbfccb-61f0-4701-b7cb-506b866b442d\",\"type\":\"LinearAxis\"}],\"plot_height\":500,\"plot_width\":400,\"renderers\":[{\"id\":\"43678fe9-4b75-4465-bde5-d18659eb34ab\",\"type\":\"LinearAxis\"},{\"id\":\"467834e4-8dd8-492c-b9fa-6383ab175296\",\"type\":\"Grid\"},{\"id\":\"35dbfccb-61f0-4701-b7cb-506b866b442d\",\"type\":\"LinearAxis\"},{\"id\":\"75d03a3f-f1a3-4fc4-b684-ad97fd21caa2\",\"type\":\"Grid\"},{\"id\":\"3d7fc05e-88b8-4822-a5a5-663865ca24cb\",\"type\":\"BoxAnnotation\"},{\"id\":\"7025f2aa-4ef5-4381-a2d8-b4a906bbbc3d\",\"type\":\"GlyphRenderer\"},{\"id\":\"69c954b8-8ebb-40e6-8589-a39bec670e24\",\"type\":\"GlyphRenderer\"},{\"id\":\"f16c495c-d1f9-4f3f-babf-5da4a04cc205\",\"type\":\"GlyphRenderer\"},{\"id\":\"00b9df5b-1a6b-443f-8360-2ca32fec5203\",\"type\":\"GlyphRenderer\"},{\"id\":\"12c08ccc-4e04-4c47-a286-a47651d1d153\",\"type\":\"GlyphRenderer\"},{\"id\":\"a74a8e7b-b874-4164-8149-4c0888c6c21b\",\"type\":\"GlyphRenderer\"},{\"id\":\"c3464e6e-3880-4803-96ed-c3fb78d1f224\",\"type\":\"Legend\"}],\"title\":{\"id\":\"26c86ee3-96a7-436e-adb6-5de9fe6f0bd0\",\"type\":\"Title\"},\"toolbar\":{\"id\":\"d6e3f93a-994e-433f-b588-e97add1cf9ab\",\"type\":\"Toolbar\"},\"toolbar_location\":null,\"x_range\":{\"id\":\"67fe65bc-ec96-485a-bcde-d0f6a8fa66d0\",\"type\":\"Range1d\"},\"x_scale\":{\"id\":\"8b0343b0-14bb-43c1-82ad-d796587ad925\",\"type\":\"LinearScale\"},\"y_range\":{\"id\":\"a12d26e6-9cdf-45ec-9016-6ba8ded5c007\",\"type\":\"Range1d\"},\"y_scale\":{\"id\":\"a42b394b-8531-438c-827d-ec2344a65c6e\",\"type\":\"LinearScale\"}},\"id\":\"a4161234-4c34-4d8c-a1ab-fc2873d1200d\",\"subtype\":\"Figure\",\"type\":\"Plot\"},{\"attributes\":{\"fill_alpha\":{\"value\":0.1},\"fill_color\":{\"value\":\"#1f77b4\"},\"line_alpha\":{\"value\":0.1},\"line_color\":{\"value\":\"#1f77b4\"},\"x\":{\"field\":\"x\"},\"y\":{\"field\":\"y\"}},\"id\":\"f33a3ce4-53e0-4b05-a557-7c807b65b79b\",\"type\":\"Circle\"},{\"attributes\":{\"data_source\":{\"id\":\"a5889aef-8c4f-4dc1-86c6-be6711b10696\",\"type\":\"ColumnDataSource\"},\"glyph\":{\"id\":\"268b757d-c37d-4ddd-aed1-5b5aff790e2a\",\"type\":\"Line\"},\"hover_glyph\":null,\"muted_glyph\":null,\"nonselection_glyph\":{\"id\":\"b2125f86-3cb6-4a4e-b744-3cbee108a2af\",\"type\":\"Line\"},\"selection_glyph\":null,\"view\":{\"id\":\"49b542b2-3913-43f1-a5f8-975285cfc907\",\"type\":\"CDSView\"}},\"id\":\"78821f97-4eb4-44ab-baa6-1b31a223cd03\",\"type\":\"GlyphRenderer\"},{\"attributes\":{\"data_source\":{\"id\":\"23d26487-2e05-4a7f-bfb8-2758d13c0361\",\"type\":\"ColumnDataSource\"},\"glyph\":{\"id\":\"b84a57b8-5785-41fe-b134-e3314ff58953\",\"type\":\"Line\"},\"hover_glyph\":null,\"muted_glyph\":null,\"nonselection_glyph\":{\"id\":\"7d5c2f40-9066-4247-8827-4d21d3bfa740\",\"type\":\"Line\"},\"selection_glyph\":null,\"view\":{\"id\":\"0bd09e9d-3f69-4a7b-a281-7e1d7ebacddf\",\"type\":\"CDSView\"}},\"id\":\"6d8389c1-7c35-482b-b259-b0a09fbd572b\",\"type\":\"GlyphRenderer\"},{\"attributes\":{\"line_alpha\":0.1,\"line_color\":\"#1f77b4\",\"line_width\":1.5,\"x\":{\"field\":\"x\"},\"y\":{\"field\":\"y\"}},\"id\":\"b2125f86-3cb6-4a4e-b744-3cbee108a2af\",\"type\":\"Line\"},{\"attributes\":{\"callback\":null,\"data\":{\"x\":{\"__ndarray__\":\"hegxRvuKh79AP9qfjj6Hvy9epRtemYa/QkLJITjnhb8jKM3SjTGFv9aZebWOeIS/NfT8lUi8g7+tFIJd1PyCv1V/MKtROoK/kQu6/Ah1gb/LM2IvY62Av1lxJ6Kxx3+/TDcIeCsyfr97c6i9CYB8v20a7nMiIHe/bqyj5SJwW7+UwlYub+V0P22wuWid+Is//tb9TIXEmD/pwyKicvWiP1/ZMAPI4qo/PjPcDnonsj9oj1nus2e2PyT/yWivgbY/7D3UN+Kpsj/lcG6SbYCsPw8Yd8WEf6Q/CgRa6ruDmz/nvVqDMQGRP/J1qzyAi4I/hXkFHcqbbj+zgDvq4fc9P22qXXhGIEy/jKRsuKDjUL9xEobmGqRQvyomZcUGSFG/+kde2zSdUb/iOGGbfI5Sv5L4jVVgRlW/p1VaIZHfV78vR5mabpxXv9/KyTRwAVW/oENpgx2MUr8mMcy2SJtQv3KXJ0IlBU6/dV8gTrVBS79Ww+Mb5sJIv+t1L5mhb0a/uiv84uM5RL8IaWWP5htCvxYVZOSsG0C/RR0JMZV/PL8rRI4MtQ85v+2aHKwf0jW/vlRT5iunMr9VwdVYaOcuv1uyJZRaTCi/NDbjOgxnIb/teunyClMUv9V/69+MVfS+ChSkcRv4BT+d2e4tVu8bPyUW0E1n5iY/hGwJ3vsjMD8IiH7d8gU1P0dXAVEpATo/iPkDAyrdPj/T8wyGPp9BPyZkLELNakM/ybhPq/HRRD+aKmQ5p/5FP7+WjZmSIEc/+YXn+9dVSD9pXyKX2qxJPzrahDmSK0s/\",\"dtype\":\"float64\",\"shape\":[75]},\"y\":{\"__ndarray__\":\"GhExyth1ND/Sv8nbtpRIP2vylNV0PVE/aTum7souWD/At0SJ8fVgPw3Iuahxymc/MSNhhJWvcD/bTfBN02d3P2zb5nxnaoA/CD5h5MAGhz8NmeH1TyaQP+zrCsc9p5Y/LbKd76fGnz/bLW5ISEmmPww9YvTcQq8/JV2OstnstT8Er5Y7M8G+P0c+r3jqkcU/5h99k6ZBzj88bCIzFzjVP4enV8oyxN0//yH99nXg5D8qOpLLf0jtP5kqGJXUifQ/c9cS8kHP/D+/DpwzojQEQIEmwoanVwxA4lgXt9HgE0BSSZ2AJuIbQAMJih9jjiNA5q4l5INuK0AwTKYKRj0zQNv5fmq8/DpAaCJseHrtQkB/+zpwzoxKQM3MzMzMeFJAZmZmZmZqWEAAAAAAAFxeQM3MzMzMJmJAmpmZmZkfZUBmZmZmZhhoQDMzMzMzEWtAAAAAAAAKbkBmZmZmZoFwQM3MzMzM/XFAMzMzMzN6c0CamZmZmfZ0QAAAAAAAc3ZAZmZmZmbvd0DNzMzMzGt5QDMzMzMz6HpAmpmZmZlkfEAAAAAAAOF9QGZmZmZmXX9AZmZmZuZsgECamZmZGSuBQM3MzMxM6YFAAAAAAICngkAzMzMzs2WDQGZmZmbmI4RAmpmZmRnihEDNzMzMTKCFQAAAAACAXoZAMzMzM7Mch0BmZmZm5tqHQJqZmZkZmYhAzczMzExXiUAAAAAAgBWKQDMzMzOz04pAZmZmZuaRi0CamZmZGVCMQM3MzMxMDo1AAAAAAIDMjUAzMzMzs4qOQGZmZmbmSI9A\",\"dtype\":\"float64\",\"shape\":[75]}},\"selected\":{\"id\":\"c5719a5f-f8ac-4138-acdd-f945753ba1fa\",\"type\":\"Selection\"},\"selection_policy\":{\"id\":\"aa81faab-cb41-4d03-a698-8e9253548dec\",\"type\":\"UnionRenderers\"}},\"id\":\"bfd4e96a-cbfb-4184-a0dc-f5de0f528e84\",\"type\":\"ColumnDataSource\"},{\"attributes\":{\"fill_alpha\":{\"value\":0.7},\"fill_color\":{\"value\":\"#377eb8\"},\"line_alpha\":{\"value\":0.7},\"line_color\":{\"value\":\"#377eb8\"},\"x\":{\"field\":\"x\"},\"y\":{\"field\":\"y\"}},\"id\":\"68eef69e-0690-42d4-9425-8260f30c06d8\",\"type\":\"Triangle\"},{\"attributes\":{\"callback\":null,\"data\":{\"x\":{\"__ndarray__\":\"hegxRvuKh79AP9qfjj6Hvy9epRtemYa/QkLJITjnhb8jKM3SjTGFv9aZebWOeIS/NfT8lUi8g7+tFIJd1PyCv1V/MKtROoK/kQu6/Ah1gb/LM2IvY62Av1lxJ6Kxx3+/TDcIeCsyfr97c6i9CYB8v20a7nMiIHe/bqyj5SJwW7+UwlYub+V0P22wuWid+Is//tb9TIXEmD/pwyKicvWiP1/ZMAPI4qo/PjPcDnonsj9oj1nus2e2PyT/yWivgbY/7D3UN+Kpsj/lcG6SbYCsPw8Yd8WEf6Q/CgRa6ruDmz/nvVqDMQGRP/J1qzyAi4I/hXkFHcqbbj+zgDvq4fc9P22qXXhGIEy/jKRsuKDjUL9xEobmGqRQvyomZcUGSFG/+kde2zSdUb/iOGGbfI5Sv5L4jVVgRlW/p1VaIZHfV78vR5mabpxXv9/KyTRwAVW/oENpgx2MUr8mMcy2SJtQv3KXJ0IlBU6/dV8gTrVBS79Ww+Mb5sJIv+t1L5mhb0a/uiv84uM5RL8IaWWP5htCvxYVZOSsG0C/RR0JMZV/PL8rRI4MtQ85v+2aHKwf0jW/vlRT5iunMr9VwdVYaOcuv1uyJZRaTCi/NDbjOgxnIb/teunyClMUv9V/69+MVfS+ChSkcRv4BT+d2e4tVu8bPyUW0E1n5iY/hGwJ3vsjMD8IiH7d8gU1P0dXAVEpATo/iPkDAyrdPj/T8wyGPp9BPyZkLELNakM/ybhPq/HRRD+aKmQ5p/5FP7+WjZmSIEc/+YXn+9dVSD9pXyKX2qxJPzrahDmSK0s/\",\"dtype\":\"float64\",\"shape\":[75]},\"y\":{\"__ndarray__\":\"GhExyth1ND/Sv8nbtpRIP2vylNV0PVE/aTum7souWD/At0SJ8fVgPw3Iuahxymc/MSNhhJWvcD/bTfBN02d3P2zb5nxnaoA/CD5h5MAGhz8NmeH1TyaQP+zrCsc9p5Y/LbKd76fGnz/bLW5ISEmmPww9YvTcQq8/JV2OstnstT8Er5Y7M8G+P0c+r3jqkcU/5h99k6ZBzj88bCIzFzjVP4enV8oyxN0//yH99nXg5D8qOpLLf0jtP5kqGJXUifQ/c9cS8kHP/D+/DpwzojQEQIEmwoanVwxA4lgXt9HgE0BSSZ2AJuIbQAMJih9jjiNA5q4l5INuK0AwTKYKRj0zQNv5fmq8/DpAaCJseHrtQkB/+zpwzoxKQM3MzMzMeFJAZmZmZmZqWEAAAAAAAFxeQM3MzMzMJmJAmpmZmZkfZUBmZmZmZhhoQDMzMzMzEWtAAAAAAAAKbkBmZmZmZoFwQM3MzMzM/XFAMzMzMzN6c0CamZmZmfZ0QAAAAAAAc3ZAZmZmZmbvd0DNzMzMzGt5QDMzMzMz6HpAmpmZmZlkfEAAAAAAAOF9QGZmZmZmXX9AZmZmZuZsgECamZmZGSuBQM3MzMxM6YFAAAAAAICngkAzMzMzs2WDQGZmZmbmI4RAmpmZmRnihEDNzMzMTKCFQAAAAACAXoZAMzMzM7Mch0BmZmZm5tqHQJqZmZkZmYhAzczMzExXiUAAAAAAgBWKQDMzMzOz04pAZmZmZuaRi0CamZmZGVCMQM3MzMxMDo1AAAAAAIDMjUAzMzMzs4qOQGZmZmbmSI9A\",\"dtype\":\"float64\",\"shape\":[75]}},\"selected\":{\"id\":\"c0fe9d2f-c470-4f76-8754-2dd798e51eef\",\"type\":\"Selection\"},\"selection_policy\":{\"id\":\"eb2c2d6d-d419-4eba-bb0f-3649b72b6640\",\"type\":\"UnionRenderers\"}},\"id\":\"5e4e8a41-f813-4c98-995b-6ccbd93bc6ea\",\"type\":\"ColumnDataSource\"},{\"attributes\":{\"source\":{\"id\":\"bfd4e96a-cbfb-4184-a0dc-f5de0f528e84\",\"type\":\"ColumnDataSource\"}},\"id\":\"87b9f539-a34f-442a-bc1b-58f8483569b2\",\"type\":\"CDSView\"},{\"attributes\":{\"fill_alpha\":{\"value\":0.7},\"fill_color\":{\"value\":\"#984ea3\"},\"line_alpha\":{\"value\":0.7},\"line_color\":{\"value\":\"#984ea3\"},\"x\":{\"field\":\"x\"},\"y\":{\"field\":\"y\"}},\"id\":\"7aff3817-6d28-412d-94a4-7c6a7eecf4c6\",\"type\":\"Square\"},{\"attributes\":{\"fill_alpha\":{\"value\":0.7},\"fill_color\":{\"value\":\"#984ea3\"},\"line_alpha\":{\"value\":0.7},\"line_color\":{\"value\":\"#984ea3\"},\"x\":{\"field\":\"x\"},\"y\":{\"field\":\"y\"}},\"id\":\"554ba631-0556-4f6d-bab0-595b68a907a5\",\"type\":\"Square\"},{\"attributes\":{\"callback\":null,\"end\":0.01,\"start\":1020},\"id\":\"a12d26e6-9cdf-45ec-9016-6ba8ded5c007\",\"type\":\"Range1d\"},{\"attributes\":{\"fill_alpha\":{\"value\":0.1},\"fill_color\":{\"value\":\"#1f77b4\"},\"line_alpha\":{\"value\":0.1},\"line_color\":{\"value\":\"#1f77b4\"},\"x\":{\"field\":\"x\"},\"y\":{\"field\":\"y\"}},\"id\":\"d4934064-c8e7-4a2e-855f-7eeb26504802\",\"type\":\"Triangle\"},{\"attributes\":{\"line_alpha\":0.3,\"line_color\":\"#377eb8\",\"line_width\":2,\"x\":{\"field\":\"x\"},\"y\":{\"field\":\"y\"}},\"id\":\"7bfc5f04-36cf-4770-94d7-4b683173e452\",\"type\":\"Line\"},{\"attributes\":{\"children\":[{\"id\":\"80b7fecc-bfaa-440c-9e57-4af76549ef76\",\"type\":\"Row\"}]},\"id\":\"1c38d204-80fd-4c6a-b035-9298866954f5\",\"type\":\"Column\"},{\"attributes\":{\"data_source\":{\"id\":\"bfd4e96a-cbfb-4184-a0dc-f5de0f528e84\",\"type\":\"ColumnDataSource\"},\"glyph\":{\"id\":\"68eef69e-0690-42d4-9425-8260f30c06d8\",\"type\":\"Triangle\"},\"hover_glyph\":null,\"muted_glyph\":null,\"nonselection_glyph\":{\"id\":\"d4934064-c8e7-4a2e-855f-7eeb26504802\",\"type\":\"Triangle\"},\"selection_glyph\":null,\"view\":{\"id\":\"87b9f539-a34f-442a-bc1b-58f8483569b2\",\"type\":\"CDSView\"}},\"id\":\"1ca38246-593a-421d-8d6e-e94eed0c4dca\",\"type\":\"GlyphRenderer\"},{\"attributes\":{\"data_source\":{\"id\":\"5e4e8a41-f813-4c98-995b-6ccbd93bc6ea\",\"type\":\"ColumnDataSource\"},\"glyph\":{\"id\":\"7bfc5f04-36cf-4770-94d7-4b683173e452\",\"type\":\"Line\"},\"hover_glyph\":null,\"muted_glyph\":null,\"nonselection_glyph\":{\"id\":\"6db45744-11bd-4c40-886e-d63b2232b016\",\"type\":\"Line\"},\"selection_glyph\":null,\"view\":{\"id\":\"6dd6a602-158c-47b6-ac62-7b06b8d34ec6\",\"type\":\"CDSView\"}},\"id\":\"9f9939cf-7337-4f09-b749-7f4b55c60136\",\"type\":\"GlyphRenderer\"},{\"attributes\":{\"data_source\":{\"id\":\"724bc24d-2927-41ac-98cb-09ca8468b54a\",\"type\":\"ColumnDataSource\"},\"glyph\":{\"id\":\"7c91a7e9-f326-4fb2-a721-6f36acc1f2e2\",\"type\":\"Circle\"},\"hover_glyph\":null,\"muted_glyph\":null,\"nonselection_glyph\":{\"id\":\"f33a3ce4-53e0-4b05-a557-7c807b65b79b\",\"type\":\"Circle\"},\"selection_glyph\":null,\"view\":{\"id\":\"a70aea01-05fd-4fc9-aa7d-e2616122a3b3\",\"type\":\"CDSView\"}},\"id\":\"7025f2aa-4ef5-4381-a2d8-b4a906bbbc3d\",\"type\":\"GlyphRenderer\"},{\"attributes\":{\"source\":{\"id\":\"5e4e8a41-f813-4c98-995b-6ccbd93bc6ea\",\"type\":\"ColumnDataSource\"}},\"id\":\"6dd6a602-158c-47b6-ac62-7b06b8d34ec6\",\"type\":\"CDSView\"},{\"attributes\":{\"plot\":null,\"text\":\"\"},\"id\":\"26c86ee3-96a7-436e-adb6-5de9fe6f0bd0\",\"type\":\"Title\"},{\"attributes\":{\"children\":[{\"id\":\"a4161234-4c34-4d8c-a1ab-fc2873d1200d\",\"subtype\":\"Figure\",\"type\":\"Plot\"},{\"id\":\"6473b7a1-6e8b-45e2-add0-618612c465d7\",\"subtype\":\"Figure\",\"type\":\"Plot\"}]},\"id\":\"80b7fecc-bfaa-440c-9e57-4af76549ef76\",\"type\":\"Row\"},{\"attributes\":{\"callback\":null,\"end\":0.000852506133,\"start\":-0.0015279120329999998},\"id\":\"67fe65bc-ec96-485a-bcde-d0f6a8fa66d0\",\"type\":\"Range1d\"},{\"attributes\":{\"source\":{\"id\":\"6edcd0a4-ee49-4ed5-9774-ce2a8c5f32c3\",\"type\":\"ColumnDataSource\"}},\"id\":\"d0ff33b1-681b-4cde-8899-6cb1650be523\",\"type\":\"CDSView\"},{\"attributes\":{\"line_alpha\":0.3,\"line_color\":\"#377eb8\",\"line_width\":2,\"x\":{\"field\":\"x\"},\"y\":{\"field\":\"y\"}},\"id\":\"1c06540d-b836-4269-9301-fd6d5499ae07\",\"type\":\"Line\"},{\"attributes\":{\"callback\":null,\"data\":{\"x\":{\"__ndarray__\":\"N//fc4gBkL+IykfRUa6Pv7A5b7L5946/aZg6xTMzjr/+FgcRVWqNv2O1LHF6nYy/Ia9dk5vMi79bO0xZWACLv1hk+nnhO4q/yH9OL5t6ib848JjxHraIv5XvrOyhzoe/YBJpRv/+hr+0Iyt4NzqGv78BTGp/n4O/RNbC/+nMdb8fkWmH3KBfPw/1n1sGoYY/VeRP1bbBlj+eWS711VCiP60AhrWWoao/jf3ZTfg+sj/9e0mT7aS2Pz+7iF5ihrY/gyWTXa02sj/j2PkFW++qP2KwtdPjsqI/vacFPiU4mD/k0W9aThSNP80zpLn2Rn8/msCxBu/0aT9U+fPLSOE6PzpYEcvsR0i/MyDKcZH9T7/TsousMJJRv+hK1rqzQ1O/I13sbPrCU78+d1nHxVVUv8VlOWo8gVa/c5zjrKSmWL8+HzH3WiJYv1WYdNw0a1W/T0HRx7vtUr8f4dbKNPRQv9dF2XRnmk6/X8URGeSxS78Pd3sMzQlJv6TFC9MhjEa/J7DsINIsRL9dUbzoBOdBvx2ndVnngj+/3+AkY9yGO7+NgnQFq9o3v/FCTmmKajS/2f35S68YMb8L2kfocpcrv6DtiyJo5yS/mYo+vg8aHL+Wa9QvfO0Lv4hWabxxxsU+dtHjOVPPDz8dCTXKZ8kfP/4AgOUyMig/94XPmelvMD/6L3cEv/I0Pw6SQXRGjjk/LXpkq2kOPj8NDVhnqgxBP+P+BJrJr0I/EBPS7wLyQz9HtgLKVf9EP77xEIC1CUY/7TJ3YN8xRz+GANHDE4tIP2J8Z9RqJ0o/\",\"dtype\":\"float64\",\"shape\":[75]},\"y\":{\"__ndarray__\":\"GhExyth1ND/Sv8nbtpRIP2vylNV0PVE/aTum7souWD/At0SJ8fVgPw3Iuahxymc/MSNhhJWvcD/bTfBN02d3P2zb5nxnaoA/CD5h5MAGhz8NmeH1TyaQP+zrCsc9p5Y/LbKd76fGnz/bLW5ISEmmPww9YvTcQq8/JV2OstnstT8Er5Y7M8G+P0c+r3jqkcU/5h99k6ZBzj88bCIzFzjVP4enV8oyxN0//yH99nXg5D8qOpLLf0jtP5kqGJXUifQ/c9cS8kHP/D+/DpwzojQEQIEmwoanVwxA4lgXt9HgE0BSSZ2AJuIbQAMJih9jjiNA5q4l5INuK0AwTKYKRj0zQNv5fmq8/DpAaCJseHrtQkB/+zpwzoxKQM3MzMzMeFJAZmZmZmZqWEAAAAAAAFxeQM3MzMzMJmJAmpmZmZkfZUBmZmZmZhhoQDMzMzMzEWtAAAAAAAAKbkBmZmZmZoFwQM3MzMzM/XFAMzMzMzN6c0CamZmZmfZ0QAAAAAAAc3ZAZmZmZmbvd0DNzMzMzGt5QDMzMzMz6HpAmpmZmZlkfEAAAAAAAOF9QGZmZmZmXX9AZmZmZuZsgECamZmZGSuBQM3MzMxM6YFAAAAAAICngkAzMzMzs2WDQGZmZmbmI4RAmpmZmRnihEDNzMzMTKCFQAAAAACAXoZAMzMzM7Mch0BmZmZm5tqHQJqZmZkZmYhAzczMzExXiUAAAAAAgBWKQDMzMzOz04pAZmZmZuaRi0CamZmZGVCMQM3MzMxMDo1AAAAAAIDMjUAzMzMzs4qOQGZmZmbmSI9A\",\"dtype\":\"float64\",\"shape\":[75]}},\"selected\":{\"id\":\"e240a1b0-48d1-4a63-aee2-cb9cfe6a7e42\",\"type\":\"Selection\"},\"selection_policy\":{\"id\":\"bcb25ca6-7dcb-42b0-9027-4952ce533d47\",\"type\":\"UnionRenderers\"}},\"id\":\"bfedee00-f4b7-4ec0-9210-7b8301776588\",\"type\":\"ColumnDataSource\"},{\"attributes\":{\"callback\":null,\"data\":{\"x\":{\"__ndarray__\":\"hegxRvuKh79AP9qfjj6Hvy9epRtemYa/QkLJITjnhb8jKM3SjTGFv9aZebWOeIS/NfT8lUi8g7+tFIJd1PyCv1V/MKtROoK/kQu6/Ah1gb/LM2IvY62Av1lxJ6Kxx3+/TDcIeCsyfr97c6i9CYB8v20a7nMiIHe/bqyj5SJwW7+UwlYub+V0P22wuWid+Is//tb9TIXEmD/pwyKicvWiP1/ZMAPI4qo/PjPcDnonsj9oj1nus2e2PyT/yWivgbY/7D3UN+Kpsj/lcG6SbYCsPw8Yd8WEf6Q/CgRa6ruDmz/nvVqDMQGRP/J1qzyAi4I/hXkFHcqbbj+zgDvq4fc9P22qXXhGIEy/jKRsuKDjUL9xEobmGqRQvyomZcUGSFG/+kde2zSdUb/iOGGbfI5Sv5L4jVVgRlW/p1VaIZHfV78vR5mabpxXv9/KyTRwAVW/oENpgx2MUr8mMcy2SJtQv3KXJ0IlBU6/dV8gTrVBS79Ww+Mb5sJIv+t1L5mhb0a/uiv84uM5RL8IaWWP5htCvxYVZOSsG0C/RR0JMZV/PL8rRI4MtQ85v+2aHKwf0jW/vlRT5iunMr9VwdVYaOcuv1uyJZRaTCi/NDbjOgxnIb/teunyClMUv9V/69+MVfS+ChSkcRv4BT+d2e4tVu8bPyUW0E1n5iY/hGwJ3vsjMD8IiH7d8gU1P0dXAVEpATo/iPkDAyrdPj/T8wyGPp9BPyZkLELNakM/ybhPq/HRRD+aKmQ5p/5FP7+WjZmSIEc/+YXn+9dVSD9pXyKX2qxJPzrahDmSK0s/\",\"dtype\":\"float64\",\"shape\":[75]},\"y\":{\"__ndarray__\":\"GhExyth1ND/Sv8nbtpRIP2vylNV0PVE/aTum7souWD/At0SJ8fVgPw3Iuahxymc/MSNhhJWvcD/bTfBN02d3P2zb5nxnaoA/CD5h5MAGhz8NmeH1TyaQP+zrCsc9p5Y/LbKd76fGnz/bLW5ISEmmPww9YvTcQq8/JV2OstnstT8Er5Y7M8G+P0c+r3jqkcU/5h99k6ZBzj88bCIzFzjVP4enV8oyxN0//yH99nXg5D8qOpLLf0jtP5kqGJXUifQ/c9cS8kHP/D+/DpwzojQEQIEmwoanVwxA4lgXt9HgE0BSSZ2AJuIbQAMJih9jjiNA5q4l5INuK0AwTKYKRj0zQNv5fmq8/DpAaCJseHrtQkB/+zpwzoxKQM3MzMzMeFJAZmZmZmZqWEAAAAAAAFxeQM3MzMzMJmJAmpmZmZkfZUBmZmZmZhhoQDMzMzMzEWtAAAAAAAAKbkBmZmZmZoFwQM3MzMzM/XFAMzMzMzN6c0CamZmZmfZ0QAAAAAAAc3ZAZmZmZmbvd0DNzMzMzGt5QDMzMzMz6HpAmpmZmZlkfEAAAAAAAOF9QGZmZmZmXX9AZmZmZuZsgECamZmZGSuBQM3MzMxM6YFAAAAAAICngkAzMzMzs2WDQGZmZmbmI4RAmpmZmRnihEDNzMzMTKCFQAAAAACAXoZAMzMzM7Mch0BmZmZm5tqHQJqZmZkZmYhAzczMzExXiUAAAAAAgBWKQDMzMzOz04pAZmZmZuaRi0CamZmZGVCMQM3MzMxMDo1AAAAAAIDMjUAzMzMzs4qOQGZmZmbmSI9A\",\"dtype\":\"float64\",\"shape\":[75]}},\"selected\":{\"id\":\"cd5049bf-aa94-4a8b-805f-38fde1753553\",\"type\":\"Selection\"},\"selection_policy\":{\"id\":\"135e0f44-501e-48cb-ad82-45e7cdf042f0\",\"type\":\"UnionRenderers\"}},\"id\":\"1545e18b-f1d6-450e-9fa3-82b057f01355\",\"type\":\"ColumnDataSource\"},{\"attributes\":{\"fill_alpha\":{\"value\":0.1},\"fill_color\":{\"value\":\"#1f77b4\"},\"line_alpha\":{\"value\":0.1},\"line_color\":{\"value\":\"#1f77b4\"},\"x\":{\"field\":\"x\"},\"y\":{\"field\":\"y\"}},\"id\":\"543cc940-a429-4b55-8e4e-2a82d07d156b\",\"type\":\"Triangle\"},{\"attributes\":{\"data_source\":{\"id\":\"bfedee00-f4b7-4ec0-9210-7b8301776588\",\"type\":\"ColumnDataSource\"},\"glyph\":{\"id\":\"0f37c219-b1d5-4656-ad0b-af60183115a7\",\"type\":\"Line\"},\"hover_glyph\":null,\"muted_glyph\":null,\"nonselection_glyph\":{\"id\":\"e55d1bae-9411-4d17-bd69-9a0008232b24\",\"type\":\"Line\"},\"selection_glyph\":null,\"view\":{\"id\":\"ad1eee3d-9a9d-4ef9-9e98-1ba50703922a\",\"type\":\"CDSView\"}},\"id\":\"00b9df5b-1a6b-443f-8360-2ca32fec5203\",\"type\":\"GlyphRenderer\"},{\"attributes\":{\"data_source\":{\"id\":\"e0d7a879-1a53-4327-9f5e-fb202e56d08c\",\"type\":\"ColumnDataSource\"},\"glyph\":{\"id\":\"7aff3817-6d28-412d-94a4-7c6a7eecf4c6\",\"type\":\"Square\"},\"hover_glyph\":null,\"muted_glyph\":null,\"nonselection_glyph\":{\"id\":\"5b42baac-c4ea-42cb-a2f8-d68c23500e1d\",\"type\":\"Square\"},\"selection_glyph\":null,\"view\":{\"id\":\"86948958-8798-4995-a3c3-4c09140fa7e9\",\"type\":\"CDSView\"}},\"id\":\"f16c495c-d1f9-4f3f-babf-5da4a04cc205\",\"type\":\"GlyphRenderer\"},{\"attributes\":{\"data_source\":{\"id\":\"6edcd0a4-ee49-4ed5-9774-ce2a8c5f32c3\",\"type\":\"ColumnDataSource\"},\"glyph\":{\"id\":\"d392f9d3-f4b8-4d0d-b63c-cc91a1c1f42c\",\"type\":\"Triangle\"},\"hover_glyph\":null,\"muted_glyph\":null,\"nonselection_glyph\":{\"id\":\"543cc940-a429-4b55-8e4e-2a82d07d156b\",\"type\":\"Triangle\"},\"selection_glyph\":null,\"view\":{\"id\":\"d0ff33b1-681b-4cde-8899-6cb1650be523\",\"type\":\"CDSView\"}},\"id\":\"12c08ccc-4e04-4c47-a286-a47651d1d153\",\"type\":\"GlyphRenderer\"},{\"attributes\":{\"source\":{\"id\":\"bfedee00-f4b7-4ec0-9210-7b8301776588\",\"type\":\"ColumnDataSource\"}},\"id\":\"ad1eee3d-9a9d-4ef9-9e98-1ba50703922a\",\"type\":\"CDSView\"},{\"attributes\":{\"active_drag\":\"auto\",\"active_inspect\":\"auto\",\"active_scroll\":\"auto\",\"active_tap\":\"auto\",\"tools\":[{\"id\":\"ae2efa47-2218-4d0c-9f10-40f3ce70279a\",\"type\":\"PanTool\"},{\"id\":\"70793dfc-bc5a-472d-a616-eff2a4871737\",\"type\":\"WheelZoomTool\"},{\"id\":\"f2ca91c8-db69-4c8b-bc33-4e00843d3580\",\"type\":\"BoxZoomTool\"},{\"id\":\"4717f259-32a0-4ff6-b2f9-3015ea3145b5\",\"type\":\"SaveTool\"},{\"id\":\"59e19397-50c5-4794-a991-bbe2df4ef566\",\"type\":\"ResetTool\"},{\"id\":\"28ab7906-068a-4cb9-bd5b-0e3726085a09\",\"type\":\"HelpTool\"}]},\"id\":\"1604e86b-5317-4781-b3e1-8332db984fd5\",\"type\":\"Toolbar\"},{\"attributes\":{\"callback\":null,\"data\":{\"x\":{\"__ndarray__\":\"hegxRvuKh79AP9qfjj6Hvy9epRtemYa/QkLJITjnhb8jKM3SjTGFv9aZebWOeIS/NfT8lUi8g7+tFIJd1PyCv1V/MKtROoK/kQu6/Ah1gb/LM2IvY62Av1lxJ6Kxx3+/TDcIeCsyfr97c6i9CYB8v20a7nMiIHe/bqyj5SJwW7+UwlYub+V0P22wuWid+Is//tb9TIXEmD/pwyKicvWiP1/ZMAPI4qo/PjPcDnonsj9oj1nus2e2PyT/yWivgbY/7D3UN+Kpsj/lcG6SbYCsPw8Yd8WEf6Q/CgRa6ruDmz/nvVqDMQGRP/J1qzyAi4I/hXkFHcqbbj+zgDvq4fc9P22qXXhGIEy/jKRsuKDjUL9xEobmGqRQvyomZcUGSFG/+kde2zSdUb/iOGGbfI5Sv5L4jVVgRlW/p1VaIZHfV78vR5mabpxXv9/KyTRwAVW/oENpgx2MUr8mMcy2SJtQv3KXJ0IlBU6/dV8gTrVBS79Ww+Mb5sJIv+t1L5mhb0a/uiv84uM5RL8IaWWP5htCvxYVZOSsG0C/RR0JMZV/PL8rRI4MtQ85v+2aHKwf0jW/vlRT5iunMr9VwdVYaOcuv1uyJZRaTCi/NDbjOgxnIb/teunyClMUv9V/69+MVfS+ChSkcRv4BT+d2e4tVu8bPyUW0E1n5iY/hGwJ3vsjMD8IiH7d8gU1P0dXAVEpATo/iPkDAyrdPj/T8wyGPp9BPyZkLELNakM/ybhPq/HRRD+aKmQ5p/5FP7+WjZmSIEc/+YXn+9dVSD9pXyKX2qxJPzrahDmSK0s/\",\"dtype\":\"float64\",\"shape\":[75]},\"y\":{\"__ndarray__\":\"GhExyth1ND/Sv8nbtpRIP2vylNV0PVE/aTum7souWD/At0SJ8fVgPw3Iuahxymc/MSNhhJWvcD/bTfBN02d3P2zb5nxnaoA/CD5h5MAGhz8NmeH1TyaQP+zrCsc9p5Y/LbKd76fGnz/bLW5ISEmmPww9YvTcQq8/JV2OstnstT8Er5Y7M8G+P0c+r3jqkcU/5h99k6ZBzj88bCIzFzjVP4enV8oyxN0//yH99nXg5D8qOpLLf0jtP5kqGJXUifQ/c9cS8kHP/D+/DpwzojQEQIEmwoanVwxA4lgXt9HgE0BSSZ2AJuIbQAMJih9jjiNA5q4l5INuK0AwTKYKRj0zQNv5fmq8/DpAaCJseHrtQkB/+zpwzoxKQM3MzMzMeFJAZmZmZmZqWEAAAAAAAFxeQM3MzMzMJmJAmpmZmZkfZUBmZmZmZhhoQDMzMzMzEWtAAAAAAAAKbkBmZmZmZoFwQM3MzMzM/XFAMzMzMzN6c0CamZmZmfZ0QAAAAAAAc3ZAZmZmZmbvd0DNzMzMzGt5QDMzMzMz6HpAmpmZmZlkfEAAAAAAAOF9QGZmZmZmXX9AZmZmZuZsgECamZmZGSuBQM3MzMxM6YFAAAAAAICngkAzMzMzs2WDQGZmZmbmI4RAmpmZmRnihEDNzMzMTKCFQAAAAACAXoZAMzMzM7Mch0BmZmZm5tqHQJqZmZkZmYhAzczMzExXiUAAAAAAgBWKQDMzMzOz04pAZmZmZuaRi0CamZmZGVCMQM3MzMxMDo1AAAAAAIDMjUAzMzMzs4qOQGZmZmbmSI9A\",\"dtype\":\"float64\",\"shape\":[75]}},\"selected\":{\"id\":\"246b4754-8ba2-4db5-a6a6-53b0cc29ef26\",\"type\":\"Selection\"},\"selection_policy\":{\"id\":\"d90a60ad-67ee-4bcd-a3ae-84aebb7ac369\",\"type\":\"UnionRenderers\"}},\"id\":\"6edcd0a4-ee49-4ed5-9774-ce2a8c5f32c3\",\"type\":\"ColumnDataSource\"},{\"attributes\":{\"line_alpha\":0.6,\"line_color\":\"#984ea3\",\"line_width\":3,\"x\":{\"field\":\"x\"},\"y\":{\"field\":\"y\"}},\"id\":\"0f37c219-b1d5-4656-ad0b-af60183115a7\",\"type\":\"Line\"},{\"attributes\":{\"fill_alpha\":{\"value\":0.7},\"fill_color\":{\"value\":\"#377eb8\"},\"line_alpha\":{\"value\":0.7},\"line_color\":{\"value\":\"#377eb8\"},\"x\":{\"field\":\"x\"},\"y\":{\"field\":\"y\"}},\"id\":\"d392f9d3-f4b8-4d0d-b63c-cc91a1c1f42c\",\"type\":\"Triangle\"},{\"attributes\":{\"line_alpha\":0.1,\"line_color\":\"#1f77b4\",\"line_width\":3,\"x\":{\"field\":\"x\"},\"y\":{\"field\":\"y\"}},\"id\":\"e55d1bae-9411-4d17-bd69-9a0008232b24\",\"type\":\"Line\"},{\"attributes\":{\"data_source\":{\"id\":\"1545e18b-f1d6-450e-9fa3-82b057f01355\",\"type\":\"ColumnDataSource\"},\"glyph\":{\"id\":\"1c06540d-b836-4269-9301-fd6d5499ae07\",\"type\":\"Line\"},\"hover_glyph\":null,\"muted_glyph\":null,\"nonselection_glyph\":{\"id\":\"da3bd3b3-8ff5-431a-93b2-e4b1c4a9f078\",\"type\":\"Line\"},\"selection_glyph\":null,\"view\":{\"id\":\"057ac287-f873-41f6-95a2-1b7533634c2a\",\"type\":\"CDSView\"}},\"id\":\"a74a8e7b-b874-4164-8149-4c0888c6c21b\",\"type\":\"GlyphRenderer\"},{\"attributes\":{\"source\":{\"id\":\"e0d7a879-1a53-4327-9f5e-fb202e56d08c\",\"type\":\"ColumnDataSource\"}},\"id\":\"86948958-8798-4995-a3c3-4c09140fa7e9\",\"type\":\"CDSView\"},{\"attributes\":{\"source\":{\"id\":\"1545e18b-f1d6-450e-9fa3-82b057f01355\",\"type\":\"ColumnDataSource\"}},\"id\":\"057ac287-f873-41f6-95a2-1b7533634c2a\",\"type\":\"CDSView\"},{\"attributes\":{\"fill_alpha\":{\"value\":0.7},\"fill_color\":{\"value\":\"#4daf4a\"},\"line_alpha\":{\"value\":0.7},\"line_color\":{\"value\":\"#4daf4a\"},\"x\":{\"field\":\"x\"},\"y\":{\"field\":\"y\"}},\"id\":\"f2750651-f05e-4f60-8a30-b59dd1c63055\",\"type\":\"Circle\"},{\"attributes\":{\"label\":{\"value\":\"CRD\"},\"renderers\":[{\"id\":\"7025f2aa-4ef5-4381-a2d8-b4a906bbbc3d\",\"type\":\"GlyphRenderer\"},{\"id\":\"69c954b8-8ebb-40e6-8589-a39bec670e24\",\"type\":\"GlyphRenderer\"}]},\"id\":\"060fc497-0bd9-452a-a998-00a14ea1f982\",\"type\":\"LegendItem\"},{\"attributes\":{\"label\":{\"value\":\"WGT igg=1\"},\"renderers\":[{\"id\":\"f16c495c-d1f9-4f3f-babf-5da4a04cc205\",\"type\":\"GlyphRenderer\"},{\"id\":\"00b9df5b-1a6b-443f-8360-2ca32fec5203\",\"type\":\"GlyphRenderer\"}]},\"id\":\"30ab3af8-5f9e-4a08-aab5-64d3dcd8e39c\",\"type\":\"LegendItem\"},{\"attributes\":{\"items\":[{\"id\":\"1a6332c2-41a5-4009-940a-6a7ade472b46\",\"type\":\"LegendItem\"},{\"id\":\"7e3df37b-f0ec-4ea9-804e-d0c44dc5448c\",\"type\":\"LegendItem\"},{\"id\":\"40e7e421-674e-49bc-b6d7-703552e1e3ce\",\"type\":\"LegendItem\"}],\"label_text_font_size\":{\"value\":\"8pt\"},\"location\":\"top_center\",\"orientation\":\"horizontal\",\"plot\":{\"id\":\"6473b7a1-6e8b-45e2-add0-618612c465d7\",\"subtype\":\"Figure\",\"type\":\"Plot\"}},\"id\":\"b4869711-9a6a-4c8c-9f8c-599e78ed1a4c\",\"type\":\"Legend\"},{\"attributes\":{\"line_alpha\":0.1,\"line_color\":\"#1f77b4\",\"line_width\":2,\"x\":{\"field\":\"x\"},\"y\":{\"field\":\"y\"}},\"id\":\"da3bd3b3-8ff5-431a-93b2-e4b1c4a9f078\",\"type\":\"Line\"},{\"attributes\":{\"label\":{\"value\":\"WGT igg=10\"},\"renderers\":[{\"id\":\"12c08ccc-4e04-4c47-a286-a47651d1d153\",\"type\":\"GlyphRenderer\"},{\"id\":\"a74a8e7b-b874-4164-8149-4c0888c6c21b\",\"type\":\"GlyphRenderer\"}]},\"id\":\"20108cd6-eb1c-4198-b275-358f5354eeb5\",\"type\":\"LegendItem\"},{\"attributes\":{},\"id\":\"97b377d9-6c3d-484c-ab8d-6d6b9428e689\",\"type\":\"LinearScale\"},{\"attributes\":{\"callback\":null,\"end\":0.09351436073000001,\"start\":-0.03248447773},\"id\":\"7315296d-4a60-4597-9248-a15eb989d8c0\",\"type\":\"Range1d\"},{\"attributes\":{\"plot\":{\"id\":\"6473b7a1-6e8b-45e2-add0-618612c465d7\",\"subtype\":\"Figure\",\"type\":\"Plot\"},\"ticker\":{\"id\":\"04d6c317-8aba-48c8-9cac-a82c6bebc169\",\"type\":\"BasicTicker\"}},\"id\":\"7e407f4a-3728-40a3-a7b2-186a95394bce\",\"type\":\"Grid\"},{\"attributes\":{},\"id\":\"2cf4d11d-c64c-4937-bf10-8ea3a37729c9\",\"type\":\"LogScale\"},{\"attributes\":{\"axis_label\":\"cooling rate [K/day]\",\"formatter\":{\"id\":\"662b4db1-ac46-4ed5-a0bb-ac726b1fa3b2\",\"type\":\"BasicTickFormatter\"},\"plot\":{\"id\":\"6473b7a1-6e8b-45e2-add0-618612c465d7\",\"subtype\":\"Figure\",\"type\":\"Plot\"},\"ticker\":{\"id\":\"04d6c317-8aba-48c8-9cac-a82c6bebc169\",\"type\":\"BasicTicker\"}},\"id\":\"bbf12f99-3663-4c0d-bbe4-c084ff374d71\",\"type\":\"LinearAxis\"},{\"attributes\":{},\"id\":\"04d6c317-8aba-48c8-9cac-a82c6bebc169\",\"type\":\"BasicTicker\"},{\"attributes\":{\"axis_label\":\"pressure [mb]\",\"formatter\":{\"id\":\"56b799ff-9ad3-4827-80f1-0e83129484ca\",\"type\":\"LogTickFormatter\"},\"plot\":{\"id\":\"6473b7a1-6e8b-45e2-add0-618612c465d7\",\"subtype\":\"Figure\",\"type\":\"Plot\"},\"ticker\":{\"id\":\"7625c4f2-2300-48f6-970f-eb85effb2456\",\"type\":\"LogTicker\"}},\"id\":\"8f53c4e0-8965-4a7c-aca2-93afdeb9ef6d\",\"type\":\"LogAxis\"},{\"attributes\":{\"num_minor_ticks\":10},\"id\":\"7625c4f2-2300-48f6-970f-eb85effb2456\",\"type\":\"LogTicker\"},{\"attributes\":{\"dimension\":1,\"plot\":{\"id\":\"6473b7a1-6e8b-45e2-add0-618612c465d7\",\"subtype\":\"Figure\",\"type\":\"Plot\"},\"ticker\":{\"id\":\"7625c4f2-2300-48f6-970f-eb85effb2456\",\"type\":\"LogTicker\"}},\"id\":\"29e81583-0322-4c51-afab-38bbca02fa84\",\"type\":\"Grid\"},{\"attributes\":{},\"id\":\"246b4754-8ba2-4db5-a6a6-53b0cc29ef26\",\"type\":\"Selection\"},{\"attributes\":{\"bottom_units\":\"screen\",\"fill_alpha\":{\"value\":0.5},\"fill_color\":{\"value\":\"lightgrey\"},\"left_units\":\"screen\",\"level\":\"overlay\",\"line_alpha\":{\"value\":1.0},\"line_color\":{\"value\":\"black\"},\"line_dash\":[4,4],\"line_width\":{\"value\":2},\"plot\":null,\"render_mode\":\"css\",\"right_units\":\"screen\",\"top_units\":\"screen\"},\"id\":\"c2e085aa-1597-4a94-8d44-75cff31ecf38\",\"type\":\"BoxAnnotation\"},{\"attributes\":{},\"id\":\"ae2efa47-2218-4d0c-9f10-40f3ce70279a\",\"type\":\"PanTool\"},{\"attributes\":{},\"id\":\"70793dfc-bc5a-472d-a616-eff2a4871737\",\"type\":\"WheelZoomTool\"},{\"attributes\":{\"overlay\":{\"id\":\"c2e085aa-1597-4a94-8d44-75cff31ecf38\",\"type\":\"BoxAnnotation\"}},\"id\":\"f2ca91c8-db69-4c8b-bc33-4e00843d3580\",\"type\":\"BoxZoomTool\"},{\"attributes\":{},\"id\":\"4717f259-32a0-4ff6-b2f9-3015ea3145b5\",\"type\":\"SaveTool\"},{\"attributes\":{},\"id\":\"59e19397-50c5-4794-a991-bbe2df4ef566\",\"type\":\"ResetTool\"},{\"attributes\":{},\"id\":\"28ab7906-068a-4cb9-bd5b-0e3726085a09\",\"type\":\"HelpTool\"},{\"attributes\":{\"fill_alpha\":{\"value\":0.1},\"fill_color\":{\"value\":\"#1f77b4\"},\"line_alpha\":{\"value\":0.1},\"line_color\":{\"value\":\"#1f77b4\"},\"x\":{\"field\":\"x\"},\"y\":{\"field\":\"y\"}},\"id\":\"be3bd389-2454-44cc-9817-f124a30dc7c0\",\"type\":\"Circle\"}],\"root_ids\":[\"bfe556fc-ba70-41a2-8e0a-e83ca4253e1e\"]},\"title\":\"Bokeh Application\",\"version\":\"0.12.16\"}};\n",
       "  var render_items = [{\"docid\":\"82bcf4b9-cd1f-4e62-9120-8b0ccf239bb2\",\"elementid\":\"96a322e6-1017-454c-b943-4d2c28fbbb57\",\"modelid\":\"bfe556fc-ba70-41a2-8e0a-e83ca4253e1e\"}];\n",
       "  root.Bokeh.embed.embed_items_notebook(docs_json, render_items);\n",
       "\n",
       "  }\n",
       "  if (root.Bokeh !== undefined) {\n",
       "    embed_document(root);\n",
       "  } else {\n",
       "    var attempts = 0;\n",
       "    var timer = setInterval(function(root) {\n",
       "      if (root.Bokeh !== undefined) {\n",
       "        embed_document(root);\n",
       "        clearInterval(timer);\n",
       "      }\n",
       "      attempts++;\n",
       "      if (attempts > 100) {\n",
       "        console.log(\"Bokeh: ERROR: Unable to run BokehJS code because BokehJS library is missing\")\n",
       "        clearInterval(timer);\n",
       "      }\n",
       "    }, 10, root)\n",
       "  }\n",
       "})(window);"
      ],
      "application/vnd.bokehjs_exec.v0+json": ""
     },
     "metadata": {
      "application/vnd.bokehjs_exec.v0+json": {
       "id": "bfe556fc-ba70-41a2-8e0a-e83ca4253e1e"
      }
     },
     "output_type": "display_data"
    },
    {
     "data": {
      "text/markdown": [
       "*FIGURE.* Cooling rates. g=1"
      ],
      "text/plain": [
       "<IPython.core.display.Markdown object>"
      ]
     },
     "metadata": {},
     "output_type": "display_data"
    },
    {
     "data": {
      "text/html": [
       "\n",
       "<div class=\"bk-root\">\n",
       "    <div class=\"bk-plotdiv\" id=\"a0199838-2a46-416b-a74e-29ce7d3a5e24\"></div>\n",
       "</div>"
      ]
     },
     "metadata": {},
     "output_type": "display_data"
    },
    {
     "data": {
      "application/javascript": [
       "(function(root) {\n",
       "  function embed_document(root) {\n",
       "    \n",
       "  var docs_json = {\"aa0bb729-d55a-4a4d-af99-f8e4f85f00d5\":{\"roots\":{\"references\":[{\"attributes\":{\"callback\":null,\"data\":{\"x\":{\"__ndarray__\":\"qRgWqqsXF797T5QLK8QWv3HH39dsBBa/RcD8A74yFb/JglznS1oUv6po3uJ7exO/t6fv15WWEr/TdpRV86sRv6vBJcTsuxC/8t9Uqt+ND7/sfELEo5oNvywfOqMGngu/lrOe+e6WCb88nZkIjFYHv6GNSQlMqv2+TTDBNl+z/j7Vi1zlDH4jP0dFky1+BzY/7Pm31EBlRD+9xBRAQ0xRP6+KWImX9Vs/0ZC0DpzpZT+7kYYOEoZvPyiC9xd6MnI/cPUjU7N/cT+YFRWw5ytwP45SEJsLxW0/CjQkY79raz9dFuuJok9pP/eSpDUP6mY/Bekv4qUVYz8awBMmkPpZPwMrE40zeUU//GWJ4WaGPL/YVlhepUNfv6nEBl2TjW6/ZQxVLNzEdb/JNVkxybl6v1d31rWQXH+/1OwCIJV7gb+taKeypdiBv6tVPPDY6IC/taeOnB9bf79n2Y6+Dd58v0N8mU3kZ3q/OvIJ31f6d785biOn8JV1vydu4IhRO3O/Qki6CMrrcL/cRaSnOVJtv6uHc8KA9Gi/GPfeWELJZL+m73SxKdNgv3RwuxfpE1q/3FDihwu/Ur/1JtJcHRxHv/H6LEEFvjG//9vZoMhAJT98iO+pZoBDP0qfHQKc3VA/TZs0AKkDWD+LxB5AYTVfP4NOvbNTOmM/O7duIrHfZj9FHrfSAYZqP8DeBdFoIG4/JMqgE7DIcD8+KQtOoVRyP0Gs/3YHn3M/3t/0vIindD8jxXQoWYN1P5A9YLUpS3Y/5i1/BwQPdz8BTd8P4dZ3P80HRg1Gpng/\",\"dtype\":\"float64\",\"shape\":[75]},\"y\":{\"__ndarray__\":\"GhExyth1ND/Sv8nbtpRIP2vylNV0PVE/aTum7souWD/At0SJ8fVgPw3Iuahxymc/MSNhhJWvcD/bTfBN02d3P2zb5nxnaoA/CD5h5MAGhz8NmeH1TyaQP+zrCsc9p5Y/LbKd76fGnz/bLW5ISEmmPww9YvTcQq8/JV2OstnstT8Er5Y7M8G+P0c+r3jqkcU/5h99k6ZBzj88bCIzFzjVP4enV8oyxN0//yH99nXg5D8qOpLLf0jtP5kqGJXUifQ/c9cS8kHP/D+/DpwzojQEQIEmwoanVwxA4lgXt9HgE0BSSZ2AJuIbQAMJih9jjiNA5q4l5INuK0AwTKYKRj0zQNv5fmq8/DpAaCJseHrtQkB/+zpwzoxKQM3MzMzMeFJAZmZmZmZqWEAAAAAAAFxeQM3MzMzMJmJAmpmZmZkfZUBmZmZmZhhoQDMzMzMzEWtAAAAAAAAKbkBmZmZmZoFwQM3MzMzM/XFAMzMzMzN6c0CamZmZmfZ0QAAAAAAAc3ZAZmZmZmbvd0DNzMzMzGt5QDMzMzMz6HpAmpmZmZlkfEAAAAAAAOF9QGZmZmZmXX9AZmZmZuZsgECamZmZGSuBQM3MzMxM6YFAAAAAAICngkAzMzMzs2WDQGZmZmbmI4RAmpmZmRnihEDNzMzMTKCFQAAAAACAXoZAMzMzM7Mch0BmZmZm5tqHQJqZmZkZmYhAzczMzExXiUAAAAAAgBWKQDMzMzOz04pAZmZmZuaRi0CamZmZGVCMQM3MzMxMDo1AAAAAAIDMjUAzMzMzs4qOQGZmZmbmSI9A\",\"dtype\":\"float64\",\"shape\":[75]}},\"selected\":{\"id\":\"964d6b05-050c-400f-8716-c6273e482225\",\"type\":\"Selection\"},\"selection_policy\":{\"id\":\"b0743c5e-9294-4e89-b740-7eb654e8adec\",\"type\":\"UnionRenderers\"}},\"id\":\"c3b9c943-3d87-4bd3-b8fb-2cbf1a61caf2\",\"type\":\"ColumnDataSource\"},{\"attributes\":{\"fill_alpha\":{\"value\":0.1},\"fill_color\":{\"value\":\"#1f77b4\"},\"line_alpha\":{\"value\":0.1},\"line_color\":{\"value\":\"#1f77b4\"},\"x\":{\"field\":\"x\"},\"y\":{\"field\":\"y\"}},\"id\":\"a63bbd13-c01b-426a-b3ed-c093518c3205\",\"type\":\"Triangle\"},{\"attributes\":{\"data_source\":{\"id\":\"6eba716b-863b-4f3f-b899-eff8f8f89d6b\",\"type\":\"ColumnDataSource\"},\"glyph\":{\"id\":\"cbc4941a-920c-4ab2-8ff3-011d13dbf877\",\"type\":\"Triangle\"},\"hover_glyph\":null,\"muted_glyph\":null,\"nonselection_glyph\":{\"id\":\"a63bbd13-c01b-426a-b3ed-c093518c3205\",\"type\":\"Triangle\"},\"selection_glyph\":null,\"view\":{\"id\":\"342feb0b-4f8e-4df0-a95a-0e6e997c30a1\",\"type\":\"CDSView\"}},\"id\":\"72f44a68-5f79-4bc6-82ab-887b9dec8d74\",\"type\":\"GlyphRenderer\"},{\"attributes\":{\"source\":{\"id\":\"72be1d42-c314-4a81-a928-03870bfcf70c\",\"type\":\"ColumnDataSource\"}},\"id\":\"ccd8ffe1-7a41-4ab9-b37c-2d076aff0d01\",\"type\":\"CDSView\"},{\"attributes\":{\"source\":{\"id\":\"6eba716b-863b-4f3f-b899-eff8f8f89d6b\",\"type\":\"ColumnDataSource\"}},\"id\":\"342feb0b-4f8e-4df0-a95a-0e6e997c30a1\",\"type\":\"CDSView\"},{\"attributes\":{\"line_alpha\":0.3,\"line_color\":\"#377eb8\",\"line_width\":2,\"x\":{\"field\":\"x\"},\"y\":{\"field\":\"y\"}},\"id\":\"4ae28f60-94f3-4a2e-8533-cbf70780fea1\",\"type\":\"Line\"},{\"attributes\":{\"children\":[{\"id\":\"4a7e06b9-91db-4bdc-a759-453dce7bc3a0\",\"type\":\"Row\"}]},\"id\":\"cf3b83f2-d05d-49f8-bfec-4a3f97511fbf\",\"type\":\"Column\"},{\"attributes\":{\"fill_alpha\":{\"value\":0.1},\"fill_color\":{\"value\":\"#1f77b4\"},\"line_alpha\":{\"value\":0.1},\"line_color\":{\"value\":\"#1f77b4\"},\"x\":{\"field\":\"x\"},\"y\":{\"field\":\"y\"}},\"id\":\"e250dfc8-77da-477d-adb6-0bc86cd37b46\",\"type\":\"Square\"},{\"attributes\":{\"line_alpha\":0.1,\"line_color\":\"#1f77b4\",\"line_width\":2,\"x\":{\"field\":\"x\"},\"y\":{\"field\":\"y\"}},\"id\":\"7ea7b5f1-6d41-460f-8aec-04aaa7db2010\",\"type\":\"Line\"},{\"attributes\":{\"data_source\":{\"id\":\"c3b9c943-3d87-4bd3-b8fb-2cbf1a61caf2\",\"type\":\"ColumnDataSource\"},\"glyph\":{\"id\":\"4ae28f60-94f3-4a2e-8533-cbf70780fea1\",\"type\":\"Line\"},\"hover_glyph\":null,\"muted_glyph\":null,\"nonselection_glyph\":{\"id\":\"7ea7b5f1-6d41-460f-8aec-04aaa7db2010\",\"type\":\"Line\"},\"selection_glyph\":null,\"view\":{\"id\":\"295b9288-d68f-42a1-b724-83ef72f6fc40\",\"type\":\"CDSView\"}},\"id\":\"ece352dd-31a4-4404-9272-d61d75dcbe18\",\"type\":\"GlyphRenderer\"},{\"attributes\":{\"source\":{\"id\":\"c3b9c943-3d87-4bd3-b8fb-2cbf1a61caf2\",\"type\":\"ColumnDataSource\"}},\"id\":\"295b9288-d68f-42a1-b724-83ef72f6fc40\",\"type\":\"CDSView\"},{\"attributes\":{\"data_source\":{\"id\":\"009274cb-d052-46c1-8534-17581d9707db\",\"type\":\"ColumnDataSource\"},\"glyph\":{\"id\":\"62606a93-03f6-46fc-bb27-e8ced0dfc763\",\"type\":\"Line\"},\"hover_glyph\":null,\"muted_glyph\":null,\"nonselection_glyph\":{\"id\":\"e3eb0016-4fe1-4679-bb54-dd8e59edd22a\",\"type\":\"Line\"},\"selection_glyph\":null,\"view\":{\"id\":\"d1c537d2-7ca3-49e9-a273-5a6c39974c4c\",\"type\":\"CDSView\"}},\"id\":\"2d55b56d-6b2f-4e36-ba14-29b06036c527\",\"type\":\"GlyphRenderer\"},{\"attributes\":{\"plot\":null,\"text\":\"\"},\"id\":\"b6b2595c-1769-47d1-a0d0-90b7ed28e3ec\",\"type\":\"Title\"},{\"attributes\":{\"children\":[{\"id\":\"0f80cac1-41bd-4126-b75f-71e8c1540359\",\"subtype\":\"Figure\",\"type\":\"Plot\"},{\"id\":\"88e9c25f-0e79-4f58-ab70-e185aa082ffd\",\"subtype\":\"Figure\",\"type\":\"Plot\"}]},\"id\":\"4a7e06b9-91db-4bdc-a759-453dce7bc3a0\",\"type\":\"Row\"},{\"attributes\":{\"callback\":null,\"data\":{\"x\":{\"__ndarray__\":\"qRgWqqsXF797T5QLK8QWv3HH39dsBBa/RcD8A74yFb/JglznS1oUv6po3uJ7exO/t6fv15WWEr/TdpRV86sRv6vBJcTsuxC/8t9Uqt+ND7/sfELEo5oNvywfOqMGngu/lrOe+e6WCb88nZkIjFYHv6GNSQlMqv2+TTDBNl+z/j7Vi1zlDH4jP0dFky1+BzY/7Pm31EBlRD+9xBRAQ0xRP6+KWImX9Vs/0ZC0DpzpZT+7kYYOEoZvPyiC9xd6MnI/cPUjU7N/cT+YFRWw5ytwP45SEJsLxW0/CjQkY79raz9dFuuJok9pP/eSpDUP6mY/Bekv4qUVYz8awBMmkPpZPwMrE40zeUU//GWJ4WaGPL/YVlhepUNfv6nEBl2TjW6/ZQxVLNzEdb/JNVkxybl6v1d31rWQXH+/1OwCIJV7gb+taKeypdiBv6tVPPDY6IC/taeOnB9bf79n2Y6+Dd58v0N8mU3kZ3q/OvIJ31f6d785biOn8JV1vydu4IhRO3O/Qki6CMrrcL/cRaSnOVJtv6uHc8KA9Gi/GPfeWELJZL+m73SxKdNgv3RwuxfpE1q/3FDihwu/Ur/1JtJcHRxHv/H6LEEFvjG//9vZoMhAJT98iO+pZoBDP0qfHQKc3VA/TZs0AKkDWD+LxB5AYTVfP4NOvbNTOmM/O7duIrHfZj9FHrfSAYZqP8DeBdFoIG4/JMqgE7DIcD8+KQtOoVRyP0Gs/3YHn3M/3t/0vIindD8jxXQoWYN1P5A9YLUpS3Y/5i1/BwQPdz8BTd8P4dZ3P80HRg1Gpng/\",\"dtype\":\"float64\",\"shape\":[75]},\"y\":{\"__ndarray__\":\"GhExyth1ND/Sv8nbtpRIP2vylNV0PVE/aTum7souWD/At0SJ8fVgPw3Iuahxymc/MSNhhJWvcD/bTfBN02d3P2zb5nxnaoA/CD5h5MAGhz8NmeH1TyaQP+zrCsc9p5Y/LbKd76fGnz/bLW5ISEmmPww9YvTcQq8/JV2OstnstT8Er5Y7M8G+P0c+r3jqkcU/5h99k6ZBzj88bCIzFzjVP4enV8oyxN0//yH99nXg5D8qOpLLf0jtP5kqGJXUifQ/c9cS8kHP/D+/DpwzojQEQIEmwoanVwxA4lgXt9HgE0BSSZ2AJuIbQAMJih9jjiNA5q4l5INuK0AwTKYKRj0zQNv5fmq8/DpAaCJseHrtQkB/+zpwzoxKQM3MzMzMeFJAZmZmZmZqWEAAAAAAAFxeQM3MzMzMJmJAmpmZmZkfZUBmZmZmZhhoQDMzMzMzEWtAAAAAAAAKbkBmZmZmZoFwQM3MzMzM/XFAMzMzMzN6c0CamZmZmfZ0QAAAAAAAc3ZAZmZmZmbvd0DNzMzMzGt5QDMzMzMz6HpAmpmZmZlkfEAAAAAAAOF9QGZmZmZmXX9AZmZmZuZsgECamZmZGSuBQM3MzMxM6YFAAAAAAICngkAzMzMzs2WDQGZmZmbmI4RAmpmZmRnihEDNzMzMTKCFQAAAAACAXoZAMzMzM7Mch0BmZmZm5tqHQJqZmZkZmYhAzczMzExXiUAAAAAAgBWKQDMzMzOz04pAZmZmZuaRi0CamZmZGVCMQM3MzMxMDo1AAAAAAIDMjUAzMzMzs4qOQGZmZmbmSI9A\",\"dtype\":\"float64\",\"shape\":[75]}},\"selected\":{\"id\":\"827f7300-a64a-44c2-9cfc-67aa77aa8a74\",\"type\":\"Selection\"},\"selection_policy\":{\"id\":\"7f0b6dac-2f0f-4876-a87c-a687dff6d2fa\",\"type\":\"UnionRenderers\"}},\"id\":\"33c1cdc9-3fff-4164-85ee-90d2c4f3c293\",\"type\":\"ColumnDataSource\"},{\"attributes\":{\"source\":{\"id\":\"009274cb-d052-46c1-8534-17581d9707db\",\"type\":\"ColumnDataSource\"}},\"id\":\"d1c537d2-7ca3-49e9-a273-5a6c39974c4c\",\"type\":\"CDSView\"},{\"attributes\":{\"label\":{\"value\":\"CRD\"},\"renderers\":[{\"id\":\"1f31318c-dfc8-4fa5-93fd-642875e0ad9b\",\"type\":\"GlyphRenderer\"},{\"id\":\"f9144067-422d-4707-a216-2884bcdae387\",\"type\":\"GlyphRenderer\"}]},\"id\":\"76990d24-dc85-44db-a97c-d2466400e66e\",\"type\":\"LegendItem\"},{\"attributes\":{},\"id\":\"7f0b6dac-2f0f-4876-a87c-a687dff6d2fa\",\"type\":\"UnionRenderers\"},{\"attributes\":{\"label\":{\"value\":\"WGT igg=1\"},\"renderers\":[{\"id\":\"1d764f87-6bf3-4453-9fff-9f22e5368766\",\"type\":\"GlyphRenderer\"},{\"id\":\"87c462ac-08a6-4a8a-a448-55be20700632\",\"type\":\"GlyphRenderer\"}]},\"id\":\"e65bf698-49cd-40f1-acd0-d1439ade7a1b\",\"type\":\"LegendItem\"},{\"attributes\":{},\"id\":\"93464a9e-cbf7-4caf-9045-96e62ac8e6fa\",\"type\":\"Selection\"},{\"attributes\":{\"label\":{\"value\":\"WGT igg=10\"},\"renderers\":[{\"id\":\"72f44a68-5f79-4bc6-82ab-887b9dec8d74\",\"type\":\"GlyphRenderer\"},{\"id\":\"ece352dd-31a4-4404-9272-d61d75dcbe18\",\"type\":\"GlyphRenderer\"}]},\"id\":\"cae038ac-276b-43bf-a57c-a2fcfe276385\",\"type\":\"LegendItem\"},{\"attributes\":{\"line_alpha\":0.6,\"line_color\":\"#984ea3\",\"line_width\":3,\"x\":{\"field\":\"x\"},\"y\":{\"field\":\"y\"}},\"id\":\"62606a93-03f6-46fc-bb27-e8ced0dfc763\",\"type\":\"Line\"},{\"attributes\":{},\"id\":\"827f7300-a64a-44c2-9cfc-67aa77aa8a74\",\"type\":\"Selection\"},{\"attributes\":{},\"id\":\"fe06f86d-83e7-4f0f-b276-ff0c6d080d53\",\"type\":\"BasicTickFormatter\"},{\"attributes\":{},\"id\":\"dd86eb00-5857-459b-b78a-4874bac53be5\",\"type\":\"BasicTickFormatter\"},{\"attributes\":{},\"id\":\"0929a9a5-7537-46f4-afb3-b3cba2b4cb57\",\"type\":\"Selection\"},{\"attributes\":{},\"id\":\"54d056a0-b472-44c8-acb7-f5ecd594f86d\",\"type\":\"BasicTickFormatter\"},{\"attributes\":{\"plot\":null,\"text\":\"\"},\"id\":\"f419a95d-9eb3-4209-bdc2-4034c5407c56\",\"type\":\"Title\"},{\"attributes\":{\"line_alpha\":0.1,\"line_color\":\"#1f77b4\",\"line_width\":1.5,\"x\":{\"field\":\"x\"},\"y\":{\"field\":\"y\"}},\"id\":\"e60df7c1-6caf-4644-be9b-42a6da90b065\",\"type\":\"Line\"},{\"attributes\":{},\"id\":\"ba4802f8-23c1-4e39-9b0f-1b2787cee086\",\"type\":\"UnionRenderers\"},{\"attributes\":{\"data_source\":{\"id\":\"49255fbf-678a-49bc-9a2b-17ffca4fcf55\",\"type\":\"ColumnDataSource\"},\"glyph\":{\"id\":\"cc1f8316-3530-4306-9559-15f10930a30f\",\"type\":\"Line\"},\"hover_glyph\":null,\"muted_glyph\":null,\"nonselection_glyph\":{\"id\":\"01e9964f-c7f6-4a27-80dd-2cbdc894e5f5\",\"type\":\"Line\"},\"selection_glyph\":null,\"view\":{\"id\":\"64a195a5-8a9d-473a-baf2-1f1fbecc2761\",\"type\":\"CDSView\"}},\"id\":\"287c778e-bfa9-4daf-9350-0774c02c362d\",\"type\":\"GlyphRenderer\"},{\"attributes\":{},\"id\":\"0670a633-1f81-45db-b849-d99be816ea6d\",\"type\":\"UnionRenderers\"},{\"attributes\":{\"data_source\":{\"id\":\"33c1cdc9-3fff-4164-85ee-90d2c4f3c293\",\"type\":\"ColumnDataSource\"},\"glyph\":{\"id\":\"c05175df-26e6-4fd0-9d90-ce576a9b599f\",\"type\":\"Triangle\"},\"hover_glyph\":null,\"muted_glyph\":null,\"nonselection_glyph\":{\"id\":\"27624446-b1b2-431a-bcb8-062a7d4b7aa2\",\"type\":\"Triangle\"},\"selection_glyph\":null,\"view\":{\"id\":\"04bfdf88-549b-4e53-bb3d-9ee01781e3c2\",\"type\":\"CDSView\"}},\"id\":\"b4a49b1d-eca3-4401-a6ce-9da5b3f42108\",\"type\":\"GlyphRenderer\"},{\"attributes\":{},\"id\":\"a371a412-7513-49f7-a5e7-830a3d6eea4e\",\"type\":\"UnionRenderers\"},{\"attributes\":{\"line_alpha\":0.1,\"line_color\":\"#1f77b4\",\"line_width\":3,\"x\":{\"field\":\"x\"},\"y\":{\"field\":\"y\"}},\"id\":\"e3eb0016-4fe1-4679-bb54-dd8e59edd22a\",\"type\":\"Line\"},{\"attributes\":{},\"id\":\"5cff409a-a94a-4041-8971-833e5bae6168\",\"type\":\"UnionRenderers\"},{\"attributes\":{},\"id\":\"878f4278-0cdf-43ec-9d18-9c023aabda95\",\"type\":\"Selection\"},{\"attributes\":{\"source\":{\"id\":\"33c1cdc9-3fff-4164-85ee-90d2c4f3c293\",\"type\":\"ColumnDataSource\"}},\"id\":\"04bfdf88-549b-4e53-bb3d-9ee01781e3c2\",\"type\":\"CDSView\"},{\"attributes\":{},\"id\":\"b43163e8-520c-4c53-8964-b46f06b4e185\",\"type\":\"Selection\"},{\"attributes\":{\"callback\":null,\"data\":{\"x\":{\"__ndarray__\":\"tjuBFVCnFb/AINSR6jwVv+VWKSsDTBS/NoilFm5EE7/SRlkY8zMSv4KObozMGhG/t8rJIuzxD78RWFOvwpwNv5sxXKypNQu/Uw3LHfm7CL9R35bASC4Gv8B3spqPiQO/fE68KrbIAL8AxOdIR1r7vrTNP3bIMNa+rUrve+RjET/PapUhDfUrP9zfYsf7/zw/qC99fO7rST/CLLOXlJNVP7fO1vlrPWE/oIk6+GzSaj/l4ugcjjZzP5sC4rwbLnY/iqlZiNNndT/QcQ3qXedzP5Ru7peme3I/i0o6cC0fcT9F2D7N2gBwP8cvA2hwaG0/5a/M9yU9aT/AZAlAmnBiP5kOlFEp2lM/o/S56zXY5T7hrV/noO9Zvz6PhbRDjWy/1lszlDu1dL/+Yo5TaGh5v9Wh8m7u6H2/JauigHS/gL+qWr+STAuBv2mXvOej+H+/U8HjBjxjfb+daYfdxeR6v418zyGYfni/NmN6Bnkrdr+/J59t2OdzvyI1P8++sXG/OASVmVwRb7+Qg/FX8dtqvydVjSxB0Ga/FCZv7BD5Yr+GSfeGybNev1cjaosz0le/dpADKcstUb+GBSHUjlVFv7z0LJHW2zC/GVFSObbXIT8pKBLFGGZBP+ms7oTPbU4/n8+MNvHLVT+J2cIgZndcP+Pz16OonmE/45glNFsPZT/7J/VySopoP41Xu05sA2w/WCnMWWlbbz8+G/lA0i5xP5nYof6YbXI/BluEXARqcz8hw+bAyzx0P+UY5AWMAnU/IFbP71rOdT9Q60NAwap2PzmcSh0coHc/\",\"dtype\":\"float64\",\"shape\":[75]},\"y\":{\"__ndarray__\":\"GhExyth1ND/Sv8nbtpRIP2vylNV0PVE/aTum7souWD/At0SJ8fVgPw3Iuahxymc/MSNhhJWvcD/bTfBN02d3P2zb5nxnaoA/CD5h5MAGhz8NmeH1TyaQP+zrCsc9p5Y/LbKd76fGnz/bLW5ISEmmPww9YvTcQq8/JV2OstnstT8Er5Y7M8G+P0c+r3jqkcU/5h99k6ZBzj88bCIzFzjVP4enV8oyxN0//yH99nXg5D8qOpLLf0jtP5kqGJXUifQ/c9cS8kHP/D+/DpwzojQEQIEmwoanVwxA4lgXt9HgE0BSSZ2AJuIbQAMJih9jjiNA5q4l5INuK0AwTKYKRj0zQNv5fmq8/DpAaCJseHrtQkB/+zpwzoxKQM3MzMzMeFJAZmZmZmZqWEAAAAAAAFxeQM3MzMzMJmJAmpmZmZkfZUBmZmZmZhhoQDMzMzMzEWtAAAAAAAAKbkBmZmZmZoFwQM3MzMzM/XFAMzMzMzN6c0CamZmZmfZ0QAAAAAAAc3ZAZmZmZmbvd0DNzMzMzGt5QDMzMzMz6HpAmpmZmZlkfEAAAAAAAOF9QGZmZmZmXX9AZmZmZuZsgECamZmZGSuBQM3MzMxM6YFAAAAAAICngkAzMzMzs2WDQGZmZmbmI4RAmpmZmRnihEDNzMzMTKCFQAAAAACAXoZAMzMzM7Mch0BmZmZm5tqHQJqZmZkZmYhAzczMzExXiUAAAAAAgBWKQDMzMzOz04pAZmZmZuaRi0CamZmZGVCMQM3MzMxMDo1AAAAAAIDMjUAzMzMzs4qOQGZmZmbmSI9A\",\"dtype\":\"float64\",\"shape\":[75]}},\"selected\":{\"id\":\"7831fe1b-129f-41de-8146-19972c9cb7ba\",\"type\":\"Selection\"},\"selection_policy\":{\"id\":\"a371a412-7513-49f7-a5e7-830a3d6eea4e\",\"type\":\"UnionRenderers\"}},\"id\":\"009274cb-d052-46c1-8534-17581d9707db\",\"type\":\"ColumnDataSource\"},{\"attributes\":{},\"id\":\"0f846711-1cfa-4d7b-890f-86f8e6ba22b8\",\"type\":\"UnionRenderers\"},{\"attributes\":{},\"id\":\"10f3bcef-97a8-41ff-bce4-5ff7e3152508\",\"type\":\"Selection\"},{\"attributes\":{\"line_alpha\":0.3,\"line_color\":\"#377eb8\",\"line_width\":2,\"x\":{\"field\":\"x\"},\"y\":{\"field\":\"y\"}},\"id\":\"cc1f8316-3530-4306-9559-15f10930a30f\",\"type\":\"Line\"},{\"attributes\":{},\"id\":\"4a158e14-4b46-4642-bb4b-5562b15b07e7\",\"type\":\"UnionRenderers\"},{\"attributes\":{},\"id\":\"9588ec30-a3c8-492f-af49-ee18facaad6a\",\"type\":\"Selection\"},{\"attributes\":{},\"id\":\"be15bb2f-a712-4bc9-87cd-763c7105437f\",\"type\":\"UnionRenderers\"},{\"attributes\":{\"callback\":null,\"data\":{\"x\":{\"__ndarray__\":\"tjuBFVCnFb/AINSR6jwVv+VWKSsDTBS/NoilFm5EE7/SRlkY8zMSv4KObozMGhG/t8rJIuzxD78RWFOvwpwNv5sxXKypNQu/Uw3LHfm7CL9R35bASC4Gv8B3spqPiQO/fE68KrbIAL8AxOdIR1r7vrTNP3bIMNa+rUrve+RjET/PapUhDfUrP9zfYsf7/zw/qC99fO7rST/CLLOXlJNVP7fO1vlrPWE/oIk6+GzSaj/l4ugcjjZzP5sC4rwbLnY/iqlZiNNndT/QcQ3qXedzP5Ru7peme3I/i0o6cC0fcT9F2D7N2gBwP8cvA2hwaG0/5a/M9yU9aT/AZAlAmnBiP5kOlFEp2lM/o/S56zXY5T7hrV/noO9Zvz6PhbRDjWy/1lszlDu1dL/+Yo5TaGh5v9Wh8m7u6H2/JauigHS/gL+qWr+STAuBv2mXvOej+H+/U8HjBjxjfb+daYfdxeR6v418zyGYfni/NmN6Bnkrdr+/J59t2OdzvyI1P8++sXG/OASVmVwRb7+Qg/FX8dtqvydVjSxB0Ga/FCZv7BD5Yr+GSfeGybNev1cjaosz0le/dpADKcstUb+GBSHUjlVFv7z0LJHW2zC/GVFSObbXIT8pKBLFGGZBP+ms7oTPbU4/n8+MNvHLVT+J2cIgZndcP+Pz16OonmE/45glNFsPZT/7J/VySopoP41Xu05sA2w/WCnMWWlbbz8+G/lA0i5xP5nYof6YbXI/BluEXARqcz8hw+bAyzx0P+UY5AWMAnU/IFbP71rOdT9Q60NAwap2PzmcSh0coHc/\",\"dtype\":\"float64\",\"shape\":[75]},\"y\":{\"__ndarray__\":\"GhExyth1ND/Sv8nbtpRIP2vylNV0PVE/aTum7souWD/At0SJ8fVgPw3Iuahxymc/MSNhhJWvcD/bTfBN02d3P2zb5nxnaoA/CD5h5MAGhz8NmeH1TyaQP+zrCsc9p5Y/LbKd76fGnz/bLW5ISEmmPww9YvTcQq8/JV2OstnstT8Er5Y7M8G+P0c+r3jqkcU/5h99k6ZBzj88bCIzFzjVP4enV8oyxN0//yH99nXg5D8qOpLLf0jtP5kqGJXUifQ/c9cS8kHP/D+/DpwzojQEQIEmwoanVwxA4lgXt9HgE0BSSZ2AJuIbQAMJih9jjiNA5q4l5INuK0AwTKYKRj0zQNv5fmq8/DpAaCJseHrtQkB/+zpwzoxKQM3MzMzMeFJAZmZmZmZqWEAAAAAAAFxeQM3MzMzMJmJAmpmZmZkfZUBmZmZmZhhoQDMzMzMzEWtAAAAAAAAKbkBmZmZmZoFwQM3MzMzM/XFAMzMzMzN6c0CamZmZmfZ0QAAAAAAAc3ZAZmZmZmbvd0DNzMzMzGt5QDMzMzMz6HpAmpmZmZlkfEAAAAAAAOF9QGZmZmZmXX9AZmZmZuZsgECamZmZGSuBQM3MzMxM6YFAAAAAAICngkAzMzMzs2WDQGZmZmbmI4RAmpmZmRnihEDNzMzMTKCFQAAAAACAXoZAMzMzM7Mch0BmZmZm5tqHQJqZmZkZmYhAzczMzExXiUAAAAAAgBWKQDMzMzOz04pAZmZmZuaRi0CamZmZGVCMQM3MzMxMDo1AAAAAAIDMjUAzMzMzs4qOQGZmZmbmSI9A\",\"dtype\":\"float64\",\"shape\":[75]}},\"selected\":{\"id\":\"b47153af-9983-4d1d-bba7-79592cb949dc\",\"type\":\"Selection\"},\"selection_policy\":{\"id\":\"1d3eedc0-542a-4743-bc19-b2a04ef444f0\",\"type\":\"UnionRenderers\"}},\"id\":\"9572e766-a785-4298-960f-1a82c3c74f04\",\"type\":\"ColumnDataSource\"},{\"attributes\":{\"tools\":[{\"id\":\"deed4470-8c26-42b0-bb0d-a3dff482aad1\",\"type\":\"PanTool\"},{\"id\":\"0d0f157a-cd91-405c-ab34-78ede4019ccd\",\"type\":\"WheelZoomTool\"},{\"id\":\"a5ee1d28-3b86-40f1-91bc-e3296917165e\",\"type\":\"BoxZoomTool\"},{\"id\":\"f1307094-1e93-4243-9800-dc8da92f3c56\",\"type\":\"SaveTool\"},{\"id\":\"5ec7d6ce-36f2-41a2-af79-cea0440c6bdd\",\"type\":\"ResetTool\"},{\"id\":\"60934fce-e22e-47f5-8098-3ba183fa67ba\",\"type\":\"HelpTool\"},{\"id\":\"6d5a5b37-8e85-429d-98e9-b4ed1e38e09f\",\"type\":\"PanTool\"},{\"id\":\"6b635aa6-7339-4e60-832f-18f3d8cf0535\",\"type\":\"WheelZoomTool\"},{\"id\":\"b97d29b4-9446-4172-adad-7e6af2b635d0\",\"type\":\"BoxZoomTool\"},{\"id\":\"cd0200be-aae0-401f-bc66-8ceb09fddd4e\",\"type\":\"SaveTool\"},{\"id\":\"b4e0e3cf-f677-4297-af0e-8eb472494ead\",\"type\":\"ResetTool\"},{\"id\":\"a4309581-c4c9-4100-80eb-d694301314cd\",\"type\":\"HelpTool\"}]},\"id\":\"fdf85a2c-fad9-4762-9f61-5facbb5a30a8\",\"type\":\"ProxyToolbar\"},{\"attributes\":{\"data_source\":{\"id\":\"72be1d42-c314-4a81-a928-03870bfcf70c\",\"type\":\"ColumnDataSource\"},\"glyph\":{\"id\":\"d8fb470b-a640-4798-889a-146d13505a63\",\"type\":\"Line\"},\"hover_glyph\":null,\"muted_glyph\":null,\"nonselection_glyph\":{\"id\":\"e60df7c1-6caf-4644-be9b-42a6da90b065\",\"type\":\"Line\"},\"selection_glyph\":null,\"view\":{\"id\":\"ccd8ffe1-7a41-4ab9-b37c-2d076aff0d01\",\"type\":\"CDSView\"}},\"id\":\"cf04bd47-2790-4f85-8b35-651dc04b9ce3\",\"type\":\"GlyphRenderer\"},{\"attributes\":{\"toolbar\":{\"id\":\"fdf85a2c-fad9-4762-9f61-5facbb5a30a8\",\"type\":\"ProxyToolbar\"},\"toolbar_location\":\"above\"},\"id\":\"608ee817-e790-4006-b5ad-7303a1554d42\",\"type\":\"ToolbarBox\"},{\"attributes\":{},\"id\":\"964d6b05-050c-400f-8716-c6273e482225\",\"type\":\"Selection\"},{\"attributes\":{},\"id\":\"b0743c5e-9294-4e89-b740-7eb654e8adec\",\"type\":\"UnionRenderers\"},{\"attributes\":{\"children\":[{\"id\":\"608ee817-e790-4006-b5ad-7303a1554d42\",\"type\":\"ToolbarBox\"},{\"id\":\"cf3b83f2-d05d-49f8-bfec-4a3f97511fbf\",\"type\":\"Column\"}]},\"id\":\"03043e83-20ee-4ae2-8f78-0ab59c6a3a87\",\"type\":\"Column\"},{\"attributes\":{\"line_color\":\"#4daf4a\",\"line_width\":1.5,\"x\":{\"field\":\"x\"},\"y\":{\"field\":\"y\"}},\"id\":\"d8fb470b-a640-4798-889a-146d13505a63\",\"type\":\"Line\"},{\"attributes\":{\"fill_alpha\":{\"value\":0.7},\"fill_color\":{\"value\":\"#377eb8\"},\"line_alpha\":{\"value\":0.7},\"line_color\":{\"value\":\"#377eb8\"},\"x\":{\"field\":\"x\"},\"y\":{\"field\":\"y\"}},\"id\":\"c05175df-26e6-4fd0-9d90-ce576a9b599f\",\"type\":\"Triangle\"},{\"attributes\":{\"fill_alpha\":{\"value\":0.7},\"fill_color\":{\"value\":\"#984ea3\"},\"line_alpha\":{\"value\":0.7},\"line_color\":{\"value\":\"#984ea3\"},\"x\":{\"field\":\"x\"},\"y\":{\"field\":\"y\"}},\"id\":\"ac9e793c-7a4c-4f57-9864-8ef0280ddecf\",\"type\":\"Square\"},{\"attributes\":{\"data_source\":{\"id\":\"9572e766-a785-4298-960f-1a82c3c74f04\",\"type\":\"ColumnDataSource\"},\"glyph\":{\"id\":\"ac9e793c-7a4c-4f57-9864-8ef0280ddecf\",\"type\":\"Square\"},\"hover_glyph\":null,\"muted_glyph\":null,\"nonselection_glyph\":{\"id\":\"e250dfc8-77da-477d-adb6-0bc86cd37b46\",\"type\":\"Square\"},\"selection_glyph\":null,\"view\":{\"id\":\"0df4a28d-7c82-4fd1-ac33-05a041dcbc69\",\"type\":\"CDSView\"}},\"id\":\"fa19a95c-de62-4139-a4fb-df5377fe7389\",\"type\":\"GlyphRenderer\"},{\"attributes\":{\"line_alpha\":0.1,\"line_color\":\"#1f77b4\",\"line_width\":2,\"x\":{\"field\":\"x\"},\"y\":{\"field\":\"y\"}},\"id\":\"01e9964f-c7f6-4a27-80dd-2cbdc894e5f5\",\"type\":\"Line\"},{\"attributes\":{\"source\":{\"id\":\"027723e7-8b2b-4101-ae1c-d21b595e3ea5\",\"type\":\"ColumnDataSource\"}},\"id\":\"e3192148-c514-4c6b-a7f2-d00dc607343c\",\"type\":\"CDSView\"},{\"attributes\":{\"active_drag\":\"auto\",\"active_inspect\":\"auto\",\"active_scroll\":\"auto\",\"active_tap\":\"auto\",\"tools\":[{\"id\":\"6d5a5b37-8e85-429d-98e9-b4ed1e38e09f\",\"type\":\"PanTool\"},{\"id\":\"6b635aa6-7339-4e60-832f-18f3d8cf0535\",\"type\":\"WheelZoomTool\"},{\"id\":\"b97d29b4-9446-4172-adad-7e6af2b635d0\",\"type\":\"BoxZoomTool\"},{\"id\":\"cd0200be-aae0-401f-bc66-8ceb09fddd4e\",\"type\":\"SaveTool\"},{\"id\":\"b4e0e3cf-f677-4297-af0e-8eb472494ead\",\"type\":\"ResetTool\"},{\"id\":\"a4309581-c4c9-4100-80eb-d694301314cd\",\"type\":\"HelpTool\"}]},\"id\":\"54de5819-2f28-4460-87bc-48eeb42533ed\",\"type\":\"Toolbar\"},{\"attributes\":{\"above\":[{\"id\":\"dd26b01b-698a-46d0-a0af-8a0d140b460a\",\"type\":\"Legend\"}],\"below\":[{\"id\":\"ce61ba6b-2ef2-4098-b50b-eebe1981190b\",\"type\":\"LinearAxis\"}],\"left\":[{\"id\":\"ddafdb3a-0e1d-484b-b22f-17e9c0cf9383\",\"type\":\"LogAxis\"}],\"plot_height\":500,\"plot_width\":400,\"renderers\":[{\"id\":\"ce61ba6b-2ef2-4098-b50b-eebe1981190b\",\"type\":\"LinearAxis\"},{\"id\":\"afa5281a-a6f4-4f83-a5fa-69c4a4760f41\",\"type\":\"Grid\"},{\"id\":\"ddafdb3a-0e1d-484b-b22f-17e9c0cf9383\",\"type\":\"LogAxis\"},{\"id\":\"5bbe5a2b-06a0-4229-96bb-285c7782ab6e\",\"type\":\"Grid\"},{\"id\":\"99fcbb3d-fdda-4a1e-9340-28948eae9fe6\",\"type\":\"BoxAnnotation\"},{\"id\":\"1f31318c-dfc8-4fa5-93fd-642875e0ad9b\",\"type\":\"GlyphRenderer\"},{\"id\":\"f9144067-422d-4707-a216-2884bcdae387\",\"type\":\"GlyphRenderer\"},{\"id\":\"1d764f87-6bf3-4453-9fff-9f22e5368766\",\"type\":\"GlyphRenderer\"},{\"id\":\"87c462ac-08a6-4a8a-a448-55be20700632\",\"type\":\"GlyphRenderer\"},{\"id\":\"72f44a68-5f79-4bc6-82ab-887b9dec8d74\",\"type\":\"GlyphRenderer\"},{\"id\":\"ece352dd-31a4-4404-9272-d61d75dcbe18\",\"type\":\"GlyphRenderer\"},{\"id\":\"dd26b01b-698a-46d0-a0af-8a0d140b460a\",\"type\":\"Legend\"}],\"title\":{\"id\":\"f419a95d-9eb3-4209-bdc2-4034c5407c56\",\"type\":\"Title\"},\"toolbar\":{\"id\":\"54de5819-2f28-4460-87bc-48eeb42533ed\",\"type\":\"Toolbar\"},\"toolbar_location\":null,\"x_range\":{\"id\":\"58730658-b66e-433a-a98e-f2aa7e1f27f7\",\"type\":\"Range1d\"},\"x_scale\":{\"id\":\"e061bf42-4c1a-4d7d-8f2f-63dce5dedfe3\",\"type\":\"LinearScale\"},\"y_range\":{\"id\":\"dc822467-3e1e-4505-a5db-072a41265787\",\"type\":\"Range1d\"},\"y_scale\":{\"id\":\"6ba5d051-a191-4431-99a4-6c60fd66dad9\",\"type\":\"LogScale\"}},\"id\":\"88e9c25f-0e79-4f58-ab70-e185aa082ffd\",\"subtype\":\"Figure\",\"type\":\"Plot\"},{\"attributes\":{\"callback\":null,\"data\":{\"x\":{\"__ndarray__\":\"oSxt89NdRr891sVQL2VGv3ByHRT/U0a/Tr6i7FM3Rr+d8F0FGxBGvwHK33SE8EW/jxfWXynPRb9yelW5rKtFvywJdC/QhUW/vDMgL3FdRb+WnMejAzJFv/qEH2UTA0W/g/PJNszPRL/gXMJGFJNEv1TkY3f2y0O/Ehqv4zkHQb/CyulrgaU1v4ELSZlkYOq+ddndXTs/QD8xm6p5GilVPymbjpGHnWQ/ALIHh5TncT8hMz3I/jd7P0VMIBzg/38/J2NByA72fj/nJeQaljN9PwBLdgGy/Xs/zhvzbq87ez/y77v6VLR6P7gr+THNyHk/HgTuT1pedz9Y5PEalutyP9iru3Vfzms/hfyc1LGwYj/lpmRjBTBQP2rOLyiHxD+/apis0fz/Wb8Ql5zSOpxjv0l7UIfGcGy/FH0gKw/Bcr9gwuNBDBJ0v7NlqnQ4OXK/NtySII1fcL/IXroMqeltvyLR4g0rg2u/owNyx6tMab8htHFPliRnv2PEaBMs+WS/ec+OxuvCYr9M5SHWUYNgv059YpW5lly/IkBlNxVbWL8KIkeFtWJUv9XjGdjMmFC/A6kSUHyqSb+Ff5M4TetBv4pLRg5ilDO/BLljBvrSAr/Nt8hjDvMvPwFWJpYYwUE/JiKg768wTD9d/2yzyq9TP8pQHqA3sVk/t3L4YdIRYD+4JAk2tYJjP5F3i5pIHWc/U4zgeN+1aj/vjRr9M/1tP7wPehWdVXA/C/0si4tgcT+aGB9im0ZyP7QIuCzONHM/ZPkhFG5JdD9o2e4wOph1P2FzI6cVOHc/\",\"dtype\":\"float64\",\"shape\":[75]},\"y\":{\"__ndarray__\":\"GhExyth1ND/Sv8nbtpRIP2vylNV0PVE/aTum7souWD/At0SJ8fVgPw3Iuahxymc/MSNhhJWvcD/bTfBN02d3P2zb5nxnaoA/CD5h5MAGhz8NmeH1TyaQP+zrCsc9p5Y/LbKd76fGnz/bLW5ISEmmPww9YvTcQq8/JV2OstnstT8Er5Y7M8G+P0c+r3jqkcU/5h99k6ZBzj88bCIzFzjVP4enV8oyxN0//yH99nXg5D8qOpLLf0jtP5kqGJXUifQ/c9cS8kHP/D+/DpwzojQEQIEmwoanVwxA4lgXt9HgE0BSSZ2AJuIbQAMJih9jjiNA5q4l5INuK0AwTKYKRj0zQNv5fmq8/DpAaCJseHrtQkB/+zpwzoxKQM3MzMzMeFJAZmZmZmZqWEAAAAAAAFxeQM3MzMzMJmJAmpmZmZkfZUBmZmZmZhhoQDMzMzMzEWtAAAAAAAAKbkBmZmZmZoFwQM3MzMzM/XFAMzMzMzN6c0CamZmZmfZ0QAAAAAAAc3ZAZmZmZmbvd0DNzMzMzGt5QDMzMzMz6HpAmpmZmZlkfEAAAAAAAOF9QGZmZmZmXX9AZmZmZuZsgECamZmZGSuBQM3MzMxM6YFAAAAAAICngkAzMzMzs2WDQGZmZmbmI4RAmpmZmRnihEDNzMzMTKCFQAAAAACAXoZAMzMzM7Mch0BmZmZm5tqHQJqZmZkZmYhAzczMzExXiUAAAAAAgBWKQDMzMzOz04pAZmZmZuaRi0CamZmZGVCMQM3MzMxMDo1AAAAAAIDMjUAzMzMzs4qOQGZmZmbmSI9A\",\"dtype\":\"float64\",\"shape\":[75]}},\"selected\":{\"id\":\"6bba4420-8e38-4080-8420-e708ab44c50c\",\"type\":\"Selection\"},\"selection_policy\":{\"id\":\"a991362e-acc8-4a59-9ebf-ed59f95d8148\",\"type\":\"UnionRenderers\"}},\"id\":\"72be1d42-c314-4a81-a928-03870bfcf70c\",\"type\":\"ColumnDataSource\"},{\"attributes\":{\"callback\":null,\"data\":{\"x\":{\"__ndarray__\":\"qRgWqqsXF797T5QLK8QWv3HH39dsBBa/RcD8A74yFb/JglznS1oUv6po3uJ7exO/t6fv15WWEr/TdpRV86sRv6vBJcTsuxC/8t9Uqt+ND7/sfELEo5oNvywfOqMGngu/lrOe+e6WCb88nZkIjFYHv6GNSQlMqv2+TTDBNl+z/j7Vi1zlDH4jP0dFky1+BzY/7Pm31EBlRD+9xBRAQ0xRP6+KWImX9Vs/0ZC0DpzpZT+7kYYOEoZvPyiC9xd6MnI/cPUjU7N/cT+YFRWw5ytwP45SEJsLxW0/CjQkY79raz9dFuuJok9pP/eSpDUP6mY/Bekv4qUVYz8awBMmkPpZPwMrE40zeUU//GWJ4WaGPL/YVlhepUNfv6nEBl2TjW6/ZQxVLNzEdb/JNVkxybl6v1d31rWQXH+/1OwCIJV7gb+taKeypdiBv6tVPPDY6IC/taeOnB9bf79n2Y6+Dd58v0N8mU3kZ3q/OvIJ31f6d785biOn8JV1vydu4IhRO3O/Qki6CMrrcL/cRaSnOVJtv6uHc8KA9Gi/GPfeWELJZL+m73SxKdNgv3RwuxfpE1q/3FDihwu/Ur/1JtJcHRxHv/H6LEEFvjG//9vZoMhAJT98iO+pZoBDP0qfHQKc3VA/TZs0AKkDWD+LxB5AYTVfP4NOvbNTOmM/O7duIrHfZj9FHrfSAYZqP8DeBdFoIG4/JMqgE7DIcD8+KQtOoVRyP0Gs/3YHn3M/3t/0vIindD8jxXQoWYN1P5A9YLUpS3Y/5i1/BwQPdz8BTd8P4dZ3P80HRg1Gpng/\",\"dtype\":\"float64\",\"shape\":[75]},\"y\":{\"__ndarray__\":\"GhExyth1ND/Sv8nbtpRIP2vylNV0PVE/aTum7souWD/At0SJ8fVgPw3Iuahxymc/MSNhhJWvcD/bTfBN02d3P2zb5nxnaoA/CD5h5MAGhz8NmeH1TyaQP+zrCsc9p5Y/LbKd76fGnz/bLW5ISEmmPww9YvTcQq8/JV2OstnstT8Er5Y7M8G+P0c+r3jqkcU/5h99k6ZBzj88bCIzFzjVP4enV8oyxN0//yH99nXg5D8qOpLLf0jtP5kqGJXUifQ/c9cS8kHP/D+/DpwzojQEQIEmwoanVwxA4lgXt9HgE0BSSZ2AJuIbQAMJih9jjiNA5q4l5INuK0AwTKYKRj0zQNv5fmq8/DpAaCJseHrtQkB/+zpwzoxKQM3MzMzMeFJAZmZmZmZqWEAAAAAAAFxeQM3MzMzMJmJAmpmZmZkfZUBmZmZmZhhoQDMzMzMzEWtAAAAAAAAKbkBmZmZmZoFwQM3MzMzM/XFAMzMzMzN6c0CamZmZmfZ0QAAAAAAAc3ZAZmZmZmbvd0DNzMzMzGt5QDMzMzMz6HpAmpmZmZlkfEAAAAAAAOF9QGZmZmZmXX9AZmZmZuZsgECamZmZGSuBQM3MzMxM6YFAAAAAAICngkAzMzMzs2WDQGZmZmbmI4RAmpmZmRnihEDNzMzMTKCFQAAAAACAXoZAMzMzM7Mch0BmZmZm5tqHQJqZmZkZmYhAzczMzExXiUAAAAAAgBWKQDMzMzOz04pAZmZmZuaRi0CamZmZGVCMQM3MzMxMDo1AAAAAAIDMjUAzMzMzs4qOQGZmZmbmSI9A\",\"dtype\":\"float64\",\"shape\":[75]}},\"selected\":{\"id\":\"93464a9e-cbf7-4caf-9045-96e62ac8e6fa\",\"type\":\"Selection\"},\"selection_policy\":{\"id\":\"ba4802f8-23c1-4e39-9b0f-1b2787cee086\",\"type\":\"UnionRenderers\"}},\"id\":\"49255fbf-678a-49bc-9a2b-17ffca4fcf55\",\"type\":\"ColumnDataSource\"},{\"attributes\":{\"fill_alpha\":{\"value\":0.1},\"fill_color\":{\"value\":\"#1f77b4\"},\"line_alpha\":{\"value\":0.1},\"line_color\":{\"value\":\"#1f77b4\"},\"x\":{\"field\":\"x\"},\"y\":{\"field\":\"y\"}},\"id\":\"27624446-b1b2-431a-bcb8-062a7d4b7aa2\",\"type\":\"Triangle\"},{\"attributes\":{\"source\":{\"id\":\"49255fbf-678a-49bc-9a2b-17ffca4fcf55\",\"type\":\"ColumnDataSource\"}},\"id\":\"64a195a5-8a9d-473a-baf2-1f1fbecc2761\",\"type\":\"CDSView\"},{\"attributes\":{\"source\":{\"id\":\"9572e766-a785-4298-960f-1a82c3c74f04\",\"type\":\"ColumnDataSource\"}},\"id\":\"0df4a28d-7c82-4fd1-ac33-05a041dcbc69\",\"type\":\"CDSView\"},{\"attributes\":{},\"id\":\"1d3eedc0-542a-4743-bc19-b2a04ef444f0\",\"type\":\"UnionRenderers\"},{\"attributes\":{\"label\":{\"value\":\"CRD\"},\"renderers\":[{\"id\":\"418c2580-172a-44b4-831a-74438f158b91\",\"type\":\"GlyphRenderer\"},{\"id\":\"cf04bd47-2790-4f85-8b35-651dc04b9ce3\",\"type\":\"GlyphRenderer\"}]},\"id\":\"d90ae699-6416-4141-8aa5-2dc4ca50b199\",\"type\":\"LegendItem\"},{\"attributes\":{\"label\":{\"value\":\"WGT igg=10\"},\"renderers\":[{\"id\":\"b4a49b1d-eca3-4401-a6ce-9da5b3f42108\",\"type\":\"GlyphRenderer\"},{\"id\":\"287c778e-bfa9-4daf-9350-0774c02c362d\",\"type\":\"GlyphRenderer\"}]},\"id\":\"02f872a7-1f21-4333-9f74-898e5eb141db\",\"type\":\"LegendItem\"},{\"attributes\":{\"callback\":null,\"end\":0.01,\"start\":1020},\"id\":\"dc822467-3e1e-4505-a5db-072a41265787\",\"type\":\"Range1d\"},{\"attributes\":{\"label\":{\"value\":\"WGT igg=1\"},\"renderers\":[{\"id\":\"fa19a95c-de62-4139-a4fb-df5377fe7389\",\"type\":\"GlyphRenderer\"},{\"id\":\"2d55b56d-6b2f-4e36-ba14-29b06036c527\",\"type\":\"GlyphRenderer\"}]},\"id\":\"07b5f743-bd91-460a-acf7-9e942d3c5b3a\",\"type\":\"LegendItem\"},{\"attributes\":{\"items\":[{\"id\":\"76990d24-dc85-44db-a97c-d2466400e66e\",\"type\":\"LegendItem\"},{\"id\":\"e65bf698-49cd-40f1-acd0-d1439ade7a1b\",\"type\":\"LegendItem\"},{\"id\":\"cae038ac-276b-43bf-a57c-a2fcfe276385\",\"type\":\"LegendItem\"}],\"label_text_font_size\":{\"value\":\"8pt\"},\"location\":\"top_center\",\"orientation\":\"horizontal\",\"plot\":{\"id\":\"88e9c25f-0e79-4f58-ab70-e185aa082ffd\",\"subtype\":\"Figure\",\"type\":\"Plot\"}},\"id\":\"dd26b01b-698a-46d0-a0af-8a0d140b460a\",\"type\":\"Legend\"},{\"attributes\":{},\"id\":\"6d5a5b37-8e85-429d-98e9-b4ed1e38e09f\",\"type\":\"PanTool\"},{\"attributes\":{\"bottom_units\":\"screen\",\"fill_alpha\":{\"value\":0.5},\"fill_color\":{\"value\":\"lightgrey\"},\"left_units\":\"screen\",\"level\":\"overlay\",\"line_alpha\":{\"value\":1.0},\"line_color\":{\"value\":\"black\"},\"line_dash\":[4,4],\"line_width\":{\"value\":2},\"plot\":null,\"render_mode\":\"css\",\"right_units\":\"screen\",\"top_units\":\"screen\"},\"id\":\"99fcbb3d-fdda-4a1e-9340-28948eae9fe6\",\"type\":\"BoxAnnotation\"},{\"attributes\":{\"overlay\":{\"id\":\"99fcbb3d-fdda-4a1e-9340-28948eae9fe6\",\"type\":\"BoxAnnotation\"}},\"id\":\"b97d29b4-9446-4172-adad-7e6af2b635d0\",\"type\":\"BoxZoomTool\"},{\"attributes\":{},\"id\":\"6b635aa6-7339-4e60-832f-18f3d8cf0535\",\"type\":\"WheelZoomTool\"},{\"attributes\":{},\"id\":\"cd0200be-aae0-401f-bc66-8ceb09fddd4e\",\"type\":\"SaveTool\"},{\"attributes\":{},\"id\":\"a4309581-c4c9-4100-80eb-d694301314cd\",\"type\":\"HelpTool\"},{\"attributes\":{},\"id\":\"b4e0e3cf-f677-4297-af0e-8eb472494ead\",\"type\":\"ResetTool\"},{\"attributes\":{\"callback\":null,\"data\":{\"x\":{\"__ndarray__\":\"oSxt89NdRr891sVQL2VGv3ByHRT/U0a/Tr6i7FM3Rr+d8F0FGxBGvwHK33SE8EW/jxfWXynPRb9yelW5rKtFvywJdC/QhUW/vDMgL3FdRb+WnMejAzJFv/qEH2UTA0W/g/PJNszPRL/gXMJGFJNEv1TkY3f2y0O/Ehqv4zkHQb/CyulrgaU1v4ELSZlkYOq+ddndXTs/QD8xm6p5GilVPymbjpGHnWQ/ALIHh5TncT8hMz3I/jd7P0VMIBzg/38/J2NByA72fj/nJeQaljN9PwBLdgGy/Xs/zhvzbq87ez/y77v6VLR6P7gr+THNyHk/HgTuT1pedz9Y5PEalutyP9iru3Vfzms/hfyc1LGwYj/lpmRjBTBQP2rOLyiHxD+/apis0fz/Wb8Ql5zSOpxjv0l7UIfGcGy/FH0gKw/Bcr9gwuNBDBJ0v7NlqnQ4OXK/NtySII1fcL/IXroMqeltvyLR4g0rg2u/owNyx6tMab8htHFPliRnv2PEaBMs+WS/ec+OxuvCYr9M5SHWUYNgv059YpW5lly/IkBlNxVbWL8KIkeFtWJUv9XjGdjMmFC/A6kSUHyqSb+Ff5M4TetBv4pLRg5ilDO/BLljBvrSAr/Nt8hjDvMvPwFWJpYYwUE/JiKg768wTD9d/2yzyq9TP8pQHqA3sVk/t3L4YdIRYD+4JAk2tYJjP5F3i5pIHWc/U4zgeN+1aj/vjRr9M/1tP7wPehWdVXA/C/0si4tgcT+aGB9im0ZyP7QIuCzONHM/ZPkhFG5JdD9o2e4wOph1P2FzI6cVOHc/\",\"dtype\":\"float64\",\"shape\":[75]},\"y\":{\"__ndarray__\":\"GhExyth1ND/Sv8nbtpRIP2vylNV0PVE/aTum7souWD/At0SJ8fVgPw3Iuahxymc/MSNhhJWvcD/bTfBN02d3P2zb5nxnaoA/CD5h5MAGhz8NmeH1TyaQP+zrCsc9p5Y/LbKd76fGnz/bLW5ISEmmPww9YvTcQq8/JV2OstnstT8Er5Y7M8G+P0c+r3jqkcU/5h99k6ZBzj88bCIzFzjVP4enV8oyxN0//yH99nXg5D8qOpLLf0jtP5kqGJXUifQ/c9cS8kHP/D+/DpwzojQEQIEmwoanVwxA4lgXt9HgE0BSSZ2AJuIbQAMJih9jjiNA5q4l5INuK0AwTKYKRj0zQNv5fmq8/DpAaCJseHrtQkB/+zpwzoxKQM3MzMzMeFJAZmZmZmZqWEAAAAAAAFxeQM3MzMzMJmJAmpmZmZkfZUBmZmZmZhhoQDMzMzMzEWtAAAAAAAAKbkBmZmZmZoFwQM3MzMzM/XFAMzMzMzN6c0CamZmZmfZ0QAAAAAAAc3ZAZmZmZmbvd0DNzMzMzGt5QDMzMzMz6HpAmpmZmZlkfEAAAAAAAOF9QGZmZmZmXX9AZmZmZuZsgECamZmZGSuBQM3MzMxM6YFAAAAAAICngkAzMzMzs2WDQGZmZmbmI4RAmpmZmRnihEDNzMzMTKCFQAAAAACAXoZAMzMzM7Mch0BmZmZm5tqHQJqZmZkZmYhAzczMzExXiUAAAAAAgBWKQDMzMzOz04pAZmZmZuaRi0CamZmZGVCMQM3MzMxMDo1AAAAAAIDMjUAzMzMzs4qOQGZmZmbmSI9A\",\"dtype\":\"float64\",\"shape\":[75]}},\"selected\":{\"id\":\"dffd273d-35f0-41ce-b500-a2a504f61be3\",\"type\":\"Selection\"},\"selection_policy\":{\"id\":\"0670a633-1f81-45db-b849-d99be816ea6d\",\"type\":\"UnionRenderers\"}},\"id\":\"84910e96-b32b-4d12-834e-10ca4c43ba45\",\"type\":\"ColumnDataSource\"},{\"attributes\":{},\"id\":\"7831fe1b-129f-41de-8146-19972c9cb7ba\",\"type\":\"Selection\"},{\"attributes\":{\"dimension\":1,\"plot\":{\"id\":\"0f80cac1-41bd-4126-b75f-71e8c1540359\",\"subtype\":\"Figure\",\"type\":\"Plot\"},\"ticker\":{\"id\":\"fae78ce8-861e-4ee2-b9ca-5de874b77087\",\"type\":\"BasicTicker\"}},\"id\":\"003c3710-f637-4b4b-ba3c-9e05a6eff836\",\"type\":\"Grid\"},{\"attributes\":{},\"id\":\"0d0f157a-cd91-405c-ab34-78ede4019ccd\",\"type\":\"WheelZoomTool\"},{\"attributes\":{\"ticker\":null},\"id\":\"43b98663-abc4-4fac-b743-e0e43c7f0d58\",\"type\":\"LogTickFormatter\"},{\"attributes\":{},\"id\":\"fae78ce8-861e-4ee2-b9ca-5de874b77087\",\"type\":\"BasicTicker\"},{\"attributes\":{},\"id\":\"dffd273d-35f0-41ce-b500-a2a504f61be3\",\"type\":\"Selection\"},{\"attributes\":{\"axis_label\":\"pressure [mb]\",\"formatter\":{\"id\":\"fe06f86d-83e7-4f0f-b276-ff0c6d080d53\",\"type\":\"BasicTickFormatter\"},\"plot\":{\"id\":\"0f80cac1-41bd-4126-b75f-71e8c1540359\",\"subtype\":\"Figure\",\"type\":\"Plot\"},\"ticker\":{\"id\":\"fae78ce8-861e-4ee2-b9ca-5de874b77087\",\"type\":\"BasicTicker\"}},\"id\":\"d15ab553-d205-4ffe-84e7-bde2a451b7c7\",\"type\":\"LinearAxis\"},{\"attributes\":{\"callback\":null,\"end\":0.007977645043,\"start\":-0.008879266943000001},\"id\":\"58730658-b66e-433a-a98e-f2aa7e1f27f7\",\"type\":\"Range1d\"},{\"attributes\":{\"overlay\":{\"id\":\"669c619a-9ff3-49d6-bd35-dd86a49b1770\",\"type\":\"BoxAnnotation\"}},\"id\":\"a5ee1d28-3b86-40f1-91bc-e3296917165e\",\"type\":\"BoxZoomTool\"},{\"attributes\":{\"plot\":{\"id\":\"0f80cac1-41bd-4126-b75f-71e8c1540359\",\"subtype\":\"Figure\",\"type\":\"Plot\"},\"ticker\":{\"id\":\"4ece3a81-5a72-4819-819c-f27159aca456\",\"type\":\"BasicTicker\"}},\"id\":\"c8b98309-1101-414a-b209-b6c9c4a280a8\",\"type\":\"Grid\"},{\"attributes\":{\"callback\":null,\"end\":0.006165265389999999,\"start\":-0.008861322590000002},\"id\":\"e6de995f-1a15-4e51-afaf-db2fc79eb869\",\"type\":\"Range1d\"},{\"attributes\":{},\"id\":\"4ece3a81-5a72-4819-819c-f27159aca456\",\"type\":\"BasicTicker\"},{\"attributes\":{},\"id\":\"5ec7d6ce-36f2-41a2-af79-cea0440c6bdd\",\"type\":\"ResetTool\"},{\"attributes\":{},\"id\":\"deed4470-8c26-42b0-bb0d-a3dff482aad1\",\"type\":\"PanTool\"},{\"attributes\":{},\"id\":\"f1307094-1e93-4243-9800-dc8da92f3c56\",\"type\":\"SaveTool\"},{\"attributes\":{\"items\":[{\"id\":\"d90ae699-6416-4141-8aa5-2dc4ca50b199\",\"type\":\"LegendItem\"},{\"id\":\"07b5f743-bd91-460a-acf7-9e942d3c5b3a\",\"type\":\"LegendItem\"},{\"id\":\"02f872a7-1f21-4333-9f74-898e5eb141db\",\"type\":\"LegendItem\"}],\"label_text_font_size\":{\"value\":\"8pt\"},\"location\":\"top_center\",\"orientation\":\"horizontal\",\"plot\":{\"id\":\"0f80cac1-41bd-4126-b75f-71e8c1540359\",\"subtype\":\"Figure\",\"type\":\"Plot\"}},\"id\":\"d6f76e07-016a-4a5f-a56c-cda28d1f54d0\",\"type\":\"Legend\"},{\"attributes\":{\"num_minor_ticks\":10},\"id\":\"514c8f98-420d-4767-9112-604d6c69c13b\",\"type\":\"LogTicker\"},{\"attributes\":{\"axis_label\":\"pressure [mb]\",\"formatter\":{\"id\":\"43b98663-abc4-4fac-b743-e0e43c7f0d58\",\"type\":\"LogTickFormatter\"},\"plot\":{\"id\":\"88e9c25f-0e79-4f58-ab70-e185aa082ffd\",\"subtype\":\"Figure\",\"type\":\"Plot\"},\"ticker\":{\"id\":\"514c8f98-420d-4767-9112-604d6c69c13b\",\"type\":\"LogTicker\"}},\"id\":\"ddafdb3a-0e1d-484b-b22f-17e9c0cf9383\",\"type\":\"LogAxis\"},{\"attributes\":{\"above\":[{\"id\":\"d6f76e07-016a-4a5f-a56c-cda28d1f54d0\",\"type\":\"Legend\"}],\"below\":[{\"id\":\"38592b3c-f05d-4a8f-b3b1-267e81825c9b\",\"type\":\"LinearAxis\"}],\"left\":[{\"id\":\"d15ab553-d205-4ffe-84e7-bde2a451b7c7\",\"type\":\"LinearAxis\"}],\"plot_height\":500,\"plot_width\":400,\"renderers\":[{\"id\":\"38592b3c-f05d-4a8f-b3b1-267e81825c9b\",\"type\":\"LinearAxis\"},{\"id\":\"c8b98309-1101-414a-b209-b6c9c4a280a8\",\"type\":\"Grid\"},{\"id\":\"d15ab553-d205-4ffe-84e7-bde2a451b7c7\",\"type\":\"LinearAxis\"},{\"id\":\"003c3710-f637-4b4b-ba3c-9e05a6eff836\",\"type\":\"Grid\"},{\"id\":\"669c619a-9ff3-49d6-bd35-dd86a49b1770\",\"type\":\"BoxAnnotation\"},{\"id\":\"418c2580-172a-44b4-831a-74438f158b91\",\"type\":\"GlyphRenderer\"},{\"id\":\"cf04bd47-2790-4f85-8b35-651dc04b9ce3\",\"type\":\"GlyphRenderer\"},{\"id\":\"fa19a95c-de62-4139-a4fb-df5377fe7389\",\"type\":\"GlyphRenderer\"},{\"id\":\"2d55b56d-6b2f-4e36-ba14-29b06036c527\",\"type\":\"GlyphRenderer\"},{\"id\":\"b4a49b1d-eca3-4401-a6ce-9da5b3f42108\",\"type\":\"GlyphRenderer\"},{\"id\":\"287c778e-bfa9-4daf-9350-0774c02c362d\",\"type\":\"GlyphRenderer\"},{\"id\":\"d6f76e07-016a-4a5f-a56c-cda28d1f54d0\",\"type\":\"Legend\"}],\"title\":{\"id\":\"b6b2595c-1769-47d1-a0d0-90b7ed28e3ec\",\"type\":\"Title\"},\"toolbar\":{\"id\":\"8074ed38-c687-4067-9bd2-34e4180056e2\",\"type\":\"Toolbar\"},\"toolbar_location\":null,\"x_range\":{\"id\":\"e6de995f-1a15-4e51-afaf-db2fc79eb869\",\"type\":\"Range1d\"},\"x_scale\":{\"id\":\"0558fac8-a0d8-425c-9562-68743a64e74d\",\"type\":\"LinearScale\"},\"y_range\":{\"id\":\"04f274c5-78db-48b6-8dbf-e94f0d412c30\",\"type\":\"Range1d\"},\"y_scale\":{\"id\":\"f9abe9dd-4a91-4ee9-9c6d-3cf24915e6f7\",\"type\":\"LinearScale\"}},\"id\":\"0f80cac1-41bd-4126-b75f-71e8c1540359\",\"subtype\":\"Figure\",\"type\":\"Plot\"},{\"attributes\":{\"fill_alpha\":{\"value\":0.1},\"fill_color\":{\"value\":\"#1f77b4\"},\"line_alpha\":{\"value\":0.1},\"line_color\":{\"value\":\"#1f77b4\"},\"x\":{\"field\":\"x\"},\"y\":{\"field\":\"y\"}},\"id\":\"ba1b7e9d-70d9-42ca-adf1-0d28633b798d\",\"type\":\"Circle\"},{\"attributes\":{},\"id\":\"0558fac8-a0d8-425c-9562-68743a64e74d\",\"type\":\"LinearScale\"},{\"attributes\":{\"active_drag\":\"auto\",\"active_inspect\":\"auto\",\"active_scroll\":\"auto\",\"active_tap\":\"auto\",\"tools\":[{\"id\":\"deed4470-8c26-42b0-bb0d-a3dff482aad1\",\"type\":\"PanTool\"},{\"id\":\"0d0f157a-cd91-405c-ab34-78ede4019ccd\",\"type\":\"WheelZoomTool\"},{\"id\":\"a5ee1d28-3b86-40f1-91bc-e3296917165e\",\"type\":\"BoxZoomTool\"},{\"id\":\"f1307094-1e93-4243-9800-dc8da92f3c56\",\"type\":\"SaveTool\"},{\"id\":\"5ec7d6ce-36f2-41a2-af79-cea0440c6bdd\",\"type\":\"ResetTool\"},{\"id\":\"60934fce-e22e-47f5-8098-3ba183fa67ba\",\"type\":\"HelpTool\"}]},\"id\":\"8074ed38-c687-4067-9bd2-34e4180056e2\",\"type\":\"Toolbar\"},{\"attributes\":{\"callback\":null,\"end\":0.01,\"start\":1020},\"id\":\"04f274c5-78db-48b6-8dbf-e94f0d412c30\",\"type\":\"Range1d\"},{\"attributes\":{\"bottom_units\":\"screen\",\"fill_alpha\":{\"value\":0.5},\"fill_color\":{\"value\":\"lightgrey\"},\"left_units\":\"screen\",\"level\":\"overlay\",\"line_alpha\":{\"value\":1.0},\"line_color\":{\"value\":\"black\"},\"line_dash\":[4,4],\"line_width\":{\"value\":2},\"plot\":null,\"render_mode\":\"css\",\"right_units\":\"screen\",\"top_units\":\"screen\"},\"id\":\"669c619a-9ff3-49d6-bd35-dd86a49b1770\",\"type\":\"BoxAnnotation\"},{\"attributes\":{},\"id\":\"f9abe9dd-4a91-4ee9-9c6d-3cf24915e6f7\",\"type\":\"LinearScale\"},{\"attributes\":{},\"id\":\"60934fce-e22e-47f5-8098-3ba183fa67ba\",\"type\":\"HelpTool\"},{\"attributes\":{\"axis_label\":\"cooling rate [K/day]\",\"formatter\":{\"id\":\"dd86eb00-5857-459b-b78a-4874bac53be5\",\"type\":\"BasicTickFormatter\"},\"plot\":{\"id\":\"0f80cac1-41bd-4126-b75f-71e8c1540359\",\"subtype\":\"Figure\",\"type\":\"Plot\"},\"ticker\":{\"id\":\"4ece3a81-5a72-4819-819c-f27159aca456\",\"type\":\"BasicTicker\"}},\"id\":\"38592b3c-f05d-4a8f-b3b1-267e81825c9b\",\"type\":\"LinearAxis\"},{\"attributes\":{\"dimension\":1,\"plot\":{\"id\":\"88e9c25f-0e79-4f58-ab70-e185aa082ffd\",\"subtype\":\"Figure\",\"type\":\"Plot\"},\"ticker\":{\"id\":\"514c8f98-420d-4767-9112-604d6c69c13b\",\"type\":\"LogTicker\"}},\"id\":\"5bbe5a2b-06a0-4229-96bb-285c7782ab6e\",\"type\":\"Grid\"},{\"attributes\":{\"data_source\":{\"id\":\"027723e7-8b2b-4101-ae1c-d21b595e3ea5\",\"type\":\"ColumnDataSource\"},\"glyph\":{\"id\":\"d11c3648-1170-4e72-9a6e-3266b7da8d55\",\"type\":\"Circle\"},\"hover_glyph\":null,\"muted_glyph\":null,\"nonselection_glyph\":{\"id\":\"ba1b7e9d-70d9-42ca-adf1-0d28633b798d\",\"type\":\"Circle\"},\"selection_glyph\":null,\"view\":{\"id\":\"e3192148-c514-4c6b-a7f2-d00dc607343c\",\"type\":\"CDSView\"}},\"id\":\"418c2580-172a-44b4-831a-74438f158b91\",\"type\":\"GlyphRenderer\"},{\"attributes\":{},\"id\":\"6ba5d051-a191-4431-99a4-6c60fd66dad9\",\"type\":\"LogScale\"},{\"attributes\":{\"callback\":null,\"data\":{\"x\":{\"__ndarray__\":\"oSxt89NdRr891sVQL2VGv3ByHRT/U0a/Tr6i7FM3Rr+d8F0FGxBGvwHK33SE8EW/jxfWXynPRb9yelW5rKtFvywJdC/QhUW/vDMgL3FdRb+WnMejAzJFv/qEH2UTA0W/g/PJNszPRL/gXMJGFJNEv1TkY3f2y0O/Ehqv4zkHQb/CyulrgaU1v4ELSZlkYOq+ddndXTs/QD8xm6p5GilVPymbjpGHnWQ/ALIHh5TncT8hMz3I/jd7P0VMIBzg/38/J2NByA72fj/nJeQaljN9PwBLdgGy/Xs/zhvzbq87ez/y77v6VLR6P7gr+THNyHk/HgTuT1pedz9Y5PEalutyP9iru3Vfzms/hfyc1LGwYj/lpmRjBTBQP2rOLyiHxD+/apis0fz/Wb8Ql5zSOpxjv0l7UIfGcGy/FH0gKw/Bcr9gwuNBDBJ0v7NlqnQ4OXK/NtySII1fcL/IXroMqeltvyLR4g0rg2u/owNyx6tMab8htHFPliRnv2PEaBMs+WS/ec+OxuvCYr9M5SHWUYNgv059YpW5lly/IkBlNxVbWL8KIkeFtWJUv9XjGdjMmFC/A6kSUHyqSb+Ff5M4TetBv4pLRg5ilDO/BLljBvrSAr/Nt8hjDvMvPwFWJpYYwUE/JiKg768wTD9d/2yzyq9TP8pQHqA3sVk/t3L4YdIRYD+4JAk2tYJjP5F3i5pIHWc/U4zgeN+1aj/vjRr9M/1tP7wPehWdVXA/C/0si4tgcT+aGB9im0ZyP7QIuCzONHM/ZPkhFG5JdD9o2e4wOph1P2FzI6cVOHc/\",\"dtype\":\"float64\",\"shape\":[75]},\"y\":{\"__ndarray__\":\"GhExyth1ND/Sv8nbtpRIP2vylNV0PVE/aTum7souWD/At0SJ8fVgPw3Iuahxymc/MSNhhJWvcD/bTfBN02d3P2zb5nxnaoA/CD5h5MAGhz8NmeH1TyaQP+zrCsc9p5Y/LbKd76fGnz/bLW5ISEmmPww9YvTcQq8/JV2OstnstT8Er5Y7M8G+P0c+r3jqkcU/5h99k6ZBzj88bCIzFzjVP4enV8oyxN0//yH99nXg5D8qOpLLf0jtP5kqGJXUifQ/c9cS8kHP/D+/DpwzojQEQIEmwoanVwxA4lgXt9HgE0BSSZ2AJuIbQAMJih9jjiNA5q4l5INuK0AwTKYKRj0zQNv5fmq8/DpAaCJseHrtQkB/+zpwzoxKQM3MzMzMeFJAZmZmZmZqWEAAAAAAAFxeQM3MzMzMJmJAmpmZmZkfZUBmZmZmZhhoQDMzMzMzEWtAAAAAAAAKbkBmZmZmZoFwQM3MzMzM/XFAMzMzMzN6c0CamZmZmfZ0QAAAAAAAc3ZAZmZmZmbvd0DNzMzMzGt5QDMzMzMz6HpAmpmZmZlkfEAAAAAAAOF9QGZmZmZmXX9AZmZmZuZsgECamZmZGSuBQM3MzMxM6YFAAAAAAICngkAzMzMzs2WDQGZmZmbmI4RAmpmZmRnihEDNzMzMTKCFQAAAAACAXoZAMzMzM7Mch0BmZmZm5tqHQJqZmZkZmYhAzczMzExXiUAAAAAAgBWKQDMzMzOz04pAZmZmZuaRi0CamZmZGVCMQM3MzMxMDo1AAAAAAIDMjUAzMzMzs4qOQGZmZmbmSI9A\",\"dtype\":\"float64\",\"shape\":[75]}},\"selected\":{\"id\":\"0929a9a5-7537-46f4-afb3-b3cba2b4cb57\",\"type\":\"Selection\"},\"selection_policy\":{\"id\":\"65cb135a-fa1e-4781-bf3d-b3d57e315c80\",\"type\":\"UnionRenderers\"}},\"id\":\"027723e7-8b2b-4101-ae1c-d21b595e3ea5\",\"type\":\"ColumnDataSource\"},{\"attributes\":{},\"id\":\"65cb135a-fa1e-4781-bf3d-b3d57e315c80\",\"type\":\"UnionRenderers\"},{\"attributes\":{},\"id\":\"a991362e-acc8-4a59-9ebf-ed59f95d8148\",\"type\":\"UnionRenderers\"},{\"attributes\":{\"data_source\":{\"id\":\"84910e96-b32b-4d12-834e-10ca4c43ba45\",\"type\":\"ColumnDataSource\"},\"glyph\":{\"id\":\"e8840be0-9cca-4cec-90f2-4468939c226d\",\"type\":\"Circle\"},\"hover_glyph\":null,\"muted_glyph\":null,\"nonselection_glyph\":{\"id\":\"08a5f6e9-9010-485d-a2df-f194b0e7318d\",\"type\":\"Circle\"},\"selection_glyph\":null,\"view\":{\"id\":\"484fec23-07da-4a20-bc4f-07e3c96138cd\",\"type\":\"CDSView\"}},\"id\":\"1f31318c-dfc8-4fa5-93fd-642875e0ad9b\",\"type\":\"GlyphRenderer\"},{\"attributes\":{\"line_alpha\":0.1,\"line_color\":\"#1f77b4\",\"line_width\":1.5,\"x\":{\"field\":\"x\"},\"y\":{\"field\":\"y\"}},\"id\":\"e5e55ad1-afe0-4107-86ff-a71b9595a8d3\",\"type\":\"Line\"},{\"attributes\":{\"callback\":null,\"data\":{\"x\":{\"__ndarray__\":\"tjuBFVCnFb/AINSR6jwVv+VWKSsDTBS/NoilFm5EE7/SRlkY8zMSv4KObozMGhG/t8rJIuzxD78RWFOvwpwNv5sxXKypNQu/Uw3LHfm7CL9R35bASC4Gv8B3spqPiQO/fE68KrbIAL8AxOdIR1r7vrTNP3bIMNa+rUrve+RjET/PapUhDfUrP9zfYsf7/zw/qC99fO7rST/CLLOXlJNVP7fO1vlrPWE/oIk6+GzSaj/l4ugcjjZzP5sC4rwbLnY/iqlZiNNndT/QcQ3qXedzP5Ru7peme3I/i0o6cC0fcT9F2D7N2gBwP8cvA2hwaG0/5a/M9yU9aT/AZAlAmnBiP5kOlFEp2lM/o/S56zXY5T7hrV/noO9Zvz6PhbRDjWy/1lszlDu1dL/+Yo5TaGh5v9Wh8m7u6H2/JauigHS/gL+qWr+STAuBv2mXvOej+H+/U8HjBjxjfb+daYfdxeR6v418zyGYfni/NmN6Bnkrdr+/J59t2OdzvyI1P8++sXG/OASVmVwRb7+Qg/FX8dtqvydVjSxB0Ga/FCZv7BD5Yr+GSfeGybNev1cjaosz0le/dpADKcstUb+GBSHUjlVFv7z0LJHW2zC/GVFSObbXIT8pKBLFGGZBP+ms7oTPbU4/n8+MNvHLVT+J2cIgZndcP+Pz16OonmE/45glNFsPZT/7J/VySopoP41Xu05sA2w/WCnMWWlbbz8+G/lA0i5xP5nYof6YbXI/BluEXARqcz8hw+bAyzx0P+UY5AWMAnU/IFbP71rOdT9Q60NAwap2PzmcSh0coHc/\",\"dtype\":\"float64\",\"shape\":[75]},\"y\":{\"__ndarray__\":\"GhExyth1ND/Sv8nbtpRIP2vylNV0PVE/aTum7souWD/At0SJ8fVgPw3Iuahxymc/MSNhhJWvcD/bTfBN02d3P2zb5nxnaoA/CD5h5MAGhz8NmeH1TyaQP+zrCsc9p5Y/LbKd76fGnz/bLW5ISEmmPww9YvTcQq8/JV2OstnstT8Er5Y7M8G+P0c+r3jqkcU/5h99k6ZBzj88bCIzFzjVP4enV8oyxN0//yH99nXg5D8qOpLLf0jtP5kqGJXUifQ/c9cS8kHP/D+/DpwzojQEQIEmwoanVwxA4lgXt9HgE0BSSZ2AJuIbQAMJih9jjiNA5q4l5INuK0AwTKYKRj0zQNv5fmq8/DpAaCJseHrtQkB/+zpwzoxKQM3MzMzMeFJAZmZmZmZqWEAAAAAAAFxeQM3MzMzMJmJAmpmZmZkfZUBmZmZmZhhoQDMzMzMzEWtAAAAAAAAKbkBmZmZmZoFwQM3MzMzM/XFAMzMzMzN6c0CamZmZmfZ0QAAAAAAAc3ZAZmZmZmbvd0DNzMzMzGt5QDMzMzMz6HpAmpmZmZlkfEAAAAAAAOF9QGZmZmZmXX9AZmZmZuZsgECamZmZGSuBQM3MzMxM6YFAAAAAAICngkAzMzMzs2WDQGZmZmbmI4RAmpmZmRnihEDNzMzMTKCFQAAAAACAXoZAMzMzM7Mch0BmZmZm5tqHQJqZmZkZmYhAzczMzExXiUAAAAAAgBWKQDMzMzOz04pAZmZmZuaRi0CamZmZGVCMQM3MzMxMDo1AAAAAAIDMjUAzMzMzs4qOQGZmZmbmSI9A\",\"dtype\":\"float64\",\"shape\":[75]}},\"selected\":{\"id\":\"b43163e8-520c-4c53-8964-b46f06b4e185\",\"type\":\"Selection\"},\"selection_policy\":{\"id\":\"5cff409a-a94a-4041-8971-833e5bae6168\",\"type\":\"UnionRenderers\"}},\"id\":\"8101cb8b-eaed-4db1-8293-b01787487863\",\"type\":\"ColumnDataSource\"},{\"attributes\":{\"axis_label\":\"cooling rate [K/day]\",\"formatter\":{\"id\":\"54d056a0-b472-44c8-acb7-f5ecd594f86d\",\"type\":\"BasicTickFormatter\"},\"plot\":{\"id\":\"88e9c25f-0e79-4f58-ab70-e185aa082ffd\",\"subtype\":\"Figure\",\"type\":\"Plot\"},\"ticker\":{\"id\":\"7bf98f71-2cc7-471a-a19a-46a88b993eaf\",\"type\":\"BasicTicker\"}},\"id\":\"ce61ba6b-2ef2-4098-b50b-eebe1981190b\",\"type\":\"LinearAxis\"},{\"attributes\":{\"data_source\":{\"id\":\"e64493bc-b20d-4c04-bc68-9bdc8955f4c1\",\"type\":\"ColumnDataSource\"},\"glyph\":{\"id\":\"61ca0a28-2c27-46e0-8a8b-b8b6585b1785\",\"type\":\"Line\"},\"hover_glyph\":null,\"muted_glyph\":null,\"nonselection_glyph\":{\"id\":\"e5e55ad1-afe0-4107-86ff-a71b9595a8d3\",\"type\":\"Line\"},\"selection_glyph\":null,\"view\":{\"id\":\"eb1d9e02-74f7-488c-b8fc-152d46847d09\",\"type\":\"CDSView\"}},\"id\":\"f9144067-422d-4707-a216-2884bcdae387\",\"type\":\"GlyphRenderer\"},{\"attributes\":{},\"id\":\"7bf98f71-2cc7-471a-a19a-46a88b993eaf\",\"type\":\"BasicTicker\"},{\"attributes\":{},\"id\":\"6bba4420-8e38-4080-8420-e708ab44c50c\",\"type\":\"Selection\"},{\"attributes\":{\"line_color\":\"#4daf4a\",\"line_width\":1.5,\"x\":{\"field\":\"x\"},\"y\":{\"field\":\"y\"}},\"id\":\"61ca0a28-2c27-46e0-8a8b-b8b6585b1785\",\"type\":\"Line\"},{\"attributes\":{\"plot\":{\"id\":\"88e9c25f-0e79-4f58-ab70-e185aa082ffd\",\"subtype\":\"Figure\",\"type\":\"Plot\"},\"ticker\":{\"id\":\"7bf98f71-2cc7-471a-a19a-46a88b993eaf\",\"type\":\"BasicTicker\"}},\"id\":\"afa5281a-a6f4-4f83-a5fa-69c4a4760f41\",\"type\":\"Grid\"},{\"attributes\":{\"source\":{\"id\":\"84910e96-b32b-4d12-834e-10ca4c43ba45\",\"type\":\"ColumnDataSource\"}},\"id\":\"484fec23-07da-4a20-bc4f-07e3c96138cd\",\"type\":\"CDSView\"},{\"attributes\":{\"fill_alpha\":{\"value\":0.1},\"fill_color\":{\"value\":\"#1f77b4\"},\"line_alpha\":{\"value\":0.1},\"line_color\":{\"value\":\"#1f77b4\"},\"x\":{\"field\":\"x\"},\"y\":{\"field\":\"y\"}},\"id\":\"08a5f6e9-9010-485d-a2df-f194b0e7318d\",\"type\":\"Circle\"},{\"attributes\":{\"line_alpha\":0.6,\"line_color\":\"#984ea3\",\"line_width\":3,\"x\":{\"field\":\"x\"},\"y\":{\"field\":\"y\"}},\"id\":\"7d04b98b-1ed6-4e77-8193-4617540d0b5b\",\"type\":\"Line\"},{\"attributes\":{},\"id\":\"b47153af-9983-4d1d-bba7-79592cb949dc\",\"type\":\"Selection\"},{\"attributes\":{\"source\":{\"id\":\"8101cb8b-eaed-4db1-8293-b01787487863\",\"type\":\"ColumnDataSource\"}},\"id\":\"04d4e36d-f892-4f15-a26f-17ba730e5754\",\"type\":\"CDSView\"},{\"attributes\":{\"data_source\":{\"id\":\"8101cb8b-eaed-4db1-8293-b01787487863\",\"type\":\"ColumnDataSource\"},\"glyph\":{\"id\":\"e6596485-e199-4cd9-a858-a8a64d7c77a5\",\"type\":\"Square\"},\"hover_glyph\":null,\"muted_glyph\":null,\"nonselection_glyph\":{\"id\":\"57a60aed-58b0-4213-952f-3f2e8a0642ab\",\"type\":\"Square\"},\"selection_glyph\":null,\"view\":{\"id\":\"04d4e36d-f892-4f15-a26f-17ba730e5754\",\"type\":\"CDSView\"}},\"id\":\"1d764f87-6bf3-4453-9fff-9f22e5368766\",\"type\":\"GlyphRenderer\"},{\"attributes\":{},\"id\":\"e061bf42-4c1a-4d7d-8f2f-63dce5dedfe3\",\"type\":\"LinearScale\"},{\"attributes\":{\"callback\":null,\"data\":{\"x\":{\"__ndarray__\":\"oSxt89NdRr891sVQL2VGv3ByHRT/U0a/Tr6i7FM3Rr+d8F0FGxBGvwHK33SE8EW/jxfWXynPRb9yelW5rKtFvywJdC/QhUW/vDMgL3FdRb+WnMejAzJFv/qEH2UTA0W/g/PJNszPRL/gXMJGFJNEv1TkY3f2y0O/Ehqv4zkHQb/CyulrgaU1v4ELSZlkYOq+ddndXTs/QD8xm6p5GilVPymbjpGHnWQ/ALIHh5TncT8hMz3I/jd7P0VMIBzg/38/J2NByA72fj/nJeQaljN9PwBLdgGy/Xs/zhvzbq87ez/y77v6VLR6P7gr+THNyHk/HgTuT1pedz9Y5PEalutyP9iru3Vfzms/hfyc1LGwYj/lpmRjBTBQP2rOLyiHxD+/apis0fz/Wb8Ql5zSOpxjv0l7UIfGcGy/FH0gKw/Bcr9gwuNBDBJ0v7NlqnQ4OXK/NtySII1fcL/IXroMqeltvyLR4g0rg2u/owNyx6tMab8htHFPliRnv2PEaBMs+WS/ec+OxuvCYr9M5SHWUYNgv059YpW5lly/IkBlNxVbWL8KIkeFtWJUv9XjGdjMmFC/A6kSUHyqSb+Ff5M4TetBv4pLRg5ilDO/BLljBvrSAr/Nt8hjDvMvPwFWJpYYwUE/JiKg768wTD9d/2yzyq9TP8pQHqA3sVk/t3L4YdIRYD+4JAk2tYJjP5F3i5pIHWc/U4zgeN+1aj/vjRr9M/1tP7wPehWdVXA/C/0si4tgcT+aGB9im0ZyP7QIuCzONHM/ZPkhFG5JdD9o2e4wOph1P2FzI6cVOHc/\",\"dtype\":\"float64\",\"shape\":[75]},\"y\":{\"__ndarray__\":\"GhExyth1ND/Sv8nbtpRIP2vylNV0PVE/aTum7souWD/At0SJ8fVgPw3Iuahxymc/MSNhhJWvcD/bTfBN02d3P2zb5nxnaoA/CD5h5MAGhz8NmeH1TyaQP+zrCsc9p5Y/LbKd76fGnz/bLW5ISEmmPww9YvTcQq8/JV2OstnstT8Er5Y7M8G+P0c+r3jqkcU/5h99k6ZBzj88bCIzFzjVP4enV8oyxN0//yH99nXg5D8qOpLLf0jtP5kqGJXUifQ/c9cS8kHP/D+/DpwzojQEQIEmwoanVwxA4lgXt9HgE0BSSZ2AJuIbQAMJih9jjiNA5q4l5INuK0AwTKYKRj0zQNv5fmq8/DpAaCJseHrtQkB/+zpwzoxKQM3MzMzMeFJAZmZmZmZqWEAAAAAAAFxeQM3MzMzMJmJAmpmZmZkfZUBmZmZmZhhoQDMzMzMzEWtAAAAAAAAKbkBmZmZmZoFwQM3MzMzM/XFAMzMzMzN6c0CamZmZmfZ0QAAAAAAAc3ZAZmZmZmbvd0DNzMzMzGt5QDMzMzMz6HpAmpmZmZlkfEAAAAAAAOF9QGZmZmZmXX9AZmZmZuZsgECamZmZGSuBQM3MzMxM6YFAAAAAAICngkAzMzMzs2WDQGZmZmbmI4RAmpmZmRnihEDNzMzMTKCFQAAAAACAXoZAMzMzM7Mch0BmZmZm5tqHQJqZmZkZmYhAzczMzExXiUAAAAAAgBWKQDMzMzOz04pAZmZmZuaRi0CamZmZGVCMQM3MzMxMDo1AAAAAAIDMjUAzMzMzs4qOQGZmZmbmSI9A\",\"dtype\":\"float64\",\"shape\":[75]}},\"selected\":{\"id\":\"878f4278-0cdf-43ec-9d18-9c023aabda95\",\"type\":\"Selection\"},\"selection_policy\":{\"id\":\"4a158e14-4b46-4642-bb4b-5562b15b07e7\",\"type\":\"UnionRenderers\"}},\"id\":\"e64493bc-b20d-4c04-bc68-9bdc8955f4c1\",\"type\":\"ColumnDataSource\"},{\"attributes\":{\"callback\":null,\"data\":{\"x\":{\"__ndarray__\":\"qRgWqqsXF797T5QLK8QWv3HH39dsBBa/RcD8A74yFb/JglznS1oUv6po3uJ7exO/t6fv15WWEr/TdpRV86sRv6vBJcTsuxC/8t9Uqt+ND7/sfELEo5oNvywfOqMGngu/lrOe+e6WCb88nZkIjFYHv6GNSQlMqv2+TTDBNl+z/j7Vi1zlDH4jP0dFky1+BzY/7Pm31EBlRD+9xBRAQ0xRP6+KWImX9Vs/0ZC0DpzpZT+7kYYOEoZvPyiC9xd6MnI/cPUjU7N/cT+YFRWw5ytwP45SEJsLxW0/CjQkY79raz9dFuuJok9pP/eSpDUP6mY/Bekv4qUVYz8awBMmkPpZPwMrE40zeUU//GWJ4WaGPL/YVlhepUNfv6nEBl2TjW6/ZQxVLNzEdb/JNVkxybl6v1d31rWQXH+/1OwCIJV7gb+taKeypdiBv6tVPPDY6IC/taeOnB9bf79n2Y6+Dd58v0N8mU3kZ3q/OvIJ31f6d785biOn8JV1vydu4IhRO3O/Qki6CMrrcL/cRaSnOVJtv6uHc8KA9Gi/GPfeWELJZL+m73SxKdNgv3RwuxfpE1q/3FDihwu/Ur/1JtJcHRxHv/H6LEEFvjG//9vZoMhAJT98iO+pZoBDP0qfHQKc3VA/TZs0AKkDWD+LxB5AYTVfP4NOvbNTOmM/O7duIrHfZj9FHrfSAYZqP8DeBdFoIG4/JMqgE7DIcD8+KQtOoVRyP0Gs/3YHn3M/3t/0vIindD8jxXQoWYN1P5A9YLUpS3Y/5i1/BwQPdz8BTd8P4dZ3P80HRg1Gpng/\",\"dtype\":\"float64\",\"shape\":[75]},\"y\":{\"__ndarray__\":\"GhExyth1ND/Sv8nbtpRIP2vylNV0PVE/aTum7souWD/At0SJ8fVgPw3Iuahxymc/MSNhhJWvcD/bTfBN02d3P2zb5nxnaoA/CD5h5MAGhz8NmeH1TyaQP+zrCsc9p5Y/LbKd76fGnz/bLW5ISEmmPww9YvTcQq8/JV2OstnstT8Er5Y7M8G+P0c+r3jqkcU/5h99k6ZBzj88bCIzFzjVP4enV8oyxN0//yH99nXg5D8qOpLLf0jtP5kqGJXUifQ/c9cS8kHP/D+/DpwzojQEQIEmwoanVwxA4lgXt9HgE0BSSZ2AJuIbQAMJih9jjiNA5q4l5INuK0AwTKYKRj0zQNv5fmq8/DpAaCJseHrtQkB/+zpwzoxKQM3MzMzMeFJAZmZmZmZqWEAAAAAAAFxeQM3MzMzMJmJAmpmZmZkfZUBmZmZmZhhoQDMzMzMzEWtAAAAAAAAKbkBmZmZmZoFwQM3MzMzM/XFAMzMzMzN6c0CamZmZmfZ0QAAAAAAAc3ZAZmZmZmbvd0DNzMzMzGt5QDMzMzMz6HpAmpmZmZlkfEAAAAAAAOF9QGZmZmZmXX9AZmZmZuZsgECamZmZGSuBQM3MzMxM6YFAAAAAAICngkAzMzMzs2WDQGZmZmbmI4RAmpmZmRnihEDNzMzMTKCFQAAAAACAXoZAMzMzM7Mch0BmZmZm5tqHQJqZmZkZmYhAzczMzExXiUAAAAAAgBWKQDMzMzOz04pAZmZmZuaRi0CamZmZGVCMQM3MzMxMDo1AAAAAAIDMjUAzMzMzs4qOQGZmZmbmSI9A\",\"dtype\":\"float64\",\"shape\":[75]}},\"selected\":{\"id\":\"10f3bcef-97a8-41ff-bce4-5ff7e3152508\",\"type\":\"Selection\"},\"selection_policy\":{\"id\":\"0f846711-1cfa-4d7b-890f-86f8e6ba22b8\",\"type\":\"UnionRenderers\"}},\"id\":\"6eba716b-863b-4f3f-b899-eff8f8f89d6b\",\"type\":\"ColumnDataSource\"},{\"attributes\":{\"source\":{\"id\":\"99a92183-2891-4a58-a12f-56dbc18e0bca\",\"type\":\"ColumnDataSource\"}},\"id\":\"5ff16064-0d68-47a2-9a7e-2182901098a6\",\"type\":\"CDSView\"},{\"attributes\":{\"line_alpha\":0.1,\"line_color\":\"#1f77b4\",\"line_width\":3,\"x\":{\"field\":\"x\"},\"y\":{\"field\":\"y\"}},\"id\":\"d6e6e573-3526-4338-b2ad-581a183468c0\",\"type\":\"Line\"},{\"attributes\":{\"fill_alpha\":{\"value\":0.7},\"fill_color\":{\"value\":\"#377eb8\"},\"line_alpha\":{\"value\":0.7},\"line_color\":{\"value\":\"#377eb8\"},\"x\":{\"field\":\"x\"},\"y\":{\"field\":\"y\"}},\"id\":\"cbc4941a-920c-4ab2-8ff3-011d13dbf877\",\"type\":\"Triangle\"},{\"attributes\":{\"source\":{\"id\":\"e64493bc-b20d-4c04-bc68-9bdc8955f4c1\",\"type\":\"ColumnDataSource\"}},\"id\":\"eb1d9e02-74f7-488c-b8fc-152d46847d09\",\"type\":\"CDSView\"},{\"attributes\":{\"callback\":null,\"data\":{\"x\":{\"__ndarray__\":\"tjuBFVCnFb/AINSR6jwVv+VWKSsDTBS/NoilFm5EE7/SRlkY8zMSv4KObozMGhG/t8rJIuzxD78RWFOvwpwNv5sxXKypNQu/Uw3LHfm7CL9R35bASC4Gv8B3spqPiQO/fE68KrbIAL8AxOdIR1r7vrTNP3bIMNa+rUrve+RjET/PapUhDfUrP9zfYsf7/zw/qC99fO7rST/CLLOXlJNVP7fO1vlrPWE/oIk6+GzSaj/l4ugcjjZzP5sC4rwbLnY/iqlZiNNndT/QcQ3qXedzP5Ru7peme3I/i0o6cC0fcT9F2D7N2gBwP8cvA2hwaG0/5a/M9yU9aT/AZAlAmnBiP5kOlFEp2lM/o/S56zXY5T7hrV/noO9Zvz6PhbRDjWy/1lszlDu1dL/+Yo5TaGh5v9Wh8m7u6H2/JauigHS/gL+qWr+STAuBv2mXvOej+H+/U8HjBjxjfb+daYfdxeR6v418zyGYfni/NmN6Bnkrdr+/J59t2OdzvyI1P8++sXG/OASVmVwRb7+Qg/FX8dtqvydVjSxB0Ga/FCZv7BD5Yr+GSfeGybNev1cjaosz0le/dpADKcstUb+GBSHUjlVFv7z0LJHW2zC/GVFSObbXIT8pKBLFGGZBP+ms7oTPbU4/n8+MNvHLVT+J2cIgZndcP+Pz16OonmE/45glNFsPZT/7J/VySopoP41Xu05sA2w/WCnMWWlbbz8+G/lA0i5xP5nYof6YbXI/BluEXARqcz8hw+bAyzx0P+UY5AWMAnU/IFbP71rOdT9Q60NAwap2PzmcSh0coHc/\",\"dtype\":\"float64\",\"shape\":[75]},\"y\":{\"__ndarray__\":\"GhExyth1ND/Sv8nbtpRIP2vylNV0PVE/aTum7souWD/At0SJ8fVgPw3Iuahxymc/MSNhhJWvcD/bTfBN02d3P2zb5nxnaoA/CD5h5MAGhz8NmeH1TyaQP+zrCsc9p5Y/LbKd76fGnz/bLW5ISEmmPww9YvTcQq8/JV2OstnstT8Er5Y7M8G+P0c+r3jqkcU/5h99k6ZBzj88bCIzFzjVP4enV8oyxN0//yH99nXg5D8qOpLLf0jtP5kqGJXUifQ/c9cS8kHP/D+/DpwzojQEQIEmwoanVwxA4lgXt9HgE0BSSZ2AJuIbQAMJih9jjiNA5q4l5INuK0AwTKYKRj0zQNv5fmq8/DpAaCJseHrtQkB/+zpwzoxKQM3MzMzMeFJAZmZmZmZqWEAAAAAAAFxeQM3MzMzMJmJAmpmZmZkfZUBmZmZmZhhoQDMzMzMzEWtAAAAAAAAKbkBmZmZmZoFwQM3MzMzM/XFAMzMzMzN6c0CamZmZmfZ0QAAAAAAAc3ZAZmZmZmbvd0DNzMzMzGt5QDMzMzMz6HpAmpmZmZlkfEAAAAAAAOF9QGZmZmZmXX9AZmZmZuZsgECamZmZGSuBQM3MzMxM6YFAAAAAAICngkAzMzMzs2WDQGZmZmbmI4RAmpmZmRnihEDNzMzMTKCFQAAAAACAXoZAMzMzM7Mch0BmZmZm5tqHQJqZmZkZmYhAzczMzExXiUAAAAAAgBWKQDMzMzOz04pAZmZmZuaRi0CamZmZGVCMQM3MzMxMDo1AAAAAAIDMjUAzMzMzs4qOQGZmZmbmSI9A\",\"dtype\":\"float64\",\"shape\":[75]}},\"selected\":{\"id\":\"9588ec30-a3c8-492f-af49-ee18facaad6a\",\"type\":\"Selection\"},\"selection_policy\":{\"id\":\"be15bb2f-a712-4bc9-87cd-763c7105437f\",\"type\":\"UnionRenderers\"}},\"id\":\"99a92183-2891-4a58-a12f-56dbc18e0bca\",\"type\":\"ColumnDataSource\"},{\"attributes\":{\"fill_alpha\":{\"value\":0.7},\"fill_color\":{\"value\":\"#4daf4a\"},\"line_alpha\":{\"value\":0.7},\"line_color\":{\"value\":\"#4daf4a\"},\"x\":{\"field\":\"x\"},\"y\":{\"field\":\"y\"}},\"id\":\"d11c3648-1170-4e72-9a6e-3266b7da8d55\",\"type\":\"Circle\"},{\"attributes\":{\"data_source\":{\"id\":\"99a92183-2891-4a58-a12f-56dbc18e0bca\",\"type\":\"ColumnDataSource\"},\"glyph\":{\"id\":\"7d04b98b-1ed6-4e77-8193-4617540d0b5b\",\"type\":\"Line\"},\"hover_glyph\":null,\"muted_glyph\":null,\"nonselection_glyph\":{\"id\":\"d6e6e573-3526-4338-b2ad-581a183468c0\",\"type\":\"Line\"},\"selection_glyph\":null,\"view\":{\"id\":\"5ff16064-0d68-47a2-9a7e-2182901098a6\",\"type\":\"CDSView\"}},\"id\":\"87c462ac-08a6-4a8a-a448-55be20700632\",\"type\":\"GlyphRenderer\"},{\"attributes\":{\"fill_alpha\":{\"value\":0.7},\"fill_color\":{\"value\":\"#4daf4a\"},\"line_alpha\":{\"value\":0.7},\"line_color\":{\"value\":\"#4daf4a\"},\"x\":{\"field\":\"x\"},\"y\":{\"field\":\"y\"}},\"id\":\"e8840be0-9cca-4cec-90f2-4468939c226d\",\"type\":\"Circle\"},{\"attributes\":{\"fill_alpha\":{\"value\":0.7},\"fill_color\":{\"value\":\"#984ea3\"},\"line_alpha\":{\"value\":0.7},\"line_color\":{\"value\":\"#984ea3\"},\"x\":{\"field\":\"x\"},\"y\":{\"field\":\"y\"}},\"id\":\"e6596485-e199-4cd9-a858-a8a64d7c77a5\",\"type\":\"Square\"},{\"attributes\":{\"fill_alpha\":{\"value\":0.1},\"fill_color\":{\"value\":\"#1f77b4\"},\"line_alpha\":{\"value\":0.1},\"line_color\":{\"value\":\"#1f77b4\"},\"x\":{\"field\":\"x\"},\"y\":{\"field\":\"y\"}},\"id\":\"57a60aed-58b0-4213-952f-3f2e8a0642ab\",\"type\":\"Square\"}],\"root_ids\":[\"03043e83-20ee-4ae2-8f78-0ab59c6a3a87\"]},\"title\":\"Bokeh Application\",\"version\":\"0.12.16\"}};\n",
       "  var render_items = [{\"docid\":\"aa0bb729-d55a-4a4d-af99-f8e4f85f00d5\",\"elementid\":\"a0199838-2a46-416b-a74e-29ce7d3a5e24\",\"modelid\":\"03043e83-20ee-4ae2-8f78-0ab59c6a3a87\"}];\n",
       "  root.Bokeh.embed.embed_items_notebook(docs_json, render_items);\n",
       "\n",
       "  }\n",
       "  if (root.Bokeh !== undefined) {\n",
       "    embed_document(root);\n",
       "  } else {\n",
       "    var attempts = 0;\n",
       "    var timer = setInterval(function(root) {\n",
       "      if (root.Bokeh !== undefined) {\n",
       "        embed_document(root);\n",
       "        clearInterval(timer);\n",
       "      }\n",
       "      attempts++;\n",
       "      if (attempts > 100) {\n",
       "        console.log(\"Bokeh: ERROR: Unable to run BokehJS code because BokehJS library is missing\")\n",
       "        clearInterval(timer);\n",
       "      }\n",
       "    }, 10, root)\n",
       "  }\n",
       "})(window);"
      ],
      "application/vnd.bokehjs_exec.v0+json": ""
     },
     "metadata": {
      "application/vnd.bokehjs_exec.v0+json": {
       "id": "03043e83-20ee-4ae2-8f78-0ab59c6a3a87"
      }
     },
     "output_type": "display_data"
    },
    {
     "data": {
      "text/markdown": [
       "*FIGURE.* Cooling rates. g=2"
      ],
      "text/plain": [
       "<IPython.core.display.Markdown object>"
      ]
     },
     "metadata": {},
     "output_type": "display_data"
    },
    {
     "data": {
      "text/html": [
       "\n",
       "<div class=\"bk-root\">\n",
       "    <div class=\"bk-plotdiv\" id=\"75025c25-cb2a-432b-b4a5-5230c574827e\"></div>\n",
       "</div>"
      ]
     },
     "metadata": {},
     "output_type": "display_data"
    },
    {
     "data": {
      "application/javascript": [
       "(function(root) {\n",
       "  function embed_document(root) {\n",
       "    \n",
       "  var docs_json = {\"2ba9cbf2-5c77-4a36-ae61-d653b030da4c\":{\"roots\":{\"references\":[{\"attributes\":{},\"id\":\"ec046a0c-c181-4e7d-9b54-526f51edbb75\",\"type\":\"UnionRenderers\"},{\"attributes\":{},\"id\":\"6ffa40dd-1975-4c96-a14a-ba1d38cc64e8\",\"type\":\"Selection\"},{\"attributes\":{\"bottom_units\":\"screen\",\"fill_alpha\":{\"value\":0.5},\"fill_color\":{\"value\":\"lightgrey\"},\"left_units\":\"screen\",\"level\":\"overlay\",\"line_alpha\":{\"value\":1.0},\"line_color\":{\"value\":\"black\"},\"line_dash\":[4,4],\"line_width\":{\"value\":2},\"plot\":null,\"render_mode\":\"css\",\"right_units\":\"screen\",\"top_units\":\"screen\"},\"id\":\"dbbb94f9-2253-4d01-85ed-fc2abc4e03ff\",\"type\":\"BoxAnnotation\"},{\"attributes\":{\"fill_alpha\":{\"value\":0.1},\"fill_color\":{\"value\":\"#1f77b4\"},\"line_alpha\":{\"value\":0.1},\"line_color\":{\"value\":\"#1f77b4\"},\"x\":{\"field\":\"x\"},\"y\":{\"field\":\"y\"}},\"id\":\"054102ec-b484-4922-b7f5-9f803d9cfdc1\",\"type\":\"Circle\"},{\"attributes\":{},\"id\":\"586a0da1-5780-411d-a0f7-39f9645ebaf0\",\"type\":\"UnionRenderers\"},{\"attributes\":{},\"id\":\"49ca8548-0aa3-410c-8b7c-ecb2fbc2a6ef\",\"type\":\"HelpTool\"},{\"attributes\":{},\"id\":\"8a7cb6cf-7c89-4ae7-9b60-a3f53ae25d43\",\"type\":\"UnionRenderers\"},{\"attributes\":{},\"id\":\"d19f7bd7-2062-41e2-951f-ee7fdd483b32\",\"type\":\"Selection\"},{\"attributes\":{\"above\":[{\"id\":\"257357ae-320a-4047-b936-9a21d15cc723\",\"type\":\"Legend\"}],\"below\":[{\"id\":\"f63e140d-a328-4832-8a60-e410143df776\",\"type\":\"LinearAxis\"}],\"left\":[{\"id\":\"839f83ec-e5a4-4a4b-b1fc-370db46606cd\",\"type\":\"LinearAxis\"}],\"plot_height\":500,\"plot_width\":400,\"renderers\":[{\"id\":\"f63e140d-a328-4832-8a60-e410143df776\",\"type\":\"LinearAxis\"},{\"id\":\"b3aed073-d4c7-4a5a-8136-0f982e191add\",\"type\":\"Grid\"},{\"id\":\"839f83ec-e5a4-4a4b-b1fc-370db46606cd\",\"type\":\"LinearAxis\"},{\"id\":\"c7f845da-8a54-4136-914f-f73ee25693b2\",\"type\":\"Grid\"},{\"id\":\"dbbb94f9-2253-4d01-85ed-fc2abc4e03ff\",\"type\":\"BoxAnnotation\"},{\"id\":\"3be7b89d-fa89-4f6d-bc8c-84811171e7a8\",\"type\":\"GlyphRenderer\"},{\"id\":\"2dafaca1-cd46-4378-860d-f1d807f17f70\",\"type\":\"GlyphRenderer\"},{\"id\":\"1e6f27a4-fa06-4f29-b1d2-e27dc7bd9aff\",\"type\":\"GlyphRenderer\"},{\"id\":\"18e2f860-faf5-43f7-a356-df46af118197\",\"type\":\"GlyphRenderer\"},{\"id\":\"fdfdcdd9-1948-434b-bd6e-d77cb7bcb02b\",\"type\":\"GlyphRenderer\"},{\"id\":\"4c01fd30-81f9-4809-a7aa-58e9ce793185\",\"type\":\"GlyphRenderer\"},{\"id\":\"257357ae-320a-4047-b936-9a21d15cc723\",\"type\":\"Legend\"}],\"title\":{\"id\":\"150e6d65-2eb8-41be-b218-d52424eb825a\",\"type\":\"Title\"},\"toolbar\":{\"id\":\"4a889ab2-0d89-4a38-8f72-e5bb7ff09e1a\",\"type\":\"Toolbar\"},\"toolbar_location\":null,\"x_range\":{\"id\":\"a7b33921-7a7e-45bc-b32a-97b3c43dba9d\",\"type\":\"Range1d\"},\"x_scale\":{\"id\":\"bf25adda-71ad-4f5d-9087-77265ea78415\",\"type\":\"LinearScale\"},\"y_range\":{\"id\":\"376aa65e-3f1b-4721-96a3-a64431d277f4\",\"type\":\"Range1d\"},\"y_scale\":{\"id\":\"62e14158-4f9b-4355-9f8e-06ad119e4437\",\"type\":\"LinearScale\"}},\"id\":\"c12ab194-0059-4481-af9c-4ac89ca0518c\",\"subtype\":\"Figure\",\"type\":\"Plot\"},{\"attributes\":{\"callback\":null,\"end\":0.01,\"start\":1020},\"id\":\"376aa65e-3f1b-4721-96a3-a64431d277f4\",\"type\":\"Range1d\"},{\"attributes\":{\"fill_alpha\":{\"value\":0.1},\"fill_color\":{\"value\":\"#1f77b4\"},\"line_alpha\":{\"value\":0.1},\"line_color\":{\"value\":\"#1f77b4\"},\"x\":{\"field\":\"x\"},\"y\":{\"field\":\"y\"}},\"id\":\"9065241b-c4ba-458e-8d71-5c4faa8d4b0a\",\"type\":\"Square\"},{\"attributes\":{\"source\":{\"id\":\"3271737c-b52f-41ae-97aa-6f599cdb1c09\",\"type\":\"ColumnDataSource\"}},\"id\":\"6edd38fe-681a-4c23-8d61-710d2dad9dae\",\"type\":\"CDSView\"},{\"attributes\":{\"data_source\":{\"id\":\"bd5b3217-aed0-4410-adbf-4c28fdd70f7e\",\"type\":\"ColumnDataSource\"},\"glyph\":{\"id\":\"b3536768-2a76-46b5-ae7b-6ab0b677393e\",\"type\":\"Line\"},\"hover_glyph\":null,\"muted_glyph\":null,\"nonselection_glyph\":{\"id\":\"a3071d28-bcf1-47da-ba90-ad404dcfec8e\",\"type\":\"Line\"},\"selection_glyph\":null,\"view\":{\"id\":\"46522658-5d28-4020-a95e-43eb03221b97\",\"type\":\"CDSView\"}},\"id\":\"18e2f860-faf5-43f7-a356-df46af118197\",\"type\":\"GlyphRenderer\"},{\"attributes\":{\"source\":{\"id\":\"bd5b3217-aed0-4410-adbf-4c28fdd70f7e\",\"type\":\"ColumnDataSource\"}},\"id\":\"46522658-5d28-4020-a95e-43eb03221b97\",\"type\":\"CDSView\"},{\"attributes\":{\"callback\":null,\"data\":{\"x\":{\"__ndarray__\":\"dXwMEf5s7r5lixuwhbDuvmQ64HndAe++RkbVK8dg7762z7Uvd87vvryu6BmEKPC+MOkOPnV48L7ywiOe/Nzwvjw2BsFUXvG+uDHF7usH8r4Pat28rOnyvgMyBoCwGfS+L/EIi6a29b5f3AUiWOv3vlc0MQrU5Pq+sEG42Tgx/r4v1Zojmh0Avy4srd26MP++XAeLtoi7976+XhEi09XNvv2qt06zzAM/8SDvyyodHz8vILUQUZwvP3eyNk3D+TQ/HtVrnfGiMz+ZkRRtm50tP/ymafLuJxs/gVxzzP3oFb94Qb/g9jY3v/F8aO++T0i/6AUpRodYVb9TF4QE2Sphv0kbEUyxw2m/fYTNgLtzcr9IFsK/B/V5v9PKpbby4IG/hxOJI778hr9d/8Kzg5iLv9KfDyzNAZC/TjlFmLn4kb9xc9nRACqTv1g4ZUj3bpO/k+AkBcoxk78Ol9Ogk56Sv7PYP7ItwZG/iCQsilShkL/hcHe6GYyOv9c5MeQLbIu/PJGz8sPvh7+MavX7HCSEvyFymL5HHIC/pdy2XRPTd7/DodY8F2Juv+SJ5I/QdFm/d9PomfVDRT8EoZ45ScVnPxpyGWPaUXU/sI/+Oh/1fj8My+rYK2WEP/9ZvvFfZ4k/FL/bHOR+jj+GP/PUS9WRPyLQ+SbWdJQ/3qm93rYclz9FS9wy+cmZPxURZXLhdZw/PFy3sIoRnz//71UZMMKgPxHphL5e26E/rIinEvbRoj+grFJZmK6jP4UZq7GqfKQ/jypL8xVEpT+e1zPfHAmmP4olQKjmzaY/\",\"dtype\":\"float64\",\"shape\":[75]},\"y\":{\"__ndarray__\":\"GhExyth1ND/Sv8nbtpRIP2vylNV0PVE/aTum7souWD/At0SJ8fVgPw3Iuahxymc/MSNhhJWvcD/bTfBN02d3P2zb5nxnaoA/CD5h5MAGhz8NmeH1TyaQP+zrCsc9p5Y/LbKd76fGnz/bLW5ISEmmPww9YvTcQq8/JV2OstnstT8Er5Y7M8G+P0c+r3jqkcU/5h99k6ZBzj88bCIzFzjVP4enV8oyxN0//yH99nXg5D8qOpLLf0jtP5kqGJXUifQ/c9cS8kHP/D+/DpwzojQEQIEmwoanVwxA4lgXt9HgE0BSSZ2AJuIbQAMJih9jjiNA5q4l5INuK0AwTKYKRj0zQNv5fmq8/DpAaCJseHrtQkB/+zpwzoxKQM3MzMzMeFJAZmZmZmZqWEAAAAAAAFxeQM3MzMzMJmJAmpmZmZkfZUBmZmZmZhhoQDMzMzMzEWtAAAAAAAAKbkBmZmZmZoFwQM3MzMzM/XFAMzMzMzN6c0CamZmZmfZ0QAAAAAAAc3ZAZmZmZmbvd0DNzMzMzGt5QDMzMzMz6HpAmpmZmZlkfEAAAAAAAOF9QGZmZmZmXX9AZmZmZuZsgECamZmZGSuBQM3MzMxM6YFAAAAAAICngkAzMzMzs2WDQGZmZmbmI4RAmpmZmRnihEDNzMzMTKCFQAAAAACAXoZAMzMzM7Mch0BmZmZm5tqHQJqZmZkZmYhAzczMzExXiUAAAAAAgBWKQDMzMzOz04pAZmZmZuaRi0CamZmZGVCMQM3MzMxMDo1AAAAAAIDMjUAzMzMzs4qOQGZmZmbmSI9A\",\"dtype\":\"float64\",\"shape\":[75]}},\"selected\":{\"id\":\"6ffa40dd-1975-4c96-a14a-ba1d38cc64e8\",\"type\":\"Selection\"},\"selection_policy\":{\"id\":\"586a0da1-5780-411d-a0f7-39f9645ebaf0\",\"type\":\"UnionRenderers\"}},\"id\":\"d9bd7a98-1571-4001-81cd-e7db3929a58e\",\"type\":\"ColumnDataSource\"},{\"attributes\":{\"line_alpha\":0.1,\"line_color\":\"#1f77b4\",\"line_width\":1.5,\"x\":{\"field\":\"x\"},\"y\":{\"field\":\"y\"}},\"id\":\"46f70d15-b9a2-40bb-8cf9-80816b8b2a82\",\"type\":\"Line\"},{\"attributes\":{},\"id\":\"746d83dc-20fe-43af-a424-61d4dfd44f11\",\"type\":\"PanTool\"},{\"attributes\":{\"callback\":null,\"data\":{\"x\":{\"__ndarray__\":\"t6NIhLOu7b65DGhOfOrtvgvx5gVoLO6+KHlS9/d57r5YUMvg/tTuvih+Las6Q+++Es+VC73M776qPHfsTT7wvlz0Wk8xsfC+gcgosL9J8b5EPm3I3hbyvu23FegrLfO+7tEp9Cup9L5kZAKQc7H2vpgTJDf9Rvm+qqkYSXt6+77cv8P4Wi/7vvBoz+DTFPa+ZtsLifOv3r5LEvl9jyf4Pi/1gIvB3RU/wfez/Hi6KT9RDTd8pOM3P23GqB8AjD8/EIHz/tBnPz/zAxzr+oI7P9DWgXodfjQ/7+32y+aoIj8a4y27eIkcv3gMSU3GLz+/4BQOMPexUL9SsdXQi3Rdv8WD4AuwI2e/5mFH+ccPcb+dzZ03EoN4v0y1sBWWMoG/FCDaLDZkhr+sGQUASB+Lv4VllLA0xY+/hKc8LGf+kb9VgkkacTuTv0Av1wB3aZO/JIcO1SIPk7+oYyF8IGCSvzVrIa+kaJG/NSFSeHUzkL9U7oLkRIuNvwOiFjn6Toq/ZwOpRyy/hr98X8SNR+iCv3iC1qLSv32/HmLJfhlxdb/DNa9V//ppv7B2Z3jys1G/Ur8/KF4TUT/VhUSH7DZqPzwUc7uYIHY/m2bk6WFTfz8HbwBgMlqEP8W+9UVoIok/aWoWvncBjj9xzJuLC3yRP5M/7/i8A5Q/MfTytROXlj/OXMaeVDOZP2F2mPTM0ps/w/B5FJpjnj8v2GtMGGWgP6PtVp5ZdaE/XQrQNRpgoj9rvaIFrzCjP1qU+C1R9aM/AgGYVja4pD9DAOf6e3+lP7oexE+VT6Y/\",\"dtype\":\"float64\",\"shape\":[75]},\"y\":{\"__ndarray__\":\"GhExyth1ND/Sv8nbtpRIP2vylNV0PVE/aTum7souWD/At0SJ8fVgPw3Iuahxymc/MSNhhJWvcD/bTfBN02d3P2zb5nxnaoA/CD5h5MAGhz8NmeH1TyaQP+zrCsc9p5Y/LbKd76fGnz/bLW5ISEmmPww9YvTcQq8/JV2OstnstT8Er5Y7M8G+P0c+r3jqkcU/5h99k6ZBzj88bCIzFzjVP4enV8oyxN0//yH99nXg5D8qOpLLf0jtP5kqGJXUifQ/c9cS8kHP/D+/DpwzojQEQIEmwoanVwxA4lgXt9HgE0BSSZ2AJuIbQAMJih9jjiNA5q4l5INuK0AwTKYKRj0zQNv5fmq8/DpAaCJseHrtQkB/+zpwzoxKQM3MzMzMeFJAZmZmZmZqWEAAAAAAAFxeQM3MzMzMJmJAmpmZmZkfZUBmZmZmZhhoQDMzMzMzEWtAAAAAAAAKbkBmZmZmZoFwQM3MzMzM/XFAMzMzMzN6c0CamZmZmfZ0QAAAAAAAc3ZAZmZmZmbvd0DNzMzMzGt5QDMzMzMz6HpAmpmZmZlkfEAAAAAAAOF9QGZmZmZmXX9AZmZmZuZsgECamZmZGSuBQM3MzMxM6YFAAAAAAICngkAzMzMzs2WDQGZmZmbmI4RAmpmZmRnihEDNzMzMTKCFQAAAAACAXoZAMzMzM7Mch0BmZmZm5tqHQJqZmZkZmYhAzczMzExXiUAAAAAAgBWKQDMzMzOz04pAZmZmZuaRi0CamZmZGVCMQM3MzMxMDo1AAAAAAIDMjUAzMzMzs4qOQGZmZmbmSI9A\",\"dtype\":\"float64\",\"shape\":[75]}},\"selected\":{\"id\":\"c750167d-84c0-455c-98bf-2ee08d5fa759\",\"type\":\"Selection\"},\"selection_policy\":{\"id\":\"0daffbf9-463f-4018-ac1c-ef574c2102b0\",\"type\":\"UnionRenderers\"}},\"id\":\"ada8dbac-1642-4a95-b256-ea4e8a5e9fc4\",\"type\":\"ColumnDataSource\"},{\"attributes\":{\"line_alpha\":0.6,\"line_color\":\"#984ea3\",\"line_width\":3,\"x\":{\"field\":\"x\"},\"y\":{\"field\":\"y\"}},\"id\":\"b3536768-2a76-46b5-ae7b-6ab0b677393e\",\"type\":\"Line\"},{\"attributes\":{\"data_source\":{\"id\":\"c6bcdaf8-74c7-478d-b85b-bfb600ff9ea5\",\"type\":\"ColumnDataSource\"},\"glyph\":{\"id\":\"1cf32643-6df7-4e6e-a962-e550480f1df3\",\"type\":\"Line\"},\"hover_glyph\":null,\"muted_glyph\":null,\"nonselection_glyph\":{\"id\":\"46f70d15-b9a2-40bb-8cf9-80816b8b2a82\",\"type\":\"Line\"},\"selection_glyph\":null,\"view\":{\"id\":\"afa63ec1-9bcd-4cdc-8b4b-d8de6a09c80f\",\"type\":\"CDSView\"}},\"id\":\"584d105d-22ae-493c-ae49-b4e20dfc6b10\",\"type\":\"GlyphRenderer\"},{\"attributes\":{},\"id\":\"e734ec98-eb77-4ec2-8573-8c9a9f10ded4\",\"type\":\"UnionRenderers\"},{\"attributes\":{\"callback\":null,\"data\":{\"x\":{\"__ndarray__\":\"t6NIhLOu7b65DGhOfOrtvgvx5gVoLO6+KHlS9/d57r5YUMvg/tTuvih+Las6Q+++Es+VC73M776qPHfsTT7wvlz0Wk8xsfC+gcgosL9J8b5EPm3I3hbyvu23FegrLfO+7tEp9Cup9L5kZAKQc7H2vpgTJDf9Rvm+qqkYSXt6+77cv8P4Wi/7vvBoz+DTFPa+ZtsLifOv3r5LEvl9jyf4Pi/1gIvB3RU/wfez/Hi6KT9RDTd8pOM3P23GqB8AjD8/EIHz/tBnPz/zAxzr+oI7P9DWgXodfjQ/7+32y+aoIj8a4y27eIkcv3gMSU3GLz+/4BQOMPexUL9SsdXQi3Rdv8WD4AuwI2e/5mFH+ccPcb+dzZ03EoN4v0y1sBWWMoG/FCDaLDZkhr+sGQUASB+Lv4VllLA0xY+/hKc8LGf+kb9VgkkacTuTv0Av1wB3aZO/JIcO1SIPk7+oYyF8IGCSvzVrIa+kaJG/NSFSeHUzkL9U7oLkRIuNvwOiFjn6Toq/ZwOpRyy/hr98X8SNR+iCv3iC1qLSv32/HmLJfhlxdb/DNa9V//ppv7B2Z3jys1G/Ur8/KF4TUT/VhUSH7DZqPzwUc7uYIHY/m2bk6WFTfz8HbwBgMlqEP8W+9UVoIok/aWoWvncBjj9xzJuLC3yRP5M/7/i8A5Q/MfTytROXlj/OXMaeVDOZP2F2mPTM0ps/w/B5FJpjnj8v2GtMGGWgP6PtVp5ZdaE/XQrQNRpgoj9rvaIFrzCjP1qU+C1R9aM/AgGYVja4pD9DAOf6e3+lP7oexE+VT6Y/\",\"dtype\":\"float64\",\"shape\":[75]},\"y\":{\"__ndarray__\":\"GhExyth1ND/Sv8nbtpRIP2vylNV0PVE/aTum7souWD/At0SJ8fVgPw3Iuahxymc/MSNhhJWvcD/bTfBN02d3P2zb5nxnaoA/CD5h5MAGhz8NmeH1TyaQP+zrCsc9p5Y/LbKd76fGnz/bLW5ISEmmPww9YvTcQq8/JV2OstnstT8Er5Y7M8G+P0c+r3jqkcU/5h99k6ZBzj88bCIzFzjVP4enV8oyxN0//yH99nXg5D8qOpLLf0jtP5kqGJXUifQ/c9cS8kHP/D+/DpwzojQEQIEmwoanVwxA4lgXt9HgE0BSSZ2AJuIbQAMJih9jjiNA5q4l5INuK0AwTKYKRj0zQNv5fmq8/DpAaCJseHrtQkB/+zpwzoxKQM3MzMzMeFJAZmZmZmZqWEAAAAAAAFxeQM3MzMzMJmJAmpmZmZkfZUBmZmZmZhhoQDMzMzMzEWtAAAAAAAAKbkBmZmZmZoFwQM3MzMzM/XFAMzMzMzN6c0CamZmZmfZ0QAAAAAAAc3ZAZmZmZmbvd0DNzMzMzGt5QDMzMzMz6HpAmpmZmZlkfEAAAAAAAOF9QGZmZmZmXX9AZmZmZuZsgECamZmZGSuBQM3MzMxM6YFAAAAAAICngkAzMzMzs2WDQGZmZmbmI4RAmpmZmRnihEDNzMzMTKCFQAAAAACAXoZAMzMzM7Mch0BmZmZm5tqHQJqZmZkZmYhAzczMzExXiUAAAAAAgBWKQDMzMzOz04pAZmZmZuaRi0CamZmZGVCMQM3MzMxMDo1AAAAAAIDMjUAzMzMzs4qOQGZmZmbmSI9A\",\"dtype\":\"float64\",\"shape\":[75]}},\"selected\":{\"id\":\"ff56867f-b7a1-4c6f-a242-a635ba77514c\",\"type\":\"Selection\"},\"selection_policy\":{\"id\":\"ec046a0c-c181-4e7d-9b54-526f51edbb75\",\"type\":\"UnionRenderers\"}},\"id\":\"bd5b3217-aed0-4410-adbf-4c28fdd70f7e\",\"type\":\"ColumnDataSource\"},{\"attributes\":{\"line_color\":\"#4daf4a\",\"line_width\":1.5,\"x\":{\"field\":\"x\"},\"y\":{\"field\":\"y\"}},\"id\":\"1cf32643-6df7-4e6e-a962-e550480f1df3\",\"type\":\"Line\"},{\"attributes\":{\"source\":{\"id\":\"d9bd7a98-1571-4001-81cd-e7db3929a58e\",\"type\":\"ColumnDataSource\"}},\"id\":\"2a1cdd3d-84e2-4742-bb37-65a3052d0add\",\"type\":\"CDSView\"},{\"attributes\":{\"data_source\":{\"id\":\"4080e0d0-29f4-4aeb-b4a9-a16a36660095\",\"type\":\"ColumnDataSource\"},\"glyph\":{\"id\":\"c74989f4-c6bf-49f6-b3be-b6a767307fc7\",\"type\":\"Circle\"},\"hover_glyph\":null,\"muted_glyph\":null,\"nonselection_glyph\":{\"id\":\"cca46cac-861c-4bd9-9b37-828d496b7508\",\"type\":\"Circle\"},\"selection_glyph\":null,\"view\":{\"id\":\"141754f8-0f5d-43b4-9401-99c94a95a042\",\"type\":\"CDSView\"}},\"id\":\"0f30611d-cda5-41b0-ac1a-9986edafac36\",\"type\":\"GlyphRenderer\"},{\"attributes\":{\"line_alpha\":0.1,\"line_color\":\"#1f77b4\",\"line_width\":3,\"x\":{\"field\":\"x\"},\"y\":{\"field\":\"y\"}},\"id\":\"a3071d28-bcf1-47da-ba90-ad404dcfec8e\",\"type\":\"Line\"},{\"attributes\":{\"data_source\":{\"id\":\"d9bd7a98-1571-4001-81cd-e7db3929a58e\",\"type\":\"ColumnDataSource\"},\"glyph\":{\"id\":\"541ccd62-1f96-497d-b27f-3d4ada746a36\",\"type\":\"Triangle\"},\"hover_glyph\":null,\"muted_glyph\":null,\"nonselection_glyph\":{\"id\":\"82ce787a-70d9-419c-9f1e-9935b490e61c\",\"type\":\"Triangle\"},\"selection_glyph\":null,\"view\":{\"id\":\"2a1cdd3d-84e2-4742-bb37-65a3052d0add\",\"type\":\"CDSView\"}},\"id\":\"fdfdcdd9-1948-434b-bd6e-d77cb7bcb02b\",\"type\":\"GlyphRenderer\"},{\"attributes\":{\"data_source\":{\"id\":\"016f6fc8-2f0e-4330-bb4a-a04de666a5de\",\"type\":\"ColumnDataSource\"},\"glyph\":{\"id\":\"00485644-cd7d-42fd-8047-9a5e9cbf1a11\",\"type\":\"Line\"},\"hover_glyph\":null,\"muted_glyph\":null,\"nonselection_glyph\":{\"id\":\"c9417a61-1a26-4f69-a5fc-66468d2de20a\",\"type\":\"Line\"},\"selection_glyph\":null,\"view\":{\"id\":\"dc652457-e65e-45de-a367-9469ec82a833\",\"type\":\"CDSView\"}},\"id\":\"4c01fd30-81f9-4809-a7aa-58e9ce793185\",\"type\":\"GlyphRenderer\"},{\"attributes\":{\"line_alpha\":0.1,\"line_color\":\"#1f77b4\",\"line_width\":1.5,\"x\":{\"field\":\"x\"},\"y\":{\"field\":\"y\"}},\"id\":\"b8af9201-6e74-4808-b2d4-0ebd79487388\",\"type\":\"Line\"},{\"attributes\":{\"dimension\":1,\"plot\":{\"id\":\"aea023a0-3f1e-457e-9ff4-516eec50d714\",\"subtype\":\"Figure\",\"type\":\"Plot\"},\"ticker\":{\"id\":\"0c592134-8682-4910-9e25-a6b44565f1f4\",\"type\":\"LogTicker\"}},\"id\":\"b0c424ee-09ae-485b-babf-539030521875\",\"type\":\"Grid\"},{\"attributes\":{\"callback\":null,\"data\":{\"x\":{\"__ndarray__\":\"t6NIhLOu7b65DGhOfOrtvgvx5gVoLO6+KHlS9/d57r5YUMvg/tTuvih+Las6Q+++Es+VC73M776qPHfsTT7wvlz0Wk8xsfC+gcgosL9J8b5EPm3I3hbyvu23FegrLfO+7tEp9Cup9L5kZAKQc7H2vpgTJDf9Rvm+qqkYSXt6+77cv8P4Wi/7vvBoz+DTFPa+ZtsLifOv3r5LEvl9jyf4Pi/1gIvB3RU/wfez/Hi6KT9RDTd8pOM3P23GqB8AjD8/EIHz/tBnPz/zAxzr+oI7P9DWgXodfjQ/7+32y+aoIj8a4y27eIkcv3gMSU3GLz+/4BQOMPexUL9SsdXQi3Rdv8WD4AuwI2e/5mFH+ccPcb+dzZ03EoN4v0y1sBWWMoG/FCDaLDZkhr+sGQUASB+Lv4VllLA0xY+/hKc8LGf+kb9VgkkacTuTv0Av1wB3aZO/JIcO1SIPk7+oYyF8IGCSvzVrIa+kaJG/NSFSeHUzkL9U7oLkRIuNvwOiFjn6Toq/ZwOpRyy/hr98X8SNR+iCv3iC1qLSv32/HmLJfhlxdb/DNa9V//ppv7B2Z3jys1G/Ur8/KF4TUT/VhUSH7DZqPzwUc7uYIHY/m2bk6WFTfz8HbwBgMlqEP8W+9UVoIok/aWoWvncBjj9xzJuLC3yRP5M/7/i8A5Q/MfTytROXlj/OXMaeVDOZP2F2mPTM0ps/w/B5FJpjnj8v2GtMGGWgP6PtVp5ZdaE/XQrQNRpgoj9rvaIFrzCjP1qU+C1R9aM/AgGYVja4pD9DAOf6e3+lP7oexE+VT6Y/\",\"dtype\":\"float64\",\"shape\":[75]},\"y\":{\"__ndarray__\":\"GhExyth1ND/Sv8nbtpRIP2vylNV0PVE/aTum7souWD/At0SJ8fVgPw3Iuahxymc/MSNhhJWvcD/bTfBN02d3P2zb5nxnaoA/CD5h5MAGhz8NmeH1TyaQP+zrCsc9p5Y/LbKd76fGnz/bLW5ISEmmPww9YvTcQq8/JV2OstnstT8Er5Y7M8G+P0c+r3jqkcU/5h99k6ZBzj88bCIzFzjVP4enV8oyxN0//yH99nXg5D8qOpLLf0jtP5kqGJXUifQ/c9cS8kHP/D+/DpwzojQEQIEmwoanVwxA4lgXt9HgE0BSSZ2AJuIbQAMJih9jjiNA5q4l5INuK0AwTKYKRj0zQNv5fmq8/DpAaCJseHrtQkB/+zpwzoxKQM3MzMzMeFJAZmZmZmZqWEAAAAAAAFxeQM3MzMzMJmJAmpmZmZkfZUBmZmZmZhhoQDMzMzMzEWtAAAAAAAAKbkBmZmZmZoFwQM3MzMzM/XFAMzMzMzN6c0CamZmZmfZ0QAAAAAAAc3ZAZmZmZmbvd0DNzMzMzGt5QDMzMzMz6HpAmpmZmZlkfEAAAAAAAOF9QGZmZmZmXX9AZmZmZuZsgECamZmZGSuBQM3MzMxM6YFAAAAAAICngkAzMzMzs2WDQGZmZmbmI4RAmpmZmRnihEDNzMzMTKCFQAAAAACAXoZAMzMzM7Mch0BmZmZm5tqHQJqZmZkZmYhAzczMzExXiUAAAAAAgBWKQDMzMzOz04pAZmZmZuaRi0CamZmZGVCMQM3MzMxMDo1AAAAAAIDMjUAzMzMzs4qOQGZmZmbmSI9A\",\"dtype\":\"float64\",\"shape\":[75]}},\"selected\":{\"id\":\"fdfa2196-6855-43ca-bc98-da9e49af7f1d\",\"type\":\"Selection\"},\"selection_policy\":{\"id\":\"e734ec98-eb77-4ec2-8573-8c9a9f10ded4\",\"type\":\"UnionRenderers\"}},\"id\":\"94e54e05-644a-425a-b0f7-ee4169734b15\",\"type\":\"ColumnDataSource\"},{\"attributes\":{\"line_alpha\":0.3,\"line_color\":\"#377eb8\",\"line_width\":2,\"x\":{\"field\":\"x\"},\"y\":{\"field\":\"y\"}},\"id\":\"00485644-cd7d-42fd-8047-9a5e9cbf1a11\",\"type\":\"Line\"},{\"attributes\":{},\"id\":\"ff56867f-b7a1-4c6f-a242-a635ba77514c\",\"type\":\"Selection\"},{\"attributes\":{},\"id\":\"fef43544-a905-4da1-bacc-56feeffc434e\",\"type\":\"UnionRenderers\"},{\"attributes\":{\"data_source\":{\"id\":\"3271737c-b52f-41ae-97aa-6f599cdb1c09\",\"type\":\"ColumnDataSource\"},\"glyph\":{\"id\":\"cc225b10-f365-4bd2-be8d-ea9d6c44f60b\",\"type\":\"Line\"},\"hover_glyph\":null,\"muted_glyph\":null,\"nonselection_glyph\":{\"id\":\"b8af9201-6e74-4808-b2d4-0ebd79487388\",\"type\":\"Line\"},\"selection_glyph\":null,\"view\":{\"id\":\"6edd38fe-681a-4c23-8d61-710d2dad9dae\",\"type\":\"CDSView\"}},\"id\":\"2dafaca1-cd46-4378-860d-f1d807f17f70\",\"type\":\"GlyphRenderer\"},{\"attributes\":{\"fill_alpha\":{\"value\":0.7},\"fill_color\":{\"value\":\"#377eb8\"},\"line_alpha\":{\"value\":0.7},\"line_color\":{\"value\":\"#377eb8\"},\"x\":{\"field\":\"x\"},\"y\":{\"field\":\"y\"}},\"id\":\"541ccd62-1f96-497d-b27f-3d4ada746a36\",\"type\":\"Triangle\"},{\"attributes\":{\"fill_alpha\":{\"value\":0.7},\"fill_color\":{\"value\":\"#984ea3\"},\"line_alpha\":{\"value\":0.7},\"line_color\":{\"value\":\"#984ea3\"},\"x\":{\"field\":\"x\"},\"y\":{\"field\":\"y\"}},\"id\":\"f6cebb2d-d42d-4632-9b93-71f07200e6db\",\"type\":\"Square\"},{\"attributes\":{\"line_color\":\"#4daf4a\",\"line_width\":1.5,\"x\":{\"field\":\"x\"},\"y\":{\"field\":\"y\"}},\"id\":\"cc225b10-f365-4bd2-be8d-ea9d6c44f60b\",\"type\":\"Line\"},{\"attributes\":{\"source\":{\"id\":\"4080e0d0-29f4-4aeb-b4a9-a16a36660095\",\"type\":\"ColumnDataSource\"}},\"id\":\"141754f8-0f5d-43b4-9401-99c94a95a042\",\"type\":\"CDSView\"},{\"attributes\":{\"callback\":null,\"end\":0.01,\"start\":1020},\"id\":\"94b3cacd-2fd2-4f33-bd30-623b2332a806\",\"type\":\"Range1d\"},{\"attributes\":{\"line_alpha\":0.1,\"line_color\":\"#1f77b4\",\"line_width\":2,\"x\":{\"field\":\"x\"},\"y\":{\"field\":\"y\"}},\"id\":\"c9417a61-1a26-4f69-a5fc-66468d2de20a\",\"type\":\"Line\"},{\"attributes\":{\"fill_alpha\":{\"value\":0.1},\"fill_color\":{\"value\":\"#1f77b4\"},\"line_alpha\":{\"value\":0.1},\"line_color\":{\"value\":\"#1f77b4\"},\"x\":{\"field\":\"x\"},\"y\":{\"field\":\"y\"}},\"id\":\"cca46cac-861c-4bd9-9b37-828d496b7508\",\"type\":\"Circle\"},{\"attributes\":{\"data_source\":{\"id\":\"94e54e05-644a-425a-b0f7-ee4169734b15\",\"type\":\"ColumnDataSource\"},\"glyph\":{\"id\":\"f6cebb2d-d42d-4632-9b93-71f07200e6db\",\"type\":\"Square\"},\"hover_glyph\":null,\"muted_glyph\":null,\"nonselection_glyph\":{\"id\":\"9065241b-c4ba-458e-8d71-5c4faa8d4b0a\",\"type\":\"Square\"},\"selection_glyph\":null,\"view\":{\"id\":\"2cadf47e-6f6a-48de-8739-c3c4b8c0b1eb\",\"type\":\"CDSView\"}},\"id\":\"1e6f27a4-fa06-4f29-b1d2-e27dc7bd9aff\",\"type\":\"GlyphRenderer\"},{\"attributes\":{\"line_alpha\":0.6,\"line_color\":\"#984ea3\",\"line_width\":3,\"x\":{\"field\":\"x\"},\"y\":{\"field\":\"y\"}},\"id\":\"87aa6ff2-1492-45e2-ba89-1604f6d9c554\",\"type\":\"Line\"},{\"attributes\":{\"source\":{\"id\":\"9d959294-0da5-4b93-a63f-bae663eb98f0\",\"type\":\"ColumnDataSource\"}},\"id\":\"f16e9d0f-91b9-4e4b-83cc-b76b567afcb3\",\"type\":\"CDSView\"},{\"attributes\":{\"above\":[{\"id\":\"a23ab0bf-3ff4-4875-9ee5-1a45951ac17c\",\"type\":\"Legend\"}],\"below\":[{\"id\":\"cddb85bc-4d3b-4ee0-b6dd-43367cfffbe0\",\"type\":\"LinearAxis\"}],\"left\":[{\"id\":\"8b12e73a-ea95-42d6-b193-a92601a0edaa\",\"type\":\"LogAxis\"}],\"plot_height\":500,\"plot_width\":400,\"renderers\":[{\"id\":\"cddb85bc-4d3b-4ee0-b6dd-43367cfffbe0\",\"type\":\"LinearAxis\"},{\"id\":\"d0135fb6-145c-4986-9d06-c23501570427\",\"type\":\"Grid\"},{\"id\":\"8b12e73a-ea95-42d6-b193-a92601a0edaa\",\"type\":\"LogAxis\"},{\"id\":\"b0c424ee-09ae-485b-babf-539030521875\",\"type\":\"Grid\"},{\"id\":\"aa81e5fd-5cd2-4f9b-99c6-82289b34855f\",\"type\":\"BoxAnnotation\"},{\"id\":\"0f30611d-cda5-41b0-ac1a-9986edafac36\",\"type\":\"GlyphRenderer\"},{\"id\":\"584d105d-22ae-493c-ae49-b4e20dfc6b10\",\"type\":\"GlyphRenderer\"},{\"id\":\"d355cc69-e092-4e92-b824-fddd071279ec\",\"type\":\"GlyphRenderer\"},{\"id\":\"006cf9d5-eccb-4b99-af42-6fe2049836d2\",\"type\":\"GlyphRenderer\"},{\"id\":\"849c82c5-eda8-47fa-97b3-483d74384e07\",\"type\":\"GlyphRenderer\"},{\"id\":\"c3c14b6f-de02-49e4-9739-2a49834e99a3\",\"type\":\"GlyphRenderer\"},{\"id\":\"a23ab0bf-3ff4-4875-9ee5-1a45951ac17c\",\"type\":\"Legend\"}],\"title\":{\"id\":\"8057ef6d-f52b-4b40-ba08-329a87ca772c\",\"type\":\"Title\"},\"toolbar\":{\"id\":\"cb932265-274c-462f-bc8b-cbc183044b50\",\"type\":\"Toolbar\"},\"toolbar_location\":null,\"x_range\":{\"id\":\"05f58551-0968-497d-a7b9-9aafe78f8d02\",\"type\":\"Range1d\"},\"x_scale\":{\"id\":\"595f59d3-b20a-4a8c-bd24-1409aa38934a\",\"type\":\"LinearScale\"},\"y_range\":{\"id\":\"94b3cacd-2fd2-4f33-bd30-623b2332a806\",\"type\":\"Range1d\"},\"y_scale\":{\"id\":\"8ead5d48-26c8-4094-9e25-0810a836692f\",\"type\":\"LogScale\"}},\"id\":\"aea023a0-3f1e-457e-9ff4-516eec50d714\",\"subtype\":\"Figure\",\"type\":\"Plot\"},{\"attributes\":{},\"id\":\"0420f232-dae1-4dfe-9c6d-f6a7f2762702\",\"type\":\"Selection\"},{\"attributes\":{\"active_drag\":\"auto\",\"active_inspect\":\"auto\",\"active_scroll\":\"auto\",\"active_tap\":\"auto\",\"tools\":[{\"id\":\"746d83dc-20fe-43af-a424-61d4dfd44f11\",\"type\":\"PanTool\"},{\"id\":\"86b916c6-e00b-4312-bde4-58700b2054b0\",\"type\":\"WheelZoomTool\"},{\"id\":\"fa632bca-9aaa-4e0b-b7eb-78279964a63e\",\"type\":\"BoxZoomTool\"},{\"id\":\"94f917b0-e439-4eb6-88f6-efb0a8d8014b\",\"type\":\"SaveTool\"},{\"id\":\"74f19b70-2608-4dd4-bea4-f04088263441\",\"type\":\"ResetTool\"},{\"id\":\"3adc41b9-b1cb-478c-82a5-f6246302dc7b\",\"type\":\"HelpTool\"}]},\"id\":\"cb932265-274c-462f-bc8b-cbc183044b50\",\"type\":\"Toolbar\"},{\"attributes\":{\"callback\":null,\"data\":{\"x\":{\"__ndarray__\":\"1Y3DNLg18L6rH9deQFDwvppDEq7WbvC+1pZEKnSP8L4ql8OgdrLwvozdOxbl2vC+MNEy6AoK8b4e2CJDgELxvoRmuG6wh/G+KpU0QN7e8b62wY6O1U7yvlv/wpdU4fK+qshpWkSj877g6f1D76X0viIP1v+x1vW+F/JOvI0y9r5051VAOmXzvgi7j80/huW+LzEh7As74T6cQBC7VrcHP6hWDhYWKB4/gutMpzCmLz95fVknXSQ8P2IZpNdRz0I/ykr93jsDRD9i1oQpX95DP80h2JmD3kI/zA1q5Xy2QD9+fHmy+Bw6PwwlcOV6Miw/FWVcJNdHGb9JaJOafFFDv1rf3RV8vVS/dSCd0UWwYb9ZgH1PSE1sv789YALdtXW/EFxh0d8Rfr+kjrEDxRCDv85SrePKaYe/wQnqMx6ni79L+spvEC6Ov7V9DHmrfo6//q3ejXfajb95nAKW5baMv8rlRF2ZJ4u/vwFHscU2ib/xXKAjQO2GvwsGrYGaU4S/XRe/Z+tygb8e2B+YC6t8v5ahfzhHGna/c9DlkhGsbr8vam66oupgvww0D94Bsje/KEkXH0aPVj+favzbyOlpPwYQPW9DgXQ/hbGfK+xOfD9z9mQ77DCCPzOOvGxuXoY/0v4Wg9iwij8Ui/loWiqPPyrvNrG45pE/osD73U1NlD+6yWNeK8eWP+EZLTprTZk/eMwGunLNmz8djV9SXiaeP+NKDdIrHKA/HhjOomj/oD/K622lasqhPz6luuh6jqI/pgIcsulXoz+JvoikgC6kP0dYf0RGGaU/\",\"dtype\":\"float64\",\"shape\":[75]},\"y\":{\"__ndarray__\":\"GhExyth1ND/Sv8nbtpRIP2vylNV0PVE/aTum7souWD/At0SJ8fVgPw3Iuahxymc/MSNhhJWvcD/bTfBN02d3P2zb5nxnaoA/CD5h5MAGhz8NmeH1TyaQP+zrCsc9p5Y/LbKd76fGnz/bLW5ISEmmPww9YvTcQq8/JV2OstnstT8Er5Y7M8G+P0c+r3jqkcU/5h99k6ZBzj88bCIzFzjVP4enV8oyxN0//yH99nXg5D8qOpLLf0jtP5kqGJXUifQ/c9cS8kHP/D+/DpwzojQEQIEmwoanVwxA4lgXt9HgE0BSSZ2AJuIbQAMJih9jjiNA5q4l5INuK0AwTKYKRj0zQNv5fmq8/DpAaCJseHrtQkB/+zpwzoxKQM3MzMzMeFJAZmZmZmZqWEAAAAAAAFxeQM3MzMzMJmJAmpmZmZkfZUBmZmZmZhhoQDMzMzMzEWtAAAAAAAAKbkBmZmZmZoFwQM3MzMzM/XFAMzMzMzN6c0CamZmZmfZ0QAAAAAAAc3ZAZmZmZmbvd0DNzMzMzGt5QDMzMzMz6HpAmpmZmZlkfEAAAAAAAOF9QGZmZmZmXX9AZmZmZuZsgECamZmZGSuBQM3MzMxM6YFAAAAAAICngkAzMzMzs2WDQGZmZmbmI4RAmpmZmRnihEDNzMzMTKCFQAAAAACAXoZAMzMzM7Mch0BmZmZm5tqHQJqZmZkZmYhAzczMzExXiUAAAAAAgBWKQDMzMzOz04pAZmZmZuaRi0CamZmZGVCMQM3MzMxMDo1AAAAAAIDMjUAzMzMzs4qOQGZmZmbmSI9A\",\"dtype\":\"float64\",\"shape\":[75]}},\"selected\":{\"id\":\"0420f232-dae1-4dfe-9c6d-f6a7f2762702\",\"type\":\"Selection\"},\"selection_policy\":{\"id\":\"fef43544-a905-4da1-bacc-56feeffc434e\",\"type\":\"UnionRenderers\"}},\"id\":\"3271737c-b52f-41ae-97aa-6f599cdb1c09\",\"type\":\"ColumnDataSource\"},{\"attributes\":{\"fill_alpha\":{\"value\":0.1},\"fill_color\":{\"value\":\"#1f77b4\"},\"line_alpha\":{\"value\":0.1},\"line_color\":{\"value\":\"#1f77b4\"},\"x\":{\"field\":\"x\"},\"y\":{\"field\":\"y\"}},\"id\":\"82ce787a-70d9-419c-9f1e-9935b490e61c\",\"type\":\"Triangle\"},{\"attributes\":{\"source\":{\"id\":\"ada8dbac-1642-4a95-b256-ea4e8a5e9fc4\",\"type\":\"ColumnDataSource\"}},\"id\":\"a68c2713-81bb-43d0-b858-38c6ba42f6d7\",\"type\":\"CDSView\"},{\"attributes\":{\"axis_label\":\"pressure [mb]\",\"formatter\":{\"id\":\"c6447ee2-3295-4b2b-ab76-7f1fcade12b9\",\"type\":\"LogTickFormatter\"},\"plot\":{\"id\":\"aea023a0-3f1e-457e-9ff4-516eec50d714\",\"subtype\":\"Figure\",\"type\":\"Plot\"},\"ticker\":{\"id\":\"0c592134-8682-4910-9e25-a6b44565f1f4\",\"type\":\"LogTicker\"}},\"id\":\"8b12e73a-ea95-42d6-b193-a92601a0edaa\",\"type\":\"LogAxis\"},{\"attributes\":{\"callback\":null,\"data\":{\"x\":{\"__ndarray__\":\"dXwMEf5s7r5lixuwhbDuvmQ64HndAe++RkbVK8dg7762z7Uvd87vvryu6BmEKPC+MOkOPnV48L7ywiOe/Nzwvjw2BsFUXvG+uDHF7usH8r4Pat28rOnyvgMyBoCwGfS+L/EIi6a29b5f3AUiWOv3vlc0MQrU5Pq+sEG42Tgx/r4v1Zojmh0Avy4srd26MP++XAeLtoi7976+XhEi09XNvv2qt06zzAM/8SDvyyodHz8vILUQUZwvP3eyNk3D+TQ/HtVrnfGiMz+ZkRRtm50tP/ymafLuJxs/gVxzzP3oFb94Qb/g9jY3v/F8aO++T0i/6AUpRodYVb9TF4QE2Sphv0kbEUyxw2m/fYTNgLtzcr9IFsK/B/V5v9PKpbby4IG/hxOJI778hr9d/8Kzg5iLv9KfDyzNAZC/TjlFmLn4kb9xc9nRACqTv1g4ZUj3bpO/k+AkBcoxk78Ol9Ogk56Sv7PYP7ItwZG/iCQsilShkL/hcHe6GYyOv9c5MeQLbIu/PJGz8sPvh7+MavX7HCSEvyFymL5HHIC/pdy2XRPTd7/DodY8F2Juv+SJ5I/QdFm/d9PomfVDRT8EoZ45ScVnPxpyGWPaUXU/sI/+Oh/1fj8My+rYK2WEP/9ZvvFfZ4k/FL/bHOR+jj+GP/PUS9WRPyLQ+SbWdJQ/3qm93rYclz9FS9wy+cmZPxURZXLhdZw/PFy3sIoRnz//71UZMMKgPxHphL5e26E/rIinEvbRoj+grFJZmK6jP4UZq7GqfKQ/jypL8xVEpT+e1zPfHAmmP4olQKjmzaY/\",\"dtype\":\"float64\",\"shape\":[75]},\"y\":{\"__ndarray__\":\"GhExyth1ND/Sv8nbtpRIP2vylNV0PVE/aTum7souWD/At0SJ8fVgPw3Iuahxymc/MSNhhJWvcD/bTfBN02d3P2zb5nxnaoA/CD5h5MAGhz8NmeH1TyaQP+zrCsc9p5Y/LbKd76fGnz/bLW5ISEmmPww9YvTcQq8/JV2OstnstT8Er5Y7M8G+P0c+r3jqkcU/5h99k6ZBzj88bCIzFzjVP4enV8oyxN0//yH99nXg5D8qOpLLf0jtP5kqGJXUifQ/c9cS8kHP/D+/DpwzojQEQIEmwoanVwxA4lgXt9HgE0BSSZ2AJuIbQAMJih9jjiNA5q4l5INuK0AwTKYKRj0zQNv5fmq8/DpAaCJseHrtQkB/+zpwzoxKQM3MzMzMeFJAZmZmZmZqWEAAAAAAAFxeQM3MzMzMJmJAmpmZmZkfZUBmZmZmZhhoQDMzMzMzEWtAAAAAAAAKbkBmZmZmZoFwQM3MzMzM/XFAMzMzMzN6c0CamZmZmfZ0QAAAAAAAc3ZAZmZmZmbvd0DNzMzMzGt5QDMzMzMz6HpAmpmZmZlkfEAAAAAAAOF9QGZmZmZmXX9AZmZmZuZsgECamZmZGSuBQM3MzMxM6YFAAAAAAICngkAzMzMzs2WDQGZmZmbmI4RAmpmZmRnihEDNzMzMTKCFQAAAAACAXoZAMzMzM7Mch0BmZmZm5tqHQJqZmZkZmYhAzczMzExXiUAAAAAAgBWKQDMzMzOz04pAZmZmZuaRi0CamZmZGVCMQM3MzMxMDo1AAAAAAIDMjUAzMzMzs4qOQGZmZmbmSI9A\",\"dtype\":\"float64\",\"shape\":[75]}},\"selected\":{\"id\":\"d19f7bd7-2062-41e2-951f-ee7fdd483b32\",\"type\":\"Selection\"},\"selection_policy\":{\"id\":\"8a7cb6cf-7c89-4ae7-9b60-a3f53ae25d43\",\"type\":\"UnionRenderers\"}},\"id\":\"016f6fc8-2f0e-4330-bb4a-a04de666a5de\",\"type\":\"ColumnDataSource\"},{\"attributes\":{\"source\":{\"id\":\"94e54e05-644a-425a-b0f7-ee4169734b15\",\"type\":\"ColumnDataSource\"}},\"id\":\"2cadf47e-6f6a-48de-8739-c3c4b8c0b1eb\",\"type\":\"CDSView\"},{\"attributes\":{\"source\":{\"id\":\"016f6fc8-2f0e-4330-bb4a-a04de666a5de\",\"type\":\"ColumnDataSource\"}},\"id\":\"dc652457-e65e-45de-a367-9469ec82a833\",\"type\":\"CDSView\"},{\"attributes\":{\"label\":{\"value\":\"CRD\"},\"renderers\":[{\"id\":\"3be7b89d-fa89-4f6d-bc8c-84811171e7a8\",\"type\":\"GlyphRenderer\"},{\"id\":\"2dafaca1-cd46-4378-860d-f1d807f17f70\",\"type\":\"GlyphRenderer\"}]},\"id\":\"589be71d-1f18-4587-9195-8aaa8c71c331\",\"type\":\"LegendItem\"},{\"attributes\":{\"callback\":null,\"end\":0.0008046588407,\"start\":-0.0189753617707},\"id\":\"05f58551-0968-497d-a7b9-9aafe78f8d02\",\"type\":\"Range1d\"},{\"attributes\":{\"data_source\":{\"id\":\"ada8dbac-1642-4a95-b256-ea4e8a5e9fc4\",\"type\":\"ColumnDataSource\"},\"glyph\":{\"id\":\"07815b02-f8be-4ab2-9594-08df23d959be\",\"type\":\"Square\"},\"hover_glyph\":null,\"muted_glyph\":null,\"nonselection_glyph\":{\"id\":\"0202ccbd-b7dd-4153-bdee-f680e631de8e\",\"type\":\"Square\"},\"selection_glyph\":null,\"view\":{\"id\":\"a68c2713-81bb-43d0-b858-38c6ba42f6d7\",\"type\":\"CDSView\"}},\"id\":\"d355cc69-e092-4e92-b824-fddd071279ec\",\"type\":\"GlyphRenderer\"},{\"attributes\":{\"label\":{\"value\":\"WGT igg=1\"},\"renderers\":[{\"id\":\"1e6f27a4-fa06-4f29-b1d2-e27dc7bd9aff\",\"type\":\"GlyphRenderer\"},{\"id\":\"18e2f860-faf5-43f7-a356-df46af118197\",\"type\":\"GlyphRenderer\"}]},\"id\":\"36993a05-b2e7-406a-9294-028d8f834043\",\"type\":\"LegendItem\"},{\"attributes\":{},\"id\":\"595f59d3-b20a-4a8c-bd24-1409aa38934a\",\"type\":\"LinearScale\"},{\"attributes\":{\"callback\":null,\"data\":{\"x\":{\"__ndarray__\":\"1Y3DNLg18L6rH9deQFDwvppDEq7WbvC+1pZEKnSP8L4ql8OgdrLwvozdOxbl2vC+MNEy6AoK8b4e2CJDgELxvoRmuG6wh/G+KpU0QN7e8b62wY6O1U7yvlv/wpdU4fK+qshpWkSj877g6f1D76X0viIP1v+x1vW+F/JOvI0y9r5051VAOmXzvgi7j80/huW+LzEh7As74T6cQBC7VrcHP6hWDhYWKB4/gutMpzCmLz95fVknXSQ8P2IZpNdRz0I/ykr93jsDRD9i1oQpX95DP80h2JmD3kI/zA1q5Xy2QD9+fHmy+Bw6PwwlcOV6Miw/FWVcJNdHGb9JaJOafFFDv1rf3RV8vVS/dSCd0UWwYb9ZgH1PSE1sv789YALdtXW/EFxh0d8Rfr+kjrEDxRCDv85SrePKaYe/wQnqMx6ni79L+spvEC6Ov7V9DHmrfo6//q3ejXfajb95nAKW5baMv8rlRF2ZJ4u/vwFHscU2ib/xXKAjQO2GvwsGrYGaU4S/XRe/Z+tygb8e2B+YC6t8v5ahfzhHGna/c9DlkhGsbr8vam66oupgvww0D94Bsje/KEkXH0aPVj+favzbyOlpPwYQPW9DgXQ/hbGfK+xOfD9z9mQ77DCCPzOOvGxuXoY/0v4Wg9iwij8Ui/loWiqPPyrvNrG45pE/osD73U1NlD+6yWNeK8eWP+EZLTprTZk/eMwGunLNmz8djV9SXiaeP+NKDdIrHKA/HhjOomj/oD/K622lasqhPz6luuh6jqI/pgIcsulXoz+JvoikgC6kP0dYf0RGGaU/\",\"dtype\":\"float64\",\"shape\":[75]},\"y\":{\"__ndarray__\":\"GhExyth1ND/Sv8nbtpRIP2vylNV0PVE/aTum7souWD/At0SJ8fVgPw3Iuahxymc/MSNhhJWvcD/bTfBN02d3P2zb5nxnaoA/CD5h5MAGhz8NmeH1TyaQP+zrCsc9p5Y/LbKd76fGnz/bLW5ISEmmPww9YvTcQq8/JV2OstnstT8Er5Y7M8G+P0c+r3jqkcU/5h99k6ZBzj88bCIzFzjVP4enV8oyxN0//yH99nXg5D8qOpLLf0jtP5kqGJXUifQ/c9cS8kHP/D+/DpwzojQEQIEmwoanVwxA4lgXt9HgE0BSSZ2AJuIbQAMJih9jjiNA5q4l5INuK0AwTKYKRj0zQNv5fmq8/DpAaCJseHrtQkB/+zpwzoxKQM3MzMzMeFJAZmZmZmZqWEAAAAAAAFxeQM3MzMzMJmJAmpmZmZkfZUBmZmZmZhhoQDMzMzMzEWtAAAAAAAAKbkBmZmZmZoFwQM3MzMzM/XFAMzMzMzN6c0CamZmZmfZ0QAAAAAAAc3ZAZmZmZmbvd0DNzMzMzGt5QDMzMzMz6HpAmpmZmZlkfEAAAAAAAOF9QGZmZmZmXX9AZmZmZuZsgECamZmZGSuBQM3MzMxM6YFAAAAAAICngkAzMzMzs2WDQGZmZmbmI4RAmpmZmRnihEDNzMzMTKCFQAAAAACAXoZAMzMzM7Mch0BmZmZm5tqHQJqZmZkZmYhAzczMzExXiUAAAAAAgBWKQDMzMzOz04pAZmZmZuaRi0CamZmZGVCMQM3MzMxMDo1AAAAAAIDMjUAzMzMzs4qOQGZmZmbmSI9A\",\"dtype\":\"float64\",\"shape\":[75]}},\"selected\":{\"id\":\"7ace6b53-bc3e-447d-8527-8ad30cbaa490\",\"type\":\"Selection\"},\"selection_policy\":{\"id\":\"8713436a-3e27-412c-836d-01c46f4f8810\",\"type\":\"UnionRenderers\"}},\"id\":\"c6bcdaf8-74c7-478d-b85b-bfb600ff9ea5\",\"type\":\"ColumnDataSource\"},{\"attributes\":{\"label\":{\"value\":\"WGT igg=10\"},\"renderers\":[{\"id\":\"fdfdcdd9-1948-434b-bd6e-d77cb7bcb02b\",\"type\":\"GlyphRenderer\"},{\"id\":\"4c01fd30-81f9-4809-a7aa-58e9ce793185\",\"type\":\"GlyphRenderer\"}]},\"id\":\"5f5398ef-0f93-498c-a082-5ecc312536c9\",\"type\":\"LegendItem\"},{\"attributes\":{\"bottom_units\":\"screen\",\"fill_alpha\":{\"value\":0.5},\"fill_color\":{\"value\":\"lightgrey\"},\"left_units\":\"screen\",\"level\":\"overlay\",\"line_alpha\":{\"value\":1.0},\"line_color\":{\"value\":\"black\"},\"line_dash\":[4,4],\"line_width\":{\"value\":2},\"plot\":null,\"render_mode\":\"css\",\"right_units\":\"screen\",\"top_units\":\"screen\"},\"id\":\"aa81e5fd-5cd2-4f9b-99c6-82289b34855f\",\"type\":\"BoxAnnotation\"},{\"attributes\":{\"callback\":null,\"data\":{\"x\":{\"__ndarray__\":\"dXwMEf5s7r5lixuwhbDuvmQ64HndAe++RkbVK8dg7762z7Uvd87vvryu6BmEKPC+MOkOPnV48L7ywiOe/Nzwvjw2BsFUXvG+uDHF7usH8r4Pat28rOnyvgMyBoCwGfS+L/EIi6a29b5f3AUiWOv3vlc0MQrU5Pq+sEG42Tgx/r4v1Zojmh0Avy4srd26MP++XAeLtoi7976+XhEi09XNvv2qt06zzAM/8SDvyyodHz8vILUQUZwvP3eyNk3D+TQ/HtVrnfGiMz+ZkRRtm50tP/ymafLuJxs/gVxzzP3oFb94Qb/g9jY3v/F8aO++T0i/6AUpRodYVb9TF4QE2Sphv0kbEUyxw2m/fYTNgLtzcr9IFsK/B/V5v9PKpbby4IG/hxOJI778hr9d/8Kzg5iLv9KfDyzNAZC/TjlFmLn4kb9xc9nRACqTv1g4ZUj3bpO/k+AkBcoxk78Ol9Ogk56Sv7PYP7ItwZG/iCQsilShkL/hcHe6GYyOv9c5MeQLbIu/PJGz8sPvh7+MavX7HCSEvyFymL5HHIC/pdy2XRPTd7/DodY8F2Juv+SJ5I/QdFm/d9PomfVDRT8EoZ45ScVnPxpyGWPaUXU/sI/+Oh/1fj8My+rYK2WEP/9ZvvFfZ4k/FL/bHOR+jj+GP/PUS9WRPyLQ+SbWdJQ/3qm93rYclz9FS9wy+cmZPxURZXLhdZw/PFy3sIoRnz//71UZMMKgPxHphL5e26E/rIinEvbRoj+grFJZmK6jP4UZq7GqfKQ/jypL8xVEpT+e1zPfHAmmP4olQKjmzaY/\",\"dtype\":\"float64\",\"shape\":[75]},\"y\":{\"__ndarray__\":\"GhExyth1ND/Sv8nbtpRIP2vylNV0PVE/aTum7souWD/At0SJ8fVgPw3Iuahxymc/MSNhhJWvcD/bTfBN02d3P2zb5nxnaoA/CD5h5MAGhz8NmeH1TyaQP+zrCsc9p5Y/LbKd76fGnz/bLW5ISEmmPww9YvTcQq8/JV2OstnstT8Er5Y7M8G+P0c+r3jqkcU/5h99k6ZBzj88bCIzFzjVP4enV8oyxN0//yH99nXg5D8qOpLLf0jtP5kqGJXUifQ/c9cS8kHP/D+/DpwzojQEQIEmwoanVwxA4lgXt9HgE0BSSZ2AJuIbQAMJih9jjiNA5q4l5INuK0AwTKYKRj0zQNv5fmq8/DpAaCJseHrtQkB/+zpwzoxKQM3MzMzMeFJAZmZmZmZqWEAAAAAAAFxeQM3MzMzMJmJAmpmZmZkfZUBmZmZmZhhoQDMzMzMzEWtAAAAAAAAKbkBmZmZmZoFwQM3MzMzM/XFAMzMzMzN6c0CamZmZmfZ0QAAAAAAAc3ZAZmZmZmbvd0DNzMzMzGt5QDMzMzMz6HpAmpmZmZlkfEAAAAAAAOF9QGZmZmZmXX9AZmZmZuZsgECamZmZGSuBQM3MzMxM6YFAAAAAAICngkAzMzMzs2WDQGZmZmbmI4RAmpmZmRnihEDNzMzMTKCFQAAAAACAXoZAMzMzM7Mch0BmZmZm5tqHQJqZmZkZmYhAzczMzExXiUAAAAAAgBWKQDMzMzOz04pAZmZmZuaRi0CamZmZGVCMQM3MzMxMDo1AAAAAAIDMjUAzMzMzs4qOQGZmZmbmSI9A\",\"dtype\":\"float64\",\"shape\":[75]}},\"selected\":{\"id\":\"a6ec0529-1b4e-4f17-99f2-a3e27e12ef66\",\"type\":\"Selection\"},\"selection_policy\":{\"id\":\"874dd958-e706-40a8-8036-528d61e288d1\",\"type\":\"UnionRenderers\"}},\"id\":\"8ea9ed99-017b-4ff6-a4a8-0c8c16fd5195\",\"type\":\"ColumnDataSource\"},{\"attributes\":{\"items\":[{\"id\":\"f57237c9-7211-4623-a627-297125056389\",\"type\":\"LegendItem\"},{\"id\":\"f599e319-0117-45a7-bc53-8acd7ab13f08\",\"type\":\"LegendItem\"},{\"id\":\"fe12b8a1-880d-48c1-947f-e71f49968771\",\"type\":\"LegendItem\"}],\"label_text_font_size\":{\"value\":\"8pt\"},\"location\":\"top_center\",\"orientation\":\"horizontal\",\"plot\":{\"id\":\"aea023a0-3f1e-457e-9ff4-516eec50d714\",\"subtype\":\"Figure\",\"type\":\"Plot\"}},\"id\":\"a23ab0bf-3ff4-4875-9ee5-1a45951ac17c\",\"type\":\"Legend\"},{\"attributes\":{\"source\":{\"id\":\"c9ca3877-9a52-4da5-8f51-4bc516246154\",\"type\":\"ColumnDataSource\"}},\"id\":\"77046002-89b7-4bf2-a406-9f3cc3dd34ae\",\"type\":\"CDSView\"},{\"attributes\":{},\"id\":\"86b916c6-e00b-4312-bde4-58700b2054b0\",\"type\":\"WheelZoomTool\"},{\"attributes\":{\"line_alpha\":0.1,\"line_color\":\"#1f77b4\",\"line_width\":3,\"x\":{\"field\":\"x\"},\"y\":{\"field\":\"y\"}},\"id\":\"1d67f969-b00a-49f7-9deb-96e00b99232c\",\"type\":\"Line\"},{\"attributes\":{},\"id\":\"8ead5d48-26c8-4094-9e25-0810a836692f\",\"type\":\"LogScale\"},{\"attributes\":{\"fill_alpha\":{\"value\":0.1},\"fill_color\":{\"value\":\"#1f77b4\"},\"line_alpha\":{\"value\":0.1},\"line_color\":{\"value\":\"#1f77b4\"},\"x\":{\"field\":\"x\"},\"y\":{\"field\":\"y\"}},\"id\":\"273bb2d8-fc8b-4eef-a8eb-00ac51e67d5d\",\"type\":\"Triangle\"},{\"attributes\":{\"axis_label\":\"cooling rate [K/day]\",\"formatter\":{\"id\":\"e9ee0c20-22c5-4706-a45f-8464de341ea6\",\"type\":\"BasicTickFormatter\"},\"plot\":{\"id\":\"aea023a0-3f1e-457e-9ff4-516eec50d714\",\"subtype\":\"Figure\",\"type\":\"Plot\"},\"ticker\":{\"id\":\"e78da6be-232b-42b3-a75d-b4c90da1a0e4\",\"type\":\"BasicTicker\"}},\"id\":\"cddb85bc-4d3b-4ee0-b6dd-43367cfffbe0\",\"type\":\"LinearAxis\"},{\"attributes\":{\"source\":{\"id\":\"c6bcdaf8-74c7-478d-b85b-bfb600ff9ea5\",\"type\":\"ColumnDataSource\"}},\"id\":\"afa63ec1-9bcd-4cdc-8b4b-d8de6a09c80f\",\"type\":\"CDSView\"},{\"attributes\":{},\"id\":\"e78da6be-232b-42b3-a75d-b4c90da1a0e4\",\"type\":\"BasicTicker\"},{\"attributes\":{\"overlay\":{\"id\":\"aa81e5fd-5cd2-4f9b-99c6-82289b34855f\",\"type\":\"BoxAnnotation\"}},\"id\":\"fa632bca-9aaa-4e0b-b7eb-78279964a63e\",\"type\":\"BoxZoomTool\"},{\"attributes\":{\"num_minor_ticks\":10},\"id\":\"0c592134-8682-4910-9e25-a6b44565f1f4\",\"type\":\"LogTicker\"},{\"attributes\":{},\"id\":\"94f917b0-e439-4eb6-88f6-efb0a8d8014b\",\"type\":\"SaveTool\"},{\"attributes\":{},\"id\":\"74f19b70-2608-4dd4-bea4-f04088263441\",\"type\":\"ResetTool\"},{\"attributes\":{\"callback\":null,\"data\":{\"x\":{\"__ndarray__\":\"t6NIhLOu7b65DGhOfOrtvgvx5gVoLO6+KHlS9/d57r5YUMvg/tTuvih+Las6Q+++Es+VC73M776qPHfsTT7wvlz0Wk8xsfC+gcgosL9J8b5EPm3I3hbyvu23FegrLfO+7tEp9Cup9L5kZAKQc7H2vpgTJDf9Rvm+qqkYSXt6+77cv8P4Wi/7vvBoz+DTFPa+ZtsLifOv3r5LEvl9jyf4Pi/1gIvB3RU/wfez/Hi6KT9RDTd8pOM3P23GqB8AjD8/EIHz/tBnPz/zAxzr+oI7P9DWgXodfjQ/7+32y+aoIj8a4y27eIkcv3gMSU3GLz+/4BQOMPexUL9SsdXQi3Rdv8WD4AuwI2e/5mFH+ccPcb+dzZ03EoN4v0y1sBWWMoG/FCDaLDZkhr+sGQUASB+Lv4VllLA0xY+/hKc8LGf+kb9VgkkacTuTv0Av1wB3aZO/JIcO1SIPk7+oYyF8IGCSvzVrIa+kaJG/NSFSeHUzkL9U7oLkRIuNvwOiFjn6Toq/ZwOpRyy/hr98X8SNR+iCv3iC1qLSv32/HmLJfhlxdb/DNa9V//ppv7B2Z3jys1G/Ur8/KF4TUT/VhUSH7DZqPzwUc7uYIHY/m2bk6WFTfz8HbwBgMlqEP8W+9UVoIok/aWoWvncBjj9xzJuLC3yRP5M/7/i8A5Q/MfTytROXlj/OXMaeVDOZP2F2mPTM0ps/w/B5FJpjnj8v2GtMGGWgP6PtVp5ZdaE/XQrQNRpgoj9rvaIFrzCjP1qU+C1R9aM/AgGYVja4pD9DAOf6e3+lP7oexE+VT6Y/\",\"dtype\":\"float64\",\"shape\":[75]},\"y\":{\"__ndarray__\":\"GhExyth1ND/Sv8nbtpRIP2vylNV0PVE/aTum7souWD/At0SJ8fVgPw3Iuahxymc/MSNhhJWvcD/bTfBN02d3P2zb5nxnaoA/CD5h5MAGhz8NmeH1TyaQP+zrCsc9p5Y/LbKd76fGnz/bLW5ISEmmPww9YvTcQq8/JV2OstnstT8Er5Y7M8G+P0c+r3jqkcU/5h99k6ZBzj88bCIzFzjVP4enV8oyxN0//yH99nXg5D8qOpLLf0jtP5kqGJXUifQ/c9cS8kHP/D+/DpwzojQEQIEmwoanVwxA4lgXt9HgE0BSSZ2AJuIbQAMJih9jjiNA5q4l5INuK0AwTKYKRj0zQNv5fmq8/DpAaCJseHrtQkB/+zpwzoxKQM3MzMzMeFJAZmZmZmZqWEAAAAAAAFxeQM3MzMzMJmJAmpmZmZkfZUBmZmZmZhhoQDMzMzMzEWtAAAAAAAAKbkBmZmZmZoFwQM3MzMzM/XFAMzMzMzN6c0CamZmZmfZ0QAAAAAAAc3ZAZmZmZmbvd0DNzMzMzGt5QDMzMzMz6HpAmpmZmZlkfEAAAAAAAOF9QGZmZmZmXX9AZmZmZuZsgECamZmZGSuBQM3MzMxM6YFAAAAAAICngkAzMzMzs2WDQGZmZmbmI4RAmpmZmRnihEDNzMzMTKCFQAAAAACAXoZAMzMzM7Mch0BmZmZm5tqHQJqZmZkZmYhAzczMzExXiUAAAAAAgBWKQDMzMzOz04pAZmZmZuaRi0CamZmZGVCMQM3MzMxMDo1AAAAAAIDMjUAzMzMzs4qOQGZmZmbmSI9A\",\"dtype\":\"float64\",\"shape\":[75]}},\"selected\":{\"id\":\"5ba42929-117e-4d96-9e83-be3dcd960512\",\"type\":\"Selection\"},\"selection_policy\":{\"id\":\"2ef9ef1e-4ade-41e4-b2e2-aa634d91182c\",\"type\":\"UnionRenderers\"}},\"id\":\"c9ca3877-9a52-4da5-8f51-4bc516246154\",\"type\":\"ColumnDataSource\"},{\"attributes\":{},\"id\":\"3adc41b9-b1cb-478c-82a5-f6246302dc7b\",\"type\":\"HelpTool\"},{\"attributes\":{\"data_source\":{\"id\":\"9d959294-0da5-4b93-a63f-bae663eb98f0\",\"type\":\"ColumnDataSource\"},\"glyph\":{\"id\":\"c0b77426-0ec0-4f15-9518-750575204747\",\"type\":\"Circle\"},\"hover_glyph\":null,\"muted_glyph\":null,\"nonselection_glyph\":{\"id\":\"054102ec-b484-4922-b7f5-9f803d9cfdc1\",\"type\":\"Circle\"},\"selection_glyph\":null,\"view\":{\"id\":\"f16e9d0f-91b9-4e4b-83cc-b76b567afcb3\",\"type\":\"CDSView\"}},\"id\":\"3be7b89d-fa89-4f6d-bc8c-84811171e7a8\",\"type\":\"GlyphRenderer\"},{\"attributes\":{\"fill_alpha\":{\"value\":0.7},\"fill_color\":{\"value\":\"#4daf4a\"},\"line_alpha\":{\"value\":0.7},\"line_color\":{\"value\":\"#4daf4a\"},\"x\":{\"field\":\"x\"},\"y\":{\"field\":\"y\"}},\"id\":\"c0b77426-0ec0-4f15-9518-750575204747\",\"type\":\"Circle\"},{\"attributes\":{\"data_source\":{\"id\":\"c9ca3877-9a52-4da5-8f51-4bc516246154\",\"type\":\"ColumnDataSource\"},\"glyph\":{\"id\":\"87aa6ff2-1492-45e2-ba89-1604f6d9c554\",\"type\":\"Line\"},\"hover_glyph\":null,\"muted_glyph\":null,\"nonselection_glyph\":{\"id\":\"1d67f969-b00a-49f7-9deb-96e00b99232c\",\"type\":\"Line\"},\"selection_glyph\":null,\"view\":{\"id\":\"77046002-89b7-4bf2-a406-9f3cc3dd34ae\",\"type\":\"CDSView\"}},\"id\":\"006cf9d5-eccb-4b99-af42-6fe2049836d2\",\"type\":\"GlyphRenderer\"},{\"attributes\":{\"callback\":null,\"data\":{\"x\":{\"__ndarray__\":\"1Y3DNLg18L6rH9deQFDwvppDEq7WbvC+1pZEKnSP8L4ql8OgdrLwvozdOxbl2vC+MNEy6AoK8b4e2CJDgELxvoRmuG6wh/G+KpU0QN7e8b62wY6O1U7yvlv/wpdU4fK+qshpWkSj877g6f1D76X0viIP1v+x1vW+F/JOvI0y9r5051VAOmXzvgi7j80/huW+LzEh7As74T6cQBC7VrcHP6hWDhYWKB4/gutMpzCmLz95fVknXSQ8P2IZpNdRz0I/ykr93jsDRD9i1oQpX95DP80h2JmD3kI/zA1q5Xy2QD9+fHmy+Bw6PwwlcOV6Miw/FWVcJNdHGb9JaJOafFFDv1rf3RV8vVS/dSCd0UWwYb9ZgH1PSE1sv789YALdtXW/EFxh0d8Rfr+kjrEDxRCDv85SrePKaYe/wQnqMx6ni79L+spvEC6Ov7V9DHmrfo6//q3ejXfajb95nAKW5baMv8rlRF2ZJ4u/vwFHscU2ib/xXKAjQO2GvwsGrYGaU4S/XRe/Z+tygb8e2B+YC6t8v5ahfzhHGna/c9DlkhGsbr8vam66oupgvww0D94Bsje/KEkXH0aPVj+favzbyOlpPwYQPW9DgXQ/hbGfK+xOfD9z9mQ77DCCPzOOvGxuXoY/0v4Wg9iwij8Ui/loWiqPPyrvNrG45pE/osD73U1NlD+6yWNeK8eWP+EZLTprTZk/eMwGunLNmz8djV9SXiaeP+NKDdIrHKA/HhjOomj/oD/K622lasqhPz6luuh6jqI/pgIcsulXoz+JvoikgC6kP0dYf0RGGaU/\",\"dtype\":\"float64\",\"shape\":[75]},\"y\":{\"__ndarray__\":\"GhExyth1ND/Sv8nbtpRIP2vylNV0PVE/aTum7souWD/At0SJ8fVgPw3Iuahxymc/MSNhhJWvcD/bTfBN02d3P2zb5nxnaoA/CD5h5MAGhz8NmeH1TyaQP+zrCsc9p5Y/LbKd76fGnz/bLW5ISEmmPww9YvTcQq8/JV2OstnstT8Er5Y7M8G+P0c+r3jqkcU/5h99k6ZBzj88bCIzFzjVP4enV8oyxN0//yH99nXg5D8qOpLLf0jtP5kqGJXUifQ/c9cS8kHP/D+/DpwzojQEQIEmwoanVwxA4lgXt9HgE0BSSZ2AJuIbQAMJih9jjiNA5q4l5INuK0AwTKYKRj0zQNv5fmq8/DpAaCJseHrtQkB/+zpwzoxKQM3MzMzMeFJAZmZmZmZqWEAAAAAAAFxeQM3MzMzMJmJAmpmZmZkfZUBmZmZmZhhoQDMzMzMzEWtAAAAAAAAKbkBmZmZmZoFwQM3MzMzM/XFAMzMzMzN6c0CamZmZmfZ0QAAAAAAAc3ZAZmZmZmbvd0DNzMzMzGt5QDMzMzMz6HpAmpmZmZlkfEAAAAAAAOF9QGZmZmZmXX9AZmZmZuZsgECamZmZGSuBQM3MzMxM6YFAAAAAAICngkAzMzMzs2WDQGZmZmbmI4RAmpmZmRnihEDNzMzMTKCFQAAAAACAXoZAMzMzM7Mch0BmZmZm5tqHQJqZmZkZmYhAzczMzExXiUAAAAAAgBWKQDMzMzOz04pAZmZmZuaRi0CamZmZGVCMQM3MzMxMDo1AAAAAAIDMjUAzMzMzs4qOQGZmZmbmSI9A\",\"dtype\":\"float64\",\"shape\":[75]}},\"selected\":{\"id\":\"ce40e5e4-95a2-4456-ac79-42c1c85b667c\",\"type\":\"Selection\"},\"selection_policy\":{\"id\":\"6ab851e4-b3af-4a47-9b2d-57f6f128c1ff\",\"type\":\"UnionRenderers\"}},\"id\":\"9d959294-0da5-4b93-a63f-bae663eb98f0\",\"type\":\"ColumnDataSource\"},{\"attributes\":{\"fill_alpha\":{\"value\":0.7},\"fill_color\":{\"value\":\"#4daf4a\"},\"line_alpha\":{\"value\":0.7},\"line_color\":{\"value\":\"#4daf4a\"},\"x\":{\"field\":\"x\"},\"y\":{\"field\":\"y\"}},\"id\":\"c74989f4-c6bf-49f6-b3be-b6a767307fc7\",\"type\":\"Circle\"},{\"attributes\":{},\"id\":\"fdfa2196-6855-43ca-bc98-da9e49af7f1d\",\"type\":\"Selection\"},{\"attributes\":{\"fill_alpha\":{\"value\":0.7},\"fill_color\":{\"value\":\"#984ea3\"},\"line_alpha\":{\"value\":0.7},\"line_color\":{\"value\":\"#984ea3\"},\"x\":{\"field\":\"x\"},\"y\":{\"field\":\"y\"}},\"id\":\"07815b02-f8be-4ab2-9594-08df23d959be\",\"type\":\"Square\"},{\"attributes\":{\"callback\":null,\"data\":{\"x\":{\"__ndarray__\":\"1Y3DNLg18L6rH9deQFDwvppDEq7WbvC+1pZEKnSP8L4ql8OgdrLwvozdOxbl2vC+MNEy6AoK8b4e2CJDgELxvoRmuG6wh/G+KpU0QN7e8b62wY6O1U7yvlv/wpdU4fK+qshpWkSj877g6f1D76X0viIP1v+x1vW+F/JOvI0y9r5051VAOmXzvgi7j80/huW+LzEh7As74T6cQBC7VrcHP6hWDhYWKB4/gutMpzCmLz95fVknXSQ8P2IZpNdRz0I/ykr93jsDRD9i1oQpX95DP80h2JmD3kI/zA1q5Xy2QD9+fHmy+Bw6PwwlcOV6Miw/FWVcJNdHGb9JaJOafFFDv1rf3RV8vVS/dSCd0UWwYb9ZgH1PSE1sv789YALdtXW/EFxh0d8Rfr+kjrEDxRCDv85SrePKaYe/wQnqMx6ni79L+spvEC6Ov7V9DHmrfo6//q3ejXfajb95nAKW5baMv8rlRF2ZJ4u/vwFHscU2ib/xXKAjQO2GvwsGrYGaU4S/XRe/Z+tygb8e2B+YC6t8v5ahfzhHGna/c9DlkhGsbr8vam66oupgvww0D94Bsje/KEkXH0aPVj+favzbyOlpPwYQPW9DgXQ/hbGfK+xOfD9z9mQ77DCCPzOOvGxuXoY/0v4Wg9iwij8Ui/loWiqPPyrvNrG45pE/osD73U1NlD+6yWNeK8eWP+EZLTprTZk/eMwGunLNmz8djV9SXiaeP+NKDdIrHKA/HhjOomj/oD/K622lasqhPz6luuh6jqI/pgIcsulXoz+JvoikgC6kP0dYf0RGGaU/\",\"dtype\":\"float64\",\"shape\":[75]},\"y\":{\"__ndarray__\":\"GhExyth1ND/Sv8nbtpRIP2vylNV0PVE/aTum7souWD/At0SJ8fVgPw3Iuahxymc/MSNhhJWvcD/bTfBN02d3P2zb5nxnaoA/CD5h5MAGhz8NmeH1TyaQP+zrCsc9p5Y/LbKd76fGnz/bLW5ISEmmPww9YvTcQq8/JV2OstnstT8Er5Y7M8G+P0c+r3jqkcU/5h99k6ZBzj88bCIzFzjVP4enV8oyxN0//yH99nXg5D8qOpLLf0jtP5kqGJXUifQ/c9cS8kHP/D+/DpwzojQEQIEmwoanVwxA4lgXt9HgE0BSSZ2AJuIbQAMJih9jjiNA5q4l5INuK0AwTKYKRj0zQNv5fmq8/DpAaCJseHrtQkB/+zpwzoxKQM3MzMzMeFJAZmZmZmZqWEAAAAAAAFxeQM3MzMzMJmJAmpmZmZkfZUBmZmZmZhhoQDMzMzMzEWtAAAAAAAAKbkBmZmZmZoFwQM3MzMzM/XFAMzMzMzN6c0CamZmZmfZ0QAAAAAAAc3ZAZmZmZmbvd0DNzMzMzGt5QDMzMzMz6HpAmpmZmZlkfEAAAAAAAOF9QGZmZmZmXX9AZmZmZuZsgECamZmZGSuBQM3MzMxM6YFAAAAAAICngkAzMzMzs2WDQGZmZmbmI4RAmpmZmRnihEDNzMzMTKCFQAAAAACAXoZAMzMzM7Mch0BmZmZm5tqHQJqZmZkZmYhAzczMzExXiUAAAAAAgBWKQDMzMzOz04pAZmZmZuaRi0CamZmZGVCMQM3MzMxMDo1AAAAAAIDMjUAzMzMzs4qOQGZmZmbmSI9A\",\"dtype\":\"float64\",\"shape\":[75]}},\"selected\":{\"id\":\"cdc7bb7e-29d8-465c-86b1-5d4af8b7899c\",\"type\":\"Selection\"},\"selection_policy\":{\"id\":\"5a9e8a94-e0f1-440b-aa28-432671ee0e78\",\"type\":\"UnionRenderers\"}},\"id\":\"4080e0d0-29f4-4aeb-b4a9-a16a36660095\",\"type\":\"ColumnDataSource\"},{\"attributes\":{\"fill_alpha\":{\"value\":0.1},\"fill_color\":{\"value\":\"#1f77b4\"},\"line_alpha\":{\"value\":0.1},\"line_color\":{\"value\":\"#1f77b4\"},\"x\":{\"field\":\"x\"},\"y\":{\"field\":\"y\"}},\"id\":\"0202ccbd-b7dd-4153-bdee-f680e631de8e\",\"type\":\"Square\"},{\"attributes\":{\"fill_alpha\":{\"value\":0.7},\"fill_color\":{\"value\":\"#377eb8\"},\"line_alpha\":{\"value\":0.7},\"line_color\":{\"value\":\"#377eb8\"},\"x\":{\"field\":\"x\"},\"y\":{\"field\":\"y\"}},\"id\":\"7310c05a-042d-48b6-8116-025c6d7abb47\",\"type\":\"Triangle\"},{\"attributes\":{\"callback\":null,\"data\":{\"x\":{\"__ndarray__\":\"dXwMEf5s7r5lixuwhbDuvmQ64HndAe++RkbVK8dg7762z7Uvd87vvryu6BmEKPC+MOkOPnV48L7ywiOe/Nzwvjw2BsFUXvG+uDHF7usH8r4Pat28rOnyvgMyBoCwGfS+L/EIi6a29b5f3AUiWOv3vlc0MQrU5Pq+sEG42Tgx/r4v1Zojmh0Avy4srd26MP++XAeLtoi7976+XhEi09XNvv2qt06zzAM/8SDvyyodHz8vILUQUZwvP3eyNk3D+TQ/HtVrnfGiMz+ZkRRtm50tP/ymafLuJxs/gVxzzP3oFb94Qb/g9jY3v/F8aO++T0i/6AUpRodYVb9TF4QE2Sphv0kbEUyxw2m/fYTNgLtzcr9IFsK/B/V5v9PKpbby4IG/hxOJI778hr9d/8Kzg5iLv9KfDyzNAZC/TjlFmLn4kb9xc9nRACqTv1g4ZUj3bpO/k+AkBcoxk78Ol9Ogk56Sv7PYP7ItwZG/iCQsilShkL/hcHe6GYyOv9c5MeQLbIu/PJGz8sPvh7+MavX7HCSEvyFymL5HHIC/pdy2XRPTd7/DodY8F2Juv+SJ5I/QdFm/d9PomfVDRT8EoZ45ScVnPxpyGWPaUXU/sI/+Oh/1fj8My+rYK2WEP/9ZvvFfZ4k/FL/bHOR+jj+GP/PUS9WRPyLQ+SbWdJQ/3qm93rYclz9FS9wy+cmZPxURZXLhdZw/PFy3sIoRnz//71UZMMKgPxHphL5e26E/rIinEvbRoj+grFJZmK6jP4UZq7GqfKQ/jypL8xVEpT+e1zPfHAmmP4olQKjmzaY/\",\"dtype\":\"float64\",\"shape\":[75]},\"y\":{\"__ndarray__\":\"GhExyth1ND/Sv8nbtpRIP2vylNV0PVE/aTum7souWD/At0SJ8fVgPw3Iuahxymc/MSNhhJWvcD/bTfBN02d3P2zb5nxnaoA/CD5h5MAGhz8NmeH1TyaQP+zrCsc9p5Y/LbKd76fGnz/bLW5ISEmmPww9YvTcQq8/JV2OstnstT8Er5Y7M8G+P0c+r3jqkcU/5h99k6ZBzj88bCIzFzjVP4enV8oyxN0//yH99nXg5D8qOpLLf0jtP5kqGJXUifQ/c9cS8kHP/D+/DpwzojQEQIEmwoanVwxA4lgXt9HgE0BSSZ2AJuIbQAMJih9jjiNA5q4l5INuK0AwTKYKRj0zQNv5fmq8/DpAaCJseHrtQkB/+zpwzoxKQM3MzMzMeFJAZmZmZmZqWEAAAAAAAFxeQM3MzMzMJmJAmpmZmZkfZUBmZmZmZhhoQDMzMzMzEWtAAAAAAAAKbkBmZmZmZoFwQM3MzMzM/XFAMzMzMzN6c0CamZmZmfZ0QAAAAAAAc3ZAZmZmZmbvd0DNzMzMzGt5QDMzMzMz6HpAmpmZmZlkfEAAAAAAAOF9QGZmZmZmXX9AZmZmZuZsgECamZmZGSuBQM3MzMxM6YFAAAAAAICngkAzMzMzs2WDQGZmZmbmI4RAmpmZmRnihEDNzMzMTKCFQAAAAACAXoZAMzMzM7Mch0BmZmZm5tqHQJqZmZkZmYhAzczMzExXiUAAAAAAgBWKQDMzMzOz04pAZmZmZuaRi0CamZmZGVCMQM3MzMxMDo1AAAAAAIDMjUAzMzMzs4qOQGZmZmbmSI9A\",\"dtype\":\"float64\",\"shape\":[75]}},\"selected\":{\"id\":\"a4af2e17-d57e-4e1a-8a64-4130e84265d6\",\"type\":\"Selection\"},\"selection_policy\":{\"id\":\"cb88d5f9-355b-4e76-9f3d-ef964db3dc63\",\"type\":\"UnionRenderers\"}},\"id\":\"c84f1562-4a29-4a66-8a8c-aab8ac146288\",\"type\":\"ColumnDataSource\"},{\"attributes\":{\"items\":[{\"id\":\"589be71d-1f18-4587-9195-8aaa8c71c331\",\"type\":\"LegendItem\"},{\"id\":\"36993a05-b2e7-406a-9294-028d8f834043\",\"type\":\"LegendItem\"},{\"id\":\"5f5398ef-0f93-498c-a082-5ecc312536c9\",\"type\":\"LegendItem\"}],\"label_text_font_size\":{\"value\":\"8pt\"},\"location\":\"top_center\",\"orientation\":\"horizontal\",\"plot\":{\"id\":\"c12ab194-0059-4481-af9c-4ac89ca0518c\",\"subtype\":\"Figure\",\"type\":\"Plot\"}},\"id\":\"257357ae-320a-4047-b936-9a21d15cc723\",\"type\":\"Legend\"},{\"attributes\":{\"data_source\":{\"id\":\"c84f1562-4a29-4a66-8a8c-aab8ac146288\",\"type\":\"ColumnDataSource\"},\"glyph\":{\"id\":\"cef85b89-a913-4462-9e0c-8178000c45d3\",\"type\":\"Line\"},\"hover_glyph\":null,\"muted_glyph\":null,\"nonselection_glyph\":{\"id\":\"11d286c1-e9d2-4f84-be18-cdb3704baeda\",\"type\":\"Line\"},\"selection_glyph\":null,\"view\":{\"id\":\"64200733-5018-4156-a9dc-63129a6dd781\",\"type\":\"CDSView\"}},\"id\":\"c3c14b6f-de02-49e4-9739-2a49834e99a3\",\"type\":\"GlyphRenderer\"},{\"attributes\":{\"line_alpha\":0.1,\"line_color\":\"#1f77b4\",\"line_width\":2,\"x\":{\"field\":\"x\"},\"y\":{\"field\":\"y\"}},\"id\":\"11d286c1-e9d2-4f84-be18-cdb3704baeda\",\"type\":\"Line\"},{\"attributes\":{\"children\":[{\"id\":\"cc01da59-bf5c-4a02-816f-8513c3fb6aa4\",\"type\":\"Row\"}]},\"id\":\"1fee799f-3829-4b3c-b8ba-667484d56831\",\"type\":\"Column\"},{\"attributes\":{\"plot\":{\"id\":\"aea023a0-3f1e-457e-9ff4-516eec50d714\",\"subtype\":\"Figure\",\"type\":\"Plot\"},\"ticker\":{\"id\":\"e78da6be-232b-42b3-a75d-b4c90da1a0e4\",\"type\":\"BasicTicker\"}},\"id\":\"d0135fb6-145c-4986-9d06-c23501570427\",\"type\":\"Grid\"},{\"attributes\":{\"line_alpha\":0.3,\"line_color\":\"#377eb8\",\"line_width\":2,\"x\":{\"field\":\"x\"},\"y\":{\"field\":\"y\"}},\"id\":\"cef85b89-a913-4462-9e0c-8178000c45d3\",\"type\":\"Line\"},{\"attributes\":{\"source\":{\"id\":\"8ea9ed99-017b-4ff6-a4a8-0c8c16fd5195\",\"type\":\"ColumnDataSource\"}},\"id\":\"ae1df5ea-cf3a-4270-b58b-60a3c51d7450\",\"type\":\"CDSView\"},{\"attributes\":{\"data_source\":{\"id\":\"8ea9ed99-017b-4ff6-a4a8-0c8c16fd5195\",\"type\":\"ColumnDataSource\"},\"glyph\":{\"id\":\"7310c05a-042d-48b6-8116-025c6d7abb47\",\"type\":\"Triangle\"},\"hover_glyph\":null,\"muted_glyph\":null,\"nonselection_glyph\":{\"id\":\"273bb2d8-fc8b-4eef-a8eb-00ac51e67d5d\",\"type\":\"Triangle\"},\"selection_glyph\":null,\"view\":{\"id\":\"ae1df5ea-cf3a-4270-b58b-60a3c51d7450\",\"type\":\"CDSView\"}},\"id\":\"849c82c5-eda8-47fa-97b3-483d74384e07\",\"type\":\"GlyphRenderer\"},{\"attributes\":{\"callback\":null,\"end\":0.04517482639,\"start\":-0.01961316539},\"id\":\"a7b33921-7a7e-45bc-b32a-97b3c43dba9d\",\"type\":\"Range1d\"},{\"attributes\":{\"source\":{\"id\":\"c84f1562-4a29-4a66-8a8c-aab8ac146288\",\"type\":\"ColumnDataSource\"}},\"id\":\"64200733-5018-4156-a9dc-63129a6dd781\",\"type\":\"CDSView\"},{\"attributes\":{\"label\":{\"value\":\"WGT igg=10\"},\"renderers\":[{\"id\":\"849c82c5-eda8-47fa-97b3-483d74384e07\",\"type\":\"GlyphRenderer\"},{\"id\":\"c3c14b6f-de02-49e4-9739-2a49834e99a3\",\"type\":\"GlyphRenderer\"}]},\"id\":\"fe12b8a1-880d-48c1-947f-e71f49968771\",\"type\":\"LegendItem\"},{\"attributes\":{},\"id\":\"cdc7bb7e-29d8-465c-86b1-5d4af8b7899c\",\"type\":\"Selection\"},{\"attributes\":{\"label\":{\"value\":\"WGT igg=1\"},\"renderers\":[{\"id\":\"d355cc69-e092-4e92-b824-fddd071279ec\",\"type\":\"GlyphRenderer\"},{\"id\":\"006cf9d5-eccb-4b99-af42-6fe2049836d2\",\"type\":\"GlyphRenderer\"}]},\"id\":\"f599e319-0117-45a7-bc53-8acd7ab13f08\",\"type\":\"LegendItem\"},{\"attributes\":{},\"id\":\"6ab851e4-b3af-4a47-9b2d-57f6f128c1ff\",\"type\":\"UnionRenderers\"},{\"attributes\":{},\"id\":\"19764016-b5b9-46c7-8493-7557c9914cb4\",\"type\":\"BasicTicker\"},{\"attributes\":{\"label\":{\"value\":\"CRD\"},\"renderers\":[{\"id\":\"0f30611d-cda5-41b0-ac1a-9986edafac36\",\"type\":\"GlyphRenderer\"},{\"id\":\"584d105d-22ae-493c-ae49-b4e20dfc6b10\",\"type\":\"GlyphRenderer\"}]},\"id\":\"f57237c9-7211-4623-a627-297125056389\",\"type\":\"LegendItem\"},{\"attributes\":{\"children\":[{\"id\":\"c12ab194-0059-4481-af9c-4ac89ca0518c\",\"subtype\":\"Figure\",\"type\":\"Plot\"},{\"id\":\"aea023a0-3f1e-457e-9ff4-516eec50d714\",\"subtype\":\"Figure\",\"type\":\"Plot\"}]},\"id\":\"cc01da59-bf5c-4a02-816f-8513c3fb6aa4\",\"type\":\"Row\"},{\"attributes\":{},\"id\":\"bf25adda-71ad-4f5d-9087-77265ea78415\",\"type\":\"LinearScale\"},{\"attributes\":{\"plot\":null,\"text\":\"\"},\"id\":\"150e6d65-2eb8-41be-b218-d52424eb825a\",\"type\":\"Title\"},{\"attributes\":{},\"id\":\"64278a23-f86d-412a-be48-602e84feabfa\",\"type\":\"BasicTickFormatter\"},{\"attributes\":{\"ticker\":null},\"id\":\"c6447ee2-3295-4b2b-ab76-7f1fcade12b9\",\"type\":\"LogTickFormatter\"},{\"attributes\":{},\"id\":\"2030e3b4-b594-4fca-9ed4-4d6f22eece08\",\"type\":\"WheelZoomTool\"},{\"attributes\":{},\"id\":\"a6ec0529-1b4e-4f17-99f2-a3e27e12ef66\",\"type\":\"Selection\"},{\"attributes\":{},\"id\":\"ce40e5e4-95a2-4456-ac79-42c1c85b667c\",\"type\":\"Selection\"},{\"attributes\":{},\"id\":\"83de2a55-f8cc-4842-a051-c4d0f4a65db0\",\"type\":\"BasicTickFormatter\"},{\"attributes\":{},\"id\":\"e9ee0c20-22c5-4706-a45f-8464de341ea6\",\"type\":\"BasicTickFormatter\"},{\"attributes\":{},\"id\":\"5a9e8a94-e0f1-440b-aa28-432671ee0e78\",\"type\":\"UnionRenderers\"},{\"attributes\":{},\"id\":\"0daffbf9-463f-4018-ac1c-ef574c2102b0\",\"type\":\"UnionRenderers\"},{\"attributes\":{\"plot\":null,\"text\":\"\"},\"id\":\"8057ef6d-f52b-4b40-ba08-329a87ca772c\",\"type\":\"Title\"},{\"attributes\":{\"dimension\":1,\"plot\":{\"id\":\"c12ab194-0059-4481-af9c-4ac89ca0518c\",\"subtype\":\"Figure\",\"type\":\"Plot\"},\"ticker\":{\"id\":\"19764016-b5b9-46c7-8493-7557c9914cb4\",\"type\":\"BasicTicker\"}},\"id\":\"c7f845da-8a54-4136-914f-f73ee25693b2\",\"type\":\"Grid\"},{\"attributes\":{},\"id\":\"7ace6b53-bc3e-447d-8527-8ad30cbaa490\",\"type\":\"Selection\"},{\"attributes\":{},\"id\":\"874dd958-e706-40a8-8036-528d61e288d1\",\"type\":\"UnionRenderers\"},{\"attributes\":{},\"id\":\"c750167d-84c0-455c-98bf-2ee08d5fa759\",\"type\":\"Selection\"},{\"attributes\":{\"active_drag\":\"auto\",\"active_inspect\":\"auto\",\"active_scroll\":\"auto\",\"active_tap\":\"auto\",\"tools\":[{\"id\":\"7dc68d8f-774a-449a-bf2c-0e4149b478e2\",\"type\":\"PanTool\"},{\"id\":\"2030e3b4-b594-4fca-9ed4-4d6f22eece08\",\"type\":\"WheelZoomTool\"},{\"id\":\"eca974f7-c3fa-46eb-92ea-797956f65536\",\"type\":\"BoxZoomTool\"},{\"id\":\"f04da6ba-91cf-43ba-8359-6bbfba29d104\",\"type\":\"SaveTool\"},{\"id\":\"1e7fb695-676a-4f58-b711-9d13961bd6e7\",\"type\":\"ResetTool\"},{\"id\":\"49ca8548-0aa3-410c-8b7c-ecb2fbc2a6ef\",\"type\":\"HelpTool\"}]},\"id\":\"4a889ab2-0d89-4a38-8f72-e5bb7ff09e1a\",\"type\":\"Toolbar\"},{\"attributes\":{},\"id\":\"5ba42929-117e-4d96-9e83-be3dcd960512\",\"type\":\"Selection\"},{\"attributes\":{},\"id\":\"8713436a-3e27-412c-836d-01c46f4f8810\",\"type\":\"UnionRenderers\"},{\"attributes\":{\"tools\":[{\"id\":\"7dc68d8f-774a-449a-bf2c-0e4149b478e2\",\"type\":\"PanTool\"},{\"id\":\"2030e3b4-b594-4fca-9ed4-4d6f22eece08\",\"type\":\"WheelZoomTool\"},{\"id\":\"eca974f7-c3fa-46eb-92ea-797956f65536\",\"type\":\"BoxZoomTool\"},{\"id\":\"f04da6ba-91cf-43ba-8359-6bbfba29d104\",\"type\":\"SaveTool\"},{\"id\":\"1e7fb695-676a-4f58-b711-9d13961bd6e7\",\"type\":\"ResetTool\"},{\"id\":\"49ca8548-0aa3-410c-8b7c-ecb2fbc2a6ef\",\"type\":\"HelpTool\"},{\"id\":\"746d83dc-20fe-43af-a424-61d4dfd44f11\",\"type\":\"PanTool\"},{\"id\":\"86b916c6-e00b-4312-bde4-58700b2054b0\",\"type\":\"WheelZoomTool\"},{\"id\":\"fa632bca-9aaa-4e0b-b7eb-78279964a63e\",\"type\":\"BoxZoomTool\"},{\"id\":\"94f917b0-e439-4eb6-88f6-efb0a8d8014b\",\"type\":\"SaveTool\"},{\"id\":\"74f19b70-2608-4dd4-bea4-f04088263441\",\"type\":\"ResetTool\"},{\"id\":\"3adc41b9-b1cb-478c-82a5-f6246302dc7b\",\"type\":\"HelpTool\"}]},\"id\":\"33cf9837-2229-4067-ad80-2b4abc118f5b\",\"type\":\"ProxyToolbar\"},{\"attributes\":{},\"id\":\"2ef9ef1e-4ade-41e4-b2e2-aa634d91182c\",\"type\":\"UnionRenderers\"},{\"attributes\":{\"plot\":{\"id\":\"c12ab194-0059-4481-af9c-4ac89ca0518c\",\"subtype\":\"Figure\",\"type\":\"Plot\"},\"ticker\":{\"id\":\"b43f048d-1955-45f5-bc86-c07ebb4a5353\",\"type\":\"BasicTicker\"}},\"id\":\"b3aed073-d4c7-4a5a-8136-0f982e191add\",\"type\":\"Grid\"},{\"attributes\":{},\"id\":\"a4af2e17-d57e-4e1a-8a64-4130e84265d6\",\"type\":\"Selection\"},{\"attributes\":{\"toolbar\":{\"id\":\"33cf9837-2229-4067-ad80-2b4abc118f5b\",\"type\":\"ProxyToolbar\"},\"toolbar_location\":\"above\"},\"id\":\"f51b2609-d09c-42a2-800e-a46d685fbf64\",\"type\":\"ToolbarBox\"},{\"attributes\":{\"axis_label\":\"pressure [mb]\",\"formatter\":{\"id\":\"64278a23-f86d-412a-be48-602e84feabfa\",\"type\":\"BasicTickFormatter\"},\"plot\":{\"id\":\"c12ab194-0059-4481-af9c-4ac89ca0518c\",\"subtype\":\"Figure\",\"type\":\"Plot\"},\"ticker\":{\"id\":\"19764016-b5b9-46c7-8493-7557c9914cb4\",\"type\":\"BasicTicker\"}},\"id\":\"839f83ec-e5a4-4a4b-b1fc-370db46606cd\",\"type\":\"LinearAxis\"},{\"attributes\":{\"children\":[{\"id\":\"f51b2609-d09c-42a2-800e-a46d685fbf64\",\"type\":\"ToolbarBox\"},{\"id\":\"1fee799f-3829-4b3c-b8ba-667484d56831\",\"type\":\"Column\"}]},\"id\":\"880a1322-0efe-4c49-99ab-c63731e8d6d0\",\"type\":\"Column\"},{\"attributes\":{},\"id\":\"cb88d5f9-355b-4e76-9f3d-ef964db3dc63\",\"type\":\"UnionRenderers\"},{\"attributes\":{},\"id\":\"62e14158-4f9b-4355-9f8e-06ad119e4437\",\"type\":\"LinearScale\"},{\"attributes\":{},\"id\":\"b43f048d-1955-45f5-bc86-c07ebb4a5353\",\"type\":\"BasicTicker\"},{\"attributes\":{\"axis_label\":\"cooling rate [K/day]\",\"formatter\":{\"id\":\"83de2a55-f8cc-4842-a051-c4d0f4a65db0\",\"type\":\"BasicTickFormatter\"},\"plot\":{\"id\":\"c12ab194-0059-4481-af9c-4ac89ca0518c\",\"subtype\":\"Figure\",\"type\":\"Plot\"},\"ticker\":{\"id\":\"b43f048d-1955-45f5-bc86-c07ebb4a5353\",\"type\":\"BasicTicker\"}},\"id\":\"f63e140d-a328-4832-8a60-e410143df776\",\"type\":\"LinearAxis\"},{\"attributes\":{\"overlay\":{\"id\":\"dbbb94f9-2253-4d01-85ed-fc2abc4e03ff\",\"type\":\"BoxAnnotation\"}},\"id\":\"eca974f7-c3fa-46eb-92ea-797956f65536\",\"type\":\"BoxZoomTool\"},{\"attributes\":{},\"id\":\"7dc68d8f-774a-449a-bf2c-0e4149b478e2\",\"type\":\"PanTool\"},{\"attributes\":{},\"id\":\"1e7fb695-676a-4f58-b711-9d13961bd6e7\",\"type\":\"ResetTool\"},{\"attributes\":{},\"id\":\"f04da6ba-91cf-43ba-8359-6bbfba29d104\",\"type\":\"SaveTool\"}],\"root_ids\":[\"880a1322-0efe-4c49-99ab-c63731e8d6d0\"]},\"title\":\"Bokeh Application\",\"version\":\"0.12.16\"}};\n",
       "  var render_items = [{\"docid\":\"2ba9cbf2-5c77-4a36-ae61-d653b030da4c\",\"elementid\":\"75025c25-cb2a-432b-b4a5-5230c574827e\",\"modelid\":\"880a1322-0efe-4c49-99ab-c63731e8d6d0\"}];\n",
       "  root.Bokeh.embed.embed_items_notebook(docs_json, render_items);\n",
       "\n",
       "  }\n",
       "  if (root.Bokeh !== undefined) {\n",
       "    embed_document(root);\n",
       "  } else {\n",
       "    var attempts = 0;\n",
       "    var timer = setInterval(function(root) {\n",
       "      if (root.Bokeh !== undefined) {\n",
       "        embed_document(root);\n",
       "        clearInterval(timer);\n",
       "      }\n",
       "      attempts++;\n",
       "      if (attempts > 100) {\n",
       "        console.log(\"Bokeh: ERROR: Unable to run BokehJS code because BokehJS library is missing\")\n",
       "        clearInterval(timer);\n",
       "      }\n",
       "    }, 10, root)\n",
       "  }\n",
       "})(window);"
      ],
      "application/vnd.bokehjs_exec.v0+json": ""
     },
     "metadata": {
      "application/vnd.bokehjs_exec.v0+json": {
       "id": "880a1322-0efe-4c49-99ab-c63731e8d6d0"
      }
     },
     "output_type": "display_data"
    },
    {
     "data": {
      "text/markdown": [
       "*FIGURE.* Cooling rates. g=3"
      ],
      "text/plain": [
       "<IPython.core.display.Markdown object>"
      ]
     },
     "metadata": {},
     "output_type": "display_data"
    },
    {
     "data": {
      "text/html": [
       "\n",
       "<div class=\"bk-root\">\n",
       "    <div class=\"bk-plotdiv\" id=\"251c2b51-795f-4582-9466-66062339a07c\"></div>\n",
       "</div>"
      ]
     },
     "metadata": {},
     "output_type": "display_data"
    },
    {
     "data": {
      "application/javascript": [
       "(function(root) {\n",
       "  function embed_document(root) {\n",
       "    \n",
       "  var docs_json = {\"c6093650-4091-4d5b-9704-c50fb4fceeab\":{\"roots\":{\"references\":[{\"attributes\":{\"callback\":null,\"end\":0.01,\"start\":1020},\"id\":\"4a63e677-1356-4a72-8b38-b939b6c3237e\",\"type\":\"Range1d\"},{\"attributes\":{\"above\":[{\"id\":\"f6a13407-4d7e-4966-b069-c457314a36fd\",\"type\":\"Legend\"}],\"below\":[{\"id\":\"2d60ac9b-84eb-413b-9341-afd147662524\",\"type\":\"LinearAxis\"}],\"left\":[{\"id\":\"807232d6-55fd-42b8-8f8a-78397dd792b0\",\"type\":\"LinearAxis\"}],\"plot_height\":500,\"plot_width\":400,\"renderers\":[{\"id\":\"2d60ac9b-84eb-413b-9341-afd147662524\",\"type\":\"LinearAxis\"},{\"id\":\"d4ec9b1e-6183-41f3-a54a-13a229761e3e\",\"type\":\"Grid\"},{\"id\":\"807232d6-55fd-42b8-8f8a-78397dd792b0\",\"type\":\"LinearAxis\"},{\"id\":\"d317147e-9c46-4676-87ee-1fcda59fd12d\",\"type\":\"Grid\"},{\"id\":\"61d9474b-babb-4d5d-b69f-a7b2c6030ae1\",\"type\":\"BoxAnnotation\"},{\"id\":\"b873450c-3df3-4bc2-b420-7d5e879b734c\",\"type\":\"GlyphRenderer\"},{\"id\":\"e9f42a05-c824-4090-aa0f-309971b29f08\",\"type\":\"GlyphRenderer\"},{\"id\":\"770601ae-7acb-4770-8cdb-14c850bf90e7\",\"type\":\"GlyphRenderer\"},{\"id\":\"65ddf9c2-64f0-4d19-a024-7e4171d8af7e\",\"type\":\"GlyphRenderer\"},{\"id\":\"a3808f64-7664-4f19-9269-b1ee9189658f\",\"type\":\"GlyphRenderer\"},{\"id\":\"c1e195f5-b0aa-4e30-abe3-cbfebb157d63\",\"type\":\"GlyphRenderer\"},{\"id\":\"f6a13407-4d7e-4966-b069-c457314a36fd\",\"type\":\"Legend\"}],\"title\":{\"id\":\"2c1ebbcc-e380-4875-b752-15d4c33371a2\",\"type\":\"Title\"},\"toolbar\":{\"id\":\"31c01498-adb4-499f-a4cf-d5d1beb270b5\",\"type\":\"Toolbar\"},\"toolbar_location\":null,\"x_range\":{\"id\":\"c1c9fe0a-88c6-4945-a8b0-670a798129aa\",\"type\":\"Range1d\"},\"x_scale\":{\"id\":\"a4dbf0c9-45c3-4b43-8635-04e01be5b14c\",\"type\":\"LinearScale\"},\"y_range\":{\"id\":\"4a63e677-1356-4a72-8b38-b939b6c3237e\",\"type\":\"Range1d\"},\"y_scale\":{\"id\":\"90a936b9-c19c-479e-8da0-01b2d074478d\",\"type\":\"LinearScale\"}},\"id\":\"d568da95-588c-4329-a482-39449e803ed9\",\"subtype\":\"Figure\",\"type\":\"Plot\"},{\"attributes\":{\"data_source\":{\"id\":\"e50c5204-df21-4501-a0ca-cdb401d5e025\",\"type\":\"ColumnDataSource\"},\"glyph\":{\"id\":\"de729874-2b1d-4ec6-a356-a1ca05692895\",\"type\":\"Line\"},\"hover_glyph\":null,\"muted_glyph\":null,\"nonselection_glyph\":{\"id\":\"b688fba1-5a51-41d9-a438-fdb56a0bb2eb\",\"type\":\"Line\"},\"selection_glyph\":null,\"view\":{\"id\":\"0993deec-5144-40fd-af04-b26bf38fba01\",\"type\":\"CDSView\"}},\"id\":\"65ddf9c2-64f0-4d19-a024-7e4171d8af7e\",\"type\":\"GlyphRenderer\"},{\"attributes\":{\"source\":{\"id\":\"e50c5204-df21-4501-a0ca-cdb401d5e025\",\"type\":\"ColumnDataSource\"}},\"id\":\"0993deec-5144-40fd-af04-b26bf38fba01\",\"type\":\"CDSView\"},{\"attributes\":{\"data_source\":{\"id\":\"921af30c-e13f-45c3-8909-94b149f5ae1c\",\"type\":\"ColumnDataSource\"},\"glyph\":{\"id\":\"7c008674-8f6d-4a27-b442-7c46d35a4f77\",\"type\":\"Line\"},\"hover_glyph\":null,\"muted_glyph\":null,\"nonselection_glyph\":{\"id\":\"fd9196c4-0c31-4d3d-b038-8e9baae46e21\",\"type\":\"Line\"},\"selection_glyph\":null,\"view\":{\"id\":\"2bfeea64-5e26-42e4-8e0b-382ea8d8cc56\",\"type\":\"CDSView\"}},\"id\":\"e9f42a05-c824-4090-aa0f-309971b29f08\",\"type\":\"GlyphRenderer\"},{\"attributes\":{},\"id\":\"4e99afc1-228f-45e2-84f6-b78ce32e6990\",\"type\":\"WheelZoomTool\"},{\"attributes\":{\"source\":{\"id\":\"921af30c-e13f-45c3-8909-94b149f5ae1c\",\"type\":\"ColumnDataSource\"}},\"id\":\"2bfeea64-5e26-42e4-8e0b-382ea8d8cc56\",\"type\":\"CDSView\"},{\"attributes\":{\"fill_alpha\":{\"value\":0.1},\"fill_color\":{\"value\":\"#1f77b4\"},\"line_alpha\":{\"value\":0.1},\"line_color\":{\"value\":\"#1f77b4\"},\"x\":{\"field\":\"x\"},\"y\":{\"field\":\"y\"}},\"id\":\"786818a6-7470-428b-b370-e7ce67e497b2\",\"type\":\"Square\"},{\"attributes\":{\"source\":{\"id\":\"b7244db2-307c-4d4e-8dec-6eef02278ed5\",\"type\":\"ColumnDataSource\"}},\"id\":\"67fa7c9c-8200-4875-be43-903a37ae1244\",\"type\":\"CDSView\"},{\"attributes\":{\"line_alpha\":0.1,\"line_color\":\"#1f77b4\",\"line_width\":1.5,\"x\":{\"field\":\"x\"},\"y\":{\"field\":\"y\"}},\"id\":\"fd9196c4-0c31-4d3d-b038-8e9baae46e21\",\"type\":\"Line\"},{\"attributes\":{\"data_source\":{\"id\":\"b7244db2-307c-4d4e-8dec-6eef02278ed5\",\"type\":\"ColumnDataSource\"},\"glyph\":{\"id\":\"92edfe23-0710-4530-afbb-b9739e476e42\",\"type\":\"Triangle\"},\"hover_glyph\":null,\"muted_glyph\":null,\"nonselection_glyph\":{\"id\":\"0654e9cd-f2d9-4d8f-8546-c35e44563fb7\",\"type\":\"Triangle\"},\"selection_glyph\":null,\"view\":{\"id\":\"67fa7c9c-8200-4875-be43-903a37ae1244\",\"type\":\"CDSView\"}},\"id\":\"a3808f64-7664-4f19-9269-b1ee9189658f\",\"type\":\"GlyphRenderer\"},{\"attributes\":{\"data_source\":{\"id\":\"782c5bd8-397b-41eb-ae3c-e33f24bb5444\",\"type\":\"ColumnDataSource\"},\"glyph\":{\"id\":\"a25d04ed-b7eb-4676-a34f-dd54edeca0ea\",\"type\":\"Line\"},\"hover_glyph\":null,\"muted_glyph\":null,\"nonselection_glyph\":{\"id\":\"0ca7126d-e57c-467f-aad6-47e1d9bac790\",\"type\":\"Line\"},\"selection_glyph\":null,\"view\":{\"id\":\"15dcbca7-afcc-413d-9870-429101736c95\",\"type\":\"CDSView\"}},\"id\":\"c1e195f5-b0aa-4e30-abe3-cbfebb157d63\",\"type\":\"GlyphRenderer\"},{\"attributes\":{\"line_alpha\":0.6,\"line_color\":\"#984ea3\",\"line_width\":3,\"x\":{\"field\":\"x\"},\"y\":{\"field\":\"y\"}},\"id\":\"de729874-2b1d-4ec6-a356-a1ca05692895\",\"type\":\"Line\"},{\"attributes\":{\"callback\":null,\"data\":{\"x\":{\"__ndarray__\":\"dHlmYjpAQb8N3/bQu0JBv7wMjvvqR0G/a2vLAzxNQb8A54UsYVJBv1LJi19TV0G/O9QDSBFcQb+qi0AQmGBBv3NS/a3lZEG/KOtvSPhoQb/jdi8Uz2xBv4E0JOJqcEG/WECBVs5zQb9cmfJMKHdBv94PMwHZfUG/X8v7KIx4Qb8zRmOwFxtBvwICEkGFHkC/dlitgMVQPL+MNpHOcmU1v9bmb+yrDyS/h/CuAbFvHj9D9CdD5JA7P/FV5Rn4bD0/L0ZMBY0pKj/oeWzstBQJv15FDWsynS6/CaKzvqfSN7/ehXQ92Yc9v4wXF4poxUC/UBmWlfVcQr9FzIKaP8hDvxgtUEFKNkW/VILqttzrRr8HRZ+MTjlJvyOn8AozT0y/+5EVxgLKT7/QBh9VlJxRv92WcyrTT1O/8u7s1cX5VL8fbg8K335Wv7BY+De+r1e//4c//Nh6WL88iAvrx+BYv0g1vL6u3Vi/26s39JtsWL/Xx91Fs4lXvzXTA/9QMla/wrZ1G0NlVL+WkGSe6SFSv1WFlkCu3E6/vuoexRmiSL+C4HdwTJ9Bv7wXybVssjO/cjQZyS/tBL9yRUsoTAUwP1+4cAjCHEI/cTvjzrn/TD/vpajvR1VUP4C96EmejVo/Y1v8KTKTYD8EO/AF/A5kPzh2HSqFuWc/hG+GyBWRaz/GgMVSRpJvP21BU5Ti2nE/w+/lCNn1cz/2w44aoQx2P8B3lDRKEXg/LVWTL8L+eT++qG6Aatt7PyOeB5dQsX0/+NvFVZiHfz/EMNGw+bCAP5flUKcBoYE/\",\"dtype\":\"float64\",\"shape\":[75]},\"y\":{\"__ndarray__\":\"GhExyth1ND/Sv8nbtpRIP2vylNV0PVE/aTum7souWD/At0SJ8fVgPw3Iuahxymc/MSNhhJWvcD/bTfBN02d3P2zb5nxnaoA/CD5h5MAGhz8NmeH1TyaQP+zrCsc9p5Y/LbKd76fGnz/bLW5ISEmmPww9YvTcQq8/JV2OstnstT8Er5Y7M8G+P0c+r3jqkcU/5h99k6ZBzj88bCIzFzjVP4enV8oyxN0//yH99nXg5D8qOpLLf0jtP5kqGJXUifQ/c9cS8kHP/D+/DpwzojQEQIEmwoanVwxA4lgXt9HgE0BSSZ2AJuIbQAMJih9jjiNA5q4l5INuK0AwTKYKRj0zQNv5fmq8/DpAaCJseHrtQkB/+zpwzoxKQM3MzMzMeFJAZmZmZmZqWEAAAAAAAFxeQM3MzMzMJmJAmpmZmZkfZUBmZmZmZhhoQDMzMzMzEWtAAAAAAAAKbkBmZmZmZoFwQM3MzMzM/XFAMzMzMzN6c0CamZmZmfZ0QAAAAAAAc3ZAZmZmZmbvd0DNzMzMzGt5QDMzMzMz6HpAmpmZmZlkfEAAAAAAAOF9QGZmZmZmXX9AZmZmZuZsgECamZmZGSuBQM3MzMxM6YFAAAAAAICngkAzMzMzs2WDQGZmZmbmI4RAmpmZmRnihEDNzMzMTKCFQAAAAACAXoZAMzMzM7Mch0BmZmZm5tqHQJqZmZkZmYhAzczMzExXiUAAAAAAgBWKQDMzMzOz04pAZmZmZuaRi0CamZmZGVCMQM3MzMxMDo1AAAAAAIDMjUAzMzMzs4qOQGZmZmbmSI9A\",\"dtype\":\"float64\",\"shape\":[75]}},\"selected\":{\"id\":\"6fe6bd3c-8913-4c26-9766-379711f415b1\",\"type\":\"Selection\"},\"selection_policy\":{\"id\":\"823ee1aa-df0b-498a-9629-ce2b2b665a46\",\"type\":\"UnionRenderers\"}},\"id\":\"b7244db2-307c-4d4e-8dec-6eef02278ed5\",\"type\":\"ColumnDataSource\"},{\"attributes\":{\"line_alpha\":0.3,\"line_color\":\"#377eb8\",\"line_width\":2,\"x\":{\"field\":\"x\"},\"y\":{\"field\":\"y\"}},\"id\":\"a25d04ed-b7eb-4676-a34f-dd54edeca0ea\",\"type\":\"Line\"},{\"attributes\":{\"callback\":null,\"data\":{\"x\":{\"__ndarray__\":\"kdmRVY6jQr/hXYewEKZCv0hu1+Y9q0K/jviHlIawQr+s7MQQmrVCv71wjvRzukK/wUg4XxG/Qr+Z+SjLbsNCv7rFk3WKx0K/YtA8B2LLQr/4esF99M5Cv2KkiqRC0kK/GolOBE/VQr/dMYZtQdhCv8P3GChf3UK/iEYJT+fQQr/sq1Jg+l5Cv0oTTtkcO0G/3IuZJKgCPr+9frPABDs2v7L+7lF3CiO/ODfdY0ZHJD+TfyQ29CpAP0fjMDX0M0E/YLvT/YM9MD91DbMw4un8vhSUCgS3wS6/ws802c/kOL+sKX79FUk/v8HnkQ7840G/AwK8mACsQ798q3sJcUNFv1HzWgoY2Ea/FvWCSPu0SL+Y79fEMjlLv65UGL0jlU6/QrzA+UwuUb9uNMr7OwlTv8WlHYyO41S/QKKoM0CwVr9DzMDg1VRYvxnSSbzhmlm/sTPWFWtsWr9xfWnkS9Vavy8Z9TfC1Vq/cMz8a3xUWr+IwPLX1E9Zv3onXJTEzle/S3VkWe7UVb8ZbPrVm1ZTv9WufQjAdFC//YF4oxAbSr9EqsrsY21Cv4siotv9+DO/2FE3qzpk+r4WCo15C2IyP5ojUiAOK0Q/KsS8MqPrTz+9VN4h1CtWP77SCq/D4Vw/R6JUWVT/YT9EU8qwsLVlPyJCzPv5o2k//NyNnMXGbT88MiKFNQRxPyZ3sOpZPHM/xdI1C6N9dT81LLxG6LJ3P7cyj+K223k/uBNFeBblez/Uhe2qLdx9P409RjyDzX8/lV4eoRTcgD9/Dq/ICNiBPzg2UFuJ0oI/\",\"dtype\":\"float64\",\"shape\":[75]},\"y\":{\"__ndarray__\":\"GhExyth1ND/Sv8nbtpRIP2vylNV0PVE/aTum7souWD/At0SJ8fVgPw3Iuahxymc/MSNhhJWvcD/bTfBN02d3P2zb5nxnaoA/CD5h5MAGhz8NmeH1TyaQP+zrCsc9p5Y/LbKd76fGnz/bLW5ISEmmPww9YvTcQq8/JV2OstnstT8Er5Y7M8G+P0c+r3jqkcU/5h99k6ZBzj88bCIzFzjVP4enV8oyxN0//yH99nXg5D8qOpLLf0jtP5kqGJXUifQ/c9cS8kHP/D+/DpwzojQEQIEmwoanVwxA4lgXt9HgE0BSSZ2AJuIbQAMJih9jjiNA5q4l5INuK0AwTKYKRj0zQNv5fmq8/DpAaCJseHrtQkB/+zpwzoxKQM3MzMzMeFJAZmZmZmZqWEAAAAAAAFxeQM3MzMzMJmJAmpmZmZkfZUBmZmZmZhhoQDMzMzMzEWtAAAAAAAAKbkBmZmZmZoFwQM3MzMzM/XFAMzMzMzN6c0CamZmZmfZ0QAAAAAAAc3ZAZmZmZmbvd0DNzMzMzGt5QDMzMzMz6HpAmpmZmZlkfEAAAAAAAOF9QGZmZmZmXX9AZmZmZuZsgECamZmZGSuBQM3MzMxM6YFAAAAAAICngkAzMzMzs2WDQGZmZmbmI4RAmpmZmRnihEDNzMzMTKCFQAAAAACAXoZAMzMzM7Mch0BmZmZm5tqHQJqZmZkZmYhAzczMzExXiUAAAAAAgBWKQDMzMzOz04pAZmZmZuaRi0CamZmZGVCMQM3MzMxMDo1AAAAAAIDMjUAzMzMzs4qOQGZmZmbmSI9A\",\"dtype\":\"float64\",\"shape\":[75]}},\"selected\":{\"id\":\"ecd97156-3ac1-4483-99dd-81eac78f5fd5\",\"type\":\"Selection\"},\"selection_policy\":{\"id\":\"51eeed6f-e89e-420a-863e-67cd7bc763f2\",\"type\":\"UnionRenderers\"}},\"id\":\"e50c5204-df21-4501-a0ca-cdb401d5e025\",\"type\":\"ColumnDataSource\"},{\"attributes\":{\"fill_alpha\":{\"value\":0.7},\"fill_color\":{\"value\":\"#377eb8\"},\"line_alpha\":{\"value\":0.7},\"line_color\":{\"value\":\"#377eb8\"},\"x\":{\"field\":\"x\"},\"y\":{\"field\":\"y\"}},\"id\":\"92edfe23-0710-4530-afbb-b9739e476e42\",\"type\":\"Triangle\"},{\"attributes\":{\"fill_alpha\":{\"value\":0.7},\"fill_color\":{\"value\":\"#984ea3\"},\"line_alpha\":{\"value\":0.7},\"line_color\":{\"value\":\"#984ea3\"},\"x\":{\"field\":\"x\"},\"y\":{\"field\":\"y\"}},\"id\":\"e4e89bfa-dfbd-4d79-b6a2-d845da5ecdb9\",\"type\":\"Square\"},{\"attributes\":{\"line_alpha\":0.1,\"line_color\":\"#1f77b4\",\"line_width\":3,\"x\":{\"field\":\"x\"},\"y\":{\"field\":\"y\"}},\"id\":\"b688fba1-5a51-41d9-a438-fdb56a0bb2eb\",\"type\":\"Line\"},{\"attributes\":{\"line_alpha\":0.1,\"line_color\":\"#1f77b4\",\"line_width\":2,\"x\":{\"field\":\"x\"},\"y\":{\"field\":\"y\"}},\"id\":\"0ca7126d-e57c-467f-aad6-47e1d9bac790\",\"type\":\"Line\"},{\"attributes\":{\"data_source\":{\"id\":\"0fc1899e-ba94-412d-a4dd-f5432f5d7dfd\",\"type\":\"ColumnDataSource\"},\"glyph\":{\"id\":\"e4e89bfa-dfbd-4d79-b6a2-d845da5ecdb9\",\"type\":\"Square\"},\"hover_glyph\":null,\"muted_glyph\":null,\"nonselection_glyph\":{\"id\":\"786818a6-7470-428b-b370-e7ce67e497b2\",\"type\":\"Square\"},\"selection_glyph\":null,\"view\":{\"id\":\"c64cee85-8519-4915-a54c-35324f9317b0\",\"type\":\"CDSView\"}},\"id\":\"770601ae-7acb-4770-8cdb-14c850bf90e7\",\"type\":\"GlyphRenderer\"},{\"attributes\":{\"callback\":null,\"data\":{\"x\":{\"__ndarray__\":\"kdmRVY6jQr/hXYewEKZCv0hu1+Y9q0K/jviHlIawQr+s7MQQmrVCv71wjvRzukK/wUg4XxG/Qr+Z+SjLbsNCv7rFk3WKx0K/YtA8B2LLQr/4esF99M5Cv2KkiqRC0kK/GolOBE/VQr/dMYZtQdhCv8P3GChf3UK/iEYJT+fQQr/sq1Jg+l5Cv0oTTtkcO0G/3IuZJKgCPr+9frPABDs2v7L+7lF3CiO/ODfdY0ZHJD+TfyQ29CpAP0fjMDX0M0E/YLvT/YM9MD91DbMw4un8vhSUCgS3wS6/ws802c/kOL+sKX79FUk/v8HnkQ7840G/AwK8mACsQ798q3sJcUNFv1HzWgoY2Ea/FvWCSPu0SL+Y79fEMjlLv65UGL0jlU6/QrzA+UwuUb9uNMr7OwlTv8WlHYyO41S/QKKoM0CwVr9DzMDg1VRYvxnSSbzhmlm/sTPWFWtsWr9xfWnkS9Vavy8Z9TfC1Vq/cMz8a3xUWr+IwPLX1E9Zv3onXJTEzle/S3VkWe7UVb8ZbPrVm1ZTv9WufQjAdFC//YF4oxAbSr9EqsrsY21Cv4siotv9+DO/2FE3qzpk+r4WCo15C2IyP5ojUiAOK0Q/KsS8MqPrTz+9VN4h1CtWP77SCq/D4Vw/R6JUWVT/YT9EU8qwsLVlPyJCzPv5o2k//NyNnMXGbT88MiKFNQRxPyZ3sOpZPHM/xdI1C6N9dT81LLxG6LJ3P7cyj+K223k/uBNFeBblez/Uhe2qLdx9P409RjyDzX8/lV4eoRTcgD9/Dq/ICNiBPzg2UFuJ0oI/\",\"dtype\":\"float64\",\"shape\":[75]},\"y\":{\"__ndarray__\":\"GhExyth1ND/Sv8nbtpRIP2vylNV0PVE/aTum7souWD/At0SJ8fVgPw3Iuahxymc/MSNhhJWvcD/bTfBN02d3P2zb5nxnaoA/CD5h5MAGhz8NmeH1TyaQP+zrCsc9p5Y/LbKd76fGnz/bLW5ISEmmPww9YvTcQq8/JV2OstnstT8Er5Y7M8G+P0c+r3jqkcU/5h99k6ZBzj88bCIzFzjVP4enV8oyxN0//yH99nXg5D8qOpLLf0jtP5kqGJXUifQ/c9cS8kHP/D+/DpwzojQEQIEmwoanVwxA4lgXt9HgE0BSSZ2AJuIbQAMJih9jjiNA5q4l5INuK0AwTKYKRj0zQNv5fmq8/DpAaCJseHrtQkB/+zpwzoxKQM3MzMzMeFJAZmZmZmZqWEAAAAAAAFxeQM3MzMzMJmJAmpmZmZkfZUBmZmZmZhhoQDMzMzMzEWtAAAAAAAAKbkBmZmZmZoFwQM3MzMzM/XFAMzMzMzN6c0CamZmZmfZ0QAAAAAAAc3ZAZmZmZmbvd0DNzMzMzGt5QDMzMzMz6HpAmpmZmZlkfEAAAAAAAOF9QGZmZmZmXX9AZmZmZuZsgECamZmZGSuBQM3MzMxM6YFAAAAAAICngkAzMzMzs2WDQGZmZmbmI4RAmpmZmRnihEDNzMzMTKCFQAAAAACAXoZAMzMzM7Mch0BmZmZm5tqHQJqZmZkZmYhAzczMzExXiUAAAAAAgBWKQDMzMzOz04pAZmZmZuaRi0CamZmZGVCMQM3MzMxMDo1AAAAAAIDMjUAzMzMzs4qOQGZmZmbmSI9A\",\"dtype\":\"float64\",\"shape\":[75]}},\"selected\":{\"id\":\"f448a523-63ba-46b0-8125-a858fde1ceee\",\"type\":\"Selection\"},\"selection_policy\":{\"id\":\"57bf541b-8a6f-4077-9dee-56e0cb8d434e\",\"type\":\"UnionRenderers\"}},\"id\":\"0fc1899e-ba94-412d-a4dd-f5432f5d7dfd\",\"type\":\"ColumnDataSource\"},{\"attributes\":{\"above\":[{\"id\":\"981abbaf-6626-4c2e-b996-68dee8f9e2da\",\"type\":\"Legend\"}],\"below\":[{\"id\":\"ae887ac5-7020-49b1-bb95-3b585a28204e\",\"type\":\"LinearAxis\"}],\"left\":[{\"id\":\"94e52016-9451-4ca3-86dc-4e43dceadd86\",\"type\":\"LogAxis\"}],\"plot_height\":500,\"plot_width\":400,\"renderers\":[{\"id\":\"ae887ac5-7020-49b1-bb95-3b585a28204e\",\"type\":\"LinearAxis\"},{\"id\":\"3254ac52-012e-45b0-8576-bcf7ef0a28e3\",\"type\":\"Grid\"},{\"id\":\"94e52016-9451-4ca3-86dc-4e43dceadd86\",\"type\":\"LogAxis\"},{\"id\":\"33521f1e-e489-4eba-8637-437500624cd2\",\"type\":\"Grid\"},{\"id\":\"449dc2a9-747f-4aa9-a663-9e922f157e2e\",\"type\":\"BoxAnnotation\"},{\"id\":\"b07365ca-d6c4-4ad6-8974-6c0c1b332bfc\",\"type\":\"GlyphRenderer\"},{\"id\":\"4922bfef-8bff-47fd-92ef-0c24facf9fe0\",\"type\":\"GlyphRenderer\"},{\"id\":\"b394a337-5dc5-43a0-aad2-f5a0365f3a6a\",\"type\":\"GlyphRenderer\"},{\"id\":\"88fb9316-c20b-4c0a-832d-c205b301b137\",\"type\":\"GlyphRenderer\"},{\"id\":\"7abd85f2-5df2-454d-9f64-d6b165b5e2b9\",\"type\":\"GlyphRenderer\"},{\"id\":\"c845ca51-ac9c-4049-b065-068fff63f3e9\",\"type\":\"GlyphRenderer\"},{\"id\":\"981abbaf-6626-4c2e-b996-68dee8f9e2da\",\"type\":\"Legend\"}],\"title\":{\"id\":\"14dab985-f9b4-4e16-a6e6-974512bb70e0\",\"type\":\"Title\"},\"toolbar\":{\"id\":\"6caafdb2-2428-405b-9807-e08512493639\",\"type\":\"Toolbar\"},\"toolbar_location\":null,\"x_range\":{\"id\":\"203bb0b0-a1e0-4a41-a5f8-cbe333d8b337\",\"type\":\"Range1d\"},\"x_scale\":{\"id\":\"152b1123-fd9f-4831-8702-fa5c545ec5ff\",\"type\":\"LinearScale\"},\"y_range\":{\"id\":\"e5265118-b330-4dc3-b46e-4dd128a16208\",\"type\":\"Range1d\"},\"y_scale\":{\"id\":\"ef444205-2c9c-45e9-b106-772e76a8f44f\",\"type\":\"LogScale\"}},\"id\":\"3ea961a2-f7e6-41a2-a286-18576144c9e3\",\"subtype\":\"Figure\",\"type\":\"Plot\"},{\"attributes\":{\"active_drag\":\"auto\",\"active_inspect\":\"auto\",\"active_scroll\":\"auto\",\"active_tap\":\"auto\",\"tools\":[{\"id\":\"6ce406d1-24a8-4511-aa4a-8341f10b49f9\",\"type\":\"PanTool\"},{\"id\":\"4e99afc1-228f-45e2-84f6-b78ce32e6990\",\"type\":\"WheelZoomTool\"},{\"id\":\"207bb388-8aba-41d8-851e-88654a7d65be\",\"type\":\"BoxZoomTool\"},{\"id\":\"4295e972-68b4-4265-bfe8-4954d5aebed5\",\"type\":\"SaveTool\"},{\"id\":\"24827a9b-8063-4db0-a4dd-80a3b51718db\",\"type\":\"ResetTool\"},{\"id\":\"f8d6f25a-a797-4770-95dd-65020b8d4850\",\"type\":\"HelpTool\"}]},\"id\":\"6caafdb2-2428-405b-9807-e08512493639\",\"type\":\"Toolbar\"},{\"attributes\":{\"line_color\":\"#4daf4a\",\"line_width\":1.5,\"x\":{\"field\":\"x\"},\"y\":{\"field\":\"y\"}},\"id\":\"7c008674-8f6d-4a27-b442-7c46d35a4f77\",\"type\":\"Line\"},{\"attributes\":{\"fill_alpha\":{\"value\":0.1},\"fill_color\":{\"value\":\"#1f77b4\"},\"line_alpha\":{\"value\":0.1},\"line_color\":{\"value\":\"#1f77b4\"},\"x\":{\"field\":\"x\"},\"y\":{\"field\":\"y\"}},\"id\":\"0654e9cd-f2d9-4d8f-8546-c35e44563fb7\",\"type\":\"Triangle\"},{\"attributes\":{\"callback\":null,\"data\":{\"x\":{\"__ndarray__\":\"dHlmYjpAQb8N3/bQu0JBv7wMjvvqR0G/a2vLAzxNQb8A54UsYVJBv1LJi19TV0G/O9QDSBFcQb+qi0AQmGBBv3NS/a3lZEG/KOtvSPhoQb/jdi8Uz2xBv4E0JOJqcEG/WECBVs5zQb9cmfJMKHdBv94PMwHZfUG/X8v7KIx4Qb8zRmOwFxtBvwICEkGFHkC/dlitgMVQPL+MNpHOcmU1v9bmb+yrDyS/h/CuAbFvHj9D9CdD5JA7P/FV5Rn4bD0/L0ZMBY0pKj/oeWzstBQJv15FDWsynS6/CaKzvqfSN7/ehXQ92Yc9v4wXF4poxUC/UBmWlfVcQr9FzIKaP8hDvxgtUEFKNkW/VILqttzrRr8HRZ+MTjlJvyOn8AozT0y/+5EVxgLKT7/QBh9VlJxRv92WcyrTT1O/8u7s1cX5VL8fbg8K335Wv7BY+De+r1e//4c//Nh6WL88iAvrx+BYv0g1vL6u3Vi/26s39JtsWL/Xx91Fs4lXvzXTA/9QMla/wrZ1G0NlVL+WkGSe6SFSv1WFlkCu3E6/vuoexRmiSL+C4HdwTJ9Bv7wXybVssjO/cjQZyS/tBL9yRUsoTAUwP1+4cAjCHEI/cTvjzrn/TD/vpajvR1VUP4C96EmejVo/Y1v8KTKTYD8EO/AF/A5kPzh2HSqFuWc/hG+GyBWRaz/GgMVSRpJvP21BU5Ti2nE/w+/lCNn1cz/2w44aoQx2P8B3lDRKEXg/LVWTL8L+eT++qG6Aatt7PyOeB5dQsX0/+NvFVZiHfz/EMNGw+bCAP5flUKcBoYE/\",\"dtype\":\"float64\",\"shape\":[75]},\"y\":{\"__ndarray__\":\"GhExyth1ND/Sv8nbtpRIP2vylNV0PVE/aTum7souWD/At0SJ8fVgPw3Iuahxymc/MSNhhJWvcD/bTfBN02d3P2zb5nxnaoA/CD5h5MAGhz8NmeH1TyaQP+zrCsc9p5Y/LbKd76fGnz/bLW5ISEmmPww9YvTcQq8/JV2OstnstT8Er5Y7M8G+P0c+r3jqkcU/5h99k6ZBzj88bCIzFzjVP4enV8oyxN0//yH99nXg5D8qOpLLf0jtP5kqGJXUifQ/c9cS8kHP/D+/DpwzojQEQIEmwoanVwxA4lgXt9HgE0BSSZ2AJuIbQAMJih9jjiNA5q4l5INuK0AwTKYKRj0zQNv5fmq8/DpAaCJseHrtQkB/+zpwzoxKQM3MzMzMeFJAZmZmZmZqWEAAAAAAAFxeQM3MzMzMJmJAmpmZmZkfZUBmZmZmZhhoQDMzMzMzEWtAAAAAAAAKbkBmZmZmZoFwQM3MzMzM/XFAMzMzMzN6c0CamZmZmfZ0QAAAAAAAc3ZAZmZmZmbvd0DNzMzMzGt5QDMzMzMz6HpAmpmZmZlkfEAAAAAAAOF9QGZmZmZmXX9AZmZmZuZsgECamZmZGSuBQM3MzMxM6YFAAAAAAICngkAzMzMzs2WDQGZmZmbmI4RAmpmZmRnihEDNzMzMTKCFQAAAAACAXoZAMzMzM7Mch0BmZmZm5tqHQJqZmZkZmYhAzczMzExXiUAAAAAAgBWKQDMzMzOz04pAZmZmZuaRi0CamZmZGVCMQM3MzMxMDo1AAAAAAIDMjUAzMzMzs4qOQGZmZmbmSI9A\",\"dtype\":\"float64\",\"shape\":[75]}},\"selected\":{\"id\":\"5f3e7a26-577e-4558-985d-8d81ea3157aa\",\"type\":\"Selection\"},\"selection_policy\":{\"id\":\"c832dcf5-a476-4166-9d82-7d350ce854a8\",\"type\":\"UnionRenderers\"}},\"id\":\"782c5bd8-397b-41eb-ae3c-e33f24bb5444\",\"type\":\"ColumnDataSource\"},{\"attributes\":{\"source\":{\"id\":\"0fc1899e-ba94-412d-a4dd-f5432f5d7dfd\",\"type\":\"ColumnDataSource\"}},\"id\":\"c64cee85-8519-4915-a54c-35324f9317b0\",\"type\":\"CDSView\"},{\"attributes\":{\"source\":{\"id\":\"782c5bd8-397b-41eb-ae3c-e33f24bb5444\",\"type\":\"ColumnDataSource\"}},\"id\":\"15dcbca7-afcc-413d-9870-429101736c95\",\"type\":\"CDSView\"},{\"attributes\":{\"label\":{\"value\":\"CRD\"},\"renderers\":[{\"id\":\"b873450c-3df3-4bc2-b420-7d5e879b734c\",\"type\":\"GlyphRenderer\"},{\"id\":\"e9f42a05-c824-4090-aa0f-309971b29f08\",\"type\":\"GlyphRenderer\"}]},\"id\":\"10088dc7-cd6b-4345-a967-a71199b7f291\",\"type\":\"LegendItem\"},{\"attributes\":{\"callback\":null,\"end\":0.0008482895104,\"start\":-0.0015081726704},\"id\":\"203bb0b0-a1e0-4a41-a5f8-cbe333d8b337\",\"type\":\"Range1d\"},{\"attributes\":{\"label\":{\"value\":\"WGT igg=1\"},\"renderers\":[{\"id\":\"770601ae-7acb-4770-8cdb-14c850bf90e7\",\"type\":\"GlyphRenderer\"},{\"id\":\"65ddf9c2-64f0-4d19-a024-7e4171d8af7e\",\"type\":\"GlyphRenderer\"}]},\"id\":\"8e3d89f6-7b1f-4a0b-bea8-497b71900c6b\",\"type\":\"LegendItem\"},{\"attributes\":{},\"id\":\"152b1123-fd9f-4831-8702-fa5c545ec5ff\",\"type\":\"LinearScale\"},{\"attributes\":{\"label\":{\"value\":\"WGT igg=10\"},\"renderers\":[{\"id\":\"a3808f64-7664-4f19-9269-b1ee9189658f\",\"type\":\"GlyphRenderer\"},{\"id\":\"c1e195f5-b0aa-4e30-abe3-cbfebb157d63\",\"type\":\"GlyphRenderer\"}]},\"id\":\"a2cb0bcb-17b6-452d-a4b0-d71b79cfd68f\",\"type\":\"LegendItem\"},{\"attributes\":{},\"id\":\"6ce406d1-24a8-4511-aa4a-8341f10b49f9\",\"type\":\"PanTool\"},{\"attributes\":{\"items\":[{\"id\":\"c07fe74c-c628-465e-8aac-159f22cbd785\",\"type\":\"LegendItem\"},{\"id\":\"56edd6d5-fcb8-4a84-acef-27de882f884e\",\"type\":\"LegendItem\"},{\"id\":\"5669136e-3d3b-4d3a-85e7-1a3e627a6cd4\",\"type\":\"LegendItem\"}],\"label_text_font_size\":{\"value\":\"8pt\"},\"location\":\"top_center\",\"orientation\":\"horizontal\",\"plot\":{\"id\":\"3ea961a2-f7e6-41a2-a286-18576144c9e3\",\"subtype\":\"Figure\",\"type\":\"Plot\"}},\"id\":\"981abbaf-6626-4c2e-b996-68dee8f9e2da\",\"type\":\"Legend\"},{\"attributes\":{\"bottom_units\":\"screen\",\"fill_alpha\":{\"value\":0.5},\"fill_color\":{\"value\":\"lightgrey\"},\"left_units\":\"screen\",\"level\":\"overlay\",\"line_alpha\":{\"value\":1.0},\"line_color\":{\"value\":\"black\"},\"line_dash\":[4,4],\"line_width\":{\"value\":2},\"plot\":null,\"render_mode\":\"css\",\"right_units\":\"screen\",\"top_units\":\"screen\"},\"id\":\"449dc2a9-747f-4aa9-a663-9e922f157e2e\",\"type\":\"BoxAnnotation\"},{\"attributes\":{},\"id\":\"ef444205-2c9c-45e9-b106-772e76a8f44f\",\"type\":\"LogScale\"},{\"attributes\":{\"axis_label\":\"cooling rate [K/day]\",\"formatter\":{\"id\":\"27c07b20-c605-4236-b6db-23723dea03a9\",\"type\":\"BasicTickFormatter\"},\"plot\":{\"id\":\"3ea961a2-f7e6-41a2-a286-18576144c9e3\",\"subtype\":\"Figure\",\"type\":\"Plot\"},\"ticker\":{\"id\":\"7e4b5d2b-2f91-400c-adfc-a1d81157e4f2\",\"type\":\"BasicTicker\"}},\"id\":\"ae887ac5-7020-49b1-bb95-3b585a28204e\",\"type\":\"LinearAxis\"},{\"attributes\":{},\"id\":\"7e4b5d2b-2f91-400c-adfc-a1d81157e4f2\",\"type\":\"BasicTicker\"},{\"attributes\":{\"overlay\":{\"id\":\"449dc2a9-747f-4aa9-a663-9e922f157e2e\",\"type\":\"BoxAnnotation\"}},\"id\":\"207bb388-8aba-41d8-851e-88654a7d65be\",\"type\":\"BoxZoomTool\"},{\"attributes\":{},\"id\":\"4295e972-68b4-4265-bfe8-4954d5aebed5\",\"type\":\"SaveTool\"},{\"attributes\":{},\"id\":\"24827a9b-8063-4db0-a4dd-80a3b51718db\",\"type\":\"ResetTool\"},{\"attributes\":{},\"id\":\"f8d6f25a-a797-4770-95dd-65020b8d4850\",\"type\":\"HelpTool\"},{\"attributes\":{},\"id\":\"f448a523-63ba-46b0-8125-a858fde1ceee\",\"type\":\"Selection\"},{\"attributes\":{\"callback\":null,\"data\":{\"x\":{\"__ndarray__\":\"qbz1RAFWQL/HDPqmq1dAv8Q6QnTfWkC/KtH4F99dQL/ImPUrjWBAv33udvHrYkC/zXdwb/dkQL9E0CPOm2ZAvw2y9030Z0C/DBvfZOtoQL8/pwX5g2lAv343HGCmaUC/4DzqVl1pQL8d78HVrmhAvxVaAR8UYkC/JpUutWcuQL9PWZ4eE90+v+J20vqErTu/4WFYvtbtNb+f8fQgn6Iov65yHs9Fngc/TbHUEYsdOj8i5uOSQPNJPwA4z3UrCks/Cz7kxK1RQD/uxRowR2AmP4C5N52mnhS/R7HsIr3KML8OQnuVq744v3KKM20nZz6/jqG9LSFuQb8HnigfoVhDv8R/LZ1jJkW/3P4EqLkqR7/tg3yiOcdJv6M0UwBDMk2/mV8PHlR/UL+QrK3sQ11Sv3104qI+OFS/nhcMRbEJVr9ccJMEsq1XvxmRd7Fh61i/+voOwLWzWb8CWWMj5AlavzHULW+R6lm/fLHGhFBRWb9On3cEqzpYvxr57BvApFa/0Qg1iVqPVL+mD6+8A/tRvxxNXyT8302/XofnIKbtRr8yl04wrFw+v/Ks2gC6oyq/YtTfTqUUFT9qDcLlsG05PxLBCboQlUc/vnUtuYSeUT88KOCTmdZXPxdKO7CCcV4/RurnlBq2Yj9gYikboWJmP/1TZbmXPWo/ag0lmzJFbj+6x9f3yDpxP96YjfItY3M/F7Vtq2iSdT/QnG1djrh3P3gmCxMaxXk/fCx8w12yez8eKvzHcYh9Px7oSSPrU38/IxbYM+mOgD9urkN5i3WBPzD6t/cjX4I/\",\"dtype\":\"float64\",\"shape\":[75]},\"y\":{\"__ndarray__\":\"GhExyth1ND/Sv8nbtpRIP2vylNV0PVE/aTum7souWD/At0SJ8fVgPw3Iuahxymc/MSNhhJWvcD/bTfBN02d3P2zb5nxnaoA/CD5h5MAGhz8NmeH1TyaQP+zrCsc9p5Y/LbKd76fGnz/bLW5ISEmmPww9YvTcQq8/JV2OstnstT8Er5Y7M8G+P0c+r3jqkcU/5h99k6ZBzj88bCIzFzjVP4enV8oyxN0//yH99nXg5D8qOpLLf0jtP5kqGJXUifQ/c9cS8kHP/D+/DpwzojQEQIEmwoanVwxA4lgXt9HgE0BSSZ2AJuIbQAMJih9jjiNA5q4l5INuK0AwTKYKRj0zQNv5fmq8/DpAaCJseHrtQkB/+zpwzoxKQM3MzMzMeFJAZmZmZmZqWEAAAAAAAFxeQM3MzMzMJmJAmpmZmZkfZUBmZmZmZhhoQDMzMzMzEWtAAAAAAAAKbkBmZmZmZoFwQM3MzMzM/XFAMzMzMzN6c0CamZmZmfZ0QAAAAAAAc3ZAZmZmZmbvd0DNzMzMzGt5QDMzMzMz6HpAmpmZmZlkfEAAAAAAAOF9QGZmZmZmXX9AZmZmZuZsgECamZmZGSuBQM3MzMxM6YFAAAAAAICngkAzMzMzs2WDQGZmZmbmI4RAmpmZmRnihEDNzMzMTKCFQAAAAACAXoZAMzMzM7Mch0BmZmZm5tqHQJqZmZkZmYhAzczMzExXiUAAAAAAgBWKQDMzMzOz04pAZmZmZuaRi0CamZmZGVCMQM3MzMxMDo1AAAAAAIDMjUAzMzMzs4qOQGZmZmbmSI9A\",\"dtype\":\"float64\",\"shape\":[75]}},\"selected\":{\"id\":\"d304562e-5ccf-490d-8d90-7d254039575d\",\"type\":\"Selection\"},\"selection_policy\":{\"id\":\"3bce47ec-07cb-47a5-a3a7-9476dd01e9f7\",\"type\":\"UnionRenderers\"}},\"id\":\"a2b0232c-b401-4f0e-9fd7-0ff0022a4bac\",\"type\":\"ColumnDataSource\"},{\"attributes\":{\"callback\":null,\"end\":0.009298914172,\"start\":-0.001746163172},\"id\":\"c1c9fe0a-88c6-4945-a8b0-670a798129aa\",\"type\":\"Range1d\"},{\"attributes\":{\"plot\":{\"id\":\"3ea961a2-f7e6-41a2-a286-18576144c9e3\",\"subtype\":\"Figure\",\"type\":\"Plot\"},\"ticker\":{\"id\":\"7e4b5d2b-2f91-400c-adfc-a1d81157e4f2\",\"type\":\"BasicTicker\"}},\"id\":\"3254ac52-012e-45b0-8576-bcf7ef0a28e3\",\"type\":\"Grid\"},{\"attributes\":{\"items\":[{\"id\":\"10088dc7-cd6b-4345-a967-a71199b7f291\",\"type\":\"LegendItem\"},{\"id\":\"8e3d89f6-7b1f-4a0b-bea8-497b71900c6b\",\"type\":\"LegendItem\"},{\"id\":\"a2cb0bcb-17b6-452d-a4b0-d71b79cfd68f\",\"type\":\"LegendItem\"}],\"label_text_font_size\":{\"value\":\"8pt\"},\"location\":\"top_center\",\"orientation\":\"horizontal\",\"plot\":{\"id\":\"d568da95-588c-4329-a482-39449e803ed9\",\"subtype\":\"Figure\",\"type\":\"Plot\"}},\"id\":\"f6a13407-4d7e-4966-b069-c457314a36fd\",\"type\":\"Legend\"},{\"attributes\":{},\"id\":\"a4dbf0c9-45c3-4b43-8635-04e01be5b14c\",\"type\":\"LinearScale\"},{\"attributes\":{\"active_drag\":\"auto\",\"active_inspect\":\"auto\",\"active_scroll\":\"auto\",\"active_tap\":\"auto\",\"tools\":[{\"id\":\"ac039079-e84c-410c-a103-a0ade94934ac\",\"type\":\"PanTool\"},{\"id\":\"51d2edf4-7b76-4b5f-b17e-2a24aef2d7f3\",\"type\":\"WheelZoomTool\"},{\"id\":\"a83b123c-d2d5-43d9-bb05-2fddf562eaba\",\"type\":\"BoxZoomTool\"},{\"id\":\"74c4d4a5-0bd7-46db-939e-4d810744eaf3\",\"type\":\"SaveTool\"},{\"id\":\"e9fdbfcf-6284-4c94-baaf-21510bd073d2\",\"type\":\"ResetTool\"},{\"id\":\"2d28b038-c0e7-4914-9a65-c60ce029e5f3\",\"type\":\"HelpTool\"}]},\"id\":\"31c01498-adb4-499f-a4cf-d5d1beb270b5\",\"type\":\"Toolbar\"},{\"attributes\":{},\"id\":\"ef73040c-27a1-4fcb-9781-cf4e3ec383ab\",\"type\":\"BasicTicker\"},{\"attributes\":{\"dimension\":1,\"plot\":{\"id\":\"d568da95-588c-4329-a482-39449e803ed9\",\"subtype\":\"Figure\",\"type\":\"Plot\"},\"ticker\":{\"id\":\"ef73040c-27a1-4fcb-9781-cf4e3ec383ab\",\"type\":\"BasicTicker\"}},\"id\":\"d317147e-9c46-4676-87ee-1fcda59fd12d\",\"type\":\"Grid\"},{\"attributes\":{},\"id\":\"51d2edf4-7b76-4b5f-b17e-2a24aef2d7f3\",\"type\":\"WheelZoomTool\"},{\"attributes\":{\"dimension\":1,\"plot\":{\"id\":\"3ea961a2-f7e6-41a2-a286-18576144c9e3\",\"subtype\":\"Figure\",\"type\":\"Plot\"},\"ticker\":{\"id\":\"1756c4c5-2dd4-4f45-91cb-d21025e04867\",\"type\":\"LogTicker\"}},\"id\":\"33521f1e-e489-4eba-8637-437500624cd2\",\"type\":\"Grid\"},{\"attributes\":{\"axis_label\":\"pressure [mb]\",\"formatter\":{\"id\":\"bc2c5760-dc85-48be-9b63-e8ac4012faaf\",\"type\":\"BasicTickFormatter\"},\"plot\":{\"id\":\"d568da95-588c-4329-a482-39449e803ed9\",\"subtype\":\"Figure\",\"type\":\"Plot\"},\"ticker\":{\"id\":\"ef73040c-27a1-4fcb-9781-cf4e3ec383ab\",\"type\":\"BasicTicker\"}},\"id\":\"807232d6-55fd-42b8-8f8a-78397dd792b0\",\"type\":\"LinearAxis\"},{\"attributes\":{},\"id\":\"b71066d0-06f2-41a4-b11c-f357e823919a\",\"type\":\"BasicTicker\"},{\"attributes\":{\"axis_label\":\"cooling rate [K/day]\",\"formatter\":{\"id\":\"d9222661-65d9-4bc2-8c48-f7bc6d86c1ea\",\"type\":\"BasicTickFormatter\"},\"plot\":{\"id\":\"d568da95-588c-4329-a482-39449e803ed9\",\"subtype\":\"Figure\",\"type\":\"Plot\"},\"ticker\":{\"id\":\"b71066d0-06f2-41a4-b11c-f357e823919a\",\"type\":\"BasicTicker\"}},\"id\":\"2d60ac9b-84eb-413b-9341-afd147662524\",\"type\":\"LinearAxis\"},{\"attributes\":{\"plot\":{\"id\":\"d568da95-588c-4329-a482-39449e803ed9\",\"subtype\":\"Figure\",\"type\":\"Plot\"},\"ticker\":{\"id\":\"b71066d0-06f2-41a4-b11c-f357e823919a\",\"type\":\"BasicTicker\"}},\"id\":\"d4ec9b1e-6183-41f3-a54a-13a229761e3e\",\"type\":\"Grid\"},{\"attributes\":{\"fill_alpha\":{\"value\":0.7},\"fill_color\":{\"value\":\"#4daf4a\"},\"line_alpha\":{\"value\":0.7},\"line_color\":{\"value\":\"#4daf4a\"},\"x\":{\"field\":\"x\"},\"y\":{\"field\":\"y\"}},\"id\":\"cbbd5373-837d-461e-be91-77680fe3fb5a\",\"type\":\"Circle\"},{\"attributes\":{\"overlay\":{\"id\":\"61d9474b-babb-4d5d-b69f-a7b2c6030ae1\",\"type\":\"BoxAnnotation\"}},\"id\":\"a83b123c-d2d5-43d9-bb05-2fddf562eaba\",\"type\":\"BoxZoomTool\"},{\"attributes\":{},\"id\":\"90a936b9-c19c-479e-8da0-01b2d074478d\",\"type\":\"LinearScale\"},{\"attributes\":{\"callback\":null,\"data\":{\"x\":{\"__ndarray__\":\"qbz1RAFWQL/HDPqmq1dAv8Q6QnTfWkC/KtH4F99dQL/ImPUrjWBAv33udvHrYkC/zXdwb/dkQL9E0CPOm2ZAvw2y9030Z0C/DBvfZOtoQL8/pwX5g2lAv343HGCmaUC/4DzqVl1pQL8d78HVrmhAvxVaAR8UYkC/JpUutWcuQL9PWZ4eE90+v+J20vqErTu/4WFYvtbtNb+f8fQgn6Iov65yHs9Fngc/TbHUEYsdOj8i5uOSQPNJPwA4z3UrCks/Cz7kxK1RQD/uxRowR2AmP4C5N52mnhS/R7HsIr3KML8OQnuVq744v3KKM20nZz6/jqG9LSFuQb8HnigfoVhDv8R/LZ1jJkW/3P4EqLkqR7/tg3yiOcdJv6M0UwBDMk2/mV8PHlR/UL+QrK3sQ11Sv3104qI+OFS/nhcMRbEJVr9ccJMEsq1XvxmRd7Fh61i/+voOwLWzWb8CWWMj5AlavzHULW+R6lm/fLHGhFBRWb9On3cEqzpYvxr57BvApFa/0Qg1iVqPVL+mD6+8A/tRvxxNXyT8302/XofnIKbtRr8yl04wrFw+v/Ks2gC6oyq/YtTfTqUUFT9qDcLlsG05PxLBCboQlUc/vnUtuYSeUT88KOCTmdZXPxdKO7CCcV4/RurnlBq2Yj9gYikboWJmP/1TZbmXPWo/ag0lmzJFbj+6x9f3yDpxP96YjfItY3M/F7Vtq2iSdT/QnG1djrh3P3gmCxMaxXk/fCx8w12yez8eKvzHcYh9Px7oSSPrU38/IxbYM+mOgD9urkN5i3WBPzD6t/cjX4I/\",\"dtype\":\"float64\",\"shape\":[75]},\"y\":{\"__ndarray__\":\"GhExyth1ND/Sv8nbtpRIP2vylNV0PVE/aTum7souWD/At0SJ8fVgPw3Iuahxymc/MSNhhJWvcD/bTfBN02d3P2zb5nxnaoA/CD5h5MAGhz8NmeH1TyaQP+zrCsc9p5Y/LbKd76fGnz/bLW5ISEmmPww9YvTcQq8/JV2OstnstT8Er5Y7M8G+P0c+r3jqkcU/5h99k6ZBzj88bCIzFzjVP4enV8oyxN0//yH99nXg5D8qOpLLf0jtP5kqGJXUifQ/c9cS8kHP/D+/DpwzojQEQIEmwoanVwxA4lgXt9HgE0BSSZ2AJuIbQAMJih9jjiNA5q4l5INuK0AwTKYKRj0zQNv5fmq8/DpAaCJseHrtQkB/+zpwzoxKQM3MzMzMeFJAZmZmZmZqWEAAAAAAAFxeQM3MzMzMJmJAmpmZmZkfZUBmZmZmZhhoQDMzMzMzEWtAAAAAAAAKbkBmZmZmZoFwQM3MzMzM/XFAMzMzMzN6c0CamZmZmfZ0QAAAAAAAc3ZAZmZmZmbvd0DNzMzMzGt5QDMzMzMz6HpAmpmZmZlkfEAAAAAAAOF9QGZmZmZmXX9AZmZmZuZsgECamZmZGSuBQM3MzMxM6YFAAAAAAICngkAzMzMzs2WDQGZmZmbmI4RAmpmZmRnihEDNzMzMTKCFQAAAAACAXoZAMzMzM7Mch0BmZmZm5tqHQJqZmZkZmYhAzczMzExXiUAAAAAAgBWKQDMzMzOz04pAZmZmZuaRi0CamZmZGVCMQM3MzMxMDo1AAAAAAIDMjUAzMzMzs4qOQGZmZmbmSI9A\",\"dtype\":\"float64\",\"shape\":[75]}},\"selected\":{\"id\":\"658373f3-cf6b-4755-a823-e8fea4b945ae\",\"type\":\"Selection\"},\"selection_policy\":{\"id\":\"61f64d25-df18-41b7-88ce-bf9840968fd5\",\"type\":\"UnionRenderers\"}},\"id\":\"921af30c-e13f-45c3-8909-94b149f5ae1c\",\"type\":\"ColumnDataSource\"},{\"attributes\":{},\"id\":\"e9fdbfcf-6284-4c94-baaf-21510bd073d2\",\"type\":\"ResetTool\"},{\"attributes\":{},\"id\":\"ac039079-e84c-410c-a103-a0ade94934ac\",\"type\":\"PanTool\"},{\"attributes\":{},\"id\":\"74c4d4a5-0bd7-46db-939e-4d810744eaf3\",\"type\":\"SaveTool\"},{\"attributes\":{\"data_source\":{\"id\":\"03f8a477-1789-4efd-8d8e-88112195a242\",\"type\":\"ColumnDataSource\"},\"glyph\":{\"id\":\"cbbd5373-837d-461e-be91-77680fe3fb5a\",\"type\":\"Circle\"},\"hover_glyph\":null,\"muted_glyph\":null,\"nonselection_glyph\":{\"id\":\"fe96328b-c700-427a-a40d-9adcd095a95f\",\"type\":\"Circle\"},\"selection_glyph\":null,\"view\":{\"id\":\"bb4b2c3a-e2b4-4e6d-9c09-1811a507e99f\",\"type\":\"CDSView\"}},\"id\":\"b873450c-3df3-4bc2-b420-7d5e879b734c\",\"type\":\"GlyphRenderer\"},{\"attributes\":{\"source\":{\"id\":\"03f8a477-1789-4efd-8d8e-88112195a242\",\"type\":\"ColumnDataSource\"}},\"id\":\"bb4b2c3a-e2b4-4e6d-9c09-1811a507e99f\",\"type\":\"CDSView\"},{\"attributes\":{\"num_minor_ticks\":10},\"id\":\"1756c4c5-2dd4-4f45-91cb-d21025e04867\",\"type\":\"LogTicker\"},{\"attributes\":{\"callback\":null,\"data\":{\"x\":{\"__ndarray__\":\"qbz1RAFWQL/HDPqmq1dAv8Q6QnTfWkC/KtH4F99dQL/ImPUrjWBAv33udvHrYkC/zXdwb/dkQL9E0CPOm2ZAvw2y9030Z0C/DBvfZOtoQL8/pwX5g2lAv343HGCmaUC/4DzqVl1pQL8d78HVrmhAvxVaAR8UYkC/JpUutWcuQL9PWZ4eE90+v+J20vqErTu/4WFYvtbtNb+f8fQgn6Iov65yHs9Fngc/TbHUEYsdOj8i5uOSQPNJPwA4z3UrCks/Cz7kxK1RQD/uxRowR2AmP4C5N52mnhS/R7HsIr3KML8OQnuVq744v3KKM20nZz6/jqG9LSFuQb8HnigfoVhDv8R/LZ1jJkW/3P4EqLkqR7/tg3yiOcdJv6M0UwBDMk2/mV8PHlR/UL+QrK3sQ11Sv3104qI+OFS/nhcMRbEJVr9ccJMEsq1XvxmRd7Fh61i/+voOwLWzWb8CWWMj5AlavzHULW+R6lm/fLHGhFBRWb9On3cEqzpYvxr57BvApFa/0Qg1iVqPVL+mD6+8A/tRvxxNXyT8302/XofnIKbtRr8yl04wrFw+v/Ks2gC6oyq/YtTfTqUUFT9qDcLlsG05PxLBCboQlUc/vnUtuYSeUT88KOCTmdZXPxdKO7CCcV4/RurnlBq2Yj9gYikboWJmP/1TZbmXPWo/ag0lmzJFbj+6x9f3yDpxP96YjfItY3M/F7Vtq2iSdT/QnG1djrh3P3gmCxMaxXk/fCx8w12yez8eKvzHcYh9Px7oSSPrU38/IxbYM+mOgD9urkN5i3WBPzD6t/cjX4I/\",\"dtype\":\"float64\",\"shape\":[75]},\"y\":{\"__ndarray__\":\"GhExyth1ND/Sv8nbtpRIP2vylNV0PVE/aTum7souWD/At0SJ8fVgPw3Iuahxymc/MSNhhJWvcD/bTfBN02d3P2zb5nxnaoA/CD5h5MAGhz8NmeH1TyaQP+zrCsc9p5Y/LbKd76fGnz/bLW5ISEmmPww9YvTcQq8/JV2OstnstT8Er5Y7M8G+P0c+r3jqkcU/5h99k6ZBzj88bCIzFzjVP4enV8oyxN0//yH99nXg5D8qOpLLf0jtP5kqGJXUifQ/c9cS8kHP/D+/DpwzojQEQIEmwoanVwxA4lgXt9HgE0BSSZ2AJuIbQAMJih9jjiNA5q4l5INuK0AwTKYKRj0zQNv5fmq8/DpAaCJseHrtQkB/+zpwzoxKQM3MzMzMeFJAZmZmZmZqWEAAAAAAAFxeQM3MzMzMJmJAmpmZmZkfZUBmZmZmZhhoQDMzMzMzEWtAAAAAAAAKbkBmZmZmZoFwQM3MzMzM/XFAMzMzMzN6c0CamZmZmfZ0QAAAAAAAc3ZAZmZmZmbvd0DNzMzMzGt5QDMzMzMz6HpAmpmZmZlkfEAAAAAAAOF9QGZmZmZmXX9AZmZmZuZsgECamZmZGSuBQM3MzMxM6YFAAAAAAICngkAzMzMzs2WDQGZmZmbmI4RAmpmZmRnihEDNzMzMTKCFQAAAAACAXoZAMzMzM7Mch0BmZmZm5tqHQJqZmZkZmYhAzczMzExXiUAAAAAAgBWKQDMzMzOz04pAZmZmZuaRi0CamZmZGVCMQM3MzMxMDo1AAAAAAIDMjUAzMzMzs4qOQGZmZmbmSI9A\",\"dtype\":\"float64\",\"shape\":[75]}},\"selected\":{\"id\":\"0ace91dc-04e7-4b1e-80c3-ac6363346f83\",\"type\":\"Selection\"},\"selection_policy\":{\"id\":\"a3f6ecc5-b7cb-463f-8853-13cce78e53ce\",\"type\":\"UnionRenderers\"}},\"id\":\"03f8a477-1789-4efd-8d8e-88112195a242\",\"type\":\"ColumnDataSource\"},{\"attributes\":{\"axis_label\":\"pressure [mb]\",\"formatter\":{\"id\":\"e4c7eaf3-d23b-4de5-9b42-62b2c47eb477\",\"type\":\"LogTickFormatter\"},\"plot\":{\"id\":\"3ea961a2-f7e6-41a2-a286-18576144c9e3\",\"subtype\":\"Figure\",\"type\":\"Plot\"},\"ticker\":{\"id\":\"1756c4c5-2dd4-4f45-91cb-d21025e04867\",\"type\":\"LogTicker\"}},\"id\":\"94e52016-9451-4ca3-86dc-4e43dceadd86\",\"type\":\"LogAxis\"},{\"attributes\":{\"callback\":null,\"end\":0.01,\"start\":1020},\"id\":\"e5265118-b330-4dc3-b46e-4dd128a16208\",\"type\":\"Range1d\"},{\"attributes\":{\"line_alpha\":0.3,\"line_color\":\"#377eb8\",\"line_width\":2,\"x\":{\"field\":\"x\"},\"y\":{\"field\":\"y\"}},\"id\":\"1be449f4-19c9-43e9-af56-302fa28b9859\",\"type\":\"Line\"},{\"attributes\":{\"children\":[{\"id\":\"584c2fb6-d657-4d60-ac90-f0bf80b2bbd7\",\"type\":\"Row\"}]},\"id\":\"4b2ac79b-5fc4-49c7-82a7-96f31f6189e0\",\"type\":\"Column\"},{\"attributes\":{\"line_alpha\":0.1,\"line_color\":\"#1f77b4\",\"line_width\":2,\"x\":{\"field\":\"x\"},\"y\":{\"field\":\"y\"}},\"id\":\"3fdfbb3c-874f-4f53-ab23-92769e362f0d\",\"type\":\"Line\"},{\"attributes\":{\"data_source\":{\"id\":\"60cc3561-cba9-4449-8866-dbf4eac56e99\",\"type\":\"ColumnDataSource\"},\"glyph\":{\"id\":\"1be449f4-19c9-43e9-af56-302fa28b9859\",\"type\":\"Line\"},\"hover_glyph\":null,\"muted_glyph\":null,\"nonselection_glyph\":{\"id\":\"3fdfbb3c-874f-4f53-ab23-92769e362f0d\",\"type\":\"Line\"},\"selection_glyph\":null,\"view\":{\"id\":\"67946866-5c5f-4fa9-a7f2-c36229026290\",\"type\":\"CDSView\"}},\"id\":\"c845ca51-ac9c-4049-b065-068fff63f3e9\",\"type\":\"GlyphRenderer\"},{\"attributes\":{\"source\":{\"id\":\"60cc3561-cba9-4449-8866-dbf4eac56e99\",\"type\":\"ColumnDataSource\"}},\"id\":\"67946866-5c5f-4fa9-a7f2-c36229026290\",\"type\":\"CDSView\"},{\"attributes\":{\"plot\":null,\"text\":\"\"},\"id\":\"2c1ebbcc-e380-4875-b752-15d4c33371a2\",\"type\":\"Title\"},{\"attributes\":{\"children\":[{\"id\":\"d568da95-588c-4329-a482-39449e803ed9\",\"subtype\":\"Figure\",\"type\":\"Plot\"},{\"id\":\"3ea961a2-f7e6-41a2-a286-18576144c9e3\",\"subtype\":\"Figure\",\"type\":\"Plot\"}]},\"id\":\"584c2fb6-d657-4d60-ac90-f0bf80b2bbd7\",\"type\":\"Row\"},{\"attributes\":{\"label\":{\"value\":\"CRD\"},\"renderers\":[{\"id\":\"b07365ca-d6c4-4ad6-8974-6c0c1b332bfc\",\"type\":\"GlyphRenderer\"},{\"id\":\"4922bfef-8bff-47fd-92ef-0c24facf9fe0\",\"type\":\"GlyphRenderer\"}]},\"id\":\"c07fe74c-c628-465e-8aac-159f22cbd785\",\"type\":\"LegendItem\"},{\"attributes\":{\"line_alpha\":0.1,\"line_color\":\"#1f77b4\",\"line_width\":1.5,\"x\":{\"field\":\"x\"},\"y\":{\"field\":\"y\"}},\"id\":\"e0247d59-42a3-43a2-b869-8a866cadaa15\",\"type\":\"Line\"},{\"attributes\":{},\"id\":\"a3f6ecc5-b7cb-463f-8853-13cce78e53ce\",\"type\":\"UnionRenderers\"},{\"attributes\":{\"label\":{\"value\":\"WGT igg=1\"},\"renderers\":[{\"id\":\"b394a337-5dc5-43a0-aad2-f5a0365f3a6a\",\"type\":\"GlyphRenderer\"},{\"id\":\"88fb9316-c20b-4c0a-832d-c205b301b137\",\"type\":\"GlyphRenderer\"}]},\"id\":\"56edd6d5-fcb8-4a84-acef-27de882f884e\",\"type\":\"LegendItem\"},{\"attributes\":{\"callback\":null,\"data\":{\"x\":{\"__ndarray__\":\"kdmRVY6jQr/hXYewEKZCv0hu1+Y9q0K/jviHlIawQr+s7MQQmrVCv71wjvRzukK/wUg4XxG/Qr+Z+SjLbsNCv7rFk3WKx0K/YtA8B2LLQr/4esF99M5Cv2KkiqRC0kK/GolOBE/VQr/dMYZtQdhCv8P3GChf3UK/iEYJT+fQQr/sq1Jg+l5Cv0oTTtkcO0G/3IuZJKgCPr+9frPABDs2v7L+7lF3CiO/ODfdY0ZHJD+TfyQ29CpAP0fjMDX0M0E/YLvT/YM9MD91DbMw4un8vhSUCgS3wS6/ws802c/kOL+sKX79FUk/v8HnkQ7840G/AwK8mACsQ798q3sJcUNFv1HzWgoY2Ea/FvWCSPu0SL+Y79fEMjlLv65UGL0jlU6/QrzA+UwuUb9uNMr7OwlTv8WlHYyO41S/QKKoM0CwVr9DzMDg1VRYvxnSSbzhmlm/sTPWFWtsWr9xfWnkS9Vavy8Z9TfC1Vq/cMz8a3xUWr+IwPLX1E9Zv3onXJTEzle/S3VkWe7UVb8ZbPrVm1ZTv9WufQjAdFC//YF4oxAbSr9EqsrsY21Cv4siotv9+DO/2FE3qzpk+r4WCo15C2IyP5ojUiAOK0Q/KsS8MqPrTz+9VN4h1CtWP77SCq/D4Vw/R6JUWVT/YT9EU8qwsLVlPyJCzPv5o2k//NyNnMXGbT88MiKFNQRxPyZ3sOpZPHM/xdI1C6N9dT81LLxG6LJ3P7cyj+K223k/uBNFeBblez/Uhe2qLdx9P409RjyDzX8/lV4eoRTcgD9/Dq/ICNiBPzg2UFuJ0oI/\",\"dtype\":\"float64\",\"shape\":[75]},\"y\":{\"__ndarray__\":\"GhExyth1ND/Sv8nbtpRIP2vylNV0PVE/aTum7souWD/At0SJ8fVgPw3Iuahxymc/MSNhhJWvcD/bTfBN02d3P2zb5nxnaoA/CD5h5MAGhz8NmeH1TyaQP+zrCsc9p5Y/LbKd76fGnz/bLW5ISEmmPww9YvTcQq8/JV2OstnstT8Er5Y7M8G+P0c+r3jqkcU/5h99k6ZBzj88bCIzFzjVP4enV8oyxN0//yH99nXg5D8qOpLLf0jtP5kqGJXUifQ/c9cS8kHP/D+/DpwzojQEQIEmwoanVwxA4lgXt9HgE0BSSZ2AJuIbQAMJih9jjiNA5q4l5INuK0AwTKYKRj0zQNv5fmq8/DpAaCJseHrtQkB/+zpwzoxKQM3MzMzMeFJAZmZmZmZqWEAAAAAAAFxeQM3MzMzMJmJAmpmZmZkfZUBmZmZmZhhoQDMzMzMzEWtAAAAAAAAKbkBmZmZmZoFwQM3MzMzM/XFAMzMzMzN6c0CamZmZmfZ0QAAAAAAAc3ZAZmZmZmbvd0DNzMzMzGt5QDMzMzMz6HpAmpmZmZlkfEAAAAAAAOF9QGZmZmZmXX9AZmZmZuZsgECamZmZGSuBQM3MzMxM6YFAAAAAAICngkAzMzMzs2WDQGZmZmbmI4RAmpmZmRnihEDNzMzMTKCFQAAAAACAXoZAMzMzM7Mch0BmZmZm5tqHQJqZmZkZmYhAzczMzExXiUAAAAAAgBWKQDMzMzOz04pAZmZmZuaRi0CamZmZGVCMQM3MzMxMDo1AAAAAAIDMjUAzMzMzs4qOQGZmZmbmSI9A\",\"dtype\":\"float64\",\"shape\":[75]}},\"selected\":{\"id\":\"23acceda-2e0e-4501-9bf7-872579cbf783\",\"type\":\"Selection\"},\"selection_policy\":{\"id\":\"22cdc280-76f4-4d66-82fd-05c636fc1b4b\",\"type\":\"UnionRenderers\"}},\"id\":\"0e839be4-1158-46c0-8801-0c995a01cdb2\",\"type\":\"ColumnDataSource\"},{\"attributes\":{},\"id\":\"5f3e7a26-577e-4558-985d-8d81ea3157aa\",\"type\":\"Selection\"},{\"attributes\":{\"label\":{\"value\":\"WGT igg=10\"},\"renderers\":[{\"id\":\"7abd85f2-5df2-454d-9f64-d6b165b5e2b9\",\"type\":\"GlyphRenderer\"},{\"id\":\"c845ca51-ac9c-4049-b065-068fff63f3e9\",\"type\":\"GlyphRenderer\"}]},\"id\":\"5669136e-3d3b-4d3a-85e7-1a3e627a6cd4\",\"type\":\"LegendItem\"},{\"attributes\":{\"ticker\":null},\"id\":\"e4c7eaf3-d23b-4de5-9b42-62b2c47eb477\",\"type\":\"LogTickFormatter\"},{\"attributes\":{},\"id\":\"bc2c5760-dc85-48be-9b63-e8ac4012faaf\",\"type\":\"BasicTickFormatter\"},{\"attributes\":{},\"id\":\"d9222661-65d9-4bc2-8c48-f7bc6d86c1ea\",\"type\":\"BasicTickFormatter\"},{\"attributes\":{},\"id\":\"0ace91dc-04e7-4b1e-80c3-ac6363346f83\",\"type\":\"Selection\"},{\"attributes\":{\"data_source\":{\"id\":\"3600ab92-1ca4-4819-ba2e-a8c37e8c9192\",\"type\":\"ColumnDataSource\"},\"glyph\":{\"id\":\"b924fdc3-6cd0-4bd1-ae22-cce21d289257\",\"type\":\"Line\"},\"hover_glyph\":null,\"muted_glyph\":null,\"nonselection_glyph\":{\"id\":\"e0247d59-42a3-43a2-b869-8a866cadaa15\",\"type\":\"Line\"},\"selection_glyph\":null,\"view\":{\"id\":\"0b76f4f6-cabe-4d57-bef4-43ec2172a0e8\",\"type\":\"CDSView\"}},\"id\":\"4922bfef-8bff-47fd-92ef-0c24facf9fe0\",\"type\":\"GlyphRenderer\"},{\"attributes\":{},\"id\":\"27c07b20-c605-4236-b6db-23723dea03a9\",\"type\":\"BasicTickFormatter\"},{\"attributes\":{\"plot\":null,\"text\":\"\"},\"id\":\"14dab985-f9b4-4e16-a6e6-974512bb70e0\",\"type\":\"Title\"},{\"attributes\":{},\"id\":\"57bf541b-8a6f-4077-9dee-56e0cb8d434e\",\"type\":\"UnionRenderers\"},{\"attributes\":{},\"id\":\"c832dcf5-a476-4166-9d82-7d350ce854a8\",\"type\":\"UnionRenderers\"},{\"attributes\":{\"line_color\":\"#4daf4a\",\"line_width\":1.5,\"x\":{\"field\":\"x\"},\"y\":{\"field\":\"y\"}},\"id\":\"b924fdc3-6cd0-4bd1-ae22-cce21d289257\",\"type\":\"Line\"},{\"attributes\":{},\"id\":\"823ee1aa-df0b-498a-9629-ce2b2b665a46\",\"type\":\"UnionRenderers\"},{\"attributes\":{},\"id\":\"6fe6bd3c-8913-4c26-9766-379711f415b1\",\"type\":\"Selection\"},{\"attributes\":{\"data_source\":{\"id\":\"a2b0232c-b401-4f0e-9fd7-0ff0022a4bac\",\"type\":\"ColumnDataSource\"},\"glyph\":{\"id\":\"4792e740-cec6-4b80-aca5-124e60f281ca\",\"type\":\"Circle\"},\"hover_glyph\":null,\"muted_glyph\":null,\"nonselection_glyph\":{\"id\":\"5fabc5b7-d70b-40f6-a271-ff55dad8e86a\",\"type\":\"Circle\"},\"selection_glyph\":null,\"view\":{\"id\":\"6fed6648-2068-49a9-95e7-b838e9316ce4\",\"type\":\"CDSView\"}},\"id\":\"b07365ca-d6c4-4ad6-8974-6c0c1b332bfc\",\"type\":\"GlyphRenderer\"},{\"attributes\":{},\"id\":\"3bce47ec-07cb-47a5-a3a7-9476dd01e9f7\",\"type\":\"UnionRenderers\"},{\"attributes\":{},\"id\":\"551f29a4-26db-4c33-b407-946d54b70ffb\",\"type\":\"Selection\"},{\"attributes\":{},\"id\":\"d304562e-5ccf-490d-8d90-7d254039575d\",\"type\":\"Selection\"},{\"attributes\":{},\"id\":\"22cdc280-76f4-4d66-82fd-05c636fc1b4b\",\"type\":\"UnionRenderers\"},{\"attributes\":{},\"id\":\"23acceda-2e0e-4501-9bf7-872579cbf783\",\"type\":\"Selection\"},{\"attributes\":{},\"id\":\"fc7b15ac-a62b-423d-ad6f-75e03287b8c4\",\"type\":\"UnionRenderers\"},{\"attributes\":{},\"id\":\"06d4bbb2-2e76-4e41-a536-36181f4ccf57\",\"type\":\"Selection\"},{\"attributes\":{},\"id\":\"147851f2-037d-4f00-ab6e-132d05d742b3\",\"type\":\"UnionRenderers\"},{\"attributes\":{},\"id\":\"51eeed6f-e89e-420a-863e-67cd7bc763f2\",\"type\":\"UnionRenderers\"},{\"attributes\":{},\"id\":\"3dee91a5-b94f-4237-b329-64edd3f6e5a5\",\"type\":\"Selection\"},{\"attributes\":{},\"id\":\"70e28af9-d891-4c9f-a2ea-aa60a217674e\",\"type\":\"UnionRenderers\"},{\"attributes\":{\"tools\":[{\"id\":\"ac039079-e84c-410c-a103-a0ade94934ac\",\"type\":\"PanTool\"},{\"id\":\"51d2edf4-7b76-4b5f-b17e-2a24aef2d7f3\",\"type\":\"WheelZoomTool\"},{\"id\":\"a83b123c-d2d5-43d9-bb05-2fddf562eaba\",\"type\":\"BoxZoomTool\"},{\"id\":\"74c4d4a5-0bd7-46db-939e-4d810744eaf3\",\"type\":\"SaveTool\"},{\"id\":\"e9fdbfcf-6284-4c94-baaf-21510bd073d2\",\"type\":\"ResetTool\"},{\"id\":\"2d28b038-c0e7-4914-9a65-c60ce029e5f3\",\"type\":\"HelpTool\"},{\"id\":\"6ce406d1-24a8-4511-aa4a-8341f10b49f9\",\"type\":\"PanTool\"},{\"id\":\"4e99afc1-228f-45e2-84f6-b78ce32e6990\",\"type\":\"WheelZoomTool\"},{\"id\":\"207bb388-8aba-41d8-851e-88654a7d65be\",\"type\":\"BoxZoomTool\"},{\"id\":\"4295e972-68b4-4265-bfe8-4954d5aebed5\",\"type\":\"SaveTool\"},{\"id\":\"24827a9b-8063-4db0-a4dd-80a3b51718db\",\"type\":\"ResetTool\"},{\"id\":\"f8d6f25a-a797-4770-95dd-65020b8d4850\",\"type\":\"HelpTool\"}]},\"id\":\"04885472-3e90-458a-a316-8d2e14e87e4b\",\"type\":\"ProxyToolbar\"},{\"attributes\":{},\"id\":\"61f64d25-df18-41b7-88ce-bf9840968fd5\",\"type\":\"UnionRenderers\"},{\"attributes\":{\"toolbar\":{\"id\":\"04885472-3e90-458a-a316-8d2e14e87e4b\",\"type\":\"ProxyToolbar\"},\"toolbar_location\":\"above\"},\"id\":\"9393d4b6-8056-4f98-a219-67bb834f8fcb\",\"type\":\"ToolbarBox\"},{\"attributes\":{},\"id\":\"0869afa2-7521-469e-b42b-2cb020dc5bdd\",\"type\":\"Selection\"},{\"attributes\":{},\"id\":\"a513851a-a7bc-456e-9b3f-3d8fa99d2cf7\",\"type\":\"UnionRenderers\"},{\"attributes\":{\"children\":[{\"id\":\"9393d4b6-8056-4f98-a219-67bb834f8fcb\",\"type\":\"ToolbarBox\"},{\"id\":\"4b2ac79b-5fc4-49c7-82a7-96f31f6189e0\",\"type\":\"Column\"}]},\"id\":\"f763c48f-9c55-4239-a546-f3dff2125d59\",\"type\":\"Column\"},{\"attributes\":{\"source\":{\"id\":\"a2b0232c-b401-4f0e-9fd7-0ff0022a4bac\",\"type\":\"ColumnDataSource\"}},\"id\":\"6fed6648-2068-49a9-95e7-b838e9316ce4\",\"type\":\"CDSView\"},{\"attributes\":{\"fill_alpha\":{\"value\":0.1},\"fill_color\":{\"value\":\"#1f77b4\"},\"line_alpha\":{\"value\":0.1},\"line_color\":{\"value\":\"#1f77b4\"},\"x\":{\"field\":\"x\"},\"y\":{\"field\":\"y\"}},\"id\":\"5fabc5b7-d70b-40f6-a271-ff55dad8e86a\",\"type\":\"Circle\"},{\"attributes\":{\"line_alpha\":0.1,\"line_color\":\"#1f77b4\",\"line_width\":3,\"x\":{\"field\":\"x\"},\"y\":{\"field\":\"y\"}},\"id\":\"2ac7dd97-ab01-4c8a-8261-a89bbe4ddf77\",\"type\":\"Line\"},{\"attributes\":{\"bottom_units\":\"screen\",\"fill_alpha\":{\"value\":0.5},\"fill_color\":{\"value\":\"lightgrey\"},\"left_units\":\"screen\",\"level\":\"overlay\",\"line_alpha\":{\"value\":1.0},\"line_color\":{\"value\":\"black\"},\"line_dash\":[4,4],\"line_width\":{\"value\":2},\"plot\":null,\"render_mode\":\"css\",\"right_units\":\"screen\",\"top_units\":\"screen\"},\"id\":\"61d9474b-babb-4d5d-b69f-a7b2c6030ae1\",\"type\":\"BoxAnnotation\"},{\"attributes\":{},\"id\":\"658373f3-cf6b-4755-a823-e8fea4b945ae\",\"type\":\"Selection\"},{\"attributes\":{\"callback\":null,\"data\":{\"x\":{\"__ndarray__\":\"dHlmYjpAQb8N3/bQu0JBv7wMjvvqR0G/a2vLAzxNQb8A54UsYVJBv1LJi19TV0G/O9QDSBFcQb+qi0AQmGBBv3NS/a3lZEG/KOtvSPhoQb/jdi8Uz2xBv4E0JOJqcEG/WECBVs5zQb9cmfJMKHdBv94PMwHZfUG/X8v7KIx4Qb8zRmOwFxtBvwICEkGFHkC/dlitgMVQPL+MNpHOcmU1v9bmb+yrDyS/h/CuAbFvHj9D9CdD5JA7P/FV5Rn4bD0/L0ZMBY0pKj/oeWzstBQJv15FDWsynS6/CaKzvqfSN7/ehXQ92Yc9v4wXF4poxUC/UBmWlfVcQr9FzIKaP8hDvxgtUEFKNkW/VILqttzrRr8HRZ+MTjlJvyOn8AozT0y/+5EVxgLKT7/QBh9VlJxRv92WcyrTT1O/8u7s1cX5VL8fbg8K335Wv7BY+De+r1e//4c//Nh6WL88iAvrx+BYv0g1vL6u3Vi/26s39JtsWL/Xx91Fs4lXvzXTA/9QMla/wrZ1G0NlVL+WkGSe6SFSv1WFlkCu3E6/vuoexRmiSL+C4HdwTJ9Bv7wXybVssjO/cjQZyS/tBL9yRUsoTAUwP1+4cAjCHEI/cTvjzrn/TD/vpajvR1VUP4C96EmejVo/Y1v8KTKTYD8EO/AF/A5kPzh2HSqFuWc/hG+GyBWRaz/GgMVSRpJvP21BU5Ti2nE/w+/lCNn1cz/2w44aoQx2P8B3lDRKEXg/LVWTL8L+eT++qG6Aatt7PyOeB5dQsX0/+NvFVZiHfz/EMNGw+bCAP5flUKcBoYE/\",\"dtype\":\"float64\",\"shape\":[75]},\"y\":{\"__ndarray__\":\"GhExyth1ND/Sv8nbtpRIP2vylNV0PVE/aTum7souWD/At0SJ8fVgPw3Iuahxymc/MSNhhJWvcD/bTfBN02d3P2zb5nxnaoA/CD5h5MAGhz8NmeH1TyaQP+zrCsc9p5Y/LbKd76fGnz/bLW5ISEmmPww9YvTcQq8/JV2OstnstT8Er5Y7M8G+P0c+r3jqkcU/5h99k6ZBzj88bCIzFzjVP4enV8oyxN0//yH99nXg5D8qOpLLf0jtP5kqGJXUifQ/c9cS8kHP/D+/DpwzojQEQIEmwoanVwxA4lgXt9HgE0BSSZ2AJuIbQAMJih9jjiNA5q4l5INuK0AwTKYKRj0zQNv5fmq8/DpAaCJseHrtQkB/+zpwzoxKQM3MzMzMeFJAZmZmZmZqWEAAAAAAAFxeQM3MzMzMJmJAmpmZmZkfZUBmZmZmZhhoQDMzMzMzEWtAAAAAAAAKbkBmZmZmZoFwQM3MzMzM/XFAMzMzMzN6c0CamZmZmfZ0QAAAAAAAc3ZAZmZmZmbvd0DNzMzMzGt5QDMzMzMz6HpAmpmZmZlkfEAAAAAAAOF9QGZmZmZmXX9AZmZmZuZsgECamZmZGSuBQM3MzMxM6YFAAAAAAICngkAzMzMzs2WDQGZmZmbmI4RAmpmZmRnihEDNzMzMTKCFQAAAAACAXoZAMzMzM7Mch0BmZmZm5tqHQJqZmZkZmYhAzczMzExXiUAAAAAAgBWKQDMzMzOz04pAZmZmZuaRi0CamZmZGVCMQM3MzMxMDo1AAAAAAIDMjUAzMzMzs4qOQGZmZmbmSI9A\",\"dtype\":\"float64\",\"shape\":[75]}},\"selected\":{\"id\":\"551f29a4-26db-4c33-b407-946d54b70ffb\",\"type\":\"Selection\"},\"selection_policy\":{\"id\":\"fc7b15ac-a62b-423d-ad6f-75e03287b8c4\",\"type\":\"UnionRenderers\"}},\"id\":\"78893ee4-cba4-43de-a5ff-3de784afa754\",\"type\":\"ColumnDataSource\"},{\"attributes\":{\"fill_alpha\":{\"value\":0.1},\"fill_color\":{\"value\":\"#1f77b4\"},\"line_alpha\":{\"value\":0.1},\"line_color\":{\"value\":\"#1f77b4\"},\"x\":{\"field\":\"x\"},\"y\":{\"field\":\"y\"}},\"id\":\"fe96328b-c700-427a-a40d-9adcd095a95f\",\"type\":\"Circle\"},{\"attributes\":{\"line_alpha\":0.6,\"line_color\":\"#984ea3\",\"line_width\":3,\"x\":{\"field\":\"x\"},\"y\":{\"field\":\"y\"}},\"id\":\"e1b48518-7c53-4fcf-8ced-aba6ae7be644\",\"type\":\"Line\"},{\"attributes\":{\"callback\":null,\"data\":{\"x\":{\"__ndarray__\":\"qbz1RAFWQL/HDPqmq1dAv8Q6QnTfWkC/KtH4F99dQL/ImPUrjWBAv33udvHrYkC/zXdwb/dkQL9E0CPOm2ZAvw2y9030Z0C/DBvfZOtoQL8/pwX5g2lAv343HGCmaUC/4DzqVl1pQL8d78HVrmhAvxVaAR8UYkC/JpUutWcuQL9PWZ4eE90+v+J20vqErTu/4WFYvtbtNb+f8fQgn6Iov65yHs9Fngc/TbHUEYsdOj8i5uOSQPNJPwA4z3UrCks/Cz7kxK1RQD/uxRowR2AmP4C5N52mnhS/R7HsIr3KML8OQnuVq744v3KKM20nZz6/jqG9LSFuQb8HnigfoVhDv8R/LZ1jJkW/3P4EqLkqR7/tg3yiOcdJv6M0UwBDMk2/mV8PHlR/UL+QrK3sQ11Sv3104qI+OFS/nhcMRbEJVr9ccJMEsq1XvxmRd7Fh61i/+voOwLWzWb8CWWMj5AlavzHULW+R6lm/fLHGhFBRWb9On3cEqzpYvxr57BvApFa/0Qg1iVqPVL+mD6+8A/tRvxxNXyT8302/XofnIKbtRr8yl04wrFw+v/Ks2gC6oyq/YtTfTqUUFT9qDcLlsG05PxLBCboQlUc/vnUtuYSeUT88KOCTmdZXPxdKO7CCcV4/RurnlBq2Yj9gYikboWJmP/1TZbmXPWo/ag0lmzJFbj+6x9f3yDpxP96YjfItY3M/F7Vtq2iSdT/QnG1djrh3P3gmCxMaxXk/fCx8w12yez8eKvzHcYh9Px7oSSPrU38/IxbYM+mOgD9urkN5i3WBPzD6t/cjX4I/\",\"dtype\":\"float64\",\"shape\":[75]},\"y\":{\"__ndarray__\":\"GhExyth1ND/Sv8nbtpRIP2vylNV0PVE/aTum7souWD/At0SJ8fVgPw3Iuahxymc/MSNhhJWvcD/bTfBN02d3P2zb5nxnaoA/CD5h5MAGhz8NmeH1TyaQP+zrCsc9p5Y/LbKd76fGnz/bLW5ISEmmPww9YvTcQq8/JV2OstnstT8Er5Y7M8G+P0c+r3jqkcU/5h99k6ZBzj88bCIzFzjVP4enV8oyxN0//yH99nXg5D8qOpLLf0jtP5kqGJXUifQ/c9cS8kHP/D+/DpwzojQEQIEmwoanVwxA4lgXt9HgE0BSSZ2AJuIbQAMJih9jjiNA5q4l5INuK0AwTKYKRj0zQNv5fmq8/DpAaCJseHrtQkB/+zpwzoxKQM3MzMzMeFJAZmZmZmZqWEAAAAAAAFxeQM3MzMzMJmJAmpmZmZkfZUBmZmZmZhhoQDMzMzMzEWtAAAAAAAAKbkBmZmZmZoFwQM3MzMzM/XFAMzMzMzN6c0CamZmZmfZ0QAAAAAAAc3ZAZmZmZmbvd0DNzMzMzGt5QDMzMzMz6HpAmpmZmZlkfEAAAAAAAOF9QGZmZmZmXX9AZmZmZuZsgECamZmZGSuBQM3MzMxM6YFAAAAAAICngkAzMzMzs2WDQGZmZmbmI4RAmpmZmRnihEDNzMzMTKCFQAAAAACAXoZAMzMzM7Mch0BmZmZm5tqHQJqZmZkZmYhAzczMzExXiUAAAAAAgBWKQDMzMzOz04pAZmZmZuaRi0CamZmZGVCMQM3MzMxMDo1AAAAAAIDMjUAzMzMzs4qOQGZmZmbmSI9A\",\"dtype\":\"float64\",\"shape\":[75]}},\"selected\":{\"id\":\"06d4bbb2-2e76-4e41-a536-36181f4ccf57\",\"type\":\"Selection\"},\"selection_policy\":{\"id\":\"147851f2-037d-4f00-ab6e-132d05d742b3\",\"type\":\"UnionRenderers\"}},\"id\":\"3600ab92-1ca4-4819-ba2e-a8c37e8c9192\",\"type\":\"ColumnDataSource\"},{\"attributes\":{\"data_source\":{\"id\":\"b4586930-cfc0-4018-bc2c-9714aed90791\",\"type\":\"ColumnDataSource\"},\"glyph\":{\"id\":\"e1b48518-7c53-4fcf-8ced-aba6ae7be644\",\"type\":\"Line\"},\"hover_glyph\":null,\"muted_glyph\":null,\"nonselection_glyph\":{\"id\":\"2ac7dd97-ab01-4c8a-8261-a89bbe4ddf77\",\"type\":\"Line\"},\"selection_glyph\":null,\"view\":{\"id\":\"36a77995-7c7d-4996-b584-d97faae2187b\",\"type\":\"CDSView\"}},\"id\":\"88fb9316-c20b-4c0a-832d-c205b301b137\",\"type\":\"GlyphRenderer\"},{\"attributes\":{},\"id\":\"2d28b038-c0e7-4914-9a65-c60ce029e5f3\",\"type\":\"HelpTool\"},{\"attributes\":{\"callback\":null,\"data\":{\"x\":{\"__ndarray__\":\"dHlmYjpAQb8N3/bQu0JBv7wMjvvqR0G/a2vLAzxNQb8A54UsYVJBv1LJi19TV0G/O9QDSBFcQb+qi0AQmGBBv3NS/a3lZEG/KOtvSPhoQb/jdi8Uz2xBv4E0JOJqcEG/WECBVs5zQb9cmfJMKHdBv94PMwHZfUG/X8v7KIx4Qb8zRmOwFxtBvwICEkGFHkC/dlitgMVQPL+MNpHOcmU1v9bmb+yrDyS/h/CuAbFvHj9D9CdD5JA7P/FV5Rn4bD0/L0ZMBY0pKj/oeWzstBQJv15FDWsynS6/CaKzvqfSN7/ehXQ92Yc9v4wXF4poxUC/UBmWlfVcQr9FzIKaP8hDvxgtUEFKNkW/VILqttzrRr8HRZ+MTjlJvyOn8AozT0y/+5EVxgLKT7/QBh9VlJxRv92WcyrTT1O/8u7s1cX5VL8fbg8K335Wv7BY+De+r1e//4c//Nh6WL88iAvrx+BYv0g1vL6u3Vi/26s39JtsWL/Xx91Fs4lXvzXTA/9QMla/wrZ1G0NlVL+WkGSe6SFSv1WFlkCu3E6/vuoexRmiSL+C4HdwTJ9Bv7wXybVssjO/cjQZyS/tBL9yRUsoTAUwP1+4cAjCHEI/cTvjzrn/TD/vpajvR1VUP4C96EmejVo/Y1v8KTKTYD8EO/AF/A5kPzh2HSqFuWc/hG+GyBWRaz/GgMVSRpJvP21BU5Ti2nE/w+/lCNn1cz/2w44aoQx2P8B3lDRKEXg/LVWTL8L+eT++qG6Aatt7PyOeB5dQsX0/+NvFVZiHfz/EMNGw+bCAP5flUKcBoYE/\",\"dtype\":\"float64\",\"shape\":[75]},\"y\":{\"__ndarray__\":\"GhExyth1ND/Sv8nbtpRIP2vylNV0PVE/aTum7souWD/At0SJ8fVgPw3Iuahxymc/MSNhhJWvcD/bTfBN02d3P2zb5nxnaoA/CD5h5MAGhz8NmeH1TyaQP+zrCsc9p5Y/LbKd76fGnz/bLW5ISEmmPww9YvTcQq8/JV2OstnstT8Er5Y7M8G+P0c+r3jqkcU/5h99k6ZBzj88bCIzFzjVP4enV8oyxN0//yH99nXg5D8qOpLLf0jtP5kqGJXUifQ/c9cS8kHP/D+/DpwzojQEQIEmwoanVwxA4lgXt9HgE0BSSZ2AJuIbQAMJih9jjiNA5q4l5INuK0AwTKYKRj0zQNv5fmq8/DpAaCJseHrtQkB/+zpwzoxKQM3MzMzMeFJAZmZmZmZqWEAAAAAAAFxeQM3MzMzMJmJAmpmZmZkfZUBmZmZmZhhoQDMzMzMzEWtAAAAAAAAKbkBmZmZmZoFwQM3MzMzM/XFAMzMzMzN6c0CamZmZmfZ0QAAAAAAAc3ZAZmZmZmbvd0DNzMzMzGt5QDMzMzMz6HpAmpmZmZlkfEAAAAAAAOF9QGZmZmZmXX9AZmZmZuZsgECamZmZGSuBQM3MzMxM6YFAAAAAAICngkAzMzMzs2WDQGZmZmbmI4RAmpmZmRnihEDNzMzMTKCFQAAAAACAXoZAMzMzM7Mch0BmZmZm5tqHQJqZmZkZmYhAzczMzExXiUAAAAAAgBWKQDMzMzOz04pAZmZmZuaRi0CamZmZGVCMQM3MzMxMDo1AAAAAAIDMjUAzMzMzs4qOQGZmZmbmSI9A\",\"dtype\":\"float64\",\"shape\":[75]}},\"selected\":{\"id\":\"0869afa2-7521-469e-b42b-2cb020dc5bdd\",\"type\":\"Selection\"},\"selection_policy\":{\"id\":\"a513851a-a7bc-456e-9b3f-3d8fa99d2cf7\",\"type\":\"UnionRenderers\"}},\"id\":\"60cc3561-cba9-4449-8866-dbf4eac56e99\",\"type\":\"ColumnDataSource\"},{\"attributes\":{\"source\":{\"id\":\"b4586930-cfc0-4018-bc2c-9714aed90791\",\"type\":\"ColumnDataSource\"}},\"id\":\"36a77995-7c7d-4996-b584-d97faae2187b\",\"type\":\"CDSView\"},{\"attributes\":{\"source\":{\"id\":\"78893ee4-cba4-43de-a5ff-3de784afa754\",\"type\":\"ColumnDataSource\"}},\"id\":\"566a44c8-0fec-4427-b805-c813637de945\",\"type\":\"CDSView\"},{\"attributes\":{\"source\":{\"id\":\"3600ab92-1ca4-4819-ba2e-a8c37e8c9192\",\"type\":\"ColumnDataSource\"}},\"id\":\"0b76f4f6-cabe-4d57-bef4-43ec2172a0e8\",\"type\":\"CDSView\"},{\"attributes\":{\"source\":{\"id\":\"0e839be4-1158-46c0-8801-0c995a01cdb2\",\"type\":\"ColumnDataSource\"}},\"id\":\"7cac81f9-b205-42e1-8369-1d0bfcb64ed8\",\"type\":\"CDSView\"},{\"attributes\":{\"fill_alpha\":{\"value\":0.7},\"fill_color\":{\"value\":\"#377eb8\"},\"line_alpha\":{\"value\":0.7},\"line_color\":{\"value\":\"#377eb8\"},\"x\":{\"field\":\"x\"},\"y\":{\"field\":\"y\"}},\"id\":\"67c46099-31c4-4715-b997-e4749b92fd40\",\"type\":\"Triangle\"},{\"attributes\":{\"fill_alpha\":{\"value\":0.7},\"fill_color\":{\"value\":\"#4daf4a\"},\"line_alpha\":{\"value\":0.7},\"line_color\":{\"value\":\"#4daf4a\"},\"x\":{\"field\":\"x\"},\"y\":{\"field\":\"y\"}},\"id\":\"4792e740-cec6-4b80-aca5-124e60f281ca\",\"type\":\"Circle\"},{\"attributes\":{\"fill_alpha\":{\"value\":0.7},\"fill_color\":{\"value\":\"#984ea3\"},\"line_alpha\":{\"value\":0.7},\"line_color\":{\"value\":\"#984ea3\"},\"x\":{\"field\":\"x\"},\"y\":{\"field\":\"y\"}},\"id\":\"d9694beb-ad66-451f-8707-38414a4ac386\",\"type\":\"Square\"},{\"attributes\":{\"data_source\":{\"id\":\"0e839be4-1158-46c0-8801-0c995a01cdb2\",\"type\":\"ColumnDataSource\"},\"glyph\":{\"id\":\"d9694beb-ad66-451f-8707-38414a4ac386\",\"type\":\"Square\"},\"hover_glyph\":null,\"muted_glyph\":null,\"nonselection_glyph\":{\"id\":\"1b98be82-b14b-4e90-a5c8-d0a7ffecd414\",\"type\":\"Square\"},\"selection_glyph\":null,\"view\":{\"id\":\"7cac81f9-b205-42e1-8369-1d0bfcb64ed8\",\"type\":\"CDSView\"}},\"id\":\"b394a337-5dc5-43a0-aad2-f5a0365f3a6a\",\"type\":\"GlyphRenderer\"},{\"attributes\":{\"callback\":null,\"data\":{\"x\":{\"__ndarray__\":\"kdmRVY6jQr/hXYewEKZCv0hu1+Y9q0K/jviHlIawQr+s7MQQmrVCv71wjvRzukK/wUg4XxG/Qr+Z+SjLbsNCv7rFk3WKx0K/YtA8B2LLQr/4esF99M5Cv2KkiqRC0kK/GolOBE/VQr/dMYZtQdhCv8P3GChf3UK/iEYJT+fQQr/sq1Jg+l5Cv0oTTtkcO0G/3IuZJKgCPr+9frPABDs2v7L+7lF3CiO/ODfdY0ZHJD+TfyQ29CpAP0fjMDX0M0E/YLvT/YM9MD91DbMw4un8vhSUCgS3wS6/ws802c/kOL+sKX79FUk/v8HnkQ7840G/AwK8mACsQ798q3sJcUNFv1HzWgoY2Ea/FvWCSPu0SL+Y79fEMjlLv65UGL0jlU6/QrzA+UwuUb9uNMr7OwlTv8WlHYyO41S/QKKoM0CwVr9DzMDg1VRYvxnSSbzhmlm/sTPWFWtsWr9xfWnkS9Vavy8Z9TfC1Vq/cMz8a3xUWr+IwPLX1E9Zv3onXJTEzle/S3VkWe7UVb8ZbPrVm1ZTv9WufQjAdFC//YF4oxAbSr9EqsrsY21Cv4siotv9+DO/2FE3qzpk+r4WCo15C2IyP5ojUiAOK0Q/KsS8MqPrTz+9VN4h1CtWP77SCq/D4Vw/R6JUWVT/YT9EU8qwsLVlPyJCzPv5o2k//NyNnMXGbT88MiKFNQRxPyZ3sOpZPHM/xdI1C6N9dT81LLxG6LJ3P7cyj+K223k/uBNFeBblez/Uhe2qLdx9P409RjyDzX8/lV4eoRTcgD9/Dq/ICNiBPzg2UFuJ0oI/\",\"dtype\":\"float64\",\"shape\":[75]},\"y\":{\"__ndarray__\":\"GhExyth1ND/Sv8nbtpRIP2vylNV0PVE/aTum7souWD/At0SJ8fVgPw3Iuahxymc/MSNhhJWvcD/bTfBN02d3P2zb5nxnaoA/CD5h5MAGhz8NmeH1TyaQP+zrCsc9p5Y/LbKd76fGnz/bLW5ISEmmPww9YvTcQq8/JV2OstnstT8Er5Y7M8G+P0c+r3jqkcU/5h99k6ZBzj88bCIzFzjVP4enV8oyxN0//yH99nXg5D8qOpLLf0jtP5kqGJXUifQ/c9cS8kHP/D+/DpwzojQEQIEmwoanVwxA4lgXt9HgE0BSSZ2AJuIbQAMJih9jjiNA5q4l5INuK0AwTKYKRj0zQNv5fmq8/DpAaCJseHrtQkB/+zpwzoxKQM3MzMzMeFJAZmZmZmZqWEAAAAAAAFxeQM3MzMzMJmJAmpmZmZkfZUBmZmZmZhhoQDMzMzMzEWtAAAAAAAAKbkBmZmZmZoFwQM3MzMzM/XFAMzMzMzN6c0CamZmZmfZ0QAAAAAAAc3ZAZmZmZmbvd0DNzMzMzGt5QDMzMzMz6HpAmpmZmZlkfEAAAAAAAOF9QGZmZmZmXX9AZmZmZuZsgECamZmZGSuBQM3MzMxM6YFAAAAAAICngkAzMzMzs2WDQGZmZmbmI4RAmpmZmRnihEDNzMzMTKCFQAAAAACAXoZAMzMzM7Mch0BmZmZm5tqHQJqZmZkZmYhAzczMzExXiUAAAAAAgBWKQDMzMzOz04pAZmZmZuaRi0CamZmZGVCMQM3MzMxMDo1AAAAAAIDMjUAzMzMzs4qOQGZmZmbmSI9A\",\"dtype\":\"float64\",\"shape\":[75]}},\"selected\":{\"id\":\"3dee91a5-b94f-4237-b329-64edd3f6e5a5\",\"type\":\"Selection\"},\"selection_policy\":{\"id\":\"70e28af9-d891-4c9f-a2ea-aa60a217674e\",\"type\":\"UnionRenderers\"}},\"id\":\"b4586930-cfc0-4018-bc2c-9714aed90791\",\"type\":\"ColumnDataSource\"},{\"attributes\":{\"data_source\":{\"id\":\"78893ee4-cba4-43de-a5ff-3de784afa754\",\"type\":\"ColumnDataSource\"},\"glyph\":{\"id\":\"67c46099-31c4-4715-b997-e4749b92fd40\",\"type\":\"Triangle\"},\"hover_glyph\":null,\"muted_glyph\":null,\"nonselection_glyph\":{\"id\":\"e5cecb09-d685-4515-8903-968c90c15b63\",\"type\":\"Triangle\"},\"selection_glyph\":null,\"view\":{\"id\":\"566a44c8-0fec-4427-b805-c813637de945\",\"type\":\"CDSView\"}},\"id\":\"7abd85f2-5df2-454d-9f64-d6b165b5e2b9\",\"type\":\"GlyphRenderer\"},{\"attributes\":{},\"id\":\"ecd97156-3ac1-4483-99dd-81eac78f5fd5\",\"type\":\"Selection\"},{\"attributes\":{\"fill_alpha\":{\"value\":0.1},\"fill_color\":{\"value\":\"#1f77b4\"},\"line_alpha\":{\"value\":0.1},\"line_color\":{\"value\":\"#1f77b4\"},\"x\":{\"field\":\"x\"},\"y\":{\"field\":\"y\"}},\"id\":\"e5cecb09-d685-4515-8903-968c90c15b63\",\"type\":\"Triangle\"},{\"attributes\":{\"fill_alpha\":{\"value\":0.1},\"fill_color\":{\"value\":\"#1f77b4\"},\"line_alpha\":{\"value\":0.1},\"line_color\":{\"value\":\"#1f77b4\"},\"x\":{\"field\":\"x\"},\"y\":{\"field\":\"y\"}},\"id\":\"1b98be82-b14b-4e90-a5c8-d0a7ffecd414\",\"type\":\"Square\"}],\"root_ids\":[\"f763c48f-9c55-4239-a546-f3dff2125d59\"]},\"title\":\"Bokeh Application\",\"version\":\"0.12.16\"}};\n",
       "  var render_items = [{\"docid\":\"c6093650-4091-4d5b-9704-c50fb4fceeab\",\"elementid\":\"251c2b51-795f-4582-9466-66062339a07c\",\"modelid\":\"f763c48f-9c55-4239-a546-f3dff2125d59\"}];\n",
       "  root.Bokeh.embed.embed_items_notebook(docs_json, render_items);\n",
       "\n",
       "  }\n",
       "  if (root.Bokeh !== undefined) {\n",
       "    embed_document(root);\n",
       "  } else {\n",
       "    var attempts = 0;\n",
       "    var timer = setInterval(function(root) {\n",
       "      if (root.Bokeh !== undefined) {\n",
       "        embed_document(root);\n",
       "        clearInterval(timer);\n",
       "      }\n",
       "      attempts++;\n",
       "      if (attempts > 100) {\n",
       "        console.log(\"Bokeh: ERROR: Unable to run BokehJS code because BokehJS library is missing\")\n",
       "        clearInterval(timer);\n",
       "      }\n",
       "    }, 10, root)\n",
       "  }\n",
       "})(window);"
      ],
      "application/vnd.bokehjs_exec.v0+json": ""
     },
     "metadata": {
      "application/vnd.bokehjs_exec.v0+json": {
       "id": "f763c48f-9c55-4239-a546-f3dff2125d59"
      }
     },
     "output_type": "display_data"
    },
    {
     "data": {
      "text/markdown": [
       "*FIGURE.* Cooling rates. g=4"
      ],
      "text/plain": [
       "<IPython.core.display.Markdown object>"
      ]
     },
     "metadata": {},
     "output_type": "display_data"
    },
    {
     "data": {
      "text/html": [
       "\n",
       "<div class=\"bk-root\">\n",
       "    <div class=\"bk-plotdiv\" id=\"15a6ecb7-00ab-4fa2-b7ac-4c5a56316af3\"></div>\n",
       "</div>"
      ]
     },
     "metadata": {},
     "output_type": "display_data"
    },
    {
     "data": {
      "application/javascript": [
       "(function(root) {\n",
       "  function embed_document(root) {\n",
       "    \n",
       "  var docs_json = {\"da4caba3-ff34-4ba7-95c8-3933ec635803\":{\"roots\":{\"references\":[{\"attributes\":{\"callback\":null,\"data\":{\"x\":{\"__ndarray__\":\"bL8wg8nUiL+z3GzU7oeIv5l2bBym4Ye/zOfYj0kuh78NLTAbXHeGv5MHRSUPvYW/PRjMEHP/hL83WIBDpD6Evxoj+QnHeoO/vMHiViq0gr9r3MeaP+uBvy05GV6KIIG/2FKr48RUgL+8/3k3h/V+vyv3J7RsiHm/MrdWMDAVYr+DCC5rwT1zP+FTpqhYl4s/qT5zW33wmD9dvzl/klSjP7jbYkBYs6s/ST9FJirmsj96RpmLQ4+3P06TsMU917c/O48mJZXisz8MDaP2Qp2uP8ZENkTMSqY/pkj3OQB8nj+WUR+UKliTP2ihfJKxtIU/oaxde/c2cT8F6U1rkoJFvzXjm0uEXXC/SpTes4VSe7+dzEbREIuEvzQrQ5dLco2/7F3AgLkHk78c0T81Zb2Wv59WhZFUYpq/ASS7lxmEnb8cs3eFCPiev2eFT6d2rp6/OhdDVAG5nb/+yJQa2G2cv9Q3o9sq2Zq/0B6j68EAmb+XjkFsO+qWv1dxCnF8m5S/eJdXzPcakr+nZKECp96Ov7L9hKHtSIm/r2PtiviJg78Hqf1VhV97v4KzDGDu9G6/6AuXZYrcSr/gI+bhdBBiP+SLc3svt3U/JlYFLPJZgT9cBZkrNf+HP9gvz3Scyo4/tYZp8Q7dkj8IIuG/cGaWP+bIUBEeAZo/aHSUq1+rnT+j7IABjbCgP1NRb+tVjKI/To3yz1BepD91YYFg1RSmPyIfACkUn6c/Mc7lNgf6qD8Hq1RrazKqP1ZLnkW8WKs/42nj3kB4rD/tlsDX6patP1Izoxyet64/\",\"dtype\":\"float64\",\"shape\":[75]},\"y\":{\"__ndarray__\":\"GhExyth1ND/Sv8nbtpRIP2vylNV0PVE/aTum7souWD/At0SJ8fVgPw3Iuahxymc/MSNhhJWvcD/bTfBN02d3P2zb5nxnaoA/CD5h5MAGhz8NmeH1TyaQP+zrCsc9p5Y/LbKd76fGnz/bLW5ISEmmPww9YvTcQq8/JV2OstnstT8Er5Y7M8G+P0c+r3jqkcU/5h99k6ZBzj88bCIzFzjVP4enV8oyxN0//yH99nXg5D8qOpLLf0jtP5kqGJXUifQ/c9cS8kHP/D+/DpwzojQEQIEmwoanVwxA4lgXt9HgE0BSSZ2AJuIbQAMJih9jjiNA5q4l5INuK0AwTKYKRj0zQNv5fmq8/DpAaCJseHrtQkB/+zpwzoxKQM3MzMzMeFJAZmZmZmZqWEAAAAAAAFxeQM3MzMzMJmJAmpmZmZkfZUBmZmZmZhhoQDMzMzMzEWtAAAAAAAAKbkBmZmZmZoFwQM3MzMzM/XFAMzMzMzN6c0CamZmZmfZ0QAAAAAAAc3ZAZmZmZmbvd0DNzMzMzGt5QDMzMzMz6HpAmpmZmZlkfEAAAAAAAOF9QGZmZmZmXX9AZmZmZuZsgECamZmZGSuBQM3MzMxM6YFAAAAAAICngkAzMzMzs2WDQGZmZmbmI4RAmpmZmRnihEDNzMzMTKCFQAAAAACAXoZAMzMzM7Mch0BmZmZm5tqHQJqZmZkZmYhAzczMzExXiUAAAAAAgBWKQDMzMzOz04pAZmZmZuaRi0CamZmZGVCMQM3MzMxMDo1AAAAAAIDMjUAzMzMzs4qOQGZmZmbmSI9A\",\"dtype\":\"float64\",\"shape\":[75]}},\"selected\":{\"id\":\"fb822c05-b9f9-4412-8afe-ad4cdafd667d\",\"type\":\"Selection\"},\"selection_policy\":{\"id\":\"5831a85b-5bb0-4803-99c5-1995c870af27\",\"type\":\"UnionRenderers\"}},\"id\":\"19ff2fce-0c60-440a-ae80-298fc45215b9\",\"type\":\"ColumnDataSource\"},{\"attributes\":{},\"id\":\"e7bac20a-f048-41f3-937d-19bc84c2ad5b\",\"type\":\"UnionRenderers\"},{\"attributes\":{},\"id\":\"98938ba5-9cb8-46ba-801f-c67348d7dc59\",\"type\":\"Selection\"},{\"attributes\":{\"line_alpha\":0.6,\"line_color\":\"#984ea3\",\"line_width\":3,\"x\":{\"field\":\"x\"},\"y\":{\"field\":\"y\"}},\"id\":\"c181b29a-6a1c-4801-b6bc-a31f106c96bc\",\"type\":\"Line\"},{\"attributes\":{},\"id\":\"cfe7b4e8-7ff9-41f8-ad75-e321c5c774ed\",\"type\":\"UnionRenderers\"},{\"attributes\":{\"line_alpha\":0.1,\"line_color\":\"#1f77b4\",\"line_width\":3,\"x\":{\"field\":\"x\"},\"y\":{\"field\":\"y\"}},\"id\":\"d218612f-79cd-418c-8874-3750942dd3db\",\"type\":\"Line\"},{\"attributes\":{},\"id\":\"e542723e-1a85-4858-b3fa-64fa6901f63a\",\"type\":\"Selection\"},{\"attributes\":{\"callback\":null,\"data\":{\"x\":{\"__ndarray__\":\"VJgSDQKwkL9WwUOoU4WQv38+mlhoKZC/oDeuiGOMj78rS/zXy8GOv+xEORgo842/7OK2xHEgjb/rWaQvS1KMv2Cqp2Poi4u/Pyy4KLLIir9m1ZnxRwKKvy9XhDzmGIm/KczSgnFHiL/m+29swYCHvz/rd/S+3IS/lFr90vH8d7+C2Y+PQ4NZPyXDVQJKaoY/5dZoqSAXlz8pS1qCAdSiPxQ/l95Rras/chpMlYwssz83igACkBC4P/bl4AI4K7g/WIcV68+8sz/DqMt8r5+tP053pCqTDKU//VRHKK9BnD95eNYPsPCRP/h+f4PZ5YQ/yDIkoAz3cj8gBuLrEhosP1uPcZic/mi/lSebdS0beL/e0Zl6VmWDv8Nn/rWvp4y/lrjkcX6ukr9RYBgxrl+Wv/BLbKMiE5q/AsGWuo9Tnb9iTihxisiev8I7UmQBWJ6/ye6hRJQ9nb/4Q3f+6dWbvxpmuxZ6Kpq/9RR5oSpBmL/aSIxD5ByWv+8+OSg6xZO/Ec+kLXdAkb/50guthyiNv5r5adionoe/uynR57j0gb+0CoY6yXV4v7PZhgqEz2m/hre8+aYoM78WaOkSU3RlP/YpVtUB8XY/v8uG4ZW3gT+2h130IBqIP4HKQRvapo4/YIg7J02tkj98eYtrARqWP1XGrrJ1nJk/BKFwdpcznT+OtT8lu2ygP7KCdglFRKI/RD6X1FQTpD9S4f9GgsWlPwkj5cBCSac/gYAonMWZqD9iUUWKy8epP/AiPux556o/N2BbWs4FrD9PhSqkAi2tP8Edk9XYYK4/\",\"dtype\":\"float64\",\"shape\":[75]},\"y\":{\"__ndarray__\":\"GhExyth1ND/Sv8nbtpRIP2vylNV0PVE/aTum7souWD/At0SJ8fVgPw3Iuahxymc/MSNhhJWvcD/bTfBN02d3P2zb5nxnaoA/CD5h5MAGhz8NmeH1TyaQP+zrCsc9p5Y/LbKd76fGnz/bLW5ISEmmPww9YvTcQq8/JV2OstnstT8Er5Y7M8G+P0c+r3jqkcU/5h99k6ZBzj88bCIzFzjVP4enV8oyxN0//yH99nXg5D8qOpLLf0jtP5kqGJXUifQ/c9cS8kHP/D+/DpwzojQEQIEmwoanVwxA4lgXt9HgE0BSSZ2AJuIbQAMJih9jjiNA5q4l5INuK0AwTKYKRj0zQNv5fmq8/DpAaCJseHrtQkB/+zpwzoxKQM3MzMzMeFJAZmZmZmZqWEAAAAAAAFxeQM3MzMzMJmJAmpmZmZkfZUBmZmZmZhhoQDMzMzMzEWtAAAAAAAAKbkBmZmZmZoFwQM3MzMzM/XFAMzMzMzN6c0CamZmZmfZ0QAAAAAAAc3ZAZmZmZmbvd0DNzMzMzGt5QDMzMzMz6HpAmpmZmZlkfEAAAAAAAOF9QGZmZmZmXX9AZmZmZuZsgECamZmZGSuBQM3MzMxM6YFAAAAAAICngkAzMzMzs2WDQGZmZmbmI4RAmpmZmRnihEDNzMzMTKCFQAAAAACAXoZAMzMzM7Mch0BmZmZm5tqHQJqZmZkZmYhAzczMzExXiUAAAAAAgBWKQDMzMzOz04pAZmZmZuaRi0CamZmZGVCMQM3MzMxMDo1AAAAAAIDMjUAzMzMzs4qOQGZmZmbmSI9A\",\"dtype\":\"float64\",\"shape\":[75]}},\"selected\":{\"id\":\"52d9d770-dbf9-4024-b4b1-d89d471dca16\",\"type\":\"Selection\"},\"selection_policy\":{\"id\":\"1f91e779-7a35-44f1-966e-04e2b63e63bb\",\"type\":\"UnionRenderers\"}},\"id\":\"45e71be1-ce2f-449e-b4ac-f638ff0bf6dd\",\"type\":\"ColumnDataSource\"},{\"attributes\":{},\"id\":\"f64e4cb1-deaf-405f-ad78-b611f5d338cd\",\"type\":\"UnionRenderers\"},{\"attributes\":{\"source\":{\"id\":\"ff2aa318-f82b-455c-a3b6-325e3c71963b\",\"type\":\"ColumnDataSource\"}},\"id\":\"b2614bea-7484-4ea8-a655-0e1fb830f56d\",\"type\":\"CDSView\"},{\"attributes\":{},\"id\":\"f19255dd-5a4f-469e-8e42-ce24ced74133\",\"type\":\"Selection\"},{\"attributes\":{\"data_source\":{\"id\":\"ff2aa318-f82b-455c-a3b6-325e3c71963b\",\"type\":\"ColumnDataSource\"},\"glyph\":{\"id\":\"508a0c1a-02bc-400b-bd89-890b4d58b8b0\",\"type\":\"Square\"},\"hover_glyph\":null,\"muted_glyph\":null,\"nonselection_glyph\":{\"id\":\"6d016d91-bfc2-4b7c-a4f6-ff1c620d5a6a\",\"type\":\"Square\"},\"selection_glyph\":null,\"view\":{\"id\":\"b2614bea-7484-4ea8-a655-0e1fb830f56d\",\"type\":\"CDSView\"}},\"id\":\"c4ee5e23-8806-4347-9380-3b362c8c61e4\",\"type\":\"GlyphRenderer\"},{\"attributes\":{},\"id\":\"36d0225f-ec51-4950-aa37-20c824f4ca16\",\"type\":\"UnionRenderers\"},{\"attributes\":{\"tools\":[{\"id\":\"c87e3c8f-b8ea-47b6-978d-096323bebb93\",\"type\":\"PanTool\"},{\"id\":\"687a198c-2993-4e3c-b927-d8172fd94d07\",\"type\":\"WheelZoomTool\"},{\"id\":\"fe476a95-9d78-4cb5-9cf9-5c2c232574cd\",\"type\":\"BoxZoomTool\"},{\"id\":\"67c67086-bbe6-4eb5-b6b5-04e532efdbfc\",\"type\":\"SaveTool\"},{\"id\":\"8c3b8a99-82a9-4cf7-8ec7-850e2b721de7\",\"type\":\"ResetTool\"},{\"id\":\"16cf008b-d8d3-46cb-a6a5-03b2030df75f\",\"type\":\"HelpTool\"},{\"id\":\"645d28e8-2e56-4d00-8e01-d7c91afa96e4\",\"type\":\"PanTool\"},{\"id\":\"1e792b4c-8769-4c8c-baf8-44ad741f867c\",\"type\":\"WheelZoomTool\"},{\"id\":\"0eeaa439-7fee-4429-a90b-712adaa93811\",\"type\":\"BoxZoomTool\"},{\"id\":\"63cbda5d-0f32-4920-ad13-cf7217266bd1\",\"type\":\"SaveTool\"},{\"id\":\"703ad8e9-87a2-4dae-b236-1d1c19bb02ee\",\"type\":\"ResetTool\"},{\"id\":\"2131bbaf-fb12-4ab7-b0a0-cda313555bc4\",\"type\":\"HelpTool\"}]},\"id\":\"eb0d34c3-f764-4b7f-9f35-3925b8d4a80b\",\"type\":\"ProxyToolbar\"},{\"attributes\":{\"source\":{\"id\":\"45e71be1-ce2f-449e-b4ac-f638ff0bf6dd\",\"type\":\"ColumnDataSource\"}},\"id\":\"9bd6473d-b49e-4175-bdad-3ed633f6bb0a\",\"type\":\"CDSView\"},{\"attributes\":{\"toolbar\":{\"id\":\"eb0d34c3-f764-4b7f-9f35-3925b8d4a80b\",\"type\":\"ProxyToolbar\"},\"toolbar_location\":\"above\"},\"id\":\"f1b35094-f015-4289-991a-bd6a940d4280\",\"type\":\"ToolbarBox\"},{\"attributes\":{\"data_source\":{\"id\":\"19ff2fce-0c60-440a-ae80-298fc45215b9\",\"type\":\"ColumnDataSource\"},\"glyph\":{\"id\":\"f005f1b2-6896-43aa-870b-04438f3bb0de\",\"type\":\"Triangle\"},\"hover_glyph\":null,\"muted_glyph\":null,\"nonselection_glyph\":{\"id\":\"82594f84-1190-45b6-80d9-c60b9c65ca0b\",\"type\":\"Triangle\"},\"selection_glyph\":null,\"view\":{\"id\":\"6c37b517-e50d-487e-af1c-2313510d93aa\",\"type\":\"CDSView\"}},\"id\":\"96348af9-c371-4693-9046-4c92a28f229a\",\"type\":\"GlyphRenderer\"},{\"attributes\":{\"data_source\":{\"id\":\"45e71be1-ce2f-449e-b4ac-f638ff0bf6dd\",\"type\":\"ColumnDataSource\"},\"glyph\":{\"id\":\"c181b29a-6a1c-4801-b6bc-a31f106c96bc\",\"type\":\"Line\"},\"hover_glyph\":null,\"muted_glyph\":null,\"nonselection_glyph\":{\"id\":\"d218612f-79cd-418c-8874-3750942dd3db\",\"type\":\"Line\"},\"selection_glyph\":null,\"view\":{\"id\":\"9bd6473d-b49e-4175-bdad-3ed633f6bb0a\",\"type\":\"CDSView\"}},\"id\":\"662a3993-6b3d-40ed-adc8-c16d4e53944c\",\"type\":\"GlyphRenderer\"},{\"attributes\":{},\"id\":\"d0109270-7b26-4ca1-a3e3-8474f3f19dd7\",\"type\":\"Selection\"},{\"attributes\":{\"fill_alpha\":{\"value\":0.7},\"fill_color\":{\"value\":\"#377eb8\"},\"line_alpha\":{\"value\":0.7},\"line_color\":{\"value\":\"#377eb8\"},\"x\":{\"field\":\"x\"},\"y\":{\"field\":\"y\"}},\"id\":\"f005f1b2-6896-43aa-870b-04438f3bb0de\",\"type\":\"Triangle\"},{\"attributes\":{},\"id\":\"7a00d91a-fa3b-4943-bf85-e03eb1b32ec7\",\"type\":\"UnionRenderers\"},{\"attributes\":{\"children\":[{\"id\":\"f1b35094-f015-4289-991a-bd6a940d4280\",\"type\":\"ToolbarBox\"},{\"id\":\"7a443891-2c22-4d21-b0da-ec139dbe6f1f\",\"type\":\"Column\"}]},\"id\":\"2c9f0cba-5a7d-4e94-b672-6a64cb235c2d\",\"type\":\"Column\"},{\"attributes\":{\"callback\":null,\"data\":{\"x\":{\"__ndarray__\":\"bL8wg8nUiL+z3GzU7oeIv5l2bBym4Ye/zOfYj0kuh78NLTAbXHeGv5MHRSUPvYW/PRjMEHP/hL83WIBDpD6Evxoj+QnHeoO/vMHiViq0gr9r3MeaP+uBvy05GV6KIIG/2FKr48RUgL+8/3k3h/V+vyv3J7RsiHm/MrdWMDAVYr+DCC5rwT1zP+FTpqhYl4s/qT5zW33wmD9dvzl/klSjP7jbYkBYs6s/ST9FJirmsj96RpmLQ4+3P06TsMU917c/O48mJZXisz8MDaP2Qp2uP8ZENkTMSqY/pkj3OQB8nj+WUR+UKliTP2ihfJKxtIU/oaxde/c2cT8F6U1rkoJFvzXjm0uEXXC/SpTes4VSe7+dzEbREIuEvzQrQ5dLco2/7F3AgLkHk78c0T81Zb2Wv59WhZFUYpq/ASS7lxmEnb8cs3eFCPiev2eFT6d2rp6/OhdDVAG5nb/+yJQa2G2cv9Q3o9sq2Zq/0B6j68EAmb+XjkFsO+qWv1dxCnF8m5S/eJdXzPcakr+nZKECp96Ov7L9hKHtSIm/r2PtiviJg78Hqf1VhV97v4KzDGDu9G6/6AuXZYrcSr/gI+bhdBBiP+SLc3svt3U/JlYFLPJZgT9cBZkrNf+HP9gvz3Scyo4/tYZp8Q7dkj8IIuG/cGaWP+bIUBEeAZo/aHSUq1+rnT+j7IABjbCgP1NRb+tVjKI/To3yz1BepD91YYFg1RSmPyIfACkUn6c/Mc7lNgf6qD8Hq1RrazKqP1ZLnkW8WKs/42nj3kB4rD/tlsDX6patP1Izoxyet64/\",\"dtype\":\"float64\",\"shape\":[75]},\"y\":{\"__ndarray__\":\"GhExyth1ND/Sv8nbtpRIP2vylNV0PVE/aTum7souWD/At0SJ8fVgPw3Iuahxymc/MSNhhJWvcD/bTfBN02d3P2zb5nxnaoA/CD5h5MAGhz8NmeH1TyaQP+zrCsc9p5Y/LbKd76fGnz/bLW5ISEmmPww9YvTcQq8/JV2OstnstT8Er5Y7M8G+P0c+r3jqkcU/5h99k6ZBzj88bCIzFzjVP4enV8oyxN0//yH99nXg5D8qOpLLf0jtP5kqGJXUifQ/c9cS8kHP/D+/DpwzojQEQIEmwoanVwxA4lgXt9HgE0BSSZ2AJuIbQAMJih9jjiNA5q4l5INuK0AwTKYKRj0zQNv5fmq8/DpAaCJseHrtQkB/+zpwzoxKQM3MzMzMeFJAZmZmZmZqWEAAAAAAAFxeQM3MzMzMJmJAmpmZmZkfZUBmZmZmZhhoQDMzMzMzEWtAAAAAAAAKbkBmZmZmZoFwQM3MzMzM/XFAMzMzMzN6c0CamZmZmfZ0QAAAAAAAc3ZAZmZmZmbvd0DNzMzMzGt5QDMzMzMz6HpAmpmZmZlkfEAAAAAAAOF9QGZmZmZmXX9AZmZmZuZsgECamZmZGSuBQM3MzMxM6YFAAAAAAICngkAzMzMzs2WDQGZmZmbmI4RAmpmZmRnihEDNzMzMTKCFQAAAAACAXoZAMzMzM7Mch0BmZmZm5tqHQJqZmZkZmYhAzczMzExXiUAAAAAAgBWKQDMzMzOz04pAZmZmZuaRi0CamZmZGVCMQM3MzMxMDo1AAAAAAIDMjUAzMzMzs4qOQGZmZmbmSI9A\",\"dtype\":\"float64\",\"shape\":[75]}},\"selected\":{\"id\":\"2eaab9ae-f28b-42e0-94ae-030a000009ca\",\"type\":\"Selection\"},\"selection_policy\":{\"id\":\"5bebdc7a-8da4-4f57-b427-ba2e68beb103\",\"type\":\"UnionRenderers\"}},\"id\":\"0473bc1a-6684-4e85-9bf3-c79e430f5d3d\",\"type\":\"ColumnDataSource\"},{\"attributes\":{\"fill_alpha\":{\"value\":0.1},\"fill_color\":{\"value\":\"#1f77b4\"},\"line_alpha\":{\"value\":0.1},\"line_color\":{\"value\":\"#1f77b4\"},\"x\":{\"field\":\"x\"},\"y\":{\"field\":\"y\"}},\"id\":\"82594f84-1190-45b6-80d9-c60b9c65ca0b\",\"type\":\"Triangle\"},{\"attributes\":{\"source\":{\"id\":\"19ff2fce-0c60-440a-ae80-298fc45215b9\",\"type\":\"ColumnDataSource\"}},\"id\":\"6c37b517-e50d-487e-af1c-2313510d93aa\",\"type\":\"CDSView\"},{\"attributes\":{\"line_alpha\":0.3,\"line_color\":\"#377eb8\",\"line_width\":2,\"x\":{\"field\":\"x\"},\"y\":{\"field\":\"y\"}},\"id\":\"77b74924-8fa4-45a0-a74a-164db07359b3\",\"type\":\"Line\"},{\"attributes\":{\"above\":[{\"id\":\"7065bc22-311a-4728-b7ff-793217e971e4\",\"type\":\"Legend\"}],\"below\":[{\"id\":\"912d481a-92b1-4fdf-9b77-948f63b62369\",\"type\":\"LinearAxis\"}],\"left\":[{\"id\":\"77f31e2e-6598-4cae-a5de-c3130637ddd2\",\"type\":\"LogAxis\"}],\"plot_height\":500,\"plot_width\":400,\"renderers\":[{\"id\":\"912d481a-92b1-4fdf-9b77-948f63b62369\",\"type\":\"LinearAxis\"},{\"id\":\"48aac15d-cabf-4076-a0f9-b91f4d4bcefc\",\"type\":\"Grid\"},{\"id\":\"77f31e2e-6598-4cae-a5de-c3130637ddd2\",\"type\":\"LogAxis\"},{\"id\":\"9f4a9c47-3a44-4a9e-9e8c-12896e560215\",\"type\":\"Grid\"},{\"id\":\"6f39b7f8-2937-4a23-bb3e-0c6b3b936266\",\"type\":\"BoxAnnotation\"},{\"id\":\"c12e3e21-371b-4564-913b-076803ca2a99\",\"type\":\"GlyphRenderer\"},{\"id\":\"007bede1-cfd5-4f8b-a70f-e8fe43f0bfa8\",\"type\":\"GlyphRenderer\"},{\"id\":\"989bb414-0a46-407b-94ea-bd9239dd1fe6\",\"type\":\"GlyphRenderer\"},{\"id\":\"82b40eb4-2777-494b-95d2-791f209935be\",\"type\":\"GlyphRenderer\"},{\"id\":\"58758859-76a4-4135-9acd-8b14157dc243\",\"type\":\"GlyphRenderer\"},{\"id\":\"df1c8e10-598f-474c-9f15-3b6a663b4359\",\"type\":\"GlyphRenderer\"},{\"id\":\"7065bc22-311a-4728-b7ff-793217e971e4\",\"type\":\"Legend\"}],\"title\":{\"id\":\"f8445950-78ab-4e8b-bf25-8777008c214e\",\"type\":\"Title\"},\"toolbar\":{\"id\":\"59bf2a88-a0df-47e8-88fe-3bc204450b54\",\"type\":\"Toolbar\"},\"toolbar_location\":null,\"x_range\":{\"id\":\"823d77dc-9e62-4acc-9aaf-b1a5c86fe6b7\",\"type\":\"Range1d\"},\"x_scale\":{\"id\":\"498f8cce-e815-4144-a044-0258bce85ec6\",\"type\":\"LinearScale\"},\"y_range\":{\"id\":\"33685a20-9e99-47b1-ad86-72026d8a92e7\",\"type\":\"Range1d\"},\"y_scale\":{\"id\":\"8bea1301-fc0f-4ad2-ad23-e68e776c248f\",\"type\":\"LogScale\"}},\"id\":\"6186dfd1-b611-4730-b8e4-4d319fede6b7\",\"subtype\":\"Figure\",\"type\":\"Plot\"},{\"attributes\":{\"line_alpha\":0.1,\"line_color\":\"#1f77b4\",\"line_width\":2,\"x\":{\"field\":\"x\"},\"y\":{\"field\":\"y\"}},\"id\":\"d43bca2f-8acb-4b48-8a24-44cb5af92346\",\"type\":\"Line\"},{\"attributes\":{\"data_source\":{\"id\":\"0473bc1a-6684-4e85-9bf3-c79e430f5d3d\",\"type\":\"ColumnDataSource\"},\"glyph\":{\"id\":\"77b74924-8fa4-45a0-a74a-164db07359b3\",\"type\":\"Line\"},\"hover_glyph\":null,\"muted_glyph\":null,\"nonselection_glyph\":{\"id\":\"d43bca2f-8acb-4b48-8a24-44cb5af92346\",\"type\":\"Line\"},\"selection_glyph\":null,\"view\":{\"id\":\"8d3b6d2d-6093-43ca-a512-a9b0539f49d6\",\"type\":\"CDSView\"}},\"id\":\"13341ea0-cd7b-457f-a446-298cee835de1\",\"type\":\"GlyphRenderer\"},{\"attributes\":{\"source\":{\"id\":\"0473bc1a-6684-4e85-9bf3-c79e430f5d3d\",\"type\":\"ColumnDataSource\"}},\"id\":\"8d3b6d2d-6093-43ca-a512-a9b0539f49d6\",\"type\":\"CDSView\"},{\"attributes\":{\"active_drag\":\"auto\",\"active_inspect\":\"auto\",\"active_scroll\":\"auto\",\"active_tap\":\"auto\",\"tools\":[{\"id\":\"645d28e8-2e56-4d00-8e01-d7c91afa96e4\",\"type\":\"PanTool\"},{\"id\":\"1e792b4c-8769-4c8c-baf8-44ad741f867c\",\"type\":\"WheelZoomTool\"},{\"id\":\"0eeaa439-7fee-4429-a90b-712adaa93811\",\"type\":\"BoxZoomTool\"},{\"id\":\"63cbda5d-0f32-4920-ad13-cf7217266bd1\",\"type\":\"SaveTool\"},{\"id\":\"703ad8e9-87a2-4dae-b236-1d1c19bb02ee\",\"type\":\"ResetTool\"},{\"id\":\"2131bbaf-fb12-4ab7-b0a0-cda313555bc4\",\"type\":\"HelpTool\"}]},\"id\":\"59bf2a88-a0df-47e8-88fe-3bc204450b54\",\"type\":\"Toolbar\"},{\"attributes\":{\"label\":{\"value\":\"CRD\"},\"renderers\":[{\"id\":\"0dcca304-0a46-41cf-bb48-f5bda9702e6d\",\"type\":\"GlyphRenderer\"},{\"id\":\"8c1130bb-57c8-4910-ac41-fb71711d61c3\",\"type\":\"GlyphRenderer\"}]},\"id\":\"adea0f1b-59ec-46b6-86ae-0dacb240819d\",\"type\":\"LegendItem\"},{\"attributes\":{\"callback\":null,\"end\":0.10147127364682,\"start\":-0.03374468126882},\"id\":\"823d77dc-9e62-4acc-9aaf-b1a5c86fe6b7\",\"type\":\"Range1d\"},{\"attributes\":{\"label\":{\"value\":\"WGT igg=1\"},\"renderers\":[{\"id\":\"c4ee5e23-8806-4347-9380-3b362c8c61e4\",\"type\":\"GlyphRenderer\"},{\"id\":\"662a3993-6b3d-40ed-adc8-c16d4e53944c\",\"type\":\"GlyphRenderer\"}]},\"id\":\"04194c0f-72c3-4293-b887-5825243bfdb9\",\"type\":\"LegendItem\"},{\"attributes\":{},\"id\":\"498f8cce-e815-4144-a044-0258bce85ec6\",\"type\":\"LinearScale\"},{\"attributes\":{\"label\":{\"value\":\"WGT igg=10\"},\"renderers\":[{\"id\":\"96348af9-c371-4693-9046-4c92a28f229a\",\"type\":\"GlyphRenderer\"},{\"id\":\"13341ea0-cd7b-457f-a446-298cee835de1\",\"type\":\"GlyphRenderer\"}]},\"id\":\"3e79f64c-b10e-4c6c-8936-7be93a65575a\",\"type\":\"LegendItem\"},{\"attributes\":{\"plot\":{\"id\":\"6186dfd1-b611-4730-b8e4-4d319fede6b7\",\"subtype\":\"Figure\",\"type\":\"Plot\"},\"ticker\":{\"id\":\"9c7185b3-dec1-42aa-b007-bb8fa8a27223\",\"type\":\"BasicTicker\"}},\"id\":\"48aac15d-cabf-4076-a0f9-b91f4d4bcefc\",\"type\":\"Grid\"},{\"attributes\":{\"items\":[{\"id\":\"f1e288d3-64ec-4dcd-9d8c-1a319ba75d4f\",\"type\":\"LegendItem\"},{\"id\":\"42091f01-8e36-423f-a5c7-6b4c9c6529ea\",\"type\":\"LegendItem\"},{\"id\":\"53681349-e4c1-4067-9afa-8481fe26ae15\",\"type\":\"LegendItem\"}],\"label_text_font_size\":{\"value\":\"8pt\"},\"location\":\"top_center\",\"orientation\":\"horizontal\",\"plot\":{\"id\":\"6186dfd1-b611-4730-b8e4-4d319fede6b7\",\"subtype\":\"Figure\",\"type\":\"Plot\"}},\"id\":\"7065bc22-311a-4728-b7ff-793217e971e4\",\"type\":\"Legend\"},{\"attributes\":{},\"id\":\"8bea1301-fc0f-4ad2-ad23-e68e776c248f\",\"type\":\"LogScale\"},{\"attributes\":{\"axis_label\":\"cooling rate [K/day]\",\"formatter\":{\"id\":\"c041a2c1-168c-4f84-a460-dfe355e09d4a\",\"type\":\"BasicTickFormatter\"},\"plot\":{\"id\":\"6186dfd1-b611-4730-b8e4-4d319fede6b7\",\"subtype\":\"Figure\",\"type\":\"Plot\"},\"ticker\":{\"id\":\"9c7185b3-dec1-42aa-b007-bb8fa8a27223\",\"type\":\"BasicTicker\"}},\"id\":\"912d481a-92b1-4fdf-9b77-948f63b62369\",\"type\":\"LinearAxis\"},{\"attributes\":{},\"id\":\"9c7185b3-dec1-42aa-b007-bb8fa8a27223\",\"type\":\"BasicTicker\"},{\"attributes\":{\"axis_label\":\"pressure [mb]\",\"formatter\":{\"id\":\"8e609999-e386-4fcd-9842-9570dbf46c2f\",\"type\":\"LogTickFormatter\"},\"plot\":{\"id\":\"6186dfd1-b611-4730-b8e4-4d319fede6b7\",\"subtype\":\"Figure\",\"type\":\"Plot\"},\"ticker\":{\"id\":\"33a16a52-fbb0-4c78-ab22-9470cb9fb963\",\"type\":\"LogTicker\"}},\"id\":\"77f31e2e-6598-4cae-a5de-c3130637ddd2\",\"type\":\"LogAxis\"},{\"attributes\":{\"num_minor_ticks\":10},\"id\":\"33a16a52-fbb0-4c78-ab22-9470cb9fb963\",\"type\":\"LogTicker\"},{\"attributes\":{\"dimension\":1,\"plot\":{\"id\":\"6186dfd1-b611-4730-b8e4-4d319fede6b7\",\"subtype\":\"Figure\",\"type\":\"Plot\"},\"ticker\":{\"id\":\"33a16a52-fbb0-4c78-ab22-9470cb9fb963\",\"type\":\"LogTicker\"}},\"id\":\"9f4a9c47-3a44-4a9e-9e8c-12896e560215\",\"type\":\"Grid\"},{\"attributes\":{},\"id\":\"645d28e8-2e56-4d00-8e01-d7c91afa96e4\",\"type\":\"PanTool\"},{\"attributes\":{},\"id\":\"1e792b4c-8769-4c8c-baf8-44ad741f867c\",\"type\":\"WheelZoomTool\"},{\"attributes\":{\"overlay\":{\"id\":\"6f39b7f8-2937-4a23-bb3e-0c6b3b936266\",\"type\":\"BoxAnnotation\"}},\"id\":\"0eeaa439-7fee-4429-a90b-712adaa93811\",\"type\":\"BoxZoomTool\"},{\"attributes\":{\"fill_alpha\":{\"value\":0.7},\"fill_color\":{\"value\":\"#4daf4a\"},\"line_alpha\":{\"value\":0.7},\"line_color\":{\"value\":\"#4daf4a\"},\"x\":{\"field\":\"x\"},\"y\":{\"field\":\"y\"}},\"id\":\"7fb9250d-fbc9-43cc-bd70-66513db1e419\",\"type\":\"Circle\"},{\"attributes\":{},\"id\":\"52d9d770-dbf9-4024-b4b1-d89d471dca16\",\"type\":\"Selection\"},{\"attributes\":{\"fill_alpha\":{\"value\":0.1},\"fill_color\":{\"value\":\"#1f77b4\"},\"line_alpha\":{\"value\":0.1},\"line_color\":{\"value\":\"#1f77b4\"},\"x\":{\"field\":\"x\"},\"y\":{\"field\":\"y\"}},\"id\":\"5bb6ebca-be83-4e9c-a628-d60906aa5f80\",\"type\":\"Circle\"},{\"attributes\":{},\"id\":\"fb822c05-b9f9-4412-8afe-ad4cdafd667d\",\"type\":\"Selection\"},{\"attributes\":{},\"id\":\"d46169cf-c6aa-494c-bddf-ea44d74850c1\",\"type\":\"UnionRenderers\"},{\"attributes\":{},\"id\":\"7ed27880-d5bf-4276-9abc-09fc249d55eb\",\"type\":\"Selection\"},{\"attributes\":{\"callback\":null,\"end\":0.060897018181999996,\"start\":-0.031145423782},\"id\":\"dba7d1ea-9f93-43bb-8651-37012fab99e0\",\"type\":\"Range1d\"},{\"attributes\":{\"callback\":null,\"data\":{\"x\":{\"__ndarray__\":\"1DglTU/0or+A50eN6dSiv8S/59i3jaK/Lg+X7iVBor9q4KfNkPOhvxW9lY8xp6G/AGnhw95eob/GbmU4dBehv4hnJfxq1aC/TUsySzqZoL/okb7JHmagvxajLJ5UQKC/Wh4BxOMtoL+Hg5+BsjCgv78W0IoJFZ+/Vuz52ZVmmb/vDAG5YnOOv9sj9eQu4GS/xKLusjgwiT/Or3gvgtaeP7DHtYphWKo/HHhwsAS/sz9LZ+7QJKO5PzNC6Sbc97g/0JcjdBGVsj/XpkeQV9KoP0bbC6RrgJ8/JaYf3gCdkz8oyD5guV6JP+os0GUUPoE/EMafUan3dT/EWuRMoXZkPwBmBWCjJDE/zTTPG8pOWr8X9WOa6f9wvxTBEjN52X6/A3XpZ7rzhb9m06O80seLvxA3DNvsXZG/oAOsYyDblL/T118MgYuWv/6w6EajMpa/0Iwc0Flelb/MPHWJQ2aUv691MmIEQpO/p4aJMrjskb+1w4MQjmWQvypw9e8mXI2/Hm1HMXOTib9CX2Tjz3uFv+182frfLIG/PGcTj4J8eb/FzsVoFH1wvxfzxBUZZV2/a+eo5ustQD+LiEYSEW9nPwPxayJgy3U/Jq7EynklgD9w8nvoPJ6FPy6R+MIuUos/mx27pIChkD/6UTlBE7qTP/a2okGy9JY/Pb9E7uJRmj/6XZntSs+dP5BrF6t9saA/ZX4n1eV4oj8In/yzyiWkP3Z2tPMRoaU/KvJPINjnpj9arQnNOw6oP/x0MpWALak/5Z7D92RXqj8IaKlGHperP5pUxyND96w/\",\"dtype\":\"float64\",\"shape\":[75]},\"y\":{\"__ndarray__\":\"GhExyth1ND/Sv8nbtpRIP2vylNV0PVE/aTum7souWD/At0SJ8fVgPw3Iuahxymc/MSNhhJWvcD/bTfBN02d3P2zb5nxnaoA/CD5h5MAGhz8NmeH1TyaQP+zrCsc9p5Y/LbKd76fGnz/bLW5ISEmmPww9YvTcQq8/JV2OstnstT8Er5Y7M8G+P0c+r3jqkcU/5h99k6ZBzj88bCIzFzjVP4enV8oyxN0//yH99nXg5D8qOpLLf0jtP5kqGJXUifQ/c9cS8kHP/D+/DpwzojQEQIEmwoanVwxA4lgXt9HgE0BSSZ2AJuIbQAMJih9jjiNA5q4l5INuK0AwTKYKRj0zQNv5fmq8/DpAaCJseHrtQkB/+zpwzoxKQM3MzMzMeFJAZmZmZmZqWEAAAAAAAFxeQM3MzMzMJmJAmpmZmZkfZUBmZmZmZhhoQDMzMzMzEWtAAAAAAAAKbkBmZmZmZoFwQM3MzMzM/XFAMzMzMzN6c0CamZmZmfZ0QAAAAAAAc3ZAZmZmZmbvd0DNzMzMzGt5QDMzMzMz6HpAmpmZmZlkfEAAAAAAAOF9QGZmZmZmXX9AZmZmZuZsgECamZmZGSuBQM3MzMxM6YFAAAAAAICngkAzMzMzs2WDQGZmZmbmI4RAmpmZmRnihEDNzMzMTKCFQAAAAACAXoZAMzMzM7Mch0BmZmZm5tqHQJqZmZkZmYhAzczMzExXiUAAAAAAgBWKQDMzMzOz04pAZmZmZuaRi0CamZmZGVCMQM3MzMxMDo1AAAAAAIDMjUAzMzMzs4qOQGZmZmbmSI9A\",\"dtype\":\"float64\",\"shape\":[75]}},\"selected\":{\"id\":\"050e4923-74dd-4d21-9ea3-1943b0970052\",\"type\":\"Selection\"},\"selection_policy\":{\"id\":\"b153a4d6-416e-4ef9-9e8d-4fd8d1ae1150\",\"type\":\"UnionRenderers\"}},\"id\":\"147804f0-e0cc-48ef-874b-9b9c4fbce1fa\",\"type\":\"ColumnDataSource\"},{\"attributes\":{\"items\":[{\"id\":\"adea0f1b-59ec-46b6-86ae-0dacb240819d\",\"type\":\"LegendItem\"},{\"id\":\"04194c0f-72c3-4293-b887-5825243bfdb9\",\"type\":\"LegendItem\"},{\"id\":\"3e79f64c-b10e-4c6c-8936-7be93a65575a\",\"type\":\"LegendItem\"}],\"label_text_font_size\":{\"value\":\"8pt\"},\"location\":\"top_center\",\"orientation\":\"horizontal\",\"plot\":{\"id\":\"a3368ca6-df91-4326-adb5-bcfcf59aa5c4\",\"subtype\":\"Figure\",\"type\":\"Plot\"}},\"id\":\"6f6c157a-28b7-47e5-9a17-6473948090dc\",\"type\":\"Legend\"},{\"attributes\":{},\"id\":\"259b160d-63bb-437b-b3c1-ad3e729bdbf1\",\"type\":\"LinearScale\"},{\"attributes\":{\"data_source\":{\"id\":\"147804f0-e0cc-48ef-874b-9b9c4fbce1fa\",\"type\":\"ColumnDataSource\"},\"glyph\":{\"id\":\"7fb9250d-fbc9-43cc-bd70-66513db1e419\",\"type\":\"Circle\"},\"hover_glyph\":null,\"muted_glyph\":null,\"nonselection_glyph\":{\"id\":\"5bb6ebca-be83-4e9c-a628-d60906aa5f80\",\"type\":\"Circle\"},\"selection_glyph\":null,\"view\":{\"id\":\"e6a81409-1b21-4f95-8270-e7e87ee7fcef\",\"type\":\"CDSView\"}},\"id\":\"c12e3e21-371b-4564-913b-076803ca2a99\",\"type\":\"GlyphRenderer\"},{\"attributes\":{\"active_drag\":\"auto\",\"active_inspect\":\"auto\",\"active_scroll\":\"auto\",\"active_tap\":\"auto\",\"tools\":[{\"id\":\"c87e3c8f-b8ea-47b6-978d-096323bebb93\",\"type\":\"PanTool\"},{\"id\":\"687a198c-2993-4e3c-b927-d8172fd94d07\",\"type\":\"WheelZoomTool\"},{\"id\":\"fe476a95-9d78-4cb5-9cf9-5c2c232574cd\",\"type\":\"BoxZoomTool\"},{\"id\":\"67c67086-bbe6-4eb5-b6b5-04e532efdbfc\",\"type\":\"SaveTool\"},{\"id\":\"8c3b8a99-82a9-4cf7-8ec7-850e2b721de7\",\"type\":\"ResetTool\"},{\"id\":\"16cf008b-d8d3-46cb-a6a5-03b2030df75f\",\"type\":\"HelpTool\"}]},\"id\":\"acc04f9b-3c34-4364-854a-ba8c7ca534ab\",\"type\":\"Toolbar\"},{\"attributes\":{\"callback\":null,\"data\":{\"x\":{\"__ndarray__\":\"1DglTU/0or+A50eN6dSiv8S/59i3jaK/Lg+X7iVBor9q4KfNkPOhvxW9lY8xp6G/AGnhw95eob/GbmU4dBehv4hnJfxq1aC/TUsySzqZoL/okb7JHmagvxajLJ5UQKC/Wh4BxOMtoL+Hg5+BsjCgv78W0IoJFZ+/Vuz52ZVmmb/vDAG5YnOOv9sj9eQu4GS/xKLusjgwiT/Or3gvgtaeP7DHtYphWKo/HHhwsAS/sz9LZ+7QJKO5PzNC6Sbc97g/0JcjdBGVsj/XpkeQV9KoP0bbC6RrgJ8/JaYf3gCdkz8oyD5guV6JP+os0GUUPoE/EMafUan3dT/EWuRMoXZkPwBmBWCjJDE/zTTPG8pOWr8X9WOa6f9wvxTBEjN52X6/A3XpZ7rzhb9m06O80seLvxA3DNvsXZG/oAOsYyDblL/T118MgYuWv/6w6EajMpa/0Iwc0Flelb/MPHWJQ2aUv691MmIEQpO/p4aJMrjskb+1w4MQjmWQvypw9e8mXI2/Hm1HMXOTib9CX2Tjz3uFv+182frfLIG/PGcTj4J8eb/FzsVoFH1wvxfzxBUZZV2/a+eo5ustQD+LiEYSEW9nPwPxayJgy3U/Jq7EynklgD9w8nvoPJ6FPy6R+MIuUos/mx27pIChkD/6UTlBE7qTP/a2okGy9JY/Pb9E7uJRmj/6XZntSs+dP5BrF6t9saA/ZX4n1eV4oj8In/yzyiWkP3Z2tPMRoaU/KvJPINjnpj9arQnNOw6oP/x0MpWALak/5Z7D92RXqj8IaKlGHperP5pUxyND96w/\",\"dtype\":\"float64\",\"shape\":[75]},\"y\":{\"__ndarray__\":\"GhExyth1ND/Sv8nbtpRIP2vylNV0PVE/aTum7souWD/At0SJ8fVgPw3Iuahxymc/MSNhhJWvcD/bTfBN02d3P2zb5nxnaoA/CD5h5MAGhz8NmeH1TyaQP+zrCsc9p5Y/LbKd76fGnz/bLW5ISEmmPww9YvTcQq8/JV2OstnstT8Er5Y7M8G+P0c+r3jqkcU/5h99k6ZBzj88bCIzFzjVP4enV8oyxN0//yH99nXg5D8qOpLLf0jtP5kqGJXUifQ/c9cS8kHP/D+/DpwzojQEQIEmwoanVwxA4lgXt9HgE0BSSZ2AJuIbQAMJih9jjiNA5q4l5INuK0AwTKYKRj0zQNv5fmq8/DpAaCJseHrtQkB/+zpwzoxKQM3MzMzMeFJAZmZmZmZqWEAAAAAAAFxeQM3MzMzMJmJAmpmZmZkfZUBmZmZmZhhoQDMzMzMzEWtAAAAAAAAKbkBmZmZmZoFwQM3MzMzM/XFAMzMzMzN6c0CamZmZmfZ0QAAAAAAAc3ZAZmZmZmbvd0DNzMzMzGt5QDMzMzMz6HpAmpmZmZlkfEAAAAAAAOF9QGZmZmZmXX9AZmZmZuZsgECamZmZGSuBQM3MzMxM6YFAAAAAAICngkAzMzMzs2WDQGZmZmbmI4RAmpmZmRnihEDNzMzMTKCFQAAAAACAXoZAMzMzM7Mch0BmZmZm5tqHQJqZmZkZmYhAzczMzExXiUAAAAAAgBWKQDMzMzOz04pAZmZmZuaRi0CamZmZGVCMQM3MzMxMDo1AAAAAAIDMjUAzMzMzs4qOQGZmZmbmSI9A\",\"dtype\":\"float64\",\"shape\":[75]}},\"selected\":{\"id\":\"d10c056f-e627-41c7-8987-56991b8e34be\",\"type\":\"Selection\"},\"selection_policy\":{\"id\":\"e7bac20a-f048-41f3-937d-19bc84c2ad5b\",\"type\":\"UnionRenderers\"}},\"id\":\"25c0557a-d72c-4409-8d1b-a2498f8834ea\",\"type\":\"ColumnDataSource\"},{\"attributes\":{},\"id\":\"34dd0f86-807b-4c72-b395-c1be5675845e\",\"type\":\"BasicTicker\"},{\"attributes\":{\"ticker\":null},\"id\":\"8e609999-e386-4fcd-9842-9570dbf46c2f\",\"type\":\"LogTickFormatter\"},{\"attributes\":{\"dimension\":1,\"plot\":{\"id\":\"a3368ca6-df91-4326-adb5-bcfcf59aa5c4\",\"subtype\":\"Figure\",\"type\":\"Plot\"},\"ticker\":{\"id\":\"34dd0f86-807b-4c72-b395-c1be5675845e\",\"type\":\"BasicTicker\"}},\"id\":\"0640c846-d5a7-4043-a417-66f50b3ead34\",\"type\":\"Grid\"},{\"attributes\":{\"line_alpha\":0.1,\"line_color\":\"#1f77b4\",\"line_width\":1.5,\"x\":{\"field\":\"x\"},\"y\":{\"field\":\"y\"}},\"id\":\"3f388611-fd9e-4e25-8fa0-6a324e687584\",\"type\":\"Line\"},{\"attributes\":{},\"id\":\"687a198c-2993-4e3c-b927-d8172fd94d07\",\"type\":\"WheelZoomTool\"},{\"attributes\":{\"line_color\":\"#4daf4a\",\"line_width\":1.5,\"x\":{\"field\":\"x\"},\"y\":{\"field\":\"y\"}},\"id\":\"5ff59706-36d9-438a-a923-d1c8edb6eceb\",\"type\":\"Line\"},{\"attributes\":{\"data_source\":{\"id\":\"c075e7a7-9fb9-46ff-b7b7-40ec6dd163f2\",\"type\":\"ColumnDataSource\"},\"glyph\":{\"id\":\"1478189b-906d-4beb-8fa5-198397478ceb\",\"type\":\"Square\"},\"hover_glyph\":null,\"muted_glyph\":null,\"nonselection_glyph\":{\"id\":\"e3ef1b0b-65f0-48a9-8e9f-3189f22253a1\",\"type\":\"Square\"},\"selection_glyph\":null,\"view\":{\"id\":\"474ae958-db5f-47f3-aa7a-5af3daad0b7b\",\"type\":\"CDSView\"}},\"id\":\"989bb414-0a46-407b-94ea-bd9239dd1fe6\",\"type\":\"GlyphRenderer\"},{\"attributes\":{\"axis_label\":\"pressure [mb]\",\"formatter\":{\"id\":\"c8e0250a-9012-41ea-aa3f-e492eacc3db0\",\"type\":\"BasicTickFormatter\"},\"plot\":{\"id\":\"a3368ca6-df91-4326-adb5-bcfcf59aa5c4\",\"subtype\":\"Figure\",\"type\":\"Plot\"},\"ticker\":{\"id\":\"34dd0f86-807b-4c72-b395-c1be5675845e\",\"type\":\"BasicTicker\"}},\"id\":\"25d3da91-f83d-4b15-a21e-8759f9a9a71c\",\"type\":\"LinearAxis\"},{\"attributes\":{\"data_source\":{\"id\":\"25c0557a-d72c-4409-8d1b-a2498f8834ea\",\"type\":\"ColumnDataSource\"},\"glyph\":{\"id\":\"5ff59706-36d9-438a-a923-d1c8edb6eceb\",\"type\":\"Line\"},\"hover_glyph\":null,\"muted_glyph\":null,\"nonselection_glyph\":{\"id\":\"3f388611-fd9e-4e25-8fa0-6a324e687584\",\"type\":\"Line\"},\"selection_glyph\":null,\"view\":{\"id\":\"85799f39-925f-407f-af4f-500c54861948\",\"type\":\"CDSView\"}},\"id\":\"007bede1-cfd5-4f8b-a70f-e8fe43f0bfa8\",\"type\":\"GlyphRenderer\"},{\"attributes\":{\"source\":{\"id\":\"c075e7a7-9fb9-46ff-b7b7-40ec6dd163f2\",\"type\":\"ColumnDataSource\"}},\"id\":\"474ae958-db5f-47f3-aa7a-5af3daad0b7b\",\"type\":\"CDSView\"},{\"attributes\":{\"callback\":null,\"data\":{\"x\":{\"__ndarray__\":\"VJgSDQKwkL9WwUOoU4WQv38+mlhoKZC/oDeuiGOMj78rS/zXy8GOv+xEORgo842/7OK2xHEgjb/rWaQvS1KMv2Cqp2Poi4u/Pyy4KLLIir9m1ZnxRwKKvy9XhDzmGIm/KczSgnFHiL/m+29swYCHvz/rd/S+3IS/lFr90vH8d7+C2Y+PQ4NZPyXDVQJKaoY/5dZoqSAXlz8pS1qCAdSiPxQ/l95Rras/chpMlYwssz83igACkBC4P/bl4AI4K7g/WIcV68+8sz/DqMt8r5+tP053pCqTDKU//VRHKK9BnD95eNYPsPCRP/h+f4PZ5YQ/yDIkoAz3cj8gBuLrEhosP1uPcZic/mi/lSebdS0beL/e0Zl6VmWDv8Nn/rWvp4y/lrjkcX6ukr9RYBgxrl+Wv/BLbKMiE5q/AsGWuo9Tnb9iTihxisiev8I7UmQBWJ6/ye6hRJQ9nb/4Q3f+6dWbvxpmuxZ6Kpq/9RR5oSpBmL/aSIxD5ByWv+8+OSg6xZO/Ec+kLXdAkb/50guthyiNv5r5adionoe/uynR57j0gb+0CoY6yXV4v7PZhgqEz2m/hre8+aYoM78WaOkSU3RlP/YpVtUB8XY/v8uG4ZW3gT+2h130IBqIP4HKQRvapo4/YIg7J02tkj98eYtrARqWP1XGrrJ1nJk/BKFwdpcznT+OtT8lu2ygP7KCdglFRKI/RD6X1FQTpD9S4f9GgsWlPwkj5cBCSac/gYAonMWZqD9iUUWKy8epP/AiPux556o/N2BbWs4FrD9PhSqkAi2tP8Edk9XYYK4/\",\"dtype\":\"float64\",\"shape\":[75]},\"y\":{\"__ndarray__\":\"GhExyth1ND/Sv8nbtpRIP2vylNV0PVE/aTum7souWD/At0SJ8fVgPw3Iuahxymc/MSNhhJWvcD/bTfBN02d3P2zb5nxnaoA/CD5h5MAGhz8NmeH1TyaQP+zrCsc9p5Y/LbKd76fGnz/bLW5ISEmmPww9YvTcQq8/JV2OstnstT8Er5Y7M8G+P0c+r3jqkcU/5h99k6ZBzj88bCIzFzjVP4enV8oyxN0//yH99nXg5D8qOpLLf0jtP5kqGJXUifQ/c9cS8kHP/D+/DpwzojQEQIEmwoanVwxA4lgXt9HgE0BSSZ2AJuIbQAMJih9jjiNA5q4l5INuK0AwTKYKRj0zQNv5fmq8/DpAaCJseHrtQkB/+zpwzoxKQM3MzMzMeFJAZmZmZmZqWEAAAAAAAFxeQM3MzMzMJmJAmpmZmZkfZUBmZmZmZhhoQDMzMzMzEWtAAAAAAAAKbkBmZmZmZoFwQM3MzMzM/XFAMzMzMzN6c0CamZmZmfZ0QAAAAAAAc3ZAZmZmZmbvd0DNzMzMzGt5QDMzMzMz6HpAmpmZmZlkfEAAAAAAAOF9QGZmZmZmXX9AZmZmZuZsgECamZmZGSuBQM3MzMxM6YFAAAAAAICngkAzMzMzs2WDQGZmZmbmI4RAmpmZmRnihEDNzMzMTKCFQAAAAACAXoZAMzMzM7Mch0BmZmZm5tqHQJqZmZkZmYhAzczMzExXiUAAAAAAgBWKQDMzMzOz04pAZmZmZuaRi0CamZmZGVCMQM3MzMxMDo1AAAAAAIDMjUAzMzMzs4qOQGZmZmbmSI9A\",\"dtype\":\"float64\",\"shape\":[75]}},\"selected\":{\"id\":\"98938ba5-9cb8-46ba-801f-c67348d7dc59\",\"type\":\"Selection\"},\"selection_policy\":{\"id\":\"cfe7b4e8-7ff9-41f8-ad75-e321c5c774ed\",\"type\":\"UnionRenderers\"}},\"id\":\"c075e7a7-9fb9-46ff-b7b7-40ec6dd163f2\",\"type\":\"ColumnDataSource\"},{\"attributes\":{},\"id\":\"d2cf629c-34f7-4636-a054-75e3fc6cef71\",\"type\":\"BasicTicker\"},{\"attributes\":{\"source\":{\"id\":\"25c0557a-d72c-4409-8d1b-a2498f8834ea\",\"type\":\"ColumnDataSource\"}},\"id\":\"85799f39-925f-407f-af4f-500c54861948\",\"type\":\"CDSView\"},{\"attributes\":{\"axis_label\":\"cooling rate [K/day]\",\"formatter\":{\"id\":\"49b74a9d-2b6b-476c-a356-97786fb2670a\",\"type\":\"BasicTickFormatter\"},\"plot\":{\"id\":\"a3368ca6-df91-4326-adb5-bcfcf59aa5c4\",\"subtype\":\"Figure\",\"type\":\"Plot\"},\"ticker\":{\"id\":\"d2cf629c-34f7-4636-a054-75e3fc6cef71\",\"type\":\"BasicTicker\"}},\"id\":\"ca70369a-2ab7-45a2-b99a-939672d1bd39\",\"type\":\"LinearAxis\"},{\"attributes\":{\"plot\":{\"id\":\"a3368ca6-df91-4326-adb5-bcfcf59aa5c4\",\"subtype\":\"Figure\",\"type\":\"Plot\"},\"ticker\":{\"id\":\"d2cf629c-34f7-4636-a054-75e3fc6cef71\",\"type\":\"BasicTicker\"}},\"id\":\"d2a9deaa-6556-4f4f-a374-35eaf25f8f3f\",\"type\":\"Grid\"},{\"attributes\":{},\"id\":\"2131bbaf-fb12-4ab7-b0a0-cda313555bc4\",\"type\":\"HelpTool\"},{\"attributes\":{\"overlay\":{\"id\":\"14a9abb5-1a18-4135-813c-59baaa4c0328\",\"type\":\"BoxAnnotation\"}},\"id\":\"fe476a95-9d78-4cb5-9cf9-5c2c232574cd\",\"type\":\"BoxZoomTool\"},{\"attributes\":{\"source\":{\"id\":\"8877cd55-0d3b-4c0c-bf3a-10a2d857b77b\",\"type\":\"ColumnDataSource\"}},\"id\":\"14363f8f-9147-4e5e-9b6c-24e1a7a05124\",\"type\":\"CDSView\"},{\"attributes\":{},\"id\":\"c224a0e4-c501-468c-a405-7d00fa02f839\",\"type\":\"LinearScale\"},{\"attributes\":{\"bottom_units\":\"screen\",\"fill_alpha\":{\"value\":0.5},\"fill_color\":{\"value\":\"lightgrey\"},\"left_units\":\"screen\",\"level\":\"overlay\",\"line_alpha\":{\"value\":1.0},\"line_color\":{\"value\":\"black\"},\"line_dash\":[4,4],\"line_width\":{\"value\":2},\"plot\":null,\"render_mode\":\"css\",\"right_units\":\"screen\",\"top_units\":\"screen\"},\"id\":\"6f39b7f8-2937-4a23-bb3e-0c6b3b936266\",\"type\":\"BoxAnnotation\"},{\"attributes\":{\"fill_alpha\":{\"value\":0.1},\"fill_color\":{\"value\":\"#1f77b4\"},\"line_alpha\":{\"value\":0.1},\"line_color\":{\"value\":\"#1f77b4\"},\"x\":{\"field\":\"x\"},\"y\":{\"field\":\"y\"}},\"id\":\"e6818b27-79a8-433f-b820-6fff278f5cc4\",\"type\":\"Circle\"},{\"attributes\":{\"fill_alpha\":{\"value\":0.1},\"fill_color\":{\"value\":\"#1f77b4\"},\"line_alpha\":{\"value\":0.1},\"line_color\":{\"value\":\"#1f77b4\"},\"x\":{\"field\":\"x\"},\"y\":{\"field\":\"y\"}},\"id\":\"e3ef1b0b-65f0-48a9-8e9f-3189f22253a1\",\"type\":\"Square\"},{\"attributes\":{\"line_alpha\":0.6,\"line_color\":\"#984ea3\",\"line_width\":3,\"x\":{\"field\":\"x\"},\"y\":{\"field\":\"y\"}},\"id\":\"d9b9259c-b348-41d5-bd3e-6e0f90b5a89b\",\"type\":\"Line\"},{\"attributes\":{\"fill_alpha\":{\"value\":0.7},\"fill_color\":{\"value\":\"#984ea3\"},\"line_alpha\":{\"value\":0.7},\"line_color\":{\"value\":\"#984ea3\"},\"x\":{\"field\":\"x\"},\"y\":{\"field\":\"y\"}},\"id\":\"1478189b-906d-4beb-8fa5-198397478ceb\",\"type\":\"Square\"},{\"attributes\":{\"source\":{\"id\":\"147804f0-e0cc-48ef-874b-9b9c4fbce1fa\",\"type\":\"ColumnDataSource\"}},\"id\":\"e6a81409-1b21-4f95-8270-e7e87ee7fcef\",\"type\":\"CDSView\"},{\"attributes\":{\"callback\":null,\"data\":{\"x\":{\"__ndarray__\":\"bL8wg8nUiL+z3GzU7oeIv5l2bBym4Ye/zOfYj0kuh78NLTAbXHeGv5MHRSUPvYW/PRjMEHP/hL83WIBDpD6Evxoj+QnHeoO/vMHiViq0gr9r3MeaP+uBvy05GV6KIIG/2FKr48RUgL+8/3k3h/V+vyv3J7RsiHm/MrdWMDAVYr+DCC5rwT1zP+FTpqhYl4s/qT5zW33wmD9dvzl/klSjP7jbYkBYs6s/ST9FJirmsj96RpmLQ4+3P06TsMU917c/O48mJZXisz8MDaP2Qp2uP8ZENkTMSqY/pkj3OQB8nj+WUR+UKliTP2ihfJKxtIU/oaxde/c2cT8F6U1rkoJFvzXjm0uEXXC/SpTes4VSe7+dzEbREIuEvzQrQ5dLco2/7F3AgLkHk78c0T81Zb2Wv59WhZFUYpq/ASS7lxmEnb8cs3eFCPiev2eFT6d2rp6/OhdDVAG5nb/+yJQa2G2cv9Q3o9sq2Zq/0B6j68EAmb+XjkFsO+qWv1dxCnF8m5S/eJdXzPcakr+nZKECp96Ov7L9hKHtSIm/r2PtiviJg78Hqf1VhV97v4KzDGDu9G6/6AuXZYrcSr/gI+bhdBBiP+SLc3svt3U/JlYFLPJZgT9cBZkrNf+HP9gvz3Scyo4/tYZp8Q7dkj8IIuG/cGaWP+bIUBEeAZo/aHSUq1+rnT+j7IABjbCgP1NRb+tVjKI/To3yz1BepD91YYFg1RSmPyIfACkUn6c/Mc7lNgf6qD8Hq1RrazKqP1ZLnkW8WKs/42nj3kB4rD/tlsDX6patP1Izoxyet64/\",\"dtype\":\"float64\",\"shape\":[75]},\"y\":{\"__ndarray__\":\"GhExyth1ND/Sv8nbtpRIP2vylNV0PVE/aTum7souWD/At0SJ8fVgPw3Iuahxymc/MSNhhJWvcD/bTfBN02d3P2zb5nxnaoA/CD5h5MAGhz8NmeH1TyaQP+zrCsc9p5Y/LbKd76fGnz/bLW5ISEmmPww9YvTcQq8/JV2OstnstT8Er5Y7M8G+P0c+r3jqkcU/5h99k6ZBzj88bCIzFzjVP4enV8oyxN0//yH99nXg5D8qOpLLf0jtP5kqGJXUifQ/c9cS8kHP/D+/DpwzojQEQIEmwoanVwxA4lgXt9HgE0BSSZ2AJuIbQAMJih9jjiNA5q4l5INuK0AwTKYKRj0zQNv5fmq8/DpAaCJseHrtQkB/+zpwzoxKQM3MzMzMeFJAZmZmZmZqWEAAAAAAAFxeQM3MzMzMJmJAmpmZmZkfZUBmZmZmZhhoQDMzMzMzEWtAAAAAAAAKbkBmZmZmZoFwQM3MzMzM/XFAMzMzMzN6c0CamZmZmfZ0QAAAAAAAc3ZAZmZmZmbvd0DNzMzMzGt5QDMzMzMz6HpAmpmZmZlkfEAAAAAAAOF9QGZmZmZmXX9AZmZmZuZsgECamZmZGSuBQM3MzMxM6YFAAAAAAICngkAzMzMzs2WDQGZmZmbmI4RAmpmZmRnihEDNzMzMTKCFQAAAAACAXoZAMzMzM7Mch0BmZmZm5tqHQJqZmZkZmYhAzczMzExXiUAAAAAAgBWKQDMzMzOz04pAZmZmZuaRi0CamZmZGVCMQM3MzMxMDo1AAAAAAIDMjUAzMzMzs4qOQGZmZmbmSI9A\",\"dtype\":\"float64\",\"shape\":[75]}},\"selected\":{\"id\":\"e542723e-1a85-4858-b3fa-64fa6901f63a\",\"type\":\"Selection\"},\"selection_policy\":{\"id\":\"f64e4cb1-deaf-405f-ad78-b611f5d338cd\",\"type\":\"UnionRenderers\"}},\"id\":\"4a59bacb-1b95-4973-ab78-ad350997ab99\",\"type\":\"ColumnDataSource\"},{\"attributes\":{},\"id\":\"8c3b8a99-82a9-4cf7-8ec7-850e2b721de7\",\"type\":\"ResetTool\"},{\"attributes\":{\"data_source\":{\"id\":\"8877cd55-0d3b-4c0c-bf3a-10a2d857b77b\",\"type\":\"ColumnDataSource\"},\"glyph\":{\"id\":\"d9b9259c-b348-41d5-bd3e-6e0f90b5a89b\",\"type\":\"Line\"},\"hover_glyph\":null,\"muted_glyph\":null,\"nonselection_glyph\":{\"id\":\"191ecfc5-963e-4cf4-9177-40701f9ee5a0\",\"type\":\"Line\"},\"selection_glyph\":null,\"view\":{\"id\":\"14363f8f-9147-4e5e-9b6c-24e1a7a05124\",\"type\":\"CDSView\"}},\"id\":\"82b40eb4-2777-494b-95d2-791f209935be\",\"type\":\"GlyphRenderer\"},{\"attributes\":{\"callback\":null,\"data\":{\"x\":{\"__ndarray__\":\"VJgSDQKwkL9WwUOoU4WQv38+mlhoKZC/oDeuiGOMj78rS/zXy8GOv+xEORgo842/7OK2xHEgjb/rWaQvS1KMv2Cqp2Poi4u/Pyy4KLLIir9m1ZnxRwKKvy9XhDzmGIm/KczSgnFHiL/m+29swYCHvz/rd/S+3IS/lFr90vH8d7+C2Y+PQ4NZPyXDVQJKaoY/5dZoqSAXlz8pS1qCAdSiPxQ/l95Rras/chpMlYwssz83igACkBC4P/bl4AI4K7g/WIcV68+8sz/DqMt8r5+tP053pCqTDKU//VRHKK9BnD95eNYPsPCRP/h+f4PZ5YQ/yDIkoAz3cj8gBuLrEhosP1uPcZic/mi/lSebdS0beL/e0Zl6VmWDv8Nn/rWvp4y/lrjkcX6ukr9RYBgxrl+Wv/BLbKMiE5q/AsGWuo9Tnb9iTihxisiev8I7UmQBWJ6/ye6hRJQ9nb/4Q3f+6dWbvxpmuxZ6Kpq/9RR5oSpBmL/aSIxD5ByWv+8+OSg6xZO/Ec+kLXdAkb/50guthyiNv5r5adionoe/uynR57j0gb+0CoY6yXV4v7PZhgqEz2m/hre8+aYoM78WaOkSU3RlP/YpVtUB8XY/v8uG4ZW3gT+2h130IBqIP4HKQRvapo4/YIg7J02tkj98eYtrARqWP1XGrrJ1nJk/BKFwdpcznT+OtT8lu2ygP7KCdglFRKI/RD6X1FQTpD9S4f9GgsWlPwkj5cBCSac/gYAonMWZqD9iUUWKy8epP/AiPux556o/N2BbWs4FrD9PhSqkAi2tP8Edk9XYYK4/\",\"dtype\":\"float64\",\"shape\":[75]},\"y\":{\"__ndarray__\":\"GhExyth1ND/Sv8nbtpRIP2vylNV0PVE/aTum7souWD/At0SJ8fVgPw3Iuahxymc/MSNhhJWvcD/bTfBN02d3P2zb5nxnaoA/CD5h5MAGhz8NmeH1TyaQP+zrCsc9p5Y/LbKd76fGnz/bLW5ISEmmPww9YvTcQq8/JV2OstnstT8Er5Y7M8G+P0c+r3jqkcU/5h99k6ZBzj88bCIzFzjVP4enV8oyxN0//yH99nXg5D8qOpLLf0jtP5kqGJXUifQ/c9cS8kHP/D+/DpwzojQEQIEmwoanVwxA4lgXt9HgE0BSSZ2AJuIbQAMJih9jjiNA5q4l5INuK0AwTKYKRj0zQNv5fmq8/DpAaCJseHrtQkB/+zpwzoxKQM3MzMzMeFJAZmZmZmZqWEAAAAAAAFxeQM3MzMzMJmJAmpmZmZkfZUBmZmZmZhhoQDMzMzMzEWtAAAAAAAAKbkBmZmZmZoFwQM3MzMzM/XFAMzMzMzN6c0CamZmZmfZ0QAAAAAAAc3ZAZmZmZmbvd0DNzMzMzGt5QDMzMzMz6HpAmpmZmZlkfEAAAAAAAOF9QGZmZmZmXX9AZmZmZuZsgECamZmZGSuBQM3MzMxM6YFAAAAAAICngkAzMzMzs2WDQGZmZmbmI4RAmpmZmRnihEDNzMzMTKCFQAAAAACAXoZAMzMzM7Mch0BmZmZm5tqHQJqZmZkZmYhAzczMzExXiUAAAAAAgBWKQDMzMzOz04pAZmZmZuaRi0CamZmZGVCMQM3MzMxMDo1AAAAAAIDMjUAzMzMzs4qOQGZmZmbmSI9A\",\"dtype\":\"float64\",\"shape\":[75]}},\"selected\":{\"id\":\"f19255dd-5a4f-469e-8e42-ce24ced74133\",\"type\":\"Selection\"},\"selection_policy\":{\"id\":\"36d0225f-ec51-4950-aa37-20c824f4ca16\",\"type\":\"UnionRenderers\"}},\"id\":\"8877cd55-0d3b-4c0c-bf3a-10a2d857b77b\",\"type\":\"ColumnDataSource\"},{\"attributes\":{\"data_source\":{\"id\":\"e8cc1c8b-5c1d-43dd-afac-6c49405ed58a\",\"type\":\"ColumnDataSource\"},\"glyph\":{\"id\":\"01e569bd-8d55-4d0a-aaf8-71af2ba2777b\",\"type\":\"Circle\"},\"hover_glyph\":null,\"muted_glyph\":null,\"nonselection_glyph\":{\"id\":\"e6818b27-79a8-433f-b820-6fff278f5cc4\",\"type\":\"Circle\"},\"selection_glyph\":null,\"view\":{\"id\":\"88769bfb-8e11-4726-9fcd-02477bebe00b\",\"type\":\"CDSView\"}},\"id\":\"0dcca304-0a46-41cf-bb48-f5bda9702e6d\",\"type\":\"GlyphRenderer\"},{\"attributes\":{\"line_alpha\":0.1,\"line_color\":\"#1f77b4\",\"line_width\":3,\"x\":{\"field\":\"x\"},\"y\":{\"field\":\"y\"}},\"id\":\"191ecfc5-963e-4cf4-9177-40701f9ee5a0\",\"type\":\"Line\"},{\"attributes\":{},\"id\":\"16cf008b-d8d3-46cb-a6a5-03b2030df75f\",\"type\":\"HelpTool\"},{\"attributes\":{\"fill_alpha\":{\"value\":0.7},\"fill_color\":{\"value\":\"#377eb8\"},\"line_alpha\":{\"value\":0.7},\"line_color\":{\"value\":\"#377eb8\"},\"x\":{\"field\":\"x\"},\"y\":{\"field\":\"y\"}},\"id\":\"f6ec152c-94e6-435b-b6dd-d43e7d91324b\",\"type\":\"Triangle\"},{\"attributes\":{},\"id\":\"703ad8e9-87a2-4dae-b236-1d1c19bb02ee\",\"type\":\"ResetTool\"},{\"attributes\":{\"callback\":null,\"data\":{\"x\":{\"__ndarray__\":\"bL8wg8nUiL+z3GzU7oeIv5l2bBym4Ye/zOfYj0kuh78NLTAbXHeGv5MHRSUPvYW/PRjMEHP/hL83WIBDpD6Evxoj+QnHeoO/vMHiViq0gr9r3MeaP+uBvy05GV6KIIG/2FKr48RUgL+8/3k3h/V+vyv3J7RsiHm/MrdWMDAVYr+DCC5rwT1zP+FTpqhYl4s/qT5zW33wmD9dvzl/klSjP7jbYkBYs6s/ST9FJirmsj96RpmLQ4+3P06TsMU917c/O48mJZXisz8MDaP2Qp2uP8ZENkTMSqY/pkj3OQB8nj+WUR+UKliTP2ihfJKxtIU/oaxde/c2cT8F6U1rkoJFvzXjm0uEXXC/SpTes4VSe7+dzEbREIuEvzQrQ5dLco2/7F3AgLkHk78c0T81Zb2Wv59WhZFUYpq/ASS7lxmEnb8cs3eFCPiev2eFT6d2rp6/OhdDVAG5nb/+yJQa2G2cv9Q3o9sq2Zq/0B6j68EAmb+XjkFsO+qWv1dxCnF8m5S/eJdXzPcakr+nZKECp96Ov7L9hKHtSIm/r2PtiviJg78Hqf1VhV97v4KzDGDu9G6/6AuXZYrcSr/gI+bhdBBiP+SLc3svt3U/JlYFLPJZgT9cBZkrNf+HP9gvz3Scyo4/tYZp8Q7dkj8IIuG/cGaWP+bIUBEeAZo/aHSUq1+rnT+j7IABjbCgP1NRb+tVjKI/To3yz1BepD91YYFg1RSmPyIfACkUn6c/Mc7lNgf6qD8Hq1RrazKqP1ZLnkW8WKs/42nj3kB4rD/tlsDX6patP1Izoxyet64/\",\"dtype\":\"float64\",\"shape\":[75]},\"y\":{\"__ndarray__\":\"GhExyth1ND/Sv8nbtpRIP2vylNV0PVE/aTum7souWD/At0SJ8fVgPw3Iuahxymc/MSNhhJWvcD/bTfBN02d3P2zb5nxnaoA/CD5h5MAGhz8NmeH1TyaQP+zrCsc9p5Y/LbKd76fGnz/bLW5ISEmmPww9YvTcQq8/JV2OstnstT8Er5Y7M8G+P0c+r3jqkcU/5h99k6ZBzj88bCIzFzjVP4enV8oyxN0//yH99nXg5D8qOpLLf0jtP5kqGJXUifQ/c9cS8kHP/D+/DpwzojQEQIEmwoanVwxA4lgXt9HgE0BSSZ2AJuIbQAMJih9jjiNA5q4l5INuK0AwTKYKRj0zQNv5fmq8/DpAaCJseHrtQkB/+zpwzoxKQM3MzMzMeFJAZmZmZmZqWEAAAAAAAFxeQM3MzMzMJmJAmpmZmZkfZUBmZmZmZhhoQDMzMzMzEWtAAAAAAAAKbkBmZmZmZoFwQM3MzMzM/XFAMzMzMzN6c0CamZmZmfZ0QAAAAAAAc3ZAZmZmZmbvd0DNzMzMzGt5QDMzMzMz6HpAmpmZmZlkfEAAAAAAAOF9QGZmZmZmXX9AZmZmZuZsgECamZmZGSuBQM3MzMxM6YFAAAAAAICngkAzMzMzs2WDQGZmZmbmI4RAmpmZmRnihEDNzMzMTKCFQAAAAACAXoZAMzMzM7Mch0BmZmZm5tqHQJqZmZkZmYhAzczMzExXiUAAAAAAgBWKQDMzMzOz04pAZmZmZuaRi0CamZmZGVCMQM3MzMxMDo1AAAAAAIDMjUAzMzMzs4qOQGZmZmbmSI9A\",\"dtype\":\"float64\",\"shape\":[75]}},\"selected\":{\"id\":\"d0109270-7b26-4ca1-a3e3-8474f3f19dd7\",\"type\":\"Selection\"},\"selection_policy\":{\"id\":\"7a00d91a-fa3b-4943-bf85-e03eb1b32ec7\",\"type\":\"UnionRenderers\"}},\"id\":\"8e89a4fa-d44f-47f2-8c29-651a494b4aca\",\"type\":\"ColumnDataSource\"},{\"attributes\":{\"fill_alpha\":{\"value\":0.7},\"fill_color\":{\"value\":\"#4daf4a\"},\"line_alpha\":{\"value\":0.7},\"line_color\":{\"value\":\"#4daf4a\"},\"x\":{\"field\":\"x\"},\"y\":{\"field\":\"y\"}},\"id\":\"01e569bd-8d55-4d0a-aaf8-71af2ba2777b\",\"type\":\"Circle\"},{\"attributes\":{\"fill_alpha\":{\"value\":0.1},\"fill_color\":{\"value\":\"#1f77b4\"},\"line_alpha\":{\"value\":0.1},\"line_color\":{\"value\":\"#1f77b4\"},\"x\":{\"field\":\"x\"},\"y\":{\"field\":\"y\"}},\"id\":\"ee59b761-770c-458e-9b9e-53fe23afab27\",\"type\":\"Triangle\"},{\"attributes\":{},\"id\":\"c87e3c8f-b8ea-47b6-978d-096323bebb93\",\"type\":\"PanTool\"},{\"attributes\":{\"data_source\":{\"id\":\"4a59bacb-1b95-4973-ab78-ad350997ab99\",\"type\":\"ColumnDataSource\"},\"glyph\":{\"id\":\"f6ec152c-94e6-435b-b6dd-d43e7d91324b\",\"type\":\"Triangle\"},\"hover_glyph\":null,\"muted_glyph\":null,\"nonselection_glyph\":{\"id\":\"ee59b761-770c-458e-9b9e-53fe23afab27\",\"type\":\"Triangle\"},\"selection_glyph\":null,\"view\":{\"id\":\"7ca91623-b7a5-4f40-837f-4bfe48e0fb35\",\"type\":\"CDSView\"}},\"id\":\"58758859-76a4-4135-9acd-8b14157dc243\",\"type\":\"GlyphRenderer\"},{\"attributes\":{\"source\":{\"id\":\"4a59bacb-1b95-4973-ab78-ad350997ab99\",\"type\":\"ColumnDataSource\"}},\"id\":\"7ca91623-b7a5-4f40-837f-4bfe48e0fb35\",\"type\":\"CDSView\"},{\"attributes\":{\"callback\":null,\"end\":0.01,\"start\":1020},\"id\":\"09d361ab-8ccd-445f-be42-6e4ac8ea7c17\",\"type\":\"Range1d\"},{\"attributes\":{\"fill_alpha\":{\"value\":0.7},\"fill_color\":{\"value\":\"#984ea3\"},\"line_alpha\":{\"value\":0.7},\"line_color\":{\"value\":\"#984ea3\"},\"x\":{\"field\":\"x\"},\"y\":{\"field\":\"y\"}},\"id\":\"508a0c1a-02bc-400b-bd89-890b4d58b8b0\",\"type\":\"Square\"},{\"attributes\":{\"line_alpha\":0.3,\"line_color\":\"#377eb8\",\"line_width\":2,\"x\":{\"field\":\"x\"},\"y\":{\"field\":\"y\"}},\"id\":\"d2ddf360-665e-4ec4-ac69-c656767c8ff5\",\"type\":\"Line\"},{\"attributes\":{\"children\":[{\"id\":\"49fea768-ec70-4386-a52e-2b1e76ecbe69\",\"type\":\"Row\"}]},\"id\":\"7a443891-2c22-4d21-b0da-ec139dbe6f1f\",\"type\":\"Column\"},{\"attributes\":{},\"id\":\"67c67086-bbe6-4eb5-b6b5-04e532efdbfc\",\"type\":\"SaveTool\"},{\"attributes\":{\"source\":{\"id\":\"594c3977-23c1-45dc-af0c-c4aebeccfe42\",\"type\":\"ColumnDataSource\"}},\"id\":\"69596353-3eb6-46a5-8293-e939ea658d47\",\"type\":\"CDSView\"},{\"attributes\":{\"line_alpha\":0.1,\"line_color\":\"#1f77b4\",\"line_width\":2,\"x\":{\"field\":\"x\"},\"y\":{\"field\":\"y\"}},\"id\":\"8d4af45f-3920-484a-964d-d1a9b087aae6\",\"type\":\"Line\"},{\"attributes\":{\"data_source\":{\"id\":\"8e89a4fa-d44f-47f2-8c29-651a494b4aca\",\"type\":\"ColumnDataSource\"},\"glyph\":{\"id\":\"d2ddf360-665e-4ec4-ac69-c656767c8ff5\",\"type\":\"Line\"},\"hover_glyph\":null,\"muted_glyph\":null,\"nonselection_glyph\":{\"id\":\"8d4af45f-3920-484a-964d-d1a9b087aae6\",\"type\":\"Line\"},\"selection_glyph\":null,\"view\":{\"id\":\"2790ff20-a8e6-4337-bfe9-d3a4a4dfd86d\",\"type\":\"CDSView\"}},\"id\":\"df1c8e10-598f-474c-9f15-3b6a663b4359\",\"type\":\"GlyphRenderer\"},{\"attributes\":{\"source\":{\"id\":\"8e89a4fa-d44f-47f2-8c29-651a494b4aca\",\"type\":\"ColumnDataSource\"}},\"id\":\"2790ff20-a8e6-4337-bfe9-d3a4a4dfd86d\",\"type\":\"CDSView\"},{\"attributes\":{\"plot\":null,\"text\":\"\"},\"id\":\"c5ec8e81-b11b-4f3e-9234-d828178be11a\",\"type\":\"Title\"},{\"attributes\":{\"children\":[{\"id\":\"a3368ca6-df91-4326-adb5-bcfcf59aa5c4\",\"subtype\":\"Figure\",\"type\":\"Plot\"},{\"id\":\"6186dfd1-b611-4730-b8e4-4d319fede6b7\",\"subtype\":\"Figure\",\"type\":\"Plot\"}]},\"id\":\"49fea768-ec70-4386-a52e-2b1e76ecbe69\",\"type\":\"Row\"},{\"attributes\":{},\"id\":\"63cbda5d-0f32-4920-ad13-cf7217266bd1\",\"type\":\"SaveTool\"},{\"attributes\":{\"line_alpha\":0.1,\"line_color\":\"#1f77b4\",\"line_width\":1.5,\"x\":{\"field\":\"x\"},\"y\":{\"field\":\"y\"}},\"id\":\"38e51b65-abd1-4eaf-86df-9b9b08572988\",\"type\":\"Line\"},{\"attributes\":{\"label\":{\"value\":\"CRD\"},\"renderers\":[{\"id\":\"c12e3e21-371b-4564-913b-076803ca2a99\",\"type\":\"GlyphRenderer\"},{\"id\":\"007bede1-cfd5-4f8b-a70f-e8fe43f0bfa8\",\"type\":\"GlyphRenderer\"}]},\"id\":\"f1e288d3-64ec-4dcd-9d8c-1a319ba75d4f\",\"type\":\"LegendItem\"},{\"attributes\":{},\"id\":\"ba2cfadf-2b48-40b5-8eb0-33f18c04d04a\",\"type\":\"UnionRenderers\"},{\"attributes\":{\"label\":{\"value\":\"WGT igg=1\"},\"renderers\":[{\"id\":\"989bb414-0a46-407b-94ea-bd9239dd1fe6\",\"type\":\"GlyphRenderer\"},{\"id\":\"82b40eb4-2777-494b-95d2-791f209935be\",\"type\":\"GlyphRenderer\"}]},\"id\":\"42091f01-8e36-423f-a5c7-6b4c9c6529ea\",\"type\":\"LegendItem\"},{\"attributes\":{},\"id\":\"2eaab9ae-f28b-42e0-94ae-030a000009ca\",\"type\":\"Selection\"},{\"attributes\":{\"label\":{\"value\":\"WGT igg=10\"},\"renderers\":[{\"id\":\"58758859-76a4-4135-9acd-8b14157dc243\",\"type\":\"GlyphRenderer\"},{\"id\":\"df1c8e10-598f-474c-9f15-3b6a663b4359\",\"type\":\"GlyphRenderer\"}]},\"id\":\"53681349-e4c1-4067-9afa-8481fe26ae15\",\"type\":\"LegendItem\"},{\"attributes\":{\"plot\":null,\"text\":\"\"},\"id\":\"f8445950-78ab-4e8b-bf25-8777008c214e\",\"type\":\"Title\"},{\"attributes\":{},\"id\":\"c8e0250a-9012-41ea-aa3f-e492eacc3db0\",\"type\":\"BasicTickFormatter\"},{\"attributes\":{},\"id\":\"49b74a9d-2b6b-476c-a356-97786fb2670a\",\"type\":\"BasicTickFormatter\"},{\"attributes\":{\"callback\":null,\"data\":{\"x\":{\"__ndarray__\":\"VJgSDQKwkL9WwUOoU4WQv38+mlhoKZC/oDeuiGOMj78rS/zXy8GOv+xEORgo842/7OK2xHEgjb/rWaQvS1KMv2Cqp2Poi4u/Pyy4KLLIir9m1ZnxRwKKvy9XhDzmGIm/KczSgnFHiL/m+29swYCHvz/rd/S+3IS/lFr90vH8d7+C2Y+PQ4NZPyXDVQJKaoY/5dZoqSAXlz8pS1qCAdSiPxQ/l95Rras/chpMlYwssz83igACkBC4P/bl4AI4K7g/WIcV68+8sz/DqMt8r5+tP053pCqTDKU//VRHKK9BnD95eNYPsPCRP/h+f4PZ5YQ/yDIkoAz3cj8gBuLrEhosP1uPcZic/mi/lSebdS0beL/e0Zl6VmWDv8Nn/rWvp4y/lrjkcX6ukr9RYBgxrl+Wv/BLbKMiE5q/AsGWuo9Tnb9iTihxisiev8I7UmQBWJ6/ye6hRJQ9nb/4Q3f+6dWbvxpmuxZ6Kpq/9RR5oSpBmL/aSIxD5ByWv+8+OSg6xZO/Ec+kLXdAkb/50guthyiNv5r5adionoe/uynR57j0gb+0CoY6yXV4v7PZhgqEz2m/hre8+aYoM78WaOkSU3RlP/YpVtUB8XY/v8uG4ZW3gT+2h130IBqIP4HKQRvapo4/YIg7J02tkj98eYtrARqWP1XGrrJ1nJk/BKFwdpcznT+OtT8lu2ygP7KCdglFRKI/RD6X1FQTpD9S4f9GgsWlPwkj5cBCSac/gYAonMWZqD9iUUWKy8epP/AiPux556o/N2BbWs4FrD9PhSqkAi2tP8Edk9XYYK4/\",\"dtype\":\"float64\",\"shape\":[75]},\"y\":{\"__ndarray__\":\"GhExyth1ND/Sv8nbtpRIP2vylNV0PVE/aTum7souWD/At0SJ8fVgPw3Iuahxymc/MSNhhJWvcD/bTfBN02d3P2zb5nxnaoA/CD5h5MAGhz8NmeH1TyaQP+zrCsc9p5Y/LbKd76fGnz/bLW5ISEmmPww9YvTcQq8/JV2OstnstT8Er5Y7M8G+P0c+r3jqkcU/5h99k6ZBzj88bCIzFzjVP4enV8oyxN0//yH99nXg5D8qOpLLf0jtP5kqGJXUifQ/c9cS8kHP/D+/DpwzojQEQIEmwoanVwxA4lgXt9HgE0BSSZ2AJuIbQAMJih9jjiNA5q4l5INuK0AwTKYKRj0zQNv5fmq8/DpAaCJseHrtQkB/+zpwzoxKQM3MzMzMeFJAZmZmZmZqWEAAAAAAAFxeQM3MzMzMJmJAmpmZmZkfZUBmZmZmZhhoQDMzMzMzEWtAAAAAAAAKbkBmZmZmZoFwQM3MzMzM/XFAMzMzMzN6c0CamZmZmfZ0QAAAAAAAc3ZAZmZmZmbvd0DNzMzMzGt5QDMzMzMz6HpAmpmZmZlkfEAAAAAAAOF9QGZmZmZmXX9AZmZmZuZsgECamZmZGSuBQM3MzMxM6YFAAAAAAICngkAzMzMzs2WDQGZmZmbmI4RAmpmZmRnihEDNzMzMTKCFQAAAAACAXoZAMzMzM7Mch0BmZmZm5tqHQJqZmZkZmYhAzczMzExXiUAAAAAAgBWKQDMzMzOz04pAZmZmZuaRi0CamZmZGVCMQM3MzMxMDo1AAAAAAIDMjUAzMzMzs4qOQGZmZmbmSI9A\",\"dtype\":\"float64\",\"shape\":[75]}},\"selected\":{\"id\":\"7ed27880-d5bf-4276-9abc-09fc249d55eb\",\"type\":\"Selection\"},\"selection_policy\":{\"id\":\"d46169cf-c6aa-494c-bddf-ea44d74850c1\",\"type\":\"UnionRenderers\"}},\"id\":\"ff2aa318-f82b-455c-a3b6-325e3c71963b\",\"type\":\"ColumnDataSource\"},{\"attributes\":{\"fill_alpha\":{\"value\":0.1},\"fill_color\":{\"value\":\"#1f77b4\"},\"line_alpha\":{\"value\":0.1},\"line_color\":{\"value\":\"#1f77b4\"},\"x\":{\"field\":\"x\"},\"y\":{\"field\":\"y\"}},\"id\":\"6d016d91-bfc2-4b7c-a4f6-ff1c620d5a6a\",\"type\":\"Square\"},{\"attributes\":{},\"id\":\"ac475e36-0ebf-4198-830d-fddb5203b780\",\"type\":\"Selection\"},{\"attributes\":{},\"id\":\"c041a2c1-168c-4f84-a460-dfe355e09d4a\",\"type\":\"BasicTickFormatter\"},{\"attributes\":{\"data_source\":{\"id\":\"594c3977-23c1-45dc-af0c-c4aebeccfe42\",\"type\":\"ColumnDataSource\"},\"glyph\":{\"id\":\"00f3e7a9-8485-4540-a64d-434435fd29a9\",\"type\":\"Line\"},\"hover_glyph\":null,\"muted_glyph\":null,\"nonselection_glyph\":{\"id\":\"38e51b65-abd1-4eaf-86df-9b9b08572988\",\"type\":\"Line\"},\"selection_glyph\":null,\"view\":{\"id\":\"69596353-3eb6-46a5-8293-e939ea658d47\",\"type\":\"CDSView\"}},\"id\":\"8c1130bb-57c8-4910-ac41-fb71711d61c3\",\"type\":\"GlyphRenderer\"},{\"attributes\":{},\"id\":\"5831a85b-5bb0-4803-99c5-1995c870af27\",\"type\":\"UnionRenderers\"},{\"attributes\":{\"line_color\":\"#4daf4a\",\"line_width\":1.5,\"x\":{\"field\":\"x\"},\"y\":{\"field\":\"y\"}},\"id\":\"00f3e7a9-8485-4540-a64d-434435fd29a9\",\"type\":\"Line\"},{\"attributes\":{},\"id\":\"5bebdc7a-8da4-4f57-b427-ba2e68beb103\",\"type\":\"UnionRenderers\"},{\"attributes\":{\"source\":{\"id\":\"e8cc1c8b-5c1d-43dd-afac-6c49405ed58a\",\"type\":\"ColumnDataSource\"}},\"id\":\"88769bfb-8e11-4726-9fcd-02477bebe00b\",\"type\":\"CDSView\"},{\"attributes\":{},\"id\":\"e064f70c-0960-4765-88e8-d67a73a61c23\",\"type\":\"Selection\"},{\"attributes\":{\"callback\":null,\"data\":{\"x\":{\"__ndarray__\":\"1DglTU/0or+A50eN6dSiv8S/59i3jaK/Lg+X7iVBor9q4KfNkPOhvxW9lY8xp6G/AGnhw95eob/GbmU4dBehv4hnJfxq1aC/TUsySzqZoL/okb7JHmagvxajLJ5UQKC/Wh4BxOMtoL+Hg5+BsjCgv78W0IoJFZ+/Vuz52ZVmmb/vDAG5YnOOv9sj9eQu4GS/xKLusjgwiT/Or3gvgtaeP7DHtYphWKo/HHhwsAS/sz9LZ+7QJKO5PzNC6Sbc97g/0JcjdBGVsj/XpkeQV9KoP0bbC6RrgJ8/JaYf3gCdkz8oyD5guV6JP+os0GUUPoE/EMafUan3dT/EWuRMoXZkPwBmBWCjJDE/zTTPG8pOWr8X9WOa6f9wvxTBEjN52X6/A3XpZ7rzhb9m06O80seLvxA3DNvsXZG/oAOsYyDblL/T118MgYuWv/6w6EajMpa/0Iwc0Flelb/MPHWJQ2aUv691MmIEQpO/p4aJMrjskb+1w4MQjmWQvypw9e8mXI2/Hm1HMXOTib9CX2Tjz3uFv+182frfLIG/PGcTj4J8eb/FzsVoFH1wvxfzxBUZZV2/a+eo5ustQD+LiEYSEW9nPwPxayJgy3U/Jq7EynklgD9w8nvoPJ6FPy6R+MIuUos/mx27pIChkD/6UTlBE7qTP/a2okGy9JY/Pb9E7uJRmj/6XZntSs+dP5BrF6t9saA/ZX4n1eV4oj8In/yzyiWkP3Z2tPMRoaU/KvJPINjnpj9arQnNOw6oP/x0MpWALak/5Z7D92RXqj8IaKlGHperP5pUxyND96w/\",\"dtype\":\"float64\",\"shape\":[75]},\"y\":{\"__ndarray__\":\"GhExyth1ND/Sv8nbtpRIP2vylNV0PVE/aTum7souWD/At0SJ8fVgPw3Iuahxymc/MSNhhJWvcD/bTfBN02d3P2zb5nxnaoA/CD5h5MAGhz8NmeH1TyaQP+zrCsc9p5Y/LbKd76fGnz/bLW5ISEmmPww9YvTcQq8/JV2OstnstT8Er5Y7M8G+P0c+r3jqkcU/5h99k6ZBzj88bCIzFzjVP4enV8oyxN0//yH99nXg5D8qOpLLf0jtP5kqGJXUifQ/c9cS8kHP/D+/DpwzojQEQIEmwoanVwxA4lgXt9HgE0BSSZ2AJuIbQAMJih9jjiNA5q4l5INuK0AwTKYKRj0zQNv5fmq8/DpAaCJseHrtQkB/+zpwzoxKQM3MzMzMeFJAZmZmZmZqWEAAAAAAAFxeQM3MzMzMJmJAmpmZmZkfZUBmZmZmZhhoQDMzMzMzEWtAAAAAAAAKbkBmZmZmZoFwQM3MzMzM/XFAMzMzMzN6c0CamZmZmfZ0QAAAAAAAc3ZAZmZmZmbvd0DNzMzMzGt5QDMzMzMz6HpAmpmZmZlkfEAAAAAAAOF9QGZmZmZmXX9AZmZmZuZsgECamZmZGSuBQM3MzMxM6YFAAAAAAICngkAzMzMzs2WDQGZmZmbmI4RAmpmZmRnihEDNzMzMTKCFQAAAAACAXoZAMzMzM7Mch0BmZmZm5tqHQJqZmZkZmYhAzczMzExXiUAAAAAAgBWKQDMzMzOz04pAZmZmZuaRi0CamZmZGVCMQM3MzMxMDo1AAAAAAIDMjUAzMzMzs4qOQGZmZmbmSI9A\",\"dtype\":\"float64\",\"shape\":[75]}},\"selected\":{\"id\":\"e064f70c-0960-4765-88e8-d67a73a61c23\",\"type\":\"Selection\"},\"selection_policy\":{\"id\":\"2f7ff9b0-4f10-4b54-a9d5-3fff35e4ad63\",\"type\":\"UnionRenderers\"}},\"id\":\"594c3977-23c1-45dc-af0c-c4aebeccfe42\",\"type\":\"ColumnDataSource\"},{\"attributes\":{},\"id\":\"2f7ff9b0-4f10-4b54-a9d5-3fff35e4ad63\",\"type\":\"UnionRenderers\"},{\"attributes\":{},\"id\":\"050e4923-74dd-4d21-9ea3-1943b0970052\",\"type\":\"Selection\"},{\"attributes\":{},\"id\":\"d10c056f-e627-41c7-8987-56991b8e34be\",\"type\":\"Selection\"},{\"attributes\":{},\"id\":\"b153a4d6-416e-4ef9-9e8d-4fd8d1ae1150\",\"type\":\"UnionRenderers\"},{\"attributes\":{\"bottom_units\":\"screen\",\"fill_alpha\":{\"value\":0.5},\"fill_color\":{\"value\":\"lightgrey\"},\"left_units\":\"screen\",\"level\":\"overlay\",\"line_alpha\":{\"value\":1.0},\"line_color\":{\"value\":\"black\"},\"line_dash\":[4,4],\"line_width\":{\"value\":2},\"plot\":null,\"render_mode\":\"css\",\"right_units\":\"screen\",\"top_units\":\"screen\"},\"id\":\"14a9abb5-1a18-4135-813c-59baaa4c0328\",\"type\":\"BoxAnnotation\"},{\"attributes\":{\"callback\":null,\"end\":0.01,\"start\":1020},\"id\":\"33685a20-9e99-47b1-ad86-72026d8a92e7\",\"type\":\"Range1d\"},{\"attributes\":{\"above\":[{\"id\":\"6f6c157a-28b7-47e5-9a17-6473948090dc\",\"type\":\"Legend\"}],\"below\":[{\"id\":\"ca70369a-2ab7-45a2-b99a-939672d1bd39\",\"type\":\"LinearAxis\"}],\"left\":[{\"id\":\"25d3da91-f83d-4b15-a21e-8759f9a9a71c\",\"type\":\"LinearAxis\"}],\"plot_height\":500,\"plot_width\":400,\"renderers\":[{\"id\":\"ca70369a-2ab7-45a2-b99a-939672d1bd39\",\"type\":\"LinearAxis\"},{\"id\":\"d2a9deaa-6556-4f4f-a374-35eaf25f8f3f\",\"type\":\"Grid\"},{\"id\":\"25d3da91-f83d-4b15-a21e-8759f9a9a71c\",\"type\":\"LinearAxis\"},{\"id\":\"0640c846-d5a7-4043-a417-66f50b3ead34\",\"type\":\"Grid\"},{\"id\":\"14a9abb5-1a18-4135-813c-59baaa4c0328\",\"type\":\"BoxAnnotation\"},{\"id\":\"0dcca304-0a46-41cf-bb48-f5bda9702e6d\",\"type\":\"GlyphRenderer\"},{\"id\":\"8c1130bb-57c8-4910-ac41-fb71711d61c3\",\"type\":\"GlyphRenderer\"},{\"id\":\"c4ee5e23-8806-4347-9380-3b362c8c61e4\",\"type\":\"GlyphRenderer\"},{\"id\":\"662a3993-6b3d-40ed-adc8-c16d4e53944c\",\"type\":\"GlyphRenderer\"},{\"id\":\"96348af9-c371-4693-9046-4c92a28f229a\",\"type\":\"GlyphRenderer\"},{\"id\":\"13341ea0-cd7b-457f-a446-298cee835de1\",\"type\":\"GlyphRenderer\"},{\"id\":\"6f6c157a-28b7-47e5-9a17-6473948090dc\",\"type\":\"Legend\"}],\"title\":{\"id\":\"c5ec8e81-b11b-4f3e-9234-d828178be11a\",\"type\":\"Title\"},\"toolbar\":{\"id\":\"acc04f9b-3c34-4364-854a-ba8c7ca534ab\",\"type\":\"Toolbar\"},\"toolbar_location\":null,\"x_range\":{\"id\":\"dba7d1ea-9f93-43bb-8651-37012fab99e0\",\"type\":\"Range1d\"},\"x_scale\":{\"id\":\"259b160d-63bb-437b-b3c1-ad3e729bdbf1\",\"type\":\"LinearScale\"},\"y_range\":{\"id\":\"09d361ab-8ccd-445f-be42-6e4ac8ea7c17\",\"type\":\"Range1d\"},\"y_scale\":{\"id\":\"c224a0e4-c501-468c-a405-7d00fa02f839\",\"type\":\"LinearScale\"}},\"id\":\"a3368ca6-df91-4326-adb5-bcfcf59aa5c4\",\"subtype\":\"Figure\",\"type\":\"Plot\"},{\"attributes\":{\"callback\":null,\"data\":{\"x\":{\"__ndarray__\":\"1DglTU/0or+A50eN6dSiv8S/59i3jaK/Lg+X7iVBor9q4KfNkPOhvxW9lY8xp6G/AGnhw95eob/GbmU4dBehv4hnJfxq1aC/TUsySzqZoL/okb7JHmagvxajLJ5UQKC/Wh4BxOMtoL+Hg5+BsjCgv78W0IoJFZ+/Vuz52ZVmmb/vDAG5YnOOv9sj9eQu4GS/xKLusjgwiT/Or3gvgtaeP7DHtYphWKo/HHhwsAS/sz9LZ+7QJKO5PzNC6Sbc97g/0JcjdBGVsj/XpkeQV9KoP0bbC6RrgJ8/JaYf3gCdkz8oyD5guV6JP+os0GUUPoE/EMafUan3dT/EWuRMoXZkPwBmBWCjJDE/zTTPG8pOWr8X9WOa6f9wvxTBEjN52X6/A3XpZ7rzhb9m06O80seLvxA3DNvsXZG/oAOsYyDblL/T118MgYuWv/6w6EajMpa/0Iwc0Flelb/MPHWJQ2aUv691MmIEQpO/p4aJMrjskb+1w4MQjmWQvypw9e8mXI2/Hm1HMXOTib9CX2Tjz3uFv+182frfLIG/PGcTj4J8eb/FzsVoFH1wvxfzxBUZZV2/a+eo5ustQD+LiEYSEW9nPwPxayJgy3U/Jq7EynklgD9w8nvoPJ6FPy6R+MIuUos/mx27pIChkD/6UTlBE7qTP/a2okGy9JY/Pb9E7uJRmj/6XZntSs+dP5BrF6t9saA/ZX4n1eV4oj8In/yzyiWkP3Z2tPMRoaU/KvJPINjnpj9arQnNOw6oP/x0MpWALak/5Z7D92RXqj8IaKlGHperP5pUxyND96w/\",\"dtype\":\"float64\",\"shape\":[75]},\"y\":{\"__ndarray__\":\"GhExyth1ND/Sv8nbtpRIP2vylNV0PVE/aTum7souWD/At0SJ8fVgPw3Iuahxymc/MSNhhJWvcD/bTfBN02d3P2zb5nxnaoA/CD5h5MAGhz8NmeH1TyaQP+zrCsc9p5Y/LbKd76fGnz/bLW5ISEmmPww9YvTcQq8/JV2OstnstT8Er5Y7M8G+P0c+r3jqkcU/5h99k6ZBzj88bCIzFzjVP4enV8oyxN0//yH99nXg5D8qOpLLf0jtP5kqGJXUifQ/c9cS8kHP/D+/DpwzojQEQIEmwoanVwxA4lgXt9HgE0BSSZ2AJuIbQAMJih9jjiNA5q4l5INuK0AwTKYKRj0zQNv5fmq8/DpAaCJseHrtQkB/+zpwzoxKQM3MzMzMeFJAZmZmZmZqWEAAAAAAAFxeQM3MzMzMJmJAmpmZmZkfZUBmZmZmZhhoQDMzMzMzEWtAAAAAAAAKbkBmZmZmZoFwQM3MzMzM/XFAMzMzMzN6c0CamZmZmfZ0QAAAAAAAc3ZAZmZmZmbvd0DNzMzMzGt5QDMzMzMz6HpAmpmZmZlkfEAAAAAAAOF9QGZmZmZmXX9AZmZmZuZsgECamZmZGSuBQM3MzMxM6YFAAAAAAICngkAzMzMzs2WDQGZmZmbmI4RAmpmZmRnihEDNzMzMTKCFQAAAAACAXoZAMzMzM7Mch0BmZmZm5tqHQJqZmZkZmYhAzczMzExXiUAAAAAAgBWKQDMzMzOz04pAZmZmZuaRi0CamZmZGVCMQM3MzMxMDo1AAAAAAIDMjUAzMzMzs4qOQGZmZmbmSI9A\",\"dtype\":\"float64\",\"shape\":[75]}},\"selected\":{\"id\":\"ac475e36-0ebf-4198-830d-fddb5203b780\",\"type\":\"Selection\"},\"selection_policy\":{\"id\":\"ba2cfadf-2b48-40b5-8eb0-33f18c04d04a\",\"type\":\"UnionRenderers\"}},\"id\":\"e8cc1c8b-5c1d-43dd-afac-6c49405ed58a\",\"type\":\"ColumnDataSource\"},{\"attributes\":{},\"id\":\"1f91e779-7a35-44f1-966e-04e2b63e63bb\",\"type\":\"UnionRenderers\"}],\"root_ids\":[\"2c9f0cba-5a7d-4e94-b672-6a64cb235c2d\"]},\"title\":\"Bokeh Application\",\"version\":\"0.12.16\"}};\n",
       "  var render_items = [{\"docid\":\"da4caba3-ff34-4ba7-95c8-3933ec635803\",\"elementid\":\"15a6ecb7-00ab-4fa2-b7ac-4c5a56316af3\",\"modelid\":\"2c9f0cba-5a7d-4e94-b672-6a64cb235c2d\"}];\n",
       "  root.Bokeh.embed.embed_items_notebook(docs_json, render_items);\n",
       "\n",
       "  }\n",
       "  if (root.Bokeh !== undefined) {\n",
       "    embed_document(root);\n",
       "  } else {\n",
       "    var attempts = 0;\n",
       "    var timer = setInterval(function(root) {\n",
       "      if (root.Bokeh !== undefined) {\n",
       "        embed_document(root);\n",
       "        clearInterval(timer);\n",
       "      }\n",
       "      attempts++;\n",
       "      if (attempts > 100) {\n",
       "        console.log(\"Bokeh: ERROR: Unable to run BokehJS code because BokehJS library is missing\")\n",
       "        clearInterval(timer);\n",
       "      }\n",
       "    }, 10, root)\n",
       "  }\n",
       "})(window);"
      ],
      "application/vnd.bokehjs_exec.v0+json": ""
     },
     "metadata": {
      "application/vnd.bokehjs_exec.v0+json": {
       "id": "2c9f0cba-5a7d-4e94-b672-6a64cb235c2d"
      }
     },
     "output_type": "display_data"
    },
    {
     "data": {
      "text/markdown": [
       "*FIGURE.* Cooling rates. Summed over g."
      ],
      "text/plain": [
       "<IPython.core.display.Markdown object>"
      ]
     },
     "metadata": {},
     "output_type": "display_data"
    },
    {
     "data": {
      "text/html": [
       "<a id=\"Flux_Comparison\"></a>"
      ],
      "text/plain": [
       "<IPython.core.display.HTML object>"
      ]
     },
     "metadata": {},
     "output_type": "display_data"
    },
    {
     "data": {
      "text/markdown": [
       "# Flux Comparison"
      ],
      "text/plain": [
       "<IPython.core.display.Markdown object>"
      ]
     },
     "metadata": {},
     "output_type": "display_data"
    },
    {
     "data": {
      "text/html": [
       "<div>\n",
       "<style scoped>\n",
       "    .dataframe tbody tr th:only-of-type {\n",
       "        vertical-align: middle;\n",
       "    }\n",
       "\n",
       "    .dataframe tbody tr th {\n",
       "        vertical-align: top;\n",
       "    }\n",
       "\n",
       "    .dataframe thead th {\n",
       "        text-align: right;\n",
       "    }\n",
       "</style>\n",
       "<table border=\"1\" class=\"dataframe\">\n",
       "  <thead>\n",
       "    <tr style=\"text-align: right;\">\n",
       "      <th></th>\n",
       "      <th></th>\n",
       "      <th></th>\n",
       "      <th>flug</th>\n",
       "      <th>fldg</th>\n",
       "      <th>fnetg</th>\n",
       "    </tr>\n",
       "    <tr>\n",
       "      <th>g</th>\n",
       "      <th>pressure</th>\n",
       "      <th>level</th>\n",
       "      <th></th>\n",
       "      <th></th>\n",
       "      <th></th>\n",
       "    </tr>\n",
       "  </thead>\n",
       "  <tbody>\n",
       "    <tr>\n",
       "      <th rowspan=\"3\" valign=\"top\">1</th>\n",
       "      <th>0.000</th>\n",
       "      <th>1</th>\n",
       "      <td>-0.050558</td>\n",
       "      <td>0.000000</td>\n",
       "      <td>-0.050558</td>\n",
       "    </tr>\n",
       "    <tr>\n",
       "      <th>180.875</th>\n",
       "      <th>41</th>\n",
       "      <td>-0.051767</td>\n",
       "      <td>0.011837</td>\n",
       "      <td>-0.039930</td>\n",
       "    </tr>\n",
       "    <tr>\n",
       "      <th>1013.000</th>\n",
       "      <th>76</th>\n",
       "      <td>-0.126941</td>\n",
       "      <td>0.082993</td>\n",
       "      <td>-0.043948</td>\n",
       "    </tr>\n",
       "    <tr>\n",
       "      <th rowspan=\"3\" valign=\"top\">2</th>\n",
       "      <th>0.000</th>\n",
       "      <th>1</th>\n",
       "      <td>-0.375417</td>\n",
       "      <td>0.000000</td>\n",
       "      <td>-0.375417</td>\n",
       "    </tr>\n",
       "    <tr>\n",
       "      <th>180.875</th>\n",
       "      <th>41</th>\n",
       "      <td>-0.435717</td>\n",
       "      <td>0.049428</td>\n",
       "      <td>-0.386290</td>\n",
       "    </tr>\n",
       "    <tr>\n",
       "      <th>1013.000</th>\n",
       "      <th>76</th>\n",
       "      <td>-0.947176</td>\n",
       "      <td>0.593238</td>\n",
       "      <td>-0.353938</td>\n",
       "    </tr>\n",
       "    <tr>\n",
       "      <th rowspan=\"3\" valign=\"top\">3</th>\n",
       "      <th>0.000</th>\n",
       "      <th>1</th>\n",
       "      <td>-5.102229</td>\n",
       "      <td>0.000000</td>\n",
       "      <td>-5.102229</td>\n",
       "    </tr>\n",
       "    <tr>\n",
       "      <th>180.875</th>\n",
       "      <th>41</th>\n",
       "      <td>-5.302252</td>\n",
       "      <td>0.056123</td>\n",
       "      <td>-5.246130</td>\n",
       "    </tr>\n",
       "    <tr>\n",
       "      <th>1013.000</th>\n",
       "      <th>76</th>\n",
       "      <td>-7.117617</td>\n",
       "      <td>2.793627</td>\n",
       "      <td>-4.323989</td>\n",
       "    </tr>\n",
       "    <tr>\n",
       "      <th rowspan=\"3\" valign=\"top\">4</th>\n",
       "      <th>0.000</th>\n",
       "      <th>1</th>\n",
       "      <td>-15.344966</td>\n",
       "      <td>0.000000</td>\n",
       "      <td>-15.344966</td>\n",
       "    </tr>\n",
       "    <tr>\n",
       "      <th>180.875</th>\n",
       "      <th>41</th>\n",
       "      <td>-15.369065</td>\n",
       "      <td>0.003952</td>\n",
       "      <td>-15.365114</td>\n",
       "    </tr>\n",
       "    <tr>\n",
       "      <th>1013.000</th>\n",
       "      <th>76</th>\n",
       "      <td>-15.563441</td>\n",
       "      <td>0.407409</td>\n",
       "      <td>-15.156032</td>\n",
       "    </tr>\n",
       "  </tbody>\n",
       "</table>\n",
       "</div>"
      ],
      "text/plain": [
       "                       flug      fldg      fnetg\n",
       "g pressure level                                \n",
       "1 0.000    1      -0.050558  0.000000  -0.050558\n",
       "  180.875  41     -0.051767  0.011837  -0.039930\n",
       "  1013.000 76     -0.126941  0.082993  -0.043948\n",
       "2 0.000    1      -0.375417  0.000000  -0.375417\n",
       "  180.875  41     -0.435717  0.049428  -0.386290\n",
       "  1013.000 76     -0.947176  0.593238  -0.353938\n",
       "3 0.000    1      -5.102229  0.000000  -5.102229\n",
       "  180.875  41     -5.302252  0.056123  -5.246130\n",
       "  1013.000 76     -7.117617  2.793627  -4.323989\n",
       "4 0.000    1     -15.344966  0.000000 -15.344966\n",
       "  180.875  41    -15.369065  0.003952 -15.365114\n",
       "  1013.000 76    -15.563441  0.407409 -15.156032"
      ]
     },
     "metadata": {},
     "output_type": "display_data"
    },
    {
     "data": {
      "text/markdown": [
       "*TABLE.* Fluxes. CRD"
      ],
      "text/plain": [
       "<IPython.core.display.Markdown object>"
      ]
     },
     "metadata": {},
     "output_type": "display_data"
    },
    {
     "data": {
      "text/html": [
       "<div>\n",
       "<style scoped>\n",
       "    .dataframe tbody tr th:only-of-type {\n",
       "        vertical-align: middle;\n",
       "    }\n",
       "\n",
       "    .dataframe tbody tr th {\n",
       "        vertical-align: top;\n",
       "    }\n",
       "\n",
       "    .dataframe thead th {\n",
       "        text-align: right;\n",
       "    }\n",
       "</style>\n",
       "<table border=\"1\" class=\"dataframe\">\n",
       "  <thead>\n",
       "    <tr style=\"text-align: right;\">\n",
       "      <th></th>\n",
       "      <th></th>\n",
       "      <th></th>\n",
       "      <th>flug</th>\n",
       "      <th>fldg</th>\n",
       "      <th>fnetg</th>\n",
       "    </tr>\n",
       "    <tr>\n",
       "      <th>g</th>\n",
       "      <th>pressure</th>\n",
       "      <th>level</th>\n",
       "      <th></th>\n",
       "      <th></th>\n",
       "      <th></th>\n",
       "    </tr>\n",
       "  </thead>\n",
       "  <tbody>\n",
       "    <tr>\n",
       "      <th rowspan=\"3\" valign=\"top\">1</th>\n",
       "      <th>0.000</th>\n",
       "      <th>1</th>\n",
       "      <td>-0.035645</td>\n",
       "      <td>0.000000</td>\n",
       "      <td>-0.035645</td>\n",
       "    </tr>\n",
       "    <tr>\n",
       "      <th>180.875</th>\n",
       "      <th>41</th>\n",
       "      <td>-0.032007</td>\n",
       "      <td>0.013788</td>\n",
       "      <td>-0.018219</td>\n",
       "    </tr>\n",
       "    <tr>\n",
       "      <th>1013.000</th>\n",
       "      <th>76</th>\n",
       "      <td>-0.127435</td>\n",
       "      <td>0.096048</td>\n",
       "      <td>-0.031387</td>\n",
       "    </tr>\n",
       "    <tr>\n",
       "      <th rowspan=\"3\" valign=\"top\">2</th>\n",
       "      <th>0.000</th>\n",
       "      <th>1</th>\n",
       "      <td>-0.260373</td>\n",
       "      <td>0.000000</td>\n",
       "      <td>-0.260373</td>\n",
       "    </tr>\n",
       "    <tr>\n",
       "      <th>180.875</th>\n",
       "      <th>41</th>\n",
       "      <td>-0.393829</td>\n",
       "      <td>0.055105</td>\n",
       "      <td>-0.338724</td>\n",
       "    </tr>\n",
       "    <tr>\n",
       "      <th>1013.000</th>\n",
       "      <th>76</th>\n",
       "      <td>-0.952685</td>\n",
       "      <td>0.591037</td>\n",
       "      <td>-0.361648</td>\n",
       "    </tr>\n",
       "    <tr>\n",
       "      <th rowspan=\"3\" valign=\"top\">3</th>\n",
       "      <th>0.000</th>\n",
       "      <th>1</th>\n",
       "      <td>-4.997891</td>\n",
       "      <td>0.000000</td>\n",
       "      <td>-4.997891</td>\n",
       "    </tr>\n",
       "    <tr>\n",
       "      <th>180.875</th>\n",
       "      <th>41</th>\n",
       "      <td>-5.257640</td>\n",
       "      <td>0.050976</td>\n",
       "      <td>-5.206664</td>\n",
       "    </tr>\n",
       "    <tr>\n",
       "      <th>1013.000</th>\n",
       "      <th>76</th>\n",
       "      <td>-7.155502</td>\n",
       "      <td>2.870668</td>\n",
       "      <td>-4.284833</td>\n",
       "    </tr>\n",
       "    <tr>\n",
       "      <th rowspan=\"3\" valign=\"top\">4</th>\n",
       "      <th>0.000</th>\n",
       "      <th>1</th>\n",
       "      <td>-15.304557</td>\n",
       "      <td>0.000000</td>\n",
       "      <td>-15.304557</td>\n",
       "    </tr>\n",
       "    <tr>\n",
       "      <th>180.875</th>\n",
       "      <th>41</th>\n",
       "      <td>-15.329451</td>\n",
       "      <td>0.003681</td>\n",
       "      <td>-15.325770</td>\n",
       "    </tr>\n",
       "    <tr>\n",
       "      <th>1013.000</th>\n",
       "      <th>76</th>\n",
       "      <td>-15.519554</td>\n",
       "      <td>0.399508</td>\n",
       "      <td>-15.120046</td>\n",
       "    </tr>\n",
       "  </tbody>\n",
       "</table>\n",
       "</div>"
      ],
      "text/plain": [
       "                       flug      fldg      fnetg\n",
       "g pressure level                                \n",
       "1 0.000    1      -0.035645  0.000000  -0.035645\n",
       "  180.875  41     -0.032007  0.013788  -0.018219\n",
       "  1013.000 76     -0.127435  0.096048  -0.031387\n",
       "2 0.000    1      -0.260373  0.000000  -0.260373\n",
       "  180.875  41     -0.393829  0.055105  -0.338724\n",
       "  1013.000 76     -0.952685  0.591037  -0.361648\n",
       "3 0.000    1      -4.997891  0.000000  -4.997891\n",
       "  180.875  41     -5.257640  0.050976  -5.206664\n",
       "  1013.000 76     -7.155502  2.870668  -4.284833\n",
       "4 0.000    1     -15.304557  0.000000 -15.304557\n",
       "  180.875  41    -15.329451  0.003681 -15.325770\n",
       "  1013.000 76    -15.519554  0.399508 -15.120046"
      ]
     },
     "metadata": {},
     "output_type": "display_data"
    },
    {
     "data": {
      "text/markdown": [
       "*TABLE.* Fluxes. WGT igg=1"
      ],
      "text/plain": [
       "<IPython.core.display.Markdown object>"
      ]
     },
     "metadata": {},
     "output_type": "display_data"
    },
    {
     "data": {
      "text/html": [
       "<div>\n",
       "<style scoped>\n",
       "    .dataframe tbody tr th:only-of-type {\n",
       "        vertical-align: middle;\n",
       "    }\n",
       "\n",
       "    .dataframe tbody tr th {\n",
       "        vertical-align: top;\n",
       "    }\n",
       "\n",
       "    .dataframe thead th {\n",
       "        text-align: right;\n",
       "    }\n",
       "</style>\n",
       "<table border=\"1\" class=\"dataframe\">\n",
       "  <thead>\n",
       "    <tr style=\"text-align: right;\">\n",
       "      <th></th>\n",
       "      <th></th>\n",
       "      <th></th>\n",
       "      <th>flug</th>\n",
       "      <th>fldg</th>\n",
       "      <th>fnetg</th>\n",
       "    </tr>\n",
       "    <tr>\n",
       "      <th>g</th>\n",
       "      <th>pressure</th>\n",
       "      <th>level</th>\n",
       "      <th></th>\n",
       "      <th></th>\n",
       "      <th></th>\n",
       "    </tr>\n",
       "  </thead>\n",
       "  <tbody>\n",
       "    <tr>\n",
       "      <th rowspan=\"3\" valign=\"top\">1</th>\n",
       "      <th>0.000</th>\n",
       "      <th>1</th>\n",
       "      <td>-0.036373</td>\n",
       "      <td>0.000000</td>\n",
       "      <td>-0.036373</td>\n",
       "    </tr>\n",
       "    <tr>\n",
       "      <th>180.875</th>\n",
       "      <th>41</th>\n",
       "      <td>-0.028031</td>\n",
       "      <td>0.013557</td>\n",
       "      <td>-0.014474</td>\n",
       "    </tr>\n",
       "    <tr>\n",
       "      <th>1013.000</th>\n",
       "      <th>76</th>\n",
       "      <td>-0.127435</td>\n",
       "      <td>0.100152</td>\n",
       "      <td>-0.027283</td>\n",
       "    </tr>\n",
       "    <tr>\n",
       "      <th rowspan=\"3\" valign=\"top\">2</th>\n",
       "      <th>0.000</th>\n",
       "      <th>1</th>\n",
       "      <td>-0.236253</td>\n",
       "      <td>0.000000</td>\n",
       "      <td>-0.236253</td>\n",
       "    </tr>\n",
       "    <tr>\n",
       "      <th>180.875</th>\n",
       "      <th>41</th>\n",
       "      <td>-0.378742</td>\n",
       "      <td>0.055846</td>\n",
       "      <td>-0.322897</td>\n",
       "    </tr>\n",
       "    <tr>\n",
       "      <th>1013.000</th>\n",
       "      <th>76</th>\n",
       "      <td>-0.952685</td>\n",
       "      <td>0.603825</td>\n",
       "      <td>-0.348860</td>\n",
       "    </tr>\n",
       "    <tr>\n",
       "      <th rowspan=\"3\" valign=\"top\">3</th>\n",
       "      <th>0.000</th>\n",
       "      <th>1</th>\n",
       "      <td>-5.103872</td>\n",
       "      <td>0.000000</td>\n",
       "      <td>-5.103872</td>\n",
       "    </tr>\n",
       "    <tr>\n",
       "      <th>180.875</th>\n",
       "      <th>41</th>\n",
       "      <td>-5.360579</td>\n",
       "      <td>0.042979</td>\n",
       "      <td>-5.317600</td>\n",
       "    </tr>\n",
       "    <tr>\n",
       "      <th>1013.000</th>\n",
       "      <th>76</th>\n",
       "      <td>-7.155502</td>\n",
       "      <td>2.772383</td>\n",
       "      <td>-4.383119</td>\n",
       "    </tr>\n",
       "    <tr>\n",
       "      <th rowspan=\"3\" valign=\"top\">4</th>\n",
       "      <th>0.000</th>\n",
       "      <th>1</th>\n",
       "      <td>-15.321965</td>\n",
       "      <td>0.000000</td>\n",
       "      <td>-15.321965</td>\n",
       "    </tr>\n",
       "    <tr>\n",
       "      <th>180.875</th>\n",
       "      <th>41</th>\n",
       "      <td>-15.344951</td>\n",
       "      <td>0.003334</td>\n",
       "      <td>-15.341618</td>\n",
       "    </tr>\n",
       "    <tr>\n",
       "      <th>1013.000</th>\n",
       "      <th>76</th>\n",
       "      <td>-15.519554</td>\n",
       "      <td>0.369220</td>\n",
       "      <td>-15.150334</td>\n",
       "    </tr>\n",
       "  </tbody>\n",
       "</table>\n",
       "</div>"
      ],
      "text/plain": [
       "                       flug      fldg      fnetg\n",
       "g pressure level                                \n",
       "1 0.000    1      -0.036373  0.000000  -0.036373\n",
       "  180.875  41     -0.028031  0.013557  -0.014474\n",
       "  1013.000 76     -0.127435  0.100152  -0.027283\n",
       "2 0.000    1      -0.236253  0.000000  -0.236253\n",
       "  180.875  41     -0.378742  0.055846  -0.322897\n",
       "  1013.000 76     -0.952685  0.603825  -0.348860\n",
       "3 0.000    1      -5.103872  0.000000  -5.103872\n",
       "  180.875  41     -5.360579  0.042979  -5.317600\n",
       "  1013.000 76     -7.155502  2.772383  -4.383119\n",
       "4 0.000    1     -15.321965  0.000000 -15.321965\n",
       "  180.875  41    -15.344951  0.003334 -15.341618\n",
       "  1013.000 76    -15.519554  0.369220 -15.150334"
      ]
     },
     "metadata": {},
     "output_type": "display_data"
    },
    {
     "data": {
      "text/markdown": [
       "*TABLE.* Fluxes. WGT igg=10"
      ],
      "text/plain": [
       "<IPython.core.display.Markdown object>"
      ]
     },
     "metadata": {},
     "output_type": "display_data"
    },
    {
     "data": {
      "text/html": [
       "<div>\n",
       "<style scoped>\n",
       "    .dataframe tbody tr th:only-of-type {\n",
       "        vertical-align: middle;\n",
       "    }\n",
       "\n",
       "    .dataframe tbody tr th {\n",
       "        vertical-align: top;\n",
       "    }\n",
       "\n",
       "    .dataframe thead th {\n",
       "        text-align: right;\n",
       "    }\n",
       "</style>\n",
       "<table border=\"1\" class=\"dataframe\">\n",
       "  <thead>\n",
       "    <tr style=\"text-align: right;\">\n",
       "      <th></th>\n",
       "      <th></th>\n",
       "      <th></th>\n",
       "      <th>flug</th>\n",
       "      <th>fldg</th>\n",
       "      <th>fnetg</th>\n",
       "    </tr>\n",
       "    <tr>\n",
       "      <th>g</th>\n",
       "      <th>pressure</th>\n",
       "      <th>level</th>\n",
       "      <th></th>\n",
       "      <th></th>\n",
       "      <th></th>\n",
       "    </tr>\n",
       "  </thead>\n",
       "  <tbody>\n",
       "    <tr>\n",
       "      <th rowspan=\"3\" valign=\"top\">1</th>\n",
       "      <th>0.000</th>\n",
       "      <th>1</th>\n",
       "      <td>0.014913</td>\n",
       "      <td>0.000000</td>\n",
       "      <td>0.014913</td>\n",
       "    </tr>\n",
       "    <tr>\n",
       "      <th>180.875</th>\n",
       "      <th>41</th>\n",
       "      <td>0.019760</td>\n",
       "      <td>0.001951</td>\n",
       "      <td>0.021711</td>\n",
       "    </tr>\n",
       "    <tr>\n",
       "      <th>1013.000</th>\n",
       "      <th>76</th>\n",
       "      <td>-0.000494</td>\n",
       "      <td>0.013055</td>\n",
       "      <td>0.012561</td>\n",
       "    </tr>\n",
       "    <tr>\n",
       "      <th rowspan=\"3\" valign=\"top\">2</th>\n",
       "      <th>0.000</th>\n",
       "      <th>1</th>\n",
       "      <td>0.115044</td>\n",
       "      <td>0.000000</td>\n",
       "      <td>0.115044</td>\n",
       "    </tr>\n",
       "    <tr>\n",
       "      <th>180.875</th>\n",
       "      <th>41</th>\n",
       "      <td>0.041888</td>\n",
       "      <td>0.005677</td>\n",
       "      <td>0.047565</td>\n",
       "    </tr>\n",
       "    <tr>\n",
       "      <th>1013.000</th>\n",
       "      <th>76</th>\n",
       "      <td>-0.005509</td>\n",
       "      <td>-0.002201</td>\n",
       "      <td>-0.007710</td>\n",
       "    </tr>\n",
       "    <tr>\n",
       "      <th rowspan=\"3\" valign=\"top\">3</th>\n",
       "      <th>0.000</th>\n",
       "      <th>1</th>\n",
       "      <td>0.104338</td>\n",
       "      <td>0.000000</td>\n",
       "      <td>0.104338</td>\n",
       "    </tr>\n",
       "    <tr>\n",
       "      <th>180.875</th>\n",
       "      <th>41</th>\n",
       "      <td>0.044612</td>\n",
       "      <td>-0.005146</td>\n",
       "      <td>0.039466</td>\n",
       "    </tr>\n",
       "    <tr>\n",
       "      <th>1013.000</th>\n",
       "      <th>76</th>\n",
       "      <td>-0.037885</td>\n",
       "      <td>0.077041</td>\n",
       "      <td>0.039156</td>\n",
       "    </tr>\n",
       "    <tr>\n",
       "      <th rowspan=\"3\" valign=\"top\">4</th>\n",
       "      <th>0.000</th>\n",
       "      <th>1</th>\n",
       "      <td>0.040409</td>\n",
       "      <td>0.000000</td>\n",
       "      <td>0.040409</td>\n",
       "    </tr>\n",
       "    <tr>\n",
       "      <th>180.875</th>\n",
       "      <th>41</th>\n",
       "      <td>0.039614</td>\n",
       "      <td>-0.000270</td>\n",
       "      <td>0.039344</td>\n",
       "    </tr>\n",
       "    <tr>\n",
       "      <th>1013.000</th>\n",
       "      <th>76</th>\n",
       "      <td>0.043887</td>\n",
       "      <td>-0.007901</td>\n",
       "      <td>0.035986</td>\n",
       "    </tr>\n",
       "  </tbody>\n",
       "</table>\n",
       "</div>"
      ],
      "text/plain": [
       "                      flug      fldg     fnetg\n",
       "g pressure level                              \n",
       "1 0.000    1      0.014913  0.000000  0.014913\n",
       "  180.875  41     0.019760  0.001951  0.021711\n",
       "  1013.000 76    -0.000494  0.013055  0.012561\n",
       "2 0.000    1      0.115044  0.000000  0.115044\n",
       "  180.875  41     0.041888  0.005677  0.047565\n",
       "  1013.000 76    -0.005509 -0.002201 -0.007710\n",
       "3 0.000    1      0.104338  0.000000  0.104338\n",
       "  180.875  41     0.044612 -0.005146  0.039466\n",
       "  1013.000 76    -0.037885  0.077041  0.039156\n",
       "4 0.000    1      0.040409  0.000000  0.040409\n",
       "  180.875  41     0.039614 -0.000270  0.039344\n",
       "  1013.000 76     0.043887 -0.007901  0.035986"
      ]
     },
     "metadata": {},
     "output_type": "display_data"
    },
    {
     "data": {
      "text/markdown": [
       "*TABLE.* Fluxes. (WGT igg=1) - (CRD)"
      ],
      "text/plain": [
       "<IPython.core.display.Markdown object>"
      ]
     },
     "metadata": {},
     "output_type": "display_data"
    },
    {
     "data": {
      "text/html": [
       "<div>\n",
       "<style scoped>\n",
       "    .dataframe tbody tr th:only-of-type {\n",
       "        vertical-align: middle;\n",
       "    }\n",
       "\n",
       "    .dataframe tbody tr th {\n",
       "        vertical-align: top;\n",
       "    }\n",
       "\n",
       "    .dataframe thead th {\n",
       "        text-align: right;\n",
       "    }\n",
       "</style>\n",
       "<table border=\"1\" class=\"dataframe\">\n",
       "  <thead>\n",
       "    <tr style=\"text-align: right;\">\n",
       "      <th></th>\n",
       "      <th></th>\n",
       "      <th></th>\n",
       "      <th>flug</th>\n",
       "      <th>fldg</th>\n",
       "      <th>fnetg</th>\n",
       "    </tr>\n",
       "    <tr>\n",
       "      <th>g</th>\n",
       "      <th>pressure</th>\n",
       "      <th>level</th>\n",
       "      <th></th>\n",
       "      <th></th>\n",
       "      <th></th>\n",
       "    </tr>\n",
       "  </thead>\n",
       "  <tbody>\n",
       "    <tr>\n",
       "      <th rowspan=\"3\" valign=\"top\">1</th>\n",
       "      <th>0.000</th>\n",
       "      <th>1</th>\n",
       "      <td>0.014186</td>\n",
       "      <td>0.000000</td>\n",
       "      <td>0.014186</td>\n",
       "    </tr>\n",
       "    <tr>\n",
       "      <th>180.875</th>\n",
       "      <th>41</th>\n",
       "      <td>0.023736</td>\n",
       "      <td>0.001720</td>\n",
       "      <td>0.025456</td>\n",
       "    </tr>\n",
       "    <tr>\n",
       "      <th>1013.000</th>\n",
       "      <th>76</th>\n",
       "      <td>-0.000494</td>\n",
       "      <td>0.017159</td>\n",
       "      <td>0.016665</td>\n",
       "    </tr>\n",
       "    <tr>\n",
       "      <th rowspan=\"3\" valign=\"top\">2</th>\n",
       "      <th>0.000</th>\n",
       "      <th>1</th>\n",
       "      <td>0.139165</td>\n",
       "      <td>0.000000</td>\n",
       "      <td>0.139165</td>\n",
       "    </tr>\n",
       "    <tr>\n",
       "      <th>180.875</th>\n",
       "      <th>41</th>\n",
       "      <td>0.056975</td>\n",
       "      <td>0.006418</td>\n",
       "      <td>0.063393</td>\n",
       "    </tr>\n",
       "    <tr>\n",
       "      <th>1013.000</th>\n",
       "      <th>76</th>\n",
       "      <td>-0.005509</td>\n",
       "      <td>0.010587</td>\n",
       "      <td>0.005078</td>\n",
       "    </tr>\n",
       "    <tr>\n",
       "      <th rowspan=\"3\" valign=\"top\">3</th>\n",
       "      <th>0.000</th>\n",
       "      <th>1</th>\n",
       "      <td>-0.001644</td>\n",
       "      <td>0.000000</td>\n",
       "      <td>-0.001644</td>\n",
       "    </tr>\n",
       "    <tr>\n",
       "      <th>180.875</th>\n",
       "      <th>41</th>\n",
       "      <td>-0.058326</td>\n",
       "      <td>-0.013144</td>\n",
       "      <td>-0.071471</td>\n",
       "    </tr>\n",
       "    <tr>\n",
       "      <th>1013.000</th>\n",
       "      <th>76</th>\n",
       "      <td>-0.037885</td>\n",
       "      <td>-0.021244</td>\n",
       "      <td>-0.059129</td>\n",
       "    </tr>\n",
       "    <tr>\n",
       "      <th rowspan=\"3\" valign=\"top\">4</th>\n",
       "      <th>0.000</th>\n",
       "      <th>1</th>\n",
       "      <td>0.023001</td>\n",
       "      <td>0.000000</td>\n",
       "      <td>0.023001</td>\n",
       "    </tr>\n",
       "    <tr>\n",
       "      <th>180.875</th>\n",
       "      <th>41</th>\n",
       "      <td>0.024114</td>\n",
       "      <td>-0.000618</td>\n",
       "      <td>0.023496</td>\n",
       "    </tr>\n",
       "    <tr>\n",
       "      <th>1013.000</th>\n",
       "      <th>76</th>\n",
       "      <td>0.043887</td>\n",
       "      <td>-0.038189</td>\n",
       "      <td>0.005698</td>\n",
       "    </tr>\n",
       "  </tbody>\n",
       "</table>\n",
       "</div>"
      ],
      "text/plain": [
       "                      flug      fldg     fnetg\n",
       "g pressure level                              \n",
       "1 0.000    1      0.014186  0.000000  0.014186\n",
       "  180.875  41     0.023736  0.001720  0.025456\n",
       "  1013.000 76    -0.000494  0.017159  0.016665\n",
       "2 0.000    1      0.139165  0.000000  0.139165\n",
       "  180.875  41     0.056975  0.006418  0.063393\n",
       "  1013.000 76    -0.005509  0.010587  0.005078\n",
       "3 0.000    1     -0.001644  0.000000 -0.001644\n",
       "  180.875  41    -0.058326 -0.013144 -0.071471\n",
       "  1013.000 76    -0.037885 -0.021244 -0.059129\n",
       "4 0.000    1      0.023001  0.000000  0.023001\n",
       "  180.875  41     0.024114 -0.000618  0.023496\n",
       "  1013.000 76     0.043887 -0.038189  0.005698"
      ]
     },
     "metadata": {},
     "output_type": "display_data"
    },
    {
     "data": {
      "text/markdown": [
       "*TABLE.* Fluxes. (WGT igg=10) - (CRD)"
      ],
      "text/plain": [
       "<IPython.core.display.Markdown object>"
      ]
     },
     "metadata": {},
     "output_type": "display_data"
    },
    {
     "data": {
      "text/html": [
       "<div>\n",
       "<style scoped>\n",
       "    .dataframe tbody tr th:only-of-type {\n",
       "        vertical-align: middle;\n",
       "    }\n",
       "\n",
       "    .dataframe tbody tr th {\n",
       "        vertical-align: top;\n",
       "    }\n",
       "\n",
       "    .dataframe thead th {\n",
       "        text-align: right;\n",
       "    }\n",
       "</style>\n",
       "<table border=\"1\" class=\"dataframe\">\n",
       "  <thead>\n",
       "    <tr style=\"text-align: right;\">\n",
       "      <th></th>\n",
       "      <th></th>\n",
       "      <th>flug</th>\n",
       "      <th>fldg</th>\n",
       "      <th>fnetg</th>\n",
       "    </tr>\n",
       "    <tr>\n",
       "      <th>pressure</th>\n",
       "      <th>level</th>\n",
       "      <th></th>\n",
       "      <th></th>\n",
       "      <th></th>\n",
       "    </tr>\n",
       "  </thead>\n",
       "  <tbody>\n",
       "    <tr>\n",
       "      <th>0.000</th>\n",
       "      <th>1</th>\n",
       "      <td>-20.873170</td>\n",
       "      <td>0.000000</td>\n",
       "      <td>-20.873170</td>\n",
       "    </tr>\n",
       "    <tr>\n",
       "      <th>180.875</th>\n",
       "      <th>41</th>\n",
       "      <td>-21.158802</td>\n",
       "      <td>0.121339</td>\n",
       "      <td>-21.037463</td>\n",
       "    </tr>\n",
       "    <tr>\n",
       "      <th>1013.000</th>\n",
       "      <th>76</th>\n",
       "      <td>-23.755175</td>\n",
       "      <td>3.877268</td>\n",
       "      <td>-19.877907</td>\n",
       "    </tr>\n",
       "  </tbody>\n",
       "</table>\n",
       "</div>"
      ],
      "text/plain": [
       "                     flug      fldg      fnetg\n",
       "pressure level                                \n",
       "0.000    1     -20.873170  0.000000 -20.873170\n",
       "180.875  41    -21.158802  0.121339 -21.037463\n",
       "1013.000 76    -23.755175  3.877268 -19.877907"
      ]
     },
     "metadata": {},
     "output_type": "display_data"
    },
    {
     "data": {
      "text/markdown": [
       "*TABLE.* Fluxes. CRD"
      ],
      "text/plain": [
       "<IPython.core.display.Markdown object>"
      ]
     },
     "metadata": {},
     "output_type": "display_data"
    },
    {
     "data": {
      "text/html": [
       "<div>\n",
       "<style scoped>\n",
       "    .dataframe tbody tr th:only-of-type {\n",
       "        vertical-align: middle;\n",
       "    }\n",
       "\n",
       "    .dataframe tbody tr th {\n",
       "        vertical-align: top;\n",
       "    }\n",
       "\n",
       "    .dataframe thead th {\n",
       "        text-align: right;\n",
       "    }\n",
       "</style>\n",
       "<table border=\"1\" class=\"dataframe\">\n",
       "  <thead>\n",
       "    <tr style=\"text-align: right;\">\n",
       "      <th></th>\n",
       "      <th></th>\n",
       "      <th>flug</th>\n",
       "      <th>fldg</th>\n",
       "      <th>fnetg</th>\n",
       "    </tr>\n",
       "    <tr>\n",
       "      <th>pressure</th>\n",
       "      <th>level</th>\n",
       "      <th></th>\n",
       "      <th></th>\n",
       "      <th></th>\n",
       "    </tr>\n",
       "  </thead>\n",
       "  <tbody>\n",
       "    <tr>\n",
       "      <th>0.000</th>\n",
       "      <th>1</th>\n",
       "      <td>-20.598466</td>\n",
       "      <td>0.000000</td>\n",
       "      <td>-20.598466</td>\n",
       "    </tr>\n",
       "    <tr>\n",
       "      <th>180.875</th>\n",
       "      <th>41</th>\n",
       "      <td>-21.012928</td>\n",
       "      <td>0.123551</td>\n",
       "      <td>-20.889377</td>\n",
       "    </tr>\n",
       "    <tr>\n",
       "      <th>1013.000</th>\n",
       "      <th>76</th>\n",
       "      <td>-23.755176</td>\n",
       "      <td>3.957261</td>\n",
       "      <td>-19.797915</td>\n",
       "    </tr>\n",
       "  </tbody>\n",
       "</table>\n",
       "</div>"
      ],
      "text/plain": [
       "                     flug      fldg      fnetg\n",
       "pressure level                                \n",
       "0.000    1     -20.598466  0.000000 -20.598466\n",
       "180.875  41    -21.012928  0.123551 -20.889377\n",
       "1013.000 76    -23.755176  3.957261 -19.797915"
      ]
     },
     "metadata": {},
     "output_type": "display_data"
    },
    {
     "data": {
      "text/markdown": [
       "*TABLE.* Fluxes. WGT igg=1"
      ],
      "text/plain": [
       "<IPython.core.display.Markdown object>"
      ]
     },
     "metadata": {},
     "output_type": "display_data"
    },
    {
     "data": {
      "text/html": [
       "<div>\n",
       "<style scoped>\n",
       "    .dataframe tbody tr th:only-of-type {\n",
       "        vertical-align: middle;\n",
       "    }\n",
       "\n",
       "    .dataframe tbody tr th {\n",
       "        vertical-align: top;\n",
       "    }\n",
       "\n",
       "    .dataframe thead th {\n",
       "        text-align: right;\n",
       "    }\n",
       "</style>\n",
       "<table border=\"1\" class=\"dataframe\">\n",
       "  <thead>\n",
       "    <tr style=\"text-align: right;\">\n",
       "      <th></th>\n",
       "      <th></th>\n",
       "      <th>flug</th>\n",
       "      <th>fldg</th>\n",
       "      <th>fnetg</th>\n",
       "    </tr>\n",
       "    <tr>\n",
       "      <th>pressure</th>\n",
       "      <th>level</th>\n",
       "      <th></th>\n",
       "      <th></th>\n",
       "      <th></th>\n",
       "    </tr>\n",
       "  </thead>\n",
       "  <tbody>\n",
       "    <tr>\n",
       "      <th>0.000</th>\n",
       "      <th>1</th>\n",
       "      <td>-20.698463</td>\n",
       "      <td>0.000000</td>\n",
       "      <td>-20.698463</td>\n",
       "    </tr>\n",
       "    <tr>\n",
       "      <th>180.875</th>\n",
       "      <th>41</th>\n",
       "      <td>-21.112304</td>\n",
       "      <td>0.115715</td>\n",
       "      <td>-20.996589</td>\n",
       "    </tr>\n",
       "    <tr>\n",
       "      <th>1013.000</th>\n",
       "      <th>76</th>\n",
       "      <td>-23.755176</td>\n",
       "      <td>3.845580</td>\n",
       "      <td>-19.909595</td>\n",
       "    </tr>\n",
       "  </tbody>\n",
       "</table>\n",
       "</div>"
      ],
      "text/plain": [
       "                     flug      fldg      fnetg\n",
       "pressure level                                \n",
       "0.000    1     -20.698463  0.000000 -20.698463\n",
       "180.875  41    -21.112304  0.115715 -20.996589\n",
       "1013.000 76    -23.755176  3.845580 -19.909595"
      ]
     },
     "metadata": {},
     "output_type": "display_data"
    },
    {
     "data": {
      "text/markdown": [
       "*TABLE.* Fluxes. WGT igg=10"
      ],
      "text/plain": [
       "<IPython.core.display.Markdown object>"
      ]
     },
     "metadata": {},
     "output_type": "display_data"
    },
    {
     "data": {
      "text/html": [
       "<div>\n",
       "<style scoped>\n",
       "    .dataframe tbody tr th:only-of-type {\n",
       "        vertical-align: middle;\n",
       "    }\n",
       "\n",
       "    .dataframe tbody tr th {\n",
       "        vertical-align: top;\n",
       "    }\n",
       "\n",
       "    .dataframe thead th {\n",
       "        text-align: right;\n",
       "    }\n",
       "</style>\n",
       "<table border=\"1\" class=\"dataframe\">\n",
       "  <thead>\n",
       "    <tr style=\"text-align: right;\">\n",
       "      <th></th>\n",
       "      <th></th>\n",
       "      <th>flug</th>\n",
       "      <th>fldg</th>\n",
       "      <th>fnetg</th>\n",
       "    </tr>\n",
       "    <tr>\n",
       "      <th>pressure</th>\n",
       "      <th>level</th>\n",
       "      <th></th>\n",
       "      <th></th>\n",
       "      <th></th>\n",
       "    </tr>\n",
       "  </thead>\n",
       "  <tbody>\n",
       "    <tr>\n",
       "      <th>0.000</th>\n",
       "      <th>1</th>\n",
       "      <td>2.747043e-01</td>\n",
       "      <td>0.000000</td>\n",
       "      <td>0.274704</td>\n",
       "    </tr>\n",
       "    <tr>\n",
       "      <th>180.875</th>\n",
       "      <th>41</th>\n",
       "      <td>1.458738e-01</td>\n",
       "      <td>0.002212</td>\n",
       "      <td>0.148086</td>\n",
       "    </tr>\n",
       "    <tr>\n",
       "      <th>1013.000</th>\n",
       "      <th>76</th>\n",
       "      <td>-6.800000e-07</td>\n",
       "      <td>0.079994</td>\n",
       "      <td>0.079993</td>\n",
       "    </tr>\n",
       "  </tbody>\n",
       "</table>\n",
       "</div>"
      ],
      "text/plain": [
       "                        flug      fldg     fnetg\n",
       "pressure level                                  \n",
       "0.000    1      2.747043e-01  0.000000  0.274704\n",
       "180.875  41     1.458738e-01  0.002212  0.148086\n",
       "1013.000 76    -6.800000e-07  0.079994  0.079993"
      ]
     },
     "metadata": {},
     "output_type": "display_data"
    },
    {
     "data": {
      "text/markdown": [
       "*TABLE.* Fluxes. (WGT igg=1) - (CRD)"
      ],
      "text/plain": [
       "<IPython.core.display.Markdown object>"
      ]
     },
     "metadata": {},
     "output_type": "display_data"
    },
    {
     "data": {
      "text/html": [
       "<div>\n",
       "<style scoped>\n",
       "    .dataframe tbody tr th:only-of-type {\n",
       "        vertical-align: middle;\n",
       "    }\n",
       "\n",
       "    .dataframe tbody tr th {\n",
       "        vertical-align: top;\n",
       "    }\n",
       "\n",
       "    .dataframe thead th {\n",
       "        text-align: right;\n",
       "    }\n",
       "</style>\n",
       "<table border=\"1\" class=\"dataframe\">\n",
       "  <thead>\n",
       "    <tr style=\"text-align: right;\">\n",
       "      <th></th>\n",
       "      <th></th>\n",
       "      <th>flug</th>\n",
       "      <th>fldg</th>\n",
       "      <th>fnetg</th>\n",
       "    </tr>\n",
       "    <tr>\n",
       "      <th>pressure</th>\n",
       "      <th>level</th>\n",
       "      <th></th>\n",
       "      <th></th>\n",
       "      <th></th>\n",
       "    </tr>\n",
       "  </thead>\n",
       "  <tbody>\n",
       "    <tr>\n",
       "      <th>0.000</th>\n",
       "      <th>1</th>\n",
       "      <td>1.747076e-01</td>\n",
       "      <td>0.000000</td>\n",
       "      <td>0.174708</td>\n",
       "    </tr>\n",
       "    <tr>\n",
       "      <th>180.875</th>\n",
       "      <th>41</th>\n",
       "      <td>4.649830e-02</td>\n",
       "      <td>-0.005624</td>\n",
       "      <td>0.040874</td>\n",
       "    </tr>\n",
       "    <tr>\n",
       "      <th>1013.000</th>\n",
       "      <th>76</th>\n",
       "      <td>-6.800000e-07</td>\n",
       "      <td>-0.031688</td>\n",
       "      <td>-0.031688</td>\n",
       "    </tr>\n",
       "  </tbody>\n",
       "</table>\n",
       "</div>"
      ],
      "text/plain": [
       "                        flug      fldg     fnetg\n",
       "pressure level                                  \n",
       "0.000    1      1.747076e-01  0.000000  0.174708\n",
       "180.875  41     4.649830e-02 -0.005624  0.040874\n",
       "1013.000 76    -6.800000e-07 -0.031688 -0.031688"
      ]
     },
     "metadata": {},
     "output_type": "display_data"
    },
    {
     "data": {
      "text/markdown": [
       "*TABLE.* Fluxes. (WGT igg=10) - (CRD)"
      ],
      "text/plain": [
       "<IPython.core.display.Markdown object>"
      ]
     },
     "metadata": {},
     "output_type": "display_data"
    },
    {
     "data": {
      "text/html": [
       "<a id=\"g-interval_Summary\"></a>"
      ],
      "text/plain": [
       "<IPython.core.display.HTML object>"
      ]
     },
     "metadata": {},
     "output_type": "display_data"
    },
    {
     "data": {
      "text/markdown": [
       "# g-interval Summary"
      ],
      "text/plain": [
       "<IPython.core.display.Markdown object>"
      ]
     },
     "metadata": {},
     "output_type": "display_data"
    },
    {
     "data": {
      "text/html": [
       "<div>\n",
       "<style scoped>\n",
       "    .dataframe tbody tr th:only-of-type {\n",
       "        vertical-align: middle;\n",
       "    }\n",
       "\n",
       "    .dataframe tbody tr th {\n",
       "        vertical-align: top;\n",
       "    }\n",
       "\n",
       "    .dataframe thead th {\n",
       "        text-align: right;\n",
       "    }\n",
       "</style>\n",
       "<table border=\"1\" class=\"dataframe\">\n",
       "  <thead>\n",
       "    <tr style=\"text-align: right;\">\n",
       "      <th></th>\n",
       "      <th>abscom</th>\n",
       "      <th>k(ig) / k(ig - 1)</th>\n",
       "      <th>dg</th>\n",
       "      <th>dgs</th>\n",
       "      <th>dg cumsum</th>\n",
       "      <th>dgs cumsum</th>\n",
       "      <th>pref</th>\n",
       "    </tr>\n",
       "    <tr>\n",
       "      <th>g</th>\n",
       "      <th></th>\n",
       "      <th></th>\n",
       "      <th></th>\n",
       "      <th></th>\n",
       "      <th></th>\n",
       "      <th></th>\n",
       "      <th></th>\n",
       "    </tr>\n",
       "  </thead>\n",
       "  <tbody>\n",
       "    <tr>\n",
       "      <th>1</th>\n",
       "      <td>6.376210e-19</td>\n",
       "      <td>NaN</td>\n",
       "      <td>0.005230</td>\n",
       "      <td>0.005365</td>\n",
       "      <td>0.005230</td>\n",
       "      <td>0.005365</td>\n",
       "      <td>1.0</td>\n",
       "    </tr>\n",
       "    <tr>\n",
       "      <th>2</th>\n",
       "      <td>5.353590e-21</td>\n",
       "      <td>8.396195e-03</td>\n",
       "      <td>0.038788</td>\n",
       "      <td>0.040104</td>\n",
       "      <td>0.044018</td>\n",
       "      <td>0.045469</td>\n",
       "      <td>1.0</td>\n",
       "    </tr>\n",
       "    <tr>\n",
       "      <th>3</th>\n",
       "      <td>2.220488e-20</td>\n",
       "      <td>4.147661e+00</td>\n",
       "      <td>0.291909</td>\n",
       "      <td>0.301219</td>\n",
       "      <td>0.335927</td>\n",
       "      <td>0.346687</td>\n",
       "      <td>500.0</td>\n",
       "    </tr>\n",
       "    <tr>\n",
       "      <th>4</th>\n",
       "      <td>2.163830e-26</td>\n",
       "      <td>9.744839e-07</td>\n",
       "      <td>0.664073</td>\n",
       "      <td>0.653313</td>\n",
       "      <td>1.000000</td>\n",
       "      <td>1.000000</td>\n",
       "      <td>500.0</td>\n",
       "    </tr>\n",
       "  </tbody>\n",
       "</table>\n",
       "</div>"
      ],
      "text/plain": [
       "         abscom  k(ig) / k(ig - 1)        dg       dgs  dg cumsum  dgs cumsum  \\\n",
       "g                                                                               \n",
       "1  6.376210e-19                NaN  0.005230  0.005365   0.005230    0.005365   \n",
       "2  5.353590e-21       8.396195e-03  0.038788  0.040104   0.044018    0.045469   \n",
       "3  2.220488e-20       4.147661e+00  0.291909  0.301219   0.335927    0.346687   \n",
       "4  2.163830e-26       9.744839e-07  0.664073  0.653313   1.000000    1.000000   \n",
       "\n",
       "    pref  \n",
       "g         \n",
       "1    1.0  \n",
       "2    1.0  \n",
       "3  500.0  \n",
       "4  500.0  "
      ]
     },
     "metadata": {},
     "output_type": "display_data"
    },
    {
     "data": {
      "text/markdown": [
       "TABLE. g-interval summary.  *abscom* is the lower bound of the g-interval."
      ],
      "text/plain": [
       "<IPython.core.display.Markdown object>"
      ]
     },
     "metadata": {},
     "output_type": "display_data"
    },
    {
     "data": {
      "text/html": [
       "<a id=\"Download_Data\"></a>"
      ],
      "text/plain": [
       "<IPython.core.display.HTML object>"
      ]
     },
     "metadata": {},
     "output_type": "display_data"
    },
    {
     "data": {
      "text/markdown": [
       "# Download Data"
      ],
      "text/plain": [
       "<IPython.core.display.Markdown object>"
      ]
     },
     "metadata": {},
     "output_type": "display_data"
    },
    {
     "data": {
      "text/html": [
       "Download: <a href=\"./lblnew-bestfit_flux.xlsx\">lblnew-bestfit_flux.xlsx</a>"
      ],
      "text/plain": [
       "<IPython.core.display.HTML object>"
      ]
     },
     "metadata": {},
     "output_type": "display_data"
    },
    {
     "data": {
      "text/html": [
       "Download: <a href=\"./lblnew-bestfit_cool.xlsx\">lblnew-bestfit_cool.xlsx</a>"
      ],
      "text/plain": [
       "<IPython.core.display.HTML object>"
      ]
     },
     "metadata": {},
     "output_type": "display_data"
    }
   ],
   "source": [
    "script()"
   ]
  },
  {
   "cell_type": "code",
   "execution_count": 14,
   "metadata": {},
   "outputs": [
    {
     "data": {
      "text/html": [
       "<script>\n",
       "code_show=true; \n",
       "function code_toggle() {\n",
       " if (code_show){\n",
       " $('div.input').hide();\n",
       " } else {\n",
       " $('div.input').show();\n",
       " }\n",
       " code_show = !code_show\n",
       "} \n",
       "$( document ).ready(code_toggle);\n",
       "</script>\n",
       "<form action=\"javascript:code_toggle()\"><input type=\"submit\" value=\"Click here to toggle on/off the raw code.\"></form>"
      ],
      "text/plain": [
       "<IPython.core.display.HTML object>"
      ]
     },
     "execution_count": 14,
     "metadata": {},
     "output_type": "execute_result"
    }
   ],
   "source": [
    "display.HTML('''<script>\n",
    "code_show=true; \n",
    "function code_toggle() {\n",
    " if (code_show){\n",
    " $('div.input').hide();\n",
    " } else {\n",
    " $('div.input').show();\n",
    " }\n",
    " code_show = !code_show\n",
    "} \n",
    "$( document ).ready(code_toggle);\n",
    "</script>\n",
    "<form action=\"javascript:code_toggle()\"><input type=\"submit\" value=\"Click here to toggle on/off the raw code.\"></form>''')"
   ]
  },
  {
   "cell_type": "code",
   "execution_count": 15,
   "metadata": {
    "collapsed": true
   },
   "outputs": [],
   "source": []
  }
 ],
 "metadata": {
  "kernelspec": {
   "display_name": "Python 3",
   "language": "python",
   "name": "python3"
  },
  "language_info": {
   "codemirror_mode": {
    "name": "ipython",
    "version": 3
   },
   "file_extension": ".py",
   "mimetype": "text/x-python",
   "name": "python",
   "nbconvert_exporter": "python",
   "pygments_lexer": "ipython3",
   "version": "3.6.1"
  }
 },
 "nbformat": 4,
 "nbformat_minor": 2
}
