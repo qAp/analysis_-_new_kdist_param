{
 "cells": [
  {
   "cell_type": "code",
   "execution_count": 1,
   "metadata": {
    "collapsed": true
   },
   "outputs": [],
   "source": [
    "%reload_ext autoreload\n",
    "%autoreload 2\n",
    "%matplotlib inline"
   ]
  },
  {
   "cell_type": "code",
   "execution_count": 2,
   "metadata": {
    "collapsed": true
   },
   "outputs": [],
   "source": [
    "import io\n",
    "\n",
    "import numpy as np\n",
    "import pymongo\n",
    "\n",
    "from bokeh.io import output_notebook, show\n",
    "from bokeh.palettes import all_palettes\n",
    "from bokeh.layouts import gridplot\n",
    "\n",
    "from IPython import display\n",
    "\n",
    "from climatools.cliradlw.dataset import load_output_file\n",
    "import climatools.html.html as climahtml\n",
    "from climatools.plot.plot import *"
   ]
  },
  {
   "cell_type": "code",
   "execution_count": 3,
   "metadata": {},
   "outputs": [
    {
     "data": {
      "text/html": [
       "\n",
       "    <div class=\"bk-root\">\n",
       "        <a href=\"https://bokeh.pydata.org\" target=\"_blank\" class=\"bk-logo bk-logo-small bk-logo-notebook\"></a>\n",
       "        <span id=\"9e6174ba-e71b-4071-a6c0-996226d58f43\">Loading BokehJS ...</span>\n",
       "    </div>"
      ]
     },
     "metadata": {},
     "output_type": "display_data"
    },
    {
     "data": {
      "application/javascript": [
       "\n",
       "(function(root) {\n",
       "  function now() {\n",
       "    return new Date();\n",
       "  }\n",
       "\n",
       "  var force = true;\n",
       "\n",
       "  if (typeof (root._bokeh_onload_callbacks) === \"undefined\" || force === true) {\n",
       "    root._bokeh_onload_callbacks = [];\n",
       "    root._bokeh_is_loading = undefined;\n",
       "  }\n",
       "\n",
       "  var JS_MIME_TYPE = 'application/javascript';\n",
       "  var HTML_MIME_TYPE = 'text/html';\n",
       "  var EXEC_MIME_TYPE = 'application/vnd.bokehjs_exec.v0+json';\n",
       "  var CLASS_NAME = 'output_bokeh rendered_html';\n",
       "\n",
       "  /**\n",
       "   * Render data to the DOM node\n",
       "   */\n",
       "  function render(props, node) {\n",
       "    var script = document.createElement(\"script\");\n",
       "    node.appendChild(script);\n",
       "  }\n",
       "\n",
       "  /**\n",
       "   * Handle when an output is cleared or removed\n",
       "   */\n",
       "  function handleClearOutput(event, handle) {\n",
       "    var cell = handle.cell;\n",
       "\n",
       "    var id = cell.output_area._bokeh_element_id;\n",
       "    var server_id = cell.output_area._bokeh_server_id;\n",
       "    // Clean up Bokeh references\n",
       "    if (id !== undefined) {\n",
       "      Bokeh.index[id].model.document.clear();\n",
       "      delete Bokeh.index[id];\n",
       "    }\n",
       "\n",
       "    if (server_id !== undefined) {\n",
       "      // Clean up Bokeh references\n",
       "      var cmd = \"from bokeh.io.state import curstate; print(curstate().uuid_to_server['\" + server_id + \"'].get_sessions()[0].document.roots[0]._id)\";\n",
       "      cell.notebook.kernel.execute(cmd, {\n",
       "        iopub: {\n",
       "          output: function(msg) {\n",
       "            var element_id = msg.content.text.trim();\n",
       "            Bokeh.index[element_id].model.document.clear();\n",
       "            delete Bokeh.index[element_id];\n",
       "          }\n",
       "        }\n",
       "      });\n",
       "      // Destroy server and session\n",
       "      var cmd = \"import bokeh.io.notebook as ion; ion.destroy_server('\" + server_id + \"')\";\n",
       "      cell.notebook.kernel.execute(cmd);\n",
       "    }\n",
       "  }\n",
       "\n",
       "  /**\n",
       "   * Handle when a new output is added\n",
       "   */\n",
       "  function handleAddOutput(event, handle) {\n",
       "    var output_area = handle.output_area;\n",
       "    var output = handle.output;\n",
       "\n",
       "    // limit handleAddOutput to display_data with EXEC_MIME_TYPE content only\n",
       "    if ((output.output_type != \"display_data\") || (!output.data.hasOwnProperty(EXEC_MIME_TYPE))) {\n",
       "      return\n",
       "    }\n",
       "\n",
       "    var toinsert = output_area.element.find(\".\" + CLASS_NAME.split(' ')[0]);\n",
       "\n",
       "    if (output.metadata[EXEC_MIME_TYPE][\"id\"] !== undefined) {\n",
       "      toinsert[toinsert.length - 1].firstChild.textContent = output.data[JS_MIME_TYPE];\n",
       "      // store reference to embed id on output_area\n",
       "      output_area._bokeh_element_id = output.metadata[EXEC_MIME_TYPE][\"id\"];\n",
       "    }\n",
       "    if (output.metadata[EXEC_MIME_TYPE][\"server_id\"] !== undefined) {\n",
       "      var bk_div = document.createElement(\"div\");\n",
       "      bk_div.innerHTML = output.data[HTML_MIME_TYPE];\n",
       "      var script_attrs = bk_div.children[0].attributes;\n",
       "      for (var i = 0; i < script_attrs.length; i++) {\n",
       "        toinsert[toinsert.length - 1].firstChild.setAttribute(script_attrs[i].name, script_attrs[i].value);\n",
       "      }\n",
       "      // store reference to server id on output_area\n",
       "      output_area._bokeh_server_id = output.metadata[EXEC_MIME_TYPE][\"server_id\"];\n",
       "    }\n",
       "  }\n",
       "\n",
       "  function register_renderer(events, OutputArea) {\n",
       "\n",
       "    function append_mime(data, metadata, element) {\n",
       "      // create a DOM node to render to\n",
       "      var toinsert = this.create_output_subarea(\n",
       "        metadata,\n",
       "        CLASS_NAME,\n",
       "        EXEC_MIME_TYPE\n",
       "      );\n",
       "      this.keyboard_manager.register_events(toinsert);\n",
       "      // Render to node\n",
       "      var props = {data: data, metadata: metadata[EXEC_MIME_TYPE]};\n",
       "      render(props, toinsert[toinsert.length - 1]);\n",
       "      element.append(toinsert);\n",
       "      return toinsert\n",
       "    }\n",
       "\n",
       "    /* Handle when an output is cleared or removed */\n",
       "    events.on('clear_output.CodeCell', handleClearOutput);\n",
       "    events.on('delete.Cell', handleClearOutput);\n",
       "\n",
       "    /* Handle when a new output is added */\n",
       "    events.on('output_added.OutputArea', handleAddOutput);\n",
       "\n",
       "    /**\n",
       "     * Register the mime type and append_mime function with output_area\n",
       "     */\n",
       "    OutputArea.prototype.register_mime_type(EXEC_MIME_TYPE, append_mime, {\n",
       "      /* Is output safe? */\n",
       "      safe: true,\n",
       "      /* Index of renderer in `output_area.display_order` */\n",
       "      index: 0\n",
       "    });\n",
       "  }\n",
       "\n",
       "  // register the mime type if in Jupyter Notebook environment and previously unregistered\n",
       "  if (root.Jupyter !== undefined) {\n",
       "    var events = require('base/js/events');\n",
       "    var OutputArea = require('notebook/js/outputarea').OutputArea;\n",
       "\n",
       "    if (OutputArea.prototype.mime_types().indexOf(EXEC_MIME_TYPE) == -1) {\n",
       "      register_renderer(events, OutputArea);\n",
       "    }\n",
       "  }\n",
       "\n",
       "  \n",
       "  if (typeof (root._bokeh_timeout) === \"undefined\" || force === true) {\n",
       "    root._bokeh_timeout = Date.now() + 5000;\n",
       "    root._bokeh_failed_load = false;\n",
       "  }\n",
       "\n",
       "  var NB_LOAD_WARNING = {'data': {'text/html':\n",
       "     \"<div style='background-color: #fdd'>\\n\"+\n",
       "     \"<p>\\n\"+\n",
       "     \"BokehJS does not appear to have successfully loaded. If loading BokehJS from CDN, this \\n\"+\n",
       "     \"may be due to a slow or bad network connection. Possible fixes:\\n\"+\n",
       "     \"</p>\\n\"+\n",
       "     \"<ul>\\n\"+\n",
       "     \"<li>re-rerun `output_notebook()` to attempt to load from CDN again, or</li>\\n\"+\n",
       "     \"<li>use INLINE resources instead, as so:</li>\\n\"+\n",
       "     \"</ul>\\n\"+\n",
       "     \"<code>\\n\"+\n",
       "     \"from bokeh.resources import INLINE\\n\"+\n",
       "     \"output_notebook(resources=INLINE)\\n\"+\n",
       "     \"</code>\\n\"+\n",
       "     \"</div>\"}};\n",
       "\n",
       "  function display_loaded() {\n",
       "    var el = document.getElementById(\"9e6174ba-e71b-4071-a6c0-996226d58f43\");\n",
       "    if (el != null) {\n",
       "      el.textContent = \"BokehJS is loading...\";\n",
       "    }\n",
       "    if (root.Bokeh !== undefined) {\n",
       "      if (el != null) {\n",
       "        el.textContent = \"BokehJS \" + root.Bokeh.version + \" successfully loaded.\";\n",
       "      }\n",
       "    } else if (Date.now() < root._bokeh_timeout) {\n",
       "      setTimeout(display_loaded, 100)\n",
       "    }\n",
       "  }\n",
       "\n",
       "\n",
       "  function run_callbacks() {\n",
       "    try {\n",
       "      root._bokeh_onload_callbacks.forEach(function(callback) { callback() });\n",
       "    }\n",
       "    finally {\n",
       "      delete root._bokeh_onload_callbacks\n",
       "    }\n",
       "    console.info(\"Bokeh: all callbacks have finished\");\n",
       "  }\n",
       "\n",
       "  function load_libs(js_urls, callback) {\n",
       "    root._bokeh_onload_callbacks.push(callback);\n",
       "    if (root._bokeh_is_loading > 0) {\n",
       "      console.log(\"Bokeh: BokehJS is being loaded, scheduling callback at\", now());\n",
       "      return null;\n",
       "    }\n",
       "    if (js_urls == null || js_urls.length === 0) {\n",
       "      run_callbacks();\n",
       "      return null;\n",
       "    }\n",
       "    console.log(\"Bokeh: BokehJS not loaded, scheduling load and callback at\", now());\n",
       "    root._bokeh_is_loading = js_urls.length;\n",
       "    for (var i = 0; i < js_urls.length; i++) {\n",
       "      var url = js_urls[i];\n",
       "      var s = document.createElement('script');\n",
       "      s.src = url;\n",
       "      s.async = false;\n",
       "      s.onreadystatechange = s.onload = function() {\n",
       "        root._bokeh_is_loading--;\n",
       "        if (root._bokeh_is_loading === 0) {\n",
       "          console.log(\"Bokeh: all BokehJS libraries loaded\");\n",
       "          run_callbacks()\n",
       "        }\n",
       "      };\n",
       "      s.onerror = function() {\n",
       "        console.warn(\"failed to load library \" + url);\n",
       "      };\n",
       "      console.log(\"Bokeh: injecting script tag for BokehJS library: \", url);\n",
       "      document.getElementsByTagName(\"head\")[0].appendChild(s);\n",
       "    }\n",
       "  };var element = document.getElementById(\"9e6174ba-e71b-4071-a6c0-996226d58f43\");\n",
       "  if (element == null) {\n",
       "    console.log(\"Bokeh: ERROR: autoload.js configured with elementid '9e6174ba-e71b-4071-a6c0-996226d58f43' but no matching script tag was found. \")\n",
       "    return false;\n",
       "  }\n",
       "\n",
       "  var js_urls = [\"https://cdn.pydata.org/bokeh/release/bokeh-0.12.16.min.js\", \"https://cdn.pydata.org/bokeh/release/bokeh-widgets-0.12.16.min.js\", \"https://cdn.pydata.org/bokeh/release/bokeh-tables-0.12.16.min.js\", \"https://cdn.pydata.org/bokeh/release/bokeh-gl-0.12.16.min.js\"];\n",
       "\n",
       "  var inline_js = [\n",
       "    function(Bokeh) {\n",
       "      Bokeh.set_log_level(\"info\");\n",
       "    },\n",
       "    \n",
       "    function(Bokeh) {\n",
       "      \n",
       "    },\n",
       "    function(Bokeh) {\n",
       "      console.log(\"Bokeh: injecting CSS: https://cdn.pydata.org/bokeh/release/bokeh-0.12.16.min.css\");\n",
       "      Bokeh.embed.inject_css(\"https://cdn.pydata.org/bokeh/release/bokeh-0.12.16.min.css\");\n",
       "      console.log(\"Bokeh: injecting CSS: https://cdn.pydata.org/bokeh/release/bokeh-widgets-0.12.16.min.css\");\n",
       "      Bokeh.embed.inject_css(\"https://cdn.pydata.org/bokeh/release/bokeh-widgets-0.12.16.min.css\");\n",
       "      console.log(\"Bokeh: injecting CSS: https://cdn.pydata.org/bokeh/release/bokeh-tables-0.12.16.min.css\");\n",
       "      Bokeh.embed.inject_css(\"https://cdn.pydata.org/bokeh/release/bokeh-tables-0.12.16.min.css\");\n",
       "    }\n",
       "  ];\n",
       "\n",
       "  function run_inline_js() {\n",
       "    \n",
       "    if ((root.Bokeh !== undefined) || (force === true)) {\n",
       "      for (var i = 0; i < inline_js.length; i++) {\n",
       "        inline_js[i].call(root, root.Bokeh);\n",
       "      }if (force === true) {\n",
       "        display_loaded();\n",
       "      }} else if (Date.now() < root._bokeh_timeout) {\n",
       "      setTimeout(run_inline_js, 100);\n",
       "    } else if (!root._bokeh_failed_load) {\n",
       "      console.log(\"Bokeh: BokehJS failed to load within specified timeout.\");\n",
       "      root._bokeh_failed_load = true;\n",
       "    } else if (force !== true) {\n",
       "      var cell = $(document.getElementById(\"9e6174ba-e71b-4071-a6c0-996226d58f43\")).parents('.cell').data().cell;\n",
       "      cell.output_area.append_execute_result(NB_LOAD_WARNING)\n",
       "    }\n",
       "\n",
       "  }\n",
       "\n",
       "  if (root._bokeh_is_loading === 0) {\n",
       "    console.log(\"Bokeh: BokehJS loaded, going straight to plotting\");\n",
       "    run_inline_js();\n",
       "  } else {\n",
       "    load_libs(js_urls, function() {\n",
       "      console.log(\"Bokeh: BokehJS plotting callback run at\", now());\n",
       "      run_inline_js();\n",
       "    });\n",
       "  }\n",
       "}(window));"
      ],
      "application/vnd.bokehjs_load.v0+json": "\n(function(root) {\n  function now() {\n    return new Date();\n  }\n\n  var force = true;\n\n  if (typeof (root._bokeh_onload_callbacks) === \"undefined\" || force === true) {\n    root._bokeh_onload_callbacks = [];\n    root._bokeh_is_loading = undefined;\n  }\n\n  \n\n  \n  if (typeof (root._bokeh_timeout) === \"undefined\" || force === true) {\n    root._bokeh_timeout = Date.now() + 5000;\n    root._bokeh_failed_load = false;\n  }\n\n  var NB_LOAD_WARNING = {'data': {'text/html':\n     \"<div style='background-color: #fdd'>\\n\"+\n     \"<p>\\n\"+\n     \"BokehJS does not appear to have successfully loaded. If loading BokehJS from CDN, this \\n\"+\n     \"may be due to a slow or bad network connection. Possible fixes:\\n\"+\n     \"</p>\\n\"+\n     \"<ul>\\n\"+\n     \"<li>re-rerun `output_notebook()` to attempt to load from CDN again, or</li>\\n\"+\n     \"<li>use INLINE resources instead, as so:</li>\\n\"+\n     \"</ul>\\n\"+\n     \"<code>\\n\"+\n     \"from bokeh.resources import INLINE\\n\"+\n     \"output_notebook(resources=INLINE)\\n\"+\n     \"</code>\\n\"+\n     \"</div>\"}};\n\n  function display_loaded() {\n    var el = document.getElementById(\"9e6174ba-e71b-4071-a6c0-996226d58f43\");\n    if (el != null) {\n      el.textContent = \"BokehJS is loading...\";\n    }\n    if (root.Bokeh !== undefined) {\n      if (el != null) {\n        el.textContent = \"BokehJS \" + root.Bokeh.version + \" successfully loaded.\";\n      }\n    } else if (Date.now() < root._bokeh_timeout) {\n      setTimeout(display_loaded, 100)\n    }\n  }\n\n\n  function run_callbacks() {\n    try {\n      root._bokeh_onload_callbacks.forEach(function(callback) { callback() });\n    }\n    finally {\n      delete root._bokeh_onload_callbacks\n    }\n    console.info(\"Bokeh: all callbacks have finished\");\n  }\n\n  function load_libs(js_urls, callback) {\n    root._bokeh_onload_callbacks.push(callback);\n    if (root._bokeh_is_loading > 0) {\n      console.log(\"Bokeh: BokehJS is being loaded, scheduling callback at\", now());\n      return null;\n    }\n    if (js_urls == null || js_urls.length === 0) {\n      run_callbacks();\n      return null;\n    }\n    console.log(\"Bokeh: BokehJS not loaded, scheduling load and callback at\", now());\n    root._bokeh_is_loading = js_urls.length;\n    for (var i = 0; i < js_urls.length; i++) {\n      var url = js_urls[i];\n      var s = document.createElement('script');\n      s.src = url;\n      s.async = false;\n      s.onreadystatechange = s.onload = function() {\n        root._bokeh_is_loading--;\n        if (root._bokeh_is_loading === 0) {\n          console.log(\"Bokeh: all BokehJS libraries loaded\");\n          run_callbacks()\n        }\n      };\n      s.onerror = function() {\n        console.warn(\"failed to load library \" + url);\n      };\n      console.log(\"Bokeh: injecting script tag for BokehJS library: \", url);\n      document.getElementsByTagName(\"head\")[0].appendChild(s);\n    }\n  };var element = document.getElementById(\"9e6174ba-e71b-4071-a6c0-996226d58f43\");\n  if (element == null) {\n    console.log(\"Bokeh: ERROR: autoload.js configured with elementid '9e6174ba-e71b-4071-a6c0-996226d58f43' but no matching script tag was found. \")\n    return false;\n  }\n\n  var js_urls = [\"https://cdn.pydata.org/bokeh/release/bokeh-0.12.16.min.js\", \"https://cdn.pydata.org/bokeh/release/bokeh-widgets-0.12.16.min.js\", \"https://cdn.pydata.org/bokeh/release/bokeh-tables-0.12.16.min.js\", \"https://cdn.pydata.org/bokeh/release/bokeh-gl-0.12.16.min.js\"];\n\n  var inline_js = [\n    function(Bokeh) {\n      Bokeh.set_log_level(\"info\");\n    },\n    \n    function(Bokeh) {\n      \n    },\n    function(Bokeh) {\n      console.log(\"Bokeh: injecting CSS: https://cdn.pydata.org/bokeh/release/bokeh-0.12.16.min.css\");\n      Bokeh.embed.inject_css(\"https://cdn.pydata.org/bokeh/release/bokeh-0.12.16.min.css\");\n      console.log(\"Bokeh: injecting CSS: https://cdn.pydata.org/bokeh/release/bokeh-widgets-0.12.16.min.css\");\n      Bokeh.embed.inject_css(\"https://cdn.pydata.org/bokeh/release/bokeh-widgets-0.12.16.min.css\");\n      console.log(\"Bokeh: injecting CSS: https://cdn.pydata.org/bokeh/release/bokeh-tables-0.12.16.min.css\");\n      Bokeh.embed.inject_css(\"https://cdn.pydata.org/bokeh/release/bokeh-tables-0.12.16.min.css\");\n    }\n  ];\n\n  function run_inline_js() {\n    \n    if ((root.Bokeh !== undefined) || (force === true)) {\n      for (var i = 0; i < inline_js.length; i++) {\n        inline_js[i].call(root, root.Bokeh);\n      }if (force === true) {\n        display_loaded();\n      }} else if (Date.now() < root._bokeh_timeout) {\n      setTimeout(run_inline_js, 100);\n    } else if (!root._bokeh_failed_load) {\n      console.log(\"Bokeh: BokehJS failed to load within specified timeout.\");\n      root._bokeh_failed_load = true;\n    } else if (force !== true) {\n      var cell = $(document.getElementById(\"9e6174ba-e71b-4071-a6c0-996226d58f43\")).parents('.cell').data().cell;\n      cell.output_area.append_execute_result(NB_LOAD_WARNING)\n    }\n\n  }\n\n  if (root._bokeh_is_loading === 0) {\n    console.log(\"Bokeh: BokehJS loaded, going straight to plotting\");\n    run_inline_js();\n  } else {\n    load_libs(js_urls, function() {\n      console.log(\"Bokeh: BokehJS plotting callback run at\", now());\n      run_inline_js();\n    });\n  }\n}(window));"
     },
     "metadata": {},
     "output_type": "display_data"
    }
   ],
   "source": [
    "output_notebook()"
   ]
  },
  {
   "cell_type": "code",
   "execution_count": 4,
   "metadata": {
    "collapsed": true
   },
   "outputs": [],
   "source": [
    "def make_query(param=None):\n",
    "    '''\n",
    "    Returns the MongoDB query for a lblnew \n",
    "    run's document.\n",
    "    \n",
    "    Parameters\n",
    "    ----------\n",
    "    param: dict\n",
    "    lblnew-bestfit input parameters.\n",
    "    '''\n",
    "    return {'param.' + name: value for name, value in param.items()}   "
   ]
  },
  {
   "cell_type": "code",
   "execution_count": 5,
   "metadata": {
    "collapsed": true
   },
   "outputs": [],
   "source": [
    "def print_input_param():\n",
    "    '''\n",
    "    Print to screen the input parameters \n",
    "    of the lblnew run.\n",
    "    '''\n",
    "    for name, value in sorted(PARAM.items()):\n",
    "        print(f'{name} = {value}')"
   ]
  },
  {
   "cell_type": "code",
   "execution_count": 6,
   "metadata": {
    "collapsed": true
   },
   "outputs": [],
   "source": [
    "def fmt_cool(ds_in):\n",
    "    ds = ds_in.copy(deep=True)\n",
    "    \n",
    "    if 'i' in ds.dims:                                                                                               \n",
    "        ds = ds.sel(i=ds.dims['i']) \n",
    "        \n",
    "    if 'band' in ds.dims:\n",
    "        try:\n",
    "            ds = ds.squeeze('band')\n",
    "        except ValueError:\n",
    "            ds = ds.sum('band') \n",
    "            \n",
    "    return ds['coolrg']\n",
    "\n",
    "\n",
    "\n",
    "def pltdata_cool(g=None):\n",
    "    '''\n",
    "    Define the plotting data for cooling rate\n",
    "    profile plots.  Add/remove entries in\n",
    "    the `data` list.\n",
    "    \n",
    "    Parameters\n",
    "    ----------\n",
    "    g: int\n",
    "        g-interval to be plotted.  If None,\n",
    "        the sum over all g-intervals will be\n",
    "        plotted.\n",
    "    data: dict\n",
    "        Plot data, including colour, line attributes, etc.\n",
    "    '''\n",
    "    colors = all_palettes['Set1'][4]\n",
    "    \n",
    "    if g == None:\n",
    "        ds_cool_crd = DS_COOL_CRD.sum('g')\n",
    "        ds_cool_wgt = DS_COOL_WGT.sum('g')\n",
    "    else:\n",
    "        ds_cool_crd = DS_COOL_CRD.sel(g=g)\n",
    "        ds_cool_wgt = DS_COOL_WGT.sel(g=g)\n",
    "    \n",
    "    data = [\n",
    "        {'label': 'CRD',\n",
    "         'srs': fmt_cool(ds_cool_crd),\n",
    "         'line_dash': 'solid', 'line_width':1.5,\n",
    "         'marker': 'circle', 'mark_size': 5,\n",
    "         'color': colors[2], 'alpha': 1},\n",
    "        {'label': 'WGT igg=1',\n",
    "         'srs': fmt_cool(ds_cool_wgt.sel(igg=1)),\n",
    "         'line_dash': 'solid', 'line_width': 3,\n",
    "         'marker': 'square', 'marker_size': 5,\n",
    "         'color': colors[3], 'alpha': .6},\n",
    "        {'label': 'WGT igg=10',\n",
    "         'srs': fmt_cool(ds_cool_wgt.sel(igg=10)),\n",
    "         'line_dash': 'solid', 'line_width': 2,\n",
    "         'marker': 'triangle', 'marker_size': 2,\n",
    "         'color': colors[1], 'alpha': .3}]\n",
    "    return data\n",
    "\n",
    "\n",
    "\n",
    "def plt_cool(pltdata=None):\n",
    "    '''\n",
    "    Plot cooling rate profiles on linear\n",
    "    and log pressure axes.\n",
    "    \n",
    "    Parameters\n",
    "    ----------\n",
    "    pltdata: dict\n",
    "        Plot data, including colour, line attributes, etc.\n",
    "    everything: bokeh.models.layouts.Column\n",
    "        Cooling rate profile plot.\n",
    "    '''\n",
    "    plin = plt_vert_profile_bokeh(pltdata=pltdata, \n",
    "                                  y_axis_type='linear',\n",
    "                                  prange=(50, 1050))\n",
    "    plin.plot_width, plin.plot_height = 400, 500\n",
    "    \n",
    "    plog = plt_vert_profile_bokeh(pltdata=pltdata,\n",
    "                                  y_axis_type='log',\n",
    "                                  prange=(.01, 200)) \n",
    "    plog.plot_width, plog.plot_height = 400, 500\n",
    "    \n",
    "    everything = gridplot(plin, plog, ncols=2)\n",
    "    return everything\n",
    "    \n",
    "    \n",
    "\n",
    "def script_plt_cool():\n",
    "    '''\n",
    "    Script to plot the cooling rate profiles\n",
    "    in each g-interval and the total \n",
    "    cooling rate profile over all g-intervals.\n",
    "    '''\n",
    "    ng = sum(PARAM['ng_refs'])\n",
    "    for g in np.arange(1, ng + 1):\n",
    "        data = pltdata_cool(g=g)\n",
    "        p = plt_cool(pltdata=data)\n",
    "        show(p)\n",
    "        display.display(\n",
    "            display.Markdown(f'*FIGURE.* Cooling rates. g={g}'))\n",
    "    \n",
    "    data = pltdata_cool()\n",
    "    p = plt_cool(pltdata=data)\n",
    "    show(p)\n",
    "    display.display(\n",
    "        display.Markdown(f'*FIGURE.* Cooling rates. Summed over g.'))\n",
    "    \n"
   ]
  },
  {
   "cell_type": "code",
   "execution_count": 7,
   "metadata": {
    "collapsed": true
   },
   "outputs": [],
   "source": [
    "def fmt_flux(ds_in, ilevels=None):\n",
    "    ds = ds_in.copy(deep=True)\n",
    "    \n",
    "    for l in ('level', 'layer'):\n",
    "        if l in ds.data_vars:\n",
    "            if len(ds[l].dims) > 1:\n",
    "                surface = {d: 0 for d in ds.dims if d != 'pressure'}\n",
    "                coord_level = ds[l][surface]\n",
    "                ds.coords[l] = ('pressure', coord_level)\n",
    "            else:\n",
    "                ds.coords[l] = ('pressure', ds[l])\n",
    "    \n",
    "    if ilevels:\n",
    "        ds = ds.isel(pressure=ilevels)\n",
    "\n",
    "    if 'i' in ds.dims:                                                                                               \n",
    "        ds = ds.sel(i=ds.dims['i'])\n",
    "        \n",
    "    if 'igg' in ds.dims:\n",
    "        ds = ds.squeeze('igg').drop('igg')\n",
    "            \n",
    "    if 'band' in ds.dims:\n",
    "        try:\n",
    "            ds = ds.squeeze('band').drop('band')\n",
    "        except ValueError:\n",
    "            ds = ds.sum('band')\n",
    "                \n",
    "    df = ds.to_dataframe()\n",
    "    df = df.set_index('level', append=True)               \n",
    "    return df\n",
    "\n",
    "\n",
    "def tbdata_flux():\n",
    "    '''\n",
    "    Define the flux data to be tabulated for\n",
    "    the g-intervals.  Add/remove entries in the\n",
    "    `tbs` list.\n",
    "    \n",
    "    Parameters\n",
    "    ----------\n",
    "    data: dict\n",
    "        Flux data, including how each set is to be\n",
    "        labeled in the output table.\n",
    "    '''\n",
    "    tropopauses = {'mls': 40, 'saw': 45, 'trp': 37}\n",
    "    atmpro = PARAM['atmpro']\n",
    "    ilevels = [0, tropopauses[atmpro], -1]\n",
    "    \n",
    "    benchmark = {'label': 'CRD',\n",
    "                 'df': fmt_flux(DS_FLUX_CRD, ilevels=ilevels)}\n",
    "    \n",
    "    tbs = [{'label': 'WGT igg=1',\n",
    "            'df': fmt_flux(DS_FLUX_WGT.sel(igg=[1]), ilevels=ilevels)},\n",
    "           {'label': 'WGT igg=10',\n",
    "            'df': fmt_flux(DS_FLUX_WGT.sel(igg=[10]), ilevels=ilevels)}]\n",
    "    \n",
    "    data = {'benchmark': benchmark, 'others': tbs}\n",
    "    return data\n",
    "\n",
    "\n",
    "\n",
    "def tbdata_flux_sumg():\n",
    "    '''\n",
    "    Define the total flux data, over all g-intervals,\n",
    "    to be tabulated.\n",
    "    \n",
    "    Parameters\n",
    "    ----------\n",
    "    data: dict\n",
    "        Flux data, including how each set is to e\n",
    "        labeled in the output table.\n",
    "    '''\n",
    "    tropopauses = {'mls': 40, 'saw': 45, 'trp': 37}\n",
    "    \n",
    "    atmpro = PARAM['atmpro']\n",
    "    ilevels = [0, tropopauses[atmpro], -1]\n",
    "    \n",
    "    benchmark = {'label': 'CRD',\n",
    "                 'df': fmt_flux(DS_FLUX_CRD.sum('g'), ilevels=ilevels)}\n",
    "    \n",
    "    tbs = [{'label': 'WGT igg=1',\n",
    "            'df': fmt_flux(DS_FLUX_WGT.sel(igg=[1]).sum('g'), \n",
    "                           ilevels=ilevels)},\n",
    "           {'label': 'WGT igg=10',\n",
    "            'df': fmt_flux(DS_FLUX_WGT.sel(igg=[10]).sum('g'), \n",
    "                           ilevels=ilevels)}]\n",
    "    \n",
    "    data = {'benchmark': benchmark, 'others': tbs}\n",
    "    return data\n",
    "\n",
    "\n",
    "def tb_flux(tbdata=None):\n",
    "    '''\n",
    "    Display flux table for each set, and display\n",
    "    the difference between each set and the set\n",
    "    that is specified to be the benchmark.\n",
    "    \n",
    "    Parameters\n",
    "    ----------\n",
    "    tbdata: dict\n",
    "        Flux data, including how each set it to be\n",
    "        labeled in the output table.\n",
    "    '''\n",
    "    benchmark = tbdata['benchmark']\n",
    "    others = tbdata['others']\n",
    "    \n",
    "    def show_tb(d=None):\n",
    "        display.display(d['df'])\n",
    "        display.display(display.Markdown(\n",
    "            f\"*TABLE.* Fluxes. {d['label']}\"))\n",
    "        \n",
    "    def show_tbdiff(d0=None, d=None):\n",
    "        df = d['df']\n",
    "        df.index = d0['df'].index\n",
    "        display.display(df - d0['df'])\n",
    "        display.display(display.Markdown(\n",
    "            f\"*TABLE.* Fluxes. ({d['label']}) - ({d0['label']})\"))\n",
    "        \n",
    "    show_tb(benchmark)\n",
    "    for d in others:\n",
    "        show_tb(d)\n",
    "        \n",
    "    for d in others:\n",
    "        show_tbdiff(d=d, d0=benchmark)\n",
    "        \n",
    "\n",
    "        \n",
    "def script_tb_flux():\n",
    "    '''\n",
    "    Script to display the flux tables in \n",
    "    each g-interval, and the flux table\n",
    "    for the total flux, over all g-intervals.\n",
    "    '''\n",
    "    tb_flux(tbdata=tbdata_flux())\n",
    "    tb_flux(tbdata=tbdata_flux_sumg())\n"
   ]
  },
  {
   "cell_type": "code",
   "execution_count": 8,
   "metadata": {
    "collapsed": true
   },
   "outputs": [],
   "source": [
    "def script_gsummary():\n",
    "    '''\n",
    "    Script to display how the g-intervals\n",
    "    are defined according the hyperparameters\n",
    "    chosen for this lblnew-bestfit run.\n",
    "    '''\n",
    "    ng_refs = PARAM['ng_refs']\n",
    "    p_refs = list(zip(*PARAM['ref_pts']))[0]\n",
    "    ng = sum(ng_refs)\n",
    "    df_abscom = pd.read_csv(io.StringIO(DOC['abscom']), \n",
    "                            sep=r'\\s+', index_col=[0])\n",
    "    df_dgdgs = pd.read_csv(io.StringIO(DOC['dgdgs']), \n",
    "                            sep=r'\\s+', index_col=[0])\n",
    "    \n",
    "    # absth(g + 1) / absth(g)\n",
    "    df_abscom_copy = df_abscom.copy()\n",
    "    df_abscom_copy.index = df_abscom.index + 1\n",
    "    df_absratio = df_abscom / df_abscom_copy\n",
    "    df_absratio.columns = ['k(ig) / k(ig - 1)']\n",
    "    df_absratio = df_absratio.loc[: ng]    \n",
    "    \n",
    "    df_dgdgs_cumsum = df_dgdgs.cumsum(axis=0)\n",
    "    df_dgdgs_cumsum.columns = ['dg cumsum', 'dgs cumsum']\n",
    "    \n",
    "    data_pref = np.concatenate([p_ref * np.ones((ng_ref,)) \n",
    "                                for ng_ref, p_ref \n",
    "                                in zip(ng_refs, p_refs)], axis=0)\n",
    "    df_pref = pd.DataFrame(data_pref, \n",
    "                           index=df_dgdgs.index, columns=['pref'])\n",
    "    \n",
    "    df_all = pd.concat([df_abscom, df_absratio,\n",
    "                        df_dgdgs, df_dgdgs_cumsum,\n",
    "                        df_pref], axis=1) \n",
    "    \n",
    "    display.display(df_all)\n",
    "    display.display(display.Markdown(\n",
    "        (f\"TABLE. g-interval summary.  \"\n",
    "         f\"*abscom* is the lower bound of the g-interval.\")))\n",
    "    \n"
   ]
  },
  {
   "cell_type": "code",
   "execution_count": 9,
   "metadata": {
    "collapsed": true
   },
   "outputs": [],
   "source": [
    "def script_flux_to_excel():\n",
    "    '''\n",
    "    Script to save the lblnew-bestfit run's\n",
    "    output flux to excel file and display the\n",
    "    link to download the excel file.\n",
    "    '''\n",
    "    fname = 'lblnew-bestfit_flux.xlsx'\n",
    "    writer = pd.ExcelWriter(fname)\n",
    "    \n",
    "    ds = DS_FLUX_CRD\n",
    "    for g in ds.coords['g']:\n",
    "        df = ds.sel(g=g).to_dataframe()\n",
    "        df.to_excel(writer, f'crd flux g={int(g)}')\n",
    "                \n",
    "    ds = DS_FLUX_WGT\n",
    "    for g in ds.coords['g']:\n",
    "        df = ds.sel(g=g, igg=1).to_dataframe()\n",
    "        df.to_excel(writer, f'wgt igg=1 flux g={int(g)}')\n",
    "        \n",
    "        df = ds.sel(g=g, igg=10).to_dataframe()\n",
    "        df.to_excel(writer, f'wgt igg=10 flux g={int(g)}')\n",
    "        \n",
    "    writer.save()    \n",
    "    html_download = f'Download: <a href=\"./{fname}\">{fname}</a>'\n",
    "    display.display(display.HTML(html_download))\n",
    "\n",
    "\n",
    "def script_cool_to_excel():\n",
    "    '''\n",
    "    Script to save the lblnew-bestfit run's\n",
    "    output cooling rate to excel file and display\n",
    "    the link to download the excel file.\n",
    "    '''\n",
    "    fname = 'lblnew-bestfit_cool.xlsx'\n",
    "    writer = pd.ExcelWriter(fname)\n",
    "    \n",
    "    ds = DS_COOL_CRD\n",
    "    for g in ds.coords['g']:\n",
    "        df = ds.sel(g=g).to_dataframe()\n",
    "        df.to_excel(writer, f'crd cool g={int(g)}')\n",
    "        \n",
    "    ds = DS_COOL_WGT\n",
    "    for g in ds.coords['g']:\n",
    "        df = ds.sel(g=g, igg=1).to_dataframe()\n",
    "        df.to_excel(writer, f'wgt igg=1 cool g={int(g)}')\n",
    "        \n",
    "        df = ds.sel(g=g, igg=10).to_dataframe()\n",
    "        df.to_excel(writer, f'wgt igg=10 cool g={int(g)}')\n",
    "        \n",
    "    writer.save()\n",
    "    html_download = f'Download: <a href=\"./{fname}\">{fname}</a>'\n",
    "    display.display(display.HTML(html_download))"
   ]
  },
  {
   "cell_type": "code",
   "execution_count": 10,
   "metadata": {
    "collapsed": true
   },
   "outputs": [],
   "source": [
    "def show_html(s):\n",
    "    display.display(display.HTML(s))\n",
    "\n",
    "    \n",
    "def show_markdown(s):\n",
    "    display.display(display.Markdown(s))"
   ]
  },
  {
   "cell_type": "code",
   "execution_count": 11,
   "metadata": {
    "collapsed": true
   },
   "outputs": [],
   "source": [
    "def script():\n",
    "    title = ('### lblnew-bestfit' \n",
    "             if 'ng_refs' in PARAM else '### lblnew-overlap')\n",
    "    s_input = 'Input Parameters'\n",
    "    s_plt_cool = 'Cooling Rate Profiles'\n",
    "    s_tb_flux = 'Flux Comparison'\n",
    "    s_gsummary = 'g-interval Summary'\n",
    "    s_download = 'Download Data'\n",
    "    \n",
    "    # title\n",
    "    show_markdown(title)\n",
    "    \n",
    "    # TOC\n",
    "    show_markdown('### Table of Contents')\n",
    "    show_html(climahtml.getHTML_hrefanchor(s_input))\n",
    "    show_html(climahtml.getHTML_hrefanchor(s_plt_cool))\n",
    "    show_html(climahtml.getHTML_hrefanchor(s_tb_flux))\n",
    "    show_html(climahtml.getHTML_hrefanchor(s_gsummary))\n",
    "    show_html(climahtml.getHTML_hrefanchor(s_download))\n",
    "    \n",
    "    # Input parameters\n",
    "    show_html(climahtml.getHTML_idanchor(s_input))\n",
    "    show_markdown(climahtml.getMarkdown_sectitle(s_input))\n",
    "    print_input_param()\n",
    "    \n",
    "    # Cooling rate profiles\n",
    "    show_html(climahtml.getHTML_idanchor(s_plt_cool))\n",
    "    show_markdown(climahtml.getMarkdown_sectitle(s_plt_cool))\n",
    "    script_plt_cool()\n",
    "    \n",
    "    # Flux comparison\n",
    "    show_html(climahtml.getHTML_idanchor(s_tb_flux))\n",
    "    show_markdown(climahtml.getMarkdown_sectitle(s_tb_flux))\n",
    "    script_tb_flux()\n",
    "    \n",
    "    # g-interval summary\n",
    "    show_html(climahtml.getHTML_idanchor(s_gsummary))\n",
    "    show_markdown(climahtml.getMarkdown_sectitle(s_gsummary))\n",
    "    script_gsummary()\n",
    "    \n",
    "    # Download cooling rate and fluxes\n",
    "    show_html(climahtml.getHTML_idanchor(s_download))\n",
    "    show_markdown(climahtml.getMarkdown_sectitle(s_download))\n",
    "    script_flux_to_excel()\n",
    "    script_cool_to_excel()"
   ]
  },
  {
   "cell_type": "code",
   "execution_count": 12,
   "metadata": {
    "collapsed": true
   },
   "outputs": [],
   "source": [
    "%run param.py\n",
    "\n",
    "client = pymongo.MongoClient('localhost', 27017, connect=False)\n",
    "db = client.lblnew\n",
    "\n",
    "\n",
    "DOC = db.bestfit_lw.find_one(make_query(param=PARAM))\n",
    "DS_FLUX_CRD = load_output_file(io.StringIO(DOC['output_fluxg']))\n",
    "DS_COOL_CRD = load_output_file(io.StringIO(DOC['output_coolrg']))\n",
    "DS_FLUX_WGT = load_output_file(io.StringIO(DOC['output_wfluxg']))\n",
    "DS_COOL_WGT = load_output_file(io.StringIO(DOC['output_wcoolrg']))"
   ]
  },
  {
   "cell_type": "code",
   "execution_count": 13,
   "metadata": {
    "scrolled": false
   },
   "outputs": [
    {
     "data": {
      "text/markdown": [
       "### lblnew-bestfit"
      ],
      "text/plain": [
       "<IPython.core.display.Markdown object>"
      ]
     },
     "metadata": {},
     "output_type": "display_data"
    },
    {
     "data": {
      "text/markdown": [
       "### Table of Contents"
      ],
      "text/plain": [
       "<IPython.core.display.Markdown object>"
      ]
     },
     "metadata": {},
     "output_type": "display_data"
    },
    {
     "data": {
      "text/html": [
       "<a href=\"#Input_Parameters\">Input Parameters</a>"
      ],
      "text/plain": [
       "<IPython.core.display.HTML object>"
      ]
     },
     "metadata": {},
     "output_type": "display_data"
    },
    {
     "data": {
      "text/html": [
       "<a href=\"#Cooling_Rate_Profiles\">Cooling Rate Profiles</a>"
      ],
      "text/plain": [
       "<IPython.core.display.HTML object>"
      ]
     },
     "metadata": {},
     "output_type": "display_data"
    },
    {
     "data": {
      "text/html": [
       "<a href=\"#Flux_Comparison\">Flux Comparison</a>"
      ],
      "text/plain": [
       "<IPython.core.display.HTML object>"
      ]
     },
     "metadata": {},
     "output_type": "display_data"
    },
    {
     "data": {
      "text/html": [
       "<a href=\"#g-interval_Summary\">g-interval Summary</a>"
      ],
      "text/plain": [
       "<IPython.core.display.HTML object>"
      ]
     },
     "metadata": {},
     "output_type": "display_data"
    },
    {
     "data": {
      "text/html": [
       "<a href=\"#Download_Data\">Download Data</a>"
      ],
      "text/plain": [
       "<IPython.core.display.HTML object>"
      ]
     },
     "metadata": {},
     "output_type": "display_data"
    },
    {
     "data": {
      "text/html": [
       "<a id=\"Input_Parameters\"></a>"
      ],
      "text/plain": [
       "<IPython.core.display.HTML object>"
      ]
     },
     "metadata": {},
     "output_type": "display_data"
    },
    {
     "data": {
      "text/markdown": [
       "# Input Parameters"
      ],
      "text/plain": [
       "<IPython.core.display.Markdown object>"
      ]
     },
     "metadata": {},
     "output_type": "display_data"
    },
    {
     "name": "stdout",
     "output_type": "stream",
     "text": [
      "atmpro = mls\n",
      "band = 7\n",
      "commitnumber = a06b618\n",
      "conc = 3.2e-07\n",
      "dv = 0.001\n",
      "klin = 2.22e-20\n",
      "molecule = n2o\n",
      "ng_adju = [0, 0]\n",
      "ng_refs = [2, 2]\n",
      "nv = 1000\n",
      "option_compute_btable = 0\n",
      "option_compute_ktable = 1\n",
      "option_wgt_flux = 1\n",
      "option_wgt_k = 1\n",
      "ref_pts = [(1, 250), (500, 250)]\n",
      "tsfc = 294\n",
      "vmax = 1380\n",
      "vmin = 1215\n",
      "w_diffuse = [(1.8, 1.66), (1.6, 1.8)]\n",
      "wgt = [(0.6, 0.5), (0.6, 0.9)]\n"
     ]
    },
    {
     "data": {
      "text/html": [
       "<a id=\"Cooling_Rate_Profiles\"></a>"
      ],
      "text/plain": [
       "<IPython.core.display.HTML object>"
      ]
     },
     "metadata": {},
     "output_type": "display_data"
    },
    {
     "data": {
      "text/markdown": [
       "# Cooling Rate Profiles"
      ],
      "text/plain": [
       "<IPython.core.display.Markdown object>"
      ]
     },
     "metadata": {},
     "output_type": "display_data"
    },
    {
     "data": {
      "text/html": [
       "\n",
       "<div class=\"bk-root\">\n",
       "    <div class=\"bk-plotdiv\" id=\"628127b7-1416-442f-a7d0-96c64a43ccce\"></div>\n",
       "</div>"
      ]
     },
     "metadata": {},
     "output_type": "display_data"
    },
    {
     "data": {
      "application/javascript": [
       "(function(root) {\n",
       "  function embed_document(root) {\n",
       "    \n",
       "  var docs_json = {\"b7e4f92a-f497-4d46-97e3-1b133e2ab168\":{\"roots\":{\"references\":[{\"attributes\":{\"children\":[{\"id\":\"17b869ad-e64c-494e-b087-7812be3d8b98\",\"subtype\":\"Figure\",\"type\":\"Plot\"},{\"id\":\"104b858f-673f-4d95-bac5-f9eccf6a81cd\",\"subtype\":\"Figure\",\"type\":\"Plot\"}]},\"id\":\"dc68eb84-88f1-4494-9896-33963546587c\",\"type\":\"Row\"},{\"attributes\":{\"callback\":null,\"data\":{\"x\":{\"__ndarray__\":\"N//fc4gBkL+IykfRUa6Pv7A5b7L5946/aZg6xTMzjr/+FgcRVWqNv2O1LHF6nYy/Ia9dk5vMi79bO0xZWACLv1hk+nnhO4q/yH9OL5t6ib848JjxHraIv5XvrOyhzoe/YBJpRv/+hr+0Iyt4NzqGv78BTGp/n4O/RNbC/+nMdb8fkWmH3KBfPw/1n1sGoYY/VeRP1bbBlj+eWS711VCiP60AhrWWoao/jf3ZTfg+sj/9e0mT7aS2Pz+7iF5ihrY/gyWTXa02sj/j2PkFW++qP2KwtdPjsqI/vacFPiU4mD/k0W9aThSNP80zpLn2Rn8/msCxBu/0aT9U+fPLSOE6PzpYEcvsR0i/MyDKcZH9T7/TsousMJJRv+hK1rqzQ1O/I13sbPrCU78+d1nHxVVUv8VlOWo8gVa/c5zjrKSmWL8+HzH3WiJYv1WYdNw0a1W/T0HRx7vtUr8f4dbKNPRQv9dF2XRnmk6/X8URGeSxS78Pd3sMzQlJv6TFC9MhjEa/J7DsINIsRL9dUbzoBOdBvx2ndVnngj+/3+AkY9yGO7+NgnQFq9o3v/FCTmmKajS/2f35S68YMb8L2kfocpcrv6DtiyJo5yS/mYo+vg8aHL+Wa9QvfO0Lv4hWabxxxsU+dtHjOVPPDz8dCTXKZ8kfP/4AgOUyMig/94XPmelvMD/6L3cEv/I0Pw6SQXRGjjk/LXpkq2kOPj8NDVhnqgxBP+P+BJrJr0I/EBPS7wLyQz9HtgLKVf9EP77xEIC1CUY/7TJ3YN8xRz+GANHDE4tIP2J8Z9RqJ0o/\",\"dtype\":\"float64\",\"shape\":[75]},\"y\":{\"__ndarray__\":\"GhExyth1ND/Sv8nbtpRIP2vylNV0PVE/aTum7souWD/At0SJ8fVgPw3Iuahxymc/MSNhhJWvcD/bTfBN02d3P2zb5nxnaoA/CD5h5MAGhz8NmeH1TyaQP+zrCsc9p5Y/LbKd76fGnz/bLW5ISEmmPww9YvTcQq8/JV2OstnstT8Er5Y7M8G+P0c+r3jqkcU/5h99k6ZBzj88bCIzFzjVP4enV8oyxN0//yH99nXg5D8qOpLLf0jtP5kqGJXUifQ/c9cS8kHP/D+/DpwzojQEQIEmwoanVwxA4lgXt9HgE0BSSZ2AJuIbQAMJih9jjiNA5q4l5INuK0AwTKYKRj0zQNv5fmq8/DpAaCJseHrtQkB/+zpwzoxKQM3MzMzMeFJAZmZmZmZqWEAAAAAAAFxeQM3MzMzMJmJAmpmZmZkfZUBmZmZmZhhoQDMzMzMzEWtAAAAAAAAKbkBmZmZmZoFwQM3MzMzM/XFAMzMzMzN6c0CamZmZmfZ0QAAAAAAAc3ZAZmZmZmbvd0DNzMzMzGt5QDMzMzMz6HpAmpmZmZlkfEAAAAAAAOF9QGZmZmZmXX9AZmZmZuZsgECamZmZGSuBQM3MzMxM6YFAAAAAAICngkAzMzMzs2WDQGZmZmbmI4RAmpmZmRnihEDNzMzMTKCFQAAAAACAXoZAMzMzM7Mch0BmZmZm5tqHQJqZmZkZmYhAzczMzExXiUAAAAAAgBWKQDMzMzOz04pAZmZmZuaRi0CamZmZGVCMQM3MzMxMDo1AAAAAAIDMjUAzMzMzs4qOQGZmZmbmSI9A\",\"dtype\":\"float64\",\"shape\":[75]}},\"selected\":{\"id\":\"b01d25a0-608d-46be-815f-b701bd0ccfd7\",\"type\":\"Selection\"},\"selection_policy\":{\"id\":\"16900d49-becc-4fac-9eb8-805d6e1c0b5c\",\"type\":\"UnionRenderers\"}},\"id\":\"f55d2d4d-ddbe-46bf-a375-38ca6b78f8a4\",\"type\":\"ColumnDataSource\"},{\"attributes\":{\"plot\":null,\"text\":\"\"},\"id\":\"6bf41c32-167b-409d-bacd-79bb9fb4d2da\",\"type\":\"Title\"},{\"attributes\":{\"label\":{\"value\":\"CRD\"},\"renderers\":[{\"id\":\"10c7ac52-3721-48cc-9687-d5b8e0ce0984\",\"type\":\"GlyphRenderer\"},{\"id\":\"08738408-95e5-4094-ab41-9e5807cfb100\",\"type\":\"GlyphRenderer\"}]},\"id\":\"ed532f80-fb2e-4486-8190-41d36cdaa483\",\"type\":\"LegendItem\"},{\"attributes\":{},\"id\":\"a74d4ea8-014b-4963-8c08-c0fc0a26018b\",\"type\":\"BasicTickFormatter\"},{\"attributes\":{\"label\":{\"value\":\"WGT igg=1\"},\"renderers\":[{\"id\":\"3b9ca316-65ab-4afa-9b1e-c8d932e6a676\",\"type\":\"GlyphRenderer\"},{\"id\":\"30216d40-215e-4b4f-85fe-30fee64f145c\",\"type\":\"GlyphRenderer\"}]},\"id\":\"911c80b5-b2cd-4b9b-8efc-ff554260b34c\",\"type\":\"LegendItem\"},{\"attributes\":{},\"id\":\"a2614278-8d74-4ac9-85a3-e931888f294d\",\"type\":\"UnionRenderers\"},{\"attributes\":{\"label\":{\"value\":\"WGT igg=10\"},\"renderers\":[{\"id\":\"1221bcea-2d38-42d6-ba33-dfade2b715db\",\"type\":\"GlyphRenderer\"},{\"id\":\"4f8d0a54-c7f6-4fea-b1fb-87e11c055240\",\"type\":\"GlyphRenderer\"}]},\"id\":\"6d8cdd56-795a-4e60-bce4-99e4f1f1c1a3\",\"type\":\"LegendItem\"},{\"attributes\":{},\"id\":\"482519a2-c265-4bc3-a5dc-8e98a71d0e18\",\"type\":\"UnionRenderers\"},{\"attributes\":{},\"id\":\"3aa1e78b-c036-475d-b5df-d82f7a552a84\",\"type\":\"Selection\"},{\"attributes\":{},\"id\":\"724b37ee-703e-4eea-aea6-5e53cba4a09e\",\"type\":\"BasicTickFormatter\"},{\"attributes\":{},\"id\":\"22394428-061c-48a4-a4e5-816f56903d1c\",\"type\":\"Selection\"},{\"attributes\":{},\"id\":\"10d833f8-aaf4-4c66-98f1-77ac164dbe5a\",\"type\":\"Selection\"},{\"attributes\":{},\"id\":\"0d90674e-e3db-47d8-9e1c-124e64b1e518\",\"type\":\"Selection\"},{\"attributes\":{},\"id\":\"2b9370de-79fb-4521-b9a5-32d23fe99d44\",\"type\":\"Selection\"},{\"attributes\":{},\"id\":\"528a3d2a-53a8-4242-bf10-97e4dc03cb19\",\"type\":\"Selection\"},{\"attributes\":{},\"id\":\"dc192475-e6e5-46e4-89fc-1bcea26df49c\",\"type\":\"UnionRenderers\"},{\"attributes\":{},\"id\":\"8359d3dd-4e1c-4568-8eea-9d1fbe488c67\",\"type\":\"UnionRenderers\"},{\"attributes\":{},\"id\":\"4e7badd1-ff61-4e0a-86bc-86042f868676\",\"type\":\"UnionRenderers\"},{\"attributes\":{},\"id\":\"b01d25a0-608d-46be-815f-b701bd0ccfd7\",\"type\":\"Selection\"},{\"attributes\":{\"callback\":null,\"data\":{\"x\":{\"__ndarray__\":\"N//fc4gBkL+IykfRUa6Pv7A5b7L5946/aZg6xTMzjr/+FgcRVWqNv2O1LHF6nYy/Ia9dk5vMi79bO0xZWACLv1hk+nnhO4q/yH9OL5t6ib848JjxHraIv5XvrOyhzoe/YBJpRv/+hr+0Iyt4NzqGv78BTGp/n4O/RNbC/+nMdb8fkWmH3KBfPw/1n1sGoYY/VeRP1bbBlj+eWS711VCiP60AhrWWoao/jf3ZTfg+sj/9e0mT7aS2Pz+7iF5ihrY/gyWTXa02sj/j2PkFW++qP2KwtdPjsqI/vacFPiU4mD/k0W9aThSNP80zpLn2Rn8/msCxBu/0aT9U+fPLSOE6PzpYEcvsR0i/MyDKcZH9T7/TsousMJJRv+hK1rqzQ1O/I13sbPrCU78+d1nHxVVUv8VlOWo8gVa/c5zjrKSmWL8+HzH3WiJYv1WYdNw0a1W/T0HRx7vtUr8f4dbKNPRQv9dF2XRnmk6/X8URGeSxS78Pd3sMzQlJv6TFC9MhjEa/J7DsINIsRL9dUbzoBOdBvx2ndVnngj+/3+AkY9yGO7+NgnQFq9o3v/FCTmmKajS/2f35S68YMb8L2kfocpcrv6DtiyJo5yS/mYo+vg8aHL+Wa9QvfO0Lv4hWabxxxsU+dtHjOVPPDz8dCTXKZ8kfP/4AgOUyMig/94XPmelvMD/6L3cEv/I0Pw6SQXRGjjk/LXpkq2kOPj8NDVhnqgxBP+P+BJrJr0I/EBPS7wLyQz9HtgLKVf9EP77xEIC1CUY/7TJ3YN8xRz+GANHDE4tIP2J8Z9RqJ0o/\",\"dtype\":\"float64\",\"shape\":[75]},\"y\":{\"__ndarray__\":\"GhExyth1ND/Sv8nbtpRIP2vylNV0PVE/aTum7souWD/At0SJ8fVgPw3Iuahxymc/MSNhhJWvcD/bTfBN02d3P2zb5nxnaoA/CD5h5MAGhz8NmeH1TyaQP+zrCsc9p5Y/LbKd76fGnz/bLW5ISEmmPww9YvTcQq8/JV2OstnstT8Er5Y7M8G+P0c+r3jqkcU/5h99k6ZBzj88bCIzFzjVP4enV8oyxN0//yH99nXg5D8qOpLLf0jtP5kqGJXUifQ/c9cS8kHP/D+/DpwzojQEQIEmwoanVwxA4lgXt9HgE0BSSZ2AJuIbQAMJih9jjiNA5q4l5INuK0AwTKYKRj0zQNv5fmq8/DpAaCJseHrtQkB/+zpwzoxKQM3MzMzMeFJAZmZmZmZqWEAAAAAAAFxeQM3MzMzMJmJAmpmZmZkfZUBmZmZmZhhoQDMzMzMzEWtAAAAAAAAKbkBmZmZmZoFwQM3MzMzM/XFAMzMzMzN6c0CamZmZmfZ0QAAAAAAAc3ZAZmZmZmbvd0DNzMzMzGt5QDMzMzMz6HpAmpmZmZlkfEAAAAAAAOF9QGZmZmZmXX9AZmZmZuZsgECamZmZGSuBQM3MzMxM6YFAAAAAAICngkAzMzMzs2WDQGZmZmbmI4RAmpmZmRnihEDNzMzMTKCFQAAAAACAXoZAMzMzM7Mch0BmZmZm5tqHQJqZmZkZmYhAzczMzExXiUAAAAAAgBWKQDMzMzOz04pAZmZmZuaRi0CamZmZGVCMQM3MzMxMDo1AAAAAAIDMjUAzMzMzs4qOQGZmZmbmSI9A\",\"dtype\":\"float64\",\"shape\":[75]}},\"selected\":{\"id\":\"932d36f0-01cd-4d6b-a9af-669ef019e160\",\"type\":\"Selection\"},\"selection_policy\":{\"id\":\"0a6456b8-ab67-4b99-86d4-3a6367891907\",\"type\":\"UnionRenderers\"}},\"id\":\"187ae01a-42b4-47b9-a1d6-07cece15eb49\",\"type\":\"ColumnDataSource\"},{\"attributes\":{},\"id\":\"3d1d1ad5-94ad-4ee0-99ee-0ab5cfcca0fe\",\"type\":\"UnionRenderers\"},{\"attributes\":{\"line_color\":\"#4daf4a\",\"line_width\":1.5,\"x\":{\"field\":\"x\"},\"y\":{\"field\":\"y\"}},\"id\":\"6b14e584-7861-4fa4-9a62-451b98c6f7b0\",\"type\":\"Line\"},{\"attributes\":{},\"id\":\"4a6d28fe-607c-4ccb-8b5f-8ef7dd21e06e\",\"type\":\"Selection\"},{\"attributes\":{},\"id\":\"15667690-4616-484d-85c6-7d4a26a764c6\",\"type\":\"BasicTickFormatter\"},{\"attributes\":{},\"id\":\"3ead1b74-b0b6-499a-ae25-e020af148e49\",\"type\":\"UnionRenderers\"},{\"attributes\":{},\"id\":\"932d36f0-01cd-4d6b-a9af-669ef019e160\",\"type\":\"Selection\"},{\"attributes\":{},\"id\":\"580283fb-77de-4ebb-bddf-281865fb8fe9\",\"type\":\"Selection\"},{\"attributes\":{},\"id\":\"be791679-6c40-4375-bca4-920fe0572010\",\"type\":\"UnionRenderers\"},{\"attributes\":{},\"id\":\"0104dbae-8a60-4cb3-b4b5-24e41ac6d836\",\"type\":\"Selection\"},{\"attributes\":{},\"id\":\"0d388909-3d11-4955-8889-7a5af304a3ec\",\"type\":\"Selection\"},{\"attributes\":{},\"id\":\"16900d49-becc-4fac-9eb8-805d6e1c0b5c\",\"type\":\"UnionRenderers\"},{\"attributes\":{\"toolbar\":{\"id\":\"f343063b-7905-40f3-a56d-edec4b6dada0\",\"type\":\"ProxyToolbar\"},\"toolbar_location\":\"above\"},\"id\":\"0e0f4caa-0707-4469-9d01-9959f4df2691\",\"type\":\"ToolbarBox\"},{\"attributes\":{},\"id\":\"0a6456b8-ab67-4b99-86d4-3a6367891907\",\"type\":\"UnionRenderers\"},{\"attributes\":{\"source\":{\"id\":\"f11721ed-0d3f-486f-baea-f21585ff39d5\",\"type\":\"ColumnDataSource\"}},\"id\":\"77097283-0128-49d7-9193-073213d1d22c\",\"type\":\"CDSView\"},{\"attributes\":{},\"id\":\"bf07eb08-74e6-4d64-aeb9-3adfcc36f8f0\",\"type\":\"UnionRenderers\"},{\"attributes\":{\"children\":[{\"id\":\"0e0f4caa-0707-4469-9d01-9959f4df2691\",\"type\":\"ToolbarBox\"},{\"id\":\"e0b423b8-363e-4372-9a35-7d1f792966f6\",\"type\":\"Column\"}]},\"id\":\"153c1ad8-cb0d-4098-9b0b-e062a882f366\",\"type\":\"Column\"},{\"attributes\":{\"data_source\":{\"id\":\"f55d2d4d-ddbe-46bf-a375-38ca6b78f8a4\",\"type\":\"ColumnDataSource\"},\"glyph\":{\"id\":\"8b4c17ac-3da1-4809-926f-bfc24637cf9f\",\"type\":\"Square\"},\"hover_glyph\":null,\"muted_glyph\":null,\"nonselection_glyph\":{\"id\":\"82e8d8d2-cbfc-4b2e-bda3-74aa0f4a063d\",\"type\":\"Square\"},\"selection_glyph\":null,\"view\":{\"id\":\"f3f8d899-1276-4be9-8372-1cc6e88614d4\",\"type\":\"CDSView\"}},\"id\":\"3b9ca316-65ab-4afa-9b1e-c8d932e6a676\",\"type\":\"GlyphRenderer\"},{\"attributes\":{},\"id\":\"6fb48c67-d1cf-4daf-b6e9-95babe7602db\",\"type\":\"UnionRenderers\"},{\"attributes\":{\"tools\":[{\"id\":\"3062eb72-7a7b-4f95-a3be-38bb529ebda0\",\"type\":\"PanTool\"},{\"id\":\"f02d0d09-eea3-4018-9c02-d726d796bea8\",\"type\":\"WheelZoomTool\"},{\"id\":\"f8125516-42ce-45e8-bb16-4b9e29845836\",\"type\":\"BoxZoomTool\"},{\"id\":\"1fd9d3cb-5637-413b-b698-03ef13872c84\",\"type\":\"SaveTool\"},{\"id\":\"092568b1-f460-4aa9-86df-b49f25b9c49b\",\"type\":\"ResetTool\"},{\"id\":\"aebab729-b88d-4445-9ddd-3bcb7acb36ce\",\"type\":\"HelpTool\"},{\"id\":\"b880a66c-8c38-40e7-8873-61655b7af7b4\",\"type\":\"PanTool\"},{\"id\":\"4c734576-4a16-498e-ab1b-85408b84bf4c\",\"type\":\"WheelZoomTool\"},{\"id\":\"9439c7a5-b8c9-4c0a-bb1e-be9dcdd6e48d\",\"type\":\"BoxZoomTool\"},{\"id\":\"99e695c5-3ade-4193-b06d-d7ad76d4aab2\",\"type\":\"SaveTool\"},{\"id\":\"74634c9a-7c93-44c7-acca-49a09d177fcb\",\"type\":\"ResetTool\"},{\"id\":\"bf1bbf84-8445-4081-b07f-f531a35bc882\",\"type\":\"HelpTool\"}]},\"id\":\"f343063b-7905-40f3-a56d-edec4b6dada0\",\"type\":\"ProxyToolbar\"},{\"attributes\":{\"fill_alpha\":{\"value\":0.1},\"fill_color\":{\"value\":\"#1f77b4\"},\"line_alpha\":{\"value\":0.1},\"line_color\":{\"value\":\"#1f77b4\"},\"x\":{\"field\":\"x\"},\"y\":{\"field\":\"y\"}},\"id\":\"82e8d8d2-cbfc-4b2e-bda3-74aa0f4a063d\",\"type\":\"Square\"},{\"attributes\":{\"ticker\":null},\"id\":\"9654f7d4-65e1-4a0f-b46d-bd480f1a12ce\",\"type\":\"LogTickFormatter\"},{\"attributes\":{\"source\":{\"id\":\"b6666f0d-708e-4f0c-8d9c-98e3af978815\",\"type\":\"ColumnDataSource\"}},\"id\":\"b5de62b4-f184-417b-8c29-7f7f743fcaa4\",\"type\":\"CDSView\"},{\"attributes\":{\"line_alpha\":0.1,\"line_color\":\"#1f77b4\",\"line_width\":1.5,\"x\":{\"field\":\"x\"},\"y\":{\"field\":\"y\"}},\"id\":\"c999b7c5-dba8-4de0-bec4-45ef9403d66a\",\"type\":\"Line\"},{\"attributes\":{\"line_alpha\":0.6,\"line_color\":\"#984ea3\",\"line_width\":3,\"x\":{\"field\":\"x\"},\"y\":{\"field\":\"y\"}},\"id\":\"ed5d5402-70a9-4bd8-a5ea-dbe6853b69ad\",\"type\":\"Line\"},{\"attributes\":{\"line_alpha\":0.1,\"line_color\":\"#1f77b4\",\"line_width\":3,\"x\":{\"field\":\"x\"},\"y\":{\"field\":\"y\"}},\"id\":\"8b7b912f-995c-44ae-8da4-5d22da98f645\",\"type\":\"Line\"},{\"attributes\":{\"line_alpha\":0.1,\"line_color\":\"#1f77b4\",\"line_width\":2,\"x\":{\"field\":\"x\"},\"y\":{\"field\":\"y\"}},\"id\":\"f0dd8220-9e25-4ff8-a028-5b17e18f2238\",\"type\":\"Line\"},{\"attributes\":{\"source\":{\"id\":\"f55d2d4d-ddbe-46bf-a375-38ca6b78f8a4\",\"type\":\"ColumnDataSource\"}},\"id\":\"f3f8d899-1276-4be9-8372-1cc6e88614d4\",\"type\":\"CDSView\"},{\"attributes\":{\"source\":{\"id\":\"187ae01a-42b4-47b9-a1d6-07cece15eb49\",\"type\":\"ColumnDataSource\"}},\"id\":\"dd1e3728-edf5-4461-8627-3c2234a21988\",\"type\":\"CDSView\"},{\"attributes\":{\"callback\":null,\"data\":{\"x\":{\"__ndarray__\":\"vBQ9QXlXor8QDV0Z7Deiv8d+8IPu8KG/XVj/M7+kob/SeQ7et1ehv7eaWXHIC6G/aUhH/+zDoL9AJT/GAn2gv47hIfSCO6C//o40+sn/n78CFjOhzZqfv4l3CRmLUJ+/vwB+ahUtn7815YluXTSfv0f3nIkj7p2/H+vDKVxXmL/boIx3m8WMvzj8M6GXOmG/8H8I8GTXiD/eZ8IaWqmdPzUPHnWN+ag/1YGaxJp2sj/Qch0Gmp+3P8xWjCornLY/jL5XtAZdsD/68xQJC8akPzK/fK2p/pc/EYOGHxgXiT+2vPHzOPN3PzrLnXJ0cGM/h3uuPyjDMj9gsUHqDdhOv/VeAS/oAlS/f23MTUW6UL8ycXa5/GJNv9L+KPFaCEy/rH8UFAauSb+3llZraEVIv+zeqsNV7Uq/FcDDU03WTr/nYQZ3VKNOv4X0C0QqyUq/Y+LxoOy/R7/JpM1Uq59Fv0dsGVwn5UO/WUdrFVtVQr9umLyPENZAv208E74stT6/KhnA1zC8O79X/cJGpcI4v8j07DSt3DW/3+CjOvsfM799e35zrpQwvwllXzCkWiy/ufE7xeKiJ78BPpSEqdkivyabfMvQzxu/pc06FfR8Eb+T1FfofZ36vvyvaKTt/PI+3NefFZHLED8MLpAgPpUdP3QfnJ6PmSU/xUunUjjaLD/Qbp+fqkUyPysFOgPjRjY/cWAslLVAOj87AL6mP9s9PxkzoSXPY0A/zzYt65SEQT8TThaW4HtCP+Bo5J2ge0M/dOJVi82kRD9zrXhs3wxGP9PWYx1LzEc/\",\"dtype\":\"float64\",\"shape\":[75]},\"y\":{\"__ndarray__\":\"GhExyth1ND/Sv8nbtpRIP2vylNV0PVE/aTum7souWD/At0SJ8fVgPw3Iuahxymc/MSNhhJWvcD/bTfBN02d3P2zb5nxnaoA/CD5h5MAGhz8NmeH1TyaQP+zrCsc9p5Y/LbKd76fGnz/bLW5ISEmmPww9YvTcQq8/JV2OstnstT8Er5Y7M8G+P0c+r3jqkcU/5h99k6ZBzj88bCIzFzjVP4enV8oyxN0//yH99nXg5D8qOpLLf0jtP5kqGJXUifQ/c9cS8kHP/D+/DpwzojQEQIEmwoanVwxA4lgXt9HgE0BSSZ2AJuIbQAMJih9jjiNA5q4l5INuK0AwTKYKRj0zQNv5fmq8/DpAaCJseHrtQkB/+zpwzoxKQM3MzMzMeFJAZmZmZmZqWEAAAAAAAFxeQM3MzMzMJmJAmpmZmZkfZUBmZmZmZhhoQDMzMzMzEWtAAAAAAAAKbkBmZmZmZoFwQM3MzMzM/XFAMzMzMzN6c0CamZmZmfZ0QAAAAAAAc3ZAZmZmZmbvd0DNzMzMzGt5QDMzMzMz6HpAmpmZmZlkfEAAAAAAAOF9QGZmZmZmXX9AZmZmZuZsgECamZmZGSuBQM3MzMxM6YFAAAAAAICngkAzMzMzs2WDQGZmZmbmI4RAmpmZmRnihEDNzMzMTKCFQAAAAACAXoZAMzMzM7Mch0BmZmZm5tqHQJqZmZkZmYhAzczMzExXiUAAAAAAgBWKQDMzMzOz04pAZmZmZuaRi0CamZmZGVCMQM3MzMxMDo1AAAAAAIDMjUAzMzMzs4qOQGZmZmbmSI9A\",\"dtype\":\"float64\",\"shape\":[75]}},\"selected\":{\"id\":\"4a6d28fe-607c-4ccb-8b5f-8ef7dd21e06e\",\"type\":\"Selection\"},\"selection_policy\":{\"id\":\"be791679-6c40-4375-bca4-920fe0572010\",\"type\":\"UnionRenderers\"}},\"id\":\"b6666f0d-708e-4f0c-8d9c-98e3af978815\",\"type\":\"ColumnDataSource\"},{\"attributes\":{\"data_source\":{\"id\":\"b6666f0d-708e-4f0c-8d9c-98e3af978815\",\"type\":\"ColumnDataSource\"},\"glyph\":{\"id\":\"6b14e584-7861-4fa4-9a62-451b98c6f7b0\",\"type\":\"Line\"},\"hover_glyph\":null,\"muted_glyph\":null,\"nonselection_glyph\":{\"id\":\"c999b7c5-dba8-4de0-bec4-45ef9403d66a\",\"type\":\"Line\"},\"selection_glyph\":null,\"view\":{\"id\":\"b5de62b4-f184-417b-8c29-7f7f743fcaa4\",\"type\":\"CDSView\"}},\"id\":\"08738408-95e5-4094-ab41-9e5807cfb100\",\"type\":\"GlyphRenderer\"},{\"attributes\":{\"data_source\":{\"id\":\"187ae01a-42b4-47b9-a1d6-07cece15eb49\",\"type\":\"ColumnDataSource\"},\"glyph\":{\"id\":\"ed5d5402-70a9-4bd8-a5ea-dbe6853b69ad\",\"type\":\"Line\"},\"hover_glyph\":null,\"muted_glyph\":null,\"nonselection_glyph\":{\"id\":\"8b7b912f-995c-44ae-8da4-5d22da98f645\",\"type\":\"Line\"},\"selection_glyph\":null,\"view\":{\"id\":\"dd1e3728-edf5-4461-8627-3c2234a21988\",\"type\":\"CDSView\"}},\"id\":\"30216d40-215e-4b4f-85fe-30fee64f145c\",\"type\":\"GlyphRenderer\"},{\"attributes\":{\"callback\":null,\"data\":{\"x\":{\"__ndarray__\":\"hegxRvuKh79AP9qfjj6Hvy9epRtemYa/QkLJITjnhb8jKM3SjTGFv9aZebWOeIS/NfT8lUi8g7+tFIJd1PyCv1V/MKtROoK/kQu6/Ah1gb/LM2IvY62Av1lxJ6Kxx3+/TDcIeCsyfr97c6i9CYB8v20a7nMiIHe/bqyj5SJwW7+UwlYub+V0P22wuWid+Is//tb9TIXEmD/pwyKicvWiP1/ZMAPI4qo/PjPcDnonsj9oj1nus2e2PyT/yWivgbY/7D3UN+Kpsj/lcG6SbYCsPw8Yd8WEf6Q/CgRa6ruDmz/nvVqDMQGRP/J1qzyAi4I/hXkFHcqbbj+zgDvq4fc9P22qXXhGIEy/jKRsuKDjUL9xEobmGqRQvyomZcUGSFG/+kde2zSdUb/iOGGbfI5Sv5L4jVVgRlW/p1VaIZHfV78vR5mabpxXv9/KyTRwAVW/oENpgx2MUr8mMcy2SJtQv3KXJ0IlBU6/dV8gTrVBS79Ww+Mb5sJIv+t1L5mhb0a/uiv84uM5RL8IaWWP5htCvxYVZOSsG0C/RR0JMZV/PL8rRI4MtQ85v+2aHKwf0jW/vlRT5iunMr9VwdVYaOcuv1uyJZRaTCi/NDbjOgxnIb/teunyClMUv9V/69+MVfS+ChSkcRv4BT+d2e4tVu8bPyUW0E1n5iY/hGwJ3vsjMD8IiH7d8gU1P0dXAVEpATo/iPkDAyrdPj/T8wyGPp9BPyZkLELNakM/ybhPq/HRRD+aKmQ5p/5FP7+WjZmSIEc/+YXn+9dVSD9pXyKX2qxJPzrahDmSK0s/\",\"dtype\":\"float64\",\"shape\":[75]},\"y\":{\"__ndarray__\":\"GhExyth1ND/Sv8nbtpRIP2vylNV0PVE/aTum7souWD/At0SJ8fVgPw3Iuahxymc/MSNhhJWvcD/bTfBN02d3P2zb5nxnaoA/CD5h5MAGhz8NmeH1TyaQP+zrCsc9p5Y/LbKd76fGnz/bLW5ISEmmPww9YvTcQq8/JV2OstnstT8Er5Y7M8G+P0c+r3jqkcU/5h99k6ZBzj88bCIzFzjVP4enV8oyxN0//yH99nXg5D8qOpLLf0jtP5kqGJXUifQ/c9cS8kHP/D+/DpwzojQEQIEmwoanVwxA4lgXt9HgE0BSSZ2AJuIbQAMJih9jjiNA5q4l5INuK0AwTKYKRj0zQNv5fmq8/DpAaCJseHrtQkB/+zpwzoxKQM3MzMzMeFJAZmZmZmZqWEAAAAAAAFxeQM3MzMzMJmJAmpmZmZkfZUBmZmZmZhhoQDMzMzMzEWtAAAAAAAAKbkBmZmZmZoFwQM3MzMzM/XFAMzMzMzN6c0CamZmZmfZ0QAAAAAAAc3ZAZmZmZmbvd0DNzMzMzGt5QDMzMzMz6HpAmpmZmZlkfEAAAAAAAOF9QGZmZmZmXX9AZmZmZuZsgECamZmZGSuBQM3MzMxM6YFAAAAAAICngkAzMzMzs2WDQGZmZmbmI4RAmpmZmRnihEDNzMzMTKCFQAAAAACAXoZAMzMzM7Mch0BmZmZm5tqHQJqZmZkZmYhAzczMzExXiUAAAAAAgBWKQDMzMzOz04pAZmZmZuaRi0CamZmZGVCMQM3MzMxMDo1AAAAAAIDMjUAzMzMzs4qOQGZmZmbmSI9A\",\"dtype\":\"float64\",\"shape\":[75]}},\"selected\":{\"id\":\"0104dbae-8a60-4cb3-b4b5-24e41ac6d836\",\"type\":\"Selection\"},\"selection_policy\":{\"id\":\"bf07eb08-74e6-4d64-aeb9-3adfcc36f8f0\",\"type\":\"UnionRenderers\"}},\"id\":\"0ce0d760-41c9-4099-9bc9-1e283cd042ce\",\"type\":\"ColumnDataSource\"},{\"attributes\":{\"fill_alpha\":{\"value\":0.7},\"fill_color\":{\"value\":\"#377eb8\"},\"line_alpha\":{\"value\":0.7},\"line_color\":{\"value\":\"#377eb8\"},\"x\":{\"field\":\"x\"},\"y\":{\"field\":\"y\"}},\"id\":\"205c8f3b-ba37-4b57-bd1f-61a8226ce787\",\"type\":\"Triangle\"},{\"attributes\":{\"callback\":null,\"data\":{\"x\":{\"__ndarray__\":\"hegxRvuKh79AP9qfjj6Hvy9epRtemYa/QkLJITjnhb8jKM3SjTGFv9aZebWOeIS/NfT8lUi8g7+tFIJd1PyCv1V/MKtROoK/kQu6/Ah1gb/LM2IvY62Av1lxJ6Kxx3+/TDcIeCsyfr97c6i9CYB8v20a7nMiIHe/bqyj5SJwW7+UwlYub+V0P22wuWid+Is//tb9TIXEmD/pwyKicvWiP1/ZMAPI4qo/PjPcDnonsj9oj1nus2e2PyT/yWivgbY/7D3UN+Kpsj/lcG6SbYCsPw8Yd8WEf6Q/CgRa6ruDmz/nvVqDMQGRP/J1qzyAi4I/hXkFHcqbbj+zgDvq4fc9P22qXXhGIEy/jKRsuKDjUL9xEobmGqRQvyomZcUGSFG/+kde2zSdUb/iOGGbfI5Sv5L4jVVgRlW/p1VaIZHfV78vR5mabpxXv9/KyTRwAVW/oENpgx2MUr8mMcy2SJtQv3KXJ0IlBU6/dV8gTrVBS79Ww+Mb5sJIv+t1L5mhb0a/uiv84uM5RL8IaWWP5htCvxYVZOSsG0C/RR0JMZV/PL8rRI4MtQ85v+2aHKwf0jW/vlRT5iunMr9VwdVYaOcuv1uyJZRaTCi/NDbjOgxnIb/teunyClMUv9V/69+MVfS+ChSkcRv4BT+d2e4tVu8bPyUW0E1n5iY/hGwJ3vsjMD8IiH7d8gU1P0dXAVEpATo/iPkDAyrdPj/T8wyGPp9BPyZkLELNakM/ybhPq/HRRD+aKmQ5p/5FP7+WjZmSIEc/+YXn+9dVSD9pXyKX2qxJPzrahDmSK0s/\",\"dtype\":\"float64\",\"shape\":[75]},\"y\":{\"__ndarray__\":\"GhExyth1ND/Sv8nbtpRIP2vylNV0PVE/aTum7souWD/At0SJ8fVgPw3Iuahxymc/MSNhhJWvcD/bTfBN02d3P2zb5nxnaoA/CD5h5MAGhz8NmeH1TyaQP+zrCsc9p5Y/LbKd76fGnz/bLW5ISEmmPww9YvTcQq8/JV2OstnstT8Er5Y7M8G+P0c+r3jqkcU/5h99k6ZBzj88bCIzFzjVP4enV8oyxN0//yH99nXg5D8qOpLLf0jtP5kqGJXUifQ/c9cS8kHP/D+/DpwzojQEQIEmwoanVwxA4lgXt9HgE0BSSZ2AJuIbQAMJih9jjiNA5q4l5INuK0AwTKYKRj0zQNv5fmq8/DpAaCJseHrtQkB/+zpwzoxKQM3MzMzMeFJAZmZmZmZqWEAAAAAAAFxeQM3MzMzMJmJAmpmZmZkfZUBmZmZmZhhoQDMzMzMzEWtAAAAAAAAKbkBmZmZmZoFwQM3MzMzM/XFAMzMzMzN6c0CamZmZmfZ0QAAAAAAAc3ZAZmZmZmbvd0DNzMzMzGt5QDMzMzMz6HpAmpmZmZlkfEAAAAAAAOF9QGZmZmZmXX9AZmZmZuZsgECamZmZGSuBQM3MzMxM6YFAAAAAAICngkAzMzMzs2WDQGZmZmbmI4RAmpmZmRnihEDNzMzMTKCFQAAAAACAXoZAMzMzM7Mch0BmZmZm5tqHQJqZmZkZmYhAzczMzExXiUAAAAAAgBWKQDMzMzOz04pAZmZmZuaRi0CamZmZGVCMQM3MzMxMDo1AAAAAAIDMjUAzMzMzs4qOQGZmZmbmSI9A\",\"dtype\":\"float64\",\"shape\":[75]}},\"selected\":{\"id\":\"0d388909-3d11-4955-8889-7a5af304a3ec\",\"type\":\"Selection\"},\"selection_policy\":{\"id\":\"6fb48c67-d1cf-4daf-b6e9-95babe7602db\",\"type\":\"UnionRenderers\"}},\"id\":\"a4f3eb8f-a714-4429-95ff-251fef8f8b93\",\"type\":\"ColumnDataSource\"},{\"attributes\":{\"source\":{\"id\":\"0ce0d760-41c9-4099-9bc9-1e283cd042ce\",\"type\":\"ColumnDataSource\"}},\"id\":\"199e5358-32f4-499d-80ce-e944dc655aa3\",\"type\":\"CDSView\"},{\"attributes\":{\"fill_alpha\":{\"value\":0.7},\"fill_color\":{\"value\":\"#984ea3\"},\"line_alpha\":{\"value\":0.7},\"line_color\":{\"value\":\"#984ea3\"},\"x\":{\"field\":\"x\"},\"y\":{\"field\":\"y\"}},\"id\":\"8b4c17ac-3da1-4809-926f-bfc24637cf9f\",\"type\":\"Square\"},{\"attributes\":{\"fill_alpha\":{\"value\":0.1},\"fill_color\":{\"value\":\"#1f77b4\"},\"line_alpha\":{\"value\":0.1},\"line_color\":{\"value\":\"#1f77b4\"},\"x\":{\"field\":\"x\"},\"y\":{\"field\":\"y\"}},\"id\":\"c8ffc436-48c0-4b30-ad1c-3afb40c1b9a1\",\"type\":\"Triangle\"},{\"attributes\":{\"line_alpha\":0.3,\"line_color\":\"#377eb8\",\"line_width\":2,\"x\":{\"field\":\"x\"},\"y\":{\"field\":\"y\"}},\"id\":\"7edcbecb-9bfb-49d4-8434-f7ac257845d3\",\"type\":\"Line\"},{\"attributes\":{\"callback\":null,\"end\":0.09351436073000001,\"start\":-0.03248447773},\"id\":\"c2202a31-af4b-4292-a333-c573faa97d15\",\"type\":\"Range1d\"},{\"attributes\":{\"data_source\":{\"id\":\"0ce0d760-41c9-4099-9bc9-1e283cd042ce\",\"type\":\"ColumnDataSource\"},\"glyph\":{\"id\":\"205c8f3b-ba37-4b57-bd1f-61a8226ce787\",\"type\":\"Triangle\"},\"hover_glyph\":null,\"muted_glyph\":null,\"nonselection_glyph\":{\"id\":\"c8ffc436-48c0-4b30-ad1c-3afb40c1b9a1\",\"type\":\"Triangle\"},\"selection_glyph\":null,\"view\":{\"id\":\"199e5358-32f4-499d-80ce-e944dc655aa3\",\"type\":\"CDSView\"}},\"id\":\"1221bcea-2d38-42d6-ba33-dfade2b715db\",\"type\":\"GlyphRenderer\"},{\"attributes\":{\"data_source\":{\"id\":\"a4f3eb8f-a714-4429-95ff-251fef8f8b93\",\"type\":\"ColumnDataSource\"},\"glyph\":{\"id\":\"7edcbecb-9bfb-49d4-8434-f7ac257845d3\",\"type\":\"Line\"},\"hover_glyph\":null,\"muted_glyph\":null,\"nonselection_glyph\":{\"id\":\"f0dd8220-9e25-4ff8-a028-5b17e18f2238\",\"type\":\"Line\"},\"selection_glyph\":null,\"view\":{\"id\":\"64ec2a13-4a5e-47f9-a0f7-91aae94c3f00\",\"type\":\"CDSView\"}},\"id\":\"4f8d0a54-c7f6-4fea-b1fb-87e11c055240\",\"type\":\"GlyphRenderer\"},{\"attributes\":{\"source\":{\"id\":\"a4f3eb8f-a714-4429-95ff-251fef8f8b93\",\"type\":\"ColumnDataSource\"}},\"id\":\"64ec2a13-4a5e-47f9-a0f7-91aae94c3f00\",\"type\":\"CDSView\"},{\"attributes\":{\"dimension\":1,\"plot\":{\"id\":\"17b869ad-e64c-494e-b087-7812be3d8b98\",\"subtype\":\"Figure\",\"type\":\"Plot\"},\"ticker\":{\"id\":\"9a9b3223-1db8-4cec-b658-c10c965ca5ac\",\"type\":\"BasicTicker\"}},\"id\":\"06aa5c09-b2fe-4496-83a5-2e62884fbc62\",\"type\":\"Grid\"},{\"attributes\":{\"plot\":{\"id\":\"17b869ad-e64c-494e-b087-7812be3d8b98\",\"subtype\":\"Figure\",\"type\":\"Plot\"},\"ticker\":{\"id\":\"d26056f8-182c-46bd-ace4-141b593602d1\",\"type\":\"BasicTicker\"}},\"id\":\"d4a71a9c-5962-46c1-9e06-47fd696306ce\",\"type\":\"Grid\"},{\"attributes\":{\"axis_label\":\"pressure [mb]\",\"formatter\":{\"id\":\"a74d4ea8-014b-4963-8c08-c0fc0a26018b\",\"type\":\"BasicTickFormatter\"},\"plot\":{\"id\":\"17b869ad-e64c-494e-b087-7812be3d8b98\",\"subtype\":\"Figure\",\"type\":\"Plot\"},\"ticker\":{\"id\":\"9a9b3223-1db8-4cec-b658-c10c965ca5ac\",\"type\":\"BasicTicker\"}},\"id\":\"132dabf0-1702-4402-ae33-695733acac63\",\"type\":\"LinearAxis\"},{\"attributes\":{},\"id\":\"9a9b3223-1db8-4cec-b658-c10c965ca5ac\",\"type\":\"BasicTicker\"},{\"attributes\":{},\"id\":\"d26056f8-182c-46bd-ace4-141b593602d1\",\"type\":\"BasicTicker\"},{\"attributes\":{},\"id\":\"c901426f-5634-4464-853f-df7302be40ed\",\"type\":\"LinearScale\"},{\"attributes\":{\"axis_label\":\"cooling rate [K/day]\",\"formatter\":{\"id\":\"724b37ee-703e-4eea-aea6-5e53cba4a09e\",\"type\":\"BasicTickFormatter\"},\"plot\":{\"id\":\"17b869ad-e64c-494e-b087-7812be3d8b98\",\"subtype\":\"Figure\",\"type\":\"Plot\"},\"ticker\":{\"id\":\"d26056f8-182c-46bd-ace4-141b593602d1\",\"type\":\"BasicTicker\"}},\"id\":\"34264271-319d-4c60-aae2-d9db7e81f731\",\"type\":\"LinearAxis\"},{\"attributes\":{\"source\":{\"id\":\"f29017c6-2039-49d7-a46f-53b62f647a88\",\"type\":\"ColumnDataSource\"}},\"id\":\"8ec1b724-d6d5-4e11-b255-47944fb3fa5e\",\"type\":\"CDSView\"},{\"attributes\":{\"callback\":null,\"end\":0.000852506133,\"start\":-0.0015279120329999998},\"id\":\"e32b72d7-c5b8-4a8e-99e8-3a5a73bcdf84\",\"type\":\"Range1d\"},{\"attributes\":{},\"id\":\"c229adbc-bf21-47e0-b304-4be8e31726e7\",\"type\":\"LinearScale\"},{\"attributes\":{\"above\":[{\"id\":\"0a773533-3f8c-45c1-8622-b1aaee302a8f\",\"type\":\"Legend\"}],\"below\":[{\"id\":\"34264271-319d-4c60-aae2-d9db7e81f731\",\"type\":\"LinearAxis\"}],\"left\":[{\"id\":\"132dabf0-1702-4402-ae33-695733acac63\",\"type\":\"LinearAxis\"}],\"plot_height\":500,\"plot_width\":400,\"renderers\":[{\"id\":\"34264271-319d-4c60-aae2-d9db7e81f731\",\"type\":\"LinearAxis\"},{\"id\":\"d4a71a9c-5962-46c1-9e06-47fd696306ce\",\"type\":\"Grid\"},{\"id\":\"132dabf0-1702-4402-ae33-695733acac63\",\"type\":\"LinearAxis\"},{\"id\":\"06aa5c09-b2fe-4496-83a5-2e62884fbc62\",\"type\":\"Grid\"},{\"id\":\"9e052b3e-125a-4ba2-9d82-b3af1f3cf13a\",\"type\":\"BoxAnnotation\"},{\"id\":\"eeec3039-de48-4f50-8bcf-95c717c06c58\",\"type\":\"GlyphRenderer\"},{\"id\":\"382490bf-5267-43b8-9455-baecc7b85477\",\"type\":\"GlyphRenderer\"},{\"id\":\"9996ad55-4270-4a8d-99da-a6c61b9cc59b\",\"type\":\"GlyphRenderer\"},{\"id\":\"05bb2170-ab73-46e1-b563-d5ee9d089999\",\"type\":\"GlyphRenderer\"},{\"id\":\"115f84b9-b168-450e-a0a8-768676e81829\",\"type\":\"GlyphRenderer\"},{\"id\":\"6d73553e-3731-49be-98c7-e5e3e3bafdaf\",\"type\":\"GlyphRenderer\"},{\"id\":\"0a773533-3f8c-45c1-8622-b1aaee302a8f\",\"type\":\"Legend\"}],\"title\":{\"id\":\"6bf41c32-167b-409d-bacd-79bb9fb4d2da\",\"type\":\"Title\"},\"toolbar\":{\"id\":\"b9fcd0b8-ff20-4d30-ba4a-bde692864dce\",\"type\":\"Toolbar\"},\"toolbar_location\":null,\"x_range\":{\"id\":\"e32b72d7-c5b8-4a8e-99e8-3a5a73bcdf84\",\"type\":\"Range1d\"},\"x_scale\":{\"id\":\"c229adbc-bf21-47e0-b304-4be8e31726e7\",\"type\":\"LinearScale\"},\"y_range\":{\"id\":\"b511701e-59ef-411f-99e9-00180141e1ea\",\"type\":\"Range1d\"},\"y_scale\":{\"id\":\"c901426f-5634-4464-853f-df7302be40ed\",\"type\":\"LinearScale\"}},\"id\":\"17b869ad-e64c-494e-b087-7812be3d8b98\",\"subtype\":\"Figure\",\"type\":\"Plot\"},{\"attributes\":{\"above\":[{\"id\":\"8eeff8ae-6217-4f98-a2f1-aaeee8e93159\",\"type\":\"Legend\"}],\"below\":[{\"id\":\"17af14bb-4c2f-4e3c-b1ed-b970bb205890\",\"type\":\"LinearAxis\"}],\"left\":[{\"id\":\"6127ad9f-5e29-43f1-9fce-e662caf9b33c\",\"type\":\"LogAxis\"}],\"plot_height\":500,\"plot_width\":400,\"renderers\":[{\"id\":\"17af14bb-4c2f-4e3c-b1ed-b970bb205890\",\"type\":\"LinearAxis\"},{\"id\":\"e6d62bac-6a22-4d7c-b35f-56cfcc456079\",\"type\":\"Grid\"},{\"id\":\"6127ad9f-5e29-43f1-9fce-e662caf9b33c\",\"type\":\"LogAxis\"},{\"id\":\"df10b811-8405-4369-a168-305dd9ef0985\",\"type\":\"Grid\"},{\"id\":\"157aa40d-f0d5-48f3-a4bf-1bc447f11a5f\",\"type\":\"BoxAnnotation\"},{\"id\":\"10c7ac52-3721-48cc-9687-d5b8e0ce0984\",\"type\":\"GlyphRenderer\"},{\"id\":\"08738408-95e5-4094-ab41-9e5807cfb100\",\"type\":\"GlyphRenderer\"},{\"id\":\"3b9ca316-65ab-4afa-9b1e-c8d932e6a676\",\"type\":\"GlyphRenderer\"},{\"id\":\"30216d40-215e-4b4f-85fe-30fee64f145c\",\"type\":\"GlyphRenderer\"},{\"id\":\"1221bcea-2d38-42d6-ba33-dfade2b715db\",\"type\":\"GlyphRenderer\"},{\"id\":\"4f8d0a54-c7f6-4fea-b1fb-87e11c055240\",\"type\":\"GlyphRenderer\"},{\"id\":\"8eeff8ae-6217-4f98-a2f1-aaeee8e93159\",\"type\":\"Legend\"}],\"title\":{\"id\":\"4e907697-f4e3-4279-9f81-fd998a75d4df\",\"type\":\"Title\"},\"toolbar\":{\"id\":\"9505a0aa-1399-4515-9f12-24f24b613309\",\"type\":\"Toolbar\"},\"toolbar_location\":null,\"x_range\":{\"id\":\"c2202a31-af4b-4292-a333-c573faa97d15\",\"type\":\"Range1d\"},\"x_scale\":{\"id\":\"1c1e6b6c-d5e8-44c5-a0f3-35ae934aaaa2\",\"type\":\"LinearScale\"},\"y_range\":{\"id\":\"401ab600-aa1f-4d3a-bb2e-1655ed841a57\",\"type\":\"Range1d\"},\"y_scale\":{\"id\":\"8969783f-b693-44b0-a9fb-0185803149f6\",\"type\":\"LogScale\"}},\"id\":\"104b858f-673f-4d95-bac5-f9eccf6a81cd\",\"subtype\":\"Figure\",\"type\":\"Plot\"},{\"attributes\":{\"active_drag\":\"auto\",\"active_inspect\":\"auto\",\"active_scroll\":\"auto\",\"active_tap\":\"auto\",\"tools\":[{\"id\":\"3062eb72-7a7b-4f95-a3be-38bb529ebda0\",\"type\":\"PanTool\"},{\"id\":\"f02d0d09-eea3-4018-9c02-d726d796bea8\",\"type\":\"WheelZoomTool\"},{\"id\":\"f8125516-42ce-45e8-bb16-4b9e29845836\",\"type\":\"BoxZoomTool\"},{\"id\":\"1fd9d3cb-5637-413b-b698-03ef13872c84\",\"type\":\"SaveTool\"},{\"id\":\"092568b1-f460-4aa9-86df-b49f25b9c49b\",\"type\":\"ResetTool\"},{\"id\":\"aebab729-b88d-4445-9ddd-3bcb7acb36ce\",\"type\":\"HelpTool\"}]},\"id\":\"b9fcd0b8-ff20-4d30-ba4a-bde692864dce\",\"type\":\"Toolbar\"},{\"attributes\":{\"callback\":null,\"data\":{\"x\":{\"__ndarray__\":\"N//fc4gBkL+IykfRUa6Pv7A5b7L5946/aZg6xTMzjr/+FgcRVWqNv2O1LHF6nYy/Ia9dk5vMi79bO0xZWACLv1hk+nnhO4q/yH9OL5t6ib848JjxHraIv5XvrOyhzoe/YBJpRv/+hr+0Iyt4NzqGv78BTGp/n4O/RNbC/+nMdb8fkWmH3KBfPw/1n1sGoYY/VeRP1bbBlj+eWS711VCiP60AhrWWoao/jf3ZTfg+sj/9e0mT7aS2Pz+7iF5ihrY/gyWTXa02sj/j2PkFW++qP2KwtdPjsqI/vacFPiU4mD/k0W9aThSNP80zpLn2Rn8/msCxBu/0aT9U+fPLSOE6PzpYEcvsR0i/MyDKcZH9T7/TsousMJJRv+hK1rqzQ1O/I13sbPrCU78+d1nHxVVUv8VlOWo8gVa/c5zjrKSmWL8+HzH3WiJYv1WYdNw0a1W/T0HRx7vtUr8f4dbKNPRQv9dF2XRnmk6/X8URGeSxS78Pd3sMzQlJv6TFC9MhjEa/J7DsINIsRL9dUbzoBOdBvx2ndVnngj+/3+AkY9yGO7+NgnQFq9o3v/FCTmmKajS/2f35S68YMb8L2kfocpcrv6DtiyJo5yS/mYo+vg8aHL+Wa9QvfO0Lv4hWabxxxsU+dtHjOVPPDz8dCTXKZ8kfP/4AgOUyMig/94XPmelvMD/6L3cEv/I0Pw6SQXRGjjk/LXpkq2kOPj8NDVhnqgxBP+P+BJrJr0I/EBPS7wLyQz9HtgLKVf9EP77xEIC1CUY/7TJ3YN8xRz+GANHDE4tIP2J8Z9RqJ0o/\",\"dtype\":\"float64\",\"shape\":[75]},\"y\":{\"__ndarray__\":\"GhExyth1ND/Sv8nbtpRIP2vylNV0PVE/aTum7souWD/At0SJ8fVgPw3Iuahxymc/MSNhhJWvcD/bTfBN02d3P2zb5nxnaoA/CD5h5MAGhz8NmeH1TyaQP+zrCsc9p5Y/LbKd76fGnz/bLW5ISEmmPww9YvTcQq8/JV2OstnstT8Er5Y7M8G+P0c+r3jqkcU/5h99k6ZBzj88bCIzFzjVP4enV8oyxN0//yH99nXg5D8qOpLLf0jtP5kqGJXUifQ/c9cS8kHP/D+/DpwzojQEQIEmwoanVwxA4lgXt9HgE0BSSZ2AJuIbQAMJih9jjiNA5q4l5INuK0AwTKYKRj0zQNv5fmq8/DpAaCJseHrtQkB/+zpwzoxKQM3MzMzMeFJAZmZmZmZqWEAAAAAAAFxeQM3MzMzMJmJAmpmZmZkfZUBmZmZmZhhoQDMzMzMzEWtAAAAAAAAKbkBmZmZmZoFwQM3MzMzM/XFAMzMzMzN6c0CamZmZmfZ0QAAAAAAAc3ZAZmZmZmbvd0DNzMzMzGt5QDMzMzMz6HpAmpmZmZlkfEAAAAAAAOF9QGZmZmZmXX9AZmZmZuZsgECamZmZGSuBQM3MzMxM6YFAAAAAAICngkAzMzMzs2WDQGZmZmbmI4RAmpmZmRnihEDNzMzMTKCFQAAAAACAXoZAMzMzM7Mch0BmZmZm5tqHQJqZmZkZmYhAzczMzExXiUAAAAAAgBWKQDMzMzOz04pAZmZmZuaRi0CamZmZGVCMQM3MzMxMDo1AAAAAAIDMjUAzMzMzs4qOQGZmZmbmSI9A\",\"dtype\":\"float64\",\"shape\":[75]}},\"selected\":{\"id\":\"10d833f8-aaf4-4c66-98f1-77ac164dbe5a\",\"type\":\"Selection\"},\"selection_policy\":{\"id\":\"dc192475-e6e5-46e4-89fc-1bcea26df49c\",\"type\":\"UnionRenderers\"}},\"id\":\"4ffb7888-8161-4df3-b23c-967f6b5d7f8c\",\"type\":\"ColumnDataSource\"},{\"attributes\":{\"items\":[{\"id\":\"4e1d3e08-7c6d-49a4-81d5-4bebec2ba695\",\"type\":\"LegendItem\"},{\"id\":\"cb1f5a2b-2d3c-4545-943b-c37da772cdd3\",\"type\":\"LegendItem\"},{\"id\":\"f38b4de5-a3b5-4351-ab3a-b4bc685bc9ee\",\"type\":\"LegendItem\"}],\"label_text_font_size\":{\"value\":\"8pt\"},\"location\":\"top_center\",\"orientation\":\"horizontal\",\"plot\":{\"id\":\"17b869ad-e64c-494e-b087-7812be3d8b98\",\"subtype\":\"Figure\",\"type\":\"Plot\"}},\"id\":\"0a773533-3f8c-45c1-8622-b1aaee302a8f\",\"type\":\"Legend\"},{\"attributes\":{\"fill_alpha\":{\"value\":0.1},\"fill_color\":{\"value\":\"#1f77b4\"},\"line_alpha\":{\"value\":0.1},\"line_color\":{\"value\":\"#1f77b4\"},\"x\":{\"field\":\"x\"},\"y\":{\"field\":\"y\"}},\"id\":\"e7774548-a728-4811-91ca-24126d23c96d\",\"type\":\"Square\"},{\"attributes\":{\"fill_alpha\":{\"value\":0.7},\"fill_color\":{\"value\":\"#984ea3\"},\"line_alpha\":{\"value\":0.7},\"line_color\":{\"value\":\"#984ea3\"},\"x\":{\"field\":\"x\"},\"y\":{\"field\":\"y\"}},\"id\":\"7b4c53a6-1cd2-4a2d-9a7e-4981c39fb25a\",\"type\":\"Square\"},{\"attributes\":{\"source\":{\"id\":\"2c0cbee7-28af-40b3-9737-b9d33fad6a4f\",\"type\":\"ColumnDataSource\"}},\"id\":\"db17e28f-5dbe-4e15-bbc2-d24474af92fc\",\"type\":\"CDSView\"},{\"attributes\":{\"data_source\":{\"id\":\"2c0cbee7-28af-40b3-9737-b9d33fad6a4f\",\"type\":\"ColumnDataSource\"},\"glyph\":{\"id\":\"a7bb0bae-ec50-4021-9655-636cb58d0a2f\",\"type\":\"Triangle\"},\"hover_glyph\":null,\"muted_glyph\":null,\"nonselection_glyph\":{\"id\":\"0b455718-da15-4e45-96ee-a71b6234770d\",\"type\":\"Triangle\"},\"selection_glyph\":null,\"view\":{\"id\":\"db17e28f-5dbe-4e15-bbc2-d24474af92fc\",\"type\":\"CDSView\"}},\"id\":\"115f84b9-b168-450e-a0a8-768676e81829\",\"type\":\"GlyphRenderer\"},{\"attributes\":{\"line_alpha\":0.3,\"line_color\":\"#377eb8\",\"line_width\":2,\"x\":{\"field\":\"x\"},\"y\":{\"field\":\"y\"}},\"id\":\"2ad6012d-50f9-47ab-b944-49f0ea02d406\",\"type\":\"Line\"},{\"attributes\":{\"source\":{\"id\":\"4ffb7888-8161-4df3-b23c-967f6b5d7f8c\",\"type\":\"ColumnDataSource\"}},\"id\":\"e0ecf1e1-59e9-4564-8407-11d8372cd98d\",\"type\":\"CDSView\"},{\"attributes\":{},\"id\":\"3062eb72-7a7b-4f95-a3be-38bb529ebda0\",\"type\":\"PanTool\"},{\"attributes\":{\"callback\":null,\"data\":{\"x\":{\"__ndarray__\":\"hegxRvuKh79AP9qfjj6Hvy9epRtemYa/QkLJITjnhb8jKM3SjTGFv9aZebWOeIS/NfT8lUi8g7+tFIJd1PyCv1V/MKtROoK/kQu6/Ah1gb/LM2IvY62Av1lxJ6Kxx3+/TDcIeCsyfr97c6i9CYB8v20a7nMiIHe/bqyj5SJwW7+UwlYub+V0P22wuWid+Is//tb9TIXEmD/pwyKicvWiP1/ZMAPI4qo/PjPcDnonsj9oj1nus2e2PyT/yWivgbY/7D3UN+Kpsj/lcG6SbYCsPw8Yd8WEf6Q/CgRa6ruDmz/nvVqDMQGRP/J1qzyAi4I/hXkFHcqbbj+zgDvq4fc9P22qXXhGIEy/jKRsuKDjUL9xEobmGqRQvyomZcUGSFG/+kde2zSdUb/iOGGbfI5Sv5L4jVVgRlW/p1VaIZHfV78vR5mabpxXv9/KyTRwAVW/oENpgx2MUr8mMcy2SJtQv3KXJ0IlBU6/dV8gTrVBS79Ww+Mb5sJIv+t1L5mhb0a/uiv84uM5RL8IaWWP5htCvxYVZOSsG0C/RR0JMZV/PL8rRI4MtQ85v+2aHKwf0jW/vlRT5iunMr9VwdVYaOcuv1uyJZRaTCi/NDbjOgxnIb/teunyClMUv9V/69+MVfS+ChSkcRv4BT+d2e4tVu8bPyUW0E1n5iY/hGwJ3vsjMD8IiH7d8gU1P0dXAVEpATo/iPkDAyrdPj/T8wyGPp9BPyZkLELNakM/ybhPq/HRRD+aKmQ5p/5FP7+WjZmSIEc/+YXn+9dVSD9pXyKX2qxJPzrahDmSK0s/\",\"dtype\":\"float64\",\"shape\":[75]},\"y\":{\"__ndarray__\":\"GhExyth1ND/Sv8nbtpRIP2vylNV0PVE/aTum7souWD/At0SJ8fVgPw3Iuahxymc/MSNhhJWvcD/bTfBN02d3P2zb5nxnaoA/CD5h5MAGhz8NmeH1TyaQP+zrCsc9p5Y/LbKd76fGnz/bLW5ISEmmPww9YvTcQq8/JV2OstnstT8Er5Y7M8G+P0c+r3jqkcU/5h99k6ZBzj88bCIzFzjVP4enV8oyxN0//yH99nXg5D8qOpLLf0jtP5kqGJXUifQ/c9cS8kHP/D+/DpwzojQEQIEmwoanVwxA4lgXt9HgE0BSSZ2AJuIbQAMJih9jjiNA5q4l5INuK0AwTKYKRj0zQNv5fmq8/DpAaCJseHrtQkB/+zpwzoxKQM3MzMzMeFJAZmZmZmZqWEAAAAAAAFxeQM3MzMzMJmJAmpmZmZkfZUBmZmZmZhhoQDMzMzMzEWtAAAAAAAAKbkBmZmZmZoFwQM3MzMzM/XFAMzMzMzN6c0CamZmZmfZ0QAAAAAAAc3ZAZmZmZmbvd0DNzMzMzGt5QDMzMzMz6HpAmpmZmZlkfEAAAAAAAOF9QGZmZmZmXX9AZmZmZuZsgECamZmZGSuBQM3MzMxM6YFAAAAAAICngkAzMzMzs2WDQGZmZmbmI4RAmpmZmRnihEDNzMzMTKCFQAAAAACAXoZAMzMzM7Mch0BmZmZm5tqHQJqZmZkZmYhAzczMzExXiUAAAAAAgBWKQDMzMzOz04pAZmZmZuaRi0CamZmZGVCMQM3MzMxMDo1AAAAAAIDMjUAzMzMzs4qOQGZmZmbmSI9A\",\"dtype\":\"float64\",\"shape\":[75]}},\"selected\":{\"id\":\"528a3d2a-53a8-4242-bf10-97e4dc03cb19\",\"type\":\"Selection\"},\"selection_policy\":{\"id\":\"3ead1b74-b0b6-499a-ae25-e020af148e49\",\"type\":\"UnionRenderers\"}},\"id\":\"fb3ec194-e565-4add-be30-1f31a67cd925\",\"type\":\"ColumnDataSource\"},{\"attributes\":{\"bottom_units\":\"screen\",\"fill_alpha\":{\"value\":0.5},\"fill_color\":{\"value\":\"lightgrey\"},\"left_units\":\"screen\",\"level\":\"overlay\",\"line_alpha\":{\"value\":1.0},\"line_color\":{\"value\":\"black\"},\"line_dash\":[4,4],\"line_width\":{\"value\":2},\"plot\":null,\"render_mode\":\"css\",\"right_units\":\"screen\",\"top_units\":\"screen\"},\"id\":\"9e052b3e-125a-4ba2-9d82-b3af1f3cf13a\",\"type\":\"BoxAnnotation\"},{\"attributes\":{\"fill_alpha\":{\"value\":0.1},\"fill_color\":{\"value\":\"#1f77b4\"},\"line_alpha\":{\"value\":0.1},\"line_color\":{\"value\":\"#1f77b4\"},\"x\":{\"field\":\"x\"},\"y\":{\"field\":\"y\"}},\"id\":\"0b455718-da15-4e45-96ee-a71b6234770d\",\"type\":\"Triangle\"},{\"attributes\":{\"data_source\":{\"id\":\"e3467a5a-e1f3-4b6b-8d46-74c82adb9862\",\"type\":\"ColumnDataSource\"},\"glyph\":{\"id\":\"248defc9-51b9-4dcb-8244-7c5f183788d7\",\"type\":\"Line\"},\"hover_glyph\":null,\"muted_glyph\":null,\"nonselection_glyph\":{\"id\":\"7f8b2a56-e63b-4474-a012-c45699fb6b6d\",\"type\":\"Line\"},\"selection_glyph\":null,\"view\":{\"id\":\"27ee2286-91cf-4a39-973e-ff7eebe764c2\",\"type\":\"CDSView\"}},\"id\":\"05bb2170-ab73-46e1-b563-d5ee9d089999\",\"type\":\"GlyphRenderer\"},{\"attributes\":{\"line_alpha\":0.1,\"line_color\":\"#1f77b4\",\"line_width\":1.5,\"x\":{\"field\":\"x\"},\"y\":{\"field\":\"y\"}},\"id\":\"845b674b-469f-48b0-bc27-360b0561d26c\",\"type\":\"Line\"},{\"attributes\":{\"data_source\":{\"id\":\"4ffb7888-8161-4df3-b23c-967f6b5d7f8c\",\"type\":\"ColumnDataSource\"},\"glyph\":{\"id\":\"7b4c53a6-1cd2-4a2d-9a7e-4981c39fb25a\",\"type\":\"Square\"},\"hover_glyph\":null,\"muted_glyph\":null,\"nonselection_glyph\":{\"id\":\"e7774548-a728-4811-91ca-24126d23c96d\",\"type\":\"Square\"},\"selection_glyph\":null,\"view\":{\"id\":\"e0ecf1e1-59e9-4564-8407-11d8372cd98d\",\"type\":\"CDSView\"}},\"id\":\"9996ad55-4270-4a8d-99da-a6c61b9cc59b\",\"type\":\"GlyphRenderer\"},{\"attributes\":{\"callback\":null,\"data\":{\"x\":{\"__ndarray__\":\"N//fc4gBkL+IykfRUa6Pv7A5b7L5946/aZg6xTMzjr/+FgcRVWqNv2O1LHF6nYy/Ia9dk5vMi79bO0xZWACLv1hk+nnhO4q/yH9OL5t6ib848JjxHraIv5XvrOyhzoe/YBJpRv/+hr+0Iyt4NzqGv78BTGp/n4O/RNbC/+nMdb8fkWmH3KBfPw/1n1sGoYY/VeRP1bbBlj+eWS711VCiP60AhrWWoao/jf3ZTfg+sj/9e0mT7aS2Pz+7iF5ihrY/gyWTXa02sj/j2PkFW++qP2KwtdPjsqI/vacFPiU4mD/k0W9aThSNP80zpLn2Rn8/msCxBu/0aT9U+fPLSOE6PzpYEcvsR0i/MyDKcZH9T7/TsousMJJRv+hK1rqzQ1O/I13sbPrCU78+d1nHxVVUv8VlOWo8gVa/c5zjrKSmWL8+HzH3WiJYv1WYdNw0a1W/T0HRx7vtUr8f4dbKNPRQv9dF2XRnmk6/X8URGeSxS78Pd3sMzQlJv6TFC9MhjEa/J7DsINIsRL9dUbzoBOdBvx2ndVnngj+/3+AkY9yGO7+NgnQFq9o3v/FCTmmKajS/2f35S68YMb8L2kfocpcrv6DtiyJo5yS/mYo+vg8aHL+Wa9QvfO0Lv4hWabxxxsU+dtHjOVPPDz8dCTXKZ8kfP/4AgOUyMig/94XPmelvMD/6L3cEv/I0Pw6SQXRGjjk/LXpkq2kOPj8NDVhnqgxBP+P+BJrJr0I/EBPS7wLyQz9HtgLKVf9EP77xEIC1CUY/7TJ3YN8xRz+GANHDE4tIP2J8Z9RqJ0o/\",\"dtype\":\"float64\",\"shape\":[75]},\"y\":{\"__ndarray__\":\"GhExyth1ND/Sv8nbtpRIP2vylNV0PVE/aTum7souWD/At0SJ8fVgPw3Iuahxymc/MSNhhJWvcD/bTfBN02d3P2zb5nxnaoA/CD5h5MAGhz8NmeH1TyaQP+zrCsc9p5Y/LbKd76fGnz/bLW5ISEmmPww9YvTcQq8/JV2OstnstT8Er5Y7M8G+P0c+r3jqkcU/5h99k6ZBzj88bCIzFzjVP4enV8oyxN0//yH99nXg5D8qOpLLf0jtP5kqGJXUifQ/c9cS8kHP/D+/DpwzojQEQIEmwoanVwxA4lgXt9HgE0BSSZ2AJuIbQAMJih9jjiNA5q4l5INuK0AwTKYKRj0zQNv5fmq8/DpAaCJseHrtQkB/+zpwzoxKQM3MzMzMeFJAZmZmZmZqWEAAAAAAAFxeQM3MzMzMJmJAmpmZmZkfZUBmZmZmZhhoQDMzMzMzEWtAAAAAAAAKbkBmZmZmZoFwQM3MzMzM/XFAMzMzMzN6c0CamZmZmfZ0QAAAAAAAc3ZAZmZmZmbvd0DNzMzMzGt5QDMzMzMz6HpAmpmZmZlkfEAAAAAAAOF9QGZmZmZmXX9AZmZmZuZsgECamZmZGSuBQM3MzMxM6YFAAAAAAICngkAzMzMzs2WDQGZmZmbmI4RAmpmZmRnihEDNzMzMTKCFQAAAAACAXoZAMzMzM7Mch0BmZmZm5tqHQJqZmZkZmYhAzczMzExXiUAAAAAAgBWKQDMzMzOz04pAZmZmZuaRi0CamZmZGVCMQM3MzMxMDo1AAAAAAIDMjUAzMzMzs4qOQGZmZmbmSI9A\",\"dtype\":\"float64\",\"shape\":[75]}},\"selected\":{\"id\":\"22394428-061c-48a4-a4e5-816f56903d1c\",\"type\":\"Selection\"},\"selection_policy\":{\"id\":\"4e7badd1-ff61-4e0a-86bc-86042f868676\",\"type\":\"UnionRenderers\"}},\"id\":\"e3467a5a-e1f3-4b6b-8d46-74c82adb9862\",\"type\":\"ColumnDataSource\"},{\"attributes\":{\"source\":{\"id\":\"e3467a5a-e1f3-4b6b-8d46-74c82adb9862\",\"type\":\"ColumnDataSource\"}},\"id\":\"27ee2286-91cf-4a39-973e-ff7eebe764c2\",\"type\":\"CDSView\"},{\"attributes\":{},\"id\":\"f02d0d09-eea3-4018-9c02-d726d796bea8\",\"type\":\"WheelZoomTool\"},{\"attributes\":{\"callback\":null,\"data\":{\"x\":{\"__ndarray__\":\"hegxRvuKh79AP9qfjj6Hvy9epRtemYa/QkLJITjnhb8jKM3SjTGFv9aZebWOeIS/NfT8lUi8g7+tFIJd1PyCv1V/MKtROoK/kQu6/Ah1gb/LM2IvY62Av1lxJ6Kxx3+/TDcIeCsyfr97c6i9CYB8v20a7nMiIHe/bqyj5SJwW7+UwlYub+V0P22wuWid+Is//tb9TIXEmD/pwyKicvWiP1/ZMAPI4qo/PjPcDnonsj9oj1nus2e2PyT/yWivgbY/7D3UN+Kpsj/lcG6SbYCsPw8Yd8WEf6Q/CgRa6ruDmz/nvVqDMQGRP/J1qzyAi4I/hXkFHcqbbj+zgDvq4fc9P22qXXhGIEy/jKRsuKDjUL9xEobmGqRQvyomZcUGSFG/+kde2zSdUb/iOGGbfI5Sv5L4jVVgRlW/p1VaIZHfV78vR5mabpxXv9/KyTRwAVW/oENpgx2MUr8mMcy2SJtQv3KXJ0IlBU6/dV8gTrVBS79Ww+Mb5sJIv+t1L5mhb0a/uiv84uM5RL8IaWWP5htCvxYVZOSsG0C/RR0JMZV/PL8rRI4MtQ85v+2aHKwf0jW/vlRT5iunMr9VwdVYaOcuv1uyJZRaTCi/NDbjOgxnIb/teunyClMUv9V/69+MVfS+ChSkcRv4BT+d2e4tVu8bPyUW0E1n5iY/hGwJ3vsjMD8IiH7d8gU1P0dXAVEpATo/iPkDAyrdPj/T8wyGPp9BPyZkLELNakM/ybhPq/HRRD+aKmQ5p/5FP7+WjZmSIEc/+YXn+9dVSD9pXyKX2qxJPzrahDmSK0s/\",\"dtype\":\"float64\",\"shape\":[75]},\"y\":{\"__ndarray__\":\"GhExyth1ND/Sv8nbtpRIP2vylNV0PVE/aTum7souWD/At0SJ8fVgPw3Iuahxymc/MSNhhJWvcD/bTfBN02d3P2zb5nxnaoA/CD5h5MAGhz8NmeH1TyaQP+zrCsc9p5Y/LbKd76fGnz/bLW5ISEmmPww9YvTcQq8/JV2OstnstT8Er5Y7M8G+P0c+r3jqkcU/5h99k6ZBzj88bCIzFzjVP4enV8oyxN0//yH99nXg5D8qOpLLf0jtP5kqGJXUifQ/c9cS8kHP/D+/DpwzojQEQIEmwoanVwxA4lgXt9HgE0BSSZ2AJuIbQAMJih9jjiNA5q4l5INuK0AwTKYKRj0zQNv5fmq8/DpAaCJseHrtQkB/+zpwzoxKQM3MzMzMeFJAZmZmZmZqWEAAAAAAAFxeQM3MzMzMJmJAmpmZmZkfZUBmZmZmZhhoQDMzMzMzEWtAAAAAAAAKbkBmZmZmZoFwQM3MzMzM/XFAMzMzMzN6c0CamZmZmfZ0QAAAAAAAc3ZAZmZmZmbvd0DNzMzMzGt5QDMzMzMz6HpAmpmZmZlkfEAAAAAAAOF9QGZmZmZmXX9AZmZmZuZsgECamZmZGSuBQM3MzMxM6YFAAAAAAICngkAzMzMzs2WDQGZmZmbmI4RAmpmZmRnihEDNzMzMTKCFQAAAAACAXoZAMzMzM7Mch0BmZmZm5tqHQJqZmZkZmYhAzczMzExXiUAAAAAAgBWKQDMzMzOz04pAZmZmZuaRi0CamZmZGVCMQM3MzMxMDo1AAAAAAIDMjUAzMzMzs4qOQGZmZmbmSI9A\",\"dtype\":\"float64\",\"shape\":[75]}},\"selected\":{\"id\":\"2b9370de-79fb-4521-b9a5-32d23fe99d44\",\"type\":\"Selection\"},\"selection_policy\":{\"id\":\"3d1d1ad5-94ad-4ee0-99ee-0ab5cfcca0fe\",\"type\":\"UnionRenderers\"}},\"id\":\"2c0cbee7-28af-40b3-9737-b9d33fad6a4f\",\"type\":\"ColumnDataSource\"},{\"attributes\":{\"overlay\":{\"id\":\"9e052b3e-125a-4ba2-9d82-b3af1f3cf13a\",\"type\":\"BoxAnnotation\"}},\"id\":\"f8125516-42ce-45e8-bb16-4b9e29845836\",\"type\":\"BoxZoomTool\"},{\"attributes\":{\"line_alpha\":0.6,\"line_color\":\"#984ea3\",\"line_width\":3,\"x\":{\"field\":\"x\"},\"y\":{\"field\":\"y\"}},\"id\":\"248defc9-51b9-4dcb-8244-7c5f183788d7\",\"type\":\"Line\"},{\"attributes\":{},\"id\":\"1fd9d3cb-5637-413b-b698-03ef13872c84\",\"type\":\"SaveTool\"},{\"attributes\":{},\"id\":\"092568b1-f460-4aa9-86df-b49f25b9c49b\",\"type\":\"ResetTool\"},{\"attributes\":{},\"id\":\"aebab729-b88d-4445-9ddd-3bcb7acb36ce\",\"type\":\"HelpTool\"},{\"attributes\":{\"fill_alpha\":{\"value\":0.7},\"fill_color\":{\"value\":\"#377eb8\"},\"line_alpha\":{\"value\":0.7},\"line_color\":{\"value\":\"#377eb8\"},\"x\":{\"field\":\"x\"},\"y\":{\"field\":\"y\"}},\"id\":\"a7bb0bae-ec50-4021-9655-636cb58d0a2f\",\"type\":\"Triangle\"},{\"attributes\":{\"data_source\":{\"id\":\"f29017c6-2039-49d7-a46f-53b62f647a88\",\"type\":\"ColumnDataSource\"},\"glyph\":{\"id\":\"b9790566-2dd8-4ca9-bc5c-1359305b4f5b\",\"type\":\"Line\"},\"hover_glyph\":null,\"muted_glyph\":null,\"nonselection_glyph\":{\"id\":\"845b674b-469f-48b0-bc27-360b0561d26c\",\"type\":\"Line\"},\"selection_glyph\":null,\"view\":{\"id\":\"8ec1b724-d6d5-4e11-b255-47944fb3fa5e\",\"type\":\"CDSView\"}},\"id\":\"382490bf-5267-43b8-9455-baecc7b85477\",\"type\":\"GlyphRenderer\"},{\"attributes\":{\"line_alpha\":0.1,\"line_color\":\"#1f77b4\",\"line_width\":3,\"x\":{\"field\":\"x\"},\"y\":{\"field\":\"y\"}},\"id\":\"7f8b2a56-e63b-4474-a012-c45699fb6b6d\",\"type\":\"Line\"},{\"attributes\":{\"data_source\":{\"id\":\"fb3ec194-e565-4add-be30-1f31a67cd925\",\"type\":\"ColumnDataSource\"},\"glyph\":{\"id\":\"2ad6012d-50f9-47ab-b944-49f0ea02d406\",\"type\":\"Line\"},\"hover_glyph\":null,\"muted_glyph\":null,\"nonselection_glyph\":{\"id\":\"24cd9876-ca17-4955-bf01-33a8b197636f\",\"type\":\"Line\"},\"selection_glyph\":null,\"view\":{\"id\":\"d287663c-1f87-48bb-bbbc-1aec9a90ae3b\",\"type\":\"CDSView\"}},\"id\":\"6d73553e-3731-49be-98c7-e5e3e3bafdaf\",\"type\":\"GlyphRenderer\"},{\"attributes\":{\"callback\":null,\"data\":{\"x\":{\"__ndarray__\":\"vBQ9QXlXor8QDV0Z7Deiv8d+8IPu8KG/XVj/M7+kob/SeQ7et1ehv7eaWXHIC6G/aUhH/+zDoL9AJT/GAn2gv47hIfSCO6C//o40+sn/n78CFjOhzZqfv4l3CRmLUJ+/vwB+ahUtn7815YluXTSfv0f3nIkj7p2/H+vDKVxXmL/boIx3m8WMvzj8M6GXOmG/8H8I8GTXiD/eZ8IaWqmdPzUPHnWN+ag/1YGaxJp2sj/Qch0Gmp+3P8xWjCornLY/jL5XtAZdsD/68xQJC8akPzK/fK2p/pc/EYOGHxgXiT+2vPHzOPN3PzrLnXJ0cGM/h3uuPyjDMj9gsUHqDdhOv/VeAS/oAlS/f23MTUW6UL8ycXa5/GJNv9L+KPFaCEy/rH8UFAauSb+3llZraEVIv+zeqsNV7Uq/FcDDU03WTr/nYQZ3VKNOv4X0C0QqyUq/Y+LxoOy/R7/JpM1Uq59Fv0dsGVwn5UO/WUdrFVtVQr9umLyPENZAv208E74stT6/KhnA1zC8O79X/cJGpcI4v8j07DSt3DW/3+CjOvsfM799e35zrpQwvwllXzCkWiy/ufE7xeKiJ78BPpSEqdkivyabfMvQzxu/pc06FfR8Eb+T1FfofZ36vvyvaKTt/PI+3NefFZHLED8MLpAgPpUdP3QfnJ6PmSU/xUunUjjaLD/Qbp+fqkUyPysFOgPjRjY/cWAslLVAOj87AL6mP9s9PxkzoSXPY0A/zzYt65SEQT8TThaW4HtCP+Bo5J2ge0M/dOJVi82kRD9zrXhs3wxGP9PWYx1LzEc/\",\"dtype\":\"float64\",\"shape\":[75]},\"y\":{\"__ndarray__\":\"GhExyth1ND/Sv8nbtpRIP2vylNV0PVE/aTum7souWD/At0SJ8fVgPw3Iuahxymc/MSNhhJWvcD/bTfBN02d3P2zb5nxnaoA/CD5h5MAGhz8NmeH1TyaQP+zrCsc9p5Y/LbKd76fGnz/bLW5ISEmmPww9YvTcQq8/JV2OstnstT8Er5Y7M8G+P0c+r3jqkcU/5h99k6ZBzj88bCIzFzjVP4enV8oyxN0//yH99nXg5D8qOpLLf0jtP5kqGJXUifQ/c9cS8kHP/D+/DpwzojQEQIEmwoanVwxA4lgXt9HgE0BSSZ2AJuIbQAMJih9jjiNA5q4l5INuK0AwTKYKRj0zQNv5fmq8/DpAaCJseHrtQkB/+zpwzoxKQM3MzMzMeFJAZmZmZmZqWEAAAAAAAFxeQM3MzMzMJmJAmpmZmZkfZUBmZmZmZhhoQDMzMzMzEWtAAAAAAAAKbkBmZmZmZoFwQM3MzMzM/XFAMzMzMzN6c0CamZmZmfZ0QAAAAAAAc3ZAZmZmZmbvd0DNzMzMzGt5QDMzMzMz6HpAmpmZmZlkfEAAAAAAAOF9QGZmZmZmXX9AZmZmZuZsgECamZmZGSuBQM3MzMxM6YFAAAAAAICngkAzMzMzs2WDQGZmZmbmI4RAmpmZmRnihEDNzMzMTKCFQAAAAACAXoZAMzMzM7Mch0BmZmZm5tqHQJqZmZkZmYhAzczMzExXiUAAAAAAgBWKQDMzMzOz04pAZmZmZuaRi0CamZmZGVCMQM3MzMxMDo1AAAAAAIDMjUAzMzMzs4qOQGZmZmbmSI9A\",\"dtype\":\"float64\",\"shape\":[75]}},\"selected\":{\"id\":\"580283fb-77de-4ebb-bddf-281865fb8fe9\",\"type\":\"Selection\"},\"selection_policy\":{\"id\":\"8359d3dd-4e1c-4568-8eea-9d1fbe488c67\",\"type\":\"UnionRenderers\"}},\"id\":\"f11721ed-0d3f-486f-baea-f21585ff39d5\",\"type\":\"ColumnDataSource\"},{\"attributes\":{\"source\":{\"id\":\"61db050d-6946-4b42-a082-870ac339e961\",\"type\":\"ColumnDataSource\"}},\"id\":\"10976984-d540-4e32-9188-093ff09f4d4c\",\"type\":\"CDSView\"},{\"attributes\":{\"source\":{\"id\":\"fb3ec194-e565-4add-be30-1f31a67cd925\",\"type\":\"ColumnDataSource\"}},\"id\":\"d287663c-1f87-48bb-bbbc-1aec9a90ae3b\",\"type\":\"CDSView\"},{\"attributes\":{\"active_drag\":\"auto\",\"active_inspect\":\"auto\",\"active_scroll\":\"auto\",\"active_tap\":\"auto\",\"tools\":[{\"id\":\"b880a66c-8c38-40e7-8873-61655b7af7b4\",\"type\":\"PanTool\"},{\"id\":\"4c734576-4a16-498e-ab1b-85408b84bf4c\",\"type\":\"WheelZoomTool\"},{\"id\":\"9439c7a5-b8c9-4c0a-bb1e-be9dcdd6e48d\",\"type\":\"BoxZoomTool\"},{\"id\":\"99e695c5-3ade-4193-b06d-d7ad76d4aab2\",\"type\":\"SaveTool\"},{\"id\":\"74634c9a-7c93-44c7-acca-49a09d177fcb\",\"type\":\"ResetTool\"},{\"id\":\"bf1bbf84-8445-4081-b07f-f531a35bc882\",\"type\":\"HelpTool\"}]},\"id\":\"9505a0aa-1399-4515-9f12-24f24b613309\",\"type\":\"Toolbar\"},{\"attributes\":{\"items\":[{\"id\":\"ed532f80-fb2e-4486-8190-41d36cdaa483\",\"type\":\"LegendItem\"},{\"id\":\"911c80b5-b2cd-4b9b-8efc-ff554260b34c\",\"type\":\"LegendItem\"},{\"id\":\"6d8cdd56-795a-4e60-bce4-99e4f1f1c1a3\",\"type\":\"LegendItem\"}],\"label_text_font_size\":{\"value\":\"8pt\"},\"location\":\"top_center\",\"orientation\":\"horizontal\",\"plot\":{\"id\":\"104b858f-673f-4d95-bac5-f9eccf6a81cd\",\"subtype\":\"Figure\",\"type\":\"Plot\"}},\"id\":\"8eeff8ae-6217-4f98-a2f1-aaeee8e93159\",\"type\":\"Legend\"},{\"attributes\":{\"plot\":{\"id\":\"104b858f-673f-4d95-bac5-f9eccf6a81cd\",\"subtype\":\"Figure\",\"type\":\"Plot\"},\"ticker\":{\"id\":\"759b1228-09ff-4777-b1a5-2aa4989b102d\",\"type\":\"BasicTicker\"}},\"id\":\"e6d62bac-6a22-4d7c-b35f-56cfcc456079\",\"type\":\"Grid\"},{\"attributes\":{\"line_alpha\":0.1,\"line_color\":\"#1f77b4\",\"line_width\":2,\"x\":{\"field\":\"x\"},\"y\":{\"field\":\"y\"}},\"id\":\"24cd9876-ca17-4955-bf01-33a8b197636f\",\"type\":\"Line\"},{\"attributes\":{},\"id\":\"1c1e6b6c-d5e8-44c5-a0f3-35ae934aaaa2\",\"type\":\"LinearScale\"},{\"attributes\":{\"label\":{\"value\":\"WGT igg=1\"},\"renderers\":[{\"id\":\"9996ad55-4270-4a8d-99da-a6c61b9cc59b\",\"type\":\"GlyphRenderer\"},{\"id\":\"05bb2170-ab73-46e1-b563-d5ee9d089999\",\"type\":\"GlyphRenderer\"}]},\"id\":\"cb1f5a2b-2d3c-4545-943b-c37da772cdd3\",\"type\":\"LegendItem\"},{\"attributes\":{\"label\":{\"value\":\"CRD\"},\"renderers\":[{\"id\":\"eeec3039-de48-4f50-8bcf-95c717c06c58\",\"type\":\"GlyphRenderer\"},{\"id\":\"382490bf-5267-43b8-9455-baecc7b85477\",\"type\":\"GlyphRenderer\"}]},\"id\":\"4e1d3e08-7c6d-49a4-81d5-4bebec2ba695\",\"type\":\"LegendItem\"},{\"attributes\":{\"label\":{\"value\":\"WGT igg=10\"},\"renderers\":[{\"id\":\"115f84b9-b168-450e-a0a8-768676e81829\",\"type\":\"GlyphRenderer\"},{\"id\":\"6d73553e-3731-49be-98c7-e5e3e3bafdaf\",\"type\":\"GlyphRenderer\"}]},\"id\":\"f38b4de5-a3b5-4351-ab3a-b4bc685bc9ee\",\"type\":\"LegendItem\"},{\"attributes\":{\"children\":[{\"id\":\"dc68eb84-88f1-4494-9896-33963546587c\",\"type\":\"Row\"}]},\"id\":\"e0b423b8-363e-4372-9a35-7d1f792966f6\",\"type\":\"Column\"},{\"attributes\":{\"line_color\":\"#4daf4a\",\"line_width\":1.5,\"x\":{\"field\":\"x\"},\"y\":{\"field\":\"y\"}},\"id\":\"b9790566-2dd8-4ca9-bc5c-1359305b4f5b\",\"type\":\"Line\"},{\"attributes\":{},\"id\":\"8969783f-b693-44b0-a9fb-0185803149f6\",\"type\":\"LogScale\"},{\"attributes\":{\"callback\":null,\"data\":{\"x\":{\"__ndarray__\":\"vBQ9QXlXor8QDV0Z7Deiv8d+8IPu8KG/XVj/M7+kob/SeQ7et1ehv7eaWXHIC6G/aUhH/+zDoL9AJT/GAn2gv47hIfSCO6C//o40+sn/n78CFjOhzZqfv4l3CRmLUJ+/vwB+ahUtn7815YluXTSfv0f3nIkj7p2/H+vDKVxXmL/boIx3m8WMvzj8M6GXOmG/8H8I8GTXiD/eZ8IaWqmdPzUPHnWN+ag/1YGaxJp2sj/Qch0Gmp+3P8xWjCornLY/jL5XtAZdsD/68xQJC8akPzK/fK2p/pc/EYOGHxgXiT+2vPHzOPN3PzrLnXJ0cGM/h3uuPyjDMj9gsUHqDdhOv/VeAS/oAlS/f23MTUW6UL8ycXa5/GJNv9L+KPFaCEy/rH8UFAauSb+3llZraEVIv+zeqsNV7Uq/FcDDU03WTr/nYQZ3VKNOv4X0C0QqyUq/Y+LxoOy/R7/JpM1Uq59Fv0dsGVwn5UO/WUdrFVtVQr9umLyPENZAv208E74stT6/KhnA1zC8O79X/cJGpcI4v8j07DSt3DW/3+CjOvsfM799e35zrpQwvwllXzCkWiy/ufE7xeKiJ78BPpSEqdkivyabfMvQzxu/pc06FfR8Eb+T1FfofZ36vvyvaKTt/PI+3NefFZHLED8MLpAgPpUdP3QfnJ6PmSU/xUunUjjaLD/Qbp+fqkUyPysFOgPjRjY/cWAslLVAOj87AL6mP9s9PxkzoSXPY0A/zzYt65SEQT8TThaW4HtCP+Bo5J2ge0M/dOJVi82kRD9zrXhs3wxGP9PWYx1LzEc/\",\"dtype\":\"float64\",\"shape\":[75]},\"y\":{\"__ndarray__\":\"GhExyth1ND/Sv8nbtpRIP2vylNV0PVE/aTum7souWD/At0SJ8fVgPw3Iuahxymc/MSNhhJWvcD/bTfBN02d3P2zb5nxnaoA/CD5h5MAGhz8NmeH1TyaQP+zrCsc9p5Y/LbKd76fGnz/bLW5ISEmmPww9YvTcQq8/JV2OstnstT8Er5Y7M8G+P0c+r3jqkcU/5h99k6ZBzj88bCIzFzjVP4enV8oyxN0//yH99nXg5D8qOpLLf0jtP5kqGJXUifQ/c9cS8kHP/D+/DpwzojQEQIEmwoanVwxA4lgXt9HgE0BSSZ2AJuIbQAMJih9jjiNA5q4l5INuK0AwTKYKRj0zQNv5fmq8/DpAaCJseHrtQkB/+zpwzoxKQM3MzMzMeFJAZmZmZmZqWEAAAAAAAFxeQM3MzMzMJmJAmpmZmZkfZUBmZmZmZhhoQDMzMzMzEWtAAAAAAAAKbkBmZmZmZoFwQM3MzMzM/XFAMzMzMzN6c0CamZmZmfZ0QAAAAAAAc3ZAZmZmZmbvd0DNzMzMzGt5QDMzMzMz6HpAmpmZmZlkfEAAAAAAAOF9QGZmZmZmXX9AZmZmZuZsgECamZmZGSuBQM3MzMxM6YFAAAAAAICngkAzMzMzs2WDQGZmZmbmI4RAmpmZmRnihEDNzMzMTKCFQAAAAACAXoZAMzMzM7Mch0BmZmZm5tqHQJqZmZkZmYhAzczMzExXiUAAAAAAgBWKQDMzMzOz04pAZmZmZuaRi0CamZmZGVCMQM3MzMxMDo1AAAAAAIDMjUAzMzMzs4qOQGZmZmbmSI9A\",\"dtype\":\"float64\",\"shape\":[75]}},\"selected\":{\"id\":\"0d90674e-e3db-47d8-9e1c-124e64b1e518\",\"type\":\"Selection\"},\"selection_policy\":{\"id\":\"482519a2-c265-4bc3-a5dc-8e98a71d0e18\",\"type\":\"UnionRenderers\"}},\"id\":\"f29017c6-2039-49d7-a46f-53b62f647a88\",\"type\":\"ColumnDataSource\"},{\"attributes\":{\"axis_label\":\"cooling rate [K/day]\",\"formatter\":{\"id\":\"15667690-4616-484d-85c6-7d4a26a764c6\",\"type\":\"BasicTickFormatter\"},\"plot\":{\"id\":\"104b858f-673f-4d95-bac5-f9eccf6a81cd\",\"subtype\":\"Figure\",\"type\":\"Plot\"},\"ticker\":{\"id\":\"759b1228-09ff-4777-b1a5-2aa4989b102d\",\"type\":\"BasicTicker\"}},\"id\":\"17af14bb-4c2f-4e3c-b1ed-b970bb205890\",\"type\":\"LinearAxis\"},{\"attributes\":{\"callback\":null,\"data\":{\"x\":{\"__ndarray__\":\"vBQ9QXlXor8QDV0Z7Deiv8d+8IPu8KG/XVj/M7+kob/SeQ7et1ehv7eaWXHIC6G/aUhH/+zDoL9AJT/GAn2gv47hIfSCO6C//o40+sn/n78CFjOhzZqfv4l3CRmLUJ+/vwB+ahUtn7815YluXTSfv0f3nIkj7p2/H+vDKVxXmL/boIx3m8WMvzj8M6GXOmG/8H8I8GTXiD/eZ8IaWqmdPzUPHnWN+ag/1YGaxJp2sj/Qch0Gmp+3P8xWjCornLY/jL5XtAZdsD/68xQJC8akPzK/fK2p/pc/EYOGHxgXiT+2vPHzOPN3PzrLnXJ0cGM/h3uuPyjDMj9gsUHqDdhOv/VeAS/oAlS/f23MTUW6UL8ycXa5/GJNv9L+KPFaCEy/rH8UFAauSb+3llZraEVIv+zeqsNV7Uq/FcDDU03WTr/nYQZ3VKNOv4X0C0QqyUq/Y+LxoOy/R7/JpM1Uq59Fv0dsGVwn5UO/WUdrFVtVQr9umLyPENZAv208E74stT6/KhnA1zC8O79X/cJGpcI4v8j07DSt3DW/3+CjOvsfM799e35zrpQwvwllXzCkWiy/ufE7xeKiJ78BPpSEqdkivyabfMvQzxu/pc06FfR8Eb+T1FfofZ36vvyvaKTt/PI+3NefFZHLED8MLpAgPpUdP3QfnJ6PmSU/xUunUjjaLD/Qbp+fqkUyPysFOgPjRjY/cWAslLVAOj87AL6mP9s9PxkzoSXPY0A/zzYt65SEQT8TThaW4HtCP+Bo5J2ge0M/dOJVi82kRD9zrXhs3wxGP9PWYx1LzEc/\",\"dtype\":\"float64\",\"shape\":[75]},\"y\":{\"__ndarray__\":\"GhExyth1ND/Sv8nbtpRIP2vylNV0PVE/aTum7souWD/At0SJ8fVgPw3Iuahxymc/MSNhhJWvcD/bTfBN02d3P2zb5nxnaoA/CD5h5MAGhz8NmeH1TyaQP+zrCsc9p5Y/LbKd76fGnz/bLW5ISEmmPww9YvTcQq8/JV2OstnstT8Er5Y7M8G+P0c+r3jqkcU/5h99k6ZBzj88bCIzFzjVP4enV8oyxN0//yH99nXg5D8qOpLLf0jtP5kqGJXUifQ/c9cS8kHP/D+/DpwzojQEQIEmwoanVwxA4lgXt9HgE0BSSZ2AJuIbQAMJih9jjiNA5q4l5INuK0AwTKYKRj0zQNv5fmq8/DpAaCJseHrtQkB/+zpwzoxKQM3MzMzMeFJAZmZmZmZqWEAAAAAAAFxeQM3MzMzMJmJAmpmZmZkfZUBmZmZmZhhoQDMzMzMzEWtAAAAAAAAKbkBmZmZmZoFwQM3MzMzM/XFAMzMzMzN6c0CamZmZmfZ0QAAAAAAAc3ZAZmZmZmbvd0DNzMzMzGt5QDMzMzMz6HpAmpmZmZlkfEAAAAAAAOF9QGZmZmZmXX9AZmZmZuZsgECamZmZGSuBQM3MzMxM6YFAAAAAAICngkAzMzMzs2WDQGZmZmbmI4RAmpmZmRnihEDNzMzMTKCFQAAAAACAXoZAMzMzM7Mch0BmZmZm5tqHQJqZmZkZmYhAzczMzExXiUAAAAAAgBWKQDMzMzOz04pAZmZmZuaRi0CamZmZGVCMQM3MzMxMDo1AAAAAAIDMjUAzMzMzs4qOQGZmZmbmSI9A\",\"dtype\":\"float64\",\"shape\":[75]}},\"selected\":{\"id\":\"3aa1e78b-c036-475d-b5df-d82f7a552a84\",\"type\":\"Selection\"},\"selection_policy\":{\"id\":\"a2614278-8d74-4ac9-85a3-e931888f294d\",\"type\":\"UnionRenderers\"}},\"id\":\"61db050d-6946-4b42-a082-870ac339e961\",\"type\":\"ColumnDataSource\"},{\"attributes\":{},\"id\":\"759b1228-09ff-4777-b1a5-2aa4989b102d\",\"type\":\"BasicTicker\"},{\"attributes\":{\"axis_label\":\"pressure [mb]\",\"formatter\":{\"id\":\"9654f7d4-65e1-4a0f-b46d-bd480f1a12ce\",\"type\":\"LogTickFormatter\"},\"plot\":{\"id\":\"104b858f-673f-4d95-bac5-f9eccf6a81cd\",\"subtype\":\"Figure\",\"type\":\"Plot\"},\"ticker\":{\"id\":\"c45cf399-4de0-4ab5-98e0-120b6e0aaa10\",\"type\":\"LogTicker\"}},\"id\":\"6127ad9f-5e29-43f1-9fce-e662caf9b33c\",\"type\":\"LogAxis\"},{\"attributes\":{\"num_minor_ticks\":10},\"id\":\"c45cf399-4de0-4ab5-98e0-120b6e0aaa10\",\"type\":\"LogTicker\"},{\"attributes\":{\"dimension\":1,\"plot\":{\"id\":\"104b858f-673f-4d95-bac5-f9eccf6a81cd\",\"subtype\":\"Figure\",\"type\":\"Plot\"},\"ticker\":{\"id\":\"c45cf399-4de0-4ab5-98e0-120b6e0aaa10\",\"type\":\"LogTicker\"}},\"id\":\"df10b811-8405-4369-a168-305dd9ef0985\",\"type\":\"Grid\"},{\"attributes\":{\"callback\":null,\"end\":0.01,\"start\":1020},\"id\":\"401ab600-aa1f-4d3a-bb2e-1655ed841a57\",\"type\":\"Range1d\"},{\"attributes\":{\"fill_alpha\":{\"value\":0.7},\"fill_color\":{\"value\":\"#4daf4a\"},\"line_alpha\":{\"value\":0.7},\"line_color\":{\"value\":\"#4daf4a\"},\"x\":{\"field\":\"x\"},\"y\":{\"field\":\"y\"}},\"id\":\"b93f7fa1-f455-4829-817a-9a7e8d4057e4\",\"type\":\"Circle\"},{\"attributes\":{\"data_source\":{\"id\":\"f11721ed-0d3f-486f-baea-f21585ff39d5\",\"type\":\"ColumnDataSource\"},\"glyph\":{\"id\":\"21343773-b01b-4300-93c7-322138632c06\",\"type\":\"Circle\"},\"hover_glyph\":null,\"muted_glyph\":null,\"nonselection_glyph\":{\"id\":\"a17d09bd-fdb5-4e21-96d8-099b0d123082\",\"type\":\"Circle\"},\"selection_glyph\":null,\"view\":{\"id\":\"77097283-0128-49d7-9193-073213d1d22c\",\"type\":\"CDSView\"}},\"id\":\"10c7ac52-3721-48cc-9687-d5b8e0ce0984\",\"type\":\"GlyphRenderer\"},{\"attributes\":{\"fill_alpha\":{\"value\":0.1},\"fill_color\":{\"value\":\"#1f77b4\"},\"line_alpha\":{\"value\":0.1},\"line_color\":{\"value\":\"#1f77b4\"},\"x\":{\"field\":\"x\"},\"y\":{\"field\":\"y\"}},\"id\":\"4a36ebc5-58de-4f2c-81b1-a1ffa87bd638\",\"type\":\"Circle\"},{\"attributes\":{\"bottom_units\":\"screen\",\"fill_alpha\":{\"value\":0.5},\"fill_color\":{\"value\":\"lightgrey\"},\"left_units\":\"screen\",\"level\":\"overlay\",\"line_alpha\":{\"value\":1.0},\"line_color\":{\"value\":\"black\"},\"line_dash\":[4,4],\"line_width\":{\"value\":2},\"plot\":null,\"render_mode\":\"css\",\"right_units\":\"screen\",\"top_units\":\"screen\"},\"id\":\"157aa40d-f0d5-48f3-a4bf-1bc447f11a5f\",\"type\":\"BoxAnnotation\"},{\"attributes\":{},\"id\":\"b880a66c-8c38-40e7-8873-61655b7af7b4\",\"type\":\"PanTool\"},{\"attributes\":{},\"id\":\"4c734576-4a16-498e-ab1b-85408b84bf4c\",\"type\":\"WheelZoomTool\"},{\"attributes\":{\"overlay\":{\"id\":\"157aa40d-f0d5-48f3-a4bf-1bc447f11a5f\",\"type\":\"BoxAnnotation\"}},\"id\":\"9439c7a5-b8c9-4c0a-bb1e-be9dcdd6e48d\",\"type\":\"BoxZoomTool\"},{\"attributes\":{\"callback\":null,\"end\":0.01,\"start\":1020},\"id\":\"b511701e-59ef-411f-99e9-00180141e1ea\",\"type\":\"Range1d\"},{\"attributes\":{},\"id\":\"99e695c5-3ade-4193-b06d-d7ad76d4aab2\",\"type\":\"SaveTool\"},{\"attributes\":{},\"id\":\"74634c9a-7c93-44c7-acca-49a09d177fcb\",\"type\":\"ResetTool\"},{\"attributes\":{},\"id\":\"bf1bbf84-8445-4081-b07f-f531a35bc882\",\"type\":\"HelpTool\"},{\"attributes\":{\"data_source\":{\"id\":\"61db050d-6946-4b42-a082-870ac339e961\",\"type\":\"ColumnDataSource\"},\"glyph\":{\"id\":\"b93f7fa1-f455-4829-817a-9a7e8d4057e4\",\"type\":\"Circle\"},\"hover_glyph\":null,\"muted_glyph\":null,\"nonselection_glyph\":{\"id\":\"4a36ebc5-58de-4f2c-81b1-a1ffa87bd638\",\"type\":\"Circle\"},\"selection_glyph\":null,\"view\":{\"id\":\"10976984-d540-4e32-9188-093ff09f4d4c\",\"type\":\"CDSView\"}},\"id\":\"eeec3039-de48-4f50-8bcf-95c717c06c58\",\"type\":\"GlyphRenderer\"},{\"attributes\":{\"plot\":null,\"text\":\"\"},\"id\":\"4e907697-f4e3-4279-9f81-fd998a75d4df\",\"type\":\"Title\"},{\"attributes\":{\"fill_alpha\":{\"value\":0.7},\"fill_color\":{\"value\":\"#4daf4a\"},\"line_alpha\":{\"value\":0.7},\"line_color\":{\"value\":\"#4daf4a\"},\"x\":{\"field\":\"x\"},\"y\":{\"field\":\"y\"}},\"id\":\"21343773-b01b-4300-93c7-322138632c06\",\"type\":\"Circle\"},{\"attributes\":{\"fill_alpha\":{\"value\":0.1},\"fill_color\":{\"value\":\"#1f77b4\"},\"line_alpha\":{\"value\":0.1},\"line_color\":{\"value\":\"#1f77b4\"},\"x\":{\"field\":\"x\"},\"y\":{\"field\":\"y\"}},\"id\":\"a17d09bd-fdb5-4e21-96d8-099b0d123082\",\"type\":\"Circle\"}],\"root_ids\":[\"153c1ad8-cb0d-4098-9b0b-e062a882f366\"]},\"title\":\"Bokeh Application\",\"version\":\"0.12.16\"}};\n",
       "  var render_items = [{\"docid\":\"b7e4f92a-f497-4d46-97e3-1b133e2ab168\",\"elementid\":\"628127b7-1416-442f-a7d0-96c64a43ccce\",\"modelid\":\"153c1ad8-cb0d-4098-9b0b-e062a882f366\"}];\n",
       "  root.Bokeh.embed.embed_items_notebook(docs_json, render_items);\n",
       "\n",
       "  }\n",
       "  if (root.Bokeh !== undefined) {\n",
       "    embed_document(root);\n",
       "  } else {\n",
       "    var attempts = 0;\n",
       "    var timer = setInterval(function(root) {\n",
       "      if (root.Bokeh !== undefined) {\n",
       "        embed_document(root);\n",
       "        clearInterval(timer);\n",
       "      }\n",
       "      attempts++;\n",
       "      if (attempts > 100) {\n",
       "        console.log(\"Bokeh: ERROR: Unable to run BokehJS code because BokehJS library is missing\")\n",
       "        clearInterval(timer);\n",
       "      }\n",
       "    }, 10, root)\n",
       "  }\n",
       "})(window);"
      ],
      "application/vnd.bokehjs_exec.v0+json": ""
     },
     "metadata": {
      "application/vnd.bokehjs_exec.v0+json": {
       "id": "153c1ad8-cb0d-4098-9b0b-e062a882f366"
      }
     },
     "output_type": "display_data"
    },
    {
     "data": {
      "text/markdown": [
       "*FIGURE.* Cooling rates. g=1"
      ],
      "text/plain": [
       "<IPython.core.display.Markdown object>"
      ]
     },
     "metadata": {},
     "output_type": "display_data"
    },
    {
     "data": {
      "text/html": [
       "\n",
       "<div class=\"bk-root\">\n",
       "    <div class=\"bk-plotdiv\" id=\"de6d3151-b8f9-4b06-9c4e-d8870730a962\"></div>\n",
       "</div>"
      ]
     },
     "metadata": {},
     "output_type": "display_data"
    },
    {
     "data": {
      "application/javascript": [
       "(function(root) {\n",
       "  function embed_document(root) {\n",
       "    \n",
       "  var docs_json = {\"28f2e9c9-7742-4498-ae37-154cf7051f79\":{\"roots\":{\"references\":[{\"attributes\":{\"callback\":null,\"data\":{\"x\":{\"__ndarray__\":\"tjuBFVCnFb/AINSR6jwVv+VWKSsDTBS/NoilFm5EE7/SRlkY8zMSv4KObozMGhG/t8rJIuzxD78RWFOvwpwNv5sxXKypNQu/Uw3LHfm7CL9R35bASC4Gv8B3spqPiQO/fE68KrbIAL8AxOdIR1r7vrTNP3bIMNa+rUrve+RjET/PapUhDfUrP9zfYsf7/zw/qC99fO7rST/CLLOXlJNVP7fO1vlrPWE/oIk6+GzSaj/l4ugcjjZzP5sC4rwbLnY/iqlZiNNndT/QcQ3qXedzP5Ru7peme3I/i0o6cC0fcT9F2D7N2gBwP8cvA2hwaG0/5a/M9yU9aT/AZAlAmnBiP5kOlFEp2lM/o/S56zXY5T7hrV/noO9Zvz6PhbRDjWy/1lszlDu1dL/+Yo5TaGh5v9Wh8m7u6H2/JauigHS/gL+qWr+STAuBv2mXvOej+H+/U8HjBjxjfb+daYfdxeR6v418zyGYfni/NmN6Bnkrdr+/J59t2OdzvyI1P8++sXG/OASVmVwRb7+Qg/FX8dtqvydVjSxB0Ga/FCZv7BD5Yr+GSfeGybNev1cjaosz0le/dpADKcstUb+GBSHUjlVFv7z0LJHW2zC/GVFSObbXIT8pKBLFGGZBP+ms7oTPbU4/n8+MNvHLVT+J2cIgZndcP+Pz16OonmE/45glNFsPZT/7J/VySopoP41Xu05sA2w/WCnMWWlbbz8+G/lA0i5xP5nYof6YbXI/BluEXARqcz8hw+bAyzx0P+UY5AWMAnU/IFbP71rOdT9Q60NAwap2PzmcSh0coHc/\",\"dtype\":\"float64\",\"shape\":[75]},\"y\":{\"__ndarray__\":\"GhExyth1ND/Sv8nbtpRIP2vylNV0PVE/aTum7souWD/At0SJ8fVgPw3Iuahxymc/MSNhhJWvcD/bTfBN02d3P2zb5nxnaoA/CD5h5MAGhz8NmeH1TyaQP+zrCsc9p5Y/LbKd76fGnz/bLW5ISEmmPww9YvTcQq8/JV2OstnstT8Er5Y7M8G+P0c+r3jqkcU/5h99k6ZBzj88bCIzFzjVP4enV8oyxN0//yH99nXg5D8qOpLLf0jtP5kqGJXUifQ/c9cS8kHP/D+/DpwzojQEQIEmwoanVwxA4lgXt9HgE0BSSZ2AJuIbQAMJih9jjiNA5q4l5INuK0AwTKYKRj0zQNv5fmq8/DpAaCJseHrtQkB/+zpwzoxKQM3MzMzMeFJAZmZmZmZqWEAAAAAAAFxeQM3MzMzMJmJAmpmZmZkfZUBmZmZmZhhoQDMzMzMzEWtAAAAAAAAKbkBmZmZmZoFwQM3MzMzM/XFAMzMzMzN6c0CamZmZmfZ0QAAAAAAAc3ZAZmZmZmbvd0DNzMzMzGt5QDMzMzMz6HpAmpmZmZlkfEAAAAAAAOF9QGZmZmZmXX9AZmZmZuZsgECamZmZGSuBQM3MzMxM6YFAAAAAAICngkAzMzMzs2WDQGZmZmbmI4RAmpmZmRnihEDNzMzMTKCFQAAAAACAXoZAMzMzM7Mch0BmZmZm5tqHQJqZmZkZmYhAzczMzExXiUAAAAAAgBWKQDMzMzOz04pAZmZmZuaRi0CamZmZGVCMQM3MzMxMDo1AAAAAAIDMjUAzMzMzs4qOQGZmZmbmSI9A\",\"dtype\":\"float64\",\"shape\":[75]}},\"selected\":{\"id\":\"2ae81384-f95e-4ec1-bf77-f2e6f195ddc7\",\"type\":\"Selection\"},\"selection_policy\":{\"id\":\"fb29319c-f361-4424-b620-cedd53556ac4\",\"type\":\"UnionRenderers\"}},\"id\":\"21e7bd0c-f355-4ca6-bb97-ba9cf0e462f1\",\"type\":\"ColumnDataSource\"},{\"attributes\":{\"callback\":null,\"end\":0.01,\"start\":1020},\"id\":\"aa7891e0-e29b-4a6a-b436-200a9dfada46\",\"type\":\"Range1d\"},{\"attributes\":{\"line_alpha\":0.1,\"line_color\":\"#1f77b4\",\"line_width\":3,\"x\":{\"field\":\"x\"},\"y\":{\"field\":\"y\"}},\"id\":\"a4fd424e-db90-4b27-997f-20b5aa028cbf\",\"type\":\"Line\"},{\"attributes\":{\"line_alpha\":0.6,\"line_color\":\"#984ea3\",\"line_width\":3,\"x\":{\"field\":\"x\"},\"y\":{\"field\":\"y\"}},\"id\":\"1ea86a09-3e8a-4163-8072-51cf79f00f5f\",\"type\":\"Line\"},{\"attributes\":{\"data_source\":{\"id\":\"21e7bd0c-f355-4ca6-bb97-ba9cf0e462f1\",\"type\":\"ColumnDataSource\"},\"glyph\":{\"id\":\"1ea86a09-3e8a-4163-8072-51cf79f00f5f\",\"type\":\"Line\"},\"hover_glyph\":null,\"muted_glyph\":null,\"nonselection_glyph\":{\"id\":\"a4fd424e-db90-4b27-997f-20b5aa028cbf\",\"type\":\"Line\"},\"selection_glyph\":null,\"view\":{\"id\":\"9b191a88-ed00-4b93-9549-3afbcb0e43f7\",\"type\":\"CDSView\"}},\"id\":\"34882c08-e92f-4389-a5ad-9b5e7bea0d9f\",\"type\":\"GlyphRenderer\"},{\"attributes\":{\"callback\":null,\"data\":{\"x\":{\"__ndarray__\":\"qRgWqqsXF797T5QLK8QWv3HH39dsBBa/RcD8A74yFb/JglznS1oUv6po3uJ7exO/t6fv15WWEr/TdpRV86sRv6vBJcTsuxC/8t9Uqt+ND7/sfELEo5oNvywfOqMGngu/lrOe+e6WCb88nZkIjFYHv6GNSQlMqv2+TTDBNl+z/j7Vi1zlDH4jP0dFky1+BzY/7Pm31EBlRD+9xBRAQ0xRP6+KWImX9Vs/0ZC0DpzpZT+7kYYOEoZvPyiC9xd6MnI/cPUjU7N/cT+YFRWw5ytwP45SEJsLxW0/CjQkY79raz9dFuuJok9pP/eSpDUP6mY/Bekv4qUVYz8awBMmkPpZPwMrE40zeUU//GWJ4WaGPL/YVlhepUNfv6nEBl2TjW6/ZQxVLNzEdb/JNVkxybl6v1d31rWQXH+/1OwCIJV7gb+taKeypdiBv6tVPPDY6IC/taeOnB9bf79n2Y6+Dd58v0N8mU3kZ3q/OvIJ31f6d785biOn8JV1vydu4IhRO3O/Qki6CMrrcL/cRaSnOVJtv6uHc8KA9Gi/GPfeWELJZL+m73SxKdNgv3RwuxfpE1q/3FDihwu/Ur/1JtJcHRxHv/H6LEEFvjG//9vZoMhAJT98iO+pZoBDP0qfHQKc3VA/TZs0AKkDWD+LxB5AYTVfP4NOvbNTOmM/O7duIrHfZj9FHrfSAYZqP8DeBdFoIG4/JMqgE7DIcD8+KQtOoVRyP0Gs/3YHn3M/3t/0vIindD8jxXQoWYN1P5A9YLUpS3Y/5i1/BwQPdz8BTd8P4dZ3P80HRg1Gpng/\",\"dtype\":\"float64\",\"shape\":[75]},\"y\":{\"__ndarray__\":\"GhExyth1ND/Sv8nbtpRIP2vylNV0PVE/aTum7souWD/At0SJ8fVgPw3Iuahxymc/MSNhhJWvcD/bTfBN02d3P2zb5nxnaoA/CD5h5MAGhz8NmeH1TyaQP+zrCsc9p5Y/LbKd76fGnz/bLW5ISEmmPww9YvTcQq8/JV2OstnstT8Er5Y7M8G+P0c+r3jqkcU/5h99k6ZBzj88bCIzFzjVP4enV8oyxN0//yH99nXg5D8qOpLLf0jtP5kqGJXUifQ/c9cS8kHP/D+/DpwzojQEQIEmwoanVwxA4lgXt9HgE0BSSZ2AJuIbQAMJih9jjiNA5q4l5INuK0AwTKYKRj0zQNv5fmq8/DpAaCJseHrtQkB/+zpwzoxKQM3MzMzMeFJAZmZmZmZqWEAAAAAAAFxeQM3MzMzMJmJAmpmZmZkfZUBmZmZmZhhoQDMzMzMzEWtAAAAAAAAKbkBmZmZmZoFwQM3MzMzM/XFAMzMzMzN6c0CamZmZmfZ0QAAAAAAAc3ZAZmZmZmbvd0DNzMzMzGt5QDMzMzMz6HpAmpmZmZlkfEAAAAAAAOF9QGZmZmZmXX9AZmZmZuZsgECamZmZGSuBQM3MzMxM6YFAAAAAAICngkAzMzMzs2WDQGZmZmbmI4RAmpmZmRnihEDNzMzMTKCFQAAAAACAXoZAMzMzM7Mch0BmZmZm5tqHQJqZmZkZmYhAzczMzExXiUAAAAAAgBWKQDMzMzOz04pAZmZmZuaRi0CamZmZGVCMQM3MzMxMDo1AAAAAAIDMjUAzMzMzs4qOQGZmZmbmSI9A\",\"dtype\":\"float64\",\"shape\":[75]}},\"selected\":{\"id\":\"1593a847-a57a-4d42-b8d8-e663f39d88ef\",\"type\":\"Selection\"},\"selection_policy\":{\"id\":\"7eb0baa5-8b0e-49ab-b5b9-167172f6139b\",\"type\":\"UnionRenderers\"}},\"id\":\"7cc502a5-81a8-4523-8de7-f8d9231d25b4\",\"type\":\"ColumnDataSource\"},{\"attributes\":{\"above\":[{\"id\":\"a7db9485-d616-4486-b8d6-29157fb9cfd1\",\"type\":\"Legend\"}],\"below\":[{\"id\":\"f7d576d6-dbb5-47c1-8c3a-190a09ca973a\",\"type\":\"LinearAxis\"}],\"left\":[{\"id\":\"8a86458e-4c06-4106-ae08-49ac9ebb9fcb\",\"type\":\"LinearAxis\"}],\"plot_height\":500,\"plot_width\":400,\"renderers\":[{\"id\":\"f7d576d6-dbb5-47c1-8c3a-190a09ca973a\",\"type\":\"LinearAxis\"},{\"id\":\"481cee19-07fc-4fd0-a6de-b94a0448f06a\",\"type\":\"Grid\"},{\"id\":\"8a86458e-4c06-4106-ae08-49ac9ebb9fcb\",\"type\":\"LinearAxis\"},{\"id\":\"6d5e0088-44c7-447e-9553-387ad90568c1\",\"type\":\"Grid\"},{\"id\":\"6053c7d9-abd9-473a-8642-34c12d315b85\",\"type\":\"BoxAnnotation\"},{\"id\":\"e0b91330-8984-4a91-a086-73246d800219\",\"type\":\"GlyphRenderer\"},{\"id\":\"559ecb1c-63d1-421f-b200-60a3f0db8c94\",\"type\":\"GlyphRenderer\"},{\"id\":\"4c5da704-d67d-4a07-92d6-11ac0a6621c2\",\"type\":\"GlyphRenderer\"},{\"id\":\"34882c08-e92f-4389-a5ad-9b5e7bea0d9f\",\"type\":\"GlyphRenderer\"},{\"id\":\"487c47df-4c53-46e0-9570-de05029df1e4\",\"type\":\"GlyphRenderer\"},{\"id\":\"a22a14b8-aa75-4fe0-aa96-0102a197e7b3\",\"type\":\"GlyphRenderer\"},{\"id\":\"a7db9485-d616-4486-b8d6-29157fb9cfd1\",\"type\":\"Legend\"}],\"title\":{\"id\":\"29dd0324-a5c8-4db4-88d4-6b70f3c3cee4\",\"type\":\"Title\"},\"toolbar\":{\"id\":\"ba2ac374-8c27-412a-a56c-cc58366897b5\",\"type\":\"Toolbar\"},\"toolbar_location\":null,\"x_range\":{\"id\":\"006ae054-5e54-47a7-b325-ebce742bdd89\",\"type\":\"Range1d\"},\"x_scale\":{\"id\":\"4a5c2604-230e-48e2-b09c-235ed85c15d7\",\"type\":\"LinearScale\"},\"y_range\":{\"id\":\"1277fb6d-1158-4d5c-8b62-784022ee84a9\",\"type\":\"Range1d\"},\"y_scale\":{\"id\":\"ad07a4b1-c8dd-4bf2-9d5e-5ef1c5687c92\",\"type\":\"LinearScale\"}},\"id\":\"9b5585ea-057e-445d-93d0-9b13682fde79\",\"subtype\":\"Figure\",\"type\":\"Plot\"},{\"attributes\":{\"fill_alpha\":{\"value\":0.1},\"fill_color\":{\"value\":\"#1f77b4\"},\"line_alpha\":{\"value\":0.1},\"line_color\":{\"value\":\"#1f77b4\"},\"x\":{\"field\":\"x\"},\"y\":{\"field\":\"y\"}},\"id\":\"59affdfd-7f29-461c-9de6-22cddab44c75\",\"type\":\"Square\"},{\"attributes\":{\"line_alpha\":0.1,\"line_color\":\"#1f77b4\",\"line_width\":1.5,\"x\":{\"field\":\"x\"},\"y\":{\"field\":\"y\"}},\"id\":\"307a70e4-3863-40b0-ad68-77b0f12ba9ea\",\"type\":\"Line\"},{\"attributes\":{\"data_source\":{\"id\":\"7cc502a5-81a8-4523-8de7-f8d9231d25b4\",\"type\":\"ColumnDataSource\"},\"glyph\":{\"id\":\"a59ed4b3-558c-41d3-8c5d-83ab70708b5a\",\"type\":\"Triangle\"},\"hover_glyph\":null,\"muted_glyph\":null,\"nonselection_glyph\":{\"id\":\"7be0d7af-174a-436b-90bf-396242a5db7e\",\"type\":\"Triangle\"},\"selection_glyph\":null,\"view\":{\"id\":\"e189c994-9b2e-4375-b2dd-377a0fe17f58\",\"type\":\"CDSView\"}},\"id\":\"487c47df-4c53-46e0-9570-de05029df1e4\",\"type\":\"GlyphRenderer\"},{\"attributes\":{\"fill_alpha\":{\"value\":0.1},\"fill_color\":{\"value\":\"#1f77b4\"},\"line_alpha\":{\"value\":0.1},\"line_color\":{\"value\":\"#1f77b4\"},\"x\":{\"field\":\"x\"},\"y\":{\"field\":\"y\"}},\"id\":\"7be0d7af-174a-436b-90bf-396242a5db7e\",\"type\":\"Triangle\"},{\"attributes\":{\"line_alpha\":0.1,\"line_color\":\"#1f77b4\",\"line_width\":2,\"x\":{\"field\":\"x\"},\"y\":{\"field\":\"y\"}},\"id\":\"f7ecd6ab-0e93-4bae-913a-76b475f015cc\",\"type\":\"Line\"},{\"attributes\":{\"source\":{\"id\":\"ce0c1876-bca6-4e72-a246-da54a981bc13\",\"type\":\"ColumnDataSource\"}},\"id\":\"47f246d2-4f63-4aa9-a3ac-8813756c91a0\",\"type\":\"CDSView\"},{\"attributes\":{\"source\":{\"id\":\"11fd7291-39b3-43bd-b068-75452a0e02ce\",\"type\":\"ColumnDataSource\"}},\"id\":\"fe8ce453-f7cd-4328-9636-240e26d5f5b4\",\"type\":\"CDSView\"},{\"attributes\":{\"data_source\":{\"id\":\"11fd7291-39b3-43bd-b068-75452a0e02ce\",\"type\":\"ColumnDataSource\"},\"glyph\":{\"id\":\"20ec407d-487e-4594-904a-9ee37877ef6f\",\"type\":\"Line\"},\"hover_glyph\":null,\"muted_glyph\":null,\"nonselection_glyph\":{\"id\":\"307a70e4-3863-40b0-ad68-77b0f12ba9ea\",\"type\":\"Line\"},\"selection_glyph\":null,\"view\":{\"id\":\"fe8ce453-f7cd-4328-9636-240e26d5f5b4\",\"type\":\"CDSView\"}},\"id\":\"559ecb1c-63d1-421f-b200-60a3f0db8c94\",\"type\":\"GlyphRenderer\"},{\"attributes\":{\"source\":{\"id\":\"7cc502a5-81a8-4523-8de7-f8d9231d25b4\",\"type\":\"ColumnDataSource\"}},\"id\":\"e189c994-9b2e-4375-b2dd-377a0fe17f58\",\"type\":\"CDSView\"},{\"attributes\":{\"fill_alpha\":{\"value\":0.7},\"fill_color\":{\"value\":\"#984ea3\"},\"line_alpha\":{\"value\":0.7},\"line_color\":{\"value\":\"#984ea3\"},\"x\":{\"field\":\"x\"},\"y\":{\"field\":\"y\"}},\"id\":\"07df1bad-0740-43b6-84c7-6c80abdf6b14\",\"type\":\"Square\"},{\"attributes\":{\"source\":{\"id\":\"21e7bd0c-f355-4ca6-bb97-ba9cf0e462f1\",\"type\":\"ColumnDataSource\"}},\"id\":\"9b191a88-ed00-4b93-9549-3afbcb0e43f7\",\"type\":\"CDSView\"},{\"attributes\":{\"above\":[{\"id\":\"3899e73d-abaa-4ff8-b22f-f3b5ceebd6a0\",\"type\":\"Legend\"}],\"below\":[{\"id\":\"5995b618-9527-4df8-ad91-8d5d4c3da8e5\",\"type\":\"LinearAxis\"}],\"left\":[{\"id\":\"9c5c0765-0135-4ecd-90d6-63d1107e53b7\",\"type\":\"LogAxis\"}],\"plot_height\":500,\"plot_width\":400,\"renderers\":[{\"id\":\"5995b618-9527-4df8-ad91-8d5d4c3da8e5\",\"type\":\"LinearAxis\"},{\"id\":\"44f7b01b-1d5c-45e4-9932-e79139197a6e\",\"type\":\"Grid\"},{\"id\":\"9c5c0765-0135-4ecd-90d6-63d1107e53b7\",\"type\":\"LogAxis\"},{\"id\":\"e077a499-0d02-4851-befc-299ed275b256\",\"type\":\"Grid\"},{\"id\":\"5aa7d327-3380-4665-940e-184940b3dada\",\"type\":\"BoxAnnotation\"},{\"id\":\"e54b259a-2ed4-4591-86d4-f1850707f134\",\"type\":\"GlyphRenderer\"},{\"id\":\"76757c7c-4422-428c-8581-0d1925547926\",\"type\":\"GlyphRenderer\"},{\"id\":\"460fe060-3a17-41f4-9541-3cb8bdcaae72\",\"type\":\"GlyphRenderer\"},{\"id\":\"6830cc46-c31a-4f08-be56-1560d3c732c7\",\"type\":\"GlyphRenderer\"},{\"id\":\"3b8086c2-74c7-44c1-8d55-075a89a6e948\",\"type\":\"GlyphRenderer\"},{\"id\":\"18b5524d-cc96-4113-97b6-9f3ae65abcfa\",\"type\":\"GlyphRenderer\"},{\"id\":\"3899e73d-abaa-4ff8-b22f-f3b5ceebd6a0\",\"type\":\"Legend\"}],\"title\":{\"id\":\"ad3431c7-abd1-45af-9daa-5ae437593d3b\",\"type\":\"Title\"},\"toolbar\":{\"id\":\"555b0e45-a384-438b-859e-ddfb9ef67eb6\",\"type\":\"Toolbar\"},\"toolbar_location\":null,\"x_range\":{\"id\":\"4b12eb4f-8702-4d37-aa44-bb77c1108a02\",\"type\":\"Range1d\"},\"x_scale\":{\"id\":\"c8b9ad82-dca7-4aab-81f5-1fb524cd6eaf\",\"type\":\"LinearScale\"},\"y_range\":{\"id\":\"aa7891e0-e29b-4a6a-b436-200a9dfada46\",\"type\":\"Range1d\"},\"y_scale\":{\"id\":\"df8ee3b7-b4bf-4251-8e8f-d8c4f0c085c9\",\"type\":\"LogScale\"}},\"id\":\"b9093e43-aebb-47df-ab77-b49f21d99da2\",\"subtype\":\"Figure\",\"type\":\"Plot\"},{\"attributes\":{\"data_source\":{\"id\":\"699976e0-295f-44eb-9af6-8fcce0f3da16\",\"type\":\"ColumnDataSource\"},\"glyph\":{\"id\":\"07df1bad-0740-43b6-84c7-6c80abdf6b14\",\"type\":\"Square\"},\"hover_glyph\":null,\"muted_glyph\":null,\"nonselection_glyph\":{\"id\":\"59affdfd-7f29-461c-9de6-22cddab44c75\",\"type\":\"Square\"},\"selection_glyph\":null,\"view\":{\"id\":\"23fdf0ed-a113-4fb2-8a05-f59b8ca69cbb\",\"type\":\"CDSView\"}},\"id\":\"4c5da704-d67d-4a07-92d6-11ac0a6621c2\",\"type\":\"GlyphRenderer\"},{\"attributes\":{\"callback\":null,\"data\":{\"x\":{\"__ndarray__\":\"tjuBFVCnFb/AINSR6jwVv+VWKSsDTBS/NoilFm5EE7/SRlkY8zMSv4KObozMGhG/t8rJIuzxD78RWFOvwpwNv5sxXKypNQu/Uw3LHfm7CL9R35bASC4Gv8B3spqPiQO/fE68KrbIAL8AxOdIR1r7vrTNP3bIMNa+rUrve+RjET/PapUhDfUrP9zfYsf7/zw/qC99fO7rST/CLLOXlJNVP7fO1vlrPWE/oIk6+GzSaj/l4ugcjjZzP5sC4rwbLnY/iqlZiNNndT/QcQ3qXedzP5Ru7peme3I/i0o6cC0fcT9F2D7N2gBwP8cvA2hwaG0/5a/M9yU9aT/AZAlAmnBiP5kOlFEp2lM/o/S56zXY5T7hrV/noO9Zvz6PhbRDjWy/1lszlDu1dL/+Yo5TaGh5v9Wh8m7u6H2/JauigHS/gL+qWr+STAuBv2mXvOej+H+/U8HjBjxjfb+daYfdxeR6v418zyGYfni/NmN6Bnkrdr+/J59t2OdzvyI1P8++sXG/OASVmVwRb7+Qg/FX8dtqvydVjSxB0Ga/FCZv7BD5Yr+GSfeGybNev1cjaosz0le/dpADKcstUb+GBSHUjlVFv7z0LJHW2zC/GVFSObbXIT8pKBLFGGZBP+ms7oTPbU4/n8+MNvHLVT+J2cIgZndcP+Pz16OonmE/45glNFsPZT/7J/VySopoP41Xu05sA2w/WCnMWWlbbz8+G/lA0i5xP5nYof6YbXI/BluEXARqcz8hw+bAyzx0P+UY5AWMAnU/IFbP71rOdT9Q60NAwap2PzmcSh0coHc/\",\"dtype\":\"float64\",\"shape\":[75]},\"y\":{\"__ndarray__\":\"GhExyth1ND/Sv8nbtpRIP2vylNV0PVE/aTum7souWD/At0SJ8fVgPw3Iuahxymc/MSNhhJWvcD/bTfBN02d3P2zb5nxnaoA/CD5h5MAGhz8NmeH1TyaQP+zrCsc9p5Y/LbKd76fGnz/bLW5ISEmmPww9YvTcQq8/JV2OstnstT8Er5Y7M8G+P0c+r3jqkcU/5h99k6ZBzj88bCIzFzjVP4enV8oyxN0//yH99nXg5D8qOpLLf0jtP5kqGJXUifQ/c9cS8kHP/D+/DpwzojQEQIEmwoanVwxA4lgXt9HgE0BSSZ2AJuIbQAMJih9jjiNA5q4l5INuK0AwTKYKRj0zQNv5fmq8/DpAaCJseHrtQkB/+zpwzoxKQM3MzMzMeFJAZmZmZmZqWEAAAAAAAFxeQM3MzMzMJmJAmpmZmZkfZUBmZmZmZhhoQDMzMzMzEWtAAAAAAAAKbkBmZmZmZoFwQM3MzMzM/XFAMzMzMzN6c0CamZmZmfZ0QAAAAAAAc3ZAZmZmZmbvd0DNzMzMzGt5QDMzMzMz6HpAmpmZmZlkfEAAAAAAAOF9QGZmZmZmXX9AZmZmZuZsgECamZmZGSuBQM3MzMxM6YFAAAAAAICngkAzMzMzs2WDQGZmZmbmI4RAmpmZmRnihEDNzMzMTKCFQAAAAACAXoZAMzMzM7Mch0BmZmZm5tqHQJqZmZkZmYhAzczMzExXiUAAAAAAgBWKQDMzMzOz04pAZmZmZuaRi0CamZmZGVCMQM3MzMxMDo1AAAAAAIDMjUAzMzMzs4qOQGZmZmbmSI9A\",\"dtype\":\"float64\",\"shape\":[75]}},\"selected\":{\"id\":\"cfff4299-2c08-4499-b0f4-c2e07a452d2a\",\"type\":\"Selection\"},\"selection_policy\":{\"id\":\"bbc8f2b2-3c86-4d7c-94dd-4fb0a3a64a16\",\"type\":\"UnionRenderers\"}},\"id\":\"699976e0-295f-44eb-9af6-8fcce0f3da16\",\"type\":\"ColumnDataSource\"},{\"attributes\":{\"line_alpha\":0.3,\"line_color\":\"#377eb8\",\"line_width\":2,\"x\":{\"field\":\"x\"},\"y\":{\"field\":\"y\"}},\"id\":\"f34ac2cd-f573-4998-9eed-73b0cd2d0030\",\"type\":\"Line\"},{\"attributes\":{\"source\":{\"id\":\"265b0b62-31d5-4f7e-9b5d-1ff13138566b\",\"type\":\"ColumnDataSource\"}},\"id\":\"969d6d44-9b75-4457-8f70-7076b56cb780\",\"type\":\"CDSView\"},{\"attributes\":{\"num_minor_ticks\":10},\"id\":\"b3f9e109-b6a8-461a-9bb1-91757532566d\",\"type\":\"LogTicker\"},{\"attributes\":{\"line_color\":\"#4daf4a\",\"line_width\":1.5,\"x\":{\"field\":\"x\"},\"y\":{\"field\":\"y\"}},\"id\":\"20ec407d-487e-4594-904a-9ee37877ef6f\",\"type\":\"Line\"},{\"attributes\":{\"callback\":null,\"data\":{\"x\":{\"__ndarray__\":\"qRgWqqsXF797T5QLK8QWv3HH39dsBBa/RcD8A74yFb/JglznS1oUv6po3uJ7exO/t6fv15WWEr/TdpRV86sRv6vBJcTsuxC/8t9Uqt+ND7/sfELEo5oNvywfOqMGngu/lrOe+e6WCb88nZkIjFYHv6GNSQlMqv2+TTDBNl+z/j7Vi1zlDH4jP0dFky1+BzY/7Pm31EBlRD+9xBRAQ0xRP6+KWImX9Vs/0ZC0DpzpZT+7kYYOEoZvPyiC9xd6MnI/cPUjU7N/cT+YFRWw5ytwP45SEJsLxW0/CjQkY79raz9dFuuJok9pP/eSpDUP6mY/Bekv4qUVYz8awBMmkPpZPwMrE40zeUU//GWJ4WaGPL/YVlhepUNfv6nEBl2TjW6/ZQxVLNzEdb/JNVkxybl6v1d31rWQXH+/1OwCIJV7gb+taKeypdiBv6tVPPDY6IC/taeOnB9bf79n2Y6+Dd58v0N8mU3kZ3q/OvIJ31f6d785biOn8JV1vydu4IhRO3O/Qki6CMrrcL/cRaSnOVJtv6uHc8KA9Gi/GPfeWELJZL+m73SxKdNgv3RwuxfpE1q/3FDihwu/Ur/1JtJcHRxHv/H6LEEFvjG//9vZoMhAJT98iO+pZoBDP0qfHQKc3VA/TZs0AKkDWD+LxB5AYTVfP4NOvbNTOmM/O7duIrHfZj9FHrfSAYZqP8DeBdFoIG4/JMqgE7DIcD8+KQtOoVRyP0Gs/3YHn3M/3t/0vIindD8jxXQoWYN1P5A9YLUpS3Y/5i1/BwQPdz8BTd8P4dZ3P80HRg1Gpng/\",\"dtype\":\"float64\",\"shape\":[75]},\"y\":{\"__ndarray__\":\"GhExyth1ND/Sv8nbtpRIP2vylNV0PVE/aTum7souWD/At0SJ8fVgPw3Iuahxymc/MSNhhJWvcD/bTfBN02d3P2zb5nxnaoA/CD5h5MAGhz8NmeH1TyaQP+zrCsc9p5Y/LbKd76fGnz/bLW5ISEmmPww9YvTcQq8/JV2OstnstT8Er5Y7M8G+P0c+r3jqkcU/5h99k6ZBzj88bCIzFzjVP4enV8oyxN0//yH99nXg5D8qOpLLf0jtP5kqGJXUifQ/c9cS8kHP/D+/DpwzojQEQIEmwoanVwxA4lgXt9HgE0BSSZ2AJuIbQAMJih9jjiNA5q4l5INuK0AwTKYKRj0zQNv5fmq8/DpAaCJseHrtQkB/+zpwzoxKQM3MzMzMeFJAZmZmZmZqWEAAAAAAAFxeQM3MzMzMJmJAmpmZmZkfZUBmZmZmZhhoQDMzMzMzEWtAAAAAAAAKbkBmZmZmZoFwQM3MzMzM/XFAMzMzMzN6c0CamZmZmfZ0QAAAAAAAc3ZAZmZmZmbvd0DNzMzMzGt5QDMzMzMz6HpAmpmZmZlkfEAAAAAAAOF9QGZmZmZmXX9AZmZmZuZsgECamZmZGSuBQM3MzMxM6YFAAAAAAICngkAzMzMzs2WDQGZmZmbmI4RAmpmZmRnihEDNzMzMTKCFQAAAAACAXoZAMzMzM7Mch0BmZmZm5tqHQJqZmZkZmYhAzczMzExXiUAAAAAAgBWKQDMzMzOz04pAZmZmZuaRi0CamZmZGVCMQM3MzMxMDo1AAAAAAIDMjUAzMzMzs4qOQGZmZmbmSI9A\",\"dtype\":\"float64\",\"shape\":[75]}},\"selected\":{\"id\":\"2894eb64-8b02-45a6-ae83-ceec4e8869c9\",\"type\":\"Selection\"},\"selection_policy\":{\"id\":\"a76f4e8f-7767-4e83-8850-ea58d2b7f648\",\"type\":\"UnionRenderers\"}},\"id\":\"265b0b62-31d5-4f7e-9b5d-1ff13138566b\",\"type\":\"ColumnDataSource\"},{\"attributes\":{\"fill_alpha\":{\"value\":0.7},\"fill_color\":{\"value\":\"#377eb8\"},\"line_alpha\":{\"value\":0.7},\"line_color\":{\"value\":\"#377eb8\"},\"x\":{\"field\":\"x\"},\"y\":{\"field\":\"y\"}},\"id\":\"a59ed4b3-558c-41d3-8c5d-83ab70708b5a\",\"type\":\"Triangle\"},{\"attributes\":{\"source\":{\"id\":\"699976e0-295f-44eb-9af6-8fcce0f3da16\",\"type\":\"ColumnDataSource\"}},\"id\":\"23fdf0ed-a113-4fb2-8a05-f59b8ca69cbb\",\"type\":\"CDSView\"},{\"attributes\":{\"data_source\":{\"id\":\"265b0b62-31d5-4f7e-9b5d-1ff13138566b\",\"type\":\"ColumnDataSource\"},\"glyph\":{\"id\":\"f34ac2cd-f573-4998-9eed-73b0cd2d0030\",\"type\":\"Line\"},\"hover_glyph\":null,\"muted_glyph\":null,\"nonselection_glyph\":{\"id\":\"f7ecd6ab-0e93-4bae-913a-76b475f015cc\",\"type\":\"Line\"},\"selection_glyph\":null,\"view\":{\"id\":\"969d6d44-9b75-4457-8f70-7076b56cb780\",\"type\":\"CDSView\"}},\"id\":\"a22a14b8-aa75-4fe0-aa96-0102a197e7b3\",\"type\":\"GlyphRenderer\"},{\"attributes\":{\"label\":{\"value\":\"CRD\"},\"renderers\":[{\"id\":\"e0b91330-8984-4a91-a086-73246d800219\",\"type\":\"GlyphRenderer\"},{\"id\":\"559ecb1c-63d1-421f-b200-60a3f0db8c94\",\"type\":\"GlyphRenderer\"}]},\"id\":\"8c66b6f5-e0ab-4664-b739-10d4964d1d73\",\"type\":\"LegendItem\"},{\"attributes\":{\"active_drag\":\"auto\",\"active_inspect\":\"auto\",\"active_scroll\":\"auto\",\"active_tap\":\"auto\",\"tools\":[{\"id\":\"2d9fecd7-f0ec-4d93-a289-4095ac8300f6\",\"type\":\"PanTool\"},{\"id\":\"d98a9f31-19d2-4fb4-81d4-41e2fcea0bdc\",\"type\":\"WheelZoomTool\"},{\"id\":\"22882897-972d-4ff5-8778-adbbf091204c\",\"type\":\"BoxZoomTool\"},{\"id\":\"be1b727b-7117-45ce-a7ab-a179f67267f4\",\"type\":\"SaveTool\"},{\"id\":\"051a1d83-f670-4407-9fdd-cb1819fbde11\",\"type\":\"ResetTool\"},{\"id\":\"765c2a01-2d78-4d4c-976a-d4fe548f5e3e\",\"type\":\"HelpTool\"}]},\"id\":\"555b0e45-a384-438b-859e-ddfb9ef67eb6\",\"type\":\"Toolbar\"},{\"attributes\":{},\"id\":\"7eb0baa5-8b0e-49ab-b5b9-167172f6139b\",\"type\":\"UnionRenderers\"},{\"attributes\":{\"label\":{\"value\":\"WGT igg=1\"},\"renderers\":[{\"id\":\"4c5da704-d67d-4a07-92d6-11ac0a6621c2\",\"type\":\"GlyphRenderer\"},{\"id\":\"34882c08-e92f-4389-a5ad-9b5e7bea0d9f\",\"type\":\"GlyphRenderer\"}]},\"id\":\"70722a27-36d8-4da9-82a0-14f30af99389\",\"type\":\"LegendItem\"},{\"attributes\":{\"label\":{\"value\":\"WGT igg=10\"},\"renderers\":[{\"id\":\"487c47df-4c53-46e0-9570-de05029df1e4\",\"type\":\"GlyphRenderer\"},{\"id\":\"a22a14b8-aa75-4fe0-aa96-0102a197e7b3\",\"type\":\"GlyphRenderer\"}]},\"id\":\"fc5647ef-c7e1-46e3-8e4c-f7c8dd993d40\",\"type\":\"LegendItem\"},{\"attributes\":{},\"id\":\"2d9fecd7-f0ec-4d93-a289-4095ac8300f6\",\"type\":\"PanTool\"},{\"attributes\":{\"children\":[{\"id\":\"de29b987-2fbd-496c-a025-173083f52332\",\"type\":\"Row\"}]},\"id\":\"880ed4c4-490b-4686-a3c9-1d80ab2db81d\",\"type\":\"Column\"},{\"attributes\":{\"data_source\":{\"id\":\"ce0c1876-bca6-4e72-a246-da54a981bc13\",\"type\":\"ColumnDataSource\"},\"glyph\":{\"id\":\"99a2494f-0e7a-4147-bbd1-cf53c8eb9360\",\"type\":\"Circle\"},\"hover_glyph\":null,\"muted_glyph\":null,\"nonselection_glyph\":{\"id\":\"843911c3-d995-4e3c-b436-1d37c51706e0\",\"type\":\"Circle\"},\"selection_glyph\":null,\"view\":{\"id\":\"47f246d2-4f63-4aa9-a3ac-8813756c91a0\",\"type\":\"CDSView\"}},\"id\":\"e0b91330-8984-4a91-a086-73246d800219\",\"type\":\"GlyphRenderer\"},{\"attributes\":{\"axis_label\":\"pressure [mb]\",\"formatter\":{\"id\":\"4c500fde-66da-49c0-9372-2a263780e48c\",\"type\":\"LogTickFormatter\"},\"plot\":{\"id\":\"b9093e43-aebb-47df-ab77-b49f21d99da2\",\"subtype\":\"Figure\",\"type\":\"Plot\"},\"ticker\":{\"id\":\"b3f9e109-b6a8-461a-9bb1-91757532566d\",\"type\":\"LogTicker\"}},\"id\":\"9c5c0765-0135-4ecd-90d6-63d1107e53b7\",\"type\":\"LogAxis\"},{\"attributes\":{},\"id\":\"2ae81384-f95e-4ec1-bf77-f2e6f195ddc7\",\"type\":\"Selection\"},{\"attributes\":{\"bottom_units\":\"screen\",\"fill_alpha\":{\"value\":0.5},\"fill_color\":{\"value\":\"lightgrey\"},\"left_units\":\"screen\",\"level\":\"overlay\",\"line_alpha\":{\"value\":1.0},\"line_color\":{\"value\":\"black\"},\"line_dash\":[4,4],\"line_width\":{\"value\":2},\"plot\":null,\"render_mode\":\"css\",\"right_units\":\"screen\",\"top_units\":\"screen\"},\"id\":\"5aa7d327-3380-4665-940e-184940b3dada\",\"type\":\"BoxAnnotation\"},{\"attributes\":{\"callback\":null,\"data\":{\"x\":{\"__ndarray__\":\"oSxt89NdRr891sVQL2VGv3ByHRT/U0a/Tr6i7FM3Rr+d8F0FGxBGvwHK33SE8EW/jxfWXynPRb9yelW5rKtFvywJdC/QhUW/vDMgL3FdRb+WnMejAzJFv/qEH2UTA0W/g/PJNszPRL/gXMJGFJNEv1TkY3f2y0O/Ehqv4zkHQb/CyulrgaU1v4ELSZlkYOq+ddndXTs/QD8xm6p5GilVPymbjpGHnWQ/ALIHh5TncT8hMz3I/jd7P0VMIBzg/38/J2NByA72fj/nJeQaljN9PwBLdgGy/Xs/zhvzbq87ez/y77v6VLR6P7gr+THNyHk/HgTuT1pedz9Y5PEalutyP9iru3Vfzms/hfyc1LGwYj/lpmRjBTBQP2rOLyiHxD+/apis0fz/Wb8Ql5zSOpxjv0l7UIfGcGy/FH0gKw/Bcr9gwuNBDBJ0v7NlqnQ4OXK/NtySII1fcL/IXroMqeltvyLR4g0rg2u/owNyx6tMab8htHFPliRnv2PEaBMs+WS/ec+OxuvCYr9M5SHWUYNgv059YpW5lly/IkBlNxVbWL8KIkeFtWJUv9XjGdjMmFC/A6kSUHyqSb+Ff5M4TetBv4pLRg5ilDO/BLljBvrSAr/Nt8hjDvMvPwFWJpYYwUE/JiKg768wTD9d/2yzyq9TP8pQHqA3sVk/t3L4YdIRYD+4JAk2tYJjP5F3i5pIHWc/U4zgeN+1aj/vjRr9M/1tP7wPehWdVXA/C/0si4tgcT+aGB9im0ZyP7QIuCzONHM/ZPkhFG5JdD9o2e4wOph1P2FzI6cVOHc/\",\"dtype\":\"float64\",\"shape\":[75]},\"y\":{\"__ndarray__\":\"GhExyth1ND/Sv8nbtpRIP2vylNV0PVE/aTum7souWD/At0SJ8fVgPw3Iuahxymc/MSNhhJWvcD/bTfBN02d3P2zb5nxnaoA/CD5h5MAGhz8NmeH1TyaQP+zrCsc9p5Y/LbKd76fGnz/bLW5ISEmmPww9YvTcQq8/JV2OstnstT8Er5Y7M8G+P0c+r3jqkcU/5h99k6ZBzj88bCIzFzjVP4enV8oyxN0//yH99nXg5D8qOpLLf0jtP5kqGJXUifQ/c9cS8kHP/D+/DpwzojQEQIEmwoanVwxA4lgXt9HgE0BSSZ2AJuIbQAMJih9jjiNA5q4l5INuK0AwTKYKRj0zQNv5fmq8/DpAaCJseHrtQkB/+zpwzoxKQM3MzMzMeFJAZmZmZmZqWEAAAAAAAFxeQM3MzMzMJmJAmpmZmZkfZUBmZmZmZhhoQDMzMzMzEWtAAAAAAAAKbkBmZmZmZoFwQM3MzMzM/XFAMzMzMzN6c0CamZmZmfZ0QAAAAAAAc3ZAZmZmZmbvd0DNzMzMzGt5QDMzMzMz6HpAmpmZmZlkfEAAAAAAAOF9QGZmZmZmXX9AZmZmZuZsgECamZmZGSuBQM3MzMxM6YFAAAAAAICngkAzMzMzs2WDQGZmZmbmI4RAmpmZmRnihEDNzMzMTKCFQAAAAACAXoZAMzMzM7Mch0BmZmZm5tqHQJqZmZkZmYhAzczMzExXiUAAAAAAgBWKQDMzMzOz04pAZmZmZuaRi0CamZmZGVCMQM3MzMxMDo1AAAAAAIDMjUAzMzMzs4qOQGZmZmbmSI9A\",\"dtype\":\"float64\",\"shape\":[75]}},\"selected\":{\"id\":\"0109a317-1618-48f8-847f-f643c80ca147\",\"type\":\"Selection\"},\"selection_policy\":{\"id\":\"54d900f4-fa2a-4d8c-a1cd-99369e2587e9\",\"type\":\"UnionRenderers\"}},\"id\":\"11fd7291-39b3-43bd-b068-75452a0e02ce\",\"type\":\"ColumnDataSource\"},{\"attributes\":{\"bottom_units\":\"screen\",\"fill_alpha\":{\"value\":0.5},\"fill_color\":{\"value\":\"lightgrey\"},\"left_units\":\"screen\",\"level\":\"overlay\",\"line_alpha\":{\"value\":1.0},\"line_color\":{\"value\":\"black\"},\"line_dash\":[4,4],\"line_width\":{\"value\":2},\"plot\":null,\"render_mode\":\"css\",\"right_units\":\"screen\",\"top_units\":\"screen\"},\"id\":\"6053c7d9-abd9-473a-8642-34c12d315b85\",\"type\":\"BoxAnnotation\"},{\"attributes\":{},\"id\":\"d98a9f31-19d2-4fb4-81d4-41e2fcea0bdc\",\"type\":\"WheelZoomTool\"},{\"attributes\":{\"overlay\":{\"id\":\"5aa7d327-3380-4665-940e-184940b3dada\",\"type\":\"BoxAnnotation\"}},\"id\":\"22882897-972d-4ff5-8778-adbbf091204c\",\"type\":\"BoxZoomTool\"},{\"attributes\":{\"dimension\":1,\"plot\":{\"id\":\"b9093e43-aebb-47df-ab77-b49f21d99da2\",\"subtype\":\"Figure\",\"type\":\"Plot\"},\"ticker\":{\"id\":\"b3f9e109-b6a8-461a-9bb1-91757532566d\",\"type\":\"LogTicker\"}},\"id\":\"e077a499-0d02-4851-befc-299ed275b256\",\"type\":\"Grid\"},{\"attributes\":{},\"id\":\"be1b727b-7117-45ce-a7ab-a179f67267f4\",\"type\":\"SaveTool\"},{\"attributes\":{},\"id\":\"051a1d83-f670-4407-9fdd-cb1819fbde11\",\"type\":\"ResetTool\"},{\"attributes\":{},\"id\":\"765c2a01-2d78-4d4c-976a-d4fe548f5e3e\",\"type\":\"HelpTool\"},{\"attributes\":{},\"id\":\"1593a847-a57a-4d42-b8d8-e663f39d88ef\",\"type\":\"Selection\"},{\"attributes\":{\"callback\":null,\"data\":{\"x\":{\"__ndarray__\":\"oSxt89NdRr891sVQL2VGv3ByHRT/U0a/Tr6i7FM3Rr+d8F0FGxBGvwHK33SE8EW/jxfWXynPRb9yelW5rKtFvywJdC/QhUW/vDMgL3FdRb+WnMejAzJFv/qEH2UTA0W/g/PJNszPRL/gXMJGFJNEv1TkY3f2y0O/Ehqv4zkHQb/CyulrgaU1v4ELSZlkYOq+ddndXTs/QD8xm6p5GilVPymbjpGHnWQ/ALIHh5TncT8hMz3I/jd7P0VMIBzg/38/J2NByA72fj/nJeQaljN9PwBLdgGy/Xs/zhvzbq87ez/y77v6VLR6P7gr+THNyHk/HgTuT1pedz9Y5PEalutyP9iru3Vfzms/hfyc1LGwYj/lpmRjBTBQP2rOLyiHxD+/apis0fz/Wb8Ql5zSOpxjv0l7UIfGcGy/FH0gKw/Bcr9gwuNBDBJ0v7NlqnQ4OXK/NtySII1fcL/IXroMqeltvyLR4g0rg2u/owNyx6tMab8htHFPliRnv2PEaBMs+WS/ec+OxuvCYr9M5SHWUYNgv059YpW5lly/IkBlNxVbWL8KIkeFtWJUv9XjGdjMmFC/A6kSUHyqSb+Ff5M4TetBv4pLRg5ilDO/BLljBvrSAr/Nt8hjDvMvPwFWJpYYwUE/JiKg768wTD9d/2yzyq9TP8pQHqA3sVk/t3L4YdIRYD+4JAk2tYJjP5F3i5pIHWc/U4zgeN+1aj/vjRr9M/1tP7wPehWdVXA/C/0si4tgcT+aGB9im0ZyP7QIuCzONHM/ZPkhFG5JdD9o2e4wOph1P2FzI6cVOHc/\",\"dtype\":\"float64\",\"shape\":[75]},\"y\":{\"__ndarray__\":\"GhExyth1ND/Sv8nbtpRIP2vylNV0PVE/aTum7souWD/At0SJ8fVgPw3Iuahxymc/MSNhhJWvcD/bTfBN02d3P2zb5nxnaoA/CD5h5MAGhz8NmeH1TyaQP+zrCsc9p5Y/LbKd76fGnz/bLW5ISEmmPww9YvTcQq8/JV2OstnstT8Er5Y7M8G+P0c+r3jqkcU/5h99k6ZBzj88bCIzFzjVP4enV8oyxN0//yH99nXg5D8qOpLLf0jtP5kqGJXUifQ/c9cS8kHP/D+/DpwzojQEQIEmwoanVwxA4lgXt9HgE0BSSZ2AJuIbQAMJih9jjiNA5q4l5INuK0AwTKYKRj0zQNv5fmq8/DpAaCJseHrtQkB/+zpwzoxKQM3MzMzMeFJAZmZmZmZqWEAAAAAAAFxeQM3MzMzMJmJAmpmZmZkfZUBmZmZmZhhoQDMzMzMzEWtAAAAAAAAKbkBmZmZmZoFwQM3MzMzM/XFAMzMzMzN6c0CamZmZmfZ0QAAAAAAAc3ZAZmZmZmbvd0DNzMzMzGt5QDMzMzMz6HpAmpmZmZlkfEAAAAAAAOF9QGZmZmZmXX9AZmZmZuZsgECamZmZGSuBQM3MzMxM6YFAAAAAAICngkAzMzMzs2WDQGZmZmbmI4RAmpmZmRnihEDNzMzMTKCFQAAAAACAXoZAMzMzM7Mch0BmZmZm5tqHQJqZmZkZmYhAzczMzExXiUAAAAAAgBWKQDMzMzOz04pAZmZmZuaRi0CamZmZGVCMQM3MzMxMDo1AAAAAAIDMjUAzMzMzs4qOQGZmZmbmSI9A\",\"dtype\":\"float64\",\"shape\":[75]}},\"selected\":{\"id\":\"d22a5bed-1fde-468f-9c9f-f3276068d3d2\",\"type\":\"Selection\"},\"selection_policy\":{\"id\":\"b917fe17-e13f-4d6e-8670-0c8854c43196\",\"type\":\"UnionRenderers\"}},\"id\":\"7062676c-47b2-4b31-aad7-056a0d774276\",\"type\":\"ColumnDataSource\"},{\"attributes\":{\"items\":[{\"id\":\"75ee5dda-6e3f-45c2-8a93-49b8d04940c8\",\"type\":\"LegendItem\"},{\"id\":\"0ea5963e-8221-467d-b5af-bf6fcbaa386b\",\"type\":\"LegendItem\"},{\"id\":\"a3f7e640-7f50-43a2-9c30-2b8f7876409b\",\"type\":\"LegendItem\"}],\"label_text_font_size\":{\"value\":\"8pt\"},\"location\":\"top_center\",\"orientation\":\"horizontal\",\"plot\":{\"id\":\"b9093e43-aebb-47df-ab77-b49f21d99da2\",\"subtype\":\"Figure\",\"type\":\"Plot\"}},\"id\":\"3899e73d-abaa-4ff8-b22f-f3b5ceebd6a0\",\"type\":\"Legend\"},{\"attributes\":{},\"id\":\"8ad64b7f-5783-48f6-a825-8f321232a0c8\",\"type\":\"ResetTool\"},{\"attributes\":{\"dimension\":1,\"plot\":{\"id\":\"9b5585ea-057e-445d-93d0-9b13682fde79\",\"subtype\":\"Figure\",\"type\":\"Plot\"},\"ticker\":{\"id\":\"e5c513c0-2ea6-4da2-a24b-d119555db356\",\"type\":\"BasicTicker\"}},\"id\":\"6d5e0088-44c7-447e-9553-387ad90568c1\",\"type\":\"Grid\"},{\"attributes\":{},\"id\":\"e5c513c0-2ea6-4da2-a24b-d119555db356\",\"type\":\"BasicTicker\"},{\"attributes\":{},\"id\":\"0f1be0ba-98ac-4a5a-bb99-9d4069d9c599\",\"type\":\"SaveTool\"},{\"attributes\":{\"overlay\":{\"id\":\"6053c7d9-abd9-473a-8642-34c12d315b85\",\"type\":\"BoxAnnotation\"}},\"id\":\"a0b2a7d9-b51c-4213-9ea0-5420efe8d0ac\",\"type\":\"BoxZoomTool\"},{\"attributes\":{},\"id\":\"ac6ed8fb-58f7-419a-affd-8c2c983f9d8c\",\"type\":\"WheelZoomTool\"},{\"attributes\":{},\"id\":\"c8b9ad82-dca7-4aab-81f5-1fb524cd6eaf\",\"type\":\"LinearScale\"},{\"attributes\":{},\"id\":\"fed6d0fd-cd9f-4109-af26-ad7b891e038e\",\"type\":\"HelpTool\"},{\"attributes\":{},\"id\":\"81e5df9d-1413-43d0-b48b-64931bf4f2c1\",\"type\":\"PanTool\"},{\"attributes\":{\"active_drag\":\"auto\",\"active_inspect\":\"auto\",\"active_scroll\":\"auto\",\"active_tap\":\"auto\",\"tools\":[{\"id\":\"81e5df9d-1413-43d0-b48b-64931bf4f2c1\",\"type\":\"PanTool\"},{\"id\":\"ac6ed8fb-58f7-419a-affd-8c2c983f9d8c\",\"type\":\"WheelZoomTool\"},{\"id\":\"a0b2a7d9-b51c-4213-9ea0-5420efe8d0ac\",\"type\":\"BoxZoomTool\"},{\"id\":\"0f1be0ba-98ac-4a5a-bb99-9d4069d9c599\",\"type\":\"SaveTool\"},{\"id\":\"8ad64b7f-5783-48f6-a825-8f321232a0c8\",\"type\":\"ResetTool\"},{\"id\":\"fed6d0fd-cd9f-4109-af26-ad7b891e038e\",\"type\":\"HelpTool\"}]},\"id\":\"ba2ac374-8c27-412a-a56c-cc58366897b5\",\"type\":\"Toolbar\"},{\"attributes\":{\"callback\":null,\"data\":{\"x\":{\"__ndarray__\":\"qRgWqqsXF797T5QLK8QWv3HH39dsBBa/RcD8A74yFb/JglznS1oUv6po3uJ7exO/t6fv15WWEr/TdpRV86sRv6vBJcTsuxC/8t9Uqt+ND7/sfELEo5oNvywfOqMGngu/lrOe+e6WCb88nZkIjFYHv6GNSQlMqv2+TTDBNl+z/j7Vi1zlDH4jP0dFky1+BzY/7Pm31EBlRD+9xBRAQ0xRP6+KWImX9Vs/0ZC0DpzpZT+7kYYOEoZvPyiC9xd6MnI/cPUjU7N/cT+YFRWw5ytwP45SEJsLxW0/CjQkY79raz9dFuuJok9pP/eSpDUP6mY/Bekv4qUVYz8awBMmkPpZPwMrE40zeUU//GWJ4WaGPL/YVlhepUNfv6nEBl2TjW6/ZQxVLNzEdb/JNVkxybl6v1d31rWQXH+/1OwCIJV7gb+taKeypdiBv6tVPPDY6IC/taeOnB9bf79n2Y6+Dd58v0N8mU3kZ3q/OvIJ31f6d785biOn8JV1vydu4IhRO3O/Qki6CMrrcL/cRaSnOVJtv6uHc8KA9Gi/GPfeWELJZL+m73SxKdNgv3RwuxfpE1q/3FDihwu/Ur/1JtJcHRxHv/H6LEEFvjG//9vZoMhAJT98iO+pZoBDP0qfHQKc3VA/TZs0AKkDWD+LxB5AYTVfP4NOvbNTOmM/O7duIrHfZj9FHrfSAYZqP8DeBdFoIG4/JMqgE7DIcD8+KQtOoVRyP0Gs/3YHn3M/3t/0vIindD8jxXQoWYN1P5A9YLUpS3Y/5i1/BwQPdz8BTd8P4dZ3P80HRg1Gpng/\",\"dtype\":\"float64\",\"shape\":[75]},\"y\":{\"__ndarray__\":\"GhExyth1ND/Sv8nbtpRIP2vylNV0PVE/aTum7souWD/At0SJ8fVgPw3Iuahxymc/MSNhhJWvcD/bTfBN02d3P2zb5nxnaoA/CD5h5MAGhz8NmeH1TyaQP+zrCsc9p5Y/LbKd76fGnz/bLW5ISEmmPww9YvTcQq8/JV2OstnstT8Er5Y7M8G+P0c+r3jqkcU/5h99k6ZBzj88bCIzFzjVP4enV8oyxN0//yH99nXg5D8qOpLLf0jtP5kqGJXUifQ/c9cS8kHP/D+/DpwzojQEQIEmwoanVwxA4lgXt9HgE0BSSZ2AJuIbQAMJih9jjiNA5q4l5INuK0AwTKYKRj0zQNv5fmq8/DpAaCJseHrtQkB/+zpwzoxKQM3MzMzMeFJAZmZmZmZqWEAAAAAAAFxeQM3MzMzMJmJAmpmZmZkfZUBmZmZmZhhoQDMzMzMzEWtAAAAAAAAKbkBmZmZmZoFwQM3MzMzM/XFAMzMzMzN6c0CamZmZmfZ0QAAAAAAAc3ZAZmZmZmbvd0DNzMzMzGt5QDMzMzMz6HpAmpmZmZlkfEAAAAAAAOF9QGZmZmZmXX9AZmZmZuZsgECamZmZGSuBQM3MzMxM6YFAAAAAAICngkAzMzMzs2WDQGZmZmbmI4RAmpmZmRnihEDNzMzMTKCFQAAAAACAXoZAMzMzM7Mch0BmZmZm5tqHQJqZmZkZmYhAzczMzExXiUAAAAAAgBWKQDMzMzOz04pAZmZmZuaRi0CamZmZGVCMQM3MzMxMDo1AAAAAAIDMjUAzMzMzs4qOQGZmZmbmSI9A\",\"dtype\":\"float64\",\"shape\":[75]}},\"selected\":{\"id\":\"06a7955c-1ce1-499c-ac38-795da5a35800\",\"type\":\"Selection\"},\"selection_policy\":{\"id\":\"1397eadf-3a10-4514-9aa8-01901095bdd0\",\"type\":\"UnionRenderers\"}},\"id\":\"92e8945b-0a2e-49ce-8ed2-ff5dd79261f8\",\"type\":\"ColumnDataSource\"},{\"attributes\":{\"items\":[{\"id\":\"8c66b6f5-e0ab-4664-b739-10d4964d1d73\",\"type\":\"LegendItem\"},{\"id\":\"70722a27-36d8-4da9-82a0-14f30af99389\",\"type\":\"LegendItem\"},{\"id\":\"fc5647ef-c7e1-46e3-8e4c-f7c8dd993d40\",\"type\":\"LegendItem\"}],\"label_text_font_size\":{\"value\":\"8pt\"},\"location\":\"top_center\",\"orientation\":\"horizontal\",\"plot\":{\"id\":\"9b5585ea-057e-445d-93d0-9b13682fde79\",\"subtype\":\"Figure\",\"type\":\"Plot\"}},\"id\":\"a7db9485-d616-4486-b8d6-29157fb9cfd1\",\"type\":\"Legend\"},{\"attributes\":{\"fill_alpha\":{\"value\":0.7},\"fill_color\":{\"value\":\"#377eb8\"},\"line_alpha\":{\"value\":0.7},\"line_color\":{\"value\":\"#377eb8\"},\"x\":{\"field\":\"x\"},\"y\":{\"field\":\"y\"}},\"id\":\"3ad6090d-4f0c-47a6-9cee-93947280f61b\",\"type\":\"Triangle\"},{\"attributes\":{\"axis_label\":\"cooling rate [K/day]\",\"formatter\":{\"id\":\"6d3a19a5-50c7-4de2-8d68-b5cf4e6033c8\",\"type\":\"BasicTickFormatter\"},\"plot\":{\"id\":\"9b5585ea-057e-445d-93d0-9b13682fde79\",\"subtype\":\"Figure\",\"type\":\"Plot\"},\"ticker\":{\"id\":\"db13f21e-3393-4003-9a3a-336fd1de0e24\",\"type\":\"BasicTicker\"}},\"id\":\"f7d576d6-dbb5-47c1-8c3a-190a09ca973a\",\"type\":\"LinearAxis\"},{\"attributes\":{\"fill_alpha\":{\"value\":0.1},\"fill_color\":{\"value\":\"#1f77b4\"},\"line_alpha\":{\"value\":0.1},\"line_color\":{\"value\":\"#1f77b4\"},\"x\":{\"field\":\"x\"},\"y\":{\"field\":\"y\"}},\"id\":\"7c0e4503-2e4b-452f-a53c-257f869f6d3f\",\"type\":\"Triangle\"},{\"attributes\":{\"data_source\":{\"id\":\"76ae7330-1008-4e26-97c6-e3f927cf40a4\",\"type\":\"ColumnDataSource\"},\"glyph\":{\"id\":\"3ad6090d-4f0c-47a6-9cee-93947280f61b\",\"type\":\"Triangle\"},\"hover_glyph\":null,\"muted_glyph\":null,\"nonselection_glyph\":{\"id\":\"7c0e4503-2e4b-452f-a53c-257f869f6d3f\",\"type\":\"Triangle\"},\"selection_glyph\":null,\"view\":{\"id\":\"14399ca4-e4c3-4a9a-9e09-dc6514ad9940\",\"type\":\"CDSView\"}},\"id\":\"3b8086c2-74c7-44c1-8d55-075a89a6e948\",\"type\":\"GlyphRenderer\"},{\"attributes\":{\"source\":{\"id\":\"76ae7330-1008-4e26-97c6-e3f927cf40a4\",\"type\":\"ColumnDataSource\"}},\"id\":\"14399ca4-e4c3-4a9a-9e09-dc6514ad9940\",\"type\":\"CDSView\"},{\"attributes\":{\"line_alpha\":0.3,\"line_color\":\"#377eb8\",\"line_width\":2,\"x\":{\"field\":\"x\"},\"y\":{\"field\":\"y\"}},\"id\":\"5518a4fc-e598-4ed2-be7a-636a355dbbfc\",\"type\":\"Line\"},{\"attributes\":{\"children\":[{\"id\":\"9b5585ea-057e-445d-93d0-9b13682fde79\",\"subtype\":\"Figure\",\"type\":\"Plot\"},{\"id\":\"b9093e43-aebb-47df-ab77-b49f21d99da2\",\"subtype\":\"Figure\",\"type\":\"Plot\"}]},\"id\":\"de29b987-2fbd-496c-a025-173083f52332\",\"type\":\"Row\"},{\"attributes\":{\"line_alpha\":0.1,\"line_color\":\"#1f77b4\",\"line_width\":2,\"x\":{\"field\":\"x\"},\"y\":{\"field\":\"y\"}},\"id\":\"7db34cd1-2aab-481b-85df-454c504112f0\",\"type\":\"Line\"},{\"attributes\":{\"data_source\":{\"id\":\"92e8945b-0a2e-49ce-8ed2-ff5dd79261f8\",\"type\":\"ColumnDataSource\"},\"glyph\":{\"id\":\"5518a4fc-e598-4ed2-be7a-636a355dbbfc\",\"type\":\"Line\"},\"hover_glyph\":null,\"muted_glyph\":null,\"nonselection_glyph\":{\"id\":\"7db34cd1-2aab-481b-85df-454c504112f0\",\"type\":\"Line\"},\"selection_glyph\":null,\"view\":{\"id\":\"efa524ae-b964-4993-a800-18c50d94e919\",\"type\":\"CDSView\"}},\"id\":\"18b5524d-cc96-4113-97b6-9f3ae65abcfa\",\"type\":\"GlyphRenderer\"},{\"attributes\":{\"fill_alpha\":{\"value\":0.1},\"fill_color\":{\"value\":\"#1f77b4\"},\"line_alpha\":{\"value\":0.1},\"line_color\":{\"value\":\"#1f77b4\"},\"x\":{\"field\":\"x\"},\"y\":{\"field\":\"y\"}},\"id\":\"843911c3-d995-4e3c-b436-1d37c51706e0\",\"type\":\"Circle\"},{\"attributes\":{\"source\":{\"id\":\"92e8945b-0a2e-49ce-8ed2-ff5dd79261f8\",\"type\":\"ColumnDataSource\"}},\"id\":\"efa524ae-b964-4993-a800-18c50d94e919\",\"type\":\"CDSView\"},{\"attributes\":{\"label\":{\"value\":\"CRD\"},\"renderers\":[{\"id\":\"e54b259a-2ed4-4591-86d4-f1850707f134\",\"type\":\"GlyphRenderer\"},{\"id\":\"76757c7c-4422-428c-8581-0d1925547926\",\"type\":\"GlyphRenderer\"}]},\"id\":\"75ee5dda-6e3f-45c2-8a93-49b8d04940c8\",\"type\":\"LegendItem\"},{\"attributes\":{\"plot\":null,\"text\":\"\"},\"id\":\"29dd0324-a5c8-4db4-88d4-6b70f3c3cee4\",\"type\":\"Title\"},{\"attributes\":{\"callback\":null,\"data\":{\"x\":{\"__ndarray__\":\"oSxt89NdRr891sVQL2VGv3ByHRT/U0a/Tr6i7FM3Rr+d8F0FGxBGvwHK33SE8EW/jxfWXynPRb9yelW5rKtFvywJdC/QhUW/vDMgL3FdRb+WnMejAzJFv/qEH2UTA0W/g/PJNszPRL/gXMJGFJNEv1TkY3f2y0O/Ehqv4zkHQb/CyulrgaU1v4ELSZlkYOq+ddndXTs/QD8xm6p5GilVPymbjpGHnWQ/ALIHh5TncT8hMz3I/jd7P0VMIBzg/38/J2NByA72fj/nJeQaljN9PwBLdgGy/Xs/zhvzbq87ez/y77v6VLR6P7gr+THNyHk/HgTuT1pedz9Y5PEalutyP9iru3Vfzms/hfyc1LGwYj/lpmRjBTBQP2rOLyiHxD+/apis0fz/Wb8Ql5zSOpxjv0l7UIfGcGy/FH0gKw/Bcr9gwuNBDBJ0v7NlqnQ4OXK/NtySII1fcL/IXroMqeltvyLR4g0rg2u/owNyx6tMab8htHFPliRnv2PEaBMs+WS/ec+OxuvCYr9M5SHWUYNgv059YpW5lly/IkBlNxVbWL8KIkeFtWJUv9XjGdjMmFC/A6kSUHyqSb+Ff5M4TetBv4pLRg5ilDO/BLljBvrSAr/Nt8hjDvMvPwFWJpYYwUE/JiKg768wTD9d/2yzyq9TP8pQHqA3sVk/t3L4YdIRYD+4JAk2tYJjP5F3i5pIHWc/U4zgeN+1aj/vjRr9M/1tP7wPehWdVXA/C/0si4tgcT+aGB9im0ZyP7QIuCzONHM/ZPkhFG5JdD9o2e4wOph1P2FzI6cVOHc/\",\"dtype\":\"float64\",\"shape\":[75]},\"y\":{\"__ndarray__\":\"GhExyth1ND/Sv8nbtpRIP2vylNV0PVE/aTum7souWD/At0SJ8fVgPw3Iuahxymc/MSNhhJWvcD/bTfBN02d3P2zb5nxnaoA/CD5h5MAGhz8NmeH1TyaQP+zrCsc9p5Y/LbKd76fGnz/bLW5ISEmmPww9YvTcQq8/JV2OstnstT8Er5Y7M8G+P0c+r3jqkcU/5h99k6ZBzj88bCIzFzjVP4enV8oyxN0//yH99nXg5D8qOpLLf0jtP5kqGJXUifQ/c9cS8kHP/D+/DpwzojQEQIEmwoanVwxA4lgXt9HgE0BSSZ2AJuIbQAMJih9jjiNA5q4l5INuK0AwTKYKRj0zQNv5fmq8/DpAaCJseHrtQkB/+zpwzoxKQM3MzMzMeFJAZmZmZmZqWEAAAAAAAFxeQM3MzMzMJmJAmpmZmZkfZUBmZmZmZhhoQDMzMzMzEWtAAAAAAAAKbkBmZmZmZoFwQM3MzMzM/XFAMzMzMzN6c0CamZmZmfZ0QAAAAAAAc3ZAZmZmZmbvd0DNzMzMzGt5QDMzMzMz6HpAmpmZmZlkfEAAAAAAAOF9QGZmZmZmXX9AZmZmZuZsgECamZmZGSuBQM3MzMxM6YFAAAAAAICngkAzMzMzs2WDQGZmZmbmI4RAmpmZmRnihEDNzMzMTKCFQAAAAACAXoZAMzMzM7Mch0BmZmZm5tqHQJqZmZkZmYhAzczMzExXiUAAAAAAgBWKQDMzMzOz04pAZmZmZuaRi0CamZmZGVCMQM3MzMxMDo1AAAAAAIDMjUAzMzMzs4qOQGZmZmbmSI9A\",\"dtype\":\"float64\",\"shape\":[75]}},\"selected\":{\"id\":\"be6ec5ea-b7e3-435c-99bd-b0355f60162a\",\"type\":\"Selection\"},\"selection_policy\":{\"id\":\"a51336a7-e925-47f1-bb52-4e619a48b864\",\"type\":\"UnionRenderers\"}},\"id\":\"ce0c1876-bca6-4e72-a246-da54a981bc13\",\"type\":\"ColumnDataSource\"},{\"attributes\":{},\"id\":\"fb29319c-f361-4424-b620-cedd53556ac4\",\"type\":\"UnionRenderers\"},{\"attributes\":{},\"id\":\"e54a7536-0fc4-4f4d-8111-5db0fe6be194\",\"type\":\"BasicTickFormatter\"},{\"attributes\":{\"plot\":{\"id\":\"9b5585ea-057e-445d-93d0-9b13682fde79\",\"subtype\":\"Figure\",\"type\":\"Plot\"},\"ticker\":{\"id\":\"db13f21e-3393-4003-9a3a-336fd1de0e24\",\"type\":\"BasicTicker\"}},\"id\":\"481cee19-07fc-4fd0-a6de-b94a0448f06a\",\"type\":\"Grid\"},{\"attributes\":{\"label\":{\"value\":\"WGT igg=1\"},\"renderers\":[{\"id\":\"460fe060-3a17-41f4-9541-3cb8bdcaae72\",\"type\":\"GlyphRenderer\"},{\"id\":\"6830cc46-c31a-4f08-be56-1560d3c732c7\",\"type\":\"GlyphRenderer\"}]},\"id\":\"0ea5963e-8221-467d-b5af-bf6fcbaa386b\",\"type\":\"LegendItem\"},{\"attributes\":{},\"id\":\"a51336a7-e925-47f1-bb52-4e619a48b864\",\"type\":\"UnionRenderers\"},{\"attributes\":{\"label\":{\"value\":\"WGT igg=10\"},\"renderers\":[{\"id\":\"3b8086c2-74c7-44c1-8d55-075a89a6e948\",\"type\":\"GlyphRenderer\"},{\"id\":\"18b5524d-cc96-4113-97b6-9f3ae65abcfa\",\"type\":\"GlyphRenderer\"}]},\"id\":\"a3f7e640-7f50-43a2-9c30-2b8f7876409b\",\"type\":\"LegendItem\"},{\"attributes\":{},\"id\":\"ad07a4b1-c8dd-4bf2-9d5e-5ef1c5687c92\",\"type\":\"LinearScale\"},{\"attributes\":{},\"id\":\"54d900f4-fa2a-4d8c-a1cd-99369e2587e9\",\"type\":\"UnionRenderers\"},{\"attributes\":{},\"id\":\"4a5c2604-230e-48e2-b09c-235ed85c15d7\",\"type\":\"LinearScale\"},{\"attributes\":{},\"id\":\"be6ec5ea-b7e3-435c-99bd-b0355f60162a\",\"type\":\"Selection\"},{\"attributes\":{\"callback\":null,\"end\":0.006165265389999999,\"start\":-0.008861322590000002},\"id\":\"006ae054-5e54-47a7-b325-ebce742bdd89\",\"type\":\"Range1d\"},{\"attributes\":{},\"id\":\"6d3a19a5-50c7-4de2-8d68-b5cf4e6033c8\",\"type\":\"BasicTickFormatter\"},{\"attributes\":{\"axis_label\":\"cooling rate [K/day]\",\"formatter\":{\"id\":\"1c347902-3e84-40c0-8524-aec5a5dc015b\",\"type\":\"BasicTickFormatter\"},\"plot\":{\"id\":\"b9093e43-aebb-47df-ab77-b49f21d99da2\",\"subtype\":\"Figure\",\"type\":\"Plot\"},\"ticker\":{\"id\":\"59755b69-b3fd-42ea-bb2f-c5f243b66eb7\",\"type\":\"BasicTicker\"}},\"id\":\"5995b618-9527-4df8-ad91-8d5d4c3da8e5\",\"type\":\"LinearAxis\"},{\"attributes\":{},\"id\":\"db13f21e-3393-4003-9a3a-336fd1de0e24\",\"type\":\"BasicTicker\"},{\"attributes\":{},\"id\":\"2894eb64-8b02-45a6-ae83-ceec4e8869c9\",\"type\":\"Selection\"},{\"attributes\":{},\"id\":\"d22a5bed-1fde-468f-9c9f-f3276068d3d2\",\"type\":\"Selection\"},{\"attributes\":{\"axis_label\":\"pressure [mb]\",\"formatter\":{\"id\":\"e54a7536-0fc4-4f4d-8111-5db0fe6be194\",\"type\":\"BasicTickFormatter\"},\"plot\":{\"id\":\"9b5585ea-057e-445d-93d0-9b13682fde79\",\"subtype\":\"Figure\",\"type\":\"Plot\"},\"ticker\":{\"id\":\"e5c513c0-2ea6-4da2-a24b-d119555db356\",\"type\":\"BasicTicker\"}},\"id\":\"8a86458e-4c06-4106-ae08-49ac9ebb9fcb\",\"type\":\"LinearAxis\"},{\"attributes\":{},\"id\":\"0109a317-1618-48f8-847f-f643c80ca147\",\"type\":\"Selection\"},{\"attributes\":{\"ticker\":null},\"id\":\"4c500fde-66da-49c0-9372-2a263780e48c\",\"type\":\"LogTickFormatter\"},{\"attributes\":{\"line_color\":\"#4daf4a\",\"line_width\":1.5,\"x\":{\"field\":\"x\"},\"y\":{\"field\":\"y\"}},\"id\":\"70665bb9-b4ac-41f0-a283-96eb59524ed7\",\"type\":\"Line\"},{\"attributes\":{},\"id\":\"a76f4e8f-7767-4e83-8850-ea58d2b7f648\",\"type\":\"UnionRenderers\"},{\"attributes\":{},\"id\":\"1c347902-3e84-40c0-8524-aec5a5dc015b\",\"type\":\"BasicTickFormatter\"},{\"attributes\":{},\"id\":\"cfff4299-2c08-4499-b0f4-c2e07a452d2a\",\"type\":\"Selection\"},{\"attributes\":{},\"id\":\"b917fe17-e13f-4d6e-8670-0c8854c43196\",\"type\":\"UnionRenderers\"},{\"attributes\":{\"plot\":null,\"text\":\"\"},\"id\":\"ad3431c7-abd1-45af-9daa-5ae437593d3b\",\"type\":\"Title\"},{\"attributes\":{\"line_alpha\":0.1,\"line_color\":\"#1f77b4\",\"line_width\":1.5,\"x\":{\"field\":\"x\"},\"y\":{\"field\":\"y\"}},\"id\":\"2bec0462-ba9d-427b-948a-a1bd849e7cbb\",\"type\":\"Line\"},{\"attributes\":{\"callback\":null,\"data\":{\"x\":{\"__ndarray__\":\"tjuBFVCnFb/AINSR6jwVv+VWKSsDTBS/NoilFm5EE7/SRlkY8zMSv4KObozMGhG/t8rJIuzxD78RWFOvwpwNv5sxXKypNQu/Uw3LHfm7CL9R35bASC4Gv8B3spqPiQO/fE68KrbIAL8AxOdIR1r7vrTNP3bIMNa+rUrve+RjET/PapUhDfUrP9zfYsf7/zw/qC99fO7rST/CLLOXlJNVP7fO1vlrPWE/oIk6+GzSaj/l4ugcjjZzP5sC4rwbLnY/iqlZiNNndT/QcQ3qXedzP5Ru7peme3I/i0o6cC0fcT9F2D7N2gBwP8cvA2hwaG0/5a/M9yU9aT/AZAlAmnBiP5kOlFEp2lM/o/S56zXY5T7hrV/noO9Zvz6PhbRDjWy/1lszlDu1dL/+Yo5TaGh5v9Wh8m7u6H2/JauigHS/gL+qWr+STAuBv2mXvOej+H+/U8HjBjxjfb+daYfdxeR6v418zyGYfni/NmN6Bnkrdr+/J59t2OdzvyI1P8++sXG/OASVmVwRb7+Qg/FX8dtqvydVjSxB0Ga/FCZv7BD5Yr+GSfeGybNev1cjaosz0le/dpADKcstUb+GBSHUjlVFv7z0LJHW2zC/GVFSObbXIT8pKBLFGGZBP+ms7oTPbU4/n8+MNvHLVT+J2cIgZndcP+Pz16OonmE/45glNFsPZT/7J/VySopoP41Xu05sA2w/WCnMWWlbbz8+G/lA0i5xP5nYof6YbXI/BluEXARqcz8hw+bAyzx0P+UY5AWMAnU/IFbP71rOdT9Q60NAwap2PzmcSh0coHc/\",\"dtype\":\"float64\",\"shape\":[75]},\"y\":{\"__ndarray__\":\"GhExyth1ND/Sv8nbtpRIP2vylNV0PVE/aTum7souWD/At0SJ8fVgPw3Iuahxymc/MSNhhJWvcD/bTfBN02d3P2zb5nxnaoA/CD5h5MAGhz8NmeH1TyaQP+zrCsc9p5Y/LbKd76fGnz/bLW5ISEmmPww9YvTcQq8/JV2OstnstT8Er5Y7M8G+P0c+r3jqkcU/5h99k6ZBzj88bCIzFzjVP4enV8oyxN0//yH99nXg5D8qOpLLf0jtP5kqGJXUifQ/c9cS8kHP/D+/DpwzojQEQIEmwoanVwxA4lgXt9HgE0BSSZ2AJuIbQAMJih9jjiNA5q4l5INuK0AwTKYKRj0zQNv5fmq8/DpAaCJseHrtQkB/+zpwzoxKQM3MzMzMeFJAZmZmZmZqWEAAAAAAAFxeQM3MzMzMJmJAmpmZmZkfZUBmZmZmZhhoQDMzMzMzEWtAAAAAAAAKbkBmZmZmZoFwQM3MzMzM/XFAMzMzMzN6c0CamZmZmfZ0QAAAAAAAc3ZAZmZmZmbvd0DNzMzMzGt5QDMzMzMz6HpAmpmZmZlkfEAAAAAAAOF9QGZmZmZmXX9AZmZmZuZsgECamZmZGSuBQM3MzMxM6YFAAAAAAICngkAzMzMzs2WDQGZmZmbmI4RAmpmZmRnihEDNzMzMTKCFQAAAAACAXoZAMzMzM7Mch0BmZmZm5tqHQJqZmZkZmYhAzczMzExXiUAAAAAAgBWKQDMzMzOz04pAZmZmZuaRi0CamZmZGVCMQM3MzMxMDo1AAAAAAIDMjUAzMzMzs4qOQGZmZmbmSI9A\",\"dtype\":\"float64\",\"shape\":[75]}},\"selected\":{\"id\":\"4aec1274-bacc-4dc7-9dfa-e6719a416d90\",\"type\":\"Selection\"},\"selection_policy\":{\"id\":\"9f34d5c0-0aee-413e-a91f-0583128b3e2e\",\"type\":\"UnionRenderers\"}},\"id\":\"b7e3d9d4-42a0-4b2c-9374-6ef85defd0b5\",\"type\":\"ColumnDataSource\"},{\"attributes\":{},\"id\":\"4aec1274-bacc-4dc7-9dfa-e6719a416d90\",\"type\":\"Selection\"},{\"attributes\":{},\"id\":\"1558f3c9-4920-4005-8f95-c92879792304\",\"type\":\"Selection\"},{\"attributes\":{},\"id\":\"34c880d5-55fe-4773-982c-1036d4a4de0f\",\"type\":\"Selection\"},{\"attributes\":{},\"id\":\"249b61dc-96c0-461c-a34a-470a73cf0198\",\"type\":\"UnionRenderers\"},{\"attributes\":{\"data_source\":{\"id\":\"7062676c-47b2-4b31-aad7-056a0d774276\",\"type\":\"ColumnDataSource\"},\"glyph\":{\"id\":\"8a1bef65-398f-4bdb-88da-c2b5d0082409\",\"type\":\"Circle\"},\"hover_glyph\":null,\"muted_glyph\":null,\"nonselection_glyph\":{\"id\":\"63e7a35a-e79c-4065-8a9d-2669e0632f75\",\"type\":\"Circle\"},\"selection_glyph\":null,\"view\":{\"id\":\"bd52da83-3b65-448f-ae30-dbb3a221bf85\",\"type\":\"CDSView\"}},\"id\":\"e54b259a-2ed4-4591-86d4-f1850707f134\",\"type\":\"GlyphRenderer\"},{\"attributes\":{},\"id\":\"5e4e928c-b5b1-4b9c-a2df-ce5607a30615\",\"type\":\"Selection\"},{\"attributes\":{},\"id\":\"06a7955c-1ce1-499c-ac38-795da5a35800\",\"type\":\"Selection\"},{\"attributes\":{},\"id\":\"9f34d5c0-0aee-413e-a91f-0583128b3e2e\",\"type\":\"UnionRenderers\"},{\"attributes\":{\"data_source\":{\"id\":\"f45b7055-6f97-4451-b43d-e65c2d530201\",\"type\":\"ColumnDataSource\"},\"glyph\":{\"id\":\"70665bb9-b4ac-41f0-a283-96eb59524ed7\",\"type\":\"Line\"},\"hover_glyph\":null,\"muted_glyph\":null,\"nonselection_glyph\":{\"id\":\"2bec0462-ba9d-427b-948a-a1bd849e7cbb\",\"type\":\"Line\"},\"selection_glyph\":null,\"view\":{\"id\":\"32d028f6-c8ae-475e-a72f-cc3000017a56\",\"type\":\"CDSView\"}},\"id\":\"76757c7c-4422-428c-8581-0d1925547926\",\"type\":\"GlyphRenderer\"},{\"attributes\":{\"toolbar\":{\"id\":\"5ad3177a-7fd3-489c-a4a4-a9c8743eae5f\",\"type\":\"ProxyToolbar\"},\"toolbar_location\":\"above\"},\"id\":\"b6cf0c6a-2342-457f-9bdb-1cb46a4c9312\",\"type\":\"ToolbarBox\"},{\"attributes\":{},\"id\":\"50a857a3-981d-4553-8c80-a2370caf865c\",\"type\":\"UnionRenderers\"},{\"attributes\":{},\"id\":\"59755b69-b3fd-42ea-bb2f-c5f243b66eb7\",\"type\":\"BasicTicker\"},{\"attributes\":{},\"id\":\"9806de7f-5092-4651-8ec6-a839eb38f4f8\",\"type\":\"UnionRenderers\"},{\"attributes\":{\"children\":[{\"id\":\"b6cf0c6a-2342-457f-9bdb-1cb46a4c9312\",\"type\":\"ToolbarBox\"},{\"id\":\"880ed4c4-490b-4686-a3c9-1d80ab2db81d\",\"type\":\"Column\"}]},\"id\":\"48ae8aad-00ce-4ff7-a8df-a71f409cec02\",\"type\":\"Column\"},{\"attributes\":{},\"id\":\"1397eadf-3a10-4514-9aa8-01901095bdd0\",\"type\":\"UnionRenderers\"},{\"attributes\":{\"line_alpha\":0.6,\"line_color\":\"#984ea3\",\"line_width\":3,\"x\":{\"field\":\"x\"},\"y\":{\"field\":\"y\"}},\"id\":\"d8fa05c4-fd48-436b-b0ad-a0ec69db594d\",\"type\":\"Line\"},{\"attributes\":{\"tools\":[{\"id\":\"81e5df9d-1413-43d0-b48b-64931bf4f2c1\",\"type\":\"PanTool\"},{\"id\":\"ac6ed8fb-58f7-419a-affd-8c2c983f9d8c\",\"type\":\"WheelZoomTool\"},{\"id\":\"a0b2a7d9-b51c-4213-9ea0-5420efe8d0ac\",\"type\":\"BoxZoomTool\"},{\"id\":\"0f1be0ba-98ac-4a5a-bb99-9d4069d9c599\",\"type\":\"SaveTool\"},{\"id\":\"8ad64b7f-5783-48f6-a825-8f321232a0c8\",\"type\":\"ResetTool\"},{\"id\":\"fed6d0fd-cd9f-4109-af26-ad7b891e038e\",\"type\":\"HelpTool\"},{\"id\":\"2d9fecd7-f0ec-4d93-a289-4095ac8300f6\",\"type\":\"PanTool\"},{\"id\":\"d98a9f31-19d2-4fb4-81d4-41e2fcea0bdc\",\"type\":\"WheelZoomTool\"},{\"id\":\"22882897-972d-4ff5-8778-adbbf091204c\",\"type\":\"BoxZoomTool\"},{\"id\":\"be1b727b-7117-45ce-a7ab-a179f67267f4\",\"type\":\"SaveTool\"},{\"id\":\"051a1d83-f670-4407-9fdd-cb1819fbde11\",\"type\":\"ResetTool\"},{\"id\":\"765c2a01-2d78-4d4c-976a-d4fe548f5e3e\",\"type\":\"HelpTool\"}]},\"id\":\"5ad3177a-7fd3-489c-a4a4-a9c8743eae5f\",\"type\":\"ProxyToolbar\"},{\"attributes\":{},\"id\":\"bbc8f2b2-3c86-4d7c-94dd-4fb0a3a64a16\",\"type\":\"UnionRenderers\"},{\"attributes\":{\"source\":{\"id\":\"7062676c-47b2-4b31-aad7-056a0d774276\",\"type\":\"ColumnDataSource\"}},\"id\":\"bd52da83-3b65-448f-ae30-dbb3a221bf85\",\"type\":\"CDSView\"},{\"attributes\":{\"fill_alpha\":{\"value\":0.1},\"fill_color\":{\"value\":\"#1f77b4\"},\"line_alpha\":{\"value\":0.1},\"line_color\":{\"value\":\"#1f77b4\"},\"x\":{\"field\":\"x\"},\"y\":{\"field\":\"y\"}},\"id\":\"63e7a35a-e79c-4065-8a9d-2669e0632f75\",\"type\":\"Circle\"},{\"attributes\":{\"plot\":{\"id\":\"b9093e43-aebb-47df-ab77-b49f21d99da2\",\"subtype\":\"Figure\",\"type\":\"Plot\"},\"ticker\":{\"id\":\"59755b69-b3fd-42ea-bb2f-c5f243b66eb7\",\"type\":\"BasicTicker\"}},\"id\":\"44f7b01b-1d5c-45e4-9932-e79139197a6e\",\"type\":\"Grid\"},{\"attributes\":{\"data_source\":{\"id\":\"b7e3d9d4-42a0-4b2c-9374-6ef85defd0b5\",\"type\":\"ColumnDataSource\"},\"glyph\":{\"id\":\"aa6d2a1d-6152-4f47-8f99-aaf9ae53c4ee\",\"type\":\"Square\"},\"hover_glyph\":null,\"muted_glyph\":null,\"nonselection_glyph\":{\"id\":\"fc2c10c2-e66e-445e-904a-3adcf6a9254d\",\"type\":\"Square\"},\"selection_glyph\":null,\"view\":{\"id\":\"3013aa40-d4d4-42a7-9ab6-34bb716ebb5e\",\"type\":\"CDSView\"}},\"id\":\"460fe060-3a17-41f4-9541-3cb8bdcaae72\",\"type\":\"GlyphRenderer\"},{\"attributes\":{\"source\":{\"id\":\"b7e3d9d4-42a0-4b2c-9374-6ef85defd0b5\",\"type\":\"ColumnDataSource\"}},\"id\":\"3013aa40-d4d4-42a7-9ab6-34bb716ebb5e\",\"type\":\"CDSView\"},{\"attributes\":{},\"id\":\"df8ee3b7-b4bf-4251-8e8f-d8c4f0c085c9\",\"type\":\"LogScale\"},{\"attributes\":{\"fill_alpha\":{\"value\":0.1},\"fill_color\":{\"value\":\"#1f77b4\"},\"line_alpha\":{\"value\":0.1},\"line_color\":{\"value\":\"#1f77b4\"},\"x\":{\"field\":\"x\"},\"y\":{\"field\":\"y\"}},\"id\":\"fc2c10c2-e66e-445e-904a-3adcf6a9254d\",\"type\":\"Square\"},{\"attributes\":{\"fill_alpha\":{\"value\":0.7},\"fill_color\":{\"value\":\"#984ea3\"},\"line_alpha\":{\"value\":0.7},\"line_color\":{\"value\":\"#984ea3\"},\"x\":{\"field\":\"x\"},\"y\":{\"field\":\"y\"}},\"id\":\"aa6d2a1d-6152-4f47-8f99-aaf9ae53c4ee\",\"type\":\"Square\"},{\"attributes\":{\"fill_alpha\":{\"value\":0.7},\"fill_color\":{\"value\":\"#4daf4a\"},\"line_alpha\":{\"value\":0.7},\"line_color\":{\"value\":\"#4daf4a\"},\"x\":{\"field\":\"x\"},\"y\":{\"field\":\"y\"}},\"id\":\"99a2494f-0e7a-4147-bbd1-cf53c8eb9360\",\"type\":\"Circle\"},{\"attributes\":{\"callback\":null,\"data\":{\"x\":{\"__ndarray__\":\"oSxt89NdRr891sVQL2VGv3ByHRT/U0a/Tr6i7FM3Rr+d8F0FGxBGvwHK33SE8EW/jxfWXynPRb9yelW5rKtFvywJdC/QhUW/vDMgL3FdRb+WnMejAzJFv/qEH2UTA0W/g/PJNszPRL/gXMJGFJNEv1TkY3f2y0O/Ehqv4zkHQb/CyulrgaU1v4ELSZlkYOq+ddndXTs/QD8xm6p5GilVPymbjpGHnWQ/ALIHh5TncT8hMz3I/jd7P0VMIBzg/38/J2NByA72fj/nJeQaljN9PwBLdgGy/Xs/zhvzbq87ez/y77v6VLR6P7gr+THNyHk/HgTuT1pedz9Y5PEalutyP9iru3Vfzms/hfyc1LGwYj/lpmRjBTBQP2rOLyiHxD+/apis0fz/Wb8Ql5zSOpxjv0l7UIfGcGy/FH0gKw/Bcr9gwuNBDBJ0v7NlqnQ4OXK/NtySII1fcL/IXroMqeltvyLR4g0rg2u/owNyx6tMab8htHFPliRnv2PEaBMs+WS/ec+OxuvCYr9M5SHWUYNgv059YpW5lly/IkBlNxVbWL8KIkeFtWJUv9XjGdjMmFC/A6kSUHyqSb+Ff5M4TetBv4pLRg5ilDO/BLljBvrSAr/Nt8hjDvMvPwFWJpYYwUE/JiKg768wTD9d/2yzyq9TP8pQHqA3sVk/t3L4YdIRYD+4JAk2tYJjP5F3i5pIHWc/U4zgeN+1aj/vjRr9M/1tP7wPehWdVXA/C/0si4tgcT+aGB9im0ZyP7QIuCzONHM/ZPkhFG5JdD9o2e4wOph1P2FzI6cVOHc/\",\"dtype\":\"float64\",\"shape\":[75]},\"y\":{\"__ndarray__\":\"GhExyth1ND/Sv8nbtpRIP2vylNV0PVE/aTum7souWD/At0SJ8fVgPw3Iuahxymc/MSNhhJWvcD/bTfBN02d3P2zb5nxnaoA/CD5h5MAGhz8NmeH1TyaQP+zrCsc9p5Y/LbKd76fGnz/bLW5ISEmmPww9YvTcQq8/JV2OstnstT8Er5Y7M8G+P0c+r3jqkcU/5h99k6ZBzj88bCIzFzjVP4enV8oyxN0//yH99nXg5D8qOpLLf0jtP5kqGJXUifQ/c9cS8kHP/D+/DpwzojQEQIEmwoanVwxA4lgXt9HgE0BSSZ2AJuIbQAMJih9jjiNA5q4l5INuK0AwTKYKRj0zQNv5fmq8/DpAaCJseHrtQkB/+zpwzoxKQM3MzMzMeFJAZmZmZmZqWEAAAAAAAFxeQM3MzMzMJmJAmpmZmZkfZUBmZmZmZhhoQDMzMzMzEWtAAAAAAAAKbkBmZmZmZoFwQM3MzMzM/XFAMzMzMzN6c0CamZmZmfZ0QAAAAAAAc3ZAZmZmZmbvd0DNzMzMzGt5QDMzMzMz6HpAmpmZmZlkfEAAAAAAAOF9QGZmZmZmXX9AZmZmZuZsgECamZmZGSuBQM3MzMxM6YFAAAAAAICngkAzMzMzs2WDQGZmZmbmI4RAmpmZmRnihEDNzMzMTKCFQAAAAACAXoZAMzMzM7Mch0BmZmZm5tqHQJqZmZkZmYhAzczMzExXiUAAAAAAgBWKQDMzMzOz04pAZmZmZuaRi0CamZmZGVCMQM3MzMxMDo1AAAAAAIDMjUAzMzMzs4qOQGZmZmbmSI9A\",\"dtype\":\"float64\",\"shape\":[75]}},\"selected\":{\"id\":\"1558f3c9-4920-4005-8f95-c92879792304\",\"type\":\"Selection\"},\"selection_policy\":{\"id\":\"249b61dc-96c0-461c-a34a-470a73cf0198\",\"type\":\"UnionRenderers\"}},\"id\":\"f45b7055-6f97-4451-b43d-e65c2d530201\",\"type\":\"ColumnDataSource\"},{\"attributes\":{\"data_source\":{\"id\":\"bbc03988-9a54-4a1a-a577-f96df89d4b75\",\"type\":\"ColumnDataSource\"},\"glyph\":{\"id\":\"d8fa05c4-fd48-436b-b0ad-a0ec69db594d\",\"type\":\"Line\"},\"hover_glyph\":null,\"muted_glyph\":null,\"nonselection_glyph\":{\"id\":\"6b44fb7a-14ac-4151-b055-763ebc811ee7\",\"type\":\"Line\"},\"selection_glyph\":null,\"view\":{\"id\":\"c128a225-b529-444c-a1a2-aac3f3490bca\",\"type\":\"CDSView\"}},\"id\":\"6830cc46-c31a-4f08-be56-1560d3c732c7\",\"type\":\"GlyphRenderer\"},{\"attributes\":{\"callback\":null,\"data\":{\"x\":{\"__ndarray__\":\"qRgWqqsXF797T5QLK8QWv3HH39dsBBa/RcD8A74yFb/JglznS1oUv6po3uJ7exO/t6fv15WWEr/TdpRV86sRv6vBJcTsuxC/8t9Uqt+ND7/sfELEo5oNvywfOqMGngu/lrOe+e6WCb88nZkIjFYHv6GNSQlMqv2+TTDBNl+z/j7Vi1zlDH4jP0dFky1+BzY/7Pm31EBlRD+9xBRAQ0xRP6+KWImX9Vs/0ZC0DpzpZT+7kYYOEoZvPyiC9xd6MnI/cPUjU7N/cT+YFRWw5ytwP45SEJsLxW0/CjQkY79raz9dFuuJok9pP/eSpDUP6mY/Bekv4qUVYz8awBMmkPpZPwMrE40zeUU//GWJ4WaGPL/YVlhepUNfv6nEBl2TjW6/ZQxVLNzEdb/JNVkxybl6v1d31rWQXH+/1OwCIJV7gb+taKeypdiBv6tVPPDY6IC/taeOnB9bf79n2Y6+Dd58v0N8mU3kZ3q/OvIJ31f6d785biOn8JV1vydu4IhRO3O/Qki6CMrrcL/cRaSnOVJtv6uHc8KA9Gi/GPfeWELJZL+m73SxKdNgv3RwuxfpE1q/3FDihwu/Ur/1JtJcHRxHv/H6LEEFvjG//9vZoMhAJT98iO+pZoBDP0qfHQKc3VA/TZs0AKkDWD+LxB5AYTVfP4NOvbNTOmM/O7duIrHfZj9FHrfSAYZqP8DeBdFoIG4/JMqgE7DIcD8+KQtOoVRyP0Gs/3YHn3M/3t/0vIindD8jxXQoWYN1P5A9YLUpS3Y/5i1/BwQPdz8BTd8P4dZ3P80HRg1Gpng/\",\"dtype\":\"float64\",\"shape\":[75]},\"y\":{\"__ndarray__\":\"GhExyth1ND/Sv8nbtpRIP2vylNV0PVE/aTum7souWD/At0SJ8fVgPw3Iuahxymc/MSNhhJWvcD/bTfBN02d3P2zb5nxnaoA/CD5h5MAGhz8NmeH1TyaQP+zrCsc9p5Y/LbKd76fGnz/bLW5ISEmmPww9YvTcQq8/JV2OstnstT8Er5Y7M8G+P0c+r3jqkcU/5h99k6ZBzj88bCIzFzjVP4enV8oyxN0//yH99nXg5D8qOpLLf0jtP5kqGJXUifQ/c9cS8kHP/D+/DpwzojQEQIEmwoanVwxA4lgXt9HgE0BSSZ2AJuIbQAMJih9jjiNA5q4l5INuK0AwTKYKRj0zQNv5fmq8/DpAaCJseHrtQkB/+zpwzoxKQM3MzMzMeFJAZmZmZmZqWEAAAAAAAFxeQM3MzMzMJmJAmpmZmZkfZUBmZmZmZhhoQDMzMzMzEWtAAAAAAAAKbkBmZmZmZoFwQM3MzMzM/XFAMzMzMzN6c0CamZmZmfZ0QAAAAAAAc3ZAZmZmZmbvd0DNzMzMzGt5QDMzMzMz6HpAmpmZmZlkfEAAAAAAAOF9QGZmZmZmXX9AZmZmZuZsgECamZmZGSuBQM3MzMxM6YFAAAAAAICngkAzMzMzs2WDQGZmZmbmI4RAmpmZmRnihEDNzMzMTKCFQAAAAACAXoZAMzMzM7Mch0BmZmZm5tqHQJqZmZkZmYhAzczMzExXiUAAAAAAgBWKQDMzMzOz04pAZmZmZuaRi0CamZmZGVCMQM3MzMxMDo1AAAAAAIDMjUAzMzMzs4qOQGZmZmbmSI9A\",\"dtype\":\"float64\",\"shape\":[75]}},\"selected\":{\"id\":\"5e4e928c-b5b1-4b9c-a2df-ce5607a30615\",\"type\":\"Selection\"},\"selection_policy\":{\"id\":\"9806de7f-5092-4651-8ec6-a839eb38f4f8\",\"type\":\"UnionRenderers\"}},\"id\":\"76ae7330-1008-4e26-97c6-e3f927cf40a4\",\"type\":\"ColumnDataSource\"},{\"attributes\":{\"source\":{\"id\":\"bbc03988-9a54-4a1a-a577-f96df89d4b75\",\"type\":\"ColumnDataSource\"}},\"id\":\"c128a225-b529-444c-a1a2-aac3f3490bca\",\"type\":\"CDSView\"},{\"attributes\":{\"source\":{\"id\":\"f45b7055-6f97-4451-b43d-e65c2d530201\",\"type\":\"ColumnDataSource\"}},\"id\":\"32d028f6-c8ae-475e-a72f-cc3000017a56\",\"type\":\"CDSView\"},{\"attributes\":{\"callback\":null,\"data\":{\"x\":{\"__ndarray__\":\"tjuBFVCnFb/AINSR6jwVv+VWKSsDTBS/NoilFm5EE7/SRlkY8zMSv4KObozMGhG/t8rJIuzxD78RWFOvwpwNv5sxXKypNQu/Uw3LHfm7CL9R35bASC4Gv8B3spqPiQO/fE68KrbIAL8AxOdIR1r7vrTNP3bIMNa+rUrve+RjET/PapUhDfUrP9zfYsf7/zw/qC99fO7rST/CLLOXlJNVP7fO1vlrPWE/oIk6+GzSaj/l4ugcjjZzP5sC4rwbLnY/iqlZiNNndT/QcQ3qXedzP5Ru7peme3I/i0o6cC0fcT9F2D7N2gBwP8cvA2hwaG0/5a/M9yU9aT/AZAlAmnBiP5kOlFEp2lM/o/S56zXY5T7hrV/noO9Zvz6PhbRDjWy/1lszlDu1dL/+Yo5TaGh5v9Wh8m7u6H2/JauigHS/gL+qWr+STAuBv2mXvOej+H+/U8HjBjxjfb+daYfdxeR6v418zyGYfni/NmN6Bnkrdr+/J59t2OdzvyI1P8++sXG/OASVmVwRb7+Qg/FX8dtqvydVjSxB0Ga/FCZv7BD5Yr+GSfeGybNev1cjaosz0le/dpADKcstUb+GBSHUjlVFv7z0LJHW2zC/GVFSObbXIT8pKBLFGGZBP+ms7oTPbU4/n8+MNvHLVT+J2cIgZndcP+Pz16OonmE/45glNFsPZT/7J/VySopoP41Xu05sA2w/WCnMWWlbbz8+G/lA0i5xP5nYof6YbXI/BluEXARqcz8hw+bAyzx0P+UY5AWMAnU/IFbP71rOdT9Q60NAwap2PzmcSh0coHc/\",\"dtype\":\"float64\",\"shape\":[75]},\"y\":{\"__ndarray__\":\"GhExyth1ND/Sv8nbtpRIP2vylNV0PVE/aTum7souWD/At0SJ8fVgPw3Iuahxymc/MSNhhJWvcD/bTfBN02d3P2zb5nxnaoA/CD5h5MAGhz8NmeH1TyaQP+zrCsc9p5Y/LbKd76fGnz/bLW5ISEmmPww9YvTcQq8/JV2OstnstT8Er5Y7M8G+P0c+r3jqkcU/5h99k6ZBzj88bCIzFzjVP4enV8oyxN0//yH99nXg5D8qOpLLf0jtP5kqGJXUifQ/c9cS8kHP/D+/DpwzojQEQIEmwoanVwxA4lgXt9HgE0BSSZ2AJuIbQAMJih9jjiNA5q4l5INuK0AwTKYKRj0zQNv5fmq8/DpAaCJseHrtQkB/+zpwzoxKQM3MzMzMeFJAZmZmZmZqWEAAAAAAAFxeQM3MzMzMJmJAmpmZmZkfZUBmZmZmZhhoQDMzMzMzEWtAAAAAAAAKbkBmZmZmZoFwQM3MzMzM/XFAMzMzMzN6c0CamZmZmfZ0QAAAAAAAc3ZAZmZmZmbvd0DNzMzMzGt5QDMzMzMz6HpAmpmZmZlkfEAAAAAAAOF9QGZmZmZmXX9AZmZmZuZsgECamZmZGSuBQM3MzMxM6YFAAAAAAICngkAzMzMzs2WDQGZmZmbmI4RAmpmZmRnihEDNzMzMTKCFQAAAAACAXoZAMzMzM7Mch0BmZmZm5tqHQJqZmZkZmYhAzczMzExXiUAAAAAAgBWKQDMzMzOz04pAZmZmZuaRi0CamZmZGVCMQM3MzMxMDo1AAAAAAIDMjUAzMzMzs4qOQGZmZmbmSI9A\",\"dtype\":\"float64\",\"shape\":[75]}},\"selected\":{\"id\":\"34c880d5-55fe-4773-982c-1036d4a4de0f\",\"type\":\"Selection\"},\"selection_policy\":{\"id\":\"50a857a3-981d-4553-8c80-a2370caf865c\",\"type\":\"UnionRenderers\"}},\"id\":\"bbc03988-9a54-4a1a-a577-f96df89d4b75\",\"type\":\"ColumnDataSource\"},{\"attributes\":{\"callback\":null,\"end\":0.01,\"start\":1020},\"id\":\"1277fb6d-1158-4d5c-8b62-784022ee84a9\",\"type\":\"Range1d\"},{\"attributes\":{\"line_alpha\":0.1,\"line_color\":\"#1f77b4\",\"line_width\":3,\"x\":{\"field\":\"x\"},\"y\":{\"field\":\"y\"}},\"id\":\"6b44fb7a-14ac-4151-b055-763ebc811ee7\",\"type\":\"Line\"},{\"attributes\":{\"fill_alpha\":{\"value\":0.7},\"fill_color\":{\"value\":\"#4daf4a\"},\"line_alpha\":{\"value\":0.7},\"line_color\":{\"value\":\"#4daf4a\"},\"x\":{\"field\":\"x\"},\"y\":{\"field\":\"y\"}},\"id\":\"8a1bef65-398f-4bdb-88da-c2b5d0082409\",\"type\":\"Circle\"},{\"attributes\":{\"callback\":null,\"end\":0.007977645043,\"start\":-0.008879266943000001},\"id\":\"4b12eb4f-8702-4d37-aa44-bb77c1108a02\",\"type\":\"Range1d\"}],\"root_ids\":[\"48ae8aad-00ce-4ff7-a8df-a71f409cec02\"]},\"title\":\"Bokeh Application\",\"version\":\"0.12.16\"}};\n",
       "  var render_items = [{\"docid\":\"28f2e9c9-7742-4498-ae37-154cf7051f79\",\"elementid\":\"de6d3151-b8f9-4b06-9c4e-d8870730a962\",\"modelid\":\"48ae8aad-00ce-4ff7-a8df-a71f409cec02\"}];\n",
       "  root.Bokeh.embed.embed_items_notebook(docs_json, render_items);\n",
       "\n",
       "  }\n",
       "  if (root.Bokeh !== undefined) {\n",
       "    embed_document(root);\n",
       "  } else {\n",
       "    var attempts = 0;\n",
       "    var timer = setInterval(function(root) {\n",
       "      if (root.Bokeh !== undefined) {\n",
       "        embed_document(root);\n",
       "        clearInterval(timer);\n",
       "      }\n",
       "      attempts++;\n",
       "      if (attempts > 100) {\n",
       "        console.log(\"Bokeh: ERROR: Unable to run BokehJS code because BokehJS library is missing\")\n",
       "        clearInterval(timer);\n",
       "      }\n",
       "    }, 10, root)\n",
       "  }\n",
       "})(window);"
      ],
      "application/vnd.bokehjs_exec.v0+json": ""
     },
     "metadata": {
      "application/vnd.bokehjs_exec.v0+json": {
       "id": "48ae8aad-00ce-4ff7-a8df-a71f409cec02"
      }
     },
     "output_type": "display_data"
    },
    {
     "data": {
      "text/markdown": [
       "*FIGURE.* Cooling rates. g=2"
      ],
      "text/plain": [
       "<IPython.core.display.Markdown object>"
      ]
     },
     "metadata": {},
     "output_type": "display_data"
    },
    {
     "data": {
      "text/html": [
       "\n",
       "<div class=\"bk-root\">\n",
       "    <div class=\"bk-plotdiv\" id=\"c5fa49ba-8249-4cf7-b5cb-b12699ce2862\"></div>\n",
       "</div>"
      ]
     },
     "metadata": {},
     "output_type": "display_data"
    },
    {
     "data": {
      "application/javascript": [
       "(function(root) {\n",
       "  function embed_document(root) {\n",
       "    \n",
       "  var docs_json = {\"f85ed43e-4337-40f3-a1b5-7603ea5ba6a5\":{\"roots\":{\"references\":[{\"attributes\":{\"plot\":null,\"text\":\"\"},\"id\":\"4a020734-118b-4fad-b187-0f53d2d19d44\",\"type\":\"Title\"},{\"attributes\":{},\"id\":\"2fcc024a-7cbe-4e57-8d42-d1ed6bc22f7a\",\"type\":\"BasicTickFormatter\"},{\"attributes\":{\"dimension\":1,\"plot\":{\"id\":\"749a9583-eb6d-40b5-a69a-d65e73e6784e\",\"subtype\":\"Figure\",\"type\":\"Plot\"},\"ticker\":{\"id\":\"83f4acba-a9b2-46bf-bf51-54de47332d1d\",\"type\":\"LogTicker\"}},\"id\":\"bebd16c8-18cb-4399-af60-3c34cc274dfe\",\"type\":\"Grid\"},{\"attributes\":{},\"id\":\"7a8705b9-c18f-42c8-ae19-de49516eb328\",\"type\":\"ResetTool\"},{\"attributes\":{},\"id\":\"e44beec2-9780-4400-a280-c921a6b22ee2\",\"type\":\"HelpTool\"},{\"attributes\":{\"callback\":null,\"end\":0.01,\"start\":1020},\"id\":\"cda25a43-43b5-4834-b72f-3b8d01f523a9\",\"type\":\"Range1d\"},{\"attributes\":{\"num_minor_ticks\":10},\"id\":\"83f4acba-a9b2-46bf-bf51-54de47332d1d\",\"type\":\"LogTicker\"},{\"attributes\":{},\"id\":\"2f44d87b-c1dc-454d-a8de-f06d62290a10\",\"type\":\"SaveTool\"},{\"attributes\":{\"fill_alpha\":{\"value\":0.1},\"fill_color\":{\"value\":\"#1f77b4\"},\"line_alpha\":{\"value\":0.1},\"line_color\":{\"value\":\"#1f77b4\"},\"x\":{\"field\":\"x\"},\"y\":{\"field\":\"y\"}},\"id\":\"ca90885e-8fe4-4191-abf7-9e11535c0b46\",\"type\":\"Circle\"},{\"attributes\":{\"source\":{\"id\":\"b3c5f113-4d30-48f7-a3f8-d4be155828b5\",\"type\":\"ColumnDataSource\"}},\"id\":\"aa0e8a7e-4391-4ef5-8ccf-a5779e61ce3c\",\"type\":\"CDSView\"},{\"attributes\":{\"fill_alpha\":{\"value\":0.7},\"fill_color\":{\"value\":\"#4daf4a\"},\"line_alpha\":{\"value\":0.7},\"line_color\":{\"value\":\"#4daf4a\"},\"x\":{\"field\":\"x\"},\"y\":{\"field\":\"y\"}},\"id\":\"aecccc18-17a4-415b-a4d4-e56a17e46ff9\",\"type\":\"Circle\"},{\"attributes\":{\"callback\":null,\"data\":{\"x\":{\"__ndarray__\":\"1Y3DNLg18L6rH9deQFDwvppDEq7WbvC+1pZEKnSP8L4ql8OgdrLwvozdOxbl2vC+MNEy6AoK8b4e2CJDgELxvoRmuG6wh/G+KpU0QN7e8b62wY6O1U7yvlv/wpdU4fK+qshpWkSj877g6f1D76X0viIP1v+x1vW+F/JOvI0y9r5051VAOmXzvgi7j80/huW+LzEh7As74T6cQBC7VrcHP6hWDhYWKB4/gutMpzCmLz95fVknXSQ8P2IZpNdRz0I/ykr93jsDRD9i1oQpX95DP80h2JmD3kI/zA1q5Xy2QD9+fHmy+Bw6PwwlcOV6Miw/FWVcJNdHGb9JaJOafFFDv1rf3RV8vVS/dSCd0UWwYb9ZgH1PSE1sv789YALdtXW/EFxh0d8Rfr+kjrEDxRCDv85SrePKaYe/wQnqMx6ni79L+spvEC6Ov7V9DHmrfo6//q3ejXfajb95nAKW5baMv8rlRF2ZJ4u/vwFHscU2ib/xXKAjQO2GvwsGrYGaU4S/XRe/Z+tygb8e2B+YC6t8v5ahfzhHGna/c9DlkhGsbr8vam66oupgvww0D94Bsje/KEkXH0aPVj+favzbyOlpPwYQPW9DgXQ/hbGfK+xOfD9z9mQ77DCCPzOOvGxuXoY/0v4Wg9iwij8Ui/loWiqPPyrvNrG45pE/osD73U1NlD+6yWNeK8eWP+EZLTprTZk/eMwGunLNmz8djV9SXiaeP+NKDdIrHKA/HhjOomj/oD/K622lasqhPz6luuh6jqI/pgIcsulXoz+JvoikgC6kP0dYf0RGGaU/\",\"dtype\":\"float64\",\"shape\":[75]},\"y\":{\"__ndarray__\":\"GhExyth1ND/Sv8nbtpRIP2vylNV0PVE/aTum7souWD/At0SJ8fVgPw3Iuahxymc/MSNhhJWvcD/bTfBN02d3P2zb5nxnaoA/CD5h5MAGhz8NmeH1TyaQP+zrCsc9p5Y/LbKd76fGnz/bLW5ISEmmPww9YvTcQq8/JV2OstnstT8Er5Y7M8G+P0c+r3jqkcU/5h99k6ZBzj88bCIzFzjVP4enV8oyxN0//yH99nXg5D8qOpLLf0jtP5kqGJXUifQ/c9cS8kHP/D+/DpwzojQEQIEmwoanVwxA4lgXt9HgE0BSSZ2AJuIbQAMJih9jjiNA5q4l5INuK0AwTKYKRj0zQNv5fmq8/DpAaCJseHrtQkB/+zpwzoxKQM3MzMzMeFJAZmZmZmZqWEAAAAAAAFxeQM3MzMzMJmJAmpmZmZkfZUBmZmZmZhhoQDMzMzMzEWtAAAAAAAAKbkBmZmZmZoFwQM3MzMzM/XFAMzMzMzN6c0CamZmZmfZ0QAAAAAAAc3ZAZmZmZmbvd0DNzMzMzGt5QDMzMzMz6HpAmpmZmZlkfEAAAAAAAOF9QGZmZmZmXX9AZmZmZuZsgECamZmZGSuBQM3MzMxM6YFAAAAAAICngkAzMzMzs2WDQGZmZmbmI4RAmpmZmRnihEDNzMzMTKCFQAAAAACAXoZAMzMzM7Mch0BmZmZm5tqHQJqZmZkZmYhAzczMzExXiUAAAAAAgBWKQDMzMzOz04pAZmZmZuaRi0CamZmZGVCMQM3MzMxMDo1AAAAAAIDMjUAzMzMzs4qOQGZmZmbmSI9A\",\"dtype\":\"float64\",\"shape\":[75]}},\"selected\":{\"id\":\"9deafa82-4bed-4a62-b9a0-9bf7eda03ce9\",\"type\":\"Selection\"},\"selection_policy\":{\"id\":\"23fd5a2d-234e-4f0a-a25a-17232b65bec6\",\"type\":\"UnionRenderers\"}},\"id\":\"b3c5f113-4d30-48f7-a3f8-d4be155828b5\",\"type\":\"ColumnDataSource\"},{\"attributes\":{\"callback\":null,\"data\":{\"x\":{\"__ndarray__\":\"dXwMEf5s7r5lixuwhbDuvmQ64HndAe++RkbVK8dg7762z7Uvd87vvryu6BmEKPC+MOkOPnV48L7ywiOe/Nzwvjw2BsFUXvG+uDHF7usH8r4Pat28rOnyvgMyBoCwGfS+L/EIi6a29b5f3AUiWOv3vlc0MQrU5Pq+sEG42Tgx/r4v1Zojmh0Avy4srd26MP++XAeLtoi7976+XhEi09XNvv2qt06zzAM/8SDvyyodHz8vILUQUZwvP3eyNk3D+TQ/HtVrnfGiMz+ZkRRtm50tP/ymafLuJxs/gVxzzP3oFb94Qb/g9jY3v/F8aO++T0i/6AUpRodYVb9TF4QE2Sphv0kbEUyxw2m/fYTNgLtzcr9IFsK/B/V5v9PKpbby4IG/hxOJI778hr9d/8Kzg5iLv9KfDyzNAZC/TjlFmLn4kb9xc9nRACqTv1g4ZUj3bpO/k+AkBcoxk78Ol9Ogk56Sv7PYP7ItwZG/iCQsilShkL/hcHe6GYyOv9c5MeQLbIu/PJGz8sPvh7+MavX7HCSEvyFymL5HHIC/pdy2XRPTd7/DodY8F2Juv+SJ5I/QdFm/d9PomfVDRT8EoZ45ScVnPxpyGWPaUXU/sI/+Oh/1fj8My+rYK2WEP/9ZvvFfZ4k/FL/bHOR+jj+GP/PUS9WRPyLQ+SbWdJQ/3qm93rYclz9FS9wy+cmZPxURZXLhdZw/PFy3sIoRnz//71UZMMKgPxHphL5e26E/rIinEvbRoj+grFJZmK6jP4UZq7GqfKQ/jypL8xVEpT+e1zPfHAmmP4olQKjmzaY/\",\"dtype\":\"float64\",\"shape\":[75]},\"y\":{\"__ndarray__\":\"GhExyth1ND/Sv8nbtpRIP2vylNV0PVE/aTum7souWD/At0SJ8fVgPw3Iuahxymc/MSNhhJWvcD/bTfBN02d3P2zb5nxnaoA/CD5h5MAGhz8NmeH1TyaQP+zrCsc9p5Y/LbKd76fGnz/bLW5ISEmmPww9YvTcQq8/JV2OstnstT8Er5Y7M8G+P0c+r3jqkcU/5h99k6ZBzj88bCIzFzjVP4enV8oyxN0//yH99nXg5D8qOpLLf0jtP5kqGJXUifQ/c9cS8kHP/D+/DpwzojQEQIEmwoanVwxA4lgXt9HgE0BSSZ2AJuIbQAMJih9jjiNA5q4l5INuK0AwTKYKRj0zQNv5fmq8/DpAaCJseHrtQkB/+zpwzoxKQM3MzMzMeFJAZmZmZmZqWEAAAAAAAFxeQM3MzMzMJmJAmpmZmZkfZUBmZmZmZhhoQDMzMzMzEWtAAAAAAAAKbkBmZmZmZoFwQM3MzMzM/XFAMzMzMzN6c0CamZmZmfZ0QAAAAAAAc3ZAZmZmZmbvd0DNzMzMzGt5QDMzMzMz6HpAmpmZmZlkfEAAAAAAAOF9QGZmZmZmXX9AZmZmZuZsgECamZmZGSuBQM3MzMxM6YFAAAAAAICngkAzMzMzs2WDQGZmZmbmI4RAmpmZmRnihEDNzMzMTKCFQAAAAACAXoZAMzMzM7Mch0BmZmZm5tqHQJqZmZkZmYhAzczMzExXiUAAAAAAgBWKQDMzMzOz04pAZmZmZuaRi0CamZmZGVCMQM3MzMxMDo1AAAAAAIDMjUAzMzMzs4qOQGZmZmbmSI9A\",\"dtype\":\"float64\",\"shape\":[75]}},\"selected\":{\"id\":\"bb4a49eb-5665-4e86-b3c1-e2020bc8c677\",\"type\":\"Selection\"},\"selection_policy\":{\"id\":\"7cc4af64-a51c-4303-be02-9522652d8b61\",\"type\":\"UnionRenderers\"}},\"id\":\"3a03dbf8-da34-43ac-9331-c0bd744eb5c1\",\"type\":\"ColumnDataSource\"},{\"attributes\":{\"callback\":null,\"data\":{\"x\":{\"__ndarray__\":\"dXwMEf5s7r5lixuwhbDuvmQ64HndAe++RkbVK8dg7762z7Uvd87vvryu6BmEKPC+MOkOPnV48L7ywiOe/Nzwvjw2BsFUXvG+uDHF7usH8r4Pat28rOnyvgMyBoCwGfS+L/EIi6a29b5f3AUiWOv3vlc0MQrU5Pq+sEG42Tgx/r4v1Zojmh0Avy4srd26MP++XAeLtoi7976+XhEi09XNvv2qt06zzAM/8SDvyyodHz8vILUQUZwvP3eyNk3D+TQ/HtVrnfGiMz+ZkRRtm50tP/ymafLuJxs/gVxzzP3oFb94Qb/g9jY3v/F8aO++T0i/6AUpRodYVb9TF4QE2Sphv0kbEUyxw2m/fYTNgLtzcr9IFsK/B/V5v9PKpbby4IG/hxOJI778hr9d/8Kzg5iLv9KfDyzNAZC/TjlFmLn4kb9xc9nRACqTv1g4ZUj3bpO/k+AkBcoxk78Ol9Ogk56Sv7PYP7ItwZG/iCQsilShkL/hcHe6GYyOv9c5MeQLbIu/PJGz8sPvh7+MavX7HCSEvyFymL5HHIC/pdy2XRPTd7/DodY8F2Juv+SJ5I/QdFm/d9PomfVDRT8EoZ45ScVnPxpyGWPaUXU/sI/+Oh/1fj8My+rYK2WEP/9ZvvFfZ4k/FL/bHOR+jj+GP/PUS9WRPyLQ+SbWdJQ/3qm93rYclz9FS9wy+cmZPxURZXLhdZw/PFy3sIoRnz//71UZMMKgPxHphL5e26E/rIinEvbRoj+grFJZmK6jP4UZq7GqfKQ/jypL8xVEpT+e1zPfHAmmP4olQKjmzaY/\",\"dtype\":\"float64\",\"shape\":[75]},\"y\":{\"__ndarray__\":\"GhExyth1ND/Sv8nbtpRIP2vylNV0PVE/aTum7souWD/At0SJ8fVgPw3Iuahxymc/MSNhhJWvcD/bTfBN02d3P2zb5nxnaoA/CD5h5MAGhz8NmeH1TyaQP+zrCsc9p5Y/LbKd76fGnz/bLW5ISEmmPww9YvTcQq8/JV2OstnstT8Er5Y7M8G+P0c+r3jqkcU/5h99k6ZBzj88bCIzFzjVP4enV8oyxN0//yH99nXg5D8qOpLLf0jtP5kqGJXUifQ/c9cS8kHP/D+/DpwzojQEQIEmwoanVwxA4lgXt9HgE0BSSZ2AJuIbQAMJih9jjiNA5q4l5INuK0AwTKYKRj0zQNv5fmq8/DpAaCJseHrtQkB/+zpwzoxKQM3MzMzMeFJAZmZmZmZqWEAAAAAAAFxeQM3MzMzMJmJAmpmZmZkfZUBmZmZmZhhoQDMzMzMzEWtAAAAAAAAKbkBmZmZmZoFwQM3MzMzM/XFAMzMzMzN6c0CamZmZmfZ0QAAAAAAAc3ZAZmZmZmbvd0DNzMzMzGt5QDMzMzMz6HpAmpmZmZlkfEAAAAAAAOF9QGZmZmZmXX9AZmZmZuZsgECamZmZGSuBQM3MzMxM6YFAAAAAAICngkAzMzMzs2WDQGZmZmbmI4RAmpmZmRnihEDNzMzMTKCFQAAAAACAXoZAMzMzM7Mch0BmZmZm5tqHQJqZmZkZmYhAzczMzExXiUAAAAAAgBWKQDMzMzOz04pAZmZmZuaRi0CamZmZGVCMQM3MzMxMDo1AAAAAAIDMjUAzMzMzs4qOQGZmZmbmSI9A\",\"dtype\":\"float64\",\"shape\":[75]}},\"selected\":{\"id\":\"286a4093-c803-47c8-9e3e-a976a748d4ed\",\"type\":\"Selection\"},\"selection_policy\":{\"id\":\"d822ea87-744c-4316-9b95-d7d495cbead3\",\"type\":\"UnionRenderers\"}},\"id\":\"d5156fe8-a30f-49d5-b6d1-786efd2553cb\",\"type\":\"ColumnDataSource\"},{\"attributes\":{\"fill_alpha\":{\"value\":0.7},\"fill_color\":{\"value\":\"#377eb8\"},\"line_alpha\":{\"value\":0.7},\"line_color\":{\"value\":\"#377eb8\"},\"x\":{\"field\":\"x\"},\"y\":{\"field\":\"y\"}},\"id\":\"d5eb84f7-da8f-4aa1-ba1d-772d019e9c28\",\"type\":\"Triangle\"},{\"attributes\":{\"fill_alpha\":{\"value\":0.1},\"fill_color\":{\"value\":\"#1f77b4\"},\"line_alpha\":{\"value\":0.1},\"line_color\":{\"value\":\"#1f77b4\"},\"x\":{\"field\":\"x\"},\"y\":{\"field\":\"y\"}},\"id\":\"d098b6c1-7adf-49d5-accd-6b942aa3607f\",\"type\":\"Triangle\"},{\"attributes\":{\"data_source\":{\"id\":\"d5156fe8-a30f-49d5-b6d1-786efd2553cb\",\"type\":\"ColumnDataSource\"},\"glyph\":{\"id\":\"d5eb84f7-da8f-4aa1-ba1d-772d019e9c28\",\"type\":\"Triangle\"},\"hover_glyph\":null,\"muted_glyph\":null,\"nonselection_glyph\":{\"id\":\"d098b6c1-7adf-49d5-accd-6b942aa3607f\",\"type\":\"Triangle\"},\"selection_glyph\":null,\"view\":{\"id\":\"fc8a5f97-59b6-4b09-b2d7-c420c7d0e774\",\"type\":\"CDSView\"}},\"id\":\"c26048e7-64d7-468a-a997-56ed17776958\",\"type\":\"GlyphRenderer\"},{\"attributes\":{\"fill_alpha\":{\"value\":0.7},\"fill_color\":{\"value\":\"#984ea3\"},\"line_alpha\":{\"value\":0.7},\"line_color\":{\"value\":\"#984ea3\"},\"x\":{\"field\":\"x\"},\"y\":{\"field\":\"y\"}},\"id\":\"01e4be83-80ce-45b6-aa92-376f0d7c66b2\",\"type\":\"Square\"},{\"attributes\":{},\"id\":\"72c59ae7-ada7-4ef3-9593-1e5c8c1c7b19\",\"type\":\"UnionRenderers\"},{\"attributes\":{\"source\":{\"id\":\"d5156fe8-a30f-49d5-b6d1-786efd2553cb\",\"type\":\"ColumnDataSource\"}},\"id\":\"fc8a5f97-59b6-4b09-b2d7-c420c7d0e774\",\"type\":\"CDSView\"},{\"attributes\":{\"callback\":null,\"data\":{\"x\":{\"__ndarray__\":\"1Y3DNLg18L6rH9deQFDwvppDEq7WbvC+1pZEKnSP8L4ql8OgdrLwvozdOxbl2vC+MNEy6AoK8b4e2CJDgELxvoRmuG6wh/G+KpU0QN7e8b62wY6O1U7yvlv/wpdU4fK+qshpWkSj877g6f1D76X0viIP1v+x1vW+F/JOvI0y9r5051VAOmXzvgi7j80/huW+LzEh7As74T6cQBC7VrcHP6hWDhYWKB4/gutMpzCmLz95fVknXSQ8P2IZpNdRz0I/ykr93jsDRD9i1oQpX95DP80h2JmD3kI/zA1q5Xy2QD9+fHmy+Bw6PwwlcOV6Miw/FWVcJNdHGb9JaJOafFFDv1rf3RV8vVS/dSCd0UWwYb9ZgH1PSE1sv789YALdtXW/EFxh0d8Rfr+kjrEDxRCDv85SrePKaYe/wQnqMx6ni79L+spvEC6Ov7V9DHmrfo6//q3ejXfajb95nAKW5baMv8rlRF2ZJ4u/vwFHscU2ib/xXKAjQO2GvwsGrYGaU4S/XRe/Z+tygb8e2B+YC6t8v5ahfzhHGna/c9DlkhGsbr8vam66oupgvww0D94Bsje/KEkXH0aPVj+favzbyOlpPwYQPW9DgXQ/hbGfK+xOfD9z9mQ77DCCPzOOvGxuXoY/0v4Wg9iwij8Ui/loWiqPPyrvNrG45pE/osD73U1NlD+6yWNeK8eWP+EZLTprTZk/eMwGunLNmz8djV9SXiaeP+NKDdIrHKA/HhjOomj/oD/K622lasqhPz6luuh6jqI/pgIcsulXoz+JvoikgC6kP0dYf0RGGaU/\",\"dtype\":\"float64\",\"shape\":[75]},\"y\":{\"__ndarray__\":\"GhExyth1ND/Sv8nbtpRIP2vylNV0PVE/aTum7souWD/At0SJ8fVgPw3Iuahxymc/MSNhhJWvcD/bTfBN02d3P2zb5nxnaoA/CD5h5MAGhz8NmeH1TyaQP+zrCsc9p5Y/LbKd76fGnz/bLW5ISEmmPww9YvTcQq8/JV2OstnstT8Er5Y7M8G+P0c+r3jqkcU/5h99k6ZBzj88bCIzFzjVP4enV8oyxN0//yH99nXg5D8qOpLLf0jtP5kqGJXUifQ/c9cS8kHP/D+/DpwzojQEQIEmwoanVwxA4lgXt9HgE0BSSZ2AJuIbQAMJih9jjiNA5q4l5INuK0AwTKYKRj0zQNv5fmq8/DpAaCJseHrtQkB/+zpwzoxKQM3MzMzMeFJAZmZmZmZqWEAAAAAAAFxeQM3MzMzMJmJAmpmZmZkfZUBmZmZmZhhoQDMzMzMzEWtAAAAAAAAKbkBmZmZmZoFwQM3MzMzM/XFAMzMzMzN6c0CamZmZmfZ0QAAAAAAAc3ZAZmZmZmbvd0DNzMzMzGt5QDMzMzMz6HpAmpmZmZlkfEAAAAAAAOF9QGZmZmZmXX9AZmZmZuZsgECamZmZGSuBQM3MzMxM6YFAAAAAAICngkAzMzMzs2WDQGZmZmbmI4RAmpmZmRnihEDNzMzMTKCFQAAAAACAXoZAMzMzM7Mch0BmZmZm5tqHQJqZmZkZmYhAzczMzExXiUAAAAAAgBWKQDMzMzOz04pAZmZmZuaRi0CamZmZGVCMQM3MzMxMDo1AAAAAAIDMjUAzMzMzs4qOQGZmZmbmSI9A\",\"dtype\":\"float64\",\"shape\":[75]}},\"selected\":{\"id\":\"1c990dcc-6da2-4f2c-8fe0-6955ecee3537\",\"type\":\"Selection\"},\"selection_policy\":{\"id\":\"b79a02b1-821e-4935-880a-f861f2adb9e8\",\"type\":\"UnionRenderers\"}},\"id\":\"54426c50-cb40-4ee5-95d8-0abc3460bffd\",\"type\":\"ColumnDataSource\"},{\"attributes\":{\"line_alpha\":0.3,\"line_color\":\"#377eb8\",\"line_width\":2,\"x\":{\"field\":\"x\"},\"y\":{\"field\":\"y\"}},\"id\":\"6664e7bc-9e2a-4bf1-988e-86a28d084709\",\"type\":\"Line\"},{\"attributes\":{\"children\":[{\"id\":\"4b04cc96-bfe8-4de8-a59e-63949c44595f\",\"subtype\":\"Figure\",\"type\":\"Plot\"},{\"id\":\"749a9583-eb6d-40b5-a69a-d65e73e6784e\",\"subtype\":\"Figure\",\"type\":\"Plot\"}]},\"id\":\"23cdf32b-0c5a-450d-a676-eee0cd8dff7e\",\"type\":\"Row\"},{\"attributes\":{},\"id\":\"ae49abd0-a2f3-4571-a1e8-0d90f22b53b8\",\"type\":\"Selection\"},{\"attributes\":{\"line_alpha\":0.1,\"line_color\":\"#1f77b4\",\"line_width\":2,\"x\":{\"field\":\"x\"},\"y\":{\"field\":\"y\"}},\"id\":\"dc16a670-9a2a-4d2f-a6e5-b7d1f67c9658\",\"type\":\"Line\"},{\"attributes\":{\"data_source\":{\"id\":\"3a03dbf8-da34-43ac-9331-c0bd744eb5c1\",\"type\":\"ColumnDataSource\"},\"glyph\":{\"id\":\"6664e7bc-9e2a-4bf1-988e-86a28d084709\",\"type\":\"Line\"},\"hover_glyph\":null,\"muted_glyph\":null,\"nonselection_glyph\":{\"id\":\"dc16a670-9a2a-4d2f-a6e5-b7d1f67c9658\",\"type\":\"Line\"},\"selection_glyph\":null,\"view\":{\"id\":\"b4d82b54-04cd-4269-9b4a-2cb110996e7f\",\"type\":\"CDSView\"}},\"id\":\"30034c87-0c6b-4a22-80e5-18014db0ac50\",\"type\":\"GlyphRenderer\"},{\"attributes\":{\"source\":{\"id\":\"54426c50-cb40-4ee5-95d8-0abc3460bffd\",\"type\":\"ColumnDataSource\"}},\"id\":\"a75ca6f9-abd7-447f-876f-a2dde6b7c2ed\",\"type\":\"CDSView\"},{\"attributes\":{\"callback\":null,\"data\":{\"x\":{\"__ndarray__\":\"dXwMEf5s7r5lixuwhbDuvmQ64HndAe++RkbVK8dg7762z7Uvd87vvryu6BmEKPC+MOkOPnV48L7ywiOe/Nzwvjw2BsFUXvG+uDHF7usH8r4Pat28rOnyvgMyBoCwGfS+L/EIi6a29b5f3AUiWOv3vlc0MQrU5Pq+sEG42Tgx/r4v1Zojmh0Avy4srd26MP++XAeLtoi7976+XhEi09XNvv2qt06zzAM/8SDvyyodHz8vILUQUZwvP3eyNk3D+TQ/HtVrnfGiMz+ZkRRtm50tP/ymafLuJxs/gVxzzP3oFb94Qb/g9jY3v/F8aO++T0i/6AUpRodYVb9TF4QE2Sphv0kbEUyxw2m/fYTNgLtzcr9IFsK/B/V5v9PKpbby4IG/hxOJI778hr9d/8Kzg5iLv9KfDyzNAZC/TjlFmLn4kb9xc9nRACqTv1g4ZUj3bpO/k+AkBcoxk78Ol9Ogk56Sv7PYP7ItwZG/iCQsilShkL/hcHe6GYyOv9c5MeQLbIu/PJGz8sPvh7+MavX7HCSEvyFymL5HHIC/pdy2XRPTd7/DodY8F2Juv+SJ5I/QdFm/d9PomfVDRT8EoZ45ScVnPxpyGWPaUXU/sI/+Oh/1fj8My+rYK2WEP/9ZvvFfZ4k/FL/bHOR+jj+GP/PUS9WRPyLQ+SbWdJQ/3qm93rYclz9FS9wy+cmZPxURZXLhdZw/PFy3sIoRnz//71UZMMKgPxHphL5e26E/rIinEvbRoj+grFJZmK6jP4UZq7GqfKQ/jypL8xVEpT+e1zPfHAmmP4olQKjmzaY/\",\"dtype\":\"float64\",\"shape\":[75]},\"y\":{\"__ndarray__\":\"GhExyth1ND/Sv8nbtpRIP2vylNV0PVE/aTum7souWD/At0SJ8fVgPw3Iuahxymc/MSNhhJWvcD/bTfBN02d3P2zb5nxnaoA/CD5h5MAGhz8NmeH1TyaQP+zrCsc9p5Y/LbKd76fGnz/bLW5ISEmmPww9YvTcQq8/JV2OstnstT8Er5Y7M8G+P0c+r3jqkcU/5h99k6ZBzj88bCIzFzjVP4enV8oyxN0//yH99nXg5D8qOpLLf0jtP5kqGJXUifQ/c9cS8kHP/D+/DpwzojQEQIEmwoanVwxA4lgXt9HgE0BSSZ2AJuIbQAMJih9jjiNA5q4l5INuK0AwTKYKRj0zQNv5fmq8/DpAaCJseHrtQkB/+zpwzoxKQM3MzMzMeFJAZmZmZmZqWEAAAAAAAFxeQM3MzMzMJmJAmpmZmZkfZUBmZmZmZhhoQDMzMzMzEWtAAAAAAAAKbkBmZmZmZoFwQM3MzMzM/XFAMzMzMzN6c0CamZmZmfZ0QAAAAAAAc3ZAZmZmZmbvd0DNzMzMzGt5QDMzMzMz6HpAmpmZmZlkfEAAAAAAAOF9QGZmZmZmXX9AZmZmZuZsgECamZmZGSuBQM3MzMxM6YFAAAAAAICngkAzMzMzs2WDQGZmZmbmI4RAmpmZmRnihEDNzMzMTKCFQAAAAACAXoZAMzMzM7Mch0BmZmZm5tqHQJqZmZkZmYhAzczMzExXiUAAAAAAgBWKQDMzMzOz04pAZmZmZuaRi0CamZmZGVCMQM3MzMxMDo1AAAAAAIDMjUAzMzMzs4qOQGZmZmbmSI9A\",\"dtype\":\"float64\",\"shape\":[75]}},\"selected\":{\"id\":\"ae49abd0-a2f3-4571-a1e8-0d90f22b53b8\",\"type\":\"Selection\"},\"selection_policy\":{\"id\":\"9d72901d-1f77-4567-80c8-3e4886349ad3\",\"type\":\"UnionRenderers\"}},\"id\":\"807e49a9-e6c3-436a-8545-68f606e72cd9\",\"type\":\"ColumnDataSource\"},{\"attributes\":{\"source\":{\"id\":\"3a03dbf8-da34-43ac-9331-c0bd744eb5c1\",\"type\":\"ColumnDataSource\"}},\"id\":\"b4d82b54-04cd-4269-9b4a-2cb110996e7f\",\"type\":\"CDSView\"},{\"attributes\":{},\"id\":\"d8568602-ea4b-40f2-800e-79800e00e959\",\"type\":\"PanTool\"},{\"attributes\":{\"label\":{\"value\":\"CRD\"},\"renderers\":[{\"id\":\"321c8bde-e01b-4c3f-b0ed-a482be759125\",\"type\":\"GlyphRenderer\"},{\"id\":\"ee1b591d-23a7-4c0b-9319-9fd9f3b123bc\",\"type\":\"GlyphRenderer\"}]},\"id\":\"9738d372-c592-4277-892c-923c063dcb5f\",\"type\":\"LegendItem\"},{\"attributes\":{\"plot\":null,\"text\":\"\"},\"id\":\"393d6b4c-0ba6-4a8d-8909-8d09cf886907\",\"type\":\"Title\"},{\"attributes\":{\"line_alpha\":0.1,\"line_color\":\"#1f77b4\",\"line_width\":3,\"x\":{\"field\":\"x\"},\"y\":{\"field\":\"y\"}},\"id\":\"e2ae3ded-4c27-410d-a74d-333251fe98a2\",\"type\":\"Line\"},{\"attributes\":{},\"id\":\"7e6d186f-cc90-430f-9882-852cc86f141f\",\"type\":\"Selection\"},{\"attributes\":{},\"id\":\"a52087a3-7f3c-43d5-b745-2530977c178f\",\"type\":\"BasicTickFormatter\"},{\"attributes\":{\"callback\":null,\"data\":{\"x\":{\"__ndarray__\":\"t6NIhLOu7b65DGhOfOrtvgvx5gVoLO6+KHlS9/d57r5YUMvg/tTuvih+Las6Q+++Es+VC73M776qPHfsTT7wvlz0Wk8xsfC+gcgosL9J8b5EPm3I3hbyvu23FegrLfO+7tEp9Cup9L5kZAKQc7H2vpgTJDf9Rvm+qqkYSXt6+77cv8P4Wi/7vvBoz+DTFPa+ZtsLifOv3r5LEvl9jyf4Pi/1gIvB3RU/wfez/Hi6KT9RDTd8pOM3P23GqB8AjD8/EIHz/tBnPz/zAxzr+oI7P9DWgXodfjQ/7+32y+aoIj8a4y27eIkcv3gMSU3GLz+/4BQOMPexUL9SsdXQi3Rdv8WD4AuwI2e/5mFH+ccPcb+dzZ03EoN4v0y1sBWWMoG/FCDaLDZkhr+sGQUASB+Lv4VllLA0xY+/hKc8LGf+kb9VgkkacTuTv0Av1wB3aZO/JIcO1SIPk7+oYyF8IGCSvzVrIa+kaJG/NSFSeHUzkL9U7oLkRIuNvwOiFjn6Toq/ZwOpRyy/hr98X8SNR+iCv3iC1qLSv32/HmLJfhlxdb/DNa9V//ppv7B2Z3jys1G/Ur8/KF4TUT/VhUSH7DZqPzwUc7uYIHY/m2bk6WFTfz8HbwBgMlqEP8W+9UVoIok/aWoWvncBjj9xzJuLC3yRP5M/7/i8A5Q/MfTytROXlj/OXMaeVDOZP2F2mPTM0ps/w/B5FJpjnj8v2GtMGGWgP6PtVp5ZdaE/XQrQNRpgoj9rvaIFrzCjP1qU+C1R9aM/AgGYVja4pD9DAOf6e3+lP7oexE+VT6Y/\",\"dtype\":\"float64\",\"shape\":[75]},\"y\":{\"__ndarray__\":\"GhExyth1ND/Sv8nbtpRIP2vylNV0PVE/aTum7souWD/At0SJ8fVgPw3Iuahxymc/MSNhhJWvcD/bTfBN02d3P2zb5nxnaoA/CD5h5MAGhz8NmeH1TyaQP+zrCsc9p5Y/LbKd76fGnz/bLW5ISEmmPww9YvTcQq8/JV2OstnstT8Er5Y7M8G+P0c+r3jqkcU/5h99k6ZBzj88bCIzFzjVP4enV8oyxN0//yH99nXg5D8qOpLLf0jtP5kqGJXUifQ/c9cS8kHP/D+/DpwzojQEQIEmwoanVwxA4lgXt9HgE0BSSZ2AJuIbQAMJih9jjiNA5q4l5INuK0AwTKYKRj0zQNv5fmq8/DpAaCJseHrtQkB/+zpwzoxKQM3MzMzMeFJAZmZmZmZqWEAAAAAAAFxeQM3MzMzMJmJAmpmZmZkfZUBmZmZmZhhoQDMzMzMzEWtAAAAAAAAKbkBmZmZmZoFwQM3MzMzM/XFAMzMzMzN6c0CamZmZmfZ0QAAAAAAAc3ZAZmZmZmbvd0DNzMzMzGt5QDMzMzMz6HpAmpmZmZlkfEAAAAAAAOF9QGZmZmZmXX9AZmZmZuZsgECamZmZGSuBQM3MzMxM6YFAAAAAAICngkAzMzMzs2WDQGZmZmbmI4RAmpmZmRnihEDNzMzMTKCFQAAAAACAXoZAMzMzM7Mch0BmZmZm5tqHQJqZmZkZmYhAzczMzExXiUAAAAAAgBWKQDMzMzOz04pAZmZmZuaRi0CamZmZGVCMQM3MzMxMDo1AAAAAAIDMjUAzMzMzs4qOQGZmZmbmSI9A\",\"dtype\":\"float64\",\"shape\":[75]}},\"selected\":{\"id\":\"39fb9428-9e15-48df-9136-454a00ce529d\",\"type\":\"Selection\"},\"selection_policy\":{\"id\":\"0bec7b32-9e83-4119-823d-fd6c357defe9\",\"type\":\"UnionRenderers\"}},\"id\":\"932e1ca6-8017-4f46-ab10-5c3e5891a517\",\"type\":\"ColumnDataSource\"},{\"attributes\":{\"data_source\":{\"id\":\"f9e6652c-c44c-4bd2-ab57-f27d300b4120\",\"type\":\"ColumnDataSource\"},\"glyph\":{\"id\":\"19983db1-f3c5-4195-b619-782760c12a5c\",\"type\":\"Line\"},\"hover_glyph\":null,\"muted_glyph\":null,\"nonselection_glyph\":{\"id\":\"e2ae3ded-4c27-410d-a74d-333251fe98a2\",\"type\":\"Line\"},\"selection_glyph\":null,\"view\":{\"id\":\"f9c35cb7-dcdb-45d2-8457-0e0942137908\",\"type\":\"CDSView\"}},\"id\":\"36c75f11-274a-407b-b803-cad7aaa40c80\",\"type\":\"GlyphRenderer\"},{\"attributes\":{\"line_color\":\"#4daf4a\",\"line_width\":1.5,\"x\":{\"field\":\"x\"},\"y\":{\"field\":\"y\"}},\"id\":\"2a13a49e-39ec-42de-9472-fd2c8eeb76a5\",\"type\":\"Line\"},{\"attributes\":{\"label\":{\"value\":\"WGT igg=1\"},\"renderers\":[{\"id\":\"b6b13388-ded7-435b-a3b9-50db3dc63f00\",\"type\":\"GlyphRenderer\"},{\"id\":\"c062088e-4ac2-49ad-9881-33984395e616\",\"type\":\"GlyphRenderer\"}]},\"id\":\"6d431b88-cdf1-4fb8-98cc-3c80e1ccc7ba\",\"type\":\"LegendItem\"},{\"attributes\":{},\"id\":\"23fd5a2d-234e-4f0a-a25a-17232b65bec6\",\"type\":\"UnionRenderers\"},{\"attributes\":{\"label\":{\"value\":\"WGT igg=10\"},\"renderers\":[{\"id\":\"c26048e7-64d7-468a-a997-56ed17776958\",\"type\":\"GlyphRenderer\"},{\"id\":\"30034c87-0c6b-4a22-80e5-18014db0ac50\",\"type\":\"GlyphRenderer\"}]},\"id\":\"59dbecc6-fdf1-4b89-9291-4e91df061702\",\"type\":\"LegendItem\"},{\"attributes\":{\"source\":{\"id\":\"b7ff69f6-5e66-4136-9f9c-9fd41f740dce\",\"type\":\"ColumnDataSource\"}},\"id\":\"fe4fde91-792c-4da8-897a-842325408206\",\"type\":\"CDSView\"},{\"attributes\":{},\"id\":\"8987f6a5-f009-4b30-b0f5-be0329f30055\",\"type\":\"UnionRenderers\"},{\"attributes\":{\"line_alpha\":0.6,\"line_color\":\"#984ea3\",\"line_width\":3,\"x\":{\"field\":\"x\"},\"y\":{\"field\":\"y\"}},\"id\":\"19983db1-f3c5-4195-b619-782760c12a5c\",\"type\":\"Line\"},{\"attributes\":{},\"id\":\"9deafa82-4bed-4a62-b9a0-9bf7eda03ce9\",\"type\":\"Selection\"},{\"attributes\":{},\"id\":\"445c138c-f987-4848-877f-0b2aae50a115\",\"type\":\"BasicTickFormatter\"},{\"attributes\":{},\"id\":\"1c990dcc-6da2-4f2c-8fe0-6955ecee3537\",\"type\":\"Selection\"},{\"attributes\":{\"line_alpha\":0.1,\"line_color\":\"#1f77b4\",\"line_width\":1.5,\"x\":{\"field\":\"x\"},\"y\":{\"field\":\"y\"}},\"id\":\"c7f9ecb9-2325-4218-810b-aff814f3e4ee\",\"type\":\"Line\"},{\"attributes\":{},\"id\":\"211e18e5-6011-4f86-b138-595719093955\",\"type\":\"Selection\"},{\"attributes\":{},\"id\":\"ee9e64b8-dffa-4847-87cd-c20fcd929fa4\",\"type\":\"Selection\"},{\"attributes\":{},\"id\":\"62773388-804e-47c2-815f-6d29fe6419f6\",\"type\":\"Selection\"},{\"attributes\":{},\"id\":\"49941b4f-a71c-44f7-9ee4-c98b5c93f77c\",\"type\":\"Selection\"},{\"attributes\":{\"callback\":null,\"data\":{\"x\":{\"__ndarray__\":\"t6NIhLOu7b65DGhOfOrtvgvx5gVoLO6+KHlS9/d57r5YUMvg/tTuvih+Las6Q+++Es+VC73M776qPHfsTT7wvlz0Wk8xsfC+gcgosL9J8b5EPm3I3hbyvu23FegrLfO+7tEp9Cup9L5kZAKQc7H2vpgTJDf9Rvm+qqkYSXt6+77cv8P4Wi/7vvBoz+DTFPa+ZtsLifOv3r5LEvl9jyf4Pi/1gIvB3RU/wfez/Hi6KT9RDTd8pOM3P23GqB8AjD8/EIHz/tBnPz/zAxzr+oI7P9DWgXodfjQ/7+32y+aoIj8a4y27eIkcv3gMSU3GLz+/4BQOMPexUL9SsdXQi3Rdv8WD4AuwI2e/5mFH+ccPcb+dzZ03EoN4v0y1sBWWMoG/FCDaLDZkhr+sGQUASB+Lv4VllLA0xY+/hKc8LGf+kb9VgkkacTuTv0Av1wB3aZO/JIcO1SIPk7+oYyF8IGCSvzVrIa+kaJG/NSFSeHUzkL9U7oLkRIuNvwOiFjn6Toq/ZwOpRyy/hr98X8SNR+iCv3iC1qLSv32/HmLJfhlxdb/DNa9V//ppv7B2Z3jys1G/Ur8/KF4TUT/VhUSH7DZqPzwUc7uYIHY/m2bk6WFTfz8HbwBgMlqEP8W+9UVoIok/aWoWvncBjj9xzJuLC3yRP5M/7/i8A5Q/MfTytROXlj/OXMaeVDOZP2F2mPTM0ps/w/B5FJpjnj8v2GtMGGWgP6PtVp5ZdaE/XQrQNRpgoj9rvaIFrzCjP1qU+C1R9aM/AgGYVja4pD9DAOf6e3+lP7oexE+VT6Y/\",\"dtype\":\"float64\",\"shape\":[75]},\"y\":{\"__ndarray__\":\"GhExyth1ND/Sv8nbtpRIP2vylNV0PVE/aTum7souWD/At0SJ8fVgPw3Iuahxymc/MSNhhJWvcD/bTfBN02d3P2zb5nxnaoA/CD5h5MAGhz8NmeH1TyaQP+zrCsc9p5Y/LbKd76fGnz/bLW5ISEmmPww9YvTcQq8/JV2OstnstT8Er5Y7M8G+P0c+r3jqkcU/5h99k6ZBzj88bCIzFzjVP4enV8oyxN0//yH99nXg5D8qOpLLf0jtP5kqGJXUifQ/c9cS8kHP/D+/DpwzojQEQIEmwoanVwxA4lgXt9HgE0BSSZ2AJuIbQAMJih9jjiNA5q4l5INuK0AwTKYKRj0zQNv5fmq8/DpAaCJseHrtQkB/+zpwzoxKQM3MzMzMeFJAZmZmZmZqWEAAAAAAAFxeQM3MzMzMJmJAmpmZmZkfZUBmZmZmZhhoQDMzMzMzEWtAAAAAAAAKbkBmZmZmZoFwQM3MzMzM/XFAMzMzMzN6c0CamZmZmfZ0QAAAAAAAc3ZAZmZmZmbvd0DNzMzMzGt5QDMzMzMz6HpAmpmZmZlkfEAAAAAAAOF9QGZmZmZmXX9AZmZmZuZsgECamZmZGSuBQM3MzMxM6YFAAAAAAICngkAzMzMzs2WDQGZmZmbmI4RAmpmZmRnihEDNzMzMTKCFQAAAAACAXoZAMzMzM7Mch0BmZmZm5tqHQJqZmZkZmYhAzczMzExXiUAAAAAAgBWKQDMzMzOz04pAZmZmZuaRi0CamZmZGVCMQM3MzMxMDo1AAAAAAIDMjUAzMzMzs4qOQGZmZmbmSI9A\",\"dtype\":\"float64\",\"shape\":[75]}},\"selected\":{\"id\":\"5df42003-88a9-425e-8897-27ceded8a6a4\",\"type\":\"Selection\"},\"selection_policy\":{\"id\":\"663ec8fb-087f-462d-a58f-00794226b12e\",\"type\":\"UnionRenderers\"}},\"id\":\"f9e6652c-c44c-4bd2-ab57-f27d300b4120\",\"type\":\"ColumnDataSource\"},{\"attributes\":{},\"id\":\"65a2adba-fcbb-4ebb-a617-44aa75fa2f9d\",\"type\":\"UnionRenderers\"},{\"attributes\":{},\"id\":\"663ec8fb-087f-462d-a58f-00794226b12e\",\"type\":\"UnionRenderers\"},{\"attributes\":{},\"id\":\"3107d984-62e8-4b7f-9d14-34732354cb62\",\"type\":\"UnionRenderers\"},{\"attributes\":{\"callback\":null,\"data\":{\"x\":{\"__ndarray__\":\"t6NIhLOu7b65DGhOfOrtvgvx5gVoLO6+KHlS9/d57r5YUMvg/tTuvih+Las6Q+++Es+VC73M776qPHfsTT7wvlz0Wk8xsfC+gcgosL9J8b5EPm3I3hbyvu23FegrLfO+7tEp9Cup9L5kZAKQc7H2vpgTJDf9Rvm+qqkYSXt6+77cv8P4Wi/7vvBoz+DTFPa+ZtsLifOv3r5LEvl9jyf4Pi/1gIvB3RU/wfez/Hi6KT9RDTd8pOM3P23GqB8AjD8/EIHz/tBnPz/zAxzr+oI7P9DWgXodfjQ/7+32y+aoIj8a4y27eIkcv3gMSU3GLz+/4BQOMPexUL9SsdXQi3Rdv8WD4AuwI2e/5mFH+ccPcb+dzZ03EoN4v0y1sBWWMoG/FCDaLDZkhr+sGQUASB+Lv4VllLA0xY+/hKc8LGf+kb9VgkkacTuTv0Av1wB3aZO/JIcO1SIPk7+oYyF8IGCSvzVrIa+kaJG/NSFSeHUzkL9U7oLkRIuNvwOiFjn6Toq/ZwOpRyy/hr98X8SNR+iCv3iC1qLSv32/HmLJfhlxdb/DNa9V//ppv7B2Z3jys1G/Ur8/KF4TUT/VhUSH7DZqPzwUc7uYIHY/m2bk6WFTfz8HbwBgMlqEP8W+9UVoIok/aWoWvncBjj9xzJuLC3yRP5M/7/i8A5Q/MfTytROXlj/OXMaeVDOZP2F2mPTM0ps/w/B5FJpjnj8v2GtMGGWgP6PtVp5ZdaE/XQrQNRpgoj9rvaIFrzCjP1qU+C1R9aM/AgGYVja4pD9DAOf6e3+lP7oexE+VT6Y/\",\"dtype\":\"float64\",\"shape\":[75]},\"y\":{\"__ndarray__\":\"GhExyth1ND/Sv8nbtpRIP2vylNV0PVE/aTum7souWD/At0SJ8fVgPw3Iuahxymc/MSNhhJWvcD/bTfBN02d3P2zb5nxnaoA/CD5h5MAGhz8NmeH1TyaQP+zrCsc9p5Y/LbKd76fGnz/bLW5ISEmmPww9YvTcQq8/JV2OstnstT8Er5Y7M8G+P0c+r3jqkcU/5h99k6ZBzj88bCIzFzjVP4enV8oyxN0//yH99nXg5D8qOpLLf0jtP5kqGJXUifQ/c9cS8kHP/D+/DpwzojQEQIEmwoanVwxA4lgXt9HgE0BSSZ2AJuIbQAMJih9jjiNA5q4l5INuK0AwTKYKRj0zQNv5fmq8/DpAaCJseHrtQkB/+zpwzoxKQM3MzMzMeFJAZmZmZmZqWEAAAAAAAFxeQM3MzMzMJmJAmpmZmZkfZUBmZmZmZhhoQDMzMzMzEWtAAAAAAAAKbkBmZmZmZoFwQM3MzMzM/XFAMzMzMzN6c0CamZmZmfZ0QAAAAAAAc3ZAZmZmZmbvd0DNzMzMzGt5QDMzMzMz6HpAmpmZmZlkfEAAAAAAAOF9QGZmZmZmXX9AZmZmZuZsgECamZmZGSuBQM3MzMxM6YFAAAAAAICngkAzMzMzs2WDQGZmZmbmI4RAmpmZmRnihEDNzMzMTKCFQAAAAACAXoZAMzMzM7Mch0BmZmZm5tqHQJqZmZkZmYhAzczMzExXiUAAAAAAgBWKQDMzMzOz04pAZmZmZuaRi0CamZmZGVCMQM3MzMxMDo1AAAAAAIDMjUAzMzMzs4qOQGZmZmbmSI9A\",\"dtype\":\"float64\",\"shape\":[75]}},\"selected\":{\"id\":\"211e18e5-6011-4f86-b138-595719093955\",\"type\":\"Selection\"},\"selection_policy\":{\"id\":\"65a2adba-fcbb-4ebb-a617-44aa75fa2f9d\",\"type\":\"UnionRenderers\"}},\"id\":\"b7ff69f6-5e66-4136-9f9c-9fd41f740dce\",\"type\":\"ColumnDataSource\"},{\"attributes\":{},\"id\":\"39fb9428-9e15-48df-9136-454a00ce529d\",\"type\":\"Selection\"},{\"attributes\":{\"data_source\":{\"id\":\"807e49a9-e6c3-436a-8545-68f606e72cd9\",\"type\":\"ColumnDataSource\"},\"glyph\":{\"id\":\"8ca5600f-7f8f-4120-9948-19603b431a19\",\"type\":\"Triangle\"},\"hover_glyph\":null,\"muted_glyph\":null,\"nonselection_glyph\":{\"id\":\"bcd0da8a-66af-4743-92a7-a24b1090013e\",\"type\":\"Triangle\"},\"selection_glyph\":null,\"view\":{\"id\":\"ff7dc5bb-bf31-455a-8b3c-a9e2fed2f829\",\"type\":\"CDSView\"}},\"id\":\"c04d886f-a90d-4d4e-8b50-5d84a4421b86\",\"type\":\"GlyphRenderer\"},{\"attributes\":{},\"id\":\"286a4093-c803-47c8-9e3e-a976a748d4ed\",\"type\":\"Selection\"},{\"attributes\":{\"fill_alpha\":{\"value\":0.1},\"fill_color\":{\"value\":\"#1f77b4\"},\"line_alpha\":{\"value\":0.1},\"line_color\":{\"value\":\"#1f77b4\"},\"x\":{\"field\":\"x\"},\"y\":{\"field\":\"y\"}},\"id\":\"bcd0da8a-66af-4743-92a7-a24b1090013e\",\"type\":\"Triangle\"},{\"attributes\":{},\"id\":\"bb4a49eb-5665-4e86-b3c1-e2020bc8c677\",\"type\":\"Selection\"},{\"attributes\":{\"line_alpha\":0.1,\"line_color\":\"#1f77b4\",\"line_width\":2,\"x\":{\"field\":\"x\"},\"y\":{\"field\":\"y\"}},\"id\":\"9f315807-e230-40a6-95c2-22a4562caa05\",\"type\":\"Line\"},{\"attributes\":{},\"id\":\"0bec7b32-9e83-4119-823d-fd6c357defe9\",\"type\":\"UnionRenderers\"},{\"attributes\":{\"toolbar\":{\"id\":\"d348880f-65ed-4325-9555-9958f01269e2\",\"type\":\"ProxyToolbar\"},\"toolbar_location\":\"above\"},\"id\":\"15a7dbad-6b01-47e3-88b3-7cbd344ee59f\",\"type\":\"ToolbarBox\"},{\"attributes\":{\"data_source\":{\"id\":\"80f71b46-af8f-4f03-bd9f-c3cedbc89a2c\",\"type\":\"ColumnDataSource\"},\"glyph\":{\"id\":\"d6252b7c-5523-4e3f-8532-59af77885579\",\"type\":\"Line\"},\"hover_glyph\":null,\"muted_glyph\":null,\"nonselection_glyph\":{\"id\":\"de8d52a1-5b08-4701-9f17-2ce729e7dbae\",\"type\":\"Line\"},\"selection_glyph\":null,\"view\":{\"id\":\"22236502-d3d6-4987-80ad-0deabbe11755\",\"type\":\"CDSView\"}},\"id\":\"27a6b82c-51ce-4bd2-bf88-7697bde47274\",\"type\":\"GlyphRenderer\"},{\"attributes\":{\"line_alpha\":0.1,\"line_color\":\"#1f77b4\",\"line_width\":1.5,\"x\":{\"field\":\"x\"},\"y\":{\"field\":\"y\"}},\"id\":\"de8d52a1-5b08-4701-9f17-2ce729e7dbae\",\"type\":\"Line\"},{\"attributes\":{\"fill_alpha\":{\"value\":0.1},\"fill_color\":{\"value\":\"#1f77b4\"},\"line_alpha\":{\"value\":0.1},\"line_color\":{\"value\":\"#1f77b4\"},\"x\":{\"field\":\"x\"},\"y\":{\"field\":\"y\"}},\"id\":\"528b4003-56b9-4540-a0ea-27c98405eb17\",\"type\":\"Circle\"},{\"attributes\":{},\"id\":\"a6abe1b9-e5af-4823-86d7-983a30a06c5d\",\"type\":\"UnionRenderers\"},{\"attributes\":{},\"id\":\"d822ea87-744c-4316-9b95-d7d495cbead3\",\"type\":\"UnionRenderers\"},{\"attributes\":{\"children\":[{\"id\":\"15a7dbad-6b01-47e3-88b3-7cbd344ee59f\",\"type\":\"ToolbarBox\"},{\"id\":\"f8466a2c-1549-41d0-8e58-1a77802af6e1\",\"type\":\"Column\"}]},\"id\":\"ecbed2a1-d199-4b3f-88a0-908992e867ac\",\"type\":\"Column\"},{\"attributes\":{\"source\":{\"id\":\"807e49a9-e6c3-436a-8545-68f606e72cd9\",\"type\":\"ColumnDataSource\"}},\"id\":\"ff7dc5bb-bf31-455a-8b3c-a9e2fed2f829\",\"type\":\"CDSView\"},{\"attributes\":{},\"id\":\"7cc4af64-a51c-4303-be02-9522652d8b61\",\"type\":\"UnionRenderers\"},{\"attributes\":{\"tools\":[{\"id\":\"e02a8ddf-87b0-43b1-9433-30119c72e4db\",\"type\":\"PanTool\"},{\"id\":\"152b92ac-cb0b-48b2-a062-130ad6e3c8fc\",\"type\":\"WheelZoomTool\"},{\"id\":\"f4e0153f-15af-478f-b8ce-e159a6ba0823\",\"type\":\"BoxZoomTool\"},{\"id\":\"2f44d87b-c1dc-454d-a8de-f06d62290a10\",\"type\":\"SaveTool\"},{\"id\":\"7a8705b9-c18f-42c8-ae19-de49516eb328\",\"type\":\"ResetTool\"},{\"id\":\"e44beec2-9780-4400-a280-c921a6b22ee2\",\"type\":\"HelpTool\"},{\"id\":\"d8568602-ea4b-40f2-800e-79800e00e959\",\"type\":\"PanTool\"},{\"id\":\"17b4cbdf-0bfa-4474-94b6-91f0ffc96795\",\"type\":\"WheelZoomTool\"},{\"id\":\"1b2ab424-a87d-4aa1-a199-04462bee6b48\",\"type\":\"BoxZoomTool\"},{\"id\":\"e3b98b8d-9604-434a-b62a-b96f00610d7b\",\"type\":\"SaveTool\"},{\"id\":\"da0c8751-c9b2-488b-87c0-87ac413e908b\",\"type\":\"ResetTool\"},{\"id\":\"419cde84-583c-4208-8ba6-a2f26ef33345\",\"type\":\"HelpTool\"}]},\"id\":\"d348880f-65ed-4325-9555-9958f01269e2\",\"type\":\"ProxyToolbar\"},{\"attributes\":{\"source\":{\"id\":\"80f71b46-af8f-4f03-bd9f-c3cedbc89a2c\",\"type\":\"ColumnDataSource\"}},\"id\":\"22236502-d3d6-4987-80ad-0deabbe11755\",\"type\":\"CDSView\"},{\"attributes\":{\"source\":{\"id\":\"f9e6652c-c44c-4bd2-ab57-f27d300b4120\",\"type\":\"ColumnDataSource\"}},\"id\":\"f9c35cb7-dcdb-45d2-8457-0e0942137908\",\"type\":\"CDSView\"},{\"attributes\":{\"above\":[{\"id\":\"77e578cd-04dd-4b91-8098-2f381959ddb2\",\"type\":\"Legend\"}],\"below\":[{\"id\":\"dedcd7a9-a168-43ff-adc5-736d217497fb\",\"type\":\"LinearAxis\"}],\"left\":[{\"id\":\"36c587c0-2a80-4a5a-9b71-dd6217b7050b\",\"type\":\"LogAxis\"}],\"plot_height\":500,\"plot_width\":400,\"renderers\":[{\"id\":\"dedcd7a9-a168-43ff-adc5-736d217497fb\",\"type\":\"LinearAxis\"},{\"id\":\"5a2a2501-ed37-472b-8245-8ff51f7ba951\",\"type\":\"Grid\"},{\"id\":\"36c587c0-2a80-4a5a-9b71-dd6217b7050b\",\"type\":\"LogAxis\"},{\"id\":\"bebd16c8-18cb-4399-af60-3c34cc274dfe\",\"type\":\"Grid\"},{\"id\":\"062fe2f4-a7b7-42fa-afde-00046b2b99bd\",\"type\":\"BoxAnnotation\"},{\"id\":\"321c8bde-e01b-4c3f-b0ed-a482be759125\",\"type\":\"GlyphRenderer\"},{\"id\":\"ee1b591d-23a7-4c0b-9319-9fd9f3b123bc\",\"type\":\"GlyphRenderer\"},{\"id\":\"b6b13388-ded7-435b-a3b9-50db3dc63f00\",\"type\":\"GlyphRenderer\"},{\"id\":\"c062088e-4ac2-49ad-9881-33984395e616\",\"type\":\"GlyphRenderer\"},{\"id\":\"c26048e7-64d7-468a-a997-56ed17776958\",\"type\":\"GlyphRenderer\"},{\"id\":\"30034c87-0c6b-4a22-80e5-18014db0ac50\",\"type\":\"GlyphRenderer\"},{\"id\":\"77e578cd-04dd-4b91-8098-2f381959ddb2\",\"type\":\"Legend\"}],\"title\":{\"id\":\"4a020734-118b-4fad-b187-0f53d2d19d44\",\"type\":\"Title\"},\"toolbar\":{\"id\":\"d2aa687d-dc15-4335-8474-a7ec264f9f8f\",\"type\":\"Toolbar\"},\"toolbar_location\":null,\"x_range\":{\"id\":\"1a514ac5-95c8-4410-a53f-bda43822d079\",\"type\":\"Range1d\"},\"x_scale\":{\"id\":\"7acb4444-b221-425d-a415-04f5551e3899\",\"type\":\"LinearScale\"},\"y_range\":{\"id\":\"cda25a43-43b5-4834-b72f-3b8d01f523a9\",\"type\":\"Range1d\"},\"y_scale\":{\"id\":\"833666e3-05ff-4b6f-8654-1a84e59e5e5c\",\"type\":\"LogScale\"}},\"id\":\"749a9583-eb6d-40b5-a69a-d65e73e6784e\",\"subtype\":\"Figure\",\"type\":\"Plot\"},{\"attributes\":{\"source\":{\"id\":\"932e1ca6-8017-4f46-ab10-5c3e5891a517\",\"type\":\"ColumnDataSource\"}},\"id\":\"d3b429ee-a479-45f0-9873-d3943f495b3e\",\"type\":\"CDSView\"},{\"attributes\":{},\"id\":\"5df42003-88a9-425e-8897-27ceded8a6a4\",\"type\":\"Selection\"},{\"attributes\":{\"data_source\":{\"id\":\"54426c50-cb40-4ee5-95d8-0abc3460bffd\",\"type\":\"ColumnDataSource\"},\"glyph\":{\"id\":\"8bd13890-3918-484e-bd05-bf25a0dc8740\",\"type\":\"Circle\"},\"hover_glyph\":null,\"muted_glyph\":null,\"nonselection_glyph\":{\"id\":\"528b4003-56b9-4540-a0ea-27c98405eb17\",\"type\":\"Circle\"},\"selection_glyph\":null,\"view\":{\"id\":\"a75ca6f9-abd7-447f-876f-a2dde6b7c2ed\",\"type\":\"CDSView\"}},\"id\":\"321c8bde-e01b-4c3f-b0ed-a482be759125\",\"type\":\"GlyphRenderer\"},{\"attributes\":{\"fill_alpha\":{\"value\":0.1},\"fill_color\":{\"value\":\"#1f77b4\"},\"line_alpha\":{\"value\":0.1},\"line_color\":{\"value\":\"#1f77b4\"},\"x\":{\"field\":\"x\"},\"y\":{\"field\":\"y\"}},\"id\":\"054855e8-5937-4b6f-bbb1-36692d8ce732\",\"type\":\"Square\"},{\"attributes\":{\"line_color\":\"#4daf4a\",\"line_width\":1.5,\"x\":{\"field\":\"x\"},\"y\":{\"field\":\"y\"}},\"id\":\"d6252b7c-5523-4e3f-8532-59af77885579\",\"type\":\"Line\"},{\"attributes\":{\"line_alpha\":0.3,\"line_color\":\"#377eb8\",\"line_width\":2,\"x\":{\"field\":\"x\"},\"y\":{\"field\":\"y\"}},\"id\":\"c50642c5-7783-4cb1-b62a-c014b0cf0172\",\"type\":\"Line\"},{\"attributes\":{\"fill_alpha\":{\"value\":0.7},\"fill_color\":{\"value\":\"#4daf4a\"},\"line_alpha\":{\"value\":0.7},\"line_color\":{\"value\":\"#4daf4a\"},\"x\":{\"field\":\"x\"},\"y\":{\"field\":\"y\"}},\"id\":\"8bd13890-3918-484e-bd05-bf25a0dc8740\",\"type\":\"Circle\"},{\"attributes\":{\"source\":{\"id\":\"e72a848e-d089-4d7e-bf02-3bd160a3dc39\",\"type\":\"ColumnDataSource\"}},\"id\":\"ea963418-dfb3-401b-92fa-ba1f75b77a7d\",\"type\":\"CDSView\"},{\"attributes\":{\"callback\":null,\"data\":{\"x\":{\"__ndarray__\":\"1Y3DNLg18L6rH9deQFDwvppDEq7WbvC+1pZEKnSP8L4ql8OgdrLwvozdOxbl2vC+MNEy6AoK8b4e2CJDgELxvoRmuG6wh/G+KpU0QN7e8b62wY6O1U7yvlv/wpdU4fK+qshpWkSj877g6f1D76X0viIP1v+x1vW+F/JOvI0y9r5051VAOmXzvgi7j80/huW+LzEh7As74T6cQBC7VrcHP6hWDhYWKB4/gutMpzCmLz95fVknXSQ8P2IZpNdRz0I/ykr93jsDRD9i1oQpX95DP80h2JmD3kI/zA1q5Xy2QD9+fHmy+Bw6PwwlcOV6Miw/FWVcJNdHGb9JaJOafFFDv1rf3RV8vVS/dSCd0UWwYb9ZgH1PSE1sv789YALdtXW/EFxh0d8Rfr+kjrEDxRCDv85SrePKaYe/wQnqMx6ni79L+spvEC6Ov7V9DHmrfo6//q3ejXfajb95nAKW5baMv8rlRF2ZJ4u/vwFHscU2ib/xXKAjQO2GvwsGrYGaU4S/XRe/Z+tygb8e2B+YC6t8v5ahfzhHGna/c9DlkhGsbr8vam66oupgvww0D94Bsje/KEkXH0aPVj+favzbyOlpPwYQPW9DgXQ/hbGfK+xOfD9z9mQ77DCCPzOOvGxuXoY/0v4Wg9iwij8Ui/loWiqPPyrvNrG45pE/osD73U1NlD+6yWNeK8eWP+EZLTprTZk/eMwGunLNmz8djV9SXiaeP+NKDdIrHKA/HhjOomj/oD/K622lasqhPz6luuh6jqI/pgIcsulXoz+JvoikgC6kP0dYf0RGGaU/\",\"dtype\":\"float64\",\"shape\":[75]},\"y\":{\"__ndarray__\":\"GhExyth1ND/Sv8nbtpRIP2vylNV0PVE/aTum7souWD/At0SJ8fVgPw3Iuahxymc/MSNhhJWvcD/bTfBN02d3P2zb5nxnaoA/CD5h5MAGhz8NmeH1TyaQP+zrCsc9p5Y/LbKd76fGnz/bLW5ISEmmPww9YvTcQq8/JV2OstnstT8Er5Y7M8G+P0c+r3jqkcU/5h99k6ZBzj88bCIzFzjVP4enV8oyxN0//yH99nXg5D8qOpLLf0jtP5kqGJXUifQ/c9cS8kHP/D+/DpwzojQEQIEmwoanVwxA4lgXt9HgE0BSSZ2AJuIbQAMJih9jjiNA5q4l5INuK0AwTKYKRj0zQNv5fmq8/DpAaCJseHrtQkB/+zpwzoxKQM3MzMzMeFJAZmZmZmZqWEAAAAAAAFxeQM3MzMzMJmJAmpmZmZkfZUBmZmZmZhhoQDMzMzMzEWtAAAAAAAAKbkBmZmZmZoFwQM3MzMzM/XFAMzMzMzN6c0CamZmZmfZ0QAAAAAAAc3ZAZmZmZmbvd0DNzMzMzGt5QDMzMzMz6HpAmpmZmZlkfEAAAAAAAOF9QGZmZmZmXX9AZmZmZuZsgECamZmZGSuBQM3MzMxM6YFAAAAAAICngkAzMzMzs2WDQGZmZmbmI4RAmpmZmRnihEDNzMzMTKCFQAAAAACAXoZAMzMzM7Mch0BmZmZm5tqHQJqZmZkZmYhAzczMzExXiUAAAAAAgBWKQDMzMzOz04pAZmZmZuaRi0CamZmZGVCMQM3MzMxMDo1AAAAAAIDMjUAzMzMzs4qOQGZmZmbmSI9A\",\"dtype\":\"float64\",\"shape\":[75]}},\"selected\":{\"id\":\"ee9e64b8-dffa-4847-87cd-c20fcd929fa4\",\"type\":\"Selection\"},\"selection_policy\":{\"id\":\"8987f6a5-f009-4b30-b0f5-be0329f30055\",\"type\":\"UnionRenderers\"}},\"id\":\"80f71b46-af8f-4f03-bd9f-c3cedbc89a2c\",\"type\":\"ColumnDataSource\"},{\"attributes\":{\"callback\":null,\"data\":{\"x\":{\"__ndarray__\":\"dXwMEf5s7r5lixuwhbDuvmQ64HndAe++RkbVK8dg7762z7Uvd87vvryu6BmEKPC+MOkOPnV48L7ywiOe/Nzwvjw2BsFUXvG+uDHF7usH8r4Pat28rOnyvgMyBoCwGfS+L/EIi6a29b5f3AUiWOv3vlc0MQrU5Pq+sEG42Tgx/r4v1Zojmh0Avy4srd26MP++XAeLtoi7976+XhEi09XNvv2qt06zzAM/8SDvyyodHz8vILUQUZwvP3eyNk3D+TQ/HtVrnfGiMz+ZkRRtm50tP/ymafLuJxs/gVxzzP3oFb94Qb/g9jY3v/F8aO++T0i/6AUpRodYVb9TF4QE2Sphv0kbEUyxw2m/fYTNgLtzcr9IFsK/B/V5v9PKpbby4IG/hxOJI778hr9d/8Kzg5iLv9KfDyzNAZC/TjlFmLn4kb9xc9nRACqTv1g4ZUj3bpO/k+AkBcoxk78Ol9Ogk56Sv7PYP7ItwZG/iCQsilShkL/hcHe6GYyOv9c5MeQLbIu/PJGz8sPvh7+MavX7HCSEvyFymL5HHIC/pdy2XRPTd7/DodY8F2Juv+SJ5I/QdFm/d9PomfVDRT8EoZ45ScVnPxpyGWPaUXU/sI/+Oh/1fj8My+rYK2WEP/9ZvvFfZ4k/FL/bHOR+jj+GP/PUS9WRPyLQ+SbWdJQ/3qm93rYclz9FS9wy+cmZPxURZXLhdZw/PFy3sIoRnz//71UZMMKgPxHphL5e26E/rIinEvbRoj+grFJZmK6jP4UZq7GqfKQ/jypL8xVEpT+e1zPfHAmmP4olQKjmzaY/\",\"dtype\":\"float64\",\"shape\":[75]},\"y\":{\"__ndarray__\":\"GhExyth1ND/Sv8nbtpRIP2vylNV0PVE/aTum7souWD/At0SJ8fVgPw3Iuahxymc/MSNhhJWvcD/bTfBN02d3P2zb5nxnaoA/CD5h5MAGhz8NmeH1TyaQP+zrCsc9p5Y/LbKd76fGnz/bLW5ISEmmPww9YvTcQq8/JV2OstnstT8Er5Y7M8G+P0c+r3jqkcU/5h99k6ZBzj88bCIzFzjVP4enV8oyxN0//yH99nXg5D8qOpLLf0jtP5kqGJXUifQ/c9cS8kHP/D+/DpwzojQEQIEmwoanVwxA4lgXt9HgE0BSSZ2AJuIbQAMJih9jjiNA5q4l5INuK0AwTKYKRj0zQNv5fmq8/DpAaCJseHrtQkB/+zpwzoxKQM3MzMzMeFJAZmZmZmZqWEAAAAAAAFxeQM3MzMzMJmJAmpmZmZkfZUBmZmZmZhhoQDMzMzMzEWtAAAAAAAAKbkBmZmZmZoFwQM3MzMzM/XFAMzMzMzN6c0CamZmZmfZ0QAAAAAAAc3ZAZmZmZmbvd0DNzMzMzGt5QDMzMzMz6HpAmpmZmZlkfEAAAAAAAOF9QGZmZmZmXX9AZmZmZuZsgECamZmZGSuBQM3MzMxM6YFAAAAAAICngkAzMzMzs2WDQGZmZmbmI4RAmpmZmRnihEDNzMzMTKCFQAAAAACAXoZAMzMzM7Mch0BmZmZm5tqHQJqZmZkZmYhAzczMzExXiUAAAAAAgBWKQDMzMzOz04pAZmZmZuaRi0CamZmZGVCMQM3MzMxMDo1AAAAAAIDMjUAzMzMzs4qOQGZmZmbmSI9A\",\"dtype\":\"float64\",\"shape\":[75]}},\"selected\":{\"id\":\"7e6d186f-cc90-430f-9882-852cc86f141f\",\"type\":\"Selection\"},\"selection_policy\":{\"id\":\"72c59ae7-ada7-4ef3-9593-1e5c8c1c7b19\",\"type\":\"UnionRenderers\"}},\"id\":\"e72a848e-d089-4d7e-bf02-3bd160a3dc39\",\"type\":\"ColumnDataSource\"},{\"attributes\":{\"fill_alpha\":{\"value\":0.1},\"fill_color\":{\"value\":\"#1f77b4\"},\"line_alpha\":{\"value\":0.1},\"line_color\":{\"value\":\"#1f77b4\"},\"x\":{\"field\":\"x\"},\"y\":{\"field\":\"y\"}},\"id\":\"c77f47f2-7a2f-4932-b1d4-b7e7f9d7deac\",\"type\":\"Square\"},{\"attributes\":{\"data_source\":{\"id\":\"932e1ca6-8017-4f46-ab10-5c3e5891a517\",\"type\":\"ColumnDataSource\"},\"glyph\":{\"id\":\"31585a37-a7c2-419c-b782-6ea424e690b4\",\"type\":\"Square\"},\"hover_glyph\":null,\"muted_glyph\":null,\"nonselection_glyph\":{\"id\":\"c77f47f2-7a2f-4932-b1d4-b7e7f9d7deac\",\"type\":\"Square\"},\"selection_glyph\":null,\"view\":{\"id\":\"d3b429ee-a479-45f0-9873-d3943f495b3e\",\"type\":\"CDSView\"}},\"id\":\"b6b13388-ded7-435b-a3b9-50db3dc63f00\",\"type\":\"GlyphRenderer\"},{\"attributes\":{\"fill_alpha\":{\"value\":0.7},\"fill_color\":{\"value\":\"#377eb8\"},\"line_alpha\":{\"value\":0.7},\"line_color\":{\"value\":\"#377eb8\"},\"x\":{\"field\":\"x\"},\"y\":{\"field\":\"y\"}},\"id\":\"8ca5600f-7f8f-4120-9948-19603b431a19\",\"type\":\"Triangle\"},{\"attributes\":{\"data_source\":{\"id\":\"b7ff69f6-5e66-4136-9f9c-9fd41f740dce\",\"type\":\"ColumnDataSource\"},\"glyph\":{\"id\":\"01e4be83-80ce-45b6-aa92-376f0d7c66b2\",\"type\":\"Square\"},\"hover_glyph\":null,\"muted_glyph\":null,\"nonselection_glyph\":{\"id\":\"054855e8-5937-4b6f-bbb1-36692d8ce732\",\"type\":\"Square\"},\"selection_glyph\":null,\"view\":{\"id\":\"fe4fde91-792c-4da8-897a-842325408206\",\"type\":\"CDSView\"}},\"id\":\"721bfa9e-bfa8-4d52-948c-ec77b5f9a1e2\",\"type\":\"GlyphRenderer\"},{\"attributes\":{\"data_source\":{\"id\":\"e72a848e-d089-4d7e-bf02-3bd160a3dc39\",\"type\":\"ColumnDataSource\"},\"glyph\":{\"id\":\"c50642c5-7783-4cb1-b62a-c014b0cf0172\",\"type\":\"Line\"},\"hover_glyph\":null,\"muted_glyph\":null,\"nonselection_glyph\":{\"id\":\"9f315807-e230-40a6-95c2-22a4562caa05\",\"type\":\"Line\"},\"selection_glyph\":null,\"view\":{\"id\":\"ea963418-dfb3-401b-92fa-ba1f75b77a7d\",\"type\":\"CDSView\"}},\"id\":\"eb2ea629-9fd8-44e7-9899-23679ab49ce4\",\"type\":\"GlyphRenderer\"},{\"attributes\":{\"label\":{\"value\":\"CRD\"},\"renderers\":[{\"id\":\"a7a1667c-c763-4c45-8326-cf5804063d7b\",\"type\":\"GlyphRenderer\"},{\"id\":\"27a6b82c-51ce-4bd2-bf88-7697bde47274\",\"type\":\"GlyphRenderer\"}]},\"id\":\"1f85c252-8f52-4372-a5a2-e677fa267b20\",\"type\":\"LegendItem\"},{\"attributes\":{\"active_drag\":\"auto\",\"active_inspect\":\"auto\",\"active_scroll\":\"auto\",\"active_tap\":\"auto\",\"tools\":[{\"id\":\"d8568602-ea4b-40f2-800e-79800e00e959\",\"type\":\"PanTool\"},{\"id\":\"17b4cbdf-0bfa-4474-94b6-91f0ffc96795\",\"type\":\"WheelZoomTool\"},{\"id\":\"1b2ab424-a87d-4aa1-a199-04462bee6b48\",\"type\":\"BoxZoomTool\"},{\"id\":\"e3b98b8d-9604-434a-b62a-b96f00610d7b\",\"type\":\"SaveTool\"},{\"id\":\"da0c8751-c9b2-488b-87c0-87ac413e908b\",\"type\":\"ResetTool\"},{\"id\":\"419cde84-583c-4208-8ba6-a2f26ef33345\",\"type\":\"HelpTool\"}]},\"id\":\"d2aa687d-dc15-4335-8474-a7ec264f9f8f\",\"type\":\"Toolbar\"},{\"attributes\":{\"items\":[{\"id\":\"9738d372-c592-4277-892c-923c063dcb5f\",\"type\":\"LegendItem\"},{\"id\":\"6d431b88-cdf1-4fb8-98cc-3c80e1ccc7ba\",\"type\":\"LegendItem\"},{\"id\":\"59dbecc6-fdf1-4b89-9291-4e91df061702\",\"type\":\"LegendItem\"}],\"label_text_font_size\":{\"value\":\"8pt\"},\"location\":\"top_center\",\"orientation\":\"horizontal\",\"plot\":{\"id\":\"749a9583-eb6d-40b5-a69a-d65e73e6784e\",\"subtype\":\"Figure\",\"type\":\"Plot\"}},\"id\":\"77e578cd-04dd-4b91-8098-2f381959ddb2\",\"type\":\"Legend\"},{\"attributes\":{\"label\":{\"value\":\"WGT igg=1\"},\"renderers\":[{\"id\":\"721bfa9e-bfa8-4d52-948c-ec77b5f9a1e2\",\"type\":\"GlyphRenderer\"},{\"id\":\"36c75f11-274a-407b-b803-cad7aaa40c80\",\"type\":\"GlyphRenderer\"}]},\"id\":\"dd73860b-6d8f-46d5-927a-c15ad715246a\",\"type\":\"LegendItem\"},{\"attributes\":{},\"id\":\"7acb4444-b221-425d-a415-04f5551e3899\",\"type\":\"LinearScale\"},{\"attributes\":{\"callback\":null,\"data\":{\"x\":{\"__ndarray__\":\"t6NIhLOu7b65DGhOfOrtvgvx5gVoLO6+KHlS9/d57r5YUMvg/tTuvih+Las6Q+++Es+VC73M776qPHfsTT7wvlz0Wk8xsfC+gcgosL9J8b5EPm3I3hbyvu23FegrLfO+7tEp9Cup9L5kZAKQc7H2vpgTJDf9Rvm+qqkYSXt6+77cv8P4Wi/7vvBoz+DTFPa+ZtsLifOv3r5LEvl9jyf4Pi/1gIvB3RU/wfez/Hi6KT9RDTd8pOM3P23GqB8AjD8/EIHz/tBnPz/zAxzr+oI7P9DWgXodfjQ/7+32y+aoIj8a4y27eIkcv3gMSU3GLz+/4BQOMPexUL9SsdXQi3Rdv8WD4AuwI2e/5mFH+ccPcb+dzZ03EoN4v0y1sBWWMoG/FCDaLDZkhr+sGQUASB+Lv4VllLA0xY+/hKc8LGf+kb9VgkkacTuTv0Av1wB3aZO/JIcO1SIPk7+oYyF8IGCSvzVrIa+kaJG/NSFSeHUzkL9U7oLkRIuNvwOiFjn6Toq/ZwOpRyy/hr98X8SNR+iCv3iC1qLSv32/HmLJfhlxdb/DNa9V//ppv7B2Z3jys1G/Ur8/KF4TUT/VhUSH7DZqPzwUc7uYIHY/m2bk6WFTfz8HbwBgMlqEP8W+9UVoIok/aWoWvncBjj9xzJuLC3yRP5M/7/i8A5Q/MfTytROXlj/OXMaeVDOZP2F2mPTM0ps/w/B5FJpjnj8v2GtMGGWgP6PtVp5ZdaE/XQrQNRpgoj9rvaIFrzCjP1qU+C1R9aM/AgGYVja4pD9DAOf6e3+lP7oexE+VT6Y/\",\"dtype\":\"float64\",\"shape\":[75]},\"y\":{\"__ndarray__\":\"GhExyth1ND/Sv8nbtpRIP2vylNV0PVE/aTum7souWD/At0SJ8fVgPw3Iuahxymc/MSNhhJWvcD/bTfBN02d3P2zb5nxnaoA/CD5h5MAGhz8NmeH1TyaQP+zrCsc9p5Y/LbKd76fGnz/bLW5ISEmmPww9YvTcQq8/JV2OstnstT8Er5Y7M8G+P0c+r3jqkcU/5h99k6ZBzj88bCIzFzjVP4enV8oyxN0//yH99nXg5D8qOpLLf0jtP5kqGJXUifQ/c9cS8kHP/D+/DpwzojQEQIEmwoanVwxA4lgXt9HgE0BSSZ2AJuIbQAMJih9jjiNA5q4l5INuK0AwTKYKRj0zQNv5fmq8/DpAaCJseHrtQkB/+zpwzoxKQM3MzMzMeFJAZmZmZmZqWEAAAAAAAFxeQM3MzMzMJmJAmpmZmZkfZUBmZmZmZhhoQDMzMzMzEWtAAAAAAAAKbkBmZmZmZoFwQM3MzMzM/XFAMzMzMzN6c0CamZmZmfZ0QAAAAAAAc3ZAZmZmZmbvd0DNzMzMzGt5QDMzMzMz6HpAmpmZmZlkfEAAAAAAAOF9QGZmZmZmXX9AZmZmZuZsgECamZmZGSuBQM3MzMxM6YFAAAAAAICngkAzMzMzs2WDQGZmZmbmI4RAmpmZmRnihEDNzMzMTKCFQAAAAACAXoZAMzMzM7Mch0BmZmZm5tqHQJqZmZkZmYhAzczMzExXiUAAAAAAgBWKQDMzMzOz04pAZmZmZuaRi0CamZmZGVCMQM3MzMxMDo1AAAAAAIDMjUAzMzMzs4qOQGZmZmbmSI9A\",\"dtype\":\"float64\",\"shape\":[75]}},\"selected\":{\"id\":\"49941b4f-a71c-44f7-9ee4-c98b5c93f77c\",\"type\":\"Selection\"},\"selection_policy\":{\"id\":\"a6abe1b9-e5af-4823-86d7-983a30a06c5d\",\"type\":\"UnionRenderers\"}},\"id\":\"273de644-daa2-4b24-b480-2e98fee94df5\",\"type\":\"ColumnDataSource\"},{\"attributes\":{\"label\":{\"value\":\"WGT igg=10\"},\"renderers\":[{\"id\":\"c04d886f-a90d-4d4e-8b50-5d84a4421b86\",\"type\":\"GlyphRenderer\"},{\"id\":\"eb2ea629-9fd8-44e7-9899-23679ab49ce4\",\"type\":\"GlyphRenderer\"}]},\"id\":\"36c76f14-a471-4859-bd00-612517e78562\",\"type\":\"LegendItem\"},{\"attributes\":{\"bottom_units\":\"screen\",\"fill_alpha\":{\"value\":0.5},\"fill_color\":{\"value\":\"lightgrey\"},\"left_units\":\"screen\",\"level\":\"overlay\",\"line_alpha\":{\"value\":1.0},\"line_color\":{\"value\":\"black\"},\"line_dash\":[4,4],\"line_width\":{\"value\":2},\"plot\":null,\"render_mode\":\"css\",\"right_units\":\"screen\",\"top_units\":\"screen\"},\"id\":\"062fe2f4-a7b7-42fa-afde-00046b2b99bd\",\"type\":\"BoxAnnotation\"},{\"attributes\":{\"data_source\":{\"id\":\"273de644-daa2-4b24-b480-2e98fee94df5\",\"type\":\"ColumnDataSource\"},\"glyph\":{\"id\":\"469ad4b0-e692-43ef-a4b2-779c71745e63\",\"type\":\"Line\"},\"hover_glyph\":null,\"muted_glyph\":null,\"nonselection_glyph\":{\"id\":\"bf1a9306-8ce1-4f4b-874b-8a45f4eb0ed7\",\"type\":\"Line\"},\"selection_glyph\":null,\"view\":{\"id\":\"dbafc400-ebd7-4d2a-9e6d-c8b3634ae8c9\",\"type\":\"CDSView\"}},\"id\":\"c062088e-4ac2-49ad-9881-33984395e616\",\"type\":\"GlyphRenderer\"},{\"attributes\":{\"children\":[{\"id\":\"23cdf32b-0c5a-450d-a676-eee0cd8dff7e\",\"type\":\"Row\"}]},\"id\":\"f8466a2c-1549-41d0-8e58-1a77802af6e1\",\"type\":\"Column\"},{\"attributes\":{\"line_alpha\":0.6,\"line_color\":\"#984ea3\",\"line_width\":3,\"x\":{\"field\":\"x\"},\"y\":{\"field\":\"y\"}},\"id\":\"469ad4b0-e692-43ef-a4b2-779c71745e63\",\"type\":\"Line\"},{\"attributes\":{},\"id\":\"17b4cbdf-0bfa-4474-94b6-91f0ffc96795\",\"type\":\"WheelZoomTool\"},{\"attributes\":{\"callback\":null,\"data\":{\"x\":{\"__ndarray__\":\"1Y3DNLg18L6rH9deQFDwvppDEq7WbvC+1pZEKnSP8L4ql8OgdrLwvozdOxbl2vC+MNEy6AoK8b4e2CJDgELxvoRmuG6wh/G+KpU0QN7e8b62wY6O1U7yvlv/wpdU4fK+qshpWkSj877g6f1D76X0viIP1v+x1vW+F/JOvI0y9r5051VAOmXzvgi7j80/huW+LzEh7As74T6cQBC7VrcHP6hWDhYWKB4/gutMpzCmLz95fVknXSQ8P2IZpNdRz0I/ykr93jsDRD9i1oQpX95DP80h2JmD3kI/zA1q5Xy2QD9+fHmy+Bw6PwwlcOV6Miw/FWVcJNdHGb9JaJOafFFDv1rf3RV8vVS/dSCd0UWwYb9ZgH1PSE1sv789YALdtXW/EFxh0d8Rfr+kjrEDxRCDv85SrePKaYe/wQnqMx6ni79L+spvEC6Ov7V9DHmrfo6//q3ejXfajb95nAKW5baMv8rlRF2ZJ4u/vwFHscU2ib/xXKAjQO2GvwsGrYGaU4S/XRe/Z+tygb8e2B+YC6t8v5ahfzhHGna/c9DlkhGsbr8vam66oupgvww0D94Bsje/KEkXH0aPVj+favzbyOlpPwYQPW9DgXQ/hbGfK+xOfD9z9mQ77DCCPzOOvGxuXoY/0v4Wg9iwij8Ui/loWiqPPyrvNrG45pE/osD73U1NlD+6yWNeK8eWP+EZLTprTZk/eMwGunLNmz8djV9SXiaeP+NKDdIrHKA/HhjOomj/oD/K622lasqhPz6luuh6jqI/pgIcsulXoz+JvoikgC6kP0dYf0RGGaU/\",\"dtype\":\"float64\",\"shape\":[75]},\"y\":{\"__ndarray__\":\"GhExyth1ND/Sv8nbtpRIP2vylNV0PVE/aTum7souWD/At0SJ8fVgPw3Iuahxymc/MSNhhJWvcD/bTfBN02d3P2zb5nxnaoA/CD5h5MAGhz8NmeH1TyaQP+zrCsc9p5Y/LbKd76fGnz/bLW5ISEmmPww9YvTcQq8/JV2OstnstT8Er5Y7M8G+P0c+r3jqkcU/5h99k6ZBzj88bCIzFzjVP4enV8oyxN0//yH99nXg5D8qOpLLf0jtP5kqGJXUifQ/c9cS8kHP/D+/DpwzojQEQIEmwoanVwxA4lgXt9HgE0BSSZ2AJuIbQAMJih9jjiNA5q4l5INuK0AwTKYKRj0zQNv5fmq8/DpAaCJseHrtQkB/+zpwzoxKQM3MzMzMeFJAZmZmZmZqWEAAAAAAAFxeQM3MzMzMJmJAmpmZmZkfZUBmZmZmZhhoQDMzMzMzEWtAAAAAAAAKbkBmZmZmZoFwQM3MzMzM/XFAMzMzMzN6c0CamZmZmfZ0QAAAAAAAc3ZAZmZmZmbvd0DNzMzMzGt5QDMzMzMz6HpAmpmZmZlkfEAAAAAAAOF9QGZmZmZmXX9AZmZmZuZsgECamZmZGSuBQM3MzMxM6YFAAAAAAICngkAzMzMzs2WDQGZmZmbmI4RAmpmZmRnihEDNzMzMTKCFQAAAAACAXoZAMzMzM7Mch0BmZmZm5tqHQJqZmZkZmYhAzczMzExXiUAAAAAAgBWKQDMzMzOz04pAZmZmZuaRi0CamZmZGVCMQM3MzMxMDo1AAAAAAIDMjUAzMzMzs4qOQGZmZmbmSI9A\",\"dtype\":\"float64\",\"shape\":[75]}},\"selected\":{\"id\":\"62773388-804e-47c2-815f-6d29fe6419f6\",\"type\":\"Selection\"},\"selection_policy\":{\"id\":\"3107d984-62e8-4b7f-9d14-34732354cb62\",\"type\":\"UnionRenderers\"}},\"id\":\"c8e088a5-e1d4-4fad-8b23-6a9b6ceff157\",\"type\":\"ColumnDataSource\"},{\"attributes\":{},\"id\":\"833666e3-05ff-4b6f-8654-1a84e59e5e5c\",\"type\":\"LogScale\"},{\"attributes\":{\"fill_alpha\":{\"value\":0.7},\"fill_color\":{\"value\":\"#984ea3\"},\"line_alpha\":{\"value\":0.7},\"line_color\":{\"value\":\"#984ea3\"},\"x\":{\"field\":\"x\"},\"y\":{\"field\":\"y\"}},\"id\":\"31585a37-a7c2-419c-b782-6ea424e690b4\",\"type\":\"Square\"},{\"attributes\":{\"axis_label\":\"cooling rate [K/day]\",\"formatter\":{\"id\":\"2fcc024a-7cbe-4e57-8d42-d1ed6bc22f7a\",\"type\":\"BasicTickFormatter\"},\"plot\":{\"id\":\"749a9583-eb6d-40b5-a69a-d65e73e6784e\",\"subtype\":\"Figure\",\"type\":\"Plot\"},\"ticker\":{\"id\":\"8a1e70f0-2c5c-49e1-8af5-828b742635a6\",\"type\":\"BasicTicker\"}},\"id\":\"dedcd7a9-a168-43ff-adc5-736d217497fb\",\"type\":\"LinearAxis\"},{\"attributes\":{\"data_source\":{\"id\":\"c8e088a5-e1d4-4fad-8b23-6a9b6ceff157\",\"type\":\"ColumnDataSource\"},\"glyph\":{\"id\":\"2a13a49e-39ec-42de-9472-fd2c8eeb76a5\",\"type\":\"Line\"},\"hover_glyph\":null,\"muted_glyph\":null,\"nonselection_glyph\":{\"id\":\"c7f9ecb9-2325-4218-810b-aff814f3e4ee\",\"type\":\"Line\"},\"selection_glyph\":null,\"view\":{\"id\":\"883ecb3d-8ea5-48b6-83d8-f8945ef188aa\",\"type\":\"CDSView\"}},\"id\":\"ee1b591d-23a7-4c0b-9319-9fd9f3b123bc\",\"type\":\"GlyphRenderer\"},{\"attributes\":{},\"id\":\"8a1e70f0-2c5c-49e1-8af5-828b742635a6\",\"type\":\"BasicTicker\"},{\"attributes\":{\"source\":{\"id\":\"c8e088a5-e1d4-4fad-8b23-6a9b6ceff157\",\"type\":\"ColumnDataSource\"}},\"id\":\"883ecb3d-8ea5-48b6-83d8-f8945ef188aa\",\"type\":\"CDSView\"},{\"attributes\":{\"overlay\":{\"id\":\"062fe2f4-a7b7-42fa-afde-00046b2b99bd\",\"type\":\"BoxAnnotation\"}},\"id\":\"1b2ab424-a87d-4aa1-a199-04462bee6b48\",\"type\":\"BoxZoomTool\"},{\"attributes\":{},\"id\":\"e3b98b8d-9604-434a-b62a-b96f00610d7b\",\"type\":\"SaveTool\"},{\"attributes\":{},\"id\":\"da0c8751-c9b2-488b-87c0-87ac413e908b\",\"type\":\"ResetTool\"},{\"attributes\":{},\"id\":\"419cde84-583c-4208-8ba6-a2f26ef33345\",\"type\":\"HelpTool\"},{\"attributes\":{\"source\":{\"id\":\"273de644-daa2-4b24-b480-2e98fee94df5\",\"type\":\"ColumnDataSource\"}},\"id\":\"dbafc400-ebd7-4d2a-9e6d-c8b3634ae8c9\",\"type\":\"CDSView\"},{\"attributes\":{\"callback\":null,\"end\":0.0008046588407,\"start\":-0.0189753617707},\"id\":\"1a514ac5-95c8-4410-a53f-bda43822d079\",\"type\":\"Range1d\"},{\"attributes\":{},\"id\":\"9d72901d-1f77-4567-80c8-3e4886349ad3\",\"type\":\"UnionRenderers\"},{\"attributes\":{\"line_alpha\":0.1,\"line_color\":\"#1f77b4\",\"line_width\":3,\"x\":{\"field\":\"x\"},\"y\":{\"field\":\"y\"}},\"id\":\"bf1a9306-8ce1-4f4b-874b-8a45f4eb0ed7\",\"type\":\"Line\"},{\"attributes\":{\"active_drag\":\"auto\",\"active_inspect\":\"auto\",\"active_scroll\":\"auto\",\"active_tap\":\"auto\",\"tools\":[{\"id\":\"e02a8ddf-87b0-43b1-9433-30119c72e4db\",\"type\":\"PanTool\"},{\"id\":\"152b92ac-cb0b-48b2-a062-130ad6e3c8fc\",\"type\":\"WheelZoomTool\"},{\"id\":\"f4e0153f-15af-478f-b8ce-e159a6ba0823\",\"type\":\"BoxZoomTool\"},{\"id\":\"2f44d87b-c1dc-454d-a8de-f06d62290a10\",\"type\":\"SaveTool\"},{\"id\":\"7a8705b9-c18f-42c8-ae19-de49516eb328\",\"type\":\"ResetTool\"},{\"id\":\"e44beec2-9780-4400-a280-c921a6b22ee2\",\"type\":\"HelpTool\"}]},\"id\":\"1295210e-7600-44c1-863b-8dee95f5879d\",\"type\":\"Toolbar\"},{\"attributes\":{\"items\":[{\"id\":\"1f85c252-8f52-4372-a5a2-e677fa267b20\",\"type\":\"LegendItem\"},{\"id\":\"dd73860b-6d8f-46d5-927a-c15ad715246a\",\"type\":\"LegendItem\"},{\"id\":\"36c76f14-a471-4859-bd00-612517e78562\",\"type\":\"LegendItem\"}],\"label_text_font_size\":{\"value\":\"8pt\"},\"location\":\"top_center\",\"orientation\":\"horizontal\",\"plot\":{\"id\":\"4b04cc96-bfe8-4de8-a59e-63949c44595f\",\"subtype\":\"Figure\",\"type\":\"Plot\"}},\"id\":\"55178c0d-a093-48c9-a6d7-a9205330f9b7\",\"type\":\"Legend\"},{\"attributes\":{},\"id\":\"17a2fed3-d152-4802-8ce8-91270fe5afe6\",\"type\":\"BasicTicker\"},{\"attributes\":{\"axis_label\":\"cooling rate [K/day]\",\"formatter\":{\"id\":\"445c138c-f987-4848-877f-0b2aae50a115\",\"type\":\"BasicTickFormatter\"},\"plot\":{\"id\":\"4b04cc96-bfe8-4de8-a59e-63949c44595f\",\"subtype\":\"Figure\",\"type\":\"Plot\"},\"ticker\":{\"id\":\"17a2fed3-d152-4802-8ce8-91270fe5afe6\",\"type\":\"BasicTicker\"}},\"id\":\"cc5b8fb8-6413-46bb-98a5-8da68192ae04\",\"type\":\"LinearAxis\"},{\"attributes\":{\"above\":[{\"id\":\"55178c0d-a093-48c9-a6d7-a9205330f9b7\",\"type\":\"Legend\"}],\"below\":[{\"id\":\"cc5b8fb8-6413-46bb-98a5-8da68192ae04\",\"type\":\"LinearAxis\"}],\"left\":[{\"id\":\"754e134f-46ad-4100-8489-adb4f03e2044\",\"type\":\"LinearAxis\"}],\"plot_height\":500,\"plot_width\":400,\"renderers\":[{\"id\":\"cc5b8fb8-6413-46bb-98a5-8da68192ae04\",\"type\":\"LinearAxis\"},{\"id\":\"59a18996-5776-4b2d-a8c4-0006e49679b5\",\"type\":\"Grid\"},{\"id\":\"754e134f-46ad-4100-8489-adb4f03e2044\",\"type\":\"LinearAxis\"},{\"id\":\"0361bace-5507-48fe-ad0d-026e4ea39e53\",\"type\":\"Grid\"},{\"id\":\"49893d1c-bb0e-45e2-875a-0cf2e0ec14c6\",\"type\":\"BoxAnnotation\"},{\"id\":\"a7a1667c-c763-4c45-8326-cf5804063d7b\",\"type\":\"GlyphRenderer\"},{\"id\":\"27a6b82c-51ce-4bd2-bf88-7697bde47274\",\"type\":\"GlyphRenderer\"},{\"id\":\"721bfa9e-bfa8-4d52-948c-ec77b5f9a1e2\",\"type\":\"GlyphRenderer\"},{\"id\":\"36c75f11-274a-407b-b803-cad7aaa40c80\",\"type\":\"GlyphRenderer\"},{\"id\":\"c04d886f-a90d-4d4e-8b50-5d84a4421b86\",\"type\":\"GlyphRenderer\"},{\"id\":\"eb2ea629-9fd8-44e7-9899-23679ab49ce4\",\"type\":\"GlyphRenderer\"},{\"id\":\"55178c0d-a093-48c9-a6d7-a9205330f9b7\",\"type\":\"Legend\"}],\"title\":{\"id\":\"393d6b4c-0ba6-4a8d-8909-8d09cf886907\",\"type\":\"Title\"},\"toolbar\":{\"id\":\"1295210e-7600-44c1-863b-8dee95f5879d\",\"type\":\"Toolbar\"},\"toolbar_location\":null,\"x_range\":{\"id\":\"032db7b2-50d7-4fb4-bc0a-a0b3507a867e\",\"type\":\"Range1d\"},\"x_scale\":{\"id\":\"8acc3670-651d-4d9d-8ccf-5ba87361e7f9\",\"type\":\"LinearScale\"},\"y_range\":{\"id\":\"df95817c-1a4f-4d48-9e10-60f76db4cb47\",\"type\":\"Range1d\"},\"y_scale\":{\"id\":\"0cb87490-0104-426d-9f28-288c9275761c\",\"type\":\"LinearScale\"}},\"id\":\"4b04cc96-bfe8-4de8-a59e-63949c44595f\",\"subtype\":\"Figure\",\"type\":\"Plot\"},{\"attributes\":{},\"id\":\"e02a8ddf-87b0-43b1-9433-30119c72e4db\",\"type\":\"PanTool\"},{\"attributes\":{\"axis_label\":\"pressure [mb]\",\"formatter\":{\"id\":\"a52087a3-7f3c-43d5-b745-2530977c178f\",\"type\":\"BasicTickFormatter\"},\"plot\":{\"id\":\"4b04cc96-bfe8-4de8-a59e-63949c44595f\",\"subtype\":\"Figure\",\"type\":\"Plot\"},\"ticker\":{\"id\":\"31f463af-7b0d-4c5f-8da6-3764471f1d70\",\"type\":\"BasicTicker\"}},\"id\":\"754e134f-46ad-4100-8489-adb4f03e2044\",\"type\":\"LinearAxis\"},{\"attributes\":{},\"id\":\"0cb87490-0104-426d-9f28-288c9275761c\",\"type\":\"LinearScale\"},{\"attributes\":{\"callback\":null,\"end\":0.01,\"start\":1020},\"id\":\"df95817c-1a4f-4d48-9e10-60f76db4cb47\",\"type\":\"Range1d\"},{\"attributes\":{\"plot\":{\"id\":\"4b04cc96-bfe8-4de8-a59e-63949c44595f\",\"subtype\":\"Figure\",\"type\":\"Plot\"},\"ticker\":{\"id\":\"17a2fed3-d152-4802-8ce8-91270fe5afe6\",\"type\":\"BasicTicker\"}},\"id\":\"59a18996-5776-4b2d-a8c4-0006e49679b5\",\"type\":\"Grid\"},{\"attributes\":{},\"id\":\"8acc3670-651d-4d9d-8ccf-5ba87361e7f9\",\"type\":\"LinearScale\"},{\"attributes\":{\"bottom_units\":\"screen\",\"fill_alpha\":{\"value\":0.5},\"fill_color\":{\"value\":\"lightgrey\"},\"left_units\":\"screen\",\"level\":\"overlay\",\"line_alpha\":{\"value\":1.0},\"line_color\":{\"value\":\"black\"},\"line_dash\":[4,4],\"line_width\":{\"value\":2},\"plot\":null,\"render_mode\":\"css\",\"right_units\":\"screen\",\"top_units\":\"screen\"},\"id\":\"49893d1c-bb0e-45e2-875a-0cf2e0ec14c6\",\"type\":\"BoxAnnotation\"},{\"attributes\":{},\"id\":\"31f463af-7b0d-4c5f-8da6-3764471f1d70\",\"type\":\"BasicTicker\"},{\"attributes\":{\"overlay\":{\"id\":\"49893d1c-bb0e-45e2-875a-0cf2e0ec14c6\",\"type\":\"BoxAnnotation\"}},\"id\":\"f4e0153f-15af-478f-b8ce-e159a6ba0823\",\"type\":\"BoxZoomTool\"},{\"attributes\":{\"callback\":null,\"end\":0.04517482639,\"start\":-0.01961316539},\"id\":\"032db7b2-50d7-4fb4-bc0a-a0b3507a867e\",\"type\":\"Range1d\"},{\"attributes\":{},\"id\":\"b79a02b1-821e-4935-880a-f861f2adb9e8\",\"type\":\"UnionRenderers\"},{\"attributes\":{},\"id\":\"152b92ac-cb0b-48b2-a062-130ad6e3c8fc\",\"type\":\"WheelZoomTool\"},{\"attributes\":{\"data_source\":{\"id\":\"b3c5f113-4d30-48f7-a3f8-d4be155828b5\",\"type\":\"ColumnDataSource\"},\"glyph\":{\"id\":\"aecccc18-17a4-415b-a4d4-e56a17e46ff9\",\"type\":\"Circle\"},\"hover_glyph\":null,\"muted_glyph\":null,\"nonselection_glyph\":{\"id\":\"ca90885e-8fe4-4191-abf7-9e11535c0b46\",\"type\":\"Circle\"},\"selection_glyph\":null,\"view\":{\"id\":\"aa0e8a7e-4391-4ef5-8ccf-a5779e61ce3c\",\"type\":\"CDSView\"}},\"id\":\"a7a1667c-c763-4c45-8326-cf5804063d7b\",\"type\":\"GlyphRenderer\"},{\"attributes\":{\"plot\":{\"id\":\"749a9583-eb6d-40b5-a69a-d65e73e6784e\",\"subtype\":\"Figure\",\"type\":\"Plot\"},\"ticker\":{\"id\":\"8a1e70f0-2c5c-49e1-8af5-828b742635a6\",\"type\":\"BasicTicker\"}},\"id\":\"5a2a2501-ed37-472b-8245-8ff51f7ba951\",\"type\":\"Grid\"},{\"attributes\":{\"axis_label\":\"pressure [mb]\",\"formatter\":{\"id\":\"ac765936-aceb-41d8-bc84-bce4b9f00e33\",\"type\":\"LogTickFormatter\"},\"plot\":{\"id\":\"749a9583-eb6d-40b5-a69a-d65e73e6784e\",\"subtype\":\"Figure\",\"type\":\"Plot\"},\"ticker\":{\"id\":\"83f4acba-a9b2-46bf-bf51-54de47332d1d\",\"type\":\"LogTicker\"}},\"id\":\"36c587c0-2a80-4a5a-9b71-dd6217b7050b\",\"type\":\"LogAxis\"},{\"attributes\":{\"dimension\":1,\"plot\":{\"id\":\"4b04cc96-bfe8-4de8-a59e-63949c44595f\",\"subtype\":\"Figure\",\"type\":\"Plot\"},\"ticker\":{\"id\":\"31f463af-7b0d-4c5f-8da6-3764471f1d70\",\"type\":\"BasicTicker\"}},\"id\":\"0361bace-5507-48fe-ad0d-026e4ea39e53\",\"type\":\"Grid\"},{\"attributes\":{\"ticker\":null},\"id\":\"ac765936-aceb-41d8-bc84-bce4b9f00e33\",\"type\":\"LogTickFormatter\"}],\"root_ids\":[\"ecbed2a1-d199-4b3f-88a0-908992e867ac\"]},\"title\":\"Bokeh Application\",\"version\":\"0.12.16\"}};\n",
       "  var render_items = [{\"docid\":\"f85ed43e-4337-40f3-a1b5-7603ea5ba6a5\",\"elementid\":\"c5fa49ba-8249-4cf7-b5cb-b12699ce2862\",\"modelid\":\"ecbed2a1-d199-4b3f-88a0-908992e867ac\"}];\n",
       "  root.Bokeh.embed.embed_items_notebook(docs_json, render_items);\n",
       "\n",
       "  }\n",
       "  if (root.Bokeh !== undefined) {\n",
       "    embed_document(root);\n",
       "  } else {\n",
       "    var attempts = 0;\n",
       "    var timer = setInterval(function(root) {\n",
       "      if (root.Bokeh !== undefined) {\n",
       "        embed_document(root);\n",
       "        clearInterval(timer);\n",
       "      }\n",
       "      attempts++;\n",
       "      if (attempts > 100) {\n",
       "        console.log(\"Bokeh: ERROR: Unable to run BokehJS code because BokehJS library is missing\")\n",
       "        clearInterval(timer);\n",
       "      }\n",
       "    }, 10, root)\n",
       "  }\n",
       "})(window);"
      ],
      "application/vnd.bokehjs_exec.v0+json": ""
     },
     "metadata": {
      "application/vnd.bokehjs_exec.v0+json": {
       "id": "ecbed2a1-d199-4b3f-88a0-908992e867ac"
      }
     },
     "output_type": "display_data"
    },
    {
     "data": {
      "text/markdown": [
       "*FIGURE.* Cooling rates. g=3"
      ],
      "text/plain": [
       "<IPython.core.display.Markdown object>"
      ]
     },
     "metadata": {},
     "output_type": "display_data"
    },
    {
     "data": {
      "text/html": [
       "\n",
       "<div class=\"bk-root\">\n",
       "    <div class=\"bk-plotdiv\" id=\"5fdcd1b4-4968-473c-ab10-a5e798268920\"></div>\n",
       "</div>"
      ]
     },
     "metadata": {},
     "output_type": "display_data"
    },
    {
     "data": {
      "application/javascript": [
       "(function(root) {\n",
       "  function embed_document(root) {\n",
       "    \n",
       "  var docs_json = {\"df82ad88-6987-48ae-afca-793d14a6ae1c\":{\"roots\":{\"references\":[{\"attributes\":{},\"id\":\"f7acca7e-d9c1-45ab-9976-4127b1d6e267\",\"type\":\"Selection\"},{\"attributes\":{\"dimension\":1,\"plot\":{\"id\":\"68851bb5-2655-43e0-8057-b3708cdb27b0\",\"subtype\":\"Figure\",\"type\":\"Plot\"},\"ticker\":{\"id\":\"956885c6-aeaa-491f-84fe-fca28d91ba83\",\"type\":\"LogTicker\"}},\"id\":\"0c18f344-78f6-49f8-bd1f-b156759b043b\",\"type\":\"Grid\"},{\"attributes\":{\"fill_alpha\":{\"value\":0.7},\"fill_color\":{\"value\":\"#4daf4a\"},\"line_alpha\":{\"value\":0.7},\"line_color\":{\"value\":\"#4daf4a\"},\"x\":{\"field\":\"x\"},\"y\":{\"field\":\"y\"}},\"id\":\"b0ab4f5f-0845-4275-8712-586c2ac4484d\",\"type\":\"Circle\"},{\"attributes\":{\"callback\":null,\"data\":{\"x\":{\"__ndarray__\":\"qbz1RAFWQL/HDPqmq1dAv8Q6QnTfWkC/KtH4F99dQL/ImPUrjWBAv33udvHrYkC/zXdwb/dkQL9E0CPOm2ZAvw2y9030Z0C/DBvfZOtoQL8/pwX5g2lAv343HGCmaUC/4DzqVl1pQL8d78HVrmhAvxVaAR8UYkC/JpUutWcuQL9PWZ4eE90+v+J20vqErTu/4WFYvtbtNb+f8fQgn6Iov65yHs9Fngc/TbHUEYsdOj8i5uOSQPNJPwA4z3UrCks/Cz7kxK1RQD/uxRowR2AmP4C5N52mnhS/R7HsIr3KML8OQnuVq744v3KKM20nZz6/jqG9LSFuQb8HnigfoVhDv8R/LZ1jJkW/3P4EqLkqR7/tg3yiOcdJv6M0UwBDMk2/mV8PHlR/UL+QrK3sQ11Sv3104qI+OFS/nhcMRbEJVr9ccJMEsq1XvxmRd7Fh61i/+voOwLWzWb8CWWMj5AlavzHULW+R6lm/fLHGhFBRWb9On3cEqzpYvxr57BvApFa/0Qg1iVqPVL+mD6+8A/tRvxxNXyT8302/XofnIKbtRr8yl04wrFw+v/Ks2gC6oyq/YtTfTqUUFT9qDcLlsG05PxLBCboQlUc/vnUtuYSeUT88KOCTmdZXPxdKO7CCcV4/RurnlBq2Yj9gYikboWJmP/1TZbmXPWo/ag0lmzJFbj+6x9f3yDpxP96YjfItY3M/F7Vtq2iSdT/QnG1djrh3P3gmCxMaxXk/fCx8w12yez8eKvzHcYh9Px7oSSPrU38/IxbYM+mOgD9urkN5i3WBPzD6t/cjX4I/\",\"dtype\":\"float64\",\"shape\":[75]},\"y\":{\"__ndarray__\":\"GhExyth1ND/Sv8nbtpRIP2vylNV0PVE/aTum7souWD/At0SJ8fVgPw3Iuahxymc/MSNhhJWvcD/bTfBN02d3P2zb5nxnaoA/CD5h5MAGhz8NmeH1TyaQP+zrCsc9p5Y/LbKd76fGnz/bLW5ISEmmPww9YvTcQq8/JV2OstnstT8Er5Y7M8G+P0c+r3jqkcU/5h99k6ZBzj88bCIzFzjVP4enV8oyxN0//yH99nXg5D8qOpLLf0jtP5kqGJXUifQ/c9cS8kHP/D+/DpwzojQEQIEmwoanVwxA4lgXt9HgE0BSSZ2AJuIbQAMJih9jjiNA5q4l5INuK0AwTKYKRj0zQNv5fmq8/DpAaCJseHrtQkB/+zpwzoxKQM3MzMzMeFJAZmZmZmZqWEAAAAAAAFxeQM3MzMzMJmJAmpmZmZkfZUBmZmZmZhhoQDMzMzMzEWtAAAAAAAAKbkBmZmZmZoFwQM3MzMzM/XFAMzMzMzN6c0CamZmZmfZ0QAAAAAAAc3ZAZmZmZmbvd0DNzMzMzGt5QDMzMzMz6HpAmpmZmZlkfEAAAAAAAOF9QGZmZmZmXX9AZmZmZuZsgECamZmZGSuBQM3MzMxM6YFAAAAAAICngkAzMzMzs2WDQGZmZmbmI4RAmpmZmRnihEDNzMzMTKCFQAAAAACAXoZAMzMzM7Mch0BmZmZm5tqHQJqZmZkZmYhAzczMzExXiUAAAAAAgBWKQDMzMzOz04pAZmZmZuaRi0CamZmZGVCMQM3MzMxMDo1AAAAAAIDMjUAzMzMzs4qOQGZmZmbmSI9A\",\"dtype\":\"float64\",\"shape\":[75]}},\"selected\":{\"id\":\"f16c49cb-0ed5-4024-8a4d-6132a006df69\",\"type\":\"Selection\"},\"selection_policy\":{\"id\":\"94ddd6e4-5f56-4a9e-8ced-57c2459c1169\",\"type\":\"UnionRenderers\"}},\"id\":\"07089328-ac99-4b53-b939-ecd4e10384ee\",\"type\":\"ColumnDataSource\"},{\"attributes\":{\"num_minor_ticks\":10},\"id\":\"956885c6-aeaa-491f-84fe-fca28d91ba83\",\"type\":\"LogTicker\"},{\"attributes\":{\"callback\":null,\"data\":{\"x\":{\"__ndarray__\":\"qbz1RAFWQL/HDPqmq1dAv8Q6QnTfWkC/KtH4F99dQL/ImPUrjWBAv33udvHrYkC/zXdwb/dkQL9E0CPOm2ZAvw2y9030Z0C/DBvfZOtoQL8/pwX5g2lAv343HGCmaUC/4DzqVl1pQL8d78HVrmhAvxVaAR8UYkC/JpUutWcuQL9PWZ4eE90+v+J20vqErTu/4WFYvtbtNb+f8fQgn6Iov65yHs9Fngc/TbHUEYsdOj8i5uOSQPNJPwA4z3UrCks/Cz7kxK1RQD/uxRowR2AmP4C5N52mnhS/R7HsIr3KML8OQnuVq744v3KKM20nZz6/jqG9LSFuQb8HnigfoVhDv8R/LZ1jJkW/3P4EqLkqR7/tg3yiOcdJv6M0UwBDMk2/mV8PHlR/UL+QrK3sQ11Sv3104qI+OFS/nhcMRbEJVr9ccJMEsq1XvxmRd7Fh61i/+voOwLWzWb8CWWMj5AlavzHULW+R6lm/fLHGhFBRWb9On3cEqzpYvxr57BvApFa/0Qg1iVqPVL+mD6+8A/tRvxxNXyT8302/XofnIKbtRr8yl04wrFw+v/Ks2gC6oyq/YtTfTqUUFT9qDcLlsG05PxLBCboQlUc/vnUtuYSeUT88KOCTmdZXPxdKO7CCcV4/RurnlBq2Yj9gYikboWJmP/1TZbmXPWo/ag0lmzJFbj+6x9f3yDpxP96YjfItY3M/F7Vtq2iSdT/QnG1djrh3P3gmCxMaxXk/fCx8w12yez8eKvzHcYh9Px7oSSPrU38/IxbYM+mOgD9urkN5i3WBPzD6t/cjX4I/\",\"dtype\":\"float64\",\"shape\":[75]},\"y\":{\"__ndarray__\":\"GhExyth1ND/Sv8nbtpRIP2vylNV0PVE/aTum7souWD/At0SJ8fVgPw3Iuahxymc/MSNhhJWvcD/bTfBN02d3P2zb5nxnaoA/CD5h5MAGhz8NmeH1TyaQP+zrCsc9p5Y/LbKd76fGnz/bLW5ISEmmPww9YvTcQq8/JV2OstnstT8Er5Y7M8G+P0c+r3jqkcU/5h99k6ZBzj88bCIzFzjVP4enV8oyxN0//yH99nXg5D8qOpLLf0jtP5kqGJXUifQ/c9cS8kHP/D+/DpwzojQEQIEmwoanVwxA4lgXt9HgE0BSSZ2AJuIbQAMJih9jjiNA5q4l5INuK0AwTKYKRj0zQNv5fmq8/DpAaCJseHrtQkB/+zpwzoxKQM3MzMzMeFJAZmZmZmZqWEAAAAAAAFxeQM3MzMzMJmJAmpmZmZkfZUBmZmZmZhhoQDMzMzMzEWtAAAAAAAAKbkBmZmZmZoFwQM3MzMzM/XFAMzMzMzN6c0CamZmZmfZ0QAAAAAAAc3ZAZmZmZmbvd0DNzMzMzGt5QDMzMzMz6HpAmpmZmZlkfEAAAAAAAOF9QGZmZmZmXX9AZmZmZuZsgECamZmZGSuBQM3MzMxM6YFAAAAAAICngkAzMzMzs2WDQGZmZmbmI4RAmpmZmRnihEDNzMzMTKCFQAAAAACAXoZAMzMzM7Mch0BmZmZm5tqHQJqZmZkZmYhAzczMzExXiUAAAAAAgBWKQDMzMzOz04pAZmZmZuaRi0CamZmZGVCMQM3MzMxMDo1AAAAAAIDMjUAzMzMzs4qOQGZmZmbmSI9A\",\"dtype\":\"float64\",\"shape\":[75]}},\"selected\":{\"id\":\"25141d38-92b5-4207-8410-963c57533c0f\",\"type\":\"Selection\"},\"selection_policy\":{\"id\":\"6fa6a6c5-4ff3-4672-8025-906ffe8a2427\",\"type\":\"UnionRenderers\"}},\"id\":\"7301813b-93ee-4431-9c09-1da058a4cf7a\",\"type\":\"ColumnDataSource\"},{\"attributes\":{\"data_source\":{\"id\":\"7301813b-93ee-4431-9c09-1da058a4cf7a\",\"type\":\"ColumnDataSource\"},\"glyph\":{\"id\":\"b0ab4f5f-0845-4275-8712-586c2ac4484d\",\"type\":\"Circle\"},\"hover_glyph\":null,\"muted_glyph\":null,\"nonselection_glyph\":{\"id\":\"2e5f62de-f15f-44e0-9369-2af620403692\",\"type\":\"Circle\"},\"selection_glyph\":null,\"view\":{\"id\":\"2a008261-9f53-42a5-85a9-0f43ebf2f0cd\",\"type\":\"CDSView\"}},\"id\":\"ae4b6019-2eab-4685-a49a-19f6b447661a\",\"type\":\"GlyphRenderer\"},{\"attributes\":{\"source\":{\"id\":\"7301813b-93ee-4431-9c09-1da058a4cf7a\",\"type\":\"ColumnDataSource\"}},\"id\":\"2a008261-9f53-42a5-85a9-0f43ebf2f0cd\",\"type\":\"CDSView\"},{\"attributes\":{\"data_source\":{\"id\":\"9a973056-de4d-44dd-8fbe-cbdcd74fa350\",\"type\":\"ColumnDataSource\"},\"glyph\":{\"id\":\"671bd2e0-f731-4f82-be3e-9a49fcb95921\",\"type\":\"Triangle\"},\"hover_glyph\":null,\"muted_glyph\":null,\"nonselection_glyph\":{\"id\":\"6add061d-67a1-436d-843a-00205cb39fd2\",\"type\":\"Triangle\"},\"selection_glyph\":null,\"view\":{\"id\":\"8224c724-a09a-43a6-976a-4ba708e6698e\",\"type\":\"CDSView\"}},\"id\":\"1ba8b3fe-86dc-4015-be1a-0b1659e29820\",\"type\":\"GlyphRenderer\"},{\"attributes\":{\"callback\":null,\"data\":{\"x\":{\"__ndarray__\":\"dHlmYjpAQb8N3/bQu0JBv7wMjvvqR0G/a2vLAzxNQb8A54UsYVJBv1LJi19TV0G/O9QDSBFcQb+qi0AQmGBBv3NS/a3lZEG/KOtvSPhoQb/jdi8Uz2xBv4E0JOJqcEG/WECBVs5zQb9cmfJMKHdBv94PMwHZfUG/X8v7KIx4Qb8zRmOwFxtBvwICEkGFHkC/dlitgMVQPL+MNpHOcmU1v9bmb+yrDyS/h/CuAbFvHj9D9CdD5JA7P/FV5Rn4bD0/L0ZMBY0pKj/oeWzstBQJv15FDWsynS6/CaKzvqfSN7/ehXQ92Yc9v4wXF4poxUC/UBmWlfVcQr9FzIKaP8hDvxgtUEFKNkW/VILqttzrRr8HRZ+MTjlJvyOn8AozT0y/+5EVxgLKT7/QBh9VlJxRv92WcyrTT1O/8u7s1cX5VL8fbg8K335Wv7BY+De+r1e//4c//Nh6WL88iAvrx+BYv0g1vL6u3Vi/26s39JtsWL/Xx91Fs4lXvzXTA/9QMla/wrZ1G0NlVL+WkGSe6SFSv1WFlkCu3E6/vuoexRmiSL+C4HdwTJ9Bv7wXybVssjO/cjQZyS/tBL9yRUsoTAUwP1+4cAjCHEI/cTvjzrn/TD/vpajvR1VUP4C96EmejVo/Y1v8KTKTYD8EO/AF/A5kPzh2HSqFuWc/hG+GyBWRaz/GgMVSRpJvP21BU5Ti2nE/w+/lCNn1cz/2w44aoQx2P8B3lDRKEXg/LVWTL8L+eT++qG6Aatt7PyOeB5dQsX0/+NvFVZiHfz/EMNGw+bCAP5flUKcBoYE/\",\"dtype\":\"float64\",\"shape\":[75]},\"y\":{\"__ndarray__\":\"GhExyth1ND/Sv8nbtpRIP2vylNV0PVE/aTum7souWD/At0SJ8fVgPw3Iuahxymc/MSNhhJWvcD/bTfBN02d3P2zb5nxnaoA/CD5h5MAGhz8NmeH1TyaQP+zrCsc9p5Y/LbKd76fGnz/bLW5ISEmmPww9YvTcQq8/JV2OstnstT8Er5Y7M8G+P0c+r3jqkcU/5h99k6ZBzj88bCIzFzjVP4enV8oyxN0//yH99nXg5D8qOpLLf0jtP5kqGJXUifQ/c9cS8kHP/D+/DpwzojQEQIEmwoanVwxA4lgXt9HgE0BSSZ2AJuIbQAMJih9jjiNA5q4l5INuK0AwTKYKRj0zQNv5fmq8/DpAaCJseHrtQkB/+zpwzoxKQM3MzMzMeFJAZmZmZmZqWEAAAAAAAFxeQM3MzMzMJmJAmpmZmZkfZUBmZmZmZhhoQDMzMzMzEWtAAAAAAAAKbkBmZmZmZoFwQM3MzMzM/XFAMzMzMzN6c0CamZmZmfZ0QAAAAAAAc3ZAZmZmZmbvd0DNzMzMzGt5QDMzMzMz6HpAmpmZmZlkfEAAAAAAAOF9QGZmZmZmXX9AZmZmZuZsgECamZmZGSuBQM3MzMxM6YFAAAAAAICngkAzMzMzs2WDQGZmZmbmI4RAmpmZmRnihEDNzMzMTKCFQAAAAACAXoZAMzMzM7Mch0BmZmZm5tqHQJqZmZkZmYhAzczMzExXiUAAAAAAgBWKQDMzMzOz04pAZmZmZuaRi0CamZmZGVCMQM3MzMxMDo1AAAAAAIDMjUAzMzMzs4qOQGZmZmbmSI9A\",\"dtype\":\"float64\",\"shape\":[75]}},\"selected\":{\"id\":\"c80732a2-8550-435e-9651-a3db9fdcb374\",\"type\":\"Selection\"},\"selection_policy\":{\"id\":\"8435357d-64cb-4ad6-b0a9-f70795573f21\",\"type\":\"UnionRenderers\"}},\"id\":\"6ce7cc21-69f0-4d1c-a5af-ac455faa2bcd\",\"type\":\"ColumnDataSource\"},{\"attributes\":{\"source\":{\"id\":\"9a973056-de4d-44dd-8fbe-cbdcd74fa350\",\"type\":\"ColumnDataSource\"}},\"id\":\"8224c724-a09a-43a6-976a-4ba708e6698e\",\"type\":\"CDSView\"},{\"attributes\":{\"line_alpha\":0.3,\"line_color\":\"#377eb8\",\"line_width\":2,\"x\":{\"field\":\"x\"},\"y\":{\"field\":\"y\"}},\"id\":\"4491a86e-230a-4e60-8d55-282e41bf4fbc\",\"type\":\"Line\"},{\"attributes\":{\"children\":[{\"id\":\"5b663bd1-e5a3-41d0-b1d7-c2a80715a0b2\",\"subtype\":\"Figure\",\"type\":\"Plot\"},{\"id\":\"68851bb5-2655-43e0-8057-b3708cdb27b0\",\"subtype\":\"Figure\",\"type\":\"Plot\"}]},\"id\":\"56e1e63d-cf55-43e0-a7de-0d5f1d8775c4\",\"type\":\"Row\"},{\"attributes\":{\"line_alpha\":0.1,\"line_color\":\"#1f77b4\",\"line_width\":2,\"x\":{\"field\":\"x\"},\"y\":{\"field\":\"y\"}},\"id\":\"ffe723e7-8a6f-4232-b8ee-3217fa757150\",\"type\":\"Line\"},{\"attributes\":{\"callback\":null,\"end\":0.009298914172,\"start\":-0.001746163172},\"id\":\"d94da782-740f-410a-92da-668ebf69bf91\",\"type\":\"Range1d\"},{\"attributes\":{\"data_source\":{\"id\":\"6ce7cc21-69f0-4d1c-a5af-ac455faa2bcd\",\"type\":\"ColumnDataSource\"},\"glyph\":{\"id\":\"4491a86e-230a-4e60-8d55-282e41bf4fbc\",\"type\":\"Line\"},\"hover_glyph\":null,\"muted_glyph\":null,\"nonselection_glyph\":{\"id\":\"ffe723e7-8a6f-4232-b8ee-3217fa757150\",\"type\":\"Line\"},\"selection_glyph\":null,\"view\":{\"id\":\"32468864-1878-4d84-9740-ddf991a40318\",\"type\":\"CDSView\"}},\"id\":\"21db7800-2fc5-4417-8c1f-941717551c6e\",\"type\":\"GlyphRenderer\"},{\"attributes\":{\"source\":{\"id\":\"6ce7cc21-69f0-4d1c-a5af-ac455faa2bcd\",\"type\":\"ColumnDataSource\"}},\"id\":\"32468864-1878-4d84-9740-ddf991a40318\",\"type\":\"CDSView\"},{\"attributes\":{\"label\":{\"value\":\"CRD\"},\"renderers\":[{\"id\":\"45868b1c-a448-43d8-a4a9-f46e66f1302e\",\"type\":\"GlyphRenderer\"},{\"id\":\"1692bd25-40a9-48fa-8bc3-d09f52dc56b5\",\"type\":\"GlyphRenderer\"}]},\"id\":\"57438436-ce88-41bc-80c1-930dfe98bf04\",\"type\":\"LegendItem\"},{\"attributes\":{\"plot\":null,\"text\":\"\"},\"id\":\"a40c8a39-d406-490a-a032-34648a5cd670\",\"type\":\"Title\"},{\"attributes\":{\"plot\":{\"id\":\"68851bb5-2655-43e0-8057-b3708cdb27b0\",\"subtype\":\"Figure\",\"type\":\"Plot\"},\"ticker\":{\"id\":\"03dc421e-24c4-4d17-bd5c-f4df543170d6\",\"type\":\"BasicTicker\"}},\"id\":\"d366301c-d96a-4608-b25a-721ce1120542\",\"type\":\"Grid\"},{\"attributes\":{},\"id\":\"d0c7b3a1-9e46-4e09-b5e7-c4b21d89ad09\",\"type\":\"BasicTickFormatter\"},{\"attributes\":{\"items\":[{\"id\":\"e709adee-cc2c-4758-a04b-d993b5fdbf5a\",\"type\":\"LegendItem\"},{\"id\":\"e2fb13ea-4f39-463e-b233-98d60e078609\",\"type\":\"LegendItem\"},{\"id\":\"b8b79dd6-6e48-427e-ba3e-8736c80547c4\",\"type\":\"LegendItem\"}],\"label_text_font_size\":{\"value\":\"8pt\"},\"location\":\"top_center\",\"orientation\":\"horizontal\",\"plot\":{\"id\":\"5b663bd1-e5a3-41d0-b1d7-c2a80715a0b2\",\"subtype\":\"Figure\",\"type\":\"Plot\"}},\"id\":\"3509bc7a-2e0d-400c-b6bc-e97ac13b582a\",\"type\":\"Legend\"},{\"attributes\":{\"label\":{\"value\":\"WGT igg=1\"},\"renderers\":[{\"id\":\"1bca971f-5a0c-4629-b155-92166ac27d28\",\"type\":\"GlyphRenderer\"},{\"id\":\"66bab09d-566c-439a-b9ca-447a211ad7de\",\"type\":\"GlyphRenderer\"}]},\"id\":\"3f2782bd-03a7-4a34-93e5-e564d5deb40d\",\"type\":\"LegendItem\"},{\"attributes\":{},\"id\":\"87ed448b-6f69-4351-a107-068fe63bb69a\",\"type\":\"LinearScale\"},{\"attributes\":{},\"id\":\"6fa6a6c5-4ff3-4672-8025-906ffe8a2427\",\"type\":\"UnionRenderers\"},{\"attributes\":{\"label\":{\"value\":\"WGT igg=10\"},\"renderers\":[{\"id\":\"1ba8b3fe-86dc-4015-be1a-0b1659e29820\",\"type\":\"GlyphRenderer\"},{\"id\":\"21db7800-2fc5-4417-8c1f-941717551c6e\",\"type\":\"GlyphRenderer\"}]},\"id\":\"3875801f-f2ab-4366-bd39-de128edce365\",\"type\":\"LegendItem\"},{\"attributes\":{\"active_drag\":\"auto\",\"active_inspect\":\"auto\",\"active_scroll\":\"auto\",\"active_tap\":\"auto\",\"tools\":[{\"id\":\"c7972611-6427-4d84-8c93-5974d1ff57c9\",\"type\":\"PanTool\"},{\"id\":\"e5ae2562-097e-4d97-80c7-350fb73207fa\",\"type\":\"WheelZoomTool\"},{\"id\":\"a270731b-0713-41b4-8ce3-199c17ccbbe5\",\"type\":\"BoxZoomTool\"},{\"id\":\"9e222b13-5b22-419e-a784-82f0f58eb714\",\"type\":\"SaveTool\"},{\"id\":\"2402419f-a8f9-4dd9-8e63-6df670bdd97c\",\"type\":\"ResetTool\"},{\"id\":\"4b8cfa7e-0cf7-4849-a9f5-d07886d3039b\",\"type\":\"HelpTool\"}]},\"id\":\"b1371687-2e7c-4935-ba2b-ca33887d450a\",\"type\":\"Toolbar\"},{\"attributes\":{},\"id\":\"94ddd6e4-5f56-4a9e-8ced-57c2459c1169\",\"type\":\"UnionRenderers\"},{\"attributes\":{},\"id\":\"25141d38-92b5-4207-8410-963c57533c0f\",\"type\":\"Selection\"},{\"attributes\":{},\"id\":\"8e28407f-9a85-472b-a9f0-b02b3c66f8fa\",\"type\":\"BasicTickFormatter\"},{\"attributes\":{},\"id\":\"41a9dd39-cf62-43b0-8f03-35b68c3d5e6f\",\"type\":\"BasicTickFormatter\"},{\"attributes\":{},\"id\":\"e2d06035-adde-4550-a29c-973b21ee0a6f\",\"type\":\"Selection\"},{\"attributes\":{},\"id\":\"7b621be4-63f5-4765-8989-c9000ac9f20c\",\"type\":\"BasicTicker\"},{\"attributes\":{},\"id\":\"f16c49cb-0ed5-4024-8a4d-6132a006df69\",\"type\":\"Selection\"},{\"attributes\":{\"dimension\":1,\"plot\":{\"id\":\"5b663bd1-e5a3-41d0-b1d7-c2a80715a0b2\",\"subtype\":\"Figure\",\"type\":\"Plot\"},\"ticker\":{\"id\":\"7b621be4-63f5-4765-8989-c9000ac9f20c\",\"type\":\"BasicTicker\"}},\"id\":\"8c1af3d1-439e-4cb6-bb65-bb2474826390\",\"type\":\"Grid\"},{\"attributes\":{},\"id\":\"99423885-be03-4369-a19d-9b33493d84d4\",\"type\":\"Selection\"},{\"attributes\":{},\"id\":\"e5ae2562-097e-4d97-80c7-350fb73207fa\",\"type\":\"WheelZoomTool\"},{\"attributes\":{},\"id\":\"1455611b-0e2d-4e65-85fd-f1e99344f34b\",\"type\":\"UnionRenderers\"},{\"attributes\":{},\"id\":\"fa5b4504-a30f-43ef-afe0-e139e88025a7\",\"type\":\"UnionRenderers\"},{\"attributes\":{\"plot\":null,\"text\":\"\"},\"id\":\"8b84870a-880f-4c14-9986-1baecf5dcdb7\",\"type\":\"Title\"},{\"attributes\":{\"ticker\":null},\"id\":\"b1677fa1-9e60-468d-a419-28e857646f70\",\"type\":\"LogTickFormatter\"},{\"attributes\":{},\"id\":\"dc6072a5-6686-405a-bebb-053fc0953f6e\",\"type\":\"Selection\"},{\"attributes\":{},\"id\":\"f0d7d61b-028b-40ce-9c49-62d8cd21a768\",\"type\":\"Selection\"},{\"attributes\":{},\"id\":\"4090127a-f3a8-4046-8513-93943f63d27c\",\"type\":\"Selection\"},{\"attributes\":{},\"id\":\"90f0013e-b361-4f2c-9add-cbd7a598f315\",\"type\":\"UnionRenderers\"},{\"attributes\":{},\"id\":\"f07c9b7d-0f50-4479-a41b-c083dbb9c6ad\",\"type\":\"Selection\"},{\"attributes\":{\"axis_label\":\"pressure [mb]\",\"formatter\":{\"id\":\"d0c7b3a1-9e46-4e09-b5e7-c4b21d89ad09\",\"type\":\"BasicTickFormatter\"},\"plot\":{\"id\":\"5b663bd1-e5a3-41d0-b1d7-c2a80715a0b2\",\"subtype\":\"Figure\",\"type\":\"Plot\"},\"ticker\":{\"id\":\"7b621be4-63f5-4765-8989-c9000ac9f20c\",\"type\":\"BasicTicker\"}},\"id\":\"e14bcf28-1485-477b-bcae-2b62524909da\",\"type\":\"LinearAxis\"},{\"attributes\":{},\"id\":\"c80732a2-8550-435e-9651-a3db9fdcb374\",\"type\":\"Selection\"},{\"attributes\":{},\"id\":\"c847b13e-7a5d-4e1c-b916-9bffef73a019\",\"type\":\"UnionRenderers\"},{\"attributes\":{\"toolbar\":{\"id\":\"ba5a25f3-6fef-49b3-afe3-ce181570f829\",\"type\":\"ProxyToolbar\"},\"toolbar_location\":\"above\"},\"id\":\"d2e19305-d5a3-44da-8384-a8ab587de0fa\",\"type\":\"ToolbarBox\"},{\"attributes\":{},\"id\":\"a080128e-6661-4e9b-8338-eb4d06dfc591\",\"type\":\"BasicTicker\"},{\"attributes\":{},\"id\":\"194d4982-0809-481e-b886-6047328a4112\",\"type\":\"UnionRenderers\"},{\"attributes\":{\"axis_label\":\"cooling rate [K/day]\",\"formatter\":{\"id\":\"8e28407f-9a85-472b-a9f0-b02b3c66f8fa\",\"type\":\"BasicTickFormatter\"},\"plot\":{\"id\":\"5b663bd1-e5a3-41d0-b1d7-c2a80715a0b2\",\"subtype\":\"Figure\",\"type\":\"Plot\"},\"ticker\":{\"id\":\"a080128e-6661-4e9b-8338-eb4d06dfc591\",\"type\":\"BasicTicker\"}},\"id\":\"6d0c2173-26ed-46b6-a76c-0e0b1d9746e3\",\"type\":\"LinearAxis\"},{\"attributes\":{\"plot\":{\"id\":\"5b663bd1-e5a3-41d0-b1d7-c2a80715a0b2\",\"subtype\":\"Figure\",\"type\":\"Plot\"},\"ticker\":{\"id\":\"a080128e-6661-4e9b-8338-eb4d06dfc591\",\"type\":\"BasicTicker\"}},\"id\":\"bc3bbb65-454e-4c57-96f8-5bd66eb9695f\",\"type\":\"Grid\"},{\"attributes\":{},\"id\":\"4ce3624d-ec60-4347-aee5-82df0ebded37\",\"type\":\"UnionRenderers\"},{\"attributes\":{\"children\":[{\"id\":\"d2e19305-d5a3-44da-8384-a8ab587de0fa\",\"type\":\"ToolbarBox\"},{\"id\":\"82341b9f-4bcf-474a-a578-56ef9accd10f\",\"type\":\"Column\"}]},\"id\":\"a089e360-954a-4cd9-a0a0-01d18fa7aece\",\"type\":\"Column\"},{\"attributes\":{\"overlay\":{\"id\":\"9f6a8a32-a47d-40c9-9a19-2db232989588\",\"type\":\"BoxAnnotation\"}},\"id\":\"a270731b-0713-41b4-8ce3-199c17ccbbe5\",\"type\":\"BoxZoomTool\"},{\"attributes\":{},\"id\":\"8435357d-64cb-4ad6-b0a9-f70795573f21\",\"type\":\"UnionRenderers\"},{\"attributes\":{},\"id\":\"421903a2-e5cb-4830-9e68-ddf5ea4cff49\",\"type\":\"LinearScale\"},{\"attributes\":{\"tools\":[{\"id\":\"c7972611-6427-4d84-8c93-5974d1ff57c9\",\"type\":\"PanTool\"},{\"id\":\"e5ae2562-097e-4d97-80c7-350fb73207fa\",\"type\":\"WheelZoomTool\"},{\"id\":\"a270731b-0713-41b4-8ce3-199c17ccbbe5\",\"type\":\"BoxZoomTool\"},{\"id\":\"9e222b13-5b22-419e-a784-82f0f58eb714\",\"type\":\"SaveTool\"},{\"id\":\"2402419f-a8f9-4dd9-8e63-6df670bdd97c\",\"type\":\"ResetTool\"},{\"id\":\"4b8cfa7e-0cf7-4849-a9f5-d07886d3039b\",\"type\":\"HelpTool\"},{\"id\":\"1bf44a85-c03e-464f-bb85-72d54529c321\",\"type\":\"PanTool\"},{\"id\":\"57ee97a1-2137-4324-919e-b4dd0199bd6e\",\"type\":\"WheelZoomTool\"},{\"id\":\"33079f10-8d6e-443d-a8f8-95a7f5e56709\",\"type\":\"BoxZoomTool\"},{\"id\":\"6909647f-5288-4968-bd54-6c29720a814f\",\"type\":\"SaveTool\"},{\"id\":\"72247a2d-c63e-4447-8079-2bdb0cf25690\",\"type\":\"ResetTool\"},{\"id\":\"2fd5a6f9-2186-4d50-9bc5-2ac31bed2d9d\",\"type\":\"HelpTool\"}]},\"id\":\"ba5a25f3-6fef-49b3-afe3-ce181570f829\",\"type\":\"ProxyToolbar\"},{\"attributes\":{},\"id\":\"2402419f-a8f9-4dd9-8e63-6df670bdd97c\",\"type\":\"ResetTool\"},{\"attributes\":{},\"id\":\"c7972611-6427-4d84-8c93-5974d1ff57c9\",\"type\":\"PanTool\"},{\"attributes\":{\"axis_label\":\"pressure [mb]\",\"formatter\":{\"id\":\"b1677fa1-9e60-468d-a419-28e857646f70\",\"type\":\"LogTickFormatter\"},\"plot\":{\"id\":\"68851bb5-2655-43e0-8057-b3708cdb27b0\",\"subtype\":\"Figure\",\"type\":\"Plot\"},\"ticker\":{\"id\":\"956885c6-aeaa-491f-84fe-fca28d91ba83\",\"type\":\"LogTicker\"}},\"id\":\"eff84ef5-bfc1-4a88-9463-b43386a673df\",\"type\":\"LogAxis\"},{\"attributes\":{},\"id\":\"9e222b13-5b22-419e-a784-82f0f58eb714\",\"type\":\"SaveTool\"},{\"attributes\":{\"callback\":null,\"end\":0.01,\"start\":1020},\"id\":\"12cc7339-b962-4e74-b184-b4a8899a77ab\",\"type\":\"Range1d\"},{\"attributes\":{\"line_alpha\":0.1,\"line_color\":\"#1f77b4\",\"line_width\":1.5,\"x\":{\"field\":\"x\"},\"y\":{\"field\":\"y\"}},\"id\":\"c00dc280-7d99-4254-af27-32fee4b90042\",\"type\":\"Line\"},{\"attributes\":{},\"id\":\"57ee97a1-2137-4324-919e-b4dd0199bd6e\",\"type\":\"WheelZoomTool\"},{\"attributes\":{\"line_alpha\":0.1,\"line_color\":\"#1f77b4\",\"line_width\":3,\"x\":{\"field\":\"x\"},\"y\":{\"field\":\"y\"}},\"id\":\"7565d74e-0496-4da2-9457-86058c0fd445\",\"type\":\"Line\"},{\"attributes\":{\"data_source\":{\"id\":\"36243803-be28-406f-88a8-02c92b5f3c51\",\"type\":\"ColumnDataSource\"},\"glyph\":{\"id\":\"4bc4a38c-ea78-4538-9e36-1c27bbbfc6fd\",\"type\":\"Line\"},\"hover_glyph\":null,\"muted_glyph\":null,\"nonselection_glyph\":{\"id\":\"7565d74e-0496-4da2-9457-86058c0fd445\",\"type\":\"Line\"},\"selection_glyph\":null,\"view\":{\"id\":\"d8dfd619-e07a-4602-8451-d2c9c41afbaa\",\"type\":\"CDSView\"}},\"id\":\"e49117a1-1fbd-48c8-bc3a-560ce5ab37a1\",\"type\":\"GlyphRenderer\"},{\"attributes\":{\"source\":{\"id\":\"07089328-ac99-4b53-b939-ecd4e10384ee\",\"type\":\"ColumnDataSource\"}},\"id\":\"c1fa1756-3d46-44f3-a700-1659a189844f\",\"type\":\"CDSView\"},{\"attributes\":{\"data_source\":{\"id\":\"07089328-ac99-4b53-b939-ecd4e10384ee\",\"type\":\"ColumnDataSource\"},\"glyph\":{\"id\":\"5e669ecf-eea4-4a0c-8a13-fac3fb576c90\",\"type\":\"Line\"},\"hover_glyph\":null,\"muted_glyph\":null,\"nonselection_glyph\":{\"id\":\"c00dc280-7d99-4254-af27-32fee4b90042\",\"type\":\"Line\"},\"selection_glyph\":null,\"view\":{\"id\":\"c1fa1756-3d46-44f3-a700-1659a189844f\",\"type\":\"CDSView\"}},\"id\":\"f8f9dbf5-a66b-4044-b8e8-91ab989a8a3e\",\"type\":\"GlyphRenderer\"},{\"attributes\":{\"fill_alpha\":{\"value\":0.7},\"fill_color\":{\"value\":\"#984ea3\"},\"line_alpha\":{\"value\":0.7},\"line_color\":{\"value\":\"#984ea3\"},\"x\":{\"field\":\"x\"},\"y\":{\"field\":\"y\"}},\"id\":\"f28813a8-2477-4384-b33d-ae4d00d474ee\",\"type\":\"Square\"},{\"attributes\":{\"callback\":null,\"data\":{\"x\":{\"__ndarray__\":\"dHlmYjpAQb8N3/bQu0JBv7wMjvvqR0G/a2vLAzxNQb8A54UsYVJBv1LJi19TV0G/O9QDSBFcQb+qi0AQmGBBv3NS/a3lZEG/KOtvSPhoQb/jdi8Uz2xBv4E0JOJqcEG/WECBVs5zQb9cmfJMKHdBv94PMwHZfUG/X8v7KIx4Qb8zRmOwFxtBvwICEkGFHkC/dlitgMVQPL+MNpHOcmU1v9bmb+yrDyS/h/CuAbFvHj9D9CdD5JA7P/FV5Rn4bD0/L0ZMBY0pKj/oeWzstBQJv15FDWsynS6/CaKzvqfSN7/ehXQ92Yc9v4wXF4poxUC/UBmWlfVcQr9FzIKaP8hDvxgtUEFKNkW/VILqttzrRr8HRZ+MTjlJvyOn8AozT0y/+5EVxgLKT7/QBh9VlJxRv92WcyrTT1O/8u7s1cX5VL8fbg8K335Wv7BY+De+r1e//4c//Nh6WL88iAvrx+BYv0g1vL6u3Vi/26s39JtsWL/Xx91Fs4lXvzXTA/9QMla/wrZ1G0NlVL+WkGSe6SFSv1WFlkCu3E6/vuoexRmiSL+C4HdwTJ9Bv7wXybVssjO/cjQZyS/tBL9yRUsoTAUwP1+4cAjCHEI/cTvjzrn/TD/vpajvR1VUP4C96EmejVo/Y1v8KTKTYD8EO/AF/A5kPzh2HSqFuWc/hG+GyBWRaz/GgMVSRpJvP21BU5Ti2nE/w+/lCNn1cz/2w44aoQx2P8B3lDRKEXg/LVWTL8L+eT++qG6Aatt7PyOeB5dQsX0/+NvFVZiHfz/EMNGw+bCAP5flUKcBoYE/\",\"dtype\":\"float64\",\"shape\":[75]},\"y\":{\"__ndarray__\":\"GhExyth1ND/Sv8nbtpRIP2vylNV0PVE/aTum7souWD/At0SJ8fVgPw3Iuahxymc/MSNhhJWvcD/bTfBN02d3P2zb5nxnaoA/CD5h5MAGhz8NmeH1TyaQP+zrCsc9p5Y/LbKd76fGnz/bLW5ISEmmPww9YvTcQq8/JV2OstnstT8Er5Y7M8G+P0c+r3jqkcU/5h99k6ZBzj88bCIzFzjVP4enV8oyxN0//yH99nXg5D8qOpLLf0jtP5kqGJXUifQ/c9cS8kHP/D+/DpwzojQEQIEmwoanVwxA4lgXt9HgE0BSSZ2AJuIbQAMJih9jjiNA5q4l5INuK0AwTKYKRj0zQNv5fmq8/DpAaCJseHrtQkB/+zpwzoxKQM3MzMzMeFJAZmZmZmZqWEAAAAAAAFxeQM3MzMzMJmJAmpmZmZkfZUBmZmZmZhhoQDMzMzMzEWtAAAAAAAAKbkBmZmZmZoFwQM3MzMzM/XFAMzMzMzN6c0CamZmZmfZ0QAAAAAAAc3ZAZmZmZmbvd0DNzMzMzGt5QDMzMzMz6HpAmpmZmZlkfEAAAAAAAOF9QGZmZmZmXX9AZmZmZuZsgECamZmZGSuBQM3MzMxM6YFAAAAAAICngkAzMzMzs2WDQGZmZmbmI4RAmpmZmRnihEDNzMzMTKCFQAAAAACAXoZAMzMzM7Mch0BmZmZm5tqHQJqZmZkZmYhAzczMzExXiUAAAAAAgBWKQDMzMzOz04pAZmZmZuaRi0CamZmZGVCMQM3MzMxMDo1AAAAAAIDMjUAzMzMzs4qOQGZmZmbmSI9A\",\"dtype\":\"float64\",\"shape\":[75]}},\"selected\":{\"id\":\"06d3e04a-33bf-45bc-8dac-b4f5c8eb8969\",\"type\":\"Selection\"},\"selection_policy\":{\"id\":\"cf5b337d-eb4c-4597-941e-1bf485769714\",\"type\":\"UnionRenderers\"}},\"id\":\"e25e7b78-8246-4af3-aa46-b7bf7ec3dabd\",\"type\":\"ColumnDataSource\"},{\"attributes\":{\"data_source\":{\"id\":\"e25e7b78-8246-4af3-aa46-b7bf7ec3dabd\",\"type\":\"ColumnDataSource\"},\"glyph\":{\"id\":\"6e372320-489a-441f-90fd-849912a9a258\",\"type\":\"Triangle\"},\"hover_glyph\":null,\"muted_glyph\":null,\"nonselection_glyph\":{\"id\":\"87955517-4f07-4897-9c03-e1c8ef4b2162\",\"type\":\"Triangle\"},\"selection_glyph\":null,\"view\":{\"id\":\"b8d8e10d-01f2-49f0-af79-0afd83f1abcf\",\"type\":\"CDSView\"}},\"id\":\"2641ed15-864a-47d7-8a4e-f78d6d7684f4\",\"type\":\"GlyphRenderer\"},{\"attributes\":{\"fill_alpha\":{\"value\":0.1},\"fill_color\":{\"value\":\"#1f77b4\"},\"line_alpha\":{\"value\":0.1},\"line_color\":{\"value\":\"#1f77b4\"},\"x\":{\"field\":\"x\"},\"y\":{\"field\":\"y\"}},\"id\":\"87955517-4f07-4897-9c03-e1c8ef4b2162\",\"type\":\"Triangle\"},{\"attributes\":{\"line_alpha\":0.1,\"line_color\":\"#1f77b4\",\"line_width\":2,\"x\":{\"field\":\"x\"},\"y\":{\"field\":\"y\"}},\"id\":\"8451b8bd-6601-48e5-b1bf-bb006c6772f8\",\"type\":\"Line\"},{\"attributes\":{\"source\":{\"id\":\"c9382a45-593e-45d3-a1e6-ffcb246d0dba\",\"type\":\"ColumnDataSource\"}},\"id\":\"0363c6b6-b551-4880-b907-c72c81de6402\",\"type\":\"CDSView\"},{\"attributes\":{\"line_alpha\":0.6,\"line_color\":\"#984ea3\",\"line_width\":3,\"x\":{\"field\":\"x\"},\"y\":{\"field\":\"y\"}},\"id\":\"4bc4a38c-ea78-4538-9e36-1c27bbbfc6fd\",\"type\":\"Line\"},{\"attributes\":{\"source\":{\"id\":\"e25e7b78-8246-4af3-aa46-b7bf7ec3dabd\",\"type\":\"ColumnDataSource\"}},\"id\":\"b8d8e10d-01f2-49f0-af79-0afd83f1abcf\",\"type\":\"CDSView\"},{\"attributes\":{\"callback\":null,\"data\":{\"x\":{\"__ndarray__\":\"kdmRVY6jQr/hXYewEKZCv0hu1+Y9q0K/jviHlIawQr+s7MQQmrVCv71wjvRzukK/wUg4XxG/Qr+Z+SjLbsNCv7rFk3WKx0K/YtA8B2LLQr/4esF99M5Cv2KkiqRC0kK/GolOBE/VQr/dMYZtQdhCv8P3GChf3UK/iEYJT+fQQr/sq1Jg+l5Cv0oTTtkcO0G/3IuZJKgCPr+9frPABDs2v7L+7lF3CiO/ODfdY0ZHJD+TfyQ29CpAP0fjMDX0M0E/YLvT/YM9MD91DbMw4un8vhSUCgS3wS6/ws802c/kOL+sKX79FUk/v8HnkQ7840G/AwK8mACsQ798q3sJcUNFv1HzWgoY2Ea/FvWCSPu0SL+Y79fEMjlLv65UGL0jlU6/QrzA+UwuUb9uNMr7OwlTv8WlHYyO41S/QKKoM0CwVr9DzMDg1VRYvxnSSbzhmlm/sTPWFWtsWr9xfWnkS9Vavy8Z9TfC1Vq/cMz8a3xUWr+IwPLX1E9Zv3onXJTEzle/S3VkWe7UVb8ZbPrVm1ZTv9WufQjAdFC//YF4oxAbSr9EqsrsY21Cv4siotv9+DO/2FE3qzpk+r4WCo15C2IyP5ojUiAOK0Q/KsS8MqPrTz+9VN4h1CtWP77SCq/D4Vw/R6JUWVT/YT9EU8qwsLVlPyJCzPv5o2k//NyNnMXGbT88MiKFNQRxPyZ3sOpZPHM/xdI1C6N9dT81LLxG6LJ3P7cyj+K223k/uBNFeBblez/Uhe2qLdx9P409RjyDzX8/lV4eoRTcgD9/Dq/ICNiBPzg2UFuJ0oI/\",\"dtype\":\"float64\",\"shape\":[75]},\"y\":{\"__ndarray__\":\"GhExyth1ND/Sv8nbtpRIP2vylNV0PVE/aTum7souWD/At0SJ8fVgPw3Iuahxymc/MSNhhJWvcD/bTfBN02d3P2zb5nxnaoA/CD5h5MAGhz8NmeH1TyaQP+zrCsc9p5Y/LbKd76fGnz/bLW5ISEmmPww9YvTcQq8/JV2OstnstT8Er5Y7M8G+P0c+r3jqkcU/5h99k6ZBzj88bCIzFzjVP4enV8oyxN0//yH99nXg5D8qOpLLf0jtP5kqGJXUifQ/c9cS8kHP/D+/DpwzojQEQIEmwoanVwxA4lgXt9HgE0BSSZ2AJuIbQAMJih9jjiNA5q4l5INuK0AwTKYKRj0zQNv5fmq8/DpAaCJseHrtQkB/+zpwzoxKQM3MzMzMeFJAZmZmZmZqWEAAAAAAAFxeQM3MzMzMJmJAmpmZmZkfZUBmZmZmZhhoQDMzMzMzEWtAAAAAAAAKbkBmZmZmZoFwQM3MzMzM/XFAMzMzMzN6c0CamZmZmfZ0QAAAAAAAc3ZAZmZmZmbvd0DNzMzMzGt5QDMzMzMz6HpAmpmZmZlkfEAAAAAAAOF9QGZmZmZmXX9AZmZmZuZsgECamZmZGSuBQM3MzMxM6YFAAAAAAICngkAzMzMzs2WDQGZmZmbmI4RAmpmZmRnihEDNzMzMTKCFQAAAAACAXoZAMzMzM7Mch0BmZmZm5tqHQJqZmZkZmYhAzczMzExXiUAAAAAAgBWKQDMzMzOz04pAZmZmZuaRi0CamZmZGVCMQM3MzMxMDo1AAAAAAIDMjUAzMzMzs4qOQGZmZmbmSI9A\",\"dtype\":\"float64\",\"shape\":[75]}},\"selected\":{\"id\":\"f5bb4dcc-d800-4bbc-a5c7-4f28458042fa\",\"type\":\"Selection\"},\"selection_policy\":{\"id\":\"0d7f3891-dfae-4784-9750-08303184053b\",\"type\":\"UnionRenderers\"}},\"id\":\"36243803-be28-406f-88a8-02c92b5f3c51\",\"type\":\"ColumnDataSource\"},{\"attributes\":{\"callback\":null,\"end\":0.01,\"start\":1020},\"id\":\"f0ac9c3a-f6c1-4aa1-be0d-4fd1ed1f6401\",\"type\":\"Range1d\"},{\"attributes\":{\"source\":{\"id\":\"36243803-be28-406f-88a8-02c92b5f3c51\",\"type\":\"ColumnDataSource\"}},\"id\":\"d8dfd619-e07a-4602-8451-d2c9c41afbaa\",\"type\":\"CDSView\"},{\"attributes\":{\"above\":[{\"id\":\"063b1446-16db-4412-b83f-8e5fb31ceff9\",\"type\":\"Legend\"}],\"below\":[{\"id\":\"9f41079a-8da4-49b8-98fd-42a20fea2103\",\"type\":\"LinearAxis\"}],\"left\":[{\"id\":\"eff84ef5-bfc1-4a88-9463-b43386a673df\",\"type\":\"LogAxis\"}],\"plot_height\":500,\"plot_width\":400,\"renderers\":[{\"id\":\"9f41079a-8da4-49b8-98fd-42a20fea2103\",\"type\":\"LinearAxis\"},{\"id\":\"d366301c-d96a-4608-b25a-721ce1120542\",\"type\":\"Grid\"},{\"id\":\"eff84ef5-bfc1-4a88-9463-b43386a673df\",\"type\":\"LogAxis\"},{\"id\":\"0c18f344-78f6-49f8-bd1f-b156759b043b\",\"type\":\"Grid\"},{\"id\":\"a2b944ef-cf1a-4de7-8340-c25a180064c8\",\"type\":\"BoxAnnotation\"},{\"id\":\"45868b1c-a448-43d8-a4a9-f46e66f1302e\",\"type\":\"GlyphRenderer\"},{\"id\":\"1692bd25-40a9-48fa-8bc3-d09f52dc56b5\",\"type\":\"GlyphRenderer\"},{\"id\":\"1bca971f-5a0c-4629-b155-92166ac27d28\",\"type\":\"GlyphRenderer\"},{\"id\":\"66bab09d-566c-439a-b9ca-447a211ad7de\",\"type\":\"GlyphRenderer\"},{\"id\":\"1ba8b3fe-86dc-4015-be1a-0b1659e29820\",\"type\":\"GlyphRenderer\"},{\"id\":\"21db7800-2fc5-4417-8c1f-941717551c6e\",\"type\":\"GlyphRenderer\"},{\"id\":\"063b1446-16db-4412-b83f-8e5fb31ceff9\",\"type\":\"Legend\"}],\"title\":{\"id\":\"8b84870a-880f-4c14-9986-1baecf5dcdb7\",\"type\":\"Title\"},\"toolbar\":{\"id\":\"a41c97a5-fb24-4066-938a-d84b3e837501\",\"type\":\"Toolbar\"},\"toolbar_location\":null,\"x_range\":{\"id\":\"f0f28535-ba9e-49b9-b58f-ec562c85d7b9\",\"type\":\"Range1d\"},\"x_scale\":{\"id\":\"ab4fbdaa-63f7-4fef-8733-ef3c4a748d84\",\"type\":\"LinearScale\"},\"y_range\":{\"id\":\"12cc7339-b962-4e74-b184-b4a8899a77ab\",\"type\":\"Range1d\"},\"y_scale\":{\"id\":\"5e7c19f4-3c9b-4a72-978a-014131ecc8a1\",\"type\":\"LogScale\"}},\"id\":\"68851bb5-2655-43e0-8057-b3708cdb27b0\",\"subtype\":\"Figure\",\"type\":\"Plot\"},{\"attributes\":{\"fill_alpha\":{\"value\":0.1},\"fill_color\":{\"value\":\"#1f77b4\"},\"line_alpha\":{\"value\":0.1},\"line_color\":{\"value\":\"#1f77b4\"},\"x\":{\"field\":\"x\"},\"y\":{\"field\":\"y\"}},\"id\":\"e392d4fa-7a4f-40ce-a2e9-277a4b9694ad\",\"type\":\"Square\"},{\"attributes\":{\"callback\":null,\"data\":{\"x\":{\"__ndarray__\":\"kdmRVY6jQr/hXYewEKZCv0hu1+Y9q0K/jviHlIawQr+s7MQQmrVCv71wjvRzukK/wUg4XxG/Qr+Z+SjLbsNCv7rFk3WKx0K/YtA8B2LLQr/4esF99M5Cv2KkiqRC0kK/GolOBE/VQr/dMYZtQdhCv8P3GChf3UK/iEYJT+fQQr/sq1Jg+l5Cv0oTTtkcO0G/3IuZJKgCPr+9frPABDs2v7L+7lF3CiO/ODfdY0ZHJD+TfyQ29CpAP0fjMDX0M0E/YLvT/YM9MD91DbMw4un8vhSUCgS3wS6/ws802c/kOL+sKX79FUk/v8HnkQ7840G/AwK8mACsQ798q3sJcUNFv1HzWgoY2Ea/FvWCSPu0SL+Y79fEMjlLv65UGL0jlU6/QrzA+UwuUb9uNMr7OwlTv8WlHYyO41S/QKKoM0CwVr9DzMDg1VRYvxnSSbzhmlm/sTPWFWtsWr9xfWnkS9Vavy8Z9TfC1Vq/cMz8a3xUWr+IwPLX1E9Zv3onXJTEzle/S3VkWe7UVb8ZbPrVm1ZTv9WufQjAdFC//YF4oxAbSr9EqsrsY21Cv4siotv9+DO/2FE3qzpk+r4WCo15C2IyP5ojUiAOK0Q/KsS8MqPrTz+9VN4h1CtWP77SCq/D4Vw/R6JUWVT/YT9EU8qwsLVlPyJCzPv5o2k//NyNnMXGbT88MiKFNQRxPyZ3sOpZPHM/xdI1C6N9dT81LLxG6LJ3P7cyj+K223k/uBNFeBblez/Uhe2qLdx9P409RjyDzX8/lV4eoRTcgD9/Dq/ICNiBPzg2UFuJ0oI/\",\"dtype\":\"float64\",\"shape\":[75]},\"y\":{\"__ndarray__\":\"GhExyth1ND/Sv8nbtpRIP2vylNV0PVE/aTum7souWD/At0SJ8fVgPw3Iuahxymc/MSNhhJWvcD/bTfBN02d3P2zb5nxnaoA/CD5h5MAGhz8NmeH1TyaQP+zrCsc9p5Y/LbKd76fGnz/bLW5ISEmmPww9YvTcQq8/JV2OstnstT8Er5Y7M8G+P0c+r3jqkcU/5h99k6ZBzj88bCIzFzjVP4enV8oyxN0//yH99nXg5D8qOpLLf0jtP5kqGJXUifQ/c9cS8kHP/D+/DpwzojQEQIEmwoanVwxA4lgXt9HgE0BSSZ2AJuIbQAMJih9jjiNA5q4l5INuK0AwTKYKRj0zQNv5fmq8/DpAaCJseHrtQkB/+zpwzoxKQM3MzMzMeFJAZmZmZmZqWEAAAAAAAFxeQM3MzMzMJmJAmpmZmZkfZUBmZmZmZhhoQDMzMzMzEWtAAAAAAAAKbkBmZmZmZoFwQM3MzMzM/XFAMzMzMzN6c0CamZmZmfZ0QAAAAAAAc3ZAZmZmZmbvd0DNzMzMzGt5QDMzMzMz6HpAmpmZmZlkfEAAAAAAAOF9QGZmZmZmXX9AZmZmZuZsgECamZmZGSuBQM3MzMxM6YFAAAAAAICngkAzMzMzs2WDQGZmZmbmI4RAmpmZmRnihEDNzMzMTKCFQAAAAACAXoZAMzMzM7Mch0BmZmZm5tqHQJqZmZkZmYhAzczMzExXiUAAAAAAgBWKQDMzMzOz04pAZmZmZuaRi0CamZmZGVCMQM3MzMxMDo1AAAAAAIDMjUAzMzMzs4qOQGZmZmbmSI9A\",\"dtype\":\"float64\",\"shape\":[75]}},\"selected\":{\"id\":\"f7acca7e-d9c1-45ab-9976-4127b1d6e267\",\"type\":\"Selection\"},\"selection_policy\":{\"id\":\"fa5b4504-a30f-43ef-afe0-e139e88025a7\",\"type\":\"UnionRenderers\"}},\"id\":\"c9382a45-593e-45d3-a1e6-ffcb246d0dba\",\"type\":\"ColumnDataSource\"},{\"attributes\":{\"line_alpha\":0.3,\"line_color\":\"#377eb8\",\"line_width\":2,\"x\":{\"field\":\"x\"},\"y\":{\"field\":\"y\"}},\"id\":\"c10c99d9-95ce-4322-a377-adac9db75b05\",\"type\":\"Line\"},{\"attributes\":{\"source\":{\"id\":\"325294d1-5b50-4e58-be7e-708d789c2d06\",\"type\":\"ColumnDataSource\"}},\"id\":\"c5835433-4cd2-48d7-9c9b-1a50eecbbecc\",\"type\":\"CDSView\"},{\"attributes\":{\"line_color\":\"#4daf4a\",\"line_width\":1.5,\"x\":{\"field\":\"x\"},\"y\":{\"field\":\"y\"}},\"id\":\"5e669ecf-eea4-4a0c-8a13-fac3fb576c90\",\"type\":\"Line\"},{\"attributes\":{\"callback\":null,\"data\":{\"x\":{\"__ndarray__\":\"dHlmYjpAQb8N3/bQu0JBv7wMjvvqR0G/a2vLAzxNQb8A54UsYVJBv1LJi19TV0G/O9QDSBFcQb+qi0AQmGBBv3NS/a3lZEG/KOtvSPhoQb/jdi8Uz2xBv4E0JOJqcEG/WECBVs5zQb9cmfJMKHdBv94PMwHZfUG/X8v7KIx4Qb8zRmOwFxtBvwICEkGFHkC/dlitgMVQPL+MNpHOcmU1v9bmb+yrDyS/h/CuAbFvHj9D9CdD5JA7P/FV5Rn4bD0/L0ZMBY0pKj/oeWzstBQJv15FDWsynS6/CaKzvqfSN7/ehXQ92Yc9v4wXF4poxUC/UBmWlfVcQr9FzIKaP8hDvxgtUEFKNkW/VILqttzrRr8HRZ+MTjlJvyOn8AozT0y/+5EVxgLKT7/QBh9VlJxRv92WcyrTT1O/8u7s1cX5VL8fbg8K335Wv7BY+De+r1e//4c//Nh6WL88iAvrx+BYv0g1vL6u3Vi/26s39JtsWL/Xx91Fs4lXvzXTA/9QMla/wrZ1G0NlVL+WkGSe6SFSv1WFlkCu3E6/vuoexRmiSL+C4HdwTJ9Bv7wXybVssjO/cjQZyS/tBL9yRUsoTAUwP1+4cAjCHEI/cTvjzrn/TD/vpajvR1VUP4C96EmejVo/Y1v8KTKTYD8EO/AF/A5kPzh2HSqFuWc/hG+GyBWRaz/GgMVSRpJvP21BU5Ti2nE/w+/lCNn1cz/2w44aoQx2P8B3lDRKEXg/LVWTL8L+eT++qG6Aatt7PyOeB5dQsX0/+NvFVZiHfz/EMNGw+bCAP5flUKcBoYE/\",\"dtype\":\"float64\",\"shape\":[75]},\"y\":{\"__ndarray__\":\"GhExyth1ND/Sv8nbtpRIP2vylNV0PVE/aTum7souWD/At0SJ8fVgPw3Iuahxymc/MSNhhJWvcD/bTfBN02d3P2zb5nxnaoA/CD5h5MAGhz8NmeH1TyaQP+zrCsc9p5Y/LbKd76fGnz/bLW5ISEmmPww9YvTcQq8/JV2OstnstT8Er5Y7M8G+P0c+r3jqkcU/5h99k6ZBzj88bCIzFzjVP4enV8oyxN0//yH99nXg5D8qOpLLf0jtP5kqGJXUifQ/c9cS8kHP/D+/DpwzojQEQIEmwoanVwxA4lgXt9HgE0BSSZ2AJuIbQAMJih9jjiNA5q4l5INuK0AwTKYKRj0zQNv5fmq8/DpAaCJseHrtQkB/+zpwzoxKQM3MzMzMeFJAZmZmZmZqWEAAAAAAAFxeQM3MzMzMJmJAmpmZmZkfZUBmZmZmZhhoQDMzMzMzEWtAAAAAAAAKbkBmZmZmZoFwQM3MzMzM/XFAMzMzMzN6c0CamZmZmfZ0QAAAAAAAc3ZAZmZmZmbvd0DNzMzMzGt5QDMzMzMz6HpAmpmZmZlkfEAAAAAAAOF9QGZmZmZmXX9AZmZmZuZsgECamZmZGSuBQM3MzMxM6YFAAAAAAICngkAzMzMzs2WDQGZmZmbmI4RAmpmZmRnihEDNzMzMTKCFQAAAAACAXoZAMzMzM7Mch0BmZmZm5tqHQJqZmZkZmYhAzczMzExXiUAAAAAAgBWKQDMzMzOz04pAZmZmZuaRi0CamZmZGVCMQM3MzMxMDo1AAAAAAIDMjUAzMzMzs4qOQGZmZmbmSI9A\",\"dtype\":\"float64\",\"shape\":[75]}},\"selected\":{\"id\":\"99423885-be03-4369-a19d-9b33493d84d4\",\"type\":\"Selection\"},\"selection_policy\":{\"id\":\"1d6569f4-05ff-4789-9681-5ab7705453cb\",\"type\":\"UnionRenderers\"}},\"id\":\"325294d1-5b50-4e58-be7e-708d789c2d06\",\"type\":\"ColumnDataSource\"},{\"attributes\":{\"fill_alpha\":{\"value\":0.7},\"fill_color\":{\"value\":\"#377eb8\"},\"line_alpha\":{\"value\":0.7},\"line_color\":{\"value\":\"#377eb8\"},\"x\":{\"field\":\"x\"},\"y\":{\"field\":\"y\"}},\"id\":\"6e372320-489a-441f-90fd-849912a9a258\",\"type\":\"Triangle\"},{\"attributes\":{\"data_source\":{\"id\":\"c9382a45-593e-45d3-a1e6-ffcb246d0dba\",\"type\":\"ColumnDataSource\"},\"glyph\":{\"id\":\"f28813a8-2477-4384-b33d-ae4d00d474ee\",\"type\":\"Square\"},\"hover_glyph\":null,\"muted_glyph\":null,\"nonselection_glyph\":{\"id\":\"e392d4fa-7a4f-40ce-a2e9-277a4b9694ad\",\"type\":\"Square\"},\"selection_glyph\":null,\"view\":{\"id\":\"0363c6b6-b551-4880-b907-c72c81de6402\",\"type\":\"CDSView\"}},\"id\":\"3f0419da-752c-4bc4-95e1-32bc1416b04a\",\"type\":\"GlyphRenderer\"},{\"attributes\":{\"data_source\":{\"id\":\"325294d1-5b50-4e58-be7e-708d789c2d06\",\"type\":\"ColumnDataSource\"},\"glyph\":{\"id\":\"c10c99d9-95ce-4322-a377-adac9db75b05\",\"type\":\"Line\"},\"hover_glyph\":null,\"muted_glyph\":null,\"nonselection_glyph\":{\"id\":\"8451b8bd-6601-48e5-b1bf-bb006c6772f8\",\"type\":\"Line\"},\"selection_glyph\":null,\"view\":{\"id\":\"c5835433-4cd2-48d7-9c9b-1a50eecbbecc\",\"type\":\"CDSView\"}},\"id\":\"0d73b64d-ec4d-42b1-b2b3-7ebe71dcaa4f\",\"type\":\"GlyphRenderer\"},{\"attributes\":{\"label\":{\"value\":\"CRD\"},\"renderers\":[{\"id\":\"ae4b6019-2eab-4685-a49a-19f6b447661a\",\"type\":\"GlyphRenderer\"},{\"id\":\"f8f9dbf5-a66b-4044-b8e8-91ab989a8a3e\",\"type\":\"GlyphRenderer\"}]},\"id\":\"e709adee-cc2c-4758-a04b-d993b5fdbf5a\",\"type\":\"LegendItem\"},{\"attributes\":{\"active_drag\":\"auto\",\"active_inspect\":\"auto\",\"active_scroll\":\"auto\",\"active_tap\":\"auto\",\"tools\":[{\"id\":\"1bf44a85-c03e-464f-bb85-72d54529c321\",\"type\":\"PanTool\"},{\"id\":\"57ee97a1-2137-4324-919e-b4dd0199bd6e\",\"type\":\"WheelZoomTool\"},{\"id\":\"33079f10-8d6e-443d-a8f8-95a7f5e56709\",\"type\":\"BoxZoomTool\"},{\"id\":\"6909647f-5288-4968-bd54-6c29720a814f\",\"type\":\"SaveTool\"},{\"id\":\"72247a2d-c63e-4447-8079-2bdb0cf25690\",\"type\":\"ResetTool\"},{\"id\":\"2fd5a6f9-2186-4d50-9bc5-2ac31bed2d9d\",\"type\":\"HelpTool\"}]},\"id\":\"a41c97a5-fb24-4066-938a-d84b3e837501\",\"type\":\"Toolbar\"},{\"attributes\":{\"items\":[{\"id\":\"57438436-ce88-41bc-80c1-930dfe98bf04\",\"type\":\"LegendItem\"},{\"id\":\"3f2782bd-03a7-4a34-93e5-e564d5deb40d\",\"type\":\"LegendItem\"},{\"id\":\"3875801f-f2ab-4366-bd39-de128edce365\",\"type\":\"LegendItem\"}],\"label_text_font_size\":{\"value\":\"8pt\"},\"location\":\"top_center\",\"orientation\":\"horizontal\",\"plot\":{\"id\":\"68851bb5-2655-43e0-8057-b3708cdb27b0\",\"subtype\":\"Figure\",\"type\":\"Plot\"}},\"id\":\"063b1446-16db-4412-b83f-8e5fb31ceff9\",\"type\":\"Legend\"},{\"attributes\":{\"label\":{\"value\":\"WGT igg=1\"},\"renderers\":[{\"id\":\"3f0419da-752c-4bc4-95e1-32bc1416b04a\",\"type\":\"GlyphRenderer\"},{\"id\":\"e49117a1-1fbd-48c8-bc3a-560ce5ab37a1\",\"type\":\"GlyphRenderer\"}]},\"id\":\"e2fb13ea-4f39-463e-b233-98d60e078609\",\"type\":\"LegendItem\"},{\"attributes\":{},\"id\":\"ab4fbdaa-63f7-4fef-8733-ef3c4a748d84\",\"type\":\"LinearScale\"},{\"attributes\":{\"label\":{\"value\":\"WGT igg=10\"},\"renderers\":[{\"id\":\"2641ed15-864a-47d7-8a4e-f78d6d7684f4\",\"type\":\"GlyphRenderer\"},{\"id\":\"0d73b64d-ec4d-42b1-b2b3-7ebe71dcaa4f\",\"type\":\"GlyphRenderer\"}]},\"id\":\"b8b79dd6-6e48-427e-ba3e-8736c80547c4\",\"type\":\"LegendItem\"},{\"attributes\":{},\"id\":\"1bf44a85-c03e-464f-bb85-72d54529c321\",\"type\":\"PanTool\"},{\"attributes\":{\"children\":[{\"id\":\"56e1e63d-cf55-43e0-a7de-0d5f1d8775c4\",\"type\":\"Row\"}]},\"id\":\"82341b9f-4bcf-474a-a578-56ef9accd10f\",\"type\":\"Column\"},{\"attributes\":{\"fill_alpha\":{\"value\":0.1},\"fill_color\":{\"value\":\"#1f77b4\"},\"line_alpha\":{\"value\":0.1},\"line_color\":{\"value\":\"#1f77b4\"},\"x\":{\"field\":\"x\"},\"y\":{\"field\":\"y\"}},\"id\":\"2e5f62de-f15f-44e0-9369-2af620403692\",\"type\":\"Circle\"},{\"attributes\":{\"bottom_units\":\"screen\",\"fill_alpha\":{\"value\":0.5},\"fill_color\":{\"value\":\"lightgrey\"},\"left_units\":\"screen\",\"level\":\"overlay\",\"line_alpha\":{\"value\":1.0},\"line_color\":{\"value\":\"black\"},\"line_dash\":[4,4],\"line_width\":{\"value\":2},\"plot\":null,\"render_mode\":\"css\",\"right_units\":\"screen\",\"top_units\":\"screen\"},\"id\":\"a2b944ef-cf1a-4de7-8340-c25a180064c8\",\"type\":\"BoxAnnotation\"},{\"attributes\":{},\"id\":\"5e7c19f4-3c9b-4a72-978a-014131ecc8a1\",\"type\":\"LogScale\"},{\"attributes\":{\"axis_label\":\"cooling rate [K/day]\",\"formatter\":{\"id\":\"41a9dd39-cf62-43b0-8f03-35b68c3d5e6f\",\"type\":\"BasicTickFormatter\"},\"plot\":{\"id\":\"68851bb5-2655-43e0-8057-b3708cdb27b0\",\"subtype\":\"Figure\",\"type\":\"Plot\"},\"ticker\":{\"id\":\"03dc421e-24c4-4d17-bd5c-f4df543170d6\",\"type\":\"BasicTicker\"}},\"id\":\"9f41079a-8da4-49b8-98fd-42a20fea2103\",\"type\":\"LinearAxis\"},{\"attributes\":{},\"id\":\"03dc421e-24c4-4d17-bd5c-f4df543170d6\",\"type\":\"BasicTicker\"},{\"attributes\":{\"overlay\":{\"id\":\"a2b944ef-cf1a-4de7-8340-c25a180064c8\",\"type\":\"BoxAnnotation\"}},\"id\":\"33079f10-8d6e-443d-a8f8-95a7f5e56709\",\"type\":\"BoxZoomTool\"},{\"attributes\":{},\"id\":\"6909647f-5288-4968-bd54-6c29720a814f\",\"type\":\"SaveTool\"},{\"attributes\":{},\"id\":\"72247a2d-c63e-4447-8079-2bdb0cf25690\",\"type\":\"ResetTool\"},{\"attributes\":{},\"id\":\"2fd5a6f9-2186-4d50-9bc5-2ac31bed2d9d\",\"type\":\"HelpTool\"},{\"attributes\":{},\"id\":\"4b8cfa7e-0cf7-4849-a9f5-d07886d3039b\",\"type\":\"HelpTool\"},{\"attributes\":{},\"id\":\"cf5b337d-eb4c-4597-941e-1bf485769714\",\"type\":\"UnionRenderers\"},{\"attributes\":{\"bottom_units\":\"screen\",\"fill_alpha\":{\"value\":0.5},\"fill_color\":{\"value\":\"lightgrey\"},\"left_units\":\"screen\",\"level\":\"overlay\",\"line_alpha\":{\"value\":1.0},\"line_color\":{\"value\":\"black\"},\"line_dash\":[4,4],\"line_width\":{\"value\":2},\"plot\":null,\"render_mode\":\"css\",\"right_units\":\"screen\",\"top_units\":\"screen\"},\"id\":\"9f6a8a32-a47d-40c9-9a19-2db232989588\",\"type\":\"BoxAnnotation\"},{\"attributes\":{\"callback\":null,\"data\":{\"x\":{\"__ndarray__\":\"qbz1RAFWQL/HDPqmq1dAv8Q6QnTfWkC/KtH4F99dQL/ImPUrjWBAv33udvHrYkC/zXdwb/dkQL9E0CPOm2ZAvw2y9030Z0C/DBvfZOtoQL8/pwX5g2lAv343HGCmaUC/4DzqVl1pQL8d78HVrmhAvxVaAR8UYkC/JpUutWcuQL9PWZ4eE90+v+J20vqErTu/4WFYvtbtNb+f8fQgn6Iov65yHs9Fngc/TbHUEYsdOj8i5uOSQPNJPwA4z3UrCks/Cz7kxK1RQD/uxRowR2AmP4C5N52mnhS/R7HsIr3KML8OQnuVq744v3KKM20nZz6/jqG9LSFuQb8HnigfoVhDv8R/LZ1jJkW/3P4EqLkqR7/tg3yiOcdJv6M0UwBDMk2/mV8PHlR/UL+QrK3sQ11Sv3104qI+OFS/nhcMRbEJVr9ccJMEsq1XvxmRd7Fh61i/+voOwLWzWb8CWWMj5AlavzHULW+R6lm/fLHGhFBRWb9On3cEqzpYvxr57BvApFa/0Qg1iVqPVL+mD6+8A/tRvxxNXyT8302/XofnIKbtRr8yl04wrFw+v/Ks2gC6oyq/YtTfTqUUFT9qDcLlsG05PxLBCboQlUc/vnUtuYSeUT88KOCTmdZXPxdKO7CCcV4/RurnlBq2Yj9gYikboWJmP/1TZbmXPWo/ag0lmzJFbj+6x9f3yDpxP96YjfItY3M/F7Vtq2iSdT/QnG1djrh3P3gmCxMaxXk/fCx8w12yez8eKvzHcYh9Px7oSSPrU38/IxbYM+mOgD9urkN5i3WBPzD6t/cjX4I/\",\"dtype\":\"float64\",\"shape\":[75]},\"y\":{\"__ndarray__\":\"GhExyth1ND/Sv8nbtpRIP2vylNV0PVE/aTum7souWD/At0SJ8fVgPw3Iuahxymc/MSNhhJWvcD/bTfBN02d3P2zb5nxnaoA/CD5h5MAGhz8NmeH1TyaQP+zrCsc9p5Y/LbKd76fGnz/bLW5ISEmmPww9YvTcQq8/JV2OstnstT8Er5Y7M8G+P0c+r3jqkcU/5h99k6ZBzj88bCIzFzjVP4enV8oyxN0//yH99nXg5D8qOpLLf0jtP5kqGJXUifQ/c9cS8kHP/D+/DpwzojQEQIEmwoanVwxA4lgXt9HgE0BSSZ2AJuIbQAMJih9jjiNA5q4l5INuK0AwTKYKRj0zQNv5fmq8/DpAaCJseHrtQkB/+zpwzoxKQM3MzMzMeFJAZmZmZmZqWEAAAAAAAFxeQM3MzMzMJmJAmpmZmZkfZUBmZmZmZhhoQDMzMzMzEWtAAAAAAAAKbkBmZmZmZoFwQM3MzMzM/XFAMzMzMzN6c0CamZmZmfZ0QAAAAAAAc3ZAZmZmZmbvd0DNzMzMzGt5QDMzMzMz6HpAmpmZmZlkfEAAAAAAAOF9QGZmZmZmXX9AZmZmZuZsgECamZmZGSuBQM3MzMxM6YFAAAAAAICngkAzMzMzs2WDQGZmZmbmI4RAmpmZmRnihEDNzMzMTKCFQAAAAACAXoZAMzMzM7Mch0BmZmZm5tqHQJqZmZkZmYhAzczMzExXiUAAAAAAgBWKQDMzMzOz04pAZmZmZuaRi0CamZmZGVCMQM3MzMxMDo1AAAAAAIDMjUAzMzMzs4qOQGZmZmbmSI9A\",\"dtype\":\"float64\",\"shape\":[75]}},\"selected\":{\"id\":\"e2d06035-adde-4550-a29c-973b21ee0a6f\",\"type\":\"Selection\"},\"selection_policy\":{\"id\":\"1455611b-0e2d-4e65-85fd-f1e99344f34b\",\"type\":\"UnionRenderers\"}},\"id\":\"2a43cf84-066e-47d9-8fd2-266ad8d5a9f4\",\"type\":\"ColumnDataSource\"},{\"attributes\":{},\"id\":\"1d6569f4-05ff-4789-9681-5ab7705453cb\",\"type\":\"UnionRenderers\"},{\"attributes\":{\"line_color\":\"#4daf4a\",\"line_width\":1.5,\"x\":{\"field\":\"x\"},\"y\":{\"field\":\"y\"}},\"id\":\"8dc5e9bd-a8d9-4850-b239-81f7222ee469\",\"type\":\"Line\"},{\"attributes\":{},\"id\":\"06d3e04a-33bf-45bc-8dac-b4f5c8eb8969\",\"type\":\"Selection\"},{\"attributes\":{\"line_alpha\":0.1,\"line_color\":\"#1f77b4\",\"line_width\":1.5,\"x\":{\"field\":\"x\"},\"y\":{\"field\":\"y\"}},\"id\":\"097829b4-4cee-41ba-bd20-94654e8a1121\",\"type\":\"Line\"},{\"attributes\":{\"callback\":null,\"data\":{\"x\":{\"__ndarray__\":\"kdmRVY6jQr/hXYewEKZCv0hu1+Y9q0K/jviHlIawQr+s7MQQmrVCv71wjvRzukK/wUg4XxG/Qr+Z+SjLbsNCv7rFk3WKx0K/YtA8B2LLQr/4esF99M5Cv2KkiqRC0kK/GolOBE/VQr/dMYZtQdhCv8P3GChf3UK/iEYJT+fQQr/sq1Jg+l5Cv0oTTtkcO0G/3IuZJKgCPr+9frPABDs2v7L+7lF3CiO/ODfdY0ZHJD+TfyQ29CpAP0fjMDX0M0E/YLvT/YM9MD91DbMw4un8vhSUCgS3wS6/ws802c/kOL+sKX79FUk/v8HnkQ7840G/AwK8mACsQ798q3sJcUNFv1HzWgoY2Ea/FvWCSPu0SL+Y79fEMjlLv65UGL0jlU6/QrzA+UwuUb9uNMr7OwlTv8WlHYyO41S/QKKoM0CwVr9DzMDg1VRYvxnSSbzhmlm/sTPWFWtsWr9xfWnkS9Vavy8Z9TfC1Vq/cMz8a3xUWr+IwPLX1E9Zv3onXJTEzle/S3VkWe7UVb8ZbPrVm1ZTv9WufQjAdFC//YF4oxAbSr9EqsrsY21Cv4siotv9+DO/2FE3qzpk+r4WCo15C2IyP5ojUiAOK0Q/KsS8MqPrTz+9VN4h1CtWP77SCq/D4Vw/R6JUWVT/YT9EU8qwsLVlPyJCzPv5o2k//NyNnMXGbT88MiKFNQRxPyZ3sOpZPHM/xdI1C6N9dT81LLxG6LJ3P7cyj+K223k/uBNFeBblez/Uhe2qLdx9P409RjyDzX8/lV4eoRTcgD9/Dq/ICNiBPzg2UFuJ0oI/\",\"dtype\":\"float64\",\"shape\":[75]},\"y\":{\"__ndarray__\":\"GhExyth1ND/Sv8nbtpRIP2vylNV0PVE/aTum7souWD/At0SJ8fVgPw3Iuahxymc/MSNhhJWvcD/bTfBN02d3P2zb5nxnaoA/CD5h5MAGhz8NmeH1TyaQP+zrCsc9p5Y/LbKd76fGnz/bLW5ISEmmPww9YvTcQq8/JV2OstnstT8Er5Y7M8G+P0c+r3jqkcU/5h99k6ZBzj88bCIzFzjVP4enV8oyxN0//yH99nXg5D8qOpLLf0jtP5kqGJXUifQ/c9cS8kHP/D+/DpwzojQEQIEmwoanVwxA4lgXt9HgE0BSSZ2AJuIbQAMJih9jjiNA5q4l5INuK0AwTKYKRj0zQNv5fmq8/DpAaCJseHrtQkB/+zpwzoxKQM3MzMzMeFJAZmZmZmZqWEAAAAAAAFxeQM3MzMzMJmJAmpmZmZkfZUBmZmZmZhhoQDMzMzMzEWtAAAAAAAAKbkBmZmZmZoFwQM3MzMzM/XFAMzMzMzN6c0CamZmZmfZ0QAAAAAAAc3ZAZmZmZmbvd0DNzMzMzGt5QDMzMzMz6HpAmpmZmZlkfEAAAAAAAOF9QGZmZmZmXX9AZmZmZuZsgECamZmZGSuBQM3MzMxM6YFAAAAAAICngkAzMzMzs2WDQGZmZmbmI4RAmpmZmRnihEDNzMzMTKCFQAAAAACAXoZAMzMzM7Mch0BmZmZm5tqHQJqZmZkZmYhAzczMzExXiUAAAAAAgBWKQDMzMzOz04pAZmZmZuaRi0CamZmZGVCMQM3MzMxMDo1AAAAAAIDMjUAzMzMzs4qOQGZmZmbmSI9A\",\"dtype\":\"float64\",\"shape\":[75]}},\"selected\":{\"id\":\"dc6072a5-6686-405a-bebb-053fc0953f6e\",\"type\":\"Selection\"},\"selection_policy\":{\"id\":\"c847b13e-7a5d-4e1c-b916-9bffef73a019\",\"type\":\"UnionRenderers\"}},\"id\":\"1111e235-f153-4979-ac5c-75f5dd02565c\",\"type\":\"ColumnDataSource\"},{\"attributes\":{\"data_source\":{\"id\":\"265d88da-7c56-4893-a18b-ca65a20ccd9c\",\"type\":\"ColumnDataSource\"},\"glyph\":{\"id\":\"8dc5e9bd-a8d9-4850-b239-81f7222ee469\",\"type\":\"Line\"},\"hover_glyph\":null,\"muted_glyph\":null,\"nonselection_glyph\":{\"id\":\"097829b4-4cee-41ba-bd20-94654e8a1121\",\"type\":\"Line\"},\"selection_glyph\":null,\"view\":{\"id\":\"252af6a4-8678-4e99-8411-c691fa963e07\",\"type\":\"CDSView\"}},\"id\":\"1692bd25-40a9-48fa-8bc3-d09f52dc56b5\",\"type\":\"GlyphRenderer\"},{\"attributes\":{},\"id\":\"0d7f3891-dfae-4784-9750-08303184053b\",\"type\":\"UnionRenderers\"},{\"attributes\":{\"data_source\":{\"id\":\"2a43cf84-066e-47d9-8fd2-266ad8d5a9f4\",\"type\":\"ColumnDataSource\"},\"glyph\":{\"id\":\"e64f024e-20e1-4fad-8625-3bc42ac6a278\",\"type\":\"Circle\"},\"hover_glyph\":null,\"muted_glyph\":null,\"nonselection_glyph\":{\"id\":\"9a55286f-7dfe-4e8e-90de-9397ba9b68b3\",\"type\":\"Circle\"},\"selection_glyph\":null,\"view\":{\"id\":\"d149f916-0f4c-4095-a118-4b191bab07fd\",\"type\":\"CDSView\"}},\"id\":\"45868b1c-a448-43d8-a4a9-f46e66f1302e\",\"type\":\"GlyphRenderer\"},{\"attributes\":{\"line_alpha\":0.6,\"line_color\":\"#984ea3\",\"line_width\":3,\"x\":{\"field\":\"x\"},\"y\":{\"field\":\"y\"}},\"id\":\"d10ee4f8-8373-4da0-8211-f83235a0c2ad\",\"type\":\"Line\"},{\"attributes\":{},\"id\":\"f5bb4dcc-d800-4bbc-a5c7-4f28458042fa\",\"type\":\"Selection\"},{\"attributes\":{\"source\":{\"id\":\"2a43cf84-066e-47d9-8fd2-266ad8d5a9f4\",\"type\":\"ColumnDataSource\"}},\"id\":\"d149f916-0f4c-4095-a118-4b191bab07fd\",\"type\":\"CDSView\"},{\"attributes\":{\"fill_alpha\":{\"value\":0.1},\"fill_color\":{\"value\":\"#1f77b4\"},\"line_alpha\":{\"value\":0.1},\"line_color\":{\"value\":\"#1f77b4\"},\"x\":{\"field\":\"x\"},\"y\":{\"field\":\"y\"}},\"id\":\"9a55286f-7dfe-4e8e-90de-9397ba9b68b3\",\"type\":\"Circle\"},{\"attributes\":{\"above\":[{\"id\":\"3509bc7a-2e0d-400c-b6bc-e97ac13b582a\",\"type\":\"Legend\"}],\"below\":[{\"id\":\"6d0c2173-26ed-46b6-a76c-0e0b1d9746e3\",\"type\":\"LinearAxis\"}],\"left\":[{\"id\":\"e14bcf28-1485-477b-bcae-2b62524909da\",\"type\":\"LinearAxis\"}],\"plot_height\":500,\"plot_width\":400,\"renderers\":[{\"id\":\"6d0c2173-26ed-46b6-a76c-0e0b1d9746e3\",\"type\":\"LinearAxis\"},{\"id\":\"bc3bbb65-454e-4c57-96f8-5bd66eb9695f\",\"type\":\"Grid\"},{\"id\":\"e14bcf28-1485-477b-bcae-2b62524909da\",\"type\":\"LinearAxis\"},{\"id\":\"8c1af3d1-439e-4cb6-bb65-bb2474826390\",\"type\":\"Grid\"},{\"id\":\"9f6a8a32-a47d-40c9-9a19-2db232989588\",\"type\":\"BoxAnnotation\"},{\"id\":\"ae4b6019-2eab-4685-a49a-19f6b447661a\",\"type\":\"GlyphRenderer\"},{\"id\":\"f8f9dbf5-a66b-4044-b8e8-91ab989a8a3e\",\"type\":\"GlyphRenderer\"},{\"id\":\"3f0419da-752c-4bc4-95e1-32bc1416b04a\",\"type\":\"GlyphRenderer\"},{\"id\":\"e49117a1-1fbd-48c8-bc3a-560ce5ab37a1\",\"type\":\"GlyphRenderer\"},{\"id\":\"2641ed15-864a-47d7-8a4e-f78d6d7684f4\",\"type\":\"GlyphRenderer\"},{\"id\":\"0d73b64d-ec4d-42b1-b2b3-7ebe71dcaa4f\",\"type\":\"GlyphRenderer\"},{\"id\":\"3509bc7a-2e0d-400c-b6bc-e97ac13b582a\",\"type\":\"Legend\"}],\"title\":{\"id\":\"a40c8a39-d406-490a-a032-34648a5cd670\",\"type\":\"Title\"},\"toolbar\":{\"id\":\"b1371687-2e7c-4935-ba2b-ca33887d450a\",\"type\":\"Toolbar\"},\"toolbar_location\":null,\"x_range\":{\"id\":\"d94da782-740f-410a-92da-668ebf69bf91\",\"type\":\"Range1d\"},\"x_scale\":{\"id\":\"87ed448b-6f69-4351-a107-068fe63bb69a\",\"type\":\"LinearScale\"},\"y_range\":{\"id\":\"f0ac9c3a-f6c1-4aa1-be0d-4fd1ed1f6401\",\"type\":\"Range1d\"},\"y_scale\":{\"id\":\"421903a2-e5cb-4830-9e68-ddf5ea4cff49\",\"type\":\"LinearScale\"}},\"id\":\"5b663bd1-e5a3-41d0-b1d7-c2a80715a0b2\",\"subtype\":\"Figure\",\"type\":\"Plot\"},{\"attributes\":{\"data_source\":{\"id\":\"1111e235-f153-4979-ac5c-75f5dd02565c\",\"type\":\"ColumnDataSource\"},\"glyph\":{\"id\":\"b18a27bd-cb69-45fa-ae7e-ac437ed38d8e\",\"type\":\"Square\"},\"hover_glyph\":null,\"muted_glyph\":null,\"nonselection_glyph\":{\"id\":\"8f9043ef-852f-4660-9ac2-f72e773aecaf\",\"type\":\"Square\"},\"selection_glyph\":null,\"view\":{\"id\":\"2807c57f-53f5-462d-9cc0-18e79b34a2da\",\"type\":\"CDSView\"}},\"id\":\"1bca971f-5a0c-4629-b155-92166ac27d28\",\"type\":\"GlyphRenderer\"},{\"attributes\":{\"source\":{\"id\":\"1111e235-f153-4979-ac5c-75f5dd02565c\",\"type\":\"ColumnDataSource\"}},\"id\":\"2807c57f-53f5-462d-9cc0-18e79b34a2da\",\"type\":\"CDSView\"},{\"attributes\":{\"fill_alpha\":{\"value\":0.1},\"fill_color\":{\"value\":\"#1f77b4\"},\"line_alpha\":{\"value\":0.1},\"line_color\":{\"value\":\"#1f77b4\"},\"x\":{\"field\":\"x\"},\"y\":{\"field\":\"y\"}},\"id\":\"8f9043ef-852f-4660-9ac2-f72e773aecaf\",\"type\":\"Square\"},{\"attributes\":{\"fill_alpha\":{\"value\":0.7},\"fill_color\":{\"value\":\"#984ea3\"},\"line_alpha\":{\"value\":0.7},\"line_color\":{\"value\":\"#984ea3\"},\"x\":{\"field\":\"x\"},\"y\":{\"field\":\"y\"}},\"id\":\"b18a27bd-cb69-45fa-ae7e-ac437ed38d8e\",\"type\":\"Square\"},{\"attributes\":{\"callback\":null,\"data\":{\"x\":{\"__ndarray__\":\"qbz1RAFWQL/HDPqmq1dAv8Q6QnTfWkC/KtH4F99dQL/ImPUrjWBAv33udvHrYkC/zXdwb/dkQL9E0CPOm2ZAvw2y9030Z0C/DBvfZOtoQL8/pwX5g2lAv343HGCmaUC/4DzqVl1pQL8d78HVrmhAvxVaAR8UYkC/JpUutWcuQL9PWZ4eE90+v+J20vqErTu/4WFYvtbtNb+f8fQgn6Iov65yHs9Fngc/TbHUEYsdOj8i5uOSQPNJPwA4z3UrCks/Cz7kxK1RQD/uxRowR2AmP4C5N52mnhS/R7HsIr3KML8OQnuVq744v3KKM20nZz6/jqG9LSFuQb8HnigfoVhDv8R/LZ1jJkW/3P4EqLkqR7/tg3yiOcdJv6M0UwBDMk2/mV8PHlR/UL+QrK3sQ11Sv3104qI+OFS/nhcMRbEJVr9ccJMEsq1XvxmRd7Fh61i/+voOwLWzWb8CWWMj5AlavzHULW+R6lm/fLHGhFBRWb9On3cEqzpYvxr57BvApFa/0Qg1iVqPVL+mD6+8A/tRvxxNXyT8302/XofnIKbtRr8yl04wrFw+v/Ks2gC6oyq/YtTfTqUUFT9qDcLlsG05PxLBCboQlUc/vnUtuYSeUT88KOCTmdZXPxdKO7CCcV4/RurnlBq2Yj9gYikboWJmP/1TZbmXPWo/ag0lmzJFbj+6x9f3yDpxP96YjfItY3M/F7Vtq2iSdT/QnG1djrh3P3gmCxMaxXk/fCx8w12yez8eKvzHcYh9Px7oSSPrU38/IxbYM+mOgD9urkN5i3WBPzD6t/cjX4I/\",\"dtype\":\"float64\",\"shape\":[75]},\"y\":{\"__ndarray__\":\"GhExyth1ND/Sv8nbtpRIP2vylNV0PVE/aTum7souWD/At0SJ8fVgPw3Iuahxymc/MSNhhJWvcD/bTfBN02d3P2zb5nxnaoA/CD5h5MAGhz8NmeH1TyaQP+zrCsc9p5Y/LbKd76fGnz/bLW5ISEmmPww9YvTcQq8/JV2OstnstT8Er5Y7M8G+P0c+r3jqkcU/5h99k6ZBzj88bCIzFzjVP4enV8oyxN0//yH99nXg5D8qOpLLf0jtP5kqGJXUifQ/c9cS8kHP/D+/DpwzojQEQIEmwoanVwxA4lgXt9HgE0BSSZ2AJuIbQAMJih9jjiNA5q4l5INuK0AwTKYKRj0zQNv5fmq8/DpAaCJseHrtQkB/+zpwzoxKQM3MzMzMeFJAZmZmZmZqWEAAAAAAAFxeQM3MzMzMJmJAmpmZmZkfZUBmZmZmZhhoQDMzMzMzEWtAAAAAAAAKbkBmZmZmZoFwQM3MzMzM/XFAMzMzMzN6c0CamZmZmfZ0QAAAAAAAc3ZAZmZmZmbvd0DNzMzMzGt5QDMzMzMz6HpAmpmZmZlkfEAAAAAAAOF9QGZmZmZmXX9AZmZmZuZsgECamZmZGSuBQM3MzMxM6YFAAAAAAICngkAzMzMzs2WDQGZmZmbmI4RAmpmZmRnihEDNzMzMTKCFQAAAAACAXoZAMzMzM7Mch0BmZmZm5tqHQJqZmZkZmYhAzczMzExXiUAAAAAAgBWKQDMzMzOz04pAZmZmZuaRi0CamZmZGVCMQM3MzMxMDo1AAAAAAIDMjUAzMzMzs4qOQGZmZmbmSI9A\",\"dtype\":\"float64\",\"shape\":[75]}},\"selected\":{\"id\":\"f0d7d61b-028b-40ce-9c49-62d8cd21a768\",\"type\":\"Selection\"},\"selection_policy\":{\"id\":\"90f0013e-b361-4f2c-9add-cbd7a598f315\",\"type\":\"UnionRenderers\"}},\"id\":\"265d88da-7c56-4893-a18b-ca65a20ccd9c\",\"type\":\"ColumnDataSource\"},{\"attributes\":{\"data_source\":{\"id\":\"59087435-1d14-432e-8354-6c4699de356a\",\"type\":\"ColumnDataSource\"},\"glyph\":{\"id\":\"d10ee4f8-8373-4da0-8211-f83235a0c2ad\",\"type\":\"Line\"},\"hover_glyph\":null,\"muted_glyph\":null,\"nonselection_glyph\":{\"id\":\"701b2468-654d-47ac-a443-e302593e3fb8\",\"type\":\"Line\"},\"selection_glyph\":null,\"view\":{\"id\":\"ba51d93a-ab2c-470a-986f-9bbed1b38ca0\",\"type\":\"CDSView\"}},\"id\":\"66bab09d-566c-439a-b9ca-447a211ad7de\",\"type\":\"GlyphRenderer\"},{\"attributes\":{\"callback\":null,\"data\":{\"x\":{\"__ndarray__\":\"dHlmYjpAQb8N3/bQu0JBv7wMjvvqR0G/a2vLAzxNQb8A54UsYVJBv1LJi19TV0G/O9QDSBFcQb+qi0AQmGBBv3NS/a3lZEG/KOtvSPhoQb/jdi8Uz2xBv4E0JOJqcEG/WECBVs5zQb9cmfJMKHdBv94PMwHZfUG/X8v7KIx4Qb8zRmOwFxtBvwICEkGFHkC/dlitgMVQPL+MNpHOcmU1v9bmb+yrDyS/h/CuAbFvHj9D9CdD5JA7P/FV5Rn4bD0/L0ZMBY0pKj/oeWzstBQJv15FDWsynS6/CaKzvqfSN7/ehXQ92Yc9v4wXF4poxUC/UBmWlfVcQr9FzIKaP8hDvxgtUEFKNkW/VILqttzrRr8HRZ+MTjlJvyOn8AozT0y/+5EVxgLKT7/QBh9VlJxRv92WcyrTT1O/8u7s1cX5VL8fbg8K335Wv7BY+De+r1e//4c//Nh6WL88iAvrx+BYv0g1vL6u3Vi/26s39JtsWL/Xx91Fs4lXvzXTA/9QMla/wrZ1G0NlVL+WkGSe6SFSv1WFlkCu3E6/vuoexRmiSL+C4HdwTJ9Bv7wXybVssjO/cjQZyS/tBL9yRUsoTAUwP1+4cAjCHEI/cTvjzrn/TD/vpajvR1VUP4C96EmejVo/Y1v8KTKTYD8EO/AF/A5kPzh2HSqFuWc/hG+GyBWRaz/GgMVSRpJvP21BU5Ti2nE/w+/lCNn1cz/2w44aoQx2P8B3lDRKEXg/LVWTL8L+eT++qG6Aatt7PyOeB5dQsX0/+NvFVZiHfz/EMNGw+bCAP5flUKcBoYE/\",\"dtype\":\"float64\",\"shape\":[75]},\"y\":{\"__ndarray__\":\"GhExyth1ND/Sv8nbtpRIP2vylNV0PVE/aTum7souWD/At0SJ8fVgPw3Iuahxymc/MSNhhJWvcD/bTfBN02d3P2zb5nxnaoA/CD5h5MAGhz8NmeH1TyaQP+zrCsc9p5Y/LbKd76fGnz/bLW5ISEmmPww9YvTcQq8/JV2OstnstT8Er5Y7M8G+P0c+r3jqkcU/5h99k6ZBzj88bCIzFzjVP4enV8oyxN0//yH99nXg5D8qOpLLf0jtP5kqGJXUifQ/c9cS8kHP/D+/DpwzojQEQIEmwoanVwxA4lgXt9HgE0BSSZ2AJuIbQAMJih9jjiNA5q4l5INuK0AwTKYKRj0zQNv5fmq8/DpAaCJseHrtQkB/+zpwzoxKQM3MzMzMeFJAZmZmZmZqWEAAAAAAAFxeQM3MzMzMJmJAmpmZmZkfZUBmZmZmZhhoQDMzMzMzEWtAAAAAAAAKbkBmZmZmZoFwQM3MzMzM/XFAMzMzMzN6c0CamZmZmfZ0QAAAAAAAc3ZAZmZmZmbvd0DNzMzMzGt5QDMzMzMz6HpAmpmZmZlkfEAAAAAAAOF9QGZmZmZmXX9AZmZmZuZsgECamZmZGSuBQM3MzMxM6YFAAAAAAICngkAzMzMzs2WDQGZmZmbmI4RAmpmZmRnihEDNzMzMTKCFQAAAAACAXoZAMzMzM7Mch0BmZmZm5tqHQJqZmZkZmYhAzczMzExXiUAAAAAAgBWKQDMzMzOz04pAZmZmZuaRi0CamZmZGVCMQM3MzMxMDo1AAAAAAIDMjUAzMzMzs4qOQGZmZmbmSI9A\",\"dtype\":\"float64\",\"shape\":[75]}},\"selected\":{\"id\":\"f07c9b7d-0f50-4479-a41b-c083dbb9c6ad\",\"type\":\"Selection\"},\"selection_policy\":{\"id\":\"4ce3624d-ec60-4347-aee5-82df0ebded37\",\"type\":\"UnionRenderers\"}},\"id\":\"9a973056-de4d-44dd-8fbe-cbdcd74fa350\",\"type\":\"ColumnDataSource\"},{\"attributes\":{\"fill_alpha\":{\"value\":0.1},\"fill_color\":{\"value\":\"#1f77b4\"},\"line_alpha\":{\"value\":0.1},\"line_color\":{\"value\":\"#1f77b4\"},\"x\":{\"field\":\"x\"},\"y\":{\"field\":\"y\"}},\"id\":\"6add061d-67a1-436d-843a-00205cb39fd2\",\"type\":\"Triangle\"},{\"attributes\":{\"source\":{\"id\":\"265d88da-7c56-4893-a18b-ca65a20ccd9c\",\"type\":\"ColumnDataSource\"}},\"id\":\"252af6a4-8678-4e99-8411-c691fa963e07\",\"type\":\"CDSView\"},{\"attributes\":{\"callback\":null,\"data\":{\"x\":{\"__ndarray__\":\"kdmRVY6jQr/hXYewEKZCv0hu1+Y9q0K/jviHlIawQr+s7MQQmrVCv71wjvRzukK/wUg4XxG/Qr+Z+SjLbsNCv7rFk3WKx0K/YtA8B2LLQr/4esF99M5Cv2KkiqRC0kK/GolOBE/VQr/dMYZtQdhCv8P3GChf3UK/iEYJT+fQQr/sq1Jg+l5Cv0oTTtkcO0G/3IuZJKgCPr+9frPABDs2v7L+7lF3CiO/ODfdY0ZHJD+TfyQ29CpAP0fjMDX0M0E/YLvT/YM9MD91DbMw4un8vhSUCgS3wS6/ws802c/kOL+sKX79FUk/v8HnkQ7840G/AwK8mACsQ798q3sJcUNFv1HzWgoY2Ea/FvWCSPu0SL+Y79fEMjlLv65UGL0jlU6/QrzA+UwuUb9uNMr7OwlTv8WlHYyO41S/QKKoM0CwVr9DzMDg1VRYvxnSSbzhmlm/sTPWFWtsWr9xfWnkS9Vavy8Z9TfC1Vq/cMz8a3xUWr+IwPLX1E9Zv3onXJTEzle/S3VkWe7UVb8ZbPrVm1ZTv9WufQjAdFC//YF4oxAbSr9EqsrsY21Cv4siotv9+DO/2FE3qzpk+r4WCo15C2IyP5ojUiAOK0Q/KsS8MqPrTz+9VN4h1CtWP77SCq/D4Vw/R6JUWVT/YT9EU8qwsLVlPyJCzPv5o2k//NyNnMXGbT88MiKFNQRxPyZ3sOpZPHM/xdI1C6N9dT81LLxG6LJ3P7cyj+K223k/uBNFeBblez/Uhe2qLdx9P409RjyDzX8/lV4eoRTcgD9/Dq/ICNiBPzg2UFuJ0oI/\",\"dtype\":\"float64\",\"shape\":[75]},\"y\":{\"__ndarray__\":\"GhExyth1ND/Sv8nbtpRIP2vylNV0PVE/aTum7souWD/At0SJ8fVgPw3Iuahxymc/MSNhhJWvcD/bTfBN02d3P2zb5nxnaoA/CD5h5MAGhz8NmeH1TyaQP+zrCsc9p5Y/LbKd76fGnz/bLW5ISEmmPww9YvTcQq8/JV2OstnstT8Er5Y7M8G+P0c+r3jqkcU/5h99k6ZBzj88bCIzFzjVP4enV8oyxN0//yH99nXg5D8qOpLLf0jtP5kqGJXUifQ/c9cS8kHP/D+/DpwzojQEQIEmwoanVwxA4lgXt9HgE0BSSZ2AJuIbQAMJih9jjiNA5q4l5INuK0AwTKYKRj0zQNv5fmq8/DpAaCJseHrtQkB/+zpwzoxKQM3MzMzMeFJAZmZmZmZqWEAAAAAAAFxeQM3MzMzMJmJAmpmZmZkfZUBmZmZmZhhoQDMzMzMzEWtAAAAAAAAKbkBmZmZmZoFwQM3MzMzM/XFAMzMzMzN6c0CamZmZmfZ0QAAAAAAAc3ZAZmZmZmbvd0DNzMzMzGt5QDMzMzMz6HpAmpmZmZlkfEAAAAAAAOF9QGZmZmZmXX9AZmZmZuZsgECamZmZGSuBQM3MzMxM6YFAAAAAAICngkAzMzMzs2WDQGZmZmbmI4RAmpmZmRnihEDNzMzMTKCFQAAAAACAXoZAMzMzM7Mch0BmZmZm5tqHQJqZmZkZmYhAzczMzExXiUAAAAAAgBWKQDMzMzOz04pAZmZmZuaRi0CamZmZGVCMQM3MzMxMDo1AAAAAAIDMjUAzMzMzs4qOQGZmZmbmSI9A\",\"dtype\":\"float64\",\"shape\":[75]}},\"selected\":{\"id\":\"4090127a-f3a8-4046-8513-93943f63d27c\",\"type\":\"Selection\"},\"selection_policy\":{\"id\":\"194d4982-0809-481e-b886-6047328a4112\",\"type\":\"UnionRenderers\"}},\"id\":\"59087435-1d14-432e-8354-6c4699de356a\",\"type\":\"ColumnDataSource\"},{\"attributes\":{\"line_alpha\":0.1,\"line_color\":\"#1f77b4\",\"line_width\":3,\"x\":{\"field\":\"x\"},\"y\":{\"field\":\"y\"}},\"id\":\"701b2468-654d-47ac-a443-e302593e3fb8\",\"type\":\"Line\"},{\"attributes\":{\"fill_alpha\":{\"value\":0.7},\"fill_color\":{\"value\":\"#4daf4a\"},\"line_alpha\":{\"value\":0.7},\"line_color\":{\"value\":\"#4daf4a\"},\"x\":{\"field\":\"x\"},\"y\":{\"field\":\"y\"}},\"id\":\"e64f024e-20e1-4fad-8625-3bc42ac6a278\",\"type\":\"Circle\"},{\"attributes\":{\"callback\":null,\"end\":0.0008482895104,\"start\":-0.0015081726704},\"id\":\"f0f28535-ba9e-49b9-b58f-ec562c85d7b9\",\"type\":\"Range1d\"},{\"attributes\":{\"fill_alpha\":{\"value\":0.7},\"fill_color\":{\"value\":\"#377eb8\"},\"line_alpha\":{\"value\":0.7},\"line_color\":{\"value\":\"#377eb8\"},\"x\":{\"field\":\"x\"},\"y\":{\"field\":\"y\"}},\"id\":\"671bd2e0-f731-4f82-be3e-9a49fcb95921\",\"type\":\"Triangle\"},{\"attributes\":{\"source\":{\"id\":\"59087435-1d14-432e-8354-6c4699de356a\",\"type\":\"ColumnDataSource\"}},\"id\":\"ba51d93a-ab2c-470a-986f-9bbed1b38ca0\",\"type\":\"CDSView\"}],\"root_ids\":[\"a089e360-954a-4cd9-a0a0-01d18fa7aece\"]},\"title\":\"Bokeh Application\",\"version\":\"0.12.16\"}};\n",
       "  var render_items = [{\"docid\":\"df82ad88-6987-48ae-afca-793d14a6ae1c\",\"elementid\":\"5fdcd1b4-4968-473c-ab10-a5e798268920\",\"modelid\":\"a089e360-954a-4cd9-a0a0-01d18fa7aece\"}];\n",
       "  root.Bokeh.embed.embed_items_notebook(docs_json, render_items);\n",
       "\n",
       "  }\n",
       "  if (root.Bokeh !== undefined) {\n",
       "    embed_document(root);\n",
       "  } else {\n",
       "    var attempts = 0;\n",
       "    var timer = setInterval(function(root) {\n",
       "      if (root.Bokeh !== undefined) {\n",
       "        embed_document(root);\n",
       "        clearInterval(timer);\n",
       "      }\n",
       "      attempts++;\n",
       "      if (attempts > 100) {\n",
       "        console.log(\"Bokeh: ERROR: Unable to run BokehJS code because BokehJS library is missing\")\n",
       "        clearInterval(timer);\n",
       "      }\n",
       "    }, 10, root)\n",
       "  }\n",
       "})(window);"
      ],
      "application/vnd.bokehjs_exec.v0+json": ""
     },
     "metadata": {
      "application/vnd.bokehjs_exec.v0+json": {
       "id": "a089e360-954a-4cd9-a0a0-01d18fa7aece"
      }
     },
     "output_type": "display_data"
    },
    {
     "data": {
      "text/markdown": [
       "*FIGURE.* Cooling rates. g=4"
      ],
      "text/plain": [
       "<IPython.core.display.Markdown object>"
      ]
     },
     "metadata": {},
     "output_type": "display_data"
    },
    {
     "data": {
      "text/html": [
       "\n",
       "<div class=\"bk-root\">\n",
       "    <div class=\"bk-plotdiv\" id=\"b3ede35a-5e54-46bf-ba47-5e0d235c73e0\"></div>\n",
       "</div>"
      ]
     },
     "metadata": {},
     "output_type": "display_data"
    },
    {
     "data": {
      "application/javascript": [
       "(function(root) {\n",
       "  function embed_document(root) {\n",
       "    \n",
       "  var docs_json = {\"83dfb270-1740-4363-bf2c-840c6ac31c24\":{\"roots\":{\"references\":[{\"attributes\":{\"callback\":null,\"end\":0.060897018181999996,\"start\":-0.031145423782},\"id\":\"421a5b15-ed33-4387-aa7f-a16d9856315d\",\"type\":\"Range1d\"},{\"attributes\":{\"callback\":null,\"end\":0.01,\"start\":1020},\"id\":\"7dece595-fd24-4da5-819b-c363083ebb29\",\"type\":\"Range1d\"},{\"attributes\":{\"items\":[{\"id\":\"8e633676-f979-4811-9025-18eb40f67dae\",\"type\":\"LegendItem\"},{\"id\":\"3a076391-7069-4c88-9b35-08edd685e17c\",\"type\":\"LegendItem\"},{\"id\":\"ffdd4846-c2ba-4fe4-8ffe-c7b150917f4b\",\"type\":\"LegendItem\"}],\"label_text_font_size\":{\"value\":\"8pt\"},\"location\":\"top_center\",\"orientation\":\"horizontal\",\"plot\":{\"id\":\"810c855b-de7b-498b-89e6-2cf70fdeb1d0\",\"subtype\":\"Figure\",\"type\":\"Plot\"}},\"id\":\"1262d5bf-0715-4571-8fc5-0895f1cf392c\",\"type\":\"Legend\"},{\"attributes\":{},\"id\":\"be71a3bf-4c54-4b6b-9c3c-e52b09d6c043\",\"type\":\"LinearScale\"},{\"attributes\":{\"active_drag\":\"auto\",\"active_inspect\":\"auto\",\"active_scroll\":\"auto\",\"active_tap\":\"auto\",\"tools\":[{\"id\":\"a22318a7-8be7-49b5-8825-6dabbcfa5507\",\"type\":\"PanTool\"},{\"id\":\"8a4add0c-7cdd-4505-b14c-2919ebf137e1\",\"type\":\"WheelZoomTool\"},{\"id\":\"8951076a-79d1-4324-8c45-28248afce588\",\"type\":\"BoxZoomTool\"},{\"id\":\"2eb69e6f-7aaa-4199-aea3-64876860e34e\",\"type\":\"SaveTool\"},{\"id\":\"17817f65-910c-4a9a-82d8-7b7ae97686c0\",\"type\":\"ResetTool\"},{\"id\":\"a73c605a-4fbd-479f-a494-7d787b296512\",\"type\":\"HelpTool\"}]},\"id\":\"a2b5aac7-e756-44bb-8544-67e87c45cc1a\",\"type\":\"Toolbar\"},{\"attributes\":{},\"id\":\"d1e3b394-db64-47fc-9443-81f082903bc3\",\"type\":\"BasicTicker\"},{\"attributes\":{\"dimension\":1,\"plot\":{\"id\":\"810c855b-de7b-498b-89e6-2cf70fdeb1d0\",\"subtype\":\"Figure\",\"type\":\"Plot\"},\"ticker\":{\"id\":\"d1e3b394-db64-47fc-9443-81f082903bc3\",\"type\":\"BasicTicker\"}},\"id\":\"437a5dc8-330c-4357-9599-e5e48cd9468e\",\"type\":\"Grid\"},{\"attributes\":{},\"id\":\"8a4add0c-7cdd-4505-b14c-2919ebf137e1\",\"type\":\"WheelZoomTool\"},{\"attributes\":{\"axis_label\":\"pressure [mb]\",\"formatter\":{\"id\":\"c0200fb1-2f8c-4689-88e4-5e7a0158df3f\",\"type\":\"BasicTickFormatter\"},\"plot\":{\"id\":\"810c855b-de7b-498b-89e6-2cf70fdeb1d0\",\"subtype\":\"Figure\",\"type\":\"Plot\"},\"ticker\":{\"id\":\"d1e3b394-db64-47fc-9443-81f082903bc3\",\"type\":\"BasicTicker\"}},\"id\":\"8d99959c-93db-4f9e-99c0-88d5f368ee1f\",\"type\":\"LinearAxis\"},{\"attributes\":{},\"id\":\"b3f0b14a-c4a0-4d51-8270-70978f55dcab\",\"type\":\"BasicTicker\"},{\"attributes\":{\"axis_label\":\"cooling rate [K/day]\",\"formatter\":{\"id\":\"855af81b-874d-4c38-85f7-0472656174dc\",\"type\":\"BasicTickFormatter\"},\"plot\":{\"id\":\"810c855b-de7b-498b-89e6-2cf70fdeb1d0\",\"subtype\":\"Figure\",\"type\":\"Plot\"},\"ticker\":{\"id\":\"b3f0b14a-c4a0-4d51-8270-70978f55dcab\",\"type\":\"BasicTicker\"}},\"id\":\"cff8b740-a87f-4871-97a3-de9c4e1789f5\",\"type\":\"LinearAxis\"},{\"attributes\":{\"plot\":{\"id\":\"810c855b-de7b-498b-89e6-2cf70fdeb1d0\",\"subtype\":\"Figure\",\"type\":\"Plot\"},\"ticker\":{\"id\":\"b3f0b14a-c4a0-4d51-8270-70978f55dcab\",\"type\":\"BasicTicker\"}},\"id\":\"336f74ee-39f0-4376-9a1d-8ff7e7b0e039\",\"type\":\"Grid\"},{\"attributes\":{\"overlay\":{\"id\":\"24629bce-a2ed-40b7-b29b-3a0d48fa2b6b\",\"type\":\"BoxAnnotation\"}},\"id\":\"8951076a-79d1-4324-8c45-28248afce588\",\"type\":\"BoxZoomTool\"},{\"attributes\":{},\"id\":\"805d9c2c-6954-4a4d-b19d-52aa7cc2f3d0\",\"type\":\"LinearScale\"},{\"attributes\":{},\"id\":\"a73c605a-4fbd-479f-a494-7d787b296512\",\"type\":\"HelpTool\"},{\"attributes\":{},\"id\":\"a22318a7-8be7-49b5-8825-6dabbcfa5507\",\"type\":\"PanTool\"},{\"attributes\":{},\"id\":\"2eb69e6f-7aaa-4199-aea3-64876860e34e\",\"type\":\"SaveTool\"},{\"attributes\":{\"data_source\":{\"id\":\"d3176460-fbc8-469b-bde4-76a7d11c1cf4\",\"type\":\"ColumnDataSource\"},\"glyph\":{\"id\":\"6430c5c9-33e2-4352-aa6b-53f53a90c886\",\"type\":\"Circle\"},\"hover_glyph\":null,\"muted_glyph\":null,\"nonselection_glyph\":{\"id\":\"b850ef67-2754-4165-a333-752faa4530a1\",\"type\":\"Circle\"},\"selection_glyph\":null,\"view\":{\"id\":\"acbb313c-ae38-49e1-8798-284fcb75d90d\",\"type\":\"CDSView\"}},\"id\":\"ad835cff-5a8f-4e32-b378-50f780b96003\",\"type\":\"GlyphRenderer\"},{\"attributes\":{\"data_source\":{\"id\":\"a47e08f5-cb8b-463b-b4ce-8bf34b289ebb\",\"type\":\"ColumnDataSource\"},\"glyph\":{\"id\":\"db4b5dd7-5fbb-45ae-bcc5-1dc88d2a5e33\",\"type\":\"Line\"},\"hover_glyph\":null,\"muted_glyph\":null,\"nonselection_glyph\":{\"id\":\"a8f397b8-a6fb-42af-b39c-71cd760cfe3b\",\"type\":\"Line\"},\"selection_glyph\":null,\"view\":{\"id\":\"79bcc390-322e-47b3-92be-c16f7bdffa8d\",\"type\":\"CDSView\"}},\"id\":\"ed166137-9ef2-4091-adfe-dc657645c2ab\",\"type\":\"GlyphRenderer\"},{\"attributes\":{\"callback\":null,\"data\":{\"x\":{\"__ndarray__\":\"1DglTU/0or+A50eN6dSiv8S/59i3jaK/Lg+X7iVBor9q4KfNkPOhvxW9lY8xp6G/AGnhw95eob/GbmU4dBehv4hnJfxq1aC/TUsySzqZoL/okb7JHmagvxajLJ5UQKC/Wh4BxOMtoL+Hg5+BsjCgv78W0IoJFZ+/Vuz52ZVmmb/vDAG5YnOOv9sj9eQu4GS/xKLusjgwiT/Or3gvgtaeP7DHtYphWKo/HHhwsAS/sz9LZ+7QJKO5PzNC6Sbc97g/0JcjdBGVsj/XpkeQV9KoP0bbC6RrgJ8/JaYf3gCdkz8oyD5guV6JP+os0GUUPoE/EMafUan3dT/EWuRMoXZkPwBmBWCjJDE/zTTPG8pOWr8X9WOa6f9wvxTBEjN52X6/A3XpZ7rzhb9m06O80seLvxA3DNvsXZG/oAOsYyDblL/T118MgYuWv/6w6EajMpa/0Iwc0Flelb/MPHWJQ2aUv691MmIEQpO/p4aJMrjskb+1w4MQjmWQvypw9e8mXI2/Hm1HMXOTib9CX2Tjz3uFv+182frfLIG/PGcTj4J8eb/FzsVoFH1wvxfzxBUZZV2/a+eo5ustQD+LiEYSEW9nPwPxayJgy3U/Jq7EynklgD9w8nvoPJ6FPy6R+MIuUos/mx27pIChkD/6UTlBE7qTP/a2okGy9JY/Pb9E7uJRmj/6XZntSs+dP5BrF6t9saA/ZX4n1eV4oj8In/yzyiWkP3Z2tPMRoaU/KvJPINjnpj9arQnNOw6oP/x0MpWALak/5Z7D92RXqj8IaKlGHperP5pUxyND96w/\",\"dtype\":\"float64\",\"shape\":[75]},\"y\":{\"__ndarray__\":\"GhExyth1ND/Sv8nbtpRIP2vylNV0PVE/aTum7souWD/At0SJ8fVgPw3Iuahxymc/MSNhhJWvcD/bTfBN02d3P2zb5nxnaoA/CD5h5MAGhz8NmeH1TyaQP+zrCsc9p5Y/LbKd76fGnz/bLW5ISEmmPww9YvTcQq8/JV2OstnstT8Er5Y7M8G+P0c+r3jqkcU/5h99k6ZBzj88bCIzFzjVP4enV8oyxN0//yH99nXg5D8qOpLLf0jtP5kqGJXUifQ/c9cS8kHP/D+/DpwzojQEQIEmwoanVwxA4lgXt9HgE0BSSZ2AJuIbQAMJih9jjiNA5q4l5INuK0AwTKYKRj0zQNv5fmq8/DpAaCJseHrtQkB/+zpwzoxKQM3MzMzMeFJAZmZmZmZqWEAAAAAAAFxeQM3MzMzMJmJAmpmZmZkfZUBmZmZmZhhoQDMzMzMzEWtAAAAAAAAKbkBmZmZmZoFwQM3MzMzM/XFAMzMzMzN6c0CamZmZmfZ0QAAAAAAAc3ZAZmZmZmbvd0DNzMzMzGt5QDMzMzMz6HpAmpmZmZlkfEAAAAAAAOF9QGZmZmZmXX9AZmZmZuZsgECamZmZGSuBQM3MzMxM6YFAAAAAAICngkAzMzMzs2WDQGZmZmbmI4RAmpmZmRnihEDNzMzMTKCFQAAAAACAXoZAMzMzM7Mch0BmZmZm5tqHQJqZmZkZmYhAzczMzExXiUAAAAAAgBWKQDMzMzOz04pAZmZmZuaRi0CamZmZGVCMQM3MzMxMDo1AAAAAAIDMjUAzMzMzs4qOQGZmZmbmSI9A\",\"dtype\":\"float64\",\"shape\":[75]}},\"selected\":{\"id\":\"bcd2ef8c-f01c-4d98-b807-59d525c0fcac\",\"type\":\"Selection\"},\"selection_policy\":{\"id\":\"3849ef60-d046-40d7-8465-a034c6eb6061\",\"type\":\"UnionRenderers\"}},\"id\":\"a47e08f5-cb8b-463b-b4ce-8bf34b289ebb\",\"type\":\"ColumnDataSource\"},{\"attributes\":{},\"id\":\"5716ac80-c857-45c1-9cff-5f0411a2a8ba\",\"type\":\"BasicTickFormatter\"},{\"attributes\":{\"line_alpha\":0.1,\"line_color\":\"#1f77b4\",\"line_width\":1.5,\"x\":{\"field\":\"x\"},\"y\":{\"field\":\"y\"}},\"id\":\"a8f397b8-a6fb-42af-b39c-71cd760cfe3b\",\"type\":\"Line\"},{\"attributes\":{\"line_color\":\"#4daf4a\",\"line_width\":1.5,\"x\":{\"field\":\"x\"},\"y\":{\"field\":\"y\"}},\"id\":\"db4b5dd7-5fbb-45ae-bcc5-1dc88d2a5e33\",\"type\":\"Line\"},{\"attributes\":{\"source\":{\"id\":\"d3176460-fbc8-469b-bde4-76a7d11c1cf4\",\"type\":\"ColumnDataSource\"}},\"id\":\"acbb313c-ae38-49e1-8798-284fcb75d90d\",\"type\":\"CDSView\"},{\"attributes\":{\"fill_alpha\":{\"value\":0.1},\"fill_color\":{\"value\":\"#1f77b4\"},\"line_alpha\":{\"value\":0.1},\"line_color\":{\"value\":\"#1f77b4\"},\"x\":{\"field\":\"x\"},\"y\":{\"field\":\"y\"}},\"id\":\"d38af49b-606d-4031-8411-fe72ace599d0\",\"type\":\"Square\"},{\"attributes\":{\"data_source\":{\"id\":\"3894bd54-1d35-439f-b476-eedcc0b017c7\",\"type\":\"ColumnDataSource\"},\"glyph\":{\"id\":\"c5d0a07f-1c2d-4e7e-8399-0decd5186fbf\",\"type\":\"Square\"},\"hover_glyph\":null,\"muted_glyph\":null,\"nonselection_glyph\":{\"id\":\"d38af49b-606d-4031-8411-fe72ace599d0\",\"type\":\"Square\"},\"selection_glyph\":null,\"view\":{\"id\":\"d534e8b6-2bb3-4237-9dad-56dd12489e39\",\"type\":\"CDSView\"}},\"id\":\"0981a064-e3e5-4bdc-800e-b32c68fcbab0\",\"type\":\"GlyphRenderer\"},{\"attributes\":{\"callback\":null,\"data\":{\"x\":{\"__ndarray__\":\"VJgSDQKwkL9WwUOoU4WQv38+mlhoKZC/oDeuiGOMj78rS/zXy8GOv+xEORgo842/7OK2xHEgjb/rWaQvS1KMv2Cqp2Poi4u/Pyy4KLLIir9m1ZnxRwKKvy9XhDzmGIm/KczSgnFHiL/m+29swYCHvz/rd/S+3IS/lFr90vH8d7+C2Y+PQ4NZPyXDVQJKaoY/5dZoqSAXlz8pS1qCAdSiPxQ/l95Rras/chpMlYwssz83igACkBC4P/bl4AI4K7g/WIcV68+8sz/DqMt8r5+tP053pCqTDKU//VRHKK9BnD95eNYPsPCRP/h+f4PZ5YQ/yDIkoAz3cj8gBuLrEhosP1uPcZic/mi/lSebdS0beL/e0Zl6VmWDv8Nn/rWvp4y/lrjkcX6ukr9RYBgxrl+Wv/BLbKMiE5q/AsGWuo9Tnb9iTihxisiev8I7UmQBWJ6/ye6hRJQ9nb/4Q3f+6dWbvxpmuxZ6Kpq/9RR5oSpBmL/aSIxD5ByWv+8+OSg6xZO/Ec+kLXdAkb/50guthyiNv5r5adionoe/uynR57j0gb+0CoY6yXV4v7PZhgqEz2m/hre8+aYoM78WaOkSU3RlP/YpVtUB8XY/v8uG4ZW3gT+2h130IBqIP4HKQRvapo4/YIg7J02tkj98eYtrARqWP1XGrrJ1nJk/BKFwdpcznT+OtT8lu2ygP7KCdglFRKI/RD6X1FQTpD9S4f9GgsWlPwkj5cBCSac/gYAonMWZqD9iUUWKy8epP/AiPux556o/N2BbWs4FrD9PhSqkAi2tP8Edk9XYYK4/\",\"dtype\":\"float64\",\"shape\":[75]},\"y\":{\"__ndarray__\":\"GhExyth1ND/Sv8nbtpRIP2vylNV0PVE/aTum7souWD/At0SJ8fVgPw3Iuahxymc/MSNhhJWvcD/bTfBN02d3P2zb5nxnaoA/CD5h5MAGhz8NmeH1TyaQP+zrCsc9p5Y/LbKd76fGnz/bLW5ISEmmPww9YvTcQq8/JV2OstnstT8Er5Y7M8G+P0c+r3jqkcU/5h99k6ZBzj88bCIzFzjVP4enV8oyxN0//yH99nXg5D8qOpLLf0jtP5kqGJXUifQ/c9cS8kHP/D+/DpwzojQEQIEmwoanVwxA4lgXt9HgE0BSSZ2AJuIbQAMJih9jjiNA5q4l5INuK0AwTKYKRj0zQNv5fmq8/DpAaCJseHrtQkB/+zpwzoxKQM3MzMzMeFJAZmZmZmZqWEAAAAAAAFxeQM3MzMzMJmJAmpmZmZkfZUBmZmZmZhhoQDMzMzMzEWtAAAAAAAAKbkBmZmZmZoFwQM3MzMzM/XFAMzMzMzN6c0CamZmZmfZ0QAAAAAAAc3ZAZmZmZmbvd0DNzMzMzGt5QDMzMzMz6HpAmpmZmZlkfEAAAAAAAOF9QGZmZmZmXX9AZmZmZuZsgECamZmZGSuBQM3MzMxM6YFAAAAAAICngkAzMzMzs2WDQGZmZmbmI4RAmpmZmRnihEDNzMzMTKCFQAAAAACAXoZAMzMzM7Mch0BmZmZm5tqHQJqZmZkZmYhAzczMzExXiUAAAAAAgBWKQDMzMzOz04pAZmZmZuaRi0CamZmZGVCMQM3MzMxMDo1AAAAAAIDMjUAzMzMzs4qOQGZmZmbmSI9A\",\"dtype\":\"float64\",\"shape\":[75]}},\"selected\":{\"id\":\"c6fca42b-09e4-4bf8-91e8-4e4edd20ca42\",\"type\":\"Selection\"},\"selection_policy\":{\"id\":\"c8d160ad-38f0-46da-b958-81d79db192db\",\"type\":\"UnionRenderers\"}},\"id\":\"3894bd54-1d35-439f-b476-eedcc0b017c7\",\"type\":\"ColumnDataSource\"},{\"attributes\":{\"source\":{\"id\":\"a47e08f5-cb8b-463b-b4ce-8bf34b289ebb\",\"type\":\"ColumnDataSource\"}},\"id\":\"79bcc390-322e-47b3-92be-c16f7bdffa8d\",\"type\":\"CDSView\"},{\"attributes\":{\"data_source\":{\"id\":\"f7f89e4d-682a-4157-befe-ec916de2f85a\",\"type\":\"ColumnDataSource\"},\"glyph\":{\"id\":\"64fa4214-622c-456a-957d-b7951667c7f8\",\"type\":\"Line\"},\"hover_glyph\":null,\"muted_glyph\":null,\"nonselection_glyph\":{\"id\":\"aacfaed5-26d7-47a4-852a-4b82ecd269a8\",\"type\":\"Line\"},\"selection_glyph\":null,\"view\":{\"id\":\"0fa50cc1-d543-4f4b-991b-fae3df56b760\",\"type\":\"CDSView\"}},\"id\":\"e768b58c-0ee5-4a7b-99fe-04b3b50a4397\",\"type\":\"GlyphRenderer\"},{\"attributes\":{\"fill_alpha\":{\"value\":0.7},\"fill_color\":{\"value\":\"#984ea3\"},\"line_alpha\":{\"value\":0.7},\"line_color\":{\"value\":\"#984ea3\"},\"x\":{\"field\":\"x\"},\"y\":{\"field\":\"y\"}},\"id\":\"c5d0a07f-1c2d-4e7e-8399-0decd5186fbf\",\"type\":\"Square\"},{\"attributes\":{\"source\":{\"id\":\"3894bd54-1d35-439f-b476-eedcc0b017c7\",\"type\":\"ColumnDataSource\"}},\"id\":\"d534e8b6-2bb3-4237-9dad-56dd12489e39\",\"type\":\"CDSView\"},{\"attributes\":{\"children\":[{\"id\":\"e01b8f4c-8d29-4ac4-8d24-3b155f1dfcc7\",\"type\":\"Row\"}]},\"id\":\"48b0b79c-5516-4eb2-b6b8-10d603faa8e4\",\"type\":\"Column\"},{\"attributes\":{\"line_alpha\":0.6,\"line_color\":\"#984ea3\",\"line_width\":3,\"x\":{\"field\":\"x\"},\"y\":{\"field\":\"y\"}},\"id\":\"64fa4214-622c-456a-957d-b7951667c7f8\",\"type\":\"Line\"},{\"attributes\":{\"bottom_units\":\"screen\",\"fill_alpha\":{\"value\":0.5},\"fill_color\":{\"value\":\"lightgrey\"},\"left_units\":\"screen\",\"level\":\"overlay\",\"line_alpha\":{\"value\":1.0},\"line_color\":{\"value\":\"black\"},\"line_dash\":[4,4],\"line_width\":{\"value\":2},\"plot\":null,\"render_mode\":\"css\",\"right_units\":\"screen\",\"top_units\":\"screen\"},\"id\":\"24629bce-a2ed-40b7-b29b-3a0d48fa2b6b\",\"type\":\"BoxAnnotation\"},{\"attributes\":{\"line_alpha\":0.1,\"line_color\":\"#1f77b4\",\"line_width\":3,\"x\":{\"field\":\"x\"},\"y\":{\"field\":\"y\"}},\"id\":\"aacfaed5-26d7-47a4-852a-4b82ecd269a8\",\"type\":\"Line\"},{\"attributes\":{\"callback\":null,\"data\":{\"x\":{\"__ndarray__\":\"VJgSDQKwkL9WwUOoU4WQv38+mlhoKZC/oDeuiGOMj78rS/zXy8GOv+xEORgo842/7OK2xHEgjb/rWaQvS1KMv2Cqp2Poi4u/Pyy4KLLIir9m1ZnxRwKKvy9XhDzmGIm/KczSgnFHiL/m+29swYCHvz/rd/S+3IS/lFr90vH8d7+C2Y+PQ4NZPyXDVQJKaoY/5dZoqSAXlz8pS1qCAdSiPxQ/l95Rras/chpMlYwssz83igACkBC4P/bl4AI4K7g/WIcV68+8sz/DqMt8r5+tP053pCqTDKU//VRHKK9BnD95eNYPsPCRP/h+f4PZ5YQ/yDIkoAz3cj8gBuLrEhosP1uPcZic/mi/lSebdS0beL/e0Zl6VmWDv8Nn/rWvp4y/lrjkcX6ukr9RYBgxrl+Wv/BLbKMiE5q/AsGWuo9Tnb9iTihxisiev8I7UmQBWJ6/ye6hRJQ9nb/4Q3f+6dWbvxpmuxZ6Kpq/9RR5oSpBmL/aSIxD5ByWv+8+OSg6xZO/Ec+kLXdAkb/50guthyiNv5r5adionoe/uynR57j0gb+0CoY6yXV4v7PZhgqEz2m/hre8+aYoM78WaOkSU3RlP/YpVtUB8XY/v8uG4ZW3gT+2h130IBqIP4HKQRvapo4/YIg7J02tkj98eYtrARqWP1XGrrJ1nJk/BKFwdpcznT+OtT8lu2ygP7KCdglFRKI/RD6X1FQTpD9S4f9GgsWlPwkj5cBCSac/gYAonMWZqD9iUUWKy8epP/AiPux556o/N2BbWs4FrD9PhSqkAi2tP8Edk9XYYK4/\",\"dtype\":\"float64\",\"shape\":[75]},\"y\":{\"__ndarray__\":\"GhExyth1ND/Sv8nbtpRIP2vylNV0PVE/aTum7souWD/At0SJ8fVgPw3Iuahxymc/MSNhhJWvcD/bTfBN02d3P2zb5nxnaoA/CD5h5MAGhz8NmeH1TyaQP+zrCsc9p5Y/LbKd76fGnz/bLW5ISEmmPww9YvTcQq8/JV2OstnstT8Er5Y7M8G+P0c+r3jqkcU/5h99k6ZBzj88bCIzFzjVP4enV8oyxN0//yH99nXg5D8qOpLLf0jtP5kqGJXUifQ/c9cS8kHP/D+/DpwzojQEQIEmwoanVwxA4lgXt9HgE0BSSZ2AJuIbQAMJih9jjiNA5q4l5INuK0AwTKYKRj0zQNv5fmq8/DpAaCJseHrtQkB/+zpwzoxKQM3MzMzMeFJAZmZmZmZqWEAAAAAAAFxeQM3MzMzMJmJAmpmZmZkfZUBmZmZmZhhoQDMzMzMzEWtAAAAAAAAKbkBmZmZmZoFwQM3MzMzM/XFAMzMzMzN6c0CamZmZmfZ0QAAAAAAAc3ZAZmZmZmbvd0DNzMzMzGt5QDMzMzMz6HpAmpmZmZlkfEAAAAAAAOF9QGZmZmZmXX9AZmZmZuZsgECamZmZGSuBQM3MzMxM6YFAAAAAAICngkAzMzMzs2WDQGZmZmbmI4RAmpmZmRnihEDNzMzMTKCFQAAAAACAXoZAMzMzM7Mch0BmZmZm5tqHQJqZmZkZmYhAzczMzExXiUAAAAAAgBWKQDMzMzOz04pAZmZmZuaRi0CamZmZGVCMQM3MzMxMDo1AAAAAAIDMjUAzMzMzs4qOQGZmZmbmSI9A\",\"dtype\":\"float64\",\"shape\":[75]}},\"selected\":{\"id\":\"03390d9c-b648-45d9-aac7-f977c0ce9db6\",\"type\":\"Selection\"},\"selection_policy\":{\"id\":\"f1ee5308-4ec8-4d62-98f4-a851e56cbd65\",\"type\":\"UnionRenderers\"}},\"id\":\"f7f89e4d-682a-4157-befe-ec916de2f85a\",\"type\":\"ColumnDataSource\"},{\"attributes\":{\"callback\":null,\"data\":{\"x\":{\"__ndarray__\":\"bL8wg8nUiL+z3GzU7oeIv5l2bBym4Ye/zOfYj0kuh78NLTAbXHeGv5MHRSUPvYW/PRjMEHP/hL83WIBDpD6Evxoj+QnHeoO/vMHiViq0gr9r3MeaP+uBvy05GV6KIIG/2FKr48RUgL+8/3k3h/V+vyv3J7RsiHm/MrdWMDAVYr+DCC5rwT1zP+FTpqhYl4s/qT5zW33wmD9dvzl/klSjP7jbYkBYs6s/ST9FJirmsj96RpmLQ4+3P06TsMU917c/O48mJZXisz8MDaP2Qp2uP8ZENkTMSqY/pkj3OQB8nj+WUR+UKliTP2ihfJKxtIU/oaxde/c2cT8F6U1rkoJFvzXjm0uEXXC/SpTes4VSe7+dzEbREIuEvzQrQ5dLco2/7F3AgLkHk78c0T81Zb2Wv59WhZFUYpq/ASS7lxmEnb8cs3eFCPiev2eFT6d2rp6/OhdDVAG5nb/+yJQa2G2cv9Q3o9sq2Zq/0B6j68EAmb+XjkFsO+qWv1dxCnF8m5S/eJdXzPcakr+nZKECp96Ov7L9hKHtSIm/r2PtiviJg78Hqf1VhV97v4KzDGDu9G6/6AuXZYrcSr/gI+bhdBBiP+SLc3svt3U/JlYFLPJZgT9cBZkrNf+HP9gvz3Scyo4/tYZp8Q7dkj8IIuG/cGaWP+bIUBEeAZo/aHSUq1+rnT+j7IABjbCgP1NRb+tVjKI/To3yz1BepD91YYFg1RSmPyIfACkUn6c/Mc7lNgf6qD8Hq1RrazKqP1ZLnkW8WKs/42nj3kB4rD/tlsDX6patP1Izoxyet64/\",\"dtype\":\"float64\",\"shape\":[75]},\"y\":{\"__ndarray__\":\"GhExyth1ND/Sv8nbtpRIP2vylNV0PVE/aTum7souWD/At0SJ8fVgPw3Iuahxymc/MSNhhJWvcD/bTfBN02d3P2zb5nxnaoA/CD5h5MAGhz8NmeH1TyaQP+zrCsc9p5Y/LbKd76fGnz/bLW5ISEmmPww9YvTcQq8/JV2OstnstT8Er5Y7M8G+P0c+r3jqkcU/5h99k6ZBzj88bCIzFzjVP4enV8oyxN0//yH99nXg5D8qOpLLf0jtP5kqGJXUifQ/c9cS8kHP/D+/DpwzojQEQIEmwoanVwxA4lgXt9HgE0BSSZ2AJuIbQAMJih9jjiNA5q4l5INuK0AwTKYKRj0zQNv5fmq8/DpAaCJseHrtQkB/+zpwzoxKQM3MzMzMeFJAZmZmZmZqWEAAAAAAAFxeQM3MzMzMJmJAmpmZmZkfZUBmZmZmZhhoQDMzMzMzEWtAAAAAAAAKbkBmZmZmZoFwQM3MzMzM/XFAMzMzMzN6c0CamZmZmfZ0QAAAAAAAc3ZAZmZmZmbvd0DNzMzMzGt5QDMzMzMz6HpAmpmZmZlkfEAAAAAAAOF9QGZmZmZmXX9AZmZmZuZsgECamZmZGSuBQM3MzMxM6YFAAAAAAICngkAzMzMzs2WDQGZmZmbmI4RAmpmZmRnihEDNzMzMTKCFQAAAAACAXoZAMzMzM7Mch0BmZmZm5tqHQJqZmZkZmYhAzczMzExXiUAAAAAAgBWKQDMzMzOz04pAZmZmZuaRi0CamZmZGVCMQM3MzMxMDo1AAAAAAIDMjUAzMzMzs4qOQGZmZmbmSI9A\",\"dtype\":\"float64\",\"shape\":[75]}},\"selected\":{\"id\":\"5a8e7962-3daf-4dbe-b60a-aaf0a64a22e8\",\"type\":\"Selection\"},\"selection_policy\":{\"id\":\"cbd0a887-0b1f-4ea6-93b5-5db6d9f132df\",\"type\":\"UnionRenderers\"}},\"id\":\"41e7404b-d164-4892-9fd5-d08bcbc92358\",\"type\":\"ColumnDataSource\"},{\"attributes\":{\"source\":{\"id\":\"f7f89e4d-682a-4157-befe-ec916de2f85a\",\"type\":\"ColumnDataSource\"}},\"id\":\"0fa50cc1-d543-4f4b-991b-fae3df56b760\",\"type\":\"CDSView\"},{\"attributes\":{\"fill_alpha\":{\"value\":0.7},\"fill_color\":{\"value\":\"#377eb8\"},\"line_alpha\":{\"value\":0.7},\"line_color\":{\"value\":\"#377eb8\"},\"x\":{\"field\":\"x\"},\"y\":{\"field\":\"y\"}},\"id\":\"003ed1e9-cb7a-46ec-a89a-98fb654f4199\",\"type\":\"Triangle\"},{\"attributes\":{\"callback\":null,\"data\":{\"x\":{\"__ndarray__\":\"bL8wg8nUiL+z3GzU7oeIv5l2bBym4Ye/zOfYj0kuh78NLTAbXHeGv5MHRSUPvYW/PRjMEHP/hL83WIBDpD6Evxoj+QnHeoO/vMHiViq0gr9r3MeaP+uBvy05GV6KIIG/2FKr48RUgL+8/3k3h/V+vyv3J7RsiHm/MrdWMDAVYr+DCC5rwT1zP+FTpqhYl4s/qT5zW33wmD9dvzl/klSjP7jbYkBYs6s/ST9FJirmsj96RpmLQ4+3P06TsMU917c/O48mJZXisz8MDaP2Qp2uP8ZENkTMSqY/pkj3OQB8nj+WUR+UKliTP2ihfJKxtIU/oaxde/c2cT8F6U1rkoJFvzXjm0uEXXC/SpTes4VSe7+dzEbREIuEvzQrQ5dLco2/7F3AgLkHk78c0T81Zb2Wv59WhZFUYpq/ASS7lxmEnb8cs3eFCPiev2eFT6d2rp6/OhdDVAG5nb/+yJQa2G2cv9Q3o9sq2Zq/0B6j68EAmb+XjkFsO+qWv1dxCnF8m5S/eJdXzPcakr+nZKECp96Ov7L9hKHtSIm/r2PtiviJg78Hqf1VhV97v4KzDGDu9G6/6AuXZYrcSr/gI+bhdBBiP+SLc3svt3U/JlYFLPJZgT9cBZkrNf+HP9gvz3Scyo4/tYZp8Q7dkj8IIuG/cGaWP+bIUBEeAZo/aHSUq1+rnT+j7IABjbCgP1NRb+tVjKI/To3yz1BepD91YYFg1RSmPyIfACkUn6c/Mc7lNgf6qD8Hq1RrazKqP1ZLnkW8WKs/42nj3kB4rD/tlsDX6patP1Izoxyet64/\",\"dtype\":\"float64\",\"shape\":[75]},\"y\":{\"__ndarray__\":\"GhExyth1ND/Sv8nbtpRIP2vylNV0PVE/aTum7souWD/At0SJ8fVgPw3Iuahxymc/MSNhhJWvcD/bTfBN02d3P2zb5nxnaoA/CD5h5MAGhz8NmeH1TyaQP+zrCsc9p5Y/LbKd76fGnz/bLW5ISEmmPww9YvTcQq8/JV2OstnstT8Er5Y7M8G+P0c+r3jqkcU/5h99k6ZBzj88bCIzFzjVP4enV8oyxN0//yH99nXg5D8qOpLLf0jtP5kqGJXUifQ/c9cS8kHP/D+/DpwzojQEQIEmwoanVwxA4lgXt9HgE0BSSZ2AJuIbQAMJih9jjiNA5q4l5INuK0AwTKYKRj0zQNv5fmq8/DpAaCJseHrtQkB/+zpwzoxKQM3MzMzMeFJAZmZmZmZqWEAAAAAAAFxeQM3MzMzMJmJAmpmZmZkfZUBmZmZmZhhoQDMzMzMzEWtAAAAAAAAKbkBmZmZmZoFwQM3MzMzM/XFAMzMzMzN6c0CamZmZmfZ0QAAAAAAAc3ZAZmZmZmbvd0DNzMzMzGt5QDMzMzMz6HpAmpmZmZlkfEAAAAAAAOF9QGZmZmZmXX9AZmZmZuZsgECamZmZGSuBQM3MzMxM6YFAAAAAAICngkAzMzMzs2WDQGZmZmbmI4RAmpmZmRnihEDNzMzMTKCFQAAAAACAXoZAMzMzM7Mch0BmZmZm5tqHQJqZmZkZmYhAzczMzExXiUAAAAAAgBWKQDMzMzOz04pAZmZmZuaRi0CamZmZGVCMQM3MzMxMDo1AAAAAAIDMjUAzMzMzs4qOQGZmZmbmSI9A\",\"dtype\":\"float64\",\"shape\":[75]}},\"selected\":{\"id\":\"97adbf4f-3d34-4522-b88e-96894cb462a1\",\"type\":\"Selection\"},\"selection_policy\":{\"id\":\"8d536980-9128-4ab5-a880-a936050af72f\",\"type\":\"UnionRenderers\"}},\"id\":\"8ad898c0-a42e-48d9-82e5-1c4edcc16eb4\",\"type\":\"ColumnDataSource\"},{\"attributes\":{\"fill_alpha\":{\"value\":0.1},\"fill_color\":{\"value\":\"#1f77b4\"},\"line_alpha\":{\"value\":0.1},\"line_color\":{\"value\":\"#1f77b4\"},\"x\":{\"field\":\"x\"},\"y\":{\"field\":\"y\"}},\"id\":\"1ceb9eb4-1667-457a-b4e0-2b92cab12e07\",\"type\":\"Triangle\"},{\"attributes\":{\"data_source\":{\"id\":\"41e7404b-d164-4892-9fd5-d08bcbc92358\",\"type\":\"ColumnDataSource\"},\"glyph\":{\"id\":\"003ed1e9-cb7a-46ec-a89a-98fb654f4199\",\"type\":\"Triangle\"},\"hover_glyph\":null,\"muted_glyph\":null,\"nonselection_glyph\":{\"id\":\"1ceb9eb4-1667-457a-b4e0-2b92cab12e07\",\"type\":\"Triangle\"},\"selection_glyph\":null,\"view\":{\"id\":\"f6e42a99-94c5-4e7c-9c6f-541282216114\",\"type\":\"CDSView\"}},\"id\":\"9a7d468f-363b-466a-abbc-7f1b18bb227a\",\"type\":\"GlyphRenderer\"},{\"attributes\":{\"source\":{\"id\":\"41e7404b-d164-4892-9fd5-d08bcbc92358\",\"type\":\"ColumnDataSource\"}},\"id\":\"f6e42a99-94c5-4e7c-9c6f-541282216114\",\"type\":\"CDSView\"},{\"attributes\":{\"line_alpha\":0.3,\"line_color\":\"#377eb8\",\"line_width\":2,\"x\":{\"field\":\"x\"},\"y\":{\"field\":\"y\"}},\"id\":\"0e4f11d5-db88-4abb-8668-c4471df71e7f\",\"type\":\"Line\"},{\"attributes\":{\"children\":[{\"id\":\"810c855b-de7b-498b-89e6-2cf70fdeb1d0\",\"subtype\":\"Figure\",\"type\":\"Plot\"},{\"id\":\"d95e85d6-a69e-49dc-808d-80b952bb3ac4\",\"subtype\":\"Figure\",\"type\":\"Plot\"}]},\"id\":\"e01b8f4c-8d29-4ac4-8d24-3b155f1dfcc7\",\"type\":\"Row\"},{\"attributes\":{\"line_alpha\":0.1,\"line_color\":\"#1f77b4\",\"line_width\":2,\"x\":{\"field\":\"x\"},\"y\":{\"field\":\"y\"}},\"id\":\"148eb451-3555-4ef1-a69d-d341401701a7\",\"type\":\"Line\"},{\"attributes\":{\"data_source\":{\"id\":\"8ad898c0-a42e-48d9-82e5-1c4edcc16eb4\",\"type\":\"ColumnDataSource\"},\"glyph\":{\"id\":\"0e4f11d5-db88-4abb-8668-c4471df71e7f\",\"type\":\"Line\"},\"hover_glyph\":null,\"muted_glyph\":null,\"nonselection_glyph\":{\"id\":\"148eb451-3555-4ef1-a69d-d341401701a7\",\"type\":\"Line\"},\"selection_glyph\":null,\"view\":{\"id\":\"c5c4f50a-f60c-4229-87f1-cbaa32cfee4d\",\"type\":\"CDSView\"}},\"id\":\"4dd89902-8124-4960-a33b-6e103e5fb504\",\"type\":\"GlyphRenderer\"},{\"attributes\":{\"source\":{\"id\":\"8ad898c0-a42e-48d9-82e5-1c4edcc16eb4\",\"type\":\"ColumnDataSource\"}},\"id\":\"c5c4f50a-f60c-4229-87f1-cbaa32cfee4d\",\"type\":\"CDSView\"},{\"attributes\":{\"label\":{\"value\":\"CRD\"},\"renderers\":[{\"id\":\"ad835cff-5a8f-4e32-b378-50f780b96003\",\"type\":\"GlyphRenderer\"},{\"id\":\"ed166137-9ef2-4091-adfe-dc657645c2ab\",\"type\":\"GlyphRenderer\"}]},\"id\":\"56acc5be-e73b-4d62-909c-0e0b866f3900\",\"type\":\"LegendItem\"},{\"attributes\":{\"plot\":null,\"text\":\"\"},\"id\":\"ad732dcc-0ab0-454a-b9bb-9739dbc2fb21\",\"type\":\"Title\"},{\"attributes\":{},\"id\":\"c0200fb1-2f8c-4689-88e4-5e7a0158df3f\",\"type\":\"BasicTickFormatter\"},{\"attributes\":{\"label\":{\"value\":\"WGT igg=1\"},\"renderers\":[{\"id\":\"0981a064-e3e5-4bdc-800e-b32c68fcbab0\",\"type\":\"GlyphRenderer\"},{\"id\":\"e768b58c-0ee5-4a7b-99fe-04b3b50a4397\",\"type\":\"GlyphRenderer\"}]},\"id\":\"a4f5dfe5-a8f2-4285-94c7-3e47df397567\",\"type\":\"LegendItem\"},{\"attributes\":{},\"id\":\"a85a0f6d-62f4-4142-a32b-9ed6aab634fd\",\"type\":\"UnionRenderers\"},{\"attributes\":{\"label\":{\"value\":\"WGT igg=10\"},\"renderers\":[{\"id\":\"9a7d468f-363b-466a-abbc-7f1b18bb227a\",\"type\":\"GlyphRenderer\"},{\"id\":\"4dd89902-8124-4960-a33b-6e103e5fb504\",\"type\":\"GlyphRenderer\"}]},\"id\":\"5c16655e-c555-4b1b-a3ec-2b3b0ad1a41d\",\"type\":\"LegendItem\"},{\"attributes\":{},\"id\":\"65424bec-12af-41d9-bcb2-0523cfe9b01a\",\"type\":\"UnionRenderers\"},{\"attributes\":{},\"id\":\"375f13d3-a897-4184-b8d4-2f019774fd26\",\"type\":\"UnionRenderers\"},{\"attributes\":{},\"id\":\"bcd32de3-4cfd-4bd4-929c-4f1fb5f24884\",\"type\":\"Selection\"},{\"attributes\":{},\"id\":\"855af81b-874d-4c38-85f7-0472656174dc\",\"type\":\"BasicTickFormatter\"},{\"attributes\":{},\"id\":\"002fb979-e9b1-4406-a90e-104a9a731467\",\"type\":\"Selection\"},{\"attributes\":{},\"id\":\"08c0235c-2dcb-45a4-9b3a-f886b0566012\",\"type\":\"Selection\"},{\"attributes\":{},\"id\":\"f974e33c-0444-4962-bdac-ed709253eef1\",\"type\":\"Selection\"},{\"attributes\":{},\"id\":\"832a1178-5698-422c-8956-1253585d48fa\",\"type\":\"UnionRenderers\"},{\"attributes\":{},\"id\":\"bead4a7c-a658-41fe-bfb5-5dd0beaa0f53\",\"type\":\"UnionRenderers\"},{\"attributes\":{},\"id\":\"37c230a2-42fd-41e0-9583-843fc6b5ae18\",\"type\":\"UnionRenderers\"},{\"attributes\":{\"ticker\":null},\"id\":\"a3a230c3-b49b-42e0-ae62-d5a4eabb611e\",\"type\":\"LogTickFormatter\"},{\"attributes\":{\"line_alpha\":0.6,\"line_color\":\"#984ea3\",\"line_width\":3,\"x\":{\"field\":\"x\"},\"y\":{\"field\":\"y\"}},\"id\":\"60dc350f-3c53-4227-bf0e-bda8ee97df4a\",\"type\":\"Line\"},{\"attributes\":{\"source\":{\"id\":\"e63cb58e-8579-4412-9fd2-14ef05f3bde5\",\"type\":\"ColumnDataSource\"}},\"id\":\"3384d7da-6271-4f54-ae43-575bee9fd151\",\"type\":\"CDSView\"},{\"attributes\":{\"callback\":null,\"data\":{\"x\":{\"__ndarray__\":\"bL8wg8nUiL+z3GzU7oeIv5l2bBym4Ye/zOfYj0kuh78NLTAbXHeGv5MHRSUPvYW/PRjMEHP/hL83WIBDpD6Evxoj+QnHeoO/vMHiViq0gr9r3MeaP+uBvy05GV6KIIG/2FKr48RUgL+8/3k3h/V+vyv3J7RsiHm/MrdWMDAVYr+DCC5rwT1zP+FTpqhYl4s/qT5zW33wmD9dvzl/klSjP7jbYkBYs6s/ST9FJirmsj96RpmLQ4+3P06TsMU917c/O48mJZXisz8MDaP2Qp2uP8ZENkTMSqY/pkj3OQB8nj+WUR+UKliTP2ihfJKxtIU/oaxde/c2cT8F6U1rkoJFvzXjm0uEXXC/SpTes4VSe7+dzEbREIuEvzQrQ5dLco2/7F3AgLkHk78c0T81Zb2Wv59WhZFUYpq/ASS7lxmEnb8cs3eFCPiev2eFT6d2rp6/OhdDVAG5nb/+yJQa2G2cv9Q3o9sq2Zq/0B6j68EAmb+XjkFsO+qWv1dxCnF8m5S/eJdXzPcakr+nZKECp96Ov7L9hKHtSIm/r2PtiviJg78Hqf1VhV97v4KzDGDu9G6/6AuXZYrcSr/gI+bhdBBiP+SLc3svt3U/JlYFLPJZgT9cBZkrNf+HP9gvz3Scyo4/tYZp8Q7dkj8IIuG/cGaWP+bIUBEeAZo/aHSUq1+rnT+j7IABjbCgP1NRb+tVjKI/To3yz1BepD91YYFg1RSmPyIfACkUn6c/Mc7lNgf6qD8Hq1RrazKqP1ZLnkW8WKs/42nj3kB4rD/tlsDX6patP1Izoxyet64/\",\"dtype\":\"float64\",\"shape\":[75]},\"y\":{\"__ndarray__\":\"GhExyth1ND/Sv8nbtpRIP2vylNV0PVE/aTum7souWD/At0SJ8fVgPw3Iuahxymc/MSNhhJWvcD/bTfBN02d3P2zb5nxnaoA/CD5h5MAGhz8NmeH1TyaQP+zrCsc9p5Y/LbKd76fGnz/bLW5ISEmmPww9YvTcQq8/JV2OstnstT8Er5Y7M8G+P0c+r3jqkcU/5h99k6ZBzj88bCIzFzjVP4enV8oyxN0//yH99nXg5D8qOpLLf0jtP5kqGJXUifQ/c9cS8kHP/D+/DpwzojQEQIEmwoanVwxA4lgXt9HgE0BSSZ2AJuIbQAMJih9jjiNA5q4l5INuK0AwTKYKRj0zQNv5fmq8/DpAaCJseHrtQkB/+zpwzoxKQM3MzMzMeFJAZmZmZmZqWEAAAAAAAFxeQM3MzMzMJmJAmpmZmZkfZUBmZmZmZhhoQDMzMzMzEWtAAAAAAAAKbkBmZmZmZoFwQM3MzMzM/XFAMzMzMzN6c0CamZmZmfZ0QAAAAAAAc3ZAZmZmZmbvd0DNzMzMzGt5QDMzMzMz6HpAmpmZmZlkfEAAAAAAAOF9QGZmZmZmXX9AZmZmZuZsgECamZmZGSuBQM3MzMxM6YFAAAAAAICngkAzMzMzs2WDQGZmZmbmI4RAmpmZmRnihEDNzMzMTKCFQAAAAACAXoZAMzMzM7Mch0BmZmZm5tqHQJqZmZkZmYhAzczMzExXiUAAAAAAgBWKQDMzMzOz04pAZmZmZuaRi0CamZmZGVCMQM3MzMxMDo1AAAAAAIDMjUAzMzMzs4qOQGZmZmbmSI9A\",\"dtype\":\"float64\",\"shape\":[75]}},\"selected\":{\"id\":\"9b119df2-8d8d-4caa-a52c-033729a5d3e3\",\"type\":\"Selection\"},\"selection_policy\":{\"id\":\"dec18edd-5c7b-4382-a77b-5ab4762c70e0\",\"type\":\"UnionRenderers\"}},\"id\":\"62de56f8-94b4-4932-9a24-356f2829de69\",\"type\":\"ColumnDataSource\"},{\"attributes\":{\"above\":[{\"id\":\"960d218f-f081-4ec6-afcf-4314ec5873cc\",\"type\":\"Legend\"}],\"below\":[{\"id\":\"b29eeae7-659d-4950-8eac-7893a4163289\",\"type\":\"LinearAxis\"}],\"left\":[{\"id\":\"c6b854e4-aae0-4c13-b53f-8e2c4c6f6124\",\"type\":\"LogAxis\"}],\"plot_height\":500,\"plot_width\":400,\"renderers\":[{\"id\":\"b29eeae7-659d-4950-8eac-7893a4163289\",\"type\":\"LinearAxis\"},{\"id\":\"b4fb94e7-d561-4ad2-b4a7-dad6297ab4e9\",\"type\":\"Grid\"},{\"id\":\"c6b854e4-aae0-4c13-b53f-8e2c4c6f6124\",\"type\":\"LogAxis\"},{\"id\":\"7519434c-16b7-4ff3-b30a-a644f0ff0273\",\"type\":\"Grid\"},{\"id\":\"e4a9f49f-9712-4ed1-9191-75dcc9d494e2\",\"type\":\"BoxAnnotation\"},{\"id\":\"ad835cff-5a8f-4e32-b378-50f780b96003\",\"type\":\"GlyphRenderer\"},{\"id\":\"ed166137-9ef2-4091-adfe-dc657645c2ab\",\"type\":\"GlyphRenderer\"},{\"id\":\"0981a064-e3e5-4bdc-800e-b32c68fcbab0\",\"type\":\"GlyphRenderer\"},{\"id\":\"e768b58c-0ee5-4a7b-99fe-04b3b50a4397\",\"type\":\"GlyphRenderer\"},{\"id\":\"9a7d468f-363b-466a-abbc-7f1b18bb227a\",\"type\":\"GlyphRenderer\"},{\"id\":\"4dd89902-8124-4960-a33b-6e103e5fb504\",\"type\":\"GlyphRenderer\"},{\"id\":\"960d218f-f081-4ec6-afcf-4314ec5873cc\",\"type\":\"Legend\"}],\"title\":{\"id\":\"15af520d-6f70-47d9-a9d3-a6bcc2d87b6b\",\"type\":\"Title\"},\"toolbar\":{\"id\":\"a1f64fcc-fc10-4a54-a06c-aaf5872e5ae1\",\"type\":\"Toolbar\"},\"toolbar_location\":null,\"x_range\":{\"id\":\"d8e4b264-9b46-43fa-b506-38667b035501\",\"type\":\"Range1d\"},\"x_scale\":{\"id\":\"05dc0bf0-248b-4b2d-ad6c-5a982d9f72ef\",\"type\":\"LinearScale\"},\"y_range\":{\"id\":\"7dece595-fd24-4da5-819b-c363083ebb29\",\"type\":\"Range1d\"},\"y_scale\":{\"id\":\"472ad07a-4b1f-4365-9876-7ae17d193d96\",\"type\":\"LogScale\"}},\"id\":\"d95e85d6-a69e-49dc-808d-80b952bb3ac4\",\"subtype\":\"Figure\",\"type\":\"Plot\"},{\"attributes\":{\"callback\":null,\"data\":{\"x\":{\"__ndarray__\":\"VJgSDQKwkL9WwUOoU4WQv38+mlhoKZC/oDeuiGOMj78rS/zXy8GOv+xEORgo842/7OK2xHEgjb/rWaQvS1KMv2Cqp2Poi4u/Pyy4KLLIir9m1ZnxRwKKvy9XhDzmGIm/KczSgnFHiL/m+29swYCHvz/rd/S+3IS/lFr90vH8d7+C2Y+PQ4NZPyXDVQJKaoY/5dZoqSAXlz8pS1qCAdSiPxQ/l95Rras/chpMlYwssz83igACkBC4P/bl4AI4K7g/WIcV68+8sz/DqMt8r5+tP053pCqTDKU//VRHKK9BnD95eNYPsPCRP/h+f4PZ5YQ/yDIkoAz3cj8gBuLrEhosP1uPcZic/mi/lSebdS0beL/e0Zl6VmWDv8Nn/rWvp4y/lrjkcX6ukr9RYBgxrl+Wv/BLbKMiE5q/AsGWuo9Tnb9iTihxisiev8I7UmQBWJ6/ye6hRJQ9nb/4Q3f+6dWbvxpmuxZ6Kpq/9RR5oSpBmL/aSIxD5ByWv+8+OSg6xZO/Ec+kLXdAkb/50guthyiNv5r5adionoe/uynR57j0gb+0CoY6yXV4v7PZhgqEz2m/hre8+aYoM78WaOkSU3RlP/YpVtUB8XY/v8uG4ZW3gT+2h130IBqIP4HKQRvapo4/YIg7J02tkj98eYtrARqWP1XGrrJ1nJk/BKFwdpcznT+OtT8lu2ygP7KCdglFRKI/RD6X1FQTpD9S4f9GgsWlPwkj5cBCSac/gYAonMWZqD9iUUWKy8epP/AiPux556o/N2BbWs4FrD9PhSqkAi2tP8Edk9XYYK4/\",\"dtype\":\"float64\",\"shape\":[75]},\"y\":{\"__ndarray__\":\"GhExyth1ND/Sv8nbtpRIP2vylNV0PVE/aTum7souWD/At0SJ8fVgPw3Iuahxymc/MSNhhJWvcD/bTfBN02d3P2zb5nxnaoA/CD5h5MAGhz8NmeH1TyaQP+zrCsc9p5Y/LbKd76fGnz/bLW5ISEmmPww9YvTcQq8/JV2OstnstT8Er5Y7M8G+P0c+r3jqkcU/5h99k6ZBzj88bCIzFzjVP4enV8oyxN0//yH99nXg5D8qOpLLf0jtP5kqGJXUifQ/c9cS8kHP/D+/DpwzojQEQIEmwoanVwxA4lgXt9HgE0BSSZ2AJuIbQAMJih9jjiNA5q4l5INuK0AwTKYKRj0zQNv5fmq8/DpAaCJseHrtQkB/+zpwzoxKQM3MzMzMeFJAZmZmZmZqWEAAAAAAAFxeQM3MzMzMJmJAmpmZmZkfZUBmZmZmZhhoQDMzMzMzEWtAAAAAAAAKbkBmZmZmZoFwQM3MzMzM/XFAMzMzMzN6c0CamZmZmfZ0QAAAAAAAc3ZAZmZmZmbvd0DNzMzMzGt5QDMzMzMz6HpAmpmZmZlkfEAAAAAAAOF9QGZmZmZmXX9AZmZmZuZsgECamZmZGSuBQM3MzMxM6YFAAAAAAICngkAzMzMzs2WDQGZmZmbmI4RAmpmZmRnihEDNzMzMTKCFQAAAAACAXoZAMzMzM7Mch0BmZmZm5tqHQJqZmZkZmYhAzczMzExXiUAAAAAAgBWKQDMzMzOz04pAZmZmZuaRi0CamZmZGVCMQM3MzMxMDo1AAAAAAIDMjUAzMzMzs4qOQGZmZmbmSI9A\",\"dtype\":\"float64\",\"shape\":[75]}},\"selected\":{\"id\":\"002fb979-e9b1-4406-a90e-104a9a731467\",\"type\":\"Selection\"},\"selection_policy\":{\"id\":\"832a1178-5698-422c-8956-1253585d48fa\",\"type\":\"UnionRenderers\"}},\"id\":\"30f128ac-3d19-4fff-8e7f-754516323dde\",\"type\":\"ColumnDataSource\"},{\"attributes\":{\"data_source\":{\"id\":\"30f128ac-3d19-4fff-8e7f-754516323dde\",\"type\":\"ColumnDataSource\"},\"glyph\":{\"id\":\"60dc350f-3c53-4227-bf0e-bda8ee97df4a\",\"type\":\"Line\"},\"hover_glyph\":null,\"muted_glyph\":null,\"nonselection_glyph\":{\"id\":\"089d9c3a-74ee-429d-966a-3c2370e9e449\",\"type\":\"Line\"},\"selection_glyph\":null,\"view\":{\"id\":\"50d08d6e-380d-4d6c-924d-272cc6d1fe89\",\"type\":\"CDSView\"}},\"id\":\"97424f50-1fc7-4a12-aa50-ffe64a5a175b\",\"type\":\"GlyphRenderer\"},{\"attributes\":{\"fill_alpha\":{\"value\":0.1},\"fill_color\":{\"value\":\"#1f77b4\"},\"line_alpha\":{\"value\":0.1},\"line_color\":{\"value\":\"#1f77b4\"},\"x\":{\"field\":\"x\"},\"y\":{\"field\":\"y\"}},\"id\":\"a3c8739f-2026-4b09-87d7-c07f4b0fdccc\",\"type\":\"Triangle\"},{\"attributes\":{\"line_alpha\":0.1,\"line_color\":\"#1f77b4\",\"line_width\":3,\"x\":{\"field\":\"x\"},\"y\":{\"field\":\"y\"}},\"id\":\"089d9c3a-74ee-429d-966a-3c2370e9e449\",\"type\":\"Line\"},{\"attributes\":{\"source\":{\"id\":\"30f128ac-3d19-4fff-8e7f-754516323dde\",\"type\":\"ColumnDataSource\"}},\"id\":\"50d08d6e-380d-4d6c-924d-272cc6d1fe89\",\"type\":\"CDSView\"},{\"attributes\":{\"fill_alpha\":{\"value\":0.7},\"fill_color\":{\"value\":\"#377eb8\"},\"line_alpha\":{\"value\":0.7},\"line_color\":{\"value\":\"#377eb8\"},\"x\":{\"field\":\"x\"},\"y\":{\"field\":\"y\"}},\"id\":\"b0a00dd8-59f5-46bf-9909-c85b86ab1cc0\",\"type\":\"Triangle\"},{\"attributes\":{\"callback\":null,\"data\":{\"x\":{\"__ndarray__\":\"bL8wg8nUiL+z3GzU7oeIv5l2bBym4Ye/zOfYj0kuh78NLTAbXHeGv5MHRSUPvYW/PRjMEHP/hL83WIBDpD6Evxoj+QnHeoO/vMHiViq0gr9r3MeaP+uBvy05GV6KIIG/2FKr48RUgL+8/3k3h/V+vyv3J7RsiHm/MrdWMDAVYr+DCC5rwT1zP+FTpqhYl4s/qT5zW33wmD9dvzl/klSjP7jbYkBYs6s/ST9FJirmsj96RpmLQ4+3P06TsMU917c/O48mJZXisz8MDaP2Qp2uP8ZENkTMSqY/pkj3OQB8nj+WUR+UKliTP2ihfJKxtIU/oaxde/c2cT8F6U1rkoJFvzXjm0uEXXC/SpTes4VSe7+dzEbREIuEvzQrQ5dLco2/7F3AgLkHk78c0T81Zb2Wv59WhZFUYpq/ASS7lxmEnb8cs3eFCPiev2eFT6d2rp6/OhdDVAG5nb/+yJQa2G2cv9Q3o9sq2Zq/0B6j68EAmb+XjkFsO+qWv1dxCnF8m5S/eJdXzPcakr+nZKECp96Ov7L9hKHtSIm/r2PtiviJg78Hqf1VhV97v4KzDGDu9G6/6AuXZYrcSr/gI+bhdBBiP+SLc3svt3U/JlYFLPJZgT9cBZkrNf+HP9gvz3Scyo4/tYZp8Q7dkj8IIuG/cGaWP+bIUBEeAZo/aHSUq1+rnT+j7IABjbCgP1NRb+tVjKI/To3yz1BepD91YYFg1RSmPyIfACkUn6c/Mc7lNgf6qD8Hq1RrazKqP1ZLnkW8WKs/42nj3kB4rD/tlsDX6patP1Izoxyet64/\",\"dtype\":\"float64\",\"shape\":[75]},\"y\":{\"__ndarray__\":\"GhExyth1ND/Sv8nbtpRIP2vylNV0PVE/aTum7souWD/At0SJ8fVgPw3Iuahxymc/MSNhhJWvcD/bTfBN02d3P2zb5nxnaoA/CD5h5MAGhz8NmeH1TyaQP+zrCsc9p5Y/LbKd76fGnz/bLW5ISEmmPww9YvTcQq8/JV2OstnstT8Er5Y7M8G+P0c+r3jqkcU/5h99k6ZBzj88bCIzFzjVP4enV8oyxN0//yH99nXg5D8qOpLLf0jtP5kqGJXUifQ/c9cS8kHP/D+/DpwzojQEQIEmwoanVwxA4lgXt9HgE0BSSZ2AJuIbQAMJih9jjiNA5q4l5INuK0AwTKYKRj0zQNv5fmq8/DpAaCJseHrtQkB/+zpwzoxKQM3MzMzMeFJAZmZmZmZqWEAAAAAAAFxeQM3MzMzMJmJAmpmZmZkfZUBmZmZmZhhoQDMzMzMzEWtAAAAAAAAKbkBmZmZmZoFwQM3MzMzM/XFAMzMzMzN6c0CamZmZmfZ0QAAAAAAAc3ZAZmZmZmbvd0DNzMzMzGt5QDMzMzMz6HpAmpmZmZlkfEAAAAAAAOF9QGZmZmZmXX9AZmZmZuZsgECamZmZGSuBQM3MzMxM6YFAAAAAAICngkAzMzMzs2WDQGZmZmbmI4RAmpmZmRnihEDNzMzMTKCFQAAAAACAXoZAMzMzM7Mch0BmZmZm5tqHQJqZmZkZmYhAzczMzExXiUAAAAAAgBWKQDMzMzOz04pAZmZmZuaRi0CamZmZGVCMQM3MzMxMDo1AAAAAAIDMjUAzMzMzs4qOQGZmZmbmSI9A\",\"dtype\":\"float64\",\"shape\":[75]}},\"selected\":{\"id\":\"1b68c4a9-d2d5-4f7a-8ed0-fe3f2695dc17\",\"type\":\"Selection\"},\"selection_policy\":{\"id\":\"375f13d3-a897-4184-b8d4-2f019774fd26\",\"type\":\"UnionRenderers\"}},\"id\":\"35d8de2b-4d7e-4bf3-9965-97142e96b9a5\",\"type\":\"ColumnDataSource\"},{\"attributes\":{\"data_source\":{\"id\":\"62de56f8-94b4-4932-9a24-356f2829de69\",\"type\":\"ColumnDataSource\"},\"glyph\":{\"id\":\"b0a00dd8-59f5-46bf-9909-c85b86ab1cc0\",\"type\":\"Triangle\"},\"hover_glyph\":null,\"muted_glyph\":null,\"nonselection_glyph\":{\"id\":\"a3c8739f-2026-4b09-87d7-c07f4b0fdccc\",\"type\":\"Triangle\"},\"selection_glyph\":null,\"view\":{\"id\":\"ea252d5e-d2fa-4509-90bc-2f11ca549426\",\"type\":\"CDSView\"}},\"id\":\"13c9ae17-9fe7-4866-8ead-23b0dc379182\",\"type\":\"GlyphRenderer\"},{\"attributes\":{\"source\":{\"id\":\"62de56f8-94b4-4932-9a24-356f2829de69\",\"type\":\"ColumnDataSource\"}},\"id\":\"ea252d5e-d2fa-4509-90bc-2f11ca549426\",\"type\":\"CDSView\"},{\"attributes\":{\"line_alpha\":0.3,\"line_color\":\"#377eb8\",\"line_width\":2,\"x\":{\"field\":\"x\"},\"y\":{\"field\":\"y\"}},\"id\":\"04e8130e-8446-4e43-a58e-85cbda8cd72e\",\"type\":\"Line\"},{\"attributes\":{\"line_alpha\":0.1,\"line_color\":\"#1f77b4\",\"line_width\":2,\"x\":{\"field\":\"x\"},\"y\":{\"field\":\"y\"}},\"id\":\"a4769333-9304-4138-88a3-b1920021811d\",\"type\":\"Line\"},{\"attributes\":{\"data_source\":{\"id\":\"35d8de2b-4d7e-4bf3-9965-97142e96b9a5\",\"type\":\"ColumnDataSource\"},\"glyph\":{\"id\":\"04e8130e-8446-4e43-a58e-85cbda8cd72e\",\"type\":\"Line\"},\"hover_glyph\":null,\"muted_glyph\":null,\"nonselection_glyph\":{\"id\":\"a4769333-9304-4138-88a3-b1920021811d\",\"type\":\"Line\"},\"selection_glyph\":null,\"view\":{\"id\":\"2c0d6132-d6fc-4872-bfa9-cc5ce61dd9c9\",\"type\":\"CDSView\"}},\"id\":\"5fbab788-bba1-457e-a616-58dc1237c4e2\",\"type\":\"GlyphRenderer\"},{\"attributes\":{\"source\":{\"id\":\"35d8de2b-4d7e-4bf3-9965-97142e96b9a5\",\"type\":\"ColumnDataSource\"}},\"id\":\"2c0d6132-d6fc-4872-bfa9-cc5ce61dd9c9\",\"type\":\"CDSView\"},{\"attributes\":{\"label\":{\"value\":\"CRD\"},\"renderers\":[{\"id\":\"3d22c2f2-9a5b-43af-b7f4-10e9a57eb539\",\"type\":\"GlyphRenderer\"},{\"id\":\"52928289-5c9c-433d-9de7-f63cf09382f7\",\"type\":\"GlyphRenderer\"}]},\"id\":\"8e633676-f979-4811-9025-18eb40f67dae\",\"type\":\"LegendItem\"},{\"attributes\":{\"active_drag\":\"auto\",\"active_inspect\":\"auto\",\"active_scroll\":\"auto\",\"active_tap\":\"auto\",\"tools\":[{\"id\":\"7bc7bf46-0172-4633-9ade-ee61f8d97dd4\",\"type\":\"PanTool\"},{\"id\":\"071ab484-3010-432b-a6f0-97521ee7dd7f\",\"type\":\"WheelZoomTool\"},{\"id\":\"f89a995c-49c1-4ce7-acc5-065d94bd6c5b\",\"type\":\"BoxZoomTool\"},{\"id\":\"933c0bc6-05f0-4337-80f4-0947a08d29e3\",\"type\":\"SaveTool\"},{\"id\":\"a51dec88-72ac-4a3e-be8b-9ce8c00eda93\",\"type\":\"ResetTool\"},{\"id\":\"2278a630-7a8b-4643-8b2f-670686548fda\",\"type\":\"HelpTool\"}]},\"id\":\"a1f64fcc-fc10-4a54-a06c-aaf5872e5ae1\",\"type\":\"Toolbar\"},{\"attributes\":{\"callback\":null,\"end\":0.10147127364682,\"start\":-0.03374468126882},\"id\":\"d8e4b264-9b46-43fa-b506-38667b035501\",\"type\":\"Range1d\"},{\"attributes\":{\"label\":{\"value\":\"WGT igg=1\"},\"renderers\":[{\"id\":\"24e8cad5-ad5d-46b3-8886-10f5d0259dfa\",\"type\":\"GlyphRenderer\"},{\"id\":\"97424f50-1fc7-4a12-aa50-ffe64a5a175b\",\"type\":\"GlyphRenderer\"}]},\"id\":\"3a076391-7069-4c88-9b35-08edd685e17c\",\"type\":\"LegendItem\"},{\"attributes\":{},\"id\":\"05dc0bf0-248b-4b2d-ad6c-5a982d9f72ef\",\"type\":\"LinearScale\"},{\"attributes\":{\"label\":{\"value\":\"WGT igg=10\"},\"renderers\":[{\"id\":\"13c9ae17-9fe7-4866-8ead-23b0dc379182\",\"type\":\"GlyphRenderer\"},{\"id\":\"5fbab788-bba1-457e-a616-58dc1237c4e2\",\"type\":\"GlyphRenderer\"}]},\"id\":\"ffdd4846-c2ba-4fe4-8ffe-c7b150917f4b\",\"type\":\"LegendItem\"},{\"attributes\":{\"plot\":{\"id\":\"d95e85d6-a69e-49dc-808d-80b952bb3ac4\",\"subtype\":\"Figure\",\"type\":\"Plot\"},\"ticker\":{\"id\":\"aa2a7163-c342-4087-ba22-e5e062c6ae10\",\"type\":\"BasicTicker\"}},\"id\":\"b4fb94e7-d561-4ad2-b4a7-dad6297ab4e9\",\"type\":\"Grid\"},{\"attributes\":{\"items\":[{\"id\":\"56acc5be-e73b-4d62-909c-0e0b866f3900\",\"type\":\"LegendItem\"},{\"id\":\"a4f5dfe5-a8f2-4285-94c7-3e47df397567\",\"type\":\"LegendItem\"},{\"id\":\"5c16655e-c555-4b1b-a3ec-2b3b0ad1a41d\",\"type\":\"LegendItem\"}],\"label_text_font_size\":{\"value\":\"8pt\"},\"location\":\"top_center\",\"orientation\":\"horizontal\",\"plot\":{\"id\":\"d95e85d6-a69e-49dc-808d-80b952bb3ac4\",\"subtype\":\"Figure\",\"type\":\"Plot\"}},\"id\":\"960d218f-f081-4ec6-afcf-4314ec5873cc\",\"type\":\"Legend\"},{\"attributes\":{},\"id\":\"472ad07a-4b1f-4365-9876-7ae17d193d96\",\"type\":\"LogScale\"},{\"attributes\":{\"axis_label\":\"cooling rate [K/day]\",\"formatter\":{\"id\":\"5716ac80-c857-45c1-9cff-5f0411a2a8ba\",\"type\":\"BasicTickFormatter\"},\"plot\":{\"id\":\"d95e85d6-a69e-49dc-808d-80b952bb3ac4\",\"subtype\":\"Figure\",\"type\":\"Plot\"},\"ticker\":{\"id\":\"aa2a7163-c342-4087-ba22-e5e062c6ae10\",\"type\":\"BasicTicker\"}},\"id\":\"b29eeae7-659d-4950-8eac-7893a4163289\",\"type\":\"LinearAxis\"},{\"attributes\":{},\"id\":\"aa2a7163-c342-4087-ba22-e5e062c6ae10\",\"type\":\"BasicTicker\"},{\"attributes\":{\"axis_label\":\"pressure [mb]\",\"formatter\":{\"id\":\"a3a230c3-b49b-42e0-ae62-d5a4eabb611e\",\"type\":\"LogTickFormatter\"},\"plot\":{\"id\":\"d95e85d6-a69e-49dc-808d-80b952bb3ac4\",\"subtype\":\"Figure\",\"type\":\"Plot\"},\"ticker\":{\"id\":\"36f2778a-b188-4a29-9395-18c0cfef46a7\",\"type\":\"LogTicker\"}},\"id\":\"c6b854e4-aae0-4c13-b53f-8e2c4c6f6124\",\"type\":\"LogAxis\"},{\"attributes\":{\"num_minor_ticks\":10},\"id\":\"36f2778a-b188-4a29-9395-18c0cfef46a7\",\"type\":\"LogTicker\"},{\"attributes\":{\"dimension\":1,\"plot\":{\"id\":\"d95e85d6-a69e-49dc-808d-80b952bb3ac4\",\"subtype\":\"Figure\",\"type\":\"Plot\"},\"ticker\":{\"id\":\"36f2778a-b188-4a29-9395-18c0cfef46a7\",\"type\":\"LogTicker\"}},\"id\":\"7519434c-16b7-4ff3-b30a-a644f0ff0273\",\"type\":\"Grid\"},{\"attributes\":{\"above\":[{\"id\":\"1262d5bf-0715-4571-8fc5-0895f1cf392c\",\"type\":\"Legend\"}],\"below\":[{\"id\":\"cff8b740-a87f-4871-97a3-de9c4e1789f5\",\"type\":\"LinearAxis\"}],\"left\":[{\"id\":\"8d99959c-93db-4f9e-99c0-88d5f368ee1f\",\"type\":\"LinearAxis\"}],\"plot_height\":500,\"plot_width\":400,\"renderers\":[{\"id\":\"cff8b740-a87f-4871-97a3-de9c4e1789f5\",\"type\":\"LinearAxis\"},{\"id\":\"336f74ee-39f0-4376-9a1d-8ff7e7b0e039\",\"type\":\"Grid\"},{\"id\":\"8d99959c-93db-4f9e-99c0-88d5f368ee1f\",\"type\":\"LinearAxis\"},{\"id\":\"437a5dc8-330c-4357-9599-e5e48cd9468e\",\"type\":\"Grid\"},{\"id\":\"24629bce-a2ed-40b7-b29b-3a0d48fa2b6b\",\"type\":\"BoxAnnotation\"},{\"id\":\"3d22c2f2-9a5b-43af-b7f4-10e9a57eb539\",\"type\":\"GlyphRenderer\"},{\"id\":\"52928289-5c9c-433d-9de7-f63cf09382f7\",\"type\":\"GlyphRenderer\"},{\"id\":\"24e8cad5-ad5d-46b3-8886-10f5d0259dfa\",\"type\":\"GlyphRenderer\"},{\"id\":\"97424f50-1fc7-4a12-aa50-ffe64a5a175b\",\"type\":\"GlyphRenderer\"},{\"id\":\"13c9ae17-9fe7-4866-8ead-23b0dc379182\",\"type\":\"GlyphRenderer\"},{\"id\":\"5fbab788-bba1-457e-a616-58dc1237c4e2\",\"type\":\"GlyphRenderer\"},{\"id\":\"1262d5bf-0715-4571-8fc5-0895f1cf392c\",\"type\":\"Legend\"}],\"title\":{\"id\":\"ad732dcc-0ab0-454a-b9bb-9739dbc2fb21\",\"type\":\"Title\"},\"toolbar\":{\"id\":\"a2b5aac7-e756-44bb-8544-67e87c45cc1a\",\"type\":\"Toolbar\"},\"toolbar_location\":null,\"x_range\":{\"id\":\"421a5b15-ed33-4387-aa7f-a16d9856315d\",\"type\":\"Range1d\"},\"x_scale\":{\"id\":\"be71a3bf-4c54-4b6b-9c3c-e52b09d6c043\",\"type\":\"LinearScale\"},\"y_range\":{\"id\":\"56b8b37e-b3a0-4d9f-b355-83a78a244433\",\"type\":\"Range1d\"},\"y_scale\":{\"id\":\"805d9c2c-6954-4a4d-b19d-52aa7cc2f3d0\",\"type\":\"LinearScale\"}},\"id\":\"810c855b-de7b-498b-89e6-2cf70fdeb1d0\",\"subtype\":\"Figure\",\"type\":\"Plot\"},{\"attributes\":{\"plot\":null,\"text\":\"\"},\"id\":\"15af520d-6f70-47d9-a9d3-a6bcc2d87b6b\",\"type\":\"Title\"},{\"attributes\":{},\"id\":\"7bc7bf46-0172-4633-9ade-ee61f8d97dd4\",\"type\":\"PanTool\"},{\"attributes\":{},\"id\":\"071ab484-3010-432b-a6f0-97521ee7dd7f\",\"type\":\"WheelZoomTool\"},{\"attributes\":{\"overlay\":{\"id\":\"e4a9f49f-9712-4ed1-9191-75dcc9d494e2\",\"type\":\"BoxAnnotation\"}},\"id\":\"f89a995c-49c1-4ce7-acc5-065d94bd6c5b\",\"type\":\"BoxZoomTool\"},{\"attributes\":{\"callback\":null,\"end\":0.01,\"start\":1020},\"id\":\"56b8b37e-b3a0-4d9f-b355-83a78a244433\",\"type\":\"Range1d\"},{\"attributes\":{\"callback\":null,\"data\":{\"x\":{\"__ndarray__\":\"1DglTU/0or+A50eN6dSiv8S/59i3jaK/Lg+X7iVBor9q4KfNkPOhvxW9lY8xp6G/AGnhw95eob/GbmU4dBehv4hnJfxq1aC/TUsySzqZoL/okb7JHmagvxajLJ5UQKC/Wh4BxOMtoL+Hg5+BsjCgv78W0IoJFZ+/Vuz52ZVmmb/vDAG5YnOOv9sj9eQu4GS/xKLusjgwiT/Or3gvgtaeP7DHtYphWKo/HHhwsAS/sz9LZ+7QJKO5PzNC6Sbc97g/0JcjdBGVsj/XpkeQV9KoP0bbC6RrgJ8/JaYf3gCdkz8oyD5guV6JP+os0GUUPoE/EMafUan3dT/EWuRMoXZkPwBmBWCjJDE/zTTPG8pOWr8X9WOa6f9wvxTBEjN52X6/A3XpZ7rzhb9m06O80seLvxA3DNvsXZG/oAOsYyDblL/T118MgYuWv/6w6EajMpa/0Iwc0Flelb/MPHWJQ2aUv691MmIEQpO/p4aJMrjskb+1w4MQjmWQvypw9e8mXI2/Hm1HMXOTib9CX2Tjz3uFv+182frfLIG/PGcTj4J8eb/FzsVoFH1wvxfzxBUZZV2/a+eo5ustQD+LiEYSEW9nPwPxayJgy3U/Jq7EynklgD9w8nvoPJ6FPy6R+MIuUos/mx27pIChkD/6UTlBE7qTP/a2okGy9JY/Pb9E7uJRmj/6XZntSs+dP5BrF6t9saA/ZX4n1eV4oj8In/yzyiWkP3Z2tPMRoaU/KvJPINjnpj9arQnNOw6oP/x0MpWALak/5Z7D92RXqj8IaKlGHperP5pUxyND96w/\",\"dtype\":\"float64\",\"shape\":[75]},\"y\":{\"__ndarray__\":\"GhExyth1ND/Sv8nbtpRIP2vylNV0PVE/aTum7souWD/At0SJ8fVgPw3Iuahxymc/MSNhhJWvcD/bTfBN02d3P2zb5nxnaoA/CD5h5MAGhz8NmeH1TyaQP+zrCsc9p5Y/LbKd76fGnz/bLW5ISEmmPww9YvTcQq8/JV2OstnstT8Er5Y7M8G+P0c+r3jqkcU/5h99k6ZBzj88bCIzFzjVP4enV8oyxN0//yH99nXg5D8qOpLLf0jtP5kqGJXUifQ/c9cS8kHP/D+/DpwzojQEQIEmwoanVwxA4lgXt9HgE0BSSZ2AJuIbQAMJih9jjiNA5q4l5INuK0AwTKYKRj0zQNv5fmq8/DpAaCJseHrtQkB/+zpwzoxKQM3MzMzMeFJAZmZmZmZqWEAAAAAAAFxeQM3MzMzMJmJAmpmZmZkfZUBmZmZmZhhoQDMzMzMzEWtAAAAAAAAKbkBmZmZmZoFwQM3MzMzM/XFAMzMzMzN6c0CamZmZmfZ0QAAAAAAAc3ZAZmZmZmbvd0DNzMzMzGt5QDMzMzMz6HpAmpmZmZlkfEAAAAAAAOF9QGZmZmZmXX9AZmZmZuZsgECamZmZGSuBQM3MzMxM6YFAAAAAAICngkAzMzMzs2WDQGZmZmbmI4RAmpmZmRnihEDNzMzMTKCFQAAAAACAXoZAMzMzM7Mch0BmZmZm5tqHQJqZmZkZmYhAzczMzExXiUAAAAAAgBWKQDMzMzOz04pAZmZmZuaRi0CamZmZGVCMQM3MzMxMDo1AAAAAAIDMjUAzMzMzs4qOQGZmZmbmSI9A\",\"dtype\":\"float64\",\"shape\":[75]}},\"selected\":{\"id\":\"8ed1c0e6-310f-4c60-9057-e3a0d1b14428\",\"type\":\"Selection\"},\"selection_policy\":{\"id\":\"bead4a7c-a658-41fe-bfb5-5dd0beaa0f53\",\"type\":\"UnionRenderers\"}},\"id\":\"d3176460-fbc8-469b-bde4-76a7d11c1cf4\",\"type\":\"ColumnDataSource\"},{\"attributes\":{},\"id\":\"1b68c4a9-d2d5-4f7a-8ed0-fe3f2695dc17\",\"type\":\"Selection\"},{\"attributes\":{},\"id\":\"dec18edd-5c7b-4382-a77b-5ab4762c70e0\",\"type\":\"UnionRenderers\"},{\"attributes\":{},\"id\":\"9b119df2-8d8d-4caa-a52c-033729a5d3e3\",\"type\":\"Selection\"},{\"attributes\":{},\"id\":\"8ed1c0e6-310f-4c60-9057-e3a0d1b14428\",\"type\":\"Selection\"},{\"attributes\":{},\"id\":\"bcd2ef8c-f01c-4d98-b807-59d525c0fcac\",\"type\":\"Selection\"},{\"attributes\":{},\"id\":\"c6fca42b-09e4-4bf8-91e8-4e4edd20ca42\",\"type\":\"Selection\"},{\"attributes\":{},\"id\":\"03390d9c-b648-45d9-aac7-f977c0ce9db6\",\"type\":\"Selection\"},{\"attributes\":{},\"id\":\"5a8e7962-3daf-4dbe-b60a-aaf0a64a22e8\",\"type\":\"Selection\"},{\"attributes\":{},\"id\":\"3849ef60-d046-40d7-8465-a034c6eb6061\",\"type\":\"UnionRenderers\"},{\"attributes\":{},\"id\":\"97adbf4f-3d34-4522-b88e-96894cb462a1\",\"type\":\"Selection\"},{\"attributes\":{},\"id\":\"c8d160ad-38f0-46da-b958-81d79db192db\",\"type\":\"UnionRenderers\"},{\"attributes\":{\"toolbar\":{\"id\":\"a38c032e-8e3b-43ff-b3c3-8b3c7edfc9d0\",\"type\":\"ProxyToolbar\"},\"toolbar_location\":\"above\"},\"id\":\"9f8e3372-31ae-4d2e-acc2-69bf125d5630\",\"type\":\"ToolbarBox\"},{\"attributes\":{},\"id\":\"f1ee5308-4ec8-4d62-98f4-a851e56cbd65\",\"type\":\"UnionRenderers\"},{\"attributes\":{},\"id\":\"cbd0a887-0b1f-4ea6-93b5-5db6d9f132df\",\"type\":\"UnionRenderers\"},{\"attributes\":{\"children\":[{\"id\":\"9f8e3372-31ae-4d2e-acc2-69bf125d5630\",\"type\":\"ToolbarBox\"},{\"id\":\"48b0b79c-5516-4eb2-b6b8-10d603faa8e4\",\"type\":\"Column\"}]},\"id\":\"a037217b-2d50-4084-9050-6d8c57b57479\",\"type\":\"Column\"},{\"attributes\":{},\"id\":\"8d536980-9128-4ab5-a880-a936050af72f\",\"type\":\"UnionRenderers\"},{\"attributes\":{\"bottom_units\":\"screen\",\"fill_alpha\":{\"value\":0.5},\"fill_color\":{\"value\":\"lightgrey\"},\"left_units\":\"screen\",\"level\":\"overlay\",\"line_alpha\":{\"value\":1.0},\"line_color\":{\"value\":\"black\"},\"line_dash\":[4,4],\"line_width\":{\"value\":2},\"plot\":null,\"render_mode\":\"css\",\"right_units\":\"screen\",\"top_units\":\"screen\"},\"id\":\"e4a9f49f-9712-4ed1-9191-75dcc9d494e2\",\"type\":\"BoxAnnotation\"},{\"attributes\":{\"tools\":[{\"id\":\"a22318a7-8be7-49b5-8825-6dabbcfa5507\",\"type\":\"PanTool\"},{\"id\":\"8a4add0c-7cdd-4505-b14c-2919ebf137e1\",\"type\":\"WheelZoomTool\"},{\"id\":\"8951076a-79d1-4324-8c45-28248afce588\",\"type\":\"BoxZoomTool\"},{\"id\":\"2eb69e6f-7aaa-4199-aea3-64876860e34e\",\"type\":\"SaveTool\"},{\"id\":\"17817f65-910c-4a9a-82d8-7b7ae97686c0\",\"type\":\"ResetTool\"},{\"id\":\"a73c605a-4fbd-479f-a494-7d787b296512\",\"type\":\"HelpTool\"},{\"id\":\"7bc7bf46-0172-4633-9ade-ee61f8d97dd4\",\"type\":\"PanTool\"},{\"id\":\"071ab484-3010-432b-a6f0-97521ee7dd7f\",\"type\":\"WheelZoomTool\"},{\"id\":\"f89a995c-49c1-4ce7-acc5-065d94bd6c5b\",\"type\":\"BoxZoomTool\"},{\"id\":\"933c0bc6-05f0-4337-80f4-0947a08d29e3\",\"type\":\"SaveTool\"},{\"id\":\"a51dec88-72ac-4a3e-be8b-9ce8c00eda93\",\"type\":\"ResetTool\"},{\"id\":\"2278a630-7a8b-4643-8b2f-670686548fda\",\"type\":\"HelpTool\"}]},\"id\":\"a38c032e-8e3b-43ff-b3c3-8b3c7edfc9d0\",\"type\":\"ProxyToolbar\"},{\"attributes\":{},\"id\":\"a51dec88-72ac-4a3e-be8b-9ce8c00eda93\",\"type\":\"ResetTool\"},{\"attributes\":{},\"id\":\"2278a630-7a8b-4643-8b2f-670686548fda\",\"type\":\"HelpTool\"},{\"attributes\":{\"fill_alpha\":{\"value\":0.1},\"fill_color\":{\"value\":\"#1f77b4\"},\"line_alpha\":{\"value\":0.1},\"line_color\":{\"value\":\"#1f77b4\"},\"x\":{\"field\":\"x\"},\"y\":{\"field\":\"y\"}},\"id\":\"0f8ba183-2f67-4aaa-9aa6-fef0ff080df7\",\"type\":\"Circle\"},{\"attributes\":{\"callback\":null,\"data\":{\"x\":{\"__ndarray__\":\"1DglTU/0or+A50eN6dSiv8S/59i3jaK/Lg+X7iVBor9q4KfNkPOhvxW9lY8xp6G/AGnhw95eob/GbmU4dBehv4hnJfxq1aC/TUsySzqZoL/okb7JHmagvxajLJ5UQKC/Wh4BxOMtoL+Hg5+BsjCgv78W0IoJFZ+/Vuz52ZVmmb/vDAG5YnOOv9sj9eQu4GS/xKLusjgwiT/Or3gvgtaeP7DHtYphWKo/HHhwsAS/sz9LZ+7QJKO5PzNC6Sbc97g/0JcjdBGVsj/XpkeQV9KoP0bbC6RrgJ8/JaYf3gCdkz8oyD5guV6JP+os0GUUPoE/EMafUan3dT/EWuRMoXZkPwBmBWCjJDE/zTTPG8pOWr8X9WOa6f9wvxTBEjN52X6/A3XpZ7rzhb9m06O80seLvxA3DNvsXZG/oAOsYyDblL/T118MgYuWv/6w6EajMpa/0Iwc0Flelb/MPHWJQ2aUv691MmIEQpO/p4aJMrjskb+1w4MQjmWQvypw9e8mXI2/Hm1HMXOTib9CX2Tjz3uFv+182frfLIG/PGcTj4J8eb/FzsVoFH1wvxfzxBUZZV2/a+eo5ustQD+LiEYSEW9nPwPxayJgy3U/Jq7EynklgD9w8nvoPJ6FPy6R+MIuUos/mx27pIChkD/6UTlBE7qTP/a2okGy9JY/Pb9E7uJRmj/6XZntSs+dP5BrF6t9saA/ZX4n1eV4oj8In/yzyiWkP3Z2tPMRoaU/KvJPINjnpj9arQnNOw6oP/x0MpWALak/5Z7D92RXqj8IaKlGHperP5pUxyND96w/\",\"dtype\":\"float64\",\"shape\":[75]},\"y\":{\"__ndarray__\":\"GhExyth1ND/Sv8nbtpRIP2vylNV0PVE/aTum7souWD/At0SJ8fVgPw3Iuahxymc/MSNhhJWvcD/bTfBN02d3P2zb5nxnaoA/CD5h5MAGhz8NmeH1TyaQP+zrCsc9p5Y/LbKd76fGnz/bLW5ISEmmPww9YvTcQq8/JV2OstnstT8Er5Y7M8G+P0c+r3jqkcU/5h99k6ZBzj88bCIzFzjVP4enV8oyxN0//yH99nXg5D8qOpLLf0jtP5kqGJXUifQ/c9cS8kHP/D+/DpwzojQEQIEmwoanVwxA4lgXt9HgE0BSSZ2AJuIbQAMJih9jjiNA5q4l5INuK0AwTKYKRj0zQNv5fmq8/DpAaCJseHrtQkB/+zpwzoxKQM3MzMzMeFJAZmZmZmZqWEAAAAAAAFxeQM3MzMzMJmJAmpmZmZkfZUBmZmZmZhhoQDMzMzMzEWtAAAAAAAAKbkBmZmZmZoFwQM3MzMzM/XFAMzMzMzN6c0CamZmZmfZ0QAAAAAAAc3ZAZmZmZmbvd0DNzMzMzGt5QDMzMzMz6HpAmpmZmZlkfEAAAAAAAOF9QGZmZmZmXX9AZmZmZuZsgECamZmZGSuBQM3MzMxM6YFAAAAAAICngkAzMzMzs2WDQGZmZmbmI4RAmpmZmRnihEDNzMzMTKCFQAAAAACAXoZAMzMzM7Mch0BmZmZm5tqHQJqZmZkZmYhAzczMzExXiUAAAAAAgBWKQDMzMzOz04pAZmZmZuaRi0CamZmZGVCMQM3MzMxMDo1AAAAAAIDMjUAzMzMzs4qOQGZmZmbmSI9A\",\"dtype\":\"float64\",\"shape\":[75]}},\"selected\":{\"id\":\"bcd32de3-4cfd-4bd4-929c-4f1fb5f24884\",\"type\":\"Selection\"},\"selection_policy\":{\"id\":\"a85a0f6d-62f4-4142-a32b-9ed6aab634fd\",\"type\":\"UnionRenderers\"}},\"id\":\"aa7dc051-dcbb-40fd-bcac-9950cb3a4bab\",\"type\":\"ColumnDataSource\"},{\"attributes\":{\"fill_alpha\":{\"value\":0.1},\"fill_color\":{\"value\":\"#1f77b4\"},\"line_alpha\":{\"value\":0.1},\"line_color\":{\"value\":\"#1f77b4\"},\"x\":{\"field\":\"x\"},\"y\":{\"field\":\"y\"}},\"id\":\"b850ef67-2754-4165-a333-752faa4530a1\",\"type\":\"Circle\"},{\"attributes\":{\"data_source\":{\"id\":\"aa7dc051-dcbb-40fd-bcac-9950cb3a4bab\",\"type\":\"ColumnDataSource\"},\"glyph\":{\"id\":\"c874302c-e0c1-48d4-a747-b53db1777ab5\",\"type\":\"Circle\"},\"hover_glyph\":null,\"muted_glyph\":null,\"nonselection_glyph\":{\"id\":\"0f8ba183-2f67-4aaa-9aa6-fef0ff080df7\",\"type\":\"Circle\"},\"selection_glyph\":null,\"view\":{\"id\":\"27256c62-39cf-4482-86ad-8715a86ae04c\",\"type\":\"CDSView\"}},\"id\":\"3d22c2f2-9a5b-43af-b7f4-10e9a57eb539\",\"type\":\"GlyphRenderer\"},{\"attributes\":{\"source\":{\"id\":\"aa7dc051-dcbb-40fd-bcac-9950cb3a4bab\",\"type\":\"ColumnDataSource\"}},\"id\":\"27256c62-39cf-4482-86ad-8715a86ae04c\",\"type\":\"CDSView\"},{\"attributes\":{\"fill_alpha\":{\"value\":0.7},\"fill_color\":{\"value\":\"#4daf4a\"},\"line_alpha\":{\"value\":0.7},\"line_color\":{\"value\":\"#4daf4a\"},\"x\":{\"field\":\"x\"},\"y\":{\"field\":\"y\"}},\"id\":\"6430c5c9-33e2-4352-aa6b-53f53a90c886\",\"type\":\"Circle\"},{\"attributes\":{\"source\":{\"id\":\"f2603445-37a2-48eb-bbed-4a40477bca6b\",\"type\":\"ColumnDataSource\"}},\"id\":\"359da004-65c8-4971-9bb0-c1fbaf203c05\",\"type\":\"CDSView\"},{\"attributes\":{\"fill_alpha\":{\"value\":0.7},\"fill_color\":{\"value\":\"#984ea3\"},\"line_alpha\":{\"value\":0.7},\"line_color\":{\"value\":\"#984ea3\"},\"x\":{\"field\":\"x\"},\"y\":{\"field\":\"y\"}},\"id\":\"96be906e-5919-4e4e-8439-0b493fd7069d\",\"type\":\"Square\"},{\"attributes\":{\"data_source\":{\"id\":\"e63cb58e-8579-4412-9fd2-14ef05f3bde5\",\"type\":\"ColumnDataSource\"},\"glyph\":{\"id\":\"96be906e-5919-4e4e-8439-0b493fd7069d\",\"type\":\"Square\"},\"hover_glyph\":null,\"muted_glyph\":null,\"nonselection_glyph\":{\"id\":\"8a786f19-84d3-47da-aaf4-52260667bfae\",\"type\":\"Square\"},\"selection_glyph\":null,\"view\":{\"id\":\"3384d7da-6271-4f54-ae43-575bee9fd151\",\"type\":\"CDSView\"}},\"id\":\"24e8cad5-ad5d-46b3-8886-10f5d0259dfa\",\"type\":\"GlyphRenderer\"},{\"attributes\":{},\"id\":\"933c0bc6-05f0-4337-80f4-0947a08d29e3\",\"type\":\"SaveTool\"},{\"attributes\":{\"data_source\":{\"id\":\"f2603445-37a2-48eb-bbed-4a40477bca6b\",\"type\":\"ColumnDataSource\"},\"glyph\":{\"id\":\"51c71096-c83c-49d9-903b-0f791ad43135\",\"type\":\"Line\"},\"hover_glyph\":null,\"muted_glyph\":null,\"nonselection_glyph\":{\"id\":\"558c6434-fcad-44ab-b51f-e946dca208ae\",\"type\":\"Line\"},\"selection_glyph\":null,\"view\":{\"id\":\"359da004-65c8-4971-9bb0-c1fbaf203c05\",\"type\":\"CDSView\"}},\"id\":\"52928289-5c9c-433d-9de7-f63cf09382f7\",\"type\":\"GlyphRenderer\"},{\"attributes\":{\"line_alpha\":0.1,\"line_color\":\"#1f77b4\",\"line_width\":1.5,\"x\":{\"field\":\"x\"},\"y\":{\"field\":\"y\"}},\"id\":\"558c6434-fcad-44ab-b51f-e946dca208ae\",\"type\":\"Line\"},{\"attributes\":{\"fill_alpha\":{\"value\":0.7},\"fill_color\":{\"value\":\"#4daf4a\"},\"line_alpha\":{\"value\":0.7},\"line_color\":{\"value\":\"#4daf4a\"},\"x\":{\"field\":\"x\"},\"y\":{\"field\":\"y\"}},\"id\":\"c874302c-e0c1-48d4-a747-b53db1777ab5\",\"type\":\"Circle\"},{\"attributes\":{},\"id\":\"17817f65-910c-4a9a-82d8-7b7ae97686c0\",\"type\":\"ResetTool\"},{\"attributes\":{\"fill_alpha\":{\"value\":0.1},\"fill_color\":{\"value\":\"#1f77b4\"},\"line_alpha\":{\"value\":0.1},\"line_color\":{\"value\":\"#1f77b4\"},\"x\":{\"field\":\"x\"},\"y\":{\"field\":\"y\"}},\"id\":\"8a786f19-84d3-47da-aaf4-52260667bfae\",\"type\":\"Square\"},{\"attributes\":{\"callback\":null,\"data\":{\"x\":{\"__ndarray__\":\"VJgSDQKwkL9WwUOoU4WQv38+mlhoKZC/oDeuiGOMj78rS/zXy8GOv+xEORgo842/7OK2xHEgjb/rWaQvS1KMv2Cqp2Poi4u/Pyy4KLLIir9m1ZnxRwKKvy9XhDzmGIm/KczSgnFHiL/m+29swYCHvz/rd/S+3IS/lFr90vH8d7+C2Y+PQ4NZPyXDVQJKaoY/5dZoqSAXlz8pS1qCAdSiPxQ/l95Rras/chpMlYwssz83igACkBC4P/bl4AI4K7g/WIcV68+8sz/DqMt8r5+tP053pCqTDKU//VRHKK9BnD95eNYPsPCRP/h+f4PZ5YQ/yDIkoAz3cj8gBuLrEhosP1uPcZic/mi/lSebdS0beL/e0Zl6VmWDv8Nn/rWvp4y/lrjkcX6ukr9RYBgxrl+Wv/BLbKMiE5q/AsGWuo9Tnb9iTihxisiev8I7UmQBWJ6/ye6hRJQ9nb/4Q3f+6dWbvxpmuxZ6Kpq/9RR5oSpBmL/aSIxD5ByWv+8+OSg6xZO/Ec+kLXdAkb/50guthyiNv5r5adionoe/uynR57j0gb+0CoY6yXV4v7PZhgqEz2m/hre8+aYoM78WaOkSU3RlP/YpVtUB8XY/v8uG4ZW3gT+2h130IBqIP4HKQRvapo4/YIg7J02tkj98eYtrARqWP1XGrrJ1nJk/BKFwdpcznT+OtT8lu2ygP7KCdglFRKI/RD6X1FQTpD9S4f9GgsWlPwkj5cBCSac/gYAonMWZqD9iUUWKy8epP/AiPux556o/N2BbWs4FrD9PhSqkAi2tP8Edk9XYYK4/\",\"dtype\":\"float64\",\"shape\":[75]},\"y\":{\"__ndarray__\":\"GhExyth1ND/Sv8nbtpRIP2vylNV0PVE/aTum7souWD/At0SJ8fVgPw3Iuahxymc/MSNhhJWvcD/bTfBN02d3P2zb5nxnaoA/CD5h5MAGhz8NmeH1TyaQP+zrCsc9p5Y/LbKd76fGnz/bLW5ISEmmPww9YvTcQq8/JV2OstnstT8Er5Y7M8G+P0c+r3jqkcU/5h99k6ZBzj88bCIzFzjVP4enV8oyxN0//yH99nXg5D8qOpLLf0jtP5kqGJXUifQ/c9cS8kHP/D+/DpwzojQEQIEmwoanVwxA4lgXt9HgE0BSSZ2AJuIbQAMJih9jjiNA5q4l5INuK0AwTKYKRj0zQNv5fmq8/DpAaCJseHrtQkB/+zpwzoxKQM3MzMzMeFJAZmZmZmZqWEAAAAAAAFxeQM3MzMzMJmJAmpmZmZkfZUBmZmZmZhhoQDMzMzMzEWtAAAAAAAAKbkBmZmZmZoFwQM3MzMzM/XFAMzMzMzN6c0CamZmZmfZ0QAAAAAAAc3ZAZmZmZmbvd0DNzMzMzGt5QDMzMzMz6HpAmpmZmZlkfEAAAAAAAOF9QGZmZmZmXX9AZmZmZuZsgECamZmZGSuBQM3MzMxM6YFAAAAAAICngkAzMzMzs2WDQGZmZmbmI4RAmpmZmRnihEDNzMzMTKCFQAAAAACAXoZAMzMzM7Mch0BmZmZm5tqHQJqZmZkZmYhAzczMzExXiUAAAAAAgBWKQDMzMzOz04pAZmZmZuaRi0CamZmZGVCMQM3MzMxMDo1AAAAAAIDMjUAzMzMzs4qOQGZmZmbmSI9A\",\"dtype\":\"float64\",\"shape\":[75]}},\"selected\":{\"id\":\"08c0235c-2dcb-45a4-9b3a-f886b0566012\",\"type\":\"Selection\"},\"selection_policy\":{\"id\":\"37c230a2-42fd-41e0-9583-843fc6b5ae18\",\"type\":\"UnionRenderers\"}},\"id\":\"e63cb58e-8579-4412-9fd2-14ef05f3bde5\",\"type\":\"ColumnDataSource\"},{\"attributes\":{\"line_color\":\"#4daf4a\",\"line_width\":1.5,\"x\":{\"field\":\"x\"},\"y\":{\"field\":\"y\"}},\"id\":\"51c71096-c83c-49d9-903b-0f791ad43135\",\"type\":\"Line\"},{\"attributes\":{\"callback\":null,\"data\":{\"x\":{\"__ndarray__\":\"1DglTU/0or+A50eN6dSiv8S/59i3jaK/Lg+X7iVBor9q4KfNkPOhvxW9lY8xp6G/AGnhw95eob/GbmU4dBehv4hnJfxq1aC/TUsySzqZoL/okb7JHmagvxajLJ5UQKC/Wh4BxOMtoL+Hg5+BsjCgv78W0IoJFZ+/Vuz52ZVmmb/vDAG5YnOOv9sj9eQu4GS/xKLusjgwiT/Or3gvgtaeP7DHtYphWKo/HHhwsAS/sz9LZ+7QJKO5PzNC6Sbc97g/0JcjdBGVsj/XpkeQV9KoP0bbC6RrgJ8/JaYf3gCdkz8oyD5guV6JP+os0GUUPoE/EMafUan3dT/EWuRMoXZkPwBmBWCjJDE/zTTPG8pOWr8X9WOa6f9wvxTBEjN52X6/A3XpZ7rzhb9m06O80seLvxA3DNvsXZG/oAOsYyDblL/T118MgYuWv/6w6EajMpa/0Iwc0Flelb/MPHWJQ2aUv691MmIEQpO/p4aJMrjskb+1w4MQjmWQvypw9e8mXI2/Hm1HMXOTib9CX2Tjz3uFv+182frfLIG/PGcTj4J8eb/FzsVoFH1wvxfzxBUZZV2/a+eo5ustQD+LiEYSEW9nPwPxayJgy3U/Jq7EynklgD9w8nvoPJ6FPy6R+MIuUos/mx27pIChkD/6UTlBE7qTP/a2okGy9JY/Pb9E7uJRmj/6XZntSs+dP5BrF6t9saA/ZX4n1eV4oj8In/yzyiWkP3Z2tPMRoaU/KvJPINjnpj9arQnNOw6oP/x0MpWALak/5Z7D92RXqj8IaKlGHperP5pUxyND96w/\",\"dtype\":\"float64\",\"shape\":[75]},\"y\":{\"__ndarray__\":\"GhExyth1ND/Sv8nbtpRIP2vylNV0PVE/aTum7souWD/At0SJ8fVgPw3Iuahxymc/MSNhhJWvcD/bTfBN02d3P2zb5nxnaoA/CD5h5MAGhz8NmeH1TyaQP+zrCsc9p5Y/LbKd76fGnz/bLW5ISEmmPww9YvTcQq8/JV2OstnstT8Er5Y7M8G+P0c+r3jqkcU/5h99k6ZBzj88bCIzFzjVP4enV8oyxN0//yH99nXg5D8qOpLLf0jtP5kqGJXUifQ/c9cS8kHP/D+/DpwzojQEQIEmwoanVwxA4lgXt9HgE0BSSZ2AJuIbQAMJih9jjiNA5q4l5INuK0AwTKYKRj0zQNv5fmq8/DpAaCJseHrtQkB/+zpwzoxKQM3MzMzMeFJAZmZmZmZqWEAAAAAAAFxeQM3MzMzMJmJAmpmZmZkfZUBmZmZmZhhoQDMzMzMzEWtAAAAAAAAKbkBmZmZmZoFwQM3MzMzM/XFAMzMzMzN6c0CamZmZmfZ0QAAAAAAAc3ZAZmZmZmbvd0DNzMzMzGt5QDMzMzMz6HpAmpmZmZlkfEAAAAAAAOF9QGZmZmZmXX9AZmZmZuZsgECamZmZGSuBQM3MzMxM6YFAAAAAAICngkAzMzMzs2WDQGZmZmbmI4RAmpmZmRnihEDNzMzMTKCFQAAAAACAXoZAMzMzM7Mch0BmZmZm5tqHQJqZmZkZmYhAzczMzExXiUAAAAAAgBWKQDMzMzOz04pAZmZmZuaRi0CamZmZGVCMQM3MzMxMDo1AAAAAAIDMjUAzMzMzs4qOQGZmZmbmSI9A\",\"dtype\":\"float64\",\"shape\":[75]}},\"selected\":{\"id\":\"f974e33c-0444-4962-bdac-ed709253eef1\",\"type\":\"Selection\"},\"selection_policy\":{\"id\":\"65424bec-12af-41d9-bcb2-0523cfe9b01a\",\"type\":\"UnionRenderers\"}},\"id\":\"f2603445-37a2-48eb-bbed-4a40477bca6b\",\"type\":\"ColumnDataSource\"}],\"root_ids\":[\"a037217b-2d50-4084-9050-6d8c57b57479\"]},\"title\":\"Bokeh Application\",\"version\":\"0.12.16\"}};\n",
       "  var render_items = [{\"docid\":\"83dfb270-1740-4363-bf2c-840c6ac31c24\",\"elementid\":\"b3ede35a-5e54-46bf-ba47-5e0d235c73e0\",\"modelid\":\"a037217b-2d50-4084-9050-6d8c57b57479\"}];\n",
       "  root.Bokeh.embed.embed_items_notebook(docs_json, render_items);\n",
       "\n",
       "  }\n",
       "  if (root.Bokeh !== undefined) {\n",
       "    embed_document(root);\n",
       "  } else {\n",
       "    var attempts = 0;\n",
       "    var timer = setInterval(function(root) {\n",
       "      if (root.Bokeh !== undefined) {\n",
       "        embed_document(root);\n",
       "        clearInterval(timer);\n",
       "      }\n",
       "      attempts++;\n",
       "      if (attempts > 100) {\n",
       "        console.log(\"Bokeh: ERROR: Unable to run BokehJS code because BokehJS library is missing\")\n",
       "        clearInterval(timer);\n",
       "      }\n",
       "    }, 10, root)\n",
       "  }\n",
       "})(window);"
      ],
      "application/vnd.bokehjs_exec.v0+json": ""
     },
     "metadata": {
      "application/vnd.bokehjs_exec.v0+json": {
       "id": "a037217b-2d50-4084-9050-6d8c57b57479"
      }
     },
     "output_type": "display_data"
    },
    {
     "data": {
      "text/markdown": [
       "*FIGURE.* Cooling rates. Summed over g."
      ],
      "text/plain": [
       "<IPython.core.display.Markdown object>"
      ]
     },
     "metadata": {},
     "output_type": "display_data"
    },
    {
     "data": {
      "text/html": [
       "<a id=\"Flux_Comparison\"></a>"
      ],
      "text/plain": [
       "<IPython.core.display.HTML object>"
      ]
     },
     "metadata": {},
     "output_type": "display_data"
    },
    {
     "data": {
      "text/markdown": [
       "# Flux Comparison"
      ],
      "text/plain": [
       "<IPython.core.display.Markdown object>"
      ]
     },
     "metadata": {},
     "output_type": "display_data"
    },
    {
     "data": {
      "text/html": [
       "<div>\n",
       "<style scoped>\n",
       "    .dataframe tbody tr th:only-of-type {\n",
       "        vertical-align: middle;\n",
       "    }\n",
       "\n",
       "    .dataframe tbody tr th {\n",
       "        vertical-align: top;\n",
       "    }\n",
       "\n",
       "    .dataframe thead th {\n",
       "        text-align: right;\n",
       "    }\n",
       "</style>\n",
       "<table border=\"1\" class=\"dataframe\">\n",
       "  <thead>\n",
       "    <tr style=\"text-align: right;\">\n",
       "      <th></th>\n",
       "      <th></th>\n",
       "      <th></th>\n",
       "      <th>flug</th>\n",
       "      <th>fldg</th>\n",
       "      <th>fnetg</th>\n",
       "    </tr>\n",
       "    <tr>\n",
       "      <th>g</th>\n",
       "      <th>pressure</th>\n",
       "      <th>level</th>\n",
       "      <th></th>\n",
       "      <th></th>\n",
       "      <th></th>\n",
       "    </tr>\n",
       "  </thead>\n",
       "  <tbody>\n",
       "    <tr>\n",
       "      <th rowspan=\"3\" valign=\"top\">1</th>\n",
       "      <th>0.000</th>\n",
       "      <th>1</th>\n",
       "      <td>-0.050558</td>\n",
       "      <td>0.000000</td>\n",
       "      <td>-0.050558</td>\n",
       "    </tr>\n",
       "    <tr>\n",
       "      <th>180.875</th>\n",
       "      <th>41</th>\n",
       "      <td>-0.051767</td>\n",
       "      <td>0.011837</td>\n",
       "      <td>-0.039930</td>\n",
       "    </tr>\n",
       "    <tr>\n",
       "      <th>1013.000</th>\n",
       "      <th>76</th>\n",
       "      <td>-0.126941</td>\n",
       "      <td>0.082993</td>\n",
       "      <td>-0.043948</td>\n",
       "    </tr>\n",
       "    <tr>\n",
       "      <th rowspan=\"3\" valign=\"top\">2</th>\n",
       "      <th>0.000</th>\n",
       "      <th>1</th>\n",
       "      <td>-0.375417</td>\n",
       "      <td>0.000000</td>\n",
       "      <td>-0.375417</td>\n",
       "    </tr>\n",
       "    <tr>\n",
       "      <th>180.875</th>\n",
       "      <th>41</th>\n",
       "      <td>-0.435717</td>\n",
       "      <td>0.049428</td>\n",
       "      <td>-0.386290</td>\n",
       "    </tr>\n",
       "    <tr>\n",
       "      <th>1013.000</th>\n",
       "      <th>76</th>\n",
       "      <td>-0.947176</td>\n",
       "      <td>0.593238</td>\n",
       "      <td>-0.353938</td>\n",
       "    </tr>\n",
       "    <tr>\n",
       "      <th rowspan=\"3\" valign=\"top\">3</th>\n",
       "      <th>0.000</th>\n",
       "      <th>1</th>\n",
       "      <td>-5.102229</td>\n",
       "      <td>0.000000</td>\n",
       "      <td>-5.102229</td>\n",
       "    </tr>\n",
       "    <tr>\n",
       "      <th>180.875</th>\n",
       "      <th>41</th>\n",
       "      <td>-5.302252</td>\n",
       "      <td>0.056123</td>\n",
       "      <td>-5.246130</td>\n",
       "    </tr>\n",
       "    <tr>\n",
       "      <th>1013.000</th>\n",
       "      <th>76</th>\n",
       "      <td>-7.117617</td>\n",
       "      <td>2.793627</td>\n",
       "      <td>-4.323989</td>\n",
       "    </tr>\n",
       "    <tr>\n",
       "      <th rowspan=\"3\" valign=\"top\">4</th>\n",
       "      <th>0.000</th>\n",
       "      <th>1</th>\n",
       "      <td>-15.344966</td>\n",
       "      <td>0.000000</td>\n",
       "      <td>-15.344966</td>\n",
       "    </tr>\n",
       "    <tr>\n",
       "      <th>180.875</th>\n",
       "      <th>41</th>\n",
       "      <td>-15.369065</td>\n",
       "      <td>0.003952</td>\n",
       "      <td>-15.365114</td>\n",
       "    </tr>\n",
       "    <tr>\n",
       "      <th>1013.000</th>\n",
       "      <th>76</th>\n",
       "      <td>-15.563441</td>\n",
       "      <td>0.407409</td>\n",
       "      <td>-15.156032</td>\n",
       "    </tr>\n",
       "  </tbody>\n",
       "</table>\n",
       "</div>"
      ],
      "text/plain": [
       "                       flug      fldg      fnetg\n",
       "g pressure level                                \n",
       "1 0.000    1      -0.050558  0.000000  -0.050558\n",
       "  180.875  41     -0.051767  0.011837  -0.039930\n",
       "  1013.000 76     -0.126941  0.082993  -0.043948\n",
       "2 0.000    1      -0.375417  0.000000  -0.375417\n",
       "  180.875  41     -0.435717  0.049428  -0.386290\n",
       "  1013.000 76     -0.947176  0.593238  -0.353938\n",
       "3 0.000    1      -5.102229  0.000000  -5.102229\n",
       "  180.875  41     -5.302252  0.056123  -5.246130\n",
       "  1013.000 76     -7.117617  2.793627  -4.323989\n",
       "4 0.000    1     -15.344966  0.000000 -15.344966\n",
       "  180.875  41    -15.369065  0.003952 -15.365114\n",
       "  1013.000 76    -15.563441  0.407409 -15.156032"
      ]
     },
     "metadata": {},
     "output_type": "display_data"
    },
    {
     "data": {
      "text/markdown": [
       "*TABLE.* Fluxes. CRD"
      ],
      "text/plain": [
       "<IPython.core.display.Markdown object>"
      ]
     },
     "metadata": {},
     "output_type": "display_data"
    },
    {
     "data": {
      "text/html": [
       "<div>\n",
       "<style scoped>\n",
       "    .dataframe tbody tr th:only-of-type {\n",
       "        vertical-align: middle;\n",
       "    }\n",
       "\n",
       "    .dataframe tbody tr th {\n",
       "        vertical-align: top;\n",
       "    }\n",
       "\n",
       "    .dataframe thead th {\n",
       "        text-align: right;\n",
       "    }\n",
       "</style>\n",
       "<table border=\"1\" class=\"dataframe\">\n",
       "  <thead>\n",
       "    <tr style=\"text-align: right;\">\n",
       "      <th></th>\n",
       "      <th></th>\n",
       "      <th></th>\n",
       "      <th>flug</th>\n",
       "      <th>fldg</th>\n",
       "      <th>fnetg</th>\n",
       "    </tr>\n",
       "    <tr>\n",
       "      <th>g</th>\n",
       "      <th>pressure</th>\n",
       "      <th>level</th>\n",
       "      <th></th>\n",
       "      <th></th>\n",
       "      <th></th>\n",
       "    </tr>\n",
       "  </thead>\n",
       "  <tbody>\n",
       "    <tr>\n",
       "      <th rowspan=\"3\" valign=\"top\">1</th>\n",
       "      <th>0.000</th>\n",
       "      <th>1</th>\n",
       "      <td>-0.035645</td>\n",
       "      <td>0.000000</td>\n",
       "      <td>-0.035645</td>\n",
       "    </tr>\n",
       "    <tr>\n",
       "      <th>180.875</th>\n",
       "      <th>41</th>\n",
       "      <td>-0.032007</td>\n",
       "      <td>0.013788</td>\n",
       "      <td>-0.018219</td>\n",
       "    </tr>\n",
       "    <tr>\n",
       "      <th>1013.000</th>\n",
       "      <th>76</th>\n",
       "      <td>-0.127435</td>\n",
       "      <td>0.096048</td>\n",
       "      <td>-0.031387</td>\n",
       "    </tr>\n",
       "    <tr>\n",
       "      <th rowspan=\"3\" valign=\"top\">2</th>\n",
       "      <th>0.000</th>\n",
       "      <th>1</th>\n",
       "      <td>-0.260373</td>\n",
       "      <td>0.000000</td>\n",
       "      <td>-0.260373</td>\n",
       "    </tr>\n",
       "    <tr>\n",
       "      <th>180.875</th>\n",
       "      <th>41</th>\n",
       "      <td>-0.393829</td>\n",
       "      <td>0.055105</td>\n",
       "      <td>-0.338724</td>\n",
       "    </tr>\n",
       "    <tr>\n",
       "      <th>1013.000</th>\n",
       "      <th>76</th>\n",
       "      <td>-0.952685</td>\n",
       "      <td>0.591037</td>\n",
       "      <td>-0.361648</td>\n",
       "    </tr>\n",
       "    <tr>\n",
       "      <th rowspan=\"3\" valign=\"top\">3</th>\n",
       "      <th>0.000</th>\n",
       "      <th>1</th>\n",
       "      <td>-4.997891</td>\n",
       "      <td>0.000000</td>\n",
       "      <td>-4.997891</td>\n",
       "    </tr>\n",
       "    <tr>\n",
       "      <th>180.875</th>\n",
       "      <th>41</th>\n",
       "      <td>-5.257640</td>\n",
       "      <td>0.050976</td>\n",
       "      <td>-5.206664</td>\n",
       "    </tr>\n",
       "    <tr>\n",
       "      <th>1013.000</th>\n",
       "      <th>76</th>\n",
       "      <td>-7.155502</td>\n",
       "      <td>2.870668</td>\n",
       "      <td>-4.284833</td>\n",
       "    </tr>\n",
       "    <tr>\n",
       "      <th rowspan=\"3\" valign=\"top\">4</th>\n",
       "      <th>0.000</th>\n",
       "      <th>1</th>\n",
       "      <td>-15.304557</td>\n",
       "      <td>0.000000</td>\n",
       "      <td>-15.304557</td>\n",
       "    </tr>\n",
       "    <tr>\n",
       "      <th>180.875</th>\n",
       "      <th>41</th>\n",
       "      <td>-15.329451</td>\n",
       "      <td>0.003681</td>\n",
       "      <td>-15.325770</td>\n",
       "    </tr>\n",
       "    <tr>\n",
       "      <th>1013.000</th>\n",
       "      <th>76</th>\n",
       "      <td>-15.519554</td>\n",
       "      <td>0.399508</td>\n",
       "      <td>-15.120046</td>\n",
       "    </tr>\n",
       "  </tbody>\n",
       "</table>\n",
       "</div>"
      ],
      "text/plain": [
       "                       flug      fldg      fnetg\n",
       "g pressure level                                \n",
       "1 0.000    1      -0.035645  0.000000  -0.035645\n",
       "  180.875  41     -0.032007  0.013788  -0.018219\n",
       "  1013.000 76     -0.127435  0.096048  -0.031387\n",
       "2 0.000    1      -0.260373  0.000000  -0.260373\n",
       "  180.875  41     -0.393829  0.055105  -0.338724\n",
       "  1013.000 76     -0.952685  0.591037  -0.361648\n",
       "3 0.000    1      -4.997891  0.000000  -4.997891\n",
       "  180.875  41     -5.257640  0.050976  -5.206664\n",
       "  1013.000 76     -7.155502  2.870668  -4.284833\n",
       "4 0.000    1     -15.304557  0.000000 -15.304557\n",
       "  180.875  41    -15.329451  0.003681 -15.325770\n",
       "  1013.000 76    -15.519554  0.399508 -15.120046"
      ]
     },
     "metadata": {},
     "output_type": "display_data"
    },
    {
     "data": {
      "text/markdown": [
       "*TABLE.* Fluxes. WGT igg=1"
      ],
      "text/plain": [
       "<IPython.core.display.Markdown object>"
      ]
     },
     "metadata": {},
     "output_type": "display_data"
    },
    {
     "data": {
      "text/html": [
       "<div>\n",
       "<style scoped>\n",
       "    .dataframe tbody tr th:only-of-type {\n",
       "        vertical-align: middle;\n",
       "    }\n",
       "\n",
       "    .dataframe tbody tr th {\n",
       "        vertical-align: top;\n",
       "    }\n",
       "\n",
       "    .dataframe thead th {\n",
       "        text-align: right;\n",
       "    }\n",
       "</style>\n",
       "<table border=\"1\" class=\"dataframe\">\n",
       "  <thead>\n",
       "    <tr style=\"text-align: right;\">\n",
       "      <th></th>\n",
       "      <th></th>\n",
       "      <th></th>\n",
       "      <th>flug</th>\n",
       "      <th>fldg</th>\n",
       "      <th>fnetg</th>\n",
       "    </tr>\n",
       "    <tr>\n",
       "      <th>g</th>\n",
       "      <th>pressure</th>\n",
       "      <th>level</th>\n",
       "      <th></th>\n",
       "      <th></th>\n",
       "      <th></th>\n",
       "    </tr>\n",
       "  </thead>\n",
       "  <tbody>\n",
       "    <tr>\n",
       "      <th rowspan=\"3\" valign=\"top\">1</th>\n",
       "      <th>0.000</th>\n",
       "      <th>1</th>\n",
       "      <td>-0.036373</td>\n",
       "      <td>0.000000</td>\n",
       "      <td>-0.036373</td>\n",
       "    </tr>\n",
       "    <tr>\n",
       "      <th>180.875</th>\n",
       "      <th>41</th>\n",
       "      <td>-0.028031</td>\n",
       "      <td>0.013557</td>\n",
       "      <td>-0.014474</td>\n",
       "    </tr>\n",
       "    <tr>\n",
       "      <th>1013.000</th>\n",
       "      <th>76</th>\n",
       "      <td>-0.127435</td>\n",
       "      <td>0.100152</td>\n",
       "      <td>-0.027283</td>\n",
       "    </tr>\n",
       "    <tr>\n",
       "      <th rowspan=\"3\" valign=\"top\">2</th>\n",
       "      <th>0.000</th>\n",
       "      <th>1</th>\n",
       "      <td>-0.236253</td>\n",
       "      <td>0.000000</td>\n",
       "      <td>-0.236253</td>\n",
       "    </tr>\n",
       "    <tr>\n",
       "      <th>180.875</th>\n",
       "      <th>41</th>\n",
       "      <td>-0.378742</td>\n",
       "      <td>0.055846</td>\n",
       "      <td>-0.322897</td>\n",
       "    </tr>\n",
       "    <tr>\n",
       "      <th>1013.000</th>\n",
       "      <th>76</th>\n",
       "      <td>-0.952685</td>\n",
       "      <td>0.603825</td>\n",
       "      <td>-0.348860</td>\n",
       "    </tr>\n",
       "    <tr>\n",
       "      <th rowspan=\"3\" valign=\"top\">3</th>\n",
       "      <th>0.000</th>\n",
       "      <th>1</th>\n",
       "      <td>-5.103872</td>\n",
       "      <td>0.000000</td>\n",
       "      <td>-5.103872</td>\n",
       "    </tr>\n",
       "    <tr>\n",
       "      <th>180.875</th>\n",
       "      <th>41</th>\n",
       "      <td>-5.360579</td>\n",
       "      <td>0.042979</td>\n",
       "      <td>-5.317600</td>\n",
       "    </tr>\n",
       "    <tr>\n",
       "      <th>1013.000</th>\n",
       "      <th>76</th>\n",
       "      <td>-7.155502</td>\n",
       "      <td>2.772383</td>\n",
       "      <td>-4.383119</td>\n",
       "    </tr>\n",
       "    <tr>\n",
       "      <th rowspan=\"3\" valign=\"top\">4</th>\n",
       "      <th>0.000</th>\n",
       "      <th>1</th>\n",
       "      <td>-15.321965</td>\n",
       "      <td>0.000000</td>\n",
       "      <td>-15.321965</td>\n",
       "    </tr>\n",
       "    <tr>\n",
       "      <th>180.875</th>\n",
       "      <th>41</th>\n",
       "      <td>-15.344951</td>\n",
       "      <td>0.003334</td>\n",
       "      <td>-15.341618</td>\n",
       "    </tr>\n",
       "    <tr>\n",
       "      <th>1013.000</th>\n",
       "      <th>76</th>\n",
       "      <td>-15.519554</td>\n",
       "      <td>0.369220</td>\n",
       "      <td>-15.150334</td>\n",
       "    </tr>\n",
       "  </tbody>\n",
       "</table>\n",
       "</div>"
      ],
      "text/plain": [
       "                       flug      fldg      fnetg\n",
       "g pressure level                                \n",
       "1 0.000    1      -0.036373  0.000000  -0.036373\n",
       "  180.875  41     -0.028031  0.013557  -0.014474\n",
       "  1013.000 76     -0.127435  0.100152  -0.027283\n",
       "2 0.000    1      -0.236253  0.000000  -0.236253\n",
       "  180.875  41     -0.378742  0.055846  -0.322897\n",
       "  1013.000 76     -0.952685  0.603825  -0.348860\n",
       "3 0.000    1      -5.103872  0.000000  -5.103872\n",
       "  180.875  41     -5.360579  0.042979  -5.317600\n",
       "  1013.000 76     -7.155502  2.772383  -4.383119\n",
       "4 0.000    1     -15.321965  0.000000 -15.321965\n",
       "  180.875  41    -15.344951  0.003334 -15.341618\n",
       "  1013.000 76    -15.519554  0.369220 -15.150334"
      ]
     },
     "metadata": {},
     "output_type": "display_data"
    },
    {
     "data": {
      "text/markdown": [
       "*TABLE.* Fluxes. WGT igg=10"
      ],
      "text/plain": [
       "<IPython.core.display.Markdown object>"
      ]
     },
     "metadata": {},
     "output_type": "display_data"
    },
    {
     "data": {
      "text/html": [
       "<div>\n",
       "<style scoped>\n",
       "    .dataframe tbody tr th:only-of-type {\n",
       "        vertical-align: middle;\n",
       "    }\n",
       "\n",
       "    .dataframe tbody tr th {\n",
       "        vertical-align: top;\n",
       "    }\n",
       "\n",
       "    .dataframe thead th {\n",
       "        text-align: right;\n",
       "    }\n",
       "</style>\n",
       "<table border=\"1\" class=\"dataframe\">\n",
       "  <thead>\n",
       "    <tr style=\"text-align: right;\">\n",
       "      <th></th>\n",
       "      <th></th>\n",
       "      <th></th>\n",
       "      <th>flug</th>\n",
       "      <th>fldg</th>\n",
       "      <th>fnetg</th>\n",
       "    </tr>\n",
       "    <tr>\n",
       "      <th>g</th>\n",
       "      <th>pressure</th>\n",
       "      <th>level</th>\n",
       "      <th></th>\n",
       "      <th></th>\n",
       "      <th></th>\n",
       "    </tr>\n",
       "  </thead>\n",
       "  <tbody>\n",
       "    <tr>\n",
       "      <th rowspan=\"3\" valign=\"top\">1</th>\n",
       "      <th>0.000</th>\n",
       "      <th>1</th>\n",
       "      <td>0.014913</td>\n",
       "      <td>0.000000</td>\n",
       "      <td>0.014913</td>\n",
       "    </tr>\n",
       "    <tr>\n",
       "      <th>180.875</th>\n",
       "      <th>41</th>\n",
       "      <td>0.019760</td>\n",
       "      <td>0.001951</td>\n",
       "      <td>0.021711</td>\n",
       "    </tr>\n",
       "    <tr>\n",
       "      <th>1013.000</th>\n",
       "      <th>76</th>\n",
       "      <td>-0.000494</td>\n",
       "      <td>0.013055</td>\n",
       "      <td>0.012561</td>\n",
       "    </tr>\n",
       "    <tr>\n",
       "      <th rowspan=\"3\" valign=\"top\">2</th>\n",
       "      <th>0.000</th>\n",
       "      <th>1</th>\n",
       "      <td>0.115044</td>\n",
       "      <td>0.000000</td>\n",
       "      <td>0.115044</td>\n",
       "    </tr>\n",
       "    <tr>\n",
       "      <th>180.875</th>\n",
       "      <th>41</th>\n",
       "      <td>0.041888</td>\n",
       "      <td>0.005677</td>\n",
       "      <td>0.047565</td>\n",
       "    </tr>\n",
       "    <tr>\n",
       "      <th>1013.000</th>\n",
       "      <th>76</th>\n",
       "      <td>-0.005509</td>\n",
       "      <td>-0.002201</td>\n",
       "      <td>-0.007710</td>\n",
       "    </tr>\n",
       "    <tr>\n",
       "      <th rowspan=\"3\" valign=\"top\">3</th>\n",
       "      <th>0.000</th>\n",
       "      <th>1</th>\n",
       "      <td>0.104338</td>\n",
       "      <td>0.000000</td>\n",
       "      <td>0.104338</td>\n",
       "    </tr>\n",
       "    <tr>\n",
       "      <th>180.875</th>\n",
       "      <th>41</th>\n",
       "      <td>0.044612</td>\n",
       "      <td>-0.005146</td>\n",
       "      <td>0.039466</td>\n",
       "    </tr>\n",
       "    <tr>\n",
       "      <th>1013.000</th>\n",
       "      <th>76</th>\n",
       "      <td>-0.037885</td>\n",
       "      <td>0.077041</td>\n",
       "      <td>0.039156</td>\n",
       "    </tr>\n",
       "    <tr>\n",
       "      <th rowspan=\"3\" valign=\"top\">4</th>\n",
       "      <th>0.000</th>\n",
       "      <th>1</th>\n",
       "      <td>0.040409</td>\n",
       "      <td>0.000000</td>\n",
       "      <td>0.040409</td>\n",
       "    </tr>\n",
       "    <tr>\n",
       "      <th>180.875</th>\n",
       "      <th>41</th>\n",
       "      <td>0.039614</td>\n",
       "      <td>-0.000270</td>\n",
       "      <td>0.039344</td>\n",
       "    </tr>\n",
       "    <tr>\n",
       "      <th>1013.000</th>\n",
       "      <th>76</th>\n",
       "      <td>0.043887</td>\n",
       "      <td>-0.007901</td>\n",
       "      <td>0.035986</td>\n",
       "    </tr>\n",
       "  </tbody>\n",
       "</table>\n",
       "</div>"
      ],
      "text/plain": [
       "                      flug      fldg     fnetg\n",
       "g pressure level                              \n",
       "1 0.000    1      0.014913  0.000000  0.014913\n",
       "  180.875  41     0.019760  0.001951  0.021711\n",
       "  1013.000 76    -0.000494  0.013055  0.012561\n",
       "2 0.000    1      0.115044  0.000000  0.115044\n",
       "  180.875  41     0.041888  0.005677  0.047565\n",
       "  1013.000 76    -0.005509 -0.002201 -0.007710\n",
       "3 0.000    1      0.104338  0.000000  0.104338\n",
       "  180.875  41     0.044612 -0.005146  0.039466\n",
       "  1013.000 76    -0.037885  0.077041  0.039156\n",
       "4 0.000    1      0.040409  0.000000  0.040409\n",
       "  180.875  41     0.039614 -0.000270  0.039344\n",
       "  1013.000 76     0.043887 -0.007901  0.035986"
      ]
     },
     "metadata": {},
     "output_type": "display_data"
    },
    {
     "data": {
      "text/markdown": [
       "*TABLE.* Fluxes. (WGT igg=1) - (CRD)"
      ],
      "text/plain": [
       "<IPython.core.display.Markdown object>"
      ]
     },
     "metadata": {},
     "output_type": "display_data"
    },
    {
     "data": {
      "text/html": [
       "<div>\n",
       "<style scoped>\n",
       "    .dataframe tbody tr th:only-of-type {\n",
       "        vertical-align: middle;\n",
       "    }\n",
       "\n",
       "    .dataframe tbody tr th {\n",
       "        vertical-align: top;\n",
       "    }\n",
       "\n",
       "    .dataframe thead th {\n",
       "        text-align: right;\n",
       "    }\n",
       "</style>\n",
       "<table border=\"1\" class=\"dataframe\">\n",
       "  <thead>\n",
       "    <tr style=\"text-align: right;\">\n",
       "      <th></th>\n",
       "      <th></th>\n",
       "      <th></th>\n",
       "      <th>flug</th>\n",
       "      <th>fldg</th>\n",
       "      <th>fnetg</th>\n",
       "    </tr>\n",
       "    <tr>\n",
       "      <th>g</th>\n",
       "      <th>pressure</th>\n",
       "      <th>level</th>\n",
       "      <th></th>\n",
       "      <th></th>\n",
       "      <th></th>\n",
       "    </tr>\n",
       "  </thead>\n",
       "  <tbody>\n",
       "    <tr>\n",
       "      <th rowspan=\"3\" valign=\"top\">1</th>\n",
       "      <th>0.000</th>\n",
       "      <th>1</th>\n",
       "      <td>0.014186</td>\n",
       "      <td>0.000000</td>\n",
       "      <td>0.014186</td>\n",
       "    </tr>\n",
       "    <tr>\n",
       "      <th>180.875</th>\n",
       "      <th>41</th>\n",
       "      <td>0.023736</td>\n",
       "      <td>0.001720</td>\n",
       "      <td>0.025456</td>\n",
       "    </tr>\n",
       "    <tr>\n",
       "      <th>1013.000</th>\n",
       "      <th>76</th>\n",
       "      <td>-0.000494</td>\n",
       "      <td>0.017159</td>\n",
       "      <td>0.016665</td>\n",
       "    </tr>\n",
       "    <tr>\n",
       "      <th rowspan=\"3\" valign=\"top\">2</th>\n",
       "      <th>0.000</th>\n",
       "      <th>1</th>\n",
       "      <td>0.139165</td>\n",
       "      <td>0.000000</td>\n",
       "      <td>0.139165</td>\n",
       "    </tr>\n",
       "    <tr>\n",
       "      <th>180.875</th>\n",
       "      <th>41</th>\n",
       "      <td>0.056975</td>\n",
       "      <td>0.006418</td>\n",
       "      <td>0.063393</td>\n",
       "    </tr>\n",
       "    <tr>\n",
       "      <th>1013.000</th>\n",
       "      <th>76</th>\n",
       "      <td>-0.005509</td>\n",
       "      <td>0.010587</td>\n",
       "      <td>0.005078</td>\n",
       "    </tr>\n",
       "    <tr>\n",
       "      <th rowspan=\"3\" valign=\"top\">3</th>\n",
       "      <th>0.000</th>\n",
       "      <th>1</th>\n",
       "      <td>-0.001644</td>\n",
       "      <td>0.000000</td>\n",
       "      <td>-0.001644</td>\n",
       "    </tr>\n",
       "    <tr>\n",
       "      <th>180.875</th>\n",
       "      <th>41</th>\n",
       "      <td>-0.058326</td>\n",
       "      <td>-0.013144</td>\n",
       "      <td>-0.071471</td>\n",
       "    </tr>\n",
       "    <tr>\n",
       "      <th>1013.000</th>\n",
       "      <th>76</th>\n",
       "      <td>-0.037885</td>\n",
       "      <td>-0.021244</td>\n",
       "      <td>-0.059129</td>\n",
       "    </tr>\n",
       "    <tr>\n",
       "      <th rowspan=\"3\" valign=\"top\">4</th>\n",
       "      <th>0.000</th>\n",
       "      <th>1</th>\n",
       "      <td>0.023001</td>\n",
       "      <td>0.000000</td>\n",
       "      <td>0.023001</td>\n",
       "    </tr>\n",
       "    <tr>\n",
       "      <th>180.875</th>\n",
       "      <th>41</th>\n",
       "      <td>0.024114</td>\n",
       "      <td>-0.000618</td>\n",
       "      <td>0.023496</td>\n",
       "    </tr>\n",
       "    <tr>\n",
       "      <th>1013.000</th>\n",
       "      <th>76</th>\n",
       "      <td>0.043887</td>\n",
       "      <td>-0.038189</td>\n",
       "      <td>0.005698</td>\n",
       "    </tr>\n",
       "  </tbody>\n",
       "</table>\n",
       "</div>"
      ],
      "text/plain": [
       "                      flug      fldg     fnetg\n",
       "g pressure level                              \n",
       "1 0.000    1      0.014186  0.000000  0.014186\n",
       "  180.875  41     0.023736  0.001720  0.025456\n",
       "  1013.000 76    -0.000494  0.017159  0.016665\n",
       "2 0.000    1      0.139165  0.000000  0.139165\n",
       "  180.875  41     0.056975  0.006418  0.063393\n",
       "  1013.000 76    -0.005509  0.010587  0.005078\n",
       "3 0.000    1     -0.001644  0.000000 -0.001644\n",
       "  180.875  41    -0.058326 -0.013144 -0.071471\n",
       "  1013.000 76    -0.037885 -0.021244 -0.059129\n",
       "4 0.000    1      0.023001  0.000000  0.023001\n",
       "  180.875  41     0.024114 -0.000618  0.023496\n",
       "  1013.000 76     0.043887 -0.038189  0.005698"
      ]
     },
     "metadata": {},
     "output_type": "display_data"
    },
    {
     "data": {
      "text/markdown": [
       "*TABLE.* Fluxes. (WGT igg=10) - (CRD)"
      ],
      "text/plain": [
       "<IPython.core.display.Markdown object>"
      ]
     },
     "metadata": {},
     "output_type": "display_data"
    },
    {
     "data": {
      "text/html": [
       "<div>\n",
       "<style scoped>\n",
       "    .dataframe tbody tr th:only-of-type {\n",
       "        vertical-align: middle;\n",
       "    }\n",
       "\n",
       "    .dataframe tbody tr th {\n",
       "        vertical-align: top;\n",
       "    }\n",
       "\n",
       "    .dataframe thead th {\n",
       "        text-align: right;\n",
       "    }\n",
       "</style>\n",
       "<table border=\"1\" class=\"dataframe\">\n",
       "  <thead>\n",
       "    <tr style=\"text-align: right;\">\n",
       "      <th></th>\n",
       "      <th></th>\n",
       "      <th>flug</th>\n",
       "      <th>fldg</th>\n",
       "      <th>fnetg</th>\n",
       "    </tr>\n",
       "    <tr>\n",
       "      <th>pressure</th>\n",
       "      <th>level</th>\n",
       "      <th></th>\n",
       "      <th></th>\n",
       "      <th></th>\n",
       "    </tr>\n",
       "  </thead>\n",
       "  <tbody>\n",
       "    <tr>\n",
       "      <th>0.000</th>\n",
       "      <th>1</th>\n",
       "      <td>-20.873170</td>\n",
       "      <td>0.000000</td>\n",
       "      <td>-20.873170</td>\n",
       "    </tr>\n",
       "    <tr>\n",
       "      <th>180.875</th>\n",
       "      <th>41</th>\n",
       "      <td>-21.158802</td>\n",
       "      <td>0.121339</td>\n",
       "      <td>-21.037463</td>\n",
       "    </tr>\n",
       "    <tr>\n",
       "      <th>1013.000</th>\n",
       "      <th>76</th>\n",
       "      <td>-23.755175</td>\n",
       "      <td>3.877268</td>\n",
       "      <td>-19.877907</td>\n",
       "    </tr>\n",
       "  </tbody>\n",
       "</table>\n",
       "</div>"
      ],
      "text/plain": [
       "                     flug      fldg      fnetg\n",
       "pressure level                                \n",
       "0.000    1     -20.873170  0.000000 -20.873170\n",
       "180.875  41    -21.158802  0.121339 -21.037463\n",
       "1013.000 76    -23.755175  3.877268 -19.877907"
      ]
     },
     "metadata": {},
     "output_type": "display_data"
    },
    {
     "data": {
      "text/markdown": [
       "*TABLE.* Fluxes. CRD"
      ],
      "text/plain": [
       "<IPython.core.display.Markdown object>"
      ]
     },
     "metadata": {},
     "output_type": "display_data"
    },
    {
     "data": {
      "text/html": [
       "<div>\n",
       "<style scoped>\n",
       "    .dataframe tbody tr th:only-of-type {\n",
       "        vertical-align: middle;\n",
       "    }\n",
       "\n",
       "    .dataframe tbody tr th {\n",
       "        vertical-align: top;\n",
       "    }\n",
       "\n",
       "    .dataframe thead th {\n",
       "        text-align: right;\n",
       "    }\n",
       "</style>\n",
       "<table border=\"1\" class=\"dataframe\">\n",
       "  <thead>\n",
       "    <tr style=\"text-align: right;\">\n",
       "      <th></th>\n",
       "      <th></th>\n",
       "      <th>flug</th>\n",
       "      <th>fldg</th>\n",
       "      <th>fnetg</th>\n",
       "    </tr>\n",
       "    <tr>\n",
       "      <th>pressure</th>\n",
       "      <th>level</th>\n",
       "      <th></th>\n",
       "      <th></th>\n",
       "      <th></th>\n",
       "    </tr>\n",
       "  </thead>\n",
       "  <tbody>\n",
       "    <tr>\n",
       "      <th>0.000</th>\n",
       "      <th>1</th>\n",
       "      <td>-20.598466</td>\n",
       "      <td>0.000000</td>\n",
       "      <td>-20.598466</td>\n",
       "    </tr>\n",
       "    <tr>\n",
       "      <th>180.875</th>\n",
       "      <th>41</th>\n",
       "      <td>-21.012928</td>\n",
       "      <td>0.123551</td>\n",
       "      <td>-20.889377</td>\n",
       "    </tr>\n",
       "    <tr>\n",
       "      <th>1013.000</th>\n",
       "      <th>76</th>\n",
       "      <td>-23.755176</td>\n",
       "      <td>3.957261</td>\n",
       "      <td>-19.797915</td>\n",
       "    </tr>\n",
       "  </tbody>\n",
       "</table>\n",
       "</div>"
      ],
      "text/plain": [
       "                     flug      fldg      fnetg\n",
       "pressure level                                \n",
       "0.000    1     -20.598466  0.000000 -20.598466\n",
       "180.875  41    -21.012928  0.123551 -20.889377\n",
       "1013.000 76    -23.755176  3.957261 -19.797915"
      ]
     },
     "metadata": {},
     "output_type": "display_data"
    },
    {
     "data": {
      "text/markdown": [
       "*TABLE.* Fluxes. WGT igg=1"
      ],
      "text/plain": [
       "<IPython.core.display.Markdown object>"
      ]
     },
     "metadata": {},
     "output_type": "display_data"
    },
    {
     "data": {
      "text/html": [
       "<div>\n",
       "<style scoped>\n",
       "    .dataframe tbody tr th:only-of-type {\n",
       "        vertical-align: middle;\n",
       "    }\n",
       "\n",
       "    .dataframe tbody tr th {\n",
       "        vertical-align: top;\n",
       "    }\n",
       "\n",
       "    .dataframe thead th {\n",
       "        text-align: right;\n",
       "    }\n",
       "</style>\n",
       "<table border=\"1\" class=\"dataframe\">\n",
       "  <thead>\n",
       "    <tr style=\"text-align: right;\">\n",
       "      <th></th>\n",
       "      <th></th>\n",
       "      <th>flug</th>\n",
       "      <th>fldg</th>\n",
       "      <th>fnetg</th>\n",
       "    </tr>\n",
       "    <tr>\n",
       "      <th>pressure</th>\n",
       "      <th>level</th>\n",
       "      <th></th>\n",
       "      <th></th>\n",
       "      <th></th>\n",
       "    </tr>\n",
       "  </thead>\n",
       "  <tbody>\n",
       "    <tr>\n",
       "      <th>0.000</th>\n",
       "      <th>1</th>\n",
       "      <td>-20.698463</td>\n",
       "      <td>0.000000</td>\n",
       "      <td>-20.698463</td>\n",
       "    </tr>\n",
       "    <tr>\n",
       "      <th>180.875</th>\n",
       "      <th>41</th>\n",
       "      <td>-21.112304</td>\n",
       "      <td>0.115715</td>\n",
       "      <td>-20.996589</td>\n",
       "    </tr>\n",
       "    <tr>\n",
       "      <th>1013.000</th>\n",
       "      <th>76</th>\n",
       "      <td>-23.755176</td>\n",
       "      <td>3.845580</td>\n",
       "      <td>-19.909595</td>\n",
       "    </tr>\n",
       "  </tbody>\n",
       "</table>\n",
       "</div>"
      ],
      "text/plain": [
       "                     flug      fldg      fnetg\n",
       "pressure level                                \n",
       "0.000    1     -20.698463  0.000000 -20.698463\n",
       "180.875  41    -21.112304  0.115715 -20.996589\n",
       "1013.000 76    -23.755176  3.845580 -19.909595"
      ]
     },
     "metadata": {},
     "output_type": "display_data"
    },
    {
     "data": {
      "text/markdown": [
       "*TABLE.* Fluxes. WGT igg=10"
      ],
      "text/plain": [
       "<IPython.core.display.Markdown object>"
      ]
     },
     "metadata": {},
     "output_type": "display_data"
    },
    {
     "data": {
      "text/html": [
       "<div>\n",
       "<style scoped>\n",
       "    .dataframe tbody tr th:only-of-type {\n",
       "        vertical-align: middle;\n",
       "    }\n",
       "\n",
       "    .dataframe tbody tr th {\n",
       "        vertical-align: top;\n",
       "    }\n",
       "\n",
       "    .dataframe thead th {\n",
       "        text-align: right;\n",
       "    }\n",
       "</style>\n",
       "<table border=\"1\" class=\"dataframe\">\n",
       "  <thead>\n",
       "    <tr style=\"text-align: right;\">\n",
       "      <th></th>\n",
       "      <th></th>\n",
       "      <th>flug</th>\n",
       "      <th>fldg</th>\n",
       "      <th>fnetg</th>\n",
       "    </tr>\n",
       "    <tr>\n",
       "      <th>pressure</th>\n",
       "      <th>level</th>\n",
       "      <th></th>\n",
       "      <th></th>\n",
       "      <th></th>\n",
       "    </tr>\n",
       "  </thead>\n",
       "  <tbody>\n",
       "    <tr>\n",
       "      <th>0.000</th>\n",
       "      <th>1</th>\n",
       "      <td>2.747043e-01</td>\n",
       "      <td>0.000000</td>\n",
       "      <td>0.274704</td>\n",
       "    </tr>\n",
       "    <tr>\n",
       "      <th>180.875</th>\n",
       "      <th>41</th>\n",
       "      <td>1.458738e-01</td>\n",
       "      <td>0.002212</td>\n",
       "      <td>0.148086</td>\n",
       "    </tr>\n",
       "    <tr>\n",
       "      <th>1013.000</th>\n",
       "      <th>76</th>\n",
       "      <td>-6.800000e-07</td>\n",
       "      <td>0.079994</td>\n",
       "      <td>0.079993</td>\n",
       "    </tr>\n",
       "  </tbody>\n",
       "</table>\n",
       "</div>"
      ],
      "text/plain": [
       "                        flug      fldg     fnetg\n",
       "pressure level                                  \n",
       "0.000    1      2.747043e-01  0.000000  0.274704\n",
       "180.875  41     1.458738e-01  0.002212  0.148086\n",
       "1013.000 76    -6.800000e-07  0.079994  0.079993"
      ]
     },
     "metadata": {},
     "output_type": "display_data"
    },
    {
     "data": {
      "text/markdown": [
       "*TABLE.* Fluxes. (WGT igg=1) - (CRD)"
      ],
      "text/plain": [
       "<IPython.core.display.Markdown object>"
      ]
     },
     "metadata": {},
     "output_type": "display_data"
    },
    {
     "data": {
      "text/html": [
       "<div>\n",
       "<style scoped>\n",
       "    .dataframe tbody tr th:only-of-type {\n",
       "        vertical-align: middle;\n",
       "    }\n",
       "\n",
       "    .dataframe tbody tr th {\n",
       "        vertical-align: top;\n",
       "    }\n",
       "\n",
       "    .dataframe thead th {\n",
       "        text-align: right;\n",
       "    }\n",
       "</style>\n",
       "<table border=\"1\" class=\"dataframe\">\n",
       "  <thead>\n",
       "    <tr style=\"text-align: right;\">\n",
       "      <th></th>\n",
       "      <th></th>\n",
       "      <th>flug</th>\n",
       "      <th>fldg</th>\n",
       "      <th>fnetg</th>\n",
       "    </tr>\n",
       "    <tr>\n",
       "      <th>pressure</th>\n",
       "      <th>level</th>\n",
       "      <th></th>\n",
       "      <th></th>\n",
       "      <th></th>\n",
       "    </tr>\n",
       "  </thead>\n",
       "  <tbody>\n",
       "    <tr>\n",
       "      <th>0.000</th>\n",
       "      <th>1</th>\n",
       "      <td>1.747076e-01</td>\n",
       "      <td>0.000000</td>\n",
       "      <td>0.174708</td>\n",
       "    </tr>\n",
       "    <tr>\n",
       "      <th>180.875</th>\n",
       "      <th>41</th>\n",
       "      <td>4.649830e-02</td>\n",
       "      <td>-0.005624</td>\n",
       "      <td>0.040874</td>\n",
       "    </tr>\n",
       "    <tr>\n",
       "      <th>1013.000</th>\n",
       "      <th>76</th>\n",
       "      <td>-6.800000e-07</td>\n",
       "      <td>-0.031688</td>\n",
       "      <td>-0.031688</td>\n",
       "    </tr>\n",
       "  </tbody>\n",
       "</table>\n",
       "</div>"
      ],
      "text/plain": [
       "                        flug      fldg     fnetg\n",
       "pressure level                                  \n",
       "0.000    1      1.747076e-01  0.000000  0.174708\n",
       "180.875  41     4.649830e-02 -0.005624  0.040874\n",
       "1013.000 76    -6.800000e-07 -0.031688 -0.031688"
      ]
     },
     "metadata": {},
     "output_type": "display_data"
    },
    {
     "data": {
      "text/markdown": [
       "*TABLE.* Fluxes. (WGT igg=10) - (CRD)"
      ],
      "text/plain": [
       "<IPython.core.display.Markdown object>"
      ]
     },
     "metadata": {},
     "output_type": "display_data"
    },
    {
     "data": {
      "text/html": [
       "<a id=\"g-interval_Summary\"></a>"
      ],
      "text/plain": [
       "<IPython.core.display.HTML object>"
      ]
     },
     "metadata": {},
     "output_type": "display_data"
    },
    {
     "data": {
      "text/markdown": [
       "# g-interval Summary"
      ],
      "text/plain": [
       "<IPython.core.display.Markdown object>"
      ]
     },
     "metadata": {},
     "output_type": "display_data"
    },
    {
     "data": {
      "text/html": [
       "<div>\n",
       "<style scoped>\n",
       "    .dataframe tbody tr th:only-of-type {\n",
       "        vertical-align: middle;\n",
       "    }\n",
       "\n",
       "    .dataframe tbody tr th {\n",
       "        vertical-align: top;\n",
       "    }\n",
       "\n",
       "    .dataframe thead th {\n",
       "        text-align: right;\n",
       "    }\n",
       "</style>\n",
       "<table border=\"1\" class=\"dataframe\">\n",
       "  <thead>\n",
       "    <tr style=\"text-align: right;\">\n",
       "      <th></th>\n",
       "      <th>abscom</th>\n",
       "      <th>k(ig) / k(ig - 1)</th>\n",
       "      <th>dg</th>\n",
       "      <th>dgs</th>\n",
       "      <th>dg cumsum</th>\n",
       "      <th>dgs cumsum</th>\n",
       "      <th>pref</th>\n",
       "    </tr>\n",
       "    <tr>\n",
       "      <th>g</th>\n",
       "      <th></th>\n",
       "      <th></th>\n",
       "      <th></th>\n",
       "      <th></th>\n",
       "      <th></th>\n",
       "      <th></th>\n",
       "      <th></th>\n",
       "    </tr>\n",
       "  </thead>\n",
       "  <tbody>\n",
       "    <tr>\n",
       "      <th>1</th>\n",
       "      <td>6.376210e-19</td>\n",
       "      <td>NaN</td>\n",
       "      <td>0.005230</td>\n",
       "      <td>0.005365</td>\n",
       "      <td>0.005230</td>\n",
       "      <td>0.005365</td>\n",
       "      <td>1.0</td>\n",
       "    </tr>\n",
       "    <tr>\n",
       "      <th>2</th>\n",
       "      <td>5.353590e-21</td>\n",
       "      <td>8.396195e-03</td>\n",
       "      <td>0.038788</td>\n",
       "      <td>0.040104</td>\n",
       "      <td>0.044018</td>\n",
       "      <td>0.045469</td>\n",
       "      <td>1.0</td>\n",
       "    </tr>\n",
       "    <tr>\n",
       "      <th>3</th>\n",
       "      <td>2.220488e-20</td>\n",
       "      <td>4.147661e+00</td>\n",
       "      <td>0.291909</td>\n",
       "      <td>0.301219</td>\n",
       "      <td>0.335927</td>\n",
       "      <td>0.346687</td>\n",
       "      <td>500.0</td>\n",
       "    </tr>\n",
       "    <tr>\n",
       "      <th>4</th>\n",
       "      <td>2.163830e-26</td>\n",
       "      <td>9.744839e-07</td>\n",
       "      <td>0.664073</td>\n",
       "      <td>0.653313</td>\n",
       "      <td>1.000000</td>\n",
       "      <td>1.000000</td>\n",
       "      <td>500.0</td>\n",
       "    </tr>\n",
       "  </tbody>\n",
       "</table>\n",
       "</div>"
      ],
      "text/plain": [
       "         abscom  k(ig) / k(ig - 1)        dg       dgs  dg cumsum  dgs cumsum  \\\n",
       "g                                                                               \n",
       "1  6.376210e-19                NaN  0.005230  0.005365   0.005230    0.005365   \n",
       "2  5.353590e-21       8.396195e-03  0.038788  0.040104   0.044018    0.045469   \n",
       "3  2.220488e-20       4.147661e+00  0.291909  0.301219   0.335927    0.346687   \n",
       "4  2.163830e-26       9.744839e-07  0.664073  0.653313   1.000000    1.000000   \n",
       "\n",
       "    pref  \n",
       "g         \n",
       "1    1.0  \n",
       "2    1.0  \n",
       "3  500.0  \n",
       "4  500.0  "
      ]
     },
     "metadata": {},
     "output_type": "display_data"
    },
    {
     "data": {
      "text/markdown": [
       "TABLE. g-interval summary.  *abscom* is the lower bound of the g-interval."
      ],
      "text/plain": [
       "<IPython.core.display.Markdown object>"
      ]
     },
     "metadata": {},
     "output_type": "display_data"
    },
    {
     "data": {
      "text/html": [
       "<a id=\"Download_Data\"></a>"
      ],
      "text/plain": [
       "<IPython.core.display.HTML object>"
      ]
     },
     "metadata": {},
     "output_type": "display_data"
    },
    {
     "data": {
      "text/markdown": [
       "# Download Data"
      ],
      "text/plain": [
       "<IPython.core.display.Markdown object>"
      ]
     },
     "metadata": {},
     "output_type": "display_data"
    },
    {
     "data": {
      "text/html": [
       "Download: <a href=\"./lblnew-bestfit_flux.xlsx\">lblnew-bestfit_flux.xlsx</a>"
      ],
      "text/plain": [
       "<IPython.core.display.HTML object>"
      ]
     },
     "metadata": {},
     "output_type": "display_data"
    },
    {
     "data": {
      "text/html": [
       "Download: <a href=\"./lblnew-bestfit_cool.xlsx\">lblnew-bestfit_cool.xlsx</a>"
      ],
      "text/plain": [
       "<IPython.core.display.HTML object>"
      ]
     },
     "metadata": {},
     "output_type": "display_data"
    }
   ],
   "source": [
    "script()"
   ]
  },
  {
   "cell_type": "code",
   "execution_count": 14,
   "metadata": {},
   "outputs": [
    {
     "data": {
      "text/html": [
       "<script>\n",
       "code_show=true; \n",
       "function code_toggle() {\n",
       " if (code_show){\n",
       " $('div.input').hide();\n",
       " } else {\n",
       " $('div.input').show();\n",
       " }\n",
       " code_show = !code_show\n",
       "} \n",
       "$( document ).ready(code_toggle);\n",
       "</script>\n",
       "<form action=\"javascript:code_toggle()\"><input type=\"submit\" value=\"Click here to toggle on/off the raw code.\"></form>"
      ],
      "text/plain": [
       "<IPython.core.display.HTML object>"
      ]
     },
     "execution_count": 14,
     "metadata": {},
     "output_type": "execute_result"
    }
   ],
   "source": [
    "display.HTML('''<script>\n",
    "code_show=true; \n",
    "function code_toggle() {\n",
    " if (code_show){\n",
    " $('div.input').hide();\n",
    " } else {\n",
    " $('div.input').show();\n",
    " }\n",
    " code_show = !code_show\n",
    "} \n",
    "$( document ).ready(code_toggle);\n",
    "</script>\n",
    "<form action=\"javascript:code_toggle()\"><input type=\"submit\" value=\"Click here to toggle on/off the raw code.\"></form>''')"
   ]
  },
  {
   "cell_type": "code",
   "execution_count": 15,
   "metadata": {
    "collapsed": true
   },
   "outputs": [],
   "source": []
  }
 ],
 "metadata": {
  "kernelspec": {
   "display_name": "Python 3",
   "language": "python",
   "name": "python3"
  },
  "language_info": {
   "codemirror_mode": {
    "name": "ipython",
    "version": 3
   },
   "file_extension": ".py",
   "mimetype": "text/x-python",
   "name": "python",
   "nbconvert_exporter": "python",
   "pygments_lexer": "ipython3",
   "version": "3.6.1"
  }
 },
 "nbformat": 4,
 "nbformat_minor": 2
}
