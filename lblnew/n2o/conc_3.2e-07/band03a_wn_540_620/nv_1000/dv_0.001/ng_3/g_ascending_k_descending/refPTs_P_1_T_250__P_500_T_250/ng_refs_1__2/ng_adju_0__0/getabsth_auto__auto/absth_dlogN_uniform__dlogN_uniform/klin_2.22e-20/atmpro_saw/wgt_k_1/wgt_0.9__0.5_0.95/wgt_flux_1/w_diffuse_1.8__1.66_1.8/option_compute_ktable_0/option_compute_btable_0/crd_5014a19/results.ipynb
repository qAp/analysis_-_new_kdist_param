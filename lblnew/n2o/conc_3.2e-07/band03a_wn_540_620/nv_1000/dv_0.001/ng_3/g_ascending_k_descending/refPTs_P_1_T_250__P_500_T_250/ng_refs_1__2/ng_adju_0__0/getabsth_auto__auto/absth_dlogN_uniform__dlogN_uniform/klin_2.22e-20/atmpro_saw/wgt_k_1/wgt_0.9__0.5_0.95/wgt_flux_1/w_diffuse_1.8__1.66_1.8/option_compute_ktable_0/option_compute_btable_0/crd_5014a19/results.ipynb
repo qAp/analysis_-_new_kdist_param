{
 "cells": [
  {
   "cell_type": "code",
   "execution_count": 1,
   "metadata": {
    "collapsed": true
   },
   "outputs": [],
   "source": [
    "%reload_ext autoreload\n",
    "%autoreload 2\n",
    "%matplotlib inline"
   ]
  },
  {
   "cell_type": "code",
   "execution_count": 2,
   "metadata": {
    "collapsed": true
   },
   "outputs": [],
   "source": [
    "import io\n",
    "\n",
    "import numpy as np\n",
    "import pymongo\n",
    "\n",
    "from bokeh.io import output_notebook, show\n",
    "from bokeh.palettes import all_palettes\n",
    "from bokeh.layouts import gridplot\n",
    "\n",
    "from IPython import display\n",
    "\n",
    "from climatools.cliradlw.dataset import load_output_file\n",
    "import climatools.html.html as climahtml\n",
    "from climatools.plot.plot import *"
   ]
  },
  {
   "cell_type": "code",
   "execution_count": 3,
   "metadata": {},
   "outputs": [
    {
     "data": {
      "text/html": [
       "\n",
       "    <div class=\"bk-root\">\n",
       "        <a href=\"https://bokeh.pydata.org\" target=\"_blank\" class=\"bk-logo bk-logo-small bk-logo-notebook\"></a>\n",
       "        <span id=\"e2bcc24f-69b3-4132-a75f-fb0b33d12eff\">Loading BokehJS ...</span>\n",
       "    </div>"
      ]
     },
     "metadata": {},
     "output_type": "display_data"
    },
    {
     "data": {
      "application/javascript": [
       "\n",
       "(function(root) {\n",
       "  function now() {\n",
       "    return new Date();\n",
       "  }\n",
       "\n",
       "  var force = true;\n",
       "\n",
       "  if (typeof (root._bokeh_onload_callbacks) === \"undefined\" || force === true) {\n",
       "    root._bokeh_onload_callbacks = [];\n",
       "    root._bokeh_is_loading = undefined;\n",
       "  }\n",
       "\n",
       "  var JS_MIME_TYPE = 'application/javascript';\n",
       "  var HTML_MIME_TYPE = 'text/html';\n",
       "  var EXEC_MIME_TYPE = 'application/vnd.bokehjs_exec.v0+json';\n",
       "  var CLASS_NAME = 'output_bokeh rendered_html';\n",
       "\n",
       "  /**\n",
       "   * Render data to the DOM node\n",
       "   */\n",
       "  function render(props, node) {\n",
       "    var script = document.createElement(\"script\");\n",
       "    node.appendChild(script);\n",
       "  }\n",
       "\n",
       "  /**\n",
       "   * Handle when an output is cleared or removed\n",
       "   */\n",
       "  function handleClearOutput(event, handle) {\n",
       "    var cell = handle.cell;\n",
       "\n",
       "    var id = cell.output_area._bokeh_element_id;\n",
       "    var server_id = cell.output_area._bokeh_server_id;\n",
       "    // Clean up Bokeh references\n",
       "    if (id !== undefined) {\n",
       "      Bokeh.index[id].model.document.clear();\n",
       "      delete Bokeh.index[id];\n",
       "    }\n",
       "\n",
       "    if (server_id !== undefined) {\n",
       "      // Clean up Bokeh references\n",
       "      var cmd = \"from bokeh.io.state import curstate; print(curstate().uuid_to_server['\" + server_id + \"'].get_sessions()[0].document.roots[0]._id)\";\n",
       "      cell.notebook.kernel.execute(cmd, {\n",
       "        iopub: {\n",
       "          output: function(msg) {\n",
       "            var element_id = msg.content.text.trim();\n",
       "            Bokeh.index[element_id].model.document.clear();\n",
       "            delete Bokeh.index[element_id];\n",
       "          }\n",
       "        }\n",
       "      });\n",
       "      // Destroy server and session\n",
       "      var cmd = \"import bokeh.io.notebook as ion; ion.destroy_server('\" + server_id + \"')\";\n",
       "      cell.notebook.kernel.execute(cmd);\n",
       "    }\n",
       "  }\n",
       "\n",
       "  /**\n",
       "   * Handle when a new output is added\n",
       "   */\n",
       "  function handleAddOutput(event, handle) {\n",
       "    var output_area = handle.output_area;\n",
       "    var output = handle.output;\n",
       "\n",
       "    // limit handleAddOutput to display_data with EXEC_MIME_TYPE content only\n",
       "    if ((output.output_type != \"display_data\") || (!output.data.hasOwnProperty(EXEC_MIME_TYPE))) {\n",
       "      return\n",
       "    }\n",
       "\n",
       "    var toinsert = output_area.element.find(\".\" + CLASS_NAME.split(' ')[0]);\n",
       "\n",
       "    if (output.metadata[EXEC_MIME_TYPE][\"id\"] !== undefined) {\n",
       "      toinsert[toinsert.length - 1].firstChild.textContent = output.data[JS_MIME_TYPE];\n",
       "      // store reference to embed id on output_area\n",
       "      output_area._bokeh_element_id = output.metadata[EXEC_MIME_TYPE][\"id\"];\n",
       "    }\n",
       "    if (output.metadata[EXEC_MIME_TYPE][\"server_id\"] !== undefined) {\n",
       "      var bk_div = document.createElement(\"div\");\n",
       "      bk_div.innerHTML = output.data[HTML_MIME_TYPE];\n",
       "      var script_attrs = bk_div.children[0].attributes;\n",
       "      for (var i = 0; i < script_attrs.length; i++) {\n",
       "        toinsert[toinsert.length - 1].firstChild.setAttribute(script_attrs[i].name, script_attrs[i].value);\n",
       "      }\n",
       "      // store reference to server id on output_area\n",
       "      output_area._bokeh_server_id = output.metadata[EXEC_MIME_TYPE][\"server_id\"];\n",
       "    }\n",
       "  }\n",
       "\n",
       "  function register_renderer(events, OutputArea) {\n",
       "\n",
       "    function append_mime(data, metadata, element) {\n",
       "      // create a DOM node to render to\n",
       "      var toinsert = this.create_output_subarea(\n",
       "        metadata,\n",
       "        CLASS_NAME,\n",
       "        EXEC_MIME_TYPE\n",
       "      );\n",
       "      this.keyboard_manager.register_events(toinsert);\n",
       "      // Render to node\n",
       "      var props = {data: data, metadata: metadata[EXEC_MIME_TYPE]};\n",
       "      render(props, toinsert[toinsert.length - 1]);\n",
       "      element.append(toinsert);\n",
       "      return toinsert\n",
       "    }\n",
       "\n",
       "    /* Handle when an output is cleared or removed */\n",
       "    events.on('clear_output.CodeCell', handleClearOutput);\n",
       "    events.on('delete.Cell', handleClearOutput);\n",
       "\n",
       "    /* Handle when a new output is added */\n",
       "    events.on('output_added.OutputArea', handleAddOutput);\n",
       "\n",
       "    /**\n",
       "     * Register the mime type and append_mime function with output_area\n",
       "     */\n",
       "    OutputArea.prototype.register_mime_type(EXEC_MIME_TYPE, append_mime, {\n",
       "      /* Is output safe? */\n",
       "      safe: true,\n",
       "      /* Index of renderer in `output_area.display_order` */\n",
       "      index: 0\n",
       "    });\n",
       "  }\n",
       "\n",
       "  // register the mime type if in Jupyter Notebook environment and previously unregistered\n",
       "  if (root.Jupyter !== undefined) {\n",
       "    var events = require('base/js/events');\n",
       "    var OutputArea = require('notebook/js/outputarea').OutputArea;\n",
       "\n",
       "    if (OutputArea.prototype.mime_types().indexOf(EXEC_MIME_TYPE) == -1) {\n",
       "      register_renderer(events, OutputArea);\n",
       "    }\n",
       "  }\n",
       "\n",
       "  \n",
       "  if (typeof (root._bokeh_timeout) === \"undefined\" || force === true) {\n",
       "    root._bokeh_timeout = Date.now() + 5000;\n",
       "    root._bokeh_failed_load = false;\n",
       "  }\n",
       "\n",
       "  var NB_LOAD_WARNING = {'data': {'text/html':\n",
       "     \"<div style='background-color: #fdd'>\\n\"+\n",
       "     \"<p>\\n\"+\n",
       "     \"BokehJS does not appear to have successfully loaded. If loading BokehJS from CDN, this \\n\"+\n",
       "     \"may be due to a slow or bad network connection. Possible fixes:\\n\"+\n",
       "     \"</p>\\n\"+\n",
       "     \"<ul>\\n\"+\n",
       "     \"<li>re-rerun `output_notebook()` to attempt to load from CDN again, or</li>\\n\"+\n",
       "     \"<li>use INLINE resources instead, as so:</li>\\n\"+\n",
       "     \"</ul>\\n\"+\n",
       "     \"<code>\\n\"+\n",
       "     \"from bokeh.resources import INLINE\\n\"+\n",
       "     \"output_notebook(resources=INLINE)\\n\"+\n",
       "     \"</code>\\n\"+\n",
       "     \"</div>\"}};\n",
       "\n",
       "  function display_loaded() {\n",
       "    var el = document.getElementById(\"e2bcc24f-69b3-4132-a75f-fb0b33d12eff\");\n",
       "    if (el != null) {\n",
       "      el.textContent = \"BokehJS is loading...\";\n",
       "    }\n",
       "    if (root.Bokeh !== undefined) {\n",
       "      if (el != null) {\n",
       "        el.textContent = \"BokehJS \" + root.Bokeh.version + \" successfully loaded.\";\n",
       "      }\n",
       "    } else if (Date.now() < root._bokeh_timeout) {\n",
       "      setTimeout(display_loaded, 100)\n",
       "    }\n",
       "  }\n",
       "\n",
       "\n",
       "  function run_callbacks() {\n",
       "    try {\n",
       "      root._bokeh_onload_callbacks.forEach(function(callback) { callback() });\n",
       "    }\n",
       "    finally {\n",
       "      delete root._bokeh_onload_callbacks\n",
       "    }\n",
       "    console.info(\"Bokeh: all callbacks have finished\");\n",
       "  }\n",
       "\n",
       "  function load_libs(js_urls, callback) {\n",
       "    root._bokeh_onload_callbacks.push(callback);\n",
       "    if (root._bokeh_is_loading > 0) {\n",
       "      console.log(\"Bokeh: BokehJS is being loaded, scheduling callback at\", now());\n",
       "      return null;\n",
       "    }\n",
       "    if (js_urls == null || js_urls.length === 0) {\n",
       "      run_callbacks();\n",
       "      return null;\n",
       "    }\n",
       "    console.log(\"Bokeh: BokehJS not loaded, scheduling load and callback at\", now());\n",
       "    root._bokeh_is_loading = js_urls.length;\n",
       "    for (var i = 0; i < js_urls.length; i++) {\n",
       "      var url = js_urls[i];\n",
       "      var s = document.createElement('script');\n",
       "      s.src = url;\n",
       "      s.async = false;\n",
       "      s.onreadystatechange = s.onload = function() {\n",
       "        root._bokeh_is_loading--;\n",
       "        if (root._bokeh_is_loading === 0) {\n",
       "          console.log(\"Bokeh: all BokehJS libraries loaded\");\n",
       "          run_callbacks()\n",
       "        }\n",
       "      };\n",
       "      s.onerror = function() {\n",
       "        console.warn(\"failed to load library \" + url);\n",
       "      };\n",
       "      console.log(\"Bokeh: injecting script tag for BokehJS library: \", url);\n",
       "      document.getElementsByTagName(\"head\")[0].appendChild(s);\n",
       "    }\n",
       "  };var element = document.getElementById(\"e2bcc24f-69b3-4132-a75f-fb0b33d12eff\");\n",
       "  if (element == null) {\n",
       "    console.log(\"Bokeh: ERROR: autoload.js configured with elementid 'e2bcc24f-69b3-4132-a75f-fb0b33d12eff' but no matching script tag was found. \")\n",
       "    return false;\n",
       "  }\n",
       "\n",
       "  var js_urls = [\"https://cdn.pydata.org/bokeh/release/bokeh-0.12.16.min.js\", \"https://cdn.pydata.org/bokeh/release/bokeh-widgets-0.12.16.min.js\", \"https://cdn.pydata.org/bokeh/release/bokeh-tables-0.12.16.min.js\", \"https://cdn.pydata.org/bokeh/release/bokeh-gl-0.12.16.min.js\"];\n",
       "\n",
       "  var inline_js = [\n",
       "    function(Bokeh) {\n",
       "      Bokeh.set_log_level(\"info\");\n",
       "    },\n",
       "    \n",
       "    function(Bokeh) {\n",
       "      \n",
       "    },\n",
       "    function(Bokeh) {\n",
       "      console.log(\"Bokeh: injecting CSS: https://cdn.pydata.org/bokeh/release/bokeh-0.12.16.min.css\");\n",
       "      Bokeh.embed.inject_css(\"https://cdn.pydata.org/bokeh/release/bokeh-0.12.16.min.css\");\n",
       "      console.log(\"Bokeh: injecting CSS: https://cdn.pydata.org/bokeh/release/bokeh-widgets-0.12.16.min.css\");\n",
       "      Bokeh.embed.inject_css(\"https://cdn.pydata.org/bokeh/release/bokeh-widgets-0.12.16.min.css\");\n",
       "      console.log(\"Bokeh: injecting CSS: https://cdn.pydata.org/bokeh/release/bokeh-tables-0.12.16.min.css\");\n",
       "      Bokeh.embed.inject_css(\"https://cdn.pydata.org/bokeh/release/bokeh-tables-0.12.16.min.css\");\n",
       "    }\n",
       "  ];\n",
       "\n",
       "  function run_inline_js() {\n",
       "    \n",
       "    if ((root.Bokeh !== undefined) || (force === true)) {\n",
       "      for (var i = 0; i < inline_js.length; i++) {\n",
       "        inline_js[i].call(root, root.Bokeh);\n",
       "      }if (force === true) {\n",
       "        display_loaded();\n",
       "      }} else if (Date.now() < root._bokeh_timeout) {\n",
       "      setTimeout(run_inline_js, 100);\n",
       "    } else if (!root._bokeh_failed_load) {\n",
       "      console.log(\"Bokeh: BokehJS failed to load within specified timeout.\");\n",
       "      root._bokeh_failed_load = true;\n",
       "    } else if (force !== true) {\n",
       "      var cell = $(document.getElementById(\"e2bcc24f-69b3-4132-a75f-fb0b33d12eff\")).parents('.cell').data().cell;\n",
       "      cell.output_area.append_execute_result(NB_LOAD_WARNING)\n",
       "    }\n",
       "\n",
       "  }\n",
       "\n",
       "  if (root._bokeh_is_loading === 0) {\n",
       "    console.log(\"Bokeh: BokehJS loaded, going straight to plotting\");\n",
       "    run_inline_js();\n",
       "  } else {\n",
       "    load_libs(js_urls, function() {\n",
       "      console.log(\"Bokeh: BokehJS plotting callback run at\", now());\n",
       "      run_inline_js();\n",
       "    });\n",
       "  }\n",
       "}(window));"
      ],
      "application/vnd.bokehjs_load.v0+json": "\n(function(root) {\n  function now() {\n    return new Date();\n  }\n\n  var force = true;\n\n  if (typeof (root._bokeh_onload_callbacks) === \"undefined\" || force === true) {\n    root._bokeh_onload_callbacks = [];\n    root._bokeh_is_loading = undefined;\n  }\n\n  \n\n  \n  if (typeof (root._bokeh_timeout) === \"undefined\" || force === true) {\n    root._bokeh_timeout = Date.now() + 5000;\n    root._bokeh_failed_load = false;\n  }\n\n  var NB_LOAD_WARNING = {'data': {'text/html':\n     \"<div style='background-color: #fdd'>\\n\"+\n     \"<p>\\n\"+\n     \"BokehJS does not appear to have successfully loaded. If loading BokehJS from CDN, this \\n\"+\n     \"may be due to a slow or bad network connection. Possible fixes:\\n\"+\n     \"</p>\\n\"+\n     \"<ul>\\n\"+\n     \"<li>re-rerun `output_notebook()` to attempt to load from CDN again, or</li>\\n\"+\n     \"<li>use INLINE resources instead, as so:</li>\\n\"+\n     \"</ul>\\n\"+\n     \"<code>\\n\"+\n     \"from bokeh.resources import INLINE\\n\"+\n     \"output_notebook(resources=INLINE)\\n\"+\n     \"</code>\\n\"+\n     \"</div>\"}};\n\n  function display_loaded() {\n    var el = document.getElementById(\"e2bcc24f-69b3-4132-a75f-fb0b33d12eff\");\n    if (el != null) {\n      el.textContent = \"BokehJS is loading...\";\n    }\n    if (root.Bokeh !== undefined) {\n      if (el != null) {\n        el.textContent = \"BokehJS \" + root.Bokeh.version + \" successfully loaded.\";\n      }\n    } else if (Date.now() < root._bokeh_timeout) {\n      setTimeout(display_loaded, 100)\n    }\n  }\n\n\n  function run_callbacks() {\n    try {\n      root._bokeh_onload_callbacks.forEach(function(callback) { callback() });\n    }\n    finally {\n      delete root._bokeh_onload_callbacks\n    }\n    console.info(\"Bokeh: all callbacks have finished\");\n  }\n\n  function load_libs(js_urls, callback) {\n    root._bokeh_onload_callbacks.push(callback);\n    if (root._bokeh_is_loading > 0) {\n      console.log(\"Bokeh: BokehJS is being loaded, scheduling callback at\", now());\n      return null;\n    }\n    if (js_urls == null || js_urls.length === 0) {\n      run_callbacks();\n      return null;\n    }\n    console.log(\"Bokeh: BokehJS not loaded, scheduling load and callback at\", now());\n    root._bokeh_is_loading = js_urls.length;\n    for (var i = 0; i < js_urls.length; i++) {\n      var url = js_urls[i];\n      var s = document.createElement('script');\n      s.src = url;\n      s.async = false;\n      s.onreadystatechange = s.onload = function() {\n        root._bokeh_is_loading--;\n        if (root._bokeh_is_loading === 0) {\n          console.log(\"Bokeh: all BokehJS libraries loaded\");\n          run_callbacks()\n        }\n      };\n      s.onerror = function() {\n        console.warn(\"failed to load library \" + url);\n      };\n      console.log(\"Bokeh: injecting script tag for BokehJS library: \", url);\n      document.getElementsByTagName(\"head\")[0].appendChild(s);\n    }\n  };var element = document.getElementById(\"e2bcc24f-69b3-4132-a75f-fb0b33d12eff\");\n  if (element == null) {\n    console.log(\"Bokeh: ERROR: autoload.js configured with elementid 'e2bcc24f-69b3-4132-a75f-fb0b33d12eff' but no matching script tag was found. \")\n    return false;\n  }\n\n  var js_urls = [\"https://cdn.pydata.org/bokeh/release/bokeh-0.12.16.min.js\", \"https://cdn.pydata.org/bokeh/release/bokeh-widgets-0.12.16.min.js\", \"https://cdn.pydata.org/bokeh/release/bokeh-tables-0.12.16.min.js\", \"https://cdn.pydata.org/bokeh/release/bokeh-gl-0.12.16.min.js\"];\n\n  var inline_js = [\n    function(Bokeh) {\n      Bokeh.set_log_level(\"info\");\n    },\n    \n    function(Bokeh) {\n      \n    },\n    function(Bokeh) {\n      console.log(\"Bokeh: injecting CSS: https://cdn.pydata.org/bokeh/release/bokeh-0.12.16.min.css\");\n      Bokeh.embed.inject_css(\"https://cdn.pydata.org/bokeh/release/bokeh-0.12.16.min.css\");\n      console.log(\"Bokeh: injecting CSS: https://cdn.pydata.org/bokeh/release/bokeh-widgets-0.12.16.min.css\");\n      Bokeh.embed.inject_css(\"https://cdn.pydata.org/bokeh/release/bokeh-widgets-0.12.16.min.css\");\n      console.log(\"Bokeh: injecting CSS: https://cdn.pydata.org/bokeh/release/bokeh-tables-0.12.16.min.css\");\n      Bokeh.embed.inject_css(\"https://cdn.pydata.org/bokeh/release/bokeh-tables-0.12.16.min.css\");\n    }\n  ];\n\n  function run_inline_js() {\n    \n    if ((root.Bokeh !== undefined) || (force === true)) {\n      for (var i = 0; i < inline_js.length; i++) {\n        inline_js[i].call(root, root.Bokeh);\n      }if (force === true) {\n        display_loaded();\n      }} else if (Date.now() < root._bokeh_timeout) {\n      setTimeout(run_inline_js, 100);\n    } else if (!root._bokeh_failed_load) {\n      console.log(\"Bokeh: BokehJS failed to load within specified timeout.\");\n      root._bokeh_failed_load = true;\n    } else if (force !== true) {\n      var cell = $(document.getElementById(\"e2bcc24f-69b3-4132-a75f-fb0b33d12eff\")).parents('.cell').data().cell;\n      cell.output_area.append_execute_result(NB_LOAD_WARNING)\n    }\n\n  }\n\n  if (root._bokeh_is_loading === 0) {\n    console.log(\"Bokeh: BokehJS loaded, going straight to plotting\");\n    run_inline_js();\n  } else {\n    load_libs(js_urls, function() {\n      console.log(\"Bokeh: BokehJS plotting callback run at\", now());\n      run_inline_js();\n    });\n  }\n}(window));"
     },
     "metadata": {},
     "output_type": "display_data"
    }
   ],
   "source": [
    "output_notebook()"
   ]
  },
  {
   "cell_type": "code",
   "execution_count": 4,
   "metadata": {
    "collapsed": true
   },
   "outputs": [],
   "source": [
    "def make_query(param=None):\n",
    "    '''\n",
    "    Returns the MongoDB query for a lblnew \n",
    "    run's document.\n",
    "    \n",
    "    Parameters\n",
    "    ----------\n",
    "    param: dict\n",
    "    lblnew-bestfit input parameters.\n",
    "    '''\n",
    "    return {'param.' + name: value for name, value in param.items()}   "
   ]
  },
  {
   "cell_type": "code",
   "execution_count": 5,
   "metadata": {
    "collapsed": true
   },
   "outputs": [],
   "source": [
    "def print_input_param():\n",
    "    '''\n",
    "    Print to screen the input parameters \n",
    "    of the lblnew run.\n",
    "    '''\n",
    "    df = pd.DataFrame(columns=['lblnew'])\n",
    "    for name, value in sorted(PARAM.items()):\n",
    "        df.loc[name, 'lblnew'] = value\n",
    "    \n",
    "    df.index.name = 'Input parameter'\n",
    "    df.columns.name = 'Run'\n",
    "    \n",
    "    pd.set_option('display.max_colwidth', -1)\n",
    "    display.display(df)\n",
    "    pd.reset_option('display.max_colwidth')"
   ]
  },
  {
   "cell_type": "code",
   "execution_count": 6,
   "metadata": {
    "collapsed": true
   },
   "outputs": [],
   "source": [
    "def fmt_cool(ds_in):\n",
    "    ds = ds_in.copy(deep=True)\n",
    "    \n",
    "    if 'i' in ds.dims:                                                                                               \n",
    "        ds = ds.sel(i=ds.dims['i']) \n",
    "        \n",
    "    if 'band' in ds.dims:\n",
    "        try:\n",
    "            ds = ds.squeeze('band')\n",
    "        except ValueError:\n",
    "            ds = ds.sum('band') \n",
    "            \n",
    "    return ds['coolrg']\n",
    "\n",
    "\n",
    "\n",
    "def pltdata_cool(g=None):\n",
    "    '''\n",
    "    Define the plotting data for cooling rate\n",
    "    profile plots.  Add/remove entries in\n",
    "    the `data` list.\n",
    "    \n",
    "    Parameters\n",
    "    ----------\n",
    "    g: int\n",
    "        g-interval to be plotted.  If None,\n",
    "        the sum over all g-intervals will be\n",
    "        plotted.\n",
    "    data: dict\n",
    "        Plot data, including colour, line attributes, etc.\n",
    "    '''\n",
    "    colors = all_palettes['Set1'][4]\n",
    "    \n",
    "    if g == None:\n",
    "        ds_cool_crd = DS_COOL_CRD.sum('g')\n",
    "        ds_cool_wgt = DS_COOL_WGT.sum('g')\n",
    "    else:\n",
    "        ds_cool_crd = DS_COOL_CRD.sel(g=g)\n",
    "        ds_cool_wgt = DS_COOL_WGT.sel(g=g)\n",
    "    \n",
    "    data = [\n",
    "        {'label': 'CRD',\n",
    "         'srs': fmt_cool(ds_cool_crd),\n",
    "         'line_dash': 'solid', 'line_width':1.5,\n",
    "         'marker': 'circle', 'mark_size': 5,\n",
    "         'color': colors[2], 'alpha': 1},\n",
    "        {'label': 'WGT igg=1',\n",
    "         'srs': fmt_cool(ds_cool_wgt.sel(igg=1)),\n",
    "         'line_dash': 'solid', 'line_width': 3,\n",
    "         'marker': 'square', 'marker_size': 5,\n",
    "         'color': colors[3], 'alpha': .6},\n",
    "        {'label': 'WGT igg=10',\n",
    "         'srs': fmt_cool(ds_cool_wgt.sel(igg=10)),\n",
    "         'line_dash': 'solid', 'line_width': 2,\n",
    "         'marker': 'triangle', 'marker_size': 2,\n",
    "         'color': colors[1], 'alpha': .3}]\n",
    "    return data\n",
    "\n",
    "\n",
    "\n",
    "def plt_cool(pltdata=None):\n",
    "    '''\n",
    "    Plot cooling rate profiles on linear\n",
    "    and log pressure axes.\n",
    "    \n",
    "    Parameters\n",
    "    ----------\n",
    "    pltdata: dict\n",
    "        Plot data, including colour, line attributes, etc.\n",
    "    everything: bokeh.models.layouts.Column\n",
    "        Cooling rate profile plot.\n",
    "    '''\n",
    "    plin = plt_vert_profile_bokeh(pltdata=pltdata, \n",
    "                                  y_axis_type='linear',\n",
    "                                  prange=(50, 1050))\n",
    "    plin.plot_width, plin.plot_height = 400, 500\n",
    "    \n",
    "    plog = plt_vert_profile_bokeh(pltdata=pltdata,\n",
    "                                  y_axis_type='log',\n",
    "                                  prange=(.01, 200)) \n",
    "    plog.plot_width, plog.plot_height = 400, 500\n",
    "    \n",
    "    everything = gridplot(plin, plog, ncols=2)\n",
    "    return everything\n",
    "    \n",
    "    \n",
    "\n",
    "def script_plt_cool():\n",
    "    '''\n",
    "    Script to plot the cooling rate profiles\n",
    "    in each g-interval and the total \n",
    "    cooling rate profile over all g-intervals.\n",
    "    '''\n",
    "    ng = sum(PARAM['ng_refs'])\n",
    "    for g in np.arange(1, ng + 1):\n",
    "        data = pltdata_cool(g=g)\n",
    "        p = plt_cool(pltdata=data)\n",
    "        show(p)\n",
    "        display.display(\n",
    "            display.Markdown(f'*FIGURE.* Cooling rates. g={g}'))\n",
    "    \n",
    "    data = pltdata_cool()\n",
    "    p = plt_cool(pltdata=data)\n",
    "    show(p)\n",
    "    display.display(\n",
    "        display.Markdown(f'*FIGURE.* Cooling rates. Summed over g.'))\n",
    "    \n"
   ]
  },
  {
   "cell_type": "code",
   "execution_count": 7,
   "metadata": {
    "collapsed": true
   },
   "outputs": [],
   "source": [
    "def fmt_flux(ds_in, ilevels=None):\n",
    "    ds = ds_in.copy(deep=True)\n",
    "    \n",
    "    for l in ('level', 'layer'):\n",
    "        if l in ds.data_vars:\n",
    "            if len(ds[l].dims) > 1:\n",
    "                surface = {d: 0 for d in ds.dims if d != 'pressure'}\n",
    "                coord_level = ds[l][surface]\n",
    "                ds.coords[l] = ('pressure', coord_level)\n",
    "            else:\n",
    "                ds.coords[l] = ('pressure', ds[l])\n",
    "    \n",
    "    if ilevels:\n",
    "        ds = ds.isel(pressure=ilevels)\n",
    "\n",
    "    if 'i' in ds.dims:                                                                                               \n",
    "        ds = ds.sel(i=ds.dims['i'])\n",
    "        \n",
    "    #if 'igg' in ds.dims:\n",
    "    #    ds = ds.squeeze('igg').drop('igg')\n",
    "        \n",
    "    if 'igg' in ds:\n",
    "        if ds['igg'].shape == (1,):\n",
    "            ds = ds.squeeze('igg').drop('igg')\n",
    "        elif ds['igg'].shape == ():\n",
    "            ds = ds.drop('igg')\n",
    "            \n",
    "    if 'g' in ds:\n",
    "        if ds['g'].shape == (1,):\n",
    "            ds = ds.squeeze('g').drop('g')\n",
    "        elif ds['g'].shape == ():\n",
    "            ds = ds.drop('g')\n",
    "            \n",
    "    if 'band' in ds.dims:\n",
    "        try:\n",
    "            ds = ds.squeeze('band').drop('band')\n",
    "        except ValueError:\n",
    "            ds = ds.sum('band')\n",
    "                \n",
    "    df = ds.to_dataframe()\n",
    "    df = df.set_index('level', append=True)               \n",
    "    return df\n",
    "\n",
    "\n",
    "def tbdata_flux():\n",
    "    '''\n",
    "    Define the flux data to be tabulated for\n",
    "    the g-intervals.  Add/remove entries in the\n",
    "    `tbs` list.\n",
    "    \n",
    "    Parameters\n",
    "    ----------\n",
    "    data: dict\n",
    "        Flux data, including how each set is to be\n",
    "        labeled in the output table.\n",
    "    '''\n",
    "    tropopauses = {'mls': 40, 'saw': 45, 'trp': 37}\n",
    "    atmpro = PARAM['atmpro']\n",
    "    ilevels = [0, tropopauses[atmpro], -1]\n",
    "    \n",
    "    benchmark = {'label': 'CRD',\n",
    "                 'df': fmt_flux(DS_FLUX_CRD, ilevels=ilevels)}\n",
    "    \n",
    "    tbs = [{'label': 'WGT igg=1',\n",
    "            'df': fmt_flux(DS_FLUX_WGT.sel(igg=[1]), ilevels=ilevels)},\n",
    "           {'label': 'WGT igg=10',\n",
    "            'df': fmt_flux(DS_FLUX_WGT.sel(igg=[10]), ilevels=ilevels)}]\n",
    "    \n",
    "    data = {'benchmark': benchmark, 'others': tbs}\n",
    "    return data\n",
    "\n",
    "\n",
    "\n",
    "def tbdata_flux_sumg():\n",
    "    '''\n",
    "    Define the total flux data, over all g-intervals,\n",
    "    to be tabulated.\n",
    "    \n",
    "    Parameters\n",
    "    ----------\n",
    "    data: dict\n",
    "        Flux data, including how each set is to e\n",
    "        labeled in the output table.\n",
    "    '''\n",
    "    tropopauses = {'mls': 40, 'saw': 45, 'trp': 37}\n",
    "    \n",
    "    atmpro = PARAM['atmpro']\n",
    "    ilevels = [0, tropopauses[atmpro], -1]\n",
    "    \n",
    "    benchmark = {'label': 'CRD',\n",
    "                 'df': fmt_flux(DS_FLUX_CRD.sum('g'), ilevels=ilevels)}\n",
    "    \n",
    "    tbs = [{'label': 'WGT igg=1',\n",
    "            'df': fmt_flux(DS_FLUX_WGT.sel(igg=[1]).sum('g'), \n",
    "                           ilevels=ilevels)},\n",
    "           {'label': 'WGT igg=10',\n",
    "            'df': fmt_flux(DS_FLUX_WGT.sel(igg=[10]).sum('g'), \n",
    "                           ilevels=ilevels)}]\n",
    "    \n",
    "    data = {'benchmark': benchmark, 'others': tbs}\n",
    "    return data\n",
    "\n",
    "\n",
    "def tb_flux(tbdata=None):\n",
    "    '''\n",
    "    Display flux table for each set, and display\n",
    "    the difference between each set and the set\n",
    "    that is specified to be the benchmark.\n",
    "    \n",
    "    Parameters\n",
    "    ----------\n",
    "    tbdata: dict\n",
    "        Flux data, including how each set it to be\n",
    "        labeled in the output table.\n",
    "    '''\n",
    "    benchmark = tbdata['benchmark']\n",
    "    others = tbdata['others']\n",
    "    \n",
    "    def show_tb(d=None):\n",
    "        display.display(d['df'])\n",
    "        display.display(display.Markdown(\n",
    "            f\"*TABLE.* Fluxes. {d['label']}\"))\n",
    "        \n",
    "    def show_tbdiff(d0=None, d=None):\n",
    "        df = d['df']\n",
    "        df.index = d0['df'].index\n",
    "        display.display(df - d0['df'])\n",
    "        display.display(display.Markdown(\n",
    "            f\"*TABLE.* Fluxes. ({d['label']}) - ({d0['label']})\"))\n",
    "        \n",
    "    show_tb(benchmark)\n",
    "    for d in others:\n",
    "        show_tb(d)\n",
    "        \n",
    "    for d in others:\n",
    "        show_tbdiff(d=d, d0=benchmark)\n",
    "        \n",
    "\n",
    "        \n",
    "def script_tb_flux():\n",
    "    '''\n",
    "    Script to display the flux tables in \n",
    "    each g-interval, and the flux table\n",
    "    for the total flux, over all g-intervals.\n",
    "    '''\n",
    "    tb_flux(tbdata=tbdata_flux())\n",
    "    tb_flux(tbdata=tbdata_flux_sumg())\n"
   ]
  },
  {
   "cell_type": "code",
   "execution_count": 8,
   "metadata": {
    "collapsed": true
   },
   "outputs": [],
   "source": [
    "def script_gsummary():\n",
    "    '''\n",
    "    Script to display how the g-intervals\n",
    "    are defined according the hyperparameters\n",
    "    chosen for this lblnew-bestfit run.\n",
    "    '''\n",
    "    ng_refs = PARAM['ng_refs']\n",
    "    p_refs = list(zip(*PARAM['ref_pts']))[0]\n",
    "    ng = sum(ng_refs)\n",
    "    df_abscom = pd.read_csv(io.StringIO(DOC['abscom']), \n",
    "                            sep=r'\\s+', index_col=[0])\n",
    "    df_dgdgs = pd.read_csv(io.StringIO(DOC['dgdgs']), \n",
    "                            sep=r'\\s+', index_col=[0])\n",
    "    \n",
    "    # absth(g + 1) / absth(g)\n",
    "    df_abscom_copy = df_abscom.copy()\n",
    "    df_abscom_copy.index = df_abscom.index + 1\n",
    "    df_absratio = df_abscom / df_abscom_copy\n",
    "    df_absratio.columns = ['k(ig) / k(ig - 1)']\n",
    "    df_absratio = df_absratio.loc[: ng]    \n",
    "    \n",
    "    df_dgdgs_cumsum = df_dgdgs.cumsum(axis=0)\n",
    "    df_dgdgs_cumsum.columns = ['dg cumsum', 'dgs cumsum']\n",
    "    \n",
    "    data_pref = np.concatenate([p_ref * np.ones((ng_ref,)) \n",
    "                                for ng_ref, p_ref \n",
    "                                in zip(ng_refs, p_refs)], axis=0)\n",
    "    df_pref = pd.DataFrame(data_pref, \n",
    "                           index=df_dgdgs.index, columns=['pref'])\n",
    "    \n",
    "    df_all = pd.concat([df_abscom, df_absratio,\n",
    "                        df_dgdgs, df_dgdgs_cumsum,\n",
    "                        df_pref], axis=1) \n",
    "    \n",
    "    display.display(df_all)\n",
    "    display.display(display.Markdown(\n",
    "        (f\"TABLE. g-interval summary.  \"\n",
    "         f\"*abscom* is the lower bound of the g-interval.\")))\n",
    "    \n"
   ]
  },
  {
   "cell_type": "code",
   "execution_count": 9,
   "metadata": {
    "collapsed": true
   },
   "outputs": [],
   "source": [
    "def script_flux_to_excel():\n",
    "    '''\n",
    "    Script to save the lblnew-bestfit run's\n",
    "    output flux to excel file and display the\n",
    "    link to download the excel file.\n",
    "    '''\n",
    "    fname = 'lblnew-bestfit_flux.xlsx'\n",
    "    writer = pd.ExcelWriter(fname)\n",
    "    \n",
    "    ds = DS_FLUX_CRD\n",
    "    for g in ds.coords['g']:\n",
    "        df = ds.sel(g=g).to_dataframe()\n",
    "        df.to_excel(writer, f'crd flux g={int(g)}')\n",
    "                \n",
    "    ds = DS_FLUX_WGT\n",
    "    for g in ds.coords['g']:\n",
    "        df = ds.sel(g=g, igg=1).to_dataframe()\n",
    "        df.to_excel(writer, f'wgt igg=1 flux g={int(g)}')\n",
    "        \n",
    "        df = ds.sel(g=g, igg=10).to_dataframe()\n",
    "        df.to_excel(writer, f'wgt igg=10 flux g={int(g)}')\n",
    "        \n",
    "    writer.save()    \n",
    "    html_download = f'Download: <a href=\"./{fname}\">{fname}</a>'\n",
    "    display.display(display.HTML(html_download))\n",
    "\n",
    "\n",
    "def script_cool_to_excel():\n",
    "    '''\n",
    "    Script to save the lblnew-bestfit run's\n",
    "    output cooling rate to excel file and display\n",
    "    the link to download the excel file.\n",
    "    '''\n",
    "    fname = 'lblnew-bestfit_cool.xlsx'\n",
    "    writer = pd.ExcelWriter(fname)\n",
    "    \n",
    "    ds = DS_COOL_CRD\n",
    "    for g in ds.coords['g']:\n",
    "        df = ds.sel(g=g).to_dataframe()\n",
    "        df.to_excel(writer, f'crd cool g={int(g)}')\n",
    "        \n",
    "    ds = DS_COOL_WGT\n",
    "    for g in ds.coords['g']:\n",
    "        df = ds.sel(g=g, igg=1).to_dataframe()\n",
    "        df.to_excel(writer, f'wgt igg=1 cool g={int(g)}')\n",
    "        \n",
    "        df = ds.sel(g=g, igg=10).to_dataframe()\n",
    "        df.to_excel(writer, f'wgt igg=10 cool g={int(g)}')\n",
    "        \n",
    "    writer.save()\n",
    "    html_download = f'Download: <a href=\"./{fname}\">{fname}</a>'\n",
    "    display.display(display.HTML(html_download))"
   ]
  },
  {
   "cell_type": "code",
   "execution_count": 10,
   "metadata": {
    "collapsed": true
   },
   "outputs": [],
   "source": [
    "def show_html(s):\n",
    "    display.display(display.HTML(s))\n",
    "\n",
    "    \n",
    "def show_markdown(s):\n",
    "    display.display(display.Markdown(s))"
   ]
  },
  {
   "cell_type": "code",
   "execution_count": 11,
   "metadata": {
    "collapsed": true
   },
   "outputs": [],
   "source": [
    "def script():\n",
    "    title = ('### lblnew-bestfit' \n",
    "             if 'ng_refs' in PARAM else '### lblnew-overlap')\n",
    "    s_input = 'Input Parameters'\n",
    "    s_plt_cool = 'Cooling Rate Profiles'\n",
    "    s_tb_flux = 'Flux Comparison'\n",
    "    s_gsummary = 'g-interval Summary'\n",
    "    s_download = 'Download Data'\n",
    "    \n",
    "    # title\n",
    "    show_markdown(title)\n",
    "    \n",
    "    # TOC\n",
    "    show_markdown('### Table of Contents')\n",
    "    show_html(climahtml.getHTML_hrefanchor(s_input))\n",
    "    show_html(climahtml.getHTML_hrefanchor(s_plt_cool))\n",
    "    show_html(climahtml.getHTML_hrefanchor(s_tb_flux))\n",
    "    show_html(climahtml.getHTML_hrefanchor(s_gsummary))\n",
    "    show_html(climahtml.getHTML_hrefanchor(s_download))\n",
    "    \n",
    "    # Input parameters\n",
    "    show_html(climahtml.getHTML_idanchor(s_input))\n",
    "    show_markdown(climahtml.getMarkdown_sectitle(s_input))\n",
    "    print_input_param()\n",
    "    \n",
    "    # Cooling rate profiles\n",
    "    show_html(climahtml.getHTML_idanchor(s_plt_cool))\n",
    "    show_markdown(climahtml.getMarkdown_sectitle(s_plt_cool))\n",
    "    script_plt_cool()\n",
    "    \n",
    "    # Flux comparison\n",
    "    show_html(climahtml.getHTML_idanchor(s_tb_flux))\n",
    "    show_markdown(climahtml.getMarkdown_sectitle(s_tb_flux))\n",
    "    script_tb_flux()\n",
    "    \n",
    "    # g-interval summary\n",
    "    show_html(climahtml.getHTML_idanchor(s_gsummary))\n",
    "    show_markdown(climahtml.getMarkdown_sectitle(s_gsummary))\n",
    "    script_gsummary()\n",
    "    \n",
    "    # Download cooling rate and fluxes\n",
    "    show_html(climahtml.getHTML_idanchor(s_download))\n",
    "    show_markdown(climahtml.getMarkdown_sectitle(s_download))\n",
    "    script_flux_to_excel()\n",
    "    script_cool_to_excel()"
   ]
  },
  {
   "cell_type": "code",
   "execution_count": 12,
   "metadata": {
    "collapsed": true
   },
   "outputs": [],
   "source": [
    "%run param.py\n",
    "\n",
    "client = pymongo.MongoClient('localhost', 27017, connect=False)\n",
    "db = client.lblnew\n",
    "\n",
    "\n",
    "DOC = db.bestfit_lw.find_one(make_query(param=PARAM))\n",
    "DS_FLUX_CRD = load_output_file(io.StringIO(DOC['output_fluxg']))\n",
    "DS_COOL_CRD = load_output_file(io.StringIO(DOC['output_coolrg']))\n",
    "DS_FLUX_WGT = load_output_file(io.StringIO(DOC['output_wfluxg']))\n",
    "DS_COOL_WGT = load_output_file(io.StringIO(DOC['output_wcoolrg']))"
   ]
  },
  {
   "cell_type": "code",
   "execution_count": 13,
   "metadata": {
    "scrolled": false
   },
   "outputs": [
    {
     "data": {
      "text/markdown": [
       "### lblnew-bestfit"
      ],
      "text/plain": [
       "<IPython.core.display.Markdown object>"
      ]
     },
     "metadata": {},
     "output_type": "display_data"
    },
    {
     "data": {
      "text/markdown": [
       "### Table of Contents"
      ],
      "text/plain": [
       "<IPython.core.display.Markdown object>"
      ]
     },
     "metadata": {},
     "output_type": "display_data"
    },
    {
     "data": {
      "text/html": [
       "<a href=\"#Input_Parameters\">Input Parameters</a>"
      ],
      "text/plain": [
       "<IPython.core.display.HTML object>"
      ]
     },
     "metadata": {},
     "output_type": "display_data"
    },
    {
     "data": {
      "text/html": [
       "<a href=\"#Cooling_Rate_Profiles\">Cooling Rate Profiles</a>"
      ],
      "text/plain": [
       "<IPython.core.display.HTML object>"
      ]
     },
     "metadata": {},
     "output_type": "display_data"
    },
    {
     "data": {
      "text/html": [
       "<a href=\"#Flux_Comparison\">Flux Comparison</a>"
      ],
      "text/plain": [
       "<IPython.core.display.HTML object>"
      ]
     },
     "metadata": {},
     "output_type": "display_data"
    },
    {
     "data": {
      "text/html": [
       "<a href=\"#g-interval_Summary\">g-interval Summary</a>"
      ],
      "text/plain": [
       "<IPython.core.display.HTML object>"
      ]
     },
     "metadata": {},
     "output_type": "display_data"
    },
    {
     "data": {
      "text/html": [
       "<a href=\"#Download_Data\">Download Data</a>"
      ],
      "text/plain": [
       "<IPython.core.display.HTML object>"
      ]
     },
     "metadata": {},
     "output_type": "display_data"
    },
    {
     "data": {
      "text/html": [
       "<a id=\"Input_Parameters\"></a>"
      ],
      "text/plain": [
       "<IPython.core.display.HTML object>"
      ]
     },
     "metadata": {},
     "output_type": "display_data"
    },
    {
     "data": {
      "text/markdown": [
       "# Input Parameters"
      ],
      "text/plain": [
       "<IPython.core.display.Markdown object>"
      ]
     },
     "metadata": {},
     "output_type": "display_data"
    },
    {
     "data": {
      "text/html": [
       "<div>\n",
       "<style scoped>\n",
       "    .dataframe tbody tr th:only-of-type {\n",
       "        vertical-align: middle;\n",
       "    }\n",
       "\n",
       "    .dataframe tbody tr th {\n",
       "        vertical-align: top;\n",
       "    }\n",
       "\n",
       "    .dataframe thead th {\n",
       "        text-align: right;\n",
       "    }\n",
       "</style>\n",
       "<table border=\"1\" class=\"dataframe\">\n",
       "  <thead>\n",
       "    <tr style=\"text-align: right;\">\n",
       "      <th>Run</th>\n",
       "      <th>lblnew</th>\n",
       "    </tr>\n",
       "    <tr>\n",
       "      <th>Input parameter</th>\n",
       "      <th></th>\n",
       "    </tr>\n",
       "  </thead>\n",
       "  <tbody>\n",
       "    <tr>\n",
       "      <th>atmpro</th>\n",
       "      <td>saw</td>\n",
       "    </tr>\n",
       "    <tr>\n",
       "      <th>band</th>\n",
       "      <td>3a</td>\n",
       "    </tr>\n",
       "    <tr>\n",
       "      <th>commitnumber</th>\n",
       "      <td>5014a19</td>\n",
       "    </tr>\n",
       "    <tr>\n",
       "      <th>conc</th>\n",
       "      <td>3.2e-07</td>\n",
       "    </tr>\n",
       "    <tr>\n",
       "      <th>dv</th>\n",
       "      <td>0.001</td>\n",
       "    </tr>\n",
       "    <tr>\n",
       "      <th>klin</th>\n",
       "      <td>2.22e-20</td>\n",
       "    </tr>\n",
       "    <tr>\n",
       "      <th>molecule</th>\n",
       "      <td>n2o</td>\n",
       "    </tr>\n",
       "    <tr>\n",
       "      <th>ng_adju</th>\n",
       "      <td>[0, 0]</td>\n",
       "    </tr>\n",
       "    <tr>\n",
       "      <th>ng_refs</th>\n",
       "      <td>[1, 2]</td>\n",
       "    </tr>\n",
       "    <tr>\n",
       "      <th>nv</th>\n",
       "      <td>1000</td>\n",
       "    </tr>\n",
       "    <tr>\n",
       "      <th>option_compute_btable</th>\n",
       "      <td>0</td>\n",
       "    </tr>\n",
       "    <tr>\n",
       "      <th>option_compute_ktable</th>\n",
       "      <td>0</td>\n",
       "    </tr>\n",
       "    <tr>\n",
       "      <th>option_wgt_flux</th>\n",
       "      <td>1</td>\n",
       "    </tr>\n",
       "    <tr>\n",
       "      <th>option_wgt_k</th>\n",
       "      <td>1</td>\n",
       "    </tr>\n",
       "    <tr>\n",
       "      <th>ref_pts</th>\n",
       "      <td>[[1, 250], [500, 250]]</td>\n",
       "    </tr>\n",
       "    <tr>\n",
       "      <th>tsfc</th>\n",
       "      <td>257</td>\n",
       "    </tr>\n",
       "    <tr>\n",
       "      <th>vmax</th>\n",
       "      <td>620</td>\n",
       "    </tr>\n",
       "    <tr>\n",
       "      <th>vmin</th>\n",
       "      <td>540</td>\n",
       "    </tr>\n",
       "    <tr>\n",
       "      <th>w_diffuse</th>\n",
       "      <td>[[1.8], [1.66, 1.8]]</td>\n",
       "    </tr>\n",
       "    <tr>\n",
       "      <th>wgt</th>\n",
       "      <td>[[0.9], [0.5, 0.95]]</td>\n",
       "    </tr>\n",
       "  </tbody>\n",
       "</table>\n",
       "</div>"
      ],
      "text/plain": [
       "Run                                    lblnew\n",
       "Input parameter                              \n",
       "atmpro                 saw                   \n",
       "band                   3a                    \n",
       "commitnumber           5014a19               \n",
       "conc                   3.2e-07               \n",
       "dv                     0.001                 \n",
       "klin                   2.22e-20              \n",
       "molecule               n2o                   \n",
       "ng_adju                [0, 0]                \n",
       "ng_refs                [1, 2]                \n",
       "nv                     1000                  \n",
       "option_compute_btable  0                     \n",
       "option_compute_ktable  0                     \n",
       "option_wgt_flux        1                     \n",
       "option_wgt_k           1                     \n",
       "ref_pts                [[1, 250], [500, 250]]\n",
       "tsfc                   257                   \n",
       "vmax                   620                   \n",
       "vmin                   540                   \n",
       "w_diffuse              [[1.8], [1.66, 1.8]]  \n",
       "wgt                    [[0.9], [0.5, 0.95]]  "
      ]
     },
     "metadata": {},
     "output_type": "display_data"
    },
    {
     "data": {
      "text/html": [
       "<a id=\"Cooling_Rate_Profiles\"></a>"
      ],
      "text/plain": [
       "<IPython.core.display.HTML object>"
      ]
     },
     "metadata": {},
     "output_type": "display_data"
    },
    {
     "data": {
      "text/markdown": [
       "# Cooling Rate Profiles"
      ],
      "text/plain": [
       "<IPython.core.display.Markdown object>"
      ]
     },
     "metadata": {},
     "output_type": "display_data"
    },
    {
     "data": {
      "text/html": [
       "\n",
       "<div class=\"bk-root\">\n",
       "    <div class=\"bk-plotdiv\" id=\"5f6deb7c-ccee-43b6-9aa5-b6e4fb939450\"></div>\n",
       "</div>"
      ]
     },
     "metadata": {},
     "output_type": "display_data"
    },
    {
     "data": {
      "application/javascript": [
       "(function(root) {\n",
       "  function embed_document(root) {\n",
       "    \n",
       "  var docs_json = {\"65fcb2e5-b101-4ebf-a422-048a8417ec8a\":{\"roots\":{\"references\":[{\"attributes\":{\"ticker\":null},\"id\":\"8f0d0f0d-97f7-48d9-ae93-e869be0c2897\",\"type\":\"LogTickFormatter\"},{\"attributes\":{},\"id\":\"0d95ca90-6c14-4d2b-9467-8ea4b78d0d00\",\"type\":\"Selection\"},{\"attributes\":{},\"id\":\"4157b7e6-ba24-4372-b3c1-03f54367ce08\",\"type\":\"BasicTickFormatter\"},{\"attributes\":{},\"id\":\"612e95e1-64c5-44fd-bd76-1f35bd04620a\",\"type\":\"UnionRenderers\"},{\"attributes\":{},\"id\":\"3dcac22f-2dd8-49fd-b1c9-fba1af18844e\",\"type\":\"UnionRenderers\"},{\"attributes\":{},\"id\":\"649b07b4-340b-4df5-b803-7d18564bdff7\",\"type\":\"UnionRenderers\"},{\"attributes\":{},\"id\":\"223635f9-d0d4-4d66-821d-3fabaca830fe\",\"type\":\"UnionRenderers\"},{\"attributes\":{},\"id\":\"4a9fd3cd-d882-4fdd-93cb-2dda54b0df85\",\"type\":\"UnionRenderers\"},{\"attributes\":{},\"id\":\"ca33a16a-ffee-4681-80be-4a838b7ad2e6\",\"type\":\"Selection\"},{\"attributes\":{},\"id\":\"89be50a3-4504-4c0a-b288-362fb7ead333\",\"type\":\"UnionRenderers\"},{\"attributes\":{},\"id\":\"aae140c8-a4e8-49d0-be25-db66e040dd7d\",\"type\":\"Selection\"},{\"attributes\":{},\"id\":\"f925215e-b80d-4e3b-81d2-fd7405192869\",\"type\":\"Selection\"},{\"attributes\":{\"toolbar\":{\"id\":\"2d0aaef6-0614-45fc-903b-4fa6723ef7f3\",\"type\":\"ProxyToolbar\"},\"toolbar_location\":\"above\"},\"id\":\"a0c8b5d5-1d74-4b85-9ce1-14b617668a7d\",\"type\":\"ToolbarBox\"},{\"attributes\":{},\"id\":\"b5e744a3-8731-40bf-ac30-c263cabdee71\",\"type\":\"Selection\"},{\"attributes\":{\"children\":[{\"id\":\"a0c8b5d5-1d74-4b85-9ce1-14b617668a7d\",\"type\":\"ToolbarBox\"},{\"id\":\"50966469-e858-4ef1-a3ad-a7fef894dced\",\"type\":\"Column\"}]},\"id\":\"50ed68b5-ddcf-4b5a-af31-3221323be9ef\",\"type\":\"Column\"},{\"attributes\":{},\"id\":\"69a05aa1-3f88-4825-a521-feeb8167fcdd\",\"type\":\"Selection\"},{\"attributes\":{\"tools\":[{\"id\":\"c0da348f-c6b6-44af-bfdc-a4effc0bd879\",\"type\":\"PanTool\"},{\"id\":\"72d43bc7-f794-4828-b769-a4b5a94b8a5b\",\"type\":\"WheelZoomTool\"},{\"id\":\"c99aab10-ce73-4538-a0c1-62648ef80c9e\",\"type\":\"BoxZoomTool\"},{\"id\":\"0da44195-04f7-4802-b480-dac12eecedb2\",\"type\":\"SaveTool\"},{\"id\":\"fa8ec438-b5e4-434e-bf48-7309af4170fc\",\"type\":\"ResetTool\"},{\"id\":\"018d7881-99b0-4dff-a626-37486e05b15d\",\"type\":\"HelpTool\"},{\"id\":\"e08b3d3e-f58b-46d7-ab47-219b332603b6\",\"type\":\"PanTool\"},{\"id\":\"e130ff88-fcb6-420c-8c5b-95b0c3c00f7b\",\"type\":\"WheelZoomTool\"},{\"id\":\"0623e442-4320-45cd-bf8e-b6181a4e4a91\",\"type\":\"BoxZoomTool\"},{\"id\":\"752f65c3-54b2-415d-bd8c-e5b53bcc6123\",\"type\":\"SaveTool\"},{\"id\":\"184a5100-1100-4f4b-822b-822c273003f4\",\"type\":\"ResetTool\"},{\"id\":\"61bd7b57-0a45-42a4-8bff-c5580116bf82\",\"type\":\"HelpTool\"}]},\"id\":\"2d0aaef6-0614-45fc-903b-4fa6723ef7f3\",\"type\":\"ProxyToolbar\"},{\"attributes\":{\"callback\":null,\"data\":{\"x\":{\"__ndarray__\":\"TSxaQ5zcgz8y8Dzu5J6FP9i+LF8qRYk/3hH3U0EXjT/Puz9LSIWQP7IzmbJSj5I/XjiE6BiplD+CTWOcO9GWPypm9AvFCZk/t0yuq8dSmz/5WxxEVKmdPxqMILRvBaA/cEffdDA6oT9/T7bFWE2iPyRQ3naKHaM/ht7TthDNoz/MIkKTLHakPyK3+VsPGqU/2g1we2G2pT9kUIQMmEumP/p9yvT1w6Y/O/wmLnbkpT9ZXNIHgUujP/3HfB+SSqA/5dHw2mPxmj+QBaOX87qVPzrFhzKE/pA/ipF2uitvij8PDiZgnEGFP4wHf7JuK4E/0oVgblqdej9asH2WIW1zP9VWCaoPKm0/h9JvQ7KeZz+1Bpus5HJiP1oMEw/lWVs/ETT7vxDZUz+HHSL4kMJKP+4ihTY/Jz8/kn/PWmCKKz9XxvUVmSbnvoTP940DaSu/u3zyO7gtOr+mRFkd339Dv2cj6muXvUm/NVeU11L6Sr/t0n81CFlFv6F28WE2EDy/JdlJUpBeL7/EruBuMdsUv5/Xvqhc6Q4/3OeSoyzKJz/BcdePnBszP/pxmO5qpTk/SW8/eZeXPz+QToV/U3xCP3jU0fWD40Q/vNqMn+T9Rj+2iExEG8hIP5Zsn+yQQko/cZj4mnFySz8GufLYB2VMP+qaCUwKK00/eAMhiy3YTT/cEil3cX9OP5Jrj5UlL08/pG2H2//oTz9NoxjDzUdQPwjFCR1KZVA/NKTfMiMIUD9xlq3inA1OP8Cqcz+5A0s/iocdolOBRz8nhLguBexDP0dcjBvGZEA/\",\"dtype\":\"float64\",\"shape\":[75]},\"y\":{\"__ndarray__\":\"GhExyth1ND/Sv8nbtpRIP2vylNV0PVE/aTum7souWD/At0SJ8fVgPw3Iuahxymc/MSNhhJWvcD/bTfBN02d3P2zb5nxnaoA/CD5h5MAGhz8NmeH1TyaQP+zrCsc9p5Y/LbKd76fGnz/bLW5ISEmmPww9YvTcQq8/JV2OstnstT8Er5Y7M8G+P0c+r3jqkcU/5h99k6ZBzj88bCIzFzjVP4enV8oyxN0//yH99nXg5D8qOpLLf0jtP5kqGJXUifQ/c9cS8kHP/D+/DpwzojQEQIEmwoanVwxA4lgXt9HgE0BSSZ2AJuIbQAMJih9jjiNA5q4l5INuK0AwTKYKRj0zQNv5fmq8/DpAaCJseHrtQkB/+zpwzoxKQM3MzMzMeFJAZmZmZmZqWEAAAAAAAFxeQM3MzMzMJmJAmpmZmZkfZUBmZmZmZhhoQDMzMzMzEWtAAAAAAAAKbkBmZmZmZoFwQM3MzMzM/XFAMzMzMzN6c0CamZmZmfZ0QAAAAAAAc3ZAZmZmZmbvd0DNzMzMzGt5QDMzMzMz6HpAmpmZmZlkfEAAAAAAAOF9QGZmZmZmXX9AZmZmZuZsgECamZmZGSuBQM3MzMxM6YFAAAAAAICngkAzMzMzs2WDQGZmZmbmI4RAmpmZmRnihEDNzMzMTKCFQAAAAACAXoZAMzMzM7Mch0BmZmZm5tqHQJqZmZkZmYhAzczMzExXiUAAAAAAgBWKQDMzMzOz04pAZmZmZuaRi0CamZmZGVCMQM3MzMxMDo1AAAAAAIDMjUAzMzMzs4qOQGZmZmbmSI9A\",\"dtype\":\"float64\",\"shape\":[75]}},\"selected\":{\"id\":\"b2c9f235-3bcb-481a-a8bd-36a4d47232f5\",\"type\":\"Selection\"},\"selection_policy\":{\"id\":\"2fa4941f-f7db-41b7-9691-ca2f69033d26\",\"type\":\"UnionRenderers\"}},\"id\":\"054362ec-78b1-41f3-821c-39a1c65c6da5\",\"type\":\"ColumnDataSource\"},{\"attributes\":{\"line_alpha\":0.1,\"line_color\":\"#1f77b4\",\"line_width\":1.5,\"x\":{\"field\":\"x\"},\"y\":{\"field\":\"y\"}},\"id\":\"e3978926-45ea-4f1b-af71-4800ba1d7561\",\"type\":\"Line\"},{\"attributes\":{\"fill_alpha\":{\"value\":0.1},\"fill_color\":{\"value\":\"#1f77b4\"},\"line_alpha\":{\"value\":0.1},\"line_color\":{\"value\":\"#1f77b4\"},\"x\":{\"field\":\"x\"},\"y\":{\"field\":\"y\"}},\"id\":\"f3521262-0ef3-4174-8b52-2c587306eb03\",\"type\":\"Square\"},{\"attributes\":{\"line_alpha\":0.1,\"line_color\":\"#1f77b4\",\"line_width\":2,\"x\":{\"field\":\"x\"},\"y\":{\"field\":\"y\"}},\"id\":\"5711b1f7-dcbb-4a8d-aa83-b7ecc0946273\",\"type\":\"Line\"},{\"attributes\":{\"data_source\":{\"id\":\"e9d5d3e7-96aa-44be-b430-445649533d39\",\"type\":\"ColumnDataSource\"},\"glyph\":{\"id\":\"270f902c-2483-4ba9-84a1-0473b5836e0c\",\"type\":\"Line\"},\"hover_glyph\":null,\"muted_glyph\":null,\"nonselection_glyph\":{\"id\":\"5711b1f7-dcbb-4a8d-aa83-b7ecc0946273\",\"type\":\"Line\"},\"selection_glyph\":null,\"view\":{\"id\":\"5c2347d5-3d07-4831-ba43-d2b1b596c468\",\"type\":\"CDSView\"}},\"id\":\"6aca2640-21dd-41ee-a7f5-6523742ef257\",\"type\":\"GlyphRenderer\"},{\"attributes\":{\"source\":{\"id\":\"e9d5d3e7-96aa-44be-b430-445649533d39\",\"type\":\"ColumnDataSource\"}},\"id\":\"5c2347d5-3d07-4831-ba43-d2b1b596c468\",\"type\":\"CDSView\"},{\"attributes\":{\"plot\":{\"id\":\"12fbd888-30c7-4cbf-b187-3ec7ae86cec8\",\"subtype\":\"Figure\",\"type\":\"Plot\"},\"ticker\":{\"id\":\"8ee472ff-8aaf-4473-82ab-0a9fc9b85334\",\"type\":\"BasicTicker\"}},\"id\":\"e8484a44-cb8a-486f-b5cb-01e916289607\",\"type\":\"Grid\"},{\"attributes\":{\"source\":{\"id\":\"787f2c29-361f-4905-94c2-e0e8c7bb2892\",\"type\":\"ColumnDataSource\"}},\"id\":\"ef2e2c99-0ec4-48aa-916c-f93ae2d12f0c\",\"type\":\"CDSView\"},{\"attributes\":{\"data_source\":{\"id\":\"787f2c29-361f-4905-94c2-e0e8c7bb2892\",\"type\":\"ColumnDataSource\"},\"glyph\":{\"id\":\"7e7dbd5f-4128-411c-bce3-1466a1b9bd45\",\"type\":\"Triangle\"},\"hover_glyph\":null,\"muted_glyph\":null,\"nonselection_glyph\":{\"id\":\"56ed4a10-11fd-451e-9043-7361ff4fba33\",\"type\":\"Triangle\"},\"selection_glyph\":null,\"view\":{\"id\":\"ef2e2c99-0ec4-48aa-916c-f93ae2d12f0c\",\"type\":\"CDSView\"}},\"id\":\"4adf2c76-0b57-4287-8b81-ec30dc62d7c0\",\"type\":\"GlyphRenderer\"},{\"attributes\":{},\"id\":\"8ee472ff-8aaf-4473-82ab-0a9fc9b85334\",\"type\":\"BasicTicker\"},{\"attributes\":{\"callback\":null,\"data\":{\"x\":{\"__ndarray__\":\"psgIRUZJiD+0TtZUiNqJP8IERV6cGY0/Xt8XL8c/kD/kQH8JKwGSPw4Mfu0p0ZM/2QUWz7+ulT9k/9IoeJiXP9hQIKKHkJk/VmV86wWXmz+B3a5sJqydP/LuMDziz58//Qvmqtf/oD8DNy+nNP2hP5MGODabxKI/k0cKQRt0oz+FLtlfEyWkP1XBRXqT16Q/hv4lg4WOpT8cOQBSAxymP2YK9o8gvaY/b7JKP5oXpj/UxF7Pp/OjPyGAlAunYqE/PctyYNnPnT8PfgjInAmZP3/cZ13vc5Q/35J8ItiDkD88it24cf2KP7kQYmkLyIU/TJtCT9DLgD+wXaU1aX54PwbV9/t0JXI/+1pkKfyTbD8eRNBwgQZmPwp1RpAZU2A/vR44XYnWVz+gSkGoDVtQPywgwA0Op0M/4uEUXEouMj8yYqiCyTWuPn4M3W+YTDC/tY5siL23P78UPm+/02JHv8EBErh9M06/y0vEqA+ET7+8HnKw3o5Jv1UDPPpvc0G/Mma+Evo7NL8kqN2FHH4cv1z0v2SK9hI/mxZMECAuLz+UsQysOpM5P1vcMc5RZUE/98jyxeOjRT+Ex6LGNYVJP8wJlB79BU0/tN1eG04QUD+if/YqSGhRP5cge+rFilI/YzcFVCV6Uz8JNC7VMj1UP4yjwOtE3FQ/4biTnh5hVT8ITmuG3NRVP0MqggSwPVY/PuZ4DxSbVj9j6d8QE91WP3oGxt5o11Y/SLAPrwZIVj8Duf0XbAhVP/tKkjE/OlM/Ni/WkQ0mUT8VKwltoQVOP7WovTPbz0k/\",\"dtype\":\"float64\",\"shape\":[75]},\"y\":{\"__ndarray__\":\"GhExyth1ND/Sv8nbtpRIP2vylNV0PVE/aTum7souWD/At0SJ8fVgPw3Iuahxymc/MSNhhJWvcD/bTfBN02d3P2zb5nxnaoA/CD5h5MAGhz8NmeH1TyaQP+zrCsc9p5Y/LbKd76fGnz/bLW5ISEmmPww9YvTcQq8/JV2OstnstT8Er5Y7M8G+P0c+r3jqkcU/5h99k6ZBzj88bCIzFzjVP4enV8oyxN0//yH99nXg5D8qOpLLf0jtP5kqGJXUifQ/c9cS8kHP/D+/DpwzojQEQIEmwoanVwxA4lgXt9HgE0BSSZ2AJuIbQAMJih9jjiNA5q4l5INuK0AwTKYKRj0zQNv5fmq8/DpAaCJseHrtQkB/+zpwzoxKQM3MzMzMeFJAZmZmZmZqWEAAAAAAAFxeQM3MzMzMJmJAmpmZmZkfZUBmZmZmZhhoQDMzMzMzEWtAAAAAAAAKbkBmZmZmZoFwQM3MzMzM/XFAMzMzMzN6c0CamZmZmfZ0QAAAAAAAc3ZAZmZmZmbvd0DNzMzMzGt5QDMzMzMz6HpAmpmZmZlkfEAAAAAAAOF9QGZmZmZmXX9AZmZmZuZsgECamZmZGSuBQM3MzMxM6YFAAAAAAICngkAzMzMzs2WDQGZmZmbmI4RAmpmZmRnihEDNzMzMTKCFQAAAAACAXoZAMzMzM7Mch0BmZmZm5tqHQJqZmZkZmYhAzczMzExXiUAAAAAAgBWKQDMzMzOz04pAZmZmZuaRi0CamZmZGVCMQM3MzMxMDo1AAAAAAIDMjUAzMzMzs4qOQGZmZmbmSI9A\",\"dtype\":\"float64\",\"shape\":[75]}},\"selected\":{\"id\":\"ca33a16a-ffee-4681-80be-4a838b7ad2e6\",\"type\":\"Selection\"},\"selection_policy\":{\"id\":\"223635f9-d0d4-4d66-821d-3fabaca830fe\",\"type\":\"UnionRenderers\"}},\"id\":\"8ecaf171-83d1-416e-854c-1b7fd0ce1f8c\",\"type\":\"ColumnDataSource\"},{\"attributes\":{\"callback\":null,\"data\":{\"x\":{\"__ndarray__\":\"ikxbhKsBhz+nCVcXIm2IP/fJ5OP5XYs/UHKtFAdyjj96m/zrHNCQP9GUKylodJI/qyKx5PcklD/AwnIZceCVP17Hno7eqJc/to91bmN+mT9/vLrXB2GbPwqn6dnKUJ0/95cShldLnz+gZe8i0oqgP3Qhk+KcPqE/aSpeQafboT/nbg/2sXiiP3j0YeuJFqM/Lj7uIwO1oz+Gw+SjS1OkPypSC2xo36Q/TY8a0UVcpD+AOpKJY3aiP7p0jF4fM6A/gFUrnG8HnD92iQu8atCXPxYrJhMQw5M/Bl8SE0ZGkD+67qaOZy2LPzYsDrMMe4Y/K0z2B37fgT+YkHXKQRZ7P22eAFELwXQ/VjYWjsyVcD+sW1fpgsNpPzZUHjLkHmM/iD6ZK/W/Wz+kRhIMQfhSP0WxjZMOwEY/wqnXeZCoND+IBVJQbrrkvqt6rYQarTO/VE32PSCbQr/1OcMAhdtKv51ZMa1k/1C/sUzAaeG9Ub90XTNQAbNNv19VwdkCikW/PDvIFs3HO79KqP7uqIYrvxok8LGrdeu+y6smED4pJj/pp4ch/ic2P2CpcQvQNkA/9gZZL6f1RD/8Td5ecU5JP1LbjSGCPE0/iCkuBOdcUD/43SE6xeBRP0+dYGKgKVM/Z6OquqQ5VD9fgPyqtRdVPzVj6TURzFU/IHPOoSZgVj8p2lq4k9xWP/sI6LThRlc/8cXMOrKdVz+I4ZHaftBXPyyB3NJmtFc/rISm4aYKVz+C5zTE3q9VP66lOrt5xVM/Q0DrTrGSUT/X/Ct/155OP2vCKz3iLUo/\",\"dtype\":\"float64\",\"shape\":[75]},\"y\":{\"__ndarray__\":\"GhExyth1ND/Sv8nbtpRIP2vylNV0PVE/aTum7souWD/At0SJ8fVgPw3Iuahxymc/MSNhhJWvcD/bTfBN02d3P2zb5nxnaoA/CD5h5MAGhz8NmeH1TyaQP+zrCsc9p5Y/LbKd76fGnz/bLW5ISEmmPww9YvTcQq8/JV2OstnstT8Er5Y7M8G+P0c+r3jqkcU/5h99k6ZBzj88bCIzFzjVP4enV8oyxN0//yH99nXg5D8qOpLLf0jtP5kqGJXUifQ/c9cS8kHP/D+/DpwzojQEQIEmwoanVwxA4lgXt9HgE0BSSZ2AJuIbQAMJih9jjiNA5q4l5INuK0AwTKYKRj0zQNv5fmq8/DpAaCJseHrtQkB/+zpwzoxKQM3MzMzMeFJAZmZmZmZqWEAAAAAAAFxeQM3MzMzMJmJAmpmZmZkfZUBmZmZmZhhoQDMzMzMzEWtAAAAAAAAKbkBmZmZmZoFwQM3MzMzM/XFAMzMzMzN6c0CamZmZmfZ0QAAAAAAAc3ZAZmZmZmbvd0DNzMzMzGt5QDMzMzMz6HpAmpmZmZlkfEAAAAAAAOF9QGZmZmZmXX9AZmZmZuZsgECamZmZGSuBQM3MzMxM6YFAAAAAAICngkAzMzMzs2WDQGZmZmbmI4RAmpmZmRnihEDNzMzMTKCFQAAAAACAXoZAMzMzM7Mch0BmZmZm5tqHQJqZmZkZmYhAzczMzExXiUAAAAAAgBWKQDMzMzOz04pAZmZmZuaRi0CamZmZGVCMQM3MzMxMDo1AAAAAAIDMjUAzMzMzs4qOQGZmZmbmSI9A\",\"dtype\":\"float64\",\"shape\":[75]}},\"selected\":{\"id\":\"4f876af8-1f66-4e70-9836-bb93c8eebaca\",\"type\":\"Selection\"},\"selection_policy\":{\"id\":\"654ac402-e2bc-43a0-8915-2e94f93f6cc7\",\"type\":\"UnionRenderers\"}},\"id\":\"e9d5d3e7-96aa-44be-b430-445649533d39\",\"type\":\"ColumnDataSource\"},{\"attributes\":{\"active_drag\":\"auto\",\"active_inspect\":\"auto\",\"active_scroll\":\"auto\",\"active_tap\":\"auto\",\"tools\":[{\"id\":\"e08b3d3e-f58b-46d7-ab47-219b332603b6\",\"type\":\"PanTool\"},{\"id\":\"e130ff88-fcb6-420c-8c5b-95b0c3c00f7b\",\"type\":\"WheelZoomTool\"},{\"id\":\"0623e442-4320-45cd-bf8e-b6181a4e4a91\",\"type\":\"BoxZoomTool\"},{\"id\":\"752f65c3-54b2-415d-bd8c-e5b53bcc6123\",\"type\":\"SaveTool\"},{\"id\":\"184a5100-1100-4f4b-822b-822c273003f4\",\"type\":\"ResetTool\"},{\"id\":\"61bd7b57-0a45-42a4-8bff-c5580116bf82\",\"type\":\"HelpTool\"}]},\"id\":\"225ad923-e86a-4434-989d-6d785d17b03d\",\"type\":\"Toolbar\"},{\"attributes\":{\"line_alpha\":0.3,\"line_color\":\"#377eb8\",\"line_width\":2,\"x\":{\"field\":\"x\"},\"y\":{\"field\":\"y\"}},\"id\":\"270f902c-2483-4ba9-84a1-0473b5836e0c\",\"type\":\"Line\"},{\"attributes\":{\"source\":{\"id\":\"8ecaf171-83d1-416e-854c-1b7fd0ce1f8c\",\"type\":\"ColumnDataSource\"}},\"id\":\"cedca288-97cb-46e2-bb89-a77f8efb166a\",\"type\":\"CDSView\"},{\"attributes\":{\"label\":{\"value\":\"CRD\"},\"renderers\":[{\"id\":\"3052e59f-86e9-4247-bb2c-b8775c0399d6\",\"type\":\"GlyphRenderer\"},{\"id\":\"5f927f60-c1a6-43b8-af70-cf6083a2ad5a\",\"type\":\"GlyphRenderer\"}]},\"id\":\"bfca1b65-3d13-4e09-b9da-9308f75ac993\",\"type\":\"LegendItem\"},{\"attributes\":{\"callback\":null,\"end\":0.04490856051149,\"start\":-0.0004557876604900001},\"id\":\"4cf7c5b0-0587-40f5-8ab2-8d64c13d2c1d\",\"type\":\"Range1d\"},{\"attributes\":{\"data_source\":{\"id\":\"64cacb09-2db0-486a-bbde-8a70ea556fa5\",\"type\":\"ColumnDataSource\"},\"glyph\":{\"id\":\"a5de346d-477f-4e2f-997b-5f6852ca4773\",\"type\":\"Line\"},\"hover_glyph\":null,\"muted_glyph\":null,\"nonselection_glyph\":{\"id\":\"e3978926-45ea-4f1b-af71-4800ba1d7561\",\"type\":\"Line\"},\"selection_glyph\":null,\"view\":{\"id\":\"8e4f33ff-faed-4a7b-ad80-439d52ad6670\",\"type\":\"CDSView\"}},\"id\":\"e194c28d-69ad-4d6d-ac5e-b1778d93007c\",\"type\":\"GlyphRenderer\"},{\"attributes\":{\"data_source\":{\"id\":\"8ecaf171-83d1-416e-854c-1b7fd0ce1f8c\",\"type\":\"ColumnDataSource\"},\"glyph\":{\"id\":\"ec660e2c-d040-4adb-b07e-4eb7dacaa66d\",\"type\":\"Square\"},\"hover_glyph\":null,\"muted_glyph\":null,\"nonselection_glyph\":{\"id\":\"f3521262-0ef3-4174-8b52-2c587306eb03\",\"type\":\"Square\"},\"selection_glyph\":null,\"view\":{\"id\":\"cedca288-97cb-46e2-bb89-a77f8efb166a\",\"type\":\"CDSView\"}},\"id\":\"481bd9ec-2b38-4cac-a885-11cffa2b8b50\",\"type\":\"GlyphRenderer\"},{\"attributes\":{\"label\":{\"value\":\"WGT igg=10\"},\"renderers\":[{\"id\":\"4adf2c76-0b57-4287-8b81-ec30dc62d7c0\",\"type\":\"GlyphRenderer\"},{\"id\":\"6aca2640-21dd-41ee-a7f5-6523742ef257\",\"type\":\"GlyphRenderer\"}]},\"id\":\"7858956d-5170-4240-966b-4d0ccd3a40a1\",\"type\":\"LegendItem\"},{\"attributes\":{\"axis_label\":\"cooling rate [K/day]\",\"formatter\":{\"id\":\"4157b7e6-ba24-4372-b3c1-03f54367ce08\",\"type\":\"BasicTickFormatter\"},\"plot\":{\"id\":\"12fbd888-30c7-4cbf-b187-3ec7ae86cec8\",\"subtype\":\"Figure\",\"type\":\"Plot\"},\"ticker\":{\"id\":\"8ee472ff-8aaf-4473-82ab-0a9fc9b85334\",\"type\":\"BasicTicker\"}},\"id\":\"8c664aa9-d3fe-4f45-9a98-67acb10c9d59\",\"type\":\"LinearAxis\"},{\"attributes\":{\"label\":{\"value\":\"WGT igg=1\"},\"renderers\":[{\"id\":\"b789203b-da81-4dcf-9a3a-cb9e53bbd3fd\",\"type\":\"GlyphRenderer\"},{\"id\":\"5d3f9925-247a-458c-8c89-81e2de1629b9\",\"type\":\"GlyphRenderer\"}]},\"id\":\"c4bbe7b2-1b75-4908-85d1-4a58670fbce8\",\"type\":\"LegendItem\"},{\"attributes\":{\"items\":[{\"id\":\"394661d4-c710-4276-8953-211dd25aeaff\",\"type\":\"LegendItem\"},{\"id\":\"bd223edd-01bb-416a-9fc3-3b331cece604\",\"type\":\"LegendItem\"},{\"id\":\"70bffe3e-28fc-4816-84f3-64b15baefb7b\",\"type\":\"LegendItem\"}],\"label_text_font_size\":{\"value\":\"8pt\"},\"location\":\"top_center\",\"orientation\":\"horizontal\",\"plot\":{\"id\":\"12fbd888-30c7-4cbf-b187-3ec7ae86cec8\",\"subtype\":\"Figure\",\"type\":\"Plot\"}},\"id\":\"48d59645-38d7-4ad2-bf1b-791f075c9d49\",\"type\":\"Legend\"},{\"attributes\":{},\"id\":\"c475a8b7-c962-4eee-98f1-e6545e245a53\",\"type\":\"LinearScale\"},{\"attributes\":{},\"id\":\"163b3d50-6edb-4501-87f6-925faaae0e49\",\"type\":\"LogScale\"},{\"attributes\":{\"axis_label\":\"pressure [mb]\",\"formatter\":{\"id\":\"8f0d0f0d-97f7-48d9-ae93-e869be0c2897\",\"type\":\"LogTickFormatter\"},\"plot\":{\"id\":\"12fbd888-30c7-4cbf-b187-3ec7ae86cec8\",\"subtype\":\"Figure\",\"type\":\"Plot\"},\"ticker\":{\"id\":\"9ec71b13-1424-4fa5-82ae-b77aaf7ff91b\",\"type\":\"LogTicker\"}},\"id\":\"5edecb36-4c33-407f-b501-482140af0328\",\"type\":\"LogAxis\"},{\"attributes\":{\"line_alpha\":0.1,\"line_color\":\"#1f77b4\",\"line_width\":2,\"x\":{\"field\":\"x\"},\"y\":{\"field\":\"y\"}},\"id\":\"75b2cd98-b894-40b7-8ff9-f3e37391dc6f\",\"type\":\"Line\"},{\"attributes\":{\"num_minor_ticks\":10},\"id\":\"9ec71b13-1424-4fa5-82ae-b77aaf7ff91b\",\"type\":\"LogTicker\"},{\"attributes\":{\"line_alpha\":0.1,\"line_color\":\"#1f77b4\",\"line_width\":3,\"x\":{\"field\":\"x\"},\"y\":{\"field\":\"y\"}},\"id\":\"5e86799d-3c18-458c-ba0a-817dbfb6e983\",\"type\":\"Line\"},{\"attributes\":{\"dimension\":1,\"plot\":{\"id\":\"12fbd888-30c7-4cbf-b187-3ec7ae86cec8\",\"subtype\":\"Figure\",\"type\":\"Plot\"},\"ticker\":{\"id\":\"9ec71b13-1424-4fa5-82ae-b77aaf7ff91b\",\"type\":\"LogTicker\"}},\"id\":\"e0a8d75a-6c79-4114-9171-96c35c1021fe\",\"type\":\"Grid\"},{\"attributes\":{\"source\":{\"id\":\"4180b7d3-5dd2-4f9e-a749-b8ff649cb425\",\"type\":\"ColumnDataSource\"}},\"id\":\"5099d31e-ffd8-4929-a01f-24f8ab4db6a0\",\"type\":\"CDSView\"},{\"attributes\":{\"plot\":null,\"text\":\"\"},\"id\":\"b3f0819f-e9cd-4b1f-aef9-039db589d7f8\",\"type\":\"Title\"},{\"attributes\":{\"source\":{\"id\":\"64cacb09-2db0-486a-bbde-8a70ea556fa5\",\"type\":\"ColumnDataSource\"}},\"id\":\"8e4f33ff-faed-4a7b-ad80-439d52ad6670\",\"type\":\"CDSView\"},{\"attributes\":{\"bottom_units\":\"screen\",\"fill_alpha\":{\"value\":0.5},\"fill_color\":{\"value\":\"lightgrey\"},\"left_units\":\"screen\",\"level\":\"overlay\",\"line_alpha\":{\"value\":1.0},\"line_color\":{\"value\":\"black\"},\"line_dash\":[4,4],\"line_width\":{\"value\":2},\"plot\":null,\"render_mode\":\"css\",\"right_units\":\"screen\",\"top_units\":\"screen\"},\"id\":\"f77395c4-13e7-44c7-acca-ac99e249cc6f\",\"type\":\"BoxAnnotation\"},{\"attributes\":{\"line_color\":\"#4daf4a\",\"line_width\":1.5,\"x\":{\"field\":\"x\"},\"y\":{\"field\":\"y\"}},\"id\":\"a5de346d-477f-4e2f-997b-5f6852ca4773\",\"type\":\"Line\"},{\"attributes\":{},\"id\":\"e08b3d3e-f58b-46d7-ab47-219b332603b6\",\"type\":\"PanTool\"},{\"attributes\":{},\"id\":\"e130ff88-fcb6-420c-8c5b-95b0c3c00f7b\",\"type\":\"WheelZoomTool\"},{\"attributes\":{\"callback\":null,\"data\":{\"x\":{\"__ndarray__\":\"psgIRUZJiD+0TtZUiNqJP8IERV6cGY0/Xt8XL8c/kD/kQH8JKwGSPw4Mfu0p0ZM/2QUWz7+ulT9k/9IoeJiXP9hQIKKHkJk/VmV86wWXmz+B3a5sJqydP/LuMDziz58//Qvmqtf/oD8DNy+nNP2hP5MGODabxKI/k0cKQRt0oz+FLtlfEyWkP1XBRXqT16Q/hv4lg4WOpT8cOQBSAxymP2YK9o8gvaY/b7JKP5oXpj/UxF7Pp/OjPyGAlAunYqE/PctyYNnPnT8PfgjInAmZP3/cZ13vc5Q/35J8ItiDkD88it24cf2KP7kQYmkLyIU/TJtCT9DLgD+wXaU1aX54PwbV9/t0JXI/+1pkKfyTbD8eRNBwgQZmPwp1RpAZU2A/vR44XYnWVz+gSkGoDVtQPywgwA0Op0M/4uEUXEouMj8yYqiCyTWuPn4M3W+YTDC/tY5siL23P78UPm+/02JHv8EBErh9M06/y0vEqA+ET7+8HnKw3o5Jv1UDPPpvc0G/Mma+Evo7NL8kqN2FHH4cv1z0v2SK9hI/mxZMECAuLz+UsQysOpM5P1vcMc5RZUE/98jyxeOjRT+Ex6LGNYVJP8wJlB79BU0/tN1eG04QUD+if/YqSGhRP5cge+rFilI/YzcFVCV6Uz8JNC7VMj1UP4yjwOtE3FQ/4biTnh5hVT8ITmuG3NRVP0MqggSwPVY/PuZ4DxSbVj9j6d8QE91WP3oGxt5o11Y/SLAPrwZIVj8Duf0XbAhVP/tKkjE/OlM/Ni/WkQ0mUT8VKwltoQVOP7WovTPbz0k/\",\"dtype\":\"float64\",\"shape\":[75]},\"y\":{\"__ndarray__\":\"GhExyth1ND/Sv8nbtpRIP2vylNV0PVE/aTum7souWD/At0SJ8fVgPw3Iuahxymc/MSNhhJWvcD/bTfBN02d3P2zb5nxnaoA/CD5h5MAGhz8NmeH1TyaQP+zrCsc9p5Y/LbKd76fGnz/bLW5ISEmmPww9YvTcQq8/JV2OstnstT8Er5Y7M8G+P0c+r3jqkcU/5h99k6ZBzj88bCIzFzjVP4enV8oyxN0//yH99nXg5D8qOpLLf0jtP5kqGJXUifQ/c9cS8kHP/D+/DpwzojQEQIEmwoanVwxA4lgXt9HgE0BSSZ2AJuIbQAMJih9jjiNA5q4l5INuK0AwTKYKRj0zQNv5fmq8/DpAaCJseHrtQkB/+zpwzoxKQM3MzMzMeFJAZmZmZmZqWEAAAAAAAFxeQM3MzMzMJmJAmpmZmZkfZUBmZmZmZhhoQDMzMzMzEWtAAAAAAAAKbkBmZmZmZoFwQM3MzMzM/XFAMzMzMzN6c0CamZmZmfZ0QAAAAAAAc3ZAZmZmZmbvd0DNzMzMzGt5QDMzMzMz6HpAmpmZmZlkfEAAAAAAAOF9QGZmZmZmXX9AZmZmZuZsgECamZmZGSuBQM3MzMxM6YFAAAAAAICngkAzMzMzs2WDQGZmZmbmI4RAmpmZmRnihEDNzMzMTKCFQAAAAACAXoZAMzMzM7Mch0BmZmZm5tqHQJqZmZkZmYhAzczMzExXiUAAAAAAgBWKQDMzMzOz04pAZmZmZuaRi0CamZmZGVCMQM3MzMxMDo1AAAAAAIDMjUAzMzMzs4qOQGZmZmbmSI9A\",\"dtype\":\"float64\",\"shape\":[75]}},\"selected\":{\"id\":\"f925215e-b80d-4e3b-81d2-fd7405192869\",\"type\":\"Selection\"},\"selection_policy\":{\"id\":\"612e95e1-64c5-44fd-bd76-1f35bd04620a\",\"type\":\"UnionRenderers\"}},\"id\":\"4180b7d3-5dd2-4f9e-a749-b8ff649cb425\",\"type\":\"ColumnDataSource\"},{\"attributes\":{\"overlay\":{\"id\":\"f77395c4-13e7-44c7-acca-ac99e249cc6f\",\"type\":\"BoxAnnotation\"}},\"id\":\"0623e442-4320-45cd-bf8e-b6181a4e4a91\",\"type\":\"BoxZoomTool\"},{\"attributes\":{\"data_source\":{\"id\":\"4180b7d3-5dd2-4f9e-a749-b8ff649cb425\",\"type\":\"ColumnDataSource\"},\"glyph\":{\"id\":\"b5b1c916-ead0-4c05-9571-1d5ca82a450c\",\"type\":\"Line\"},\"hover_glyph\":null,\"muted_glyph\":null,\"nonselection_glyph\":{\"id\":\"5e86799d-3c18-458c-ba0a-817dbfb6e983\",\"type\":\"Line\"},\"selection_glyph\":null,\"view\":{\"id\":\"5099d31e-ffd8-4929-a01f-24f8ab4db6a0\",\"type\":\"CDSView\"}},\"id\":\"78913f82-cbf2-4bed-a686-30d18e69d640\",\"type\":\"GlyphRenderer\"},{\"attributes\":{},\"id\":\"752f65c3-54b2-415d-bd8c-e5b53bcc6123\",\"type\":\"SaveTool\"},{\"attributes\":{\"fill_alpha\":{\"value\":0.7},\"fill_color\":{\"value\":\"#984ea3\"},\"line_alpha\":{\"value\":0.7},\"line_color\":{\"value\":\"#984ea3\"},\"x\":{\"field\":\"x\"},\"y\":{\"field\":\"y\"}},\"id\":\"ec660e2c-d040-4adb-b07e-4eb7dacaa66d\",\"type\":\"Square\"},{\"attributes\":{},\"id\":\"184a5100-1100-4f4b-822b-822c273003f4\",\"type\":\"ResetTool\"},{\"attributes\":{\"line_alpha\":0.6,\"line_color\":\"#984ea3\",\"line_width\":3,\"x\":{\"field\":\"x\"},\"y\":{\"field\":\"y\"}},\"id\":\"b5b1c916-ead0-4c05-9571-1d5ca82a450c\",\"type\":\"Line\"},{\"attributes\":{},\"id\":\"61bd7b57-0a45-42a4-8bff-c5580116bf82\",\"type\":\"HelpTool\"},{\"attributes\":{\"fill_alpha\":{\"value\":0.7},\"fill_color\":{\"value\":\"#377eb8\"},\"line_alpha\":{\"value\":0.7},\"line_color\":{\"value\":\"#377eb8\"},\"x\":{\"field\":\"x\"},\"y\":{\"field\":\"y\"}},\"id\":\"628cc245-2477-4b06-ad6c-0dff8450ec46\",\"type\":\"Triangle\"},{\"attributes\":{\"callback\":null,\"data\":{\"x\":{\"__ndarray__\":\"ikxbhKsBhz+nCVcXIm2IP/fJ5OP5XYs/UHKtFAdyjj96m/zrHNCQP9GUKylodJI/qyKx5PcklD/AwnIZceCVP17Hno7eqJc/to91bmN+mT9/vLrXB2GbPwqn6dnKUJ0/95cShldLnz+gZe8i0oqgP3Qhk+KcPqE/aSpeQafboT/nbg/2sXiiP3j0YeuJFqM/Lj7uIwO1oz+Gw+SjS1OkPypSC2xo36Q/TY8a0UVcpD+AOpKJY3aiP7p0jF4fM6A/gFUrnG8HnD92iQu8atCXPxYrJhMQw5M/Bl8SE0ZGkD+67qaOZy2LPzYsDrMMe4Y/K0z2B37fgT+YkHXKQRZ7P22eAFELwXQ/VjYWjsyVcD+sW1fpgsNpPzZUHjLkHmM/iD6ZK/W/Wz+kRhIMQfhSP0WxjZMOwEY/wqnXeZCoND+IBVJQbrrkvqt6rYQarTO/VE32PSCbQr/1OcMAhdtKv51ZMa1k/1C/sUzAaeG9Ub90XTNQAbNNv19VwdkCikW/PDvIFs3HO79KqP7uqIYrvxok8LGrdeu+y6smED4pJj/pp4ch/ic2P2CpcQvQNkA/9gZZL6f1RD/8Td5ecU5JP1LbjSGCPE0/iCkuBOdcUD/43SE6xeBRP0+dYGKgKVM/Z6OquqQ5VD9fgPyqtRdVPzVj6TURzFU/IHPOoSZgVj8p2lq4k9xWP/sI6LThRlc/8cXMOrKdVz+I4ZHaftBXPyyB3NJmtFc/rISm4aYKVz+C5zTE3q9VP66lOrt5xVM/Q0DrTrGSUT/X/Ct/155OP2vCKz3iLUo/\",\"dtype\":\"float64\",\"shape\":[75]},\"y\":{\"__ndarray__\":\"GhExyth1ND/Sv8nbtpRIP2vylNV0PVE/aTum7souWD/At0SJ8fVgPw3Iuahxymc/MSNhhJWvcD/bTfBN02d3P2zb5nxnaoA/CD5h5MAGhz8NmeH1TyaQP+zrCsc9p5Y/LbKd76fGnz/bLW5ISEmmPww9YvTcQq8/JV2OstnstT8Er5Y7M8G+P0c+r3jqkcU/5h99k6ZBzj88bCIzFzjVP4enV8oyxN0//yH99nXg5D8qOpLLf0jtP5kqGJXUifQ/c9cS8kHP/D+/DpwzojQEQIEmwoanVwxA4lgXt9HgE0BSSZ2AJuIbQAMJih9jjiNA5q4l5INuK0AwTKYKRj0zQNv5fmq8/DpAaCJseHrtQkB/+zpwzoxKQM3MzMzMeFJAZmZmZmZqWEAAAAAAAFxeQM3MzMzMJmJAmpmZmZkfZUBmZmZmZhhoQDMzMzMzEWtAAAAAAAAKbkBmZmZmZoFwQM3MzMzM/XFAMzMzMzN6c0CamZmZmfZ0QAAAAAAAc3ZAZmZmZmbvd0DNzMzMzGt5QDMzMzMz6HpAmpmZmZlkfEAAAAAAAOF9QGZmZmZmXX9AZmZmZuZsgECamZmZGSuBQM3MzMxM6YFAAAAAAICngkAzMzMzs2WDQGZmZmbmI4RAmpmZmRnihEDNzMzMTKCFQAAAAACAXoZAMzMzM7Mch0BmZmZm5tqHQJqZmZkZmYhAzczMzExXiUAAAAAAgBWKQDMzMzOz04pAZmZmZuaRi0CamZmZGVCMQM3MzMxMDo1AAAAAAIDMjUAzMzMzs4qOQGZmZmbmSI9A\",\"dtype\":\"float64\",\"shape\":[75]}},\"selected\":{\"id\":\"69a05aa1-3f88-4825-a521-feeb8167fcdd\",\"type\":\"Selection\"},\"selection_policy\":{\"id\":\"4a9fd3cd-d882-4fdd-93cb-2dda54b0df85\",\"type\":\"UnionRenderers\"}},\"id\":\"540d7a17-4310-4b04-97cd-0318ecca0ccf\",\"type\":\"ColumnDataSource\"},{\"attributes\":{\"source\":{\"id\":\"ac067aa6-77b4-4524-94c8-8f5529aace5f\",\"type\":\"ColumnDataSource\"}},\"id\":\"96e5593d-b57e-47c0-b1a7-6eee2c26d809\",\"type\":\"CDSView\"},{\"attributes\":{\"callback\":null,\"data\":{\"x\":{\"__ndarray__\":\"ikxbhKsBhz+nCVcXIm2IP/fJ5OP5XYs/UHKtFAdyjj96m/zrHNCQP9GUKylodJI/qyKx5PcklD/AwnIZceCVP17Hno7eqJc/to91bmN+mT9/vLrXB2GbPwqn6dnKUJ0/95cShldLnz+gZe8i0oqgP3Qhk+KcPqE/aSpeQafboT/nbg/2sXiiP3j0YeuJFqM/Lj7uIwO1oz+Gw+SjS1OkPypSC2xo36Q/TY8a0UVcpD+AOpKJY3aiP7p0jF4fM6A/gFUrnG8HnD92iQu8atCXPxYrJhMQw5M/Bl8SE0ZGkD+67qaOZy2LPzYsDrMMe4Y/K0z2B37fgT+YkHXKQRZ7P22eAFELwXQ/VjYWjsyVcD+sW1fpgsNpPzZUHjLkHmM/iD6ZK/W/Wz+kRhIMQfhSP0WxjZMOwEY/wqnXeZCoND+IBVJQbrrkvqt6rYQarTO/VE32PSCbQr/1OcMAhdtKv51ZMa1k/1C/sUzAaeG9Ub90XTNQAbNNv19VwdkCikW/PDvIFs3HO79KqP7uqIYrvxok8LGrdeu+y6smED4pJj/pp4ch/ic2P2CpcQvQNkA/9gZZL6f1RD/8Td5ecU5JP1LbjSGCPE0/iCkuBOdcUD/43SE6xeBRP0+dYGKgKVM/Z6OquqQ5VD9fgPyqtRdVPzVj6TURzFU/IHPOoSZgVj8p2lq4k9xWP/sI6LThRlc/8cXMOrKdVz+I4ZHaftBXPyyB3NJmtFc/rISm4aYKVz+C5zTE3q9VP66lOrt5xVM/Q0DrTrGSUT/X/Ct/155OP2vCKz3iLUo/\",\"dtype\":\"float64\",\"shape\":[75]},\"y\":{\"__ndarray__\":\"GhExyth1ND/Sv8nbtpRIP2vylNV0PVE/aTum7souWD/At0SJ8fVgPw3Iuahxymc/MSNhhJWvcD/bTfBN02d3P2zb5nxnaoA/CD5h5MAGhz8NmeH1TyaQP+zrCsc9p5Y/LbKd76fGnz/bLW5ISEmmPww9YvTcQq8/JV2OstnstT8Er5Y7M8G+P0c+r3jqkcU/5h99k6ZBzj88bCIzFzjVP4enV8oyxN0//yH99nXg5D8qOpLLf0jtP5kqGJXUifQ/c9cS8kHP/D+/DpwzojQEQIEmwoanVwxA4lgXt9HgE0BSSZ2AJuIbQAMJih9jjiNA5q4l5INuK0AwTKYKRj0zQNv5fmq8/DpAaCJseHrtQkB/+zpwzoxKQM3MzMzMeFJAZmZmZmZqWEAAAAAAAFxeQM3MzMzMJmJAmpmZmZkfZUBmZmZmZhhoQDMzMzMzEWtAAAAAAAAKbkBmZmZmZoFwQM3MzMzM/XFAMzMzMzN6c0CamZmZmfZ0QAAAAAAAc3ZAZmZmZmbvd0DNzMzMzGt5QDMzMzMz6HpAmpmZmZlkfEAAAAAAAOF9QGZmZmZmXX9AZmZmZuZsgECamZmZGSuBQM3MzMxM6YFAAAAAAICngkAzMzMzs2WDQGZmZmbmI4RAmpmZmRnihEDNzMzMTKCFQAAAAACAXoZAMzMzM7Mch0BmZmZm5tqHQJqZmZkZmYhAzczMzExXiUAAAAAAgBWKQDMzMzOz04pAZmZmZuaRi0CamZmZGVCMQM3MzMxMDo1AAAAAAIDMjUAzMzMzs4qOQGZmZmbmSI9A\",\"dtype\":\"float64\",\"shape\":[75]}},\"selected\":{\"id\":\"b5e744a3-8731-40bf-ac30-c263cabdee71\",\"type\":\"Selection\"},\"selection_policy\":{\"id\":\"89be50a3-4504-4c0a-b288-362fb7ead333\",\"type\":\"UnionRenderers\"}},\"id\":\"ac067aa6-77b4-4524-94c8-8f5529aace5f\",\"type\":\"ColumnDataSource\"},{\"attributes\":{\"fill_alpha\":{\"value\":0.1},\"fill_color\":{\"value\":\"#1f77b4\"},\"line_alpha\":{\"value\":0.1},\"line_color\":{\"value\":\"#1f77b4\"},\"x\":{\"field\":\"x\"},\"y\":{\"field\":\"y\"}},\"id\":\"40f2620c-46d4-4790-8665-267c417662c9\",\"type\":\"Triangle\"},{\"attributes\":{\"line_alpha\":0.3,\"line_color\":\"#377eb8\",\"line_width\":2,\"x\":{\"field\":\"x\"},\"y\":{\"field\":\"y\"}},\"id\":\"98274ee3-632f-4468-8f50-1b3efb92baf6\",\"type\":\"Line\"},{\"attributes\":{\"children\":[{\"id\":\"f5e83d5a-d756-4212-afbc-cb685d986369\",\"type\":\"Row\"}]},\"id\":\"50966469-e858-4ef1-a3ad-a7fef894dced\",\"type\":\"Column\"},{\"attributes\":{\"data_source\":{\"id\":\"ac067aa6-77b4-4524-94c8-8f5529aace5f\",\"type\":\"ColumnDataSource\"},\"glyph\":{\"id\":\"628cc245-2477-4b06-ad6c-0dff8450ec46\",\"type\":\"Triangle\"},\"hover_glyph\":null,\"muted_glyph\":null,\"nonselection_glyph\":{\"id\":\"40f2620c-46d4-4790-8665-267c417662c9\",\"type\":\"Triangle\"},\"selection_glyph\":null,\"view\":{\"id\":\"96e5593d-b57e-47c0-b1a7-6eee2c26d809\",\"type\":\"CDSView\"}},\"id\":\"5e4f688f-86b3-40b5-adf4-97fea907db8a\",\"type\":\"GlyphRenderer\"},{\"attributes\":{\"fill_alpha\":{\"value\":0.7},\"fill_color\":{\"value\":\"#4daf4a\"},\"line_alpha\":{\"value\":0.7},\"line_color\":{\"value\":\"#4daf4a\"},\"x\":{\"field\":\"x\"},\"y\":{\"field\":\"y\"}},\"id\":\"dbbb99f0-1357-418f-9eb8-9d12294c2a26\",\"type\":\"Circle\"},{\"attributes\":{\"data_source\":{\"id\":\"540d7a17-4310-4b04-97cd-0318ecca0ccf\",\"type\":\"ColumnDataSource\"},\"glyph\":{\"id\":\"98274ee3-632f-4468-8f50-1b3efb92baf6\",\"type\":\"Line\"},\"hover_glyph\":null,\"muted_glyph\":null,\"nonselection_glyph\":{\"id\":\"75b2cd98-b894-40b7-8ff9-f3e37391dc6f\",\"type\":\"Line\"},\"selection_glyph\":null,\"view\":{\"id\":\"d846962f-373d-404d-9200-fe38aacfb478\",\"type\":\"CDSView\"}},\"id\":\"657821b3-a7ea-4c06-88c5-500f4176e140\",\"type\":\"GlyphRenderer\"},{\"attributes\":{\"source\":{\"id\":\"540d7a17-4310-4b04-97cd-0318ecca0ccf\",\"type\":\"ColumnDataSource\"}},\"id\":\"d846962f-373d-404d-9200-fe38aacfb478\",\"type\":\"CDSView\"},{\"attributes\":{\"plot\":null,\"text\":\"\"},\"id\":\"76840bf6-f3fc-49e8-9935-bf484328fb23\",\"type\":\"Title\"},{\"attributes\":{\"children\":[{\"id\":\"824a5818-9269-47e6-9c29-8308abfc91e0\",\"subtype\":\"Figure\",\"type\":\"Plot\"},{\"id\":\"12fbd888-30c7-4cbf-b187-3ec7ae86cec8\",\"subtype\":\"Figure\",\"type\":\"Plot\"}]},\"id\":\"f5e83d5a-d756-4212-afbc-cb685d986369\",\"type\":\"Row\"},{\"attributes\":{\"label\":{\"value\":\"CRD\"},\"renderers\":[{\"id\":\"895e67e2-84d4-4686-9252-81a636135f3e\",\"type\":\"GlyphRenderer\"},{\"id\":\"e194c28d-69ad-4d6d-ac5e-b1778d93007c\",\"type\":\"GlyphRenderer\"}]},\"id\":\"394661d4-c710-4276-8953-211dd25aeaff\",\"type\":\"LegendItem\"},{\"attributes\":{\"callback\":null,\"data\":{\"x\":{\"__ndarray__\":\"TSxaQ5zcgz8y8Dzu5J6FP9i+LF8qRYk/3hH3U0EXjT/Puz9LSIWQP7IzmbJSj5I/XjiE6BiplD+CTWOcO9GWPypm9AvFCZk/t0yuq8dSmz/5WxxEVKmdPxqMILRvBaA/cEffdDA6oT9/T7bFWE2iPyRQ3naKHaM/ht7TthDNoz/MIkKTLHakPyK3+VsPGqU/2g1we2G2pT9kUIQMmEumP/p9yvT1w6Y/O/wmLnbkpT9ZXNIHgUujP/3HfB+SSqA/5dHw2mPxmj+QBaOX87qVPzrFhzKE/pA/ipF2uitvij8PDiZgnEGFP4wHf7JuK4E/0oVgblqdej9asH2WIW1zP9VWCaoPKm0/h9JvQ7KeZz+1Bpus5HJiP1oMEw/lWVs/ETT7vxDZUz+HHSL4kMJKP+4ihTY/Jz8/kn/PWmCKKz9XxvUVmSbnvoTP940DaSu/u3zyO7gtOr+mRFkd339Dv2cj6muXvUm/NVeU11L6Sr/t0n81CFlFv6F28WE2EDy/JdlJUpBeL7/EruBuMdsUv5/Xvqhc6Q4/3OeSoyzKJz/BcdePnBszP/pxmO5qpTk/SW8/eZeXPz+QToV/U3xCP3jU0fWD40Q/vNqMn+T9Rj+2iExEG8hIP5Zsn+yQQko/cZj4mnFySz8GufLYB2VMP+qaCUwKK00/eAMhiy3YTT/cEil3cX9OP5Jrj5UlL08/pG2H2//oTz9NoxjDzUdQPwjFCR1KZVA/NKTfMiMIUD9xlq3inA1OP8Cqcz+5A0s/iocdolOBRz8nhLguBexDP0dcjBvGZEA/\",\"dtype\":\"float64\",\"shape\":[75]},\"y\":{\"__ndarray__\":\"GhExyth1ND/Sv8nbtpRIP2vylNV0PVE/aTum7souWD/At0SJ8fVgPw3Iuahxymc/MSNhhJWvcD/bTfBN02d3P2zb5nxnaoA/CD5h5MAGhz8NmeH1TyaQP+zrCsc9p5Y/LbKd76fGnz/bLW5ISEmmPww9YvTcQq8/JV2OstnstT8Er5Y7M8G+P0c+r3jqkcU/5h99k6ZBzj88bCIzFzjVP4enV8oyxN0//yH99nXg5D8qOpLLf0jtP5kqGJXUifQ/c9cS8kHP/D+/DpwzojQEQIEmwoanVwxA4lgXt9HgE0BSSZ2AJuIbQAMJih9jjiNA5q4l5INuK0AwTKYKRj0zQNv5fmq8/DpAaCJseHrtQkB/+zpwzoxKQM3MzMzMeFJAZmZmZmZqWEAAAAAAAFxeQM3MzMzMJmJAmpmZmZkfZUBmZmZmZhhoQDMzMzMzEWtAAAAAAAAKbkBmZmZmZoFwQM3MzMzM/XFAMzMzMzN6c0CamZmZmfZ0QAAAAAAAc3ZAZmZmZmbvd0DNzMzMzGt5QDMzMzMz6HpAmpmZmZlkfEAAAAAAAOF9QGZmZmZmXX9AZmZmZuZsgECamZmZGSuBQM3MzMxM6YFAAAAAAICngkAzMzMzs2WDQGZmZmbmI4RAmpmZmRnihEDNzMzMTKCFQAAAAACAXoZAMzMzM7Mch0BmZmZm5tqHQJqZmZkZmYhAzczMzExXiUAAAAAAgBWKQDMzMzOz04pAZmZmZuaRi0CamZmZGVCMQM3MzMxMDo1AAAAAAIDMjUAzMzMzs4qOQGZmZmbmSI9A\",\"dtype\":\"float64\",\"shape\":[75]}},\"selected\":{\"id\":\"0d95ca90-6c14-4d2b-9467-8ea4b78d0d00\",\"type\":\"Selection\"},\"selection_policy\":{\"id\":\"649b07b4-340b-4df5-b803-7d18564bdff7\",\"type\":\"UnionRenderers\"}},\"id\":\"9327c63f-da3f-45bc-9c85-bd70176b27e8\",\"type\":\"ColumnDataSource\"},{\"attributes\":{},\"id\":\"0fbf5024-44f5-445e-8c93-f3bac7081e85\",\"type\":\"UnionRenderers\"},{\"attributes\":{\"label\":{\"value\":\"WGT igg=1\"},\"renderers\":[{\"id\":\"481bd9ec-2b38-4cac-a885-11cffa2b8b50\",\"type\":\"GlyphRenderer\"},{\"id\":\"78913f82-cbf2-4bed-a686-30d18e69d640\",\"type\":\"GlyphRenderer\"}]},\"id\":\"bd223edd-01bb-416a-9fc3-3b331cece604\",\"type\":\"LegendItem\"},{\"attributes\":{\"fill_alpha\":{\"value\":0.1},\"fill_color\":{\"value\":\"#1f77b4\"},\"line_alpha\":{\"value\":0.1},\"line_color\":{\"value\":\"#1f77b4\"},\"x\":{\"field\":\"x\"},\"y\":{\"field\":\"y\"}},\"id\":\"ecae5654-dbb0-4cb6-92f5-3f9c0126e4a2\",\"type\":\"Circle\"},{\"attributes\":{},\"id\":\"ad0f836c-68cc-4be6-9daf-26efff61ae31\",\"type\":\"UnionRenderers\"},{\"attributes\":{\"label\":{\"value\":\"WGT igg=10\"},\"renderers\":[{\"id\":\"5e4f688f-86b3-40b5-adf4-97fea907db8a\",\"type\":\"GlyphRenderer\"},{\"id\":\"657821b3-a7ea-4c06-88c5-500f4176e140\",\"type\":\"GlyphRenderer\"}]},\"id\":\"70bffe3e-28fc-4816-84f3-64b15baefb7b\",\"type\":\"LegendItem\"},{\"attributes\":{\"callback\":null,\"data\":{\"x\":{\"__ndarray__\":\"TSxaQ5zcgz8y8Dzu5J6FP9i+LF8qRYk/3hH3U0EXjT/Puz9LSIWQP7IzmbJSj5I/XjiE6BiplD+CTWOcO9GWPypm9AvFCZk/t0yuq8dSmz/5WxxEVKmdPxqMILRvBaA/cEffdDA6oT9/T7bFWE2iPyRQ3naKHaM/ht7TthDNoz/MIkKTLHakPyK3+VsPGqU/2g1we2G2pT9kUIQMmEumP/p9yvT1w6Y/O/wmLnbkpT9ZXNIHgUujP/3HfB+SSqA/5dHw2mPxmj+QBaOX87qVPzrFhzKE/pA/ipF2uitvij8PDiZgnEGFP4wHf7JuK4E/0oVgblqdej9asH2WIW1zP9VWCaoPKm0/h9JvQ7KeZz+1Bpus5HJiP1oMEw/lWVs/ETT7vxDZUz+HHSL4kMJKP+4ihTY/Jz8/kn/PWmCKKz9XxvUVmSbnvoTP940DaSu/u3zyO7gtOr+mRFkd339Dv2cj6muXvUm/NVeU11L6Sr/t0n81CFlFv6F28WE2EDy/JdlJUpBeL7/EruBuMdsUv5/Xvqhc6Q4/3OeSoyzKJz/BcdePnBszP/pxmO5qpTk/SW8/eZeXPz+QToV/U3xCP3jU0fWD40Q/vNqMn+T9Rj+2iExEG8hIP5Zsn+yQQko/cZj4mnFySz8GufLYB2VMP+qaCUwKK00/eAMhiy3YTT/cEil3cX9OP5Jrj5UlL08/pG2H2//oTz9NoxjDzUdQPwjFCR1KZVA/NKTfMiMIUD9xlq3inA1OP8Cqcz+5A0s/iocdolOBRz8nhLguBexDP0dcjBvGZEA/\",\"dtype\":\"float64\",\"shape\":[75]},\"y\":{\"__ndarray__\":\"GhExyth1ND/Sv8nbtpRIP2vylNV0PVE/aTum7souWD/At0SJ8fVgPw3Iuahxymc/MSNhhJWvcD/bTfBN02d3P2zb5nxnaoA/CD5h5MAGhz8NmeH1TyaQP+zrCsc9p5Y/LbKd76fGnz/bLW5ISEmmPww9YvTcQq8/JV2OstnstT8Er5Y7M8G+P0c+r3jqkcU/5h99k6ZBzj88bCIzFzjVP4enV8oyxN0//yH99nXg5D8qOpLLf0jtP5kqGJXUifQ/c9cS8kHP/D+/DpwzojQEQIEmwoanVwxA4lgXt9HgE0BSSZ2AJuIbQAMJih9jjiNA5q4l5INuK0AwTKYKRj0zQNv5fmq8/DpAaCJseHrtQkB/+zpwzoxKQM3MzMzMeFJAZmZmZmZqWEAAAAAAAFxeQM3MzMzMJmJAmpmZmZkfZUBmZmZmZhhoQDMzMzMzEWtAAAAAAAAKbkBmZmZmZoFwQM3MzMzM/XFAMzMzMzN6c0CamZmZmfZ0QAAAAAAAc3ZAZmZmZmbvd0DNzMzMzGt5QDMzMzMz6HpAmpmZmZlkfEAAAAAAAOF9QGZmZmZmXX9AZmZmZuZsgECamZmZGSuBQM3MzMxM6YFAAAAAAICngkAzMzMzs2WDQGZmZmbmI4RAmpmZmRnihEDNzMzMTKCFQAAAAACAXoZAMzMzM7Mch0BmZmZm5tqHQJqZmZkZmYhAzczMzExXiUAAAAAAgBWKQDMzMzOz04pAZmZmZuaRi0CamZmZGVCMQM3MzMxMDo1AAAAAAIDMjUAzMzMzs4qOQGZmZmbmSI9A\",\"dtype\":\"float64\",\"shape\":[75]}},\"selected\":{\"id\":\"aae140c8-a4e8-49d0-be25-db66e040dd7d\",\"type\":\"Selection\"},\"selection_policy\":{\"id\":\"3dcac22f-2dd8-49fd-b1c9-fba1af18844e\",\"type\":\"UnionRenderers\"}},\"id\":\"64cacb09-2db0-486a-bbde-8a70ea556fa5\",\"type\":\"ColumnDataSource\"},{\"attributes\":{},\"id\":\"2fa4941f-f7db-41b7-9691-ca2f69033d26\",\"type\":\"UnionRenderers\"},{\"attributes\":{},\"id\":\"d4ffb2b9-eb56-4938-b8e2-05e535284c1a\",\"type\":\"BasicTickFormatter\"},{\"attributes\":{\"callback\":null,\"end\":0.01,\"start\":1020},\"id\":\"14a4d18f-5149-4cf7-a672-a4f2cc68f095\",\"type\":\"Range1d\"},{\"attributes\":{},\"id\":\"763669cc-61e2-4eb3-bb0d-cfac62cb3069\",\"type\":\"BasicTickFormatter\"},{\"attributes\":{},\"id\":\"b2c9f235-3bcb-481a-a8bd-36a4d47232f5\",\"type\":\"Selection\"},{\"attributes\":{},\"id\":\"027c31b6-3555-47d2-934a-cea48f5c6540\",\"type\":\"UnionRenderers\"},{\"attributes\":{},\"id\":\"32c3b276-0fa1-4b60-b0cb-421d9a916cc2\",\"type\":\"Selection\"},{\"attributes\":{},\"id\":\"650aeabc-4c6a-478e-82e6-e097b94bd073\",\"type\":\"Selection\"},{\"attributes\":{},\"id\":\"d45d0456-0293-4975-9362-fee1b802d1da\",\"type\":\"UnionRenderers\"},{\"attributes\":{},\"id\":\"722dca38-92fd-4014-89fd-85d3d80a24b1\",\"type\":\"Selection\"},{\"attributes\":{\"data_source\":{\"id\":\"9327c63f-da3f-45bc-9c85-bd70176b27e8\",\"type\":\"ColumnDataSource\"},\"glyph\":{\"id\":\"dbbb99f0-1357-418f-9eb8-9d12294c2a26\",\"type\":\"Circle\"},\"hover_glyph\":null,\"muted_glyph\":null,\"nonselection_glyph\":{\"id\":\"ecae5654-dbb0-4cb6-92f5-3f9c0126e4a2\",\"type\":\"Circle\"},\"selection_glyph\":null,\"view\":{\"id\":\"dd7699ba-71af-4d74-b6ba-d09f200088be\",\"type\":\"CDSView\"}},\"id\":\"895e67e2-84d4-4686-9252-81a636135f3e\",\"type\":\"GlyphRenderer\"},{\"attributes\":{},\"id\":\"654ac402-e2bc-43a0-8915-2e94f93f6cc7\",\"type\":\"UnionRenderers\"},{\"attributes\":{},\"id\":\"4af85c8e-ebb4-4183-a956-f758f98e1b5e\",\"type\":\"Selection\"},{\"attributes\":{},\"id\":\"4f876af8-1f66-4e70-9836-bb93c8eebaca\",\"type\":\"Selection\"},{\"attributes\":{\"source\":{\"id\":\"9327c63f-da3f-45bc-9c85-bd70176b27e8\",\"type\":\"ColumnDataSource\"}},\"id\":\"dd7699ba-71af-4d74-b6ba-d09f200088be\",\"type\":\"CDSView\"},{\"attributes\":{\"callback\":null,\"end\":0.01,\"start\":1020},\"id\":\"d4cdf1c4-049c-499a-9435-971e3fa12c58\",\"type\":\"Range1d\"},{\"attributes\":{\"line_alpha\":0.6,\"line_color\":\"#984ea3\",\"line_width\":3,\"x\":{\"field\":\"x\"},\"y\":{\"field\":\"y\"}},\"id\":\"74f03e5e-6ecf-4b15-adc6-2253c59fd759\",\"type\":\"Line\"},{\"attributes\":{\"fill_alpha\":{\"value\":0.7},\"fill_color\":{\"value\":\"#4daf4a\"},\"line_alpha\":{\"value\":0.7},\"line_color\":{\"value\":\"#4daf4a\"},\"x\":{\"field\":\"x\"},\"y\":{\"field\":\"y\"}},\"id\":\"559f3873-d845-4577-8ee2-44d9ad36b3f1\",\"type\":\"Circle\"},{\"attributes\":{\"fill_alpha\":{\"value\":0.1},\"fill_color\":{\"value\":\"#1f77b4\"},\"line_alpha\":{\"value\":0.1},\"line_color\":{\"value\":\"#1f77b4\"},\"x\":{\"field\":\"x\"},\"y\":{\"field\":\"y\"}},\"id\":\"fd5a2b18-fb8d-434e-853f-23ce28e1b320\",\"type\":\"Circle\"},{\"attributes\":{\"line_alpha\":0.1,\"line_color\":\"#1f77b4\",\"line_width\":3,\"x\":{\"field\":\"x\"},\"y\":{\"field\":\"y\"}},\"id\":\"0dcc86dc-0ac9-4360-8bb1-9535c0ea5459\",\"type\":\"Line\"},{\"attributes\":{},\"id\":\"c0da348f-c6b6-44af-bfdc-a4effc0bd879\",\"type\":\"PanTool\"},{\"attributes\":{\"bottom_units\":\"screen\",\"fill_alpha\":{\"value\":0.5},\"fill_color\":{\"value\":\"lightgrey\"},\"left_units\":\"screen\",\"level\":\"overlay\",\"line_alpha\":{\"value\":1.0},\"line_color\":{\"value\":\"black\"},\"line_dash\":[4,4],\"line_width\":{\"value\":2},\"plot\":null,\"render_mode\":\"css\",\"right_units\":\"screen\",\"top_units\":\"screen\"},\"id\":\"5e4924ec-566c-45dc-bfa3-776501972f2f\",\"type\":\"BoxAnnotation\"},{\"attributes\":{\"dimension\":1,\"plot\":{\"id\":\"824a5818-9269-47e6-9c29-8308abfc91e0\",\"subtype\":\"Figure\",\"type\":\"Plot\"},\"ticker\":{\"id\":\"a70f03c2-c632-4504-82f8-fd95042b58e3\",\"type\":\"BasicTicker\"}},\"id\":\"359f22fb-a0b4-4c0a-9abf-6abe8e39bd35\",\"type\":\"Grid\"},{\"attributes\":{},\"id\":\"a70f03c2-c632-4504-82f8-fd95042b58e3\",\"type\":\"BasicTicker\"},{\"attributes\":{},\"id\":\"72d43bc7-f794-4828-b769-a4b5a94b8a5b\",\"type\":\"WheelZoomTool\"},{\"attributes\":{\"overlay\":{\"id\":\"5e4924ec-566c-45dc-bfa3-776501972f2f\",\"type\":\"BoxAnnotation\"}},\"id\":\"c99aab10-ce73-4538-a0c1-62648ef80c9e\",\"type\":\"BoxZoomTool\"},{\"attributes\":{},\"id\":\"0da44195-04f7-4802-b480-dac12eecedb2\",\"type\":\"SaveTool\"},{\"attributes\":{},\"id\":\"fa8ec438-b5e4-434e-bf48-7309af4170fc\",\"type\":\"ResetTool\"},{\"attributes\":{\"axis_label\":\"pressure [mb]\",\"formatter\":{\"id\":\"763669cc-61e2-4eb3-bb0d-cfac62cb3069\",\"type\":\"BasicTickFormatter\"},\"plot\":{\"id\":\"824a5818-9269-47e6-9c29-8308abfc91e0\",\"subtype\":\"Figure\",\"type\":\"Plot\"},\"ticker\":{\"id\":\"a70f03c2-c632-4504-82f8-fd95042b58e3\",\"type\":\"BasicTicker\"}},\"id\":\"0b69175d-a85f-4949-b4e2-8ffc6156d0c1\",\"type\":\"LinearAxis\"},{\"attributes\":{},\"id\":\"018d7881-99b0-4dff-a626-37486e05b15d\",\"type\":\"HelpTool\"},{\"attributes\":{\"fill_alpha\":{\"value\":0.7},\"fill_color\":{\"value\":\"#377eb8\"},\"line_alpha\":{\"value\":0.7},\"line_color\":{\"value\":\"#377eb8\"},\"x\":{\"field\":\"x\"},\"y\":{\"field\":\"y\"}},\"id\":\"7e7dbd5f-4128-411c-bce3-1466a1b9bd45\",\"type\":\"Triangle\"},{\"attributes\":{},\"id\":\"9ebe88cf-b2ff-4f91-b6c2-95f4d13941bb\",\"type\":\"LinearScale\"},{\"attributes\":{\"source\":{\"id\":\"68be0d3e-c79e-47ed-96a5-d43a399bc3f1\",\"type\":\"ColumnDataSource\"}},\"id\":\"1a5eb9d9-2ccd-431a-b153-0065acc94a07\",\"type\":\"CDSView\"},{\"attributes\":{\"plot\":{\"id\":\"824a5818-9269-47e6-9c29-8308abfc91e0\",\"subtype\":\"Figure\",\"type\":\"Plot\"},\"ticker\":{\"id\":\"ef574863-7643-4b5f-b79e-29959e6d31e6\",\"type\":\"BasicTicker\"}},\"id\":\"7acafa0c-5ca7-456b-b962-ebc0f984d3be\",\"type\":\"Grid\"},{\"attributes\":{},\"id\":\"ef574863-7643-4b5f-b79e-29959e6d31e6\",\"type\":\"BasicTicker\"},{\"attributes\":{\"axis_label\":\"cooling rate [K/day]\",\"formatter\":{\"id\":\"d4ffb2b9-eb56-4938-b8e2-05e535284c1a\",\"type\":\"BasicTickFormatter\"},\"plot\":{\"id\":\"824a5818-9269-47e6-9c29-8308abfc91e0\",\"subtype\":\"Figure\",\"type\":\"Plot\"},\"ticker\":{\"id\":\"ef574863-7643-4b5f-b79e-29959e6d31e6\",\"type\":\"BasicTicker\"}},\"id\":\"870db3f6-50f0-4aa8-a94f-90fe3809b604\",\"type\":\"LinearAxis\"},{\"attributes\":{\"callback\":null,\"end\":0.0031872634359999996,\"start\":-0.0011251472359999999},\"id\":\"97597a43-d0dc-47c9-94c7-cab01db8d8b7\",\"type\":\"Range1d\"},{\"attributes\":{\"data_source\":{\"id\":\"68be0d3e-c79e-47ed-96a5-d43a399bc3f1\",\"type\":\"ColumnDataSource\"},\"glyph\":{\"id\":\"f3f84bb8-a977-476a-816c-cacd6a85c463\",\"type\":\"Line\"},\"hover_glyph\":null,\"muted_glyph\":null,\"nonselection_glyph\":{\"id\":\"5ded4dc7-7cdd-48a9-95ae-427765cacdba\",\"type\":\"Line\"},\"selection_glyph\":null,\"view\":{\"id\":\"1a5eb9d9-2ccd-431a-b153-0065acc94a07\",\"type\":\"CDSView\"}},\"id\":\"5f927f60-c1a6-43b8-af70-cf6083a2ad5a\",\"type\":\"GlyphRenderer\"},{\"attributes\":{},\"id\":\"db15e097-f534-4cca-a932-259dade24ced\",\"type\":\"LinearScale\"},{\"attributes\":{\"above\":[{\"id\":\"48d59645-38d7-4ad2-bf1b-791f075c9d49\",\"type\":\"Legend\"}],\"below\":[{\"id\":\"8c664aa9-d3fe-4f45-9a98-67acb10c9d59\",\"type\":\"LinearAxis\"}],\"left\":[{\"id\":\"5edecb36-4c33-407f-b501-482140af0328\",\"type\":\"LogAxis\"}],\"plot_height\":500,\"plot_width\":400,\"renderers\":[{\"id\":\"8c664aa9-d3fe-4f45-9a98-67acb10c9d59\",\"type\":\"LinearAxis\"},{\"id\":\"e8484a44-cb8a-486f-b5cb-01e916289607\",\"type\":\"Grid\"},{\"id\":\"5edecb36-4c33-407f-b501-482140af0328\",\"type\":\"LogAxis\"},{\"id\":\"e0a8d75a-6c79-4114-9171-96c35c1021fe\",\"type\":\"Grid\"},{\"id\":\"f77395c4-13e7-44c7-acca-ac99e249cc6f\",\"type\":\"BoxAnnotation\"},{\"id\":\"895e67e2-84d4-4686-9252-81a636135f3e\",\"type\":\"GlyphRenderer\"},{\"id\":\"e194c28d-69ad-4d6d-ac5e-b1778d93007c\",\"type\":\"GlyphRenderer\"},{\"id\":\"481bd9ec-2b38-4cac-a885-11cffa2b8b50\",\"type\":\"GlyphRenderer\"},{\"id\":\"78913f82-cbf2-4bed-a686-30d18e69d640\",\"type\":\"GlyphRenderer\"},{\"id\":\"5e4f688f-86b3-40b5-adf4-97fea907db8a\",\"type\":\"GlyphRenderer\"},{\"id\":\"657821b3-a7ea-4c06-88c5-500f4176e140\",\"type\":\"GlyphRenderer\"},{\"id\":\"48d59645-38d7-4ad2-bf1b-791f075c9d49\",\"type\":\"Legend\"}],\"title\":{\"id\":\"b3f0819f-e9cd-4b1f-aef9-039db589d7f8\",\"type\":\"Title\"},\"toolbar\":{\"id\":\"225ad923-e86a-4434-989d-6d785d17b03d\",\"type\":\"Toolbar\"},\"toolbar_location\":null,\"x_range\":{\"id\":\"4cf7c5b0-0587-40f5-8ab2-8d64c13d2c1d\",\"type\":\"Range1d\"},\"x_scale\":{\"id\":\"c475a8b7-c962-4eee-98f1-e6545e245a53\",\"type\":\"LinearScale\"},\"y_range\":{\"id\":\"14a4d18f-5149-4cf7-a672-a4f2cc68f095\",\"type\":\"Range1d\"},\"y_scale\":{\"id\":\"163b3d50-6edb-4501-87f6-925faaae0e49\",\"type\":\"LogScale\"}},\"id\":\"12fbd888-30c7-4cbf-b187-3ec7ae86cec8\",\"subtype\":\"Figure\",\"type\":\"Plot\"},{\"attributes\":{\"items\":[{\"id\":\"bfca1b65-3d13-4e09-b9da-9308f75ac993\",\"type\":\"LegendItem\"},{\"id\":\"c4bbe7b2-1b75-4908-85d1-4a58670fbce8\",\"type\":\"LegendItem\"},{\"id\":\"7858956d-5170-4240-966b-4d0ccd3a40a1\",\"type\":\"LegendItem\"}],\"label_text_font_size\":{\"value\":\"8pt\"},\"location\":\"top_center\",\"orientation\":\"horizontal\",\"plot\":{\"id\":\"824a5818-9269-47e6-9c29-8308abfc91e0\",\"subtype\":\"Figure\",\"type\":\"Plot\"}},\"id\":\"deba29e1-c6d1-48a2-a2b8-52bc701b7dec\",\"type\":\"Legend\"},{\"attributes\":{\"active_drag\":\"auto\",\"active_inspect\":\"auto\",\"active_scroll\":\"auto\",\"active_tap\":\"auto\",\"tools\":[{\"id\":\"c0da348f-c6b6-44af-bfdc-a4effc0bd879\",\"type\":\"PanTool\"},{\"id\":\"72d43bc7-f794-4828-b769-a4b5a94b8a5b\",\"type\":\"WheelZoomTool\"},{\"id\":\"c99aab10-ce73-4538-a0c1-62648ef80c9e\",\"type\":\"BoxZoomTool\"},{\"id\":\"0da44195-04f7-4802-b480-dac12eecedb2\",\"type\":\"SaveTool\"},{\"id\":\"fa8ec438-b5e4-434e-bf48-7309af4170fc\",\"type\":\"ResetTool\"},{\"id\":\"018d7881-99b0-4dff-a626-37486e05b15d\",\"type\":\"HelpTool\"}]},\"id\":\"aaa5640e-54c5-4c88-9848-1f1fc136fed7\",\"type\":\"Toolbar\"},{\"attributes\":{\"data_source\":{\"id\":\"09951ed2-b632-4084-994d-5d624f0371fc\",\"type\":\"ColumnDataSource\"},\"glyph\":{\"id\":\"74f03e5e-6ecf-4b15-adc6-2253c59fd759\",\"type\":\"Line\"},\"hover_glyph\":null,\"muted_glyph\":null,\"nonselection_glyph\":{\"id\":\"0dcc86dc-0ac9-4360-8bb1-9535c0ea5459\",\"type\":\"Line\"},\"selection_glyph\":null,\"view\":{\"id\":\"1cf865a1-df4f-4a9a-889c-6dc7528cd1ea\",\"type\":\"CDSView\"}},\"id\":\"5d3f9925-247a-458c-8c89-81e2de1629b9\",\"type\":\"GlyphRenderer\"},{\"attributes\":{\"above\":[{\"id\":\"deba29e1-c6d1-48a2-a2b8-52bc701b7dec\",\"type\":\"Legend\"}],\"below\":[{\"id\":\"870db3f6-50f0-4aa8-a94f-90fe3809b604\",\"type\":\"LinearAxis\"}],\"left\":[{\"id\":\"0b69175d-a85f-4949-b4e2-8ffc6156d0c1\",\"type\":\"LinearAxis\"}],\"plot_height\":500,\"plot_width\":400,\"renderers\":[{\"id\":\"870db3f6-50f0-4aa8-a94f-90fe3809b604\",\"type\":\"LinearAxis\"},{\"id\":\"7acafa0c-5ca7-456b-b962-ebc0f984d3be\",\"type\":\"Grid\"},{\"id\":\"0b69175d-a85f-4949-b4e2-8ffc6156d0c1\",\"type\":\"LinearAxis\"},{\"id\":\"359f22fb-a0b4-4c0a-9abf-6abe8e39bd35\",\"type\":\"Grid\"},{\"id\":\"5e4924ec-566c-45dc-bfa3-776501972f2f\",\"type\":\"BoxAnnotation\"},{\"id\":\"3052e59f-86e9-4247-bb2c-b8775c0399d6\",\"type\":\"GlyphRenderer\"},{\"id\":\"5f927f60-c1a6-43b8-af70-cf6083a2ad5a\",\"type\":\"GlyphRenderer\"},{\"id\":\"b789203b-da81-4dcf-9a3a-cb9e53bbd3fd\",\"type\":\"GlyphRenderer\"},{\"id\":\"5d3f9925-247a-458c-8c89-81e2de1629b9\",\"type\":\"GlyphRenderer\"},{\"id\":\"4adf2c76-0b57-4287-8b81-ec30dc62d7c0\",\"type\":\"GlyphRenderer\"},{\"id\":\"6aca2640-21dd-41ee-a7f5-6523742ef257\",\"type\":\"GlyphRenderer\"},{\"id\":\"deba29e1-c6d1-48a2-a2b8-52bc701b7dec\",\"type\":\"Legend\"}],\"title\":{\"id\":\"76840bf6-f3fc-49e8-9935-bf484328fb23\",\"type\":\"Title\"},\"toolbar\":{\"id\":\"aaa5640e-54c5-4c88-9848-1f1fc136fed7\",\"type\":\"Toolbar\"},\"toolbar_location\":null,\"x_range\":{\"id\":\"97597a43-d0dc-47c9-94c7-cab01db8d8b7\",\"type\":\"Range1d\"},\"x_scale\":{\"id\":\"db15e097-f534-4cca-a932-259dade24ced\",\"type\":\"LinearScale\"},\"y_range\":{\"id\":\"d4cdf1c4-049c-499a-9435-971e3fa12c58\",\"type\":\"Range1d\"},\"y_scale\":{\"id\":\"9ebe88cf-b2ff-4f91-b6c2-95f4d13941bb\",\"type\":\"LinearScale\"}},\"id\":\"824a5818-9269-47e6-9c29-8308abfc91e0\",\"subtype\":\"Figure\",\"type\":\"Plot\"},{\"attributes\":{\"fill_alpha\":{\"value\":0.7},\"fill_color\":{\"value\":\"#984ea3\"},\"line_alpha\":{\"value\":0.7},\"line_color\":{\"value\":\"#984ea3\"},\"x\":{\"field\":\"x\"},\"y\":{\"field\":\"y\"}},\"id\":\"f1dd2865-1fc4-4fc7-afb3-83abd3eb288d\",\"type\":\"Square\"},{\"attributes\":{\"source\":{\"id\":\"09951ed2-b632-4084-994d-5d624f0371fc\",\"type\":\"ColumnDataSource\"}},\"id\":\"1cf865a1-df4f-4a9a-889c-6dc7528cd1ea\",\"type\":\"CDSView\"},{\"attributes\":{\"source\":{\"id\":\"6e293b36-6b07-424e-8326-fdf724be4bae\",\"type\":\"ColumnDataSource\"}},\"id\":\"90dcc79c-5eeb-4719-a44e-e7e541736fec\",\"type\":\"CDSView\"},{\"attributes\":{\"line_color\":\"#4daf4a\",\"line_width\":1.5,\"x\":{\"field\":\"x\"},\"y\":{\"field\":\"y\"}},\"id\":\"f3f84bb8-a977-476a-816c-cacd6a85c463\",\"type\":\"Line\"},{\"attributes\":{\"source\":{\"id\":\"054362ec-78b1-41f3-821c-39a1c65c6da5\",\"type\":\"ColumnDataSource\"}},\"id\":\"c5dec107-610b-45cd-a9bc-0bf3d0446493\",\"type\":\"CDSView\"},{\"attributes\":{\"data_source\":{\"id\":\"054362ec-78b1-41f3-821c-39a1c65c6da5\",\"type\":\"ColumnDataSource\"},\"glyph\":{\"id\":\"559f3873-d845-4577-8ee2-44d9ad36b3f1\",\"type\":\"Circle\"},\"hover_glyph\":null,\"muted_glyph\":null,\"nonselection_glyph\":{\"id\":\"fd5a2b18-fb8d-434e-853f-23ce28e1b320\",\"type\":\"Circle\"},\"selection_glyph\":null,\"view\":{\"id\":\"c5dec107-610b-45cd-a9bc-0bf3d0446493\",\"type\":\"CDSView\"}},\"id\":\"3052e59f-86e9-4247-bb2c-b8775c0399d6\",\"type\":\"GlyphRenderer\"},{\"attributes\":{\"callback\":null,\"data\":{\"x\":{\"__ndarray__\":\"psgIRUZJiD+0TtZUiNqJP8IERV6cGY0/Xt8XL8c/kD/kQH8JKwGSPw4Mfu0p0ZM/2QUWz7+ulT9k/9IoeJiXP9hQIKKHkJk/VmV86wWXmz+B3a5sJqydP/LuMDziz58//Qvmqtf/oD8DNy+nNP2hP5MGODabxKI/k0cKQRt0oz+FLtlfEyWkP1XBRXqT16Q/hv4lg4WOpT8cOQBSAxymP2YK9o8gvaY/b7JKP5oXpj/UxF7Pp/OjPyGAlAunYqE/PctyYNnPnT8PfgjInAmZP3/cZ13vc5Q/35J8ItiDkD88it24cf2KP7kQYmkLyIU/TJtCT9DLgD+wXaU1aX54PwbV9/t0JXI/+1pkKfyTbD8eRNBwgQZmPwp1RpAZU2A/vR44XYnWVz+gSkGoDVtQPywgwA0Op0M/4uEUXEouMj8yYqiCyTWuPn4M3W+YTDC/tY5siL23P78UPm+/02JHv8EBErh9M06/y0vEqA+ET7+8HnKw3o5Jv1UDPPpvc0G/Mma+Evo7NL8kqN2FHH4cv1z0v2SK9hI/mxZMECAuLz+UsQysOpM5P1vcMc5RZUE/98jyxeOjRT+Ex6LGNYVJP8wJlB79BU0/tN1eG04QUD+if/YqSGhRP5cge+rFilI/YzcFVCV6Uz8JNC7VMj1UP4yjwOtE3FQ/4biTnh5hVT8ITmuG3NRVP0MqggSwPVY/PuZ4DxSbVj9j6d8QE91WP3oGxt5o11Y/SLAPrwZIVj8Duf0XbAhVP/tKkjE/OlM/Ni/WkQ0mUT8VKwltoQVOP7WovTPbz0k/\",\"dtype\":\"float64\",\"shape\":[75]},\"y\":{\"__ndarray__\":\"GhExyth1ND/Sv8nbtpRIP2vylNV0PVE/aTum7souWD/At0SJ8fVgPw3Iuahxymc/MSNhhJWvcD/bTfBN02d3P2zb5nxnaoA/CD5h5MAGhz8NmeH1TyaQP+zrCsc9p5Y/LbKd76fGnz/bLW5ISEmmPww9YvTcQq8/JV2OstnstT8Er5Y7M8G+P0c+r3jqkcU/5h99k6ZBzj88bCIzFzjVP4enV8oyxN0//yH99nXg5D8qOpLLf0jtP5kqGJXUifQ/c9cS8kHP/D+/DpwzojQEQIEmwoanVwxA4lgXt9HgE0BSSZ2AJuIbQAMJih9jjiNA5q4l5INuK0AwTKYKRj0zQNv5fmq8/DpAaCJseHrtQkB/+zpwzoxKQM3MzMzMeFJAZmZmZmZqWEAAAAAAAFxeQM3MzMzMJmJAmpmZmZkfZUBmZmZmZhhoQDMzMzMzEWtAAAAAAAAKbkBmZmZmZoFwQM3MzMzM/XFAMzMzMzN6c0CamZmZmfZ0QAAAAAAAc3ZAZmZmZmbvd0DNzMzMzGt5QDMzMzMz6HpAmpmZmZlkfEAAAAAAAOF9QGZmZmZmXX9AZmZmZuZsgECamZmZGSuBQM3MzMxM6YFAAAAAAICngkAzMzMzs2WDQGZmZmbmI4RAmpmZmRnihEDNzMzMTKCFQAAAAACAXoZAMzMzM7Mch0BmZmZm5tqHQJqZmZkZmYhAzczMzExXiUAAAAAAgBWKQDMzMzOz04pAZmZmZuaRi0CamZmZGVCMQM3MzMxMDo1AAAAAAIDMjUAzMzMzs4qOQGZmZmbmSI9A\",\"dtype\":\"float64\",\"shape\":[75]}},\"selected\":{\"id\":\"650aeabc-4c6a-478e-82e6-e097b94bd073\",\"type\":\"Selection\"},\"selection_policy\":{\"id\":\"0fbf5024-44f5-445e-8c93-f3bac7081e85\",\"type\":\"UnionRenderers\"}},\"id\":\"6e293b36-6b07-424e-8326-fdf724be4bae\",\"type\":\"ColumnDataSource\"},{\"attributes\":{\"callback\":null,\"data\":{\"x\":{\"__ndarray__\":\"TSxaQ5zcgz8y8Dzu5J6FP9i+LF8qRYk/3hH3U0EXjT/Puz9LSIWQP7IzmbJSj5I/XjiE6BiplD+CTWOcO9GWPypm9AvFCZk/t0yuq8dSmz/5WxxEVKmdPxqMILRvBaA/cEffdDA6oT9/T7bFWE2iPyRQ3naKHaM/ht7TthDNoz/MIkKTLHakPyK3+VsPGqU/2g1we2G2pT9kUIQMmEumP/p9yvT1w6Y/O/wmLnbkpT9ZXNIHgUujP/3HfB+SSqA/5dHw2mPxmj+QBaOX87qVPzrFhzKE/pA/ipF2uitvij8PDiZgnEGFP4wHf7JuK4E/0oVgblqdej9asH2WIW1zP9VWCaoPKm0/h9JvQ7KeZz+1Bpus5HJiP1oMEw/lWVs/ETT7vxDZUz+HHSL4kMJKP+4ihTY/Jz8/kn/PWmCKKz9XxvUVmSbnvoTP940DaSu/u3zyO7gtOr+mRFkd339Dv2cj6muXvUm/NVeU11L6Sr/t0n81CFlFv6F28WE2EDy/JdlJUpBeL7/EruBuMdsUv5/Xvqhc6Q4/3OeSoyzKJz/BcdePnBszP/pxmO5qpTk/SW8/eZeXPz+QToV/U3xCP3jU0fWD40Q/vNqMn+T9Rj+2iExEG8hIP5Zsn+yQQko/cZj4mnFySz8GufLYB2VMP+qaCUwKK00/eAMhiy3YTT/cEil3cX9OP5Jrj5UlL08/pG2H2//oTz9NoxjDzUdQPwjFCR1KZVA/NKTfMiMIUD9xlq3inA1OP8Cqcz+5A0s/iocdolOBRz8nhLguBexDP0dcjBvGZEA/\",\"dtype\":\"float64\",\"shape\":[75]},\"y\":{\"__ndarray__\":\"GhExyth1ND/Sv8nbtpRIP2vylNV0PVE/aTum7souWD/At0SJ8fVgPw3Iuahxymc/MSNhhJWvcD/bTfBN02d3P2zb5nxnaoA/CD5h5MAGhz8NmeH1TyaQP+zrCsc9p5Y/LbKd76fGnz/bLW5ISEmmPww9YvTcQq8/JV2OstnstT8Er5Y7M8G+P0c+r3jqkcU/5h99k6ZBzj88bCIzFzjVP4enV8oyxN0//yH99nXg5D8qOpLLf0jtP5kqGJXUifQ/c9cS8kHP/D+/DpwzojQEQIEmwoanVwxA4lgXt9HgE0BSSZ2AJuIbQAMJih9jjiNA5q4l5INuK0AwTKYKRj0zQNv5fmq8/DpAaCJseHrtQkB/+zpwzoxKQM3MzMzMeFJAZmZmZmZqWEAAAAAAAFxeQM3MzMzMJmJAmpmZmZkfZUBmZmZmZhhoQDMzMzMzEWtAAAAAAAAKbkBmZmZmZoFwQM3MzMzM/XFAMzMzMzN6c0CamZmZmfZ0QAAAAAAAc3ZAZmZmZmbvd0DNzMzMzGt5QDMzMzMz6HpAmpmZmZlkfEAAAAAAAOF9QGZmZmZmXX9AZmZmZuZsgECamZmZGSuBQM3MzMxM6YFAAAAAAICngkAzMzMzs2WDQGZmZmbmI4RAmpmZmRnihEDNzMzMTKCFQAAAAACAXoZAMzMzM7Mch0BmZmZm5tqHQJqZmZkZmYhAzczMzExXiUAAAAAAgBWKQDMzMzOz04pAZmZmZuaRi0CamZmZGVCMQM3MzMxMDo1AAAAAAIDMjUAzMzMzs4qOQGZmZmbmSI9A\",\"dtype\":\"float64\",\"shape\":[75]}},\"selected\":{\"id\":\"722dca38-92fd-4014-89fd-85d3d80a24b1\",\"type\":\"Selection\"},\"selection_policy\":{\"id\":\"ad0f836c-68cc-4be6-9daf-26efff61ae31\",\"type\":\"UnionRenderers\"}},\"id\":\"68be0d3e-c79e-47ed-96a5-d43a399bc3f1\",\"type\":\"ColumnDataSource\"},{\"attributes\":{\"callback\":null,\"data\":{\"x\":{\"__ndarray__\":\"ikxbhKsBhz+nCVcXIm2IP/fJ5OP5XYs/UHKtFAdyjj96m/zrHNCQP9GUKylodJI/qyKx5PcklD/AwnIZceCVP17Hno7eqJc/to91bmN+mT9/vLrXB2GbPwqn6dnKUJ0/95cShldLnz+gZe8i0oqgP3Qhk+KcPqE/aSpeQafboT/nbg/2sXiiP3j0YeuJFqM/Lj7uIwO1oz+Gw+SjS1OkPypSC2xo36Q/TY8a0UVcpD+AOpKJY3aiP7p0jF4fM6A/gFUrnG8HnD92iQu8atCXPxYrJhMQw5M/Bl8SE0ZGkD+67qaOZy2LPzYsDrMMe4Y/K0z2B37fgT+YkHXKQRZ7P22eAFELwXQ/VjYWjsyVcD+sW1fpgsNpPzZUHjLkHmM/iD6ZK/W/Wz+kRhIMQfhSP0WxjZMOwEY/wqnXeZCoND+IBVJQbrrkvqt6rYQarTO/VE32PSCbQr/1OcMAhdtKv51ZMa1k/1C/sUzAaeG9Ub90XTNQAbNNv19VwdkCikW/PDvIFs3HO79KqP7uqIYrvxok8LGrdeu+y6smED4pJj/pp4ch/ic2P2CpcQvQNkA/9gZZL6f1RD/8Td5ecU5JP1LbjSGCPE0/iCkuBOdcUD/43SE6xeBRP0+dYGKgKVM/Z6OquqQ5VD9fgPyqtRdVPzVj6TURzFU/IHPOoSZgVj8p2lq4k9xWP/sI6LThRlc/8cXMOrKdVz+I4ZHaftBXPyyB3NJmtFc/rISm4aYKVz+C5zTE3q9VP66lOrt5xVM/Q0DrTrGSUT/X/Ct/155OP2vCKz3iLUo/\",\"dtype\":\"float64\",\"shape\":[75]},\"y\":{\"__ndarray__\":\"GhExyth1ND/Sv8nbtpRIP2vylNV0PVE/aTum7souWD/At0SJ8fVgPw3Iuahxymc/MSNhhJWvcD/bTfBN02d3P2zb5nxnaoA/CD5h5MAGhz8NmeH1TyaQP+zrCsc9p5Y/LbKd76fGnz/bLW5ISEmmPww9YvTcQq8/JV2OstnstT8Er5Y7M8G+P0c+r3jqkcU/5h99k6ZBzj88bCIzFzjVP4enV8oyxN0//yH99nXg5D8qOpLLf0jtP5kqGJXUifQ/c9cS8kHP/D+/DpwzojQEQIEmwoanVwxA4lgXt9HgE0BSSZ2AJuIbQAMJih9jjiNA5q4l5INuK0AwTKYKRj0zQNv5fmq8/DpAaCJseHrtQkB/+zpwzoxKQM3MzMzMeFJAZmZmZmZqWEAAAAAAAFxeQM3MzMzMJmJAmpmZmZkfZUBmZmZmZhhoQDMzMzMzEWtAAAAAAAAKbkBmZmZmZoFwQM3MzMzM/XFAMzMzMzN6c0CamZmZmfZ0QAAAAAAAc3ZAZmZmZmbvd0DNzMzMzGt5QDMzMzMz6HpAmpmZmZlkfEAAAAAAAOF9QGZmZmZmXX9AZmZmZuZsgECamZmZGSuBQM3MzMxM6YFAAAAAAICngkAzMzMzs2WDQGZmZmbmI4RAmpmZmRnihEDNzMzMTKCFQAAAAACAXoZAMzMzM7Mch0BmZmZm5tqHQJqZmZkZmYhAzczMzExXiUAAAAAAgBWKQDMzMzOz04pAZmZmZuaRi0CamZmZGVCMQM3MzMxMDo1AAAAAAIDMjUAzMzMzs4qOQGZmZmbmSI9A\",\"dtype\":\"float64\",\"shape\":[75]}},\"selected\":{\"id\":\"32c3b276-0fa1-4b60-b0cb-421d9a916cc2\",\"type\":\"Selection\"},\"selection_policy\":{\"id\":\"d45d0456-0293-4975-9362-fee1b802d1da\",\"type\":\"UnionRenderers\"}},\"id\":\"787f2c29-361f-4905-94c2-e0e8c7bb2892\",\"type\":\"ColumnDataSource\"},{\"attributes\":{\"data_source\":{\"id\":\"6e293b36-6b07-424e-8326-fdf724be4bae\",\"type\":\"ColumnDataSource\"},\"glyph\":{\"id\":\"f1dd2865-1fc4-4fc7-afb3-83abd3eb288d\",\"type\":\"Square\"},\"hover_glyph\":null,\"muted_glyph\":null,\"nonselection_glyph\":{\"id\":\"90c55bf3-e593-4193-956c-de747447b271\",\"type\":\"Square\"},\"selection_glyph\":null,\"view\":{\"id\":\"90dcc79c-5eeb-4719-a44e-e7e541736fec\",\"type\":\"CDSView\"}},\"id\":\"b789203b-da81-4dcf-9a3a-cb9e53bbd3fd\",\"type\":\"GlyphRenderer\"},{\"attributes\":{\"callback\":null,\"data\":{\"x\":{\"__ndarray__\":\"psgIRUZJiD+0TtZUiNqJP8IERV6cGY0/Xt8XL8c/kD/kQH8JKwGSPw4Mfu0p0ZM/2QUWz7+ulT9k/9IoeJiXP9hQIKKHkJk/VmV86wWXmz+B3a5sJqydP/LuMDziz58//Qvmqtf/oD8DNy+nNP2hP5MGODabxKI/k0cKQRt0oz+FLtlfEyWkP1XBRXqT16Q/hv4lg4WOpT8cOQBSAxymP2YK9o8gvaY/b7JKP5oXpj/UxF7Pp/OjPyGAlAunYqE/PctyYNnPnT8PfgjInAmZP3/cZ13vc5Q/35J8ItiDkD88it24cf2KP7kQYmkLyIU/TJtCT9DLgD+wXaU1aX54PwbV9/t0JXI/+1pkKfyTbD8eRNBwgQZmPwp1RpAZU2A/vR44XYnWVz+gSkGoDVtQPywgwA0Op0M/4uEUXEouMj8yYqiCyTWuPn4M3W+YTDC/tY5siL23P78UPm+/02JHv8EBErh9M06/y0vEqA+ET7+8HnKw3o5Jv1UDPPpvc0G/Mma+Evo7NL8kqN2FHH4cv1z0v2SK9hI/mxZMECAuLz+UsQysOpM5P1vcMc5RZUE/98jyxeOjRT+Ex6LGNYVJP8wJlB79BU0/tN1eG04QUD+if/YqSGhRP5cge+rFilI/YzcFVCV6Uz8JNC7VMj1UP4yjwOtE3FQ/4biTnh5hVT8ITmuG3NRVP0MqggSwPVY/PuZ4DxSbVj9j6d8QE91WP3oGxt5o11Y/SLAPrwZIVj8Duf0XbAhVP/tKkjE/OlM/Ni/WkQ0mUT8VKwltoQVOP7WovTPbz0k/\",\"dtype\":\"float64\",\"shape\":[75]},\"y\":{\"__ndarray__\":\"GhExyth1ND/Sv8nbtpRIP2vylNV0PVE/aTum7souWD/At0SJ8fVgPw3Iuahxymc/MSNhhJWvcD/bTfBN02d3P2zb5nxnaoA/CD5h5MAGhz8NmeH1TyaQP+zrCsc9p5Y/LbKd76fGnz/bLW5ISEmmPww9YvTcQq8/JV2OstnstT8Er5Y7M8G+P0c+r3jqkcU/5h99k6ZBzj88bCIzFzjVP4enV8oyxN0//yH99nXg5D8qOpLLf0jtP5kqGJXUifQ/c9cS8kHP/D+/DpwzojQEQIEmwoanVwxA4lgXt9HgE0BSSZ2AJuIbQAMJih9jjiNA5q4l5INuK0AwTKYKRj0zQNv5fmq8/DpAaCJseHrtQkB/+zpwzoxKQM3MzMzMeFJAZmZmZmZqWEAAAAAAAFxeQM3MzMzMJmJAmpmZmZkfZUBmZmZmZhhoQDMzMzMzEWtAAAAAAAAKbkBmZmZmZoFwQM3MzMzM/XFAMzMzMzN6c0CamZmZmfZ0QAAAAAAAc3ZAZmZmZmbvd0DNzMzMzGt5QDMzMzMz6HpAmpmZmZlkfEAAAAAAAOF9QGZmZmZmXX9AZmZmZuZsgECamZmZGSuBQM3MzMxM6YFAAAAAAICngkAzMzMzs2WDQGZmZmbmI4RAmpmZmRnihEDNzMzMTKCFQAAAAACAXoZAMzMzM7Mch0BmZmZm5tqHQJqZmZkZmYhAzczMzExXiUAAAAAAgBWKQDMzMzOz04pAZmZmZuaRi0CamZmZGVCMQM3MzMxMDo1AAAAAAIDMjUAzMzMzs4qOQGZmZmbmSI9A\",\"dtype\":\"float64\",\"shape\":[75]}},\"selected\":{\"id\":\"4af85c8e-ebb4-4183-a956-f758f98e1b5e\",\"type\":\"Selection\"},\"selection_policy\":{\"id\":\"027c31b6-3555-47d2-934a-cea48f5c6540\",\"type\":\"UnionRenderers\"}},\"id\":\"09951ed2-b632-4084-994d-5d624f0371fc\",\"type\":\"ColumnDataSource\"},{\"attributes\":{\"line_alpha\":0.1,\"line_color\":\"#1f77b4\",\"line_width\":1.5,\"x\":{\"field\":\"x\"},\"y\":{\"field\":\"y\"}},\"id\":\"5ded4dc7-7cdd-48a9-95ae-427765cacdba\",\"type\":\"Line\"},{\"attributes\":{\"fill_alpha\":{\"value\":0.1},\"fill_color\":{\"value\":\"#1f77b4\"},\"line_alpha\":{\"value\":0.1},\"line_color\":{\"value\":\"#1f77b4\"},\"x\":{\"field\":\"x\"},\"y\":{\"field\":\"y\"}},\"id\":\"56ed4a10-11fd-451e-9043-7361ff4fba33\",\"type\":\"Triangle\"},{\"attributes\":{\"fill_alpha\":{\"value\":0.1},\"fill_color\":{\"value\":\"#1f77b4\"},\"line_alpha\":{\"value\":0.1},\"line_color\":{\"value\":\"#1f77b4\"},\"x\":{\"field\":\"x\"},\"y\":{\"field\":\"y\"}},\"id\":\"90c55bf3-e593-4193-956c-de747447b271\",\"type\":\"Square\"}],\"root_ids\":[\"50ed68b5-ddcf-4b5a-af31-3221323be9ef\"]},\"title\":\"Bokeh Application\",\"version\":\"0.12.16\"}};\n",
       "  var render_items = [{\"docid\":\"65fcb2e5-b101-4ebf-a422-048a8417ec8a\",\"elementid\":\"5f6deb7c-ccee-43b6-9aa5-b6e4fb939450\",\"modelid\":\"50ed68b5-ddcf-4b5a-af31-3221323be9ef\"}];\n",
       "  root.Bokeh.embed.embed_items_notebook(docs_json, render_items);\n",
       "\n",
       "  }\n",
       "  if (root.Bokeh !== undefined) {\n",
       "    embed_document(root);\n",
       "  } else {\n",
       "    var attempts = 0;\n",
       "    var timer = setInterval(function(root) {\n",
       "      if (root.Bokeh !== undefined) {\n",
       "        embed_document(root);\n",
       "        clearInterval(timer);\n",
       "      }\n",
       "      attempts++;\n",
       "      if (attempts > 100) {\n",
       "        console.log(\"Bokeh: ERROR: Unable to run BokehJS code because BokehJS library is missing\")\n",
       "        clearInterval(timer);\n",
       "      }\n",
       "    }, 10, root)\n",
       "  }\n",
       "})(window);"
      ],
      "application/vnd.bokehjs_exec.v0+json": ""
     },
     "metadata": {
      "application/vnd.bokehjs_exec.v0+json": {
       "id": "50ed68b5-ddcf-4b5a-af31-3221323be9ef"
      }
     },
     "output_type": "display_data"
    },
    {
     "data": {
      "text/markdown": [
       "*FIGURE.* Cooling rates. g=1"
      ],
      "text/plain": [
       "<IPython.core.display.Markdown object>"
      ]
     },
     "metadata": {},
     "output_type": "display_data"
    },
    {
     "data": {
      "text/html": [
       "\n",
       "<div class=\"bk-root\">\n",
       "    <div class=\"bk-plotdiv\" id=\"f6a69c0d-e83f-4fb8-89b2-e2a89ad62910\"></div>\n",
       "</div>"
      ]
     },
     "metadata": {},
     "output_type": "display_data"
    },
    {
     "data": {
      "application/javascript": [
       "(function(root) {\n",
       "  function embed_document(root) {\n",
       "    \n",
       "  var docs_json = {\"c3175079-3e59-4e3b-adc6-7b88c3a45d0f\":{\"roots\":{\"references\":[{\"attributes\":{\"dimension\":1,\"plot\":{\"id\":\"ac2212cc-9c66-4ee1-98d8-bf8f17e6fbe6\",\"subtype\":\"Figure\",\"type\":\"Plot\"},\"ticker\":{\"id\":\"43900416-aef0-4635-992a-58d4bd8e9ef2\",\"type\":\"LogTicker\"}},\"id\":\"ba222daf-9e48-46bd-84ad-c5b7968f82a7\",\"type\":\"Grid\"},{\"attributes\":{\"axis_label\":\"pressure [mb]\",\"formatter\":{\"id\":\"980ab58a-956c-44a7-bb11-451151740015\",\"type\":\"LogTickFormatter\"},\"plot\":{\"id\":\"ac2212cc-9c66-4ee1-98d8-bf8f17e6fbe6\",\"subtype\":\"Figure\",\"type\":\"Plot\"},\"ticker\":{\"id\":\"43900416-aef0-4635-992a-58d4bd8e9ef2\",\"type\":\"LogTicker\"}},\"id\":\"311724a8-20e4-4675-8e25-c5ffff58518d\",\"type\":\"LogAxis\"},{\"attributes\":{\"callback\":null,\"data\":{\"x\":{\"__ndarray__\":\"xxJfMEF84T4boijSD7/kPuTh6LmZ3us+ERR68mbz8T49t4LmwXr2Prbr//Dhnfs+vgHxO9O8AD/TmHCNQRkEPzTAjFpO/wc/eS2coVSRDD+2LL1E6P4QPx6ZsJdjQhQ/TEGzvVE8GD/9pJklcMUcP9tTZP/E2SA/7qdCXLLTIz8f8wpDVr8nP6oYQMndBC0/WkHnPzEcMj9SNNPC8RY3P0FPRnNa6D0/MUFWiV9oQj9ErhMYZCtFP3ik+zX8Kkg/m1z/ERDlSz9JxRhGuBtQP5sKxn9AclI/wBx1KM5HVT8I8AyNvVRZPz9CjwjtZF4/QFReTrDPYT/tHRHyijdkP6HkvQqqdmc/0B18HYMZbD8AkArZPd1vP2pj1lZmrXA//BH4n1IncD84gre02PVsP4gj1r2xgmg/Fj3VuC4pZD+izcjcEPVfPy/tAd713lc/iMe1UmXnTz8iYUEonidAP6y+vkMJQRA/o2xTYkE9BD9IwJaGwqhCP29nR7j1BFU/QnyxDn8BYD8qinTTLxdlP51X8vls0mk/eVZfEGI9bj9kbu+4Ny9xP1elgRtBHHM/rGaRft/ldD9jdtvspIp2P7EUxcNtCHg/UViAs69ceT96KvnyaIV6P1/JS7oKgns/Cc1YMlNTfD8+PPDWnv58P8Fvz+ykiX0/z9i4eiX7fT8T/YcggVl+PzWPFRZCqX4/+t4USm7qfj/KHXOrkhJ/P7nqmaFaBH8/Ime6B4OTfj/411scr6Z9P6bJ7gVLVXw/NV4FsyzRej/8Wo6EM0B5PzK1l7/Ksnc/\",\"dtype\":\"float64\",\"shape\":[75]},\"y\":{\"__ndarray__\":\"GhExyth1ND/Sv8nbtpRIP2vylNV0PVE/aTum7souWD/At0SJ8fVgPw3Iuahxymc/MSNhhJWvcD/bTfBN02d3P2zb5nxnaoA/CD5h5MAGhz8NmeH1TyaQP+zrCsc9p5Y/LbKd76fGnz/bLW5ISEmmPww9YvTcQq8/JV2OstnstT8Er5Y7M8G+P0c+r3jqkcU/5h99k6ZBzj88bCIzFzjVP4enV8oyxN0//yH99nXg5D8qOpLLf0jtP5kqGJXUifQ/c9cS8kHP/D+/DpwzojQEQIEmwoanVwxA4lgXt9HgE0BSSZ2AJuIbQAMJih9jjiNA5q4l5INuK0AwTKYKRj0zQNv5fmq8/DpAaCJseHrtQkB/+zpwzoxKQM3MzMzMeFJAZmZmZmZqWEAAAAAAAFxeQM3MzMzMJmJAmpmZmZkfZUBmZmZmZhhoQDMzMzMzEWtAAAAAAAAKbkBmZmZmZoFwQM3MzMzM/XFAMzMzMzN6c0CamZmZmfZ0QAAAAAAAc3ZAZmZmZmbvd0DNzMzMzGt5QDMzMzMz6HpAmpmZmZlkfEAAAAAAAOF9QGZmZmZmXX9AZmZmZuZsgECamZmZGSuBQM3MzMxM6YFAAAAAAICngkAzMzMzs2WDQGZmZmbmI4RAmpmZmRnihEDNzMzMTKCFQAAAAACAXoZAMzMzM7Mch0BmZmZm5tqHQJqZmZkZmYhAzczMzExXiUAAAAAAgBWKQDMzMzOz04pAZmZmZuaRi0CamZmZGVCMQM3MzMxMDo1AAAAAAIDMjUAzMzMzs4qOQGZmZmbmSI9A\",\"dtype\":\"float64\",\"shape\":[75]}},\"selected\":{\"id\":\"39ab62a4-777b-4173-802e-8ee59f005121\",\"type\":\"Selection\"},\"selection_policy\":{\"id\":\"a7549741-32a9-4321-94f6-1d6fd751c61a\",\"type\":\"UnionRenderers\"}},\"id\":\"f74a14ec-daf6-4f23-966a-4f7b5c250799\",\"type\":\"ColumnDataSource\"},{\"attributes\":{\"num_minor_ticks\":10},\"id\":\"43900416-aef0-4635-992a-58d4bd8e9ef2\",\"type\":\"LogTicker\"},{\"attributes\":{\"fill_alpha\":{\"value\":0.7},\"fill_color\":{\"value\":\"#4daf4a\"},\"line_alpha\":{\"value\":0.7},\"line_color\":{\"value\":\"#4daf4a\"},\"x\":{\"field\":\"x\"},\"y\":{\"field\":\"y\"}},\"id\":\"ae6f6f99-334a-41ac-9ea2-4089c52538a8\",\"type\":\"Circle\"},{\"attributes\":{\"line_color\":\"#4daf4a\",\"line_width\":1.5,\"x\":{\"field\":\"x\"},\"y\":{\"field\":\"y\"}},\"id\":\"122d9a9d-7138-4280-9ccd-06e35bbb26e0\",\"type\":\"Line\"},{\"attributes\":{\"fill_alpha\":{\"value\":0.1},\"fill_color\":{\"value\":\"#1f77b4\"},\"line_alpha\":{\"value\":0.1},\"line_color\":{\"value\":\"#1f77b4\"},\"x\":{\"field\":\"x\"},\"y\":{\"field\":\"y\"}},\"id\":\"1d49fb98-a1b6-42a9-a0e2-570269185768\",\"type\":\"Circle\"},{\"attributes\":{\"plot\":{\"id\":\"ac2212cc-9c66-4ee1-98d8-bf8f17e6fbe6\",\"subtype\":\"Figure\",\"type\":\"Plot\"},\"ticker\":{\"id\":\"b6cfddf6-e251-425d-8de3-b18e3b8c8ac9\",\"type\":\"BasicTicker\"}},\"id\":\"522b88d6-532a-498b-a872-0ee67a401e3e\",\"type\":\"Grid\"},{\"attributes\":{},\"id\":\"8e875d54-6e42-4b10-ba1b-6efe06d08980\",\"type\":\"Selection\"},{\"attributes\":{\"source\":{\"id\":\"683fb0f8-2557-4197-ac8c-0f79611b7b87\",\"type\":\"ColumnDataSource\"}},\"id\":\"ea4f7c91-5866-40d4-b3b1-17c04ebf4db3\",\"type\":\"CDSView\"},{\"attributes\":{\"data_source\":{\"id\":\"683fb0f8-2557-4197-ac8c-0f79611b7b87\",\"type\":\"ColumnDataSource\"},\"glyph\":{\"id\":\"ae6f6f99-334a-41ac-9ea2-4089c52538a8\",\"type\":\"Circle\"},\"hover_glyph\":null,\"muted_glyph\":null,\"nonselection_glyph\":{\"id\":\"1d49fb98-a1b6-42a9-a0e2-570269185768\",\"type\":\"Circle\"},\"selection_glyph\":null,\"view\":{\"id\":\"ea4f7c91-5866-40d4-b3b1-17c04ebf4db3\",\"type\":\"CDSView\"}},\"id\":\"cb26917e-7f96-4748-8cbb-e5c17f291d12\",\"type\":\"GlyphRenderer\"},{\"attributes\":{},\"id\":\"2723346c-62be-4891-a6db-946a8a02439d\",\"type\":\"HelpTool\"},{\"attributes\":{\"bottom_units\":\"screen\",\"fill_alpha\":{\"value\":0.5},\"fill_color\":{\"value\":\"lightgrey\"},\"left_units\":\"screen\",\"level\":\"overlay\",\"line_alpha\":{\"value\":1.0},\"line_color\":{\"value\":\"black\"},\"line_dash\":[4,4],\"line_width\":{\"value\":2},\"plot\":null,\"render_mode\":\"css\",\"right_units\":\"screen\",\"top_units\":\"screen\"},\"id\":\"e2c9e396-4759-4773-8092-f6fbbba0f42d\",\"type\":\"BoxAnnotation\"},{\"attributes\":{\"line_alpha\":0.6,\"line_color\":\"#984ea3\",\"line_width\":3,\"x\":{\"field\":\"x\"},\"y\":{\"field\":\"y\"}},\"id\":\"2be2844d-14e0-4bbf-a09f-a37c6a3e32e3\",\"type\":\"Line\"},{\"attributes\":{\"callback\":null,\"data\":{\"x\":{\"__ndarray__\":\"xBepwC1lzj6KK27kGrTTPrvjsScVft0+oOZZD8RQ5D6ZlAHbXZvqPpEQowUV4PA+3zaQ6YTz9D5XP4LMDqH5PhsJUcdiDf8+Sqeh8+ezAj882keNWngGP5gZK9S1AAs/JPbkxGZDED9t2vDQXmkTPwAfwvLK0xY/sleuJ9nyGj/00jZ9ezAgP9mW8+vn1SM/T6XxHkLMKD8s91idbpwvPxmDttUEaDQ/Yhi07fjHOD9KS9Skq5c7P8hMUJMf7j0/x1rbg6EeQD+CiG3grgJBP3GuKTsUU0E/TC2NoX5qQT+C3p9lFx5CP16SD+nTBEM/DC475v1AQz+2BCH2q9ZCP7myvLDtdkU/ze8GYQYUTj9RJ8tSLKxUP7Lfr5t0SFo/T5/bCmwVXj/aZyXXU75eP5q4OJauWl0/Mkng41BeWz+qgQw7kQJZP/KiyL1tZFY/wPk129qXUz8Iki8UtLFQP1OznwHTvkw/RU/A6fOOUD+wSdRWp+1YP5ljvwekxmE/cq3uP8/yZj/BFcW1HuFrPzzFLQz4SHA/XiIRLKSCcj++FGUJR510P4YL/z0GmHY/NLvOxIRxeD9wvq1EtCd6P8pKYKpKuHs/DF/k//wgfT9xTyA7EmB+P5zyqL3vdH8/2XJZjtEvgD9LP9AuQJKAP1dl+yHR44A/74ATU+cmgT+vSoXcvF2BPwUnHnDWiYE/K4HgrxqrgT9M/3Jr4r2BPyaY0dtduIE/P9f/wCqMgT83VI49gjGBP0ZZi8ztsIA/PGXhpuAbgD+A3pVSUAB/P6CdUYeVyX0/\",\"dtype\":\"float64\",\"shape\":[75]},\"y\":{\"__ndarray__\":\"GhExyth1ND/Sv8nbtpRIP2vylNV0PVE/aTum7souWD/At0SJ8fVgPw3Iuahxymc/MSNhhJWvcD/bTfBN02d3P2zb5nxnaoA/CD5h5MAGhz8NmeH1TyaQP+zrCsc9p5Y/LbKd76fGnz/bLW5ISEmmPww9YvTcQq8/JV2OstnstT8Er5Y7M8G+P0c+r3jqkcU/5h99k6ZBzj88bCIzFzjVP4enV8oyxN0//yH99nXg5D8qOpLLf0jtP5kqGJXUifQ/c9cS8kHP/D+/DpwzojQEQIEmwoanVwxA4lgXt9HgE0BSSZ2AJuIbQAMJih9jjiNA5q4l5INuK0AwTKYKRj0zQNv5fmq8/DpAaCJseHrtQkB/+zpwzoxKQM3MzMzMeFJAZmZmZmZqWEAAAAAAAFxeQM3MzMzMJmJAmpmZmZkfZUBmZmZmZhhoQDMzMzMzEWtAAAAAAAAKbkBmZmZmZoFwQM3MzMzM/XFAMzMzMzN6c0CamZmZmfZ0QAAAAAAAc3ZAZmZmZmbvd0DNzMzMzGt5QDMzMzMz6HpAmpmZmZlkfEAAAAAAAOF9QGZmZmZmXX9AZmZmZuZsgECamZmZGSuBQM3MzMxM6YFAAAAAAICngkAzMzMzs2WDQGZmZmbmI4RAmpmZmRnihEDNzMzMTKCFQAAAAACAXoZAMzMzM7Mch0BmZmZm5tqHQJqZmZkZmYhAzczMzExXiUAAAAAAgBWKQDMzMzOz04pAZmZmZuaRi0CamZmZGVCMQM3MzMxMDo1AAAAAAIDMjUAzMzMzs4qOQGZmZmbmSI9A\",\"dtype\":\"float64\",\"shape\":[75]}},\"selected\":{\"id\":\"8e875d54-6e42-4b10-ba1b-6efe06d08980\",\"type\":\"Selection\"},\"selection_policy\":{\"id\":\"41a572af-ccc5-4a8a-8139-cba9fb19d647\",\"type\":\"UnionRenderers\"}},\"id\":\"4fdc298b-51f3-45bc-beb2-cb5c00a7f00c\",\"type\":\"ColumnDataSource\"},{\"attributes\":{\"line_alpha\":0.1,\"line_color\":\"#1f77b4\",\"line_width\":3,\"x\":{\"field\":\"x\"},\"y\":{\"field\":\"y\"}},\"id\":\"0f8f60d2-2fd9-42ba-9544-f774d86cb084\",\"type\":\"Line\"},{\"attributes\":{\"fill_alpha\":{\"value\":0.1},\"fill_color\":{\"value\":\"#1f77b4\"},\"line_alpha\":{\"value\":0.1},\"line_color\":{\"value\":\"#1f77b4\"},\"x\":{\"field\":\"x\"},\"y\":{\"field\":\"y\"}},\"id\":\"0ed8630e-8de2-41da-8849-2daa53c60c14\",\"type\":\"Square\"},{\"attributes\":{\"data_source\":{\"id\":\"f74a14ec-daf6-4f23-966a-4f7b5c250799\",\"type\":\"ColumnDataSource\"},\"glyph\":{\"id\":\"122d9a9d-7138-4280-9ccd-06e35bbb26e0\",\"type\":\"Line\"},\"hover_glyph\":null,\"muted_glyph\":null,\"nonselection_glyph\":{\"id\":\"64d7b025-62a6-4774-90de-447535d207ab\",\"type\":\"Line\"},\"selection_glyph\":null,\"view\":{\"id\":\"f5103b75-e2a6-4a49-b4ae-8721b77f3877\",\"type\":\"CDSView\"}},\"id\":\"18f3d688-0a52-4ee1-a558-1a54ef28bc10\",\"type\":\"GlyphRenderer\"},{\"attributes\":{},\"id\":\"91418004-d214-4172-add0-7be6f3316e5a\",\"type\":\"UnionRenderers\"},{\"attributes\":{\"data_source\":{\"id\":\"531bc9d6-f472-411b-afd4-6241da3315f2\",\"type\":\"ColumnDataSource\"},\"glyph\":{\"id\":\"2be2844d-14e0-4bbf-a09f-a37c6a3e32e3\",\"type\":\"Line\"},\"hover_glyph\":null,\"muted_glyph\":null,\"nonselection_glyph\":{\"id\":\"0f8f60d2-2fd9-42ba-9544-f774d86cb084\",\"type\":\"Line\"},\"selection_glyph\":null,\"view\":{\"id\":\"a90b1632-a417-4605-9793-0c3c7b107dec\",\"type\":\"CDSView\"}},\"id\":\"39fc6467-1076-453c-b37c-d53ac88f85c7\",\"type\":\"GlyphRenderer\"},{\"attributes\":{\"line_alpha\":0.1,\"line_color\":\"#1f77b4\",\"line_width\":1.5,\"x\":{\"field\":\"x\"},\"y\":{\"field\":\"y\"}},\"id\":\"44fda7d9-d2c7-428f-949e-d34defa56ccb\",\"type\":\"Line\"},{\"attributes\":{\"above\":[{\"id\":\"0e60d599-71a3-4a59-9be3-02ec7bcd6cf5\",\"type\":\"Legend\"}],\"below\":[{\"id\":\"f65266eb-1b8e-4b6d-b7aa-798d96162f63\",\"type\":\"LinearAxis\"}],\"left\":[{\"id\":\"311724a8-20e4-4675-8e25-c5ffff58518d\",\"type\":\"LogAxis\"}],\"plot_height\":500,\"plot_width\":400,\"renderers\":[{\"id\":\"f65266eb-1b8e-4b6d-b7aa-798d96162f63\",\"type\":\"LinearAxis\"},{\"id\":\"522b88d6-532a-498b-a872-0ee67a401e3e\",\"type\":\"Grid\"},{\"id\":\"311724a8-20e4-4675-8e25-c5ffff58518d\",\"type\":\"LogAxis\"},{\"id\":\"ba222daf-9e48-46bd-84ad-c5b7968f82a7\",\"type\":\"Grid\"},{\"id\":\"97843fe5-ac89-4848-b05c-02af6f655d7b\",\"type\":\"BoxAnnotation\"},{\"id\":\"1c1cef62-5f9f-4276-836d-c4ef748762f8\",\"type\":\"GlyphRenderer\"},{\"id\":\"ad1a4e41-d0d8-48c4-b12d-e91fe32c2dfa\",\"type\":\"GlyphRenderer\"},{\"id\":\"d51b5dd6-dff8-4525-b098-4af1531ad224\",\"type\":\"GlyphRenderer\"},{\"id\":\"e456b804-d8d3-4456-92b3-afc30b1b997d\",\"type\":\"GlyphRenderer\"},{\"id\":\"f8df53b4-df47-4710-ba2b-fb0818a5d863\",\"type\":\"GlyphRenderer\"},{\"id\":\"42554b7e-f4e6-4e9e-8b32-a32ff8fa3583\",\"type\":\"GlyphRenderer\"},{\"id\":\"0e60d599-71a3-4a59-9be3-02ec7bcd6cf5\",\"type\":\"Legend\"}],\"title\":{\"id\":\"95d69d23-f031-4ca8-83a9-4c9d7599fbf4\",\"type\":\"Title\"},\"toolbar\":{\"id\":\"8a9d15e5-6d3b-4810-9ff2-519cb354de6f\",\"type\":\"Toolbar\"},\"toolbar_location\":null,\"x_range\":{\"id\":\"8739cba6-5686-4210-a4d9-74c00b5d3812\",\"type\":\"Range1d\"},\"x_scale\":{\"id\":\"ea6186c8-6330-4060-8075-4d54769ee5c1\",\"type\":\"LinearScale\"},\"y_range\":{\"id\":\"69dd73d9-c96f-44d1-be54-f69b87a8e172\",\"type\":\"Range1d\"},\"y_scale\":{\"id\":\"8f6fe29b-e1cb-4d4d-b189-c63eb387edcc\",\"type\":\"LogScale\"}},\"id\":\"ac2212cc-9c66-4ee1-98d8-bf8f17e6fbe6\",\"subtype\":\"Figure\",\"type\":\"Plot\"},{\"attributes\":{\"callback\":null,\"data\":{\"x\":{\"__ndarray__\":\"JeES5x853z5qpEgRSHPiPoetKXu9keg+4Von4Z6H7z5cTv7t37HzPmaUp0zFJ/g+YExlnyI+/T4CxHz8BIoBP67JRxjC6wQ/dyrFfsjhCD8clyMGOpQNP6YwtlNhnRE/VlW0ZbwOFT+K9Q9nzfwYPxXfrc8PRB0/vT2KpjM4IT8wbYyDz6AkP3yEHyByNCk/dWNI4AVuLz93mcQsFPwzP6/M5iX/vzk/FBl/9MZRPz9VoQUGFJBBP2UvvOloREM/EkRKjsERRT8Rk1rAy7RGP2FYuhY/2kc/SgNl0LD+SD+JHBKTNTRLP1wABZw/FE4/yqVj1tBYUD+tIXJrq4FRP44nfltbMFQ/EBOPrgtkWj8JtFTT99dgP1vaoCNvAWQ/uXUo2yi4ZT+kVXqck2ZlP64Od2tdzmM/3WhreEbYYT8MGheiDFtfPyRKfF81vlo/Eg8Ut4viVT8XigPGxO9QP7BPxFq7Qkk/UwTQw4lISz+oRxMi8vNVPyOFC2Aed2A/wR29XCrIZT/QDAnwAtJqPzGN0YTulW8/1pP+AJkNcj+rroebQS90P1xC8MYqL3Y/Uf0z3YwOeD86x4NbZcd5P6Z9Q0bfW3s/9aRHaI/EfD+UZeNl7wN+Pz/FQae/FX8/Yoh5Zmv8fz+XPjWUGl6AP3zqA8pgrIA/rIRhVmXsgD/9ro9crCCBP6j+HILFSoE/NDiHeJZqgT9nZ+rYtXuBPwQabQ9icoE/YUOlBXc9gT/zSQECitOAP4cO65lfPoA/XcN+4g8lfz+EiAvxpb99P6OMhn3TXHw/\",\"dtype\":\"float64\",\"shape\":[75]},\"y\":{\"__ndarray__\":\"GhExyth1ND/Sv8nbtpRIP2vylNV0PVE/aTum7souWD/At0SJ8fVgPw3Iuahxymc/MSNhhJWvcD/bTfBN02d3P2zb5nxnaoA/CD5h5MAGhz8NmeH1TyaQP+zrCsc9p5Y/LbKd76fGnz/bLW5ISEmmPww9YvTcQq8/JV2OstnstT8Er5Y7M8G+P0c+r3jqkcU/5h99k6ZBzj88bCIzFzjVP4enV8oyxN0//yH99nXg5D8qOpLLf0jtP5kqGJXUifQ/c9cS8kHP/D+/DpwzojQEQIEmwoanVwxA4lgXt9HgE0BSSZ2AJuIbQAMJih9jjiNA5q4l5INuK0AwTKYKRj0zQNv5fmq8/DpAaCJseHrtQkB/+zpwzoxKQM3MzMzMeFJAZmZmZmZqWEAAAAAAAFxeQM3MzMzMJmJAmpmZmZkfZUBmZmZmZhhoQDMzMzMzEWtAAAAAAAAKbkBmZmZmZoFwQM3MzMzM/XFAMzMzMzN6c0CamZmZmfZ0QAAAAAAAc3ZAZmZmZmbvd0DNzMzMzGt5QDMzMzMz6HpAmpmZmZlkfEAAAAAAAOF9QGZmZmZmXX9AZmZmZuZsgECamZmZGSuBQM3MzMxM6YFAAAAAAICngkAzMzMzs2WDQGZmZmbmI4RAmpmZmRnihEDNzMzMTKCFQAAAAACAXoZAMzMzM7Mch0BmZmZm5tqHQJqZmZkZmYhAzczMzExXiUAAAAAAgBWKQDMzMzOz04pAZmZmZuaRi0CamZmZGVCMQM3MzMxMDo1AAAAAAIDMjUAzMzMzs4qOQGZmZmbmSI9A\",\"dtype\":\"float64\",\"shape\":[75]}},\"selected\":{\"id\":\"f0d6f0ff-4577-4aed-9881-f55f5b93ad74\",\"type\":\"Selection\"},\"selection_policy\":{\"id\":\"41775b01-a940-4c8e-8b1f-1347c953bbc8\",\"type\":\"UnionRenderers\"}},\"id\":\"91c35db6-72e5-49ca-adb6-50f1eafd81a5\",\"type\":\"ColumnDataSource\"},{\"attributes\":{\"fill_alpha\":{\"value\":0.7},\"fill_color\":{\"value\":\"#984ea3\"},\"line_alpha\":{\"value\":0.7},\"line_color\":{\"value\":\"#984ea3\"},\"x\":{\"field\":\"x\"},\"y\":{\"field\":\"y\"}},\"id\":\"c7e46d1d-4c00-4894-b6b1-6ce4504c5b82\",\"type\":\"Square\"},{\"attributes\":{\"source\":{\"id\":\"f74a14ec-daf6-4f23-966a-4f7b5c250799\",\"type\":\"ColumnDataSource\"}},\"id\":\"f5103b75-e2a6-4a49-b4ae-8721b77f3877\",\"type\":\"CDSView\"},{\"attributes\":{\"data_source\":{\"id\":\"2cdf64c3-5845-46ba-b1ed-67e19d361a3f\",\"type\":\"ColumnDataSource\"},\"glyph\":{\"id\":\"4a4a531d-da1d-45eb-b64d-8b7ff27ba4cd\",\"type\":\"Circle\"},\"hover_glyph\":null,\"muted_glyph\":null,\"nonselection_glyph\":{\"id\":\"d32c42aa-8ea1-4110-9b3b-c2ebe243a2c7\",\"type\":\"Circle\"},\"selection_glyph\":null,\"view\":{\"id\":\"96a46c3e-242b-4700-ad38-ef01bb52f5a7\",\"type\":\"CDSView\"}},\"id\":\"1c1cef62-5f9f-4276-836d-c4ef748762f8\",\"type\":\"GlyphRenderer\"},{\"attributes\":{\"line_alpha\":0.3,\"line_color\":\"#377eb8\",\"line_width\":2,\"x\":{\"field\":\"x\"},\"y\":{\"field\":\"y\"}},\"id\":\"772572f7-85b0-47cf-aaf6-029d479b8a16\",\"type\":\"Line\"},{\"attributes\":{\"line_color\":\"#4daf4a\",\"line_width\":1.5,\"x\":{\"field\":\"x\"},\"y\":{\"field\":\"y\"}},\"id\":\"ab3af3db-8043-4162-ac27-896268908a19\",\"type\":\"Line\"},{\"attributes\":{\"data_source\":{\"id\":\"c8d0f612-d29f-4020-ab35-69c543506852\",\"type\":\"ColumnDataSource\"},\"glyph\":{\"id\":\"ab3af3db-8043-4162-ac27-896268908a19\",\"type\":\"Line\"},\"hover_glyph\":null,\"muted_glyph\":null,\"nonselection_glyph\":{\"id\":\"44fda7d9-d2c7-428f-949e-d34defa56ccb\",\"type\":\"Line\"},\"selection_glyph\":null,\"view\":{\"id\":\"8aa6654c-57da-42f2-bde5-0d8ed9a7dbd1\",\"type\":\"CDSView\"}},\"id\":\"ad1a4e41-d0d8-48c4-b12d-e91fe32c2dfa\",\"type\":\"GlyphRenderer\"},{\"attributes\":{\"callback\":null,\"data\":{\"x\":{\"__ndarray__\":\"JeES5x853z5qpEgRSHPiPoetKXu9keg+4Von4Z6H7z5cTv7t37HzPmaUp0zFJ/g+YExlnyI+/T4CxHz8BIoBP67JRxjC6wQ/dyrFfsjhCD8clyMGOpQNP6YwtlNhnRE/VlW0ZbwOFT+K9Q9nzfwYPxXfrc8PRB0/vT2KpjM4IT8wbYyDz6AkP3yEHyByNCk/dWNI4AVuLz93mcQsFPwzP6/M5iX/vzk/FBl/9MZRPz9VoQUGFJBBP2UvvOloREM/EkRKjsERRT8Rk1rAy7RGP2FYuhY/2kc/SgNl0LD+SD+JHBKTNTRLP1wABZw/FE4/yqVj1tBYUD+tIXJrq4FRP44nfltbMFQ/EBOPrgtkWj8JtFTT99dgP1vaoCNvAWQ/uXUo2yi4ZT+kVXqck2ZlP64Od2tdzmM/3WhreEbYYT8MGheiDFtfPyRKfF81vlo/Eg8Ut4viVT8XigPGxO9QP7BPxFq7Qkk/UwTQw4lISz+oRxMi8vNVPyOFC2Aed2A/wR29XCrIZT/QDAnwAtJqPzGN0YTulW8/1pP+AJkNcj+rroebQS90P1xC8MYqL3Y/Uf0z3YwOeD86x4NbZcd5P6Z9Q0bfW3s/9aRHaI/EfD+UZeNl7wN+Pz/FQae/FX8/Yoh5Zmv8fz+XPjWUGl6AP3zqA8pgrIA/rIRhVmXsgD/9ro9crCCBP6j+HILFSoE/NDiHeJZqgT9nZ+rYtXuBPwQabQ9icoE/YUOlBXc9gT/zSQECitOAP4cO65lfPoA/XcN+4g8lfz+EiAvxpb99P6OMhn3TXHw/\",\"dtype\":\"float64\",\"shape\":[75]},\"y\":{\"__ndarray__\":\"GhExyth1ND/Sv8nbtpRIP2vylNV0PVE/aTum7souWD/At0SJ8fVgPw3Iuahxymc/MSNhhJWvcD/bTfBN02d3P2zb5nxnaoA/CD5h5MAGhz8NmeH1TyaQP+zrCsc9p5Y/LbKd76fGnz/bLW5ISEmmPww9YvTcQq8/JV2OstnstT8Er5Y7M8G+P0c+r3jqkcU/5h99k6ZBzj88bCIzFzjVP4enV8oyxN0//yH99nXg5D8qOpLLf0jtP5kqGJXUifQ/c9cS8kHP/D+/DpwzojQEQIEmwoanVwxA4lgXt9HgE0BSSZ2AJuIbQAMJih9jjiNA5q4l5INuK0AwTKYKRj0zQNv5fmq8/DpAaCJseHrtQkB/+zpwzoxKQM3MzMzMeFJAZmZmZmZqWEAAAAAAAFxeQM3MzMzMJmJAmpmZmZkfZUBmZmZmZhhoQDMzMzMzEWtAAAAAAAAKbkBmZmZmZoFwQM3MzMzM/XFAMzMzMzN6c0CamZmZmfZ0QAAAAAAAc3ZAZmZmZmbvd0DNzMzMzGt5QDMzMzMz6HpAmpmZmZlkfEAAAAAAAOF9QGZmZmZmXX9AZmZmZuZsgECamZmZGSuBQM3MzMxM6YFAAAAAAICngkAzMzMzs2WDQGZmZmbmI4RAmpmZmRnihEDNzMzMTKCFQAAAAACAXoZAMzMzM7Mch0BmZmZm5tqHQJqZmZkZmYhAzczMzExXiUAAAAAAgBWKQDMzMzOz04pAZmZmZuaRi0CamZmZGVCMQM3MzMxMDo1AAAAAAIDMjUAzMzMzs4qOQGZmZmbmSI9A\",\"dtype\":\"float64\",\"shape\":[75]}},\"selected\":{\"id\":\"633e7dbf-d0d8-4ed6-93b8-113b4ecb6581\",\"type\":\"Selection\"},\"selection_policy\":{\"id\":\"91418004-d214-4172-add0-7be6f3316e5a\",\"type\":\"UnionRenderers\"}},\"id\":\"33a6cdb9-ce9d-4fa5-90e2-9509bbaede8d\",\"type\":\"ColumnDataSource\"},{\"attributes\":{\"callback\":null,\"data\":{\"x\":{\"__ndarray__\":\"xBepwC1lzj6KK27kGrTTPrvjsScVft0+oOZZD8RQ5D6ZlAHbXZvqPpEQowUV4PA+3zaQ6YTz9D5XP4LMDqH5PhsJUcdiDf8+Sqeh8+ezAj882keNWngGP5gZK9S1AAs/JPbkxGZDED9t2vDQXmkTPwAfwvLK0xY/sleuJ9nyGj/00jZ9ezAgP9mW8+vn1SM/T6XxHkLMKD8s91idbpwvPxmDttUEaDQ/Yhi07fjHOD9KS9Skq5c7P8hMUJMf7j0/x1rbg6EeQD+CiG3grgJBP3GuKTsUU0E/TC2NoX5qQT+C3p9lFx5CP16SD+nTBEM/DC475v1AQz+2BCH2q9ZCP7myvLDtdkU/ze8GYQYUTj9RJ8tSLKxUP7Lfr5t0SFo/T5/bCmwVXj/aZyXXU75eP5q4OJauWl0/Mkng41BeWz+qgQw7kQJZP/KiyL1tZFY/wPk129qXUz8Iki8UtLFQP1OznwHTvkw/RU/A6fOOUD+wSdRWp+1YP5ljvwekxmE/cq3uP8/yZj/BFcW1HuFrPzzFLQz4SHA/XiIRLKSCcj++FGUJR510P4YL/z0GmHY/NLvOxIRxeD9wvq1EtCd6P8pKYKpKuHs/DF/k//wgfT9xTyA7EmB+P5zyqL3vdH8/2XJZjtEvgD9LP9AuQJKAP1dl+yHR44A/74ATU+cmgT+vSoXcvF2BPwUnHnDWiYE/K4HgrxqrgT9M/3Jr4r2BPyaY0dtduIE/P9f/wCqMgT83VI49gjGBP0ZZi8ztsIA/PGXhpuAbgD+A3pVSUAB/P6CdUYeVyX0/\",\"dtype\":\"float64\",\"shape\":[75]},\"y\":{\"__ndarray__\":\"GhExyth1ND/Sv8nbtpRIP2vylNV0PVE/aTum7souWD/At0SJ8fVgPw3Iuahxymc/MSNhhJWvcD/bTfBN02d3P2zb5nxnaoA/CD5h5MAGhz8NmeH1TyaQP+zrCsc9p5Y/LbKd76fGnz/bLW5ISEmmPww9YvTcQq8/JV2OstnstT8Er5Y7M8G+P0c+r3jqkcU/5h99k6ZBzj88bCIzFzjVP4enV8oyxN0//yH99nXg5D8qOpLLf0jtP5kqGJXUifQ/c9cS8kHP/D+/DpwzojQEQIEmwoanVwxA4lgXt9HgE0BSSZ2AJuIbQAMJih9jjiNA5q4l5INuK0AwTKYKRj0zQNv5fmq8/DpAaCJseHrtQkB/+zpwzoxKQM3MzMzMeFJAZmZmZmZqWEAAAAAAAFxeQM3MzMzMJmJAmpmZmZkfZUBmZmZmZhhoQDMzMzMzEWtAAAAAAAAKbkBmZmZmZoFwQM3MzMzM/XFAMzMzMzN6c0CamZmZmfZ0QAAAAAAAc3ZAZmZmZmbvd0DNzMzMzGt5QDMzMzMz6HpAmpmZmZlkfEAAAAAAAOF9QGZmZmZmXX9AZmZmZuZsgECamZmZGSuBQM3MzMxM6YFAAAAAAICngkAzMzMzs2WDQGZmZmbmI4RAmpmZmRnihEDNzMzMTKCFQAAAAACAXoZAMzMzM7Mch0BmZmZm5tqHQJqZmZkZmYhAzczMzExXiUAAAAAAgBWKQDMzMzOz04pAZmZmZuaRi0CamZmZGVCMQM3MzMxMDo1AAAAAAIDMjUAzMzMzs4qOQGZmZmbmSI9A\",\"dtype\":\"float64\",\"shape\":[75]}},\"selected\":{\"id\":\"c142cad5-82b9-4dbc-a121-d9635c655ca8\",\"type\":\"Selection\"},\"selection_policy\":{\"id\":\"72082bc2-c2d0-470c-b78a-3643d22f61c6\",\"type\":\"UnionRenderers\"}},\"id\":\"585466a8-0008-46bf-ba5b-339574685e63\",\"type\":\"ColumnDataSource\"},{\"attributes\":{\"callback\":null,\"data\":{\"x\":{\"__ndarray__\":\"JeES5x853z5qpEgRSHPiPoetKXu9keg+4Von4Z6H7z5cTv7t37HzPmaUp0zFJ/g+YExlnyI+/T4CxHz8BIoBP67JRxjC6wQ/dyrFfsjhCD8clyMGOpQNP6YwtlNhnRE/VlW0ZbwOFT+K9Q9nzfwYPxXfrc8PRB0/vT2KpjM4IT8wbYyDz6AkP3yEHyByNCk/dWNI4AVuLz93mcQsFPwzP6/M5iX/vzk/FBl/9MZRPz9VoQUGFJBBP2UvvOloREM/EkRKjsERRT8Rk1rAy7RGP2FYuhY/2kc/SgNl0LD+SD+JHBKTNTRLP1wABZw/FE4/yqVj1tBYUD+tIXJrq4FRP44nfltbMFQ/EBOPrgtkWj8JtFTT99dgP1vaoCNvAWQ/uXUo2yi4ZT+kVXqck2ZlP64Od2tdzmM/3WhreEbYYT8MGheiDFtfPyRKfF81vlo/Eg8Ut4viVT8XigPGxO9QP7BPxFq7Qkk/UwTQw4lISz+oRxMi8vNVPyOFC2Aed2A/wR29XCrIZT/QDAnwAtJqPzGN0YTulW8/1pP+AJkNcj+rroebQS90P1xC8MYqL3Y/Uf0z3YwOeD86x4NbZcd5P6Z9Q0bfW3s/9aRHaI/EfD+UZeNl7wN+Pz/FQae/FX8/Yoh5Zmv8fz+XPjWUGl6AP3zqA8pgrIA/rIRhVmXsgD/9ro9crCCBP6j+HILFSoE/NDiHeJZqgT9nZ+rYtXuBPwQabQ9icoE/YUOlBXc9gT/zSQECitOAP4cO65lfPoA/XcN+4g8lfz+EiAvxpb99P6OMhn3TXHw/\",\"dtype\":\"float64\",\"shape\":[75]},\"y\":{\"__ndarray__\":\"GhExyth1ND/Sv8nbtpRIP2vylNV0PVE/aTum7souWD/At0SJ8fVgPw3Iuahxymc/MSNhhJWvcD/bTfBN02d3P2zb5nxnaoA/CD5h5MAGhz8NmeH1TyaQP+zrCsc9p5Y/LbKd76fGnz/bLW5ISEmmPww9YvTcQq8/JV2OstnstT8Er5Y7M8G+P0c+r3jqkcU/5h99k6ZBzj88bCIzFzjVP4enV8oyxN0//yH99nXg5D8qOpLLf0jtP5kqGJXUifQ/c9cS8kHP/D+/DpwzojQEQIEmwoanVwxA4lgXt9HgE0BSSZ2AJuIbQAMJih9jjiNA5q4l5INuK0AwTKYKRj0zQNv5fmq8/DpAaCJseHrtQkB/+zpwzoxKQM3MzMzMeFJAZmZmZmZqWEAAAAAAAFxeQM3MzMzMJmJAmpmZmZkfZUBmZmZmZhhoQDMzMzMzEWtAAAAAAAAKbkBmZmZmZoFwQM3MzMzM/XFAMzMzMzN6c0CamZmZmfZ0QAAAAAAAc3ZAZmZmZmbvd0DNzMzMzGt5QDMzMzMz6HpAmpmZmZlkfEAAAAAAAOF9QGZmZmZmXX9AZmZmZuZsgECamZmZGSuBQM3MzMxM6YFAAAAAAICngkAzMzMzs2WDQGZmZmbmI4RAmpmZmRnihEDNzMzMTKCFQAAAAACAXoZAMzMzM7Mch0BmZmZm5tqHQJqZmZkZmYhAzczMzExXiUAAAAAAgBWKQDMzMzOz04pAZmZmZuaRi0CamZmZGVCMQM3MzMxMDo1AAAAAAIDMjUAzMzMzs4qOQGZmZmbmSI9A\",\"dtype\":\"float64\",\"shape\":[75]}},\"selected\":{\"id\":\"38afc25a-043b-4a6d-aba7-fd2992215add\",\"type\":\"Selection\"},\"selection_policy\":{\"id\":\"2c3aa31b-ff31-4a0d-a40b-8c80e80d3a64\",\"type\":\"UnionRenderers\"}},\"id\":\"531bc9d6-f472-411b-afd4-6241da3315f2\",\"type\":\"ColumnDataSource\"},{\"attributes\":{\"line_alpha\":0.1,\"line_color\":\"#1f77b4\",\"line_width\":1.5,\"x\":{\"field\":\"x\"},\"y\":{\"field\":\"y\"}},\"id\":\"64d7b025-62a6-4774-90de-447535d207ab\",\"type\":\"Line\"},{\"attributes\":{\"data_source\":{\"id\":\"4fdc298b-51f3-45bc-beb2-cb5c00a7f00c\",\"type\":\"ColumnDataSource\"},\"glyph\":{\"id\":\"69656070-6832-4afb-9f00-ff2e3b7c2473\",\"type\":\"Triangle\"},\"hover_glyph\":null,\"muted_glyph\":null,\"nonselection_glyph\":{\"id\":\"612ddee3-a13b-4875-a982-17e2b82985fe\",\"type\":\"Triangle\"},\"selection_glyph\":null,\"view\":{\"id\":\"3db02090-de1f-4d90-8779-1bf53e92ff79\",\"type\":\"CDSView\"}},\"id\":\"85afd143-ce85-430c-bf4e-6d5cabc0f280\",\"type\":\"GlyphRenderer\"},{\"attributes\":{\"source\":{\"id\":\"2cdf64c3-5845-46ba-b1ed-67e19d361a3f\",\"type\":\"ColumnDataSource\"}},\"id\":\"96a46c3e-242b-4700-ad38-ef01bb52f5a7\",\"type\":\"CDSView\"},{\"attributes\":{\"fill_alpha\":{\"value\":0.7},\"fill_color\":{\"value\":\"#377eb8\"},\"line_alpha\":{\"value\":0.7},\"line_color\":{\"value\":\"#377eb8\"},\"x\":{\"field\":\"x\"},\"y\":{\"field\":\"y\"}},\"id\":\"69656070-6832-4afb-9f00-ff2e3b7c2473\",\"type\":\"Triangle\"},{\"attributes\":{\"fill_alpha\":{\"value\":0.1},\"fill_color\":{\"value\":\"#1f77b4\"},\"line_alpha\":{\"value\":0.1},\"line_color\":{\"value\":\"#1f77b4\"},\"x\":{\"field\":\"x\"},\"y\":{\"field\":\"y\"}},\"id\":\"b07acd0b-612f-409b-9160-47f9f37e9c59\",\"type\":\"Square\"},{\"attributes\":{\"source\":{\"id\":\"4fdc298b-51f3-45bc-beb2-cb5c00a7f00c\",\"type\":\"ColumnDataSource\"}},\"id\":\"3db02090-de1f-4d90-8779-1bf53e92ff79\",\"type\":\"CDSView\"},{\"attributes\":{\"fill_alpha\":{\"value\":0.1},\"fill_color\":{\"value\":\"#1f77b4\"},\"line_alpha\":{\"value\":0.1},\"line_color\":{\"value\":\"#1f77b4\"},\"x\":{\"field\":\"x\"},\"y\":{\"field\":\"y\"}},\"id\":\"d32c42aa-8ea1-4110-9b3b-c2ebe243a2c7\",\"type\":\"Circle\"},{\"attributes\":{\"data_source\":{\"id\":\"585466a8-0008-46bf-ba5b-339574685e63\",\"type\":\"ColumnDataSource\"},\"glyph\":{\"id\":\"772572f7-85b0-47cf-aaf6-029d479b8a16\",\"type\":\"Line\"},\"hover_glyph\":null,\"muted_glyph\":null,\"nonselection_glyph\":{\"id\":\"6cdf5833-55cb-4530-a858-a42d8982468e\",\"type\":\"Line\"},\"selection_glyph\":null,\"view\":{\"id\":\"b153a508-ea4b-4a89-b4f3-968018f2d311\",\"type\":\"CDSView\"}},\"id\":\"cc638d98-47dd-4a64-b0ab-d39303012cd9\",\"type\":\"GlyphRenderer\"},{\"attributes\":{\"fill_alpha\":{\"value\":0.1},\"fill_color\":{\"value\":\"#1f77b4\"},\"line_alpha\":{\"value\":0.1},\"line_color\":{\"value\":\"#1f77b4\"},\"x\":{\"field\":\"x\"},\"y\":{\"field\":\"y\"}},\"id\":\"612ddee3-a13b-4875-a982-17e2b82985fe\",\"type\":\"Triangle\"},{\"attributes\":{\"data_source\":{\"id\":\"33a6cdb9-ce9d-4fa5-90e2-9509bbaede8d\",\"type\":\"ColumnDataSource\"},\"glyph\":{\"id\":\"c7e46d1d-4c00-4894-b6b1-6ce4504c5b82\",\"type\":\"Square\"},\"hover_glyph\":null,\"muted_glyph\":null,\"nonselection_glyph\":{\"id\":\"0ed8630e-8de2-41da-8849-2daa53c60c14\",\"type\":\"Square\"},\"selection_glyph\":null,\"view\":{\"id\":\"8c23ad60-a75f-42a6-a4f2-df371219ccdf\",\"type\":\"CDSView\"}},\"id\":\"71346003-59b9-4be8-a3b1-205ca2663811\",\"type\":\"GlyphRenderer\"},{\"attributes\":{\"source\":{\"id\":\"33a6cdb9-ce9d-4fa5-90e2-9509bbaede8d\",\"type\":\"ColumnDataSource\"}},\"id\":\"8c23ad60-a75f-42a6-a4f2-df371219ccdf\",\"type\":\"CDSView\"},{\"attributes\":{},\"id\":\"633e7dbf-d0d8-4ed6-93b8-113b4ecb6581\",\"type\":\"Selection\"},{\"attributes\":{\"source\":{\"id\":\"531bc9d6-f472-411b-afd4-6241da3315f2\",\"type\":\"ColumnDataSource\"}},\"id\":\"a90b1632-a417-4605-9793-0c3c7b107dec\",\"type\":\"CDSView\"},{\"attributes\":{\"source\":{\"id\":\"91c35db6-72e5-49ca-adb6-50f1eafd81a5\",\"type\":\"ColumnDataSource\"}},\"id\":\"9f32111b-11f5-42a5-8add-3834acc3ed24\",\"type\":\"CDSView\"},{\"attributes\":{\"line_alpha\":0.1,\"line_color\":\"#1f77b4\",\"line_width\":2,\"x\":{\"field\":\"x\"},\"y\":{\"field\":\"y\"}},\"id\":\"6cdf5833-55cb-4530-a858-a42d8982468e\",\"type\":\"Line\"},{\"attributes\":{\"source\":{\"id\":\"585466a8-0008-46bf-ba5b-339574685e63\",\"type\":\"ColumnDataSource\"}},\"id\":\"b153a508-ea4b-4a89-b4f3-968018f2d311\",\"type\":\"CDSView\"},{\"attributes\":{\"active_drag\":\"auto\",\"active_inspect\":\"auto\",\"active_scroll\":\"auto\",\"active_tap\":\"auto\",\"tools\":[{\"id\":\"9c2b5644-df70-438b-9a90-d23a444e7449\",\"type\":\"PanTool\"},{\"id\":\"127003cf-f577-4f39-b724-067ec1ec7e94\",\"type\":\"WheelZoomTool\"},{\"id\":\"12843bb0-f35c-488c-9055-367e00fed6a1\",\"type\":\"BoxZoomTool\"},{\"id\":\"474af668-c5c8-4806-88c2-5e5de524d5f2\",\"type\":\"SaveTool\"},{\"id\":\"0336a78c-72e1-474f-8f6a-208a9c2ce241\",\"type\":\"ResetTool\"},{\"id\":\"a149159d-b8f9-4106-af12-6c35a5947034\",\"type\":\"HelpTool\"}]},\"id\":\"8a9d15e5-6d3b-4810-9ff2-519cb354de6f\",\"type\":\"Toolbar\"},{\"attributes\":{\"label\":{\"value\":\"CRD\"},\"renderers\":[{\"id\":\"cb26917e-7f96-4748-8cbb-e5c17f291d12\",\"type\":\"GlyphRenderer\"},{\"id\":\"18f3d688-0a52-4ee1-a558-1a54ef28bc10\",\"type\":\"GlyphRenderer\"}]},\"id\":\"94fc4ad6-4fe5-4512-a7b9-868a905d1a4e\",\"type\":\"LegendItem\"},{\"attributes\":{\"callback\":null,\"end\":0.0041119763422,\"start\":-4.6867621999999965e-06},\"id\":\"8739cba6-5686-4210-a4d9-74c00b5d3812\",\"type\":\"Range1d\"},{\"attributes\":{\"label\":{\"value\":\"WGT igg=1\"},\"renderers\":[{\"id\":\"71346003-59b9-4be8-a3b1-205ca2663811\",\"type\":\"GlyphRenderer\"},{\"id\":\"39fc6467-1076-453c-b37c-d53ac88f85c7\",\"type\":\"GlyphRenderer\"}]},\"id\":\"a6a7d173-2d7e-4a0c-ae93-a7d626db336d\",\"type\":\"LegendItem\"},{\"attributes\":{\"line_alpha\":0.6,\"line_color\":\"#984ea3\",\"line_width\":3,\"x\":{\"field\":\"x\"},\"y\":{\"field\":\"y\"}},\"id\":\"f7b6894e-7043-4719-90a1-649404033d2c\",\"type\":\"Line\"},{\"attributes\":{},\"id\":\"ea6186c8-6330-4060-8075-4d54769ee5c1\",\"type\":\"LinearScale\"},{\"attributes\":{\"label\":{\"value\":\"WGT igg=10\"},\"renderers\":[{\"id\":\"85afd143-ce85-430c-bf4e-6d5cabc0f280\",\"type\":\"GlyphRenderer\"},{\"id\":\"cc638d98-47dd-4a64-b0ab-d39303012cd9\",\"type\":\"GlyphRenderer\"}]},\"id\":\"ffce58c4-165c-4ce2-af6d-4e1bedadff56\",\"type\":\"LegendItem\"},{\"attributes\":{\"source\":{\"id\":\"c8d0f612-d29f-4020-ab35-69c543506852\",\"type\":\"ColumnDataSource\"}},\"id\":\"8aa6654c-57da-42f2-bde5-0d8ed9a7dbd1\",\"type\":\"CDSView\"},{\"attributes\":{},\"id\":\"127003cf-f577-4f39-b724-067ec1ec7e94\",\"type\":\"WheelZoomTool\"},{\"attributes\":{\"data_source\":{\"id\":\"91c35db6-72e5-49ca-adb6-50f1eafd81a5\",\"type\":\"ColumnDataSource\"},\"glyph\":{\"id\":\"98c71cd0-04b6-4948-9714-f20e8aa0b306\",\"type\":\"Square\"},\"hover_glyph\":null,\"muted_glyph\":null,\"nonselection_glyph\":{\"id\":\"b07acd0b-612f-409b-9160-47f9f37e9c59\",\"type\":\"Square\"},\"selection_glyph\":null,\"view\":{\"id\":\"9f32111b-11f5-42a5-8add-3834acc3ed24\",\"type\":\"CDSView\"}},\"id\":\"d51b5dd6-dff8-4525-b098-4af1531ad224\",\"type\":\"GlyphRenderer\"},{\"attributes\":{\"items\":[{\"id\":\"dc12ed0e-eaaa-47a3-9e0c-de05e372e036\",\"type\":\"LegendItem\"},{\"id\":\"70030659-5348-4257-986e-dd76d3b0b244\",\"type\":\"LegendItem\"},{\"id\":\"926a0587-307a-496a-bc3b-5a949f4c68fa\",\"type\":\"LegendItem\"}],\"label_text_font_size\":{\"value\":\"8pt\"},\"location\":\"top_center\",\"orientation\":\"horizontal\",\"plot\":{\"id\":\"ac2212cc-9c66-4ee1-98d8-bf8f17e6fbe6\",\"subtype\":\"Figure\",\"type\":\"Plot\"}},\"id\":\"0e60d599-71a3-4a59-9be3-02ec7bcd6cf5\",\"type\":\"Legend\"},{\"attributes\":{\"data_source\":{\"id\":\"0a3201a6-2166-4e44-830e-bc9c9ed59f16\",\"type\":\"ColumnDataSource\"},\"glyph\":{\"id\":\"f7b6894e-7043-4719-90a1-649404033d2c\",\"type\":\"Line\"},\"hover_glyph\":null,\"muted_glyph\":null,\"nonselection_glyph\":{\"id\":\"cb9b36d4-3cc6-41d7-827a-410a3bc7932f\",\"type\":\"Line\"},\"selection_glyph\":null,\"view\":{\"id\":\"60d8a86f-908d-4cd5-9468-249adf43f2f7\",\"type\":\"CDSView\"}},\"id\":\"e456b804-d8d3-4456-92b3-afc30b1b997d\",\"type\":\"GlyphRenderer\"},{\"attributes\":{\"bottom_units\":\"screen\",\"fill_alpha\":{\"value\":0.5},\"fill_color\":{\"value\":\"lightgrey\"},\"left_units\":\"screen\",\"level\":\"overlay\",\"line_alpha\":{\"value\":1.0},\"line_color\":{\"value\":\"black\"},\"line_dash\":[4,4],\"line_width\":{\"value\":2},\"plot\":null,\"render_mode\":\"css\",\"right_units\":\"screen\",\"top_units\":\"screen\"},\"id\":\"97843fe5-ac89-4848-b05c-02af6f655d7b\",\"type\":\"BoxAnnotation\"},{\"attributes\":{\"data_source\":{\"id\":\"c1df49c8-b74b-4731-ba3b-7dab08853926\",\"type\":\"ColumnDataSource\"},\"glyph\":{\"id\":\"219f8c60-3107-41b8-b00d-b4e15f0573d1\",\"type\":\"Line\"},\"hover_glyph\":null,\"muted_glyph\":null,\"nonselection_glyph\":{\"id\":\"ca218ba8-c0c3-43a2-95e0-ce6596cb697a\",\"type\":\"Line\"},\"selection_glyph\":null,\"view\":{\"id\":\"98cc2588-6cf0-47ab-b1d2-9ff8a7ad1721\",\"type\":\"CDSView\"}},\"id\":\"42554b7e-f4e6-4e9e-8b32-a32ff8fa3583\",\"type\":\"GlyphRenderer\"},{\"attributes\":{},\"id\":\"8f6fe29b-e1cb-4d4d-b189-c63eb387edcc\",\"type\":\"LogScale\"},{\"attributes\":{\"fill_alpha\":{\"value\":0.1},\"fill_color\":{\"value\":\"#1f77b4\"},\"line_alpha\":{\"value\":0.1},\"line_color\":{\"value\":\"#1f77b4\"},\"x\":{\"field\":\"x\"},\"y\":{\"field\":\"y\"}},\"id\":\"adf65873-4d9d-4d8f-81cd-f1145d8eab88\",\"type\":\"Triangle\"},{\"attributes\":{\"axis_label\":\"cooling rate [K/day]\",\"formatter\":{\"id\":\"43ed7616-35bf-4198-a618-f66a40b85513\",\"type\":\"BasicTickFormatter\"},\"plot\":{\"id\":\"ac2212cc-9c66-4ee1-98d8-bf8f17e6fbe6\",\"subtype\":\"Figure\",\"type\":\"Plot\"},\"ticker\":{\"id\":\"b6cfddf6-e251-425d-8de3-b18e3b8c8ac9\",\"type\":\"BasicTicker\"}},\"id\":\"f65266eb-1b8e-4b6d-b7aa-798d96162f63\",\"type\":\"LinearAxis\"},{\"attributes\":{\"callback\":null,\"data\":{\"x\":{\"__ndarray__\":\"xBepwC1lzj6KK27kGrTTPrvjsScVft0+oOZZD8RQ5D6ZlAHbXZvqPpEQowUV4PA+3zaQ6YTz9D5XP4LMDqH5PhsJUcdiDf8+Sqeh8+ezAj882keNWngGP5gZK9S1AAs/JPbkxGZDED9t2vDQXmkTPwAfwvLK0xY/sleuJ9nyGj/00jZ9ezAgP9mW8+vn1SM/T6XxHkLMKD8s91idbpwvPxmDttUEaDQ/Yhi07fjHOD9KS9Skq5c7P8hMUJMf7j0/x1rbg6EeQD+CiG3grgJBP3GuKTsUU0E/TC2NoX5qQT+C3p9lFx5CP16SD+nTBEM/DC475v1AQz+2BCH2q9ZCP7myvLDtdkU/ze8GYQYUTj9RJ8tSLKxUP7Lfr5t0SFo/T5/bCmwVXj/aZyXXU75eP5q4OJauWl0/Mkng41BeWz+qgQw7kQJZP/KiyL1tZFY/wPk129qXUz8Iki8UtLFQP1OznwHTvkw/RU/A6fOOUD+wSdRWp+1YP5ljvwekxmE/cq3uP8/yZj/BFcW1HuFrPzzFLQz4SHA/XiIRLKSCcj++FGUJR510P4YL/z0GmHY/NLvOxIRxeD9wvq1EtCd6P8pKYKpKuHs/DF/k//wgfT9xTyA7EmB+P5zyqL3vdH8/2XJZjtEvgD9LP9AuQJKAP1dl+yHR44A/74ATU+cmgT+vSoXcvF2BPwUnHnDWiYE/K4HgrxqrgT9M/3Jr4r2BPyaY0dtduIE/P9f/wCqMgT83VI49gjGBP0ZZi8ztsIA/PGXhpuAbgD+A3pVSUAB/P6CdUYeVyX0/\",\"dtype\":\"float64\",\"shape\":[75]},\"y\":{\"__ndarray__\":\"GhExyth1ND/Sv8nbtpRIP2vylNV0PVE/aTum7souWD/At0SJ8fVgPw3Iuahxymc/MSNhhJWvcD/bTfBN02d3P2zb5nxnaoA/CD5h5MAGhz8NmeH1TyaQP+zrCsc9p5Y/LbKd76fGnz/bLW5ISEmmPww9YvTcQq8/JV2OstnstT8Er5Y7M8G+P0c+r3jqkcU/5h99k6ZBzj88bCIzFzjVP4enV8oyxN0//yH99nXg5D8qOpLLf0jtP5kqGJXUifQ/c9cS8kHP/D+/DpwzojQEQIEmwoanVwxA4lgXt9HgE0BSSZ2AJuIbQAMJih9jjiNA5q4l5INuK0AwTKYKRj0zQNv5fmq8/DpAaCJseHrtQkB/+zpwzoxKQM3MzMzMeFJAZmZmZmZqWEAAAAAAAFxeQM3MzMzMJmJAmpmZmZkfZUBmZmZmZhhoQDMzMzMzEWtAAAAAAAAKbkBmZmZmZoFwQM3MzMzM/XFAMzMzMzN6c0CamZmZmfZ0QAAAAAAAc3ZAZmZmZmbvd0DNzMzMzGt5QDMzMzMz6HpAmpmZmZlkfEAAAAAAAOF9QGZmZmZmXX9AZmZmZuZsgECamZmZGSuBQM3MzMxM6YFAAAAAAICngkAzMzMzs2WDQGZmZmbmI4RAmpmZmRnihEDNzMzMTKCFQAAAAACAXoZAMzMzM7Mch0BmZmZm5tqHQJqZmZkZmYhAzczMzExXiUAAAAAAgBWKQDMzMzOz04pAZmZmZuaRi0CamZmZGVCMQM3MzMxMDo1AAAAAAIDMjUAzMzMzs4qOQGZmZmbmSI9A\",\"dtype\":\"float64\",\"shape\":[75]}},\"selected\":{\"id\":\"3e77ba5d-7711-48ec-aa55-4a5d87d3b7fd\",\"type\":\"Selection\"},\"selection_policy\":{\"id\":\"23516df2-7a5a-4add-944d-3261fab30ca1\",\"type\":\"UnionRenderers\"}},\"id\":\"c1df49c8-b74b-4731-ba3b-7dab08853926\",\"type\":\"ColumnDataSource\"},{\"attributes\":{},\"id\":\"9c2b5644-df70-438b-9a90-d23a444e7449\",\"type\":\"PanTool\"},{\"attributes\":{\"overlay\":{\"id\":\"97843fe5-ac89-4848-b05c-02af6f655d7b\",\"type\":\"BoxAnnotation\"}},\"id\":\"12843bb0-f35c-488c-9055-367e00fed6a1\",\"type\":\"BoxZoomTool\"},{\"attributes\":{},\"id\":\"474af668-c5c8-4806-88c2-5e5de524d5f2\",\"type\":\"SaveTool\"},{\"attributes\":{},\"id\":\"0336a78c-72e1-474f-8f6a-208a9c2ce241\",\"type\":\"ResetTool\"},{\"attributes\":{\"callback\":null,\"data\":{\"x\":{\"__ndarray__\":\"xxJfMEF84T4boijSD7/kPuTh6LmZ3us+ERR68mbz8T49t4LmwXr2Prbr//Dhnfs+vgHxO9O8AD/TmHCNQRkEPzTAjFpO/wc/eS2coVSRDD+2LL1E6P4QPx6ZsJdjQhQ/TEGzvVE8GD/9pJklcMUcP9tTZP/E2SA/7qdCXLLTIz8f8wpDVr8nP6oYQMndBC0/WkHnPzEcMj9SNNPC8RY3P0FPRnNa6D0/MUFWiV9oQj9ErhMYZCtFP3ik+zX8Kkg/m1z/ERDlSz9JxRhGuBtQP5sKxn9AclI/wBx1KM5HVT8I8AyNvVRZPz9CjwjtZF4/QFReTrDPYT/tHRHyijdkP6HkvQqqdmc/0B18HYMZbD8AkArZPd1vP2pj1lZmrXA//BH4n1IncD84gre02PVsP4gj1r2xgmg/Fj3VuC4pZD+izcjcEPVfPy/tAd713lc/iMe1UmXnTz8iYUEonidAP6y+vkMJQRA/o2xTYkE9BD9IwJaGwqhCP29nR7j1BFU/QnyxDn8BYD8qinTTLxdlP51X8vls0mk/eVZfEGI9bj9kbu+4Ny9xP1elgRtBHHM/rGaRft/ldD9jdtvspIp2P7EUxcNtCHg/UViAs69ceT96KvnyaIV6P1/JS7oKgns/Cc1YMlNTfD8+PPDWnv58P8Fvz+ykiX0/z9i4eiX7fT8T/YcggVl+PzWPFRZCqX4/+t4USm7qfj/KHXOrkhJ/P7nqmaFaBH8/Ime6B4OTfj/411scr6Z9P6bJ7gVLVXw/NV4FsyzRej/8Wo6EM0B5PzK1l7/Ksnc/\",\"dtype\":\"float64\",\"shape\":[75]},\"y\":{\"__ndarray__\":\"GhExyth1ND/Sv8nbtpRIP2vylNV0PVE/aTum7souWD/At0SJ8fVgPw3Iuahxymc/MSNhhJWvcD/bTfBN02d3P2zb5nxnaoA/CD5h5MAGhz8NmeH1TyaQP+zrCsc9p5Y/LbKd76fGnz/bLW5ISEmmPww9YvTcQq8/JV2OstnstT8Er5Y7M8G+P0c+r3jqkcU/5h99k6ZBzj88bCIzFzjVP4enV8oyxN0//yH99nXg5D8qOpLLf0jtP5kqGJXUifQ/c9cS8kHP/D+/DpwzojQEQIEmwoanVwxA4lgXt9HgE0BSSZ2AJuIbQAMJih9jjiNA5q4l5INuK0AwTKYKRj0zQNv5fmq8/DpAaCJseHrtQkB/+zpwzoxKQM3MzMzMeFJAZmZmZmZqWEAAAAAAAFxeQM3MzMzMJmJAmpmZmZkfZUBmZmZmZhhoQDMzMzMzEWtAAAAAAAAKbkBmZmZmZoFwQM3MzMzM/XFAMzMzMzN6c0CamZmZmfZ0QAAAAAAAc3ZAZmZmZmbvd0DNzMzMzGt5QDMzMzMz6HpAmpmZmZlkfEAAAAAAAOF9QGZmZmZmXX9AZmZmZuZsgECamZmZGSuBQM3MzMxM6YFAAAAAAICngkAzMzMzs2WDQGZmZmbmI4RAmpmZmRnihEDNzMzMTKCFQAAAAACAXoZAMzMzM7Mch0BmZmZm5tqHQJqZmZkZmYhAzczMzExXiUAAAAAAgBWKQDMzMzOz04pAZmZmZuaRi0CamZmZGVCMQM3MzMxMDo1AAAAAAIDMjUAzMzMzs4qOQGZmZmbmSI9A\",\"dtype\":\"float64\",\"shape\":[75]}},\"selected\":{\"id\":\"e69f79a9-3ed5-4ffb-9115-5c02d0370367\",\"type\":\"Selection\"},\"selection_policy\":{\"id\":\"5763bea8-d2cd-4add-9807-aaa2311b3d40\",\"type\":\"UnionRenderers\"}},\"id\":\"c8d0f612-d29f-4020-ab35-69c543506852\",\"type\":\"ColumnDataSource\"},{\"attributes\":{},\"id\":\"a149159d-b8f9-4106-af12-6c35a5947034\",\"type\":\"HelpTool\"},{\"attributes\":{\"data_source\":{\"id\":\"31686308-807d-4ed5-88d5-04fc24b57f9d\",\"type\":\"ColumnDataSource\"},\"glyph\":{\"id\":\"e2569752-4638-4d55-8a5b-b409ce1201e6\",\"type\":\"Triangle\"},\"hover_glyph\":null,\"muted_glyph\":null,\"nonselection_glyph\":{\"id\":\"adf65873-4d9d-4d8f-81cd-f1145d8eab88\",\"type\":\"Triangle\"},\"selection_glyph\":null,\"view\":{\"id\":\"b709f9db-b664-43ae-aeaa-e9cfe8c7d63a\",\"type\":\"CDSView\"}},\"id\":\"f8df53b4-df47-4710-ba2b-fb0818a5d863\",\"type\":\"GlyphRenderer\"},{\"attributes\":{\"fill_alpha\":{\"value\":0.7},\"fill_color\":{\"value\":\"#4daf4a\"},\"line_alpha\":{\"value\":0.7},\"line_color\":{\"value\":\"#4daf4a\"},\"x\":{\"field\":\"x\"},\"y\":{\"field\":\"y\"}},\"id\":\"4a4a531d-da1d-45eb-b64d-8b7ff27ba4cd\",\"type\":\"Circle\"},{\"attributes\":{\"line_alpha\":0.1,\"line_color\":\"#1f77b4\",\"line_width\":3,\"x\":{\"field\":\"x\"},\"y\":{\"field\":\"y\"}},\"id\":\"cb9b36d4-3cc6-41d7-827a-410a3bc7932f\",\"type\":\"Line\"},{\"attributes\":{},\"id\":\"41a572af-ccc5-4a8a-8139-cba9fb19d647\",\"type\":\"UnionRenderers\"},{\"attributes\":{\"children\":[{\"id\":\"f3ad41be-062e-48b4-b940-01687f9917bf\",\"type\":\"Row\"}]},\"id\":\"419efd24-37ca-4b59-8ab9-0cd31f058676\",\"type\":\"Column\"},{\"attributes\":{\"callback\":null,\"data\":{\"x\":{\"__ndarray__\":\"JeES5x853z5qpEgRSHPiPoetKXu9keg+4Von4Z6H7z5cTv7t37HzPmaUp0zFJ/g+YExlnyI+/T4CxHz8BIoBP67JRxjC6wQ/dyrFfsjhCD8clyMGOpQNP6YwtlNhnRE/VlW0ZbwOFT+K9Q9nzfwYPxXfrc8PRB0/vT2KpjM4IT8wbYyDz6AkP3yEHyByNCk/dWNI4AVuLz93mcQsFPwzP6/M5iX/vzk/FBl/9MZRPz9VoQUGFJBBP2UvvOloREM/EkRKjsERRT8Rk1rAy7RGP2FYuhY/2kc/SgNl0LD+SD+JHBKTNTRLP1wABZw/FE4/yqVj1tBYUD+tIXJrq4FRP44nfltbMFQ/EBOPrgtkWj8JtFTT99dgP1vaoCNvAWQ/uXUo2yi4ZT+kVXqck2ZlP64Od2tdzmM/3WhreEbYYT8MGheiDFtfPyRKfF81vlo/Eg8Ut4viVT8XigPGxO9QP7BPxFq7Qkk/UwTQw4lISz+oRxMi8vNVPyOFC2Aed2A/wR29XCrIZT/QDAnwAtJqPzGN0YTulW8/1pP+AJkNcj+rroebQS90P1xC8MYqL3Y/Uf0z3YwOeD86x4NbZcd5P6Z9Q0bfW3s/9aRHaI/EfD+UZeNl7wN+Pz/FQae/FX8/Yoh5Zmv8fz+XPjWUGl6AP3zqA8pgrIA/rIRhVmXsgD/9ro9crCCBP6j+HILFSoE/NDiHeJZqgT9nZ+rYtXuBPwQabQ9icoE/YUOlBXc9gT/zSQECitOAP4cO65lfPoA/XcN+4g8lfz+EiAvxpb99P6OMhn3TXHw/\",\"dtype\":\"float64\",\"shape\":[75]},\"y\":{\"__ndarray__\":\"GhExyth1ND/Sv8nbtpRIP2vylNV0PVE/aTum7souWD/At0SJ8fVgPw3Iuahxymc/MSNhhJWvcD/bTfBN02d3P2zb5nxnaoA/CD5h5MAGhz8NmeH1TyaQP+zrCsc9p5Y/LbKd76fGnz/bLW5ISEmmPww9YvTcQq8/JV2OstnstT8Er5Y7M8G+P0c+r3jqkcU/5h99k6ZBzj88bCIzFzjVP4enV8oyxN0//yH99nXg5D8qOpLLf0jtP5kqGJXUifQ/c9cS8kHP/D+/DpwzojQEQIEmwoanVwxA4lgXt9HgE0BSSZ2AJuIbQAMJih9jjiNA5q4l5INuK0AwTKYKRj0zQNv5fmq8/DpAaCJseHrtQkB/+zpwzoxKQM3MzMzMeFJAZmZmZmZqWEAAAAAAAFxeQM3MzMzMJmJAmpmZmZkfZUBmZmZmZhhoQDMzMzMzEWtAAAAAAAAKbkBmZmZmZoFwQM3MzMzM/XFAMzMzMzN6c0CamZmZmfZ0QAAAAAAAc3ZAZmZmZmbvd0DNzMzMzGt5QDMzMzMz6HpAmpmZmZlkfEAAAAAAAOF9QGZmZmZmXX9AZmZmZuZsgECamZmZGSuBQM3MzMxM6YFAAAAAAICngkAzMzMzs2WDQGZmZmbmI4RAmpmZmRnihEDNzMzMTKCFQAAAAACAXoZAMzMzM7Mch0BmZmZm5tqHQJqZmZkZmYhAzczMzExXiUAAAAAAgBWKQDMzMzOz04pAZmZmZuaRi0CamZmZGVCMQM3MzMxMDo1AAAAAAIDMjUAzMzMzs4qOQGZmZmbmSI9A\",\"dtype\":\"float64\",\"shape\":[75]}},\"selected\":{\"id\":\"47cf8218-09e0-4aeb-bb8a-8684167fa23f\",\"type\":\"Selection\"},\"selection_policy\":{\"id\":\"99c55006-7463-4398-89b9-c69755cb3a63\",\"type\":\"UnionRenderers\"}},\"id\":\"0a3201a6-2166-4e44-830e-bc9c9ed59f16\",\"type\":\"ColumnDataSource\"},{\"attributes\":{\"callback\":null,\"end\":0.01,\"start\":1020},\"id\":\"69dd73d9-c96f-44d1-be54-f69b87a8e172\",\"type\":\"Range1d\"},{\"attributes\":{\"fill_alpha\":{\"value\":0.7},\"fill_color\":{\"value\":\"#984ea3\"},\"line_alpha\":{\"value\":0.7},\"line_color\":{\"value\":\"#984ea3\"},\"x\":{\"field\":\"x\"},\"y\":{\"field\":\"y\"}},\"id\":\"98c71cd0-04b6-4948-9714-f20e8aa0b306\",\"type\":\"Square\"},{\"attributes\":{\"source\":{\"id\":\"0a3201a6-2166-4e44-830e-bc9c9ed59f16\",\"type\":\"ColumnDataSource\"}},\"id\":\"60d8a86f-908d-4cd5-9468-249adf43f2f7\",\"type\":\"CDSView\"},{\"attributes\":{\"callback\":null,\"data\":{\"x\":{\"__ndarray__\":\"xBepwC1lzj6KK27kGrTTPrvjsScVft0+oOZZD8RQ5D6ZlAHbXZvqPpEQowUV4PA+3zaQ6YTz9D5XP4LMDqH5PhsJUcdiDf8+Sqeh8+ezAj882keNWngGP5gZK9S1AAs/JPbkxGZDED9t2vDQXmkTPwAfwvLK0xY/sleuJ9nyGj/00jZ9ezAgP9mW8+vn1SM/T6XxHkLMKD8s91idbpwvPxmDttUEaDQ/Yhi07fjHOD9KS9Skq5c7P8hMUJMf7j0/x1rbg6EeQD+CiG3grgJBP3GuKTsUU0E/TC2NoX5qQT+C3p9lFx5CP16SD+nTBEM/DC475v1AQz+2BCH2q9ZCP7myvLDtdkU/ze8GYQYUTj9RJ8tSLKxUP7Lfr5t0SFo/T5/bCmwVXj/aZyXXU75eP5q4OJauWl0/Mkng41BeWz+qgQw7kQJZP/KiyL1tZFY/wPk129qXUz8Iki8UtLFQP1OznwHTvkw/RU/A6fOOUD+wSdRWp+1YP5ljvwekxmE/cq3uP8/yZj/BFcW1HuFrPzzFLQz4SHA/XiIRLKSCcj++FGUJR510P4YL/z0GmHY/NLvOxIRxeD9wvq1EtCd6P8pKYKpKuHs/DF/k//wgfT9xTyA7EmB+P5zyqL3vdH8/2XJZjtEvgD9LP9AuQJKAP1dl+yHR44A/74ATU+cmgT+vSoXcvF2BPwUnHnDWiYE/K4HgrxqrgT9M/3Jr4r2BPyaY0dtduIE/P9f/wCqMgT83VI49gjGBP0ZZi8ztsIA/PGXhpuAbgD+A3pVSUAB/P6CdUYeVyX0/\",\"dtype\":\"float64\",\"shape\":[75]},\"y\":{\"__ndarray__\":\"GhExyth1ND/Sv8nbtpRIP2vylNV0PVE/aTum7souWD/At0SJ8fVgPw3Iuahxymc/MSNhhJWvcD/bTfBN02d3P2zb5nxnaoA/CD5h5MAGhz8NmeH1TyaQP+zrCsc9p5Y/LbKd76fGnz/bLW5ISEmmPww9YvTcQq8/JV2OstnstT8Er5Y7M8G+P0c+r3jqkcU/5h99k6ZBzj88bCIzFzjVP4enV8oyxN0//yH99nXg5D8qOpLLf0jtP5kqGJXUifQ/c9cS8kHP/D+/DpwzojQEQIEmwoanVwxA4lgXt9HgE0BSSZ2AJuIbQAMJih9jjiNA5q4l5INuK0AwTKYKRj0zQNv5fmq8/DpAaCJseHrtQkB/+zpwzoxKQM3MzMzMeFJAZmZmZmZqWEAAAAAAAFxeQM3MzMzMJmJAmpmZmZkfZUBmZmZmZhhoQDMzMzMzEWtAAAAAAAAKbkBmZmZmZoFwQM3MzMzM/XFAMzMzMzN6c0CamZmZmfZ0QAAAAAAAc3ZAZmZmZmbvd0DNzMzMzGt5QDMzMzMz6HpAmpmZmZlkfEAAAAAAAOF9QGZmZmZmXX9AZmZmZuZsgECamZmZGSuBQM3MzMxM6YFAAAAAAICngkAzMzMzs2WDQGZmZmbmI4RAmpmZmRnihEDNzMzMTKCFQAAAAACAXoZAMzMzM7Mch0BmZmZm5tqHQJqZmZkZmYhAzczMzExXiUAAAAAAgBWKQDMzMzOz04pAZmZmZuaRi0CamZmZGVCMQM3MzMxMDo1AAAAAAIDMjUAzMzMzs4qOQGZmZmbmSI9A\",\"dtype\":\"float64\",\"shape\":[75]}},\"selected\":{\"id\":\"fe2bc6fe-a32a-4c65-833c-6da0803648ae\",\"type\":\"Selection\"},\"selection_policy\":{\"id\":\"d090c3d3-61ce-4f29-8abb-d7357a094134\",\"type\":\"UnionRenderers\"}},\"id\":\"31686308-807d-4ed5-88d5-04fc24b57f9d\",\"type\":\"ColumnDataSource\"},{\"attributes\":{\"line_alpha\":0.3,\"line_color\":\"#377eb8\",\"line_width\":2,\"x\":{\"field\":\"x\"},\"y\":{\"field\":\"y\"}},\"id\":\"219f8c60-3107-41b8-b00d-b4e15f0573d1\",\"type\":\"Line\"},{\"attributes\":{\"fill_alpha\":{\"value\":0.7},\"fill_color\":{\"value\":\"#377eb8\"},\"line_alpha\":{\"value\":0.7},\"line_color\":{\"value\":\"#377eb8\"},\"x\":{\"field\":\"x\"},\"y\":{\"field\":\"y\"}},\"id\":\"e2569752-4638-4d55-8a5b-b409ce1201e6\",\"type\":\"Triangle\"},{\"attributes\":{\"callback\":null,\"data\":{\"x\":{\"__ndarray__\":\"xxJfMEF84T4boijSD7/kPuTh6LmZ3us+ERR68mbz8T49t4LmwXr2Prbr//Dhnfs+vgHxO9O8AD/TmHCNQRkEPzTAjFpO/wc/eS2coVSRDD+2LL1E6P4QPx6ZsJdjQhQ/TEGzvVE8GD/9pJklcMUcP9tTZP/E2SA/7qdCXLLTIz8f8wpDVr8nP6oYQMndBC0/WkHnPzEcMj9SNNPC8RY3P0FPRnNa6D0/MUFWiV9oQj9ErhMYZCtFP3ik+zX8Kkg/m1z/ERDlSz9JxRhGuBtQP5sKxn9AclI/wBx1KM5HVT8I8AyNvVRZPz9CjwjtZF4/QFReTrDPYT/tHRHyijdkP6HkvQqqdmc/0B18HYMZbD8AkArZPd1vP2pj1lZmrXA//BH4n1IncD84gre02PVsP4gj1r2xgmg/Fj3VuC4pZD+izcjcEPVfPy/tAd713lc/iMe1UmXnTz8iYUEonidAP6y+vkMJQRA/o2xTYkE9BD9IwJaGwqhCP29nR7j1BFU/QnyxDn8BYD8qinTTLxdlP51X8vls0mk/eVZfEGI9bj9kbu+4Ny9xP1elgRtBHHM/rGaRft/ldD9jdtvspIp2P7EUxcNtCHg/UViAs69ceT96KvnyaIV6P1/JS7oKgns/Cc1YMlNTfD8+PPDWnv58P8Fvz+ykiX0/z9i4eiX7fT8T/YcggVl+PzWPFRZCqX4/+t4USm7qfj/KHXOrkhJ/P7nqmaFaBH8/Ime6B4OTfj/411scr6Z9P6bJ7gVLVXw/NV4FsyzRej/8Wo6EM0B5PzK1l7/Ksnc/\",\"dtype\":\"float64\",\"shape\":[75]},\"y\":{\"__ndarray__\":\"GhExyth1ND/Sv8nbtpRIP2vylNV0PVE/aTum7souWD/At0SJ8fVgPw3Iuahxymc/MSNhhJWvcD/bTfBN02d3P2zb5nxnaoA/CD5h5MAGhz8NmeH1TyaQP+zrCsc9p5Y/LbKd76fGnz/bLW5ISEmmPww9YvTcQq8/JV2OstnstT8Er5Y7M8G+P0c+r3jqkcU/5h99k6ZBzj88bCIzFzjVP4enV8oyxN0//yH99nXg5D8qOpLLf0jtP5kqGJXUifQ/c9cS8kHP/D+/DpwzojQEQIEmwoanVwxA4lgXt9HgE0BSSZ2AJuIbQAMJih9jjiNA5q4l5INuK0AwTKYKRj0zQNv5fmq8/DpAaCJseHrtQkB/+zpwzoxKQM3MzMzMeFJAZmZmZmZqWEAAAAAAAFxeQM3MzMzMJmJAmpmZmZkfZUBmZmZmZhhoQDMzMzMzEWtAAAAAAAAKbkBmZmZmZoFwQM3MzMzM/XFAMzMzMzN6c0CamZmZmfZ0QAAAAAAAc3ZAZmZmZmbvd0DNzMzMzGt5QDMzMzMz6HpAmpmZmZlkfEAAAAAAAOF9QGZmZmZmXX9AZmZmZuZsgECamZmZGSuBQM3MzMxM6YFAAAAAAICngkAzMzMzs2WDQGZmZmbmI4RAmpmZmRnihEDNzMzMTKCFQAAAAACAXoZAMzMzM7Mch0BmZmZm5tqHQJqZmZkZmYhAzczMzExXiUAAAAAAgBWKQDMzMzOz04pAZmZmZuaRi0CamZmZGVCMQM3MzMxMDo1AAAAAAIDMjUAzMzMzs4qOQGZmZmbmSI9A\",\"dtype\":\"float64\",\"shape\":[75]}},\"selected\":{\"id\":\"1ca8e5ad-8be8-460d-bddd-279215429a7b\",\"type\":\"Selection\"},\"selection_policy\":{\"id\":\"6caaef89-be28-4e55-8aef-9eb6013a4c8a\",\"type\":\"UnionRenderers\"}},\"id\":\"2cdf64c3-5845-46ba-b1ed-67e19d361a3f\",\"type\":\"ColumnDataSource\"},{\"attributes\":{\"line_alpha\":0.1,\"line_color\":\"#1f77b4\",\"line_width\":2,\"x\":{\"field\":\"x\"},\"y\":{\"field\":\"y\"}},\"id\":\"ca218ba8-c0c3-43a2-95e0-ce6596cb697a\",\"type\":\"Line\"},{\"attributes\":{\"source\":{\"id\":\"31686308-807d-4ed5-88d5-04fc24b57f9d\",\"type\":\"ColumnDataSource\"}},\"id\":\"b709f9db-b664-43ae-aeaa-e9cfe8c7d63a\",\"type\":\"CDSView\"},{\"attributes\":{\"source\":{\"id\":\"c1df49c8-b74b-4731-ba3b-7dab08853926\",\"type\":\"ColumnDataSource\"}},\"id\":\"98cc2588-6cf0-47ab-b1d2-9ff8a7ad1721\",\"type\":\"CDSView\"},{\"attributes\":{\"plot\":null,\"text\":\"\"},\"id\":\"879a7a5c-6400-4c4b-abda-6fc5acd04b5b\",\"type\":\"Title\"},{\"attributes\":{},\"id\":\"38afc25a-043b-4a6d-aba7-fd2992215add\",\"type\":\"Selection\"},{\"attributes\":{\"children\":[{\"id\":\"dbbe9d92-1b09-42c8-bd41-4e52ccf5cb5c\",\"subtype\":\"Figure\",\"type\":\"Plot\"},{\"id\":\"ac2212cc-9c66-4ee1-98d8-bf8f17e6fbe6\",\"subtype\":\"Figure\",\"type\":\"Plot\"}]},\"id\":\"f3ad41be-062e-48b4-b940-01687f9917bf\",\"type\":\"Row\"},{\"attributes\":{\"label\":{\"value\":\"CRD\"},\"renderers\":[{\"id\":\"1c1cef62-5f9f-4276-836d-c4ef748762f8\",\"type\":\"GlyphRenderer\"},{\"id\":\"ad1a4e41-d0d8-48c4-b12d-e91fe32c2dfa\",\"type\":\"GlyphRenderer\"}]},\"id\":\"dc12ed0e-eaaa-47a3-9e0c-de05e372e036\",\"type\":\"LegendItem\"},{\"attributes\":{},\"id\":\"2c3aa31b-ff31-4a0d-a40b-8c80e80d3a64\",\"type\":\"UnionRenderers\"},{\"attributes\":{\"label\":{\"value\":\"WGT igg=1\"},\"renderers\":[{\"id\":\"d51b5dd6-dff8-4525-b098-4af1531ad224\",\"type\":\"GlyphRenderer\"},{\"id\":\"e456b804-d8d3-4456-92b3-afc30b1b997d\",\"type\":\"GlyphRenderer\"}]},\"id\":\"70030659-5348-4257-986e-dd76d3b0b244\",\"type\":\"LegendItem\"},{\"attributes\":{\"ticker\":null},\"id\":\"980ab58a-956c-44a7-bb11-451151740015\",\"type\":\"LogTickFormatter\"},{\"attributes\":{},\"id\":\"a7549741-32a9-4321-94f6-1d6fd751c61a\",\"type\":\"UnionRenderers\"},{\"attributes\":{\"label\":{\"value\":\"WGT igg=10\"},\"renderers\":[{\"id\":\"f8df53b4-df47-4710-ba2b-fb0818a5d863\",\"type\":\"GlyphRenderer\"},{\"id\":\"42554b7e-f4e6-4e9e-8b32-a32ff8fa3583\",\"type\":\"GlyphRenderer\"}]},\"id\":\"926a0587-307a-496a-bc3b-5a949f4c68fa\",\"type\":\"LegendItem\"},{\"attributes\":{},\"id\":\"3096ec32-83b8-4101-bf85-9ad336bda3f1\",\"type\":\"UnionRenderers\"},{\"attributes\":{},\"id\":\"7ec17f9b-05e4-42d7-82fd-055bf0b9ecc3\",\"type\":\"BasicTickFormatter\"},{\"attributes\":{},\"id\":\"f4e1bc8f-b6d3-4d88-b908-355b66aae54c\",\"type\":\"BasicTickFormatter\"},{\"attributes\":{},\"id\":\"ea6ff1be-ec31-4f2a-bf60-873a8a12a4c0\",\"type\":\"Selection\"},{\"attributes\":{},\"id\":\"72082bc2-c2d0-470c-b78a-3643d22f61c6\",\"type\":\"UnionRenderers\"},{\"attributes\":{},\"id\":\"c142cad5-82b9-4dbc-a121-d9635c655ca8\",\"type\":\"Selection\"},{\"attributes\":{},\"id\":\"43ed7616-35bf-4198-a618-f66a40b85513\",\"type\":\"BasicTickFormatter\"},{\"attributes\":{},\"id\":\"41775b01-a940-4c8e-8b1f-1347c953bbc8\",\"type\":\"UnionRenderers\"},{\"attributes\":{},\"id\":\"39ab62a4-777b-4173-802e-8ee59f005121\",\"type\":\"Selection\"},{\"attributes\":{},\"id\":\"5763bea8-d2cd-4add-9807-aaa2311b3d40\",\"type\":\"UnionRenderers\"},{\"attributes\":{\"plot\":null,\"text\":\"\"},\"id\":\"95d69d23-f031-4ca8-83a9-4c9d7599fbf4\",\"type\":\"Title\"},{\"attributes\":{},\"id\":\"1ca8e5ad-8be8-460d-bddd-279215429a7b\",\"type\":\"Selection\"},{\"attributes\":{},\"id\":\"6caaef89-be28-4e55-8aef-9eb6013a4c8a\",\"type\":\"UnionRenderers\"},{\"attributes\":{},\"id\":\"99c55006-7463-4398-89b9-c69755cb3a63\",\"type\":\"UnionRenderers\"},{\"attributes\":{},\"id\":\"23516df2-7a5a-4add-944d-3261fab30ca1\",\"type\":\"UnionRenderers\"},{\"attributes\":{},\"id\":\"f0d6f0ff-4577-4aed-9881-f55f5b93ad74\",\"type\":\"Selection\"},{\"attributes\":{},\"id\":\"d090c3d3-61ce-4f29-8abb-d7357a094134\",\"type\":\"UnionRenderers\"},{\"attributes\":{},\"id\":\"e69f79a9-3ed5-4ffb-9115-5c02d0370367\",\"type\":\"Selection\"},{\"attributes\":{},\"id\":\"47cf8218-09e0-4aeb-bb8a-8684167fa23f\",\"type\":\"Selection\"},{\"attributes\":{\"toolbar\":{\"id\":\"5344def8-2287-4d9b-8577-d3f162264ba6\",\"type\":\"ProxyToolbar\"},\"toolbar_location\":\"above\"},\"id\":\"a41f4dbc-15f2-4abc-b43d-8fa0315743ba\",\"type\":\"ToolbarBox\"},{\"attributes\":{},\"id\":\"fe2bc6fe-a32a-4c65-833c-6da0803648ae\",\"type\":\"Selection\"},{\"attributes\":{\"children\":[{\"id\":\"a41f4dbc-15f2-4abc-b43d-8fa0315743ba\",\"type\":\"ToolbarBox\"},{\"id\":\"419efd24-37ca-4b59-8ab9-0cd31f058676\",\"type\":\"Column\"}]},\"id\":\"20b16445-4b33-425e-8f30-33dd4dff9bd0\",\"type\":\"Column\"},{\"attributes\":{},\"id\":\"3e77ba5d-7711-48ec-aa55-4a5d87d3b7fd\",\"type\":\"Selection\"},{\"attributes\":{\"tools\":[{\"id\":\"445d496a-0598-4c0e-bbd8-7c29a491003b\",\"type\":\"PanTool\"},{\"id\":\"353a475d-f9f1-4e2a-abdc-f5c1906d5011\",\"type\":\"WheelZoomTool\"},{\"id\":\"bea28d40-9ebb-4198-ab2c-c69633a55a9f\",\"type\":\"BoxZoomTool\"},{\"id\":\"a4d81373-99b1-4187-aa5f-2c690d618548\",\"type\":\"SaveTool\"},{\"id\":\"1cf5358a-5f6e-42eb-b25b-e433c44cde59\",\"type\":\"ResetTool\"},{\"id\":\"2723346c-62be-4891-a6db-946a8a02439d\",\"type\":\"HelpTool\"},{\"id\":\"9c2b5644-df70-438b-9a90-d23a444e7449\",\"type\":\"PanTool\"},{\"id\":\"127003cf-f577-4f39-b724-067ec1ec7e94\",\"type\":\"WheelZoomTool\"},{\"id\":\"12843bb0-f35c-488c-9055-367e00fed6a1\",\"type\":\"BoxZoomTool\"},{\"id\":\"474af668-c5c8-4806-88c2-5e5de524d5f2\",\"type\":\"SaveTool\"},{\"id\":\"0336a78c-72e1-474f-8f6a-208a9c2ce241\",\"type\":\"ResetTool\"},{\"id\":\"a149159d-b8f9-4106-af12-6c35a5947034\",\"type\":\"HelpTool\"}]},\"id\":\"5344def8-2287-4d9b-8577-d3f162264ba6\",\"type\":\"ProxyToolbar\"},{\"attributes\":{\"overlay\":{\"id\":\"e2c9e396-4759-4773-8092-f6fbbba0f42d\",\"type\":\"BoxAnnotation\"}},\"id\":\"bea28d40-9ebb-4198-ab2c-c69633a55a9f\",\"type\":\"BoxZoomTool\"},{\"attributes\":{\"callback\":null,\"end\":0.00874920063739,\"start\":-4.7640176389999996e-05},\"id\":\"a605e93b-6638-48d0-aef6-b8945d90dbcd\",\"type\":\"Range1d\"},{\"attributes\":{},\"id\":\"353a475d-f9f1-4e2a-abdc-f5c1906d5011\",\"type\":\"WheelZoomTool\"},{\"attributes\":{},\"id\":\"1cf5358a-5f6e-42eb-b25b-e433c44cde59\",\"type\":\"ResetTool\"},{\"attributes\":{\"above\":[{\"id\":\"9f6a77e9-920c-4e4c-84da-4712b84ef69f\",\"type\":\"Legend\"}],\"below\":[{\"id\":\"78bea002-adfc-4f14-8932-4210e73dbb8f\",\"type\":\"LinearAxis\"}],\"left\":[{\"id\":\"3932b2c2-a000-497d-855a-7dd858e742fb\",\"type\":\"LinearAxis\"}],\"plot_height\":500,\"plot_width\":400,\"renderers\":[{\"id\":\"78bea002-adfc-4f14-8932-4210e73dbb8f\",\"type\":\"LinearAxis\"},{\"id\":\"17581c4b-55ea-45d5-8a89-997e57454d01\",\"type\":\"Grid\"},{\"id\":\"3932b2c2-a000-497d-855a-7dd858e742fb\",\"type\":\"LinearAxis\"},{\"id\":\"072b1c64-b262-4905-aff7-d51e66a47c9d\",\"type\":\"Grid\"},{\"id\":\"e2c9e396-4759-4773-8092-f6fbbba0f42d\",\"type\":\"BoxAnnotation\"},{\"id\":\"cb26917e-7f96-4748-8cbb-e5c17f291d12\",\"type\":\"GlyphRenderer\"},{\"id\":\"18f3d688-0a52-4ee1-a558-1a54ef28bc10\",\"type\":\"GlyphRenderer\"},{\"id\":\"71346003-59b9-4be8-a3b1-205ca2663811\",\"type\":\"GlyphRenderer\"},{\"id\":\"39fc6467-1076-453c-b37c-d53ac88f85c7\",\"type\":\"GlyphRenderer\"},{\"id\":\"85afd143-ce85-430c-bf4e-6d5cabc0f280\",\"type\":\"GlyphRenderer\"},{\"id\":\"cc638d98-47dd-4a64-b0ab-d39303012cd9\",\"type\":\"GlyphRenderer\"},{\"id\":\"9f6a77e9-920c-4e4c-84da-4712b84ef69f\",\"type\":\"Legend\"}],\"title\":{\"id\":\"879a7a5c-6400-4c4b-abda-6fc5acd04b5b\",\"type\":\"Title\"},\"toolbar\":{\"id\":\"68b32895-be5a-41b8-9e03-0df2b24dcfe8\",\"type\":\"Toolbar\"},\"toolbar_location\":null,\"x_range\":{\"id\":\"a605e93b-6638-48d0-aef6-b8945d90dbcd\",\"type\":\"Range1d\"},\"x_scale\":{\"id\":\"587f711a-3bc8-4f33-bda7-1c9ae480d7c2\",\"type\":\"LinearScale\"},\"y_range\":{\"id\":\"d9951ba8-ea1a-4874-aa51-faff17654521\",\"type\":\"Range1d\"},\"y_scale\":{\"id\":\"0f24cc1c-9da6-4ef9-a4eb-89256124a833\",\"type\":\"LinearScale\"}},\"id\":\"dbbe9d92-1b09-42c8-bd41-4e52ccf5cb5c\",\"subtype\":\"Figure\",\"type\":\"Plot\"},{\"attributes\":{},\"id\":\"a4d81373-99b1-4187-aa5f-2c690d618548\",\"type\":\"SaveTool\"},{\"attributes\":{},\"id\":\"445d496a-0598-4c0e-bbd8-7c29a491003b\",\"type\":\"PanTool\"},{\"attributes\":{\"items\":[{\"id\":\"94fc4ad6-4fe5-4512-a7b9-868a905d1a4e\",\"type\":\"LegendItem\"},{\"id\":\"a6a7d173-2d7e-4a0c-ae93-a7d626db336d\",\"type\":\"LegendItem\"},{\"id\":\"ffce58c4-165c-4ce2-af6d-4e1bedadff56\",\"type\":\"LegendItem\"}],\"label_text_font_size\":{\"value\":\"8pt\"},\"location\":\"top_center\",\"orientation\":\"horizontal\",\"plot\":{\"id\":\"dbbe9d92-1b09-42c8-bd41-4e52ccf5cb5c\",\"subtype\":\"Figure\",\"type\":\"Plot\"}},\"id\":\"9f6a77e9-920c-4e4c-84da-4712b84ef69f\",\"type\":\"Legend\"},{\"attributes\":{\"active_drag\":\"auto\",\"active_inspect\":\"auto\",\"active_scroll\":\"auto\",\"active_tap\":\"auto\",\"tools\":[{\"id\":\"445d496a-0598-4c0e-bbd8-7c29a491003b\",\"type\":\"PanTool\"},{\"id\":\"353a475d-f9f1-4e2a-abdc-f5c1906d5011\",\"type\":\"WheelZoomTool\"},{\"id\":\"bea28d40-9ebb-4198-ab2c-c69633a55a9f\",\"type\":\"BoxZoomTool\"},{\"id\":\"a4d81373-99b1-4187-aa5f-2c690d618548\",\"type\":\"SaveTool\"},{\"id\":\"1cf5358a-5f6e-42eb-b25b-e433c44cde59\",\"type\":\"ResetTool\"},{\"id\":\"2723346c-62be-4891-a6db-946a8a02439d\",\"type\":\"HelpTool\"}]},\"id\":\"68b32895-be5a-41b8-9e03-0df2b24dcfe8\",\"type\":\"Toolbar\"},{\"attributes\":{},\"id\":\"587f711a-3bc8-4f33-bda7-1c9ae480d7c2\",\"type\":\"LinearScale\"},{\"attributes\":{},\"id\":\"635c7e6d-79ad-439f-ba1e-8266f08ce8e0\",\"type\":\"BasicTicker\"},{\"attributes\":{},\"id\":\"4ce2fb6d-fc4a-4058-a4d4-ca0eddc65f97\",\"type\":\"BasicTicker\"},{\"attributes\":{\"dimension\":1,\"plot\":{\"id\":\"dbbe9d92-1b09-42c8-bd41-4e52ccf5cb5c\",\"subtype\":\"Figure\",\"type\":\"Plot\"},\"ticker\":{\"id\":\"4ce2fb6d-fc4a-4058-a4d4-ca0eddc65f97\",\"type\":\"BasicTicker\"}},\"id\":\"072b1c64-b262-4905-aff7-d51e66a47c9d\",\"type\":\"Grid\"},{\"attributes\":{\"axis_label\":\"pressure [mb]\",\"formatter\":{\"id\":\"f4e1bc8f-b6d3-4d88-b908-355b66aae54c\",\"type\":\"BasicTickFormatter\"},\"plot\":{\"id\":\"dbbe9d92-1b09-42c8-bd41-4e52ccf5cb5c\",\"subtype\":\"Figure\",\"type\":\"Plot\"},\"ticker\":{\"id\":\"4ce2fb6d-fc4a-4058-a4d4-ca0eddc65f97\",\"type\":\"BasicTicker\"}},\"id\":\"3932b2c2-a000-497d-855a-7dd858e742fb\",\"type\":\"LinearAxis\"},{\"attributes\":{\"callback\":null,\"data\":{\"x\":{\"__ndarray__\":\"xxJfMEF84T4boijSD7/kPuTh6LmZ3us+ERR68mbz8T49t4LmwXr2Prbr//Dhnfs+vgHxO9O8AD/TmHCNQRkEPzTAjFpO/wc/eS2coVSRDD+2LL1E6P4QPx6ZsJdjQhQ/TEGzvVE8GD/9pJklcMUcP9tTZP/E2SA/7qdCXLLTIz8f8wpDVr8nP6oYQMndBC0/WkHnPzEcMj9SNNPC8RY3P0FPRnNa6D0/MUFWiV9oQj9ErhMYZCtFP3ik+zX8Kkg/m1z/ERDlSz9JxRhGuBtQP5sKxn9AclI/wBx1KM5HVT8I8AyNvVRZPz9CjwjtZF4/QFReTrDPYT/tHRHyijdkP6HkvQqqdmc/0B18HYMZbD8AkArZPd1vP2pj1lZmrXA//BH4n1IncD84gre02PVsP4gj1r2xgmg/Fj3VuC4pZD+izcjcEPVfPy/tAd713lc/iMe1UmXnTz8iYUEonidAP6y+vkMJQRA/o2xTYkE9BD9IwJaGwqhCP29nR7j1BFU/QnyxDn8BYD8qinTTLxdlP51X8vls0mk/eVZfEGI9bj9kbu+4Ny9xP1elgRtBHHM/rGaRft/ldD9jdtvspIp2P7EUxcNtCHg/UViAs69ceT96KvnyaIV6P1/JS7oKgns/Cc1YMlNTfD8+PPDWnv58P8Fvz+ykiX0/z9i4eiX7fT8T/YcggVl+PzWPFRZCqX4/+t4USm7qfj/KHXOrkhJ/P7nqmaFaBH8/Ime6B4OTfj/411scr6Z9P6bJ7gVLVXw/NV4FsyzRej/8Wo6EM0B5PzK1l7/Ksnc/\",\"dtype\":\"float64\",\"shape\":[75]},\"y\":{\"__ndarray__\":\"GhExyth1ND/Sv8nbtpRIP2vylNV0PVE/aTum7souWD/At0SJ8fVgPw3Iuahxymc/MSNhhJWvcD/bTfBN02d3P2zb5nxnaoA/CD5h5MAGhz8NmeH1TyaQP+zrCsc9p5Y/LbKd76fGnz/bLW5ISEmmPww9YvTcQq8/JV2OstnstT8Er5Y7M8G+P0c+r3jqkcU/5h99k6ZBzj88bCIzFzjVP4enV8oyxN0//yH99nXg5D8qOpLLf0jtP5kqGJXUifQ/c9cS8kHP/D+/DpwzojQEQIEmwoanVwxA4lgXt9HgE0BSSZ2AJuIbQAMJih9jjiNA5q4l5INuK0AwTKYKRj0zQNv5fmq8/DpAaCJseHrtQkB/+zpwzoxKQM3MzMzMeFJAZmZmZmZqWEAAAAAAAFxeQM3MzMzMJmJAmpmZmZkfZUBmZmZmZhhoQDMzMzMzEWtAAAAAAAAKbkBmZmZmZoFwQM3MzMzM/XFAMzMzMzN6c0CamZmZmfZ0QAAAAAAAc3ZAZmZmZmbvd0DNzMzMzGt5QDMzMzMz6HpAmpmZmZlkfEAAAAAAAOF9QGZmZmZmXX9AZmZmZuZsgECamZmZGSuBQM3MzMxM6YFAAAAAAICngkAzMzMzs2WDQGZmZmbmI4RAmpmZmRnihEDNzMzMTKCFQAAAAACAXoZAMzMzM7Mch0BmZmZm5tqHQJqZmZkZmYhAzczMzExXiUAAAAAAgBWKQDMzMzOz04pAZmZmZuaRi0CamZmZGVCMQM3MzMxMDo1AAAAAAIDMjUAzMzMzs4qOQGZmZmbmSI9A\",\"dtype\":\"float64\",\"shape\":[75]}},\"selected\":{\"id\":\"ea6ff1be-ec31-4f2a-bf60-873a8a12a4c0\",\"type\":\"Selection\"},\"selection_policy\":{\"id\":\"3096ec32-83b8-4101-bf85-9ad336bda3f1\",\"type\":\"UnionRenderers\"}},\"id\":\"683fb0f8-2557-4197-ac8c-0f79611b7b87\",\"type\":\"ColumnDataSource\"},{\"attributes\":{\"axis_label\":\"cooling rate [K/day]\",\"formatter\":{\"id\":\"7ec17f9b-05e4-42d7-82fd-055bf0b9ecc3\",\"type\":\"BasicTickFormatter\"},\"plot\":{\"id\":\"dbbe9d92-1b09-42c8-bd41-4e52ccf5cb5c\",\"subtype\":\"Figure\",\"type\":\"Plot\"},\"ticker\":{\"id\":\"635c7e6d-79ad-439f-ba1e-8266f08ce8e0\",\"type\":\"BasicTicker\"}},\"id\":\"78bea002-adfc-4f14-8932-4210e73dbb8f\",\"type\":\"LinearAxis\"},{\"attributes\":{\"plot\":{\"id\":\"dbbe9d92-1b09-42c8-bd41-4e52ccf5cb5c\",\"subtype\":\"Figure\",\"type\":\"Plot\"},\"ticker\":{\"id\":\"635c7e6d-79ad-439f-ba1e-8266f08ce8e0\",\"type\":\"BasicTicker\"}},\"id\":\"17581c4b-55ea-45d5-8a89-997e57454d01\",\"type\":\"Grid\"},{\"attributes\":{},\"id\":\"b6cfddf6-e251-425d-8de3-b18e3b8c8ac9\",\"type\":\"BasicTicker\"},{\"attributes\":{\"callback\":null,\"end\":0.01,\"start\":1020},\"id\":\"d9951ba8-ea1a-4874-aa51-faff17654521\",\"type\":\"Range1d\"},{\"attributes\":{},\"id\":\"0f24cc1c-9da6-4ef9-a4eb-89256124a833\",\"type\":\"LinearScale\"}],\"root_ids\":[\"20b16445-4b33-425e-8f30-33dd4dff9bd0\"]},\"title\":\"Bokeh Application\",\"version\":\"0.12.16\"}};\n",
       "  var render_items = [{\"docid\":\"c3175079-3e59-4e3b-adc6-7b88c3a45d0f\",\"elementid\":\"f6a69c0d-e83f-4fb8-89b2-e2a89ad62910\",\"modelid\":\"20b16445-4b33-425e-8f30-33dd4dff9bd0\"}];\n",
       "  root.Bokeh.embed.embed_items_notebook(docs_json, render_items);\n",
       "\n",
       "  }\n",
       "  if (root.Bokeh !== undefined) {\n",
       "    embed_document(root);\n",
       "  } else {\n",
       "    var attempts = 0;\n",
       "    var timer = setInterval(function(root) {\n",
       "      if (root.Bokeh !== undefined) {\n",
       "        embed_document(root);\n",
       "        clearInterval(timer);\n",
       "      }\n",
       "      attempts++;\n",
       "      if (attempts > 100) {\n",
       "        console.log(\"Bokeh: ERROR: Unable to run BokehJS code because BokehJS library is missing\")\n",
       "        clearInterval(timer);\n",
       "      }\n",
       "    }, 10, root)\n",
       "  }\n",
       "})(window);"
      ],
      "application/vnd.bokehjs_exec.v0+json": ""
     },
     "metadata": {
      "application/vnd.bokehjs_exec.v0+json": {
       "id": "20b16445-4b33-425e-8f30-33dd4dff9bd0"
      }
     },
     "output_type": "display_data"
    },
    {
     "data": {
      "text/markdown": [
       "*FIGURE.* Cooling rates. g=2"
      ],
      "text/plain": [
       "<IPython.core.display.Markdown object>"
      ]
     },
     "metadata": {},
     "output_type": "display_data"
    },
    {
     "data": {
      "text/html": [
       "\n",
       "<div class=\"bk-root\">\n",
       "    <div class=\"bk-plotdiv\" id=\"2ebe72f0-040f-4a37-a6a9-96d1ff9d6f85\"></div>\n",
       "</div>"
      ]
     },
     "metadata": {},
     "output_type": "display_data"
    },
    {
     "data": {
      "application/javascript": [
       "(function(root) {\n",
       "  function embed_document(root) {\n",
       "    \n",
       "  var docs_json = {\"fd6004c9-0c70-4bd8-a258-18aeb09a082a\":{\"roots\":{\"references\":[{\"attributes\":{\"dimension\":1,\"plot\":{\"id\":\"5a74db8d-e389-41d2-a362-155a1c3cb393\",\"subtype\":\"Figure\",\"type\":\"Plot\"},\"ticker\":{\"id\":\"26dac4b0-61bb-4794-b76a-bb5a16cb7401\",\"type\":\"BasicTicker\"}},\"id\":\"f237ed5d-db31-4057-9dca-60b31d7fa694\",\"type\":\"Grid\"},{\"attributes\":{},\"id\":\"401af00d-aaf5-4ae4-a499-4ae72be81724\",\"type\":\"BasicTicker\"},{\"attributes\":{},\"id\":\"30fcb3a6-0239-4d12-b841-c36aaf9f7c70\",\"type\":\"PanTool\"},{\"attributes\":{\"axis_label\":\"pressure [mb]\",\"formatter\":{\"id\":\"45e95835-0bb8-409b-acd9-ae2613fea50d\",\"type\":\"BasicTickFormatter\"},\"plot\":{\"id\":\"5a74db8d-e389-41d2-a362-155a1c3cb393\",\"subtype\":\"Figure\",\"type\":\"Plot\"},\"ticker\":{\"id\":\"26dac4b0-61bb-4794-b76a-bb5a16cb7401\",\"type\":\"BasicTicker\"}},\"id\":\"6c9c7458-ad50-472b-91b1-98c71e8735f7\",\"type\":\"LinearAxis\"},{\"attributes\":{\"overlay\":{\"id\":\"6b862bba-6b02-47e7-aa0d-a1886a4078fc\",\"type\":\"BoxAnnotation\"}},\"id\":\"f3bdb3ac-5d58-419e-ad96-17b0c8f4fd77\",\"type\":\"BoxZoomTool\"},{\"attributes\":{\"plot\":{\"id\":\"5a74db8d-e389-41d2-a362-155a1c3cb393\",\"subtype\":\"Figure\",\"type\":\"Plot\"},\"ticker\":{\"id\":\"401af00d-aaf5-4ae4-a499-4ae72be81724\",\"type\":\"BasicTicker\"}},\"id\":\"9e196b86-7b3a-4500-987d-263cfdcb0197\",\"type\":\"Grid\"},{\"attributes\":{},\"id\":\"4de06a9b-229b-480f-8a7f-0a71c5dd6503\",\"type\":\"WheelZoomTool\"},{\"attributes\":{\"axis_label\":\"pressure [mb]\",\"formatter\":{\"id\":\"e06905a8-7472-4be1-988f-b90f5b6860ca\",\"type\":\"LogTickFormatter\"},\"plot\":{\"id\":\"a7a83748-2b39-4f4b-b909-ab8c740f2656\",\"subtype\":\"Figure\",\"type\":\"Plot\"},\"ticker\":{\"id\":\"2aa23c0c-3eb9-4e64-93f6-7b96ef3a1f29\",\"type\":\"LogTicker\"}},\"id\":\"67b83427-a203-4d68-b1fa-2c9156883edc\",\"type\":\"LogAxis\"},{\"attributes\":{\"plot\":{\"id\":\"a7a83748-2b39-4f4b-b909-ab8c740f2656\",\"subtype\":\"Figure\",\"type\":\"Plot\"},\"ticker\":{\"id\":\"5b07e1d5-e50c-4af8-9bf4-b7e11d9fc0dd\",\"type\":\"BasicTicker\"}},\"id\":\"96bbc61b-c156-4f61-a222-a0bda1f8d2d8\",\"type\":\"Grid\"},{\"attributes\":{},\"id\":\"de743f3f-035e-4eda-ab95-47e2b739b322\",\"type\":\"ResetTool\"},{\"attributes\":{\"axis_label\":\"cooling rate [K/day]\",\"formatter\":{\"id\":\"1e7017e7-4e9a-4fe0-8ddc-c1202920e420\",\"type\":\"BasicTickFormatter\"},\"plot\":{\"id\":\"5a74db8d-e389-41d2-a362-155a1c3cb393\",\"subtype\":\"Figure\",\"type\":\"Plot\"},\"ticker\":{\"id\":\"401af00d-aaf5-4ae4-a499-4ae72be81724\",\"type\":\"BasicTicker\"}},\"id\":\"a44fca46-82b1-4cd3-8399-b936a96e2102\",\"type\":\"LinearAxis\"},{\"attributes\":{\"callback\":null,\"end\":0.012328828047749998,\"start\":-2.531482275e-05},\"id\":\"58df2306-e484-44b5-ab8a-a332a66124f0\",\"type\":\"Range1d\"},{\"attributes\":{},\"id\":\"e1b62d58-ea7b-4733-bc38-ff69cc220d78\",\"type\":\"SaveTool\"},{\"attributes\":{\"active_drag\":\"auto\",\"active_inspect\":\"auto\",\"active_scroll\":\"auto\",\"active_tap\":\"auto\",\"tools\":[{\"id\":\"30fcb3a6-0239-4d12-b841-c36aaf9f7c70\",\"type\":\"PanTool\"},{\"id\":\"4de06a9b-229b-480f-8a7f-0a71c5dd6503\",\"type\":\"WheelZoomTool\"},{\"id\":\"f3bdb3ac-5d58-419e-ad96-17b0c8f4fd77\",\"type\":\"BoxZoomTool\"},{\"id\":\"e1b62d58-ea7b-4733-bc38-ff69cc220d78\",\"type\":\"SaveTool\"},{\"id\":\"de743f3f-035e-4eda-ab95-47e2b739b322\",\"type\":\"ResetTool\"},{\"id\":\"11648445-ae75-4142-a96f-a9f477ed7108\",\"type\":\"HelpTool\"}]},\"id\":\"40a03b69-7a72-48fb-9eac-18b2db4b6700\",\"type\":\"Toolbar\"},{\"attributes\":{},\"id\":\"3218d077-010a-46bc-b43c-2af8cfcb6488\",\"type\":\"LinearScale\"},{\"attributes\":{\"above\":[{\"id\":\"c8bcd20e-3b8d-44a3-878d-f6d9b6483371\",\"type\":\"Legend\"}],\"below\":[{\"id\":\"a44fca46-82b1-4cd3-8399-b936a96e2102\",\"type\":\"LinearAxis\"}],\"left\":[{\"id\":\"6c9c7458-ad50-472b-91b1-98c71e8735f7\",\"type\":\"LinearAxis\"}],\"plot_height\":500,\"plot_width\":400,\"renderers\":[{\"id\":\"a44fca46-82b1-4cd3-8399-b936a96e2102\",\"type\":\"LinearAxis\"},{\"id\":\"9e196b86-7b3a-4500-987d-263cfdcb0197\",\"type\":\"Grid\"},{\"id\":\"6c9c7458-ad50-472b-91b1-98c71e8735f7\",\"type\":\"LinearAxis\"},{\"id\":\"f237ed5d-db31-4057-9dca-60b31d7fa694\",\"type\":\"Grid\"},{\"id\":\"6b862bba-6b02-47e7-aa0d-a1886a4078fc\",\"type\":\"BoxAnnotation\"},{\"id\":\"9e941a27-77df-46ec-82f5-b7bfefa34bc3\",\"type\":\"GlyphRenderer\"},{\"id\":\"a07312ff-ada6-4054-8b73-058384d148f6\",\"type\":\"GlyphRenderer\"},{\"id\":\"16dbdef7-9cc3-49a5-a010-23eba3248c89\",\"type\":\"GlyphRenderer\"},{\"id\":\"ed2b950e-164b-40df-9b57-f83949ac1989\",\"type\":\"GlyphRenderer\"},{\"id\":\"2ff1c32c-94ad-40de-a1f1-04f3dea0321c\",\"type\":\"GlyphRenderer\"},{\"id\":\"a6ea269a-3389-405e-bbe6-bdf33c82493b\",\"type\":\"GlyphRenderer\"},{\"id\":\"c8bcd20e-3b8d-44a3-878d-f6d9b6483371\",\"type\":\"Legend\"}],\"title\":{\"id\":\"f0290682-1ca5-4e9a-a139-95bc4f52007a\",\"type\":\"Title\"},\"toolbar\":{\"id\":\"40a03b69-7a72-48fb-9eac-18b2db4b6700\",\"type\":\"Toolbar\"},\"toolbar_location\":null,\"x_range\":{\"id\":\"58df2306-e484-44b5-ab8a-a332a66124f0\",\"type\":\"Range1d\"},\"x_scale\":{\"id\":\"20b2eb00-4066-4700-b15d-cdc883a5c776\",\"type\":\"LinearScale\"},\"y_range\":{\"id\":\"217799eb-cba5-4de2-b4cc-8c88826f77a8\",\"type\":\"Range1d\"},\"y_scale\":{\"id\":\"3218d077-010a-46bc-b43c-2af8cfcb6488\",\"type\":\"LinearScale\"}},\"id\":\"5a74db8d-e389-41d2-a362-155a1c3cb393\",\"subtype\":\"Figure\",\"type\":\"Plot\"},{\"attributes\":{},\"id\":\"20b2eb00-4066-4700-b15d-cdc883a5c776\",\"type\":\"LinearScale\"},{\"attributes\":{},\"id\":\"26dac4b0-61bb-4794-b76a-bb5a16cb7401\",\"type\":\"BasicTicker\"},{\"attributes\":{\"items\":[{\"id\":\"df036466-0d5a-478a-b0bb-9b5012550aa3\",\"type\":\"LegendItem\"},{\"id\":\"ea2b8d57-8b79-4705-9d1a-b9a927f7f4fd\",\"type\":\"LegendItem\"},{\"id\":\"179d9e7b-aef3-4d01-b774-d34b36ccad92\",\"type\":\"LegendItem\"}],\"label_text_font_size\":{\"value\":\"8pt\"},\"location\":\"top_center\",\"orientation\":\"horizontal\",\"plot\":{\"id\":\"5a74db8d-e389-41d2-a362-155a1c3cb393\",\"subtype\":\"Figure\",\"type\":\"Plot\"}},\"id\":\"c8bcd20e-3b8d-44a3-878d-f6d9b6483371\",\"type\":\"Legend\"},{\"attributes\":{},\"id\":\"822ad56a-332d-40c1-a570-e2e1efb058b5\",\"type\":\"Selection\"},{\"attributes\":{\"line_alpha\":0.1,\"line_color\":\"#1f77b4\",\"line_width\":1.5,\"x\":{\"field\":\"x\"},\"y\":{\"field\":\"y\"}},\"id\":\"c7ce095d-8841-4457-acc3-635fbbc360ea\",\"type\":\"Line\"},{\"attributes\":{\"callback\":null,\"data\":{\"x\":{\"__ndarray__\":\"XYqLpfWR977/vWpKB1/0PsDOGqrMDh0/MMgzchH0Kz/k/uqkcWM1P453xMh4jT0/M19wRjRCQz+wTgQfsilIPw0eQQluhk0/WSbqJmSwUT+dLI7yp+BUPzCXrSV/WFg/oyXiOC8YXD9QBjl6hKtfPw1/+o1+TWE/MUvJlo+iYj+GexIEQgVkP/si37UkeGU/5mWGslT8Zj+29xfsh5JoP+m76QO6EGo/M5Q0svTwaD/halRQJ5pkPwLM/KtO3F8/sEMA6mnrVz/VOTgwLztRP+Jt1gmITUc/nnhJAmZcPj+MAw52gVE0P360HMVJgyo/9QD7lVnZHD98y/oR9S0CP6MMRUlidu4+6xlycW4HDz8Zsl6uvGIhP34gPG6ryy0/dPJcSUAJNT9jVGYhFAo5P5LUaeHGYzs/OfxztcaIPT/FwtVozsY+P5sUndxQXT8/f6p/cm96QD9k8YZwH0RBP+DS/QPin0I//pRi+1QLSD8lWaP42i5SPz921QtXalo/tGPSf5CVYT9GsPLG8PFlP8ttmPQ5b2o/Tvmf2qotbz8QyBP0n/1xP4Qg4sttR3Q/JU/l9sO2dj/o9OQs+CV5P5E47D3jYns/wfJxOyW4fT9qGTTq3fx/P3QZqBx0AYE/EkQumD4Lgj8bf+KE6QKDP+8r9X1P5IM/cRUh+3TKhD/9BcyNM5eFP1A5jm5wYYY/qv6AiIYlhz/Z2fDxksqHP5d3ua62Z4g/0hu+6qDJiD/d76YUofyIP7kLUPdaAIk/jrIt7DHdiD+14Z5RNLuIPwuvqLFSe4g/\",\"dtype\":\"float64\",\"shape\":[75]},\"y\":{\"__ndarray__\":\"GhExyth1ND/Sv8nbtpRIP2vylNV0PVE/aTum7souWD/At0SJ8fVgPw3Iuahxymc/MSNhhJWvcD/bTfBN02d3P2zb5nxnaoA/CD5h5MAGhz8NmeH1TyaQP+zrCsc9p5Y/LbKd76fGnz/bLW5ISEmmPww9YvTcQq8/JV2OstnstT8Er5Y7M8G+P0c+r3jqkcU/5h99k6ZBzj88bCIzFzjVP4enV8oyxN0//yH99nXg5D8qOpLLf0jtP5kqGJXUifQ/c9cS8kHP/D+/DpwzojQEQIEmwoanVwxA4lgXt9HgE0BSSZ2AJuIbQAMJih9jjiNA5q4l5INuK0AwTKYKRj0zQNv5fmq8/DpAaCJseHrtQkB/+zpwzoxKQM3MzMzMeFJAZmZmZmZqWEAAAAAAAFxeQM3MzMzMJmJAmpmZmZkfZUBmZmZmZhhoQDMzMzMzEWtAAAAAAAAKbkBmZmZmZoFwQM3MzMzM/XFAMzMzMzN6c0CamZmZmfZ0QAAAAAAAc3ZAZmZmZmbvd0DNzMzMzGt5QDMzMzMz6HpAmpmZmZlkfEAAAAAAAOF9QGZmZmZmXX9AZmZmZuZsgECamZmZGSuBQM3MzMxM6YFAAAAAAICngkAzMzMzs2WDQGZmZmbmI4RAmpmZmRnihEDNzMzMTKCFQAAAAACAXoZAMzMzM7Mch0BmZmZm5tqHQJqZmZkZmYhAzczMzExXiUAAAAAAgBWKQDMzMzOz04pAZmZmZuaRi0CamZmZGVCMQM3MzMxMDo1AAAAAAIDMjUAzMzMzs4qOQGZmZmbmSI9A\",\"dtype\":\"float64\",\"shape\":[75]}},\"selected\":{\"id\":\"6190aeba-c519-4627-b955-7f83b7d5ef92\",\"type\":\"Selection\"},\"selection_policy\":{\"id\":\"ba4bd351-e284-4246-a7f1-3c2504398ef8\",\"type\":\"UnionRenderers\"}},\"id\":\"97e6a2ed-84b7-4b9b-ab76-df98d56e58db\",\"type\":\"ColumnDataSource\"},{\"attributes\":{\"data_source\":{\"id\":\"1d7ae05f-8983-4af1-b8fa-182fcbab8810\",\"type\":\"ColumnDataSource\"},\"glyph\":{\"id\":\"a900a355-cbc7-4b74-914a-2a198df78ade\",\"type\":\"Circle\"},\"hover_glyph\":null,\"muted_glyph\":null,\"nonselection_glyph\":{\"id\":\"4c33ceb8-0679-49b3-b10b-ce431f2af8bf\",\"type\":\"Circle\"},\"selection_glyph\":null,\"view\":{\"id\":\"6a6d001d-43c3-4c54-8a62-8f441c4a1fcd\",\"type\":\"CDSView\"}},\"id\":\"7387258b-f67b-4220-9c1a-044878bca007\",\"type\":\"GlyphRenderer\"},{\"attributes\":{\"line_color\":\"#4daf4a\",\"line_width\":1.5,\"x\":{\"field\":\"x\"},\"y\":{\"field\":\"y\"}},\"id\":\"4ecd589a-386b-41db-bb9b-7e4d1a1f86d0\",\"type\":\"Line\"},{\"attributes\":{\"data_source\":{\"id\":\"6f5d40d8-f5da-4d35-ab18-83082c60c6b2\",\"type\":\"ColumnDataSource\"},\"glyph\":{\"id\":\"4ecd589a-386b-41db-bb9b-7e4d1a1f86d0\",\"type\":\"Line\"},\"hover_glyph\":null,\"muted_glyph\":null,\"nonselection_glyph\":{\"id\":\"c7ce095d-8841-4457-acc3-635fbbc360ea\",\"type\":\"Line\"},\"selection_glyph\":null,\"view\":{\"id\":\"4408c4f4-5507-44dc-b412-dc6955a843b7\",\"type\":\"CDSView\"}},\"id\":\"c68b3b8b-1ca0-4ffd-83ce-735f9eec1810\",\"type\":\"GlyphRenderer\"},{\"attributes\":{\"source\":{\"id\":\"1d7ae05f-8983-4af1-b8fa-182fcbab8810\",\"type\":\"ColumnDataSource\"}},\"id\":\"6a6d001d-43c3-4c54-8a62-8f441c4a1fcd\",\"type\":\"CDSView\"},{\"attributes\":{\"fill_alpha\":{\"value\":0.1},\"fill_color\":{\"value\":\"#1f77b4\"},\"line_alpha\":{\"value\":0.1},\"line_color\":{\"value\":\"#1f77b4\"},\"x\":{\"field\":\"x\"},\"y\":{\"field\":\"y\"}},\"id\":\"155ce10c-56fb-4b18-8c17-5be694d14ae8\",\"type\":\"Square\"},{\"attributes\":{\"fill_alpha\":{\"value\":0.1},\"fill_color\":{\"value\":\"#1f77b4\"},\"line_alpha\":{\"value\":0.1},\"line_color\":{\"value\":\"#1f77b4\"},\"x\":{\"field\":\"x\"},\"y\":{\"field\":\"y\"}},\"id\":\"4c33ceb8-0679-49b3-b10b-ce431f2af8bf\",\"type\":\"Circle\"},{\"attributes\":{},\"id\":\"5bfb7c3d-49c9-41c4-a9bd-8bd57f0b5068\",\"type\":\"Selection\"},{\"attributes\":{\"source\":{\"id\":\"97e6a2ed-84b7-4b9b-ab76-df98d56e58db\",\"type\":\"ColumnDataSource\"}},\"id\":\"f3b851e3-d009-4f7b-9019-cea8ecb000f5\",\"type\":\"CDSView\"},{\"attributes\":{\"line_alpha\":0.6,\"line_color\":\"#984ea3\",\"line_width\":3,\"x\":{\"field\":\"x\"},\"y\":{\"field\":\"y\"}},\"id\":\"7d15f469-2213-43b7-9319-92be6ab4ad02\",\"type\":\"Line\"},{\"attributes\":{\"source\":{\"id\":\"6f5d40d8-f5da-4d35-ab18-83082c60c6b2\",\"type\":\"ColumnDataSource\"}},\"id\":\"4408c4f4-5507-44dc-b412-dc6955a843b7\",\"type\":\"CDSView\"},{\"attributes\":{\"data_source\":{\"id\":\"97e6a2ed-84b7-4b9b-ab76-df98d56e58db\",\"type\":\"ColumnDataSource\"},\"glyph\":{\"id\":\"d681fa44-3820-4ff6-a733-baa6d8702935\",\"type\":\"Square\"},\"hover_glyph\":null,\"muted_glyph\":null,\"nonselection_glyph\":{\"id\":\"155ce10c-56fb-4b18-8c17-5be694d14ae8\",\"type\":\"Square\"},\"selection_glyph\":null,\"view\":{\"id\":\"f3b851e3-d009-4f7b-9019-cea8ecb000f5\",\"type\":\"CDSView\"}},\"id\":\"733a29bc-efd3-4c90-8c4b-a8b6d0063b37\",\"type\":\"GlyphRenderer\"},{\"attributes\":{\"data_source\":{\"id\":\"40de340d-3022-4b0a-9540-1a0bcd749343\",\"type\":\"ColumnDataSource\"},\"glyph\":{\"id\":\"7d15f469-2213-43b7-9319-92be6ab4ad02\",\"type\":\"Line\"},\"hover_glyph\":null,\"muted_glyph\":null,\"nonselection_glyph\":{\"id\":\"f819a1ca-0425-4335-b52a-b404b47352bc\",\"type\":\"Line\"},\"selection_glyph\":null,\"view\":{\"id\":\"3a6a4388-01a4-4592-9ed7-75af99021249\",\"type\":\"CDSView\"}},\"id\":\"b51c2f73-fa02-46d7-a475-fdcf6fee9f81\",\"type\":\"GlyphRenderer\"},{\"attributes\":{\"data_source\":{\"id\":\"d6131af8-abf3-449c-98d2-3c3bbe2c849d\",\"type\":\"ColumnDataSource\"},\"glyph\":{\"id\":\"6a647998-572b-42c5-8a3e-47fc01353434\",\"type\":\"Line\"},\"hover_glyph\":null,\"muted_glyph\":null,\"nonselection_glyph\":{\"id\":\"767f260e-79b6-4328-9c37-60a6be4cb315\",\"type\":\"Line\"},\"selection_glyph\":null,\"view\":{\"id\":\"016079c4-0c52-4796-979f-13c8abc0b871\",\"type\":\"CDSView\"}},\"id\":\"5ed2491c-e683-4d03-9559-a2fc32bba442\",\"type\":\"GlyphRenderer\"},{\"attributes\":{\"fill_alpha\":{\"value\":0.1},\"fill_color\":{\"value\":\"#1f77b4\"},\"line_alpha\":{\"value\":0.1},\"line_color\":{\"value\":\"#1f77b4\"},\"x\":{\"field\":\"x\"},\"y\":{\"field\":\"y\"}},\"id\":\"635620ac-3621-4225-a261-6a9e639af3b5\",\"type\":\"Triangle\"},{\"attributes\":{\"callback\":null,\"data\":{\"x\":{\"__ndarray__\":\"erLpzuUbA78M7mYw6le1PlvJZcxn6RU/Qs8XTWwMJz822ZzzEzQyP8LnXfgxkDk/aOPg0+HSQD/0CByQfD9FPzKFR4IxFko/3C7yupdeTz8BUe5GOJBSP1IqpvDusVU/f7fZDLIUWT+sjpLSiU9cP0YgAdRy9l4/Ublf/2KvYD+sHb425u9hP3uZNpERP2M/S1jW1+WdZD81VnI3Bw1mPxruRlh5Zmc/qqGWaEViZj9C57muLXZiP/V65Ai6elw/KJREASJOVT8hLJDaS4dOP08BYvWHdUQ/zThp7XVAOj+CVYzqoTMxP9jznBR8myU/YakU+/g9FT/tcaV5xaDpPl3B+Og8yd6+wAHIlimhAD86oYINUB0ZP7kzroFURCc/HJD1l3EGMT/0DKRo32o0P8XLy5F5UzY/Aee880EXOD+NRl6YPMU5P1JqaD7fXDs/JH1VolLdPD89+ue8JVA+PyhmPMTOZ0A/uZ+YBVTORT8fYe950sZQPxWAqoHSRlg/LioHzvAaYD+ZM2OZEzdkP6s8FBQlcmg/9VESRjbGbD+TGm+uh5ZwP2I2oxTkz3I/cCesbFoLdT8oQo+9g0R3P1kISD6qdnk/nKIOsPCcez/2h1XgxbJ9P6tFSg9YtH8/5xHsTwzPgD9zhy/FbLiBP4zio2WnloI/C83o3ZVqgz/wubcNKDWEPxfP2Eve9oQ/7fMGAt6uhT8AkdT781iGP8+TzX276oY/QI21nqVUhz8RKcFz04yHP//m5peYmYc/kNaKySqLhz/s5PJwGW+HP0Gdv/ehTIc/\",\"dtype\":\"float64\",\"shape\":[75]},\"y\":{\"__ndarray__\":\"GhExyth1ND/Sv8nbtpRIP2vylNV0PVE/aTum7souWD/At0SJ8fVgPw3Iuahxymc/MSNhhJWvcD/bTfBN02d3P2zb5nxnaoA/CD5h5MAGhz8NmeH1TyaQP+zrCsc9p5Y/LbKd76fGnz/bLW5ISEmmPww9YvTcQq8/JV2OstnstT8Er5Y7M8G+P0c+r3jqkcU/5h99k6ZBzj88bCIzFzjVP4enV8oyxN0//yH99nXg5D8qOpLLf0jtP5kqGJXUifQ/c9cS8kHP/D+/DpwzojQEQIEmwoanVwxA4lgXt9HgE0BSSZ2AJuIbQAMJih9jjiNA5q4l5INuK0AwTKYKRj0zQNv5fmq8/DpAaCJseHrtQkB/+zpwzoxKQM3MzMzMeFJAZmZmZmZqWEAAAAAAAFxeQM3MzMzMJmJAmpmZmZkfZUBmZmZmZhhoQDMzMzMzEWtAAAAAAAAKbkBmZmZmZoFwQM3MzMzM/XFAMzMzMzN6c0CamZmZmfZ0QAAAAAAAc3ZAZmZmZmbvd0DNzMzMzGt5QDMzMzMz6HpAmpmZmZlkfEAAAAAAAOF9QGZmZmZmXX9AZmZmZuZsgECamZmZGSuBQM3MzMxM6YFAAAAAAICngkAzMzMzs2WDQGZmZmbmI4RAmpmZmRnihEDNzMzMTKCFQAAAAACAXoZAMzMzM7Mch0BmZmZm5tqHQJqZmZkZmYhAzczMzExXiUAAAAAAgBWKQDMzMzOz04pAZmZmZuaRi0CamZmZGVCMQM3MzMxMDo1AAAAAAIDMjUAzMzMzs4qOQGZmZmbmSI9A\",\"dtype\":\"float64\",\"shape\":[75]}},\"selected\":{\"id\":\"803c4dbf-a4f0-4b6c-abbe-9e6d25317dc0\",\"type\":\"Selection\"},\"selection_policy\":{\"id\":\"e4eb18b9-6c26-4987-8ca9-588ab7dce9cf\",\"type\":\"UnionRenderers\"}},\"id\":\"d6131af8-abf3-449c-98d2-3c3bbe2c849d\",\"type\":\"ColumnDataSource\"},{\"attributes\":{\"callback\":null,\"data\":{\"x\":{\"__ndarray__\":\"iiYrD+lRFz+YEM3HlaIhP8/kr31vqi4/Zm3g162cNj+X8V5GwaE+P8nva2dKuUM/srp1ovmNSD9UZcAPe9RNPwlUDAJ1y1E/eCbHrP3uVD8iNesYUFlYPy+tgJ0/D1w/gyD3HZkIYD8xqHsMcvFhP7jfzjuWgmM/yLxF0G7uZD/5mttAXmhmPwmbjLKP8Wc/dOpnht2LaT9k61hvlDhrP5amyjBcyGw/UnFmc5GNaz/OHDUOTOFmPw6sA5lG12E/RSik6AkTWz+i1W3y0stTPzWBMJFyb0s/cbfO06CJQj+AEMEJjvY5P3/kPGogDzI/NBd8cxyJJj9rhf6EGawWP7IbihyCZQ8/UHAuGk7+Gj8mtjfl0BAnPyQU0UDdszE/PJFD5yXdNz9JkWmv7Y07P7BJWfYXWj0/otc1rbXKPj+cY0ApDfA/P1RIwxwzZEA/P7hBiz2nQD8AEYbWtMRAPw7ddsdqZEE/6tXqoorORj9AU+x1/cxRP4kgXgGLD1o/zxvw/z9jYT+YCll1UORlP2dLFCnmg2o/5pfTsi07bz/wblKB7QFyP3PdoK4Ya3Q/6oXwZAbVdj86NDOSgDp5P/ta3xRSlns/MdmWBiDjfT+bWpJZvw2AP6hHz7vVHYE/Vflf5KUfgj+JUYuV1RODP5SFxkvr+oM/zvFn/uzVhD9fBEEL/6WFP+bC3krKa4Y/kMjrf4gmhz8PBmmJP9GHP8HyHYW2X4g/0iBOJdi/iD/Py8YiBOaIP80Bv5yS2Yg/QptlFKCtiD+ZVMB/63GIPyfQg2L7Log/\",\"dtype\":\"float64\",\"shape\":[75]},\"y\":{\"__ndarray__\":\"GhExyth1ND/Sv8nbtpRIP2vylNV0PVE/aTum7souWD/At0SJ8fVgPw3Iuahxymc/MSNhhJWvcD/bTfBN02d3P2zb5nxnaoA/CD5h5MAGhz8NmeH1TyaQP+zrCsc9p5Y/LbKd76fGnz/bLW5ISEmmPww9YvTcQq8/JV2OstnstT8Er5Y7M8G+P0c+r3jqkcU/5h99k6ZBzj88bCIzFzjVP4enV8oyxN0//yH99nXg5D8qOpLLf0jtP5kqGJXUifQ/c9cS8kHP/D+/DpwzojQEQIEmwoanVwxA4lgXt9HgE0BSSZ2AJuIbQAMJih9jjiNA5q4l5INuK0AwTKYKRj0zQNv5fmq8/DpAaCJseHrtQkB/+zpwzoxKQM3MzMzMeFJAZmZmZmZqWEAAAAAAAFxeQM3MzMzMJmJAmpmZmZkfZUBmZmZmZhhoQDMzMzMzEWtAAAAAAAAKbkBmZmZmZoFwQM3MzMzM/XFAMzMzMzN6c0CamZmZmfZ0QAAAAAAAc3ZAZmZmZmbvd0DNzMzMzGt5QDMzMzMz6HpAmpmZmZlkfEAAAAAAAOF9QGZmZmZmXX9AZmZmZuZsgECamZmZGSuBQM3MzMxM6YFAAAAAAICngkAzMzMzs2WDQGZmZmbmI4RAmpmZmRnihEDNzMzMTKCFQAAAAACAXoZAMzMzM7Mch0BmZmZm5tqHQJqZmZkZmYhAzczMzExXiUAAAAAAgBWKQDMzMzOz04pAZmZmZuaRi0CamZmZGVCMQM3MzMxMDo1AAAAAAIDMjUAzMzMzs4qOQGZmZmbmSI9A\",\"dtype\":\"float64\",\"shape\":[75]}},\"selected\":{\"id\":\"ae1fdf86-797c-4325-bb42-f61f7acc0a2a\",\"type\":\"Selection\"},\"selection_policy\":{\"id\":\"add503be-038b-47eb-a78a-ce8715970416\",\"type\":\"UnionRenderers\"}},\"id\":\"6f5d40d8-f5da-4d35-ab18-83082c60c6b2\",\"type\":\"ColumnDataSource\"},{\"attributes\":{\"data_source\":{\"id\":\"410d6ea8-7f57-4d5a-a472-11fcacaf10cb\",\"type\":\"ColumnDataSource\"},\"glyph\":{\"id\":\"4eefeb48-c17f-40e7-9769-408e959f8266\",\"type\":\"Triangle\"},\"hover_glyph\":null,\"muted_glyph\":null,\"nonselection_glyph\":{\"id\":\"635620ac-3621-4225-a261-6a9e639af3b5\",\"type\":\"Triangle\"},\"selection_glyph\":null,\"view\":{\"id\":\"2a3ebd60-c7e4-475b-bafd-a009aebd8d8d\",\"type\":\"CDSView\"}},\"id\":\"7ac5a69e-2b64-4bb9-a3b1-ae30d1f3a12e\",\"type\":\"GlyphRenderer\"},{\"attributes\":{\"fill_alpha\":{\"value\":0.7},\"fill_color\":{\"value\":\"#4daf4a\"},\"line_alpha\":{\"value\":0.7},\"line_color\":{\"value\":\"#4daf4a\"},\"x\":{\"field\":\"x\"},\"y\":{\"field\":\"y\"}},\"id\":\"a900a355-cbc7-4b74-914a-2a198df78ade\",\"type\":\"Circle\"},{\"attributes\":{\"line_alpha\":0.1,\"line_color\":\"#1f77b4\",\"line_width\":3,\"x\":{\"field\":\"x\"},\"y\":{\"field\":\"y\"}},\"id\":\"f819a1ca-0425-4335-b52a-b404b47352bc\",\"type\":\"Line\"},{\"attributes\":{\"children\":[{\"id\":\"2e300569-8a99-4e78-99c9-002b65facdf2\",\"type\":\"Row\"}]},\"id\":\"db0c7c8e-54ff-4dc6-86e4-5f1816030945\",\"type\":\"Column\"},{\"attributes\":{\"callback\":null,\"data\":{\"x\":{\"__ndarray__\":\"XYqLpfWR977/vWpKB1/0PsDOGqrMDh0/MMgzchH0Kz/k/uqkcWM1P453xMh4jT0/M19wRjRCQz+wTgQfsilIPw0eQQluhk0/WSbqJmSwUT+dLI7yp+BUPzCXrSV/WFg/oyXiOC8YXD9QBjl6hKtfPw1/+o1+TWE/MUvJlo+iYj+GexIEQgVkP/si37UkeGU/5mWGslT8Zj+29xfsh5JoP+m76QO6EGo/M5Q0svTwaD/halRQJ5pkPwLM/KtO3F8/sEMA6mnrVz/VOTgwLztRP+Jt1gmITUc/nnhJAmZcPj+MAw52gVE0P360HMVJgyo/9QD7lVnZHD98y/oR9S0CP6MMRUlidu4+6xlycW4HDz8Zsl6uvGIhP34gPG6ryy0/dPJcSUAJNT9jVGYhFAo5P5LUaeHGYzs/OfxztcaIPT/FwtVozsY+P5sUndxQXT8/f6p/cm96QD9k8YZwH0RBP+DS/QPin0I//pRi+1QLSD8lWaP42i5SPz921QtXalo/tGPSf5CVYT9GsPLG8PFlP8ttmPQ5b2o/Tvmf2qotbz8QyBP0n/1xP4Qg4sttR3Q/JU/l9sO2dj/o9OQs+CV5P5E47D3jYns/wfJxOyW4fT9qGTTq3fx/P3QZqBx0AYE/EkQumD4Lgj8bf+KE6QKDP+8r9X1P5IM/cRUh+3TKhD/9BcyNM5eFP1A5jm5wYYY/qv6AiIYlhz/Z2fDxksqHP5d3ua62Z4g/0hu+6qDJiD/d76YUofyIP7kLUPdaAIk/jrIt7DHdiD+14Z5RNLuIPwuvqLFSe4g/\",\"dtype\":\"float64\",\"shape\":[75]},\"y\":{\"__ndarray__\":\"GhExyth1ND/Sv8nbtpRIP2vylNV0PVE/aTum7souWD/At0SJ8fVgPw3Iuahxymc/MSNhhJWvcD/bTfBN02d3P2zb5nxnaoA/CD5h5MAGhz8NmeH1TyaQP+zrCsc9p5Y/LbKd76fGnz/bLW5ISEmmPww9YvTcQq8/JV2OstnstT8Er5Y7M8G+P0c+r3jqkcU/5h99k6ZBzj88bCIzFzjVP4enV8oyxN0//yH99nXg5D8qOpLLf0jtP5kqGJXUifQ/c9cS8kHP/D+/DpwzojQEQIEmwoanVwxA4lgXt9HgE0BSSZ2AJuIbQAMJih9jjiNA5q4l5INuK0AwTKYKRj0zQNv5fmq8/DpAaCJseHrtQkB/+zpwzoxKQM3MzMzMeFJAZmZmZmZqWEAAAAAAAFxeQM3MzMzMJmJAmpmZmZkfZUBmZmZmZhhoQDMzMzMzEWtAAAAAAAAKbkBmZmZmZoFwQM3MzMzM/XFAMzMzMzN6c0CamZmZmfZ0QAAAAAAAc3ZAZmZmZmbvd0DNzMzMzGt5QDMzMzMz6HpAmpmZmZlkfEAAAAAAAOF9QGZmZmZmXX9AZmZmZuZsgECamZmZGSuBQM3MzMxM6YFAAAAAAICngkAzMzMzs2WDQGZmZmbmI4RAmpmZmRnihEDNzMzMTKCFQAAAAACAXoZAMzMzM7Mch0BmZmZm5tqHQJqZmZkZmYhAzczMzExXiUAAAAAAgBWKQDMzMzOz04pAZmZmZuaRi0CamZmZGVCMQM3MzMxMDo1AAAAAAIDMjUAzMzMzs4qOQGZmZmbmSI9A\",\"dtype\":\"float64\",\"shape\":[75]}},\"selected\":{\"id\":\"3bf680ca-a3de-4646-8fe8-806ac7144a85\",\"type\":\"Selection\"},\"selection_policy\":{\"id\":\"5bda3096-c6ac-46f7-863d-293415788049\",\"type\":\"UnionRenderers\"}},\"id\":\"40de340d-3022-4b0a-9540-1a0bcd749343\",\"type\":\"ColumnDataSource\"},{\"attributes\":{\"fill_alpha\":{\"value\":0.7},\"fill_color\":{\"value\":\"#984ea3\"},\"line_alpha\":{\"value\":0.7},\"line_color\":{\"value\":\"#984ea3\"},\"x\":{\"field\":\"x\"},\"y\":{\"field\":\"y\"}},\"id\":\"d681fa44-3820-4ff6-a733-baa6d8702935\",\"type\":\"Square\"},{\"attributes\":{\"source\":{\"id\":\"40de340d-3022-4b0a-9540-1a0bcd749343\",\"type\":\"ColumnDataSource\"}},\"id\":\"3a6a4388-01a4-4592-9ed7-75af99021249\",\"type\":\"CDSView\"},{\"attributes\":{\"callback\":null,\"data\":{\"x\":{\"__ndarray__\":\"erLpzuUbA78M7mYw6le1PlvJZcxn6RU/Qs8XTWwMJz822ZzzEzQyP8LnXfgxkDk/aOPg0+HSQD/0CByQfD9FPzKFR4IxFko/3C7yupdeTz8BUe5GOJBSP1IqpvDusVU/f7fZDLIUWT+sjpLSiU9cP0YgAdRy9l4/Ublf/2KvYD+sHb425u9hP3uZNpERP2M/S1jW1+WdZD81VnI3Bw1mPxruRlh5Zmc/qqGWaEViZj9C57muLXZiP/V65Ai6elw/KJREASJOVT8hLJDaS4dOP08BYvWHdUQ/zThp7XVAOj+CVYzqoTMxP9jznBR8myU/YakU+/g9FT/tcaV5xaDpPl3B+Og8yd6+wAHIlimhAD86oYINUB0ZP7kzroFURCc/HJD1l3EGMT/0DKRo32o0P8XLy5F5UzY/Aee880EXOD+NRl6YPMU5P1JqaD7fXDs/JH1VolLdPD89+ue8JVA+PyhmPMTOZ0A/uZ+YBVTORT8fYe950sZQPxWAqoHSRlg/LioHzvAaYD+ZM2OZEzdkP6s8FBQlcmg/9VESRjbGbD+TGm+uh5ZwP2I2oxTkz3I/cCesbFoLdT8oQo+9g0R3P1kISD6qdnk/nKIOsPCcez/2h1XgxbJ9P6tFSg9YtH8/5xHsTwzPgD9zhy/FbLiBP4zio2WnloI/C83o3ZVqgz/wubcNKDWEPxfP2Eve9oQ/7fMGAt6uhT8AkdT781iGP8+TzX276oY/QI21nqVUhz8RKcFz04yHP//m5peYmYc/kNaKySqLhz/s5PJwGW+HP0Gdv/ehTIc/\",\"dtype\":\"float64\",\"shape\":[75]},\"y\":{\"__ndarray__\":\"GhExyth1ND/Sv8nbtpRIP2vylNV0PVE/aTum7souWD/At0SJ8fVgPw3Iuahxymc/MSNhhJWvcD/bTfBN02d3P2zb5nxnaoA/CD5h5MAGhz8NmeH1TyaQP+zrCsc9p5Y/LbKd76fGnz/bLW5ISEmmPww9YvTcQq8/JV2OstnstT8Er5Y7M8G+P0c+r3jqkcU/5h99k6ZBzj88bCIzFzjVP4enV8oyxN0//yH99nXg5D8qOpLLf0jtP5kqGJXUifQ/c9cS8kHP/D+/DpwzojQEQIEmwoanVwxA4lgXt9HgE0BSSZ2AJuIbQAMJih9jjiNA5q4l5INuK0AwTKYKRj0zQNv5fmq8/DpAaCJseHrtQkB/+zpwzoxKQM3MzMzMeFJAZmZmZmZqWEAAAAAAAFxeQM3MzMzMJmJAmpmZmZkfZUBmZmZmZhhoQDMzMzMzEWtAAAAAAAAKbkBmZmZmZoFwQM3MzMzM/XFAMzMzMzN6c0CamZmZmfZ0QAAAAAAAc3ZAZmZmZmbvd0DNzMzMzGt5QDMzMzMz6HpAmpmZmZlkfEAAAAAAAOF9QGZmZmZmXX9AZmZmZuZsgECamZmZGSuBQM3MzMxM6YFAAAAAAICngkAzMzMzs2WDQGZmZmbmI4RAmpmZmRnihEDNzMzMTKCFQAAAAACAXoZAMzMzM7Mch0BmZmZm5tqHQJqZmZkZmYhAzczMzExXiUAAAAAAgBWKQDMzMzOz04pAZmZmZuaRi0CamZmZGVCMQM3MzMxMDo1AAAAAAIDMjUAzMzMzs4qOQGZmZmbmSI9A\",\"dtype\":\"float64\",\"shape\":[75]}},\"selected\":{\"id\":\"de5b858d-34fb-4354-a76f-5fc507dd4c38\",\"type\":\"Selection\"},\"selection_policy\":{\"id\":\"0218e7ad-cc81-427b-be4b-a957c3ca09a4\",\"type\":\"UnionRenderers\"}},\"id\":\"410d6ea8-7f57-4d5a-a472-11fcacaf10cb\",\"type\":\"ColumnDataSource\"},{\"attributes\":{\"line_alpha\":0.3,\"line_color\":\"#377eb8\",\"line_width\":2,\"x\":{\"field\":\"x\"},\"y\":{\"field\":\"y\"}},\"id\":\"6a647998-572b-42c5-8a3e-47fc01353434\",\"type\":\"Line\"},{\"attributes\":{\"fill_alpha\":{\"value\":0.7},\"fill_color\":{\"value\":\"#377eb8\"},\"line_alpha\":{\"value\":0.7},\"line_color\":{\"value\":\"#377eb8\"},\"x\":{\"field\":\"x\"},\"y\":{\"field\":\"y\"}},\"id\":\"4eefeb48-c17f-40e7-9769-408e959f8266\",\"type\":\"Triangle\"},{\"attributes\":{\"line_alpha\":0.1,\"line_color\":\"#1f77b4\",\"line_width\":2,\"x\":{\"field\":\"x\"},\"y\":{\"field\":\"y\"}},\"id\":\"767f260e-79b6-4328-9c37-60a6be4cb315\",\"type\":\"Line\"},{\"attributes\":{\"source\":{\"id\":\"410d6ea8-7f57-4d5a-a472-11fcacaf10cb\",\"type\":\"ColumnDataSource\"}},\"id\":\"2a3ebd60-c7e4-475b-bafd-a009aebd8d8d\",\"type\":\"CDSView\"},{\"attributes\":{\"source\":{\"id\":\"d6131af8-abf3-449c-98d2-3c3bbe2c849d\",\"type\":\"ColumnDataSource\"}},\"id\":\"016079c4-0c52-4796-979f-13c8abc0b871\",\"type\":\"CDSView\"},{\"attributes\":{\"plot\":null,\"text\":\"\"},\"id\":\"f0290682-1ca5-4e9a-a139-95bc4f52007a\",\"type\":\"Title\"},{\"attributes\":{\"children\":[{\"id\":\"5a74db8d-e389-41d2-a362-155a1c3cb393\",\"subtype\":\"Figure\",\"type\":\"Plot\"},{\"id\":\"a7a83748-2b39-4f4b-b909-ab8c740f2656\",\"subtype\":\"Figure\",\"type\":\"Plot\"}]},\"id\":\"2e300569-8a99-4e78-99c9-002b65facdf2\",\"type\":\"Row\"},{\"attributes\":{\"label\":{\"value\":\"CRD\"},\"renderers\":[{\"id\":\"7387258b-f67b-4220-9c1a-044878bca007\",\"type\":\"GlyphRenderer\"},{\"id\":\"c68b3b8b-1ca0-4ffd-83ce-735f9eec1810\",\"type\":\"GlyphRenderer\"}]},\"id\":\"5c6ed048-2599-48c1-8a9c-0b299340d525\",\"type\":\"LegendItem\"},{\"attributes\":{\"label\":{\"value\":\"WGT igg=1\"},\"renderers\":[{\"id\":\"733a29bc-efd3-4c90-8c4b-a8b6d0063b37\",\"type\":\"GlyphRenderer\"},{\"id\":\"b51c2f73-fa02-46d7-a475-fdcf6fee9f81\",\"type\":\"GlyphRenderer\"}]},\"id\":\"37615e29-a19d-4190-8a71-1285dc4aad13\",\"type\":\"LegendItem\"},{\"attributes\":{},\"id\":\"fd0e8285-3c8a-4425-9225-da183cb955eb\",\"type\":\"BasicTickFormatter\"},{\"attributes\":{},\"id\":\"49b9a2dc-71b4-4e4b-9447-b733759c8c5b\",\"type\":\"UnionRenderers\"},{\"attributes\":{\"label\":{\"value\":\"WGT igg=10\"},\"renderers\":[{\"id\":\"7ac5a69e-2b64-4bb9-a3b1-ae30d1f3a12e\",\"type\":\"GlyphRenderer\"},{\"id\":\"5ed2491c-e683-4d03-9559-a2fc32bba442\",\"type\":\"GlyphRenderer\"}]},\"id\":\"3dc63af5-12f6-4a57-9b84-0460c9139350\",\"type\":\"LegendItem\"},{\"attributes\":{},\"id\":\"79b78820-242f-456e-91f1-047969870c8e\",\"type\":\"UnionRenderers\"},{\"attributes\":{},\"id\":\"1e7017e7-4e9a-4fe0-8ddc-c1202920e420\",\"type\":\"BasicTickFormatter\"},{\"attributes\":{},\"id\":\"45e95835-0bb8-409b-acd9-ae2613fea50d\",\"type\":\"BasicTickFormatter\"},{\"attributes\":{},\"id\":\"14bc5c68-cb5a-478f-8db9-fea82715e1fe\",\"type\":\"Selection\"},{\"attributes\":{},\"id\":\"3c2b125a-ac23-4e80-80fc-6f0a4af11715\",\"type\":\"Selection\"},{\"attributes\":{},\"id\":\"696d25da-09c0-4c52-ac89-686d8161eb1a\",\"type\":\"Selection\"},{\"attributes\":{\"ticker\":null},\"id\":\"e06905a8-7472-4be1-988f-b90f5b6860ca\",\"type\":\"LogTickFormatter\"},{\"attributes\":{},\"id\":\"ba4bd351-e284-4246-a7f1-3c2504398ef8\",\"type\":\"UnionRenderers\"},{\"attributes\":{},\"id\":\"b62bca50-2d88-4ec5-81a7-cd3bae4311a2\",\"type\":\"UnionRenderers\"},{\"attributes\":{},\"id\":\"add503be-038b-47eb-a78a-ce8715970416\",\"type\":\"UnionRenderers\"},{\"attributes\":{\"plot\":null,\"text\":\"\"},\"id\":\"94a78105-e8ff-4f04-bdd0-e252aee66317\",\"type\":\"Title\"},{\"attributes\":{},\"id\":\"b2487b27-6e93-403d-8302-abc512d4489b\",\"type\":\"Selection\"},{\"attributes\":{},\"id\":\"41fecc84-960f-49ef-b8a6-fe4e78919d6f\",\"type\":\"UnionRenderers\"},{\"attributes\":{},\"id\":\"5bda3096-c6ac-46f7-863d-293415788049\",\"type\":\"UnionRenderers\"},{\"attributes\":{},\"id\":\"e4eb18b9-6c26-4987-8ca9-588ab7dce9cf\",\"type\":\"UnionRenderers\"},{\"attributes\":{\"dimension\":1,\"plot\":{\"id\":\"a7a83748-2b39-4f4b-b909-ab8c740f2656\",\"subtype\":\"Figure\",\"type\":\"Plot\"},\"ticker\":{\"id\":\"2aa23c0c-3eb9-4e64-93f6-7b96ef3a1f29\",\"type\":\"LogTicker\"}},\"id\":\"8a18b89a-6738-48eb-a5ec-9d160770a44b\",\"type\":\"Grid\"},{\"attributes\":{},\"id\":\"6190aeba-c519-4627-b955-7f83b7d5ef92\",\"type\":\"Selection\"},{\"attributes\":{},\"id\":\"0218e7ad-cc81-427b-be4b-a957c3ca09a4\",\"type\":\"UnionRenderers\"},{\"attributes\":{},\"id\":\"ae1fdf86-797c-4325-bb42-f61f7acc0a2a\",\"type\":\"Selection\"},{\"attributes\":{},\"id\":\"3bf680ca-a3de-4646-8fe8-806ac7144a85\",\"type\":\"Selection\"},{\"attributes\":{\"toolbar\":{\"id\":\"f89f1321-2333-4db1-8c47-ecdf8d507d86\",\"type\":\"ProxyToolbar\"},\"toolbar_location\":\"above\"},\"id\":\"a3987c11-bc2e-49c1-b78a-49ab95675d77\",\"type\":\"ToolbarBox\"},{\"attributes\":{},\"id\":\"de5b858d-34fb-4354-a76f-5fc507dd4c38\",\"type\":\"Selection\"},{\"attributes\":{\"children\":[{\"id\":\"a3987c11-bc2e-49c1-b78a-49ab95675d77\",\"type\":\"ToolbarBox\"},{\"id\":\"db0c7c8e-54ff-4dc6-86e4-5f1816030945\",\"type\":\"Column\"}]},\"id\":\"b546314b-3db9-4d57-b494-6f45efcbeab0\",\"type\":\"Column\"},{\"attributes\":{},\"id\":\"803c4dbf-a4f0-4b6c-abbe-9e6d25317dc0\",\"type\":\"Selection\"},{\"attributes\":{\"tools\":[{\"id\":\"30fcb3a6-0239-4d12-b841-c36aaf9f7c70\",\"type\":\"PanTool\"},{\"id\":\"4de06a9b-229b-480f-8a7f-0a71c5dd6503\",\"type\":\"WheelZoomTool\"},{\"id\":\"f3bdb3ac-5d58-419e-ad96-17b0c8f4fd77\",\"type\":\"BoxZoomTool\"},{\"id\":\"e1b62d58-ea7b-4733-bc38-ff69cc220d78\",\"type\":\"SaveTool\"},{\"id\":\"de743f3f-035e-4eda-ab95-47e2b739b322\",\"type\":\"ResetTool\"},{\"id\":\"11648445-ae75-4142-a96f-a9f477ed7108\",\"type\":\"HelpTool\"},{\"id\":\"a9d76717-d2d1-469d-a03e-7792baf0ec4e\",\"type\":\"PanTool\"},{\"id\":\"e185fb54-ee0d-4cc1-8859-350dd08b81fd\",\"type\":\"WheelZoomTool\"},{\"id\":\"eac2d48c-9740-40b3-9528-279f94f9cef9\",\"type\":\"BoxZoomTool\"},{\"id\":\"53b45b15-698c-4b97-af0f-f3f9c78ee11b\",\"type\":\"SaveTool\"},{\"id\":\"ad5ae6c7-2e26-4940-9875-5d14fd21eafd\",\"type\":\"ResetTool\"},{\"id\":\"75ab061c-60cc-41dc-a323-36de4e4ef233\",\"type\":\"HelpTool\"}]},\"id\":\"f89f1321-2333-4db1-8c47-ecdf8d507d86\",\"type\":\"ProxyToolbar\"},{\"attributes\":{\"num_minor_ticks\":10},\"id\":\"2aa23c0c-3eb9-4e64-93f6-7b96ef3a1f29\",\"type\":\"LogTicker\"},{\"attributes\":{\"callback\":null,\"data\":{\"x\":{\"__ndarray__\":\"iiYrD+lRFz+YEM3HlaIhP8/kr31vqi4/Zm3g162cNj+X8V5GwaE+P8nva2dKuUM/srp1ovmNSD9UZcAPe9RNPwlUDAJ1y1E/eCbHrP3uVD8iNesYUFlYPy+tgJ0/D1w/gyD3HZkIYD8xqHsMcvFhP7jfzjuWgmM/yLxF0G7uZD/5mttAXmhmPwmbjLKP8Wc/dOpnht2LaT9k61hvlDhrP5amyjBcyGw/UnFmc5GNaz/OHDUOTOFmPw6sA5lG12E/RSik6AkTWz+i1W3y0stTPzWBMJFyb0s/cbfO06CJQj+AEMEJjvY5P3/kPGogDzI/NBd8cxyJJj9rhf6EGawWP7IbihyCZQ8/UHAuGk7+Gj8mtjfl0BAnPyQU0UDdszE/PJFD5yXdNz9JkWmv7Y07P7BJWfYXWj0/otc1rbXKPj+cY0ApDfA/P1RIwxwzZEA/P7hBiz2nQD8AEYbWtMRAPw7ddsdqZEE/6tXqoorORj9AU+x1/cxRP4kgXgGLD1o/zxvw/z9jYT+YCll1UORlP2dLFCnmg2o/5pfTsi07bz/wblKB7QFyP3PdoK4Ya3Q/6oXwZAbVdj86NDOSgDp5P/ta3xRSlns/MdmWBiDjfT+bWpJZvw2AP6hHz7vVHYE/Vflf5KUfgj+JUYuV1RODP5SFxkvr+oM/zvFn/uzVhD9fBEEL/6WFP+bC3krKa4Y/kMjrf4gmhz8PBmmJP9GHP8HyHYW2X4g/0iBOJdi/iD/Py8YiBOaIP80Bv5yS2Yg/QptlFKCtiD+ZVMB/63GIPyfQg2L7Log/\",\"dtype\":\"float64\",\"shape\":[75]},\"y\":{\"__ndarray__\":\"GhExyth1ND/Sv8nbtpRIP2vylNV0PVE/aTum7souWD/At0SJ8fVgPw3Iuahxymc/MSNhhJWvcD/bTfBN02d3P2zb5nxnaoA/CD5h5MAGhz8NmeH1TyaQP+zrCsc9p5Y/LbKd76fGnz/bLW5ISEmmPww9YvTcQq8/JV2OstnstT8Er5Y7M8G+P0c+r3jqkcU/5h99k6ZBzj88bCIzFzjVP4enV8oyxN0//yH99nXg5D8qOpLLf0jtP5kqGJXUifQ/c9cS8kHP/D+/DpwzojQEQIEmwoanVwxA4lgXt9HgE0BSSZ2AJuIbQAMJih9jjiNA5q4l5INuK0AwTKYKRj0zQNv5fmq8/DpAaCJseHrtQkB/+zpwzoxKQM3MzMzMeFJAZmZmZmZqWEAAAAAAAFxeQM3MzMzMJmJAmpmZmZkfZUBmZmZmZhhoQDMzMzMzEWtAAAAAAAAKbkBmZmZmZoFwQM3MzMzM/XFAMzMzMzN6c0CamZmZmfZ0QAAAAAAAc3ZAZmZmZmbvd0DNzMzMzGt5QDMzMzMz6HpAmpmZmZlkfEAAAAAAAOF9QGZmZmZmXX9AZmZmZuZsgECamZmZGSuBQM3MzMxM6YFAAAAAAICngkAzMzMzs2WDQGZmZmbmI4RAmpmZmRnihEDNzMzMTKCFQAAAAACAXoZAMzMzM7Mch0BmZmZm5tqHQJqZmZkZmYhAzczMzExXiUAAAAAAgBWKQDMzMzOz04pAZmZmZuaRi0CamZmZGVCMQM3MzMxMDo1AAAAAAIDMjUAzMzMzs4qOQGZmZmbmSI9A\",\"dtype\":\"float64\",\"shape\":[75]}},\"selected\":{\"id\":\"14bc5c68-cb5a-478f-8db9-fea82715e1fe\",\"type\":\"Selection\"},\"selection_policy\":{\"id\":\"79b78820-242f-456e-91f1-047969870c8e\",\"type\":\"UnionRenderers\"}},\"id\":\"36622b68-abbd-4249-ab11-ea7589e3cc2b\",\"type\":\"ColumnDataSource\"},{\"attributes\":{\"line_alpha\":0.1,\"line_color\":\"#1f77b4\",\"line_width\":1.5,\"x\":{\"field\":\"x\"},\"y\":{\"field\":\"y\"}},\"id\":\"0b638c99-76c3-4b20-b49a-0e33daf52e43\",\"type\":\"Line\"},{\"attributes\":{\"fill_alpha\":{\"value\":0.1},\"fill_color\":{\"value\":\"#1f77b4\"},\"line_alpha\":{\"value\":0.1},\"line_color\":{\"value\":\"#1f77b4\"},\"x\":{\"field\":\"x\"},\"y\":{\"field\":\"y\"}},\"id\":\"d05f378a-12e0-4a29-b919-18d8e1f5e040\",\"type\":\"Circle\"},{\"attributes\":{\"fill_alpha\":{\"value\":0.7},\"fill_color\":{\"value\":\"#4daf4a\"},\"line_alpha\":{\"value\":0.7},\"line_color\":{\"value\":\"#4daf4a\"},\"x\":{\"field\":\"x\"},\"y\":{\"field\":\"y\"}},\"id\":\"b8791b92-1bb0-492e-a296-d97af0000d05\",\"type\":\"Circle\"},{\"attributes\":{\"callback\":null,\"end\":0.01,\"start\":1020},\"id\":\"217799eb-cba5-4de2-b4cc-8c88826f77a8\",\"type\":\"Range1d\"},{\"attributes\":{},\"id\":\"c2471572-a727-4844-8180-dcd109fd607d\",\"type\":\"UnionRenderers\"},{\"attributes\":{\"callback\":null,\"data\":{\"x\":{\"__ndarray__\":\"iiYrD+lRFz+YEM3HlaIhP8/kr31vqi4/Zm3g162cNj+X8V5GwaE+P8nva2dKuUM/srp1ovmNSD9UZcAPe9RNPwlUDAJ1y1E/eCbHrP3uVD8iNesYUFlYPy+tgJ0/D1w/gyD3HZkIYD8xqHsMcvFhP7jfzjuWgmM/yLxF0G7uZD/5mttAXmhmPwmbjLKP8Wc/dOpnht2LaT9k61hvlDhrP5amyjBcyGw/UnFmc5GNaz/OHDUOTOFmPw6sA5lG12E/RSik6AkTWz+i1W3y0stTPzWBMJFyb0s/cbfO06CJQj+AEMEJjvY5P3/kPGogDzI/NBd8cxyJJj9rhf6EGawWP7IbihyCZQ8/UHAuGk7+Gj8mtjfl0BAnPyQU0UDdszE/PJFD5yXdNz9JkWmv7Y07P7BJWfYXWj0/otc1rbXKPj+cY0ApDfA/P1RIwxwzZEA/P7hBiz2nQD8AEYbWtMRAPw7ddsdqZEE/6tXqoorORj9AU+x1/cxRP4kgXgGLD1o/zxvw/z9jYT+YCll1UORlP2dLFCnmg2o/5pfTsi07bz/wblKB7QFyP3PdoK4Ya3Q/6oXwZAbVdj86NDOSgDp5P/ta3xRSlns/MdmWBiDjfT+bWpJZvw2AP6hHz7vVHYE/Vflf5KUfgj+JUYuV1RODP5SFxkvr+oM/zvFn/uzVhD9fBEEL/6WFP+bC3krKa4Y/kMjrf4gmhz8PBmmJP9GHP8HyHYW2X4g/0iBOJdi/iD/Py8YiBOaIP80Bv5yS2Yg/QptlFKCtiD+ZVMB/63GIPyfQg2L7Log/\",\"dtype\":\"float64\",\"shape\":[75]},\"y\":{\"__ndarray__\":\"GhExyth1ND/Sv8nbtpRIP2vylNV0PVE/aTum7souWD/At0SJ8fVgPw3Iuahxymc/MSNhhJWvcD/bTfBN02d3P2zb5nxnaoA/CD5h5MAGhz8NmeH1TyaQP+zrCsc9p5Y/LbKd76fGnz/bLW5ISEmmPww9YvTcQq8/JV2OstnstT8Er5Y7M8G+P0c+r3jqkcU/5h99k6ZBzj88bCIzFzjVP4enV8oyxN0//yH99nXg5D8qOpLLf0jtP5kqGJXUifQ/c9cS8kHP/D+/DpwzojQEQIEmwoanVwxA4lgXt9HgE0BSSZ2AJuIbQAMJih9jjiNA5q4l5INuK0AwTKYKRj0zQNv5fmq8/DpAaCJseHrtQkB/+zpwzoxKQM3MzMzMeFJAZmZmZmZqWEAAAAAAAFxeQM3MzMzMJmJAmpmZmZkfZUBmZmZmZhhoQDMzMzMzEWtAAAAAAAAKbkBmZmZmZoFwQM3MzMzM/XFAMzMzMzN6c0CamZmZmfZ0QAAAAAAAc3ZAZmZmZmbvd0DNzMzMzGt5QDMzMzMz6HpAmpmZmZlkfEAAAAAAAOF9QGZmZmZmXX9AZmZmZuZsgECamZmZGSuBQM3MzMxM6YFAAAAAAICngkAzMzMzs2WDQGZmZmbmI4RAmpmZmRnihEDNzMzMTKCFQAAAAACAXoZAMzMzM7Mch0BmZmZm5tqHQJqZmZkZmYhAzczMzExXiUAAAAAAgBWKQDMzMzOz04pAZmZmZuaRi0CamZmZGVCMQM3MzMxMDo1AAAAAAIDMjUAzMzMzs4qOQGZmZmbmSI9A\",\"dtype\":\"float64\",\"shape\":[75]}},\"selected\":{\"id\":\"5bfb7c3d-49c9-41c4-a9bd-8bd57f0b5068\",\"type\":\"Selection\"},\"selection_policy\":{\"id\":\"c2471572-a727-4844-8180-dcd109fd607d\",\"type\":\"UnionRenderers\"}},\"id\":\"8a45a29c-ca89-4292-9fb2-ea2a7dc92b46\",\"type\":\"ColumnDataSource\"},{\"attributes\":{\"data_source\":{\"id\":\"36622b68-abbd-4249-ab11-ea7589e3cc2b\",\"type\":\"ColumnDataSource\"},\"glyph\":{\"id\":\"b8791b92-1bb0-492e-a296-d97af0000d05\",\"type\":\"Circle\"},\"hover_glyph\":null,\"muted_glyph\":null,\"nonselection_glyph\":{\"id\":\"d05f378a-12e0-4a29-b919-18d8e1f5e040\",\"type\":\"Circle\"},\"selection_glyph\":null,\"view\":{\"id\":\"d0ae3036-c1bd-42f4-9d71-ff95f8eeb647\",\"type\":\"CDSView\"}},\"id\":\"9e941a27-77df-46ec-82f5-b7bfefa34bc3\",\"type\":\"GlyphRenderer\"},{\"attributes\":{},\"id\":\"eace8899-dbd1-4777-8c34-93682c29ce1c\",\"type\":\"Selection\"},{\"attributes\":{},\"id\":\"11648445-ae75-4142-a96f-a9f477ed7108\",\"type\":\"HelpTool\"},{\"attributes\":{\"line_color\":\"#4daf4a\",\"line_width\":1.5,\"x\":{\"field\":\"x\"},\"y\":{\"field\":\"y\"}},\"id\":\"eeb49701-58ca-4cd6-9c32-7d1b3ca9ed17\",\"type\":\"Line\"},{\"attributes\":{\"bottom_units\":\"screen\",\"fill_alpha\":{\"value\":0.5},\"fill_color\":{\"value\":\"lightgrey\"},\"left_units\":\"screen\",\"level\":\"overlay\",\"line_alpha\":{\"value\":1.0},\"line_color\":{\"value\":\"black\"},\"line_dash\":[4,4],\"line_width\":{\"value\":2},\"plot\":null,\"render_mode\":\"css\",\"right_units\":\"screen\",\"top_units\":\"screen\"},\"id\":\"6b862bba-6b02-47e7-aa0d-a1886a4078fc\",\"type\":\"BoxAnnotation\"},{\"attributes\":{\"source\":{\"id\":\"36622b68-abbd-4249-ab11-ea7589e3cc2b\",\"type\":\"ColumnDataSource\"}},\"id\":\"d0ae3036-c1bd-42f4-9d71-ff95f8eeb647\",\"type\":\"CDSView\"},{\"attributes\":{\"bottom_units\":\"screen\",\"fill_alpha\":{\"value\":0.5},\"fill_color\":{\"value\":\"lightgrey\"},\"left_units\":\"screen\",\"level\":\"overlay\",\"line_alpha\":{\"value\":1.0},\"line_color\":{\"value\":\"black\"},\"line_dash\":[4,4],\"line_width\":{\"value\":2},\"plot\":null,\"render_mode\":\"css\",\"right_units\":\"screen\",\"top_units\":\"screen\"},\"id\":\"b23239e2-eaa3-40da-8925-fa28c4da4cbc\",\"type\":\"BoxAnnotation\"},{\"attributes\":{\"fill_alpha\":{\"value\":0.7},\"fill_color\":{\"value\":\"#984ea3\"},\"line_alpha\":{\"value\":0.7},\"line_color\":{\"value\":\"#984ea3\"},\"x\":{\"field\":\"x\"},\"y\":{\"field\":\"y\"}},\"id\":\"074988c0-80ee-42ff-b23b-e6def61115f6\",\"type\":\"Square\"},{\"attributes\":{\"callback\":null,\"data\":{\"x\":{\"__ndarray__\":\"XYqLpfWR977/vWpKB1/0PsDOGqrMDh0/MMgzchH0Kz/k/uqkcWM1P453xMh4jT0/M19wRjRCQz+wTgQfsilIPw0eQQluhk0/WSbqJmSwUT+dLI7yp+BUPzCXrSV/WFg/oyXiOC8YXD9QBjl6hKtfPw1/+o1+TWE/MUvJlo+iYj+GexIEQgVkP/si37UkeGU/5mWGslT8Zj+29xfsh5JoP+m76QO6EGo/M5Q0svTwaD/halRQJ5pkPwLM/KtO3F8/sEMA6mnrVz/VOTgwLztRP+Jt1gmITUc/nnhJAmZcPj+MAw52gVE0P360HMVJgyo/9QD7lVnZHD98y/oR9S0CP6MMRUlidu4+6xlycW4HDz8Zsl6uvGIhP34gPG6ryy0/dPJcSUAJNT9jVGYhFAo5P5LUaeHGYzs/OfxztcaIPT/FwtVozsY+P5sUndxQXT8/f6p/cm96QD9k8YZwH0RBP+DS/QPin0I//pRi+1QLSD8lWaP42i5SPz921QtXalo/tGPSf5CVYT9GsPLG8PFlP8ttmPQ5b2o/Tvmf2qotbz8QyBP0n/1xP4Qg4sttR3Q/JU/l9sO2dj/o9OQs+CV5P5E47D3jYns/wfJxOyW4fT9qGTTq3fx/P3QZqBx0AYE/EkQumD4Lgj8bf+KE6QKDP+8r9X1P5IM/cRUh+3TKhD/9BcyNM5eFP1A5jm5wYYY/qv6AiIYlhz/Z2fDxksqHP5d3ua62Z4g/0hu+6qDJiD/d76YUofyIP7kLUPdaAIk/jrIt7DHdiD+14Z5RNLuIPwuvqLFSe4g/\",\"dtype\":\"float64\",\"shape\":[75]},\"y\":{\"__ndarray__\":\"GhExyth1ND/Sv8nbtpRIP2vylNV0PVE/aTum7souWD/At0SJ8fVgPw3Iuahxymc/MSNhhJWvcD/bTfBN02d3P2zb5nxnaoA/CD5h5MAGhz8NmeH1TyaQP+zrCsc9p5Y/LbKd76fGnz/bLW5ISEmmPww9YvTcQq8/JV2OstnstT8Er5Y7M8G+P0c+r3jqkcU/5h99k6ZBzj88bCIzFzjVP4enV8oyxN0//yH99nXg5D8qOpLLf0jtP5kqGJXUifQ/c9cS8kHP/D+/DpwzojQEQIEmwoanVwxA4lgXt9HgE0BSSZ2AJuIbQAMJih9jjiNA5q4l5INuK0AwTKYKRj0zQNv5fmq8/DpAaCJseHrtQkB/+zpwzoxKQM3MzMzMeFJAZmZmZmZqWEAAAAAAAFxeQM3MzMzMJmJAmpmZmZkfZUBmZmZmZhhoQDMzMzMzEWtAAAAAAAAKbkBmZmZmZoFwQM3MzMzM/XFAMzMzMzN6c0CamZmZmfZ0QAAAAAAAc3ZAZmZmZmbvd0DNzMzMzGt5QDMzMzMz6HpAmpmZmZlkfEAAAAAAAOF9QGZmZmZmXX9AZmZmZuZsgECamZmZGSuBQM3MzMxM6YFAAAAAAICngkAzMzMzs2WDQGZmZmbmI4RAmpmZmRnihEDNzMzMTKCFQAAAAACAXoZAMzMzM7Mch0BmZmZm5tqHQJqZmZkZmYhAzczMzExXiUAAAAAAgBWKQDMzMzOz04pAZmZmZuaRi0CamZmZGVCMQM3MzMxMDo1AAAAAAIDMjUAzMzMzs4qOQGZmZmbmSI9A\",\"dtype\":\"float64\",\"shape\":[75]}},\"selected\":{\"id\":\"822ad56a-332d-40c1-a570-e2e1efb058b5\",\"type\":\"Selection\"},\"selection_policy\":{\"id\":\"c9909b6e-d642-4d36-a08c-6550320ca45a\",\"type\":\"UnionRenderers\"}},\"id\":\"31a05d16-cc2f-493b-9229-8511de991e45\",\"type\":\"ColumnDataSource\"},{\"attributes\":{\"source\":{\"id\":\"8a45a29c-ca89-4292-9fb2-ea2a7dc92b46\",\"type\":\"ColumnDataSource\"}},\"id\":\"44ea12ae-72d8-46f1-907e-76c87fa7b98d\",\"type\":\"CDSView\"},{\"attributes\":{\"callback\":null,\"data\":{\"x\":{\"__ndarray__\":\"XYqLpfWR977/vWpKB1/0PsDOGqrMDh0/MMgzchH0Kz/k/uqkcWM1P453xMh4jT0/M19wRjRCQz+wTgQfsilIPw0eQQluhk0/WSbqJmSwUT+dLI7yp+BUPzCXrSV/WFg/oyXiOC8YXD9QBjl6hKtfPw1/+o1+TWE/MUvJlo+iYj+GexIEQgVkP/si37UkeGU/5mWGslT8Zj+29xfsh5JoP+m76QO6EGo/M5Q0svTwaD/halRQJ5pkPwLM/KtO3F8/sEMA6mnrVz/VOTgwLztRP+Jt1gmITUc/nnhJAmZcPj+MAw52gVE0P360HMVJgyo/9QD7lVnZHD98y/oR9S0CP6MMRUlidu4+6xlycW4HDz8Zsl6uvGIhP34gPG6ryy0/dPJcSUAJNT9jVGYhFAo5P5LUaeHGYzs/OfxztcaIPT/FwtVozsY+P5sUndxQXT8/f6p/cm96QD9k8YZwH0RBP+DS/QPin0I//pRi+1QLSD8lWaP42i5SPz921QtXalo/tGPSf5CVYT9GsPLG8PFlP8ttmPQ5b2o/Tvmf2qotbz8QyBP0n/1xP4Qg4sttR3Q/JU/l9sO2dj/o9OQs+CV5P5E47D3jYns/wfJxOyW4fT9qGTTq3fx/P3QZqBx0AYE/EkQumD4Lgj8bf+KE6QKDP+8r9X1P5IM/cRUh+3TKhD/9BcyNM5eFP1A5jm5wYYY/qv6AiIYlhz/Z2fDxksqHP5d3ua62Z4g/0hu+6qDJiD/d76YUofyIP7kLUPdaAIk/jrIt7DHdiD+14Z5RNLuIPwuvqLFSe4g/\",\"dtype\":\"float64\",\"shape\":[75]},\"y\":{\"__ndarray__\":\"GhExyth1ND/Sv8nbtpRIP2vylNV0PVE/aTum7souWD/At0SJ8fVgPw3Iuahxymc/MSNhhJWvcD/bTfBN02d3P2zb5nxnaoA/CD5h5MAGhz8NmeH1TyaQP+zrCsc9p5Y/LbKd76fGnz/bLW5ISEmmPww9YvTcQq8/JV2OstnstT8Er5Y7M8G+P0c+r3jqkcU/5h99k6ZBzj88bCIzFzjVP4enV8oyxN0//yH99nXg5D8qOpLLf0jtP5kqGJXUifQ/c9cS8kHP/D+/DpwzojQEQIEmwoanVwxA4lgXt9HgE0BSSZ2AJuIbQAMJih9jjiNA5q4l5INuK0AwTKYKRj0zQNv5fmq8/DpAaCJseHrtQkB/+zpwzoxKQM3MzMzMeFJAZmZmZmZqWEAAAAAAAFxeQM3MzMzMJmJAmpmZmZkfZUBmZmZmZhhoQDMzMzMzEWtAAAAAAAAKbkBmZmZmZoFwQM3MzMzM/XFAMzMzMzN6c0CamZmZmfZ0QAAAAAAAc3ZAZmZmZmbvd0DNzMzMzGt5QDMzMzMz6HpAmpmZmZlkfEAAAAAAAOF9QGZmZmZmXX9AZmZmZuZsgECamZmZGSuBQM3MzMxM6YFAAAAAAICngkAzMzMzs2WDQGZmZmbmI4RAmpmZmRnihEDNzMzMTKCFQAAAAACAXoZAMzMzM7Mch0BmZmZm5tqHQJqZmZkZmYhAzczMzExXiUAAAAAAgBWKQDMzMzOz04pAZmZmZuaRi0CamZmZGVCMQM3MzMxMDo1AAAAAAIDMjUAzMzMzs4qOQGZmZmbmSI9A\",\"dtype\":\"float64\",\"shape\":[75]}},\"selected\":{\"id\":\"eace8899-dbd1-4777-8c34-93682c29ce1c\",\"type\":\"Selection\"},\"selection_policy\":{\"id\":\"d9404ac5-71c0-4f26-b9a5-9992cd8da853\",\"type\":\"UnionRenderers\"}},\"id\":\"ec6627c9-53ff-43a4-b878-7be52217ee42\",\"type\":\"ColumnDataSource\"},{\"attributes\":{\"data_source\":{\"id\":\"8a45a29c-ca89-4292-9fb2-ea2a7dc92b46\",\"type\":\"ColumnDataSource\"},\"glyph\":{\"id\":\"eeb49701-58ca-4cd6-9c32-7d1b3ca9ed17\",\"type\":\"Line\"},\"hover_glyph\":null,\"muted_glyph\":null,\"nonselection_glyph\":{\"id\":\"0b638c99-76c3-4b20-b49a-0e33daf52e43\",\"type\":\"Line\"},\"selection_glyph\":null,\"view\":{\"id\":\"44ea12ae-72d8-46f1-907e-76c87fa7b98d\",\"type\":\"CDSView\"}},\"id\":\"a07312ff-ada6-4054-8b73-058384d148f6\",\"type\":\"GlyphRenderer\"},{\"attributes\":{\"data_source\":{\"id\":\"31a05d16-cc2f-493b-9229-8511de991e45\",\"type\":\"ColumnDataSource\"},\"glyph\":{\"id\":\"074988c0-80ee-42ff-b23b-e6def61115f6\",\"type\":\"Square\"},\"hover_glyph\":null,\"muted_glyph\":null,\"nonselection_glyph\":{\"id\":\"3a19d2f5-2f99-46d5-bbd3-ff1d749a0773\",\"type\":\"Square\"},\"selection_glyph\":null,\"view\":{\"id\":\"47d537da-e273-4b71-9268-7252b2d584ba\",\"type\":\"CDSView\"}},\"id\":\"16dbdef7-9cc3-49a5-a010-23eba3248c89\",\"type\":\"GlyphRenderer\"},{\"attributes\":{\"data_source\":{\"id\":\"bdbf0f74-61ab-4a99-8097-0f41b2a67973\",\"type\":\"ColumnDataSource\"},\"glyph\":{\"id\":\"7fe9f0cd-dcd8-41da-ad95-733928dc3707\",\"type\":\"Triangle\"},\"hover_glyph\":null,\"muted_glyph\":null,\"nonselection_glyph\":{\"id\":\"b05db646-b49f-470f-af30-34cbe23eb434\",\"type\":\"Triangle\"},\"selection_glyph\":null,\"view\":{\"id\":\"772bc849-ee89-4ce1-9508-b4bc2ac97ac9\",\"type\":\"CDSView\"}},\"id\":\"2ff1c32c-94ad-40de-a1f1-04f3dea0321c\",\"type\":\"GlyphRenderer\"},{\"attributes\":{\"line_alpha\":0.6,\"line_color\":\"#984ea3\",\"line_width\":3,\"x\":{\"field\":\"x\"},\"y\":{\"field\":\"y\"}},\"id\":\"7f19873d-6553-44d2-ad93-1c3d12dad977\",\"type\":\"Line\"},{\"attributes\":{\"callback\":null,\"data\":{\"x\":{\"__ndarray__\":\"erLpzuUbA78M7mYw6le1PlvJZcxn6RU/Qs8XTWwMJz822ZzzEzQyP8LnXfgxkDk/aOPg0+HSQD/0CByQfD9FPzKFR4IxFko/3C7yupdeTz8BUe5GOJBSP1IqpvDusVU/f7fZDLIUWT+sjpLSiU9cP0YgAdRy9l4/Ublf/2KvYD+sHb425u9hP3uZNpERP2M/S1jW1+WdZD81VnI3Bw1mPxruRlh5Zmc/qqGWaEViZj9C57muLXZiP/V65Ai6elw/KJREASJOVT8hLJDaS4dOP08BYvWHdUQ/zThp7XVAOj+CVYzqoTMxP9jznBR8myU/YakU+/g9FT/tcaV5xaDpPl3B+Og8yd6+wAHIlimhAD86oYINUB0ZP7kzroFURCc/HJD1l3EGMT/0DKRo32o0P8XLy5F5UzY/Aee880EXOD+NRl6YPMU5P1JqaD7fXDs/JH1VolLdPD89+ue8JVA+PyhmPMTOZ0A/uZ+YBVTORT8fYe950sZQPxWAqoHSRlg/LioHzvAaYD+ZM2OZEzdkP6s8FBQlcmg/9VESRjbGbD+TGm+uh5ZwP2I2oxTkz3I/cCesbFoLdT8oQo+9g0R3P1kISD6qdnk/nKIOsPCcez/2h1XgxbJ9P6tFSg9YtH8/5xHsTwzPgD9zhy/FbLiBP4zio2WnloI/C83o3ZVqgz/wubcNKDWEPxfP2Eve9oQ/7fMGAt6uhT8AkdT781iGP8+TzX276oY/QI21nqVUhz8RKcFz04yHP//m5peYmYc/kNaKySqLhz/s5PJwGW+HP0Gdv/ehTIc/\",\"dtype\":\"float64\",\"shape\":[75]},\"y\":{\"__ndarray__\":\"GhExyth1ND/Sv8nbtpRIP2vylNV0PVE/aTum7souWD/At0SJ8fVgPw3Iuahxymc/MSNhhJWvcD/bTfBN02d3P2zb5nxnaoA/CD5h5MAGhz8NmeH1TyaQP+zrCsc9p5Y/LbKd76fGnz/bLW5ISEmmPww9YvTcQq8/JV2OstnstT8Er5Y7M8G+P0c+r3jqkcU/5h99k6ZBzj88bCIzFzjVP4enV8oyxN0//yH99nXg5D8qOpLLf0jtP5kqGJXUifQ/c9cS8kHP/D+/DpwzojQEQIEmwoanVwxA4lgXt9HgE0BSSZ2AJuIbQAMJih9jjiNA5q4l5INuK0AwTKYKRj0zQNv5fmq8/DpAaCJseHrtQkB/+zpwzoxKQM3MzMzMeFJAZmZmZmZqWEAAAAAAAFxeQM3MzMzMJmJAmpmZmZkfZUBmZmZmZhhoQDMzMzMzEWtAAAAAAAAKbkBmZmZmZoFwQM3MzMzM/XFAMzMzMzN6c0CamZmZmfZ0QAAAAAAAc3ZAZmZmZmbvd0DNzMzMzGt5QDMzMzMz6HpAmpmZmZlkfEAAAAAAAOF9QGZmZmZmXX9AZmZmZuZsgECamZmZGSuBQM3MzMxM6YFAAAAAAICngkAzMzMzs2WDQGZmZmbmI4RAmpmZmRnihEDNzMzMTKCFQAAAAACAXoZAMzMzM7Mch0BmZmZm5tqHQJqZmZkZmYhAzczMzExXiUAAAAAAgBWKQDMzMzOz04pAZmZmZuaRi0CamZmZGVCMQM3MzMxMDo1AAAAAAIDMjUAzMzMzs4qOQGZmZmbmSI9A\",\"dtype\":\"float64\",\"shape\":[75]}},\"selected\":{\"id\":\"3c2b125a-ac23-4e80-80fc-6f0a4af11715\",\"type\":\"Selection\"},\"selection_policy\":{\"id\":\"49b9a2dc-71b4-4e4b-9447-b733759c8c5b\",\"type\":\"UnionRenderers\"}},\"id\":\"bdbf0f74-61ab-4a99-8097-0f41b2a67973\",\"type\":\"ColumnDataSource\"},{\"attributes\":{\"source\":{\"id\":\"31a05d16-cc2f-493b-9229-8511de991e45\",\"type\":\"ColumnDataSource\"}},\"id\":\"47d537da-e273-4b71-9268-7252b2d584ba\",\"type\":\"CDSView\"},{\"attributes\":{\"line_alpha\":0.1,\"line_color\":\"#1f77b4\",\"line_width\":3,\"x\":{\"field\":\"x\"},\"y\":{\"field\":\"y\"}},\"id\":\"08db185f-44ea-4679-b3df-238717aa0afe\",\"type\":\"Line\"},{\"attributes\":{\"fill_alpha\":{\"value\":0.7},\"fill_color\":{\"value\":\"#377eb8\"},\"line_alpha\":{\"value\":0.7},\"line_color\":{\"value\":\"#377eb8\"},\"x\":{\"field\":\"x\"},\"y\":{\"field\":\"y\"}},\"id\":\"7fe9f0cd-dcd8-41da-ad95-733928dc3707\",\"type\":\"Triangle\"},{\"attributes\":{\"fill_alpha\":{\"value\":0.1},\"fill_color\":{\"value\":\"#1f77b4\"},\"line_alpha\":{\"value\":0.1},\"line_color\":{\"value\":\"#1f77b4\"},\"x\":{\"field\":\"x\"},\"y\":{\"field\":\"y\"}},\"id\":\"3a19d2f5-2f99-46d5-bbd3-ff1d749a0773\",\"type\":\"Square\"},{\"attributes\":{\"callback\":null,\"data\":{\"x\":{\"__ndarray__\":\"erLpzuUbA78M7mYw6le1PlvJZcxn6RU/Qs8XTWwMJz822ZzzEzQyP8LnXfgxkDk/aOPg0+HSQD/0CByQfD9FPzKFR4IxFko/3C7yupdeTz8BUe5GOJBSP1IqpvDusVU/f7fZDLIUWT+sjpLSiU9cP0YgAdRy9l4/Ublf/2KvYD+sHb425u9hP3uZNpERP2M/S1jW1+WdZD81VnI3Bw1mPxruRlh5Zmc/qqGWaEViZj9C57muLXZiP/V65Ai6elw/KJREASJOVT8hLJDaS4dOP08BYvWHdUQ/zThp7XVAOj+CVYzqoTMxP9jznBR8myU/YakU+/g9FT/tcaV5xaDpPl3B+Og8yd6+wAHIlimhAD86oYINUB0ZP7kzroFURCc/HJD1l3EGMT/0DKRo32o0P8XLy5F5UzY/Aee880EXOD+NRl6YPMU5P1JqaD7fXDs/JH1VolLdPD89+ue8JVA+PyhmPMTOZ0A/uZ+YBVTORT8fYe950sZQPxWAqoHSRlg/LioHzvAaYD+ZM2OZEzdkP6s8FBQlcmg/9VESRjbGbD+TGm+uh5ZwP2I2oxTkz3I/cCesbFoLdT8oQo+9g0R3P1kISD6qdnk/nKIOsPCcez/2h1XgxbJ9P6tFSg9YtH8/5xHsTwzPgD9zhy/FbLiBP4zio2WnloI/C83o3ZVqgz/wubcNKDWEPxfP2Eve9oQ/7fMGAt6uhT8AkdT781iGP8+TzX276oY/QI21nqVUhz8RKcFz04yHP//m5peYmYc/kNaKySqLhz/s5PJwGW+HP0Gdv/ehTIc/\",\"dtype\":\"float64\",\"shape\":[75]},\"y\":{\"__ndarray__\":\"GhExyth1ND/Sv8nbtpRIP2vylNV0PVE/aTum7souWD/At0SJ8fVgPw3Iuahxymc/MSNhhJWvcD/bTfBN02d3P2zb5nxnaoA/CD5h5MAGhz8NmeH1TyaQP+zrCsc9p5Y/LbKd76fGnz/bLW5ISEmmPww9YvTcQq8/JV2OstnstT8Er5Y7M8G+P0c+r3jqkcU/5h99k6ZBzj88bCIzFzjVP4enV8oyxN0//yH99nXg5D8qOpLLf0jtP5kqGJXUifQ/c9cS8kHP/D+/DpwzojQEQIEmwoanVwxA4lgXt9HgE0BSSZ2AJuIbQAMJih9jjiNA5q4l5INuK0AwTKYKRj0zQNv5fmq8/DpAaCJseHrtQkB/+zpwzoxKQM3MzMzMeFJAZmZmZmZqWEAAAAAAAFxeQM3MzMzMJmJAmpmZmZkfZUBmZmZmZhhoQDMzMzMzEWtAAAAAAAAKbkBmZmZmZoFwQM3MzMzM/XFAMzMzMzN6c0CamZmZmfZ0QAAAAAAAc3ZAZmZmZmbvd0DNzMzMzGt5QDMzMzMz6HpAmpmZmZlkfEAAAAAAAOF9QGZmZmZmXX9AZmZmZuZsgECamZmZGSuBQM3MzMxM6YFAAAAAAICngkAzMzMzs2WDQGZmZmbmI4RAmpmZmRnihEDNzMzMTKCFQAAAAACAXoZAMzMzM7Mch0BmZmZm5tqHQJqZmZkZmYhAzczMzExXiUAAAAAAgBWKQDMzMzOz04pAZmZmZuaRi0CamZmZGVCMQM3MzMxMDo1AAAAAAIDMjUAzMzMzs4qOQGZmZmbmSI9A\",\"dtype\":\"float64\",\"shape\":[75]}},\"selected\":{\"id\":\"696d25da-09c0-4c52-ac89-686d8161eb1a\",\"type\":\"Selection\"},\"selection_policy\":{\"id\":\"b62bca50-2d88-4ec5-81a7-cd3bae4311a2\",\"type\":\"UnionRenderers\"}},\"id\":\"f56480fd-e9bf-4b6d-9399-ab492cbecf8c\",\"type\":\"ColumnDataSource\"},{\"attributes\":{\"data_source\":{\"id\":\"ec6627c9-53ff-43a4-b878-7be52217ee42\",\"type\":\"ColumnDataSource\"},\"glyph\":{\"id\":\"7f19873d-6553-44d2-ad93-1c3d12dad977\",\"type\":\"Line\"},\"hover_glyph\":null,\"muted_glyph\":null,\"nonselection_glyph\":{\"id\":\"08db185f-44ea-4679-b3df-238717aa0afe\",\"type\":\"Line\"},\"selection_glyph\":null,\"view\":{\"id\":\"e26bfabe-3188-4ffb-a95f-95b256b3e49b\",\"type\":\"CDSView\"}},\"id\":\"ed2b950e-164b-40df-9b57-f83949ac1989\",\"type\":\"GlyphRenderer\"},{\"attributes\":{\"fill_alpha\":{\"value\":0.1},\"fill_color\":{\"value\":\"#1f77b4\"},\"line_alpha\":{\"value\":0.1},\"line_color\":{\"value\":\"#1f77b4\"},\"x\":{\"field\":\"x\"},\"y\":{\"field\":\"y\"}},\"id\":\"b05db646-b49f-470f-af30-34cbe23eb434\",\"type\":\"Triangle\"},{\"attributes\":{\"line_alpha\":0.3,\"line_color\":\"#377eb8\",\"line_width\":2,\"x\":{\"field\":\"x\"},\"y\":{\"field\":\"y\"}},\"id\":\"05d22c44-c372-4d9d-ba71-fe167a03390f\",\"type\":\"Line\"},{\"attributes\":{\"source\":{\"id\":\"f56480fd-e9bf-4b6d-9399-ab492cbecf8c\",\"type\":\"ColumnDataSource\"}},\"id\":\"b4dbb0b2-4406-4c51-8c35-70264533c48b\",\"type\":\"CDSView\"},{\"attributes\":{\"source\":{\"id\":\"ec6627c9-53ff-43a4-b878-7be52217ee42\",\"type\":\"ColumnDataSource\"}},\"id\":\"e26bfabe-3188-4ffb-a95f-95b256b3e49b\",\"type\":\"CDSView\"},{\"attributes\":{\"line_alpha\":0.1,\"line_color\":\"#1f77b4\",\"line_width\":2,\"x\":{\"field\":\"x\"},\"y\":{\"field\":\"y\"}},\"id\":\"4e03af28-f9e3-457e-905e-2f0ba534d2cb\",\"type\":\"Line\"},{\"attributes\":{\"above\":[{\"id\":\"aeedd14b-50bc-4e1b-a67e-6e3689eb5905\",\"type\":\"Legend\"}],\"below\":[{\"id\":\"f778bb1d-767e-4039-b2ad-d7878db73dca\",\"type\":\"LinearAxis\"}],\"left\":[{\"id\":\"67b83427-a203-4d68-b1fa-2c9156883edc\",\"type\":\"LogAxis\"}],\"plot_height\":500,\"plot_width\":400,\"renderers\":[{\"id\":\"f778bb1d-767e-4039-b2ad-d7878db73dca\",\"type\":\"LinearAxis\"},{\"id\":\"96bbc61b-c156-4f61-a222-a0bda1f8d2d8\",\"type\":\"Grid\"},{\"id\":\"67b83427-a203-4d68-b1fa-2c9156883edc\",\"type\":\"LogAxis\"},{\"id\":\"8a18b89a-6738-48eb-a5ec-9d160770a44b\",\"type\":\"Grid\"},{\"id\":\"b23239e2-eaa3-40da-8925-fa28c4da4cbc\",\"type\":\"BoxAnnotation\"},{\"id\":\"7387258b-f67b-4220-9c1a-044878bca007\",\"type\":\"GlyphRenderer\"},{\"id\":\"c68b3b8b-1ca0-4ffd-83ce-735f9eec1810\",\"type\":\"GlyphRenderer\"},{\"id\":\"733a29bc-efd3-4c90-8c4b-a8b6d0063b37\",\"type\":\"GlyphRenderer\"},{\"id\":\"b51c2f73-fa02-46d7-a475-fdcf6fee9f81\",\"type\":\"GlyphRenderer\"},{\"id\":\"7ac5a69e-2b64-4bb9-a3b1-ae30d1f3a12e\",\"type\":\"GlyphRenderer\"},{\"id\":\"5ed2491c-e683-4d03-9559-a2fc32bba442\",\"type\":\"GlyphRenderer\"},{\"id\":\"aeedd14b-50bc-4e1b-a67e-6e3689eb5905\",\"type\":\"Legend\"}],\"title\":{\"id\":\"94a78105-e8ff-4f04-bdd0-e252aee66317\",\"type\":\"Title\"},\"toolbar\":{\"id\":\"d83ff47f-7333-4b6d-8ecc-a682c0fdfbab\",\"type\":\"Toolbar\"},\"toolbar_location\":null,\"x_range\":{\"id\":\"22448e57-c7c1-44e7-bff5-19f9055cf8b1\",\"type\":\"Range1d\"},\"x_scale\":{\"id\":\"eb61d52a-41a5-49c8-b92c-89808c23d3eb\",\"type\":\"LinearScale\"},\"y_range\":{\"id\":\"91c3e2ae-21cb-4b31-9559-d49ca5be8a92\",\"type\":\"Range1d\"},\"y_scale\":{\"id\":\"c8fa4bf3-e233-4af8-8614-dad7d67c229e\",\"type\":\"LogScale\"}},\"id\":\"a7a83748-2b39-4f4b-b909-ab8c740f2656\",\"subtype\":\"Figure\",\"type\":\"Plot\"},{\"attributes\":{\"source\":{\"id\":\"bdbf0f74-61ab-4a99-8097-0f41b2a67973\",\"type\":\"ColumnDataSource\"}},\"id\":\"772bc849-ee89-4ce1-9508-b4bc2ac97ac9\",\"type\":\"CDSView\"},{\"attributes\":{\"data_source\":{\"id\":\"f56480fd-e9bf-4b6d-9399-ab492cbecf8c\",\"type\":\"ColumnDataSource\"},\"glyph\":{\"id\":\"05d22c44-c372-4d9d-ba71-fe167a03390f\",\"type\":\"Line\"},\"hover_glyph\":null,\"muted_glyph\":null,\"nonselection_glyph\":{\"id\":\"4e03af28-f9e3-457e-905e-2f0ba534d2cb\",\"type\":\"Line\"},\"selection_glyph\":null,\"view\":{\"id\":\"b4dbb0b2-4406-4c51-8c35-70264533c48b\",\"type\":\"CDSView\"}},\"id\":\"a6ea269a-3389-405e-bbe6-bdf33c82493b\",\"type\":\"GlyphRenderer\"},{\"attributes\":{\"active_drag\":\"auto\",\"active_inspect\":\"auto\",\"active_scroll\":\"auto\",\"active_tap\":\"auto\",\"tools\":[{\"id\":\"a9d76717-d2d1-469d-a03e-7792baf0ec4e\",\"type\":\"PanTool\"},{\"id\":\"e185fb54-ee0d-4cc1-8859-350dd08b81fd\",\"type\":\"WheelZoomTool\"},{\"id\":\"eac2d48c-9740-40b3-9528-279f94f9cef9\",\"type\":\"BoxZoomTool\"},{\"id\":\"53b45b15-698c-4b97-af0f-f3f9c78ee11b\",\"type\":\"SaveTool\"},{\"id\":\"ad5ae6c7-2e26-4940-9875-5d14fd21eafd\",\"type\":\"ResetTool\"},{\"id\":\"75ab061c-60cc-41dc-a323-36de4e4ef233\",\"type\":\"HelpTool\"}]},\"id\":\"d83ff47f-7333-4b6d-8ecc-a682c0fdfbab\",\"type\":\"Toolbar\"},{\"attributes\":{\"label\":{\"value\":\"CRD\"},\"renderers\":[{\"id\":\"9e941a27-77df-46ec-82f5-b7bfefa34bc3\",\"type\":\"GlyphRenderer\"},{\"id\":\"a07312ff-ada6-4054-8b73-058384d148f6\",\"type\":\"GlyphRenderer\"}]},\"id\":\"df036466-0d5a-478a-b0bb-9b5012550aa3\",\"type\":\"LegendItem\"},{\"attributes\":{\"callback\":null,\"end\":0.003548716378748,\"start\":-4.2548453548000006e-05},\"id\":\"22448e57-c7c1-44e7-bff5-19f9055cf8b1\",\"type\":\"Range1d\"},{\"attributes\":{\"label\":{\"value\":\"WGT igg=1\"},\"renderers\":[{\"id\":\"16dbdef7-9cc3-49a5-a010-23eba3248c89\",\"type\":\"GlyphRenderer\"},{\"id\":\"ed2b950e-164b-40df-9b57-f83949ac1989\",\"type\":\"GlyphRenderer\"}]},\"id\":\"ea2b8d57-8b79-4705-9d1a-b9a927f7f4fd\",\"type\":\"LegendItem\"},{\"attributes\":{},\"id\":\"eb61d52a-41a5-49c8-b92c-89808c23d3eb\",\"type\":\"LinearScale\"},{\"attributes\":{\"label\":{\"value\":\"WGT igg=10\"},\"renderers\":[{\"id\":\"2ff1c32c-94ad-40de-a1f1-04f3dea0321c\",\"type\":\"GlyphRenderer\"},{\"id\":\"a6ea269a-3389-405e-bbe6-bdf33c82493b\",\"type\":\"GlyphRenderer\"}]},\"id\":\"179d9e7b-aef3-4d01-b774-d34b36ccad92\",\"type\":\"LegendItem\"},{\"attributes\":{},\"id\":\"a9d76717-d2d1-469d-a03e-7792baf0ec4e\",\"type\":\"PanTool\"},{\"attributes\":{\"items\":[{\"id\":\"5c6ed048-2599-48c1-8a9c-0b299340d525\",\"type\":\"LegendItem\"},{\"id\":\"37615e29-a19d-4190-8a71-1285dc4aad13\",\"type\":\"LegendItem\"},{\"id\":\"3dc63af5-12f6-4a57-9b84-0460c9139350\",\"type\":\"LegendItem\"}],\"label_text_font_size\":{\"value\":\"8pt\"},\"location\":\"top_center\",\"orientation\":\"horizontal\",\"plot\":{\"id\":\"a7a83748-2b39-4f4b-b909-ab8c740f2656\",\"subtype\":\"Figure\",\"type\":\"Plot\"}},\"id\":\"aeedd14b-50bc-4e1b-a67e-6e3689eb5905\",\"type\":\"Legend\"},{\"attributes\":{\"overlay\":{\"id\":\"b23239e2-eaa3-40da-8925-fa28c4da4cbc\",\"type\":\"BoxAnnotation\"}},\"id\":\"eac2d48c-9740-40b3-9528-279f94f9cef9\",\"type\":\"BoxZoomTool\"},{\"attributes\":{},\"id\":\"c8fa4bf3-e233-4af8-8614-dad7d67c229e\",\"type\":\"LogScale\"},{\"attributes\":{\"axis_label\":\"cooling rate [K/day]\",\"formatter\":{\"id\":\"fd0e8285-3c8a-4425-9225-da183cb955eb\",\"type\":\"BasicTickFormatter\"},\"plot\":{\"id\":\"a7a83748-2b39-4f4b-b909-ab8c740f2656\",\"subtype\":\"Figure\",\"type\":\"Plot\"},\"ticker\":{\"id\":\"5b07e1d5-e50c-4af8-9bf4-b7e11d9fc0dd\",\"type\":\"BasicTicker\"}},\"id\":\"f778bb1d-767e-4039-b2ad-d7878db73dca\",\"type\":\"LinearAxis\"},{\"attributes\":{},\"id\":\"5b07e1d5-e50c-4af8-9bf4-b7e11d9fc0dd\",\"type\":\"BasicTicker\"},{\"attributes\":{},\"id\":\"e185fb54-ee0d-4cc1-8859-350dd08b81fd\",\"type\":\"WheelZoomTool\"},{\"attributes\":{},\"id\":\"53b45b15-698c-4b97-af0f-f3f9c78ee11b\",\"type\":\"SaveTool\"},{\"attributes\":{},\"id\":\"ad5ae6c7-2e26-4940-9875-5d14fd21eafd\",\"type\":\"ResetTool\"},{\"attributes\":{},\"id\":\"75ab061c-60cc-41dc-a323-36de4e4ef233\",\"type\":\"HelpTool\"},{\"attributes\":{},\"id\":\"d9404ac5-71c0-4f26-b9a5-9992cd8da853\",\"type\":\"UnionRenderers\"},{\"attributes\":{\"callback\":null,\"end\":0.01,\"start\":1020},\"id\":\"91c3e2ae-21cb-4b31-9559-d49ca5be8a92\",\"type\":\"Range1d\"},{\"attributes\":{\"callback\":null,\"data\":{\"x\":{\"__ndarray__\":\"iiYrD+lRFz+YEM3HlaIhP8/kr31vqi4/Zm3g162cNj+X8V5GwaE+P8nva2dKuUM/srp1ovmNSD9UZcAPe9RNPwlUDAJ1y1E/eCbHrP3uVD8iNesYUFlYPy+tgJ0/D1w/gyD3HZkIYD8xqHsMcvFhP7jfzjuWgmM/yLxF0G7uZD/5mttAXmhmPwmbjLKP8Wc/dOpnht2LaT9k61hvlDhrP5amyjBcyGw/UnFmc5GNaz/OHDUOTOFmPw6sA5lG12E/RSik6AkTWz+i1W3y0stTPzWBMJFyb0s/cbfO06CJQj+AEMEJjvY5P3/kPGogDzI/NBd8cxyJJj9rhf6EGawWP7IbihyCZQ8/UHAuGk7+Gj8mtjfl0BAnPyQU0UDdszE/PJFD5yXdNz9JkWmv7Y07P7BJWfYXWj0/otc1rbXKPj+cY0ApDfA/P1RIwxwzZEA/P7hBiz2nQD8AEYbWtMRAPw7ddsdqZEE/6tXqoorORj9AU+x1/cxRP4kgXgGLD1o/zxvw/z9jYT+YCll1UORlP2dLFCnmg2o/5pfTsi07bz/wblKB7QFyP3PdoK4Ya3Q/6oXwZAbVdj86NDOSgDp5P/ta3xRSlns/MdmWBiDjfT+bWpJZvw2AP6hHz7vVHYE/Vflf5KUfgj+JUYuV1RODP5SFxkvr+oM/zvFn/uzVhD9fBEEL/6WFP+bC3krKa4Y/kMjrf4gmhz8PBmmJP9GHP8HyHYW2X4g/0iBOJdi/iD/Py8YiBOaIP80Bv5yS2Yg/QptlFKCtiD+ZVMB/63GIPyfQg2L7Log/\",\"dtype\":\"float64\",\"shape\":[75]},\"y\":{\"__ndarray__\":\"GhExyth1ND/Sv8nbtpRIP2vylNV0PVE/aTum7souWD/At0SJ8fVgPw3Iuahxymc/MSNhhJWvcD/bTfBN02d3P2zb5nxnaoA/CD5h5MAGhz8NmeH1TyaQP+zrCsc9p5Y/LbKd76fGnz/bLW5ISEmmPww9YvTcQq8/JV2OstnstT8Er5Y7M8G+P0c+r3jqkcU/5h99k6ZBzj88bCIzFzjVP4enV8oyxN0//yH99nXg5D8qOpLLf0jtP5kqGJXUifQ/c9cS8kHP/D+/DpwzojQEQIEmwoanVwxA4lgXt9HgE0BSSZ2AJuIbQAMJih9jjiNA5q4l5INuK0AwTKYKRj0zQNv5fmq8/DpAaCJseHrtQkB/+zpwzoxKQM3MzMzMeFJAZmZmZmZqWEAAAAAAAFxeQM3MzMzMJmJAmpmZmZkfZUBmZmZmZhhoQDMzMzMzEWtAAAAAAAAKbkBmZmZmZoFwQM3MzMzM/XFAMzMzMzN6c0CamZmZmfZ0QAAAAAAAc3ZAZmZmZmbvd0DNzMzMzGt5QDMzMzMz6HpAmpmZmZlkfEAAAAAAAOF9QGZmZmZmXX9AZmZmZuZsgECamZmZGSuBQM3MzMxM6YFAAAAAAICngkAzMzMzs2WDQGZmZmbmI4RAmpmZmRnihEDNzMzMTKCFQAAAAACAXoZAMzMzM7Mch0BmZmZm5tqHQJqZmZkZmYhAzczMzExXiUAAAAAAgBWKQDMzMzOz04pAZmZmZuaRi0CamZmZGVCMQM3MzMxMDo1AAAAAAIDMjUAzMzMzs4qOQGZmZmbmSI9A\",\"dtype\":\"float64\",\"shape\":[75]}},\"selected\":{\"id\":\"b2487b27-6e93-403d-8302-abc512d4489b\",\"type\":\"Selection\"},\"selection_policy\":{\"id\":\"41fecc84-960f-49ef-b8a6-fe4e78919d6f\",\"type\":\"UnionRenderers\"}},\"id\":\"1d7ae05f-8983-4af1-b8fa-182fcbab8810\",\"type\":\"ColumnDataSource\"},{\"attributes\":{},\"id\":\"c9909b6e-d642-4d36-a08c-6550320ca45a\",\"type\":\"UnionRenderers\"}],\"root_ids\":[\"b546314b-3db9-4d57-b494-6f45efcbeab0\"]},\"title\":\"Bokeh Application\",\"version\":\"0.12.16\"}};\n",
       "  var render_items = [{\"docid\":\"fd6004c9-0c70-4bd8-a258-18aeb09a082a\",\"elementid\":\"2ebe72f0-040f-4a37-a6a9-96d1ff9d6f85\",\"modelid\":\"b546314b-3db9-4d57-b494-6f45efcbeab0\"}];\n",
       "  root.Bokeh.embed.embed_items_notebook(docs_json, render_items);\n",
       "\n",
       "  }\n",
       "  if (root.Bokeh !== undefined) {\n",
       "    embed_document(root);\n",
       "  } else {\n",
       "    var attempts = 0;\n",
       "    var timer = setInterval(function(root) {\n",
       "      if (root.Bokeh !== undefined) {\n",
       "        embed_document(root);\n",
       "        clearInterval(timer);\n",
       "      }\n",
       "      attempts++;\n",
       "      if (attempts > 100) {\n",
       "        console.log(\"Bokeh: ERROR: Unable to run BokehJS code because BokehJS library is missing\")\n",
       "        clearInterval(timer);\n",
       "      }\n",
       "    }, 10, root)\n",
       "  }\n",
       "})(window);"
      ],
      "application/vnd.bokehjs_exec.v0+json": ""
     },
     "metadata": {
      "application/vnd.bokehjs_exec.v0+json": {
       "id": "b546314b-3db9-4d57-b494-6f45efcbeab0"
      }
     },
     "output_type": "display_data"
    },
    {
     "data": {
      "text/markdown": [
       "*FIGURE.* Cooling rates. g=3"
      ],
      "text/plain": [
       "<IPython.core.display.Markdown object>"
      ]
     },
     "metadata": {},
     "output_type": "display_data"
    },
    {
     "data": {
      "text/html": [
       "\n",
       "<div class=\"bk-root\">\n",
       "    <div class=\"bk-plotdiv\" id=\"4a425eed-73ca-43e1-beb9-c07f9cfd0cc4\"></div>\n",
       "</div>"
      ]
     },
     "metadata": {},
     "output_type": "display_data"
    },
    {
     "data": {
      "application/javascript": [
       "(function(root) {\n",
       "  function embed_document(root) {\n",
       "    \n",
       "  var docs_json = {\"cfb40a48-f0f3-4fb3-a37d-a9171d4d92cb\":{\"roots\":{\"references\":[{\"attributes\":{\"overlay\":{\"id\":\"d6fe4b78-e7d1-4ba1-a558-13c7ed861596\",\"type\":\"BoxAnnotation\"}},\"id\":\"859e3d84-b185-4075-83e3-e723e1558c54\",\"type\":\"BoxZoomTool\"},{\"attributes\":{},\"id\":\"537a6b05-4f51-446d-873c-616a9e27eda7\",\"type\":\"PanTool\"},{\"attributes\":{},\"id\":\"4d8c725a-f06b-43e8-a524-088336328d55\",\"type\":\"WheelZoomTool\"},{\"attributes\":{},\"id\":\"c405dbc0-f672-49b3-aebf-b4784625c4f1\",\"type\":\"SaveTool\"},{\"attributes\":{\"children\":[{\"id\":\"f9cec7d9-943b-4847-8828-75b0905f0eb3\",\"subtype\":\"Figure\",\"type\":\"Plot\"},{\"id\":\"e0ad2ba8-23c9-4652-97fe-c4630233e658\",\"subtype\":\"Figure\",\"type\":\"Plot\"}]},\"id\":\"43d79d20-1048-44e4-bf6e-96363f0c963a\",\"type\":\"Row\"},{\"attributes\":{},\"id\":\"be8630e1-e28b-4bab-8234-db681865d5e6\",\"type\":\"HelpTool\"},{\"attributes\":{\"data_source\":{\"id\":\"acca85ef-8331-4921-a0b5-d38256f70143\",\"type\":\"ColumnDataSource\"},\"glyph\":{\"id\":\"676af7f3-0ae9-4c33-abba-d19d9008adb0\",\"type\":\"Triangle\"},\"hover_glyph\":null,\"muted_glyph\":null,\"nonselection_glyph\":{\"id\":\"052dac8d-161f-4be8-8299-22c0777eb1b2\",\"type\":\"Triangle\"},\"selection_glyph\":null,\"view\":{\"id\":\"75cb9aa8-0302-4dc1-849e-2da1fbc46217\",\"type\":\"CDSView\"}},\"id\":\"29ce2955-9bc7-4b6b-9c39-243fdcba524f\",\"type\":\"GlyphRenderer\"},{\"attributes\":{\"source\":{\"id\":\"4198c66d-5da3-4c78-8540-e20b735e9ce9\",\"type\":\"ColumnDataSource\"}},\"id\":\"59efc22e-e3c1-4e09-b041-ca2f0d820cfd\",\"type\":\"CDSView\"},{\"attributes\":{\"line_alpha\":0.6,\"line_color\":\"#984ea3\",\"line_width\":3,\"x\":{\"field\":\"x\"},\"y\":{\"field\":\"y\"}},\"id\":\"66697774-db8a-47ff-b77d-a4a377f589db\",\"type\":\"Line\"},{\"attributes\":{\"line_color\":\"#4daf4a\",\"line_width\":1.5,\"x\":{\"field\":\"x\"},\"y\":{\"field\":\"y\"}},\"id\":\"3cff7289-f729-46ad-ab29-68b060ab9114\",\"type\":\"Line\"},{\"attributes\":{\"source\":{\"id\":\"e6e2f431-74f0-4051-bc43-9c55e60ee5b0\",\"type\":\"ColumnDataSource\"}},\"id\":\"83c1b1e3-a258-46b8-9ebd-677d55617c68\",\"type\":\"CDSView\"},{\"attributes\":{\"data_source\":{\"id\":\"b0e4e86b-d067-474d-ae76-a5cdbd9541dd\",\"type\":\"ColumnDataSource\"},\"glyph\":{\"id\":\"b811852a-7d6f-4bd2-8c32-09053a59e96f\",\"type\":\"Square\"},\"hover_glyph\":null,\"muted_glyph\":null,\"nonselection_glyph\":{\"id\":\"b58b7fa7-9cec-49f2-b1f1-0685c61115db\",\"type\":\"Square\"},\"selection_glyph\":null,\"view\":{\"id\":\"878befac-2ff1-4883-a217-833f1e75e1b8\",\"type\":\"CDSView\"}},\"id\":\"d51a2eb9-f560-4804-aec2-c92de10d53fa\",\"type\":\"GlyphRenderer\"},{\"attributes\":{\"callback\":null,\"data\":{\"x\":{\"__ndarray__\":\"aW1o8XXwhj+jGgVaQ3CIP8aLInZ8jYs/B6jl9kzTjj8Sb4anQByRPzR1Tvbg3pI/1I2K1MuwlD+Yw6ZB1ZCWP8rXYnNTgZg/AfJGILKCmj98RXCJR5WcPzwf3iNquZ4/MozSBnN2oD+CcuwgA3ehP4aLrF66QaI/Kv3n3Rb0oj+Vh/jU4KejP6dRYexQXqQ/WJWKw60XpT/gQfmFuNOlPxIuOwugfqY/mWF/GfrzpT+Lgce79dSjPyw5+m3RUqE/mHleyEbdnT8bd+ORukyZP5SIqvRU8ZQ/U23U35s6kT9OT1UU5tiMPyuZ8eHHAYg/XyhQ2Ak+gz/og/ar5319P5T23bc2aHc/VKRkrY95dD8vgpTJQXFyP6aTCOSx23A/8CA5zn4Lbz/eWLBepmhrPxdCOSLKJ2c/sbaivyJHYz9Cb4OEa0pfP9xeN+xeUFg/XzLQZJ+BUT865w8G9q9FP4LM8tawTzY/4aSYBXlwQz8V/Kko+dpaP0xOJJKMh2g/HGiONWPKcT9qLxzg4y93P4DrXsBPdHw/W8DNn4TLgD/oVPZMJ0uDP4o7CCpit4U/wgGzC8oNiD8sZQwXA0uKP0YHbZZCa4w/BUZ/uJNqjj+6k39awiKQP+fXYvnr/JA/lmzNOgnDkT9lq6/U0XaSPyU6Llf9GZM/Lw6bAsGukz/yL6SwOzeUP577SXnItJQ/64agfNcmlT8+5kwhc4iVPw5e/RnTzJU/ihr1nRLhlT8cDevEKLqVP37K7M2aYZU/6tEkzbDslD/8SRiJl2yUPxyUnW8l6pM/\",\"dtype\":\"float64\",\"shape\":[75]},\"y\":{\"__ndarray__\":\"GhExyth1ND/Sv8nbtpRIP2vylNV0PVE/aTum7souWD/At0SJ8fVgPw3Iuahxymc/MSNhhJWvcD/bTfBN02d3P2zb5nxnaoA/CD5h5MAGhz8NmeH1TyaQP+zrCsc9p5Y/LbKd76fGnz/bLW5ISEmmPww9YvTcQq8/JV2OstnstT8Er5Y7M8G+P0c+r3jqkcU/5h99k6ZBzj88bCIzFzjVP4enV8oyxN0//yH99nXg5D8qOpLLf0jtP5kqGJXUifQ/c9cS8kHP/D+/DpwzojQEQIEmwoanVwxA4lgXt9HgE0BSSZ2AJuIbQAMJih9jjiNA5q4l5INuK0AwTKYKRj0zQNv5fmq8/DpAaCJseHrtQkB/+zpwzoxKQM3MzMzMeFJAZmZmZmZqWEAAAAAAAFxeQM3MzMzMJmJAmpmZmZkfZUBmZmZmZhhoQDMzMzMzEWtAAAAAAAAKbkBmZmZmZoFwQM3MzMzM/XFAMzMzMzN6c0CamZmZmfZ0QAAAAAAAc3ZAZmZmZmbvd0DNzMzMzGt5QDMzMzMz6HpAmpmZmZlkfEAAAAAAAOF9QGZmZmZmXX9AZmZmZuZsgECamZmZGSuBQM3MzMxM6YFAAAAAAICngkAzMzMzs2WDQGZmZmbmI4RAmpmZmRnihEDNzMzMTKCFQAAAAACAXoZAMzMzM7Mch0BmZmZm5tqHQJqZmZkZmYhAzczMzExXiUAAAAAAgBWKQDMzMzOz04pAZmZmZuaRi0CamZmZGVCMQM3MzMxMDo1AAAAAAIDMjUAzMzMzs4qOQGZmZmbmSI9A\",\"dtype\":\"float64\",\"shape\":[75]}},\"selected\":{\"id\":\"7bf812b2-fee2-46af-8758-171ae3136be3\",\"type\":\"Selection\"},\"selection_policy\":{\"id\":\"c1db0df8-a083-4576-a32d-3fd92433635e\",\"type\":\"UnionRenderers\"}},\"id\":\"2754160e-1e6e-45c4-be96-ce598134e506\",\"type\":\"ColumnDataSource\"},{\"attributes\":{\"callback\":null,\"data\":{\"x\":{\"__ndarray__\":\"PeUybmRBiD881n+qVOmJP8oE+GbeWY0/2WvYRaB7kD90bA5IpVuSP9FH9MFpTZQ/JmLx+SBQlj88YEm8imKYP619dvMwh5o/UWoqEn2+nD8X0toI+wifP0u/78eDs6A/VfffgiDroT8wh7QxDwejP3SF/yYV6KM/hGYdbnyvpD+q4p1PCHqlPwnTwzdKSKY/R60u1Lgdpz/KQRv5I82nP75zgC6skag/5PlWGE3lpz8HInyUioOlPz9XmySbrqI/mSGFCx73nz9F1g4Z9tKaP7FibJYt7ZU/2+AIQT/FkT8hHL8dQVONP5HTNopcE4g/BwY7HZ0Qgz+y26X6LwN9P3AB/APHQHc/dtY43Q8hdT+lcYWHUvpzP7aIZbWhGHM/sxF4yUoicj/A4mN6rlpwP0tRFMuZJGw/oIScmijPZz/lb756Q4hjPytMrHpjgl4/pMA4DtQxVj9+xx491cBLP55BYE0/Xjs/hk1uFs/PQz9vkX3CXVtbP24/Z+dtT2k/WNobzR1rcj/qZ2ZpAfB3P1D9R2ZuTn0/mXhot+9OgT/qIC6dCuODPzZPTGahUYY/ytJrpua8iD+Jip4gAg+LP7gbARTBL40/kqdIFWRAjz+6R7XWt5aQPxMwzFbWbpE/mNf1elw8kj8awt45VfSSP26VuHIclpM/nIiqEn8xlD9ej5S9PbmUP6C+nfj1OZU/06l7wb+xlT82n3uW9RCWPzWp/+yCWpY/nqoiYwxolj94+NNMnDiWP9CxtjsB05U/Eu3Txz1KlT9UnHqwsL2UP/Tn0xFdI5Q/\",\"dtype\":\"float64\",\"shape\":[75]},\"y\":{\"__ndarray__\":\"GhExyth1ND/Sv8nbtpRIP2vylNV0PVE/aTum7souWD/At0SJ8fVgPw3Iuahxymc/MSNhhJWvcD/bTfBN02d3P2zb5nxnaoA/CD5h5MAGhz8NmeH1TyaQP+zrCsc9p5Y/LbKd76fGnz/bLW5ISEmmPww9YvTcQq8/JV2OstnstT8Er5Y7M8G+P0c+r3jqkcU/5h99k6ZBzj88bCIzFzjVP4enV8oyxN0//yH99nXg5D8qOpLLf0jtP5kqGJXUifQ/c9cS8kHP/D+/DpwzojQEQIEmwoanVwxA4lgXt9HgE0BSSZ2AJuIbQAMJih9jjiNA5q4l5INuK0AwTKYKRj0zQNv5fmq8/DpAaCJseHrtQkB/+zpwzoxKQM3MzMzMeFJAZmZmZmZqWEAAAAAAAFxeQM3MzMzMJmJAmpmZmZkfZUBmZmZmZhhoQDMzMzMzEWtAAAAAAAAKbkBmZmZmZoFwQM3MzMzM/XFAMzMzMzN6c0CamZmZmfZ0QAAAAAAAc3ZAZmZmZmbvd0DNzMzMzGt5QDMzMzMz6HpAmpmZmZlkfEAAAAAAAOF9QGZmZmZmXX9AZmZmZuZsgECamZmZGSuBQM3MzMxM6YFAAAAAAICngkAzMzMzs2WDQGZmZmbmI4RAmpmZmRnihEDNzMzMTKCFQAAAAACAXoZAMzMzM7Mch0BmZmZm5tqHQJqZmZkZmYhAzczMzExXiUAAAAAAgBWKQDMzMzOz04pAZmZmZuaRi0CamZmZGVCMQM3MzMxMDo1AAAAAAIDMjUAzMzMzs4qOQGZmZmbmSI9A\",\"dtype\":\"float64\",\"shape\":[75]}},\"selected\":{\"id\":\"7cc964fb-859a-46e4-b22b-85cc3627bcb6\",\"type\":\"Selection\"},\"selection_policy\":{\"id\":\"b85f3c6d-db36-4da0-9237-cf6e68c01b72\",\"type\":\"UnionRenderers\"}},\"id\":\"e6e2f431-74f0-4051-bc43-9c55e60ee5b0\",\"type\":\"ColumnDataSource\"},{\"attributes\":{},\"id\":\"af0721ff-1954-4c25-ab1e-f7c19163326a\",\"type\":\"UnionRenderers\"},{\"attributes\":{\"callback\":null,\"data\":{\"x\":{\"__ndarray__\":\"aW1o8XXwhj+jGgVaQ3CIP8aLInZ8jYs/B6jl9kzTjj8Sb4anQByRPzR1Tvbg3pI/1I2K1MuwlD+Yw6ZB1ZCWP8rXYnNTgZg/AfJGILKCmj98RXCJR5WcPzwf3iNquZ4/MozSBnN2oD+CcuwgA3ehP4aLrF66QaI/Kv3n3Rb0oj+Vh/jU4KejP6dRYexQXqQ/WJWKw60XpT/gQfmFuNOlPxIuOwugfqY/mWF/GfrzpT+Lgce79dSjPyw5+m3RUqE/mHleyEbdnT8bd+ORukyZP5SIqvRU8ZQ/U23U35s6kT9OT1UU5tiMPyuZ8eHHAYg/XyhQ2Ak+gz/og/ar5319P5T23bc2aHc/VKRkrY95dD8vgpTJQXFyP6aTCOSx23A/8CA5zn4Lbz/eWLBepmhrPxdCOSLKJ2c/sbaivyJHYz9Cb4OEa0pfP9xeN+xeUFg/XzLQZJ+BUT865w8G9q9FP4LM8tawTzY/4aSYBXlwQz8V/Kko+dpaP0xOJJKMh2g/HGiONWPKcT9qLxzg4y93P4DrXsBPdHw/W8DNn4TLgD/oVPZMJ0uDP4o7CCpit4U/wgGzC8oNiD8sZQwXA0uKP0YHbZZCa4w/BUZ/uJNqjj+6k39awiKQP+fXYvnr/JA/lmzNOgnDkT9lq6/U0XaSPyU6Llf9GZM/Lw6bAsGukz/yL6SwOzeUP577SXnItJQ/64agfNcmlT8+5kwhc4iVPw5e/RnTzJU/ihr1nRLhlT8cDevEKLqVP37K7M2aYZU/6tEkzbDslD/8SRiJl2yUPxyUnW8l6pM/\",\"dtype\":\"float64\",\"shape\":[75]},\"y\":{\"__ndarray__\":\"GhExyth1ND/Sv8nbtpRIP2vylNV0PVE/aTum7souWD/At0SJ8fVgPw3Iuahxymc/MSNhhJWvcD/bTfBN02d3P2zb5nxnaoA/CD5h5MAGhz8NmeH1TyaQP+zrCsc9p5Y/LbKd76fGnz/bLW5ISEmmPww9YvTcQq8/JV2OstnstT8Er5Y7M8G+P0c+r3jqkcU/5h99k6ZBzj88bCIzFzjVP4enV8oyxN0//yH99nXg5D8qOpLLf0jtP5kqGJXUifQ/c9cS8kHP/D+/DpwzojQEQIEmwoanVwxA4lgXt9HgE0BSSZ2AJuIbQAMJih9jjiNA5q4l5INuK0AwTKYKRj0zQNv5fmq8/DpAaCJseHrtQkB/+zpwzoxKQM3MzMzMeFJAZmZmZmZqWEAAAAAAAFxeQM3MzMzMJmJAmpmZmZkfZUBmZmZmZhhoQDMzMzMzEWtAAAAAAAAKbkBmZmZmZoFwQM3MzMzM/XFAMzMzMzN6c0CamZmZmfZ0QAAAAAAAc3ZAZmZmZmbvd0DNzMzMzGt5QDMzMzMz6HpAmpmZmZlkfEAAAAAAAOF9QGZmZmZmXX9AZmZmZuZsgECamZmZGSuBQM3MzMxM6YFAAAAAAICngkAzMzMzs2WDQGZmZmbmI4RAmpmZmRnihEDNzMzMTKCFQAAAAACAXoZAMzMzM7Mch0BmZmZm5tqHQJqZmZkZmYhAzczMzExXiUAAAAAAgBWKQDMzMzOz04pAZmZmZuaRi0CamZmZGVCMQM3MzMxMDo1AAAAAAIDMjUAzMzMzs4qOQGZmZmbmSI9A\",\"dtype\":\"float64\",\"shape\":[75]}},\"selected\":{\"id\":\"71728b41-6fd8-43e5-b9a8-015477c72983\",\"type\":\"Selection\"},\"selection_policy\":{\"id\":\"d5f95f4e-b308-47c8-a92b-343c218b917b\",\"type\":\"UnionRenderers\"}},\"id\":\"acca85ef-8331-4921-a0b5-d38256f70143\",\"type\":\"ColumnDataSource\"},{\"attributes\":{},\"id\":\"07023922-1336-4a20-b900-adbd28233c29\",\"type\":\"ResetTool\"},{\"attributes\":{\"line_alpha\":0.1,\"line_color\":\"#1f77b4\",\"line_width\":2,\"x\":{\"field\":\"x\"},\"y\":{\"field\":\"y\"}},\"id\":\"688b15cb-126b-449a-a974-9d3e34c57180\",\"type\":\"Line\"},{\"attributes\":{\"source\":{\"id\":\"b0e4e86b-d067-474d-ae76-a5cdbd9541dd\",\"type\":\"ColumnDataSource\"}},\"id\":\"878befac-2ff1-4883-a217-833f1e75e1b8\",\"type\":\"CDSView\"},{\"attributes\":{\"bottom_units\":\"screen\",\"fill_alpha\":{\"value\":0.5},\"fill_color\":{\"value\":\"lightgrey\"},\"left_units\":\"screen\",\"level\":\"overlay\",\"line_alpha\":{\"value\":1.0},\"line_color\":{\"value\":\"black\"},\"line_dash\":[4,4],\"line_width\":{\"value\":2},\"plot\":null,\"render_mode\":\"css\",\"right_units\":\"screen\",\"top_units\":\"screen\"},\"id\":\"fb06697e-38f6-4e0b-af8e-6ec01120d77a\",\"type\":\"BoxAnnotation\"},{\"attributes\":{\"source\":{\"id\":\"2754160e-1e6e-45c4-be96-ce598134e506\",\"type\":\"ColumnDataSource\"}},\"id\":\"604de23d-8d7d-41df-912d-50cf08b7ed75\",\"type\":\"CDSView\"},{\"attributes\":{\"line_alpha\":0.3,\"line_color\":\"#377eb8\",\"line_width\":2,\"x\":{\"field\":\"x\"},\"y\":{\"field\":\"y\"}},\"id\":\"0f4a162a-a4f4-43be-b82a-5f4e46c83c58\",\"type\":\"Line\"},{\"attributes\":{\"line_alpha\":0.1,\"line_color\":\"#1f77b4\",\"line_width\":3,\"x\":{\"field\":\"x\"},\"y\":{\"field\":\"y\"}},\"id\":\"236a9f56-6bfb-49d7-a313-d9efb75dd8c2\",\"type\":\"Line\"},{\"attributes\":{\"data_source\":{\"id\":\"e6e2f431-74f0-4051-bc43-9c55e60ee5b0\",\"type\":\"ColumnDataSource\"},\"glyph\":{\"id\":\"66697774-db8a-47ff-b77d-a4a377f589db\",\"type\":\"Line\"},\"hover_glyph\":null,\"muted_glyph\":null,\"nonselection_glyph\":{\"id\":\"236a9f56-6bfb-49d7-a313-d9efb75dd8c2\",\"type\":\"Line\"},\"selection_glyph\":null,\"view\":{\"id\":\"83c1b1e3-a258-46b8-9ebd-677d55617c68\",\"type\":\"CDSView\"}},\"id\":\"61a4222f-d2b1-421c-aca3-a5958702d9ae\",\"type\":\"GlyphRenderer\"},{\"attributes\":{\"children\":[{\"id\":\"43d79d20-1048-44e4-bf6e-96363f0c963a\",\"type\":\"Row\"}]},\"id\":\"242d27e7-0cb4-4398-ad04-3cb248b6977a\",\"type\":\"Column\"},{\"attributes\":{\"fill_alpha\":{\"value\":0.1},\"fill_color\":{\"value\":\"#1f77b4\"},\"line_alpha\":{\"value\":0.1},\"line_color\":{\"value\":\"#1f77b4\"},\"x\":{\"field\":\"x\"},\"y\":{\"field\":\"y\"}},\"id\":\"052dac8d-161f-4be8-8299-22c0777eb1b2\",\"type\":\"Triangle\"},{\"attributes\":{\"fill_alpha\":{\"value\":0.7},\"fill_color\":{\"value\":\"#377eb8\"},\"line_alpha\":{\"value\":0.7},\"line_color\":{\"value\":\"#377eb8\"},\"x\":{\"field\":\"x\"},\"y\":{\"field\":\"y\"}},\"id\":\"676af7f3-0ae9-4c33-abba-d19d9008adb0\",\"type\":\"Triangle\"},{\"attributes\":{\"fill_alpha\":{\"value\":0.1},\"fill_color\":{\"value\":\"#1f77b4\"},\"line_alpha\":{\"value\":0.1},\"line_color\":{\"value\":\"#1f77b4\"},\"x\":{\"field\":\"x\"},\"y\":{\"field\":\"y\"}},\"id\":\"939afb71-33c0-4d81-ad13-2dafe180c6cf\",\"type\":\"Square\"},{\"attributes\":{\"source\":{\"id\":\"acca85ef-8331-4921-a0b5-d38256f70143\",\"type\":\"ColumnDataSource\"}},\"id\":\"75cb9aa8-0302-4dc1-849e-2da1fbc46217\",\"type\":\"CDSView\"},{\"attributes\":{\"data_source\":{\"id\":\"2754160e-1e6e-45c4-be96-ce598134e506\",\"type\":\"ColumnDataSource\"},\"glyph\":{\"id\":\"0f4a162a-a4f4-43be-b82a-5f4e46c83c58\",\"type\":\"Line\"},\"hover_glyph\":null,\"muted_glyph\":null,\"nonselection_glyph\":{\"id\":\"688b15cb-126b-449a-a974-9d3e34c57180\",\"type\":\"Line\"},\"selection_glyph\":null,\"view\":{\"id\":\"604de23d-8d7d-41df-912d-50cf08b7ed75\",\"type\":\"CDSView\"}},\"id\":\"6f172a64-c525-480b-8151-46afe8afd1b7\",\"type\":\"GlyphRenderer\"},{\"attributes\":{\"items\":[{\"id\":\"7d74fffa-9754-43f5-81d5-72371d42d959\",\"type\":\"LegendItem\"},{\"id\":\"f5e7d715-ffc8-492b-a314-71f1ad0e9a0b\",\"type\":\"LegendItem\"},{\"id\":\"c442a2dd-16a1-419c-9301-50066891f49a\",\"type\":\"LegendItem\"}],\"label_text_font_size\":{\"value\":\"8pt\"},\"location\":\"top_center\",\"orientation\":\"horizontal\",\"plot\":{\"id\":\"e0ad2ba8-23c9-4652-97fe-c4630233e658\",\"subtype\":\"Figure\",\"type\":\"Plot\"}},\"id\":\"8f77b496-b197-48b4-a1bb-b9e9244e57df\",\"type\":\"Legend\"},{\"attributes\":{},\"id\":\"658246d9-f93a-4d07-94c1-b060166fbab3\",\"type\":\"Selection\"},{\"attributes\":{\"callback\":null,\"end\":0.048898912531678,\"start\":0.001444594540522},\"id\":\"5186742c-a840-4bba-8395-12404b9c1ada\",\"type\":\"Range1d\"},{\"attributes\":{\"callback\":null,\"data\":{\"x\":{\"__ndarray__\":\"PeUybmRBiD881n+qVOmJP8oE+GbeWY0/2WvYRaB7kD90bA5IpVuSP9FH9MFpTZQ/JmLx+SBQlj88YEm8imKYP619dvMwh5o/UWoqEn2+nD8X0toI+wifP0u/78eDs6A/VfffgiDroT8wh7QxDwejP3SF/yYV6KM/hGYdbnyvpD+q4p1PCHqlPwnTwzdKSKY/R60u1Lgdpz/KQRv5I82nP75zgC6skag/5PlWGE3lpz8HInyUioOlPz9XmySbrqI/mSGFCx73nz9F1g4Z9tKaP7FibJYt7ZU/2+AIQT/FkT8hHL8dQVONP5HTNopcE4g/BwY7HZ0Qgz+y26X6LwN9P3AB/APHQHc/dtY43Q8hdT+lcYWHUvpzP7aIZbWhGHM/sxF4yUoicj/A4mN6rlpwP0tRFMuZJGw/oIScmijPZz/lb756Q4hjPytMrHpjgl4/pMA4DtQxVj9+xx491cBLP55BYE0/Xjs/hk1uFs/PQz9vkX3CXVtbP24/Z+dtT2k/WNobzR1rcj/qZ2ZpAfB3P1D9R2ZuTn0/mXhot+9OgT/qIC6dCuODPzZPTGahUYY/ytJrpua8iD+Jip4gAg+LP7gbARTBL40/kqdIFWRAjz+6R7XWt5aQPxMwzFbWbpE/mNf1elw8kj8awt45VfSSP26VuHIclpM/nIiqEn8xlD9ej5S9PbmUP6C+nfj1OZU/06l7wb+xlT82n3uW9RCWPzWp/+yCWpY/nqoiYwxolj94+NNMnDiWP9CxtjsB05U/Eu3Txz1KlT9UnHqwsL2UP/Tn0xFdI5Q/\",\"dtype\":\"float64\",\"shape\":[75]},\"y\":{\"__ndarray__\":\"GhExyth1ND/Sv8nbtpRIP2vylNV0PVE/aTum7souWD/At0SJ8fVgPw3Iuahxymc/MSNhhJWvcD/bTfBN02d3P2zb5nxnaoA/CD5h5MAGhz8NmeH1TyaQP+zrCsc9p5Y/LbKd76fGnz/bLW5ISEmmPww9YvTcQq8/JV2OstnstT8Er5Y7M8G+P0c+r3jqkcU/5h99k6ZBzj88bCIzFzjVP4enV8oyxN0//yH99nXg5D8qOpLLf0jtP5kqGJXUifQ/c9cS8kHP/D+/DpwzojQEQIEmwoanVwxA4lgXt9HgE0BSSZ2AJuIbQAMJih9jjiNA5q4l5INuK0AwTKYKRj0zQNv5fmq8/DpAaCJseHrtQkB/+zpwzoxKQM3MzMzMeFJAZmZmZmZqWEAAAAAAAFxeQM3MzMzMJmJAmpmZmZkfZUBmZmZmZhhoQDMzMzMzEWtAAAAAAAAKbkBmZmZmZoFwQM3MzMzM/XFAMzMzMzN6c0CamZmZmfZ0QAAAAAAAc3ZAZmZmZmbvd0DNzMzMzGt5QDMzMzMz6HpAmpmZmZlkfEAAAAAAAOF9QGZmZmZmXX9AZmZmZuZsgECamZmZGSuBQM3MzMxM6YFAAAAAAICngkAzMzMzs2WDQGZmZmbmI4RAmpmZmRnihEDNzMzMTKCFQAAAAACAXoZAMzMzM7Mch0BmZmZm5tqHQJqZmZkZmYhAzczMzExXiUAAAAAAgBWKQDMzMzOz04pAZmZmZuaRi0CamZmZGVCMQM3MzMxMDo1AAAAAAIDMjUAzMzMzs4qOQGZmZmbmSI9A\",\"dtype\":\"float64\",\"shape\":[75]}},\"selected\":{\"id\":\"dc0f5145-b662-4825-bac5-b95e746884c2\",\"type\":\"Selection\"},\"selection_policy\":{\"id\":\"679f0e51-7a94-4780-b585-f5c143c42dea\",\"type\":\"UnionRenderers\"}},\"id\":\"c73dd500-4ce9-4f9e-8b92-731c74c3f7c8\",\"type\":\"ColumnDataSource\"},{\"attributes\":{\"fill_alpha\":{\"value\":0.1},\"fill_color\":{\"value\":\"#1f77b4\"},\"line_alpha\":{\"value\":0.1},\"line_color\":{\"value\":\"#1f77b4\"},\"x\":{\"field\":\"x\"},\"y\":{\"field\":\"y\"}},\"id\":\"cd64edf9-181a-4766-a8d5-0a092fb625bd\",\"type\":\"Circle\"},{\"attributes\":{\"fill_alpha\":{\"value\":0.7},\"fill_color\":{\"value\":\"#4daf4a\"},\"line_alpha\":{\"value\":0.7},\"line_color\":{\"value\":\"#4daf4a\"},\"x\":{\"field\":\"x\"},\"y\":{\"field\":\"y\"}},\"id\":\"30218366-4132-4828-a3cc-83e51d2c1bea\",\"type\":\"Circle\"},{\"attributes\":{\"data_source\":{\"id\":\"4198c66d-5da3-4c78-8540-e20b735e9ce9\",\"type\":\"ColumnDataSource\"},\"glyph\":{\"id\":\"30218366-4132-4828-a3cc-83e51d2c1bea\",\"type\":\"Circle\"},\"hover_glyph\":null,\"muted_glyph\":null,\"nonselection_glyph\":{\"id\":\"cd64edf9-181a-4766-a8d5-0a092fb625bd\",\"type\":\"Circle\"},\"selection_glyph\":null,\"view\":{\"id\":\"59efc22e-e3c1-4e09-b041-ca2f0d820cfd\",\"type\":\"CDSView\"}},\"id\":\"fc0022fd-99f5-45df-a613-f00ac508b73f\",\"type\":\"GlyphRenderer\"},{\"attributes\":{},\"id\":\"29cf81da-8064-4799-a4d3-e5843e5cce06\",\"type\":\"Selection\"},{\"attributes\":{\"callback\":null,\"data\":{\"x\":{\"__ndarray__\":\"X5rEJZ8PhD+drlAJn+qFP6P4kcPLxok/U1IvdiDVjT9D2NIAbgWRPyvTUH4ENJM/td41H+d1lT/5CKgV7MmXP8txQgN8Mpo/No3LMACwnD94zO8t6D+fP9Bp2OIK8KA/GZOdL9hGoj/U1pCe0nqjP3Simp+NZqQ/+nw0VssvpT9v55LNcfSlP+zA6zQttqY/BFtWtldzpz+Dhf82Ty2oPwK1vWxMzKg/VbyCw/Dmpz/f/BVZQw6lP1Dx5HmyyKE/Tg8L+ryBnT8/bytLbPmXP+6pDc8jAZM/mSDCjL9Ajj+UtBWC6DuJP/jW4laFiIU/VsiVvL0cgj9mOZp1l+N9P/KxnN4nj3o/7bHe6BNIej8LifzJl+B5P8I3qG4dn3g/FBhrLmmbdj/inVZUHYxzP474uFFuCXA/A/AodCu7aT9+fXZ6Y+FjP2iXpPruo1w/tCD/X+O7UT/4WtzC59g6PxC67e8tRCm/CFQi9KA/F7/uyXee2nRQPyiVlJA5CGQ/fvp8CdZubz+mR6teUyp1PzHP1Er8aHo/bg62Rpl6fz84qp+BbzGCP/UEhjzYkIQ/xvGKrS/ahj84qn/3VwqJPx5VryuYHYs/bGYEJ8YPjT9kuFOH9dyOP5CR3xOCQZA/sPSdSzsAkT+cTUm/uqyRP5JrdzM3SZI/Njc7SoHYkj8LyntZW12TP51Aodeu2ZM/dFdX0SdNlD+v1MJLwbGUP2AQxoxG95Q/daTDB08FlT+ZyI+/Gs2UP6bQ1tk5WpQ/ahEF1CXHkz8thXnKYiiTP0I4BJJWh5I/\",\"dtype\":\"float64\",\"shape\":[75]},\"y\":{\"__ndarray__\":\"GhExyth1ND/Sv8nbtpRIP2vylNV0PVE/aTum7souWD/At0SJ8fVgPw3Iuahxymc/MSNhhJWvcD/bTfBN02d3P2zb5nxnaoA/CD5h5MAGhz8NmeH1TyaQP+zrCsc9p5Y/LbKd76fGnz/bLW5ISEmmPww9YvTcQq8/JV2OstnstT8Er5Y7M8G+P0c+r3jqkcU/5h99k6ZBzj88bCIzFzjVP4enV8oyxN0//yH99nXg5D8qOpLLf0jtP5kqGJXUifQ/c9cS8kHP/D+/DpwzojQEQIEmwoanVwxA4lgXt9HgE0BSSZ2AJuIbQAMJih9jjiNA5q4l5INuK0AwTKYKRj0zQNv5fmq8/DpAaCJseHrtQkB/+zpwzoxKQM3MzMzMeFJAZmZmZmZqWEAAAAAAAFxeQM3MzMzMJmJAmpmZmZkfZUBmZmZmZhhoQDMzMzMzEWtAAAAAAAAKbkBmZmZmZoFwQM3MzMzM/XFAMzMzMzN6c0CamZmZmfZ0QAAAAAAAc3ZAZmZmZmbvd0DNzMzMzGt5QDMzMzMz6HpAmpmZmZlkfEAAAAAAAOF9QGZmZmZmXX9AZmZmZuZsgECamZmZGSuBQM3MzMxM6YFAAAAAAICngkAzMzMzs2WDQGZmZmbmI4RAmpmZmRnihEDNzMzMTKCFQAAAAACAXoZAMzMzM7Mch0BmZmZm5tqHQJqZmZkZmYhAzczMzExXiUAAAAAAgBWKQDMzMzOz04pAZmZmZuaRi0CamZmZGVCMQM3MzMxMDo1AAAAAAIDMjUAzMzMzs4qOQGZmZmbmSI9A\",\"dtype\":\"float64\",\"shape\":[75]}},\"selected\":{\"id\":\"658246d9-f93a-4d07-94c1-b060166fbab3\",\"type\":\"Selection\"},\"selection_policy\":{\"id\":\"af0721ff-1954-4c25-ab1e-f7c19163326a\",\"type\":\"UnionRenderers\"}},\"id\":\"745c286c-fdcc-45d9-a3a9-e59bc07580b7\",\"type\":\"ColumnDataSource\"},{\"attributes\":{\"source\":{\"id\":\"745c286c-fdcc-45d9-a3a9-e59bc07580b7\",\"type\":\"ColumnDataSource\"}},\"id\":\"a96d921c-d521-4090-b9a7-e3b260705e18\",\"type\":\"CDSView\"},{\"attributes\":{\"source\":{\"id\":\"89607e1e-4c12-4247-8d38-af5ad21301ed\",\"type\":\"ColumnDataSource\"}},\"id\":\"d03122ab-794a-4476-92c7-f850d74312f3\",\"type\":\"CDSView\"},{\"attributes\":{\"data_source\":{\"id\":\"745c286c-fdcc-45d9-a3a9-e59bc07580b7\",\"type\":\"ColumnDataSource\"},\"glyph\":{\"id\":\"3cff7289-f729-46ad-ab29-68b060ab9114\",\"type\":\"Line\"},\"hover_glyph\":null,\"muted_glyph\":null,\"nonselection_glyph\":{\"id\":\"945de8c1-2706-4b9b-89d4-fe2eedab6002\",\"type\":\"Line\"},\"selection_glyph\":null,\"view\":{\"id\":\"a96d921c-d521-4090-b9a7-e3b260705e18\",\"type\":\"CDSView\"}},\"id\":\"bda797bf-4159-4c97-a4fa-c26af975843d\",\"type\":\"GlyphRenderer\"},{\"attributes\":{\"data_source\":{\"id\":\"89607e1e-4c12-4247-8d38-af5ad21301ed\",\"type\":\"ColumnDataSource\"},\"glyph\":{\"id\":\"2f068597-0497-42b1-8518-3523e36a2c52\",\"type\":\"Square\"},\"hover_glyph\":null,\"muted_glyph\":null,\"nonselection_glyph\":{\"id\":\"939afb71-33c0-4d81-ad13-2dafe180c6cf\",\"type\":\"Square\"},\"selection_glyph\":null,\"view\":{\"id\":\"d03122ab-794a-4476-92c7-f850d74312f3\",\"type\":\"CDSView\"}},\"id\":\"33d9aab6-c682-4758-a5b3-8cc0f5a3ee39\",\"type\":\"GlyphRenderer\"},{\"attributes\":{\"callback\":null,\"end\":0.01,\"start\":1020},\"id\":\"0c7abc61-3b68-4bdc-ba4a-eab5c9b48159\",\"type\":\"Range1d\"},{\"attributes\":{\"fill_alpha\":{\"value\":0.7},\"fill_color\":{\"value\":\"#984ea3\"},\"line_alpha\":{\"value\":0.7},\"line_color\":{\"value\":\"#984ea3\"},\"x\":{\"field\":\"x\"},\"y\":{\"field\":\"y\"}},\"id\":\"2f068597-0497-42b1-8518-3523e36a2c52\",\"type\":\"Square\"},{\"attributes\":{\"data_source\":{\"id\":\"c73dd500-4ce9-4f9e-8b92-731c74c3f7c8\",\"type\":\"ColumnDataSource\"},\"glyph\":{\"id\":\"9fc797e0-f636-493b-87ca-59682dfe3a30\",\"type\":\"Line\"},\"hover_glyph\":null,\"muted_glyph\":null,\"nonselection_glyph\":{\"id\":\"4a9633b6-20ed-4b39-86f3-9ef21ce1dce3\",\"type\":\"Line\"},\"selection_glyph\":null,\"view\":{\"id\":\"3605d2e5-7d92-44cb-b4f6-a3da4d11ef37\",\"type\":\"CDSView\"}},\"id\":\"c331ee68-0bc1-4d0c-a873-abd01cdb8a41\",\"type\":\"GlyphRenderer\"},{\"attributes\":{\"callback\":null,\"data\":{\"x\":{\"__ndarray__\":\"X5rEJZ8PhD+drlAJn+qFP6P4kcPLxok/U1IvdiDVjT9D2NIAbgWRPyvTUH4ENJM/td41H+d1lT/5CKgV7MmXP8txQgN8Mpo/No3LMACwnD94zO8t6D+fP9Bp2OIK8KA/GZOdL9hGoj/U1pCe0nqjP3Simp+NZqQ/+nw0VssvpT9v55LNcfSlP+zA6zQttqY/BFtWtldzpz+Dhf82Ty2oPwK1vWxMzKg/VbyCw/Dmpz/f/BVZQw6lP1Dx5HmyyKE/Tg8L+ryBnT8/bytLbPmXP+6pDc8jAZM/mSDCjL9Ajj+UtBWC6DuJP/jW4laFiIU/VsiVvL0cgj9mOZp1l+N9P/KxnN4nj3o/7bHe6BNIej8LifzJl+B5P8I3qG4dn3g/FBhrLmmbdj/inVZUHYxzP474uFFuCXA/A/AodCu7aT9+fXZ6Y+FjP2iXpPruo1w/tCD/X+O7UT/4WtzC59g6PxC67e8tRCm/CFQi9KA/F7/uyXee2nRQPyiVlJA5CGQ/fvp8CdZubz+mR6teUyp1PzHP1Er8aHo/bg62Rpl6fz84qp+BbzGCP/UEhjzYkIQ/xvGKrS/ahj84qn/3VwqJPx5VryuYHYs/bGYEJ8YPjT9kuFOH9dyOP5CR3xOCQZA/sPSdSzsAkT+cTUm/uqyRP5JrdzM3SZI/Njc7SoHYkj8LyntZW12TP51Aodeu2ZM/dFdX0SdNlD+v1MJLwbGUP2AQxoxG95Q/daTDB08FlT+ZyI+/Gs2UP6bQ1tk5WpQ/ahEF1CXHkz8thXnKYiiTP0I4BJJWh5I/\",\"dtype\":\"float64\",\"shape\":[75]},\"y\":{\"__ndarray__\":\"GhExyth1ND/Sv8nbtpRIP2vylNV0PVE/aTum7souWD/At0SJ8fVgPw3Iuahxymc/MSNhhJWvcD/bTfBN02d3P2zb5nxnaoA/CD5h5MAGhz8NmeH1TyaQP+zrCsc9p5Y/LbKd76fGnz/bLW5ISEmmPww9YvTcQq8/JV2OstnstT8Er5Y7M8G+P0c+r3jqkcU/5h99k6ZBzj88bCIzFzjVP4enV8oyxN0//yH99nXg5D8qOpLLf0jtP5kqGJXUifQ/c9cS8kHP/D+/DpwzojQEQIEmwoanVwxA4lgXt9HgE0BSSZ2AJuIbQAMJih9jjiNA5q4l5INuK0AwTKYKRj0zQNv5fmq8/DpAaCJseHrtQkB/+zpwzoxKQM3MzMzMeFJAZmZmZmZqWEAAAAAAAFxeQM3MzMzMJmJAmpmZmZkfZUBmZmZmZhhoQDMzMzMzEWtAAAAAAAAKbkBmZmZmZoFwQM3MzMzM/XFAMzMzMzN6c0CamZmZmfZ0QAAAAAAAc3ZAZmZmZmbvd0DNzMzMzGt5QDMzMzMz6HpAmpmZmZlkfEAAAAAAAOF9QGZmZmZmXX9AZmZmZuZsgECamZmZGSuBQM3MzMxM6YFAAAAAAICngkAzMzMzs2WDQGZmZmbmI4RAmpmZmRnihEDNzMzMTKCFQAAAAACAXoZAMzMzM7Mch0BmZmZm5tqHQJqZmZkZmYhAzczMzExXiUAAAAAAgBWKQDMzMzOz04pAZmZmZuaRi0CamZmZGVCMQM3MzMxMDo1AAAAAAIDMjUAzMzMzs4qOQGZmZmbmSI9A\",\"dtype\":\"float64\",\"shape\":[75]}},\"selected\":{\"id\":\"dc94b4ab-87b3-41c1-b056-479b62a0b9bb\",\"type\":\"Selection\"},\"selection_policy\":{\"id\":\"1509bbff-0222-4f3c-bde8-7d541cb37770\",\"type\":\"UnionRenderers\"}},\"id\":\"b54fc539-680d-4c38-8ef5-c08b745dad5c\",\"type\":\"ColumnDataSource\"},{\"attributes\":{\"callback\":null,\"data\":{\"x\":{\"__ndarray__\":\"PeUybmRBiD881n+qVOmJP8oE+GbeWY0/2WvYRaB7kD90bA5IpVuSP9FH9MFpTZQ/JmLx+SBQlj88YEm8imKYP619dvMwh5o/UWoqEn2+nD8X0toI+wifP0u/78eDs6A/VfffgiDroT8wh7QxDwejP3SF/yYV6KM/hGYdbnyvpD+q4p1PCHqlPwnTwzdKSKY/R60u1Lgdpz/KQRv5I82nP75zgC6skag/5PlWGE3lpz8HInyUioOlPz9XmySbrqI/mSGFCx73nz9F1g4Z9tKaP7FibJYt7ZU/2+AIQT/FkT8hHL8dQVONP5HTNopcE4g/BwY7HZ0Qgz+y26X6LwN9P3AB/APHQHc/dtY43Q8hdT+lcYWHUvpzP7aIZbWhGHM/sxF4yUoicj/A4mN6rlpwP0tRFMuZJGw/oIScmijPZz/lb756Q4hjPytMrHpjgl4/pMA4DtQxVj9+xx491cBLP55BYE0/Xjs/hk1uFs/PQz9vkX3CXVtbP24/Z+dtT2k/WNobzR1rcj/qZ2ZpAfB3P1D9R2ZuTn0/mXhot+9OgT/qIC6dCuODPzZPTGahUYY/ytJrpua8iD+Jip4gAg+LP7gbARTBL40/kqdIFWRAjz+6R7XWt5aQPxMwzFbWbpE/mNf1elw8kj8awt45VfSSP26VuHIclpM/nIiqEn8xlD9ej5S9PbmUP6C+nfj1OZU/06l7wb+xlT82n3uW9RCWPzWp/+yCWpY/nqoiYwxolj94+NNMnDiWP9CxtjsB05U/Eu3Txz1KlT9UnHqwsL2UP/Tn0xFdI5Q/\",\"dtype\":\"float64\",\"shape\":[75]},\"y\":{\"__ndarray__\":\"GhExyth1ND/Sv8nbtpRIP2vylNV0PVE/aTum7souWD/At0SJ8fVgPw3Iuahxymc/MSNhhJWvcD/bTfBN02d3P2zb5nxnaoA/CD5h5MAGhz8NmeH1TyaQP+zrCsc9p5Y/LbKd76fGnz/bLW5ISEmmPww9YvTcQq8/JV2OstnstT8Er5Y7M8G+P0c+r3jqkcU/5h99k6ZBzj88bCIzFzjVP4enV8oyxN0//yH99nXg5D8qOpLLf0jtP5kqGJXUifQ/c9cS8kHP/D+/DpwzojQEQIEmwoanVwxA4lgXt9HgE0BSSZ2AJuIbQAMJih9jjiNA5q4l5INuK0AwTKYKRj0zQNv5fmq8/DpAaCJseHrtQkB/+zpwzoxKQM3MzMzMeFJAZmZmZmZqWEAAAAAAAFxeQM3MzMzMJmJAmpmZmZkfZUBmZmZmZhhoQDMzMzMzEWtAAAAAAAAKbkBmZmZmZoFwQM3MzMzM/XFAMzMzMzN6c0CamZmZmfZ0QAAAAAAAc3ZAZmZmZmbvd0DNzMzMzGt5QDMzMzMz6HpAmpmZmZlkfEAAAAAAAOF9QGZmZmZmXX9AZmZmZuZsgECamZmZGSuBQM3MzMxM6YFAAAAAAICngkAzMzMzs2WDQGZmZmbmI4RAmpmZmRnihEDNzMzMTKCFQAAAAACAXoZAMzMzM7Mch0BmZmZm5tqHQJqZmZkZmYhAzczMzExXiUAAAAAAgBWKQDMzMzOz04pAZmZmZuaRi0CamZmZGVCMQM3MzMxMDo1AAAAAAIDMjUAzMzMzs4qOQGZmZmbmSI9A\",\"dtype\":\"float64\",\"shape\":[75]}},\"selected\":{\"id\":\"29cf81da-8064-4799-a4d3-e5843e5cce06\",\"type\":\"Selection\"},\"selection_policy\":{\"id\":\"9c7c46ac-cbd4-40c4-a307-1a5f4daf7664\",\"type\":\"UnionRenderers\"}},\"id\":\"89607e1e-4c12-4247-8d38-af5ad21301ed\",\"type\":\"ColumnDataSource\"},{\"attributes\":{\"line_alpha\":0.6,\"line_color\":\"#984ea3\",\"line_width\":3,\"x\":{\"field\":\"x\"},\"y\":{\"field\":\"y\"}},\"id\":\"9fc797e0-f636-493b-87ca-59682dfe3a30\",\"type\":\"Line\"},{\"attributes\":{},\"id\":\"9c7c46ac-cbd4-40c4-a307-1a5f4daf7664\",\"type\":\"UnionRenderers\"},{\"attributes\":{\"line_alpha\":0.1,\"line_color\":\"#1f77b4\",\"line_width\":3,\"x\":{\"field\":\"x\"},\"y\":{\"field\":\"y\"}},\"id\":\"4a9633b6-20ed-4b39-86f3-9ef21ce1dce3\",\"type\":\"Line\"},{\"attributes\":{\"fill_alpha\":{\"value\":0.1},\"fill_color\":{\"value\":\"#1f77b4\"},\"line_alpha\":{\"value\":0.1},\"line_color\":{\"value\":\"#1f77b4\"},\"x\":{\"field\":\"x\"},\"y\":{\"field\":\"y\"}},\"id\":\"2fa3bdd6-8fcc-448c-9fb6-ee9e705b5c58\",\"type\":\"Triangle\"},{\"attributes\":{\"callback\":null,\"data\":{\"x\":{\"__ndarray__\":\"aW1o8XXwhj+jGgVaQ3CIP8aLInZ8jYs/B6jl9kzTjj8Sb4anQByRPzR1Tvbg3pI/1I2K1MuwlD+Yw6ZB1ZCWP8rXYnNTgZg/AfJGILKCmj98RXCJR5WcPzwf3iNquZ4/MozSBnN2oD+CcuwgA3ehP4aLrF66QaI/Kv3n3Rb0oj+Vh/jU4KejP6dRYexQXqQ/WJWKw60XpT/gQfmFuNOlPxIuOwugfqY/mWF/GfrzpT+Lgce79dSjPyw5+m3RUqE/mHleyEbdnT8bd+ORukyZP5SIqvRU8ZQ/U23U35s6kT9OT1UU5tiMPyuZ8eHHAYg/XyhQ2Ak+gz/og/ar5319P5T23bc2aHc/VKRkrY95dD8vgpTJQXFyP6aTCOSx23A/8CA5zn4Lbz/eWLBepmhrPxdCOSLKJ2c/sbaivyJHYz9Cb4OEa0pfP9xeN+xeUFg/XzLQZJ+BUT865w8G9q9FP4LM8tawTzY/4aSYBXlwQz8V/Kko+dpaP0xOJJKMh2g/HGiONWPKcT9qLxzg4y93P4DrXsBPdHw/W8DNn4TLgD/oVPZMJ0uDP4o7CCpit4U/wgGzC8oNiD8sZQwXA0uKP0YHbZZCa4w/BUZ/uJNqjj+6k39awiKQP+fXYvnr/JA/lmzNOgnDkT9lq6/U0XaSPyU6Llf9GZM/Lw6bAsGukz/yL6SwOzeUP577SXnItJQ/64agfNcmlT8+5kwhc4iVPw5e/RnTzJU/ihr1nRLhlT8cDevEKLqVP37K7M2aYZU/6tEkzbDslD/8SRiJl2yUPxyUnW8l6pM/\",\"dtype\":\"float64\",\"shape\":[75]},\"y\":{\"__ndarray__\":\"GhExyth1ND/Sv8nbtpRIP2vylNV0PVE/aTum7souWD/At0SJ8fVgPw3Iuahxymc/MSNhhJWvcD/bTfBN02d3P2zb5nxnaoA/CD5h5MAGhz8NmeH1TyaQP+zrCsc9p5Y/LbKd76fGnz/bLW5ISEmmPww9YvTcQq8/JV2OstnstT8Er5Y7M8G+P0c+r3jqkcU/5h99k6ZBzj88bCIzFzjVP4enV8oyxN0//yH99nXg5D8qOpLLf0jtP5kqGJXUifQ/c9cS8kHP/D+/DpwzojQEQIEmwoanVwxA4lgXt9HgE0BSSZ2AJuIbQAMJih9jjiNA5q4l5INuK0AwTKYKRj0zQNv5fmq8/DpAaCJseHrtQkB/+zpwzoxKQM3MzMzMeFJAZmZmZmZqWEAAAAAAAFxeQM3MzMzMJmJAmpmZmZkfZUBmZmZmZhhoQDMzMzMzEWtAAAAAAAAKbkBmZmZmZoFwQM3MzMzM/XFAMzMzMzN6c0CamZmZmfZ0QAAAAAAAc3ZAZmZmZmbvd0DNzMzMzGt5QDMzMzMz6HpAmpmZmZlkfEAAAAAAAOF9QGZmZmZmXX9AZmZmZuZsgECamZmZGSuBQM3MzMxM6YFAAAAAAICngkAzMzMzs2WDQGZmZmbmI4RAmpmZmRnihEDNzMzMTKCFQAAAAACAXoZAMzMzM7Mch0BmZmZm5tqHQJqZmZkZmYhAzczMzExXiUAAAAAAgBWKQDMzMzOz04pAZmZmZuaRi0CamZmZGVCMQM3MzMxMDo1AAAAAAIDMjUAzMzMzs4qOQGZmZmbmSI9A\",\"dtype\":\"float64\",\"shape\":[75]}},\"selected\":{\"id\":\"f68e5990-ae79-42c5-9bc6-ba2d528a49f7\",\"type\":\"Selection\"},\"selection_policy\":{\"id\":\"55a7f579-a42a-4fe3-8d62-72c380a18e0c\",\"type\":\"UnionRenderers\"}},\"id\":\"2155e944-521f-4c0b-ba5d-045da55cf412\",\"type\":\"ColumnDataSource\"},{\"attributes\":{\"line_alpha\":0.1,\"line_color\":\"#1f77b4\",\"line_width\":1.5,\"x\":{\"field\":\"x\"},\"y\":{\"field\":\"y\"}},\"id\":\"945de8c1-2706-4b9b-89d4-fe2eedab6002\",\"type\":\"Line\"},{\"attributes\":{\"source\":{\"id\":\"c73dd500-4ce9-4f9e-8b92-731c74c3f7c8\",\"type\":\"ColumnDataSource\"}},\"id\":\"3605d2e5-7d92-44cb-b4f6-a3da4d11ef37\",\"type\":\"CDSView\"},{\"attributes\":{\"fill_alpha\":{\"value\":0.7},\"fill_color\":{\"value\":\"#377eb8\"},\"line_alpha\":{\"value\":0.7},\"line_color\":{\"value\":\"#377eb8\"},\"x\":{\"field\":\"x\"},\"y\":{\"field\":\"y\"}},\"id\":\"ecacbbeb-f759-4241-a083-6805071249f8\",\"type\":\"Triangle\"},{\"attributes\":{\"callback\":null,\"data\":{\"x\":{\"__ndarray__\":\"aW1o8XXwhj+jGgVaQ3CIP8aLInZ8jYs/B6jl9kzTjj8Sb4anQByRPzR1Tvbg3pI/1I2K1MuwlD+Yw6ZB1ZCWP8rXYnNTgZg/AfJGILKCmj98RXCJR5WcPzwf3iNquZ4/MozSBnN2oD+CcuwgA3ehP4aLrF66QaI/Kv3n3Rb0oj+Vh/jU4KejP6dRYexQXqQ/WJWKw60XpT/gQfmFuNOlPxIuOwugfqY/mWF/GfrzpT+Lgce79dSjPyw5+m3RUqE/mHleyEbdnT8bd+ORukyZP5SIqvRU8ZQ/U23U35s6kT9OT1UU5tiMPyuZ8eHHAYg/XyhQ2Ak+gz/og/ar5319P5T23bc2aHc/VKRkrY95dD8vgpTJQXFyP6aTCOSx23A/8CA5zn4Lbz/eWLBepmhrPxdCOSLKJ2c/sbaivyJHYz9Cb4OEa0pfP9xeN+xeUFg/XzLQZJ+BUT865w8G9q9FP4LM8tawTzY/4aSYBXlwQz8V/Kko+dpaP0xOJJKMh2g/HGiONWPKcT9qLxzg4y93P4DrXsBPdHw/W8DNn4TLgD/oVPZMJ0uDP4o7CCpit4U/wgGzC8oNiD8sZQwXA0uKP0YHbZZCa4w/BUZ/uJNqjj+6k39awiKQP+fXYvnr/JA/lmzNOgnDkT9lq6/U0XaSPyU6Llf9GZM/Lw6bAsGukz/yL6SwOzeUP577SXnItJQ/64agfNcmlT8+5kwhc4iVPw5e/RnTzJU/ihr1nRLhlT8cDevEKLqVP37K7M2aYZU/6tEkzbDslD/8SRiJl2yUPxyUnW8l6pM/\",\"dtype\":\"float64\",\"shape\":[75]},\"y\":{\"__ndarray__\":\"GhExyth1ND/Sv8nbtpRIP2vylNV0PVE/aTum7souWD/At0SJ8fVgPw3Iuahxymc/MSNhhJWvcD/bTfBN02d3P2zb5nxnaoA/CD5h5MAGhz8NmeH1TyaQP+zrCsc9p5Y/LbKd76fGnz/bLW5ISEmmPww9YvTcQq8/JV2OstnstT8Er5Y7M8G+P0c+r3jqkcU/5h99k6ZBzj88bCIzFzjVP4enV8oyxN0//yH99nXg5D8qOpLLf0jtP5kqGJXUifQ/c9cS8kHP/D+/DpwzojQEQIEmwoanVwxA4lgXt9HgE0BSSZ2AJuIbQAMJih9jjiNA5q4l5INuK0AwTKYKRj0zQNv5fmq8/DpAaCJseHrtQkB/+zpwzoxKQM3MzMzMeFJAZmZmZmZqWEAAAAAAAFxeQM3MzMzMJmJAmpmZmZkfZUBmZmZmZhhoQDMzMzMzEWtAAAAAAAAKbkBmZmZmZoFwQM3MzMzM/XFAMzMzMzN6c0CamZmZmfZ0QAAAAAAAc3ZAZmZmZmbvd0DNzMzMzGt5QDMzMzMz6HpAmpmZmZlkfEAAAAAAAOF9QGZmZmZmXX9AZmZmZuZsgECamZmZGSuBQM3MzMxM6YFAAAAAAICngkAzMzMzs2WDQGZmZmbmI4RAmpmZmRnihEDNzMzMTKCFQAAAAACAXoZAMzMzM7Mch0BmZmZm5tqHQJqZmZkZmYhAzczMzExXiUAAAAAAgBWKQDMzMzOz04pAZmZmZuaRi0CamZmZGVCMQM3MzMxMDo1AAAAAAIDMjUAzMzMzs4qOQGZmZmbmSI9A\",\"dtype\":\"float64\",\"shape\":[75]}},\"selected\":{\"id\":\"e540a77c-2c31-48fe-9461-b67f83d97e44\",\"type\":\"Selection\"},\"selection_policy\":{\"id\":\"0c8a49a3-be03-482a-aac2-839691c9f338\",\"type\":\"UnionRenderers\"}},\"id\":\"f338af04-9a57-4076-ac1e-9d33606de8ec\",\"type\":\"ColumnDataSource\"},{\"attributes\":{\"above\":[{\"id\":\"f33f7300-1b60-4340-a8af-99adfc997a2e\",\"type\":\"Legend\"}],\"below\":[{\"id\":\"310059bc-281b-4150-8c19-ef2fcea68261\",\"type\":\"LinearAxis\"}],\"left\":[{\"id\":\"766046b1-d6d2-4085-b8d1-7a8ffc8d1690\",\"type\":\"LinearAxis\"}],\"plot_height\":500,\"plot_width\":400,\"renderers\":[{\"id\":\"310059bc-281b-4150-8c19-ef2fcea68261\",\"type\":\"LinearAxis\"},{\"id\":\"3ff8d566-62e2-48b7-87b0-8f91e074108b\",\"type\":\"Grid\"},{\"id\":\"766046b1-d6d2-4085-b8d1-7a8ffc8d1690\",\"type\":\"LinearAxis\"},{\"id\":\"b6e13c15-79d7-42c3-bc5f-8ae94be79359\",\"type\":\"Grid\"},{\"id\":\"d6fe4b78-e7d1-4ba1-a558-13c7ed861596\",\"type\":\"BoxAnnotation\"},{\"id\":\"fc0022fd-99f5-45df-a613-f00ac508b73f\",\"type\":\"GlyphRenderer\"},{\"id\":\"bda797bf-4159-4c97-a4fa-c26af975843d\",\"type\":\"GlyphRenderer\"},{\"id\":\"33d9aab6-c682-4758-a5b3-8cc0f5a3ee39\",\"type\":\"GlyphRenderer\"},{\"id\":\"c331ee68-0bc1-4d0c-a873-abd01cdb8a41\",\"type\":\"GlyphRenderer\"},{\"id\":\"07a072cc-c094-48b3-9175-9ae41ed78649\",\"type\":\"GlyphRenderer\"},{\"id\":\"adb43a00-f8ea-48da-b49d-188f677befba\",\"type\":\"GlyphRenderer\"},{\"id\":\"f33f7300-1b60-4340-a8af-99adfc997a2e\",\"type\":\"Legend\"}],\"title\":{\"id\":\"3d2f048e-a081-49de-9f14-65e507f5010e\",\"type\":\"Title\"},\"toolbar\":{\"id\":\"6261e235-5141-441a-a81e-302fc2714bcc\",\"type\":\"Toolbar\"},\"toolbar_location\":null,\"x_range\":{\"id\":\"811e6ea0-fda4-4408-bdb5-b222743c4730\",\"type\":\"Range1d\"},\"x_scale\":{\"id\":\"fd376ac7-9c78-458c-858c-f784edcf69a4\",\"type\":\"LinearScale\"},\"y_range\":{\"id\":\"36dff1df-7067-4fcf-a923-f4ac4f17b1fd\",\"type\":\"Range1d\"},\"y_scale\":{\"id\":\"3b445343-0b6d-4eb9-9b12-f5e77d4d3455\",\"type\":\"LinearScale\"}},\"id\":\"f9cec7d9-943b-4847-8828-75b0905f0eb3\",\"subtype\":\"Figure\",\"type\":\"Plot\"},{\"attributes\":{\"data_source\":{\"id\":\"2155e944-521f-4c0b-ba5d-045da55cf412\",\"type\":\"ColumnDataSource\"},\"glyph\":{\"id\":\"ecacbbeb-f759-4241-a083-6805071249f8\",\"type\":\"Triangle\"},\"hover_glyph\":null,\"muted_glyph\":null,\"nonselection_glyph\":{\"id\":\"2fa3bdd6-8fcc-448c-9fb6-ee9e705b5c58\",\"type\":\"Triangle\"},\"selection_glyph\":null,\"view\":{\"id\":\"872bdede-631f-4cf5-99db-6237f0bba6c5\",\"type\":\"CDSView\"}},\"id\":\"07a072cc-c094-48b3-9175-9ae41ed78649\",\"type\":\"GlyphRenderer\"},{\"attributes\":{\"source\":{\"id\":\"2155e944-521f-4c0b-ba5d-045da55cf412\",\"type\":\"ColumnDataSource\"}},\"id\":\"872bdede-631f-4cf5-99db-6237f0bba6c5\",\"type\":\"CDSView\"},{\"attributes\":{\"line_alpha\":0.3,\"line_color\":\"#377eb8\",\"line_width\":2,\"x\":{\"field\":\"x\"},\"y\":{\"field\":\"y\"}},\"id\":\"8a025a0d-74ff-4afd-862a-1fc0a2615f5e\",\"type\":\"Line\"},{\"attributes\":{\"above\":[{\"id\":\"8f77b496-b197-48b4-a1bb-b9e9244e57df\",\"type\":\"Legend\"}],\"below\":[{\"id\":\"fbf1886e-986f-4843-9118-f27c1cd1d377\",\"type\":\"LinearAxis\"}],\"left\":[{\"id\":\"acf069eb-1925-4b63-818a-c593cdedc0ac\",\"type\":\"LogAxis\"}],\"plot_height\":500,\"plot_width\":400,\"renderers\":[{\"id\":\"fbf1886e-986f-4843-9118-f27c1cd1d377\",\"type\":\"LinearAxis\"},{\"id\":\"3b3b977f-54cf-4c83-8820-4f0c77c140f6\",\"type\":\"Grid\"},{\"id\":\"acf069eb-1925-4b63-818a-c593cdedc0ac\",\"type\":\"LogAxis\"},{\"id\":\"15da9596-3d4b-41d8-a28e-68cac65aea10\",\"type\":\"Grid\"},{\"id\":\"fb06697e-38f6-4e0b-af8e-6ec01120d77a\",\"type\":\"BoxAnnotation\"},{\"id\":\"76a084f5-bb76-485d-9c1c-615c04e22720\",\"type\":\"GlyphRenderer\"},{\"id\":\"0ccd53d9-cfa6-4530-81d9-0c26990e9b51\",\"type\":\"GlyphRenderer\"},{\"id\":\"d51a2eb9-f560-4804-aec2-c92de10d53fa\",\"type\":\"GlyphRenderer\"},{\"id\":\"61a4222f-d2b1-421c-aca3-a5958702d9ae\",\"type\":\"GlyphRenderer\"},{\"id\":\"29ce2955-9bc7-4b6b-9c39-243fdcba524f\",\"type\":\"GlyphRenderer\"},{\"id\":\"6f172a64-c525-480b-8151-46afe8afd1b7\",\"type\":\"GlyphRenderer\"},{\"id\":\"8f77b496-b197-48b4-a1bb-b9e9244e57df\",\"type\":\"Legend\"}],\"title\":{\"id\":\"46f52857-9b62-4f89-b8cf-f36733706367\",\"type\":\"Title\"},\"toolbar\":{\"id\":\"6f63cef8-4de3-4d5e-90eb-3220e7511209\",\"type\":\"Toolbar\"},\"toolbar_location\":null,\"x_range\":{\"id\":\"5186742c-a840-4bba-8395-12404b9c1ada\",\"type\":\"Range1d\"},\"x_scale\":{\"id\":\"0600d5d3-16f0-4df0-96d6-fa77ddf49577\",\"type\":\"LinearScale\"},\"y_range\":{\"id\":\"0c7abc61-3b68-4bdc-ba4a-eab5c9b48159\",\"type\":\"Range1d\"},\"y_scale\":{\"id\":\"0e3d4321-5d34-4967-8276-f70ca4072041\",\"type\":\"LogScale\"}},\"id\":\"e0ad2ba8-23c9-4652-97fe-c4630233e658\",\"subtype\":\"Figure\",\"type\":\"Plot\"},{\"attributes\":{\"line_alpha\":0.1,\"line_color\":\"#1f77b4\",\"line_width\":2,\"x\":{\"field\":\"x\"},\"y\":{\"field\":\"y\"}},\"id\":\"048bccf6-f6c0-4232-b2ec-226f91953858\",\"type\":\"Line\"},{\"attributes\":{\"data_source\":{\"id\":\"f338af04-9a57-4076-ac1e-9d33606de8ec\",\"type\":\"ColumnDataSource\"},\"glyph\":{\"id\":\"8a025a0d-74ff-4afd-862a-1fc0a2615f5e\",\"type\":\"Line\"},\"hover_glyph\":null,\"muted_glyph\":null,\"nonselection_glyph\":{\"id\":\"048bccf6-f6c0-4232-b2ec-226f91953858\",\"type\":\"Line\"},\"selection_glyph\":null,\"view\":{\"id\":\"05a3d9c5-3929-4afe-b0e1-45117d6ef4b9\",\"type\":\"CDSView\"}},\"id\":\"adb43a00-f8ea-48da-b49d-188f677befba\",\"type\":\"GlyphRenderer\"},{\"attributes\":{},\"id\":\"fd376ac7-9c78-458c-858c-f784edcf69a4\",\"type\":\"LinearScale\"},{\"attributes\":{\"source\":{\"id\":\"f338af04-9a57-4076-ac1e-9d33606de8ec\",\"type\":\"ColumnDataSource\"}},\"id\":\"05a3d9c5-3929-4afe-b0e1-45117d6ef4b9\",\"type\":\"CDSView\"},{\"attributes\":{},\"id\":\"3b445343-0b6d-4eb9-9b12-f5e77d4d3455\",\"type\":\"LinearScale\"},{\"attributes\":{\"active_drag\":\"auto\",\"active_inspect\":\"auto\",\"active_scroll\":\"auto\",\"active_tap\":\"auto\",\"tools\":[{\"id\":\"dd273e4a-69b3-4055-b406-6c88487fe77f\",\"type\":\"PanTool\"},{\"id\":\"3ebe3b75-f424-4528-8022-0d2ca7362f49\",\"type\":\"WheelZoomTool\"},{\"id\":\"74fad6d6-b898-4988-9edf-e537afe44c9e\",\"type\":\"BoxZoomTool\"},{\"id\":\"c405dbc0-f672-49b3-aebf-b4784625c4f1\",\"type\":\"SaveTool\"},{\"id\":\"07023922-1336-4a20-b900-adbd28233c29\",\"type\":\"ResetTool\"},{\"id\":\"be8630e1-e28b-4bab-8234-db681865d5e6\",\"type\":\"HelpTool\"}]},\"id\":\"6f63cef8-4de3-4d5e-90eb-3220e7511209\",\"type\":\"Toolbar\"},{\"attributes\":{\"label\":{\"value\":\"CRD\"},\"renderers\":[{\"id\":\"fc0022fd-99f5-45df-a613-f00ac508b73f\",\"type\":\"GlyphRenderer\"},{\"id\":\"bda797bf-4159-4c97-a4fa-c26af975843d\",\"type\":\"GlyphRenderer\"}]},\"id\":\"e7ebcd43-0422-48f3-889b-919c14ab7661\",\"type\":\"LegendItem\"},{\"attributes\":{\"label\":{\"value\":\"WGT igg=1\"},\"renderers\":[{\"id\":\"33d9aab6-c682-4758-a5b3-8cc0f5a3ee39\",\"type\":\"GlyphRenderer\"},{\"id\":\"c331ee68-0bc1-4d0c-a873-abd01cdb8a41\",\"type\":\"GlyphRenderer\"}]},\"id\":\"ede938b5-dbd9-4a98-9809-9f85087afa49\",\"type\":\"LegendItem\"},{\"attributes\":{},\"id\":\"0600d5d3-16f0-4df0-96d6-fa77ddf49577\",\"type\":\"LinearScale\"},{\"attributes\":{\"label\":{\"value\":\"WGT igg=10\"},\"renderers\":[{\"id\":\"07a072cc-c094-48b3-9175-9ae41ed78649\",\"type\":\"GlyphRenderer\"},{\"id\":\"adb43a00-f8ea-48da-b49d-188f677befba\",\"type\":\"GlyphRenderer\"}]},\"id\":\"f5302a45-6a3b-46dd-9f1a-9af0f9b36598\",\"type\":\"LegendItem\"},{\"attributes\":{\"plot\":{\"id\":\"e0ad2ba8-23c9-4652-97fe-c4630233e658\",\"subtype\":\"Figure\",\"type\":\"Plot\"},\"ticker\":{\"id\":\"a0a83110-13ac-4b89-b834-adfc82c84fb4\",\"type\":\"BasicTicker\"}},\"id\":\"3b3b977f-54cf-4c83-8820-4f0c77c140f6\",\"type\":\"Grid\"},{\"attributes\":{\"callback\":null,\"end\":0.02210202864869,\"start\":-0.00041350731769},\"id\":\"811e6ea0-fda4-4408-bdb5-b222743c4730\",\"type\":\"Range1d\"},{\"attributes\":{},\"id\":\"0e3d4321-5d34-4967-8276-f70ca4072041\",\"type\":\"LogScale\"},{\"attributes\":{\"axis_label\":\"cooling rate [K/day]\",\"formatter\":{\"id\":\"aef714c4-d902-4fb4-b2c6-5e9b002e3f56\",\"type\":\"BasicTickFormatter\"},\"plot\":{\"id\":\"e0ad2ba8-23c9-4652-97fe-c4630233e658\",\"subtype\":\"Figure\",\"type\":\"Plot\"},\"ticker\":{\"id\":\"a0a83110-13ac-4b89-b834-adfc82c84fb4\",\"type\":\"BasicTicker\"}},\"id\":\"fbf1886e-986f-4843-9118-f27c1cd1d377\",\"type\":\"LinearAxis\"},{\"attributes\":{},\"id\":\"66c258cc-ca36-4aa1-8f4a-cf538da57ad4\",\"type\":\"BasicTicker\"},{\"attributes\":{},\"id\":\"a0a83110-13ac-4b89-b834-adfc82c84fb4\",\"type\":\"BasicTicker\"},{\"attributes\":{\"items\":[{\"id\":\"e7ebcd43-0422-48f3-889b-919c14ab7661\",\"type\":\"LegendItem\"},{\"id\":\"ede938b5-dbd9-4a98-9809-9f85087afa49\",\"type\":\"LegendItem\"},{\"id\":\"f5302a45-6a3b-46dd-9f1a-9af0f9b36598\",\"type\":\"LegendItem\"}],\"label_text_font_size\":{\"value\":\"8pt\"},\"location\":\"top_center\",\"orientation\":\"horizontal\",\"plot\":{\"id\":\"f9cec7d9-943b-4847-8828-75b0905f0eb3\",\"subtype\":\"Figure\",\"type\":\"Plot\"}},\"id\":\"f33f7300-1b60-4340-a8af-99adfc997a2e\",\"type\":\"Legend\"},{\"attributes\":{\"axis_label\":\"pressure [mb]\",\"formatter\":{\"id\":\"9a6d01c8-90ee-4fd7-8296-e2e41edbcfaf\",\"type\":\"LogTickFormatter\"},\"plot\":{\"id\":\"e0ad2ba8-23c9-4652-97fe-c4630233e658\",\"subtype\":\"Figure\",\"type\":\"Plot\"},\"ticker\":{\"id\":\"6f34de03-7b1d-4e49-8aa9-66cfefb555fd\",\"type\":\"LogTicker\"}},\"id\":\"acf069eb-1925-4b63-818a-c593cdedc0ac\",\"type\":\"LogAxis\"},{\"attributes\":{\"active_drag\":\"auto\",\"active_inspect\":\"auto\",\"active_scroll\":\"auto\",\"active_tap\":\"auto\",\"tools\":[{\"id\":\"537a6b05-4f51-446d-873c-616a9e27eda7\",\"type\":\"PanTool\"},{\"id\":\"4d8c725a-f06b-43e8-a524-088336328d55\",\"type\":\"WheelZoomTool\"},{\"id\":\"859e3d84-b185-4075-83e3-e723e1558c54\",\"type\":\"BoxZoomTool\"},{\"id\":\"97c07615-4360-4d0f-9cb5-09da6e81e52a\",\"type\":\"SaveTool\"},{\"id\":\"37d5a701-5387-4a74-a633-c32b60cdc91e\",\"type\":\"ResetTool\"},{\"id\":\"47ef4f00-f2c7-48f4-889d-f30c1a5d4d23\",\"type\":\"HelpTool\"}]},\"id\":\"6261e235-5141-441a-a81e-302fc2714bcc\",\"type\":\"Toolbar\"},{\"attributes\":{\"num_minor_ticks\":10},\"id\":\"6f34de03-7b1d-4e49-8aa9-66cfefb555fd\",\"type\":\"LogTicker\"},{\"attributes\":{\"plot\":{\"id\":\"f9cec7d9-943b-4847-8828-75b0905f0eb3\",\"subtype\":\"Figure\",\"type\":\"Plot\"},\"ticker\":{\"id\":\"6d2e47cc-2c27-4de3-b360-f16c4cdf6787\",\"type\":\"BasicTicker\"}},\"id\":\"3ff8d566-62e2-48b7-87b0-8f91e074108b\",\"type\":\"Grid\"},{\"attributes\":{\"dimension\":1,\"plot\":{\"id\":\"e0ad2ba8-23c9-4652-97fe-c4630233e658\",\"subtype\":\"Figure\",\"type\":\"Plot\"},\"ticker\":{\"id\":\"6f34de03-7b1d-4e49-8aa9-66cfefb555fd\",\"type\":\"LogTicker\"}},\"id\":\"15da9596-3d4b-41d8-a28e-68cac65aea10\",\"type\":\"Grid\"},{\"attributes\":{\"callback\":null,\"end\":0.01,\"start\":1020},\"id\":\"36dff1df-7067-4fcf-a923-f4ac4f17b1fd\",\"type\":\"Range1d\"},{\"attributes\":{},\"id\":\"dd273e4a-69b3-4055-b406-6c88487fe77f\",\"type\":\"PanTool\"},{\"attributes\":{},\"id\":\"3ebe3b75-f424-4528-8022-0d2ca7362f49\",\"type\":\"WheelZoomTool\"},{\"attributes\":{\"overlay\":{\"id\":\"fb06697e-38f6-4e0b-af8e-6ec01120d77a\",\"type\":\"BoxAnnotation\"}},\"id\":\"74fad6d6-b898-4988-9edf-e537afe44c9e\",\"type\":\"BoxZoomTool\"},{\"attributes\":{\"bottom_units\":\"screen\",\"fill_alpha\":{\"value\":0.5},\"fill_color\":{\"value\":\"lightgrey\"},\"left_units\":\"screen\",\"level\":\"overlay\",\"line_alpha\":{\"value\":1.0},\"line_color\":{\"value\":\"black\"},\"line_dash\":[4,4],\"line_width\":{\"value\":2},\"plot\":null,\"render_mode\":\"css\",\"right_units\":\"screen\",\"top_units\":\"screen\"},\"id\":\"d6fe4b78-e7d1-4ba1-a558-13c7ed861596\",\"type\":\"BoxAnnotation\"},{\"attributes\":{},\"id\":\"47ef4f00-f2c7-48f4-889d-f30c1a5d4d23\",\"type\":\"HelpTool\"},{\"attributes\":{\"dimension\":1,\"plot\":{\"id\":\"f9cec7d9-943b-4847-8828-75b0905f0eb3\",\"subtype\":\"Figure\",\"type\":\"Plot\"},\"ticker\":{\"id\":\"66c258cc-ca36-4aa1-8f4a-cf538da57ad4\",\"type\":\"BasicTicker\"}},\"id\":\"b6e13c15-79d7-42c3-bc5f-8ae94be79359\",\"type\":\"Grid\"},{\"attributes\":{\"axis_label\":\"pressure [mb]\",\"formatter\":{\"id\":\"7df94b8d-a917-4b18-b163-ff5f0f9264b7\",\"type\":\"BasicTickFormatter\"},\"plot\":{\"id\":\"f9cec7d9-943b-4847-8828-75b0905f0eb3\",\"subtype\":\"Figure\",\"type\":\"Plot\"},\"ticker\":{\"id\":\"66c258cc-ca36-4aa1-8f4a-cf538da57ad4\",\"type\":\"BasicTicker\"}},\"id\":\"766046b1-d6d2-4085-b8d1-7a8ffc8d1690\",\"type\":\"LinearAxis\"},{\"attributes\":{},\"id\":\"6d2e47cc-2c27-4de3-b360-f16c4cdf6787\",\"type\":\"BasicTicker\"},{\"attributes\":{\"callback\":null,\"data\":{\"x\":{\"__ndarray__\":\"X5rEJZ8PhD+drlAJn+qFP6P4kcPLxok/U1IvdiDVjT9D2NIAbgWRPyvTUH4ENJM/td41H+d1lT/5CKgV7MmXP8txQgN8Mpo/No3LMACwnD94zO8t6D+fP9Bp2OIK8KA/GZOdL9hGoj/U1pCe0nqjP3Simp+NZqQ/+nw0VssvpT9v55LNcfSlP+zA6zQttqY/BFtWtldzpz+Dhf82Ty2oPwK1vWxMzKg/VbyCw/Dmpz/f/BVZQw6lP1Dx5HmyyKE/Tg8L+ryBnT8/bytLbPmXP+6pDc8jAZM/mSDCjL9Ajj+UtBWC6DuJP/jW4laFiIU/VsiVvL0cgj9mOZp1l+N9P/KxnN4nj3o/7bHe6BNIej8LifzJl+B5P8I3qG4dn3g/FBhrLmmbdj/inVZUHYxzP474uFFuCXA/A/AodCu7aT9+fXZ6Y+FjP2iXpPruo1w/tCD/X+O7UT/4WtzC59g6PxC67e8tRCm/CFQi9KA/F7/uyXee2nRQPyiVlJA5CGQ/fvp8CdZubz+mR6teUyp1PzHP1Er8aHo/bg62Rpl6fz84qp+BbzGCP/UEhjzYkIQ/xvGKrS/ahj84qn/3VwqJPx5VryuYHYs/bGYEJ8YPjT9kuFOH9dyOP5CR3xOCQZA/sPSdSzsAkT+cTUm/uqyRP5JrdzM3SZI/Njc7SoHYkj8LyntZW12TP51Aodeu2ZM/dFdX0SdNlD+v1MJLwbGUP2AQxoxG95Q/daTDB08FlT+ZyI+/Gs2UP6bQ1tk5WpQ/ahEF1CXHkz8thXnKYiiTP0I4BJJWh5I/\",\"dtype\":\"float64\",\"shape\":[75]},\"y\":{\"__ndarray__\":\"GhExyth1ND/Sv8nbtpRIP2vylNV0PVE/aTum7souWD/At0SJ8fVgPw3Iuahxymc/MSNhhJWvcD/bTfBN02d3P2zb5nxnaoA/CD5h5MAGhz8NmeH1TyaQP+zrCsc9p5Y/LbKd76fGnz/bLW5ISEmmPww9YvTcQq8/JV2OstnstT8Er5Y7M8G+P0c+r3jqkcU/5h99k6ZBzj88bCIzFzjVP4enV8oyxN0//yH99nXg5D8qOpLLf0jtP5kqGJXUifQ/c9cS8kHP/D+/DpwzojQEQIEmwoanVwxA4lgXt9HgE0BSSZ2AJuIbQAMJih9jjiNA5q4l5INuK0AwTKYKRj0zQNv5fmq8/DpAaCJseHrtQkB/+zpwzoxKQM3MzMzMeFJAZmZmZmZqWEAAAAAAAFxeQM3MzMzMJmJAmpmZmZkfZUBmZmZmZhhoQDMzMzMzEWtAAAAAAAAKbkBmZmZmZoFwQM3MzMzM/XFAMzMzMzN6c0CamZmZmfZ0QAAAAAAAc3ZAZmZmZmbvd0DNzMzMzGt5QDMzMzMz6HpAmpmZmZlkfEAAAAAAAOF9QGZmZmZmXX9AZmZmZuZsgECamZmZGSuBQM3MzMxM6YFAAAAAAICngkAzMzMzs2WDQGZmZmbmI4RAmpmZmRnihEDNzMzMTKCFQAAAAACAXoZAMzMzM7Mch0BmZmZm5tqHQJqZmZkZmYhAzczMzExXiUAAAAAAgBWKQDMzMzOz04pAZmZmZuaRi0CamZmZGVCMQM3MzMxMDo1AAAAAAIDMjUAzMzMzs4qOQGZmZmbmSI9A\",\"dtype\":\"float64\",\"shape\":[75]}},\"selected\":{\"id\":\"448f27f4-3d1c-4e61-830c-b755140a54a0\",\"type\":\"Selection\"},\"selection_policy\":{\"id\":\"b1f4d756-e62c-4c64-b864-529a0d7f392e\",\"type\":\"UnionRenderers\"}},\"id\":\"4198c66d-5da3-4c78-8540-e20b735e9ce9\",\"type\":\"ColumnDataSource\"},{\"attributes\":{\"axis_label\":\"cooling rate [K/day]\",\"formatter\":{\"id\":\"a33ff1e2-7b98-4c6a-a896-2486c7ed0145\",\"type\":\"BasicTickFormatter\"},\"plot\":{\"id\":\"f9cec7d9-943b-4847-8828-75b0905f0eb3\",\"subtype\":\"Figure\",\"type\":\"Plot\"},\"ticker\":{\"id\":\"6d2e47cc-2c27-4de3-b360-f16c4cdf6787\",\"type\":\"BasicTicker\"}},\"id\":\"310059bc-281b-4150-8c19-ef2fcea68261\",\"type\":\"LinearAxis\"},{\"attributes\":{},\"id\":\"97c07615-4360-4d0f-9cb5-09da6e81e52a\",\"type\":\"SaveTool\"},{\"attributes\":{},\"id\":\"37d5a701-5387-4a74-a633-c32b60cdc91e\",\"type\":\"ResetTool\"},{\"attributes\":{},\"id\":\"dc94b4ab-87b3-41c1-b056-479b62a0b9bb\",\"type\":\"Selection\"},{\"attributes\":{},\"id\":\"7bf812b2-fee2-46af-8758-171ae3136be3\",\"type\":\"Selection\"},{\"attributes\":{\"plot\":null,\"text\":\"\"},\"id\":\"3d2f048e-a081-49de-9f14-65e507f5010e\",\"type\":\"Title\"},{\"attributes\":{},\"id\":\"d5f95f4e-b308-47c8-a92b-343c218b917b\",\"type\":\"UnionRenderers\"},{\"attributes\":{\"label\":{\"value\":\"CRD\"},\"renderers\":[{\"id\":\"76a084f5-bb76-485d-9c1c-615c04e22720\",\"type\":\"GlyphRenderer\"},{\"id\":\"0ccd53d9-cfa6-4530-81d9-0c26990e9b51\",\"type\":\"GlyphRenderer\"}]},\"id\":\"7d74fffa-9754-43f5-81d5-72371d42d959\",\"type\":\"LegendItem\"},{\"attributes\":{},\"id\":\"71728b41-6fd8-43e5-b9a8-015477c72983\",\"type\":\"Selection\"},{\"attributes\":{},\"id\":\"1509bbff-0222-4f3c-bde8-7d541cb37770\",\"type\":\"UnionRenderers\"},{\"attributes\":{},\"id\":\"aef714c4-d902-4fb4-b2c6-5e9b002e3f56\",\"type\":\"BasicTickFormatter\"},{\"attributes\":{},\"id\":\"b1f4d756-e62c-4c64-b864-529a0d7f392e\",\"type\":\"UnionRenderers\"},{\"attributes\":{},\"id\":\"a33ff1e2-7b98-4c6a-a896-2486c7ed0145\",\"type\":\"BasicTickFormatter\"},{\"attributes\":{\"label\":{\"value\":\"WGT igg=1\"},\"renderers\":[{\"id\":\"d51a2eb9-f560-4804-aec2-c92de10d53fa\",\"type\":\"GlyphRenderer\"},{\"id\":\"61a4222f-d2b1-421c-aca3-a5958702d9ae\",\"type\":\"GlyphRenderer\"}]},\"id\":\"f5e7d715-ffc8-492b-a314-71f1ad0e9a0b\",\"type\":\"LegendItem\"},{\"attributes\":{},\"id\":\"7cc964fb-859a-46e4-b22b-85cc3627bcb6\",\"type\":\"Selection\"},{\"attributes\":{},\"id\":\"0c8a49a3-be03-482a-aac2-839691c9f338\",\"type\":\"UnionRenderers\"},{\"attributes\":{\"data_source\":{\"id\":\"b54fc539-680d-4c38-8ef5-c08b745dad5c\",\"type\":\"ColumnDataSource\"},\"glyph\":{\"id\":\"ee852d44-1fcc-452b-ac49-2e18a76e201d\",\"type\":\"Circle\"},\"hover_glyph\":null,\"muted_glyph\":null,\"nonselection_glyph\":{\"id\":\"7e8c88f7-0756-460f-9ec5-36a3b2d294f5\",\"type\":\"Circle\"},\"selection_glyph\":null,\"view\":{\"id\":\"12977a80-e5bc-4e61-8d69-ea9eaff03f53\",\"type\":\"CDSView\"}},\"id\":\"76a084f5-bb76-485d-9c1c-615c04e22720\",\"type\":\"GlyphRenderer\"},{\"attributes\":{},\"id\":\"dc0f5145-b662-4825-bac5-b95e746884c2\",\"type\":\"Selection\"},{\"attributes\":{\"fill_alpha\":{\"value\":0.7},\"fill_color\":{\"value\":\"#4daf4a\"},\"line_alpha\":{\"value\":0.7},\"line_color\":{\"value\":\"#4daf4a\"},\"x\":{\"field\":\"x\"},\"y\":{\"field\":\"y\"}},\"id\":\"ee852d44-1fcc-452b-ac49-2e18a76e201d\",\"type\":\"Circle\"},{\"attributes\":{},\"id\":\"679f0e51-7a94-4780-b585-f5c143c42dea\",\"type\":\"UnionRenderers\"},{\"attributes\":{\"label\":{\"value\":\"WGT igg=10\"},\"renderers\":[{\"id\":\"29ce2955-9bc7-4b6b-9c39-243fdcba524f\",\"type\":\"GlyphRenderer\"},{\"id\":\"6f172a64-c525-480b-8151-46afe8afd1b7\",\"type\":\"GlyphRenderer\"}]},\"id\":\"c442a2dd-16a1-419c-9301-50066891f49a\",\"type\":\"LegendItem\"},{\"attributes\":{\"source\":{\"id\":\"918c0d94-d0ea-4c65-8092-796d55df982a\",\"type\":\"ColumnDataSource\"}},\"id\":\"e82aaf20-c5b7-4a7c-8ef4-7ce69d667fe8\",\"type\":\"CDSView\"},{\"attributes\":{},\"id\":\"b85f3c6d-db36-4da0-9237-cf6e68c01b72\",\"type\":\"UnionRenderers\"},{\"attributes\":{\"source\":{\"id\":\"b54fc539-680d-4c38-8ef5-c08b745dad5c\",\"type\":\"ColumnDataSource\"}},\"id\":\"12977a80-e5bc-4e61-8d69-ea9eaff03f53\",\"type\":\"CDSView\"},{\"attributes\":{\"fill_alpha\":{\"value\":0.1},\"fill_color\":{\"value\":\"#1f77b4\"},\"line_alpha\":{\"value\":0.1},\"line_color\":{\"value\":\"#1f77b4\"},\"x\":{\"field\":\"x\"},\"y\":{\"field\":\"y\"}},\"id\":\"7e8c88f7-0756-460f-9ec5-36a3b2d294f5\",\"type\":\"Circle\"},{\"attributes\":{\"line_color\":\"#4daf4a\",\"line_width\":1.5,\"x\":{\"field\":\"x\"},\"y\":{\"field\":\"y\"}},\"id\":\"4e03847f-c014-43e5-8aaa-d0396cab7510\",\"type\":\"Line\"},{\"attributes\":{\"callback\":null,\"data\":{\"x\":{\"__ndarray__\":\"X5rEJZ8PhD+drlAJn+qFP6P4kcPLxok/U1IvdiDVjT9D2NIAbgWRPyvTUH4ENJM/td41H+d1lT/5CKgV7MmXP8txQgN8Mpo/No3LMACwnD94zO8t6D+fP9Bp2OIK8KA/GZOdL9hGoj/U1pCe0nqjP3Simp+NZqQ/+nw0VssvpT9v55LNcfSlP+zA6zQttqY/BFtWtldzpz+Dhf82Ty2oPwK1vWxMzKg/VbyCw/Dmpz/f/BVZQw6lP1Dx5HmyyKE/Tg8L+ryBnT8/bytLbPmXP+6pDc8jAZM/mSDCjL9Ajj+UtBWC6DuJP/jW4laFiIU/VsiVvL0cgj9mOZp1l+N9P/KxnN4nj3o/7bHe6BNIej8LifzJl+B5P8I3qG4dn3g/FBhrLmmbdj/inVZUHYxzP474uFFuCXA/A/AodCu7aT9+fXZ6Y+FjP2iXpPruo1w/tCD/X+O7UT/4WtzC59g6PxC67e8tRCm/CFQi9KA/F7/uyXee2nRQPyiVlJA5CGQ/fvp8CdZubz+mR6teUyp1PzHP1Er8aHo/bg62Rpl6fz84qp+BbzGCP/UEhjzYkIQ/xvGKrS/ahj84qn/3VwqJPx5VryuYHYs/bGYEJ8YPjT9kuFOH9dyOP5CR3xOCQZA/sPSdSzsAkT+cTUm/uqyRP5JrdzM3SZI/Njc7SoHYkj8LyntZW12TP51Aodeu2ZM/dFdX0SdNlD+v1MJLwbGUP2AQxoxG95Q/daTDB08FlT+ZyI+/Gs2UP6bQ1tk5WpQ/ahEF1CXHkz8thXnKYiiTP0I4BJJWh5I/\",\"dtype\":\"float64\",\"shape\":[75]},\"y\":{\"__ndarray__\":\"GhExyth1ND/Sv8nbtpRIP2vylNV0PVE/aTum7souWD/At0SJ8fVgPw3Iuahxymc/MSNhhJWvcD/bTfBN02d3P2zb5nxnaoA/CD5h5MAGhz8NmeH1TyaQP+zrCsc9p5Y/LbKd76fGnz/bLW5ISEmmPww9YvTcQq8/JV2OstnstT8Er5Y7M8G+P0c+r3jqkcU/5h99k6ZBzj88bCIzFzjVP4enV8oyxN0//yH99nXg5D8qOpLLf0jtP5kqGJXUifQ/c9cS8kHP/D+/DpwzojQEQIEmwoanVwxA4lgXt9HgE0BSSZ2AJuIbQAMJih9jjiNA5q4l5INuK0AwTKYKRj0zQNv5fmq8/DpAaCJseHrtQkB/+zpwzoxKQM3MzMzMeFJAZmZmZmZqWEAAAAAAAFxeQM3MzMzMJmJAmpmZmZkfZUBmZmZmZhhoQDMzMzMzEWtAAAAAAAAKbkBmZmZmZoFwQM3MzMzM/XFAMzMzMzN6c0CamZmZmfZ0QAAAAAAAc3ZAZmZmZmbvd0DNzMzMzGt5QDMzMzMz6HpAmpmZmZlkfEAAAAAAAOF9QGZmZmZmXX9AZmZmZuZsgECamZmZGSuBQM3MzMxM6YFAAAAAAICngkAzMzMzs2WDQGZmZmbmI4RAmpmZmRnihEDNzMzMTKCFQAAAAACAXoZAMzMzM7Mch0BmZmZm5tqHQJqZmZkZmYhAzczMzExXiUAAAAAAgBWKQDMzMzOz04pAZmZmZuaRi0CamZmZGVCMQM3MzMxMDo1AAAAAAIDMjUAzMzMzs4qOQGZmZmbmSI9A\",\"dtype\":\"float64\",\"shape\":[75]}},\"selected\":{\"id\":\"906d5d38-621b-46d0-a542-dc2fe99b8df9\",\"type\":\"Selection\"},\"selection_policy\":{\"id\":\"b4aac9bb-f964-4bcc-94e4-2af33259dc8e\",\"type\":\"UnionRenderers\"}},\"id\":\"918c0d94-d0ea-4c65-8092-796d55df982a\",\"type\":\"ColumnDataSource\"},{\"attributes\":{\"children\":[{\"id\":\"28d4c1c9-aa4e-4f06-b02a-d361787d558f\",\"type\":\"ToolbarBox\"},{\"id\":\"242d27e7-0cb4-4398-ad04-3cb248b6977a\",\"type\":\"Column\"}]},\"id\":\"699d6cca-deac-4289-87d6-a9abfed0cdb1\",\"type\":\"Column\"},{\"attributes\":{\"plot\":null,\"text\":\"\"},\"id\":\"46f52857-9b62-4f89-b8cf-f36733706367\",\"type\":\"Title\"},{\"attributes\":{},\"id\":\"448f27f4-3d1c-4e61-830c-b755140a54a0\",\"type\":\"Selection\"},{\"attributes\":{},\"id\":\"7df94b8d-a917-4b18-b163-ff5f0f9264b7\",\"type\":\"BasicTickFormatter\"},{\"attributes\":{},\"id\":\"55a7f579-a42a-4fe3-8d62-72c380a18e0c\",\"type\":\"UnionRenderers\"},{\"attributes\":{\"line_alpha\":0.1,\"line_color\":\"#1f77b4\",\"line_width\":1.5,\"x\":{\"field\":\"x\"},\"y\":{\"field\":\"y\"}},\"id\":\"565325f1-10cd-4d4f-903c-d14c67e391c0\",\"type\":\"Line\"},{\"attributes\":{},\"id\":\"e540a77c-2c31-48fe-9461-b67f83d97e44\",\"type\":\"Selection\"},{\"attributes\":{},\"id\":\"906d5d38-621b-46d0-a542-dc2fe99b8df9\",\"type\":\"Selection\"},{\"attributes\":{\"ticker\":null},\"id\":\"9a6d01c8-90ee-4fd7-8296-e2e41edbcfaf\",\"type\":\"LogTickFormatter\"},{\"attributes\":{\"fill_alpha\":{\"value\":0.1},\"fill_color\":{\"value\":\"#1f77b4\"},\"line_alpha\":{\"value\":0.1},\"line_color\":{\"value\":\"#1f77b4\"},\"x\":{\"field\":\"x\"},\"y\":{\"field\":\"y\"}},\"id\":\"b58b7fa7-9cec-49f2-b1f1-0685c61115db\",\"type\":\"Square\"},{\"attributes\":{},\"id\":\"3aa0e6ea-1420-45c5-884b-194b5e55adac\",\"type\":\"UnionRenderers\"},{\"attributes\":{},\"id\":\"f68e5990-ae79-42c5-9bc6-ba2d528a49f7\",\"type\":\"Selection\"},{\"attributes\":{\"toolbar\":{\"id\":\"50d14e9d-2603-4930-9749-aab0873e64f2\",\"type\":\"ProxyToolbar\"},\"toolbar_location\":\"above\"},\"id\":\"28d4c1c9-aa4e-4f06-b02a-d361787d558f\",\"type\":\"ToolbarBox\"},{\"attributes\":{},\"id\":\"b4aac9bb-f964-4bcc-94e4-2af33259dc8e\",\"type\":\"UnionRenderers\"},{\"attributes\":{\"data_source\":{\"id\":\"918c0d94-d0ea-4c65-8092-796d55df982a\",\"type\":\"ColumnDataSource\"},\"glyph\":{\"id\":\"4e03847f-c014-43e5-8aaa-d0396cab7510\",\"type\":\"Line\"},\"hover_glyph\":null,\"muted_glyph\":null,\"nonselection_glyph\":{\"id\":\"565325f1-10cd-4d4f-903c-d14c67e391c0\",\"type\":\"Line\"},\"selection_glyph\":null,\"view\":{\"id\":\"e82aaf20-c5b7-4a7c-8ef4-7ce69d667fe8\",\"type\":\"CDSView\"}},\"id\":\"0ccd53d9-cfa6-4530-81d9-0c26990e9b51\",\"type\":\"GlyphRenderer\"},{\"attributes\":{\"tools\":[{\"id\":\"537a6b05-4f51-446d-873c-616a9e27eda7\",\"type\":\"PanTool\"},{\"id\":\"4d8c725a-f06b-43e8-a524-088336328d55\",\"type\":\"WheelZoomTool\"},{\"id\":\"859e3d84-b185-4075-83e3-e723e1558c54\",\"type\":\"BoxZoomTool\"},{\"id\":\"97c07615-4360-4d0f-9cb5-09da6e81e52a\",\"type\":\"SaveTool\"},{\"id\":\"37d5a701-5387-4a74-a633-c32b60cdc91e\",\"type\":\"ResetTool\"},{\"id\":\"47ef4f00-f2c7-48f4-889d-f30c1a5d4d23\",\"type\":\"HelpTool\"},{\"id\":\"dd273e4a-69b3-4055-b406-6c88487fe77f\",\"type\":\"PanTool\"},{\"id\":\"3ebe3b75-f424-4528-8022-0d2ca7362f49\",\"type\":\"WheelZoomTool\"},{\"id\":\"74fad6d6-b898-4988-9edf-e537afe44c9e\",\"type\":\"BoxZoomTool\"},{\"id\":\"c405dbc0-f672-49b3-aebf-b4784625c4f1\",\"type\":\"SaveTool\"},{\"id\":\"07023922-1336-4a20-b900-adbd28233c29\",\"type\":\"ResetTool\"},{\"id\":\"be8630e1-e28b-4bab-8234-db681865d5e6\",\"type\":\"HelpTool\"}]},\"id\":\"50d14e9d-2603-4930-9749-aab0873e64f2\",\"type\":\"ProxyToolbar\"},{\"attributes\":{\"fill_alpha\":{\"value\":0.7},\"fill_color\":{\"value\":\"#984ea3\"},\"line_alpha\":{\"value\":0.7},\"line_color\":{\"value\":\"#984ea3\"},\"x\":{\"field\":\"x\"},\"y\":{\"field\":\"y\"}},\"id\":\"b811852a-7d6f-4bd2-8c32-09053a59e96f\",\"type\":\"Square\"},{\"attributes\":{\"callback\":null,\"data\":{\"x\":{\"__ndarray__\":\"PeUybmRBiD881n+qVOmJP8oE+GbeWY0/2WvYRaB7kD90bA5IpVuSP9FH9MFpTZQ/JmLx+SBQlj88YEm8imKYP619dvMwh5o/UWoqEn2+nD8X0toI+wifP0u/78eDs6A/VfffgiDroT8wh7QxDwejP3SF/yYV6KM/hGYdbnyvpD+q4p1PCHqlPwnTwzdKSKY/R60u1Lgdpz/KQRv5I82nP75zgC6skag/5PlWGE3lpz8HInyUioOlPz9XmySbrqI/mSGFCx73nz9F1g4Z9tKaP7FibJYt7ZU/2+AIQT/FkT8hHL8dQVONP5HTNopcE4g/BwY7HZ0Qgz+y26X6LwN9P3AB/APHQHc/dtY43Q8hdT+lcYWHUvpzP7aIZbWhGHM/sxF4yUoicj/A4mN6rlpwP0tRFMuZJGw/oIScmijPZz/lb756Q4hjPytMrHpjgl4/pMA4DtQxVj9+xx491cBLP55BYE0/Xjs/hk1uFs/PQz9vkX3CXVtbP24/Z+dtT2k/WNobzR1rcj/qZ2ZpAfB3P1D9R2ZuTn0/mXhot+9OgT/qIC6dCuODPzZPTGahUYY/ytJrpua8iD+Jip4gAg+LP7gbARTBL40/kqdIFWRAjz+6R7XWt5aQPxMwzFbWbpE/mNf1elw8kj8awt45VfSSP26VuHIclpM/nIiqEn8xlD9ej5S9PbmUP6C+nfj1OZU/06l7wb+xlT82n3uW9RCWPzWp/+yCWpY/nqoiYwxolj94+NNMnDiWP9CxtjsB05U/Eu3Txz1KlT9UnHqwsL2UP/Tn0xFdI5Q/\",\"dtype\":\"float64\",\"shape\":[75]},\"y\":{\"__ndarray__\":\"GhExyth1ND/Sv8nbtpRIP2vylNV0PVE/aTum7souWD/At0SJ8fVgPw3Iuahxymc/MSNhhJWvcD/bTfBN02d3P2zb5nxnaoA/CD5h5MAGhz8NmeH1TyaQP+zrCsc9p5Y/LbKd76fGnz/bLW5ISEmmPww9YvTcQq8/JV2OstnstT8Er5Y7M8G+P0c+r3jqkcU/5h99k6ZBzj88bCIzFzjVP4enV8oyxN0//yH99nXg5D8qOpLLf0jtP5kqGJXUifQ/c9cS8kHP/D+/DpwzojQEQIEmwoanVwxA4lgXt9HgE0BSSZ2AJuIbQAMJih9jjiNA5q4l5INuK0AwTKYKRj0zQNv5fmq8/DpAaCJseHrtQkB/+zpwzoxKQM3MzMzMeFJAZmZmZmZqWEAAAAAAAFxeQM3MzMzMJmJAmpmZmZkfZUBmZmZmZhhoQDMzMzMzEWtAAAAAAAAKbkBmZmZmZoFwQM3MzMzM/XFAMzMzMzN6c0CamZmZmfZ0QAAAAAAAc3ZAZmZmZmbvd0DNzMzMzGt5QDMzMzMz6HpAmpmZmZlkfEAAAAAAAOF9QGZmZmZmXX9AZmZmZuZsgECamZmZGSuBQM3MzMxM6YFAAAAAAICngkAzMzMzs2WDQGZmZmbmI4RAmpmZmRnihEDNzMzMTKCFQAAAAACAXoZAMzMzM7Mch0BmZmZm5tqHQJqZmZkZmYhAzczMzExXiUAAAAAAgBWKQDMzMzOz04pAZmZmZuaRi0CamZmZGVCMQM3MzMxMDo1AAAAAAIDMjUAzMzMzs4qOQGZmZmbmSI9A\",\"dtype\":\"float64\",\"shape\":[75]}},\"selected\":{\"id\":\"c565bd68-3ee8-4600-aa59-fd875f7ad7fa\",\"type\":\"Selection\"},\"selection_policy\":{\"id\":\"3aa0e6ea-1420-45c5-884b-194b5e55adac\",\"type\":\"UnionRenderers\"}},\"id\":\"b0e4e86b-d067-474d-ae76-a5cdbd9541dd\",\"type\":\"ColumnDataSource\"},{\"attributes\":{},\"id\":\"c1db0df8-a083-4576-a32d-3fd92433635e\",\"type\":\"UnionRenderers\"},{\"attributes\":{},\"id\":\"c565bd68-3ee8-4600-aa59-fd875f7ad7fa\",\"type\":\"Selection\"}],\"root_ids\":[\"699d6cca-deac-4289-87d6-a9abfed0cdb1\"]},\"title\":\"Bokeh Application\",\"version\":\"0.12.16\"}};\n",
       "  var render_items = [{\"docid\":\"cfb40a48-f0f3-4fb3-a37d-a9171d4d92cb\",\"elementid\":\"4a425eed-73ca-43e1-beb9-c07f9cfd0cc4\",\"modelid\":\"699d6cca-deac-4289-87d6-a9abfed0cdb1\"}];\n",
       "  root.Bokeh.embed.embed_items_notebook(docs_json, render_items);\n",
       "\n",
       "  }\n",
       "  if (root.Bokeh !== undefined) {\n",
       "    embed_document(root);\n",
       "  } else {\n",
       "    var attempts = 0;\n",
       "    var timer = setInterval(function(root) {\n",
       "      if (root.Bokeh !== undefined) {\n",
       "        embed_document(root);\n",
       "        clearInterval(timer);\n",
       "      }\n",
       "      attempts++;\n",
       "      if (attempts > 100) {\n",
       "        console.log(\"Bokeh: ERROR: Unable to run BokehJS code because BokehJS library is missing\")\n",
       "        clearInterval(timer);\n",
       "      }\n",
       "    }, 10, root)\n",
       "  }\n",
       "})(window);"
      ],
      "application/vnd.bokehjs_exec.v0+json": ""
     },
     "metadata": {
      "application/vnd.bokehjs_exec.v0+json": {
       "id": "699d6cca-deac-4289-87d6-a9abfed0cdb1"
      }
     },
     "output_type": "display_data"
    },
    {
     "data": {
      "text/markdown": [
       "*FIGURE.* Cooling rates. Summed over g."
      ],
      "text/plain": [
       "<IPython.core.display.Markdown object>"
      ]
     },
     "metadata": {},
     "output_type": "display_data"
    },
    {
     "data": {
      "text/html": [
       "<a id=\"Flux_Comparison\"></a>"
      ],
      "text/plain": [
       "<IPython.core.display.HTML object>"
      ]
     },
     "metadata": {},
     "output_type": "display_data"
    },
    {
     "data": {
      "text/markdown": [
       "# Flux Comparison"
      ],
      "text/plain": [
       "<IPython.core.display.Markdown object>"
      ]
     },
     "metadata": {},
     "output_type": "display_data"
    },
    {
     "data": {
      "text/html": [
       "<div>\n",
       "<style scoped>\n",
       "    .dataframe tbody tr th:only-of-type {\n",
       "        vertical-align: middle;\n",
       "    }\n",
       "\n",
       "    .dataframe tbody tr th {\n",
       "        vertical-align: top;\n",
       "    }\n",
       "\n",
       "    .dataframe thead th {\n",
       "        text-align: right;\n",
       "    }\n",
       "</style>\n",
       "<table border=\"1\" class=\"dataframe\">\n",
       "  <thead>\n",
       "    <tr style=\"text-align: right;\">\n",
       "      <th></th>\n",
       "      <th></th>\n",
       "      <th></th>\n",
       "      <th>flug</th>\n",
       "      <th>fldg</th>\n",
       "      <th>fnetg</th>\n",
       "    </tr>\n",
       "    <tr>\n",
       "      <th>g</th>\n",
       "      <th>pressure</th>\n",
       "      <th>level</th>\n",
       "      <th></th>\n",
       "      <th></th>\n",
       "      <th></th>\n",
       "    </tr>\n",
       "  </thead>\n",
       "  <tbody>\n",
       "    <tr>\n",
       "      <th rowspan=\"3\" valign=\"top\">1</th>\n",
       "      <th>0.00</th>\n",
       "      <th>1</th>\n",
       "      <td>-0.178272</td>\n",
       "      <td>0.000000</td>\n",
       "      <td>-0.178272</td>\n",
       "    </tr>\n",
       "    <tr>\n",
       "      <th>299.75</th>\n",
       "      <th>46</th>\n",
       "      <td>-0.221894</td>\n",
       "      <td>0.092174</td>\n",
       "      <td>-0.129720</td>\n",
       "    </tr>\n",
       "    <tr>\n",
       "      <th>1013.00</th>\n",
       "      <th>76</th>\n",
       "      <td>-0.265186</td>\n",
       "      <td>0.179247</td>\n",
       "      <td>-0.085938</td>\n",
       "    </tr>\n",
       "    <tr>\n",
       "      <th rowspan=\"3\" valign=\"top\">2</th>\n",
       "      <th>0.00</th>\n",
       "      <th>1</th>\n",
       "      <td>-2.128125</td>\n",
       "      <td>0.000000</td>\n",
       "      <td>-2.128125</td>\n",
       "    </tr>\n",
       "    <tr>\n",
       "      <th>299.75</th>\n",
       "      <th>46</th>\n",
       "      <td>-2.279715</td>\n",
       "      <td>0.234693</td>\n",
       "      <td>-2.045022</td>\n",
       "    </tr>\n",
       "    <tr>\n",
       "      <th>1013.00</th>\n",
       "      <th>76</th>\n",
       "      <td>-2.437072</td>\n",
       "      <td>0.854559</td>\n",
       "      <td>-1.582512</td>\n",
       "    </tr>\n",
       "    <tr>\n",
       "      <th rowspan=\"3\" valign=\"top\">3</th>\n",
       "      <th>0.00</th>\n",
       "      <th>1</th>\n",
       "      <td>-20.723745</td>\n",
       "      <td>0.000000</td>\n",
       "      <td>-20.723745</td>\n",
       "    </tr>\n",
       "    <tr>\n",
       "      <th>299.75</th>\n",
       "      <th>46</th>\n",
       "      <td>-20.794837</td>\n",
       "      <td>0.085725</td>\n",
       "      <td>-20.709112</td>\n",
       "    </tr>\n",
       "    <tr>\n",
       "      <th>1013.00</th>\n",
       "      <th>76</th>\n",
       "      <td>-20.888881</td>\n",
       "      <td>0.836471</td>\n",
       "      <td>-20.052409</td>\n",
       "    </tr>\n",
       "  </tbody>\n",
       "</table>\n",
       "</div>"
      ],
      "text/plain": [
       "                       flug      fldg      fnetg\n",
       "g pressure level                                \n",
       "1 0.00     1      -0.178272  0.000000  -0.178272\n",
       "  299.75   46     -0.221894  0.092174  -0.129720\n",
       "  1013.00  76     -0.265186  0.179247  -0.085938\n",
       "2 0.00     1      -2.128125  0.000000  -2.128125\n",
       "  299.75   46     -2.279715  0.234693  -2.045022\n",
       "  1013.00  76     -2.437072  0.854559  -1.582512\n",
       "3 0.00     1     -20.723745  0.000000 -20.723745\n",
       "  299.75   46    -20.794837  0.085725 -20.709112\n",
       "  1013.00  76    -20.888881  0.836471 -20.052409"
      ]
     },
     "metadata": {},
     "output_type": "display_data"
    },
    {
     "data": {
      "text/markdown": [
       "*TABLE.* Fluxes. CRD"
      ],
      "text/plain": [
       "<IPython.core.display.Markdown object>"
      ]
     },
     "metadata": {},
     "output_type": "display_data"
    },
    {
     "data": {
      "text/html": [
       "<div>\n",
       "<style scoped>\n",
       "    .dataframe tbody tr th:only-of-type {\n",
       "        vertical-align: middle;\n",
       "    }\n",
       "\n",
       "    .dataframe tbody tr th {\n",
       "        vertical-align: top;\n",
       "    }\n",
       "\n",
       "    .dataframe thead th {\n",
       "        text-align: right;\n",
       "    }\n",
       "</style>\n",
       "<table border=\"1\" class=\"dataframe\">\n",
       "  <thead>\n",
       "    <tr style=\"text-align: right;\">\n",
       "      <th></th>\n",
       "      <th></th>\n",
       "      <th></th>\n",
       "      <th>flug</th>\n",
       "      <th>fldg</th>\n",
       "      <th>fnetg</th>\n",
       "    </tr>\n",
       "    <tr>\n",
       "      <th>g</th>\n",
       "      <th>pressure</th>\n",
       "      <th>level</th>\n",
       "      <th></th>\n",
       "      <th></th>\n",
       "      <th></th>\n",
       "    </tr>\n",
       "  </thead>\n",
       "  <tbody>\n",
       "    <tr>\n",
       "      <th rowspan=\"3\" valign=\"top\">1</th>\n",
       "      <th>0.00</th>\n",
       "      <th>1</th>\n",
       "      <td>-0.163491</td>\n",
       "      <td>0.000000</td>\n",
       "      <td>-0.163491</td>\n",
       "    </tr>\n",
       "    <tr>\n",
       "      <th>299.75</th>\n",
       "      <th>46</th>\n",
       "      <td>-0.212396</td>\n",
       "      <td>0.107138</td>\n",
       "      <td>-0.105258</td>\n",
       "    </tr>\n",
       "    <tr>\n",
       "      <th>1013.00</th>\n",
       "      <th>76</th>\n",
       "      <td>-0.264807</td>\n",
       "      <td>0.222828</td>\n",
       "      <td>-0.041979</td>\n",
       "    </tr>\n",
       "    <tr>\n",
       "      <th rowspan=\"3\" valign=\"top\">2</th>\n",
       "      <th>0.00</th>\n",
       "      <th>1</th>\n",
       "      <td>-2.130347</td>\n",
       "      <td>0.000000</td>\n",
       "      <td>-2.130347</td>\n",
       "    </tr>\n",
       "    <tr>\n",
       "      <th>299.75</th>\n",
       "      <th>46</th>\n",
       "      <td>-2.285836</td>\n",
       "      <td>0.219435</td>\n",
       "      <td>-2.066400</td>\n",
       "    </tr>\n",
       "    <tr>\n",
       "      <th>1013.00</th>\n",
       "      <th>76</th>\n",
       "      <td>-2.432962</td>\n",
       "      <td>0.902895</td>\n",
       "      <td>-1.530067</td>\n",
       "    </tr>\n",
       "    <tr>\n",
       "      <th rowspan=\"3\" valign=\"top\">3</th>\n",
       "      <th>0.00</th>\n",
       "      <th>1</th>\n",
       "      <td>-20.734260</td>\n",
       "      <td>0.000000</td>\n",
       "      <td>-20.734260</td>\n",
       "    </tr>\n",
       "    <tr>\n",
       "      <th>299.75</th>\n",
       "      <th>46</th>\n",
       "      <td>-20.803835</td>\n",
       "      <td>0.083294</td>\n",
       "      <td>-20.720541</td>\n",
       "    </tr>\n",
       "    <tr>\n",
       "      <th>1013.00</th>\n",
       "      <th>76</th>\n",
       "      <td>-20.893369</td>\n",
       "      <td>0.829996</td>\n",
       "      <td>-20.063373</td>\n",
       "    </tr>\n",
       "  </tbody>\n",
       "</table>\n",
       "</div>"
      ],
      "text/plain": [
       "                       flug      fldg      fnetg\n",
       "g pressure level                                \n",
       "1 0.00     1      -0.163491  0.000000  -0.163491\n",
       "  299.75   46     -0.212396  0.107138  -0.105258\n",
       "  1013.00  76     -0.264807  0.222828  -0.041979\n",
       "2 0.00     1      -2.130347  0.000000  -2.130347\n",
       "  299.75   46     -2.285836  0.219435  -2.066400\n",
       "  1013.00  76     -2.432962  0.902895  -1.530067\n",
       "3 0.00     1     -20.734260  0.000000 -20.734260\n",
       "  299.75   46    -20.803835  0.083294 -20.720541\n",
       "  1013.00  76    -20.893369  0.829996 -20.063373"
      ]
     },
     "metadata": {},
     "output_type": "display_data"
    },
    {
     "data": {
      "text/markdown": [
       "*TABLE.* Fluxes. WGT igg=1"
      ],
      "text/plain": [
       "<IPython.core.display.Markdown object>"
      ]
     },
     "metadata": {},
     "output_type": "display_data"
    },
    {
     "data": {
      "text/html": [
       "<div>\n",
       "<style scoped>\n",
       "    .dataframe tbody tr th:only-of-type {\n",
       "        vertical-align: middle;\n",
       "    }\n",
       "\n",
       "    .dataframe tbody tr th {\n",
       "        vertical-align: top;\n",
       "    }\n",
       "\n",
       "    .dataframe thead th {\n",
       "        text-align: right;\n",
       "    }\n",
       "</style>\n",
       "<table border=\"1\" class=\"dataframe\">\n",
       "  <thead>\n",
       "    <tr style=\"text-align: right;\">\n",
       "      <th></th>\n",
       "      <th></th>\n",
       "      <th></th>\n",
       "      <th>flug</th>\n",
       "      <th>fldg</th>\n",
       "      <th>fnetg</th>\n",
       "    </tr>\n",
       "    <tr>\n",
       "      <th>g</th>\n",
       "      <th>pressure</th>\n",
       "      <th>level</th>\n",
       "      <th></th>\n",
       "      <th></th>\n",
       "      <th></th>\n",
       "    </tr>\n",
       "  </thead>\n",
       "  <tbody>\n",
       "    <tr>\n",
       "      <th rowspan=\"3\" valign=\"top\">1</th>\n",
       "      <th>0.00</th>\n",
       "      <th>1</th>\n",
       "      <td>-0.156900</td>\n",
       "      <td>0.000000</td>\n",
       "      <td>-0.156900</td>\n",
       "    </tr>\n",
       "    <tr>\n",
       "      <th>299.75</th>\n",
       "      <th>46</th>\n",
       "      <td>-0.209478</td>\n",
       "      <td>0.114731</td>\n",
       "      <td>-0.094747</td>\n",
       "    </tr>\n",
       "    <tr>\n",
       "      <th>1013.00</th>\n",
       "      <th>76</th>\n",
       "      <td>-0.264807</td>\n",
       "      <td>0.233119</td>\n",
       "      <td>-0.031688</td>\n",
       "    </tr>\n",
       "    <tr>\n",
       "      <th rowspan=\"3\" valign=\"top\">2</th>\n",
       "      <th>0.00</th>\n",
       "      <th>1</th>\n",
       "      <td>-2.146032</td>\n",
       "      <td>0.000000</td>\n",
       "      <td>-2.146032</td>\n",
       "    </tr>\n",
       "    <tr>\n",
       "      <th>299.75</th>\n",
       "      <th>46</th>\n",
       "      <td>-2.298678</td>\n",
       "      <td>0.200434</td>\n",
       "      <td>-2.098244</td>\n",
       "    </tr>\n",
       "    <tr>\n",
       "      <th>1013.00</th>\n",
       "      <th>76</th>\n",
       "      <td>-2.432962</td>\n",
       "      <td>0.883059</td>\n",
       "      <td>-1.549903</td>\n",
       "    </tr>\n",
       "    <tr>\n",
       "      <th rowspan=\"3\" valign=\"top\">3</th>\n",
       "      <th>0.00</th>\n",
       "      <th>1</th>\n",
       "      <td>-20.747570</td>\n",
       "      <td>0.000000</td>\n",
       "      <td>-20.747570</td>\n",
       "    </tr>\n",
       "    <tr>\n",
       "      <th>299.75</th>\n",
       "      <th>46</th>\n",
       "      <td>-20.811702</td>\n",
       "      <td>0.075656</td>\n",
       "      <td>-20.736046</td>\n",
       "    </tr>\n",
       "    <tr>\n",
       "      <th>1013.00</th>\n",
       "      <th>76</th>\n",
       "      <td>-20.893369</td>\n",
       "      <td>0.772548</td>\n",
       "      <td>-20.120820</td>\n",
       "    </tr>\n",
       "  </tbody>\n",
       "</table>\n",
       "</div>"
      ],
      "text/plain": [
       "                       flug      fldg      fnetg\n",
       "g pressure level                                \n",
       "1 0.00     1      -0.156900  0.000000  -0.156900\n",
       "  299.75   46     -0.209478  0.114731  -0.094747\n",
       "  1013.00  76     -0.264807  0.233119  -0.031688\n",
       "2 0.00     1      -2.146032  0.000000  -2.146032\n",
       "  299.75   46     -2.298678  0.200434  -2.098244\n",
       "  1013.00  76     -2.432962  0.883059  -1.549903\n",
       "3 0.00     1     -20.747570  0.000000 -20.747570\n",
       "  299.75   46    -20.811702  0.075656 -20.736046\n",
       "  1013.00  76    -20.893369  0.772548 -20.120820"
      ]
     },
     "metadata": {},
     "output_type": "display_data"
    },
    {
     "data": {
      "text/markdown": [
       "*TABLE.* Fluxes. WGT igg=10"
      ],
      "text/plain": [
       "<IPython.core.display.Markdown object>"
      ]
     },
     "metadata": {},
     "output_type": "display_data"
    },
    {
     "data": {
      "text/html": [
       "<div>\n",
       "<style scoped>\n",
       "    .dataframe tbody tr th:only-of-type {\n",
       "        vertical-align: middle;\n",
       "    }\n",
       "\n",
       "    .dataframe tbody tr th {\n",
       "        vertical-align: top;\n",
       "    }\n",
       "\n",
       "    .dataframe thead th {\n",
       "        text-align: right;\n",
       "    }\n",
       "</style>\n",
       "<table border=\"1\" class=\"dataframe\">\n",
       "  <thead>\n",
       "    <tr style=\"text-align: right;\">\n",
       "      <th></th>\n",
       "      <th></th>\n",
       "      <th></th>\n",
       "      <th>flug</th>\n",
       "      <th>fldg</th>\n",
       "      <th>fnetg</th>\n",
       "    </tr>\n",
       "    <tr>\n",
       "      <th>g</th>\n",
       "      <th>pressure</th>\n",
       "      <th>level</th>\n",
       "      <th></th>\n",
       "      <th></th>\n",
       "      <th></th>\n",
       "    </tr>\n",
       "  </thead>\n",
       "  <tbody>\n",
       "    <tr>\n",
       "      <th rowspan=\"3\" valign=\"top\">1</th>\n",
       "      <th>0.00</th>\n",
       "      <th>1</th>\n",
       "      <td>0.014781</td>\n",
       "      <td>0.000000</td>\n",
       "      <td>0.014781</td>\n",
       "    </tr>\n",
       "    <tr>\n",
       "      <th>299.75</th>\n",
       "      <th>46</th>\n",
       "      <td>0.009498</td>\n",
       "      <td>0.014964</td>\n",
       "      <td>0.024462</td>\n",
       "    </tr>\n",
       "    <tr>\n",
       "      <th>1013.00</th>\n",
       "      <th>76</th>\n",
       "      <td>0.000378</td>\n",
       "      <td>0.043580</td>\n",
       "      <td>0.043959</td>\n",
       "    </tr>\n",
       "    <tr>\n",
       "      <th rowspan=\"3\" valign=\"top\">2</th>\n",
       "      <th>0.00</th>\n",
       "      <th>1</th>\n",
       "      <td>-0.002223</td>\n",
       "      <td>0.000000</td>\n",
       "      <td>-0.002223</td>\n",
       "    </tr>\n",
       "    <tr>\n",
       "      <th>299.75</th>\n",
       "      <th>46</th>\n",
       "      <td>-0.006121</td>\n",
       "      <td>-0.015258</td>\n",
       "      <td>-0.021379</td>\n",
       "    </tr>\n",
       "    <tr>\n",
       "      <th>1013.00</th>\n",
       "      <th>76</th>\n",
       "      <td>0.004110</td>\n",
       "      <td>0.048336</td>\n",
       "      <td>0.052445</td>\n",
       "    </tr>\n",
       "    <tr>\n",
       "      <th rowspan=\"3\" valign=\"top\">3</th>\n",
       "      <th>0.00</th>\n",
       "      <th>1</th>\n",
       "      <td>-0.010515</td>\n",
       "      <td>0.000000</td>\n",
       "      <td>-0.010515</td>\n",
       "    </tr>\n",
       "    <tr>\n",
       "      <th>299.75</th>\n",
       "      <th>46</th>\n",
       "      <td>-0.008998</td>\n",
       "      <td>-0.002431</td>\n",
       "      <td>-0.011429</td>\n",
       "    </tr>\n",
       "    <tr>\n",
       "      <th>1013.00</th>\n",
       "      <th>76</th>\n",
       "      <td>-0.004488</td>\n",
       "      <td>-0.006476</td>\n",
       "      <td>-0.010964</td>\n",
       "    </tr>\n",
       "  </tbody>\n",
       "</table>\n",
       "</div>"
      ],
      "text/plain": [
       "                      flug      fldg     fnetg\n",
       "g pressure level                              \n",
       "1 0.00     1      0.014781  0.000000  0.014781\n",
       "  299.75   46     0.009498  0.014964  0.024462\n",
       "  1013.00  76     0.000378  0.043580  0.043959\n",
       "2 0.00     1     -0.002223  0.000000 -0.002223\n",
       "  299.75   46    -0.006121 -0.015258 -0.021379\n",
       "  1013.00  76     0.004110  0.048336  0.052445\n",
       "3 0.00     1     -0.010515  0.000000 -0.010515\n",
       "  299.75   46    -0.008998 -0.002431 -0.011429\n",
       "  1013.00  76    -0.004488 -0.006476 -0.010964"
      ]
     },
     "metadata": {},
     "output_type": "display_data"
    },
    {
     "data": {
      "text/markdown": [
       "*TABLE.* Fluxes. (WGT igg=1) - (CRD)"
      ],
      "text/plain": [
       "<IPython.core.display.Markdown object>"
      ]
     },
     "metadata": {},
     "output_type": "display_data"
    },
    {
     "data": {
      "text/html": [
       "<div>\n",
       "<style scoped>\n",
       "    .dataframe tbody tr th:only-of-type {\n",
       "        vertical-align: middle;\n",
       "    }\n",
       "\n",
       "    .dataframe tbody tr th {\n",
       "        vertical-align: top;\n",
       "    }\n",
       "\n",
       "    .dataframe thead th {\n",
       "        text-align: right;\n",
       "    }\n",
       "</style>\n",
       "<table border=\"1\" class=\"dataframe\">\n",
       "  <thead>\n",
       "    <tr style=\"text-align: right;\">\n",
       "      <th></th>\n",
       "      <th></th>\n",
       "      <th></th>\n",
       "      <th>flug</th>\n",
       "      <th>fldg</th>\n",
       "      <th>fnetg</th>\n",
       "    </tr>\n",
       "    <tr>\n",
       "      <th>g</th>\n",
       "      <th>pressure</th>\n",
       "      <th>level</th>\n",
       "      <th></th>\n",
       "      <th></th>\n",
       "      <th></th>\n",
       "    </tr>\n",
       "  </thead>\n",
       "  <tbody>\n",
       "    <tr>\n",
       "      <th rowspan=\"3\" valign=\"top\">1</th>\n",
       "      <th>0.00</th>\n",
       "      <th>1</th>\n",
       "      <td>0.021372</td>\n",
       "      <td>0.000000</td>\n",
       "      <td>0.021372</td>\n",
       "    </tr>\n",
       "    <tr>\n",
       "      <th>299.75</th>\n",
       "      <th>46</th>\n",
       "      <td>0.012416</td>\n",
       "      <td>0.022557</td>\n",
       "      <td>0.034973</td>\n",
       "    </tr>\n",
       "    <tr>\n",
       "      <th>1013.00</th>\n",
       "      <th>76</th>\n",
       "      <td>0.000378</td>\n",
       "      <td>0.053872</td>\n",
       "      <td>0.054250</td>\n",
       "    </tr>\n",
       "    <tr>\n",
       "      <th rowspan=\"3\" valign=\"top\">2</th>\n",
       "      <th>0.00</th>\n",
       "      <th>1</th>\n",
       "      <td>-0.017907</td>\n",
       "      <td>0.000000</td>\n",
       "      <td>-0.017907</td>\n",
       "    </tr>\n",
       "    <tr>\n",
       "      <th>299.75</th>\n",
       "      <th>46</th>\n",
       "      <td>-0.018963</td>\n",
       "      <td>-0.034259</td>\n",
       "      <td>-0.053222</td>\n",
       "    </tr>\n",
       "    <tr>\n",
       "      <th>1013.00</th>\n",
       "      <th>76</th>\n",
       "      <td>0.004110</td>\n",
       "      <td>0.028500</td>\n",
       "      <td>0.032610</td>\n",
       "    </tr>\n",
       "    <tr>\n",
       "      <th rowspan=\"3\" valign=\"top\">3</th>\n",
       "      <th>0.00</th>\n",
       "      <th>1</th>\n",
       "      <td>-0.023825</td>\n",
       "      <td>0.000000</td>\n",
       "      <td>-0.023825</td>\n",
       "    </tr>\n",
       "    <tr>\n",
       "      <th>299.75</th>\n",
       "      <th>46</th>\n",
       "      <td>-0.016865</td>\n",
       "      <td>-0.010069</td>\n",
       "      <td>-0.026934</td>\n",
       "    </tr>\n",
       "    <tr>\n",
       "      <th>1013.00</th>\n",
       "      <th>76</th>\n",
       "      <td>-0.004488</td>\n",
       "      <td>-0.063923</td>\n",
       "      <td>-0.068411</td>\n",
       "    </tr>\n",
       "  </tbody>\n",
       "</table>\n",
       "</div>"
      ],
      "text/plain": [
       "                      flug      fldg     fnetg\n",
       "g pressure level                              \n",
       "1 0.00     1      0.021372  0.000000  0.021372\n",
       "  299.75   46     0.012416  0.022557  0.034973\n",
       "  1013.00  76     0.000378  0.053872  0.054250\n",
       "2 0.00     1     -0.017907  0.000000 -0.017907\n",
       "  299.75   46    -0.018963 -0.034259 -0.053222\n",
       "  1013.00  76     0.004110  0.028500  0.032610\n",
       "3 0.00     1     -0.023825  0.000000 -0.023825\n",
       "  299.75   46    -0.016865 -0.010069 -0.026934\n",
       "  1013.00  76    -0.004488 -0.063923 -0.068411"
      ]
     },
     "metadata": {},
     "output_type": "display_data"
    },
    {
     "data": {
      "text/markdown": [
       "*TABLE.* Fluxes. (WGT igg=10) - (CRD)"
      ],
      "text/plain": [
       "<IPython.core.display.Markdown object>"
      ]
     },
     "metadata": {},
     "output_type": "display_data"
    },
    {
     "data": {
      "text/html": [
       "<div>\n",
       "<style scoped>\n",
       "    .dataframe tbody tr th:only-of-type {\n",
       "        vertical-align: middle;\n",
       "    }\n",
       "\n",
       "    .dataframe tbody tr th {\n",
       "        vertical-align: top;\n",
       "    }\n",
       "\n",
       "    .dataframe thead th {\n",
       "        text-align: right;\n",
       "    }\n",
       "</style>\n",
       "<table border=\"1\" class=\"dataframe\">\n",
       "  <thead>\n",
       "    <tr style=\"text-align: right;\">\n",
       "      <th></th>\n",
       "      <th></th>\n",
       "      <th>flug</th>\n",
       "      <th>fldg</th>\n",
       "      <th>fnetg</th>\n",
       "    </tr>\n",
       "    <tr>\n",
       "      <th>pressure</th>\n",
       "      <th>level</th>\n",
       "      <th></th>\n",
       "      <th></th>\n",
       "      <th></th>\n",
       "    </tr>\n",
       "  </thead>\n",
       "  <tbody>\n",
       "    <tr>\n",
       "      <th>0.00</th>\n",
       "      <th>1</th>\n",
       "      <td>-23.030142</td>\n",
       "      <td>0.000000</td>\n",
       "      <td>-23.030142</td>\n",
       "    </tr>\n",
       "    <tr>\n",
       "      <th>299.75</th>\n",
       "      <th>46</th>\n",
       "      <td>-23.296446</td>\n",
       "      <td>0.412593</td>\n",
       "      <td>-22.883854</td>\n",
       "    </tr>\n",
       "    <tr>\n",
       "      <th>1013.00</th>\n",
       "      <th>76</th>\n",
       "      <td>-23.591138</td>\n",
       "      <td>1.870278</td>\n",
       "      <td>-21.720860</td>\n",
       "    </tr>\n",
       "  </tbody>\n",
       "</table>\n",
       "</div>"
      ],
      "text/plain": [
       "                     flug      fldg      fnetg\n",
       "pressure level                                \n",
       "0.00     1     -23.030142  0.000000 -23.030142\n",
       "299.75   46    -23.296446  0.412593 -22.883854\n",
       "1013.00  76    -23.591138  1.870278 -21.720860"
      ]
     },
     "metadata": {},
     "output_type": "display_data"
    },
    {
     "data": {
      "text/markdown": [
       "*TABLE.* Fluxes. CRD"
      ],
      "text/plain": [
       "<IPython.core.display.Markdown object>"
      ]
     },
     "metadata": {},
     "output_type": "display_data"
    },
    {
     "data": {
      "text/html": [
       "<div>\n",
       "<style scoped>\n",
       "    .dataframe tbody tr th:only-of-type {\n",
       "        vertical-align: middle;\n",
       "    }\n",
       "\n",
       "    .dataframe tbody tr th {\n",
       "        vertical-align: top;\n",
       "    }\n",
       "\n",
       "    .dataframe thead th {\n",
       "        text-align: right;\n",
       "    }\n",
       "</style>\n",
       "<table border=\"1\" class=\"dataframe\">\n",
       "  <thead>\n",
       "    <tr style=\"text-align: right;\">\n",
       "      <th></th>\n",
       "      <th></th>\n",
       "      <th>flug</th>\n",
       "      <th>fldg</th>\n",
       "      <th>fnetg</th>\n",
       "    </tr>\n",
       "    <tr>\n",
       "      <th>pressure</th>\n",
       "      <th>level</th>\n",
       "      <th></th>\n",
       "      <th></th>\n",
       "      <th></th>\n",
       "    </tr>\n",
       "  </thead>\n",
       "  <tbody>\n",
       "    <tr>\n",
       "      <th>0.00</th>\n",
       "      <th>1</th>\n",
       "      <td>-23.028098</td>\n",
       "      <td>0.000000</td>\n",
       "      <td>-23.028098</td>\n",
       "    </tr>\n",
       "    <tr>\n",
       "      <th>299.75</th>\n",
       "      <th>46</th>\n",
       "      <td>-23.302067</td>\n",
       "      <td>0.409867</td>\n",
       "      <td>-22.892199</td>\n",
       "    </tr>\n",
       "    <tr>\n",
       "      <th>1013.00</th>\n",
       "      <th>76</th>\n",
       "      <td>-23.591138</td>\n",
       "      <td>1.955718</td>\n",
       "      <td>-21.635419</td>\n",
       "    </tr>\n",
       "  </tbody>\n",
       "</table>\n",
       "</div>"
      ],
      "text/plain": [
       "                     flug      fldg      fnetg\n",
       "pressure level                                \n",
       "0.00     1     -23.028098  0.000000 -23.028098\n",
       "299.75   46    -23.302067  0.409867 -22.892199\n",
       "1013.00  76    -23.591138  1.955718 -21.635419"
      ]
     },
     "metadata": {},
     "output_type": "display_data"
    },
    {
     "data": {
      "text/markdown": [
       "*TABLE.* Fluxes. WGT igg=1"
      ],
      "text/plain": [
       "<IPython.core.display.Markdown object>"
      ]
     },
     "metadata": {},
     "output_type": "display_data"
    },
    {
     "data": {
      "text/html": [
       "<div>\n",
       "<style scoped>\n",
       "    .dataframe tbody tr th:only-of-type {\n",
       "        vertical-align: middle;\n",
       "    }\n",
       "\n",
       "    .dataframe tbody tr th {\n",
       "        vertical-align: top;\n",
       "    }\n",
       "\n",
       "    .dataframe thead th {\n",
       "        text-align: right;\n",
       "    }\n",
       "</style>\n",
       "<table border=\"1\" class=\"dataframe\">\n",
       "  <thead>\n",
       "    <tr style=\"text-align: right;\">\n",
       "      <th></th>\n",
       "      <th></th>\n",
       "      <th>flug</th>\n",
       "      <th>fldg</th>\n",
       "      <th>fnetg</th>\n",
       "    </tr>\n",
       "    <tr>\n",
       "      <th>pressure</th>\n",
       "      <th>level</th>\n",
       "      <th></th>\n",
       "      <th></th>\n",
       "      <th></th>\n",
       "    </tr>\n",
       "  </thead>\n",
       "  <tbody>\n",
       "    <tr>\n",
       "      <th>0.00</th>\n",
       "      <th>1</th>\n",
       "      <td>-23.050502</td>\n",
       "      <td>0.000000</td>\n",
       "      <td>-23.050502</td>\n",
       "    </tr>\n",
       "    <tr>\n",
       "      <th>299.75</th>\n",
       "      <th>46</th>\n",
       "      <td>-23.319857</td>\n",
       "      <td>0.390821</td>\n",
       "      <td>-22.929036</td>\n",
       "    </tr>\n",
       "    <tr>\n",
       "      <th>1013.00</th>\n",
       "      <th>76</th>\n",
       "      <td>-23.591138</td>\n",
       "      <td>1.888727</td>\n",
       "      <td>-21.702411</td>\n",
       "    </tr>\n",
       "  </tbody>\n",
       "</table>\n",
       "</div>"
      ],
      "text/plain": [
       "                     flug      fldg      fnetg\n",
       "pressure level                                \n",
       "0.00     1     -23.050502  0.000000 -23.050502\n",
       "299.75   46    -23.319857  0.390821 -22.929036\n",
       "1013.00  76    -23.591138  1.888727 -21.702411"
      ]
     },
     "metadata": {},
     "output_type": "display_data"
    },
    {
     "data": {
      "text/markdown": [
       "*TABLE.* Fluxes. WGT igg=10"
      ],
      "text/plain": [
       "<IPython.core.display.Markdown object>"
      ]
     },
     "metadata": {},
     "output_type": "display_data"
    },
    {
     "data": {
      "text/html": [
       "<div>\n",
       "<style scoped>\n",
       "    .dataframe tbody tr th:only-of-type {\n",
       "        vertical-align: middle;\n",
       "    }\n",
       "\n",
       "    .dataframe tbody tr th {\n",
       "        vertical-align: top;\n",
       "    }\n",
       "\n",
       "    .dataframe thead th {\n",
       "        text-align: right;\n",
       "    }\n",
       "</style>\n",
       "<table border=\"1\" class=\"dataframe\">\n",
       "  <thead>\n",
       "    <tr style=\"text-align: right;\">\n",
       "      <th></th>\n",
       "      <th></th>\n",
       "      <th>flug</th>\n",
       "      <th>fldg</th>\n",
       "      <th>fnetg</th>\n",
       "    </tr>\n",
       "    <tr>\n",
       "      <th>pressure</th>\n",
       "      <th>level</th>\n",
       "      <th></th>\n",
       "      <th></th>\n",
       "      <th></th>\n",
       "    </tr>\n",
       "  </thead>\n",
       "  <tbody>\n",
       "    <tr>\n",
       "      <th>0.00</th>\n",
       "      <th>1</th>\n",
       "      <td>2.043570e-03</td>\n",
       "      <td>0.000000</td>\n",
       "      <td>0.002044</td>\n",
       "    </tr>\n",
       "    <tr>\n",
       "      <th>299.75</th>\n",
       "      <th>46</th>\n",
       "      <td>-5.620650e-03</td>\n",
       "      <td>-0.002725</td>\n",
       "      <td>-0.008346</td>\n",
       "    </tr>\n",
       "    <tr>\n",
       "      <th>1013.00</th>\n",
       "      <th>76</th>\n",
       "      <td>-5.000000e-08</td>\n",
       "      <td>0.085440</td>\n",
       "      <td>0.085440</td>\n",
       "    </tr>\n",
       "  </tbody>\n",
       "</table>\n",
       "</div>"
      ],
      "text/plain": [
       "                        flug      fldg     fnetg\n",
       "pressure level                                  \n",
       "0.00     1      2.043570e-03  0.000000  0.002044\n",
       "299.75   46    -5.620650e-03 -0.002725 -0.008346\n",
       "1013.00  76    -5.000000e-08  0.085440  0.085440"
      ]
     },
     "metadata": {},
     "output_type": "display_data"
    },
    {
     "data": {
      "text/markdown": [
       "*TABLE.* Fluxes. (WGT igg=1) - (CRD)"
      ],
      "text/plain": [
       "<IPython.core.display.Markdown object>"
      ]
     },
     "metadata": {},
     "output_type": "display_data"
    },
    {
     "data": {
      "text/html": [
       "<div>\n",
       "<style scoped>\n",
       "    .dataframe tbody tr th:only-of-type {\n",
       "        vertical-align: middle;\n",
       "    }\n",
       "\n",
       "    .dataframe tbody tr th {\n",
       "        vertical-align: top;\n",
       "    }\n",
       "\n",
       "    .dataframe thead th {\n",
       "        text-align: right;\n",
       "    }\n",
       "</style>\n",
       "<table border=\"1\" class=\"dataframe\">\n",
       "  <thead>\n",
       "    <tr style=\"text-align: right;\">\n",
       "      <th></th>\n",
       "      <th></th>\n",
       "      <th>flug</th>\n",
       "      <th>fldg</th>\n",
       "      <th>fnetg</th>\n",
       "    </tr>\n",
       "    <tr>\n",
       "      <th>pressure</th>\n",
       "      <th>level</th>\n",
       "      <th></th>\n",
       "      <th></th>\n",
       "      <th></th>\n",
       "    </tr>\n",
       "  </thead>\n",
       "  <tbody>\n",
       "    <tr>\n",
       "      <th>0.00</th>\n",
       "      <th>1</th>\n",
       "      <td>-2.036009e-02</td>\n",
       "      <td>0.000000</td>\n",
       "      <td>-0.020360</td>\n",
       "    </tr>\n",
       "    <tr>\n",
       "      <th>299.75</th>\n",
       "      <th>46</th>\n",
       "      <td>-2.341147e-02</td>\n",
       "      <td>-0.021772</td>\n",
       "      <td>-0.045183</td>\n",
       "    </tr>\n",
       "    <tr>\n",
       "      <th>1013.00</th>\n",
       "      <th>76</th>\n",
       "      <td>-5.000000e-08</td>\n",
       "      <td>0.018449</td>\n",
       "      <td>0.018449</td>\n",
       "    </tr>\n",
       "  </tbody>\n",
       "</table>\n",
       "</div>"
      ],
      "text/plain": [
       "                        flug      fldg     fnetg\n",
       "pressure level                                  \n",
       "0.00     1     -2.036009e-02  0.000000 -0.020360\n",
       "299.75   46    -2.341147e-02 -0.021772 -0.045183\n",
       "1013.00  76    -5.000000e-08  0.018449  0.018449"
      ]
     },
     "metadata": {},
     "output_type": "display_data"
    },
    {
     "data": {
      "text/markdown": [
       "*TABLE.* Fluxes. (WGT igg=10) - (CRD)"
      ],
      "text/plain": [
       "<IPython.core.display.Markdown object>"
      ]
     },
     "metadata": {},
     "output_type": "display_data"
    },
    {
     "data": {
      "text/html": [
       "<a id=\"g-interval_Summary\"></a>"
      ],
      "text/plain": [
       "<IPython.core.display.HTML object>"
      ]
     },
     "metadata": {},
     "output_type": "display_data"
    },
    {
     "data": {
      "text/markdown": [
       "# g-interval Summary"
      ],
      "text/plain": [
       "<IPython.core.display.Markdown object>"
      ]
     },
     "metadata": {},
     "output_type": "display_data"
    },
    {
     "data": {
      "text/html": [
       "<div>\n",
       "<style scoped>\n",
       "    .dataframe tbody tr th:only-of-type {\n",
       "        vertical-align: middle;\n",
       "    }\n",
       "\n",
       "    .dataframe tbody tr th {\n",
       "        vertical-align: top;\n",
       "    }\n",
       "\n",
       "    .dataframe thead th {\n",
       "        text-align: right;\n",
       "    }\n",
       "</style>\n",
       "<table border=\"1\" class=\"dataframe\">\n",
       "  <thead>\n",
       "    <tr style=\"text-align: right;\">\n",
       "      <th></th>\n",
       "      <th>abscom</th>\n",
       "      <th>k(ig) / k(ig - 1)</th>\n",
       "      <th>dg</th>\n",
       "      <th>dgs</th>\n",
       "      <th>dg cumsum</th>\n",
       "      <th>dgs cumsum</th>\n",
       "      <th>pref</th>\n",
       "    </tr>\n",
       "    <tr>\n",
       "      <th>g</th>\n",
       "      <th></th>\n",
       "      <th></th>\n",
       "      <th></th>\n",
       "      <th></th>\n",
       "      <th></th>\n",
       "      <th></th>\n",
       "      <th></th>\n",
       "    </tr>\n",
       "  </thead>\n",
       "  <tbody>\n",
       "    <tr>\n",
       "      <th>1</th>\n",
       "      <td>2.716718e-20</td>\n",
       "      <td>NaN</td>\n",
       "      <td>0.011300</td>\n",
       "      <td>0.011225</td>\n",
       "      <td>0.011300</td>\n",
       "      <td>0.011225</td>\n",
       "      <td>1.0</td>\n",
       "    </tr>\n",
       "    <tr>\n",
       "      <th>2</th>\n",
       "      <td>2.220078e-20</td>\n",
       "      <td>0.817191</td>\n",
       "      <td>0.104012</td>\n",
       "      <td>0.103130</td>\n",
       "      <td>0.115312</td>\n",
       "      <td>0.114355</td>\n",
       "      <td>500.0</td>\n",
       "    </tr>\n",
       "    <tr>\n",
       "      <th>3</th>\n",
       "      <td>7.377351e-24</td>\n",
       "      <td>0.000332</td>\n",
       "      <td>0.884687</td>\n",
       "      <td>0.885645</td>\n",
       "      <td>1.000000</td>\n",
       "      <td>1.000000</td>\n",
       "      <td>500.0</td>\n",
       "    </tr>\n",
       "  </tbody>\n",
       "</table>\n",
       "</div>"
      ],
      "text/plain": [
       "         abscom  k(ig) / k(ig - 1)        dg       dgs  dg cumsum  dgs cumsum  \\\n",
       "g                                                                               \n",
       "1  2.716718e-20                NaN  0.011300  0.011225   0.011300    0.011225   \n",
       "2  2.220078e-20           0.817191  0.104012  0.103130   0.115312    0.114355   \n",
       "3  7.377351e-24           0.000332  0.884687  0.885645   1.000000    1.000000   \n",
       "\n",
       "    pref  \n",
       "g         \n",
       "1    1.0  \n",
       "2  500.0  \n",
       "3  500.0  "
      ]
     },
     "metadata": {},
     "output_type": "display_data"
    },
    {
     "data": {
      "text/markdown": [
       "TABLE. g-interval summary.  *abscom* is the lower bound of the g-interval."
      ],
      "text/plain": [
       "<IPython.core.display.Markdown object>"
      ]
     },
     "metadata": {},
     "output_type": "display_data"
    },
    {
     "data": {
      "text/html": [
       "<a id=\"Download_Data\"></a>"
      ],
      "text/plain": [
       "<IPython.core.display.HTML object>"
      ]
     },
     "metadata": {},
     "output_type": "display_data"
    },
    {
     "data": {
      "text/markdown": [
       "# Download Data"
      ],
      "text/plain": [
       "<IPython.core.display.Markdown object>"
      ]
     },
     "metadata": {},
     "output_type": "display_data"
    },
    {
     "data": {
      "text/html": [
       "Download: <a href=\"./lblnew-bestfit_flux.xlsx\">lblnew-bestfit_flux.xlsx</a>"
      ],
      "text/plain": [
       "<IPython.core.display.HTML object>"
      ]
     },
     "metadata": {},
     "output_type": "display_data"
    },
    {
     "data": {
      "text/html": [
       "Download: <a href=\"./lblnew-bestfit_cool.xlsx\">lblnew-bestfit_cool.xlsx</a>"
      ],
      "text/plain": [
       "<IPython.core.display.HTML object>"
      ]
     },
     "metadata": {},
     "output_type": "display_data"
    }
   ],
   "source": [
    "script()"
   ]
  },
  {
   "cell_type": "code",
   "execution_count": 14,
   "metadata": {},
   "outputs": [
    {
     "data": {
      "text/html": [
       "<script>\n",
       "code_show=true; \n",
       "function code_toggle() {\n",
       " if (code_show){\n",
       " $('div.input').hide();\n",
       " } else {\n",
       " $('div.input').show();\n",
       " }\n",
       " code_show = !code_show\n",
       "} \n",
       "$( document ).ready(code_toggle);\n",
       "</script>\n",
       "<form action=\"javascript:code_toggle()\"><input type=\"submit\" value=\"Click here to toggle on/off the raw code.\"></form>"
      ],
      "text/plain": [
       "<IPython.core.display.HTML object>"
      ]
     },
     "execution_count": 14,
     "metadata": {},
     "output_type": "execute_result"
    }
   ],
   "source": [
    "display.HTML('''<script>\n",
    "code_show=true; \n",
    "function code_toggle() {\n",
    " if (code_show){\n",
    " $('div.input').hide();\n",
    " } else {\n",
    " $('div.input').show();\n",
    " }\n",
    " code_show = !code_show\n",
    "} \n",
    "$( document ).ready(code_toggle);\n",
    "</script>\n",
    "<form action=\"javascript:code_toggle()\"><input type=\"submit\" value=\"Click here to toggle on/off the raw code.\"></form>''')"
   ]
  },
  {
   "cell_type": "code",
   "execution_count": 15,
   "metadata": {
    "collapsed": true
   },
   "outputs": [],
   "source": []
  }
 ],
 "metadata": {
  "kernelspec": {
   "display_name": "Python 3",
   "language": "python",
   "name": "python3"
  },
  "language_info": {
   "codemirror_mode": {
    "name": "ipython",
    "version": 3
   },
   "file_extension": ".py",
   "mimetype": "text/x-python",
   "name": "python",
   "nbconvert_exporter": "python",
   "pygments_lexer": "ipython3",
   "version": "3.6.1"
  }
 },
 "nbformat": 4,
 "nbformat_minor": 2
}
