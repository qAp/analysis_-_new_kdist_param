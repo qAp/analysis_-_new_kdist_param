{
 "cells": [
  {
   "cell_type": "code",
   "execution_count": 1,
   "metadata": {
    "collapsed": true
   },
   "outputs": [],
   "source": [
    "%reload_ext autoreload\n",
    "%autoreload 2\n",
    "%matplotlib inline"
   ]
  },
  {
   "cell_type": "code",
   "execution_count": 2,
   "metadata": {
    "collapsed": true
   },
   "outputs": [],
   "source": [
    "import io\n",
    "\n",
    "import numpy as np\n",
    "import pymongo\n",
    "\n",
    "from bokeh.io import output_notebook, show\n",
    "from bokeh.palettes import all_palettes\n",
    "from bokeh.layouts import gridplot\n",
    "\n",
    "from IPython import display\n",
    "\n",
    "from climatools.cliradlw.dataset import load_output_file\n",
    "import climatools.html.html as climahtml\n",
    "from climatools.plot.plot import *"
   ]
  },
  {
   "cell_type": "code",
   "execution_count": 3,
   "metadata": {},
   "outputs": [
    {
     "data": {
      "text/html": [
       "\n",
       "    <div class=\"bk-root\">\n",
       "        <a href=\"https://bokeh.pydata.org\" target=\"_blank\" class=\"bk-logo bk-logo-small bk-logo-notebook\"></a>\n",
       "        <span id=\"5ed76fde-5388-484e-8375-74cae47bbac8\">Loading BokehJS ...</span>\n",
       "    </div>"
      ]
     },
     "metadata": {},
     "output_type": "display_data"
    },
    {
     "data": {
      "application/javascript": [
       "\n",
       "(function(root) {\n",
       "  function now() {\n",
       "    return new Date();\n",
       "  }\n",
       "\n",
       "  var force = true;\n",
       "\n",
       "  if (typeof (root._bokeh_onload_callbacks) === \"undefined\" || force === true) {\n",
       "    root._bokeh_onload_callbacks = [];\n",
       "    root._bokeh_is_loading = undefined;\n",
       "  }\n",
       "\n",
       "  var JS_MIME_TYPE = 'application/javascript';\n",
       "  var HTML_MIME_TYPE = 'text/html';\n",
       "  var EXEC_MIME_TYPE = 'application/vnd.bokehjs_exec.v0+json';\n",
       "  var CLASS_NAME = 'output_bokeh rendered_html';\n",
       "\n",
       "  /**\n",
       "   * Render data to the DOM node\n",
       "   */\n",
       "  function render(props, node) {\n",
       "    var script = document.createElement(\"script\");\n",
       "    node.appendChild(script);\n",
       "  }\n",
       "\n",
       "  /**\n",
       "   * Handle when an output is cleared or removed\n",
       "   */\n",
       "  function handleClearOutput(event, handle) {\n",
       "    var cell = handle.cell;\n",
       "\n",
       "    var id = cell.output_area._bokeh_element_id;\n",
       "    var server_id = cell.output_area._bokeh_server_id;\n",
       "    // Clean up Bokeh references\n",
       "    if (id !== undefined) {\n",
       "      Bokeh.index[id].model.document.clear();\n",
       "      delete Bokeh.index[id];\n",
       "    }\n",
       "\n",
       "    if (server_id !== undefined) {\n",
       "      // Clean up Bokeh references\n",
       "      var cmd = \"from bokeh.io.state import curstate; print(curstate().uuid_to_server['\" + server_id + \"'].get_sessions()[0].document.roots[0]._id)\";\n",
       "      cell.notebook.kernel.execute(cmd, {\n",
       "        iopub: {\n",
       "          output: function(msg) {\n",
       "            var element_id = msg.content.text.trim();\n",
       "            Bokeh.index[element_id].model.document.clear();\n",
       "            delete Bokeh.index[element_id];\n",
       "          }\n",
       "        }\n",
       "      });\n",
       "      // Destroy server and session\n",
       "      var cmd = \"import bokeh.io.notebook as ion; ion.destroy_server('\" + server_id + \"')\";\n",
       "      cell.notebook.kernel.execute(cmd);\n",
       "    }\n",
       "  }\n",
       "\n",
       "  /**\n",
       "   * Handle when a new output is added\n",
       "   */\n",
       "  function handleAddOutput(event, handle) {\n",
       "    var output_area = handle.output_area;\n",
       "    var output = handle.output;\n",
       "\n",
       "    // limit handleAddOutput to display_data with EXEC_MIME_TYPE content only\n",
       "    if ((output.output_type != \"display_data\") || (!output.data.hasOwnProperty(EXEC_MIME_TYPE))) {\n",
       "      return\n",
       "    }\n",
       "\n",
       "    var toinsert = output_area.element.find(\".\" + CLASS_NAME.split(' ')[0]);\n",
       "\n",
       "    if (output.metadata[EXEC_MIME_TYPE][\"id\"] !== undefined) {\n",
       "      toinsert[toinsert.length - 1].firstChild.textContent = output.data[JS_MIME_TYPE];\n",
       "      // store reference to embed id on output_area\n",
       "      output_area._bokeh_element_id = output.metadata[EXEC_MIME_TYPE][\"id\"];\n",
       "    }\n",
       "    if (output.metadata[EXEC_MIME_TYPE][\"server_id\"] !== undefined) {\n",
       "      var bk_div = document.createElement(\"div\");\n",
       "      bk_div.innerHTML = output.data[HTML_MIME_TYPE];\n",
       "      var script_attrs = bk_div.children[0].attributes;\n",
       "      for (var i = 0; i < script_attrs.length; i++) {\n",
       "        toinsert[toinsert.length - 1].firstChild.setAttribute(script_attrs[i].name, script_attrs[i].value);\n",
       "      }\n",
       "      // store reference to server id on output_area\n",
       "      output_area._bokeh_server_id = output.metadata[EXEC_MIME_TYPE][\"server_id\"];\n",
       "    }\n",
       "  }\n",
       "\n",
       "  function register_renderer(events, OutputArea) {\n",
       "\n",
       "    function append_mime(data, metadata, element) {\n",
       "      // create a DOM node to render to\n",
       "      var toinsert = this.create_output_subarea(\n",
       "        metadata,\n",
       "        CLASS_NAME,\n",
       "        EXEC_MIME_TYPE\n",
       "      );\n",
       "      this.keyboard_manager.register_events(toinsert);\n",
       "      // Render to node\n",
       "      var props = {data: data, metadata: metadata[EXEC_MIME_TYPE]};\n",
       "      render(props, toinsert[toinsert.length - 1]);\n",
       "      element.append(toinsert);\n",
       "      return toinsert\n",
       "    }\n",
       "\n",
       "    /* Handle when an output is cleared or removed */\n",
       "    events.on('clear_output.CodeCell', handleClearOutput);\n",
       "    events.on('delete.Cell', handleClearOutput);\n",
       "\n",
       "    /* Handle when a new output is added */\n",
       "    events.on('output_added.OutputArea', handleAddOutput);\n",
       "\n",
       "    /**\n",
       "     * Register the mime type and append_mime function with output_area\n",
       "     */\n",
       "    OutputArea.prototype.register_mime_type(EXEC_MIME_TYPE, append_mime, {\n",
       "      /* Is output safe? */\n",
       "      safe: true,\n",
       "      /* Index of renderer in `output_area.display_order` */\n",
       "      index: 0\n",
       "    });\n",
       "  }\n",
       "\n",
       "  // register the mime type if in Jupyter Notebook environment and previously unregistered\n",
       "  if (root.Jupyter !== undefined) {\n",
       "    var events = require('base/js/events');\n",
       "    var OutputArea = require('notebook/js/outputarea').OutputArea;\n",
       "\n",
       "    if (OutputArea.prototype.mime_types().indexOf(EXEC_MIME_TYPE) == -1) {\n",
       "      register_renderer(events, OutputArea);\n",
       "    }\n",
       "  }\n",
       "\n",
       "  \n",
       "  if (typeof (root._bokeh_timeout) === \"undefined\" || force === true) {\n",
       "    root._bokeh_timeout = Date.now() + 5000;\n",
       "    root._bokeh_failed_load = false;\n",
       "  }\n",
       "\n",
       "  var NB_LOAD_WARNING = {'data': {'text/html':\n",
       "     \"<div style='background-color: #fdd'>\\n\"+\n",
       "     \"<p>\\n\"+\n",
       "     \"BokehJS does not appear to have successfully loaded. If loading BokehJS from CDN, this \\n\"+\n",
       "     \"may be due to a slow or bad network connection. Possible fixes:\\n\"+\n",
       "     \"</p>\\n\"+\n",
       "     \"<ul>\\n\"+\n",
       "     \"<li>re-rerun `output_notebook()` to attempt to load from CDN again, or</li>\\n\"+\n",
       "     \"<li>use INLINE resources instead, as so:</li>\\n\"+\n",
       "     \"</ul>\\n\"+\n",
       "     \"<code>\\n\"+\n",
       "     \"from bokeh.resources import INLINE\\n\"+\n",
       "     \"output_notebook(resources=INLINE)\\n\"+\n",
       "     \"</code>\\n\"+\n",
       "     \"</div>\"}};\n",
       "\n",
       "  function display_loaded() {\n",
       "    var el = document.getElementById(\"5ed76fde-5388-484e-8375-74cae47bbac8\");\n",
       "    if (el != null) {\n",
       "      el.textContent = \"BokehJS is loading...\";\n",
       "    }\n",
       "    if (root.Bokeh !== undefined) {\n",
       "      if (el != null) {\n",
       "        el.textContent = \"BokehJS \" + root.Bokeh.version + \" successfully loaded.\";\n",
       "      }\n",
       "    } else if (Date.now() < root._bokeh_timeout) {\n",
       "      setTimeout(display_loaded, 100)\n",
       "    }\n",
       "  }\n",
       "\n",
       "\n",
       "  function run_callbacks() {\n",
       "    try {\n",
       "      root._bokeh_onload_callbacks.forEach(function(callback) { callback() });\n",
       "    }\n",
       "    finally {\n",
       "      delete root._bokeh_onload_callbacks\n",
       "    }\n",
       "    console.info(\"Bokeh: all callbacks have finished\");\n",
       "  }\n",
       "\n",
       "  function load_libs(js_urls, callback) {\n",
       "    root._bokeh_onload_callbacks.push(callback);\n",
       "    if (root._bokeh_is_loading > 0) {\n",
       "      console.log(\"Bokeh: BokehJS is being loaded, scheduling callback at\", now());\n",
       "      return null;\n",
       "    }\n",
       "    if (js_urls == null || js_urls.length === 0) {\n",
       "      run_callbacks();\n",
       "      return null;\n",
       "    }\n",
       "    console.log(\"Bokeh: BokehJS not loaded, scheduling load and callback at\", now());\n",
       "    root._bokeh_is_loading = js_urls.length;\n",
       "    for (var i = 0; i < js_urls.length; i++) {\n",
       "      var url = js_urls[i];\n",
       "      var s = document.createElement('script');\n",
       "      s.src = url;\n",
       "      s.async = false;\n",
       "      s.onreadystatechange = s.onload = function() {\n",
       "        root._bokeh_is_loading--;\n",
       "        if (root._bokeh_is_loading === 0) {\n",
       "          console.log(\"Bokeh: all BokehJS libraries loaded\");\n",
       "          run_callbacks()\n",
       "        }\n",
       "      };\n",
       "      s.onerror = function() {\n",
       "        console.warn(\"failed to load library \" + url);\n",
       "      };\n",
       "      console.log(\"Bokeh: injecting script tag for BokehJS library: \", url);\n",
       "      document.getElementsByTagName(\"head\")[0].appendChild(s);\n",
       "    }\n",
       "  };var element = document.getElementById(\"5ed76fde-5388-484e-8375-74cae47bbac8\");\n",
       "  if (element == null) {\n",
       "    console.log(\"Bokeh: ERROR: autoload.js configured with elementid '5ed76fde-5388-484e-8375-74cae47bbac8' but no matching script tag was found. \")\n",
       "    return false;\n",
       "  }\n",
       "\n",
       "  var js_urls = [\"https://cdn.pydata.org/bokeh/release/bokeh-0.12.16.min.js\", \"https://cdn.pydata.org/bokeh/release/bokeh-widgets-0.12.16.min.js\", \"https://cdn.pydata.org/bokeh/release/bokeh-tables-0.12.16.min.js\", \"https://cdn.pydata.org/bokeh/release/bokeh-gl-0.12.16.min.js\"];\n",
       "\n",
       "  var inline_js = [\n",
       "    function(Bokeh) {\n",
       "      Bokeh.set_log_level(\"info\");\n",
       "    },\n",
       "    \n",
       "    function(Bokeh) {\n",
       "      \n",
       "    },\n",
       "    function(Bokeh) {\n",
       "      console.log(\"Bokeh: injecting CSS: https://cdn.pydata.org/bokeh/release/bokeh-0.12.16.min.css\");\n",
       "      Bokeh.embed.inject_css(\"https://cdn.pydata.org/bokeh/release/bokeh-0.12.16.min.css\");\n",
       "      console.log(\"Bokeh: injecting CSS: https://cdn.pydata.org/bokeh/release/bokeh-widgets-0.12.16.min.css\");\n",
       "      Bokeh.embed.inject_css(\"https://cdn.pydata.org/bokeh/release/bokeh-widgets-0.12.16.min.css\");\n",
       "      console.log(\"Bokeh: injecting CSS: https://cdn.pydata.org/bokeh/release/bokeh-tables-0.12.16.min.css\");\n",
       "      Bokeh.embed.inject_css(\"https://cdn.pydata.org/bokeh/release/bokeh-tables-0.12.16.min.css\");\n",
       "    }\n",
       "  ];\n",
       "\n",
       "  function run_inline_js() {\n",
       "    \n",
       "    if ((root.Bokeh !== undefined) || (force === true)) {\n",
       "      for (var i = 0; i < inline_js.length; i++) {\n",
       "        inline_js[i].call(root, root.Bokeh);\n",
       "      }if (force === true) {\n",
       "        display_loaded();\n",
       "      }} else if (Date.now() < root._bokeh_timeout) {\n",
       "      setTimeout(run_inline_js, 100);\n",
       "    } else if (!root._bokeh_failed_load) {\n",
       "      console.log(\"Bokeh: BokehJS failed to load within specified timeout.\");\n",
       "      root._bokeh_failed_load = true;\n",
       "    } else if (force !== true) {\n",
       "      var cell = $(document.getElementById(\"5ed76fde-5388-484e-8375-74cae47bbac8\")).parents('.cell').data().cell;\n",
       "      cell.output_area.append_execute_result(NB_LOAD_WARNING)\n",
       "    }\n",
       "\n",
       "  }\n",
       "\n",
       "  if (root._bokeh_is_loading === 0) {\n",
       "    console.log(\"Bokeh: BokehJS loaded, going straight to plotting\");\n",
       "    run_inline_js();\n",
       "  } else {\n",
       "    load_libs(js_urls, function() {\n",
       "      console.log(\"Bokeh: BokehJS plotting callback run at\", now());\n",
       "      run_inline_js();\n",
       "    });\n",
       "  }\n",
       "}(window));"
      ],
      "application/vnd.bokehjs_load.v0+json": "\n(function(root) {\n  function now() {\n    return new Date();\n  }\n\n  var force = true;\n\n  if (typeof (root._bokeh_onload_callbacks) === \"undefined\" || force === true) {\n    root._bokeh_onload_callbacks = [];\n    root._bokeh_is_loading = undefined;\n  }\n\n  \n\n  \n  if (typeof (root._bokeh_timeout) === \"undefined\" || force === true) {\n    root._bokeh_timeout = Date.now() + 5000;\n    root._bokeh_failed_load = false;\n  }\n\n  var NB_LOAD_WARNING = {'data': {'text/html':\n     \"<div style='background-color: #fdd'>\\n\"+\n     \"<p>\\n\"+\n     \"BokehJS does not appear to have successfully loaded. If loading BokehJS from CDN, this \\n\"+\n     \"may be due to a slow or bad network connection. Possible fixes:\\n\"+\n     \"</p>\\n\"+\n     \"<ul>\\n\"+\n     \"<li>re-rerun `output_notebook()` to attempt to load from CDN again, or</li>\\n\"+\n     \"<li>use INLINE resources instead, as so:</li>\\n\"+\n     \"</ul>\\n\"+\n     \"<code>\\n\"+\n     \"from bokeh.resources import INLINE\\n\"+\n     \"output_notebook(resources=INLINE)\\n\"+\n     \"</code>\\n\"+\n     \"</div>\"}};\n\n  function display_loaded() {\n    var el = document.getElementById(\"5ed76fde-5388-484e-8375-74cae47bbac8\");\n    if (el != null) {\n      el.textContent = \"BokehJS is loading...\";\n    }\n    if (root.Bokeh !== undefined) {\n      if (el != null) {\n        el.textContent = \"BokehJS \" + root.Bokeh.version + \" successfully loaded.\";\n      }\n    } else if (Date.now() < root._bokeh_timeout) {\n      setTimeout(display_loaded, 100)\n    }\n  }\n\n\n  function run_callbacks() {\n    try {\n      root._bokeh_onload_callbacks.forEach(function(callback) { callback() });\n    }\n    finally {\n      delete root._bokeh_onload_callbacks\n    }\n    console.info(\"Bokeh: all callbacks have finished\");\n  }\n\n  function load_libs(js_urls, callback) {\n    root._bokeh_onload_callbacks.push(callback);\n    if (root._bokeh_is_loading > 0) {\n      console.log(\"Bokeh: BokehJS is being loaded, scheduling callback at\", now());\n      return null;\n    }\n    if (js_urls == null || js_urls.length === 0) {\n      run_callbacks();\n      return null;\n    }\n    console.log(\"Bokeh: BokehJS not loaded, scheduling load and callback at\", now());\n    root._bokeh_is_loading = js_urls.length;\n    for (var i = 0; i < js_urls.length; i++) {\n      var url = js_urls[i];\n      var s = document.createElement('script');\n      s.src = url;\n      s.async = false;\n      s.onreadystatechange = s.onload = function() {\n        root._bokeh_is_loading--;\n        if (root._bokeh_is_loading === 0) {\n          console.log(\"Bokeh: all BokehJS libraries loaded\");\n          run_callbacks()\n        }\n      };\n      s.onerror = function() {\n        console.warn(\"failed to load library \" + url);\n      };\n      console.log(\"Bokeh: injecting script tag for BokehJS library: \", url);\n      document.getElementsByTagName(\"head\")[0].appendChild(s);\n    }\n  };var element = document.getElementById(\"5ed76fde-5388-484e-8375-74cae47bbac8\");\n  if (element == null) {\n    console.log(\"Bokeh: ERROR: autoload.js configured with elementid '5ed76fde-5388-484e-8375-74cae47bbac8' but no matching script tag was found. \")\n    return false;\n  }\n\n  var js_urls = [\"https://cdn.pydata.org/bokeh/release/bokeh-0.12.16.min.js\", \"https://cdn.pydata.org/bokeh/release/bokeh-widgets-0.12.16.min.js\", \"https://cdn.pydata.org/bokeh/release/bokeh-tables-0.12.16.min.js\", \"https://cdn.pydata.org/bokeh/release/bokeh-gl-0.12.16.min.js\"];\n\n  var inline_js = [\n    function(Bokeh) {\n      Bokeh.set_log_level(\"info\");\n    },\n    \n    function(Bokeh) {\n      \n    },\n    function(Bokeh) {\n      console.log(\"Bokeh: injecting CSS: https://cdn.pydata.org/bokeh/release/bokeh-0.12.16.min.css\");\n      Bokeh.embed.inject_css(\"https://cdn.pydata.org/bokeh/release/bokeh-0.12.16.min.css\");\n      console.log(\"Bokeh: injecting CSS: https://cdn.pydata.org/bokeh/release/bokeh-widgets-0.12.16.min.css\");\n      Bokeh.embed.inject_css(\"https://cdn.pydata.org/bokeh/release/bokeh-widgets-0.12.16.min.css\");\n      console.log(\"Bokeh: injecting CSS: https://cdn.pydata.org/bokeh/release/bokeh-tables-0.12.16.min.css\");\n      Bokeh.embed.inject_css(\"https://cdn.pydata.org/bokeh/release/bokeh-tables-0.12.16.min.css\");\n    }\n  ];\n\n  function run_inline_js() {\n    \n    if ((root.Bokeh !== undefined) || (force === true)) {\n      for (var i = 0; i < inline_js.length; i++) {\n        inline_js[i].call(root, root.Bokeh);\n      }if (force === true) {\n        display_loaded();\n      }} else if (Date.now() < root._bokeh_timeout) {\n      setTimeout(run_inline_js, 100);\n    } else if (!root._bokeh_failed_load) {\n      console.log(\"Bokeh: BokehJS failed to load within specified timeout.\");\n      root._bokeh_failed_load = true;\n    } else if (force !== true) {\n      var cell = $(document.getElementById(\"5ed76fde-5388-484e-8375-74cae47bbac8\")).parents('.cell').data().cell;\n      cell.output_area.append_execute_result(NB_LOAD_WARNING)\n    }\n\n  }\n\n  if (root._bokeh_is_loading === 0) {\n    console.log(\"Bokeh: BokehJS loaded, going straight to plotting\");\n    run_inline_js();\n  } else {\n    load_libs(js_urls, function() {\n      console.log(\"Bokeh: BokehJS plotting callback run at\", now());\n      run_inline_js();\n    });\n  }\n}(window));"
     },
     "metadata": {},
     "output_type": "display_data"
    }
   ],
   "source": [
    "output_notebook()"
   ]
  },
  {
   "cell_type": "code",
   "execution_count": 4,
   "metadata": {
    "collapsed": true
   },
   "outputs": [],
   "source": [
    "def make_query(param=None):\n",
    "    '''\n",
    "    Returns the MongoDB query for a lblnew \n",
    "    run's document.\n",
    "    \n",
    "    Parameters\n",
    "    ----------\n",
    "    param: dict\n",
    "    lblnew-bestfit input parameters.\n",
    "    '''\n",
    "    return {'param.' + name: value for name, value in param.items()}   "
   ]
  },
  {
   "cell_type": "code",
   "execution_count": 5,
   "metadata": {
    "collapsed": true
   },
   "outputs": [],
   "source": [
    "def print_input_param():\n",
    "    '''\n",
    "    Print to screen the input parameters \n",
    "    of the lblnew run.\n",
    "    '''\n",
    "    df = pd.DataFrame(columns=['lblnew'])\n",
    "    for name, value in sorted(PARAM.items()):\n",
    "        df.loc[name, 'lblnew'] = value\n",
    "    \n",
    "    df.index.name = 'Input parameter'\n",
    "    df.columns.name = 'Run'\n",
    "    \n",
    "    pd.set_option('display.max_colwidth', -1)\n",
    "    display.display(df)\n",
    "    pd.reset_option('display.max_colwidth')"
   ]
  },
  {
   "cell_type": "code",
   "execution_count": 6,
   "metadata": {
    "collapsed": true
   },
   "outputs": [],
   "source": [
    "def fmt_cool(ds_in):\n",
    "    ds = ds_in.copy(deep=True)\n",
    "    \n",
    "    if 'i' in ds.dims:                                                                                               \n",
    "        ds = ds.sel(i=ds.dims['i']) \n",
    "        \n",
    "    if 'band' in ds.dims:\n",
    "        try:\n",
    "            ds = ds.squeeze('band')\n",
    "        except ValueError:\n",
    "            ds = ds.sum('band') \n",
    "            \n",
    "    return ds['coolrg']\n",
    "\n",
    "\n",
    "\n",
    "def pltdata_cool(g=None):\n",
    "    '''\n",
    "    Define the plotting data for cooling rate\n",
    "    profile plots.  Add/remove entries in\n",
    "    the `data` list.\n",
    "    \n",
    "    Parameters\n",
    "    ----------\n",
    "    g: int\n",
    "        g-interval to be plotted.  If None,\n",
    "        the sum over all g-intervals will be\n",
    "        plotted.\n",
    "    data: dict\n",
    "        Plot data, including colour, line attributes, etc.\n",
    "    '''\n",
    "    colors = all_palettes['Set1'][4]\n",
    "    \n",
    "    if g == None:\n",
    "        ds_cool_crd = DS_COOL_CRD.sum('g')\n",
    "        ds_cool_wgt = DS_COOL_WGT.sum('g')\n",
    "    else:\n",
    "        ds_cool_crd = DS_COOL_CRD.sel(g=g)\n",
    "        ds_cool_wgt = DS_COOL_WGT.sel(g=g)\n",
    "    \n",
    "    data = [\n",
    "        {'label': 'CRD',\n",
    "         'srs': fmt_cool(ds_cool_crd),\n",
    "         'line_dash': 'solid', 'line_width':1.5,\n",
    "         'marker': 'circle', 'mark_size': 5,\n",
    "         'color': colors[2], 'alpha': 1},\n",
    "        {'label': 'WGT igg=1',\n",
    "         'srs': fmt_cool(ds_cool_wgt.sel(igg=1)),\n",
    "         'line_dash': 'solid', 'line_width': 3,\n",
    "         'marker': 'square', 'marker_size': 5,\n",
    "         'color': colors[3], 'alpha': .6},\n",
    "        {'label': 'WGT igg=10',\n",
    "         'srs': fmt_cool(ds_cool_wgt.sel(igg=10)),\n",
    "         'line_dash': 'solid', 'line_width': 2,\n",
    "         'marker': 'triangle', 'marker_size': 2,\n",
    "         'color': colors[1], 'alpha': .3}]\n",
    "    return data\n",
    "\n",
    "\n",
    "\n",
    "def plt_cool(pltdata=None):\n",
    "    '''\n",
    "    Plot cooling rate profiles on linear\n",
    "    and log pressure axes.\n",
    "    \n",
    "    Parameters\n",
    "    ----------\n",
    "    pltdata: dict\n",
    "        Plot data, including colour, line attributes, etc.\n",
    "    everything: bokeh.models.layouts.Column\n",
    "        Cooling rate profile plot.\n",
    "    '''\n",
    "    plin = plt_vert_profile_bokeh(pltdata=pltdata, \n",
    "                                  y_axis_type='linear',\n",
    "                                  prange=(50, 1050))\n",
    "    plin.plot_width, plin.plot_height = 400, 500\n",
    "    \n",
    "    plog = plt_vert_profile_bokeh(pltdata=pltdata,\n",
    "                                  y_axis_type='log',\n",
    "                                  prange=(.01, 200)) \n",
    "    plog.plot_width, plog.plot_height = 400, 500\n",
    "    \n",
    "    everything = gridplot(plin, plog, ncols=2)\n",
    "    return everything\n",
    "    \n",
    "    \n",
    "\n",
    "def script_plt_cool():\n",
    "    '''\n",
    "    Script to plot the cooling rate profiles\n",
    "    in each g-interval and the total \n",
    "    cooling rate profile over all g-intervals.\n",
    "    '''\n",
    "    ng = sum(PARAM['ng_refs'])\n",
    "    for g in np.arange(1, ng + 1):\n",
    "        data = pltdata_cool(g=g)\n",
    "        p = plt_cool(pltdata=data)\n",
    "        show(p)\n",
    "        display.display(\n",
    "            display.Markdown(f'*FIGURE.* Cooling rates. g={g}'))\n",
    "    \n",
    "    data = pltdata_cool()\n",
    "    p = plt_cool(pltdata=data)\n",
    "    show(p)\n",
    "    display.display(\n",
    "        display.Markdown(f'*FIGURE.* Cooling rates. Summed over g.'))\n",
    "    \n"
   ]
  },
  {
   "cell_type": "code",
   "execution_count": 7,
   "metadata": {
    "collapsed": true
   },
   "outputs": [],
   "source": [
    "def fmt_flux(ds_in, ilevels=None):\n",
    "    ds = ds_in.copy(deep=True)\n",
    "    \n",
    "    for l in ('level', 'layer'):\n",
    "        if l in ds.data_vars:\n",
    "            if len(ds[l].dims) > 1:\n",
    "                surface = {d: 0 for d in ds.dims if d != 'pressure'}\n",
    "                coord_level = ds[l][surface]\n",
    "                ds.coords[l] = ('pressure', coord_level)\n",
    "            else:\n",
    "                ds.coords[l] = ('pressure', ds[l])\n",
    "    \n",
    "    if ilevels:\n",
    "        ds = ds.isel(pressure=ilevels)\n",
    "\n",
    "    if 'i' in ds.dims:                                                                                               \n",
    "        ds = ds.sel(i=ds.dims['i'])\n",
    "        \n",
    "    #if 'igg' in ds.dims:\n",
    "    #    ds = ds.squeeze('igg').drop('igg')\n",
    "        \n",
    "    if 'igg' in ds:\n",
    "        if ds['igg'].shape == (1,):\n",
    "            ds = ds.squeeze('igg').drop('igg')\n",
    "        elif ds['igg'].shape == ():\n",
    "            ds = ds.drop('igg')\n",
    "            \n",
    "    if 'g' in ds:\n",
    "        if ds['g'].shape == (1,):\n",
    "            ds = ds.squeeze('g').drop('g')\n",
    "        elif ds['g'].shape == ():\n",
    "            ds = ds.drop('g')\n",
    "            \n",
    "    if 'band' in ds.dims:\n",
    "        try:\n",
    "            ds = ds.squeeze('band').drop('band')\n",
    "        except ValueError:\n",
    "            ds = ds.sum('band')\n",
    "                \n",
    "    df = ds.to_dataframe()\n",
    "    df = df.set_index('level', append=True)               \n",
    "    return df\n",
    "\n",
    "\n",
    "def tbdata_flux():\n",
    "    '''\n",
    "    Define the flux data to be tabulated for\n",
    "    the g-intervals.  Add/remove entries in the\n",
    "    `tbs` list.\n",
    "    \n",
    "    Parameters\n",
    "    ----------\n",
    "    data: dict\n",
    "        Flux data, including how each set is to be\n",
    "        labeled in the output table.\n",
    "    '''\n",
    "    tropopauses = {'mls': 40, 'saw': 45, 'trp': 37}\n",
    "    atmpro = PARAM['atmpro']\n",
    "    ilevels = [0, tropopauses[atmpro], -1]\n",
    "    \n",
    "    benchmark = {'label': 'CRD',\n",
    "                 'df': fmt_flux(DS_FLUX_CRD, ilevels=ilevels)}\n",
    "    \n",
    "    tbs = [{'label': 'WGT igg=1',\n",
    "            'df': fmt_flux(DS_FLUX_WGT.sel(igg=[1]), ilevels=ilevels)},\n",
    "           {'label': 'WGT igg=10',\n",
    "            'df': fmt_flux(DS_FLUX_WGT.sel(igg=[10]), ilevels=ilevels)}]\n",
    "    \n",
    "    data = {'benchmark': benchmark, 'others': tbs}\n",
    "    return data\n",
    "\n",
    "\n",
    "\n",
    "def tbdata_flux_sumg():\n",
    "    '''\n",
    "    Define the total flux data, over all g-intervals,\n",
    "    to be tabulated.\n",
    "    \n",
    "    Parameters\n",
    "    ----------\n",
    "    data: dict\n",
    "        Flux data, including how each set is to e\n",
    "        labeled in the output table.\n",
    "    '''\n",
    "    tropopauses = {'mls': 40, 'saw': 45, 'trp': 37}\n",
    "    \n",
    "    atmpro = PARAM['atmpro']\n",
    "    ilevels = [0, tropopauses[atmpro], -1]\n",
    "    \n",
    "    benchmark = {'label': 'CRD',\n",
    "                 'df': fmt_flux(DS_FLUX_CRD.sum('g'), ilevels=ilevels)}\n",
    "    \n",
    "    tbs = [{'label': 'WGT igg=1',\n",
    "            'df': fmt_flux(DS_FLUX_WGT.sel(igg=[1]).sum('g'), \n",
    "                           ilevels=ilevels)},\n",
    "           {'label': 'WGT igg=10',\n",
    "            'df': fmt_flux(DS_FLUX_WGT.sel(igg=[10]).sum('g'), \n",
    "                           ilevels=ilevels)}]\n",
    "    \n",
    "    data = {'benchmark': benchmark, 'others': tbs}\n",
    "    return data\n",
    "\n",
    "\n",
    "def tb_flux(tbdata=None):\n",
    "    '''\n",
    "    Display flux table for each set, and display\n",
    "    the difference between each set and the set\n",
    "    that is specified to be the benchmark.\n",
    "    \n",
    "    Parameters\n",
    "    ----------\n",
    "    tbdata: dict\n",
    "        Flux data, including how each set it to be\n",
    "        labeled in the output table.\n",
    "    '''\n",
    "    benchmark = tbdata['benchmark']\n",
    "    others = tbdata['others']\n",
    "    \n",
    "    def show_tb(d=None):\n",
    "        display.display(d['df'])\n",
    "        display.display(display.Markdown(\n",
    "            f\"*TABLE.* Fluxes. {d['label']}\"))\n",
    "        \n",
    "    def show_tbdiff(d0=None, d=None):\n",
    "        df = d['df']\n",
    "        df.index = d0['df'].index\n",
    "        display.display(df - d0['df'])\n",
    "        display.display(display.Markdown(\n",
    "            f\"*TABLE.* Fluxes. ({d['label']}) - ({d0['label']})\"))\n",
    "        \n",
    "    show_tb(benchmark)\n",
    "    for d in others:\n",
    "        show_tb(d)\n",
    "        \n",
    "    for d in others:\n",
    "        show_tbdiff(d=d, d0=benchmark)\n",
    "        \n",
    "\n",
    "        \n",
    "def script_tb_flux():\n",
    "    '''\n",
    "    Script to display the flux tables in \n",
    "    each g-interval, and the flux table\n",
    "    for the total flux, over all g-intervals.\n",
    "    '''\n",
    "    tb_flux(tbdata=tbdata_flux())\n",
    "    tb_flux(tbdata=tbdata_flux_sumg())\n"
   ]
  },
  {
   "cell_type": "code",
   "execution_count": 8,
   "metadata": {
    "collapsed": true
   },
   "outputs": [],
   "source": [
    "def script_gsummary():\n",
    "    '''\n",
    "    Script to display how the g-intervals\n",
    "    are defined according the hyperparameters\n",
    "    chosen for this lblnew-bestfit run.\n",
    "    '''\n",
    "    ng_refs = PARAM['ng_refs']\n",
    "    p_refs = list(zip(*PARAM['ref_pts']))[0]\n",
    "    ng = sum(ng_refs)\n",
    "    df_abscom = pd.read_csv(io.StringIO(DOC['abscom']), \n",
    "                            sep=r'\\s+', index_col=[0])\n",
    "    df_dgdgs = pd.read_csv(io.StringIO(DOC['dgdgs']), \n",
    "                            sep=r'\\s+', index_col=[0])\n",
    "    \n",
    "    # absth(g + 1) / absth(g)\n",
    "    df_abscom_copy = df_abscom.copy()\n",
    "    df_abscom_copy.index = df_abscom.index + 1\n",
    "    df_absratio = df_abscom / df_abscom_copy\n",
    "    df_absratio.columns = ['k(ig) / k(ig - 1)']\n",
    "    df_absratio = df_absratio.loc[: ng]    \n",
    "    \n",
    "    df_dgdgs_cumsum = df_dgdgs.cumsum(axis=0)\n",
    "    df_dgdgs_cumsum.columns = ['dg cumsum', 'dgs cumsum']\n",
    "    \n",
    "    data_pref = np.concatenate([p_ref * np.ones((ng_ref,)) \n",
    "                                for ng_ref, p_ref \n",
    "                                in zip(ng_refs, p_refs)], axis=0)\n",
    "    df_pref = pd.DataFrame(data_pref, \n",
    "                           index=df_dgdgs.index, columns=['pref'])\n",
    "    \n",
    "    df_all = pd.concat([df_abscom, df_absratio,\n",
    "                        df_dgdgs, df_dgdgs_cumsum,\n",
    "                        df_pref], axis=1) \n",
    "    \n",
    "    display.display(df_all)\n",
    "    display.display(display.Markdown(\n",
    "        (f\"TABLE. g-interval summary.  \"\n",
    "         f\"*abscom* is the lower bound of the g-interval.\")))\n",
    "    \n"
   ]
  },
  {
   "cell_type": "code",
   "execution_count": 9,
   "metadata": {
    "collapsed": true
   },
   "outputs": [],
   "source": [
    "def script_flux_to_excel():\n",
    "    '''\n",
    "    Script to save the lblnew-bestfit run's\n",
    "    output flux to excel file and display the\n",
    "    link to download the excel file.\n",
    "    '''\n",
    "    fname = 'lblnew-bestfit_flux.xlsx'\n",
    "    writer = pd.ExcelWriter(fname)\n",
    "    \n",
    "    ds = DS_FLUX_CRD\n",
    "    for g in ds.coords['g']:\n",
    "        df = ds.sel(g=g).to_dataframe()\n",
    "        df.to_excel(writer, f'crd flux g={int(g)}')\n",
    "                \n",
    "    ds = DS_FLUX_WGT\n",
    "    for g in ds.coords['g']:\n",
    "        df = ds.sel(g=g, igg=1).to_dataframe()\n",
    "        df.to_excel(writer, f'wgt igg=1 flux g={int(g)}')\n",
    "        \n",
    "        df = ds.sel(g=g, igg=10).to_dataframe()\n",
    "        df.to_excel(writer, f'wgt igg=10 flux g={int(g)}')\n",
    "        \n",
    "    writer.save()    \n",
    "    html_download = f'Download: <a href=\"./{fname}\">{fname}</a>'\n",
    "    display.display(display.HTML(html_download))\n",
    "\n",
    "\n",
    "def script_cool_to_excel():\n",
    "    '''\n",
    "    Script to save the lblnew-bestfit run's\n",
    "    output cooling rate to excel file and display\n",
    "    the link to download the excel file.\n",
    "    '''\n",
    "    fname = 'lblnew-bestfit_cool.xlsx'\n",
    "    writer = pd.ExcelWriter(fname)\n",
    "    \n",
    "    ds = DS_COOL_CRD\n",
    "    for g in ds.coords['g']:\n",
    "        df = ds.sel(g=g).to_dataframe()\n",
    "        df.to_excel(writer, f'crd cool g={int(g)}')\n",
    "        \n",
    "    ds = DS_COOL_WGT\n",
    "    for g in ds.coords['g']:\n",
    "        df = ds.sel(g=g, igg=1).to_dataframe()\n",
    "        df.to_excel(writer, f'wgt igg=1 cool g={int(g)}')\n",
    "        \n",
    "        df = ds.sel(g=g, igg=10).to_dataframe()\n",
    "        df.to_excel(writer, f'wgt igg=10 cool g={int(g)}')\n",
    "        \n",
    "    writer.save()\n",
    "    html_download = f'Download: <a href=\"./{fname}\">{fname}</a>'\n",
    "    display.display(display.HTML(html_download))"
   ]
  },
  {
   "cell_type": "code",
   "execution_count": 10,
   "metadata": {
    "collapsed": true
   },
   "outputs": [],
   "source": [
    "def show_html(s):\n",
    "    display.display(display.HTML(s))\n",
    "\n",
    "    \n",
    "def show_markdown(s):\n",
    "    display.display(display.Markdown(s))"
   ]
  },
  {
   "cell_type": "code",
   "execution_count": 11,
   "metadata": {
    "collapsed": true
   },
   "outputs": [],
   "source": [
    "def script():\n",
    "    title = ('### lblnew-bestfit' \n",
    "             if 'ng_refs' in PARAM else '### lblnew-overlap')\n",
    "    s_input = 'Input Parameters'\n",
    "    s_plt_cool = 'Cooling Rate Profiles'\n",
    "    s_tb_flux = 'Flux Comparison'\n",
    "    s_gsummary = 'g-interval Summary'\n",
    "    s_download = 'Download Data'\n",
    "    \n",
    "    # title\n",
    "    show_markdown(title)\n",
    "    \n",
    "    # TOC\n",
    "    show_markdown('### Table of Contents')\n",
    "    show_html(climahtml.getHTML_hrefanchor(s_input))\n",
    "    show_html(climahtml.getHTML_hrefanchor(s_plt_cool))\n",
    "    show_html(climahtml.getHTML_hrefanchor(s_tb_flux))\n",
    "    show_html(climahtml.getHTML_hrefanchor(s_gsummary))\n",
    "    show_html(climahtml.getHTML_hrefanchor(s_download))\n",
    "    \n",
    "    # Input parameters\n",
    "    show_html(climahtml.getHTML_idanchor(s_input))\n",
    "    show_markdown(climahtml.getMarkdown_sectitle(s_input))\n",
    "    print_input_param()\n",
    "    \n",
    "    # Cooling rate profiles\n",
    "    show_html(climahtml.getHTML_idanchor(s_plt_cool))\n",
    "    show_markdown(climahtml.getMarkdown_sectitle(s_plt_cool))\n",
    "    script_plt_cool()\n",
    "    \n",
    "    # Flux comparison\n",
    "    show_html(climahtml.getHTML_idanchor(s_tb_flux))\n",
    "    show_markdown(climahtml.getMarkdown_sectitle(s_tb_flux))\n",
    "    script_tb_flux()\n",
    "    \n",
    "    # g-interval summary\n",
    "    show_html(climahtml.getHTML_idanchor(s_gsummary))\n",
    "    show_markdown(climahtml.getMarkdown_sectitle(s_gsummary))\n",
    "    script_gsummary()\n",
    "    \n",
    "    # Download cooling rate and fluxes\n",
    "    show_html(climahtml.getHTML_idanchor(s_download))\n",
    "    show_markdown(climahtml.getMarkdown_sectitle(s_download))\n",
    "    script_flux_to_excel()\n",
    "    script_cool_to_excel()"
   ]
  },
  {
   "cell_type": "code",
   "execution_count": 12,
   "metadata": {
    "collapsed": true
   },
   "outputs": [],
   "source": [
    "%run param.py\n",
    "\n",
    "client = pymongo.MongoClient('localhost', 27017, connect=False)\n",
    "db = client.lblnew\n",
    "\n",
    "\n",
    "DOC = db.bestfit_lw.find_one(make_query(param=PARAM))\n",
    "DS_FLUX_CRD = load_output_file(io.StringIO(DOC['output_fluxg']))\n",
    "DS_COOL_CRD = load_output_file(io.StringIO(DOC['output_coolrg']))\n",
    "DS_FLUX_WGT = load_output_file(io.StringIO(DOC['output_wfluxg']))\n",
    "DS_COOL_WGT = load_output_file(io.StringIO(DOC['output_wcoolrg']))"
   ]
  },
  {
   "cell_type": "code",
   "execution_count": 13,
   "metadata": {
    "scrolled": false
   },
   "outputs": [
    {
     "data": {
      "text/markdown": [
       "### lblnew-bestfit"
      ],
      "text/plain": [
       "<IPython.core.display.Markdown object>"
      ]
     },
     "metadata": {},
     "output_type": "display_data"
    },
    {
     "data": {
      "text/markdown": [
       "### Table of Contents"
      ],
      "text/plain": [
       "<IPython.core.display.Markdown object>"
      ]
     },
     "metadata": {},
     "output_type": "display_data"
    },
    {
     "data": {
      "text/html": [
       "<a href=\"#Input_Parameters\">Input Parameters</a>"
      ],
      "text/plain": [
       "<IPython.core.display.HTML object>"
      ]
     },
     "metadata": {},
     "output_type": "display_data"
    },
    {
     "data": {
      "text/html": [
       "<a href=\"#Cooling_Rate_Profiles\">Cooling Rate Profiles</a>"
      ],
      "text/plain": [
       "<IPython.core.display.HTML object>"
      ]
     },
     "metadata": {},
     "output_type": "display_data"
    },
    {
     "data": {
      "text/html": [
       "<a href=\"#Flux_Comparison\">Flux Comparison</a>"
      ],
      "text/plain": [
       "<IPython.core.display.HTML object>"
      ]
     },
     "metadata": {},
     "output_type": "display_data"
    },
    {
     "data": {
      "text/html": [
       "<a href=\"#g-interval_Summary\">g-interval Summary</a>"
      ],
      "text/plain": [
       "<IPython.core.display.HTML object>"
      ]
     },
     "metadata": {},
     "output_type": "display_data"
    },
    {
     "data": {
      "text/html": [
       "<a href=\"#Download_Data\">Download Data</a>"
      ],
      "text/plain": [
       "<IPython.core.display.HTML object>"
      ]
     },
     "metadata": {},
     "output_type": "display_data"
    },
    {
     "data": {
      "text/html": [
       "<a id=\"Input_Parameters\"></a>"
      ],
      "text/plain": [
       "<IPython.core.display.HTML object>"
      ]
     },
     "metadata": {},
     "output_type": "display_data"
    },
    {
     "data": {
      "text/markdown": [
       "# Input Parameters"
      ],
      "text/plain": [
       "<IPython.core.display.Markdown object>"
      ]
     },
     "metadata": {},
     "output_type": "display_data"
    },
    {
     "data": {
      "text/html": [
       "<div>\n",
       "<style scoped>\n",
       "    .dataframe tbody tr th:only-of-type {\n",
       "        vertical-align: middle;\n",
       "    }\n",
       "\n",
       "    .dataframe tbody tr th {\n",
       "        vertical-align: top;\n",
       "    }\n",
       "\n",
       "    .dataframe thead th {\n",
       "        text-align: right;\n",
       "    }\n",
       "</style>\n",
       "<table border=\"1\" class=\"dataframe\">\n",
       "  <thead>\n",
       "    <tr style=\"text-align: right;\">\n",
       "      <th>Run</th>\n",
       "      <th>lblnew</th>\n",
       "    </tr>\n",
       "    <tr>\n",
       "      <th>Input parameter</th>\n",
       "      <th></th>\n",
       "    </tr>\n",
       "  </thead>\n",
       "  <tbody>\n",
       "    <tr>\n",
       "      <th>atmpro</th>\n",
       "      <td>trp</td>\n",
       "    </tr>\n",
       "    <tr>\n",
       "      <th>band</th>\n",
       "      <td>3a</td>\n",
       "    </tr>\n",
       "    <tr>\n",
       "      <th>commitnumber</th>\n",
       "      <td>5014a19</td>\n",
       "    </tr>\n",
       "    <tr>\n",
       "      <th>conc</th>\n",
       "      <td>3.2e-07</td>\n",
       "    </tr>\n",
       "    <tr>\n",
       "      <th>dv</th>\n",
       "      <td>0.001</td>\n",
       "    </tr>\n",
       "    <tr>\n",
       "      <th>klin</th>\n",
       "      <td>2.22e-20</td>\n",
       "    </tr>\n",
       "    <tr>\n",
       "      <th>molecule</th>\n",
       "      <td>n2o</td>\n",
       "    </tr>\n",
       "    <tr>\n",
       "      <th>ng_adju</th>\n",
       "      <td>[0, 0]</td>\n",
       "    </tr>\n",
       "    <tr>\n",
       "      <th>ng_refs</th>\n",
       "      <td>[1, 2]</td>\n",
       "    </tr>\n",
       "    <tr>\n",
       "      <th>nv</th>\n",
       "      <td>1000</td>\n",
       "    </tr>\n",
       "    <tr>\n",
       "      <th>option_compute_btable</th>\n",
       "      <td>0</td>\n",
       "    </tr>\n",
       "    <tr>\n",
       "      <th>option_compute_ktable</th>\n",
       "      <td>0</td>\n",
       "    </tr>\n",
       "    <tr>\n",
       "      <th>option_wgt_flux</th>\n",
       "      <td>1</td>\n",
       "    </tr>\n",
       "    <tr>\n",
       "      <th>option_wgt_k</th>\n",
       "      <td>1</td>\n",
       "    </tr>\n",
       "    <tr>\n",
       "      <th>ref_pts</th>\n",
       "      <td>[[1, 250], [500, 250]]</td>\n",
       "    </tr>\n",
       "    <tr>\n",
       "      <th>tsfc</th>\n",
       "      <td>300</td>\n",
       "    </tr>\n",
       "    <tr>\n",
       "      <th>vmax</th>\n",
       "      <td>620</td>\n",
       "    </tr>\n",
       "    <tr>\n",
       "      <th>vmin</th>\n",
       "      <td>540</td>\n",
       "    </tr>\n",
       "    <tr>\n",
       "      <th>w_diffuse</th>\n",
       "      <td>[[1.8], [1.66, 1.8]]</td>\n",
       "    </tr>\n",
       "    <tr>\n",
       "      <th>wgt</th>\n",
       "      <td>[[0.9], [0.5, 0.95]]</td>\n",
       "    </tr>\n",
       "  </tbody>\n",
       "</table>\n",
       "</div>"
      ],
      "text/plain": [
       "Run                                    lblnew\n",
       "Input parameter                              \n",
       "atmpro                 trp                   \n",
       "band                   3a                    \n",
       "commitnumber           5014a19               \n",
       "conc                   3.2e-07               \n",
       "dv                     0.001                 \n",
       "klin                   2.22e-20              \n",
       "molecule               n2o                   \n",
       "ng_adju                [0, 0]                \n",
       "ng_refs                [1, 2]                \n",
       "nv                     1000                  \n",
       "option_compute_btable  0                     \n",
       "option_compute_ktable  0                     \n",
       "option_wgt_flux        1                     \n",
       "option_wgt_k           1                     \n",
       "ref_pts                [[1, 250], [500, 250]]\n",
       "tsfc                   300                   \n",
       "vmax                   620                   \n",
       "vmin                   540                   \n",
       "w_diffuse              [[1.8], [1.66, 1.8]]  \n",
       "wgt                    [[0.9], [0.5, 0.95]]  "
      ]
     },
     "metadata": {},
     "output_type": "display_data"
    },
    {
     "data": {
      "text/html": [
       "<a id=\"Cooling_Rate_Profiles\"></a>"
      ],
      "text/plain": [
       "<IPython.core.display.HTML object>"
      ]
     },
     "metadata": {},
     "output_type": "display_data"
    },
    {
     "data": {
      "text/markdown": [
       "# Cooling Rate Profiles"
      ],
      "text/plain": [
       "<IPython.core.display.Markdown object>"
      ]
     },
     "metadata": {},
     "output_type": "display_data"
    },
    {
     "data": {
      "text/html": [
       "\n",
       "<div class=\"bk-root\">\n",
       "    <div class=\"bk-plotdiv\" id=\"a63a3b5e-5e5e-401f-b6c4-4f62071c63bd\"></div>\n",
       "</div>"
      ]
     },
     "metadata": {},
     "output_type": "display_data"
    },
    {
     "data": {
      "application/javascript": [
       "(function(root) {\n",
       "  function embed_document(root) {\n",
       "    \n",
       "  var docs_json = {\"188a3cfd-6e2b-4c90-ba85-b932e484af1a\":{\"roots\":{\"references\":[{\"attributes\":{\"ticker\":null},\"id\":\"02e88955-e9f8-43c8-9900-88677151ab69\",\"type\":\"LogTickFormatter\"},{\"attributes\":{\"toolbar\":{\"id\":\"29f37421-9478-4132-a649-17a481caa273\",\"type\":\"ProxyToolbar\"},\"toolbar_location\":\"above\"},\"id\":\"546a9a48-ca67-49dc-b037-07a43ff8cad4\",\"type\":\"ToolbarBox\"},{\"attributes\":{},\"id\":\"8a16fa65-aac2-4c41-b7a3-50442aaca6ad\",\"type\":\"Selection\"},{\"attributes\":{},\"id\":\"6007313b-59a4-4feb-b81e-7a02695af4e4\",\"type\":\"UnionRenderers\"},{\"attributes\":{},\"id\":\"bd4fdf17-f987-4a8b-93a0-3327a9c20b9b\",\"type\":\"Selection\"},{\"attributes\":{\"line_alpha\":0.1,\"line_color\":\"#1f77b4\",\"line_width\":2,\"x\":{\"field\":\"x\"},\"y\":{\"field\":\"y\"}},\"id\":\"b6d3029c-0956-418f-a168-04a76751bc85\",\"type\":\"Line\"},{\"attributes\":{},\"id\":\"aba4a127-d0c3-4a06-a38f-ac31ca442ce0\",\"type\":\"UnionRenderers\"},{\"attributes\":{\"dimension\":1,\"plot\":{\"id\":\"e6e27da6-7e4f-4fb9-bd67-04ecd19b95f6\",\"subtype\":\"Figure\",\"type\":\"Plot\"},\"ticker\":{\"id\":\"aba70954-ac2c-458f-b41f-7af109c70c04\",\"type\":\"BasicTicker\"}},\"id\":\"eaf7f9b9-958d-4367-bca5-b817669e395f\",\"type\":\"Grid\"},{\"attributes\":{\"label\":{\"value\":\"WGT igg=1\"},\"renderers\":[{\"id\":\"36bee8b1-e117-4553-a4c4-a6560aeb0249\",\"type\":\"GlyphRenderer\"},{\"id\":\"f031db0c-194d-483f-b40d-19fc98d26aa7\",\"type\":\"GlyphRenderer\"}]},\"id\":\"51b4bddf-b29b-4656-824e-974f0a39c1e1\",\"type\":\"LegendItem\"},{\"attributes\":{},\"id\":\"7c9b8590-9983-4e05-a197-dfe555c15407\",\"type\":\"Selection\"},{\"attributes\":{\"callback\":null,\"end\":0.04903363481899999,\"start\":-0.004809494719},\"id\":\"d3e575b4-ed55-404b-85a6-e669e01aa231\",\"type\":\"Range1d\"},{\"attributes\":{},\"id\":\"1ec3e3f4-dedf-4312-af02-8919cf07b74c\",\"type\":\"UnionRenderers\"},{\"attributes\":{},\"id\":\"63012b3d-fe99-411c-b2c6-20798f13a46e\",\"type\":\"LinearScale\"},{\"attributes\":{},\"id\":\"aba70954-ac2c-458f-b41f-7af109c70c04\",\"type\":\"BasicTicker\"},{\"attributes\":{},\"id\":\"5f0786fd-bea0-433e-ace4-7ec43cff66ea\",\"type\":\"UnionRenderers\"},{\"attributes\":{\"source\":{\"id\":\"aa289a34-8bd6-42e8-b2c2-2eefcccff0b7\",\"type\":\"ColumnDataSource\"}},\"id\":\"9a5f58a3-e662-498f-bf51-65af4ddaa9b9\",\"type\":\"CDSView\"},{\"attributes\":{},\"id\":\"baffa601-6e1d-4b16-ae1c-c233b33d8577\",\"type\":\"Selection\"},{\"attributes\":{\"data_source\":{\"id\":\"aa289a34-8bd6-42e8-b2c2-2eefcccff0b7\",\"type\":\"ColumnDataSource\"},\"glyph\":{\"id\":\"e31fb087-7262-40c8-b526-d88f48b891f9\",\"type\":\"Triangle\"},\"hover_glyph\":null,\"muted_glyph\":null,\"nonselection_glyph\":{\"id\":\"395d4603-75da-44ae-a6c8-a5212a780937\",\"type\":\"Triangle\"},\"selection_glyph\":null,\"view\":{\"id\":\"9a5f58a3-e662-498f-bf51-65af4ddaa9b9\",\"type\":\"CDSView\"}},\"id\":\"38f92946-9c22-4691-933b-10f2416e5477\",\"type\":\"GlyphRenderer\"},{\"attributes\":{},\"id\":\"ba14b119-9ff6-4c38-bbfd-ff601cbe3a70\",\"type\":\"UnionRenderers\"},{\"attributes\":{},\"id\":\"c0fed8bd-e10e-461e-9de2-ad45ad73dffe\",\"type\":\"Selection\"},{\"attributes\":{\"tools\":[{\"id\":\"3112e517-1ad1-42f0-a476-d2a010e42be0\",\"type\":\"PanTool\"},{\"id\":\"8c7eb067-50b1-4b61-81fa-eee48e6428b1\",\"type\":\"WheelZoomTool\"},{\"id\":\"4b395a56-b79c-46fc-9d2a-8b05a3e81c77\",\"type\":\"BoxZoomTool\"},{\"id\":\"fbbee96c-c4e3-4352-a730-882b994f3871\",\"type\":\"SaveTool\"},{\"id\":\"7d09eaad-e346-4223-8a3f-0caffba37b5f\",\"type\":\"ResetTool\"},{\"id\":\"895a2456-0eca-4e22-841e-5e0e96ebf298\",\"type\":\"HelpTool\"},{\"id\":\"66e7a478-0bc8-44c0-94ef-1ee62b07c5a8\",\"type\":\"PanTool\"},{\"id\":\"fdf095d6-2239-4250-a238-0638eb3317d5\",\"type\":\"WheelZoomTool\"},{\"id\":\"eb4f78f5-0c37-474b-a9e6-e0437ed09541\",\"type\":\"BoxZoomTool\"},{\"id\":\"c0d828f4-72d0-4282-9583-07b090658cbe\",\"type\":\"SaveTool\"},{\"id\":\"1abadcbc-e681-455b-81ae-958cddf587e7\",\"type\":\"ResetTool\"},{\"id\":\"1b6f7fea-9e01-47e7-b8f1-ca648ca73546\",\"type\":\"HelpTool\"}]},\"id\":\"29f37421-9478-4132-a649-17a481caa273\",\"type\":\"ProxyToolbar\"},{\"attributes\":{\"axis_label\":\"pressure [mb]\",\"formatter\":{\"id\":\"b098f6bb-e39e-473d-85a8-815bc62964e1\",\"type\":\"BasicTickFormatter\"},\"plot\":{\"id\":\"e6e27da6-7e4f-4fb9-bd67-04ecd19b95f6\",\"subtype\":\"Figure\",\"type\":\"Plot\"},\"ticker\":{\"id\":\"aba70954-ac2c-458f-b41f-7af109c70c04\",\"type\":\"BasicTicker\"}},\"id\":\"55f22751-6666-4491-8bf2-9cc18ee9a5e1\",\"type\":\"LinearAxis\"},{\"attributes\":{\"label\":{\"value\":\"WGT igg=10\"},\"renderers\":[{\"id\":\"38f92946-9c22-4691-933b-10f2416e5477\",\"type\":\"GlyphRenderer\"},{\"id\":\"f4a0d94e-97ce-4d44-97b0-4e71e03aecb8\",\"type\":\"GlyphRenderer\"}]},\"id\":\"9d4697ca-743d-408f-8be3-6155ad146420\",\"type\":\"LegendItem\"},{\"attributes\":{},\"id\":\"0cf0220a-4f40-4bbf-91e6-7f4e70c37768\",\"type\":\"UnionRenderers\"},{\"attributes\":{\"source\":{\"id\":\"2ee8624a-b381-4e9f-9ca0-501402f9fd11\",\"type\":\"ColumnDataSource\"}},\"id\":\"212578ae-4047-4110-b21b-59bff200f9d0\",\"type\":\"CDSView\"},{\"attributes\":{},\"id\":\"325de2bd-382f-4d85-b932-dc12a3024db7\",\"type\":\"Selection\"},{\"attributes\":{\"children\":[{\"id\":\"546a9a48-ca67-49dc-b037-07a43ff8cad4\",\"type\":\"ToolbarBox\"},{\"id\":\"4d5aab93-e79a-4719-8e9d-a91d5c8279c2\",\"type\":\"Column\"}]},\"id\":\"ab770083-f0ca-4078-b82f-f0ab8782b75e\",\"type\":\"Column\"},{\"attributes\":{},\"id\":\"f722bbac-85ad-440e-9c77-b68911eec465\",\"type\":\"LinearScale\"},{\"attributes\":{\"plot\":{\"id\":\"e6e27da6-7e4f-4fb9-bd67-04ecd19b95f6\",\"subtype\":\"Figure\",\"type\":\"Plot\"},\"ticker\":{\"id\":\"02f500e3-a27f-4f9d-9fca-714515138be7\",\"type\":\"BasicTicker\"}},\"id\":\"b5a86db9-37ed-4b93-8035-a1065353dd6e\",\"type\":\"Grid\"},{\"attributes\":{\"callback\":null,\"data\":{\"x\":{\"__ndarray__\":\"HxSCv9mSfz8FOJLCexmAP2a+Dba7vIA/RdRXp3BjgT9Tz6fyWwuCPzAXLZNstII/N5upeZdegz/agy+d7QmEP+iKa99QtoQ/t22tab1jhT+59psPIxKGP4pbfD9ywYY/W+OyWCpyhz//Fce7AlWIPxt74ni/g4s/WigijjgOkT+CgpeI0yOVP3vsrc88g5k/wpdhWtYonj853h8a1oehP7jb/UNdGKQ/rXC0q9yApj+0on/i/UGnP1Xv77oeT6Y/35SeW3uupD+2hzRfYoKiP7/YOdVzNaA/OJuqVZ3Qmz/m1aPqAzuXPyj+RkAnspI/PZZxZeaIjD9Qt1JhChyEP8mo7NtU23g/vxcIRsoEZz+Ghc4au6Ayv2+r61wJB2i/u3XU25qJcb+rBQ01vrpwv9hUy9Idb2q/OIvorTL5ZL+4h1+Wn6Bgv8Gt14W6J1q/pfsLzQ03VL9RNHNQxVxOv/Wv7YqCtkW/QmpYf6ZhPL+2ZwaFf00uvy4a9d0zKgu/+tPYKCCfHD+oiw5hHbgwP19gy+wpeTk/ThLn7zbIQD/6rIDpQo5EP6HxDx4XHEg/T/XJEyt9Sz9jW/m6wrpOPz5ikbKH7lA/kLQWDTJ1Uj8HlN7SSfFTPwBqyEpcX1U/x4+41SGvVj8iDq4JfbpXPyKZFDJeUlg/mvEzv+xvWD8zGRa0bExYP8t5F0+DOVg/tE+Eay5yWD9rPi2N/wVZP1eU421k4Fk/1qBmQjfmWj/ZQTKPRgZcP76Ebl0POV0/q9BIVMR6Xj/zUxBLoMtfP/rEFo9GlmA/\",\"dtype\":\"float64\",\"shape\":[75]},\"y\":{\"__ndarray__\":\"GhExyth1ND/Sv8nbtpRIP2vylNV0PVE/aTum7souWD/At0SJ8fVgPw3Iuahxymc/MSNhhJWvcD/bTfBN02d3P2zb5nxnaoA/CD5h5MAGhz8NmeH1TyaQP+zrCsc9p5Y/LbKd76fGnz/bLW5ISEmmPww9YvTcQq8/JV2OstnstT8Er5Y7M8G+P0c+r3jqkcU/5h99k6ZBzj88bCIzFzjVP4enV8oyxN0//yH99nXg5D8qOpLLf0jtP5kqGJXUifQ/c9cS8kHP/D+/DpwzojQEQIEmwoanVwxA4lgXt9HgE0BSSZ2AJuIbQAMJih9jjiNA5q4l5INuK0AwTKYKRj0zQNv5fmq8/DpAaCJseHrtQkB/+zpwzoxKQM3MzMzMeFJAZmZmZmZqWEAAAAAAAFxeQM3MzMzMJmJAmpmZmZkfZUBmZmZmZhhoQDMzMzMzEWtAAAAAAAAKbkBmZmZmZoFwQM3MzMzM/XFAMzMzMzN6c0CamZmZmfZ0QAAAAAAAc3ZAZmZmZmbvd0DNzMzMzGt5QDMzMzMz6HpAmpmZmZlkfEAAAAAAAOF9QGZmZmZmXX9AZmZmZuZsgECamZmZGSuBQM3MzMxM6YFAAAAAAICngkAzMzMzs2WDQGZmZmbmI4RAmpmZmRnihEDNzMzMTKCFQAAAAACAXoZAMzMzM7Mch0BmZmZm5tqHQJqZmZkZmYhAzczMzExXiUAAAAAAgBWKQDMzMzOz04pAZmZmZuaRi0CamZmZGVCMQM3MzMxMDo1AAAAAAIDMjUAzMzMzs4qOQGZmZmbmSI9A\",\"dtype\":\"float64\",\"shape\":[75]}},\"selected\":{\"id\":\"f62b0a88-f899-4f3b-a91d-f7781ca69718\",\"type\":\"Selection\"},\"selection_policy\":{\"id\":\"7e61e9b8-8e81-4d0e-b5f0-017884711686\",\"type\":\"UnionRenderers\"}},\"id\":\"0e270561-5c32-4945-a837-44e1c4104c1c\",\"type\":\"ColumnDataSource\"},{\"attributes\":{},\"id\":\"02f500e3-a27f-4f9d-9fca-714515138be7\",\"type\":\"BasicTicker\"},{\"attributes\":{\"label\":{\"value\":\"CRD\"},\"renderers\":[{\"id\":\"303ae6b1-d0c9-4980-89c9-410fc73d56e0\",\"type\":\"GlyphRenderer\"},{\"id\":\"ee465aff-f14d-428f-8156-5e629e4c3103\",\"type\":\"GlyphRenderer\"}]},\"id\":\"a68afb9a-774d-4e65-9017-0d009384b433\",\"type\":\"LegendItem\"},{\"attributes\":{\"line_alpha\":0.3,\"line_color\":\"#377eb8\",\"line_width\":2,\"x\":{\"field\":\"x\"},\"y\":{\"field\":\"y\"}},\"id\":\"ac477f64-5660-48a7-be1a-3c3b8e3c35a7\",\"type\":\"Line\"},{\"attributes\":{\"axis_label\":\"cooling rate [K/day]\",\"formatter\":{\"id\":\"c78652ed-cf8c-40c5-a921-a64f39216594\",\"type\":\"BasicTickFormatter\"},\"plot\":{\"id\":\"e6e27da6-7e4f-4fb9-bd67-04ecd19b95f6\",\"subtype\":\"Figure\",\"type\":\"Plot\"},\"ticker\":{\"id\":\"02f500e3-a27f-4f9d-9fca-714515138be7\",\"type\":\"BasicTicker\"}},\"id\":\"7c1eb2f0-0da8-4326-a7bc-4aa5a5393bb5\",\"type\":\"LinearAxis\"},{\"attributes\":{},\"id\":\"4c96f464-a675-424f-8837-2d9cff2b6ebc\",\"type\":\"LogScale\"},{\"attributes\":{\"data_source\":{\"id\":\"0e270561-5c32-4945-a837-44e1c4104c1c\",\"type\":\"ColumnDataSource\"},\"glyph\":{\"id\":\"ac477f64-5660-48a7-be1a-3c3b8e3c35a7\",\"type\":\"Line\"},\"hover_glyph\":null,\"muted_glyph\":null,\"nonselection_glyph\":{\"id\":\"b6d3029c-0956-418f-a168-04a76751bc85\",\"type\":\"Line\"},\"selection_glyph\":null,\"view\":{\"id\":\"80f6661b-4ff1-4ccf-ad75-f2e2770cd7aa\",\"type\":\"CDSView\"}},\"id\":\"f4a0d94e-97ce-4d44-97b0-4e71e03aecb8\",\"type\":\"GlyphRenderer\"},{\"attributes\":{\"source\":{\"id\":\"0e270561-5c32-4945-a837-44e1c4104c1c\",\"type\":\"ColumnDataSource\"}},\"id\":\"80f6661b-4ff1-4ccf-ad75-f2e2770cd7aa\",\"type\":\"CDSView\"},{\"attributes\":{\"axis_label\":\"cooling rate [K/day]\",\"formatter\":{\"id\":\"d5a531ff-5840-4997-8a89-3debf87906ba\",\"type\":\"BasicTickFormatter\"},\"plot\":{\"id\":\"f1ef9b8d-7731-4ec2-acc2-9a0b897ab87f\",\"subtype\":\"Figure\",\"type\":\"Plot\"},\"ticker\":{\"id\":\"502cde94-3bf9-4a1f-ba9b-c5c1c608a296\",\"type\":\"BasicTicker\"}},\"id\":\"c5599355-2a9b-4239-b4a7-e693925e00b3\",\"type\":\"LinearAxis\"},{\"attributes\":{\"active_drag\":\"auto\",\"active_inspect\":\"auto\",\"active_scroll\":\"auto\",\"active_tap\":\"auto\",\"tools\":[{\"id\":\"66e7a478-0bc8-44c0-94ef-1ee62b07c5a8\",\"type\":\"PanTool\"},{\"id\":\"fdf095d6-2239-4250-a238-0638eb3317d5\",\"type\":\"WheelZoomTool\"},{\"id\":\"eb4f78f5-0c37-474b-a9e6-e0437ed09541\",\"type\":\"BoxZoomTool\"},{\"id\":\"c0d828f4-72d0-4282-9583-07b090658cbe\",\"type\":\"SaveTool\"},{\"id\":\"1abadcbc-e681-455b-81ae-958cddf587e7\",\"type\":\"ResetTool\"},{\"id\":\"1b6f7fea-9e01-47e7-b8f1-ca648ca73546\",\"type\":\"HelpTool\"}]},\"id\":\"dbfa6bae-ee3c-4e00-a47f-0bbed43fb346\",\"type\":\"Toolbar\"},{\"attributes\":{\"callback\":null,\"end\":0.0020878460290000003,\"start\":-0.004344684929000001},\"id\":\"77ac3635-d584-417a-8a39-517875c15253\",\"type\":\"Range1d\"},{\"attributes\":{\"items\":[{\"id\":\"ec08e3f6-ef1e-45ba-9bd1-425273e93dd8\",\"type\":\"LegendItem\"},{\"id\":\"0060196d-f740-4c89-a6c2-30cb9e2e3429\",\"type\":\"LegendItem\"},{\"id\":\"2368580a-b3c9-47d7-80a1-0a1ae0b3d48e\",\"type\":\"LegendItem\"}],\"label_text_font_size\":{\"value\":\"8pt\"},\"location\":\"top_center\",\"orientation\":\"horizontal\",\"plot\":{\"id\":\"f1ef9b8d-7731-4ec2-acc2-9a0b897ab87f\",\"subtype\":\"Figure\",\"type\":\"Plot\"}},\"id\":\"0a052a3c-d59c-49d6-9f24-fe7887ba9f30\",\"type\":\"Legend\"},{\"attributes\":{},\"id\":\"d338c1d8-af35-4575-82ab-61e95cd834a2\",\"type\":\"LinearScale\"},{\"attributes\":{\"plot\":{\"id\":\"f1ef9b8d-7731-4ec2-acc2-9a0b897ab87f\",\"subtype\":\"Figure\",\"type\":\"Plot\"},\"ticker\":{\"id\":\"502cde94-3bf9-4a1f-ba9b-c5c1c608a296\",\"type\":\"BasicTicker\"}},\"id\":\"54793431-a13f-40a9-becb-ebf8a7029b99\",\"type\":\"Grid\"},{\"attributes\":{\"above\":[{\"id\":\"0a052a3c-d59c-49d6-9f24-fe7887ba9f30\",\"type\":\"Legend\"}],\"below\":[{\"id\":\"c5599355-2a9b-4239-b4a7-e693925e00b3\",\"type\":\"LinearAxis\"}],\"left\":[{\"id\":\"0b5df0cc-069e-4800-9973-cb79efec850a\",\"type\":\"LogAxis\"}],\"plot_height\":500,\"plot_width\":400,\"renderers\":[{\"id\":\"c5599355-2a9b-4239-b4a7-e693925e00b3\",\"type\":\"LinearAxis\"},{\"id\":\"54793431-a13f-40a9-becb-ebf8a7029b99\",\"type\":\"Grid\"},{\"id\":\"0b5df0cc-069e-4800-9973-cb79efec850a\",\"type\":\"LogAxis\"},{\"id\":\"9fac2a03-289a-46ff-8874-9878b282ad72\",\"type\":\"Grid\"},{\"id\":\"6d8b3637-96c0-4b5e-a86b-d1025c00adfe\",\"type\":\"BoxAnnotation\"},{\"id\":\"ac501ebe-f787-4a98-a7e5-90d38116122b\",\"type\":\"GlyphRenderer\"},{\"id\":\"c2873db5-bdc0-4958-ac9c-3635cc853006\",\"type\":\"GlyphRenderer\"},{\"id\":\"708c2bf9-e6ec-4ca2-b4dd-9478cb326e5d\",\"type\":\"GlyphRenderer\"},{\"id\":\"5da6b545-be99-4cd6-97c4-abc59c8ab01c\",\"type\":\"GlyphRenderer\"},{\"id\":\"409eb273-96c0-47a3-a7ae-2ec8e9069ee5\",\"type\":\"GlyphRenderer\"},{\"id\":\"a82dccd2-1419-41f1-b9fd-0cba2ae415b1\",\"type\":\"GlyphRenderer\"},{\"id\":\"0a052a3c-d59c-49d6-9f24-fe7887ba9f30\",\"type\":\"Legend\"}],\"title\":{\"id\":\"c8a79ed6-7654-4af7-834a-48ba7058bec6\",\"type\":\"Title\"},\"toolbar\":{\"id\":\"dbfa6bae-ee3c-4e00-a47f-0bbed43fb346\",\"type\":\"Toolbar\"},\"toolbar_location\":null,\"x_range\":{\"id\":\"d3e575b4-ed55-404b-85a6-e669e01aa231\",\"type\":\"Range1d\"},\"x_scale\":{\"id\":\"63012b3d-fe99-411c-b2c6-20798f13a46e\",\"type\":\"LinearScale\"},\"y_range\":{\"id\":\"857745f2-552a-4ac3-8e48-a57b819cdd92\",\"type\":\"Range1d\"},\"y_scale\":{\"id\":\"4c96f464-a675-424f-8837-2d9cff2b6ebc\",\"type\":\"LogScale\"}},\"id\":\"f1ef9b8d-7731-4ec2-acc2-9a0b897ab87f\",\"subtype\":\"Figure\",\"type\":\"Plot\"},{\"attributes\":{},\"id\":\"502cde94-3bf9-4a1f-ba9b-c5c1c608a296\",\"type\":\"BasicTicker\"},{\"attributes\":{\"axis_label\":\"pressure [mb]\",\"formatter\":{\"id\":\"02e88955-e9f8-43c8-9900-88677151ab69\",\"type\":\"LogTickFormatter\"},\"plot\":{\"id\":\"f1ef9b8d-7731-4ec2-acc2-9a0b897ab87f\",\"subtype\":\"Figure\",\"type\":\"Plot\"},\"ticker\":{\"id\":\"76efbc1f-dae5-4e1b-81fe-50b3d68b81c7\",\"type\":\"LogTicker\"}},\"id\":\"0b5df0cc-069e-4800-9973-cb79efec850a\",\"type\":\"LogAxis\"},{\"attributes\":{\"num_minor_ticks\":10},\"id\":\"76efbc1f-dae5-4e1b-81fe-50b3d68b81c7\",\"type\":\"LogTicker\"},{\"attributes\":{\"items\":[{\"id\":\"a68afb9a-774d-4e65-9017-0d009384b433\",\"type\":\"LegendItem\"},{\"id\":\"51b4bddf-b29b-4656-824e-974f0a39c1e1\",\"type\":\"LegendItem\"},{\"id\":\"9d4697ca-743d-408f-8be3-6155ad146420\",\"type\":\"LegendItem\"}],\"label_text_font_size\":{\"value\":\"8pt\"},\"location\":\"top_center\",\"orientation\":\"horizontal\",\"plot\":{\"id\":\"e6e27da6-7e4f-4fb9-bd67-04ecd19b95f6\",\"subtype\":\"Figure\",\"type\":\"Plot\"}},\"id\":\"958cb8b2-fa94-4b74-8178-f486d3d1ac98\",\"type\":\"Legend\"},{\"attributes\":{\"dimension\":1,\"plot\":{\"id\":\"f1ef9b8d-7731-4ec2-acc2-9a0b897ab87f\",\"subtype\":\"Figure\",\"type\":\"Plot\"},\"ticker\":{\"id\":\"76efbc1f-dae5-4e1b-81fe-50b3d68b81c7\",\"type\":\"LogTicker\"}},\"id\":\"9fac2a03-289a-46ff-8874-9878b282ad72\",\"type\":\"Grid\"},{\"attributes\":{},\"id\":\"d5a531ff-5840-4997-8a89-3debf87906ba\",\"type\":\"BasicTickFormatter\"},{\"attributes\":{\"active_drag\":\"auto\",\"active_inspect\":\"auto\",\"active_scroll\":\"auto\",\"active_tap\":\"auto\",\"tools\":[{\"id\":\"3112e517-1ad1-42f0-a476-d2a010e42be0\",\"type\":\"PanTool\"},{\"id\":\"8c7eb067-50b1-4b61-81fa-eee48e6428b1\",\"type\":\"WheelZoomTool\"},{\"id\":\"4b395a56-b79c-46fc-9d2a-8b05a3e81c77\",\"type\":\"BoxZoomTool\"},{\"id\":\"fbbee96c-c4e3-4352-a730-882b994f3871\",\"type\":\"SaveTool\"},{\"id\":\"7d09eaad-e346-4223-8a3f-0caffba37b5f\",\"type\":\"ResetTool\"},{\"id\":\"895a2456-0eca-4e22-841e-5e0e96ebf298\",\"type\":\"HelpTool\"}]},\"id\":\"5db7214f-1294-4fda-b231-c3ea4bb687d9\",\"type\":\"Toolbar\"},{\"attributes\":{\"bottom_units\":\"screen\",\"fill_alpha\":{\"value\":0.5},\"fill_color\":{\"value\":\"lightgrey\"},\"left_units\":\"screen\",\"level\":\"overlay\",\"line_alpha\":{\"value\":1.0},\"line_color\":{\"value\":\"black\"},\"line_dash\":[4,4],\"line_width\":{\"value\":2},\"plot\":null,\"render_mode\":\"css\",\"right_units\":\"screen\",\"top_units\":\"screen\"},\"id\":\"6d8b3637-96c0-4b5e-a86b-d1025c00adfe\",\"type\":\"BoxAnnotation\"},{\"attributes\":{},\"id\":\"66e7a478-0bc8-44c0-94ef-1ee62b07c5a8\",\"type\":\"PanTool\"},{\"attributes\":{\"above\":[{\"id\":\"958cb8b2-fa94-4b74-8178-f486d3d1ac98\",\"type\":\"Legend\"}],\"below\":[{\"id\":\"7c1eb2f0-0da8-4326-a7bc-4aa5a5393bb5\",\"type\":\"LinearAxis\"}],\"left\":[{\"id\":\"55f22751-6666-4491-8bf2-9cc18ee9a5e1\",\"type\":\"LinearAxis\"}],\"plot_height\":500,\"plot_width\":400,\"renderers\":[{\"id\":\"7c1eb2f0-0da8-4326-a7bc-4aa5a5393bb5\",\"type\":\"LinearAxis\"},{\"id\":\"b5a86db9-37ed-4b93-8035-a1065353dd6e\",\"type\":\"Grid\"},{\"id\":\"55f22751-6666-4491-8bf2-9cc18ee9a5e1\",\"type\":\"LinearAxis\"},{\"id\":\"eaf7f9b9-958d-4367-bca5-b817669e395f\",\"type\":\"Grid\"},{\"id\":\"5a92a179-5014-426e-a877-6badcb588bef\",\"type\":\"BoxAnnotation\"},{\"id\":\"303ae6b1-d0c9-4980-89c9-410fc73d56e0\",\"type\":\"GlyphRenderer\"},{\"id\":\"ee465aff-f14d-428f-8156-5e629e4c3103\",\"type\":\"GlyphRenderer\"},{\"id\":\"36bee8b1-e117-4553-a4c4-a6560aeb0249\",\"type\":\"GlyphRenderer\"},{\"id\":\"f031db0c-194d-483f-b40d-19fc98d26aa7\",\"type\":\"GlyphRenderer\"},{\"id\":\"38f92946-9c22-4691-933b-10f2416e5477\",\"type\":\"GlyphRenderer\"},{\"id\":\"f4a0d94e-97ce-4d44-97b0-4e71e03aecb8\",\"type\":\"GlyphRenderer\"},{\"id\":\"958cb8b2-fa94-4b74-8178-f486d3d1ac98\",\"type\":\"Legend\"}],\"title\":{\"id\":\"e5a4849e-c3d7-431a-bb94-b1f7c47eef17\",\"type\":\"Title\"},\"toolbar\":{\"id\":\"5db7214f-1294-4fda-b231-c3ea4bb687d9\",\"type\":\"Toolbar\"},\"toolbar_location\":null,\"x_range\":{\"id\":\"77ac3635-d584-417a-8a39-517875c15253\",\"type\":\"Range1d\"},\"x_scale\":{\"id\":\"d338c1d8-af35-4575-82ab-61e95cd834a2\",\"type\":\"LinearScale\"},\"y_range\":{\"id\":\"40690633-cf42-40cc-8758-02302b5f15b2\",\"type\":\"Range1d\"},\"y_scale\":{\"id\":\"f722bbac-85ad-440e-9c77-b68911eec465\",\"type\":\"LinearScale\"}},\"id\":\"e6e27da6-7e4f-4fb9-bd67-04ecd19b95f6\",\"subtype\":\"Figure\",\"type\":\"Plot\"},{\"attributes\":{},\"id\":\"fdf095d6-2239-4250-a238-0638eb3317d5\",\"type\":\"WheelZoomTool\"},{\"attributes\":{\"overlay\":{\"id\":\"6d8b3637-96c0-4b5e-a86b-d1025c00adfe\",\"type\":\"BoxAnnotation\"}},\"id\":\"eb4f78f5-0c37-474b-a9e6-e0437ed09541\",\"type\":\"BoxZoomTool\"},{\"attributes\":{},\"id\":\"c0d828f4-72d0-4282-9583-07b090658cbe\",\"type\":\"SaveTool\"},{\"attributes\":{},\"id\":\"1abadcbc-e681-455b-81ae-958cddf587e7\",\"type\":\"ResetTool\"},{\"attributes\":{},\"id\":\"1b6f7fea-9e01-47e7-b8f1-ca648ca73546\",\"type\":\"HelpTool\"},{\"attributes\":{\"line_color\":\"#4daf4a\",\"line_width\":1.5,\"x\":{\"field\":\"x\"},\"y\":{\"field\":\"y\"}},\"id\":\"c537ae01-0e24-4d32-9a78-701b7584731f\",\"type\":\"Line\"},{\"attributes\":{\"fill_alpha\":{\"value\":0.7},\"fill_color\":{\"value\":\"#4daf4a\"},\"line_alpha\":{\"value\":0.7},\"line_color\":{\"value\":\"#4daf4a\"},\"x\":{\"field\":\"x\"},\"y\":{\"field\":\"y\"}},\"id\":\"259e830c-f36c-4e14-b74e-af19338aba08\",\"type\":\"Circle\"},{\"attributes\":{\"callback\":null,\"end\":0.01,\"start\":1020},\"id\":\"857745f2-552a-4ac3-8e48-a57b819cdd92\",\"type\":\"Range1d\"},{\"attributes\":{\"fill_alpha\":{\"value\":0.1},\"fill_color\":{\"value\":\"#1f77b4\"},\"line_alpha\":{\"value\":0.1},\"line_color\":{\"value\":\"#1f77b4\"},\"x\":{\"field\":\"x\"},\"y\":{\"field\":\"y\"}},\"id\":\"551ed349-87c9-4005-a71d-26648406c43c\",\"type\":\"Circle\"},{\"attributes\":{\"data_source\":{\"id\":\"cff3bb92-fa41-4df5-8fa7-f6dac25846ba\",\"type\":\"ColumnDataSource\"},\"glyph\":{\"id\":\"c537ae01-0e24-4d32-9a78-701b7584731f\",\"type\":\"Line\"},\"hover_glyph\":null,\"muted_glyph\":null,\"nonselection_glyph\":{\"id\":\"f15c7399-c4e2-4549-90d5-8855875225b9\",\"type\":\"Line\"},\"selection_glyph\":null,\"view\":{\"id\":\"af23ac2e-ddfd-48f0-8e38-355f0fa3e471\",\"type\":\"CDSView\"}},\"id\":\"ee465aff-f14d-428f-8156-5e629e4c3103\",\"type\":\"GlyphRenderer\"},{\"attributes\":{\"callback\":null,\"end\":0.01,\"start\":1020},\"id\":\"40690633-cf42-40cc-8758-02302b5f15b2\",\"type\":\"Range1d\"},{\"attributes\":{\"data_source\":{\"id\":\"2ee8624a-b381-4e9f-9ca0-501402f9fd11\",\"type\":\"ColumnDataSource\"},\"glyph\":{\"id\":\"140625aa-5eba-4654-9952-d825dadeb316\",\"type\":\"Circle\"},\"hover_glyph\":null,\"muted_glyph\":null,\"nonselection_glyph\":{\"id\":\"9407213c-82e5-4e06-8b94-39f923e3aa51\",\"type\":\"Circle\"},\"selection_glyph\":null,\"view\":{\"id\":\"212578ae-4047-4110-b21b-59bff200f9d0\",\"type\":\"CDSView\"}},\"id\":\"303ae6b1-d0c9-4980-89c9-410fc73d56e0\",\"type\":\"GlyphRenderer\"},{\"attributes\":{\"callback\":null,\"data\":{\"x\":{\"__ndarray__\":\"KRFxC0ekZj/pnb9OxypoP0RybBw1T2s/bAf75ByEbj/cS0BqGOBwP0H++CDCfnI/m6lEpY4fdD+C6e3058B1Pw1k8EqvYXc/1XMJgQAEeT8ocqkPQo56P8vqiAmLBnw/zvdhMs1jfT9xcZ6ynR1/Py2RcWcLMYM/pA+slrP4ij8zHpjom1CSP+5/HYuvbpc/Zwfvup3OnD8Or0xBfDWhPwbNP97RHaQ/7X8Jp8jLpj8nOcDJv2GnP8v7w4ys2aU/1PLLrBqOoz8LrPXbXbugPwHlWcPx7ps/BHhU+t7mlj8V59MjQF+SP9ujWOowkYw/LJgKh2QchT+OfzBCSaB8P//glBm1knA/ip7qAKd/WT8l5JamrttMvwxum40Ef2i//+38o3JBcL+xJVjasSptv5jCT1ANamW/ZhDEHn8OYL+2d1CE6T9Yv9iHT9v6OVK/YfW/CSbnSr+ibaeCHCtDvwjVA4Wgjjm/QGy/dh2jLb+yKyl506AWv1kbJN+nJAI/GB8HVw1uIj9i+7aFd8YuP8e61Qdb8jQ/Pm+iWQ4FOj/uJpaLxrU+P0e0XCz0jUE/4mEaTCamQz836zwPWaxFP+9JnAk2qUc/7+wHM82kST8/xNPtZ6JLP2SX2/vZnk0/Q03jbiR7Tz8Nsu/GHnNQPzZN6aqKulA/KvlsL7aIUD8ZSXhHsRhQPyTQky7/f08/Aua7GMB2Tz9ALbSMIRlQP+POWaO9wVA/w/AKLiGZUT8GPzdVc5BSP68QBx01pVM/Gdy3mx7bVD/NV9jyGz1WPxwoBDMl4Fc/\",\"dtype\":\"float64\",\"shape\":[75]},\"y\":{\"__ndarray__\":\"GhExyth1ND/Sv8nbtpRIP2vylNV0PVE/aTum7souWD/At0SJ8fVgPw3Iuahxymc/MSNhhJWvcD/bTfBN02d3P2zb5nxnaoA/CD5h5MAGhz8NmeH1TyaQP+zrCsc9p5Y/LbKd76fGnz/bLW5ISEmmPww9YvTcQq8/JV2OstnstT8Er5Y7M8G+P0c+r3jqkcU/5h99k6ZBzj88bCIzFzjVP4enV8oyxN0//yH99nXg5D8qOpLLf0jtP5kqGJXUifQ/c9cS8kHP/D+/DpwzojQEQIEmwoanVwxA4lgXt9HgE0BSSZ2AJuIbQAMJih9jjiNA5q4l5INuK0AwTKYKRj0zQNv5fmq8/DpAaCJseHrtQkB/+zpwzoxKQM3MzMzMeFJAZmZmZmZqWEAAAAAAAFxeQM3MzMzMJmJAmpmZmZkfZUBmZmZmZhhoQDMzMzMzEWtAAAAAAAAKbkBmZmZmZoFwQM3MzMzM/XFAMzMzMzN6c0CamZmZmfZ0QAAAAAAAc3ZAZmZmZmbvd0DNzMzMzGt5QDMzMzMz6HpAmpmZmZlkfEAAAAAAAOF9QGZmZmZmXX9AZmZmZuZsgECamZmZGSuBQM3MzMxM6YFAAAAAAICngkAzMzMzs2WDQGZmZmbmI4RAmpmZmRnihEDNzMzMTKCFQAAAAACAXoZAMzMzM7Mch0BmZmZm5tqHQJqZmZkZmYhAzczMzExXiUAAAAAAgBWKQDMzMzOz04pAZmZmZuaRi0CamZmZGVCMQM3MzMxMDo1AAAAAAIDMjUAzMzMzs4qOQGZmZmbmSI9A\",\"dtype\":\"float64\",\"shape\":[75]}},\"selected\":{\"id\":\"8a16fa65-aac2-4c41-b7a3-50442aaca6ad\",\"type\":\"Selection\"},\"selection_policy\":{\"id\":\"6007313b-59a4-4feb-b81e-7a02695af4e4\",\"type\":\"UnionRenderers\"}},\"id\":\"48474012-b591-45f6-9865-fe700e733412\",\"type\":\"ColumnDataSource\"},{\"attributes\":{\"callback\":null,\"data\":{\"x\":{\"__ndarray__\":\"KRFxC0ekZj/pnb9OxypoP0RybBw1T2s/bAf75ByEbj/cS0BqGOBwP0H++CDCfnI/m6lEpY4fdD+C6e3058B1Pw1k8EqvYXc/1XMJgQAEeT8ocqkPQo56P8vqiAmLBnw/zvdhMs1jfT9xcZ6ynR1/Py2RcWcLMYM/pA+slrP4ij8zHpjom1CSP+5/HYuvbpc/Zwfvup3OnD8Or0xBfDWhPwbNP97RHaQ/7X8Jp8jLpj8nOcDJv2GnP8v7w4ys2aU/1PLLrBqOoz8LrPXbXbugPwHlWcPx7ps/BHhU+t7mlj8V59MjQF+SP9ujWOowkYw/LJgKh2QchT+OfzBCSaB8P//glBm1knA/ip7qAKd/WT8l5JamrttMvwxum40Ef2i//+38o3JBcL+xJVjasSptv5jCT1ANamW/ZhDEHn8OYL+2d1CE6T9Yv9iHT9v6OVK/YfW/CSbnSr+ibaeCHCtDvwjVA4Wgjjm/QGy/dh2jLb+yKyl506AWv1kbJN+nJAI/GB8HVw1uIj9i+7aFd8YuP8e61Qdb8jQ/Pm+iWQ4FOj/uJpaLxrU+P0e0XCz0jUE/4mEaTCamQz836zwPWaxFP+9JnAk2qUc/7+wHM82kST8/xNPtZ6JLP2SX2/vZnk0/Q03jbiR7Tz8Nsu/GHnNQPzZN6aqKulA/KvlsL7aIUD8ZSXhHsRhQPyTQky7/f08/Aua7GMB2Tz9ALbSMIRlQP+POWaO9wVA/w/AKLiGZUT8GPzdVc5BSP68QBx01pVM/Gdy3mx7bVD/NV9jyGz1WPxwoBDMl4Fc/\",\"dtype\":\"float64\",\"shape\":[75]},\"y\":{\"__ndarray__\":\"GhExyth1ND/Sv8nbtpRIP2vylNV0PVE/aTum7souWD/At0SJ8fVgPw3Iuahxymc/MSNhhJWvcD/bTfBN02d3P2zb5nxnaoA/CD5h5MAGhz8NmeH1TyaQP+zrCsc9p5Y/LbKd76fGnz/bLW5ISEmmPww9YvTcQq8/JV2OstnstT8Er5Y7M8G+P0c+r3jqkcU/5h99k6ZBzj88bCIzFzjVP4enV8oyxN0//yH99nXg5D8qOpLLf0jtP5kqGJXUifQ/c9cS8kHP/D+/DpwzojQEQIEmwoanVwxA4lgXt9HgE0BSSZ2AJuIbQAMJih9jjiNA5q4l5INuK0AwTKYKRj0zQNv5fmq8/DpAaCJseHrtQkB/+zpwzoxKQM3MzMzMeFJAZmZmZmZqWEAAAAAAAFxeQM3MzMzMJmJAmpmZmZkfZUBmZmZmZhhoQDMzMzMzEWtAAAAAAAAKbkBmZmZmZoFwQM3MzMzM/XFAMzMzMzN6c0CamZmZmfZ0QAAAAAAAc3ZAZmZmZmbvd0DNzMzMzGt5QDMzMzMz6HpAmpmZmZlkfEAAAAAAAOF9QGZmZmZmXX9AZmZmZuZsgECamZmZGSuBQM3MzMxM6YFAAAAAAICngkAzMzMzs2WDQGZmZmbmI4RAmpmZmRnihEDNzMzMTKCFQAAAAACAXoZAMzMzM7Mch0BmZmZm5tqHQJqZmZkZmYhAzczMzExXiUAAAAAAgBWKQDMzMzOz04pAZmZmZuaRi0CamZmZGVCMQM3MzMxMDo1AAAAAAIDMjUAzMzMzs4qOQGZmZmbmSI9A\",\"dtype\":\"float64\",\"shape\":[75]}},\"selected\":{\"id\":\"cfd5e9cc-81c1-48f9-b42a-95b15dc6fdc7\",\"type\":\"Selection\"},\"selection_policy\":{\"id\":\"137026f9-de5e-4e29-a9b8-2c081dea6dfc\",\"type\":\"UnionRenderers\"}},\"id\":\"cff3bb92-fa41-4df5-8fa7-f6dac25846ba\",\"type\":\"ColumnDataSource\"},{\"attributes\":{\"line_alpha\":0.1,\"line_color\":\"#1f77b4\",\"line_width\":1.5,\"x\":{\"field\":\"x\"},\"y\":{\"field\":\"y\"}},\"id\":\"f15c7399-c4e2-4549-90d5-8855875225b9\",\"type\":\"Line\"},{\"attributes\":{\"fill_alpha\":{\"value\":0.7},\"fill_color\":{\"value\":\"#4daf4a\"},\"line_alpha\":{\"value\":0.7},\"line_color\":{\"value\":\"#4daf4a\"},\"x\":{\"field\":\"x\"},\"y\":{\"field\":\"y\"}},\"id\":\"140625aa-5eba-4654-9952-d825dadeb316\",\"type\":\"Circle\"},{\"attributes\":{\"callback\":null,\"data\":{\"x\":{\"__ndarray__\":\"KRFxC0ekZj/pnb9OxypoP0RybBw1T2s/bAf75ByEbj/cS0BqGOBwP0H++CDCfnI/m6lEpY4fdD+C6e3058B1Pw1k8EqvYXc/1XMJgQAEeT8ocqkPQo56P8vqiAmLBnw/zvdhMs1jfT9xcZ6ynR1/Py2RcWcLMYM/pA+slrP4ij8zHpjom1CSP+5/HYuvbpc/Zwfvup3OnD8Or0xBfDWhPwbNP97RHaQ/7X8Jp8jLpj8nOcDJv2GnP8v7w4ys2aU/1PLLrBqOoz8LrPXbXbugPwHlWcPx7ps/BHhU+t7mlj8V59MjQF+SP9ujWOowkYw/LJgKh2QchT+OfzBCSaB8P//glBm1knA/ip7qAKd/WT8l5JamrttMvwxum40Ef2i//+38o3JBcL+xJVjasSptv5jCT1ANamW/ZhDEHn8OYL+2d1CE6T9Yv9iHT9v6OVK/YfW/CSbnSr+ibaeCHCtDvwjVA4Wgjjm/QGy/dh2jLb+yKyl506AWv1kbJN+nJAI/GB8HVw1uIj9i+7aFd8YuP8e61Qdb8jQ/Pm+iWQ4FOj/uJpaLxrU+P0e0XCz0jUE/4mEaTCamQz836zwPWaxFP+9JnAk2qUc/7+wHM82kST8/xNPtZ6JLP2SX2/vZnk0/Q03jbiR7Tz8Nsu/GHnNQPzZN6aqKulA/KvlsL7aIUD8ZSXhHsRhQPyTQky7/f08/Aua7GMB2Tz9ALbSMIRlQP+POWaO9wVA/w/AKLiGZUT8GPzdVc5BSP68QBx01pVM/Gdy3mx7bVD/NV9jyGz1WPxwoBDMl4Fc/\",\"dtype\":\"float64\",\"shape\":[75]},\"y\":{\"__ndarray__\":\"GhExyth1ND/Sv8nbtpRIP2vylNV0PVE/aTum7souWD/At0SJ8fVgPw3Iuahxymc/MSNhhJWvcD/bTfBN02d3P2zb5nxnaoA/CD5h5MAGhz8NmeH1TyaQP+zrCsc9p5Y/LbKd76fGnz/bLW5ISEmmPww9YvTcQq8/JV2OstnstT8Er5Y7M8G+P0c+r3jqkcU/5h99k6ZBzj88bCIzFzjVP4enV8oyxN0//yH99nXg5D8qOpLLf0jtP5kqGJXUifQ/c9cS8kHP/D+/DpwzojQEQIEmwoanVwxA4lgXt9HgE0BSSZ2AJuIbQAMJih9jjiNA5q4l5INuK0AwTKYKRj0zQNv5fmq8/DpAaCJseHrtQkB/+zpwzoxKQM3MzMzMeFJAZmZmZmZqWEAAAAAAAFxeQM3MzMzMJmJAmpmZmZkfZUBmZmZmZhhoQDMzMzMzEWtAAAAAAAAKbkBmZmZmZoFwQM3MzMzM/XFAMzMzMzN6c0CamZmZmfZ0QAAAAAAAc3ZAZmZmZmbvd0DNzMzMzGt5QDMzMzMz6HpAmpmZmZlkfEAAAAAAAOF9QGZmZmZmXX9AZmZmZuZsgECamZmZGSuBQM3MzMxM6YFAAAAAAICngkAzMzMzs2WDQGZmZmbmI4RAmpmZmRnihEDNzMzMTKCFQAAAAACAXoZAMzMzM7Mch0BmZmZm5tqHQJqZmZkZmYhAzczMzExXiUAAAAAAgBWKQDMzMzOz04pAZmZmZuaRi0CamZmZGVCMQM3MzMxMDo1AAAAAAIDMjUAzMzMzs4qOQGZmZmbmSI9A\",\"dtype\":\"float64\",\"shape\":[75]}},\"selected\":{\"id\":\"f3a19592-8565-4274-b9ce-4ab06199a6ff\",\"type\":\"Selection\"},\"selection_policy\":{\"id\":\"b837e7ab-0afa-4f3d-994c-72975e70d10e\",\"type\":\"UnionRenderers\"}},\"id\":\"2ee8624a-b381-4e9f-9ca0-501402f9fd11\",\"type\":\"ColumnDataSource\"},{\"attributes\":{\"fill_alpha\":{\"value\":0.1},\"fill_color\":{\"value\":\"#1f77b4\"},\"line_alpha\":{\"value\":0.1},\"line_color\":{\"value\":\"#1f77b4\"},\"x\":{\"field\":\"x\"},\"y\":{\"field\":\"y\"}},\"id\":\"9407213c-82e5-4e06-8b94-39f923e3aa51\",\"type\":\"Circle\"},{\"attributes\":{\"callback\":null,\"data\":{\"x\":{\"__ndarray__\":\"HxSCv9mSfz8FOJLCexmAP2a+Dba7vIA/RdRXp3BjgT9Tz6fyWwuCPzAXLZNstII/N5upeZdegz/agy+d7QmEP+iKa99QtoQ/t22tab1jhT+59psPIxKGP4pbfD9ywYY/W+OyWCpyhz//Fce7AlWIPxt74ni/g4s/WigijjgOkT+CgpeI0yOVP3vsrc88g5k/wpdhWtYonj853h8a1oehP7jb/UNdGKQ/rXC0q9yApj+0on/i/UGnP1Xv77oeT6Y/35SeW3uupD+2hzRfYoKiP7/YOdVzNaA/OJuqVZ3Qmz/m1aPqAzuXPyj+RkAnspI/PZZxZeaIjD9Qt1JhChyEP8mo7NtU23g/vxcIRsoEZz+Ghc4au6Ayv2+r61wJB2i/u3XU25qJcb+rBQ01vrpwv9hUy9Idb2q/OIvorTL5ZL+4h1+Wn6Bgv8Gt14W6J1q/pfsLzQ03VL9RNHNQxVxOv/Wv7YqCtkW/QmpYf6ZhPL+2ZwaFf00uvy4a9d0zKgu/+tPYKCCfHD+oiw5hHbgwP19gy+wpeTk/ThLn7zbIQD/6rIDpQo5EP6HxDx4XHEg/T/XJEyt9Sz9jW/m6wrpOPz5ikbKH7lA/kLQWDTJ1Uj8HlN7SSfFTPwBqyEpcX1U/x4+41SGvVj8iDq4JfbpXPyKZFDJeUlg/mvEzv+xvWD8zGRa0bExYP8t5F0+DOVg/tE+Eay5yWD9rPi2N/wVZP1eU421k4Fk/1qBmQjfmWj/ZQTKPRgZcP76Ebl0POV0/q9BIVMR6Xj/zUxBLoMtfP/rEFo9GlmA/\",\"dtype\":\"float64\",\"shape\":[75]},\"y\":{\"__ndarray__\":\"GhExyth1ND/Sv8nbtpRIP2vylNV0PVE/aTum7souWD/At0SJ8fVgPw3Iuahxymc/MSNhhJWvcD/bTfBN02d3P2zb5nxnaoA/CD5h5MAGhz8NmeH1TyaQP+zrCsc9p5Y/LbKd76fGnz/bLW5ISEmmPww9YvTcQq8/JV2OstnstT8Er5Y7M8G+P0c+r3jqkcU/5h99k6ZBzj88bCIzFzjVP4enV8oyxN0//yH99nXg5D8qOpLLf0jtP5kqGJXUifQ/c9cS8kHP/D+/DpwzojQEQIEmwoanVwxA4lgXt9HgE0BSSZ2AJuIbQAMJih9jjiNA5q4l5INuK0AwTKYKRj0zQNv5fmq8/DpAaCJseHrtQkB/+zpwzoxKQM3MzMzMeFJAZmZmZmZqWEAAAAAAAFxeQM3MzMzMJmJAmpmZmZkfZUBmZmZmZhhoQDMzMzMzEWtAAAAAAAAKbkBmZmZmZoFwQM3MzMzM/XFAMzMzMzN6c0CamZmZmfZ0QAAAAAAAc3ZAZmZmZmbvd0DNzMzMzGt5QDMzMzMz6HpAmpmZmZlkfEAAAAAAAOF9QGZmZmZmXX9AZmZmZuZsgECamZmZGSuBQM3MzMxM6YFAAAAAAICngkAzMzMzs2WDQGZmZmbmI4RAmpmZmRnihEDNzMzMTKCFQAAAAACAXoZAMzMzM7Mch0BmZmZm5tqHQJqZmZkZmYhAzczMzExXiUAAAAAAgBWKQDMzMzOz04pAZmZmZuaRi0CamZmZGVCMQM3MzMxMDo1AAAAAAIDMjUAzMzMzs4qOQGZmZmbmSI9A\",\"dtype\":\"float64\",\"shape\":[75]}},\"selected\":{\"id\":\"baffa601-6e1d-4b16-ae1c-c233b33d8577\",\"type\":\"Selection\"},\"selection_policy\":{\"id\":\"5f0786fd-bea0-433e-ace4-7ec43cff66ea\",\"type\":\"UnionRenderers\"}},\"id\":\"0f1f7b10-45fe-465f-bd0a-30c328185c61\",\"type\":\"ColumnDataSource\"},{\"attributes\":{\"line_alpha\":0.1,\"line_color\":\"#1f77b4\",\"line_width\":1.5,\"x\":{\"field\":\"x\"},\"y\":{\"field\":\"y\"}},\"id\":\"6958c738-bab4-4c11-a060-89e1d63848c8\",\"type\":\"Line\"},{\"attributes\":{\"callback\":null,\"data\":{\"x\":{\"__ndarray__\":\"yPwQVSBFfT/DpsYymuh9P2ICp1V1UX8/3Pb17/5ggD/+1pL6oBqBP8IP29GQ1YE/o0w/McaRgj/oY9xjWU+DP/JEyOwwDoQ/DVWooyDOhD+Bu6JKg5GFP0oWU5BvVIY/ziKalBAZhz+QKlVliRWIP6C0vuj1nos/onbtQtuAkT9snoNkigSWP0M25C3E25o/brfbMDUCoD+slbW/RqGiP2JRKkQ0eKU/LM5GHvAPqD9KP1NCv9WoPy0EDqgEsqc/m8BWBF3NpT9Riqzuvk6jP4aaZXIRr6A/9wxiGXssnD90GRgoEhSXP1gVK7S9J5I/cVDrywz6ij+RT80+dmuCPxYPw5Qu4HU/y2ZQZf/ZYj88D9Wmc/NBv2fhHaaegWi/Oex3juw9cb+RSM7OERVwvwMzlTQ1v2i/SuNo7mdIY7/emo34wiJev6Jmiw2dY1e/CrNnD+/SUb/Ro3p0Tk1Kv/YoDTNhUkK/ZliT8GzQNr+jpfidglolvzY002cXcrk+Xmxj64uMIz/b/u1q8IwyP6bfyxuZmDo/49Y9ZuIFQT9drEWtBoFEP6tyVug7ykc/SIcQOGnsSj+WGJ04EvBNPxvGRuDUblA/fqfKsdzdUT+WrHHT8kVTPwV5hLa/o1Q/EWdgTW7nVT9csj6mNOlWPw3uNeLcdlc/ThA6BrKHVz+fPCqKUFZXP/7q5xEHN1c/+Nn9sEJmVz95rvWhIPNXP8WS2bWJx1g/33oja7PHWT/dCM2mCuNaPwJoiCkgFFw/mzPIxPlZXT/RTc2rW7lePzEGYtLJHWA/\",\"dtype\":\"float64\",\"shape\":[75]},\"y\":{\"__ndarray__\":\"GhExyth1ND/Sv8nbtpRIP2vylNV0PVE/aTum7souWD/At0SJ8fVgPw3Iuahxymc/MSNhhJWvcD/bTfBN02d3P2zb5nxnaoA/CD5h5MAGhz8NmeH1TyaQP+zrCsc9p5Y/LbKd76fGnz/bLW5ISEmmPww9YvTcQq8/JV2OstnstT8Er5Y7M8G+P0c+r3jqkcU/5h99k6ZBzj88bCIzFzjVP4enV8oyxN0//yH99nXg5D8qOpLLf0jtP5kqGJXUifQ/c9cS8kHP/D+/DpwzojQEQIEmwoanVwxA4lgXt9HgE0BSSZ2AJuIbQAMJih9jjiNA5q4l5INuK0AwTKYKRj0zQNv5fmq8/DpAaCJseHrtQkB/+zpwzoxKQM3MzMzMeFJAZmZmZmZqWEAAAAAAAFxeQM3MzMzMJmJAmpmZmZkfZUBmZmZmZhhoQDMzMzMzEWtAAAAAAAAKbkBmZmZmZoFwQM3MzMzM/XFAMzMzMzN6c0CamZmZmfZ0QAAAAAAAc3ZAZmZmZmbvd0DNzMzMzGt5QDMzMzMz6HpAmpmZmZlkfEAAAAAAAOF9QGZmZmZmXX9AZmZmZuZsgECamZmZGSuBQM3MzMxM6YFAAAAAAICngkAzMzMzs2WDQGZmZmbmI4RAmpmZmRnihEDNzMzMTKCFQAAAAACAXoZAMzMzM7Mch0BmZmZm5tqHQJqZmZkZmYhAzczMzExXiUAAAAAAgBWKQDMzMzOz04pAZmZmZuaRi0CamZmZGVCMQM3MzMxMDo1AAAAAAIDMjUAzMzMzs4qOQGZmZmbmSI9A\",\"dtype\":\"float64\",\"shape\":[75]}},\"selected\":{\"id\":\"bd4fdf17-f987-4a8b-93a0-3327a9c20b9b\",\"type\":\"Selection\"},\"selection_policy\":{\"id\":\"aba4a127-d0c3-4a06-a38f-ac31ca442ce0\",\"type\":\"UnionRenderers\"}},\"id\":\"ddd99a91-21c9-434e-99b5-d626b01d7384\",\"type\":\"ColumnDataSource\"},{\"attributes\":{},\"id\":\"3112e517-1ad1-42f0-a476-d2a010e42be0\",\"type\":\"PanTool\"},{\"attributes\":{\"bottom_units\":\"screen\",\"fill_alpha\":{\"value\":0.5},\"fill_color\":{\"value\":\"lightgrey\"},\"left_units\":\"screen\",\"level\":\"overlay\",\"line_alpha\":{\"value\":1.0},\"line_color\":{\"value\":\"black\"},\"line_dash\":[4,4],\"line_width\":{\"value\":2},\"plot\":null,\"render_mode\":\"css\",\"right_units\":\"screen\",\"top_units\":\"screen\"},\"id\":\"5a92a179-5014-426e-a877-6badcb588bef\",\"type\":\"BoxAnnotation\"},{\"attributes\":{},\"id\":\"8c7eb067-50b1-4b61-81fa-eee48e6428b1\",\"type\":\"WheelZoomTool\"},{\"attributes\":{\"line_color\":\"#4daf4a\",\"line_width\":1.5,\"x\":{\"field\":\"x\"},\"y\":{\"field\":\"y\"}},\"id\":\"908a7722-d9ec-4040-89fd-0186f80b8c66\",\"type\":\"Line\"},{\"attributes\":{\"overlay\":{\"id\":\"5a92a179-5014-426e-a877-6badcb588bef\",\"type\":\"BoxAnnotation\"}},\"id\":\"4b395a56-b79c-46fc-9d2a-8b05a3e81c77\",\"type\":\"BoxZoomTool\"},{\"attributes\":{\"data_source\":{\"id\":\"9e6e9506-9c56-498b-8c20-b18019472f8b\",\"type\":\"ColumnDataSource\"},\"glyph\":{\"id\":\"908a7722-d9ec-4040-89fd-0186f80b8c66\",\"type\":\"Line\"},\"hover_glyph\":null,\"muted_glyph\":null,\"nonselection_glyph\":{\"id\":\"6958c738-bab4-4c11-a060-89e1d63848c8\",\"type\":\"Line\"},\"selection_glyph\":null,\"view\":{\"id\":\"9b78ec7d-bddf-402b-8a80-10bb05843337\",\"type\":\"CDSView\"}},\"id\":\"c2873db5-bdc0-4958-ac9c-3635cc853006\",\"type\":\"GlyphRenderer\"},{\"attributes\":{},\"id\":\"fbbee96c-c4e3-4352-a730-882b994f3871\",\"type\":\"SaveTool\"},{\"attributes\":{},\"id\":\"7d09eaad-e346-4223-8a3f-0caffba37b5f\",\"type\":\"ResetTool\"},{\"attributes\":{},\"id\":\"895a2456-0eca-4e22-841e-5e0e96ebf298\",\"type\":\"HelpTool\"},{\"attributes\":{\"line_alpha\":0.6,\"line_color\":\"#984ea3\",\"line_width\":3,\"x\":{\"field\":\"x\"},\"y\":{\"field\":\"y\"}},\"id\":\"f601a1d6-65f3-4cf6-a98f-cd0e2695375a\",\"type\":\"Line\"},{\"attributes\":{\"source\":{\"id\":\"48474012-b591-45f6-9865-fe700e733412\",\"type\":\"ColumnDataSource\"}},\"id\":\"7ccc4098-17d3-4cf6-9cf6-c9fbed2cbd63\",\"type\":\"CDSView\"},{\"attributes\":{\"data_source\":{\"id\":\"02f020b2-b2e9-468a-99fa-1986b8937e96\",\"type\":\"ColumnDataSource\"},\"glyph\":{\"id\":\"f601a1d6-65f3-4cf6-a98f-cd0e2695375a\",\"type\":\"Line\"},\"hover_glyph\":null,\"muted_glyph\":null,\"nonselection_glyph\":{\"id\":\"ec74e588-3ce6-48e1-a4cb-0745fbcd1a4b\",\"type\":\"Line\"},\"selection_glyph\":null,\"view\":{\"id\":\"88f33463-17e6-491b-acc0-4d495ac96352\",\"type\":\"CDSView\"}},\"id\":\"5da6b545-be99-4cd6-97c4-abc59c8ab01c\",\"type\":\"GlyphRenderer\"},{\"attributes\":{\"callback\":null,\"data\":{\"x\":{\"__ndarray__\":\"HxSCv9mSfz8FOJLCexmAP2a+Dba7vIA/RdRXp3BjgT9Tz6fyWwuCPzAXLZNstII/N5upeZdegz/agy+d7QmEP+iKa99QtoQ/t22tab1jhT+59psPIxKGP4pbfD9ywYY/W+OyWCpyhz//Fce7AlWIPxt74ni/g4s/WigijjgOkT+CgpeI0yOVP3vsrc88g5k/wpdhWtYonj853h8a1oehP7jb/UNdGKQ/rXC0q9yApj+0on/i/UGnP1Xv77oeT6Y/35SeW3uupD+2hzRfYoKiP7/YOdVzNaA/OJuqVZ3Qmz/m1aPqAzuXPyj+RkAnspI/PZZxZeaIjD9Qt1JhChyEP8mo7NtU23g/vxcIRsoEZz+Ghc4au6Ayv2+r61wJB2i/u3XU25qJcb+rBQ01vrpwv9hUy9Idb2q/OIvorTL5ZL+4h1+Wn6Bgv8Gt14W6J1q/pfsLzQ03VL9RNHNQxVxOv/Wv7YqCtkW/QmpYf6ZhPL+2ZwaFf00uvy4a9d0zKgu/+tPYKCCfHD+oiw5hHbgwP19gy+wpeTk/ThLn7zbIQD/6rIDpQo5EP6HxDx4XHEg/T/XJEyt9Sz9jW/m6wrpOPz5ikbKH7lA/kLQWDTJ1Uj8HlN7SSfFTPwBqyEpcX1U/x4+41SGvVj8iDq4JfbpXPyKZFDJeUlg/mvEzv+xvWD8zGRa0bExYP8t5F0+DOVg/tE+Eay5yWD9rPi2N/wVZP1eU421k4Fk/1qBmQjfmWj/ZQTKPRgZcP76Ebl0POV0/q9BIVMR6Xj/zUxBLoMtfP/rEFo9GlmA/\",\"dtype\":\"float64\",\"shape\":[75]},\"y\":{\"__ndarray__\":\"GhExyth1ND/Sv8nbtpRIP2vylNV0PVE/aTum7souWD/At0SJ8fVgPw3Iuahxymc/MSNhhJWvcD/bTfBN02d3P2zb5nxnaoA/CD5h5MAGhz8NmeH1TyaQP+zrCsc9p5Y/LbKd76fGnz/bLW5ISEmmPww9YvTcQq8/JV2OstnstT8Er5Y7M8G+P0c+r3jqkcU/5h99k6ZBzj88bCIzFzjVP4enV8oyxN0//yH99nXg5D8qOpLLf0jtP5kqGJXUifQ/c9cS8kHP/D+/DpwzojQEQIEmwoanVwxA4lgXt9HgE0BSSZ2AJuIbQAMJih9jjiNA5q4l5INuK0AwTKYKRj0zQNv5fmq8/DpAaCJseHrtQkB/+zpwzoxKQM3MzMzMeFJAZmZmZmZqWEAAAAAAAFxeQM3MzMzMJmJAmpmZmZkfZUBmZmZmZhhoQDMzMzMzEWtAAAAAAAAKbkBmZmZmZoFwQM3MzMzM/XFAMzMzMzN6c0CamZmZmfZ0QAAAAAAAc3ZAZmZmZmbvd0DNzMzMzGt5QDMzMzMz6HpAmpmZmZlkfEAAAAAAAOF9QGZmZmZmXX9AZmZmZuZsgECamZmZGSuBQM3MzMxM6YFAAAAAAICngkAzMzMzs2WDQGZmZmbmI4RAmpmZmRnihEDNzMzMTKCFQAAAAACAXoZAMzMzM7Mch0BmZmZm5tqHQJqZmZkZmYhAzczMzExXiUAAAAAAgBWKQDMzMzOz04pAZmZmZuaRi0CamZmZGVCMQM3MzMxMDo1AAAAAAIDMjUAzMzMzs4qOQGZmZmbmSI9A\",\"dtype\":\"float64\",\"shape\":[75]}},\"selected\":{\"id\":\"63d3527f-33d4-4bad-9a4d-b7e4c1dcb242\",\"type\":\"Selection\"},\"selection_policy\":{\"id\":\"fa31bc1c-1a12-46e8-9a5f-77842315a0c5\",\"type\":\"UnionRenderers\"}},\"id\":\"aa289a34-8bd6-42e8-b2c2-2eefcccff0b7\",\"type\":\"ColumnDataSource\"},{\"attributes\":{\"callback\":null,\"data\":{\"x\":{\"__ndarray__\":\"KRFxC0ekZj/pnb9OxypoP0RybBw1T2s/bAf75ByEbj/cS0BqGOBwP0H++CDCfnI/m6lEpY4fdD+C6e3058B1Pw1k8EqvYXc/1XMJgQAEeT8ocqkPQo56P8vqiAmLBnw/zvdhMs1jfT9xcZ6ynR1/Py2RcWcLMYM/pA+slrP4ij8zHpjom1CSP+5/HYuvbpc/Zwfvup3OnD8Or0xBfDWhPwbNP97RHaQ/7X8Jp8jLpj8nOcDJv2GnP8v7w4ys2aU/1PLLrBqOoz8LrPXbXbugPwHlWcPx7ps/BHhU+t7mlj8V59MjQF+SP9ujWOowkYw/LJgKh2QchT+OfzBCSaB8P//glBm1knA/ip7qAKd/WT8l5JamrttMvwxum40Ef2i//+38o3JBcL+xJVjasSptv5jCT1ANamW/ZhDEHn8OYL+2d1CE6T9Yv9iHT9v6OVK/YfW/CSbnSr+ibaeCHCtDvwjVA4Wgjjm/QGy/dh2jLb+yKyl506AWv1kbJN+nJAI/GB8HVw1uIj9i+7aFd8YuP8e61Qdb8jQ/Pm+iWQ4FOj/uJpaLxrU+P0e0XCz0jUE/4mEaTCamQz836zwPWaxFP+9JnAk2qUc/7+wHM82kST8/xNPtZ6JLP2SX2/vZnk0/Q03jbiR7Tz8Nsu/GHnNQPzZN6aqKulA/KvlsL7aIUD8ZSXhHsRhQPyTQky7/f08/Aua7GMB2Tz9ALbSMIRlQP+POWaO9wVA/w/AKLiGZUT8GPzdVc5BSP68QBx01pVM/Gdy3mx7bVD/NV9jyGz1WPxwoBDMl4Fc/\",\"dtype\":\"float64\",\"shape\":[75]},\"y\":{\"__ndarray__\":\"GhExyth1ND/Sv8nbtpRIP2vylNV0PVE/aTum7souWD/At0SJ8fVgPw3Iuahxymc/MSNhhJWvcD/bTfBN02d3P2zb5nxnaoA/CD5h5MAGhz8NmeH1TyaQP+zrCsc9p5Y/LbKd76fGnz/bLW5ISEmmPww9YvTcQq8/JV2OstnstT8Er5Y7M8G+P0c+r3jqkcU/5h99k6ZBzj88bCIzFzjVP4enV8oyxN0//yH99nXg5D8qOpLLf0jtP5kqGJXUifQ/c9cS8kHP/D+/DpwzojQEQIEmwoanVwxA4lgXt9HgE0BSSZ2AJuIbQAMJih9jjiNA5q4l5INuK0AwTKYKRj0zQNv5fmq8/DpAaCJseHrtQkB/+zpwzoxKQM3MzMzMeFJAZmZmZmZqWEAAAAAAAFxeQM3MzMzMJmJAmpmZmZkfZUBmZmZmZhhoQDMzMzMzEWtAAAAAAAAKbkBmZmZmZoFwQM3MzMzM/XFAMzMzMzN6c0CamZmZmfZ0QAAAAAAAc3ZAZmZmZmbvd0DNzMzMzGt5QDMzMzMz6HpAmpmZmZlkfEAAAAAAAOF9QGZmZmZmXX9AZmZmZuZsgECamZmZGSuBQM3MzMxM6YFAAAAAAICngkAzMzMzs2WDQGZmZmbmI4RAmpmZmRnihEDNzMzMTKCFQAAAAACAXoZAMzMzM7Mch0BmZmZm5tqHQJqZmZkZmYhAzczMzExXiUAAAAAAgBWKQDMzMzOz04pAZmZmZuaRi0CamZmZGVCMQM3MzMxMDo1AAAAAAIDMjUAzMzMzs4qOQGZmZmbmSI9A\",\"dtype\":\"float64\",\"shape\":[75]}},\"selected\":{\"id\":\"7c9b8590-9983-4e05-a197-dfe555c15407\",\"type\":\"Selection\"},\"selection_policy\":{\"id\":\"1ec3e3f4-dedf-4312-af02-8919cf07b74c\",\"type\":\"UnionRenderers\"}},\"id\":\"9e6e9506-9c56-498b-8c20-b18019472f8b\",\"type\":\"ColumnDataSource\"},{\"attributes\":{\"source\":{\"id\":\"55af7acc-724c-4a4a-b175-8d98c230b126\",\"type\":\"ColumnDataSource\"}},\"id\":\"4b7fad81-d330-48b8-8b3b-118c8cb120e9\",\"type\":\"CDSView\"},{\"attributes\":{\"data_source\":{\"id\":\"48474012-b591-45f6-9865-fe700e733412\",\"type\":\"ColumnDataSource\"},\"glyph\":{\"id\":\"259e830c-f36c-4e14-b74e-af19338aba08\",\"type\":\"Circle\"},\"hover_glyph\":null,\"muted_glyph\":null,\"nonselection_glyph\":{\"id\":\"551ed349-87c9-4005-a71d-26648406c43c\",\"type\":\"Circle\"},\"selection_glyph\":null,\"view\":{\"id\":\"7ccc4098-17d3-4cf6-9cf6-c9fbed2cbd63\",\"type\":\"CDSView\"}},\"id\":\"ac501ebe-f787-4a98-a7e5-90d38116122b\",\"type\":\"GlyphRenderer\"},{\"attributes\":{\"fill_alpha\":{\"value\":0.7},\"fill_color\":{\"value\":\"#984ea3\"},\"line_alpha\":{\"value\":0.7},\"line_color\":{\"value\":\"#984ea3\"},\"x\":{\"field\":\"x\"},\"y\":{\"field\":\"y\"}},\"id\":\"ef1b49e6-f9e6-4eb5-814f-4dd3bcb11e80\",\"type\":\"Square\"},{\"attributes\":{\"callback\":null,\"data\":{\"x\":{\"__ndarray__\":\"yPwQVSBFfT/DpsYymuh9P2ICp1V1UX8/3Pb17/5ggD/+1pL6oBqBP8IP29GQ1YE/o0w/McaRgj/oY9xjWU+DP/JEyOwwDoQ/DVWooyDOhD+Bu6JKg5GFP0oWU5BvVIY/ziKalBAZhz+QKlVliRWIP6C0vuj1nos/onbtQtuAkT9snoNkigSWP0M25C3E25o/brfbMDUCoD+slbW/RqGiP2JRKkQ0eKU/LM5GHvAPqD9KP1NCv9WoPy0EDqgEsqc/m8BWBF3NpT9Riqzuvk6jP4aaZXIRr6A/9wxiGXssnD90GRgoEhSXP1gVK7S9J5I/cVDrywz6ij+RT80+dmuCPxYPw5Qu4HU/y2ZQZf/ZYj88D9Wmc/NBv2fhHaaegWi/Oex3juw9cb+RSM7OERVwvwMzlTQ1v2i/SuNo7mdIY7/emo34wiJev6Jmiw2dY1e/CrNnD+/SUb/Ro3p0Tk1Kv/YoDTNhUkK/ZliT8GzQNr+jpfidglolvzY002cXcrk+Xmxj64uMIz/b/u1q8IwyP6bfyxuZmDo/49Y9ZuIFQT9drEWtBoFEP6tyVug7ykc/SIcQOGnsSj+WGJ04EvBNPxvGRuDUblA/fqfKsdzdUT+WrHHT8kVTPwV5hLa/o1Q/EWdgTW7nVT9csj6mNOlWPw3uNeLcdlc/ThA6BrKHVz+fPCqKUFZXP/7q5xEHN1c/+Nn9sEJmVz95rvWhIPNXP8WS2bWJx1g/33oja7PHWT/dCM2mCuNaPwJoiCkgFFw/mzPIxPlZXT/RTc2rW7lePzEGYtLJHWA/\",\"dtype\":\"float64\",\"shape\":[75]},\"y\":{\"__ndarray__\":\"GhExyth1ND/Sv8nbtpRIP2vylNV0PVE/aTum7souWD/At0SJ8fVgPw3Iuahxymc/MSNhhJWvcD/bTfBN02d3P2zb5nxnaoA/CD5h5MAGhz8NmeH1TyaQP+zrCsc9p5Y/LbKd76fGnz/bLW5ISEmmPww9YvTcQq8/JV2OstnstT8Er5Y7M8G+P0c+r3jqkcU/5h99k6ZBzj88bCIzFzjVP4enV8oyxN0//yH99nXg5D8qOpLLf0jtP5kqGJXUifQ/c9cS8kHP/D+/DpwzojQEQIEmwoanVwxA4lgXt9HgE0BSSZ2AJuIbQAMJih9jjiNA5q4l5INuK0AwTKYKRj0zQNv5fmq8/DpAaCJseHrtQkB/+zpwzoxKQM3MzMzMeFJAZmZmZmZqWEAAAAAAAFxeQM3MzMzMJmJAmpmZmZkfZUBmZmZmZhhoQDMzMzMzEWtAAAAAAAAKbkBmZmZmZoFwQM3MzMzM/XFAMzMzMzN6c0CamZmZmfZ0QAAAAAAAc3ZAZmZmZmbvd0DNzMzMzGt5QDMzMzMz6HpAmpmZmZlkfEAAAAAAAOF9QGZmZmZmXX9AZmZmZuZsgECamZmZGSuBQM3MzMxM6YFAAAAAAICngkAzMzMzs2WDQGZmZmbmI4RAmpmZmRnihEDNzMzMTKCFQAAAAACAXoZAMzMzM7Mch0BmZmZm5tqHQJqZmZkZmYhAzczMzExXiUAAAAAAgBWKQDMzMzOz04pAZmZmZuaRi0CamZmZGVCMQM3MzMxMDo1AAAAAAIDMjUAzMzMzs4qOQGZmZmbmSI9A\",\"dtype\":\"float64\",\"shape\":[75]}},\"selected\":{\"id\":\"c0fed8bd-e10e-461e-9de2-ad45ad73dffe\",\"type\":\"Selection\"},\"selection_policy\":{\"id\":\"ba14b119-9ff6-4c38-bbfd-ff601cbe3a70\",\"type\":\"UnionRenderers\"}},\"id\":\"02f020b2-b2e9-468a-99fa-1986b8937e96\",\"type\":\"ColumnDataSource\"},{\"attributes\":{\"source\":{\"id\":\"9e6e9506-9c56-498b-8c20-b18019472f8b\",\"type\":\"ColumnDataSource\"}},\"id\":\"9b78ec7d-bddf-402b-8a80-10bb05843337\",\"type\":\"CDSView\"},{\"attributes\":{\"fill_alpha\":{\"value\":0.7},\"fill_color\":{\"value\":\"#377eb8\"},\"line_alpha\":{\"value\":0.7},\"line_color\":{\"value\":\"#377eb8\"},\"x\":{\"field\":\"x\"},\"y\":{\"field\":\"y\"}},\"id\":\"e31fb087-7262-40c8-b526-d88f48b891f9\",\"type\":\"Triangle\"},{\"attributes\":{\"fill_alpha\":{\"value\":0.1},\"fill_color\":{\"value\":\"#1f77b4\"},\"line_alpha\":{\"value\":0.1},\"line_color\":{\"value\":\"#1f77b4\"},\"x\":{\"field\":\"x\"},\"y\":{\"field\":\"y\"}},\"id\":\"a37fce66-b907-4d54-ad1f-ce159dec89e7\",\"type\":\"Square\"},{\"attributes\":{\"line_alpha\":0.1,\"line_color\":\"#1f77b4\",\"line_width\":3,\"x\":{\"field\":\"x\"},\"y\":{\"field\":\"y\"}},\"id\":\"ec74e588-3ce6-48e1-a4cb-0745fbcd1a4b\",\"type\":\"Line\"},{\"attributes\":{\"source\":{\"id\":\"ddd99a91-21c9-434e-99b5-d626b01d7384\",\"type\":\"ColumnDataSource\"}},\"id\":\"27281a9b-efdb-43d7-b74c-56d3662fa8af\",\"type\":\"CDSView\"},{\"attributes\":{\"data_source\":{\"id\":\"ddd99a91-21c9-434e-99b5-d626b01d7384\",\"type\":\"ColumnDataSource\"},\"glyph\":{\"id\":\"ef1b49e6-f9e6-4eb5-814f-4dd3bcb11e80\",\"type\":\"Square\"},\"hover_glyph\":null,\"muted_glyph\":null,\"nonselection_glyph\":{\"id\":\"a37fce66-b907-4d54-ad1f-ce159dec89e7\",\"type\":\"Square\"},\"selection_glyph\":null,\"view\":{\"id\":\"27281a9b-efdb-43d7-b74c-56d3662fa8af\",\"type\":\"CDSView\"}},\"id\":\"708c2bf9-e6ec-4ca2-b4dd-9478cb326e5d\",\"type\":\"GlyphRenderer\"},{\"attributes\":{\"data_source\":{\"id\":\"0f1f7b10-45fe-465f-bd0a-30c328185c61\",\"type\":\"ColumnDataSource\"},\"glyph\":{\"id\":\"cb6e3a2b-e64d-4a97-ae4c-3f496bf4d898\",\"type\":\"Triangle\"},\"hover_glyph\":null,\"muted_glyph\":null,\"nonselection_glyph\":{\"id\":\"eed6c2c5-d800-4a11-b4c9-a2c29db2eb72\",\"type\":\"Triangle\"},\"selection_glyph\":null,\"view\":{\"id\":\"a808242e-e995-470f-9f8f-df3f2dbf6d3b\",\"type\":\"CDSView\"}},\"id\":\"409eb273-96c0-47a3-a7ae-2ec8e9069ee5\",\"type\":\"GlyphRenderer\"},{\"attributes\":{\"callback\":null,\"data\":{\"x\":{\"__ndarray__\":\"HxSCv9mSfz8FOJLCexmAP2a+Dba7vIA/RdRXp3BjgT9Tz6fyWwuCPzAXLZNstII/N5upeZdegz/agy+d7QmEP+iKa99QtoQ/t22tab1jhT+59psPIxKGP4pbfD9ywYY/W+OyWCpyhz//Fce7AlWIPxt74ni/g4s/WigijjgOkT+CgpeI0yOVP3vsrc88g5k/wpdhWtYonj853h8a1oehP7jb/UNdGKQ/rXC0q9yApj+0on/i/UGnP1Xv77oeT6Y/35SeW3uupD+2hzRfYoKiP7/YOdVzNaA/OJuqVZ3Qmz/m1aPqAzuXPyj+RkAnspI/PZZxZeaIjD9Qt1JhChyEP8mo7NtU23g/vxcIRsoEZz+Ghc4au6Ayv2+r61wJB2i/u3XU25qJcb+rBQ01vrpwv9hUy9Idb2q/OIvorTL5ZL+4h1+Wn6Bgv8Gt14W6J1q/pfsLzQ03VL9RNHNQxVxOv/Wv7YqCtkW/QmpYf6ZhPL+2ZwaFf00uvy4a9d0zKgu/+tPYKCCfHD+oiw5hHbgwP19gy+wpeTk/ThLn7zbIQD/6rIDpQo5EP6HxDx4XHEg/T/XJEyt9Sz9jW/m6wrpOPz5ikbKH7lA/kLQWDTJ1Uj8HlN7SSfFTPwBqyEpcX1U/x4+41SGvVj8iDq4JfbpXPyKZFDJeUlg/mvEzv+xvWD8zGRa0bExYP8t5F0+DOVg/tE+Eay5yWD9rPi2N/wVZP1eU421k4Fk/1qBmQjfmWj/ZQTKPRgZcP76Ebl0POV0/q9BIVMR6Xj/zUxBLoMtfP/rEFo9GlmA/\",\"dtype\":\"float64\",\"shape\":[75]},\"y\":{\"__ndarray__\":\"GhExyth1ND/Sv8nbtpRIP2vylNV0PVE/aTum7souWD/At0SJ8fVgPw3Iuahxymc/MSNhhJWvcD/bTfBN02d3P2zb5nxnaoA/CD5h5MAGhz8NmeH1TyaQP+zrCsc9p5Y/LbKd76fGnz/bLW5ISEmmPww9YvTcQq8/JV2OstnstT8Er5Y7M8G+P0c+r3jqkcU/5h99k6ZBzj88bCIzFzjVP4enV8oyxN0//yH99nXg5D8qOpLLf0jtP5kqGJXUifQ/c9cS8kHP/D+/DpwzojQEQIEmwoanVwxA4lgXt9HgE0BSSZ2AJuIbQAMJih9jjiNA5q4l5INuK0AwTKYKRj0zQNv5fmq8/DpAaCJseHrtQkB/+zpwzoxKQM3MzMzMeFJAZmZmZmZqWEAAAAAAAFxeQM3MzMzMJmJAmpmZmZkfZUBmZmZmZhhoQDMzMzMzEWtAAAAAAAAKbkBmZmZmZoFwQM3MzMzM/XFAMzMzMzN6c0CamZmZmfZ0QAAAAAAAc3ZAZmZmZmbvd0DNzMzMzGt5QDMzMzMz6HpAmpmZmZlkfEAAAAAAAOF9QGZmZmZmXX9AZmZmZuZsgECamZmZGSuBQM3MzMxM6YFAAAAAAICngkAzMzMzs2WDQGZmZmbmI4RAmpmZmRnihEDNzMzMTKCFQAAAAACAXoZAMzMzM7Mch0BmZmZm5tqHQJqZmZkZmYhAzczMzExXiUAAAAAAgBWKQDMzMzOz04pAZmZmZuaRi0CamZmZGVCMQM3MzMxMDo1AAAAAAIDMjUAzMzMzs4qOQGZmZmbmSI9A\",\"dtype\":\"float64\",\"shape\":[75]}},\"selected\":{\"id\":\"325de2bd-382f-4d85-b932-dc12a3024db7\",\"type\":\"Selection\"},\"selection_policy\":{\"id\":\"0cf0220a-4f40-4bbf-91e6-7f4e70c37768\",\"type\":\"UnionRenderers\"}},\"id\":\"19af8840-3f70-4eff-b819-e464b1f95cf3\",\"type\":\"ColumnDataSource\"},{\"attributes\":{\"source\":{\"id\":\"02f020b2-b2e9-468a-99fa-1986b8937e96\",\"type\":\"ColumnDataSource\"}},\"id\":\"88f33463-17e6-491b-acc0-4d495ac96352\",\"type\":\"CDSView\"},{\"attributes\":{\"fill_alpha\":{\"value\":0.1},\"fill_color\":{\"value\":\"#1f77b4\"},\"line_alpha\":{\"value\":0.1},\"line_color\":{\"value\":\"#1f77b4\"},\"x\":{\"field\":\"x\"},\"y\":{\"field\":\"y\"}},\"id\":\"eed6c2c5-d800-4a11-b4c9-a2c29db2eb72\",\"type\":\"Triangle\"},{\"attributes\":{\"line_alpha\":0.3,\"line_color\":\"#377eb8\",\"line_width\":2,\"x\":{\"field\":\"x\"},\"y\":{\"field\":\"y\"}},\"id\":\"5a553e82-081c-415d-87ed-ec3847582734\",\"type\":\"Line\"},{\"attributes\":{\"data_source\":{\"id\":\"55af7acc-724c-4a4a-b175-8d98c230b126\",\"type\":\"ColumnDataSource\"},\"glyph\":{\"id\":\"e1b6dca4-441e-4e3d-90c3-85446a00eced\",\"type\":\"Line\"},\"hover_glyph\":null,\"muted_glyph\":null,\"nonselection_glyph\":{\"id\":\"17a88340-0c78-4e72-8f33-cb1ce11a1039\",\"type\":\"Line\"},\"selection_glyph\":null,\"view\":{\"id\":\"4b7fad81-d330-48b8-8b3b-118c8cb120e9\",\"type\":\"CDSView\"}},\"id\":\"f031db0c-194d-483f-b40d-19fc98d26aa7\",\"type\":\"GlyphRenderer\"},{\"attributes\":{\"source\":{\"id\":\"19af8840-3f70-4eff-b819-e464b1f95cf3\",\"type\":\"ColumnDataSource\"}},\"id\":\"7d2800f3-55ce-4765-a96f-b4e20db4bfcb\",\"type\":\"CDSView\"},{\"attributes\":{\"callback\":null,\"data\":{\"x\":{\"__ndarray__\":\"yPwQVSBFfT/DpsYymuh9P2ICp1V1UX8/3Pb17/5ggD/+1pL6oBqBP8IP29GQ1YE/o0w/McaRgj/oY9xjWU+DP/JEyOwwDoQ/DVWooyDOhD+Bu6JKg5GFP0oWU5BvVIY/ziKalBAZhz+QKlVliRWIP6C0vuj1nos/onbtQtuAkT9snoNkigSWP0M25C3E25o/brfbMDUCoD+slbW/RqGiP2JRKkQ0eKU/LM5GHvAPqD9KP1NCv9WoPy0EDqgEsqc/m8BWBF3NpT9Riqzuvk6jP4aaZXIRr6A/9wxiGXssnD90GRgoEhSXP1gVK7S9J5I/cVDrywz6ij+RT80+dmuCPxYPw5Qu4HU/y2ZQZf/ZYj88D9Wmc/NBv2fhHaaegWi/Oex3juw9cb+RSM7OERVwvwMzlTQ1v2i/SuNo7mdIY7/emo34wiJev6Jmiw2dY1e/CrNnD+/SUb/Ro3p0Tk1Kv/YoDTNhUkK/ZliT8GzQNr+jpfidglolvzY002cXcrk+Xmxj64uMIz/b/u1q8IwyP6bfyxuZmDo/49Y9ZuIFQT9drEWtBoFEP6tyVug7ykc/SIcQOGnsSj+WGJ04EvBNPxvGRuDUblA/fqfKsdzdUT+WrHHT8kVTPwV5hLa/o1Q/EWdgTW7nVT9csj6mNOlWPw3uNeLcdlc/ThA6BrKHVz+fPCqKUFZXP/7q5xEHN1c/+Nn9sEJmVz95rvWhIPNXP8WS2bWJx1g/33oja7PHWT/dCM2mCuNaPwJoiCkgFFw/mzPIxPlZXT/RTc2rW7lePzEGYtLJHWA/\",\"dtype\":\"float64\",\"shape\":[75]},\"y\":{\"__ndarray__\":\"GhExyth1ND/Sv8nbtpRIP2vylNV0PVE/aTum7souWD/At0SJ8fVgPw3Iuahxymc/MSNhhJWvcD/bTfBN02d3P2zb5nxnaoA/CD5h5MAGhz8NmeH1TyaQP+zrCsc9p5Y/LbKd76fGnz/bLW5ISEmmPww9YvTcQq8/JV2OstnstT8Er5Y7M8G+P0c+r3jqkcU/5h99k6ZBzj88bCIzFzjVP4enV8oyxN0//yH99nXg5D8qOpLLf0jtP5kqGJXUifQ/c9cS8kHP/D+/DpwzojQEQIEmwoanVwxA4lgXt9HgE0BSSZ2AJuIbQAMJih9jjiNA5q4l5INuK0AwTKYKRj0zQNv5fmq8/DpAaCJseHrtQkB/+zpwzoxKQM3MzMzMeFJAZmZmZmZqWEAAAAAAAFxeQM3MzMzMJmJAmpmZmZkfZUBmZmZmZhhoQDMzMzMzEWtAAAAAAAAKbkBmZmZmZoFwQM3MzMzM/XFAMzMzMzN6c0CamZmZmfZ0QAAAAAAAc3ZAZmZmZmbvd0DNzMzMzGt5QDMzMzMz6HpAmpmZmZlkfEAAAAAAAOF9QGZmZmZmXX9AZmZmZuZsgECamZmZGSuBQM3MzMxM6YFAAAAAAICngkAzMzMzs2WDQGZmZmbmI4RAmpmZmRnihEDNzMzMTKCFQAAAAACAXoZAMzMzM7Mch0BmZmZm5tqHQJqZmZkZmYhAzczMzExXiUAAAAAAgBWKQDMzMzOz04pAZmZmZuaRi0CamZmZGVCMQM3MzMxMDo1AAAAAAIDMjUAzMzMzs4qOQGZmZmbmSI9A\",\"dtype\":\"float64\",\"shape\":[75]}},\"selected\":{\"id\":\"79f77e2e-5965-4b8b-b39f-2e39317868a9\",\"type\":\"Selection\"},\"selection_policy\":{\"id\":\"5c98dcb2-3e76-4cdc-9d45-af02c416ba38\",\"type\":\"UnionRenderers\"}},\"id\":\"55af7acc-724c-4a4a-b175-8d98c230b126\",\"type\":\"ColumnDataSource\"},{\"attributes\":{\"fill_alpha\":{\"value\":0.7},\"fill_color\":{\"value\":\"#377eb8\"},\"line_alpha\":{\"value\":0.7},\"line_color\":{\"value\":\"#377eb8\"},\"x\":{\"field\":\"x\"},\"y\":{\"field\":\"y\"}},\"id\":\"cb6e3a2b-e64d-4a97-ae4c-3f496bf4d898\",\"type\":\"Triangle\"},{\"attributes\":{\"fill_alpha\":{\"value\":0.7},\"fill_color\":{\"value\":\"#984ea3\"},\"line_alpha\":{\"value\":0.7},\"line_color\":{\"value\":\"#984ea3\"},\"x\":{\"field\":\"x\"},\"y\":{\"field\":\"y\"}},\"id\":\"8cbabb6a-77a9-4890-a40e-b793da75462c\",\"type\":\"Square\"},{\"attributes\":{\"line_alpha\":0.1,\"line_color\":\"#1f77b4\",\"line_width\":2,\"x\":{\"field\":\"x\"},\"y\":{\"field\":\"y\"}},\"id\":\"05c0572f-ec3f-4565-9663-8b6f9f860d9a\",\"type\":\"Line\"},{\"attributes\":{\"children\":[{\"id\":\"c10b83fb-bee4-42cd-9bc0-6c54c2ed7b4c\",\"type\":\"Row\"}]},\"id\":\"4d5aab93-e79a-4719-8e9d-a91d5c8279c2\",\"type\":\"Column\"},{\"attributes\":{\"source\":{\"id\":\"0f1f7b10-45fe-465f-bd0a-30c328185c61\",\"type\":\"ColumnDataSource\"}},\"id\":\"a808242e-e995-470f-9f8f-df3f2dbf6d3b\",\"type\":\"CDSView\"},{\"attributes\":{\"data_source\":{\"id\":\"19af8840-3f70-4eff-b819-e464b1f95cf3\",\"type\":\"ColumnDataSource\"},\"glyph\":{\"id\":\"5a553e82-081c-415d-87ed-ec3847582734\",\"type\":\"Line\"},\"hover_glyph\":null,\"muted_glyph\":null,\"nonselection_glyph\":{\"id\":\"05c0572f-ec3f-4565-9663-8b6f9f860d9a\",\"type\":\"Line\"},\"selection_glyph\":null,\"view\":{\"id\":\"7d2800f3-55ce-4765-a96f-b4e20db4bfcb\",\"type\":\"CDSView\"}},\"id\":\"a82dccd2-1419-41f1-b9fd-0cba2ae415b1\",\"type\":\"GlyphRenderer\"},{\"attributes\":{\"plot\":null,\"text\":\"\"},\"id\":\"e5a4849e-c3d7-431a-bb94-b1f7c47eef17\",\"type\":\"Title\"},{\"attributes\":{\"source\":{\"id\":\"ba342361-8b80-4637-b4e5-79796b8ac261\",\"type\":\"ColumnDataSource\"}},\"id\":\"88d436b9-fe53-42f2-aa90-f3fb8a89a163\",\"type\":\"CDSView\"},{\"attributes\":{\"children\":[{\"id\":\"e6e27da6-7e4f-4fb9-bd67-04ecd19b95f6\",\"subtype\":\"Figure\",\"type\":\"Plot\"},{\"id\":\"f1ef9b8d-7731-4ec2-acc2-9a0b897ab87f\",\"subtype\":\"Figure\",\"type\":\"Plot\"}]},\"id\":\"c10b83fb-bee4-42cd-9bc0-6c54c2ed7b4c\",\"type\":\"Row\"},{\"attributes\":{\"label\":{\"value\":\"CRD\"},\"renderers\":[{\"id\":\"ac501ebe-f787-4a98-a7e5-90d38116122b\",\"type\":\"GlyphRenderer\"},{\"id\":\"c2873db5-bdc0-4958-ac9c-3635cc853006\",\"type\":\"GlyphRenderer\"}]},\"id\":\"ec08e3f6-ef1e-45ba-9bd1-425273e93dd8\",\"type\":\"LegendItem\"},{\"attributes\":{\"source\":{\"id\":\"cff3bb92-fa41-4df5-8fa7-f6dac25846ba\",\"type\":\"ColumnDataSource\"}},\"id\":\"af23ac2e-ddfd-48f0-8e38-355f0fa3e471\",\"type\":\"CDSView\"},{\"attributes\":{},\"id\":\"662d6e3c-ee72-412c-827a-9913c2f0ec9b\",\"type\":\"Selection\"},{\"attributes\":{\"label\":{\"value\":\"WGT igg=1\"},\"renderers\":[{\"id\":\"708c2bf9-e6ec-4ca2-b4dd-9478cb326e5d\",\"type\":\"GlyphRenderer\"},{\"id\":\"5da6b545-be99-4cd6-97c4-abc59c8ab01c\",\"type\":\"GlyphRenderer\"}]},\"id\":\"0060196d-f740-4c89-a6c2-30cb9e2e3429\",\"type\":\"LegendItem\"},{\"attributes\":{\"plot\":null,\"text\":\"\"},\"id\":\"c8a79ed6-7654-4af7-834a-48ba7058bec6\",\"type\":\"Title\"},{\"attributes\":{\"fill_alpha\":{\"value\":0.1},\"fill_color\":{\"value\":\"#1f77b4\"},\"line_alpha\":{\"value\":0.1},\"line_color\":{\"value\":\"#1f77b4\"},\"x\":{\"field\":\"x\"},\"y\":{\"field\":\"y\"}},\"id\":\"c56ca8df-9a76-4784-b5ff-6dfc4e6d71e2\",\"type\":\"Square\"},{\"attributes\":{\"label\":{\"value\":\"WGT igg=10\"},\"renderers\":[{\"id\":\"409eb273-96c0-47a3-a7ae-2ec8e9069ee5\",\"type\":\"GlyphRenderer\"},{\"id\":\"a82dccd2-1419-41f1-b9fd-0cba2ae415b1\",\"type\":\"GlyphRenderer\"}]},\"id\":\"2368580a-b3c9-47d7-80a1-0a1ae0b3d48e\",\"type\":\"LegendItem\"},{\"attributes\":{},\"id\":\"b837e7ab-0afa-4f3d-994c-72975e70d10e\",\"type\":\"UnionRenderers\"},{\"attributes\":{},\"id\":\"c78652ed-cf8c-40c5-a921-a64f39216594\",\"type\":\"BasicTickFormatter\"},{\"attributes\":{\"data_source\":{\"id\":\"ba342361-8b80-4637-b4e5-79796b8ac261\",\"type\":\"ColumnDataSource\"},\"glyph\":{\"id\":\"8cbabb6a-77a9-4890-a40e-b793da75462c\",\"type\":\"Square\"},\"hover_glyph\":null,\"muted_glyph\":null,\"nonselection_glyph\":{\"id\":\"c56ca8df-9a76-4784-b5ff-6dfc4e6d71e2\",\"type\":\"Square\"},\"selection_glyph\":null,\"view\":{\"id\":\"88d436b9-fe53-42f2-aa90-f3fb8a89a163\",\"type\":\"CDSView\"}},\"id\":\"36bee8b1-e117-4553-a4c4-a6560aeb0249\",\"type\":\"GlyphRenderer\"},{\"attributes\":{},\"id\":\"b098f6bb-e39e-473d-85a8-815bc62964e1\",\"type\":\"BasicTickFormatter\"},{\"attributes\":{\"line_alpha\":0.1,\"line_color\":\"#1f77b4\",\"line_width\":3,\"x\":{\"field\":\"x\"},\"y\":{\"field\":\"y\"}},\"id\":\"17a88340-0c78-4e72-8f33-cb1ce11a1039\",\"type\":\"Line\"},{\"attributes\":{},\"id\":\"f3a19592-8565-4274-b9ce-4ab06199a6ff\",\"type\":\"Selection\"},{\"attributes\":{\"line_alpha\":0.6,\"line_color\":\"#984ea3\",\"line_width\":3,\"x\":{\"field\":\"x\"},\"y\":{\"field\":\"y\"}},\"id\":\"e1b6dca4-441e-4e3d-90c3-85446a00eced\",\"type\":\"Line\"},{\"attributes\":{},\"id\":\"561e757f-34b2-4fdc-8a53-37feba64dd48\",\"type\":\"UnionRenderers\"},{\"attributes\":{},\"id\":\"cfd5e9cc-81c1-48f9-b42a-95b15dc6fdc7\",\"type\":\"Selection\"},{\"attributes\":{\"callback\":null,\"data\":{\"x\":{\"__ndarray__\":\"yPwQVSBFfT/DpsYymuh9P2ICp1V1UX8/3Pb17/5ggD/+1pL6oBqBP8IP29GQ1YE/o0w/McaRgj/oY9xjWU+DP/JEyOwwDoQ/DVWooyDOhD+Bu6JKg5GFP0oWU5BvVIY/ziKalBAZhz+QKlVliRWIP6C0vuj1nos/onbtQtuAkT9snoNkigSWP0M25C3E25o/brfbMDUCoD+slbW/RqGiP2JRKkQ0eKU/LM5GHvAPqD9KP1NCv9WoPy0EDqgEsqc/m8BWBF3NpT9Riqzuvk6jP4aaZXIRr6A/9wxiGXssnD90GRgoEhSXP1gVK7S9J5I/cVDrywz6ij+RT80+dmuCPxYPw5Qu4HU/y2ZQZf/ZYj88D9Wmc/NBv2fhHaaegWi/Oex3juw9cb+RSM7OERVwvwMzlTQ1v2i/SuNo7mdIY7/emo34wiJev6Jmiw2dY1e/CrNnD+/SUb/Ro3p0Tk1Kv/YoDTNhUkK/ZliT8GzQNr+jpfidglolvzY002cXcrk+Xmxj64uMIz/b/u1q8IwyP6bfyxuZmDo/49Y9ZuIFQT9drEWtBoFEP6tyVug7ykc/SIcQOGnsSj+WGJ04EvBNPxvGRuDUblA/fqfKsdzdUT+WrHHT8kVTPwV5hLa/o1Q/EWdgTW7nVT9csj6mNOlWPw3uNeLcdlc/ThA6BrKHVz+fPCqKUFZXP/7q5xEHN1c/+Nn9sEJmVz95rvWhIPNXP8WS2bWJx1g/33oja7PHWT/dCM2mCuNaPwJoiCkgFFw/mzPIxPlZXT/RTc2rW7lePzEGYtLJHWA/\",\"dtype\":\"float64\",\"shape\":[75]},\"y\":{\"__ndarray__\":\"GhExyth1ND/Sv8nbtpRIP2vylNV0PVE/aTum7souWD/At0SJ8fVgPw3Iuahxymc/MSNhhJWvcD/bTfBN02d3P2zb5nxnaoA/CD5h5MAGhz8NmeH1TyaQP+zrCsc9p5Y/LbKd76fGnz/bLW5ISEmmPww9YvTcQq8/JV2OstnstT8Er5Y7M8G+P0c+r3jqkcU/5h99k6ZBzj88bCIzFzjVP4enV8oyxN0//yH99nXg5D8qOpLLf0jtP5kqGJXUifQ/c9cS8kHP/D+/DpwzojQEQIEmwoanVwxA4lgXt9HgE0BSSZ2AJuIbQAMJih9jjiNA5q4l5INuK0AwTKYKRj0zQNv5fmq8/DpAaCJseHrtQkB/+zpwzoxKQM3MzMzMeFJAZmZmZmZqWEAAAAAAAFxeQM3MzMzMJmJAmpmZmZkfZUBmZmZmZhhoQDMzMzMzEWtAAAAAAAAKbkBmZmZmZoFwQM3MzMzM/XFAMzMzMzN6c0CamZmZmfZ0QAAAAAAAc3ZAZmZmZmbvd0DNzMzMzGt5QDMzMzMz6HpAmpmZmZlkfEAAAAAAAOF9QGZmZmZmXX9AZmZmZuZsgECamZmZGSuBQM3MzMxM6YFAAAAAAICngkAzMzMzs2WDQGZmZmbmI4RAmpmZmRnihEDNzMzMTKCFQAAAAACAXoZAMzMzM7Mch0BmZmZm5tqHQJqZmZkZmYhAzczMzExXiUAAAAAAgBWKQDMzMzOz04pAZmZmZuaRi0CamZmZGVCMQM3MzMxMDo1AAAAAAIDMjUAzMzMzs4qOQGZmZmbmSI9A\",\"dtype\":\"float64\",\"shape\":[75]}},\"selected\":{\"id\":\"662d6e3c-ee72-412c-827a-9913c2f0ec9b\",\"type\":\"Selection\"},\"selection_policy\":{\"id\":\"561e757f-34b2-4fdc-8a53-37feba64dd48\",\"type\":\"UnionRenderers\"}},\"id\":\"ba342361-8b80-4637-b4e5-79796b8ac261\",\"type\":\"ColumnDataSource\"},{\"attributes\":{},\"id\":\"137026f9-de5e-4e29-a9b8-2c081dea6dfc\",\"type\":\"UnionRenderers\"},{\"attributes\":{},\"id\":\"fa31bc1c-1a12-46e8-9a5f-77842315a0c5\",\"type\":\"UnionRenderers\"},{\"attributes\":{},\"id\":\"63d3527f-33d4-4bad-9a4d-b7e4c1dcb242\",\"type\":\"Selection\"},{\"attributes\":{},\"id\":\"5c98dcb2-3e76-4cdc-9d45-af02c416ba38\",\"type\":\"UnionRenderers\"},{\"attributes\":{},\"id\":\"79f77e2e-5965-4b8b-b39f-2e39317868a9\",\"type\":\"Selection\"},{\"attributes\":{\"fill_alpha\":{\"value\":0.1},\"fill_color\":{\"value\":\"#1f77b4\"},\"line_alpha\":{\"value\":0.1},\"line_color\":{\"value\":\"#1f77b4\"},\"x\":{\"field\":\"x\"},\"y\":{\"field\":\"y\"}},\"id\":\"395d4603-75da-44ae-a6c8-a5212a780937\",\"type\":\"Triangle\"},{\"attributes\":{},\"id\":\"7e61e9b8-8e81-4d0e-b5f0-017884711686\",\"type\":\"UnionRenderers\"},{\"attributes\":{},\"id\":\"f62b0a88-f899-4f3b-a91d-f7781ca69718\",\"type\":\"Selection\"}],\"root_ids\":[\"ab770083-f0ca-4078-b82f-f0ab8782b75e\"]},\"title\":\"Bokeh Application\",\"version\":\"0.12.16\"}};\n",
       "  var render_items = [{\"docid\":\"188a3cfd-6e2b-4c90-ba85-b932e484af1a\",\"elementid\":\"a63a3b5e-5e5e-401f-b6c4-4f62071c63bd\",\"modelid\":\"ab770083-f0ca-4078-b82f-f0ab8782b75e\"}];\n",
       "  root.Bokeh.embed.embed_items_notebook(docs_json, render_items);\n",
       "\n",
       "  }\n",
       "  if (root.Bokeh !== undefined) {\n",
       "    embed_document(root);\n",
       "  } else {\n",
       "    var attempts = 0;\n",
       "    var timer = setInterval(function(root) {\n",
       "      if (root.Bokeh !== undefined) {\n",
       "        embed_document(root);\n",
       "        clearInterval(timer);\n",
       "      }\n",
       "      attempts++;\n",
       "      if (attempts > 100) {\n",
       "        console.log(\"Bokeh: ERROR: Unable to run BokehJS code because BokehJS library is missing\")\n",
       "        clearInterval(timer);\n",
       "      }\n",
       "    }, 10, root)\n",
       "  }\n",
       "})(window);"
      ],
      "application/vnd.bokehjs_exec.v0+json": ""
     },
     "metadata": {
      "application/vnd.bokehjs_exec.v0+json": {
       "id": "ab770083-f0ca-4078-b82f-f0ab8782b75e"
      }
     },
     "output_type": "display_data"
    },
    {
     "data": {
      "text/markdown": [
       "*FIGURE.* Cooling rates. g=1"
      ],
      "text/plain": [
       "<IPython.core.display.Markdown object>"
      ]
     },
     "metadata": {},
     "output_type": "display_data"
    },
    {
     "data": {
      "text/html": [
       "\n",
       "<div class=\"bk-root\">\n",
       "    <div class=\"bk-plotdiv\" id=\"53b4bef5-b604-405c-a664-b0cc584910e8\"></div>\n",
       "</div>"
      ]
     },
     "metadata": {},
     "output_type": "display_data"
    },
    {
     "data": {
      "application/javascript": [
       "(function(root) {\n",
       "  function embed_document(root) {\n",
       "    \n",
       "  var docs_json = {\"9e97b9c4-27cb-45d4-9b3f-1ca992283658\":{\"roots\":{\"references\":[{\"attributes\":{},\"id\":\"25bc0954-e907-43b0-b0d2-c4004fc35890\",\"type\":\"BasicTickFormatter\"},{\"attributes\":{},\"id\":\"ab2d358c-609f-44ef-b3fc-eb6267271821\",\"type\":\"BasicTickFormatter\"},{\"attributes\":{\"ticker\":null},\"id\":\"90dd4ef6-3fb3-4e69-ab74-10b48f0bfcd8\",\"type\":\"LogTickFormatter\"},{\"attributes\":{},\"id\":\"261110cf-4274-4b48-8897-7606d89fcf06\",\"type\":\"Selection\"},{\"attributes\":{},\"id\":\"86b8730a-3ed2-4b3d-89b2-b17bedf6fdb6\",\"type\":\"UnionRenderers\"},{\"attributes\":{\"callback\":null,\"end\":0.012460560421999998,\"start\":-0.008289138622},\"id\":\"bc0a16b6-5029-4256-875f-b409fc908280\",\"type\":\"Range1d\"},{\"attributes\":{},\"id\":\"f8054389-a60e-4388-bcd1-de40384f2bcb\",\"type\":\"Selection\"},{\"attributes\":{},\"id\":\"bea6e91e-0c40-4743-9b38-240d9a44eaa1\",\"type\":\"UnionRenderers\"},{\"attributes\":{},\"id\":\"6a6d32af-1179-4984-b63b-11c1f0686e43\",\"type\":\"Selection\"},{\"attributes\":{},\"id\":\"686c2b55-1698-4856-96bd-1529b2679fe9\",\"type\":\"UnionRenderers\"},{\"attributes\":{},\"id\":\"e5df85b1-cd5c-423e-a6c4-d6dd14195a92\",\"type\":\"Selection\"},{\"attributes\":{\"toolbar\":{\"id\":\"e1643f33-5e62-4bae-81e8-724d6266057e\",\"type\":\"ProxyToolbar\"},\"toolbar_location\":\"above\"},\"id\":\"0ed5d021-0e29-4f80-9219-25f1ccc36ce5\",\"type\":\"ToolbarBox\"},{\"attributes\":{\"dimension\":1,\"plot\":{\"id\":\"1094c9ec-9915-46f2-8a99-8e881ac77477\",\"subtype\":\"Figure\",\"type\":\"Plot\"},\"ticker\":{\"id\":\"52ef1f09-af05-4dae-96fd-7370244e1066\",\"type\":\"LogTicker\"}},\"id\":\"7ee7bc34-8aca-435c-8f59-a57de4cae1e1\",\"type\":\"Grid\"},{\"attributes\":{},\"id\":\"33b6706f-1181-443e-845e-aab6e54ef435\",\"type\":\"BasicTickFormatter\"},{\"attributes\":{\"plot\":null,\"text\":\"\"},\"id\":\"b2097ef1-ab4d-4e06-8991-94a521387111\",\"type\":\"Title\"},{\"attributes\":{},\"id\":\"259b9678-0484-43be-b7ea-3ca4bc876510\",\"type\":\"UnionRenderers\"},{\"attributes\":{},\"id\":\"87037027-2c38-4a3d-9d86-f8d2658b991f\",\"type\":\"Selection\"},{\"attributes\":{},\"id\":\"92ccd340-6d85-43b1-8939-739eb93ff002\",\"type\":\"Selection\"},{\"attributes\":{},\"id\":\"0cbbc708-5ba7-4873-b5c0-a865e2db12d7\",\"type\":\"UnionRenderers\"},{\"attributes\":{},\"id\":\"bdfe1514-b1c1-4342-9b1d-ab718fcec076\",\"type\":\"UnionRenderers\"},{\"attributes\":{\"axis_label\":\"pressure [mb]\",\"formatter\":{\"id\":\"90dd4ef6-3fb3-4e69-ab74-10b48f0bfcd8\",\"type\":\"LogTickFormatter\"},\"plot\":{\"id\":\"1094c9ec-9915-46f2-8a99-8e881ac77477\",\"subtype\":\"Figure\",\"type\":\"Plot\"},\"ticker\":{\"id\":\"52ef1f09-af05-4dae-96fd-7370244e1066\",\"type\":\"LogTicker\"}},\"id\":\"065a96b9-7d85-401e-9132-d1bfb7564fcb\",\"type\":\"LogAxis\"},{\"attributes\":{},\"id\":\"41af862a-262b-4c13-a216-ed86822f4ba0\",\"type\":\"UnionRenderers\"},{\"attributes\":{},\"id\":\"6f254ef6-64c2-416b-8e61-cef74f4ad100\",\"type\":\"Selection\"},{\"attributes\":{},\"id\":\"b69711b2-67a7-418e-ba27-4b6f4ddc2215\",\"type\":\"UnionRenderers\"},{\"attributes\":{\"num_minor_ticks\":10},\"id\":\"52ef1f09-af05-4dae-96fd-7370244e1066\",\"type\":\"LogTicker\"},{\"attributes\":{},\"id\":\"082a5188-8ef8-4754-a551-dcf129cb157b\",\"type\":\"Selection\"},{\"attributes\":{\"tools\":[{\"id\":\"c918f2e2-b2b2-4c9c-a3f4-c3c357fd9562\",\"type\":\"PanTool\"},{\"id\":\"4c725986-a943-4146-972b-68efb389f1b4\",\"type\":\"WheelZoomTool\"},{\"id\":\"d040f33a-e8ff-4143-815e-d62b6c380d66\",\"type\":\"BoxZoomTool\"},{\"id\":\"c62c7aa1-ede0-44ea-aa17-7dfcf0e141c6\",\"type\":\"SaveTool\"},{\"id\":\"c5764b58-99fe-4655-9911-9e6075669414\",\"type\":\"ResetTool\"},{\"id\":\"5c382f16-3e0d-415e-af7d-6a9dfd4e63d2\",\"type\":\"HelpTool\"},{\"id\":\"905e7768-5c4b-4e91-a49a-bdc926bc77e0\",\"type\":\"PanTool\"},{\"id\":\"d9005af2-23fb-4fb3-a57c-9dae6f35818b\",\"type\":\"WheelZoomTool\"},{\"id\":\"21d76ef6-3c6e-4b1d-abcd-784c8ec4ec32\",\"type\":\"BoxZoomTool\"},{\"id\":\"1457431b-d77a-47f2-833d-55e1a5e91956\",\"type\":\"SaveTool\"},{\"id\":\"9b746647-4526-4efb-b280-5f803e8516c4\",\"type\":\"ResetTool\"},{\"id\":\"c710753d-e33f-4a23-bd60-bb876aa32d2e\",\"type\":\"HelpTool\"}]},\"id\":\"e1643f33-5e62-4bae-81e8-724d6266057e\",\"type\":\"ProxyToolbar\"},{\"attributes\":{},\"id\":\"8f219a17-dc31-4688-aacd-fe86c9f6d4d3\",\"type\":\"UnionRenderers\"},{\"attributes\":{},\"id\":\"1d860285-c034-40bd-90d6-1ff22e6c053f\",\"type\":\"Selection\"},{\"attributes\":{\"children\":[{\"id\":\"0ed5d021-0e29-4f80-9219-25f1ccc36ce5\",\"type\":\"ToolbarBox\"},{\"id\":\"062e76b3-49f9-4ec7-bc84-0ec776880270\",\"type\":\"Column\"}]},\"id\":\"8b1a926c-0700-4f72-b3ce-4f61308d9fa9\",\"type\":\"Column\"},{\"attributes\":{},\"id\":\"ddab61a8-21c3-49f5-8d46-fdc53b18032b\",\"type\":\"Selection\"},{\"attributes\":{\"callback\":null,\"data\":{\"x\":{\"__ndarray__\":\"40YCHK2S677xhHMQFAzrvh4V/PJHz+m+36aAfQWP6L5cKkojZ0HnvtOsPBXH4eW+GgrJ+Ixr5L6LRwTRNNbiviWUGlhCFuG+dkTmUNg03r41rs988ZLZvp9JVeNu/NO++ktlC5UByr61jh9RPPSmvm/ULnP3Cto+y1lzZatf9z5rxiYYSMYJP9GbS+aLmRc/n3rRixTyIz99fwsFyygwPyvSS1gNiTk/IjKuFkt/Qz8bm9F5JZBKP3Vzzl8KjlA/au9/QwkzVD8O0UVbPh9YP/8O1SyBqFw/utz+oi3qYD/PP+tp4ZxjP2VJyid1E2Y/d48QPsShZz/iR5s8AzBnP+bBduSKOmM/ivGmyhPiUz9SbC46PjpTvwH2Xi8etHO/zp2Ce6Ovf7/p0P2mPY+Av5zSEote3Xu/3yMXKiPYdr9tTPJUJSByv7c1jSHMamu/ROnuXXMlY7/61UjFGeBWv/YI8xBLBUG/YFv/taaGMz+AeNU7R2FRPy898KFjD10/0LXgomL+Yz+glWgLtxxpP1O5z8Hh620/aOjKYL85cT+UsjA3JF1zP9K+YXV3Y3U/ES47gNlPdz/fBGonBiV5P7eF9/W05Xo/PKgNTEOUfD8ZaQFQQDB+PzNNomc9uH8/nmlTx/uQgD8OHlXtVCmBP8GLcxkUlIE/hIqnp1rOgT+n6LcUeOyBPxF3oSukC4I/2k+3zQNBgj+Z6fMdMJKCP8czVgXk94I/eygN0bpogz8uLONWLd+DPwDXY1RxWYQ/xDIXZ/XWhD8eVVw7olmFPxrk0FAT5YU/\",\"dtype\":\"float64\",\"shape\":[75]},\"y\":{\"__ndarray__\":\"GhExyth1ND/Sv8nbtpRIP2vylNV0PVE/aTum7souWD/At0SJ8fVgPw3Iuahxymc/MSNhhJWvcD/bTfBN02d3P2zb5nxnaoA/CD5h5MAGhz8NmeH1TyaQP+zrCsc9p5Y/LbKd76fGnz/bLW5ISEmmPww9YvTcQq8/JV2OstnstT8Er5Y7M8G+P0c+r3jqkcU/5h99k6ZBzj88bCIzFzjVP4enV8oyxN0//yH99nXg5D8qOpLLf0jtP5kqGJXUifQ/c9cS8kHP/D+/DpwzojQEQIEmwoanVwxA4lgXt9HgE0BSSZ2AJuIbQAMJih9jjiNA5q4l5INuK0AwTKYKRj0zQNv5fmq8/DpAaCJseHrtQkB/+zpwzoxKQM3MzMzMeFJAZmZmZmZqWEAAAAAAAFxeQM3MzMzMJmJAmpmZmZkfZUBmZmZmZhhoQDMzMzMzEWtAAAAAAAAKbkBmZmZmZoFwQM3MzMzM/XFAMzMzMzN6c0CamZmZmfZ0QAAAAAAAc3ZAZmZmZmbvd0DNzMzMzGt5QDMzMzMz6HpAmpmZmZlkfEAAAAAAAOF9QGZmZmZmXX9AZmZmZuZsgECamZmZGSuBQM3MzMxM6YFAAAAAAICngkAzMzMzs2WDQGZmZmbmI4RAmpmZmRnihEDNzMzMTKCFQAAAAACAXoZAMzMzM7Mch0BmZmZm5tqHQJqZmZkZmYhAzczMzExXiUAAAAAAgBWKQDMzMzOz04pAZmZmZuaRi0CamZmZGVCMQM3MzMxMDo1AAAAAAIDMjUAzMzMzs4qOQGZmZmbmSI9A\",\"dtype\":\"float64\",\"shape\":[75]}},\"selected\":{\"id\":\"6a6d32af-1179-4984-b63b-11c1f0686e43\",\"type\":\"Selection\"},\"selection_policy\":{\"id\":\"686c2b55-1698-4856-96bd-1529b2679fe9\",\"type\":\"UnionRenderers\"}},\"id\":\"f4806a43-0cda-4be1-8ca7-3b9b35b0b85c\",\"type\":\"ColumnDataSource\"},{\"attributes\":{\"fill_alpha\":{\"value\":0.7},\"fill_color\":{\"value\":\"#4daf4a\"},\"line_alpha\":{\"value\":0.7},\"line_color\":{\"value\":\"#4daf4a\"},\"x\":{\"field\":\"x\"},\"y\":{\"field\":\"y\"}},\"id\":\"da390dde-cc56-48c0-a82f-2e6aa78d8a67\",\"type\":\"Circle\"},{\"attributes\":{\"items\":[{\"id\":\"45fefcff-399e-4e96-af07-0f2990beab0f\",\"type\":\"LegendItem\"},{\"id\":\"a500ea33-b36e-41b4-9c42-87a03c806521\",\"type\":\"LegendItem\"},{\"id\":\"cdd82d7a-63d4-4ad2-9a32-bd1f4f1f0645\",\"type\":\"LegendItem\"}],\"label_text_font_size\":{\"value\":\"8pt\"},\"location\":\"top_center\",\"orientation\":\"horizontal\",\"plot\":{\"id\":\"1c561072-6cd2-4178-8514-671c972ecd9a\",\"subtype\":\"Figure\",\"type\":\"Plot\"}},\"id\":\"b724bcd9-19dd-4031-bde2-c571dd9ca7c4\",\"type\":\"Legend\"},{\"attributes\":{\"active_drag\":\"auto\",\"active_inspect\":\"auto\",\"active_scroll\":\"auto\",\"active_tap\":\"auto\",\"tools\":[{\"id\":\"c918f2e2-b2b2-4c9c-a3f4-c3c357fd9562\",\"type\":\"PanTool\"},{\"id\":\"4c725986-a943-4146-972b-68efb389f1b4\",\"type\":\"WheelZoomTool\"},{\"id\":\"d040f33a-e8ff-4143-815e-d62b6c380d66\",\"type\":\"BoxZoomTool\"},{\"id\":\"c62c7aa1-ede0-44ea-aa17-7dfcf0e141c6\",\"type\":\"SaveTool\"},{\"id\":\"c5764b58-99fe-4655-9911-9e6075669414\",\"type\":\"ResetTool\"},{\"id\":\"5c382f16-3e0d-415e-af7d-6a9dfd4e63d2\",\"type\":\"HelpTool\"}]},\"id\":\"a9d6f017-dd26-4774-8853-0221e9a242f1\",\"type\":\"Toolbar\"},{\"attributes\":{},\"id\":\"a14aeaa2-41e0-4310-a7c6-39ea93badb1f\",\"type\":\"LinearScale\"},{\"attributes\":{},\"id\":\"daebd073-c10f-43c3-8821-fe986497096b\",\"type\":\"BasicTicker\"},{\"attributes\":{\"line_color\":\"#4daf4a\",\"line_width\":1.5,\"x\":{\"field\":\"x\"},\"y\":{\"field\":\"y\"}},\"id\":\"3e6ce760-ba64-41d0-bcf3-ff1452b711b0\",\"type\":\"Line\"},{\"attributes\":{},\"id\":\"69989fc2-e63f-4959-8134-8c7329278e48\",\"type\":\"BasicTicker\"},{\"attributes\":{\"dimension\":1,\"plot\":{\"id\":\"1c561072-6cd2-4178-8514-671c972ecd9a\",\"subtype\":\"Figure\",\"type\":\"Plot\"},\"ticker\":{\"id\":\"69989fc2-e63f-4959-8134-8c7329278e48\",\"type\":\"BasicTicker\"}},\"id\":\"c63b0c22-3eb6-4666-baa2-cd4843305f8a\",\"type\":\"Grid\"},{\"attributes\":{\"fill_alpha\":{\"value\":0.1},\"fill_color\":{\"value\":\"#1f77b4\"},\"line_alpha\":{\"value\":0.1},\"line_color\":{\"value\":\"#1f77b4\"},\"x\":{\"field\":\"x\"},\"y\":{\"field\":\"y\"}},\"id\":\"9d7505f9-a17b-4155-86bc-2c0c35239960\",\"type\":\"Circle\"},{\"attributes\":{},\"id\":\"7496710c-f574-4b23-8f60-4e51132b4a46\",\"type\":\"UnionRenderers\"},{\"attributes\":{\"plot\":{\"id\":\"1094c9ec-9915-46f2-8a99-8e881ac77477\",\"subtype\":\"Figure\",\"type\":\"Plot\"},\"ticker\":{\"id\":\"f53d61c6-5cbe-460e-87fc-9619950df9d8\",\"type\":\"BasicTicker\"}},\"id\":\"77d5530f-1ace-44c7-9663-f980ceb694f7\",\"type\":\"Grid\"},{\"attributes\":{\"axis_label\":\"pressure [mb]\",\"formatter\":{\"id\":\"ab2d358c-609f-44ef-b3fc-eb6267271821\",\"type\":\"BasicTickFormatter\"},\"plot\":{\"id\":\"1c561072-6cd2-4178-8514-671c972ecd9a\",\"subtype\":\"Figure\",\"type\":\"Plot\"},\"ticker\":{\"id\":\"69989fc2-e63f-4959-8134-8c7329278e48\",\"type\":\"BasicTicker\"}},\"id\":\"f060d74d-bcdd-45c0-8852-bcdbee35ff98\",\"type\":\"LinearAxis\"},{\"attributes\":{\"source\":{\"id\":\"af52f8be-2902-4399-8deb-4f2ab876a280\",\"type\":\"ColumnDataSource\"}},\"id\":\"9aa40e3d-de1a-40ce-b048-373d5a1c63b9\",\"type\":\"CDSView\"},{\"attributes\":{\"data_source\":{\"id\":\"af52f8be-2902-4399-8deb-4f2ab876a280\",\"type\":\"ColumnDataSource\"},\"glyph\":{\"id\":\"da390dde-cc56-48c0-a82f-2e6aa78d8a67\",\"type\":\"Circle\"},\"hover_glyph\":null,\"muted_glyph\":null,\"nonselection_glyph\":{\"id\":\"9d7505f9-a17b-4155-86bc-2c0c35239960\",\"type\":\"Circle\"},\"selection_glyph\":null,\"view\":{\"id\":\"9aa40e3d-de1a-40ce-b048-373d5a1c63b9\",\"type\":\"CDSView\"}},\"id\":\"70a3ec79-16f2-4354-95c9-91ba58b944eb\",\"type\":\"GlyphRenderer\"},{\"attributes\":{\"callback\":null,\"data\":{\"x\":{\"__ndarray__\":\"40YCHK2S677xhHMQFAzrvh4V/PJHz+m+36aAfQWP6L5cKkojZ0HnvtOsPBXH4eW+GgrJ+Ixr5L6LRwTRNNbiviWUGlhCFuG+dkTmUNg03r41rs988ZLZvp9JVeNu/NO++ktlC5UByr61jh9RPPSmvm/ULnP3Cto+y1lzZatf9z5rxiYYSMYJP9GbS+aLmRc/n3rRixTyIz99fwsFyygwPyvSS1gNiTk/IjKuFkt/Qz8bm9F5JZBKP3Vzzl8KjlA/au9/QwkzVD8O0UVbPh9YP/8O1SyBqFw/utz+oi3qYD/PP+tp4ZxjP2VJyid1E2Y/d48QPsShZz/iR5s8AzBnP+bBduSKOmM/ivGmyhPiUz9SbC46PjpTvwH2Xi8etHO/zp2Ce6Ovf7/p0P2mPY+Av5zSEote3Xu/3yMXKiPYdr9tTPJUJSByv7c1jSHMamu/ROnuXXMlY7/61UjFGeBWv/YI8xBLBUG/YFv/taaGMz+AeNU7R2FRPy898KFjD10/0LXgomL+Yz+glWgLtxxpP1O5z8Hh620/aOjKYL85cT+UsjA3JF1zP9K+YXV3Y3U/ES47gNlPdz/fBGonBiV5P7eF9/W05Xo/PKgNTEOUfD8ZaQFQQDB+PzNNomc9uH8/nmlTx/uQgD8OHlXtVCmBP8GLcxkUlIE/hIqnp1rOgT+n6LcUeOyBPxF3oSukC4I/2k+3zQNBgj+Z6fMdMJKCP8czVgXk94I/eygN0bpogz8uLONWLd+DPwDXY1RxWYQ/xDIXZ/XWhD8eVVw7olmFPxrk0FAT5YU/\",\"dtype\":\"float64\",\"shape\":[75]},\"y\":{\"__ndarray__\":\"GhExyth1ND/Sv8nbtpRIP2vylNV0PVE/aTum7souWD/At0SJ8fVgPw3Iuahxymc/MSNhhJWvcD/bTfBN02d3P2zb5nxnaoA/CD5h5MAGhz8NmeH1TyaQP+zrCsc9p5Y/LbKd76fGnz/bLW5ISEmmPww9YvTcQq8/JV2OstnstT8Er5Y7M8G+P0c+r3jqkcU/5h99k6ZBzj88bCIzFzjVP4enV8oyxN0//yH99nXg5D8qOpLLf0jtP5kqGJXUifQ/c9cS8kHP/D+/DpwzojQEQIEmwoanVwxA4lgXt9HgE0BSSZ2AJuIbQAMJih9jjiNA5q4l5INuK0AwTKYKRj0zQNv5fmq8/DpAaCJseHrtQkB/+zpwzoxKQM3MzMzMeFJAZmZmZmZqWEAAAAAAAFxeQM3MzMzMJmJAmpmZmZkfZUBmZmZmZhhoQDMzMzMzEWtAAAAAAAAKbkBmZmZmZoFwQM3MzMzM/XFAMzMzMzN6c0CamZmZmfZ0QAAAAAAAc3ZAZmZmZmbvd0DNzMzMzGt5QDMzMzMz6HpAmpmZmZlkfEAAAAAAAOF9QGZmZmZmXX9AZmZmZuZsgECamZmZGSuBQM3MzMxM6YFAAAAAAICngkAzMzMzs2WDQGZmZmbmI4RAmpmZmRnihEDNzMzMTKCFQAAAAACAXoZAMzMzM7Mch0BmZmZm5tqHQJqZmZkZmYhAzczMzExXiUAAAAAAgBWKQDMzMzOz04pAZmZmZuaRi0CamZmZGVCMQM3MzMxMDo1AAAAAAIDMjUAzMzMzs4qOQGZmZmbmSI9A\",\"dtype\":\"float64\",\"shape\":[75]}},\"selected\":{\"id\":\"261110cf-4274-4b48-8897-7606d89fcf06\",\"type\":\"Selection\"},\"selection_policy\":{\"id\":\"86b8730a-3ed2-4b3d-89b2-b17bedf6fdb6\",\"type\":\"UnionRenderers\"}},\"id\":\"af52f8be-2902-4399-8deb-4f2ab876a280\",\"type\":\"ColumnDataSource\"},{\"attributes\":{\"axis_label\":\"cooling rate [K/day]\",\"formatter\":{\"id\":\"25bc0954-e907-43b0-b0d2-c4004fc35890\",\"type\":\"BasicTickFormatter\"},\"plot\":{\"id\":\"1c561072-6cd2-4178-8514-671c972ecd9a\",\"subtype\":\"Figure\",\"type\":\"Plot\"},\"ticker\":{\"id\":\"daebd073-c10f-43c3-8821-fe986497096b\",\"type\":\"BasicTicker\"}},\"id\":\"2fbe1887-35e8-4df4-9dd8-c300b693e3a7\",\"type\":\"LinearAxis\"},{\"attributes\":{\"plot\":{\"id\":\"1c561072-6cd2-4178-8514-671c972ecd9a\",\"subtype\":\"Figure\",\"type\":\"Plot\"},\"ticker\":{\"id\":\"daebd073-c10f-43c3-8821-fe986497096b\",\"type\":\"BasicTicker\"}},\"id\":\"6e822c93-690e-46cc-b7cb-715145f33580\",\"type\":\"Grid\"},{\"attributes\":{},\"id\":\"f53d61c6-5cbe-460e-87fc-9619950df9d8\",\"type\":\"BasicTicker\"},{\"attributes\":{\"callback\":null,\"end\":0.01,\"start\":1020},\"id\":\"8350c073-eeb0-4960-835f-9977501f0be9\",\"type\":\"Range1d\"},{\"attributes\":{},\"id\":\"9466fa08-7a4b-4c1a-9c3b-230f0c3bd8da\",\"type\":\"LinearScale\"},{\"attributes\":{},\"id\":\"5c382f16-3e0d-415e-af7d-6a9dfd4e63d2\",\"type\":\"HelpTool\"},{\"attributes\":{\"above\":[{\"id\":\"b724bcd9-19dd-4031-bde2-c571dd9ca7c4\",\"type\":\"Legend\"}],\"below\":[{\"id\":\"2fbe1887-35e8-4df4-9dd8-c300b693e3a7\",\"type\":\"LinearAxis\"}],\"left\":[{\"id\":\"f060d74d-bcdd-45c0-8852-bcdbee35ff98\",\"type\":\"LinearAxis\"}],\"plot_height\":500,\"plot_width\":400,\"renderers\":[{\"id\":\"2fbe1887-35e8-4df4-9dd8-c300b693e3a7\",\"type\":\"LinearAxis\"},{\"id\":\"6e822c93-690e-46cc-b7cb-715145f33580\",\"type\":\"Grid\"},{\"id\":\"f060d74d-bcdd-45c0-8852-bcdbee35ff98\",\"type\":\"LinearAxis\"},{\"id\":\"c63b0c22-3eb6-4666-baa2-cd4843305f8a\",\"type\":\"Grid\"},{\"id\":\"a43a84fa-a9a0-40cf-b695-be460dcc53e7\",\"type\":\"BoxAnnotation\"},{\"id\":\"70a3ec79-16f2-4354-95c9-91ba58b944eb\",\"type\":\"GlyphRenderer\"},{\"id\":\"3a7af48a-11e7-4511-83c6-2ef0bdc75903\",\"type\":\"GlyphRenderer\"},{\"id\":\"a9821287-0610-40a9-8f5f-faa027bcd001\",\"type\":\"GlyphRenderer\"},{\"id\":\"42179b3d-5a76-465c-990a-a3a9c0665522\",\"type\":\"GlyphRenderer\"},{\"id\":\"3e10885e-2c26-497d-a9ad-7a17b7286732\",\"type\":\"GlyphRenderer\"},{\"id\":\"ad9f255c-bcc7-4b9a-a8b2-00673692ca0e\",\"type\":\"GlyphRenderer\"},{\"id\":\"b724bcd9-19dd-4031-bde2-c571dd9ca7c4\",\"type\":\"Legend\"}],\"title\":{\"id\":\"511c179a-563d-420b-bedd-fbb94a0d0e14\",\"type\":\"Title\"},\"toolbar\":{\"id\":\"a9d6f017-dd26-4774-8853-0221e9a242f1\",\"type\":\"Toolbar\"},\"toolbar_location\":null,\"x_range\":{\"id\":\"bc0a16b6-5029-4256-875f-b409fc908280\",\"type\":\"Range1d\"},\"x_scale\":{\"id\":\"a14aeaa2-41e0-4310-a7c6-39ea93badb1f\",\"type\":\"LinearScale\"},\"y_range\":{\"id\":\"8350c073-eeb0-4960-835f-9977501f0be9\",\"type\":\"Range1d\"},\"y_scale\":{\"id\":\"9466fa08-7a4b-4c1a-9c3b-230f0c3bd8da\",\"type\":\"LinearScale\"}},\"id\":\"1c561072-6cd2-4178-8514-671c972ecd9a\",\"subtype\":\"Figure\",\"type\":\"Plot\"},{\"attributes\":{\"bottom_units\":\"screen\",\"fill_alpha\":{\"value\":0.5},\"fill_color\":{\"value\":\"lightgrey\"},\"left_units\":\"screen\",\"level\":\"overlay\",\"line_alpha\":{\"value\":1.0},\"line_color\":{\"value\":\"black\"},\"line_dash\":[4,4],\"line_width\":{\"value\":2},\"plot\":null,\"render_mode\":\"css\",\"right_units\":\"screen\",\"top_units\":\"screen\"},\"id\":\"a43a84fa-a9a0-40cf-b695-be460dcc53e7\",\"type\":\"BoxAnnotation\"},{\"attributes\":{\"overlay\":{\"id\":\"a43a84fa-a9a0-40cf-b695-be460dcc53e7\",\"type\":\"BoxAnnotation\"}},\"id\":\"d040f33a-e8ff-4143-815e-d62b6c380d66\",\"type\":\"BoxZoomTool\"},{\"attributes\":{},\"id\":\"4c725986-a943-4146-972b-68efb389f1b4\",\"type\":\"WheelZoomTool\"},{\"attributes\":{},\"id\":\"c5764b58-99fe-4655-9911-9e6075669414\",\"type\":\"ResetTool\"},{\"attributes\":{},\"id\":\"c62c7aa1-ede0-44ea-aa17-7dfcf0e141c6\",\"type\":\"SaveTool\"},{\"attributes\":{\"line_color\":\"#4daf4a\",\"line_width\":1.5,\"x\":{\"field\":\"x\"},\"y\":{\"field\":\"y\"}},\"id\":\"bcfd865c-924f-46cd-86cc-78f79066543c\",\"type\":\"Line\"},{\"attributes\":{},\"id\":\"c918f2e2-b2b2-4c9c-a3f4-c3c357fd9562\",\"type\":\"PanTool\"},{\"attributes\":{\"callback\":null,\"data\":{\"x\":{\"__ndarray__\":\"a9ddoobr6L4u34yKPJnovooe0cpmxOe+cwOGHDjs5r4sEI2XXRXmvrsIEerhQeW+VMCAX1h05L41boSexK/jvkLwehEj+OK+Skc/SflR4r5pTHL3fMLhvlb81m0xT+G+cSExRvz74L6xpL9PKlDgvniHCo3Gt9G+gYy45KnQ2z6I0FdWCmT7PjIkmNERwQ0/MdNU2I5eGz/2pQGwLE8nP86iIk9M/jI/XSgSIeFwPT8/A0mmdtpDP3crzihp6Uc/aNVphZ+sSz++ElQDdKROPxCaqqrBg1A/jvcHKwVNUT/FH3qPiU1RP1FeXW076E8/LHzvYeDjSD87V7Kx+582P82B9XVwZTm/NT80M7ciWL+uNlf6Petqv4t6b/L12ne/QEe4hNTRf79nrZj10Q6Av9cRneNwZnu/DBUUpKijdr9nfPB1MQhyvz61CPGyMmu/H6fjRlXAYr/oscL5CH9Vv1SAJFzRWjm/pKoCtXfoPz92gAshTHJVP0BTJ4/LGWE/b2H5zaYeZz/+08BgDchsP4IiczSpEnE/77ZfOsWccz823KYEdAJ2P1cFjYmrS3g/10r9gLR0ej/v3m24cYZ8PzGn7gO1fH4/gh5K8mwvgD/fq6+VJBSBP/X8+ClY7IE/da7gKlO0gj8TViw7EmGDP+e8f6Lk5IM/YQlDmx4/hD8BlcRurH+EP3xFJPsBvoQ/hNZ3CUQLhT8DpVe5BmyFPzGEQz+42oU/shhbWblPhj+TERDGYcaGPybJrSipPIc/aJl/0z+xhz/8EIbHnySIP4oR4Pnnl4g/\",\"dtype\":\"float64\",\"shape\":[75]},\"y\":{\"__ndarray__\":\"GhExyth1ND/Sv8nbtpRIP2vylNV0PVE/aTum7souWD/At0SJ8fVgPw3Iuahxymc/MSNhhJWvcD/bTfBN02d3P2zb5nxnaoA/CD5h5MAGhz8NmeH1TyaQP+zrCsc9p5Y/LbKd76fGnz/bLW5ISEmmPww9YvTcQq8/JV2OstnstT8Er5Y7M8G+P0c+r3jqkcU/5h99k6ZBzj88bCIzFzjVP4enV8oyxN0//yH99nXg5D8qOpLLf0jtP5kqGJXUifQ/c9cS8kHP/D+/DpwzojQEQIEmwoanVwxA4lgXt9HgE0BSSZ2AJuIbQAMJih9jjiNA5q4l5INuK0AwTKYKRj0zQNv5fmq8/DpAaCJseHrtQkB/+zpwzoxKQM3MzMzMeFJAZmZmZmZqWEAAAAAAAFxeQM3MzMzMJmJAmpmZmZkfZUBmZmZmZhhoQDMzMzMzEWtAAAAAAAAKbkBmZmZmZoFwQM3MzMzM/XFAMzMzMzN6c0CamZmZmfZ0QAAAAAAAc3ZAZmZmZmbvd0DNzMzMzGt5QDMzMzMz6HpAmpmZmZlkfEAAAAAAAOF9QGZmZmZmXX9AZmZmZuZsgECamZmZGSuBQM3MzMxM6YFAAAAAAICngkAzMzMzs2WDQGZmZmbmI4RAmpmZmRnihEDNzMzMTKCFQAAAAACAXoZAMzMzM7Mch0BmZmZm5tqHQJqZmZkZmYhAzczMzExXiUAAAAAAgBWKQDMzMzOz04pAZmZmZuaRi0CamZmZGVCMQM3MzMxMDo1AAAAAAIDMjUAzMzMzs4qOQGZmZmbmSI9A\",\"dtype\":\"float64\",\"shape\":[75]}},\"selected\":{\"id\":\"082a5188-8ef8-4754-a551-dcf129cb157b\",\"type\":\"Selection\"},\"selection_policy\":{\"id\":\"b69711b2-67a7-418e-ba27-4b6f4ddc2215\",\"type\":\"UnionRenderers\"}},\"id\":\"60e929f7-f548-42b8-82c6-51ef98231371\",\"type\":\"ColumnDataSource\"},{\"attributes\":{},\"id\":\"c00b17e8-d3fb-4c63-9de9-f1ad7f2d3911\",\"type\":\"Selection\"},{\"attributes\":{\"source\":{\"id\":\"fefbc1b9-ed86-471f-b76d-6aec2a3e6187\",\"type\":\"ColumnDataSource\"}},\"id\":\"cdbecf35-a5ee-436c-bbde-16bfe9e858c5\",\"type\":\"CDSView\"},{\"attributes\":{},\"id\":\"845c5902-2c9e-4e61-a038-bb0929847d49\",\"type\":\"UnionRenderers\"},{\"attributes\":{\"callback\":null,\"data\":{\"x\":{\"__ndarray__\":\"a9ddoobr6L4u34yKPJnovooe0cpmxOe+cwOGHDjs5r4sEI2XXRXmvrsIEerhQeW+VMCAX1h05L41boSexK/jvkLwehEj+OK+Skc/SflR4r5pTHL3fMLhvlb81m0xT+G+cSExRvz74L6xpL9PKlDgvniHCo3Gt9G+gYy45KnQ2z6I0FdWCmT7PjIkmNERwQ0/MdNU2I5eGz/2pQGwLE8nP86iIk9M/jI/XSgSIeFwPT8/A0mmdtpDP3crzihp6Uc/aNVphZ+sSz++ElQDdKROPxCaqqrBg1A/jvcHKwVNUT/FH3qPiU1RP1FeXW076E8/LHzvYeDjSD87V7Kx+582P82B9XVwZTm/NT80M7ciWL+uNlf6Petqv4t6b/L12ne/QEe4hNTRf79nrZj10Q6Av9cRneNwZnu/DBUUpKijdr9nfPB1MQhyvz61CPGyMmu/H6fjRlXAYr/oscL5CH9Vv1SAJFzRWjm/pKoCtXfoPz92gAshTHJVP0BTJ4/LGWE/b2H5zaYeZz/+08BgDchsP4IiczSpEnE/77ZfOsWccz823KYEdAJ2P1cFjYmrS3g/10r9gLR0ej/v3m24cYZ8PzGn7gO1fH4/gh5K8mwvgD/fq6+VJBSBP/X8+ClY7IE/da7gKlO0gj8TViw7EmGDP+e8f6Lk5IM/YQlDmx4/hD8BlcRurH+EP3xFJPsBvoQ/hNZ3CUQLhT8DpVe5BmyFPzGEQz+42oU/shhbWblPhj+TERDGYcaGPybJrSipPIc/aJl/0z+xhz/8EIbHnySIP4oR4Pnnl4g/\",\"dtype\":\"float64\",\"shape\":[75]},\"y\":{\"__ndarray__\":\"GhExyth1ND/Sv8nbtpRIP2vylNV0PVE/aTum7souWD/At0SJ8fVgPw3Iuahxymc/MSNhhJWvcD/bTfBN02d3P2zb5nxnaoA/CD5h5MAGhz8NmeH1TyaQP+zrCsc9p5Y/LbKd76fGnz/bLW5ISEmmPww9YvTcQq8/JV2OstnstT8Er5Y7M8G+P0c+r3jqkcU/5h99k6ZBzj88bCIzFzjVP4enV8oyxN0//yH99nXg5D8qOpLLf0jtP5kqGJXUifQ/c9cS8kHP/D+/DpwzojQEQIEmwoanVwxA4lgXt9HgE0BSSZ2AJuIbQAMJih9jjiNA5q4l5INuK0AwTKYKRj0zQNv5fmq8/DpAaCJseHrtQkB/+zpwzoxKQM3MzMzMeFJAZmZmZmZqWEAAAAAAAFxeQM3MzMzMJmJAmpmZmZkfZUBmZmZmZhhoQDMzMzMzEWtAAAAAAAAKbkBmZmZmZoFwQM3MzMzM/XFAMzMzMzN6c0CamZmZmfZ0QAAAAAAAc3ZAZmZmZmbvd0DNzMzMzGt5QDMzMzMz6HpAmpmZmZlkfEAAAAAAAOF9QGZmZmZmXX9AZmZmZuZsgECamZmZGSuBQM3MzMxM6YFAAAAAAICngkAzMzMzs2WDQGZmZmbmI4RAmpmZmRnihEDNzMzMTKCFQAAAAACAXoZAMzMzM7Mch0BmZmZm5tqHQJqZmZkZmYhAzczMzExXiUAAAAAAgBWKQDMzMzOz04pAZmZmZuaRi0CamZmZGVCMQM3MzMxMDo1AAAAAAIDMjUAzMzMzs4qOQGZmZmbmSI9A\",\"dtype\":\"float64\",\"shape\":[75]}},\"selected\":{\"id\":\"e5df85b1-cd5c-423e-a6c4-d6dd14195a92\",\"type\":\"Selection\"},\"selection_policy\":{\"id\":\"259b9678-0484-43be-b7ea-3ca4bc876510\",\"type\":\"UnionRenderers\"}},\"id\":\"f1ddd4e9-8823-4ff7-95d2-bbfd6e756f18\",\"type\":\"ColumnDataSource\"},{\"attributes\":{\"fill_alpha\":{\"value\":0.1},\"fill_color\":{\"value\":\"#1f77b4\"},\"line_alpha\":{\"value\":0.1},\"line_color\":{\"value\":\"#1f77b4\"},\"x\":{\"field\":\"x\"},\"y\":{\"field\":\"y\"}},\"id\":\"9c26e178-7495-4226-8cee-87031ce64d2b\",\"type\":\"Square\"},{\"attributes\":{\"data_source\":{\"id\":\"f1ddd4e9-8823-4ff7-95d2-bbfd6e756f18\",\"type\":\"ColumnDataSource\"},\"glyph\":{\"id\":\"43397a25-e2af-4cd0-aaed-107a8c859f76\",\"type\":\"Square\"},\"hover_glyph\":null,\"muted_glyph\":null,\"nonselection_glyph\":{\"id\":\"9c26e178-7495-4226-8cee-87031ce64d2b\",\"type\":\"Square\"},\"selection_glyph\":null,\"view\":{\"id\":\"fbd4ebcb-2d30-471c-af9b-bd39d48b3951\",\"type\":\"CDSView\"}},\"id\":\"66d936aa-ea7e-4eb1-bec9-4c37b022a297\",\"type\":\"GlyphRenderer\"},{\"attributes\":{\"source\":{\"id\":\"4ffba6b3-7e95-4bb1-a635-afa2f28f235a\",\"type\":\"ColumnDataSource\"}},\"id\":\"fdd73fa0-aac8-4857-84c0-57877a934c87\",\"type\":\"CDSView\"},{\"attributes\":{\"line_alpha\":0.6,\"line_color\":\"#984ea3\",\"line_width\":3,\"x\":{\"field\":\"x\"},\"y\":{\"field\":\"y\"}},\"id\":\"709be330-55ba-414d-81d6-325d98eaed0e\",\"type\":\"Line\"},{\"attributes\":{\"line_alpha\":0.1,\"line_color\":\"#1f77b4\",\"line_width\":3,\"x\":{\"field\":\"x\"},\"y\":{\"field\":\"y\"}},\"id\":\"68939aad-4b2a-4d47-bd6d-905a9ade4da1\",\"type\":\"Line\"},{\"attributes\":{\"line_alpha\":0.1,\"line_color\":\"#1f77b4\",\"line_width\":2,\"x\":{\"field\":\"x\"},\"y\":{\"field\":\"y\"}},\"id\":\"e239abf9-f206-490a-b42b-c5cd860581c4\",\"type\":\"Line\"},{\"attributes\":{\"source\":{\"id\":\"f1ddd4e9-8823-4ff7-95d2-bbfd6e756f18\",\"type\":\"ColumnDataSource\"}},\"id\":\"fbd4ebcb-2d30-471c-af9b-bd39d48b3951\",\"type\":\"CDSView\"},{\"attributes\":{\"source\":{\"id\":\"60e929f7-f548-42b8-82c6-51ef98231371\",\"type\":\"ColumnDataSource\"}},\"id\":\"a691d8b8-bf23-4f07-bef2-edecf249e905\",\"type\":\"CDSView\"},{\"attributes\":{\"callback\":null,\"data\":{\"x\":{\"__ndarray__\":\"40YCHK2S677xhHMQFAzrvh4V/PJHz+m+36aAfQWP6L5cKkojZ0HnvtOsPBXH4eW+GgrJ+Ixr5L6LRwTRNNbiviWUGlhCFuG+dkTmUNg03r41rs988ZLZvp9JVeNu/NO++ktlC5UByr61jh9RPPSmvm/ULnP3Cto+y1lzZatf9z5rxiYYSMYJP9GbS+aLmRc/n3rRixTyIz99fwsFyygwPyvSS1gNiTk/IjKuFkt/Qz8bm9F5JZBKP3Vzzl8KjlA/au9/QwkzVD8O0UVbPh9YP/8O1SyBqFw/utz+oi3qYD/PP+tp4ZxjP2VJyid1E2Y/d48QPsShZz/iR5s8AzBnP+bBduSKOmM/ivGmyhPiUz9SbC46PjpTvwH2Xi8etHO/zp2Ce6Ovf7/p0P2mPY+Av5zSEote3Xu/3yMXKiPYdr9tTPJUJSByv7c1jSHMamu/ROnuXXMlY7/61UjFGeBWv/YI8xBLBUG/YFv/taaGMz+AeNU7R2FRPy898KFjD10/0LXgomL+Yz+glWgLtxxpP1O5z8Hh620/aOjKYL85cT+UsjA3JF1zP9K+YXV3Y3U/ES47gNlPdz/fBGonBiV5P7eF9/W05Xo/PKgNTEOUfD8ZaQFQQDB+PzNNomc9uH8/nmlTx/uQgD8OHlXtVCmBP8GLcxkUlIE/hIqnp1rOgT+n6LcUeOyBPxF3oSukC4I/2k+3zQNBgj+Z6fMdMJKCP8czVgXk94I/eygN0bpogz8uLONWLd+DPwDXY1RxWYQ/xDIXZ/XWhD8eVVw7olmFPxrk0FAT5YU/\",\"dtype\":\"float64\",\"shape\":[75]},\"y\":{\"__ndarray__\":\"GhExyth1ND/Sv8nbtpRIP2vylNV0PVE/aTum7souWD/At0SJ8fVgPw3Iuahxymc/MSNhhJWvcD/bTfBN02d3P2zb5nxnaoA/CD5h5MAGhz8NmeH1TyaQP+zrCsc9p5Y/LbKd76fGnz/bLW5ISEmmPww9YvTcQq8/JV2OstnstT8Er5Y7M8G+P0c+r3jqkcU/5h99k6ZBzj88bCIzFzjVP4enV8oyxN0//yH99nXg5D8qOpLLf0jtP5kqGJXUifQ/c9cS8kHP/D+/DpwzojQEQIEmwoanVwxA4lgXt9HgE0BSSZ2AJuIbQAMJih9jjiNA5q4l5INuK0AwTKYKRj0zQNv5fmq8/DpAaCJseHrtQkB/+zpwzoxKQM3MzMzMeFJAZmZmZmZqWEAAAAAAAFxeQM3MzMzMJmJAmpmZmZkfZUBmZmZmZhhoQDMzMzMzEWtAAAAAAAAKbkBmZmZmZoFwQM3MzMzM/XFAMzMzMzN6c0CamZmZmfZ0QAAAAAAAc3ZAZmZmZmbvd0DNzMzMzGt5QDMzMzMz6HpAmpmZmZlkfEAAAAAAAOF9QGZmZmZmXX9AZmZmZuZsgECamZmZGSuBQM3MzMxM6YFAAAAAAICngkAzMzMzs2WDQGZmZmbmI4RAmpmZmRnihEDNzMzMTKCFQAAAAACAXoZAMzMzM7Mch0BmZmZm5tqHQJqZmZkZmYhAzczMzExXiUAAAAAAgBWKQDMzMzOz04pAZmZmZuaRi0CamZmZGVCMQM3MzMxMDo1AAAAAAIDMjUAzMzMzs4qOQGZmZmbmSI9A\",\"dtype\":\"float64\",\"shape\":[75]}},\"selected\":{\"id\":\"87037027-2c38-4a3d-9d86-f8d2658b991f\",\"type\":\"Selection\"},\"selection_policy\":{\"id\":\"bdfe1514-b1c1-4342-9b1d-ab718fcec076\",\"type\":\"UnionRenderers\"}},\"id\":\"4ffba6b3-7e95-4bb1-a635-afa2f28f235a\",\"type\":\"ColumnDataSource\"},{\"attributes\":{\"line_alpha\":0.1,\"line_color\":\"#1f77b4\",\"line_width\":1.5,\"x\":{\"field\":\"x\"},\"y\":{\"field\":\"y\"}},\"id\":\"ef3921da-e261-4a03-bf2f-b5d398f98cf7\",\"type\":\"Line\"},{\"attributes\":{\"data_source\":{\"id\":\"60e929f7-f548-42b8-82c6-51ef98231371\",\"type\":\"ColumnDataSource\"},\"glyph\":{\"id\":\"709be330-55ba-414d-81d6-325d98eaed0e\",\"type\":\"Line\"},\"hover_glyph\":null,\"muted_glyph\":null,\"nonselection_glyph\":{\"id\":\"68939aad-4b2a-4d47-bd6d-905a9ade4da1\",\"type\":\"Line\"},\"selection_glyph\":null,\"view\":{\"id\":\"a691d8b8-bf23-4f07-bef2-edecf249e905\",\"type\":\"CDSView\"}},\"id\":\"af454d33-530b-4348-82ec-7b3816ee2cb1\",\"type\":\"GlyphRenderer\"},{\"attributes\":{\"data_source\":{\"id\":\"4ffba6b3-7e95-4bb1-a635-afa2f28f235a\",\"type\":\"ColumnDataSource\"},\"glyph\":{\"id\":\"bcfd865c-924f-46cd-86cc-78f79066543c\",\"type\":\"Line\"},\"hover_glyph\":null,\"muted_glyph\":null,\"nonselection_glyph\":{\"id\":\"ef3921da-e261-4a03-bf2f-b5d398f98cf7\",\"type\":\"Line\"},\"selection_glyph\":null,\"view\":{\"id\":\"fdd73fa0-aac8-4857-84c0-57877a934c87\",\"type\":\"CDSView\"}},\"id\":\"14a27e6a-7004-434c-8920-547a69cb4cd1\",\"type\":\"GlyphRenderer\"},{\"attributes\":{\"callback\":null,\"data\":{\"x\":{\"__ndarray__\":\"YoeXq2O18L51rdjkraDwvv1RWatUWfC+pyxXZSAT8L6Pv35FaqHvvjHS78oxKO++zFD0cBrA7r53RsJmUHDuvgalmfepQu6+H7K7XhFE7r4mf003n4XuvrVWXnu8He++II93S0oU8L5FVGwk97XwvsalnOjREe6+zrG1zXn03r5wopcFHTfZPgU7sdCjH/0+x+6poiBkED+dtgVWVbkeP2UYYypIeSo/ul70ivM3NT8WtYXLr988Pwm6U0tYPUE/jYT5H+qXQz9Jn30yIf9EP7VE9+Xbi0U/Yl5j0I3vRD+Z6lVH5F5CP1R8JUmyaDk/kEPgbsnhEj8b2RmGFjA9vxXoFcPcBFS/Ty+l7Pz0Yr+0Q4kAal1wv/n5hrnRfXm/8kkfoQMegL+4xwMviSOAv5GxVegV7Xu/qC8Kjadvd7+hQcCiZv1yvxjG14uaUG2/KjwpyXruZL+z7TX/VstZv4GXKMCj6ES/CdbJcm6dMD9DMRq2xApSP1RcEZBBO18/Dpvo/ujeZT+F1R2pDMxrP0LCwTAxtXA/eWz2SS9fcz+wuPyiJOZ1P9/LPDJITHg/VlaU/8KTej9m4rj9gr58P5wU/v5ozn4/yLUTuIRigD+0JybLp1CBP3hOh1IaMYI/N/Ztg4EAgz8lTd3IBbaDP2p1tX66RoQ/NC5j3VSxhD8Q+Aik4AOFP9LhR1NCUoU/7/V2yvGqhT/fbSBV+xGGP611d9e4goY/TTSCbN32hj8681zza2qHPyxIDU+q24c/KRBNCyRJiD/DbnpFJ7OIP317qWhEGok/\",\"dtype\":\"float64\",\"shape\":[75]},\"y\":{\"__ndarray__\":\"GhExyth1ND/Sv8nbtpRIP2vylNV0PVE/aTum7souWD/At0SJ8fVgPw3Iuahxymc/MSNhhJWvcD/bTfBN02d3P2zb5nxnaoA/CD5h5MAGhz8NmeH1TyaQP+zrCsc9p5Y/LbKd76fGnz/bLW5ISEmmPww9YvTcQq8/JV2OstnstT8Er5Y7M8G+P0c+r3jqkcU/5h99k6ZBzj88bCIzFzjVP4enV8oyxN0//yH99nXg5D8qOpLLf0jtP5kqGJXUifQ/c9cS8kHP/D+/DpwzojQEQIEmwoanVwxA4lgXt9HgE0BSSZ2AJuIbQAMJih9jjiNA5q4l5INuK0AwTKYKRj0zQNv5fmq8/DpAaCJseHrtQkB/+zpwzoxKQM3MzMzMeFJAZmZmZmZqWEAAAAAAAFxeQM3MzMzMJmJAmpmZmZkfZUBmZmZmZhhoQDMzMzMzEWtAAAAAAAAKbkBmZmZmZoFwQM3MzMzM/XFAMzMzMzN6c0CamZmZmfZ0QAAAAAAAc3ZAZmZmZmbvd0DNzMzMzGt5QDMzMzMz6HpAmpmZmZlkfEAAAAAAAOF9QGZmZmZmXX9AZmZmZuZsgECamZmZGSuBQM3MzMxM6YFAAAAAAICngkAzMzMzs2WDQGZmZmbmI4RAmpmZmRnihEDNzMzMTKCFQAAAAACAXoZAMzMzM7Mch0BmZmZm5tqHQJqZmZkZmYhAzczMzExXiUAAAAAAgBWKQDMzMzOz04pAZmZmZuaRi0CamZmZGVCMQM3MzMxMDo1AAAAAAIDMjUAzMzMzs4qOQGZmZmbmSI9A\",\"dtype\":\"float64\",\"shape\":[75]}},\"selected\":{\"id\":\"6f254ef6-64c2-416b-8e61-cef74f4ad100\",\"type\":\"Selection\"},\"selection_policy\":{\"id\":\"41af862a-262b-4c13-a216-ed86822f4ba0\",\"type\":\"UnionRenderers\"}},\"id\":\"b8ef2b1f-d1cf-4634-800d-23a4be5c80f0\",\"type\":\"ColumnDataSource\"},{\"attributes\":{\"fill_alpha\":{\"value\":0.7},\"fill_color\":{\"value\":\"#377eb8\"},\"line_alpha\":{\"value\":0.7},\"line_color\":{\"value\":\"#377eb8\"},\"x\":{\"field\":\"x\"},\"y\":{\"field\":\"y\"}},\"id\":\"48adea7d-aee3-4f64-b5cc-fb990df88bcf\",\"type\":\"Triangle\"},{\"attributes\":{\"callback\":null,\"data\":{\"x\":{\"__ndarray__\":\"YoeXq2O18L51rdjkraDwvv1RWatUWfC+pyxXZSAT8L6Pv35FaqHvvjHS78oxKO++zFD0cBrA7r53RsJmUHDuvgalmfepQu6+H7K7XhFE7r4mf003n4XuvrVWXnu8He++II93S0oU8L5FVGwk97XwvsalnOjREe6+zrG1zXn03r5wopcFHTfZPgU7sdCjH/0+x+6poiBkED+dtgVWVbkeP2UYYypIeSo/ul70ivM3NT8WtYXLr988Pwm6U0tYPUE/jYT5H+qXQz9Jn30yIf9EP7VE9+Xbi0U/Yl5j0I3vRD+Z6lVH5F5CP1R8JUmyaDk/kEPgbsnhEj8b2RmGFjA9vxXoFcPcBFS/Ty+l7Pz0Yr+0Q4kAal1wv/n5hrnRfXm/8kkfoQMegL+4xwMviSOAv5GxVegV7Xu/qC8Kjadvd7+hQcCiZv1yvxjG14uaUG2/KjwpyXruZL+z7TX/VstZv4GXKMCj6ES/CdbJcm6dMD9DMRq2xApSP1RcEZBBO18/Dpvo/ujeZT+F1R2pDMxrP0LCwTAxtXA/eWz2SS9fcz+wuPyiJOZ1P9/LPDJITHg/VlaU/8KTej9m4rj9gr58P5wU/v5ozn4/yLUTuIRigD+0JybLp1CBP3hOh1IaMYI/N/Ztg4EAgz8lTd3IBbaDP2p1tX66RoQ/NC5j3VSxhD8Q+Aik4AOFP9LhR1NCUoU/7/V2yvGqhT/fbSBV+xGGP611d9e4goY/TTSCbN32hj8681zza2qHPyxIDU+q24c/KRBNCyRJiD/DbnpFJ7OIP317qWhEGok/\",\"dtype\":\"float64\",\"shape\":[75]},\"y\":{\"__ndarray__\":\"GhExyth1ND/Sv8nbtpRIP2vylNV0PVE/aTum7souWD/At0SJ8fVgPw3Iuahxymc/MSNhhJWvcD/bTfBN02d3P2zb5nxnaoA/CD5h5MAGhz8NmeH1TyaQP+zrCsc9p5Y/LbKd76fGnz/bLW5ISEmmPww9YvTcQq8/JV2OstnstT8Er5Y7M8G+P0c+r3jqkcU/5h99k6ZBzj88bCIzFzjVP4enV8oyxN0//yH99nXg5D8qOpLLf0jtP5kqGJXUifQ/c9cS8kHP/D+/DpwzojQEQIEmwoanVwxA4lgXt9HgE0BSSZ2AJuIbQAMJih9jjiNA5q4l5INuK0AwTKYKRj0zQNv5fmq8/DpAaCJseHrtQkB/+zpwzoxKQM3MzMzMeFJAZmZmZmZqWEAAAAAAAFxeQM3MzMzMJmJAmpmZmZkfZUBmZmZmZhhoQDMzMzMzEWtAAAAAAAAKbkBmZmZmZoFwQM3MzMzM/XFAMzMzMzN6c0CamZmZmfZ0QAAAAAAAc3ZAZmZmZmbvd0DNzMzMzGt5QDMzMzMz6HpAmpmZmZlkfEAAAAAAAOF9QGZmZmZmXX9AZmZmZuZsgECamZmZGSuBQM3MzMxM6YFAAAAAAICngkAzMzMzs2WDQGZmZmbmI4RAmpmZmRnihEDNzMzMTKCFQAAAAACAXoZAMzMzM7Mch0BmZmZm5tqHQJqZmZkZmYhAzczMzExXiUAAAAAAgBWKQDMzMzOz04pAZmZmZuaRi0CamZmZGVCMQM3MzMxMDo1AAAAAAIDMjUAzMzMzs4qOQGZmZmbmSI9A\",\"dtype\":\"float64\",\"shape\":[75]}},\"selected\":{\"id\":\"1d860285-c034-40bd-90d6-1ff22e6c053f\",\"type\":\"Selection\"},\"selection_policy\":{\"id\":\"8f219a17-dc31-4688-aacd-fe86c9f6d4d3\",\"type\":\"UnionRenderers\"}},\"id\":\"82118fa7-6c38-4b0b-ac9b-9c16f1055b21\",\"type\":\"ColumnDataSource\"},{\"attributes\":{\"source\":{\"id\":\"b8ef2b1f-d1cf-4634-800d-23a4be5c80f0\",\"type\":\"ColumnDataSource\"}},\"id\":\"6e5705c6-78cf-46aa-bba0-343bcc9e7f7d\",\"type\":\"CDSView\"},{\"attributes\":{\"fill_alpha\":{\"value\":0.7},\"fill_color\":{\"value\":\"#984ea3\"},\"line_alpha\":{\"value\":0.7},\"line_color\":{\"value\":\"#984ea3\"},\"x\":{\"field\":\"x\"},\"y\":{\"field\":\"y\"}},\"id\":\"43397a25-e2af-4cd0-aaed-107a8c859f76\",\"type\":\"Square\"},{\"attributes\":{\"fill_alpha\":{\"value\":0.1},\"fill_color\":{\"value\":\"#1f77b4\"},\"line_alpha\":{\"value\":0.1},\"line_color\":{\"value\":\"#1f77b4\"},\"x\":{\"field\":\"x\"},\"y\":{\"field\":\"y\"}},\"id\":\"3cf0ad7b-9173-4914-a772-dfb91264b479\",\"type\":\"Triangle\"},{\"attributes\":{\"line_alpha\":0.3,\"line_color\":\"#377eb8\",\"line_width\":2,\"x\":{\"field\":\"x\"},\"y\":{\"field\":\"y\"}},\"id\":\"c6c3cdf6-eaa7-40fe-bacf-dbe09d446705\",\"type\":\"Line\"},{\"attributes\":{\"children\":[{\"id\":\"57ddae71-ddd5-413c-ac55-db3d41f86cd7\",\"type\":\"Row\"}]},\"id\":\"062e76b3-49f9-4ec7-bc84-0ec776880270\",\"type\":\"Column\"},{\"attributes\":{\"data_source\":{\"id\":\"b8ef2b1f-d1cf-4634-800d-23a4be5c80f0\",\"type\":\"ColumnDataSource\"},\"glyph\":{\"id\":\"48adea7d-aee3-4f64-b5cc-fb990df88bcf\",\"type\":\"Triangle\"},\"hover_glyph\":null,\"muted_glyph\":null,\"nonselection_glyph\":{\"id\":\"3cf0ad7b-9173-4914-a772-dfb91264b479\",\"type\":\"Triangle\"},\"selection_glyph\":null,\"view\":{\"id\":\"6e5705c6-78cf-46aa-bba0-343bcc9e7f7d\",\"type\":\"CDSView\"}},\"id\":\"80add0a5-4114-4088-b658-4afbbb0b7d25\",\"type\":\"GlyphRenderer\"},{\"attributes\":{\"data_source\":{\"id\":\"82118fa7-6c38-4b0b-ac9b-9c16f1055b21\",\"type\":\"ColumnDataSource\"},\"glyph\":{\"id\":\"c6c3cdf6-eaa7-40fe-bacf-dbe09d446705\",\"type\":\"Line\"},\"hover_glyph\":null,\"muted_glyph\":null,\"nonselection_glyph\":{\"id\":\"e239abf9-f206-490a-b42b-c5cd860581c4\",\"type\":\"Line\"},\"selection_glyph\":null,\"view\":{\"id\":\"cd97b04c-732d-40db-b4b2-af63a9b1cf52\",\"type\":\"CDSView\"}},\"id\":\"9fb0b8ae-52c0-4436-8c53-d8aa2198b662\",\"type\":\"GlyphRenderer\"},{\"attributes\":{\"source\":{\"id\":\"82118fa7-6c38-4b0b-ac9b-9c16f1055b21\",\"type\":\"ColumnDataSource\"}},\"id\":\"cd97b04c-732d-40db-b4b2-af63a9b1cf52\",\"type\":\"CDSView\"},{\"attributes\":{\"plot\":null,\"text\":\"\"},\"id\":\"511c179a-563d-420b-bedd-fbb94a0d0e14\",\"type\":\"Title\"},{\"attributes\":{\"children\":[{\"id\":\"1c561072-6cd2-4178-8514-671c972ecd9a\",\"subtype\":\"Figure\",\"type\":\"Plot\"},{\"id\":\"1094c9ec-9915-46f2-8a99-8e881ac77477\",\"subtype\":\"Figure\",\"type\":\"Plot\"}]},\"id\":\"57ddae71-ddd5-413c-ac55-db3d41f86cd7\",\"type\":\"Row\"},{\"attributes\":{\"label\":{\"value\":\"CRD\"},\"renderers\":[{\"id\":\"30feac5c-127c-48cc-aae4-bc489d40784b\",\"type\":\"GlyphRenderer\"},{\"id\":\"14a27e6a-7004-434c-8920-547a69cb4cd1\",\"type\":\"GlyphRenderer\"}]},\"id\":\"9c1738bc-bd69-4e65-96c5-a539d4ffcfef\",\"type\":\"LegendItem\"},{\"attributes\":{\"label\":{\"value\":\"WGT igg=10\"},\"renderers\":[{\"id\":\"80add0a5-4114-4088-b658-4afbbb0b7d25\",\"type\":\"GlyphRenderer\"},{\"id\":\"9fb0b8ae-52c0-4436-8c53-d8aa2198b662\",\"type\":\"GlyphRenderer\"}]},\"id\":\"a3f2da59-7414-4d92-9227-91f760e86aee\",\"type\":\"LegendItem\"},{\"attributes\":{\"label\":{\"value\":\"WGT igg=1\"},\"renderers\":[{\"id\":\"66d936aa-ea7e-4eb1-bec9-4c37b022a297\",\"type\":\"GlyphRenderer\"},{\"id\":\"af454d33-530b-4348-82ec-7b3816ee2cb1\",\"type\":\"GlyphRenderer\"}]},\"id\":\"0e8818f1-c3be-4011-88be-7437978569bf\",\"type\":\"LegendItem\"},{\"attributes\":{\"line_alpha\":0.6,\"line_color\":\"#984ea3\",\"line_width\":3,\"x\":{\"field\":\"x\"},\"y\":{\"field\":\"y\"}},\"id\":\"ac34ddac-4a2b-4f44-96ff-10d238249e0e\",\"type\":\"Line\"},{\"attributes\":{\"callback\":null,\"data\":{\"x\":{\"__ndarray__\":\"YoeXq2O18L51rdjkraDwvv1RWatUWfC+pyxXZSAT8L6Pv35FaqHvvjHS78oxKO++zFD0cBrA7r53RsJmUHDuvgalmfepQu6+H7K7XhFE7r4mf003n4XuvrVWXnu8He++II93S0oU8L5FVGwk97XwvsalnOjREe6+zrG1zXn03r5wopcFHTfZPgU7sdCjH/0+x+6poiBkED+dtgVWVbkeP2UYYypIeSo/ul70ivM3NT8WtYXLr988Pwm6U0tYPUE/jYT5H+qXQz9Jn30yIf9EP7VE9+Xbi0U/Yl5j0I3vRD+Z6lVH5F5CP1R8JUmyaDk/kEPgbsnhEj8b2RmGFjA9vxXoFcPcBFS/Ty+l7Pz0Yr+0Q4kAal1wv/n5hrnRfXm/8kkfoQMegL+4xwMviSOAv5GxVegV7Xu/qC8Kjadvd7+hQcCiZv1yvxjG14uaUG2/KjwpyXruZL+z7TX/VstZv4GXKMCj6ES/CdbJcm6dMD9DMRq2xApSP1RcEZBBO18/Dpvo/ujeZT+F1R2pDMxrP0LCwTAxtXA/eWz2SS9fcz+wuPyiJOZ1P9/LPDJITHg/VlaU/8KTej9m4rj9gr58P5wU/v5ozn4/yLUTuIRigD+0JybLp1CBP3hOh1IaMYI/N/Ztg4EAgz8lTd3IBbaDP2p1tX66RoQ/NC5j3VSxhD8Q+Aik4AOFP9LhR1NCUoU/7/V2yvGqhT/fbSBV+xGGP611d9e4goY/TTSCbN32hj8681zza2qHPyxIDU+q24c/KRBNCyRJiD/DbnpFJ7OIP317qWhEGok/\",\"dtype\":\"float64\",\"shape\":[75]},\"y\":{\"__ndarray__\":\"GhExyth1ND/Sv8nbtpRIP2vylNV0PVE/aTum7souWD/At0SJ8fVgPw3Iuahxymc/MSNhhJWvcD/bTfBN02d3P2zb5nxnaoA/CD5h5MAGhz8NmeH1TyaQP+zrCsc9p5Y/LbKd76fGnz/bLW5ISEmmPww9YvTcQq8/JV2OstnstT8Er5Y7M8G+P0c+r3jqkcU/5h99k6ZBzj88bCIzFzjVP4enV8oyxN0//yH99nXg5D8qOpLLf0jtP5kqGJXUifQ/c9cS8kHP/D+/DpwzojQEQIEmwoanVwxA4lgXt9HgE0BSSZ2AJuIbQAMJih9jjiNA5q4l5INuK0AwTKYKRj0zQNv5fmq8/DpAaCJseHrtQkB/+zpwzoxKQM3MzMzMeFJAZmZmZmZqWEAAAAAAAFxeQM3MzMzMJmJAmpmZmZkfZUBmZmZmZhhoQDMzMzMzEWtAAAAAAAAKbkBmZmZmZoFwQM3MzMzM/XFAMzMzMzN6c0CamZmZmfZ0QAAAAAAAc3ZAZmZmZmbvd0DNzMzMzGt5QDMzMzMz6HpAmpmZmZlkfEAAAAAAAOF9QGZmZmZmXX9AZmZmZuZsgECamZmZGSuBQM3MzMxM6YFAAAAAAICngkAzMzMzs2WDQGZmZmbmI4RAmpmZmRnihEDNzMzMTKCFQAAAAACAXoZAMzMzM7Mch0BmZmZm5tqHQJqZmZkZmYhAzczMzExXiUAAAAAAgBWKQDMzMzOz04pAZmZmZuaRi0CamZmZGVCMQM3MzMxMDo1AAAAAAIDMjUAzMzMzs4qOQGZmZmbmSI9A\",\"dtype\":\"float64\",\"shape\":[75]}},\"selected\":{\"id\":\"28396c6a-6404-4426-9052-2cd56da3da5b\",\"type\":\"Selection\"},\"selection_policy\":{\"id\":\"a69e13bc-5fcd-4211-a5c9-d7c243718587\",\"type\":\"UnionRenderers\"}},\"id\":\"dcfee7ca-c6d1-4ea0-beac-78d4c400914a\",\"type\":\"ColumnDataSource\"},{\"attributes\":{\"line_alpha\":0.1,\"line_color\":\"#1f77b4\",\"line_width\":3,\"x\":{\"field\":\"x\"},\"y\":{\"field\":\"y\"}},\"id\":\"885ca78a-d74e-47d1-a1f8-47e6b958f665\",\"type\":\"Line\"},{\"attributes\":{\"fill_alpha\":{\"value\":0.1},\"fill_color\":{\"value\":\"#1f77b4\"},\"line_alpha\":{\"value\":0.1},\"line_color\":{\"value\":\"#1f77b4\"},\"x\":{\"field\":\"x\"},\"y\":{\"field\":\"y\"}},\"id\":\"9ac1a7dc-73d0-4a59-ac81-f32138d504ed\",\"type\":\"Square\"},{\"attributes\":{\"data_source\":{\"id\":\"f4806a43-0cda-4be1-8ca7-3b9b35b0b85c\",\"type\":\"ColumnDataSource\"},\"glyph\":{\"id\":\"3e6ce760-ba64-41d0-bcf3-ff1452b711b0\",\"type\":\"Line\"},\"hover_glyph\":null,\"muted_glyph\":null,\"nonselection_glyph\":{\"id\":\"fb32d19b-1253-41ea-a7b5-034e79b5b236\",\"type\":\"Line\"},\"selection_glyph\":null,\"view\":{\"id\":\"cdd85dd0-27b6-4dec-a1b5-8c9571ccfaf4\",\"type\":\"CDSView\"}},\"id\":\"3a7af48a-11e7-4511-83c6-2ef0bdc75903\",\"type\":\"GlyphRenderer\"},{\"attributes\":{\"data_source\":{\"id\":\"7aff8dd3-302a-4767-b559-efc5b5b55743\",\"type\":\"ColumnDataSource\"},\"glyph\":{\"id\":\"ac34ddac-4a2b-4f44-96ff-10d238249e0e\",\"type\":\"Line\"},\"hover_glyph\":null,\"muted_glyph\":null,\"nonselection_glyph\":{\"id\":\"885ca78a-d74e-47d1-a1f8-47e6b958f665\",\"type\":\"Line\"},\"selection_glyph\":null,\"view\":{\"id\":\"984ee3a0-d2c7-40f3-a941-529d47f2b0de\",\"type\":\"CDSView\"}},\"id\":\"42179b3d-5a76-465c-990a-a3a9c0665522\",\"type\":\"GlyphRenderer\"},{\"attributes\":{\"above\":[{\"id\":\"8fe0acfc-b918-41bb-932d-007b1768a2eb\",\"type\":\"Legend\"}],\"below\":[{\"id\":\"15d742d5-9171-4aa2-be9d-542328ecc431\",\"type\":\"LinearAxis\"}],\"left\":[{\"id\":\"065a96b9-7d85-401e-9132-d1bfb7564fcb\",\"type\":\"LogAxis\"}],\"plot_height\":500,\"plot_width\":400,\"renderers\":[{\"id\":\"15d742d5-9171-4aa2-be9d-542328ecc431\",\"type\":\"LinearAxis\"},{\"id\":\"77d5530f-1ace-44c7-9663-f980ceb694f7\",\"type\":\"Grid\"},{\"id\":\"065a96b9-7d85-401e-9132-d1bfb7564fcb\",\"type\":\"LogAxis\"},{\"id\":\"7ee7bc34-8aca-435c-8f59-a57de4cae1e1\",\"type\":\"Grid\"},{\"id\":\"7eefa104-3b20-4bf2-8e4c-153cfca55ec1\",\"type\":\"BoxAnnotation\"},{\"id\":\"30feac5c-127c-48cc-aae4-bc489d40784b\",\"type\":\"GlyphRenderer\"},{\"id\":\"14a27e6a-7004-434c-8920-547a69cb4cd1\",\"type\":\"GlyphRenderer\"},{\"id\":\"66d936aa-ea7e-4eb1-bec9-4c37b022a297\",\"type\":\"GlyphRenderer\"},{\"id\":\"af454d33-530b-4348-82ec-7b3816ee2cb1\",\"type\":\"GlyphRenderer\"},{\"id\":\"80add0a5-4114-4088-b658-4afbbb0b7d25\",\"type\":\"GlyphRenderer\"},{\"id\":\"9fb0b8ae-52c0-4436-8c53-d8aa2198b662\",\"type\":\"GlyphRenderer\"},{\"id\":\"8fe0acfc-b918-41bb-932d-007b1768a2eb\",\"type\":\"Legend\"}],\"title\":{\"id\":\"b2097ef1-ab4d-4e06-8991-94a521387111\",\"type\":\"Title\"},\"toolbar\":{\"id\":\"4e86abdc-d64a-4cf6-a262-960612cdc6e9\",\"type\":\"Toolbar\"},\"toolbar_location\":null,\"x_range\":{\"id\":\"9c926340-153f-4dd6-9e19-116248e0d4d4\",\"type\":\"Range1d\"},\"x_scale\":{\"id\":\"88e22256-4b29-4929-bbef-3077fbb58d4b\",\"type\":\"LinearScale\"},\"y_range\":{\"id\":\"02584970-764b-4b14-bf23-308f44b6477f\",\"type\":\"Range1d\"},\"y_scale\":{\"id\":\"7d72ea10-d786-42bd-a022-b911c8a63cbc\",\"type\":\"LogScale\"}},\"id\":\"1094c9ec-9915-46f2-8a99-8e881ac77477\",\"subtype\":\"Figure\",\"type\":\"Plot\"},{\"attributes\":{\"fill_alpha\":{\"value\":0.7},\"fill_color\":{\"value\":\"#984ea3\"},\"line_alpha\":{\"value\":0.7},\"line_color\":{\"value\":\"#984ea3\"},\"x\":{\"field\":\"x\"},\"y\":{\"field\":\"y\"}},\"id\":\"fe46b372-1fcc-4385-9bb9-d14b564f3c06\",\"type\":\"Square\"},{\"attributes\":{\"source\":{\"id\":\"f4806a43-0cda-4be1-8ca7-3b9b35b0b85c\",\"type\":\"ColumnDataSource\"}},\"id\":\"cdd85dd0-27b6-4dec-a1b5-8c9571ccfaf4\",\"type\":\"CDSView\"},{\"attributes\":{\"line_alpha\":0.3,\"line_color\":\"#377eb8\",\"line_width\":2,\"x\":{\"field\":\"x\"},\"y\":{\"field\":\"y\"}},\"id\":\"71918867-5dd8-452c-bc3a-4f899d5ed0c6\",\"type\":\"Line\"},{\"attributes\":{\"callback\":null,\"data\":{\"x\":{\"__ndarray__\":\"a9ddoobr6L4u34yKPJnovooe0cpmxOe+cwOGHDjs5r4sEI2XXRXmvrsIEerhQeW+VMCAX1h05L41boSexK/jvkLwehEj+OK+Skc/SflR4r5pTHL3fMLhvlb81m0xT+G+cSExRvz74L6xpL9PKlDgvniHCo3Gt9G+gYy45KnQ2z6I0FdWCmT7PjIkmNERwQ0/MdNU2I5eGz/2pQGwLE8nP86iIk9M/jI/XSgSIeFwPT8/A0mmdtpDP3crzihp6Uc/aNVphZ+sSz++ElQDdKROPxCaqqrBg1A/jvcHKwVNUT/FH3qPiU1RP1FeXW076E8/LHzvYeDjSD87V7Kx+582P82B9XVwZTm/NT80M7ciWL+uNlf6Petqv4t6b/L12ne/QEe4hNTRf79nrZj10Q6Av9cRneNwZnu/DBUUpKijdr9nfPB1MQhyvz61CPGyMmu/H6fjRlXAYr/oscL5CH9Vv1SAJFzRWjm/pKoCtXfoPz92gAshTHJVP0BTJ4/LGWE/b2H5zaYeZz/+08BgDchsP4IiczSpEnE/77ZfOsWccz823KYEdAJ2P1cFjYmrS3g/10r9gLR0ej/v3m24cYZ8PzGn7gO1fH4/gh5K8mwvgD/fq6+VJBSBP/X8+ClY7IE/da7gKlO0gj8TViw7EmGDP+e8f6Lk5IM/YQlDmx4/hD8BlcRurH+EP3xFJPsBvoQ/hNZ3CUQLhT8DpVe5BmyFPzGEQz+42oU/shhbWblPhj+TERDGYcaGPybJrSipPIc/aJl/0z+xhz/8EIbHnySIP4oR4Pnnl4g/\",\"dtype\":\"float64\",\"shape\":[75]},\"y\":{\"__ndarray__\":\"GhExyth1ND/Sv8nbtpRIP2vylNV0PVE/aTum7souWD/At0SJ8fVgPw3Iuahxymc/MSNhhJWvcD/bTfBN02d3P2zb5nxnaoA/CD5h5MAGhz8NmeH1TyaQP+zrCsc9p5Y/LbKd76fGnz/bLW5ISEmmPww9YvTcQq8/JV2OstnstT8Er5Y7M8G+P0c+r3jqkcU/5h99k6ZBzj88bCIzFzjVP4enV8oyxN0//yH99nXg5D8qOpLLf0jtP5kqGJXUifQ/c9cS8kHP/D+/DpwzojQEQIEmwoanVwxA4lgXt9HgE0BSSZ2AJuIbQAMJih9jjiNA5q4l5INuK0AwTKYKRj0zQNv5fmq8/DpAaCJseHrtQkB/+zpwzoxKQM3MzMzMeFJAZmZmZmZqWEAAAAAAAFxeQM3MzMzMJmJAmpmZmZkfZUBmZmZmZhhoQDMzMzMzEWtAAAAAAAAKbkBmZmZmZoFwQM3MzMzM/XFAMzMzMzN6c0CamZmZmfZ0QAAAAAAAc3ZAZmZmZmbvd0DNzMzMzGt5QDMzMzMz6HpAmpmZmZlkfEAAAAAAAOF9QGZmZmZmXX9AZmZmZuZsgECamZmZGSuBQM3MzMxM6YFAAAAAAICngkAzMzMzs2WDQGZmZmbmI4RAmpmZmRnihEDNzMzMTKCFQAAAAACAXoZAMzMzM7Mch0BmZmZm5tqHQJqZmZkZmYhAzczMzExXiUAAAAAAgBWKQDMzMzOz04pAZmZmZuaRi0CamZmZGVCMQM3MzMxMDo1AAAAAAIDMjUAzMzMzs4qOQGZmZmbmSI9A\",\"dtype\":\"float64\",\"shape\":[75]}},\"selected\":{\"id\":\"f8054389-a60e-4388-bcd1-de40384f2bcb\",\"type\":\"Selection\"},\"selection_policy\":{\"id\":\"bea6e91e-0c40-4743-9b38-240d9a44eaa1\",\"type\":\"UnionRenderers\"}},\"id\":\"029af93a-4b7f-4187-bb70-2919af572bc9\",\"type\":\"ColumnDataSource\"},{\"attributes\":{\"callback\":null,\"data\":{\"x\":{\"__ndarray__\":\"YoeXq2O18L51rdjkraDwvv1RWatUWfC+pyxXZSAT8L6Pv35FaqHvvjHS78oxKO++zFD0cBrA7r53RsJmUHDuvgalmfepQu6+H7K7XhFE7r4mf003n4XuvrVWXnu8He++II93S0oU8L5FVGwk97XwvsalnOjREe6+zrG1zXn03r5wopcFHTfZPgU7sdCjH/0+x+6poiBkED+dtgVWVbkeP2UYYypIeSo/ul70ivM3NT8WtYXLr988Pwm6U0tYPUE/jYT5H+qXQz9Jn30yIf9EP7VE9+Xbi0U/Yl5j0I3vRD+Z6lVH5F5CP1R8JUmyaDk/kEPgbsnhEj8b2RmGFjA9vxXoFcPcBFS/Ty+l7Pz0Yr+0Q4kAal1wv/n5hrnRfXm/8kkfoQMegL+4xwMviSOAv5GxVegV7Xu/qC8Kjadvd7+hQcCiZv1yvxjG14uaUG2/KjwpyXruZL+z7TX/VstZv4GXKMCj6ES/CdbJcm6dMD9DMRq2xApSP1RcEZBBO18/Dpvo/ujeZT+F1R2pDMxrP0LCwTAxtXA/eWz2SS9fcz+wuPyiJOZ1P9/LPDJITHg/VlaU/8KTej9m4rj9gr58P5wU/v5ozn4/yLUTuIRigD+0JybLp1CBP3hOh1IaMYI/N/Ztg4EAgz8lTd3IBbaDP2p1tX66RoQ/NC5j3VSxhD8Q+Aik4AOFP9LhR1NCUoU/7/V2yvGqhT/fbSBV+xGGP611d9e4goY/TTSCbN32hj8681zza2qHPyxIDU+q24c/KRBNCyRJiD/DbnpFJ7OIP317qWhEGok/\",\"dtype\":\"float64\",\"shape\":[75]},\"y\":{\"__ndarray__\":\"GhExyth1ND/Sv8nbtpRIP2vylNV0PVE/aTum7souWD/At0SJ8fVgPw3Iuahxymc/MSNhhJWvcD/bTfBN02d3P2zb5nxnaoA/CD5h5MAGhz8NmeH1TyaQP+zrCsc9p5Y/LbKd76fGnz/bLW5ISEmmPww9YvTcQq8/JV2OstnstT8Er5Y7M8G+P0c+r3jqkcU/5h99k6ZBzj88bCIzFzjVP4enV8oyxN0//yH99nXg5D8qOpLLf0jtP5kqGJXUifQ/c9cS8kHP/D+/DpwzojQEQIEmwoanVwxA4lgXt9HgE0BSSZ2AJuIbQAMJih9jjiNA5q4l5INuK0AwTKYKRj0zQNv5fmq8/DpAaCJseHrtQkB/+zpwzoxKQM3MzMzMeFJAZmZmZmZqWEAAAAAAAFxeQM3MzMzMJmJAmpmZmZkfZUBmZmZmZhhoQDMzMzMzEWtAAAAAAAAKbkBmZmZmZoFwQM3MzMzM/XFAMzMzMzN6c0CamZmZmfZ0QAAAAAAAc3ZAZmZmZmbvd0DNzMzMzGt5QDMzMzMz6HpAmpmZmZlkfEAAAAAAAOF9QGZmZmZmXX9AZmZmZuZsgECamZmZGSuBQM3MzMxM6YFAAAAAAICngkAzMzMzs2WDQGZmZmbmI4RAmpmZmRnihEDNzMzMTKCFQAAAAACAXoZAMzMzM7Mch0BmZmZm5tqHQJqZmZkZmYhAzczMzExXiUAAAAAAgBWKQDMzMzOz04pAZmZmZuaRi0CamZmZGVCMQM3MzMxMDo1AAAAAAIDMjUAzMzMzs4qOQGZmZmbmSI9A\",\"dtype\":\"float64\",\"shape\":[75]}},\"selected\":{\"id\":\"ddab61a8-21c3-49f5-8d46-fdc53b18032b\",\"type\":\"Selection\"},\"selection_policy\":{\"id\":\"7496710c-f574-4b23-8f60-4e51132b4a46\",\"type\":\"UnionRenderers\"}},\"id\":\"d7d060b8-d03d-4e10-9157-fb61560883dd\",\"type\":\"ColumnDataSource\"},{\"attributes\":{\"callback\":null,\"data\":{\"x\":{\"__ndarray__\":\"a9ddoobr6L4u34yKPJnovooe0cpmxOe+cwOGHDjs5r4sEI2XXRXmvrsIEerhQeW+VMCAX1h05L41boSexK/jvkLwehEj+OK+Skc/SflR4r5pTHL3fMLhvlb81m0xT+G+cSExRvz74L6xpL9PKlDgvniHCo3Gt9G+gYy45KnQ2z6I0FdWCmT7PjIkmNERwQ0/MdNU2I5eGz/2pQGwLE8nP86iIk9M/jI/XSgSIeFwPT8/A0mmdtpDP3crzihp6Uc/aNVphZ+sSz++ElQDdKROPxCaqqrBg1A/jvcHKwVNUT/FH3qPiU1RP1FeXW076E8/LHzvYeDjSD87V7Kx+582P82B9XVwZTm/NT80M7ciWL+uNlf6Petqv4t6b/L12ne/QEe4hNTRf79nrZj10Q6Av9cRneNwZnu/DBUUpKijdr9nfPB1MQhyvz61CPGyMmu/H6fjRlXAYr/oscL5CH9Vv1SAJFzRWjm/pKoCtXfoPz92gAshTHJVP0BTJ4/LGWE/b2H5zaYeZz/+08BgDchsP4IiczSpEnE/77ZfOsWccz823KYEdAJ2P1cFjYmrS3g/10r9gLR0ej/v3m24cYZ8PzGn7gO1fH4/gh5K8mwvgD/fq6+VJBSBP/X8+ClY7IE/da7gKlO0gj8TViw7EmGDP+e8f6Lk5IM/YQlDmx4/hD8BlcRurH+EP3xFJPsBvoQ/hNZ3CUQLhT8DpVe5BmyFPzGEQz+42oU/shhbWblPhj+TERDGYcaGPybJrSipPIc/aJl/0z+xhz/8EIbHnySIP4oR4Pnnl4g/\",\"dtype\":\"float64\",\"shape\":[75]},\"y\":{\"__ndarray__\":\"GhExyth1ND/Sv8nbtpRIP2vylNV0PVE/aTum7souWD/At0SJ8fVgPw3Iuahxymc/MSNhhJWvcD/bTfBN02d3P2zb5nxnaoA/CD5h5MAGhz8NmeH1TyaQP+zrCsc9p5Y/LbKd76fGnz/bLW5ISEmmPww9YvTcQq8/JV2OstnstT8Er5Y7M8G+P0c+r3jqkcU/5h99k6ZBzj88bCIzFzjVP4enV8oyxN0//yH99nXg5D8qOpLLf0jtP5kqGJXUifQ/c9cS8kHP/D+/DpwzojQEQIEmwoanVwxA4lgXt9HgE0BSSZ2AJuIbQAMJih9jjiNA5q4l5INuK0AwTKYKRj0zQNv5fmq8/DpAaCJseHrtQkB/+zpwzoxKQM3MzMzMeFJAZmZmZmZqWEAAAAAAAFxeQM3MzMzMJmJAmpmZmZkfZUBmZmZmZhhoQDMzMzMzEWtAAAAAAAAKbkBmZmZmZoFwQM3MzMzM/XFAMzMzMzN6c0CamZmZmfZ0QAAAAAAAc3ZAZmZmZmbvd0DNzMzMzGt5QDMzMzMz6HpAmpmZmZlkfEAAAAAAAOF9QGZmZmZmXX9AZmZmZuZsgECamZmZGSuBQM3MzMxM6YFAAAAAAICngkAzMzMzs2WDQGZmZmbmI4RAmpmZmRnihEDNzMzMTKCFQAAAAACAXoZAMzMzM7Mch0BmZmZm5tqHQJqZmZkZmYhAzczMzExXiUAAAAAAgBWKQDMzMzOz04pAZmZmZuaRi0CamZmZGVCMQM3MzMxMDo1AAAAAAIDMjUAzMzMzs4qOQGZmZmbmSI9A\",\"dtype\":\"float64\",\"shape\":[75]}},\"selected\":{\"id\":\"c00b17e8-d3fb-4c63-9de9-f1ad7f2d3911\",\"type\":\"Selection\"},\"selection_policy\":{\"id\":\"845c5902-2c9e-4e61-a038-bb0929847d49\",\"type\":\"UnionRenderers\"}},\"id\":\"7aff8dd3-302a-4767-b559-efc5b5b55743\",\"type\":\"ColumnDataSource\"},{\"attributes\":{\"line_alpha\":0.1,\"line_color\":\"#1f77b4\",\"line_width\":1.5,\"x\":{\"field\":\"x\"},\"y\":{\"field\":\"y\"}},\"id\":\"fb32d19b-1253-41ea-a7b5-034e79b5b236\",\"type\":\"Line\"},{\"attributes\":{\"data_source\":{\"id\":\"dcfee7ca-c6d1-4ea0-beac-78d4c400914a\",\"type\":\"ColumnDataSource\"},\"glyph\":{\"id\":\"229931cb-e42a-4cce-aa84-ee837cf66909\",\"type\":\"Triangle\"},\"hover_glyph\":null,\"muted_glyph\":null,\"nonselection_glyph\":{\"id\":\"4fcccef9-0688-4f85-b566-ec4eaf154c9b\",\"type\":\"Triangle\"},\"selection_glyph\":null,\"view\":{\"id\":\"c05d9e3b-b8d1-4fd4-8af1-ad7ce772b0fc\",\"type\":\"CDSView\"}},\"id\":\"3e10885e-2c26-497d-a9ad-7a17b7286732\",\"type\":\"GlyphRenderer\"},{\"attributes\":{\"fill_alpha\":{\"value\":0.7},\"fill_color\":{\"value\":\"#377eb8\"},\"line_alpha\":{\"value\":0.7},\"line_color\":{\"value\":\"#377eb8\"},\"x\":{\"field\":\"x\"},\"y\":{\"field\":\"y\"}},\"id\":\"229931cb-e42a-4cce-aa84-ee837cf66909\",\"type\":\"Triangle\"},{\"attributes\":{\"source\":{\"id\":\"dcfee7ca-c6d1-4ea0-beac-78d4c400914a\",\"type\":\"ColumnDataSource\"}},\"id\":\"c05d9e3b-b8d1-4fd4-8af1-ad7ce772b0fc\",\"type\":\"CDSView\"},{\"attributes\":{\"data_source\":{\"id\":\"d7d060b8-d03d-4e10-9157-fb61560883dd\",\"type\":\"ColumnDataSource\"},\"glyph\":{\"id\":\"71918867-5dd8-452c-bc3a-4f899d5ed0c6\",\"type\":\"Line\"},\"hover_glyph\":null,\"muted_glyph\":null,\"nonselection_glyph\":{\"id\":\"97014a18-3838-4069-aec9-acd679cc9806\",\"type\":\"Line\"},\"selection_glyph\":null,\"view\":{\"id\":\"e6f0a5be-877d-4b3b-b440-c136b7ba0112\",\"type\":\"CDSView\"}},\"id\":\"ad9f255c-bcc7-4b9a-a8b2-00673692ca0e\",\"type\":\"GlyphRenderer\"},{\"attributes\":{\"fill_alpha\":{\"value\":0.1},\"fill_color\":{\"value\":\"#1f77b4\"},\"line_alpha\":{\"value\":0.1},\"line_color\":{\"value\":\"#1f77b4\"},\"x\":{\"field\":\"x\"},\"y\":{\"field\":\"y\"}},\"id\":\"4fcccef9-0688-4f85-b566-ec4eaf154c9b\",\"type\":\"Triangle\"},{\"attributes\":{\"data_source\":{\"id\":\"029af93a-4b7f-4187-bb70-2919af572bc9\",\"type\":\"ColumnDataSource\"},\"glyph\":{\"id\":\"fe46b372-1fcc-4385-9bb9-d14b564f3c06\",\"type\":\"Square\"},\"hover_glyph\":null,\"muted_glyph\":null,\"nonselection_glyph\":{\"id\":\"9ac1a7dc-73d0-4a59-ac81-f32138d504ed\",\"type\":\"Square\"},\"selection_glyph\":null,\"view\":{\"id\":\"4b6c2734-c994-4b9b-991d-32966b34a6eb\",\"type\":\"CDSView\"}},\"id\":\"a9821287-0610-40a9-8f5f-faa027bcd001\",\"type\":\"GlyphRenderer\"},{\"attributes\":{\"source\":{\"id\":\"029af93a-4b7f-4187-bb70-2919af572bc9\",\"type\":\"ColumnDataSource\"}},\"id\":\"4b6c2734-c994-4b9b-991d-32966b34a6eb\",\"type\":\"CDSView\"},{\"attributes\":{\"source\":{\"id\":\"7aff8dd3-302a-4767-b559-efc5b5b55743\",\"type\":\"ColumnDataSource\"}},\"id\":\"984ee3a0-d2c7-40f3-a941-529d47f2b0de\",\"type\":\"CDSView\"},{\"attributes\":{\"line_alpha\":0.1,\"line_color\":\"#1f77b4\",\"line_width\":2,\"x\":{\"field\":\"x\"},\"y\":{\"field\":\"y\"}},\"id\":\"97014a18-3838-4069-aec9-acd679cc9806\",\"type\":\"Line\"},{\"attributes\":{\"source\":{\"id\":\"d7d060b8-d03d-4e10-9157-fb61560883dd\",\"type\":\"ColumnDataSource\"}},\"id\":\"e6f0a5be-877d-4b3b-b440-c136b7ba0112\",\"type\":\"CDSView\"},{\"attributes\":{\"active_drag\":\"auto\",\"active_inspect\":\"auto\",\"active_scroll\":\"auto\",\"active_tap\":\"auto\",\"tools\":[{\"id\":\"905e7768-5c4b-4e91-a49a-bdc926bc77e0\",\"type\":\"PanTool\"},{\"id\":\"d9005af2-23fb-4fb3-a57c-9dae6f35818b\",\"type\":\"WheelZoomTool\"},{\"id\":\"21d76ef6-3c6e-4b1d-abcd-784c8ec4ec32\",\"type\":\"BoxZoomTool\"},{\"id\":\"1457431b-d77a-47f2-833d-55e1a5e91956\",\"type\":\"SaveTool\"},{\"id\":\"9b746647-4526-4efb-b280-5f803e8516c4\",\"type\":\"ResetTool\"},{\"id\":\"c710753d-e33f-4a23-bd60-bb876aa32d2e\",\"type\":\"HelpTool\"}]},\"id\":\"4e86abdc-d64a-4cf6-a262-960612cdc6e9\",\"type\":\"Toolbar\"},{\"attributes\":{\"label\":{\"value\":\"CRD\"},\"renderers\":[{\"id\":\"70a3ec79-16f2-4354-95c9-91ba58b944eb\",\"type\":\"GlyphRenderer\"},{\"id\":\"3a7af48a-11e7-4511-83c6-2ef0bdc75903\",\"type\":\"GlyphRenderer\"}]},\"id\":\"45fefcff-399e-4e96-af07-0f2990beab0f\",\"type\":\"LegendItem\"},{\"attributes\":{\"callback\":null,\"end\":0.0029944581369999996,\"start\":-0.008195414837},\"id\":\"9c926340-153f-4dd6-9e19-116248e0d4d4\",\"type\":\"Range1d\"},{\"attributes\":{\"label\":{\"value\":\"WGT igg=1\"},\"renderers\":[{\"id\":\"a9821287-0610-40a9-8f5f-faa027bcd001\",\"type\":\"GlyphRenderer\"},{\"id\":\"42179b3d-5a76-465c-990a-a3a9c0665522\",\"type\":\"GlyphRenderer\"}]},\"id\":\"a500ea33-b36e-41b4-9c42-87a03c806521\",\"type\":\"LegendItem\"},{\"attributes\":{},\"id\":\"88e22256-4b29-4929-bbef-3077fbb58d4b\",\"type\":\"LinearScale\"},{\"attributes\":{\"label\":{\"value\":\"WGT igg=10\"},\"renderers\":[{\"id\":\"3e10885e-2c26-497d-a9ad-7a17b7286732\",\"type\":\"GlyphRenderer\"},{\"id\":\"ad9f255c-bcc7-4b9a-a8b2-00673692ca0e\",\"type\":\"GlyphRenderer\"}]},\"id\":\"cdd82d7a-63d4-4ad2-9a32-bd1f4f1f0645\",\"type\":\"LegendItem\"},{\"attributes\":{},\"id\":\"d9005af2-23fb-4fb3-a57c-9dae6f35818b\",\"type\":\"WheelZoomTool\"},{\"attributes\":{\"items\":[{\"id\":\"9c1738bc-bd69-4e65-96c5-a539d4ffcfef\",\"type\":\"LegendItem\"},{\"id\":\"0e8818f1-c3be-4011-88be-7437978569bf\",\"type\":\"LegendItem\"},{\"id\":\"a3f2da59-7414-4d92-9227-91f760e86aee\",\"type\":\"LegendItem\"}],\"label_text_font_size\":{\"value\":\"8pt\"},\"location\":\"top_center\",\"orientation\":\"horizontal\",\"plot\":{\"id\":\"1094c9ec-9915-46f2-8a99-8e881ac77477\",\"subtype\":\"Figure\",\"type\":\"Plot\"}},\"id\":\"8fe0acfc-b918-41bb-932d-007b1768a2eb\",\"type\":\"Legend\"},{\"attributes\":{\"bottom_units\":\"screen\",\"fill_alpha\":{\"value\":0.5},\"fill_color\":{\"value\":\"lightgrey\"},\"left_units\":\"screen\",\"level\":\"overlay\",\"line_alpha\":{\"value\":1.0},\"line_color\":{\"value\":\"black\"},\"line_dash\":[4,4],\"line_width\":{\"value\":2},\"plot\":null,\"render_mode\":\"css\",\"right_units\":\"screen\",\"top_units\":\"screen\"},\"id\":\"7eefa104-3b20-4bf2-8e4c-153cfca55ec1\",\"type\":\"BoxAnnotation\"},{\"attributes\":{},\"id\":\"7d72ea10-d786-42bd-a022-b911c8a63cbc\",\"type\":\"LogScale\"},{\"attributes\":{\"axis_label\":\"cooling rate [K/day]\",\"formatter\":{\"id\":\"33b6706f-1181-443e-845e-aab6e54ef435\",\"type\":\"BasicTickFormatter\"},\"plot\":{\"id\":\"1094c9ec-9915-46f2-8a99-8e881ac77477\",\"subtype\":\"Figure\",\"type\":\"Plot\"},\"ticker\":{\"id\":\"f53d61c6-5cbe-460e-87fc-9619950df9d8\",\"type\":\"BasicTicker\"}},\"id\":\"15d742d5-9171-4aa2-be9d-542328ecc431\",\"type\":\"LinearAxis\"},{\"attributes\":{},\"id\":\"905e7768-5c4b-4e91-a49a-bdc926bc77e0\",\"type\":\"PanTool\"},{\"attributes\":{\"overlay\":{\"id\":\"7eefa104-3b20-4bf2-8e4c-153cfca55ec1\",\"type\":\"BoxAnnotation\"}},\"id\":\"21d76ef6-3c6e-4b1d-abcd-784c8ec4ec32\",\"type\":\"BoxZoomTool\"},{\"attributes\":{},\"id\":\"1457431b-d77a-47f2-833d-55e1a5e91956\",\"type\":\"SaveTool\"},{\"attributes\":{},\"id\":\"9b746647-4526-4efb-b280-5f803e8516c4\",\"type\":\"ResetTool\"},{\"attributes\":{},\"id\":\"c710753d-e33f-4a23-bd60-bb876aa32d2e\",\"type\":\"HelpTool\"},{\"attributes\":{},\"id\":\"a69e13bc-5fcd-4211-a5c9-d7c243718587\",\"type\":\"UnionRenderers\"},{\"attributes\":{\"fill_alpha\":{\"value\":0.7},\"fill_color\":{\"value\":\"#4daf4a\"},\"line_alpha\":{\"value\":0.7},\"line_color\":{\"value\":\"#4daf4a\"},\"x\":{\"field\":\"x\"},\"y\":{\"field\":\"y\"}},\"id\":\"30bbeef5-a60f-4bef-a537-9b668057e6c8\",\"type\":\"Circle\"},{\"attributes\":{\"callback\":null,\"data\":{\"x\":{\"__ndarray__\":\"40YCHK2S677xhHMQFAzrvh4V/PJHz+m+36aAfQWP6L5cKkojZ0HnvtOsPBXH4eW+GgrJ+Ixr5L6LRwTRNNbiviWUGlhCFuG+dkTmUNg03r41rs988ZLZvp9JVeNu/NO++ktlC5UByr61jh9RPPSmvm/ULnP3Cto+y1lzZatf9z5rxiYYSMYJP9GbS+aLmRc/n3rRixTyIz99fwsFyygwPyvSS1gNiTk/IjKuFkt/Qz8bm9F5JZBKP3Vzzl8KjlA/au9/QwkzVD8O0UVbPh9YP/8O1SyBqFw/utz+oi3qYD/PP+tp4ZxjP2VJyid1E2Y/d48QPsShZz/iR5s8AzBnP+bBduSKOmM/ivGmyhPiUz9SbC46PjpTvwH2Xi8etHO/zp2Ce6Ovf7/p0P2mPY+Av5zSEote3Xu/3yMXKiPYdr9tTPJUJSByv7c1jSHMamu/ROnuXXMlY7/61UjFGeBWv/YI8xBLBUG/YFv/taaGMz+AeNU7R2FRPy898KFjD10/0LXgomL+Yz+glWgLtxxpP1O5z8Hh620/aOjKYL85cT+UsjA3JF1zP9K+YXV3Y3U/ES47gNlPdz/fBGonBiV5P7eF9/W05Xo/PKgNTEOUfD8ZaQFQQDB+PzNNomc9uH8/nmlTx/uQgD8OHlXtVCmBP8GLcxkUlIE/hIqnp1rOgT+n6LcUeOyBPxF3oSukC4I/2k+3zQNBgj+Z6fMdMJKCP8czVgXk94I/eygN0bpogz8uLONWLd+DPwDXY1RxWYQ/xDIXZ/XWhD8eVVw7olmFPxrk0FAT5YU/\",\"dtype\":\"float64\",\"shape\":[75]},\"y\":{\"__ndarray__\":\"GhExyth1ND/Sv8nbtpRIP2vylNV0PVE/aTum7souWD/At0SJ8fVgPw3Iuahxymc/MSNhhJWvcD/bTfBN02d3P2zb5nxnaoA/CD5h5MAGhz8NmeH1TyaQP+zrCsc9p5Y/LbKd76fGnz/bLW5ISEmmPww9YvTcQq8/JV2OstnstT8Er5Y7M8G+P0c+r3jqkcU/5h99k6ZBzj88bCIzFzjVP4enV8oyxN0//yH99nXg5D8qOpLLf0jtP5kqGJXUifQ/c9cS8kHP/D+/DpwzojQEQIEmwoanVwxA4lgXt9HgE0BSSZ2AJuIbQAMJih9jjiNA5q4l5INuK0AwTKYKRj0zQNv5fmq8/DpAaCJseHrtQkB/+zpwzoxKQM3MzMzMeFJAZmZmZmZqWEAAAAAAAFxeQM3MzMzMJmJAmpmZmZkfZUBmZmZmZhhoQDMzMzMzEWtAAAAAAAAKbkBmZmZmZoFwQM3MzMzM/XFAMzMzMzN6c0CamZmZmfZ0QAAAAAAAc3ZAZmZmZmbvd0DNzMzMzGt5QDMzMzMz6HpAmpmZmZlkfEAAAAAAAOF9QGZmZmZmXX9AZmZmZuZsgECamZmZGSuBQM3MzMxM6YFAAAAAAICngkAzMzMzs2WDQGZmZmbmI4RAmpmZmRnihEDNzMzMTKCFQAAAAACAXoZAMzMzM7Mch0BmZmZm5tqHQJqZmZkZmYhAzczMzExXiUAAAAAAgBWKQDMzMzOz04pAZmZmZuaRi0CamZmZGVCMQM3MzMxMDo1AAAAAAIDMjUAzMzMzs4qOQGZmZmbmSI9A\",\"dtype\":\"float64\",\"shape\":[75]}},\"selected\":{\"id\":\"92ccd340-6d85-43b1-8939-739eb93ff002\",\"type\":\"Selection\"},\"selection_policy\":{\"id\":\"0cbbc708-5ba7-4873-b5c0-a865e2db12d7\",\"type\":\"UnionRenderers\"}},\"id\":\"fefbc1b9-ed86-471f-b76d-6aec2a3e6187\",\"type\":\"ColumnDataSource\"},{\"attributes\":{\"fill_alpha\":{\"value\":0.1},\"fill_color\":{\"value\":\"#1f77b4\"},\"line_alpha\":{\"value\":0.1},\"line_color\":{\"value\":\"#1f77b4\"},\"x\":{\"field\":\"x\"},\"y\":{\"field\":\"y\"}},\"id\":\"6085c27a-8f65-48e7-86d0-b0592fd879f4\",\"type\":\"Circle\"},{\"attributes\":{},\"id\":\"28396c6a-6404-4426-9052-2cd56da3da5b\",\"type\":\"Selection\"},{\"attributes\":{\"callback\":null,\"end\":0.01,\"start\":1020},\"id\":\"02584970-764b-4b14-bf23-308f44b6477f\",\"type\":\"Range1d\"},{\"attributes\":{\"data_source\":{\"id\":\"fefbc1b9-ed86-471f-b76d-6aec2a3e6187\",\"type\":\"ColumnDataSource\"},\"glyph\":{\"id\":\"30bbeef5-a60f-4bef-a537-9b668057e6c8\",\"type\":\"Circle\"},\"hover_glyph\":null,\"muted_glyph\":null,\"nonselection_glyph\":{\"id\":\"6085c27a-8f65-48e7-86d0-b0592fd879f4\",\"type\":\"Circle\"},\"selection_glyph\":null,\"view\":{\"id\":\"cdbecf35-a5ee-436c-bbde-16bfe9e858c5\",\"type\":\"CDSView\"}},\"id\":\"30feac5c-127c-48cc-aae4-bc489d40784b\",\"type\":\"GlyphRenderer\"}],\"root_ids\":[\"8b1a926c-0700-4f72-b3ce-4f61308d9fa9\"]},\"title\":\"Bokeh Application\",\"version\":\"0.12.16\"}};\n",
       "  var render_items = [{\"docid\":\"9e97b9c4-27cb-45d4-9b3f-1ca992283658\",\"elementid\":\"53b4bef5-b604-405c-a664-b0cc584910e8\",\"modelid\":\"8b1a926c-0700-4f72-b3ce-4f61308d9fa9\"}];\n",
       "  root.Bokeh.embed.embed_items_notebook(docs_json, render_items);\n",
       "\n",
       "  }\n",
       "  if (root.Bokeh !== undefined) {\n",
       "    embed_document(root);\n",
       "  } else {\n",
       "    var attempts = 0;\n",
       "    var timer = setInterval(function(root) {\n",
       "      if (root.Bokeh !== undefined) {\n",
       "        embed_document(root);\n",
       "        clearInterval(timer);\n",
       "      }\n",
       "      attempts++;\n",
       "      if (attempts > 100) {\n",
       "        console.log(\"Bokeh: ERROR: Unable to run BokehJS code because BokehJS library is missing\")\n",
       "        clearInterval(timer);\n",
       "      }\n",
       "    }, 10, root)\n",
       "  }\n",
       "})(window);"
      ],
      "application/vnd.bokehjs_exec.v0+json": ""
     },
     "metadata": {
      "application/vnd.bokehjs_exec.v0+json": {
       "id": "8b1a926c-0700-4f72-b3ce-4f61308d9fa9"
      }
     },
     "output_type": "display_data"
    },
    {
     "data": {
      "text/markdown": [
       "*FIGURE.* Cooling rates. g=2"
      ],
      "text/plain": [
       "<IPython.core.display.Markdown object>"
      ]
     },
     "metadata": {},
     "output_type": "display_data"
    },
    {
     "data": {
      "text/html": [
       "\n",
       "<div class=\"bk-root\">\n",
       "    <div class=\"bk-plotdiv\" id=\"fe9fef88-ee86-448f-aeb3-a0c877ae20c4\"></div>\n",
       "</div>"
      ]
     },
     "metadata": {},
     "output_type": "display_data"
    },
    {
     "data": {
      "application/javascript": [
       "(function(root) {\n",
       "  function embed_document(root) {\n",
       "    \n",
       "  var docs_json = {\"04b14269-1679-4a66-aada-c03f0aef7388\":{\"roots\":{\"references\":[{\"attributes\":{\"axis_label\":\"pressure [mb]\",\"formatter\":{\"id\":\"f266c397-fbab-4acd-9adf-6836cca18883\",\"type\":\"BasicTickFormatter\"},\"plot\":{\"id\":\"69ef150e-4dfa-475e-8d5c-0cfbb8ad9a41\",\"subtype\":\"Figure\",\"type\":\"Plot\"},\"ticker\":{\"id\":\"80987bf9-3471-49c2-8307-ad254e7a6678\",\"type\":\"BasicTicker\"}},\"id\":\"596fd474-2019-4d2e-bc9c-4f4177be7887\",\"type\":\"LinearAxis\"},{\"attributes\":{},\"id\":\"890166e6-f26b-4698-8824-58502aab59d3\",\"type\":\"PanTool\"},{\"attributes\":{},\"id\":\"c6184284-f950-4847-9280-9aae0ed5d015\",\"type\":\"BasicTicker\"},{\"attributes\":{\"plot\":{\"id\":\"8f5cc6a2-6e00-4c31-b485-fbfdd29904a3\",\"subtype\":\"Figure\",\"type\":\"Plot\"},\"ticker\":{\"id\":\"e4e83d5a-630e-4f5a-9f38-273de04d461c\",\"type\":\"BasicTicker\"}},\"id\":\"f410b62b-b32d-4872-8c7d-dea6a1390dfb\",\"type\":\"Grid\"},{\"attributes\":{\"plot\":{\"id\":\"69ef150e-4dfa-475e-8d5c-0cfbb8ad9a41\",\"subtype\":\"Figure\",\"type\":\"Plot\"},\"ticker\":{\"id\":\"c6184284-f950-4847-9280-9aae0ed5d015\",\"type\":\"BasicTicker\"}},\"id\":\"03c573c5-6ce1-46c7-bd29-339e6ef6fc39\",\"type\":\"Grid\"},{\"attributes\":{},\"id\":\"b3367b4e-c528-422d-a3eb-dc626228a891\",\"type\":\"WheelZoomTool\"},{\"attributes\":{\"overlay\":{\"id\":\"6d498788-0575-4cb5-9486-61bb38501967\",\"type\":\"BoxAnnotation\"}},\"id\":\"f83d378d-0948-450b-992d-655f370102fe\",\"type\":\"BoxZoomTool\"},{\"attributes\":{},\"id\":\"5d7b98aa-92c8-4689-8150-e39b7dbe6a45\",\"type\":\"ResetTool\"},{\"attributes\":{\"axis_label\":\"cooling rate [K/day]\",\"formatter\":{\"id\":\"f9ee6ffd-f402-4962-b7b0-c9235fe8f8ab\",\"type\":\"BasicTickFormatter\"},\"plot\":{\"id\":\"69ef150e-4dfa-475e-8d5c-0cfbb8ad9a41\",\"subtype\":\"Figure\",\"type\":\"Plot\"},\"ticker\":{\"id\":\"c6184284-f950-4847-9280-9aae0ed5d015\",\"type\":\"BasicTicker\"}},\"id\":\"86c99d7b-1a5b-46d7-ad7d-8f5b2e090daa\",\"type\":\"LinearAxis\"},{\"attributes\":{\"callback\":null,\"data\":{\"x\":{\"__ndarray__\":\"3DYzyphaTb+NKxEqAylNv+rnvw9MwEy/LHgfBAZTTL9++eC/XuJLvxCKP51ubku/rcxSce72Sr+4ERWYF3xKvy4IvQ2D/Um/tmbr0ap7Sb/0zSUE1vVIv+GhINQYbEi/Ko/KYt3eR79/9g/sQyRHv5Ni1uUfXUS/Zf+c3vCRO782ZbaMqBggv9L2aKuOvzA/ysBmi9XcRz9KpbLBdnJVPw/jdu+2gGA/bjYZ/4W4Zj+OKP6CNftoPykS4+P5pmY/z6KYOMnBYj8eG9idO/BbP07rULPiAFM/fNnxHaWJRj9bS/XYW10yP+zDv1fhhBO/8QMSwqaHOb+AnveBuFBGv8nk7Z5juU+/gDCwCvQCVb94dqdqYy1cv5tqp5Jz9WK/loNlHMaMZ7/1a2GRfHBpv6eaWQLikmi/3Dr54RnVZr9Pqwketl9kv+/Gnzz1TmG/jXBPoilsW79yDw7h1FpTv+ZSeS73E0W/bYhdONlIEb8Q/uFUnt1BPwbwcm8HbFM/CvbNqPpPXj8U53dFqMVkPxT4XzeAiGo/19nOB6Q1cD95zvYmljRzP+NDgADPPnY/xZ3+r5tSeT8NR0NOJ258P7cvWNQdkH8/6JZolF9bgT9VidY07e6CP9JSxckHgYQ/l+ccl8wMhj9M6gF8goeHP2evJYFZ44g/iJLLqsgbij/JyK3XYT2LP/Ups4CKXIw/K/Vf+YmJjT8R8oajx8mOP0w1fqQyDJA/Bcbt3CO3kD/GAicnT2ORPz1jpod9D5I/mB25oIS6kj8yApe4b2STP7ciJ8+ZDZQ/\",\"dtype\":\"float64\",\"shape\":[75]},\"y\":{\"__ndarray__\":\"GhExyth1ND/Sv8nbtpRIP2vylNV0PVE/aTum7souWD/At0SJ8fVgPw3Iuahxymc/MSNhhJWvcD/bTfBN02d3P2zb5nxnaoA/CD5h5MAGhz8NmeH1TyaQP+zrCsc9p5Y/LbKd76fGnz/bLW5ISEmmPww9YvTcQq8/JV2OstnstT8Er5Y7M8G+P0c+r3jqkcU/5h99k6ZBzj88bCIzFzjVP4enV8oyxN0//yH99nXg5D8qOpLLf0jtP5kqGJXUifQ/c9cS8kHP/D+/DpwzojQEQIEmwoanVwxA4lgXt9HgE0BSSZ2AJuIbQAMJih9jjiNA5q4l5INuK0AwTKYKRj0zQNv5fmq8/DpAaCJseHrtQkB/+zpwzoxKQM3MzMzMeFJAZmZmZmZqWEAAAAAAAFxeQM3MzMzMJmJAmpmZmZkfZUBmZmZmZhhoQDMzMzMzEWtAAAAAAAAKbkBmZmZmZoFwQM3MzMzM/XFAMzMzMzN6c0CamZmZmfZ0QAAAAAAAc3ZAZmZmZmbvd0DNzMzMzGt5QDMzMzMz6HpAmpmZmZlkfEAAAAAAAOF9QGZmZmZmXX9AZmZmZuZsgECamZmZGSuBQM3MzMxM6YFAAAAAAICngkAzMzMzs2WDQGZmZmbmI4RAmpmZmRnihEDNzMzMTKCFQAAAAACAXoZAMzMzM7Mch0BmZmZm5tqHQJqZmZkZmYhAzczMzExXiUAAAAAAgBWKQDMzMzOz04pAZmZmZuaRi0CamZmZGVCMQM3MzMxMDo1AAAAAAIDMjUAzMzMzs4qOQGZmZmbmSI9A\",\"dtype\":\"float64\",\"shape\":[75]}},\"selected\":{\"id\":\"dc0e7ab7-1499-44b3-a5a1-0bdd1e3d0f6f\",\"type\":\"Selection\"},\"selection_policy\":{\"id\":\"c3172757-b68e-4df1-9f49-21890f874af9\",\"type\":\"UnionRenderers\"}},\"id\":\"546ae218-57c5-493e-8c83-663c76068bc0\",\"type\":\"ColumnDataSource\"},{\"attributes\":{},\"id\":\"5d2e2806-5299-4ee1-aa64-597efe6cd755\",\"type\":\"SaveTool\"},{\"attributes\":{\"callback\":null,\"end\":0.019888950795999998,\"start\":-0.003333062396},\"id\":\"63b7033c-24d9-43c4-9cad-1df728aee001\",\"type\":\"Range1d\"},{\"attributes\":{\"fill_alpha\":{\"value\":0.7},\"fill_color\":{\"value\":\"#4daf4a\"},\"line_alpha\":{\"value\":0.7},\"line_color\":{\"value\":\"#4daf4a\"},\"x\":{\"field\":\"x\"},\"y\":{\"field\":\"y\"}},\"id\":\"a5d573b6-3818-427d-b82c-8bb9633d82b9\",\"type\":\"Circle\"},{\"attributes\":{\"active_drag\":\"auto\",\"active_inspect\":\"auto\",\"active_scroll\":\"auto\",\"active_tap\":\"auto\",\"tools\":[{\"id\":\"890166e6-f26b-4698-8824-58502aab59d3\",\"type\":\"PanTool\"},{\"id\":\"b3367b4e-c528-422d-a3eb-dc626228a891\",\"type\":\"WheelZoomTool\"},{\"id\":\"f83d378d-0948-450b-992d-655f370102fe\",\"type\":\"BoxZoomTool\"},{\"id\":\"5d2e2806-5299-4ee1-aa64-597efe6cd755\",\"type\":\"SaveTool\"},{\"id\":\"5d7b98aa-92c8-4689-8150-e39b7dbe6a45\",\"type\":\"ResetTool\"},{\"id\":\"6b8e011d-c5d7-441d-a48a-b74c334eb436\",\"type\":\"HelpTool\"}]},\"id\":\"9f320bef-7574-412c-8a85-6bef61a9e56f\",\"type\":\"Toolbar\"},{\"attributes\":{},\"id\":\"596c26d9-7ff6-4e82-bb11-09d75267893e\",\"type\":\"PanTool\"},{\"attributes\":{\"above\":[{\"id\":\"54922c57-f57a-4790-b78c-1ebf71e3b295\",\"type\":\"Legend\"}],\"below\":[{\"id\":\"86c99d7b-1a5b-46d7-ad7d-8f5b2e090daa\",\"type\":\"LinearAxis\"}],\"left\":[{\"id\":\"596fd474-2019-4d2e-bc9c-4f4177be7887\",\"type\":\"LinearAxis\"}],\"plot_height\":500,\"plot_width\":400,\"renderers\":[{\"id\":\"86c99d7b-1a5b-46d7-ad7d-8f5b2e090daa\",\"type\":\"LinearAxis\"},{\"id\":\"03c573c5-6ce1-46c7-bd29-339e6ef6fc39\",\"type\":\"Grid\"},{\"id\":\"596fd474-2019-4d2e-bc9c-4f4177be7887\",\"type\":\"LinearAxis\"},{\"id\":\"47b9d1fe-900b-4740-b49e-ec3917923112\",\"type\":\"Grid\"},{\"id\":\"6d498788-0575-4cb5-9486-61bb38501967\",\"type\":\"BoxAnnotation\"},{\"id\":\"7f6dd4cc-b241-4952-9cb7-d16489d94959\",\"type\":\"GlyphRenderer\"},{\"id\":\"b96018cd-117d-47a5-9797-f3b09a44478d\",\"type\":\"GlyphRenderer\"},{\"id\":\"a7a062f0-10d4-47d9-86f6-56d683e005f2\",\"type\":\"GlyphRenderer\"},{\"id\":\"aee8624e-186d-47f7-9128-3660175974ec\",\"type\":\"GlyphRenderer\"},{\"id\":\"d3266273-4e4f-4145-88a3-ad54f629eaaf\",\"type\":\"GlyphRenderer\"},{\"id\":\"8201312a-01d2-437d-8da3-8df762a97772\",\"type\":\"GlyphRenderer\"},{\"id\":\"54922c57-f57a-4790-b78c-1ebf71e3b295\",\"type\":\"Legend\"}],\"title\":{\"id\":\"7c0d90a4-8938-4000-8522-497e76c55e3f\",\"type\":\"Title\"},\"toolbar\":{\"id\":\"9f320bef-7574-412c-8a85-6bef61a9e56f\",\"type\":\"Toolbar\"},\"toolbar_location\":null,\"x_range\":{\"id\":\"63b7033c-24d9-43c4-9cad-1df728aee001\",\"type\":\"Range1d\"},\"x_scale\":{\"id\":\"6037cd12-6b3e-4c35-a9bd-de7eac2ca208\",\"type\":\"LinearScale\"},\"y_range\":{\"id\":\"859405af-f9a2-45fa-a605-e7902ed7295c\",\"type\":\"Range1d\"},\"y_scale\":{\"id\":\"2e437ef1-e017-448b-a3bb-801a5f602931\",\"type\":\"LinearScale\"}},\"id\":\"69ef150e-4dfa-475e-8d5c-0cfbb8ad9a41\",\"subtype\":\"Figure\",\"type\":\"Plot\"},{\"attributes\":{},\"id\":\"6b8e011d-c5d7-441d-a48a-b74c334eb436\",\"type\":\"HelpTool\"},{\"attributes\":{\"fill_alpha\":{\"value\":0.1},\"fill_color\":{\"value\":\"#1f77b4\"},\"line_alpha\":{\"value\":0.1},\"line_color\":{\"value\":\"#1f77b4\"},\"x\":{\"field\":\"x\"},\"y\":{\"field\":\"y\"}},\"id\":\"df534f8a-5626-496e-8feb-435d3a48a201\",\"type\":\"Circle\"},{\"attributes\":{\"bottom_units\":\"screen\",\"fill_alpha\":{\"value\":0.5},\"fill_color\":{\"value\":\"lightgrey\"},\"left_units\":\"screen\",\"level\":\"overlay\",\"line_alpha\":{\"value\":1.0},\"line_color\":{\"value\":\"black\"},\"line_dash\":[4,4],\"line_width\":{\"value\":2},\"plot\":null,\"render_mode\":\"css\",\"right_units\":\"screen\",\"top_units\":\"screen\"},\"id\":\"6d498788-0575-4cb5-9486-61bb38501967\",\"type\":\"BoxAnnotation\"},{\"attributes\":{\"dimension\":1,\"plot\":{\"id\":\"69ef150e-4dfa-475e-8d5c-0cfbb8ad9a41\",\"subtype\":\"Figure\",\"type\":\"Plot\"},\"ticker\":{\"id\":\"80987bf9-3471-49c2-8307-ad254e7a6678\",\"type\":\"BasicTicker\"}},\"id\":\"47b9d1fe-900b-4740-b49e-ec3917923112\",\"type\":\"Grid\"},{\"attributes\":{},\"id\":\"80987bf9-3471-49c2-8307-ad254e7a6678\",\"type\":\"BasicTicker\"},{\"attributes\":{\"items\":[{\"id\":\"85959318-f7e6-4239-974e-49ba296531f4\",\"type\":\"LegendItem\"},{\"id\":\"f678258e-fde8-44ee-975a-7bb1baad3b29\",\"type\":\"LegendItem\"},{\"id\":\"065ec566-9ed5-47a5-afa0-790720818318\",\"type\":\"LegendItem\"}],\"label_text_font_size\":{\"value\":\"8pt\"},\"location\":\"top_center\",\"orientation\":\"horizontal\",\"plot\":{\"id\":\"69ef150e-4dfa-475e-8d5c-0cfbb8ad9a41\",\"subtype\":\"Figure\",\"type\":\"Plot\"}},\"id\":\"54922c57-f57a-4790-b78c-1ebf71e3b295\",\"type\":\"Legend\"},{\"attributes\":{},\"id\":\"96ca4ca0-f69f-4913-b886-e4ea8fdbdf75\",\"type\":\"UnionRenderers\"},{\"attributes\":{\"callback\":null,\"end\":0.01,\"start\":1020},\"id\":\"859405af-f9a2-45fa-a605-e7902ed7295c\",\"type\":\"Range1d\"},{\"attributes\":{},\"id\":\"6037cd12-6b3e-4c35-a9bd-de7eac2ca208\",\"type\":\"LinearScale\"},{\"attributes\":{},\"id\":\"2e437ef1-e017-448b-a3bb-801a5f602931\",\"type\":\"LinearScale\"},{\"attributes\":{\"callback\":null,\"end\":0.01,\"start\":1020},\"id\":\"f9edece8-0dcc-4df6-a036-7377f05bcdfc\",\"type\":\"Range1d\"},{\"attributes\":{\"num_minor_ticks\":10},\"id\":\"20b56874-30da-4116-a7b3-507d2788f833\",\"type\":\"LogTicker\"},{\"attributes\":{\"dimension\":1,\"plot\":{\"id\":\"8f5cc6a2-6e00-4c31-b485-fbfdd29904a3\",\"subtype\":\"Figure\",\"type\":\"Plot\"},\"ticker\":{\"id\":\"20b56874-30da-4116-a7b3-507d2788f833\",\"type\":\"LogTicker\"}},\"id\":\"e07b59fd-cccc-4639-b4e3-cc1e61eb10f3\",\"type\":\"Grid\"},{\"attributes\":{\"callback\":null,\"data\":{\"x\":{\"__ndarray__\":\"3DYzyphaTb+NKxEqAylNv+rnvw9MwEy/LHgfBAZTTL9++eC/XuJLvxCKP51ubku/rcxSce72Sr+4ERWYF3xKvy4IvQ2D/Um/tmbr0ap7Sb/0zSUE1vVIv+GhINQYbEi/Ko/KYt3eR79/9g/sQyRHv5Ni1uUfXUS/Zf+c3vCRO782ZbaMqBggv9L2aKuOvzA/ysBmi9XcRz9KpbLBdnJVPw/jdu+2gGA/bjYZ/4W4Zj+OKP6CNftoPykS4+P5pmY/z6KYOMnBYj8eG9idO/BbP07rULPiAFM/fNnxHaWJRj9bS/XYW10yP+zDv1fhhBO/8QMSwqaHOb+AnveBuFBGv8nk7Z5juU+/gDCwCvQCVb94dqdqYy1cv5tqp5Jz9WK/loNlHMaMZ7/1a2GRfHBpv6eaWQLikmi/3Dr54RnVZr9Pqwketl9kv+/Gnzz1TmG/jXBPoilsW79yDw7h1FpTv+ZSeS73E0W/bYhdONlIEb8Q/uFUnt1BPwbwcm8HbFM/CvbNqPpPXj8U53dFqMVkPxT4XzeAiGo/19nOB6Q1cD95zvYmljRzP+NDgADPPnY/xZ3+r5tSeT8NR0NOJ258P7cvWNQdkH8/6JZolF9bgT9VidY07e6CP9JSxckHgYQ/l+ccl8wMhj9M6gF8goeHP2evJYFZ44g/iJLLqsgbij/JyK3XYT2LP/Ups4CKXIw/K/Vf+YmJjT8R8oajx8mOP0w1fqQyDJA/Bcbt3CO3kD/GAicnT2ORPz1jpod9D5I/mB25oIS6kj8yApe4b2STP7ciJ8+ZDZQ/\",\"dtype\":\"float64\",\"shape\":[75]},\"y\":{\"__ndarray__\":\"GhExyth1ND/Sv8nbtpRIP2vylNV0PVE/aTum7souWD/At0SJ8fVgPw3Iuahxymc/MSNhhJWvcD/bTfBN02d3P2zb5nxnaoA/CD5h5MAGhz8NmeH1TyaQP+zrCsc9p5Y/LbKd76fGnz/bLW5ISEmmPww9YvTcQq8/JV2OstnstT8Er5Y7M8G+P0c+r3jqkcU/5h99k6ZBzj88bCIzFzjVP4enV8oyxN0//yH99nXg5D8qOpLLf0jtP5kqGJXUifQ/c9cS8kHP/D+/DpwzojQEQIEmwoanVwxA4lgXt9HgE0BSSZ2AJuIbQAMJih9jjiNA5q4l5INuK0AwTKYKRj0zQNv5fmq8/DpAaCJseHrtQkB/+zpwzoxKQM3MzMzMeFJAZmZmZmZqWEAAAAAAAFxeQM3MzMzMJmJAmpmZmZkfZUBmZmZmZhhoQDMzMzMzEWtAAAAAAAAKbkBmZmZmZoFwQM3MzMzM/XFAMzMzMzN6c0CamZmZmfZ0QAAAAAAAc3ZAZmZmZmbvd0DNzMzMzGt5QDMzMzMz6HpAmpmZmZlkfEAAAAAAAOF9QGZmZmZmXX9AZmZmZuZsgECamZmZGSuBQM3MzMxM6YFAAAAAAICngkAzMzMzs2WDQGZmZmbmI4RAmpmZmRnihEDNzMzMTKCFQAAAAACAXoZAMzMzM7Mch0BmZmZm5tqHQJqZmZkZmYhAzczMzExXiUAAAAAAgBWKQDMzMzOz04pAZmZmZuaRi0CamZmZGVCMQM3MzMxMDo1AAAAAAIDMjUAzMzMzs4qOQGZmZmbmSI9A\",\"dtype\":\"float64\",\"shape\":[75]}},\"selected\":{\"id\":\"40fb7989-2a58-4fa2-b3bc-a563401862c8\",\"type\":\"Selection\"},\"selection_policy\":{\"id\":\"4154220a-5ee6-4013-aeef-2f903a9a26eb\",\"type\":\"UnionRenderers\"}},\"id\":\"7949325a-b8fa-4fcb-bd2a-7c17be412bf9\",\"type\":\"ColumnDataSource\"},{\"attributes\":{\"data_source\":{\"id\":\"fb496af9-0dd8-46d3-a465-a52526c2805a\",\"type\":\"ColumnDataSource\"},\"glyph\":{\"id\":\"20677a0a-26f7-4188-9bd6-a81de69abfe6\",\"type\":\"Circle\"},\"hover_glyph\":null,\"muted_glyph\":null,\"nonselection_glyph\":{\"id\":\"83f1d6e4-7313-4235-bc55-9e26d255f534\",\"type\":\"Circle\"},\"selection_glyph\":null,\"view\":{\"id\":\"7291a05d-dd54-4439-a786-e97f13b4a32c\",\"type\":\"CDSView\"}},\"id\":\"d3645374-ce5b-44fa-ad89-43514aa4e0f5\",\"type\":\"GlyphRenderer\"},{\"attributes\":{\"line_color\":\"#4daf4a\",\"line_width\":1.5,\"x\":{\"field\":\"x\"},\"y\":{\"field\":\"y\"}},\"id\":\"073aa6be-792f-463a-a681-f9d86bd8b301\",\"type\":\"Line\"},{\"attributes\":{\"axis_label\":\"pressure [mb]\",\"formatter\":{\"id\":\"4fac133c-c71c-4e4e-a14f-2d63cafbed9b\",\"type\":\"LogTickFormatter\"},\"plot\":{\"id\":\"8f5cc6a2-6e00-4c31-b485-fbfdd29904a3\",\"subtype\":\"Figure\",\"type\":\"Plot\"},\"ticker\":{\"id\":\"20b56874-30da-4116-a7b3-507d2788f833\",\"type\":\"LogTicker\"}},\"id\":\"9e7bf526-75b3-4e20-b018-8b7622ff1219\",\"type\":\"LogAxis\"},{\"attributes\":{\"data_source\":{\"id\":\"546ae218-57c5-493e-8c83-663c76068bc0\",\"type\":\"ColumnDataSource\"},\"glyph\":{\"id\":\"a5d573b6-3818-427d-b82c-8bb9633d82b9\",\"type\":\"Circle\"},\"hover_glyph\":null,\"muted_glyph\":null,\"nonselection_glyph\":{\"id\":\"df534f8a-5626-496e-8feb-435d3a48a201\",\"type\":\"Circle\"},\"selection_glyph\":null,\"view\":{\"id\":\"7c745153-be3b-4214-a521-08ae793f711b\",\"type\":\"CDSView\"}},\"id\":\"7f6dd4cc-b241-4952-9cb7-d16489d94959\",\"type\":\"GlyphRenderer\"},{\"attributes\":{\"source\":{\"id\":\"546ae218-57c5-493e-8c83-663c76068bc0\",\"type\":\"ColumnDataSource\"}},\"id\":\"7c745153-be3b-4214-a521-08ae793f711b\",\"type\":\"CDSView\"},{\"attributes\":{},\"id\":\"0e68a380-a13a-4bfe-80e3-767e5661f8d3\",\"type\":\"BasicTickFormatter\"},{\"attributes\":{\"plot\":null,\"text\":\"\"},\"id\":\"4e81ee93-9843-4399-9fd0-54ad6831977a\",\"type\":\"Title\"},{\"attributes\":{\"fill_alpha\":{\"value\":0.7},\"fill_color\":{\"value\":\"#984ea3\"},\"line_alpha\":{\"value\":0.7},\"line_color\":{\"value\":\"#984ea3\"},\"x\":{\"field\":\"x\"},\"y\":{\"field\":\"y\"}},\"id\":\"7118ee9d-719e-4e0c-9206-23ac2560f28e\",\"type\":\"Square\"},{\"attributes\":{\"source\":{\"id\":\"7949325a-b8fa-4fcb-bd2a-7c17be412bf9\",\"type\":\"ColumnDataSource\"}},\"id\":\"ee4ae860-eb9c-4354-af50-be2709a075b6\",\"type\":\"CDSView\"},{\"attributes\":{\"label\":{\"value\":\"WGT igg=10\"},\"renderers\":[{\"id\":\"bf88eda0-a2c1-4ff4-b718-3af5702db368\",\"type\":\"GlyphRenderer\"},{\"id\":\"9220aa3b-b45b-489e-b2bf-8d4181f76a9e\",\"type\":\"GlyphRenderer\"}]},\"id\":\"1dfaad33-5ad0-43b7-b951-abf0c1515207\",\"type\":\"LegendItem\"},{\"attributes\":{},\"id\":\"c3172757-b68e-4df1-9f49-21890f874af9\",\"type\":\"UnionRenderers\"},{\"attributes\":{},\"id\":\"f9ee6ffd-f402-4962-b7b0-c9235fe8f8ab\",\"type\":\"BasicTickFormatter\"},{\"attributes\":{},\"id\":\"f266c397-fbab-4acd-9adf-6836cca18883\",\"type\":\"BasicTickFormatter\"},{\"attributes\":{},\"id\":\"dc0e7ab7-1499-44b3-a5a1-0bdd1e3d0f6f\",\"type\":\"Selection\"},{\"attributes\":{\"ticker\":null},\"id\":\"4fac133c-c71c-4e4e-a14f-2d63cafbed9b\",\"type\":\"LogTickFormatter\"},{\"attributes\":{},\"id\":\"67b66683-16d9-4c70-888d-f9f643bcbb22\",\"type\":\"Selection\"},{\"attributes\":{},\"id\":\"40fb7989-2a58-4fa2-b3bc-a563401862c8\",\"type\":\"Selection\"},{\"attributes\":{\"callback\":null,\"data\":{\"x\":{\"__ndarray__\":\"z414kGgLUr+BktsemPZRvw9HWTM5y1G/Oru3TbGdUb/RyU98jm5Rv9rW9djNPVG/jkeXoWsLUb+B7aQqW9dQv4LHBVCdoVC/977+TStqUL/BWPaeATFQv664Eck17E+/GzBCXn1yT78dVFhX1dFOv6PiamxTaUy/U9GLGPuhRr9oetU/ktY7v4Njt1gMphW/Q+s1DXrYNj/sg3ba5/NMP+DhSVWSMVk/v3Lhod9nYj/bsFUiCpZkP1vmWE08iGI/uaa8duIbXj9XUOsS4oVVP9kZCZ/oEUs/RIN4AJ+eOj+MZTtsUFsHP/T3oDrTtjG/mXGdiW8HQr9miaTt4IFKvwCyLU43c1G/nZeuCtIYVr++JbqXTZpcv0Ol+t+kwWK/z2/aO0PyZr9sw2lI6rJov5vePFMz3We/IwdFIzosZr+z2dmbzd9jv50rNiXaB2G/Qwd2X0LDWr/3JxTJJ8lSv3rhyDJ5HES/56e8DSwUEb9pa3MCWKpBP+ezV/bYalM/DO8MeLRIXj/wPz1rs4BkP0zePHHSVmo/YzgG/BQicD9zdbwUIhFzP1gj00quFXY/h09gWAM2eT8s4LsYhUd8P5jh+lH/Yn8/d4uIroBMgT8aRrhHutiCP8ibps3EbYQ/gP/jDfsAhj9Trv1YGXGHP1INIQVU2og/jY6uSewXij8gEmr4qTmLP/tqZ8gTaYw/BwNvS1uRjT8LBSB53d6OP9f/femUF5A/Qx9SKubCkD+MrC0jknSRP8VuZarcG5I/lyWkr8zNkj+5L3TgLXSTP18GHG8WIpQ/\",\"dtype\":\"float64\",\"shape\":[75]},\"y\":{\"__ndarray__\":\"GhExyth1ND/Sv8nbtpRIP2vylNV0PVE/aTum7souWD/At0SJ8fVgPw3Iuahxymc/MSNhhJWvcD/bTfBN02d3P2zb5nxnaoA/CD5h5MAGhz8NmeH1TyaQP+zrCsc9p5Y/LbKd76fGnz/bLW5ISEmmPww9YvTcQq8/JV2OstnstT8Er5Y7M8G+P0c+r3jqkcU/5h99k6ZBzj88bCIzFzjVP4enV8oyxN0//yH99nXg5D8qOpLLf0jtP5kqGJXUifQ/c9cS8kHP/D+/DpwzojQEQIEmwoanVwxA4lgXt9HgE0BSSZ2AJuIbQAMJih9jjiNA5q4l5INuK0AwTKYKRj0zQNv5fmq8/DpAaCJseHrtQkB/+zpwzoxKQM3MzMzMeFJAZmZmZmZqWEAAAAAAAFxeQM3MzMzMJmJAmpmZmZkfZUBmZmZmZhhoQDMzMzMzEWtAAAAAAAAKbkBmZmZmZoFwQM3MzMzM/XFAMzMzMzN6c0CamZmZmfZ0QAAAAAAAc3ZAZmZmZmbvd0DNzMzMzGt5QDMzMzMz6HpAmpmZmZlkfEAAAAAAAOF9QGZmZmZmXX9AZmZmZuZsgECamZmZGSuBQM3MzMxM6YFAAAAAAICngkAzMzMzs2WDQGZmZmbmI4RAmpmZmRnihEDNzMzMTKCFQAAAAACAXoZAMzMzM7Mch0BmZmZm5tqHQJqZmZkZmYhAzczMzExXiUAAAAAAgBWKQDMzMzOz04pAZmZmZuaRi0CamZmZGVCMQM3MzMxMDo1AAAAAAIDMjUAzMzMzs4qOQGZmZmbmSI9A\",\"dtype\":\"float64\",\"shape\":[75]}},\"selected\":{\"id\":\"67b66683-16d9-4c70-888d-f9f643bcbb22\",\"type\":\"Selection\"},\"selection_policy\":{\"id\":\"7d380ac0-6eac-47e6-9421-7eba7c6cb604\",\"type\":\"UnionRenderers\"}},\"id\":\"ff45b4b9-86bd-42c6-8d68-683d16907a98\",\"type\":\"ColumnDataSource\"},{\"attributes\":{},\"id\":\"4154220a-5ee6-4013-aeef-2f903a9a26eb\",\"type\":\"UnionRenderers\"},{\"attributes\":{\"line_color\":\"#4daf4a\",\"line_width\":1.5,\"x\":{\"field\":\"x\"},\"y\":{\"field\":\"y\"}},\"id\":\"9d0c2423-60e2-4e94-8619-ed6452b4e708\",\"type\":\"Line\"},{\"attributes\":{},\"id\":\"b9c28c8c-7489-48d5-a6f7-6c86feb81779\",\"type\":\"Selection\"},{\"attributes\":{\"callback\":null,\"data\":{\"x\":{\"__ndarray__\":\"z414kGgLUr+BktsemPZRvw9HWTM5y1G/Oru3TbGdUb/RyU98jm5Rv9rW9djNPVG/jkeXoWsLUb+B7aQqW9dQv4LHBVCdoVC/977+TStqUL/BWPaeATFQv664Eck17E+/GzBCXn1yT78dVFhX1dFOv6PiamxTaUy/U9GLGPuhRr9oetU/ktY7v4Njt1gMphW/Q+s1DXrYNj/sg3ba5/NMP+DhSVWSMVk/v3Lhod9nYj/bsFUiCpZkP1vmWE08iGI/uaa8duIbXj9XUOsS4oVVP9kZCZ/oEUs/RIN4AJ+eOj+MZTtsUFsHP/T3oDrTtjG/mXGdiW8HQr9miaTt4IFKvwCyLU43c1G/nZeuCtIYVr++JbqXTZpcv0Ol+t+kwWK/z2/aO0PyZr9sw2lI6rJov5vePFMz3We/IwdFIzosZr+z2dmbzd9jv50rNiXaB2G/Qwd2X0LDWr/3JxTJJ8lSv3rhyDJ5HES/56e8DSwUEb9pa3MCWKpBP+ezV/bYalM/DO8MeLRIXj/wPz1rs4BkP0zePHHSVmo/YzgG/BQicD9zdbwUIhFzP1gj00quFXY/h09gWAM2eT8s4LsYhUd8P5jh+lH/Yn8/d4uIroBMgT8aRrhHutiCP8ibps3EbYQ/gP/jDfsAhj9Trv1YGXGHP1INIQVU2og/jY6uSewXij8gEmr4qTmLP/tqZ8gTaYw/BwNvS1uRjT8LBSB53d6OP9f/femUF5A/Qx9SKubCkD+MrC0jknSRP8VuZarcG5I/lyWkr8zNkj+5L3TgLXSTP18GHG8WIpQ/\",\"dtype\":\"float64\",\"shape\":[75]},\"y\":{\"__ndarray__\":\"GhExyth1ND/Sv8nbtpRIP2vylNV0PVE/aTum7souWD/At0SJ8fVgPw3Iuahxymc/MSNhhJWvcD/bTfBN02d3P2zb5nxnaoA/CD5h5MAGhz8NmeH1TyaQP+zrCsc9p5Y/LbKd76fGnz/bLW5ISEmmPww9YvTcQq8/JV2OstnstT8Er5Y7M8G+P0c+r3jqkcU/5h99k6ZBzj88bCIzFzjVP4enV8oyxN0//yH99nXg5D8qOpLLf0jtP5kqGJXUifQ/c9cS8kHP/D+/DpwzojQEQIEmwoanVwxA4lgXt9HgE0BSSZ2AJuIbQAMJih9jjiNA5q4l5INuK0AwTKYKRj0zQNv5fmq8/DpAaCJseHrtQkB/+zpwzoxKQM3MzMzMeFJAZmZmZmZqWEAAAAAAAFxeQM3MzMzMJmJAmpmZmZkfZUBmZmZmZhhoQDMzMzMzEWtAAAAAAAAKbkBmZmZmZoFwQM3MzMzM/XFAMzMzMzN6c0CamZmZmfZ0QAAAAAAAc3ZAZmZmZmbvd0DNzMzMzGt5QDMzMzMz6HpAmpmZmZlkfEAAAAAAAOF9QGZmZmZmXX9AZmZmZuZsgECamZmZGSuBQM3MzMxM6YFAAAAAAICngkAzMzMzs2WDQGZmZmbmI4RAmpmZmRnihEDNzMzMTKCFQAAAAACAXoZAMzMzM7Mch0BmZmZm5tqHQJqZmZkZmYhAzczMzExXiUAAAAAAgBWKQDMzMzOz04pAZmZmZuaRi0CamZmZGVCMQM3MzMxMDo1AAAAAAIDMjUAzMzMzs4qOQGZmZmbmSI9A\",\"dtype\":\"float64\",\"shape\":[75]}},\"selected\":{\"id\":\"3055803f-862e-4675-8d21-5ad4f89c0d98\",\"type\":\"Selection\"},\"selection_policy\":{\"id\":\"a67ffd6a-484d-40a1-ba3e-ee36ce7d4718\",\"type\":\"UnionRenderers\"}},\"id\":\"68cf887f-2dd4-4d59-827b-72b7f0e7fc4c\",\"type\":\"ColumnDataSource\"},{\"attributes\":{},\"id\":\"9f0e6912-3015-4cea-800d-730ede81fc50\",\"type\":\"Selection\"},{\"attributes\":{\"toolbar\":{\"id\":\"16e6bbb9-940e-4f9a-9598-5b9b422f90ff\",\"type\":\"ProxyToolbar\"},\"toolbar_location\":\"above\"},\"id\":\"d0442eed-5e1e-47eb-a4f7-21e529ad05f7\",\"type\":\"ToolbarBox\"},{\"attributes\":{\"data_source\":{\"id\":\"7949325a-b8fa-4fcb-bd2a-7c17be412bf9\",\"type\":\"ColumnDataSource\"},\"glyph\":{\"id\":\"073aa6be-792f-463a-a681-f9d86bd8b301\",\"type\":\"Line\"},\"hover_glyph\":null,\"muted_glyph\":null,\"nonselection_glyph\":{\"id\":\"e237d0f9-f713-44da-9aec-5e2dc5d70bf7\",\"type\":\"Line\"},\"selection_glyph\":null,\"view\":{\"id\":\"ee4ae860-eb9c-4354-af50-be2709a075b6\",\"type\":\"CDSView\"}},\"id\":\"b96018cd-117d-47a5-9797-f3b09a44478d\",\"type\":\"GlyphRenderer\"},{\"attributes\":{\"callback\":null,\"data\":{\"x\":{\"__ndarray__\":\"z414kGgLUr+BktsemPZRvw9HWTM5y1G/Oru3TbGdUb/RyU98jm5Rv9rW9djNPVG/jkeXoWsLUb+B7aQqW9dQv4LHBVCdoVC/977+TStqUL/BWPaeATFQv664Eck17E+/GzBCXn1yT78dVFhX1dFOv6PiamxTaUy/U9GLGPuhRr9oetU/ktY7v4Njt1gMphW/Q+s1DXrYNj/sg3ba5/NMP+DhSVWSMVk/v3Lhod9nYj/bsFUiCpZkP1vmWE08iGI/uaa8duIbXj9XUOsS4oVVP9kZCZ/oEUs/RIN4AJ+eOj+MZTtsUFsHP/T3oDrTtjG/mXGdiW8HQr9miaTt4IFKvwCyLU43c1G/nZeuCtIYVr++JbqXTZpcv0Ol+t+kwWK/z2/aO0PyZr9sw2lI6rJov5vePFMz3We/IwdFIzosZr+z2dmbzd9jv50rNiXaB2G/Qwd2X0LDWr/3JxTJJ8lSv3rhyDJ5HES/56e8DSwUEb9pa3MCWKpBP+ezV/bYalM/DO8MeLRIXj/wPz1rs4BkP0zePHHSVmo/YzgG/BQicD9zdbwUIhFzP1gj00quFXY/h09gWAM2eT8s4LsYhUd8P5jh+lH/Yn8/d4uIroBMgT8aRrhHutiCP8ibps3EbYQ/gP/jDfsAhj9Trv1YGXGHP1INIQVU2og/jY6uSewXij8gEmr4qTmLP/tqZ8gTaYw/BwNvS1uRjT8LBSB53d6OP9f/femUF5A/Qx9SKubCkD+MrC0jknSRP8VuZarcG5I/lyWkr8zNkj+5L3TgLXSTP18GHG8WIpQ/\",\"dtype\":\"float64\",\"shape\":[75]},\"y\":{\"__ndarray__\":\"GhExyth1ND/Sv8nbtpRIP2vylNV0PVE/aTum7souWD/At0SJ8fVgPw3Iuahxymc/MSNhhJWvcD/bTfBN02d3P2zb5nxnaoA/CD5h5MAGhz8NmeH1TyaQP+zrCsc9p5Y/LbKd76fGnz/bLW5ISEmmPww9YvTcQq8/JV2OstnstT8Er5Y7M8G+P0c+r3jqkcU/5h99k6ZBzj88bCIzFzjVP4enV8oyxN0//yH99nXg5D8qOpLLf0jtP5kqGJXUifQ/c9cS8kHP/D+/DpwzojQEQIEmwoanVwxA4lgXt9HgE0BSSZ2AJuIbQAMJih9jjiNA5q4l5INuK0AwTKYKRj0zQNv5fmq8/DpAaCJseHrtQkB/+zpwzoxKQM3MzMzMeFJAZmZmZmZqWEAAAAAAAFxeQM3MzMzMJmJAmpmZmZkfZUBmZmZmZhhoQDMzMzMzEWtAAAAAAAAKbkBmZmZmZoFwQM3MzMzM/XFAMzMzMzN6c0CamZmZmfZ0QAAAAAAAc3ZAZmZmZmbvd0DNzMzMzGt5QDMzMzMz6HpAmpmZmZlkfEAAAAAAAOF9QGZmZmZmXX9AZmZmZuZsgECamZmZGSuBQM3MzMxM6YFAAAAAAICngkAzMzMzs2WDQGZmZmbmI4RAmpmZmRnihEDNzMzMTKCFQAAAAACAXoZAMzMzM7Mch0BmZmZm5tqHQJqZmZkZmYhAzczMzExXiUAAAAAAgBWKQDMzMzOz04pAZmZmZuaRi0CamZmZGVCMQM3MzMxMDo1AAAAAAIDMjUAzMzMzs4qOQGZmZmbmSI9A\",\"dtype\":\"float64\",\"shape\":[75]}},\"selected\":{\"id\":\"f6931a8c-0b78-41b9-a489-a31704631c8f\",\"type\":\"Selection\"},\"selection_policy\":{\"id\":\"8e574d84-8131-4291-af26-a402ebb0478b\",\"type\":\"UnionRenderers\"}},\"id\":\"67cf3e3c-d67d-4714-a55a-722f9b9a0080\",\"type\":\"ColumnDataSource\"},{\"attributes\":{\"data_source\":{\"id\":\"68cf887f-2dd4-4d59-827b-72b7f0e7fc4c\",\"type\":\"ColumnDataSource\"},\"glyph\":{\"id\":\"d9b63a3c-0cf6-4547-9a38-e7dd41e7232f\",\"type\":\"Line\"},\"hover_glyph\":null,\"muted_glyph\":null,\"nonselection_glyph\":{\"id\":\"2a01405f-d3f1-4fdb-b80e-76ac56ab33a9\",\"type\":\"Line\"},\"selection_glyph\":null,\"view\":{\"id\":\"d8119992-5c67-4e53-b9ac-3d0feeb3622c\",\"type\":\"CDSView\"}},\"id\":\"aee8624e-186d-47f7-9128-3660175974ec\",\"type\":\"GlyphRenderer\"},{\"attributes\":{},\"id\":\"e5fec00a-9136-43ff-9f3b-a6b78d245bd4\",\"type\":\"UnionRenderers\"},{\"attributes\":{\"above\":[{\"id\":\"32424e1a-0269-48f5-b3ab-16581f8c0424\",\"type\":\"Legend\"}],\"below\":[{\"id\":\"22956177-dd1d-44e5-bf9f-05ac40d12d35\",\"type\":\"LinearAxis\"}],\"left\":[{\"id\":\"9e7bf526-75b3-4e20-b018-8b7622ff1219\",\"type\":\"LogAxis\"}],\"plot_height\":500,\"plot_width\":400,\"renderers\":[{\"id\":\"22956177-dd1d-44e5-bf9f-05ac40d12d35\",\"type\":\"LinearAxis\"},{\"id\":\"f410b62b-b32d-4872-8c7d-dea6a1390dfb\",\"type\":\"Grid\"},{\"id\":\"9e7bf526-75b3-4e20-b018-8b7622ff1219\",\"type\":\"LogAxis\"},{\"id\":\"e07b59fd-cccc-4639-b4e3-cc1e61eb10f3\",\"type\":\"Grid\"},{\"id\":\"a691d2cb-7d6c-4e47-927a-a3dde2dafe86\",\"type\":\"BoxAnnotation\"},{\"id\":\"d3645374-ce5b-44fa-ad89-43514aa4e0f5\",\"type\":\"GlyphRenderer\"},{\"id\":\"99e01b6b-1b8e-41ab-923d-b7de3c98cd3a\",\"type\":\"GlyphRenderer\"},{\"id\":\"5c0e82a7-e770-40b5-9909-ef256122c6c2\",\"type\":\"GlyphRenderer\"},{\"id\":\"ee22d973-cb1c-4471-9bdf-27cd9900754c\",\"type\":\"GlyphRenderer\"},{\"id\":\"bf88eda0-a2c1-4ff4-b718-3af5702db368\",\"type\":\"GlyphRenderer\"},{\"id\":\"9220aa3b-b45b-489e-b2bf-8d4181f76a9e\",\"type\":\"GlyphRenderer\"},{\"id\":\"32424e1a-0269-48f5-b3ab-16581f8c0424\",\"type\":\"Legend\"}],\"title\":{\"id\":\"4e81ee93-9843-4399-9fd0-54ad6831977a\",\"type\":\"Title\"},\"toolbar\":{\"id\":\"084bcaa3-adeb-4573-9d42-874d8ef71142\",\"type\":\"Toolbar\"},\"toolbar_location\":null,\"x_range\":{\"id\":\"f649a9e0-af76-47fe-b505-d173822b4413\",\"type\":\"Range1d\"},\"x_scale\":{\"id\":\"4d9f5dee-f700-4299-917c-8b20789c193a\",\"type\":\"LinearScale\"},\"y_range\":{\"id\":\"f9edece8-0dcc-4df6-a036-7377f05bcdfc\",\"type\":\"Range1d\"},\"y_scale\":{\"id\":\"c1b62358-0615-4f4b-a8c2-6f2ae26b7716\",\"type\":\"LogScale\"}},\"id\":\"8f5cc6a2-6e00-4c31-b485-fbfdd29904a3\",\"subtype\":\"Figure\",\"type\":\"Plot\"},{\"attributes\":{},\"id\":\"b909351d-acf0-4c35-a6fc-5a28ddaa4841\",\"type\":\"UnionRenderers\"},{\"attributes\":{\"line_alpha\":0.6,\"line_color\":\"#984ea3\",\"line_width\":3,\"x\":{\"field\":\"x\"},\"y\":{\"field\":\"y\"}},\"id\":\"d9b63a3c-0cf6-4547-9a38-e7dd41e7232f\",\"type\":\"Line\"},{\"attributes\":{},\"id\":\"67a7209e-48d0-406d-af85-66af0fc1a02c\",\"type\":\"Selection\"},{\"attributes\":{\"callback\":null,\"data\":{\"x\":{\"__ndarray__\":\"zcGi0OECUb8mFsqbovBQvyzJAN+UylC/1SlhNpmiUL8gTNSKK3lQv4YD41tJTlC/YpTohu8hUL973n9BJOhPv3AjbsJliU+/QqqiJJYnT7+y+r/Sr8JOv4+gvUuqWk6/p4VlSCLvTb8wK4T0HGFNv/mU50kJP0u/vPDEFnEcRr/hAKVgxK08vwtvZYSgPyG/jRfKd1GyMD+o2Jf7CxVIPy8tZqRXrFU/HR/pZ/wPYD/2HJ+sOwZiP75vuQeTLGA/nfNS9+EVWj+og4JzwltSPxghwSF1WEY/1VJJ5abxMz9+dKJuOeL1vlQecTLV5DO/Nx8TfF4wQr9nwbN3O9pJvz0iRa3AulC/ScuzWKvyVL/ONYOxouNav3h7nqwJg2G/IshPDztfZb/83Q6gpQNnv0J64BzbVma/cRsHAk/fZL+D0qd/T79iv867BHuZDmC/cv896kK7Wb8On2qwTYNSvxGCRrQ4JEW/2j6iEYX5H78orHfxo348P6/ETVfBuVA/9vwCnMu9Wj9bAsOFAo5iP0P9ca3E5Gc/jVDCvOZdbT8A9wLUUHpxP4DmDZ5rUnQ//gWmfXE1dz+UuxgRqCF6P0Gf1XSHFX0/ql2eDcMHgD86lMSC2YWBP2tW7N1OA4M/viV1DAx8hD9J3QOxwuaFPwkrPtOFN4c/7Jk/VW5qiD/a+hwxEIqJP+3BZ5Xgp4o/FuiHz6XRiz9SR/cO3wuNP/PDjBl2Uo4/yw3aOTqfjz+TCqzh93aQPw8smA9AHpE/y33s2lDEkT9Fvr3+M2mSPxmOf1ArDZM/\",\"dtype\":\"float64\",\"shape\":[75]},\"y\":{\"__ndarray__\":\"GhExyth1ND/Sv8nbtpRIP2vylNV0PVE/aTum7souWD/At0SJ8fVgPw3Iuahxymc/MSNhhJWvcD/bTfBN02d3P2zb5nxnaoA/CD5h5MAGhz8NmeH1TyaQP+zrCsc9p5Y/LbKd76fGnz/bLW5ISEmmPww9YvTcQq8/JV2OstnstT8Er5Y7M8G+P0c+r3jqkcU/5h99k6ZBzj88bCIzFzjVP4enV8oyxN0//yH99nXg5D8qOpLLf0jtP5kqGJXUifQ/c9cS8kHP/D+/DpwzojQEQIEmwoanVwxA4lgXt9HgE0BSSZ2AJuIbQAMJih9jjiNA5q4l5INuK0AwTKYKRj0zQNv5fmq8/DpAaCJseHrtQkB/+zpwzoxKQM3MzMzMeFJAZmZmZmZqWEAAAAAAAFxeQM3MzMzMJmJAmpmZmZkfZUBmZmZmZhhoQDMzMzMzEWtAAAAAAAAKbkBmZmZmZoFwQM3MzMzM/XFAMzMzMzN6c0CamZmZmfZ0QAAAAAAAc3ZAZmZmZmbvd0DNzMzMzGt5QDMzMzMz6HpAmpmZmZlkfEAAAAAAAOF9QGZmZmZmXX9AZmZmZuZsgECamZmZGSuBQM3MzMxM6YFAAAAAAICngkAzMzMzs2WDQGZmZmbmI4RAmpmZmRnihEDNzMzMTKCFQAAAAACAXoZAMzMzM7Mch0BmZmZm5tqHQJqZmZkZmYhAzczMzExXiUAAAAAAgBWKQDMzMzOz04pAZmZmZuaRi0CamZmZGVCMQM3MzMxMDo1AAAAAAIDMjUAzMzMzs4qOQGZmZmbmSI9A\",\"dtype\":\"float64\",\"shape\":[75]}},\"selected\":{\"id\":\"ae246896-a508-4830-8a8e-3d3585257d51\",\"type\":\"Selection\"},\"selection_policy\":{\"id\":\"96ca4ca0-f69f-4913-b886-e4ea8fdbdf75\",\"type\":\"UnionRenderers\"}},\"id\":\"9dad8748-bd90-4f1d-9fa5-faa45e21f2dc\",\"type\":\"ColumnDataSource\"},{\"attributes\":{},\"id\":\"b3f9fc83-7787-4395-af3a-d8719ed248b4\",\"type\":\"Selection\"},{\"attributes\":{},\"id\":\"1fa8e8a8-bd24-4fab-bfb2-8dd8e12116c3\",\"type\":\"UnionRenderers\"},{\"attributes\":{},\"id\":\"4efbcb4d-5933-4896-81cc-53cc80e76293\",\"type\":\"UnionRenderers\"},{\"attributes\":{},\"id\":\"00af032f-c33b-4705-8308-2ab5b4e15aeb\",\"type\":\"UnionRenderers\"},{\"attributes\":{\"line_alpha\":0.3,\"line_color\":\"#377eb8\",\"line_width\":2,\"x\":{\"field\":\"x\"},\"y\":{\"field\":\"y\"}},\"id\":\"e653010f-770b-4d30-89f2-b9c543b17974\",\"type\":\"Line\"},{\"attributes\":{},\"id\":\"71173ae9-dc6b-4507-8cdd-78fbdb31f94d\",\"type\":\"Selection\"},{\"attributes\":{},\"id\":\"8e574d84-8131-4291-af26-a402ebb0478b\",\"type\":\"UnionRenderers\"},{\"attributes\":{},\"id\":\"f6931a8c-0b78-41b9-a489-a31704631c8f\",\"type\":\"Selection\"},{\"attributes\":{\"tools\":[{\"id\":\"890166e6-f26b-4698-8824-58502aab59d3\",\"type\":\"PanTool\"},{\"id\":\"b3367b4e-c528-422d-a3eb-dc626228a891\",\"type\":\"WheelZoomTool\"},{\"id\":\"f83d378d-0948-450b-992d-655f370102fe\",\"type\":\"BoxZoomTool\"},{\"id\":\"5d2e2806-5299-4ee1-aa64-597efe6cd755\",\"type\":\"SaveTool\"},{\"id\":\"5d7b98aa-92c8-4689-8150-e39b7dbe6a45\",\"type\":\"ResetTool\"},{\"id\":\"6b8e011d-c5d7-441d-a48a-b74c334eb436\",\"type\":\"HelpTool\"},{\"id\":\"596c26d9-7ff6-4e82-bb11-09d75267893e\",\"type\":\"PanTool\"},{\"id\":\"6c0d008b-c850-450f-9f13-055da673d974\",\"type\":\"WheelZoomTool\"},{\"id\":\"badef553-b5c3-4fd8-b6fd-3e55d1ca1e29\",\"type\":\"BoxZoomTool\"},{\"id\":\"a8c8d53a-591f-43e9-a3f6-0546e384a3f0\",\"type\":\"SaveTool\"},{\"id\":\"810dd3fd-dc21-4879-85a9-dd2de0d212e6\",\"type\":\"ResetTool\"},{\"id\":\"bceff9a5-3f5b-4679-a370-74ee85c455f3\",\"type\":\"HelpTool\"}]},\"id\":\"16e6bbb9-940e-4f9a-9598-5b9b422f90ff\",\"type\":\"ProxyToolbar\"},{\"attributes\":{\"line_alpha\":0.1,\"line_color\":\"#1f77b4\",\"line_width\":3,\"x\":{\"field\":\"x\"},\"y\":{\"field\":\"y\"}},\"id\":\"2a01405f-d3f1-4fdb-b80e-76ac56ab33a9\",\"type\":\"Line\"},{\"attributes\":{},\"id\":\"a67ffd6a-484d-40a1-ba3e-ee36ce7d4718\",\"type\":\"UnionRenderers\"},{\"attributes\":{\"callback\":null,\"data\":{\"x\":{\"__ndarray__\":\"zcGi0OECUb8mFsqbovBQvyzJAN+UylC/1SlhNpmiUL8gTNSKK3lQv4YD41tJTlC/YpTohu8hUL973n9BJOhPv3AjbsJliU+/QqqiJJYnT7+y+r/Sr8JOv4+gvUuqWk6/p4VlSCLvTb8wK4T0HGFNv/mU50kJP0u/vPDEFnEcRr/hAKVgxK08vwtvZYSgPyG/jRfKd1GyMD+o2Jf7CxVIPy8tZqRXrFU/HR/pZ/wPYD/2HJ+sOwZiP75vuQeTLGA/nfNS9+EVWj+og4JzwltSPxghwSF1WEY/1VJJ5abxMz9+dKJuOeL1vlQecTLV5DO/Nx8TfF4wQr9nwbN3O9pJvz0iRa3AulC/ScuzWKvyVL/ONYOxouNav3h7nqwJg2G/IshPDztfZb/83Q6gpQNnv0J64BzbVma/cRsHAk/fZL+D0qd/T79iv867BHuZDmC/cv896kK7Wb8On2qwTYNSvxGCRrQ4JEW/2j6iEYX5H78orHfxo348P6/ETVfBuVA/9vwCnMu9Wj9bAsOFAo5iP0P9ca3E5Gc/jVDCvOZdbT8A9wLUUHpxP4DmDZ5rUnQ//gWmfXE1dz+UuxgRqCF6P0Gf1XSHFX0/ql2eDcMHgD86lMSC2YWBP2tW7N1OA4M/viV1DAx8hD9J3QOxwuaFPwkrPtOFN4c/7Jk/VW5qiD/a+hwxEIqJP+3BZ5Xgp4o/FuiHz6XRiz9SR/cO3wuNP/PDjBl2Uo4/yw3aOTqfjz+TCqzh93aQPw8smA9AHpE/y33s2lDEkT9Fvr3+M2mSPxmOf1ArDZM/\",\"dtype\":\"float64\",\"shape\":[75]},\"y\":{\"__ndarray__\":\"GhExyth1ND/Sv8nbtpRIP2vylNV0PVE/aTum7souWD/At0SJ8fVgPw3Iuahxymc/MSNhhJWvcD/bTfBN02d3P2zb5nxnaoA/CD5h5MAGhz8NmeH1TyaQP+zrCsc9p5Y/LbKd76fGnz/bLW5ISEmmPww9YvTcQq8/JV2OstnstT8Er5Y7M8G+P0c+r3jqkcU/5h99k6ZBzj88bCIzFzjVP4enV8oyxN0//yH99nXg5D8qOpLLf0jtP5kqGJXUifQ/c9cS8kHP/D+/DpwzojQEQIEmwoanVwxA4lgXt9HgE0BSSZ2AJuIbQAMJih9jjiNA5q4l5INuK0AwTKYKRj0zQNv5fmq8/DpAaCJseHrtQkB/+zpwzoxKQM3MzMzMeFJAZmZmZmZqWEAAAAAAAFxeQM3MzMzMJmJAmpmZmZkfZUBmZmZmZhhoQDMzMzMzEWtAAAAAAAAKbkBmZmZmZoFwQM3MzMzM/XFAMzMzMzN6c0CamZmZmfZ0QAAAAAAAc3ZAZmZmZmbvd0DNzMzMzGt5QDMzMzMz6HpAmpmZmZlkfEAAAAAAAOF9QGZmZmZmXX9AZmZmZuZsgECamZmZGSuBQM3MzMxM6YFAAAAAAICngkAzMzMzs2WDQGZmZmbmI4RAmpmZmRnihEDNzMzMTKCFQAAAAACAXoZAMzMzM7Mch0BmZmZm5tqHQJqZmZkZmYhAzczMzExXiUAAAAAAgBWKQDMzMzOz04pAZmZmZuaRi0CamZmZGVCMQM3MzMxMDo1AAAAAAIDMjUAzMzMzs4qOQGZmZmbmSI9A\",\"dtype\":\"float64\",\"shape\":[75]}},\"selected\":{\"id\":\"b9c28c8c-7489-48d5-a6f7-6c86feb81779\",\"type\":\"Selection\"},\"selection_policy\":{\"id\":\"e5fec00a-9136-43ff-9f3b-a6b78d245bd4\",\"type\":\"UnionRenderers\"}},\"id\":\"955f5dee-fffe-4892-ab53-ba10eb090bec\",\"type\":\"ColumnDataSource\"},{\"attributes\":{\"fill_alpha\":{\"value\":0.1},\"fill_color\":{\"value\":\"#1f77b4\"},\"line_alpha\":{\"value\":0.1},\"line_color\":{\"value\":\"#1f77b4\"},\"x\":{\"field\":\"x\"},\"y\":{\"field\":\"y\"}},\"id\":\"6a290e18-d4f6-49ac-ae52-806f3c3cba4f\",\"type\":\"Square\"},{\"attributes\":{},\"id\":\"94251fdd-3d94-42ef-8491-0f75e1c72782\",\"type\":\"UnionRenderers\"},{\"attributes\":{\"line_alpha\":0.1,\"line_color\":\"#1f77b4\",\"line_width\":1.5,\"x\":{\"field\":\"x\"},\"y\":{\"field\":\"y\"}},\"id\":\"e237d0f9-f713-44da-9aec-5e2dc5d70bf7\",\"type\":\"Line\"},{\"attributes\":{\"source\":{\"id\":\"fb496af9-0dd8-46d3-a465-a52526c2805a\",\"type\":\"ColumnDataSource\"}},\"id\":\"7291a05d-dd54-4439-a786-e97f13b4a32c\",\"type\":\"CDSView\"},{\"attributes\":{},\"id\":\"95649ace-dfdc-48c3-abad-d5f76c78e9c5\",\"type\":\"Selection\"},{\"attributes\":{\"children\":[{\"id\":\"d0442eed-5e1e-47eb-a4f7-21e529ad05f7\",\"type\":\"ToolbarBox\"},{\"id\":\"2389cdc4-270d-4f7c-9cc7-603a37de408d\",\"type\":\"Column\"}]},\"id\":\"8b2989e3-45a0-4994-9e9d-faefb7788aae\",\"type\":\"Column\"},{\"attributes\":{\"data_source\":{\"id\":\"9dad8748-bd90-4f1d-9fa5-faa45e21f2dc\",\"type\":\"ColumnDataSource\"},\"glyph\":{\"id\":\"d046b724-61bd-4d13-8359-5bf17a39ac50\",\"type\":\"Triangle\"},\"hover_glyph\":null,\"muted_glyph\":null,\"nonselection_glyph\":{\"id\":\"fef8beaa-780a-4371-9515-456db163b140\",\"type\":\"Triangle\"},\"selection_glyph\":null,\"view\":{\"id\":\"76b32d71-ca40-4486-812c-27f17574126c\",\"type\":\"CDSView\"}},\"id\":\"d3266273-4e4f-4145-88a3-ad54f629eaaf\",\"type\":\"GlyphRenderer\"},{\"attributes\":{\"fill_alpha\":{\"value\":0.7},\"fill_color\":{\"value\":\"#377eb8\"},\"line_alpha\":{\"value\":0.7},\"line_color\":{\"value\":\"#377eb8\"},\"x\":{\"field\":\"x\"},\"y\":{\"field\":\"y\"}},\"id\":\"d046b724-61bd-4d13-8359-5bf17a39ac50\",\"type\":\"Triangle\"},{\"attributes\":{\"source\":{\"id\":\"9dad8748-bd90-4f1d-9fa5-faa45e21f2dc\",\"type\":\"ColumnDataSource\"}},\"id\":\"76b32d71-ca40-4486-812c-27f17574126c\",\"type\":\"CDSView\"},{\"attributes\":{\"data_source\":{\"id\":\"955f5dee-fffe-4892-ab53-ba10eb090bec\",\"type\":\"ColumnDataSource\"},\"glyph\":{\"id\":\"e653010f-770b-4d30-89f2-b9c543b17974\",\"type\":\"Line\"},\"hover_glyph\":null,\"muted_glyph\":null,\"nonselection_glyph\":{\"id\":\"f1a074db-2710-418f-b09c-e5759a03a9b3\",\"type\":\"Line\"},\"selection_glyph\":null,\"view\":{\"id\":\"22aa2845-24f0-4776-898e-f8fa3f11dc01\",\"type\":\"CDSView\"}},\"id\":\"8201312a-01d2-437d-8da3-8df762a97772\",\"type\":\"GlyphRenderer\"},{\"attributes\":{\"fill_alpha\":{\"value\":0.1},\"fill_color\":{\"value\":\"#1f77b4\"},\"line_alpha\":{\"value\":0.1},\"line_color\":{\"value\":\"#1f77b4\"},\"x\":{\"field\":\"x\"},\"y\":{\"field\":\"y\"}},\"id\":\"fef8beaa-780a-4371-9515-456db163b140\",\"type\":\"Triangle\"},{\"attributes\":{},\"id\":\"7d380ac0-6eac-47e6-9421-7eba7c6cb604\",\"type\":\"UnionRenderers\"},{\"attributes\":{\"data_source\":{\"id\":\"ff45b4b9-86bd-42c6-8d68-683d16907a98\",\"type\":\"ColumnDataSource\"},\"glyph\":{\"id\":\"7118ee9d-719e-4e0c-9206-23ac2560f28e\",\"type\":\"Square\"},\"hover_glyph\":null,\"muted_glyph\":null,\"nonselection_glyph\":{\"id\":\"6a290e18-d4f6-49ac-ae52-806f3c3cba4f\",\"type\":\"Square\"},\"selection_glyph\":null,\"view\":{\"id\":\"6b3f729b-3cc1-4a44-b7d8-1f501cb3af24\",\"type\":\"CDSView\"}},\"id\":\"a7a062f0-10d4-47d9-86f6-56d683e005f2\",\"type\":\"GlyphRenderer\"},{\"attributes\":{\"callback\":null,\"data\":{\"x\":{\"__ndarray__\":\"z414kGgLUr+BktsemPZRvw9HWTM5y1G/Oru3TbGdUb/RyU98jm5Rv9rW9djNPVG/jkeXoWsLUb+B7aQqW9dQv4LHBVCdoVC/977+TStqUL/BWPaeATFQv664Eck17E+/GzBCXn1yT78dVFhX1dFOv6PiamxTaUy/U9GLGPuhRr9oetU/ktY7v4Njt1gMphW/Q+s1DXrYNj/sg3ba5/NMP+DhSVWSMVk/v3Lhod9nYj/bsFUiCpZkP1vmWE08iGI/uaa8duIbXj9XUOsS4oVVP9kZCZ/oEUs/RIN4AJ+eOj+MZTtsUFsHP/T3oDrTtjG/mXGdiW8HQr9miaTt4IFKvwCyLU43c1G/nZeuCtIYVr++JbqXTZpcv0Ol+t+kwWK/z2/aO0PyZr9sw2lI6rJov5vePFMz3We/IwdFIzosZr+z2dmbzd9jv50rNiXaB2G/Qwd2X0LDWr/3JxTJJ8lSv3rhyDJ5HES/56e8DSwUEb9pa3MCWKpBP+ezV/bYalM/DO8MeLRIXj/wPz1rs4BkP0zePHHSVmo/YzgG/BQicD9zdbwUIhFzP1gj00quFXY/h09gWAM2eT8s4LsYhUd8P5jh+lH/Yn8/d4uIroBMgT8aRrhHutiCP8ibps3EbYQ/gP/jDfsAhj9Trv1YGXGHP1INIQVU2og/jY6uSewXij8gEmr4qTmLP/tqZ8gTaYw/BwNvS1uRjT8LBSB53d6OP9f/femUF5A/Qx9SKubCkD+MrC0jknSRP8VuZarcG5I/lyWkr8zNkj+5L3TgLXSTP18GHG8WIpQ/\",\"dtype\":\"float64\",\"shape\":[75]},\"y\":{\"__ndarray__\":\"GhExyth1ND/Sv8nbtpRIP2vylNV0PVE/aTum7souWD/At0SJ8fVgPw3Iuahxymc/MSNhhJWvcD/bTfBN02d3P2zb5nxnaoA/CD5h5MAGhz8NmeH1TyaQP+zrCsc9p5Y/LbKd76fGnz/bLW5ISEmmPww9YvTcQq8/JV2OstnstT8Er5Y7M8G+P0c+r3jqkcU/5h99k6ZBzj88bCIzFzjVP4enV8oyxN0//yH99nXg5D8qOpLLf0jtP5kqGJXUifQ/c9cS8kHP/D+/DpwzojQEQIEmwoanVwxA4lgXt9HgE0BSSZ2AJuIbQAMJih9jjiNA5q4l5INuK0AwTKYKRj0zQNv5fmq8/DpAaCJseHrtQkB/+zpwzoxKQM3MzMzMeFJAZmZmZmZqWEAAAAAAAFxeQM3MzMzMJmJAmpmZmZkfZUBmZmZmZhhoQDMzMzMzEWtAAAAAAAAKbkBmZmZmZoFwQM3MzMzM/XFAMzMzMzN6c0CamZmZmfZ0QAAAAAAAc3ZAZmZmZmbvd0DNzMzMzGt5QDMzMzMz6HpAmpmZmZlkfEAAAAAAAOF9QGZmZmZmXX9AZmZmZuZsgECamZmZGSuBQM3MzMxM6YFAAAAAAICngkAzMzMzs2WDQGZmZmbmI4RAmpmZmRnihEDNzMzMTKCFQAAAAACAXoZAMzMzM7Mch0BmZmZm5tqHQJqZmZkZmYhAzczMzExXiUAAAAAAgBWKQDMzMzOz04pAZmZmZuaRi0CamZmZGVCMQM3MzMxMDo1AAAAAAIDMjUAzMzMzs4qOQGZmZmbmSI9A\",\"dtype\":\"float64\",\"shape\":[75]}},\"selected\":{\"id\":\"9f0e6912-3015-4cea-800d-730ede81fc50\",\"type\":\"Selection\"},\"selection_policy\":{\"id\":\"b909351d-acf0-4c35-a6fc-5a28ddaa4841\",\"type\":\"UnionRenderers\"}},\"id\":\"a55a9426-fcec-4a5e-a21a-fe6d538d1b9b\",\"type\":\"ColumnDataSource\"},{\"attributes\":{\"source\":{\"id\":\"ff45b4b9-86bd-42c6-8d68-683d16907a98\",\"type\":\"ColumnDataSource\"}},\"id\":\"6b3f729b-3cc1-4a44-b7d8-1f501cb3af24\",\"type\":\"CDSView\"},{\"attributes\":{\"fill_alpha\":{\"value\":0.1},\"fill_color\":{\"value\":\"#1f77b4\"},\"line_alpha\":{\"value\":0.1},\"line_color\":{\"value\":\"#1f77b4\"},\"x\":{\"field\":\"x\"},\"y\":{\"field\":\"y\"}},\"id\":\"e99aedef-4cc1-4db3-9cbf-b6c12c049f4a\",\"type\":\"Square\"},{\"attributes\":{\"source\":{\"id\":\"68cf887f-2dd4-4d59-827b-72b7f0e7fc4c\",\"type\":\"ColumnDataSource\"}},\"id\":\"d8119992-5c67-4e53-b9ac-3d0feeb3622c\",\"type\":\"CDSView\"},{\"attributes\":{\"line_alpha\":0.1,\"line_color\":\"#1f77b4\",\"line_width\":2,\"x\":{\"field\":\"x\"},\"y\":{\"field\":\"y\"}},\"id\":\"f1a074db-2710-418f-b09c-e5759a03a9b3\",\"type\":\"Line\"},{\"attributes\":{\"source\":{\"id\":\"955f5dee-fffe-4892-ab53-ba10eb090bec\",\"type\":\"ColumnDataSource\"}},\"id\":\"22aa2845-24f0-4776-898e-f8fa3f11dc01\",\"type\":\"CDSView\"},{\"attributes\":{\"active_drag\":\"auto\",\"active_inspect\":\"auto\",\"active_scroll\":\"auto\",\"active_tap\":\"auto\",\"tools\":[{\"id\":\"596c26d9-7ff6-4e82-bb11-09d75267893e\",\"type\":\"PanTool\"},{\"id\":\"6c0d008b-c850-450f-9f13-055da673d974\",\"type\":\"WheelZoomTool\"},{\"id\":\"badef553-b5c3-4fd8-b6fd-3e55d1ca1e29\",\"type\":\"BoxZoomTool\"},{\"id\":\"a8c8d53a-591f-43e9-a3f6-0546e384a3f0\",\"type\":\"SaveTool\"},{\"id\":\"810dd3fd-dc21-4879-85a9-dd2de0d212e6\",\"type\":\"ResetTool\"},{\"id\":\"bceff9a5-3f5b-4679-a370-74ee85c455f3\",\"type\":\"HelpTool\"}]},\"id\":\"084bcaa3-adeb-4573-9d42-874d8ef71142\",\"type\":\"Toolbar\"},{\"attributes\":{\"label\":{\"value\":\"CRD\"},\"renderers\":[{\"id\":\"7f6dd4cc-b241-4952-9cb7-d16489d94959\",\"type\":\"GlyphRenderer\"},{\"id\":\"b96018cd-117d-47a5-9797-f3b09a44478d\",\"type\":\"GlyphRenderer\"}]},\"id\":\"85959318-f7e6-4239-974e-49ba296531f4\",\"type\":\"LegendItem\"},{\"attributes\":{\"callback\":null,\"end\":0.0031110219890000002,\"start\":-0.0031669442890000002},\"id\":\"f649a9e0-af76-47fe-b505-d173822b4413\",\"type\":\"Range1d\"},{\"attributes\":{\"data_source\":{\"id\":\"a55a9426-fcec-4a5e-a21a-fe6d538d1b9b\",\"type\":\"ColumnDataSource\"},\"glyph\":{\"id\":\"18aa5789-f78a-419e-9c65-5fcc4a9d15d5\",\"type\":\"Square\"},\"hover_glyph\":null,\"muted_glyph\":null,\"nonselection_glyph\":{\"id\":\"e99aedef-4cc1-4db3-9cbf-b6c12c049f4a\",\"type\":\"Square\"},\"selection_glyph\":null,\"view\":{\"id\":\"a5b4bcf1-0768-4eba-8422-58cc2e6f80e2\",\"type\":\"CDSView\"}},\"id\":\"5c0e82a7-e770-40b5-9909-ef256122c6c2\",\"type\":\"GlyphRenderer\"},{\"attributes\":{\"label\":{\"value\":\"WGT igg=1\"},\"renderers\":[{\"id\":\"a7a062f0-10d4-47d9-86f6-56d683e005f2\",\"type\":\"GlyphRenderer\"},{\"id\":\"aee8624e-186d-47f7-9128-3660175974ec\",\"type\":\"GlyphRenderer\"}]},\"id\":\"f678258e-fde8-44ee-975a-7bb1baad3b29\",\"type\":\"LegendItem\"},{\"attributes\":{},\"id\":\"4d9f5dee-f700-4299-917c-8b20789c193a\",\"type\":\"LinearScale\"},{\"attributes\":{\"source\":{\"id\":\"ed7d0513-b690-4b6b-a373-2448bbbb9985\",\"type\":\"ColumnDataSource\"}},\"id\":\"aa67a58d-e85e-4b11-83ca-574e5e1fd82b\",\"type\":\"CDSView\"},{\"attributes\":{\"label\":{\"value\":\"WGT igg=10\"},\"renderers\":[{\"id\":\"d3266273-4e4f-4145-88a3-ad54f629eaaf\",\"type\":\"GlyphRenderer\"},{\"id\":\"8201312a-01d2-437d-8da3-8df762a97772\",\"type\":\"GlyphRenderer\"}]},\"id\":\"065ec566-9ed5-47a5-afa0-790720818318\",\"type\":\"LegendItem\"},{\"attributes\":{\"line_alpha\":0.6,\"line_color\":\"#984ea3\",\"line_width\":3,\"x\":{\"field\":\"x\"},\"y\":{\"field\":\"y\"}},\"id\":\"226834ad-b8d4-4fb4-b859-eeadfae4dea6\",\"type\":\"Line\"},{\"attributes\":{\"bottom_units\":\"screen\",\"fill_alpha\":{\"value\":0.5},\"fill_color\":{\"value\":\"lightgrey\"},\"left_units\":\"screen\",\"level\":\"overlay\",\"line_alpha\":{\"value\":1.0},\"line_color\":{\"value\":\"black\"},\"line_dash\":[4,4],\"line_width\":{\"value\":2},\"plot\":null,\"render_mode\":\"css\",\"right_units\":\"screen\",\"top_units\":\"screen\"},\"id\":\"a691d2cb-7d6c-4e47-927a-a3dde2dafe86\",\"type\":\"BoxAnnotation\"},{\"attributes\":{\"line_alpha\":0.1,\"line_color\":\"#1f77b4\",\"line_width\":3,\"x\":{\"field\":\"x\"},\"y\":{\"field\":\"y\"}},\"id\":\"a5227210-b93d-45bd-8c5d-a7181866a369\",\"type\":\"Line\"},{\"attributes\":{\"items\":[{\"id\":\"3aff6f0a-86c2-4922-9f08-7a720da4c482\",\"type\":\"LegendItem\"},{\"id\":\"10bdc56d-3a26-4f28-b58c-3f0e9019b789\",\"type\":\"LegendItem\"},{\"id\":\"1dfaad33-5ad0-43b7-b951-abf0c1515207\",\"type\":\"LegendItem\"}],\"label_text_font_size\":{\"value\":\"8pt\"},\"location\":\"top_center\",\"orientation\":\"horizontal\",\"plot\":{\"id\":\"8f5cc6a2-6e00-4c31-b485-fbfdd29904a3\",\"subtype\":\"Figure\",\"type\":\"Plot\"}},\"id\":\"32424e1a-0269-48f5-b3ab-16581f8c0424\",\"type\":\"Legend\"},{\"attributes\":{\"line_alpha\":0.1,\"line_color\":\"#1f77b4\",\"line_width\":2,\"x\":{\"field\":\"x\"},\"y\":{\"field\":\"y\"}},\"id\":\"f06aff39-2154-4603-a82a-5490f2fbee6b\",\"type\":\"Line\"},{\"attributes\":{\"overlay\":{\"id\":\"a691d2cb-7d6c-4e47-927a-a3dde2dafe86\",\"type\":\"BoxAnnotation\"}},\"id\":\"badef553-b5c3-4fd8-b6fd-3e55d1ca1e29\",\"type\":\"BoxZoomTool\"},{\"attributes\":{\"source\":{\"id\":\"a55a9426-fcec-4a5e-a21a-fe6d538d1b9b\",\"type\":\"ColumnDataSource\"}},\"id\":\"a5b4bcf1-0768-4eba-8422-58cc2e6f80e2\",\"type\":\"CDSView\"},{\"attributes\":{},\"id\":\"c1b62358-0615-4f4b-a8c2-6f2ae26b7716\",\"type\":\"LogScale\"},{\"attributes\":{\"source\":{\"id\":\"67cf3e3c-d67d-4714-a55a-722f9b9a0080\",\"type\":\"ColumnDataSource\"}},\"id\":\"cde46f94-dbeb-44ed-884a-dfe9a40319f1\",\"type\":\"CDSView\"},{\"attributes\":{\"axis_label\":\"cooling rate [K/day]\",\"formatter\":{\"id\":\"0e68a380-a13a-4bfe-80e3-767e5661f8d3\",\"type\":\"BasicTickFormatter\"},\"plot\":{\"id\":\"8f5cc6a2-6e00-4c31-b485-fbfdd29904a3\",\"subtype\":\"Figure\",\"type\":\"Plot\"},\"ticker\":{\"id\":\"e4e83d5a-630e-4f5a-9f38-273de04d461c\",\"type\":\"BasicTicker\"}},\"id\":\"22956177-dd1d-44e5-bf9f-05ac40d12d35\",\"type\":\"LinearAxis\"},{\"attributes\":{},\"id\":\"e4e83d5a-630e-4f5a-9f38-273de04d461c\",\"type\":\"BasicTicker\"},{\"attributes\":{},\"id\":\"6c0d008b-c850-450f-9f13-055da673d974\",\"type\":\"WheelZoomTool\"},{\"attributes\":{},\"id\":\"a8c8d53a-591f-43e9-a3f6-0546e384a3f0\",\"type\":\"SaveTool\"},{\"attributes\":{\"callback\":null,\"data\":{\"x\":{\"__ndarray__\":\"3DYzyphaTb+NKxEqAylNv+rnvw9MwEy/LHgfBAZTTL9++eC/XuJLvxCKP51ubku/rcxSce72Sr+4ERWYF3xKvy4IvQ2D/Um/tmbr0ap7Sb/0zSUE1vVIv+GhINQYbEi/Ko/KYt3eR79/9g/sQyRHv5Ni1uUfXUS/Zf+c3vCRO782ZbaMqBggv9L2aKuOvzA/ysBmi9XcRz9KpbLBdnJVPw/jdu+2gGA/bjYZ/4W4Zj+OKP6CNftoPykS4+P5pmY/z6KYOMnBYj8eG9idO/BbP07rULPiAFM/fNnxHaWJRj9bS/XYW10yP+zDv1fhhBO/8QMSwqaHOb+AnveBuFBGv8nk7Z5juU+/gDCwCvQCVb94dqdqYy1cv5tqp5Jz9WK/loNlHMaMZ7/1a2GRfHBpv6eaWQLikmi/3Dr54RnVZr9Pqwketl9kv+/Gnzz1TmG/jXBPoilsW79yDw7h1FpTv+ZSeS73E0W/bYhdONlIEb8Q/uFUnt1BPwbwcm8HbFM/CvbNqPpPXj8U53dFqMVkPxT4XzeAiGo/19nOB6Q1cD95zvYmljRzP+NDgADPPnY/xZ3+r5tSeT8NR0NOJ258P7cvWNQdkH8/6JZolF9bgT9VidY07e6CP9JSxckHgYQ/l+ccl8wMhj9M6gF8goeHP2evJYFZ44g/iJLLqsgbij/JyK3XYT2LP/Ups4CKXIw/K/Vf+YmJjT8R8oajx8mOP0w1fqQyDJA/Bcbt3CO3kD/GAicnT2ORPz1jpod9D5I/mB25oIS6kj8yApe4b2STP7ciJ8+ZDZQ/\",\"dtype\":\"float64\",\"shape\":[75]},\"y\":{\"__ndarray__\":\"GhExyth1ND/Sv8nbtpRIP2vylNV0PVE/aTum7souWD/At0SJ8fVgPw3Iuahxymc/MSNhhJWvcD/bTfBN02d3P2zb5nxnaoA/CD5h5MAGhz8NmeH1TyaQP+zrCsc9p5Y/LbKd76fGnz/bLW5ISEmmPww9YvTcQq8/JV2OstnstT8Er5Y7M8G+P0c+r3jqkcU/5h99k6ZBzj88bCIzFzjVP4enV8oyxN0//yH99nXg5D8qOpLLf0jtP5kqGJXUifQ/c9cS8kHP/D+/DpwzojQEQIEmwoanVwxA4lgXt9HgE0BSSZ2AJuIbQAMJih9jjiNA5q4l5INuK0AwTKYKRj0zQNv5fmq8/DpAaCJseHrtQkB/+zpwzoxKQM3MzMzMeFJAZmZmZmZqWEAAAAAAAFxeQM3MzMzMJmJAmpmZmZkfZUBmZmZmZhhoQDMzMzMzEWtAAAAAAAAKbkBmZmZmZoFwQM3MzMzM/XFAMzMzMzN6c0CamZmZmfZ0QAAAAAAAc3ZAZmZmZmbvd0DNzMzMzGt5QDMzMzMz6HpAmpmZmZlkfEAAAAAAAOF9QGZmZmZmXX9AZmZmZuZsgECamZmZGSuBQM3MzMxM6YFAAAAAAICngkAzMzMzs2WDQGZmZmbmI4RAmpmZmRnihEDNzMzMTKCFQAAAAACAXoZAMzMzM7Mch0BmZmZm5tqHQJqZmZkZmYhAzczMzExXiUAAAAAAgBWKQDMzMzOz04pAZmZmZuaRi0CamZmZGVCMQM3MzMxMDo1AAAAAAIDMjUAzMzMzs4qOQGZmZmbmSI9A\",\"dtype\":\"float64\",\"shape\":[75]}},\"selected\":{\"id\":\"67a7209e-48d0-406d-af85-66af0fc1a02c\",\"type\":\"Selection\"},\"selection_policy\":{\"id\":\"4efbcb4d-5933-4896-81cc-53cc80e76293\",\"type\":\"UnionRenderers\"}},\"id\":\"ed7d0513-b690-4b6b-a373-2448bbbb9985\",\"type\":\"ColumnDataSource\"},{\"attributes\":{},\"id\":\"810dd3fd-dc21-4879-85a9-dd2de0d212e6\",\"type\":\"ResetTool\"},{\"attributes\":{},\"id\":\"bceff9a5-3f5b-4679-a370-74ee85c455f3\",\"type\":\"HelpTool\"},{\"attributes\":{\"line_alpha\":0.1,\"line_color\":\"#1f77b4\",\"line_width\":1.5,\"x\":{\"field\":\"x\"},\"y\":{\"field\":\"y\"}},\"id\":\"442f1cec-685d-4893-9b2e-1978571883ef\",\"type\":\"Line\"},{\"attributes\":{\"data_source\":{\"id\":\"67cf3e3c-d67d-4714-a55a-722f9b9a0080\",\"type\":\"ColumnDataSource\"},\"glyph\":{\"id\":\"226834ad-b8d4-4fb4-b859-eeadfae4dea6\",\"type\":\"Line\"},\"hover_glyph\":null,\"muted_glyph\":null,\"nonselection_glyph\":{\"id\":\"a5227210-b93d-45bd-8c5d-a7181866a369\",\"type\":\"Line\"},\"selection_glyph\":null,\"view\":{\"id\":\"cde46f94-dbeb-44ed-884a-dfe9a40319f1\",\"type\":\"CDSView\"}},\"id\":\"ee22d973-cb1c-4471-9bdf-27cd9900754c\",\"type\":\"GlyphRenderer\"},{\"attributes\":{\"data_source\":{\"id\":\"ed7d0513-b690-4b6b-a373-2448bbbb9985\",\"type\":\"ColumnDataSource\"},\"glyph\":{\"id\":\"9d0c2423-60e2-4e94-8619-ed6452b4e708\",\"type\":\"Line\"},\"hover_glyph\":null,\"muted_glyph\":null,\"nonselection_glyph\":{\"id\":\"442f1cec-685d-4893-9b2e-1978571883ef\",\"type\":\"Line\"},\"selection_glyph\":null,\"view\":{\"id\":\"aa67a58d-e85e-4b11-83ca-574e5e1fd82b\",\"type\":\"CDSView\"}},\"id\":\"99e01b6b-1b8e-41ab-923d-b7de3c98cd3a\",\"type\":\"GlyphRenderer\"},{\"attributes\":{\"callback\":null,\"data\":{\"x\":{\"__ndarray__\":\"zcGi0OECUb8mFsqbovBQvyzJAN+UylC/1SlhNpmiUL8gTNSKK3lQv4YD41tJTlC/YpTohu8hUL973n9BJOhPv3AjbsJliU+/QqqiJJYnT7+y+r/Sr8JOv4+gvUuqWk6/p4VlSCLvTb8wK4T0HGFNv/mU50kJP0u/vPDEFnEcRr/hAKVgxK08vwtvZYSgPyG/jRfKd1GyMD+o2Jf7CxVIPy8tZqRXrFU/HR/pZ/wPYD/2HJ+sOwZiP75vuQeTLGA/nfNS9+EVWj+og4JzwltSPxghwSF1WEY/1VJJ5abxMz9+dKJuOeL1vlQecTLV5DO/Nx8TfF4wQr9nwbN3O9pJvz0iRa3AulC/ScuzWKvyVL/ONYOxouNav3h7nqwJg2G/IshPDztfZb/83Q6gpQNnv0J64BzbVma/cRsHAk/fZL+D0qd/T79iv867BHuZDmC/cv896kK7Wb8On2qwTYNSvxGCRrQ4JEW/2j6iEYX5H78orHfxo348P6/ETVfBuVA/9vwCnMu9Wj9bAsOFAo5iP0P9ca3E5Gc/jVDCvOZdbT8A9wLUUHpxP4DmDZ5rUnQ//gWmfXE1dz+UuxgRqCF6P0Gf1XSHFX0/ql2eDcMHgD86lMSC2YWBP2tW7N1OA4M/viV1DAx8hD9J3QOxwuaFPwkrPtOFN4c/7Jk/VW5qiD/a+hwxEIqJP+3BZ5Xgp4o/FuiHz6XRiz9SR/cO3wuNP/PDjBl2Uo4/yw3aOTqfjz+TCqzh93aQPw8smA9AHpE/y33s2lDEkT9Fvr3+M2mSPxmOf1ArDZM/\",\"dtype\":\"float64\",\"shape\":[75]},\"y\":{\"__ndarray__\":\"GhExyth1ND/Sv8nbtpRIP2vylNV0PVE/aTum7souWD/At0SJ8fVgPw3Iuahxymc/MSNhhJWvcD/bTfBN02d3P2zb5nxnaoA/CD5h5MAGhz8NmeH1TyaQP+zrCsc9p5Y/LbKd76fGnz/bLW5ISEmmPww9YvTcQq8/JV2OstnstT8Er5Y7M8G+P0c+r3jqkcU/5h99k6ZBzj88bCIzFzjVP4enV8oyxN0//yH99nXg5D8qOpLLf0jtP5kqGJXUifQ/c9cS8kHP/D+/DpwzojQEQIEmwoanVwxA4lgXt9HgE0BSSZ2AJuIbQAMJih9jjiNA5q4l5INuK0AwTKYKRj0zQNv5fmq8/DpAaCJseHrtQkB/+zpwzoxKQM3MzMzMeFJAZmZmZmZqWEAAAAAAAFxeQM3MzMzMJmJAmpmZmZkfZUBmZmZmZhhoQDMzMzMzEWtAAAAAAAAKbkBmZmZmZoFwQM3MzMzM/XFAMzMzMzN6c0CamZmZmfZ0QAAAAAAAc3ZAZmZmZmbvd0DNzMzMzGt5QDMzMzMz6HpAmpmZmZlkfEAAAAAAAOF9QGZmZmZmXX9AZmZmZuZsgECamZmZGSuBQM3MzMxM6YFAAAAAAICngkAzMzMzs2WDQGZmZmbmI4RAmpmZmRnihEDNzMzMTKCFQAAAAACAXoZAMzMzM7Mch0BmZmZm5tqHQJqZmZkZmYhAzczMzExXiUAAAAAAgBWKQDMzMzOz04pAZmZmZuaRi0CamZmZGVCMQM3MzMxMDo1AAAAAAIDMjUAzMzMzs4qOQGZmZmbmSI9A\",\"dtype\":\"float64\",\"shape\":[75]}},\"selected\":{\"id\":\"71173ae9-dc6b-4507-8cdd-78fbdb31f94d\",\"type\":\"Selection\"},\"selection_policy\":{\"id\":\"00af032f-c33b-4705-8308-2ab5b4e15aeb\",\"type\":\"UnionRenderers\"}},\"id\":\"22d54c2c-80a0-4151-a4ca-1a6859a0d13d\",\"type\":\"ColumnDataSource\"},{\"attributes\":{},\"id\":\"3055803f-862e-4675-8d21-5ad4f89c0d98\",\"type\":\"Selection\"},{\"attributes\":{\"fill_alpha\":{\"value\":0.7},\"fill_color\":{\"value\":\"#377eb8\"},\"line_alpha\":{\"value\":0.7},\"line_color\":{\"value\":\"#377eb8\"},\"x\":{\"field\":\"x\"},\"y\":{\"field\":\"y\"}},\"id\":\"15443841-985f-4f40-9117-d205486982a3\",\"type\":\"Triangle\"},{\"attributes\":{\"callback\":null,\"data\":{\"x\":{\"__ndarray__\":\"zcGi0OECUb8mFsqbovBQvyzJAN+UylC/1SlhNpmiUL8gTNSKK3lQv4YD41tJTlC/YpTohu8hUL973n9BJOhPv3AjbsJliU+/QqqiJJYnT7+y+r/Sr8JOv4+gvUuqWk6/p4VlSCLvTb8wK4T0HGFNv/mU50kJP0u/vPDEFnEcRr/hAKVgxK08vwtvZYSgPyG/jRfKd1GyMD+o2Jf7CxVIPy8tZqRXrFU/HR/pZ/wPYD/2HJ+sOwZiP75vuQeTLGA/nfNS9+EVWj+og4JzwltSPxghwSF1WEY/1VJJ5abxMz9+dKJuOeL1vlQecTLV5DO/Nx8TfF4wQr9nwbN3O9pJvz0iRa3AulC/ScuzWKvyVL/ONYOxouNav3h7nqwJg2G/IshPDztfZb/83Q6gpQNnv0J64BzbVma/cRsHAk/fZL+D0qd/T79iv867BHuZDmC/cv896kK7Wb8On2qwTYNSvxGCRrQ4JEW/2j6iEYX5H78orHfxo348P6/ETVfBuVA/9vwCnMu9Wj9bAsOFAo5iP0P9ca3E5Gc/jVDCvOZdbT8A9wLUUHpxP4DmDZ5rUnQ//gWmfXE1dz+UuxgRqCF6P0Gf1XSHFX0/ql2eDcMHgD86lMSC2YWBP2tW7N1OA4M/viV1DAx8hD9J3QOxwuaFPwkrPtOFN4c/7Jk/VW5qiD/a+hwxEIqJP+3BZ5Xgp4o/FuiHz6XRiz9SR/cO3wuNP/PDjBl2Uo4/yw3aOTqfjz+TCqzh93aQPw8smA9AHpE/y33s2lDEkT9Fvr3+M2mSPxmOf1ArDZM/\",\"dtype\":\"float64\",\"shape\":[75]},\"y\":{\"__ndarray__\":\"GhExyth1ND/Sv8nbtpRIP2vylNV0PVE/aTum7souWD/At0SJ8fVgPw3Iuahxymc/MSNhhJWvcD/bTfBN02d3P2zb5nxnaoA/CD5h5MAGhz8NmeH1TyaQP+zrCsc9p5Y/LbKd76fGnz/bLW5ISEmmPww9YvTcQq8/JV2OstnstT8Er5Y7M8G+P0c+r3jqkcU/5h99k6ZBzj88bCIzFzjVP4enV8oyxN0//yH99nXg5D8qOpLLf0jtP5kqGJXUifQ/c9cS8kHP/D+/DpwzojQEQIEmwoanVwxA4lgXt9HgE0BSSZ2AJuIbQAMJih9jjiNA5q4l5INuK0AwTKYKRj0zQNv5fmq8/DpAaCJseHrtQkB/+zpwzoxKQM3MzMzMeFJAZmZmZmZqWEAAAAAAAFxeQM3MzMzMJmJAmpmZmZkfZUBmZmZmZhhoQDMzMzMzEWtAAAAAAAAKbkBmZmZmZoFwQM3MzMzM/XFAMzMzMzN6c0CamZmZmfZ0QAAAAAAAc3ZAZmZmZmbvd0DNzMzMzGt5QDMzMzMz6HpAmpmZmZlkfEAAAAAAAOF9QGZmZmZmXX9AZmZmZuZsgECamZmZGSuBQM3MzMxM6YFAAAAAAICngkAzMzMzs2WDQGZmZmbmI4RAmpmZmRnihEDNzMzMTKCFQAAAAACAXoZAMzMzM7Mch0BmZmZm5tqHQJqZmZkZmYhAzczMzExXiUAAAAAAgBWKQDMzMzOz04pAZmZmZuaRi0CamZmZGVCMQM3MzMxMDo1AAAAAAIDMjUAzMzMzs4qOQGZmZmbmSI9A\",\"dtype\":\"float64\",\"shape\":[75]}},\"selected\":{\"id\":\"95649ace-dfdc-48c3-abad-d5f76c78e9c5\",\"type\":\"Selection\"},\"selection_policy\":{\"id\":\"94251fdd-3d94-42ef-8491-0f75e1c72782\",\"type\":\"UnionRenderers\"}},\"id\":\"91d6d95d-ce9f-4fc1-839b-21642f23b532\",\"type\":\"ColumnDataSource\"},{\"attributes\":{\"fill_alpha\":{\"value\":0.7},\"fill_color\":{\"value\":\"#4daf4a\"},\"line_alpha\":{\"value\":0.7},\"line_color\":{\"value\":\"#4daf4a\"},\"x\":{\"field\":\"x\"},\"y\":{\"field\":\"y\"}},\"id\":\"20677a0a-26f7-4188-9bd6-a81de69abfe6\",\"type\":\"Circle\"},{\"attributes\":{\"source\":{\"id\":\"22d54c2c-80a0-4151-a4ca-1a6859a0d13d\",\"type\":\"ColumnDataSource\"}},\"id\":\"aca357e0-450f-4c22-93f9-e4a6ac19d9a5\",\"type\":\"CDSView\"},{\"attributes\":{\"fill_alpha\":{\"value\":0.7},\"fill_color\":{\"value\":\"#984ea3\"},\"line_alpha\":{\"value\":0.7},\"line_color\":{\"value\":\"#984ea3\"},\"x\":{\"field\":\"x\"},\"y\":{\"field\":\"y\"}},\"id\":\"18aa5789-f78a-419e-9c65-5fcc4a9d15d5\",\"type\":\"Square\"},{\"attributes\":{\"fill_alpha\":{\"value\":0.1},\"fill_color\":{\"value\":\"#1f77b4\"},\"line_alpha\":{\"value\":0.1},\"line_color\":{\"value\":\"#1f77b4\"},\"x\":{\"field\":\"x\"},\"y\":{\"field\":\"y\"}},\"id\":\"6a5bc509-600c-4722-a750-62745342fab4\",\"type\":\"Triangle\"},{\"attributes\":{\"line_alpha\":0.3,\"line_color\":\"#377eb8\",\"line_width\":2,\"x\":{\"field\":\"x\"},\"y\":{\"field\":\"y\"}},\"id\":\"78bae0fd-cdde-46f3-aad6-5eb113f0d4e3\",\"type\":\"Line\"},{\"attributes\":{\"children\":[{\"id\":\"4a0ab59b-bdda-4570-9524-8a93da60f13b\",\"type\":\"Row\"}]},\"id\":\"2389cdc4-270d-4f7c-9cc7-603a37de408d\",\"type\":\"Column\"},{\"attributes\":{\"data_source\":{\"id\":\"22d54c2c-80a0-4151-a4ca-1a6859a0d13d\",\"type\":\"ColumnDataSource\"},\"glyph\":{\"id\":\"15443841-985f-4f40-9117-d205486982a3\",\"type\":\"Triangle\"},\"hover_glyph\":null,\"muted_glyph\":null,\"nonselection_glyph\":{\"id\":\"6a5bc509-600c-4722-a750-62745342fab4\",\"type\":\"Triangle\"},\"selection_glyph\":null,\"view\":{\"id\":\"aca357e0-450f-4c22-93f9-e4a6ac19d9a5\",\"type\":\"CDSView\"}},\"id\":\"bf88eda0-a2c1-4ff4-b718-3af5702db368\",\"type\":\"GlyphRenderer\"},{\"attributes\":{\"callback\":null,\"data\":{\"x\":{\"__ndarray__\":\"3DYzyphaTb+NKxEqAylNv+rnvw9MwEy/LHgfBAZTTL9++eC/XuJLvxCKP51ubku/rcxSce72Sr+4ERWYF3xKvy4IvQ2D/Um/tmbr0ap7Sb/0zSUE1vVIv+GhINQYbEi/Ko/KYt3eR79/9g/sQyRHv5Ni1uUfXUS/Zf+c3vCRO782ZbaMqBggv9L2aKuOvzA/ysBmi9XcRz9KpbLBdnJVPw/jdu+2gGA/bjYZ/4W4Zj+OKP6CNftoPykS4+P5pmY/z6KYOMnBYj8eG9idO/BbP07rULPiAFM/fNnxHaWJRj9bS/XYW10yP+zDv1fhhBO/8QMSwqaHOb+AnveBuFBGv8nk7Z5juU+/gDCwCvQCVb94dqdqYy1cv5tqp5Jz9WK/loNlHMaMZ7/1a2GRfHBpv6eaWQLikmi/3Dr54RnVZr9Pqwketl9kv+/Gnzz1TmG/jXBPoilsW79yDw7h1FpTv+ZSeS73E0W/bYhdONlIEb8Q/uFUnt1BPwbwcm8HbFM/CvbNqPpPXj8U53dFqMVkPxT4XzeAiGo/19nOB6Q1cD95zvYmljRzP+NDgADPPnY/xZ3+r5tSeT8NR0NOJ258P7cvWNQdkH8/6JZolF9bgT9VidY07e6CP9JSxckHgYQ/l+ccl8wMhj9M6gF8goeHP2evJYFZ44g/iJLLqsgbij/JyK3XYT2LP/Ups4CKXIw/K/Vf+YmJjT8R8oajx8mOP0w1fqQyDJA/Bcbt3CO3kD/GAicnT2ORPz1jpod9D5I/mB25oIS6kj8yApe4b2STP7ciJ8+ZDZQ/\",\"dtype\":\"float64\",\"shape\":[75]},\"y\":{\"__ndarray__\":\"GhExyth1ND/Sv8nbtpRIP2vylNV0PVE/aTum7souWD/At0SJ8fVgPw3Iuahxymc/MSNhhJWvcD/bTfBN02d3P2zb5nxnaoA/CD5h5MAGhz8NmeH1TyaQP+zrCsc9p5Y/LbKd76fGnz/bLW5ISEmmPww9YvTcQq8/JV2OstnstT8Er5Y7M8G+P0c+r3jqkcU/5h99k6ZBzj88bCIzFzjVP4enV8oyxN0//yH99nXg5D8qOpLLf0jtP5kqGJXUifQ/c9cS8kHP/D+/DpwzojQEQIEmwoanVwxA4lgXt9HgE0BSSZ2AJuIbQAMJih9jjiNA5q4l5INuK0AwTKYKRj0zQNv5fmq8/DpAaCJseHrtQkB/+zpwzoxKQM3MzMzMeFJAZmZmZmZqWEAAAAAAAFxeQM3MzMzMJmJAmpmZmZkfZUBmZmZmZhhoQDMzMzMzEWtAAAAAAAAKbkBmZmZmZoFwQM3MzMzM/XFAMzMzMzN6c0CamZmZmfZ0QAAAAAAAc3ZAZmZmZmbvd0DNzMzMzGt5QDMzMzMz6HpAmpmZmZlkfEAAAAAAAOF9QGZmZmZmXX9AZmZmZuZsgECamZmZGSuBQM3MzMxM6YFAAAAAAICngkAzMzMzs2WDQGZmZmbmI4RAmpmZmRnihEDNzMzMTKCFQAAAAACAXoZAMzMzM7Mch0BmZmZm5tqHQJqZmZkZmYhAzczMzExXiUAAAAAAgBWKQDMzMzOz04pAZmZmZuaRi0CamZmZGVCMQM3MzMxMDo1AAAAAAIDMjUAzMzMzs4qOQGZmZmbmSI9A\",\"dtype\":\"float64\",\"shape\":[75]}},\"selected\":{\"id\":\"b3f9fc83-7787-4395-af3a-d8719ed248b4\",\"type\":\"Selection\"},\"selection_policy\":{\"id\":\"1fa8e8a8-bd24-4fab-bfb2-8dd8e12116c3\",\"type\":\"UnionRenderers\"}},\"id\":\"fb496af9-0dd8-46d3-a465-a52526c2805a\",\"type\":\"ColumnDataSource\"},{\"attributes\":{\"data_source\":{\"id\":\"91d6d95d-ce9f-4fc1-839b-21642f23b532\",\"type\":\"ColumnDataSource\"},\"glyph\":{\"id\":\"78bae0fd-cdde-46f3-aad6-5eb113f0d4e3\",\"type\":\"Line\"},\"hover_glyph\":null,\"muted_glyph\":null,\"nonselection_glyph\":{\"id\":\"f06aff39-2154-4603-a82a-5490f2fbee6b\",\"type\":\"Line\"},\"selection_glyph\":null,\"view\":{\"id\":\"c8593ed8-df9e-4e32-ab7e-a8545bd8016c\",\"type\":\"CDSView\"}},\"id\":\"9220aa3b-b45b-489e-b2bf-8d4181f76a9e\",\"type\":\"GlyphRenderer\"},{\"attributes\":{\"fill_alpha\":{\"value\":0.1},\"fill_color\":{\"value\":\"#1f77b4\"},\"line_alpha\":{\"value\":0.1},\"line_color\":{\"value\":\"#1f77b4\"},\"x\":{\"field\":\"x\"},\"y\":{\"field\":\"y\"}},\"id\":\"83f1d6e4-7313-4235-bc55-9e26d255f534\",\"type\":\"Circle\"},{\"attributes\":{\"source\":{\"id\":\"91d6d95d-ce9f-4fc1-839b-21642f23b532\",\"type\":\"ColumnDataSource\"}},\"id\":\"c8593ed8-df9e-4e32-ab7e-a8545bd8016c\",\"type\":\"CDSView\"},{\"attributes\":{\"plot\":null,\"text\":\"\"},\"id\":\"7c0d90a4-8938-4000-8522-497e76c55e3f\",\"type\":\"Title\"},{\"attributes\":{},\"id\":\"ae246896-a508-4830-8a8e-3d3585257d51\",\"type\":\"Selection\"},{\"attributes\":{\"children\":[{\"id\":\"69ef150e-4dfa-475e-8d5c-0cfbb8ad9a41\",\"subtype\":\"Figure\",\"type\":\"Plot\"},{\"id\":\"8f5cc6a2-6e00-4c31-b485-fbfdd29904a3\",\"subtype\":\"Figure\",\"type\":\"Plot\"}]},\"id\":\"4a0ab59b-bdda-4570-9524-8a93da60f13b\",\"type\":\"Row\"},{\"attributes\":{\"label\":{\"value\":\"CRD\"},\"renderers\":[{\"id\":\"d3645374-ce5b-44fa-ad89-43514aa4e0f5\",\"type\":\"GlyphRenderer\"},{\"id\":\"99e01b6b-1b8e-41ab-923d-b7de3c98cd3a\",\"type\":\"GlyphRenderer\"}]},\"id\":\"3aff6f0a-86c2-4922-9f08-7a720da4c482\",\"type\":\"LegendItem\"},{\"attributes\":{\"label\":{\"value\":\"WGT igg=1\"},\"renderers\":[{\"id\":\"5c0e82a7-e770-40b5-9909-ef256122c6c2\",\"type\":\"GlyphRenderer\"},{\"id\":\"ee22d973-cb1c-4471-9bdf-27cd9900754c\",\"type\":\"GlyphRenderer\"}]},\"id\":\"10bdc56d-3a26-4f28-b58c-3f0e9019b789\",\"type\":\"LegendItem\"}],\"root_ids\":[\"8b2989e3-45a0-4994-9e9d-faefb7788aae\"]},\"title\":\"Bokeh Application\",\"version\":\"0.12.16\"}};\n",
       "  var render_items = [{\"docid\":\"04b14269-1679-4a66-aada-c03f0aef7388\",\"elementid\":\"fe9fef88-ee86-448f-aeb3-a0c877ae20c4\",\"modelid\":\"8b2989e3-45a0-4994-9e9d-faefb7788aae\"}];\n",
       "  root.Bokeh.embed.embed_items_notebook(docs_json, render_items);\n",
       "\n",
       "  }\n",
       "  if (root.Bokeh !== undefined) {\n",
       "    embed_document(root);\n",
       "  } else {\n",
       "    var attempts = 0;\n",
       "    var timer = setInterval(function(root) {\n",
       "      if (root.Bokeh !== undefined) {\n",
       "        embed_document(root);\n",
       "        clearInterval(timer);\n",
       "      }\n",
       "      attempts++;\n",
       "      if (attempts > 100) {\n",
       "        console.log(\"Bokeh: ERROR: Unable to run BokehJS code because BokehJS library is missing\")\n",
       "        clearInterval(timer);\n",
       "      }\n",
       "    }, 10, root)\n",
       "  }\n",
       "})(window);"
      ],
      "application/vnd.bokehjs_exec.v0+json": ""
     },
     "metadata": {
      "application/vnd.bokehjs_exec.v0+json": {
       "id": "8b2989e3-45a0-4994-9e9d-faefb7788aae"
      }
     },
     "output_type": "display_data"
    },
    {
     "data": {
      "text/markdown": [
       "*FIGURE.* Cooling rates. g=3"
      ],
      "text/plain": [
       "<IPython.core.display.Markdown object>"
      ]
     },
     "metadata": {},
     "output_type": "display_data"
    },
    {
     "data": {
      "text/html": [
       "\n",
       "<div class=\"bk-root\">\n",
       "    <div class=\"bk-plotdiv\" id=\"098ed8b9-e820-4019-b138-381bd14796a7\"></div>\n",
       "</div>"
      ]
     },
     "metadata": {},
     "output_type": "display_data"
    },
    {
     "data": {
      "application/javascript": [
       "(function(root) {\n",
       "  function embed_document(root) {\n",
       "    \n",
       "  var docs_json = {\"d5762e4d-8d02-4171-a081-316de7819852\":{\"roots\":{\"references\":[{\"attributes\":{},\"id\":\"b553597d-3845-49fb-8567-715d775d3992\",\"type\":\"Selection\"},{\"attributes\":{\"toolbar\":{\"id\":\"668417a6-e06f-4dae-be8b-c0ac211bf318\",\"type\":\"ProxyToolbar\"},\"toolbar_location\":\"above\"},\"id\":\"6b9aba8a-ddee-4ec3-ad8e-23bceb8dbca2\",\"type\":\"ToolbarBox\"},{\"attributes\":{},\"id\":\"7b4c932a-8cac-4622-9e55-14b98465375f\",\"type\":\"PanTool\"},{\"attributes\":{},\"id\":\"aed1d3a7-e453-454f-9890-ff2207e09791\",\"type\":\"UnionRenderers\"},{\"attributes\":{},\"id\":\"bce70520-8faa-4719-b21e-171c92fbc584\",\"type\":\"UnionRenderers\"},{\"attributes\":{},\"id\":\"ca2fc2a5-36bd-4b76-941f-4570d7412a17\",\"type\":\"WheelZoomTool\"},{\"attributes\":{},\"id\":\"d9249d5a-eb44-4ee6-aeb0-a62c0e2f5604\",\"type\":\"UnionRenderers\"},{\"attributes\":{},\"id\":\"1c560679-d72c-458c-b263-6628e4ecf6d9\",\"type\":\"Selection\"},{\"attributes\":{},\"id\":\"10451476-de4c-4985-bb16-2d23cf7c58b5\",\"type\":\"Selection\"},{\"attributes\":{},\"id\":\"32c207d3-2dcc-4a14-87da-9114d289899c\",\"type\":\"Selection\"},{\"attributes\":{},\"id\":\"620afbe7-05b8-41f2-81c7-ef2d24d11002\",\"type\":\"UnionRenderers\"},{\"attributes\":{},\"id\":\"1404eb17-2729-4341-a839-b51306a25656\",\"type\":\"UnionRenderers\"},{\"attributes\":{},\"id\":\"7de0a217-0622-441d-b9da-2fbbaf18749e\",\"type\":\"Selection\"},{\"attributes\":{},\"id\":\"17d22354-b54c-4f7d-b31d-bfafda2f61db\",\"type\":\"Selection\"},{\"attributes\":{},\"id\":\"59ee7d92-4b4f-4eaf-8b7c-0d23bd835f9a\",\"type\":\"UnionRenderers\"},{\"attributes\":{},\"id\":\"3dea94cb-8cc2-43b9-a24e-6fde28f16b9a\",\"type\":\"UnionRenderers\"},{\"attributes\":{},\"id\":\"78b005e0-eb10-4e09-b69a-a8f5c8f27f07\",\"type\":\"Selection\"},{\"attributes\":{\"tools\":[{\"id\":\"7b4c932a-8cac-4622-9e55-14b98465375f\",\"type\":\"PanTool\"},{\"id\":\"ca2fc2a5-36bd-4b76-941f-4570d7412a17\",\"type\":\"WheelZoomTool\"},{\"id\":\"0fb1aa7e-e2ce-49ef-84de-bb1ddd061188\",\"type\":\"BoxZoomTool\"},{\"id\":\"29719d2a-68a5-4d78-a324-fade757121e2\",\"type\":\"SaveTool\"},{\"id\":\"3e498f07-17e9-4444-b9ab-eca19a372065\",\"type\":\"ResetTool\"},{\"id\":\"29561fe2-f1fb-47dd-9071-f8a8f38cfe24\",\"type\":\"HelpTool\"},{\"id\":\"c65ccb50-5425-4f55-96cc-3a342b21bc72\",\"type\":\"PanTool\"},{\"id\":\"4bdd27c0-50a7-491f-9a1f-6fb2456ef247\",\"type\":\"WheelZoomTool\"},{\"id\":\"4ce1b8a9-46f7-4578-b6d8-efbe19ed435c\",\"type\":\"BoxZoomTool\"},{\"id\":\"2a8133dc-6a75-4c6a-a7ce-f979bf8df738\",\"type\":\"SaveTool\"},{\"id\":\"25f061c6-a174-473d-9669-7d9e9f42790f\",\"type\":\"ResetTool\"},{\"id\":\"15768906-7c4d-4121-bbb3-c173b901ed23\",\"type\":\"HelpTool\"}]},\"id\":\"668417a6-e06f-4dae-be8b-c0ac211bf318\",\"type\":\"ProxyToolbar\"},{\"attributes\":{\"overlay\":{\"id\":\"1fc76e44-2e58-4ab8-8a5b-423f1a937138\",\"type\":\"BoxAnnotation\"}},\"id\":\"4ce1b8a9-46f7-4578-b6d8-efbe19ed435c\",\"type\":\"BoxZoomTool\"},{\"attributes\":{},\"id\":\"2dd126cd-ff20-4ca2-85c2-f21906115ba7\",\"type\":\"UnionRenderers\"},{\"attributes\":{\"children\":[{\"id\":\"6b9aba8a-ddee-4ec3-ad8e-23bceb8dbca2\",\"type\":\"ToolbarBox\"},{\"id\":\"13270bd5-430f-4e43-9c01-3f460a4c2002\",\"type\":\"Column\"}]},\"id\":\"f92a06c1-db7d-41d0-8f82-4d44adb70140\",\"type\":\"Column\"},{\"attributes\":{\"fill_alpha\":{\"value\":0.1},\"fill_color\":{\"value\":\"#1f77b4\"},\"line_alpha\":{\"value\":0.1},\"line_color\":{\"value\":\"#1f77b4\"},\"x\":{\"field\":\"x\"},\"y\":{\"field\":\"y\"}},\"id\":\"71b13ba5-87a5-4dd8-9717-2c09c2b28b8c\",\"type\":\"Circle\"},{\"attributes\":{\"data_source\":{\"id\":\"23df6067-8a4d-4abb-91e6-e544e2b8c37d\",\"type\":\"ColumnDataSource\"},\"glyph\":{\"id\":\"1e7fef8f-4115-4179-874e-b5f5b5278f40\",\"type\":\"Circle\"},\"hover_glyph\":null,\"muted_glyph\":null,\"nonselection_glyph\":{\"id\":\"71b13ba5-87a5-4dd8-9717-2c09c2b28b8c\",\"type\":\"Circle\"},\"selection_glyph\":null,\"view\":{\"id\":\"c6de5d2d-2a72-489c-8412-babf7f4f308b\",\"type\":\"CDSView\"}},\"id\":\"f5410500-d79c-4a8e-9a9d-5f1ad378aeb0\",\"type\":\"GlyphRenderer\"},{\"attributes\":{\"fill_alpha\":{\"value\":0.7},\"fill_color\":{\"value\":\"#4daf4a\"},\"line_alpha\":{\"value\":0.7},\"line_color\":{\"value\":\"#4daf4a\"},\"x\":{\"field\":\"x\"},\"y\":{\"field\":\"y\"}},\"id\":\"1e7fef8f-4115-4179-874e-b5f5b5278f40\",\"type\":\"Circle\"},{\"attributes\":{},\"id\":\"7b17979a-2481-4f5d-80af-c6558562a406\",\"type\":\"Selection\"},{\"attributes\":{\"callback\":null,\"data\":{\"x\":{\"__ndarray__\":\"VoKQVxxkXj+B3ypwesVgPzR8idBSBWQ/uqh1XsxWZz8uD2W9V7BqP1LdjNMGDG4/gOudEHu2cD8nxYLn+WdyP721DMhzGXQ/bc238P3MdT9+hMWSIml3Pz0BTNMI9Hg/QDlnU7Fkej+l6TmTXTh8P9+QAsh67oE/VuFp5dMnij/MxIq7TT2SP2VvsVFHyZc/YuBhkGi1nT83W2SNYQGiP9vS52fvWKU/HcxVM06FqD8cYte3s1upP4qgAH6MyKc/fHxxis9bpT9sm76r2VuiP6ZEXAGI6Z4/Z+Kj13G4mT88JHXAURyVP1bbzTiC95A/6it+YJg4ij/Ylx/oGbeCP1mF8hfOOHY/lF/hwMZeWD9uqhB8vOpuvyoxwB8tt4S/zCbZlrzbjb9SNexBCTaOv57AMxrrbYm/wOQ61fckhb8BoIVi/S+Bv0pg6mVf63q/cU/D2KjKc78fTtVzPuhpvzAj90BJcFm/MMkQImu42D7N5LMuCeZYPwgnLihIhmg/ZBFcZqAmcj819p1kY+d3P2A0Fa1WiX0/mvQZJ9qHgT++cXBjiz6EP5/Mtn0C6oY/CYze/JyLiT+qdMpLXCSMP1afwcV8tY4/6vTPBuefkD8SPdrtmeCRP3EZqg6KG5M/BEOvUr1KlD9OfxqhnV+VP2gy+3dfR5Y/GF4wDJ39lj9KXaoKeJaXPwTvnk8XMJg/soFR5PzgmD+psIj5ja+ZPx7sXoFAlJo/TglVWBOFmz/ODOwH7XucP8i/qIOJdp0/vDQAPrFznj8+snKVEnWfP6PrX+USP6A/\",\"dtype\":\"float64\",\"shape\":[75]},\"y\":{\"__ndarray__\":\"GhExyth1ND/Sv8nbtpRIP2vylNV0PVE/aTum7souWD/At0SJ8fVgPw3Iuahxymc/MSNhhJWvcD/bTfBN02d3P2zb5nxnaoA/CD5h5MAGhz8NmeH1TyaQP+zrCsc9p5Y/LbKd76fGnz/bLW5ISEmmPww9YvTcQq8/JV2OstnstT8Er5Y7M8G+P0c+r3jqkcU/5h99k6ZBzj88bCIzFzjVP4enV8oyxN0//yH99nXg5D8qOpLLf0jtP5kqGJXUifQ/c9cS8kHP/D+/DpwzojQEQIEmwoanVwxA4lgXt9HgE0BSSZ2AJuIbQAMJih9jjiNA5q4l5INuK0AwTKYKRj0zQNv5fmq8/DpAaCJseHrtQkB/+zpwzoxKQM3MzMzMeFJAZmZmZmZqWEAAAAAAAFxeQM3MzMzMJmJAmpmZmZkfZUBmZmZmZhhoQDMzMzMzEWtAAAAAAAAKbkBmZmZmZoFwQM3MzMzM/XFAMzMzMzN6c0CamZmZmfZ0QAAAAAAAc3ZAZmZmZmbvd0DNzMzMzGt5QDMzMzMz6HpAmpmZmZlkfEAAAAAAAOF9QGZmZmZmXX9AZmZmZuZsgECamZmZGSuBQM3MzMxM6YFAAAAAAICngkAzMzMzs2WDQGZmZmbmI4RAmpmZmRnihEDNzMzMTKCFQAAAAACAXoZAMzMzM7Mch0BmZmZm5tqHQJqZmZkZmYhAzczMzExXiUAAAAAAgBWKQDMzMzOz04pAZmZmZuaRi0CamZmZGVCMQM3MzMxMDo1AAAAAAIDMjUAzMzMzs4qOQGZmZmbmSI9A\",\"dtype\":\"float64\",\"shape\":[75]}},\"selected\":{\"id\":\"17392389-eb05-41a4-b5be-3b9a0c2ab441\",\"type\":\"Selection\"},\"selection_policy\":{\"id\":\"de284d61-9eb8-44fa-8b45-a08ee5451d56\",\"type\":\"UnionRenderers\"}},\"id\":\"8cd31dd3-af53-4188-8af7-6a6a05268bff\",\"type\":\"ColumnDataSource\"},{\"attributes\":{\"callback\":null,\"data\":{\"x\":{\"__ndarray__\":\"Jcyt52tBez/SEU0wLuZ7Py/xr994Nn0/6Qay4CeOfj8+zHdNnOh/P8r6PVvZooA/l0swgqlSgT9g1f1EzwOCP0jCxtgptoI/JpQLA7Npgz+uI6KqVh6EP+upoSsA1IQ/Oc8GDy6LhT8inezwlXaGP6LayW9KyIk/eSXPvWVbkD/4R+Xor7KUP+xNmXcFaJk/D2rjwAN8nj93QLn0hvehPzlwS0k54KQ/XOtIWUyspz/tn+D8IJyoPznVmEzdlqc/jhLZE4rNpT9Qkpr3PGmjP1a6WBkF5aA/dtvCX+DHnD+e3IJ+gsiXP6DPobQ2yJI/0SSOEKSLiz9xrKb15ZSBP2rMq//aVm8/0vTbSyGmSb+A+ZZeXkB4v7YGJp9tIYe/2Hbd0p86jr8NAo6x0UGOv47MFTAJKIq/fgGBMvQthr9f9+EWr1aCv2Ms5KSIOX2/2hxnktHzdb91E+2rg75tv8Rkrn+v4V+/8CP3UJnCM79WT9fBvWBVPxm8N6TYjWc/FHAY52MRcj+qVIFtiTh4P+p2RyYmP34/hTsqw5QTgj+o4hfqHvmEP0pYBlob0Yc/f83Z72ycij+zZBizwVuNPxsDHpjkB5A/AnWqA3dckT84RyNEVaqSPxJZ5lwq8JM/9xZN5TgplT8ZdosNDEqWP8wZGwxGRJc/KqNEZeAUmD8IW9Q1v8uYP3xJSampgJk//rO3s25Fmj9/rt4qTR+bPxZWYL+dCJw/GotUR2/5nD9OqE1EkuydP3G49Sym354/6pLXJY/Qnz9z/RXTwF+gPzySWyuL1qA/\",\"dtype\":\"float64\",\"shape\":[75]},\"y\":{\"__ndarray__\":\"GhExyth1ND/Sv8nbtpRIP2vylNV0PVE/aTum7souWD/At0SJ8fVgPw3Iuahxymc/MSNhhJWvcD/bTfBN02d3P2zb5nxnaoA/CD5h5MAGhz8NmeH1TyaQP+zrCsc9p5Y/LbKd76fGnz/bLW5ISEmmPww9YvTcQq8/JV2OstnstT8Er5Y7M8G+P0c+r3jqkcU/5h99k6ZBzj88bCIzFzjVP4enV8oyxN0//yH99nXg5D8qOpLLf0jtP5kqGJXUifQ/c9cS8kHP/D+/DpwzojQEQIEmwoanVwxA4lgXt9HgE0BSSZ2AJuIbQAMJih9jjiNA5q4l5INuK0AwTKYKRj0zQNv5fmq8/DpAaCJseHrtQkB/+zpwzoxKQM3MzMzMeFJAZmZmZmZqWEAAAAAAAFxeQM3MzMzMJmJAmpmZmZkfZUBmZmZmZhhoQDMzMzMzEWtAAAAAAAAKbkBmZmZmZoFwQM3MzMzM/XFAMzMzMzN6c0CamZmZmfZ0QAAAAAAAc3ZAZmZmZmbvd0DNzMzMzGt5QDMzMzMz6HpAmpmZmZlkfEAAAAAAAOF9QGZmZmZmXX9AZmZmZuZsgECamZmZGSuBQM3MzMxM6YFAAAAAAICngkAzMzMzs2WDQGZmZmbmI4RAmpmZmRnihEDNzMzMTKCFQAAAAACAXoZAMzMzM7Mch0BmZmZm5tqHQJqZmZkZmYhAzczMzExXiUAAAAAAgBWKQDMzMzOz04pAZmZmZuaRi0CamZmZGVCMQM3MzMxMDo1AAAAAAIDMjUAzMzMzs4qOQGZmZmbmSI9A\",\"dtype\":\"float64\",\"shape\":[75]}},\"selected\":{\"id\":\"c30d6a28-e312-486d-8158-f45e83107f8c\",\"type\":\"Selection\"},\"selection_policy\":{\"id\":\"76879ffe-7d49-48e6-9f72-64fd330af38a\",\"type\":\"UnionRenderers\"}},\"id\":\"19058057-348d-4d52-a020-efc8b3d185be\",\"type\":\"ColumnDataSource\"},{\"attributes\":{\"source\":{\"id\":\"07a28601-8466-44f3-81f6-0a67345e0bd8\",\"type\":\"ColumnDataSource\"}},\"id\":\"6c32b21a-3e3f-4512-b236-0899d5882ae6\",\"type\":\"CDSView\"},{\"attributes\":{\"line_alpha\":0.3,\"line_color\":\"#377eb8\",\"line_width\":2,\"x\":{\"field\":\"x\"},\"y\":{\"field\":\"y\"}},\"id\":\"0647e571-8030-444e-9ba6-9de1e32f3232\",\"type\":\"Line\"},{\"attributes\":{\"above\":[{\"id\":\"fbb2c426-e69f-4dcc-a736-c97e79b6072c\",\"type\":\"Legend\"}],\"below\":[{\"id\":\"518f8604-574c-4c6a-9942-d47684fa0bd4\",\"type\":\"LinearAxis\"}],\"left\":[{\"id\":\"84fd41ff-764a-403e-a033-49285c17ab81\",\"type\":\"LogAxis\"}],\"plot_height\":500,\"plot_width\":400,\"renderers\":[{\"id\":\"518f8604-574c-4c6a-9942-d47684fa0bd4\",\"type\":\"LinearAxis\"},{\"id\":\"46344ecd-f355-42a9-a24a-3ca9626922bf\",\"type\":\"Grid\"},{\"id\":\"84fd41ff-764a-403e-a033-49285c17ab81\",\"type\":\"LogAxis\"},{\"id\":\"dd1aaa7e-af4d-4f70-90ae-8c9f31f8e310\",\"type\":\"Grid\"},{\"id\":\"1fc76e44-2e58-4ab8-8a5b-423f1a937138\",\"type\":\"BoxAnnotation\"},{\"id\":\"f5410500-d79c-4a8e-9a9d-5f1ad378aeb0\",\"type\":\"GlyphRenderer\"},{\"id\":\"1b64002f-70c5-4b8f-a859-284bae4893ac\",\"type\":\"GlyphRenderer\"},{\"id\":\"debe42ba-5d41-4f11-904e-b4d230d8efdf\",\"type\":\"GlyphRenderer\"},{\"id\":\"f6dd9c29-bd8f-4269-a86c-1f0eff4f5d33\",\"type\":\"GlyphRenderer\"},{\"id\":\"ddc4308a-77a5-4236-ae0a-a21ec7fe5962\",\"type\":\"GlyphRenderer\"},{\"id\":\"80c7b967-e695-4250-b343-8c0095d890df\",\"type\":\"GlyphRenderer\"},{\"id\":\"fbb2c426-e69f-4dcc-a736-c97e79b6072c\",\"type\":\"Legend\"}],\"title\":{\"id\":\"cd28ee94-f811-4df3-8c4b-4891f593371d\",\"type\":\"Title\"},\"toolbar\":{\"id\":\"fbe7ff65-cee4-4d32-a335-08c1143cd509\",\"type\":\"Toolbar\"},\"toolbar_location\":null,\"x_range\":{\"id\":\"73a5b00f-323d-43aa-968d-eb480f5bf30d\",\"type\":\"Range1d\"},\"x_scale\":{\"id\":\"ffa63b06-1fa1-4cf8-9506-c769ccdf8264\",\"type\":\"LinearScale\"},\"y_range\":{\"id\":\"97e15341-a601-41f3-a8bf-b11162d900e3\",\"type\":\"Range1d\"},\"y_scale\":{\"id\":\"fce26327-cf6c-4719-8517-c61f27c62059\",\"type\":\"LogScale\"}},\"id\":\"a825767b-5e85-479c-b380-1d1673dbda9c\",\"subtype\":\"Figure\",\"type\":\"Plot\"},{\"attributes\":{\"line_alpha\":0.1,\"line_color\":\"#1f77b4\",\"line_width\":2,\"x\":{\"field\":\"x\"},\"y\":{\"field\":\"y\"}},\"id\":\"2e9bb3e9-a78b-4211-8406-12952cea2323\",\"type\":\"Line\"},{\"attributes\":{\"data_source\":{\"id\":\"19058057-348d-4d52-a020-efc8b3d185be\",\"type\":\"ColumnDataSource\"},\"glyph\":{\"id\":\"0647e571-8030-444e-9ba6-9de1e32f3232\",\"type\":\"Line\"},\"hover_glyph\":null,\"muted_glyph\":null,\"nonselection_glyph\":{\"id\":\"2e9bb3e9-a78b-4211-8406-12952cea2323\",\"type\":\"Line\"},\"selection_glyph\":null,\"view\":{\"id\":\"bb1bd73c-a808-41c0-8b45-17c4f3eb8d19\",\"type\":\"CDSView\"}},\"id\":\"574bb370-8c33-4f8f-aa8f-7716c9d5ccae\",\"type\":\"GlyphRenderer\"},{\"attributes\":{\"source\":{\"id\":\"19058057-348d-4d52-a020-efc8b3d185be\",\"type\":\"ColumnDataSource\"}},\"id\":\"bb1bd73c-a808-41c0-8b45-17c4f3eb8d19\",\"type\":\"CDSView\"},{\"attributes\":{\"active_drag\":\"auto\",\"active_inspect\":\"auto\",\"active_scroll\":\"auto\",\"active_tap\":\"auto\",\"tools\":[{\"id\":\"c65ccb50-5425-4f55-96cc-3a342b21bc72\",\"type\":\"PanTool\"},{\"id\":\"4bdd27c0-50a7-491f-9a1f-6fb2456ef247\",\"type\":\"WheelZoomTool\"},{\"id\":\"4ce1b8a9-46f7-4578-b6d8-efbe19ed435c\",\"type\":\"BoxZoomTool\"},{\"id\":\"2a8133dc-6a75-4c6a-a7ce-f979bf8df738\",\"type\":\"SaveTool\"},{\"id\":\"25f061c6-a174-473d-9669-7d9e9f42790f\",\"type\":\"ResetTool\"},{\"id\":\"15768906-7c4d-4121-bbb3-c173b901ed23\",\"type\":\"HelpTool\"}]},\"id\":\"fbe7ff65-cee4-4d32-a335-08c1143cd509\",\"type\":\"Toolbar\"},{\"attributes\":{\"line_color\":\"#4daf4a\",\"line_width\":1.5,\"x\":{\"field\":\"x\"},\"y\":{\"field\":\"y\"}},\"id\":\"baa59b01-8742-4e6a-9f6d-a2401eb7ff86\",\"type\":\"Line\"},{\"attributes\":{\"label\":{\"value\":\"CRD\"},\"renderers\":[{\"id\":\"609e1edf-eef0-4b74-bc5c-b3aec3fdd91a\",\"type\":\"GlyphRenderer\"},{\"id\":\"7a8d5403-8afd-47f0-8265-3d45d78e7de8\",\"type\":\"GlyphRenderer\"}]},\"id\":\"9f58b0ac-d55e-497c-8a9b-abeec46dc806\",\"type\":\"LegendItem\"},{\"attributes\":{\"label\":{\"value\":\"WGT igg=1\"},\"renderers\":[{\"id\":\"91a61f93-ee64-4c6a-a7f3-b3d30bb22e68\",\"type\":\"GlyphRenderer\"},{\"id\":\"5ac747ed-0cf1-413a-90dd-e9c82404366a\",\"type\":\"GlyphRenderer\"}]},\"id\":\"963edb89-7c2d-4350-8ad9-f47faa7c6d29\",\"type\":\"LegendItem\"},{\"attributes\":{},\"id\":\"ffa63b06-1fa1-4cf8-9506-c769ccdf8264\",\"type\":\"LinearScale\"},{\"attributes\":{\"label\":{\"value\":\"WGT igg=10\"},\"renderers\":[{\"id\":\"5305bdb7-67d7-4c05-8622-5b35a01d4b62\",\"type\":\"GlyphRenderer\"},{\"id\":\"574bb370-8c33-4f8f-aa8f-7716c9d5ccae\",\"type\":\"GlyphRenderer\"}]},\"id\":\"0aadbf76-ef42-4a07-be41-7f222e071db1\",\"type\":\"LegendItem\"},{\"attributes\":{\"plot\":{\"id\":\"a825767b-5e85-479c-b380-1d1673dbda9c\",\"subtype\":\"Figure\",\"type\":\"Plot\"},\"ticker\":{\"id\":\"7c4e37ef-101c-431f-bc50-94a0b320054b\",\"type\":\"BasicTicker\"}},\"id\":\"46344ecd-f355-42a9-a24a-3ca9626922bf\",\"type\":\"Grid\"},{\"attributes\":{\"source\":{\"id\":\"8cd31dd3-af53-4188-8af7-6a6a05268bff\",\"type\":\"ColumnDataSource\"}},\"id\":\"4330db8b-ea04-4bd6-a5b6-dce4968721b3\",\"type\":\"CDSView\"},{\"attributes\":{},\"id\":\"fce26327-cf6c-4719-8517-c61f27c62059\",\"type\":\"LogScale\"},{\"attributes\":{\"axis_label\":\"cooling rate [K/day]\",\"formatter\":{\"id\":\"6680280f-5083-4ace-95ee-f7eb7f778f1d\",\"type\":\"BasicTickFormatter\"},\"plot\":{\"id\":\"a825767b-5e85-479c-b380-1d1673dbda9c\",\"subtype\":\"Figure\",\"type\":\"Plot\"},\"ticker\":{\"id\":\"7c4e37ef-101c-431f-bc50-94a0b320054b\",\"type\":\"BasicTicker\"}},\"id\":\"518f8604-574c-4c6a-9942-d47684fa0bd4\",\"type\":\"LinearAxis\"},{\"attributes\":{\"callback\":null,\"data\":{\"x\":{\"__ndarray__\":\"aKqhbdC1eD+ze8qMp155Pw9Ia9XE0no/6LtvcBtPfD8A9UWnk859P0qhgzwNUX8/gYP0pjtrgD8cJWANgi+BP0YtAzo/9YE/XC2Wu0a8gj/WE4Z38oaDPwCFZmdYUYQ/hHOkv6kdhT9ltUsFWCSGPyVlJrkp1ok/oGPHdIjNkD923hkeCZyVP/FKdKr+1Jo/r01ibJU9oD9icc+LZSyjP7flcm+9Z6Y/qQmn2k9xqT9lvhG/iW6qP0HLhhEuOqk/J00ilu4spz8fNVHPf3WkP70TNyJ3n6E/fW4U6MWrnT8j2UVpmDSYP2t8q0Ik4JI/GnFw2dNniz+1mYANWHiBP/KUsHMT2m8/eBKE5hQPQb+uxvTXoNp2v/DevdpLvoa/sLWOWHFEjr+LQhpvFUaOv1MNw5NS2om/IYV11vyuhb/8ZwCBZMCBvxZKgs4t9nu/I0Ip/7aFdL/kFYr+a7dqv00l9Ikhjlm/EaEABP9LEz92IYbOJ5xbP5onQE1m0mo/3gdb5OS9cz/k6a1sL815P6JPzv6b538/F9WWQcvvgj+aA4Z329GFP4J7tahQrYg/pNUvgCKEiz8XsR6M/EWOP5TOfmPafpA/dP+Fm9TbkT/GE+ubziqTP+8TOHdKd5Q/bF04AR65lT9Y7XgUqdeWP/7D8yEK15c//GzckgCkmD9a9zk8EFKZP+xW5FL7Bpo/ZUqD1bPEmj/uL1sjpKSbPxxbfaRpkZw/SuOxDT6HnT/khaKw84WeP9jZVEFze58/wjrYGgY+oD+KBnq/CbmgP/UnLNPhOKE/\",\"dtype\":\"float64\",\"shape\":[75]},\"y\":{\"__ndarray__\":\"GhExyth1ND/Sv8nbtpRIP2vylNV0PVE/aTum7souWD/At0SJ8fVgPw3Iuahxymc/MSNhhJWvcD/bTfBN02d3P2zb5nxnaoA/CD5h5MAGhz8NmeH1TyaQP+zrCsc9p5Y/LbKd76fGnz/bLW5ISEmmPww9YvTcQq8/JV2OstnstT8Er5Y7M8G+P0c+r3jqkcU/5h99k6ZBzj88bCIzFzjVP4enV8oyxN0//yH99nXg5D8qOpLLf0jtP5kqGJXUifQ/c9cS8kHP/D+/DpwzojQEQIEmwoanVwxA4lgXt9HgE0BSSZ2AJuIbQAMJih9jjiNA5q4l5INuK0AwTKYKRj0zQNv5fmq8/DpAaCJseHrtQkB/+zpwzoxKQM3MzMzMeFJAZmZmZmZqWEAAAAAAAFxeQM3MzMzMJmJAmpmZmZkfZUBmZmZmZhhoQDMzMzMzEWtAAAAAAAAKbkBmZmZmZoFwQM3MzMzM/XFAMzMzMzN6c0CamZmZmfZ0QAAAAAAAc3ZAZmZmZmbvd0DNzMzMzGt5QDMzMzMz6HpAmpmZmZlkfEAAAAAAAOF9QGZmZmZmXX9AZmZmZuZsgECamZmZGSuBQM3MzMxM6YFAAAAAAICngkAzMzMzs2WDQGZmZmbmI4RAmpmZmRnihEDNzMzMTKCFQAAAAACAXoZAMzMzM7Mch0BmZmZm5tqHQJqZmZkZmYhAzczMzExXiUAAAAAAgBWKQDMzMzOz04pAZmZmZuaRi0CamZmZGVCMQM3MzMxMDo1AAAAAAIDMjUAzMzMzs4qOQGZmZmbmSI9A\",\"dtype\":\"float64\",\"shape\":[75]}},\"selected\":{\"id\":\"7b17979a-2481-4f5d-80af-c6558562a406\",\"type\":\"Selection\"},\"selection_policy\":{\"id\":\"aed1d3a7-e453-454f-9890-ff2207e09791\",\"type\":\"UnionRenderers\"}},\"id\":\"12411825-0eab-4d75-97de-861f685b8cc5\",\"type\":\"ColumnDataSource\"},{\"attributes\":{},\"id\":\"7c4e37ef-101c-431f-bc50-94a0b320054b\",\"type\":\"BasicTicker\"},{\"attributes\":{\"axis_label\":\"pressure [mb]\",\"formatter\":{\"id\":\"e998b220-844f-48ca-8aeb-235982f2edc8\",\"type\":\"LogTickFormatter\"},\"plot\":{\"id\":\"a825767b-5e85-479c-b380-1d1673dbda9c\",\"subtype\":\"Figure\",\"type\":\"Plot\"},\"ticker\":{\"id\":\"f1f0a747-2577-41e9-a060-e93926768556\",\"type\":\"LogTicker\"}},\"id\":\"84fd41ff-764a-403e-a033-49285c17ab81\",\"type\":\"LogAxis\"},{\"attributes\":{\"num_minor_ticks\":10},\"id\":\"f1f0a747-2577-41e9-a060-e93926768556\",\"type\":\"LogTicker\"},{\"attributes\":{\"dimension\":1,\"plot\":{\"id\":\"a825767b-5e85-479c-b380-1d1673dbda9c\",\"subtype\":\"Figure\",\"type\":\"Plot\"},\"ticker\":{\"id\":\"f1f0a747-2577-41e9-a060-e93926768556\",\"type\":\"LogTicker\"}},\"id\":\"dd1aaa7e-af4d-4f70-90ae-8c9f31f8e310\",\"type\":\"Grid\"},{\"attributes\":{},\"id\":\"c65ccb50-5425-4f55-96cc-3a342b21bc72\",\"type\":\"PanTool\"},{\"attributes\":{},\"id\":\"4bdd27c0-50a7-491f-9a1f-6fb2456ef247\",\"type\":\"WheelZoomTool\"},{\"attributes\":{\"fill_alpha\":{\"value\":0.1},\"fill_color\":{\"value\":\"#1f77b4\"},\"line_alpha\":{\"value\":0.1},\"line_color\":{\"value\":\"#1f77b4\"},\"x\":{\"field\":\"x\"},\"y\":{\"field\":\"y\"}},\"id\":\"b0378695-7979-4783-865a-61fc165e88a1\",\"type\":\"Square\"},{\"attributes\":{\"data_source\":{\"id\":\"12411825-0eab-4d75-97de-861f685b8cc5\",\"type\":\"ColumnDataSource\"},\"glyph\":{\"id\":\"5240d177-f98c-48ed-95bb-de18347fc965\",\"type\":\"Square\"},\"hover_glyph\":null,\"muted_glyph\":null,\"nonselection_glyph\":{\"id\":\"b0378695-7979-4783-865a-61fc165e88a1\",\"type\":\"Square\"},\"selection_glyph\":null,\"view\":{\"id\":\"09adab0b-d2c1-41cb-b857-751f47c1b482\",\"type\":\"CDSView\"}},\"id\":\"91a61f93-ee64-4c6a-a7f3-b3d30bb22e68\",\"type\":\"GlyphRenderer\"},{\"attributes\":{\"callback\":null,\"end\":0.01,\"start\":1020},\"id\":\"97e15341-a601-41f3-a8bf-b11162d900e3\",\"type\":\"Range1d\"},{\"attributes\":{},\"id\":\"2a8133dc-6a75-4c6a-a7ce-f979bf8df738\",\"type\":\"SaveTool\"},{\"attributes\":{\"fill_alpha\":{\"value\":0.1},\"fill_color\":{\"value\":\"#1f77b4\"},\"line_alpha\":{\"value\":0.1},\"line_color\":{\"value\":\"#1f77b4\"},\"x\":{\"field\":\"x\"},\"y\":{\"field\":\"y\"}},\"id\":\"1f986981-6982-4606-bda8-cae113755ac6\",\"type\":\"Circle\"},{\"attributes\":{\"bottom_units\":\"screen\",\"fill_alpha\":{\"value\":0.5},\"fill_color\":{\"value\":\"lightgrey\"},\"left_units\":\"screen\",\"level\":\"overlay\",\"line_alpha\":{\"value\":1.0},\"line_color\":{\"value\":\"black\"},\"line_dash\":[4,4],\"line_width\":{\"value\":2},\"plot\":null,\"render_mode\":\"css\",\"right_units\":\"screen\",\"top_units\":\"screen\"},\"id\":\"1fc76e44-2e58-4ab8-8a5b-423f1a937138\",\"type\":\"BoxAnnotation\"},{\"attributes\":{},\"id\":\"15768906-7c4d-4121-bbb3-c173b901ed23\",\"type\":\"HelpTool\"},{\"attributes\":{\"fill_alpha\":{\"value\":0.7},\"fill_color\":{\"value\":\"#4daf4a\"},\"line_alpha\":{\"value\":0.7},\"line_color\":{\"value\":\"#4daf4a\"},\"x\":{\"field\":\"x\"},\"y\":{\"field\":\"y\"}},\"id\":\"6ce6456f-b670-45e7-b47f-d94c2e38aaca\",\"type\":\"Circle\"},{\"attributes\":{\"data_source\":{\"id\":\"8cd31dd3-af53-4188-8af7-6a6a05268bff\",\"type\":\"ColumnDataSource\"},\"glyph\":{\"id\":\"6ce6456f-b670-45e7-b47f-d94c2e38aaca\",\"type\":\"Circle\"},\"hover_glyph\":null,\"muted_glyph\":null,\"nonselection_glyph\":{\"id\":\"1f986981-6982-4606-bda8-cae113755ac6\",\"type\":\"Circle\"},\"selection_glyph\":null,\"view\":{\"id\":\"4330db8b-ea04-4bd6-a5b6-dce4968721b3\",\"type\":\"CDSView\"}},\"id\":\"609e1edf-eef0-4b74-bc5c-b3aec3fdd91a\",\"type\":\"GlyphRenderer\"},{\"attributes\":{},\"id\":\"25f061c6-a174-473d-9669-7d9e9f42790f\",\"type\":\"ResetTool\"},{\"attributes\":{\"data_source\":{\"id\":\"17a48611-b147-4bc2-b336-fae38b3eb9f6\",\"type\":\"ColumnDataSource\"},\"glyph\":{\"id\":\"baa59b01-8742-4e6a-9f6d-a2401eb7ff86\",\"type\":\"Line\"},\"hover_glyph\":null,\"muted_glyph\":null,\"nonselection_glyph\":{\"id\":\"8f6b91b6-7e2b-4d1f-b509-5498b6390fc7\",\"type\":\"Line\"},\"selection_glyph\":null,\"view\":{\"id\":\"2f1ee88b-71a7-4bff-802b-88a6c926f373\",\"type\":\"CDSView\"}},\"id\":\"7a8d5403-8afd-47f0-8265-3d45d78e7de8\",\"type\":\"GlyphRenderer\"},{\"attributes\":{\"line_alpha\":0.6,\"line_color\":\"#984ea3\",\"line_width\":3,\"x\":{\"field\":\"x\"},\"y\":{\"field\":\"y\"}},\"id\":\"d1346518-458e-4a2a-a1aa-637c56f3e596\",\"type\":\"Line\"},{\"attributes\":{\"source\":{\"id\":\"12411825-0eab-4d75-97de-861f685b8cc5\",\"type\":\"ColumnDataSource\"}},\"id\":\"09adab0b-d2c1-41cb-b857-751f47c1b482\",\"type\":\"CDSView\"},{\"attributes\":{\"source\":{\"id\":\"17a48611-b147-4bc2-b336-fae38b3eb9f6\",\"type\":\"ColumnDataSource\"}},\"id\":\"2f1ee88b-71a7-4bff-802b-88a6c926f373\",\"type\":\"CDSView\"},{\"attributes\":{},\"id\":\"de284d61-9eb8-44fa-8b45-a08ee5451d56\",\"type\":\"UnionRenderers\"},{\"attributes\":{\"source\":{\"id\":\"086ad038-c5b7-4d28-b39f-78cf2c88a65c\",\"type\":\"ColumnDataSource\"}},\"id\":\"2ba80be8-6f62-40fa-8189-fad730289987\",\"type\":\"CDSView\"},{\"attributes\":{\"callback\":null,\"data\":{\"x\":{\"__ndarray__\":\"aKqhbdC1eD+ze8qMp155Pw9Ia9XE0no/6LtvcBtPfD8A9UWnk859P0qhgzwNUX8/gYP0pjtrgD8cJWANgi+BP0YtAzo/9YE/XC2Wu0a8gj/WE4Z38oaDPwCFZmdYUYQ/hHOkv6kdhT9ltUsFWCSGPyVlJrkp1ok/oGPHdIjNkD923hkeCZyVP/FKdKr+1Jo/r01ibJU9oD9icc+LZSyjP7flcm+9Z6Y/qQmn2k9xqT9lvhG/iW6qP0HLhhEuOqk/J00ilu4spz8fNVHPf3WkP70TNyJ3n6E/fW4U6MWrnT8j2UVpmDSYP2t8q0Ik4JI/GnFw2dNniz+1mYANWHiBP/KUsHMT2m8/eBKE5hQPQb+uxvTXoNp2v/DevdpLvoa/sLWOWHFEjr+LQhpvFUaOv1MNw5NS2om/IYV11vyuhb/8ZwCBZMCBvxZKgs4t9nu/I0Ip/7aFdL/kFYr+a7dqv00l9Ikhjlm/EaEABP9LEz92IYbOJ5xbP5onQE1m0mo/3gdb5OS9cz/k6a1sL815P6JPzv6b538/F9WWQcvvgj+aA4Z329GFP4J7tahQrYg/pNUvgCKEiz8XsR6M/EWOP5TOfmPafpA/dP+Fm9TbkT/GE+ubziqTP+8TOHdKd5Q/bF04AR65lT9Y7XgUqdeWP/7D8yEK15c//GzckgCkmD9a9zk8EFKZP+xW5FL7Bpo/ZUqD1bPEmj/uL1sjpKSbPxxbfaRpkZw/SuOxDT6HnT/khaKw84WeP9jZVEFze58/wjrYGgY+oD+KBnq/CbmgP/UnLNPhOKE/\",\"dtype\":\"float64\",\"shape\":[75]},\"y\":{\"__ndarray__\":\"GhExyth1ND/Sv8nbtpRIP2vylNV0PVE/aTum7souWD/At0SJ8fVgPw3Iuahxymc/MSNhhJWvcD/bTfBN02d3P2zb5nxnaoA/CD5h5MAGhz8NmeH1TyaQP+zrCsc9p5Y/LbKd76fGnz/bLW5ISEmmPww9YvTcQq8/JV2OstnstT8Er5Y7M8G+P0c+r3jqkcU/5h99k6ZBzj88bCIzFzjVP4enV8oyxN0//yH99nXg5D8qOpLLf0jtP5kqGJXUifQ/c9cS8kHP/D+/DpwzojQEQIEmwoanVwxA4lgXt9HgE0BSSZ2AJuIbQAMJih9jjiNA5q4l5INuK0AwTKYKRj0zQNv5fmq8/DpAaCJseHrtQkB/+zpwzoxKQM3MzMzMeFJAZmZmZmZqWEAAAAAAAFxeQM3MzMzMJmJAmpmZmZkfZUBmZmZmZhhoQDMzMzMzEWtAAAAAAAAKbkBmZmZmZoFwQM3MzMzM/XFAMzMzMzN6c0CamZmZmfZ0QAAAAAAAc3ZAZmZmZmbvd0DNzMzMzGt5QDMzMzMz6HpAmpmZmZlkfEAAAAAAAOF9QGZmZmZmXX9AZmZmZuZsgECamZmZGSuBQM3MzMxM6YFAAAAAAICngkAzMzMzs2WDQGZmZmbmI4RAmpmZmRnihEDNzMzMTKCFQAAAAACAXoZAMzMzM7Mch0BmZmZm5tqHQJqZmZkZmYhAzczMzExXiUAAAAAAgBWKQDMzMzOz04pAZmZmZuaRi0CamZmZGVCMQM3MzMxMDo1AAAAAAIDMjUAzMzMzs4qOQGZmZmbmSI9A\",\"dtype\":\"float64\",\"shape\":[75]}},\"selected\":{\"id\":\"ecab074d-5a56-44c4-b9ac-8434918bfd0f\",\"type\":\"Selection\"},\"selection_policy\":{\"id\":\"58f83125-29e9-4d7b-bd4a-ed46706640fa\",\"type\":\"UnionRenderers\"}},\"id\":\"086ad038-c5b7-4d28-b39f-78cf2c88a65c\",\"type\":\"ColumnDataSource\"},{\"attributes\":{\"fill_alpha\":{\"value\":0.7},\"fill_color\":{\"value\":\"#984ea3\"},\"line_alpha\":{\"value\":0.7},\"line_color\":{\"value\":\"#984ea3\"},\"x\":{\"field\":\"x\"},\"y\":{\"field\":\"y\"}},\"id\":\"5240d177-f98c-48ed-95bb-de18347fc965\",\"type\":\"Square\"},{\"attributes\":{\"line_alpha\":0.1,\"line_color\":\"#1f77b4\",\"line_width\":1.5,\"x\":{\"field\":\"x\"},\"y\":{\"field\":\"y\"}},\"id\":\"8f6b91b6-7e2b-4d1f-b509-5498b6390fc7\",\"type\":\"Line\"},{\"attributes\":{\"callback\":null,\"data\":{\"x\":{\"__ndarray__\":\"VoKQVxxkXj+B3ypwesVgPzR8idBSBWQ/uqh1XsxWZz8uD2W9V7BqP1LdjNMGDG4/gOudEHu2cD8nxYLn+WdyP721DMhzGXQ/bc238P3MdT9+hMWSIml3Pz0BTNMI9Hg/QDlnU7Fkej+l6TmTXTh8P9+QAsh67oE/VuFp5dMnij/MxIq7TT2SP2VvsVFHyZc/YuBhkGi1nT83W2SNYQGiP9vS52fvWKU/HcxVM06FqD8cYte3s1upP4qgAH6MyKc/fHxxis9bpT9sm76r2VuiP6ZEXAGI6Z4/Z+Kj13G4mT88JHXAURyVP1bbzTiC95A/6it+YJg4ij/Ylx/oGbeCP1mF8hfOOHY/lF/hwMZeWD9uqhB8vOpuvyoxwB8tt4S/zCbZlrzbjb9SNexBCTaOv57AMxrrbYm/wOQ61fckhb8BoIVi/S+Bv0pg6mVf63q/cU/D2KjKc78fTtVzPuhpvzAj90BJcFm/MMkQImu42D7N5LMuCeZYPwgnLihIhmg/ZBFcZqAmcj819p1kY+d3P2A0Fa1WiX0/mvQZJ9qHgT++cXBjiz6EP5/Mtn0C6oY/CYze/JyLiT+qdMpLXCSMP1afwcV8tY4/6vTPBuefkD8SPdrtmeCRP3EZqg6KG5M/BEOvUr1KlD9OfxqhnV+VP2gy+3dfR5Y/GF4wDJ39lj9KXaoKeJaXPwTvnk8XMJg/soFR5PzgmD+psIj5ja+ZPx7sXoFAlJo/TglVWBOFmz/ODOwH7XucP8i/qIOJdp0/vDQAPrFznj8+snKVEnWfP6PrX+USP6A/\",\"dtype\":\"float64\",\"shape\":[75]},\"y\":{\"__ndarray__\":\"GhExyth1ND/Sv8nbtpRIP2vylNV0PVE/aTum7souWD/At0SJ8fVgPw3Iuahxymc/MSNhhJWvcD/bTfBN02d3P2zb5nxnaoA/CD5h5MAGhz8NmeH1TyaQP+zrCsc9p5Y/LbKd76fGnz/bLW5ISEmmPww9YvTcQq8/JV2OstnstT8Er5Y7M8G+P0c+r3jqkcU/5h99k6ZBzj88bCIzFzjVP4enV8oyxN0//yH99nXg5D8qOpLLf0jtP5kqGJXUifQ/c9cS8kHP/D+/DpwzojQEQIEmwoanVwxA4lgXt9HgE0BSSZ2AJuIbQAMJih9jjiNA5q4l5INuK0AwTKYKRj0zQNv5fmq8/DpAaCJseHrtQkB/+zpwzoxKQM3MzMzMeFJAZmZmZmZqWEAAAAAAAFxeQM3MzMzMJmJAmpmZmZkfZUBmZmZmZhhoQDMzMzMzEWtAAAAAAAAKbkBmZmZmZoFwQM3MzMzM/XFAMzMzMzN6c0CamZmZmfZ0QAAAAAAAc3ZAZmZmZmbvd0DNzMzMzGt5QDMzMzMz6HpAmpmZmZlkfEAAAAAAAOF9QGZmZmZmXX9AZmZmZuZsgECamZmZGSuBQM3MzMxM6YFAAAAAAICngkAzMzMzs2WDQGZmZmbmI4RAmpmZmRnihEDNzMzMTKCFQAAAAACAXoZAMzMzM7Mch0BmZmZm5tqHQJqZmZkZmYhAzczMzExXiUAAAAAAgBWKQDMzMzOz04pAZmZmZuaRi0CamZmZGVCMQM3MzMxMDo1AAAAAAIDMjUAzMzMzs4qOQGZmZmbmSI9A\",\"dtype\":\"float64\",\"shape\":[75]}},\"selected\":{\"id\":\"17d22354-b54c-4f7d-b31d-bfafda2f61db\",\"type\":\"Selection\"},\"selection_policy\":{\"id\":\"3dea94cb-8cc2-43b9-a24e-6fde28f16b9a\",\"type\":\"UnionRenderers\"}},\"id\":\"17a48611-b147-4bc2-b336-fae38b3eb9f6\",\"type\":\"ColumnDataSource\"},{\"attributes\":{\"data_source\":{\"id\":\"086ad038-c5b7-4d28-b39f-78cf2c88a65c\",\"type\":\"ColumnDataSource\"},\"glyph\":{\"id\":\"d1346518-458e-4a2a-a1aa-637c56f3e596\",\"type\":\"Line\"},\"hover_glyph\":null,\"muted_glyph\":null,\"nonselection_glyph\":{\"id\":\"3d2c6e96-d840-4bd1-a00f-829d0a8af581\",\"type\":\"Line\"},\"selection_glyph\":null,\"view\":{\"id\":\"2ba80be8-6f62-40fa-8189-fad730289987\",\"type\":\"CDSView\"}},\"id\":\"5ac747ed-0cf1-413a-90dd-e9c82404366a\",\"type\":\"GlyphRenderer\"},{\"attributes\":{\"fill_alpha\":{\"value\":0.1},\"fill_color\":{\"value\":\"#1f77b4\"},\"line_alpha\":{\"value\":0.1},\"line_color\":{\"value\":\"#1f77b4\"},\"x\":{\"field\":\"x\"},\"y\":{\"field\":\"y\"}},\"id\":\"5d1d763b-aff6-4f25-84a2-b727ddf52feb\",\"type\":\"Triangle\"},{\"attributes\":{\"line_alpha\":0.1,\"line_color\":\"#1f77b4\",\"line_width\":3,\"x\":{\"field\":\"x\"},\"y\":{\"field\":\"y\"}},\"id\":\"3d2c6e96-d840-4bd1-a00f-829d0a8af581\",\"type\":\"Line\"},{\"attributes\":{\"callback\":null,\"data\":{\"x\":{\"__ndarray__\":\"Jcyt52tBez/SEU0wLuZ7Py/xr994Nn0/6Qay4CeOfj8+zHdNnOh/P8r6PVvZooA/l0swgqlSgT9g1f1EzwOCP0jCxtgptoI/JpQLA7Npgz+uI6KqVh6EP+upoSsA1IQ/Oc8GDy6LhT8inezwlXaGP6LayW9KyIk/eSXPvWVbkD/4R+Xor7KUP+xNmXcFaJk/D2rjwAN8nj93QLn0hvehPzlwS0k54KQ/XOtIWUyspz/tn+D8IJyoPznVmEzdlqc/jhLZE4rNpT9Qkpr3PGmjP1a6WBkF5aA/dtvCX+DHnD+e3IJ+gsiXP6DPobQ2yJI/0SSOEKSLiz9xrKb15ZSBP2rMq//aVm8/0vTbSyGmSb+A+ZZeXkB4v7YGJp9tIYe/2Hbd0p86jr8NAo6x0UGOv47MFTAJKIq/fgGBMvQthr9f9+EWr1aCv2Ms5KSIOX2/2hxnktHzdb91E+2rg75tv8Rkrn+v4V+/8CP3UJnCM79WT9fBvWBVPxm8N6TYjWc/FHAY52MRcj+qVIFtiTh4P+p2RyYmP34/hTsqw5QTgj+o4hfqHvmEP0pYBlob0Yc/f83Z72ycij+zZBizwVuNPxsDHpjkB5A/AnWqA3dckT84RyNEVaqSPxJZ5lwq8JM/9xZN5TgplT8ZdosNDEqWP8wZGwxGRJc/KqNEZeAUmD8IW9Q1v8uYP3xJSampgJk//rO3s25Fmj9/rt4qTR+bPxZWYL+dCJw/GotUR2/5nD9OqE1EkuydP3G49Sym354/6pLXJY/Qnz9z/RXTwF+gPzySWyuL1qA/\",\"dtype\":\"float64\",\"shape\":[75]},\"y\":{\"__ndarray__\":\"GhExyth1ND/Sv8nbtpRIP2vylNV0PVE/aTum7souWD/At0SJ8fVgPw3Iuahxymc/MSNhhJWvcD/bTfBN02d3P2zb5nxnaoA/CD5h5MAGhz8NmeH1TyaQP+zrCsc9p5Y/LbKd76fGnz/bLW5ISEmmPww9YvTcQq8/JV2OstnstT8Er5Y7M8G+P0c+r3jqkcU/5h99k6ZBzj88bCIzFzjVP4enV8oyxN0//yH99nXg5D8qOpLLf0jtP5kqGJXUifQ/c9cS8kHP/D+/DpwzojQEQIEmwoanVwxA4lgXt9HgE0BSSZ2AJuIbQAMJih9jjiNA5q4l5INuK0AwTKYKRj0zQNv5fmq8/DpAaCJseHrtQkB/+zpwzoxKQM3MzMzMeFJAZmZmZmZqWEAAAAAAAFxeQM3MzMzMJmJAmpmZmZkfZUBmZmZmZhhoQDMzMzMzEWtAAAAAAAAKbkBmZmZmZoFwQM3MzMzM/XFAMzMzMzN6c0CamZmZmfZ0QAAAAAAAc3ZAZmZmZmbvd0DNzMzMzGt5QDMzMzMz6HpAmpmZmZlkfEAAAAAAAOF9QGZmZmZmXX9AZmZmZuZsgECamZmZGSuBQM3MzMxM6YFAAAAAAICngkAzMzMzs2WDQGZmZmbmI4RAmpmZmRnihEDNzMzMTKCFQAAAAACAXoZAMzMzM7Mch0BmZmZm5tqHQJqZmZkZmYhAzczMzExXiUAAAAAAgBWKQDMzMzOz04pAZmZmZuaRi0CamZmZGVCMQM3MzMxMDo1AAAAAAIDMjUAzMzMzs4qOQGZmZmbmSI9A\",\"dtype\":\"float64\",\"shape\":[75]}},\"selected\":{\"id\":\"b551b516-394d-46df-8100-488ba53a82d4\",\"type\":\"Selection\"},\"selection_policy\":{\"id\":\"3dc9af79-bf2a-4b3d-a60c-9cf1e4f4e3d1\",\"type\":\"UnionRenderers\"}},\"id\":\"07a28601-8466-44f3-81f6-0a67345e0bd8\",\"type\":\"ColumnDataSource\"},{\"attributes\":{\"fill_alpha\":{\"value\":0.7},\"fill_color\":{\"value\":\"#377eb8\"},\"line_alpha\":{\"value\":0.7},\"line_color\":{\"value\":\"#377eb8\"},\"x\":{\"field\":\"x\"},\"y\":{\"field\":\"y\"}},\"id\":\"35e424c6-b7d8-426a-aa06-e7efc3a5a76f\",\"type\":\"Triangle\"},{\"attributes\":{\"data_source\":{\"id\":\"07a28601-8466-44f3-81f6-0a67345e0bd8\",\"type\":\"ColumnDataSource\"},\"glyph\":{\"id\":\"35e424c6-b7d8-426a-aa06-e7efc3a5a76f\",\"type\":\"Triangle\"},\"hover_glyph\":null,\"muted_glyph\":null,\"nonselection_glyph\":{\"id\":\"5d1d763b-aff6-4f25-84a2-b727ddf52feb\",\"type\":\"Triangle\"},\"selection_glyph\":null,\"view\":{\"id\":\"6c32b21a-3e3f-4512-b236-0899d5882ae6\",\"type\":\"CDSView\"}},\"id\":\"5305bdb7-67d7-4c05-8622-5b35a01d4b62\",\"type\":\"GlyphRenderer\"},{\"attributes\":{\"children\":[{\"id\":\"e448ff11-8e7b-4418-aec3-a4370984c0bc\",\"subtype\":\"Figure\",\"type\":\"Plot\"},{\"id\":\"a825767b-5e85-479c-b380-1d1673dbda9c\",\"subtype\":\"Figure\",\"type\":\"Plot\"}]},\"id\":\"0c45c4ee-bc12-4674-bd42-84bd53f9842b\",\"type\":\"Row\"},{\"attributes\":{\"above\":[{\"id\":\"01747ab6-d8bc-4fe1-8894-1144ee3ae5be\",\"type\":\"Legend\"}],\"below\":[{\"id\":\"f2d1cf4e-692b-49c4-b029-71abf0d6cb82\",\"type\":\"LinearAxis\"}],\"left\":[{\"id\":\"45e6cd5b-917c-4c31-a5b2-8a47d7275f13\",\"type\":\"LinearAxis\"}],\"plot_height\":500,\"plot_width\":400,\"renderers\":[{\"id\":\"f2d1cf4e-692b-49c4-b029-71abf0d6cb82\",\"type\":\"LinearAxis\"},{\"id\":\"e0aa5e3a-ee0a-4802-8b68-caa82fedc017\",\"type\":\"Grid\"},{\"id\":\"45e6cd5b-917c-4c31-a5b2-8a47d7275f13\",\"type\":\"LinearAxis\"},{\"id\":\"45e5237d-b85d-45f2-a5bd-5270bfafda6c\",\"type\":\"Grid\"},{\"id\":\"f2d149bb-3186-4f02-a465-fe0538ff00ac\",\"type\":\"BoxAnnotation\"},{\"id\":\"609e1edf-eef0-4b74-bc5c-b3aec3fdd91a\",\"type\":\"GlyphRenderer\"},{\"id\":\"7a8d5403-8afd-47f0-8265-3d45d78e7de8\",\"type\":\"GlyphRenderer\"},{\"id\":\"91a61f93-ee64-4c6a-a7f3-b3d30bb22e68\",\"type\":\"GlyphRenderer\"},{\"id\":\"5ac747ed-0cf1-413a-90dd-e9c82404366a\",\"type\":\"GlyphRenderer\"},{\"id\":\"5305bdb7-67d7-4c05-8622-5b35a01d4b62\",\"type\":\"GlyphRenderer\"},{\"id\":\"574bb370-8c33-4f8f-aa8f-7716c9d5ccae\",\"type\":\"GlyphRenderer\"},{\"id\":\"01747ab6-d8bc-4fe1-8894-1144ee3ae5be\",\"type\":\"Legend\"}],\"title\":{\"id\":\"5eed1a93-5771-472e-b7f8-065abc175cd9\",\"type\":\"Title\"},\"toolbar\":{\"id\":\"9cdf34da-2032-4d01-bda5-8e03a7362018\",\"type\":\"Toolbar\"},\"toolbar_location\":null,\"x_range\":{\"id\":\"b8ee0390-5020-4139-8b2d-f2e1c724f6c6\",\"type\":\"Range1d\"},\"x_scale\":{\"id\":\"3d36fd09-bb6c-45fd-8045-584a65a40e18\",\"type\":\"LinearScale\"},\"y_range\":{\"id\":\"b5595fe0-e9d9-4ae6-a458-b682e8c0b902\",\"type\":\"Range1d\"},\"y_scale\":{\"id\":\"55cbc9c7-342b-4a9f-9423-fc496d587667\",\"type\":\"LinearScale\"}},\"id\":\"e448ff11-8e7b-4418-aec3-a4370984c0bc\",\"subtype\":\"Figure\",\"type\":\"Plot\"},{\"attributes\":{\"line_alpha\":0.1,\"line_color\":\"#1f77b4\",\"line_width\":2,\"x\":{\"field\":\"x\"},\"y\":{\"field\":\"y\"}},\"id\":\"600fc809-2cfc-4e2d-85b0-013289c619f4\",\"type\":\"Line\"},{\"attributes\":{\"data_source\":{\"id\":\"1f017f87-6e24-4235-b6d5-ce18ca4b425c\",\"type\":\"ColumnDataSource\"},\"glyph\":{\"id\":\"933a92c2-3ac1-4801-9614-ba4a03a90200\",\"type\":\"Line\"},\"hover_glyph\":null,\"muted_glyph\":null,\"nonselection_glyph\":{\"id\":\"600fc809-2cfc-4e2d-85b0-013289c619f4\",\"type\":\"Line\"},\"selection_glyph\":null,\"view\":{\"id\":\"29976bc6-4359-424a-8e7f-63d15c603ef8\",\"type\":\"CDSView\"}},\"id\":\"80c7b967-e695-4250-b343-8c0095d890df\",\"type\":\"GlyphRenderer\"},{\"attributes\":{\"fill_alpha\":{\"value\":0.1},\"fill_color\":{\"value\":\"#1f77b4\"},\"line_alpha\":{\"value\":0.1},\"line_color\":{\"value\":\"#1f77b4\"},\"x\":{\"field\":\"x\"},\"y\":{\"field\":\"y\"}},\"id\":\"2048411e-f5a7-429f-98a8-2f6591516262\",\"type\":\"Square\"},{\"attributes\":{\"label\":{\"value\":\"WGT igg=1\"},\"renderers\":[{\"id\":\"debe42ba-5d41-4f11-904e-b4d230d8efdf\",\"type\":\"GlyphRenderer\"},{\"id\":\"f6dd9c29-bd8f-4269-a86c-1f0eff4f5d33\",\"type\":\"GlyphRenderer\"}]},\"id\":\"607b48dd-8b65-4c28-bfc4-178a33bc0897\",\"type\":\"LegendItem\"},{\"attributes\":{\"source\":{\"id\":\"1f017f87-6e24-4235-b6d5-ce18ca4b425c\",\"type\":\"ColumnDataSource\"}},\"id\":\"29976bc6-4359-424a-8e7f-63d15c603ef8\",\"type\":\"CDSView\"},{\"attributes\":{\"callback\":null,\"end\":0.034121293328,\"start\":-0.015266303728},\"id\":\"b8ee0390-5020-4139-8b2d-f2e1c724f6c6\",\"type\":\"Range1d\"},{\"attributes\":{\"callback\":null,\"end\":0.0522886555616,\"start\":-0.0154461786016},\"id\":\"73a5b00f-323d-43aa-968d-eb480f5bf30d\",\"type\":\"Range1d\"},{\"attributes\":{},\"id\":\"3d36fd09-bb6c-45fd-8045-584a65a40e18\",\"type\":\"LinearScale\"},{\"attributes\":{},\"id\":\"6680280f-5083-4ace-95ee-f7eb7f778f1d\",\"type\":\"BasicTickFormatter\"},{\"attributes\":{},\"id\":\"ecab074d-5a56-44c4-b9ac-8434918bfd0f\",\"type\":\"Selection\"},{\"attributes\":{\"items\":[{\"id\":\"242a1bd6-2eda-4d51-8f49-b8d4d8fd0262\",\"type\":\"LegendItem\"},{\"id\":\"607b48dd-8b65-4c28-bfc4-178a33bc0897\",\"type\":\"LegendItem\"},{\"id\":\"ba972502-ccca-4204-b75c-f8938d900ae1\",\"type\":\"LegendItem\"}],\"label_text_font_size\":{\"value\":\"8pt\"},\"location\":\"top_center\",\"orientation\":\"horizontal\",\"plot\":{\"id\":\"a825767b-5e85-479c-b380-1d1673dbda9c\",\"subtype\":\"Figure\",\"type\":\"Plot\"}},\"id\":\"fbb2c426-e69f-4dcc-a736-c97e79b6072c\",\"type\":\"Legend\"},{\"attributes\":{},\"id\":\"76879ffe-7d49-48e6-9f72-64fd330af38a\",\"type\":\"UnionRenderers\"},{\"attributes\":{\"label\":{\"value\":\"CRD\"},\"renderers\":[{\"id\":\"f5410500-d79c-4a8e-9a9d-5f1ad378aeb0\",\"type\":\"GlyphRenderer\"},{\"id\":\"1b64002f-70c5-4b8f-a859-284bae4893ac\",\"type\":\"GlyphRenderer\"}]},\"id\":\"242a1bd6-2eda-4d51-8f49-b8d4d8fd0262\",\"type\":\"LegendItem\"},{\"attributes\":{\"ticker\":null},\"id\":\"e998b220-844f-48ca-8aeb-235982f2edc8\",\"type\":\"LogTickFormatter\"},{\"attributes\":{},\"id\":\"b551b516-394d-46df-8100-488ba53a82d4\",\"type\":\"Selection\"},{\"attributes\":{\"line_color\":\"#4daf4a\",\"line_width\":1.5,\"x\":{\"field\":\"x\"},\"y\":{\"field\":\"y\"}},\"id\":\"5c929aee-d97e-4e91-873a-77022adb66c8\",\"type\":\"Line\"},{\"attributes\":{\"axis_label\":\"pressure [mb]\",\"formatter\":{\"id\":\"672b201c-82f8-4a0b-bdea-0949b565d8f5\",\"type\":\"BasicTickFormatter\"},\"plot\":{\"id\":\"e448ff11-8e7b-4418-aec3-a4370984c0bc\",\"subtype\":\"Figure\",\"type\":\"Plot\"},\"ticker\":{\"id\":\"4416eb0b-117c-43bf-8478-765f988a62e1\",\"type\":\"BasicTicker\"}},\"id\":\"45e6cd5b-917c-4c31-a5b2-8a47d7275f13\",\"type\":\"LinearAxis\"},{\"attributes\":{\"items\":[{\"id\":\"9f58b0ac-d55e-497c-8a9b-abeec46dc806\",\"type\":\"LegendItem\"},{\"id\":\"963edb89-7c2d-4350-8ad9-f47faa7c6d29\",\"type\":\"LegendItem\"},{\"id\":\"0aadbf76-ef42-4a07-be41-7f222e071db1\",\"type\":\"LegendItem\"}],\"label_text_font_size\":{\"value\":\"8pt\"},\"location\":\"top_center\",\"orientation\":\"horizontal\",\"plot\":{\"id\":\"e448ff11-8e7b-4418-aec3-a4370984c0bc\",\"subtype\":\"Figure\",\"type\":\"Plot\"}},\"id\":\"01747ab6-d8bc-4fe1-8894-1144ee3ae5be\",\"type\":\"Legend\"},{\"attributes\":{\"data_source\":{\"id\":\"4dc87f20-4465-4efc-8b43-206a8b547c56\",\"type\":\"ColumnDataSource\"},\"glyph\":{\"id\":\"27ca3323-1771-4fed-8057-f3a42cc25909\",\"type\":\"Square\"},\"hover_glyph\":null,\"muted_glyph\":null,\"nonselection_glyph\":{\"id\":\"2048411e-f5a7-429f-98a8-2f6591516262\",\"type\":\"Square\"},\"selection_glyph\":null,\"view\":{\"id\":\"865e6e7c-65d4-4ccc-9c72-f7260ddbe65d\",\"type\":\"CDSView\"}},\"id\":\"debe42ba-5d41-4f11-904e-b4d230d8efdf\",\"type\":\"GlyphRenderer\"},{\"attributes\":{\"label\":{\"value\":\"WGT igg=10\"},\"renderers\":[{\"id\":\"ddc4308a-77a5-4236-ae0a-a21ec7fe5962\",\"type\":\"GlyphRenderer\"},{\"id\":\"80c7b967-e695-4250-b343-8c0095d890df\",\"type\":\"GlyphRenderer\"}]},\"id\":\"ba972502-ccca-4204-b75c-f8938d900ae1\",\"type\":\"LegendItem\"},{\"attributes\":{\"active_drag\":\"auto\",\"active_inspect\":\"auto\",\"active_scroll\":\"auto\",\"active_tap\":\"auto\",\"tools\":[{\"id\":\"7b4c932a-8cac-4622-9e55-14b98465375f\",\"type\":\"PanTool\"},{\"id\":\"ca2fc2a5-36bd-4b76-941f-4570d7412a17\",\"type\":\"WheelZoomTool\"},{\"id\":\"0fb1aa7e-e2ce-49ef-84de-bb1ddd061188\",\"type\":\"BoxZoomTool\"},{\"id\":\"29719d2a-68a5-4d78-a324-fade757121e2\",\"type\":\"SaveTool\"},{\"id\":\"3e498f07-17e9-4444-b9ab-eca19a372065\",\"type\":\"ResetTool\"},{\"id\":\"29561fe2-f1fb-47dd-9071-f8a8f38cfe24\",\"type\":\"HelpTool\"}]},\"id\":\"9cdf34da-2032-4d01-bda5-8e03a7362018\",\"type\":\"Toolbar\"},{\"attributes\":{\"plot\":null,\"text\":\"\"},\"id\":\"5eed1a93-5771-472e-b7f8-065abc175cd9\",\"type\":\"Title\"},{\"attributes\":{},\"id\":\"55cbc9c7-342b-4a9f-9423-fc496d587667\",\"type\":\"LinearScale\"},{\"attributes\":{\"dimension\":1,\"plot\":{\"id\":\"e448ff11-8e7b-4418-aec3-a4370984c0bc\",\"subtype\":\"Figure\",\"type\":\"Plot\"},\"ticker\":{\"id\":\"4416eb0b-117c-43bf-8478-765f988a62e1\",\"type\":\"BasicTicker\"}},\"id\":\"45e5237d-b85d-45f2-a5bd-5270bfafda6c\",\"type\":\"Grid\"},{\"attributes\":{},\"id\":\"672b201c-82f8-4a0b-bdea-0949b565d8f5\",\"type\":\"BasicTickFormatter\"},{\"attributes\":{},\"id\":\"17392389-eb05-41a4-b5be-3b9a0c2ab441\",\"type\":\"Selection\"},{\"attributes\":{\"children\":[{\"id\":\"0c45c4ee-bc12-4674-bd42-84bd53f9842b\",\"type\":\"Row\"}]},\"id\":\"13270bd5-430f-4e43-9c01-3f460a4c2002\",\"type\":\"Column\"},{\"attributes\":{\"callback\":null,\"data\":{\"x\":{\"__ndarray__\":\"Jcyt52tBez/SEU0wLuZ7Py/xr994Nn0/6Qay4CeOfj8+zHdNnOh/P8r6PVvZooA/l0swgqlSgT9g1f1EzwOCP0jCxtgptoI/JpQLA7Npgz+uI6KqVh6EP+upoSsA1IQ/Oc8GDy6LhT8inezwlXaGP6LayW9KyIk/eSXPvWVbkD/4R+Xor7KUP+xNmXcFaJk/D2rjwAN8nj93QLn0hvehPzlwS0k54KQ/XOtIWUyspz/tn+D8IJyoPznVmEzdlqc/jhLZE4rNpT9Qkpr3PGmjP1a6WBkF5aA/dtvCX+DHnD+e3IJ+gsiXP6DPobQ2yJI/0SSOEKSLiz9xrKb15ZSBP2rMq//aVm8/0vTbSyGmSb+A+ZZeXkB4v7YGJp9tIYe/2Hbd0p86jr8NAo6x0UGOv47MFTAJKIq/fgGBMvQthr9f9+EWr1aCv2Ms5KSIOX2/2hxnktHzdb91E+2rg75tv8Rkrn+v4V+/8CP3UJnCM79WT9fBvWBVPxm8N6TYjWc/FHAY52MRcj+qVIFtiTh4P+p2RyYmP34/hTsqw5QTgj+o4hfqHvmEP0pYBlob0Yc/f83Z72ycij+zZBizwVuNPxsDHpjkB5A/AnWqA3dckT84RyNEVaqSPxJZ5lwq8JM/9xZN5TgplT8ZdosNDEqWP8wZGwxGRJc/KqNEZeAUmD8IW9Q1v8uYP3xJSampgJk//rO3s25Fmj9/rt4qTR+bPxZWYL+dCJw/GotUR2/5nD9OqE1EkuydP3G49Sym354/6pLXJY/Qnz9z/RXTwF+gPzySWyuL1qA/\",\"dtype\":\"float64\",\"shape\":[75]},\"y\":{\"__ndarray__\":\"GhExyth1ND/Sv8nbtpRIP2vylNV0PVE/aTum7souWD/At0SJ8fVgPw3Iuahxymc/MSNhhJWvcD/bTfBN02d3P2zb5nxnaoA/CD5h5MAGhz8NmeH1TyaQP+zrCsc9p5Y/LbKd76fGnz/bLW5ISEmmPww9YvTcQq8/JV2OstnstT8Er5Y7M8G+P0c+r3jqkcU/5h99k6ZBzj88bCIzFzjVP4enV8oyxN0//yH99nXg5D8qOpLLf0jtP5kqGJXUifQ/c9cS8kHP/D+/DpwzojQEQIEmwoanVwxA4lgXt9HgE0BSSZ2AJuIbQAMJih9jjiNA5q4l5INuK0AwTKYKRj0zQNv5fmq8/DpAaCJseHrtQkB/+zpwzoxKQM3MzMzMeFJAZmZmZmZqWEAAAAAAAFxeQM3MzMzMJmJAmpmZmZkfZUBmZmZmZhhoQDMzMzMzEWtAAAAAAAAKbkBmZmZmZoFwQM3MzMzM/XFAMzMzMzN6c0CamZmZmfZ0QAAAAAAAc3ZAZmZmZmbvd0DNzMzMzGt5QDMzMzMz6HpAmpmZmZlkfEAAAAAAAOF9QGZmZmZmXX9AZmZmZuZsgECamZmZGSuBQM3MzMxM6YFAAAAAAICngkAzMzMzs2WDQGZmZmbmI4RAmpmZmRnihEDNzMzMTKCFQAAAAACAXoZAMzMzM7Mch0BmZmZm5tqHQJqZmZkZmYhAzczMzExXiUAAAAAAgBWKQDMzMzOz04pAZmZmZuaRi0CamZmZGVCMQM3MzMxMDo1AAAAAAIDMjUAzMzMzs4qOQGZmZmbmSI9A\",\"dtype\":\"float64\",\"shape\":[75]}},\"selected\":{\"id\":\"78b005e0-eb10-4e09-b69a-a8f5c8f27f07\",\"type\":\"Selection\"},\"selection_policy\":{\"id\":\"2dd126cd-ff20-4ca2-85c2-f21906115ba7\",\"type\":\"UnionRenderers\"}},\"id\":\"1f017f87-6e24-4235-b6d5-ce18ca4b425c\",\"type\":\"ColumnDataSource\"},{\"attributes\":{},\"id\":\"be86c900-001e-4cba-97f7-45c219b37c51\",\"type\":\"BasicTickFormatter\"},{\"attributes\":{\"line_alpha\":0.6,\"line_color\":\"#984ea3\",\"line_width\":3,\"x\":{\"field\":\"x\"},\"y\":{\"field\":\"y\"}},\"id\":\"9f868ebc-7b7e-4c64-a3bc-c706264f9894\",\"type\":\"Line\"},{\"attributes\":{\"data_source\":{\"id\":\"b6e7c90f-7d08-4476-b465-aa7e3487581b\",\"type\":\"ColumnDataSource\"},\"glyph\":{\"id\":\"5c929aee-d97e-4e91-873a-77022adb66c8\",\"type\":\"Line\"},\"hover_glyph\":null,\"muted_glyph\":null,\"nonselection_glyph\":{\"id\":\"b45ed2ff-f08b-4791-a4d1-6754698b6474\",\"type\":\"Line\"},\"selection_glyph\":null,\"view\":{\"id\":\"6d75c73a-6138-477e-b498-d8d8204ad6df\",\"type\":\"CDSView\"}},\"id\":\"1b64002f-70c5-4b8f-a859-284bae4893ac\",\"type\":\"GlyphRenderer\"},{\"attributes\":{\"source\":{\"id\":\"dd23cf30-4b23-4127-b71f-d7d21af1be14\",\"type\":\"ColumnDataSource\"}},\"id\":\"80efd7a8-9946-491e-b489-cde821b9aea0\",\"type\":\"CDSView\"},{\"attributes\":{},\"id\":\"58f83125-29e9-4d7b-bd4a-ed46706640fa\",\"type\":\"UnionRenderers\"},{\"attributes\":{\"source\":{\"id\":\"4dc87f20-4465-4efc-8b43-206a8b547c56\",\"type\":\"ColumnDataSource\"}},\"id\":\"865e6e7c-65d4-4ccc-9c72-f7260ddbe65d\",\"type\":\"CDSView\"},{\"attributes\":{},\"id\":\"3dc9af79-bf2a-4b3d-a60c-9cf1e4f4e3d1\",\"type\":\"UnionRenderers\"},{\"attributes\":{},\"id\":\"4416eb0b-117c-43bf-8478-765f988a62e1\",\"type\":\"BasicTicker\"},{\"attributes\":{},\"id\":\"c30d6a28-e312-486d-8158-f45e83107f8c\",\"type\":\"Selection\"},{\"attributes\":{\"plot\":null,\"text\":\"\"},\"id\":\"cd28ee94-f811-4df3-8c4b-4891f593371d\",\"type\":\"Title\"},{\"attributes\":{},\"id\":\"f2142cfd-ffcb-4887-8908-14ab859a0649\",\"type\":\"BasicTicker\"},{\"attributes\":{\"axis_label\":\"cooling rate [K/day]\",\"formatter\":{\"id\":\"be86c900-001e-4cba-97f7-45c219b37c51\",\"type\":\"BasicTickFormatter\"},\"plot\":{\"id\":\"e448ff11-8e7b-4418-aec3-a4370984c0bc\",\"subtype\":\"Figure\",\"type\":\"Plot\"},\"ticker\":{\"id\":\"f2142cfd-ffcb-4887-8908-14ab859a0649\",\"type\":\"BasicTicker\"}},\"id\":\"f2d1cf4e-692b-49c4-b029-71abf0d6cb82\",\"type\":\"LinearAxis\"},{\"attributes\":{\"source\":{\"id\":\"23df6067-8a4d-4abb-91e6-e544e2b8c37d\",\"type\":\"ColumnDataSource\"}},\"id\":\"c6de5d2d-2a72-489c-8412-babf7f4f308b\",\"type\":\"CDSView\"},{\"attributes\":{\"callback\":null,\"end\":0.01,\"start\":1020},\"id\":\"b5595fe0-e9d9-4ae6-a458-b682e8c0b902\",\"type\":\"Range1d\"},{\"attributes\":{\"line_alpha\":0.3,\"line_color\":\"#377eb8\",\"line_width\":2,\"x\":{\"field\":\"x\"},\"y\":{\"field\":\"y\"}},\"id\":\"933a92c2-3ac1-4801-9614-ba4a03a90200\",\"type\":\"Line\"},{\"attributes\":{\"plot\":{\"id\":\"e448ff11-8e7b-4418-aec3-a4370984c0bc\",\"subtype\":\"Figure\",\"type\":\"Plot\"},\"ticker\":{\"id\":\"f2142cfd-ffcb-4887-8908-14ab859a0649\",\"type\":\"BasicTicker\"}},\"id\":\"e0aa5e3a-ee0a-4802-8b68-caa82fedc017\",\"type\":\"Grid\"},{\"attributes\":{\"callback\":null,\"data\":{\"x\":{\"__ndarray__\":\"VoKQVxxkXj+B3ypwesVgPzR8idBSBWQ/uqh1XsxWZz8uD2W9V7BqP1LdjNMGDG4/gOudEHu2cD8nxYLn+WdyP721DMhzGXQ/bc238P3MdT9+hMWSIml3Pz0BTNMI9Hg/QDlnU7Fkej+l6TmTXTh8P9+QAsh67oE/VuFp5dMnij/MxIq7TT2SP2VvsVFHyZc/YuBhkGi1nT83W2SNYQGiP9vS52fvWKU/HcxVM06FqD8cYte3s1upP4qgAH6MyKc/fHxxis9bpT9sm76r2VuiP6ZEXAGI6Z4/Z+Kj13G4mT88JHXAURyVP1bbzTiC95A/6it+YJg4ij/Ylx/oGbeCP1mF8hfOOHY/lF/hwMZeWD9uqhB8vOpuvyoxwB8tt4S/zCbZlrzbjb9SNexBCTaOv57AMxrrbYm/wOQ61fckhb8BoIVi/S+Bv0pg6mVf63q/cU/D2KjKc78fTtVzPuhpvzAj90BJcFm/MMkQImu42D7N5LMuCeZYPwgnLihIhmg/ZBFcZqAmcj819p1kY+d3P2A0Fa1WiX0/mvQZJ9qHgT++cXBjiz6EP5/Mtn0C6oY/CYze/JyLiT+qdMpLXCSMP1afwcV8tY4/6vTPBuefkD8SPdrtmeCRP3EZqg6KG5M/BEOvUr1KlD9OfxqhnV+VP2gy+3dfR5Y/GF4wDJ39lj9KXaoKeJaXPwTvnk8XMJg/soFR5PzgmD+psIj5ja+ZPx7sXoFAlJo/TglVWBOFmz/ODOwH7XucP8i/qIOJdp0/vDQAPrFznj8+snKVEnWfP6PrX+USP6A/\",\"dtype\":\"float64\",\"shape\":[75]},\"y\":{\"__ndarray__\":\"GhExyth1ND/Sv8nbtpRIP2vylNV0PVE/aTum7souWD/At0SJ8fVgPw3Iuahxymc/MSNhhJWvcD/bTfBN02d3P2zb5nxnaoA/CD5h5MAGhz8NmeH1TyaQP+zrCsc9p5Y/LbKd76fGnz/bLW5ISEmmPww9YvTcQq8/JV2OstnstT8Er5Y7M8G+P0c+r3jqkcU/5h99k6ZBzj88bCIzFzjVP4enV8oyxN0//yH99nXg5D8qOpLLf0jtP5kqGJXUifQ/c9cS8kHP/D+/DpwzojQEQIEmwoanVwxA4lgXt9HgE0BSSZ2AJuIbQAMJih9jjiNA5q4l5INuK0AwTKYKRj0zQNv5fmq8/DpAaCJseHrtQkB/+zpwzoxKQM3MzMzMeFJAZmZmZmZqWEAAAAAAAFxeQM3MzMzMJmJAmpmZmZkfZUBmZmZmZhhoQDMzMzMzEWtAAAAAAAAKbkBmZmZmZoFwQM3MzMzM/XFAMzMzMzN6c0CamZmZmfZ0QAAAAAAAc3ZAZmZmZmbvd0DNzMzMzGt5QDMzMzMz6HpAmpmZmZlkfEAAAAAAAOF9QGZmZmZmXX9AZmZmZuZsgECamZmZGSuBQM3MzMxM6YFAAAAAAICngkAzMzMzs2WDQGZmZmbmI4RAmpmZmRnihEDNzMzMTKCFQAAAAACAXoZAMzMzM7Mch0BmZmZm5tqHQJqZmZkZmYhAzczMzExXiUAAAAAAgBWKQDMzMzOz04pAZmZmZuaRi0CamZmZGVCMQM3MzMxMDo1AAAAAAIDMjUAzMzMzs4qOQGZmZmbmSI9A\",\"dtype\":\"float64\",\"shape\":[75]}},\"selected\":{\"id\":\"1c560679-d72c-458c-b263-6628e4ecf6d9\",\"type\":\"Selection\"},\"selection_policy\":{\"id\":\"620afbe7-05b8-41f2-81c7-ef2d24d11002\",\"type\":\"UnionRenderers\"}},\"id\":\"b6e7c90f-7d08-4476-b465-aa7e3487581b\",\"type\":\"ColumnDataSource\"},{\"attributes\":{\"callback\":null,\"data\":{\"x\":{\"__ndarray__\":\"aKqhbdC1eD+ze8qMp155Pw9Ia9XE0no/6LtvcBtPfD8A9UWnk859P0qhgzwNUX8/gYP0pjtrgD8cJWANgi+BP0YtAzo/9YE/XC2Wu0a8gj/WE4Z38oaDPwCFZmdYUYQ/hHOkv6kdhT9ltUsFWCSGPyVlJrkp1ok/oGPHdIjNkD923hkeCZyVP/FKdKr+1Jo/r01ibJU9oD9icc+LZSyjP7flcm+9Z6Y/qQmn2k9xqT9lvhG/iW6qP0HLhhEuOqk/J00ilu4spz8fNVHPf3WkP70TNyJ3n6E/fW4U6MWrnT8j2UVpmDSYP2t8q0Ik4JI/GnFw2dNniz+1mYANWHiBP/KUsHMT2m8/eBKE5hQPQb+uxvTXoNp2v/DevdpLvoa/sLWOWHFEjr+LQhpvFUaOv1MNw5NS2om/IYV11vyuhb/8ZwCBZMCBvxZKgs4t9nu/I0Ip/7aFdL/kFYr+a7dqv00l9Ikhjlm/EaEABP9LEz92IYbOJ5xbP5onQE1m0mo/3gdb5OS9cz/k6a1sL815P6JPzv6b538/F9WWQcvvgj+aA4Z329GFP4J7tahQrYg/pNUvgCKEiz8XsR6M/EWOP5TOfmPafpA/dP+Fm9TbkT/GE+ubziqTP+8TOHdKd5Q/bF04AR65lT9Y7XgUqdeWP/7D8yEK15c//GzckgCkmD9a9zk8EFKZP+xW5FL7Bpo/ZUqD1bPEmj/uL1sjpKSbPxxbfaRpkZw/SuOxDT6HnT/khaKw84WeP9jZVEFze58/wjrYGgY+oD+KBnq/CbmgP/UnLNPhOKE/\",\"dtype\":\"float64\",\"shape\":[75]},\"y\":{\"__ndarray__\":\"GhExyth1ND/Sv8nbtpRIP2vylNV0PVE/aTum7souWD/At0SJ8fVgPw3Iuahxymc/MSNhhJWvcD/bTfBN02d3P2zb5nxnaoA/CD5h5MAGhz8NmeH1TyaQP+zrCsc9p5Y/LbKd76fGnz/bLW5ISEmmPww9YvTcQq8/JV2OstnstT8Er5Y7M8G+P0c+r3jqkcU/5h99k6ZBzj88bCIzFzjVP4enV8oyxN0//yH99nXg5D8qOpLLf0jtP5kqGJXUifQ/c9cS8kHP/D+/DpwzojQEQIEmwoanVwxA4lgXt9HgE0BSSZ2AJuIbQAMJih9jjiNA5q4l5INuK0AwTKYKRj0zQNv5fmq8/DpAaCJseHrtQkB/+zpwzoxKQM3MzMzMeFJAZmZmZmZqWEAAAAAAAFxeQM3MzMzMJmJAmpmZmZkfZUBmZmZmZhhoQDMzMzMzEWtAAAAAAAAKbkBmZmZmZoFwQM3MzMzM/XFAMzMzMzN6c0CamZmZmfZ0QAAAAAAAc3ZAZmZmZmbvd0DNzMzMzGt5QDMzMzMz6HpAmpmZmZlkfEAAAAAAAOF9QGZmZmZmXX9AZmZmZuZsgECamZmZGSuBQM3MzMxM6YFAAAAAAICngkAzMzMzs2WDQGZmZmbmI4RAmpmZmRnihEDNzMzMTKCFQAAAAACAXoZAMzMzM7Mch0BmZmZm5tqHQJqZmZkZmYhAzczMzExXiUAAAAAAgBWKQDMzMzOz04pAZmZmZuaRi0CamZmZGVCMQM3MzMxMDo1AAAAAAIDMjUAzMzMzs4qOQGZmZmbmSI9A\",\"dtype\":\"float64\",\"shape\":[75]}},\"selected\":{\"id\":\"32c207d3-2dcc-4a14-87da-9114d289899c\",\"type\":\"Selection\"},\"selection_policy\":{\"id\":\"59ee7d92-4b4f-4eaf-8b7c-0d23bd835f9a\",\"type\":\"UnionRenderers\"}},\"id\":\"dd23cf30-4b23-4127-b71f-d7d21af1be14\",\"type\":\"ColumnDataSource\"},{\"attributes\":{\"data_source\":{\"id\":\"0c8f7151-04e4-46b6-abcb-838bd18d6253\",\"type\":\"ColumnDataSource\"},\"glyph\":{\"id\":\"966910e3-6379-4f47-a6a9-819504435097\",\"type\":\"Triangle\"},\"hover_glyph\":null,\"muted_glyph\":null,\"nonselection_glyph\":{\"id\":\"9d30f746-6253-4e04-b1d3-6abc9c9a4bdf\",\"type\":\"Triangle\"},\"selection_glyph\":null,\"view\":{\"id\":\"d0974cf6-cfba-4f07-8657-1690f131058f\",\"type\":\"CDSView\"}},\"id\":\"ddc4308a-77a5-4236-ae0a-a21ec7fe5962\",\"type\":\"GlyphRenderer\"},{\"attributes\":{\"callback\":null,\"data\":{\"x\":{\"__ndarray__\":\"aKqhbdC1eD+ze8qMp155Pw9Ia9XE0no/6LtvcBtPfD8A9UWnk859P0qhgzwNUX8/gYP0pjtrgD8cJWANgi+BP0YtAzo/9YE/XC2Wu0a8gj/WE4Z38oaDPwCFZmdYUYQ/hHOkv6kdhT9ltUsFWCSGPyVlJrkp1ok/oGPHdIjNkD923hkeCZyVP/FKdKr+1Jo/r01ibJU9oD9icc+LZSyjP7flcm+9Z6Y/qQmn2k9xqT9lvhG/iW6qP0HLhhEuOqk/J00ilu4spz8fNVHPf3WkP70TNyJ3n6E/fW4U6MWrnT8j2UVpmDSYP2t8q0Ik4JI/GnFw2dNniz+1mYANWHiBP/KUsHMT2m8/eBKE5hQPQb+uxvTXoNp2v/DevdpLvoa/sLWOWHFEjr+LQhpvFUaOv1MNw5NS2om/IYV11vyuhb/8ZwCBZMCBvxZKgs4t9nu/I0Ip/7aFdL/kFYr+a7dqv00l9Ikhjlm/EaEABP9LEz92IYbOJ5xbP5onQE1m0mo/3gdb5OS9cz/k6a1sL815P6JPzv6b538/F9WWQcvvgj+aA4Z329GFP4J7tahQrYg/pNUvgCKEiz8XsR6M/EWOP5TOfmPafpA/dP+Fm9TbkT/GE+ubziqTP+8TOHdKd5Q/bF04AR65lT9Y7XgUqdeWP/7D8yEK15c//GzckgCkmD9a9zk8EFKZP+xW5FL7Bpo/ZUqD1bPEmj/uL1sjpKSbPxxbfaRpkZw/SuOxDT6HnT/khaKw84WeP9jZVEFze58/wjrYGgY+oD+KBnq/CbmgP/UnLNPhOKE/\",\"dtype\":\"float64\",\"shape\":[75]},\"y\":{\"__ndarray__\":\"GhExyth1ND/Sv8nbtpRIP2vylNV0PVE/aTum7souWD/At0SJ8fVgPw3Iuahxymc/MSNhhJWvcD/bTfBN02d3P2zb5nxnaoA/CD5h5MAGhz8NmeH1TyaQP+zrCsc9p5Y/LbKd76fGnz/bLW5ISEmmPww9YvTcQq8/JV2OstnstT8Er5Y7M8G+P0c+r3jqkcU/5h99k6ZBzj88bCIzFzjVP4enV8oyxN0//yH99nXg5D8qOpLLf0jtP5kqGJXUifQ/c9cS8kHP/D+/DpwzojQEQIEmwoanVwxA4lgXt9HgE0BSSZ2AJuIbQAMJih9jjiNA5q4l5INuK0AwTKYKRj0zQNv5fmq8/DpAaCJseHrtQkB/+zpwzoxKQM3MzMzMeFJAZmZmZmZqWEAAAAAAAFxeQM3MzMzMJmJAmpmZmZkfZUBmZmZmZhhoQDMzMzMzEWtAAAAAAAAKbkBmZmZmZoFwQM3MzMzM/XFAMzMzMzN6c0CamZmZmfZ0QAAAAAAAc3ZAZmZmZmbvd0DNzMzMzGt5QDMzMzMz6HpAmpmZmZlkfEAAAAAAAOF9QGZmZmZmXX9AZmZmZuZsgECamZmZGSuBQM3MzMxM6YFAAAAAAICngkAzMzMzs2WDQGZmZmbmI4RAmpmZmRnihEDNzMzMTKCFQAAAAACAXoZAMzMzM7Mch0BmZmZm5tqHQJqZmZkZmYhAzczMzExXiUAAAAAAgBWKQDMzMzOz04pAZmZmZuaRi0CamZmZGVCMQM3MzMxMDo1AAAAAAIDMjUAzMzMzs4qOQGZmZmbmSI9A\",\"dtype\":\"float64\",\"shape\":[75]}},\"selected\":{\"id\":\"b553597d-3845-49fb-8567-715d775d3992\",\"type\":\"Selection\"},\"selection_policy\":{\"id\":\"bce70520-8faa-4719-b21e-171c92fbc584\",\"type\":\"UnionRenderers\"}},\"id\":\"4dc87f20-4465-4efc-8b43-206a8b547c56\",\"type\":\"ColumnDataSource\"},{\"attributes\":{\"fill_alpha\":{\"value\":0.7},\"fill_color\":{\"value\":\"#377eb8\"},\"line_alpha\":{\"value\":0.7},\"line_color\":{\"value\":\"#377eb8\"},\"x\":{\"field\":\"x\"},\"y\":{\"field\":\"y\"}},\"id\":\"966910e3-6379-4f47-a6a9-819504435097\",\"type\":\"Triangle\"},{\"attributes\":{\"source\":{\"id\":\"b6e7c90f-7d08-4476-b465-aa7e3487581b\",\"type\":\"ColumnDataSource\"}},\"id\":\"6d75c73a-6138-477e-b498-d8d8204ad6df\",\"type\":\"CDSView\"},{\"attributes\":{\"line_alpha\":0.1,\"line_color\":\"#1f77b4\",\"line_width\":1.5,\"x\":{\"field\":\"x\"},\"y\":{\"field\":\"y\"}},\"id\":\"b45ed2ff-f08b-4791-a4d1-6754698b6474\",\"type\":\"Line\"},{\"attributes\":{\"source\":{\"id\":\"0c8f7151-04e4-46b6-abcb-838bd18d6253\",\"type\":\"ColumnDataSource\"}},\"id\":\"d0974cf6-cfba-4f07-8657-1690f131058f\",\"type\":\"CDSView\"},{\"attributes\":{\"fill_alpha\":{\"value\":0.1},\"fill_color\":{\"value\":\"#1f77b4\"},\"line_alpha\":{\"value\":0.1},\"line_color\":{\"value\":\"#1f77b4\"},\"x\":{\"field\":\"x\"},\"y\":{\"field\":\"y\"}},\"id\":\"9d30f746-6253-4e04-b1d3-6abc9c9a4bdf\",\"type\":\"Triangle\"},{\"attributes\":{\"line_alpha\":0.1,\"line_color\":\"#1f77b4\",\"line_width\":3,\"x\":{\"field\":\"x\"},\"y\":{\"field\":\"y\"}},\"id\":\"d6f6df25-c325-447a-a70f-d35d007cb99e\",\"type\":\"Line\"},{\"attributes\":{\"data_source\":{\"id\":\"dd23cf30-4b23-4127-b71f-d7d21af1be14\",\"type\":\"ColumnDataSource\"},\"glyph\":{\"id\":\"9f868ebc-7b7e-4c64-a3bc-c706264f9894\",\"type\":\"Line\"},\"hover_glyph\":null,\"muted_glyph\":null,\"nonselection_glyph\":{\"id\":\"d6f6df25-c325-447a-a70f-d35d007cb99e\",\"type\":\"Line\"},\"selection_glyph\":null,\"view\":{\"id\":\"80efd7a8-9946-491e-b489-cde821b9aea0\",\"type\":\"CDSView\"}},\"id\":\"f6dd9c29-bd8f-4269-a86c-1f0eff4f5d33\",\"type\":\"GlyphRenderer\"},{\"attributes\":{\"callback\":null,\"data\":{\"x\":{\"__ndarray__\":\"Jcyt52tBez/SEU0wLuZ7Py/xr994Nn0/6Qay4CeOfj8+zHdNnOh/P8r6PVvZooA/l0swgqlSgT9g1f1EzwOCP0jCxtgptoI/JpQLA7Npgz+uI6KqVh6EP+upoSsA1IQ/Oc8GDy6LhT8inezwlXaGP6LayW9KyIk/eSXPvWVbkD/4R+Xor7KUP+xNmXcFaJk/D2rjwAN8nj93QLn0hvehPzlwS0k54KQ/XOtIWUyspz/tn+D8IJyoPznVmEzdlqc/jhLZE4rNpT9Qkpr3PGmjP1a6WBkF5aA/dtvCX+DHnD+e3IJ+gsiXP6DPobQ2yJI/0SSOEKSLiz9xrKb15ZSBP2rMq//aVm8/0vTbSyGmSb+A+ZZeXkB4v7YGJp9tIYe/2Hbd0p86jr8NAo6x0UGOv47MFTAJKIq/fgGBMvQthr9f9+EWr1aCv2Ms5KSIOX2/2hxnktHzdb91E+2rg75tv8Rkrn+v4V+/8CP3UJnCM79WT9fBvWBVPxm8N6TYjWc/FHAY52MRcj+qVIFtiTh4P+p2RyYmP34/hTsqw5QTgj+o4hfqHvmEP0pYBlob0Yc/f83Z72ycij+zZBizwVuNPxsDHpjkB5A/AnWqA3dckT84RyNEVaqSPxJZ5lwq8JM/9xZN5TgplT8ZdosNDEqWP8wZGwxGRJc/KqNEZeAUmD8IW9Q1v8uYP3xJSampgJk//rO3s25Fmj9/rt4qTR+bPxZWYL+dCJw/GotUR2/5nD9OqE1EkuydP3G49Sym354/6pLXJY/Qnz9z/RXTwF+gPzySWyuL1qA/\",\"dtype\":\"float64\",\"shape\":[75]},\"y\":{\"__ndarray__\":\"GhExyth1ND/Sv8nbtpRIP2vylNV0PVE/aTum7souWD/At0SJ8fVgPw3Iuahxymc/MSNhhJWvcD/bTfBN02d3P2zb5nxnaoA/CD5h5MAGhz8NmeH1TyaQP+zrCsc9p5Y/LbKd76fGnz/bLW5ISEmmPww9YvTcQq8/JV2OstnstT8Er5Y7M8G+P0c+r3jqkcU/5h99k6ZBzj88bCIzFzjVP4enV8oyxN0//yH99nXg5D8qOpLLf0jtP5kqGJXUifQ/c9cS8kHP/D+/DpwzojQEQIEmwoanVwxA4lgXt9HgE0BSSZ2AJuIbQAMJih9jjiNA5q4l5INuK0AwTKYKRj0zQNv5fmq8/DpAaCJseHrtQkB/+zpwzoxKQM3MzMzMeFJAZmZmZmZqWEAAAAAAAFxeQM3MzMzMJmJAmpmZmZkfZUBmZmZmZhhoQDMzMzMzEWtAAAAAAAAKbkBmZmZmZoFwQM3MzMzM/XFAMzMzMzN6c0CamZmZmfZ0QAAAAAAAc3ZAZmZmZmbvd0DNzMzMzGt5QDMzMzMz6HpAmpmZmZlkfEAAAAAAAOF9QGZmZmZmXX9AZmZmZuZsgECamZmZGSuBQM3MzMxM6YFAAAAAAICngkAzMzMzs2WDQGZmZmbmI4RAmpmZmRnihEDNzMzMTKCFQAAAAACAXoZAMzMzM7Mch0BmZmZm5tqHQJqZmZkZmYhAzczMzExXiUAAAAAAgBWKQDMzMzOz04pAZmZmZuaRi0CamZmZGVCMQM3MzMxMDo1AAAAAAIDMjUAzMzMzs4qOQGZmZmbmSI9A\",\"dtype\":\"float64\",\"shape\":[75]}},\"selected\":{\"id\":\"7de0a217-0622-441d-b9da-2fbbaf18749e\",\"type\":\"Selection\"},\"selection_policy\":{\"id\":\"d9249d5a-eb44-4ee6-aeb0-a62c0e2f5604\",\"type\":\"UnionRenderers\"}},\"id\":\"0c8f7151-04e4-46b6-abcb-838bd18d6253\",\"type\":\"ColumnDataSource\"},{\"attributes\":{\"fill_alpha\":{\"value\":0.7},\"fill_color\":{\"value\":\"#984ea3\"},\"line_alpha\":{\"value\":0.7},\"line_color\":{\"value\":\"#984ea3\"},\"x\":{\"field\":\"x\"},\"y\":{\"field\":\"y\"}},\"id\":\"27ca3323-1771-4fed-8057-f3a42cc25909\",\"type\":\"Square\"},{\"attributes\":{\"bottom_units\":\"screen\",\"fill_alpha\":{\"value\":0.5},\"fill_color\":{\"value\":\"lightgrey\"},\"left_units\":\"screen\",\"level\":\"overlay\",\"line_alpha\":{\"value\":1.0},\"line_color\":{\"value\":\"black\"},\"line_dash\":[4,4],\"line_width\":{\"value\":2},\"plot\":null,\"render_mode\":\"css\",\"right_units\":\"screen\",\"top_units\":\"screen\"},\"id\":\"f2d149bb-3186-4f02-a465-fe0538ff00ac\",\"type\":\"BoxAnnotation\"},{\"attributes\":{\"callback\":null,\"data\":{\"x\":{\"__ndarray__\":\"VoKQVxxkXj+B3ypwesVgPzR8idBSBWQ/uqh1XsxWZz8uD2W9V7BqP1LdjNMGDG4/gOudEHu2cD8nxYLn+WdyP721DMhzGXQ/bc238P3MdT9+hMWSIml3Pz0BTNMI9Hg/QDlnU7Fkej+l6TmTXTh8P9+QAsh67oE/VuFp5dMnij/MxIq7TT2SP2VvsVFHyZc/YuBhkGi1nT83W2SNYQGiP9vS52fvWKU/HcxVM06FqD8cYte3s1upP4qgAH6MyKc/fHxxis9bpT9sm76r2VuiP6ZEXAGI6Z4/Z+Kj13G4mT88JHXAURyVP1bbzTiC95A/6it+YJg4ij/Ylx/oGbeCP1mF8hfOOHY/lF/hwMZeWD9uqhB8vOpuvyoxwB8tt4S/zCbZlrzbjb9SNexBCTaOv57AMxrrbYm/wOQ61fckhb8BoIVi/S+Bv0pg6mVf63q/cU/D2KjKc78fTtVzPuhpvzAj90BJcFm/MMkQImu42D7N5LMuCeZYPwgnLihIhmg/ZBFcZqAmcj819p1kY+d3P2A0Fa1WiX0/mvQZJ9qHgT++cXBjiz6EP5/Mtn0C6oY/CYze/JyLiT+qdMpLXCSMP1afwcV8tY4/6vTPBuefkD8SPdrtmeCRP3EZqg6KG5M/BEOvUr1KlD9OfxqhnV+VP2gy+3dfR5Y/GF4wDJ39lj9KXaoKeJaXPwTvnk8XMJg/soFR5PzgmD+psIj5ja+ZPx7sXoFAlJo/TglVWBOFmz/ODOwH7XucP8i/qIOJdp0/vDQAPrFznj8+snKVEnWfP6PrX+USP6A/\",\"dtype\":\"float64\",\"shape\":[75]},\"y\":{\"__ndarray__\":\"GhExyth1ND/Sv8nbtpRIP2vylNV0PVE/aTum7souWD/At0SJ8fVgPw3Iuahxymc/MSNhhJWvcD/bTfBN02d3P2zb5nxnaoA/CD5h5MAGhz8NmeH1TyaQP+zrCsc9p5Y/LbKd76fGnz/bLW5ISEmmPww9YvTcQq8/JV2OstnstT8Er5Y7M8G+P0c+r3jqkcU/5h99k6ZBzj88bCIzFzjVP4enV8oyxN0//yH99nXg5D8qOpLLf0jtP5kqGJXUifQ/c9cS8kHP/D+/DpwzojQEQIEmwoanVwxA4lgXt9HgE0BSSZ2AJuIbQAMJih9jjiNA5q4l5INuK0AwTKYKRj0zQNv5fmq8/DpAaCJseHrtQkB/+zpwzoxKQM3MzMzMeFJAZmZmZmZqWEAAAAAAAFxeQM3MzMzMJmJAmpmZmZkfZUBmZmZmZhhoQDMzMzMzEWtAAAAAAAAKbkBmZmZmZoFwQM3MzMzM/XFAMzMzMzN6c0CamZmZmfZ0QAAAAAAAc3ZAZmZmZmbvd0DNzMzMzGt5QDMzMzMz6HpAmpmZmZlkfEAAAAAAAOF9QGZmZmZmXX9AZmZmZuZsgECamZmZGSuBQM3MzMxM6YFAAAAAAICngkAzMzMzs2WDQGZmZmbmI4RAmpmZmRnihEDNzMzMTKCFQAAAAACAXoZAMzMzM7Mch0BmZmZm5tqHQJqZmZkZmYhAzczMzExXiUAAAAAAgBWKQDMzMzOz04pAZmZmZuaRi0CamZmZGVCMQM3MzMxMDo1AAAAAAIDMjUAzMzMzs4qOQGZmZmbmSI9A\",\"dtype\":\"float64\",\"shape\":[75]}},\"selected\":{\"id\":\"10451476-de4c-4985-bb16-2d23cf7c58b5\",\"type\":\"Selection\"},\"selection_policy\":{\"id\":\"1404eb17-2729-4341-a839-b51306a25656\",\"type\":\"UnionRenderers\"}},\"id\":\"23df6067-8a4d-4abb-91e6-e544e2b8c37d\",\"type\":\"ColumnDataSource\"},{\"attributes\":{},\"id\":\"29561fe2-f1fb-47dd-9071-f8a8f38cfe24\",\"type\":\"HelpTool\"},{\"attributes\":{\"overlay\":{\"id\":\"f2d149bb-3186-4f02-a465-fe0538ff00ac\",\"type\":\"BoxAnnotation\"}},\"id\":\"0fb1aa7e-e2ce-49ef-84de-bb1ddd061188\",\"type\":\"BoxZoomTool\"},{\"attributes\":{},\"id\":\"29719d2a-68a5-4d78-a324-fade757121e2\",\"type\":\"SaveTool\"},{\"attributes\":{},\"id\":\"3e498f07-17e9-4444-b9ab-eca19a372065\",\"type\":\"ResetTool\"}],\"root_ids\":[\"f92a06c1-db7d-41d0-8f82-4d44adb70140\"]},\"title\":\"Bokeh Application\",\"version\":\"0.12.16\"}};\n",
       "  var render_items = [{\"docid\":\"d5762e4d-8d02-4171-a081-316de7819852\",\"elementid\":\"098ed8b9-e820-4019-b138-381bd14796a7\",\"modelid\":\"f92a06c1-db7d-41d0-8f82-4d44adb70140\"}];\n",
       "  root.Bokeh.embed.embed_items_notebook(docs_json, render_items);\n",
       "\n",
       "  }\n",
       "  if (root.Bokeh !== undefined) {\n",
       "    embed_document(root);\n",
       "  } else {\n",
       "    var attempts = 0;\n",
       "    var timer = setInterval(function(root) {\n",
       "      if (root.Bokeh !== undefined) {\n",
       "        embed_document(root);\n",
       "        clearInterval(timer);\n",
       "      }\n",
       "      attempts++;\n",
       "      if (attempts > 100) {\n",
       "        console.log(\"Bokeh: ERROR: Unable to run BokehJS code because BokehJS library is missing\")\n",
       "        clearInterval(timer);\n",
       "      }\n",
       "    }, 10, root)\n",
       "  }\n",
       "})(window);"
      ],
      "application/vnd.bokehjs_exec.v0+json": ""
     },
     "metadata": {
      "application/vnd.bokehjs_exec.v0+json": {
       "id": "f92a06c1-db7d-41d0-8f82-4d44adb70140"
      }
     },
     "output_type": "display_data"
    },
    {
     "data": {
      "text/markdown": [
       "*FIGURE.* Cooling rates. Summed over g."
      ],
      "text/plain": [
       "<IPython.core.display.Markdown object>"
      ]
     },
     "metadata": {},
     "output_type": "display_data"
    },
    {
     "data": {
      "text/html": [
       "<a id=\"Flux_Comparison\"></a>"
      ],
      "text/plain": [
       "<IPython.core.display.HTML object>"
      ]
     },
     "metadata": {},
     "output_type": "display_data"
    },
    {
     "data": {
      "text/markdown": [
       "# Flux Comparison"
      ],
      "text/plain": [
       "<IPython.core.display.Markdown object>"
      ]
     },
     "metadata": {},
     "output_type": "display_data"
    },
    {
     "data": {
      "text/html": [
       "<div>\n",
       "<style scoped>\n",
       "    .dataframe tbody tr th:only-of-type {\n",
       "        vertical-align: middle;\n",
       "    }\n",
       "\n",
       "    .dataframe tbody tr th {\n",
       "        vertical-align: top;\n",
       "    }\n",
       "\n",
       "    .dataframe thead th {\n",
       "        text-align: right;\n",
       "    }\n",
       "</style>\n",
       "<table border=\"1\" class=\"dataframe\">\n",
       "  <thead>\n",
       "    <tr style=\"text-align: right;\">\n",
       "      <th></th>\n",
       "      <th></th>\n",
       "      <th></th>\n",
       "      <th>flug</th>\n",
       "      <th>fldg</th>\n",
       "      <th>fnetg</th>\n",
       "    </tr>\n",
       "    <tr>\n",
       "      <th>g</th>\n",
       "      <th>pressure</th>\n",
       "      <th>level</th>\n",
       "      <th></th>\n",
       "      <th></th>\n",
       "      <th></th>\n",
       "    </tr>\n",
       "  </thead>\n",
       "  <tbody>\n",
       "    <tr>\n",
       "      <th rowspan=\"3\" valign=\"top\">1</th>\n",
       "      <th>0.00</th>\n",
       "      <th>1</th>\n",
       "      <td>-0.232695</td>\n",
       "      <td>0.000000</td>\n",
       "      <td>-0.232695</td>\n",
       "    </tr>\n",
       "    <tr>\n",
       "      <th>109.55</th>\n",
       "      <th>38</th>\n",
       "      <td>-0.267327</td>\n",
       "      <td>0.062213</td>\n",
       "      <td>-0.205114</td>\n",
       "    </tr>\n",
       "    <tr>\n",
       "      <th>1013.00</th>\n",
       "      <th>76</th>\n",
       "      <td>-0.435733</td>\n",
       "      <td>0.259364</td>\n",
       "      <td>-0.176370</td>\n",
       "    </tr>\n",
       "    <tr>\n",
       "      <th rowspan=\"3\" valign=\"top\">2</th>\n",
       "      <th>0.00</th>\n",
       "      <th>1</th>\n",
       "      <td>-3.259494</td>\n",
       "      <td>0.000000</td>\n",
       "      <td>-3.259494</td>\n",
       "    </tr>\n",
       "    <tr>\n",
       "      <th>109.55</th>\n",
       "      <th>38</th>\n",
       "      <td>-3.353796</td>\n",
       "      <td>0.067273</td>\n",
       "      <td>-3.286523</td>\n",
       "    </tr>\n",
       "    <tr>\n",
       "      <th>1013.00</th>\n",
       "      <th>76</th>\n",
       "      <td>-4.009714</td>\n",
       "      <td>1.211550</td>\n",
       "      <td>-2.798163</td>\n",
       "    </tr>\n",
       "    <tr>\n",
       "      <th rowspan=\"3\" valign=\"top\">3</th>\n",
       "      <th>0.00</th>\n",
       "      <th>1</th>\n",
       "      <td>-33.592939</td>\n",
       "      <td>0.000000</td>\n",
       "      <td>-33.592939</td>\n",
       "    </tr>\n",
       "    <tr>\n",
       "      <th>109.55</th>\n",
       "      <th>38</th>\n",
       "      <td>-33.632344</td>\n",
       "      <td>0.018529</td>\n",
       "      <td>-33.613816</td>\n",
       "    </tr>\n",
       "    <tr>\n",
       "      <th>1013.00</th>\n",
       "      <th>76</th>\n",
       "      <td>-34.046288</td>\n",
       "      <td>1.227015</td>\n",
       "      <td>-32.819273</td>\n",
       "    </tr>\n",
       "  </tbody>\n",
       "</table>\n",
       "</div>"
      ],
      "text/plain": [
       "                       flug      fldg      fnetg\n",
       "g pressure level                                \n",
       "1 0.00     1      -0.232695  0.000000  -0.232695\n",
       "  109.55   38     -0.267327  0.062213  -0.205114\n",
       "  1013.00  76     -0.435733  0.259364  -0.176370\n",
       "2 0.00     1      -3.259494  0.000000  -3.259494\n",
       "  109.55   38     -3.353796  0.067273  -3.286523\n",
       "  1013.00  76     -4.009714  1.211550  -2.798163\n",
       "3 0.00     1     -33.592939  0.000000 -33.592939\n",
       "  109.55   38    -33.632344  0.018529 -33.613816\n",
       "  1013.00  76    -34.046288  1.227015 -32.819273"
      ]
     },
     "metadata": {},
     "output_type": "display_data"
    },
    {
     "data": {
      "text/markdown": [
       "*TABLE.* Fluxes. CRD"
      ],
      "text/plain": [
       "<IPython.core.display.Markdown object>"
      ]
     },
     "metadata": {},
     "output_type": "display_data"
    },
    {
     "data": {
      "text/html": [
       "<div>\n",
       "<style scoped>\n",
       "    .dataframe tbody tr th:only-of-type {\n",
       "        vertical-align: middle;\n",
       "    }\n",
       "\n",
       "    .dataframe tbody tr th {\n",
       "        vertical-align: top;\n",
       "    }\n",
       "\n",
       "    .dataframe thead th {\n",
       "        text-align: right;\n",
       "    }\n",
       "</style>\n",
       "<table border=\"1\" class=\"dataframe\">\n",
       "  <thead>\n",
       "    <tr style=\"text-align: right;\">\n",
       "      <th></th>\n",
       "      <th></th>\n",
       "      <th></th>\n",
       "      <th>flug</th>\n",
       "      <th>fldg</th>\n",
       "      <th>fnetg</th>\n",
       "    </tr>\n",
       "    <tr>\n",
       "      <th>g</th>\n",
       "      <th>pressure</th>\n",
       "      <th>level</th>\n",
       "      <th></th>\n",
       "      <th></th>\n",
       "      <th></th>\n",
       "    </tr>\n",
       "  </thead>\n",
       "  <tbody>\n",
       "    <tr>\n",
       "      <th rowspan=\"3\" valign=\"top\">1</th>\n",
       "      <th>0.00</th>\n",
       "      <th>1</th>\n",
       "      <td>-0.198729</td>\n",
       "      <td>0.000000</td>\n",
       "      <td>-0.198729</td>\n",
       "    </tr>\n",
       "    <tr>\n",
       "      <th>109.55</th>\n",
       "      <th>38</th>\n",
       "      <td>-0.230853</td>\n",
       "      <td>0.071199</td>\n",
       "      <td>-0.159655</td>\n",
       "    </tr>\n",
       "    <tr>\n",
       "      <th>1013.00</th>\n",
       "      <th>76</th>\n",
       "      <td>-0.432064</td>\n",
       "      <td>0.319883</td>\n",
       "      <td>-0.112181</td>\n",
       "    </tr>\n",
       "    <tr>\n",
       "      <th rowspan=\"3\" valign=\"top\">2</th>\n",
       "      <th>0.00</th>\n",
       "      <th>1</th>\n",
       "      <td>-3.237233</td>\n",
       "      <td>0.000000</td>\n",
       "      <td>-3.237233</td>\n",
       "    </tr>\n",
       "    <tr>\n",
       "      <th>109.55</th>\n",
       "      <th>38</th>\n",
       "      <td>-3.338237</td>\n",
       "      <td>0.055098</td>\n",
       "      <td>-3.283139</td>\n",
       "    </tr>\n",
       "    <tr>\n",
       "      <th>1013.00</th>\n",
       "      <th>76</th>\n",
       "      <td>-3.969666</td>\n",
       "      <td>1.258346</td>\n",
       "      <td>-2.711319</td>\n",
       "    </tr>\n",
       "    <tr>\n",
       "      <th rowspan=\"3\" valign=\"top\">3</th>\n",
       "      <th>0.00</th>\n",
       "      <th>1</th>\n",
       "      <td>-33.651027</td>\n",
       "      <td>0.000000</td>\n",
       "      <td>-33.651027</td>\n",
       "    </tr>\n",
       "    <tr>\n",
       "      <th>109.55</th>\n",
       "      <th>38</th>\n",
       "      <td>-33.690625</td>\n",
       "      <td>0.018155</td>\n",
       "      <td>-33.672470</td>\n",
       "    </tr>\n",
       "    <tr>\n",
       "      <th>1013.00</th>\n",
       "      <th>76</th>\n",
       "      <td>-34.090004</td>\n",
       "      <td>1.213435</td>\n",
       "      <td>-32.876569</td>\n",
       "    </tr>\n",
       "  </tbody>\n",
       "</table>\n",
       "</div>"
      ],
      "text/plain": [
       "                       flug      fldg      fnetg\n",
       "g pressure level                                \n",
       "1 0.00     1      -0.198729  0.000000  -0.198729\n",
       "  109.55   38     -0.230853  0.071199  -0.159655\n",
       "  1013.00  76     -0.432064  0.319883  -0.112181\n",
       "2 0.00     1      -3.237233  0.000000  -3.237233\n",
       "  109.55   38     -3.338237  0.055098  -3.283139\n",
       "  1013.00  76     -3.969666  1.258346  -2.711319\n",
       "3 0.00     1     -33.651027  0.000000 -33.651027\n",
       "  109.55   38    -33.690625  0.018155 -33.672470\n",
       "  1013.00  76    -34.090004  1.213435 -32.876569"
      ]
     },
     "metadata": {},
     "output_type": "display_data"
    },
    {
     "data": {
      "text/markdown": [
       "*TABLE.* Fluxes. WGT igg=1"
      ],
      "text/plain": [
       "<IPython.core.display.Markdown object>"
      ]
     },
     "metadata": {},
     "output_type": "display_data"
    },
    {
     "data": {
      "text/html": [
       "<div>\n",
       "<style scoped>\n",
       "    .dataframe tbody tr th:only-of-type {\n",
       "        vertical-align: middle;\n",
       "    }\n",
       "\n",
       "    .dataframe tbody tr th {\n",
       "        vertical-align: top;\n",
       "    }\n",
       "\n",
       "    .dataframe thead th {\n",
       "        text-align: right;\n",
       "    }\n",
       "</style>\n",
       "<table border=\"1\" class=\"dataframe\">\n",
       "  <thead>\n",
       "    <tr style=\"text-align: right;\">\n",
       "      <th></th>\n",
       "      <th></th>\n",
       "      <th></th>\n",
       "      <th>flug</th>\n",
       "      <th>fldg</th>\n",
       "      <th>fnetg</th>\n",
       "    </tr>\n",
       "    <tr>\n",
       "      <th>g</th>\n",
       "      <th>pressure</th>\n",
       "      <th>level</th>\n",
       "      <th></th>\n",
       "      <th></th>\n",
       "      <th></th>\n",
       "    </tr>\n",
       "  </thead>\n",
       "  <tbody>\n",
       "    <tr>\n",
       "      <th rowspan=\"3\" valign=\"top\">1</th>\n",
       "      <th>0.00</th>\n",
       "      <th>1</th>\n",
       "      <td>-0.183609</td>\n",
       "      <td>0.000000</td>\n",
       "      <td>-0.183609</td>\n",
       "    </tr>\n",
       "    <tr>\n",
       "      <th>109.55</th>\n",
       "      <th>38</th>\n",
       "      <td>-0.218823</td>\n",
       "      <td>0.076692</td>\n",
       "      <td>-0.142131</td>\n",
       "    </tr>\n",
       "    <tr>\n",
       "      <th>1013.00</th>\n",
       "      <th>76</th>\n",
       "      <td>-0.432064</td>\n",
       "      <td>0.336067</td>\n",
       "      <td>-0.095997</td>\n",
       "    </tr>\n",
       "    <tr>\n",
       "      <th rowspan=\"3\" valign=\"top\">2</th>\n",
       "      <th>0.00</th>\n",
       "      <th>1</th>\n",
       "      <td>-3.271544</td>\n",
       "      <td>0.000000</td>\n",
       "      <td>-3.271544</td>\n",
       "    </tr>\n",
       "    <tr>\n",
       "      <th>109.55</th>\n",
       "      <th>38</th>\n",
       "      <td>-3.371882</td>\n",
       "      <td>0.047822</td>\n",
       "      <td>-3.324060</td>\n",
       "    </tr>\n",
       "    <tr>\n",
       "      <th>1013.00</th>\n",
       "      <th>76</th>\n",
       "      <td>-3.969666</td>\n",
       "      <td>1.222311</td>\n",
       "      <td>-2.747354</td>\n",
       "    </tr>\n",
       "    <tr>\n",
       "      <th rowspan=\"3\" valign=\"top\">3</th>\n",
       "      <th>0.00</th>\n",
       "      <th>1</th>\n",
       "      <td>-33.685289</td>\n",
       "      <td>0.000000</td>\n",
       "      <td>-33.685289</td>\n",
       "    </tr>\n",
       "    <tr>\n",
       "      <th>109.55</th>\n",
       "      <th>38</th>\n",
       "      <td>-33.721967</td>\n",
       "      <td>0.016442</td>\n",
       "      <td>-33.705525</td>\n",
       "    </tr>\n",
       "    <tr>\n",
       "      <th>1013.00</th>\n",
       "      <th>76</th>\n",
       "      <td>-34.090004</td>\n",
       "      <td>1.128774</td>\n",
       "      <td>-32.961231</td>\n",
       "    </tr>\n",
       "  </tbody>\n",
       "</table>\n",
       "</div>"
      ],
      "text/plain": [
       "                       flug      fldg      fnetg\n",
       "g pressure level                                \n",
       "1 0.00     1      -0.183609  0.000000  -0.183609\n",
       "  109.55   38     -0.218823  0.076692  -0.142131\n",
       "  1013.00  76     -0.432064  0.336067  -0.095997\n",
       "2 0.00     1      -3.271544  0.000000  -3.271544\n",
       "  109.55   38     -3.371882  0.047822  -3.324060\n",
       "  1013.00  76     -3.969666  1.222311  -2.747354\n",
       "3 0.00     1     -33.685289  0.000000 -33.685289\n",
       "  109.55   38    -33.721967  0.016442 -33.705525\n",
       "  1013.00  76    -34.090004  1.128774 -32.961231"
      ]
     },
     "metadata": {},
     "output_type": "display_data"
    },
    {
     "data": {
      "text/markdown": [
       "*TABLE.* Fluxes. WGT igg=10"
      ],
      "text/plain": [
       "<IPython.core.display.Markdown object>"
      ]
     },
     "metadata": {},
     "output_type": "display_data"
    },
    {
     "data": {
      "text/html": [
       "<div>\n",
       "<style scoped>\n",
       "    .dataframe tbody tr th:only-of-type {\n",
       "        vertical-align: middle;\n",
       "    }\n",
       "\n",
       "    .dataframe tbody tr th {\n",
       "        vertical-align: top;\n",
       "    }\n",
       "\n",
       "    .dataframe thead th {\n",
       "        text-align: right;\n",
       "    }\n",
       "</style>\n",
       "<table border=\"1\" class=\"dataframe\">\n",
       "  <thead>\n",
       "    <tr style=\"text-align: right;\">\n",
       "      <th></th>\n",
       "      <th></th>\n",
       "      <th></th>\n",
       "      <th>flug</th>\n",
       "      <th>fldg</th>\n",
       "      <th>fnetg</th>\n",
       "    </tr>\n",
       "    <tr>\n",
       "      <th>g</th>\n",
       "      <th>pressure</th>\n",
       "      <th>level</th>\n",
       "      <th></th>\n",
       "      <th></th>\n",
       "      <th></th>\n",
       "    </tr>\n",
       "  </thead>\n",
       "  <tbody>\n",
       "    <tr>\n",
       "      <th rowspan=\"3\" valign=\"top\">1</th>\n",
       "      <th>0.00</th>\n",
       "      <th>1</th>\n",
       "      <td>0.033966</td>\n",
       "      <td>0.000000</td>\n",
       "      <td>0.033966</td>\n",
       "    </tr>\n",
       "    <tr>\n",
       "      <th>109.55</th>\n",
       "      <th>38</th>\n",
       "      <td>0.036474</td>\n",
       "      <td>0.008986</td>\n",
       "      <td>0.045460</td>\n",
       "    </tr>\n",
       "    <tr>\n",
       "      <th>1013.00</th>\n",
       "      <th>76</th>\n",
       "      <td>0.003669</td>\n",
       "      <td>0.060519</td>\n",
       "      <td>0.064188</td>\n",
       "    </tr>\n",
       "    <tr>\n",
       "      <th rowspan=\"3\" valign=\"top\">2</th>\n",
       "      <th>0.00</th>\n",
       "      <th>1</th>\n",
       "      <td>0.022262</td>\n",
       "      <td>0.000000</td>\n",
       "      <td>0.022262</td>\n",
       "    </tr>\n",
       "    <tr>\n",
       "      <th>109.55</th>\n",
       "      <th>38</th>\n",
       "      <td>0.015558</td>\n",
       "      <td>-0.012175</td>\n",
       "      <td>0.003383</td>\n",
       "    </tr>\n",
       "    <tr>\n",
       "      <th>1013.00</th>\n",
       "      <th>76</th>\n",
       "      <td>0.040048</td>\n",
       "      <td>0.046796</td>\n",
       "      <td>0.086844</td>\n",
       "    </tr>\n",
       "    <tr>\n",
       "      <th rowspan=\"3\" valign=\"top\">3</th>\n",
       "      <th>0.00</th>\n",
       "      <th>1</th>\n",
       "      <td>-0.058088</td>\n",
       "      <td>0.000000</td>\n",
       "      <td>-0.058088</td>\n",
       "    </tr>\n",
       "    <tr>\n",
       "      <th>109.55</th>\n",
       "      <th>38</th>\n",
       "      <td>-0.058281</td>\n",
       "      <td>-0.000373</td>\n",
       "      <td>-0.058654</td>\n",
       "    </tr>\n",
       "    <tr>\n",
       "      <th>1013.00</th>\n",
       "      <th>76</th>\n",
       "      <td>-0.043716</td>\n",
       "      <td>-0.013580</td>\n",
       "      <td>-0.057296</td>\n",
       "    </tr>\n",
       "  </tbody>\n",
       "</table>\n",
       "</div>"
      ],
      "text/plain": [
       "                      flug      fldg     fnetg\n",
       "g pressure level                              \n",
       "1 0.00     1      0.033966  0.000000  0.033966\n",
       "  109.55   38     0.036474  0.008986  0.045460\n",
       "  1013.00  76     0.003669  0.060519  0.064188\n",
       "2 0.00     1      0.022262  0.000000  0.022262\n",
       "  109.55   38     0.015558 -0.012175  0.003383\n",
       "  1013.00  76     0.040048  0.046796  0.086844\n",
       "3 0.00     1     -0.058088  0.000000 -0.058088\n",
       "  109.55   38    -0.058281 -0.000373 -0.058654\n",
       "  1013.00  76    -0.043716 -0.013580 -0.057296"
      ]
     },
     "metadata": {},
     "output_type": "display_data"
    },
    {
     "data": {
      "text/markdown": [
       "*TABLE.* Fluxes. (WGT igg=1) - (CRD)"
      ],
      "text/plain": [
       "<IPython.core.display.Markdown object>"
      ]
     },
     "metadata": {},
     "output_type": "display_data"
    },
    {
     "data": {
      "text/html": [
       "<div>\n",
       "<style scoped>\n",
       "    .dataframe tbody tr th:only-of-type {\n",
       "        vertical-align: middle;\n",
       "    }\n",
       "\n",
       "    .dataframe tbody tr th {\n",
       "        vertical-align: top;\n",
       "    }\n",
       "\n",
       "    .dataframe thead th {\n",
       "        text-align: right;\n",
       "    }\n",
       "</style>\n",
       "<table border=\"1\" class=\"dataframe\">\n",
       "  <thead>\n",
       "    <tr style=\"text-align: right;\">\n",
       "      <th></th>\n",
       "      <th></th>\n",
       "      <th></th>\n",
       "      <th>flug</th>\n",
       "      <th>fldg</th>\n",
       "      <th>fnetg</th>\n",
       "    </tr>\n",
       "    <tr>\n",
       "      <th>g</th>\n",
       "      <th>pressure</th>\n",
       "      <th>level</th>\n",
       "      <th></th>\n",
       "      <th></th>\n",
       "      <th></th>\n",
       "    </tr>\n",
       "  </thead>\n",
       "  <tbody>\n",
       "    <tr>\n",
       "      <th rowspan=\"3\" valign=\"top\">1</th>\n",
       "      <th>0.00</th>\n",
       "      <th>1</th>\n",
       "      <td>0.049087</td>\n",
       "      <td>0.000000</td>\n",
       "      <td>0.049087</td>\n",
       "    </tr>\n",
       "    <tr>\n",
       "      <th>109.55</th>\n",
       "      <th>38</th>\n",
       "      <td>0.048504</td>\n",
       "      <td>0.014479</td>\n",
       "      <td>0.062984</td>\n",
       "    </tr>\n",
       "    <tr>\n",
       "      <th>1013.00</th>\n",
       "      <th>76</th>\n",
       "      <td>0.003669</td>\n",
       "      <td>0.076703</td>\n",
       "      <td>0.080372</td>\n",
       "    </tr>\n",
       "    <tr>\n",
       "      <th rowspan=\"3\" valign=\"top\">2</th>\n",
       "      <th>0.00</th>\n",
       "      <th>1</th>\n",
       "      <td>-0.012050</td>\n",
       "      <td>0.000000</td>\n",
       "      <td>-0.012050</td>\n",
       "    </tr>\n",
       "    <tr>\n",
       "      <th>109.55</th>\n",
       "      <th>38</th>\n",
       "      <td>-0.018086</td>\n",
       "      <td>-0.019451</td>\n",
       "      <td>-0.037537</td>\n",
       "    </tr>\n",
       "    <tr>\n",
       "      <th>1013.00</th>\n",
       "      <th>76</th>\n",
       "      <td>0.040048</td>\n",
       "      <td>0.010761</td>\n",
       "      <td>0.050809</td>\n",
       "    </tr>\n",
       "    <tr>\n",
       "      <th rowspan=\"3\" valign=\"top\">3</th>\n",
       "      <th>0.00</th>\n",
       "      <th>1</th>\n",
       "      <td>-0.092350</td>\n",
       "      <td>0.000000</td>\n",
       "      <td>-0.092350</td>\n",
       "    </tr>\n",
       "    <tr>\n",
       "      <th>109.55</th>\n",
       "      <th>38</th>\n",
       "      <td>-0.089623</td>\n",
       "      <td>-0.002087</td>\n",
       "      <td>-0.091709</td>\n",
       "    </tr>\n",
       "    <tr>\n",
       "      <th>1013.00</th>\n",
       "      <th>76</th>\n",
       "      <td>-0.043716</td>\n",
       "      <td>-0.098241</td>\n",
       "      <td>-0.141958</td>\n",
       "    </tr>\n",
       "  </tbody>\n",
       "</table>\n",
       "</div>"
      ],
      "text/plain": [
       "                      flug      fldg     fnetg\n",
       "g pressure level                              \n",
       "1 0.00     1      0.049087  0.000000  0.049087\n",
       "  109.55   38     0.048504  0.014479  0.062984\n",
       "  1013.00  76     0.003669  0.076703  0.080372\n",
       "2 0.00     1     -0.012050  0.000000 -0.012050\n",
       "  109.55   38    -0.018086 -0.019451 -0.037537\n",
       "  1013.00  76     0.040048  0.010761  0.050809\n",
       "3 0.00     1     -0.092350  0.000000 -0.092350\n",
       "  109.55   38    -0.089623 -0.002087 -0.091709\n",
       "  1013.00  76    -0.043716 -0.098241 -0.141958"
      ]
     },
     "metadata": {},
     "output_type": "display_data"
    },
    {
     "data": {
      "text/markdown": [
       "*TABLE.* Fluxes. (WGT igg=10) - (CRD)"
      ],
      "text/plain": [
       "<IPython.core.display.Markdown object>"
      ]
     },
     "metadata": {},
     "output_type": "display_data"
    },
    {
     "data": {
      "text/html": [
       "<div>\n",
       "<style scoped>\n",
       "    .dataframe tbody tr th:only-of-type {\n",
       "        vertical-align: middle;\n",
       "    }\n",
       "\n",
       "    .dataframe tbody tr th {\n",
       "        vertical-align: top;\n",
       "    }\n",
       "\n",
       "    .dataframe thead th {\n",
       "        text-align: right;\n",
       "    }\n",
       "</style>\n",
       "<table border=\"1\" class=\"dataframe\">\n",
       "  <thead>\n",
       "    <tr style=\"text-align: right;\">\n",
       "      <th></th>\n",
       "      <th></th>\n",
       "      <th>flug</th>\n",
       "      <th>fldg</th>\n",
       "      <th>fnetg</th>\n",
       "    </tr>\n",
       "    <tr>\n",
       "      <th>pressure</th>\n",
       "      <th>level</th>\n",
       "      <th></th>\n",
       "      <th></th>\n",
       "      <th></th>\n",
       "    </tr>\n",
       "  </thead>\n",
       "  <tbody>\n",
       "    <tr>\n",
       "      <th>0.00</th>\n",
       "      <th>1</th>\n",
       "      <td>-37.085129</td>\n",
       "      <td>0.000000</td>\n",
       "      <td>-37.085129</td>\n",
       "    </tr>\n",
       "    <tr>\n",
       "      <th>109.55</th>\n",
       "      <th>38</th>\n",
       "      <td>-37.253467</td>\n",
       "      <td>0.148015</td>\n",
       "      <td>-37.105453</td>\n",
       "    </tr>\n",
       "    <tr>\n",
       "      <th>1013.00</th>\n",
       "      <th>76</th>\n",
       "      <td>-38.491735</td>\n",
       "      <td>2.697929</td>\n",
       "      <td>-35.793806</td>\n",
       "    </tr>\n",
       "  </tbody>\n",
       "</table>\n",
       "</div>"
      ],
      "text/plain": [
       "                     flug      fldg      fnetg\n",
       "pressure level                                \n",
       "0.00     1     -37.085129  0.000000 -37.085129\n",
       "109.55   38    -37.253467  0.148015 -37.105453\n",
       "1013.00  76    -38.491735  2.697929 -35.793806"
      ]
     },
     "metadata": {},
     "output_type": "display_data"
    },
    {
     "data": {
      "text/markdown": [
       "*TABLE.* Fluxes. CRD"
      ],
      "text/plain": [
       "<IPython.core.display.Markdown object>"
      ]
     },
     "metadata": {},
     "output_type": "display_data"
    },
    {
     "data": {
      "text/html": [
       "<div>\n",
       "<style scoped>\n",
       "    .dataframe tbody tr th:only-of-type {\n",
       "        vertical-align: middle;\n",
       "    }\n",
       "\n",
       "    .dataframe tbody tr th {\n",
       "        vertical-align: top;\n",
       "    }\n",
       "\n",
       "    .dataframe thead th {\n",
       "        text-align: right;\n",
       "    }\n",
       "</style>\n",
       "<table border=\"1\" class=\"dataframe\">\n",
       "  <thead>\n",
       "    <tr style=\"text-align: right;\">\n",
       "      <th></th>\n",
       "      <th></th>\n",
       "      <th>flug</th>\n",
       "      <th>fldg</th>\n",
       "      <th>fnetg</th>\n",
       "    </tr>\n",
       "    <tr>\n",
       "      <th>pressure</th>\n",
       "      <th>level</th>\n",
       "      <th></th>\n",
       "      <th></th>\n",
       "      <th></th>\n",
       "    </tr>\n",
       "  </thead>\n",
       "  <tbody>\n",
       "    <tr>\n",
       "      <th>0.00</th>\n",
       "      <th>1</th>\n",
       "      <td>-37.086989</td>\n",
       "      <td>0.000000</td>\n",
       "      <td>-37.086989</td>\n",
       "    </tr>\n",
       "    <tr>\n",
       "      <th>109.55</th>\n",
       "      <th>38</th>\n",
       "      <td>-37.259716</td>\n",
       "      <td>0.144452</td>\n",
       "      <td>-37.115264</td>\n",
       "    </tr>\n",
       "    <tr>\n",
       "      <th>1013.00</th>\n",
       "      <th>76</th>\n",
       "      <td>-38.491734</td>\n",
       "      <td>2.791664</td>\n",
       "      <td>-35.700070</td>\n",
       "    </tr>\n",
       "  </tbody>\n",
       "</table>\n",
       "</div>"
      ],
      "text/plain": [
       "                     flug      fldg      fnetg\n",
       "pressure level                                \n",
       "0.00     1     -37.086989  0.000000 -37.086989\n",
       "109.55   38    -37.259716  0.144452 -37.115264\n",
       "1013.00  76    -38.491734  2.791664 -35.700070"
      ]
     },
     "metadata": {},
     "output_type": "display_data"
    },
    {
     "data": {
      "text/markdown": [
       "*TABLE.* Fluxes. WGT igg=1"
      ],
      "text/plain": [
       "<IPython.core.display.Markdown object>"
      ]
     },
     "metadata": {},
     "output_type": "display_data"
    },
    {
     "data": {
      "text/html": [
       "<div>\n",
       "<style scoped>\n",
       "    .dataframe tbody tr th:only-of-type {\n",
       "        vertical-align: middle;\n",
       "    }\n",
       "\n",
       "    .dataframe tbody tr th {\n",
       "        vertical-align: top;\n",
       "    }\n",
       "\n",
       "    .dataframe thead th {\n",
       "        text-align: right;\n",
       "    }\n",
       "</style>\n",
       "<table border=\"1\" class=\"dataframe\">\n",
       "  <thead>\n",
       "    <tr style=\"text-align: right;\">\n",
       "      <th></th>\n",
       "      <th></th>\n",
       "      <th>flug</th>\n",
       "      <th>fldg</th>\n",
       "      <th>fnetg</th>\n",
       "    </tr>\n",
       "    <tr>\n",
       "      <th>pressure</th>\n",
       "      <th>level</th>\n",
       "      <th></th>\n",
       "      <th></th>\n",
       "      <th></th>\n",
       "    </tr>\n",
       "  </thead>\n",
       "  <tbody>\n",
       "    <tr>\n",
       "      <th>0.00</th>\n",
       "      <th>1</th>\n",
       "      <td>-37.140442</td>\n",
       "      <td>0.000000</td>\n",
       "      <td>-37.140442</td>\n",
       "    </tr>\n",
       "    <tr>\n",
       "      <th>109.55</th>\n",
       "      <th>38</th>\n",
       "      <td>-37.312672</td>\n",
       "      <td>0.140956</td>\n",
       "      <td>-37.171716</td>\n",
       "    </tr>\n",
       "    <tr>\n",
       "      <th>1013.00</th>\n",
       "      <th>76</th>\n",
       "      <td>-38.491734</td>\n",
       "      <td>2.687152</td>\n",
       "      <td>-35.804582</td>\n",
       "    </tr>\n",
       "  </tbody>\n",
       "</table>\n",
       "</div>"
      ],
      "text/plain": [
       "                     flug      fldg      fnetg\n",
       "pressure level                                \n",
       "0.00     1     -37.140442  0.000000 -37.140442\n",
       "109.55   38    -37.312672  0.140956 -37.171716\n",
       "1013.00  76    -38.491734  2.687152 -35.804582"
      ]
     },
     "metadata": {},
     "output_type": "display_data"
    },
    {
     "data": {
      "text/markdown": [
       "*TABLE.* Fluxes. WGT igg=10"
      ],
      "text/plain": [
       "<IPython.core.display.Markdown object>"
      ]
     },
     "metadata": {},
     "output_type": "display_data"
    },
    {
     "data": {
      "text/html": [
       "<div>\n",
       "<style scoped>\n",
       "    .dataframe tbody tr th:only-of-type {\n",
       "        vertical-align: middle;\n",
       "    }\n",
       "\n",
       "    .dataframe tbody tr th {\n",
       "        vertical-align: top;\n",
       "    }\n",
       "\n",
       "    .dataframe thead th {\n",
       "        text-align: right;\n",
       "    }\n",
       "</style>\n",
       "<table border=\"1\" class=\"dataframe\">\n",
       "  <thead>\n",
       "    <tr style=\"text-align: right;\">\n",
       "      <th></th>\n",
       "      <th></th>\n",
       "      <th>flug</th>\n",
       "      <th>fldg</th>\n",
       "      <th>fnetg</th>\n",
       "    </tr>\n",
       "    <tr>\n",
       "      <th>pressure</th>\n",
       "      <th>level</th>\n",
       "      <th></th>\n",
       "      <th></th>\n",
       "      <th></th>\n",
       "    </tr>\n",
       "  </thead>\n",
       "  <tbody>\n",
       "    <tr>\n",
       "      <th>0.00</th>\n",
       "      <th>1</th>\n",
       "      <td>-1.860370e-03</td>\n",
       "      <td>0.000000</td>\n",
       "      <td>-0.001860</td>\n",
       "    </tr>\n",
       "    <tr>\n",
       "      <th>109.55</th>\n",
       "      <th>38</th>\n",
       "      <td>-6.248800e-03</td>\n",
       "      <td>-0.003563</td>\n",
       "      <td>-0.009811</td>\n",
       "    </tr>\n",
       "    <tr>\n",
       "      <th>1013.00</th>\n",
       "      <th>76</th>\n",
       "      <td>9.100000e-07</td>\n",
       "      <td>0.093735</td>\n",
       "      <td>0.093736</td>\n",
       "    </tr>\n",
       "  </tbody>\n",
       "</table>\n",
       "</div>"
      ],
      "text/plain": [
       "                        flug      fldg     fnetg\n",
       "pressure level                                  \n",
       "0.00     1     -1.860370e-03  0.000000 -0.001860\n",
       "109.55   38    -6.248800e-03 -0.003563 -0.009811\n",
       "1013.00  76     9.100000e-07  0.093735  0.093736"
      ]
     },
     "metadata": {},
     "output_type": "display_data"
    },
    {
     "data": {
      "text/markdown": [
       "*TABLE.* Fluxes. (WGT igg=1) - (CRD)"
      ],
      "text/plain": [
       "<IPython.core.display.Markdown object>"
      ]
     },
     "metadata": {},
     "output_type": "display_data"
    },
    {
     "data": {
      "text/html": [
       "<div>\n",
       "<style scoped>\n",
       "    .dataframe tbody tr th:only-of-type {\n",
       "        vertical-align: middle;\n",
       "    }\n",
       "\n",
       "    .dataframe tbody tr th {\n",
       "        vertical-align: top;\n",
       "    }\n",
       "\n",
       "    .dataframe thead th {\n",
       "        text-align: right;\n",
       "    }\n",
       "</style>\n",
       "<table border=\"1\" class=\"dataframe\">\n",
       "  <thead>\n",
       "    <tr style=\"text-align: right;\">\n",
       "      <th></th>\n",
       "      <th></th>\n",
       "      <th>flug</th>\n",
       "      <th>fldg</th>\n",
       "      <th>fnetg</th>\n",
       "    </tr>\n",
       "    <tr>\n",
       "      <th>pressure</th>\n",
       "      <th>level</th>\n",
       "      <th></th>\n",
       "      <th></th>\n",
       "      <th></th>\n",
       "    </tr>\n",
       "  </thead>\n",
       "  <tbody>\n",
       "    <tr>\n",
       "      <th>0.00</th>\n",
       "      <th>1</th>\n",
       "      <td>-5.531285e-02</td>\n",
       "      <td>0.000000</td>\n",
       "      <td>-0.055313</td>\n",
       "    </tr>\n",
       "    <tr>\n",
       "      <th>109.55</th>\n",
       "      <th>38</th>\n",
       "      <td>-5.920471e-02</td>\n",
       "      <td>-0.007059</td>\n",
       "      <td>-0.066263</td>\n",
       "    </tr>\n",
       "    <tr>\n",
       "      <th>1013.00</th>\n",
       "      <th>76</th>\n",
       "      <td>9.100000e-07</td>\n",
       "      <td>-0.010777</td>\n",
       "      <td>-0.010777</td>\n",
       "    </tr>\n",
       "  </tbody>\n",
       "</table>\n",
       "</div>"
      ],
      "text/plain": [
       "                        flug      fldg     fnetg\n",
       "pressure level                                  \n",
       "0.00     1     -5.531285e-02  0.000000 -0.055313\n",
       "109.55   38    -5.920471e-02 -0.007059 -0.066263\n",
       "1013.00  76     9.100000e-07 -0.010777 -0.010777"
      ]
     },
     "metadata": {},
     "output_type": "display_data"
    },
    {
     "data": {
      "text/markdown": [
       "*TABLE.* Fluxes. (WGT igg=10) - (CRD)"
      ],
      "text/plain": [
       "<IPython.core.display.Markdown object>"
      ]
     },
     "metadata": {},
     "output_type": "display_data"
    },
    {
     "data": {
      "text/html": [
       "<a id=\"g-interval_Summary\"></a>"
      ],
      "text/plain": [
       "<IPython.core.display.HTML object>"
      ]
     },
     "metadata": {},
     "output_type": "display_data"
    },
    {
     "data": {
      "text/markdown": [
       "# g-interval Summary"
      ],
      "text/plain": [
       "<IPython.core.display.Markdown object>"
      ]
     },
     "metadata": {},
     "output_type": "display_data"
    },
    {
     "data": {
      "text/html": [
       "<div>\n",
       "<style scoped>\n",
       "    .dataframe tbody tr th:only-of-type {\n",
       "        vertical-align: middle;\n",
       "    }\n",
       "\n",
       "    .dataframe tbody tr th {\n",
       "        vertical-align: top;\n",
       "    }\n",
       "\n",
       "    .dataframe thead th {\n",
       "        text-align: right;\n",
       "    }\n",
       "</style>\n",
       "<table border=\"1\" class=\"dataframe\">\n",
       "  <thead>\n",
       "    <tr style=\"text-align: right;\">\n",
       "      <th></th>\n",
       "      <th>abscom</th>\n",
       "      <th>k(ig) / k(ig - 1)</th>\n",
       "      <th>dg</th>\n",
       "      <th>dgs</th>\n",
       "      <th>dg cumsum</th>\n",
       "      <th>dgs cumsum</th>\n",
       "      <th>pref</th>\n",
       "    </tr>\n",
       "    <tr>\n",
       "      <th>g</th>\n",
       "      <th></th>\n",
       "      <th></th>\n",
       "      <th></th>\n",
       "      <th></th>\n",
       "      <th></th>\n",
       "      <th></th>\n",
       "      <th></th>\n",
       "    </tr>\n",
       "  </thead>\n",
       "  <tbody>\n",
       "    <tr>\n",
       "      <th>1</th>\n",
       "      <td>2.716718e-20</td>\n",
       "      <td>NaN</td>\n",
       "      <td>0.011300</td>\n",
       "      <td>0.011225</td>\n",
       "      <td>0.011300</td>\n",
       "      <td>0.011225</td>\n",
       "      <td>1.0</td>\n",
       "    </tr>\n",
       "    <tr>\n",
       "      <th>2</th>\n",
       "      <td>2.220078e-20</td>\n",
       "      <td>0.817191</td>\n",
       "      <td>0.104012</td>\n",
       "      <td>0.103130</td>\n",
       "      <td>0.115312</td>\n",
       "      <td>0.114355</td>\n",
       "      <td>500.0</td>\n",
       "    </tr>\n",
       "    <tr>\n",
       "      <th>3</th>\n",
       "      <td>7.377351e-24</td>\n",
       "      <td>0.000332</td>\n",
       "      <td>0.884687</td>\n",
       "      <td>0.885645</td>\n",
       "      <td>1.000000</td>\n",
       "      <td>1.000000</td>\n",
       "      <td>500.0</td>\n",
       "    </tr>\n",
       "  </tbody>\n",
       "</table>\n",
       "</div>"
      ],
      "text/plain": [
       "         abscom  k(ig) / k(ig - 1)        dg       dgs  dg cumsum  dgs cumsum  \\\n",
       "g                                                                               \n",
       "1  2.716718e-20                NaN  0.011300  0.011225   0.011300    0.011225   \n",
       "2  2.220078e-20           0.817191  0.104012  0.103130   0.115312    0.114355   \n",
       "3  7.377351e-24           0.000332  0.884687  0.885645   1.000000    1.000000   \n",
       "\n",
       "    pref  \n",
       "g         \n",
       "1    1.0  \n",
       "2  500.0  \n",
       "3  500.0  "
      ]
     },
     "metadata": {},
     "output_type": "display_data"
    },
    {
     "data": {
      "text/markdown": [
       "TABLE. g-interval summary.  *abscom* is the lower bound of the g-interval."
      ],
      "text/plain": [
       "<IPython.core.display.Markdown object>"
      ]
     },
     "metadata": {},
     "output_type": "display_data"
    },
    {
     "data": {
      "text/html": [
       "<a id=\"Download_Data\"></a>"
      ],
      "text/plain": [
       "<IPython.core.display.HTML object>"
      ]
     },
     "metadata": {},
     "output_type": "display_data"
    },
    {
     "data": {
      "text/markdown": [
       "# Download Data"
      ],
      "text/plain": [
       "<IPython.core.display.Markdown object>"
      ]
     },
     "metadata": {},
     "output_type": "display_data"
    },
    {
     "data": {
      "text/html": [
       "Download: <a href=\"./lblnew-bestfit_flux.xlsx\">lblnew-bestfit_flux.xlsx</a>"
      ],
      "text/plain": [
       "<IPython.core.display.HTML object>"
      ]
     },
     "metadata": {},
     "output_type": "display_data"
    },
    {
     "data": {
      "text/html": [
       "Download: <a href=\"./lblnew-bestfit_cool.xlsx\">lblnew-bestfit_cool.xlsx</a>"
      ],
      "text/plain": [
       "<IPython.core.display.HTML object>"
      ]
     },
     "metadata": {},
     "output_type": "display_data"
    }
   ],
   "source": [
    "script()"
   ]
  },
  {
   "cell_type": "code",
   "execution_count": 14,
   "metadata": {},
   "outputs": [
    {
     "data": {
      "text/html": [
       "<script>\n",
       "code_show=true; \n",
       "function code_toggle() {\n",
       " if (code_show){\n",
       " $('div.input').hide();\n",
       " } else {\n",
       " $('div.input').show();\n",
       " }\n",
       " code_show = !code_show\n",
       "} \n",
       "$( document ).ready(code_toggle);\n",
       "</script>\n",
       "<form action=\"javascript:code_toggle()\"><input type=\"submit\" value=\"Click here to toggle on/off the raw code.\"></form>"
      ],
      "text/plain": [
       "<IPython.core.display.HTML object>"
      ]
     },
     "execution_count": 14,
     "metadata": {},
     "output_type": "execute_result"
    }
   ],
   "source": [
    "display.HTML('''<script>\n",
    "code_show=true; \n",
    "function code_toggle() {\n",
    " if (code_show){\n",
    " $('div.input').hide();\n",
    " } else {\n",
    " $('div.input').show();\n",
    " }\n",
    " code_show = !code_show\n",
    "} \n",
    "$( document ).ready(code_toggle);\n",
    "</script>\n",
    "<form action=\"javascript:code_toggle()\"><input type=\"submit\" value=\"Click here to toggle on/off the raw code.\"></form>''')"
   ]
  },
  {
   "cell_type": "code",
   "execution_count": 15,
   "metadata": {
    "collapsed": true
   },
   "outputs": [],
   "source": []
  }
 ],
 "metadata": {
  "kernelspec": {
   "display_name": "Python 3",
   "language": "python",
   "name": "python3"
  },
  "language_info": {
   "codemirror_mode": {
    "name": "ipython",
    "version": 3
   },
   "file_extension": ".py",
   "mimetype": "text/x-python",
   "name": "python",
   "nbconvert_exporter": "python",
   "pygments_lexer": "ipython3",
   "version": "3.6.1"
  }
 },
 "nbformat": 4,
 "nbformat_minor": 2
}
