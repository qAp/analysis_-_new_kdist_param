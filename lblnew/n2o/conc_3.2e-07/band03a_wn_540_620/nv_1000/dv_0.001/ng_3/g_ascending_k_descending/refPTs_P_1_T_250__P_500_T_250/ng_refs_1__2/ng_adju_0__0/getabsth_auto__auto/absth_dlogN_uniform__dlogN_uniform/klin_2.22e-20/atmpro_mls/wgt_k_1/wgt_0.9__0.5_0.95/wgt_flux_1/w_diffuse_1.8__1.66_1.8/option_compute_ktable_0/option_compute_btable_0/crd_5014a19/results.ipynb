{
 "cells": [
  {
   "cell_type": "code",
   "execution_count": 1,
   "metadata": {
    "collapsed": true
   },
   "outputs": [],
   "source": [
    "%reload_ext autoreload\n",
    "%autoreload 2\n",
    "%matplotlib inline"
   ]
  },
  {
   "cell_type": "code",
   "execution_count": 2,
   "metadata": {
    "collapsed": true
   },
   "outputs": [],
   "source": [
    "import io\n",
    "\n",
    "import numpy as np\n",
    "import pymongo\n",
    "\n",
    "from bokeh.io import output_notebook, show\n",
    "from bokeh.palettes import all_palettes\n",
    "from bokeh.layouts import gridplot\n",
    "\n",
    "from IPython import display\n",
    "\n",
    "from climatools.cliradlw.dataset import load_output_file\n",
    "import climatools.html.html as climahtml\n",
    "from climatools.plot.plot import *"
   ]
  },
  {
   "cell_type": "code",
   "execution_count": 3,
   "metadata": {},
   "outputs": [
    {
     "data": {
      "text/html": [
       "\n",
       "    <div class=\"bk-root\">\n",
       "        <a href=\"https://bokeh.pydata.org\" target=\"_blank\" class=\"bk-logo bk-logo-small bk-logo-notebook\"></a>\n",
       "        <span id=\"115b97c9-68ea-4c03-9a16-92b30cad6b7c\">Loading BokehJS ...</span>\n",
       "    </div>"
      ]
     },
     "metadata": {},
     "output_type": "display_data"
    },
    {
     "data": {
      "application/javascript": [
       "\n",
       "(function(root) {\n",
       "  function now() {\n",
       "    return new Date();\n",
       "  }\n",
       "\n",
       "  var force = true;\n",
       "\n",
       "  if (typeof (root._bokeh_onload_callbacks) === \"undefined\" || force === true) {\n",
       "    root._bokeh_onload_callbacks = [];\n",
       "    root._bokeh_is_loading = undefined;\n",
       "  }\n",
       "\n",
       "  var JS_MIME_TYPE = 'application/javascript';\n",
       "  var HTML_MIME_TYPE = 'text/html';\n",
       "  var EXEC_MIME_TYPE = 'application/vnd.bokehjs_exec.v0+json';\n",
       "  var CLASS_NAME = 'output_bokeh rendered_html';\n",
       "\n",
       "  /**\n",
       "   * Render data to the DOM node\n",
       "   */\n",
       "  function render(props, node) {\n",
       "    var script = document.createElement(\"script\");\n",
       "    node.appendChild(script);\n",
       "  }\n",
       "\n",
       "  /**\n",
       "   * Handle when an output is cleared or removed\n",
       "   */\n",
       "  function handleClearOutput(event, handle) {\n",
       "    var cell = handle.cell;\n",
       "\n",
       "    var id = cell.output_area._bokeh_element_id;\n",
       "    var server_id = cell.output_area._bokeh_server_id;\n",
       "    // Clean up Bokeh references\n",
       "    if (id !== undefined) {\n",
       "      Bokeh.index[id].model.document.clear();\n",
       "      delete Bokeh.index[id];\n",
       "    }\n",
       "\n",
       "    if (server_id !== undefined) {\n",
       "      // Clean up Bokeh references\n",
       "      var cmd = \"from bokeh.io.state import curstate; print(curstate().uuid_to_server['\" + server_id + \"'].get_sessions()[0].document.roots[0]._id)\";\n",
       "      cell.notebook.kernel.execute(cmd, {\n",
       "        iopub: {\n",
       "          output: function(msg) {\n",
       "            var element_id = msg.content.text.trim();\n",
       "            Bokeh.index[element_id].model.document.clear();\n",
       "            delete Bokeh.index[element_id];\n",
       "          }\n",
       "        }\n",
       "      });\n",
       "      // Destroy server and session\n",
       "      var cmd = \"import bokeh.io.notebook as ion; ion.destroy_server('\" + server_id + \"')\";\n",
       "      cell.notebook.kernel.execute(cmd);\n",
       "    }\n",
       "  }\n",
       "\n",
       "  /**\n",
       "   * Handle when a new output is added\n",
       "   */\n",
       "  function handleAddOutput(event, handle) {\n",
       "    var output_area = handle.output_area;\n",
       "    var output = handle.output;\n",
       "\n",
       "    // limit handleAddOutput to display_data with EXEC_MIME_TYPE content only\n",
       "    if ((output.output_type != \"display_data\") || (!output.data.hasOwnProperty(EXEC_MIME_TYPE))) {\n",
       "      return\n",
       "    }\n",
       "\n",
       "    var toinsert = output_area.element.find(\".\" + CLASS_NAME.split(' ')[0]);\n",
       "\n",
       "    if (output.metadata[EXEC_MIME_TYPE][\"id\"] !== undefined) {\n",
       "      toinsert[toinsert.length - 1].firstChild.textContent = output.data[JS_MIME_TYPE];\n",
       "      // store reference to embed id on output_area\n",
       "      output_area._bokeh_element_id = output.metadata[EXEC_MIME_TYPE][\"id\"];\n",
       "    }\n",
       "    if (output.metadata[EXEC_MIME_TYPE][\"server_id\"] !== undefined) {\n",
       "      var bk_div = document.createElement(\"div\");\n",
       "      bk_div.innerHTML = output.data[HTML_MIME_TYPE];\n",
       "      var script_attrs = bk_div.children[0].attributes;\n",
       "      for (var i = 0; i < script_attrs.length; i++) {\n",
       "        toinsert[toinsert.length - 1].firstChild.setAttribute(script_attrs[i].name, script_attrs[i].value);\n",
       "      }\n",
       "      // store reference to server id on output_area\n",
       "      output_area._bokeh_server_id = output.metadata[EXEC_MIME_TYPE][\"server_id\"];\n",
       "    }\n",
       "  }\n",
       "\n",
       "  function register_renderer(events, OutputArea) {\n",
       "\n",
       "    function append_mime(data, metadata, element) {\n",
       "      // create a DOM node to render to\n",
       "      var toinsert = this.create_output_subarea(\n",
       "        metadata,\n",
       "        CLASS_NAME,\n",
       "        EXEC_MIME_TYPE\n",
       "      );\n",
       "      this.keyboard_manager.register_events(toinsert);\n",
       "      // Render to node\n",
       "      var props = {data: data, metadata: metadata[EXEC_MIME_TYPE]};\n",
       "      render(props, toinsert[toinsert.length - 1]);\n",
       "      element.append(toinsert);\n",
       "      return toinsert\n",
       "    }\n",
       "\n",
       "    /* Handle when an output is cleared or removed */\n",
       "    events.on('clear_output.CodeCell', handleClearOutput);\n",
       "    events.on('delete.Cell', handleClearOutput);\n",
       "\n",
       "    /* Handle when a new output is added */\n",
       "    events.on('output_added.OutputArea', handleAddOutput);\n",
       "\n",
       "    /**\n",
       "     * Register the mime type and append_mime function with output_area\n",
       "     */\n",
       "    OutputArea.prototype.register_mime_type(EXEC_MIME_TYPE, append_mime, {\n",
       "      /* Is output safe? */\n",
       "      safe: true,\n",
       "      /* Index of renderer in `output_area.display_order` */\n",
       "      index: 0\n",
       "    });\n",
       "  }\n",
       "\n",
       "  // register the mime type if in Jupyter Notebook environment and previously unregistered\n",
       "  if (root.Jupyter !== undefined) {\n",
       "    var events = require('base/js/events');\n",
       "    var OutputArea = require('notebook/js/outputarea').OutputArea;\n",
       "\n",
       "    if (OutputArea.prototype.mime_types().indexOf(EXEC_MIME_TYPE) == -1) {\n",
       "      register_renderer(events, OutputArea);\n",
       "    }\n",
       "  }\n",
       "\n",
       "  \n",
       "  if (typeof (root._bokeh_timeout) === \"undefined\" || force === true) {\n",
       "    root._bokeh_timeout = Date.now() + 5000;\n",
       "    root._bokeh_failed_load = false;\n",
       "  }\n",
       "\n",
       "  var NB_LOAD_WARNING = {'data': {'text/html':\n",
       "     \"<div style='background-color: #fdd'>\\n\"+\n",
       "     \"<p>\\n\"+\n",
       "     \"BokehJS does not appear to have successfully loaded. If loading BokehJS from CDN, this \\n\"+\n",
       "     \"may be due to a slow or bad network connection. Possible fixes:\\n\"+\n",
       "     \"</p>\\n\"+\n",
       "     \"<ul>\\n\"+\n",
       "     \"<li>re-rerun `output_notebook()` to attempt to load from CDN again, or</li>\\n\"+\n",
       "     \"<li>use INLINE resources instead, as so:</li>\\n\"+\n",
       "     \"</ul>\\n\"+\n",
       "     \"<code>\\n\"+\n",
       "     \"from bokeh.resources import INLINE\\n\"+\n",
       "     \"output_notebook(resources=INLINE)\\n\"+\n",
       "     \"</code>\\n\"+\n",
       "     \"</div>\"}};\n",
       "\n",
       "  function display_loaded() {\n",
       "    var el = document.getElementById(\"115b97c9-68ea-4c03-9a16-92b30cad6b7c\");\n",
       "    if (el != null) {\n",
       "      el.textContent = \"BokehJS is loading...\";\n",
       "    }\n",
       "    if (root.Bokeh !== undefined) {\n",
       "      if (el != null) {\n",
       "        el.textContent = \"BokehJS \" + root.Bokeh.version + \" successfully loaded.\";\n",
       "      }\n",
       "    } else if (Date.now() < root._bokeh_timeout) {\n",
       "      setTimeout(display_loaded, 100)\n",
       "    }\n",
       "  }\n",
       "\n",
       "\n",
       "  function run_callbacks() {\n",
       "    try {\n",
       "      root._bokeh_onload_callbacks.forEach(function(callback) { callback() });\n",
       "    }\n",
       "    finally {\n",
       "      delete root._bokeh_onload_callbacks\n",
       "    }\n",
       "    console.info(\"Bokeh: all callbacks have finished\");\n",
       "  }\n",
       "\n",
       "  function load_libs(js_urls, callback) {\n",
       "    root._bokeh_onload_callbacks.push(callback);\n",
       "    if (root._bokeh_is_loading > 0) {\n",
       "      console.log(\"Bokeh: BokehJS is being loaded, scheduling callback at\", now());\n",
       "      return null;\n",
       "    }\n",
       "    if (js_urls == null || js_urls.length === 0) {\n",
       "      run_callbacks();\n",
       "      return null;\n",
       "    }\n",
       "    console.log(\"Bokeh: BokehJS not loaded, scheduling load and callback at\", now());\n",
       "    root._bokeh_is_loading = js_urls.length;\n",
       "    for (var i = 0; i < js_urls.length; i++) {\n",
       "      var url = js_urls[i];\n",
       "      var s = document.createElement('script');\n",
       "      s.src = url;\n",
       "      s.async = false;\n",
       "      s.onreadystatechange = s.onload = function() {\n",
       "        root._bokeh_is_loading--;\n",
       "        if (root._bokeh_is_loading === 0) {\n",
       "          console.log(\"Bokeh: all BokehJS libraries loaded\");\n",
       "          run_callbacks()\n",
       "        }\n",
       "      };\n",
       "      s.onerror = function() {\n",
       "        console.warn(\"failed to load library \" + url);\n",
       "      };\n",
       "      console.log(\"Bokeh: injecting script tag for BokehJS library: \", url);\n",
       "      document.getElementsByTagName(\"head\")[0].appendChild(s);\n",
       "    }\n",
       "  };var element = document.getElementById(\"115b97c9-68ea-4c03-9a16-92b30cad6b7c\");\n",
       "  if (element == null) {\n",
       "    console.log(\"Bokeh: ERROR: autoload.js configured with elementid '115b97c9-68ea-4c03-9a16-92b30cad6b7c' but no matching script tag was found. \")\n",
       "    return false;\n",
       "  }\n",
       "\n",
       "  var js_urls = [\"https://cdn.pydata.org/bokeh/release/bokeh-0.12.16.min.js\", \"https://cdn.pydata.org/bokeh/release/bokeh-widgets-0.12.16.min.js\", \"https://cdn.pydata.org/bokeh/release/bokeh-tables-0.12.16.min.js\", \"https://cdn.pydata.org/bokeh/release/bokeh-gl-0.12.16.min.js\"];\n",
       "\n",
       "  var inline_js = [\n",
       "    function(Bokeh) {\n",
       "      Bokeh.set_log_level(\"info\");\n",
       "    },\n",
       "    \n",
       "    function(Bokeh) {\n",
       "      \n",
       "    },\n",
       "    function(Bokeh) {\n",
       "      console.log(\"Bokeh: injecting CSS: https://cdn.pydata.org/bokeh/release/bokeh-0.12.16.min.css\");\n",
       "      Bokeh.embed.inject_css(\"https://cdn.pydata.org/bokeh/release/bokeh-0.12.16.min.css\");\n",
       "      console.log(\"Bokeh: injecting CSS: https://cdn.pydata.org/bokeh/release/bokeh-widgets-0.12.16.min.css\");\n",
       "      Bokeh.embed.inject_css(\"https://cdn.pydata.org/bokeh/release/bokeh-widgets-0.12.16.min.css\");\n",
       "      console.log(\"Bokeh: injecting CSS: https://cdn.pydata.org/bokeh/release/bokeh-tables-0.12.16.min.css\");\n",
       "      Bokeh.embed.inject_css(\"https://cdn.pydata.org/bokeh/release/bokeh-tables-0.12.16.min.css\");\n",
       "    }\n",
       "  ];\n",
       "\n",
       "  function run_inline_js() {\n",
       "    \n",
       "    if ((root.Bokeh !== undefined) || (force === true)) {\n",
       "      for (var i = 0; i < inline_js.length; i++) {\n",
       "        inline_js[i].call(root, root.Bokeh);\n",
       "      }if (force === true) {\n",
       "        display_loaded();\n",
       "      }} else if (Date.now() < root._bokeh_timeout) {\n",
       "      setTimeout(run_inline_js, 100);\n",
       "    } else if (!root._bokeh_failed_load) {\n",
       "      console.log(\"Bokeh: BokehJS failed to load within specified timeout.\");\n",
       "      root._bokeh_failed_load = true;\n",
       "    } else if (force !== true) {\n",
       "      var cell = $(document.getElementById(\"115b97c9-68ea-4c03-9a16-92b30cad6b7c\")).parents('.cell').data().cell;\n",
       "      cell.output_area.append_execute_result(NB_LOAD_WARNING)\n",
       "    }\n",
       "\n",
       "  }\n",
       "\n",
       "  if (root._bokeh_is_loading === 0) {\n",
       "    console.log(\"Bokeh: BokehJS loaded, going straight to plotting\");\n",
       "    run_inline_js();\n",
       "  } else {\n",
       "    load_libs(js_urls, function() {\n",
       "      console.log(\"Bokeh: BokehJS plotting callback run at\", now());\n",
       "      run_inline_js();\n",
       "    });\n",
       "  }\n",
       "}(window));"
      ],
      "application/vnd.bokehjs_load.v0+json": "\n(function(root) {\n  function now() {\n    return new Date();\n  }\n\n  var force = true;\n\n  if (typeof (root._bokeh_onload_callbacks) === \"undefined\" || force === true) {\n    root._bokeh_onload_callbacks = [];\n    root._bokeh_is_loading = undefined;\n  }\n\n  \n\n  \n  if (typeof (root._bokeh_timeout) === \"undefined\" || force === true) {\n    root._bokeh_timeout = Date.now() + 5000;\n    root._bokeh_failed_load = false;\n  }\n\n  var NB_LOAD_WARNING = {'data': {'text/html':\n     \"<div style='background-color: #fdd'>\\n\"+\n     \"<p>\\n\"+\n     \"BokehJS does not appear to have successfully loaded. If loading BokehJS from CDN, this \\n\"+\n     \"may be due to a slow or bad network connection. Possible fixes:\\n\"+\n     \"</p>\\n\"+\n     \"<ul>\\n\"+\n     \"<li>re-rerun `output_notebook()` to attempt to load from CDN again, or</li>\\n\"+\n     \"<li>use INLINE resources instead, as so:</li>\\n\"+\n     \"</ul>\\n\"+\n     \"<code>\\n\"+\n     \"from bokeh.resources import INLINE\\n\"+\n     \"output_notebook(resources=INLINE)\\n\"+\n     \"</code>\\n\"+\n     \"</div>\"}};\n\n  function display_loaded() {\n    var el = document.getElementById(\"115b97c9-68ea-4c03-9a16-92b30cad6b7c\");\n    if (el != null) {\n      el.textContent = \"BokehJS is loading...\";\n    }\n    if (root.Bokeh !== undefined) {\n      if (el != null) {\n        el.textContent = \"BokehJS \" + root.Bokeh.version + \" successfully loaded.\";\n      }\n    } else if (Date.now() < root._bokeh_timeout) {\n      setTimeout(display_loaded, 100)\n    }\n  }\n\n\n  function run_callbacks() {\n    try {\n      root._bokeh_onload_callbacks.forEach(function(callback) { callback() });\n    }\n    finally {\n      delete root._bokeh_onload_callbacks\n    }\n    console.info(\"Bokeh: all callbacks have finished\");\n  }\n\n  function load_libs(js_urls, callback) {\n    root._bokeh_onload_callbacks.push(callback);\n    if (root._bokeh_is_loading > 0) {\n      console.log(\"Bokeh: BokehJS is being loaded, scheduling callback at\", now());\n      return null;\n    }\n    if (js_urls == null || js_urls.length === 0) {\n      run_callbacks();\n      return null;\n    }\n    console.log(\"Bokeh: BokehJS not loaded, scheduling load and callback at\", now());\n    root._bokeh_is_loading = js_urls.length;\n    for (var i = 0; i < js_urls.length; i++) {\n      var url = js_urls[i];\n      var s = document.createElement('script');\n      s.src = url;\n      s.async = false;\n      s.onreadystatechange = s.onload = function() {\n        root._bokeh_is_loading--;\n        if (root._bokeh_is_loading === 0) {\n          console.log(\"Bokeh: all BokehJS libraries loaded\");\n          run_callbacks()\n        }\n      };\n      s.onerror = function() {\n        console.warn(\"failed to load library \" + url);\n      };\n      console.log(\"Bokeh: injecting script tag for BokehJS library: \", url);\n      document.getElementsByTagName(\"head\")[0].appendChild(s);\n    }\n  };var element = document.getElementById(\"115b97c9-68ea-4c03-9a16-92b30cad6b7c\");\n  if (element == null) {\n    console.log(\"Bokeh: ERROR: autoload.js configured with elementid '115b97c9-68ea-4c03-9a16-92b30cad6b7c' but no matching script tag was found. \")\n    return false;\n  }\n\n  var js_urls = [\"https://cdn.pydata.org/bokeh/release/bokeh-0.12.16.min.js\", \"https://cdn.pydata.org/bokeh/release/bokeh-widgets-0.12.16.min.js\", \"https://cdn.pydata.org/bokeh/release/bokeh-tables-0.12.16.min.js\", \"https://cdn.pydata.org/bokeh/release/bokeh-gl-0.12.16.min.js\"];\n\n  var inline_js = [\n    function(Bokeh) {\n      Bokeh.set_log_level(\"info\");\n    },\n    \n    function(Bokeh) {\n      \n    },\n    function(Bokeh) {\n      console.log(\"Bokeh: injecting CSS: https://cdn.pydata.org/bokeh/release/bokeh-0.12.16.min.css\");\n      Bokeh.embed.inject_css(\"https://cdn.pydata.org/bokeh/release/bokeh-0.12.16.min.css\");\n      console.log(\"Bokeh: injecting CSS: https://cdn.pydata.org/bokeh/release/bokeh-widgets-0.12.16.min.css\");\n      Bokeh.embed.inject_css(\"https://cdn.pydata.org/bokeh/release/bokeh-widgets-0.12.16.min.css\");\n      console.log(\"Bokeh: injecting CSS: https://cdn.pydata.org/bokeh/release/bokeh-tables-0.12.16.min.css\");\n      Bokeh.embed.inject_css(\"https://cdn.pydata.org/bokeh/release/bokeh-tables-0.12.16.min.css\");\n    }\n  ];\n\n  function run_inline_js() {\n    \n    if ((root.Bokeh !== undefined) || (force === true)) {\n      for (var i = 0; i < inline_js.length; i++) {\n        inline_js[i].call(root, root.Bokeh);\n      }if (force === true) {\n        display_loaded();\n      }} else if (Date.now() < root._bokeh_timeout) {\n      setTimeout(run_inline_js, 100);\n    } else if (!root._bokeh_failed_load) {\n      console.log(\"Bokeh: BokehJS failed to load within specified timeout.\");\n      root._bokeh_failed_load = true;\n    } else if (force !== true) {\n      var cell = $(document.getElementById(\"115b97c9-68ea-4c03-9a16-92b30cad6b7c\")).parents('.cell').data().cell;\n      cell.output_area.append_execute_result(NB_LOAD_WARNING)\n    }\n\n  }\n\n  if (root._bokeh_is_loading === 0) {\n    console.log(\"Bokeh: BokehJS loaded, going straight to plotting\");\n    run_inline_js();\n  } else {\n    load_libs(js_urls, function() {\n      console.log(\"Bokeh: BokehJS plotting callback run at\", now());\n      run_inline_js();\n    });\n  }\n}(window));"
     },
     "metadata": {},
     "output_type": "display_data"
    }
   ],
   "source": [
    "output_notebook()"
   ]
  },
  {
   "cell_type": "code",
   "execution_count": 4,
   "metadata": {
    "collapsed": true
   },
   "outputs": [],
   "source": [
    "def make_query(param=None):\n",
    "    '''\n",
    "    Returns the MongoDB query for a lblnew \n",
    "    run's document.\n",
    "    \n",
    "    Parameters\n",
    "    ----------\n",
    "    param: dict\n",
    "    lblnew-bestfit input parameters.\n",
    "    '''\n",
    "    return {'param.' + name: value for name, value in param.items()}   "
   ]
  },
  {
   "cell_type": "code",
   "execution_count": 5,
   "metadata": {
    "collapsed": true
   },
   "outputs": [],
   "source": [
    "def print_input_param():\n",
    "    '''\n",
    "    Print to screen the input parameters \n",
    "    of the lblnew run.\n",
    "    '''\n",
    "    df = pd.DataFrame(columns=['lblnew'])\n",
    "    for name, value in sorted(PARAM.items()):\n",
    "        df.loc[name, 'lblnew'] = value\n",
    "    \n",
    "    df.index.name = 'Input parameter'\n",
    "    df.columns.name = 'Run'\n",
    "    \n",
    "    pd.set_option('display.max_colwidth', -1)\n",
    "    display.display(df)\n",
    "    pd.reset_option('display.max_colwidth')"
   ]
  },
  {
   "cell_type": "code",
   "execution_count": 6,
   "metadata": {
    "collapsed": true
   },
   "outputs": [],
   "source": [
    "def fmt_cool(ds_in):\n",
    "    ds = ds_in.copy(deep=True)\n",
    "    \n",
    "    if 'i' in ds.dims:                                                                                               \n",
    "        ds = ds.sel(i=ds.dims['i']) \n",
    "        \n",
    "    if 'band' in ds.dims:\n",
    "        try:\n",
    "            ds = ds.squeeze('band')\n",
    "        except ValueError:\n",
    "            ds = ds.sum('band') \n",
    "            \n",
    "    return ds['coolrg']\n",
    "\n",
    "\n",
    "\n",
    "def pltdata_cool(g=None):\n",
    "    '''\n",
    "    Define the plotting data for cooling rate\n",
    "    profile plots.  Add/remove entries in\n",
    "    the `data` list.\n",
    "    \n",
    "    Parameters\n",
    "    ----------\n",
    "    g: int\n",
    "        g-interval to be plotted.  If None,\n",
    "        the sum over all g-intervals will be\n",
    "        plotted.\n",
    "    data: dict\n",
    "        Plot data, including colour, line attributes, etc.\n",
    "    '''\n",
    "    colors = all_palettes['Set1'][4]\n",
    "    \n",
    "    if g == None:\n",
    "        ds_cool_crd = DS_COOL_CRD.sum('g')\n",
    "        ds_cool_wgt = DS_COOL_WGT.sum('g')\n",
    "    else:\n",
    "        ds_cool_crd = DS_COOL_CRD.sel(g=g)\n",
    "        ds_cool_wgt = DS_COOL_WGT.sel(g=g)\n",
    "    \n",
    "    data = [\n",
    "        {'label': 'CRD',\n",
    "         'srs': fmt_cool(ds_cool_crd),\n",
    "         'line_dash': 'solid', 'line_width':1.5,\n",
    "         'marker': 'circle', 'mark_size': 5,\n",
    "         'color': colors[2], 'alpha': 1},\n",
    "        {'label': 'WGT igg=1',\n",
    "         'srs': fmt_cool(ds_cool_wgt.sel(igg=1)),\n",
    "         'line_dash': 'solid', 'line_width': 3,\n",
    "         'marker': 'square', 'marker_size': 5,\n",
    "         'color': colors[3], 'alpha': .6},\n",
    "        {'label': 'WGT igg=10',\n",
    "         'srs': fmt_cool(ds_cool_wgt.sel(igg=10)),\n",
    "         'line_dash': 'solid', 'line_width': 2,\n",
    "         'marker': 'triangle', 'marker_size': 2,\n",
    "         'color': colors[1], 'alpha': .3}]\n",
    "    return data\n",
    "\n",
    "\n",
    "\n",
    "def plt_cool(pltdata=None):\n",
    "    '''\n",
    "    Plot cooling rate profiles on linear\n",
    "    and log pressure axes.\n",
    "    \n",
    "    Parameters\n",
    "    ----------\n",
    "    pltdata: dict\n",
    "        Plot data, including colour, line attributes, etc.\n",
    "    everything: bokeh.models.layouts.Column\n",
    "        Cooling rate profile plot.\n",
    "    '''\n",
    "    plin = plt_vert_profile_bokeh(pltdata=pltdata, \n",
    "                                  y_axis_type='linear',\n",
    "                                  prange=(50, 1050))\n",
    "    plin.plot_width, plin.plot_height = 400, 500\n",
    "    \n",
    "    plog = plt_vert_profile_bokeh(pltdata=pltdata,\n",
    "                                  y_axis_type='log',\n",
    "                                  prange=(.01, 200)) \n",
    "    plog.plot_width, plog.plot_height = 400, 500\n",
    "    \n",
    "    everything = gridplot(plin, plog, ncols=2)\n",
    "    return everything\n",
    "    \n",
    "    \n",
    "\n",
    "def script_plt_cool():\n",
    "    '''\n",
    "    Script to plot the cooling rate profiles\n",
    "    in each g-interval and the total \n",
    "    cooling rate profile over all g-intervals.\n",
    "    '''\n",
    "    ng = sum(PARAM['ng_refs'])\n",
    "    for g in np.arange(1, ng + 1):\n",
    "        data = pltdata_cool(g=g)\n",
    "        p = plt_cool(pltdata=data)\n",
    "        show(p)\n",
    "        display.display(\n",
    "            display.Markdown(f'*FIGURE.* Cooling rates. g={g}'))\n",
    "    \n",
    "    data = pltdata_cool()\n",
    "    p = plt_cool(pltdata=data)\n",
    "    show(p)\n",
    "    display.display(\n",
    "        display.Markdown(f'*FIGURE.* Cooling rates. Summed over g.'))\n",
    "    \n"
   ]
  },
  {
   "cell_type": "code",
   "execution_count": 7,
   "metadata": {
    "collapsed": true
   },
   "outputs": [],
   "source": [
    "def fmt_flux(ds_in, ilevels=None):\n",
    "    ds = ds_in.copy(deep=True)\n",
    "    \n",
    "    for l in ('level', 'layer'):\n",
    "        if l in ds.data_vars:\n",
    "            if len(ds[l].dims) > 1:\n",
    "                surface = {d: 0 for d in ds.dims if d != 'pressure'}\n",
    "                coord_level = ds[l][surface]\n",
    "                ds.coords[l] = ('pressure', coord_level)\n",
    "            else:\n",
    "                ds.coords[l] = ('pressure', ds[l])\n",
    "    \n",
    "    if ilevels:\n",
    "        ds = ds.isel(pressure=ilevels)\n",
    "\n",
    "    if 'i' in ds.dims:                                                                                               \n",
    "        ds = ds.sel(i=ds.dims['i'])\n",
    "        \n",
    "    #if 'igg' in ds.dims:\n",
    "    #    ds = ds.squeeze('igg').drop('igg')\n",
    "        \n",
    "    if 'igg' in ds:\n",
    "        if ds['igg'].shape == (1,):\n",
    "            ds = ds.squeeze('igg').drop('igg')\n",
    "        elif ds['igg'].shape == ():\n",
    "            ds = ds.drop('igg')\n",
    "            \n",
    "    if 'g' in ds:\n",
    "        if ds['g'].shape == (1,):\n",
    "            ds = ds.squeeze('g').drop('g')\n",
    "        elif ds['g'].shape == ():\n",
    "            ds = ds.drop('g')\n",
    "            \n",
    "    if 'band' in ds.dims:\n",
    "        try:\n",
    "            ds = ds.squeeze('band').drop('band')\n",
    "        except ValueError:\n",
    "            ds = ds.sum('band')\n",
    "                \n",
    "    df = ds.to_dataframe()\n",
    "    df = df.set_index('level', append=True)               \n",
    "    return df\n",
    "\n",
    "\n",
    "def tbdata_flux():\n",
    "    '''\n",
    "    Define the flux data to be tabulated for\n",
    "    the g-intervals.  Add/remove entries in the\n",
    "    `tbs` list.\n",
    "    \n",
    "    Parameters\n",
    "    ----------\n",
    "    data: dict\n",
    "        Flux data, including how each set is to be\n",
    "        labeled in the output table.\n",
    "    '''\n",
    "    tropopauses = {'mls': 40, 'saw': 45, 'trp': 37}\n",
    "    atmpro = PARAM['atmpro']\n",
    "    ilevels = [0, tropopauses[atmpro], -1]\n",
    "    \n",
    "    benchmark = {'label': 'CRD',\n",
    "                 'df': fmt_flux(DS_FLUX_CRD, ilevels=ilevels)}\n",
    "    \n",
    "    tbs = [{'label': 'WGT igg=1',\n",
    "            'df': fmt_flux(DS_FLUX_WGT.sel(igg=[1]), ilevels=ilevels)},\n",
    "           {'label': 'WGT igg=10',\n",
    "            'df': fmt_flux(DS_FLUX_WGT.sel(igg=[10]), ilevels=ilevels)}]\n",
    "    \n",
    "    data = {'benchmark': benchmark, 'others': tbs}\n",
    "    return data\n",
    "\n",
    "\n",
    "\n",
    "def tbdata_flux_sumg():\n",
    "    '''\n",
    "    Define the total flux data, over all g-intervals,\n",
    "    to be tabulated.\n",
    "    \n",
    "    Parameters\n",
    "    ----------\n",
    "    data: dict\n",
    "        Flux data, including how each set is to e\n",
    "        labeled in the output table.\n",
    "    '''\n",
    "    tropopauses = {'mls': 40, 'saw': 45, 'trp': 37}\n",
    "    \n",
    "    atmpro = PARAM['atmpro']\n",
    "    ilevels = [0, tropopauses[atmpro], -1]\n",
    "    \n",
    "    benchmark = {'label': 'CRD',\n",
    "                 'df': fmt_flux(DS_FLUX_CRD.sum('g'), ilevels=ilevels)}\n",
    "    \n",
    "    tbs = [{'label': 'WGT igg=1',\n",
    "            'df': fmt_flux(DS_FLUX_WGT.sel(igg=[1]).sum('g'), \n",
    "                           ilevels=ilevels)},\n",
    "           {'label': 'WGT igg=10',\n",
    "            'df': fmt_flux(DS_FLUX_WGT.sel(igg=[10]).sum('g'), \n",
    "                           ilevels=ilevels)}]\n",
    "    \n",
    "    data = {'benchmark': benchmark, 'others': tbs}\n",
    "    return data\n",
    "\n",
    "\n",
    "def tb_flux(tbdata=None):\n",
    "    '''\n",
    "    Display flux table for each set, and display\n",
    "    the difference between each set and the set\n",
    "    that is specified to be the benchmark.\n",
    "    \n",
    "    Parameters\n",
    "    ----------\n",
    "    tbdata: dict\n",
    "        Flux data, including how each set it to be\n",
    "        labeled in the output table.\n",
    "    '''\n",
    "    benchmark = tbdata['benchmark']\n",
    "    others = tbdata['others']\n",
    "    \n",
    "    def show_tb(d=None):\n",
    "        display.display(d['df'])\n",
    "        display.display(display.Markdown(\n",
    "            f\"*TABLE.* Fluxes. {d['label']}\"))\n",
    "        \n",
    "    def show_tbdiff(d0=None, d=None):\n",
    "        df = d['df']\n",
    "        df.index = d0['df'].index\n",
    "        display.display(df - d0['df'])\n",
    "        display.display(display.Markdown(\n",
    "            f\"*TABLE.* Fluxes. ({d['label']}) - ({d0['label']})\"))\n",
    "        \n",
    "    show_tb(benchmark)\n",
    "    for d in others:\n",
    "        show_tb(d)\n",
    "        \n",
    "    for d in others:\n",
    "        show_tbdiff(d=d, d0=benchmark)\n",
    "        \n",
    "\n",
    "        \n",
    "def script_tb_flux():\n",
    "    '''\n",
    "    Script to display the flux tables in \n",
    "    each g-interval, and the flux table\n",
    "    for the total flux, over all g-intervals.\n",
    "    '''\n",
    "    tb_flux(tbdata=tbdata_flux())\n",
    "    tb_flux(tbdata=tbdata_flux_sumg())\n"
   ]
  },
  {
   "cell_type": "code",
   "execution_count": 8,
   "metadata": {
    "collapsed": true
   },
   "outputs": [],
   "source": [
    "def script_gsummary():\n",
    "    '''\n",
    "    Script to display how the g-intervals\n",
    "    are defined according the hyperparameters\n",
    "    chosen for this lblnew-bestfit run.\n",
    "    '''\n",
    "    ng_refs = PARAM['ng_refs']\n",
    "    p_refs = list(zip(*PARAM['ref_pts']))[0]\n",
    "    ng = sum(ng_refs)\n",
    "    df_abscom = pd.read_csv(io.StringIO(DOC['abscom']), \n",
    "                            sep=r'\\s+', index_col=[0])\n",
    "    df_dgdgs = pd.read_csv(io.StringIO(DOC['dgdgs']), \n",
    "                            sep=r'\\s+', index_col=[0])\n",
    "    \n",
    "    # absth(g + 1) / absth(g)\n",
    "    df_abscom_copy = df_abscom.copy()\n",
    "    df_abscom_copy.index = df_abscom.index + 1\n",
    "    df_absratio = df_abscom / df_abscom_copy\n",
    "    df_absratio.columns = ['k(ig) / k(ig - 1)']\n",
    "    df_absratio = df_absratio.loc[: ng]    \n",
    "    \n",
    "    df_dgdgs_cumsum = df_dgdgs.cumsum(axis=0)\n",
    "    df_dgdgs_cumsum.columns = ['dg cumsum', 'dgs cumsum']\n",
    "    \n",
    "    data_pref = np.concatenate([p_ref * np.ones((ng_ref,)) \n",
    "                                for ng_ref, p_ref \n",
    "                                in zip(ng_refs, p_refs)], axis=0)\n",
    "    df_pref = pd.DataFrame(data_pref, \n",
    "                           index=df_dgdgs.index, columns=['pref'])\n",
    "    \n",
    "    df_all = pd.concat([df_abscom, df_absratio,\n",
    "                        df_dgdgs, df_dgdgs_cumsum,\n",
    "                        df_pref], axis=1) \n",
    "    \n",
    "    display.display(df_all)\n",
    "    display.display(display.Markdown(\n",
    "        (f\"TABLE. g-interval summary.  \"\n",
    "         f\"*abscom* is the lower bound of the g-interval.\")))\n",
    "    \n"
   ]
  },
  {
   "cell_type": "code",
   "execution_count": 9,
   "metadata": {
    "collapsed": true
   },
   "outputs": [],
   "source": [
    "def script_flux_to_excel():\n",
    "    '''\n",
    "    Script to save the lblnew-bestfit run's\n",
    "    output flux to excel file and display the\n",
    "    link to download the excel file.\n",
    "    '''\n",
    "    fname = 'lblnew-bestfit_flux.xlsx'\n",
    "    writer = pd.ExcelWriter(fname)\n",
    "    \n",
    "    ds = DS_FLUX_CRD\n",
    "    for g in ds.coords['g']:\n",
    "        df = ds.sel(g=g).to_dataframe()\n",
    "        df.to_excel(writer, f'crd flux g={int(g)}')\n",
    "                \n",
    "    ds = DS_FLUX_WGT\n",
    "    for g in ds.coords['g']:\n",
    "        df = ds.sel(g=g, igg=1).to_dataframe()\n",
    "        df.to_excel(writer, f'wgt igg=1 flux g={int(g)}')\n",
    "        \n",
    "        df = ds.sel(g=g, igg=10).to_dataframe()\n",
    "        df.to_excel(writer, f'wgt igg=10 flux g={int(g)}')\n",
    "        \n",
    "    writer.save()    \n",
    "    html_download = f'Download: <a href=\"./{fname}\">{fname}</a>'\n",
    "    display.display(display.HTML(html_download))\n",
    "\n",
    "\n",
    "def script_cool_to_excel():\n",
    "    '''\n",
    "    Script to save the lblnew-bestfit run's\n",
    "    output cooling rate to excel file and display\n",
    "    the link to download the excel file.\n",
    "    '''\n",
    "    fname = 'lblnew-bestfit_cool.xlsx'\n",
    "    writer = pd.ExcelWriter(fname)\n",
    "    \n",
    "    ds = DS_COOL_CRD\n",
    "    for g in ds.coords['g']:\n",
    "        df = ds.sel(g=g).to_dataframe()\n",
    "        df.to_excel(writer, f'crd cool g={int(g)}')\n",
    "        \n",
    "    ds = DS_COOL_WGT\n",
    "    for g in ds.coords['g']:\n",
    "        df = ds.sel(g=g, igg=1).to_dataframe()\n",
    "        df.to_excel(writer, f'wgt igg=1 cool g={int(g)}')\n",
    "        \n",
    "        df = ds.sel(g=g, igg=10).to_dataframe()\n",
    "        df.to_excel(writer, f'wgt igg=10 cool g={int(g)}')\n",
    "        \n",
    "    writer.save()\n",
    "    html_download = f'Download: <a href=\"./{fname}\">{fname}</a>'\n",
    "    display.display(display.HTML(html_download))"
   ]
  },
  {
   "cell_type": "code",
   "execution_count": 10,
   "metadata": {
    "collapsed": true
   },
   "outputs": [],
   "source": [
    "def show_html(s):\n",
    "    display.display(display.HTML(s))\n",
    "\n",
    "    \n",
    "def show_markdown(s):\n",
    "    display.display(display.Markdown(s))"
   ]
  },
  {
   "cell_type": "code",
   "execution_count": 11,
   "metadata": {
    "collapsed": true
   },
   "outputs": [],
   "source": [
    "def script():\n",
    "    title = ('### lblnew-bestfit' \n",
    "             if 'ng_refs' in PARAM else '### lblnew-overlap')\n",
    "    s_input = 'Input Parameters'\n",
    "    s_plt_cool = 'Cooling Rate Profiles'\n",
    "    s_tb_flux = 'Flux Comparison'\n",
    "    s_gsummary = 'g-interval Summary'\n",
    "    s_download = 'Download Data'\n",
    "    \n",
    "    # title\n",
    "    show_markdown(title)\n",
    "    \n",
    "    # TOC\n",
    "    show_markdown('### Table of Contents')\n",
    "    show_html(climahtml.getHTML_hrefanchor(s_input))\n",
    "    show_html(climahtml.getHTML_hrefanchor(s_plt_cool))\n",
    "    show_html(climahtml.getHTML_hrefanchor(s_tb_flux))\n",
    "    show_html(climahtml.getHTML_hrefanchor(s_gsummary))\n",
    "    show_html(climahtml.getHTML_hrefanchor(s_download))\n",
    "    \n",
    "    # Input parameters\n",
    "    show_html(climahtml.getHTML_idanchor(s_input))\n",
    "    show_markdown(climahtml.getMarkdown_sectitle(s_input))\n",
    "    print_input_param()\n",
    "    \n",
    "    # Cooling rate profiles\n",
    "    show_html(climahtml.getHTML_idanchor(s_plt_cool))\n",
    "    show_markdown(climahtml.getMarkdown_sectitle(s_plt_cool))\n",
    "    script_plt_cool()\n",
    "    \n",
    "    # Flux comparison\n",
    "    show_html(climahtml.getHTML_idanchor(s_tb_flux))\n",
    "    show_markdown(climahtml.getMarkdown_sectitle(s_tb_flux))\n",
    "    script_tb_flux()\n",
    "    \n",
    "    # g-interval summary\n",
    "    show_html(climahtml.getHTML_idanchor(s_gsummary))\n",
    "    show_markdown(climahtml.getMarkdown_sectitle(s_gsummary))\n",
    "    script_gsummary()\n",
    "    \n",
    "    # Download cooling rate and fluxes\n",
    "    show_html(climahtml.getHTML_idanchor(s_download))\n",
    "    show_markdown(climahtml.getMarkdown_sectitle(s_download))\n",
    "    script_flux_to_excel()\n",
    "    script_cool_to_excel()"
   ]
  },
  {
   "cell_type": "code",
   "execution_count": 12,
   "metadata": {
    "collapsed": true
   },
   "outputs": [],
   "source": [
    "%run param.py\n",
    "\n",
    "client = pymongo.MongoClient('localhost', 27017, connect=False)\n",
    "db = client.lblnew\n",
    "\n",
    "\n",
    "DOC = db.bestfit_lw.find_one(make_query(param=PARAM))\n",
    "DS_FLUX_CRD = load_output_file(io.StringIO(DOC['output_fluxg']))\n",
    "DS_COOL_CRD = load_output_file(io.StringIO(DOC['output_coolrg']))\n",
    "DS_FLUX_WGT = load_output_file(io.StringIO(DOC['output_wfluxg']))\n",
    "DS_COOL_WGT = load_output_file(io.StringIO(DOC['output_wcoolrg']))"
   ]
  },
  {
   "cell_type": "code",
   "execution_count": 13,
   "metadata": {
    "scrolled": false
   },
   "outputs": [
    {
     "data": {
      "text/markdown": [
       "### lblnew-bestfit"
      ],
      "text/plain": [
       "<IPython.core.display.Markdown object>"
      ]
     },
     "metadata": {},
     "output_type": "display_data"
    },
    {
     "data": {
      "text/markdown": [
       "### Table of Contents"
      ],
      "text/plain": [
       "<IPython.core.display.Markdown object>"
      ]
     },
     "metadata": {},
     "output_type": "display_data"
    },
    {
     "data": {
      "text/html": [
       "<a href=\"#Input_Parameters\">Input Parameters</a>"
      ],
      "text/plain": [
       "<IPython.core.display.HTML object>"
      ]
     },
     "metadata": {},
     "output_type": "display_data"
    },
    {
     "data": {
      "text/html": [
       "<a href=\"#Cooling_Rate_Profiles\">Cooling Rate Profiles</a>"
      ],
      "text/plain": [
       "<IPython.core.display.HTML object>"
      ]
     },
     "metadata": {},
     "output_type": "display_data"
    },
    {
     "data": {
      "text/html": [
       "<a href=\"#Flux_Comparison\">Flux Comparison</a>"
      ],
      "text/plain": [
       "<IPython.core.display.HTML object>"
      ]
     },
     "metadata": {},
     "output_type": "display_data"
    },
    {
     "data": {
      "text/html": [
       "<a href=\"#g-interval_Summary\">g-interval Summary</a>"
      ],
      "text/plain": [
       "<IPython.core.display.HTML object>"
      ]
     },
     "metadata": {},
     "output_type": "display_data"
    },
    {
     "data": {
      "text/html": [
       "<a href=\"#Download_Data\">Download Data</a>"
      ],
      "text/plain": [
       "<IPython.core.display.HTML object>"
      ]
     },
     "metadata": {},
     "output_type": "display_data"
    },
    {
     "data": {
      "text/html": [
       "<a id=\"Input_Parameters\"></a>"
      ],
      "text/plain": [
       "<IPython.core.display.HTML object>"
      ]
     },
     "metadata": {},
     "output_type": "display_data"
    },
    {
     "data": {
      "text/markdown": [
       "# Input Parameters"
      ],
      "text/plain": [
       "<IPython.core.display.Markdown object>"
      ]
     },
     "metadata": {},
     "output_type": "display_data"
    },
    {
     "data": {
      "text/html": [
       "<div>\n",
       "<style scoped>\n",
       "    .dataframe tbody tr th:only-of-type {\n",
       "        vertical-align: middle;\n",
       "    }\n",
       "\n",
       "    .dataframe tbody tr th {\n",
       "        vertical-align: top;\n",
       "    }\n",
       "\n",
       "    .dataframe thead th {\n",
       "        text-align: right;\n",
       "    }\n",
       "</style>\n",
       "<table border=\"1\" class=\"dataframe\">\n",
       "  <thead>\n",
       "    <tr style=\"text-align: right;\">\n",
       "      <th>Run</th>\n",
       "      <th>lblnew</th>\n",
       "    </tr>\n",
       "    <tr>\n",
       "      <th>Input parameter</th>\n",
       "      <th></th>\n",
       "    </tr>\n",
       "  </thead>\n",
       "  <tbody>\n",
       "    <tr>\n",
       "      <th>atmpro</th>\n",
       "      <td>mls</td>\n",
       "    </tr>\n",
       "    <tr>\n",
       "      <th>band</th>\n",
       "      <td>3a</td>\n",
       "    </tr>\n",
       "    <tr>\n",
       "      <th>commitnumber</th>\n",
       "      <td>5014a19</td>\n",
       "    </tr>\n",
       "    <tr>\n",
       "      <th>conc</th>\n",
       "      <td>3.2e-07</td>\n",
       "    </tr>\n",
       "    <tr>\n",
       "      <th>dv</th>\n",
       "      <td>0.001</td>\n",
       "    </tr>\n",
       "    <tr>\n",
       "      <th>klin</th>\n",
       "      <td>2.22e-20</td>\n",
       "    </tr>\n",
       "    <tr>\n",
       "      <th>molecule</th>\n",
       "      <td>n2o</td>\n",
       "    </tr>\n",
       "    <tr>\n",
       "      <th>ng_adju</th>\n",
       "      <td>[0, 0]</td>\n",
       "    </tr>\n",
       "    <tr>\n",
       "      <th>ng_refs</th>\n",
       "      <td>[1, 2]</td>\n",
       "    </tr>\n",
       "    <tr>\n",
       "      <th>nv</th>\n",
       "      <td>1000</td>\n",
       "    </tr>\n",
       "    <tr>\n",
       "      <th>option_compute_btable</th>\n",
       "      <td>0</td>\n",
       "    </tr>\n",
       "    <tr>\n",
       "      <th>option_compute_ktable</th>\n",
       "      <td>0</td>\n",
       "    </tr>\n",
       "    <tr>\n",
       "      <th>option_wgt_flux</th>\n",
       "      <td>1</td>\n",
       "    </tr>\n",
       "    <tr>\n",
       "      <th>option_wgt_k</th>\n",
       "      <td>1</td>\n",
       "    </tr>\n",
       "    <tr>\n",
       "      <th>ref_pts</th>\n",
       "      <td>[[1, 250], [500, 250]]</td>\n",
       "    </tr>\n",
       "    <tr>\n",
       "      <th>tsfc</th>\n",
       "      <td>294</td>\n",
       "    </tr>\n",
       "    <tr>\n",
       "      <th>vmax</th>\n",
       "      <td>620</td>\n",
       "    </tr>\n",
       "    <tr>\n",
       "      <th>vmin</th>\n",
       "      <td>540</td>\n",
       "    </tr>\n",
       "    <tr>\n",
       "      <th>w_diffuse</th>\n",
       "      <td>[[1.8], [1.66, 1.8]]</td>\n",
       "    </tr>\n",
       "    <tr>\n",
       "      <th>wgt</th>\n",
       "      <td>[[0.9], [0.5, 0.95]]</td>\n",
       "    </tr>\n",
       "  </tbody>\n",
       "</table>\n",
       "</div>"
      ],
      "text/plain": [
       "Run                                    lblnew\n",
       "Input parameter                              \n",
       "atmpro                 mls                   \n",
       "band                   3a                    \n",
       "commitnumber           5014a19               \n",
       "conc                   3.2e-07               \n",
       "dv                     0.001                 \n",
       "klin                   2.22e-20              \n",
       "molecule               n2o                   \n",
       "ng_adju                [0, 0]                \n",
       "ng_refs                [1, 2]                \n",
       "nv                     1000                  \n",
       "option_compute_btable  0                     \n",
       "option_compute_ktable  0                     \n",
       "option_wgt_flux        1                     \n",
       "option_wgt_k           1                     \n",
       "ref_pts                [[1, 250], [500, 250]]\n",
       "tsfc                   294                   \n",
       "vmax                   620                   \n",
       "vmin                   540                   \n",
       "w_diffuse              [[1.8], [1.66, 1.8]]  \n",
       "wgt                    [[0.9], [0.5, 0.95]]  "
      ]
     },
     "metadata": {},
     "output_type": "display_data"
    },
    {
     "data": {
      "text/html": [
       "<a id=\"Cooling_Rate_Profiles\"></a>"
      ],
      "text/plain": [
       "<IPython.core.display.HTML object>"
      ]
     },
     "metadata": {},
     "output_type": "display_data"
    },
    {
     "data": {
      "text/markdown": [
       "# Cooling Rate Profiles"
      ],
      "text/plain": [
       "<IPython.core.display.Markdown object>"
      ]
     },
     "metadata": {},
     "output_type": "display_data"
    },
    {
     "data": {
      "text/html": [
       "\n",
       "<div class=\"bk-root\">\n",
       "    <div class=\"bk-plotdiv\" id=\"97844f8e-0865-49d6-b5bf-8d8fd7cad257\"></div>\n",
       "</div>"
      ]
     },
     "metadata": {},
     "output_type": "display_data"
    },
    {
     "data": {
      "application/javascript": [
       "(function(root) {\n",
       "  function embed_document(root) {\n",
       "    \n",
       "  var docs_json = {\"882b8235-470d-4d26-8596-ae3c747d4b67\":{\"roots\":{\"references\":[{\"attributes\":{\"line_alpha\":0.1,\"line_color\":\"#1f77b4\",\"line_width\":2,\"x\":{\"field\":\"x\"},\"y\":{\"field\":\"y\"}},\"id\":\"c4dfb451-394c-474a-922a-dbe4c84b36c2\",\"type\":\"Line\"},{\"attributes\":{\"dimension\":1,\"plot\":{\"id\":\"f6693684-c94f-462c-9830-dffa8a66952e\",\"subtype\":\"Figure\",\"type\":\"Plot\"},\"ticker\":{\"id\":\"ca4d89d5-ce29-4272-b1ff-a6c80af193d5\",\"type\":\"BasicTicker\"}},\"id\":\"121b911f-f0f7-482f-b2a2-72b9348dbe7c\",\"type\":\"Grid\"},{\"attributes\":{\"data_source\":{\"id\":\"e580dd6a-fd94-42df-87a5-df6a44977c01\",\"type\":\"ColumnDataSource\"},\"glyph\":{\"id\":\"143e2369-b338-4397-9429-8976b5598be9\",\"type\":\"Line\"},\"hover_glyph\":null,\"muted_glyph\":null,\"nonselection_glyph\":{\"id\":\"c4dfb451-394c-474a-922a-dbe4c84b36c2\",\"type\":\"Line\"},\"selection_glyph\":null,\"view\":{\"id\":\"3751adc3-8319-4bdf-b401-00b75b5cadb0\",\"type\":\"CDSView\"}},\"id\":\"2e2fc6b2-16bb-4f17-be97-db813bf3dbeb\",\"type\":\"GlyphRenderer\"},{\"attributes\":{\"source\":{\"id\":\"e580dd6a-fd94-42df-87a5-df6a44977c01\",\"type\":\"ColumnDataSource\"}},\"id\":\"3751adc3-8319-4bdf-b401-00b75b5cadb0\",\"type\":\"CDSView\"},{\"attributes\":{\"callback\":null,\"end\":0.01,\"start\":1020},\"id\":\"d1060bba-3a9f-43fe-8007-81f15af94d7b\",\"type\":\"Range1d\"},{\"attributes\":{\"plot\":{\"id\":\"d858e403-e6f6-4381-a159-29d9d8e8efda\",\"subtype\":\"Figure\",\"type\":\"Plot\"},\"ticker\":{\"id\":\"1433b12c-a0a5-4022-85c8-e2e1fbf971e9\",\"type\":\"BasicTicker\"}},\"id\":\"625f3738-4a5c-4d2a-9f1a-2f3896f5e77b\",\"type\":\"Grid\"},{\"attributes\":{},\"id\":\"ca4d89d5-ce29-4272-b1ff-a6c80af193d5\",\"type\":\"BasicTicker\"},{\"attributes\":{\"source\":{\"id\":\"11dcf0aa-c833-4dbb-a9f3-a1688f609d51\",\"type\":\"ColumnDataSource\"}},\"id\":\"8425d969-4b0a-48f6-ab24-7068706657cc\",\"type\":\"CDSView\"},{\"attributes\":{\"data_source\":{\"id\":\"11dcf0aa-c833-4dbb-a9f3-a1688f609d51\",\"type\":\"ColumnDataSource\"},\"glyph\":{\"id\":\"0a67ecf8-e7b3-4c45-b118-1e080ecf9425\",\"type\":\"Triangle\"},\"hover_glyph\":null,\"muted_glyph\":null,\"nonselection_glyph\":{\"id\":\"26c815ba-0ce1-40c6-98d7-2882ddc0476d\",\"type\":\"Triangle\"},\"selection_glyph\":null,\"view\":{\"id\":\"8425d969-4b0a-48f6-ab24-7068706657cc\",\"type\":\"CDSView\"}},\"id\":\"5838f0b0-2411-4fc8-8e45-d38057cf30ef\",\"type\":\"GlyphRenderer\"},{\"attributes\":{\"axis_label\":\"pressure [mb]\",\"formatter\":{\"id\":\"011da6e2-3f14-4b21-8b8a-63a07a74df67\",\"type\":\"BasicTickFormatter\"},\"plot\":{\"id\":\"f6693684-c94f-462c-9830-dffa8a66952e\",\"subtype\":\"Figure\",\"type\":\"Plot\"},\"ticker\":{\"id\":\"ca4d89d5-ce29-4272-b1ff-a6c80af193d5\",\"type\":\"BasicTicker\"}},\"id\":\"f452c17a-63d7-415e-944e-428b4baf280d\",\"type\":\"LinearAxis\"},{\"attributes\":{},\"id\":\"1433b12c-a0a5-4022-85c8-e2e1fbf971e9\",\"type\":\"BasicTicker\"},{\"attributes\":{\"source\":{\"id\":\"7f352ab6-8b65-42e4-a2c9-ed72f9655192\",\"type\":\"ColumnDataSource\"}},\"id\":\"a83e54d9-baaa-4bfb-a2df-b29747d3f58c\",\"type\":\"CDSView\"},{\"attributes\":{},\"id\":\"ecc385c9-197f-4b55-ba8c-a16cfc642408\",\"type\":\"LinearScale\"},{\"attributes\":{\"plot\":{\"id\":\"f6693684-c94f-462c-9830-dffa8a66952e\",\"subtype\":\"Figure\",\"type\":\"Plot\"},\"ticker\":{\"id\":\"38db025e-d667-49a9-9683-47474f5c6315\",\"type\":\"BasicTicker\"}},\"id\":\"0ea00536-3fbe-4176-abd1-962fa379afa6\",\"type\":\"Grid\"},{\"attributes\":{\"callback\":null,\"data\":{\"x\":{\"__ndarray__\":\"fcb9fweDeT9mwPKLRgp6P9lS4h/fKns/MP5mvE5efD86VuZE+5N9P2//IpWWy34/SWaPdYwCgD+n9lCAO6CAP7+5Cb/XPoE/D0LFG07egT89KSVZhn6CP31Xmax3H4M/Udxm6xbBgz8+WiPZ322EPyWJ4cfxc4Y/rz2k+RITjD9g2jqv5j2SP8F6Z6rj1ZY/KzNj2eW+mz85u1Iiy3qgPz0BiTDCN6M/TLvB5esRpj+urJ/ECF2oP7Ad4tjgaKg/AXG3IU9dpj8o1YXyGsijPwcODzHDHqE//7h5uiX/nD8CWLdWiAKYPykicuPeSJM/9z5VhQZijT903cFz4reEPwT4BTRMBns/nBs10AzDbz8/IQdZmV9bPzlsXM+LRv2+FbhLk/jyUL98qH8UpkRav1q+kH/2BGG/2fy8xHiPY784bWM/zcFiv53VCqN15V6/0DT8PaVJWL+Pe4F9HqFSv5VUYdqviUu/jmg9HFMWQ7+kGE9EolI3v+1v9s3rUSS/B4q0y5Er+T5QasQ5fBEoPyfIrTClSzU/aeH0EOBpPT8ljIpBAEBCPxaymNX3X0U//bEeVpwxSD9uP5u0GM1KP8EegK9uQ00/OyiMx52gTz8S4Y89o/ZQP5pWV33mF1I/A6QT0B82Uz9EJ7Uj1lNUP7cN6xopc1U/7E9fYKiUVj/mNJUT3rZXPy/QquEm1Fg/YcEA8HbeWT+KZ82q775aP7+hrHMeYls/23+8zZbJWz9c/fIvJAxcP4oPAidhQ1w/XPsirMR/XD8tQ3/MfslcPzSONXw7JF0/\",\"dtype\":\"float64\",\"shape\":[75]},\"y\":{\"__ndarray__\":\"GhExyth1ND/Sv8nbtpRIP2vylNV0PVE/aTum7souWD/At0SJ8fVgPw3Iuahxymc/MSNhhJWvcD/bTfBN02d3P2zb5nxnaoA/CD5h5MAGhz8NmeH1TyaQP+zrCsc9p5Y/LbKd76fGnz/bLW5ISEmmPww9YvTcQq8/JV2OstnstT8Er5Y7M8G+P0c+r3jqkcU/5h99k6ZBzj88bCIzFzjVP4enV8oyxN0//yH99nXg5D8qOpLLf0jtP5kqGJXUifQ/c9cS8kHP/D+/DpwzojQEQIEmwoanVwxA4lgXt9HgE0BSSZ2AJuIbQAMJih9jjiNA5q4l5INuK0AwTKYKRj0zQNv5fmq8/DpAaCJseHrtQkB/+zpwzoxKQM3MzMzMeFJAZmZmZmZqWEAAAAAAAFxeQM3MzMzMJmJAmpmZmZkfZUBmZmZmZhhoQDMzMzMzEWtAAAAAAAAKbkBmZmZmZoFwQM3MzMzM/XFAMzMzMzN6c0CamZmZmfZ0QAAAAAAAc3ZAZmZmZmbvd0DNzMzMzGt5QDMzMzMz6HpAmpmZmZlkfEAAAAAAAOF9QGZmZmZmXX9AZmZmZuZsgECamZmZGSuBQM3MzMxM6YFAAAAAAICngkAzMzMzs2WDQGZmZmbmI4RAmpmZmRnihEDNzMzMTKCFQAAAAACAXoZAMzMzM7Mch0BmZmZm5tqHQJqZmZkZmYhAzczMzExXiUAAAAAAgBWKQDMzMzOz04pAZmZmZuaRi0CamZmZGVCMQM3MzMxMDo1AAAAAAIDMjUAzMzMzs4qOQGZmZmbmSI9A\",\"dtype\":\"float64\",\"shape\":[75]}},\"selected\":{\"id\":\"6fa9fb00-dfac-4676-a5d1-9a77487b3de3\",\"type\":\"Selection\"},\"selection_policy\":{\"id\":\"5f1349f5-81b4-4761-9644-c3e6cfd2af6f\",\"type\":\"UnionRenderers\"}},\"id\":\"e580dd6a-fd94-42df-87a5-df6a44977c01\",\"type\":\"ColumnDataSource\"},{\"attributes\":{\"active_drag\":\"auto\",\"active_inspect\":\"auto\",\"active_scroll\":\"auto\",\"active_tap\":\"auto\",\"tools\":[{\"id\":\"efd0fdf6-40a5-4d0c-8ccd-c988486a0506\",\"type\":\"PanTool\"},{\"id\":\"ccc0cfa8-5554-42e2-981b-bfa9a096987b\",\"type\":\"WheelZoomTool\"},{\"id\":\"5a3e0f5f-1b57-4e6f-9805-ea9ebe719b77\",\"type\":\"BoxZoomTool\"},{\"id\":\"65334fdc-f284-410e-ae5d-61efde9ebcc6\",\"type\":\"SaveTool\"},{\"id\":\"d87750b8-e370-4e30-8a5d-5077620e37c4\",\"type\":\"ResetTool\"},{\"id\":\"ac24f729-57a6-4f52-94fc-cca565edd721\",\"type\":\"HelpTool\"}]},\"id\":\"458a54db-3448-48a6-8f22-f1e57dd3ee52\",\"type\":\"Toolbar\"},{\"attributes\":{},\"id\":\"38db025e-d667-49a9-9683-47474f5c6315\",\"type\":\"BasicTicker\"},{\"attributes\":{\"line_alpha\":0.3,\"line_color\":\"#377eb8\",\"line_width\":2,\"x\":{\"field\":\"x\"},\"y\":{\"field\":\"y\"}},\"id\":\"143e2369-b338-4397-9429-8976b5598be9\",\"type\":\"Line\"},{\"attributes\":{\"axis_label\":\"cooling rate [K/day]\",\"formatter\":{\"id\":\"d943c70f-7889-43f0-81d8-d64be03a0c9f\",\"type\":\"BasicTickFormatter\"},\"plot\":{\"id\":\"f6693684-c94f-462c-9830-dffa8a66952e\",\"subtype\":\"Figure\",\"type\":\"Plot\"},\"ticker\":{\"id\":\"38db025e-d667-49a9-9683-47474f5c6315\",\"type\":\"BasicTicker\"}},\"id\":\"f9862214-981d-4d9b-ac5e-ade950bcc4ce\",\"type\":\"LinearAxis\"},{\"attributes\":{\"label\":{\"value\":\"CRD\"},\"renderers\":[{\"id\":\"77f51f02-d407-4582-954e-43e0c46d4f49\",\"type\":\"GlyphRenderer\"},{\"id\":\"e5ba67f2-5635-413c-95d0-8c63f588f9a6\",\"type\":\"GlyphRenderer\"}]},\"id\":\"b4e02911-8c57-47c7-a5ad-a4b1a40fb4c7\",\"type\":\"LegendItem\"},{\"attributes\":{\"callback\":null,\"end\":0.051448386036,\"start\":-0.002920779636},\"id\":\"6eb9c0a9-f395-4f70-ac77-4923afa0a1f7\",\"type\":\"Range1d\"},{\"attributes\":{\"label\":{\"value\":\"WGT igg=10\"},\"renderers\":[{\"id\":\"5838f0b0-2411-4fc8-8e45-d38057cf30ef\",\"type\":\"GlyphRenderer\"},{\"id\":\"2e2fc6b2-16bb-4f17-be97-db813bf3dbeb\",\"type\":\"GlyphRenderer\"}]},\"id\":\"f67b833b-544c-4f50-84b5-fe7149f769ca\",\"type\":\"LegendItem\"},{\"attributes\":{\"axis_label\":\"cooling rate [K/day]\",\"formatter\":{\"id\":\"71c61d96-5564-4221-a621-8fa1f7b30101\",\"type\":\"BasicTickFormatter\"},\"plot\":{\"id\":\"d858e403-e6f6-4381-a159-29d9d8e8efda\",\"subtype\":\"Figure\",\"type\":\"Plot\"},\"ticker\":{\"id\":\"1433b12c-a0a5-4022-85c8-e2e1fbf971e9\",\"type\":\"BasicTicker\"}},\"id\":\"17400fc8-3c8e-4707-be56-8aeca4dd5c60\",\"type\":\"LinearAxis\"},{\"attributes\":{\"label\":{\"value\":\"WGT igg=1\"},\"renderers\":[{\"id\":\"3fe6cfd9-3fac-474f-9978-ea4a5fa4bec4\",\"type\":\"GlyphRenderer\"},{\"id\":\"8b26d5e0-3a5a-4238-b9d8-71e4d80fcf3a\",\"type\":\"GlyphRenderer\"}]},\"id\":\"53862e35-eeda-4b28-8c4c-f7bf69bab9d3\",\"type\":\"LegendItem\"},{\"attributes\":{\"callback\":null,\"end\":0.0018203220659999998,\"start\":-0.002429412666},\"id\":\"078b741a-4017-4eb6-beca-0e5327cb5235\",\"type\":\"Range1d\"},{\"attributes\":{},\"id\":\"ff457d84-20d2-402f-ad2f-549aebe37ec8\",\"type\":\"LinearScale\"},{\"attributes\":{\"items\":[{\"id\":\"9a883b5b-bdeb-44f4-a8cb-1efd6cc926bd\",\"type\":\"LegendItem\"},{\"id\":\"b90d0eaa-b3c0-46f6-a815-68f7654264a2\",\"type\":\"LegendItem\"},{\"id\":\"2b5d6682-b610-431b-9a23-65dd52a67b60\",\"type\":\"LegendItem\"}],\"label_text_font_size\":{\"value\":\"8pt\"},\"location\":\"top_center\",\"orientation\":\"horizontal\",\"plot\":{\"id\":\"d858e403-e6f6-4381-a159-29d9d8e8efda\",\"subtype\":\"Figure\",\"type\":\"Plot\"}},\"id\":\"13723825-e503-4f64-807c-e81eb53d51d8\",\"type\":\"Legend\"},{\"attributes\":{\"above\":[{\"id\":\"13723825-e503-4f64-807c-e81eb53d51d8\",\"type\":\"Legend\"}],\"below\":[{\"id\":\"17400fc8-3c8e-4707-be56-8aeca4dd5c60\",\"type\":\"LinearAxis\"}],\"left\":[{\"id\":\"7218f3a7-d1c8-41af-ad51-3d2e75eb4379\",\"type\":\"LogAxis\"}],\"plot_height\":500,\"plot_width\":400,\"renderers\":[{\"id\":\"17400fc8-3c8e-4707-be56-8aeca4dd5c60\",\"type\":\"LinearAxis\"},{\"id\":\"625f3738-4a5c-4d2a-9f1a-2f3896f5e77b\",\"type\":\"Grid\"},{\"id\":\"7218f3a7-d1c8-41af-ad51-3d2e75eb4379\",\"type\":\"LogAxis\"},{\"id\":\"c793401d-f962-4547-8f65-f263bda510a2\",\"type\":\"Grid\"},{\"id\":\"80c92516-aeef-499d-ba26-965d477be093\",\"type\":\"BoxAnnotation\"},{\"id\":\"160eac8c-46d4-49e8-9d4b-cb99694192dc\",\"type\":\"GlyphRenderer\"},{\"id\":\"007760ca-43d8-4939-bb2e-9a8a29904ead\",\"type\":\"GlyphRenderer\"},{\"id\":\"76039de4-6589-4ddb-ab0b-c7c4a381a5e1\",\"type\":\"GlyphRenderer\"},{\"id\":\"b9d02330-0c8d-476a-a131-8369ceaed969\",\"type\":\"GlyphRenderer\"},{\"id\":\"38e4e96a-18f4-4c71-b61f-4e0a8e2b4213\",\"type\":\"GlyphRenderer\"},{\"id\":\"c4da11bd-b6cc-40c0-9c19-8192f08add3e\",\"type\":\"GlyphRenderer\"},{\"id\":\"13723825-e503-4f64-807c-e81eb53d51d8\",\"type\":\"Legend\"}],\"title\":{\"id\":\"abfa2188-3945-4c81-993a-8b907347f415\",\"type\":\"Title\"},\"toolbar\":{\"id\":\"458a54db-3448-48a6-8f22-f1e57dd3ee52\",\"type\":\"Toolbar\"},\"toolbar_location\":null,\"x_range\":{\"id\":\"6eb9c0a9-f395-4f70-ac77-4923afa0a1f7\",\"type\":\"Range1d\"},\"x_scale\":{\"id\":\"e2a626de-acbc-44af-bdac-c9ad02c3b41a\",\"type\":\"LinearScale\"},\"y_range\":{\"id\":\"cd2eba1b-560a-41ca-84dc-93cc60c7f271\",\"type\":\"Range1d\"},\"y_scale\":{\"id\":\"3a24c6a9-a79c-438d-a3b8-c2118f869194\",\"type\":\"LogScale\"}},\"id\":\"d858e403-e6f6-4381-a159-29d9d8e8efda\",\"subtype\":\"Figure\",\"type\":\"Plot\"},{\"attributes\":{},\"id\":\"e2a626de-acbc-44af-bdac-c9ad02c3b41a\",\"type\":\"LinearScale\"},{\"attributes\":{},\"id\":\"3a24c6a9-a79c-438d-a3b8-c2118f869194\",\"type\":\"LogScale\"},{\"attributes\":{\"axis_label\":\"pressure [mb]\",\"formatter\":{\"id\":\"756f5021-f4c7-48eb-afe1-b85ffbcb27e6\",\"type\":\"LogTickFormatter\"},\"plot\":{\"id\":\"d858e403-e6f6-4381-a159-29d9d8e8efda\",\"subtype\":\"Figure\",\"type\":\"Plot\"},\"ticker\":{\"id\":\"2648b483-9c95-4130-908b-707c460d8c0a\",\"type\":\"LogTicker\"}},\"id\":\"7218f3a7-d1c8-41af-ad51-3d2e75eb4379\",\"type\":\"LogAxis\"},{\"attributes\":{\"items\":[{\"id\":\"b4e02911-8c57-47c7-a5ad-a4b1a40fb4c7\",\"type\":\"LegendItem\"},{\"id\":\"53862e35-eeda-4b28-8c4c-f7bf69bab9d3\",\"type\":\"LegendItem\"},{\"id\":\"f67b833b-544c-4f50-84b5-fe7149f769ca\",\"type\":\"LegendItem\"}],\"label_text_font_size\":{\"value\":\"8pt\"},\"location\":\"top_center\",\"orientation\":\"horizontal\",\"plot\":{\"id\":\"f6693684-c94f-462c-9830-dffa8a66952e\",\"subtype\":\"Figure\",\"type\":\"Plot\"}},\"id\":\"9981a972-c098-4a57-b65d-1bd0301687ea\",\"type\":\"Legend\"},{\"attributes\":{\"num_minor_ticks\":10},\"id\":\"2648b483-9c95-4130-908b-707c460d8c0a\",\"type\":\"LogTicker\"},{\"attributes\":{\"dimension\":1,\"plot\":{\"id\":\"d858e403-e6f6-4381-a159-29d9d8e8efda\",\"subtype\":\"Figure\",\"type\":\"Plot\"},\"ticker\":{\"id\":\"2648b483-9c95-4130-908b-707c460d8c0a\",\"type\":\"LogTicker\"}},\"id\":\"c793401d-f962-4547-8f65-f263bda510a2\",\"type\":\"Grid\"},{\"attributes\":{\"fill_alpha\":{\"value\":0.7},\"fill_color\":{\"value\":\"#4daf4a\"},\"line_alpha\":{\"value\":0.7},\"line_color\":{\"value\":\"#4daf4a\"},\"x\":{\"field\":\"x\"},\"y\":{\"field\":\"y\"}},\"id\":\"82444daa-acd2-4e06-82e2-530213e1aa68\",\"type\":\"Circle\"},{\"attributes\":{\"active_drag\":\"auto\",\"active_inspect\":\"auto\",\"active_scroll\":\"auto\",\"active_tap\":\"auto\",\"tools\":[{\"id\":\"594aa2f1-9c97-4d2d-8a82-4eb42b059a1d\",\"type\":\"PanTool\"},{\"id\":\"b9d41b40-1de1-43e8-8c7b-b0b199b42f42\",\"type\":\"WheelZoomTool\"},{\"id\":\"d511f8c8-5530-4855-b06d-34dffb2a395f\",\"type\":\"BoxZoomTool\"},{\"id\":\"2af0f5b6-220e-4105-9954-229d4f3e8a30\",\"type\":\"SaveTool\"},{\"id\":\"5f18573c-4e63-4968-8da9-6a90022c69f3\",\"type\":\"ResetTool\"},{\"id\":\"239e0e63-0650-4559-9ef4-c7df3f123b58\",\"type\":\"HelpTool\"}]},\"id\":\"f3ca4397-b174-4e8a-8be2-912c9f2c9b7c\",\"type\":\"Toolbar\"},{\"attributes\":{\"bottom_units\":\"screen\",\"fill_alpha\":{\"value\":0.5},\"fill_color\":{\"value\":\"lightgrey\"},\"left_units\":\"screen\",\"level\":\"overlay\",\"line_alpha\":{\"value\":1.0},\"line_color\":{\"value\":\"black\"},\"line_dash\":[4,4],\"line_width\":{\"value\":2},\"plot\":null,\"render_mode\":\"css\",\"right_units\":\"screen\",\"top_units\":\"screen\"},\"id\":\"80c92516-aeef-499d-ba26-965d477be093\",\"type\":\"BoxAnnotation\"},{\"attributes\":{\"callback\":null,\"data\":{\"x\":{\"__ndarray__\":\"fcb9fweDeT9mwPKLRgp6P9lS4h/fKns/MP5mvE5efD86VuZE+5N9P2//IpWWy34/SWaPdYwCgD+n9lCAO6CAP7+5Cb/XPoE/D0LFG07egT89KSVZhn6CP31Xmax3H4M/Udxm6xbBgz8+WiPZ322EPyWJ4cfxc4Y/rz2k+RITjD9g2jqv5j2SP8F6Z6rj1ZY/KzNj2eW+mz85u1Iiy3qgPz0BiTDCN6M/TLvB5esRpj+urJ/ECF2oP7Ad4tjgaKg/AXG3IU9dpj8o1YXyGsijPwcODzHDHqE//7h5uiX/nD8CWLdWiAKYPykicuPeSJM/9z5VhQZijT903cFz4reEPwT4BTRMBns/nBs10AzDbz8/IQdZmV9bPzlsXM+LRv2+FbhLk/jyUL98qH8UpkRav1q+kH/2BGG/2fy8xHiPY784bWM/zcFiv53VCqN15V6/0DT8PaVJWL+Pe4F9HqFSv5VUYdqviUu/jmg9HFMWQ7+kGE9EolI3v+1v9s3rUSS/B4q0y5Er+T5QasQ5fBEoPyfIrTClSzU/aeH0EOBpPT8ljIpBAEBCPxaymNX3X0U//bEeVpwxSD9uP5u0GM1KP8EegK9uQ00/OyiMx52gTz8S4Y89o/ZQP5pWV33mF1I/A6QT0B82Uz9EJ7Uj1lNUP7cN6xopc1U/7E9fYKiUVj/mNJUT3rZXPy/QquEm1Fg/YcEA8HbeWT+KZ82q775aP7+hrHMeYls/23+8zZbJWz9c/fIvJAxcP4oPAidhQ1w/XPsirMR/XD8tQ3/MfslcPzSONXw7JF0/\",\"dtype\":\"float64\",\"shape\":[75]},\"y\":{\"__ndarray__\":\"GhExyth1ND/Sv8nbtpRIP2vylNV0PVE/aTum7souWD/At0SJ8fVgPw3Iuahxymc/MSNhhJWvcD/bTfBN02d3P2zb5nxnaoA/CD5h5MAGhz8NmeH1TyaQP+zrCsc9p5Y/LbKd76fGnz/bLW5ISEmmPww9YvTcQq8/JV2OstnstT8Er5Y7M8G+P0c+r3jqkcU/5h99k6ZBzj88bCIzFzjVP4enV8oyxN0//yH99nXg5D8qOpLLf0jtP5kqGJXUifQ/c9cS8kHP/D+/DpwzojQEQIEmwoanVwxA4lgXt9HgE0BSSZ2AJuIbQAMJih9jjiNA5q4l5INuK0AwTKYKRj0zQNv5fmq8/DpAaCJseHrtQkB/+zpwzoxKQM3MzMzMeFJAZmZmZmZqWEAAAAAAAFxeQM3MzMzMJmJAmpmZmZkfZUBmZmZmZhhoQDMzMzMzEWtAAAAAAAAKbkBmZmZmZoFwQM3MzMzM/XFAMzMzMzN6c0CamZmZmfZ0QAAAAAAAc3ZAZmZmZmbvd0DNzMzMzGt5QDMzMzMz6HpAmpmZmZlkfEAAAAAAAOF9QGZmZmZmXX9AZmZmZuZsgECamZmZGSuBQM3MzMxM6YFAAAAAAICngkAzMzMzs2WDQGZmZmbmI4RAmpmZmRnihEDNzMzMTKCFQAAAAACAXoZAMzMzM7Mch0BmZmZm5tqHQJqZmZkZmYhAzczMzExXiUAAAAAAgBWKQDMzMzOz04pAZmZmZuaRi0CamZmZGVCMQM3MzMxMDo1AAAAAAIDMjUAzMzMzs4qOQGZmZmbmSI9A\",\"dtype\":\"float64\",\"shape\":[75]}},\"selected\":{\"id\":\"bfe596b2-492e-4352-8a65-8dd6f82dace6\",\"type\":\"Selection\"},\"selection_policy\":{\"id\":\"af873cfd-c466-49e3-ba63-92b9f8fb8817\",\"type\":\"UnionRenderers\"}},\"id\":\"11dcf0aa-c833-4dbb-a9f3-a1688f609d51\",\"type\":\"ColumnDataSource\"},{\"attributes\":{},\"id\":\"efd0fdf6-40a5-4d0c-8ccd-c988486a0506\",\"type\":\"PanTool\"},{\"attributes\":{\"above\":[{\"id\":\"9981a972-c098-4a57-b65d-1bd0301687ea\",\"type\":\"Legend\"}],\"below\":[{\"id\":\"f9862214-981d-4d9b-ac5e-ade950bcc4ce\",\"type\":\"LinearAxis\"}],\"left\":[{\"id\":\"f452c17a-63d7-415e-944e-428b4baf280d\",\"type\":\"LinearAxis\"}],\"plot_height\":500,\"plot_width\":400,\"renderers\":[{\"id\":\"f9862214-981d-4d9b-ac5e-ade950bcc4ce\",\"type\":\"LinearAxis\"},{\"id\":\"0ea00536-3fbe-4176-abd1-962fa379afa6\",\"type\":\"Grid\"},{\"id\":\"f452c17a-63d7-415e-944e-428b4baf280d\",\"type\":\"LinearAxis\"},{\"id\":\"121b911f-f0f7-482f-b2a2-72b9348dbe7c\",\"type\":\"Grid\"},{\"id\":\"7d8d4ca7-c962-4dc0-8f8d-e90494615e98\",\"type\":\"BoxAnnotation\"},{\"id\":\"77f51f02-d407-4582-954e-43e0c46d4f49\",\"type\":\"GlyphRenderer\"},{\"id\":\"e5ba67f2-5635-413c-95d0-8c63f588f9a6\",\"type\":\"GlyphRenderer\"},{\"id\":\"3fe6cfd9-3fac-474f-9978-ea4a5fa4bec4\",\"type\":\"GlyphRenderer\"},{\"id\":\"8b26d5e0-3a5a-4238-b9d8-71e4d80fcf3a\",\"type\":\"GlyphRenderer\"},{\"id\":\"5838f0b0-2411-4fc8-8e45-d38057cf30ef\",\"type\":\"GlyphRenderer\"},{\"id\":\"2e2fc6b2-16bb-4f17-be97-db813bf3dbeb\",\"type\":\"GlyphRenderer\"},{\"id\":\"9981a972-c098-4a57-b65d-1bd0301687ea\",\"type\":\"Legend\"}],\"title\":{\"id\":\"684a239d-bb95-4075-8982-dac3754369c8\",\"type\":\"Title\"},\"toolbar\":{\"id\":\"f3ca4397-b174-4e8a-8be2-912c9f2c9b7c\",\"type\":\"Toolbar\"},\"toolbar_location\":null,\"x_range\":{\"id\":\"078b741a-4017-4eb6-beca-0e5327cb5235\",\"type\":\"Range1d\"},\"x_scale\":{\"id\":\"ff457d84-20d2-402f-ad2f-549aebe37ec8\",\"type\":\"LinearScale\"},\"y_range\":{\"id\":\"d1060bba-3a9f-43fe-8007-81f15af94d7b\",\"type\":\"Range1d\"},\"y_scale\":{\"id\":\"ecc385c9-197f-4b55-ba8c-a16cfc642408\",\"type\":\"LinearScale\"}},\"id\":\"f6693684-c94f-462c-9830-dffa8a66952e\",\"subtype\":\"Figure\",\"type\":\"Plot\"},{\"attributes\":{},\"id\":\"ccc0cfa8-5554-42e2-981b-bfa9a096987b\",\"type\":\"WheelZoomTool\"},{\"attributes\":{\"overlay\":{\"id\":\"80c92516-aeef-499d-ba26-965d477be093\",\"type\":\"BoxAnnotation\"}},\"id\":\"5a3e0f5f-1b57-4e6f-9805-ea9ebe719b77\",\"type\":\"BoxZoomTool\"},{\"attributes\":{},\"id\":\"65334fdc-f284-410e-ae5d-61efde9ebcc6\",\"type\":\"SaveTool\"},{\"attributes\":{},\"id\":\"d87750b8-e370-4e30-8a5d-5077620e37c4\",\"type\":\"ResetTool\"},{\"attributes\":{\"fill_alpha\":{\"value\":0.7},\"fill_color\":{\"value\":\"#377eb8\"},\"line_alpha\":{\"value\":0.7},\"line_color\":{\"value\":\"#377eb8\"},\"x\":{\"field\":\"x\"},\"y\":{\"field\":\"y\"}},\"id\":\"0a67ecf8-e7b3-4c45-b118-1e080ecf9425\",\"type\":\"Triangle\"},{\"attributes\":{},\"id\":\"ac24f729-57a6-4f52-94fc-cca565edd721\",\"type\":\"HelpTool\"},{\"attributes\":{\"callback\":null,\"end\":0.01,\"start\":1020},\"id\":\"cd2eba1b-560a-41ca-84dc-93cc60c7f271\",\"type\":\"Range1d\"},{\"attributes\":{\"fill_alpha\":{\"value\":0.1},\"fill_color\":{\"value\":\"#1f77b4\"},\"line_alpha\":{\"value\":0.1},\"line_color\":{\"value\":\"#1f77b4\"},\"x\":{\"field\":\"x\"},\"y\":{\"field\":\"y\"}},\"id\":\"20bfee11-27c7-40b6-91f2-c8bcaf43ef9e\",\"type\":\"Circle\"},{\"attributes\":{\"line_alpha\":0.1,\"line_color\":\"#1f77b4\",\"line_width\":3,\"x\":{\"field\":\"x\"},\"y\":{\"field\":\"y\"}},\"id\":\"40ab828e-50d5-4d0e-98e0-a69e3eebad58\",\"type\":\"Line\"},{\"attributes\":{\"callback\":null,\"data\":{\"x\":{\"__ndarray__\":\"ls/6ZOF8VT8d1/Nvvw5YP3xifmZAoV0/CnIk1KvIYT+bw1n8K8VkP/V65S3fwmc/Bm6TQDnAaj8kJVg8t8BtP3lZfBMWX3A/aJilFxjdcT95FHh5C0NzP46uPAs1mHQ/p2ZcHk7MdT+JU0c1Tv12P0KO6aX7W3s/ksrEUDY8hD+fMAALmyyOP8AVHm5meJQ/WVb6Bq8omj/1IMV/CBGgP+wqGQocLKM/n4bftZphpj/x8jKSVt+oP6KxOJSIjag/A+Gl/O2wpT8fauWifVOiP3R1BMazMZ4/zDbpFrdamD80C39J1FKTP1gup0bg9o0/aVDKKsAFhj+7/O5pDIt9P0ggdAVhC3I/QVpti5xIYz9o9KMNr3RHP2zQDT21sUC/PsovnBfiUr/mbrCoqgZYvwjOrdnQKV2/EA6oBddmYL9OxeYTFGdev+p8hFLehFe/a8qq1CBPUb+1d+fa+9lIv+HMVKLHAEG/oxhma94SNb+AJ8lrImQkv74mk8zShey+/PyJNe+mHD+S85+pJ1AsP6Y3wDTmKzQ/bIg7szhBOT9U5g2TX4A9PxBJm4G6i0A/Nr0jRwEeQj/vhjPvvYxDP9ZatPAy5kQ/fPeP5wM0Rj9DnZeHCH1HP0P+vs1sxkg/ACQbU2UUSj+FzTL5cGxLP60f5EXF00w/A/9y8MpNTj8mTlgwrtpPP2C7JclUuVA/0Ave7Nt9UT/OH1allCNSP5vtZBH+lVI/S8cgoJDXUj897ttRIwJTP901JfimMlM//8S9+6B8Uz/0BHQtAu1TP3CxDDSSklQ/\",\"dtype\":\"float64\",\"shape\":[75]},\"y\":{\"__ndarray__\":\"GhExyth1ND/Sv8nbtpRIP2vylNV0PVE/aTum7souWD/At0SJ8fVgPw3Iuahxymc/MSNhhJWvcD/bTfBN02d3P2zb5nxnaoA/CD5h5MAGhz8NmeH1TyaQP+zrCsc9p5Y/LbKd76fGnz/bLW5ISEmmPww9YvTcQq8/JV2OstnstT8Er5Y7M8G+P0c+r3jqkcU/5h99k6ZBzj88bCIzFzjVP4enV8oyxN0//yH99nXg5D8qOpLLf0jtP5kqGJXUifQ/c9cS8kHP/D+/DpwzojQEQIEmwoanVwxA4lgXt9HgE0BSSZ2AJuIbQAMJih9jjiNA5q4l5INuK0AwTKYKRj0zQNv5fmq8/DpAaCJseHrtQkB/+zpwzoxKQM3MzMzMeFJAZmZmZmZqWEAAAAAAAFxeQM3MzMzMJmJAmpmZmZkfZUBmZmZmZhhoQDMzMzMzEWtAAAAAAAAKbkBmZmZmZoFwQM3MzMzM/XFAMzMzMzN6c0CamZmZmfZ0QAAAAAAAc3ZAZmZmZmbvd0DNzMzMzGt5QDMzMzMz6HpAmpmZmZlkfEAAAAAAAOF9QGZmZmZmXX9AZmZmZuZsgECamZmZGSuBQM3MzMxM6YFAAAAAAICngkAzMzMzs2WDQGZmZmbmI4RAmpmZmRnihEDNzMzMTKCFQAAAAACAXoZAMzMzM7Mch0BmZmZm5tqHQJqZmZkZmYhAzczMzExXiUAAAAAAgBWKQDMzMzOz04pAZmZmZuaRi0CamZmZGVCMQM3MzMxMDo1AAAAAAIDMjUAzMzMzs4qOQGZmZmbmSI9A\",\"dtype\":\"float64\",\"shape\":[75]}},\"selected\":{\"id\":\"6121ae61-2b41-45ee-875e-372b048c236f\",\"type\":\"Selection\"},\"selection_policy\":{\"id\":\"3fab3f52-51d5-420b-bb6f-178e67787eb5\",\"type\":\"UnionRenderers\"}},\"id\":\"9971ffcb-073e-4611-95a1-90ba2afab77b\",\"type\":\"ColumnDataSource\"},{\"attributes\":{\"data_source\":{\"id\":\"7f352ab6-8b65-42e4-a2c9-ed72f9655192\",\"type\":\"ColumnDataSource\"},\"glyph\":{\"id\":\"3831400f-1715-48b1-889a-6dbf32203e58\",\"type\":\"Line\"},\"hover_glyph\":null,\"muted_glyph\":null,\"nonselection_glyph\":{\"id\":\"40ab828e-50d5-4d0e-98e0-a69e3eebad58\",\"type\":\"Line\"},\"selection_glyph\":null,\"view\":{\"id\":\"a83e54d9-baaa-4bfb-a2df-b29747d3f58c\",\"type\":\"CDSView\"}},\"id\":\"8b26d5e0-3a5a-4238-b9d8-71e4d80fcf3a\",\"type\":\"GlyphRenderer\"},{\"attributes\":{\"fill_alpha\":{\"value\":0.1},\"fill_color\":{\"value\":\"#1f77b4\"},\"line_alpha\":{\"value\":0.1},\"line_color\":{\"value\":\"#1f77b4\"},\"x\":{\"field\":\"x\"},\"y\":{\"field\":\"y\"}},\"id\":\"26c815ba-0ce1-40c6-98d7-2882ddc0476d\",\"type\":\"Triangle\"},{\"attributes\":{\"fill_alpha\":{\"value\":0.7},\"fill_color\":{\"value\":\"#4daf4a\"},\"line_alpha\":{\"value\":0.7},\"line_color\":{\"value\":\"#4daf4a\"},\"x\":{\"field\":\"x\"},\"y\":{\"field\":\"y\"}},\"id\":\"98480906-a3fd-43f8-8004-e15effcd1738\",\"type\":\"Circle\"},{\"attributes\":{\"plot\":null,\"text\":\"\"},\"id\":\"abfa2188-3945-4c81-993a-8b907347f415\",\"type\":\"Title\"},{\"attributes\":{\"ticker\":null},\"id\":\"756f5021-f4c7-48eb-afe1-b85ffbcb27e6\",\"type\":\"LogTickFormatter\"},{\"attributes\":{},\"id\":\"71c61d96-5564-4221-a621-8fa1f7b30101\",\"type\":\"BasicTickFormatter\"},{\"attributes\":{},\"id\":\"27649de2-e337-4c1e-bea9-898520b577a7\",\"type\":\"Selection\"},{\"attributes\":{\"line_alpha\":0.1,\"line_color\":\"#1f77b4\",\"line_width\":1.5,\"x\":{\"field\":\"x\"},\"y\":{\"field\":\"y\"}},\"id\":\"90a2b9dc-2213-4ad3-a962-b327cd9e89cd\",\"type\":\"Line\"},{\"attributes\":{},\"id\":\"a277400a-6132-4af9-9a6e-6a791f2a4498\",\"type\":\"Selection\"},{\"attributes\":{\"callback\":null,\"data\":{\"x\":{\"__ndarray__\":\"D4DH1oTLdj9mkVpijUV3P8irtXG5eng/wcrBLnrOeT+Ivdmx1CR7P2D70YlnfXw/21ULljHYfT/TxXc4MjV/PywTkEM8SoA/41vZt/P6gD/hwSMun6yBP6WNPHODX4I/K6DNhL8Tgz9taRIV2tSDP4eD+TXWIYY/J7oVX0BxjD/0ALPOOtuSP0q/5wHY8pc/XQqMGB1gnT/0utbCUnuhP2RjrNaMg6Q/+GQeKb2Xpz+Rry3RkxGqP3wOHRybBqo/tXkZTmSppz89YoKHWrSkP/QAG7KvrKE/VrsrXe9unT/c33utu+GXP4LtwDZru5I/vRJBz3i4iz9JOTu4hNOCPzkoibfae3c/nvJMTRkvaj/IgsrIdeRTP1qsQIaLxDG/wbWlGq44Ur/kRUEQ4rpZv5QaoAzDO2C/vHaR1E6FYr/OPzdBRophv++oHmIkOFy/AspG6rSjVb/PkHZEtytQv7PADDflIUe/h127mjV4Pr9cr63twLYwv20MYTlWXxK/U92ZtOm1GD/K0DR6xIQvP0D8K5eYOTg/gMutRFagPz/o8eLOhwdDP7uooihz20U/GLw+zVRoSD8UHaxVXsRKP4DqAzgiAE0/NmIoAf0lTz94/4O/S59QP6P2fSVAp1E/5arGilKtUj9EuIIcxrNTP9cGd3savVQ/35NxDgrKVT/X3QycC9pWP8NfJpm751c//owhNXPlWD9Vta+D1LtZP4izKJGgVlo/H+7L2uS3Wj+nB3WwBvhaP0vZtqgOMls/+bjBjzR4Wz8IysfYi9RbPzBTEIRvT1w/\",\"dtype\":\"float64\",\"shape\":[75]},\"y\":{\"__ndarray__\":\"GhExyth1ND/Sv8nbtpRIP2vylNV0PVE/aTum7souWD/At0SJ8fVgPw3Iuahxymc/MSNhhJWvcD/bTfBN02d3P2zb5nxnaoA/CD5h5MAGhz8NmeH1TyaQP+zrCsc9p5Y/LbKd76fGnz/bLW5ISEmmPww9YvTcQq8/JV2OstnstT8Er5Y7M8G+P0c+r3jqkcU/5h99k6ZBzj88bCIzFzjVP4enV8oyxN0//yH99nXg5D8qOpLLf0jtP5kqGJXUifQ/c9cS8kHP/D+/DpwzojQEQIEmwoanVwxA4lgXt9HgE0BSSZ2AJuIbQAMJih9jjiNA5q4l5INuK0AwTKYKRj0zQNv5fmq8/DpAaCJseHrtQkB/+zpwzoxKQM3MzMzMeFJAZmZmZmZqWEAAAAAAAFxeQM3MzMzMJmJAmpmZmZkfZUBmZmZmZhhoQDMzMzMzEWtAAAAAAAAKbkBmZmZmZoFwQM3MzMzM/XFAMzMzMzN6c0CamZmZmfZ0QAAAAAAAc3ZAZmZmZmbvd0DNzMzMzGt5QDMzMzMz6HpAmpmZmZlkfEAAAAAAAOF9QGZmZmZmXX9AZmZmZuZsgECamZmZGSuBQM3MzMxM6YFAAAAAAICngkAzMzMzs2WDQGZmZmbmI4RAmpmZmRnihEDNzMzMTKCFQAAAAACAXoZAMzMzM7Mch0BmZmZm5tqHQJqZmZkZmYhAzczMzExXiUAAAAAAgBWKQDMzMzOz04pAZmZmZuaRi0CamZmZGVCMQM3MzMxMDo1AAAAAAIDMjUAzMzMzs4qOQGZmZmbmSI9A\",\"dtype\":\"float64\",\"shape\":[75]}},\"selected\":{\"id\":\"27649de2-e337-4c1e-bea9-898520b577a7\",\"type\":\"Selection\"},\"selection_policy\":{\"id\":\"fe951155-2d1c-474b-8b76-32a61ba8028b\",\"type\":\"UnionRenderers\"}},\"id\":\"89846956-db75-4f84-b05b-dc364e01dc01\",\"type\":\"ColumnDataSource\"},{\"attributes\":{},\"id\":\"6121ae61-2b41-45ee-875e-372b048c236f\",\"type\":\"Selection\"},{\"attributes\":{},\"id\":\"3fab3f52-51d5-420b-bb6f-178e67787eb5\",\"type\":\"UnionRenderers\"},{\"attributes\":{},\"id\":\"fe951155-2d1c-474b-8b76-32a61ba8028b\",\"type\":\"UnionRenderers\"},{\"attributes\":{},\"id\":\"81eef50f-184d-4647-881e-68c2b5de3845\",\"type\":\"Selection\"},{\"attributes\":{\"callback\":null,\"data\":{\"x\":{\"__ndarray__\":\"fcb9fweDeT9mwPKLRgp6P9lS4h/fKns/MP5mvE5efD86VuZE+5N9P2//IpWWy34/SWaPdYwCgD+n9lCAO6CAP7+5Cb/XPoE/D0LFG07egT89KSVZhn6CP31Xmax3H4M/Udxm6xbBgz8+WiPZ322EPyWJ4cfxc4Y/rz2k+RITjD9g2jqv5j2SP8F6Z6rj1ZY/KzNj2eW+mz85u1Iiy3qgPz0BiTDCN6M/TLvB5esRpj+urJ/ECF2oP7Ad4tjgaKg/AXG3IU9dpj8o1YXyGsijPwcODzHDHqE//7h5uiX/nD8CWLdWiAKYPykicuPeSJM/9z5VhQZijT903cFz4reEPwT4BTRMBns/nBs10AzDbz8/IQdZmV9bPzlsXM+LRv2+FbhLk/jyUL98qH8UpkRav1q+kH/2BGG/2fy8xHiPY784bWM/zcFiv53VCqN15V6/0DT8PaVJWL+Pe4F9HqFSv5VUYdqviUu/jmg9HFMWQ7+kGE9EolI3v+1v9s3rUSS/B4q0y5Er+T5QasQ5fBEoPyfIrTClSzU/aeH0EOBpPT8ljIpBAEBCPxaymNX3X0U//bEeVpwxSD9uP5u0GM1KP8EegK9uQ00/OyiMx52gTz8S4Y89o/ZQP5pWV33mF1I/A6QT0B82Uz9EJ7Uj1lNUP7cN6xopc1U/7E9fYKiUVj/mNJUT3rZXPy/QquEm1Fg/YcEA8HbeWT+KZ82q775aP7+hrHMeYls/23+8zZbJWz9c/fIvJAxcP4oPAidhQ1w/XPsirMR/XD8tQ3/MfslcPzSONXw7JF0/\",\"dtype\":\"float64\",\"shape\":[75]},\"y\":{\"__ndarray__\":\"GhExyth1ND/Sv8nbtpRIP2vylNV0PVE/aTum7souWD/At0SJ8fVgPw3Iuahxymc/MSNhhJWvcD/bTfBN02d3P2zb5nxnaoA/CD5h5MAGhz8NmeH1TyaQP+zrCsc9p5Y/LbKd76fGnz/bLW5ISEmmPww9YvTcQq8/JV2OstnstT8Er5Y7M8G+P0c+r3jqkcU/5h99k6ZBzj88bCIzFzjVP4enV8oyxN0//yH99nXg5D8qOpLLf0jtP5kqGJXUifQ/c9cS8kHP/D+/DpwzojQEQIEmwoanVwxA4lgXt9HgE0BSSZ2AJuIbQAMJih9jjiNA5q4l5INuK0AwTKYKRj0zQNv5fmq8/DpAaCJseHrtQkB/+zpwzoxKQM3MzMzMeFJAZmZmZmZqWEAAAAAAAFxeQM3MzMzMJmJAmpmZmZkfZUBmZmZmZhhoQDMzMzMzEWtAAAAAAAAKbkBmZmZmZoFwQM3MzMzM/XFAMzMzMzN6c0CamZmZmfZ0QAAAAAAAc3ZAZmZmZmbvd0DNzMzMzGt5QDMzMzMz6HpAmpmZmZlkfEAAAAAAAOF9QGZmZmZmXX9AZmZmZuZsgECamZmZGSuBQM3MzMxM6YFAAAAAAICngkAzMzMzs2WDQGZmZmbmI4RAmpmZmRnihEDNzMzMTKCFQAAAAACAXoZAMzMzM7Mch0BmZmZm5tqHQJqZmZkZmYhAzczMzExXiUAAAAAAgBWKQDMzMzOz04pAZmZmZuaRi0CamZmZGVCMQM3MzMxMDo1AAAAAAIDMjUAzMzMzs4qOQGZmZmbmSI9A\",\"dtype\":\"float64\",\"shape\":[75]}},\"selected\":{\"id\":\"5c471f3b-3ca2-4421-8783-2fb8056b247c\",\"type\":\"Selection\"},\"selection_policy\":{\"id\":\"684b19d6-c0ec-479d-a06e-98976d8899a2\",\"type\":\"UnionRenderers\"}},\"id\":\"44c7b444-d261-45b9-8c68-82ab933ff735\",\"type\":\"ColumnDataSource\"},{\"attributes\":{},\"id\":\"7c387f79-4fe8-418c-8633-81e4cdbeaadc\",\"type\":\"Selection\"},{\"attributes\":{},\"id\":\"5c471f3b-3ca2-4421-8783-2fb8056b247c\",\"type\":\"Selection\"},{\"attributes\":{},\"id\":\"50295efa-7a9f-4433-9f87-39f2cc4c0e16\",\"type\":\"UnionRenderers\"},{\"attributes\":{\"line_color\":\"#4daf4a\",\"line_width\":1.5,\"x\":{\"field\":\"x\"},\"y\":{\"field\":\"y\"}},\"id\":\"651de2ca-c8e5-45e3-b0d7-2577a88fa0ca\",\"type\":\"Line\"},{\"attributes\":{},\"id\":\"f43eb58e-23e6-48ee-b315-cd29626d1d4d\",\"type\":\"UnionRenderers\"},{\"attributes\":{\"toolbar\":{\"id\":\"609796ea-d750-4533-b62a-f4452483a7d4\",\"type\":\"ProxyToolbar\"},\"toolbar_location\":\"above\"},\"id\":\"fb432ab5-4eaa-46c8-8a55-311911dff0ce\",\"type\":\"ToolbarBox\"},{\"attributes\":{\"data_source\":{\"id\":\"ea91d6f4-c601-4124-b30b-6dc31ccc866f\",\"type\":\"ColumnDataSource\"},\"glyph\":{\"id\":\"651de2ca-c8e5-45e3-b0d7-2577a88fa0ca\",\"type\":\"Line\"},\"hover_glyph\":null,\"muted_glyph\":null,\"nonselection_glyph\":{\"id\":\"90a2b9dc-2213-4ad3-a962-b327cd9e89cd\",\"type\":\"Line\"},\"selection_glyph\":null,\"view\":{\"id\":\"59ce89b3-d8cb-4976-a4be-254c5be5313c\",\"type\":\"CDSView\"}},\"id\":\"007760ca-43d8-4939-bb2e-9a8a29904ead\",\"type\":\"GlyphRenderer\"},{\"attributes\":{\"callback\":null,\"data\":{\"x\":{\"__ndarray__\":\"D4DH1oTLdj9mkVpijUV3P8irtXG5eng/wcrBLnrOeT+Ivdmx1CR7P2D70YlnfXw/21ULljHYfT/TxXc4MjV/PywTkEM8SoA/41vZt/P6gD/hwSMun6yBP6WNPHODX4I/K6DNhL8Tgz9taRIV2tSDP4eD+TXWIYY/J7oVX0BxjD/0ALPOOtuSP0q/5wHY8pc/XQqMGB1gnT/0utbCUnuhP2RjrNaMg6Q/+GQeKb2Xpz+Rry3RkxGqP3wOHRybBqo/tXkZTmSppz89YoKHWrSkP/QAG7KvrKE/VrsrXe9unT/c33utu+GXP4LtwDZru5I/vRJBz3i4iz9JOTu4hNOCPzkoibfae3c/nvJMTRkvaj/IgsrIdeRTP1qsQIaLxDG/wbWlGq44Ur/kRUEQ4rpZv5QaoAzDO2C/vHaR1E6FYr/OPzdBRophv++oHmIkOFy/AspG6rSjVb/PkHZEtytQv7PADDflIUe/h127mjV4Pr9cr63twLYwv20MYTlWXxK/U92ZtOm1GD/K0DR6xIQvP0D8K5eYOTg/gMutRFagPz/o8eLOhwdDP7uooihz20U/GLw+zVRoSD8UHaxVXsRKP4DqAzgiAE0/NmIoAf0lTz94/4O/S59QP6P2fSVAp1E/5arGilKtUj9EuIIcxrNTP9cGd3savVQ/35NxDgrKVT/X3QycC9pWP8NfJpm751c//owhNXPlWD9Vta+D1LtZP4izKJGgVlo/H+7L2uS3Wj+nB3WwBvhaP0vZtqgOMls/+bjBjzR4Wz8IysfYi9RbPzBTEIRvT1w/\",\"dtype\":\"float64\",\"shape\":[75]},\"y\":{\"__ndarray__\":\"GhExyth1ND/Sv8nbtpRIP2vylNV0PVE/aTum7souWD/At0SJ8fVgPw3Iuahxymc/MSNhhJWvcD/bTfBN02d3P2zb5nxnaoA/CD5h5MAGhz8NmeH1TyaQP+zrCsc9p5Y/LbKd76fGnz/bLW5ISEmmPww9YvTcQq8/JV2OstnstT8Er5Y7M8G+P0c+r3jqkcU/5h99k6ZBzj88bCIzFzjVP4enV8oyxN0//yH99nXg5D8qOpLLf0jtP5kqGJXUifQ/c9cS8kHP/D+/DpwzojQEQIEmwoanVwxA4lgXt9HgE0BSSZ2AJuIbQAMJih9jjiNA5q4l5INuK0AwTKYKRj0zQNv5fmq8/DpAaCJseHrtQkB/+zpwzoxKQM3MzMzMeFJAZmZmZmZqWEAAAAAAAFxeQM3MzMzMJmJAmpmZmZkfZUBmZmZmZhhoQDMzMzMzEWtAAAAAAAAKbkBmZmZmZoFwQM3MzMzM/XFAMzMzMzN6c0CamZmZmfZ0QAAAAAAAc3ZAZmZmZmbvd0DNzMzMzGt5QDMzMzMz6HpAmpmZmZlkfEAAAAAAAOF9QGZmZmZmXX9AZmZmZuZsgECamZmZGSuBQM3MzMxM6YFAAAAAAICngkAzMzMzs2WDQGZmZmbmI4RAmpmZmRnihEDNzMzMTKCFQAAAAACAXoZAMzMzM7Mch0BmZmZm5tqHQJqZmZkZmYhAzczMzExXiUAAAAAAgBWKQDMzMzOz04pAZmZmZuaRi0CamZmZGVCMQM3MzMxMDo1AAAAAAIDMjUAzMzMzs4qOQGZmZmbmSI9A\",\"dtype\":\"float64\",\"shape\":[75]}},\"selected\":{\"id\":\"81eef50f-184d-4647-881e-68c2b5de3845\",\"type\":\"Selection\"},\"selection_policy\":{\"id\":\"f43eb58e-23e6-48ee-b315-cd29626d1d4d\",\"type\":\"UnionRenderers\"}},\"id\":\"9f4607af-4e55-4e02-b706-0130e62ac379\",\"type\":\"ColumnDataSource\"},{\"attributes\":{},\"id\":\"684b19d6-c0ec-479d-a06e-98976d8899a2\",\"type\":\"UnionRenderers\"},{\"attributes\":{\"children\":[{\"id\":\"fb432ab5-4eaa-46c8-8a55-311911dff0ce\",\"type\":\"ToolbarBox\"},{\"id\":\"b81c794a-7ee9-4917-baca-1d196acc0de2\",\"type\":\"Column\"}]},\"id\":\"744451cb-8ef2-4f23-9525-b5851a880113\",\"type\":\"Column\"},{\"attributes\":{},\"id\":\"305400d8-ef26-451b-98b3-800b2f36f0d5\",\"type\":\"UnionRenderers\"},{\"attributes\":{\"line_alpha\":0.6,\"line_color\":\"#984ea3\",\"line_width\":3,\"x\":{\"field\":\"x\"},\"y\":{\"field\":\"y\"}},\"id\":\"422b09eb-459c-4183-9ece-abb517af670b\",\"type\":\"Line\"},{\"attributes\":{\"tools\":[{\"id\":\"594aa2f1-9c97-4d2d-8a82-4eb42b059a1d\",\"type\":\"PanTool\"},{\"id\":\"b9d41b40-1de1-43e8-8c7b-b0b199b42f42\",\"type\":\"WheelZoomTool\"},{\"id\":\"d511f8c8-5530-4855-b06d-34dffb2a395f\",\"type\":\"BoxZoomTool\"},{\"id\":\"2af0f5b6-220e-4105-9954-229d4f3e8a30\",\"type\":\"SaveTool\"},{\"id\":\"5f18573c-4e63-4968-8da9-6a90022c69f3\",\"type\":\"ResetTool\"},{\"id\":\"239e0e63-0650-4559-9ef4-c7df3f123b58\",\"type\":\"HelpTool\"},{\"id\":\"efd0fdf6-40a5-4d0c-8ccd-c988486a0506\",\"type\":\"PanTool\"},{\"id\":\"ccc0cfa8-5554-42e2-981b-bfa9a096987b\",\"type\":\"WheelZoomTool\"},{\"id\":\"5a3e0f5f-1b57-4e6f-9805-ea9ebe719b77\",\"type\":\"BoxZoomTool\"},{\"id\":\"65334fdc-f284-410e-ae5d-61efde9ebcc6\",\"type\":\"SaveTool\"},{\"id\":\"d87750b8-e370-4e30-8a5d-5077620e37c4\",\"type\":\"ResetTool\"},{\"id\":\"ac24f729-57a6-4f52-94fc-cca565edd721\",\"type\":\"HelpTool\"}]},\"id\":\"609796ea-d750-4533-b62a-f4452483a7d4\",\"type\":\"ProxyToolbar\"},{\"attributes\":{\"source\":{\"id\":\"9971ffcb-073e-4611-95a1-90ba2afab77b\",\"type\":\"ColumnDataSource\"}},\"id\":\"7ade4774-8b62-4a4b-b634-da445e283ef1\",\"type\":\"CDSView\"},{\"attributes\":{\"data_source\":{\"id\":\"9f4607af-4e55-4e02-b706-0130e62ac379\",\"type\":\"ColumnDataSource\"},\"glyph\":{\"id\":\"422b09eb-459c-4183-9ece-abb517af670b\",\"type\":\"Line\"},\"hover_glyph\":null,\"muted_glyph\":null,\"nonselection_glyph\":{\"id\":\"86777038-986f-411d-91cd-d25fff5802af\",\"type\":\"Line\"},\"selection_glyph\":null,\"view\":{\"id\":\"20b301ec-39dc-489d-bc48-9f6791b18c4a\",\"type\":\"CDSView\"}},\"id\":\"b9d02330-0c8d-476a-a131-8369ceaed969\",\"type\":\"GlyphRenderer\"},{\"attributes\":{\"data_source\":{\"id\":\"9971ffcb-073e-4611-95a1-90ba2afab77b\",\"type\":\"ColumnDataSource\"},\"glyph\":{\"id\":\"82444daa-acd2-4e06-82e2-530213e1aa68\",\"type\":\"Circle\"},\"hover_glyph\":null,\"muted_glyph\":null,\"nonselection_glyph\":{\"id\":\"20bfee11-27c7-40b6-91f2-c8bcaf43ef9e\",\"type\":\"Circle\"},\"selection_glyph\":null,\"view\":{\"id\":\"7ade4774-8b62-4a4b-b634-da445e283ef1\",\"type\":\"CDSView\"}},\"id\":\"160eac8c-46d4-49e8-9d4b-cb99694192dc\",\"type\":\"GlyphRenderer\"},{\"attributes\":{},\"id\":\"6fa9fb00-dfac-4676-a5d1-9a77487b3de3\",\"type\":\"Selection\"},{\"attributes\":{\"callback\":null,\"data\":{\"x\":{\"__ndarray__\":\"ls/6ZOF8VT8d1/Nvvw5YP3xifmZAoV0/CnIk1KvIYT+bw1n8K8VkP/V65S3fwmc/Bm6TQDnAaj8kJVg8t8BtP3lZfBMWX3A/aJilFxjdcT95FHh5C0NzP46uPAs1mHQ/p2ZcHk7MdT+JU0c1Tv12P0KO6aX7W3s/ksrEUDY8hD+fMAALmyyOP8AVHm5meJQ/WVb6Bq8omj/1IMV/CBGgP+wqGQocLKM/n4bftZphpj/x8jKSVt+oP6KxOJSIjag/A+Gl/O2wpT8fauWifVOiP3R1BMazMZ4/zDbpFrdamD80C39J1FKTP1gup0bg9o0/aVDKKsAFhj+7/O5pDIt9P0ggdAVhC3I/QVpti5xIYz9o9KMNr3RHP2zQDT21sUC/PsovnBfiUr/mbrCoqgZYvwjOrdnQKV2/EA6oBddmYL9OxeYTFGdev+p8hFLehFe/a8qq1CBPUb+1d+fa+9lIv+HMVKLHAEG/oxhma94SNb+AJ8lrImQkv74mk8zShey+/PyJNe+mHD+S85+pJ1AsP6Y3wDTmKzQ/bIg7szhBOT9U5g2TX4A9PxBJm4G6i0A/Nr0jRwEeQj/vhjPvvYxDP9ZatPAy5kQ/fPeP5wM0Rj9DnZeHCH1HP0P+vs1sxkg/ACQbU2UUSj+FzTL5cGxLP60f5EXF00w/A/9y8MpNTj8mTlgwrtpPP2C7JclUuVA/0Ave7Nt9UT/OH1allCNSP5vtZBH+lVI/S8cgoJDXUj897ttRIwJTP901JfimMlM//8S9+6B8Uz/0BHQtAu1TP3CxDDSSklQ/\",\"dtype\":\"float64\",\"shape\":[75]},\"y\":{\"__ndarray__\":\"GhExyth1ND/Sv8nbtpRIP2vylNV0PVE/aTum7souWD/At0SJ8fVgPw3Iuahxymc/MSNhhJWvcD/bTfBN02d3P2zb5nxnaoA/CD5h5MAGhz8NmeH1TyaQP+zrCsc9p5Y/LbKd76fGnz/bLW5ISEmmPww9YvTcQq8/JV2OstnstT8Er5Y7M8G+P0c+r3jqkcU/5h99k6ZBzj88bCIzFzjVP4enV8oyxN0//yH99nXg5D8qOpLLf0jtP5kqGJXUifQ/c9cS8kHP/D+/DpwzojQEQIEmwoanVwxA4lgXt9HgE0BSSZ2AJuIbQAMJih9jjiNA5q4l5INuK0AwTKYKRj0zQNv5fmq8/DpAaCJseHrtQkB/+zpwzoxKQM3MzMzMeFJAZmZmZmZqWEAAAAAAAFxeQM3MzMzMJmJAmpmZmZkfZUBmZmZmZhhoQDMzMzMzEWtAAAAAAAAKbkBmZmZmZoFwQM3MzMzM/XFAMzMzMzN6c0CamZmZmfZ0QAAAAAAAc3ZAZmZmZmbvd0DNzMzMzGt5QDMzMzMz6HpAmpmZmZlkfEAAAAAAAOF9QGZmZmZmXX9AZmZmZuZsgECamZmZGSuBQM3MzMxM6YFAAAAAAICngkAzMzMzs2WDQGZmZmbmI4RAmpmZmRnihEDNzMzMTKCFQAAAAACAXoZAMzMzM7Mch0BmZmZm5tqHQJqZmZkZmYhAzczMzExXiUAAAAAAgBWKQDMzMzOz04pAZmZmZuaRi0CamZmZGVCMQM3MzMxMDo1AAAAAAIDMjUAzMzMzs4qOQGZmZmbmSI9A\",\"dtype\":\"float64\",\"shape\":[75]}},\"selected\":{\"id\":\"a277400a-6132-4af9-9a6e-6a791f2a4498\",\"type\":\"Selection\"},\"selection_policy\":{\"id\":\"50295efa-7a9f-4433-9f87-39f2cc4c0e16\",\"type\":\"UnionRenderers\"}},\"id\":\"ea91d6f4-c601-4124-b30b-6dc31ccc866f\",\"type\":\"ColumnDataSource\"},{\"attributes\":{\"fill_alpha\":{\"value\":0.7},\"fill_color\":{\"value\":\"#984ea3\"},\"line_alpha\":{\"value\":0.7},\"line_color\":{\"value\":\"#984ea3\"},\"x\":{\"field\":\"x\"},\"y\":{\"field\":\"y\"}},\"id\":\"4f32591a-657b-4e8c-8f1c-a0a26365e253\",\"type\":\"Square\"},{\"attributes\":{\"source\":{\"id\":\"ea91d6f4-c601-4124-b30b-6dc31ccc866f\",\"type\":\"ColumnDataSource\"}},\"id\":\"59ce89b3-d8cb-4976-a4be-254c5be5313c\",\"type\":\"CDSView\"},{\"attributes\":{\"fill_alpha\":{\"value\":0.1},\"fill_color\":{\"value\":\"#1f77b4\"},\"line_alpha\":{\"value\":0.1},\"line_color\":{\"value\":\"#1f77b4\"},\"x\":{\"field\":\"x\"},\"y\":{\"field\":\"y\"}},\"id\":\"4c45f28c-e4e3-4112-b623-e41a07a0904d\",\"type\":\"Square\"},{\"attributes\":{\"line_alpha\":0.1,\"line_color\":\"#1f77b4\",\"line_width\":3,\"x\":{\"field\":\"x\"},\"y\":{\"field\":\"y\"}},\"id\":\"86777038-986f-411d-91cd-d25fff5802af\",\"type\":\"Line\"},{\"attributes\":{\"source\":{\"id\":\"89846956-db75-4f84-b05b-dc364e01dc01\",\"type\":\"ColumnDataSource\"}},\"id\":\"efc1f69e-2ca1-49be-b5a1-e148ee89c235\",\"type\":\"CDSView\"},{\"attributes\":{\"data_source\":{\"id\":\"89846956-db75-4f84-b05b-dc364e01dc01\",\"type\":\"ColumnDataSource\"},\"glyph\":{\"id\":\"4f32591a-657b-4e8c-8f1c-a0a26365e253\",\"type\":\"Square\"},\"hover_glyph\":null,\"muted_glyph\":null,\"nonselection_glyph\":{\"id\":\"4c45f28c-e4e3-4112-b623-e41a07a0904d\",\"type\":\"Square\"},\"selection_glyph\":null,\"view\":{\"id\":\"efc1f69e-2ca1-49be-b5a1-e148ee89c235\",\"type\":\"CDSView\"}},\"id\":\"76039de4-6589-4ddb-ab0b-c7c4a381a5e1\",\"type\":\"GlyphRenderer\"},{\"attributes\":{\"data_source\":{\"id\":\"44c7b444-d261-45b9-8c68-82ab933ff735\",\"type\":\"ColumnDataSource\"},\"glyph\":{\"id\":\"54e8f840-62d8-4b52-ab8c-a3359bcf71dc\",\"type\":\"Triangle\"},\"hover_glyph\":null,\"muted_glyph\":null,\"nonselection_glyph\":{\"id\":\"d83aa75b-407a-49e7-b071-6e36975bc35c\",\"type\":\"Triangle\"},\"selection_glyph\":null,\"view\":{\"id\":\"a1048669-50b2-4f1f-a6e7-8ebc6b1cbdf8\",\"type\":\"CDSView\"}},\"id\":\"38e4e96a-18f4-4c71-b61f-4e0a8e2b4213\",\"type\":\"GlyphRenderer\"},{\"attributes\":{\"callback\":null,\"data\":{\"x\":{\"__ndarray__\":\"fcb9fweDeT9mwPKLRgp6P9lS4h/fKns/MP5mvE5efD86VuZE+5N9P2//IpWWy34/SWaPdYwCgD+n9lCAO6CAP7+5Cb/XPoE/D0LFG07egT89KSVZhn6CP31Xmax3H4M/Udxm6xbBgz8+WiPZ322EPyWJ4cfxc4Y/rz2k+RITjD9g2jqv5j2SP8F6Z6rj1ZY/KzNj2eW+mz85u1Iiy3qgPz0BiTDCN6M/TLvB5esRpj+urJ/ECF2oP7Ad4tjgaKg/AXG3IU9dpj8o1YXyGsijPwcODzHDHqE//7h5uiX/nD8CWLdWiAKYPykicuPeSJM/9z5VhQZijT903cFz4reEPwT4BTRMBns/nBs10AzDbz8/IQdZmV9bPzlsXM+LRv2+FbhLk/jyUL98qH8UpkRav1q+kH/2BGG/2fy8xHiPY784bWM/zcFiv53VCqN15V6/0DT8PaVJWL+Pe4F9HqFSv5VUYdqviUu/jmg9HFMWQ7+kGE9EolI3v+1v9s3rUSS/B4q0y5Er+T5QasQ5fBEoPyfIrTClSzU/aeH0EOBpPT8ljIpBAEBCPxaymNX3X0U//bEeVpwxSD9uP5u0GM1KP8EegK9uQ00/OyiMx52gTz8S4Y89o/ZQP5pWV33mF1I/A6QT0B82Uz9EJ7Uj1lNUP7cN6xopc1U/7E9fYKiUVj/mNJUT3rZXPy/QquEm1Fg/YcEA8HbeWT+KZ82q775aP7+hrHMeYls/23+8zZbJWz9c/fIvJAxcP4oPAidhQ1w/XPsirMR/XD8tQ3/MfslcPzSONXw7JF0/\",\"dtype\":\"float64\",\"shape\":[75]},\"y\":{\"__ndarray__\":\"GhExyth1ND/Sv8nbtpRIP2vylNV0PVE/aTum7souWD/At0SJ8fVgPw3Iuahxymc/MSNhhJWvcD/bTfBN02d3P2zb5nxnaoA/CD5h5MAGhz8NmeH1TyaQP+zrCsc9p5Y/LbKd76fGnz/bLW5ISEmmPww9YvTcQq8/JV2OstnstT8Er5Y7M8G+P0c+r3jqkcU/5h99k6ZBzj88bCIzFzjVP4enV8oyxN0//yH99nXg5D8qOpLLf0jtP5kqGJXUifQ/c9cS8kHP/D+/DpwzojQEQIEmwoanVwxA4lgXt9HgE0BSSZ2AJuIbQAMJih9jjiNA5q4l5INuK0AwTKYKRj0zQNv5fmq8/DpAaCJseHrtQkB/+zpwzoxKQM3MzMzMeFJAZmZmZmZqWEAAAAAAAFxeQM3MzMzMJmJAmpmZmZkfZUBmZmZmZhhoQDMzMzMzEWtAAAAAAAAKbkBmZmZmZoFwQM3MzMzM/XFAMzMzMzN6c0CamZmZmfZ0QAAAAAAAc3ZAZmZmZmbvd0DNzMzMzGt5QDMzMzMz6HpAmpmZmZlkfEAAAAAAAOF9QGZmZmZmXX9AZmZmZuZsgECamZmZGSuBQM3MzMxM6YFAAAAAAICngkAzMzMzs2WDQGZmZmbmI4RAmpmZmRnihEDNzMzMTKCFQAAAAACAXoZAMzMzM7Mch0BmZmZm5tqHQJqZmZkZmYhAzczMzExXiUAAAAAAgBWKQDMzMzOz04pAZmZmZuaRi0CamZmZGVCMQM3MzMxMDo1AAAAAAIDMjUAzMzMzs4qOQGZmZmbmSI9A\",\"dtype\":\"float64\",\"shape\":[75]}},\"selected\":{\"id\":\"7c387f79-4fe8-418c-8633-81e4cdbeaadc\",\"type\":\"Selection\"},\"selection_policy\":{\"id\":\"305400d8-ef26-451b-98b3-800b2f36f0d5\",\"type\":\"UnionRenderers\"}},\"id\":\"181a1d72-691b-4c73-a86e-fb6a9b855e97\",\"type\":\"ColumnDataSource\"},{\"attributes\":{\"source\":{\"id\":\"9f4607af-4e55-4e02-b706-0130e62ac379\",\"type\":\"ColumnDataSource\"}},\"id\":\"20b301ec-39dc-489d-bc48-9f6791b18c4a\",\"type\":\"CDSView\"},{\"attributes\":{\"callback\":null,\"data\":{\"x\":{\"__ndarray__\":\"ls/6ZOF8VT8d1/Nvvw5YP3xifmZAoV0/CnIk1KvIYT+bw1n8K8VkP/V65S3fwmc/Bm6TQDnAaj8kJVg8t8BtP3lZfBMWX3A/aJilFxjdcT95FHh5C0NzP46uPAs1mHQ/p2ZcHk7MdT+JU0c1Tv12P0KO6aX7W3s/ksrEUDY8hD+fMAALmyyOP8AVHm5meJQ/WVb6Bq8omj/1IMV/CBGgP+wqGQocLKM/n4bftZphpj/x8jKSVt+oP6KxOJSIjag/A+Gl/O2wpT8fauWifVOiP3R1BMazMZ4/zDbpFrdamD80C39J1FKTP1gup0bg9o0/aVDKKsAFhj+7/O5pDIt9P0ggdAVhC3I/QVpti5xIYz9o9KMNr3RHP2zQDT21sUC/PsovnBfiUr/mbrCoqgZYvwjOrdnQKV2/EA6oBddmYL9OxeYTFGdev+p8hFLehFe/a8qq1CBPUb+1d+fa+9lIv+HMVKLHAEG/oxhma94SNb+AJ8lrImQkv74mk8zShey+/PyJNe+mHD+S85+pJ1AsP6Y3wDTmKzQ/bIg7szhBOT9U5g2TX4A9PxBJm4G6i0A/Nr0jRwEeQj/vhjPvvYxDP9ZatPAy5kQ/fPeP5wM0Rj9DnZeHCH1HP0P+vs1sxkg/ACQbU2UUSj+FzTL5cGxLP60f5EXF00w/A/9y8MpNTj8mTlgwrtpPP2C7JclUuVA/0Ave7Nt9UT/OH1allCNSP5vtZBH+lVI/S8cgoJDXUj897ttRIwJTP901JfimMlM//8S9+6B8Uz/0BHQtAu1TP3CxDDSSklQ/\",\"dtype\":\"float64\",\"shape\":[75]},\"y\":{\"__ndarray__\":\"GhExyth1ND/Sv8nbtpRIP2vylNV0PVE/aTum7souWD/At0SJ8fVgPw3Iuahxymc/MSNhhJWvcD/bTfBN02d3P2zb5nxnaoA/CD5h5MAGhz8NmeH1TyaQP+zrCsc9p5Y/LbKd76fGnz/bLW5ISEmmPww9YvTcQq8/JV2OstnstT8Er5Y7M8G+P0c+r3jqkcU/5h99k6ZBzj88bCIzFzjVP4enV8oyxN0//yH99nXg5D8qOpLLf0jtP5kqGJXUifQ/c9cS8kHP/D+/DpwzojQEQIEmwoanVwxA4lgXt9HgE0BSSZ2AJuIbQAMJih9jjiNA5q4l5INuK0AwTKYKRj0zQNv5fmq8/DpAaCJseHrtQkB/+zpwzoxKQM3MzMzMeFJAZmZmZmZqWEAAAAAAAFxeQM3MzMzMJmJAmpmZmZkfZUBmZmZmZhhoQDMzMzMzEWtAAAAAAAAKbkBmZmZmZoFwQM3MzMzM/XFAMzMzMzN6c0CamZmZmfZ0QAAAAAAAc3ZAZmZmZmbvd0DNzMzMzGt5QDMzMzMz6HpAmpmZmZlkfEAAAAAAAOF9QGZmZmZmXX9AZmZmZuZsgECamZmZGSuBQM3MzMxM6YFAAAAAAICngkAzMzMzs2WDQGZmZmbmI4RAmpmZmRnihEDNzMzMTKCFQAAAAACAXoZAMzMzM7Mch0BmZmZm5tqHQJqZmZkZmYhAzczMzExXiUAAAAAAgBWKQDMzMzOz04pAZmZmZuaRi0CamZmZGVCMQM3MzMxMDo1AAAAAAIDMjUAzMzMzs4qOQGZmZmbmSI9A\",\"dtype\":\"float64\",\"shape\":[75]}},\"selected\":{\"id\":\"5da19798-9ef0-4a10-9e57-178d7b0b7025\",\"type\":\"Selection\"},\"selection_policy\":{\"id\":\"44b16cca-a00d-4288-9672-c3f2ccf4ff82\",\"type\":\"UnionRenderers\"}},\"id\":\"4197b53c-23dd-496e-9b5f-4a96b637bdc7\",\"type\":\"ColumnDataSource\"},{\"attributes\":{\"fill_alpha\":{\"value\":0.1},\"fill_color\":{\"value\":\"#1f77b4\"},\"line_alpha\":{\"value\":0.1},\"line_color\":{\"value\":\"#1f77b4\"},\"x\":{\"field\":\"x\"},\"y\":{\"field\":\"y\"}},\"id\":\"d83aa75b-407a-49e7-b071-6e36975bc35c\",\"type\":\"Triangle\"},{\"attributes\":{\"line_alpha\":0.3,\"line_color\":\"#377eb8\",\"line_width\":2,\"x\":{\"field\":\"x\"},\"y\":{\"field\":\"y\"}},\"id\":\"e2ae5768-acfe-44bf-b68d-0347f0b18fbb\",\"type\":\"Line\"},{\"attributes\":{\"source\":{\"id\":\"181a1d72-691b-4c73-a86e-fb6a9b855e97\",\"type\":\"ColumnDataSource\"}},\"id\":\"335acc1d-5781-4ca9-b9f8-64a424aad1b1\",\"type\":\"CDSView\"},{\"attributes\":{\"fill_alpha\":{\"value\":0.7},\"fill_color\":{\"value\":\"#377eb8\"},\"line_alpha\":{\"value\":0.7},\"line_color\":{\"value\":\"#377eb8\"},\"x\":{\"field\":\"x\"},\"y\":{\"field\":\"y\"}},\"id\":\"54e8f840-62d8-4b52-ab8c-a3359bcf71dc\",\"type\":\"Triangle\"},{\"attributes\":{\"line_alpha\":0.1,\"line_color\":\"#1f77b4\",\"line_width\":2,\"x\":{\"field\":\"x\"},\"y\":{\"field\":\"y\"}},\"id\":\"9619d0f9-6994-405e-980d-0e4f5e2f6f36\",\"type\":\"Line\"},{\"attributes\":{\"children\":[{\"id\":\"52c649c5-e7f1-4079-9fc5-96a4bbaab469\",\"type\":\"Row\"}]},\"id\":\"b81c794a-7ee9-4917-baca-1d196acc0de2\",\"type\":\"Column\"},{\"attributes\":{\"source\":{\"id\":\"44c7b444-d261-45b9-8c68-82ab933ff735\",\"type\":\"ColumnDataSource\"}},\"id\":\"a1048669-50b2-4f1f-a6e7-8ebc6b1cbdf8\",\"type\":\"CDSView\"},{\"attributes\":{\"data_source\":{\"id\":\"181a1d72-691b-4c73-a86e-fb6a9b855e97\",\"type\":\"ColumnDataSource\"},\"glyph\":{\"id\":\"e2ae5768-acfe-44bf-b68d-0347f0b18fbb\",\"type\":\"Line\"},\"hover_glyph\":null,\"muted_glyph\":null,\"nonselection_glyph\":{\"id\":\"9619d0f9-6994-405e-980d-0e4f5e2f6f36\",\"type\":\"Line\"},\"selection_glyph\":null,\"view\":{\"id\":\"335acc1d-5781-4ca9-b9f8-64a424aad1b1\",\"type\":\"CDSView\"}},\"id\":\"c4da11bd-b6cc-40c0-9c19-8192f08add3e\",\"type\":\"GlyphRenderer\"},{\"attributes\":{\"plot\":null,\"text\":\"\"},\"id\":\"684a239d-bb95-4075-8982-dac3754369c8\",\"type\":\"Title\"},{\"attributes\":{\"children\":[{\"id\":\"f6693684-c94f-462c-9830-dffa8a66952e\",\"subtype\":\"Figure\",\"type\":\"Plot\"},{\"id\":\"d858e403-e6f6-4381-a159-29d9d8e8efda\",\"subtype\":\"Figure\",\"type\":\"Plot\"}]},\"id\":\"52c649c5-e7f1-4079-9fc5-96a4bbaab469\",\"type\":\"Row\"},{\"attributes\":{\"label\":{\"value\":\"CRD\"},\"renderers\":[{\"id\":\"160eac8c-46d4-49e8-9d4b-cb99694192dc\",\"type\":\"GlyphRenderer\"},{\"id\":\"007760ca-43d8-4939-bb2e-9a8a29904ead\",\"type\":\"GlyphRenderer\"}]},\"id\":\"9a883b5b-bdeb-44f4-a8cb-1efd6cc926bd\",\"type\":\"LegendItem\"},{\"attributes\":{},\"id\":\"4f08dae5-2d8a-4c53-94ec-cc284d8ce8c0\",\"type\":\"Selection\"},{\"attributes\":{\"label\":{\"value\":\"WGT igg=1\"},\"renderers\":[{\"id\":\"76039de4-6589-4ddb-ab0b-c7c4a381a5e1\",\"type\":\"GlyphRenderer\"},{\"id\":\"b9d02330-0c8d-476a-a131-8369ceaed969\",\"type\":\"GlyphRenderer\"}]},\"id\":\"b90d0eaa-b3c0-46f6-a815-68f7654264a2\",\"type\":\"LegendItem\"},{\"attributes\":{},\"id\":\"d54f35c7-004e-485e-b488-2d13291240f2\",\"type\":\"Selection\"},{\"attributes\":{\"fill_alpha\":{\"value\":0.1},\"fill_color\":{\"value\":\"#1f77b4\"},\"line_alpha\":{\"value\":0.1},\"line_color\":{\"value\":\"#1f77b4\"},\"x\":{\"field\":\"x\"},\"y\":{\"field\":\"y\"}},\"id\":\"f5526635-1716-4a1e-a9b3-f032619413fb\",\"type\":\"Circle\"},{\"attributes\":{\"label\":{\"value\":\"WGT igg=10\"},\"renderers\":[{\"id\":\"38e4e96a-18f4-4c71-b61f-4e0a8e2b4213\",\"type\":\"GlyphRenderer\"},{\"id\":\"c4da11bd-b6cc-40c0-9c19-8192f08add3e\",\"type\":\"GlyphRenderer\"}]},\"id\":\"2b5d6682-b610-431b-9a23-65dd52a67b60\",\"type\":\"LegendItem\"},{\"attributes\":{},\"id\":\"44b16cca-a00d-4288-9672-c3f2ccf4ff82\",\"type\":\"UnionRenderers\"},{\"attributes\":{},\"id\":\"011da6e2-3f14-4b21-8b8a-63a07a74df67\",\"type\":\"BasicTickFormatter\"},{\"attributes\":{},\"id\":\"d943c70f-7889-43f0-81d8-d64be03a0c9f\",\"type\":\"BasicTickFormatter\"},{\"attributes\":{},\"id\":\"5da19798-9ef0-4a10-9e57-178d7b0b7025\",\"type\":\"Selection\"},{\"attributes\":{},\"id\":\"dae4ae2a-4958-4752-89af-2f0d6ddaeda7\",\"type\":\"UnionRenderers\"},{\"attributes\":{},\"id\":\"88bb1ff9-fc0f-4767-8ae9-9d482a83e672\",\"type\":\"Selection\"},{\"attributes\":{},\"id\":\"af873cfd-c466-49e3-ba63-92b9f8fb8817\",\"type\":\"UnionRenderers\"},{\"attributes\":{},\"id\":\"bfe596b2-492e-4352-8a65-8dd6f82dace6\",\"type\":\"Selection\"},{\"attributes\":{},\"id\":\"28fcb7ee-0fe5-4c9a-8c94-65cb83c03aee\",\"type\":\"UnionRenderers\"},{\"attributes\":{},\"id\":\"5f1349f5-81b4-4761-9644-c3e6cfd2af6f\",\"type\":\"UnionRenderers\"},{\"attributes\":{},\"id\":\"7a7a2049-3bfc-4172-80d6-229bed683e54\",\"type\":\"UnionRenderers\"},{\"attributes\":{},\"id\":\"594aa2f1-9c97-4d2d-8a82-4eb42b059a1d\",\"type\":\"PanTool\"},{\"attributes\":{\"bottom_units\":\"screen\",\"fill_alpha\":{\"value\":0.5},\"fill_color\":{\"value\":\"lightgrey\"},\"left_units\":\"screen\",\"level\":\"overlay\",\"line_alpha\":{\"value\":1.0},\"line_color\":{\"value\":\"black\"},\"line_dash\":[4,4],\"line_width\":{\"value\":2},\"plot\":null,\"render_mode\":\"css\",\"right_units\":\"screen\",\"top_units\":\"screen\"},\"id\":\"7d8d4ca7-c962-4dc0-8f8d-e90494615e98\",\"type\":\"BoxAnnotation\"},{\"attributes\":{},\"id\":\"b9d41b40-1de1-43e8-8c7b-b0b199b42f42\",\"type\":\"WheelZoomTool\"},{\"attributes\":{\"overlay\":{\"id\":\"7d8d4ca7-c962-4dc0-8f8d-e90494615e98\",\"type\":\"BoxAnnotation\"}},\"id\":\"d511f8c8-5530-4855-b06d-34dffb2a395f\",\"type\":\"BoxZoomTool\"},{\"attributes\":{},\"id\":\"2af0f5b6-220e-4105-9954-229d4f3e8a30\",\"type\":\"SaveTool\"},{\"attributes\":{},\"id\":\"5f18573c-4e63-4968-8da9-6a90022c69f3\",\"type\":\"ResetTool\"},{\"attributes\":{},\"id\":\"239e0e63-0650-4559-9ef4-c7df3f123b58\",\"type\":\"HelpTool\"},{\"attributes\":{\"line_alpha\":0.6,\"line_color\":\"#984ea3\",\"line_width\":3,\"x\":{\"field\":\"x\"},\"y\":{\"field\":\"y\"}},\"id\":\"3831400f-1715-48b1-889a-6dbf32203e58\",\"type\":\"Line\"},{\"attributes\":{\"fill_alpha\":{\"value\":0.7},\"fill_color\":{\"value\":\"#984ea3\"},\"line_alpha\":{\"value\":0.7},\"line_color\":{\"value\":\"#984ea3\"},\"x\":{\"field\":\"x\"},\"y\":{\"field\":\"y\"}},\"id\":\"139d547b-3533-496b-8332-a3e4ae29e9c5\",\"type\":\"Square\"},{\"attributes\":{\"callback\":null,\"data\":{\"x\":{\"__ndarray__\":\"ls/6ZOF8VT8d1/Nvvw5YP3xifmZAoV0/CnIk1KvIYT+bw1n8K8VkP/V65S3fwmc/Bm6TQDnAaj8kJVg8t8BtP3lZfBMWX3A/aJilFxjdcT95FHh5C0NzP46uPAs1mHQ/p2ZcHk7MdT+JU0c1Tv12P0KO6aX7W3s/ksrEUDY8hD+fMAALmyyOP8AVHm5meJQ/WVb6Bq8omj/1IMV/CBGgP+wqGQocLKM/n4bftZphpj/x8jKSVt+oP6KxOJSIjag/A+Gl/O2wpT8fauWifVOiP3R1BMazMZ4/zDbpFrdamD80C39J1FKTP1gup0bg9o0/aVDKKsAFhj+7/O5pDIt9P0ggdAVhC3I/QVpti5xIYz9o9KMNr3RHP2zQDT21sUC/PsovnBfiUr/mbrCoqgZYvwjOrdnQKV2/EA6oBddmYL9OxeYTFGdev+p8hFLehFe/a8qq1CBPUb+1d+fa+9lIv+HMVKLHAEG/oxhma94SNb+AJ8lrImQkv74mk8zShey+/PyJNe+mHD+S85+pJ1AsP6Y3wDTmKzQ/bIg7szhBOT9U5g2TX4A9PxBJm4G6i0A/Nr0jRwEeQj/vhjPvvYxDP9ZatPAy5kQ/fPeP5wM0Rj9DnZeHCH1HP0P+vs1sxkg/ACQbU2UUSj+FzTL5cGxLP60f5EXF00w/A/9y8MpNTj8mTlgwrtpPP2C7JclUuVA/0Ave7Nt9UT/OH1allCNSP5vtZBH+lVI/S8cgoJDXUj897ttRIwJTP901JfimMlM//8S9+6B8Uz/0BHQtAu1TP3CxDDSSklQ/\",\"dtype\":\"float64\",\"shape\":[75]},\"y\":{\"__ndarray__\":\"GhExyth1ND/Sv8nbtpRIP2vylNV0PVE/aTum7souWD/At0SJ8fVgPw3Iuahxymc/MSNhhJWvcD/bTfBN02d3P2zb5nxnaoA/CD5h5MAGhz8NmeH1TyaQP+zrCsc9p5Y/LbKd76fGnz/bLW5ISEmmPww9YvTcQq8/JV2OstnstT8Er5Y7M8G+P0c+r3jqkcU/5h99k6ZBzj88bCIzFzjVP4enV8oyxN0//yH99nXg5D8qOpLLf0jtP5kqGJXUifQ/c9cS8kHP/D+/DpwzojQEQIEmwoanVwxA4lgXt9HgE0BSSZ2AJuIbQAMJih9jjiNA5q4l5INuK0AwTKYKRj0zQNv5fmq8/DpAaCJseHrtQkB/+zpwzoxKQM3MzMzMeFJAZmZmZmZqWEAAAAAAAFxeQM3MzMzMJmJAmpmZmZkfZUBmZmZmZhhoQDMzMzMzEWtAAAAAAAAKbkBmZmZmZoFwQM3MzMzM/XFAMzMzMzN6c0CamZmZmfZ0QAAAAAAAc3ZAZmZmZmbvd0DNzMzMzGt5QDMzMzMz6HpAmpmZmZlkfEAAAAAAAOF9QGZmZmZmXX9AZmZmZuZsgECamZmZGSuBQM3MzMxM6YFAAAAAAICngkAzMzMzs2WDQGZmZmbmI4RAmpmZmRnihEDNzMzMTKCFQAAAAACAXoZAMzMzM7Mch0BmZmZm5tqHQJqZmZkZmYhAzczMzExXiUAAAAAAgBWKQDMzMzOz04pAZmZmZuaRi0CamZmZGVCMQM3MzMxMDo1AAAAAAIDMjUAzMzMzs4qOQGZmZmbmSI9A\",\"dtype\":\"float64\",\"shape\":[75]}},\"selected\":{\"id\":\"d54f35c7-004e-485e-b488-2d13291240f2\",\"type\":\"Selection\"},\"selection_policy\":{\"id\":\"28fcb7ee-0fe5-4c9a-8c94-65cb83c03aee\",\"type\":\"UnionRenderers\"}},\"id\":\"c5e84545-f10d-4e73-921f-cea977b315f4\",\"type\":\"ColumnDataSource\"},{\"attributes\":{\"data_source\":{\"id\":\"c5e84545-f10d-4e73-921f-cea977b315f4\",\"type\":\"ColumnDataSource\"},\"glyph\":{\"id\":\"ecb91b1e-be69-4a96-b7d5-57db6c450f39\",\"type\":\"Line\"},\"hover_glyph\":null,\"muted_glyph\":null,\"nonselection_glyph\":{\"id\":\"10fd6df0-ff17-4c25-84cf-7b5cca294eca\",\"type\":\"Line\"},\"selection_glyph\":null,\"view\":{\"id\":\"261e2c89-1f3b-4c21-913c-e06ab87fecf7\",\"type\":\"CDSView\"}},\"id\":\"e5ba67f2-5635-413c-95d0-8c63f588f9a6\",\"type\":\"GlyphRenderer\"},{\"attributes\":{\"callback\":null,\"data\":{\"x\":{\"__ndarray__\":\"D4DH1oTLdj9mkVpijUV3P8irtXG5eng/wcrBLnrOeT+Ivdmx1CR7P2D70YlnfXw/21ULljHYfT/TxXc4MjV/PywTkEM8SoA/41vZt/P6gD/hwSMun6yBP6WNPHODX4I/K6DNhL8Tgz9taRIV2tSDP4eD+TXWIYY/J7oVX0BxjD/0ALPOOtuSP0q/5wHY8pc/XQqMGB1gnT/0utbCUnuhP2RjrNaMg6Q/+GQeKb2Xpz+Rry3RkxGqP3wOHRybBqo/tXkZTmSppz89YoKHWrSkP/QAG7KvrKE/VrsrXe9unT/c33utu+GXP4LtwDZru5I/vRJBz3i4iz9JOTu4hNOCPzkoibfae3c/nvJMTRkvaj/IgsrIdeRTP1qsQIaLxDG/wbWlGq44Ur/kRUEQ4rpZv5QaoAzDO2C/vHaR1E6FYr/OPzdBRophv++oHmIkOFy/AspG6rSjVb/PkHZEtytQv7PADDflIUe/h127mjV4Pr9cr63twLYwv20MYTlWXxK/U92ZtOm1GD/K0DR6xIQvP0D8K5eYOTg/gMutRFagPz/o8eLOhwdDP7uooihz20U/GLw+zVRoSD8UHaxVXsRKP4DqAzgiAE0/NmIoAf0lTz94/4O/S59QP6P2fSVAp1E/5arGilKtUj9EuIIcxrNTP9cGd3savVQ/35NxDgrKVT/X3QycC9pWP8NfJpm751c//owhNXPlWD9Vta+D1LtZP4izKJGgVlo/H+7L2uS3Wj+nB3WwBvhaP0vZtqgOMls/+bjBjzR4Wz8IysfYi9RbPzBTEIRvT1w/\",\"dtype\":\"float64\",\"shape\":[75]},\"y\":{\"__ndarray__\":\"GhExyth1ND/Sv8nbtpRIP2vylNV0PVE/aTum7souWD/At0SJ8fVgPw3Iuahxymc/MSNhhJWvcD/bTfBN02d3P2zb5nxnaoA/CD5h5MAGhz8NmeH1TyaQP+zrCsc9p5Y/LbKd76fGnz/bLW5ISEmmPww9YvTcQq8/JV2OstnstT8Er5Y7M8G+P0c+r3jqkcU/5h99k6ZBzj88bCIzFzjVP4enV8oyxN0//yH99nXg5D8qOpLLf0jtP5kqGJXUifQ/c9cS8kHP/D+/DpwzojQEQIEmwoanVwxA4lgXt9HgE0BSSZ2AJuIbQAMJih9jjiNA5q4l5INuK0AwTKYKRj0zQNv5fmq8/DpAaCJseHrtQkB/+zpwzoxKQM3MzMzMeFJAZmZmZmZqWEAAAAAAAFxeQM3MzMzMJmJAmpmZmZkfZUBmZmZmZhhoQDMzMzMzEWtAAAAAAAAKbkBmZmZmZoFwQM3MzMzM/XFAMzMzMzN6c0CamZmZmfZ0QAAAAAAAc3ZAZmZmZmbvd0DNzMzMzGt5QDMzMzMz6HpAmpmZmZlkfEAAAAAAAOF9QGZmZmZmXX9AZmZmZuZsgECamZmZGSuBQM3MzMxM6YFAAAAAAICngkAzMzMzs2WDQGZmZmbmI4RAmpmZmRnihEDNzMzMTKCFQAAAAACAXoZAMzMzM7Mch0BmZmZm5tqHQJqZmZkZmYhAzczMzExXiUAAAAAAgBWKQDMzMzOz04pAZmZmZuaRi0CamZmZGVCMQM3MzMxMDo1AAAAAAIDMjUAzMzMzs4qOQGZmZmbmSI9A\",\"dtype\":\"float64\",\"shape\":[75]}},\"selected\":{\"id\":\"4f08dae5-2d8a-4c53-94ec-cc284d8ce8c0\",\"type\":\"Selection\"},\"selection_policy\":{\"id\":\"dae4ae2a-4958-4752-89af-2f0d6ddaeda7\",\"type\":\"UnionRenderers\"}},\"id\":\"09f6d78b-63c8-41a8-b2a2-2c5deb1a9094\",\"type\":\"ColumnDataSource\"},{\"attributes\":{\"line_color\":\"#4daf4a\",\"line_width\":1.5,\"x\":{\"field\":\"x\"},\"y\":{\"field\":\"y\"}},\"id\":\"ecb91b1e-be69-4a96-b7d5-57db6c450f39\",\"type\":\"Line\"},{\"attributes\":{\"source\":{\"id\":\"09f6d78b-63c8-41a8-b2a2-2c5deb1a9094\",\"type\":\"ColumnDataSource\"}},\"id\":\"3bf58271-8870-4e21-b017-e19e67a300ea\",\"type\":\"CDSView\"},{\"attributes\":{\"source\":{\"id\":\"4197b53c-23dd-496e-9b5f-4a96b637bdc7\",\"type\":\"ColumnDataSource\"}},\"id\":\"552efbd3-d382-44ca-b2bc-9fb7b95c4670\",\"type\":\"CDSView\"},{\"attributes\":{\"line_alpha\":0.1,\"line_color\":\"#1f77b4\",\"line_width\":1.5,\"x\":{\"field\":\"x\"},\"y\":{\"field\":\"y\"}},\"id\":\"10fd6df0-ff17-4c25-84cf-7b5cca294eca\",\"type\":\"Line\"},{\"attributes\":{\"data_source\":{\"id\":\"09f6d78b-63c8-41a8-b2a2-2c5deb1a9094\",\"type\":\"ColumnDataSource\"},\"glyph\":{\"id\":\"139d547b-3533-496b-8332-a3e4ae29e9c5\",\"type\":\"Square\"},\"hover_glyph\":null,\"muted_glyph\":null,\"nonselection_glyph\":{\"id\":\"9cb383c8-595d-44eb-ae4d-a3fa4f44297b\",\"type\":\"Square\"},\"selection_glyph\":null,\"view\":{\"id\":\"3bf58271-8870-4e21-b017-e19e67a300ea\",\"type\":\"CDSView\"}},\"id\":\"3fe6cfd9-3fac-474f-9978-ea4a5fa4bec4\",\"type\":\"GlyphRenderer\"},{\"attributes\":{\"callback\":null,\"data\":{\"x\":{\"__ndarray__\":\"D4DH1oTLdj9mkVpijUV3P8irtXG5eng/wcrBLnrOeT+Ivdmx1CR7P2D70YlnfXw/21ULljHYfT/TxXc4MjV/PywTkEM8SoA/41vZt/P6gD/hwSMun6yBP6WNPHODX4I/K6DNhL8Tgz9taRIV2tSDP4eD+TXWIYY/J7oVX0BxjD/0ALPOOtuSP0q/5wHY8pc/XQqMGB1gnT/0utbCUnuhP2RjrNaMg6Q/+GQeKb2Xpz+Rry3RkxGqP3wOHRybBqo/tXkZTmSppz89YoKHWrSkP/QAG7KvrKE/VrsrXe9unT/c33utu+GXP4LtwDZru5I/vRJBz3i4iz9JOTu4hNOCPzkoibfae3c/nvJMTRkvaj/IgsrIdeRTP1qsQIaLxDG/wbWlGq44Ur/kRUEQ4rpZv5QaoAzDO2C/vHaR1E6FYr/OPzdBRophv++oHmIkOFy/AspG6rSjVb/PkHZEtytQv7PADDflIUe/h127mjV4Pr9cr63twLYwv20MYTlWXxK/U92ZtOm1GD/K0DR6xIQvP0D8K5eYOTg/gMutRFagPz/o8eLOhwdDP7uooihz20U/GLw+zVRoSD8UHaxVXsRKP4DqAzgiAE0/NmIoAf0lTz94/4O/S59QP6P2fSVAp1E/5arGilKtUj9EuIIcxrNTP9cGd3savVQ/35NxDgrKVT/X3QycC9pWP8NfJpm751c//owhNXPlWD9Vta+D1LtZP4izKJGgVlo/H+7L2uS3Wj+nB3WwBvhaP0vZtqgOMls/+bjBjzR4Wz8IysfYi9RbPzBTEIRvT1w/\",\"dtype\":\"float64\",\"shape\":[75]},\"y\":{\"__ndarray__\":\"GhExyth1ND/Sv8nbtpRIP2vylNV0PVE/aTum7souWD/At0SJ8fVgPw3Iuahxymc/MSNhhJWvcD/bTfBN02d3P2zb5nxnaoA/CD5h5MAGhz8NmeH1TyaQP+zrCsc9p5Y/LbKd76fGnz/bLW5ISEmmPww9YvTcQq8/JV2OstnstT8Er5Y7M8G+P0c+r3jqkcU/5h99k6ZBzj88bCIzFzjVP4enV8oyxN0//yH99nXg5D8qOpLLf0jtP5kqGJXUifQ/c9cS8kHP/D+/DpwzojQEQIEmwoanVwxA4lgXt9HgE0BSSZ2AJuIbQAMJih9jjiNA5q4l5INuK0AwTKYKRj0zQNv5fmq8/DpAaCJseHrtQkB/+zpwzoxKQM3MzMzMeFJAZmZmZmZqWEAAAAAAAFxeQM3MzMzMJmJAmpmZmZkfZUBmZmZmZhhoQDMzMzMzEWtAAAAAAAAKbkBmZmZmZoFwQM3MzMzM/XFAMzMzMzN6c0CamZmZmfZ0QAAAAAAAc3ZAZmZmZmbvd0DNzMzMzGt5QDMzMzMz6HpAmpmZmZlkfEAAAAAAAOF9QGZmZmZmXX9AZmZmZuZsgECamZmZGSuBQM3MzMxM6YFAAAAAAICngkAzMzMzs2WDQGZmZmbmI4RAmpmZmRnihEDNzMzMTKCFQAAAAACAXoZAMzMzM7Mch0BmZmZm5tqHQJqZmZkZmYhAzczMzExXiUAAAAAAgBWKQDMzMzOz04pAZmZmZuaRi0CamZmZGVCMQM3MzMxMDo1AAAAAAIDMjUAzMzMzs4qOQGZmZmbmSI9A\",\"dtype\":\"float64\",\"shape\":[75]}},\"selected\":{\"id\":\"88bb1ff9-fc0f-4767-8ae9-9d482a83e672\",\"type\":\"Selection\"},\"selection_policy\":{\"id\":\"7a7a2049-3bfc-4172-80d6-229bed683e54\",\"type\":\"UnionRenderers\"}},\"id\":\"7f352ab6-8b65-42e4-a2c9-ed72f9655192\",\"type\":\"ColumnDataSource\"},{\"attributes\":{\"data_source\":{\"id\":\"4197b53c-23dd-496e-9b5f-4a96b637bdc7\",\"type\":\"ColumnDataSource\"},\"glyph\":{\"id\":\"98480906-a3fd-43f8-8004-e15effcd1738\",\"type\":\"Circle\"},\"hover_glyph\":null,\"muted_glyph\":null,\"nonselection_glyph\":{\"id\":\"f5526635-1716-4a1e-a9b3-f032619413fb\",\"type\":\"Circle\"},\"selection_glyph\":null,\"view\":{\"id\":\"552efbd3-d382-44ca-b2bc-9fb7b95c4670\",\"type\":\"CDSView\"}},\"id\":\"77f51f02-d407-4582-954e-43e0c46d4f49\",\"type\":\"GlyphRenderer\"},{\"attributes\":{\"source\":{\"id\":\"c5e84545-f10d-4e73-921f-cea977b315f4\",\"type\":\"ColumnDataSource\"}},\"id\":\"261e2c89-1f3b-4c21-913c-e06ab87fecf7\",\"type\":\"CDSView\"},{\"attributes\":{\"fill_alpha\":{\"value\":0.1},\"fill_color\":{\"value\":\"#1f77b4\"},\"line_alpha\":{\"value\":0.1},\"line_color\":{\"value\":\"#1f77b4\"},\"x\":{\"field\":\"x\"},\"y\":{\"field\":\"y\"}},\"id\":\"9cb383c8-595d-44eb-ae4d-a3fa4f44297b\",\"type\":\"Square\"}],\"root_ids\":[\"744451cb-8ef2-4f23-9525-b5851a880113\"]},\"title\":\"Bokeh Application\",\"version\":\"0.12.16\"}};\n",
       "  var render_items = [{\"docid\":\"882b8235-470d-4d26-8596-ae3c747d4b67\",\"elementid\":\"97844f8e-0865-49d6-b5bf-8d8fd7cad257\",\"modelid\":\"744451cb-8ef2-4f23-9525-b5851a880113\"}];\n",
       "  root.Bokeh.embed.embed_items_notebook(docs_json, render_items);\n",
       "\n",
       "  }\n",
       "  if (root.Bokeh !== undefined) {\n",
       "    embed_document(root);\n",
       "  } else {\n",
       "    var attempts = 0;\n",
       "    var timer = setInterval(function(root) {\n",
       "      if (root.Bokeh !== undefined) {\n",
       "        embed_document(root);\n",
       "        clearInterval(timer);\n",
       "      }\n",
       "      attempts++;\n",
       "      if (attempts > 100) {\n",
       "        console.log(\"Bokeh: ERROR: Unable to run BokehJS code because BokehJS library is missing\")\n",
       "        clearInterval(timer);\n",
       "      }\n",
       "    }, 10, root)\n",
       "  }\n",
       "})(window);"
      ],
      "application/vnd.bokehjs_exec.v0+json": ""
     },
     "metadata": {
      "application/vnd.bokehjs_exec.v0+json": {
       "id": "744451cb-8ef2-4f23-9525-b5851a880113"
      }
     },
     "output_type": "display_data"
    },
    {
     "data": {
      "text/markdown": [
       "*FIGURE.* Cooling rates. g=1"
      ],
      "text/plain": [
       "<IPython.core.display.Markdown object>"
      ]
     },
     "metadata": {},
     "output_type": "display_data"
    },
    {
     "data": {
      "text/html": [
       "\n",
       "<div class=\"bk-root\">\n",
       "    <div class=\"bk-plotdiv\" id=\"a7ebea31-bc42-4f5e-bd7d-ab74e6100fc3\"></div>\n",
       "</div>"
      ]
     },
     "metadata": {},
     "output_type": "display_data"
    },
    {
     "data": {
      "application/javascript": [
       "(function(root) {\n",
       "  function embed_document(root) {\n",
       "    \n",
       "  var docs_json = {\"a5cd3b5b-8a5a-4982-b274-a139ea02a68d\":{\"roots\":{\"references\":[{\"attributes\":{\"callback\":null,\"end\":0.01161551291,\"start\":-0.00443417791},\"id\":\"9e61d479-4c53-427a-b22d-a0408e03c36e\",\"type\":\"Range1d\"},{\"attributes\":{\"dimension\":1,\"plot\":{\"id\":\"cb345b15-8032-459b-bd51-1151a6af0df6\",\"subtype\":\"Figure\",\"type\":\"Plot\"},\"ticker\":{\"id\":\"e77a77e6-b91c-4632-8d60-4092ea643517\",\"type\":\"LogTicker\"}},\"id\":\"4f9e96fe-0488-4d0a-bbf9-adddaa5e1a85\",\"type\":\"Grid\"},{\"attributes\":{\"axis_label\":\"pressure [mb]\",\"formatter\":{\"id\":\"3d2a3c62-16ea-4dd4-91ac-078a2acf85dc\",\"type\":\"LogTickFormatter\"},\"plot\":{\"id\":\"cb345b15-8032-459b-bd51-1151a6af0df6\",\"subtype\":\"Figure\",\"type\":\"Plot\"},\"ticker\":{\"id\":\"e77a77e6-b91c-4632-8d60-4092ea643517\",\"type\":\"LogTicker\"}},\"id\":\"0f0067f5-7095-4ba6-9893-4958d2dbad19\",\"type\":\"LogAxis\"},{\"attributes\":{\"num_minor_ticks\":10},\"id\":\"e77a77e6-b91c-4632-8d60-4092ea643517\",\"type\":\"LogTicker\"},{\"attributes\":{\"callback\":null,\"data\":{\"x\":{\"__ndarray__\":\"wZDhVqAE6L6MS5ZJmpbnvi2K+zfGfua+5DXLlD9a5b7ION03AirkvpZtOOo/6+K+JKSEmGGZ4b64wP1Qcy3gvqh6En5EO92+PxsLb2W22b4g+V8p7qDVvqQES2bFutC+GdEWRxZLxb55YeMpnsOkvvHnf8/L99A+YsecJ4/98T4tzIaLNlIGP2ZlKLoKlRU/zw6nrlrYIj/bj48zmEEvPyR//V3kIzk/XByt0XzQQz9HJRaCAJ5NP97OjCaheVM/5nkgVfw2Vz9MFR1kcTpbP/S+ZsPe518/32YdUQKbYj+/UpJE2n5lP9SLkHAQY2g/NIFlVyh6aj9dcAoTVLlqP3n5npR3/Gg/jrIpD37mZD9C6yih0L9YP6Z0Au1H0hG//U8rucS5WL/gM5L8AQFlv+BlqeXlMW2/tPc/RpSEcb9P4THRWrBwv93vEEJgXmm/8rhuImjAYL/V+WuGWJxRv2aSDZGZ+Se/J3MWeFr+RD9QJZnJNv9WP/03brK/TGE/XKFfAauvZj85Jrs0pqlrPztKIzt2HXA/YHpQT2Uxcj8QIUyXJxN0P0JQWBuIyXU/11x4WShddz8nY9/CeNV4PyJ3CBC7N3o/jD3AArSHez8qz7SrLch8PzeX0X5a+30/2DT1zQQifz9kdah4NR+AP4Qntrt1qYA/ULUb1jswgT+zaBsuW7OBP6EXkRA8MYI/n0g0IEKlgj/mOEEgegeDP01Y39sUUYM/3qL3PdaCgz8ntto5SKWDP9kNAd4HwoM/0MYNIHzfgz9noklXaQGEP6sAB8jqKoQ/\",\"dtype\":\"float64\",\"shape\":[75]},\"y\":{\"__ndarray__\":\"GhExyth1ND/Sv8nbtpRIP2vylNV0PVE/aTum7souWD/At0SJ8fVgPw3Iuahxymc/MSNhhJWvcD/bTfBN02d3P2zb5nxnaoA/CD5h5MAGhz8NmeH1TyaQP+zrCsc9p5Y/LbKd76fGnz/bLW5ISEmmPww9YvTcQq8/JV2OstnstT8Er5Y7M8G+P0c+r3jqkcU/5h99k6ZBzj88bCIzFzjVP4enV8oyxN0//yH99nXg5D8qOpLLf0jtP5kqGJXUifQ/c9cS8kHP/D+/DpwzojQEQIEmwoanVwxA4lgXt9HgE0BSSZ2AJuIbQAMJih9jjiNA5q4l5INuK0AwTKYKRj0zQNv5fmq8/DpAaCJseHrtQkB/+zpwzoxKQM3MzMzMeFJAZmZmZmZqWEAAAAAAAFxeQM3MzMzMJmJAmpmZmZkfZUBmZmZmZhhoQDMzMzMzEWtAAAAAAAAKbkBmZmZmZoFwQM3MzMzM/XFAMzMzMzN6c0CamZmZmfZ0QAAAAAAAc3ZAZmZmZmbvd0DNzMzMzGt5QDMzMzMz6HpAmpmZmZlkfEAAAAAAAOF9QGZmZmZmXX9AZmZmZuZsgECamZmZGSuBQM3MzMxM6YFAAAAAAICngkAzMzMzs2WDQGZmZmbmI4RAmpmZmRnihEDNzMzMTKCFQAAAAACAXoZAMzMzM7Mch0BmZmZm5tqHQJqZmZkZmYhAzczMzExXiUAAAAAAgBWKQDMzMzOz04pAZmZmZuaRi0CamZmZGVCMQM3MzMxMDo1AAAAAAIDMjUAzMzMzs4qOQGZmZmbmSI9A\",\"dtype\":\"float64\",\"shape\":[75]}},\"selected\":{\"id\":\"9e7f3709-92ab-4366-a07c-57724d787a35\",\"type\":\"Selection\"},\"selection_policy\":{\"id\":\"47ec738d-b9ae-4f4c-84bf-cf2686074619\",\"type\":\"UnionRenderers\"}},\"id\":\"596159fd-e424-43cb-ba8d-9c31312ecb07\",\"type\":\"ColumnDataSource\"},{\"attributes\":{\"items\":[{\"id\":\"a44c07b9-d819-43bf-b04d-342ff85b8cae\",\"type\":\"LegendItem\"},{\"id\":\"6066d0d1-6c57-4c29-8256-0c9233f254d9\",\"type\":\"LegendItem\"},{\"id\":\"64fff039-200a-4d09-a2c6-c1424f88b1c5\",\"type\":\"LegendItem\"}],\"label_text_font_size\":{\"value\":\"8pt\"},\"location\":\"top_center\",\"orientation\":\"horizontal\",\"plot\":{\"id\":\"09c69298-e1f3-4222-9f4b-4b7a4a122d4b\",\"subtype\":\"Figure\",\"type\":\"Plot\"}},\"id\":\"0551a07b-3811-42aa-b502-985b1f383dfd\",\"type\":\"Legend\"},{\"attributes\":{\"active_drag\":\"auto\",\"active_inspect\":\"auto\",\"active_scroll\":\"auto\",\"active_tap\":\"auto\",\"tools\":[{\"id\":\"cfa750a5-3757-46c4-bb93-195592e778b0\",\"type\":\"PanTool\"},{\"id\":\"f0f20842-9e45-4a4c-a306-d58275dbd6c9\",\"type\":\"WheelZoomTool\"},{\"id\":\"5bfd13fc-03c5-4d2a-9445-f4f27e425b97\",\"type\":\"BoxZoomTool\"},{\"id\":\"c935bb8a-aa62-48da-bcfb-22299833214d\",\"type\":\"SaveTool\"},{\"id\":\"3a669fea-df07-4731-bfcb-996b45a11f9b\",\"type\":\"ResetTool\"},{\"id\":\"104eec3e-4954-4d98-9d77-a751828f02a4\",\"type\":\"HelpTool\"}]},\"id\":\"b1e0ad57-903b-447c-8728-23e112210a44\",\"type\":\"Toolbar\"},{\"attributes\":{},\"id\":\"573bbbdc-fb2b-4b34-9455-fade12096d78\",\"type\":\"LinearScale\"},{\"attributes\":{},\"id\":\"b9bfbe33-f06b-491c-b80a-fef4b491583e\",\"type\":\"BasicTicker\"},{\"attributes\":{\"line_color\":\"#4daf4a\",\"line_width\":1.5,\"x\":{\"field\":\"x\"},\"y\":{\"field\":\"y\"}},\"id\":\"03a2a3bc-4fd5-4377-a04e-d5834190340a\",\"type\":\"Line\"},{\"attributes\":{},\"id\":\"e3d908b9-afc3-44ab-bba7-beac26dff97e\",\"type\":\"BasicTicker\"},{\"attributes\":{\"dimension\":1,\"plot\":{\"id\":\"09c69298-e1f3-4222-9f4b-4b7a4a122d4b\",\"subtype\":\"Figure\",\"type\":\"Plot\"},\"ticker\":{\"id\":\"e3d908b9-afc3-44ab-bba7-beac26dff97e\",\"type\":\"BasicTicker\"}},\"id\":\"a1159f3c-2309-4f8d-bdd1-9f66f2af6d11\",\"type\":\"Grid\"},{\"attributes\":{\"callback\":null,\"end\":0.01,\"start\":1020},\"id\":\"31b8f2c3-bbd6-4e45-804f-5995203835bb\",\"type\":\"Range1d\"},{\"attributes\":{\"plot\":{\"id\":\"cb345b15-8032-459b-bd51-1151a6af0df6\",\"subtype\":\"Figure\",\"type\":\"Plot\"},\"ticker\":{\"id\":\"21c072e6-c146-44a6-9318-5b234f91249e\",\"type\":\"BasicTicker\"}},\"id\":\"3ae24ec1-e769-4d6d-b55c-c94f5b316555\",\"type\":\"Grid\"},{\"attributes\":{\"axis_label\":\"pressure [mb]\",\"formatter\":{\"id\":\"7fa54d91-818a-48a5-aea2-30fcebdbf193\",\"type\":\"BasicTickFormatter\"},\"plot\":{\"id\":\"09c69298-e1f3-4222-9f4b-4b7a4a122d4b\",\"subtype\":\"Figure\",\"type\":\"Plot\"},\"ticker\":{\"id\":\"e3d908b9-afc3-44ab-bba7-beac26dff97e\",\"type\":\"BasicTicker\"}},\"id\":\"1645bb9c-14ef-4659-aa57-ac2c5303c04c\",\"type\":\"LinearAxis\"},{\"attributes\":{\"callback\":null,\"data\":{\"x\":{\"__ndarray__\":\"wZDhVqAE6L6MS5ZJmpbnvi2K+zfGfua+5DXLlD9a5b7ION03AirkvpZtOOo/6+K+JKSEmGGZ4b64wP1Qcy3gvqh6En5EO92+PxsLb2W22b4g+V8p7qDVvqQES2bFutC+GdEWRxZLxb55YeMpnsOkvvHnf8/L99A+YsecJ4/98T4tzIaLNlIGP2ZlKLoKlRU/zw6nrlrYIj/bj48zmEEvPyR//V3kIzk/XByt0XzQQz9HJRaCAJ5NP97OjCaheVM/5nkgVfw2Vz9MFR1kcTpbP/S+ZsPe518/32YdUQKbYj+/UpJE2n5lP9SLkHAQY2g/NIFlVyh6aj9dcAoTVLlqP3n5npR3/Gg/jrIpD37mZD9C6yih0L9YP6Z0Au1H0hG//U8rucS5WL/gM5L8AQFlv+BlqeXlMW2/tPc/RpSEcb9P4THRWrBwv93vEEJgXmm/8rhuImjAYL/V+WuGWJxRv2aSDZGZ+Se/J3MWeFr+RD9QJZnJNv9WP/03brK/TGE/XKFfAauvZj85Jrs0pqlrPztKIzt2HXA/YHpQT2Uxcj8QIUyXJxN0P0JQWBuIyXU/11x4WShddz8nY9/CeNV4PyJ3CBC7N3o/jD3AArSHez8qz7SrLch8PzeX0X5a+30/2DT1zQQifz9kdah4NR+AP4Qntrt1qYA/ULUb1jswgT+zaBsuW7OBP6EXkRA8MYI/n0g0IEKlgj/mOEEgegeDP01Y39sUUYM/3qL3PdaCgz8ntto5SKWDP9kNAd4HwoM/0MYNIHzfgz9noklXaQGEP6sAB8jqKoQ/\",\"dtype\":\"float64\",\"shape\":[75]},\"y\":{\"__ndarray__\":\"GhExyth1ND/Sv8nbtpRIP2vylNV0PVE/aTum7souWD/At0SJ8fVgPw3Iuahxymc/MSNhhJWvcD/bTfBN02d3P2zb5nxnaoA/CD5h5MAGhz8NmeH1TyaQP+zrCsc9p5Y/LbKd76fGnz/bLW5ISEmmPww9YvTcQq8/JV2OstnstT8Er5Y7M8G+P0c+r3jqkcU/5h99k6ZBzj88bCIzFzjVP4enV8oyxN0//yH99nXg5D8qOpLLf0jtP5kqGJXUifQ/c9cS8kHP/D+/DpwzojQEQIEmwoanVwxA4lgXt9HgE0BSSZ2AJuIbQAMJih9jjiNA5q4l5INuK0AwTKYKRj0zQNv5fmq8/DpAaCJseHrtQkB/+zpwzoxKQM3MzMzMeFJAZmZmZmZqWEAAAAAAAFxeQM3MzMzMJmJAmpmZmZkfZUBmZmZmZhhoQDMzMzMzEWtAAAAAAAAKbkBmZmZmZoFwQM3MzMzM/XFAMzMzMzN6c0CamZmZmfZ0QAAAAAAAc3ZAZmZmZmbvd0DNzMzMzGt5QDMzMzMz6HpAmpmZmZlkfEAAAAAAAOF9QGZmZmZmXX9AZmZmZuZsgECamZmZGSuBQM3MzMxM6YFAAAAAAICngkAzMzMzs2WDQGZmZmbmI4RAmpmZmRnihEDNzMzMTKCFQAAAAACAXoZAMzMzM7Mch0BmZmZm5tqHQJqZmZkZmYhAzczMzExXiUAAAAAAgBWKQDMzMzOz04pAZmZmZuaRi0CamZmZGVCMQM3MzMxMDo1AAAAAAIDMjUAzMzMzs4qOQGZmZmbmSI9A\",\"dtype\":\"float64\",\"shape\":[75]}},\"selected\":{\"id\":\"6e3394a6-b680-4199-9b18-3419a13341a2\",\"type\":\"Selection\"},\"selection_policy\":{\"id\":\"5d0c6c73-8275-46e8-bf16-458b467ebf54\",\"type\":\"UnionRenderers\"}},\"id\":\"eda0a41d-9c29-48e3-8b00-f74436532953\",\"type\":\"ColumnDataSource\"},{\"attributes\":{\"source\":{\"id\":\"eda0a41d-9c29-48e3-8b00-f74436532953\",\"type\":\"ColumnDataSource\"}},\"id\":\"30a061d0-6540-444a-b2bd-e60bfc2ee49f\",\"type\":\"CDSView\"},{\"attributes\":{\"axis_label\":\"cooling rate [K/day]\",\"formatter\":{\"id\":\"bd32157e-326e-49ce-a7c9-61c49bddcfe0\",\"type\":\"BasicTickFormatter\"},\"plot\":{\"id\":\"09c69298-e1f3-4222-9f4b-4b7a4a122d4b\",\"subtype\":\"Figure\",\"type\":\"Plot\"},\"ticker\":{\"id\":\"b9bfbe33-f06b-491c-b80a-fef4b491583e\",\"type\":\"BasicTicker\"}},\"id\":\"1f08b8bc-cb01-4f0c-8891-6901b1165088\",\"type\":\"LinearAxis\"},{\"attributes\":{\"data_source\":{\"id\":\"eda0a41d-9c29-48e3-8b00-f74436532953\",\"type\":\"ColumnDataSource\"},\"glyph\":{\"id\":\"926af5a9-a3e8-42b2-951c-df3bb36db8a4\",\"type\":\"Circle\"},\"hover_glyph\":null,\"muted_glyph\":null,\"nonselection_glyph\":{\"id\":\"b99eba4e-c1b5-4684-ad84-8e05ad7c4d57\",\"type\":\"Circle\"},\"selection_glyph\":null,\"view\":{\"id\":\"30a061d0-6540-444a-b2bd-e60bfc2ee49f\",\"type\":\"CDSView\"}},\"id\":\"d1000125-3985-4957-9d78-756764dcc491\",\"type\":\"GlyphRenderer\"},{\"attributes\":{\"plot\":{\"id\":\"09c69298-e1f3-4222-9f4b-4b7a4a122d4b\",\"subtype\":\"Figure\",\"type\":\"Plot\"},\"ticker\":{\"id\":\"b9bfbe33-f06b-491c-b80a-fef4b491583e\",\"type\":\"BasicTicker\"}},\"id\":\"213b2e53-2277-4579-ab8d-b6564790e5cc\",\"type\":\"Grid\"},{\"attributes\":{},\"id\":\"21c072e6-c146-44a6-9318-5b234f91249e\",\"type\":\"BasicTicker\"},{\"attributes\":{\"callback\":null,\"end\":0.01,\"start\":1020},\"id\":\"2f33acea-b447-447a-b523-3b5368637071\",\"type\":\"Range1d\"},{\"attributes\":{},\"id\":\"303aba6c-352f-46e4-a43d-bb76ae40609d\",\"type\":\"LinearScale\"},{\"attributes\":{},\"id\":\"8a05adc7-631d-4b25-b5ed-ca36d89e27bc\",\"type\":\"UnionRenderers\"},{\"attributes\":{\"line_color\":\"#4daf4a\",\"line_width\":1.5,\"x\":{\"field\":\"x\"},\"y\":{\"field\":\"y\"}},\"id\":\"a7ec0fec-9d1b-4253-b3c3-60811d6576d2\",\"type\":\"Line\"},{\"attributes\":{\"callback\":null,\"data\":{\"x\":{\"__ndarray__\":\"9N+k0luf5b7NrqSHnFjlvvUAHBQ2mOS+j5q4UYnL476ZdSO9xf/ivkqQSxnMNuK+VcLETaBy4b4vlKgZybXgvkbzXec8A+C+KLygbeu83r7h3zOfeJbdvtselW8wmty+uFNS2E7N2749UmHSGvvaviZgzIy3Z9K+S0CLU/yy0j5p/8nKaKf4PqdZY/8tfQw/v0oiliH/Gj+l5SA8fnAnP7PDVfWnXTM/8Raqgaz0Pj/9fhc6QCNHP21GndwL0k0/RkmFvmYDUT93wglUGL5SP48KDnnMQ1Q/xvW2dGhzVT8flf0b/S1WP9s/Agd8E1Y/R/i18q0vVD+DW1YRhh9PP9OUCClpN0A/bpiYrWlNBL/KMohdrvtJv9jvJpQO6ly/7SvEaDMVZb89MtzUzp1pvy1/l/hwAG6/gFbNrThncL+hcYrSSg9uv2qQx+myc2a/9qm23fxtXL+AuiXbN3VJv34bLcoWkCA/xVIGNcnqTz+EWMho1RFdPy7LAJwKtGQ/iecUt518aj8/xREliuJvP1s6L6VYdHI/wo0TZF3DdD9sx82j9OJ2P8bkbaIf2Hg/z3fZLnKoej8zll4TwVx8PxrvWeMk930/04Wg98J8fz/aIVRiBHiAP1GNaltMKIE/sLIWnErRgT8jO08x0HKCP3dg6Y3tDYM/dyJVlAqjgz+I4fsHPjKEP6RHfLzKuYQ/6CtaFtI1hT9mkNSl85+FP0M8iT3x8oU/YZoS3lgvhj8mPD6t5FuGP9QX1zL4f4Y/z62T16Oghj/o8AkMa8CGP7ozSP624IY/\",\"dtype\":\"float64\",\"shape\":[75]},\"y\":{\"__ndarray__\":\"GhExyth1ND/Sv8nbtpRIP2vylNV0PVE/aTum7souWD/At0SJ8fVgPw3Iuahxymc/MSNhhJWvcD/bTfBN02d3P2zb5nxnaoA/CD5h5MAGhz8NmeH1TyaQP+zrCsc9p5Y/LbKd76fGnz/bLW5ISEmmPww9YvTcQq8/JV2OstnstT8Er5Y7M8G+P0c+r3jqkcU/5h99k6ZBzj88bCIzFzjVP4enV8oyxN0//yH99nXg5D8qOpLLf0jtP5kqGJXUifQ/c9cS8kHP/D+/DpwzojQEQIEmwoanVwxA4lgXt9HgE0BSSZ2AJuIbQAMJih9jjiNA5q4l5INuK0AwTKYKRj0zQNv5fmq8/DpAaCJseHrtQkB/+zpwzoxKQM3MzMzMeFJAZmZmZmZqWEAAAAAAAFxeQM3MzMzMJmJAmpmZmZkfZUBmZmZmZhhoQDMzMzMzEWtAAAAAAAAKbkBmZmZmZoFwQM3MzMzM/XFAMzMzMzN6c0CamZmZmfZ0QAAAAAAAc3ZAZmZmZmbvd0DNzMzMzGt5QDMzMzMz6HpAmpmZmZlkfEAAAAAAAOF9QGZmZmZmXX9AZmZmZuZsgECamZmZGSuBQM3MzMxM6YFAAAAAAICngkAzMzMzs2WDQGZmZmbmI4RAmpmZmRnihEDNzMzMTKCFQAAAAACAXoZAMzMzM7Mch0BmZmZm5tqHQJqZmZkZmYhAzczMzExXiUAAAAAAgBWKQDMzMzOz04pAZmZmZuaRi0CamZmZGVCMQM3MzMxMDo1AAAAAAIDMjUAzMzMzs4qOQGZmZmbmSI9A\",\"dtype\":\"float64\",\"shape\":[75]}},\"selected\":{\"id\":\"79b1ef11-21eb-46d3-ad6a-827d48b9c441\",\"type\":\"Selection\"},\"selection_policy\":{\"id\":\"cf35d695-2393-4901-93bf-cfa2eb8cf78c\",\"type\":\"UnionRenderers\"}},\"id\":\"070fbe10-c085-4672-8020-a04791c5a0cd\",\"type\":\"ColumnDataSource\"},{\"attributes\":{},\"id\":\"88bf7af1-0c84-4e9f-8578-bf07bb1fc5d6\",\"type\":\"Selection\"},{\"attributes\":{\"source\":{\"id\":\"2873067b-bab1-4fed-ad86-2253b2d18192\",\"type\":\"ColumnDataSource\"}},\"id\":\"7b1a81ff-46d2-4201-aa7a-8fcd5e2d6552\",\"type\":\"CDSView\"},{\"attributes\":{\"above\":[{\"id\":\"0551a07b-3811-42aa-b502-985b1f383dfd\",\"type\":\"Legend\"}],\"below\":[{\"id\":\"1f08b8bc-cb01-4f0c-8891-6901b1165088\",\"type\":\"LinearAxis\"}],\"left\":[{\"id\":\"1645bb9c-14ef-4659-aa57-ac2c5303c04c\",\"type\":\"LinearAxis\"}],\"plot_height\":500,\"plot_width\":400,\"renderers\":[{\"id\":\"1f08b8bc-cb01-4f0c-8891-6901b1165088\",\"type\":\"LinearAxis\"},{\"id\":\"213b2e53-2277-4579-ab8d-b6564790e5cc\",\"type\":\"Grid\"},{\"id\":\"1645bb9c-14ef-4659-aa57-ac2c5303c04c\",\"type\":\"LinearAxis\"},{\"id\":\"a1159f3c-2309-4f8d-bdd1-9f66f2af6d11\",\"type\":\"Grid\"},{\"id\":\"295aafe8-f319-4726-bfee-b2e65380cf79\",\"type\":\"BoxAnnotation\"},{\"id\":\"d1000125-3985-4957-9d78-756764dcc491\",\"type\":\"GlyphRenderer\"},{\"id\":\"d442a820-0102-4251-b209-c76132cdc513\",\"type\":\"GlyphRenderer\"},{\"id\":\"1367263c-e99b-4ba1-8a64-f7fba538b5a5\",\"type\":\"GlyphRenderer\"},{\"id\":\"6389f30e-8c61-414f-9ddf-8bd898b6f02b\",\"type\":\"GlyphRenderer\"},{\"id\":\"bdd2092b-caee-41e8-8c03-2aae0511f67f\",\"type\":\"GlyphRenderer\"},{\"id\":\"eb2352a4-b8cc-435d-acd0-836b8e1f915d\",\"type\":\"GlyphRenderer\"},{\"id\":\"0551a07b-3811-42aa-b502-985b1f383dfd\",\"type\":\"Legend\"}],\"title\":{\"id\":\"f2799839-ba78-4759-a38c-d0c8c31d7e22\",\"type\":\"Title\"},\"toolbar\":{\"id\":\"b1e0ad57-903b-447c-8728-23e112210a44\",\"type\":\"Toolbar\"},\"toolbar_location\":null,\"x_range\":{\"id\":\"9e61d479-4c53-427a-b22d-a0408e03c36e\",\"type\":\"Range1d\"},\"x_scale\":{\"id\":\"573bbbdc-fb2b-4b34-9455-fade12096d78\",\"type\":\"LinearScale\"},\"y_range\":{\"id\":\"2f33acea-b447-447a-b523-3b5368637071\",\"type\":\"Range1d\"},\"y_scale\":{\"id\":\"303aba6c-352f-46e4-a43d-bb76ae40609d\",\"type\":\"LinearScale\"}},\"id\":\"09c69298-e1f3-4222-9f4b-4b7a4a122d4b\",\"subtype\":\"Figure\",\"type\":\"Plot\"},{\"attributes\":{},\"id\":\"0e3da887-d556-4d14-a614-242fe72cea39\",\"type\":\"UnionRenderers\"},{\"attributes\":{\"callback\":null,\"data\":{\"x\":{\"__ndarray__\":\"9N+k0luf5b7NrqSHnFjlvvUAHBQ2mOS+j5q4UYnL476ZdSO9xf/ivkqQSxnMNuK+VcLETaBy4b4vlKgZybXgvkbzXec8A+C+KLygbeu83r7h3zOfeJbdvtselW8wmty+uFNS2E7N2749UmHSGvvaviZgzIy3Z9K+S0CLU/yy0j5p/8nKaKf4PqdZY/8tfQw/v0oiliH/Gj+l5SA8fnAnP7PDVfWnXTM/8Raqgaz0Pj/9fhc6QCNHP21GndwL0k0/RkmFvmYDUT93wglUGL5SP48KDnnMQ1Q/xvW2dGhzVT8flf0b/S1WP9s/Agd8E1Y/R/i18q0vVD+DW1YRhh9PP9OUCClpN0A/bpiYrWlNBL/KMohdrvtJv9jvJpQO6ly/7SvEaDMVZb89MtzUzp1pvy1/l/hwAG6/gFbNrThncL+hcYrSSg9uv2qQx+myc2a/9qm23fxtXL+AuiXbN3VJv34bLcoWkCA/xVIGNcnqTz+EWMho1RFdPy7LAJwKtGQ/iecUt518aj8/xREliuJvP1s6L6VYdHI/wo0TZF3DdD9sx82j9OJ2P8bkbaIf2Hg/z3fZLnKoej8zll4TwVx8PxrvWeMk930/04Wg98J8fz/aIVRiBHiAP1GNaltMKIE/sLIWnErRgT8jO08x0HKCP3dg6Y3tDYM/dyJVlAqjgz+I4fsHPjKEP6RHfLzKuYQ/6CtaFtI1hT9mkNSl85+FP0M8iT3x8oU/YZoS3lgvhj8mPD6t5FuGP9QX1zL4f4Y/z62T16Oghj/o8AkMa8CGP7ozSP624IY/\",\"dtype\":\"float64\",\"shape\":[75]},\"y\":{\"__ndarray__\":\"GhExyth1ND/Sv8nbtpRIP2vylNV0PVE/aTum7souWD/At0SJ8fVgPw3Iuahxymc/MSNhhJWvcD/bTfBN02d3P2zb5nxnaoA/CD5h5MAGhz8NmeH1TyaQP+zrCsc9p5Y/LbKd76fGnz/bLW5ISEmmPww9YvTcQq8/JV2OstnstT8Er5Y7M8G+P0c+r3jqkcU/5h99k6ZBzj88bCIzFzjVP4enV8oyxN0//yH99nXg5D8qOpLLf0jtP5kqGJXUifQ/c9cS8kHP/D+/DpwzojQEQIEmwoanVwxA4lgXt9HgE0BSSZ2AJuIbQAMJih9jjiNA5q4l5INuK0AwTKYKRj0zQNv5fmq8/DpAaCJseHrtQkB/+zpwzoxKQM3MzMzMeFJAZmZmZmZqWEAAAAAAAFxeQM3MzMzMJmJAmpmZmZkfZUBmZmZmZhhoQDMzMzMzEWtAAAAAAAAKbkBmZmZmZoFwQM3MzMzM/XFAMzMzMzN6c0CamZmZmfZ0QAAAAAAAc3ZAZmZmZmbvd0DNzMzMzGt5QDMzMzMz6HpAmpmZmZlkfEAAAAAAAOF9QGZmZmZmXX9AZmZmZuZsgECamZmZGSuBQM3MzMxM6YFAAAAAAICngkAzMzMzs2WDQGZmZmbmI4RAmpmZmRnihEDNzMzMTKCFQAAAAACAXoZAMzMzM7Mch0BmZmZm5tqHQJqZmZkZmYhAzczMzExXiUAAAAAAgBWKQDMzMzOz04pAZmZmZuaRi0CamZmZGVCMQM3MzMxMDo1AAAAAAIDMjUAzMzMzs4qOQGZmZmbmSI9A\",\"dtype\":\"float64\",\"shape\":[75]}},\"selected\":{\"id\":\"d3acfc9f-9749-49e4-a28f-1319bed73d52\",\"type\":\"Selection\"},\"selection_policy\":{\"id\":\"7a1c5983-6bcc-4f1b-ac62-d5c080363c26\",\"type\":\"UnionRenderers\"}},\"id\":\"7ff79f3b-1fbe-4470-9c55-8077f1edc3c7\",\"type\":\"ColumnDataSource\"},{\"attributes\":{\"fill_alpha\":{\"value\":0.1},\"fill_color\":{\"value\":\"#1f77b4\"},\"line_alpha\":{\"value\":0.1},\"line_color\":{\"value\":\"#1f77b4\"},\"x\":{\"field\":\"x\"},\"y\":{\"field\":\"y\"}},\"id\":\"ba9530ce-0729-4ada-b317-ae60ea00612f\",\"type\":\"Square\"},{\"attributes\":{\"data_source\":{\"id\":\"7ff79f3b-1fbe-4470-9c55-8077f1edc3c7\",\"type\":\"ColumnDataSource\"},\"glyph\":{\"id\":\"fb626537-fc08-4b39-8bea-cd5cc23a74d3\",\"type\":\"Square\"},\"hover_glyph\":null,\"muted_glyph\":null,\"nonselection_glyph\":{\"id\":\"ba9530ce-0729-4ada-b317-ae60ea00612f\",\"type\":\"Square\"},\"selection_glyph\":null,\"view\":{\"id\":\"69ce36a7-e1f0-4d40-92ae-ad3ebdc5f76d\",\"type\":\"CDSView\"}},\"id\":\"b74ae8a5-1e28-4fb4-b20c-c5639135ddbe\",\"type\":\"GlyphRenderer\"},{\"attributes\":{\"source\":{\"id\":\"09f827dd-3166-488a-9c76-67b9cd3b7e1f\",\"type\":\"ColumnDataSource\"}},\"id\":\"1c02283d-f60f-42a6-a250-ea81d5ece83e\",\"type\":\"CDSView\"},{\"attributes\":{\"line_alpha\":0.6,\"line_color\":\"#984ea3\",\"line_width\":3,\"x\":{\"field\":\"x\"},\"y\":{\"field\":\"y\"}},\"id\":\"af0a135a-21d1-4768-ba4f-9744535a6da4\",\"type\":\"Line\"},{\"attributes\":{\"line_alpha\":0.1,\"line_color\":\"#1f77b4\",\"line_width\":3,\"x\":{\"field\":\"x\"},\"y\":{\"field\":\"y\"}},\"id\":\"4354bf17-c2c6-40b0-af4a-68dec67d13c9\",\"type\":\"Line\"},{\"attributes\":{\"line_alpha\":0.1,\"line_color\":\"#1f77b4\",\"line_width\":2,\"x\":{\"field\":\"x\"},\"y\":{\"field\":\"y\"}},\"id\":\"9a1d7d46-1107-4a65-a094-40c195240fd5\",\"type\":\"Line\"},{\"attributes\":{\"source\":{\"id\":\"7ff79f3b-1fbe-4470-9c55-8077f1edc3c7\",\"type\":\"ColumnDataSource\"}},\"id\":\"69ce36a7-e1f0-4d40-92ae-ad3ebdc5f76d\",\"type\":\"CDSView\"},{\"attributes\":{\"source\":{\"id\":\"070fbe10-c085-4672-8020-a04791c5a0cd\",\"type\":\"ColumnDataSource\"}},\"id\":\"3910a7f4-eb0f-4758-a779-a8ef371a377f\",\"type\":\"CDSView\"},{\"attributes\":{\"callback\":null,\"data\":{\"x\":{\"__ndarray__\":\"wZDhVqAE6L6MS5ZJmpbnvi2K+zfGfua+5DXLlD9a5b7ION03AirkvpZtOOo/6+K+JKSEmGGZ4b64wP1Qcy3gvqh6En5EO92+PxsLb2W22b4g+V8p7qDVvqQES2bFutC+GdEWRxZLxb55YeMpnsOkvvHnf8/L99A+YsecJ4/98T4tzIaLNlIGP2ZlKLoKlRU/zw6nrlrYIj/bj48zmEEvPyR//V3kIzk/XByt0XzQQz9HJRaCAJ5NP97OjCaheVM/5nkgVfw2Vz9MFR1kcTpbP/S+ZsPe518/32YdUQKbYj+/UpJE2n5lP9SLkHAQY2g/NIFlVyh6aj9dcAoTVLlqP3n5npR3/Gg/jrIpD37mZD9C6yih0L9YP6Z0Au1H0hG//U8rucS5WL/gM5L8AQFlv+BlqeXlMW2/tPc/RpSEcb9P4THRWrBwv93vEEJgXmm/8rhuImjAYL/V+WuGWJxRv2aSDZGZ+Se/J3MWeFr+RD9QJZnJNv9WP/03brK/TGE/XKFfAauvZj85Jrs0pqlrPztKIzt2HXA/YHpQT2Uxcj8QIUyXJxN0P0JQWBuIyXU/11x4WShddz8nY9/CeNV4PyJ3CBC7N3o/jD3AArSHez8qz7SrLch8PzeX0X5a+30/2DT1zQQifz9kdah4NR+AP4Qntrt1qYA/ULUb1jswgT+zaBsuW7OBP6EXkRA8MYI/n0g0IEKlgj/mOEEgegeDP01Y39sUUYM/3qL3PdaCgz8ntto5SKWDP9kNAd4HwoM/0MYNIHzfgz9noklXaQGEP6sAB8jqKoQ/\",\"dtype\":\"float64\",\"shape\":[75]},\"y\":{\"__ndarray__\":\"GhExyth1ND/Sv8nbtpRIP2vylNV0PVE/aTum7souWD/At0SJ8fVgPw3Iuahxymc/MSNhhJWvcD/bTfBN02d3P2zb5nxnaoA/CD5h5MAGhz8NmeH1TyaQP+zrCsc9p5Y/LbKd76fGnz/bLW5ISEmmPww9YvTcQq8/JV2OstnstT8Er5Y7M8G+P0c+r3jqkcU/5h99k6ZBzj88bCIzFzjVP4enV8oyxN0//yH99nXg5D8qOpLLf0jtP5kqGJXUifQ/c9cS8kHP/D+/DpwzojQEQIEmwoanVwxA4lgXt9HgE0BSSZ2AJuIbQAMJih9jjiNA5q4l5INuK0AwTKYKRj0zQNv5fmq8/DpAaCJseHrtQkB/+zpwzoxKQM3MzMzMeFJAZmZmZmZqWEAAAAAAAFxeQM3MzMzMJmJAmpmZmZkfZUBmZmZmZhhoQDMzMzMzEWtAAAAAAAAKbkBmZmZmZoFwQM3MzMzM/XFAMzMzMzN6c0CamZmZmfZ0QAAAAAAAc3ZAZmZmZmbvd0DNzMzMzGt5QDMzMzMz6HpAmpmZmZlkfEAAAAAAAOF9QGZmZmZmXX9AZmZmZuZsgECamZmZGSuBQM3MzMxM6YFAAAAAAICngkAzMzMzs2WDQGZmZmbmI4RAmpmZmRnihEDNzMzMTKCFQAAAAACAXoZAMzMzM7Mch0BmZmZm5tqHQJqZmZkZmYhAzczMzExXiUAAAAAAgBWKQDMzMzOz04pAZmZmZuaRi0CamZmZGVCMQM3MzMxMDo1AAAAAAIDMjUAzMzMzs4qOQGZmZmbmSI9A\",\"dtype\":\"float64\",\"shape\":[75]}},\"selected\":{\"id\":\"4ad65816-6f3b-4231-8dbb-767cf158d0a6\",\"type\":\"Selection\"},\"selection_policy\":{\"id\":\"e2f5ae38-4ebc-473a-bd21-d34d0d505842\",\"type\":\"UnionRenderers\"}},\"id\":\"09f827dd-3166-488a-9c76-67b9cd3b7e1f\",\"type\":\"ColumnDataSource\"},{\"attributes\":{\"line_alpha\":0.1,\"line_color\":\"#1f77b4\",\"line_width\":1.5,\"x\":{\"field\":\"x\"},\"y\":{\"field\":\"y\"}},\"id\":\"ac0d01b5-0ab4-49ea-8057-ab4f8b3183f3\",\"type\":\"Line\"},{\"attributes\":{\"data_source\":{\"id\":\"070fbe10-c085-4672-8020-a04791c5a0cd\",\"type\":\"ColumnDataSource\"},\"glyph\":{\"id\":\"af0a135a-21d1-4768-ba4f-9744535a6da4\",\"type\":\"Line\"},\"hover_glyph\":null,\"muted_glyph\":null,\"nonselection_glyph\":{\"id\":\"4354bf17-c2c6-40b0-af4a-68dec67d13c9\",\"type\":\"Line\"},\"selection_glyph\":null,\"view\":{\"id\":\"3910a7f4-eb0f-4758-a779-a8ef371a377f\",\"type\":\"CDSView\"}},\"id\":\"5d861667-a18f-40c4-ae29-5a05381fc077\",\"type\":\"GlyphRenderer\"},{\"attributes\":{\"data_source\":{\"id\":\"09f827dd-3166-488a-9c76-67b9cd3b7e1f\",\"type\":\"ColumnDataSource\"},\"glyph\":{\"id\":\"a7ec0fec-9d1b-4253-b3c3-60811d6576d2\",\"type\":\"Line\"},\"hover_glyph\":null,\"muted_glyph\":null,\"nonselection_glyph\":{\"id\":\"ac0d01b5-0ab4-49ea-8057-ab4f8b3183f3\",\"type\":\"Line\"},\"selection_glyph\":null,\"view\":{\"id\":\"1c02283d-f60f-42a6-a250-ea81d5ece83e\",\"type\":\"CDSView\"}},\"id\":\"d453a922-1dac-4a77-a1e9-563bf6435fbb\",\"type\":\"GlyphRenderer\"},{\"attributes\":{\"callback\":null,\"data\":{\"x\":{\"__ndarray__\":\"Px7zwgnP7L5AckVKoansviJxltFcJOy+6bm+MdiZ6759Sg6bmxXrvozo4WEhm+q+iY3hhQov6r6VM9NcaNfpvkfY2h5OnOm+lABUCnSI6b49hZ0b8KnpvsXrbh34Euq+FGowIQbb6r63BKOIKgvsvhyB8G3fv+q+xTL84G633b4osHVpCLPaPo5X+D8cPP4+z8jZayISET+KW1APKhYgP38jzo3r3is/+G6ScZ/3Nj9TDVs7pHdBP7MAywbOiUY/TkzhAeFjST9cFJReL19LP6lu+Chpskw/v6ioK/QJTT9Wlv6jAxJMP01t5WIDAEk/+BI6RmcKQj8tOYVKzSMmP4GOr1dfXTa/zskFytGTTr/5VKfqco9bv6IC0LXi7GS/ZIMfsepnar+2M/Yj0cRtvxXuu/cuZHC/tEyOVEIkcb+4/XFJdQRvv+N9Wp7ukGe/uJfJ8wb/Xr9C/FPqLO5Ov+BNK2P6YwW/0d7fpMbISj+4N9OOqLpaP7ZlalmRrWM/JLnwghekaT+4zhoXaT1vPxsYcg3wO3I//NfmfPmodD/PXk+WR+d2P5RIqeN0+3g/dzzcQJDrej8mf3w1A718Px6V+xrSc34/iUhhn38JgD/evkUhbc6AP8rTK0GciYE/fv8MjSw7gj8rB5iQBuSCP6lvEQcthYM/qf+YzOsehD8K1UeMELGEP8WO569nOoU/rMtw1ry3hT+z7StExCOGP+oUmtoIeoY/nfPhxh67hj8G+ILXreyGP6e/xEMLFYc/jzCL11w4hz/9nFw1yliHPzSf25pgd4c/\",\"dtype\":\"float64\",\"shape\":[75]},\"y\":{\"__ndarray__\":\"GhExyth1ND/Sv8nbtpRIP2vylNV0PVE/aTum7souWD/At0SJ8fVgPw3Iuahxymc/MSNhhJWvcD/bTfBN02d3P2zb5nxnaoA/CD5h5MAGhz8NmeH1TyaQP+zrCsc9p5Y/LbKd76fGnz/bLW5ISEmmPww9YvTcQq8/JV2OstnstT8Er5Y7M8G+P0c+r3jqkcU/5h99k6ZBzj88bCIzFzjVP4enV8oyxN0//yH99nXg5D8qOpLLf0jtP5kqGJXUifQ/c9cS8kHP/D+/DpwzojQEQIEmwoanVwxA4lgXt9HgE0BSSZ2AJuIbQAMJih9jjiNA5q4l5INuK0AwTKYKRj0zQNv5fmq8/DpAaCJseHrtQkB/+zpwzoxKQM3MzMzMeFJAZmZmZmZqWEAAAAAAAFxeQM3MzMzMJmJAmpmZmZkfZUBmZmZmZhhoQDMzMzMzEWtAAAAAAAAKbkBmZmZmZoFwQM3MzMzM/XFAMzMzMzN6c0CamZmZmfZ0QAAAAAAAc3ZAZmZmZmbvd0DNzMzMzGt5QDMzMzMz6HpAmpmZmZlkfEAAAAAAAOF9QGZmZmZmXX9AZmZmZuZsgECamZmZGSuBQM3MzMxM6YFAAAAAAICngkAzMzMzs2WDQGZmZmbmI4RAmpmZmRnihEDNzMzMTKCFQAAAAACAXoZAMzMzM7Mch0BmZmZm5tqHQJqZmZkZmYhAzczMzExXiUAAAAAAgBWKQDMzMzOz04pAZmZmZuaRi0CamZmZGVCMQM3MzMxMDo1AAAAAAIDMjUAzMzMzs4qOQGZmZmbmSI9A\",\"dtype\":\"float64\",\"shape\":[75]}},\"selected\":{\"id\":\"60f3c489-e0bb-4054-8497-84710a7860dc\",\"type\":\"Selection\"},\"selection_policy\":{\"id\":\"d86334d7-86e4-430d-82c1-58d12e0ed3c5\",\"type\":\"UnionRenderers\"}},\"id\":\"4f4dc4fe-bb3a-4250-8933-6ee01e32e955\",\"type\":\"ColumnDataSource\"},{\"attributes\":{\"fill_alpha\":{\"value\":0.7},\"fill_color\":{\"value\":\"#377eb8\"},\"line_alpha\":{\"value\":0.7},\"line_color\":{\"value\":\"#377eb8\"},\"x\":{\"field\":\"x\"},\"y\":{\"field\":\"y\"}},\"id\":\"65926db1-755d-4707-8521-64695d02c544\",\"type\":\"Triangle\"},{\"attributes\":{\"callback\":null,\"data\":{\"x\":{\"__ndarray__\":\"Px7zwgnP7L5AckVKoansviJxltFcJOy+6bm+MdiZ6759Sg6bmxXrvozo4WEhm+q+iY3hhQov6r6VM9NcaNfpvkfY2h5OnOm+lABUCnSI6b49hZ0b8KnpvsXrbh34Euq+FGowIQbb6r63BKOIKgvsvhyB8G3fv+q+xTL84G633b4osHVpCLPaPo5X+D8cPP4+z8jZayISET+KW1APKhYgP38jzo3r3is/+G6ScZ/3Nj9TDVs7pHdBP7MAywbOiUY/TkzhAeFjST9cFJReL19LP6lu+Chpskw/v6ioK/QJTT9Wlv6jAxJMP01t5WIDAEk/+BI6RmcKQj8tOYVKzSMmP4GOr1dfXTa/zskFytGTTr/5VKfqco9bv6IC0LXi7GS/ZIMfsepnar+2M/Yj0cRtvxXuu/cuZHC/tEyOVEIkcb+4/XFJdQRvv+N9Wp7ukGe/uJfJ8wb/Xr9C/FPqLO5Ov+BNK2P6YwW/0d7fpMbISj+4N9OOqLpaP7ZlalmRrWM/JLnwghekaT+4zhoXaT1vPxsYcg3wO3I//NfmfPmodD/PXk+WR+d2P5RIqeN0+3g/dzzcQJDrej8mf3w1A718Px6V+xrSc34/iUhhn38JgD/evkUhbc6AP8rTK0GciYE/fv8MjSw7gj8rB5iQBuSCP6lvEQcthYM/qf+YzOsehD8K1UeMELGEP8WO569nOoU/rMtw1ry3hT+z7StExCOGP+oUmtoIeoY/nfPhxh67hj8G+ILXreyGP6e/xEMLFYc/jzCL11w4hz/9nFw1yliHPzSf25pgd4c/\",\"dtype\":\"float64\",\"shape\":[75]},\"y\":{\"__ndarray__\":\"GhExyth1ND/Sv8nbtpRIP2vylNV0PVE/aTum7souWD/At0SJ8fVgPw3Iuahxymc/MSNhhJWvcD/bTfBN02d3P2zb5nxnaoA/CD5h5MAGhz8NmeH1TyaQP+zrCsc9p5Y/LbKd76fGnz/bLW5ISEmmPww9YvTcQq8/JV2OstnstT8Er5Y7M8G+P0c+r3jqkcU/5h99k6ZBzj88bCIzFzjVP4enV8oyxN0//yH99nXg5D8qOpLLf0jtP5kqGJXUifQ/c9cS8kHP/D+/DpwzojQEQIEmwoanVwxA4lgXt9HgE0BSSZ2AJuIbQAMJih9jjiNA5q4l5INuK0AwTKYKRj0zQNv5fmq8/DpAaCJseHrtQkB/+zpwzoxKQM3MzMzMeFJAZmZmZmZqWEAAAAAAAFxeQM3MzMzMJmJAmpmZmZkfZUBmZmZmZhhoQDMzMzMzEWtAAAAAAAAKbkBmZmZmZoFwQM3MzMzM/XFAMzMzMzN6c0CamZmZmfZ0QAAAAAAAc3ZAZmZmZmbvd0DNzMzMzGt5QDMzMzMz6HpAmpmZmZlkfEAAAAAAAOF9QGZmZmZmXX9AZmZmZuZsgECamZmZGSuBQM3MzMxM6YFAAAAAAICngkAzMzMzs2WDQGZmZmbmI4RAmpmZmRnihEDNzMzMTKCFQAAAAACAXoZAMzMzM7Mch0BmZmZm5tqHQJqZmZkZmYhAzczMzExXiUAAAAAAgBWKQDMzMzOz04pAZmZmZuaRi0CamZmZGVCMQM3MzMxMDo1AAAAAAIDMjUAzMzMzs4qOQGZmZmbmSI9A\",\"dtype\":\"float64\",\"shape\":[75]}},\"selected\":{\"id\":\"a80e39d2-e0d6-4c2f-a888-12cc76a0b2d8\",\"type\":\"Selection\"},\"selection_policy\":{\"id\":\"47f31150-4f9a-41f5-80a9-1d5a281b7ce9\",\"type\":\"UnionRenderers\"}},\"id\":\"78499004-5d09-416c-9b5e-efd5ee798165\",\"type\":\"ColumnDataSource\"},{\"attributes\":{\"source\":{\"id\":\"4f4dc4fe-bb3a-4250-8933-6ee01e32e955\",\"type\":\"ColumnDataSource\"}},\"id\":\"432d4889-dfd7-4943-b15d-73cd718f06dd\",\"type\":\"CDSView\"},{\"attributes\":{\"fill_alpha\":{\"value\":0.7},\"fill_color\":{\"value\":\"#984ea3\"},\"line_alpha\":{\"value\":0.7},\"line_color\":{\"value\":\"#984ea3\"},\"x\":{\"field\":\"x\"},\"y\":{\"field\":\"y\"}},\"id\":\"fb626537-fc08-4b39-8bea-cd5cc23a74d3\",\"type\":\"Square\"},{\"attributes\":{\"fill_alpha\":{\"value\":0.1},\"fill_color\":{\"value\":\"#1f77b4\"},\"line_alpha\":{\"value\":0.1},\"line_color\":{\"value\":\"#1f77b4\"},\"x\":{\"field\":\"x\"},\"y\":{\"field\":\"y\"}},\"id\":\"553eb3a8-d2d9-4f37-bd32-1062f6a9da8a\",\"type\":\"Triangle\"},{\"attributes\":{\"line_alpha\":0.3,\"line_color\":\"#377eb8\",\"line_width\":2,\"x\":{\"field\":\"x\"},\"y\":{\"field\":\"y\"}},\"id\":\"8d2562af-cae2-41d0-a97e-a4e227f2cefb\",\"type\":\"Line\"},{\"attributes\":{\"children\":[{\"id\":\"e8ba2796-ecff-41f3-8757-109253f5537e\",\"type\":\"Row\"}]},\"id\":\"59c64787-941a-4751-acd1-1e72ba865371\",\"type\":\"Column\"},{\"attributes\":{\"data_source\":{\"id\":\"4f4dc4fe-bb3a-4250-8933-6ee01e32e955\",\"type\":\"ColumnDataSource\"},\"glyph\":{\"id\":\"65926db1-755d-4707-8521-64695d02c544\",\"type\":\"Triangle\"},\"hover_glyph\":null,\"muted_glyph\":null,\"nonselection_glyph\":{\"id\":\"553eb3a8-d2d9-4f37-bd32-1062f6a9da8a\",\"type\":\"Triangle\"},\"selection_glyph\":null,\"view\":{\"id\":\"432d4889-dfd7-4943-b15d-73cd718f06dd\",\"type\":\"CDSView\"}},\"id\":\"ee675df4-0cf5-4aef-b81e-f23da3e10d66\",\"type\":\"GlyphRenderer\"},{\"attributes\":{\"data_source\":{\"id\":\"78499004-5d09-416c-9b5e-efd5ee798165\",\"type\":\"ColumnDataSource\"},\"glyph\":{\"id\":\"8d2562af-cae2-41d0-a97e-a4e227f2cefb\",\"type\":\"Line\"},\"hover_glyph\":null,\"muted_glyph\":null,\"nonselection_glyph\":{\"id\":\"9a1d7d46-1107-4a65-a094-40c195240fd5\",\"type\":\"Line\"},\"selection_glyph\":null,\"view\":{\"id\":\"7c22c79c-23a4-4ed9-826a-d2ba0cd4d6d9\",\"type\":\"CDSView\"}},\"id\":\"4c09441d-5f3f-46a3-b2ef-46d47f2bc559\",\"type\":\"GlyphRenderer\"},{\"attributes\":{\"source\":{\"id\":\"78499004-5d09-416c-9b5e-efd5ee798165\",\"type\":\"ColumnDataSource\"}},\"id\":\"7c22c79c-23a4-4ed9-826a-d2ba0cd4d6d9\",\"type\":\"CDSView\"},{\"attributes\":{\"plot\":null,\"text\":\"\"},\"id\":\"f2799839-ba78-4759-a38c-d0c8c31d7e22\",\"type\":\"Title\"},{\"attributes\":{\"children\":[{\"id\":\"09c69298-e1f3-4222-9f4b-4b7a4a122d4b\",\"subtype\":\"Figure\",\"type\":\"Plot\"},{\"id\":\"cb345b15-8032-459b-bd51-1151a6af0df6\",\"subtype\":\"Figure\",\"type\":\"Plot\"}]},\"id\":\"e8ba2796-ecff-41f3-8757-109253f5537e\",\"type\":\"Row\"},{\"attributes\":{\"label\":{\"value\":\"CRD\"},\"renderers\":[{\"id\":\"9ea37403-6ea8-4f1b-a9f8-b1030fede422\",\"type\":\"GlyphRenderer\"},{\"id\":\"d453a922-1dac-4a77-a1e9-563bf6435fbb\",\"type\":\"GlyphRenderer\"}]},\"id\":\"d3a70700-efe1-47d5-9872-a354679a7b97\",\"type\":\"LegendItem\"},{\"attributes\":{\"label\":{\"value\":\"WGT igg=1\"},\"renderers\":[{\"id\":\"b74ae8a5-1e28-4fb4-b20c-c5639135ddbe\",\"type\":\"GlyphRenderer\"},{\"id\":\"5d861667-a18f-40c4-ae29-5a05381fc077\",\"type\":\"GlyphRenderer\"}]},\"id\":\"6c87534f-3e60-41a1-8f61-44326211f0b6\",\"type\":\"LegendItem\"},{\"attributes\":{},\"id\":\"74cae094-98c7-41fd-8c7f-6109efd09724\",\"type\":\"BasicTickFormatter\"},{\"attributes\":{\"line_alpha\":0.6,\"line_color\":\"#984ea3\",\"line_width\":3,\"x\":{\"field\":\"x\"},\"y\":{\"field\":\"y\"}},\"id\":\"c05a3c06-85a9-47d2-8880-172a5dc6c136\",\"type\":\"Line\"},{\"attributes\":{},\"id\":\"9e7f3709-92ab-4366-a07c-57724d787a35\",\"type\":\"Selection\"},{\"attributes\":{\"callback\":null,\"data\":{\"x\":{\"__ndarray__\":\"Px7zwgnP7L5AckVKoansviJxltFcJOy+6bm+MdiZ6759Sg6bmxXrvozo4WEhm+q+iY3hhQov6r6VM9NcaNfpvkfY2h5OnOm+lABUCnSI6b49hZ0b8KnpvsXrbh34Euq+FGowIQbb6r63BKOIKgvsvhyB8G3fv+q+xTL84G633b4osHVpCLPaPo5X+D8cPP4+z8jZayISET+KW1APKhYgP38jzo3r3is/+G6ScZ/3Nj9TDVs7pHdBP7MAywbOiUY/TkzhAeFjST9cFJReL19LP6lu+Chpskw/v6ioK/QJTT9Wlv6jAxJMP01t5WIDAEk/+BI6RmcKQj8tOYVKzSMmP4GOr1dfXTa/zskFytGTTr/5VKfqco9bv6IC0LXi7GS/ZIMfsepnar+2M/Yj0cRtvxXuu/cuZHC/tEyOVEIkcb+4/XFJdQRvv+N9Wp7ukGe/uJfJ8wb/Xr9C/FPqLO5Ov+BNK2P6YwW/0d7fpMbISj+4N9OOqLpaP7ZlalmRrWM/JLnwghekaT+4zhoXaT1vPxsYcg3wO3I//NfmfPmodD/PXk+WR+d2P5RIqeN0+3g/dzzcQJDrej8mf3w1A718Px6V+xrSc34/iUhhn38JgD/evkUhbc6AP8rTK0GciYE/fv8MjSw7gj8rB5iQBuSCP6lvEQcthYM/qf+YzOsehD8K1UeMELGEP8WO569nOoU/rMtw1ry3hT+z7StExCOGP+oUmtoIeoY/nfPhxh67hj8G+ILXreyGP6e/xEMLFYc/jzCL11w4hz/9nFw1yliHPzSf25pgd4c/\",\"dtype\":\"float64\",\"shape\":[75]},\"y\":{\"__ndarray__\":\"GhExyth1ND/Sv8nbtpRIP2vylNV0PVE/aTum7souWD/At0SJ8fVgPw3Iuahxymc/MSNhhJWvcD/bTfBN02d3P2zb5nxnaoA/CD5h5MAGhz8NmeH1TyaQP+zrCsc9p5Y/LbKd76fGnz/bLW5ISEmmPww9YvTcQq8/JV2OstnstT8Er5Y7M8G+P0c+r3jqkcU/5h99k6ZBzj88bCIzFzjVP4enV8oyxN0//yH99nXg5D8qOpLLf0jtP5kqGJXUifQ/c9cS8kHP/D+/DpwzojQEQIEmwoanVwxA4lgXt9HgE0BSSZ2AJuIbQAMJih9jjiNA5q4l5INuK0AwTKYKRj0zQNv5fmq8/DpAaCJseHrtQkB/+zpwzoxKQM3MzMzMeFJAZmZmZmZqWEAAAAAAAFxeQM3MzMzMJmJAmpmZmZkfZUBmZmZmZhhoQDMzMzMzEWtAAAAAAAAKbkBmZmZmZoFwQM3MzMzM/XFAMzMzMzN6c0CamZmZmfZ0QAAAAAAAc3ZAZmZmZmbvd0DNzMzMzGt5QDMzMzMz6HpAmpmZmZlkfEAAAAAAAOF9QGZmZmZmXX9AZmZmZuZsgECamZmZGSuBQM3MzMxM6YFAAAAAAICngkAzMzMzs2WDQGZmZmbmI4RAmpmZmRnihEDNzMzMTKCFQAAAAACAXoZAMzMzM7Mch0BmZmZm5tqHQJqZmZkZmYhAzczMzExXiUAAAAAAgBWKQDMzMzOz04pAZmZmZuaRi0CamZmZGVCMQM3MzMxMDo1AAAAAAIDMjUAzMzMzs4qOQGZmZmbmSI9A\",\"dtype\":\"float64\",\"shape\":[75]}},\"selected\":{\"id\":\"cf3f8bdc-8436-406e-bd90-9a1f504900c3\",\"type\":\"Selection\"},\"selection_policy\":{\"id\":\"12ca9406-b492-4c82-ae26-f7be53dd94d1\",\"type\":\"UnionRenderers\"}},\"id\":\"feca8017-5ef8-4b42-8f79-487b696fd92e\",\"type\":\"ColumnDataSource\"},{\"attributes\":{\"label\":{\"value\":\"WGT igg=10\"},\"renderers\":[{\"id\":\"ee675df4-0cf5-4aef-b81e-f23da3e10d66\",\"type\":\"GlyphRenderer\"},{\"id\":\"4c09441d-5f3f-46a3-b2ef-46d47f2bc559\",\"type\":\"GlyphRenderer\"}]},\"id\":\"12ac766f-222c-4937-a9f9-79e810d10924\",\"type\":\"LegendItem\"},{\"attributes\":{},\"id\":\"5d0c6c73-8275-46e8-bf16-458b467ebf54\",\"type\":\"UnionRenderers\"},{\"attributes\":{},\"id\":\"7fa54d91-818a-48a5-aea2-30fcebdbf193\",\"type\":\"BasicTickFormatter\"},{\"attributes\":{},\"id\":\"bd32157e-326e-49ce-a7c9-61c49bddcfe0\",\"type\":\"BasicTickFormatter\"},{\"attributes\":{},\"id\":\"6e3394a6-b680-4199-9b18-3419a13341a2\",\"type\":\"Selection\"},{\"attributes\":{\"ticker\":null},\"id\":\"3d2a3c62-16ea-4dd4-91ac-078a2acf85dc\",\"type\":\"LogTickFormatter\"},{\"attributes\":{},\"id\":\"90246828-b28c-4d4b-a323-e6bc8fe86f04\",\"type\":\"Selection\"},{\"attributes\":{\"line_alpha\":0.1,\"line_color\":\"#1f77b4\",\"line_width\":3,\"x\":{\"field\":\"x\"},\"y\":{\"field\":\"y\"}},\"id\":\"9af7f36e-b261-42da-b62e-5a3d14d09795\",\"type\":\"Line\"},{\"attributes\":{},\"id\":\"045a34e3-159e-4ee6-b6d8-a7779ee1a6a6\",\"type\":\"UnionRenderers\"},{\"attributes\":{},\"id\":\"d3acfc9f-9749-49e4-a28f-1319bed73d52\",\"type\":\"Selection\"},{\"attributes\":{\"fill_alpha\":{\"value\":0.1},\"fill_color\":{\"value\":\"#1f77b4\"},\"line_alpha\":{\"value\":0.1},\"line_color\":{\"value\":\"#1f77b4\"},\"x\":{\"field\":\"x\"},\"y\":{\"field\":\"y\"}},\"id\":\"ade237c8-e12f-472f-aaa3-647335c23042\",\"type\":\"Square\"},{\"attributes\":{},\"id\":\"47ec738d-b9ae-4f4c-84bf-cf2686074619\",\"type\":\"UnionRenderers\"},{\"attributes\":{\"data_source\":{\"id\":\"596159fd-e424-43cb-ba8d-9c31312ecb07\",\"type\":\"ColumnDataSource\"},\"glyph\":{\"id\":\"03a2a3bc-4fd5-4377-a04e-d5834190340a\",\"type\":\"Line\"},\"hover_glyph\":null,\"muted_glyph\":null,\"nonselection_glyph\":{\"id\":\"6f491479-628e-4f62-bae5-2500beb30c5e\",\"type\":\"Line\"},\"selection_glyph\":null,\"view\":{\"id\":\"e95d3f17-cbb0-4fb1-b619-ffdfc1722a58\",\"type\":\"CDSView\"}},\"id\":\"d442a820-0102-4251-b209-c76132cdc513\",\"type\":\"GlyphRenderer\"},{\"attributes\":{},\"id\":\"4ad65816-6f3b-4231-8dbb-767cf158d0a6\",\"type\":\"Selection\"},{\"attributes\":{\"data_source\":{\"id\":\"cb578264-842f-452e-9017-aa73f239d1d3\",\"type\":\"ColumnDataSource\"},\"glyph\":{\"id\":\"c05a3c06-85a9-47d2-8880-172a5dc6c136\",\"type\":\"Line\"},\"hover_glyph\":null,\"muted_glyph\":null,\"nonselection_glyph\":{\"id\":\"9af7f36e-b261-42da-b62e-5a3d14d09795\",\"type\":\"Line\"},\"selection_glyph\":null,\"view\":{\"id\":\"5dfc0af0-37c6-4b52-9076-5eb45ef47bca\",\"type\":\"CDSView\"}},\"id\":\"6389f30e-8c61-414f-9ddf-8bd898b6f02b\",\"type\":\"GlyphRenderer\"},{\"attributes\":{\"plot\":null,\"text\":\"\"},\"id\":\"9955b359-9539-41ad-ab31-f43e2433afe3\",\"type\":\"Title\"},{\"attributes\":{\"above\":[{\"id\":\"5b1742a9-3ea6-4064-84b6-993f28c13dbc\",\"type\":\"Legend\"}],\"below\":[{\"id\":\"9eec625f-1709-4382-b51e-a424bc372fa7\",\"type\":\"LinearAxis\"}],\"left\":[{\"id\":\"0f0067f5-7095-4ba6-9893-4958d2dbad19\",\"type\":\"LogAxis\"}],\"plot_height\":500,\"plot_width\":400,\"renderers\":[{\"id\":\"9eec625f-1709-4382-b51e-a424bc372fa7\",\"type\":\"LinearAxis\"},{\"id\":\"3ae24ec1-e769-4d6d-b55c-c94f5b316555\",\"type\":\"Grid\"},{\"id\":\"0f0067f5-7095-4ba6-9893-4958d2dbad19\",\"type\":\"LogAxis\"},{\"id\":\"4f9e96fe-0488-4d0a-bbf9-adddaa5e1a85\",\"type\":\"Grid\"},{\"id\":\"f088f45f-b04e-4815-8ab9-baebe539edee\",\"type\":\"BoxAnnotation\"},{\"id\":\"9ea37403-6ea8-4f1b-a9f8-b1030fede422\",\"type\":\"GlyphRenderer\"},{\"id\":\"d453a922-1dac-4a77-a1e9-563bf6435fbb\",\"type\":\"GlyphRenderer\"},{\"id\":\"b74ae8a5-1e28-4fb4-b20c-c5639135ddbe\",\"type\":\"GlyphRenderer\"},{\"id\":\"5d861667-a18f-40c4-ae29-5a05381fc077\",\"type\":\"GlyphRenderer\"},{\"id\":\"ee675df4-0cf5-4aef-b81e-f23da3e10d66\",\"type\":\"GlyphRenderer\"},{\"id\":\"4c09441d-5f3f-46a3-b2ef-46d47f2bc559\",\"type\":\"GlyphRenderer\"},{\"id\":\"5b1742a9-3ea6-4064-84b6-993f28c13dbc\",\"type\":\"Legend\"}],\"title\":{\"id\":\"9955b359-9539-41ad-ab31-f43e2433afe3\",\"type\":\"Title\"},\"toolbar\":{\"id\":\"75588dd3-351c-4053-be13-6848e4c990cf\",\"type\":\"Toolbar\"},\"toolbar_location\":null,\"x_range\":{\"id\":\"23a6241f-11bc-44b5-999d-d52da08c6a0b\",\"type\":\"Range1d\"},\"x_scale\":{\"id\":\"604e3c80-798b-4929-869c-e0159f164cd6\",\"type\":\"LinearScale\"},\"y_range\":{\"id\":\"31b8f2c3-bbd6-4e45-804f-5995203835bb\",\"type\":\"Range1d\"},\"y_scale\":{\"id\":\"1e1469df-403d-4cdd-9346-723478b20c30\",\"type\":\"LogScale\"}},\"id\":\"cb345b15-8032-459b-bd51-1151a6af0df6\",\"subtype\":\"Figure\",\"type\":\"Plot\"},{\"attributes\":{},\"id\":\"6c3d19c7-92da-42b8-b5b3-d8ba559521bf\",\"type\":\"Selection\"},{\"attributes\":{\"fill_alpha\":{\"value\":0.7},\"fill_color\":{\"value\":\"#984ea3\"},\"line_alpha\":{\"value\":0.7},\"line_color\":{\"value\":\"#984ea3\"},\"x\":{\"field\":\"x\"},\"y\":{\"field\":\"y\"}},\"id\":\"604a6548-da45-42e5-a452-cda968eb5fb5\",\"type\":\"Square\"},{\"attributes\":{},\"id\":\"4314699a-c60c-4a20-bd49-93ebd50b28f4\",\"type\":\"UnionRenderers\"},{\"attributes\":{\"source\":{\"id\":\"596159fd-e424-43cb-ba8d-9c31312ecb07\",\"type\":\"ColumnDataSource\"}},\"id\":\"e95d3f17-cbb0-4fb1-b619-ffdfc1722a58\",\"type\":\"CDSView\"},{\"attributes\":{},\"id\":\"7a1c5983-6bcc-4f1b-ac62-d5c080363c26\",\"type\":\"UnionRenderers\"},{\"attributes\":{},\"id\":\"79b1ef11-21eb-46d3-ad6a-827d48b9c441\",\"type\":\"Selection\"},{\"attributes\":{},\"id\":\"a80e39d2-e0d6-4c2f-a888-12cc76a0b2d8\",\"type\":\"Selection\"},{\"attributes\":{},\"id\":\"60f3c489-e0bb-4054-8497-84710a7860dc\",\"type\":\"Selection\"},{\"attributes\":{\"line_alpha\":0.3,\"line_color\":\"#377eb8\",\"line_width\":2,\"x\":{\"field\":\"x\"},\"y\":{\"field\":\"y\"}},\"id\":\"3bffad09-ae2e-4e23-8841-888420c9717a\",\"type\":\"Line\"},{\"attributes\":{},\"id\":\"e2f5ae38-4ebc-473a-bd21-d34d0d505842\",\"type\":\"UnionRenderers\"},{\"attributes\":{},\"id\":\"cf35d695-2393-4901-93bf-cfa2eb8cf78c\",\"type\":\"UnionRenderers\"},{\"attributes\":{\"toolbar\":{\"id\":\"ca9792e1-d2cb-4b87-8820-1c6e0fb875c1\",\"type\":\"ProxyToolbar\"},\"toolbar_location\":\"above\"},\"id\":\"e83848fe-d8e5-48e7-9e72-907cb7dbfdb7\",\"type\":\"ToolbarBox\"},{\"attributes\":{\"callback\":null,\"data\":{\"x\":{\"__ndarray__\":\"9N+k0luf5b7NrqSHnFjlvvUAHBQ2mOS+j5q4UYnL476ZdSO9xf/ivkqQSxnMNuK+VcLETaBy4b4vlKgZybXgvkbzXec8A+C+KLygbeu83r7h3zOfeJbdvtselW8wmty+uFNS2E7N2749UmHSGvvaviZgzIy3Z9K+S0CLU/yy0j5p/8nKaKf4PqdZY/8tfQw/v0oiliH/Gj+l5SA8fnAnP7PDVfWnXTM/8Raqgaz0Pj/9fhc6QCNHP21GndwL0k0/RkmFvmYDUT93wglUGL5SP48KDnnMQ1Q/xvW2dGhzVT8flf0b/S1WP9s/Agd8E1Y/R/i18q0vVD+DW1YRhh9PP9OUCClpN0A/bpiYrWlNBL/KMohdrvtJv9jvJpQO6ly/7SvEaDMVZb89MtzUzp1pvy1/l/hwAG6/gFbNrThncL+hcYrSSg9uv2qQx+myc2a/9qm23fxtXL+AuiXbN3VJv34bLcoWkCA/xVIGNcnqTz+EWMho1RFdPy7LAJwKtGQ/iecUt518aj8/xREliuJvP1s6L6VYdHI/wo0TZF3DdD9sx82j9OJ2P8bkbaIf2Hg/z3fZLnKoej8zll4TwVx8PxrvWeMk930/04Wg98J8fz/aIVRiBHiAP1GNaltMKIE/sLIWnErRgT8jO08x0HKCP3dg6Y3tDYM/dyJVlAqjgz+I4fsHPjKEP6RHfLzKuYQ/6CtaFtI1hT9mkNSl85+FP0M8iT3x8oU/YZoS3lgvhj8mPD6t5FuGP9QX1zL4f4Y/z62T16Oghj/o8AkMa8CGP7ozSP624IY/\",\"dtype\":\"float64\",\"shape\":[75]},\"y\":{\"__ndarray__\":\"GhExyth1ND/Sv8nbtpRIP2vylNV0PVE/aTum7souWD/At0SJ8fVgPw3Iuahxymc/MSNhhJWvcD/bTfBN02d3P2zb5nxnaoA/CD5h5MAGhz8NmeH1TyaQP+zrCsc9p5Y/LbKd76fGnz/bLW5ISEmmPww9YvTcQq8/JV2OstnstT8Er5Y7M8G+P0c+r3jqkcU/5h99k6ZBzj88bCIzFzjVP4enV8oyxN0//yH99nXg5D8qOpLLf0jtP5kqGJXUifQ/c9cS8kHP/D+/DpwzojQEQIEmwoanVwxA4lgXt9HgE0BSSZ2AJuIbQAMJih9jjiNA5q4l5INuK0AwTKYKRj0zQNv5fmq8/DpAaCJseHrtQkB/+zpwzoxKQM3MzMzMeFJAZmZmZmZqWEAAAAAAAFxeQM3MzMzMJmJAmpmZmZkfZUBmZmZmZhhoQDMzMzMzEWtAAAAAAAAKbkBmZmZmZoFwQM3MzMzM/XFAMzMzMzN6c0CamZmZmfZ0QAAAAAAAc3ZAZmZmZmbvd0DNzMzMzGt5QDMzMzMz6HpAmpmZmZlkfEAAAAAAAOF9QGZmZmZmXX9AZmZmZuZsgECamZmZGSuBQM3MzMxM6YFAAAAAAICngkAzMzMzs2WDQGZmZmbmI4RAmpmZmRnihEDNzMzMTKCFQAAAAACAXoZAMzMzM7Mch0BmZmZm5tqHQJqZmZkZmYhAzczMzExXiUAAAAAAgBWKQDMzMzOz04pAZmZmZuaRi0CamZmZGVCMQM3MzMxMDo1AAAAAAIDMjUAzMzMzs4qOQGZmZmbmSI9A\",\"dtype\":\"float64\",\"shape\":[75]}},\"selected\":{\"id\":\"88bf7af1-0c84-4e9f-8578-bf07bb1fc5d6\",\"type\":\"Selection\"},\"selection_policy\":{\"id\":\"0e3da887-d556-4d14-a614-242fe72cea39\",\"type\":\"UnionRenderers\"}},\"id\":\"5fbf231c-cdfa-47d7-8a8a-d6c27f9a5c4b\",\"type\":\"ColumnDataSource\"},{\"attributes\":{\"callback\":null,\"data\":{\"x\":{\"__ndarray__\":\"Px7zwgnP7L5AckVKoansviJxltFcJOy+6bm+MdiZ6759Sg6bmxXrvozo4WEhm+q+iY3hhQov6r6VM9NcaNfpvkfY2h5OnOm+lABUCnSI6b49hZ0b8KnpvsXrbh34Euq+FGowIQbb6r63BKOIKgvsvhyB8G3fv+q+xTL84G633b4osHVpCLPaPo5X+D8cPP4+z8jZayISET+KW1APKhYgP38jzo3r3is/+G6ScZ/3Nj9TDVs7pHdBP7MAywbOiUY/TkzhAeFjST9cFJReL19LP6lu+Chpskw/v6ioK/QJTT9Wlv6jAxJMP01t5WIDAEk/+BI6RmcKQj8tOYVKzSMmP4GOr1dfXTa/zskFytGTTr/5VKfqco9bv6IC0LXi7GS/ZIMfsepnar+2M/Yj0cRtvxXuu/cuZHC/tEyOVEIkcb+4/XFJdQRvv+N9Wp7ukGe/uJfJ8wb/Xr9C/FPqLO5Ov+BNK2P6YwW/0d7fpMbISj+4N9OOqLpaP7ZlalmRrWM/JLnwghekaT+4zhoXaT1vPxsYcg3wO3I//NfmfPmodD/PXk+WR+d2P5RIqeN0+3g/dzzcQJDrej8mf3w1A718Px6V+xrSc34/iUhhn38JgD/evkUhbc6AP8rTK0GciYE/fv8MjSw7gj8rB5iQBuSCP6lvEQcthYM/qf+YzOsehD8K1UeMELGEP8WO569nOoU/rMtw1ry3hT+z7StExCOGP+oUmtoIeoY/nfPhxh67hj8G+ILXreyGP6e/xEMLFYc/jzCL11w4hz/9nFw1yliHPzSf25pgd4c/\",\"dtype\":\"float64\",\"shape\":[75]},\"y\":{\"__ndarray__\":\"GhExyth1ND/Sv8nbtpRIP2vylNV0PVE/aTum7souWD/At0SJ8fVgPw3Iuahxymc/MSNhhJWvcD/bTfBN02d3P2zb5nxnaoA/CD5h5MAGhz8NmeH1TyaQP+zrCsc9p5Y/LbKd76fGnz/bLW5ISEmmPww9YvTcQq8/JV2OstnstT8Er5Y7M8G+P0c+r3jqkcU/5h99k6ZBzj88bCIzFzjVP4enV8oyxN0//yH99nXg5D8qOpLLf0jtP5kqGJXUifQ/c9cS8kHP/D+/DpwzojQEQIEmwoanVwxA4lgXt9HgE0BSSZ2AJuIbQAMJih9jjiNA5q4l5INuK0AwTKYKRj0zQNv5fmq8/DpAaCJseHrtQkB/+zpwzoxKQM3MzMzMeFJAZmZmZmZqWEAAAAAAAFxeQM3MzMzMJmJAmpmZmZkfZUBmZmZmZhhoQDMzMzMzEWtAAAAAAAAKbkBmZmZmZoFwQM3MzMzM/XFAMzMzMzN6c0CamZmZmfZ0QAAAAAAAc3ZAZmZmZmbvd0DNzMzMzGt5QDMzMzMz6HpAmpmZmZlkfEAAAAAAAOF9QGZmZmZmXX9AZmZmZuZsgECamZmZGSuBQM3MzMxM6YFAAAAAAICngkAzMzMzs2WDQGZmZmbmI4RAmpmZmRnihEDNzMzMTKCFQAAAAACAXoZAMzMzM7Mch0BmZmZm5tqHQJqZmZkZmYhAzczMzExXiUAAAAAAgBWKQDMzMzOz04pAZmZmZuaRi0CamZmZGVCMQM3MzMxMDo1AAAAAAIDMjUAzMzMzs4qOQGZmZmbmSI9A\",\"dtype\":\"float64\",\"shape\":[75]}},\"selected\":{\"id\":\"90246828-b28c-4d4b-a323-e6bc8fe86f04\",\"type\":\"Selection\"},\"selection_policy\":{\"id\":\"045a34e3-159e-4ee6-b6d8-a7779ee1a6a6\",\"type\":\"UnionRenderers\"}},\"id\":\"631a6959-16bf-4de6-887c-8de05b54b8a1\",\"type\":\"ColumnDataSource\"},{\"attributes\":{},\"id\":\"d86334d7-86e4-430d-82c1-58d12e0ed3c5\",\"type\":\"UnionRenderers\"},{\"attributes\":{\"children\":[{\"id\":\"e83848fe-d8e5-48e7-9e72-907cb7dbfdb7\",\"type\":\"ToolbarBox\"},{\"id\":\"59c64787-941a-4751-acd1-1e72ba865371\",\"type\":\"Column\"}]},\"id\":\"65c8e44e-ca9f-4419-8f7d-41e6e09c5456\",\"type\":\"Column\"},{\"attributes\":{\"callback\":null,\"data\":{\"x\":{\"__ndarray__\":\"9N+k0luf5b7NrqSHnFjlvvUAHBQ2mOS+j5q4UYnL476ZdSO9xf/ivkqQSxnMNuK+VcLETaBy4b4vlKgZybXgvkbzXec8A+C+KLygbeu83r7h3zOfeJbdvtselW8wmty+uFNS2E7N2749UmHSGvvaviZgzIy3Z9K+S0CLU/yy0j5p/8nKaKf4PqdZY/8tfQw/v0oiliH/Gj+l5SA8fnAnP7PDVfWnXTM/8Raqgaz0Pj/9fhc6QCNHP21GndwL0k0/RkmFvmYDUT93wglUGL5SP48KDnnMQ1Q/xvW2dGhzVT8flf0b/S1WP9s/Agd8E1Y/R/i18q0vVD+DW1YRhh9PP9OUCClpN0A/bpiYrWlNBL/KMohdrvtJv9jvJpQO6ly/7SvEaDMVZb89MtzUzp1pvy1/l/hwAG6/gFbNrThncL+hcYrSSg9uv2qQx+myc2a/9qm23fxtXL+AuiXbN3VJv34bLcoWkCA/xVIGNcnqTz+EWMho1RFdPy7LAJwKtGQ/iecUt518aj8/xREliuJvP1s6L6VYdHI/wo0TZF3DdD9sx82j9OJ2P8bkbaIf2Hg/z3fZLnKoej8zll4TwVx8PxrvWeMk930/04Wg98J8fz/aIVRiBHiAP1GNaltMKIE/sLIWnErRgT8jO08x0HKCP3dg6Y3tDYM/dyJVlAqjgz+I4fsHPjKEP6RHfLzKuYQ/6CtaFtI1hT9mkNSl85+FP0M8iT3x8oU/YZoS3lgvhj8mPD6t5FuGP9QX1zL4f4Y/z62T16Oghj/o8AkMa8CGP7ozSP624IY/\",\"dtype\":\"float64\",\"shape\":[75]},\"y\":{\"__ndarray__\":\"GhExyth1ND/Sv8nbtpRIP2vylNV0PVE/aTum7souWD/At0SJ8fVgPw3Iuahxymc/MSNhhJWvcD/bTfBN02d3P2zb5nxnaoA/CD5h5MAGhz8NmeH1TyaQP+zrCsc9p5Y/LbKd76fGnz/bLW5ISEmmPww9YvTcQq8/JV2OstnstT8Er5Y7M8G+P0c+r3jqkcU/5h99k6ZBzj88bCIzFzjVP4enV8oyxN0//yH99nXg5D8qOpLLf0jtP5kqGJXUifQ/c9cS8kHP/D+/DpwzojQEQIEmwoanVwxA4lgXt9HgE0BSSZ2AJuIbQAMJih9jjiNA5q4l5INuK0AwTKYKRj0zQNv5fmq8/DpAaCJseHrtQkB/+zpwzoxKQM3MzMzMeFJAZmZmZmZqWEAAAAAAAFxeQM3MzMzMJmJAmpmZmZkfZUBmZmZmZhhoQDMzMzMzEWtAAAAAAAAKbkBmZmZmZoFwQM3MzMzM/XFAMzMzMzN6c0CamZmZmfZ0QAAAAAAAc3ZAZmZmZmbvd0DNzMzMzGt5QDMzMzMz6HpAmpmZmZlkfEAAAAAAAOF9QGZmZmZmXX9AZmZmZuZsgECamZmZGSuBQM3MzMxM6YFAAAAAAICngkAzMzMzs2WDQGZmZmbmI4RAmpmZmRnihEDNzMzMTKCFQAAAAACAXoZAMzMzM7Mch0BmZmZm5tqHQJqZmZkZmYhAzczMzExXiUAAAAAAgBWKQDMzMzOz04pAZmZmZuaRi0CamZmZGVCMQM3MzMxMDo1AAAAAAIDMjUAzMzMzs4qOQGZmZmbmSI9A\",\"dtype\":\"float64\",\"shape\":[75]}},\"selected\":{\"id\":\"1a1746d0-0cd3-4365-9672-d2a3ed245fc5\",\"type\":\"Selection\"},\"selection_policy\":{\"id\":\"8a05adc7-631d-4b25-b5ed-ca36d89e27bc\",\"type\":\"UnionRenderers\"}},\"id\":\"cb578264-842f-452e-9017-aa73f239d1d3\",\"type\":\"ColumnDataSource\"},{\"attributes\":{\"line_alpha\":0.1,\"line_color\":\"#1f77b4\",\"line_width\":1.5,\"x\":{\"field\":\"x\"},\"y\":{\"field\":\"y\"}},\"id\":\"6f491479-628e-4f62-bae5-2500beb30c5e\",\"type\":\"Line\"},{\"attributes\":{},\"id\":\"47f31150-4f9a-41f5-80a9-1d5a281b7ce9\",\"type\":\"UnionRenderers\"},{\"attributes\":{\"data_source\":{\"id\":\"feca8017-5ef8-4b42-8f79-487b696fd92e\",\"type\":\"ColumnDataSource\"},\"glyph\":{\"id\":\"8b8138ae-febb-4cef-af7b-785eabe41d57\",\"type\":\"Triangle\"},\"hover_glyph\":null,\"muted_glyph\":null,\"nonselection_glyph\":{\"id\":\"c6eeaddd-be9d-4a42-a407-7db88d3148fe\",\"type\":\"Triangle\"},\"selection_glyph\":null,\"view\":{\"id\":\"c382b7b0-7820-49aa-ac2b-2c5727cd706d\",\"type\":\"CDSView\"}},\"id\":\"bdd2092b-caee-41e8-8c03-2aae0511f67f\",\"type\":\"GlyphRenderer\"},{\"attributes\":{\"tools\":[{\"id\":\"cfa750a5-3757-46c4-bb93-195592e778b0\",\"type\":\"PanTool\"},{\"id\":\"f0f20842-9e45-4a4c-a306-d58275dbd6c9\",\"type\":\"WheelZoomTool\"},{\"id\":\"5bfd13fc-03c5-4d2a-9445-f4f27e425b97\",\"type\":\"BoxZoomTool\"},{\"id\":\"c935bb8a-aa62-48da-bcfb-22299833214d\",\"type\":\"SaveTool\"},{\"id\":\"3a669fea-df07-4731-bfcb-996b45a11f9b\",\"type\":\"ResetTool\"},{\"id\":\"104eec3e-4954-4d98-9d77-a751828f02a4\",\"type\":\"HelpTool\"},{\"id\":\"91f4a28d-9df6-4fa5-9291-4082fb43bb61\",\"type\":\"PanTool\"},{\"id\":\"7d2d5f05-de6b-47a4-9cc4-0168daa517fd\",\"type\":\"WheelZoomTool\"},{\"id\":\"84a6c388-f967-4803-a3d6-302b5851f445\",\"type\":\"BoxZoomTool\"},{\"id\":\"0c7ac1aa-b33a-4e62-bd92-e73b41a74a02\",\"type\":\"SaveTool\"},{\"id\":\"31165171-6ae5-43b0-8cf5-6b3b1376358b\",\"type\":\"ResetTool\"},{\"id\":\"43ffdf96-9d95-4064-a307-8b68810570c9\",\"type\":\"HelpTool\"}]},\"id\":\"ca9792e1-d2cb-4b87-8820-1c6e0fb875c1\",\"type\":\"ProxyToolbar\"},{\"attributes\":{\"fill_alpha\":{\"value\":0.7},\"fill_color\":{\"value\":\"#377eb8\"},\"line_alpha\":{\"value\":0.7},\"line_color\":{\"value\":\"#377eb8\"},\"x\":{\"field\":\"x\"},\"y\":{\"field\":\"y\"}},\"id\":\"8b8138ae-febb-4cef-af7b-785eabe41d57\",\"type\":\"Triangle\"},{\"attributes\":{\"source\":{\"id\":\"feca8017-5ef8-4b42-8f79-487b696fd92e\",\"type\":\"ColumnDataSource\"}},\"id\":\"c382b7b0-7820-49aa-ac2b-2c5727cd706d\",\"type\":\"CDSView\"},{\"attributes\":{\"data_source\":{\"id\":\"631a6959-16bf-4de6-887c-8de05b54b8a1\",\"type\":\"ColumnDataSource\"},\"glyph\":{\"id\":\"3bffad09-ae2e-4e23-8841-888420c9717a\",\"type\":\"Line\"},\"hover_glyph\":null,\"muted_glyph\":null,\"nonselection_glyph\":{\"id\":\"2aeeb7a4-63eb-4cdb-99ef-f994a82068be\",\"type\":\"Line\"},\"selection_glyph\":null,\"view\":{\"id\":\"6c13b16f-88dc-4319-9b42-a65f57ed30af\",\"type\":\"CDSView\"}},\"id\":\"eb2352a4-b8cc-435d-acd0-836b8e1f915d\",\"type\":\"GlyphRenderer\"},{\"attributes\":{\"fill_alpha\":{\"value\":0.7},\"fill_color\":{\"value\":\"#4daf4a\"},\"line_alpha\":{\"value\":0.7},\"line_color\":{\"value\":\"#4daf4a\"},\"x\":{\"field\":\"x\"},\"y\":{\"field\":\"y\"}},\"id\":\"926af5a9-a3e8-42b2-951c-df3bb36db8a4\",\"type\":\"Circle\"},{\"attributes\":{\"fill_alpha\":{\"value\":0.1},\"fill_color\":{\"value\":\"#1f77b4\"},\"line_alpha\":{\"value\":0.1},\"line_color\":{\"value\":\"#1f77b4\"},\"x\":{\"field\":\"x\"},\"y\":{\"field\":\"y\"}},\"id\":\"c6eeaddd-be9d-4a42-a407-7db88d3148fe\",\"type\":\"Triangle\"},{\"attributes\":{\"data_source\":{\"id\":\"5fbf231c-cdfa-47d7-8a8a-d6c27f9a5c4b\",\"type\":\"ColumnDataSource\"},\"glyph\":{\"id\":\"604a6548-da45-42e5-a452-cda968eb5fb5\",\"type\":\"Square\"},\"hover_glyph\":null,\"muted_glyph\":null,\"nonselection_glyph\":{\"id\":\"ade237c8-e12f-472f-aaa3-647335c23042\",\"type\":\"Square\"},\"selection_glyph\":null,\"view\":{\"id\":\"980ad26b-bbf3-4974-9dac-004cbbcc867a\",\"type\":\"CDSView\"}},\"id\":\"1367263c-e99b-4ba1-8a64-f7fba538b5a5\",\"type\":\"GlyphRenderer\"},{\"attributes\":{\"source\":{\"id\":\"5fbf231c-cdfa-47d7-8a8a-d6c27f9a5c4b\",\"type\":\"ColumnDataSource\"}},\"id\":\"980ad26b-bbf3-4974-9dac-004cbbcc867a\",\"type\":\"CDSView\"},{\"attributes\":{\"source\":{\"id\":\"cb578264-842f-452e-9017-aa73f239d1d3\",\"type\":\"ColumnDataSource\"}},\"id\":\"5dfc0af0-37c6-4b52-9076-5eb45ef47bca\",\"type\":\"CDSView\"},{\"attributes\":{\"line_alpha\":0.1,\"line_color\":\"#1f77b4\",\"line_width\":2,\"x\":{\"field\":\"x\"},\"y\":{\"field\":\"y\"}},\"id\":\"2aeeb7a4-63eb-4cdb-99ef-f994a82068be\",\"type\":\"Line\"},{\"attributes\":{\"source\":{\"id\":\"631a6959-16bf-4de6-887c-8de05b54b8a1\",\"type\":\"ColumnDataSource\"}},\"id\":\"6c13b16f-88dc-4319-9b42-a65f57ed30af\",\"type\":\"CDSView\"},{\"attributes\":{\"active_drag\":\"auto\",\"active_inspect\":\"auto\",\"active_scroll\":\"auto\",\"active_tap\":\"auto\",\"tools\":[{\"id\":\"91f4a28d-9df6-4fa5-9291-4082fb43bb61\",\"type\":\"PanTool\"},{\"id\":\"7d2d5f05-de6b-47a4-9cc4-0168daa517fd\",\"type\":\"WheelZoomTool\"},{\"id\":\"84a6c388-f967-4803-a3d6-302b5851f445\",\"type\":\"BoxZoomTool\"},{\"id\":\"0c7ac1aa-b33a-4e62-bd92-e73b41a74a02\",\"type\":\"SaveTool\"},{\"id\":\"31165171-6ae5-43b0-8cf5-6b3b1376358b\",\"type\":\"ResetTool\"},{\"id\":\"43ffdf96-9d95-4064-a307-8b68810570c9\",\"type\":\"HelpTool\"}]},\"id\":\"75588dd3-351c-4053-be13-6848e4c990cf\",\"type\":\"Toolbar\"},{\"attributes\":{\"label\":{\"value\":\"CRD\"},\"renderers\":[{\"id\":\"d1000125-3985-4957-9d78-756764dcc491\",\"type\":\"GlyphRenderer\"},{\"id\":\"d442a820-0102-4251-b209-c76132cdc513\",\"type\":\"GlyphRenderer\"}]},\"id\":\"a44c07b9-d819-43bf-b04d-342ff85b8cae\",\"type\":\"LegendItem\"},{\"attributes\":{\"callback\":null,\"end\":0.003337589876,\"start\":-0.0043522182759999995},\"id\":\"23a6241f-11bc-44b5-999d-d52da08c6a0b\",\"type\":\"Range1d\"},{\"attributes\":{\"label\":{\"value\":\"WGT igg=1\"},\"renderers\":[{\"id\":\"1367263c-e99b-4ba1-8a64-f7fba538b5a5\",\"type\":\"GlyphRenderer\"},{\"id\":\"6389f30e-8c61-414f-9ddf-8bd898b6f02b\",\"type\":\"GlyphRenderer\"}]},\"id\":\"6066d0d1-6c57-4c29-8256-0c9233f254d9\",\"type\":\"LegendItem\"},{\"attributes\":{},\"id\":\"604e3c80-798b-4929-869c-e0159f164cd6\",\"type\":\"LinearScale\"},{\"attributes\":{\"label\":{\"value\":\"WGT igg=10\"},\"renderers\":[{\"id\":\"bdd2092b-caee-41e8-8c03-2aae0511f67f\",\"type\":\"GlyphRenderer\"},{\"id\":\"eb2352a4-b8cc-435d-acd0-836b8e1f915d\",\"type\":\"GlyphRenderer\"}]},\"id\":\"64fff039-200a-4d09-a2c6-c1424f88b1c5\",\"type\":\"LegendItem\"},{\"attributes\":{},\"id\":\"7d2d5f05-de6b-47a4-9cc4-0168daa517fd\",\"type\":\"WheelZoomTool\"},{\"attributes\":{\"items\":[{\"id\":\"d3a70700-efe1-47d5-9872-a354679a7b97\",\"type\":\"LegendItem\"},{\"id\":\"6c87534f-3e60-41a1-8f61-44326211f0b6\",\"type\":\"LegendItem\"},{\"id\":\"12ac766f-222c-4937-a9f9-79e810d10924\",\"type\":\"LegendItem\"}],\"label_text_font_size\":{\"value\":\"8pt\"},\"location\":\"top_center\",\"orientation\":\"horizontal\",\"plot\":{\"id\":\"cb345b15-8032-459b-bd51-1151a6af0df6\",\"subtype\":\"Figure\",\"type\":\"Plot\"}},\"id\":\"5b1742a9-3ea6-4064-84b6-993f28c13dbc\",\"type\":\"Legend\"},{\"attributes\":{\"bottom_units\":\"screen\",\"fill_alpha\":{\"value\":0.5},\"fill_color\":{\"value\":\"lightgrey\"},\"left_units\":\"screen\",\"level\":\"overlay\",\"line_alpha\":{\"value\":1.0},\"line_color\":{\"value\":\"black\"},\"line_dash\":[4,4],\"line_width\":{\"value\":2},\"plot\":null,\"render_mode\":\"css\",\"right_units\":\"screen\",\"top_units\":\"screen\"},\"id\":\"f088f45f-b04e-4815-8ab9-baebe539edee\",\"type\":\"BoxAnnotation\"},{\"attributes\":{},\"id\":\"1e1469df-403d-4cdd-9346-723478b20c30\",\"type\":\"LogScale\"},{\"attributes\":{\"fill_alpha\":{\"value\":0.1},\"fill_color\":{\"value\":\"#1f77b4\"},\"line_alpha\":{\"value\":0.1},\"line_color\":{\"value\":\"#1f77b4\"},\"x\":{\"field\":\"x\"},\"y\":{\"field\":\"y\"}},\"id\":\"b99eba4e-c1b5-4684-ad84-8e05ad7c4d57\",\"type\":\"Circle\"},{\"attributes\":{\"axis_label\":\"cooling rate [K/day]\",\"formatter\":{\"id\":\"74cae094-98c7-41fd-8c7f-6109efd09724\",\"type\":\"BasicTickFormatter\"},\"plot\":{\"id\":\"cb345b15-8032-459b-bd51-1151a6af0df6\",\"subtype\":\"Figure\",\"type\":\"Plot\"},\"ticker\":{\"id\":\"21c072e6-c146-44a6-9318-5b234f91249e\",\"type\":\"BasicTicker\"}},\"id\":\"9eec625f-1709-4382-b51e-a424bc372fa7\",\"type\":\"LinearAxis\"},{\"attributes\":{},\"id\":\"91f4a28d-9df6-4fa5-9291-4082fb43bb61\",\"type\":\"PanTool\"},{\"attributes\":{\"overlay\":{\"id\":\"f088f45f-b04e-4815-8ab9-baebe539edee\",\"type\":\"BoxAnnotation\"}},\"id\":\"84a6c388-f967-4803-a3d6-302b5851f445\",\"type\":\"BoxZoomTool\"},{\"attributes\":{},\"id\":\"0c7ac1aa-b33a-4e62-bd92-e73b41a74a02\",\"type\":\"SaveTool\"},{\"attributes\":{},\"id\":\"31165171-6ae5-43b0-8cf5-6b3b1376358b\",\"type\":\"ResetTool\"},{\"attributes\":{},\"id\":\"43ffdf96-9d95-4064-a307-8b68810570c9\",\"type\":\"HelpTool\"},{\"attributes\":{},\"id\":\"cf3f8bdc-8436-406e-bd90-9a1f504900c3\",\"type\":\"Selection\"},{\"attributes\":{},\"id\":\"12ca9406-b492-4c82-ae26-f7be53dd94d1\",\"type\":\"UnionRenderers\"},{\"attributes\":{\"fill_alpha\":{\"value\":0.7},\"fill_color\":{\"value\":\"#4daf4a\"},\"line_alpha\":{\"value\":0.7},\"line_color\":{\"value\":\"#4daf4a\"},\"x\":{\"field\":\"x\"},\"y\":{\"field\":\"y\"}},\"id\":\"bbf8e5a4-5935-478a-915d-4637b7699287\",\"type\":\"Circle\"},{\"attributes\":{\"bottom_units\":\"screen\",\"fill_alpha\":{\"value\":0.5},\"fill_color\":{\"value\":\"lightgrey\"},\"left_units\":\"screen\",\"level\":\"overlay\",\"line_alpha\":{\"value\":1.0},\"line_color\":{\"value\":\"black\"},\"line_dash\":[4,4],\"line_width\":{\"value\":2},\"plot\":null,\"render_mode\":\"css\",\"right_units\":\"screen\",\"top_units\":\"screen\"},\"id\":\"295aafe8-f319-4726-bfee-b2e65380cf79\",\"type\":\"BoxAnnotation\"},{\"attributes\":{\"callback\":null,\"data\":{\"x\":{\"__ndarray__\":\"wZDhVqAE6L6MS5ZJmpbnvi2K+zfGfua+5DXLlD9a5b7ION03AirkvpZtOOo/6+K+JKSEmGGZ4b64wP1Qcy3gvqh6En5EO92+PxsLb2W22b4g+V8p7qDVvqQES2bFutC+GdEWRxZLxb55YeMpnsOkvvHnf8/L99A+YsecJ4/98T4tzIaLNlIGP2ZlKLoKlRU/zw6nrlrYIj/bj48zmEEvPyR//V3kIzk/XByt0XzQQz9HJRaCAJ5NP97OjCaheVM/5nkgVfw2Vz9MFR1kcTpbP/S+ZsPe518/32YdUQKbYj+/UpJE2n5lP9SLkHAQY2g/NIFlVyh6aj9dcAoTVLlqP3n5npR3/Gg/jrIpD37mZD9C6yih0L9YP6Z0Au1H0hG//U8rucS5WL/gM5L8AQFlv+BlqeXlMW2/tPc/RpSEcb9P4THRWrBwv93vEEJgXmm/8rhuImjAYL/V+WuGWJxRv2aSDZGZ+Se/J3MWeFr+RD9QJZnJNv9WP/03brK/TGE/XKFfAauvZj85Jrs0pqlrPztKIzt2HXA/YHpQT2Uxcj8QIUyXJxN0P0JQWBuIyXU/11x4WShddz8nY9/CeNV4PyJ3CBC7N3o/jD3AArSHez8qz7SrLch8PzeX0X5a+30/2DT1zQQifz9kdah4NR+AP4Qntrt1qYA/ULUb1jswgT+zaBsuW7OBP6EXkRA8MYI/n0g0IEKlgj/mOEEgegeDP01Y39sUUYM/3qL3PdaCgz8ntto5SKWDP9kNAd4HwoM/0MYNIHzfgz9noklXaQGEP6sAB8jqKoQ/\",\"dtype\":\"float64\",\"shape\":[75]},\"y\":{\"__ndarray__\":\"GhExyth1ND/Sv8nbtpRIP2vylNV0PVE/aTum7souWD/At0SJ8fVgPw3Iuahxymc/MSNhhJWvcD/bTfBN02d3P2zb5nxnaoA/CD5h5MAGhz8NmeH1TyaQP+zrCsc9p5Y/LbKd76fGnz/bLW5ISEmmPww9YvTcQq8/JV2OstnstT8Er5Y7M8G+P0c+r3jqkcU/5h99k6ZBzj88bCIzFzjVP4enV8oyxN0//yH99nXg5D8qOpLLf0jtP5kqGJXUifQ/c9cS8kHP/D+/DpwzojQEQIEmwoanVwxA4lgXt9HgE0BSSZ2AJuIbQAMJih9jjiNA5q4l5INuK0AwTKYKRj0zQNv5fmq8/DpAaCJseHrtQkB/+zpwzoxKQM3MzMzMeFJAZmZmZmZqWEAAAAAAAFxeQM3MzMzMJmJAmpmZmZkfZUBmZmZmZhhoQDMzMzMzEWtAAAAAAAAKbkBmZmZmZoFwQM3MzMzM/XFAMzMzMzN6c0CamZmZmfZ0QAAAAAAAc3ZAZmZmZmbvd0DNzMzMzGt5QDMzMzMz6HpAmpmZmZlkfEAAAAAAAOF9QGZmZmZmXX9AZmZmZuZsgECamZmZGSuBQM3MzMxM6YFAAAAAAICngkAzMzMzs2WDQGZmZmbmI4RAmpmZmRnihEDNzMzMTKCFQAAAAACAXoZAMzMzM7Mch0BmZmZm5tqHQJqZmZkZmYhAzczMzExXiUAAAAAAgBWKQDMzMzOz04pAZmZmZuaRi0CamZmZGVCMQM3MzMxMDo1AAAAAAIDMjUAzMzMzs4qOQGZmZmbmSI9A\",\"dtype\":\"float64\",\"shape\":[75]}},\"selected\":{\"id\":\"6c3d19c7-92da-42b8-b5b3-d8ba559521bf\",\"type\":\"Selection\"},\"selection_policy\":{\"id\":\"4314699a-c60c-4a20-bd49-93ebd50b28f4\",\"type\":\"UnionRenderers\"}},\"id\":\"2873067b-bab1-4fed-ad86-2253b2d18192\",\"type\":\"ColumnDataSource\"},{\"attributes\":{\"fill_alpha\":{\"value\":0.1},\"fill_color\":{\"value\":\"#1f77b4\"},\"line_alpha\":{\"value\":0.1},\"line_color\":{\"value\":\"#1f77b4\"},\"x\":{\"field\":\"x\"},\"y\":{\"field\":\"y\"}},\"id\":\"35dc4b0f-a840-4293-854b-bbfe9c6621bf\",\"type\":\"Circle\"},{\"attributes\":{},\"id\":\"104eec3e-4954-4d98-9d77-a751828f02a4\",\"type\":\"HelpTool\"},{\"attributes\":{},\"id\":\"1a1746d0-0cd3-4365-9672-d2a3ed245fc5\",\"type\":\"Selection\"},{\"attributes\":{\"data_source\":{\"id\":\"2873067b-bab1-4fed-ad86-2253b2d18192\",\"type\":\"ColumnDataSource\"},\"glyph\":{\"id\":\"bbf8e5a4-5935-478a-915d-4637b7699287\",\"type\":\"Circle\"},\"hover_glyph\":null,\"muted_glyph\":null,\"nonselection_glyph\":{\"id\":\"35dc4b0f-a840-4293-854b-bbfe9c6621bf\",\"type\":\"Circle\"},\"selection_glyph\":null,\"view\":{\"id\":\"7b1a81ff-46d2-4201-aa7a-8fcd5e2d6552\",\"type\":\"CDSView\"}},\"id\":\"9ea37403-6ea8-4f1b-a9f8-b1030fede422\",\"type\":\"GlyphRenderer\"},{\"attributes\":{\"overlay\":{\"id\":\"295aafe8-f319-4726-bfee-b2e65380cf79\",\"type\":\"BoxAnnotation\"}},\"id\":\"5bfd13fc-03c5-4d2a-9445-f4f27e425b97\",\"type\":\"BoxZoomTool\"},{\"attributes\":{},\"id\":\"f0f20842-9e45-4a4c-a306-d58275dbd6c9\",\"type\":\"WheelZoomTool\"},{\"attributes\":{},\"id\":\"3a669fea-df07-4731-bfcb-996b45a11f9b\",\"type\":\"ResetTool\"},{\"attributes\":{},\"id\":\"c935bb8a-aa62-48da-bcfb-22299833214d\",\"type\":\"SaveTool\"},{\"attributes\":{},\"id\":\"cfa750a5-3757-46c4-bb93-195592e778b0\",\"type\":\"PanTool\"}],\"root_ids\":[\"65c8e44e-ca9f-4419-8f7d-41e6e09c5456\"]},\"title\":\"Bokeh Application\",\"version\":\"0.12.16\"}};\n",
       "  var render_items = [{\"docid\":\"a5cd3b5b-8a5a-4982-b274-a139ea02a68d\",\"elementid\":\"a7ebea31-bc42-4f5e-bd7d-ab74e6100fc3\",\"modelid\":\"65c8e44e-ca9f-4419-8f7d-41e6e09c5456\"}];\n",
       "  root.Bokeh.embed.embed_items_notebook(docs_json, render_items);\n",
       "\n",
       "  }\n",
       "  if (root.Bokeh !== undefined) {\n",
       "    embed_document(root);\n",
       "  } else {\n",
       "    var attempts = 0;\n",
       "    var timer = setInterval(function(root) {\n",
       "      if (root.Bokeh !== undefined) {\n",
       "        embed_document(root);\n",
       "        clearInterval(timer);\n",
       "      }\n",
       "      attempts++;\n",
       "      if (attempts > 100) {\n",
       "        console.log(\"Bokeh: ERROR: Unable to run BokehJS code because BokehJS library is missing\")\n",
       "        clearInterval(timer);\n",
       "      }\n",
       "    }, 10, root)\n",
       "  }\n",
       "})(window);"
      ],
      "application/vnd.bokehjs_exec.v0+json": ""
     },
     "metadata": {
      "application/vnd.bokehjs_exec.v0+json": {
       "id": "65c8e44e-ca9f-4419-8f7d-41e6e09c5456"
      }
     },
     "output_type": "display_data"
    },
    {
     "data": {
      "text/markdown": [
       "*FIGURE.* Cooling rates. g=2"
      ],
      "text/plain": [
       "<IPython.core.display.Markdown object>"
      ]
     },
     "metadata": {},
     "output_type": "display_data"
    },
    {
     "data": {
      "text/html": [
       "\n",
       "<div class=\"bk-root\">\n",
       "    <div class=\"bk-plotdiv\" id=\"a85001f4-5ba4-4005-ae5d-8796bdc6ffa2\"></div>\n",
       "</div>"
      ]
     },
     "metadata": {},
     "output_type": "display_data"
    },
    {
     "data": {
      "application/javascript": [
       "(function(root) {\n",
       "  function embed_document(root) {\n",
       "    \n",
       "  var docs_json = {\"6cc4f068-cfd5-48ab-8162-8bb88a4d289e\":{\"roots\":{\"references\":[{\"attributes\":{\"dimension\":1,\"plot\":{\"id\":\"5957694d-11c0-4cb9-a4c5-60e5dffa54a4\",\"subtype\":\"Figure\",\"type\":\"Plot\"},\"ticker\":{\"id\":\"9e4b995d-856e-4290-b687-6af437d18531\",\"type\":\"BasicTicker\"}},\"id\":\"5ff464ac-817b-454e-aeb3-d85a5af3f7c4\",\"type\":\"Grid\"},{\"attributes\":{\"axis_label\":\"pressure [mb]\",\"formatter\":{\"id\":\"c5639a00-4d47-4ca7-9220-a55df52022fb\",\"type\":\"BasicTickFormatter\"},\"plot\":{\"id\":\"5957694d-11c0-4cb9-a4c5-60e5dffa54a4\",\"subtype\":\"Figure\",\"type\":\"Plot\"},\"ticker\":{\"id\":\"9e4b995d-856e-4290-b687-6af437d18531\",\"type\":\"BasicTicker\"}},\"id\":\"f45dfce3-9d54-4bd1-b0ca-6fb1cffbfdff\",\"type\":\"LinearAxis\"},{\"attributes\":{\"plot\":{\"id\":\"ea05e4be-c19a-4a3e-8625-16e5ec4d2263\",\"subtype\":\"Figure\",\"type\":\"Plot\"},\"ticker\":{\"id\":\"70822adc-e7fc-45d8-aeb6-b8500b641bc6\",\"type\":\"BasicTicker\"}},\"id\":\"8d0936a8-4bc3-4582-ad2c-c1e62ccc96fb\",\"type\":\"Grid\"},{\"attributes\":{},\"id\":\"d810a311-0e41-4fed-983f-1a76d41cd0c8\",\"type\":\"BasicTicker\"},{\"attributes\":{},\"id\":\"132fe251-0b7e-49b4-8161-200bdb2f3377\",\"type\":\"PanTool\"},{\"attributes\":{\"overlay\":{\"id\":\"1f043b0a-880d-4200-818d-6d3cc6075308\",\"type\":\"BoxAnnotation\"}},\"id\":\"6252fa01-cc6d-44f0-ba06-c3e6e447ee7f\",\"type\":\"BoxZoomTool\"},{\"attributes\":{\"plot\":{\"id\":\"5957694d-11c0-4cb9-a4c5-60e5dffa54a4\",\"subtype\":\"Figure\",\"type\":\"Plot\"},\"ticker\":{\"id\":\"d810a311-0e41-4fed-983f-1a76d41cd0c8\",\"type\":\"BasicTicker\"}},\"id\":\"ec7a7e4b-e03d-4a97-a5be-000b59bb192f\",\"type\":\"Grid\"},{\"attributes\":{},\"id\":\"ce0905e8-ca81-4e05-8d58-3af1a156db10\",\"type\":\"WheelZoomTool\"},{\"attributes\":{\"above\":[{\"id\":\"95651b76-0e13-49e5-b3fc-954388a9931c\",\"type\":\"Legend\"}],\"below\":[{\"id\":\"596fb783-941e-4571-a85a-eb3b06be6840\",\"type\":\"LinearAxis\"}],\"left\":[{\"id\":\"f45dfce3-9d54-4bd1-b0ca-6fb1cffbfdff\",\"type\":\"LinearAxis\"}],\"plot_height\":500,\"plot_width\":400,\"renderers\":[{\"id\":\"596fb783-941e-4571-a85a-eb3b06be6840\",\"type\":\"LinearAxis\"},{\"id\":\"ec7a7e4b-e03d-4a97-a5be-000b59bb192f\",\"type\":\"Grid\"},{\"id\":\"f45dfce3-9d54-4bd1-b0ca-6fb1cffbfdff\",\"type\":\"LinearAxis\"},{\"id\":\"5ff464ac-817b-454e-aeb3-d85a5af3f7c4\",\"type\":\"Grid\"},{\"id\":\"1f043b0a-880d-4200-818d-6d3cc6075308\",\"type\":\"BoxAnnotation\"},{\"id\":\"b71661dc-9edb-435d-afdd-f7d35c2ebc86\",\"type\":\"GlyphRenderer\"},{\"id\":\"35138c85-2b86-40b7-91e8-761159a800a6\",\"type\":\"GlyphRenderer\"},{\"id\":\"63a39012-33c2-46dd-af46-80cff3eb09e9\",\"type\":\"GlyphRenderer\"},{\"id\":\"f484001e-b85e-4bef-83ac-143732067d74\",\"type\":\"GlyphRenderer\"},{\"id\":\"9197a498-db1b-49c9-9da8-f14bda6bf132\",\"type\":\"GlyphRenderer\"},{\"id\":\"b9aab412-70fc-459c-a870-b137ad8553f2\",\"type\":\"GlyphRenderer\"},{\"id\":\"95651b76-0e13-49e5-b3fc-954388a9931c\",\"type\":\"Legend\"}],\"title\":{\"id\":\"e1c26bff-6d62-499d-b564-57d30e416be4\",\"type\":\"Title\"},\"toolbar\":{\"id\":\"586086f1-fc28-4b66-aa82-ba7d53a9fcf1\",\"type\":\"Toolbar\"},\"toolbar_location\":null,\"x_range\":{\"id\":\"4a8d2c9d-2a10-462f-bcb3-c0f552e7956c\",\"type\":\"Range1d\"},\"x_scale\":{\"id\":\"02128695-ec9b-48a8-b0a8-48948404e256\",\"type\":\"LinearScale\"},\"y_range\":{\"id\":\"6662031a-e348-4337-bb62-5aea7c0c0034\",\"type\":\"Range1d\"},\"y_scale\":{\"id\":\"3e3d733d-4773-4d08-aeb4-181c751ab137\",\"type\":\"LinearScale\"}},\"id\":\"5957694d-11c0-4cb9-a4c5-60e5dffa54a4\",\"subtype\":\"Figure\",\"type\":\"Plot\"},{\"attributes\":{\"callback\":null,\"data\":{\"x\":{\"__ndarray__\":\"a0ouS9xcSb+mpPBKwy9Jv4SsDCOZzEi/3py/9vFgSL/bmAnXjvJHv+m3WRm7gUe/troTrHgNR78F0wzT0ZVGvyrEDl0gG0a/iq+fvzKeRb/kkiPu3h1FvwDk6qLNmkS/1kldRPwTRL8BTqGVNIBDv8Jt4hoLtkG/W0zhGJNmOL+Bfwoo71ITv15NokYvzzQ/FMMHWVapSj9nqHnrXXNXPxT/LCSE8WE/xWSUoORyaT/Z+Vai7i5wPxcJsHqOcHA/tdQI2Ko/az9W/RuKs8hkPy8yj2le710/P2YGOuoSVD8K1ZjTDzFIP9A9/DdwWzY/zG6rpxWq1L78JkEfGY40v4GT3MaHnkK/df+apODGSb8eLLYdoOFQv0lnGQ/anlW/ojE68M/kWb+wFzIyGzhdvxYrfl0TPGC/bnruAdVfYb+1s14+aKVgv8YxKTWos1u/6L/IAftsVL/WPgpxq5lIv3Kl11/r5yu/vyrY20ihNz/pJPm2ZJxPP8dvX72JHlo/1bBznOFiYj/I2ITR99VnP05d/Js+XG0/2kY0aIV1cT/V4aB5Sz10P764R8RKBHc/V2hNF1XLeT+GKgvXSZN8P/O/88ubXH8/4FihFnQTgT/f36C9+niCP2sNgXnK3oM/auPCYIJDhT/266J2LKeGP5mbn30NCog/lHu8u45riT+/2cpxxcqKP62BtYN0JYw/E704Yyt3jT+miT/WyLiOP6eL6Ulm448/XxSiGxh7kD/sPYA4VPuQP75AE9jRdZE/dDP/j+PskT/tVvcRvWGSP45LV9sN1ZI/\",\"dtype\":\"float64\",\"shape\":[75]},\"y\":{\"__ndarray__\":\"GhExyth1ND/Sv8nbtpRIP2vylNV0PVE/aTum7souWD/At0SJ8fVgPw3Iuahxymc/MSNhhJWvcD/bTfBN02d3P2zb5nxnaoA/CD5h5MAGhz8NmeH1TyaQP+zrCsc9p5Y/LbKd76fGnz/bLW5ISEmmPww9YvTcQq8/JV2OstnstT8Er5Y7M8G+P0c+r3jqkcU/5h99k6ZBzj88bCIzFzjVP4enV8oyxN0//yH99nXg5D8qOpLLf0jtP5kqGJXUifQ/c9cS8kHP/D+/DpwzojQEQIEmwoanVwxA4lgXt9HgE0BSSZ2AJuIbQAMJih9jjiNA5q4l5INuK0AwTKYKRj0zQNv5fmq8/DpAaCJseHrtQkB/+zpwzoxKQM3MzMzMeFJAZmZmZmZqWEAAAAAAAFxeQM3MzMzMJmJAmpmZmZkfZUBmZmZmZhhoQDMzMzMzEWtAAAAAAAAKbkBmZmZmZoFwQM3MzMzM/XFAMzMzMzN6c0CamZmZmfZ0QAAAAAAAc3ZAZmZmZmbvd0DNzMzMzGt5QDMzMzMz6HpAmpmZmZlkfEAAAAAAAOF9QGZmZmZmXX9AZmZmZuZsgECamZmZGSuBQM3MzMxM6YFAAAAAAICngkAzMzMzs2WDQGZmZmbmI4RAmpmZmRnihEDNzMzMTKCFQAAAAACAXoZAMzMzM7Mch0BmZmZm5tqHQJqZmZkZmYhAzczMzExXiUAAAAAAgBWKQDMzMzOz04pAZmZmZuaRi0CamZmZGVCMQM3MzMxMDo1AAAAAAIDMjUAzMzMzs4qOQGZmZmbmSI9A\",\"dtype\":\"float64\",\"shape\":[75]}},\"selected\":{\"id\":\"7f600b5c-5692-4f0c-a7fc-f7047401f755\",\"type\":\"Selection\"},\"selection_policy\":{\"id\":\"673661dd-2d2a-4484-8816-2f58d19d390c\",\"type\":\"UnionRenderers\"}},\"id\":\"7fbac6a0-37fb-45cc-80e8-028f37b4b6de\",\"type\":\"ColumnDataSource\"},{\"attributes\":{},\"id\":\"8c82ad5e-91bc-4d1e-897d-6eb92ca34e3c\",\"type\":\"ResetTool\"},{\"attributes\":{},\"id\":\"e132791c-db56-4207-b398-2dacaf4ee1c4\",\"type\":\"SaveTool\"},{\"attributes\":{},\"id\":\"9e4b995d-856e-4290-b687-6af437d18531\",\"type\":\"BasicTicker\"},{\"attributes\":{\"callback\":null,\"end\":0.01,\"start\":1020},\"id\":\"bed90be5-0523-4a1a-9b04-d01ba5870932\",\"type\":\"Range1d\"},{\"attributes\":{\"fill_alpha\":{\"value\":0.7},\"fill_color\":{\"value\":\"#984ea3\"},\"line_alpha\":{\"value\":0.7},\"line_color\":{\"value\":\"#984ea3\"},\"x\":{\"field\":\"x\"},\"y\":{\"field\":\"y\"}},\"id\":\"3f68fd53-26f1-44a6-82cb-3b20132503e4\",\"type\":\"Square\"},{\"attributes\":{\"source\":{\"id\":\"7d8375c9-f59f-4c7b-a220-dac2d39f8000\",\"type\":\"ColumnDataSource\"}},\"id\":\"cda4d8f0-813a-4033-b499-ad26fe05368f\",\"type\":\"CDSView\"},{\"attributes\":{\"bottom_units\":\"screen\",\"fill_alpha\":{\"value\":0.5},\"fill_color\":{\"value\":\"lightgrey\"},\"left_units\":\"screen\",\"level\":\"overlay\",\"line_alpha\":{\"value\":1.0},\"line_color\":{\"value\":\"black\"},\"line_dash\":[4,4],\"line_width\":{\"value\":2},\"plot\":null,\"render_mode\":\"css\",\"right_units\":\"screen\",\"top_units\":\"screen\"},\"id\":\"29072c52-02d9-4bba-b010-7366f5c09f15\",\"type\":\"BoxAnnotation\"},{\"attributes\":{\"callback\":null,\"data\":{\"x\":{\"__ndarray__\":\"QZueQtAdT7+UlUfmG/dOvy8OxoIdo06/moEGeZJHTr+XRE+bMelNv3bmwuoGiE2/vbJSHQokTb+HV6YKMb1Mv4hnRjZuU0y/8oTgDsDmS79YMIEmJndLv+gbJWmTBEu/fv9Ao/aOSr9lMD7mUw5Kv7dduVR/fEi/yGLvlWmdQ7/oRiyvQq01vyIce2hjzfk+05SCemBgPz/ekW6ZBTJRPwVSgHZwwVw/PwW2vXNlZT+xDTPwN+xrP3FV+Dvkgmw/o2f95U9mZz/zOUinbYVhP6Xr7CHmfVg/P7AQ/yAmTz8sJ/KaMcRAP47rg87iQyQ/DR4Kbqd8JL+ZG3Kv1m48v8J+FH34ukW/8m5XZsElTL+WX5rrOrBRvw9MrXicAla/qLy8SWPeWb8hxb61c+Bcvx3Byxxrt1+/u5Pt0vbOYL+JcQ2bYDJgv7BdDPS4B1u/p+GnL5zLU7+4mYuH63ZHv0qgU4bObSe/ewe//4KKNz8Y3J5zt2BPPxaNYcAlD1o/QYJNGn1lYj8skd9xfolnP8AbIznfH20/9zGSQdZhcT9QLcHydxl0P3iGC+rr2nY/Ki864MixeT/W5yyjuHJ8P7r+v1uwNX8/HMoQjOoJgT80EeA7BGqCPzudmC9X0YM/KH/tHKdBhT9zTBb3H5mGP0nH0hAgBog/3z8iFeJriT8JJBdSNMWKP2pIkNWjLIw/swri1rl2jT9ZZyZfo8GOP8TXz0mM8Y8/3f5aMzmCkD/msrXkDwuRP7rV7ZgsgZE/U+0kOZgBkj/+KAFps3WSPxt6Udxt7pI/\",\"dtype\":\"float64\",\"shape\":[75]},\"y\":{\"__ndarray__\":\"GhExyth1ND/Sv8nbtpRIP2vylNV0PVE/aTum7souWD/At0SJ8fVgPw3Iuahxymc/MSNhhJWvcD/bTfBN02d3P2zb5nxnaoA/CD5h5MAGhz8NmeH1TyaQP+zrCsc9p5Y/LbKd76fGnz/bLW5ISEmmPww9YvTcQq8/JV2OstnstT8Er5Y7M8G+P0c+r3jqkcU/5h99k6ZBzj88bCIzFzjVP4enV8oyxN0//yH99nXg5D8qOpLLf0jtP5kqGJXUifQ/c9cS8kHP/D+/DpwzojQEQIEmwoanVwxA4lgXt9HgE0BSSZ2AJuIbQAMJih9jjiNA5q4l5INuK0AwTKYKRj0zQNv5fmq8/DpAaCJseHrtQkB/+zpwzoxKQM3MzMzMeFJAZmZmZmZqWEAAAAAAAFxeQM3MzMzMJmJAmpmZmZkfZUBmZmZmZhhoQDMzMzMzEWtAAAAAAAAKbkBmZmZmZoFwQM3MzMzM/XFAMzMzMzN6c0CamZmZmfZ0QAAAAAAAc3ZAZmZmZmbvd0DNzMzMzGt5QDMzMzMz6HpAmpmZmZlkfEAAAAAAAOF9QGZmZmZmXX9AZmZmZuZsgECamZmZGSuBQM3MzMxM6YFAAAAAAICngkAzMzMzs2WDQGZmZmbmI4RAmpmZmRnihEDNzMzMTKCFQAAAAACAXoZAMzMzM7Mch0BmZmZm5tqHQJqZmZkZmYhAzczMzExXiUAAAAAAgBWKQDMzMzOz04pAZmZmZuaRi0CamZmZGVCMQM3MzMxMDo1AAAAAAIDMjUAzMzMzs4qOQGZmZmbmSI9A\",\"dtype\":\"float64\",\"shape\":[75]}},\"selected\":{\"id\":\"c0a2e8a1-57ed-4f63-9b78-f0ba2af29123\",\"type\":\"Selection\"},\"selection_policy\":{\"id\":\"9712502c-fc15-4476-a7d0-a066e39f9f89\",\"type\":\"UnionRenderers\"}},\"id\":\"d855de98-9b0f-4d71-8624-acd96106559c\",\"type\":\"ColumnDataSource\"},{\"attributes\":{\"callback\":null,\"data\":{\"x\":{\"__ndarray__\":\"QZueQtAdT7+UlUfmG/dOvy8OxoIdo06/moEGeZJHTr+XRE+bMelNv3bmwuoGiE2/vbJSHQokTb+HV6YKMb1Mv4hnRjZuU0y/8oTgDsDmS79YMIEmJndLv+gbJWmTBEu/fv9Ao/aOSr9lMD7mUw5Kv7dduVR/fEi/yGLvlWmdQ7/oRiyvQq01vyIce2hjzfk+05SCemBgPz/ekW6ZBTJRPwVSgHZwwVw/PwW2vXNlZT+xDTPwN+xrP3FV+Dvkgmw/o2f95U9mZz/zOUinbYVhP6Xr7CHmfVg/P7AQ/yAmTz8sJ/KaMcRAP47rg87iQyQ/DR4Kbqd8JL+ZG3Kv1m48v8J+FH34ukW/8m5XZsElTL+WX5rrOrBRvw9MrXicAla/qLy8SWPeWb8hxb61c+Bcvx3Byxxrt1+/u5Pt0vbOYL+JcQ2bYDJgv7BdDPS4B1u/p+GnL5zLU7+4mYuH63ZHv0qgU4bObSe/ewe//4KKNz8Y3J5zt2BPPxaNYcAlD1o/QYJNGn1lYj8skd9xfolnP8AbIznfH20/9zGSQdZhcT9QLcHydxl0P3iGC+rr2nY/Ki864MixeT/W5yyjuHJ8P7r+v1uwNX8/HMoQjOoJgT80EeA7BGqCPzudmC9X0YM/KH/tHKdBhT9zTBb3H5mGP0nH0hAgBog/3z8iFeJriT8JJBdSNMWKP2pIkNWjLIw/swri1rl2jT9ZZyZfo8GOP8TXz0mM8Y8/3f5aMzmCkD/msrXkDwuRP7rV7ZgsgZE/U+0kOZgBkj/+KAFps3WSPxt6Udxt7pI/\",\"dtype\":\"float64\",\"shape\":[75]},\"y\":{\"__ndarray__\":\"GhExyth1ND/Sv8nbtpRIP2vylNV0PVE/aTum7souWD/At0SJ8fVgPw3Iuahxymc/MSNhhJWvcD/bTfBN02d3P2zb5nxnaoA/CD5h5MAGhz8NmeH1TyaQP+zrCsc9p5Y/LbKd76fGnz/bLW5ISEmmPww9YvTcQq8/JV2OstnstT8Er5Y7M8G+P0c+r3jqkcU/5h99k6ZBzj88bCIzFzjVP4enV8oyxN0//yH99nXg5D8qOpLLf0jtP5kqGJXUifQ/c9cS8kHP/D+/DpwzojQEQIEmwoanVwxA4lgXt9HgE0BSSZ2AJuIbQAMJih9jjiNA5q4l5INuK0AwTKYKRj0zQNv5fmq8/DpAaCJseHrtQkB/+zpwzoxKQM3MzMzMeFJAZmZmZmZqWEAAAAAAAFxeQM3MzMzMJmJAmpmZmZkfZUBmZmZmZhhoQDMzMzMzEWtAAAAAAAAKbkBmZmZmZoFwQM3MzMzM/XFAMzMzMzN6c0CamZmZmfZ0QAAAAAAAc3ZAZmZmZmbvd0DNzMzMzGt5QDMzMzMz6HpAmpmZmZlkfEAAAAAAAOF9QGZmZmZmXX9AZmZmZuZsgECamZmZGSuBQM3MzMxM6YFAAAAAAICngkAzMzMzs2WDQGZmZmbmI4RAmpmZmRnihEDNzMzMTKCFQAAAAACAXoZAMzMzM7Mch0BmZmZm5tqHQJqZmZkZmYhAzczMzExXiUAAAAAAgBWKQDMzMzOz04pAZmZmZuaRi0CamZmZGVCMQM3MzMxMDo1AAAAAAIDMjUAzMzMzs4qOQGZmZmbmSI9A\",\"dtype\":\"float64\",\"shape\":[75]}},\"selected\":{\"id\":\"8e689691-f3fb-4430-b454-cc9ffa01083c\",\"type\":\"Selection\"},\"selection_policy\":{\"id\":\"83618995-8c25-4b9e-b479-c498671fce66\",\"type\":\"UnionRenderers\"}},\"id\":\"a62f718c-0723-416a-be9a-f0338f0ae58a\",\"type\":\"ColumnDataSource\"},{\"attributes\":{\"data_source\":{\"id\":\"7d8375c9-f59f-4c7b-a220-dac2d39f8000\",\"type\":\"ColumnDataSource\"},\"glyph\":{\"id\":\"2414314e-1623-4315-8a11-41b5845fd78e\",\"type\":\"Line\"},\"hover_glyph\":null,\"muted_glyph\":null,\"nonselection_glyph\":{\"id\":\"3da42695-edb1-461f-a72c-a6b82be54ed7\",\"type\":\"Line\"},\"selection_glyph\":null,\"view\":{\"id\":\"cda4d8f0-813a-4033-b499-ad26fe05368f\",\"type\":\"CDSView\"}},\"id\":\"35138c85-2b86-40b7-91e8-761159a800a6\",\"type\":\"GlyphRenderer\"},{\"attributes\":{\"data_source\":{\"id\":\"a62f718c-0723-416a-be9a-f0338f0ae58a\",\"type\":\"ColumnDataSource\"},\"glyph\":{\"id\":\"4f9067ab-1f9c-44fb-a0b3-e979ee585901\",\"type\":\"Line\"},\"hover_glyph\":null,\"muted_glyph\":null,\"nonselection_glyph\":{\"id\":\"aea1df4a-456f-40c9-9ac4-1b3d03f7a997\",\"type\":\"Line\"},\"selection_glyph\":null,\"view\":{\"id\":\"d8eddb75-e5d4-4069-a719-03d222f530dc\",\"type\":\"CDSView\"}},\"id\":\"f484001e-b85e-4bef-83ac-143732067d74\",\"type\":\"GlyphRenderer\"},{\"attributes\":{\"above\":[{\"id\":\"5d11487b-38fc-4d21-ae9c-ede5a7485602\",\"type\":\"Legend\"}],\"below\":[{\"id\":\"4bebdaae-777d-492b-b5f3-06b3879264f0\",\"type\":\"LinearAxis\"}],\"left\":[{\"id\":\"3a44f8b4-3480-4c6f-8fe9-1d7336f55869\",\"type\":\"LogAxis\"}],\"plot_height\":500,\"plot_width\":400,\"renderers\":[{\"id\":\"4bebdaae-777d-492b-b5f3-06b3879264f0\",\"type\":\"LinearAxis\"},{\"id\":\"8d0936a8-4bc3-4582-ad2c-c1e62ccc96fb\",\"type\":\"Grid\"},{\"id\":\"3a44f8b4-3480-4c6f-8fe9-1d7336f55869\",\"type\":\"LogAxis\"},{\"id\":\"fc0ca9f5-c991-4ead-85a1-78cb984d3b56\",\"type\":\"Grid\"},{\"id\":\"29072c52-02d9-4bba-b010-7366f5c09f15\",\"type\":\"BoxAnnotation\"},{\"id\":\"4e5a6e27-89c5-44f1-9122-dc4159a76b5e\",\"type\":\"GlyphRenderer\"},{\"id\":\"35abe964-3415-47b4-b001-005ce3b40494\",\"type\":\"GlyphRenderer\"},{\"id\":\"6a9018a0-6660-494d-a5c9-88531e23b6e2\",\"type\":\"GlyphRenderer\"},{\"id\":\"beca2493-36bb-401d-b6fd-1002e219b5cb\",\"type\":\"GlyphRenderer\"},{\"id\":\"a86ab33f-f293-4bd9-b6e8-69a9035f584d\",\"type\":\"GlyphRenderer\"},{\"id\":\"e4ed215d-3d9d-4b6c-ac21-58ea183bdfc8\",\"type\":\"GlyphRenderer\"},{\"id\":\"5d11487b-38fc-4d21-ae9c-ede5a7485602\",\"type\":\"Legend\"}],\"title\":{\"id\":\"4b25fd8a-4025-4af9-9ce2-f95cfd91fc78\",\"type\":\"Title\"},\"toolbar\":{\"id\":\"fabc4505-67c2-4fe3-9f84-7d5350243ed2\",\"type\":\"Toolbar\"},\"toolbar_location\":null,\"x_range\":{\"id\":\"cce2a01a-481b-499e-a30c-b05107a9d8e5\",\"type\":\"Range1d\"},\"x_scale\":{\"id\":\"218bb78e-8ace-46fa-a288-3ee701641fad\",\"type\":\"LinearScale\"},\"y_range\":{\"id\":\"bed90be5-0523-4a1a-9b04-d01ba5870932\",\"type\":\"Range1d\"},\"y_scale\":{\"id\":\"bf6e7c0f-8f8a-4871-9ae5-b0d5f91771b9\",\"type\":\"LogScale\"}},\"id\":\"ea05e4be-c19a-4a3e-8625-16e5ec4d2263\",\"subtype\":\"Figure\",\"type\":\"Plot\"},{\"attributes\":{\"line_alpha\":0.6,\"line_color\":\"#984ea3\",\"line_width\":3,\"x\":{\"field\":\"x\"},\"y\":{\"field\":\"y\"}},\"id\":\"4f9067ab-1f9c-44fb-a0b3-e979ee585901\",\"type\":\"Line\"},{\"attributes\":{\"callback\":null,\"data\":{\"x\":{\"__ndarray__\":\"7P2v5FteTb/Pp/D7MzxNv7lVWP0N8ky/J7oQ6C2hTL+/BC/uw01Mv2AtCefV90u/Q13gL12fS78Job2tUERLv2poag+l5kq/whWYoliGSr+zKD+payNKv+xwqNfSvUm/R0J04H9VSb8tE22MXONIvyJf7fZgfke/MISffPwnQ79vniLcTaI2vxjLT2ESdPy+PSf6vAftOD/TWns+tERNP0d3tl3mCFk/GNw5injWYj+vgVyCDbhoP2WzwGGdP2k/Pd5x9LujZD8xtyHc4q5eP8O9MUqwLVU/9MqfbcFLSj9NMYN93LA6P8IZm5IrbxY/IOfrcMaMKb/aNEgsvDk9v/acOhCsaEW/rfEpQK5IS788xsk/4vdQv76Ux/zf9lS/Y3pfMXOVWL9rd8hDEWFbv7G5ryllEF6/CCI3NWPgX7/YDR0zN3xev/HTEzpRiVm/NPD80j0TU7+b8oQqCpxHv3PBegiJ9i6/h04+jJ2NMj91182op0lLP9La8uIkE1c/MMXtOEtuYD/8qb9P7XRlP3qUCBNRk2o/jhFLcW6/bz+qpkSLFXlyPw5d7f2WFHU/SrXXk5yydz8Eg069s1N6P4zO4Izt93w/lTftTf+efz9ZGE5MMSSBP2o2pha3eYI/+8BZe/TOgz/SXqUEwiOFP/qA7GdEeIY/Wj7uAvXLhz9uFLyV4x2JP1B1zYYqbIo/qA+UQ9qyiz8vpaBur+uMPzaMAWDcEI4/BVqMSoIhjz8aCesBHhGQP9XhmptsjJA/R6rv/KIEkT82PneoxHqRP9TkHThL75E/\",\"dtype\":\"float64\",\"shape\":[75]},\"y\":{\"__ndarray__\":\"GhExyth1ND/Sv8nbtpRIP2vylNV0PVE/aTum7souWD/At0SJ8fVgPw3Iuahxymc/MSNhhJWvcD/bTfBN02d3P2zb5nxnaoA/CD5h5MAGhz8NmeH1TyaQP+zrCsc9p5Y/LbKd76fGnz/bLW5ISEmmPww9YvTcQq8/JV2OstnstT8Er5Y7M8G+P0c+r3jqkcU/5h99k6ZBzj88bCIzFzjVP4enV8oyxN0//yH99nXg5D8qOpLLf0jtP5kqGJXUifQ/c9cS8kHP/D+/DpwzojQEQIEmwoanVwxA4lgXt9HgE0BSSZ2AJuIbQAMJih9jjiNA5q4l5INuK0AwTKYKRj0zQNv5fmq8/DpAaCJseHrtQkB/+zpwzoxKQM3MzMzMeFJAZmZmZmZqWEAAAAAAAFxeQM3MzMzMJmJAmpmZmZkfZUBmZmZmZhhoQDMzMzMzEWtAAAAAAAAKbkBmZmZmZoFwQM3MzMzM/XFAMzMzMzN6c0CamZmZmfZ0QAAAAAAAc3ZAZmZmZmbvd0DNzMzMzGt5QDMzMzMz6HpAmpmZmZlkfEAAAAAAAOF9QGZmZmZmXX9AZmZmZuZsgECamZmZGSuBQM3MzMxM6YFAAAAAAICngkAzMzMzs2WDQGZmZmbmI4RAmpmZmRnihEDNzMzMTKCFQAAAAACAXoZAMzMzM7Mch0BmZmZm5tqHQJqZmZkZmYhAzczMzExXiUAAAAAAgBWKQDMzMzOz04pAZmZmZuaRi0CamZmZGVCMQM3MzMxMDo1AAAAAAIDMjUAzMzMzs4qOQGZmZmbmSI9A\",\"dtype\":\"float64\",\"shape\":[75]}},\"selected\":{\"id\":\"d75b798d-85df-4217-9ff0-9676f1570fa2\",\"type\":\"Selection\"},\"selection_policy\":{\"id\":\"f06f7924-d287-4ea6-a1cd-edfa2f7191f6\",\"type\":\"UnionRenderers\"}},\"id\":\"544aa83d-ad38-48bc-bae9-e3aca865c749\",\"type\":\"ColumnDataSource\"},{\"attributes\":{\"dimension\":1,\"plot\":{\"id\":\"ea05e4be-c19a-4a3e-8625-16e5ec4d2263\",\"subtype\":\"Figure\",\"type\":\"Plot\"},\"ticker\":{\"id\":\"03458b91-1e9b-45b8-8c98-b86cf4432eb4\",\"type\":\"LogTicker\"}},\"id\":\"fc0ca9f5-c991-4ead-85a1-78cb984d3b56\",\"type\":\"Grid\"},{\"attributes\":{\"line_alpha\":0.3,\"line_color\":\"#377eb8\",\"line_width\":2,\"x\":{\"field\":\"x\"},\"y\":{\"field\":\"y\"}},\"id\":\"90bd2c28-7a74-4fb9-944f-b41f672b7c1d\",\"type\":\"Line\"},{\"attributes\":{\"line_alpha\":0.1,\"line_color\":\"#1f77b4\",\"line_width\":3,\"x\":{\"field\":\"x\"},\"y\":{\"field\":\"y\"}},\"id\":\"aea1df4a-456f-40c9-9ac4-1b3d03f7a997\",\"type\":\"Line\"},{\"attributes\":{\"callback\":null,\"data\":{\"x\":{\"__ndarray__\":\"7P2v5FteTb/Pp/D7MzxNv7lVWP0N8ky/J7oQ6C2hTL+/BC/uw01Mv2AtCefV90u/Q13gL12fS78Job2tUERLv2poag+l5kq/whWYoliGSr+zKD+payNKv+xwqNfSvUm/R0J04H9VSb8tE22MXONIvyJf7fZgfke/MISffPwnQ79vniLcTaI2vxjLT2ESdPy+PSf6vAftOD/TWns+tERNP0d3tl3mCFk/GNw5injWYj+vgVyCDbhoP2WzwGGdP2k/Pd5x9LujZD8xtyHc4q5eP8O9MUqwLVU/9MqfbcFLSj9NMYN93LA6P8IZm5IrbxY/IOfrcMaMKb/aNEgsvDk9v/acOhCsaEW/rfEpQK5IS788xsk/4vdQv76Ux/zf9lS/Y3pfMXOVWL9rd8hDEWFbv7G5ryllEF6/CCI3NWPgX7/YDR0zN3xev/HTEzpRiVm/NPD80j0TU7+b8oQqCpxHv3PBegiJ9i6/h04+jJ2NMj91182op0lLP9La8uIkE1c/MMXtOEtuYD/8qb9P7XRlP3qUCBNRk2o/jhFLcW6/bz+qpkSLFXlyPw5d7f2WFHU/SrXXk5yydz8Eg069s1N6P4zO4Izt93w/lTftTf+efz9ZGE5MMSSBP2o2pha3eYI/+8BZe/TOgz/SXqUEwiOFP/qA7GdEeIY/Wj7uAvXLhz9uFLyV4x2JP1B1zYYqbIo/qA+UQ9qyiz8vpaBur+uMPzaMAWDcEI4/BVqMSoIhjz8aCesBHhGQP9XhmptsjJA/R6rv/KIEkT82PneoxHqRP9TkHThL75E/\",\"dtype\":\"float64\",\"shape\":[75]},\"y\":{\"__ndarray__\":\"GhExyth1ND/Sv8nbtpRIP2vylNV0PVE/aTum7souWD/At0SJ8fVgPw3Iuahxymc/MSNhhJWvcD/bTfBN02d3P2zb5nxnaoA/CD5h5MAGhz8NmeH1TyaQP+zrCsc9p5Y/LbKd76fGnz/bLW5ISEmmPww9YvTcQq8/JV2OstnstT8Er5Y7M8G+P0c+r3jqkcU/5h99k6ZBzj88bCIzFzjVP4enV8oyxN0//yH99nXg5D8qOpLLf0jtP5kqGJXUifQ/c9cS8kHP/D+/DpwzojQEQIEmwoanVwxA4lgXt9HgE0BSSZ2AJuIbQAMJih9jjiNA5q4l5INuK0AwTKYKRj0zQNv5fmq8/DpAaCJseHrtQkB/+zpwzoxKQM3MzMzMeFJAZmZmZmZqWEAAAAAAAFxeQM3MzMzMJmJAmpmZmZkfZUBmZmZmZhhoQDMzMzMzEWtAAAAAAAAKbkBmZmZmZoFwQM3MzMzM/XFAMzMzMzN6c0CamZmZmfZ0QAAAAAAAc3ZAZmZmZmbvd0DNzMzMzGt5QDMzMzMz6HpAmpmZmZlkfEAAAAAAAOF9QGZmZmZmXX9AZmZmZuZsgECamZmZGSuBQM3MzMxM6YFAAAAAAICngkAzMzMzs2WDQGZmZmbmI4RAmpmZmRnihEDNzMzMTKCFQAAAAACAXoZAMzMzM7Mch0BmZmZm5tqHQJqZmZkZmYhAzczMzExXiUAAAAAAgBWKQDMzMzOz04pAZmZmZuaRi0CamZmZGVCMQM3MzMxMDo1AAAAAAIDMjUAzMzMzs4qOQGZmZmbmSI9A\",\"dtype\":\"float64\",\"shape\":[75]}},\"selected\":{\"id\":\"a5c5f51f-70e2-4795-a268-90b4638e0280\",\"type\":\"Selection\"},\"selection_policy\":{\"id\":\"05f8566b-d31f-4122-9af7-5f1aa28fa4ad\",\"type\":\"UnionRenderers\"}},\"id\":\"b545c0ae-6a3b-4743-a950-eedcef32fcfe\",\"type\":\"ColumnDataSource\"},{\"attributes\":{\"fill_alpha\":{\"value\":0.1},\"fill_color\":{\"value\":\"#1f77b4\"},\"line_alpha\":{\"value\":0.1},\"line_color\":{\"value\":\"#1f77b4\"},\"x\":{\"field\":\"x\"},\"y\":{\"field\":\"y\"}},\"id\":\"ed65e3e7-fecf-484e-92eb-6d6aa5727120\",\"type\":\"Square\"},{\"attributes\":{\"line_alpha\":0.1,\"line_color\":\"#1f77b4\",\"line_width\":1.5,\"x\":{\"field\":\"x\"},\"y\":{\"field\":\"y\"}},\"id\":\"3da42695-edb1-461f-a72c-a6b82be54ed7\",\"type\":\"Line\"},{\"attributes\":{\"callback\":null,\"data\":{\"x\":{\"__ndarray__\":\"a0ouS9xcSb+mpPBKwy9Jv4SsDCOZzEi/3py/9vFgSL/bmAnXjvJHv+m3WRm7gUe/troTrHgNR78F0wzT0ZVGvyrEDl0gG0a/iq+fvzKeRb/kkiPu3h1FvwDk6qLNmkS/1kldRPwTRL8BTqGVNIBDv8Jt4hoLtkG/W0zhGJNmOL+Bfwoo71ITv15NokYvzzQ/FMMHWVapSj9nqHnrXXNXPxT/LCSE8WE/xWSUoORyaT/Z+Vai7i5wPxcJsHqOcHA/tdQI2Ko/az9W/RuKs8hkPy8yj2le710/P2YGOuoSVD8K1ZjTDzFIP9A9/DdwWzY/zG6rpxWq1L78JkEfGY40v4GT3MaHnkK/df+apODGSb8eLLYdoOFQv0lnGQ/anlW/ojE68M/kWb+wFzIyGzhdvxYrfl0TPGC/bnruAdVfYb+1s14+aKVgv8YxKTWos1u/6L/IAftsVL/WPgpxq5lIv3Kl11/r5yu/vyrY20ihNz/pJPm2ZJxPP8dvX72JHlo/1bBznOFiYj/I2ITR99VnP05d/Js+XG0/2kY0aIV1cT/V4aB5Sz10P764R8RKBHc/V2hNF1XLeT+GKgvXSZN8P/O/88ubXH8/4FihFnQTgT/f36C9+niCP2sNgXnK3oM/auPCYIJDhT/266J2LKeGP5mbn30NCog/lHu8u45riT+/2cpxxcqKP62BtYN0JYw/E704Yyt3jT+miT/WyLiOP6eL6Ulm448/XxSiGxh7kD/sPYA4VPuQP75AE9jRdZE/dDP/j+PskT/tVvcRvWGSP45LV9sN1ZI/\",\"dtype\":\"float64\",\"shape\":[75]},\"y\":{\"__ndarray__\":\"GhExyth1ND/Sv8nbtpRIP2vylNV0PVE/aTum7souWD/At0SJ8fVgPw3Iuahxymc/MSNhhJWvcD/bTfBN02d3P2zb5nxnaoA/CD5h5MAGhz8NmeH1TyaQP+zrCsc9p5Y/LbKd76fGnz/bLW5ISEmmPww9YvTcQq8/JV2OstnstT8Er5Y7M8G+P0c+r3jqkcU/5h99k6ZBzj88bCIzFzjVP4enV8oyxN0//yH99nXg5D8qOpLLf0jtP5kqGJXUifQ/c9cS8kHP/D+/DpwzojQEQIEmwoanVwxA4lgXt9HgE0BSSZ2AJuIbQAMJih9jjiNA5q4l5INuK0AwTKYKRj0zQNv5fmq8/DpAaCJseHrtQkB/+zpwzoxKQM3MzMzMeFJAZmZmZmZqWEAAAAAAAFxeQM3MzMzMJmJAmpmZmZkfZUBmZmZmZhhoQDMzMzMzEWtAAAAAAAAKbkBmZmZmZoFwQM3MzMzM/XFAMzMzMzN6c0CamZmZmfZ0QAAAAAAAc3ZAZmZmZmbvd0DNzMzMzGt5QDMzMzMz6HpAmpmZmZlkfEAAAAAAAOF9QGZmZmZmXX9AZmZmZuZsgECamZmZGSuBQM3MzMxM6YFAAAAAAICngkAzMzMzs2WDQGZmZmbmI4RAmpmZmRnihEDNzMzMTKCFQAAAAACAXoZAMzMzM7Mch0BmZmZm5tqHQJqZmZkZmYhAzczMzExXiUAAAAAAgBWKQDMzMzOz04pAZmZmZuaRi0CamZmZGVCMQM3MzMxMDo1AAAAAAIDMjUAzMzMzs4qOQGZmZmbmSI9A\",\"dtype\":\"float64\",\"shape\":[75]}},\"selected\":{\"id\":\"8f5d54d9-8861-478b-9073-dda0369d77e6\",\"type\":\"Selection\"},\"selection_policy\":{\"id\":\"2058db2a-d253-4502-b7c6-7bdf1a996df6\",\"type\":\"UnionRenderers\"}},\"id\":\"f5c75e53-56cf-4ce3-8a16-2a65ce2891b0\",\"type\":\"ColumnDataSource\"},{\"attributes\":{\"data_source\":{\"id\":\"544aa83d-ad38-48bc-bae9-e3aca865c749\",\"type\":\"ColumnDataSource\"},\"glyph\":{\"id\":\"52f4a202-5cc2-4458-b420-84ae7fe9a4ae\",\"type\":\"Triangle\"},\"hover_glyph\":null,\"muted_glyph\":null,\"nonselection_glyph\":{\"id\":\"75c77834-99cc-4259-8889-271c6b8fcf24\",\"type\":\"Triangle\"},\"selection_glyph\":null,\"view\":{\"id\":\"b1da80cd-3e00-4704-8b77-f42911603062\",\"type\":\"CDSView\"}},\"id\":\"9197a498-db1b-49c9-9da8-f14bda6bf132\",\"type\":\"GlyphRenderer\"},{\"attributes\":{\"fill_alpha\":{\"value\":0.7},\"fill_color\":{\"value\":\"#377eb8\"},\"line_alpha\":{\"value\":0.7},\"line_color\":{\"value\":\"#377eb8\"},\"x\":{\"field\":\"x\"},\"y\":{\"field\":\"y\"}},\"id\":\"52f4a202-5cc2-4458-b420-84ae7fe9a4ae\",\"type\":\"Triangle\"},{\"attributes\":{\"source\":{\"id\":\"544aa83d-ad38-48bc-bae9-e3aca865c749\",\"type\":\"ColumnDataSource\"}},\"id\":\"b1da80cd-3e00-4704-8b77-f42911603062\",\"type\":\"CDSView\"},{\"attributes\":{\"data_source\":{\"id\":\"b545c0ae-6a3b-4743-a950-eedcef32fcfe\",\"type\":\"ColumnDataSource\"},\"glyph\":{\"id\":\"90bd2c28-7a74-4fb9-944f-b41f672b7c1d\",\"type\":\"Line\"},\"hover_glyph\":null,\"muted_glyph\":null,\"nonselection_glyph\":{\"id\":\"3e9d5627-37f3-4bb0-90bf-1e4bf049b74d\",\"type\":\"Line\"},\"selection_glyph\":null,\"view\":{\"id\":\"78db5f81-07b4-453b-abb1-8a0de329c580\",\"type\":\"CDSView\"}},\"id\":\"b9aab412-70fc-459c-a870-b137ad8553f2\",\"type\":\"GlyphRenderer\"},{\"attributes\":{\"num_minor_ticks\":10},\"id\":\"03458b91-1e9b-45b8-8c98-b86cf4432eb4\",\"type\":\"LogTicker\"},{\"attributes\":{\"fill_alpha\":{\"value\":0.1},\"fill_color\":{\"value\":\"#1f77b4\"},\"line_alpha\":{\"value\":0.1},\"line_color\":{\"value\":\"#1f77b4\"},\"x\":{\"field\":\"x\"},\"y\":{\"field\":\"y\"}},\"id\":\"75c77834-99cc-4259-8889-271c6b8fcf24\",\"type\":\"Triangle\"},{\"attributes\":{\"data_source\":{\"id\":\"d855de98-9b0f-4d71-8624-acd96106559c\",\"type\":\"ColumnDataSource\"},\"glyph\":{\"id\":\"3f68fd53-26f1-44a6-82cb-3b20132503e4\",\"type\":\"Square\"},\"hover_glyph\":null,\"muted_glyph\":null,\"nonselection_glyph\":{\"id\":\"ed65e3e7-fecf-484e-92eb-6d6aa5727120\",\"type\":\"Square\"},\"selection_glyph\":null,\"view\":{\"id\":\"49562981-4c99-42dc-9ebe-72d19551d7ad\",\"type\":\"CDSView\"}},\"id\":\"63a39012-33c2-46dd-af46-80cff3eb09e9\",\"type\":\"GlyphRenderer\"},{\"attributes\":{\"source\":{\"id\":\"d855de98-9b0f-4d71-8624-acd96106559c\",\"type\":\"ColumnDataSource\"}},\"id\":\"49562981-4c99-42dc-9ebe-72d19551d7ad\",\"type\":\"CDSView\"},{\"attributes\":{\"source\":{\"id\":\"a62f718c-0723-416a-be9a-f0338f0ae58a\",\"type\":\"ColumnDataSource\"}},\"id\":\"d8eddb75-e5d4-4069-a719-03d222f530dc\",\"type\":\"CDSView\"},{\"attributes\":{\"line_alpha\":0.1,\"line_color\":\"#1f77b4\",\"line_width\":2,\"x\":{\"field\":\"x\"},\"y\":{\"field\":\"y\"}},\"id\":\"3e9d5627-37f3-4bb0-90bf-1e4bf049b74d\",\"type\":\"Line\"},{\"attributes\":{\"source\":{\"id\":\"b545c0ae-6a3b-4743-a950-eedcef32fcfe\",\"type\":\"ColumnDataSource\"}},\"id\":\"78db5f81-07b4-453b-abb1-8a0de329c580\",\"type\":\"CDSView\"},{\"attributes\":{\"active_drag\":\"auto\",\"active_inspect\":\"auto\",\"active_scroll\":\"auto\",\"active_tap\":\"auto\",\"tools\":[{\"id\":\"6dcc7a05-ab99-4bb3-b8a4-cd9bb646b40b\",\"type\":\"PanTool\"},{\"id\":\"ad4deab2-d5cc-4c8a-a816-9aea98e29b48\",\"type\":\"WheelZoomTool\"},{\"id\":\"893f1a63-9c9a-4054-b272-bea9f29b117d\",\"type\":\"BoxZoomTool\"},{\"id\":\"aec54fdf-4181-4b00-8f3e-cb0e7be6b5bf\",\"type\":\"SaveTool\"},{\"id\":\"c0186666-feb7-4286-86b9-10ec94ea88e0\",\"type\":\"ResetTool\"},{\"id\":\"0196a929-ac7e-4b2d-b245-c39183803c20\",\"type\":\"HelpTool\"}]},\"id\":\"fabc4505-67c2-4fe3-9f84-7d5350243ed2\",\"type\":\"Toolbar\"},{\"attributes\":{\"callback\":null,\"data\":{\"x\":{\"__ndarray__\":\"a0ouS9xcSb+mpPBKwy9Jv4SsDCOZzEi/3py/9vFgSL/bmAnXjvJHv+m3WRm7gUe/troTrHgNR78F0wzT0ZVGvyrEDl0gG0a/iq+fvzKeRb/kkiPu3h1FvwDk6qLNmkS/1kldRPwTRL8BTqGVNIBDv8Jt4hoLtkG/W0zhGJNmOL+Bfwoo71ITv15NokYvzzQ/FMMHWVapSj9nqHnrXXNXPxT/LCSE8WE/xWSUoORyaT/Z+Vai7i5wPxcJsHqOcHA/tdQI2Ko/az9W/RuKs8hkPy8yj2le710/P2YGOuoSVD8K1ZjTDzFIP9A9/DdwWzY/zG6rpxWq1L78JkEfGY40v4GT3MaHnkK/df+apODGSb8eLLYdoOFQv0lnGQ/anlW/ojE68M/kWb+wFzIyGzhdvxYrfl0TPGC/bnruAdVfYb+1s14+aKVgv8YxKTWos1u/6L/IAftsVL/WPgpxq5lIv3Kl11/r5yu/vyrY20ihNz/pJPm2ZJxPP8dvX72JHlo/1bBznOFiYj/I2ITR99VnP05d/Js+XG0/2kY0aIV1cT/V4aB5Sz10P764R8RKBHc/V2hNF1XLeT+GKgvXSZN8P/O/88ubXH8/4FihFnQTgT/f36C9+niCP2sNgXnK3oM/auPCYIJDhT/266J2LKeGP5mbn30NCog/lHu8u45riT+/2cpxxcqKP62BtYN0JYw/E704Yyt3jT+miT/WyLiOP6eL6Ulm448/XxSiGxh7kD/sPYA4VPuQP75AE9jRdZE/dDP/j+PskT/tVvcRvWGSP45LV9sN1ZI/\",\"dtype\":\"float64\",\"shape\":[75]},\"y\":{\"__ndarray__\":\"GhExyth1ND/Sv8nbtpRIP2vylNV0PVE/aTum7souWD/At0SJ8fVgPw3Iuahxymc/MSNhhJWvcD/bTfBN02d3P2zb5nxnaoA/CD5h5MAGhz8NmeH1TyaQP+zrCsc9p5Y/LbKd76fGnz/bLW5ISEmmPww9YvTcQq8/JV2OstnstT8Er5Y7M8G+P0c+r3jqkcU/5h99k6ZBzj88bCIzFzjVP4enV8oyxN0//yH99nXg5D8qOpLLf0jtP5kqGJXUifQ/c9cS8kHP/D+/DpwzojQEQIEmwoanVwxA4lgXt9HgE0BSSZ2AJuIbQAMJih9jjiNA5q4l5INuK0AwTKYKRj0zQNv5fmq8/DpAaCJseHrtQkB/+zpwzoxKQM3MzMzMeFJAZmZmZmZqWEAAAAAAAFxeQM3MzMzMJmJAmpmZmZkfZUBmZmZmZhhoQDMzMzMzEWtAAAAAAAAKbkBmZmZmZoFwQM3MzMzM/XFAMzMzMzN6c0CamZmZmfZ0QAAAAAAAc3ZAZmZmZmbvd0DNzMzMzGt5QDMzMzMz6HpAmpmZmZlkfEAAAAAAAOF9QGZmZmZmXX9AZmZmZuZsgECamZmZGSuBQM3MzMxM6YFAAAAAAICngkAzMzMzs2WDQGZmZmbmI4RAmpmZmRnihEDNzMzMTKCFQAAAAACAXoZAMzMzM7Mch0BmZmZm5tqHQJqZmZkZmYhAzczMzExXiUAAAAAAgBWKQDMzMzOz04pAZmZmZuaRi0CamZmZGVCMQM3MzMxMDo1AAAAAAIDMjUAzMzMzs4qOQGZmZmbmSI9A\",\"dtype\":\"float64\",\"shape\":[75]}},\"selected\":{\"id\":\"515e0e91-5d33-4ad5-974e-d014c569607e\",\"type\":\"Selection\"},\"selection_policy\":{\"id\":\"ecf013b7-d8f5-43d7-9fa6-96716c351e51\",\"type\":\"UnionRenderers\"}},\"id\":\"7d8375c9-f59f-4c7b-a220-dac2d39f8000\",\"type\":\"ColumnDataSource\"},{\"attributes\":{\"label\":{\"value\":\"CRD\"},\"renderers\":[{\"id\":\"b71661dc-9edb-435d-afdd-f7d35c2ebc86\",\"type\":\"GlyphRenderer\"},{\"id\":\"35138c85-2b86-40b7-91e8-761159a800a6\",\"type\":\"GlyphRenderer\"}]},\"id\":\"18b57b24-c91c-48e8-9382-493a273d0830\",\"type\":\"LegendItem\"},{\"attributes\":{\"callback\":null,\"end\":0.004074937139,\"start\":-0.002182236439},\"id\":\"cce2a01a-481b-499e-a30c-b05107a9d8e5\",\"type\":\"Range1d\"},{\"attributes\":{\"label\":{\"value\":\"WGT igg=1\"},\"renderers\":[{\"id\":\"63a39012-33c2-46dd-af46-80cff3eb09e9\",\"type\":\"GlyphRenderer\"},{\"id\":\"f484001e-b85e-4bef-83ac-143732067d74\",\"type\":\"GlyphRenderer\"}]},\"id\":\"bea040ad-e6af-470a-80ce-03e349f863b2\",\"type\":\"LegendItem\"},{\"attributes\":{},\"id\":\"218bb78e-8ace-46fa-a288-3ee701641fad\",\"type\":\"LinearScale\"},{\"attributes\":{\"label\":{\"value\":\"WGT igg=10\"},\"renderers\":[{\"id\":\"9197a498-db1b-49c9-9da8-f14bda6bf132\",\"type\":\"GlyphRenderer\"},{\"id\":\"b9aab412-70fc-459c-a870-b137ad8553f2\",\"type\":\"GlyphRenderer\"}]},\"id\":\"cbeb4426-4088-41d3-936a-d72d3aef17aa\",\"type\":\"LegendItem\"},{\"attributes\":{},\"id\":\"6dcc7a05-ab99-4bb3-b8a4-cd9bb646b40b\",\"type\":\"PanTool\"},{\"attributes\":{\"items\":[{\"id\":\"cfedac68-3d37-47c1-938e-a3fbb8080d62\",\"type\":\"LegendItem\"},{\"id\":\"b422d179-2253-4397-9c93-ad98fbc2c048\",\"type\":\"LegendItem\"},{\"id\":\"553c0cc8-be33-4cc2-8c87-0dc9497e95c4\",\"type\":\"LegendItem\"}],\"label_text_font_size\":{\"value\":\"8pt\"},\"location\":\"top_center\",\"orientation\":\"horizontal\",\"plot\":{\"id\":\"ea05e4be-c19a-4a3e-8625-16e5ec4d2263\",\"subtype\":\"Figure\",\"type\":\"Plot\"}},\"id\":\"5d11487b-38fc-4d21-ae9c-ede5a7485602\",\"type\":\"Legend\"},{\"attributes\":{\"overlay\":{\"id\":\"29072c52-02d9-4bba-b010-7366f5c09f15\",\"type\":\"BoxAnnotation\"}},\"id\":\"893f1a63-9c9a-4054-b272-bea9f29b117d\",\"type\":\"BoxZoomTool\"},{\"attributes\":{},\"id\":\"bf6e7c0f-8f8a-4871-9ae5-b0d5f91771b9\",\"type\":\"LogScale\"},{\"attributes\":{\"axis_label\":\"cooling rate [K/day]\",\"formatter\":{\"id\":\"e8c2edca-6edc-4d42-89c0-9aa9ebc534dc\",\"type\":\"BasicTickFormatter\"},\"plot\":{\"id\":\"ea05e4be-c19a-4a3e-8625-16e5ec4d2263\",\"subtype\":\"Figure\",\"type\":\"Plot\"},\"ticker\":{\"id\":\"70822adc-e7fc-45d8-aeb6-b8500b641bc6\",\"type\":\"BasicTicker\"}},\"id\":\"4bebdaae-777d-492b-b5f3-06b3879264f0\",\"type\":\"LinearAxis\"},{\"attributes\":{},\"id\":\"70822adc-e7fc-45d8-aeb6-b8500b641bc6\",\"type\":\"BasicTicker\"},{\"attributes\":{},\"id\":\"ad4deab2-d5cc-4c8a-a816-9aea98e29b48\",\"type\":\"WheelZoomTool\"},{\"attributes\":{},\"id\":\"aec54fdf-4181-4b00-8f3e-cb0e7be6b5bf\",\"type\":\"SaveTool\"},{\"attributes\":{},\"id\":\"c0186666-feb7-4286-86b9-10ec94ea88e0\",\"type\":\"ResetTool\"},{\"attributes\":{},\"id\":\"0196a929-ac7e-4b2d-b245-c39183803c20\",\"type\":\"HelpTool\"},{\"attributes\":{\"line_color\":\"#4daf4a\",\"line_width\":1.5,\"x\":{\"field\":\"x\"},\"y\":{\"field\":\"y\"}},\"id\":\"2414314e-1623-4315-8a11-41b5845fd78e\",\"type\":\"Line\"},{\"attributes\":{},\"id\":\"8e689691-f3fb-4430-b454-cc9ffa01083c\",\"type\":\"Selection\"},{\"attributes\":{\"fill_alpha\":{\"value\":0.7},\"fill_color\":{\"value\":\"#4daf4a\"},\"line_alpha\":{\"value\":0.7},\"line_color\":{\"value\":\"#4daf4a\"},\"x\":{\"field\":\"x\"},\"y\":{\"field\":\"y\"}},\"id\":\"72328707-ce4a-4062-8d44-549650d5f511\",\"type\":\"Circle\"},{\"attributes\":{\"axis_label\":\"pressure [mb]\",\"formatter\":{\"id\":\"737334bb-516d-4814-bc32-3bec5a4b2764\",\"type\":\"LogTickFormatter\"},\"plot\":{\"id\":\"ea05e4be-c19a-4a3e-8625-16e5ec4d2263\",\"subtype\":\"Figure\",\"type\":\"Plot\"},\"ticker\":{\"id\":\"03458b91-1e9b-45b8-8c98-b86cf4432eb4\",\"type\":\"LogTicker\"}},\"id\":\"3a44f8b4-3480-4c6f-8fe9-1d7336f55869\",\"type\":\"LogAxis\"},{\"attributes\":{\"data_source\":{\"id\":\"f5c75e53-56cf-4ce3-8a16-2a65ce2891b0\",\"type\":\"ColumnDataSource\"},\"glyph\":{\"id\":\"72328707-ce4a-4062-8d44-549650d5f511\",\"type\":\"Circle\"},\"hover_glyph\":null,\"muted_glyph\":null,\"nonselection_glyph\":{\"id\":\"7100969e-7ca5-4421-bbef-3a87baf1d997\",\"type\":\"Circle\"},\"selection_glyph\":null,\"view\":{\"id\":\"1557f01d-3b94-407c-a4cb-19c5622993c7\",\"type\":\"CDSView\"}},\"id\":\"4e5a6e27-89c5-44f1-9122-dc4159a76b5e\",\"type\":\"GlyphRenderer\"},{\"attributes\":{\"data_source\":{\"id\":\"7fbac6a0-37fb-45cc-80e8-028f37b4b6de\",\"type\":\"ColumnDataSource\"},\"glyph\":{\"id\":\"56cc7c6b-d36a-4988-abfe-1c6e86b8ff92\",\"type\":\"Circle\"},\"hover_glyph\":null,\"muted_glyph\":null,\"nonselection_glyph\":{\"id\":\"c3458b28-73e6-4d47-9c51-be8536672132\",\"type\":\"Circle\"},\"selection_glyph\":null,\"view\":{\"id\":\"4f35736e-038f-45d3-bb05-41fe8c8dcc04\",\"type\":\"CDSView\"}},\"id\":\"b71661dc-9edb-435d-afdd-f7d35c2ebc86\",\"type\":\"GlyphRenderer\"},{\"attributes\":{\"fill_alpha\":{\"value\":0.1},\"fill_color\":{\"value\":\"#1f77b4\"},\"line_alpha\":{\"value\":0.1},\"line_color\":{\"value\":\"#1f77b4\"},\"x\":{\"field\":\"x\"},\"y\":{\"field\":\"y\"}},\"id\":\"7100969e-7ca5-4421-bbef-3a87baf1d997\",\"type\":\"Circle\"},{\"attributes\":{\"source\":{\"id\":\"7fbac6a0-37fb-45cc-80e8-028f37b4b6de\",\"type\":\"ColumnDataSource\"}},\"id\":\"4f35736e-038f-45d3-bb05-41fe8c8dcc04\",\"type\":\"CDSView\"},{\"attributes\":{},\"id\":\"c0a2e8a1-57ed-4f63-9b78-f0ba2af29123\",\"type\":\"Selection\"},{\"attributes\":{},\"id\":\"9712502c-fc15-4476-a7d0-a066e39f9f89\",\"type\":\"UnionRenderers\"},{\"attributes\":{\"line_color\":\"#4daf4a\",\"line_width\":1.5,\"x\":{\"field\":\"x\"},\"y\":{\"field\":\"y\"}},\"id\":\"e267f8ca-387e-484a-b349-4a1ce50f6495\",\"type\":\"Line\"},{\"attributes\":{\"callback\":null,\"data\":{\"x\":{\"__ndarray__\":\"QZueQtAdT7+UlUfmG/dOvy8OxoIdo06/moEGeZJHTr+XRE+bMelNv3bmwuoGiE2/vbJSHQokTb+HV6YKMb1Mv4hnRjZuU0y/8oTgDsDmS79YMIEmJndLv+gbJWmTBEu/fv9Ao/aOSr9lMD7mUw5Kv7dduVR/fEi/yGLvlWmdQ7/oRiyvQq01vyIce2hjzfk+05SCemBgPz/ekW6ZBTJRPwVSgHZwwVw/PwW2vXNlZT+xDTPwN+xrP3FV+Dvkgmw/o2f95U9mZz/zOUinbYVhP6Xr7CHmfVg/P7AQ/yAmTz8sJ/KaMcRAP47rg87iQyQ/DR4Kbqd8JL+ZG3Kv1m48v8J+FH34ukW/8m5XZsElTL+WX5rrOrBRvw9MrXicAla/qLy8SWPeWb8hxb61c+Bcvx3Byxxrt1+/u5Pt0vbOYL+JcQ2bYDJgv7BdDPS4B1u/p+GnL5zLU7+4mYuH63ZHv0qgU4bObSe/ewe//4KKNz8Y3J5zt2BPPxaNYcAlD1o/QYJNGn1lYj8skd9xfolnP8AbIznfH20/9zGSQdZhcT9QLcHydxl0P3iGC+rr2nY/Ki864MixeT/W5yyjuHJ8P7r+v1uwNX8/HMoQjOoJgT80EeA7BGqCPzudmC9X0YM/KH/tHKdBhT9zTBb3H5mGP0nH0hAgBog/3z8iFeJriT8JJBdSNMWKP2pIkNWjLIw/swri1rl2jT9ZZyZfo8GOP8TXz0mM8Y8/3f5aMzmCkD/msrXkDwuRP7rV7ZgsgZE/U+0kOZgBkj/+KAFps3WSPxt6Udxt7pI/\",\"dtype\":\"float64\",\"shape\":[75]},\"y\":{\"__ndarray__\":\"GhExyth1ND/Sv8nbtpRIP2vylNV0PVE/aTum7souWD/At0SJ8fVgPw3Iuahxymc/MSNhhJWvcD/bTfBN02d3P2zb5nxnaoA/CD5h5MAGhz8NmeH1TyaQP+zrCsc9p5Y/LbKd76fGnz/bLW5ISEmmPww9YvTcQq8/JV2OstnstT8Er5Y7M8G+P0c+r3jqkcU/5h99k6ZBzj88bCIzFzjVP4enV8oyxN0//yH99nXg5D8qOpLLf0jtP5kqGJXUifQ/c9cS8kHP/D+/DpwzojQEQIEmwoanVwxA4lgXt9HgE0BSSZ2AJuIbQAMJih9jjiNA5q4l5INuK0AwTKYKRj0zQNv5fmq8/DpAaCJseHrtQkB/+zpwzoxKQM3MzMzMeFJAZmZmZmZqWEAAAAAAAFxeQM3MzMzMJmJAmpmZmZkfZUBmZmZmZhhoQDMzMzMzEWtAAAAAAAAKbkBmZmZmZoFwQM3MzMzM/XFAMzMzMzN6c0CamZmZmfZ0QAAAAAAAc3ZAZmZmZmbvd0DNzMzMzGt5QDMzMzMz6HpAmpmZmZlkfEAAAAAAAOF9QGZmZmZmXX9AZmZmZuZsgECamZmZGSuBQM3MzMxM6YFAAAAAAICngkAzMzMzs2WDQGZmZmbmI4RAmpmZmRnihEDNzMzMTKCFQAAAAACAXoZAMzMzM7Mch0BmZmZm5tqHQJqZmZkZmYhAzczMzExXiUAAAAAAgBWKQDMzMzOz04pAZmZmZuaRi0CamZmZGVCMQM3MzMxMDo1AAAAAAIDMjUAzMzMzs4qOQGZmZmbmSI9A\",\"dtype\":\"float64\",\"shape\":[75]}},\"selected\":{\"id\":\"720218f5-b499-4b52-b0cf-73b58c67bfea\",\"type\":\"Selection\"},\"selection_policy\":{\"id\":\"66da32aa-5f11-4f59-b080-261d1d53a81c\",\"type\":\"UnionRenderers\"}},\"id\":\"f1ba3495-54aa-45da-be27-9a1578ec2849\",\"type\":\"ColumnDataSource\"},{\"attributes\":{\"axis_label\":\"cooling rate [K/day]\",\"formatter\":{\"id\":\"c6d05709-387c-45ca-b131-c9dd2b01df67\",\"type\":\"BasicTickFormatter\"},\"plot\":{\"id\":\"5957694d-11c0-4cb9-a4c5-60e5dffa54a4\",\"subtype\":\"Figure\",\"type\":\"Plot\"},\"ticker\":{\"id\":\"d810a311-0e41-4fed-983f-1a76d41cd0c8\",\"type\":\"BasicTicker\"}},\"id\":\"596fb783-941e-4571-a85a-eb3b06be6840\",\"type\":\"LinearAxis\"},{\"attributes\":{},\"id\":\"515e0e91-5d33-4ad5-974e-d014c569607e\",\"type\":\"Selection\"},{\"attributes\":{\"source\":{\"id\":\"f5c75e53-56cf-4ce3-8a16-2a65ce2891b0\",\"type\":\"ColumnDataSource\"}},\"id\":\"1557f01d-3b94-407c-a4cb-19c5622993c7\",\"type\":\"CDSView\"},{\"attributes\":{},\"id\":\"ecf013b7-d8f5-43d7-9fa6-96716c351e51\",\"type\":\"UnionRenderers\"},{\"attributes\":{\"callback\":null,\"data\":{\"x\":{\"__ndarray__\":\"QZueQtAdT7+UlUfmG/dOvy8OxoIdo06/moEGeZJHTr+XRE+bMelNv3bmwuoGiE2/vbJSHQokTb+HV6YKMb1Mv4hnRjZuU0y/8oTgDsDmS79YMIEmJndLv+gbJWmTBEu/fv9Ao/aOSr9lMD7mUw5Kv7dduVR/fEi/yGLvlWmdQ7/oRiyvQq01vyIce2hjzfk+05SCemBgPz/ekW6ZBTJRPwVSgHZwwVw/PwW2vXNlZT+xDTPwN+xrP3FV+Dvkgmw/o2f95U9mZz/zOUinbYVhP6Xr7CHmfVg/P7AQ/yAmTz8sJ/KaMcRAP47rg87iQyQ/DR4Kbqd8JL+ZG3Kv1m48v8J+FH34ukW/8m5XZsElTL+WX5rrOrBRvw9MrXicAla/qLy8SWPeWb8hxb61c+Bcvx3Byxxrt1+/u5Pt0vbOYL+JcQ2bYDJgv7BdDPS4B1u/p+GnL5zLU7+4mYuH63ZHv0qgU4bObSe/ewe//4KKNz8Y3J5zt2BPPxaNYcAlD1o/QYJNGn1lYj8skd9xfolnP8AbIznfH20/9zGSQdZhcT9QLcHydxl0P3iGC+rr2nY/Ki864MixeT/W5yyjuHJ8P7r+v1uwNX8/HMoQjOoJgT80EeA7BGqCPzudmC9X0YM/KH/tHKdBhT9zTBb3H5mGP0nH0hAgBog/3z8iFeJriT8JJBdSNMWKP2pIkNWjLIw/swri1rl2jT9ZZyZfo8GOP8TXz0mM8Y8/3f5aMzmCkD/msrXkDwuRP7rV7ZgsgZE/U+0kOZgBkj/+KAFps3WSPxt6Udxt7pI/\",\"dtype\":\"float64\",\"shape\":[75]},\"y\":{\"__ndarray__\":\"GhExyth1ND/Sv8nbtpRIP2vylNV0PVE/aTum7souWD/At0SJ8fVgPw3Iuahxymc/MSNhhJWvcD/bTfBN02d3P2zb5nxnaoA/CD5h5MAGhz8NmeH1TyaQP+zrCsc9p5Y/LbKd76fGnz/bLW5ISEmmPww9YvTcQq8/JV2OstnstT8Er5Y7M8G+P0c+r3jqkcU/5h99k6ZBzj88bCIzFzjVP4enV8oyxN0//yH99nXg5D8qOpLLf0jtP5kqGJXUifQ/c9cS8kHP/D+/DpwzojQEQIEmwoanVwxA4lgXt9HgE0BSSZ2AJuIbQAMJih9jjiNA5q4l5INuK0AwTKYKRj0zQNv5fmq8/DpAaCJseHrtQkB/+zpwzoxKQM3MzMzMeFJAZmZmZmZqWEAAAAAAAFxeQM3MzMzMJmJAmpmZmZkfZUBmZmZmZhhoQDMzMzMzEWtAAAAAAAAKbkBmZmZmZoFwQM3MzMzM/XFAMzMzMzN6c0CamZmZmfZ0QAAAAAAAc3ZAZmZmZmbvd0DNzMzMzGt5QDMzMzMz6HpAmpmZmZlkfEAAAAAAAOF9QGZmZmZmXX9AZmZmZuZsgECamZmZGSuBQM3MzMxM6YFAAAAAAICngkAzMzMzs2WDQGZmZmbmI4RAmpmZmRnihEDNzMzMTKCFQAAAAACAXoZAMzMzM7Mch0BmZmZm5tqHQJqZmZkZmYhAzczMzExXiUAAAAAAgBWKQDMzMzOz04pAZmZmZuaRi0CamZmZGVCMQM3MzMxMDo1AAAAAAIDMjUAzMzMzs4qOQGZmZmbmSI9A\",\"dtype\":\"float64\",\"shape\":[75]}},\"selected\":{\"id\":\"3d808844-52da-413e-8435-8df93ce58977\",\"type\":\"Selection\"},\"selection_policy\":{\"id\":\"a6b0003c-fe2c-4713-b0b0-d32a3a678d95\",\"type\":\"UnionRenderers\"}},\"id\":\"1e75770d-1ccc-43f6-9073-707f14765088\",\"type\":\"ColumnDataSource\"},{\"attributes\":{\"callback\":null,\"end\":0.018693745516,\"start\":-0.002326977116},\"id\":\"4a8d2c9d-2a10-462f-bcb3-c0f552e7956c\",\"type\":\"Range1d\"},{\"attributes\":{\"fill_alpha\":{\"value\":0.1},\"fill_color\":{\"value\":\"#1f77b4\"},\"line_alpha\":{\"value\":0.1},\"line_color\":{\"value\":\"#1f77b4\"},\"x\":{\"field\":\"x\"},\"y\":{\"field\":\"y\"}},\"id\":\"56491767-d2bb-4cfb-9016-320d1fc2975e\",\"type\":\"Square\"},{\"attributes\":{\"data_source\":{\"id\":\"1e75770d-1ccc-43f6-9073-707f14765088\",\"type\":\"ColumnDataSource\"},\"glyph\":{\"id\":\"07810b12-b5cf-4e06-a2b5-189cb500a33f\",\"type\":\"Square\"},\"hover_glyph\":null,\"muted_glyph\":null,\"nonselection_glyph\":{\"id\":\"56491767-d2bb-4cfb-9016-320d1fc2975e\",\"type\":\"Square\"},\"selection_glyph\":null,\"view\":{\"id\":\"b31bbfdd-ac20-440e-9d1e-cb28cd86b6db\",\"type\":\"CDSView\"}},\"id\":\"6a9018a0-6660-494d-a5c9-88531e23b6e2\",\"type\":\"GlyphRenderer\"},{\"attributes\":{\"source\":{\"id\":\"53ec4186-bd4a-40bd-ac23-622d1823e7f3\",\"type\":\"ColumnDataSource\"}},\"id\":\"49591274-0675-44a2-9bc8-6298fdda4426\",\"type\":\"CDSView\"},{\"attributes\":{\"line_alpha\":0.6,\"line_color\":\"#984ea3\",\"line_width\":3,\"x\":{\"field\":\"x\"},\"y\":{\"field\":\"y\"}},\"id\":\"eb7c672f-1195-4e2e-a9ba-067be8a21d84\",\"type\":\"Line\"},{\"attributes\":{\"fill_alpha\":{\"value\":0.7},\"fill_color\":{\"value\":\"#4daf4a\"},\"line_alpha\":{\"value\":0.7},\"line_color\":{\"value\":\"#4daf4a\"},\"x\":{\"field\":\"x\"},\"y\":{\"field\":\"y\"}},\"id\":\"56cc7c6b-d36a-4988-abfe-1c6e86b8ff92\",\"type\":\"Circle\"},{\"attributes\":{\"line_alpha\":0.1,\"line_color\":\"#1f77b4\",\"line_width\":3,\"x\":{\"field\":\"x\"},\"y\":{\"field\":\"y\"}},\"id\":\"8691c276-eedf-41f2-bfaa-61390b17b40b\",\"type\":\"Line\"},{\"attributes\":{\"line_alpha\":0.1,\"line_color\":\"#1f77b4\",\"line_width\":2,\"x\":{\"field\":\"x\"},\"y\":{\"field\":\"y\"}},\"id\":\"cf136923-8bc5-4e6f-bca7-6c424883410a\",\"type\":\"Line\"},{\"attributes\":{\"source\":{\"id\":\"1e75770d-1ccc-43f6-9073-707f14765088\",\"type\":\"ColumnDataSource\"}},\"id\":\"b31bbfdd-ac20-440e-9d1e-cb28cd86b6db\",\"type\":\"CDSView\"},{\"attributes\":{\"source\":{\"id\":\"f1ba3495-54aa-45da-be27-9a1578ec2849\",\"type\":\"ColumnDataSource\"}},\"id\":\"75ed8ecb-51b5-45ad-b2ea-a677d40941b1\",\"type\":\"CDSView\"},{\"attributes\":{\"fill_alpha\":{\"value\":0.1},\"fill_color\":{\"value\":\"#1f77b4\"},\"line_alpha\":{\"value\":0.1},\"line_color\":{\"value\":\"#1f77b4\"},\"x\":{\"field\":\"x\"},\"y\":{\"field\":\"y\"}},\"id\":\"c3458b28-73e6-4d47-9c51-be8536672132\",\"type\":\"Circle\"},{\"attributes\":{\"callback\":null,\"data\":{\"x\":{\"__ndarray__\":\"a0ouS9xcSb+mpPBKwy9Jv4SsDCOZzEi/3py/9vFgSL/bmAnXjvJHv+m3WRm7gUe/troTrHgNR78F0wzT0ZVGvyrEDl0gG0a/iq+fvzKeRb/kkiPu3h1FvwDk6qLNmkS/1kldRPwTRL8BTqGVNIBDv8Jt4hoLtkG/W0zhGJNmOL+Bfwoo71ITv15NokYvzzQ/FMMHWVapSj9nqHnrXXNXPxT/LCSE8WE/xWSUoORyaT/Z+Vai7i5wPxcJsHqOcHA/tdQI2Ko/az9W/RuKs8hkPy8yj2le710/P2YGOuoSVD8K1ZjTDzFIP9A9/DdwWzY/zG6rpxWq1L78JkEfGY40v4GT3MaHnkK/df+apODGSb8eLLYdoOFQv0lnGQ/anlW/ojE68M/kWb+wFzIyGzhdvxYrfl0TPGC/bnruAdVfYb+1s14+aKVgv8YxKTWos1u/6L/IAftsVL/WPgpxq5lIv3Kl11/r5yu/vyrY20ihNz/pJPm2ZJxPP8dvX72JHlo/1bBznOFiYj/I2ITR99VnP05d/Js+XG0/2kY0aIV1cT/V4aB5Sz10P764R8RKBHc/V2hNF1XLeT+GKgvXSZN8P/O/88ubXH8/4FihFnQTgT/f36C9+niCP2sNgXnK3oM/auPCYIJDhT/266J2LKeGP5mbn30NCog/lHu8u45riT+/2cpxxcqKP62BtYN0JYw/E704Yyt3jT+miT/WyLiOP6eL6Ulm448/XxSiGxh7kD/sPYA4VPuQP75AE9jRdZE/dDP/j+PskT/tVvcRvWGSP45LV9sN1ZI/\",\"dtype\":\"float64\",\"shape\":[75]},\"y\":{\"__ndarray__\":\"GhExyth1ND/Sv8nbtpRIP2vylNV0PVE/aTum7souWD/At0SJ8fVgPw3Iuahxymc/MSNhhJWvcD/bTfBN02d3P2zb5nxnaoA/CD5h5MAGhz8NmeH1TyaQP+zrCsc9p5Y/LbKd76fGnz/bLW5ISEmmPww9YvTcQq8/JV2OstnstT8Er5Y7M8G+P0c+r3jqkcU/5h99k6ZBzj88bCIzFzjVP4enV8oyxN0//yH99nXg5D8qOpLLf0jtP5kqGJXUifQ/c9cS8kHP/D+/DpwzojQEQIEmwoanVwxA4lgXt9HgE0BSSZ2AJuIbQAMJih9jjiNA5q4l5INuK0AwTKYKRj0zQNv5fmq8/DpAaCJseHrtQkB/+zpwzoxKQM3MzMzMeFJAZmZmZmZqWEAAAAAAAFxeQM3MzMzMJmJAmpmZmZkfZUBmZmZmZhhoQDMzMzMzEWtAAAAAAAAKbkBmZmZmZoFwQM3MzMzM/XFAMzMzMzN6c0CamZmZmfZ0QAAAAAAAc3ZAZmZmZmbvd0DNzMzMzGt5QDMzMzMz6HpAmpmZmZlkfEAAAAAAAOF9QGZmZmZmXX9AZmZmZuZsgECamZmZGSuBQM3MzMxM6YFAAAAAAICngkAzMzMzs2WDQGZmZmbmI4RAmpmZmRnihEDNzMzMTKCFQAAAAACAXoZAMzMzM7Mch0BmZmZm5tqHQJqZmZkZmYhAzczMzExXiUAAAAAAgBWKQDMzMzOz04pAZmZmZuaRi0CamZmZGVCMQM3MzMxMDo1AAAAAAIDMjUAzMzMzs4qOQGZmZmbmSI9A\",\"dtype\":\"float64\",\"shape\":[75]}},\"selected\":{\"id\":\"932b045c-e223-45d9-885e-8291770eabb6\",\"type\":\"Selection\"},\"selection_policy\":{\"id\":\"5a49bc3f-4908-45fb-9417-7b1234113af6\",\"type\":\"UnionRenderers\"}},\"id\":\"53ec4186-bd4a-40bd-ac23-622d1823e7f3\",\"type\":\"ColumnDataSource\"},{\"attributes\":{\"bottom_units\":\"screen\",\"fill_alpha\":{\"value\":0.5},\"fill_color\":{\"value\":\"lightgrey\"},\"left_units\":\"screen\",\"level\":\"overlay\",\"line_alpha\":{\"value\":1.0},\"line_color\":{\"value\":\"black\"},\"line_dash\":[4,4],\"line_width\":{\"value\":2},\"plot\":null,\"render_mode\":\"css\",\"right_units\":\"screen\",\"top_units\":\"screen\"},\"id\":\"1f043b0a-880d-4200-818d-6d3cc6075308\",\"type\":\"BoxAnnotation\"},{\"attributes\":{\"line_alpha\":0.1,\"line_color\":\"#1f77b4\",\"line_width\":1.5,\"x\":{\"field\":\"x\"},\"y\":{\"field\":\"y\"}},\"id\":\"240662aa-1a46-4f0d-84ae-c719d987932a\",\"type\":\"Line\"},{\"attributes\":{\"data_source\":{\"id\":\"f1ba3495-54aa-45da-be27-9a1578ec2849\",\"type\":\"ColumnDataSource\"},\"glyph\":{\"id\":\"eb7c672f-1195-4e2e-a9ba-067be8a21d84\",\"type\":\"Line\"},\"hover_glyph\":null,\"muted_glyph\":null,\"nonselection_glyph\":{\"id\":\"8691c276-eedf-41f2-bfaa-61390b17b40b\",\"type\":\"Line\"},\"selection_glyph\":null,\"view\":{\"id\":\"75ed8ecb-51b5-45ad-b2ea-a677d40941b1\",\"type\":\"CDSView\"}},\"id\":\"beca2493-36bb-401d-b6fd-1002e219b5cb\",\"type\":\"GlyphRenderer\"},{\"attributes\":{\"data_source\":{\"id\":\"53ec4186-bd4a-40bd-ac23-622d1823e7f3\",\"type\":\"ColumnDataSource\"},\"glyph\":{\"id\":\"e267f8ca-387e-484a-b349-4a1ce50f6495\",\"type\":\"Line\"},\"hover_glyph\":null,\"muted_glyph\":null,\"nonselection_glyph\":{\"id\":\"240662aa-1a46-4f0d-84ae-c719d987932a\",\"type\":\"Line\"},\"selection_glyph\":null,\"view\":{\"id\":\"49591274-0675-44a2-9bc8-6298fdda4426\",\"type\":\"CDSView\"}},\"id\":\"35abe964-3415-47b4-b001-005ce3b40494\",\"type\":\"GlyphRenderer\"},{\"attributes\":{\"callback\":null,\"data\":{\"x\":{\"__ndarray__\":\"7P2v5FteTb/Pp/D7MzxNv7lVWP0N8ky/J7oQ6C2hTL+/BC/uw01Mv2AtCefV90u/Q13gL12fS78Job2tUERLv2poag+l5kq/whWYoliGSr+zKD+payNKv+xwqNfSvUm/R0J04H9VSb8tE22MXONIvyJf7fZgfke/MISffPwnQ79vniLcTaI2vxjLT2ESdPy+PSf6vAftOD/TWns+tERNP0d3tl3mCFk/GNw5injWYj+vgVyCDbhoP2WzwGGdP2k/Pd5x9LujZD8xtyHc4q5eP8O9MUqwLVU/9MqfbcFLSj9NMYN93LA6P8IZm5IrbxY/IOfrcMaMKb/aNEgsvDk9v/acOhCsaEW/rfEpQK5IS788xsk/4vdQv76Ux/zf9lS/Y3pfMXOVWL9rd8hDEWFbv7G5ryllEF6/CCI3NWPgX7/YDR0zN3xev/HTEzpRiVm/NPD80j0TU7+b8oQqCpxHv3PBegiJ9i6/h04+jJ2NMj91182op0lLP9La8uIkE1c/MMXtOEtuYD/8qb9P7XRlP3qUCBNRk2o/jhFLcW6/bz+qpkSLFXlyPw5d7f2WFHU/SrXXk5yydz8Eg069s1N6P4zO4Izt93w/lTftTf+efz9ZGE5MMSSBP2o2pha3eYI/+8BZe/TOgz/SXqUEwiOFP/qA7GdEeIY/Wj7uAvXLhz9uFLyV4x2JP1B1zYYqbIo/qA+UQ9qyiz8vpaBur+uMPzaMAWDcEI4/BVqMSoIhjz8aCesBHhGQP9XhmptsjJA/R6rv/KIEkT82PneoxHqRP9TkHThL75E/\",\"dtype\":\"float64\",\"shape\":[75]},\"y\":{\"__ndarray__\":\"GhExyth1ND/Sv8nbtpRIP2vylNV0PVE/aTum7souWD/At0SJ8fVgPw3Iuahxymc/MSNhhJWvcD/bTfBN02d3P2zb5nxnaoA/CD5h5MAGhz8NmeH1TyaQP+zrCsc9p5Y/LbKd76fGnz/bLW5ISEmmPww9YvTcQq8/JV2OstnstT8Er5Y7M8G+P0c+r3jqkcU/5h99k6ZBzj88bCIzFzjVP4enV8oyxN0//yH99nXg5D8qOpLLf0jtP5kqGJXUifQ/c9cS8kHP/D+/DpwzojQEQIEmwoanVwxA4lgXt9HgE0BSSZ2AJuIbQAMJih9jjiNA5q4l5INuK0AwTKYKRj0zQNv5fmq8/DpAaCJseHrtQkB/+zpwzoxKQM3MzMzMeFJAZmZmZmZqWEAAAAAAAFxeQM3MzMzMJmJAmpmZmZkfZUBmZmZmZhhoQDMzMzMzEWtAAAAAAAAKbkBmZmZmZoFwQM3MzMzM/XFAMzMzMzN6c0CamZmZmfZ0QAAAAAAAc3ZAZmZmZmbvd0DNzMzMzGt5QDMzMzMz6HpAmpmZmZlkfEAAAAAAAOF9QGZmZmZmXX9AZmZmZuZsgECamZmZGSuBQM3MzMxM6YFAAAAAAICngkAzMzMzs2WDQGZmZmbmI4RAmpmZmRnihEDNzMzMTKCFQAAAAACAXoZAMzMzM7Mch0BmZmZm5tqHQJqZmZkZmYhAzczMzExXiUAAAAAAgBWKQDMzMzOz04pAZmZmZuaRi0CamZmZGVCMQM3MzMxMDo1AAAAAAIDMjUAzMzMzs4qOQGZmZmbmSI9A\",\"dtype\":\"float64\",\"shape\":[75]}},\"selected\":{\"id\":\"5bca39d5-1a5d-4316-8851-07aa15e50cee\",\"type\":\"Selection\"},\"selection_policy\":{\"id\":\"08fbda1f-a8cb-4505-8c92-1ef825cca6eb\",\"type\":\"UnionRenderers\"}},\"id\":\"a4633119-5ef3-4ef2-9b07-5ffd1f38bfad\",\"type\":\"ColumnDataSource\"},{\"attributes\":{\"fill_alpha\":{\"value\":0.7},\"fill_color\":{\"value\":\"#377eb8\"},\"line_alpha\":{\"value\":0.7},\"line_color\":{\"value\":\"#377eb8\"},\"x\":{\"field\":\"x\"},\"y\":{\"field\":\"y\"}},\"id\":\"56c2370f-4665-49a0-bfc1-b67db60e728d\",\"type\":\"Triangle\"},{\"attributes\":{},\"id\":\"9110afe7-9d0d-405d-983d-e85367e7823d\",\"type\":\"HelpTool\"},{\"attributes\":{\"callback\":null,\"data\":{\"x\":{\"__ndarray__\":\"7P2v5FteTb/Pp/D7MzxNv7lVWP0N8ky/J7oQ6C2hTL+/BC/uw01Mv2AtCefV90u/Q13gL12fS78Job2tUERLv2poag+l5kq/whWYoliGSr+zKD+payNKv+xwqNfSvUm/R0J04H9VSb8tE22MXONIvyJf7fZgfke/MISffPwnQ79vniLcTaI2vxjLT2ESdPy+PSf6vAftOD/TWns+tERNP0d3tl3mCFk/GNw5injWYj+vgVyCDbhoP2WzwGGdP2k/Pd5x9LujZD8xtyHc4q5eP8O9MUqwLVU/9MqfbcFLSj9NMYN93LA6P8IZm5IrbxY/IOfrcMaMKb/aNEgsvDk9v/acOhCsaEW/rfEpQK5IS788xsk/4vdQv76Ux/zf9lS/Y3pfMXOVWL9rd8hDEWFbv7G5ryllEF6/CCI3NWPgX7/YDR0zN3xev/HTEzpRiVm/NPD80j0TU7+b8oQqCpxHv3PBegiJ9i6/h04+jJ2NMj91182op0lLP9La8uIkE1c/MMXtOEtuYD/8qb9P7XRlP3qUCBNRk2o/jhFLcW6/bz+qpkSLFXlyPw5d7f2WFHU/SrXXk5yydz8Eg069s1N6P4zO4Izt93w/lTftTf+efz9ZGE5MMSSBP2o2pha3eYI/+8BZe/TOgz/SXqUEwiOFP/qA7GdEeIY/Wj7uAvXLhz9uFLyV4x2JP1B1zYYqbIo/qA+UQ9qyiz8vpaBur+uMPzaMAWDcEI4/BVqMSoIhjz8aCesBHhGQP9XhmptsjJA/R6rv/KIEkT82PneoxHqRP9TkHThL75E/\",\"dtype\":\"float64\",\"shape\":[75]},\"y\":{\"__ndarray__\":\"GhExyth1ND/Sv8nbtpRIP2vylNV0PVE/aTum7souWD/At0SJ8fVgPw3Iuahxymc/MSNhhJWvcD/bTfBN02d3P2zb5nxnaoA/CD5h5MAGhz8NmeH1TyaQP+zrCsc9p5Y/LbKd76fGnz/bLW5ISEmmPww9YvTcQq8/JV2OstnstT8Er5Y7M8G+P0c+r3jqkcU/5h99k6ZBzj88bCIzFzjVP4enV8oyxN0//yH99nXg5D8qOpLLf0jtP5kqGJXUifQ/c9cS8kHP/D+/DpwzojQEQIEmwoanVwxA4lgXt9HgE0BSSZ2AJuIbQAMJih9jjiNA5q4l5INuK0AwTKYKRj0zQNv5fmq8/DpAaCJseHrtQkB/+zpwzoxKQM3MzMzMeFJAZmZmZmZqWEAAAAAAAFxeQM3MzMzMJmJAmpmZmZkfZUBmZmZmZhhoQDMzMzMzEWtAAAAAAAAKbkBmZmZmZoFwQM3MzMzM/XFAMzMzMzN6c0CamZmZmfZ0QAAAAAAAc3ZAZmZmZmbvd0DNzMzMzGt5QDMzMzMz6HpAmpmZmZlkfEAAAAAAAOF9QGZmZmZmXX9AZmZmZuZsgECamZmZGSuBQM3MzMxM6YFAAAAAAICngkAzMzMzs2WDQGZmZmbmI4RAmpmZmRnihEDNzMzMTKCFQAAAAACAXoZAMzMzM7Mch0BmZmZm5tqHQJqZmZkZmYhAzczMzExXiUAAAAAAgBWKQDMzMzOz04pAZmZmZuaRi0CamZmZGVCMQM3MzMxMDo1AAAAAAIDMjUAzMzMzs4qOQGZmZmbmSI9A\",\"dtype\":\"float64\",\"shape\":[75]}},\"selected\":{\"id\":\"bcf79eec-8ecf-4a41-965a-1186d0f232c9\",\"type\":\"Selection\"},\"selection_policy\":{\"id\":\"b6d295c4-92e0-4ee8-8254-6d0fff46ad03\",\"type\":\"UnionRenderers\"}},\"id\":\"ac4da647-cf31-47f1-8e9a-aa3d88bf32d3\",\"type\":\"ColumnDataSource\"},{\"attributes\":{\"source\":{\"id\":\"a4633119-5ef3-4ef2-9b07-5ffd1f38bfad\",\"type\":\"ColumnDataSource\"}},\"id\":\"f87fe226-41e0-4834-a058-60b8fc73fdd3\",\"type\":\"CDSView\"},{\"attributes\":{},\"id\":\"83618995-8c25-4b9e-b479-c498671fce66\",\"type\":\"UnionRenderers\"},{\"attributes\":{\"fill_alpha\":{\"value\":0.7},\"fill_color\":{\"value\":\"#984ea3\"},\"line_alpha\":{\"value\":0.7},\"line_color\":{\"value\":\"#984ea3\"},\"x\":{\"field\":\"x\"},\"y\":{\"field\":\"y\"}},\"id\":\"07810b12-b5cf-4e06-a2b5-189cb500a33f\",\"type\":\"Square\"},{\"attributes\":{\"items\":[{\"id\":\"18b57b24-c91c-48e8-9382-493a273d0830\",\"type\":\"LegendItem\"},{\"id\":\"bea040ad-e6af-470a-80ce-03e349f863b2\",\"type\":\"LegendItem\"},{\"id\":\"cbeb4426-4088-41d3-936a-d72d3aef17aa\",\"type\":\"LegendItem\"}],\"label_text_font_size\":{\"value\":\"8pt\"},\"location\":\"top_center\",\"orientation\":\"horizontal\",\"plot\":{\"id\":\"5957694d-11c0-4cb9-a4c5-60e5dffa54a4\",\"subtype\":\"Figure\",\"type\":\"Plot\"}},\"id\":\"95651b76-0e13-49e5-b3fc-954388a9931c\",\"type\":\"Legend\"},{\"attributes\":{\"fill_alpha\":{\"value\":0.1},\"fill_color\":{\"value\":\"#1f77b4\"},\"line_alpha\":{\"value\":0.1},\"line_color\":{\"value\":\"#1f77b4\"},\"x\":{\"field\":\"x\"},\"y\":{\"field\":\"y\"}},\"id\":\"6bebbd8f-2322-4cdb-8391-458005a1d907\",\"type\":\"Triangle\"},{\"attributes\":{\"line_alpha\":0.3,\"line_color\":\"#377eb8\",\"line_width\":2,\"x\":{\"field\":\"x\"},\"y\":{\"field\":\"y\"}},\"id\":\"143543e8-b506-41dc-9f23-0516d5a7e110\",\"type\":\"Line\"},{\"attributes\":{\"children\":[{\"id\":\"2ff62f2a-b2a4-4976-bbc6-738c806c8f79\",\"type\":\"Row\"}]},\"id\":\"d30470d6-72c1-4a02-b258-eea71b673a04\",\"type\":\"Column\"},{\"attributes\":{\"data_source\":{\"id\":\"a4633119-5ef3-4ef2-9b07-5ffd1f38bfad\",\"type\":\"ColumnDataSource\"},\"glyph\":{\"id\":\"56c2370f-4665-49a0-bfc1-b67db60e728d\",\"type\":\"Triangle\"},\"hover_glyph\":null,\"muted_glyph\":null,\"nonselection_glyph\":{\"id\":\"6bebbd8f-2322-4cdb-8391-458005a1d907\",\"type\":\"Triangle\"},\"selection_glyph\":null,\"view\":{\"id\":\"f87fe226-41e0-4834-a058-60b8fc73fdd3\",\"type\":\"CDSView\"}},\"id\":\"a86ab33f-f293-4bd9-b6e8-69a9035f584d\",\"type\":\"GlyphRenderer\"},{\"attributes\":{\"callback\":null,\"end\":0.01,\"start\":1020},\"id\":\"6662031a-e348-4337-bb62-5aea7c0c0034\",\"type\":\"Range1d\"},{\"attributes\":{\"data_source\":{\"id\":\"ac4da647-cf31-47f1-8e9a-aa3d88bf32d3\",\"type\":\"ColumnDataSource\"},\"glyph\":{\"id\":\"143543e8-b506-41dc-9f23-0516d5a7e110\",\"type\":\"Line\"},\"hover_glyph\":null,\"muted_glyph\":null,\"nonselection_glyph\":{\"id\":\"cf136923-8bc5-4e6f-bca7-6c424883410a\",\"type\":\"Line\"},\"selection_glyph\":null,\"view\":{\"id\":\"2df9dc3c-e3f1-45a3-8496-4980e1c48512\",\"type\":\"CDSView\"}},\"id\":\"e4ed215d-3d9d-4b6c-ac21-58ea183bdfc8\",\"type\":\"GlyphRenderer\"},{\"attributes\":{\"source\":{\"id\":\"ac4da647-cf31-47f1-8e9a-aa3d88bf32d3\",\"type\":\"ColumnDataSource\"}},\"id\":\"2df9dc3c-e3f1-45a3-8496-4980e1c48512\",\"type\":\"CDSView\"},{\"attributes\":{},\"id\":\"3e3d733d-4773-4d08-aeb4-181c751ab137\",\"type\":\"LinearScale\"},{\"attributes\":{\"plot\":null,\"text\":\"\"},\"id\":\"e1c26bff-6d62-499d-b564-57d30e416be4\",\"type\":\"Title\"},{\"attributes\":{},\"id\":\"02128695-ec9b-48a8-b0a8-48948404e256\",\"type\":\"LinearScale\"},{\"attributes\":{\"children\":[{\"id\":\"5957694d-11c0-4cb9-a4c5-60e5dffa54a4\",\"subtype\":\"Figure\",\"type\":\"Plot\"},{\"id\":\"ea05e4be-c19a-4a3e-8625-16e5ec4d2263\",\"subtype\":\"Figure\",\"type\":\"Plot\"}]},\"id\":\"2ff62f2a-b2a4-4976-bbc6-738c806c8f79\",\"type\":\"Row\"},{\"attributes\":{\"active_drag\":\"auto\",\"active_inspect\":\"auto\",\"active_scroll\":\"auto\",\"active_tap\":\"auto\",\"tools\":[{\"id\":\"132fe251-0b7e-49b4-8161-200bdb2f3377\",\"type\":\"PanTool\"},{\"id\":\"ce0905e8-ca81-4e05-8d58-3af1a156db10\",\"type\":\"WheelZoomTool\"},{\"id\":\"6252fa01-cc6d-44f0-ba06-c3e6e447ee7f\",\"type\":\"BoxZoomTool\"},{\"id\":\"e132791c-db56-4207-b398-2dacaf4ee1c4\",\"type\":\"SaveTool\"},{\"id\":\"8c82ad5e-91bc-4d1e-897d-6eb92ca34e3c\",\"type\":\"ResetTool\"},{\"id\":\"9110afe7-9d0d-405d-983d-e85367e7823d\",\"type\":\"HelpTool\"}]},\"id\":\"586086f1-fc28-4b66-aa82-ba7d53a9fcf1\",\"type\":\"Toolbar\"},{\"attributes\":{\"label\":{\"value\":\"CRD\"},\"renderers\":[{\"id\":\"4e5a6e27-89c5-44f1-9122-dc4159a76b5e\",\"type\":\"GlyphRenderer\"},{\"id\":\"35abe964-3415-47b4-b001-005ce3b40494\",\"type\":\"GlyphRenderer\"}]},\"id\":\"cfedac68-3d37-47c1-938e-a3fbb8080d62\",\"type\":\"LegendItem\"},{\"attributes\":{\"label\":{\"value\":\"WGT igg=1\"},\"renderers\":[{\"id\":\"6a9018a0-6660-494d-a5c9-88531e23b6e2\",\"type\":\"GlyphRenderer\"},{\"id\":\"beca2493-36bb-401d-b6fd-1002e219b5cb\",\"type\":\"GlyphRenderer\"}]},\"id\":\"b422d179-2253-4397-9c93-ad98fbc2c048\",\"type\":\"LegendItem\"},{\"attributes\":{},\"id\":\"d75b798d-85df-4217-9ff0-9676f1570fa2\",\"type\":\"Selection\"},{\"attributes\":{\"ticker\":null},\"id\":\"737334bb-516d-4814-bc32-3bec5a4b2764\",\"type\":\"LogTickFormatter\"},{\"attributes\":{\"label\":{\"value\":\"WGT igg=10\"},\"renderers\":[{\"id\":\"a86ab33f-f293-4bd9-b6e8-69a9035f584d\",\"type\":\"GlyphRenderer\"},{\"id\":\"e4ed215d-3d9d-4b6c-ac21-58ea183bdfc8\",\"type\":\"GlyphRenderer\"}]},\"id\":\"553c0cc8-be33-4cc2-8c87-0dc9497e95c4\",\"type\":\"LegendItem\"},{\"attributes\":{},\"id\":\"673661dd-2d2a-4484-8816-2f58d19d390c\",\"type\":\"UnionRenderers\"},{\"attributes\":{},\"id\":\"c5639a00-4d47-4ca7-9220-a55df52022fb\",\"type\":\"BasicTickFormatter\"},{\"attributes\":{},\"id\":\"c6d05709-387c-45ca-b131-c9dd2b01df67\",\"type\":\"BasicTickFormatter\"},{\"attributes\":{},\"id\":\"7f600b5c-5692-4f0c-a7fc-f7047401f755\",\"type\":\"Selection\"},{\"attributes\":{},\"id\":\"05f8566b-d31f-4122-9af7-5f1aa28fa4ad\",\"type\":\"UnionRenderers\"},{\"attributes\":{},\"id\":\"e8c2edca-6edc-4d42-89c0-9aa9ebc534dc\",\"type\":\"BasicTickFormatter\"},{\"attributes\":{},\"id\":\"3d808844-52da-413e-8435-8df93ce58977\",\"type\":\"Selection\"},{\"attributes\":{},\"id\":\"f06f7924-d287-4ea6-a1cd-edfa2f7191f6\",\"type\":\"UnionRenderers\"},{\"attributes\":{},\"id\":\"a5c5f51f-70e2-4795-a268-90b4638e0280\",\"type\":\"Selection\"},{\"attributes\":{},\"id\":\"932b045c-e223-45d9-885e-8291770eabb6\",\"type\":\"Selection\"},{\"attributes\":{\"plot\":null,\"text\":\"\"},\"id\":\"4b25fd8a-4025-4af9-9ce2-f95cfd91fc78\",\"type\":\"Title\"},{\"attributes\":{},\"id\":\"8f5d54d9-8861-478b-9073-dda0369d77e6\",\"type\":\"Selection\"},{\"attributes\":{},\"id\":\"2058db2a-d253-4502-b7c6-7bdf1a996df6\",\"type\":\"UnionRenderers\"},{\"attributes\":{},\"id\":\"a6b0003c-fe2c-4713-b0b0-d32a3a678d95\",\"type\":\"UnionRenderers\"},{\"attributes\":{},\"id\":\"720218f5-b499-4b52-b0cf-73b58c67bfea\",\"type\":\"Selection\"},{\"attributes\":{},\"id\":\"bcf79eec-8ecf-4a41-965a-1186d0f232c9\",\"type\":\"Selection\"},{\"attributes\":{},\"id\":\"5bca39d5-1a5d-4316-8851-07aa15e50cee\",\"type\":\"Selection\"},{\"attributes\":{},\"id\":\"5a49bc3f-4908-45fb-9417-7b1234113af6\",\"type\":\"UnionRenderers\"},{\"attributes\":{},\"id\":\"66da32aa-5f11-4f59-b080-261d1d53a81c\",\"type\":\"UnionRenderers\"},{\"attributes\":{\"toolbar\":{\"id\":\"ca514eb9-3391-4f85-b0eb-f9232f2e720c\",\"type\":\"ProxyToolbar\"},\"toolbar_location\":\"above\"},\"id\":\"be27407a-4d8c-4ac3-b894-f760d6741a18\",\"type\":\"ToolbarBox\"},{\"attributes\":{},\"id\":\"08fbda1f-a8cb-4505-8c92-1ef825cca6eb\",\"type\":\"UnionRenderers\"},{\"attributes\":{\"children\":[{\"id\":\"be27407a-4d8c-4ac3-b894-f760d6741a18\",\"type\":\"ToolbarBox\"},{\"id\":\"d30470d6-72c1-4a02-b258-eea71b673a04\",\"type\":\"Column\"}]},\"id\":\"55c2f88a-6175-4028-be0f-b92d8b1d0c7a\",\"type\":\"Column\"},{\"attributes\":{},\"id\":\"b6d295c4-92e0-4ee8-8254-6d0fff46ad03\",\"type\":\"UnionRenderers\"},{\"attributes\":{\"tools\":[{\"id\":\"132fe251-0b7e-49b4-8161-200bdb2f3377\",\"type\":\"PanTool\"},{\"id\":\"ce0905e8-ca81-4e05-8d58-3af1a156db10\",\"type\":\"WheelZoomTool\"},{\"id\":\"6252fa01-cc6d-44f0-ba06-c3e6e447ee7f\",\"type\":\"BoxZoomTool\"},{\"id\":\"e132791c-db56-4207-b398-2dacaf4ee1c4\",\"type\":\"SaveTool\"},{\"id\":\"8c82ad5e-91bc-4d1e-897d-6eb92ca34e3c\",\"type\":\"ResetTool\"},{\"id\":\"9110afe7-9d0d-405d-983d-e85367e7823d\",\"type\":\"HelpTool\"},{\"id\":\"6dcc7a05-ab99-4bb3-b8a4-cd9bb646b40b\",\"type\":\"PanTool\"},{\"id\":\"ad4deab2-d5cc-4c8a-a816-9aea98e29b48\",\"type\":\"WheelZoomTool\"},{\"id\":\"893f1a63-9c9a-4054-b272-bea9f29b117d\",\"type\":\"BoxZoomTool\"},{\"id\":\"aec54fdf-4181-4b00-8f3e-cb0e7be6b5bf\",\"type\":\"SaveTool\"},{\"id\":\"c0186666-feb7-4286-86b9-10ec94ea88e0\",\"type\":\"ResetTool\"},{\"id\":\"0196a929-ac7e-4b2d-b245-c39183803c20\",\"type\":\"HelpTool\"}]},\"id\":\"ca514eb9-3391-4f85-b0eb-f9232f2e720c\",\"type\":\"ProxyToolbar\"}],\"root_ids\":[\"55c2f88a-6175-4028-be0f-b92d8b1d0c7a\"]},\"title\":\"Bokeh Application\",\"version\":\"0.12.16\"}};\n",
       "  var render_items = [{\"docid\":\"6cc4f068-cfd5-48ab-8162-8bb88a4d289e\",\"elementid\":\"a85001f4-5ba4-4005-ae5d-8796bdc6ffa2\",\"modelid\":\"55c2f88a-6175-4028-be0f-b92d8b1d0c7a\"}];\n",
       "  root.Bokeh.embed.embed_items_notebook(docs_json, render_items);\n",
       "\n",
       "  }\n",
       "  if (root.Bokeh !== undefined) {\n",
       "    embed_document(root);\n",
       "  } else {\n",
       "    var attempts = 0;\n",
       "    var timer = setInterval(function(root) {\n",
       "      if (root.Bokeh !== undefined) {\n",
       "        embed_document(root);\n",
       "        clearInterval(timer);\n",
       "      }\n",
       "      attempts++;\n",
       "      if (attempts > 100) {\n",
       "        console.log(\"Bokeh: ERROR: Unable to run BokehJS code because BokehJS library is missing\")\n",
       "        clearInterval(timer);\n",
       "      }\n",
       "    }, 10, root)\n",
       "  }\n",
       "})(window);"
      ],
      "application/vnd.bokehjs_exec.v0+json": ""
     },
     "metadata": {
      "application/vnd.bokehjs_exec.v0+json": {
       "id": "55c2f88a-6175-4028-be0f-b92d8b1d0c7a"
      }
     },
     "output_type": "display_data"
    },
    {
     "data": {
      "text/markdown": [
       "*FIGURE.* Cooling rates. g=3"
      ],
      "text/plain": [
       "<IPython.core.display.Markdown object>"
      ]
     },
     "metadata": {},
     "output_type": "display_data"
    },
    {
     "data": {
      "text/html": [
       "\n",
       "<div class=\"bk-root\">\n",
       "    <div class=\"bk-plotdiv\" id=\"aa19e418-ecb0-4da8-bc63-9fff05327e65\"></div>\n",
       "</div>"
      ]
     },
     "metadata": {},
     "output_type": "display_data"
    },
    {
     "data": {
      "application/javascript": [
       "(function(root) {\n",
       "  function embed_document(root) {\n",
       "    \n",
       "  var docs_json = {\"a8e49dd0-5965-4e80-bfad-62083a5d42ee\":{\"roots\":{\"references\":[{\"attributes\":{},\"id\":\"db1d3b81-72d1-43b4-85c9-7be58efdecd7\",\"type\":\"HelpTool\"},{\"attributes\":{},\"id\":\"cc577b0e-9e58-4d1b-bb14-60614d5b1d18\",\"type\":\"Selection\"},{\"attributes\":{},\"id\":\"e3a99583-7266-4b4c-b7e1-e5d2e7a1eb5f\",\"type\":\"UnionRenderers\"},{\"attributes\":{\"plot\":null,\"text\":\"\"},\"id\":\"91b1b71b-c6e6-49c8-8861-778e1d822f94\",\"type\":\"Title\"},{\"attributes\":{},\"id\":\"dd674c75-4715-4af4-80d7-74512d4f2592\",\"type\":\"Selection\"},{\"attributes\":{\"label\":{\"value\":\"CRD\"},\"renderers\":[{\"id\":\"fa7e6bcc-276d-4dc8-b683-69d8a8aa2193\",\"type\":\"GlyphRenderer\"},{\"id\":\"8e0241f6-aecc-4ac6-b93e-15e79cb9be57\",\"type\":\"GlyphRenderer\"}]},\"id\":\"b3581aa1-1a45-4415-8d52-ad7ee19b5bed\",\"type\":\"LegendItem\"},{\"attributes\":{},\"id\":\"0561cad1-d10d-4d09-a215-38eb64ebc954\",\"type\":\"Selection\"},{\"attributes\":{},\"id\":\"7f41d179-5963-4941-9792-5a54e8a0d374\",\"type\":\"UnionRenderers\"},{\"attributes\":{},\"id\":\"bffeb216-ea15-4d78-93cc-dbc16da85d0c\",\"type\":\"ResetTool\"},{\"attributes\":{},\"id\":\"7990cb9d-2947-489a-8582-f937fa936dd1\",\"type\":\"UnionRenderers\"},{\"attributes\":{\"bottom_units\":\"screen\",\"fill_alpha\":{\"value\":0.5},\"fill_color\":{\"value\":\"lightgrey\"},\"left_units\":\"screen\",\"level\":\"overlay\",\"line_alpha\":{\"value\":1.0},\"line_color\":{\"value\":\"black\"},\"line_dash\":[4,4],\"line_width\":{\"value\":2},\"plot\":null,\"render_mode\":\"css\",\"right_units\":\"screen\",\"top_units\":\"screen\"},\"id\":\"b83a76ed-77dd-41bc-a264-6360b9fa05bd\",\"type\":\"BoxAnnotation\"},{\"attributes\":{\"ticker\":null},\"id\":\"fd7a5ded-fc47-4664-8a8a-0efcdda10178\",\"type\":\"LogTickFormatter\"},{\"attributes\":{},\"id\":\"1690e058-4af6-4256-937c-ff511e52934f\",\"type\":\"BasicTickFormatter\"},{\"attributes\":{\"label\":{\"value\":\"WGT igg=1\"},\"renderers\":[{\"id\":\"eeedc352-16a3-4e64-8de0-8db7c97da072\",\"type\":\"GlyphRenderer\"},{\"id\":\"b138c9b3-8503-4648-b762-bccd792b51e5\",\"type\":\"GlyphRenderer\"}]},\"id\":\"f38e4f84-6e41-4913-9954-0fd42b6cc298\",\"type\":\"LegendItem\"},{\"attributes\":{},\"id\":\"e3573e9b-671e-42c1-aab3-7318d662a164\",\"type\":\"UnionRenderers\"},{\"attributes\":{},\"id\":\"813ed6e2-2d63-499b-93d2-a249446ba626\",\"type\":\"Selection\"},{\"attributes\":{},\"id\":\"a9477194-edf9-4c27-8bda-86796cf9399c\",\"type\":\"UnionRenderers\"},{\"attributes\":{},\"id\":\"c299593c-0c2c-41d0-a09b-f61ccdc1d5c6\",\"type\":\"Selection\"},{\"attributes\":{\"label\":{\"value\":\"WGT igg=10\"},\"renderers\":[{\"id\":\"9245e759-24ac-4af2-9839-08ec35d40231\",\"type\":\"GlyphRenderer\"},{\"id\":\"60f89cc5-f88e-4ca9-9f8d-6168d63f8cee\",\"type\":\"GlyphRenderer\"}]},\"id\":\"2ca359b7-a1f2-4fbb-9ffb-e3c7db608d52\",\"type\":\"LegendItem\"},{\"attributes\":{},\"id\":\"b3ef7ad7-35d0-4c16-ab76-fed90d1b0f0c\",\"type\":\"UnionRenderers\"},{\"attributes\":{},\"id\":\"b962cbfb-e1ea-4722-9478-110933e2f9d4\",\"type\":\"Selection\"},{\"attributes\":{\"children\":[{\"id\":\"8b0daff8-3df1-48e1-8b6f-b704ff237dd0\",\"type\":\"ToolbarBox\"},{\"id\":\"54061cca-6f7d-4cf5-b93d-1a3605350868\",\"type\":\"Column\"}]},\"id\":\"627402f4-3658-4bc4-bed4-de67d00f1ab6\",\"type\":\"Column\"},{\"attributes\":{\"plot\":null,\"text\":\"\"},\"id\":\"82f47d9c-a4fc-4762-a8e0-b99badb25c62\",\"type\":\"Title\"},{\"attributes\":{},\"id\":\"ed350476-2de0-4c6f-bb5a-4c083ae24243\",\"type\":\"BasicTickFormatter\"},{\"attributes\":{},\"id\":\"7c580d5f-05b0-423a-9b84-bc7b1fe052e9\",\"type\":\"Selection\"},{\"attributes\":{},\"id\":\"649a0e08-4828-486e-b077-fde82e0619a8\",\"type\":\"UnionRenderers\"},{\"attributes\":{},\"id\":\"0aaebc94-011d-442c-a4ee-ec5c86543044\",\"type\":\"UnionRenderers\"},{\"attributes\":{},\"id\":\"c7cb110b-fa09-4085-991a-b7c5a546dd8c\",\"type\":\"BasicTickFormatter\"},{\"attributes\":{},\"id\":\"dba7fcf7-c8cd-49ae-a270-56ca1b6a5b39\",\"type\":\"UnionRenderers\"},{\"attributes\":{},\"id\":\"64990588-feac-438f-85d9-598116e4ac6f\",\"type\":\"Selection\"},{\"attributes\":{},\"id\":\"82669fc9-165e-4cd0-9b15-f0e74e825ab1\",\"type\":\"UnionRenderers\"},{\"attributes\":{\"toolbar\":{\"id\":\"cbbc7ee6-ee6f-41a0-902d-4aca3b68b67b\",\"type\":\"ProxyToolbar\"},\"toolbar_location\":\"above\"},\"id\":\"8b0daff8-3df1-48e1-8b6f-b704ff237dd0\",\"type\":\"ToolbarBox\"},{\"attributes\":{},\"id\":\"e6b58daa-a441-404d-8734-8ca60f9eb152\",\"type\":\"Selection\"},{\"attributes\":{\"data_source\":{\"id\":\"2034b32e-d758-4c22-8ea0-089ef81d825b\",\"type\":\"ColumnDataSource\"},\"glyph\":{\"id\":\"64b9fc4d-cf8a-44fd-9542-b9cecba8fd66\",\"type\":\"Square\"},\"hover_glyph\":null,\"muted_glyph\":null,\"nonselection_glyph\":{\"id\":\"9ef94c48-cf67-4ee7-92d2-bfe77e7d3829\",\"type\":\"Square\"},\"selection_glyph\":null,\"view\":{\"id\":\"f956d320-d03e-48ff-a521-a2fb4627f1cd\",\"type\":\"CDSView\"}},\"id\":\"eeedc352-16a3-4e64-8de0-8db7c97da072\",\"type\":\"GlyphRenderer\"},{\"attributes\":{\"fill_alpha\":{\"value\":0.1},\"fill_color\":{\"value\":\"#1f77b4\"},\"line_alpha\":{\"value\":0.1},\"line_color\":{\"value\":\"#1f77b4\"},\"x\":{\"field\":\"x\"},\"y\":{\"field\":\"y\"}},\"id\":\"9ef94c48-cf67-4ee7-92d2-bfe77e7d3829\",\"type\":\"Square\"},{\"attributes\":{},\"id\":\"c1af8280-c1b5-48c5-9544-c9eb187153b4\",\"type\":\"UnionRenderers\"},{\"attributes\":{\"tools\":[{\"id\":\"df0588ef-3562-4463-848a-62a8a6970b50\",\"type\":\"PanTool\"},{\"id\":\"bc47a87c-2c29-463c-998d-a1efd7176ee9\",\"type\":\"WheelZoomTool\"},{\"id\":\"43284b01-3aaa-49ad-bb77-c50d5264c667\",\"type\":\"BoxZoomTool\"},{\"id\":\"9c0f90c0-cfcb-4c7a-988e-616d99db1337\",\"type\":\"SaveTool\"},{\"id\":\"7a247720-44fa-4f76-96bf-7ab8284a6fcf\",\"type\":\"ResetTool\"},{\"id\":\"396d3cb0-dcfd-4473-b7c6-ccf7e0e93105\",\"type\":\"HelpTool\"},{\"id\":\"a0f06be0-3486-4034-8d25-2495370b0bd9\",\"type\":\"PanTool\"},{\"id\":\"2647e4b1-6dee-4bd0-ab33-14ba700c42ee\",\"type\":\"WheelZoomTool\"},{\"id\":\"2755de9f-d296-4ca1-98c8-5f9af9ee08fa\",\"type\":\"BoxZoomTool\"},{\"id\":\"5b6f3388-2ab7-4e86-b171-96cc91e450f5\",\"type\":\"SaveTool\"},{\"id\":\"bffeb216-ea15-4d78-93cc-dbc16da85d0c\",\"type\":\"ResetTool\"},{\"id\":\"db1d3b81-72d1-43b4-85c9-7be58efdecd7\",\"type\":\"HelpTool\"}]},\"id\":\"cbbc7ee6-ee6f-41a0-902d-4aca3b68b67b\",\"type\":\"ProxyToolbar\"},{\"attributes\":{},\"id\":\"87d9d51f-fe97-48d3-8196-80497b11c17b\",\"type\":\"Selection\"},{\"attributes\":{},\"id\":\"2fb28201-4ec3-442a-afc7-24818ce5a047\",\"type\":\"Selection\"},{\"attributes\":{\"above\":[{\"id\":\"805b9266-3c64-4630-a79e-040f8010607a\",\"type\":\"Legend\"}],\"below\":[{\"id\":\"42f3bf12-0d0c-4c7b-afac-e431f1d79955\",\"type\":\"LinearAxis\"}],\"left\":[{\"id\":\"3f0cbfea-ba4b-46d4-946a-b9327022ddd8\",\"type\":\"LinearAxis\"}],\"plot_height\":500,\"plot_width\":400,\"renderers\":[{\"id\":\"42f3bf12-0d0c-4c7b-afac-e431f1d79955\",\"type\":\"LinearAxis\"},{\"id\":\"59cdd7c6-195c-46c2-bcf3-ab0039ff5857\",\"type\":\"Grid\"},{\"id\":\"3f0cbfea-ba4b-46d4-946a-b9327022ddd8\",\"type\":\"LinearAxis\"},{\"id\":\"b61abb5d-7fee-4c7f-8f8f-869804de60f1\",\"type\":\"Grid\"},{\"id\":\"cc7eb667-2453-4d78-b236-fc0d6ae46bc5\",\"type\":\"BoxAnnotation\"},{\"id\":\"28531c51-74cb-453d-b893-692c55a6be3f\",\"type\":\"GlyphRenderer\"},{\"id\":\"c23e18e3-78f9-471b-bf5b-5e21b25679a0\",\"type\":\"GlyphRenderer\"},{\"id\":\"762dfbc5-350e-4698-b716-8bb2dc9e693b\",\"type\":\"GlyphRenderer\"},{\"id\":\"dc1a50fa-7a0e-43d8-827f-d00358ff7066\",\"type\":\"GlyphRenderer\"},{\"id\":\"bfee361c-b171-4018-ab04-42f3908b90c6\",\"type\":\"GlyphRenderer\"},{\"id\":\"d177cf86-67c0-40d0-ba14-450340dc4961\",\"type\":\"GlyphRenderer\"},{\"id\":\"805b9266-3c64-4630-a79e-040f8010607a\",\"type\":\"Legend\"}],\"title\":{\"id\":\"91b1b71b-c6e6-49c8-8861-778e1d822f94\",\"type\":\"Title\"},\"toolbar\":{\"id\":\"f025820e-c7c5-4bc6-8f17-ce5127e54112\",\"type\":\"Toolbar\"},\"toolbar_location\":null,\"x_range\":{\"id\":\"d2eaded0-3c92-4daf-bbe4-5af750b690e0\",\"type\":\"Range1d\"},\"x_scale\":{\"id\":\"6271eef3-31c5-4f25-a389-f48de033d6a9\",\"type\":\"LinearScale\"},\"y_range\":{\"id\":\"1aa53925-e4b8-4376-a26c-cbac6090e7dd\",\"type\":\"Range1d\"},\"y_scale\":{\"id\":\"9e00fb4a-d459-43b9-8cf1-adb8d44a1e39\",\"type\":\"LinearScale\"}},\"id\":\"783ac82c-23d8-4d69-85e7-91df002f235c\",\"subtype\":\"Figure\",\"type\":\"Plot\"},{\"attributes\":{},\"id\":\"6271eef3-31c5-4f25-a389-f48de033d6a9\",\"type\":\"LinearScale\"},{\"attributes\":{},\"id\":\"9e00fb4a-d459-43b9-8cf1-adb8d44a1e39\",\"type\":\"LinearScale\"},{\"attributes\":{\"callback\":null,\"end\":0.031785427169,\"start\":-0.008917353469},\"id\":\"d2eaded0-3c92-4daf-bbe4-5af750b690e0\",\"type\":\"Range1d\"},{\"attributes\":{},\"id\":\"b30fc138-180d-440d-8388-f26ca6a204bc\",\"type\":\"BasicTicker\"},{\"attributes\":{\"items\":[{\"id\":\"ffb2803c-d32a-4155-95bd-e1eb4546e2bb\",\"type\":\"LegendItem\"},{\"id\":\"b745a6cf-07df-446a-9e1c-28dbbd674242\",\"type\":\"LegendItem\"},{\"id\":\"d1dc58cb-8827-4972-a4ba-b8b01b04f117\",\"type\":\"LegendItem\"}],\"label_text_font_size\":{\"value\":\"8pt\"},\"location\":\"top_center\",\"orientation\":\"horizontal\",\"plot\":{\"id\":\"783ac82c-23d8-4d69-85e7-91df002f235c\",\"subtype\":\"Figure\",\"type\":\"Plot\"}},\"id\":\"805b9266-3c64-4630-a79e-040f8010607a\",\"type\":\"Legend\"},{\"attributes\":{\"active_drag\":\"auto\",\"active_inspect\":\"auto\",\"active_scroll\":\"auto\",\"active_tap\":\"auto\",\"tools\":[{\"id\":\"df0588ef-3562-4463-848a-62a8a6970b50\",\"type\":\"PanTool\"},{\"id\":\"bc47a87c-2c29-463c-998d-a1efd7176ee9\",\"type\":\"WheelZoomTool\"},{\"id\":\"43284b01-3aaa-49ad-bb77-c50d5264c667\",\"type\":\"BoxZoomTool\"},{\"id\":\"9c0f90c0-cfcb-4c7a-988e-616d99db1337\",\"type\":\"SaveTool\"},{\"id\":\"7a247720-44fa-4f76-96bf-7ab8284a6fcf\",\"type\":\"ResetTool\"},{\"id\":\"396d3cb0-dcfd-4473-b7c6-ccf7e0e93105\",\"type\":\"HelpTool\"}]},\"id\":\"f025820e-c7c5-4bc6-8f17-ce5127e54112\",\"type\":\"Toolbar\"},{\"attributes\":{\"plot\":{\"id\":\"783ac82c-23d8-4d69-85e7-91df002f235c\",\"subtype\":\"Figure\",\"type\":\"Plot\"},\"ticker\":{\"id\":\"7be8141b-ad97-499f-8d7f-818d1d499e28\",\"type\":\"BasicTicker\"}},\"id\":\"59cdd7c6-195c-46c2-bcf3-ab0039ff5857\",\"type\":\"Grid\"},{\"attributes\":{\"source\":{\"id\":\"7727ca55-e7c8-41fa-b428-e2c158f2d9bd\",\"type\":\"ColumnDataSource\"}},\"id\":\"5e69822e-a9d1-4eb9-be42-00da2172e602\",\"type\":\"CDSView\"},{\"attributes\":{\"callback\":null,\"end\":0.01,\"start\":1020},\"id\":\"1aa53925-e4b8-4376-a26c-cbac6090e7dd\",\"type\":\"Range1d\"},{\"attributes\":{\"data_source\":{\"id\":\"7727ca55-e7c8-41fa-b428-e2c158f2d9bd\",\"type\":\"ColumnDataSource\"},\"glyph\":{\"id\":\"6ede9580-d22d-4a99-a9a7-766bd439e836\",\"type\":\"Circle\"},\"hover_glyph\":null,\"muted_glyph\":null,\"nonselection_glyph\":{\"id\":\"ff736cc4-27e3-4818-ada3-143931a66ce1\",\"type\":\"Circle\"},\"selection_glyph\":null,\"view\":{\"id\":\"5e69822e-a9d1-4eb9-be42-00da2172e602\",\"type\":\"CDSView\"}},\"id\":\"28531c51-74cb-453d-b893-692c55a6be3f\",\"type\":\"GlyphRenderer\"},{\"attributes\":{\"line_color\":\"#4daf4a\",\"line_width\":1.5,\"x\":{\"field\":\"x\"},\"y\":{\"field\":\"y\"}},\"id\":\"3ca8a4d0-d4ec-43f3-987e-2f2914654761\",\"type\":\"Line\"},{\"attributes\":{\"dimension\":1,\"plot\":{\"id\":\"783ac82c-23d8-4d69-85e7-91df002f235c\",\"subtype\":\"Figure\",\"type\":\"Plot\"},\"ticker\":{\"id\":\"b30fc138-180d-440d-8388-f26ca6a204bc\",\"type\":\"BasicTicker\"}},\"id\":\"b61abb5d-7fee-4c7f-8f8f-869804de60f1\",\"type\":\"Grid\"},{\"attributes\":{\"data_source\":{\"id\":\"ed59dda9-a77f-474d-9918-c2be7bf68148\",\"type\":\"ColumnDataSource\"},\"glyph\":{\"id\":\"97c38e25-381e-4d9a-b190-0762cb82d315\",\"type\":\"Square\"},\"hover_glyph\":null,\"muted_glyph\":null,\"nonselection_glyph\":{\"id\":\"d4aa5ae4-bb73-4f35-97a9-0aee0573904a\",\"type\":\"Square\"},\"selection_glyph\":null,\"view\":{\"id\":\"a8984489-4d20-41cd-bc39-22c360eb2165\",\"type\":\"CDSView\"}},\"id\":\"762dfbc5-350e-4698-b716-8bb2dc9e693b\",\"type\":\"GlyphRenderer\"},{\"attributes\":{\"axis_label\":\"pressure [mb]\",\"formatter\":{\"id\":\"1690e058-4af6-4256-937c-ff511e52934f\",\"type\":\"BasicTickFormatter\"},\"plot\":{\"id\":\"783ac82c-23d8-4d69-85e7-91df002f235c\",\"subtype\":\"Figure\",\"type\":\"Plot\"},\"ticker\":{\"id\":\"b30fc138-180d-440d-8388-f26ca6a204bc\",\"type\":\"BasicTicker\"}},\"id\":\"3f0cbfea-ba4b-46d4-946a-b9327022ddd8\",\"type\":\"LinearAxis\"},{\"attributes\":{\"callback\":null,\"data\":{\"x\":{\"__ndarray__\":\"N1qKIPvccj9czE2X/VtzPwLcUqYJnHQ/QR74GqL7dT86Q5GbLl53P8n4bEZLw3g/Ih06Avcqej+YJpYyMZV7P22q4yEJAn0/+D77MmBxfj+/kE/58+J/P0JJnPamq4A/6YW+cFZngT89OlRzlTCCPyBUvEnBl4Q/YjVBJcA5iz9YAimer4qSP76PwfGJB5g/+zYMvJ34nT9pUN5tUxyiP3sRS6pTkKU/ehn9vf0rqT9oPhlR5CysP+0IT48RRqw/eXptguSnqT/wM5ckomKmP6XY8ka9EqM/NLBv7Fa/nz9nShMMvcqZP1cZzrwqRZQ/Tqnf73vsjT8kDtVjBuKDP/uqB81oy3Y/gLQATXPUYj9m7CejOJNFv34zMvfmrmu/kbJ6DV6Qdb/gG+7bvHV6vye9zsn0C3+/3m3GwK0Igb98kWfX+OV/v92JbsrQCXm/aFXpfVN3cb92ned65FBkv+ZhFiZT2Ui/wCeI5+9zTD9cLZZzQEpkP6tEM2VRlHA/WpyDD+XTdj+8UUpvKrJ8PwDEmeXwQ4E/OE74hJwPhD98qTXIrq6GPyrgxvg8N4k/Pr9d1KKziz/WgKDAAhSOP8mahmE2M5A/lMn561VdkT9+WRIL+XqSP7B02cdFl5M/moMuBU60lD9Q7/p1NMGVP06EFXfY1ZY/acqi9Rbklz+mUMrmWemYPwOumAKz8Zk/HjTwKZ3kmj81d7jKiMybPzwVv8yol5w/8AoR8GNFnT90IVymguidPzjP5JxJdJ4/yt/qbW0Jnz8SnpKsMZOfP5ZM2yngEaA/\",\"dtype\":\"float64\",\"shape\":[75]},\"y\":{\"__ndarray__\":\"GhExyth1ND/Sv8nbtpRIP2vylNV0PVE/aTum7souWD/At0SJ8fVgPw3Iuahxymc/MSNhhJWvcD/bTfBN02d3P2zb5nxnaoA/CD5h5MAGhz8NmeH1TyaQP+zrCsc9p5Y/LbKd76fGnz/bLW5ISEmmPww9YvTcQq8/JV2OstnstT8Er5Y7M8G+P0c+r3jqkcU/5h99k6ZBzj88bCIzFzjVP4enV8oyxN0//yH99nXg5D8qOpLLf0jtP5kqGJXUifQ/c9cS8kHP/D+/DpwzojQEQIEmwoanVwxA4lgXt9HgE0BSSZ2AJuIbQAMJih9jjiNA5q4l5INuK0AwTKYKRj0zQNv5fmq8/DpAaCJseHrtQkB/+zpwzoxKQM3MzMzMeFJAZmZmZmZqWEAAAAAAAFxeQM3MzMzMJmJAmpmZmZkfZUBmZmZmZhhoQDMzMzMzEWtAAAAAAAAKbkBmZmZmZoFwQM3MzMzM/XFAMzMzMzN6c0CamZmZmfZ0QAAAAAAAc3ZAZmZmZmbvd0DNzMzMzGt5QDMzMzMz6HpAmpmZmZlkfEAAAAAAAOF9QGZmZmZmXX9AZmZmZuZsgECamZmZGSuBQM3MzMxM6YFAAAAAAICngkAzMzMzs2WDQGZmZmbmI4RAmpmZmRnihEDNzMzMTKCFQAAAAACAXoZAMzMzM7Mch0BmZmZm5tqHQJqZmZkZmYhAzczMzExXiUAAAAAAgBWKQDMzMzOz04pAZmZmZuaRi0CamZmZGVCMQM3MzMxMDo1AAAAAAIDMjUAzMzMzs4qOQGZmZmbmSI9A\",\"dtype\":\"float64\",\"shape\":[75]}},\"selected\":{\"id\":\"813ed6e2-2d63-499b-93d2-a249446ba626\",\"type\":\"Selection\"},\"selection_policy\":{\"id\":\"82669fc9-165e-4cd0-9b15-f0e74e825ab1\",\"type\":\"UnionRenderers\"}},\"id\":\"553bc10d-975d-4eb0-965b-4e2b46123670\",\"type\":\"ColumnDataSource\"},{\"attributes\":{},\"id\":\"7be8141b-ad97-499f-8d7f-818d1d499e28\",\"type\":\"BasicTicker\"},{\"attributes\":{\"callback\":null,\"data\":{\"x\":{\"__ndarray__\":\"fc5r/dM8QT9msNArYY9GPyYViEj2DVE/OX+/LSo2Vz9WAL+IvGhdP43UpCeFz2E/tPr1s0HrZD+i8kNUFQtoP6r4dW3GKGs/YL+rTMhFbj8eSilg55lwP02/haWsAHI/ktoHMyVHcz+u2qGFoYx0P4QggTV4KXk/k46RfwCCgz9sojtjRxyOP1rH8jU44ZQ/kOIfb6ojmz/IfVQH5eugP9v1FxV8faQ/XIEv8wpIqD/BKoZorFurPzwZw2xnN6s/HXLPjKAeqD+eEqhm3HmkP0PqacyTB6E/DEqtBEbvmz80HK4QOMSWP52ZRfI/YZI/SLvu/bShjD89EcBwas+EP5QK6NbLNXw/eSa4OLHecD9YuUQKiJhTP8p2cCzZFF+/+FJlEStgcb+WuwF1MtB3v/07/9dwAX6/+p0FJfUzgb8+dq36aU6Av5rj88JRfXm/Dj/UBjvPcb+OajIWFitlv9Yajt4o+U2/NXxPsI9FRj9qSc5rciBiP7pcUb5+P24/DNG/C+L7dD8d/2xAUKJ6Py6+NvYpB4A/4DxcIX+dgj+l8A6FPBSFPxG56Relb4c/ah7VzB62iT9Gf+grLe2LPzhhCZ2OGI4/jzs9K0cdkD+kYPoNcSqRP3bk4kJvNJI/C5h3juU6kz8ZR29/lD6UP4wC2sZfQJU/arBvoFNAlj+q43XB5T2XP12otZbtNpg/lmOEgBQmmT9Dw5XFWgKaP9TA+nOdw5o/QvKfRPxpmz/kV4uKGv6bPwgbljYAipw/LPPBr2sUnT9waHPgQaGdP/qWm2KsM54/\",\"dtype\":\"float64\",\"shape\":[75]},\"y\":{\"__ndarray__\":\"GhExyth1ND/Sv8nbtpRIP2vylNV0PVE/aTum7souWD/At0SJ8fVgPw3Iuahxymc/MSNhhJWvcD/bTfBN02d3P2zb5nxnaoA/CD5h5MAGhz8NmeH1TyaQP+zrCsc9p5Y/LbKd76fGnz/bLW5ISEmmPww9YvTcQq8/JV2OstnstT8Er5Y7M8G+P0c+r3jqkcU/5h99k6ZBzj88bCIzFzjVP4enV8oyxN0//yH99nXg5D8qOpLLf0jtP5kqGJXUifQ/c9cS8kHP/D+/DpwzojQEQIEmwoanVwxA4lgXt9HgE0BSSZ2AJuIbQAMJih9jjiNA5q4l5INuK0AwTKYKRj0zQNv5fmq8/DpAaCJseHrtQkB/+zpwzoxKQM3MzMzMeFJAZmZmZmZqWEAAAAAAAFxeQM3MzMzMJmJAmpmZmZkfZUBmZmZmZhhoQDMzMzMzEWtAAAAAAAAKbkBmZmZmZoFwQM3MzMzM/XFAMzMzMzN6c0CamZmZmfZ0QAAAAAAAc3ZAZmZmZmbvd0DNzMzMzGt5QDMzMzMz6HpAmpmZmZlkfEAAAAAAAOF9QGZmZmZmXX9AZmZmZuZsgECamZmZGSuBQM3MzMxM6YFAAAAAAICngkAzMzMzs2WDQGZmZmbmI4RAmpmZmRnihEDNzMzMTKCFQAAAAACAXoZAMzMzM7Mch0BmZmZm5tqHQJqZmZkZmYhAzczMzExXiUAAAAAAgBWKQDMzMzOz04pAZmZmZuaRi0CamZmZGVCMQM3MzMxMDo1AAAAAAIDMjUAzMzMzs4qOQGZmZmbmSI9A\",\"dtype\":\"float64\",\"shape\":[75]}},\"selected\":{\"id\":\"169edf35-3266-4fc4-8407-ecb92ba79d50\",\"type\":\"Selection\"},\"selection_policy\":{\"id\":\"c0fa511a-ecba-4172-a633-bb443c7c85c0\",\"type\":\"UnionRenderers\"}},\"id\":\"7727ca55-e7c8-41fa-b428-e2c158f2d9bd\",\"type\":\"ColumnDataSource\"},{\"attributes\":{\"axis_label\":\"cooling rate [K/day]\",\"formatter\":{\"id\":\"ed350476-2de0-4c6f-bb5a-4c083ae24243\",\"type\":\"BasicTickFormatter\"},\"plot\":{\"id\":\"783ac82c-23d8-4d69-85e7-91df002f235c\",\"subtype\":\"Figure\",\"type\":\"Plot\"},\"ticker\":{\"id\":\"7be8141b-ad97-499f-8d7f-818d1d499e28\",\"type\":\"BasicTicker\"}},\"id\":\"42f3bf12-0d0c-4c7b-afac-e431f1d79955\",\"type\":\"LinearAxis\"},{\"attributes\":{\"fill_alpha\":{\"value\":0.7},\"fill_color\":{\"value\":\"#4daf4a\"},\"line_alpha\":{\"value\":0.7},\"line_color\":{\"value\":\"#4daf4a\"},\"x\":{\"field\":\"x\"},\"y\":{\"field\":\"y\"}},\"id\":\"6ede9580-d22d-4a99-a9a7-766bd439e836\",\"type\":\"Circle\"},{\"attributes\":{\"callback\":null,\"data\":{\"x\":{\"__ndarray__\":\"fc5r/dM8QT9msNArYY9GPyYViEj2DVE/OX+/LSo2Vz9WAL+IvGhdP43UpCeFz2E/tPr1s0HrZD+i8kNUFQtoP6r4dW3GKGs/YL+rTMhFbj8eSilg55lwP02/haWsAHI/ktoHMyVHcz+u2qGFoYx0P4QggTV4KXk/k46RfwCCgz9sojtjRxyOP1rH8jU44ZQ/kOIfb6ojmz/IfVQH5eugP9v1FxV8faQ/XIEv8wpIqD/BKoZorFurPzwZw2xnN6s/HXLPjKAeqD+eEqhm3HmkP0PqacyTB6E/DEqtBEbvmz80HK4QOMSWP52ZRfI/YZI/SLvu/bShjD89EcBwas+EP5QK6NbLNXw/eSa4OLHecD9YuUQKiJhTP8p2cCzZFF+/+FJlEStgcb+WuwF1MtB3v/07/9dwAX6/+p0FJfUzgb8+dq36aU6Av5rj88JRfXm/Dj/UBjvPcb+OajIWFitlv9Yajt4o+U2/NXxPsI9FRj9qSc5rciBiP7pcUb5+P24/DNG/C+L7dD8d/2xAUKJ6Py6+NvYpB4A/4DxcIX+dgj+l8A6FPBSFPxG56Relb4c/ah7VzB62iT9Gf+grLe2LPzhhCZ2OGI4/jzs9K0cdkD+kYPoNcSqRP3bk4kJvNJI/C5h3juU6kz8ZR29/lD6UP4wC2sZfQJU/arBvoFNAlj+q43XB5T2XP12otZbtNpg/lmOEgBQmmT9Dw5XFWgKaP9TA+nOdw5o/QvKfRPxpmz/kV4uKGv6bPwgbljYAipw/LPPBr2sUnT9waHPgQaGdP/qWm2KsM54/\",\"dtype\":\"float64\",\"shape\":[75]},\"y\":{\"__ndarray__\":\"GhExyth1ND/Sv8nbtpRIP2vylNV0PVE/aTum7souWD/At0SJ8fVgPw3Iuahxymc/MSNhhJWvcD/bTfBN02d3P2zb5nxnaoA/CD5h5MAGhz8NmeH1TyaQP+zrCsc9p5Y/LbKd76fGnz/bLW5ISEmmPww9YvTcQq8/JV2OstnstT8Er5Y7M8G+P0c+r3jqkcU/5h99k6ZBzj88bCIzFzjVP4enV8oyxN0//yH99nXg5D8qOpLLf0jtP5kqGJXUifQ/c9cS8kHP/D+/DpwzojQEQIEmwoanVwxA4lgXt9HgE0BSSZ2AJuIbQAMJih9jjiNA5q4l5INuK0AwTKYKRj0zQNv5fmq8/DpAaCJseHrtQkB/+zpwzoxKQM3MzMzMeFJAZmZmZmZqWEAAAAAAAFxeQM3MzMzMJmJAmpmZmZkfZUBmZmZmZhhoQDMzMzMzEWtAAAAAAAAKbkBmZmZmZoFwQM3MzMzM/XFAMzMzMzN6c0CamZmZmfZ0QAAAAAAAc3ZAZmZmZmbvd0DNzMzMzGt5QDMzMzMz6HpAmpmZmZlkfEAAAAAAAOF9QGZmZmZmXX9AZmZmZuZsgECamZmZGSuBQM3MzMxM6YFAAAAAAICngkAzMzMzs2WDQGZmZmbmI4RAmpmZmRnihEDNzMzMTKCFQAAAAACAXoZAMzMzM7Mch0BmZmZm5tqHQJqZmZkZmYhAzczMzExXiUAAAAAAgBWKQDMzMzOz04pAZmZmZuaRi0CamZmZGVCMQM3MzMxMDo1AAAAAAIDMjUAzMzMzs4qOQGZmZmbmSI9A\",\"dtype\":\"float64\",\"shape\":[75]}},\"selected\":{\"id\":\"0561cad1-d10d-4d09-a215-38eb64ebc954\",\"type\":\"Selection\"},\"selection_policy\":{\"id\":\"c1af8280-c1b5-48c5-9544-c9eb187153b4\",\"type\":\"UnionRenderers\"}},\"id\":\"942f1fd9-c8ce-4677-a82a-8889ed505493\",\"type\":\"ColumnDataSource\"},{\"attributes\":{\"fill_alpha\":{\"value\":0.1},\"fill_color\":{\"value\":\"#1f77b4\"},\"line_alpha\":{\"value\":0.1},\"line_color\":{\"value\":\"#1f77b4\"},\"x\":{\"field\":\"x\"},\"y\":{\"field\":\"y\"}},\"id\":\"ff736cc4-27e3-4818-ada3-143931a66ce1\",\"type\":\"Circle\"},{\"attributes\":{\"callback\":null,\"data\":{\"x\":{\"__ndarray__\":\"ME2GftTIdT+ziM87a1R2P+l8zjGLfnc/jgdME1y8eD997lL5t/x5P8/okEdOP3s/I9DfvxWEfD+Tz7s2Act9PwW5FrUMFH8/syuZdIYvgD9RT4oi5dWAP7N0F8EVfYE/EkzXKwglgj9KYLpFp9iCPxM3l8Bb9YQ/5iX+Q9zcij9B51CoCOWRP+Qk36xV1pY/kfXCGqwznD8A+Vsd9P+gPxqDBE/oG6Q/7H1IrUJtpz/+4LItaC6qP+lUGecBV6o/FhQGZRoNqD8zM+HGDiulP7B9BFj6OqI/nfxDZ9O5nj96Wc3l202ZP63oGypOJ5Q/ijD133kcjj+ysInHoyaEP32rg7xg83Y/vSypzexLYT/2+WnRuydRv9mF0svfom+/UI66SRCWd7/VIQ1o1kt8v9cd+MBhNYC/0Ukdwgtygb93/JiIF0GAv1XpdAYp5Hm/L68wgfqWcr9/+fYDHfNmv+hcWeHITlK/hp3BTkL5QD+lLhPpaUVhPyBsBA4F8m0/tPO671widT+sXzsVtxl7P22fAHUpbYA/bddNW6cvgz9/q+KULtSFP/LdJG4FXog/AOS7LzDSij8MNa8ELTWNP8Ez5r4Wio8/bFNokYTpkD+s6aJquQiSP4R6vhMoI5M/fJo0gXI4lD9zBdqsIUmVPy2pLUnrVZY/AJTJ7bpelz8KSDvy52KYPw4vdYmLYJk/wHkC/DJTmj/qHxPUqDObP6yaiISU+5s/zu6S9emqnD/ztKswN0idP6Fi7U8o250/RHJ3s81onj/ogO2vwfOeP1ENTz0/fZ8/\",\"dtype\":\"float64\",\"shape\":[75]},\"y\":{\"__ndarray__\":\"GhExyth1ND/Sv8nbtpRIP2vylNV0PVE/aTum7souWD/At0SJ8fVgPw3Iuahxymc/MSNhhJWvcD/bTfBN02d3P2zb5nxnaoA/CD5h5MAGhz8NmeH1TyaQP+zrCsc9p5Y/LbKd76fGnz/bLW5ISEmmPww9YvTcQq8/JV2OstnstT8Er5Y7M8G+P0c+r3jqkcU/5h99k6ZBzj88bCIzFzjVP4enV8oyxN0//yH99nXg5D8qOpLLf0jtP5kqGJXUifQ/c9cS8kHP/D+/DpwzojQEQIEmwoanVwxA4lgXt9HgE0BSSZ2AJuIbQAMJih9jjiNA5q4l5INuK0AwTKYKRj0zQNv5fmq8/DpAaCJseHrtQkB/+zpwzoxKQM3MzMzMeFJAZmZmZmZqWEAAAAAAAFxeQM3MzMzMJmJAmpmZmZkfZUBmZmZmZhhoQDMzMzMzEWtAAAAAAAAKbkBmZmZmZoFwQM3MzMzM/XFAMzMzMzN6c0CamZmZmfZ0QAAAAAAAc3ZAZmZmZmbvd0DNzMzMzGt5QDMzMzMz6HpAmpmZmZlkfEAAAAAAAOF9QGZmZmZmXX9AZmZmZuZsgECamZmZGSuBQM3MzMxM6YFAAAAAAICngkAzMzMzs2WDQGZmZmbmI4RAmpmZmRnihEDNzMzMTKCFQAAAAACAXoZAMzMzM7Mch0BmZmZm5tqHQJqZmZkZmYhAzczMzExXiUAAAAAAgBWKQDMzMzOz04pAZmZmZuaRi0CamZmZGVCMQM3MzMxMDo1AAAAAAIDMjUAzMzMzs4qOQGZmZmbmSI9A\",\"dtype\":\"float64\",\"shape\":[75]}},\"selected\":{\"id\":\"c299593c-0c2c-41d0-a09b-f61ccdc1d5c6\",\"type\":\"Selection\"},\"selection_policy\":{\"id\":\"a9477194-edf9-4c27-8bda-86796cf9399c\",\"type\":\"UnionRenderers\"}},\"id\":\"a614821b-4c71-468f-aa3f-8788202d2d31\",\"type\":\"ColumnDataSource\"},{\"attributes\":{\"source\":{\"id\":\"942f1fd9-c8ce-4677-a82a-8889ed505493\",\"type\":\"ColumnDataSource\"}},\"id\":\"aa224e1e-7bd6-4cd4-94c2-3f0317898faf\",\"type\":\"CDSView\"},{\"attributes\":{\"fill_alpha\":{\"value\":0.1},\"fill_color\":{\"value\":\"#1f77b4\"},\"line_alpha\":{\"value\":0.1},\"line_color\":{\"value\":\"#1f77b4\"},\"x\":{\"field\":\"x\"},\"y\":{\"field\":\"y\"}},\"id\":\"d4aa5ae4-bb73-4f35-97a9-0aee0573904a\",\"type\":\"Square\"},{\"attributes\":{\"data_source\":{\"id\":\"942f1fd9-c8ce-4677-a82a-8889ed505493\",\"type\":\"ColumnDataSource\"},\"glyph\":{\"id\":\"3ca8a4d0-d4ec-43f3-987e-2f2914654761\",\"type\":\"Line\"},\"hover_glyph\":null,\"muted_glyph\":null,\"nonselection_glyph\":{\"id\":\"28ecab83-b82d-4a7d-99de-cd159314faf0\",\"type\":\"Line\"},\"selection_glyph\":null,\"view\":{\"id\":\"aa224e1e-7bd6-4cd4-94c2-3f0317898faf\",\"type\":\"CDSView\"}},\"id\":\"c23e18e3-78f9-471b-bf5b-5e21b25679a0\",\"type\":\"GlyphRenderer\"},{\"attributes\":{\"line_alpha\":0.6,\"line_color\":\"#984ea3\",\"line_width\":3,\"x\":{\"field\":\"x\"},\"y\":{\"field\":\"y\"}},\"id\":\"04d9ee2d-9d5b-47be-a3d7-5044a92026ee\",\"type\":\"Line\"},{\"attributes\":{\"fill_alpha\":{\"value\":0.7},\"fill_color\":{\"value\":\"#984ea3\"},\"line_alpha\":{\"value\":0.7},\"line_color\":{\"value\":\"#984ea3\"},\"x\":{\"field\":\"x\"},\"y\":{\"field\":\"y\"}},\"id\":\"97c38e25-381e-4d9a-b190-0762cb82d315\",\"type\":\"Square\"},{\"attributes\":{\"line_alpha\":0.1,\"line_color\":\"#1f77b4\",\"line_width\":1.5,\"x\":{\"field\":\"x\"},\"y\":{\"field\":\"y\"}},\"id\":\"28ecab83-b82d-4a7d-99de-cd159314faf0\",\"type\":\"Line\"},{\"attributes\":{\"callback\":null,\"data\":{\"x\":{\"__ndarray__\":\"N1qKIPvccj9czE2X/VtzPwLcUqYJnHQ/QR74GqL7dT86Q5GbLl53P8n4bEZLw3g/Ih06Avcqej+YJpYyMZV7P22q4yEJAn0/+D77MmBxfj+/kE/58+J/P0JJnPamq4A/6YW+cFZngT89OlRzlTCCPyBUvEnBl4Q/YjVBJcA5iz9YAimer4qSP76PwfGJB5g/+zYMvJ34nT9pUN5tUxyiP3sRS6pTkKU/ehn9vf0rqT9oPhlR5CysP+0IT48RRqw/eXptguSnqT/wM5ckomKmP6XY8ka9EqM/NLBv7Fa/nz9nShMMvcqZP1cZzrwqRZQ/Tqnf73vsjT8kDtVjBuKDP/uqB81oy3Y/gLQATXPUYj9m7CejOJNFv34zMvfmrmu/kbJ6DV6Qdb/gG+7bvHV6vye9zsn0C3+/3m3GwK0Igb98kWfX+OV/v92JbsrQCXm/aFXpfVN3cb92ned65FBkv+ZhFiZT2Ui/wCeI5+9zTD9cLZZzQEpkP6tEM2VRlHA/WpyDD+XTdj+8UUpvKrJ8PwDEmeXwQ4E/OE74hJwPhD98qTXIrq6GPyrgxvg8N4k/Pr9d1KKziz/WgKDAAhSOP8mahmE2M5A/lMn561VdkT9+WRIL+XqSP7B02cdFl5M/moMuBU60lD9Q7/p1NMGVP06EFXfY1ZY/acqi9Rbklz+mUMrmWemYPwOumAKz8Zk/HjTwKZ3kmj81d7jKiMybPzwVv8yol5w/8AoR8GNFnT90IVymguidPzjP5JxJdJ4/yt/qbW0Jnz8SnpKsMZOfP5ZM2yngEaA/\",\"dtype\":\"float64\",\"shape\":[75]},\"y\":{\"__ndarray__\":\"GhExyth1ND/Sv8nbtpRIP2vylNV0PVE/aTum7souWD/At0SJ8fVgPw3Iuahxymc/MSNhhJWvcD/bTfBN02d3P2zb5nxnaoA/CD5h5MAGhz8NmeH1TyaQP+zrCsc9p5Y/LbKd76fGnz/bLW5ISEmmPww9YvTcQq8/JV2OstnstT8Er5Y7M8G+P0c+r3jqkcU/5h99k6ZBzj88bCIzFzjVP4enV8oyxN0//yH99nXg5D8qOpLLf0jtP5kqGJXUifQ/c9cS8kHP/D+/DpwzojQEQIEmwoanVwxA4lgXt9HgE0BSSZ2AJuIbQAMJih9jjiNA5q4l5INuK0AwTKYKRj0zQNv5fmq8/DpAaCJseHrtQkB/+zpwzoxKQM3MzMzMeFJAZmZmZmZqWEAAAAAAAFxeQM3MzMzMJmJAmpmZmZkfZUBmZmZmZhhoQDMzMzMzEWtAAAAAAAAKbkBmZmZmZoFwQM3MzMzM/XFAMzMzMzN6c0CamZmZmfZ0QAAAAAAAc3ZAZmZmZmbvd0DNzMzMzGt5QDMzMzMz6HpAmpmZmZlkfEAAAAAAAOF9QGZmZmZmXX9AZmZmZuZsgECamZmZGSuBQM3MzMxM6YFAAAAAAICngkAzMzMzs2WDQGZmZmbmI4RAmpmZmRnihEDNzMzMTKCFQAAAAACAXoZAMzMzM7Mch0BmZmZm5tqHQJqZmZkZmYhAzczMzExXiUAAAAAAgBWKQDMzMzOz04pAZmZmZuaRi0CamZmZGVCMQM3MzMxMDo1AAAAAAIDMjUAzMzMzs4qOQGZmZmbmSI9A\",\"dtype\":\"float64\",\"shape\":[75]}},\"selected\":{\"id\":\"b962cbfb-e1ea-4722-9478-110933e2f9d4\",\"type\":\"Selection\"},\"selection_policy\":{\"id\":\"dba7fcf7-c8cd-49ae-a270-56ca1b6a5b39\",\"type\":\"UnionRenderers\"}},\"id\":\"ed59dda9-a77f-474d-9918-c2be7bf68148\",\"type\":\"ColumnDataSource\"},{\"attributes\":{\"source\":{\"id\":\"ed59dda9-a77f-474d-9918-c2be7bf68148\",\"type\":\"ColumnDataSource\"}},\"id\":\"a8984489-4d20-41cd-bc39-22c360eb2165\",\"type\":\"CDSView\"},{\"attributes\":{\"data_source\":{\"id\":\"553bc10d-975d-4eb0-965b-4e2b46123670\",\"type\":\"ColumnDataSource\"},\"glyph\":{\"id\":\"04d9ee2d-9d5b-47be-a3d7-5044a92026ee\",\"type\":\"Line\"},\"hover_glyph\":null,\"muted_glyph\":null,\"nonselection_glyph\":{\"id\":\"9b45981b-6141-441a-8b68-4e601393ba7a\",\"type\":\"Line\"},\"selection_glyph\":null,\"view\":{\"id\":\"095f9954-7702-4006-a6d7-ca952f2b1ca2\",\"type\":\"CDSView\"}},\"id\":\"dc1a50fa-7a0e-43d8-827f-d00358ff7066\",\"type\":\"GlyphRenderer\"},{\"attributes\":{\"fill_alpha\":{\"value\":0.1},\"fill_color\":{\"value\":\"#1f77b4\"},\"line_alpha\":{\"value\":0.1},\"line_color\":{\"value\":\"#1f77b4\"},\"x\":{\"field\":\"x\"},\"y\":{\"field\":\"y\"}},\"id\":\"ef11dd47-f8e2-4f9a-838a-6858a0d7761e\",\"type\":\"Triangle\"},{\"attributes\":{\"line_alpha\":0.1,\"line_color\":\"#1f77b4\",\"line_width\":3,\"x\":{\"field\":\"x\"},\"y\":{\"field\":\"y\"}},\"id\":\"9b45981b-6141-441a-8b68-4e601393ba7a\",\"type\":\"Line\"},{\"attributes\":{\"source\":{\"id\":\"553bc10d-975d-4eb0-965b-4e2b46123670\",\"type\":\"ColumnDataSource\"}},\"id\":\"095f9954-7702-4006-a6d7-ca952f2b1ca2\",\"type\":\"CDSView\"},{\"attributes\":{\"fill_alpha\":{\"value\":0.7},\"fill_color\":{\"value\":\"#377eb8\"},\"line_alpha\":{\"value\":0.7},\"line_color\":{\"value\":\"#377eb8\"},\"x\":{\"field\":\"x\"},\"y\":{\"field\":\"y\"}},\"id\":\"c023e606-ac4d-4592-b3e5-62f630386370\",\"type\":\"Triangle\"},{\"attributes\":{\"data_source\":{\"id\":\"f5a9a0be-f8b0-4041-a9d7-fdeff731afe7\",\"type\":\"ColumnDataSource\"},\"glyph\":{\"id\":\"515b6a33-7789-4e85-b718-ae3050c03864\",\"type\":\"Triangle\"},\"hover_glyph\":null,\"muted_glyph\":null,\"nonselection_glyph\":{\"id\":\"14074480-95ce-4637-b9b4-3baa9e4317cc\",\"type\":\"Triangle\"},\"selection_glyph\":null,\"view\":{\"id\":\"efc83d5a-b863-4d56-87bd-c027bcdb7ca0\",\"type\":\"CDSView\"}},\"id\":\"9245e759-24ac-4af2-9839-08ec35d40231\",\"type\":\"GlyphRenderer\"},{\"attributes\":{\"callback\":null,\"data\":{\"x\":{\"__ndarray__\":\"ME2GftTIdT+ziM87a1R2P+l8zjGLfnc/jgdME1y8eD997lL5t/x5P8/okEdOP3s/I9DfvxWEfD+Tz7s2Act9PwW5FrUMFH8/syuZdIYvgD9RT4oi5dWAP7N0F8EVfYE/EkzXKwglgj9KYLpFp9iCPxM3l8Bb9YQ/5iX+Q9zcij9B51CoCOWRP+Qk36xV1pY/kfXCGqwznD8A+Vsd9P+gPxqDBE/oG6Q/7H1IrUJtpz/+4LItaC6qP+lUGecBV6o/FhQGZRoNqD8zM+HGDiulP7B9BFj6OqI/nfxDZ9O5nj96Wc3l202ZP63oGypOJ5Q/ijD133kcjj+ysInHoyaEP32rg7xg83Y/vSypzexLYT/2+WnRuydRv9mF0svfom+/UI66SRCWd7/VIQ1o1kt8v9cd+MBhNYC/0Ukdwgtygb93/JiIF0GAv1XpdAYp5Hm/L68wgfqWcr9/+fYDHfNmv+hcWeHITlK/hp3BTkL5QD+lLhPpaUVhPyBsBA4F8m0/tPO671widT+sXzsVtxl7P22fAHUpbYA/bddNW6cvgz9/q+KULtSFP/LdJG4FXog/AOS7LzDSij8MNa8ELTWNP8Ez5r4Wio8/bFNokYTpkD+s6aJquQiSP4R6vhMoI5M/fJo0gXI4lD9zBdqsIUmVPy2pLUnrVZY/AJTJ7bpelz8KSDvy52KYPw4vdYmLYJk/wHkC/DJTmj/qHxPUqDObP6yaiISU+5s/zu6S9emqnD/ztKswN0idP6Fi7U8o250/RHJ3s81onj/ogO2vwfOeP1ENTz0/fZ8/\",\"dtype\":\"float64\",\"shape\":[75]},\"y\":{\"__ndarray__\":\"GhExyth1ND/Sv8nbtpRIP2vylNV0PVE/aTum7souWD/At0SJ8fVgPw3Iuahxymc/MSNhhJWvcD/bTfBN02d3P2zb5nxnaoA/CD5h5MAGhz8NmeH1TyaQP+zrCsc9p5Y/LbKd76fGnz/bLW5ISEmmPww9YvTcQq8/JV2OstnstT8Er5Y7M8G+P0c+r3jqkcU/5h99k6ZBzj88bCIzFzjVP4enV8oyxN0//yH99nXg5D8qOpLLf0jtP5kqGJXUifQ/c9cS8kHP/D+/DpwzojQEQIEmwoanVwxA4lgXt9HgE0BSSZ2AJuIbQAMJih9jjiNA5q4l5INuK0AwTKYKRj0zQNv5fmq8/DpAaCJseHrtQkB/+zpwzoxKQM3MzMzMeFJAZmZmZmZqWEAAAAAAAFxeQM3MzMzMJmJAmpmZmZkfZUBmZmZmZhhoQDMzMzMzEWtAAAAAAAAKbkBmZmZmZoFwQM3MzMzM/XFAMzMzMzN6c0CamZmZmfZ0QAAAAAAAc3ZAZmZmZmbvd0DNzMzMzGt5QDMzMzMz6HpAmpmZmZlkfEAAAAAAAOF9QGZmZmZmXX9AZmZmZuZsgECamZmZGSuBQM3MzMxM6YFAAAAAAICngkAzMzMzs2WDQGZmZmbmI4RAmpmZmRnihEDNzMzMTKCFQAAAAACAXoZAMzMzM7Mch0BmZmZm5tqHQJqZmZkZmYhAzczMzExXiUAAAAAAgBWKQDMzMzOz04pAZmZmZuaRi0CamZmZGVCMQM3MzMxMDo1AAAAAAIDMjUAzMzMzs4qOQGZmZmbmSI9A\",\"dtype\":\"float64\",\"shape\":[75]}},\"selected\":{\"id\":\"7c580d5f-05b0-423a-9b84-bc7b1fe052e9\",\"type\":\"Selection\"},\"selection_policy\":{\"id\":\"649a0e08-4828-486e-b077-fde82e0619a8\",\"type\":\"UnionRenderers\"}},\"id\":\"156740a8-1e8b-4505-9fca-8cefc2143c90\",\"type\":\"ColumnDataSource\"},{\"attributes\":{\"data_source\":{\"id\":\"a614821b-4c71-468f-aa3f-8788202d2d31\",\"type\":\"ColumnDataSource\"},\"glyph\":{\"id\":\"c023e606-ac4d-4592-b3e5-62f630386370\",\"type\":\"Triangle\"},\"hover_glyph\":null,\"muted_glyph\":null,\"nonselection_glyph\":{\"id\":\"ef11dd47-f8e2-4f9a-838a-6858a0d7761e\",\"type\":\"Triangle\"},\"selection_glyph\":null,\"view\":{\"id\":\"e47c6368-1527-4c31-8748-ee5c1f8e0793\",\"type\":\"CDSView\"}},\"id\":\"bfee361c-b171-4018-ab04-42f3908b90c6\",\"type\":\"GlyphRenderer\"},{\"attributes\":{\"line_alpha\":0.1,\"line_color\":\"#1f77b4\",\"line_width\":3,\"x\":{\"field\":\"x\"},\"y\":{\"field\":\"y\"}},\"id\":\"9babe36c-11be-46cf-9f90-d8a5e31bf9b7\",\"type\":\"Line\"},{\"attributes\":{\"source\":{\"id\":\"a614821b-4c71-468f-aa3f-8788202d2d31\",\"type\":\"ColumnDataSource\"}},\"id\":\"e47c6368-1527-4c31-8748-ee5c1f8e0793\",\"type\":\"CDSView\"},{\"attributes\":{\"line_alpha\":0.6,\"line_color\":\"#984ea3\",\"line_width\":3,\"x\":{\"field\":\"x\"},\"y\":{\"field\":\"y\"}},\"id\":\"14bc70a2-cc98-491b-b987-3631921a934c\",\"type\":\"Line\"},{\"attributes\":{\"data_source\":{\"id\":\"7df0edd5-d027-4642-9a0d-4b9e5417664f\",\"type\":\"ColumnDataSource\"},\"glyph\":{\"id\":\"14bc70a2-cc98-491b-b987-3631921a934c\",\"type\":\"Line\"},\"hover_glyph\":null,\"muted_glyph\":null,\"nonselection_glyph\":{\"id\":\"9babe36c-11be-46cf-9f90-d8a5e31bf9b7\",\"type\":\"Line\"},\"selection_glyph\":null,\"view\":{\"id\":\"b9fc89f3-cd05-49f4-9470-9acc7a1eb8ad\",\"type\":\"CDSView\"}},\"id\":\"b138c9b3-8503-4648-b762-bccd792b51e5\",\"type\":\"GlyphRenderer\"},{\"attributes\":{\"line_alpha\":0.3,\"line_color\":\"#377eb8\",\"line_width\":2,\"x\":{\"field\":\"x\"},\"y\":{\"field\":\"y\"}},\"id\":\"dd857056-bb7c-42b1-92ba-3159ea8749e9\",\"type\":\"Line\"},{\"attributes\":{\"above\":[{\"id\":\"64fcbfcc-891c-42e0-a30b-80b1fe478ec4\",\"type\":\"Legend\"}],\"below\":[{\"id\":\"84c80b28-d3c0-4c63-8c5b-bfe957a9a946\",\"type\":\"LinearAxis\"}],\"left\":[{\"id\":\"774e41db-28ca-4815-881e-9c421360ed8d\",\"type\":\"LogAxis\"}],\"plot_height\":500,\"plot_width\":400,\"renderers\":[{\"id\":\"84c80b28-d3c0-4c63-8c5b-bfe957a9a946\",\"type\":\"LinearAxis\"},{\"id\":\"dda77c73-fec4-46fe-93b2-ea0df950b866\",\"type\":\"Grid\"},{\"id\":\"774e41db-28ca-4815-881e-9c421360ed8d\",\"type\":\"LogAxis\"},{\"id\":\"0a442144-83ad-4c20-b086-d3cd98b1a23c\",\"type\":\"Grid\"},{\"id\":\"b83a76ed-77dd-41bc-a264-6360b9fa05bd\",\"type\":\"BoxAnnotation\"},{\"id\":\"fa7e6bcc-276d-4dc8-b683-69d8a8aa2193\",\"type\":\"GlyphRenderer\"},{\"id\":\"8e0241f6-aecc-4ac6-b93e-15e79cb9be57\",\"type\":\"GlyphRenderer\"},{\"id\":\"eeedc352-16a3-4e64-8de0-8db7c97da072\",\"type\":\"GlyphRenderer\"},{\"id\":\"b138c9b3-8503-4648-b762-bccd792b51e5\",\"type\":\"GlyphRenderer\"},{\"id\":\"9245e759-24ac-4af2-9839-08ec35d40231\",\"type\":\"GlyphRenderer\"},{\"id\":\"60f89cc5-f88e-4ca9-9f8d-6168d63f8cee\",\"type\":\"GlyphRenderer\"},{\"id\":\"64fcbfcc-891c-42e0-a30b-80b1fe478ec4\",\"type\":\"Legend\"}],\"title\":{\"id\":\"82f47d9c-a4fc-4762-a8e0-b99badb25c62\",\"type\":\"Title\"},\"toolbar\":{\"id\":\"283d3398-a368-4c2a-a7c9-b5b46e64d64c\",\"type\":\"Toolbar\"},\"toolbar_location\":null,\"x_range\":{\"id\":\"b100595e-4c0a-4827-bad7-0af71fb3765f\",\"type\":\"Range1d\"},\"x_scale\":{\"id\":\"c72f3570-e294-4248-b2d5-a9280d644ccd\",\"type\":\"LinearScale\"},\"y_range\":{\"id\":\"8ffbc7d9-54aa-479d-a2a4-96b068af0b40\",\"type\":\"Range1d\"},\"y_scale\":{\"id\":\"47f096b1-de0b-4f47-a2a7-4138d6ef3ac3\",\"type\":\"LogScale\"}},\"id\":\"97555967-eb03-4998-a152-589d62be99f4\",\"subtype\":\"Figure\",\"type\":\"Plot\"},{\"attributes\":{\"line_alpha\":0.1,\"line_color\":\"#1f77b4\",\"line_width\":2,\"x\":{\"field\":\"x\"},\"y\":{\"field\":\"y\"}},\"id\":\"297d48f2-9547-462c-9e87-10d987db60ce\",\"type\":\"Line\"},{\"attributes\":{\"data_source\":{\"id\":\"156740a8-1e8b-4505-9fca-8cefc2143c90\",\"type\":\"ColumnDataSource\"},\"glyph\":{\"id\":\"dd857056-bb7c-42b1-92ba-3159ea8749e9\",\"type\":\"Line\"},\"hover_glyph\":null,\"muted_glyph\":null,\"nonselection_glyph\":{\"id\":\"297d48f2-9547-462c-9e87-10d987db60ce\",\"type\":\"Line\"},\"selection_glyph\":null,\"view\":{\"id\":\"d2d59cb4-1c15-481c-9c77-202e91de0bee\",\"type\":\"CDSView\"}},\"id\":\"d177cf86-67c0-40d0-ba14-450340dc4961\",\"type\":\"GlyphRenderer\"},{\"attributes\":{\"source\":{\"id\":\"7df0edd5-d027-4642-9a0d-4b9e5417664f\",\"type\":\"ColumnDataSource\"}},\"id\":\"b9fc89f3-cd05-49f4-9470-9acc7a1eb8ad\",\"type\":\"CDSView\"},{\"attributes\":{\"source\":{\"id\":\"156740a8-1e8b-4505-9fca-8cefc2143c90\",\"type\":\"ColumnDataSource\"}},\"id\":\"d2d59cb4-1c15-481c-9c77-202e91de0bee\",\"type\":\"CDSView\"},{\"attributes\":{\"callback\":null,\"data\":{\"x\":{\"__ndarray__\":\"ME2GftTIdT+ziM87a1R2P+l8zjGLfnc/jgdME1y8eD997lL5t/x5P8/okEdOP3s/I9DfvxWEfD+Tz7s2Act9PwW5FrUMFH8/syuZdIYvgD9RT4oi5dWAP7N0F8EVfYE/EkzXKwglgj9KYLpFp9iCPxM3l8Bb9YQ/5iX+Q9zcij9B51CoCOWRP+Qk36xV1pY/kfXCGqwznD8A+Vsd9P+gPxqDBE/oG6Q/7H1IrUJtpz/+4LItaC6qP+lUGecBV6o/FhQGZRoNqD8zM+HGDiulP7B9BFj6OqI/nfxDZ9O5nj96Wc3l202ZP63oGypOJ5Q/ijD133kcjj+ysInHoyaEP32rg7xg83Y/vSypzexLYT/2+WnRuydRv9mF0svfom+/UI66SRCWd7/VIQ1o1kt8v9cd+MBhNYC/0Ukdwgtygb93/JiIF0GAv1XpdAYp5Hm/L68wgfqWcr9/+fYDHfNmv+hcWeHITlK/hp3BTkL5QD+lLhPpaUVhPyBsBA4F8m0/tPO671widT+sXzsVtxl7P22fAHUpbYA/bddNW6cvgz9/q+KULtSFP/LdJG4FXog/AOS7LzDSij8MNa8ELTWNP8Ez5r4Wio8/bFNokYTpkD+s6aJquQiSP4R6vhMoI5M/fJo0gXI4lD9zBdqsIUmVPy2pLUnrVZY/AJTJ7bpelz8KSDvy52KYPw4vdYmLYJk/wHkC/DJTmj/qHxPUqDObP6yaiISU+5s/zu6S9emqnD/ztKswN0idP6Fi7U8o250/RHJ3s81onj/ogO2vwfOeP1ENTz0/fZ8/\",\"dtype\":\"float64\",\"shape\":[75]},\"y\":{\"__ndarray__\":\"GhExyth1ND/Sv8nbtpRIP2vylNV0PVE/aTum7souWD/At0SJ8fVgPw3Iuahxymc/MSNhhJWvcD/bTfBN02d3P2zb5nxnaoA/CD5h5MAGhz8NmeH1TyaQP+zrCsc9p5Y/LbKd76fGnz/bLW5ISEmmPww9YvTcQq8/JV2OstnstT8Er5Y7M8G+P0c+r3jqkcU/5h99k6ZBzj88bCIzFzjVP4enV8oyxN0//yH99nXg5D8qOpLLf0jtP5kqGJXUifQ/c9cS8kHP/D+/DpwzojQEQIEmwoanVwxA4lgXt9HgE0BSSZ2AJuIbQAMJih9jjiNA5q4l5INuK0AwTKYKRj0zQNv5fmq8/DpAaCJseHrtQkB/+zpwzoxKQM3MzMzMeFJAZmZmZmZqWEAAAAAAAFxeQM3MzMzMJmJAmpmZmZkfZUBmZmZmZhhoQDMzMzMzEWtAAAAAAAAKbkBmZmZmZoFwQM3MzMzM/XFAMzMzMzN6c0CamZmZmfZ0QAAAAAAAc3ZAZmZmZmbvd0DNzMzMzGt5QDMzMzMz6HpAmpmZmZlkfEAAAAAAAOF9QGZmZmZmXX9AZmZmZuZsgECamZmZGSuBQM3MzMxM6YFAAAAAAICngkAzMzMzs2WDQGZmZmbmI4RAmpmZmRnihEDNzMzMTKCFQAAAAACAXoZAMzMzM7Mch0BmZmZm5tqHQJqZmZkZmYhAzczMzExXiUAAAAAAgBWKQDMzMzOz04pAZmZmZuaRi0CamZmZGVCMQM3MzMxMDo1AAAAAAIDMjUAzMzMzs4qOQGZmZmbmSI9A\",\"dtype\":\"float64\",\"shape\":[75]}},\"selected\":{\"id\":\"dd674c75-4715-4af4-80d7-74512d4f2592\",\"type\":\"Selection\"},\"selection_policy\":{\"id\":\"7f41d179-5963-4941-9792-5a54e8a0d374\",\"type\":\"UnionRenderers\"}},\"id\":\"f5a9a0be-f8b0-4041-a9d7-fdeff731afe7\",\"type\":\"ColumnDataSource\"},{\"attributes\":{\"active_drag\":\"auto\",\"active_inspect\":\"auto\",\"active_scroll\":\"auto\",\"active_tap\":\"auto\",\"tools\":[{\"id\":\"a0f06be0-3486-4034-8d25-2495370b0bd9\",\"type\":\"PanTool\"},{\"id\":\"2647e4b1-6dee-4bd0-ab33-14ba700c42ee\",\"type\":\"WheelZoomTool\"},{\"id\":\"2755de9f-d296-4ca1-98c8-5f9af9ee08fa\",\"type\":\"BoxZoomTool\"},{\"id\":\"5b6f3388-2ab7-4e86-b171-96cc91e450f5\",\"type\":\"SaveTool\"},{\"id\":\"bffeb216-ea15-4d78-93cc-dbc16da85d0c\",\"type\":\"ResetTool\"},{\"id\":\"db1d3b81-72d1-43b4-85c9-7be58efdecd7\",\"type\":\"HelpTool\"}]},\"id\":\"283d3398-a368-4c2a-a7c9-b5b46e64d64c\",\"type\":\"Toolbar\"},{\"attributes\":{\"label\":{\"value\":\"CRD\"},\"renderers\":[{\"id\":\"28531c51-74cb-453d-b893-692c55a6be3f\",\"type\":\"GlyphRenderer\"},{\"id\":\"c23e18e3-78f9-471b-bf5b-5e21b25679a0\",\"type\":\"GlyphRenderer\"}]},\"id\":\"ffb2803c-d32a-4155-95bd-e1eb4546e2bb\",\"type\":\"LegendItem\"},{\"attributes\":{\"source\":{\"id\":\"bc875d3f-869d-42f7-969f-5f05b934ee62\",\"type\":\"ColumnDataSource\"}},\"id\":\"f5adbb68-03d4-42de-bfa5-fee15c4f55fa\",\"type\":\"CDSView\"},{\"attributes\":{\"source\":{\"id\":\"2034b32e-d758-4c22-8ea0-089ef81d825b\",\"type\":\"ColumnDataSource\"}},\"id\":\"f956d320-d03e-48ff-a521-a2fb4627f1cd\",\"type\":\"CDSView\"},{\"attributes\":{\"overlay\":{\"id\":\"cc7eb667-2453-4d78-b236-fc0d6ae46bc5\",\"type\":\"BoxAnnotation\"}},\"id\":\"43284b01-3aaa-49ad-bb77-c50d5264c667\",\"type\":\"BoxZoomTool\"},{\"attributes\":{\"label\":{\"value\":\"WGT igg=1\"},\"renderers\":[{\"id\":\"762dfbc5-350e-4698-b716-8bb2dc9e693b\",\"type\":\"GlyphRenderer\"},{\"id\":\"dc1a50fa-7a0e-43d8-827f-d00358ff7066\",\"type\":\"GlyphRenderer\"}]},\"id\":\"b745a6cf-07df-446a-9e1c-28dbbd674242\",\"type\":\"LegendItem\"},{\"attributes\":{},\"id\":\"c72f3570-e294-4248-b2d5-a9280d644ccd\",\"type\":\"LinearScale\"},{\"attributes\":{\"callback\":null,\"data\":{\"x\":{\"__ndarray__\":\"N1qKIPvccj9czE2X/VtzPwLcUqYJnHQ/QR74GqL7dT86Q5GbLl53P8n4bEZLw3g/Ih06Avcqej+YJpYyMZV7P22q4yEJAn0/+D77MmBxfj+/kE/58+J/P0JJnPamq4A/6YW+cFZngT89OlRzlTCCPyBUvEnBl4Q/YjVBJcA5iz9YAimer4qSP76PwfGJB5g/+zYMvJ34nT9pUN5tUxyiP3sRS6pTkKU/ehn9vf0rqT9oPhlR5CysP+0IT48RRqw/eXptguSnqT/wM5ckomKmP6XY8ka9EqM/NLBv7Fa/nz9nShMMvcqZP1cZzrwqRZQ/Tqnf73vsjT8kDtVjBuKDP/uqB81oy3Y/gLQATXPUYj9m7CejOJNFv34zMvfmrmu/kbJ6DV6Qdb/gG+7bvHV6vye9zsn0C3+/3m3GwK0Igb98kWfX+OV/v92JbsrQCXm/aFXpfVN3cb92ned65FBkv+ZhFiZT2Ui/wCeI5+9zTD9cLZZzQEpkP6tEM2VRlHA/WpyDD+XTdj+8UUpvKrJ8PwDEmeXwQ4E/OE74hJwPhD98qTXIrq6GPyrgxvg8N4k/Pr9d1KKziz/WgKDAAhSOP8mahmE2M5A/lMn561VdkT9+WRIL+XqSP7B02cdFl5M/moMuBU60lD9Q7/p1NMGVP06EFXfY1ZY/acqi9Rbklz+mUMrmWemYPwOumAKz8Zk/HjTwKZ3kmj81d7jKiMybPzwVv8yol5w/8AoR8GNFnT90IVymguidPzjP5JxJdJ4/yt/qbW0Jnz8SnpKsMZOfP5ZM2yngEaA/\",\"dtype\":\"float64\",\"shape\":[75]},\"y\":{\"__ndarray__\":\"GhExyth1ND/Sv8nbtpRIP2vylNV0PVE/aTum7souWD/At0SJ8fVgPw3Iuahxymc/MSNhhJWvcD/bTfBN02d3P2zb5nxnaoA/CD5h5MAGhz8NmeH1TyaQP+zrCsc9p5Y/LbKd76fGnz/bLW5ISEmmPww9YvTcQq8/JV2OstnstT8Er5Y7M8G+P0c+r3jqkcU/5h99k6ZBzj88bCIzFzjVP4enV8oyxN0//yH99nXg5D8qOpLLf0jtP5kqGJXUifQ/c9cS8kHP/D+/DpwzojQEQIEmwoanVwxA4lgXt9HgE0BSSZ2AJuIbQAMJih9jjiNA5q4l5INuK0AwTKYKRj0zQNv5fmq8/DpAaCJseHrtQkB/+zpwzoxKQM3MzMzMeFJAZmZmZmZqWEAAAAAAAFxeQM3MzMzMJmJAmpmZmZkfZUBmZmZmZhhoQDMzMzMzEWtAAAAAAAAKbkBmZmZmZoFwQM3MzMzM/XFAMzMzMzN6c0CamZmZmfZ0QAAAAAAAc3ZAZmZmZmbvd0DNzMzMzGt5QDMzMzMz6HpAmpmZmZlkfEAAAAAAAOF9QGZmZmZmXX9AZmZmZuZsgECamZmZGSuBQM3MzMxM6YFAAAAAAICngkAzMzMzs2WDQGZmZmbmI4RAmpmZmRnihEDNzMzMTKCFQAAAAACAXoZAMzMzM7Mch0BmZmZm5tqHQJqZmZkZmYhAzczMzExXiUAAAAAAgBWKQDMzMzOz04pAZmZmZuaRi0CamZmZGVCMQM3MzMxMDo1AAAAAAIDMjUAzMzMzs4qOQGZmZmbmSI9A\",\"dtype\":\"float64\",\"shape\":[75]}},\"selected\":{\"id\":\"87d9d51f-fe97-48d3-8196-80497b11c17b\",\"type\":\"Selection\"},\"selection_policy\":{\"id\":\"e3573e9b-671e-42c1-aab3-7318d662a164\",\"type\":\"UnionRenderers\"}},\"id\":\"7df0edd5-d027-4642-9a0d-4b9e5417664f\",\"type\":\"ColumnDataSource\"},{\"attributes\":{\"label\":{\"value\":\"WGT igg=10\"},\"renderers\":[{\"id\":\"bfee361c-b171-4018-ab04-42f3908b90c6\",\"type\":\"GlyphRenderer\"},{\"id\":\"d177cf86-67c0-40d0-ba14-450340dc4961\",\"type\":\"GlyphRenderer\"}]},\"id\":\"d1dc58cb-8827-4972-a4ba-b8b01b04f117\",\"type\":\"LegendItem\"},{\"attributes\":{\"plot\":{\"id\":\"97555967-eb03-4998-a152-589d62be99f4\",\"subtype\":\"Figure\",\"type\":\"Plot\"},\"ticker\":{\"id\":\"33f21a92-1b93-4ecc-a49b-bced8910eac6\",\"type\":\"BasicTicker\"}},\"id\":\"dda77c73-fec4-46fe-93b2-ea0df950b866\",\"type\":\"Grid\"},{\"attributes\":{\"callback\":null,\"data\":{\"x\":{\"__ndarray__\":\"ME2GftTIdT+ziM87a1R2P+l8zjGLfnc/jgdME1y8eD997lL5t/x5P8/okEdOP3s/I9DfvxWEfD+Tz7s2Act9PwW5FrUMFH8/syuZdIYvgD9RT4oi5dWAP7N0F8EVfYE/EkzXKwglgj9KYLpFp9iCPxM3l8Bb9YQ/5iX+Q9zcij9B51CoCOWRP+Qk36xV1pY/kfXCGqwznD8A+Vsd9P+gPxqDBE/oG6Q/7H1IrUJtpz/+4LItaC6qP+lUGecBV6o/FhQGZRoNqD8zM+HGDiulP7B9BFj6OqI/nfxDZ9O5nj96Wc3l202ZP63oGypOJ5Q/ijD133kcjj+ysInHoyaEP32rg7xg83Y/vSypzexLYT/2+WnRuydRv9mF0svfom+/UI66SRCWd7/VIQ1o1kt8v9cd+MBhNYC/0Ukdwgtygb93/JiIF0GAv1XpdAYp5Hm/L68wgfqWcr9/+fYDHfNmv+hcWeHITlK/hp3BTkL5QD+lLhPpaUVhPyBsBA4F8m0/tPO671widT+sXzsVtxl7P22fAHUpbYA/bddNW6cvgz9/q+KULtSFP/LdJG4FXog/AOS7LzDSij8MNa8ELTWNP8Ez5r4Wio8/bFNokYTpkD+s6aJquQiSP4R6vhMoI5M/fJo0gXI4lD9zBdqsIUmVPy2pLUnrVZY/AJTJ7bpelz8KSDvy52KYPw4vdYmLYJk/wHkC/DJTmj/qHxPUqDObP6yaiISU+5s/zu6S9emqnD/ztKswN0idP6Fi7U8o250/RHJ3s81onj/ogO2vwfOeP1ENTz0/fZ8/\",\"dtype\":\"float64\",\"shape\":[75]},\"y\":{\"__ndarray__\":\"GhExyth1ND/Sv8nbtpRIP2vylNV0PVE/aTum7souWD/At0SJ8fVgPw3Iuahxymc/MSNhhJWvcD/bTfBN02d3P2zb5nxnaoA/CD5h5MAGhz8NmeH1TyaQP+zrCsc9p5Y/LbKd76fGnz/bLW5ISEmmPww9YvTcQq8/JV2OstnstT8Er5Y7M8G+P0c+r3jqkcU/5h99k6ZBzj88bCIzFzjVP4enV8oyxN0//yH99nXg5D8qOpLLf0jtP5kqGJXUifQ/c9cS8kHP/D+/DpwzojQEQIEmwoanVwxA4lgXt9HgE0BSSZ2AJuIbQAMJih9jjiNA5q4l5INuK0AwTKYKRj0zQNv5fmq8/DpAaCJseHrtQkB/+zpwzoxKQM3MzMzMeFJAZmZmZmZqWEAAAAAAAFxeQM3MzMzMJmJAmpmZmZkfZUBmZmZmZhhoQDMzMzMzEWtAAAAAAAAKbkBmZmZmZoFwQM3MzMzM/XFAMzMzMzN6c0CamZmZmfZ0QAAAAAAAc3ZAZmZmZmbvd0DNzMzMzGt5QDMzMzMz6HpAmpmZmZlkfEAAAAAAAOF9QGZmZmZmXX9AZmZmZuZsgECamZmZGSuBQM3MzMxM6YFAAAAAAICngkAzMzMzs2WDQGZmZmbmI4RAmpmZmRnihEDNzMzMTKCFQAAAAACAXoZAMzMzM7Mch0BmZmZm5tqHQJqZmZkZmYhAzczMzExXiUAAAAAAgBWKQDMzMzOz04pAZmZmZuaRi0CamZmZGVCMQM3MzMxMDo1AAAAAAIDMjUAzMzMzs4qOQGZmZmbmSI9A\",\"dtype\":\"float64\",\"shape\":[75]}},\"selected\":{\"id\":\"2fb28201-4ec3-442a-afc7-24818ce5a047\",\"type\":\"Selection\"},\"selection_policy\":{\"id\":\"e3a99583-7266-4b4c-b7e1-e5d2e7a1eb5f\",\"type\":\"UnionRenderers\"}},\"id\":\"bc875d3f-869d-42f7-969f-5f05b934ee62\",\"type\":\"ColumnDataSource\"},{\"attributes\":{\"fill_alpha\":{\"value\":0.7},\"fill_color\":{\"value\":\"#377eb8\"},\"line_alpha\":{\"value\":0.7},\"line_color\":{\"value\":\"#377eb8\"},\"x\":{\"field\":\"x\"},\"y\":{\"field\":\"y\"}},\"id\":\"515b6a33-7789-4e85-b718-ae3050c03864\",\"type\":\"Triangle\"},{\"attributes\":{},\"id\":\"df0588ef-3562-4463-848a-62a8a6970b50\",\"type\":\"PanTool\"},{\"attributes\":{},\"id\":\"47f096b1-de0b-4f47-a2a7-4138d6ef3ac3\",\"type\":\"LogScale\"},{\"attributes\":{\"axis_label\":\"cooling rate [K/day]\",\"formatter\":{\"id\":\"c7cb110b-fa09-4085-991a-b7c5a546dd8c\",\"type\":\"BasicTickFormatter\"},\"plot\":{\"id\":\"97555967-eb03-4998-a152-589d62be99f4\",\"subtype\":\"Figure\",\"type\":\"Plot\"},\"ticker\":{\"id\":\"33f21a92-1b93-4ecc-a49b-bced8910eac6\",\"type\":\"BasicTicker\"}},\"id\":\"84c80b28-d3c0-4c63-8c5b-bfe957a9a946\",\"type\":\"LinearAxis\"},{\"attributes\":{},\"id\":\"33f21a92-1b93-4ecc-a49b-bced8910eac6\",\"type\":\"BasicTicker\"},{\"attributes\":{\"axis_label\":\"pressure [mb]\",\"formatter\":{\"id\":\"fd7a5ded-fc47-4664-8a8a-0efcdda10178\",\"type\":\"LogTickFormatter\"},\"plot\":{\"id\":\"97555967-eb03-4998-a152-589d62be99f4\",\"subtype\":\"Figure\",\"type\":\"Plot\"},\"ticker\":{\"id\":\"f3d5132c-1da3-4634-8cb0-50b275574772\",\"type\":\"LogTicker\"}},\"id\":\"774e41db-28ca-4815-881e-9c421360ed8d\",\"type\":\"LogAxis\"},{\"attributes\":{\"line_alpha\":0.1,\"line_color\":\"#1f77b4\",\"line_width\":2,\"x\":{\"field\":\"x\"},\"y\":{\"field\":\"y\"}},\"id\":\"08377872-88c7-4cd9-a17c-17995c8abbb1\",\"type\":\"Line\"},{\"attributes\":{\"num_minor_ticks\":10},\"id\":\"f3d5132c-1da3-4634-8cb0-50b275574772\",\"type\":\"LogTicker\"},{\"attributes\":{\"children\":[{\"id\":\"783ac82c-23d8-4d69-85e7-91df002f235c\",\"subtype\":\"Figure\",\"type\":\"Plot\"},{\"id\":\"97555967-eb03-4998-a152-589d62be99f4\",\"subtype\":\"Figure\",\"type\":\"Plot\"}]},\"id\":\"9c23a690-caa0-4d1a-a9eb-f094c4285203\",\"type\":\"Row\"},{\"attributes\":{},\"id\":\"bc47a87c-2c29-463c-998d-a1efd7176ee9\",\"type\":\"WheelZoomTool\"},{\"attributes\":{\"dimension\":1,\"plot\":{\"id\":\"97555967-eb03-4998-a152-589d62be99f4\",\"subtype\":\"Figure\",\"type\":\"Plot\"},\"ticker\":{\"id\":\"f3d5132c-1da3-4634-8cb0-50b275574772\",\"type\":\"LogTicker\"}},\"id\":\"0a442144-83ad-4c20-b086-d3cd98b1a23c\",\"type\":\"Grid\"},{\"attributes\":{\"source\":{\"id\":\"f5a9a0be-f8b0-4041-a9d7-fdeff731afe7\",\"type\":\"ColumnDataSource\"}},\"id\":\"efc83d5a-b863-4d56-87bd-c027bcdb7ca0\",\"type\":\"CDSView\"},{\"attributes\":{\"line_alpha\":0.3,\"line_color\":\"#377eb8\",\"line_width\":2,\"x\":{\"field\":\"x\"},\"y\":{\"field\":\"y\"}},\"id\":\"efc4db3c-25c6-4d98-a6f7-70a9ed4acba8\",\"type\":\"Line\"},{\"attributes\":{},\"id\":\"a0f06be0-3486-4034-8d25-2495370b0bd9\",\"type\":\"PanTool\"},{\"attributes\":{\"fill_alpha\":{\"value\":0.1},\"fill_color\":{\"value\":\"#1f77b4\"},\"line_alpha\":{\"value\":0.1},\"line_color\":{\"value\":\"#1f77b4\"},\"x\":{\"field\":\"x\"},\"y\":{\"field\":\"y\"}},\"id\":\"14074480-95ce-4637-b9b4-3baa9e4317cc\",\"type\":\"Triangle\"},{\"attributes\":{},\"id\":\"2647e4b1-6dee-4bd0-ab33-14ba700c42ee\",\"type\":\"WheelZoomTool\"},{\"attributes\":{\"overlay\":{\"id\":\"b83a76ed-77dd-41bc-a264-6360b9fa05bd\",\"type\":\"BoxAnnotation\"}},\"id\":\"2755de9f-d296-4ca1-98c8-5f9af9ee08fa\",\"type\":\"BoxZoomTool\"},{\"attributes\":{\"bottom_units\":\"screen\",\"fill_alpha\":{\"value\":0.5},\"fill_color\":{\"value\":\"lightgrey\"},\"left_units\":\"screen\",\"level\":\"overlay\",\"line_alpha\":{\"value\":1.0},\"line_color\":{\"value\":\"black\"},\"line_dash\":[4,4],\"line_width\":{\"value\":2},\"plot\":null,\"render_mode\":\"css\",\"right_units\":\"screen\",\"top_units\":\"screen\"},\"id\":\"cc7eb667-2453-4d78-b236-fc0d6ae46bc5\",\"type\":\"BoxAnnotation\"},{\"attributes\":{\"data_source\":{\"id\":\"bc875d3f-869d-42f7-969f-5f05b934ee62\",\"type\":\"ColumnDataSource\"},\"glyph\":{\"id\":\"efc4db3c-25c6-4d98-a6f7-70a9ed4acba8\",\"type\":\"Line\"},\"hover_glyph\":null,\"muted_glyph\":null,\"nonselection_glyph\":{\"id\":\"08377872-88c7-4cd9-a17c-17995c8abbb1\",\"type\":\"Line\"},\"selection_glyph\":null,\"view\":{\"id\":\"f5adbb68-03d4-42de-bfa5-fee15c4f55fa\",\"type\":\"CDSView\"}},\"id\":\"60f89cc5-f88e-4ca9-9f8d-6168d63f8cee\",\"type\":\"GlyphRenderer\"},{\"attributes\":{\"items\":[{\"id\":\"b3581aa1-1a45-4415-8d52-ad7ee19b5bed\",\"type\":\"LegendItem\"},{\"id\":\"f38e4f84-6e41-4913-9954-0fd42b6cc298\",\"type\":\"LegendItem\"},{\"id\":\"2ca359b7-a1f2-4fbb-9ffb-e3c7db608d52\",\"type\":\"LegendItem\"}],\"label_text_font_size\":{\"value\":\"8pt\"},\"location\":\"top_center\",\"orientation\":\"horizontal\",\"plot\":{\"id\":\"97555967-eb03-4998-a152-589d62be99f4\",\"subtype\":\"Figure\",\"type\":\"Plot\"}},\"id\":\"64fcbfcc-891c-42e0-a30b-80b1fe478ec4\",\"type\":\"Legend\"},{\"attributes\":{\"children\":[{\"id\":\"9c23a690-caa0-4d1a-a9eb-f094c4285203\",\"type\":\"Row\"}]},\"id\":\"54061cca-6f7d-4cf5-b93d-1a3605350868\",\"type\":\"Column\"},{\"attributes\":{},\"id\":\"396d3cb0-dcfd-4473-b7c6-ccf7e0e93105\",\"type\":\"HelpTool\"},{\"attributes\":{\"callback\":null,\"end\":0.055859484815400005,\"start\":-0.0091557104754},\"id\":\"b100595e-4c0a-4827-bad7-0af71fb3765f\",\"type\":\"Range1d\"},{\"attributes\":{},\"id\":\"9c0f90c0-cfcb-4c7a-988e-616d99db1337\",\"type\":\"SaveTool\"},{\"attributes\":{},\"id\":\"7a247720-44fa-4f76-96bf-7ab8284a6fcf\",\"type\":\"ResetTool\"},{\"attributes\":{},\"id\":\"169edf35-3266-4fc4-8407-ecb92ba79d50\",\"type\":\"Selection\"},{\"attributes\":{\"callback\":null,\"end\":0.01,\"start\":1020},\"id\":\"8ffbc7d9-54aa-479d-a2a4-96b068af0b40\",\"type\":\"Range1d\"},{\"attributes\":{\"source\":{\"id\":\"0773cb92-c8d6-41c4-8f72-f8496ce03248\",\"type\":\"ColumnDataSource\"}},\"id\":\"730bd6bf-f59f-44b4-aa26-8287b8000636\",\"type\":\"CDSView\"},{\"attributes\":{\"data_source\":{\"id\":\"1266c8e4-e9f5-4540-80cf-98c75b7811bb\",\"type\":\"ColumnDataSource\"},\"glyph\":{\"id\":\"ae4dfc5e-b3f7-415b-a219-cd4ad7369630\",\"type\":\"Line\"},\"hover_glyph\":null,\"muted_glyph\":null,\"nonselection_glyph\":{\"id\":\"5d7924b2-881f-4214-881c-b3b12b7797d2\",\"type\":\"Line\"},\"selection_glyph\":null,\"view\":{\"id\":\"28b4fe1b-042c-40b2-a490-85b6dca5ddd2\",\"type\":\"CDSView\"}},\"id\":\"8e0241f6-aecc-4ac6-b93e-15e79cb9be57\",\"type\":\"GlyphRenderer\"},{\"attributes\":{\"source\":{\"id\":\"1266c8e4-e9f5-4540-80cf-98c75b7811bb\",\"type\":\"ColumnDataSource\"}},\"id\":\"28b4fe1b-042c-40b2-a490-85b6dca5ddd2\",\"type\":\"CDSView\"},{\"attributes\":{\"data_source\":{\"id\":\"0773cb92-c8d6-41c4-8f72-f8496ce03248\",\"type\":\"ColumnDataSource\"},\"glyph\":{\"id\":\"5026fa9e-9da5-4991-a4d7-9dacd755faea\",\"type\":\"Circle\"},\"hover_glyph\":null,\"muted_glyph\":null,\"nonselection_glyph\":{\"id\":\"79f76944-00e5-4496-8b7a-ab00be000b0f\",\"type\":\"Circle\"},\"selection_glyph\":null,\"view\":{\"id\":\"730bd6bf-f59f-44b4-aa26-8287b8000636\",\"type\":\"CDSView\"}},\"id\":\"fa7e6bcc-276d-4dc8-b683-69d8a8aa2193\",\"type\":\"GlyphRenderer\"},{\"attributes\":{\"line_color\":\"#4daf4a\",\"line_width\":1.5,\"x\":{\"field\":\"x\"},\"y\":{\"field\":\"y\"}},\"id\":\"ae4dfc5e-b3f7-415b-a219-cd4ad7369630\",\"type\":\"Line\"},{\"attributes\":{\"line_alpha\":0.1,\"line_color\":\"#1f77b4\",\"line_width\":1.5,\"x\":{\"field\":\"x\"},\"y\":{\"field\":\"y\"}},\"id\":\"5d7924b2-881f-4214-881c-b3b12b7797d2\",\"type\":\"Line\"},{\"attributes\":{},\"id\":\"c0fa511a-ecba-4172-a633-bb443c7c85c0\",\"type\":\"UnionRenderers\"},{\"attributes\":{\"fill_alpha\":{\"value\":0.7},\"fill_color\":{\"value\":\"#4daf4a\"},\"line_alpha\":{\"value\":0.7},\"line_color\":{\"value\":\"#4daf4a\"},\"x\":{\"field\":\"x\"},\"y\":{\"field\":\"y\"}},\"id\":\"5026fa9e-9da5-4991-a4d7-9dacd755faea\",\"type\":\"Circle\"},{\"attributes\":{},\"id\":\"5b6f3388-2ab7-4e86-b171-96cc91e450f5\",\"type\":\"SaveTool\"},{\"attributes\":{\"callback\":null,\"data\":{\"x\":{\"__ndarray__\":\"fc5r/dM8QT9msNArYY9GPyYViEj2DVE/OX+/LSo2Vz9WAL+IvGhdP43UpCeFz2E/tPr1s0HrZD+i8kNUFQtoP6r4dW3GKGs/YL+rTMhFbj8eSilg55lwP02/haWsAHI/ktoHMyVHcz+u2qGFoYx0P4QggTV4KXk/k46RfwCCgz9sojtjRxyOP1rH8jU44ZQ/kOIfb6ojmz/IfVQH5eugP9v1FxV8faQ/XIEv8wpIqD/BKoZorFurPzwZw2xnN6s/HXLPjKAeqD+eEqhm3HmkP0PqacyTB6E/DEqtBEbvmz80HK4QOMSWP52ZRfI/YZI/SLvu/bShjD89EcBwas+EP5QK6NbLNXw/eSa4OLHecD9YuUQKiJhTP8p2cCzZFF+/+FJlEStgcb+WuwF1MtB3v/07/9dwAX6/+p0FJfUzgb8+dq36aU6Av5rj88JRfXm/Dj/UBjvPcb+OajIWFitlv9Yajt4o+U2/NXxPsI9FRj9qSc5rciBiP7pcUb5+P24/DNG/C+L7dD8d/2xAUKJ6Py6+NvYpB4A/4DxcIX+dgj+l8A6FPBSFPxG56Relb4c/ah7VzB62iT9Gf+grLe2LPzhhCZ2OGI4/jzs9K0cdkD+kYPoNcSqRP3bk4kJvNJI/C5h3juU6kz8ZR29/lD6UP4wC2sZfQJU/arBvoFNAlj+q43XB5T2XP12otZbtNpg/lmOEgBQmmT9Dw5XFWgKaP9TA+nOdw5o/QvKfRPxpmz/kV4uKGv6bPwgbljYAipw/LPPBr2sUnT9waHPgQaGdP/qWm2KsM54/\",\"dtype\":\"float64\",\"shape\":[75]},\"y\":{\"__ndarray__\":\"GhExyth1ND/Sv8nbtpRIP2vylNV0PVE/aTum7souWD/At0SJ8fVgPw3Iuahxymc/MSNhhJWvcD/bTfBN02d3P2zb5nxnaoA/CD5h5MAGhz8NmeH1TyaQP+zrCsc9p5Y/LbKd76fGnz/bLW5ISEmmPww9YvTcQq8/JV2OstnstT8Er5Y7M8G+P0c+r3jqkcU/5h99k6ZBzj88bCIzFzjVP4enV8oyxN0//yH99nXg5D8qOpLLf0jtP5kqGJXUifQ/c9cS8kHP/D+/DpwzojQEQIEmwoanVwxA4lgXt9HgE0BSSZ2AJuIbQAMJih9jjiNA5q4l5INuK0AwTKYKRj0zQNv5fmq8/DpAaCJseHrtQkB/+zpwzoxKQM3MzMzMeFJAZmZmZmZqWEAAAAAAAFxeQM3MzMzMJmJAmpmZmZkfZUBmZmZmZhhoQDMzMzMzEWtAAAAAAAAKbkBmZmZmZoFwQM3MzMzM/XFAMzMzMzN6c0CamZmZmfZ0QAAAAAAAc3ZAZmZmZmbvd0DNzMzMzGt5QDMzMzMz6HpAmpmZmZlkfEAAAAAAAOF9QGZmZmZmXX9AZmZmZuZsgECamZmZGSuBQM3MzMxM6YFAAAAAAICngkAzMzMzs2WDQGZmZmbmI4RAmpmZmRnihEDNzMzMTKCFQAAAAACAXoZAMzMzM7Mch0BmZmZm5tqHQJqZmZkZmYhAzczMzExXiUAAAAAAgBWKQDMzMzOz04pAZmZmZuaRi0CamZmZGVCMQM3MzMxMDo1AAAAAAIDMjUAzMzMzs4qOQGZmZmbmSI9A\",\"dtype\":\"float64\",\"shape\":[75]}},\"selected\":{\"id\":\"cc577b0e-9e58-4d1b-bb14-60614d5b1d18\",\"type\":\"Selection\"},\"selection_policy\":{\"id\":\"7990cb9d-2947-489a-8582-f937fa936dd1\",\"type\":\"UnionRenderers\"}},\"id\":\"0773cb92-c8d6-41c4-8f72-f8496ce03248\",\"type\":\"ColumnDataSource\"},{\"attributes\":{\"callback\":null,\"data\":{\"x\":{\"__ndarray__\":\"N1qKIPvccj9czE2X/VtzPwLcUqYJnHQ/QR74GqL7dT86Q5GbLl53P8n4bEZLw3g/Ih06Avcqej+YJpYyMZV7P22q4yEJAn0/+D77MmBxfj+/kE/58+J/P0JJnPamq4A/6YW+cFZngT89OlRzlTCCPyBUvEnBl4Q/YjVBJcA5iz9YAimer4qSP76PwfGJB5g/+zYMvJ34nT9pUN5tUxyiP3sRS6pTkKU/ehn9vf0rqT9oPhlR5CysP+0IT48RRqw/eXptguSnqT/wM5ckomKmP6XY8ka9EqM/NLBv7Fa/nz9nShMMvcqZP1cZzrwqRZQ/Tqnf73vsjT8kDtVjBuKDP/uqB81oy3Y/gLQATXPUYj9m7CejOJNFv34zMvfmrmu/kbJ6DV6Qdb/gG+7bvHV6vye9zsn0C3+/3m3GwK0Igb98kWfX+OV/v92JbsrQCXm/aFXpfVN3cb92ned65FBkv+ZhFiZT2Ui/wCeI5+9zTD9cLZZzQEpkP6tEM2VRlHA/WpyDD+XTdj+8UUpvKrJ8PwDEmeXwQ4E/OE74hJwPhD98qTXIrq6GPyrgxvg8N4k/Pr9d1KKziz/WgKDAAhSOP8mahmE2M5A/lMn561VdkT9+WRIL+XqSP7B02cdFl5M/moMuBU60lD9Q7/p1NMGVP06EFXfY1ZY/acqi9Rbklz+mUMrmWemYPwOumAKz8Zk/HjTwKZ3kmj81d7jKiMybPzwVv8yol5w/8AoR8GNFnT90IVymguidPzjP5JxJdJ4/yt/qbW0Jnz8SnpKsMZOfP5ZM2yngEaA/\",\"dtype\":\"float64\",\"shape\":[75]},\"y\":{\"__ndarray__\":\"GhExyth1ND/Sv8nbtpRIP2vylNV0PVE/aTum7souWD/At0SJ8fVgPw3Iuahxymc/MSNhhJWvcD/bTfBN02d3P2zb5nxnaoA/CD5h5MAGhz8NmeH1TyaQP+zrCsc9p5Y/LbKd76fGnz/bLW5ISEmmPww9YvTcQq8/JV2OstnstT8Er5Y7M8G+P0c+r3jqkcU/5h99k6ZBzj88bCIzFzjVP4enV8oyxN0//yH99nXg5D8qOpLLf0jtP5kqGJXUifQ/c9cS8kHP/D+/DpwzojQEQIEmwoanVwxA4lgXt9HgE0BSSZ2AJuIbQAMJih9jjiNA5q4l5INuK0AwTKYKRj0zQNv5fmq8/DpAaCJseHrtQkB/+zpwzoxKQM3MzMzMeFJAZmZmZmZqWEAAAAAAAFxeQM3MzMzMJmJAmpmZmZkfZUBmZmZmZhhoQDMzMzMzEWtAAAAAAAAKbkBmZmZmZoFwQM3MzMzM/XFAMzMzMzN6c0CamZmZmfZ0QAAAAAAAc3ZAZmZmZmbvd0DNzMzMzGt5QDMzMzMz6HpAmpmZmZlkfEAAAAAAAOF9QGZmZmZmXX9AZmZmZuZsgECamZmZGSuBQM3MzMxM6YFAAAAAAICngkAzMzMzs2WDQGZmZmbmI4RAmpmZmRnihEDNzMzMTKCFQAAAAACAXoZAMzMzM7Mch0BmZmZm5tqHQJqZmZkZmYhAzczMzExXiUAAAAAAgBWKQDMzMzOz04pAZmZmZuaRi0CamZmZGVCMQM3MzMxMDo1AAAAAAIDMjUAzMzMzs4qOQGZmZmbmSI9A\",\"dtype\":\"float64\",\"shape\":[75]}},\"selected\":{\"id\":\"64990588-feac-438f-85d9-598116e4ac6f\",\"type\":\"Selection\"},\"selection_policy\":{\"id\":\"b3ef7ad7-35d0-4c16-ab76-fed90d1b0f0c\",\"type\":\"UnionRenderers\"}},\"id\":\"2034b32e-d758-4c22-8ea0-089ef81d825b\",\"type\":\"ColumnDataSource\"},{\"attributes\":{\"fill_alpha\":{\"value\":0.7},\"fill_color\":{\"value\":\"#984ea3\"},\"line_alpha\":{\"value\":0.7},\"line_color\":{\"value\":\"#984ea3\"},\"x\":{\"field\":\"x\"},\"y\":{\"field\":\"y\"}},\"id\":\"64b9fc4d-cf8a-44fd-9542-b9cecba8fd66\",\"type\":\"Square\"},{\"attributes\":{\"fill_alpha\":{\"value\":0.1},\"fill_color\":{\"value\":\"#1f77b4\"},\"line_alpha\":{\"value\":0.1},\"line_color\":{\"value\":\"#1f77b4\"},\"x\":{\"field\":\"x\"},\"y\":{\"field\":\"y\"}},\"id\":\"79f76944-00e5-4496-8b7a-ab00be000b0f\",\"type\":\"Circle\"},{\"attributes\":{\"callback\":null,\"data\":{\"x\":{\"__ndarray__\":\"fc5r/dM8QT9msNArYY9GPyYViEj2DVE/OX+/LSo2Vz9WAL+IvGhdP43UpCeFz2E/tPr1s0HrZD+i8kNUFQtoP6r4dW3GKGs/YL+rTMhFbj8eSilg55lwP02/haWsAHI/ktoHMyVHcz+u2qGFoYx0P4QggTV4KXk/k46RfwCCgz9sojtjRxyOP1rH8jU44ZQ/kOIfb6ojmz/IfVQH5eugP9v1FxV8faQ/XIEv8wpIqD/BKoZorFurPzwZw2xnN6s/HXLPjKAeqD+eEqhm3HmkP0PqacyTB6E/DEqtBEbvmz80HK4QOMSWP52ZRfI/YZI/SLvu/bShjD89EcBwas+EP5QK6NbLNXw/eSa4OLHecD9YuUQKiJhTP8p2cCzZFF+/+FJlEStgcb+WuwF1MtB3v/07/9dwAX6/+p0FJfUzgb8+dq36aU6Av5rj88JRfXm/Dj/UBjvPcb+OajIWFitlv9Yajt4o+U2/NXxPsI9FRj9qSc5rciBiP7pcUb5+P24/DNG/C+L7dD8d/2xAUKJ6Py6+NvYpB4A/4DxcIX+dgj+l8A6FPBSFPxG56Relb4c/ah7VzB62iT9Gf+grLe2LPzhhCZ2OGI4/jzs9K0cdkD+kYPoNcSqRP3bk4kJvNJI/C5h3juU6kz8ZR29/lD6UP4wC2sZfQJU/arBvoFNAlj+q43XB5T2XP12otZbtNpg/lmOEgBQmmT9Dw5XFWgKaP9TA+nOdw5o/QvKfRPxpmz/kV4uKGv6bPwgbljYAipw/LPPBr2sUnT9waHPgQaGdP/qWm2KsM54/\",\"dtype\":\"float64\",\"shape\":[75]},\"y\":{\"__ndarray__\":\"GhExyth1ND/Sv8nbtpRIP2vylNV0PVE/aTum7souWD/At0SJ8fVgPw3Iuahxymc/MSNhhJWvcD/bTfBN02d3P2zb5nxnaoA/CD5h5MAGhz8NmeH1TyaQP+zrCsc9p5Y/LbKd76fGnz/bLW5ISEmmPww9YvTcQq8/JV2OstnstT8Er5Y7M8G+P0c+r3jqkcU/5h99k6ZBzj88bCIzFzjVP4enV8oyxN0//yH99nXg5D8qOpLLf0jtP5kqGJXUifQ/c9cS8kHP/D+/DpwzojQEQIEmwoanVwxA4lgXt9HgE0BSSZ2AJuIbQAMJih9jjiNA5q4l5INuK0AwTKYKRj0zQNv5fmq8/DpAaCJseHrtQkB/+zpwzoxKQM3MzMzMeFJAZmZmZmZqWEAAAAAAAFxeQM3MzMzMJmJAmpmZmZkfZUBmZmZmZhhoQDMzMzMzEWtAAAAAAAAKbkBmZmZmZoFwQM3MzMzM/XFAMzMzMzN6c0CamZmZmfZ0QAAAAAAAc3ZAZmZmZmbvd0DNzMzMzGt5QDMzMzMz6HpAmpmZmZlkfEAAAAAAAOF9QGZmZmZmXX9AZmZmZuZsgECamZmZGSuBQM3MzMxM6YFAAAAAAICngkAzMzMzs2WDQGZmZmbmI4RAmpmZmRnihEDNzMzMTKCFQAAAAACAXoZAMzMzM7Mch0BmZmZm5tqHQJqZmZkZmYhAzczMzExXiUAAAAAAgBWKQDMzMzOz04pAZmZmZuaRi0CamZmZGVCMQM3MzMxMDo1AAAAAAIDMjUAzMzMzs4qOQGZmZmbmSI9A\",\"dtype\":\"float64\",\"shape\":[75]}},\"selected\":{\"id\":\"e6b58daa-a441-404d-8734-8ca60f9eb152\",\"type\":\"Selection\"},\"selection_policy\":{\"id\":\"0aaebc94-011d-442c-a4ee-ec5c86543044\",\"type\":\"UnionRenderers\"}},\"id\":\"1266c8e4-e9f5-4540-80cf-98c75b7811bb\",\"type\":\"ColumnDataSource\"}],\"root_ids\":[\"627402f4-3658-4bc4-bed4-de67d00f1ab6\"]},\"title\":\"Bokeh Application\",\"version\":\"0.12.16\"}};\n",
       "  var render_items = [{\"docid\":\"a8e49dd0-5965-4e80-bfad-62083a5d42ee\",\"elementid\":\"aa19e418-ecb0-4da8-bc63-9fff05327e65\",\"modelid\":\"627402f4-3658-4bc4-bed4-de67d00f1ab6\"}];\n",
       "  root.Bokeh.embed.embed_items_notebook(docs_json, render_items);\n",
       "\n",
       "  }\n",
       "  if (root.Bokeh !== undefined) {\n",
       "    embed_document(root);\n",
       "  } else {\n",
       "    var attempts = 0;\n",
       "    var timer = setInterval(function(root) {\n",
       "      if (root.Bokeh !== undefined) {\n",
       "        embed_document(root);\n",
       "        clearInterval(timer);\n",
       "      }\n",
       "      attempts++;\n",
       "      if (attempts > 100) {\n",
       "        console.log(\"Bokeh: ERROR: Unable to run BokehJS code because BokehJS library is missing\")\n",
       "        clearInterval(timer);\n",
       "      }\n",
       "    }, 10, root)\n",
       "  }\n",
       "})(window);"
      ],
      "application/vnd.bokehjs_exec.v0+json": ""
     },
     "metadata": {
      "application/vnd.bokehjs_exec.v0+json": {
       "id": "627402f4-3658-4bc4-bed4-de67d00f1ab6"
      }
     },
     "output_type": "display_data"
    },
    {
     "data": {
      "text/markdown": [
       "*FIGURE.* Cooling rates. Summed over g."
      ],
      "text/plain": [
       "<IPython.core.display.Markdown object>"
      ]
     },
     "metadata": {},
     "output_type": "display_data"
    },
    {
     "data": {
      "text/html": [
       "<a id=\"Flux_Comparison\"></a>"
      ],
      "text/plain": [
       "<IPython.core.display.HTML object>"
      ]
     },
     "metadata": {},
     "output_type": "display_data"
    },
    {
     "data": {
      "text/markdown": [
       "# Flux Comparison"
      ],
      "text/plain": [
       "<IPython.core.display.Markdown object>"
      ]
     },
     "metadata": {},
     "output_type": "display_data"
    },
    {
     "data": {
      "text/html": [
       "<div>\n",
       "<style scoped>\n",
       "    .dataframe tbody tr th:only-of-type {\n",
       "        vertical-align: middle;\n",
       "    }\n",
       "\n",
       "    .dataframe tbody tr th {\n",
       "        vertical-align: top;\n",
       "    }\n",
       "\n",
       "    .dataframe thead th {\n",
       "        text-align: right;\n",
       "    }\n",
       "</style>\n",
       "<table border=\"1\" class=\"dataframe\">\n",
       "  <thead>\n",
       "    <tr style=\"text-align: right;\">\n",
       "      <th></th>\n",
       "      <th></th>\n",
       "      <th></th>\n",
       "      <th>flug</th>\n",
       "      <th>fldg</th>\n",
       "      <th>fnetg</th>\n",
       "    </tr>\n",
       "    <tr>\n",
       "      <th>g</th>\n",
       "      <th>pressure</th>\n",
       "      <th>level</th>\n",
       "      <th></th>\n",
       "      <th></th>\n",
       "      <th></th>\n",
       "    </tr>\n",
       "  </thead>\n",
       "  <tbody>\n",
       "    <tr>\n",
       "      <th rowspan=\"3\" valign=\"top\">1</th>\n",
       "      <th>0.000</th>\n",
       "      <th>1</th>\n",
       "      <td>-0.236778</td>\n",
       "      <td>0.000000</td>\n",
       "      <td>-0.236778</td>\n",
       "    </tr>\n",
       "    <tr>\n",
       "      <th>180.875</th>\n",
       "      <th>41</th>\n",
       "      <td>-0.288188</td>\n",
       "      <td>0.086416</td>\n",
       "      <td>-0.201771</td>\n",
       "    </tr>\n",
       "    <tr>\n",
       "      <th>1013.000</th>\n",
       "      <th>76</th>\n",
       "      <td>-0.409850</td>\n",
       "      <td>0.252234</td>\n",
       "      <td>-0.157617</td>\n",
       "    </tr>\n",
       "    <tr>\n",
       "      <th rowspan=\"3\" valign=\"top\">2</th>\n",
       "      <th>0.000</th>\n",
       "      <th>1</th>\n",
       "      <td>-3.121880</td>\n",
       "      <td>0.000000</td>\n",
       "      <td>-3.121880</td>\n",
       "    </tr>\n",
       "    <tr>\n",
       "      <th>180.875</th>\n",
       "      <th>41</th>\n",
       "      <td>-3.284538</td>\n",
       "      <td>0.146448</td>\n",
       "      <td>-3.138089</td>\n",
       "    </tr>\n",
       "    <tr>\n",
       "      <th>1013.000</th>\n",
       "      <th>76</th>\n",
       "      <td>-3.770929</td>\n",
       "      <td>1.176675</td>\n",
       "      <td>-2.594254</td>\n",
       "    </tr>\n",
       "    <tr>\n",
       "      <th rowspan=\"3\" valign=\"top\">3</th>\n",
       "      <th>0.000</th>\n",
       "      <th>1</th>\n",
       "      <td>-31.658433</td>\n",
       "      <td>0.000000</td>\n",
       "      <td>-31.658433</td>\n",
       "    </tr>\n",
       "    <tr>\n",
       "      <th>180.875</th>\n",
       "      <th>41</th>\n",
       "      <td>-31.729573</td>\n",
       "      <td>0.044008</td>\n",
       "      <td>-31.685565</td>\n",
       "    </tr>\n",
       "    <tr>\n",
       "      <th>1013.000</th>\n",
       "      <th>76</th>\n",
       "      <td>-32.054628</td>\n",
       "      <td>1.184366</td>\n",
       "      <td>-30.870262</td>\n",
       "    </tr>\n",
       "  </tbody>\n",
       "</table>\n",
       "</div>"
      ],
      "text/plain": [
       "                       flug      fldg      fnetg\n",
       "g pressure level                                \n",
       "1 0.000    1      -0.236778  0.000000  -0.236778\n",
       "  180.875  41     -0.288188  0.086416  -0.201771\n",
       "  1013.000 76     -0.409850  0.252234  -0.157617\n",
       "2 0.000    1      -3.121880  0.000000  -3.121880\n",
       "  180.875  41     -3.284538  0.146448  -3.138089\n",
       "  1013.000 76     -3.770929  1.176675  -2.594254\n",
       "3 0.000    1     -31.658433  0.000000 -31.658433\n",
       "  180.875  41    -31.729573  0.044008 -31.685565\n",
       "  1013.000 76    -32.054628  1.184366 -30.870262"
      ]
     },
     "metadata": {},
     "output_type": "display_data"
    },
    {
     "data": {
      "text/markdown": [
       "*TABLE.* Fluxes. CRD"
      ],
      "text/plain": [
       "<IPython.core.display.Markdown object>"
      ]
     },
     "metadata": {},
     "output_type": "display_data"
    },
    {
     "data": {
      "text/html": [
       "<div>\n",
       "<style scoped>\n",
       "    .dataframe tbody tr th:only-of-type {\n",
       "        vertical-align: middle;\n",
       "    }\n",
       "\n",
       "    .dataframe tbody tr th {\n",
       "        vertical-align: top;\n",
       "    }\n",
       "\n",
       "    .dataframe thead th {\n",
       "        text-align: right;\n",
       "    }\n",
       "</style>\n",
       "<table border=\"1\" class=\"dataframe\">\n",
       "  <thead>\n",
       "    <tr style=\"text-align: right;\">\n",
       "      <th></th>\n",
       "      <th></th>\n",
       "      <th></th>\n",
       "      <th>flug</th>\n",
       "      <th>fldg</th>\n",
       "      <th>fnetg</th>\n",
       "    </tr>\n",
       "    <tr>\n",
       "      <th>g</th>\n",
       "      <th>pressure</th>\n",
       "      <th>level</th>\n",
       "      <th></th>\n",
       "      <th></th>\n",
       "      <th></th>\n",
       "    </tr>\n",
       "  </thead>\n",
       "  <tbody>\n",
       "    <tr>\n",
       "      <th rowspan=\"3\" valign=\"top\">1</th>\n",
       "      <th>0.000</th>\n",
       "      <th>1</th>\n",
       "      <td>-0.208272</td>\n",
       "      <td>0.000000</td>\n",
       "      <td>-0.208272</td>\n",
       "    </tr>\n",
       "    <tr>\n",
       "      <th>180.875</th>\n",
       "      <th>41</th>\n",
       "      <td>-0.259454</td>\n",
       "      <td>0.097730</td>\n",
       "      <td>-0.161724</td>\n",
       "    </tr>\n",
       "    <tr>\n",
       "      <th>1013.000</th>\n",
       "      <th>76</th>\n",
       "      <td>-0.406737</td>\n",
       "      <td>0.309187</td>\n",
       "      <td>-0.097550</td>\n",
       "    </tr>\n",
       "    <tr>\n",
       "      <th rowspan=\"3\" valign=\"top\">2</th>\n",
       "      <th>0.000</th>\n",
       "      <th>1</th>\n",
       "      <td>-3.101550</td>\n",
       "      <td>0.000000</td>\n",
       "      <td>-3.101550</td>\n",
       "    </tr>\n",
       "    <tr>\n",
       "      <th>180.875</th>\n",
       "      <th>41</th>\n",
       "      <td>-3.269253</td>\n",
       "      <td>0.126895</td>\n",
       "      <td>-3.142358</td>\n",
       "    </tr>\n",
       "    <tr>\n",
       "      <th>1013.000</th>\n",
       "      <th>76</th>\n",
       "      <td>-3.736970</td>\n",
       "      <td>1.225374</td>\n",
       "      <td>-2.511596</td>\n",
       "    </tr>\n",
       "    <tr>\n",
       "      <th rowspan=\"3\" valign=\"top\">3</th>\n",
       "      <th>0.000</th>\n",
       "      <th>1</th>\n",
       "      <td>-31.707876</td>\n",
       "      <td>0.000000</td>\n",
       "      <td>-31.707876</td>\n",
       "    </tr>\n",
       "    <tr>\n",
       "      <th>180.875</th>\n",
       "      <th>41</th>\n",
       "      <td>-31.778542</td>\n",
       "      <td>0.042975</td>\n",
       "      <td>-31.735568</td>\n",
       "    </tr>\n",
       "    <tr>\n",
       "      <th>1013.000</th>\n",
       "      <th>76</th>\n",
       "      <td>-32.091701</td>\n",
       "      <td>1.172171</td>\n",
       "      <td>-30.919530</td>\n",
       "    </tr>\n",
       "  </tbody>\n",
       "</table>\n",
       "</div>"
      ],
      "text/plain": [
       "                       flug      fldg      fnetg\n",
       "g pressure level                                \n",
       "1 0.000    1      -0.208272  0.000000  -0.208272\n",
       "  180.875  41     -0.259454  0.097730  -0.161724\n",
       "  1013.000 76     -0.406737  0.309187  -0.097550\n",
       "2 0.000    1      -3.101550  0.000000  -3.101550\n",
       "  180.875  41     -3.269253  0.126895  -3.142358\n",
       "  1013.000 76     -3.736970  1.225374  -2.511596\n",
       "3 0.000    1     -31.707876  0.000000 -31.707876\n",
       "  180.875  41    -31.778542  0.042975 -31.735568\n",
       "  1013.000 76    -32.091701  1.172171 -30.919530"
      ]
     },
     "metadata": {},
     "output_type": "display_data"
    },
    {
     "data": {
      "text/markdown": [
       "*TABLE.* Fluxes. WGT igg=1"
      ],
      "text/plain": [
       "<IPython.core.display.Markdown object>"
      ]
     },
     "metadata": {},
     "output_type": "display_data"
    },
    {
     "data": {
      "text/html": [
       "<div>\n",
       "<style scoped>\n",
       "    .dataframe tbody tr th:only-of-type {\n",
       "        vertical-align: middle;\n",
       "    }\n",
       "\n",
       "    .dataframe tbody tr th {\n",
       "        vertical-align: top;\n",
       "    }\n",
       "\n",
       "    .dataframe thead th {\n",
       "        text-align: right;\n",
       "    }\n",
       "</style>\n",
       "<table border=\"1\" class=\"dataframe\">\n",
       "  <thead>\n",
       "    <tr style=\"text-align: right;\">\n",
       "      <th></th>\n",
       "      <th></th>\n",
       "      <th></th>\n",
       "      <th>flug</th>\n",
       "      <th>fldg</th>\n",
       "      <th>fnetg</th>\n",
       "    </tr>\n",
       "    <tr>\n",
       "      <th>g</th>\n",
       "      <th>pressure</th>\n",
       "      <th>level</th>\n",
       "      <th></th>\n",
       "      <th></th>\n",
       "      <th></th>\n",
       "    </tr>\n",
       "  </thead>\n",
       "  <tbody>\n",
       "    <tr>\n",
       "      <th rowspan=\"3\" valign=\"top\">1</th>\n",
       "      <th>0.000</th>\n",
       "      <th>1</th>\n",
       "      <td>-0.195475</td>\n",
       "      <td>0.000000</td>\n",
       "      <td>-0.195475</td>\n",
       "    </tr>\n",
       "    <tr>\n",
       "      <th>180.875</th>\n",
       "      <th>41</th>\n",
       "      <td>-0.250529</td>\n",
       "      <td>0.105036</td>\n",
       "      <td>-0.145492</td>\n",
       "    </tr>\n",
       "    <tr>\n",
       "      <th>1013.000</th>\n",
       "      <th>76</th>\n",
       "      <td>-0.406737</td>\n",
       "      <td>0.324247</td>\n",
       "      <td>-0.082490</td>\n",
       "    </tr>\n",
       "    <tr>\n",
       "      <th rowspan=\"3\" valign=\"top\">2</th>\n",
       "      <th>0.000</th>\n",
       "      <th>1</th>\n",
       "      <td>-3.130796</td>\n",
       "      <td>0.000000</td>\n",
       "      <td>-3.130796</td>\n",
       "    </tr>\n",
       "    <tr>\n",
       "      <th>180.875</th>\n",
       "      <th>41</th>\n",
       "      <td>-3.296725</td>\n",
       "      <td>0.112520</td>\n",
       "      <td>-3.184204</td>\n",
       "    </tr>\n",
       "    <tr>\n",
       "      <th>1013.000</th>\n",
       "      <th>76</th>\n",
       "      <td>-3.736970</td>\n",
       "      <td>1.192532</td>\n",
       "      <td>-2.544438</td>\n",
       "    </tr>\n",
       "    <tr>\n",
       "      <th rowspan=\"3\" valign=\"top\">3</th>\n",
       "      <th>0.000</th>\n",
       "      <th>1</th>\n",
       "      <td>-31.737980</td>\n",
       "      <td>0.000000</td>\n",
       "      <td>-31.737980</td>\n",
       "    </tr>\n",
       "    <tr>\n",
       "      <th>180.875</th>\n",
       "      <th>41</th>\n",
       "      <td>-31.803419</td>\n",
       "      <td>0.038887</td>\n",
       "      <td>-31.764532</td>\n",
       "    </tr>\n",
       "    <tr>\n",
       "      <th>1013.000</th>\n",
       "      <th>76</th>\n",
       "      <td>-32.091701</td>\n",
       "      <td>1.090713</td>\n",
       "      <td>-31.000988</td>\n",
       "    </tr>\n",
       "  </tbody>\n",
       "</table>\n",
       "</div>"
      ],
      "text/plain": [
       "                       flug      fldg      fnetg\n",
       "g pressure level                                \n",
       "1 0.000    1      -0.195475  0.000000  -0.195475\n",
       "  180.875  41     -0.250529  0.105036  -0.145492\n",
       "  1013.000 76     -0.406737  0.324247  -0.082490\n",
       "2 0.000    1      -3.130796  0.000000  -3.130796\n",
       "  180.875  41     -3.296725  0.112520  -3.184204\n",
       "  1013.000 76     -3.736970  1.192532  -2.544438\n",
       "3 0.000    1     -31.737980  0.000000 -31.737980\n",
       "  180.875  41    -31.803419  0.038887 -31.764532\n",
       "  1013.000 76    -32.091701  1.090713 -31.000988"
      ]
     },
     "metadata": {},
     "output_type": "display_data"
    },
    {
     "data": {
      "text/markdown": [
       "*TABLE.* Fluxes. WGT igg=10"
      ],
      "text/plain": [
       "<IPython.core.display.Markdown object>"
      ]
     },
     "metadata": {},
     "output_type": "display_data"
    },
    {
     "data": {
      "text/html": [
       "<div>\n",
       "<style scoped>\n",
       "    .dataframe tbody tr th:only-of-type {\n",
       "        vertical-align: middle;\n",
       "    }\n",
       "\n",
       "    .dataframe tbody tr th {\n",
       "        vertical-align: top;\n",
       "    }\n",
       "\n",
       "    .dataframe thead th {\n",
       "        text-align: right;\n",
       "    }\n",
       "</style>\n",
       "<table border=\"1\" class=\"dataframe\">\n",
       "  <thead>\n",
       "    <tr style=\"text-align: right;\">\n",
       "      <th></th>\n",
       "      <th></th>\n",
       "      <th></th>\n",
       "      <th>flug</th>\n",
       "      <th>fldg</th>\n",
       "      <th>fnetg</th>\n",
       "    </tr>\n",
       "    <tr>\n",
       "      <th>g</th>\n",
       "      <th>pressure</th>\n",
       "      <th>level</th>\n",
       "      <th></th>\n",
       "      <th></th>\n",
       "      <th></th>\n",
       "    </tr>\n",
       "  </thead>\n",
       "  <tbody>\n",
       "    <tr>\n",
       "      <th rowspan=\"3\" valign=\"top\">1</th>\n",
       "      <th>0.000</th>\n",
       "      <th>1</th>\n",
       "      <td>0.028506</td>\n",
       "      <td>0.000000</td>\n",
       "      <td>0.028506</td>\n",
       "    </tr>\n",
       "    <tr>\n",
       "      <th>180.875</th>\n",
       "      <th>41</th>\n",
       "      <td>0.028733</td>\n",
       "      <td>0.011314</td>\n",
       "      <td>0.040047</td>\n",
       "    </tr>\n",
       "    <tr>\n",
       "      <th>1013.000</th>\n",
       "      <th>76</th>\n",
       "      <td>0.003113</td>\n",
       "      <td>0.056953</td>\n",
       "      <td>0.060066</td>\n",
       "    </tr>\n",
       "    <tr>\n",
       "      <th rowspan=\"3\" valign=\"top\">2</th>\n",
       "      <th>0.000</th>\n",
       "      <th>1</th>\n",
       "      <td>0.020330</td>\n",
       "      <td>0.000000</td>\n",
       "      <td>0.020330</td>\n",
       "    </tr>\n",
       "    <tr>\n",
       "      <th>180.875</th>\n",
       "      <th>41</th>\n",
       "      <td>0.015284</td>\n",
       "      <td>-0.019553</td>\n",
       "      <td>-0.004269</td>\n",
       "    </tr>\n",
       "    <tr>\n",
       "      <th>1013.000</th>\n",
       "      <th>76</th>\n",
       "      <td>0.033959</td>\n",
       "      <td>0.048699</td>\n",
       "      <td>0.082658</td>\n",
       "    </tr>\n",
       "    <tr>\n",
       "      <th rowspan=\"3\" valign=\"top\">3</th>\n",
       "      <th>0.000</th>\n",
       "      <th>1</th>\n",
       "      <td>-0.049443</td>\n",
       "      <td>0.000000</td>\n",
       "      <td>-0.049443</td>\n",
       "    </tr>\n",
       "    <tr>\n",
       "      <th>180.875</th>\n",
       "      <th>41</th>\n",
       "      <td>-0.048969</td>\n",
       "      <td>-0.001034</td>\n",
       "      <td>-0.050003</td>\n",
       "    </tr>\n",
       "    <tr>\n",
       "      <th>1013.000</th>\n",
       "      <th>76</th>\n",
       "      <td>-0.037073</td>\n",
       "      <td>-0.012195</td>\n",
       "      <td>-0.049268</td>\n",
       "    </tr>\n",
       "  </tbody>\n",
       "</table>\n",
       "</div>"
      ],
      "text/plain": [
       "                      flug      fldg     fnetg\n",
       "g pressure level                              \n",
       "1 0.000    1      0.028506  0.000000  0.028506\n",
       "  180.875  41     0.028733  0.011314  0.040047\n",
       "  1013.000 76     0.003113  0.056953  0.060066\n",
       "2 0.000    1      0.020330  0.000000  0.020330\n",
       "  180.875  41     0.015284 -0.019553 -0.004269\n",
       "  1013.000 76     0.033959  0.048699  0.082658\n",
       "3 0.000    1     -0.049443  0.000000 -0.049443\n",
       "  180.875  41    -0.048969 -0.001034 -0.050003\n",
       "  1013.000 76    -0.037073 -0.012195 -0.049268"
      ]
     },
     "metadata": {},
     "output_type": "display_data"
    },
    {
     "data": {
      "text/markdown": [
       "*TABLE.* Fluxes. (WGT igg=1) - (CRD)"
      ],
      "text/plain": [
       "<IPython.core.display.Markdown object>"
      ]
     },
     "metadata": {},
     "output_type": "display_data"
    },
    {
     "data": {
      "text/html": [
       "<div>\n",
       "<style scoped>\n",
       "    .dataframe tbody tr th:only-of-type {\n",
       "        vertical-align: middle;\n",
       "    }\n",
       "\n",
       "    .dataframe tbody tr th {\n",
       "        vertical-align: top;\n",
       "    }\n",
       "\n",
       "    .dataframe thead th {\n",
       "        text-align: right;\n",
       "    }\n",
       "</style>\n",
       "<table border=\"1\" class=\"dataframe\">\n",
       "  <thead>\n",
       "    <tr style=\"text-align: right;\">\n",
       "      <th></th>\n",
       "      <th></th>\n",
       "      <th></th>\n",
       "      <th>flug</th>\n",
       "      <th>fldg</th>\n",
       "      <th>fnetg</th>\n",
       "    </tr>\n",
       "    <tr>\n",
       "      <th>g</th>\n",
       "      <th>pressure</th>\n",
       "      <th>level</th>\n",
       "      <th></th>\n",
       "      <th></th>\n",
       "      <th></th>\n",
       "    </tr>\n",
       "  </thead>\n",
       "  <tbody>\n",
       "    <tr>\n",
       "      <th rowspan=\"3\" valign=\"top\">1</th>\n",
       "      <th>0.000</th>\n",
       "      <th>1</th>\n",
       "      <td>0.041303</td>\n",
       "      <td>0.000000</td>\n",
       "      <td>0.041303</td>\n",
       "    </tr>\n",
       "    <tr>\n",
       "      <th>180.875</th>\n",
       "      <th>41</th>\n",
       "      <td>0.037659</td>\n",
       "      <td>0.018620</td>\n",
       "      <td>0.056279</td>\n",
       "    </tr>\n",
       "    <tr>\n",
       "      <th>1013.000</th>\n",
       "      <th>76</th>\n",
       "      <td>0.003113</td>\n",
       "      <td>0.072013</td>\n",
       "      <td>0.075126</td>\n",
       "    </tr>\n",
       "    <tr>\n",
       "      <th rowspan=\"3\" valign=\"top\">2</th>\n",
       "      <th>0.000</th>\n",
       "      <th>1</th>\n",
       "      <td>-0.008916</td>\n",
       "      <td>0.000000</td>\n",
       "      <td>-0.008916</td>\n",
       "    </tr>\n",
       "    <tr>\n",
       "      <th>180.875</th>\n",
       "      <th>41</th>\n",
       "      <td>-0.012187</td>\n",
       "      <td>-0.033928</td>\n",
       "      <td>-0.046115</td>\n",
       "    </tr>\n",
       "    <tr>\n",
       "      <th>1013.000</th>\n",
       "      <th>76</th>\n",
       "      <td>0.033959</td>\n",
       "      <td>0.015856</td>\n",
       "      <td>0.049816</td>\n",
       "    </tr>\n",
       "    <tr>\n",
       "      <th rowspan=\"3\" valign=\"top\">3</th>\n",
       "      <th>0.000</th>\n",
       "      <th>1</th>\n",
       "      <td>-0.079547</td>\n",
       "      <td>0.000000</td>\n",
       "      <td>-0.079547</td>\n",
       "    </tr>\n",
       "    <tr>\n",
       "      <th>180.875</th>\n",
       "      <th>41</th>\n",
       "      <td>-0.073846</td>\n",
       "      <td>-0.005121</td>\n",
       "      <td>-0.078967</td>\n",
       "    </tr>\n",
       "    <tr>\n",
       "      <th>1013.000</th>\n",
       "      <th>76</th>\n",
       "      <td>-0.037073</td>\n",
       "      <td>-0.093653</td>\n",
       "      <td>-0.130726</td>\n",
       "    </tr>\n",
       "  </tbody>\n",
       "</table>\n",
       "</div>"
      ],
      "text/plain": [
       "                      flug      fldg     fnetg\n",
       "g pressure level                              \n",
       "1 0.000    1      0.041303  0.000000  0.041303\n",
       "  180.875  41     0.037659  0.018620  0.056279\n",
       "  1013.000 76     0.003113  0.072013  0.075126\n",
       "2 0.000    1     -0.008916  0.000000 -0.008916\n",
       "  180.875  41    -0.012187 -0.033928 -0.046115\n",
       "  1013.000 76     0.033959  0.015856  0.049816\n",
       "3 0.000    1     -0.079547  0.000000 -0.079547\n",
       "  180.875  41    -0.073846 -0.005121 -0.078967\n",
       "  1013.000 76    -0.037073 -0.093653 -0.130726"
      ]
     },
     "metadata": {},
     "output_type": "display_data"
    },
    {
     "data": {
      "text/markdown": [
       "*TABLE.* Fluxes. (WGT igg=10) - (CRD)"
      ],
      "text/plain": [
       "<IPython.core.display.Markdown object>"
      ]
     },
     "metadata": {},
     "output_type": "display_data"
    },
    {
     "data": {
      "text/html": [
       "<div>\n",
       "<style scoped>\n",
       "    .dataframe tbody tr th:only-of-type {\n",
       "        vertical-align: middle;\n",
       "    }\n",
       "\n",
       "    .dataframe tbody tr th {\n",
       "        vertical-align: top;\n",
       "    }\n",
       "\n",
       "    .dataframe thead th {\n",
       "        text-align: right;\n",
       "    }\n",
       "</style>\n",
       "<table border=\"1\" class=\"dataframe\">\n",
       "  <thead>\n",
       "    <tr style=\"text-align: right;\">\n",
       "      <th></th>\n",
       "      <th></th>\n",
       "      <th>flug</th>\n",
       "      <th>fldg</th>\n",
       "      <th>fnetg</th>\n",
       "    </tr>\n",
       "    <tr>\n",
       "      <th>pressure</th>\n",
       "      <th>level</th>\n",
       "      <th></th>\n",
       "      <th></th>\n",
       "      <th></th>\n",
       "    </tr>\n",
       "  </thead>\n",
       "  <tbody>\n",
       "    <tr>\n",
       "      <th>0.000</th>\n",
       "      <th>1</th>\n",
       "      <td>-35.017091</td>\n",
       "      <td>0.000000</td>\n",
       "      <td>-35.017091</td>\n",
       "    </tr>\n",
       "    <tr>\n",
       "      <th>180.875</th>\n",
       "      <th>41</th>\n",
       "      <td>-35.302298</td>\n",
       "      <td>0.276873</td>\n",
       "      <td>-35.025426</td>\n",
       "    </tr>\n",
       "    <tr>\n",
       "      <th>1013.000</th>\n",
       "      <th>76</th>\n",
       "      <td>-36.235408</td>\n",
       "      <td>2.613275</td>\n",
       "      <td>-33.622133</td>\n",
       "    </tr>\n",
       "  </tbody>\n",
       "</table>\n",
       "</div>"
      ],
      "text/plain": [
       "                     flug      fldg      fnetg\n",
       "pressure level                                \n",
       "0.000    1     -35.017091  0.000000 -35.017091\n",
       "180.875  41    -35.302298  0.276873 -35.025426\n",
       "1013.000 76    -36.235408  2.613275 -33.622133"
      ]
     },
     "metadata": {},
     "output_type": "display_data"
    },
    {
     "data": {
      "text/markdown": [
       "*TABLE.* Fluxes. CRD"
      ],
      "text/plain": [
       "<IPython.core.display.Markdown object>"
      ]
     },
     "metadata": {},
     "output_type": "display_data"
    },
    {
     "data": {
      "text/html": [
       "<div>\n",
       "<style scoped>\n",
       "    .dataframe tbody tr th:only-of-type {\n",
       "        vertical-align: middle;\n",
       "    }\n",
       "\n",
       "    .dataframe tbody tr th {\n",
       "        vertical-align: top;\n",
       "    }\n",
       "\n",
       "    .dataframe thead th {\n",
       "        text-align: right;\n",
       "    }\n",
       "</style>\n",
       "<table border=\"1\" class=\"dataframe\">\n",
       "  <thead>\n",
       "    <tr style=\"text-align: right;\">\n",
       "      <th></th>\n",
       "      <th></th>\n",
       "      <th>flug</th>\n",
       "      <th>fldg</th>\n",
       "      <th>fnetg</th>\n",
       "    </tr>\n",
       "    <tr>\n",
       "      <th>pressure</th>\n",
       "      <th>level</th>\n",
       "      <th></th>\n",
       "      <th></th>\n",
       "      <th></th>\n",
       "    </tr>\n",
       "  </thead>\n",
       "  <tbody>\n",
       "    <tr>\n",
       "      <th>0.000</th>\n",
       "      <th>1</th>\n",
       "      <td>-35.017698</td>\n",
       "      <td>0.000000</td>\n",
       "      <td>-35.017698</td>\n",
       "    </tr>\n",
       "    <tr>\n",
       "      <th>180.875</th>\n",
       "      <th>41</th>\n",
       "      <td>-35.307250</td>\n",
       "      <td>0.267600</td>\n",
       "      <td>-35.039651</td>\n",
       "    </tr>\n",
       "    <tr>\n",
       "      <th>1013.000</th>\n",
       "      <th>76</th>\n",
       "      <td>-36.235408</td>\n",
       "      <td>2.706732</td>\n",
       "      <td>-33.528677</td>\n",
       "    </tr>\n",
       "  </tbody>\n",
       "</table>\n",
       "</div>"
      ],
      "text/plain": [
       "                     flug      fldg      fnetg\n",
       "pressure level                                \n",
       "0.000    1     -35.017698  0.000000 -35.017698\n",
       "180.875  41    -35.307250  0.267600 -35.039651\n",
       "1013.000 76    -36.235408  2.706732 -33.528677"
      ]
     },
     "metadata": {},
     "output_type": "display_data"
    },
    {
     "data": {
      "text/markdown": [
       "*TABLE.* Fluxes. WGT igg=1"
      ],
      "text/plain": [
       "<IPython.core.display.Markdown object>"
      ]
     },
     "metadata": {},
     "output_type": "display_data"
    },
    {
     "data": {
      "text/html": [
       "<div>\n",
       "<style scoped>\n",
       "    .dataframe tbody tr th:only-of-type {\n",
       "        vertical-align: middle;\n",
       "    }\n",
       "\n",
       "    .dataframe tbody tr th {\n",
       "        vertical-align: top;\n",
       "    }\n",
       "\n",
       "    .dataframe thead th {\n",
       "        text-align: right;\n",
       "    }\n",
       "</style>\n",
       "<table border=\"1\" class=\"dataframe\">\n",
       "  <thead>\n",
       "    <tr style=\"text-align: right;\">\n",
       "      <th></th>\n",
       "      <th></th>\n",
       "      <th>flug</th>\n",
       "      <th>fldg</th>\n",
       "      <th>fnetg</th>\n",
       "    </tr>\n",
       "    <tr>\n",
       "      <th>pressure</th>\n",
       "      <th>level</th>\n",
       "      <th></th>\n",
       "      <th></th>\n",
       "      <th></th>\n",
       "    </tr>\n",
       "  </thead>\n",
       "  <tbody>\n",
       "    <tr>\n",
       "      <th>0.000</th>\n",
       "      <th>1</th>\n",
       "      <td>-35.064251</td>\n",
       "      <td>0.000000</td>\n",
       "      <td>-35.064251</td>\n",
       "    </tr>\n",
       "    <tr>\n",
       "      <th>180.875</th>\n",
       "      <th>41</th>\n",
       "      <td>-35.350672</td>\n",
       "      <td>0.256444</td>\n",
       "      <td>-35.094229</td>\n",
       "    </tr>\n",
       "    <tr>\n",
       "      <th>1013.000</th>\n",
       "      <th>76</th>\n",
       "      <td>-36.235408</td>\n",
       "      <td>2.607492</td>\n",
       "      <td>-33.627916</td>\n",
       "    </tr>\n",
       "  </tbody>\n",
       "</table>\n",
       "</div>"
      ],
      "text/plain": [
       "                     flug      fldg      fnetg\n",
       "pressure level                                \n",
       "0.000    1     -35.064251  0.000000 -35.064251\n",
       "180.875  41    -35.350672  0.256444 -35.094229\n",
       "1013.000 76    -36.235408  2.607492 -33.627916"
      ]
     },
     "metadata": {},
     "output_type": "display_data"
    },
    {
     "data": {
      "text/markdown": [
       "*TABLE.* Fluxes. WGT igg=10"
      ],
      "text/plain": [
       "<IPython.core.display.Markdown object>"
      ]
     },
     "metadata": {},
     "output_type": "display_data"
    },
    {
     "data": {
      "text/html": [
       "<div>\n",
       "<style scoped>\n",
       "    .dataframe tbody tr th:only-of-type {\n",
       "        vertical-align: middle;\n",
       "    }\n",
       "\n",
       "    .dataframe tbody tr th {\n",
       "        vertical-align: top;\n",
       "    }\n",
       "\n",
       "    .dataframe thead th {\n",
       "        text-align: right;\n",
       "    }\n",
       "</style>\n",
       "<table border=\"1\" class=\"dataframe\">\n",
       "  <thead>\n",
       "    <tr style=\"text-align: right;\">\n",
       "      <th></th>\n",
       "      <th></th>\n",
       "      <th>flug</th>\n",
       "      <th>fldg</th>\n",
       "      <th>fnetg</th>\n",
       "    </tr>\n",
       "    <tr>\n",
       "      <th>pressure</th>\n",
       "      <th>level</th>\n",
       "      <th></th>\n",
       "      <th></th>\n",
       "      <th></th>\n",
       "    </tr>\n",
       "  </thead>\n",
       "  <tbody>\n",
       "    <tr>\n",
       "      <th>0.000</th>\n",
       "      <th>1</th>\n",
       "      <td>-6.067900e-04</td>\n",
       "      <td>0.000000</td>\n",
       "      <td>-0.000607</td>\n",
       "    </tr>\n",
       "    <tr>\n",
       "      <th>180.875</th>\n",
       "      <th>41</th>\n",
       "      <td>-4.951340e-03</td>\n",
       "      <td>-0.009273</td>\n",
       "      <td>-0.014225</td>\n",
       "    </tr>\n",
       "    <tr>\n",
       "      <th>1013.000</th>\n",
       "      <th>76</th>\n",
       "      <td>-5.600000e-07</td>\n",
       "      <td>0.093457</td>\n",
       "      <td>0.093456</td>\n",
       "    </tr>\n",
       "  </tbody>\n",
       "</table>\n",
       "</div>"
      ],
      "text/plain": [
       "                        flug      fldg     fnetg\n",
       "pressure level                                  \n",
       "0.000    1     -6.067900e-04  0.000000 -0.000607\n",
       "180.875  41    -4.951340e-03 -0.009273 -0.014225\n",
       "1013.000 76    -5.600000e-07  0.093457  0.093456"
      ]
     },
     "metadata": {},
     "output_type": "display_data"
    },
    {
     "data": {
      "text/markdown": [
       "*TABLE.* Fluxes. (WGT igg=1) - (CRD)"
      ],
      "text/plain": [
       "<IPython.core.display.Markdown object>"
      ]
     },
     "metadata": {},
     "output_type": "display_data"
    },
    {
     "data": {
      "text/html": [
       "<div>\n",
       "<style scoped>\n",
       "    .dataframe tbody tr th:only-of-type {\n",
       "        vertical-align: middle;\n",
       "    }\n",
       "\n",
       "    .dataframe tbody tr th {\n",
       "        vertical-align: top;\n",
       "    }\n",
       "\n",
       "    .dataframe thead th {\n",
       "        text-align: right;\n",
       "    }\n",
       "</style>\n",
       "<table border=\"1\" class=\"dataframe\">\n",
       "  <thead>\n",
       "    <tr style=\"text-align: right;\">\n",
       "      <th></th>\n",
       "      <th></th>\n",
       "      <th>flug</th>\n",
       "      <th>fldg</th>\n",
       "      <th>fnetg</th>\n",
       "    </tr>\n",
       "    <tr>\n",
       "      <th>pressure</th>\n",
       "      <th>level</th>\n",
       "      <th></th>\n",
       "      <th></th>\n",
       "      <th></th>\n",
       "    </tr>\n",
       "  </thead>\n",
       "  <tbody>\n",
       "    <tr>\n",
       "      <th>0.000</th>\n",
       "      <th>1</th>\n",
       "      <td>-4.715973e-02</td>\n",
       "      <td>0.000000</td>\n",
       "      <td>-0.047160</td>\n",
       "    </tr>\n",
       "    <tr>\n",
       "      <th>180.875</th>\n",
       "      <th>41</th>\n",
       "      <td>-4.837394e-02</td>\n",
       "      <td>-0.020429</td>\n",
       "      <td>-0.068803</td>\n",
       "    </tr>\n",
       "    <tr>\n",
       "      <th>1013.000</th>\n",
       "      <th>76</th>\n",
       "      <td>-5.600000e-07</td>\n",
       "      <td>-0.005783</td>\n",
       "      <td>-0.005784</td>\n",
       "    </tr>\n",
       "  </tbody>\n",
       "</table>\n",
       "</div>"
      ],
      "text/plain": [
       "                        flug      fldg     fnetg\n",
       "pressure level                                  \n",
       "0.000    1     -4.715973e-02  0.000000 -0.047160\n",
       "180.875  41    -4.837394e-02 -0.020429 -0.068803\n",
       "1013.000 76    -5.600000e-07 -0.005783 -0.005784"
      ]
     },
     "metadata": {},
     "output_type": "display_data"
    },
    {
     "data": {
      "text/markdown": [
       "*TABLE.* Fluxes. (WGT igg=10) - (CRD)"
      ],
      "text/plain": [
       "<IPython.core.display.Markdown object>"
      ]
     },
     "metadata": {},
     "output_type": "display_data"
    },
    {
     "data": {
      "text/html": [
       "<a id=\"g-interval_Summary\"></a>"
      ],
      "text/plain": [
       "<IPython.core.display.HTML object>"
      ]
     },
     "metadata": {},
     "output_type": "display_data"
    },
    {
     "data": {
      "text/markdown": [
       "# g-interval Summary"
      ],
      "text/plain": [
       "<IPython.core.display.Markdown object>"
      ]
     },
     "metadata": {},
     "output_type": "display_data"
    },
    {
     "data": {
      "text/html": [
       "<div>\n",
       "<style scoped>\n",
       "    .dataframe tbody tr th:only-of-type {\n",
       "        vertical-align: middle;\n",
       "    }\n",
       "\n",
       "    .dataframe tbody tr th {\n",
       "        vertical-align: top;\n",
       "    }\n",
       "\n",
       "    .dataframe thead th {\n",
       "        text-align: right;\n",
       "    }\n",
       "</style>\n",
       "<table border=\"1\" class=\"dataframe\">\n",
       "  <thead>\n",
       "    <tr style=\"text-align: right;\">\n",
       "      <th></th>\n",
       "      <th>abscom</th>\n",
       "      <th>k(ig) / k(ig - 1)</th>\n",
       "      <th>dg</th>\n",
       "      <th>dgs</th>\n",
       "      <th>dg cumsum</th>\n",
       "      <th>dgs cumsum</th>\n",
       "      <th>pref</th>\n",
       "    </tr>\n",
       "    <tr>\n",
       "      <th>g</th>\n",
       "      <th></th>\n",
       "      <th></th>\n",
       "      <th></th>\n",
       "      <th></th>\n",
       "      <th></th>\n",
       "      <th></th>\n",
       "      <th></th>\n",
       "    </tr>\n",
       "  </thead>\n",
       "  <tbody>\n",
       "    <tr>\n",
       "      <th>1</th>\n",
       "      <td>2.716718e-20</td>\n",
       "      <td>NaN</td>\n",
       "      <td>0.011300</td>\n",
       "      <td>0.011225</td>\n",
       "      <td>0.011300</td>\n",
       "      <td>0.011225</td>\n",
       "      <td>1.0</td>\n",
       "    </tr>\n",
       "    <tr>\n",
       "      <th>2</th>\n",
       "      <td>2.220078e-20</td>\n",
       "      <td>0.817191</td>\n",
       "      <td>0.104012</td>\n",
       "      <td>0.103130</td>\n",
       "      <td>0.115312</td>\n",
       "      <td>0.114355</td>\n",
       "      <td>500.0</td>\n",
       "    </tr>\n",
       "    <tr>\n",
       "      <th>3</th>\n",
       "      <td>7.377351e-24</td>\n",
       "      <td>0.000332</td>\n",
       "      <td>0.884687</td>\n",
       "      <td>0.885645</td>\n",
       "      <td>1.000000</td>\n",
       "      <td>1.000000</td>\n",
       "      <td>500.0</td>\n",
       "    </tr>\n",
       "  </tbody>\n",
       "</table>\n",
       "</div>"
      ],
      "text/plain": [
       "         abscom  k(ig) / k(ig - 1)        dg       dgs  dg cumsum  dgs cumsum  \\\n",
       "g                                                                               \n",
       "1  2.716718e-20                NaN  0.011300  0.011225   0.011300    0.011225   \n",
       "2  2.220078e-20           0.817191  0.104012  0.103130   0.115312    0.114355   \n",
       "3  7.377351e-24           0.000332  0.884687  0.885645   1.000000    1.000000   \n",
       "\n",
       "    pref  \n",
       "g         \n",
       "1    1.0  \n",
       "2  500.0  \n",
       "3  500.0  "
      ]
     },
     "metadata": {},
     "output_type": "display_data"
    },
    {
     "data": {
      "text/markdown": [
       "TABLE. g-interval summary.  *abscom* is the lower bound of the g-interval."
      ],
      "text/plain": [
       "<IPython.core.display.Markdown object>"
      ]
     },
     "metadata": {},
     "output_type": "display_data"
    },
    {
     "data": {
      "text/html": [
       "<a id=\"Download_Data\"></a>"
      ],
      "text/plain": [
       "<IPython.core.display.HTML object>"
      ]
     },
     "metadata": {},
     "output_type": "display_data"
    },
    {
     "data": {
      "text/markdown": [
       "# Download Data"
      ],
      "text/plain": [
       "<IPython.core.display.Markdown object>"
      ]
     },
     "metadata": {},
     "output_type": "display_data"
    },
    {
     "data": {
      "text/html": [
       "Download: <a href=\"./lblnew-bestfit_flux.xlsx\">lblnew-bestfit_flux.xlsx</a>"
      ],
      "text/plain": [
       "<IPython.core.display.HTML object>"
      ]
     },
     "metadata": {},
     "output_type": "display_data"
    },
    {
     "data": {
      "text/html": [
       "Download: <a href=\"./lblnew-bestfit_cool.xlsx\">lblnew-bestfit_cool.xlsx</a>"
      ],
      "text/plain": [
       "<IPython.core.display.HTML object>"
      ]
     },
     "metadata": {},
     "output_type": "display_data"
    }
   ],
   "source": [
    "script()"
   ]
  },
  {
   "cell_type": "code",
   "execution_count": 14,
   "metadata": {},
   "outputs": [
    {
     "data": {
      "text/html": [
       "<script>\n",
       "code_show=true; \n",
       "function code_toggle() {\n",
       " if (code_show){\n",
       " $('div.input').hide();\n",
       " } else {\n",
       " $('div.input').show();\n",
       " }\n",
       " code_show = !code_show\n",
       "} \n",
       "$( document ).ready(code_toggle);\n",
       "</script>\n",
       "<form action=\"javascript:code_toggle()\"><input type=\"submit\" value=\"Click here to toggle on/off the raw code.\"></form>"
      ],
      "text/plain": [
       "<IPython.core.display.HTML object>"
      ]
     },
     "execution_count": 14,
     "metadata": {},
     "output_type": "execute_result"
    }
   ],
   "source": [
    "display.HTML('''<script>\n",
    "code_show=true; \n",
    "function code_toggle() {\n",
    " if (code_show){\n",
    " $('div.input').hide();\n",
    " } else {\n",
    " $('div.input').show();\n",
    " }\n",
    " code_show = !code_show\n",
    "} \n",
    "$( document ).ready(code_toggle);\n",
    "</script>\n",
    "<form action=\"javascript:code_toggle()\"><input type=\"submit\" value=\"Click here to toggle on/off the raw code.\"></form>''')"
   ]
  },
  {
   "cell_type": "code",
   "execution_count": 15,
   "metadata": {
    "collapsed": true
   },
   "outputs": [],
   "source": []
  }
 ],
 "metadata": {
  "kernelspec": {
   "display_name": "Python 3",
   "language": "python",
   "name": "python3"
  },
  "language_info": {
   "codemirror_mode": {
    "name": "ipython",
    "version": 3
   },
   "file_extension": ".py",
   "mimetype": "text/x-python",
   "name": "python",
   "nbconvert_exporter": "python",
   "pygments_lexer": "ipython3",
   "version": "3.6.1"
  }
 },
 "nbformat": 4,
 "nbformat_minor": 2
}
