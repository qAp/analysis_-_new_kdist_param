{
 "cells": [
  {
   "cell_type": "code",
   "execution_count": 1,
   "metadata": {},
   "outputs": [
    {
     "name": "stderr",
     "output_type": "stream",
     "text": [
      "/chia_cluster/home/jackyu/anaconda3/lib/python3.6/site-packages/matplotlib/__init__.py:1405: UserWarning: \n",
      "This call to matplotlib.use() has no effect because the backend has already\n",
      "been chosen; matplotlib.use() must be called *before* pylab, matplotlib.pyplot,\n",
      "or matplotlib.backends is imported for the first time.\n",
      "\n",
      "  warnings.warn(_use_error_msg)\n"
     ]
    },
    {
     "data": {
      "text/plain": [
       "<module 'climatools.lblnew.g1_threshold' from '/chia_cluster/home/jackyu/climatools/climatools/lblnew/g1_threshold.py'>"
      ]
     },
     "execution_count": 1,
     "metadata": {},
     "output_type": "execute_result"
    }
   ],
   "source": [
    "%matplotlib inline\n",
    "import os\n",
    "import re\n",
    "import io\n",
    "\n",
    "import matplotlib\n",
    "import numpy as np\n",
    "import pandas as pd\n",
    "import xarray as xr\n",
    "\n",
    "import climatools.html.html as climahtml\n",
    "import climatools.lblnew.g1_threshold as scripts\n",
    "\n",
    "import IPython.display as display\n",
    "\n",
    "import imp\n",
    "imp.reload(scripts)"
   ]
  },
  {
   "cell_type": "code",
   "execution_count": 2,
   "metadata": {
    "collapsed": true
   },
   "outputs": [],
   "source": [
    "%run param.py"
   ]
  },
  {
   "cell_type": "code",
   "execution_count": 3,
   "metadata": {
    "collapsed": true
   },
   "outputs": [
    {
     "name": "stdout",
     "output_type": "stream",
     "text": [
      "The history saving thread hit an unexpected error (OperationalError('database is locked',)).History will not be written to the database.\n"
     ]
    }
   ],
   "source": [
    "NG_REFS = PARAM['ng_refs']\n",
    "P_REFS, T_REFS = zip(*PARAM['ref_pts'])"
   ]
  },
  {
   "cell_type": "code",
   "execution_count": 4,
   "metadata": {
    "collapsed": true
   },
   "outputs": [],
   "source": [
    "# for printing some input parameters\n",
    "\n",
    "def innames():\n",
    "    return ['vstar', 'nband', 'nv', 'dv',\n",
    "            'flgh2o',\n",
    "            'tsfc',\n",
    "            'pressure_reference_1',\n",
    "            'temperature_reference_1', \n",
    "            'pressure_reference_2', \n",
    "            'temperature_reference_2',\n",
    "            'ighigh', \n",
    "            'ng', \n",
    "            'nref',\n",
    "            'p_refs',\n",
    "            't_refs',\n",
    "            'ng_refs',\n",
    "            'ng_adju',\n",
    "            'absth',\n",
    "            'wgt',\n",
    "            'option_wgt_flux',\n",
    "            'option_wgt_k',\n",
    "            'option_klin',\n",
    "            'w_diffuse',\n",
    "            'fac_meank',\n",
    "            'klin',\n",
    "            'option_compute_ktable',\n",
    "            'option_compute_btable',\n",
    "            'conc']\n",
    "\n",
    "\n",
    "\n",
    "def pattern_assign(name):\n",
    "    return ''' \n",
    "    parameter .* :: \\s* &? \\s* ({} \\s* = .* \\n)\n",
    "    '''.format(name)\n",
    "\n",
    "def pattern_data(name):\n",
    "    return '''\n",
    "    (data [^/{name}]+ {name}[^,] [^/{name}]+ / [^/]+ /)\n",
    "    '''.format(name=name)\n",
    "\n",
    "def pattern_atmpro():\n",
    "    return '''\n",
    "    (atmosphere_profiles/.*75_r8.pro)\n",
    "    '''\n",
    "    \n",
    "\n",
    "def get_input_params(code, names):\n",
    "    results = []\n",
    "    for name in names:\n",
    "        regex = re.compile(pattern_assign(name), re.VERBOSE)\n",
    "        results.extend(regex.findall(code))\n",
    "        \n",
    "        regex = re.compile(pattern_data(name), re.VERBOSE)\n",
    "        results.extend(regex.findall(code))\n",
    "        \n",
    "    regex = re.compile(pattern_atmpro(), re.VERBOSE)\n",
    "    results.extend(regex.findall(code))\n",
    "        \n",
    "    results = [result.replace('_r8', '') for result in results]\n",
    "    return results\n"
   ]
  },
  {
   "cell_type": "code",
   "execution_count": 5,
   "metadata": {
    "collapsed": true
   },
   "outputs": [],
   "source": [
    "analysis = scripts.Analysis()"
   ]
  },
  {
   "cell_type": "code",
   "execution_count": 6,
   "metadata": {
    "collapsed": true
   },
   "outputs": [],
   "source": [
    "crd = analysis.model('crd')\n",
    "crd.type_model = 'crd'\n",
    "crd.rundir = DIR_FORTRAN\n",
    "crd.fpath_flux = 'output_fluxg.dat'\n",
    "crd.fpath_coolr = 'output_coolrg.dat'\n",
    "crd.linestyle = '-'\n",
    "crd.color = 'b'\n",
    "crd.marker = None\n",
    "crd.load_data()"
   ]
  },
  {
   "cell_type": "code",
   "execution_count": 7,
   "metadata": {
    "collapsed": true
   },
   "outputs": [],
   "source": [
    "def add_wgt_models():\n",
    "    iggs = [10, 1]\n",
    "    markers = [None, 'x']\n",
    "    colors = ['r', 'c']\n",
    "    linestyle = '-'\n",
    "\n",
    "    df_wfluxg = pd.read_csv(os.path.join(crd.rundir, \n",
    "                                         'output_wfluxg.dat'), \n",
    "                            sep=r'\\s+')\n",
    "\n",
    "    df_wcoolrg = pd.read_csv(os.path.join(crd.rundir, \n",
    "                                          'output_wcoolrg.dat'), \n",
    "                             sep=r'\\s+')\n",
    "\n",
    "    for igg, marker, color in zip(iggs, markers, colors):\n",
    "\n",
    "        flux_igg = df_wfluxg[df_wfluxg['igg'] == igg]\\\n",
    "        .drop('igg', axis=1)\n",
    "        s_flux = io.StringIO(flux_igg.to_csv(sep=' '))\n",
    "\n",
    "        coolr_igg = df_wcoolrg[df_wcoolrg['igg'] == igg]\\\n",
    "        .drop('igg', axis=1)\n",
    "        s_coolr = io.StringIO(coolr_igg.to_csv(sep=' '))\n",
    "\n",
    "        crdx_igg = analysis.model('wgt_igg{}'.format(igg))\n",
    "        crdx_igg.type_model = 'crd'\n",
    "        crdx_igg.rundir = DIR_FORTRAN\n",
    "        crdx_igg.fpath_flux = s_flux\n",
    "        crdx_igg.fpath_coolr = s_coolr\n",
    "        crdx_igg.color = color\n",
    "        crdx_igg.marker = marker\n",
    "        crdx_igg.linestyle = linestyle\n",
    "        crdx_igg.load_data()\n",
    "        \n",
    "add_wgt_models()"
   ]
  },
  {
   "cell_type": "code",
   "execution_count": 8,
   "metadata": {
    "collapsed": true
   },
   "outputs": [],
   "source": [
    "def add_ktable_models():\n",
    "    iggs = [10]\n",
    "    markers = ['D',]\n",
    "    color = 'g'\n",
    "    linestyle = ':'\n",
    "\n",
    "    df_wwfluxg = pd.read_csv(os.path.join(crd.rundir, \n",
    "                                          'output_wwfluxg.dat'), \n",
    "                             sep=r'\\s+')\n",
    "\n",
    "    df_wwcoolrg = pd.read_csv(os.path.join(crd.rundir, \n",
    "                                           'output_wwcoolrg.dat'), \n",
    "                              sep=r'\\s+')\n",
    "\n",
    "    for igg, marker in zip(iggs, markers):\n",
    "\n",
    "        flux_igg = df_wwfluxg[df_wwfluxg['igg'] == igg]\\\n",
    "        .drop('igg', axis=1)\n",
    "        s_flux = io.StringIO(flux_igg.to_csv(sep=' '))\n",
    "\n",
    "        coolr_igg = df_wwcoolrg[df_wwcoolrg['igg'] == igg]\\\n",
    "        .drop('igg', axis=1)\n",
    "        s_coolr = io.StringIO(coolr_igg.to_csv(sep=' '))\n",
    "\n",
    "        crdxx_igg = analysis.model('ktable_igg{}'.format(igg))\n",
    "        crdxx_igg.type_model = 'crd'\n",
    "        crdxx_igg.rundir = DIR_FORTRAN\n",
    "        crdxx_igg.fpath_flux = s_flux\n",
    "        crdxx_igg.fpath_coolr = s_coolr\n",
    "        crdxx_igg.color = color\n",
    "        crdxx_igg.marker = marker\n",
    "        crdxx_igg.linestyle = linestyle\n",
    "        crdxx_igg.load_data()\n",
    "        \n",
    "        "
   ]
  },
  {
   "cell_type": "code",
   "execution_count": 9,
   "metadata": {
    "collapsed": true
   },
   "outputs": [],
   "source": [
    "fig = analysis.fig_fluxcoolr('fig1', vartypes=['cooling rate'])\n",
    "fig.ggroups = list(crd.data['dgdgs'].coords['g'].values) #list(range(1, 8 + 1))\n",
    "fig.vars_plot['flux'] = ['flug', 'fnetg']\n",
    "fig.vars_plot['cooling rate'] = ['coolrg']\n",
    "fig.colors['flug'] = 'darkred'\n",
    "fig.colors['fnetg'] = 'lightcoral'\n",
    "fig.colors['coolrg'] = 'blue'\n",
    "fig.varlims_from_indexrange['linear'] = (50, 1050)\n",
    "fig.varlims_from_indexrange['log'] = (1e-2, 200)\n",
    "\n",
    "fig.set_pressure_displayrange(low=1e-2)"
   ]
  },
  {
   "cell_type": "code",
   "execution_count": 10,
   "metadata": {
    "collapsed": true
   },
   "outputs": [],
   "source": [
    "table_fluxg = analysis.table('table_fluxg')\n",
    "table_fluxg.sumg = False\n",
    "table_fluxg.vartype = 'flux'\n",
    "table_fluxg.at_pressures = crd.data['flux']\\\n",
    "                             .coords['pressure']\\\n",
    "                             .isel(pressure=[0, -1])\n",
    "\n",
    "table_coolrg = analysis.table('table_coolrg')\n",
    "table_coolrg.vartype = 'cooling rate'\n",
    "table_coolrg.sumg = False\n",
    "table_coolrg.at_pressures = crd.data['cooling rate']\\\n",
    "                               .coords['pressure']\\\n",
    "                               .isel(pressure=[0, -1])\n"
   ]
  },
  {
   "cell_type": "code",
   "execution_count": 11,
   "metadata": {
    "collapsed": true
   },
   "outputs": [],
   "source": [
    "table_flux = analysis.table('table_flux')\n",
    "table_flux.sumg = True\n",
    "table_flux.vartype = 'flux'\n",
    "table_flux.at_pressures = crd.data['flux']\\\n",
    "                             .coords['pressure']\\\n",
    "                             .isel(pressure=[0, -1])\n",
    "\n",
    "table_coolr = analysis.table('table_coolr')\n",
    "table_coolr.vartype = 'cooling rate'\n",
    "table_coolr.sumg = True\n",
    "table_coolr.at_pressures = crd.data['cooling rate']\\\n",
    "                              .coords['pressure']\\\n",
    "                              .isel(pressure=[0, -1])"
   ]
  },
  {
   "cell_type": "code",
   "execution_count": 12,
   "metadata": {
    "collapsed": true
   },
   "outputs": [],
   "source": [
    "table_dgdgs = analysis.table('dgdgs')\n",
    "table_dgdgs.vartype = 'dgdgs'\n",
    "table_dgdgs.sumg = False"
   ]
  },
  {
   "cell_type": "code",
   "execution_count": 13,
   "metadata": {
    "collapsed": true
   },
   "outputs": [
    {
     "name": "stdout",
     "output_type": "stream",
     "text": [
      "atmpro = trp\n",
      "band = 4\n",
      "commitnumber = a22ab94\n",
      "conc = 0.0008\n",
      "dv = 0.001\n",
      "klin = 6.5e-24\n",
      "molecule = co2\n",
      "ng_adju = [0, 0]\n",
      "ng_refs = [1, 2]\n",
      "nv = 1000\n",
      "option_compute_btable = 0\n",
      "option_compute_ktable = 0\n",
      "option_wgt_flux = 1\n",
      "option_wgt_k = 1\n",
      "ref_pts = [(1, 250), (500, 250)]\n",
      "tsfc = 300\n",
      "vmax = 980\n",
      "vmin = 800\n",
      "w_diffuse = [(1.75,), (1.66, 1.9)]\n",
      "wgt = [(0.75,), (0.75, 0.95)]\n"
     ]
    }
   ],
   "source": [
    "for name, value in sorted(PARAM.items()):\n",
    "    print('{} = {}'.format(name, value))"
   ]
  },
  {
   "cell_type": "code",
   "execution_count": 14,
   "metadata": {},
   "outputs": [
    {
     "data": {
      "text/html": [
       "<a href=\"#Figure:_cooling_rate_g-group_1\">Figure: cooling rate g-group 1</a>"
      ],
      "text/plain": [
       "<IPython.core.display.HTML object>"
      ]
     },
     "metadata": {},
     "output_type": "display_data"
    },
    {
     "data": {
      "text/html": [
       "<a href=\"#Figure:_cooling_rate_g-group_2\">Figure: cooling rate g-group 2</a>"
      ],
      "text/plain": [
       "<IPython.core.display.HTML object>"
      ]
     },
     "metadata": {},
     "output_type": "display_data"
    },
    {
     "data": {
      "text/html": [
       "<a href=\"#Figure:_cooling_rate_g-group_3\">Figure: cooling rate g-group 3</a>"
      ],
      "text/plain": [
       "<IPython.core.display.HTML object>"
      ]
     },
     "metadata": {},
     "output_type": "display_data"
    },
    {
     "data": {
      "text/html": [
       "<a href=\"#Figure:_cooling_rate_g-group_total\">Figure: cooling rate g-group total</a>"
      ],
      "text/plain": [
       "<IPython.core.display.HTML object>"
      ]
     },
     "metadata": {},
     "output_type": "display_data"
    }
   ],
   "source": [
    "fig.display_hrefanchor()"
   ]
  },
  {
   "cell_type": "code",
   "execution_count": 15,
   "metadata": {},
   "outputs": [
    {
     "data": {
      "text/html": [
       "<a href=\"#Table:_flux._g-groups\">Table: flux. g-groups </a>"
      ],
      "text/plain": [
       "<IPython.core.display.HTML object>"
      ]
     },
     "metadata": {},
     "output_type": "display_data"
    },
    {
     "data": {
      "text/html": [
       "<a href=\"#Table:_cooling_rate._g-groups\">Table: cooling rate. g-groups </a>"
      ],
      "text/plain": [
       "<IPython.core.display.HTML object>"
      ]
     },
     "metadata": {},
     "output_type": "display_data"
    },
    {
     "data": {
      "text/html": [
       "<a href=\"#Table:_flux._g-groups_total\">Table: flux. g-groups total</a>"
      ],
      "text/plain": [
       "<IPython.core.display.HTML object>"
      ]
     },
     "metadata": {},
     "output_type": "display_data"
    },
    {
     "data": {
      "text/html": [
       "<a href=\"#Table:_cooling_rate._g-groups_total\">Table: cooling rate. g-groups total</a>"
      ],
      "text/plain": [
       "<IPython.core.display.HTML object>"
      ]
     },
     "metadata": {},
     "output_type": "display_data"
    }
   ],
   "source": [
    "table_fluxg.display_hrefanchor()\n",
    "table_coolrg.display_hrefanchor()\n",
    "\n",
    "table_flux.display_hrefanchor()\n",
    "table_coolr.display_hrefanchor()"
   ]
  },
  {
   "cell_type": "code",
   "execution_count": 16,
   "metadata": {},
   "outputs": [
    {
     "data": {
      "text/html": [
       "<a href=\"#Table:_dgdgs._g-groups\">Table: dgdgs. g-groups </a>"
      ],
      "text/plain": [
       "<IPython.core.display.HTML object>"
      ]
     },
     "metadata": {},
     "output_type": "display_data"
    }
   ],
   "source": [
    "table_dgdgs.display_hrefanchor()"
   ]
  },
  {
   "cell_type": "code",
   "execution_count": 17,
   "metadata": {},
   "outputs": [
    {
     "data": {
      "text/html": [
       "<a href=\"#Overall_absth\">Overall absth</a>"
      ],
      "text/plain": [
       "<IPython.core.display.HTML object>"
      ]
     },
     "execution_count": 17,
     "metadata": {},
     "output_type": "execute_result"
    }
   ],
   "source": [
    "s_abscom = 'Overall absth'\n",
    "display.HTML(climahtml.getHTML_hrefanchor(s_abscom))"
   ]
  },
  {
   "cell_type": "code",
   "execution_count": 18,
   "metadata": {},
   "outputs": [
    {
     "data": {
      "text/html": [
       "<a href=\"#g-group_summary\">g-group summary</a>"
      ],
      "text/plain": [
       "<IPython.core.display.HTML object>"
      ]
     },
     "execution_count": 18,
     "metadata": {},
     "output_type": "execute_result"
    }
   ],
   "source": [
    "s_ggroup_summary = 'g-group summary'\n",
    "display.HTML(climahtml.getHTML_hrefanchor(s_ggroup_summary))"
   ]
  },
  {
   "cell_type": "code",
   "execution_count": 19,
   "metadata": {
    "collapsed": true
   },
   "outputs": [],
   "source": [
    "#for g in range(1, 20 + 1):\n",
    "#    s = 'Table: cooling rate. g-group {}'.format(g)\n",
    "#    html = climahtml.getHTML_hrefanchor(s)\n",
    "#    display.display(display.HTML(html))"
   ]
  },
  {
   "cell_type": "code",
   "execution_count": 20,
   "metadata": {
    "scrolled": false
   },
   "outputs": [
    {
     "data": {
      "text/html": [
       "<a id=\"Figure:_cooling_rate_g-group_1\"></a>"
      ],
      "text/plain": [
       "<IPython.core.display.HTML object>"
      ]
     },
     "metadata": {},
     "output_type": "display_data"
    },
    {
     "data": {
      "text/markdown": [
       "# Figure: cooling rate g-group 1"
      ],
      "text/plain": [
       "<IPython.core.display.Markdown object>"
      ]
     },
     "metadata": {},
     "output_type": "display_data"
    },
    {
     "data": {
      "image/png": "[encoded data removed]",
      "text/plain": [
       "<matplotlib.figure.Figure at 0x2affec6e77f0>"
      ]
     },
     "metadata": {},
     "output_type": "display_data"
    },
    {
     "data": {
      "text/html": [
       "<a id=\"Figure:_cooling_rate_g-group_2\"></a>"
      ],
      "text/plain": [
       "<IPython.core.display.HTML object>"
      ]
     },
     "metadata": {},
     "output_type": "display_data"
    },
    {
     "data": {
      "text/markdown": [
       "# Figure: cooling rate g-group 2"
      ],
      "text/plain": [
       "<IPython.core.display.Markdown object>"
      ]
     },
     "metadata": {},
     "output_type": "display_data"
    },
    {
     "data": {
      "image/png": "[encoded data removed]",
      "text/plain": [
       "<matplotlib.figure.Figure at 0x2affef955208>"
      ]
     },
     "metadata": {},
     "output_type": "display_data"
    },
    {
     "data": {
      "text/html": [
       "<a id=\"Figure:_cooling_rate_g-group_3\"></a>"
      ],
      "text/plain": [
       "<IPython.core.display.HTML object>"
      ]
     },
     "metadata": {},
     "output_type": "display_data"
    },
    {
     "data": {
      "text/markdown": [
       "# Figure: cooling rate g-group 3"
      ],
      "text/plain": [
       "<IPython.core.display.Markdown object>"
      ]
     },
     "metadata": {},
     "output_type": "display_data"
    },
    {
     "data": {
      "image/png": "[encoded data removed]",
      "text/plain": [
       "<matplotlib.figure.Figure at 0x2affeee4bd68>"
      ]
     },
     "metadata": {},
     "output_type": "display_data"
    },
    {
     "data": {
      "text/html": [
       "<a id=\"Figure:_cooling_rate_g-group_total\"></a>"
      ],
      "text/plain": [
       "<IPython.core.display.HTML object>"
      ]
     },
     "metadata": {},
     "output_type": "display_data"
    },
    {
     "data": {
      "text/markdown": [
       "# Figure: cooling rate g-group total"
      ],
      "text/plain": [
       "<IPython.core.display.Markdown object>"
      ]
     },
     "metadata": {},
     "output_type": "display_data"
    },
    {
     "data": {
      "image/png": "[encoded data removed]",
      "text/plain": [
       "<matplotlib.figure.Figure at 0x2afff83baac8>"
      ]
     },
     "metadata": {},
     "output_type": "display_data"
    }
   ],
   "source": [
    "matplotlib.rcParams.update({'font.size': 13,\n",
    "                            'grid.color': 'black',\n",
    "                            'axes.facecolor': 'white',\n",
    "                            'axes.edgecolor': 'black',\n",
    "                            'ytick.direction': 'out',\n",
    "                            'ytick.major.size': 6, 'ytick.major.width': 1,\n",
    "                            'ytick.minor.size': 3, 'ytick.minor.width': 1,\n",
    "                            'xtick.direction': 'out',\n",
    "                            'xtick.major.size': 6, 'xtick.major.size': 1,\n",
    "                            'xtick.minor.size': 3, 'xtick.minor.size': 1}) \n",
    "\n",
    "fig.plot(analysis)\n"
   ]
  },
  {
   "cell_type": "code",
   "execution_count": 21,
   "metadata": {
    "scrolled": false
   },
   "outputs": [
    {
     "data": {
      "text/html": [
       "<a id=\"Table:_flux._g-groups\"></a>"
      ],
      "text/plain": [
       "<IPython.core.display.HTML object>"
      ]
     },
     "metadata": {},
     "output_type": "display_data"
    },
    {
     "data": {
      "text/markdown": [
       "# Table: flux. g-groups "
      ],
      "text/plain": [
       "<IPython.core.display.Markdown object>"
      ]
     },
     "metadata": {},
     "output_type": "display_data"
    },
    {
     "name": "stdout",
     "output_type": "stream",
     "text": [
      "\n",
      "CRD\n"
     ]
    },
    {
     "data": {
      "text/html": [
       "<div>\n",
       "<style scoped>\n",
       "    .dataframe tbody tr th:only-of-type {\n",
       "        vertical-align: middle;\n",
       "    }\n",
       "\n",
       "    .dataframe tbody tr th {\n",
       "        vertical-align: top;\n",
       "    }\n",
       "\n",
       "    .dataframe thead th {\n",
       "        text-align: right;\n",
       "    }\n",
       "</style>\n",
       "<table border=\"1\" class=\"dataframe\">\n",
       "  <thead>\n",
       "    <tr style=\"text-align: right;\">\n",
       "      <th></th>\n",
       "      <th></th>\n",
       "      <th></th>\n",
       "      <th>flug</th>\n",
       "      <th>fldg</th>\n",
       "      <th>fnetg</th>\n",
       "    </tr>\n",
       "    <tr>\n",
       "      <th>g</th>\n",
       "      <th>pressure</th>\n",
       "      <th>level</th>\n",
       "      <th></th>\n",
       "      <th></th>\n",
       "      <th></th>\n",
       "    </tr>\n",
       "  </thead>\n",
       "  <tbody>\n",
       "    <tr>\n",
       "      <th rowspan=\"2\" valign=\"top\">1</th>\n",
       "      <th>0.0</th>\n",
       "      <th>1</th>\n",
       "      <td>-0.086553</td>\n",
       "      <td>0.000000</td>\n",
       "      <td>-0.086553</td>\n",
       "    </tr>\n",
       "    <tr>\n",
       "      <th>1013.0</th>\n",
       "      <th>76</th>\n",
       "      <td>-0.145648</td>\n",
       "      <td>0.081492</td>\n",
       "      <td>-0.064156</td>\n",
       "    </tr>\n",
       "    <tr>\n",
       "      <th rowspan=\"2\" valign=\"top\">2</th>\n",
       "      <th>0.0</th>\n",
       "      <th>1</th>\n",
       "      <td>-2.195348</td>\n",
       "      <td>0.000000</td>\n",
       "      <td>-2.195348</td>\n",
       "    </tr>\n",
       "    <tr>\n",
       "      <th>1013.0</th>\n",
       "      <th>76</th>\n",
       "      <td>-2.665690</td>\n",
       "      <td>1.069909</td>\n",
       "      <td>-1.595781</td>\n",
       "    </tr>\n",
       "    <tr>\n",
       "      <th rowspan=\"2\" valign=\"top\">3</th>\n",
       "      <th>0.0</th>\n",
       "      <th>1</th>\n",
       "      <td>-64.153279</td>\n",
       "      <td>0.000000</td>\n",
       "      <td>-64.153279</td>\n",
       "    </tr>\n",
       "    <tr>\n",
       "      <th>1013.0</th>\n",
       "      <th>76</th>\n",
       "      <td>-64.538112</td>\n",
       "      <td>1.379936</td>\n",
       "      <td>-63.158176</td>\n",
       "    </tr>\n",
       "  </tbody>\n",
       "</table>\n",
       "</div>"
      ],
      "text/plain": [
       "                       flug      fldg      fnetg\n",
       "g pressure level                                \n",
       "1 0.0      1      -0.086553  0.000000  -0.086553\n",
       "  1013.0   76     -0.145648  0.081492  -0.064156\n",
       "2 0.0      1      -2.195348  0.000000  -2.195348\n",
       "  1013.0   76     -2.665690  1.069909  -1.595781\n",
       "3 0.0      1     -64.153279  0.000000 -64.153279\n",
       "  1013.0   76    -64.538112  1.379936 -63.158176"
      ]
     },
     "metadata": {},
     "output_type": "display_data"
    },
    {
     "name": "stdout",
     "output_type": "stream",
     "text": [
      "\n",
      "WGT_IGG10\n"
     ]
    },
    {
     "data": {
      "text/html": [
       "<div>\n",
       "<style scoped>\n",
       "    .dataframe tbody tr th:only-of-type {\n",
       "        vertical-align: middle;\n",
       "    }\n",
       "\n",
       "    .dataframe tbody tr th {\n",
       "        vertical-align: top;\n",
       "    }\n",
       "\n",
       "    .dataframe thead th {\n",
       "        text-align: right;\n",
       "    }\n",
       "</style>\n",
       "<table border=\"1\" class=\"dataframe\">\n",
       "  <thead>\n",
       "    <tr style=\"text-align: right;\">\n",
       "      <th></th>\n",
       "      <th></th>\n",
       "      <th></th>\n",
       "      <th>flug</th>\n",
       "      <th>fldg</th>\n",
       "      <th>fnetg</th>\n",
       "    </tr>\n",
       "    <tr>\n",
       "      <th>g</th>\n",
       "      <th>pressure</th>\n",
       "      <th>level</th>\n",
       "      <th></th>\n",
       "      <th></th>\n",
       "      <th></th>\n",
       "    </tr>\n",
       "  </thead>\n",
       "  <tbody>\n",
       "    <tr>\n",
       "      <th rowspan=\"2\" valign=\"top\">1</th>\n",
       "      <th>0.0</th>\n",
       "      <th>1</th>\n",
       "      <td>-0.084038</td>\n",
       "      <td>0.000000</td>\n",
       "      <td>-0.084038</td>\n",
       "    </tr>\n",
       "    <tr>\n",
       "      <th>1013.0</th>\n",
       "      <th>76</th>\n",
       "      <td>-0.142798</td>\n",
       "      <td>0.082524</td>\n",
       "      <td>-0.060274</td>\n",
       "    </tr>\n",
       "    <tr>\n",
       "      <th rowspan=\"2\" valign=\"top\">2</th>\n",
       "      <th>0.0</th>\n",
       "      <th>1</th>\n",
       "      <td>-2.175108</td>\n",
       "      <td>0.000000</td>\n",
       "      <td>-2.175108</td>\n",
       "    </tr>\n",
       "    <tr>\n",
       "      <th>1013.0</th>\n",
       "      <th>76</th>\n",
       "      <td>-2.604462</td>\n",
       "      <td>1.034200</td>\n",
       "      <td>-1.570261</td>\n",
       "    </tr>\n",
       "    <tr>\n",
       "      <th rowspan=\"2\" valign=\"top\">3</th>\n",
       "      <th>0.0</th>\n",
       "      <th>1</th>\n",
       "      <td>-64.239538</td>\n",
       "      <td>0.000000</td>\n",
       "      <td>-64.239538</td>\n",
       "    </tr>\n",
       "    <tr>\n",
       "      <th>1013.0</th>\n",
       "      <th>76</th>\n",
       "      <td>-64.602190</td>\n",
       "      <td>1.365207</td>\n",
       "      <td>-63.236984</td>\n",
       "    </tr>\n",
       "  </tbody>\n",
       "</table>\n",
       "</div>"
      ],
      "text/plain": [
       "                       flug      fldg      fnetg\n",
       "g pressure level                                \n",
       "1 0.0      1      -0.084038  0.000000  -0.084038\n",
       "  1013.0   76     -0.142798  0.082524  -0.060274\n",
       "2 0.0      1      -2.175108  0.000000  -2.175108\n",
       "  1013.0   76     -2.604462  1.034200  -1.570261\n",
       "3 0.0      1     -64.239538  0.000000 -64.239538\n",
       "  1013.0   76    -64.602190  1.365207 -63.236984"
      ]
     },
     "metadata": {},
     "output_type": "display_data"
    },
    {
     "name": "stdout",
     "output_type": "stream",
     "text": [
      "\n",
      "WGT_IGG1\n"
     ]
    },
    {
     "data": {
      "text/html": [
       "<div>\n",
       "<style scoped>\n",
       "    .dataframe tbody tr th:only-of-type {\n",
       "        vertical-align: middle;\n",
       "    }\n",
       "\n",
       "    .dataframe tbody tr th {\n",
       "        vertical-align: top;\n",
       "    }\n",
       "\n",
       "    .dataframe thead th {\n",
       "        text-align: right;\n",
       "    }\n",
       "</style>\n",
       "<table border=\"1\" class=\"dataframe\">\n",
       "  <thead>\n",
       "    <tr style=\"text-align: right;\">\n",
       "      <th></th>\n",
       "      <th></th>\n",
       "      <th></th>\n",
       "      <th>flug</th>\n",
       "      <th>fldg</th>\n",
       "      <th>fnetg</th>\n",
       "    </tr>\n",
       "    <tr>\n",
       "      <th>g</th>\n",
       "      <th>pressure</th>\n",
       "      <th>level</th>\n",
       "      <th></th>\n",
       "      <th></th>\n",
       "      <th></th>\n",
       "    </tr>\n",
       "  </thead>\n",
       "  <tbody>\n",
       "    <tr>\n",
       "      <th rowspan=\"2\" valign=\"top\">1</th>\n",
       "      <th>0.0</th>\n",
       "      <th>1</th>\n",
       "      <td>-0.086910</td>\n",
       "      <td>0.000000</td>\n",
       "      <td>-0.086910</td>\n",
       "    </tr>\n",
       "    <tr>\n",
       "      <th>1013.0</th>\n",
       "      <th>76</th>\n",
       "      <td>-0.142798</td>\n",
       "      <td>0.078770</td>\n",
       "      <td>-0.064029</td>\n",
       "    </tr>\n",
       "    <tr>\n",
       "      <th rowspan=\"2\" valign=\"top\">2</th>\n",
       "      <th>0.0</th>\n",
       "      <th>1</th>\n",
       "      <td>-2.155227</td>\n",
       "      <td>0.000000</td>\n",
       "      <td>-2.155227</td>\n",
       "    </tr>\n",
       "    <tr>\n",
       "      <th>1013.0</th>\n",
       "      <th>76</th>\n",
       "      <td>-2.604462</td>\n",
       "      <td>1.044973</td>\n",
       "      <td>-1.559488</td>\n",
       "    </tr>\n",
       "    <tr>\n",
       "      <th rowspan=\"2\" valign=\"top\">3</th>\n",
       "      <th>0.0</th>\n",
       "      <th>1</th>\n",
       "      <td>-64.226290</td>\n",
       "      <td>0.000000</td>\n",
       "      <td>-64.226290</td>\n",
       "    </tr>\n",
       "    <tr>\n",
       "      <th>1013.0</th>\n",
       "      <th>76</th>\n",
       "      <td>-64.602190</td>\n",
       "      <td>1.405904</td>\n",
       "      <td>-63.196286</td>\n",
       "    </tr>\n",
       "  </tbody>\n",
       "</table>\n",
       "</div>"
      ],
      "text/plain": [
       "                       flug      fldg      fnetg\n",
       "g pressure level                                \n",
       "1 0.0      1      -0.086910  0.000000  -0.086910\n",
       "  1013.0   76     -0.142798  0.078770  -0.064029\n",
       "2 0.0      1      -2.155227  0.000000  -2.155227\n",
       "  1013.0   76     -2.604462  1.044973  -1.559488\n",
       "3 0.0      1     -64.226290  0.000000 -64.226290\n",
       "  1013.0   76    -64.602190  1.405904 -63.196286"
      ]
     },
     "metadata": {},
     "output_type": "display_data"
    },
    {
     "name": "stdout",
     "output_type": "stream",
     "text": [
      "\n",
      "WGT_IGG10 - CRD\n"
     ]
    },
    {
     "data": {
      "text/html": [
       "<div>\n",
       "<style scoped>\n",
       "    .dataframe tbody tr th:only-of-type {\n",
       "        vertical-align: middle;\n",
       "    }\n",
       "\n",
       "    .dataframe tbody tr th {\n",
       "        vertical-align: top;\n",
       "    }\n",
       "\n",
       "    .dataframe thead th {\n",
       "        text-align: right;\n",
       "    }\n",
       "</style>\n",
       "<table border=\"1\" class=\"dataframe\">\n",
       "  <thead>\n",
       "    <tr style=\"text-align: right;\">\n",
       "      <th></th>\n",
       "      <th></th>\n",
       "      <th></th>\n",
       "      <th>flug</th>\n",
       "      <th>fldg</th>\n",
       "      <th>fnetg</th>\n",
       "    </tr>\n",
       "    <tr>\n",
       "      <th>g</th>\n",
       "      <th>pressure</th>\n",
       "      <th>level</th>\n",
       "      <th></th>\n",
       "      <th></th>\n",
       "      <th></th>\n",
       "    </tr>\n",
       "  </thead>\n",
       "  <tbody>\n",
       "    <tr>\n",
       "      <th rowspan=\"2\" valign=\"top\">1</th>\n",
       "      <th>0.0</th>\n",
       "      <th>1</th>\n",
       "      <td>0.002515</td>\n",
       "      <td>0.000000</td>\n",
       "      <td>0.002515</td>\n",
       "    </tr>\n",
       "    <tr>\n",
       "      <th>1013.0</th>\n",
       "      <th>76</th>\n",
       "      <td>0.002850</td>\n",
       "      <td>0.001032</td>\n",
       "      <td>0.003882</td>\n",
       "    </tr>\n",
       "    <tr>\n",
       "      <th rowspan=\"2\" valign=\"top\">2</th>\n",
       "      <th>0.0</th>\n",
       "      <th>1</th>\n",
       "      <td>0.020240</td>\n",
       "      <td>0.000000</td>\n",
       "      <td>0.020240</td>\n",
       "    </tr>\n",
       "    <tr>\n",
       "      <th>1013.0</th>\n",
       "      <th>76</th>\n",
       "      <td>0.061229</td>\n",
       "      <td>-0.035709</td>\n",
       "      <td>0.025520</td>\n",
       "    </tr>\n",
       "    <tr>\n",
       "      <th rowspan=\"2\" valign=\"top\">3</th>\n",
       "      <th>0.0</th>\n",
       "      <th>1</th>\n",
       "      <td>-0.086259</td>\n",
       "      <td>0.000000</td>\n",
       "      <td>-0.086259</td>\n",
       "    </tr>\n",
       "    <tr>\n",
       "      <th>1013.0</th>\n",
       "      <th>76</th>\n",
       "      <td>-0.064078</td>\n",
       "      <td>-0.014729</td>\n",
       "      <td>-0.078808</td>\n",
       "    </tr>\n",
       "  </tbody>\n",
       "</table>\n",
       "</div>"
      ],
      "text/plain": [
       "                      flug      fldg     fnetg\n",
       "g pressure level                              \n",
       "1 0.0      1      0.002515  0.000000  0.002515\n",
       "  1013.0   76     0.002850  0.001032  0.003882\n",
       "2 0.0      1      0.020240  0.000000  0.020240\n",
       "  1013.0   76     0.061229 -0.035709  0.025520\n",
       "3 0.0      1     -0.086259  0.000000 -0.086259\n",
       "  1013.0   76    -0.064078 -0.014729 -0.078808"
      ]
     },
     "metadata": {},
     "output_type": "display_data"
    },
    {
     "name": "stdout",
     "output_type": "stream",
     "text": [
      "\n",
      "WGT_IGG1 - CRD\n"
     ]
    },
    {
     "data": {
      "text/html": [
       "<div>\n",
       "<style scoped>\n",
       "    .dataframe tbody tr th:only-of-type {\n",
       "        vertical-align: middle;\n",
       "    }\n",
       "\n",
       "    .dataframe tbody tr th {\n",
       "        vertical-align: top;\n",
       "    }\n",
       "\n",
       "    .dataframe thead th {\n",
       "        text-align: right;\n",
       "    }\n",
       "</style>\n",
       "<table border=\"1\" class=\"dataframe\">\n",
       "  <thead>\n",
       "    <tr style=\"text-align: right;\">\n",
       "      <th></th>\n",
       "      <th></th>\n",
       "      <th></th>\n",
       "      <th>flug</th>\n",
       "      <th>fldg</th>\n",
       "      <th>fnetg</th>\n",
       "    </tr>\n",
       "    <tr>\n",
       "      <th>g</th>\n",
       "      <th>pressure</th>\n",
       "      <th>level</th>\n",
       "      <th></th>\n",
       "      <th></th>\n",
       "      <th></th>\n",
       "    </tr>\n",
       "  </thead>\n",
       "  <tbody>\n",
       "    <tr>\n",
       "      <th rowspan=\"2\" valign=\"top\">1</th>\n",
       "      <th>0.0</th>\n",
       "      <th>1</th>\n",
       "      <td>-0.000357</td>\n",
       "      <td>0.000000</td>\n",
       "      <td>-0.000357</td>\n",
       "    </tr>\n",
       "    <tr>\n",
       "      <th>1013.0</th>\n",
       "      <th>76</th>\n",
       "      <td>0.002850</td>\n",
       "      <td>-0.002722</td>\n",
       "      <td>0.000128</td>\n",
       "    </tr>\n",
       "    <tr>\n",
       "      <th rowspan=\"2\" valign=\"top\">2</th>\n",
       "      <th>0.0</th>\n",
       "      <th>1</th>\n",
       "      <td>0.040120</td>\n",
       "      <td>0.000000</td>\n",
       "      <td>0.040120</td>\n",
       "    </tr>\n",
       "    <tr>\n",
       "      <th>1013.0</th>\n",
       "      <th>76</th>\n",
       "      <td>0.061229</td>\n",
       "      <td>-0.024935</td>\n",
       "      <td>0.036293</td>\n",
       "    </tr>\n",
       "    <tr>\n",
       "      <th rowspan=\"2\" valign=\"top\">3</th>\n",
       "      <th>0.0</th>\n",
       "      <th>1</th>\n",
       "      <td>-0.073011</td>\n",
       "      <td>0.000000</td>\n",
       "      <td>-0.073011</td>\n",
       "    </tr>\n",
       "    <tr>\n",
       "      <th>1013.0</th>\n",
       "      <th>76</th>\n",
       "      <td>-0.064078</td>\n",
       "      <td>0.025969</td>\n",
       "      <td>-0.038110</td>\n",
       "    </tr>\n",
       "  </tbody>\n",
       "</table>\n",
       "</div>"
      ],
      "text/plain": [
       "                      flug      fldg     fnetg\n",
       "g pressure level                              \n",
       "1 0.0      1     -0.000357  0.000000 -0.000357\n",
       "  1013.0   76     0.002850 -0.002722  0.000128\n",
       "2 0.0      1      0.040120  0.000000  0.040120\n",
       "  1013.0   76     0.061229 -0.024935  0.036293\n",
       "3 0.0      1     -0.073011  0.000000 -0.073011\n",
       "  1013.0   76    -0.064078  0.025969 -0.038110"
      ]
     },
     "metadata": {},
     "output_type": "display_data"
    },
    {
     "data": {
      "text/html": [
       "<a id=\"Table:_cooling_rate._g-groups\"></a>"
      ],
      "text/plain": [
       "<IPython.core.display.HTML object>"
      ]
     },
     "metadata": {},
     "output_type": "display_data"
    },
    {
     "data": {
      "text/markdown": [
       "# Table: cooling rate. g-groups "
      ],
      "text/plain": [
       "<IPython.core.display.Markdown object>"
      ]
     },
     "metadata": {},
     "output_type": "display_data"
    },
    {
     "name": "stdout",
     "output_type": "stream",
     "text": [
      "\n",
      "CRD\n"
     ]
    },
    {
     "data": {
      "text/html": [
       "<div>\n",
       "<style scoped>\n",
       "    .dataframe tbody tr th:only-of-type {\n",
       "        vertical-align: middle;\n",
       "    }\n",
       "\n",
       "    .dataframe tbody tr th {\n",
       "        vertical-align: top;\n",
       "    }\n",
       "\n",
       "    .dataframe thead th {\n",
       "        text-align: right;\n",
       "    }\n",
       "</style>\n",
       "<table border=\"1\" class=\"dataframe\">\n",
       "  <thead>\n",
       "    <tr style=\"text-align: right;\">\n",
       "      <th></th>\n",
       "      <th></th>\n",
       "      <th></th>\n",
       "      <th>coolrg</th>\n",
       "    </tr>\n",
       "    <tr>\n",
       "      <th>g</th>\n",
       "      <th>pressure</th>\n",
       "      <th>layer</th>\n",
       "      <th></th>\n",
       "    </tr>\n",
       "  </thead>\n",
       "  <tbody>\n",
       "    <tr>\n",
       "      <th rowspan=\"2\" valign=\"top\">1</th>\n",
       "      <th>0.000312</th>\n",
       "      <th>1</th>\n",
       "      <td>-0.001001</td>\n",
       "    </tr>\n",
       "    <tr>\n",
       "      <th>1001.112500</th>\n",
       "      <th>75</th>\n",
       "      <td>0.000903</td>\n",
       "    </tr>\n",
       "    <tr>\n",
       "      <th rowspan=\"2\" valign=\"top\">2</th>\n",
       "      <th>0.000312</th>\n",
       "      <th>1</th>\n",
       "      <td>-0.000003</td>\n",
       "    </tr>\n",
       "    <tr>\n",
       "      <th>1001.112500</th>\n",
       "      <th>75</th>\n",
       "      <td>0.017294</td>\n",
       "    </tr>\n",
       "    <tr>\n",
       "      <th rowspan=\"2\" valign=\"top\">3</th>\n",
       "      <th>0.000312</th>\n",
       "      <th>1</th>\n",
       "      <td>-0.000169</td>\n",
       "    </tr>\n",
       "    <tr>\n",
       "      <th>1001.112500</th>\n",
       "      <th>75</th>\n",
       "      <td>0.037122</td>\n",
       "    </tr>\n",
       "  </tbody>\n",
       "</table>\n",
       "</div>"
      ],
      "text/plain": [
       "                       coolrg\n",
       "g pressure    layer          \n",
       "1 0.000312    1     -0.001001\n",
       "  1001.112500 75     0.000903\n",
       "2 0.000312    1     -0.000003\n",
       "  1001.112500 75     0.017294\n",
       "3 0.000312    1     -0.000169\n",
       "  1001.112500 75     0.037122"
      ]
     },
     "metadata": {},
     "output_type": "display_data"
    },
    {
     "name": "stdout",
     "output_type": "stream",
     "text": [
      "\n",
      "WGT_IGG10\n"
     ]
    },
    {
     "data": {
      "text/html": [
       "<div>\n",
       "<style scoped>\n",
       "    .dataframe tbody tr th:only-of-type {\n",
       "        vertical-align: middle;\n",
       "    }\n",
       "\n",
       "    .dataframe tbody tr th {\n",
       "        vertical-align: top;\n",
       "    }\n",
       "\n",
       "    .dataframe thead th {\n",
       "        text-align: right;\n",
       "    }\n",
       "</style>\n",
       "<table border=\"1\" class=\"dataframe\">\n",
       "  <thead>\n",
       "    <tr style=\"text-align: right;\">\n",
       "      <th></th>\n",
       "      <th></th>\n",
       "      <th></th>\n",
       "      <th>coolrg</th>\n",
       "    </tr>\n",
       "    <tr>\n",
       "      <th>g</th>\n",
       "      <th>pressure</th>\n",
       "      <th>layer</th>\n",
       "      <th></th>\n",
       "    </tr>\n",
       "  </thead>\n",
       "  <tbody>\n",
       "    <tr>\n",
       "      <th rowspan=\"2\" valign=\"top\">1</th>\n",
       "      <th>0.000312</th>\n",
       "      <th>1</th>\n",
       "      <td>-0.000923</td>\n",
       "    </tr>\n",
       "    <tr>\n",
       "      <th>1001.112500</th>\n",
       "      <th>75</th>\n",
       "      <td>0.000951</td>\n",
       "    </tr>\n",
       "    <tr>\n",
       "      <th rowspan=\"2\" valign=\"top\">2</th>\n",
       "      <th>0.000312</th>\n",
       "      <th>1</th>\n",
       "      <td>-0.000003</td>\n",
       "    </tr>\n",
       "    <tr>\n",
       "      <th>1001.112500</th>\n",
       "      <th>75</th>\n",
       "      <td>0.017761</td>\n",
       "    </tr>\n",
       "    <tr>\n",
       "      <th rowspan=\"2\" valign=\"top\">3</th>\n",
       "      <th>0.000312</th>\n",
       "      <th>1</th>\n",
       "      <td>-0.000168</td>\n",
       "    </tr>\n",
       "    <tr>\n",
       "      <th>1001.112500</th>\n",
       "      <th>75</th>\n",
       "      <td>0.038484</td>\n",
       "    </tr>\n",
       "  </tbody>\n",
       "</table>\n",
       "</div>"
      ],
      "text/plain": [
       "                       coolrg\n",
       "g pressure    layer          \n",
       "1 0.000312    1     -0.000923\n",
       "  1001.112500 75     0.000951\n",
       "2 0.000312    1     -0.000003\n",
       "  1001.112500 75     0.017761\n",
       "3 0.000312    1     -0.000168\n",
       "  1001.112500 75     0.038484"
      ]
     },
     "metadata": {},
     "output_type": "display_data"
    },
    {
     "name": "stdout",
     "output_type": "stream",
     "text": [
      "\n",
      "WGT_IGG1\n"
     ]
    },
    {
     "data": {
      "text/html": [
       "<div>\n",
       "<style scoped>\n",
       "    .dataframe tbody tr th:only-of-type {\n",
       "        vertical-align: middle;\n",
       "    }\n",
       "\n",
       "    .dataframe tbody tr th {\n",
       "        vertical-align: top;\n",
       "    }\n",
       "\n",
       "    .dataframe thead th {\n",
       "        text-align: right;\n",
       "    }\n",
       "</style>\n",
       "<table border=\"1\" class=\"dataframe\">\n",
       "  <thead>\n",
       "    <tr style=\"text-align: right;\">\n",
       "      <th></th>\n",
       "      <th></th>\n",
       "      <th></th>\n",
       "      <th>coolrg</th>\n",
       "    </tr>\n",
       "    <tr>\n",
       "      <th>g</th>\n",
       "      <th>pressure</th>\n",
       "      <th>layer</th>\n",
       "      <th></th>\n",
       "    </tr>\n",
       "  </thead>\n",
       "  <tbody>\n",
       "    <tr>\n",
       "      <th rowspan=\"2\" valign=\"top\">1</th>\n",
       "      <th>0.000312</th>\n",
       "      <th>1</th>\n",
       "      <td>-0.000879</td>\n",
       "    </tr>\n",
       "    <tr>\n",
       "      <th>1001.112500</th>\n",
       "      <th>75</th>\n",
       "      <td>0.000889</td>\n",
       "    </tr>\n",
       "    <tr>\n",
       "      <th rowspan=\"2\" valign=\"top\">2</th>\n",
       "      <th>0.000312</th>\n",
       "      <th>1</th>\n",
       "      <td>-0.000003</td>\n",
       "    </tr>\n",
       "    <tr>\n",
       "      <th>1001.112500</th>\n",
       "      <th>75</th>\n",
       "      <td>0.016924</td>\n",
       "    </tr>\n",
       "    <tr>\n",
       "      <th rowspan=\"2\" valign=\"top\">3</th>\n",
       "      <th>0.000312</th>\n",
       "      <th>1</th>\n",
       "      <td>-0.000174</td>\n",
       "    </tr>\n",
       "    <tr>\n",
       "      <th>1001.112500</th>\n",
       "      <th>75</th>\n",
       "      <td>0.039168</td>\n",
       "    </tr>\n",
       "  </tbody>\n",
       "</table>\n",
       "</div>"
      ],
      "text/plain": [
       "                       coolrg\n",
       "g pressure    layer          \n",
       "1 0.000312    1     -0.000879\n",
       "  1001.112500 75     0.000889\n",
       "2 0.000312    1     -0.000003\n",
       "  1001.112500 75     0.016924\n",
       "3 0.000312    1     -0.000174\n",
       "  1001.112500 75     0.039168"
      ]
     },
     "metadata": {},
     "output_type": "display_data"
    },
    {
     "name": "stdout",
     "output_type": "stream",
     "text": [
      "\n",
      "WGT_IGG10 - CRD\n"
     ]
    },
    {
     "data": {
      "text/html": [
       "<div>\n",
       "<style scoped>\n",
       "    .dataframe tbody tr th:only-of-type {\n",
       "        vertical-align: middle;\n",
       "    }\n",
       "\n",
       "    .dataframe tbody tr th {\n",
       "        vertical-align: top;\n",
       "    }\n",
       "\n",
       "    .dataframe thead th {\n",
       "        text-align: right;\n",
       "    }\n",
       "</style>\n",
       "<table border=\"1\" class=\"dataframe\">\n",
       "  <thead>\n",
       "    <tr style=\"text-align: right;\">\n",
       "      <th></th>\n",
       "      <th></th>\n",
       "      <th></th>\n",
       "      <th>coolrg</th>\n",
       "    </tr>\n",
       "    <tr>\n",
       "      <th>g</th>\n",
       "      <th>pressure</th>\n",
       "      <th>layer</th>\n",
       "      <th></th>\n",
       "    </tr>\n",
       "  </thead>\n",
       "  <tbody>\n",
       "    <tr>\n",
       "      <th rowspan=\"2\" valign=\"top\">1</th>\n",
       "      <th>0.000312</th>\n",
       "      <th>1</th>\n",
       "      <td>7.841440e-05</td>\n",
       "    </tr>\n",
       "    <tr>\n",
       "      <th>1001.112500</th>\n",
       "      <th>75</th>\n",
       "      <td>4.727899e-05</td>\n",
       "    </tr>\n",
       "    <tr>\n",
       "      <th rowspan=\"2\" valign=\"top\">2</th>\n",
       "      <th>0.000312</th>\n",
       "      <th>1</th>\n",
       "      <td>-6.916700e-09</td>\n",
       "    </tr>\n",
       "    <tr>\n",
       "      <th>1001.112500</th>\n",
       "      <th>75</th>\n",
       "      <td>4.673900e-04</td>\n",
       "    </tr>\n",
       "    <tr>\n",
       "      <th rowspan=\"2\" valign=\"top\">3</th>\n",
       "      <th>0.000312</th>\n",
       "      <th>1</th>\n",
       "      <td>1.319740e-06</td>\n",
       "    </tr>\n",
       "    <tr>\n",
       "      <th>1001.112500</th>\n",
       "      <th>75</th>\n",
       "      <td>1.361746e-03</td>\n",
       "    </tr>\n",
       "  </tbody>\n",
       "</table>\n",
       "</div>"
      ],
      "text/plain": [
       "                           coolrg\n",
       "g pressure    layer              \n",
       "1 0.000312    1      7.841440e-05\n",
       "  1001.112500 75     4.727899e-05\n",
       "2 0.000312    1     -6.916700e-09\n",
       "  1001.112500 75     4.673900e-04\n",
       "3 0.000312    1      1.319740e-06\n",
       "  1001.112500 75     1.361746e-03"
      ]
     },
     "metadata": {},
     "output_type": "display_data"
    },
    {
     "name": "stdout",
     "output_type": "stream",
     "text": [
      "\n",
      "WGT_IGG1 - CRD\n"
     ]
    },
    {
     "data": {
      "text/html": [
       "<div>\n",
       "<style scoped>\n",
       "    .dataframe tbody tr th:only-of-type {\n",
       "        vertical-align: middle;\n",
       "    }\n",
       "\n",
       "    .dataframe tbody tr th {\n",
       "        vertical-align: top;\n",
       "    }\n",
       "\n",
       "    .dataframe thead th {\n",
       "        text-align: right;\n",
       "    }\n",
       "</style>\n",
       "<table border=\"1\" class=\"dataframe\">\n",
       "  <thead>\n",
       "    <tr style=\"text-align: right;\">\n",
       "      <th></th>\n",
       "      <th></th>\n",
       "      <th></th>\n",
       "      <th>coolrg</th>\n",
       "    </tr>\n",
       "    <tr>\n",
       "      <th>g</th>\n",
       "      <th>pressure</th>\n",
       "      <th>layer</th>\n",
       "      <th></th>\n",
       "    </tr>\n",
       "  </thead>\n",
       "  <tbody>\n",
       "    <tr>\n",
       "      <th rowspan=\"2\" valign=\"top\">1</th>\n",
       "      <th>0.000312</th>\n",
       "      <th>1</th>\n",
       "      <td>1.222710e-04</td>\n",
       "    </tr>\n",
       "    <tr>\n",
       "      <th>1001.112500</th>\n",
       "      <th>75</th>\n",
       "      <td>-1.430618e-05</td>\n",
       "    </tr>\n",
       "    <tr>\n",
       "      <th rowspan=\"2\" valign=\"top\">2</th>\n",
       "      <th>0.000312</th>\n",
       "      <th>1</th>\n",
       "      <td>3.206200e-09</td>\n",
       "    </tr>\n",
       "    <tr>\n",
       "      <th>1001.112500</th>\n",
       "      <th>75</th>\n",
       "      <td>-3.700340e-04</td>\n",
       "    </tr>\n",
       "    <tr>\n",
       "      <th rowspan=\"2\" valign=\"top\">3</th>\n",
       "      <th>0.000312</th>\n",
       "      <th>1</th>\n",
       "      <td>-4.691830e-06</td>\n",
       "    </tr>\n",
       "    <tr>\n",
       "      <th>1001.112500</th>\n",
       "      <th>75</th>\n",
       "      <td>2.045787e-03</td>\n",
       "    </tr>\n",
       "  </tbody>\n",
       "</table>\n",
       "</div>"
      ],
      "text/plain": [
       "                           coolrg\n",
       "g pressure    layer              \n",
       "1 0.000312    1      1.222710e-04\n",
       "  1001.112500 75    -1.430618e-05\n",
       "2 0.000312    1      3.206200e-09\n",
       "  1001.112500 75    -3.700340e-04\n",
       "3 0.000312    1     -4.691830e-06\n",
       "  1001.112500 75     2.045787e-03"
      ]
     },
     "metadata": {},
     "output_type": "display_data"
    },
    {
     "data": {
      "text/html": [
       "<a id=\"Table:_flux._g-groups_total\"></a>"
      ],
      "text/plain": [
       "<IPython.core.display.HTML object>"
      ]
     },
     "metadata": {},
     "output_type": "display_data"
    },
    {
     "data": {
      "text/markdown": [
       "# Table: flux. g-groups total"
      ],
      "text/plain": [
       "<IPython.core.display.Markdown object>"
      ]
     },
     "metadata": {},
     "output_type": "display_data"
    },
    {
     "name": "stdout",
     "output_type": "stream",
     "text": [
      "\n",
      "CRD\n"
     ]
    },
    {
     "data": {
      "text/html": [
       "<div>\n",
       "<style scoped>\n",
       "    .dataframe tbody tr th:only-of-type {\n",
       "        vertical-align: middle;\n",
       "    }\n",
       "\n",
       "    .dataframe tbody tr th {\n",
       "        vertical-align: top;\n",
       "    }\n",
       "\n",
       "    .dataframe thead th {\n",
       "        text-align: right;\n",
       "    }\n",
       "</style>\n",
       "<table border=\"1\" class=\"dataframe\">\n",
       "  <thead>\n",
       "    <tr style=\"text-align: right;\">\n",
       "      <th></th>\n",
       "      <th></th>\n",
       "      <th>flug</th>\n",
       "      <th>fldg</th>\n",
       "      <th>fnetg</th>\n",
       "    </tr>\n",
       "    <tr>\n",
       "      <th>pressure</th>\n",
       "      <th>level</th>\n",
       "      <th></th>\n",
       "      <th></th>\n",
       "      <th></th>\n",
       "    </tr>\n",
       "  </thead>\n",
       "  <tbody>\n",
       "    <tr>\n",
       "      <th>0.0</th>\n",
       "      <th>1</th>\n",
       "      <td>-66.435179</td>\n",
       "      <td>0.000000</td>\n",
       "      <td>-66.435179</td>\n",
       "    </tr>\n",
       "    <tr>\n",
       "      <th>1013.0</th>\n",
       "      <th>76</th>\n",
       "      <td>-67.349450</td>\n",
       "      <td>2.531337</td>\n",
       "      <td>-64.818114</td>\n",
       "    </tr>\n",
       "  </tbody>\n",
       "</table>\n",
       "</div>"
      ],
      "text/plain": [
       "                     flug      fldg      fnetg\n",
       "pressure level                                \n",
       "0.0      1     -66.435179  0.000000 -66.435179\n",
       "1013.0   76    -67.349450  2.531337 -64.818114"
      ]
     },
     "metadata": {},
     "output_type": "display_data"
    },
    {
     "name": "stdout",
     "output_type": "stream",
     "text": [
      "\n",
      "WGT_IGG10\n"
     ]
    },
    {
     "data": {
      "text/html": [
       "<div>\n",
       "<style scoped>\n",
       "    .dataframe tbody tr th:only-of-type {\n",
       "        vertical-align: middle;\n",
       "    }\n",
       "\n",
       "    .dataframe tbody tr th {\n",
       "        vertical-align: top;\n",
       "    }\n",
       "\n",
       "    .dataframe thead th {\n",
       "        text-align: right;\n",
       "    }\n",
       "</style>\n",
       "<table border=\"1\" class=\"dataframe\">\n",
       "  <thead>\n",
       "    <tr style=\"text-align: right;\">\n",
       "      <th></th>\n",
       "      <th></th>\n",
       "      <th>flug</th>\n",
       "      <th>fldg</th>\n",
       "      <th>fnetg</th>\n",
       "    </tr>\n",
       "    <tr>\n",
       "      <th>pressure</th>\n",
       "      <th>level</th>\n",
       "      <th></th>\n",
       "      <th></th>\n",
       "      <th></th>\n",
       "    </tr>\n",
       "  </thead>\n",
       "  <tbody>\n",
       "    <tr>\n",
       "      <th>0.0</th>\n",
       "      <th>1</th>\n",
       "      <td>-66.498684</td>\n",
       "      <td>0.000000</td>\n",
       "      <td>-66.498684</td>\n",
       "    </tr>\n",
       "    <tr>\n",
       "      <th>1013.0</th>\n",
       "      <th>76</th>\n",
       "      <td>-67.349450</td>\n",
       "      <td>2.481931</td>\n",
       "      <td>-64.867520</td>\n",
       "    </tr>\n",
       "  </tbody>\n",
       "</table>\n",
       "</div>"
      ],
      "text/plain": [
       "                     flug      fldg      fnetg\n",
       "pressure level                                \n",
       "0.0      1     -66.498684  0.000000 -66.498684\n",
       "1013.0   76    -67.349450  2.481931 -64.867520"
      ]
     },
     "metadata": {},
     "output_type": "display_data"
    },
    {
     "name": "stdout",
     "output_type": "stream",
     "text": [
      "\n",
      "WGT_IGG1\n"
     ]
    },
    {
     "data": {
      "text/html": [
       "<div>\n",
       "<style scoped>\n",
       "    .dataframe tbody tr th:only-of-type {\n",
       "        vertical-align: middle;\n",
       "    }\n",
       "\n",
       "    .dataframe tbody tr th {\n",
       "        vertical-align: top;\n",
       "    }\n",
       "\n",
       "    .dataframe thead th {\n",
       "        text-align: right;\n",
       "    }\n",
       "</style>\n",
       "<table border=\"1\" class=\"dataframe\">\n",
       "  <thead>\n",
       "    <tr style=\"text-align: right;\">\n",
       "      <th></th>\n",
       "      <th></th>\n",
       "      <th>flug</th>\n",
       "      <th>fldg</th>\n",
       "      <th>fnetg</th>\n",
       "    </tr>\n",
       "    <tr>\n",
       "      <th>pressure</th>\n",
       "      <th>level</th>\n",
       "      <th></th>\n",
       "      <th></th>\n",
       "      <th></th>\n",
       "    </tr>\n",
       "  </thead>\n",
       "  <tbody>\n",
       "    <tr>\n",
       "      <th>0.0</th>\n",
       "      <th>1</th>\n",
       "      <td>-66.468427</td>\n",
       "      <td>0.000000</td>\n",
       "      <td>-66.468427</td>\n",
       "    </tr>\n",
       "    <tr>\n",
       "      <th>1013.0</th>\n",
       "      <th>76</th>\n",
       "      <td>-67.349450</td>\n",
       "      <td>2.529648</td>\n",
       "      <td>-64.819803</td>\n",
       "    </tr>\n",
       "  </tbody>\n",
       "</table>\n",
       "</div>"
      ],
      "text/plain": [
       "                     flug      fldg      fnetg\n",
       "pressure level                                \n",
       "0.0      1     -66.468427  0.000000 -66.468427\n",
       "1013.0   76    -67.349450  2.529648 -64.819803"
      ]
     },
     "metadata": {},
     "output_type": "display_data"
    },
    {
     "name": "stdout",
     "output_type": "stream",
     "text": [
      "\n",
      "WGT_IGG10 - CRD\n"
     ]
    },
    {
     "data": {
      "text/html": [
       "<div>\n",
       "<style scoped>\n",
       "    .dataframe tbody tr th:only-of-type {\n",
       "        vertical-align: middle;\n",
       "    }\n",
       "\n",
       "    .dataframe tbody tr th {\n",
       "        vertical-align: top;\n",
       "    }\n",
       "\n",
       "    .dataframe thead th {\n",
       "        text-align: right;\n",
       "    }\n",
       "</style>\n",
       "<table border=\"1\" class=\"dataframe\">\n",
       "  <thead>\n",
       "    <tr style=\"text-align: right;\">\n",
       "      <th></th>\n",
       "      <th></th>\n",
       "      <th>flug</th>\n",
       "      <th>fldg</th>\n",
       "      <th>fnetg</th>\n",
       "    </tr>\n",
       "    <tr>\n",
       "      <th>pressure</th>\n",
       "      <th>level</th>\n",
       "      <th></th>\n",
       "      <th></th>\n",
       "      <th></th>\n",
       "    </tr>\n",
       "  </thead>\n",
       "  <tbody>\n",
       "    <tr>\n",
       "      <th>0.0</th>\n",
       "      <th>1</th>\n",
       "      <td>-6.350427e-02</td>\n",
       "      <td>0.000000</td>\n",
       "      <td>-0.063504</td>\n",
       "    </tr>\n",
       "    <tr>\n",
       "      <th>1013.0</th>\n",
       "      <th>76</th>\n",
       "      <td>4.100000e-07</td>\n",
       "      <td>-0.049406</td>\n",
       "      <td>-0.049406</td>\n",
       "    </tr>\n",
       "  </tbody>\n",
       "</table>\n",
       "</div>"
      ],
      "text/plain": [
       "                        flug      fldg     fnetg\n",
       "pressure level                                  \n",
       "0.0      1     -6.350427e-02  0.000000 -0.063504\n",
       "1013.0   76     4.100000e-07 -0.049406 -0.049406"
      ]
     },
     "metadata": {},
     "output_type": "display_data"
    },
    {
     "name": "stdout",
     "output_type": "stream",
     "text": [
      "\n",
      "WGT_IGG1 - CRD\n"
     ]
    },
    {
     "data": {
      "text/html": [
       "<div>\n",
       "<style scoped>\n",
       "    .dataframe tbody tr th:only-of-type {\n",
       "        vertical-align: middle;\n",
       "    }\n",
       "\n",
       "    .dataframe tbody tr th {\n",
       "        vertical-align: top;\n",
       "    }\n",
       "\n",
       "    .dataframe thead th {\n",
       "        text-align: right;\n",
       "    }\n",
       "</style>\n",
       "<table border=\"1\" class=\"dataframe\">\n",
       "  <thead>\n",
       "    <tr style=\"text-align: right;\">\n",
       "      <th></th>\n",
       "      <th></th>\n",
       "      <th>flug</th>\n",
       "      <th>fldg</th>\n",
       "      <th>fnetg</th>\n",
       "    </tr>\n",
       "    <tr>\n",
       "      <th>pressure</th>\n",
       "      <th>level</th>\n",
       "      <th></th>\n",
       "      <th></th>\n",
       "      <th></th>\n",
       "    </tr>\n",
       "  </thead>\n",
       "  <tbody>\n",
       "    <tr>\n",
       "      <th>0.0</th>\n",
       "      <th>1</th>\n",
       "      <td>-3.324782e-02</td>\n",
       "      <td>0.000000</td>\n",
       "      <td>-0.033248</td>\n",
       "    </tr>\n",
       "    <tr>\n",
       "      <th>1013.0</th>\n",
       "      <th>76</th>\n",
       "      <td>4.100000e-07</td>\n",
       "      <td>-0.001689</td>\n",
       "      <td>-0.001689</td>\n",
       "    </tr>\n",
       "  </tbody>\n",
       "</table>\n",
       "</div>"
      ],
      "text/plain": [
       "                        flug      fldg     fnetg\n",
       "pressure level                                  \n",
       "0.0      1     -3.324782e-02  0.000000 -0.033248\n",
       "1013.0   76     4.100000e-07 -0.001689 -0.001689"
      ]
     },
     "metadata": {},
     "output_type": "display_data"
    },
    {
     "data": {
      "text/html": [
       "<a id=\"Table:_cooling_rate._g-groups_total\"></a>"
      ],
      "text/plain": [
       "<IPython.core.display.HTML object>"
      ]
     },
     "metadata": {},
     "output_type": "display_data"
    },
    {
     "data": {
      "text/markdown": [
       "# Table: cooling rate. g-groups total"
      ],
      "text/plain": [
       "<IPython.core.display.Markdown object>"
      ]
     },
     "metadata": {},
     "output_type": "display_data"
    },
    {
     "name": "stdout",
     "output_type": "stream",
     "text": [
      "\n",
      "CRD\n"
     ]
    },
    {
     "data": {
      "text/html": [
       "<div>\n",
       "<style scoped>\n",
       "    .dataframe tbody tr th:only-of-type {\n",
       "        vertical-align: middle;\n",
       "    }\n",
       "\n",
       "    .dataframe tbody tr th {\n",
       "        vertical-align: top;\n",
       "    }\n",
       "\n",
       "    .dataframe thead th {\n",
       "        text-align: right;\n",
       "    }\n",
       "</style>\n",
       "<table border=\"1\" class=\"dataframe\">\n",
       "  <thead>\n",
       "    <tr style=\"text-align: right;\">\n",
       "      <th></th>\n",
       "      <th></th>\n",
       "      <th>coolrg</th>\n",
       "    </tr>\n",
       "    <tr>\n",
       "      <th>pressure</th>\n",
       "      <th>layer</th>\n",
       "      <th></th>\n",
       "    </tr>\n",
       "  </thead>\n",
       "  <tbody>\n",
       "    <tr>\n",
       "      <th>0.000312</th>\n",
       "      <th>1</th>\n",
       "      <td>-0.001173</td>\n",
       "    </tr>\n",
       "    <tr>\n",
       "      <th>1001.112500</th>\n",
       "      <th>75</th>\n",
       "      <td>0.055320</td>\n",
       "    </tr>\n",
       "  </tbody>\n",
       "</table>\n",
       "</div>"
      ],
      "text/plain": [
       "                     coolrg\n",
       "pressure    layer          \n",
       "0.000312    1     -0.001173\n",
       "1001.112500 75     0.055320"
      ]
     },
     "metadata": {},
     "output_type": "display_data"
    },
    {
     "name": "stdout",
     "output_type": "stream",
     "text": [
      "\n",
      "WGT_IGG10\n"
     ]
    },
    {
     "data": {
      "text/html": [
       "<div>\n",
       "<style scoped>\n",
       "    .dataframe tbody tr th:only-of-type {\n",
       "        vertical-align: middle;\n",
       "    }\n",
       "\n",
       "    .dataframe tbody tr th {\n",
       "        vertical-align: top;\n",
       "    }\n",
       "\n",
       "    .dataframe thead th {\n",
       "        text-align: right;\n",
       "    }\n",
       "</style>\n",
       "<table border=\"1\" class=\"dataframe\">\n",
       "  <thead>\n",
       "    <tr style=\"text-align: right;\">\n",
       "      <th></th>\n",
       "      <th></th>\n",
       "      <th>coolrg</th>\n",
       "    </tr>\n",
       "    <tr>\n",
       "      <th>pressure</th>\n",
       "      <th>layer</th>\n",
       "      <th></th>\n",
       "    </tr>\n",
       "  </thead>\n",
       "  <tbody>\n",
       "    <tr>\n",
       "      <th>0.000312</th>\n",
       "      <th>1</th>\n",
       "      <td>-0.001093</td>\n",
       "    </tr>\n",
       "    <tr>\n",
       "      <th>1001.112500</th>\n",
       "      <th>75</th>\n",
       "      <td>0.057196</td>\n",
       "    </tr>\n",
       "  </tbody>\n",
       "</table>\n",
       "</div>"
      ],
      "text/plain": [
       "                     coolrg\n",
       "pressure    layer          \n",
       "0.000312    1     -0.001093\n",
       "1001.112500 75     0.057196"
      ]
     },
     "metadata": {},
     "output_type": "display_data"
    },
    {
     "name": "stdout",
     "output_type": "stream",
     "text": [
      "\n",
      "WGT_IGG1\n"
     ]
    },
    {
     "data": {
      "text/html": [
       "<div>\n",
       "<style scoped>\n",
       "    .dataframe tbody tr th:only-of-type {\n",
       "        vertical-align: middle;\n",
       "    }\n",
       "\n",
       "    .dataframe tbody tr th {\n",
       "        vertical-align: top;\n",
       "    }\n",
       "\n",
       "    .dataframe thead th {\n",
       "        text-align: right;\n",
       "    }\n",
       "</style>\n",
       "<table border=\"1\" class=\"dataframe\">\n",
       "  <thead>\n",
       "    <tr style=\"text-align: right;\">\n",
       "      <th></th>\n",
       "      <th></th>\n",
       "      <th>coolrg</th>\n",
       "    </tr>\n",
       "    <tr>\n",
       "      <th>pressure</th>\n",
       "      <th>layer</th>\n",
       "      <th></th>\n",
       "    </tr>\n",
       "  </thead>\n",
       "  <tbody>\n",
       "    <tr>\n",
       "      <th>0.000312</th>\n",
       "      <th>1</th>\n",
       "      <td>-0.001055</td>\n",
       "    </tr>\n",
       "    <tr>\n",
       "      <th>1001.112500</th>\n",
       "      <th>75</th>\n",
       "      <td>0.056981</td>\n",
       "    </tr>\n",
       "  </tbody>\n",
       "</table>\n",
       "</div>"
      ],
      "text/plain": [
       "                     coolrg\n",
       "pressure    layer          \n",
       "0.000312    1     -0.001055\n",
       "1001.112500 75     0.056981"
      ]
     },
     "metadata": {},
     "output_type": "display_data"
    },
    {
     "name": "stdout",
     "output_type": "stream",
     "text": [
      "\n",
      "WGT_IGG10 - CRD\n"
     ]
    },
    {
     "data": {
      "text/html": [
       "<div>\n",
       "<style scoped>\n",
       "    .dataframe tbody tr th:only-of-type {\n",
       "        vertical-align: middle;\n",
       "    }\n",
       "\n",
       "    .dataframe tbody tr th {\n",
       "        vertical-align: top;\n",
       "    }\n",
       "\n",
       "    .dataframe thead th {\n",
       "        text-align: right;\n",
       "    }\n",
       "</style>\n",
       "<table border=\"1\" class=\"dataframe\">\n",
       "  <thead>\n",
       "    <tr style=\"text-align: right;\">\n",
       "      <th></th>\n",
       "      <th></th>\n",
       "      <th>coolrg</th>\n",
       "    </tr>\n",
       "    <tr>\n",
       "      <th>pressure</th>\n",
       "      <th>layer</th>\n",
       "      <th></th>\n",
       "    </tr>\n",
       "  </thead>\n",
       "  <tbody>\n",
       "    <tr>\n",
       "      <th>0.000312</th>\n",
       "      <th>1</th>\n",
       "      <td>0.000080</td>\n",
       "    </tr>\n",
       "    <tr>\n",
       "      <th>1001.112500</th>\n",
       "      <th>75</th>\n",
       "      <td>0.001876</td>\n",
       "    </tr>\n",
       "  </tbody>\n",
       "</table>\n",
       "</div>"
      ],
      "text/plain": [
       "                     coolrg\n",
       "pressure    layer          \n",
       "0.000312    1      0.000080\n",
       "1001.112500 75     0.001876"
      ]
     },
     "metadata": {},
     "output_type": "display_data"
    },
    {
     "name": "stdout",
     "output_type": "stream",
     "text": [
      "\n",
      "WGT_IGG1 - CRD\n"
     ]
    },
    {
     "data": {
      "text/html": [
       "<div>\n",
       "<style scoped>\n",
       "    .dataframe tbody tr th:only-of-type {\n",
       "        vertical-align: middle;\n",
       "    }\n",
       "\n",
       "    .dataframe tbody tr th {\n",
       "        vertical-align: top;\n",
       "    }\n",
       "\n",
       "    .dataframe thead th {\n",
       "        text-align: right;\n",
       "    }\n",
       "</style>\n",
       "<table border=\"1\" class=\"dataframe\">\n",
       "  <thead>\n",
       "    <tr style=\"text-align: right;\">\n",
       "      <th></th>\n",
       "      <th></th>\n",
       "      <th>coolrg</th>\n",
       "    </tr>\n",
       "    <tr>\n",
       "      <th>pressure</th>\n",
       "      <th>layer</th>\n",
       "      <th></th>\n",
       "    </tr>\n",
       "  </thead>\n",
       "  <tbody>\n",
       "    <tr>\n",
       "      <th>0.000312</th>\n",
       "      <th>1</th>\n",
       "      <td>0.000118</td>\n",
       "    </tr>\n",
       "    <tr>\n",
       "      <th>1001.112500</th>\n",
       "      <th>75</th>\n",
       "      <td>0.001661</td>\n",
       "    </tr>\n",
       "  </tbody>\n",
       "</table>\n",
       "</div>"
      ],
      "text/plain": [
       "                     coolrg\n",
       "pressure    layer          \n",
       "0.000312    1      0.000118\n",
       "1001.112500 75     0.001661"
      ]
     },
     "metadata": {},
     "output_type": "display_data"
    }
   ],
   "source": [
    "table_fluxg.display_withdiff(analysis, benchmark='crd')\n",
    "table_coolrg.display_withdiff(analysis, benchmark='crd')\n",
    "table_flux.display_withdiff(analysis, benchmark='crd')\n",
    "table_coolr.display_withdiff(analysis, benchmark='crd')"
   ]
  },
  {
   "cell_type": "code",
   "execution_count": 22,
   "metadata": {},
   "outputs": [
    {
     "data": {
      "text/html": [
       "<a id=\"Table:_dgdgs._g-groups\"></a>"
      ],
      "text/plain": [
       "<IPython.core.display.HTML object>"
      ]
     },
     "metadata": {},
     "output_type": "display_data"
    },
    {
     "data": {
      "text/markdown": [
       "# Table: dgdgs. g-groups "
      ],
      "text/plain": [
       "<IPython.core.display.Markdown object>"
      ]
     },
     "metadata": {},
     "output_type": "display_data"
    },
    {
     "data": {
      "text/html": [
       "<div>\n",
       "<style scoped>\n",
       "    .dataframe tbody tr th:only-of-type {\n",
       "        vertical-align: middle;\n",
       "    }\n",
       "\n",
       "    .dataframe tbody tr th {\n",
       "        vertical-align: top;\n",
       "    }\n",
       "\n",
       "    .dataframe thead th {\n",
       "        text-align: right;\n",
       "    }\n",
       "</style>\n",
       "<table border=\"1\" class=\"dataframe\">\n",
       "  <thead>\n",
       "    <tr style=\"text-align: right;\">\n",
       "      <th></th>\n",
       "      <th>dg</th>\n",
       "      <th>dgs</th>\n",
       "    </tr>\n",
       "    <tr>\n",
       "      <th>g</th>\n",
       "      <th></th>\n",
       "      <th></th>\n",
       "    </tr>\n",
       "  </thead>\n",
       "  <tbody>\n",
       "    <tr>\n",
       "      <th>1</th>\n",
       "      <td>0.002250</td>\n",
       "      <td>0.002120</td>\n",
       "    </tr>\n",
       "    <tr>\n",
       "      <th>2</th>\n",
       "      <td>0.041417</td>\n",
       "      <td>0.038671</td>\n",
       "    </tr>\n",
       "    <tr>\n",
       "      <th>3</th>\n",
       "      <td>0.956333</td>\n",
       "      <td>0.959209</td>\n",
       "    </tr>\n",
       "  </tbody>\n",
       "</table>\n",
       "</div>"
      ],
      "text/plain": [
       "         dg       dgs\n",
       "g                    \n",
       "1  0.002250  0.002120\n",
       "2  0.041417  0.038671\n",
       "3  0.956333  0.959209"
      ]
     },
     "metadata": {},
     "output_type": "display_data"
    }
   ],
   "source": [
    "table_dgdgs.display_dgdgs(crd)"
   ]
  },
  {
   "cell_type": "code",
   "execution_count": 23,
   "metadata": {},
   "outputs": [
    {
     "data": {
      "text/html": [
       "<a id=\"Overall_absth\"></a>"
      ],
      "text/plain": [
       "<IPython.core.display.HTML object>"
      ]
     },
     "metadata": {},
     "output_type": "display_data"
    },
    {
     "data": {
      "text/markdown": [
       "# Overall absth"
      ],
      "text/plain": [
       "<IPython.core.display.Markdown object>"
      ]
     },
     "metadata": {},
     "output_type": "display_data"
    },
    {
     "data": {
      "text/html": [
       "<div>\n",
       "<style scoped>\n",
       "    .dataframe tbody tr th:only-of-type {\n",
       "        vertical-align: middle;\n",
       "    }\n",
       "\n",
       "    .dataframe tbody tr th {\n",
       "        vertical-align: top;\n",
       "    }\n",
       "\n",
       "    .dataframe thead th {\n",
       "        text-align: right;\n",
       "    }\n",
       "</style>\n",
       "<table border=\"1\" class=\"dataframe\">\n",
       "  <thead>\n",
       "    <tr style=\"text-align: right;\">\n",
       "      <th></th>\n",
       "      <th>abscom</th>\n",
       "    </tr>\n",
       "    <tr>\n",
       "      <th>g</th>\n",
       "      <th></th>\n",
       "    </tr>\n",
       "  </thead>\n",
       "  <tbody>\n",
       "    <tr>\n",
       "      <th>1</th>\n",
       "      <td>7.580429e-24</td>\n",
       "    </tr>\n",
       "    <tr>\n",
       "      <th>2</th>\n",
       "      <td>6.500016e-24</td>\n",
       "    </tr>\n",
       "    <tr>\n",
       "      <th>3</th>\n",
       "      <td>2.020217e-27</td>\n",
       "    </tr>\n",
       "  </tbody>\n",
       "</table>\n",
       "</div>"
      ],
      "text/plain": [
       "         abscom\n",
       "g              \n",
       "1  7.580429e-24\n",
       "2  6.500016e-24\n",
       "3  2.020217e-27"
      ]
     },
     "metadata": {},
     "output_type": "display_data"
    }
   ],
   "source": [
    "# read and display overall absth\n",
    "display.display(\n",
    "    display.HTML(climahtml.getHTML_idanchor(s_abscom)))\n",
    "display.display(\n",
    "    display.Markdown(climahtml.getMarkdown_sectitle(s_abscom)))\n",
    "\n",
    "display.display(pd.read_csv(os.path.join(crd.rundir, 'abscom.dat'),\n",
    "                sep=r'\\s+',\n",
    "                index_col=[0]))"
   ]
  },
  {
   "cell_type": "code",
   "execution_count": 24,
   "metadata": {
    "collapsed": true
   },
   "outputs": [],
   "source": [
    "def spreadsheet(ng_refs, p_refs):\n",
    "    ng = crd.data['dgdgs'].dims['g']\n",
    "    \n",
    "    df_abscom = pd.read_csv(os.path.join(crd.rundir, 'abscom.dat'), \n",
    "                            sep=r'\\s+', index_col=[0])\n",
    "    \n",
    "    # absth(g + 1) / absth(g)\n",
    "    df_abscom_copy = df_abscom.copy()\n",
    "    df_abscom_copy.index = df_abscom.index + 1\n",
    "    df_absratio = df_abscom / df_abscom_copy\n",
    "    df_absratio.columns = ['k(ig) / k(ig - 1)']\n",
    "    df_absratio = df_absratio.loc[: ng]\n",
    "    df_dgdgs = crd.data['dgdgs'].to_dataframe()\n",
    "    \n",
    "    \n",
    "    df_dgdgs_cumsum = df_dgdgs.cumsum(axis=0)\n",
    "    df_dgdgs_cumsum.columns = ['dg cumsum', 'dgs cumsum']\n",
    "    \n",
    "    data_pref = np.concatenate([p_ref * np.ones((ng_ref,)) \n",
    "                                for ng_ref, p_ref \n",
    "                                in zip(ng_refs, p_refs)], axis=0)\n",
    "    df_pref = pd.DataFrame(data_pref, \n",
    "                           index=df_dgdgs.index, columns=['pref'])\n",
    "    \n",
    "    df_all = pd.concat([df_abscom, df_absratio,\n",
    "                        df_dgdgs, df_dgdgs_cumsum,\n",
    "                        df_pref], axis=1) \n",
    "    return df_all\n",
    "    "
   ]
  },
  {
   "cell_type": "code",
   "execution_count": 25,
   "metadata": {
    "scrolled": false
   },
   "outputs": [
    {
     "data": {
      "text/html": [
       "<a id=\"g-group_summary\"></a>"
      ],
      "text/plain": [
       "<IPython.core.display.HTML object>"
      ]
     },
     "metadata": {},
     "output_type": "display_data"
    },
    {
     "data": {
      "text/markdown": [
       "# g-group summary"
      ],
      "text/plain": [
       "<IPython.core.display.Markdown object>"
      ]
     },
     "metadata": {},
     "output_type": "display_data"
    },
    {
     "data": {
      "text/html": [
       "<div>\n",
       "<style scoped>\n",
       "    .dataframe tbody tr th:only-of-type {\n",
       "        vertical-align: middle;\n",
       "    }\n",
       "\n",
       "    .dataframe tbody tr th {\n",
       "        vertical-align: top;\n",
       "    }\n",
       "\n",
       "    .dataframe thead th {\n",
       "        text-align: right;\n",
       "    }\n",
       "</style>\n",
       "<table border=\"1\" class=\"dataframe\">\n",
       "  <thead>\n",
       "    <tr style=\"text-align: right;\">\n",
       "      <th></th>\n",
       "      <th>abscom</th>\n",
       "      <th>k(ig) / k(ig - 1)</th>\n",
       "      <th>dg</th>\n",
       "      <th>dgs</th>\n",
       "      <th>dg cumsum</th>\n",
       "      <th>dgs cumsum</th>\n",
       "      <th>pref</th>\n",
       "    </tr>\n",
       "    <tr>\n",
       "      <th>g</th>\n",
       "      <th></th>\n",
       "      <th></th>\n",
       "      <th></th>\n",
       "      <th></th>\n",
       "      <th></th>\n",
       "      <th></th>\n",
       "      <th></th>\n",
       "    </tr>\n",
       "  </thead>\n",
       "  <tbody>\n",
       "    <tr>\n",
       "      <th>1</th>\n",
       "      <td>7.580429e-24</td>\n",
       "      <td>NaN</td>\n",
       "      <td>0.002250</td>\n",
       "      <td>0.002120</td>\n",
       "      <td>0.002250</td>\n",
       "      <td>0.002120</td>\n",
       "      <td>1.0</td>\n",
       "    </tr>\n",
       "    <tr>\n",
       "      <th>2</th>\n",
       "      <td>6.500016e-24</td>\n",
       "      <td>0.857473</td>\n",
       "      <td>0.041417</td>\n",
       "      <td>0.038671</td>\n",
       "      <td>0.043667</td>\n",
       "      <td>0.040791</td>\n",
       "      <td>500.0</td>\n",
       "    </tr>\n",
       "    <tr>\n",
       "      <th>3</th>\n",
       "      <td>2.020217e-27</td>\n",
       "      <td>0.000311</td>\n",
       "      <td>0.956333</td>\n",
       "      <td>0.959209</td>\n",
       "      <td>1.000000</td>\n",
       "      <td>1.000000</td>\n",
       "      <td>500.0</td>\n",
       "    </tr>\n",
       "  </tbody>\n",
       "</table>\n",
       "</div>"
      ],
      "text/plain": [
       "         abscom  k(ig) / k(ig - 1)        dg       dgs  dg cumsum  dgs cumsum  \\\n",
       "g                                                                               \n",
       "1  7.580429e-24                NaN  0.002250  0.002120   0.002250    0.002120   \n",
       "2  6.500016e-24           0.857473  0.041417  0.038671   0.043667    0.040791   \n",
       "3  2.020217e-27           0.000311  0.956333  0.959209   1.000000    1.000000   \n",
       "\n",
       "    pref  \n",
       "g         \n",
       "1    1.0  \n",
       "2  500.0  \n",
       "3  500.0  "
      ]
     },
     "metadata": {},
     "output_type": "display_data"
    }
   ],
   "source": [
    "display.display(display.HTML(climahtml.getHTML_idanchor(s_ggroup_summary)))\n",
    "display.display(display.Markdown(climahtml.getMarkdown_sectitle(s_ggroup_summary)))\n",
    "display.display(spreadsheet(NG_REFS, P_REFS))"
   ]
  },
  {
   "cell_type": "code",
   "execution_count": 26,
   "metadata": {
    "collapsed": true,
    "scrolled": false
   },
   "outputs": [],
   "source": [
    "def load_d_bigsum():\n",
    "    \n",
    "    ng = 10\n",
    "    \n",
    "    fpath = os.path.join(crd.rundir, 'd_bigsum.dat')\n",
    "    df = pd.read_csv(fpath, sep=r'\\s+', index_col = [0, 1])\n",
    "\n",
    "    g_layers = [(1, 62), (2, 58)]\n",
    "    \n",
    "    writer = pd.ExcelWriter('_'.join(['d_bigsum_absgas',\n",
    "                                      'ng_{}'.format(ng)])\n",
    "                            + '.xlsx')\n",
    "    for g, layer in g_layers:\n",
    "        df.loc[(g, layer), :].to_excel(writer, \n",
    "                                       '({}, {})'.format(g, layer))\n",
    "        \n",
    "\n",
    "#load_d_bigsum()"
   ]
  },
  {
   "cell_type": "code",
   "execution_count": 27,
   "metadata": {},
   "outputs": [
    {
     "data": {
      "text/html": [
       "<script>\n",
       "code_show=true; \n",
       "function code_toggle() {\n",
       " if (code_show){\n",
       " $('div.input').hide();\n",
       " } else {\n",
       " $('div.input').show();\n",
       " }\n",
       " code_show = !code_show\n",
       "} \n",
       "$( document ).ready(code_toggle);\n",
       "</script>\n",
       "<form action=\"javascript:code_toggle()\"><input type=\"submit\" value=\"Click here to toggle on/off the raw code.\"></form>"
      ],
      "text/plain": [
       "<IPython.core.display.HTML object>"
      ]
     },
     "execution_count": 27,
     "metadata": {},
     "output_type": "execute_result"
    }
   ],
   "source": [
    "display.HTML('''<script>\n",
    "code_show=true; \n",
    "function code_toggle() {\n",
    " if (code_show){\n",
    " $('div.input').hide();\n",
    " } else {\n",
    " $('div.input').show();\n",
    " }\n",
    " code_show = !code_show\n",
    "} \n",
    "$( document ).ready(code_toggle);\n",
    "</script>\n",
    "<form action=\"javascript:code_toggle()\"><input type=\"submit\" value=\"Click here to toggle on/off the raw code.\"></form>''')\n"
   ]
  },
  {
   "cell_type": "code",
   "execution_count": 28,
   "metadata": {
    "collapsed": true
   },
   "outputs": [],
   "source": []
  }
 ],
 "metadata": {
  "kernelspec": {
   "display_name": "Python 3",
   "language": "python",
   "name": "python3"
  },
  "language_info": {
   "codemirror_mode": {
    "name": "ipython",
    "version": 3
   },
   "file_extension": ".py",
   "mimetype": "text/x-python",
   "name": "python",
   "nbconvert_exporter": "python",
   "pygments_lexer": "ipython3",
   "version": "3.6.1"
  }
 },
 "nbformat": 4,
 "nbformat_minor": 1
}
