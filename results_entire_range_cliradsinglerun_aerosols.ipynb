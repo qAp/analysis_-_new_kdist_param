{
 "cells": [
  {
   "cell_type": "code",
   "execution_count": 15,
   "metadata": {
    "collapsed": true
   },
   "outputs": [],
   "source": [
    "import os\n",
    "import ast\n",
    "import json\n",
    "import importlib \n",
    "import itertools\n",
    "import collections\n",
    "import pprint\n",
    "\n",
    "from bokeh.io import output_notebook, show\n",
    "from bokeh.layouts import gridplot\n",
    "from bokeh.plotting import figure\n",
    "from bokeh.models import Range1d, Legend, ColumnDataSource, FactorRange\n",
    "from bokeh.palettes import all_palettes\n",
    "from bokeh.transform import factor_cmap\n",
    "\n",
    "import matplotlib\n",
    "import matplotlib.pyplot as plt\n",
    "import numpy as np\n",
    "import pandas as pd\n",
    "import xarray as xr\n",
    "\n",
    "\n",
    "import climatools.lblnew.bestfit_params as bestfits\n",
    "from climatools.lblnew import setup_bestfit, setup_overlap\n",
    "import climatools.lblnew.pipeline as pipe_lblnew\n",
    "import climatools.cliradlw.setup as setup_cliradlw\n",
    "import climatools.cliradlw.pipeline as pipe_cliradlw\n",
    "\n",
    "import climatools.html.html as climahtml\n",
    "from climatools.lblnew.dataio import *\n",
    "from climatools.plot.plot import *\n",
    "\n",
    "\n",
    "from IPython import display\n",
    "\n",
    "#importlib.reload(bestfits)\n",
    "#importlib.reload(setup_bestfit)\n",
    "#importlib.reload(setup_overlap)\n",
    "#importlib.reload(pipe_lblnew)\n",
    "#importlib.reload(setup_cliradlw)\n",
    "#importlib.reload(pipe_cliradlw)"
   ]
  },
  {
   "cell_type": "code",
   "execution_count": 16,
   "metadata": {
    "scrolled": true
   },
   "outputs": [
    {
     "data": {
      "text/html": [
       "\n",
       "    <div class=\"bk-root\">\n",
       "        <a href=\"https://bokeh.pydata.org\" target=\"_blank\" class=\"bk-logo bk-logo-small bk-logo-notebook\"></a>\n",
       "        <span id=\"e68ff238-1a69-4a87-bcc0-de10272e1c32\">Loading BokehJS ...</span>\n",
       "    </div>"
      ]
     },
     "metadata": {},
     "output_type": "display_data"
    },
    {
     "data": {
      "application/javascript": [
       "\n",
       "(function(root) {\n",
       "  function now() {\n",
       "    return new Date();\n",
       "  }\n",
       "\n",
       "  var force = true;\n",
       "\n",
       "  if (typeof (root._bokeh_onload_callbacks) === \"undefined\" || force === true) {\n",
       "    root._bokeh_onload_callbacks = [];\n",
       "    root._bokeh_is_loading = undefined;\n",
       "  }\n",
       "\n",
       "  var JS_MIME_TYPE = 'application/javascript';\n",
       "  var HTML_MIME_TYPE = 'text/html';\n",
       "  var EXEC_MIME_TYPE = 'application/vnd.bokehjs_exec.v0+json';\n",
       "  var CLASS_NAME = 'output_bokeh rendered_html';\n",
       "\n",
       "  /**\n",
       "   * Render data to the DOM node\n",
       "   */\n",
       "  function render(props, node) {\n",
       "    var script = document.createElement(\"script\");\n",
       "    node.appendChild(script);\n",
       "  }\n",
       "\n",
       "  /**\n",
       "   * Handle when an output is cleared or removed\n",
       "   */\n",
       "  function handleClearOutput(event, handle) {\n",
       "    var cell = handle.cell;\n",
       "\n",
       "    var id = cell.output_area._bokeh_element_id;\n",
       "    var server_id = cell.output_area._bokeh_server_id;\n",
       "    // Clean up Bokeh references\n",
       "    if (id !== undefined) {\n",
       "      Bokeh.index[id].model.document.clear();\n",
       "      delete Bokeh.index[id];\n",
       "    }\n",
       "\n",
       "    if (server_id !== undefined) {\n",
       "      // Clean up Bokeh references\n",
       "      var cmd = \"from bokeh.io.state import curstate; print(curstate().uuid_to_server['\" + server_id + \"'].get_sessions()[0].document.roots[0]._id)\";\n",
       "      cell.notebook.kernel.execute(cmd, {\n",
       "        iopub: {\n",
       "          output: function(msg) {\n",
       "            var element_id = msg.content.text.trim();\n",
       "            Bokeh.index[element_id].model.document.clear();\n",
       "            delete Bokeh.index[element_id];\n",
       "          }\n",
       "        }\n",
       "      });\n",
       "      // Destroy server and session\n",
       "      var cmd = \"import bokeh.io.notebook as ion; ion.destroy_server('\" + server_id + \"')\";\n",
       "      cell.notebook.kernel.execute(cmd);\n",
       "    }\n",
       "  }\n",
       "\n",
       "  /**\n",
       "   * Handle when a new output is added\n",
       "   */\n",
       "  function handleAddOutput(event, handle) {\n",
       "    var output_area = handle.output_area;\n",
       "    var output = handle.output;\n",
       "\n",
       "    // limit handleAddOutput to display_data with EXEC_MIME_TYPE content only\n",
       "    if ((output.output_type != \"display_data\") || (!output.data.hasOwnProperty(EXEC_MIME_TYPE))) {\n",
       "      return\n",
       "    }\n",
       "\n",
       "    var toinsert = output_area.element.find(\".\" + CLASS_NAME.split(' ')[0]);\n",
       "\n",
       "    if (output.metadata[EXEC_MIME_TYPE][\"id\"] !== undefined) {\n",
       "      toinsert[toinsert.length - 1].firstChild.textContent = output.data[JS_MIME_TYPE];\n",
       "      // store reference to embed id on output_area\n",
       "      output_area._bokeh_element_id = output.metadata[EXEC_MIME_TYPE][\"id\"];\n",
       "    }\n",
       "    if (output.metadata[EXEC_MIME_TYPE][\"server_id\"] !== undefined) {\n",
       "      var bk_div = document.createElement(\"div\");\n",
       "      bk_div.innerHTML = output.data[HTML_MIME_TYPE];\n",
       "      var script_attrs = bk_div.children[0].attributes;\n",
       "      for (var i = 0; i < script_attrs.length; i++) {\n",
       "        toinsert[toinsert.length - 1].firstChild.setAttribute(script_attrs[i].name, script_attrs[i].value);\n",
       "      }\n",
       "      // store reference to server id on output_area\n",
       "      output_area._bokeh_server_id = output.metadata[EXEC_MIME_TYPE][\"server_id\"];\n",
       "    }\n",
       "  }\n",
       "\n",
       "  function register_renderer(events, OutputArea) {\n",
       "\n",
       "    function append_mime(data, metadata, element) {\n",
       "      // create a DOM node to render to\n",
       "      var toinsert = this.create_output_subarea(\n",
       "        metadata,\n",
       "        CLASS_NAME,\n",
       "        EXEC_MIME_TYPE\n",
       "      );\n",
       "      this.keyboard_manager.register_events(toinsert);\n",
       "      // Render to node\n",
       "      var props = {data: data, metadata: metadata[EXEC_MIME_TYPE]};\n",
       "      render(props, toinsert[toinsert.length - 1]);\n",
       "      element.append(toinsert);\n",
       "      return toinsert\n",
       "    }\n",
       "\n",
       "    /* Handle when an output is cleared or removed */\n",
       "    events.on('clear_output.CodeCell', handleClearOutput);\n",
       "    events.on('delete.Cell', handleClearOutput);\n",
       "\n",
       "    /* Handle when a new output is added */\n",
       "    events.on('output_added.OutputArea', handleAddOutput);\n",
       "\n",
       "    /**\n",
       "     * Register the mime type and append_mime function with output_area\n",
       "     */\n",
       "    OutputArea.prototype.register_mime_type(EXEC_MIME_TYPE, append_mime, {\n",
       "      /* Is output safe? */\n",
       "      safe: true,\n",
       "      /* Index of renderer in `output_area.display_order` */\n",
       "      index: 0\n",
       "    });\n",
       "  }\n",
       "\n",
       "  // register the mime type if in Jupyter Notebook environment and previously unregistered\n",
       "  if (root.Jupyter !== undefined) {\n",
       "    var events = require('base/js/events');\n",
       "    var OutputArea = require('notebook/js/outputarea').OutputArea;\n",
       "\n",
       "    if (OutputArea.prototype.mime_types().indexOf(EXEC_MIME_TYPE) == -1) {\n",
       "      register_renderer(events, OutputArea);\n",
       "    }\n",
       "  }\n",
       "\n",
       "  \n",
       "  if (typeof (root._bokeh_timeout) === \"undefined\" || force === true) {\n",
       "    root._bokeh_timeout = Date.now() + 5000;\n",
       "    root._bokeh_failed_load = false;\n",
       "  }\n",
       "\n",
       "  var NB_LOAD_WARNING = {'data': {'text/html':\n",
       "     \"<div style='background-color: #fdd'>\\n\"+\n",
       "     \"<p>\\n\"+\n",
       "     \"BokehJS does not appear to have successfully loaded. If loading BokehJS from CDN, this \\n\"+\n",
       "     \"may be due to a slow or bad network connection. Possible fixes:\\n\"+\n",
       "     \"</p>\\n\"+\n",
       "     \"<ul>\\n\"+\n",
       "     \"<li>re-rerun `output_notebook()` to attempt to load from CDN again, or</li>\\n\"+\n",
       "     \"<li>use INLINE resources instead, as so:</li>\\n\"+\n",
       "     \"</ul>\\n\"+\n",
       "     \"<code>\\n\"+\n",
       "     \"from bokeh.resources import INLINE\\n\"+\n",
       "     \"output_notebook(resources=INLINE)\\n\"+\n",
       "     \"</code>\\n\"+\n",
       "     \"</div>\"}};\n",
       "\n",
       "  function display_loaded() {\n",
       "    var el = document.getElementById(\"e68ff238-1a69-4a87-bcc0-de10272e1c32\");\n",
       "    if (el != null) {\n",
       "      el.textContent = \"BokehJS is loading...\";\n",
       "    }\n",
       "    if (root.Bokeh !== undefined) {\n",
       "      if (el != null) {\n",
       "        el.textContent = \"BokehJS \" + root.Bokeh.version + \" successfully loaded.\";\n",
       "      }\n",
       "    } else if (Date.now() < root._bokeh_timeout) {\n",
       "      setTimeout(display_loaded, 100)\n",
       "    }\n",
       "  }\n",
       "\n",
       "\n",
       "  function run_callbacks() {\n",
       "    try {\n",
       "      root._bokeh_onload_callbacks.forEach(function(callback) { callback() });\n",
       "    }\n",
       "    finally {\n",
       "      delete root._bokeh_onload_callbacks\n",
       "    }\n",
       "    console.info(\"Bokeh: all callbacks have finished\");\n",
       "  }\n",
       "\n",
       "  function load_libs(js_urls, callback) {\n",
       "    root._bokeh_onload_callbacks.push(callback);\n",
       "    if (root._bokeh_is_loading > 0) {\n",
       "      console.log(\"Bokeh: BokehJS is being loaded, scheduling callback at\", now());\n",
       "      return null;\n",
       "    }\n",
       "    if (js_urls == null || js_urls.length === 0) {\n",
       "      run_callbacks();\n",
       "      return null;\n",
       "    }\n",
       "    console.log(\"Bokeh: BokehJS not loaded, scheduling load and callback at\", now());\n",
       "    root._bokeh_is_loading = js_urls.length;\n",
       "    for (var i = 0; i < js_urls.length; i++) {\n",
       "      var url = js_urls[i];\n",
       "      var s = document.createElement('script');\n",
       "      s.src = url;\n",
       "      s.async = false;\n",
       "      s.onreadystatechange = s.onload = function() {\n",
       "        root._bokeh_is_loading--;\n",
       "        if (root._bokeh_is_loading === 0) {\n",
       "          console.log(\"Bokeh: all BokehJS libraries loaded\");\n",
       "          run_callbacks()\n",
       "        }\n",
       "      };\n",
       "      s.onerror = function() {\n",
       "        console.warn(\"failed to load library \" + url);\n",
       "      };\n",
       "      console.log(\"Bokeh: injecting script tag for BokehJS library: \", url);\n",
       "      document.getElementsByTagName(\"head\")[0].appendChild(s);\n",
       "    }\n",
       "  };var element = document.getElementById(\"e68ff238-1a69-4a87-bcc0-de10272e1c32\");\n",
       "  if (element == null) {\n",
       "    console.log(\"Bokeh: ERROR: autoload.js configured with elementid 'e68ff238-1a69-4a87-bcc0-de10272e1c32' but no matching script tag was found. \")\n",
       "    return false;\n",
       "  }\n",
       "\n",
       "  var js_urls = [\"https://cdn.pydata.org/bokeh/release/bokeh-0.12.16.min.js\", \"https://cdn.pydata.org/bokeh/release/bokeh-widgets-0.12.16.min.js\", \"https://cdn.pydata.org/bokeh/release/bokeh-tables-0.12.16.min.js\", \"https://cdn.pydata.org/bokeh/release/bokeh-gl-0.12.16.min.js\"];\n",
       "\n",
       "  var inline_js = [\n",
       "    function(Bokeh) {\n",
       "      Bokeh.set_log_level(\"info\");\n",
       "    },\n",
       "    \n",
       "    function(Bokeh) {\n",
       "      \n",
       "    },\n",
       "    function(Bokeh) {\n",
       "      console.log(\"Bokeh: injecting CSS: https://cdn.pydata.org/bokeh/release/bokeh-0.12.16.min.css\");\n",
       "      Bokeh.embed.inject_css(\"https://cdn.pydata.org/bokeh/release/bokeh-0.12.16.min.css\");\n",
       "      console.log(\"Bokeh: injecting CSS: https://cdn.pydata.org/bokeh/release/bokeh-widgets-0.12.16.min.css\");\n",
       "      Bokeh.embed.inject_css(\"https://cdn.pydata.org/bokeh/release/bokeh-widgets-0.12.16.min.css\");\n",
       "      console.log(\"Bokeh: injecting CSS: https://cdn.pydata.org/bokeh/release/bokeh-tables-0.12.16.min.css\");\n",
       "      Bokeh.embed.inject_css(\"https://cdn.pydata.org/bokeh/release/bokeh-tables-0.12.16.min.css\");\n",
       "    }\n",
       "  ];\n",
       "\n",
       "  function run_inline_js() {\n",
       "    \n",
       "    if ((root.Bokeh !== undefined) || (force === true)) {\n",
       "      for (var i = 0; i < inline_js.length; i++) {\n",
       "        inline_js[i].call(root, root.Bokeh);\n",
       "      }if (force === true) {\n",
       "        display_loaded();\n",
       "      }} else if (Date.now() < root._bokeh_timeout) {\n",
       "      setTimeout(run_inline_js, 100);\n",
       "    } else if (!root._bokeh_failed_load) {\n",
       "      console.log(\"Bokeh: BokehJS failed to load within specified timeout.\");\n",
       "      root._bokeh_failed_load = true;\n",
       "    } else if (force !== true) {\n",
       "      var cell = $(document.getElementById(\"e68ff238-1a69-4a87-bcc0-de10272e1c32\")).parents('.cell').data().cell;\n",
       "      cell.output_area.append_execute_result(NB_LOAD_WARNING)\n",
       "    }\n",
       "\n",
       "  }\n",
       "\n",
       "  if (root._bokeh_is_loading === 0) {\n",
       "    console.log(\"Bokeh: BokehJS loaded, going straight to plotting\");\n",
       "    run_inline_js();\n",
       "  } else {\n",
       "    load_libs(js_urls, function() {\n",
       "      console.log(\"Bokeh: BokehJS plotting callback run at\", now());\n",
       "      run_inline_js();\n",
       "    });\n",
       "  }\n",
       "}(window));"
      ],
      "application/vnd.bokehjs_load.v0+json": "\n(function(root) {\n  function now() {\n    return new Date();\n  }\n\n  var force = true;\n\n  if (typeof (root._bokeh_onload_callbacks) === \"undefined\" || force === true) {\n    root._bokeh_onload_callbacks = [];\n    root._bokeh_is_loading = undefined;\n  }\n\n  \n\n  \n  if (typeof (root._bokeh_timeout) === \"undefined\" || force === true) {\n    root._bokeh_timeout = Date.now() + 5000;\n    root._bokeh_failed_load = false;\n  }\n\n  var NB_LOAD_WARNING = {'data': {'text/html':\n     \"<div style='background-color: #fdd'>\\n\"+\n     \"<p>\\n\"+\n     \"BokehJS does not appear to have successfully loaded. If loading BokehJS from CDN, this \\n\"+\n     \"may be due to a slow or bad network connection. Possible fixes:\\n\"+\n     \"</p>\\n\"+\n     \"<ul>\\n\"+\n     \"<li>re-rerun `output_notebook()` to attempt to load from CDN again, or</li>\\n\"+\n     \"<li>use INLINE resources instead, as so:</li>\\n\"+\n     \"</ul>\\n\"+\n     \"<code>\\n\"+\n     \"from bokeh.resources import INLINE\\n\"+\n     \"output_notebook(resources=INLINE)\\n\"+\n     \"</code>\\n\"+\n     \"</div>\"}};\n\n  function display_loaded() {\n    var el = document.getElementById(\"e68ff238-1a69-4a87-bcc0-de10272e1c32\");\n    if (el != null) {\n      el.textContent = \"BokehJS is loading...\";\n    }\n    if (root.Bokeh !== undefined) {\n      if (el != null) {\n        el.textContent = \"BokehJS \" + root.Bokeh.version + \" successfully loaded.\";\n      }\n    } else if (Date.now() < root._bokeh_timeout) {\n      setTimeout(display_loaded, 100)\n    }\n  }\n\n\n  function run_callbacks() {\n    try {\n      root._bokeh_onload_callbacks.forEach(function(callback) { callback() });\n    }\n    finally {\n      delete root._bokeh_onload_callbacks\n    }\n    console.info(\"Bokeh: all callbacks have finished\");\n  }\n\n  function load_libs(js_urls, callback) {\n    root._bokeh_onload_callbacks.push(callback);\n    if (root._bokeh_is_loading > 0) {\n      console.log(\"Bokeh: BokehJS is being loaded, scheduling callback at\", now());\n      return null;\n    }\n    if (js_urls == null || js_urls.length === 0) {\n      run_callbacks();\n      return null;\n    }\n    console.log(\"Bokeh: BokehJS not loaded, scheduling load and callback at\", now());\n    root._bokeh_is_loading = js_urls.length;\n    for (var i = 0; i < js_urls.length; i++) {\n      var url = js_urls[i];\n      var s = document.createElement('script');\n      s.src = url;\n      s.async = false;\n      s.onreadystatechange = s.onload = function() {\n        root._bokeh_is_loading--;\n        if (root._bokeh_is_loading === 0) {\n          console.log(\"Bokeh: all BokehJS libraries loaded\");\n          run_callbacks()\n        }\n      };\n      s.onerror = function() {\n        console.warn(\"failed to load library \" + url);\n      };\n      console.log(\"Bokeh: injecting script tag for BokehJS library: \", url);\n      document.getElementsByTagName(\"head\")[0].appendChild(s);\n    }\n  };var element = document.getElementById(\"e68ff238-1a69-4a87-bcc0-de10272e1c32\");\n  if (element == null) {\n    console.log(\"Bokeh: ERROR: autoload.js configured with elementid 'e68ff238-1a69-4a87-bcc0-de10272e1c32' but no matching script tag was found. \")\n    return false;\n  }\n\n  var js_urls = [\"https://cdn.pydata.org/bokeh/release/bokeh-0.12.16.min.js\", \"https://cdn.pydata.org/bokeh/release/bokeh-widgets-0.12.16.min.js\", \"https://cdn.pydata.org/bokeh/release/bokeh-tables-0.12.16.min.js\", \"https://cdn.pydata.org/bokeh/release/bokeh-gl-0.12.16.min.js\"];\n\n  var inline_js = [\n    function(Bokeh) {\n      Bokeh.set_log_level(\"info\");\n    },\n    \n    function(Bokeh) {\n      \n    },\n    function(Bokeh) {\n      console.log(\"Bokeh: injecting CSS: https://cdn.pydata.org/bokeh/release/bokeh-0.12.16.min.css\");\n      Bokeh.embed.inject_css(\"https://cdn.pydata.org/bokeh/release/bokeh-0.12.16.min.css\");\n      console.log(\"Bokeh: injecting CSS: https://cdn.pydata.org/bokeh/release/bokeh-widgets-0.12.16.min.css\");\n      Bokeh.embed.inject_css(\"https://cdn.pydata.org/bokeh/release/bokeh-widgets-0.12.16.min.css\");\n      console.log(\"Bokeh: injecting CSS: https://cdn.pydata.org/bokeh/release/bokeh-tables-0.12.16.min.css\");\n      Bokeh.embed.inject_css(\"https://cdn.pydata.org/bokeh/release/bokeh-tables-0.12.16.min.css\");\n    }\n  ];\n\n  function run_inline_js() {\n    \n    if ((root.Bokeh !== undefined) || (force === true)) {\n      for (var i = 0; i < inline_js.length; i++) {\n        inline_js[i].call(root, root.Bokeh);\n      }if (force === true) {\n        display_loaded();\n      }} else if (Date.now() < root._bokeh_timeout) {\n      setTimeout(run_inline_js, 100);\n    } else if (!root._bokeh_failed_load) {\n      console.log(\"Bokeh: BokehJS failed to load within specified timeout.\");\n      root._bokeh_failed_load = true;\n    } else if (force !== true) {\n      var cell = $(document.getElementById(\"e68ff238-1a69-4a87-bcc0-de10272e1c32\")).parents('.cell').data().cell;\n      cell.output_area.append_execute_result(NB_LOAD_WARNING)\n    }\n\n  }\n\n  if (root._bokeh_is_loading === 0) {\n    console.log(\"Bokeh: BokehJS loaded, going straight to plotting\");\n    run_inline_js();\n  } else {\n    load_libs(js_urls, function() {\n      console.log(\"Bokeh: BokehJS plotting callback run at\", now());\n      run_inline_js();\n    });\n  }\n}(window));"
     },
     "metadata": {},
     "output_type": "display_data"
    }
   ],
   "source": [
    "output_notebook()"
   ]
  },
  {
   "cell_type": "code",
   "execution_count": 17,
   "metadata": {
    "collapsed": true
   },
   "outputs": [],
   "source": [
    "'''\n",
    "Get the clirad-lw and lblnew `param`s for all spectral bands.  \n",
    "These are returned by functions `clirad_params_atm` and\n",
    "`lblnew_params_atm`, respectively.\n",
    "'''\n",
    "\n",
    "def molecules_byband_atm():\n",
    "    return {1: {'h2o': 'atmpro'},\n",
    "            2: {'h2o': 'atmpro'}, \n",
    "            3: {'co2': 0.0004, 'h2o': 'atmpro', 'n2o': 3.2e-07},\n",
    "            4: {'co2': 0.0004, 'h2o': 'atmpro'},\n",
    "            5: {'co2': 0.0004, 'h2o': 'atmpro'},\n",
    "            6: {'co2': 0.0004, 'h2o': 'atmpro'},\n",
    "            7: {'co2': 0.0004, 'h2o': 'atmpro', 'o3': 'atmpro'},\n",
    "            8: {'h2o': 'atmpro'},\n",
    "            9: {'ch4': 1.8e-06, 'h2o': 'atmpro', 'n2o': 3.2e-07},\n",
    "            10: {'h2o': 'atmpro'},\n",
    "            11: {'co2': 0.0004, 'h2o': 'atmpro'}}\n",
    "\n",
    "\n",
    "def greyabsorbers_by_band_atm():\n",
    "    return {1: {'con': 'atmpro'},\n",
    "            2: {'con': 'atmpro'},\n",
    "            3: {'con': 'atmpro'},\n",
    "            4: {'con': 'atmpro'},\n",
    "            5: {'con': 'atmpro'},\n",
    "            6: {'con': 'atmpro'}, \n",
    "            7: {'con': 'atmpro'},\n",
    "            8: {'con': 'atmpro', 'n2o': 3.2e-7}, \n",
    "            9: {'con': 'atmpro'}, \n",
    "            10: None,\n",
    "            11: None}\n",
    "\n",
    "\n",
    "def clirad_params_atm(atmpro='mls'):\n",
    "    d = {}\n",
    "    for band, molecule in molecules_byband_atm().items():\n",
    "        for param in setup_cliradlw.test_cases():\n",
    "            if [band] == param['band'] and molecule == param['molecule']:\n",
    "                param['atmpro'] = atmpro\n",
    "                d[band] = param\n",
    "                break                \n",
    "    return d\n",
    "\n",
    "\n",
    "def clirad_params_atm_singlerun(atmpro='mls'):\n",
    "    '''\n",
    "    Returns param of clirad-lw run that is equivalent to the total\n",
    "    of all the runs listed in molecules_byband_atm().  In order\n",
    "    for the output to be compatible with clirad_data_atm(), it will\n",
    "    be a list.\n",
    "    '''\n",
    "    param0 = {'band': [1, 2, 3, 4, 5, 6, 7, 8, 9, 10, 11],\n",
    "              'commitnumber': '1723552',\n",
    "              'molecule': {'ch4': 1.8e-06,\n",
    "                           'co2': 0.0004,\n",
    "                           'h2o': 'atmpro',\n",
    "                           'n2o': 3.2e-07,\n",
    "                           'o3': 'atmpro'}}\n",
    "    \n",
    "    d_atmpros = {'mls': 294, 'saw': 257, 'trp': 300}\n",
    "    \n",
    "    param = param0.copy()\n",
    "    param['atmpro'] = atmpro\n",
    "    param['tsfc'] = d_atmpros[atmpro]\n",
    "    \n",
    "    d = {}\n",
    "    d['all'] = param\n",
    "    return d\n",
    "\n",
    "\n",
    "def analysis_dirs_atm(atmpro='mls'):\n",
    "    params = clirad_params_atm(atmpro=atmpro)\n",
    "    return {band: pipe_cliradlw.get_analysis_dir(param=param,\n",
    "                                                 setup=setup_cliradlw) \n",
    "            for band, param in params.items()}\n",
    "\n",
    "\n",
    "def lblnew_params_atm(atmpro='mls'):\n",
    "    dirs = analysis_dirs_atm(atmpro=atmpro)\n",
    "    \n",
    "    d = {}\n",
    "    for band, dirname in dirs.items():\n",
    "        with open(os.path.join(dirname, 'param.py'), \n",
    "                  mode='r', encoding='utf-8') as f:\n",
    "            _, l = f.readlines()\n",
    "        \n",
    "        s = l.split('=')[1].strip()\n",
    "        d[band] = ast.literal_eval(s)\n",
    "        \n",
    "    return d\n"
   ]
  },
  {
   "cell_type": "code",
   "execution_count": 18,
   "metadata": {
    "collapsed": true
   },
   "outputs": [],
   "source": [
    "def db_getdir():\n",
    "    atmpro = 'mls'\n",
    "    params = clirad_params_atm_singlerun(atmpro=atmpro)\n",
    "    param = params['all']\n",
    "    \n",
    "    fdir = pipe_cliradlw.get_fortran_dir(param=param, \n",
    "                                         setup=setup_cliradlw)\n",
    "    return fdir\n",
    "\n",
    "\n",
    "def db_ktable():\n",
    "    fdir = db_getdir()    \n",
    "    fpath = os.path.join(fdir, 'ktable.dat')\n",
    "    \n",
    "    df = pd.read_csv(fpath, sep=r'\\s+')\n",
    "    df = df.set_index(['band', 'mid', 'il', 'it', 'g'])\n",
    "    ds = xr.Dataset.from_dataframe(df)\n",
    "    return ds\n",
    "\n",
    "\n",
    "def db_ng_dgs():\n",
    "    fdir = db_getdir()\n",
    "    fpath = os.path.join(fdir, 'ng_dgs.dat')\n",
    "    \n",
    "    df = pd.read_csv(fpath, sep=r'\\s+')\n",
    "    df = df.set_index(['band', 'mid', 'g'])\n",
    "    ds = xr.Dataset.from_dataframe(df)\n",
    "    return ds\n"
   ]
  },
  {
   "cell_type": "code",
   "execution_count": 19,
   "metadata": {
    "collapsed": true
   },
   "outputs": [],
   "source": [
    "def show_makeup():\n",
    "    df = pd.DataFrame()\n",
    "\n",
    "    for band, molecule in molecules_byband_atm().items():\n",
    "        for name, conc in molecule.items():\n",
    "            df.loc[name, band] = str(conc)\n",
    "\n",
    "    df = df.fillna(0)\n",
    "    df.columns.name = 'clirad band'\n",
    "    df.index.name = 'molecule'\n",
    "    \n",
    "    display.display(df)\n",
    "    \n",
    "    display.display(\n",
    "        display.Markdown('*TABLE.* Non-grey absorbers in the atmosphere.'))\n",
    "\n",
    "\n",
    "def show_grey_makeup():\n",
    "    df = pd.DataFrame()\n",
    "    \n",
    "    for band, molecule in greyabsorbers_by_band_atm().items():\n",
    "        if molecule == None:\n",
    "            pass\n",
    "        else:\n",
    "            for name, conc in molecule.items():\n",
    "                df.loc[name, band] = str(conc)\n",
    "                \n",
    "    df = df.fillna(0)\n",
    "    df.columns.name = 'clirad band'\n",
    "    df.index.name = 'absorber'\n",
    "    \n",
    "    display.display(df)\n",
    "    display.display(\n",
    "        display.Markdown('*TABLE.* Grey absorbers in the atmosphere.')\n",
    "    )"
   ]
  },
  {
   "cell_type": "code",
   "execution_count": 20,
   "metadata": {
    "collapsed": true
   },
   "outputs": [],
   "source": [
    "def load_output_file(path_csv):\n",
    "    '''\n",
    "    Load lblnew output .csv file to xarray.Dataset\n",
    "    \n",
    "    Parameters\n",
    "    ----------\n",
    "    path_csv: str\n",
    "              Path to the .csv file to be loaded.\n",
    "    ds: xarray.Dataset\n",
    "        Data in the input file in the form of an xarray.Dataset.\n",
    "    '''\n",
    "    toindex = ['band', 'pressure', 'igg', 'g']    \n",
    "    df = pd.read_csv(path_csv, sep=r'\\s+')\n",
    "    df = df.set_index([i for i in toindex if i in df.columns])\n",
    "    df = df.rename(columns={'sfu': 'flug',\n",
    "                            'sfd': 'fldg',\n",
    "                            'fnet': 'fnetg',\n",
    "                            'coolr': 'coolrg'})\n",
    "    ds = xr.Dataset.from_dataframe(df)\n",
    "\n",
    "    for l in ('level', 'layer'):\n",
    "        if l in ds.data_vars:\n",
    "            if len(ds[l].dims) > 1:\n",
    "                surface = {d: 0 for d in ds.dims if d != 'pressure'}\n",
    "                coord_level = ds[l][surface]\n",
    "                ds.coords[l] = ('pressure', coord_level)\n",
    "            else:\n",
    "                ds.coords[l] = ('pressure', ds[l])\n",
    "    \n",
    "    return ds"
   ]
  },
  {
   "cell_type": "code",
   "execution_count": 21,
   "metadata": {
    "collapsed": true
   },
   "outputs": [],
   "source": [
    "def lblnew_setup(param=None):\n",
    "    if 'ng_refs' in param:\n",
    "        return {'setup': setup_bestfit,\n",
    "                'fname_flux_crd': 'output_flux.dat',\n",
    "                'fname_cool_crd': 'output_coolr.dat',\n",
    "                'fname_flux_wgt': 'output_wfluxg.dat',\n",
    "                'fname_cool_wgt': 'output_wcoolrg.dat'}\n",
    "    else:\n",
    "        return {'setup': setup_overlap,\n",
    "                'fname_flux_crd': 'output_flux.dat',\n",
    "                'fname_cool_crd': 'output_coolr.dat',\n",
    "                'fname_flux_wgt': 'output_wflux.dat',\n",
    "                'fname_cool_wgt': 'output_wcoolr.dat'}\n",
    "\n",
    "    \n",
    "def load_lblnew_data(param):\n",
    "    \n",
    "    fname_dsname = [('fname_flux_crd', 'ds_flux_crd'),\n",
    "                    ('fname_cool_crd', 'ds_cool_crd'),\n",
    "                    ('fname_flux_wgt', 'ds_flux_wgt'),\n",
    "                    ('fname_cool_wgt', 'ds_cool_wgt')]\n",
    "    \n",
    "    d = lblnew_setup(param)\n",
    "    dir_fortran = pipe_lblnew.get_dir_case(param, setup=d['setup'])\n",
    "    \n",
    "    data_dict = {}\n",
    "    for fname, dsname in fname_dsname:\n",
    "        fpath = os.path.join(dir_fortran, d[fname])\n",
    "        data_dict[dsname] = load_output_file(fpath)\n",
    "    return data_dict"
   ]
  },
  {
   "cell_type": "code",
   "execution_count": 22,
   "metadata": {
    "collapsed": true
   },
   "outputs": [],
   "source": [
    "def crd_data_atm(params_atm):\n",
    "    '''\n",
    "    Parameters\n",
    "    ----------\n",
    "    \n",
    "    params_atm: dict\n",
    "                Parameter dictionary for each band.\n",
    "                \n",
    "    d: dict\n",
    "       'flux': xr.Dataset. [pressure, band]\n",
    "               Fluxes.\n",
    "       'cool': xr.Dataset. [pressure, band]\n",
    "               Cooling rate.\n",
    "    \n",
    "    '''\n",
    "    \n",
    "    results_atm = {band: load_lblnew_data(param) \n",
    "                   for band, param in params_atm.items()}\n",
    "    \n",
    "    bands = [band for band, _ in params_atm.items()]\n",
    "    fluxs = [d['ds_flux_crd'] for _, d in results_atm.items()]\n",
    "    cools = [d['ds_cool_crd'] for _, d in results_atm.items()]\n",
    "    \n",
    "    d = {}\n",
    "    d['flux'] = xr.concat(fluxs, dim=bands).rename({'concat_dim': 'band'})\n",
    "    d['cool'] = xr.concat(cools, dim=bands).rename({'concat_dim': 'band'})\n",
    "    return d        \n",
    "        \n",
    "        \n",
    "\n",
    "def clirad_data_atm(params_atm):\n",
    "    \n",
    "    dirnames = [pipe_cliradlw.get_fortran_dir(param,\n",
    "                                              setup=setup_cliradlw)\n",
    "                for _, param in params_atm.items()]\n",
    "    \n",
    "    fpaths_flux = [os.path.join(n, 'output_flux.dat') for n in dirnames]\n",
    "    fpaths_cool = [os.path.join(n, 'output_coolr.dat') for n in dirnames]\n",
    "    \n",
    "    fluxs = [load_output_file(p) for p in fpaths_flux]    \n",
    "    cools = [load_output_file(p) for p in fpaths_cool]\n",
    "    \n",
    "    d = {}\n",
    "    d['flux'] = sum(fluxs)\n",
    "    d['cool'] = sum(cools)\n",
    "    return d\n",
    "\n"
   ]
  },
  {
   "cell_type": "code",
   "execution_count": 23,
   "metadata": {
    "collapsed": true
   },
   "outputs": [],
   "source": [
    "\n",
    "\n",
    "import rtmtools.clirad.sw.wrangle as cliradwrangle\n",
    "\n",
    "import importlib\n",
    "importlib.reload(cliradwrangle)\n",
    "\n",
    "def oldclirad_data_atm():\n",
    "    '''\n",
    "    Load the OLD clirad's results. mls only.\n",
    "    '''\n",
    "    fpath = os.path.join('/chia_cluster/home/jackyu/radiation',\n",
    "                         'clirad-lw',\n",
    "                         'LW',\n",
    "                         'examples',\n",
    "                         'mls75_h2o_atmpro_co2_.0004_o3_atmpro_n2o_3.2e-7_ch4_1.8e-6_H2012',\n",
    "                         'OUTPUT_CLIRAD.dat')\n",
    "    \n",
    "    ds = cliradwrangle.load_OUTPUT_CLIRAD(readfrom=fpath)\n",
    "    \n",
    "    ds_cool = xr.Dataset()\n",
    "    ds_cool.coords['pressure'] = ('pressure', ds['layer_pressure'])\n",
    "    ds_cool.coords['band'] = ('band', ds['spectral_band'])\n",
    "    ds_cool['coolrg'] = (('band', 'pressure'), - ds['heating_rate'])\n",
    "    \n",
    "    ds_flux = xr.Dataset()\n",
    "    ds_flux.coords['pressure'] = ('pressure', ds['level_pressure'])\n",
    "    ds_flux.coords['band'] = ('band', ds['spectral_band'])\n",
    "    ds_flux['flug'] = (('band', 'pressure'), ds['flux_up'])\n",
    "    ds_flux['fldg'] = (('band', 'pressure'), ds['flux_down'])\n",
    "    ds_flux['fnetg'] = (('band', 'pressure'), ds['net_flux'])\n",
    "    \n",
    "    \n",
    "    d = {}\n",
    "    d['cool'] = ds_cool\n",
    "    d['flux'] = ds_flux\n",
    "    return d\n"
   ]
  },
  {
   "cell_type": "code",
   "execution_count": 24,
   "metadata": {
    "collapsed": true
   },
   "outputs": [],
   "source": [
    "def fmt_cool(ds_in):\n",
    "    ds = ds_in.copy(deep=True)\n",
    "    if 'igg' in ds.dims:\n",
    "        ds = ds.sel(igg=1)\n",
    "\n",
    "    if 'g' in ds.dims:\n",
    "        ds = ds.sum('g')\n",
    "            \n",
    "    if 'band' in ds.dims:\n",
    "        try:\n",
    "            ds = ds.squeeze('band')\n",
    "        except ValueError:\n",
    "            ds = ds.sum('band')\n",
    "                \n",
    "    return ds['coolrg']\n",
    "\n",
    "\n",
    "\n",
    "def nice_xlims(pltdata=None, prange=None):\n",
    "    \n",
    "    def get_slice(srs):\n",
    "        return srs.sel(pressure=slice(*prange))\n",
    "    \n",
    "    srss = [d['srs'] for d in pltdata]\n",
    "    vmin = min([get_slice(srs).min() for srs in srss])\n",
    "    vmax = max([get_slice(srs).max() for srs in srss])\n",
    "    dv = (vmax - vmin) * .01\n",
    "    return float(vmin - dv), float(vmax + dv)\n",
    "\n",
    "\n",
    "    \n",
    "def plt_cool_bokeh(pltdata=None, \n",
    "                   y_axis_type='linear', prange=(50, 1050)):\n",
    "    \n",
    "    ymin = 1e-2 \n",
    "    ymax = 1020\n",
    "    \n",
    "    p2 = figure(y_axis_type=y_axis_type, plot_width=300)\n",
    "    xmin, xmax = nice_xlims(pltdata, prange=prange)\n",
    "    \n",
    "    rs = []\n",
    "    for d in pltdata:\n",
    "        rd = []\n",
    "        if 'marker' in d:\n",
    "            r_mark = getattr(p2, d['marker'])(d['srs'].values, \n",
    "                        d['srs'].coords['pressure'].values,\n",
    "                        color=d['color'], alpha=.7)\n",
    "            rd.append(r_mark)\n",
    "        r_line = p2.line(d['srs'].values, \n",
    "                         d['srs'].coords['pressure'].values,\n",
    "                         color=d['color'], alpha=d['alpha'], \n",
    "                         line_width=d['line_width'], \n",
    "                         line_dash=d['line_dash'])\n",
    "        rd.append(r_line)\n",
    "      \n",
    "        rs.append(rd)\n",
    "        \n",
    "    p2.y_range = Range1d(ymax, ymin)  \n",
    "    p2.yaxis.axis_label = 'pressure [mb]'\n",
    "    \n",
    "    p2.x_range = Range1d(xmin, xmax)\n",
    "    p2.xaxis.axis_label = 'cooling rate [K/day]'\n",
    "    \n",
    "    items = [(d['label'], r) for r, d in zip(rs, pltdata)]\n",
    "    legend = Legend(items=items, location=(10, 0))\n",
    "    legend.label_text_font_size = '8pt'\n",
    "    p2.add_layout(legend, 'above')\n",
    "    p2.legend.orientation = 'horizontal'\n",
    "    p2.legend.location = 'top_center'\n",
    "    \n",
    "    return p2"
   ]
  },
  {
   "cell_type": "code",
   "execution_count": 25,
   "metadata": {
    "collapsed": true
   },
   "outputs": [],
   "source": [
    "def pltdata_cool(atmpro='mls'):\n",
    "    \n",
    "    d_clirad_singlerun = clirad_data_atm(\n",
    "        clirad_params_atm_singlerun(atmpro=atmpro))\n",
    "    d_clirad = clirad_data_atm(clirad_params_atm(atmpro=atmpro))\n",
    "    d_crd = crd_data_atm(lblnew_params_atm(atmpro=atmpro))\n",
    "\n",
    "    ds_clirad_singlerun = d_clirad_singlerun['cool']\n",
    "    ds_clirad = d_clirad['cool']\n",
    "    ds_crd = d_crd['cool']\n",
    "\n",
    "    colors = all_palettes['Set1'][4]\n",
    "    \n",
    "    data = [\n",
    "        {'label': 'CLIRAD (single-run)',\n",
    "        'srs': fmt_cool(ds_clirad_singlerun),\n",
    "        'line_dash': 'dashed', 'line_width': 5,\n",
    "        'color': colors[1], 'alpha': .6},\n",
    "        {'label': 'CRD',\n",
    "         'srs': fmt_cool(ds_crd),\n",
    "         'line_dash': 'solid', 'line_width': 1.5,\n",
    "         'marker': 'circle', 'marker_size': 5,\n",
    "         'color': colors[2], 'alpha': 1}\n",
    "    ]\n",
    "#        {'label': 'CLIRAD',\n",
    "#         'srs': fmt_cool(ds_clirad),\n",
    "#         'line_dash': 'dashed', 'line_width': 5,\n",
    "#         'color': colors[0], 'alpha': .6}\n",
    "        \n",
    "\n",
    "    \n",
    "    # include old CLIRAD's results for mls profile\n",
    "    if atmpro == 'mls':\n",
    "        d_oldclirad = oldclirad_data_atm()\n",
    "        ds_oldclirad = d_oldclirad['cool']        \n",
    "        data.append(\n",
    "            {'label': 'old CLIRAD (H2012)',\n",
    "             'srs': fmt_cool(ds_oldclirad),\n",
    "             'line_dash': 'solid', 'line_width': 1.5,\n",
    "             'marker': 'square', 'marker_size': 3,\n",
    "             'color': colors[3], 'alpha': .5})\n",
    "    return data\n",
    "\n",
    "\n",
    "def pltdata_cooldiff(atmpro='mls'):\n",
    "    \n",
    "    d_clirad_singlerun = clirad_data_atm(\n",
    "        clirad_params_atm_singlerun(atmpro=atmpro))\n",
    "    d_clirad = clirad_data_atm(clirad_params_atm(atmpro=atmpro))\n",
    "    d_crd = crd_data_atm(lblnew_params_atm(atmpro=atmpro))\n",
    "    \n",
    "    ds_clirad_singlerun = d_clirad_singlerun['cool']\n",
    "    ds_clirad = d_clirad['cool']\n",
    "    ds_crd = d_crd['cool']\n",
    "    \n",
    "    ds_diff = ds_clirad_singlerun - ds_crd\n",
    "    \n",
    "    colors = all_palettes['Set1'][4]\n",
    "    \n",
    "    data = [\n",
    "        {'label': 'CLIRAD (single-run) - CRD',\n",
    "         'srs': fmt_cool(ds_diff),\n",
    "         'line_dash': 'solid', 'line_width': 1.5, \n",
    "         'marker': 'circle', 'marker_size': 7,\n",
    "         'color': colors[3], 'alpha': .8}\n",
    "    ]\n",
    "    \n",
    "    # include old CLIRAD's results for mls profile\n",
    "    if atmpro == 'mls':\n",
    "        d_oldclirad = oldclirad_data_atm()\n",
    "        ds_oldclirad = d_oldclirad['cool']\n",
    "        ds_oldclirad.coords['pressure'] = ds_crd.coords['pressure']\n",
    "        ds_diff_old = ds_oldclirad.sum('band') - ds_crd.sum('band')\n",
    "        data.append(\n",
    "            {'label': 'old CLIRAD (H2012) - CRD',\n",
    "             'srs': fmt_cool(ds_diff_old),\n",
    "             'line_dash': 'dashed', 'line_width': 4,\n",
    "             'color': colors[1], 'alpha': .5}\n",
    "        )\n",
    "    return data\n",
    "\n",
    "\n",
    "def show_cool(atmpro='mls'):\n",
    "    \n",
    "    data_cool = pltdata_cool(atmpro=atmpro)\n",
    "    p_cool_liny = plt_cool_bokeh(pltdata=data_cool)\n",
    "    p_cool_logy = plt_cool_bokeh(pltdata=data_cool, \n",
    "                                 y_axis_type='log',\n",
    "                                 prange=(.01, 200))\n",
    "    \n",
    "    data_cooldiff = pltdata_cooldiff(atmpro=atmpro)\n",
    "    p_cooldiff_logy = plt_cool_bokeh(pltdata=data_cooldiff,\n",
    "                                     y_axis_type='log',\n",
    "                                     prange=(.01, 200))\n",
    "    \n",
    "    everything = gridplot(p_cool_liny, p_cool_logy, \n",
    "                          p_cooldiff_logy,\n",
    "                          ncols=3)\n",
    "    show(everything)\n",
    "    display.display(\n",
    "        display.Markdown('*FIGURE.* Cooling rates & difference.'))\n",
    "\n",
    "\n",
    "    "
   ]
  },
  {
   "cell_type": "code",
   "execution_count": null,
   "metadata": {
    "collapsed": true
   },
   "outputs": [],
   "source": []
  },
  {
   "cell_type": "code",
   "execution_count": 26,
   "metadata": {
    "collapsed": true,
    "scrolled": false
   },
   "outputs": [],
   "source": [
    "\n",
    "\n",
    "def hist_band_vs_flux(da, title='Title'):\n",
    "       \n",
    "    bands = [str(b.values) for b in da['band']]\n",
    "\n",
    "    source = ColumnDataSource(\n",
    "        data={'band': bands, 'flux': da.values})\n",
    "\n",
    "    p = figure(x_range=bands, title=title)\n",
    "    p.vbar(source=source, x='band', top='flux', width=.9)\n",
    "\n",
    "    p.yaxis.axis_label = 'flux (W m-2)'\n",
    "    p.xaxis.axis_label = 'spectral band'\n",
    "    \n",
    "    return p\n",
    "\n",
    "\n",
    "def show_hist_flux(atmpro='mls'):\n",
    "    ds_crd = crd_data_atm(lblnew_params_atm(atmpro=atmpro))['flux']\n",
    "    ds_clirad = clirad_data_atm(\n",
    "        clirad_params_atm(atmpro=atmpro))['flux']\n",
    "    ds_clirad_singlerun = clirad_data_atm(\n",
    "        clirad_params_atm_singlerun(atmpro=atmpro))['flux']\n",
    "    \n",
    "    ip, varname = 0, 'flug'\n",
    "    da = (ds_clirad_singlerun - ds_crd).isel(pressure=ip)[varname]\n",
    "    p_toa = hist_band_vs_flux(da, \n",
    "        title='TOA flux. CLIRAD (single-run) - CRD.')\n",
    "\n",
    "    ip, varname = -1, 'fldg'\n",
    "    da = (ds_clirad_singlerun - ds_crd).isel(pressure=ip)[varname]\n",
    "    p_sfc = hist_band_vs_flux(da, \n",
    "        title='SFC flux. CLIRAD (single-run) - CRD.')    \n",
    "    \n",
    "    atm_crd = (ds_crd.isel(pressure=0) \n",
    "               - ds_crd.isel(pressure=-1))['fnetg']\n",
    "    atm_clirad_singlerun = (ds_clirad_singlerun.isel(pressure=0) \n",
    "                  - ds_clirad_singlerun.isel(pressure=-1))['fnetg']\n",
    "    da = atm_clirad_singlerun - atm_crd\n",
    "    p_atm = hist_band_vs_flux(da, \n",
    "        title='Atmosphere heating. CLIRAD (single-run) - CRD.')\n",
    "\n",
    "    everything = gridplot(p_toa, p_sfc, p_atm, ncols=3, \n",
    "                          plot_width=300, plot_height=300)\n",
    "    \n",
    "    show(everything)\n",
    "    display.display(\n",
    "        display.Markdown('*FIGURE.* Difference between CLIRAD and CRD'\n",
    "          ' in TOA, SFC and net atmosphere flux,'\n",
    "          ' in each spectral band.'))\n",
    "\n",
    "\n",
    "    \n",
    "def show_tb_flux(atmpro='mls'):\n",
    "    \n",
    "    def fmt(da_in):\n",
    "        da = da_in.copy(deep=True)\n",
    "        if 'igg' in da.dims:\n",
    "            da = da.sel(igg=1)\n",
    "            \n",
    "        if 'g' in da.dims:\n",
    "            da = da.sum('g')\n",
    "        \n",
    "        if 'band' in da.dims:\n",
    "            try:\n",
    "                da = da.squeeze('band')\n",
    "            except ValueError:\n",
    "                da = da.sum('band')\n",
    "                \n",
    "        return da\n",
    "    \n",
    "    ds_crd = crd_data_atm(lblnew_params_atm(atmpro=atmpro))['flux']\n",
    "    olr_crd = ds_crd['flug'].isel(pressure=0)\n",
    "    sfc_crd = ds_crd['fldg'].isel(pressure=-1)\n",
    "    atm_crd = (ds_crd.isel(pressure=0)\n",
    "               - ds_crd.isel(pressure=-1))['fnetg']\n",
    "    \n",
    "    ds_clirad = clirad_data_atm(\n",
    "        clirad_params_atm(atmpro=atmpro))['flux']\n",
    "    olr_clirad = ds_clirad['flug'].isel(pressure=0)\n",
    "    sfc_clirad = ds_clirad['fldg'].isel(pressure=-1)\n",
    "    atm_clirad = (ds_clirad.isel(pressure=0)\n",
    "                  - ds_clirad.isel(pressure=-1))['fnetg']\n",
    "\n",
    "    ds_clirad_singlerun = clirad_data_atm(\n",
    "        clirad_params_atm_singlerun(atmpro=atmpro))['flux']\n",
    "    olr_clirad_singlerun = ds_clirad_singlerun['flug'].isel(pressure=0)\n",
    "    sfc_clirad_singlerun = ds_clirad_singlerun['fldg'].isel(pressure=-1)\n",
    "    atm_clirad_singlerun = (ds_clirad_singlerun.isel(pressure=0)\n",
    "                  - ds_clirad_singlerun.isel(pressure=-1))['fnetg']\n",
    "    \n",
    "    if atmpro == 'mls':\n",
    "        ds_oldclirad = oldclirad_data_atm()['flux']\n",
    "        ds_oldclirad['pressure'] = ds_crd['pressure']\n",
    "        olr_oldclirad = ds_oldclirad['flug'].isel(pressure=0)\n",
    "        sfc_oldclirad = ds_oldclirad['fldg'].isel(pressure=-1)\n",
    "        atm_oldclirad = (ds_oldclirad.isel(pressure=0)\n",
    "                         - ds_oldclirad.isel(pressure=-1))['fnetg']\n",
    "        \n",
    "    \n",
    "    \n",
    "    df = pd.DataFrame()\n",
    "    df.index.name = 'Sum over bands'\n",
    "    \n",
    "    if atmpro == 'mls':\n",
    "        df.loc['old CLIRAD - CRD', \n",
    "               'OLR flux'] = (fmt(olr_oldclirad)\n",
    "                              - fmt(olr_crd)).values\n",
    "        df.loc['old CLIRAD - CRD', \n",
    "               'SFC flux'] = (fmt(sfc_oldclirad)\n",
    "                              - fmt(sfc_crd)).values\n",
    "        df.loc['old CLIRAD - CRD', \n",
    "               'ATM heating'] = (fmt(atm_oldclirad)\n",
    "                                 - fmt(atm_crd)).values\n",
    "    \n",
    "    df.loc['CLIRAD (single-run) - CRD', \n",
    "           'OLR flux'] = (fmt(olr_clirad_singlerun) \n",
    "                          - fmt(olr_crd)).values\n",
    "    df.loc['CLIRAD (single-run) - CRD', \n",
    "           'SFC flux'] = (fmt(sfc_clirad_singlerun) \n",
    "                          - fmt(sfc_crd)).values\n",
    "    df.loc['CLIRAD (single-run) - CRD', \n",
    "           'ATM heating'] = (fmt(atm_clirad_singlerun) \n",
    "                             - fmt(atm_crd)).values\n",
    "\n",
    "    df.loc['CRD', 'OLR flux'] = fmt(olr_crd).values\n",
    "    df.loc['CRD', 'SFC flux'] = fmt(sfc_crd).values\n",
    "    df.loc['CRD', 'ATM heating'] = fmt(atm_crd).values\n",
    "        \n",
    "    df = df.astype('float').round(2)\n",
    "    \n",
    "    display.display(df)\n",
    "    display.display(\n",
    "        display.Markdown('*TABLE.* Difference between CLIRAD and CRD'\n",
    "          ' in TOA, SFC and net atmosphere flux,'\n",
    "          ' over all spectral bands. CRD\\'s'\n",
    "          ' TOA, SFC and net atmosphere flux,'\n",
    "          ' over all spectral bands.'))\n"
   ]
  },
  {
   "cell_type": "code",
   "execution_count": 27,
   "metadata": {
    "scrolled": false
   },
   "outputs": [
    {
     "data": {
      "text/markdown": [
       "## Results over entire range of molecules and spectral bands"
      ],
      "text/plain": [
       "<IPython.core.display.Markdown object>"
      ]
     },
     "metadata": {},
     "output_type": "display_data"
    },
    {
     "data": {
      "text/markdown": [
       "### Table of Contents"
      ],
      "text/plain": [
       "<IPython.core.display.Markdown object>"
      ]
     },
     "metadata": {},
     "output_type": "display_data"
    },
    {
     "data": {
      "text/html": [
       "<a href=\"#Makeup_of_atmosphere.\">Makeup of atmosphere.</a>"
      ],
      "text/plain": [
       "<IPython.core.display.HTML object>"
      ]
     },
     "metadata": {},
     "output_type": "display_data"
    },
    {
     "data": {
      "text/markdown": [
       "**mid-latitude summer**"
      ],
      "text/plain": [
       "<IPython.core.display.Markdown object>"
      ]
     },
     "metadata": {},
     "output_type": "display_data"
    },
    {
     "data": {
      "text/html": [
       "<a href=\"#Cooling_rates._mls.\">Cooling rates. mls.</a>"
      ],
      "text/plain": [
       "<IPython.core.display.HTML object>"
      ]
     },
     "metadata": {},
     "output_type": "display_data"
    },
    {
     "data": {
      "text/html": [
       "<a href=\"#Fluxes._mls.\">Fluxes. mls.</a>"
      ],
      "text/plain": [
       "<IPython.core.display.HTML object>"
      ]
     },
     "metadata": {},
     "output_type": "display_data"
    },
    {
     "data": {
      "text/markdown": [
       "**sub-arctic winter**"
      ],
      "text/plain": [
       "<IPython.core.display.Markdown object>"
      ]
     },
     "metadata": {},
     "output_type": "display_data"
    },
    {
     "data": {
      "text/html": [
       "<a href=\"#Cooling_rates._saw.\">Cooling rates. saw.</a>"
      ],
      "text/plain": [
       "<IPython.core.display.HTML object>"
      ]
     },
     "metadata": {},
     "output_type": "display_data"
    },
    {
     "data": {
      "text/html": [
       "<a href=\"#Fluxes._saw.\">Fluxes. saw.</a>"
      ],
      "text/plain": [
       "<IPython.core.display.HTML object>"
      ]
     },
     "metadata": {},
     "output_type": "display_data"
    },
    {
     "data": {
      "text/markdown": [
       "**tropical**"
      ],
      "text/plain": [
       "<IPython.core.display.Markdown object>"
      ]
     },
     "metadata": {},
     "output_type": "display_data"
    },
    {
     "data": {
      "text/html": [
       "<a href=\"#Cooling_rates._trp.\">Cooling rates. trp.</a>"
      ],
      "text/plain": [
       "<IPython.core.display.HTML object>"
      ]
     },
     "metadata": {},
     "output_type": "display_data"
    },
    {
     "data": {
      "text/html": [
       "<a href=\"#Fluxes._trp.\">Fluxes. trp.</a>"
      ],
      "text/plain": [
       "<IPython.core.display.HTML object>"
      ]
     },
     "metadata": {},
     "output_type": "display_data"
    },
    {
     "data": {
      "text/html": [
       "<a id=\"Makeup_of_atmosphere.\"></a>"
      ],
      "text/plain": [
       "<IPython.core.display.HTML object>"
      ]
     },
     "metadata": {},
     "output_type": "display_data"
    },
    {
     "data": {
      "text/markdown": [
       "# Makeup of atmosphere."
      ],
      "text/plain": [
       "<IPython.core.display.Markdown object>"
      ]
     },
     "metadata": {},
     "output_type": "display_data"
    },
    {
     "data": {
      "text/html": [
       "<div>\n",
       "<style scoped>\n",
       "    .dataframe tbody tr th:only-of-type {\n",
       "        vertical-align: middle;\n",
       "    }\n",
       "\n",
       "    .dataframe tbody tr th {\n",
       "        vertical-align: top;\n",
       "    }\n",
       "\n",
       "    .dataframe thead th {\n",
       "        text-align: right;\n",
       "    }\n",
       "</style>\n",
       "<table border=\"1\" class=\"dataframe\">\n",
       "  <thead>\n",
       "    <tr style=\"text-align: right;\">\n",
       "      <th>clirad band</th>\n",
       "      <th>1</th>\n",
       "      <th>2</th>\n",
       "      <th>3</th>\n",
       "      <th>4</th>\n",
       "      <th>5</th>\n",
       "      <th>6</th>\n",
       "      <th>7</th>\n",
       "      <th>8</th>\n",
       "      <th>9</th>\n",
       "      <th>10</th>\n",
       "      <th>11</th>\n",
       "    </tr>\n",
       "    <tr>\n",
       "      <th>molecule</th>\n",
       "      <th></th>\n",
       "      <th></th>\n",
       "      <th></th>\n",
       "      <th></th>\n",
       "      <th></th>\n",
       "      <th></th>\n",
       "      <th></th>\n",
       "      <th></th>\n",
       "      <th></th>\n",
       "      <th></th>\n",
       "      <th></th>\n",
       "    </tr>\n",
       "  </thead>\n",
       "  <tbody>\n",
       "    <tr>\n",
       "      <th>h2o</th>\n",
       "      <td>atmpro</td>\n",
       "      <td>atmpro</td>\n",
       "      <td>atmpro</td>\n",
       "      <td>atmpro</td>\n",
       "      <td>atmpro</td>\n",
       "      <td>atmpro</td>\n",
       "      <td>atmpro</td>\n",
       "      <td>atmpro</td>\n",
       "      <td>atmpro</td>\n",
       "      <td>atmpro</td>\n",
       "      <td>atmpro</td>\n",
       "    </tr>\n",
       "    <tr>\n",
       "      <th>co2</th>\n",
       "      <td>0</td>\n",
       "      <td>0</td>\n",
       "      <td>0.0004</td>\n",
       "      <td>0.0004</td>\n",
       "      <td>0.0004</td>\n",
       "      <td>0.0004</td>\n",
       "      <td>0.0004</td>\n",
       "      <td>0</td>\n",
       "      <td>0</td>\n",
       "      <td>0</td>\n",
       "      <td>0.0004</td>\n",
       "    </tr>\n",
       "    <tr>\n",
       "      <th>n2o</th>\n",
       "      <td>0</td>\n",
       "      <td>0</td>\n",
       "      <td>3.2e-07</td>\n",
       "      <td>0</td>\n",
       "      <td>0</td>\n",
       "      <td>0</td>\n",
       "      <td>0</td>\n",
       "      <td>0</td>\n",
       "      <td>3.2e-07</td>\n",
       "      <td>0</td>\n",
       "      <td>0</td>\n",
       "    </tr>\n",
       "    <tr>\n",
       "      <th>o3</th>\n",
       "      <td>0</td>\n",
       "      <td>0</td>\n",
       "      <td>0</td>\n",
       "      <td>0</td>\n",
       "      <td>0</td>\n",
       "      <td>0</td>\n",
       "      <td>atmpro</td>\n",
       "      <td>0</td>\n",
       "      <td>0</td>\n",
       "      <td>0</td>\n",
       "      <td>0</td>\n",
       "    </tr>\n",
       "    <tr>\n",
       "      <th>ch4</th>\n",
       "      <td>0</td>\n",
       "      <td>0</td>\n",
       "      <td>0</td>\n",
       "      <td>0</td>\n",
       "      <td>0</td>\n",
       "      <td>0</td>\n",
       "      <td>0</td>\n",
       "      <td>0</td>\n",
       "      <td>1.8e-06</td>\n",
       "      <td>0</td>\n",
       "      <td>0</td>\n",
       "    </tr>\n",
       "  </tbody>\n",
       "</table>\n",
       "</div>"
      ],
      "text/plain": [
       "clirad band      1       2        3       4       5       6       7       8   \\\n",
       "molecule                                                                       \n",
       "h2o          atmpro  atmpro   atmpro  atmpro  atmpro  atmpro  atmpro  atmpro   \n",
       "co2               0       0   0.0004  0.0004  0.0004  0.0004  0.0004       0   \n",
       "n2o               0       0  3.2e-07       0       0       0       0       0   \n",
       "o3                0       0        0       0       0       0  atmpro       0   \n",
       "ch4               0       0        0       0       0       0       0       0   \n",
       "\n",
       "clirad band       9       10      11  \n",
       "molecule                              \n",
       "h2o           atmpro  atmpro  atmpro  \n",
       "co2                0       0  0.0004  \n",
       "n2o          3.2e-07       0       0  \n",
       "o3                 0       0       0  \n",
       "ch4          1.8e-06       0       0  "
      ]
     },
     "metadata": {},
     "output_type": "display_data"
    },
    {
     "data": {
      "text/markdown": [
       "*TABLE.* Non-grey absorbers in the atmosphere."
      ],
      "text/plain": [
       "<IPython.core.display.Markdown object>"
      ]
     },
     "metadata": {},
     "output_type": "display_data"
    },
    {
     "data": {
      "text/html": [
       "<div>\n",
       "<style scoped>\n",
       "    .dataframe tbody tr th:only-of-type {\n",
       "        vertical-align: middle;\n",
       "    }\n",
       "\n",
       "    .dataframe tbody tr th {\n",
       "        vertical-align: top;\n",
       "    }\n",
       "\n",
       "    .dataframe thead th {\n",
       "        text-align: right;\n",
       "    }\n",
       "</style>\n",
       "<table border=\"1\" class=\"dataframe\">\n",
       "  <thead>\n",
       "    <tr style=\"text-align: right;\">\n",
       "      <th>clirad band</th>\n",
       "      <th>1</th>\n",
       "      <th>2</th>\n",
       "      <th>3</th>\n",
       "      <th>4</th>\n",
       "      <th>5</th>\n",
       "      <th>6</th>\n",
       "      <th>7</th>\n",
       "      <th>8</th>\n",
       "      <th>9</th>\n",
       "    </tr>\n",
       "    <tr>\n",
       "      <th>absorber</th>\n",
       "      <th></th>\n",
       "      <th></th>\n",
       "      <th></th>\n",
       "      <th></th>\n",
       "      <th></th>\n",
       "      <th></th>\n",
       "      <th></th>\n",
       "      <th></th>\n",
       "      <th></th>\n",
       "    </tr>\n",
       "  </thead>\n",
       "  <tbody>\n",
       "    <tr>\n",
       "      <th>con</th>\n",
       "      <td>atmpro</td>\n",
       "      <td>atmpro</td>\n",
       "      <td>atmpro</td>\n",
       "      <td>atmpro</td>\n",
       "      <td>atmpro</td>\n",
       "      <td>atmpro</td>\n",
       "      <td>atmpro</td>\n",
       "      <td>atmpro</td>\n",
       "      <td>atmpro</td>\n",
       "    </tr>\n",
       "    <tr>\n",
       "      <th>n2o</th>\n",
       "      <td>0</td>\n",
       "      <td>0</td>\n",
       "      <td>0</td>\n",
       "      <td>0</td>\n",
       "      <td>0</td>\n",
       "      <td>0</td>\n",
       "      <td>0</td>\n",
       "      <td>3.2e-07</td>\n",
       "      <td>0</td>\n",
       "    </tr>\n",
       "  </tbody>\n",
       "</table>\n",
       "</div>"
      ],
      "text/plain": [
       "clirad band       1       2       3       4       5       6       7        8  \\\n",
       "absorber                                                                       \n",
       "con          atmpro  atmpro  atmpro  atmpro  atmpro  atmpro  atmpro   atmpro   \n",
       "n2o               0       0       0       0       0       0       0  3.2e-07   \n",
       "\n",
       "clirad band       9  \n",
       "absorber             \n",
       "con          atmpro  \n",
       "n2o               0  "
      ]
     },
     "metadata": {},
     "output_type": "display_data"
    },
    {
     "data": {
      "text/markdown": [
       "*TABLE.* Grey absorbers in the atmosphere."
      ],
      "text/plain": [
       "<IPython.core.display.Markdown object>"
      ]
     },
     "metadata": {},
     "output_type": "display_data"
    },
    {
     "data": {
      "text/html": [
       "<a id=\"Cooling_rates._mls.\"></a>"
      ],
      "text/plain": [
       "<IPython.core.display.HTML object>"
      ]
     },
     "metadata": {},
     "output_type": "display_data"
    },
    {
     "data": {
      "text/markdown": [
       "# Cooling rates. mls."
      ],
      "text/plain": [
       "<IPython.core.display.Markdown object>"
      ]
     },
     "metadata": {},
     "output_type": "display_data"
    },
    {
     "data": {
      "text/html": [
       "\n",
       "<div class=\"bk-root\">\n",
       "    <div class=\"bk-plotdiv\" id=\"cfcc0368-3464-4928-84e6-1fba1d5c8572\"></div>\n",
       "</div>"
      ]
     },
     "metadata": {},
     "output_type": "display_data"
    },
    {
     "data": {
      "application/javascript": [
       "(function(root) {\n",
       "  function embed_document(root) {\n",
       "    \n",
       "  var docs_json = {\"cd53339e-b613-4b27-b0fd-8f4ffcd9bf2e\":{\"roots\":{\"references\":[{\"attributes\":{\"plot\":{\"id\":\"e99d08ef-8b4e-4181-9d9c-d12981c71698\",\"subtype\":\"Figure\",\"type\":\"Plot\"},\"ticker\":{\"id\":\"8e6a08bf-6cb4-43f3-9031-0af2afb746f5\",\"type\":\"BasicTicker\"}},\"id\":\"80c40ebf-9dd4-4a6f-8a29-27b95024a784\",\"type\":\"Grid\"},{\"attributes\":{},\"id\":\"db9cfe87-b50c-46c2-8a1e-6a7263269b05\",\"type\":\"UnionRenderers\"},{\"attributes\":{\"callback\":null,\"data\":{\"x\":{\"__ndarray__\":\"N+1ApqHYRUAPXe4S8RdDQKin3reS40FArsgSags/QEDHg+QHVEA8QJvReqlRPTdA0QHela7pMUAfcGDMzOUpQNjJGlPlGiJAuYcYiF80GkD7LZFu3d0UQDiptMurthFAv5CmRxtNDUAuquoVBZYDQGUN8egX9vU/8inneqWO+j/ga0IOlzIFQINk8XGvDgtAngO+y4DgEECn6kWJXxcWQOcZDp6//R1AExnAvxnVJEDsD1+9TMwqQIu0yDva+ylAwQUlV89OJEAlPmMpvUcgQGozQY5LZBtA+GbW1fQFFkBNa6Xs4ygRQIwPypF24QtASqHKR3EJCECPMqjDj8wCQBPVMTAZB/o/C4hlFjNH8T+kL/Fenn3nP5QX/kyZ7ts/8sh5/TobzT/NEIlbxE7AP25FfG0p4KK/Uns94Ixcyb/sQshTmnqDv1BLVDvLw+c/dXd1cUV/9z/vF52CQBcAQCXGZogWmAFAohB+JBAHAEDV7qjpEET+P305CsyeIv0/rm7FMExr/D/+q9o8bTz8PzZQwv4CWPw/Qh0npPTu+z95SbNI0XP7Py/QFvqDCPs/l4I3YRC++j/IQ+lPPoj6P0flW6VYhvo/m3IK1YKc+z8PvF+nhn38P2Szwqvn//w/+URl5xf//D9sMMaknF/8P+ZAVkHaSPs/Lr/nkcwY+j8TsZGu1QL5P2RQFktEcfg/mwZekKFB+D8TWW7gQz74P1bkCgFWvfc/7TR0TzlL+T//JxXKzwD4Pz4UtGkmAPc/3CeVIlF29j9DIil9M5r2PwnVsicUOf0/\",\"dtype\":\"float64\",\"shape\":[75]},\"y\":{\"__ndarray__\":\"GhExyth1ND/Sv8nbtpRIP2vylNV0PVE/aTum7souWD/At0SJ8fVgPw3Iuahxymc/MSNhhJWvcD/bTfBN02d3P2zb5nxnaoA/CD5h5MAGhz8NmeH1TyaQP+zrCsc9p5Y/LbKd76fGnz/bLW5ISEmmPww9YvTcQq8/JV2OstnstT8Er5Y7M8G+P0c+r3jqkcU/5h99k6ZBzj88bCIzFzjVP4enV8oyxN0//yH99nXg5D8qOpLLf0jtP5kqGJXUifQ/c9cS8kHP/D+/DpwzojQEQIEmwoanVwxA4lgXt9HgE0BSSZ2AJuIbQAMJih9jjiNA5q4l5INuK0AwTKYKRj0zQNv5fmq8/DpAaCJseHrtQkB/+zpwzoxKQM3MzMzMeFJAZmZmZmZqWEAAAAAAAFxeQM3MzMzMJmJAmpmZmZkfZUBmZmZmZhhoQDMzMzMzEWtAAAAAAAAKbkBmZmZmZoFwQM3MzMzM/XFAMzMzMzN6c0CamZmZmfZ0QAAAAAAAc3ZAZmZmZmbvd0DNzMzMzGt5QDMzMzMz6HpAmpmZmZlkfEAAAAAAAOF9QGZmZmZmXX9AZmZmZuZsgECamZmZGSuBQM3MzMxM6YFAAAAAAICngkAzMzMzs2WDQGZmZmbmI4RAmpmZmRnihEDNzMzMTKCFQAAAAACAXoZAMzMzM7Mch0BmZmZm5tqHQJqZmZkZmYhAzczMzExXiUAAAAAAgBWKQDMzMzOz04pAZmZmZuaRi0CamZmZGVCMQM3MzMxMDo1AAAAAAIDMjUAzMzMzs4qOQGZmZmbmSI9A\",\"dtype\":\"float64\",\"shape\":[75]}},\"selected\":{\"id\":\"21f2b9b9-0fd3-4c7f-a1d4-9bc4dac32825\",\"type\":\"Selection\"},\"selection_policy\":{\"id\":\"5c325654-729b-4d70-ba36-41ebb6986a0e\",\"type\":\"UnionRenderers\"}},\"id\":\"2d62c624-742d-4158-9e11-430a04984e89\",\"type\":\"ColumnDataSource\"},{\"attributes\":{\"fill_alpha\":{\"value\":0.1},\"fill_color\":{\"value\":\"#1f77b4\"},\"line_alpha\":{\"value\":0.1},\"line_color\":{\"value\":\"#1f77b4\"},\"x\":{\"field\":\"x\"},\"y\":{\"field\":\"y\"}},\"id\":\"2faf2fb9-1091-482b-8772-f8f5cffc9599\",\"type\":\"Circle\"},{\"attributes\":{\"callback\":null,\"data\":{\"x\":{\"__ndarray__\":\"cm1sTMT3VEDEyvjosEJHQOKI6DjzCUNArgQWV9awPkB9Lm8XG3M4QEz+Qv6iYzNA7eV8HaPLLkCX1QHyTpMoQFBmYSYetiNAUB04GtGpH0AmFyVE5j8ZQJca9QPGqBNALJP+OOHHDEBNxaf7QF8AQKtislomWuw/cW2dcO6A9T/uJJvfPu0EQIaQLTI/JQ1AxGiII+PmEkCJvfVeuCsYQD6ZBhGbHB9AXQw69DTYJEAsubcwKucqQNuT9D5OmipAJyi3szEJJUBlNebh5WkgQDDcPHBr2xlArtlANXuQFEBdJadFHckQQI2Avh0ZsQtAjYiwt1rsBUCL0SDoVBgAQK6C0nEEjvc/CggLSme58T9sXU2orFPnP0v0JYz9Gdg/vT38vxYczD9nBQTe6kHHP1IhkEXJwKo/8OZnhCVAub+xtVgCpmqzP6DUpY6g0+k/PKK3T1h4+D8RTDjQc1EAQG/dAQs7TwJAQt2eHpPLAEBWEh074x//PyCap9ZSGf4/rEzaTySm/T+7aXhHRmr9P688KeqeNP0/ruZ4EemD/D8olrZcn9T7P0+vNc9hW/s/i9VVL+4P+z+0NzC24uz6P8731Kza8vo/xFf4SHzq+z+gYyHpvHb8P68ROkiFevw/BAjYdCga/D8AUp8VbW77P3JrF/nKmvo/qCQeGfq++T/dplwHJfn4P2G4p+Uva/g/OzZ0RqMZ+D8dmn/iar73P/OuA7Ka8PY/gaaeQHGn9T9hkyjAH1L0P3aZGhdAU/M/n8VP/g7P8j+90HxHNvfyPwhNBtgrqvk/\",\"dtype\":\"float64\",\"shape\":[75]},\"y\":{\"__ndarray__\":\"GhExyth1ND/Sv8nbtpRIP2vylNV0PVE/aTum7souWD/At0SJ8fVgPw3Iuahxymc/MSNhhJWvcD/bTfBN02d3P2zb5nxnaoA/CD5h5MAGhz8NmeH1TyaQP+zrCsc9p5Y/LbKd76fGnz/bLW5ISEmmPww9YvTcQq8/JV2OstnstT8Er5Y7M8G+P0c+r3jqkcU/5h99k6ZBzj88bCIzFzjVP4enV8oyxN0//yH99nXg5D8qOpLLf0jtP5kqGJXUifQ/c9cS8kHP/D+/DpwzojQEQIEmwoanVwxA4lgXt9HgE0BSSZ2AJuIbQAMJih9jjiNA5q4l5INuK0AwTKYKRj0zQNv5fmq8/DpAaCJseHrtQkB/+zpwzoxKQM3MzMzMeFJAZmZmZmZqWEAAAAAAAFxeQM3MzMzMJmJAmpmZmZkfZUBmZmZmZhhoQDMzMzMzEWtAAAAAAAAKbkBmZmZmZoFwQM3MzMzM/XFAMzMzMzN6c0CamZmZmfZ0QAAAAAAAc3ZAZmZmZmbvd0DNzMzMzGt5QDMzMzMz6HpAmpmZmZlkfEAAAAAAAOF9QGZmZmZmXX9AZmZmZuZsgECamZmZGSuBQM3MzMxM6YFAAAAAAICngkAzMzMzs2WDQGZmZmbmI4RAmpmZmRnihEDNzMzMTKCFQAAAAACAXoZAMzMzM7Mch0BmZmZm5tqHQJqZmZkZmYhAzczMzExXiUAAAAAAgBWKQDMzMzOz04pAZmZmZuaRi0CamZmZGVCMQM3MzMxMDo1AAAAAAIDMjUAzMzMzs4qOQGZmZmbmSI9A\",\"dtype\":\"float64\",\"shape\":[75]}},\"selected\":{\"id\":\"c7952c4b-5abf-47b9-8dce-79355a152eb9\",\"type\":\"Selection\"},\"selection_policy\":{\"id\":\"bbe6779f-68cb-4e1d-a253-32c8f534d0c1\",\"type\":\"UnionRenderers\"}},\"id\":\"ff1dbc2e-0c3b-4462-a50b-211e48cc6564\",\"type\":\"ColumnDataSource\"},{\"attributes\":{\"data_source\":{\"id\":\"e162c649-5a57-435f-a2e5-af070eb3257b\",\"type\":\"ColumnDataSource\"},\"glyph\":{\"id\":\"035127a8-1473-44e8-bc8b-8dea7949ab1d\",\"type\":\"Line\"},\"hover_glyph\":null,\"muted_glyph\":null,\"nonselection_glyph\":{\"id\":\"4fb9b5fd-ee05-41a9-8559-5ee1c182a416\",\"type\":\"Line\"},\"selection_glyph\":null,\"view\":{\"id\":\"f649f6d2-5b6f-47af-9dce-97630fd16b11\",\"type\":\"CDSView\"}},\"id\":\"39c21e29-2865-4b67-87d3-f5fae23072e6\",\"type\":\"GlyphRenderer\"},{\"attributes\":{\"bottom_units\":\"screen\",\"fill_alpha\":{\"value\":0.5},\"fill_color\":{\"value\":\"lightgrey\"},\"left_units\":\"screen\",\"level\":\"overlay\",\"line_alpha\":{\"value\":1.0},\"line_color\":{\"value\":\"black\"},\"line_dash\":[4,4],\"line_width\":{\"value\":2},\"plot\":null,\"render_mode\":\"css\",\"right_units\":\"screen\",\"top_units\":\"screen\"},\"id\":\"8e36e61c-1d91-4f90-b3dc-efc600e8211e\",\"type\":\"BoxAnnotation\"},{\"attributes\":{},\"id\":\"6c8e78d9-b234-4b61-82ba-70931ecbcee0\",\"type\":\"BasicTickFormatter\"},{\"attributes\":{},\"id\":\"40a0e800-f7f0-49b7-b76a-319b425ab78c\",\"type\":\"PanTool\"},{\"attributes\":{},\"id\":\"f797b4d3-92cd-4043-ae2a-25f73438cdc0\",\"type\":\"LinearScale\"},{\"attributes\":{\"callback\":null,\"end\":0.01,\"start\":1020},\"id\":\"a78ec57f-fc03-4c96-9cdc-e11af7b7929a\",\"type\":\"Range1d\"},{\"attributes\":{\"axis_label\":\"cooling rate [K/day]\",\"formatter\":{\"id\":\"801b70ce-e013-4203-924e-b57b302d29e8\",\"type\":\"BasicTickFormatter\"},\"plot\":{\"id\":\"e99d08ef-8b4e-4181-9d9c-d12981c71698\",\"subtype\":\"Figure\",\"type\":\"Plot\"},\"ticker\":{\"id\":\"8e6a08bf-6cb4-43f3-9031-0af2afb746f5\",\"type\":\"BasicTicker\"}},\"id\":\"16ea34d7-0d2e-4bd7-95a7-23f9db423614\",\"type\":\"LinearAxis\"},{\"attributes\":{\"line_alpha\":0.8,\"line_color\":\"#984ea3\",\"line_width\":1.5,\"x\":{\"field\":\"x\"},\"y\":{\"field\":\"y\"}},\"id\":\"21db0264-1a74-4ed5-8612-4b28cd0fcbc8\",\"type\":\"Line\"},{\"attributes\":{\"callback\":null,\"data\":{\"x\":{\"__ndarray__\":\"cm1sTMT3VEDEyvjosEJHQOKI6DjzCUNArgQWV9awPkB9Lm8XG3M4QEz+Qv6iYzNA7eV8HaPLLkCX1QHyTpMoQFBmYSYetiNAUB04GtGpH0AmFyVE5j8ZQJca9QPGqBNALJP+OOHHDEBNxaf7QF8AQKtislomWuw/cW2dcO6A9T/uJJvfPu0EQIaQLTI/JQ1AxGiII+PmEkCJvfVeuCsYQD6ZBhGbHB9AXQw69DTYJEAsubcwKucqQNuT9D5OmipAJyi3szEJJUBlNebh5WkgQDDcPHBr2xlArtlANXuQFEBdJadFHckQQI2Avh0ZsQtAjYiwt1rsBUCL0SDoVBgAQK6C0nEEjvc/CggLSme58T9sXU2orFPnP0v0JYz9Gdg/vT38vxYczD9nBQTe6kHHP1IhkEXJwKo/8OZnhCVAub+xtVgCpmqzP6DUpY6g0+k/PKK3T1h4+D8RTDjQc1EAQG/dAQs7TwJAQt2eHpPLAEBWEh074x//PyCap9ZSGf4/rEzaTySm/T+7aXhHRmr9P688KeqeNP0/ruZ4EemD/D8olrZcn9T7P0+vNc9hW/s/i9VVL+4P+z+0NzC24uz6P8731Kza8vo/xFf4SHzq+z+gYyHpvHb8P68ROkiFevw/BAjYdCga/D8AUp8VbW77P3JrF/nKmvo/qCQeGfq++T/dplwHJfn4P2G4p+Uva/g/OzZ0RqMZ+D8dmn/iar73P/OuA7Ka8PY/gaaeQHGn9T9hkyjAH1L0P3aZGhdAU/M/n8VP/g7P8j+90HxHNvfyPwhNBtgrqvk/\",\"dtype\":\"float64\",\"shape\":[75]},\"y\":{\"__ndarray__\":\"GhExyth1ND/Sv8nbtpRIP2vylNV0PVE/aTum7souWD/At0SJ8fVgPw3Iuahxymc/MSNhhJWvcD/bTfBN02d3P2zb5nxnaoA/CD5h5MAGhz8NmeH1TyaQP+zrCsc9p5Y/LbKd76fGnz/bLW5ISEmmPww9YvTcQq8/JV2OstnstT8Er5Y7M8G+P0c+r3jqkcU/5h99k6ZBzj88bCIzFzjVP4enV8oyxN0//yH99nXg5D8qOpLLf0jtP5kqGJXUifQ/c9cS8kHP/D+/DpwzojQEQIEmwoanVwxA4lgXt9HgE0BSSZ2AJuIbQAMJih9jjiNA5q4l5INuK0AwTKYKRj0zQNv5fmq8/DpAaCJseHrtQkB/+zpwzoxKQM3MzMzMeFJAZmZmZmZqWEAAAAAAAFxeQM3MzMzMJmJAmpmZmZkfZUBmZmZmZhhoQDMzMzMzEWtAAAAAAAAKbkBmZmZmZoFwQM3MzMzM/XFAMzMzMzN6c0CamZmZmfZ0QAAAAAAAc3ZAZmZmZmbvd0DNzMzMzGt5QDMzMzMz6HpAmpmZmZlkfEAAAAAAAOF9QGZmZmZmXX9AZmZmZuZsgECamZmZGSuBQM3MzMxM6YFAAAAAAICngkAzMzMzs2WDQGZmZmbmI4RAmpmZmRnihEDNzMzMTKCFQAAAAACAXoZAMzMzM7Mch0BmZmZm5tqHQJqZmZkZmYhAzczMzExXiUAAAAAAgBWKQDMzMzOz04pAZmZmZuaRi0CamZmZGVCMQM3MzMxMDo1AAAAAAIDMjUAzMzMzs4qOQGZmZmbmSI9A\",\"dtype\":\"float64\",\"shape\":[75]}},\"selected\":{\"id\":\"03d4e06d-cb5f-4bf7-a250-1ae6ad926705\",\"type\":\"Selection\"},\"selection_policy\":{\"id\":\"db9cfe87-b50c-46c2-8a1e-6a7263269b05\",\"type\":\"UnionRenderers\"}},\"id\":\"4cca217a-6d04-438d-8297-2ffd31760082\",\"type\":\"ColumnDataSource\"},{\"attributes\":{\"data_source\":{\"id\":\"2d62c624-742d-4158-9e11-430a04984e89\",\"type\":\"ColumnDataSource\"},\"glyph\":{\"id\":\"e9bf7c94-a3df-4f69-a943-38fa392c0660\",\"type\":\"Line\"},\"hover_glyph\":null,\"muted_glyph\":null,\"nonselection_glyph\":{\"id\":\"e6f70542-13a7-4097-8514-70563634c8d0\",\"type\":\"Line\"},\"selection_glyph\":null,\"view\":{\"id\":\"e255303b-4464-45a2-ab43-3f8a0e06c43a\",\"type\":\"CDSView\"}},\"id\":\"9f8897ae-1abd-4106-80bb-802d3c0ef035\",\"type\":\"GlyphRenderer\"},{\"attributes\":{\"label\":{\"value\":\"CLIRAD (single-run) - CRD\"},\"renderers\":[{\"id\":\"75637a4e-9eaa-4146-8761-b09194706ee0\",\"type\":\"GlyphRenderer\"},{\"id\":\"65fd165b-1ff8-4b36-8ac7-319b6ebabbb3\",\"type\":\"GlyphRenderer\"}]},\"id\":\"65cd2cb8-3df1-41a3-8122-a374f9fc9df8\",\"type\":\"LegendItem\"},{\"attributes\":{},\"id\":\"afca93e7-9e16-4f6d-919b-b46c914b09c4\",\"type\":\"UnionRenderers\"},{\"attributes\":{},\"id\":\"dc1904f9-8a16-439e-b81b-ccb685a8b685\",\"type\":\"BasicTickFormatter\"},{\"attributes\":{},\"id\":\"4096a0fe-c973-4c17-a6ec-7add16ba638f\",\"type\":\"UnionRenderers\"},{\"attributes\":{\"axis_label\":\"pressure [mb]\",\"formatter\":{\"id\":\"caac8e8c-5513-466d-b2d3-1ae1fcb15d36\",\"type\":\"LogTickFormatter\"},\"plot\":{\"id\":\"e99d08ef-8b4e-4181-9d9c-d12981c71698\",\"subtype\":\"Figure\",\"type\":\"Plot\"},\"ticker\":{\"id\":\"8a929f1f-f0fc-4c1d-9b39-2fecace71519\",\"type\":\"LogTicker\"}},\"id\":\"ba6c014f-02f6-4e30-8c1a-949cf3fda868\",\"type\":\"LogAxis\"},{\"attributes\":{\"fill_alpha\":{\"value\":0.7},\"fill_color\":{\"value\":\"#4daf4a\"},\"line_alpha\":{\"value\":0.7},\"line_color\":{\"value\":\"#4daf4a\"},\"x\":{\"field\":\"x\"},\"y\":{\"field\":\"y\"}},\"id\":\"8dc7bc2f-0aeb-4b1c-87b9-4dd40ee51bd7\",\"type\":\"Circle\"},{\"attributes\":{\"plot\":null,\"text\":\"\"},\"id\":\"aebbf5ec-b0e3-4fc1-bf0c-2934e56fe357\",\"type\":\"Title\"},{\"attributes\":{\"active_drag\":\"auto\",\"active_inspect\":\"auto\",\"active_scroll\":\"auto\",\"active_tap\":\"auto\",\"tools\":[{\"id\":\"40a0e800-f7f0-49b7-b76a-319b425ab78c\",\"type\":\"PanTool\"},{\"id\":\"5e73500d-31e3-4df7-b697-89eefae09834\",\"type\":\"WheelZoomTool\"},{\"id\":\"70af1c05-376d-434d-aa1c-688b045aae85\",\"type\":\"BoxZoomTool\"},{\"id\":\"4d12c7ef-b96b-46a6-bbd4-e461b73b51aa\",\"type\":\"SaveTool\"},{\"id\":\"0370b155-4eab-4590-bd4e-e5da7e95b255\",\"type\":\"ResetTool\"},{\"id\":\"c30b6464-7be0-4207-8214-8f62b8620bd4\",\"type\":\"HelpTool\"}]},\"id\":\"d3a68b0b-775c-4cd1-afe1-e1c9b56f5e7b\",\"type\":\"Toolbar\"},{\"attributes\":{},\"id\":\"a6de0b98-e5da-42b5-858a-26b907c11daf\",\"type\":\"Selection\"},{\"attributes\":{\"dimension\":1,\"plot\":{\"id\":\"e99d08ef-8b4e-4181-9d9c-d12981c71698\",\"subtype\":\"Figure\",\"type\":\"Plot\"},\"ticker\":{\"id\":\"8a929f1f-f0fc-4c1d-9b39-2fecace71519\",\"type\":\"LogTicker\"}},\"id\":\"92c2a0b0-d59b-47f0-8b54-ffd0209bb88d\",\"type\":\"Grid\"},{\"attributes\":{\"source\":{\"id\":\"e162c649-5a57-435f-a2e5-af070eb3257b\",\"type\":\"ColumnDataSource\"}},\"id\":\"f649f6d2-5b6f-47af-9dce-97630fd16b11\",\"type\":\"CDSView\"},{\"attributes\":{\"children\":[{\"id\":\"6e1eaa87-fe74-448c-aff8-a5cf7fe3250f\",\"type\":\"ToolbarBox\"},{\"id\":\"b02b7429-ce9f-48b6-9290-424707f1d6e3\",\"type\":\"Column\"}]},\"id\":\"fe3c8955-2dc6-4c11-8057-f2ab999b84c2\",\"type\":\"Column\"},{\"attributes\":{\"overlay\":{\"id\":\"8e36e61c-1d91-4f90-b3dc-efc600e8211e\",\"type\":\"BoxAnnotation\"}},\"id\":\"70af1c05-376d-434d-aa1c-688b045aae85\",\"type\":\"BoxZoomTool\"},{\"attributes\":{},\"id\":\"03d4e06d-cb5f-4bf7-a250-1ae6ad926705\",\"type\":\"Selection\"},{\"attributes\":{\"source\":{\"id\":\"ff1dbc2e-0c3b-4462-a50b-211e48cc6564\",\"type\":\"ColumnDataSource\"}},\"id\":\"b6c81f8c-c9e9-4f35-89f0-e15e1ea7910e\",\"type\":\"CDSView\"},{\"attributes\":{\"num_minor_ticks\":10},\"id\":\"8a929f1f-f0fc-4c1d-9b39-2fecace71519\",\"type\":\"LogTicker\"},{\"attributes\":{},\"id\":\"5e73500d-31e3-4df7-b697-89eefae09834\",\"type\":\"WheelZoomTool\"},{\"attributes\":{\"source\":{\"id\":\"4cca217a-6d04-438d-8297-2ffd31760082\",\"type\":\"ColumnDataSource\"}},\"id\":\"efd8d7cf-a091-4ee9-acf5-199074e0f0ef\",\"type\":\"CDSView\"},{\"attributes\":{\"line_color\":\"#4daf4a\",\"line_width\":1.5,\"x\":{\"field\":\"x\"},\"y\":{\"field\":\"y\"}},\"id\":\"61413327-eb41-462f-a23f-6c07228a808c\",\"type\":\"Line\"},{\"attributes\":{\"label\":{\"value\":\"old CLIRAD (H2012) - CRD\"},\"renderers\":[{\"id\":\"8777d873-a5c0-41a0-a7c1-c81b5e91f08e\",\"type\":\"GlyphRenderer\"}]},\"id\":\"50a3ec00-db37-433e-9402-080b7ea9f0e7\",\"type\":\"LegendItem\"},{\"attributes\":{},\"id\":\"c7952c4b-5abf-47b9-8dce-79355a152eb9\",\"type\":\"Selection\"},{\"attributes\":{\"data_source\":{\"id\":\"4cca217a-6d04-438d-8297-2ffd31760082\",\"type\":\"ColumnDataSource\"},\"glyph\":{\"id\":\"8dc7bc2f-0aeb-4b1c-87b9-4dd40ee51bd7\",\"type\":\"Circle\"},\"hover_glyph\":null,\"muted_glyph\":null,\"nonselection_glyph\":{\"id\":\"2faf2fb9-1091-482b-8772-f8f5cffc9599\",\"type\":\"Circle\"},\"selection_glyph\":null,\"view\":{\"id\":\"efd8d7cf-a091-4ee9-acf5-199074e0f0ef\",\"type\":\"CDSView\"}},\"id\":\"bd2849c8-aaad-47a8-a10c-fa3b985051c2\",\"type\":\"GlyphRenderer\"},{\"attributes\":{},\"id\":\"0370b155-4eab-4590-bd4e-e5da7e95b255\",\"type\":\"ResetTool\"},{\"attributes\":{\"data_source\":{\"id\":\"021caf44-c00f-4f16-944e-5b584ee76a11\",\"type\":\"ColumnDataSource\"},\"glyph\":{\"id\":\"f9702125-74be-4e47-a3c2-46bf7b3d9ae7\",\"type\":\"Circle\"},\"hover_glyph\":null,\"muted_glyph\":null,\"nonselection_glyph\":{\"id\":\"0b063ce3-a439-4dd2-b70a-0aade4567bf0\",\"type\":\"Circle\"},\"selection_glyph\":null,\"view\":{\"id\":\"dab6073b-c9b8-47bf-a0cd-5fb3c8b5041e\",\"type\":\"CDSView\"}},\"id\":\"75637a4e-9eaa-4146-8761-b09194706ee0\",\"type\":\"GlyphRenderer\"},{\"attributes\":{\"line_alpha\":0.1,\"line_color\":\"#1f77b4\",\"line_width\":1.5,\"x\":{\"field\":\"x\"},\"y\":{\"field\":\"y\"}},\"id\":\"e6d16214-b360-404f-85e1-85ddecfae4e8\",\"type\":\"Line\"},{\"attributes\":{\"line_alpha\":0.1,\"line_color\":\"#1f77b4\",\"line_width\":1.5,\"x\":{\"field\":\"x\"},\"y\":{\"field\":\"y\"}},\"id\":\"b0bd02dd-3043-4899-8460-b74e78f1f88e\",\"type\":\"Line\"},{\"attributes\":{},\"id\":\"4d12c7ef-b96b-46a6-bbd4-e461b73b51aa\",\"type\":\"SaveTool\"},{\"attributes\":{\"data_source\":{\"id\":\"1177e908-612c-4308-86a0-a82a05471d19\",\"type\":\"ColumnDataSource\"},\"glyph\":{\"id\":\"2a93e52b-2406-4620-b723-c81ab8f3d9f3\",\"type\":\"Line\"},\"hover_glyph\":null,\"muted_glyph\":null,\"nonselection_glyph\":{\"id\":\"920d83e2-8389-423c-96b4-1d3a52467974\",\"type\":\"Line\"},\"selection_glyph\":null,\"view\":{\"id\":\"2c4c5dfb-2ea6-4f2b-9fb8-4e12cf46055b\",\"type\":\"CDSView\"}},\"id\":\"8777d873-a5c0-41a0-a7c1-c81b5e91f08e\",\"type\":\"GlyphRenderer\"},{\"attributes\":{\"line_alpha\":0.5,\"line_color\":\"#984ea3\",\"line_width\":1.5,\"x\":{\"field\":\"x\"},\"y\":{\"field\":\"y\"}},\"id\":\"8c3a2206-0e18-4766-b40b-8ab270aea185\",\"type\":\"Line\"},{\"attributes\":{},\"id\":\"c30b6464-7be0-4207-8214-8f62b8620bd4\",\"type\":\"HelpTool\"},{\"attributes\":{\"source\":{\"id\":\"021caf44-c00f-4f16-944e-5b584ee76a11\",\"type\":\"ColumnDataSource\"}},\"id\":\"dab6073b-c9b8-47bf-a0cd-5fb3c8b5041e\",\"type\":\"CDSView\"},{\"attributes\":{\"source\":{\"id\":\"1177e908-612c-4308-86a0-a82a05471d19\",\"type\":\"ColumnDataSource\"}},\"id\":\"2c4c5dfb-2ea6-4f2b-9fb8-4e12cf46055b\",\"type\":\"CDSView\"},{\"attributes\":{\"source\":{\"id\":\"2d62c624-742d-4158-9e11-430a04984e89\",\"type\":\"ColumnDataSource\"}},\"id\":\"e255303b-4464-45a2-ab43-3f8a0e06c43a\",\"type\":\"CDSView\"},{\"attributes\":{},\"id\":\"8e6a08bf-6cb4-43f3-9031-0af2afb746f5\",\"type\":\"BasicTicker\"},{\"attributes\":{\"axis_label\":\"cooling rate [K/day]\",\"formatter\":{\"id\":\"477bced8-8107-4595-8788-337a758408f3\",\"type\":\"BasicTickFormatter\"},\"plot\":{\"id\":\"e1fdda0e-8bbe-452d-9d52-63ca7c9be50a\",\"subtype\":\"Figure\",\"type\":\"Plot\"},\"ticker\":{\"id\":\"a615fad5-e455-409e-a712-38365e9cb418\",\"type\":\"BasicTicker\"}},\"id\":\"34ef751c-cab9-4792-8372-f071287a737b\",\"type\":\"LinearAxis\"},{\"attributes\":{\"data_source\":{\"id\":\"ff1dbc2e-0c3b-4462-a50b-211e48cc6564\",\"type\":\"ColumnDataSource\"},\"glyph\":{\"id\":\"61413327-eb41-462f-a23f-6c07228a808c\",\"type\":\"Line\"},\"hover_glyph\":null,\"muted_glyph\":null,\"nonselection_glyph\":{\"id\":\"e6d16214-b360-404f-85e1-85ddecfae4e8\",\"type\":\"Line\"},\"selection_glyph\":null,\"view\":{\"id\":\"b6c81f8c-c9e9-4f35-89f0-e15e1ea7910e\",\"type\":\"CDSView\"}},\"id\":\"ba3dde1f-b529-476f-af4c-a4e239847c12\",\"type\":\"GlyphRenderer\"},{\"attributes\":{\"callback\":null,\"data\":{\"x\":{\"__ndarray__\":\"q+2X8uYWRMDNtilY/6ogwL8TnhAIZgLA3cr40AfU/D9NqqqDx2kOQHmavll1zQ5A0Xb8OOgeBEBzqOml3SflP37HaTSNs+m/XFZ+SMbV9b+kpE9WI4jxv9EVB4SjId+/jrL/1EGnsD8LJxfSILbZP0NwX+4SJN8/AvImKdw21D9svNGpC1ahPxVg4QF+tNC/KSlTvhIz4L8Zl36txqLgv2X1hy+37dG/IF+az6PZeL/nQalYc92qv+zpe2WAztO/rkxEkktM17/UoHtBXBSxv6JzReABjtg/sNRYCZpX1z8ofJG/qfG3P5x/xwW6Lpg/6sXQgLTo0D8eCDvc1qHVPx2T+vKlyMM/qv9f6QyNnL+5G+lR2/h0P00awQbepK4/Fmaxr4fkfz9q0usJmsyrv2Yzhll50La/sg8TPPR4ub8LvtFM+dm1v4hKjJqqfrC/9lhFyFsir7/hEJrNphmdv0LpYlOQ5La/4JMZRF+QuL8/cIQuSnqrv2QUrFOB1q6/3N9N8YGts78E3NupkN2yv+6O3Wx9k6u/US05qo2eor9xK9MAhTOYvwLIt0d1t5S/3LyUh3N3lL+B+ryRGSmZv++hRN6BIJu/oEp5+1x+k784vmH5+CZbP742FHFMrKA/gp6nUe6drD+izdvk8SWuP5+u2gfpwaU/taFmMp50lj8AchRqTmFjPzAPYLqVUVg/HDDo9CT/gz96va97P/afP5Gs5uBpl6k/f3OsdkAezT/spGRPgHXNPzbWy5QyZ80/6xErIhE6zT8rjGKt6RfNPwJAZH1Cd8w/\",\"dtype\":\"float64\",\"shape\":[75]},\"y\":{\"__ndarray__\":\"GhExyth1ND/Sv8nbtpRIP2vylNV0PVE/aTum7souWD/At0SJ8fVgPw3Iuahxymc/MSNhhJWvcD/bTfBN02d3P2zb5nxnaoA/CD5h5MAGhz8NmeH1TyaQP+zrCsc9p5Y/LbKd76fGnz/bLW5ISEmmPww9YvTcQq8/JV2OstnstT8Er5Y7M8G+P0c+r3jqkcU/5h99k6ZBzj88bCIzFzjVP4enV8oyxN0//yH99nXg5D8qOpLLf0jtP5kqGJXUifQ/c9cS8kHP/D+/DpwzojQEQIEmwoanVwxA4lgXt9HgE0BSSZ2AJuIbQAMJih9jjiNA5q4l5INuK0AwTKYKRj0zQNv5fmq8/DpAaCJseHrtQkB/+zpwzoxKQM3MzMzMeFJAZmZmZmZqWEAAAAAAAFxeQM3MzMzMJmJAmpmZmZkfZUBmZmZmZhhoQDMzMzMzEWtAAAAAAAAKbkBmZmZmZoFwQM3MzMzM/XFAMzMzMzN6c0CamZmZmfZ0QAAAAAAAc3ZAZmZmZmbvd0DNzMzMzGt5QDMzMzMz6HpAmpmZmZlkfEAAAAAAAOF9QGZmZmZmXX9AZmZmZuZsgECamZmZGSuBQM3MzMxM6YFAAAAAAICngkAzMzMzs2WDQGZmZmbmI4RAmpmZmRnihEDNzMzMTKCFQAAAAACAXoZAMzMzM7Mch0BmZmZm5tqHQJqZmZkZmYhAzczMzExXiUAAAAAAgBWKQDMzMzOz04pAZmZmZuaRi0CamZmZGVCMQM3MzMxMDo1AAAAAAIDMjUAzMzMzs4qOQGZmZmbmSI9A\",\"dtype\":\"float64\",\"shape\":[75]}},\"selected\":{\"id\":\"b854ecf9-ae34-4d1c-b6bd-69d8c8ca4e4e\",\"type\":\"Selection\"},\"selection_policy\":{\"id\":\"0323aa72-668b-4e3c-90bd-b15544680d11\",\"type\":\"UnionRenderers\"}},\"id\":\"c65e0103-6723-4f2f-a3ee-562998cf4510\",\"type\":\"ColumnDataSource\"},{\"attributes\":{\"line_alpha\":0.1,\"line_color\":\"#1f77b4\",\"line_dash\":[6],\"line_width\":4,\"x\":{\"field\":\"x\"},\"y\":{\"field\":\"y\"}},\"id\":\"920d83e2-8389-423c-96b4-1d3a52467974\",\"type\":\"Line\"},{\"attributes\":{\"callback\":null,\"data\":{\"x\":{\"__ndarray__\":\"q+2X8uYWRMDNtilY/6ogwL8TnhAIZgLA3cr40AfU/D9NqqqDx2kOQHmavll1zQ5A0Xb8OOgeBEBzqOml3SflP37HaTSNs+m/XFZ+SMbV9b+kpE9WI4jxv9EVB4SjId+/jrL/1EGnsD8LJxfSILbZP0NwX+4SJN8/AvImKdw21D9svNGpC1ahPxVg4QF+tNC/KSlTvhIz4L8Zl36txqLgv2X1hy+37dG/IF+az6PZeL/nQalYc92qv+zpe2WAztO/rkxEkktM17/UoHtBXBSxv6JzReABjtg/sNRYCZpX1z8ofJG/qfG3P5x/xwW6Lpg/6sXQgLTo0D8eCDvc1qHVPx2T+vKlyMM/qv9f6QyNnL+5G+lR2/h0P00awQbepK4/Fmaxr4fkfz9q0usJmsyrv2Yzhll50La/sg8TPPR4ub8LvtFM+dm1v4hKjJqqfrC/9lhFyFsir7/hEJrNphmdv0LpYlOQ5La/4JMZRF+QuL8/cIQuSnqrv2QUrFOB1q6/3N9N8YGts78E3NupkN2yv+6O3Wx9k6u/US05qo2eor9xK9MAhTOYvwLIt0d1t5S/3LyUh3N3lL+B+ryRGSmZv++hRN6BIJu/oEp5+1x+k784vmH5+CZbP742FHFMrKA/gp6nUe6drD+izdvk8SWuP5+u2gfpwaU/taFmMp50lj8AchRqTmFjPzAPYLqVUVg/HDDo9CT/gz96va97P/afP5Gs5uBpl6k/f3OsdkAezT/spGRPgHXNPzbWy5QyZ80/6xErIhE6zT8rjGKt6RfNPwJAZH1Cd8w/\",\"dtype\":\"float64\",\"shape\":[75]},\"y\":{\"__ndarray__\":\"GhExyth1ND/Sv8nbtpRIP2vylNV0PVE/aTum7souWD/At0SJ8fVgPw3Iuahxymc/MSNhhJWvcD/bTfBN02d3P2zb5nxnaoA/CD5h5MAGhz8NmeH1TyaQP+zrCsc9p5Y/LbKd76fGnz/bLW5ISEmmPww9YvTcQq8/JV2OstnstT8Er5Y7M8G+P0c+r3jqkcU/5h99k6ZBzj88bCIzFzjVP4enV8oyxN0//yH99nXg5D8qOpLLf0jtP5kqGJXUifQ/c9cS8kHP/D+/DpwzojQEQIEmwoanVwxA4lgXt9HgE0BSSZ2AJuIbQAMJih9jjiNA5q4l5INuK0AwTKYKRj0zQNv5fmq8/DpAaCJseHrtQkB/+zpwzoxKQM3MzMzMeFJAZmZmZmZqWEAAAAAAAFxeQM3MzMzMJmJAmpmZmZkfZUBmZmZmZhhoQDMzMzMzEWtAAAAAAAAKbkBmZmZmZoFwQM3MzMzM/XFAMzMzMzN6c0CamZmZmfZ0QAAAAAAAc3ZAZmZmZmbvd0DNzMzMzGt5QDMzMzMz6HpAmpmZmZlkfEAAAAAAAOF9QGZmZmZmXX9AZmZmZuZsgECamZmZGSuBQM3MzMxM6YFAAAAAAICngkAzMzMzs2WDQGZmZmbmI4RAmpmZmRnihEDNzMzMTKCFQAAAAACAXoZAMzMzM7Mch0BmZmZm5tqHQJqZmZkZmYhAzczMzExXiUAAAAAAgBWKQDMzMzOz04pAZmZmZuaRi0CamZmZGVCMQM3MzMxMDo1AAAAAAIDMjUAzMzMzs4qOQGZmZmbmSI9A\",\"dtype\":\"float64\",\"shape\":[75]}},\"selected\":{\"id\":\"728e8c7d-d11c-4349-aa21-97568df0b760\",\"type\":\"Selection\"},\"selection_policy\":{\"id\":\"d563dbaa-566a-4fc1-9b7e-5ef96b02a3de\",\"type\":\"UnionRenderers\"}},\"id\":\"021caf44-c00f-4f16-944e-5b584ee76a11\",\"type\":\"ColumnDataSource\"},{\"attributes\":{},\"id\":\"cc0866aa-4e60-4bd0-b153-90c20341ac4f\",\"type\":\"UnionRenderers\"},{\"attributes\":{},\"id\":\"bbe6779f-68cb-4e1d-a253-32c8f534d0c1\",\"type\":\"UnionRenderers\"},{\"attributes\":{\"callback\":null,\"data\":{\"x\":{\"__ndarray__\":\"N+1ApqHYRUAPXe4S8RdDQKin3reS40FArsgSags/QEDHg+QHVEA8QJvReqlRPTdA0QHela7pMUAfcGDMzOUpQNjJGlPlGiJAuYcYiF80GkD7LZFu3d0UQDiptMurthFAv5CmRxtNDUAuquoVBZYDQGUN8egX9vU/8inneqWO+j/ga0IOlzIFQINk8XGvDgtAngO+y4DgEECn6kWJXxcWQOcZDp6//R1AExnAvxnVJEDsD1+9TMwqQIu0yDva+ylAwQUlV89OJEAlPmMpvUcgQGozQY5LZBtA+GbW1fQFFkBNa6Xs4ygRQIwPypF24QtASqHKR3EJCECPMqjDj8wCQBPVMTAZB/o/C4hlFjNH8T+kL/Fenn3nP5QX/kyZ7ts/8sh5/TobzT/NEIlbxE7AP25FfG0p4KK/Uns94Ixcyb/sQshTmnqDv1BLVDvLw+c/dXd1cUV/9z/vF52CQBcAQCXGZogWmAFAohB+JBAHAEDV7qjpEET+P305CsyeIv0/rm7FMExr/D/+q9o8bTz8PzZQwv4CWPw/Qh0npPTu+z95SbNI0XP7Py/QFvqDCPs/l4I3YRC++j/IQ+lPPoj6P0flW6VYhvo/m3IK1YKc+z8PvF+nhn38P2Szwqvn//w/+URl5xf//D9sMMaknF/8P+ZAVkHaSPs/Lr/nkcwY+j8TsZGu1QL5P2RQFktEcfg/mwZekKFB+D8TWW7gQz74P1bkCgFWvfc/7TR0TzlL+T//JxXKzwD4Pz4UtGkmAPc/3CeVIlF29j9DIil9M5r2PwnVsicUOf0/\",\"dtype\":\"float64\",\"shape\":[75]},\"y\":{\"__ndarray__\":\"GhExyth1ND/Sv8nbtpRIP2vylNV0PVE/aTum7souWD/At0SJ8fVgPw3Iuahxymc/MSNhhJWvcD/bTfBN02d3P2zb5nxnaoA/CD5h5MAGhz8NmeH1TyaQP+zrCsc9p5Y/LbKd76fGnz/bLW5ISEmmPww9YvTcQq8/JV2OstnstT8Er5Y7M8G+P0c+r3jqkcU/5h99k6ZBzj88bCIzFzjVP4enV8oyxN0//yH99nXg5D8qOpLLf0jtP5kqGJXUifQ/c9cS8kHP/D+/DpwzojQEQIEmwoanVwxA4lgXt9HgE0BSSZ2AJuIbQAMJih9jjiNA5q4l5INuK0AwTKYKRj0zQNv5fmq8/DpAaCJseHrtQkB/+zpwzoxKQM3MzMzMeFJAZmZmZmZqWEAAAAAAAFxeQM3MzMzMJmJAmpmZmZkfZUBmZmZmZhhoQDMzMzMzEWtAAAAAAAAKbkBmZmZmZoFwQM3MzMzM/XFAMzMzMzN6c0CamZmZmfZ0QAAAAAAAc3ZAZmZmZmbvd0DNzMzMzGt5QDMzMzMz6HpAmpmZmZlkfEAAAAAAAOF9QGZmZmZmXX9AZmZmZuZsgECamZmZGSuBQM3MzMxM6YFAAAAAAICngkAzMzMzs2WDQGZmZmbmI4RAmpmZmRnihEDNzMzMTKCFQAAAAACAXoZAMzMzM7Mch0BmZmZm5tqHQJqZmZkZmYhAzczMzExXiUAAAAAAgBWKQDMzMzOz04pAZmZmZuaRi0CamZmZGVCMQM3MzMxMDo1AAAAAAIDMjUAzMzMzs4qOQGZmZmbmSI9A\",\"dtype\":\"float64\",\"shape\":[75]}},\"selected\":{\"id\":\"b46b3d83-d34d-45ea-8ab5-96926b559fcc\",\"type\":\"Selection\"},\"selection_policy\":{\"id\":\"cc0866aa-4e60-4bd0-b153-90c20341ac4f\",\"type\":\"UnionRenderers\"}},\"id\":\"e162c649-5a57-435f-a2e5-af070eb3257b\",\"type\":\"ColumnDataSource\"},{\"attributes\":{\"fill_alpha\":{\"value\":0.7},\"fill_color\":{\"value\":\"#984ea3\"},\"line_alpha\":{\"value\":0.7},\"line_color\":{\"value\":\"#984ea3\"},\"x\":{\"field\":\"x\"},\"y\":{\"field\":\"y\"}},\"id\":\"141b2c02-8c35-4c4b-a243-2543cd6070cc\",\"type\":\"Square\"},{\"attributes\":{\"plot\":{\"id\":\"e1fdda0e-8bbe-452d-9d52-63ca7c9be50a\",\"subtype\":\"Figure\",\"type\":\"Plot\"},\"ticker\":{\"id\":\"a615fad5-e455-409e-a712-38365e9cb418\",\"type\":\"BasicTicker\"}},\"id\":\"affc924c-1151-4dcc-9b55-941223796ddb\",\"type\":\"Grid\"},{\"attributes\":{\"line_alpha\":0.1,\"line_color\":\"#1f77b4\",\"line_dash\":[6],\"line_width\":5,\"x\":{\"field\":\"x\"},\"y\":{\"field\":\"y\"}},\"id\":\"e6f70542-13a7-4097-8514-70563634c8d0\",\"type\":\"Line\"},{\"attributes\":{\"label\":{\"value\":\"CLIRAD (single-run)\"},\"renderers\":[{\"id\":\"39c21e29-2865-4b67-87d3-f5fae23072e6\",\"type\":\"GlyphRenderer\"}]},\"id\":\"7483969c-7305-4739-baf9-68081e9a995e\",\"type\":\"LegendItem\"},{\"attributes\":{\"fill_alpha\":{\"value\":0.1},\"fill_color\":{\"value\":\"#1f77b4\"},\"line_alpha\":{\"value\":0.1},\"line_color\":{\"value\":\"#1f77b4\"},\"x\":{\"field\":\"x\"},\"y\":{\"field\":\"y\"}},\"id\":\"0b063ce3-a439-4dd2-b70a-0aade4567bf0\",\"type\":\"Circle\"},{\"attributes\":{\"line_alpha\":0.6,\"line_color\":\"#377eb8\",\"line_dash\":[6],\"line_width\":5,\"x\":{\"field\":\"x\"},\"y\":{\"field\":\"y\"}},\"id\":\"e9bf7c94-a3df-4f69-a943-38fa392c0660\",\"type\":\"Line\"},{\"attributes\":{\"fill_alpha\":{\"value\":0.1},\"fill_color\":{\"value\":\"#1f77b4\"},\"line_alpha\":{\"value\":0.1},\"line_color\":{\"value\":\"#1f77b4\"},\"x\":{\"field\":\"x\"},\"y\":{\"field\":\"y\"}},\"id\":\"b7e3e7a0-a13b-4ddc-9257-bddf027bcab8\",\"type\":\"Square\"},{\"attributes\":{},\"id\":\"4a211ae1-e022-4d16-a756-dc7c26788b32\",\"type\":\"UnionRenderers\"},{\"attributes\":{\"callback\":null,\"data\":{\"x\":{\"__ndarray__\":\"MXhf+wfXU0AZbvNjswdFQLQWsEQVdUFA5TlpnhT9QUB/x1dOYK05QImjxHmcEjZA9jYDSBB3L0AISPl4H6wqQBPuuwfAzyJAOcHprUZAIUB7WWpkesAXQJoT1Uq+ChVArO/8u0EXCkBgVNlshzgCQMeNQ+Nzu/I/POwv1Qzh+D9QxMRmcj8DQOrE7tC4mAxAQsLBRIlHEkAi4cPYoDEXQEeDpjRjzB1ASZ0GEfCuI0DVFj11sssnQOMiVKSMHyhAWRHvUxNoJEDo8cjD4g8gQLGGvR2NDRpAdpI3nV5oFECtyWH9Lp4QQIZQd9bvmwtAkshlnu1BBkBMysnQf1UAQHZJU/DYZ/c/HoEhV+G48T/rSm4vc/TmP3EgV4cD49g/xmy6+4w7zz+bEsjh3uDDPw5SRMRogKs/4GPKdPc1a78lazVXN1vCP/B84ODeUug/LOyxgXDV9z+/DBHyZAwAQAOIY+fy/QFAahF3XKCUAECV0GHvGsz+P+X4k4Nhvf0/RO/IqI98/T8rkW+v/zT9P59vGMDsAv0/zEX7plCY/D/E3siS8kj7P2yUMv+hDvs/RmrXDaYs+z+c9f5GCO36P58nVCbr7vo/Qus8hbcy/D+rD5hFMCf9P4t6dxofnPw/bRp4QYZ2/D/q8NNiN2b8P5YTVw9ESPw/l1Dy0X/K+j+WKih3ZdD5P2k8OYxHjvk/hceGh5N4+T8lpPahWSn5P6vJnePt4vY/UuhmxnXI9T8miFqdE+D0Pz7qfx5CR/Q/0khvq2US9D9LfVdHQGv0P9syeEmwYfg/\",\"dtype\":\"float64\",\"shape\":[75]},\"y\":{\"__ndarray__\":\"hLndy31yND/6fmq8dJNIP8n9DkWBPlE/aDum7souWD/b4a/JGvVgP9f34SAhymc/ZvM4DOavcD+z0M5pFmh3PxuC4zJuaoA/xjcUPlsHhz8uHAjJAiaQP9ieWRKgppY/oI7HDFTGnz+a5h2n6EimPzS6g9iZQq8/IuAQqtTstT9SSZ2AJsK+P4nS3uALk8U/ih9j7lpCzj+ASL99HTjVP4enV8oyxN0/ACL99nXg5D9fmEwVjErtPyUGgZVDi/Q/AiuHFtnO/D9OYhBYOTQEQPHSTWIQWAxA4XoUrkfhE0D8qfHSTeIbQMh2vp8ajyNArkfhehRuK0Bcj8L1KDwzQFyPwvUo/DpAPgrXo3DtQkDNzMzMzIxKQClcj8L1eFJAKVyPwvVoWECamZmZmVleQGZmZmZmJmJAAAAAAAAgZUCamZmZmRloQJqZmZmZEWtAmpmZmZkJbkCamZmZmYFwQGZmZmZm/nFAZmZmZmZ6c0BmZmZmZvZ0QDQzMzMzc3ZAAAAAAADwd0AAAAAAAGx5QAAAAAAA6HpAzMzMzMxkfEDMzMzMzOB9QM3MzMzMXH9AzczMzMxsgEAzMzMzMyuBQDMzMzMz6YFAMzMzMzOngkCamZmZmWWDQAAAAAAAJIRAAAAAAADihEAAAAAAAKCFQGZmZmZmXoZAzczMzMwch0DNzMzMzNqHQM3MzMzMmIhAMzMzMzNXiUCamZmZmRWKQAAAAAAA1IpAAAAAAACSi0AAAAAAAFCMQGZmZmZmDo1AzczMzMzMjUDNzMzMzIqOQM3MzMzMSI9A\",\"dtype\":\"float64\",\"shape\":[75]}},\"selected\":{\"id\":\"583e4099-9902-4fd0-9d29-d2d2269888ae\",\"type\":\"Selection\"},\"selection_policy\":{\"id\":\"afca93e7-9e16-4f6d-919b-b46c914b09c4\",\"type\":\"UnionRenderers\"}},\"id\":\"95d217c6-0ac6-4ed5-a193-b7a749dc44f0\",\"type\":\"ColumnDataSource\"},{\"attributes\":{},\"id\":\"1432ccd5-d12a-49be-af16-97731c0fbaa6\",\"type\":\"Selection\"},{\"attributes\":{},\"id\":\"6b41d029-4858-4b35-89f0-ebdf4aed30a9\",\"type\":\"UnionRenderers\"},{\"attributes\":{\"data_source\":{\"id\":\"4cab5a64-bdc4-4b2b-8cd3-c9d6a0bb3622\",\"type\":\"ColumnDataSource\"},\"glyph\":{\"id\":\"141b2c02-8c35-4c4b-a243-2543cd6070cc\",\"type\":\"Square\"},\"hover_glyph\":null,\"muted_glyph\":null,\"nonselection_glyph\":{\"id\":\"b7e3e7a0-a13b-4ddc-9257-bddf027bcab8\",\"type\":\"Square\"},\"selection_glyph\":null,\"view\":{\"id\":\"23f8e90c-a6f4-4c53-85c7-0ac49e694d4c\",\"type\":\"CDSView\"}},\"id\":\"a384f4c3-d06c-4e49-8f6f-63b1b25e3a94\",\"type\":\"GlyphRenderer\"},{\"attributes\":{\"line_alpha\":0.6,\"line_color\":\"#377eb8\",\"line_dash\":[6],\"line_width\":5,\"x\":{\"field\":\"x\"},\"y\":{\"field\":\"y\"}},\"id\":\"035127a8-1473-44e8-bc8b-8dea7949ab1d\",\"type\":\"Line\"},{\"attributes\":{\"line_alpha\":0.1,\"line_color\":\"#1f77b4\",\"line_dash\":[6],\"line_width\":5,\"x\":{\"field\":\"x\"},\"y\":{\"field\":\"y\"}},\"id\":\"4fb9b5fd-ee05-41a9-8559-5ee1c182a416\",\"type\":\"Line\"},{\"attributes\":{},\"id\":\"21f2b9b9-0fd3-4c7f-a1d4-9bc4dac32825\",\"type\":\"Selection\"},{\"attributes\":{},\"id\":\"a6022b3a-fb7d-4e3d-95c1-8df8e2a81b95\",\"type\":\"Selection\"},{\"attributes\":{},\"id\":\"0794bf3b-5745-4afd-839c-6106906ff592\",\"type\":\"UnionRenderers\"},{\"attributes\":{\"label\":{\"value\":\"CRD\"},\"renderers\":[{\"id\":\"bd2849c8-aaad-47a8-a10c-fa3b985051c2\",\"type\":\"GlyphRenderer\"},{\"id\":\"ba3dde1f-b529-476f-af4c-a4e239847c12\",\"type\":\"GlyphRenderer\"}]},\"id\":\"305fb403-733a-4476-a151-f18013558aeb\",\"type\":\"LegendItem\"},{\"attributes\":{},\"id\":\"6549d2b4-7194-4c03-8107-f7f24dc3ca76\",\"type\":\"Selection\"},{\"attributes\":{},\"id\":\"5c325654-729b-4d70-ba36-41ebb6986a0e\",\"type\":\"UnionRenderers\"},{\"attributes\":{},\"id\":\"477bced8-8107-4595-8788-337a758408f3\",\"type\":\"BasicTickFormatter\"},{\"attributes\":{\"items\":[{\"id\":\"491f24b2-24b5-4928-a6d3-bcd857a819aa\",\"type\":\"LegendItem\"},{\"id\":\"8c32a24c-b591-4508-83cf-944ad27fc524\",\"type\":\"LegendItem\"},{\"id\":\"c78b9268-feaf-46ce-b7b9-77fa0175dbef\",\"type\":\"LegendItem\"}],\"label_text_font_size\":{\"value\":\"8pt\"},\"location\":\"top_center\",\"orientation\":\"horizontal\",\"plot\":{\"id\":\"e1fdda0e-8bbe-452d-9d52-63ca7c9be50a\",\"subtype\":\"Figure\",\"type\":\"Plot\"}},\"id\":\"4930432b-14ea-4d7d-b94b-ba5444dc28ac\",\"type\":\"Legend\"},{\"attributes\":{},\"id\":\"c731f2e9-ab99-4d3c-9a2d-596574df784c\",\"type\":\"LinearScale\"},{\"attributes\":{\"callback\":null,\"data\":{\"x\":{\"__ndarray__\":\"MXhf+wfXU0AZbvNjswdFQLQWsEQVdUFA5TlpnhT9QUB/x1dOYK05QImjxHmcEjZA9jYDSBB3L0AISPl4H6wqQBPuuwfAzyJAOcHprUZAIUB7WWpkesAXQJoT1Uq+ChVArO/8u0EXCkBgVNlshzgCQMeNQ+Nzu/I/POwv1Qzh+D9QxMRmcj8DQOrE7tC4mAxAQsLBRIlHEkAi4cPYoDEXQEeDpjRjzB1ASZ0GEfCuI0DVFj11sssnQOMiVKSMHyhAWRHvUxNoJEDo8cjD4g8gQLGGvR2NDRpAdpI3nV5oFECtyWH9Lp4QQIZQd9bvmwtAkshlnu1BBkBMysnQf1UAQHZJU/DYZ/c/HoEhV+G48T/rSm4vc/TmP3EgV4cD49g/xmy6+4w7zz+bEsjh3uDDPw5SRMRogKs/4GPKdPc1a78lazVXN1vCP/B84ODeUug/LOyxgXDV9z+/DBHyZAwAQAOIY+fy/QFAahF3XKCUAECV0GHvGsz+P+X4k4Nhvf0/RO/IqI98/T8rkW+v/zT9P59vGMDsAv0/zEX7plCY/D/E3siS8kj7P2yUMv+hDvs/RmrXDaYs+z+c9f5GCO36P58nVCbr7vo/Qus8hbcy/D+rD5hFMCf9P4t6dxofnPw/bRp4QYZ2/D/q8NNiN2b8P5YTVw9ESPw/l1Dy0X/K+j+WKih3ZdD5P2k8OYxHjvk/hceGh5N4+T8lpPahWSn5P6vJnePt4vY/UuhmxnXI9T8miFqdE+D0Pz7qfx5CR/Q/0khvq2US9D9LfVdHQGv0P9syeEmwYfg/\",\"dtype\":\"float64\",\"shape\":[75]},\"y\":{\"__ndarray__\":\"hLndy31yND/6fmq8dJNIP8n9DkWBPlE/aDum7souWD/b4a/JGvVgP9f34SAhymc/ZvM4DOavcD+z0M5pFmh3PxuC4zJuaoA/xjcUPlsHhz8uHAjJAiaQP9ieWRKgppY/oI7HDFTGnz+a5h2n6EimPzS6g9iZQq8/IuAQqtTstT9SSZ2AJsK+P4nS3uALk8U/ih9j7lpCzj+ASL99HTjVP4enV8oyxN0/ACL99nXg5D9fmEwVjErtPyUGgZVDi/Q/AiuHFtnO/D9OYhBYOTQEQPHSTWIQWAxA4XoUrkfhE0D8qfHSTeIbQMh2vp8ajyNArkfhehRuK0Bcj8L1KDwzQFyPwvUo/DpAPgrXo3DtQkDNzMzMzIxKQClcj8L1eFJAKVyPwvVoWECamZmZmVleQGZmZmZmJmJAAAAAAAAgZUCamZmZmRloQJqZmZmZEWtAmpmZmZkJbkCamZmZmYFwQGZmZmZm/nFAZmZmZmZ6c0BmZmZmZvZ0QDQzMzMzc3ZAAAAAAADwd0AAAAAAAGx5QAAAAAAA6HpAzMzMzMxkfEDMzMzMzOB9QM3MzMzMXH9AzczMzMxsgEAzMzMzMyuBQDMzMzMz6YFAMzMzMzOngkCamZmZmWWDQAAAAAAAJIRAAAAAAADihEAAAAAAAKCFQGZmZmZmXoZAzczMzMwch0DNzMzMzNqHQM3MzMzMmIhAMzMzMzNXiUCamZmZmRWKQAAAAAAA1IpAAAAAAACSi0AAAAAAAFCMQGZmZmZmDo1AzczMzMzMjUDNzMzMzIqOQM3MzMzMSI9A\",\"dtype\":\"float64\",\"shape\":[75]}},\"selected\":{\"id\":\"a6de0b98-e5da-42b5-858a-26b907c11daf\",\"type\":\"Selection\"},\"selection_policy\":{\"id\":\"4096a0fe-c973-4c17-a6ec-7add16ba638f\",\"type\":\"UnionRenderers\"}},\"id\":\"4cab5a64-bdc4-4b2b-8cd3-c9d6a0bb3622\",\"type\":\"ColumnDataSource\"},{\"attributes\":{\"plot\":null,\"text\":\"\"},\"id\":\"3f803e1e-3b59-456a-8fc2-6c93605d979b\",\"type\":\"Title\"},{\"attributes\":{\"label\":{\"value\":\"old CLIRAD (H2012)\"},\"renderers\":[{\"id\":\"a384f4c3-d06c-4e49-8f6f-63b1b25e3a94\",\"type\":\"GlyphRenderer\"},{\"id\":\"a73aa616-1e94-47ea-8b20-33cd0a446be0\",\"type\":\"GlyphRenderer\"}]},\"id\":\"2523effa-2588-47cd-829e-11a9b893374d\",\"type\":\"LegendItem\"},{\"attributes\":{},\"id\":\"8827d5c5-2e65-4e20-a622-4e295bae9801\",\"type\":\"LogScale\"},{\"attributes\":{},\"id\":\"a615fad5-e455-409e-a712-38365e9cb418\",\"type\":\"BasicTicker\"},{\"attributes\":{},\"id\":\"b0ce3454-338c-444f-a4ca-81885a301ceb\",\"type\":\"Selection\"},{\"attributes\":{\"source\":{\"id\":\"4cab5a64-bdc4-4b2b-8cd3-c9d6a0bb3622\",\"type\":\"ColumnDataSource\"}},\"id\":\"23f8e90c-a6f4-4c53-85c7-0ac49e694d4c\",\"type\":\"CDSView\"},{\"attributes\":{\"active_drag\":\"auto\",\"active_inspect\":\"auto\",\"active_scroll\":\"auto\",\"active_tap\":\"auto\",\"tools\":[{\"id\":\"26894f10-b954-4206-b2c6-4a4ae90c1f34\",\"type\":\"PanTool\"},{\"id\":\"d81fbdc9-8ade-42c2-8a5f-7eeb722ac229\",\"type\":\"WheelZoomTool\"},{\"id\":\"7ae52b83-4dbb-4196-a80a-9b37d7b88181\",\"type\":\"BoxZoomTool\"},{\"id\":\"f55c9062-340e-44f5-91f9-2a81d37a662d\",\"type\":\"SaveTool\"},{\"id\":\"40462fd6-a097-4126-9683-6d839ffbc5e2\",\"type\":\"ResetTool\"},{\"id\":\"38bbe11e-8105-435e-b2eb-b7a1825d069e\",\"type\":\"HelpTool\"}]},\"id\":\"9518ad8c-fc70-43ff-a4d3-5941a90849df\",\"type\":\"Toolbar\"},{\"attributes\":{\"axis_label\":\"pressure [mb]\",\"formatter\":{\"id\":\"8a45c950-3c68-46e2-bd61-efda8462f549\",\"type\":\"LogTickFormatter\"},\"plot\":{\"id\":\"e1fdda0e-8bbe-452d-9d52-63ca7c9be50a\",\"subtype\":\"Figure\",\"type\":\"Plot\"},\"ticker\":{\"id\":\"6b8f4458-ba22-472d-9615-fa2454d62285\",\"type\":\"LogTicker\"}},\"id\":\"36374830-01cf-4f53-8a2a-e6e9d4e063f1\",\"type\":\"LogAxis\"},{\"attributes\":{},\"id\":\"5abce410-3cae-4efb-b640-c5e5e8b34de7\",\"type\":\"UnionRenderers\"},{\"attributes\":{\"ticker\":null},\"id\":\"8a45c950-3c68-46e2-bd61-efda8462f549\",\"type\":\"LogTickFormatter\"},{\"attributes\":{},\"id\":\"b46b3d83-d34d-45ea-8ab5-96926b559fcc\",\"type\":\"Selection\"},{\"attributes\":{\"source\":{\"id\":\"8b846131-8fec-4d3e-9395-db419f0467c5\",\"type\":\"ColumnDataSource\"}},\"id\":\"553398d7-d400-4668-a34d-5d8be180ddf4\",\"type\":\"CDSView\"},{\"attributes\":{\"source\":{\"id\":\"2d54c144-25a4-44cd-9b91-926e16144378\",\"type\":\"ColumnDataSource\"}},\"id\":\"4a3ca5ed-5a44-4f19-a863-1b542a81d69d\",\"type\":\"CDSView\"},{\"attributes\":{\"line_alpha\":0.1,\"line_color\":\"#1f77b4\",\"line_width\":1.5,\"x\":{\"field\":\"x\"},\"y\":{\"field\":\"y\"}},\"id\":\"ae592015-f014-41d4-8942-c8349a97445b\",\"type\":\"Line\"},{\"attributes\":{\"callback\":null,\"end\":13.587990068193777,\"start\":-0.33463321763178},\"id\":\"3578ae77-4cf2-40b6-b50c-77c6f8a8ad2f\",\"type\":\"Range1d\"},{\"attributes\":{\"line_alpha\":0.5,\"line_color\":\"#377eb8\",\"line_dash\":[6],\"line_width\":4,\"x\":{\"field\":\"x\"},\"y\":{\"field\":\"y\"}},\"id\":\"2a93e52b-2406-4620-b723-c81ab8f3d9f3\",\"type\":\"Line\"},{\"attributes\":{\"fill_alpha\":{\"value\":0.7},\"fill_color\":{\"value\":\"#4daf4a\"},\"line_alpha\":{\"value\":0.7},\"line_color\":{\"value\":\"#4daf4a\"},\"x\":{\"field\":\"x\"},\"y\":{\"field\":\"y\"}},\"id\":\"c5b375d7-c2ac-499d-8c82-130b28dfe40b\",\"type\":\"Circle\"},{\"attributes\":{\"data_source\":{\"id\":\"2d54c144-25a4-44cd-9b91-926e16144378\",\"type\":\"ColumnDataSource\"},\"glyph\":{\"id\":\"eec38e19-89d3-4d11-8ec2-a2fd9e5b1867\",\"type\":\"Line\"},\"hover_glyph\":null,\"muted_glyph\":null,\"nonselection_glyph\":{\"id\":\"ae592015-f014-41d4-8942-c8349a97445b\",\"type\":\"Line\"},\"selection_glyph\":null,\"view\":{\"id\":\"4a3ca5ed-5a44-4f19-a863-1b542a81d69d\",\"type\":\"CDSView\"}},\"id\":\"1eb49327-445c-439b-a5cf-4782b30b637e\",\"type\":\"GlyphRenderer\"},{\"attributes\":{\"data_source\":{\"id\":\"75d356fd-ec43-43e8-a7a7-51fbd9a670c8\",\"type\":\"ColumnDataSource\"},\"glyph\":{\"id\":\"4f86d0d5-deaf-43ae-a20d-a45209159814\",\"type\":\"Square\"},\"hover_glyph\":null,\"muted_glyph\":null,\"nonselection_glyph\":{\"id\":\"a2082d20-a14e-471c-b9e7-36c470ad7f65\",\"type\":\"Square\"},\"selection_glyph\":null,\"view\":{\"id\":\"f03f2d21-9aff-4e15-b3db-d23910bc04c4\",\"type\":\"CDSView\"}},\"id\":\"8c3c4aeb-838b-4f59-aab7-b1e92aa69999\",\"type\":\"GlyphRenderer\"},{\"attributes\":{\"data_source\":{\"id\":\"3ce32af9-a2ed-4fc8-a1ff-d883f51c789a\",\"type\":\"ColumnDataSource\"},\"glyph\":{\"id\":\"5d6e8c7b-a9c6-464b-82bf-c918897095c4\",\"type\":\"Line\"},\"hover_glyph\":null,\"muted_glyph\":null,\"nonselection_glyph\":{\"id\":\"7618acf2-a05b-4a1a-9c4f-e5895e61de95\",\"type\":\"Line\"},\"selection_glyph\":null,\"view\":{\"id\":\"27e4bc2c-aa23-4654-b685-f1163ec914e5\",\"type\":\"CDSView\"}},\"id\":\"0ba5e7ab-9f71-4e52-927e-b3e72a609907\",\"type\":\"GlyphRenderer\"},{\"attributes\":{\"callback\":null,\"data\":{\"x\":{\"__ndarray__\":\"MXhf+wfXU0AZbvNjswdFQLQWsEQVdUFA5TlpnhT9QUB/x1dOYK05QImjxHmcEjZA9jYDSBB3L0AISPl4H6wqQBPuuwfAzyJAOcHprUZAIUB7WWpkesAXQJoT1Uq+ChVArO/8u0EXCkBgVNlshzgCQMeNQ+Nzu/I/POwv1Qzh+D9QxMRmcj8DQOrE7tC4mAxAQsLBRIlHEkAi4cPYoDEXQEeDpjRjzB1ASZ0GEfCuI0DVFj11sssnQOMiVKSMHyhAWRHvUxNoJEDo8cjD4g8gQLGGvR2NDRpAdpI3nV5oFECtyWH9Lp4QQIZQd9bvmwtAkshlnu1BBkBMysnQf1UAQHZJU/DYZ/c/HoEhV+G48T/rSm4vc/TmP3EgV4cD49g/xmy6+4w7zz+bEsjh3uDDPw5SRMRogKs/4GPKdPc1a78lazVXN1vCP/B84ODeUug/LOyxgXDV9z+/DBHyZAwAQAOIY+fy/QFAahF3XKCUAECV0GHvGsz+P+X4k4Nhvf0/RO/IqI98/T8rkW+v/zT9P59vGMDsAv0/zEX7plCY/D/E3siS8kj7P2yUMv+hDvs/RmrXDaYs+z+c9f5GCO36P58nVCbr7vo/Qus8hbcy/D+rD5hFMCf9P4t6dxofnPw/bRp4QYZ2/D/q8NNiN2b8P5YTVw9ESPw/l1Dy0X/K+j+WKih3ZdD5P2k8OYxHjvk/hceGh5N4+T8lpPahWSn5P6vJnePt4vY/UuhmxnXI9T8miFqdE+D0Pz7qfx5CR/Q/0khvq2US9D9LfVdHQGv0P9syeEmwYfg/\",\"dtype\":\"float64\",\"shape\":[75]},\"y\":{\"__ndarray__\":\"hLndy31yND/6fmq8dJNIP8n9DkWBPlE/aDum7souWD/b4a/JGvVgP9f34SAhymc/ZvM4DOavcD+z0M5pFmh3PxuC4zJuaoA/xjcUPlsHhz8uHAjJAiaQP9ieWRKgppY/oI7HDFTGnz+a5h2n6EimPzS6g9iZQq8/IuAQqtTstT9SSZ2AJsK+P4nS3uALk8U/ih9j7lpCzj+ASL99HTjVP4enV8oyxN0/ACL99nXg5D9fmEwVjErtPyUGgZVDi/Q/AiuHFtnO/D9OYhBYOTQEQPHSTWIQWAxA4XoUrkfhE0D8qfHSTeIbQMh2vp8ajyNArkfhehRuK0Bcj8L1KDwzQFyPwvUo/DpAPgrXo3DtQkDNzMzMzIxKQClcj8L1eFJAKVyPwvVoWECamZmZmVleQGZmZmZmJmJAAAAAAAAgZUCamZmZmRloQJqZmZmZEWtAmpmZmZkJbkCamZmZmYFwQGZmZmZm/nFAZmZmZmZ6c0BmZmZmZvZ0QDQzMzMzc3ZAAAAAAADwd0AAAAAAAGx5QAAAAAAA6HpAzMzMzMxkfEDMzMzMzOB9QM3MzMzMXH9AzczMzMxsgEAzMzMzMyuBQDMzMzMz6YFAMzMzMzOngkCamZmZmWWDQAAAAAAAJIRAAAAAAADihEAAAAAAAKCFQGZmZmZmXoZAzczMzMwch0DNzMzMzNqHQM3MzMzMmIhAMzMzMzNXiUCamZmZmRWKQAAAAAAA1IpAAAAAAACSi0AAAAAAAFCMQGZmZmZmDo1AzczMzMzMjUDNzMzMzIqOQM3MzMzMSI9A\",\"dtype\":\"float64\",\"shape\":[75]}},\"selected\":{\"id\":\"6549d2b4-7194-4c03-8107-f7f24dc3ca76\",\"type\":\"Selection\"},\"selection_policy\":{\"id\":\"0794bf3b-5745-4afd-839c-6106906ff592\",\"type\":\"UnionRenderers\"}},\"id\":\"2d54c144-25a4-44cd-9b91-926e16144378\",\"type\":\"ColumnDataSource\"},{\"attributes\":{\"callback\":null,\"data\":{\"x\":{\"__ndarray__\":\"EFTPEMULEsBY5Soo7NcRwOAih0PfTQnAcLzxlkslFUAgkIluU6TzP+gpDdzLdwVAICHKUKVt1T+Ik7s3hMbwP6AHr9TDy9y/ECnbDOK15j+w2qv7vfbXvzCQ/22EH9Y/ABwN6PuE1b8w8RgTZ5TNP8ZxqdeCOdI/WPaTJPMAyz/gCWaNx9zKv4Bz2SfMkLG/QNDU2Dvrw7/gjDvG8ELPv3BfAcZ9A9W/QPE2M06U4r+4EtXbvdv4v8CHA9UM1vO/wNkC+csj1L9A31CHx4DGv4BAVcDWEKk/AJyjBEwOpL8A2K0iJHelvwAHMEdHKYW/QAFQrblkpT+AYHxUdJWePwCcnL/AFYO/AIDdMF2+IL9AoMQ3Xs6Hv8CEJWa/IIk/SHjx3bH7mD9glt/hXwibv4AXhtbv81c/0ZPByHVmuD+ZIBKsyEuxPwB7VdwaDKi/AMK2wPlcpL+A1M+Jt0OhvwBblecIUqS/AOzlE2F5m79AcNDuEvKUv8BO6MRU/Ja/ALSuiFPKhL8ASGwETKOKvwCIZggV2Yi/AB5fgpVndD+A7LY9mXWhv8C4xgD0L5O/ALuUgd63fD8AAPReZ8gCPwB4gQY0fE+/gN8kEc8Okj9ggdWOaw6mPwButB7pzIA/QJoEKHMXlz9A3ZOmSfmuP0CC+mOR17o/8L5CjVu4sD8gd3D5DeiqP4BAGGl6MbI/oBQpEQTvtT+AoHD36662PwCQysucWWu/gOgg5EKCgD+gmD6me76hPwAZquxAgK4/MDP40Wo1tD/gyKr9n0C3P9Ci4ei4h7S/\",\"dtype\":\"float64\",\"shape\":[75]},\"y\":{\"__ndarray__\":\"GhExyth1ND/Sv8nbtpRIP2vylNV0PVE/aTum7souWD/At0SJ8fVgPw3Iuahxymc/MSNhhJWvcD/bTfBN02d3P2zb5nxnaoA/CD5h5MAGhz8NmeH1TyaQP+zrCsc9p5Y/LbKd76fGnz/bLW5ISEmmPww9YvTcQq8/JV2OstnstT8Er5Y7M8G+P0c+r3jqkcU/5h99k6ZBzj88bCIzFzjVP4enV8oyxN0//yH99nXg5D8qOpLLf0jtP5kqGJXUifQ/c9cS8kHP/D+/DpwzojQEQIEmwoanVwxA4lgXt9HgE0BSSZ2AJuIbQAMJih9jjiNA5q4l5INuK0AwTKYKRj0zQNv5fmq8/DpAaCJseHrtQkB/+zpwzoxKQM3MzMzMeFJAZmZmZmZqWEAAAAAAAFxeQM3MzMzMJmJAmpmZmZkfZUBmZmZmZhhoQDMzMzMzEWtAAAAAAAAKbkBmZmZmZoFwQM3MzMzM/XFAMzMzMzN6c0CamZmZmfZ0QAAAAAAAc3ZAZmZmZmbvd0DNzMzMzGt5QDMzMzMz6HpAmpmZmZlkfEAAAAAAAOF9QGZmZmZmXX9AZmZmZuZsgECamZmZGSuBQM3MzMxM6YFAAAAAAICngkAzMzMzs2WDQGZmZmbmI4RAmpmZmRnihEDNzMzMTKCFQAAAAACAXoZAMzMzM7Mch0BmZmZm5tqHQJqZmZkZmYhAzczMzExXiUAAAAAAgBWKQDMzMzOz04pAZmZmZuaRi0CamZmZGVCMQM3MzMxMDo1AAAAAAIDMjUAzMzMzs4qOQGZmZmbmSI9A\",\"dtype\":\"float64\",\"shape\":[75]}},\"selected\":{\"id\":\"c07268e2-37fd-4fb6-9240-c6dfb13da67c\",\"type\":\"Selection\"},\"selection_policy\":{\"id\":\"70a65296-d92b-4753-9a4e-30008f7d0362\",\"type\":\"UnionRenderers\"}},\"id\":\"1177e908-612c-4308-86a0-a82a05471d19\",\"type\":\"ColumnDataSource\"},{\"attributes\":{\"data_source\":{\"id\":\"8b846131-8fec-4d3e-9395-db419f0467c5\",\"type\":\"ColumnDataSource\"},\"glyph\":{\"id\":\"c5b375d7-c2ac-499d-8c82-130b28dfe40b\",\"type\":\"Circle\"},\"hover_glyph\":null,\"muted_glyph\":null,\"nonselection_glyph\":{\"id\":\"7343efd0-4152-444f-bea1-f91a9630a58e\",\"type\":\"Circle\"},\"selection_glyph\":null,\"view\":{\"id\":\"553398d7-d400-4668-a34d-5d8be180ddf4\",\"type\":\"CDSView\"}},\"id\":\"52608ed8-5f33-441c-85d5-4be0abdc70a9\",\"type\":\"GlyphRenderer\"},{\"attributes\":{\"line_color\":\"#4daf4a\",\"line_width\":1.5,\"x\":{\"field\":\"x\"},\"y\":{\"field\":\"y\"}},\"id\":\"5d6e8c7b-a9c6-464b-82bf-c918897095c4\",\"type\":\"Line\"},{\"attributes\":{\"source\":{\"id\":\"3ce32af9-a2ed-4fc8-a1ff-d883f51c789a\",\"type\":\"ColumnDataSource\"}},\"id\":\"27e4bc2c-aa23-4654-b685-f1163ec914e5\",\"type\":\"CDSView\"},{\"attributes\":{\"fill_alpha\":{\"value\":0.1},\"fill_color\":{\"value\":\"#1f77b4\"},\"line_alpha\":{\"value\":0.1},\"line_color\":{\"value\":\"#1f77b4\"},\"x\":{\"field\":\"x\"},\"y\":{\"field\":\"y\"}},\"id\":\"7343efd0-4152-444f-bea1-f91a9630a58e\",\"type\":\"Circle\"},{\"attributes\":{\"source\":{\"id\":\"c65e0103-6723-4f2f-a3ee-562998cf4510\",\"type\":\"ColumnDataSource\"}},\"id\":\"a3c4a018-5e17-4866-a6bf-2eb965181aed\",\"type\":\"CDSView\"},{\"attributes\":{\"data_source\":{\"id\":\"c65e0103-6723-4f2f-a3ee-562998cf4510\",\"type\":\"ColumnDataSource\"},\"glyph\":{\"id\":\"21db0264-1a74-4ed5-8612-4b28cd0fcbc8\",\"type\":\"Line\"},\"hover_glyph\":null,\"muted_glyph\":null,\"nonselection_glyph\":{\"id\":\"79cb3e22-df3b-4881-ab45-c95965a66883\",\"type\":\"Line\"},\"selection_glyph\":null,\"view\":{\"id\":\"a3c4a018-5e17-4866-a6bf-2eb965181aed\",\"type\":\"CDSView\"}},\"id\":\"65fd165b-1ff8-4b36-8ac7-319b6ebabbb3\",\"type\":\"GlyphRenderer\"},{\"attributes\":{\"fill_alpha\":{\"value\":0.7},\"fill_color\":{\"value\":\"#984ea3\"},\"line_alpha\":{\"value\":0.7},\"line_color\":{\"value\":\"#984ea3\"},\"x\":{\"field\":\"x\"},\"y\":{\"field\":\"y\"}},\"id\":\"4f86d0d5-deaf-43ae-a20d-a45209159814\",\"type\":\"Square\"},{\"attributes\":{\"callback\":null,\"data\":{\"x\":{\"__ndarray__\":\"cm1sTMT3VEDEyvjosEJHQOKI6DjzCUNArgQWV9awPkB9Lm8XG3M4QEz+Qv6iYzNA7eV8HaPLLkCX1QHyTpMoQFBmYSYetiNAUB04GtGpH0AmFyVE5j8ZQJca9QPGqBNALJP+OOHHDEBNxaf7QF8AQKtislomWuw/cW2dcO6A9T/uJJvfPu0EQIaQLTI/JQ1AxGiII+PmEkCJvfVeuCsYQD6ZBhGbHB9AXQw69DTYJEAsubcwKucqQNuT9D5OmipAJyi3szEJJUBlNebh5WkgQDDcPHBr2xlArtlANXuQFEBdJadFHckQQI2Avh0ZsQtAjYiwt1rsBUCL0SDoVBgAQK6C0nEEjvc/CggLSme58T9sXU2orFPnP0v0JYz9Gdg/vT38vxYczD9nBQTe6kHHP1IhkEXJwKo/8OZnhCVAub+xtVgCpmqzP6DUpY6g0+k/PKK3T1h4+D8RTDjQc1EAQG/dAQs7TwJAQt2eHpPLAEBWEh074x//PyCap9ZSGf4/rEzaTySm/T+7aXhHRmr9P688KeqeNP0/ruZ4EemD/D8olrZcn9T7P0+vNc9hW/s/i9VVL+4P+z+0NzC24uz6P8731Kza8vo/xFf4SHzq+z+gYyHpvHb8P68ROkiFevw/BAjYdCga/D8AUp8VbW77P3JrF/nKmvo/qCQeGfq++T/dplwHJfn4P2G4p+Uva/g/OzZ0RqMZ+D8dmn/iar73P/OuA7Ka8PY/gaaeQHGn9T9hkyjAH1L0P3aZGhdAU/M/n8VP/g7P8j+90HxHNvfyPwhNBtgrqvk/\",\"dtype\":\"float64\",\"shape\":[75]},\"y\":{\"__ndarray__\":\"GhExyth1ND/Sv8nbtpRIP2vylNV0PVE/aTum7souWD/At0SJ8fVgPw3Iuahxymc/MSNhhJWvcD/bTfBN02d3P2zb5nxnaoA/CD5h5MAGhz8NmeH1TyaQP+zrCsc9p5Y/LbKd76fGnz/bLW5ISEmmPww9YvTcQq8/JV2OstnstT8Er5Y7M8G+P0c+r3jqkcU/5h99k6ZBzj88bCIzFzjVP4enV8oyxN0//yH99nXg5D8qOpLLf0jtP5kqGJXUifQ/c9cS8kHP/D+/DpwzojQEQIEmwoanVwxA4lgXt9HgE0BSSZ2AJuIbQAMJih9jjiNA5q4l5INuK0AwTKYKRj0zQNv5fmq8/DpAaCJseHrtQkB/+zpwzoxKQM3MzMzMeFJAZmZmZmZqWEAAAAAAAFxeQM3MzMzMJmJAmpmZmZkfZUBmZmZmZhhoQDMzMzMzEWtAAAAAAAAKbkBmZmZmZoFwQM3MzMzM/XFAMzMzMzN6c0CamZmZmfZ0QAAAAAAAc3ZAZmZmZmbvd0DNzMzMzGt5QDMzMzMz6HpAmpmZmZlkfEAAAAAAAOF9QGZmZmZmXX9AZmZmZuZsgECamZmZGSuBQM3MzMxM6YFAAAAAAICngkAzMzMzs2WDQGZmZmbmI4RAmpmZmRnihEDNzMzMTKCFQAAAAACAXoZAMzMzM7Mch0BmZmZm5tqHQJqZmZkZmYhAzczMzExXiUAAAAAAgBWKQDMzMzOz04pAZmZmZuaRi0CamZmZGVCMQM3MzMxMDo1AAAAAAIDMjUAzMzMzs4qOQGZmZmbmSI9A\",\"dtype\":\"float64\",\"shape\":[75]}},\"selected\":{\"id\":\"a6022b3a-fb7d-4e3d-95c1-8df8e2a81b95\",\"type\":\"Selection\"},\"selection_policy\":{\"id\":\"5abce410-3cae-4efb-b640-c5e5e8b34de7\",\"type\":\"UnionRenderers\"}},\"id\":\"8b846131-8fec-4d3e-9395-db419f0467c5\",\"type\":\"ColumnDataSource\"},{\"attributes\":{\"callback\":null,\"data\":{\"x\":{\"__ndarray__\":\"cm1sTMT3VEDEyvjosEJHQOKI6DjzCUNArgQWV9awPkB9Lm8XG3M4QEz+Qv6iYzNA7eV8HaPLLkCX1QHyTpMoQFBmYSYetiNAUB04GtGpH0AmFyVE5j8ZQJca9QPGqBNALJP+OOHHDEBNxaf7QF8AQKtislomWuw/cW2dcO6A9T/uJJvfPu0EQIaQLTI/JQ1AxGiII+PmEkCJvfVeuCsYQD6ZBhGbHB9AXQw69DTYJEAsubcwKucqQNuT9D5OmipAJyi3szEJJUBlNebh5WkgQDDcPHBr2xlArtlANXuQFEBdJadFHckQQI2Avh0ZsQtAjYiwt1rsBUCL0SDoVBgAQK6C0nEEjvc/CggLSme58T9sXU2orFPnP0v0JYz9Gdg/vT38vxYczD9nBQTe6kHHP1IhkEXJwKo/8OZnhCVAub+xtVgCpmqzP6DUpY6g0+k/PKK3T1h4+D8RTDjQc1EAQG/dAQs7TwJAQt2eHpPLAEBWEh074x//PyCap9ZSGf4/rEzaTySm/T+7aXhHRmr9P688KeqeNP0/ruZ4EemD/D8olrZcn9T7P0+vNc9hW/s/i9VVL+4P+z+0NzC24uz6P8731Kza8vo/xFf4SHzq+z+gYyHpvHb8P68ROkiFevw/BAjYdCga/D8AUp8VbW77P3JrF/nKmvo/qCQeGfq++T/dplwHJfn4P2G4p+Uva/g/OzZ0RqMZ+D8dmn/iar73P/OuA7Ka8PY/gaaeQHGn9T9hkyjAH1L0P3aZGhdAU/M/n8VP/g7P8j+90HxHNvfyPwhNBtgrqvk/\",\"dtype\":\"float64\",\"shape\":[75]},\"y\":{\"__ndarray__\":\"GhExyth1ND/Sv8nbtpRIP2vylNV0PVE/aTum7souWD/At0SJ8fVgPw3Iuahxymc/MSNhhJWvcD/bTfBN02d3P2zb5nxnaoA/CD5h5MAGhz8NmeH1TyaQP+zrCsc9p5Y/LbKd76fGnz/bLW5ISEmmPww9YvTcQq8/JV2OstnstT8Er5Y7M8G+P0c+r3jqkcU/5h99k6ZBzj88bCIzFzjVP4enV8oyxN0//yH99nXg5D8qOpLLf0jtP5kqGJXUifQ/c9cS8kHP/D+/DpwzojQEQIEmwoanVwxA4lgXt9HgE0BSSZ2AJuIbQAMJih9jjiNA5q4l5INuK0AwTKYKRj0zQNv5fmq8/DpAaCJseHrtQkB/+zpwzoxKQM3MzMzMeFJAZmZmZmZqWEAAAAAAAFxeQM3MzMzMJmJAmpmZmZkfZUBmZmZmZhhoQDMzMzMzEWtAAAAAAAAKbkBmZmZmZoFwQM3MzMzM/XFAMzMzMzN6c0CamZmZmfZ0QAAAAAAAc3ZAZmZmZmbvd0DNzMzMzGt5QDMzMzMz6HpAmpmZmZlkfEAAAAAAAOF9QGZmZmZmXX9AZmZmZuZsgECamZmZGSuBQM3MzMxM6YFAAAAAAICngkAzMzMzs2WDQGZmZmbmI4RAmpmZmRnihEDNzMzMTKCFQAAAAACAXoZAMzMzM7Mch0BmZmZm5tqHQJqZmZkZmYhAzczMzExXiUAAAAAAgBWKQDMzMzOz04pAZmZmZuaRi0CamZmZGVCMQM3MzMxMDo1AAAAAAIDMjUAzMzMzs4qOQGZmZmbmSI9A\",\"dtype\":\"float64\",\"shape\":[75]}},\"selected\":{\"id\":\"1432ccd5-d12a-49be-af16-97731c0fbaa6\",\"type\":\"Selection\"},\"selection_policy\":{\"id\":\"6b41d029-4858-4b35-89f0-ebdf4aed30a9\",\"type\":\"UnionRenderers\"}},\"id\":\"3ce32af9-a2ed-4fc8-a1ff-d883f51c789a\",\"type\":\"ColumnDataSource\"},{\"attributes\":{\"above\":[{\"id\":\"6d6092cd-d095-4876-aae0-76c33c721293\",\"type\":\"Legend\"}],\"below\":[{\"id\":\"d85ce4f3-a62b-42cc-9f73-83c3998b640f\",\"type\":\"LinearAxis\"}],\"left\":[{\"id\":\"25481bb9-cce0-4a0c-8f41-1faf4463330e\",\"type\":\"LinearAxis\"}],\"plot_width\":300,\"renderers\":[{\"id\":\"d85ce4f3-a62b-42cc-9f73-83c3998b640f\",\"type\":\"LinearAxis\"},{\"id\":\"52943d36-3b84-4480-b2c3-991dcfde1b31\",\"type\":\"Grid\"},{\"id\":\"25481bb9-cce0-4a0c-8f41-1faf4463330e\",\"type\":\"LinearAxis\"},{\"id\":\"04aaa37e-0e6c-4297-8ca1-8e4df8130d6d\",\"type\":\"Grid\"},{\"id\":\"14f1a4d6-cabe-4d94-9ddf-10351ea5faf5\",\"type\":\"BoxAnnotation\"},{\"id\":\"39c21e29-2865-4b67-87d3-f5fae23072e6\",\"type\":\"GlyphRenderer\"},{\"id\":\"bd2849c8-aaad-47a8-a10c-fa3b985051c2\",\"type\":\"GlyphRenderer\"},{\"id\":\"ba3dde1f-b529-476f-af4c-a4e239847c12\",\"type\":\"GlyphRenderer\"},{\"id\":\"a384f4c3-d06c-4e49-8f6f-63b1b25e3a94\",\"type\":\"GlyphRenderer\"},{\"id\":\"a73aa616-1e94-47ea-8b20-33cd0a446be0\",\"type\":\"GlyphRenderer\"},{\"id\":\"6d6092cd-d095-4876-aae0-76c33c721293\",\"type\":\"Legend\"}],\"title\":{\"id\":\"aebbf5ec-b0e3-4fc1-bf0c-2934e56fe357\",\"type\":\"Title\"},\"toolbar\":{\"id\":\"0dbbf5b2-c46a-498b-b0e4-2d8acd6f5549\",\"type\":\"Toolbar\"},\"toolbar_location\":null,\"x_range\":{\"id\":\"66feaa64-0942-4ccf-a19a-d004617f15a3\",\"type\":\"Range1d\"},\"x_scale\":{\"id\":\"2b72f46e-27f7-4004-89df-f5aefe2cf0a5\",\"type\":\"LinearScale\"},\"y_range\":{\"id\":\"55ff9869-4d1a-44e1-b9f6-d6b60a7c0d5c\",\"type\":\"Range1d\"},\"y_scale\":{\"id\":\"4cdeeefe-5b98-4131-b070-3927d957259a\",\"type\":\"LinearScale\"}},\"id\":\"ef74855e-09a5-4764-bf67-098c6c895499\",\"subtype\":\"Figure\",\"type\":\"Plot\"},{\"attributes\":{\"fill_alpha\":{\"value\":0.7},\"fill_color\":{\"value\":\"#984ea3\"},\"line_alpha\":{\"value\":0.7},\"line_color\":{\"value\":\"#984ea3\"},\"x\":{\"field\":\"x\"},\"y\":{\"field\":\"y\"}},\"id\":\"f9702125-74be-4e47-a3c2-46bf7b3d9ae7\",\"type\":\"Circle\"},{\"attributes\":{\"line_alpha\":0.1,\"line_color\":\"#1f77b4\",\"line_width\":1.5,\"x\":{\"field\":\"x\"},\"y\":{\"field\":\"y\"}},\"id\":\"79cb3e22-df3b-4881-ab45-c95965a66883\",\"type\":\"Line\"},{\"attributes\":{\"callback\":null,\"data\":{\"x\":{\"__ndarray__\":\"MXhf+wfXU0AZbvNjswdFQLQWsEQVdUFA5TlpnhT9QUB/x1dOYK05QImjxHmcEjZA9jYDSBB3L0AISPl4H6wqQBPuuwfAzyJAOcHprUZAIUB7WWpkesAXQJoT1Uq+ChVArO/8u0EXCkBgVNlshzgCQMeNQ+Nzu/I/POwv1Qzh+D9QxMRmcj8DQOrE7tC4mAxAQsLBRIlHEkAi4cPYoDEXQEeDpjRjzB1ASZ0GEfCuI0DVFj11sssnQOMiVKSMHyhAWRHvUxNoJEDo8cjD4g8gQLGGvR2NDRpAdpI3nV5oFECtyWH9Lp4QQIZQd9bvmwtAkshlnu1BBkBMysnQf1UAQHZJU/DYZ/c/HoEhV+G48T/rSm4vc/TmP3EgV4cD49g/xmy6+4w7zz+bEsjh3uDDPw5SRMRogKs/4GPKdPc1a78lazVXN1vCP/B84ODeUug/LOyxgXDV9z+/DBHyZAwAQAOIY+fy/QFAahF3XKCUAECV0GHvGsz+P+X4k4Nhvf0/RO/IqI98/T8rkW+v/zT9P59vGMDsAv0/zEX7plCY/D/E3siS8kj7P2yUMv+hDvs/RmrXDaYs+z+c9f5GCO36P58nVCbr7vo/Qus8hbcy/D+rD5hFMCf9P4t6dxofnPw/bRp4QYZ2/D/q8NNiN2b8P5YTVw9ESPw/l1Dy0X/K+j+WKih3ZdD5P2k8OYxHjvk/hceGh5N4+T8lpPahWSn5P6vJnePt4vY/UuhmxnXI9T8miFqdE+D0Pz7qfx5CR/Q/0khvq2US9D9LfVdHQGv0P9syeEmwYfg/\",\"dtype\":\"float64\",\"shape\":[75]},\"y\":{\"__ndarray__\":\"hLndy31yND/6fmq8dJNIP8n9DkWBPlE/aDum7souWD/b4a/JGvVgP9f34SAhymc/ZvM4DOavcD+z0M5pFmh3PxuC4zJuaoA/xjcUPlsHhz8uHAjJAiaQP9ieWRKgppY/oI7HDFTGnz+a5h2n6EimPzS6g9iZQq8/IuAQqtTstT9SSZ2AJsK+P4nS3uALk8U/ih9j7lpCzj+ASL99HTjVP4enV8oyxN0/ACL99nXg5D9fmEwVjErtPyUGgZVDi/Q/AiuHFtnO/D9OYhBYOTQEQPHSTWIQWAxA4XoUrkfhE0D8qfHSTeIbQMh2vp8ajyNArkfhehRuK0Bcj8L1KDwzQFyPwvUo/DpAPgrXo3DtQkDNzMzMzIxKQClcj8L1eFJAKVyPwvVoWECamZmZmVleQGZmZmZmJmJAAAAAAAAgZUCamZmZmRloQJqZmZmZEWtAmpmZmZkJbkCamZmZmYFwQGZmZmZm/nFAZmZmZmZ6c0BmZmZmZvZ0QDQzMzMzc3ZAAAAAAADwd0AAAAAAAGx5QAAAAAAA6HpAzMzMzMxkfEDMzMzMzOB9QM3MzMzMXH9AzczMzMxsgEAzMzMzMyuBQDMzMzMz6YFAMzMzMzOngkCamZmZmWWDQAAAAAAAJIRAAAAAAADihEAAAAAAAKCFQGZmZmZmXoZAzczMzMwch0DNzMzMzNqHQM3MzMzMmIhAMzMzMzNXiUCamZmZmRWKQAAAAAAA1IpAAAAAAACSi0AAAAAAAFCMQGZmZmZmDo1AzczMzMzMjUDNzMzMzIqOQM3MzMzMSI9A\",\"dtype\":\"float64\",\"shape\":[75]}},\"selected\":{\"id\":\"b0ce3454-338c-444f-a4ca-81885a301ceb\",\"type\":\"Selection\"},\"selection_policy\":{\"id\":\"4a211ae1-e022-4d16-a756-dc7c26788b32\",\"type\":\"UnionRenderers\"}},\"id\":\"75d356fd-ec43-43e8-a7a7-51fbd9a670c8\",\"type\":\"ColumnDataSource\"},{\"attributes\":{\"line_alpha\":0.1,\"line_color\":\"#1f77b4\",\"line_width\":1.5,\"x\":{\"field\":\"x\"},\"y\":{\"field\":\"y\"}},\"id\":\"7618acf2-a05b-4a1a-9c4f-e5895e61de95\",\"type\":\"Line\"},{\"attributes\":{\"line_alpha\":0.5,\"line_color\":\"#984ea3\",\"line_width\":1.5,\"x\":{\"field\":\"x\"},\"y\":{\"field\":\"y\"}},\"id\":\"eec38e19-89d3-4d11-8ec2-a2fd9e5b1867\",\"type\":\"Line\"},{\"attributes\":{\"source\":{\"id\":\"75d356fd-ec43-43e8-a7a7-51fbd9a670c8\",\"type\":\"ColumnDataSource\"}},\"id\":\"f03f2d21-9aff-4e15-b3db-d23910bc04c4\",\"type\":\"CDSView\"},{\"attributes\":{\"fill_alpha\":{\"value\":0.1},\"fill_color\":{\"value\":\"#1f77b4\"},\"line_alpha\":{\"value\":0.1},\"line_color\":{\"value\":\"#1f77b4\"},\"x\":{\"field\":\"x\"},\"y\":{\"field\":\"y\"}},\"id\":\"a2082d20-a14e-471c-b9e7-36c470ad7f65\",\"type\":\"Square\"},{\"attributes\":{},\"id\":\"583e4099-9902-4fd0-9d29-d2d2269888ae\",\"type\":\"Selection\"},{\"attributes\":{},\"id\":\"2db3386f-5ce3-4668-b052-4619b0d4e35a\",\"type\":\"PanTool\"},{\"attributes\":{},\"id\":\"5d4a552a-9526-49f4-b22f-98b81570b595\",\"type\":\"WheelZoomTool\"},{\"attributes\":{\"callback\":null,\"end\":0.7323360194662635,\"start\":-1.576281364019664},\"id\":\"8602fb9d-7cd3-4434-985e-457443121e6e\",\"type\":\"Range1d\"},{\"attributes\":{},\"id\":\"38bbe11e-8105-435e-b2eb-b7a1825d069e\",\"type\":\"HelpTool\"},{\"attributes\":{\"ticker\":null},\"id\":\"caac8e8c-5513-466d-b2d3-1ae1fcb15d36\",\"type\":\"LogTickFormatter\"},{\"attributes\":{\"items\":[{\"id\":\"65cd2cb8-3df1-41a3-8122-a374f9fc9df8\",\"type\":\"LegendItem\"},{\"id\":\"50a3ec00-db37-433e-9402-080b7ea9f0e7\",\"type\":\"LegendItem\"}],\"label_text_font_size\":{\"value\":\"8pt\"},\"location\":\"top_center\",\"orientation\":\"horizontal\",\"plot\":{\"id\":\"e99d08ef-8b4e-4181-9d9c-d12981c71698\",\"subtype\":\"Figure\",\"type\":\"Plot\"}},\"id\":\"85b75cbe-0834-494d-855d-9434b591619c\",\"type\":\"Legend\"},{\"attributes\":{\"axis_label\":\"pressure [mb]\",\"formatter\":{\"id\":\"6c8e78d9-b234-4b61-82ba-70931ecbcee0\",\"type\":\"BasicTickFormatter\"},\"plot\":{\"id\":\"ef74855e-09a5-4764-bf67-098c6c895499\",\"subtype\":\"Figure\",\"type\":\"Plot\"},\"ticker\":{\"id\":\"db7e66ed-ad54-4a0f-9b2a-79de1acd9897\",\"type\":\"BasicTicker\"}},\"id\":\"25481bb9-cce0-4a0c-8f41-1faf4463330e\",\"type\":\"LinearAxis\"},{\"attributes\":{},\"id\":\"d563dbaa-566a-4fc1-9b7e-5ef96b02a3de\",\"type\":\"UnionRenderers\"},{\"attributes\":{},\"id\":\"f55c9062-340e-44f5-91f9-2a81d37a662d\",\"type\":\"SaveTool\"},{\"attributes\":{\"label\":{\"value\":\"CLIRAD (single-run)\"},\"renderers\":[{\"id\":\"9f8897ae-1abd-4106-80bb-802d3c0ef035\",\"type\":\"GlyphRenderer\"}]},\"id\":\"491f24b2-24b5-4928-a6d3-bcd857a819aa\",\"type\":\"LegendItem\"},{\"attributes\":{\"above\":[{\"id\":\"85b75cbe-0834-494d-855d-9434b591619c\",\"type\":\"Legend\"}],\"below\":[{\"id\":\"16ea34d7-0d2e-4bd7-95a7-23f9db423614\",\"type\":\"LinearAxis\"}],\"left\":[{\"id\":\"ba6c014f-02f6-4e30-8c1a-949cf3fda868\",\"type\":\"LogAxis\"}],\"plot_width\":300,\"renderers\":[{\"id\":\"16ea34d7-0d2e-4bd7-95a7-23f9db423614\",\"type\":\"LinearAxis\"},{\"id\":\"80c40ebf-9dd4-4a6f-8a29-27b95024a784\",\"type\":\"Grid\"},{\"id\":\"ba6c014f-02f6-4e30-8c1a-949cf3fda868\",\"type\":\"LogAxis\"},{\"id\":\"92c2a0b0-d59b-47f0-8b54-ffd0209bb88d\",\"type\":\"Grid\"},{\"id\":\"8e36e61c-1d91-4f90-b3dc-efc600e8211e\",\"type\":\"BoxAnnotation\"},{\"id\":\"75637a4e-9eaa-4146-8761-b09194706ee0\",\"type\":\"GlyphRenderer\"},{\"id\":\"65fd165b-1ff8-4b36-8ac7-319b6ebabbb3\",\"type\":\"GlyphRenderer\"},{\"id\":\"8777d873-a5c0-41a0-a7c1-c81b5e91f08e\",\"type\":\"GlyphRenderer\"},{\"id\":\"85b75cbe-0834-494d-855d-9434b591619c\",\"type\":\"Legend\"}],\"title\":{\"id\":\"de6e1460-20d9-4ab1-80ee-b2d9769250c8\",\"type\":\"Title\"},\"toolbar\":{\"id\":\"d3a68b0b-775c-4cd1-afe1-e1c9b56f5e7b\",\"type\":\"Toolbar\"},\"toolbar_location\":null,\"x_range\":{\"id\":\"8602fb9d-7cd3-4434-985e-457443121e6e\",\"type\":\"Range1d\"},\"x_scale\":{\"id\":\"f797b4d3-92cd-4043-ae2a-25f73438cdc0\",\"type\":\"LinearScale\"},\"y_range\":{\"id\":\"a78ec57f-fc03-4c96-9cdc-e11af7b7929a\",\"type\":\"Range1d\"},\"y_scale\":{\"id\":\"208c4565-19f5-4872-9a2d-844a0e6502a7\",\"type\":\"LogScale\"}},\"id\":\"e99d08ef-8b4e-4181-9d9c-d12981c71698\",\"subtype\":\"Figure\",\"type\":\"Plot\"},{\"attributes\":{\"tools\":[{\"id\":\"2db3386f-5ce3-4668-b052-4619b0d4e35a\",\"type\":\"PanTool\"},{\"id\":\"5d4a552a-9526-49f4-b22f-98b81570b595\",\"type\":\"WheelZoomTool\"},{\"id\":\"d534e4f8-c2d5-4978-a3ab-6af9d168f135\",\"type\":\"BoxZoomTool\"},{\"id\":\"b9a16a85-48aa-4a20-8e1c-159150b7b6a4\",\"type\":\"SaveTool\"},{\"id\":\"206dd5ab-4965-451a-a662-07e01f1ea5a2\",\"type\":\"ResetTool\"},{\"id\":\"f14b4f8d-159b-4707-a0ab-2bb6a164b6b9\",\"type\":\"HelpTool\"},{\"id\":\"26894f10-b954-4206-b2c6-4a4ae90c1f34\",\"type\":\"PanTool\"},{\"id\":\"d81fbdc9-8ade-42c2-8a5f-7eeb722ac229\",\"type\":\"WheelZoomTool\"},{\"id\":\"7ae52b83-4dbb-4196-a80a-9b37d7b88181\",\"type\":\"BoxZoomTool\"},{\"id\":\"f55c9062-340e-44f5-91f9-2a81d37a662d\",\"type\":\"SaveTool\"},{\"id\":\"40462fd6-a097-4126-9683-6d839ffbc5e2\",\"type\":\"ResetTool\"},{\"id\":\"38bbe11e-8105-435e-b2eb-b7a1825d069e\",\"type\":\"HelpTool\"},{\"id\":\"40a0e800-f7f0-49b7-b76a-319b425ab78c\",\"type\":\"PanTool\"},{\"id\":\"5e73500d-31e3-4df7-b697-89eefae09834\",\"type\":\"WheelZoomTool\"},{\"id\":\"70af1c05-376d-434d-aa1c-688b045aae85\",\"type\":\"BoxZoomTool\"},{\"id\":\"4d12c7ef-b96b-46a6-bbd4-e461b73b51aa\",\"type\":\"SaveTool\"},{\"id\":\"0370b155-4eab-4590-bd4e-e5da7e95b255\",\"type\":\"ResetTool\"},{\"id\":\"c30b6464-7be0-4207-8214-8f62b8620bd4\",\"type\":\"HelpTool\"}]},\"id\":\"f884fae8-ceab-4b92-b7cf-7aa50c11477c\",\"type\":\"ProxyToolbar\"},{\"attributes\":{},\"id\":\"d81fbdc9-8ade-42c2-8a5f-7eeb722ac229\",\"type\":\"WheelZoomTool\"},{\"attributes\":{},\"id\":\"2b72f46e-27f7-4004-89df-f5aefe2cf0a5\",\"type\":\"LinearScale\"},{\"attributes\":{\"label\":{\"value\":\"CRD\"},\"renderers\":[{\"id\":\"52608ed8-5f33-441c-85d5-4be0abdc70a9\",\"type\":\"GlyphRenderer\"},{\"id\":\"0ba5e7ab-9f71-4e52-927e-b3e72a609907\",\"type\":\"GlyphRenderer\"}]},\"id\":\"8c32a24c-b591-4508-83cf-944ad27fc524\",\"type\":\"LegendItem\"},{\"attributes\":{},\"id\":\"b9a16a85-48aa-4a20-8e1c-159150b7b6a4\",\"type\":\"SaveTool\"},{\"attributes\":{\"bottom_units\":\"screen\",\"fill_alpha\":{\"value\":0.5},\"fill_color\":{\"value\":\"lightgrey\"},\"left_units\":\"screen\",\"level\":\"overlay\",\"line_alpha\":{\"value\":1.0},\"line_color\":{\"value\":\"black\"},\"line_dash\":[4,4],\"line_width\":{\"value\":2},\"plot\":null,\"render_mode\":\"css\",\"right_units\":\"screen\",\"top_units\":\"screen\"},\"id\":\"a9c2d0b9-4c43-4ef5-b10c-6cd1478a531d\",\"type\":\"BoxAnnotation\"},{\"attributes\":{},\"id\":\"728e8c7d-d11c-4349-aa21-97568df0b760\",\"type\":\"Selection\"},{\"attributes\":{\"toolbar\":{\"id\":\"f884fae8-ceab-4b92-b7cf-7aa50c11477c\",\"type\":\"ProxyToolbar\"},\"toolbar_location\":\"above\"},\"id\":\"6e1eaa87-fe74-448c-aff8-a5cf7fe3250f\",\"type\":\"ToolbarBox\"},{\"attributes\":{\"active_drag\":\"auto\",\"active_inspect\":\"auto\",\"active_scroll\":\"auto\",\"active_tap\":\"auto\",\"tools\":[{\"id\":\"2db3386f-5ce3-4668-b052-4619b0d4e35a\",\"type\":\"PanTool\"},{\"id\":\"5d4a552a-9526-49f4-b22f-98b81570b595\",\"type\":\"WheelZoomTool\"},{\"id\":\"d534e4f8-c2d5-4978-a3ab-6af9d168f135\",\"type\":\"BoxZoomTool\"},{\"id\":\"b9a16a85-48aa-4a20-8e1c-159150b7b6a4\",\"type\":\"SaveTool\"},{\"id\":\"206dd5ab-4965-451a-a662-07e01f1ea5a2\",\"type\":\"ResetTool\"},{\"id\":\"f14b4f8d-159b-4707-a0ab-2bb6a164b6b9\",\"type\":\"HelpTool\"}]},\"id\":\"0dbbf5b2-c46a-498b-b0e4-2d8acd6f5549\",\"type\":\"Toolbar\"},{\"attributes\":{\"dimension\":1,\"plot\":{\"id\":\"e1fdda0e-8bbe-452d-9d52-63ca7c9be50a\",\"subtype\":\"Figure\",\"type\":\"Plot\"},\"ticker\":{\"id\":\"6b8f4458-ba22-472d-9615-fa2454d62285\",\"type\":\"LogTicker\"}},\"id\":\"3ab2eda3-fdcb-4306-9ea9-847eb6f46999\",\"type\":\"Grid\"},{\"attributes\":{},\"id\":\"208c4565-19f5-4872-9a2d-844a0e6502a7\",\"type\":\"LogScale\"},{\"attributes\":{\"children\":[{\"id\":\"ef74855e-09a5-4764-bf67-098c6c895499\",\"subtype\":\"Figure\",\"type\":\"Plot\"},{\"id\":\"e1fdda0e-8bbe-452d-9d52-63ca7c9be50a\",\"subtype\":\"Figure\",\"type\":\"Plot\"},{\"id\":\"e99d08ef-8b4e-4181-9d9c-d12981c71698\",\"subtype\":\"Figure\",\"type\":\"Plot\"}]},\"id\":\"7a2b193d-94dc-45c0-b730-e23e6e120202\",\"type\":\"Row\"},{\"attributes\":{\"callback\":null,\"end\":0.01,\"start\":1020},\"id\":\"55ff9869-4d1a-44e1-b9f6-d6b60a7c0d5c\",\"type\":\"Range1d\"},{\"attributes\":{},\"id\":\"40462fd6-a097-4126-9683-6d839ffbc5e2\",\"type\":\"ResetTool\"},{\"attributes\":{\"data_source\":{\"id\":\"95d217c6-0ac6-4ed5-a193-b7a749dc44f0\",\"type\":\"ColumnDataSource\"},\"glyph\":{\"id\":\"8c3a2206-0e18-4766-b40b-8ab270aea185\",\"type\":\"Line\"},\"hover_glyph\":null,\"muted_glyph\":null,\"nonselection_glyph\":{\"id\":\"b0bd02dd-3043-4899-8460-b74e78f1f88e\",\"type\":\"Line\"},\"selection_glyph\":null,\"view\":{\"id\":\"dfce7162-a6ca-4f0c-a003-f50579907485\",\"type\":\"CDSView\"}},\"id\":\"a73aa616-1e94-47ea-8b20-33cd0a446be0\",\"type\":\"GlyphRenderer\"},{\"attributes\":{\"source\":{\"id\":\"95d217c6-0ac6-4ed5-a193-b7a749dc44f0\",\"type\":\"ColumnDataSource\"}},\"id\":\"dfce7162-a6ca-4f0c-a003-f50579907485\",\"type\":\"CDSView\"},{\"attributes\":{},\"id\":\"26894f10-b954-4206-b2c6-4a4ae90c1f34\",\"type\":\"PanTool\"},{\"attributes\":{\"overlay\":{\"id\":\"14f1a4d6-cabe-4d94-9ddf-10351ea5faf5\",\"type\":\"BoxAnnotation\"}},\"id\":\"d534e4f8-c2d5-4978-a3ab-6af9d168f135\",\"type\":\"BoxZoomTool\"},{\"attributes\":{},\"id\":\"db7e66ed-ad54-4a0f-9b2a-79de1acd9897\",\"type\":\"BasicTicker\"},{\"attributes\":{\"plot\":{\"id\":\"ef74855e-09a5-4764-bf67-098c6c895499\",\"subtype\":\"Figure\",\"type\":\"Plot\"},\"ticker\":{\"id\":\"1b6571e9-e87f-43ec-bb76-fd9876e4e8f0\",\"type\":\"BasicTicker\"}},\"id\":\"52943d36-3b84-4480-b2c3-991dcfde1b31\",\"type\":\"Grid\"},{\"attributes\":{\"label\":{\"value\":\"old CLIRAD (H2012)\"},\"renderers\":[{\"id\":\"8c3c4aeb-838b-4f59-aab7-b1e92aa69999\",\"type\":\"GlyphRenderer\"},{\"id\":\"1eb49327-445c-439b-a5cf-4782b30b637e\",\"type\":\"GlyphRenderer\"}]},\"id\":\"c78b9268-feaf-46ce-b7b9-77fa0175dbef\",\"type\":\"LegendItem\"},{\"attributes\":{\"bottom_units\":\"screen\",\"fill_alpha\":{\"value\":0.5},\"fill_color\":{\"value\":\"lightgrey\"},\"left_units\":\"screen\",\"level\":\"overlay\",\"line_alpha\":{\"value\":1.0},\"line_color\":{\"value\":\"black\"},\"line_dash\":[4,4],\"line_width\":{\"value\":2},\"plot\":null,\"render_mode\":\"css\",\"right_units\":\"screen\",\"top_units\":\"screen\"},\"id\":\"14f1a4d6-cabe-4d94-9ddf-10351ea5faf5\",\"type\":\"BoxAnnotation\"},{\"attributes\":{},\"id\":\"c07268e2-37fd-4fb6-9240-c6dfb13da67c\",\"type\":\"Selection\"},{\"attributes\":{\"dimension\":1,\"plot\":{\"id\":\"ef74855e-09a5-4764-bf67-098c6c895499\",\"subtype\":\"Figure\",\"type\":\"Plot\"},\"ticker\":{\"id\":\"db7e66ed-ad54-4a0f-9b2a-79de1acd9897\",\"type\":\"BasicTicker\"}},\"id\":\"04aaa37e-0e6c-4297-8ca1-8e4df8130d6d\",\"type\":\"Grid\"},{\"attributes\":{\"callback\":null,\"end\":0.01,\"start\":1020},\"id\":\"ec5d7e37-ee9c-4307-b60f-8b83fd5872f3\",\"type\":\"Range1d\"},{\"attributes\":{\"children\":[{\"id\":\"7a2b193d-94dc-45c0-b730-e23e6e120202\",\"type\":\"Row\"}]},\"id\":\"b02b7429-ce9f-48b6-9290-424707f1d6e3\",\"type\":\"Column\"},{\"attributes\":{},\"id\":\"4cdeeefe-5b98-4131-b070-3927d957259a\",\"type\":\"LinearScale\"},{\"attributes\":{},\"id\":\"1b6571e9-e87f-43ec-bb76-fd9876e4e8f0\",\"type\":\"BasicTicker\"},{\"attributes\":{\"above\":[{\"id\":\"4930432b-14ea-4d7d-b94b-ba5444dc28ac\",\"type\":\"Legend\"}],\"below\":[{\"id\":\"34ef751c-cab9-4792-8372-f071287a737b\",\"type\":\"LinearAxis\"}],\"left\":[{\"id\":\"36374830-01cf-4f53-8a2a-e6e9d4e063f1\",\"type\":\"LogAxis\"}],\"plot_width\":300,\"renderers\":[{\"id\":\"34ef751c-cab9-4792-8372-f071287a737b\",\"type\":\"LinearAxis\"},{\"id\":\"affc924c-1151-4dcc-9b55-941223796ddb\",\"type\":\"Grid\"},{\"id\":\"36374830-01cf-4f53-8a2a-e6e9d4e063f1\",\"type\":\"LogAxis\"},{\"id\":\"3ab2eda3-fdcb-4306-9ea9-847eb6f46999\",\"type\":\"Grid\"},{\"id\":\"a9c2d0b9-4c43-4ef5-b10c-6cd1478a531d\",\"type\":\"BoxAnnotation\"},{\"id\":\"9f8897ae-1abd-4106-80bb-802d3c0ef035\",\"type\":\"GlyphRenderer\"},{\"id\":\"52608ed8-5f33-441c-85d5-4be0abdc70a9\",\"type\":\"GlyphRenderer\"},{\"id\":\"0ba5e7ab-9f71-4e52-927e-b3e72a609907\",\"type\":\"GlyphRenderer\"},{\"id\":\"8c3c4aeb-838b-4f59-aab7-b1e92aa69999\",\"type\":\"GlyphRenderer\"},{\"id\":\"1eb49327-445c-439b-a5cf-4782b30b637e\",\"type\":\"GlyphRenderer\"},{\"id\":\"4930432b-14ea-4d7d-b94b-ba5444dc28ac\",\"type\":\"Legend\"}],\"title\":{\"id\":\"3f803e1e-3b59-456a-8fc2-6c93605d979b\",\"type\":\"Title\"},\"toolbar\":{\"id\":\"9518ad8c-fc70-43ff-a4d3-5941a90849df\",\"type\":\"Toolbar\"},\"toolbar_location\":null,\"x_range\":{\"id\":\"3578ae77-4cf2-40b6-b50c-77c6f8a8ad2f\",\"type\":\"Range1d\"},\"x_scale\":{\"id\":\"c731f2e9-ab99-4d3c-9a2d-596574df784c\",\"type\":\"LinearScale\"},\"y_range\":{\"id\":\"ec5d7e37-ee9c-4307-b60f-8b83fd5872f3\",\"type\":\"Range1d\"},\"y_scale\":{\"id\":\"8827d5c5-2e65-4e20-a622-4e295bae9801\",\"type\":\"LogScale\"}},\"id\":\"e1fdda0e-8bbe-452d-9d52-63ca7c9be50a\",\"subtype\":\"Figure\",\"type\":\"Plot\"},{\"attributes\":{},\"id\":\"206dd5ab-4965-451a-a662-07e01f1ea5a2\",\"type\":\"ResetTool\"},{\"attributes\":{\"num_minor_ticks\":10},\"id\":\"6b8f4458-ba22-472d-9615-fa2454d62285\",\"type\":\"LogTicker\"},{\"attributes\":{\"callback\":null,\"end\":2.3135550717823805,\"start\":-0.22300514836038007},\"id\":\"66feaa64-0942-4ccf-a19a-d004617f15a3\",\"type\":\"Range1d\"},{\"attributes\":{},\"id\":\"f14b4f8d-159b-4707-a0ab-2bb6a164b6b9\",\"type\":\"HelpTool\"},{\"attributes\":{\"items\":[{\"id\":\"7483969c-7305-4739-baf9-68081e9a995e\",\"type\":\"LegendItem\"},{\"id\":\"305fb403-733a-4476-a151-f18013558aeb\",\"type\":\"LegendItem\"},{\"id\":\"2523effa-2588-47cd-829e-11a9b893374d\",\"type\":\"LegendItem\"}],\"label_text_font_size\":{\"value\":\"8pt\"},\"location\":\"top_center\",\"orientation\":\"horizontal\",\"plot\":{\"id\":\"ef74855e-09a5-4764-bf67-098c6c895499\",\"subtype\":\"Figure\",\"type\":\"Plot\"}},\"id\":\"6d6092cd-d095-4876-aae0-76c33c721293\",\"type\":\"Legend\"},{\"attributes\":{},\"id\":\"b854ecf9-ae34-4d1c-b6bd-69d8c8ca4e4e\",\"type\":\"Selection\"},{\"attributes\":{\"overlay\":{\"id\":\"a9c2d0b9-4c43-4ef5-b10c-6cd1478a531d\",\"type\":\"BoxAnnotation\"}},\"id\":\"7ae52b83-4dbb-4196-a80a-9b37d7b88181\",\"type\":\"BoxZoomTool\"},{\"attributes\":{},\"id\":\"0323aa72-668b-4e3c-90bd-b15544680d11\",\"type\":\"UnionRenderers\"},{\"attributes\":{\"plot\":null,\"text\":\"\"},\"id\":\"de6e1460-20d9-4ab1-80ee-b2d9769250c8\",\"type\":\"Title\"},{\"attributes\":{\"axis_label\":\"cooling rate [K/day]\",\"formatter\":{\"id\":\"dc1904f9-8a16-439e-b81b-ccb685a8b685\",\"type\":\"BasicTickFormatter\"},\"plot\":{\"id\":\"ef74855e-09a5-4764-bf67-098c6c895499\",\"subtype\":\"Figure\",\"type\":\"Plot\"},\"ticker\":{\"id\":\"1b6571e9-e87f-43ec-bb76-fd9876e4e8f0\",\"type\":\"BasicTicker\"}},\"id\":\"d85ce4f3-a62b-42cc-9f73-83c3998b640f\",\"type\":\"LinearAxis\"},{\"attributes\":{},\"id\":\"801b70ce-e013-4203-924e-b57b302d29e8\",\"type\":\"BasicTickFormatter\"},{\"attributes\":{},\"id\":\"70a65296-d92b-4753-9a4e-30008f7d0362\",\"type\":\"UnionRenderers\"}],\"root_ids\":[\"fe3c8955-2dc6-4c11-8057-f2ab999b84c2\"]},\"title\":\"Bokeh Application\",\"version\":\"0.12.16\"}};\n",
       "  var render_items = [{\"docid\":\"cd53339e-b613-4b27-b0fd-8f4ffcd9bf2e\",\"elementid\":\"cfcc0368-3464-4928-84e6-1fba1d5c8572\",\"modelid\":\"fe3c8955-2dc6-4c11-8057-f2ab999b84c2\"}];\n",
       "  root.Bokeh.embed.embed_items_notebook(docs_json, render_items);\n",
       "\n",
       "  }\n",
       "  if (root.Bokeh !== undefined) {\n",
       "    embed_document(root);\n",
       "  } else {\n",
       "    var attempts = 0;\n",
       "    var timer = setInterval(function(root) {\n",
       "      if (root.Bokeh !== undefined) {\n",
       "        embed_document(root);\n",
       "        clearInterval(timer);\n",
       "      }\n",
       "      attempts++;\n",
       "      if (attempts > 100) {\n",
       "        console.log(\"Bokeh: ERROR: Unable to run BokehJS code because BokehJS library is missing\")\n",
       "        clearInterval(timer);\n",
       "      }\n",
       "    }, 10, root)\n",
       "  }\n",
       "})(window);"
      ],
      "application/vnd.bokehjs_exec.v0+json": ""
     },
     "metadata": {
      "application/vnd.bokehjs_exec.v0+json": {
       "id": "fe3c8955-2dc6-4c11-8057-f2ab999b84c2"
      }
     },
     "output_type": "display_data"
    },
    {
     "data": {
      "text/markdown": [
       "*FIGURE.* Cooling rates & difference."
      ],
      "text/plain": [
       "<IPython.core.display.Markdown object>"
      ]
     },
     "metadata": {},
     "output_type": "display_data"
    },
    {
     "data": {
      "text/html": [
       "<a id=\"Fluxes._mls.\"></a>"
      ],
      "text/plain": [
       "<IPython.core.display.HTML object>"
      ]
     },
     "metadata": {},
     "output_type": "display_data"
    },
    {
     "data": {
      "text/markdown": [
       "# Fluxes. mls."
      ],
      "text/plain": [
       "<IPython.core.display.Markdown object>"
      ]
     },
     "metadata": {},
     "output_type": "display_data"
    },
    {
     "data": {
      "text/html": [
       "\n",
       "<div class=\"bk-root\">\n",
       "    <div class=\"bk-plotdiv\" id=\"ac543865-7077-4de4-b8e2-0f06dd63b27d\"></div>\n",
       "</div>"
      ]
     },
     "metadata": {},
     "output_type": "display_data"
    },
    {
     "data": {
      "application/javascript": [
       "(function(root) {\n",
       "  function embed_document(root) {\n",
       "    \n",
       "  var docs_json = {\"37b49cde-6b67-45d5-839e-5bf30eed1aae\":{\"roots\":{\"references\":[{\"attributes\":{\"callback\":null},\"id\":\"318251f0-4b05-4fc3-8c0a-b59cf7c52b38\",\"type\":\"DataRange1d\"},{\"attributes\":{\"children\":[{\"id\":\"23e6c04f-2d53-433e-a7a7-e4dd5d370ef0\",\"subtype\":\"Figure\",\"type\":\"Plot\"},{\"id\":\"4cd35c2a-5ea6-4f9c-a6a1-4e860ac426bf\",\"subtype\":\"Figure\",\"type\":\"Plot\"},{\"id\":\"eadc81bf-9e0d-4016-a970-ad8c5bcd188b\",\"subtype\":\"Figure\",\"type\":\"Plot\"}]},\"id\":\"8d1577e1-cabc-4ed7-8ce9-fd486d14fac6\",\"type\":\"Row\"},{\"attributes\":{},\"id\":\"10fe2eae-2a64-4d4b-bc46-9d90630d62a4\",\"type\":\"BasicTicker\"},{\"attributes\":{\"plot\":null,\"text\":\"TOA flux. CLIRAD (single-run) - CRD.\"},\"id\":\"f0069e1c-e590-48bc-8176-35c1cdb65c08\",\"type\":\"Title\"},{\"attributes\":{},\"id\":\"cd5a8858-a7ea-44c8-a3fd-a4aa6bd90f1b\",\"type\":\"CategoricalTickFormatter\"},{\"attributes\":{},\"id\":\"7d1ae0d9-6703-4464-82a3-53af4aa15e81\",\"type\":\"SaveTool\"},{\"attributes\":{\"source\":{\"id\":\"efcf8bd8-eec5-4618-8b43-4eebbff642b2\",\"type\":\"ColumnDataSource\"}},\"id\":\"98c29d90-a855-4642-900a-d0b72e282b68\",\"type\":\"CDSView\"},{\"attributes\":{\"data_source\":{\"id\":\"c527945c-1663-4b1d-9199-16ad9b2293e8\",\"type\":\"ColumnDataSource\"},\"glyph\":{\"id\":\"35204ddf-533f-402b-90cd-b6898f9b5183\",\"type\":\"VBar\"},\"hover_glyph\":null,\"muted_glyph\":null,\"nonselection_glyph\":{\"id\":\"f3f8ed23-0cdf-4ad3-87eb-152459526401\",\"type\":\"VBar\"},\"selection_glyph\":null,\"view\":{\"id\":\"5daf1538-cb18-4310-bb9b-89346a17ba97\",\"type\":\"CDSView\"}},\"id\":\"62694fd0-03e6-4400-b642-5fc18df99661\",\"type\":\"GlyphRenderer\"},{\"attributes\":{},\"id\":\"c1e32fde-c045-43f2-960c-f9c45bad2e9b\",\"type\":\"CategoricalTicker\"},{\"attributes\":{},\"id\":\"85de2c88-bbd1-4ffc-ba54-531fefc1a96f\",\"type\":\"CategoricalTickFormatter\"},{\"attributes\":{},\"id\":\"f6324a95-a083-4fda-b7bf-5b89647f8e3b\",\"type\":\"PanTool\"},{\"attributes\":{\"dimension\":1,\"plot\":{\"id\":\"23e6c04f-2d53-433e-a7a7-e4dd5d370ef0\",\"subtype\":\"Figure\",\"type\":\"Plot\"},\"ticker\":{\"id\":\"0760bb7b-4be0-4636-b0ee-b5fdff81ba2c\",\"type\":\"BasicTicker\"}},\"id\":\"86aeb3a6-422c-4bde-8ced-ba9d3bf6c205\",\"type\":\"Grid\"},{\"attributes\":{},\"id\":\"5fa7fc95-5f79-485e-8640-6dd753438b8e\",\"type\":\"BasicTickFormatter\"},{\"attributes\":{\"source\":{\"id\":\"c527945c-1663-4b1d-9199-16ad9b2293e8\",\"type\":\"ColumnDataSource\"}},\"id\":\"5daf1538-cb18-4310-bb9b-89346a17ba97\",\"type\":\"CDSView\"},{\"attributes\":{\"callback\":null,\"data\":{\"band\":[\"1\",\"2\",\"3\",\"4\",\"5\",\"6\",\"7\",\"8\",\"9\",\"10\",\"11\"],\"flux\":{\"__ndarray__\":\"AEILCRhdyD+Ae7q6Y7HSPwA2donqrdO/gGStodRe0z/AIAa69gXRPwDwR1Fn7pG/QGB0eXO42T8AE587wf6zvwBQMGMK1oi/4P24/fLJwD8AGmzqPCqyPw==\",\"dtype\":\"float64\",\"shape\":[11]}},\"selected\":{\"id\":\"6da84468-0f83-499c-ba91-88d8ca384f1a\",\"type\":\"Selection\"},\"selection_policy\":{\"id\":\"aabe03fc-0f61-460c-b75a-8bba6b88e348\",\"type\":\"UnionRenderers\"}},\"id\":\"2c752151-6e12-4ff5-9b58-2aae69c6961a\",\"type\":\"ColumnDataSource\"},{\"attributes\":{\"callback\":null,\"factors\":[\"1\",\"2\",\"3\",\"4\",\"5\",\"6\",\"7\",\"8\",\"9\",\"10\",\"11\"]},\"id\":\"c3580ed7-8154-4c66-a796-003bad676903\",\"type\":\"FactorRange\"},{\"attributes\":{\"fill_color\":{\"value\":\"#1f77b4\"},\"line_color\":{\"value\":\"#1f77b4\"},\"top\":{\"field\":\"flux\"},\"width\":{\"value\":0.9},\"x\":{\"field\":\"band\"}},\"id\":\"358dbbcb-2495-47bc-8069-68fff8ad407b\",\"type\":\"VBar\"},{\"attributes\":{},\"id\":\"a73e7ed3-3c66-467f-9871-5c8ce05ab5d1\",\"type\":\"HelpTool\"},{\"attributes\":{\"dimension\":1,\"plot\":{\"id\":\"4cd35c2a-5ea6-4f9c-a6a1-4e860ac426bf\",\"subtype\":\"Figure\",\"type\":\"Plot\"},\"ticker\":{\"id\":\"10fe2eae-2a64-4d4b-bc46-9d90630d62a4\",\"type\":\"BasicTicker\"}},\"id\":\"05e92326-ffe5-4873-a507-96d41fe97489\",\"type\":\"Grid\"},{\"attributes\":{},\"id\":\"ec36e7bc-abea-4804-897f-cca2eb691bfd\",\"type\":\"PanTool\"},{\"attributes\":{\"callback\":null,\"data\":{\"band\":[\"1\",\"2\",\"3\",\"4\",\"5\",\"6\",\"7\",\"8\",\"9\",\"10\",\"11\"],\"flux\":{\"__ndarray__\":\"AAAAAyUF9r4ASSno9pLYP4AfYoOFk9C/AAYU6ukjsD+g3H2Oj5boP0D9sVqq/PU/6Ny/aEVK4z+wbIvXYXHRP4AvZ7Yr9M8/ACj1LAjljT9A9Df8yXOwPw==\",\"dtype\":\"float64\",\"shape\":[11]}},\"selected\":{\"id\":\"1ebc1cbe-186e-43e2-9efc-b93868e0b336\",\"type\":\"Selection\"},\"selection_policy\":{\"id\":\"a4f48e1d-309b-43b4-84bc-c963436916c3\",\"type\":\"UnionRenderers\"}},\"id\":\"efcf8bd8-eec5-4618-8b43-4eebbff642b2\",\"type\":\"ColumnDataSource\"},{\"attributes\":{},\"id\":\"6da84468-0f83-499c-ba91-88d8ca384f1a\",\"type\":\"Selection\"},{\"attributes\":{},\"id\":\"0760bb7b-4be0-4636-b0ee-b5fdff81ba2c\",\"type\":\"BasicTicker\"},{\"attributes\":{},\"id\":\"164e6cde-5062-4dc3-8301-fd8782eb4fb0\",\"type\":\"LinearScale\"},{\"attributes\":{\"active_drag\":\"auto\",\"active_inspect\":\"auto\",\"active_scroll\":\"auto\",\"active_tap\":\"auto\",\"tools\":[{\"id\":\"ec36e7bc-abea-4804-897f-cca2eb691bfd\",\"type\":\"PanTool\"},{\"id\":\"c4195717-12db-44ba-b671-bc6fa1e4bb11\",\"type\":\"WheelZoomTool\"},{\"id\":\"f784c77f-17c6-45d2-881e-40469277e3e0\",\"type\":\"BoxZoomTool\"},{\"id\":\"7d1ae0d9-6703-4464-82a3-53af4aa15e81\",\"type\":\"SaveTool\"},{\"id\":\"02899e29-92d1-476c-b595-0316998172ac\",\"type\":\"ResetTool\"},{\"id\":\"a73e7ed3-3c66-467f-9871-5c8ce05ab5d1\",\"type\":\"HelpTool\"}]},\"id\":\"92a740b3-e83b-46c8-81b4-c4973e057c27\",\"type\":\"Toolbar\"},{\"attributes\":{\"data_source\":{\"id\":\"2c752151-6e12-4ff5-9b58-2aae69c6961a\",\"type\":\"ColumnDataSource\"},\"glyph\":{\"id\":\"358dbbcb-2495-47bc-8069-68fff8ad407b\",\"type\":\"VBar\"},\"hover_glyph\":null,\"muted_glyph\":null,\"nonselection_glyph\":{\"id\":\"74710e87-ff29-4eff-a3d9-37d4b1cfe9e1\",\"type\":\"VBar\"},\"selection_glyph\":null,\"view\":{\"id\":\"92294df1-c605-4908-8ce4-1d95695c983d\",\"type\":\"CDSView\"}},\"id\":\"2b182e0b-ad6b-423a-97e8-62943f7ef000\",\"type\":\"GlyphRenderer\"},{\"attributes\":{\"fill_alpha\":{\"value\":0.1},\"fill_color\":{\"value\":\"#1f77b4\"},\"line_alpha\":{\"value\":0.1},\"line_color\":{\"value\":\"#1f77b4\"},\"top\":{\"field\":\"flux\"},\"width\":{\"value\":0.9},\"x\":{\"field\":\"band\"}},\"id\":\"f3f8ed23-0cdf-4ad3-87eb-152459526401\",\"type\":\"VBar\"},{\"attributes\":{\"plot\":{\"id\":\"eadc81bf-9e0d-4016-a970-ad8c5bcd188b\",\"subtype\":\"Figure\",\"type\":\"Plot\"},\"ticker\":{\"id\":\"9f39ca86-d212-4651-b910-2a0a37a4503c\",\"type\":\"CategoricalTicker\"}},\"id\":\"4f984403-d62f-423d-bcc6-dcd5ecbaf64f\",\"type\":\"Grid\"},{\"attributes\":{\"plot\":{\"id\":\"23e6c04f-2d53-433e-a7a7-e4dd5d370ef0\",\"subtype\":\"Figure\",\"type\":\"Plot\"},\"ticker\":{\"id\":\"c1e32fde-c045-43f2-960c-f9c45bad2e9b\",\"type\":\"CategoricalTicker\"}},\"id\":\"1e2f8e01-43b8-4321-92a2-47c23682473e\",\"type\":\"Grid\"},{\"attributes\":{},\"id\":\"aabe03fc-0f61-460c-b75a-8bba6b88e348\",\"type\":\"UnionRenderers\"},{\"attributes\":{},\"id\":\"1ebc1cbe-186e-43e2-9efc-b93868e0b336\",\"type\":\"Selection\"},{\"attributes\":{\"axis_label\":\"spectral band\",\"formatter\":{\"id\":\"85de2c88-bbd1-4ffc-ba54-531fefc1a96f\",\"type\":\"CategoricalTickFormatter\"},\"plot\":{\"id\":\"eadc81bf-9e0d-4016-a970-ad8c5bcd188b\",\"subtype\":\"Figure\",\"type\":\"Plot\"},\"ticker\":{\"id\":\"9f39ca86-d212-4651-b910-2a0a37a4503c\",\"type\":\"CategoricalTicker\"}},\"id\":\"2c769f58-5c29-4178-8318-77879fbbef8d\",\"type\":\"CategoricalAxis\"},{\"attributes\":{\"callback\":null},\"id\":\"2648cced-fb1e-4100-b54f-ba47b76b9a34\",\"type\":\"DataRange1d\"},{\"attributes\":{\"axis_label\":\"flux (W m-2)\",\"formatter\":{\"id\":\"35cb23ac-ee7d-4c92-ab9f-1d6016925dbe\",\"type\":\"BasicTickFormatter\"},\"plot\":{\"id\":\"23e6c04f-2d53-433e-a7a7-e4dd5d370ef0\",\"subtype\":\"Figure\",\"type\":\"Plot\"},\"ticker\":{\"id\":\"0760bb7b-4be0-4636-b0ee-b5fdff81ba2c\",\"type\":\"BasicTicker\"}},\"id\":\"f58dd87d-7874-4ef3-8060-483b24b7fa3f\",\"type\":\"LinearAxis\"},{\"attributes\":{},\"id\":\"35cb23ac-ee7d-4c92-ab9f-1d6016925dbe\",\"type\":\"BasicTickFormatter\"},{\"attributes\":{},\"id\":\"95551e48-e07b-4c3f-b0c7-86794ccee5e4\",\"type\":\"LinearScale\"},{\"attributes\":{\"tools\":[{\"id\":\"f6324a95-a083-4fda-b7bf-5b89647f8e3b\",\"type\":\"PanTool\"},{\"id\":\"5b027588-d0b6-4672-aad3-57bf9ab36c01\",\"type\":\"WheelZoomTool\"},{\"id\":\"27121e7c-e6d1-4ab6-bb7d-754b2bf04de2\",\"type\":\"BoxZoomTool\"},{\"id\":\"0f3f07ed-363b-4110-bb60-802aa9a58c80\",\"type\":\"SaveTool\"},{\"id\":\"96f3e49b-08fa-4ebe-a678-a5a3b0b3f8ef\",\"type\":\"ResetTool\"},{\"id\":\"e9a187af-a72a-43a9-8878-8b720a8573d5\",\"type\":\"HelpTool\"},{\"id\":\"bb231a69-f363-47c5-95dc-0803fa616534\",\"type\":\"PanTool\"},{\"id\":\"60c815e9-09c4-4724-82cd-a23422d61eae\",\"type\":\"WheelZoomTool\"},{\"id\":\"beb657f3-a63f-405a-a984-b36941644439\",\"type\":\"BoxZoomTool\"},{\"id\":\"2580a1af-5995-44ed-982c-c2f9dde88a5a\",\"type\":\"SaveTool\"},{\"id\":\"e349c4a1-04d8-42eb-8bcd-6d8718f2c33d\",\"type\":\"ResetTool\"},{\"id\":\"b5c58562-5817-403d-989c-ed4caaeeb1ad\",\"type\":\"HelpTool\"},{\"id\":\"ec36e7bc-abea-4804-897f-cca2eb691bfd\",\"type\":\"PanTool\"},{\"id\":\"c4195717-12db-44ba-b671-bc6fa1e4bb11\",\"type\":\"WheelZoomTool\"},{\"id\":\"f784c77f-17c6-45d2-881e-40469277e3e0\",\"type\":\"BoxZoomTool\"},{\"id\":\"7d1ae0d9-6703-4464-82a3-53af4aa15e81\",\"type\":\"SaveTool\"},{\"id\":\"02899e29-92d1-476c-b595-0316998172ac\",\"type\":\"ResetTool\"},{\"id\":\"a73e7ed3-3c66-467f-9871-5c8ce05ab5d1\",\"type\":\"HelpTool\"}]},\"id\":\"650b6605-3291-486c-ab95-1e81d18b1955\",\"type\":\"ProxyToolbar\"},{\"attributes\":{\"axis_label\":\"flux (W m-2)\",\"formatter\":{\"id\":\"a69f274f-801c-48ce-bf9d-72236b306136\",\"type\":\"BasicTickFormatter\"},\"plot\":{\"id\":\"eadc81bf-9e0d-4016-a970-ad8c5bcd188b\",\"subtype\":\"Figure\",\"type\":\"Plot\"},\"ticker\":{\"id\":\"6ce040e4-4815-451f-baa3-b5f8ece9ca39\",\"type\":\"BasicTicker\"}},\"id\":\"8625f245-456d-4f0b-9de0-215de9bee22d\",\"type\":\"LinearAxis\"},{\"attributes\":{\"overlay\":{\"id\":\"e12e9dbf-1983-4b49-96bc-3f095e0abc68\",\"type\":\"BoxAnnotation\"}},\"id\":\"f784c77f-17c6-45d2-881e-40469277e3e0\",\"type\":\"BoxZoomTool\"},{\"attributes\":{\"fill_color\":{\"value\":\"#1f77b4\"},\"line_color\":{\"value\":\"#1f77b4\"},\"top\":{\"field\":\"flux\"},\"width\":{\"value\":0.9},\"x\":{\"field\":\"band\"}},\"id\":\"ef4126ac-7fa2-4688-a6e6-25472b2c1005\",\"type\":\"VBar\"},{\"attributes\":{\"children\":[{\"id\":\"8d1577e1-cabc-4ed7-8ce9-fd486d14fac6\",\"type\":\"Row\"}]},\"id\":\"c300c580-da39-4f8a-80b0-c2eb56aecdcf\",\"type\":\"Column\"},{\"attributes\":{},\"id\":\"b30e6c6b-e599-4c00-8067-a80cb669aaab\",\"type\":\"Selection\"},{\"attributes\":{},\"id\":\"bb231a69-f363-47c5-95dc-0803fa616534\",\"type\":\"PanTool\"},{\"attributes\":{},\"id\":\"e349c4a1-04d8-42eb-8bcd-6d8718f2c33d\",\"type\":\"ResetTool\"},{\"attributes\":{},\"id\":\"da4299dd-6adb-40a5-8df0-8188eaa0484f\",\"type\":\"UnionRenderers\"},{\"attributes\":{},\"id\":\"b30f16d1-c2eb-4432-9ca4-924b7d2406f8\",\"type\":\"CategoricalScale\"},{\"attributes\":{},\"id\":\"60c815e9-09c4-4724-82cd-a23422d61eae\",\"type\":\"WheelZoomTool\"},{\"attributes\":{},\"id\":\"a69f274f-801c-48ce-bf9d-72236b306136\",\"type\":\"BasicTickFormatter\"},{\"attributes\":{\"callback\":null,\"data\":{\"band\":[\"1\",\"2\",\"3\",\"4\",\"5\",\"6\",\"7\",\"8\",\"9\",\"10\",\"11\"],\"flux\":{\"__ndarray__\":\"AIMde81dyD8ANj1aYoa3vwCOyk3U0qi/AE9HGdSrzj+QqBd8mhPgv2AnEeFfRPa/gINkARO4yb+AuhEWFXHWv0AaNiW0wNC/wA4R1HzXvT8AjGpb3mZ7Pw==\",\"dtype\":\"float64\",\"shape\":[11]}},\"selected\":{\"id\":\"b30e6c6b-e599-4c00-8067-a80cb669aaab\",\"type\":\"Selection\"},\"selection_policy\":{\"id\":\"da4299dd-6adb-40a5-8df0-8188eaa0484f\",\"type\":\"UnionRenderers\"}},\"id\":\"c527945c-1663-4b1d-9199-16ad9b2293e8\",\"type\":\"ColumnDataSource\"},{\"attributes\":{\"overlay\":{\"id\":\"fb1762e0-f518-4efe-8cf4-7ac03a93145e\",\"type\":\"BoxAnnotation\"}},\"id\":\"beb657f3-a63f-405a-a984-b36941644439\",\"type\":\"BoxZoomTool\"},{\"attributes\":{\"bottom_units\":\"screen\",\"fill_alpha\":{\"value\":0.5},\"fill_color\":{\"value\":\"lightgrey\"},\"left_units\":\"screen\",\"level\":\"overlay\",\"line_alpha\":{\"value\":1.0},\"line_color\":{\"value\":\"black\"},\"line_dash\":[4,4],\"line_width\":{\"value\":2},\"plot\":null,\"render_mode\":\"css\",\"right_units\":\"screen\",\"top_units\":\"screen\"},\"id\":\"e12e9dbf-1983-4b49-96bc-3f095e0abc68\",\"type\":\"BoxAnnotation\"},{\"attributes\":{},\"id\":\"6ce040e4-4815-451f-baa3-b5f8ece9ca39\",\"type\":\"BasicTicker\"},{\"attributes\":{},\"id\":\"9f39ca86-d212-4651-b910-2a0a37a4503c\",\"type\":\"CategoricalTicker\"},{\"attributes\":{\"active_drag\":\"auto\",\"active_inspect\":\"auto\",\"active_scroll\":\"auto\",\"active_tap\":\"auto\",\"tools\":[{\"id\":\"f6324a95-a083-4fda-b7bf-5b89647f8e3b\",\"type\":\"PanTool\"},{\"id\":\"5b027588-d0b6-4672-aad3-57bf9ab36c01\",\"type\":\"WheelZoomTool\"},{\"id\":\"27121e7c-e6d1-4ab6-bb7d-754b2bf04de2\",\"type\":\"BoxZoomTool\"},{\"id\":\"0f3f07ed-363b-4110-bb60-802aa9a58c80\",\"type\":\"SaveTool\"},{\"id\":\"96f3e49b-08fa-4ebe-a678-a5a3b0b3f8ef\",\"type\":\"ResetTool\"},{\"id\":\"e9a187af-a72a-43a9-8878-8b720a8573d5\",\"type\":\"HelpTool\"}]},\"id\":\"14092555-c83b-4709-bc84-40253530cf2d\",\"type\":\"Toolbar\"},{\"attributes\":{\"toolbar\":{\"id\":\"650b6605-3291-486c-ab95-1e81d18b1955\",\"type\":\"ProxyToolbar\"},\"toolbar_location\":\"above\"},\"id\":\"b92b1a8f-8dbc-4b89-8947-2f29711afcb9\",\"type\":\"ToolbarBox\"},{\"attributes\":{\"callback\":null,\"factors\":[\"1\",\"2\",\"3\",\"4\",\"5\",\"6\",\"7\",\"8\",\"9\",\"10\",\"11\"]},\"id\":\"e9f3850f-cde8-4aaf-9049-baf1abd99cb8\",\"type\":\"FactorRange\"},{\"attributes\":{},\"id\":\"02899e29-92d1-476c-b595-0316998172ac\",\"type\":\"ResetTool\"},{\"attributes\":{\"axis_label\":\"spectral band\",\"formatter\":{\"id\":\"cd5a8858-a7ea-44c8-a3fd-a4aa6bd90f1b\",\"type\":\"CategoricalTickFormatter\"},\"plot\":{\"id\":\"23e6c04f-2d53-433e-a7a7-e4dd5d370ef0\",\"subtype\":\"Figure\",\"type\":\"Plot\"},\"ticker\":{\"id\":\"c1e32fde-c045-43f2-960c-f9c45bad2e9b\",\"type\":\"CategoricalTicker\"}},\"id\":\"97cb6249-a172-4ed4-9caa-e75e9539722b\",\"type\":\"CategoricalAxis\"},{\"attributes\":{},\"id\":\"540b096a-241d-4bd1-98e0-e1238afdf416\",\"type\":\"CategoricalTickFormatter\"},{\"attributes\":{},\"id\":\"c4195717-12db-44ba-b671-bc6fa1e4bb11\",\"type\":\"WheelZoomTool\"},{\"attributes\":{},\"id\":\"d56fcb6b-b024-43b3-beaf-e98a8165262a\",\"type\":\"CategoricalScale\"},{\"attributes\":{\"plot\":null,\"text\":\"Atmosphere heating. CLIRAD (single-run) - CRD.\"},\"id\":\"fdaca125-db02-4b84-abc5-615a1f8fdbd5\",\"type\":\"Title\"},{\"attributes\":{\"fill_alpha\":{\"value\":0.1},\"fill_color\":{\"value\":\"#1f77b4\"},\"line_alpha\":{\"value\":0.1},\"line_color\":{\"value\":\"#1f77b4\"},\"top\":{\"field\":\"flux\"},\"width\":{\"value\":0.9},\"x\":{\"field\":\"band\"}},\"id\":\"74710e87-ff29-4eff-a3d9-37d4b1cfe9e1\",\"type\":\"VBar\"},{\"attributes\":{},\"id\":\"2580a1af-5995-44ed-982c-c2f9dde88a5a\",\"type\":\"SaveTool\"},{\"attributes\":{\"bottom_units\":\"screen\",\"fill_alpha\":{\"value\":0.5},\"fill_color\":{\"value\":\"lightgrey\"},\"left_units\":\"screen\",\"level\":\"overlay\",\"line_alpha\":{\"value\":1.0},\"line_color\":{\"value\":\"black\"},\"line_dash\":[4,4],\"line_width\":{\"value\":2},\"plot\":null,\"render_mode\":\"css\",\"right_units\":\"screen\",\"top_units\":\"screen\"},\"id\":\"fb1762e0-f518-4efe-8cf4-7ac03a93145e\",\"type\":\"BoxAnnotation\"},{\"attributes\":{\"dimension\":1,\"plot\":{\"id\":\"eadc81bf-9e0d-4016-a970-ad8c5bcd188b\",\"subtype\":\"Figure\",\"type\":\"Plot\"},\"ticker\":{\"id\":\"6ce040e4-4815-451f-baa3-b5f8ece9ca39\",\"type\":\"BasicTicker\"}},\"id\":\"efb9f8f7-4e65-44a0-a056-a0336040a5f2\",\"type\":\"Grid\"},{\"attributes\":{\"source\":{\"id\":\"2c752151-6e12-4ff5-9b58-2aae69c6961a\",\"type\":\"ColumnDataSource\"}},\"id\":\"92294df1-c605-4908-8ce4-1d95695c983d\",\"type\":\"CDSView\"},{\"attributes\":{\"fill_color\":{\"value\":\"#1f77b4\"},\"line_color\":{\"value\":\"#1f77b4\"},\"top\":{\"field\":\"flux\"},\"width\":{\"value\":0.9},\"x\":{\"field\":\"band\"}},\"id\":\"35204ddf-533f-402b-90cd-b6898f9b5183\",\"type\":\"VBar\"},{\"attributes\":{},\"id\":\"b5c58562-5817-403d-989c-ed4caaeeb1ad\",\"type\":\"HelpTool\"},{\"attributes\":{\"data_source\":{\"id\":\"efcf8bd8-eec5-4618-8b43-4eebbff642b2\",\"type\":\"ColumnDataSource\"},\"glyph\":{\"id\":\"ef4126ac-7fa2-4688-a6e6-25472b2c1005\",\"type\":\"VBar\"},\"hover_glyph\":null,\"muted_glyph\":null,\"nonselection_glyph\":{\"id\":\"4da6e4e8-cbac-4672-a0fa-3feb27dc1866\",\"type\":\"VBar\"},\"selection_glyph\":null,\"view\":{\"id\":\"98c29d90-a855-4642-900a-d0b72e282b68\",\"type\":\"CDSView\"}},\"id\":\"2170602c-4aeb-4ec4-a027-8866c5f138a1\",\"type\":\"GlyphRenderer\"},{\"attributes\":{\"children\":[{\"id\":\"b92b1a8f-8dbc-4b89-8947-2f29711afcb9\",\"type\":\"ToolbarBox\"},{\"id\":\"c300c580-da39-4f8a-80b0-c2eb56aecdcf\",\"type\":\"Column\"}]},\"id\":\"294913dd-d546-47f8-8a7c-ba75808f2e69\",\"type\":\"Column\"},{\"attributes\":{},\"id\":\"a4f48e1d-309b-43b4-84bc-c963436916c3\",\"type\":\"UnionRenderers\"},{\"attributes\":{\"fill_alpha\":{\"value\":0.1},\"fill_color\":{\"value\":\"#1f77b4\"},\"line_alpha\":{\"value\":0.1},\"line_color\":{\"value\":\"#1f77b4\"},\"top\":{\"field\":\"flux\"},\"width\":{\"value\":0.9},\"x\":{\"field\":\"band\"}},\"id\":\"4da6e4e8-cbac-4672-a0fa-3feb27dc1866\",\"type\":\"VBar\"},{\"attributes\":{},\"id\":\"0f3f07ed-363b-4110-bb60-802aa9a58c80\",\"type\":\"SaveTool\"},{\"attributes\":{\"active_drag\":\"auto\",\"active_inspect\":\"auto\",\"active_scroll\":\"auto\",\"active_tap\":\"auto\",\"tools\":[{\"id\":\"bb231a69-f363-47c5-95dc-0803fa616534\",\"type\":\"PanTool\"},{\"id\":\"60c815e9-09c4-4724-82cd-a23422d61eae\",\"type\":\"WheelZoomTool\"},{\"id\":\"beb657f3-a63f-405a-a984-b36941644439\",\"type\":\"BoxZoomTool\"},{\"id\":\"2580a1af-5995-44ed-982c-c2f9dde88a5a\",\"type\":\"SaveTool\"},{\"id\":\"e349c4a1-04d8-42eb-8bcd-6d8718f2c33d\",\"type\":\"ResetTool\"},{\"id\":\"b5c58562-5817-403d-989c-ed4caaeeb1ad\",\"type\":\"HelpTool\"}]},\"id\":\"d7ae9a16-859a-44ea-882a-f06994f86964\",\"type\":\"Toolbar\"},{\"attributes\":{},\"id\":\"5b027588-d0b6-4672-aad3-57bf9ab36c01\",\"type\":\"WheelZoomTool\"},{\"attributes\":{},\"id\":\"e9a187af-a72a-43a9-8878-8b720a8573d5\",\"type\":\"HelpTool\"},{\"attributes\":{\"callback\":null},\"id\":\"f62c4be2-89b6-405a-a9ef-f4471017f2c3\",\"type\":\"DataRange1d\"},{\"attributes\":{\"plot\":{\"id\":\"4cd35c2a-5ea6-4f9c-a6a1-4e860ac426bf\",\"subtype\":\"Figure\",\"type\":\"Plot\"},\"ticker\":{\"id\":\"dce8da50-a9ba-4f54-9a09-1554d9a59a39\",\"type\":\"CategoricalTicker\"}},\"id\":\"fca8a743-9dc8-4abe-890e-980adc5fc127\",\"type\":\"Grid\"},{\"attributes\":{\"axis_label\":\"flux (W m-2)\",\"formatter\":{\"id\":\"5fa7fc95-5f79-485e-8640-6dd753438b8e\",\"type\":\"BasicTickFormatter\"},\"plot\":{\"id\":\"4cd35c2a-5ea6-4f9c-a6a1-4e860ac426bf\",\"subtype\":\"Figure\",\"type\":\"Plot\"},\"ticker\":{\"id\":\"10fe2eae-2a64-4d4b-bc46-9d90630d62a4\",\"type\":\"BasicTicker\"}},\"id\":\"aec87217-098f-4b13-b49c-9c7463f77e5b\",\"type\":\"LinearAxis\"},{\"attributes\":{\"below\":[{\"id\":\"2c769f58-5c29-4178-8318-77879fbbef8d\",\"type\":\"CategoricalAxis\"}],\"left\":[{\"id\":\"8625f245-456d-4f0b-9de0-215de9bee22d\",\"type\":\"LinearAxis\"}],\"plot_height\":300,\"plot_width\":300,\"renderers\":[{\"id\":\"2c769f58-5c29-4178-8318-77879fbbef8d\",\"type\":\"CategoricalAxis\"},{\"id\":\"4f984403-d62f-423d-bcc6-dcd5ecbaf64f\",\"type\":\"Grid\"},{\"id\":\"8625f245-456d-4f0b-9de0-215de9bee22d\",\"type\":\"LinearAxis\"},{\"id\":\"efb9f8f7-4e65-44a0-a056-a0336040a5f2\",\"type\":\"Grid\"},{\"id\":\"e12e9dbf-1983-4b49-96bc-3f095e0abc68\",\"type\":\"BoxAnnotation\"},{\"id\":\"62694fd0-03e6-4400-b642-5fc18df99661\",\"type\":\"GlyphRenderer\"}],\"title\":{\"id\":\"fdaca125-db02-4b84-abc5-615a1f8fdbd5\",\"type\":\"Title\"},\"toolbar\":{\"id\":\"92a740b3-e83b-46c8-81b4-c4973e057c27\",\"type\":\"Toolbar\"},\"toolbar_location\":null,\"x_range\":{\"id\":\"c3580ed7-8154-4c66-a796-003bad676903\",\"type\":\"FactorRange\"},\"x_scale\":{\"id\":\"b30f16d1-c2eb-4432-9ca4-924b7d2406f8\",\"type\":\"CategoricalScale\"},\"y_range\":{\"id\":\"318251f0-4b05-4fc3-8c0a-b59cf7c52b38\",\"type\":\"DataRange1d\"},\"y_scale\":{\"id\":\"95551e48-e07b-4c3f-b0c7-86794ccee5e4\",\"type\":\"LinearScale\"}},\"id\":\"eadc81bf-9e0d-4016-a970-ad8c5bcd188b\",\"subtype\":\"Figure\",\"type\":\"Plot\"},{\"attributes\":{},\"id\":\"77d2a8da-4cea-45b3-a252-2e6ec2e398dd\",\"type\":\"CategoricalScale\"},{\"attributes\":{\"callback\":null,\"factors\":[\"1\",\"2\",\"3\",\"4\",\"5\",\"6\",\"7\",\"8\",\"9\",\"10\",\"11\"]},\"id\":\"4cbc3841-1d48-444b-8527-32e3bbbd13aa\",\"type\":\"FactorRange\"},{\"attributes\":{},\"id\":\"dce8da50-a9ba-4f54-9a09-1554d9a59a39\",\"type\":\"CategoricalTicker\"},{\"attributes\":{\"plot\":null,\"text\":\"SFC flux. CLIRAD (single-run) - CRD.\"},\"id\":\"544c800a-0b0a-41f5-9414-121597307391\",\"type\":\"Title\"},{\"attributes\":{\"axis_label\":\"spectral band\",\"formatter\":{\"id\":\"540b096a-241d-4bd1-98e0-e1238afdf416\",\"type\":\"CategoricalTickFormatter\"},\"plot\":{\"id\":\"4cd35c2a-5ea6-4f9c-a6a1-4e860ac426bf\",\"subtype\":\"Figure\",\"type\":\"Plot\"},\"ticker\":{\"id\":\"dce8da50-a9ba-4f54-9a09-1554d9a59a39\",\"type\":\"CategoricalTicker\"}},\"id\":\"c63851c5-924b-48f4-bbeb-9d4836b25ffa\",\"type\":\"CategoricalAxis\"},{\"attributes\":{\"below\":[{\"id\":\"c63851c5-924b-48f4-bbeb-9d4836b25ffa\",\"type\":\"CategoricalAxis\"}],\"left\":[{\"id\":\"aec87217-098f-4b13-b49c-9c7463f77e5b\",\"type\":\"LinearAxis\"}],\"plot_height\":300,\"plot_width\":300,\"renderers\":[{\"id\":\"c63851c5-924b-48f4-bbeb-9d4836b25ffa\",\"type\":\"CategoricalAxis\"},{\"id\":\"fca8a743-9dc8-4abe-890e-980adc5fc127\",\"type\":\"Grid\"},{\"id\":\"aec87217-098f-4b13-b49c-9c7463f77e5b\",\"type\":\"LinearAxis\"},{\"id\":\"05e92326-ffe5-4873-a507-96d41fe97489\",\"type\":\"Grid\"},{\"id\":\"fb1762e0-f518-4efe-8cf4-7ac03a93145e\",\"type\":\"BoxAnnotation\"},{\"id\":\"2170602c-4aeb-4ec4-a027-8866c5f138a1\",\"type\":\"GlyphRenderer\"}],\"title\":{\"id\":\"544c800a-0b0a-41f5-9414-121597307391\",\"type\":\"Title\"},\"toolbar\":{\"id\":\"d7ae9a16-859a-44ea-882a-f06994f86964\",\"type\":\"Toolbar\"},\"toolbar_location\":null,\"x_range\":{\"id\":\"4cbc3841-1d48-444b-8527-32e3bbbd13aa\",\"type\":\"FactorRange\"},\"x_scale\":{\"id\":\"77d2a8da-4cea-45b3-a252-2e6ec2e398dd\",\"type\":\"CategoricalScale\"},\"y_range\":{\"id\":\"f62c4be2-89b6-405a-a9ef-f4471017f2c3\",\"type\":\"DataRange1d\"},\"y_scale\":{\"id\":\"c2bd2b43-a388-4cfb-855f-a9d66bed748b\",\"type\":\"LinearScale\"}},\"id\":\"4cd35c2a-5ea6-4f9c-a6a1-4e860ac426bf\",\"subtype\":\"Figure\",\"type\":\"Plot\"},{\"attributes\":{\"overlay\":{\"id\":\"8a7832d6-fb89-478f-aa7b-b343c0a24864\",\"type\":\"BoxAnnotation\"}},\"id\":\"27121e7c-e6d1-4ab6-bb7d-754b2bf04de2\",\"type\":\"BoxZoomTool\"},{\"attributes\":{\"below\":[{\"id\":\"97cb6249-a172-4ed4-9caa-e75e9539722b\",\"type\":\"CategoricalAxis\"}],\"left\":[{\"id\":\"f58dd87d-7874-4ef3-8060-483b24b7fa3f\",\"type\":\"LinearAxis\"}],\"plot_height\":300,\"plot_width\":300,\"renderers\":[{\"id\":\"97cb6249-a172-4ed4-9caa-e75e9539722b\",\"type\":\"CategoricalAxis\"},{\"id\":\"1e2f8e01-43b8-4321-92a2-47c23682473e\",\"type\":\"Grid\"},{\"id\":\"f58dd87d-7874-4ef3-8060-483b24b7fa3f\",\"type\":\"LinearAxis\"},{\"id\":\"86aeb3a6-422c-4bde-8ced-ba9d3bf6c205\",\"type\":\"Grid\"},{\"id\":\"8a7832d6-fb89-478f-aa7b-b343c0a24864\",\"type\":\"BoxAnnotation\"},{\"id\":\"2b182e0b-ad6b-423a-97e8-62943f7ef000\",\"type\":\"GlyphRenderer\"}],\"title\":{\"id\":\"f0069e1c-e590-48bc-8176-35c1cdb65c08\",\"type\":\"Title\"},\"toolbar\":{\"id\":\"14092555-c83b-4709-bc84-40253530cf2d\",\"type\":\"Toolbar\"},\"toolbar_location\":null,\"x_range\":{\"id\":\"e9f3850f-cde8-4aaf-9049-baf1abd99cb8\",\"type\":\"FactorRange\"},\"x_scale\":{\"id\":\"d56fcb6b-b024-43b3-beaf-e98a8165262a\",\"type\":\"CategoricalScale\"},\"y_range\":{\"id\":\"2648cced-fb1e-4100-b54f-ba47b76b9a34\",\"type\":\"DataRange1d\"},\"y_scale\":{\"id\":\"164e6cde-5062-4dc3-8301-fd8782eb4fb0\",\"type\":\"LinearScale\"}},\"id\":\"23e6c04f-2d53-433e-a7a7-e4dd5d370ef0\",\"subtype\":\"Figure\",\"type\":\"Plot\"},{\"attributes\":{\"bottom_units\":\"screen\",\"fill_alpha\":{\"value\":0.5},\"fill_color\":{\"value\":\"lightgrey\"},\"left_units\":\"screen\",\"level\":\"overlay\",\"line_alpha\":{\"value\":1.0},\"line_color\":{\"value\":\"black\"},\"line_dash\":[4,4],\"line_width\":{\"value\":2},\"plot\":null,\"render_mode\":\"css\",\"right_units\":\"screen\",\"top_units\":\"screen\"},\"id\":\"8a7832d6-fb89-478f-aa7b-b343c0a24864\",\"type\":\"BoxAnnotation\"},{\"attributes\":{},\"id\":\"c2bd2b43-a388-4cfb-855f-a9d66bed748b\",\"type\":\"LinearScale\"},{\"attributes\":{},\"id\":\"96f3e49b-08fa-4ebe-a678-a5a3b0b3f8ef\",\"type\":\"ResetTool\"}],\"root_ids\":[\"294913dd-d546-47f8-8a7c-ba75808f2e69\"]},\"title\":\"Bokeh Application\",\"version\":\"0.12.16\"}};\n",
       "  var render_items = [{\"docid\":\"37b49cde-6b67-45d5-839e-5bf30eed1aae\",\"elementid\":\"ac543865-7077-4de4-b8e2-0f06dd63b27d\",\"modelid\":\"294913dd-d546-47f8-8a7c-ba75808f2e69\"}];\n",
       "  root.Bokeh.embed.embed_items_notebook(docs_json, render_items);\n",
       "\n",
       "  }\n",
       "  if (root.Bokeh !== undefined) {\n",
       "    embed_document(root);\n",
       "  } else {\n",
       "    var attempts = 0;\n",
       "    var timer = setInterval(function(root) {\n",
       "      if (root.Bokeh !== undefined) {\n",
       "        embed_document(root);\n",
       "        clearInterval(timer);\n",
       "      }\n",
       "      attempts++;\n",
       "      if (attempts > 100) {\n",
       "        console.log(\"Bokeh: ERROR: Unable to run BokehJS code because BokehJS library is missing\")\n",
       "        clearInterval(timer);\n",
       "      }\n",
       "    }, 10, root)\n",
       "  }\n",
       "})(window);"
      ],
      "application/vnd.bokehjs_exec.v0+json": ""
     },
     "metadata": {
      "application/vnd.bokehjs_exec.v0+json": {
       "id": "294913dd-d546-47f8-8a7c-ba75808f2e69"
      }
     },
     "output_type": "display_data"
    },
    {
     "data": {
      "text/markdown": [
       "*FIGURE.* Difference between CLIRAD and CRD in TOA, SFC and net atmosphere flux, in each spectral band."
      ],
      "text/plain": [
       "<IPython.core.display.Markdown object>"
      ]
     },
     "metadata": {},
     "output_type": "display_data"
    },
    {
     "data": {
      "text/html": [
       "<div>\n",
       "<style scoped>\n",
       "    .dataframe tbody tr th:only-of-type {\n",
       "        vertical-align: middle;\n",
       "    }\n",
       "\n",
       "    .dataframe tbody tr th {\n",
       "        vertical-align: top;\n",
       "    }\n",
       "\n",
       "    .dataframe thead th {\n",
       "        text-align: right;\n",
       "    }\n",
       "</style>\n",
       "<table border=\"1\" class=\"dataframe\">\n",
       "  <thead>\n",
       "    <tr style=\"text-align: right;\">\n",
       "      <th></th>\n",
       "      <th>OLR flux</th>\n",
       "      <th>SFC flux</th>\n",
       "      <th>ATM heating</th>\n",
       "    </tr>\n",
       "    <tr>\n",
       "      <th>Sum over bands</th>\n",
       "      <th></th>\n",
       "      <th></th>\n",
       "      <th></th>\n",
       "    </tr>\n",
       "  </thead>\n",
       "  <tbody>\n",
       "    <tr>\n",
       "      <th>old CLIRAD - CRD</th>\n",
       "      <td>0.14</td>\n",
       "      <td>2.01</td>\n",
       "      <td>-1.73</td>\n",
       "    </tr>\n",
       "    <tr>\n",
       "      <th>CLIRAD (single-run) - CRD</th>\n",
       "      <td>1.24</td>\n",
       "      <td>3.53</td>\n",
       "      <td>-2.29</td>\n",
       "    </tr>\n",
       "    <tr>\n",
       "      <th>CRD</th>\n",
       "      <td>-290.39</td>\n",
       "      <td>308.14</td>\n",
       "      <td>-174.89</td>\n",
       "    </tr>\n",
       "  </tbody>\n",
       "</table>\n",
       "</div>"
      ],
      "text/plain": [
       "                           OLR flux  SFC flux  ATM heating\n",
       "Sum over bands                                            \n",
       "old CLIRAD - CRD               0.14      2.01        -1.73\n",
       "CLIRAD (single-run) - CRD      1.24      3.53        -2.29\n",
       "CRD                         -290.39    308.14      -174.89"
      ]
     },
     "metadata": {},
     "output_type": "display_data"
    },
    {
     "data": {
      "text/markdown": [
       "*TABLE.* Difference between CLIRAD and CRD in TOA, SFC and net atmosphere flux, over all spectral bands. CRD's TOA, SFC and net atmosphere flux, over all spectral bands."
      ],
      "text/plain": [
       "<IPython.core.display.Markdown object>"
      ]
     },
     "metadata": {},
     "output_type": "display_data"
    },
    {
     "data": {
      "text/html": [
       "<a id=\"Cooling_rates._saw.\"></a>"
      ],
      "text/plain": [
       "<IPython.core.display.HTML object>"
      ]
     },
     "metadata": {},
     "output_type": "display_data"
    },
    {
     "data": {
      "text/markdown": [
       "# Cooling rates. saw."
      ],
      "text/plain": [
       "<IPython.core.display.Markdown object>"
      ]
     },
     "metadata": {},
     "output_type": "display_data"
    },
    {
     "data": {
      "text/html": [
       "\n",
       "<div class=\"bk-root\">\n",
       "    <div class=\"bk-plotdiv\" id=\"dbd91788-9e68-41f1-87c5-9daf24c9bdf9\"></div>\n",
       "</div>"
      ]
     },
     "metadata": {},
     "output_type": "display_data"
    },
    {
     "data": {
      "application/javascript": [
       "(function(root) {\n",
       "  function embed_document(root) {\n",
       "    \n",
       "  var docs_json = {\"d65338d8-63e9-4dcf-aa90-8d128d2f5664\":{\"roots\":{\"references\":[{\"attributes\":{\"items\":[{\"id\":\"c2616346-5330-4987-8d09-92bbfc075c30\",\"type\":\"LegendItem\"},{\"id\":\"6ef2aec1-6188-4e44-b2b8-511169faac8e\",\"type\":\"LegendItem\"}],\"label_text_font_size\":{\"value\":\"8pt\"},\"location\":\"top_center\",\"orientation\":\"horizontal\",\"plot\":{\"id\":\"8e84e93f-043e-4462-ab39-21326adf8fbe\",\"subtype\":\"Figure\",\"type\":\"Plot\"}},\"id\":\"f194aa56-b990-4040-85b8-0fbf243c6968\",\"type\":\"Legend\"},{\"attributes\":{\"plot\":{\"id\":\"f286ea7e-a359-45cc-a483-d0062f38ab67\",\"subtype\":\"Figure\",\"type\":\"Plot\"},\"ticker\":{\"id\":\"f04fcc50-ed44-4c0f-9a10-7d16c72a65da\",\"type\":\"BasicTicker\"}},\"id\":\"557bf655-f4e0-4dfa-9255-6d355f45e3e2\",\"type\":\"Grid\"},{\"attributes\":{\"dimension\":1,\"plot\":{\"id\":\"f286ea7e-a359-45cc-a483-d0062f38ab67\",\"subtype\":\"Figure\",\"type\":\"Plot\"},\"ticker\":{\"id\":\"d8fb73ef-c819-4ca5-8922-2f55d5a1961f\",\"type\":\"LogTicker\"}},\"id\":\"82dc4aca-fb1a-4d28-9bda-b30ba18ee02f\",\"type\":\"Grid\"},{\"attributes\":{\"data_source\":{\"id\":\"c7eecd49-24b8-4613-8586-6b64696c1652\",\"type\":\"ColumnDataSource\"},\"glyph\":{\"id\":\"79125a1f-8c01-4475-b93b-c47dbdedd375\",\"type\":\"Line\"},\"hover_glyph\":null,\"muted_glyph\":null,\"nonselection_glyph\":{\"id\":\"9d6f05a9-6225-4826-a66c-9522cabb7204\",\"type\":\"Line\"},\"selection_glyph\":null,\"view\":{\"id\":\"4061ace5-52c6-430a-abe2-c7acd907a0db\",\"type\":\"CDSView\"}},\"id\":\"4967333d-ed83-4375-8afd-9b058b67fed7\",\"type\":\"GlyphRenderer\"},{\"attributes\":{},\"id\":\"469f6393-3112-447d-a14f-650b2fb996ad\",\"type\":\"SaveTool\"},{\"attributes\":{\"above\":[{\"id\":\"bbbb2b58-43f6-4bde-b82f-11e341c4d915\",\"type\":\"Legend\"}],\"below\":[{\"id\":\"3989bd40-55c5-4cfc-874f-511a3ef7e941\",\"type\":\"LinearAxis\"}],\"left\":[{\"id\":\"76a8e6f9-e4bc-40d1-b095-ada57be5162a\",\"type\":\"LinearAxis\"}],\"plot_width\":300,\"renderers\":[{\"id\":\"3989bd40-55c5-4cfc-874f-511a3ef7e941\",\"type\":\"LinearAxis\"},{\"id\":\"4aa2c027-5efd-4fd1-83bb-b3b7878322dc\",\"type\":\"Grid\"},{\"id\":\"76a8e6f9-e4bc-40d1-b095-ada57be5162a\",\"type\":\"LinearAxis\"},{\"id\":\"2d70bc53-f0b6-4419-8314-ed79dff0577f\",\"type\":\"Grid\"},{\"id\":\"b7da1954-4703-4887-ab13-b85f70185551\",\"type\":\"BoxAnnotation\"},{\"id\":\"90455dd3-8bf8-49aa-bd9a-8b0b96c8a59c\",\"type\":\"GlyphRenderer\"},{\"id\":\"4dab3e31-e13e-4145-b1cb-7921cce9a61c\",\"type\":\"GlyphRenderer\"},{\"id\":\"dab95894-57d8-4e35-ac59-50abba9747d5\",\"type\":\"GlyphRenderer\"},{\"id\":\"bbbb2b58-43f6-4bde-b82f-11e341c4d915\",\"type\":\"Legend\"}],\"title\":{\"id\":\"eaf64ef2-fa0f-4355-a8ed-02022f6dec18\",\"type\":\"Title\"},\"toolbar\":{\"id\":\"d5763c5c-3eef-45c4-9047-9fec7fe9c546\",\"type\":\"Toolbar\"},\"toolbar_location\":null,\"x_range\":{\"id\":\"098e1fc3-9d6e-470b-b3b6-fde56f9ba7b1\",\"type\":\"Range1d\"},\"x_scale\":{\"id\":\"d991f8eb-5bde-4748-9d47-4355b85a3c60\",\"type\":\"LinearScale\"},\"y_range\":{\"id\":\"1a67f757-a00d-4db9-8ef7-5b4638e971b2\",\"type\":\"Range1d\"},\"y_scale\":{\"id\":\"1ba5b0a9-ab5c-442c-8d80-5b74f3abf9cc\",\"type\":\"LinearScale\"}},\"id\":\"24cace13-a1e3-4f5c-8eab-1bb702d2d601\",\"subtype\":\"Figure\",\"type\":\"Plot\"},{\"attributes\":{\"plot\":null,\"text\":\"\"},\"id\":\"eaf64ef2-fa0f-4355-a8ed-02022f6dec18\",\"type\":\"Title\"},{\"attributes\":{\"label\":{\"value\":\"CLIRAD (single-run)\"},\"renderers\":[{\"id\":\"45b1ae4a-1d2c-41bc-92fb-5d94dd5682c0\",\"type\":\"GlyphRenderer\"}]},\"id\":\"c2616346-5330-4987-8d09-92bbfc075c30\",\"type\":\"LegendItem\"},{\"attributes\":{\"source\":{\"id\":\"53336e72-b4ff-4a47-a6e7-aee5c9ef652c\",\"type\":\"ColumnDataSource\"}},\"id\":\"e00be892-b6be-48f1-9765-82d4aa9e1576\",\"type\":\"CDSView\"},{\"attributes\":{},\"id\":\"26348bbd-a427-47d1-98a2-005c15c0c25e\",\"type\":\"UnionRenderers\"},{\"attributes\":{},\"id\":\"3e3dc1ec-9a16-4e47-97e8-b0a21451079b\",\"type\":\"UnionRenderers\"},{\"attributes\":{},\"id\":\"2074068e-30d7-42a0-be2a-0f70b6a7a8b5\",\"type\":\"Selection\"},{\"attributes\":{\"data_source\":{\"id\":\"37d2a1d9-4568-4dbb-b359-2ee5c89f5100\",\"type\":\"ColumnDataSource\"},\"glyph\":{\"id\":\"282fa9b5-364d-4e60-bca7-ca3c2f71c3b1\",\"type\":\"Line\"},\"hover_glyph\":null,\"muted_glyph\":null,\"nonselection_glyph\":{\"id\":\"6d2f33b3-c207-463b-b3e8-a2eacf30f515\",\"type\":\"Line\"},\"selection_glyph\":null,\"view\":{\"id\":\"181983e4-102e-47f5-8111-ad059e1af51b\",\"type\":\"CDSView\"}},\"id\":\"45b1ae4a-1d2c-41bc-92fb-5d94dd5682c0\",\"type\":\"GlyphRenderer\"},{\"attributes\":{},\"id\":\"f62a4c99-6117-47c2-9d6e-01452220077d\",\"type\":\"BasicTickFormatter\"},{\"attributes\":{},\"id\":\"da6d1d6e-2c0a-46f0-916e-d4d042e4787c\",\"type\":\"WheelZoomTool\"},{\"attributes\":{\"num_minor_ticks\":10},\"id\":\"d8fb73ef-c819-4ca5-8922-2f55d5a1961f\",\"type\":\"LogTicker\"},{\"attributes\":{},\"id\":\"0aa5ae80-036e-41c1-899a-a52debeddd04\",\"type\":\"Selection\"},{\"attributes\":{\"num_minor_ticks\":10},\"id\":\"6b995be9-eb47-4652-afd4-424e05be07f2\",\"type\":\"LogTicker\"},{\"attributes\":{\"fill_alpha\":{\"value\":0.1},\"fill_color\":{\"value\":\"#1f77b4\"},\"line_alpha\":{\"value\":0.1},\"line_color\":{\"value\":\"#1f77b4\"},\"x\":{\"field\":\"x\"},\"y\":{\"field\":\"y\"}},\"id\":\"00a7e1e4-1130-4d09-a8a8-f77500d5217a\",\"type\":\"Circle\"},{\"attributes\":{},\"id\":\"2917fc60-f838-4c64-8723-879c3a8e3c72\",\"type\":\"Selection\"},{\"attributes\":{},\"id\":\"bb75819b-7427-472d-a563-533456691697\",\"type\":\"WheelZoomTool\"},{\"attributes\":{},\"id\":\"897fe752-e90f-40dd-a98b-f76228d5f20b\",\"type\":\"Selection\"},{\"attributes\":{\"children\":[{\"id\":\"24cace13-a1e3-4f5c-8eab-1bb702d2d601\",\"subtype\":\"Figure\",\"type\":\"Plot\"},{\"id\":\"8e84e93f-043e-4462-ab39-21326adf8fbe\",\"subtype\":\"Figure\",\"type\":\"Plot\"},{\"id\":\"f286ea7e-a359-45cc-a483-d0062f38ab67\",\"subtype\":\"Figure\",\"type\":\"Plot\"}]},\"id\":\"72226ed2-8545-4af1-add6-66a79442b21d\",\"type\":\"Row\"},{\"attributes\":{},\"id\":\"2abefdcf-4470-4c0d-8345-faec1dcfa9ca\",\"type\":\"PanTool\"},{\"attributes\":{},\"id\":\"fdc7cbf4-1138-4a4c-a0cc-e2e46ce5068d\",\"type\":\"PanTool\"},{\"attributes\":{\"data_source\":{\"id\":\"53336e72-b4ff-4a47-a6e7-aee5c9ef652c\",\"type\":\"ColumnDataSource\"},\"glyph\":{\"id\":\"e9610598-d01a-4766-8876-d17360b20c6a\",\"type\":\"Circle\"},\"hover_glyph\":null,\"muted_glyph\":null,\"nonselection_glyph\":{\"id\":\"00a7e1e4-1130-4d09-a8a8-f77500d5217a\",\"type\":\"Circle\"},\"selection_glyph\":null,\"view\":{\"id\":\"e00be892-b6be-48f1-9765-82d4aa9e1576\",\"type\":\"CDSView\"}},\"id\":\"17569090-d212-488f-acd3-0732c31d5582\",\"type\":\"GlyphRenderer\"},{\"attributes\":{},\"id\":\"eeb63130-ebf3-4bf6-ae13-e66dd3ef4890\",\"type\":\"BasicTickFormatter\"},{\"attributes\":{\"children\":[{\"id\":\"72226ed2-8545-4af1-add6-66a79442b21d\",\"type\":\"Row\"}]},\"id\":\"9227d89e-dfcd-4df4-9603-f5540d012599\",\"type\":\"Column\"},{\"attributes\":{\"fill_alpha\":{\"value\":0.7},\"fill_color\":{\"value\":\"#984ea3\"},\"line_alpha\":{\"value\":0.7},\"line_color\":{\"value\":\"#984ea3\"},\"x\":{\"field\":\"x\"},\"y\":{\"field\":\"y\"}},\"id\":\"e9610598-d01a-4766-8876-d17360b20c6a\",\"type\":\"Circle\"},{\"attributes\":{\"line_alpha\":0.1,\"line_color\":\"#1f77b4\",\"line_width\":1.5,\"x\":{\"field\":\"x\"},\"y\":{\"field\":\"y\"}},\"id\":\"9d6f05a9-6225-4826-a66c-9522cabb7204\",\"type\":\"Line\"},{\"attributes\":{\"bottom_units\":\"screen\",\"fill_alpha\":{\"value\":0.5},\"fill_color\":{\"value\":\"lightgrey\"},\"left_units\":\"screen\",\"level\":\"overlay\",\"line_alpha\":{\"value\":1.0},\"line_color\":{\"value\":\"black\"},\"line_dash\":[4,4],\"line_width\":{\"value\":2},\"plot\":null,\"render_mode\":\"css\",\"right_units\":\"screen\",\"top_units\":\"screen\"},\"id\":\"e692558f-050a-46be-86e0-f8f767f6ac83\",\"type\":\"BoxAnnotation\"},{\"attributes\":{\"callback\":null,\"data\":{\"x\":{\"__ndarray__\":\"+DIYzSfeQ8ADSyc6JvYYwLTQYDfqpAPA+O9NsLUe8j+ndYjj8ZsLQAF2sowZ2g9AWJ7jTizLBkBzJnliSDrrP4ckTQqmmu2/yIn9Xbll+r/JDtlCfBv0vzBtL7R6y9S/S0z/YzCq4D9RXHsTOubuP0LadZl6Ae0/dkdbHzgO2T8gP4OVa97Qv6dKvimeXuW/b5f1lFZy5b89MnadIX3avxDzPaQG4cG/QZDrasUbsj8qxYtq7i7BP9oYbF5hAbq/0B2QLF9yzb8woeBAjRqhvzE6QhliW9E/2dtVmWDw0T9iy9OmZy68P3XlwRgMmKA/6OXDpjhDxD/NCvR1tBTNP0tccmf80MA/kR+5P9Bjd7/+eIVwnghnP3pZTI32QrM/tZBOmvsjqD8gW4ODHuaYv3qCLJpbsrO/EnzuYOkStr8oGm8gFrOyv9/c1pAIzay/ofPvAbSOpb8B/UhJYXeav6yCnM7sxpC/hpUy0XwXhr9Mn53DEuFBv0aNEOOb1HS/0eQ2hbZkm78yaLzNbqeqvxJj7zybiKq/qUS6gZ7Jor+WR8ckxmOjv355VJ2o16q/eLAPjvieqr89svGCvmulv0MouvGYyJ+/WZBD+ONzmL+7AAA18s+Tv6Kofz3cVoq/51drxdN7hL9dlz8bDACCvw8QIqqL84S/KORqulcTh7+htJlELhGFv6wZW7a8DHy/UHC3pGLcT7/+hXsOcK18Py2/jCKe/ok/RvRFJAX0xT+a4gwmR3/FP8ROYJHSucQ/f+cCHNykwz9+Ocqw96rCP8VuhrjFnsE/\",\"dtype\":\"float64\",\"shape\":[75]},\"y\":{\"__ndarray__\":\"GhExyth1ND/Sv8nbtpRIP2vylNV0PVE/aTum7souWD/At0SJ8fVgPw3Iuahxymc/MSNhhJWvcD/bTfBN02d3P2zb5nxnaoA/CD5h5MAGhz8NmeH1TyaQP+zrCsc9p5Y/LbKd76fGnz/bLW5ISEmmPww9YvTcQq8/JV2OstnstT8Er5Y7M8G+P0c+r3jqkcU/5h99k6ZBzj88bCIzFzjVP4enV8oyxN0//yH99nXg5D8qOpLLf0jtP5kqGJXUifQ/c9cS8kHP/D+/DpwzojQEQIEmwoanVwxA4lgXt9HgE0BSSZ2AJuIbQAMJih9jjiNA5q4l5INuK0AwTKYKRj0zQNv5fmq8/DpAaCJseHrtQkB/+zpwzoxKQM3MzMzMeFJAZmZmZmZqWEAAAAAAAFxeQM3MzMzMJmJAmpmZmZkfZUBmZmZmZhhoQDMzMzMzEWtAAAAAAAAKbkBmZmZmZoFwQM3MzMzM/XFAMzMzMzN6c0CamZmZmfZ0QAAAAAAAc3ZAZmZmZmbvd0DNzMzMzGt5QDMzMzMz6HpAmpmZmZlkfEAAAAAAAOF9QGZmZmZmXX9AZmZmZuZsgECamZmZGSuBQM3MzMxM6YFAAAAAAICngkAzMzMzs2WDQGZmZmbmI4RAmpmZmRnihEDNzMzMTKCFQAAAAACAXoZAMzMzM7Mch0BmZmZm5tqHQJqZmZkZmYhAzczMzExXiUAAAAAAgBWKQDMzMzOz04pAZmZmZuaRi0CamZmZGVCMQM3MzMxMDo1AAAAAAIDMjUAzMzMzs4qOQGZmZmbmSI9A\",\"dtype\":\"float64\",\"shape\":[75]}},\"selected\":{\"id\":\"f4f6c7b4-5995-4506-9117-11d8011dbe55\",\"type\":\"Selection\"},\"selection_policy\":{\"id\":\"9682da3e-2973-474a-986d-2136ec537099\",\"type\":\"UnionRenderers\"}},\"id\":\"c7eecd49-24b8-4613-8586-6b64696c1652\",\"type\":\"ColumnDataSource\"},{\"attributes\":{},\"id\":\"bb6b4e9d-69c1-4212-9531-52b13bf33d32\",\"type\":\"UnionRenderers\"},{\"attributes\":{\"axis_label\":\"pressure [mb]\",\"formatter\":{\"id\":\"c9765fb1-f8ed-4a86-bf91-005568b49cc6\",\"type\":\"LogTickFormatter\"},\"plot\":{\"id\":\"f286ea7e-a359-45cc-a483-d0062f38ab67\",\"subtype\":\"Figure\",\"type\":\"Plot\"},\"ticker\":{\"id\":\"d8fb73ef-c819-4ca5-8922-2f55d5a1961f\",\"type\":\"LogTicker\"}},\"id\":\"9288650f-e1fb-4be1-9552-c3239c427c12\",\"type\":\"LogAxis\"},{\"attributes\":{\"line_alpha\":0.8,\"line_color\":\"#984ea3\",\"line_width\":1.5,\"x\":{\"field\":\"x\"},\"y\":{\"field\":\"y\"}},\"id\":\"79125a1f-8c01-4475-b93b-c47dbdedd375\",\"type\":\"Line\"},{\"attributes\":{\"overlay\":{\"id\":\"b7da1954-4703-4887-ab13-b85f70185551\",\"type\":\"BoxAnnotation\"}},\"id\":\"7d4eff20-9869-410d-8aa6-0e8ae4ea1b09\",\"type\":\"BoxZoomTool\"},{\"attributes\":{},\"id\":\"41608db7-75c8-4e2d-a3f9-01c42052b41f\",\"type\":\"HelpTool\"},{\"attributes\":{\"dimension\":1,\"plot\":{\"id\":\"8e84e93f-043e-4462-ab39-21326adf8fbe\",\"subtype\":\"Figure\",\"type\":\"Plot\"},\"ticker\":{\"id\":\"6b995be9-eb47-4652-afd4-424e05be07f2\",\"type\":\"LogTicker\"}},\"id\":\"cc25a4f8-fb2f-4fca-a3f1-da89857d0ef1\",\"type\":\"Grid\"},{\"attributes\":{\"overlay\":{\"id\":\"8c96077f-5c88-4ad1-acbb-0e9de924cc10\",\"type\":\"BoxAnnotation\"}},\"id\":\"ee798da5-dff2-4a81-a7dd-cb1fc3cd2c9d\",\"type\":\"BoxZoomTool\"},{\"attributes\":{\"source\":{\"id\":\"c7eecd49-24b8-4613-8586-6b64696c1652\",\"type\":\"ColumnDataSource\"}},\"id\":\"4061ace5-52c6-430a-abe2-c7acd907a0db\",\"type\":\"CDSView\"},{\"attributes\":{\"label\":{\"value\":\"CLIRAD (single-run) - CRD\"},\"renderers\":[{\"id\":\"17569090-d212-488f-acd3-0732c31d5582\",\"type\":\"GlyphRenderer\"},{\"id\":\"4967333d-ed83-4375-8afd-9b058b67fed7\",\"type\":\"GlyphRenderer\"}]},\"id\":\"10cbb81b-1e6b-4844-95f9-feff5081187f\",\"type\":\"LegendItem\"},{\"attributes\":{},\"id\":\"35a22a43-4381-4ae2-8ad2-f4788bdd36dd\",\"type\":\"ResetTool\"},{\"attributes\":{},\"id\":\"a58ed26c-40d7-4a92-9961-f8df696ac9a9\",\"type\":\"ResetTool\"},{\"attributes\":{\"line_color\":\"#4daf4a\",\"line_width\":1.5,\"x\":{\"field\":\"x\"},\"y\":{\"field\":\"y\"}},\"id\":\"a68d0c47-c3e5-4875-9d5f-428ad76e7a70\",\"type\":\"Line\"},{\"attributes\":{\"callback\":null,\"data\":{\"x\":{\"__ndarray__\":\"0CYBcvU5UkCik9zf2GVBQF1VoNfLZ0BAVLxhiVXTPUDD1Wu1wJM6QFJyB025jjdAU6Aw5+b/NECYe1uuDfgyQB6bYtVTbTFAPxYSAF1HMEA00pYVm9QuQLolHbMzgC1AntlwirGsLECv+G9SjE4rQJH6ZLBp0ShAsLZQyPd/JkDyjgyf2PwkQLgyNGsrJyRAA13QbJD6I0C8hy0ilI4kQOVTXCEgcSZAovOGvZSGJUBVc/ZmUOIgQOf/6GHAyRlAcE8fAOBSFEDRur1U//gPQGFD9ZbokghAQsqHuSqSA0C91ci3W0UBQCtRQfvz7/4/kh8pntyB+j9t1/n+4TX1P773MAUjFfI/RgzR+CI28T8hBW8WHK7uPzVKjJfU8uk/0FPt4/z65T/wVYqzMPDhPz7K9C5CXuE/8+hSn9hY4T/9PPCkR6rhP1XsIC599OA/66X1nBCX3z/YbRM56QjcPz4dkSQc/dM/S7Wb8Fq00T+/yQdmX0vcP7TrGf476eM/WqNPJoWO7D9qOH1bcwDzP2bw+R5DQ/Y/RLSuQOQp+D8+aif8yAz5P0Wv6eBKRfk/0i2+IN4R+T/ik8QNFZr4PyS5UD5j/Pc/yJ68zXRG9z/2CHPL54H2P59SOhwKtPU/npkP8dfg9D8NlmVcdQz0P80ugRvuOvM/byxiAHN18j9USVZie8nxP5l9lNXYSPE/OB+F0UYP8T8Y7dsUCTHxP3EBgTHPcPE/bfx15p8S8T8FT+xkGtTuP6mdG7rkxuk/pboqTkHX5D/CrN8qGYngP7R4ZaL+htU/\",\"dtype\":\"float64\",\"shape\":[75]},\"y\":{\"__ndarray__\":\"GhExyth1ND/Sv8nbtpRIP2vylNV0PVE/aTum7souWD/At0SJ8fVgPw3Iuahxymc/MSNhhJWvcD/bTfBN02d3P2zb5nxnaoA/CD5h5MAGhz8NmeH1TyaQP+zrCsc9p5Y/LbKd76fGnz/bLW5ISEmmPww9YvTcQq8/JV2OstnstT8Er5Y7M8G+P0c+r3jqkcU/5h99k6ZBzj88bCIzFzjVP4enV8oyxN0//yH99nXg5D8qOpLLf0jtP5kqGJXUifQ/c9cS8kHP/D+/DpwzojQEQIEmwoanVwxA4lgXt9HgE0BSSZ2AJuIbQAMJih9jjiNA5q4l5INuK0AwTKYKRj0zQNv5fmq8/DpAaCJseHrtQkB/+zpwzoxKQM3MzMzMeFJAZmZmZmZqWEAAAAAAAFxeQM3MzMzMJmJAmpmZmZkfZUBmZmZmZhhoQDMzMzMzEWtAAAAAAAAKbkBmZmZmZoFwQM3MzMzM/XFAMzMzMzN6c0CamZmZmfZ0QAAAAAAAc3ZAZmZmZmbvd0DNzMzMzGt5QDMzMzMz6HpAmpmZmZlkfEAAAAAAAOF9QGZmZmZmXX9AZmZmZuZsgECamZmZGSuBQM3MzMxM6YFAAAAAAICngkAzMzMzs2WDQGZmZmbmI4RAmpmZmRnihEDNzMzMTKCFQAAAAACAXoZAMzMzM7Mch0BmZmZm5tqHQJqZmZkZmYhAzczMzExXiUAAAAAAgBWKQDMzMzOz04pAZmZmZuaRi0CamZmZGVCMQM3MzMxMDo1AAAAAAIDMjUAzMzMzs4qOQGZmZmbmSI9A\",\"dtype\":\"float64\",\"shape\":[75]}},\"selected\":{\"id\":\"51ff44b3-8435-49ed-8764-70e6f1d59ec2\",\"type\":\"Selection\"},\"selection_policy\":{\"id\":\"4d790ed5-fa54-4b36-b6af-3fcb9f60474d\",\"type\":\"UnionRenderers\"}},\"id\":\"b6566e31-ce12-4095-bc9e-b3fc7a2750d3\",\"type\":\"ColumnDataSource\"},{\"attributes\":{\"callback\":null,\"data\":{\"x\":{\"__ndarray__\":\"0CYBcvU5UkCik9zf2GVBQF1VoNfLZ0BAVLxhiVXTPUDD1Wu1wJM6QFJyB025jjdAU6Aw5+b/NECYe1uuDfgyQB6bYtVTbTFAPxYSAF1HMEA00pYVm9QuQLolHbMzgC1AntlwirGsLECv+G9SjE4rQJH6ZLBp0ShAsLZQyPd/JkDyjgyf2PwkQLgyNGsrJyRAA13QbJD6I0C8hy0ilI4kQOVTXCEgcSZAovOGvZSGJUBVc/ZmUOIgQOf/6GHAyRlAcE8fAOBSFEDRur1U//gPQGFD9ZbokghAQsqHuSqSA0C91ci3W0UBQCtRQfvz7/4/kh8pntyB+j9t1/n+4TX1P773MAUjFfI/RgzR+CI28T8hBW8WHK7uPzVKjJfU8uk/0FPt4/z65T/wVYqzMPDhPz7K9C5CXuE/8+hSn9hY4T/9PPCkR6rhP1XsIC599OA/66X1nBCX3z/YbRM56QjcPz4dkSQc/dM/S7Wb8Fq00T+/yQdmX0vcP7TrGf476eM/WqNPJoWO7D9qOH1bcwDzP2bw+R5DQ/Y/RLSuQOQp+D8+aif8yAz5P0Wv6eBKRfk/0i2+IN4R+T/ik8QNFZr4PyS5UD5j/Pc/yJ68zXRG9z/2CHPL54H2P59SOhwKtPU/npkP8dfg9D8NlmVcdQz0P80ugRvuOvM/byxiAHN18j9USVZie8nxP5l9lNXYSPE/OB+F0UYP8T8Y7dsUCTHxP3EBgTHPcPE/bfx15p8S8T8FT+xkGtTuP6mdG7rkxuk/pboqTkHX5D/CrN8qGYngP7R4ZaL+htU/\",\"dtype\":\"float64\",\"shape\":[75]},\"y\":{\"__ndarray__\":\"GhExyth1ND/Sv8nbtpRIP2vylNV0PVE/aTum7souWD/At0SJ8fVgPw3Iuahxymc/MSNhhJWvcD/bTfBN02d3P2zb5nxnaoA/CD5h5MAGhz8NmeH1TyaQP+zrCsc9p5Y/LbKd76fGnz/bLW5ISEmmPww9YvTcQq8/JV2OstnstT8Er5Y7M8G+P0c+r3jqkcU/5h99k6ZBzj88bCIzFzjVP4enV8oyxN0//yH99nXg5D8qOpLLf0jtP5kqGJXUifQ/c9cS8kHP/D+/DpwzojQEQIEmwoanVwxA4lgXt9HgE0BSSZ2AJuIbQAMJih9jjiNA5q4l5INuK0AwTKYKRj0zQNv5fmq8/DpAaCJseHrtQkB/+zpwzoxKQM3MzMzMeFJAZmZmZmZqWEAAAAAAAFxeQM3MzMzMJmJAmpmZmZkfZUBmZmZmZhhoQDMzMzMzEWtAAAAAAAAKbkBmZmZmZoFwQM3MzMzM/XFAMzMzMzN6c0CamZmZmfZ0QAAAAAAAc3ZAZmZmZmbvd0DNzMzMzGt5QDMzMzMz6HpAmpmZmZlkfEAAAAAAAOF9QGZmZmZmXX9AZmZmZuZsgECamZmZGSuBQM3MzMxM6YFAAAAAAICngkAzMzMzs2WDQGZmZmbmI4RAmpmZmRnihEDNzMzMTKCFQAAAAACAXoZAMzMzM7Mch0BmZmZm5tqHQJqZmZkZmYhAzczMzExXiUAAAAAAgBWKQDMzMzOz04pAZmZmZuaRi0CamZmZGVCMQM3MzMxMDo1AAAAAAIDMjUAzMzMzs4qOQGZmZmbmSI9A\",\"dtype\":\"float64\",\"shape\":[75]}},\"selected\":{\"id\":\"9e674936-ea42-41b4-b4c1-77b5f5e17018\",\"type\":\"Selection\"},\"selection_policy\":{\"id\":\"0de80b26-6045-4b39-a43c-d552b69d508a\",\"type\":\"UnionRenderers\"}},\"id\":\"658a1607-c293-405e-8ca2-dc795f1ddf80\",\"type\":\"ColumnDataSource\"},{\"attributes\":{\"source\":{\"id\":\"37d2a1d9-4568-4dbb-b359-2ee5c89f5100\",\"type\":\"ColumnDataSource\"}},\"id\":\"181983e4-102e-47f5-8111-ad059e1af51b\",\"type\":\"CDSView\"},{\"attributes\":{\"line_alpha\":0.1,\"line_color\":\"#1f77b4\",\"line_dash\":[6],\"line_width\":5,\"x\":{\"field\":\"x\"},\"y\":{\"field\":\"y\"}},\"id\":\"d85a83ca-9088-4ac2-be0d-cc7022545549\",\"type\":\"Line\"},{\"attributes\":{},\"id\":\"d90bb090-7add-42af-96e7-ae268cadff2e\",\"type\":\"WheelZoomTool\"},{\"attributes\":{\"data_source\":{\"id\":\"658a1607-c293-405e-8ca2-dc795f1ddf80\",\"type\":\"ColumnDataSource\"},\"glyph\":{\"id\":\"a68d0c47-c3e5-4875-9d5f-428ad76e7a70\",\"type\":\"Line\"},\"hover_glyph\":null,\"muted_glyph\":null,\"nonselection_glyph\":{\"id\":\"8bb01f25-90df-419c-bb0a-c9bf41ccae53\",\"type\":\"Line\"},\"selection_glyph\":null,\"view\":{\"id\":\"0e58f29c-3333-4c9f-9e27-a3df2a4398f3\",\"type\":\"CDSView\"}},\"id\":\"09fc6c03-a636-4eed-bf69-a8a649eb8c8e\",\"type\":\"GlyphRenderer\"},{\"attributes\":{\"data_source\":{\"id\":\"b6566e31-ce12-4095-bc9e-b3fc7a2750d3\",\"type\":\"ColumnDataSource\"},\"glyph\":{\"id\":\"886a87a3-1011-4297-a642-565274b8b7a1\",\"type\":\"Circle\"},\"hover_glyph\":null,\"muted_glyph\":null,\"nonselection_glyph\":{\"id\":\"80f38955-9dcf-4cb3-9fbb-ed47fbba345b\",\"type\":\"Circle\"},\"selection_glyph\":null,\"view\":{\"id\":\"eb281eec-7947-4def-ac41-e3cfaaffe27c\",\"type\":\"CDSView\"}},\"id\":\"1ee13b7a-f81a-4264-94ad-a52356ce3fcb\",\"type\":\"GlyphRenderer\"},{\"attributes\":{\"source\":{\"id\":\"b6566e31-ce12-4095-bc9e-b3fc7a2750d3\",\"type\":\"ColumnDataSource\"}},\"id\":\"eb281eec-7947-4def-ac41-e3cfaaffe27c\",\"type\":\"CDSView\"},{\"attributes\":{\"overlay\":{\"id\":\"e692558f-050a-46be-86e0-f8f767f6ac83\",\"type\":\"BoxAnnotation\"}},\"id\":\"46f33376-b4b3-4e21-90a7-536f58d64843\",\"type\":\"BoxZoomTool\"},{\"attributes\":{\"callback\":null,\"data\":{\"x\":{\"__ndarray__\":\"rBrqFsOVQECFVC8xKI48QKKQVGj6Wj5AUptm5ED1PkB35NzxPgc+QBPBnX78iTtAHhQNcUzZN0DMRG/x39EzQPgxEKV+gDBARntk1AJCLUBZsDuNK1EsQE+qe93X2SxAZM6wkFS3LUB1rqfz7zwtQDZY/FmBoSpA65BLiWlIJ0D7dGBC5XUkQA1OmIhB0SJAjAOBA2ujIkAq1kEVq7ojQBtcywacKSZAwspcSMyqJUBroqAgDCchQIVPb9y6YRlAgs66Bk1nE0BMOLoflbQPQKWKHdpUvgpAvoWyzDbQBUAYdP/0ziYCQFdgB1y0dP8/UZwBs0MK/T/JWLiNeNj4P0dDH5JCL/Q/J1ORKL8e8T+Zit+0JMXuP2bVNWkzW+w/2jySnTx95z8VO26//yjhP95zXnftz90/4jJq5vYs3T9us8TByafePw/9JkpZT94/eKe3HDrl3D8H3n4kc2HaPxFVp1et8NI/oCASCp8D0T/w+qXcbkLcP5vKU8aSv+M/M+wlcl+z6z8oVQ/lNyvyP051EkX+bvU/IOKgTJeT9z8AMAHLqnH4P3kL/5uNbvg/TrBNXOY8+D9PBq0Zt+73P4PQidpAffc/hpDbPaXk9j/yCJ8CqDL2P0xTv2Ncf/U/7sKESeC39D/gFi9EdejzP63qLAQHEfM/plbtUExH8j/qFc0FWZ/xP38i3hjMLPE/SogwRUsL8T+daOqEtk3xP/Aaxm3MpPE/9rr+iiDR8z/WwzcX9hnyP1yxc15Z9e4/hXQrVXjA6T8iOxIX1zPlPxawqH5hVt4/\",\"dtype\":\"float64\",\"shape\":[75]},\"y\":{\"__ndarray__\":\"GhExyth1ND/Sv8nbtpRIP2vylNV0PVE/aTum7souWD/At0SJ8fVgPw3Iuahxymc/MSNhhJWvcD/bTfBN02d3P2zb5nxnaoA/CD5h5MAGhz8NmeH1TyaQP+zrCsc9p5Y/LbKd76fGnz/bLW5ISEmmPww9YvTcQq8/JV2OstnstT8Er5Y7M8G+P0c+r3jqkcU/5h99k6ZBzj88bCIzFzjVP4enV8oyxN0//yH99nXg5D8qOpLLf0jtP5kqGJXUifQ/c9cS8kHP/D+/DpwzojQEQIEmwoanVwxA4lgXt9HgE0BSSZ2AJuIbQAMJih9jjiNA5q4l5INuK0AwTKYKRj0zQNv5fmq8/DpAaCJseHrtQkB/+zpwzoxKQM3MzMzMeFJAZmZmZmZqWEAAAAAAAFxeQM3MzMzMJmJAmpmZmZkfZUBmZmZmZhhoQDMzMzMzEWtAAAAAAAAKbkBmZmZmZoFwQM3MzMzM/XFAMzMzMzN6c0CamZmZmfZ0QAAAAAAAc3ZAZmZmZmbvd0DNzMzMzGt5QDMzMzMz6HpAmpmZmZlkfEAAAAAAAOF9QGZmZmZmXX9AZmZmZuZsgECamZmZGSuBQM3MzMxM6YFAAAAAAICngkAzMzMzs2WDQGZmZmbmI4RAmpmZmRnihEDNzMzMTKCFQAAAAACAXoZAMzMzM7Mch0BmZmZm5tqHQJqZmZkZmYhAzczMzExXiUAAAAAAgBWKQDMzMzOz04pAZmZmZuaRi0CamZmZGVCMQM3MzMxMDo1AAAAAAIDMjUAzMzMzs4qOQGZmZmbmSI9A\",\"dtype\":\"float64\",\"shape\":[75]}},\"selected\":{\"id\":\"2917fc60-f838-4c64-8723-879c3a8e3c72\",\"type\":\"Selection\"},\"selection_policy\":{\"id\":\"26348bbd-a427-47d1-98a2-005c15c0c25e\",\"type\":\"UnionRenderers\"}},\"id\":\"eb17f0bd-29da-4ede-b2dd-6f5e3a3b8750\",\"type\":\"ColumnDataSource\"},{\"attributes\":{},\"id\":\"d95dd54c-cc9c-4a6b-9e54-4fe6a84136af\",\"type\":\"SaveTool\"},{\"attributes\":{\"label\":{\"value\":\"CRD\"},\"renderers\":[{\"id\":\"1ee13b7a-f81a-4264-94ad-a52356ce3fcb\",\"type\":\"GlyphRenderer\"},{\"id\":\"09fc6c03-a636-4eed-bf69-a8a649eb8c8e\",\"type\":\"GlyphRenderer\"}]},\"id\":\"6ef2aec1-6188-4e44-b2b8-511169faac8e\",\"type\":\"LegendItem\"},{\"attributes\":{},\"id\":\"bb442540-8dad-4bdd-93e8-86fec7362c48\",\"type\":\"UnionRenderers\"},{\"attributes\":{},\"id\":\"8cef4f96-9fbf-4dd2-a589-7793c6e93088\",\"type\":\"PanTool\"},{\"attributes\":{},\"id\":\"7e6c80dc-9c10-428c-9026-f0db7788522d\",\"type\":\"BasicTicker\"},{\"attributes\":{\"above\":[{\"id\":\"8a39eca0-ddaf-43cf-b9d8-b775dcec8703\",\"type\":\"Legend\"}],\"below\":[{\"id\":\"b08fcd22-1dc1-429e-a5a1-e5aa9b2aabfb\",\"type\":\"LinearAxis\"}],\"left\":[{\"id\":\"9288650f-e1fb-4be1-9552-c3239c427c12\",\"type\":\"LogAxis\"}],\"plot_width\":300,\"renderers\":[{\"id\":\"b08fcd22-1dc1-429e-a5a1-e5aa9b2aabfb\",\"type\":\"LinearAxis\"},{\"id\":\"557bf655-f4e0-4dfa-9255-6d355f45e3e2\",\"type\":\"Grid\"},{\"id\":\"9288650f-e1fb-4be1-9552-c3239c427c12\",\"type\":\"LogAxis\"},{\"id\":\"82dc4aca-fb1a-4d28-9bda-b30ba18ee02f\",\"type\":\"Grid\"},{\"id\":\"e692558f-050a-46be-86e0-f8f767f6ac83\",\"type\":\"BoxAnnotation\"},{\"id\":\"17569090-d212-488f-acd3-0732c31d5582\",\"type\":\"GlyphRenderer\"},{\"id\":\"4967333d-ed83-4375-8afd-9b058b67fed7\",\"type\":\"GlyphRenderer\"},{\"id\":\"8a39eca0-ddaf-43cf-b9d8-b775dcec8703\",\"type\":\"Legend\"}],\"title\":{\"id\":\"e17a5d48-1b67-4012-b2b7-1be866476895\",\"type\":\"Title\"},\"toolbar\":{\"id\":\"a909638b-c528-4ddc-9dc0-5b71170e3dff\",\"type\":\"Toolbar\"},\"toolbar_location\":null,\"x_range\":{\"id\":\"da40e829-b248-47f4-ac64-0bc20241cde8\",\"type\":\"Range1d\"},\"x_scale\":{\"id\":\"48ac0108-ffc4-439d-860f-6b402ad62570\",\"type\":\"LinearScale\"},\"y_range\":{\"id\":\"7ecd4fb9-905e-4f8a-b0f8-67c1095cc788\",\"type\":\"Range1d\"},\"y_scale\":{\"id\":\"6d43c63b-49a1-4238-9e60-17ee1e624fde\",\"type\":\"LogScale\"}},\"id\":\"f286ea7e-a359-45cc-a483-d0062f38ab67\",\"subtype\":\"Figure\",\"type\":\"Plot\"},{\"attributes\":{\"items\":[{\"id\":\"10cbb81b-1e6b-4844-95f9-feff5081187f\",\"type\":\"LegendItem\"}],\"label_text_font_size\":{\"value\":\"8pt\"},\"location\":\"top_center\",\"orientation\":\"horizontal\",\"plot\":{\"id\":\"f286ea7e-a359-45cc-a483-d0062f38ab67\",\"subtype\":\"Figure\",\"type\":\"Plot\"}},\"id\":\"8a39eca0-ddaf-43cf-b9d8-b775dcec8703\",\"type\":\"Legend\"},{\"attributes\":{\"callback\":null,\"data\":{\"x\":{\"__ndarray__\":\"+DIYzSfeQ8ADSyc6JvYYwLTQYDfqpAPA+O9NsLUe8j+ndYjj8ZsLQAF2sowZ2g9AWJ7jTizLBkBzJnliSDrrP4ckTQqmmu2/yIn9Xbll+r/JDtlCfBv0vzBtL7R6y9S/S0z/YzCq4D9RXHsTOubuP0LadZl6Ae0/dkdbHzgO2T8gP4OVa97Qv6dKvimeXuW/b5f1lFZy5b89MnadIX3avxDzPaQG4cG/QZDrasUbsj8qxYtq7i7BP9oYbF5hAbq/0B2QLF9yzb8woeBAjRqhvzE6QhliW9E/2dtVmWDw0T9iy9OmZy68P3XlwRgMmKA/6OXDpjhDxD/NCvR1tBTNP0tccmf80MA/kR+5P9Bjd7/+eIVwnghnP3pZTI32QrM/tZBOmvsjqD8gW4ODHuaYv3qCLJpbsrO/EnzuYOkStr8oGm8gFrOyv9/c1pAIzay/ofPvAbSOpb8B/UhJYXeav6yCnM7sxpC/hpUy0XwXhr9Mn53DEuFBv0aNEOOb1HS/0eQ2hbZkm78yaLzNbqeqvxJj7zybiKq/qUS6gZ7Jor+WR8ckxmOjv355VJ2o16q/eLAPjvieqr89svGCvmulv0MouvGYyJ+/WZBD+ONzmL+7AAA18s+Tv6Kofz3cVoq/51drxdN7hL9dlz8bDACCvw8QIqqL84S/KORqulcTh7+htJlELhGFv6wZW7a8DHy/UHC3pGLcT7/+hXsOcK18Py2/jCKe/ok/RvRFJAX0xT+a4gwmR3/FP8ROYJHSucQ/f+cCHNykwz9+Ocqw96rCP8VuhrjFnsE/\",\"dtype\":\"float64\",\"shape\":[75]},\"y\":{\"__ndarray__\":\"GhExyth1ND/Sv8nbtpRIP2vylNV0PVE/aTum7souWD/At0SJ8fVgPw3Iuahxymc/MSNhhJWvcD/bTfBN02d3P2zb5nxnaoA/CD5h5MAGhz8NmeH1TyaQP+zrCsc9p5Y/LbKd76fGnz/bLW5ISEmmPww9YvTcQq8/JV2OstnstT8Er5Y7M8G+P0c+r3jqkcU/5h99k6ZBzj88bCIzFzjVP4enV8oyxN0//yH99nXg5D8qOpLLf0jtP5kqGJXUifQ/c9cS8kHP/D+/DpwzojQEQIEmwoanVwxA4lgXt9HgE0BSSZ2AJuIbQAMJih9jjiNA5q4l5INuK0AwTKYKRj0zQNv5fmq8/DpAaCJseHrtQkB/+zpwzoxKQM3MzMzMeFJAZmZmZmZqWEAAAAAAAFxeQM3MzMzMJmJAmpmZmZkfZUBmZmZmZhhoQDMzMzMzEWtAAAAAAAAKbkBmZmZmZoFwQM3MzMzM/XFAMzMzMzN6c0CamZmZmfZ0QAAAAAAAc3ZAZmZmZmbvd0DNzMzMzGt5QDMzMzMz6HpAmpmZmZlkfEAAAAAAAOF9QGZmZmZmXX9AZmZmZuZsgECamZmZGSuBQM3MzMxM6YFAAAAAAICngkAzMzMzs2WDQGZmZmbmI4RAmpmZmRnihEDNzMzMTKCFQAAAAACAXoZAMzMzM7Mch0BmZmZm5tqHQJqZmZkZmYhAzczMzExXiUAAAAAAgBWKQDMzMzOz04pAZmZmZuaRi0CamZmZGVCMQM3MzMxMDo1AAAAAAIDMjUAzMzMzs4qOQGZmZmbmSI9A\",\"dtype\":\"float64\",\"shape\":[75]}},\"selected\":{\"id\":\"0db7ba60-2e74-4686-83e1-5036186ba6e1\",\"type\":\"Selection\"},\"selection_policy\":{\"id\":\"8ab5cb90-9fc0-46e4-9994-d10116f40d9f\",\"type\":\"UnionRenderers\"}},\"id\":\"53336e72-b4ff-4a47-a6e7-aee5c9ef652c\",\"type\":\"ColumnDataSource\"},{\"attributes\":{\"plot\":{\"id\":\"24cace13-a1e3-4f5c-8eab-1bb702d2d601\",\"subtype\":\"Figure\",\"type\":\"Plot\"},\"ticker\":{\"id\":\"545e7675-3d08-4fa2-bde1-8735e648b3bb\",\"type\":\"BasicTicker\"}},\"id\":\"4aa2c027-5efd-4fd1-83bb-b3b7878322dc\",\"type\":\"Grid\"},{\"attributes\":{\"line_alpha\":0.6,\"line_color\":\"#377eb8\",\"line_dash\":[6],\"line_width\":5,\"x\":{\"field\":\"x\"},\"y\":{\"field\":\"y\"}},\"id\":\"fb616b49-f2cc-40f7-932b-424813634f5b\",\"type\":\"Line\"},{\"attributes\":{\"callback\":null,\"end\":0.9917582531953302,\"start\":-1.6759893714923295},\"id\":\"da40e829-b248-47f4-ac64-0bc20241cde8\",\"type\":\"Range1d\"},{\"attributes\":{\"line_alpha\":0.6,\"line_color\":\"#377eb8\",\"line_dash\":[6],\"line_width\":5,\"x\":{\"field\":\"x\"},\"y\":{\"field\":\"y\"}},\"id\":\"282fa9b5-364d-4e60-bca7-ca3c2f71c3b1\",\"type\":\"Line\"},{\"attributes\":{},\"id\":\"36d875e8-e54e-4cae-b39f-8caf68ae5726\",\"type\":\"HelpTool\"},{\"attributes\":{\"line_alpha\":0.1,\"line_color\":\"#1f77b4\",\"line_width\":1.5,\"x\":{\"field\":\"x\"},\"y\":{\"field\":\"y\"}},\"id\":\"8bb01f25-90df-419c-bb0a-c9bf41ccae53\",\"type\":\"Line\"},{\"attributes\":{\"active_drag\":\"auto\",\"active_inspect\":\"auto\",\"active_scroll\":\"auto\",\"active_tap\":\"auto\",\"tools\":[{\"id\":\"8cef4f96-9fbf-4dd2-a589-7793c6e93088\",\"type\":\"PanTool\"},{\"id\":\"d90bb090-7add-42af-96e7-ae268cadff2e\",\"type\":\"WheelZoomTool\"},{\"id\":\"46f33376-b4b3-4e21-90a7-536f58d64843\",\"type\":\"BoxZoomTool\"},{\"id\":\"d95dd54c-cc9c-4a6b-9e54-4fe6a84136af\",\"type\":\"SaveTool\"},{\"id\":\"35a22a43-4381-4ae2-8ad2-f4788bdd36dd\",\"type\":\"ResetTool\"},{\"id\":\"41608db7-75c8-4e2d-a3f9-01c42052b41f\",\"type\":\"HelpTool\"}]},\"id\":\"a909638b-c528-4ddc-9dc0-5b71170e3dff\",\"type\":\"Toolbar\"},{\"attributes\":{\"fill_alpha\":{\"value\":0.1},\"fill_color\":{\"value\":\"#1f77b4\"},\"line_alpha\":{\"value\":0.1},\"line_color\":{\"value\":\"#1f77b4\"},\"x\":{\"field\":\"x\"},\"y\":{\"field\":\"y\"}},\"id\":\"80f38955-9dcf-4cb3-9fbb-ed47fbba345b\",\"type\":\"Circle\"},{\"attributes\":{},\"id\":\"48ac0108-ffc4-439d-860f-6b402ad62570\",\"type\":\"LinearScale\"},{\"attributes\":{\"axis_label\":\"pressure [mb]\",\"formatter\":{\"id\":\"eeb63130-ebf3-4bf6-ae13-e66dd3ef4890\",\"type\":\"BasicTickFormatter\"},\"plot\":{\"id\":\"24cace13-a1e3-4f5c-8eab-1bb702d2d601\",\"subtype\":\"Figure\",\"type\":\"Plot\"},\"ticker\":{\"id\":\"7e6c80dc-9c10-428c-9026-f0db7788522d\",\"type\":\"BasicTicker\"}},\"id\":\"76a8e6f9-e4bc-40d1-b095-ada57be5162a\",\"type\":\"LinearAxis\"},{\"attributes\":{\"callback\":null,\"end\":0.01,\"start\":1020},\"id\":\"7ecd4fb9-905e-4f8a-b0f8-67c1095cc788\",\"type\":\"Range1d\"},{\"attributes\":{\"fill_alpha\":{\"value\":0.7},\"fill_color\":{\"value\":\"#4daf4a\"},\"line_alpha\":{\"value\":0.7},\"line_color\":{\"value\":\"#4daf4a\"},\"x\":{\"field\":\"x\"},\"y\":{\"field\":\"y\"}},\"id\":\"886a87a3-1011-4297-a642-565274b8b7a1\",\"type\":\"Circle\"},{\"attributes\":{\"bottom_units\":\"screen\",\"fill_alpha\":{\"value\":0.5},\"fill_color\":{\"value\":\"lightgrey\"},\"left_units\":\"screen\",\"level\":\"overlay\",\"line_alpha\":{\"value\":1.0},\"line_color\":{\"value\":\"black\"},\"line_dash\":[4,4],\"line_width\":{\"value\":2},\"plot\":null,\"render_mode\":\"css\",\"right_units\":\"screen\",\"top_units\":\"screen\"},\"id\":\"8c96077f-5c88-4ad1-acbb-0e9de924cc10\",\"type\":\"BoxAnnotation\"},{\"attributes\":{\"dimension\":1,\"plot\":{\"id\":\"24cace13-a1e3-4f5c-8eab-1bb702d2d601\",\"subtype\":\"Figure\",\"type\":\"Plot\"},\"ticker\":{\"id\":\"7e6c80dc-9c10-428c-9026-f0db7788522d\",\"type\":\"BasicTicker\"}},\"id\":\"2d70bc53-f0b6-4419-8314-ed79dff0577f\",\"type\":\"Grid\"},{\"attributes\":{\"fill_alpha\":{\"value\":0.1},\"fill_color\":{\"value\":\"#1f77b4\"},\"line_alpha\":{\"value\":0.1},\"line_color\":{\"value\":\"#1f77b4\"},\"x\":{\"field\":\"x\"},\"y\":{\"field\":\"y\"}},\"id\":\"407ad850-636e-4248-a339-39a2bf2dcc53\",\"type\":\"Circle\"},{\"attributes\":{},\"id\":\"51ff44b3-8435-49ed-8764-70e6f1d59ec2\",\"type\":\"Selection\"},{\"attributes\":{\"plot\":null,\"text\":\"\"},\"id\":\"e17a5d48-1b67-4012-b2b7-1be866476895\",\"type\":\"Title\"},{\"attributes\":{\"tools\":[{\"id\":\"fdc7cbf4-1138-4a4c-a0cc-e2e46ce5068d\",\"type\":\"PanTool\"},{\"id\":\"da6d1d6e-2c0a-46f0-916e-d4d042e4787c\",\"type\":\"WheelZoomTool\"},{\"id\":\"7d4eff20-9869-410d-8aa6-0e8ae4ea1b09\",\"type\":\"BoxZoomTool\"},{\"id\":\"67e7db32-3ad1-45a0-b591-5add7ad3f8ed\",\"type\":\"SaveTool\"},{\"id\":\"b3eb27fb-b9f0-4e8c-961b-c75543079804\",\"type\":\"ResetTool\"},{\"id\":\"e3f4d598-b7de-432e-aebd-b4986473db72\",\"type\":\"HelpTool\"},{\"id\":\"2abefdcf-4470-4c0d-8345-faec1dcfa9ca\",\"type\":\"PanTool\"},{\"id\":\"bb75819b-7427-472d-a563-533456691697\",\"type\":\"WheelZoomTool\"},{\"id\":\"ee798da5-dff2-4a81-a7dd-cb1fc3cd2c9d\",\"type\":\"BoxZoomTool\"},{\"id\":\"469f6393-3112-447d-a14f-650b2fb996ad\",\"type\":\"SaveTool\"},{\"id\":\"a58ed26c-40d7-4a92-9961-f8df696ac9a9\",\"type\":\"ResetTool\"},{\"id\":\"36d875e8-e54e-4cae-b39f-8caf68ae5726\",\"type\":\"HelpTool\"},{\"id\":\"8cef4f96-9fbf-4dd2-a589-7793c6e93088\",\"type\":\"PanTool\"},{\"id\":\"d90bb090-7add-42af-96e7-ae268cadff2e\",\"type\":\"WheelZoomTool\"},{\"id\":\"46f33376-b4b3-4e21-90a7-536f58d64843\",\"type\":\"BoxZoomTool\"},{\"id\":\"d95dd54c-cc9c-4a6b-9e54-4fe6a84136af\",\"type\":\"SaveTool\"},{\"id\":\"35a22a43-4381-4ae2-8ad2-f4788bdd36dd\",\"type\":\"ResetTool\"},{\"id\":\"41608db7-75c8-4e2d-a3f9-01c42052b41f\",\"type\":\"HelpTool\"}]},\"id\":\"51e9446a-a668-4d62-93c3-71506059c688\",\"type\":\"ProxyToolbar\"},{\"attributes\":{},\"id\":\"d991f8eb-5bde-4748-9d47-4355b85a3c60\",\"type\":\"LinearScale\"},{\"attributes\":{},\"id\":\"f4f6c7b4-5995-4506-9117-11d8011dbe55\",\"type\":\"Selection\"},{\"attributes\":{\"toolbar\":{\"id\":\"51e9446a-a668-4d62-93c3-71506059c688\",\"type\":\"ProxyToolbar\"},\"toolbar_location\":\"above\"},\"id\":\"8f2a2c20-b945-4da0-a146-04d26c6789db\",\"type\":\"ToolbarBox\"},{\"attributes\":{\"axis_label\":\"cooling rate [K/day]\",\"formatter\":{\"id\":\"f62a4c99-6117-47c2-9d6e-01452220077d\",\"type\":\"BasicTickFormatter\"},\"plot\":{\"id\":\"24cace13-a1e3-4f5c-8eab-1bb702d2d601\",\"subtype\":\"Figure\",\"type\":\"Plot\"},\"ticker\":{\"id\":\"545e7675-3d08-4fa2-bde1-8735e648b3bb\",\"type\":\"BasicTicker\"}},\"id\":\"3989bd40-55c5-4cfc-874f-511a3ef7e941\",\"type\":\"LinearAxis\"},{\"attributes\":{\"source\":{\"id\":\"eb17f0bd-29da-4ede-b2dd-6f5e3a3b8750\",\"type\":\"ColumnDataSource\"}},\"id\":\"0567c32f-b934-444e-a3bd-96c2b5bd138d\",\"type\":\"CDSView\"},{\"attributes\":{\"children\":[{\"id\":\"8f2a2c20-b945-4da0-a146-04d26c6789db\",\"type\":\"ToolbarBox\"},{\"id\":\"9227d89e-dfcd-4df4-9603-f5540d012599\",\"type\":\"Column\"}]},\"id\":\"1c11dba0-3473-46f0-84e9-e4786dbbb6f8\",\"type\":\"Column\"},{\"attributes\":{},\"id\":\"69b73e67-ce14-4c2f-a176-ccd22203a2f6\",\"type\":\"BasicTickFormatter\"},{\"attributes\":{},\"id\":\"1ba5b0a9-ab5c-442c-8d80-5b74f3abf9cc\",\"type\":\"LinearScale\"},{\"attributes\":{},\"id\":\"8ab5cb90-9fc0-46e4-9994-d10116f40d9f\",\"type\":\"UnionRenderers\"},{\"attributes\":{\"items\":[{\"id\":\"a80425a5-0b4b-443f-9548-cb3a7473bb38\",\"type\":\"LegendItem\"},{\"id\":\"ffaf0172-ba4a-4a11-ba93-3510872d1b0c\",\"type\":\"LegendItem\"}],\"label_text_font_size\":{\"value\":\"8pt\"},\"location\":\"top_center\",\"orientation\":\"horizontal\",\"plot\":{\"id\":\"24cace13-a1e3-4f5c-8eab-1bb702d2d601\",\"subtype\":\"Figure\",\"type\":\"Plot\"}},\"id\":\"bbbb2b58-43f6-4bde-b82f-11e341c4d915\",\"type\":\"Legend\"},{\"attributes\":{},\"id\":\"9682da3e-2973-474a-986d-2136ec537099\",\"type\":\"UnionRenderers\"},{\"attributes\":{},\"id\":\"e586ddf5-3ef3-49fe-8574-ccfaaabaa8ea\",\"type\":\"BasicTickFormatter\"},{\"attributes\":{},\"id\":\"4d790ed5-fa54-4b36-b6af-3fcb9f60474d\",\"type\":\"UnionRenderers\"},{\"attributes\":{\"data_source\":{\"id\":\"eb17f0bd-29da-4ede-b2dd-6f5e3a3b8750\",\"type\":\"ColumnDataSource\"},\"glyph\":{\"id\":\"fb616b49-f2cc-40f7-932b-424813634f5b\",\"type\":\"Line\"},\"hover_glyph\":null,\"muted_glyph\":null,\"nonselection_glyph\":{\"id\":\"d85a83ca-9088-4ac2-be0d-cc7022545549\",\"type\":\"Line\"},\"selection_glyph\":null,\"view\":{\"id\":\"0567c32f-b934-444e-a3bd-96c2b5bd138d\",\"type\":\"CDSView\"}},\"id\":\"90455dd3-8bf8-49aa-bd9a-8b0b96c8a59c\",\"type\":\"GlyphRenderer\"},{\"attributes\":{\"ticker\":null},\"id\":\"c9765fb1-f8ed-4a86-bf91-005568b49cc6\",\"type\":\"LogTickFormatter\"},{\"attributes\":{\"data_source\":{\"id\":\"91fd962d-3eef-47df-9555-9ce6fb021aa4\",\"type\":\"ColumnDataSource\"},\"glyph\":{\"id\":\"6e300b17-709d-4088-8302-d1c9c197a784\",\"type\":\"Circle\"},\"hover_glyph\":null,\"muted_glyph\":null,\"nonselection_glyph\":{\"id\":\"407ad850-636e-4248-a339-39a2bf2dcc53\",\"type\":\"Circle\"},\"selection_glyph\":null,\"view\":{\"id\":\"4d679fc9-1d1b-40a0-8edb-6684c203c69c\",\"type\":\"CDSView\"}},\"id\":\"4dab3e31-e13e-4145-b1cb-7921cce9a61c\",\"type\":\"GlyphRenderer\"},{\"attributes\":{},\"id\":\"0de80b26-6045-4b39-a43c-d552b69d508a\",\"type\":\"UnionRenderers\"},{\"attributes\":{\"callback\":null,\"end\":1.59255282378488,\"start\":0.2527103125071201},\"id\":\"098e1fc3-9d6e-470b-b3b6-fde56f9ba7b1\",\"type\":\"Range1d\"},{\"attributes\":{\"callback\":null,\"end\":0.01,\"start\":1020},\"id\":\"1a67f757-a00d-4db9-8ef7-5b4638e971b2\",\"type\":\"Range1d\"},{\"attributes\":{\"fill_alpha\":{\"value\":0.7},\"fill_color\":{\"value\":\"#4daf4a\"},\"line_alpha\":{\"value\":0.7},\"line_color\":{\"value\":\"#4daf4a\"},\"x\":{\"field\":\"x\"},\"y\":{\"field\":\"y\"}},\"id\":\"6e300b17-709d-4088-8302-d1c9c197a784\",\"type\":\"Circle\"},{\"attributes\":{\"plot\":null,\"text\":\"\"},\"id\":\"d1d786ea-c000-4098-b1b3-fdaa08d4a7b3\",\"type\":\"Title\"},{\"attributes\":{\"ticker\":null},\"id\":\"bdbd512f-f059-492e-9ca6-1a8125be98d2\",\"type\":\"LogTickFormatter\"},{\"attributes\":{},\"id\":\"0db7ba60-2e74-4686-83e1-5036186ba6e1\",\"type\":\"Selection\"},{\"attributes\":{},\"id\":\"9e674936-ea42-41b4-b4c1-77b5f5e17018\",\"type\":\"Selection\"},{\"attributes\":{\"active_drag\":\"auto\",\"active_inspect\":\"auto\",\"active_scroll\":\"auto\",\"active_tap\":\"auto\",\"tools\":[{\"id\":\"fdc7cbf4-1138-4a4c-a0cc-e2e46ce5068d\",\"type\":\"PanTool\"},{\"id\":\"da6d1d6e-2c0a-46f0-916e-d4d042e4787c\",\"type\":\"WheelZoomTool\"},{\"id\":\"7d4eff20-9869-410d-8aa6-0e8ae4ea1b09\",\"type\":\"BoxZoomTool\"},{\"id\":\"67e7db32-3ad1-45a0-b591-5add7ad3f8ed\",\"type\":\"SaveTool\"},{\"id\":\"b3eb27fb-b9f0-4e8c-961b-c75543079804\",\"type\":\"ResetTool\"},{\"id\":\"e3f4d598-b7de-432e-aebd-b4986473db72\",\"type\":\"HelpTool\"}]},\"id\":\"d5763c5c-3eef-45c4-9047-9fec7fe9c546\",\"type\":\"Toolbar\"},{\"attributes\":{\"callback\":null,\"data\":{\"x\":{\"__ndarray__\":\"0CYBcvU5UkCik9zf2GVBQF1VoNfLZ0BAVLxhiVXTPUDD1Wu1wJM6QFJyB025jjdAU6Aw5+b/NECYe1uuDfgyQB6bYtVTbTFAPxYSAF1HMEA00pYVm9QuQLolHbMzgC1AntlwirGsLECv+G9SjE4rQJH6ZLBp0ShAsLZQyPd/JkDyjgyf2PwkQLgyNGsrJyRAA13QbJD6I0C8hy0ilI4kQOVTXCEgcSZAovOGvZSGJUBVc/ZmUOIgQOf/6GHAyRlAcE8fAOBSFEDRur1U//gPQGFD9ZbokghAQsqHuSqSA0C91ci3W0UBQCtRQfvz7/4/kh8pntyB+j9t1/n+4TX1P773MAUjFfI/RgzR+CI28T8hBW8WHK7uPzVKjJfU8uk/0FPt4/z65T/wVYqzMPDhPz7K9C5CXuE/8+hSn9hY4T/9PPCkR6rhP1XsIC599OA/66X1nBCX3z/YbRM56QjcPz4dkSQc/dM/S7Wb8Fq00T+/yQdmX0vcP7TrGf476eM/WqNPJoWO7D9qOH1bcwDzP2bw+R5DQ/Y/RLSuQOQp+D8+aif8yAz5P0Wv6eBKRfk/0i2+IN4R+T/ik8QNFZr4PyS5UD5j/Pc/yJ68zXRG9z/2CHPL54H2P59SOhwKtPU/npkP8dfg9D8NlmVcdQz0P80ugRvuOvM/byxiAHN18j9USVZie8nxP5l9lNXYSPE/OB+F0UYP8T8Y7dsUCTHxP3EBgTHPcPE/bfx15p8S8T8FT+xkGtTuP6mdG7rkxuk/pboqTkHX5D/CrN8qGYngP7R4ZaL+htU/\",\"dtype\":\"float64\",\"shape\":[75]},\"y\":{\"__ndarray__\":\"GhExyth1ND/Sv8nbtpRIP2vylNV0PVE/aTum7souWD/At0SJ8fVgPw3Iuahxymc/MSNhhJWvcD/bTfBN02d3P2zb5nxnaoA/CD5h5MAGhz8NmeH1TyaQP+zrCsc9p5Y/LbKd76fGnz/bLW5ISEmmPww9YvTcQq8/JV2OstnstT8Er5Y7M8G+P0c+r3jqkcU/5h99k6ZBzj88bCIzFzjVP4enV8oyxN0//yH99nXg5D8qOpLLf0jtP5kqGJXUifQ/c9cS8kHP/D+/DpwzojQEQIEmwoanVwxA4lgXt9HgE0BSSZ2AJuIbQAMJih9jjiNA5q4l5INuK0AwTKYKRj0zQNv5fmq8/DpAaCJseHrtQkB/+zpwzoxKQM3MzMzMeFJAZmZmZmZqWEAAAAAAAFxeQM3MzMzMJmJAmpmZmZkfZUBmZmZmZhhoQDMzMzMzEWtAAAAAAAAKbkBmZmZmZoFwQM3MzMzM/XFAMzMzMzN6c0CamZmZmfZ0QAAAAAAAc3ZAZmZmZmbvd0DNzMzMzGt5QDMzMzMz6HpAmpmZmZlkfEAAAAAAAOF9QGZmZmZmXX9AZmZmZuZsgECamZmZGSuBQM3MzMxM6YFAAAAAAICngkAzMzMzs2WDQGZmZmbmI4RAmpmZmRnihEDNzMzMTKCFQAAAAACAXoZAMzMzM7Mch0BmZmZm5tqHQJqZmZkZmYhAzczMzExXiUAAAAAAgBWKQDMzMzOz04pAZmZmZuaRi0CamZmZGVCMQM3MzMxMDo1AAAAAAIDMjUAzMzMzs4qOQGZmZmbmSI9A\",\"dtype\":\"float64\",\"shape\":[75]}},\"selected\":{\"id\":\"2074068e-30d7-42a0-be2a-0f70b6a7a8b5\",\"type\":\"Selection\"},\"selection_policy\":{\"id\":\"bb6b4e9d-69c1-4212-9531-52b13bf33d32\",\"type\":\"UnionRenderers\"}},\"id\":\"91fd962d-3eef-47df-9555-9ce6fb021aa4\",\"type\":\"ColumnDataSource\"},{\"attributes\":{},\"id\":\"545e7675-3d08-4fa2-bde1-8735e648b3bb\",\"type\":\"BasicTicker\"},{\"attributes\":{},\"id\":\"8dcb8226-df16-498f-a70b-ea384efd0baa\",\"type\":\"BasicTicker\"},{\"attributes\":{\"axis_label\":\"cooling rate [K/day]\",\"formatter\":{\"id\":\"69b73e67-ce14-4c2f-a176-ccd22203a2f6\",\"type\":\"BasicTickFormatter\"},\"plot\":{\"id\":\"8e84e93f-043e-4462-ab39-21326adf8fbe\",\"subtype\":\"Figure\",\"type\":\"Plot\"},\"ticker\":{\"id\":\"8dcb8226-df16-498f-a70b-ea384efd0baa\",\"type\":\"BasicTicker\"}},\"id\":\"1b3ba91c-5f1e-439e-a79f-21518528a0fd\",\"type\":\"LinearAxis\"},{\"attributes\":{},\"id\":\"2f94f092-54a7-4819-98c4-6f6bace35889\",\"type\":\"LinearScale\"},{\"attributes\":{\"line_alpha\":0.1,\"line_color\":\"#1f77b4\",\"line_width\":1.5,\"x\":{\"field\":\"x\"},\"y\":{\"field\":\"y\"}},\"id\":\"63e145cb-8e7a-495c-98bd-88eb60a82979\",\"type\":\"Line\"},{\"attributes\":{},\"id\":\"f04fcc50-ed44-4c0f-9a10-7d16c72a65da\",\"type\":\"BasicTicker\"},{\"attributes\":{},\"id\":\"f8c4939e-40a9-460b-8b87-6046dc11cc9b\",\"type\":\"LogScale\"},{\"attributes\":{\"source\":{\"id\":\"5359ac6b-664a-47fb-a85a-4c5b8bbbb46b\",\"type\":\"ColumnDataSource\"}},\"id\":\"47366deb-b410-450d-9a22-7f65e58906d9\",\"type\":\"CDSView\"},{\"attributes\":{},\"id\":\"b3eb27fb-b9f0-4e8c-961b-c75543079804\",\"type\":\"ResetTool\"},{\"attributes\":{\"bottom_units\":\"screen\",\"fill_alpha\":{\"value\":0.5},\"fill_color\":{\"value\":\"lightgrey\"},\"left_units\":\"screen\",\"level\":\"overlay\",\"line_alpha\":{\"value\":1.0},\"line_color\":{\"value\":\"black\"},\"line_dash\":[4,4],\"line_width\":{\"value\":2},\"plot\":null,\"render_mode\":\"css\",\"right_units\":\"screen\",\"top_units\":\"screen\"},\"id\":\"b7da1954-4703-4887-ab13-b85f70185551\",\"type\":\"BoxAnnotation\"},{\"attributes\":{\"callback\":null,\"end\":16.436991755685575,\"start\":0.29764047834442},\"id\":\"25c532b1-f704-41ed-9a02-b37940f357e2\",\"type\":\"Range1d\"},{\"attributes\":{},\"id\":\"6d43c63b-49a1-4238-9e60-17ee1e624fde\",\"type\":\"LogScale\"},{\"attributes\":{\"line_alpha\":0.1,\"line_color\":\"#1f77b4\",\"line_dash\":[6],\"line_width\":5,\"x\":{\"field\":\"x\"},\"y\":{\"field\":\"y\"}},\"id\":\"6d2f33b3-c207-463b-b3e8-a2eacf30f515\",\"type\":\"Line\"},{\"attributes\":{\"line_color\":\"#4daf4a\",\"line_width\":1.5,\"x\":{\"field\":\"x\"},\"y\":{\"field\":\"y\"}},\"id\":\"77ed9b7a-ce55-4f7e-a906-2cfcac923850\",\"type\":\"Line\"},{\"attributes\":{\"plot\":{\"id\":\"8e84e93f-043e-4462-ab39-21326adf8fbe\",\"subtype\":\"Figure\",\"type\":\"Plot\"},\"ticker\":{\"id\":\"8dcb8226-df16-498f-a70b-ea384efd0baa\",\"type\":\"BasicTicker\"}},\"id\":\"8c358dc9-3171-493b-a82b-b259ee66cd7c\",\"type\":\"Grid\"},{\"attributes\":{\"label\":{\"value\":\"CRD\"},\"renderers\":[{\"id\":\"4dab3e31-e13e-4145-b1cb-7921cce9a61c\",\"type\":\"GlyphRenderer\"},{\"id\":\"dab95894-57d8-4e35-ac59-50abba9747d5\",\"type\":\"GlyphRenderer\"}]},\"id\":\"ffaf0172-ba4a-4a11-ba93-3510872d1b0c\",\"type\":\"LegendItem\"},{\"attributes\":{\"above\":[{\"id\":\"f194aa56-b990-4040-85b8-0fbf243c6968\",\"type\":\"Legend\"}],\"below\":[{\"id\":\"1b3ba91c-5f1e-439e-a79f-21518528a0fd\",\"type\":\"LinearAxis\"}],\"left\":[{\"id\":\"ea4063f7-f044-4ae1-8606-04f6c2b892ac\",\"type\":\"LogAxis\"}],\"plot_width\":300,\"renderers\":[{\"id\":\"1b3ba91c-5f1e-439e-a79f-21518528a0fd\",\"type\":\"LinearAxis\"},{\"id\":\"8c358dc9-3171-493b-a82b-b259ee66cd7c\",\"type\":\"Grid\"},{\"id\":\"ea4063f7-f044-4ae1-8606-04f6c2b892ac\",\"type\":\"LogAxis\"},{\"id\":\"cc25a4f8-fb2f-4fca-a3f1-da89857d0ef1\",\"type\":\"Grid\"},{\"id\":\"8c96077f-5c88-4ad1-acbb-0e9de924cc10\",\"type\":\"BoxAnnotation\"},{\"id\":\"45b1ae4a-1d2c-41bc-92fb-5d94dd5682c0\",\"type\":\"GlyphRenderer\"},{\"id\":\"1ee13b7a-f81a-4264-94ad-a52356ce3fcb\",\"type\":\"GlyphRenderer\"},{\"id\":\"09fc6c03-a636-4eed-bf69-a8a649eb8c8e\",\"type\":\"GlyphRenderer\"},{\"id\":\"f194aa56-b990-4040-85b8-0fbf243c6968\",\"type\":\"Legend\"}],\"title\":{\"id\":\"d1d786ea-c000-4098-b1b3-fdaa08d4a7b3\",\"type\":\"Title\"},\"toolbar\":{\"id\":\"2ad6347d-be4e-48de-a96a-f054fe0ff1e4\",\"type\":\"Toolbar\"},\"toolbar_location\":null,\"x_range\":{\"id\":\"25c532b1-f704-41ed-9a02-b37940f357e2\",\"type\":\"Range1d\"},\"x_scale\":{\"id\":\"2f94f092-54a7-4819-98c4-6f6bace35889\",\"type\":\"LinearScale\"},\"y_range\":{\"id\":\"8b978200-436a-4d40-b5b2-6a4e234607ce\",\"type\":\"Range1d\"},\"y_scale\":{\"id\":\"f8c4939e-40a9-460b-8b87-6046dc11cc9b\",\"type\":\"LogScale\"}},\"id\":\"8e84e93f-043e-4462-ab39-21326adf8fbe\",\"subtype\":\"Figure\",\"type\":\"Plot\"},{\"attributes\":{\"label\":{\"value\":\"CLIRAD (single-run)\"},\"renderers\":[{\"id\":\"90455dd3-8bf8-49aa-bd9a-8b0b96c8a59c\",\"type\":\"GlyphRenderer\"}]},\"id\":\"a80425a5-0b4b-443f-9548-cb3a7473bb38\",\"type\":\"LegendItem\"},{\"attributes\":{\"source\":{\"id\":\"658a1607-c293-405e-8ca2-dc795f1ddf80\",\"type\":\"ColumnDataSource\"}},\"id\":\"0e58f29c-3333-4c9f-9e27-a3df2a4398f3\",\"type\":\"CDSView\"},{\"attributes\":{\"source\":{\"id\":\"91fd962d-3eef-47df-9555-9ce6fb021aa4\",\"type\":\"ColumnDataSource\"}},\"id\":\"4d679fc9-1d1b-40a0-8edb-6684c203c69c\",\"type\":\"CDSView\"},{\"attributes\":{\"axis_label\":\"pressure [mb]\",\"formatter\":{\"id\":\"bdbd512f-f059-492e-9ca6-1a8125be98d2\",\"type\":\"LogTickFormatter\"},\"plot\":{\"id\":\"8e84e93f-043e-4462-ab39-21326adf8fbe\",\"subtype\":\"Figure\",\"type\":\"Plot\"},\"ticker\":{\"id\":\"6b995be9-eb47-4652-afd4-424e05be07f2\",\"type\":\"LogTicker\"}},\"id\":\"ea4063f7-f044-4ae1-8606-04f6c2b892ac\",\"type\":\"LogAxis\"},{\"attributes\":{\"active_drag\":\"auto\",\"active_inspect\":\"auto\",\"active_scroll\":\"auto\",\"active_tap\":\"auto\",\"tools\":[{\"id\":\"2abefdcf-4470-4c0d-8345-faec1dcfa9ca\",\"type\":\"PanTool\"},{\"id\":\"bb75819b-7427-472d-a563-533456691697\",\"type\":\"WheelZoomTool\"},{\"id\":\"ee798da5-dff2-4a81-a7dd-cb1fc3cd2c9d\",\"type\":\"BoxZoomTool\"},{\"id\":\"469f6393-3112-447d-a14f-650b2fb996ad\",\"type\":\"SaveTool\"},{\"id\":\"a58ed26c-40d7-4a92-9961-f8df696ac9a9\",\"type\":\"ResetTool\"},{\"id\":\"36d875e8-e54e-4cae-b39f-8caf68ae5726\",\"type\":\"HelpTool\"}]},\"id\":\"2ad6347d-be4e-48de-a96a-f054fe0ff1e4\",\"type\":\"Toolbar\"},{\"attributes\":{},\"id\":\"67e7db32-3ad1-45a0-b591-5add7ad3f8ed\",\"type\":\"SaveTool\"},{\"attributes\":{\"callback\":null,\"data\":{\"x\":{\"__ndarray__\":\"rBrqFsOVQECFVC8xKI48QKKQVGj6Wj5AUptm5ED1PkB35NzxPgc+QBPBnX78iTtAHhQNcUzZN0DMRG/x39EzQPgxEKV+gDBARntk1AJCLUBZsDuNK1EsQE+qe93X2SxAZM6wkFS3LUB1rqfz7zwtQDZY/FmBoSpA65BLiWlIJ0D7dGBC5XUkQA1OmIhB0SJAjAOBA2ujIkAq1kEVq7ojQBtcywacKSZAwspcSMyqJUBroqAgDCchQIVPb9y6YRlAgs66Bk1nE0BMOLoflbQPQKWKHdpUvgpAvoWyzDbQBUAYdP/0ziYCQFdgB1y0dP8/UZwBs0MK/T/JWLiNeNj4P0dDH5JCL/Q/J1ORKL8e8T+Zit+0JMXuP2bVNWkzW+w/2jySnTx95z8VO26//yjhP95zXnftz90/4jJq5vYs3T9us8TByafePw/9JkpZT94/eKe3HDrl3D8H3n4kc2HaPxFVp1et8NI/oCASCp8D0T/w+qXcbkLcP5vKU8aSv+M/M+wlcl+z6z8oVQ/lNyvyP051EkX+bvU/IOKgTJeT9z8AMAHLqnH4P3kL/5uNbvg/TrBNXOY8+D9PBq0Zt+73P4PQidpAffc/hpDbPaXk9j/yCJ8CqDL2P0xTv2Ncf/U/7sKESeC39D/gFi9EdejzP63qLAQHEfM/plbtUExH8j/qFc0FWZ/xP38i3hjMLPE/SogwRUsL8T+daOqEtk3xP/Aaxm3MpPE/9rr+iiDR8z/WwzcX9hnyP1yxc15Z9e4/hXQrVXjA6T8iOxIX1zPlPxawqH5hVt4/\",\"dtype\":\"float64\",\"shape\":[75]},\"y\":{\"__ndarray__\":\"GhExyth1ND/Sv8nbtpRIP2vylNV0PVE/aTum7souWD/At0SJ8fVgPw3Iuahxymc/MSNhhJWvcD/bTfBN02d3P2zb5nxnaoA/CD5h5MAGhz8NmeH1TyaQP+zrCsc9p5Y/LbKd76fGnz/bLW5ISEmmPww9YvTcQq8/JV2OstnstT8Er5Y7M8G+P0c+r3jqkcU/5h99k6ZBzj88bCIzFzjVP4enV8oyxN0//yH99nXg5D8qOpLLf0jtP5kqGJXUifQ/c9cS8kHP/D+/DpwzojQEQIEmwoanVwxA4lgXt9HgE0BSSZ2AJuIbQAMJih9jjiNA5q4l5INuK0AwTKYKRj0zQNv5fmq8/DpAaCJseHrtQkB/+zpwzoxKQM3MzMzMeFJAZmZmZmZqWEAAAAAAAFxeQM3MzMzMJmJAmpmZmZkfZUBmZmZmZhhoQDMzMzMzEWtAAAAAAAAKbkBmZmZmZoFwQM3MzMzM/XFAMzMzMzN6c0CamZmZmfZ0QAAAAAAAc3ZAZmZmZmbvd0DNzMzMzGt5QDMzMzMz6HpAmpmZmZlkfEAAAAAAAOF9QGZmZmZmXX9AZmZmZuZsgECamZmZGSuBQM3MzMxM6YFAAAAAAICngkAzMzMzs2WDQGZmZmbmI4RAmpmZmRnihEDNzMzMTKCFQAAAAACAXoZAMzMzM7Mch0BmZmZm5tqHQJqZmZkZmYhAzczMzExXiUAAAAAAgBWKQDMzMzOz04pAZmZmZuaRi0CamZmZGVCMQM3MzMxMDo1AAAAAAIDMjUAzMzMzs4qOQGZmZmbmSI9A\",\"dtype\":\"float64\",\"shape\":[75]}},\"selected\":{\"id\":\"0aa5ae80-036e-41c1-899a-a52debeddd04\",\"type\":\"Selection\"},\"selection_policy\":{\"id\":\"bb442540-8dad-4bdd-93e8-86fec7362c48\",\"type\":\"UnionRenderers\"}},\"id\":\"37d2a1d9-4568-4dbb-b359-2ee5c89f5100\",\"type\":\"ColumnDataSource\"},{\"attributes\":{\"axis_label\":\"cooling rate [K/day]\",\"formatter\":{\"id\":\"e586ddf5-3ef3-49fe-8574-ccfaaabaa8ea\",\"type\":\"BasicTickFormatter\"},\"plot\":{\"id\":\"f286ea7e-a359-45cc-a483-d0062f38ab67\",\"subtype\":\"Figure\",\"type\":\"Plot\"},\"ticker\":{\"id\":\"f04fcc50-ed44-4c0f-9a10-7d16c72a65da\",\"type\":\"BasicTicker\"}},\"id\":\"b08fcd22-1dc1-429e-a5a1-e5aa9b2aabfb\",\"type\":\"LinearAxis\"},{\"attributes\":{},\"id\":\"e3f4d598-b7de-432e-aebd-b4986473db72\",\"type\":\"HelpTool\"},{\"attributes\":{\"data_source\":{\"id\":\"5359ac6b-664a-47fb-a85a-4c5b8bbbb46b\",\"type\":\"ColumnDataSource\"},\"glyph\":{\"id\":\"77ed9b7a-ce55-4f7e-a906-2cfcac923850\",\"type\":\"Line\"},\"hover_glyph\":null,\"muted_glyph\":null,\"nonselection_glyph\":{\"id\":\"63e145cb-8e7a-495c-98bd-88eb60a82979\",\"type\":\"Line\"},\"selection_glyph\":null,\"view\":{\"id\":\"47366deb-b410-450d-9a22-7f65e58906d9\",\"type\":\"CDSView\"}},\"id\":\"dab95894-57d8-4e35-ac59-50abba9747d5\",\"type\":\"GlyphRenderer\"},{\"attributes\":{\"callback\":null,\"data\":{\"x\":{\"__ndarray__\":\"0CYBcvU5UkCik9zf2GVBQF1VoNfLZ0BAVLxhiVXTPUDD1Wu1wJM6QFJyB025jjdAU6Aw5+b/NECYe1uuDfgyQB6bYtVTbTFAPxYSAF1HMEA00pYVm9QuQLolHbMzgC1AntlwirGsLECv+G9SjE4rQJH6ZLBp0ShAsLZQyPd/JkDyjgyf2PwkQLgyNGsrJyRAA13QbJD6I0C8hy0ilI4kQOVTXCEgcSZAovOGvZSGJUBVc/ZmUOIgQOf/6GHAyRlAcE8fAOBSFEDRur1U//gPQGFD9ZbokghAQsqHuSqSA0C91ci3W0UBQCtRQfvz7/4/kh8pntyB+j9t1/n+4TX1P773MAUjFfI/RgzR+CI28T8hBW8WHK7uPzVKjJfU8uk/0FPt4/z65T/wVYqzMPDhPz7K9C5CXuE/8+hSn9hY4T/9PPCkR6rhP1XsIC599OA/66X1nBCX3z/YbRM56QjcPz4dkSQc/dM/S7Wb8Fq00T+/yQdmX0vcP7TrGf476eM/WqNPJoWO7D9qOH1bcwDzP2bw+R5DQ/Y/RLSuQOQp+D8+aif8yAz5P0Wv6eBKRfk/0i2+IN4R+T/ik8QNFZr4PyS5UD5j/Pc/yJ68zXRG9z/2CHPL54H2P59SOhwKtPU/npkP8dfg9D8NlmVcdQz0P80ugRvuOvM/byxiAHN18j9USVZie8nxP5l9lNXYSPE/OB+F0UYP8T8Y7dsUCTHxP3EBgTHPcPE/bfx15p8S8T8FT+xkGtTuP6mdG7rkxuk/pboqTkHX5D/CrN8qGYngP7R4ZaL+htU/\",\"dtype\":\"float64\",\"shape\":[75]},\"y\":{\"__ndarray__\":\"GhExyth1ND/Sv8nbtpRIP2vylNV0PVE/aTum7souWD/At0SJ8fVgPw3Iuahxymc/MSNhhJWvcD/bTfBN02d3P2zb5nxnaoA/CD5h5MAGhz8NmeH1TyaQP+zrCsc9p5Y/LbKd76fGnz/bLW5ISEmmPww9YvTcQq8/JV2OstnstT8Er5Y7M8G+P0c+r3jqkcU/5h99k6ZBzj88bCIzFzjVP4enV8oyxN0//yH99nXg5D8qOpLLf0jtP5kqGJXUifQ/c9cS8kHP/D+/DpwzojQEQIEmwoanVwxA4lgXt9HgE0BSSZ2AJuIbQAMJih9jjiNA5q4l5INuK0AwTKYKRj0zQNv5fmq8/DpAaCJseHrtQkB/+zpwzoxKQM3MzMzMeFJAZmZmZmZqWEAAAAAAAFxeQM3MzMzMJmJAmpmZmZkfZUBmZmZmZhhoQDMzMzMzEWtAAAAAAAAKbkBmZmZmZoFwQM3MzMzM/XFAMzMzMzN6c0CamZmZmfZ0QAAAAAAAc3ZAZmZmZmbvd0DNzMzMzGt5QDMzMzMz6HpAmpmZmZlkfEAAAAAAAOF9QGZmZmZmXX9AZmZmZuZsgECamZmZGSuBQM3MzMxM6YFAAAAAAICngkAzMzMzs2WDQGZmZmbmI4RAmpmZmRnihEDNzMzMTKCFQAAAAACAXoZAMzMzM7Mch0BmZmZm5tqHQJqZmZkZmYhAzczMzExXiUAAAAAAgBWKQDMzMzOz04pAZmZmZuaRi0CamZmZGVCMQM3MzMxMDo1AAAAAAIDMjUAzMzMzs4qOQGZmZmbmSI9A\",\"dtype\":\"float64\",\"shape\":[75]}},\"selected\":{\"id\":\"897fe752-e90f-40dd-a98b-f76228d5f20b\",\"type\":\"Selection\"},\"selection_policy\":{\"id\":\"3e3dc1ec-9a16-4e47-97e8-b0a21451079b\",\"type\":\"UnionRenderers\"}},\"id\":\"5359ac6b-664a-47fb-a85a-4c5b8bbbb46b\",\"type\":\"ColumnDataSource\"},{\"attributes\":{\"callback\":null,\"end\":0.01,\"start\":1020},\"id\":\"8b978200-436a-4d40-b5b2-6a4e234607ce\",\"type\":\"Range1d\"}],\"root_ids\":[\"1c11dba0-3473-46f0-84e9-e4786dbbb6f8\"]},\"title\":\"Bokeh Application\",\"version\":\"0.12.16\"}};\n",
       "  var render_items = [{\"docid\":\"d65338d8-63e9-4dcf-aa90-8d128d2f5664\",\"elementid\":\"dbd91788-9e68-41f1-87c5-9daf24c9bdf9\",\"modelid\":\"1c11dba0-3473-46f0-84e9-e4786dbbb6f8\"}];\n",
       "  root.Bokeh.embed.embed_items_notebook(docs_json, render_items);\n",
       "\n",
       "  }\n",
       "  if (root.Bokeh !== undefined) {\n",
       "    embed_document(root);\n",
       "  } else {\n",
       "    var attempts = 0;\n",
       "    var timer = setInterval(function(root) {\n",
       "      if (root.Bokeh !== undefined) {\n",
       "        embed_document(root);\n",
       "        clearInterval(timer);\n",
       "      }\n",
       "      attempts++;\n",
       "      if (attempts > 100) {\n",
       "        console.log(\"Bokeh: ERROR: Unable to run BokehJS code because BokehJS library is missing\")\n",
       "        clearInterval(timer);\n",
       "      }\n",
       "    }, 10, root)\n",
       "  }\n",
       "})(window);"
      ],
      "application/vnd.bokehjs_exec.v0+json": ""
     },
     "metadata": {
      "application/vnd.bokehjs_exec.v0+json": {
       "id": "1c11dba0-3473-46f0-84e9-e4786dbbb6f8"
      }
     },
     "output_type": "display_data"
    },
    {
     "data": {
      "text/markdown": [
       "*FIGURE.* Cooling rates & difference."
      ],
      "text/plain": [
       "<IPython.core.display.Markdown object>"
      ]
     },
     "metadata": {},
     "output_type": "display_data"
    },
    {
     "data": {
      "text/html": [
       "<a id=\"Fluxes._saw.\"></a>"
      ],
      "text/plain": [
       "<IPython.core.display.HTML object>"
      ]
     },
     "metadata": {},
     "output_type": "display_data"
    },
    {
     "data": {
      "text/markdown": [
       "# Fluxes. saw."
      ],
      "text/plain": [
       "<IPython.core.display.Markdown object>"
      ]
     },
     "metadata": {},
     "output_type": "display_data"
    },
    {
     "data": {
      "text/html": [
       "\n",
       "<div class=\"bk-root\">\n",
       "    <div class=\"bk-plotdiv\" id=\"f9c917fb-a8ff-4780-9a04-9ec4c167d05e\"></div>\n",
       "</div>"
      ]
     },
     "metadata": {},
     "output_type": "display_data"
    },
    {
     "data": {
      "application/javascript": [
       "(function(root) {\n",
       "  function embed_document(root) {\n",
       "    \n",
       "  var docs_json = {\"b2a80b49-fdaf-4c68-9e1b-3758d0ebd787\":{\"roots\":{\"references\":[{\"attributes\":{},\"id\":\"cdb0d103-5063-4c42-8f30-d9829031e5ea\",\"type\":\"SaveTool\"},{\"attributes\":{\"callback\":null},\"id\":\"c72514dc-2bc8-436b-a0a6-a8857f25a117\",\"type\":\"DataRange1d\"},{\"attributes\":{\"toolbar\":{\"id\":\"08ca77ad-a1e9-4e30-b035-575c13f4df41\",\"type\":\"ProxyToolbar\"},\"toolbar_location\":\"above\"},\"id\":\"0089e067-9d2d-44ee-a046-dd72340a8cf1\",\"type\":\"ToolbarBox\"},{\"attributes\":{\"callback\":null},\"id\":\"fc14b684-b79e-4251-8f8d-2143e4ab16d0\",\"type\":\"DataRange1d\"},{\"attributes\":{\"source\":{\"id\":\"c58bcc31-a187-40a9-90c4-9c0446966f8d\",\"type\":\"ColumnDataSource\"}},\"id\":\"78b39753-9723-4cb1-9a17-51eb52a85d38\",\"type\":\"CDSView\"},{\"attributes\":{},\"id\":\"b50560de-a679-461a-ad3e-29985978df12\",\"type\":\"Selection\"},{\"attributes\":{},\"id\":\"63ef66a4-900f-443c-9dd9-d15a99724ca1\",\"type\":\"Selection\"},{\"attributes\":{\"plot\":{\"id\":\"6238de94-30d8-4c11-a727-a16e4f0fcac4\",\"subtype\":\"Figure\",\"type\":\"Plot\"},\"ticker\":{\"id\":\"9429f8c3-70bf-490c-9410-6fe61ad6fa16\",\"type\":\"CategoricalTicker\"}},\"id\":\"4fd1a037-1c08-4709-8f5a-f3f6337c1866\",\"type\":\"Grid\"},{\"attributes\":{\"plot\":null,\"text\":\"Atmosphere heating. CLIRAD (single-run) - CRD.\"},\"id\":\"6eb757c9-0abf-4c64-8cc8-be85f3b829f5\",\"type\":\"Title\"},{\"attributes\":{\"callback\":null,\"factors\":[\"1\",\"2\",\"3\",\"4\",\"5\",\"6\",\"7\",\"8\",\"9\",\"10\",\"11\"]},\"id\":\"2fedb492-1a6c-428e-9428-58018c49b849\",\"type\":\"FactorRange\"},{\"attributes\":{\"data_source\":{\"id\":\"26f3b832-7eaa-4117-85ac-8b99ed49dd7e\",\"type\":\"ColumnDataSource\"},\"glyph\":{\"id\":\"80d0f55c-f748-437e-bf83-a5a8b4fa21a0\",\"type\":\"VBar\"},\"hover_glyph\":null,\"muted_glyph\":null,\"nonselection_glyph\":{\"id\":\"a7826a08-a084-423f-9d57-eedee90ddc9e\",\"type\":\"VBar\"},\"selection_glyph\":null,\"view\":{\"id\":\"ba2b7a6d-1c6c-4126-9ebd-535ab1874e8b\",\"type\":\"CDSView\"}},\"id\":\"d897c0cb-21a2-4974-ba00-90b9e664e082\",\"type\":\"GlyphRenderer\"},{\"attributes\":{\"children\":[{\"id\":\"6238de94-30d8-4c11-a727-a16e4f0fcac4\",\"subtype\":\"Figure\",\"type\":\"Plot\"},{\"id\":\"defa1e7d-8fa2-44d4-a999-1f544c7cdd81\",\"subtype\":\"Figure\",\"type\":\"Plot\"},{\"id\":\"04cb5e52-075b-4f9d-9fdb-a9e2fad1cc20\",\"subtype\":\"Figure\",\"type\":\"Plot\"}]},\"id\":\"e8953d0b-0791-49fb-98ca-53adc8051cbc\",\"type\":\"Row\"},{\"attributes\":{\"active_drag\":\"auto\",\"active_inspect\":\"auto\",\"active_scroll\":\"auto\",\"active_tap\":\"auto\",\"tools\":[{\"id\":\"c26658df-45bc-42db-ac2f-f461d1efe0e0\",\"type\":\"PanTool\"},{\"id\":\"8e3932ae-a606-4da9-b764-5fe5b0fca140\",\"type\":\"WheelZoomTool\"},{\"id\":\"1360fd89-0e6a-48e7-8c34-8c6031ed4dfe\",\"type\":\"BoxZoomTool\"},{\"id\":\"164a1f5a-2ac4-44cd-8346-fde072339c37\",\"type\":\"SaveTool\"},{\"id\":\"b4cc51c8-13a1-4650-a72e-5c6431f7ad1b\",\"type\":\"ResetTool\"},{\"id\":\"f34cbf35-b038-48dd-9a45-e1132d81ed3a\",\"type\":\"HelpTool\"}]},\"id\":\"6faa64cf-1fd6-4c34-a2d4-357a977e3597\",\"type\":\"Toolbar\"},{\"attributes\":{\"data_source\":{\"id\":\"c58bcc31-a187-40a9-90c4-9c0446966f8d\",\"type\":\"ColumnDataSource\"},\"glyph\":{\"id\":\"c6dc75c5-f609-4b0b-95ff-08a68d3d540f\",\"type\":\"VBar\"},\"hover_glyph\":null,\"muted_glyph\":null,\"nonselection_glyph\":{\"id\":\"6793cf1a-1d52-491f-997c-c06ecc0d399f\",\"type\":\"VBar\"},\"selection_glyph\":null,\"view\":{\"id\":\"78b39753-9723-4cb1-9a17-51eb52a85d38\",\"type\":\"CDSView\"}},\"id\":\"8851b43b-9383-40dd-980f-8141533ff4c3\",\"type\":\"GlyphRenderer\"},{\"attributes\":{\"plot\":{\"id\":\"04cb5e52-075b-4f9d-9fdb-a9e2fad1cc20\",\"subtype\":\"Figure\",\"type\":\"Plot\"},\"ticker\":{\"id\":\"90a6dfbd-fb67-4f64-a86a-c42c590d7d89\",\"type\":\"CategoricalTicker\"}},\"id\":\"db6128b9-24e6-4e4e-bb8f-7b37c18a319c\",\"type\":\"Grid\"},{\"attributes\":{\"axis_label\":\"flux (W m-2)\",\"formatter\":{\"id\":\"b40814e2-75c6-4e5e-8e4b-0c9c31bff323\",\"type\":\"BasicTickFormatter\"},\"plot\":{\"id\":\"04cb5e52-075b-4f9d-9fdb-a9e2fad1cc20\",\"subtype\":\"Figure\",\"type\":\"Plot\"},\"ticker\":{\"id\":\"0a9b45ed-dbe9-408e-9ef5-882b751334f7\",\"type\":\"BasicTicker\"}},\"id\":\"97611892-50e1-48af-9fad-f4110ca8aa73\",\"type\":\"LinearAxis\"},{\"attributes\":{},\"id\":\"7f6ad883-8708-4969-adfe-1e5c61002607\",\"type\":\"UnionRenderers\"},{\"attributes\":{\"children\":[{\"id\":\"e8953d0b-0791-49fb-98ca-53adc8051cbc\",\"type\":\"Row\"}]},\"id\":\"02c4d486-dfe7-48b0-a8e9-83b22dcf90b2\",\"type\":\"Column\"},{\"attributes\":{},\"id\":\"2b3a7bc6-aabc-44ea-ba97-e6ca249bb591\",\"type\":\"HelpTool\"},{\"attributes\":{\"axis_label\":\"flux (W m-2)\",\"formatter\":{\"id\":\"189fe064-ae31-4748-aacc-2653d620ab68\",\"type\":\"BasicTickFormatter\"},\"plot\":{\"id\":\"6238de94-30d8-4c11-a727-a16e4f0fcac4\",\"subtype\":\"Figure\",\"type\":\"Plot\"},\"ticker\":{\"id\":\"0338ae2e-3cdc-4ae7-869d-7a092089043d\",\"type\":\"BasicTicker\"}},\"id\":\"0f18de68-0f28-4dd7-acc2-c594e12ef7fc\",\"type\":\"LinearAxis\"},{\"attributes\":{\"tools\":[{\"id\":\"df6aa1fe-ae1e-4cff-8d21-4fdacbc9e32a\",\"type\":\"PanTool\"},{\"id\":\"de7447bb-8a1e-4ebd-b1c6-ab145b19435a\",\"type\":\"WheelZoomTool\"},{\"id\":\"3c55bb10-485f-4de9-b6d7-962a45b60899\",\"type\":\"BoxZoomTool\"},{\"id\":\"1bff80e3-a518-4886-a5d0-456b59bbb36e\",\"type\":\"SaveTool\"},{\"id\":\"8bdf2cdc-96df-47f6-aa11-a195ed5791c2\",\"type\":\"ResetTool\"},{\"id\":\"9981e6dc-0ab6-4f70-9d57-51a95cbe8dd4\",\"type\":\"HelpTool\"},{\"id\":\"c26658df-45bc-42db-ac2f-f461d1efe0e0\",\"type\":\"PanTool\"},{\"id\":\"8e3932ae-a606-4da9-b764-5fe5b0fca140\",\"type\":\"WheelZoomTool\"},{\"id\":\"1360fd89-0e6a-48e7-8c34-8c6031ed4dfe\",\"type\":\"BoxZoomTool\"},{\"id\":\"164a1f5a-2ac4-44cd-8346-fde072339c37\",\"type\":\"SaveTool\"},{\"id\":\"b4cc51c8-13a1-4650-a72e-5c6431f7ad1b\",\"type\":\"ResetTool\"},{\"id\":\"f34cbf35-b038-48dd-9a45-e1132d81ed3a\",\"type\":\"HelpTool\"},{\"id\":\"a2bd8d77-b63f-4683-913d-06b0abd8c462\",\"type\":\"PanTool\"},{\"id\":\"2d2a511e-3017-49eb-b0c9-be629316a231\",\"type\":\"WheelZoomTool\"},{\"id\":\"84548b33-cd86-4d5c-a719-1c1aca174bbb\",\"type\":\"BoxZoomTool\"},{\"id\":\"cdb0d103-5063-4c42-8f30-d9829031e5ea\",\"type\":\"SaveTool\"},{\"id\":\"c3062df3-2b2b-40ca-904f-1a00398ee798\",\"type\":\"ResetTool\"},{\"id\":\"2b3a7bc6-aabc-44ea-ba97-e6ca249bb591\",\"type\":\"HelpTool\"}]},\"id\":\"08ca77ad-a1e9-4e30-b035-575c13f4df41\",\"type\":\"ProxyToolbar\"},{\"attributes\":{},\"id\":\"5d6d908f-dc88-4d2a-8d35-e088500cdd89\",\"type\":\"CategoricalScale\"},{\"attributes\":{},\"id\":\"a8ceba37-73cf-42c6-9f1a-3f54af5dde30\",\"type\":\"CategoricalTickFormatter\"},{\"attributes\":{\"below\":[{\"id\":\"5af3ca1c-646c-4226-96b7-1b86eac8fb96\",\"type\":\"CategoricalAxis\"}],\"left\":[{\"id\":\"97611892-50e1-48af-9fad-f4110ca8aa73\",\"type\":\"LinearAxis\"}],\"plot_height\":300,\"plot_width\":300,\"renderers\":[{\"id\":\"5af3ca1c-646c-4226-96b7-1b86eac8fb96\",\"type\":\"CategoricalAxis\"},{\"id\":\"db6128b9-24e6-4e4e-bb8f-7b37c18a319c\",\"type\":\"Grid\"},{\"id\":\"97611892-50e1-48af-9fad-f4110ca8aa73\",\"type\":\"LinearAxis\"},{\"id\":\"1a153fe4-77e7-42d9-950b-61c0aeed1019\",\"type\":\"Grid\"},{\"id\":\"af6ab705-12fb-437e-ab45-f170a526f379\",\"type\":\"BoxAnnotation\"},{\"id\":\"d897c0cb-21a2-4974-ba00-90b9e664e082\",\"type\":\"GlyphRenderer\"}],\"title\":{\"id\":\"6eb757c9-0abf-4c64-8cc8-be85f3b829f5\",\"type\":\"Title\"},\"toolbar\":{\"id\":\"6eac7699-be48-42bf-a7e7-1bcd314e6239\",\"type\":\"Toolbar\"},\"toolbar_location\":null,\"x_range\":{\"id\":\"2fedb492-1a6c-428e-9428-58018c49b849\",\"type\":\"FactorRange\"},\"x_scale\":{\"id\":\"f01c0613-b241-438f-b508-067aaa24ee20\",\"type\":\"CategoricalScale\"},\"y_range\":{\"id\":\"c72514dc-2bc8-436b-a0a6-a8857f25a117\",\"type\":\"DataRange1d\"},\"y_scale\":{\"id\":\"a5a3ff70-5937-4112-a95c-2c85277fb51d\",\"type\":\"LinearScale\"}},\"id\":\"04cb5e52-075b-4f9d-9fdb-a9e2fad1cc20\",\"subtype\":\"Figure\",\"type\":\"Plot\"},{\"attributes\":{\"active_drag\":\"auto\",\"active_inspect\":\"auto\",\"active_scroll\":\"auto\",\"active_tap\":\"auto\",\"tools\":[{\"id\":\"df6aa1fe-ae1e-4cff-8d21-4fdacbc9e32a\",\"type\":\"PanTool\"},{\"id\":\"de7447bb-8a1e-4ebd-b1c6-ab145b19435a\",\"type\":\"WheelZoomTool\"},{\"id\":\"3c55bb10-485f-4de9-b6d7-962a45b60899\",\"type\":\"BoxZoomTool\"},{\"id\":\"1bff80e3-a518-4886-a5d0-456b59bbb36e\",\"type\":\"SaveTool\"},{\"id\":\"8bdf2cdc-96df-47f6-aa11-a195ed5791c2\",\"type\":\"ResetTool\"},{\"id\":\"9981e6dc-0ab6-4f70-9d57-51a95cbe8dd4\",\"type\":\"HelpTool\"}]},\"id\":\"4f65ccce-2dbd-424e-ab3c-e4110091fb76\",\"type\":\"Toolbar\"},{\"attributes\":{\"axis_label\":\"spectral band\",\"formatter\":{\"id\":\"a8ceba37-73cf-42c6-9f1a-3f54af5dde30\",\"type\":\"CategoricalTickFormatter\"},\"plot\":{\"id\":\"04cb5e52-075b-4f9d-9fdb-a9e2fad1cc20\",\"subtype\":\"Figure\",\"type\":\"Plot\"},\"ticker\":{\"id\":\"90a6dfbd-fb67-4f64-a86a-c42c590d7d89\",\"type\":\"CategoricalTicker\"}},\"id\":\"5af3ca1c-646c-4226-96b7-1b86eac8fb96\",\"type\":\"CategoricalAxis\"},{\"attributes\":{\"callback\":null,\"data\":{\"band\":[\"1\",\"2\",\"3\",\"4\",\"5\",\"6\",\"7\",\"8\",\"9\",\"10\",\"11\"],\"flux\":{\"__ndarray__\":\"AIC5NH7hZb8ALHsS2Jy/P4BweEFEata/AOSkMO9xtj8gsSg2MIPcPz4QDxdvmuc/gODPla0a2D/gmKdr1GDGPwDV3YZiPLo/AAr6Cz1ipD+gLpy1JbyaPw==\",\"dtype\":\"float64\",\"shape\":[11]}},\"selected\":{\"id\":\"63ef66a4-900f-443c-9dd9-d15a99724ca1\",\"type\":\"Selection\"},\"selection_policy\":{\"id\":\"22d64a29-19e5-4e30-8fdc-4e2e1ac64285\",\"type\":\"UnionRenderers\"}},\"id\":\"f48383ed-6038-4759-bcad-048070b49c69\",\"type\":\"ColumnDataSource\"},{\"attributes\":{\"source\":{\"id\":\"26f3b832-7eaa-4117-85ac-8b99ed49dd7e\",\"type\":\"ColumnDataSource\"}},\"id\":\"ba2b7a6d-1c6c-4126-9ebd-535ab1874e8b\",\"type\":\"CDSView\"},{\"attributes\":{\"overlay\":{\"id\":\"af6ab705-12fb-437e-ab45-f170a526f379\",\"type\":\"BoxAnnotation\"}},\"id\":\"84548b33-cd86-4d5c-a719-1c1aca174bbb\",\"type\":\"BoxZoomTool\"},{\"attributes\":{},\"id\":\"0338ae2e-3cdc-4ae7-869d-7a092089043d\",\"type\":\"BasicTicker\"},{\"attributes\":{},\"id\":\"f01c0613-b241-438f-b508-067aaa24ee20\",\"type\":\"CategoricalScale\"},{\"attributes\":{\"active_drag\":\"auto\",\"active_inspect\":\"auto\",\"active_scroll\":\"auto\",\"active_tap\":\"auto\",\"tools\":[{\"id\":\"a2bd8d77-b63f-4683-913d-06b0abd8c462\",\"type\":\"PanTool\"},{\"id\":\"2d2a511e-3017-49eb-b0c9-be629316a231\",\"type\":\"WheelZoomTool\"},{\"id\":\"84548b33-cd86-4d5c-a719-1c1aca174bbb\",\"type\":\"BoxZoomTool\"},{\"id\":\"cdb0d103-5063-4c42-8f30-d9829031e5ea\",\"type\":\"SaveTool\"},{\"id\":\"c3062df3-2b2b-40ca-904f-1a00398ee798\",\"type\":\"ResetTool\"},{\"id\":\"2b3a7bc6-aabc-44ea-ba97-e6ca249bb591\",\"type\":\"HelpTool\"}]},\"id\":\"6eac7699-be48-42bf-a7e7-1bcd314e6239\",\"type\":\"Toolbar\"},{\"attributes\":{},\"id\":\"9429f8c3-70bf-490c-9410-6fe61ad6fa16\",\"type\":\"CategoricalTicker\"},{\"attributes\":{\"below\":[{\"id\":\"894c44f0-b2ac-4b48-812b-ef631db11ad9\",\"type\":\"CategoricalAxis\"}],\"left\":[{\"id\":\"4d84a5a5-d575-4108-bab4-aeff4e0e2223\",\"type\":\"LinearAxis\"}],\"plot_height\":300,\"plot_width\":300,\"renderers\":[{\"id\":\"894c44f0-b2ac-4b48-812b-ef631db11ad9\",\"type\":\"CategoricalAxis\"},{\"id\":\"530bcfb9-99bd-44f2-8d26-4ecf4c659926\",\"type\":\"Grid\"},{\"id\":\"4d84a5a5-d575-4108-bab4-aeff4e0e2223\",\"type\":\"LinearAxis\"},{\"id\":\"cfb6072e-c1d0-4ec4-8186-ba30e14267d4\",\"type\":\"Grid\"},{\"id\":\"118082ae-e768-4b9f-b8ab-7f197a12e47d\",\"type\":\"BoxAnnotation\"},{\"id\":\"cb5d6a14-1385-4a84-831b-6d3f97e63f4f\",\"type\":\"GlyphRenderer\"}],\"title\":{\"id\":\"45e908c8-de0b-4e8c-9e4a-a331583542ab\",\"type\":\"Title\"},\"toolbar\":{\"id\":\"6faa64cf-1fd6-4c34-a2d4-357a977e3597\",\"type\":\"Toolbar\"},\"toolbar_location\":null,\"x_range\":{\"id\":\"9844c031-cfc5-4f28-b4b8-84ab9d893dc7\",\"type\":\"FactorRange\"},\"x_scale\":{\"id\":\"9baca573-2964-44ea-bfde-453fde139b9e\",\"type\":\"CategoricalScale\"},\"y_range\":{\"id\":\"a03ccc43-bcfe-43bb-85e6-e298a23e4822\",\"type\":\"DataRange1d\"},\"y_scale\":{\"id\":\"4916ae4f-6f63-499e-9fdf-65e2f08c4da9\",\"type\":\"LinearScale\"}},\"id\":\"defa1e7d-8fa2-44d4-a999-1f544c7cdd81\",\"subtype\":\"Figure\",\"type\":\"Plot\"},{\"attributes\":{\"fill_color\":{\"value\":\"#1f77b4\"},\"line_color\":{\"value\":\"#1f77b4\"},\"top\":{\"field\":\"flux\"},\"width\":{\"value\":0.9},\"x\":{\"field\":\"band\"}},\"id\":\"581927da-07de-4f95-8b40-604ec2bb1690\",\"type\":\"VBar\"},{\"attributes\":{},\"id\":\"90a6dfbd-fb67-4f64-a86a-c42c590d7d89\",\"type\":\"CategoricalTicker\"},{\"attributes\":{},\"id\":\"e1140530-b5fb-42a4-8dd7-34c38ee4441f\",\"type\":\"CategoricalTickFormatter\"},{\"attributes\":{},\"id\":\"0a9b45ed-dbe9-408e-9ef5-882b751334f7\",\"type\":\"BasicTicker\"},{\"attributes\":{},\"id\":\"df6aa1fe-ae1e-4cff-8d21-4fdacbc9e32a\",\"type\":\"PanTool\"},{\"attributes\":{},\"id\":\"fce7734f-5581-4fcd-860d-fc6fa074cf8b\",\"type\":\"LinearScale\"},{\"attributes\":{},\"id\":\"3e25fb98-158b-42a5-9cd1-a548aa66ba83\",\"type\":\"CategoricalTickFormatter\"},{\"attributes\":{},\"id\":\"407ccb1c-ce84-4f20-8aa5-3f585f998d10\",\"type\":\"Selection\"},{\"attributes\":{\"fill_alpha\":{\"value\":0.1},\"fill_color\":{\"value\":\"#1f77b4\"},\"line_alpha\":{\"value\":0.1},\"line_color\":{\"value\":\"#1f77b4\"},\"top\":{\"field\":\"flux\"},\"width\":{\"value\":0.9},\"x\":{\"field\":\"band\"}},\"id\":\"a7826a08-a084-423f-9d57-eedee90ddc9e\",\"type\":\"VBar\"},{\"attributes\":{},\"id\":\"22d64a29-19e5-4e30-8fdc-4e2e1ac64285\",\"type\":\"UnionRenderers\"},{\"attributes\":{},\"id\":\"86a5811e-2ed4-402b-ae64-17e9e90801f0\",\"type\":\"UnionRenderers\"},{\"attributes\":{\"children\":[{\"id\":\"0089e067-9d2d-44ee-a046-dd72340a8cf1\",\"type\":\"ToolbarBox\"},{\"id\":\"02c4d486-dfe7-48b0-a8e9-83b22dcf90b2\",\"type\":\"Column\"}]},\"id\":\"f193c5c4-e989-402f-a078-55388cc970e2\",\"type\":\"Column\"},{\"attributes\":{\"plot\":null,\"text\":\"SFC flux. CLIRAD (single-run) - CRD.\"},\"id\":\"45e908c8-de0b-4e8c-9e4a-a331583542ab\",\"type\":\"Title\"},{\"attributes\":{\"fill_color\":{\"value\":\"#1f77b4\"},\"line_color\":{\"value\":\"#1f77b4\"},\"top\":{\"field\":\"flux\"},\"width\":{\"value\":0.9},\"x\":{\"field\":\"band\"}},\"id\":\"80d0f55c-f748-437e-bf83-a5a8b4fa21a0\",\"type\":\"VBar\"},{\"attributes\":{},\"id\":\"a2bd8d77-b63f-4683-913d-06b0abd8c462\",\"type\":\"PanTool\"},{\"attributes\":{\"source\":{\"id\":\"f48383ed-6038-4759-bcad-048070b49c69\",\"type\":\"ColumnDataSource\"}},\"id\":\"33e90d8b-0646-4d0f-8c3d-f63ad1cfff8f\",\"type\":\"CDSView\"},{\"attributes\":{\"dimension\":1,\"plot\":{\"id\":\"6238de94-30d8-4c11-a727-a16e4f0fcac4\",\"subtype\":\"Figure\",\"type\":\"Plot\"},\"ticker\":{\"id\":\"0338ae2e-3cdc-4ae7-869d-7a092089043d\",\"type\":\"BasicTicker\"}},\"id\":\"7bf7dee1-0d8c-47eb-850b-2012793f03fb\",\"type\":\"Grid\"},{\"attributes\":{},\"id\":\"189fe064-ae31-4748-aacc-2653d620ab68\",\"type\":\"BasicTickFormatter\"},{\"attributes\":{\"fill_alpha\":{\"value\":0.1},\"fill_color\":{\"value\":\"#1f77b4\"},\"line_alpha\":{\"value\":0.1},\"line_color\":{\"value\":\"#1f77b4\"},\"top\":{\"field\":\"flux\"},\"width\":{\"value\":0.9},\"x\":{\"field\":\"band\"}},\"id\":\"6793cf1a-1d52-491f-997c-c06ecc0d399f\",\"type\":\"VBar\"},{\"attributes\":{\"fill_color\":{\"value\":\"#1f77b4\"},\"line_color\":{\"value\":\"#1f77b4\"},\"top\":{\"field\":\"flux\"},\"width\":{\"value\":0.9},\"x\":{\"field\":\"band\"}},\"id\":\"c6dc75c5-f609-4b0b-95ff-08a68d3d540f\",\"type\":\"VBar\"},{\"attributes\":{\"callback\":null,\"factors\":[\"1\",\"2\",\"3\",\"4\",\"5\",\"6\",\"7\",\"8\",\"9\",\"10\",\"11\"]},\"id\":\"096cf9c1-4bce-4b37-8332-73bbba9a86bc\",\"type\":\"FactorRange\"},{\"attributes\":{},\"id\":\"b40814e2-75c6-4e5e-8e4b-0c9c31bff323\",\"type\":\"BasicTickFormatter\"},{\"attributes\":{\"overlay\":{\"id\":\"f54ca7df-c2e3-4f91-9f05-06632652767e\",\"type\":\"BoxAnnotation\"}},\"id\":\"3c55bb10-485f-4de9-b6d7-962a45b60899\",\"type\":\"BoxZoomTool\"},{\"attributes\":{\"bottom_units\":\"screen\",\"fill_alpha\":{\"value\":0.5},\"fill_color\":{\"value\":\"lightgrey\"},\"left_units\":\"screen\",\"level\":\"overlay\",\"line_alpha\":{\"value\":1.0},\"line_color\":{\"value\":\"black\"},\"line_dash\":[4,4],\"line_width\":{\"value\":2},\"plot\":null,\"render_mode\":\"css\",\"right_units\":\"screen\",\"top_units\":\"screen\"},\"id\":\"af6ab705-12fb-437e-ab45-f170a526f379\",\"type\":\"BoxAnnotation\"},{\"attributes\":{\"data_source\":{\"id\":\"f48383ed-6038-4759-bcad-048070b49c69\",\"type\":\"ColumnDataSource\"},\"glyph\":{\"id\":\"581927da-07de-4f95-8b40-604ec2bb1690\",\"type\":\"VBar\"},\"hover_glyph\":null,\"muted_glyph\":null,\"nonselection_glyph\":{\"id\":\"09034874-21d8-48e7-93ad-afc61eda9236\",\"type\":\"VBar\"},\"selection_glyph\":null,\"view\":{\"id\":\"33e90d8b-0646-4d0f-8c3d-f63ad1cfff8f\",\"type\":\"CDSView\"}},\"id\":\"cb5d6a14-1385-4a84-831b-6d3f97e63f4f\",\"type\":\"GlyphRenderer\"},{\"attributes\":{},\"id\":\"2d2a511e-3017-49eb-b0c9-be629316a231\",\"type\":\"WheelZoomTool\"},{\"attributes\":{\"axis_label\":\"spectral band\",\"formatter\":{\"id\":\"3e25fb98-158b-42a5-9cd1-a548aa66ba83\",\"type\":\"CategoricalTickFormatter\"},\"plot\":{\"id\":\"6238de94-30d8-4c11-a727-a16e4f0fcac4\",\"subtype\":\"Figure\",\"type\":\"Plot\"},\"ticker\":{\"id\":\"9429f8c3-70bf-490c-9410-6fe61ad6fa16\",\"type\":\"CategoricalTicker\"}},\"id\":\"050fde45-799d-4389-bca4-c302d9dafef4\",\"type\":\"CategoricalAxis\"},{\"attributes\":{},\"id\":\"a5a3ff70-5937-4112-a95c-2c85277fb51d\",\"type\":\"LinearScale\"},{\"attributes\":{},\"id\":\"c3062df3-2b2b-40ca-904f-1a00398ee798\",\"type\":\"ResetTool\"},{\"attributes\":{},\"id\":\"ec877968-cb24-40e9-af56-4b76f09f6648\",\"type\":\"BasicTickFormatter\"},{\"attributes\":{\"dimension\":1,\"plot\":{\"id\":\"04cb5e52-075b-4f9d-9fdb-a9e2fad1cc20\",\"subtype\":\"Figure\",\"type\":\"Plot\"},\"ticker\":{\"id\":\"0a9b45ed-dbe9-408e-9ef5-882b751334f7\",\"type\":\"BasicTicker\"}},\"id\":\"1a153fe4-77e7-42d9-950b-61c0aeed1019\",\"type\":\"Grid\"},{\"attributes\":{},\"id\":\"de7447bb-8a1e-4ebd-b1c6-ab145b19435a\",\"type\":\"WheelZoomTool\"},{\"attributes\":{},\"id\":\"c26658df-45bc-42db-ac2f-f461d1efe0e0\",\"type\":\"PanTool\"},{\"attributes\":{\"overlay\":{\"id\":\"118082ae-e768-4b9f-b8ab-7f197a12e47d\",\"type\":\"BoxAnnotation\"}},\"id\":\"1360fd89-0e6a-48e7-8c34-8c6031ed4dfe\",\"type\":\"BoxZoomTool\"},{\"attributes\":{\"fill_alpha\":{\"value\":0.1},\"fill_color\":{\"value\":\"#1f77b4\"},\"line_alpha\":{\"value\":0.1},\"line_color\":{\"value\":\"#1f77b4\"},\"top\":{\"field\":\"flux\"},\"width\":{\"value\":0.9},\"x\":{\"field\":\"band\"}},\"id\":\"09034874-21d8-48e7-93ad-afc61eda9236\",\"type\":\"VBar\"},{\"attributes\":{},\"id\":\"f34cbf35-b038-48dd-9a45-e1132d81ed3a\",\"type\":\"HelpTool\"},{\"attributes\":{},\"id\":\"d6cde2c9-b1e2-4eb0-81b1-669a0ba0e76f\",\"type\":\"CategoricalTicker\"},{\"attributes\":{},\"id\":\"8e3932ae-a606-4da9-b764-5fe5b0fca140\",\"type\":\"WheelZoomTool\"},{\"attributes\":{},\"id\":\"b4cc51c8-13a1-4650-a72e-5c6431f7ad1b\",\"type\":\"ResetTool\"},{\"attributes\":{\"bottom_units\":\"screen\",\"fill_alpha\":{\"value\":0.5},\"fill_color\":{\"value\":\"lightgrey\"},\"left_units\":\"screen\",\"level\":\"overlay\",\"line_alpha\":{\"value\":1.0},\"line_color\":{\"value\":\"black\"},\"line_dash\":[4,4],\"line_width\":{\"value\":2},\"plot\":null,\"render_mode\":\"css\",\"right_units\":\"screen\",\"top_units\":\"screen\"},\"id\":\"f54ca7df-c2e3-4f91-9f05-06632652767e\",\"type\":\"BoxAnnotation\"},{\"attributes\":{\"axis_label\":\"spectral band\",\"formatter\":{\"id\":\"e1140530-b5fb-42a4-8dd7-34c38ee4441f\",\"type\":\"CategoricalTickFormatter\"},\"plot\":{\"id\":\"defa1e7d-8fa2-44d4-a999-1f544c7cdd81\",\"subtype\":\"Figure\",\"type\":\"Plot\"},\"ticker\":{\"id\":\"d6cde2c9-b1e2-4eb0-81b1-669a0ba0e76f\",\"type\":\"CategoricalTicker\"}},\"id\":\"894c44f0-b2ac-4b48-812b-ef631db11ad9\",\"type\":\"CategoricalAxis\"},{\"attributes\":{\"plot\":null,\"text\":\"TOA flux. CLIRAD (single-run) - CRD.\"},\"id\":\"79fe4280-bc68-4dc2-aeef-c49b376e2932\",\"type\":\"Title\"},{\"attributes\":{\"dimension\":1,\"plot\":{\"id\":\"defa1e7d-8fa2-44d4-a999-1f544c7cdd81\",\"subtype\":\"Figure\",\"type\":\"Plot\"},\"ticker\":{\"id\":\"e04332cb-be76-48c4-8f29-320cef7f26e1\",\"type\":\"BasicTicker\"}},\"id\":\"cfb6072e-c1d0-4ec4-8186-ba30e14267d4\",\"type\":\"Grid\"},{\"attributes\":{},\"id\":\"164a1f5a-2ac4-44cd-8346-fde072339c37\",\"type\":\"SaveTool\"},{\"attributes\":{},\"id\":\"4916ae4f-6f63-499e-9fdf-65e2f08c4da9\",\"type\":\"LinearScale\"},{\"attributes\":{},\"id\":\"9981e6dc-0ab6-4f70-9d57-51a95cbe8dd4\",\"type\":\"HelpTool\"},{\"attributes\":{},\"id\":\"9baca573-2964-44ea-bfde-453fde139b9e\",\"type\":\"CategoricalScale\"},{\"attributes\":{\"axis_label\":\"flux (W m-2)\",\"formatter\":{\"id\":\"ec877968-cb24-40e9-af56-4b76f09f6648\",\"type\":\"BasicTickFormatter\"},\"plot\":{\"id\":\"defa1e7d-8fa2-44d4-a999-1f544c7cdd81\",\"subtype\":\"Figure\",\"type\":\"Plot\"},\"ticker\":{\"id\":\"e04332cb-be76-48c4-8f29-320cef7f26e1\",\"type\":\"BasicTicker\"}},\"id\":\"4d84a5a5-d575-4108-bab4-aeff4e0e2223\",\"type\":\"LinearAxis\"},{\"attributes\":{\"callback\":null,\"factors\":[\"1\",\"2\",\"3\",\"4\",\"5\",\"6\",\"7\",\"8\",\"9\",\"10\",\"11\"]},\"id\":\"9844c031-cfc5-4f28-b4b8-84ab9d893dc7\",\"type\":\"FactorRange\"},{\"attributes\":{\"callback\":null,\"data\":{\"band\":[\"1\",\"2\",\"3\",\"4\",\"5\",\"6\",\"7\",\"8\",\"9\",\"10\",\"11\"],\"flux\":{\"__ndarray__\":\"gGLUtfY+xz8AxKpBmNuxPwB4DfrS27O/gApHkEqx0D8AemtgqwS3PwD4HcNjP6O/wGyQSUbO0T8ALPuuCP6XvwAIGW36WJ4/AHQYgtIGdr8AjON2HsuRPw==\",\"dtype\":\"float64\",\"shape\":[11]}},\"selected\":{\"id\":\"407ccb1c-ce84-4f20-8aa5-3f585f998d10\",\"type\":\"Selection\"},\"selection_policy\":{\"id\":\"86a5811e-2ed4-402b-ae64-17e9e90801f0\",\"type\":\"UnionRenderers\"}},\"id\":\"c58bcc31-a187-40a9-90c4-9c0446966f8d\",\"type\":\"ColumnDataSource\"},{\"attributes\":{\"bottom_units\":\"screen\",\"fill_alpha\":{\"value\":0.5},\"fill_color\":{\"value\":\"lightgrey\"},\"left_units\":\"screen\",\"level\":\"overlay\",\"line_alpha\":{\"value\":1.0},\"line_color\":{\"value\":\"black\"},\"line_dash\":[4,4],\"line_width\":{\"value\":2},\"plot\":null,\"render_mode\":\"css\",\"right_units\":\"screen\",\"top_units\":\"screen\"},\"id\":\"118082ae-e768-4b9f-b8ab-7f197a12e47d\",\"type\":\"BoxAnnotation\"},{\"attributes\":{\"below\":[{\"id\":\"050fde45-799d-4389-bca4-c302d9dafef4\",\"type\":\"CategoricalAxis\"}],\"left\":[{\"id\":\"0f18de68-0f28-4dd7-acc2-c594e12ef7fc\",\"type\":\"LinearAxis\"}],\"plot_height\":300,\"plot_width\":300,\"renderers\":[{\"id\":\"050fde45-799d-4389-bca4-c302d9dafef4\",\"type\":\"CategoricalAxis\"},{\"id\":\"4fd1a037-1c08-4709-8f5a-f3f6337c1866\",\"type\":\"Grid\"},{\"id\":\"0f18de68-0f28-4dd7-acc2-c594e12ef7fc\",\"type\":\"LinearAxis\"},{\"id\":\"7bf7dee1-0d8c-47eb-850b-2012793f03fb\",\"type\":\"Grid\"},{\"id\":\"f54ca7df-c2e3-4f91-9f05-06632652767e\",\"type\":\"BoxAnnotation\"},{\"id\":\"8851b43b-9383-40dd-980f-8141533ff4c3\",\"type\":\"GlyphRenderer\"}],\"title\":{\"id\":\"79fe4280-bc68-4dc2-aeef-c49b376e2932\",\"type\":\"Title\"},\"toolbar\":{\"id\":\"4f65ccce-2dbd-424e-ab3c-e4110091fb76\",\"type\":\"Toolbar\"},\"toolbar_location\":null,\"x_range\":{\"id\":\"096cf9c1-4bce-4b37-8332-73bbba9a86bc\",\"type\":\"FactorRange\"},\"x_scale\":{\"id\":\"5d6d908f-dc88-4d2a-8d35-e088500cdd89\",\"type\":\"CategoricalScale\"},\"y_range\":{\"id\":\"fc14b684-b79e-4251-8f8d-2143e4ab16d0\",\"type\":\"DataRange1d\"},\"y_scale\":{\"id\":\"fce7734f-5581-4fcd-860d-fc6fa074cf8b\",\"type\":\"LinearScale\"}},\"id\":\"6238de94-30d8-4c11-a727-a16e4f0fcac4\",\"subtype\":\"Figure\",\"type\":\"Plot\"},{\"attributes\":{\"plot\":{\"id\":\"defa1e7d-8fa2-44d4-a999-1f544c7cdd81\",\"subtype\":\"Figure\",\"type\":\"Plot\"},\"ticker\":{\"id\":\"d6cde2c9-b1e2-4eb0-81b1-669a0ba0e76f\",\"type\":\"CategoricalTicker\"}},\"id\":\"530bcfb9-99bd-44f2-8d26-4ecf4c659926\",\"type\":\"Grid\"},{\"attributes\":{},\"id\":\"e04332cb-be76-48c4-8f29-320cef7f26e1\",\"type\":\"BasicTicker\"},{\"attributes\":{},\"id\":\"1bff80e3-a518-4886-a5d0-456b59bbb36e\",\"type\":\"SaveTool\"},{\"attributes\":{\"callback\":null},\"id\":\"a03ccc43-bcfe-43bb-85e6-e298a23e4822\",\"type\":\"DataRange1d\"},{\"attributes\":{},\"id\":\"8bdf2cdc-96df-47f6-aa11-a195ed5791c2\",\"type\":\"ResetTool\"},{\"attributes\":{\"callback\":null,\"data\":{\"band\":[\"1\",\"2\",\"3\",\"4\",\"5\",\"6\",\"7\",\"8\",\"9\",\"10\",\"11\"],\"flux\":{\"__ndarray__\":\"AGUcfpKWxz8ADNP3GoKrvwC58ThWc9E/gCPUtqgpxj/AKyixEMLWvyDeA3Rfzui/AHCZ02Uxub9A/vVlxGDJv2DmlUYnprK/AGut5jsjp78A4LOe7+GBvw==\",\"dtype\":\"float64\",\"shape\":[11]}},\"selected\":{\"id\":\"b50560de-a679-461a-ad3e-29985978df12\",\"type\":\"Selection\"},\"selection_policy\":{\"id\":\"7f6ad883-8708-4969-adfe-1e5c61002607\",\"type\":\"UnionRenderers\"}},\"id\":\"26f3b832-7eaa-4117-85ac-8b99ed49dd7e\",\"type\":\"ColumnDataSource\"}],\"root_ids\":[\"f193c5c4-e989-402f-a078-55388cc970e2\"]},\"title\":\"Bokeh Application\",\"version\":\"0.12.16\"}};\n",
       "  var render_items = [{\"docid\":\"b2a80b49-fdaf-4c68-9e1b-3758d0ebd787\",\"elementid\":\"f9c917fb-a8ff-4780-9a04-9ec4c167d05e\",\"modelid\":\"f193c5c4-e989-402f-a078-55388cc970e2\"}];\n",
       "  root.Bokeh.embed.embed_items_notebook(docs_json, render_items);\n",
       "\n",
       "  }\n",
       "  if (root.Bokeh !== undefined) {\n",
       "    embed_document(root);\n",
       "  } else {\n",
       "    var attempts = 0;\n",
       "    var timer = setInterval(function(root) {\n",
       "      if (root.Bokeh !== undefined) {\n",
       "        embed_document(root);\n",
       "        clearInterval(timer);\n",
       "      }\n",
       "      attempts++;\n",
       "      if (attempts > 100) {\n",
       "        console.log(\"Bokeh: ERROR: Unable to run BokehJS code because BokehJS library is missing\")\n",
       "        clearInterval(timer);\n",
       "      }\n",
       "    }, 10, root)\n",
       "  }\n",
       "})(window);"
      ],
      "application/vnd.bokehjs_exec.v0+json": ""
     },
     "metadata": {
      "application/vnd.bokehjs_exec.v0+json": {
       "id": "f193c5c4-e989-402f-a078-55388cc970e2"
      }
     },
     "output_type": "display_data"
    },
    {
     "data": {
      "text/markdown": [
       "*FIGURE.* Difference between CLIRAD and CRD in TOA, SFC and net atmosphere flux, in each spectral band."
      ],
      "text/plain": [
       "<IPython.core.display.Markdown object>"
      ]
     },
     "metadata": {},
     "output_type": "display_data"
    },
    {
     "data": {
      "text/html": [
       "<div>\n",
       "<style scoped>\n",
       "    .dataframe tbody tr th:only-of-type {\n",
       "        vertical-align: middle;\n",
       "    }\n",
       "\n",
       "    .dataframe tbody tr th {\n",
       "        vertical-align: top;\n",
       "    }\n",
       "\n",
       "    .dataframe thead th {\n",
       "        text-align: right;\n",
       "    }\n",
       "</style>\n",
       "<table border=\"1\" class=\"dataframe\">\n",
       "  <thead>\n",
       "    <tr style=\"text-align: right;\">\n",
       "      <th></th>\n",
       "      <th>OLR flux</th>\n",
       "      <th>SFC flux</th>\n",
       "      <th>ATM heating</th>\n",
       "    </tr>\n",
       "    <tr>\n",
       "      <th>Sum over bands</th>\n",
       "      <th></th>\n",
       "      <th></th>\n",
       "      <th></th>\n",
       "    </tr>\n",
       "  </thead>\n",
       "  <tbody>\n",
       "    <tr>\n",
       "      <th>CLIRAD (single-run) - CRD</th>\n",
       "      <td>0.78</td>\n",
       "      <td>1.76</td>\n",
       "      <td>-0.98</td>\n",
       "    </tr>\n",
       "    <tr>\n",
       "      <th>CRD</th>\n",
       "      <td>-201.06</td>\n",
       "      <td>166.03</td>\n",
       "      <td>-119.67</td>\n",
       "    </tr>\n",
       "  </tbody>\n",
       "</table>\n",
       "</div>"
      ],
      "text/plain": [
       "                           OLR flux  SFC flux  ATM heating\n",
       "Sum over bands                                            \n",
       "CLIRAD (single-run) - CRD      0.78      1.76        -0.98\n",
       "CRD                         -201.06    166.03      -119.67"
      ]
     },
     "metadata": {},
     "output_type": "display_data"
    },
    {
     "data": {
      "text/markdown": [
       "*TABLE.* Difference between CLIRAD and CRD in TOA, SFC and net atmosphere flux, over all spectral bands. CRD's TOA, SFC and net atmosphere flux, over all spectral bands."
      ],
      "text/plain": [
       "<IPython.core.display.Markdown object>"
      ]
     },
     "metadata": {},
     "output_type": "display_data"
    },
    {
     "data": {
      "text/html": [
       "<a id=\"Cooling_rates._trp.\"></a>"
      ],
      "text/plain": [
       "<IPython.core.display.HTML object>"
      ]
     },
     "metadata": {},
     "output_type": "display_data"
    },
    {
     "data": {
      "text/markdown": [
       "# Cooling rates. trp."
      ],
      "text/plain": [
       "<IPython.core.display.Markdown object>"
      ]
     },
     "metadata": {},
     "output_type": "display_data"
    },
    {
     "data": {
      "text/html": [
       "\n",
       "<div class=\"bk-root\">\n",
       "    <div class=\"bk-plotdiv\" id=\"c66de86b-a1d6-486a-976f-2c3c7482a88e\"></div>\n",
       "</div>"
      ]
     },
     "metadata": {},
     "output_type": "display_data"
    },
    {
     "data": {
      "application/javascript": [
       "(function(root) {\n",
       "  function embed_document(root) {\n",
       "    \n",
       "  var docs_json = {\"ab1015b9-9889-480d-985c-1ec7abf704bd\":{\"roots\":{\"references\":[{\"attributes\":{\"callback\":null,\"end\":12.208580913010499,\"start\":-0.6030639325004999},\"id\":\"3437b113-f1af-4fd8-89c8-a73de9048c20\",\"type\":\"Range1d\"},{\"attributes\":{},\"id\":\"5130c807-653f-429e-bc3c-0690ef9e1d72\",\"type\":\"WheelZoomTool\"},{\"attributes\":{},\"id\":\"2b263e9a-e6bb-458d-a298-58e20d85af1f\",\"type\":\"PanTool\"},{\"attributes\":{},\"id\":\"735ac802-4a1d-4535-a3cb-2f012f975cb3\",\"type\":\"UnionRenderers\"},{\"attributes\":{\"axis_label\":\"cooling rate [K/day]\",\"formatter\":{\"id\":\"55cea3fe-7303-49ea-9ba6-2ccfff1f2a6c\",\"type\":\"BasicTickFormatter\"},\"plot\":{\"id\":\"5036016a-7e22-407a-a785-c4c0572c18ec\",\"subtype\":\"Figure\",\"type\":\"Plot\"},\"ticker\":{\"id\":\"2d1768b0-97a5-4b2d-a39b-c5dad5a08aa3\",\"type\":\"BasicTicker\"}},\"id\":\"4967dc7b-fb08-4fc8-9e45-0d6dc1006fa3\",\"type\":\"LinearAxis\"},{\"attributes\":{},\"id\":\"1dbe605f-d374-4dc9-b42f-1dffe2f85070\",\"type\":\"ResetTool\"},{\"attributes\":{\"dimension\":1,\"plot\":{\"id\":\"f60ea0a6-fa9c-4a37-8247-dc5685aaaabf\",\"subtype\":\"Figure\",\"type\":\"Plot\"},\"ticker\":{\"id\":\"492582a8-6757-4dee-bc50-4590d60ed477\",\"type\":\"LogTicker\"}},\"id\":\"89b98107-9f89-4868-b702-16fc5b4f3934\",\"type\":\"Grid\"},{\"attributes\":{},\"id\":\"26bd3fd0-7313-44f6-8869-5b9e8747e23d\",\"type\":\"ResetTool\"},{\"attributes\":{\"fill_alpha\":{\"value\":0.7},\"fill_color\":{\"value\":\"#984ea3\"},\"line_alpha\":{\"value\":0.7},\"line_color\":{\"value\":\"#984ea3\"},\"x\":{\"field\":\"x\"},\"y\":{\"field\":\"y\"}},\"id\":\"1363ac4c-e85d-453e-825e-5c4eaea029c9\",\"type\":\"Circle\"},{\"attributes\":{\"line_alpha\":0.1,\"line_color\":\"#1f77b4\",\"line_dash\":[6],\"line_width\":5,\"x\":{\"field\":\"x\"},\"y\":{\"field\":\"y\"}},\"id\":\"affa72f6-8631-4e81-895d-b6d57b414010\",\"type\":\"Line\"},{\"attributes\":{\"fill_alpha\":{\"value\":0.1},\"fill_color\":{\"value\":\"#1f77b4\"},\"line_alpha\":{\"value\":0.1},\"line_color\":{\"value\":\"#1f77b4\"},\"x\":{\"field\":\"x\"},\"y\":{\"field\":\"y\"}},\"id\":\"7ed881e5-fa3b-4ef7-a1d0-f09e23338b35\",\"type\":\"Circle\"},{\"attributes\":{\"num_minor_ticks\":10},\"id\":\"492582a8-6757-4dee-bc50-4590d60ed477\",\"type\":\"LogTicker\"},{\"attributes\":{},\"id\":\"44381d5e-cbcf-4a0a-b81f-0b312175b0da\",\"type\":\"HelpTool\"},{\"attributes\":{\"active_drag\":\"auto\",\"active_inspect\":\"auto\",\"active_scroll\":\"auto\",\"active_tap\":\"auto\",\"tools\":[{\"id\":\"c892f384-a29f-4f91-a91a-b05a2060634a\",\"type\":\"PanTool\"},{\"id\":\"5130c807-653f-429e-bc3c-0690ef9e1d72\",\"type\":\"WheelZoomTool\"},{\"id\":\"a0e50fe7-5ba3-4730-bdc1-a1b6a92a6706\",\"type\":\"BoxZoomTool\"},{\"id\":\"69af311e-a3ec-4a0c-b49c-c7f8b9e64078\",\"type\":\"SaveTool\"},{\"id\":\"26bd3fd0-7313-44f6-8869-5b9e8747e23d\",\"type\":\"ResetTool\"},{\"id\":\"44381d5e-cbcf-4a0a-b81f-0b312175b0da\",\"type\":\"HelpTool\"}]},\"id\":\"219b28e1-9173-491a-9f60-06d5c4ad2595\",\"type\":\"Toolbar\"},{\"attributes\":{},\"id\":\"9fd2de09-47d3-447c-b4b7-e214ba7a7189\",\"type\":\"LinearScale\"},{\"attributes\":{\"data_source\":{\"id\":\"7d4ee5e4-8a12-4993-b47f-f74c8ab72424\",\"type\":\"ColumnDataSource\"},\"glyph\":{\"id\":\"b339515e-f8a5-4730-86d4-1b5933653366\",\"type\":\"Line\"},\"hover_glyph\":null,\"muted_glyph\":null,\"nonselection_glyph\":{\"id\":\"67f46eb8-152d-4c15-8c29-2f8e082367b5\",\"type\":\"Line\"},\"selection_glyph\":null,\"view\":{\"id\":\"0c186a25-1628-486e-8225-436e71d388ee\",\"type\":\"CDSView\"}},\"id\":\"f33d8f66-7cbf-4d00-bf3a-29d53bcdcdf9\",\"type\":\"GlyphRenderer\"},{\"attributes\":{\"callback\":null,\"data\":{\"x\":{\"__ndarray__\":\"ZQSP+A2FRUD4tiv9BNNCQOLJZGxTtEFAAAeZrSgdQECzd8tjCxY8QJRtBQaVKjdAIkhMPR/pMUB2jsTU3wQqQIeamkF6SCJAq258oGOdGkBnB3miNTsVQHTFFaAtBhJAiWFcDeiUDUC9qHZaKzEDQF3Iuxyj6f4/XK594UWsBUB9GLwaAEQMQMZoLKIFnRBA+7DDi4feE0D0owQAKU8ZQLf3l+hLDCFA+++zaKACJ0BhYUBgphkoQMXq2HXahCRA2nV2H70nIUB2XLJ7DFccQLPxF3/DWRhANRtjPessFEDGAf2OnsgPQIiVORRgPQlAcm9IA2g9BUCs0C8PmHsAQM9JmqJItfQ/m0x2pBkT5j9aRDy0DwzRP8Ch/UXkeMG/wxPxlrKO3r9tMs3pOh/Yvwz1Uml21Fy/xnzx+4hbxT+c+rdMYbDYP6vIGAYrvOw/vrBnfy279j/zcp7oytf9P4GcctU67ABAZgjeERCFAUAh17jEskcCQLhkg4n0TAJATReEPuMWAUApsJ3EcIEAQPU2U2yHTwBA3xDPdmovAEAXGdN3owQAQAmHpjiDnf8/elrKJVFA/z/uEUpUcQj/P2u+EpQXD/8//ElKtMND/z88o5aurGX/P/Z6X6vwZv8//vVR4HlO/z9tyoJ6FP3+P2o+s8bO2/0/bDNfb6zN/D+6ntKMvzT6PxUGKWcgovc/ldtUZsz19T/3r/sx3oj0P4+zlIWA0vM/n08raH0e9j/wKhYJbif2P7OW4w1gffY/vv70pbRl9z+5r6MrQRT5P19Vu/sj0QJA\",\"dtype\":\"float64\",\"shape\":[75]},\"y\":{\"__ndarray__\":\"GhExyth1ND/Sv8nbtpRIP2vylNV0PVE/aTum7souWD/At0SJ8fVgPw3Iuahxymc/MSNhhJWvcD/bTfBN02d3P2zb5nxnaoA/CD5h5MAGhz8NmeH1TyaQP+zrCsc9p5Y/LbKd76fGnz/bLW5ISEmmPww9YvTcQq8/JV2OstnstT8Er5Y7M8G+P0c+r3jqkcU/5h99k6ZBzj88bCIzFzjVP4enV8oyxN0//yH99nXg5D8qOpLLf0jtP5kqGJXUifQ/c9cS8kHP/D+/DpwzojQEQIEmwoanVwxA4lgXt9HgE0BSSZ2AJuIbQAMJih9jjiNA5q4l5INuK0AwTKYKRj0zQNv5fmq8/DpAaCJseHrtQkB/+zpwzoxKQM3MzMzMeFJAZmZmZmZqWEAAAAAAAFxeQM3MzMzMJmJAmpmZmZkfZUBmZmZmZhhoQDMzMzMzEWtAAAAAAAAKbkBmZmZmZoFwQM3MzMzM/XFAMzMzMzN6c0CamZmZmfZ0QAAAAAAAc3ZAZmZmZmbvd0DNzMzMzGt5QDMzMzMz6HpAmpmZmZlkfEAAAAAAAOF9QGZmZmZmXX9AZmZmZuZsgECamZmZGSuBQM3MzMxM6YFAAAAAAICngkAzMzMzs2WDQGZmZmbmI4RAmpmZmRnihEDNzMzMTKCFQAAAAACAXoZAMzMzM7Mch0BmZmZm5tqHQJqZmZkZmYhAzczMzExXiUAAAAAAgBWKQDMzMzOz04pAZmZmZuaRi0CamZmZGVCMQM3MzMxMDo1AAAAAAIDMjUAzMzMzs4qOQGZmZmbmSI9A\",\"dtype\":\"float64\",\"shape\":[75]}},\"selected\":{\"id\":\"be1414a0-9a5e-4ce9-bf31-f59b97fbb4b9\",\"type\":\"Selection\"},\"selection_policy\":{\"id\":\"46c058b5-cbe9-4fa4-85d4-0cc3ef1ee22d\",\"type\":\"UnionRenderers\"}},\"id\":\"b998be15-6f50-4813-9216-5d7d047e11a8\",\"type\":\"ColumnDataSource\"},{\"attributes\":{\"fill_alpha\":{\"value\":0.7},\"fill_color\":{\"value\":\"#4daf4a\"},\"line_alpha\":{\"value\":0.7},\"line_color\":{\"value\":\"#4daf4a\"},\"x\":{\"field\":\"x\"},\"y\":{\"field\":\"y\"}},\"id\":\"4751ec09-17f8-4e17-a7cf-aad2a8a1eb79\",\"type\":\"Circle\"},{\"attributes\":{\"overlay\":{\"id\":\"ff20aa1b-a880-49f3-b8c7-373d30008782\",\"type\":\"BoxAnnotation\"}},\"id\":\"a0e50fe7-5ba3-4730-bdc1-a1b6a92a6706\",\"type\":\"BoxZoomTool\"},{\"attributes\":{\"source\":{\"id\":\"89cd69f1-83bc-4c65-b485-ebe24ffca3b0\",\"type\":\"ColumnDataSource\"}},\"id\":\"15d0315a-6bad-4bbb-b50c-84100919e070\",\"type\":\"CDSView\"},{\"attributes\":{},\"id\":\"6d744709-09c9-4c8c-88cd-385d29959b35\",\"type\":\"HelpTool\"},{\"attributes\":{\"plot\":{\"id\":\"f60ea0a6-fa9c-4a37-8247-dc5685aaaabf\",\"subtype\":\"Figure\",\"type\":\"Plot\"},\"ticker\":{\"id\":\"0a4f4933-4718-4aa7-bd3c-0026c3c67e86\",\"type\":\"BasicTicker\"}},\"id\":\"37a1f079-a5be-4338-b32d-d3f6dd61aa50\",\"type\":\"Grid\"},{\"attributes\":{\"source\":{\"id\":\"08101944-0eff-4c16-b058-60a2478d9194\",\"type\":\"ColumnDataSource\"}},\"id\":\"e9ee110c-15a2-42d5-a54e-5e5d85fb79f3\",\"type\":\"CDSView\"},{\"attributes\":{\"plot\":{\"id\":\"5036016a-7e22-407a-a785-c4c0572c18ec\",\"subtype\":\"Figure\",\"type\":\"Plot\"},\"ticker\":{\"id\":\"2d1768b0-97a5-4b2d-a39b-c5dad5a08aa3\",\"type\":\"BasicTicker\"}},\"id\":\"030ae8ef-afc3-4fd7-8168-038102514961\",\"type\":\"Grid\"},{\"attributes\":{},\"id\":\"0a4f4933-4718-4aa7-bd3c-0026c3c67e86\",\"type\":\"BasicTicker\"},{\"attributes\":{},\"id\":\"69af311e-a3ec-4a0c-b49c-c7f8b9e64078\",\"type\":\"SaveTool\"},{\"attributes\":{\"callback\":null,\"data\":{\"x\":{\"__ndarray__\":\"R/KIaN7AVEClCeJMyPNGQOvRhpxr30JAptxzhxx4PkA7SssMElA4QK6Bp3CyUDNAsVXpjES9LkBFhUV0+5coQMHYwqbbySNA6f09nM3nH0CaSd/3eYoZQDmgiAOW8BNAPYqARh3eDEBkm4vCgvr+P9D+5tWhQfY/P8DwKRnSAkBq38kb17ILQDT7IWuSsxFAUr2Rjm0FFkAinq3s9XgbQGCHwtYcqSFAG64kT303J0C7dRDneyooQD9JYrbK8yRA9S3bneHhIUAIymSuUMMcQIkHLe6VEBdAAau3cITREkA6CiNvkQIPQJU39ki7IQlAaAvwok1UA0BXLQiS4+L7P0xzDpJ2hPI/NNuPGMbJ5z91mUVYxqfSPxqwUPSxZca/G11peifD3L8QzNj5t2jTvwzOozTL360/SPJ4VI1VzD9KJ0nXEIncP8yDdlvHt+4/Et49nYLW9z++2teD4Jn+P+568eH/bwFALf5D9lmAAkCiZAicVOkCQPPT4jNKxwJAOjp3wTzBAUBSQsKNGisBQG4OmjqJwQBAJ3sZoHFuAEA5Ar0Sdi0AQGy4rw5+9f8/7W4nSrC3/z8mPr8zj4T/P4UYRHCQS/8/embVKYcF/z+5YXG+LLP+P/qb8BVUgf4/KvafTtyO/j/avAK1Ppv+PwJV9VVm2P0/JFtYlU/n/D9sN+q2fiX6Pw44e41PNPc/Opt+Z/wN9T+x3vcSW1vzP9ofvWQJlvI/8sciQQBW8j80sfkQa17yPzg5qng2r/I/Oh14WJBh8z+VZjnpctj0P6CcrSuCqQBA\",\"dtype\":\"float64\",\"shape\":[75]},\"y\":{\"__ndarray__\":\"GhExyth1ND/Sv8nbtpRIP2vylNV0PVE/aTum7souWD/At0SJ8fVgPw3Iuahxymc/MSNhhJWvcD/bTfBN02d3P2zb5nxnaoA/CD5h5MAGhz8NmeH1TyaQP+zrCsc9p5Y/LbKd76fGnz/bLW5ISEmmPww9YvTcQq8/JV2OstnstT8Er5Y7M8G+P0c+r3jqkcU/5h99k6ZBzj88bCIzFzjVP4enV8oyxN0//yH99nXg5D8qOpLLf0jtP5kqGJXUifQ/c9cS8kHP/D+/DpwzojQEQIEmwoanVwxA4lgXt9HgE0BSSZ2AJuIbQAMJih9jjiNA5q4l5INuK0AwTKYKRj0zQNv5fmq8/DpAaCJseHrtQkB/+zpwzoxKQM3MzMzMeFJAZmZmZmZqWEAAAAAAAFxeQM3MzMzMJmJAmpmZmZkfZUBmZmZmZhhoQDMzMzMzEWtAAAAAAAAKbkBmZmZmZoFwQM3MzMzM/XFAMzMzMzN6c0CamZmZmfZ0QAAAAAAAc3ZAZmZmZmbvd0DNzMzMzGt5QDMzMzMz6HpAmpmZmZlkfEAAAAAAAOF9QGZmZmZmXX9AZmZmZuZsgECamZmZGSuBQM3MzMxM6YFAAAAAAICngkAzMzMzs2WDQGZmZmbmI4RAmpmZmRnihEDNzMzMTKCFQAAAAACAXoZAMzMzM7Mch0BmZmZm5tqHQJqZmZkZmYhAzczMzExXiUAAAAAAgBWKQDMzMzOz04pAZmZmZuaRi0CamZmZGVCMQM3MzMxMDo1AAAAAAIDMjUAzMzMzs4qOQGZmZmbmSI9A\",\"dtype\":\"float64\",\"shape\":[75]}},\"selected\":{\"id\":\"4e9ac12f-461d-4b25-9cf4-695b8741e016\",\"type\":\"Selection\"},\"selection_policy\":{\"id\":\"3429e1fb-3b94-40a4-92c2-e3a8fc61d0eb\",\"type\":\"UnionRenderers\"}},\"id\":\"7d4ee5e4-8a12-4993-b47f-f74c8ab72424\",\"type\":\"ColumnDataSource\"},{\"attributes\":{\"items\":[{\"id\":\"61591b41-0181-4c2c-9db7-0b4bac88c044\",\"type\":\"LegendItem\"}],\"label_text_font_size\":{\"value\":\"8pt\"},\"location\":\"top_center\",\"orientation\":\"horizontal\",\"plot\":{\"id\":\"f60ea0a6-fa9c-4a37-8247-dc5685aaaabf\",\"subtype\":\"Figure\",\"type\":\"Plot\"}},\"id\":\"61ff17be-cd7a-42e4-975e-c38986b58fb4\",\"type\":\"Legend\"},{\"attributes\":{\"overlay\":{\"id\":\"a9733e05-5dcd-4242-b93b-5af1032af829\",\"type\":\"BoxAnnotation\"}},\"id\":\"f9c63570-7d55-42fb-a658-a47949935a1b\",\"type\":\"BoxZoomTool\"},{\"attributes\":{\"line_alpha\":0.1,\"line_color\":\"#1f77b4\",\"line_width\":1.5,\"x\":{\"field\":\"x\"},\"y\":{\"field\":\"y\"}},\"id\":\"67f46eb8-152d-4c15-8c29-2f8e082367b5\",\"type\":\"Line\"},{\"attributes\":{\"callback\":null,\"end\":0.559653710163221,\"start\":-1.3413067872931217},\"id\":\"b67d1636-fc63-4743-addb-e9d0cee2712a\",\"type\":\"Range1d\"},{\"attributes\":{\"data_source\":{\"id\":\"08101944-0eff-4c16-b058-60a2478d9194\",\"type\":\"ColumnDataSource\"},\"glyph\":{\"id\":\"4751ec09-17f8-4e17-a7cf-aad2a8a1eb79\",\"type\":\"Circle\"},\"hover_glyph\":null,\"muted_glyph\":null,\"nonselection_glyph\":{\"id\":\"8bd2d8e9-3bab-403c-b5f4-8ae6a98f9559\",\"type\":\"Circle\"},\"selection_glyph\":null,\"view\":{\"id\":\"e9ee110c-15a2-42d5-a54e-5e5d85fb79f3\",\"type\":\"CDSView\"}},\"id\":\"074d9083-9a4c-474e-b4ba-66a1555c0657\",\"type\":\"GlyphRenderer\"},{\"attributes\":{\"data_source\":{\"id\":\"89cd69f1-83bc-4c65-b485-ebe24ffca3b0\",\"type\":\"ColumnDataSource\"},\"glyph\":{\"id\":\"1589b861-fa0a-4f1a-b7f2-9feca3a35e95\",\"type\":\"Line\"},\"hover_glyph\":null,\"muted_glyph\":null,\"nonselection_glyph\":{\"id\":\"affa72f6-8631-4e81-895d-b6d57b414010\",\"type\":\"Line\"},\"selection_glyph\":null,\"view\":{\"id\":\"15d0315a-6bad-4bbb-b50c-84100919e070\",\"type\":\"CDSView\"}},\"id\":\"b515789d-efe9-4eda-9de0-2c725211a7ac\",\"type\":\"GlyphRenderer\"},{\"attributes\":{\"callback\":null,\"data\":{\"x\":{\"__ndarray__\":\"R/KIaN7AVEClCeJMyPNGQOvRhpxr30JAptxzhxx4PkA7SssMElA4QK6Bp3CyUDNAsVXpjES9LkBFhUV0+5coQMHYwqbbySNA6f09nM3nH0CaSd/3eYoZQDmgiAOW8BNAPYqARh3eDEBkm4vCgvr+P9D+5tWhQfY/P8DwKRnSAkBq38kb17ILQDT7IWuSsxFAUr2Rjm0FFkAinq3s9XgbQGCHwtYcqSFAG64kT303J0C7dRDneyooQD9JYrbK8yRA9S3bneHhIUAIymSuUMMcQIkHLe6VEBdAAau3cITREkA6CiNvkQIPQJU39ki7IQlAaAvwok1UA0BXLQiS4+L7P0xzDpJ2hPI/NNuPGMbJ5z91mUVYxqfSPxqwUPSxZca/G11peifD3L8QzNj5t2jTvwzOozTL360/SPJ4VI1VzD9KJ0nXEIncP8yDdlvHt+4/Et49nYLW9z++2teD4Jn+P+568eH/bwFALf5D9lmAAkCiZAicVOkCQPPT4jNKxwJAOjp3wTzBAUBSQsKNGisBQG4OmjqJwQBAJ3sZoHFuAEA5Ar0Sdi0AQGy4rw5+9f8/7W4nSrC3/z8mPr8zj4T/P4UYRHCQS/8/embVKYcF/z+5YXG+LLP+P/qb8BVUgf4/KvafTtyO/j/avAK1Ppv+PwJV9VVm2P0/JFtYlU/n/D9sN+q2fiX6Pw44e41PNPc/Opt+Z/wN9T+x3vcSW1vzP9ofvWQJlvI/8sciQQBW8j80sfkQa17yPzg5qng2r/I/Oh14WJBh8z+VZjnpctj0P6CcrSuCqQBA\",\"dtype\":\"float64\",\"shape\":[75]},\"y\":{\"__ndarray__\":\"GhExyth1ND/Sv8nbtpRIP2vylNV0PVE/aTum7souWD/At0SJ8fVgPw3Iuahxymc/MSNhhJWvcD/bTfBN02d3P2zb5nxnaoA/CD5h5MAGhz8NmeH1TyaQP+zrCsc9p5Y/LbKd76fGnz/bLW5ISEmmPww9YvTcQq8/JV2OstnstT8Er5Y7M8G+P0c+r3jqkcU/5h99k6ZBzj88bCIzFzjVP4enV8oyxN0//yH99nXg5D8qOpLLf0jtP5kqGJXUifQ/c9cS8kHP/D+/DpwzojQEQIEmwoanVwxA4lgXt9HgE0BSSZ2AJuIbQAMJih9jjiNA5q4l5INuK0AwTKYKRj0zQNv5fmq8/DpAaCJseHrtQkB/+zpwzoxKQM3MzMzMeFJAZmZmZmZqWEAAAAAAAFxeQM3MzMzMJmJAmpmZmZkfZUBmZmZmZhhoQDMzMzMzEWtAAAAAAAAKbkBmZmZmZoFwQM3MzMzM/XFAMzMzMzN6c0CamZmZmfZ0QAAAAAAAc3ZAZmZmZmbvd0DNzMzMzGt5QDMzMzMz6HpAmpmZmZlkfEAAAAAAAOF9QGZmZmZmXX9AZmZmZuZsgECamZmZGSuBQM3MzMxM6YFAAAAAAICngkAzMzMzs2WDQGZmZmbmI4RAmpmZmRnihEDNzMzMTKCFQAAAAACAXoZAMzMzM7Mch0BmZmZm5tqHQJqZmZkZmYhAzczMzExXiUAAAAAAgBWKQDMzMzOz04pAZmZmZuaRi0CamZmZGVCMQM3MzMxMDo1AAAAAAIDMjUAzMzMzs4qOQGZmZmbmSI9A\",\"dtype\":\"float64\",\"shape\":[75]}},\"selected\":{\"id\":\"0765bb78-37ee-4bef-89ea-02c3132347fb\",\"type\":\"Selection\"},\"selection_policy\":{\"id\":\"0a95a73f-fead-400d-974c-cb7d0560963a\",\"type\":\"UnionRenderers\"}},\"id\":\"08101944-0eff-4c16-b058-60a2478d9194\",\"type\":\"ColumnDataSource\"},{\"attributes\":{\"axis_label\":\"pressure [mb]\",\"formatter\":{\"id\":\"0f8f7347-8ae5-48ba-a451-c5cc7579c53d\",\"type\":\"LogTickFormatter\"},\"plot\":{\"id\":\"f60ea0a6-fa9c-4a37-8247-dc5685aaaabf\",\"subtype\":\"Figure\",\"type\":\"Plot\"},\"ticker\":{\"id\":\"492582a8-6757-4dee-bc50-4590d60ed477\",\"type\":\"LogTicker\"}},\"id\":\"b8df7574-c58d-44e3-82c5-06246c968d99\",\"type\":\"LogAxis\"},{\"attributes\":{\"line_color\":\"#4daf4a\",\"line_width\":1.5,\"x\":{\"field\":\"x\"},\"y\":{\"field\":\"y\"}},\"id\":\"b339515e-f8a5-4730-86d4-1b5933653366\",\"type\":\"Line\"},{\"attributes\":{},\"id\":\"fe0fae3d-6672-494b-b6a2-286f3f7417da\",\"type\":\"Selection\"},{\"attributes\":{},\"id\":\"97b2a3b2-6365-46cd-9c84-88e1f197a1fb\",\"type\":\"LogScale\"},{\"attributes\":{\"axis_label\":\"cooling rate [K/day]\",\"formatter\":{\"id\":\"b5926711-ab2c-4930-bcbd-298c2e057bee\",\"type\":\"BasicTickFormatter\"},\"plot\":{\"id\":\"f60ea0a6-fa9c-4a37-8247-dc5685aaaabf\",\"subtype\":\"Figure\",\"type\":\"Plot\"},\"ticker\":{\"id\":\"0a4f4933-4718-4aa7-bd3c-0026c3c67e86\",\"type\":\"BasicTicker\"}},\"id\":\"7777544c-b42a-4744-97f4-32f0dae1813c\",\"type\":\"LinearAxis\"},{\"attributes\":{},\"id\":\"c68d5a75-ce83-4cc5-8fee-782ba56cad53\",\"type\":\"LinearScale\"},{\"attributes\":{\"bottom_units\":\"screen\",\"fill_alpha\":{\"value\":0.5},\"fill_color\":{\"value\":\"lightgrey\"},\"left_units\":\"screen\",\"level\":\"overlay\",\"line_alpha\":{\"value\":1.0},\"line_color\":{\"value\":\"black\"},\"line_dash\":[4,4],\"line_width\":{\"value\":2},\"plot\":null,\"render_mode\":\"css\",\"right_units\":\"screen\",\"top_units\":\"screen\"},\"id\":\"a9733e05-5dcd-4242-b93b-5af1032af829\",\"type\":\"BoxAnnotation\"},{\"attributes\":{\"fill_alpha\":{\"value\":0.1},\"fill_color\":{\"value\":\"#1f77b4\"},\"line_alpha\":{\"value\":0.1},\"line_color\":{\"value\":\"#1f77b4\"},\"x\":{\"field\":\"x\"},\"y\":{\"field\":\"y\"}},\"id\":\"8bd2d8e9-3bab-403c-b5f4-8ae6a98f9559\",\"type\":\"Circle\"},{\"attributes\":{\"bottom_units\":\"screen\",\"fill_alpha\":{\"value\":0.5},\"fill_color\":{\"value\":\"lightgrey\"},\"left_units\":\"screen\",\"level\":\"overlay\",\"line_alpha\":{\"value\":1.0},\"line_color\":{\"value\":\"black\"},\"line_dash\":[4,4],\"line_width\":{\"value\":2},\"plot\":null,\"render_mode\":\"css\",\"right_units\":\"screen\",\"top_units\":\"screen\"},\"id\":\"ff20aa1b-a880-49f3-b8c7-373d30008782\",\"type\":\"BoxAnnotation\"},{\"attributes\":{},\"id\":\"1d9674e4-4896-4859-98f7-bc3671b56353\",\"type\":\"WheelZoomTool\"},{\"attributes\":{},\"id\":\"5810846a-e36f-43b0-bfdb-3de124c2930b\",\"type\":\"LogScale\"},{\"attributes\":{},\"id\":\"0f5bdca8-e155-4f1d-9fda-877de8094212\",\"type\":\"SaveTool\"},{\"attributes\":{},\"id\":\"2d1768b0-97a5-4b2d-a39b-c5dad5a08aa3\",\"type\":\"BasicTicker\"},{\"attributes\":{\"callback\":null,\"end\":0.01,\"start\":1020},\"id\":\"e9b8ef68-b948-48cf-bab1-d2de0886169e\",\"type\":\"Range1d\"},{\"attributes\":{\"label\":{\"value\":\"CLIRAD (single-run)\"},\"renderers\":[{\"id\":\"66b6aed4-d04a-4124-bec4-fd15a5371b2b\",\"type\":\"GlyphRenderer\"}]},\"id\":\"f2e38038-bebc-4cfe-ad4e-1e1ca46d3bba\",\"type\":\"LegendItem\"},{\"attributes\":{\"label\":{\"value\":\"CLIRAD (single-run)\"},\"renderers\":[{\"id\":\"b515789d-efe9-4eda-9de0-2c725211a7ac\",\"type\":\"GlyphRenderer\"}]},\"id\":\"5b863e87-2b7a-46cc-8898-a4a4faab72be\",\"type\":\"LegendItem\"},{\"attributes\":{\"line_alpha\":0.6,\"line_color\":\"#377eb8\",\"line_dash\":[6],\"line_width\":5,\"x\":{\"field\":\"x\"},\"y\":{\"field\":\"y\"}},\"id\":\"1589b861-fa0a-4f1a-b7f2-9feca3a35e95\",\"type\":\"Line\"},{\"attributes\":{\"line_alpha\":0.1,\"line_color\":\"#1f77b4\",\"line_width\":1.5,\"x\":{\"field\":\"x\"},\"y\":{\"field\":\"y\"}},\"id\":\"ae8cf046-c21b-45bf-bd96-9fd752f61bb2\",\"type\":\"Line\"},{\"attributes\":{\"active_drag\":\"auto\",\"active_inspect\":\"auto\",\"active_scroll\":\"auto\",\"active_tap\":\"auto\",\"tools\":[{\"id\":\"96e0783d-1a24-459a-93c4-1ed27d8bc13c\",\"type\":\"PanTool\"},{\"id\":\"0d51e1fd-3a6b-4673-940a-5801cb8bfa06\",\"type\":\"WheelZoomTool\"},{\"id\":\"97d857c2-7325-4780-82ca-6f036ab72edc\",\"type\":\"BoxZoomTool\"},{\"id\":\"33c45163-74ad-4d84-be54-226d11bda353\",\"type\":\"SaveTool\"},{\"id\":\"f30253c6-5144-40b1-9045-432de6d86060\",\"type\":\"ResetTool\"},{\"id\":\"f16fa374-6291-4d54-a3a5-381413a4d275\",\"type\":\"HelpTool\"}]},\"id\":\"e59ef79a-c316-4c72-8ac4-48f6e60eb9b8\",\"type\":\"Toolbar\"},{\"attributes\":{\"line_alpha\":0.6,\"line_color\":\"#377eb8\",\"line_dash\":[6],\"line_width\":5,\"x\":{\"field\":\"x\"},\"y\":{\"field\":\"y\"}},\"id\":\"aa1a9ebe-2047-404c-832b-effd43024fc4\",\"type\":\"Line\"},{\"attributes\":{\"line_alpha\":0.1,\"line_color\":\"#1f77b4\",\"line_dash\":[6],\"line_width\":5,\"x\":{\"field\":\"x\"},\"y\":{\"field\":\"y\"}},\"id\":\"b7571124-9847-4e0c-a254-be39151fa1a4\",\"type\":\"Line\"},{\"attributes\":{\"source\":{\"id\":\"3e24e9aa-d7f9-4571-8dd7-45a8c2346514\",\"type\":\"ColumnDataSource\"}},\"id\":\"70a94a77-9c99-41d4-92ce-dd4d1f7c8b93\",\"type\":\"CDSView\"},{\"attributes\":{\"above\":[{\"id\":\"eeab00cb-d63f-4f06-a1ff-5bf5745ccca7\",\"type\":\"Legend\"}],\"below\":[{\"id\":\"22c9093b-1a59-487d-bc58-f3b891ece987\",\"type\":\"LinearAxis\"}],\"left\":[{\"id\":\"95167a99-2131-4e9c-94a5-098e96db5b32\",\"type\":\"LinearAxis\"}],\"plot_width\":300,\"renderers\":[{\"id\":\"22c9093b-1a59-487d-bc58-f3b891ece987\",\"type\":\"LinearAxis\"},{\"id\":\"f6dd0555-1dca-4265-a056-4cb58b61e529\",\"type\":\"Grid\"},{\"id\":\"95167a99-2131-4e9c-94a5-098e96db5b32\",\"type\":\"LinearAxis\"},{\"id\":\"39ed8c66-fbda-4992-812b-1791e9f7ce83\",\"type\":\"Grid\"},{\"id\":\"ff20aa1b-a880-49f3-b8c7-373d30008782\",\"type\":\"BoxAnnotation\"},{\"id\":\"66b6aed4-d04a-4124-bec4-fd15a5371b2b\",\"type\":\"GlyphRenderer\"},{\"id\":\"af10abac-7649-41fe-8eda-507471a47523\",\"type\":\"GlyphRenderer\"},{\"id\":\"60231993-b99e-4356-96e9-a41f710ba5be\",\"type\":\"GlyphRenderer\"},{\"id\":\"eeab00cb-d63f-4f06-a1ff-5bf5745ccca7\",\"type\":\"Legend\"}],\"title\":{\"id\":\"90c95811-760e-4bfe-9c65-287ca81711e2\",\"type\":\"Title\"},\"toolbar\":{\"id\":\"219b28e1-9173-491a-9f60-06d5c4ad2595\",\"type\":\"Toolbar\"},\"toolbar_location\":null,\"x_range\":{\"id\":\"9b815976-c484-4d1b-9195-35cfe036000e\",\"type\":\"Range1d\"},\"x_scale\":{\"id\":\"f5c7e8b1-21e3-4120-bcca-98cce3183c10\",\"type\":\"LinearScale\"},\"y_range\":{\"id\":\"ad4d27e1-6ab3-42af-a496-1798fce6c7e6\",\"type\":\"Range1d\"},\"y_scale\":{\"id\":\"f1684dfa-a0c0-4109-afca-fd4c0b4846c6\",\"type\":\"LinearScale\"}},\"id\":\"f7e2370d-452e-4520-bc50-63dce269a98c\",\"subtype\":\"Figure\",\"type\":\"Plot\"},{\"attributes\":{\"above\":[{\"id\":\"85d75d3e-a478-4194-bdc8-b5239ad92c6a\",\"type\":\"Legend\"}],\"below\":[{\"id\":\"4967dc7b-fb08-4fc8-9e45-0d6dc1006fa3\",\"type\":\"LinearAxis\"}],\"left\":[{\"id\":\"bd9d83c4-cad9-4f19-94de-ea9f29f4564c\",\"type\":\"LogAxis\"}],\"plot_width\":300,\"renderers\":[{\"id\":\"4967dc7b-fb08-4fc8-9e45-0d6dc1006fa3\",\"type\":\"LinearAxis\"},{\"id\":\"030ae8ef-afc3-4fd7-8168-038102514961\",\"type\":\"Grid\"},{\"id\":\"bd9d83c4-cad9-4f19-94de-ea9f29f4564c\",\"type\":\"LogAxis\"},{\"id\":\"da1bbc8d-54b7-4cfe-89fd-59ce801716e2\",\"type\":\"Grid\"},{\"id\":\"f0110c0b-0584-4ad5-b0cc-26726a68d65f\",\"type\":\"BoxAnnotation\"},{\"id\":\"b515789d-efe9-4eda-9de0-2c725211a7ac\",\"type\":\"GlyphRenderer\"},{\"id\":\"074d9083-9a4c-474e-b4ba-66a1555c0657\",\"type\":\"GlyphRenderer\"},{\"id\":\"f33d8f66-7cbf-4d00-bf3a-29d53bcdcdf9\",\"type\":\"GlyphRenderer\"},{\"id\":\"85d75d3e-a478-4194-bdc8-b5239ad92c6a\",\"type\":\"Legend\"}],\"title\":{\"id\":\"e6352469-8fa2-498d-864c-7ac9ffe7e86a\",\"type\":\"Title\"},\"toolbar\":{\"id\":\"e59ef79a-c316-4c72-8ac4-48f6e60eb9b8\",\"type\":\"Toolbar\"},\"toolbar_location\":null,\"x_range\":{\"id\":\"3437b113-f1af-4fd8-89c8-a73de9048c20\",\"type\":\"Range1d\"},\"x_scale\":{\"id\":\"9fd2de09-47d3-447c-b4b7-e214ba7a7189\",\"type\":\"LinearScale\"},\"y_range\":{\"id\":\"84605aa1-8105-4d34-b6ce-185919519ee4\",\"type\":\"Range1d\"},\"y_scale\":{\"id\":\"5810846a-e36f-43b0-bfdb-3de124c2930b\",\"type\":\"LogScale\"}},\"id\":\"5036016a-7e22-407a-a785-c4c0572c18ec\",\"subtype\":\"Figure\",\"type\":\"Plot\"},{\"attributes\":{\"callback\":null,\"end\":0.01,\"start\":1020},\"id\":\"84605aa1-8105-4d34-b6ce-185919519ee4\",\"type\":\"Range1d\"},{\"attributes\":{\"callback\":null,\"data\":{\"x\":{\"__ndarray__\":\"R/KIaN7AVEClCeJMyPNGQOvRhpxr30JAptxzhxx4PkA7SssMElA4QK6Bp3CyUDNAsVXpjES9LkBFhUV0+5coQMHYwqbbySNA6f09nM3nH0CaSd/3eYoZQDmgiAOW8BNAPYqARh3eDEBkm4vCgvr+P9D+5tWhQfY/P8DwKRnSAkBq38kb17ILQDT7IWuSsxFAUr2Rjm0FFkAinq3s9XgbQGCHwtYcqSFAG64kT303J0C7dRDneyooQD9JYrbK8yRA9S3bneHhIUAIymSuUMMcQIkHLe6VEBdAAau3cITREkA6CiNvkQIPQJU39ki7IQlAaAvwok1UA0BXLQiS4+L7P0xzDpJ2hPI/NNuPGMbJ5z91mUVYxqfSPxqwUPSxZca/G11peifD3L8QzNj5t2jTvwzOozTL360/SPJ4VI1VzD9KJ0nXEIncP8yDdlvHt+4/Et49nYLW9z++2teD4Jn+P+568eH/bwFALf5D9lmAAkCiZAicVOkCQPPT4jNKxwJAOjp3wTzBAUBSQsKNGisBQG4OmjqJwQBAJ3sZoHFuAEA5Ar0Sdi0AQGy4rw5+9f8/7W4nSrC3/z8mPr8zj4T/P4UYRHCQS/8/embVKYcF/z+5YXG+LLP+P/qb8BVUgf4/KvafTtyO/j/avAK1Ppv+PwJV9VVm2P0/JFtYlU/n/D9sN+q2fiX6Pw44e41PNPc/Opt+Z/wN9T+x3vcSW1vzP9ofvWQJlvI/8sciQQBW8j80sfkQa17yPzg5qng2r/I/Oh14WJBh8z+VZjnpctj0P6CcrSuCqQBA\",\"dtype\":\"float64\",\"shape\":[75]},\"y\":{\"__ndarray__\":\"GhExyth1ND/Sv8nbtpRIP2vylNV0PVE/aTum7souWD/At0SJ8fVgPw3Iuahxymc/MSNhhJWvcD/bTfBN02d3P2zb5nxnaoA/CD5h5MAGhz8NmeH1TyaQP+zrCsc9p5Y/LbKd76fGnz/bLW5ISEmmPww9YvTcQq8/JV2OstnstT8Er5Y7M8G+P0c+r3jqkcU/5h99k6ZBzj88bCIzFzjVP4enV8oyxN0//yH99nXg5D8qOpLLf0jtP5kqGJXUifQ/c9cS8kHP/D+/DpwzojQEQIEmwoanVwxA4lgXt9HgE0BSSZ2AJuIbQAMJih9jjiNA5q4l5INuK0AwTKYKRj0zQNv5fmq8/DpAaCJseHrtQkB/+zpwzoxKQM3MzMzMeFJAZmZmZmZqWEAAAAAAAFxeQM3MzMzMJmJAmpmZmZkfZUBmZmZmZhhoQDMzMzMzEWtAAAAAAAAKbkBmZmZmZoFwQM3MzMzM/XFAMzMzMzN6c0CamZmZmfZ0QAAAAAAAc3ZAZmZmZmbvd0DNzMzMzGt5QDMzMzMz6HpAmpmZmZlkfEAAAAAAAOF9QGZmZmZmXX9AZmZmZuZsgECamZmZGSuBQM3MzMxM6YFAAAAAAICngkAzMzMzs2WDQGZmZmbmI4RAmpmZmRnihEDNzMzMTKCFQAAAAACAXoZAMzMzM7Mch0BmZmZm5tqHQJqZmZkZmYhAzczMzExXiUAAAAAAgBWKQDMzMzOz04pAZmZmZuaRi0CamZmZGVCMQM3MzMxMDo1AAAAAAIDMjUAzMzMzs4qOQGZmZmbmSI9A\",\"dtype\":\"float64\",\"shape\":[75]}},\"selected\":{\"id\":\"c9ee0f20-b45d-49a3-af4b-e4e7b0802f53\",\"type\":\"Selection\"},\"selection_policy\":{\"id\":\"e4d66814-d57b-45fa-95e3-67e9449f46cf\",\"type\":\"UnionRenderers\"}},\"id\":\"3e24e9aa-d7f9-4571-8dd7-45a8c2346514\",\"type\":\"ColumnDataSource\"},{\"attributes\":{\"label\":{\"value\":\"CRD\"},\"renderers\":[{\"id\":\"af10abac-7649-41fe-8eda-507471a47523\",\"type\":\"GlyphRenderer\"},{\"id\":\"60231993-b99e-4356-96e9-a41f710ba5be\",\"type\":\"GlyphRenderer\"}]},\"id\":\"ee046196-472f-42b0-8707-66afb5b33a55\",\"type\":\"LegendItem\"},{\"attributes\":{\"line_color\":\"#4daf4a\",\"line_width\":1.5,\"x\":{\"field\":\"x\"},\"y\":{\"field\":\"y\"}},\"id\":\"ed7c98d2-ea44-443b-8a42-f51a655e4a47\",\"type\":\"Line\"},{\"attributes\":{\"data_source\":{\"id\":\"3e24e9aa-d7f9-4571-8dd7-45a8c2346514\",\"type\":\"ColumnDataSource\"},\"glyph\":{\"id\":\"ed7c98d2-ea44-443b-8a42-f51a655e4a47\",\"type\":\"Line\"},\"hover_glyph\":null,\"muted_glyph\":null,\"nonselection_glyph\":{\"id\":\"ae8cf046-c21b-45bf-bd96-9fd752f61bb2\",\"type\":\"Line\"},\"selection_glyph\":null,\"view\":{\"id\":\"70a94a77-9c99-41d4-92ce-dd4d1f7c8b93\",\"type\":\"CDSView\"}},\"id\":\"60231993-b99e-4356-96e9-a41f710ba5be\",\"type\":\"GlyphRenderer\"},{\"attributes\":{\"data_source\":{\"id\":\"b998be15-6f50-4813-9216-5d7d047e11a8\",\"type\":\"ColumnDataSource\"},\"glyph\":{\"id\":\"aa1a9ebe-2047-404c-832b-effd43024fc4\",\"type\":\"Line\"},\"hover_glyph\":null,\"muted_glyph\":null,\"nonselection_glyph\":{\"id\":\"b7571124-9847-4e0c-a254-be39151fa1a4\",\"type\":\"Line\"},\"selection_glyph\":null,\"view\":{\"id\":\"45fcdb61-87a7-4913-9401-ef9210f0c56b\",\"type\":\"CDSView\"}},\"id\":\"66b6aed4-d04a-4124-bec4-fd15a5371b2b\",\"type\":\"GlyphRenderer\"},{\"attributes\":{},\"id\":\"f5c7e8b1-21e3-4120-bcca-98cce3183c10\",\"type\":\"LinearScale\"},{\"attributes\":{},\"id\":\"0765bb78-37ee-4bef-89ea-02c3132347fb\",\"type\":\"Selection\"},{\"attributes\":{\"ticker\":null},\"id\":\"0f8f7347-8ae5-48ba-a451-c5cc7579c53d\",\"type\":\"LogTickFormatter\"},{\"attributes\":{\"callback\":null,\"end\":0.01,\"start\":1020},\"id\":\"ad4d27e1-6ab3-42af-a496-1798fce6c7e6\",\"type\":\"Range1d\"},{\"attributes\":{\"items\":[{\"id\":\"f2e38038-bebc-4cfe-ad4e-1e1ca46d3bba\",\"type\":\"LegendItem\"},{\"id\":\"ee046196-472f-42b0-8707-66afb5b33a55\",\"type\":\"LegendItem\"}],\"label_text_font_size\":{\"value\":\"8pt\"},\"location\":\"top_center\",\"orientation\":\"horizontal\",\"plot\":{\"id\":\"f7e2370d-452e-4520-bc50-63dce269a98c\",\"subtype\":\"Figure\",\"type\":\"Plot\"}},\"id\":\"eeab00cb-d63f-4f06-a1ff-5bf5745ccca7\",\"type\":\"Legend\"},{\"attributes\":{\"children\":[{\"id\":\"904dad0c-6b4d-4671-a55a-64bd8f4fc7bb\",\"type\":\"ToolbarBox\"},{\"id\":\"6ffae734-ddaa-4a69-a9b9-bbb6d2318211\",\"type\":\"Column\"}]},\"id\":\"4b6a08f6-2c2f-4c13-8fc8-25addeb32b0f\",\"type\":\"Column\"},{\"attributes\":{},\"id\":\"2625578b-b8cd-4a44-b677-4e8e232c50b2\",\"type\":\"Selection\"},{\"attributes\":{},\"id\":\"c892f384-a29f-4f91-a91a-b05a2060634a\",\"type\":\"PanTool\"},{\"attributes\":{},\"id\":\"b5926711-ab2c-4930-bcbd-298c2e057bee\",\"type\":\"BasicTickFormatter\"},{\"attributes\":{},\"id\":\"22a619f5-1458-4be4-9c0e-be4ca1c3d8ec\",\"type\":\"BasicTicker\"},{\"attributes\":{\"fill_alpha\":{\"value\":0.1},\"fill_color\":{\"value\":\"#1f77b4\"},\"line_alpha\":{\"value\":0.1},\"line_color\":{\"value\":\"#1f77b4\"},\"x\":{\"field\":\"x\"},\"y\":{\"field\":\"y\"}},\"id\":\"cf41fdef-d2f9-4efa-bbb4-82cb6abd4357\",\"type\":\"Circle\"},{\"attributes\":{\"plot\":null,\"text\":\"\"},\"id\":\"44765dc0-f433-4b83-810d-1e974b35d62c\",\"type\":\"Title\"},{\"attributes\":{\"callback\":null,\"data\":{\"x\":{\"__ndarray__\":\"R/KIaN7AVEClCeJMyPNGQOvRhpxr30JAptxzhxx4PkA7SssMElA4QK6Bp3CyUDNAsVXpjES9LkBFhUV0+5coQMHYwqbbySNA6f09nM3nH0CaSd/3eYoZQDmgiAOW8BNAPYqARh3eDEBkm4vCgvr+P9D+5tWhQfY/P8DwKRnSAkBq38kb17ILQDT7IWuSsxFAUr2Rjm0FFkAinq3s9XgbQGCHwtYcqSFAG64kT303J0C7dRDneyooQD9JYrbK8yRA9S3bneHhIUAIymSuUMMcQIkHLe6VEBdAAau3cITREkA6CiNvkQIPQJU39ki7IQlAaAvwok1UA0BXLQiS4+L7P0xzDpJ2hPI/NNuPGMbJ5z91mUVYxqfSPxqwUPSxZca/G11peifD3L8QzNj5t2jTvwzOozTL360/SPJ4VI1VzD9KJ0nXEIncP8yDdlvHt+4/Et49nYLW9z++2teD4Jn+P+568eH/bwFALf5D9lmAAkCiZAicVOkCQPPT4jNKxwJAOjp3wTzBAUBSQsKNGisBQG4OmjqJwQBAJ3sZoHFuAEA5Ar0Sdi0AQGy4rw5+9f8/7W4nSrC3/z8mPr8zj4T/P4UYRHCQS/8/embVKYcF/z+5YXG+LLP+P/qb8BVUgf4/KvafTtyO/j/avAK1Ppv+PwJV9VVm2P0/JFtYlU/n/D9sN+q2fiX6Pw44e41PNPc/Opt+Z/wN9T+x3vcSW1vzP9ofvWQJlvI/8sciQQBW8j80sfkQa17yPzg5qng2r/I/Oh14WJBh8z+VZjnpctj0P6CcrSuCqQBA\",\"dtype\":\"float64\",\"shape\":[75]},\"y\":{\"__ndarray__\":\"GhExyth1ND/Sv8nbtpRIP2vylNV0PVE/aTum7souWD/At0SJ8fVgPw3Iuahxymc/MSNhhJWvcD/bTfBN02d3P2zb5nxnaoA/CD5h5MAGhz8NmeH1TyaQP+zrCsc9p5Y/LbKd76fGnz/bLW5ISEmmPww9YvTcQq8/JV2OstnstT8Er5Y7M8G+P0c+r3jqkcU/5h99k6ZBzj88bCIzFzjVP4enV8oyxN0//yH99nXg5D8qOpLLf0jtP5kqGJXUifQ/c9cS8kHP/D+/DpwzojQEQIEmwoanVwxA4lgXt9HgE0BSSZ2AJuIbQAMJih9jjiNA5q4l5INuK0AwTKYKRj0zQNv5fmq8/DpAaCJseHrtQkB/+zpwzoxKQM3MzMzMeFJAZmZmZmZqWEAAAAAAAFxeQM3MzMzMJmJAmpmZmZkfZUBmZmZmZhhoQDMzMzMzEWtAAAAAAAAKbkBmZmZmZoFwQM3MzMzM/XFAMzMzMzN6c0CamZmZmfZ0QAAAAAAAc3ZAZmZmZmbvd0DNzMzMzGt5QDMzMzMz6HpAmpmZmZlkfEAAAAAAAOF9QGZmZmZmXX9AZmZmZuZsgECamZmZGSuBQM3MzMxM6YFAAAAAAICngkAzMzMzs2WDQGZmZmbmI4RAmpmZmRnihEDNzMzMTKCFQAAAAACAXoZAMzMzM7Mch0BmZmZm5tqHQJqZmZkZmYhAzczMzExXiUAAAAAAgBWKQDMzMzOz04pAZmZmZuaRi0CamZmZGVCMQM3MzMxMDo1AAAAAAIDMjUAzMzMzs4qOQGZmZmbmSI9A\",\"dtype\":\"float64\",\"shape\":[75]}},\"selected\":{\"id\":\"b9d5d641-b99d-407f-917b-b6ba1faac659\",\"type\":\"Selection\"},\"selection_policy\":{\"id\":\"c798284a-cddf-4810-b3e9-be50456aa54d\",\"type\":\"UnionRenderers\"}},\"id\":\"27b83a99-67ba-4018-901c-33e5468d0e30\",\"type\":\"ColumnDataSource\"},{\"attributes\":{},\"id\":\"abdb52d9-223f-4b14-bb36-86cd1af2a255\",\"type\":\"UnionRenderers\"},{\"attributes\":{\"toolbar\":{\"id\":\"2b39e060-6e50-4498-b042-08c194a226da\",\"type\":\"ProxyToolbar\"},\"toolbar_location\":\"above\"},\"id\":\"904dad0c-6b4d-4671-a55a-64bd8f4fc7bb\",\"type\":\"ToolbarBox\"},{\"attributes\":{\"tools\":[{\"id\":\"c892f384-a29f-4f91-a91a-b05a2060634a\",\"type\":\"PanTool\"},{\"id\":\"5130c807-653f-429e-bc3c-0690ef9e1d72\",\"type\":\"WheelZoomTool\"},{\"id\":\"a0e50fe7-5ba3-4730-bdc1-a1b6a92a6706\",\"type\":\"BoxZoomTool\"},{\"id\":\"69af311e-a3ec-4a0c-b49c-c7f8b9e64078\",\"type\":\"SaveTool\"},{\"id\":\"26bd3fd0-7313-44f6-8869-5b9e8747e23d\",\"type\":\"ResetTool\"},{\"id\":\"44381d5e-cbcf-4a0a-b81f-0b312175b0da\",\"type\":\"HelpTool\"},{\"id\":\"96e0783d-1a24-459a-93c4-1ed27d8bc13c\",\"type\":\"PanTool\"},{\"id\":\"0d51e1fd-3a6b-4673-940a-5801cb8bfa06\",\"type\":\"WheelZoomTool\"},{\"id\":\"97d857c2-7325-4780-82ca-6f036ab72edc\",\"type\":\"BoxZoomTool\"},{\"id\":\"33c45163-74ad-4d84-be54-226d11bda353\",\"type\":\"SaveTool\"},{\"id\":\"f30253c6-5144-40b1-9045-432de6d86060\",\"type\":\"ResetTool\"},{\"id\":\"f16fa374-6291-4d54-a3a5-381413a4d275\",\"type\":\"HelpTool\"},{\"id\":\"2b263e9a-e6bb-458d-a298-58e20d85af1f\",\"type\":\"PanTool\"},{\"id\":\"1d9674e4-4896-4859-98f7-bc3671b56353\",\"type\":\"WheelZoomTool\"},{\"id\":\"f9c63570-7d55-42fb-a658-a47949935a1b\",\"type\":\"BoxZoomTool\"},{\"id\":\"0f5bdca8-e155-4f1d-9fda-877de8094212\",\"type\":\"SaveTool\"},{\"id\":\"1dbe605f-d374-4dc9-b42f-1dffe2f85070\",\"type\":\"ResetTool\"},{\"id\":\"6d744709-09c9-4c8c-88cd-385d29959b35\",\"type\":\"HelpTool\"}]},\"id\":\"2b39e060-6e50-4498-b042-08c194a226da\",\"type\":\"ProxyToolbar\"},{\"attributes\":{},\"id\":\"f1684dfa-a0c0-4109-afca-fd4c0b4846c6\",\"type\":\"LinearScale\"},{\"attributes\":{\"label\":{\"value\":\"CRD\"},\"renderers\":[{\"id\":\"074d9083-9a4c-474e-b4ba-66a1555c0657\",\"type\":\"GlyphRenderer\"},{\"id\":\"f33d8f66-7cbf-4d00-bf3a-29d53bcdcdf9\",\"type\":\"GlyphRenderer\"}]},\"id\":\"9005f578-6c81-49be-9224-e7f8b397dfbf\",\"type\":\"LegendItem\"},{\"attributes\":{},\"id\":\"3429e1fb-3b94-40a4-92c2-e3a8fc61d0eb\",\"type\":\"UnionRenderers\"},{\"attributes\":{},\"id\":\"8b7a9828-7ece-4ae9-aeb2-50c7fecd30e7\",\"type\":\"Selection\"},{\"attributes\":{\"plot\":{\"id\":\"f7e2370d-452e-4520-bc50-63dce269a98c\",\"subtype\":\"Figure\",\"type\":\"Plot\"},\"ticker\":{\"id\":\"22a619f5-1458-4be4-9c0e-be4ca1c3d8ec\",\"type\":\"BasicTicker\"}},\"id\":\"f6dd0555-1dca-4265-a056-4cb58b61e529\",\"type\":\"Grid\"},{\"attributes\":{},\"id\":\"4e9ac12f-461d-4b25-9cf4-695b8741e016\",\"type\":\"Selection\"},{\"attributes\":{\"axis_label\":\"pressure [mb]\",\"formatter\":{\"id\":\"8b051318-03f4-4d46-8c58-e3950bfb1a45\",\"type\":\"BasicTickFormatter\"},\"plot\":{\"id\":\"f7e2370d-452e-4520-bc50-63dce269a98c\",\"subtype\":\"Figure\",\"type\":\"Plot\"},\"ticker\":{\"id\":\"d153ba52-3749-4a79-a369-15d31ee81cee\",\"type\":\"BasicTicker\"}},\"id\":\"95167a99-2131-4e9c-94a5-098e96db5b32\",\"type\":\"LinearAxis\"},{\"attributes\":{\"source\":{\"id\":\"b998be15-6f50-4813-9216-5d7d047e11a8\",\"type\":\"ColumnDataSource\"}},\"id\":\"45fcdb61-87a7-4913-9401-ef9210f0c56b\",\"type\":\"CDSView\"},{\"attributes\":{},\"id\":\"1679c4ba-bc96-47ac-962e-a9ad27b7c36f\",\"type\":\"UnionRenderers\"},{\"attributes\":{\"dimension\":1,\"plot\":{\"id\":\"f7e2370d-452e-4520-bc50-63dce269a98c\",\"subtype\":\"Figure\",\"type\":\"Plot\"},\"ticker\":{\"id\":\"d153ba52-3749-4a79-a369-15d31ee81cee\",\"type\":\"BasicTicker\"}},\"id\":\"39ed8c66-fbda-4992-812b-1791e9f7ce83\",\"type\":\"Grid\"},{\"attributes\":{\"source\":{\"id\":\"27b83a99-67ba-4018-901c-33e5468d0e30\",\"type\":\"ColumnDataSource\"}},\"id\":\"7427b16b-a385-4b34-97ba-a0b797583715\",\"type\":\"CDSView\"},{\"attributes\":{\"fill_alpha\":{\"value\":0.7},\"fill_color\":{\"value\":\"#4daf4a\"},\"line_alpha\":{\"value\":0.7},\"line_color\":{\"value\":\"#4daf4a\"},\"x\":{\"field\":\"x\"},\"y\":{\"field\":\"y\"}},\"id\":\"9b91f4c3-1cf3-4b46-932f-9ee18309ea4e\",\"type\":\"Circle\"},{\"attributes\":{\"callback\":null,\"end\":2.3923448158934004,\"start\":-0.5058734760934},\"id\":\"9b815976-c484-4d1b-9195-35cfe036000e\",\"type\":\"Range1d\"},{\"attributes\":{},\"id\":\"0a95a73f-fead-400d-974c-cb7d0560963a\",\"type\":\"UnionRenderers\"},{\"attributes\":{\"axis_label\":\"cooling rate [K/day]\",\"formatter\":{\"id\":\"6916ecdf-7a2e-45e4-9ebd-073b2e6fbefd\",\"type\":\"BasicTickFormatter\"},\"plot\":{\"id\":\"f7e2370d-452e-4520-bc50-63dce269a98c\",\"subtype\":\"Figure\",\"type\":\"Plot\"},\"ticker\":{\"id\":\"22a619f5-1458-4be4-9c0e-be4ca1c3d8ec\",\"type\":\"BasicTicker\"}},\"id\":\"22c9093b-1a59-487d-bc58-f3b891ece987\",\"type\":\"LinearAxis\"},{\"attributes\":{},\"id\":\"d153ba52-3749-4a79-a369-15d31ee81cee\",\"type\":\"BasicTicker\"},{\"attributes\":{\"axis_label\":\"pressure [mb]\",\"formatter\":{\"id\":\"d0f6db09-b50d-4cb2-87d9-42435b2b54b5\",\"type\":\"LogTickFormatter\"},\"plot\":{\"id\":\"5036016a-7e22-407a-a785-c4c0572c18ec\",\"subtype\":\"Figure\",\"type\":\"Plot\"},\"ticker\":{\"id\":\"1474fa8f-d3d2-488d-b448-fb8dc9807c24\",\"type\":\"LogTicker\"}},\"id\":\"bd9d83c4-cad9-4f19-94de-ea9f29f4564c\",\"type\":\"LogAxis\"},{\"attributes\":{\"items\":[{\"id\":\"5b863e87-2b7a-46cc-8898-a4a4faab72be\",\"type\":\"LegendItem\"},{\"id\":\"9005f578-6c81-49be-9224-e7f8b397dfbf\",\"type\":\"LegendItem\"}],\"label_text_font_size\":{\"value\":\"8pt\"},\"location\":\"top_center\",\"orientation\":\"horizontal\",\"plot\":{\"id\":\"5036016a-7e22-407a-a785-c4c0572c18ec\",\"subtype\":\"Figure\",\"type\":\"Plot\"}},\"id\":\"85d75d3e-a478-4194-bdc8-b5239ad92c6a\",\"type\":\"Legend\"},{\"attributes\":{},\"id\":\"f30253c6-5144-40b1-9045-432de6d86060\",\"type\":\"ResetTool\"},{\"attributes\":{},\"id\":\"96e0783d-1a24-459a-93c4-1ed27d8bc13c\",\"type\":\"PanTool\"},{\"attributes\":{\"overlay\":{\"id\":\"f0110c0b-0584-4ad5-b0cc-26726a68d65f\",\"type\":\"BoxAnnotation\"}},\"id\":\"97d857c2-7325-4780-82ca-6f036ab72edc\",\"type\":\"BoxZoomTool\"},{\"attributes\":{},\"id\":\"8b051318-03f4-4d46-8c58-e3950bfb1a45\",\"type\":\"BasicTickFormatter\"},{\"attributes\":{},\"id\":\"33c45163-74ad-4d84-be54-226d11bda353\",\"type\":\"SaveTool\"},{\"attributes\":{\"data_source\":{\"id\":\"27b83a99-67ba-4018-901c-33e5468d0e30\",\"type\":\"ColumnDataSource\"},\"glyph\":{\"id\":\"9b91f4c3-1cf3-4b46-932f-9ee18309ea4e\",\"type\":\"Circle\"},\"hover_glyph\":null,\"muted_glyph\":null,\"nonselection_glyph\":{\"id\":\"cf41fdef-d2f9-4efa-bbb4-82cb6abd4357\",\"type\":\"Circle\"},\"selection_glyph\":null,\"view\":{\"id\":\"7427b16b-a385-4b34-97ba-a0b797583715\",\"type\":\"CDSView\"}},\"id\":\"af10abac-7649-41fe-8eda-507471a47523\",\"type\":\"GlyphRenderer\"},{\"attributes\":{\"data_source\":{\"id\":\"703e5333-388a-47dc-9154-24e591b1702a\",\"type\":\"ColumnDataSource\"},\"glyph\":{\"id\":\"1363ac4c-e85d-453e-825e-5c4eaea029c9\",\"type\":\"Circle\"},\"hover_glyph\":null,\"muted_glyph\":null,\"nonselection_glyph\":{\"id\":\"7ed881e5-fa3b-4ef7-a1d0-f09e23338b35\",\"type\":\"Circle\"},\"selection_glyph\":null,\"view\":{\"id\":\"42646ea8-c0a1-4886-8832-62c8ddbcf995\",\"type\":\"CDSView\"}},\"id\":\"d2c77892-932b-4fb0-b2eb-6ab9c8b68788\",\"type\":\"GlyphRenderer\"},{\"attributes\":{\"above\":[{\"id\":\"61ff17be-cd7a-42e4-975e-c38986b58fb4\",\"type\":\"Legend\"}],\"below\":[{\"id\":\"7777544c-b42a-4744-97f4-32f0dae1813c\",\"type\":\"LinearAxis\"}],\"left\":[{\"id\":\"b8df7574-c58d-44e3-82c5-06246c968d99\",\"type\":\"LogAxis\"}],\"plot_width\":300,\"renderers\":[{\"id\":\"7777544c-b42a-4744-97f4-32f0dae1813c\",\"type\":\"LinearAxis\"},{\"id\":\"37a1f079-a5be-4338-b32d-d3f6dd61aa50\",\"type\":\"Grid\"},{\"id\":\"b8df7574-c58d-44e3-82c5-06246c968d99\",\"type\":\"LogAxis\"},{\"id\":\"89b98107-9f89-4868-b702-16fc5b4f3934\",\"type\":\"Grid\"},{\"id\":\"a9733e05-5dcd-4242-b93b-5af1032af829\",\"type\":\"BoxAnnotation\"},{\"id\":\"d2c77892-932b-4fb0-b2eb-6ab9c8b68788\",\"type\":\"GlyphRenderer\"},{\"id\":\"ebd724e0-22cb-44f4-9a6b-ff1a0c073106\",\"type\":\"GlyphRenderer\"},{\"id\":\"61ff17be-cd7a-42e4-975e-c38986b58fb4\",\"type\":\"Legend\"}],\"title\":{\"id\":\"44765dc0-f433-4b83-810d-1e974b35d62c\",\"type\":\"Title\"},\"toolbar\":{\"id\":\"3647d83f-f106-48ad-b2a5-05a80db37464\",\"type\":\"Toolbar\"},\"toolbar_location\":null,\"x_range\":{\"id\":\"b67d1636-fc63-4743-addb-e9d0cee2712a\",\"type\":\"Range1d\"},\"x_scale\":{\"id\":\"c68d5a75-ce83-4cc5-8fee-782ba56cad53\",\"type\":\"LinearScale\"},\"y_range\":{\"id\":\"e9b8ef68-b948-48cf-bab1-d2de0886169e\",\"type\":\"Range1d\"},\"y_scale\":{\"id\":\"97b2a3b2-6365-46cd-9c84-88e1f197a1fb\",\"type\":\"LogScale\"}},\"id\":\"f60ea0a6-fa9c-4a37-8247-dc5685aaaabf\",\"subtype\":\"Figure\",\"type\":\"Plot\"},{\"attributes\":{\"source\":{\"id\":\"c6ef302f-f874-4c85-9363-bac71a18de2b\",\"type\":\"ColumnDataSource\"}},\"id\":\"8ee6e410-90cd-423b-a568-f285bcd2fa81\",\"type\":\"CDSView\"},{\"attributes\":{\"source\":{\"id\":\"703e5333-388a-47dc-9154-24e591b1702a\",\"type\":\"ColumnDataSource\"}},\"id\":\"42646ea8-c0a1-4886-8832-62c8ddbcf995\",\"type\":\"CDSView\"},{\"attributes\":{\"data_source\":{\"id\":\"c6ef302f-f874-4c85-9363-bac71a18de2b\",\"type\":\"ColumnDataSource\"},\"glyph\":{\"id\":\"8434f5b2-f5ef-4a90-9e97-f7ad7ef24ed6\",\"type\":\"Line\"},\"hover_glyph\":null,\"muted_glyph\":null,\"nonselection_glyph\":{\"id\":\"4a710068-f047-4758-8713-f4c926156ce6\",\"type\":\"Line\"},\"selection_glyph\":null,\"view\":{\"id\":\"8ee6e410-90cd-423b-a568-f285bcd2fa81\",\"type\":\"CDSView\"}},\"id\":\"ebd724e0-22cb-44f4-9a6b-ff1a0c073106\",\"type\":\"GlyphRenderer\"},{\"attributes\":{\"dimension\":1,\"plot\":{\"id\":\"5036016a-7e22-407a-a785-c4c0572c18ec\",\"subtype\":\"Figure\",\"type\":\"Plot\"},\"ticker\":{\"id\":\"1474fa8f-d3d2-488d-b448-fb8dc9807c24\",\"type\":\"LogTicker\"}},\"id\":\"da1bbc8d-54b7-4cfe-89fd-59ce801716e2\",\"type\":\"Grid\"},{\"attributes\":{},\"id\":\"c798284a-cddf-4810-b3e9-be50456aa54d\",\"type\":\"UnionRenderers\"},{\"attributes\":{\"callback\":null,\"data\":{\"x\":{\"__ndarray__\":\"KuCC2K78Q8C6Stk+DYMgwJaAIAKDsQLAixXjO00j/D+xawG4yi8OQDhf76oUzw5AROq8tudTBEAfk/AHRs7mP4fjg1IWFui/Az0G76cp9b/TCJlVET3xv2WsLTeGpt6/Nul621jZtj9Z2IbJT5/dPxiTqY0CUOE/7nBnvGXR1j+OIkfeHyWyPwonWY/MaNG/uGJwFjA34b9q0UdlZ07hvw31UcUdmtO/NhBfOHNuur8zWxTQhtWgvzSfVyIQvMu/cAOXzI9E179iZJusDBG7v4yirg7ZktQ/QgO3ymy21T+y8T77o8G4P6vzXUPLpIs/kkCGBaaRzj8N0F0xMlHUPxq0XoSQhsE/lumYQcdqq7+tUZVAaruZv2o5TLk2s6M/bGp7yLG4nL9ymdG/C9qyv7Rl7uduxq6/CNYdYhHoq794ZYlUfMWuvw+y21XFua+/VtVi3VG1sb9v+Sxns0Kov4bN24+heLC/7bi+jDxpv7/zr/HpOjS0v8rO25dqla6/2V1kXjBLtb8xRZIkOTW1vxzetZFzgKy/oiM1pZSDn7+IkfR0TWmUv9xYTIK1/pW/7xxFF8nXnb8ODkvddwefv74MrRhuPI6/08BxOkUejz9aMKgE/k+mP6bf262Ss6w/Xvo/NrLzpz+dZANgcXWYPyBYS++FQ0s/sLgn+SWjeb/4ms7Qq4FuP9eBc2s2dJs/agvI2v/5rD9eFD3wMdiyP147eQ1yx7M/ZT1EOOlDzj/VzePAF0jOP9bryqlMcc4/DobzNZEQ0D+RJKkJOe/QP/nFbYAOPdE/\",\"dtype\":\"float64\",\"shape\":[75]},\"y\":{\"__ndarray__\":\"GhExyth1ND/Sv8nbtpRIP2vylNV0PVE/aTum7souWD/At0SJ8fVgPw3Iuahxymc/MSNhhJWvcD/bTfBN02d3P2zb5nxnaoA/CD5h5MAGhz8NmeH1TyaQP+zrCsc9p5Y/LbKd76fGnz/bLW5ISEmmPww9YvTcQq8/JV2OstnstT8Er5Y7M8G+P0c+r3jqkcU/5h99k6ZBzj88bCIzFzjVP4enV8oyxN0//yH99nXg5D8qOpLLf0jtP5kqGJXUifQ/c9cS8kHP/D+/DpwzojQEQIEmwoanVwxA4lgXt9HgE0BSSZ2AJuIbQAMJih9jjiNA5q4l5INuK0AwTKYKRj0zQNv5fmq8/DpAaCJseHrtQkB/+zpwzoxKQM3MzMzMeFJAZmZmZmZqWEAAAAAAAFxeQM3MzMzMJmJAmpmZmZkfZUBmZmZmZhhoQDMzMzMzEWtAAAAAAAAKbkBmZmZmZoFwQM3MzMzM/XFAMzMzMzN6c0CamZmZmfZ0QAAAAAAAc3ZAZmZmZmbvd0DNzMzMzGt5QDMzMzMz6HpAmpmZmZlkfEAAAAAAAOF9QGZmZmZmXX9AZmZmZuZsgECamZmZGSuBQM3MzMxM6YFAAAAAAICngkAzMzMzs2WDQGZmZmbmI4RAmpmZmRnihEDNzMzMTKCFQAAAAACAXoZAMzMzM7Mch0BmZmZm5tqHQJqZmZkZmYhAzczMzExXiUAAAAAAgBWKQDMzMzOz04pAZmZmZuaRi0CamZmZGVCMQM3MzMxMDo1AAAAAAIDMjUAzMzMzs4qOQGZmZmbmSI9A\",\"dtype\":\"float64\",\"shape\":[75]}},\"selected\":{\"id\":\"2625578b-b8cd-4a44-b677-4e8e232c50b2\",\"type\":\"Selection\"},\"selection_policy\":{\"id\":\"1679c4ba-bc96-47ac-962e-a9ad27b7c36f\",\"type\":\"UnionRenderers\"}},\"id\":\"c6ef302f-f874-4c85-9363-bac71a18de2b\",\"type\":\"ColumnDataSource\"},{\"attributes\":{},\"id\":\"e4d66814-d57b-45fa-95e3-67e9449f46cf\",\"type\":\"UnionRenderers\"},{\"attributes\":{\"callback\":null,\"data\":{\"x\":{\"__ndarray__\":\"KuCC2K78Q8C6Stk+DYMgwJaAIAKDsQLAixXjO00j/D+xawG4yi8OQDhf76oUzw5AROq8tudTBEAfk/AHRs7mP4fjg1IWFui/Az0G76cp9b/TCJlVET3xv2WsLTeGpt6/Nul621jZtj9Z2IbJT5/dPxiTqY0CUOE/7nBnvGXR1j+OIkfeHyWyPwonWY/MaNG/uGJwFjA34b9q0UdlZ07hvw31UcUdmtO/NhBfOHNuur8zWxTQhtWgvzSfVyIQvMu/cAOXzI9E179iZJusDBG7v4yirg7ZktQ/QgO3ymy21T+y8T77o8G4P6vzXUPLpIs/kkCGBaaRzj8N0F0xMlHUPxq0XoSQhsE/lumYQcdqq7+tUZVAaruZv2o5TLk2s6M/bGp7yLG4nL9ymdG/C9qyv7Rl7uduxq6/CNYdYhHoq794ZYlUfMWuvw+y21XFua+/VtVi3VG1sb9v+Sxns0Kov4bN24+heLC/7bi+jDxpv7/zr/HpOjS0v8rO25dqla6/2V1kXjBLtb8xRZIkOTW1vxzetZFzgKy/oiM1pZSDn7+IkfR0TWmUv9xYTIK1/pW/7xxFF8nXnb8ODkvddwefv74MrRhuPI6/08BxOkUejz9aMKgE/k+mP6bf262Ss6w/Xvo/NrLzpz+dZANgcXWYPyBYS++FQ0s/sLgn+SWjeb/4ms7Qq4FuP9eBc2s2dJs/agvI2v/5rD9eFD3wMdiyP147eQ1yx7M/ZT1EOOlDzj/VzePAF0jOP9bryqlMcc4/DobzNZEQ0D+RJKkJOe/QP/nFbYAOPdE/\",\"dtype\":\"float64\",\"shape\":[75]},\"y\":{\"__ndarray__\":\"GhExyth1ND/Sv8nbtpRIP2vylNV0PVE/aTum7souWD/At0SJ8fVgPw3Iuahxymc/MSNhhJWvcD/bTfBN02d3P2zb5nxnaoA/CD5h5MAGhz8NmeH1TyaQP+zrCsc9p5Y/LbKd76fGnz/bLW5ISEmmPww9YvTcQq8/JV2OstnstT8Er5Y7M8G+P0c+r3jqkcU/5h99k6ZBzj88bCIzFzjVP4enV8oyxN0//yH99nXg5D8qOpLLf0jtP5kqGJXUifQ/c9cS8kHP/D+/DpwzojQEQIEmwoanVwxA4lgXt9HgE0BSSZ2AJuIbQAMJih9jjiNA5q4l5INuK0AwTKYKRj0zQNv5fmq8/DpAaCJseHrtQkB/+zpwzoxKQM3MzMzMeFJAZmZmZmZqWEAAAAAAAFxeQM3MzMzMJmJAmpmZmZkfZUBmZmZmZhhoQDMzMzMzEWtAAAAAAAAKbkBmZmZmZoFwQM3MzMzM/XFAMzMzMzN6c0CamZmZmfZ0QAAAAAAAc3ZAZmZmZmbvd0DNzMzMzGt5QDMzMzMz6HpAmpmZmZlkfEAAAAAAAOF9QGZmZmZmXX9AZmZmZuZsgECamZmZGSuBQM3MzMxM6YFAAAAAAICngkAzMzMzs2WDQGZmZmbmI4RAmpmZmRnihEDNzMzMTKCFQAAAAACAXoZAMzMzM7Mch0BmZmZm5tqHQJqZmZkZmYhAzczMzExXiUAAAAAAgBWKQDMzMzOz04pAZmZmZuaRi0CamZmZGVCMQM3MzMxMDo1AAAAAAIDMjUAzMzMzs4qOQGZmZmbmSI9A\",\"dtype\":\"float64\",\"shape\":[75]}},\"selected\":{\"id\":\"8b7a9828-7ece-4ae9-aeb2-50c7fecd30e7\",\"type\":\"Selection\"},\"selection_policy\":{\"id\":\"abdb52d9-223f-4b14-bb36-86cd1af2a255\",\"type\":\"UnionRenderers\"}},\"id\":\"703e5333-388a-47dc-9154-24e591b1702a\",\"type\":\"ColumnDataSource\"},{\"attributes\":{\"line_alpha\":0.1,\"line_color\":\"#1f77b4\",\"line_width\":1.5,\"x\":{\"field\":\"x\"},\"y\":{\"field\":\"y\"}},\"id\":\"4a710068-f047-4758-8713-f4c926156ce6\",\"type\":\"Line\"},{\"attributes\":{\"plot\":null,\"text\":\"\"},\"id\":\"90c95811-760e-4bfe-9c65-287ca81711e2\",\"type\":\"Title\"},{\"attributes\":{},\"id\":\"46c058b5-cbe9-4fa4-85d4-0cc3ef1ee22d\",\"type\":\"UnionRenderers\"},{\"attributes\":{\"bottom_units\":\"screen\",\"fill_alpha\":{\"value\":0.5},\"fill_color\":{\"value\":\"lightgrey\"},\"left_units\":\"screen\",\"level\":\"overlay\",\"line_alpha\":{\"value\":1.0},\"line_color\":{\"value\":\"black\"},\"line_dash\":[4,4],\"line_width\":{\"value\":2},\"plot\":null,\"render_mode\":\"css\",\"right_units\":\"screen\",\"top_units\":\"screen\"},\"id\":\"f0110c0b-0584-4ad5-b0cc-26726a68d65f\",\"type\":\"BoxAnnotation\"},{\"attributes\":{\"label\":{\"value\":\"CLIRAD (single-run) - CRD\"},\"renderers\":[{\"id\":\"d2c77892-932b-4fb0-b2eb-6ab9c8b68788\",\"type\":\"GlyphRenderer\"},{\"id\":\"ebd724e0-22cb-44f4-9a6b-ff1a0c073106\",\"type\":\"GlyphRenderer\"}]},\"id\":\"61591b41-0181-4c2c-9db7-0b4bac88c044\",\"type\":\"LegendItem\"},{\"attributes\":{},\"id\":\"c9ee0f20-b45d-49a3-af4b-e4e7b0802f53\",\"type\":\"Selection\"},{\"attributes\":{},\"id\":\"6916ecdf-7a2e-45e4-9ebd-073b2e6fbefd\",\"type\":\"BasicTickFormatter\"},{\"attributes\":{\"callback\":null,\"data\":{\"x\":{\"__ndarray__\":\"ZQSP+A2FRUD4tiv9BNNCQOLJZGxTtEFAAAeZrSgdQECzd8tjCxY8QJRtBQaVKjdAIkhMPR/pMUB2jsTU3wQqQIeamkF6SCJAq258oGOdGkBnB3miNTsVQHTFFaAtBhJAiWFcDeiUDUC9qHZaKzEDQF3Iuxyj6f4/XK594UWsBUB9GLwaAEQMQMZoLKIFnRBA+7DDi4feE0D0owQAKU8ZQLf3l+hLDCFA+++zaKACJ0BhYUBgphkoQMXq2HXahCRA2nV2H70nIUB2XLJ7DFccQLPxF3/DWRhANRtjPessFEDGAf2OnsgPQIiVORRgPQlAcm9IA2g9BUCs0C8PmHsAQM9JmqJItfQ/m0x2pBkT5j9aRDy0DwzRP8Ch/UXkeMG/wxPxlrKO3r9tMs3pOh/Yvwz1Uml21Fy/xnzx+4hbxT+c+rdMYbDYP6vIGAYrvOw/vrBnfy279j/zcp7oytf9P4GcctU67ABAZgjeERCFAUAh17jEskcCQLhkg4n0TAJATReEPuMWAUApsJ3EcIEAQPU2U2yHTwBA3xDPdmovAEAXGdN3owQAQAmHpjiDnf8/elrKJVFA/z/uEUpUcQj/P2u+EpQXD/8//ElKtMND/z88o5aurGX/P/Z6X6vwZv8//vVR4HlO/z9tyoJ6FP3+P2o+s8bO2/0/bDNfb6zN/D+6ntKMvzT6PxUGKWcgovc/ldtUZsz19T/3r/sx3oj0P4+zlIWA0vM/n08raH0e9j/wKhYJbif2P7OW4w1gffY/vv70pbRl9z+5r6MrQRT5P19Vu/sj0QJA\",\"dtype\":\"float64\",\"shape\":[75]},\"y\":{\"__ndarray__\":\"GhExyth1ND/Sv8nbtpRIP2vylNV0PVE/aTum7souWD/At0SJ8fVgPw3Iuahxymc/MSNhhJWvcD/bTfBN02d3P2zb5nxnaoA/CD5h5MAGhz8NmeH1TyaQP+zrCsc9p5Y/LbKd76fGnz/bLW5ISEmmPww9YvTcQq8/JV2OstnstT8Er5Y7M8G+P0c+r3jqkcU/5h99k6ZBzj88bCIzFzjVP4enV8oyxN0//yH99nXg5D8qOpLLf0jtP5kqGJXUifQ/c9cS8kHP/D+/DpwzojQEQIEmwoanVwxA4lgXt9HgE0BSSZ2AJuIbQAMJih9jjiNA5q4l5INuK0AwTKYKRj0zQNv5fmq8/DpAaCJseHrtQkB/+zpwzoxKQM3MzMzMeFJAZmZmZmZqWEAAAAAAAFxeQM3MzMzMJmJAmpmZmZkfZUBmZmZmZhhoQDMzMzMzEWtAAAAAAAAKbkBmZmZmZoFwQM3MzMzM/XFAMzMzMzN6c0CamZmZmfZ0QAAAAAAAc3ZAZmZmZmbvd0DNzMzMzGt5QDMzMzMz6HpAmpmZmZlkfEAAAAAAAOF9QGZmZmZmXX9AZmZmZuZsgECamZmZGSuBQM3MzMxM6YFAAAAAAICngkAzMzMzs2WDQGZmZmbmI4RAmpmZmRnihEDNzMzMTKCFQAAAAACAXoZAMzMzM7Mch0BmZmZm5tqHQJqZmZkZmYhAzczMzExXiUAAAAAAgBWKQDMzMzOz04pAZmZmZuaRi0CamZmZGVCMQM3MzMxMDo1AAAAAAIDMjUAzMzMzs4qOQGZmZmbmSI9A\",\"dtype\":\"float64\",\"shape\":[75]}},\"selected\":{\"id\":\"fe0fae3d-6672-494b-b6a2-286f3f7417da\",\"type\":\"Selection\"},\"selection_policy\":{\"id\":\"735ac802-4a1d-4535-a3cb-2f012f975cb3\",\"type\":\"UnionRenderers\"}},\"id\":\"89cd69f1-83bc-4c65-b485-ebe24ffca3b0\",\"type\":\"ColumnDataSource\"},{\"attributes\":{\"num_minor_ticks\":10},\"id\":\"1474fa8f-d3d2-488d-b448-fb8dc9807c24\",\"type\":\"LogTicker\"},{\"attributes\":{},\"id\":\"55cea3fe-7303-49ea-9ba6-2ccfff1f2a6c\",\"type\":\"BasicTickFormatter\"},{\"attributes\":{},\"id\":\"be1414a0-9a5e-4ce9-bf31-f59b97fbb4b9\",\"type\":\"Selection\"},{\"attributes\":{},\"id\":\"f16fa374-6291-4d54-a3a5-381413a4d275\",\"type\":\"HelpTool\"},{\"attributes\":{\"line_alpha\":0.8,\"line_color\":\"#984ea3\",\"line_width\":1.5,\"x\":{\"field\":\"x\"},\"y\":{\"field\":\"y\"}},\"id\":\"8434f5b2-f5ef-4a90-9e97-f7ad7ef24ed6\",\"type\":\"Line\"},{\"attributes\":{},\"id\":\"0d51e1fd-3a6b-4673-940a-5801cb8bfa06\",\"type\":\"WheelZoomTool\"},{\"attributes\":{\"plot\":null,\"text\":\"\"},\"id\":\"e6352469-8fa2-498d-864c-7ac9ffe7e86a\",\"type\":\"Title\"},{\"attributes\":{\"children\":[{\"id\":\"64d332cf-25f2-49da-bedf-6458ba31ea7b\",\"type\":\"Row\"}]},\"id\":\"6ffae734-ddaa-4a69-a9b9-bbb6d2318211\",\"type\":\"Column\"},{\"attributes\":{\"source\":{\"id\":\"7d4ee5e4-8a12-4993-b47f-f74c8ab72424\",\"type\":\"ColumnDataSource\"}},\"id\":\"0c186a25-1628-486e-8225-436e71d388ee\",\"type\":\"CDSView\"},{\"attributes\":{},\"id\":\"b9d5d641-b99d-407f-917b-b6ba1faac659\",\"type\":\"Selection\"},{\"attributes\":{\"children\":[{\"id\":\"f7e2370d-452e-4520-bc50-63dce269a98c\",\"subtype\":\"Figure\",\"type\":\"Plot\"},{\"id\":\"5036016a-7e22-407a-a785-c4c0572c18ec\",\"subtype\":\"Figure\",\"type\":\"Plot\"},{\"id\":\"f60ea0a6-fa9c-4a37-8247-dc5685aaaabf\",\"subtype\":\"Figure\",\"type\":\"Plot\"}]},\"id\":\"64d332cf-25f2-49da-bedf-6458ba31ea7b\",\"type\":\"Row\"},{\"attributes\":{\"ticker\":null},\"id\":\"d0f6db09-b50d-4cb2-87d9-42435b2b54b5\",\"type\":\"LogTickFormatter\"},{\"attributes\":{\"active_drag\":\"auto\",\"active_inspect\":\"auto\",\"active_scroll\":\"auto\",\"active_tap\":\"auto\",\"tools\":[{\"id\":\"2b263e9a-e6bb-458d-a298-58e20d85af1f\",\"type\":\"PanTool\"},{\"id\":\"1d9674e4-4896-4859-98f7-bc3671b56353\",\"type\":\"WheelZoomTool\"},{\"id\":\"f9c63570-7d55-42fb-a658-a47949935a1b\",\"type\":\"BoxZoomTool\"},{\"id\":\"0f5bdca8-e155-4f1d-9fda-877de8094212\",\"type\":\"SaveTool\"},{\"id\":\"1dbe605f-d374-4dc9-b42f-1dffe2f85070\",\"type\":\"ResetTool\"},{\"id\":\"6d744709-09c9-4c8c-88cd-385d29959b35\",\"type\":\"HelpTool\"}]},\"id\":\"3647d83f-f106-48ad-b2a5-05a80db37464\",\"type\":\"Toolbar\"}],\"root_ids\":[\"4b6a08f6-2c2f-4c13-8fc8-25addeb32b0f\"]},\"title\":\"Bokeh Application\",\"version\":\"0.12.16\"}};\n",
       "  var render_items = [{\"docid\":\"ab1015b9-9889-480d-985c-1ec7abf704bd\",\"elementid\":\"c66de86b-a1d6-486a-976f-2c3c7482a88e\",\"modelid\":\"4b6a08f6-2c2f-4c13-8fc8-25addeb32b0f\"}];\n",
       "  root.Bokeh.embed.embed_items_notebook(docs_json, render_items);\n",
       "\n",
       "  }\n",
       "  if (root.Bokeh !== undefined) {\n",
       "    embed_document(root);\n",
       "  } else {\n",
       "    var attempts = 0;\n",
       "    var timer = setInterval(function(root) {\n",
       "      if (root.Bokeh !== undefined) {\n",
       "        embed_document(root);\n",
       "        clearInterval(timer);\n",
       "      }\n",
       "      attempts++;\n",
       "      if (attempts > 100) {\n",
       "        console.log(\"Bokeh: ERROR: Unable to run BokehJS code because BokehJS library is missing\")\n",
       "        clearInterval(timer);\n",
       "      }\n",
       "    }, 10, root)\n",
       "  }\n",
       "})(window);"
      ],
      "application/vnd.bokehjs_exec.v0+json": ""
     },
     "metadata": {
      "application/vnd.bokehjs_exec.v0+json": {
       "id": "4b6a08f6-2c2f-4c13-8fc8-25addeb32b0f"
      }
     },
     "output_type": "display_data"
    },
    {
     "data": {
      "text/markdown": [
       "*FIGURE.* Cooling rates & difference."
      ],
      "text/plain": [
       "<IPython.core.display.Markdown object>"
      ]
     },
     "metadata": {},
     "output_type": "display_data"
    },
    {
     "data": {
      "text/html": [
       "<a id=\"Fluxes._trp.\"></a>"
      ],
      "text/plain": [
       "<IPython.core.display.HTML object>"
      ]
     },
     "metadata": {},
     "output_type": "display_data"
    },
    {
     "data": {
      "text/markdown": [
       "# Fluxes. trp."
      ],
      "text/plain": [
       "<IPython.core.display.Markdown object>"
      ]
     },
     "metadata": {},
     "output_type": "display_data"
    },
    {
     "data": {
      "text/html": [
       "\n",
       "<div class=\"bk-root\">\n",
       "    <div class=\"bk-plotdiv\" id=\"853f7761-9fe8-4dc9-8782-7f7c044cf17c\"></div>\n",
       "</div>"
      ]
     },
     "metadata": {},
     "output_type": "display_data"
    },
    {
     "data": {
      "application/javascript": [
       "(function(root) {\n",
       "  function embed_document(root) {\n",
       "    \n",
       "  var docs_json = {\"cbf5fc6e-21aa-41c5-b4f5-293bbaecbecb\":{\"roots\":{\"references\":[{\"attributes\":{\"callback\":null,\"factors\":[\"1\",\"2\",\"3\",\"4\",\"5\",\"6\",\"7\",\"8\",\"9\",\"10\",\"11\"]},\"id\":\"990c11ca-59de-4f36-a329-d4d305cd6c18\",\"type\":\"FactorRange\"},{\"attributes\":{},\"id\":\"52301cfb-ef77-44e7-b81a-f7ec0c663a41\",\"type\":\"HelpTool\"},{\"attributes\":{},\"id\":\"b05d734a-0421-4c0d-b5d3-50bd0a881af6\",\"type\":\"BasicTicker\"},{\"attributes\":{\"callback\":null,\"data\":{\"band\":[\"1\",\"2\",\"3\",\"4\",\"5\",\"6\",\"7\",\"8\",\"9\",\"10\",\"11\"],\"flux\":{\"__ndarray__\":\"AID6S2L7yj8A4gB+tqOxPwABDBUtir6/4M66qfX83z9gJsPxfAbhvwBQjCyZ4/u/ACDT2jS227/AYKjDCjfgvwB7sxcbBNS/4M+c1BtewD8AIFyJ5Ttdvw==\",\"dtype\":\"float64\",\"shape\":[11]}},\"selected\":{\"id\":\"163a23e0-f777-47c6-b1fa-1519b258a4d8\",\"type\":\"Selection\"},\"selection_policy\":{\"id\":\"5bbe406d-6d6a-44ec-a63a-c320113f6b88\",\"type\":\"UnionRenderers\"}},\"id\":\"dd1bbe06-eebf-4ba2-bc1d-05c3da93b364\",\"type\":\"ColumnDataSource\"},{\"attributes\":{},\"id\":\"8f504749-5c89-4648-bc5e-7c6b99259efc\",\"type\":\"PanTool\"},{\"attributes\":{\"plot\":null,\"text\":\"TOA flux. CLIRAD (single-run) - CRD.\"},\"id\":\"fc8dccb5-9637-4c34-a698-6b1b1179641d\",\"type\":\"Title\"},{\"attributes\":{},\"id\":\"304dd40d-2c60-4418-bec6-e40095c69d7c\",\"type\":\"BasicTickFormatter\"},{\"attributes\":{\"fill_alpha\":{\"value\":0.1},\"fill_color\":{\"value\":\"#1f77b4\"},\"line_alpha\":{\"value\":0.1},\"line_color\":{\"value\":\"#1f77b4\"},\"top\":{\"field\":\"flux\"},\"width\":{\"value\":0.9},\"x\":{\"field\":\"band\"}},\"id\":\"bab69a7e-9c9a-4ae3-a2b4-ec4f2e598309\",\"type\":\"VBar\"},{\"attributes\":{\"active_drag\":\"auto\",\"active_inspect\":\"auto\",\"active_scroll\":\"auto\",\"active_tap\":\"auto\",\"tools\":[{\"id\":\"8f504749-5c89-4648-bc5e-7c6b99259efc\",\"type\":\"PanTool\"},{\"id\":\"18f998f1-0a4c-4d34-b781-b2f2743d9414\",\"type\":\"WheelZoomTool\"},{\"id\":\"5e4c5257-6708-43c8-b376-1332e49feb2d\",\"type\":\"BoxZoomTool\"},{\"id\":\"04ff3db5-8393-4b34-8140-1c470e3db9b0\",\"type\":\"SaveTool\"},{\"id\":\"b40617a9-e79f-4908-9cb3-86dead9525e9\",\"type\":\"ResetTool\"},{\"id\":\"5c106a2f-654b-4a9a-b52c-e966b21b42cb\",\"type\":\"HelpTool\"}]},\"id\":\"beaae0f3-2ed8-4989-ad23-bbf57e4080b0\",\"type\":\"Toolbar\"},{\"attributes\":{},\"id\":\"4c2e812c-81d4-4ad4-887d-03644b7c9fcb\",\"type\":\"LinearScale\"},{\"attributes\":{},\"id\":\"b40617a9-e79f-4908-9cb3-86dead9525e9\",\"type\":\"ResetTool\"},{\"attributes\":{\"source\":{\"id\":\"39efd810-8d2d-4e29-a094-8153ae7e7acc\",\"type\":\"ColumnDataSource\"}},\"id\":\"d7cddd36-600e-49ed-8275-e52eab3d7a47\",\"type\":\"CDSView\"},{\"attributes\":{},\"id\":\"10ce3ff8-7f56-46c6-920b-1fbcdd29ca71\",\"type\":\"BasicTickFormatter\"},{\"attributes\":{\"axis_label\":\"spectral band\",\"formatter\":{\"id\":\"50624870-24f0-4f50-a6ee-6268cb275a40\",\"type\":\"CategoricalTickFormatter\"},\"plot\":{\"id\":\"3a1aae23-e934-4e82-97f7-1041e4d32187\",\"subtype\":\"Figure\",\"type\":\"Plot\"},\"ticker\":{\"id\":\"a6b46ece-d3bc-461b-bc83-77a161ceb81c\",\"type\":\"CategoricalTicker\"}},\"id\":\"fcb6f860-d2c3-49d5-9ed0-9b260cfd27db\",\"type\":\"CategoricalAxis\"},{\"attributes\":{},\"id\":\"e40303e6-d83e-4600-bec2-548db3b25fa7\",\"type\":\"UnionRenderers\"},{\"attributes\":{\"overlay\":{\"id\":\"c4e5539c-e5fa-42f9-ad62-671ed01fb3e0\",\"type\":\"BoxAnnotation\"}},\"id\":\"b4734844-243c-4c30-b31c-a4e1e502e3a8\",\"type\":\"BoxZoomTool\"},{\"attributes\":{},\"id\":\"4f2baea5-8327-474f-aa90-769ffafb67be\",\"type\":\"CategoricalTickFormatter\"},{\"attributes\":{\"callback\":null,\"factors\":[\"1\",\"2\",\"3\",\"4\",\"5\",\"6\",\"7\",\"8\",\"9\",\"10\",\"11\"]},\"id\":\"89b945a0-2e8d-42cd-a482-1213d9ddff70\",\"type\":\"FactorRange\"},{\"attributes\":{\"callback\":null},\"id\":\"27a85f66-a56d-4abc-b1e2-b2c0b53f8526\",\"type\":\"DataRange1d\"},{\"attributes\":{},\"id\":\"addb08a4-7f17-4b0b-b9fb-dcb6764e5b21\",\"type\":\"SaveTool\"},{\"attributes\":{\"overlay\":{\"id\":\"4283d72c-3951-40c9-9edd-345b5449e3af\",\"type\":\"BoxAnnotation\"}},\"id\":\"810b7dce-06c4-4022-8ceb-2ebd6b370c46\",\"type\":\"BoxZoomTool\"},{\"attributes\":{\"plot\":{\"id\":\"3a1aae23-e934-4e82-97f7-1041e4d32187\",\"subtype\":\"Figure\",\"type\":\"Plot\"},\"ticker\":{\"id\":\"a6b46ece-d3bc-461b-bc83-77a161ceb81c\",\"type\":\"CategoricalTicker\"}},\"id\":\"02614984-071c-4118-b8f1-6f3adf859cf0\",\"type\":\"Grid\"},{\"attributes\":{\"dimension\":1,\"plot\":{\"id\":\"07829211-d736-49c9-94d1-553485e87724\",\"subtype\":\"Figure\",\"type\":\"Plot\"},\"ticker\":{\"id\":\"b05d734a-0421-4c0d-b5d3-50bd0a881af6\",\"type\":\"BasicTicker\"}},\"id\":\"cdfbe4a4-de25-4f7d-bbcd-ba5333c08d4e\",\"type\":\"Grid\"},{\"attributes\":{\"callback\":null,\"data\":{\"band\":[\"1\",\"2\",\"3\",\"4\",\"5\",\"6\",\"7\",\"8\",\"9\",\"10\",\"11\"],\"flux\":{\"__ndarray__\":\"AADADkbs874AZqTeUznQPwC4kEdwI8e/ABhPPdLgrj/AMHxETInrP4AvTKYKhvw/AF4cSw6O5j/gche8Q2XbP4DzcW2oGNY/AGDknq7uiD8AdMuzN52/Pw==\",\"dtype\":\"float64\",\"shape\":[11]}},\"selected\":{\"id\":\"1b9e4900-87be-43ce-9dec-b8a69a787c05\",\"type\":\"Selection\"},\"selection_policy\":{\"id\":\"8f952c43-7863-4594-973d-de2f0a15f0a1\",\"type\":\"UnionRenderers\"}},\"id\":\"39efd810-8d2d-4e29-a094-8153ae7e7acc\",\"type\":\"ColumnDataSource\"},{\"attributes\":{\"source\":{\"id\":\"dd1bbe06-eebf-4ba2-bc1d-05c3da93b364\",\"type\":\"ColumnDataSource\"}},\"id\":\"f975d133-1742-47e7-b2b0-dda69ad0d42d\",\"type\":\"CDSView\"},{\"attributes\":{\"bottom_units\":\"screen\",\"fill_alpha\":{\"value\":0.5},\"fill_color\":{\"value\":\"lightgrey\"},\"left_units\":\"screen\",\"level\":\"overlay\",\"line_alpha\":{\"value\":1.0},\"line_color\":{\"value\":\"black\"},\"line_dash\":[4,4],\"line_width\":{\"value\":2},\"plot\":null,\"render_mode\":\"css\",\"right_units\":\"screen\",\"top_units\":\"screen\"},\"id\":\"c4e5539c-e5fa-42f9-ad62-671ed01fb3e0\",\"type\":\"BoxAnnotation\"},{\"attributes\":{},\"id\":\"5bbe406d-6d6a-44ec-a63a-c320113f6b88\",\"type\":\"UnionRenderers\"},{\"attributes\":{\"dimension\":1,\"plot\":{\"id\":\"3a1aae23-e934-4e82-97f7-1041e4d32187\",\"subtype\":\"Figure\",\"type\":\"Plot\"},\"ticker\":{\"id\":\"d4762f4f-4863-44e1-9e53-df6d3045fdd4\",\"type\":\"BasicTicker\"}},\"id\":\"8e7e04c0-5e8a-4fcc-b376-452fdd3272f0\",\"type\":\"Grid\"},{\"attributes\":{\"below\":[{\"id\":\"fcb6f860-d2c3-49d5-9ed0-9b260cfd27db\",\"type\":\"CategoricalAxis\"}],\"left\":[{\"id\":\"a2eb7d82-df3e-47a9-8cc6-2c96d70deddd\",\"type\":\"LinearAxis\"}],\"plot_height\":300,\"plot_width\":300,\"renderers\":[{\"id\":\"fcb6f860-d2c3-49d5-9ed0-9b260cfd27db\",\"type\":\"CategoricalAxis\"},{\"id\":\"02614984-071c-4118-b8f1-6f3adf859cf0\",\"type\":\"Grid\"},{\"id\":\"a2eb7d82-df3e-47a9-8cc6-2c96d70deddd\",\"type\":\"LinearAxis\"},{\"id\":\"8e7e04c0-5e8a-4fcc-b376-452fdd3272f0\",\"type\":\"Grid\"},{\"id\":\"c4e5539c-e5fa-42f9-ad62-671ed01fb3e0\",\"type\":\"BoxAnnotation\"},{\"id\":\"48aa716b-394c-4c5c-8c2d-1d611579381e\",\"type\":\"GlyphRenderer\"}],\"title\":{\"id\":\"11102d48-f7b7-4aa6-9b50-713af8bd3365\",\"type\":\"Title\"},\"toolbar\":{\"id\":\"14008d37-7c47-4082-9257-978c74d39a9e\",\"type\":\"Toolbar\"},\"toolbar_location\":null,\"x_range\":{\"id\":\"89b945a0-2e8d-42cd-a482-1213d9ddff70\",\"type\":\"FactorRange\"},\"x_scale\":{\"id\":\"38a28804-7c7d-4ae7-a26d-f5fd18c4837a\",\"type\":\"CategoricalScale\"},\"y_range\":{\"id\":\"27a85f66-a56d-4abc-b1e2-b2c0b53f8526\",\"type\":\"DataRange1d\"},\"y_scale\":{\"id\":\"4c2e812c-81d4-4ad4-887d-03644b7c9fcb\",\"type\":\"LinearScale\"}},\"id\":\"3a1aae23-e934-4e82-97f7-1041e4d32187\",\"subtype\":\"Figure\",\"type\":\"Plot\"},{\"attributes\":{},\"id\":\"18f998f1-0a4c-4d34-b781-b2f2743d9414\",\"type\":\"WheelZoomTool\"},{\"attributes\":{},\"id\":\"38a28804-7c7d-4ae7-a26d-f5fd18c4837a\",\"type\":\"CategoricalScale\"},{\"attributes\":{},\"id\":\"eb2c582f-1406-4322-95f5-7d816f7e7d3f\",\"type\":\"WheelZoomTool\"},{\"attributes\":{\"overlay\":{\"id\":\"508e419e-e77a-4d61-861e-cb77450de19b\",\"type\":\"BoxAnnotation\"}},\"id\":\"5e4c5257-6708-43c8-b376-1332e49feb2d\",\"type\":\"BoxZoomTool\"},{\"attributes\":{\"fill_alpha\":{\"value\":0.1},\"fill_color\":{\"value\":\"#1f77b4\"},\"line_alpha\":{\"value\":0.1},\"line_color\":{\"value\":\"#1f77b4\"},\"top\":{\"field\":\"flux\"},\"width\":{\"value\":0.9},\"x\":{\"field\":\"band\"}},\"id\":\"faa9f78d-e6e5-48c2-a14b-468edec76a3d\",\"type\":\"VBar\"},{\"attributes\":{},\"id\":\"32798daa-247b-45c5-9df5-0cfaa914e24b\",\"type\":\"ResetTool\"},{\"attributes\":{\"callback\":null},\"id\":\"edd087bf-6eee-49c4-90f8-b617d6d41987\",\"type\":\"DataRange1d\"},{\"attributes\":{},\"id\":\"a6b46ece-d3bc-461b-bc83-77a161ceb81c\",\"type\":\"CategoricalTicker\"},{\"attributes\":{},\"id\":\"e42e9971-25f1-40c2-93a7-be8f7069af33\",\"type\":\"HelpTool\"},{\"attributes\":{\"active_drag\":\"auto\",\"active_inspect\":\"auto\",\"active_scroll\":\"auto\",\"active_tap\":\"auto\",\"tools\":[{\"id\":\"e6375047-58d4-4979-a09c-1e66e2ac9d5a\",\"type\":\"PanTool\"},{\"id\":\"eb2c582f-1406-4322-95f5-7d816f7e7d3f\",\"type\":\"WheelZoomTool\"},{\"id\":\"b4734844-243c-4c30-b31c-a4e1e502e3a8\",\"type\":\"BoxZoomTool\"},{\"id\":\"addb08a4-7f17-4b0b-b9fb-dcb6764e5b21\",\"type\":\"SaveTool\"},{\"id\":\"1ff0bcb8-2730-4968-8dab-812c0dca380a\",\"type\":\"ResetTool\"},{\"id\":\"e42e9971-25f1-40c2-93a7-be8f7069af33\",\"type\":\"HelpTool\"}]},\"id\":\"14008d37-7c47-4082-9257-978c74d39a9e\",\"type\":\"Toolbar\"},{\"attributes\":{\"plot\":null,\"text\":\"Atmosphere heating. CLIRAD (single-run) - CRD.\"},\"id\":\"11102d48-f7b7-4aa6-9b50-713af8bd3365\",\"type\":\"Title\"},{\"attributes\":{},\"id\":\"e6375047-58d4-4979-a09c-1e66e2ac9d5a\",\"type\":\"PanTool\"},{\"attributes\":{},\"id\":\"63e1bdae-33fa-4438-8f1c-e0217e7d8580\",\"type\":\"PanTool\"},{\"attributes\":{},\"id\":\"163a23e0-f777-47c6-b1fa-1519b258a4d8\",\"type\":\"Selection\"},{\"attributes\":{},\"id\":\"1ff0bcb8-2730-4968-8dab-812c0dca380a\",\"type\":\"ResetTool\"},{\"attributes\":{},\"id\":\"c96f4e42-655e-4184-b12d-0e173b79a135\",\"type\":\"SaveTool\"},{\"attributes\":{\"bottom_units\":\"screen\",\"fill_alpha\":{\"value\":0.5},\"fill_color\":{\"value\":\"lightgrey\"},\"left_units\":\"screen\",\"level\":\"overlay\",\"line_alpha\":{\"value\":1.0},\"line_color\":{\"value\":\"black\"},\"line_dash\":[4,4],\"line_width\":{\"value\":2},\"plot\":null,\"render_mode\":\"css\",\"right_units\":\"screen\",\"top_units\":\"screen\"},\"id\":\"508e419e-e77a-4d61-861e-cb77450de19b\",\"type\":\"BoxAnnotation\"},{\"attributes\":{\"toolbar\":{\"id\":\"0e8306e3-61e4-4c43-acea-eaa7d3cd4133\",\"type\":\"ProxyToolbar\"},\"toolbar_location\":\"above\"},\"id\":\"d5da087c-d665-47d1-ace0-2b9d3e316790\",\"type\":\"ToolbarBox\"},{\"attributes\":{},\"id\":\"1b9e4900-87be-43ce-9dec-b8a69a787c05\",\"type\":\"Selection\"},{\"attributes\":{},\"id\":\"fdd6cf90-7f91-447e-8e26-c7877c53f035\",\"type\":\"Selection\"},{\"attributes\":{\"children\":[{\"id\":\"86c631be-cd74-4a5f-9504-7054483e513a\",\"type\":\"Row\"}]},\"id\":\"19090f02-6bea-489f-aada-ef5973f3ba9e\",\"type\":\"Column\"},{\"attributes\":{\"children\":[{\"id\":\"d5da087c-d665-47d1-ace0-2b9d3e316790\",\"type\":\"ToolbarBox\"},{\"id\":\"19090f02-6bea-489f-aada-ef5973f3ba9e\",\"type\":\"Column\"}]},\"id\":\"83d58e92-3826-4b38-aaa3-e82e6d0d8ed8\",\"type\":\"Column\"},{\"attributes\":{\"tools\":[{\"id\":\"8f504749-5c89-4648-bc5e-7c6b99259efc\",\"type\":\"PanTool\"},{\"id\":\"18f998f1-0a4c-4d34-b781-b2f2743d9414\",\"type\":\"WheelZoomTool\"},{\"id\":\"5e4c5257-6708-43c8-b376-1332e49feb2d\",\"type\":\"BoxZoomTool\"},{\"id\":\"04ff3db5-8393-4b34-8140-1c470e3db9b0\",\"type\":\"SaveTool\"},{\"id\":\"b40617a9-e79f-4908-9cb3-86dead9525e9\",\"type\":\"ResetTool\"},{\"id\":\"5c106a2f-654b-4a9a-b52c-e966b21b42cb\",\"type\":\"HelpTool\"},{\"id\":\"63e1bdae-33fa-4438-8f1c-e0217e7d8580\",\"type\":\"PanTool\"},{\"id\":\"84cff52a-de57-4956-b16f-66a8f38be24b\",\"type\":\"WheelZoomTool\"},{\"id\":\"810b7dce-06c4-4022-8ceb-2ebd6b370c46\",\"type\":\"BoxZoomTool\"},{\"id\":\"c96f4e42-655e-4184-b12d-0e173b79a135\",\"type\":\"SaveTool\"},{\"id\":\"32798daa-247b-45c5-9df5-0cfaa914e24b\",\"type\":\"ResetTool\"},{\"id\":\"52301cfb-ef77-44e7-b81a-f7ec0c663a41\",\"type\":\"HelpTool\"},{\"id\":\"e6375047-58d4-4979-a09c-1e66e2ac9d5a\",\"type\":\"PanTool\"},{\"id\":\"eb2c582f-1406-4322-95f5-7d816f7e7d3f\",\"type\":\"WheelZoomTool\"},{\"id\":\"b4734844-243c-4c30-b31c-a4e1e502e3a8\",\"type\":\"BoxZoomTool\"},{\"id\":\"addb08a4-7f17-4b0b-b9fb-dcb6764e5b21\",\"type\":\"SaveTool\"},{\"id\":\"1ff0bcb8-2730-4968-8dab-812c0dca380a\",\"type\":\"ResetTool\"},{\"id\":\"e42e9971-25f1-40c2-93a7-be8f7069af33\",\"type\":\"HelpTool\"}]},\"id\":\"0e8306e3-61e4-4c43-acea-eaa7d3cd4133\",\"type\":\"ProxyToolbar\"},{\"attributes\":{},\"id\":\"04ff3db5-8393-4b34-8140-1c470e3db9b0\",\"type\":\"SaveTool\"},{\"attributes\":{\"data_source\":{\"id\":\"7a950f2e-8c52-4547-a4a2-4a8e3748782b\",\"type\":\"ColumnDataSource\"},\"glyph\":{\"id\":\"f4bb67ac-b082-4944-afa8-f05d0f39d9a7\",\"type\":\"VBar\"},\"hover_glyph\":null,\"muted_glyph\":null,\"nonselection_glyph\":{\"id\":\"bab69a7e-9c9a-4ae3-a2b4-ec4f2e598309\",\"type\":\"VBar\"},\"selection_glyph\":null,\"view\":{\"id\":\"be2598fd-0879-48ba-ab13-fefd56ac4879\",\"type\":\"CDSView\"}},\"id\":\"1a426c2d-5bc3-4775-a912-0e4f6986c0d4\",\"type\":\"GlyphRenderer\"},{\"attributes\":{\"axis_label\":\"spectral band\",\"formatter\":{\"id\":\"5b75efbd-46cd-47c2-ab9f-f35bca992ff7\",\"type\":\"CategoricalTickFormatter\"},\"plot\":{\"id\":\"07829211-d736-49c9-94d1-553485e87724\",\"subtype\":\"Figure\",\"type\":\"Plot\"},\"ticker\":{\"id\":\"94cbfd39-0772-4957-bb68-8d676c43a2e4\",\"type\":\"CategoricalTicker\"}},\"id\":\"d782246a-a06e-4788-9da4-c873fa03322b\",\"type\":\"CategoricalAxis\"},{\"attributes\":{\"source\":{\"id\":\"7a950f2e-8c52-4547-a4a2-4a8e3748782b\",\"type\":\"ColumnDataSource\"}},\"id\":\"be2598fd-0879-48ba-ab13-fefd56ac4879\",\"type\":\"CDSView\"},{\"attributes\":{\"children\":[{\"id\":\"07829211-d736-49c9-94d1-553485e87724\",\"subtype\":\"Figure\",\"type\":\"Plot\"},{\"id\":\"e5f350c3-bb25-45b2-96db-4b744c4a7afe\",\"subtype\":\"Figure\",\"type\":\"Plot\"},{\"id\":\"3a1aae23-e934-4e82-97f7-1041e4d32187\",\"subtype\":\"Figure\",\"type\":\"Plot\"}]},\"id\":\"86c631be-cd74-4a5f-9504-7054483e513a\",\"type\":\"Row\"},{\"attributes\":{},\"id\":\"313c9e55-e6c1-4761-8ab2-bc0edcbf1366\",\"type\":\"LinearScale\"},{\"attributes\":{\"axis_label\":\"flux (W m-2)\",\"formatter\":{\"id\":\"304dd40d-2c60-4418-bec6-e40095c69d7c\",\"type\":\"BasicTickFormatter\"},\"plot\":{\"id\":\"07829211-d736-49c9-94d1-553485e87724\",\"subtype\":\"Figure\",\"type\":\"Plot\"},\"ticker\":{\"id\":\"b05d734a-0421-4c0d-b5d3-50bd0a881af6\",\"type\":\"BasicTicker\"}},\"id\":\"c38d5b85-2480-4ee9-89e6-9b2816355833\",\"type\":\"LinearAxis\"},{\"attributes\":{\"data_source\":{\"id\":\"dd1bbe06-eebf-4ba2-bc1d-05c3da93b364\",\"type\":\"ColumnDataSource\"},\"glyph\":{\"id\":\"1aaa616c-6fa5-4c4c-84e0-3043db87b1ea\",\"type\":\"VBar\"},\"hover_glyph\":null,\"muted_glyph\":null,\"nonselection_glyph\":{\"id\":\"faa9f78d-e6e5-48c2-a14b-468edec76a3d\",\"type\":\"VBar\"},\"selection_glyph\":null,\"view\":{\"id\":\"f975d133-1742-47e7-b2b0-dda69ad0d42d\",\"type\":\"CDSView\"}},\"id\":\"48aa716b-394c-4c5c-8c2d-1d611579381e\",\"type\":\"GlyphRenderer\"},{\"attributes\":{},\"id\":\"8f952c43-7863-4594-973d-de2f0a15f0a1\",\"type\":\"UnionRenderers\"},{\"attributes\":{\"fill_color\":{\"value\":\"#1f77b4\"},\"line_color\":{\"value\":\"#1f77b4\"},\"top\":{\"field\":\"flux\"},\"width\":{\"value\":0.9},\"x\":{\"field\":\"band\"}},\"id\":\"1aaa616c-6fa5-4c4c-84e0-3043db87b1ea\",\"type\":\"VBar\"},{\"attributes\":{},\"id\":\"50624870-24f0-4f50-a6ee-6268cb275a40\",\"type\":\"CategoricalTickFormatter\"},{\"attributes\":{},\"id\":\"84cff52a-de57-4956-b16f-66a8f38be24b\",\"type\":\"WheelZoomTool\"},{\"attributes\":{\"axis_label\":\"flux (W m-2)\",\"formatter\":{\"id\":\"4c92ed35-4e8b-4dc6-9785-56e2497fccac\",\"type\":\"BasicTickFormatter\"},\"plot\":{\"id\":\"3a1aae23-e934-4e82-97f7-1041e4d32187\",\"subtype\":\"Figure\",\"type\":\"Plot\"},\"ticker\":{\"id\":\"d4762f4f-4863-44e1-9e53-df6d3045fdd4\",\"type\":\"BasicTicker\"}},\"id\":\"a2eb7d82-df3e-47a9-8cc6-2c96d70deddd\",\"type\":\"LinearAxis\"},{\"attributes\":{},\"id\":\"94cbfd39-0772-4957-bb68-8d676c43a2e4\",\"type\":\"CategoricalTicker\"},{\"attributes\":{},\"id\":\"5c106a2f-654b-4a9a-b52c-e966b21b42cb\",\"type\":\"HelpTool\"},{\"attributes\":{},\"id\":\"96a88ce8-d424-4e1b-bf5f-81d273dfe90e\",\"type\":\"CategoricalScale\"},{\"attributes\":{},\"id\":\"d4762f4f-4863-44e1-9e53-df6d3045fdd4\",\"type\":\"BasicTicker\"},{\"attributes\":{\"plot\":{\"id\":\"07829211-d736-49c9-94d1-553485e87724\",\"subtype\":\"Figure\",\"type\":\"Plot\"},\"ticker\":{\"id\":\"94cbfd39-0772-4957-bb68-8d676c43a2e4\",\"type\":\"CategoricalTicker\"}},\"id\":\"7a256cd0-fb4f-4171-a3df-4593ec960222\",\"type\":\"Grid\"},{\"attributes\":{\"fill_color\":{\"value\":\"#1f77b4\"},\"line_color\":{\"value\":\"#1f77b4\"},\"top\":{\"field\":\"flux\"},\"width\":{\"value\":0.9},\"x\":{\"field\":\"band\"}},\"id\":\"f4bb67ac-b082-4944-afa8-f05d0f39d9a7\",\"type\":\"VBar\"},{\"attributes\":{},\"id\":\"5b75efbd-46cd-47c2-ab9f-f35bca992ff7\",\"type\":\"CategoricalTickFormatter\"},{\"attributes\":{\"dimension\":1,\"plot\":{\"id\":\"e5f350c3-bb25-45b2-96db-4b744c4a7afe\",\"subtype\":\"Figure\",\"type\":\"Plot\"},\"ticker\":{\"id\":\"70cb8b5a-80f1-4e23-8f39-6b4f332a2f54\",\"type\":\"BasicTicker\"}},\"id\":\"e4519724-38bd-4b70-abd9-155be07b98f7\",\"type\":\"Grid\"},{\"attributes\":{\"callback\":null},\"id\":\"f38b574a-754a-4b95-9443-4944be90d245\",\"type\":\"DataRange1d\"},{\"attributes\":{\"plot\":null,\"text\":\"SFC flux. CLIRAD (single-run) - CRD.\"},\"id\":\"a4343677-12d9-4a43-9287-86cd3e7e8dac\",\"type\":\"Title\"},{\"attributes\":{\"below\":[{\"id\":\"e79df08d-623d-42e5-82b3-d954b1640613\",\"type\":\"CategoricalAxis\"}],\"left\":[{\"id\":\"b7a19d88-8358-4743-b6ae-cc3d1e71d032\",\"type\":\"LinearAxis\"}],\"plot_height\":300,\"plot_width\":300,\"renderers\":[{\"id\":\"e79df08d-623d-42e5-82b3-d954b1640613\",\"type\":\"CategoricalAxis\"},{\"id\":\"83a491e9-b0b5-463c-be98-841018d137ac\",\"type\":\"Grid\"},{\"id\":\"b7a19d88-8358-4743-b6ae-cc3d1e71d032\",\"type\":\"LinearAxis\"},{\"id\":\"e4519724-38bd-4b70-abd9-155be07b98f7\",\"type\":\"Grid\"},{\"id\":\"4283d72c-3951-40c9-9edd-345b5449e3af\",\"type\":\"BoxAnnotation\"},{\"id\":\"d181df56-2669-4d74-a86c-ea4fc9d0f90d\",\"type\":\"GlyphRenderer\"}],\"title\":{\"id\":\"a4343677-12d9-4a43-9287-86cd3e7e8dac\",\"type\":\"Title\"},\"toolbar\":{\"id\":\"09e4fc27-3f04-4840-a6a9-20d25995fb75\",\"type\":\"Toolbar\"},\"toolbar_location\":null,\"x_range\":{\"id\":\"c668a3b4-8ecb-4592-9e1f-0ca9fcdca142\",\"type\":\"FactorRange\"},\"x_scale\":{\"id\":\"f9c86ed9-00ef-49ea-bc97-54b300dcdc63\",\"type\":\"CategoricalScale\"},\"y_range\":{\"id\":\"f38b574a-754a-4b95-9443-4944be90d245\",\"type\":\"DataRange1d\"},\"y_scale\":{\"id\":\"eec32cfa-dae7-4b71-836f-ebea2c894b78\",\"type\":\"LinearScale\"}},\"id\":\"e5f350c3-bb25-45b2-96db-4b744c4a7afe\",\"subtype\":\"Figure\",\"type\":\"Plot\"},{\"attributes\":{\"below\":[{\"id\":\"d782246a-a06e-4788-9da4-c873fa03322b\",\"type\":\"CategoricalAxis\"}],\"left\":[{\"id\":\"c38d5b85-2480-4ee9-89e6-9b2816355833\",\"type\":\"LinearAxis\"}],\"plot_height\":300,\"plot_width\":300,\"renderers\":[{\"id\":\"d782246a-a06e-4788-9da4-c873fa03322b\",\"type\":\"CategoricalAxis\"},{\"id\":\"7a256cd0-fb4f-4171-a3df-4593ec960222\",\"type\":\"Grid\"},{\"id\":\"c38d5b85-2480-4ee9-89e6-9b2816355833\",\"type\":\"LinearAxis\"},{\"id\":\"cdfbe4a4-de25-4f7d-bbcd-ba5333c08d4e\",\"type\":\"Grid\"},{\"id\":\"508e419e-e77a-4d61-861e-cb77450de19b\",\"type\":\"BoxAnnotation\"},{\"id\":\"1a426c2d-5bc3-4775-a912-0e4f6986c0d4\",\"type\":\"GlyphRenderer\"}],\"title\":{\"id\":\"fc8dccb5-9637-4c34-a698-6b1b1179641d\",\"type\":\"Title\"},\"toolbar\":{\"id\":\"beaae0f3-2ed8-4989-ad23-bbf57e4080b0\",\"type\":\"Toolbar\"},\"toolbar_location\":null,\"x_range\":{\"id\":\"990c11ca-59de-4f36-a329-d4d305cd6c18\",\"type\":\"FactorRange\"},\"x_scale\":{\"id\":\"96a88ce8-d424-4e1b-bf5f-81d273dfe90e\",\"type\":\"CategoricalScale\"},\"y_range\":{\"id\":\"edd087bf-6eee-49c4-90f8-b617d6d41987\",\"type\":\"DataRange1d\"},\"y_scale\":{\"id\":\"313c9e55-e6c1-4761-8ab2-bc0edcbf1366\",\"type\":\"LinearScale\"}},\"id\":\"07829211-d736-49c9-94d1-553485e87724\",\"subtype\":\"Figure\",\"type\":\"Plot\"},{\"attributes\":{\"data_source\":{\"id\":\"39efd810-8d2d-4e29-a094-8153ae7e7acc\",\"type\":\"ColumnDataSource\"},\"glyph\":{\"id\":\"6c9a80d7-5f62-4de6-877b-f9d4201281ab\",\"type\":\"VBar\"},\"hover_glyph\":null,\"muted_glyph\":null,\"nonselection_glyph\":{\"id\":\"0b79ab6f-ddd0-4b58-b142-c8dbd5a6aed1\",\"type\":\"VBar\"},\"selection_glyph\":null,\"view\":{\"id\":\"d7cddd36-600e-49ed-8275-e52eab3d7a47\",\"type\":\"CDSView\"}},\"id\":\"d181df56-2669-4d74-a86c-ea4fc9d0f90d\",\"type\":\"GlyphRenderer\"},{\"attributes\":{\"fill_alpha\":{\"value\":0.1},\"fill_color\":{\"value\":\"#1f77b4\"},\"line_alpha\":{\"value\":0.1},\"line_color\":{\"value\":\"#1f77b4\"},\"top\":{\"field\":\"flux\"},\"width\":{\"value\":0.9},\"x\":{\"field\":\"band\"}},\"id\":\"0b79ab6f-ddd0-4b58-b142-c8dbd5a6aed1\",\"type\":\"VBar\"},{\"attributes\":{},\"id\":\"4c92ed35-4e8b-4dc6-9785-56e2497fccac\",\"type\":\"BasicTickFormatter\"},{\"attributes\":{\"axis_label\":\"flux (W m-2)\",\"formatter\":{\"id\":\"10ce3ff8-7f56-46c6-920b-1fbcdd29ca71\",\"type\":\"BasicTickFormatter\"},\"plot\":{\"id\":\"e5f350c3-bb25-45b2-96db-4b744c4a7afe\",\"subtype\":\"Figure\",\"type\":\"Plot\"},\"ticker\":{\"id\":\"70cb8b5a-80f1-4e23-8f39-6b4f332a2f54\",\"type\":\"BasicTicker\"}},\"id\":\"b7a19d88-8358-4743-b6ae-cc3d1e71d032\",\"type\":\"LinearAxis\"},{\"attributes\":{\"fill_color\":{\"value\":\"#1f77b4\"},\"line_color\":{\"value\":\"#1f77b4\"},\"top\":{\"field\":\"flux\"},\"width\":{\"value\":0.9},\"x\":{\"field\":\"band\"}},\"id\":\"6c9a80d7-5f62-4de6-877b-f9d4201281ab\",\"type\":\"VBar\"},{\"attributes\":{\"callback\":null,\"data\":{\"band\":[\"1\",\"2\",\"3\",\"4\",\"5\",\"6\",\"7\",\"8\",\"9\",\"10\",\"11\"],\"flux\":{\"__ndarray__\":\"AMHG9e/6yj+Aj4r/O6LUP0CGcw0zNNO/wKT4+ITs4T/ALLRzmgXVPwCwDKoNTqQ/gAGh9fBl0T8AmpFB7iK0vwCyLJj4o6A/gIZphCPtwT+AhigVQyi/Pw==\",\"dtype\":\"float64\",\"shape\":[11]}},\"selected\":{\"id\":\"fdd6cf90-7f91-447e-8e26-c7877c53f035\",\"type\":\"Selection\"},\"selection_policy\":{\"id\":\"e40303e6-d83e-4600-bec2-548db3b25fa7\",\"type\":\"UnionRenderers\"}},\"id\":\"7a950f2e-8c52-4547-a4a2-4a8e3748782b\",\"type\":\"ColumnDataSource\"},{\"attributes\":{},\"id\":\"91baad7b-b410-4603-ad8b-1a5888b4a61b\",\"type\":\"CategoricalTicker\"},{\"attributes\":{},\"id\":\"f9c86ed9-00ef-49ea-bc97-54b300dcdc63\",\"type\":\"CategoricalScale\"},{\"attributes\":{\"active_drag\":\"auto\",\"active_inspect\":\"auto\",\"active_scroll\":\"auto\",\"active_tap\":\"auto\",\"tools\":[{\"id\":\"63e1bdae-33fa-4438-8f1c-e0217e7d8580\",\"type\":\"PanTool\"},{\"id\":\"84cff52a-de57-4956-b16f-66a8f38be24b\",\"type\":\"WheelZoomTool\"},{\"id\":\"810b7dce-06c4-4022-8ceb-2ebd6b370c46\",\"type\":\"BoxZoomTool\"},{\"id\":\"c96f4e42-655e-4184-b12d-0e173b79a135\",\"type\":\"SaveTool\"},{\"id\":\"32798daa-247b-45c5-9df5-0cfaa914e24b\",\"type\":\"ResetTool\"},{\"id\":\"52301cfb-ef77-44e7-b81a-f7ec0c663a41\",\"type\":\"HelpTool\"}]},\"id\":\"09e4fc27-3f04-4840-a6a9-20d25995fb75\",\"type\":\"Toolbar\"},{\"attributes\":{\"callback\":null,\"factors\":[\"1\",\"2\",\"3\",\"4\",\"5\",\"6\",\"7\",\"8\",\"9\",\"10\",\"11\"]},\"id\":\"c668a3b4-8ecb-4592-9e1f-0ca9fcdca142\",\"type\":\"FactorRange\"},{\"attributes\":{\"bottom_units\":\"screen\",\"fill_alpha\":{\"value\":0.5},\"fill_color\":{\"value\":\"lightgrey\"},\"left_units\":\"screen\",\"level\":\"overlay\",\"line_alpha\":{\"value\":1.0},\"line_color\":{\"value\":\"black\"},\"line_dash\":[4,4],\"line_width\":{\"value\":2},\"plot\":null,\"render_mode\":\"css\",\"right_units\":\"screen\",\"top_units\":\"screen\"},\"id\":\"4283d72c-3951-40c9-9edd-345b5449e3af\",\"type\":\"BoxAnnotation\"},{\"attributes\":{\"plot\":{\"id\":\"e5f350c3-bb25-45b2-96db-4b744c4a7afe\",\"subtype\":\"Figure\",\"type\":\"Plot\"},\"ticker\":{\"id\":\"91baad7b-b410-4603-ad8b-1a5888b4a61b\",\"type\":\"CategoricalTicker\"}},\"id\":\"83a491e9-b0b5-463c-be98-841018d137ac\",\"type\":\"Grid\"},{\"attributes\":{},\"id\":\"eec32cfa-dae7-4b71-836f-ebea2c894b78\",\"type\":\"LinearScale\"},{\"attributes\":{},\"id\":\"70cb8b5a-80f1-4e23-8f39-6b4f332a2f54\",\"type\":\"BasicTicker\"},{\"attributes\":{\"axis_label\":\"spectral band\",\"formatter\":{\"id\":\"4f2baea5-8327-474f-aa90-769ffafb67be\",\"type\":\"CategoricalTickFormatter\"},\"plot\":{\"id\":\"e5f350c3-bb25-45b2-96db-4b744c4a7afe\",\"subtype\":\"Figure\",\"type\":\"Plot\"},\"ticker\":{\"id\":\"91baad7b-b410-4603-ad8b-1a5888b4a61b\",\"type\":\"CategoricalTicker\"}},\"id\":\"e79df08d-623d-42e5-82b3-d954b1640613\",\"type\":\"CategoricalAxis\"}],\"root_ids\":[\"83d58e92-3826-4b38-aaa3-e82e6d0d8ed8\"]},\"title\":\"Bokeh Application\",\"version\":\"0.12.16\"}};\n",
       "  var render_items = [{\"docid\":\"cbf5fc6e-21aa-41c5-b4f5-293bbaecbecb\",\"elementid\":\"853f7761-9fe8-4dc9-8782-7f7c044cf17c\",\"modelid\":\"83d58e92-3826-4b38-aaa3-e82e6d0d8ed8\"}];\n",
       "  root.Bokeh.embed.embed_items_notebook(docs_json, render_items);\n",
       "\n",
       "  }\n",
       "  if (root.Bokeh !== undefined) {\n",
       "    embed_document(root);\n",
       "  } else {\n",
       "    var attempts = 0;\n",
       "    var timer = setInterval(function(root) {\n",
       "      if (root.Bokeh !== undefined) {\n",
       "        embed_document(root);\n",
       "        clearInterval(timer);\n",
       "      }\n",
       "      attempts++;\n",
       "      if (attempts > 100) {\n",
       "        console.log(\"Bokeh: ERROR: Unable to run BokehJS code because BokehJS library is missing\")\n",
       "        clearInterval(timer);\n",
       "      }\n",
       "    }, 10, root)\n",
       "  }\n",
       "})(window);"
      ],
      "application/vnd.bokehjs_exec.v0+json": ""
     },
     "metadata": {
      "application/vnd.bokehjs_exec.v0+json": {
       "id": "83d58e92-3826-4b38-aaa3-e82e6d0d8ed8"
      }
     },
     "output_type": "display_data"
    },
    {
     "data": {
      "text/markdown": [
       "*FIGURE.* Difference between CLIRAD and CRD in TOA, SFC and net atmosphere flux, in each spectral band."
      ],
      "text/plain": [
       "<IPython.core.display.Markdown object>"
      ]
     },
     "metadata": {},
     "output_type": "display_data"
    },
    {
     "data": {
      "text/html": [
       "<div>\n",
       "<style scoped>\n",
       "    .dataframe tbody tr th:only-of-type {\n",
       "        vertical-align: middle;\n",
       "    }\n",
       "\n",
       "    .dataframe tbody tr th {\n",
       "        vertical-align: top;\n",
       "    }\n",
       "\n",
       "    .dataframe thead th {\n",
       "        text-align: right;\n",
       "    }\n",
       "</style>\n",
       "<table border=\"1\" class=\"dataframe\">\n",
       "  <thead>\n",
       "    <tr style=\"text-align: right;\">\n",
       "      <th></th>\n",
       "      <th>OLR flux</th>\n",
       "      <th>SFC flux</th>\n",
       "      <th>ATM heating</th>\n",
       "    </tr>\n",
       "    <tr>\n",
       "      <th>Sum over bands</th>\n",
       "      <th></th>\n",
       "      <th></th>\n",
       "      <th></th>\n",
       "    </tr>\n",
       "  </thead>\n",
       "  <tbody>\n",
       "    <tr>\n",
       "      <th>CLIRAD (single-run) - CRD</th>\n",
       "      <td>1.65</td>\n",
       "      <td>4.39</td>\n",
       "      <td>-2.74</td>\n",
       "    </tr>\n",
       "    <tr>\n",
       "      <th>CRD</th>\n",
       "      <td>-303.40</td>\n",
       "      <td>337.24</td>\n",
       "      <td>-181.37</td>\n",
       "    </tr>\n",
       "  </tbody>\n",
       "</table>\n",
       "</div>"
      ],
      "text/plain": [
       "                           OLR flux  SFC flux  ATM heating\n",
       "Sum over bands                                            \n",
       "CLIRAD (single-run) - CRD      1.65      4.39        -2.74\n",
       "CRD                         -303.40    337.24      -181.37"
      ]
     },
     "metadata": {},
     "output_type": "display_data"
    },
    {
     "data": {
      "text/markdown": [
       "*TABLE.* Difference between CLIRAD and CRD in TOA, SFC and net atmosphere flux, over all spectral bands. CRD's TOA, SFC and net atmosphere flux, over all spectral bands."
      ],
      "text/plain": [
       "<IPython.core.display.Markdown object>"
      ]
     },
     "metadata": {},
     "output_type": "display_data"
    }
   ],
   "source": [
    "def show_html(s):\n",
    "    display.display(display.HTML(s))\n",
    "\n",
    "    \n",
    "def show_markdown(s):\n",
    "    display.display(display.Markdown(s))\n",
    "\n",
    "\n",
    "def script():\n",
    "    \n",
    "    d_atm = {'mls': 'mid-latitude summer',\n",
    "             'saw': 'sub-arctic winter',\n",
    "             'trp': 'tropical'}\n",
    "    \n",
    "    title = ('## Results over entire range of molecules'\n",
    "             ' and spectral bands')\n",
    "    \n",
    "    s_makeup = 'Makeup of atmosphere.'\n",
    "    s_atmpro = '# {}'\n",
    "    s_cool = 'Cooling rates. {}.'\n",
    "    s_flux = 'Fluxes. {}.'\n",
    "    \n",
    "    atmpros = ['mls', 'saw', 'trp']\n",
    "    \n",
    "    # TOC\n",
    "    show_markdown(title)\n",
    "    show_markdown('### Table of Contents')\n",
    "    show_html(climahtml.getHTML_hrefanchor(s_makeup))\n",
    "    for atmpro in atmpros:\n",
    "        show_markdown('**' + d_atm[atmpro] + '**')\n",
    "        show_html(climahtml.getHTML_hrefanchor(s_cool.format(atmpro)))\n",
    "        show_html(climahtml.getHTML_hrefanchor(s_flux.format(atmpro)))\n",
    "\n",
    "        \n",
    "    # Atmosphere makeup\n",
    "    show_html(climahtml.getHTML_idanchor(s_makeup))\n",
    "    show_markdown(climahtml.getMarkdown_sectitle(s_makeup))\n",
    "    show_makeup()\n",
    "    show_grey_makeup()\n",
    "        \n",
    "    for atmpro in atmpros:\n",
    "        show_html(climahtml.getHTML_idanchor(s_cool.format(atmpro)))\n",
    "        show_markdown(\n",
    "            climahtml.getMarkdown_sectitle(s_cool.format(atmpro)))\n",
    "        show_cool(atmpro=atmpro)\n",
    "        show_html(climahtml.getHTML_idanchor(s_flux.format(atmpro)))\n",
    "        show_markdown(\n",
    "            climahtml.getMarkdown_sectitle(s_flux.format(atmpro)))\n",
    "        show_hist_flux(atmpro=atmpro)\n",
    "        show_tb_flux(atmpro=atmpro)\n",
    "    \n",
    "    \n",
    "script()  "
   ]
  },
  {
   "cell_type": "code",
   "execution_count": null,
   "metadata": {
    "collapsed": true
   },
   "outputs": [],
   "source": []
  },
  {
   "cell_type": "code",
   "execution_count": 28,
   "metadata": {},
   "outputs": [
    {
     "data": {
      "text/html": [
       "<script>\n",
       "code_show=true; \n",
       "function code_toggle() {\n",
       " if (code_show){\n",
       " $('div.input').hide();\n",
       " } else {\n",
       " $('div.input').show();\n",
       " }\n",
       " code_show = !code_show\n",
       "} \n",
       "$( document ).ready(code_toggle);\n",
       "</script>\n",
       "<form action=\"javascript:code_toggle()\"><input type=\"submit\" value=\"Click here to toggle on/off the raw code.\"></form>"
      ],
      "text/plain": [
       "<IPython.core.display.HTML object>"
      ]
     },
     "execution_count": 28,
     "metadata": {},
     "output_type": "execute_result"
    }
   ],
   "source": [
    "display.HTML('''<script>\n",
    "code_show=true; \n",
    "function code_toggle() {\n",
    " if (code_show){\n",
    " $('div.input').hide();\n",
    " } else {\n",
    " $('div.input').show();\n",
    " }\n",
    " code_show = !code_show\n",
    "} \n",
    "$( document ).ready(code_toggle);\n",
    "</script>\n",
    "<form action=\"javascript:code_toggle()\"><input type=\"submit\" value=\"Click here to toggle on/off the raw code.\"></form>''')"
   ]
  },
  {
   "cell_type": "code",
   "execution_count": null,
   "metadata": {
    "collapsed": true
   },
   "outputs": [],
   "source": []
  }
 ],
 "metadata": {
  "kernelspec": {
   "display_name": "Python 3",
   "language": "python",
   "name": "python3"
  },
  "language_info": {
   "codemirror_mode": {
    "name": "ipython",
    "version": 3
   },
   "file_extension": ".py",
   "mimetype": "text/x-python",
   "name": "python",
   "nbconvert_exporter": "python",
   "pygments_lexer": "ipython3",
   "version": "3.6.1"
  }
 },
 "nbformat": 4,
 "nbformat_minor": 2
}
