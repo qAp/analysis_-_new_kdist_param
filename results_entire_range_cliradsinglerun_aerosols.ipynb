{
 "cells": [
  {
   "cell_type": "code",
   "execution_count": 1,
   "metadata": {
    "collapsed": true
   },
   "outputs": [],
   "source": [
    "import os\n",
    "import ast\n",
    "import json\n",
    "import importlib \n",
    "import itertools\n",
    "import collections\n",
    "import pprint\n",
    "\n",
    "from bokeh.io import output_notebook, show\n",
    "from bokeh.layouts import gridplot\n",
    "from bokeh.plotting import figure\n",
    "from bokeh.models import Range1d, Legend, ColumnDataSource, FactorRange\n",
    "from bokeh.palettes import all_palettes\n",
    "from bokeh.transform import factor_cmap\n",
    "\n",
    "import matplotlib\n",
    "import matplotlib.pyplot as plt\n",
    "import numpy as np\n",
    "import pandas as pd\n",
    "import xarray as xr\n",
    "\n",
    "\n",
    "import climatools.lblnew.bestfit_params as bestfits\n",
    "from climatools.lblnew import setup_bestfit, setup_overlap\n",
    "import climatools.lblnew.pipeline as pipe_lblnew\n",
    "import climatools.cliradlw.setup as setup_cliradlw\n",
    "import climatools.cliradlw.pipeline as pipe_cliradlw\n",
    "\n",
    "import climatools.html.html as climahtml\n",
    "from climatools.lblnew.dataio import *\n",
    "from climatools.plot.plot import *\n",
    "\n",
    "\n",
    "from IPython import display\n",
    "\n",
    "#importlib.reload(bestfits)\n",
    "#importlib.reload(setup_bestfit)\n",
    "#importlib.reload(setup_overlap)\n",
    "#importlib.reload(pipe_lblnew)\n",
    "#importlib.reload(setup_cliradlw)\n",
    "#importlib.reload(pipe_cliradlw)"
   ]
  },
  {
   "cell_type": "code",
   "execution_count": 2,
   "metadata": {
    "scrolled": true
   },
   "outputs": [
    {
     "data": {
      "text/html": [
       "\n",
       "    <div class=\"bk-root\">\n",
       "        <a href=\"https://bokeh.pydata.org\" target=\"_blank\" class=\"bk-logo bk-logo-small bk-logo-notebook\"></a>\n",
       "        <span id=\"976becd5-c785-4e30-882a-796df4a9c75d\">Loading BokehJS ...</span>\n",
       "    </div>"
      ]
     },
     "metadata": {},
     "output_type": "display_data"
    },
    {
     "data": {
      "application/javascript": [
       "\n",
       "(function(root) {\n",
       "  function now() {\n",
       "    return new Date();\n",
       "  }\n",
       "\n",
       "  var force = true;\n",
       "\n",
       "  if (typeof (root._bokeh_onload_callbacks) === \"undefined\" || force === true) {\n",
       "    root._bokeh_onload_callbacks = [];\n",
       "    root._bokeh_is_loading = undefined;\n",
       "  }\n",
       "\n",
       "  var JS_MIME_TYPE = 'application/javascript';\n",
       "  var HTML_MIME_TYPE = 'text/html';\n",
       "  var EXEC_MIME_TYPE = 'application/vnd.bokehjs_exec.v0+json';\n",
       "  var CLASS_NAME = 'output_bokeh rendered_html';\n",
       "\n",
       "  /**\n",
       "   * Render data to the DOM node\n",
       "   */\n",
       "  function render(props, node) {\n",
       "    var script = document.createElement(\"script\");\n",
       "    node.appendChild(script);\n",
       "  }\n",
       "\n",
       "  /**\n",
       "   * Handle when an output is cleared or removed\n",
       "   */\n",
       "  function handleClearOutput(event, handle) {\n",
       "    var cell = handle.cell;\n",
       "\n",
       "    var id = cell.output_area._bokeh_element_id;\n",
       "    var server_id = cell.output_area._bokeh_server_id;\n",
       "    // Clean up Bokeh references\n",
       "    if (id !== undefined) {\n",
       "      Bokeh.index[id].model.document.clear();\n",
       "      delete Bokeh.index[id];\n",
       "    }\n",
       "\n",
       "    if (server_id !== undefined) {\n",
       "      // Clean up Bokeh references\n",
       "      var cmd = \"from bokeh.io.state import curstate; print(curstate().uuid_to_server['\" + server_id + \"'].get_sessions()[0].document.roots[0]._id)\";\n",
       "      cell.notebook.kernel.execute(cmd, {\n",
       "        iopub: {\n",
       "          output: function(msg) {\n",
       "            var element_id = msg.content.text.trim();\n",
       "            Bokeh.index[element_id].model.document.clear();\n",
       "            delete Bokeh.index[element_id];\n",
       "          }\n",
       "        }\n",
       "      });\n",
       "      // Destroy server and session\n",
       "      var cmd = \"import bokeh.io.notebook as ion; ion.destroy_server('\" + server_id + \"')\";\n",
       "      cell.notebook.kernel.execute(cmd);\n",
       "    }\n",
       "  }\n",
       "\n",
       "  /**\n",
       "   * Handle when a new output is added\n",
       "   */\n",
       "  function handleAddOutput(event, handle) {\n",
       "    var output_area = handle.output_area;\n",
       "    var output = handle.output;\n",
       "\n",
       "    // limit handleAddOutput to display_data with EXEC_MIME_TYPE content only\n",
       "    if ((output.output_type != \"display_data\") || (!output.data.hasOwnProperty(EXEC_MIME_TYPE))) {\n",
       "      return\n",
       "    }\n",
       "\n",
       "    var toinsert = output_area.element.find(\".\" + CLASS_NAME.split(' ')[0]);\n",
       "\n",
       "    if (output.metadata[EXEC_MIME_TYPE][\"id\"] !== undefined) {\n",
       "      toinsert[toinsert.length - 1].firstChild.textContent = output.data[JS_MIME_TYPE];\n",
       "      // store reference to embed id on output_area\n",
       "      output_area._bokeh_element_id = output.metadata[EXEC_MIME_TYPE][\"id\"];\n",
       "    }\n",
       "    if (output.metadata[EXEC_MIME_TYPE][\"server_id\"] !== undefined) {\n",
       "      var bk_div = document.createElement(\"div\");\n",
       "      bk_div.innerHTML = output.data[HTML_MIME_TYPE];\n",
       "      var script_attrs = bk_div.children[0].attributes;\n",
       "      for (var i = 0; i < script_attrs.length; i++) {\n",
       "        toinsert[toinsert.length - 1].firstChild.setAttribute(script_attrs[i].name, script_attrs[i].value);\n",
       "      }\n",
       "      // store reference to server id on output_area\n",
       "      output_area._bokeh_server_id = output.metadata[EXEC_MIME_TYPE][\"server_id\"];\n",
       "    }\n",
       "  }\n",
       "\n",
       "  function register_renderer(events, OutputArea) {\n",
       "\n",
       "    function append_mime(data, metadata, element) {\n",
       "      // create a DOM node to render to\n",
       "      var toinsert = this.create_output_subarea(\n",
       "        metadata,\n",
       "        CLASS_NAME,\n",
       "        EXEC_MIME_TYPE\n",
       "      );\n",
       "      this.keyboard_manager.register_events(toinsert);\n",
       "      // Render to node\n",
       "      var props = {data: data, metadata: metadata[EXEC_MIME_TYPE]};\n",
       "      render(props, toinsert[toinsert.length - 1]);\n",
       "      element.append(toinsert);\n",
       "      return toinsert\n",
       "    }\n",
       "\n",
       "    /* Handle when an output is cleared or removed */\n",
       "    events.on('clear_output.CodeCell', handleClearOutput);\n",
       "    events.on('delete.Cell', handleClearOutput);\n",
       "\n",
       "    /* Handle when a new output is added */\n",
       "    events.on('output_added.OutputArea', handleAddOutput);\n",
       "\n",
       "    /**\n",
       "     * Register the mime type and append_mime function with output_area\n",
       "     */\n",
       "    OutputArea.prototype.register_mime_type(EXEC_MIME_TYPE, append_mime, {\n",
       "      /* Is output safe? */\n",
       "      safe: true,\n",
       "      /* Index of renderer in `output_area.display_order` */\n",
       "      index: 0\n",
       "    });\n",
       "  }\n",
       "\n",
       "  // register the mime type if in Jupyter Notebook environment and previously unregistered\n",
       "  if (root.Jupyter !== undefined) {\n",
       "    var events = require('base/js/events');\n",
       "    var OutputArea = require('notebook/js/outputarea').OutputArea;\n",
       "\n",
       "    if (OutputArea.prototype.mime_types().indexOf(EXEC_MIME_TYPE) == -1) {\n",
       "      register_renderer(events, OutputArea);\n",
       "    }\n",
       "  }\n",
       "\n",
       "  \n",
       "  if (typeof (root._bokeh_timeout) === \"undefined\" || force === true) {\n",
       "    root._bokeh_timeout = Date.now() + 5000;\n",
       "    root._bokeh_failed_load = false;\n",
       "  }\n",
       "\n",
       "  var NB_LOAD_WARNING = {'data': {'text/html':\n",
       "     \"<div style='background-color: #fdd'>\\n\"+\n",
       "     \"<p>\\n\"+\n",
       "     \"BokehJS does not appear to have successfully loaded. If loading BokehJS from CDN, this \\n\"+\n",
       "     \"may be due to a slow or bad network connection. Possible fixes:\\n\"+\n",
       "     \"</p>\\n\"+\n",
       "     \"<ul>\\n\"+\n",
       "     \"<li>re-rerun `output_notebook()` to attempt to load from CDN again, or</li>\\n\"+\n",
       "     \"<li>use INLINE resources instead, as so:</li>\\n\"+\n",
       "     \"</ul>\\n\"+\n",
       "     \"<code>\\n\"+\n",
       "     \"from bokeh.resources import INLINE\\n\"+\n",
       "     \"output_notebook(resources=INLINE)\\n\"+\n",
       "     \"</code>\\n\"+\n",
       "     \"</div>\"}};\n",
       "\n",
       "  function display_loaded() {\n",
       "    var el = document.getElementById(\"976becd5-c785-4e30-882a-796df4a9c75d\");\n",
       "    if (el != null) {\n",
       "      el.textContent = \"BokehJS is loading...\";\n",
       "    }\n",
       "    if (root.Bokeh !== undefined) {\n",
       "      if (el != null) {\n",
       "        el.textContent = \"BokehJS \" + root.Bokeh.version + \" successfully loaded.\";\n",
       "      }\n",
       "    } else if (Date.now() < root._bokeh_timeout) {\n",
       "      setTimeout(display_loaded, 100)\n",
       "    }\n",
       "  }\n",
       "\n",
       "\n",
       "  function run_callbacks() {\n",
       "    try {\n",
       "      root._bokeh_onload_callbacks.forEach(function(callback) { callback() });\n",
       "    }\n",
       "    finally {\n",
       "      delete root._bokeh_onload_callbacks\n",
       "    }\n",
       "    console.info(\"Bokeh: all callbacks have finished\");\n",
       "  }\n",
       "\n",
       "  function load_libs(js_urls, callback) {\n",
       "    root._bokeh_onload_callbacks.push(callback);\n",
       "    if (root._bokeh_is_loading > 0) {\n",
       "      console.log(\"Bokeh: BokehJS is being loaded, scheduling callback at\", now());\n",
       "      return null;\n",
       "    }\n",
       "    if (js_urls == null || js_urls.length === 0) {\n",
       "      run_callbacks();\n",
       "      return null;\n",
       "    }\n",
       "    console.log(\"Bokeh: BokehJS not loaded, scheduling load and callback at\", now());\n",
       "    root._bokeh_is_loading = js_urls.length;\n",
       "    for (var i = 0; i < js_urls.length; i++) {\n",
       "      var url = js_urls[i];\n",
       "      var s = document.createElement('script');\n",
       "      s.src = url;\n",
       "      s.async = false;\n",
       "      s.onreadystatechange = s.onload = function() {\n",
       "        root._bokeh_is_loading--;\n",
       "        if (root._bokeh_is_loading === 0) {\n",
       "          console.log(\"Bokeh: all BokehJS libraries loaded\");\n",
       "          run_callbacks()\n",
       "        }\n",
       "      };\n",
       "      s.onerror = function() {\n",
       "        console.warn(\"failed to load library \" + url);\n",
       "      };\n",
       "      console.log(\"Bokeh: injecting script tag for BokehJS library: \", url);\n",
       "      document.getElementsByTagName(\"head\")[0].appendChild(s);\n",
       "    }\n",
       "  };var element = document.getElementById(\"976becd5-c785-4e30-882a-796df4a9c75d\");\n",
       "  if (element == null) {\n",
       "    console.log(\"Bokeh: ERROR: autoload.js configured with elementid '976becd5-c785-4e30-882a-796df4a9c75d' but no matching script tag was found. \")\n",
       "    return false;\n",
       "  }\n",
       "\n",
       "  var js_urls = [\"https://cdn.pydata.org/bokeh/release/bokeh-0.12.16.min.js\", \"https://cdn.pydata.org/bokeh/release/bokeh-widgets-0.12.16.min.js\", \"https://cdn.pydata.org/bokeh/release/bokeh-tables-0.12.16.min.js\", \"https://cdn.pydata.org/bokeh/release/bokeh-gl-0.12.16.min.js\"];\n",
       "\n",
       "  var inline_js = [\n",
       "    function(Bokeh) {\n",
       "      Bokeh.set_log_level(\"info\");\n",
       "    },\n",
       "    \n",
       "    function(Bokeh) {\n",
       "      \n",
       "    },\n",
       "    function(Bokeh) {\n",
       "      console.log(\"Bokeh: injecting CSS: https://cdn.pydata.org/bokeh/release/bokeh-0.12.16.min.css\");\n",
       "      Bokeh.embed.inject_css(\"https://cdn.pydata.org/bokeh/release/bokeh-0.12.16.min.css\");\n",
       "      console.log(\"Bokeh: injecting CSS: https://cdn.pydata.org/bokeh/release/bokeh-widgets-0.12.16.min.css\");\n",
       "      Bokeh.embed.inject_css(\"https://cdn.pydata.org/bokeh/release/bokeh-widgets-0.12.16.min.css\");\n",
       "      console.log(\"Bokeh: injecting CSS: https://cdn.pydata.org/bokeh/release/bokeh-tables-0.12.16.min.css\");\n",
       "      Bokeh.embed.inject_css(\"https://cdn.pydata.org/bokeh/release/bokeh-tables-0.12.16.min.css\");\n",
       "    }\n",
       "  ];\n",
       "\n",
       "  function run_inline_js() {\n",
       "    \n",
       "    if ((root.Bokeh !== undefined) || (force === true)) {\n",
       "      for (var i = 0; i < inline_js.length; i++) {\n",
       "        inline_js[i].call(root, root.Bokeh);\n",
       "      }if (force === true) {\n",
       "        display_loaded();\n",
       "      }} else if (Date.now() < root._bokeh_timeout) {\n",
       "      setTimeout(run_inline_js, 100);\n",
       "    } else if (!root._bokeh_failed_load) {\n",
       "      console.log(\"Bokeh: BokehJS failed to load within specified timeout.\");\n",
       "      root._bokeh_failed_load = true;\n",
       "    } else if (force !== true) {\n",
       "      var cell = $(document.getElementById(\"976becd5-c785-4e30-882a-796df4a9c75d\")).parents('.cell').data().cell;\n",
       "      cell.output_area.append_execute_result(NB_LOAD_WARNING)\n",
       "    }\n",
       "\n",
       "  }\n",
       "\n",
       "  if (root._bokeh_is_loading === 0) {\n",
       "    console.log(\"Bokeh: BokehJS loaded, going straight to plotting\");\n",
       "    run_inline_js();\n",
       "  } else {\n",
       "    load_libs(js_urls, function() {\n",
       "      console.log(\"Bokeh: BokehJS plotting callback run at\", now());\n",
       "      run_inline_js();\n",
       "    });\n",
       "  }\n",
       "}(window));"
      ],
      "application/vnd.bokehjs_load.v0+json": "\n(function(root) {\n  function now() {\n    return new Date();\n  }\n\n  var force = true;\n\n  if (typeof (root._bokeh_onload_callbacks) === \"undefined\" || force === true) {\n    root._bokeh_onload_callbacks = [];\n    root._bokeh_is_loading = undefined;\n  }\n\n  \n\n  \n  if (typeof (root._bokeh_timeout) === \"undefined\" || force === true) {\n    root._bokeh_timeout = Date.now() + 5000;\n    root._bokeh_failed_load = false;\n  }\n\n  var NB_LOAD_WARNING = {'data': {'text/html':\n     \"<div style='background-color: #fdd'>\\n\"+\n     \"<p>\\n\"+\n     \"BokehJS does not appear to have successfully loaded. If loading BokehJS from CDN, this \\n\"+\n     \"may be due to a slow or bad network connection. Possible fixes:\\n\"+\n     \"</p>\\n\"+\n     \"<ul>\\n\"+\n     \"<li>re-rerun `output_notebook()` to attempt to load from CDN again, or</li>\\n\"+\n     \"<li>use INLINE resources instead, as so:</li>\\n\"+\n     \"</ul>\\n\"+\n     \"<code>\\n\"+\n     \"from bokeh.resources import INLINE\\n\"+\n     \"output_notebook(resources=INLINE)\\n\"+\n     \"</code>\\n\"+\n     \"</div>\"}};\n\n  function display_loaded() {\n    var el = document.getElementById(\"976becd5-c785-4e30-882a-796df4a9c75d\");\n    if (el != null) {\n      el.textContent = \"BokehJS is loading...\";\n    }\n    if (root.Bokeh !== undefined) {\n      if (el != null) {\n        el.textContent = \"BokehJS \" + root.Bokeh.version + \" successfully loaded.\";\n      }\n    } else if (Date.now() < root._bokeh_timeout) {\n      setTimeout(display_loaded, 100)\n    }\n  }\n\n\n  function run_callbacks() {\n    try {\n      root._bokeh_onload_callbacks.forEach(function(callback) { callback() });\n    }\n    finally {\n      delete root._bokeh_onload_callbacks\n    }\n    console.info(\"Bokeh: all callbacks have finished\");\n  }\n\n  function load_libs(js_urls, callback) {\n    root._bokeh_onload_callbacks.push(callback);\n    if (root._bokeh_is_loading > 0) {\n      console.log(\"Bokeh: BokehJS is being loaded, scheduling callback at\", now());\n      return null;\n    }\n    if (js_urls == null || js_urls.length === 0) {\n      run_callbacks();\n      return null;\n    }\n    console.log(\"Bokeh: BokehJS not loaded, scheduling load and callback at\", now());\n    root._bokeh_is_loading = js_urls.length;\n    for (var i = 0; i < js_urls.length; i++) {\n      var url = js_urls[i];\n      var s = document.createElement('script');\n      s.src = url;\n      s.async = false;\n      s.onreadystatechange = s.onload = function() {\n        root._bokeh_is_loading--;\n        if (root._bokeh_is_loading === 0) {\n          console.log(\"Bokeh: all BokehJS libraries loaded\");\n          run_callbacks()\n        }\n      };\n      s.onerror = function() {\n        console.warn(\"failed to load library \" + url);\n      };\n      console.log(\"Bokeh: injecting script tag for BokehJS library: \", url);\n      document.getElementsByTagName(\"head\")[0].appendChild(s);\n    }\n  };var element = document.getElementById(\"976becd5-c785-4e30-882a-796df4a9c75d\");\n  if (element == null) {\n    console.log(\"Bokeh: ERROR: autoload.js configured with elementid '976becd5-c785-4e30-882a-796df4a9c75d' but no matching script tag was found. \")\n    return false;\n  }\n\n  var js_urls = [\"https://cdn.pydata.org/bokeh/release/bokeh-0.12.16.min.js\", \"https://cdn.pydata.org/bokeh/release/bokeh-widgets-0.12.16.min.js\", \"https://cdn.pydata.org/bokeh/release/bokeh-tables-0.12.16.min.js\", \"https://cdn.pydata.org/bokeh/release/bokeh-gl-0.12.16.min.js\"];\n\n  var inline_js = [\n    function(Bokeh) {\n      Bokeh.set_log_level(\"info\");\n    },\n    \n    function(Bokeh) {\n      \n    },\n    function(Bokeh) {\n      console.log(\"Bokeh: injecting CSS: https://cdn.pydata.org/bokeh/release/bokeh-0.12.16.min.css\");\n      Bokeh.embed.inject_css(\"https://cdn.pydata.org/bokeh/release/bokeh-0.12.16.min.css\");\n      console.log(\"Bokeh: injecting CSS: https://cdn.pydata.org/bokeh/release/bokeh-widgets-0.12.16.min.css\");\n      Bokeh.embed.inject_css(\"https://cdn.pydata.org/bokeh/release/bokeh-widgets-0.12.16.min.css\");\n      console.log(\"Bokeh: injecting CSS: https://cdn.pydata.org/bokeh/release/bokeh-tables-0.12.16.min.css\");\n      Bokeh.embed.inject_css(\"https://cdn.pydata.org/bokeh/release/bokeh-tables-0.12.16.min.css\");\n    }\n  ];\n\n  function run_inline_js() {\n    \n    if ((root.Bokeh !== undefined) || (force === true)) {\n      for (var i = 0; i < inline_js.length; i++) {\n        inline_js[i].call(root, root.Bokeh);\n      }if (force === true) {\n        display_loaded();\n      }} else if (Date.now() < root._bokeh_timeout) {\n      setTimeout(run_inline_js, 100);\n    } else if (!root._bokeh_failed_load) {\n      console.log(\"Bokeh: BokehJS failed to load within specified timeout.\");\n      root._bokeh_failed_load = true;\n    } else if (force !== true) {\n      var cell = $(document.getElementById(\"976becd5-c785-4e30-882a-796df4a9c75d\")).parents('.cell').data().cell;\n      cell.output_area.append_execute_result(NB_LOAD_WARNING)\n    }\n\n  }\n\n  if (root._bokeh_is_loading === 0) {\n    console.log(\"Bokeh: BokehJS loaded, going straight to plotting\");\n    run_inline_js();\n  } else {\n    load_libs(js_urls, function() {\n      console.log(\"Bokeh: BokehJS plotting callback run at\", now());\n      run_inline_js();\n    });\n  }\n}(window));"
     },
     "metadata": {},
     "output_type": "display_data"
    }
   ],
   "source": [
    "output_notebook()"
   ]
  },
  {
   "cell_type": "code",
   "execution_count": 3,
   "metadata": {
    "collapsed": true
   },
   "outputs": [],
   "source": [
    "'''\n",
    "Get the clirad-lw and lblnew `param`s for all spectral bands.  \n",
    "These are returned by functions `clirad_params_atm` and\n",
    "`lblnew_params_atm`, respectively.\n",
    "'''\n",
    "\n",
    "def molecules_byband_atm():\n",
    "    return {1: {'h2o': 'atmpro'},\n",
    "            2: {'h2o': 'atmpro'}, \n",
    "            3: {'co2': 0.0004, 'h2o': 'atmpro', 'n2o': 3.2e-07},\n",
    "            4: {'co2': 0.0004, 'h2o': 'atmpro'},\n",
    "            5: {'co2': 0.0004, 'h2o': 'atmpro'},\n",
    "            6: {'co2': 0.0004, 'h2o': 'atmpro'},\n",
    "            7: {'co2': 0.0004, 'h2o': 'atmpro', 'o3': 'atmpro'},\n",
    "            8: {'h2o': 'atmpro'},\n",
    "            9: {'ch4': 1.8e-06, 'h2o': 'atmpro', 'n2o': 3.2e-07},\n",
    "            10: {'h2o': 'atmpro'},\n",
    "            11: {'co2': 0.0004, 'h2o': 'atmpro'}}\n",
    "\n",
    "\n",
    "def greyabsorbers_by_band_atm():\n",
    "    return {1: {'con': 'atmpro'},\n",
    "            2: {'con': 'atmpro'},\n",
    "            3: {'con': 'atmpro'},\n",
    "            4: {'con': 'atmpro'},\n",
    "            5: {'con': 'atmpro'},\n",
    "            6: {'con': 'atmpro'}, \n",
    "            7: {'con': 'atmpro'},\n",
    "            8: {'con': 'atmpro', 'n2o': 3.2e-7}, \n",
    "            9: {'con': 'atmpro'}, \n",
    "            10: None,\n",
    "            11: None}\n",
    "\n",
    "\n",
    "def clirad_params_atm(atmpro='mls'):\n",
    "    d = {}\n",
    "    for band, molecule in molecules_byband_atm().items():\n",
    "        for param in setup_cliradlw.test_cases():\n",
    "            if [band] == param['band'] and molecule == param['molecule']:\n",
    "                param['atmpro'] = atmpro\n",
    "                d[band] = param\n",
    "                break                \n",
    "    return d\n",
    "\n",
    "\n",
    "def clirad_params_atm_singlerun(atmpro='mls'):\n",
    "    '''\n",
    "    Returns param of clirad-lw run that is equivalent to the total\n",
    "    of all the runs listed in molecules_byband_atm().  In order\n",
    "    for the output to be compatible with clirad_data_atm(), it will\n",
    "    be a list.\n",
    "    '''\n",
    "    param0 = {'band': [1, 2, 3, 4, 5, 6, 7, 8, 9, 10, 11],\n",
    "              'commitnumber': 'dda9de0',\n",
    "              'molecule': {'ch4': 1.8e-06,\n",
    "                           'co2': 0.0004,\n",
    "                           'h2o': 'atmpro',\n",
    "                           'n2o': 3.2e-07,\n",
    "                           'o3': 'atmpro'}}\n",
    "    \n",
    "    d_atmpros = {'mls': 294, 'saw': 257, 'trp': 300}\n",
    "    \n",
    "    param = param0.copy()\n",
    "    param['atmpro'] = atmpro\n",
    "    param['tsfc'] = d_atmpros[atmpro]\n",
    "    \n",
    "    d = {}\n",
    "    d['all'] = param\n",
    "    return d\n",
    "\n",
    "\n",
    "def analysis_dirs_atm(atmpro='mls'):\n",
    "    params = clirad_params_atm(atmpro=atmpro)\n",
    "    return {band: pipe_cliradlw.get_analysis_dir(param=param,\n",
    "                                                 setup=setup_cliradlw) \n",
    "            for band, param in params.items()}\n",
    "\n",
    "\n",
    "def lblnew_params_atm(atmpro='mls'):\n",
    "    dirs = analysis_dirs_atm(atmpro=atmpro)\n",
    "    \n",
    "    d = {}\n",
    "    for band, dirname in dirs.items():\n",
    "        with open(os.path.join(dirname, 'param.py'), \n",
    "                  mode='r', encoding='utf-8') as f:\n",
    "            _, l = f.readlines()\n",
    "        \n",
    "        s = l.split('=')[1].strip()\n",
    "        d[band] = ast.literal_eval(s)\n",
    "        \n",
    "    return d\n"
   ]
  },
  {
   "cell_type": "code",
   "execution_count": 4,
   "metadata": {
    "collapsed": true
   },
   "outputs": [],
   "source": [
    "def db_getdir():\n",
    "    atmpro = 'mls'\n",
    "    params = clirad_params_atm_singlerun(atmpro=atmpro)\n",
    "    param = params['all']\n",
    "    \n",
    "    fdir = pipe_cliradlw.get_fortran_dir(param=param, \n",
    "                                         setup=setup_cliradlw)\n",
    "    return fdir\n",
    "\n",
    "\n",
    "def db_ktable():\n",
    "    fdir = db_getdir()    \n",
    "    fpath = os.path.join(fdir, 'ktable.dat')\n",
    "    \n",
    "    df = pd.read_csv(fpath, sep=r'\\s+')\n",
    "    df = df.set_index(['band', 'mid', 'il', 'it', 'g'])\n",
    "    ds = xr.Dataset.from_dataframe(df)\n",
    "    return ds\n",
    "\n",
    "\n",
    "def db_ng_dgs():\n",
    "    fdir = db_getdir()\n",
    "    fpath = os.path.join(fdir, 'ng_dgs.dat')\n",
    "    \n",
    "    df = pd.read_csv(fpath, sep=r'\\s+')\n",
    "    df = df.set_index(['band', 'mid', 'g'])\n",
    "    ds = xr.Dataset.from_dataframe(df)\n",
    "    return ds\n"
   ]
  },
  {
   "cell_type": "code",
   "execution_count": 5,
   "metadata": {
    "collapsed": true
   },
   "outputs": [],
   "source": [
    "def show_makeup():\n",
    "    df = pd.DataFrame()\n",
    "\n",
    "    for band, molecule in molecules_byband_atm().items():\n",
    "        for name, conc in molecule.items():\n",
    "            df.loc[name, band] = str(conc)\n",
    "\n",
    "    df = df.fillna(0)\n",
    "    df.columns.name = 'clirad band'\n",
    "    df.index.name = 'molecule'\n",
    "    \n",
    "    display.display(df)\n",
    "    \n",
    "    display.display(\n",
    "        display.Markdown('*TABLE.* Non-grey absorbers in the atmosphere.'))\n",
    "\n",
    "\n",
    "def show_grey_makeup():\n",
    "    df = pd.DataFrame()\n",
    "    \n",
    "    for band, molecule in greyabsorbers_by_band_atm().items():\n",
    "        if molecule == None:\n",
    "            pass\n",
    "        else:\n",
    "            for name, conc in molecule.items():\n",
    "                df.loc[name, band] = str(conc)\n",
    "                \n",
    "    df = df.fillna(0)\n",
    "    df.columns.name = 'clirad band'\n",
    "    df.index.name = 'absorber'\n",
    "    \n",
    "    display.display(df)\n",
    "    display.display(\n",
    "        display.Markdown('*TABLE.* Grey absorbers in the atmosphere.')\n",
    "    )"
   ]
  },
  {
   "cell_type": "code",
   "execution_count": 6,
   "metadata": {
    "collapsed": true
   },
   "outputs": [],
   "source": [
    "def load_output_file(path_csv):\n",
    "    '''\n",
    "    Load lblnew output .csv file to xarray.Dataset\n",
    "    \n",
    "    Parameters\n",
    "    ----------\n",
    "    path_csv: str\n",
    "              Path to the .csv file to be loaded.\n",
    "    ds: xarray.Dataset\n",
    "        Data in the input file in the form of an xarray.Dataset.\n",
    "    '''\n",
    "    toindex = ['band', 'pressure', 'igg', 'g']    \n",
    "    df = pd.read_csv(path_csv, sep=r'\\s+')\n",
    "    df = df.set_index([i for i in toindex if i in df.columns])\n",
    "    df = df.rename(columns={'sfu': 'flug',\n",
    "                            'sfd': 'fldg',\n",
    "                            'fnet': 'fnetg',\n",
    "                            'coolr': 'coolrg'})\n",
    "    ds = xr.Dataset.from_dataframe(df)\n",
    "\n",
    "    for l in ('level', 'layer'):\n",
    "        if l in ds.data_vars:\n",
    "            if len(ds[l].dims) > 1:\n",
    "                surface = {d: 0 for d in ds.dims if d != 'pressure'}\n",
    "                coord_level = ds[l][surface]\n",
    "                ds.coords[l] = ('pressure', coord_level)\n",
    "            else:\n",
    "                ds.coords[l] = ('pressure', ds[l])\n",
    "    \n",
    "    return ds"
   ]
  },
  {
   "cell_type": "code",
   "execution_count": 7,
   "metadata": {
    "collapsed": true
   },
   "outputs": [],
   "source": [
    "def lblnew_setup(param=None):\n",
    "    if 'ng_refs' in param:\n",
    "        return {'setup': setup_bestfit,\n",
    "                'fname_flux_crd': 'output_flux.dat',\n",
    "                'fname_cool_crd': 'output_coolr.dat',\n",
    "                'fname_flux_wgt': 'output_wfluxg.dat',\n",
    "                'fname_cool_wgt': 'output_wcoolrg.dat'}\n",
    "    else:\n",
    "        return {'setup': setup_overlap,\n",
    "                'fname_flux_crd': 'output_flux.dat',\n",
    "                'fname_cool_crd': 'output_coolr.dat',\n",
    "                'fname_flux_wgt': 'output_wflux.dat',\n",
    "                'fname_cool_wgt': 'output_wcoolr.dat'}\n",
    "\n",
    "    \n",
    "def load_lblnew_data(param):\n",
    "    \n",
    "    fname_dsname = [('fname_flux_crd', 'ds_flux_crd'),\n",
    "                    ('fname_cool_crd', 'ds_cool_crd'),\n",
    "                    ('fname_flux_wgt', 'ds_flux_wgt'),\n",
    "                    ('fname_cool_wgt', 'ds_cool_wgt')]\n",
    "    \n",
    "    d = lblnew_setup(param)\n",
    "    dir_fortran = pipe_lblnew.get_dir_case(param, setup=d['setup'])\n",
    "    \n",
    "    data_dict = {}\n",
    "    for fname, dsname in fname_dsname:\n",
    "        fpath = os.path.join(dir_fortran, d[fname])\n",
    "        data_dict[dsname] = load_output_file(fpath)\n",
    "    return data_dict"
   ]
  },
  {
   "cell_type": "code",
   "execution_count": 8,
   "metadata": {
    "collapsed": true
   },
   "outputs": [],
   "source": [
    "def crd_data_atm(params_atm):\n",
    "    '''\n",
    "    Parameters\n",
    "    ----------\n",
    "    \n",
    "    params_atm: dict\n",
    "                Parameter dictionary for each band.\n",
    "                \n",
    "    d: dict\n",
    "       'flux': xr.Dataset. [pressure, band]\n",
    "               Fluxes.\n",
    "       'cool': xr.Dataset. [pressure, band]\n",
    "               Cooling rate.\n",
    "    \n",
    "    '''\n",
    "    \n",
    "    results_atm = {band: load_lblnew_data(param) \n",
    "                   for band, param in params_atm.items()}\n",
    "    \n",
    "    bands = [band for band, _ in params_atm.items()]\n",
    "    fluxs = [d['ds_flux_crd'] for _, d in results_atm.items()]\n",
    "    cools = [d['ds_cool_crd'] for _, d in results_atm.items()]\n",
    "    \n",
    "    d = {}\n",
    "    d['flux'] = xr.concat(fluxs, dim=bands).rename({'concat_dim': 'band'})\n",
    "    d['cool'] = xr.concat(cools, dim=bands).rename({'concat_dim': 'band'})\n",
    "    return d        \n",
    "        \n",
    "        \n",
    "\n",
    "def clirad_data_atm(params_atm):\n",
    "    \n",
    "    dirnames = [pipe_cliradlw.get_fortran_dir(param,\n",
    "                                              setup=setup_cliradlw)\n",
    "                for _, param in params_atm.items()]\n",
    "    \n",
    "    fpaths_flux = [os.path.join(n, 'output_flux.dat') for n in dirnames]\n",
    "    fpaths_cool = [os.path.join(n, 'output_coolr.dat') for n in dirnames]\n",
    "    \n",
    "    fluxs = [load_output_file(p) for p in fpaths_flux]    \n",
    "    cools = [load_output_file(p) for p in fpaths_cool]\n",
    "    \n",
    "    d = {}\n",
    "    d['flux'] = sum(fluxs)\n",
    "    d['cool'] = sum(cools)\n",
    "    return d\n",
    "\n"
   ]
  },
  {
   "cell_type": "code",
   "execution_count": 9,
   "metadata": {
    "collapsed": true
   },
   "outputs": [],
   "source": [
    "\n",
    "\n",
    "import rtmtools.clirad.sw.wrangle as cliradwrangle\n",
    "\n",
    "import importlib\n",
    "importlib.reload(cliradwrangle)\n",
    "\n",
    "def oldclirad_data_atm():\n",
    "    '''\n",
    "    Load the OLD clirad's results. mls only.\n",
    "    '''\n",
    "    fpath = os.path.join('/chia_cluster/home/jackyu/radiation',\n",
    "                         'clirad-lw',\n",
    "                         'LW',\n",
    "                         'examples',\n",
    "                         'mls75_h2o_atmpro_co2_.0004_o3_atmpro_n2o_3.2e-7_ch4_1.8e-6_H2012',\n",
    "                         'OUTPUT_CLIRAD.dat')\n",
    "    \n",
    "    ds = cliradwrangle.load_OUTPUT_CLIRAD(readfrom=fpath)\n",
    "    \n",
    "    ds_cool = xr.Dataset()\n",
    "    ds_cool.coords['pressure'] = ('pressure', ds['layer_pressure'])\n",
    "    ds_cool.coords['band'] = ('band', ds['spectral_band'])\n",
    "    ds_cool['coolrg'] = (('band', 'pressure'), - ds['heating_rate'])\n",
    "    \n",
    "    ds_flux = xr.Dataset()\n",
    "    ds_flux.coords['pressure'] = ('pressure', ds['level_pressure'])\n",
    "    ds_flux.coords['band'] = ('band', ds['spectral_band'])\n",
    "    ds_flux['flug'] = (('band', 'pressure'), ds['flux_up'])\n",
    "    ds_flux['fldg'] = (('band', 'pressure'), ds['flux_down'])\n",
    "    ds_flux['fnetg'] = (('band', 'pressure'), ds['net_flux'])\n",
    "    \n",
    "    \n",
    "    d = {}\n",
    "    d['cool'] = ds_cool\n",
    "    d['flux'] = ds_flux\n",
    "    return d\n"
   ]
  },
  {
   "cell_type": "code",
   "execution_count": 10,
   "metadata": {
    "collapsed": true
   },
   "outputs": [],
   "source": [
    "def fmt_cool(ds_in):\n",
    "    ds = ds_in.copy(deep=True)\n",
    "    if 'igg' in ds.dims:\n",
    "        ds = ds.sel(igg=1)\n",
    "\n",
    "    if 'g' in ds.dims:\n",
    "        ds = ds.sum('g')\n",
    "            \n",
    "    if 'band' in ds.dims:\n",
    "        try:\n",
    "            ds = ds.squeeze('band')\n",
    "        except ValueError:\n",
    "            ds = ds.sum('band')\n",
    "                \n",
    "    return ds['coolrg']\n",
    "\n",
    "\n",
    "\n",
    "def nice_xlims(pltdata=None, prange=None):\n",
    "    \n",
    "    def get_slice(srs):\n",
    "        return srs.sel(pressure=slice(*prange))\n",
    "    \n",
    "    srss = [d['srs'] for d in pltdata]\n",
    "    vmin = min([get_slice(srs).min() for srs in srss])\n",
    "    vmax = max([get_slice(srs).max() for srs in srss])\n",
    "    dv = (vmax - vmin) * .01\n",
    "    return float(vmin - dv), float(vmax + dv)\n",
    "\n",
    "\n",
    "    \n",
    "def plt_cool_bokeh(pltdata=None, \n",
    "                   y_axis_type='linear', prange=(50, 1050)):\n",
    "    \n",
    "    ymin = 1e-2 \n",
    "    ymax = 1020\n",
    "    \n",
    "    p2 = figure(y_axis_type=y_axis_type, plot_width=300)\n",
    "    xmin, xmax = nice_xlims(pltdata, prange=prange)\n",
    "    \n",
    "    rs = []\n",
    "    for d in pltdata:\n",
    "        rd = []\n",
    "        if 'marker' in d:\n",
    "            r_mark = getattr(p2, d['marker'])(d['srs'].values, \n",
    "                        d['srs'].coords['pressure'].values,\n",
    "                        color=d['color'], alpha=.7)\n",
    "            rd.append(r_mark)\n",
    "        r_line = p2.line(d['srs'].values, \n",
    "                         d['srs'].coords['pressure'].values,\n",
    "                         color=d['color'], alpha=d['alpha'], \n",
    "                         line_width=d['line_width'], \n",
    "                         line_dash=d['line_dash'])\n",
    "        rd.append(r_line)\n",
    "      \n",
    "        rs.append(rd)\n",
    "        \n",
    "    p2.y_range = Range1d(ymax, ymin)  \n",
    "    p2.yaxis.axis_label = 'pressure [mb]'\n",
    "    \n",
    "    p2.x_range = Range1d(xmin, xmax)\n",
    "    p2.xaxis.axis_label = 'cooling rate [K/day]'\n",
    "    \n",
    "    items = [(d['label'], r) for r, d in zip(rs, pltdata)]\n",
    "    legend = Legend(items=items, location=(10, 0))\n",
    "    legend.label_text_font_size = '8pt'\n",
    "    p2.add_layout(legend, 'above')\n",
    "    p2.legend.orientation = 'horizontal'\n",
    "    p2.legend.location = 'top_center'\n",
    "    \n",
    "    return p2"
   ]
  },
  {
   "cell_type": "code",
   "execution_count": 11,
   "metadata": {
    "collapsed": true
   },
   "outputs": [],
   "source": [
    "def pltdata_cool(atmpro='mls'):\n",
    "    \n",
    "    d_clirad_singlerun = clirad_data_atm(\n",
    "        clirad_params_atm_singlerun(atmpro=atmpro))\n",
    "    d_clirad = clirad_data_atm(clirad_params_atm(atmpro=atmpro))\n",
    "    d_crd = crd_data_atm(lblnew_params_atm(atmpro=atmpro))\n",
    "\n",
    "    ds_clirad_singlerun = d_clirad_singlerun['cool']\n",
    "    ds_clirad = d_clirad['cool']\n",
    "    ds_crd = d_crd['cool']\n",
    "\n",
    "    colors = all_palettes['Set1'][4]\n",
    "    \n",
    "    data = [\n",
    "        {'label': 'CLIRAD (single-run)',\n",
    "        'srs': fmt_cool(ds_clirad_singlerun),\n",
    "        'line_dash': 'dashed', 'line_width': 5,\n",
    "        'color': colors[1], 'alpha': .6},\n",
    "        {'label': 'CRD',\n",
    "         'srs': fmt_cool(ds_crd),\n",
    "         'line_dash': 'solid', 'line_width': 1.5,\n",
    "         'marker': 'circle', 'marker_size': 5,\n",
    "         'color': colors[2], 'alpha': 1}\n",
    "    ]\n",
    "#        {'label': 'CLIRAD',\n",
    "#         'srs': fmt_cool(ds_clirad),\n",
    "#         'line_dash': 'dashed', 'line_width': 5,\n",
    "#         'color': colors[0], 'alpha': .6}\n",
    "        \n",
    "\n",
    "    \n",
    "    # include old CLIRAD's results for mls profile\n",
    "    if atmpro == 'mls':\n",
    "        d_oldclirad = oldclirad_data_atm()\n",
    "        ds_oldclirad = d_oldclirad['cool']        \n",
    "        data.append(\n",
    "            {'label': 'old CLIRAD (H2012)',\n",
    "             'srs': fmt_cool(ds_oldclirad),\n",
    "             'line_dash': 'solid', 'line_width': 1.5,\n",
    "             'marker': 'square', 'marker_size': 3,\n",
    "             'color': colors[3], 'alpha': .5})\n",
    "    return data\n",
    "\n",
    "\n",
    "def pltdata_cooldiff(atmpro='mls'):\n",
    "    \n",
    "    d_clirad_singlerun = clirad_data_atm(\n",
    "        clirad_params_atm_singlerun(atmpro=atmpro))\n",
    "    d_clirad = clirad_data_atm(clirad_params_atm(atmpro=atmpro))\n",
    "    d_crd = crd_data_atm(lblnew_params_atm(atmpro=atmpro))\n",
    "    \n",
    "    ds_clirad_singlerun = d_clirad_singlerun['cool']\n",
    "    ds_clirad = d_clirad['cool']\n",
    "    ds_crd = d_crd['cool']\n",
    "    \n",
    "    ds_diff = ds_clirad_singlerun - ds_crd\n",
    "    \n",
    "    colors = all_palettes['Set1'][4]\n",
    "    \n",
    "    data = [\n",
    "        {'label': 'CLIRAD (single-run) - CRD',\n",
    "         'srs': fmt_cool(ds_diff),\n",
    "         'line_dash': 'solid', 'line_width': 1.5, \n",
    "         'marker': 'circle', 'marker_size': 7,\n",
    "         'color': colors[3], 'alpha': .8}\n",
    "    ]\n",
    "    \n",
    "    # include old CLIRAD's results for mls profile\n",
    "    if atmpro == 'mls':\n",
    "        d_oldclirad = oldclirad_data_atm()\n",
    "        ds_oldclirad = d_oldclirad['cool']\n",
    "        ds_oldclirad.coords['pressure'] = ds_crd.coords['pressure']\n",
    "        ds_diff_old = ds_oldclirad.sum('band') - ds_crd.sum('band')\n",
    "        data.append(\n",
    "            {'label': 'old CLIRAD (H2012) - CRD',\n",
    "             'srs': fmt_cool(ds_diff_old),\n",
    "             'line_dash': 'dashed', 'line_width': 4,\n",
    "             'color': colors[1], 'alpha': .5}\n",
    "        )\n",
    "    return data\n",
    "\n",
    "\n",
    "def show_cool(atmpro='mls'):\n",
    "    \n",
    "    data_cool = pltdata_cool(atmpro=atmpro)\n",
    "    p_cool_liny = plt_cool_bokeh(pltdata=data_cool)\n",
    "    p_cool_logy = plt_cool_bokeh(pltdata=data_cool, \n",
    "                                 y_axis_type='log',\n",
    "                                 prange=(.01, 200))\n",
    "    \n",
    "    data_cooldiff = pltdata_cooldiff(atmpro=atmpro)\n",
    "    p_cooldiff_logy = plt_cool_bokeh(pltdata=data_cooldiff,\n",
    "                                     y_axis_type='log',\n",
    "                                     prange=(.01, 200))\n",
    "    \n",
    "    everything = gridplot(p_cool_liny, p_cool_logy, \n",
    "                          p_cooldiff_logy,\n",
    "                          ncols=3)\n",
    "    show(everything)\n",
    "    display.display(\n",
    "        display.Markdown('*FIGURE.* Cooling rates & difference.'))\n",
    "\n",
    "\n",
    "    "
   ]
  },
  {
   "cell_type": "code",
   "execution_count": null,
   "metadata": {
    "collapsed": true
   },
   "outputs": [],
   "source": []
  },
  {
   "cell_type": "code",
   "execution_count": 12,
   "metadata": {
    "collapsed": true,
    "scrolled": false
   },
   "outputs": [],
   "source": [
    "\n",
    "\n",
    "def hist_band_vs_flux(da, title='Title'):\n",
    "       \n",
    "    bands = [str(b.values) for b in da['band']]\n",
    "\n",
    "    source = ColumnDataSource(\n",
    "        data={'band': bands, 'flux': da.values})\n",
    "\n",
    "    p = figure(x_range=bands, title=title)\n",
    "    p.vbar(source=source, x='band', top='flux', width=.9)\n",
    "\n",
    "    p.yaxis.axis_label = 'flux (W m-2)'\n",
    "    p.xaxis.axis_label = 'spectral band'\n",
    "    \n",
    "    return p\n",
    "\n",
    "\n",
    "def show_hist_flux(atmpro='mls'):\n",
    "    ds_crd = crd_data_atm(lblnew_params_atm(atmpro=atmpro))['flux']\n",
    "    ds_clirad = clirad_data_atm(\n",
    "        clirad_params_atm(atmpro=atmpro))['flux']\n",
    "    ds_clirad_singlerun = clirad_data_atm(\n",
    "        clirad_params_atm_singlerun(atmpro=atmpro))['flux']\n",
    "    \n",
    "    ip, varname = 0, 'flug'\n",
    "    da = (ds_clirad_singlerun - ds_crd).isel(pressure=ip)[varname]\n",
    "    p_toa = hist_band_vs_flux(da, \n",
    "        title='TOA flux. CLIRAD (single-run) - CRD.')\n",
    "\n",
    "    ip, varname = -1, 'fldg'\n",
    "    da = (ds_clirad_singlerun - ds_crd).isel(pressure=ip)[varname]\n",
    "    p_sfc = hist_band_vs_flux(da, \n",
    "        title='SFC flux. CLIRAD (single-run) - CRD.')    \n",
    "    \n",
    "    atm_crd = (ds_crd.isel(pressure=0) \n",
    "               - ds_crd.isel(pressure=-1))['fnetg']\n",
    "    atm_clirad_singlerun = (ds_clirad_singlerun.isel(pressure=0) \n",
    "                  - ds_clirad_singlerun.isel(pressure=-1))['fnetg']\n",
    "    da = atm_clirad_singlerun - atm_crd\n",
    "    p_atm = hist_band_vs_flux(da, \n",
    "        title='Atmosphere heating. CLIRAD (single-run) - CRD.')\n",
    "\n",
    "    everything = gridplot(p_toa, p_sfc, p_atm, ncols=3, \n",
    "                          plot_width=300, plot_height=300)\n",
    "    \n",
    "    show(everything)\n",
    "    display.display(\n",
    "        display.Markdown('*FIGURE.* Difference between CLIRAD and CRD'\n",
    "          ' in TOA, SFC and net atmosphere flux,'\n",
    "          ' in each spectral band.'))\n",
    "\n",
    "\n",
    "    \n",
    "def show_tb_flux(atmpro='mls'):\n",
    "    \n",
    "    def fmt(da_in):\n",
    "        da = da_in.copy(deep=True)\n",
    "        if 'igg' in da.dims:\n",
    "            da = da.sel(igg=1)\n",
    "            \n",
    "        if 'g' in da.dims:\n",
    "            da = da.sum('g')\n",
    "        \n",
    "        if 'band' in da.dims:\n",
    "            try:\n",
    "                da = da.squeeze('band')\n",
    "            except ValueError:\n",
    "                da = da.sum('band')\n",
    "                \n",
    "        return da\n",
    "    \n",
    "    ds_crd = crd_data_atm(lblnew_params_atm(atmpro=atmpro))['flux']\n",
    "    olr_crd = ds_crd['flug'].isel(pressure=0)\n",
    "    sfc_crd = ds_crd['fldg'].isel(pressure=-1)\n",
    "    atm_crd = (ds_crd.isel(pressure=0)\n",
    "               - ds_crd.isel(pressure=-1))['fnetg']\n",
    "    \n",
    "    ds_clirad = clirad_data_atm(\n",
    "        clirad_params_atm(atmpro=atmpro))['flux']\n",
    "    olr_clirad = ds_clirad['flug'].isel(pressure=0)\n",
    "    sfc_clirad = ds_clirad['fldg'].isel(pressure=-1)\n",
    "    atm_clirad = (ds_clirad.isel(pressure=0)\n",
    "                  - ds_clirad.isel(pressure=-1))['fnetg']\n",
    "\n",
    "    ds_clirad_singlerun = clirad_data_atm(\n",
    "        clirad_params_atm_singlerun(atmpro=atmpro))['flux']\n",
    "    olr_clirad_singlerun = ds_clirad_singlerun['flug'].isel(pressure=0)\n",
    "    sfc_clirad_singlerun = ds_clirad_singlerun['fldg'].isel(pressure=-1)\n",
    "    atm_clirad_singlerun = (ds_clirad_singlerun.isel(pressure=0)\n",
    "                  - ds_clirad_singlerun.isel(pressure=-1))['fnetg']\n",
    "    \n",
    "    if atmpro == 'mls':\n",
    "        ds_oldclirad = oldclirad_data_atm()['flux']\n",
    "        ds_oldclirad['pressure'] = ds_crd['pressure']\n",
    "        olr_oldclirad = ds_oldclirad['flug'].isel(pressure=0)\n",
    "        sfc_oldclirad = ds_oldclirad['fldg'].isel(pressure=-1)\n",
    "        atm_oldclirad = (ds_oldclirad.isel(pressure=0)\n",
    "                         - ds_oldclirad.isel(pressure=-1))['fnetg']\n",
    "        \n",
    "    \n",
    "    \n",
    "    df = pd.DataFrame()\n",
    "    df.index.name = 'Sum over bands'\n",
    "    \n",
    "    if atmpro == 'mls':\n",
    "        df.loc['old CLIRAD - CRD', \n",
    "               'OLR flux'] = (fmt(olr_oldclirad)\n",
    "                              - fmt(olr_crd)).values\n",
    "        df.loc['old CLIRAD - CRD', \n",
    "               'SFC flux'] = (fmt(sfc_oldclirad)\n",
    "                              - fmt(sfc_crd)).values\n",
    "        df.loc['old CLIRAD - CRD', \n",
    "               'ATM heating'] = (fmt(atm_oldclirad)\n",
    "                                 - fmt(atm_crd)).values\n",
    "    \n",
    "    df.loc['CLIRAD (single-run) - CRD', \n",
    "           'OLR flux'] = (fmt(olr_clirad_singlerun) \n",
    "                          - fmt(olr_crd)).values\n",
    "    df.loc['CLIRAD (single-run) - CRD', \n",
    "           'SFC flux'] = (fmt(sfc_clirad_singlerun) \n",
    "                          - fmt(sfc_crd)).values\n",
    "    df.loc['CLIRAD (single-run) - CRD', \n",
    "           'ATM heating'] = (fmt(atm_clirad_singlerun) \n",
    "                             - fmt(atm_crd)).values\n",
    "\n",
    "    df.loc['CRD', 'OLR flux'] = fmt(olr_crd).values\n",
    "    df.loc['CRD', 'SFC flux'] = fmt(sfc_crd).values\n",
    "    df.loc['CRD', 'ATM heating'] = fmt(atm_crd).values\n",
    "        \n",
    "    df = df.astype('float').round(2)\n",
    "    \n",
    "    display.display(df)\n",
    "    display.display(\n",
    "        display.Markdown('*TABLE.* Difference between CLIRAD and CRD'\n",
    "          ' in TOA, SFC and net atmosphere flux,'\n",
    "          ' over all spectral bands. CRD\\'s'\n",
    "          ' TOA, SFC and net atmosphere flux,'\n",
    "          ' over all spectral bands.'))\n"
   ]
  },
  {
   "cell_type": "code",
   "execution_count": 13,
   "metadata": {
    "scrolled": false
   },
   "outputs": [
    {
     "data": {
      "text/markdown": [
       "## Results over entire range of molecules and spectral bands"
      ],
      "text/plain": [
       "<IPython.core.display.Markdown object>"
      ]
     },
     "metadata": {},
     "output_type": "display_data"
    },
    {
     "data": {
      "text/markdown": [
       "### Table of Contents"
      ],
      "text/plain": [
       "<IPython.core.display.Markdown object>"
      ]
     },
     "metadata": {},
     "output_type": "display_data"
    },
    {
     "data": {
      "text/html": [
       "<a href=\"#Makeup_of_atmosphere.\">Makeup of atmosphere.</a>"
      ],
      "text/plain": [
       "<IPython.core.display.HTML object>"
      ]
     },
     "metadata": {},
     "output_type": "display_data"
    },
    {
     "data": {
      "text/markdown": [
       "**mid-latitude summer**"
      ],
      "text/plain": [
       "<IPython.core.display.Markdown object>"
      ]
     },
     "metadata": {},
     "output_type": "display_data"
    },
    {
     "data": {
      "text/html": [
       "<a href=\"#Cooling_rates._mls.\">Cooling rates. mls.</a>"
      ],
      "text/plain": [
       "<IPython.core.display.HTML object>"
      ]
     },
     "metadata": {},
     "output_type": "display_data"
    },
    {
     "data": {
      "text/html": [
       "<a href=\"#Fluxes._mls.\">Fluxes. mls.</a>"
      ],
      "text/plain": [
       "<IPython.core.display.HTML object>"
      ]
     },
     "metadata": {},
     "output_type": "display_data"
    },
    {
     "data": {
      "text/markdown": [
       "**sub-arctic winter**"
      ],
      "text/plain": [
       "<IPython.core.display.Markdown object>"
      ]
     },
     "metadata": {},
     "output_type": "display_data"
    },
    {
     "data": {
      "text/html": [
       "<a href=\"#Cooling_rates._saw.\">Cooling rates. saw.</a>"
      ],
      "text/plain": [
       "<IPython.core.display.HTML object>"
      ]
     },
     "metadata": {},
     "output_type": "display_data"
    },
    {
     "data": {
      "text/html": [
       "<a href=\"#Fluxes._saw.\">Fluxes. saw.</a>"
      ],
      "text/plain": [
       "<IPython.core.display.HTML object>"
      ]
     },
     "metadata": {},
     "output_type": "display_data"
    },
    {
     "data": {
      "text/markdown": [
       "**tropical**"
      ],
      "text/plain": [
       "<IPython.core.display.Markdown object>"
      ]
     },
     "metadata": {},
     "output_type": "display_data"
    },
    {
     "data": {
      "text/html": [
       "<a href=\"#Cooling_rates._trp.\">Cooling rates. trp.</a>"
      ],
      "text/plain": [
       "<IPython.core.display.HTML object>"
      ]
     },
     "metadata": {},
     "output_type": "display_data"
    },
    {
     "data": {
      "text/html": [
       "<a href=\"#Fluxes._trp.\">Fluxes. trp.</a>"
      ],
      "text/plain": [
       "<IPython.core.display.HTML object>"
      ]
     },
     "metadata": {},
     "output_type": "display_data"
    },
    {
     "data": {
      "text/html": [
       "<a id=\"Makeup_of_atmosphere.\"></a>"
      ],
      "text/plain": [
       "<IPython.core.display.HTML object>"
      ]
     },
     "metadata": {},
     "output_type": "display_data"
    },
    {
     "data": {
      "text/markdown": [
       "# Makeup of atmosphere."
      ],
      "text/plain": [
       "<IPython.core.display.Markdown object>"
      ]
     },
     "metadata": {},
     "output_type": "display_data"
    },
    {
     "data": {
      "text/html": [
       "<div>\n",
       "<style scoped>\n",
       "    .dataframe tbody tr th:only-of-type {\n",
       "        vertical-align: middle;\n",
       "    }\n",
       "\n",
       "    .dataframe tbody tr th {\n",
       "        vertical-align: top;\n",
       "    }\n",
       "\n",
       "    .dataframe thead th {\n",
       "        text-align: right;\n",
       "    }\n",
       "</style>\n",
       "<table border=\"1\" class=\"dataframe\">\n",
       "  <thead>\n",
       "    <tr style=\"text-align: right;\">\n",
       "      <th>clirad band</th>\n",
       "      <th>1</th>\n",
       "      <th>2</th>\n",
       "      <th>3</th>\n",
       "      <th>4</th>\n",
       "      <th>5</th>\n",
       "      <th>6</th>\n",
       "      <th>7</th>\n",
       "      <th>8</th>\n",
       "      <th>9</th>\n",
       "      <th>10</th>\n",
       "      <th>11</th>\n",
       "    </tr>\n",
       "    <tr>\n",
       "      <th>molecule</th>\n",
       "      <th></th>\n",
       "      <th></th>\n",
       "      <th></th>\n",
       "      <th></th>\n",
       "      <th></th>\n",
       "      <th></th>\n",
       "      <th></th>\n",
       "      <th></th>\n",
       "      <th></th>\n",
       "      <th></th>\n",
       "      <th></th>\n",
       "    </tr>\n",
       "  </thead>\n",
       "  <tbody>\n",
       "    <tr>\n",
       "      <th>h2o</th>\n",
       "      <td>atmpro</td>\n",
       "      <td>atmpro</td>\n",
       "      <td>atmpro</td>\n",
       "      <td>atmpro</td>\n",
       "      <td>atmpro</td>\n",
       "      <td>atmpro</td>\n",
       "      <td>atmpro</td>\n",
       "      <td>atmpro</td>\n",
       "      <td>atmpro</td>\n",
       "      <td>atmpro</td>\n",
       "      <td>atmpro</td>\n",
       "    </tr>\n",
       "    <tr>\n",
       "      <th>co2</th>\n",
       "      <td>0</td>\n",
       "      <td>0</td>\n",
       "      <td>0.0004</td>\n",
       "      <td>0.0004</td>\n",
       "      <td>0.0004</td>\n",
       "      <td>0.0004</td>\n",
       "      <td>0.0004</td>\n",
       "      <td>0</td>\n",
       "      <td>0</td>\n",
       "      <td>0</td>\n",
       "      <td>0.0004</td>\n",
       "    </tr>\n",
       "    <tr>\n",
       "      <th>n2o</th>\n",
       "      <td>0</td>\n",
       "      <td>0</td>\n",
       "      <td>3.2e-07</td>\n",
       "      <td>0</td>\n",
       "      <td>0</td>\n",
       "      <td>0</td>\n",
       "      <td>0</td>\n",
       "      <td>0</td>\n",
       "      <td>3.2e-07</td>\n",
       "      <td>0</td>\n",
       "      <td>0</td>\n",
       "    </tr>\n",
       "    <tr>\n",
       "      <th>o3</th>\n",
       "      <td>0</td>\n",
       "      <td>0</td>\n",
       "      <td>0</td>\n",
       "      <td>0</td>\n",
       "      <td>0</td>\n",
       "      <td>0</td>\n",
       "      <td>atmpro</td>\n",
       "      <td>0</td>\n",
       "      <td>0</td>\n",
       "      <td>0</td>\n",
       "      <td>0</td>\n",
       "    </tr>\n",
       "    <tr>\n",
       "      <th>ch4</th>\n",
       "      <td>0</td>\n",
       "      <td>0</td>\n",
       "      <td>0</td>\n",
       "      <td>0</td>\n",
       "      <td>0</td>\n",
       "      <td>0</td>\n",
       "      <td>0</td>\n",
       "      <td>0</td>\n",
       "      <td>1.8e-06</td>\n",
       "      <td>0</td>\n",
       "      <td>0</td>\n",
       "    </tr>\n",
       "  </tbody>\n",
       "</table>\n",
       "</div>"
      ],
      "text/plain": [
       "clirad band      1       2        3       4       5       6       7       8   \\\n",
       "molecule                                                                       \n",
       "h2o          atmpro  atmpro   atmpro  atmpro  atmpro  atmpro  atmpro  atmpro   \n",
       "co2               0       0   0.0004  0.0004  0.0004  0.0004  0.0004       0   \n",
       "n2o               0       0  3.2e-07       0       0       0       0       0   \n",
       "o3                0       0        0       0       0       0  atmpro       0   \n",
       "ch4               0       0        0       0       0       0       0       0   \n",
       "\n",
       "clirad band       9       10      11  \n",
       "molecule                              \n",
       "h2o           atmpro  atmpro  atmpro  \n",
       "co2                0       0  0.0004  \n",
       "n2o          3.2e-07       0       0  \n",
       "o3                 0       0       0  \n",
       "ch4          1.8e-06       0       0  "
      ]
     },
     "metadata": {},
     "output_type": "display_data"
    },
    {
     "data": {
      "text/markdown": [
       "*TABLE.* Non-grey absorbers in the atmosphere."
      ],
      "text/plain": [
       "<IPython.core.display.Markdown object>"
      ]
     },
     "metadata": {},
     "output_type": "display_data"
    },
    {
     "data": {
      "text/html": [
       "<div>\n",
       "<style scoped>\n",
       "    .dataframe tbody tr th:only-of-type {\n",
       "        vertical-align: middle;\n",
       "    }\n",
       "\n",
       "    .dataframe tbody tr th {\n",
       "        vertical-align: top;\n",
       "    }\n",
       "\n",
       "    .dataframe thead th {\n",
       "        text-align: right;\n",
       "    }\n",
       "</style>\n",
       "<table border=\"1\" class=\"dataframe\">\n",
       "  <thead>\n",
       "    <tr style=\"text-align: right;\">\n",
       "      <th>clirad band</th>\n",
       "      <th>1</th>\n",
       "      <th>2</th>\n",
       "      <th>3</th>\n",
       "      <th>4</th>\n",
       "      <th>5</th>\n",
       "      <th>6</th>\n",
       "      <th>7</th>\n",
       "      <th>8</th>\n",
       "      <th>9</th>\n",
       "    </tr>\n",
       "    <tr>\n",
       "      <th>absorber</th>\n",
       "      <th></th>\n",
       "      <th></th>\n",
       "      <th></th>\n",
       "      <th></th>\n",
       "      <th></th>\n",
       "      <th></th>\n",
       "      <th></th>\n",
       "      <th></th>\n",
       "      <th></th>\n",
       "    </tr>\n",
       "  </thead>\n",
       "  <tbody>\n",
       "    <tr>\n",
       "      <th>con</th>\n",
       "      <td>atmpro</td>\n",
       "      <td>atmpro</td>\n",
       "      <td>atmpro</td>\n",
       "      <td>atmpro</td>\n",
       "      <td>atmpro</td>\n",
       "      <td>atmpro</td>\n",
       "      <td>atmpro</td>\n",
       "      <td>atmpro</td>\n",
       "      <td>atmpro</td>\n",
       "    </tr>\n",
       "    <tr>\n",
       "      <th>n2o</th>\n",
       "      <td>0</td>\n",
       "      <td>0</td>\n",
       "      <td>0</td>\n",
       "      <td>0</td>\n",
       "      <td>0</td>\n",
       "      <td>0</td>\n",
       "      <td>0</td>\n",
       "      <td>3.2e-07</td>\n",
       "      <td>0</td>\n",
       "    </tr>\n",
       "  </tbody>\n",
       "</table>\n",
       "</div>"
      ],
      "text/plain": [
       "clirad band       1       2       3       4       5       6       7        8  \\\n",
       "absorber                                                                       \n",
       "con          atmpro  atmpro  atmpro  atmpro  atmpro  atmpro  atmpro   atmpro   \n",
       "n2o               0       0       0       0       0       0       0  3.2e-07   \n",
       "\n",
       "clirad band       9  \n",
       "absorber             \n",
       "con          atmpro  \n",
       "n2o               0  "
      ]
     },
     "metadata": {},
     "output_type": "display_data"
    },
    {
     "data": {
      "text/markdown": [
       "*TABLE.* Grey absorbers in the atmosphere."
      ],
      "text/plain": [
       "<IPython.core.display.Markdown object>"
      ]
     },
     "metadata": {},
     "output_type": "display_data"
    },
    {
     "data": {
      "text/html": [
       "<a id=\"Cooling_rates._mls.\"></a>"
      ],
      "text/plain": [
       "<IPython.core.display.HTML object>"
      ]
     },
     "metadata": {},
     "output_type": "display_data"
    },
    {
     "data": {
      "text/markdown": [
       "# Cooling rates. mls."
      ],
      "text/plain": [
       "<IPython.core.display.Markdown object>"
      ]
     },
     "metadata": {},
     "output_type": "display_data"
    },
    {
     "data": {
      "text/html": [
       "\n",
       "<div class=\"bk-root\">\n",
       "    <div class=\"bk-plotdiv\" id=\"90db0431-9be1-4500-9e4c-535a7b468a7d\"></div>\n",
       "</div>"
      ]
     },
     "metadata": {},
     "output_type": "display_data"
    },
    {
     "data": {
      "application/javascript": [
       "(function(root) {\n",
       "  function embed_document(root) {\n",
       "    \n",
       "  var docs_json = {\"4ed75eec-8635-4623-99f5-7575db94f3c1\":{\"roots\":{\"references\":[{\"attributes\":{\"num_minor_ticks\":10},\"id\":\"5e2bc991-fc85-4c02-8d3c-f1f6c955ad2d\",\"type\":\"LogTicker\"},{\"attributes\":{\"dimension\":1,\"plot\":{\"id\":\"72c436f9-bd37-4730-a85d-5ab074e33bd8\",\"subtype\":\"Figure\",\"type\":\"Plot\"},\"ticker\":{\"id\":\"5e2bc991-fc85-4c02-8d3c-f1f6c955ad2d\",\"type\":\"LogTicker\"}},\"id\":\"391b92b4-927d-469a-b556-b69b68733ab5\",\"type\":\"Grid\"},{\"attributes\":{\"plot\":{\"id\":\"6873a92d-40ed-44c5-a910-b1ac7f701b21\",\"subtype\":\"Figure\",\"type\":\"Plot\"},\"ticker\":{\"id\":\"31717069-ce95-4f22-a030-f1ce1bcc5b48\",\"type\":\"BasicTicker\"}},\"id\":\"f0b311d8-b09d-4e98-8af1-879e82a84dd4\",\"type\":\"Grid\"},{\"attributes\":{\"axis_label\":\"cooling rate [K/day]\",\"formatter\":{\"id\":\"90cd7874-d813-4c7c-bbc8-ed4cf0c841ce\",\"type\":\"BasicTickFormatter\"},\"plot\":{\"id\":\"72c436f9-bd37-4730-a85d-5ab074e33bd8\",\"subtype\":\"Figure\",\"type\":\"Plot\"},\"ticker\":{\"id\":\"b130d6c9-050f-4898-8715-66333cd7d3ec\",\"type\":\"BasicTicker\"}},\"id\":\"0809205a-bcfa-4b31-8e36-3f960fb8a09c\",\"type\":\"LinearAxis\"},{\"attributes\":{\"above\":[{\"id\":\"4849c392-af0c-4a4b-b62e-77df19f0f633\",\"type\":\"Legend\"}],\"below\":[{\"id\":\"df965c91-3d27-431c-82c7-c76f1677901a\",\"type\":\"LinearAxis\"}],\"left\":[{\"id\":\"50b66460-4bf3-41d7-8dc9-eecb3603cd29\",\"type\":\"LogAxis\"}],\"plot_width\":300,\"renderers\":[{\"id\":\"df965c91-3d27-431c-82c7-c76f1677901a\",\"type\":\"LinearAxis\"},{\"id\":\"ef030457-f1e4-44ba-9313-f576d4810d76\",\"type\":\"Grid\"},{\"id\":\"50b66460-4bf3-41d7-8dc9-eecb3603cd29\",\"type\":\"LogAxis\"},{\"id\":\"f3fa033c-b30b-49fd-b364-ede81096abb2\",\"type\":\"Grid\"},{\"id\":\"7a78ac98-6d8b-46c8-a98a-0b4a1a0803b1\",\"type\":\"BoxAnnotation\"},{\"id\":\"9240a95e-a9c3-471a-b4df-eb6d6f9b6804\",\"type\":\"GlyphRenderer\"},{\"id\":\"36a3eaa5-08ed-48ee-9de1-fe222e4d51e2\",\"type\":\"GlyphRenderer\"},{\"id\":\"feb5fcdd-489c-458d-a3e6-7110581d2597\",\"type\":\"GlyphRenderer\"},{\"id\":\"1ca33c56-7fad-44b7-be79-3238d6b13175\",\"type\":\"GlyphRenderer\"},{\"id\":\"3a95a0a9-cc84-4f85-9e6a-c00f24ec7129\",\"type\":\"GlyphRenderer\"},{\"id\":\"4849c392-af0c-4a4b-b62e-77df19f0f633\",\"type\":\"Legend\"}],\"title\":{\"id\":\"6043a0d7-c626-4de9-b555-fae0aa35d9f1\",\"type\":\"Title\"},\"toolbar\":{\"id\":\"701eb561-0444-4a95-a449-0171b5cbb3eb\",\"type\":\"Toolbar\"},\"toolbar_location\":null,\"x_range\":{\"id\":\"e83c3d35-d591-4ce5-a44f-08fcc968564e\",\"type\":\"Range1d\"},\"x_scale\":{\"id\":\"8a1cbc7d-ee76-483b-8978-42cc24bc7b0c\",\"type\":\"LinearScale\"},\"y_range\":{\"id\":\"2d91a4ce-d221-4773-a54a-8bff65db6cfb\",\"type\":\"Range1d\"},\"y_scale\":{\"id\":\"5b118734-3578-4029-83a1-41add392c3f1\",\"type\":\"LogScale\"}},\"id\":\"47acec97-9972-43b4-930d-9cf1602d9816\",\"subtype\":\"Figure\",\"type\":\"Plot\"},{\"attributes\":{\"axis_label\":\"pressure [mb]\",\"formatter\":{\"id\":\"bdee31a4-7549-471a-a14c-b80de7b5330d\",\"type\":\"LogTickFormatter\"},\"plot\":{\"id\":\"72c436f9-bd37-4730-a85d-5ab074e33bd8\",\"subtype\":\"Figure\",\"type\":\"Plot\"},\"ticker\":{\"id\":\"5e2bc991-fc85-4c02-8d3c-f1f6c955ad2d\",\"type\":\"LogTicker\"}},\"id\":\"ad38ea1e-39c6-46e2-87e0-4dbf5bf1adb6\",\"type\":\"LogAxis\"},{\"attributes\":{},\"id\":\"76687931-3042-4974-bbea-605e1c6b6da7\",\"type\":\"UnionRenderers\"},{\"attributes\":{},\"id\":\"d75c2d5f-10ff-4506-a3ea-cb36ba3d4689\",\"type\":\"LogScale\"},{\"attributes\":{\"toolbar\":{\"id\":\"753e62af-3d63-4d08-9706-64bb3e66afd8\",\"type\":\"ProxyToolbar\"},\"toolbar_location\":\"above\"},\"id\":\"8f8e5d5e-93e5-4562-b8fb-c97f532529dd\",\"type\":\"ToolbarBox\"},{\"attributes\":{\"data_source\":{\"id\":\"d5957c3d-ba45-40a1-8a4b-2e0764309314\",\"type\":\"ColumnDataSource\"},\"glyph\":{\"id\":\"7b0e00b3-4f60-4093-86da-646cfeae9cd8\",\"type\":\"Line\"},\"hover_glyph\":null,\"muted_glyph\":null,\"nonselection_glyph\":{\"id\":\"746788ad-b79e-4159-a6d2-9969dd7e220c\",\"type\":\"Line\"},\"selection_glyph\":null,\"view\":{\"id\":\"6edda3fe-6b5c-4b07-8edf-598b0a8f0a18\",\"type\":\"CDSView\"}},\"id\":\"7717c224-142e-4f23-a995-5433cd06c3e3\",\"type\":\"GlyphRenderer\"},{\"attributes\":{\"overlay\":{\"id\":\"dfaa9bc1-8663-4f6f-80b5-ed2a1758d765\",\"type\":\"BoxAnnotation\"}},\"id\":\"8b5dd34c-0959-494a-b4db-f2b22446033e\",\"type\":\"BoxZoomTool\"},{\"attributes\":{},\"id\":\"c5cf98f2-2fd8-4106-8233-20afd16d22d6\",\"type\":\"UnionRenderers\"},{\"attributes\":{\"callback\":null,\"end\":0.7323360194662635,\"start\":-1.576281364019664},\"id\":\"09eff3ff-b09d-4185-bc1c-8a5710eb3a67\",\"type\":\"Range1d\"},{\"attributes\":{\"ticker\":null},\"id\":\"bdee31a4-7549-471a-a14c-b80de7b5330d\",\"type\":\"LogTickFormatter\"},{\"attributes\":{},\"id\":\"eae41d86-5c31-434e-91af-fb44c2a958ff\",\"type\":\"HelpTool\"},{\"attributes\":{\"bottom_units\":\"screen\",\"fill_alpha\":{\"value\":0.5},\"fill_color\":{\"value\":\"lightgrey\"},\"left_units\":\"screen\",\"level\":\"overlay\",\"line_alpha\":{\"value\":1.0},\"line_color\":{\"value\":\"black\"},\"line_dash\":[4,4],\"line_width\":{\"value\":2},\"plot\":null,\"render_mode\":\"css\",\"right_units\":\"screen\",\"top_units\":\"screen\"},\"id\":\"dfaa9bc1-8663-4f6f-80b5-ed2a1758d765\",\"type\":\"BoxAnnotation\"},{\"attributes\":{\"data_source\":{\"id\":\"00d2e3fe-f1d8-4459-84a4-a0013336c8a9\",\"type\":\"ColumnDataSource\"},\"glyph\":{\"id\":\"daee81a2-8c35-4ae8-b885-fcc52f7d7e7a\",\"type\":\"Circle\"},\"hover_glyph\":null,\"muted_glyph\":null,\"nonselection_glyph\":{\"id\":\"2668289a-ba9b-465f-a23d-ba40fedef7cc\",\"type\":\"Circle\"},\"selection_glyph\":null,\"view\":{\"id\":\"57fd525f-7db7-40b0-905a-78d25a94ff5c\",\"type\":\"CDSView\"}},\"id\":\"eb09d406-526b-4c5b-83bc-1e7de4efed85\",\"type\":\"GlyphRenderer\"},{\"attributes\":{},\"id\":\"58b652a9-0620-43b3-9a77-cdcdf9c7ed71\",\"type\":\"Selection\"},{\"attributes\":{},\"id\":\"7b8a3a43-1daa-456a-94da-2c380f43b220\",\"type\":\"UnionRenderers\"},{\"attributes\":{\"callback\":null,\"data\":{\"x\":{\"__ndarray__\":\"cm1sTMT3VEDEyvjosEJHQOKI6DjzCUNArgQWV9awPkB9Lm8XG3M4QEz+Qv6iYzNA7eV8HaPLLkCX1QHyTpMoQFBmYSYetiNAUB04GtGpH0AmFyVE5j8ZQJca9QPGqBNALJP+OOHHDEBNxaf7QF8AQKtislomWuw/cW2dcO6A9T/uJJvfPu0EQIaQLTI/JQ1AxGiII+PmEkCJvfVeuCsYQD6ZBhGbHB9AXQw69DTYJEAsubcwKucqQNuT9D5OmipAJyi3szEJJUBlNebh5WkgQDDcPHBr2xlArtlANXuQFEBdJadFHckQQI2Avh0ZsQtAjYiwt1rsBUCL0SDoVBgAQK6C0nEEjvc/CggLSme58T9sXU2orFPnP0v0JYz9Gdg/vT38vxYczD9nBQTe6kHHP1IhkEXJwKo/8OZnhCVAub+xtVgCpmqzP6DUpY6g0+k/PKK3T1h4+D8RTDjQc1EAQG/dAQs7TwJAQt2eHpPLAEBWEh074x//PyCap9ZSGf4/rEzaTySm/T+7aXhHRmr9P688KeqeNP0/ruZ4EemD/D8olrZcn9T7P0+vNc9hW/s/i9VVL+4P+z+0NzC24uz6P8731Kza8vo/xFf4SHzq+z+gYyHpvHb8P68ROkiFevw/BAjYdCga/D8AUp8VbW77P3JrF/nKmvo/qCQeGfq++T/dplwHJfn4P2G4p+Uva/g/OzZ0RqMZ+D8dmn/iar73P/OuA7Ka8PY/gaaeQHGn9T9hkyjAH1L0P3aZGhdAU/M/n8VP/g7P8j+90HxHNvfyPwhNBtgrqvk/\",\"dtype\":\"float64\",\"shape\":[75]},\"y\":{\"__ndarray__\":\"GhExyth1ND/Sv8nbtpRIP2vylNV0PVE/aTum7souWD/At0SJ8fVgPw3Iuahxymc/MSNhhJWvcD/bTfBN02d3P2zb5nxnaoA/CD5h5MAGhz8NmeH1TyaQP+zrCsc9p5Y/LbKd76fGnz/bLW5ISEmmPww9YvTcQq8/JV2OstnstT8Er5Y7M8G+P0c+r3jqkcU/5h99k6ZBzj88bCIzFzjVP4enV8oyxN0//yH99nXg5D8qOpLLf0jtP5kqGJXUifQ/c9cS8kHP/D+/DpwzojQEQIEmwoanVwxA4lgXt9HgE0BSSZ2AJuIbQAMJih9jjiNA5q4l5INuK0AwTKYKRj0zQNv5fmq8/DpAaCJseHrtQkB/+zpwzoxKQM3MzMzMeFJAZmZmZmZqWEAAAAAAAFxeQM3MzMzMJmJAmpmZmZkfZUBmZmZmZhhoQDMzMzMzEWtAAAAAAAAKbkBmZmZmZoFwQM3MzMzM/XFAMzMzMzN6c0CamZmZmfZ0QAAAAAAAc3ZAZmZmZmbvd0DNzMzMzGt5QDMzMzMz6HpAmpmZmZlkfEAAAAAAAOF9QGZmZmZmXX9AZmZmZuZsgECamZmZGSuBQM3MzMxM6YFAAAAAAICngkAzMzMzs2WDQGZmZmbmI4RAmpmZmRnihEDNzMzMTKCFQAAAAACAXoZAMzMzM7Mch0BmZmZm5tqHQJqZmZkZmYhAzczMzExXiUAAAAAAgBWKQDMzMzOz04pAZmZmZuaRi0CamZmZGVCMQM3MzMxMDo1AAAAAAIDMjUAzMzMzs4qOQGZmZmbmSI9A\",\"dtype\":\"float64\",\"shape\":[75]}},\"selected\":{\"id\":\"dd78c4f1-ca10-4d5d-92e9-b10888e9b8cc\",\"type\":\"Selection\"},\"selection_policy\":{\"id\":\"7202ab98-b63b-4881-9f96-909979f3d43f\",\"type\":\"UnionRenderers\"}},\"id\":\"00d2e3fe-f1d8-4459-84a4-a0013336c8a9\",\"type\":\"ColumnDataSource\"},{\"attributes\":{\"plot\":{\"id\":\"72c436f9-bd37-4730-a85d-5ab074e33bd8\",\"subtype\":\"Figure\",\"type\":\"Plot\"},\"ticker\":{\"id\":\"b130d6c9-050f-4898-8715-66333cd7d3ec\",\"type\":\"BasicTicker\"}},\"id\":\"ce26a092-ef5e-458c-b345-4ee19fa23adc\",\"type\":\"Grid\"},{\"attributes\":{},\"id\":\"f846f2c8-12a7-42a4-bcf9-eda484e46f5c\",\"type\":\"LinearScale\"},{\"attributes\":{\"source\":{\"id\":\"d5957c3d-ba45-40a1-8a4b-2e0764309314\",\"type\":\"ColumnDataSource\"}},\"id\":\"6edda3fe-6b5c-4b07-8edf-598b0a8f0a18\",\"type\":\"CDSView\"},{\"attributes\":{\"callback\":null,\"end\":0.01,\"start\":1020},\"id\":\"c3bb763f-a4b9-439f-9cd0-42816bda97e8\",\"type\":\"Range1d\"},{\"attributes\":{\"callback\":null,\"end\":2.3135572748904605,\"start\":-0.22322766227646001},\"id\":\"723b69d0-fb0b-4c39-a98d-d14b89ed30eb\",\"type\":\"Range1d\"},{\"attributes\":{},\"id\":\"11a03119-c93a-4463-9b3e-63c27f0ea55a\",\"type\":\"Selection\"},{\"attributes\":{\"callback\":null,\"data\":{\"x\":{\"__ndarray__\":\"QW/ChKHYRUABfBHv8BdDQO7pX4+S40FAjlrTPAs/QEBi55KjU0A8QOVEIjtRPTdAAW6pHa7pMUBoDUjHy+UpQJPUAjnkGiJAkii6KF00GkDyfPLi2t0UQPkZqhKpthFAXgmBeRVNDUDo1yrq/pUDQBJCuTYK9vU/YoFqy5OO+j/mD7q8ijIFQB7JG9aeDgtAKZPg33XgEEB3e15vURcWQASfV5qt/R1A31afOw7VJEBkZ/sSPswqQPJ8sfjH+ylASXHMMLlOJECnFuR/okcgQKATN+gOZBtALtOaGrQFFkBYLwnonigRQH3MfkLg4AtAJbaM1c4ICEAqMLR+58sCQGn6INO6Bfo/9OD7FbZF8T+Hs4EjcHrnP564dUqD6Ns/JQfYEdIQzT9x/Lwc00XAP+SGDp6tAKO/xAoZ+sRjyb+ScdT6eNyDv/4NISJvwuc/0BNwzqJ+9z+OhxM/9RYAQGCVqWPPlwFApa4RsMkGAECakb3Sg0P+P/wSdfkQIv0/okwaebtq/D8NcsI81zv8PzS6YIBmV/w/t/rzZVDu+z9vHpSuI3P7PzxXiTLKB/s/+xEut0e9+j80CdGvY4f6P91Lpyhohfo/hq2DgXOb+z8jUdf2UHz8P+0LQT6D/vw/NxBjOnr9/D975RKvuF38PyqTiuWeRvs/G8nM6yIW+j8IPCAwnv/4P9UcYY9Qbfg/OqB8rKY8+D929obcuzf4P6/7j5gVtPc/VtnblNCk9j8Yh5Uy8nP1P2TvKkPTiPQ/Kaw4REER9D/JF0FfkkT0P/aWmIV77/o/\",\"dtype\":\"float64\",\"shape\":[75]},\"y\":{\"__ndarray__\":\"GhExyth1ND/Sv8nbtpRIP2vylNV0PVE/aTum7souWD/At0SJ8fVgPw3Iuahxymc/MSNhhJWvcD/bTfBN02d3P2zb5nxnaoA/CD5h5MAGhz8NmeH1TyaQP+zrCsc9p5Y/LbKd76fGnz/bLW5ISEmmPww9YvTcQq8/JV2OstnstT8Er5Y7M8G+P0c+r3jqkcU/5h99k6ZBzj88bCIzFzjVP4enV8oyxN0//yH99nXg5D8qOpLLf0jtP5kqGJXUifQ/c9cS8kHP/D+/DpwzojQEQIEmwoanVwxA4lgXt9HgE0BSSZ2AJuIbQAMJih9jjiNA5q4l5INuK0AwTKYKRj0zQNv5fmq8/DpAaCJseHrtQkB/+zpwzoxKQM3MzMzMeFJAZmZmZmZqWEAAAAAAAFxeQM3MzMzMJmJAmpmZmZkfZUBmZmZmZhhoQDMzMzMzEWtAAAAAAAAKbkBmZmZmZoFwQM3MzMzM/XFAMzMzMzN6c0CamZmZmfZ0QAAAAAAAc3ZAZmZmZmbvd0DNzMzMzGt5QDMzMzMz6HpAmpmZmZlkfEAAAAAAAOF9QGZmZmZmXX9AZmZmZuZsgECamZmZGSuBQM3MzMxM6YFAAAAAAICngkAzMzMzs2WDQGZmZmbmI4RAmpmZmRnihEDNzMzMTKCFQAAAAACAXoZAMzMzM7Mch0BmZmZm5tqHQJqZmZkZmYhAzczMzExXiUAAAAAAgBWKQDMzMzOz04pAZmZmZuaRi0CamZmZGVCMQM3MzMxMDo1AAAAAAIDMjUAzMzMzs4qOQGZmZmbmSI9A\",\"dtype\":\"float64\",\"shape\":[75]}},\"selected\":{\"id\":\"a6c43416-5d88-43cb-a199-bd1d16b6983d\",\"type\":\"Selection\"},\"selection_policy\":{\"id\":\"871dc512-b307-438f-b659-efffa61bdb6d\",\"type\":\"UnionRenderers\"}},\"id\":\"d5957c3d-ba45-40a1-8a4b-2e0764309314\",\"type\":\"ColumnDataSource\"},{\"attributes\":{\"tools\":[{\"id\":\"0edb2353-a30b-4f67-af95-77668577d85b\",\"type\":\"PanTool\"},{\"id\":\"68737335-dfec-4225-b865-8699b07c67c3\",\"type\":\"WheelZoomTool\"},{\"id\":\"8b5dd34c-0959-494a-b4db-f2b22446033e\",\"type\":\"BoxZoomTool\"},{\"id\":\"8fd00f1a-13b6-4414-aac6-76247960c30d\",\"type\":\"SaveTool\"},{\"id\":\"6e6aa714-1475-47b0-933e-cb30ea8203f8\",\"type\":\"ResetTool\"},{\"id\":\"eae41d86-5c31-434e-91af-fb44c2a958ff\",\"type\":\"HelpTool\"},{\"id\":\"532142ee-848b-4146-bac1-124880f719c4\",\"type\":\"PanTool\"},{\"id\":\"f11944fa-758d-47e0-8065-c55ecad3bcd0\",\"type\":\"WheelZoomTool\"},{\"id\":\"4c92e77f-7f8f-419d-8b34-57c785aa8b18\",\"type\":\"BoxZoomTool\"},{\"id\":\"a05ddfdc-10af-45ae-ae27-a3d4fae2b128\",\"type\":\"SaveTool\"},{\"id\":\"01b81fd7-54cb-4e59-9663-4ac1e78ed771\",\"type\":\"ResetTool\"},{\"id\":\"8d8b61e1-9c0b-4d01-8fb8-382738c98887\",\"type\":\"HelpTool\"},{\"id\":\"63a5c032-380e-4efb-b22c-27c07060f7d8\",\"type\":\"PanTool\"},{\"id\":\"fbf959c6-8d7f-4bff-8c95-73f42f1b2060\",\"type\":\"WheelZoomTool\"},{\"id\":\"56e4ad2a-c4f5-40b7-a2f4-9f90cf83b61f\",\"type\":\"BoxZoomTool\"},{\"id\":\"9ec1525b-25fe-4579-bed9-8b412f0f3f90\",\"type\":\"SaveTool\"},{\"id\":\"cc0c7861-07ff-4a4e-a479-8b2c3ccce299\",\"type\":\"ResetTool\"},{\"id\":\"108b9fde-c829-42a7-8f07-fa3bfc8ad0a4\",\"type\":\"HelpTool\"}]},\"id\":\"753e62af-3d63-4d08-9706-64bb3e66afd8\",\"type\":\"ProxyToolbar\"},{\"attributes\":{\"axis_label\":\"pressure [mb]\",\"formatter\":{\"id\":\"ca62f089-4ad9-49fe-895e-cb34cffc26f1\",\"type\":\"BasicTickFormatter\"},\"plot\":{\"id\":\"6873a92d-40ed-44c5-a910-b1ac7f701b21\",\"subtype\":\"Figure\",\"type\":\"Plot\"},\"ticker\":{\"id\":\"d5a16839-79fd-4758-b887-6fd6f6625be8\",\"type\":\"BasicTicker\"}},\"id\":\"866030fc-e931-4ed9-b82f-888ec514b406\",\"type\":\"LinearAxis\"},{\"attributes\":{\"children\":[{\"id\":\"926318b5-6657-419d-b3fc-b8c9e636f4e1\",\"type\":\"Row\"}]},\"id\":\"50a92976-ad84-42d9-8c90-ca77b3072569\",\"type\":\"Column\"},{\"attributes\":{},\"id\":\"0edb2353-a30b-4f67-af95-77668577d85b\",\"type\":\"PanTool\"},{\"attributes\":{},\"id\":\"a4e9d62b-9ea6-48f7-af0c-ac1df85a3ed6\",\"type\":\"UnionRenderers\"},{\"attributes\":{},\"id\":\"68737335-dfec-4225-b865-8699b07c67c3\",\"type\":\"WheelZoomTool\"},{\"attributes\":{},\"id\":\"b130d6c9-050f-4898-8715-66333cd7d3ec\",\"type\":\"BasicTicker\"},{\"attributes\":{\"children\":[{\"id\":\"6873a92d-40ed-44c5-a910-b1ac7f701b21\",\"subtype\":\"Figure\",\"type\":\"Plot\"},{\"id\":\"47acec97-9972-43b4-930d-9cf1602d9816\",\"subtype\":\"Figure\",\"type\":\"Plot\"},{\"id\":\"72c436f9-bd37-4730-a85d-5ab074e33bd8\",\"subtype\":\"Figure\",\"type\":\"Plot\"}]},\"id\":\"926318b5-6657-419d-b3fc-b8c9e636f4e1\",\"type\":\"Row\"},{\"attributes\":{},\"id\":\"6e6aa714-1475-47b0-933e-cb30ea8203f8\",\"type\":\"ResetTool\"},{\"attributes\":{},\"id\":\"3bcd1495-f9a1-4064-83d3-57083474154b\",\"type\":\"Selection\"},{\"attributes\":{\"fill_alpha\":{\"value\":0.1},\"fill_color\":{\"value\":\"#1f77b4\"},\"line_alpha\":{\"value\":0.1},\"line_color\":{\"value\":\"#1f77b4\"},\"x\":{\"field\":\"x\"},\"y\":{\"field\":\"y\"}},\"id\":\"2668289a-ba9b-465f-a23d-ba40fedef7cc\",\"type\":\"Circle\"},{\"attributes\":{\"line_alpha\":0.1,\"line_color\":\"#1f77b4\",\"line_width\":1.5,\"x\":{\"field\":\"x\"},\"y\":{\"field\":\"y\"}},\"id\":\"b2120ee1-9424-4944-928e-3823cc758311\",\"type\":\"Line\"},{\"attributes\":{},\"id\":\"90cd7874-d813-4c7c-bbc8-ed4cf0c841ce\",\"type\":\"BasicTickFormatter\"},{\"attributes\":{\"items\":[{\"id\":\"4fa0dc66-02e2-4a71-902b-66852b812721\",\"type\":\"LegendItem\"},{\"id\":\"c9718d42-c0a3-410d-9e91-447b62e274ff\",\"type\":\"LegendItem\"},{\"id\":\"0f205744-ef62-4836-8fae-c772c107e696\",\"type\":\"LegendItem\"}],\"label_text_font_size\":{\"value\":\"8pt\"},\"location\":\"top_center\",\"orientation\":\"horizontal\",\"plot\":{\"id\":\"6873a92d-40ed-44c5-a910-b1ac7f701b21\",\"subtype\":\"Figure\",\"type\":\"Plot\"}},\"id\":\"9f21647f-c089-4084-88a8-2a80fa7fdab8\",\"type\":\"Legend\"},{\"attributes\":{\"plot\":null,\"text\":\"\"},\"id\":\"e60cfabf-ddb9-4f74-b0f4-10e9ce1f8dcc\",\"type\":\"Title\"},{\"attributes\":{\"callback\":null,\"data\":{\"x\":{\"__ndarray__\":\"cm1sTMT3VEDEyvjosEJHQOKI6DjzCUNArgQWV9awPkB9Lm8XG3M4QEz+Qv6iYzNA7eV8HaPLLkCX1QHyTpMoQFBmYSYetiNAUB04GtGpH0AmFyVE5j8ZQJca9QPGqBNALJP+OOHHDEBNxaf7QF8AQKtislomWuw/cW2dcO6A9T/uJJvfPu0EQIaQLTI/JQ1AxGiII+PmEkCJvfVeuCsYQD6ZBhGbHB9AXQw69DTYJEAsubcwKucqQNuT9D5OmipAJyi3szEJJUBlNebh5WkgQDDcPHBr2xlArtlANXuQFEBdJadFHckQQI2Avh0ZsQtAjYiwt1rsBUCL0SDoVBgAQK6C0nEEjvc/CggLSme58T9sXU2orFPnP0v0JYz9Gdg/vT38vxYczD9nBQTe6kHHP1IhkEXJwKo/8OZnhCVAub+xtVgCpmqzP6DUpY6g0+k/PKK3T1h4+D8RTDjQc1EAQG/dAQs7TwJAQt2eHpPLAEBWEh074x//PyCap9ZSGf4/rEzaTySm/T+7aXhHRmr9P688KeqeNP0/ruZ4EemD/D8olrZcn9T7P0+vNc9hW/s/i9VVL+4P+z+0NzC24uz6P8731Kza8vo/xFf4SHzq+z+gYyHpvHb8P68ROkiFevw/BAjYdCga/D8AUp8VbW77P3JrF/nKmvo/qCQeGfq++T/dplwHJfn4P2G4p+Uva/g/OzZ0RqMZ+D8dmn/iar73P/OuA7Ka8PY/gaaeQHGn9T9hkyjAH1L0P3aZGhdAU/M/n8VP/g7P8j+90HxHNvfyPwhNBtgrqvk/\",\"dtype\":\"float64\",\"shape\":[75]},\"y\":{\"__ndarray__\":\"GhExyth1ND/Sv8nbtpRIP2vylNV0PVE/aTum7souWD/At0SJ8fVgPw3Iuahxymc/MSNhhJWvcD/bTfBN02d3P2zb5nxnaoA/CD5h5MAGhz8NmeH1TyaQP+zrCsc9p5Y/LbKd76fGnz/bLW5ISEmmPww9YvTcQq8/JV2OstnstT8Er5Y7M8G+P0c+r3jqkcU/5h99k6ZBzj88bCIzFzjVP4enV8oyxN0//yH99nXg5D8qOpLLf0jtP5kqGJXUifQ/c9cS8kHP/D+/DpwzojQEQIEmwoanVwxA4lgXt9HgE0BSSZ2AJuIbQAMJih9jjiNA5q4l5INuK0AwTKYKRj0zQNv5fmq8/DpAaCJseHrtQkB/+zpwzoxKQM3MzMzMeFJAZmZmZmZqWEAAAAAAAFxeQM3MzMzMJmJAmpmZmZkfZUBmZmZmZhhoQDMzMzMzEWtAAAAAAAAKbkBmZmZmZoFwQM3MzMzM/XFAMzMzMzN6c0CamZmZmfZ0QAAAAAAAc3ZAZmZmZmbvd0DNzMzMzGt5QDMzMzMz6HpAmpmZmZlkfEAAAAAAAOF9QGZmZmZmXX9AZmZmZuZsgECamZmZGSuBQM3MzMxM6YFAAAAAAICngkAzMzMzs2WDQGZmZmbmI4RAmpmZmRnihEDNzMzMTKCFQAAAAACAXoZAMzMzM7Mch0BmZmZm5tqHQJqZmZkZmYhAzczMzExXiUAAAAAAgBWKQDMzMzOz04pAZmZmZuaRi0CamZmZGVCMQM3MzMxMDo1AAAAAAIDMjUAzMzMzs4qOQGZmZmbmSI9A\",\"dtype\":\"float64\",\"shape\":[75]}},\"selected\":{\"id\":\"c124b543-6968-483f-88dd-356addf2a7ce\",\"type\":\"Selection\"},\"selection_policy\":{\"id\":\"1bb8b31c-7bc2-40e7-9971-b2de96ae3dd0\",\"type\":\"UnionRenderers\"}},\"id\":\"4be5ad24-ed98-4dac-a111-df7ef476f51b\",\"type\":\"ColumnDataSource\"},{\"attributes\":{\"dimension\":1,\"plot\":{\"id\":\"6873a92d-40ed-44c5-a910-b1ac7f701b21\",\"subtype\":\"Figure\",\"type\":\"Plot\"},\"ticker\":{\"id\":\"d5a16839-79fd-4758-b887-6fd6f6625be8\",\"type\":\"BasicTicker\"}},\"id\":\"031029aa-5387-4f67-a4a0-321c0ab9bd6a\",\"type\":\"Grid\"},{\"attributes\":{},\"id\":\"d5a16839-79fd-4758-b887-6fd6f6625be8\",\"type\":\"BasicTicker\"},{\"attributes\":{},\"id\":\"844796c4-164e-451a-ab8d-3d19eacdccc4\",\"type\":\"UnionRenderers\"},{\"attributes\":{\"children\":[{\"id\":\"8f8e5d5e-93e5-4562-b8fb-c97f532529dd\",\"type\":\"ToolbarBox\"},{\"id\":\"50a92976-ad84-42d9-8c90-ca77b3072569\",\"type\":\"Column\"}]},\"id\":\"23e26b2a-a5df-4c91-9d8c-a8bb39361055\",\"type\":\"Column\"},{\"attributes\":{},\"id\":\"31717069-ce95-4f22-a030-f1ce1bcc5b48\",\"type\":\"BasicTicker\"},{\"attributes\":{\"source\":{\"id\":\"00d2e3fe-f1d8-4459-84a4-a0013336c8a9\",\"type\":\"ColumnDataSource\"}},\"id\":\"57fd525f-7db7-40b0-905a-78d25a94ff5c\",\"type\":\"CDSView\"},{\"attributes\":{},\"id\":\"e4b7767f-9af4-4c23-9318-64388c298f6d\",\"type\":\"LinearScale\"},{\"attributes\":{\"line_alpha\":0.1,\"line_color\":\"#1f77b4\",\"line_dash\":[6],\"line_width\":5,\"x\":{\"field\":\"x\"},\"y\":{\"field\":\"y\"}},\"id\":\"93baa212-d356-4b68-a48e-2c4c175c7055\",\"type\":\"Line\"},{\"attributes\":{},\"id\":\"8fd00f1a-13b6-4414-aac6-76247960c30d\",\"type\":\"SaveTool\"},{\"attributes\":{},\"id\":\"6f0dd2c0-38aa-4c22-9d63-7ae83537bc97\",\"type\":\"LinearScale\"},{\"attributes\":{},\"id\":\"ed85029c-6f98-4774-80da-787fc0c64a0d\",\"type\":\"Selection\"},{\"attributes\":{\"line_color\":\"#4daf4a\",\"line_width\":1.5,\"x\":{\"field\":\"x\"},\"y\":{\"field\":\"y\"}},\"id\":\"cf927141-2cd0-4010-bfc5-324961126aa5\",\"type\":\"Line\"},{\"attributes\":{\"fill_alpha\":{\"value\":0.7},\"fill_color\":{\"value\":\"#4daf4a\"},\"line_alpha\":{\"value\":0.7},\"line_color\":{\"value\":\"#4daf4a\"},\"x\":{\"field\":\"x\"},\"y\":{\"field\":\"y\"}},\"id\":\"daee81a2-8c35-4ae8-b885-fcc52f7d7e7a\",\"type\":\"Circle\"},{\"attributes\":{\"axis_label\":\"cooling rate [K/day]\",\"formatter\":{\"id\":\"e8d09d73-7845-44c3-be3c-fc37ee1b60ef\",\"type\":\"BasicTickFormatter\"},\"plot\":{\"id\":\"6873a92d-40ed-44c5-a910-b1ac7f701b21\",\"subtype\":\"Figure\",\"type\":\"Plot\"},\"ticker\":{\"id\":\"31717069-ce95-4f22-a030-f1ce1bcc5b48\",\"type\":\"BasicTicker\"}},\"id\":\"2b9337e1-2516-4eb2-8fc3-738fad10f07d\",\"type\":\"LinearAxis\"},{\"attributes\":{\"data_source\":{\"id\":\"4be5ad24-ed98-4dac-a111-df7ef476f51b\",\"type\":\"ColumnDataSource\"},\"glyph\":{\"id\":\"cf927141-2cd0-4010-bfc5-324961126aa5\",\"type\":\"Line\"},\"hover_glyph\":null,\"muted_glyph\":null,\"nonselection_glyph\":{\"id\":\"b2120ee1-9424-4944-928e-3823cc758311\",\"type\":\"Line\"},\"selection_glyph\":null,\"view\":{\"id\":\"50a09029-1cac-41b1-80c5-5945f40c5ca3\",\"type\":\"CDSView\"}},\"id\":\"a1406e0c-7e90-46a2-a332-86a5e5c59246\",\"type\":\"GlyphRenderer\"},{\"attributes\":{\"items\":[{\"id\":\"f094078a-808d-40a4-b0bf-994bf0c95a24\",\"type\":\"LegendItem\"},{\"id\":\"5261b70f-2839-456c-b6d4-2ae722592f3d\",\"type\":\"LegendItem\"}],\"label_text_font_size\":{\"value\":\"8pt\"},\"location\":\"top_center\",\"orientation\":\"horizontal\",\"plot\":{\"id\":\"72c436f9-bd37-4730-a85d-5ab074e33bd8\",\"subtype\":\"Figure\",\"type\":\"Plot\"}},\"id\":\"a72d64f5-38cb-4835-94bd-e4d7ef480a81\",\"type\":\"Legend\"},{\"attributes\":{\"active_drag\":\"auto\",\"active_inspect\":\"auto\",\"active_scroll\":\"auto\",\"active_tap\":\"auto\",\"tools\":[{\"id\":\"0edb2353-a30b-4f67-af95-77668577d85b\",\"type\":\"PanTool\"},{\"id\":\"68737335-dfec-4225-b865-8699b07c67c3\",\"type\":\"WheelZoomTool\"},{\"id\":\"8b5dd34c-0959-494a-b4db-f2b22446033e\",\"type\":\"BoxZoomTool\"},{\"id\":\"8fd00f1a-13b6-4414-aac6-76247960c30d\",\"type\":\"SaveTool\"},{\"id\":\"6e6aa714-1475-47b0-933e-cb30ea8203f8\",\"type\":\"ResetTool\"},{\"id\":\"eae41d86-5c31-434e-91af-fb44c2a958ff\",\"type\":\"HelpTool\"}]},\"id\":\"96ad3aaf-96a6-418d-8672-7b2d3f927427\",\"type\":\"Toolbar\"},{\"attributes\":{\"callback\":null,\"data\":{\"x\":{\"__ndarray__\":\"oGsWFOcWRMAMO53n/6ogwD3viZgKZgLA/QYLKQLU/D8kxx1hxGkOQMQ0+uZxzQ5AVNhXd+QeBEAOfWNUzSflP8Ab6dWes+m/+NL3xc/V9b/FaMqELYjxv9IJsBTPId+/TcZOEIimsD/RlBh077XZP+5CgCXcI98/xk80a5U21D+mvbpH91KhP0I7juACtdC/1aw+HWoz4L+eELp8N6Pgv46j72rX7tG/sPOr1cQ1eb8yylG8HeyqvzLdYsjI0NO/iNtWXRBP17+iXw8BsSGxvwV3o383itg/95efVY5T1z8Wf4KYaOC3Pxz4JWCS45c/xGzh7qDj0D/z9Jq0lJzVP9S9cwqzvcM/ncXJA03snL/+DCuavWFzP5gifvItdK4/6ix5O2qXfj/VIxwFX/CrvyFUz3G74La/my7Kb2SHub/iQ7MhNea1vxA1JmSLibC/ec3xKLA2r7/CQWKSSD+dv/kBCet07ba/jdOl0S2ZuL/hF/AL7Yurv4nkUKY76K6/oQAAbI22s7/sel+r8Oayv1lPEDkNp6u/hX6dcBWzor/B7Z2I616YvxIFFivn5ZS/kePwCZ6plL+En8uXwV+Zv6r8aguhXJu/hY8q3THCk78YErbXNlBWP49H38C+f6A/WwZhsThqrD+Qb3Iuc+mtP/D2ZI59eqU/qxypqzTKlT/wr1QOo+RZP+CjI8tNBUE/JP80BLOBgT9iFteBPlSeP2eXidFcb6g/plqmh+qrrz+CO88mJx2yP91eBcEyWbM/pmiOXiQjtD+1cER8wdW0P/GeJNn6VLQ/\",\"dtype\":\"float64\",\"shape\":[75]},\"y\":{\"__ndarray__\":\"GhExyth1ND/Sv8nbtpRIP2vylNV0PVE/aTum7souWD/At0SJ8fVgPw3Iuahxymc/MSNhhJWvcD/bTfBN02d3P2zb5nxnaoA/CD5h5MAGhz8NmeH1TyaQP+zrCsc9p5Y/LbKd76fGnz/bLW5ISEmmPww9YvTcQq8/JV2OstnstT8Er5Y7M8G+P0c+r3jqkcU/5h99k6ZBzj88bCIzFzjVP4enV8oyxN0//yH99nXg5D8qOpLLf0jtP5kqGJXUifQ/c9cS8kHP/D+/DpwzojQEQIEmwoanVwxA4lgXt9HgE0BSSZ2AJuIbQAMJih9jjiNA5q4l5INuK0AwTKYKRj0zQNv5fmq8/DpAaCJseHrtQkB/+zpwzoxKQM3MzMzMeFJAZmZmZmZqWEAAAAAAAFxeQM3MzMzMJmJAmpmZmZkfZUBmZmZmZhhoQDMzMzMzEWtAAAAAAAAKbkBmZmZmZoFwQM3MzMzM/XFAMzMzMzN6c0CamZmZmfZ0QAAAAAAAc3ZAZmZmZmbvd0DNzMzMzGt5QDMzMzMz6HpAmpmZmZlkfEAAAAAAAOF9QGZmZmZmXX9AZmZmZuZsgECamZmZGSuBQM3MzMxM6YFAAAAAAICngkAzMzMzs2WDQGZmZmbmI4RAmpmZmRnihEDNzMzMTKCFQAAAAACAXoZAMzMzM7Mch0BmZmZm5tqHQJqZmZkZmYhAzczMzExXiUAAAAAAgBWKQDMzMzOz04pAZmZmZuaRi0CamZmZGVCMQM3MzMxMDo1AAAAAAIDMjUAzMzMzs4qOQGZmZmbmSI9A\",\"dtype\":\"float64\",\"shape\":[75]}},\"selected\":{\"id\":\"58b652a9-0620-43b3-9a77-cdcdf9c7ed71\",\"type\":\"Selection\"},\"selection_policy\":{\"id\":\"7b8a3a43-1daa-456a-94da-2c380f43b220\",\"type\":\"UnionRenderers\"}},\"id\":\"e5e958cf-6005-4cb0-8bcd-7c403b4cf703\",\"type\":\"ColumnDataSource\"},{\"attributes\":{\"dimension\":1,\"plot\":{\"id\":\"47acec97-9972-43b4-930d-9cf1602d9816\",\"subtype\":\"Figure\",\"type\":\"Plot\"},\"ticker\":{\"id\":\"6b59a1fb-8ba7-43e1-85a2-448b3bd64f47\",\"type\":\"LogTicker\"}},\"id\":\"f3fa033c-b30b-49fd-b364-ede81096abb2\",\"type\":\"Grid\"},{\"attributes\":{\"label\":{\"value\":\"CRD\"},\"renderers\":[{\"id\":\"36a3eaa5-08ed-48ee-9de1-fe222e4d51e2\",\"type\":\"GlyphRenderer\"},{\"id\":\"feb5fcdd-489c-458d-a3e6-7110581d2597\",\"type\":\"GlyphRenderer\"}]},\"id\":\"ef12f3b4-9d00-4720-9ac4-2e4221a28c09\",\"type\":\"LegendItem\"},{\"attributes\":{\"label\":{\"value\":\"CRD\"},\"renderers\":[{\"id\":\"eb09d406-526b-4c5b-83bc-1e7de4efed85\",\"type\":\"GlyphRenderer\"},{\"id\":\"a1406e0c-7e90-46a2-a332-86a5e5c59246\",\"type\":\"GlyphRenderer\"}]},\"id\":\"c9718d42-c0a3-410d-9e91-447b62e274ff\",\"type\":\"LegendItem\"},{\"attributes\":{\"num_minor_ticks\":10},\"id\":\"6b59a1fb-8ba7-43e1-85a2-448b3bd64f47\",\"type\":\"LogTicker\"},{\"attributes\":{\"above\":[{\"id\":\"9f21647f-c089-4084-88a8-2a80fa7fdab8\",\"type\":\"Legend\"}],\"below\":[{\"id\":\"2b9337e1-2516-4eb2-8fc3-738fad10f07d\",\"type\":\"LinearAxis\"}],\"left\":[{\"id\":\"866030fc-e931-4ed9-b82f-888ec514b406\",\"type\":\"LinearAxis\"}],\"plot_width\":300,\"renderers\":[{\"id\":\"2b9337e1-2516-4eb2-8fc3-738fad10f07d\",\"type\":\"LinearAxis\"},{\"id\":\"f0b311d8-b09d-4e98-8af1-879e82a84dd4\",\"type\":\"Grid\"},{\"id\":\"866030fc-e931-4ed9-b82f-888ec514b406\",\"type\":\"LinearAxis\"},{\"id\":\"031029aa-5387-4f67-a4a0-321c0ab9bd6a\",\"type\":\"Grid\"},{\"id\":\"dfaa9bc1-8663-4f6f-80b5-ed2a1758d765\",\"type\":\"BoxAnnotation\"},{\"id\":\"7717c224-142e-4f23-a995-5433cd06c3e3\",\"type\":\"GlyphRenderer\"},{\"id\":\"eb09d406-526b-4c5b-83bc-1e7de4efed85\",\"type\":\"GlyphRenderer\"},{\"id\":\"a1406e0c-7e90-46a2-a332-86a5e5c59246\",\"type\":\"GlyphRenderer\"},{\"id\":\"39e45b8b-8881-433b-9dce-ba137d1cff5d\",\"type\":\"GlyphRenderer\"},{\"id\":\"d0716d06-0170-4f75-bfd6-4253da48bf60\",\"type\":\"GlyphRenderer\"},{\"id\":\"9f21647f-c089-4084-88a8-2a80fa7fdab8\",\"type\":\"Legend\"}],\"title\":{\"id\":\"ef571171-700d-4dad-82aa-5f771e0f6945\",\"type\":\"Title\"},\"toolbar\":{\"id\":\"96ad3aaf-96a6-418d-8672-7b2d3f927427\",\"type\":\"Toolbar\"},\"toolbar_location\":null,\"x_range\":{\"id\":\"723b69d0-fb0b-4c39-a98d-d14b89ed30eb\",\"type\":\"Range1d\"},\"x_scale\":{\"id\":\"e4b7767f-9af4-4c23-9318-64388c298f6d\",\"type\":\"LinearScale\"},\"y_range\":{\"id\":\"660e63b3-5e13-4738-9497-926e5bb98180\",\"type\":\"Range1d\"},\"y_scale\":{\"id\":\"6f0dd2c0-38aa-4c22-9d63-7ae83537bc97\",\"type\":\"LinearScale\"}},\"id\":\"6873a92d-40ed-44c5-a910-b1ac7f701b21\",\"subtype\":\"Figure\",\"type\":\"Plot\"},{\"attributes\":{},\"id\":\"6a1b61b4-4754-42a0-9308-cab4c0f1422d\",\"type\":\"BasicTicker\"},{\"attributes\":{\"label\":{\"value\":\"CLIRAD (single-run)\"},\"renderers\":[{\"id\":\"7717c224-142e-4f23-a995-5433cd06c3e3\",\"type\":\"GlyphRenderer\"}]},\"id\":\"4fa0dc66-02e2-4a71-902b-66852b812721\",\"type\":\"LegendItem\"},{\"attributes\":{\"source\":{\"id\":\"6ac48ee7-a89f-40e8-ae49-e431cb8a0d7c\",\"type\":\"ColumnDataSource\"}},\"id\":\"cf23e278-f8ae-46db-8a82-df393f1f77e7\",\"type\":\"CDSView\"},{\"attributes\":{\"plot\":{\"id\":\"47acec97-9972-43b4-930d-9cf1602d9816\",\"subtype\":\"Figure\",\"type\":\"Plot\"},\"ticker\":{\"id\":\"6a1b61b4-4754-42a0-9308-cab4c0f1422d\",\"type\":\"BasicTicker\"}},\"id\":\"ef030457-f1e4-44ba-9313-f576d4810d76\",\"type\":\"Grid\"},{\"attributes\":{\"callback\":null,\"end\":0.01,\"start\":1020},\"id\":\"2d91a4ce-d221-4773-a54a-8bff65db6cfb\",\"type\":\"Range1d\"},{\"attributes\":{\"callback\":null,\"data\":{\"x\":{\"__ndarray__\":\"MXhf+wfXU0AZbvNjswdFQLQWsEQVdUFA5TlpnhT9QUB/x1dOYK05QImjxHmcEjZA9jYDSBB3L0AISPl4H6wqQBPuuwfAzyJAOcHprUZAIUB7WWpkesAXQJoT1Uq+ChVArO/8u0EXCkBgVNlshzgCQMeNQ+Nzu/I/POwv1Qzh+D9QxMRmcj8DQOrE7tC4mAxAQsLBRIlHEkAi4cPYoDEXQEeDpjRjzB1ASZ0GEfCuI0DVFj11sssnQOMiVKSMHyhAWRHvUxNoJEDo8cjD4g8gQLGGvR2NDRpAdpI3nV5oFECtyWH9Lp4QQIZQd9bvmwtAkshlnu1BBkBMysnQf1UAQHZJU/DYZ/c/HoEhV+G48T/rSm4vc/TmP3EgV4cD49g/xmy6+4w7zz+bEsjh3uDDPw5SRMRogKs/4GPKdPc1a78lazVXN1vCP/B84ODeUug/LOyxgXDV9z+/DBHyZAwAQAOIY+fy/QFAahF3XKCUAECV0GHvGsz+P+X4k4Nhvf0/RO/IqI98/T8rkW+v/zT9P59vGMDsAv0/zEX7plCY/D/E3siS8kj7P2yUMv+hDvs/RmrXDaYs+z+c9f5GCO36P58nVCbr7vo/Qus8hbcy/D+rD5hFMCf9P4t6dxofnPw/bRp4QYZ2/D/q8NNiN2b8P5YTVw9ESPw/l1Dy0X/K+j+WKih3ZdD5P2k8OYxHjvk/hceGh5N4+T8lpPahWSn5P6vJnePt4vY/UuhmxnXI9T8miFqdE+D0Pz7qfx5CR/Q/0khvq2US9D9LfVdHQGv0P9syeEmwYfg/\",\"dtype\":\"float64\",\"shape\":[75]},\"y\":{\"__ndarray__\":\"hLndy31yND/6fmq8dJNIP8n9DkWBPlE/aDum7souWD/b4a/JGvVgP9f34SAhymc/ZvM4DOavcD+z0M5pFmh3PxuC4zJuaoA/xjcUPlsHhz8uHAjJAiaQP9ieWRKgppY/oI7HDFTGnz+a5h2n6EimPzS6g9iZQq8/IuAQqtTstT9SSZ2AJsK+P4nS3uALk8U/ih9j7lpCzj+ASL99HTjVP4enV8oyxN0/ACL99nXg5D9fmEwVjErtPyUGgZVDi/Q/AiuHFtnO/D9OYhBYOTQEQPHSTWIQWAxA4XoUrkfhE0D8qfHSTeIbQMh2vp8ajyNArkfhehRuK0Bcj8L1KDwzQFyPwvUo/DpAPgrXo3DtQkDNzMzMzIxKQClcj8L1eFJAKVyPwvVoWECamZmZmVleQGZmZmZmJmJAAAAAAAAgZUCamZmZmRloQJqZmZmZEWtAmpmZmZkJbkCamZmZmYFwQGZmZmZm/nFAZmZmZmZ6c0BmZmZmZvZ0QDQzMzMzc3ZAAAAAAADwd0AAAAAAAGx5QAAAAAAA6HpAzMzMzMxkfEDMzMzMzOB9QM3MzMzMXH9AzczMzMxsgEAzMzMzMyuBQDMzMzMz6YFAMzMzMzOngkCamZmZmWWDQAAAAAAAJIRAAAAAAADihEAAAAAAAKCFQGZmZmZmXoZAzczMzMwch0DNzMzMzNqHQM3MzMzMmIhAMzMzMzNXiUCamZmZmRWKQAAAAAAA1IpAAAAAAACSi0AAAAAAAFCMQGZmZmZmDo1AzczMzMzMjUDNzMzMzIqOQM3MzMzMSI9A\",\"dtype\":\"float64\",\"shape\":[75]}},\"selected\":{\"id\":\"8ef6063c-8981-4dc5-880f-6b488f391f2d\",\"type\":\"Selection\"},\"selection_policy\":{\"id\":\"e49a0a4c-d185-4445-93cc-9bce861071bd\",\"type\":\"UnionRenderers\"}},\"id\":\"864076d3-3c97-4f16-9cf0-6a726f7f13a3\",\"type\":\"ColumnDataSource\"},{\"attributes\":{},\"id\":\"8a1cbc7d-ee76-483b-8978-42cc24bc7b0c\",\"type\":\"LinearScale\"},{\"attributes\":{\"callback\":null,\"end\":13.587992271301857,\"start\":-0.33485573154785997},\"id\":\"e83c3d35-d591-4ce5-a44f-08fcc968564e\",\"type\":\"Range1d\"},{\"attributes\":{\"axis_label\":\"pressure [mb]\",\"formatter\":{\"id\":\"f25484b4-3874-4e20-85cd-345f1f8eb63a\",\"type\":\"LogTickFormatter\"},\"plot\":{\"id\":\"47acec97-9972-43b4-930d-9cf1602d9816\",\"subtype\":\"Figure\",\"type\":\"Plot\"},\"ticker\":{\"id\":\"6b59a1fb-8ba7-43e1-85a2-448b3bd64f47\",\"type\":\"LogTicker\"}},\"id\":\"50b66460-4bf3-41d7-8dc9-eecb3603cd29\",\"type\":\"LogAxis\"},{\"attributes\":{\"axis_label\":\"cooling rate [K/day]\",\"formatter\":{\"id\":\"5288be03-9670-4fae-8f62-112adf979672\",\"type\":\"BasicTickFormatter\"},\"plot\":{\"id\":\"47acec97-9972-43b4-930d-9cf1602d9816\",\"subtype\":\"Figure\",\"type\":\"Plot\"},\"ticker\":{\"id\":\"6a1b61b4-4754-42a0-9308-cab4c0f1422d\",\"type\":\"BasicTicker\"}},\"id\":\"df965c91-3d27-431c-82c7-c76f1677901a\",\"type\":\"LinearAxis\"},{\"attributes\":{\"data_source\":{\"id\":\"6ac48ee7-a89f-40e8-ae49-e431cb8a0d7c\",\"type\":\"ColumnDataSource\"},\"glyph\":{\"id\":\"8865ee00-ea5f-4547-8759-9b5e792fc1cf\",\"type\":\"Circle\"},\"hover_glyph\":null,\"muted_glyph\":null,\"nonselection_glyph\":{\"id\":\"555d1425-af4d-4155-92d7-490a70bb077e\",\"type\":\"Circle\"},\"selection_glyph\":null,\"view\":{\"id\":\"cf23e278-f8ae-46db-8a82-df393f1f77e7\",\"type\":\"CDSView\"}},\"id\":\"09da0c7a-c281-42ec-91e7-95e1aaefb1a5\",\"type\":\"GlyphRenderer\"},{\"attributes\":{},\"id\":\"5b118734-3578-4029-83a1-41add392c3f1\",\"type\":\"LogScale\"},{\"attributes\":{\"line_alpha\":0.8,\"line_color\":\"#984ea3\",\"line_width\":1.5,\"x\":{\"field\":\"x\"},\"y\":{\"field\":\"y\"}},\"id\":\"e6d3c583-0b8b-40e3-93c5-4d2a715efd33\",\"type\":\"Line\"},{\"attributes\":{\"fill_alpha\":{\"value\":0.1},\"fill_color\":{\"value\":\"#1f77b4\"},\"line_alpha\":{\"value\":0.1},\"line_color\":{\"value\":\"#1f77b4\"},\"x\":{\"field\":\"x\"},\"y\":{\"field\":\"y\"}},\"id\":\"605a0176-5caa-4992-83cc-8272b3224821\",\"type\":\"Square\"},{\"attributes\":{\"data_source\":{\"id\":\"864076d3-3c97-4f16-9cf0-6a726f7f13a3\",\"type\":\"ColumnDataSource\"},\"glyph\":{\"id\":\"238e4394-0a25-469f-92e9-f44c601d8852\",\"type\":\"Line\"},\"hover_glyph\":null,\"muted_glyph\":null,\"nonselection_glyph\":{\"id\":\"d721b615-7221-4eb1-b6f1-f61a8b7dcef4\",\"type\":\"Line\"},\"selection_glyph\":null,\"view\":{\"id\":\"76747c07-0f31-43ab-9c91-c988089c60bc\",\"type\":\"CDSView\"}},\"id\":\"d0716d06-0170-4f75-bfd6-4253da48bf60\",\"type\":\"GlyphRenderer\"},{\"attributes\":{\"active_drag\":\"auto\",\"active_inspect\":\"auto\",\"active_scroll\":\"auto\",\"active_tap\":\"auto\",\"tools\":[{\"id\":\"63a5c032-380e-4efb-b22c-27c07060f7d8\",\"type\":\"PanTool\"},{\"id\":\"fbf959c6-8d7f-4bff-8c95-73f42f1b2060\",\"type\":\"WheelZoomTool\"},{\"id\":\"56e4ad2a-c4f5-40b7-a2f4-9f90cf83b61f\",\"type\":\"BoxZoomTool\"},{\"id\":\"9ec1525b-25fe-4579-bed9-8b412f0f3f90\",\"type\":\"SaveTool\"},{\"id\":\"cc0c7861-07ff-4a4e-a479-8b2c3ccce299\",\"type\":\"ResetTool\"},{\"id\":\"108b9fde-c829-42a7-8f07-fa3bfc8ad0a4\",\"type\":\"HelpTool\"}]},\"id\":\"bf6b8990-9439-468c-b844-606c26c81932\",\"type\":\"Toolbar\"},{\"attributes\":{\"line_alpha\":0.1,\"line_color\":\"#1f77b4\",\"line_width\":1.5,\"x\":{\"field\":\"x\"},\"y\":{\"field\":\"y\"}},\"id\":\"d721b615-7221-4eb1-b6f1-f61a8b7dcef4\",\"type\":\"Line\"},{\"attributes\":{\"source\":{\"id\":\"bd8633de-35ee-4808-9e61-91b05ed689f5\",\"type\":\"ColumnDataSource\"}},\"id\":\"83f9861d-12c4-4c76-ae25-8a0cb4e8fcab\",\"type\":\"CDSView\"},{\"attributes\":{\"source\":{\"id\":\"4be5ad24-ed98-4dac-a111-df7ef476f51b\",\"type\":\"ColumnDataSource\"}},\"id\":\"50a09029-1cac-41b1-80c5-5945f40c5ca3\",\"type\":\"CDSView\"},{\"attributes\":{\"line_alpha\":0.6,\"line_color\":\"#377eb8\",\"line_dash\":[6],\"line_width\":5,\"x\":{\"field\":\"x\"},\"y\":{\"field\":\"y\"}},\"id\":\"d04ebf48-c23f-43fa-81e9-e17093ab0afb\",\"type\":\"Line\"},{\"attributes\":{\"line_alpha\":0.1,\"line_color\":\"#1f77b4\",\"line_width\":1.5,\"x\":{\"field\":\"x\"},\"y\":{\"field\":\"y\"}},\"id\":\"97c63fa6-414a-47a9-96d0-73a3892520d7\",\"type\":\"Line\"},{\"attributes\":{\"data_source\":{\"id\":\"bd8633de-35ee-4808-9e61-91b05ed689f5\",\"type\":\"ColumnDataSource\"},\"glyph\":{\"id\":\"33485aa8-15a0-445d-89a8-01e60c6d35d5\",\"type\":\"Square\"},\"hover_glyph\":null,\"muted_glyph\":null,\"nonselection_glyph\":{\"id\":\"605a0176-5caa-4992-83cc-8272b3224821\",\"type\":\"Square\"},\"selection_glyph\":null,\"view\":{\"id\":\"83f9861d-12c4-4c76-ae25-8a0cb4e8fcab\",\"type\":\"CDSView\"}},\"id\":\"39e45b8b-8881-433b-9dce-ba137d1cff5d\",\"type\":\"GlyphRenderer\"},{\"attributes\":{\"label\":{\"value\":\"old CLIRAD (H2012)\"},\"renderers\":[{\"id\":\"1ca33c56-7fad-44b7-be79-3238d6b13175\",\"type\":\"GlyphRenderer\"},{\"id\":\"3a95a0a9-cc84-4f85-9e6a-c00f24ec7129\",\"type\":\"GlyphRenderer\"}]},\"id\":\"017440c2-5145-406d-a7b0-0151cf9967f5\",\"type\":\"LegendItem\"},{\"attributes\":{\"source\":{\"id\":\"864076d3-3c97-4f16-9cf0-6a726f7f13a3\",\"type\":\"ColumnDataSource\"}},\"id\":\"76747c07-0f31-43ab-9c91-c988089c60bc\",\"type\":\"CDSView\"},{\"attributes\":{\"line_alpha\":0.6,\"line_color\":\"#377eb8\",\"line_dash\":[6],\"line_width\":5,\"x\":{\"field\":\"x\"},\"y\":{\"field\":\"y\"}},\"id\":\"7b0e00b3-4f60-4093-86da-646cfeae9cd8\",\"type\":\"Line\"},{\"attributes\":{\"fill_alpha\":{\"value\":0.7},\"fill_color\":{\"value\":\"#984ea3\"},\"line_alpha\":{\"value\":0.7},\"line_color\":{\"value\":\"#984ea3\"},\"x\":{\"field\":\"x\"},\"y\":{\"field\":\"y\"}},\"id\":\"33485aa8-15a0-445d-89a8-01e60c6d35d5\",\"type\":\"Square\"},{\"attributes\":{\"line_alpha\":0.5,\"line_color\":\"#984ea3\",\"line_width\":1.5,\"x\":{\"field\":\"x\"},\"y\":{\"field\":\"y\"}},\"id\":\"238e4394-0a25-469f-92e9-f44c601d8852\",\"type\":\"Line\"},{\"attributes\":{\"items\":[{\"id\":\"4a5565e3-a76c-4ee6-a8a9-2b37c082b5ed\",\"type\":\"LegendItem\"},{\"id\":\"ef12f3b4-9d00-4720-9ac4-2e4221a28c09\",\"type\":\"LegendItem\"},{\"id\":\"017440c2-5145-406d-a7b0-0151cf9967f5\",\"type\":\"LegendItem\"}],\"label_text_font_size\":{\"value\":\"8pt\"},\"location\":\"top_center\",\"orientation\":\"horizontal\",\"plot\":{\"id\":\"47acec97-9972-43b4-930d-9cf1602d9816\",\"subtype\":\"Figure\",\"type\":\"Plot\"}},\"id\":\"4849c392-af0c-4a4b-b62e-77df19f0f633\",\"type\":\"Legend\"},{\"attributes\":{\"active_drag\":\"auto\",\"active_inspect\":\"auto\",\"active_scroll\":\"auto\",\"active_tap\":\"auto\",\"tools\":[{\"id\":\"532142ee-848b-4146-bac1-124880f719c4\",\"type\":\"PanTool\"},{\"id\":\"f11944fa-758d-47e0-8065-c55ecad3bcd0\",\"type\":\"WheelZoomTool\"},{\"id\":\"4c92e77f-7f8f-419d-8b34-57c785aa8b18\",\"type\":\"BoxZoomTool\"},{\"id\":\"a05ddfdc-10af-45ae-ae27-a3d4fae2b128\",\"type\":\"SaveTool\"},{\"id\":\"01b81fd7-54cb-4e59-9663-4ac1e78ed771\",\"type\":\"ResetTool\"},{\"id\":\"8d8b61e1-9c0b-4d01-8fb8-382738c98887\",\"type\":\"HelpTool\"}]},\"id\":\"701eb561-0444-4a95-a449-0171b5cbb3eb\",\"type\":\"Toolbar\"},{\"attributes\":{\"callback\":null,\"data\":{\"x\":{\"__ndarray__\":\"MXhf+wfXU0AZbvNjswdFQLQWsEQVdUFA5TlpnhT9QUB/x1dOYK05QImjxHmcEjZA9jYDSBB3L0AISPl4H6wqQBPuuwfAzyJAOcHprUZAIUB7WWpkesAXQJoT1Uq+ChVArO/8u0EXCkBgVNlshzgCQMeNQ+Nzu/I/POwv1Qzh+D9QxMRmcj8DQOrE7tC4mAxAQsLBRIlHEkAi4cPYoDEXQEeDpjRjzB1ASZ0GEfCuI0DVFj11sssnQOMiVKSMHyhAWRHvUxNoJEDo8cjD4g8gQLGGvR2NDRpAdpI3nV5oFECtyWH9Lp4QQIZQd9bvmwtAkshlnu1BBkBMysnQf1UAQHZJU/DYZ/c/HoEhV+G48T/rSm4vc/TmP3EgV4cD49g/xmy6+4w7zz+bEsjh3uDDPw5SRMRogKs/4GPKdPc1a78lazVXN1vCP/B84ODeUug/LOyxgXDV9z+/DBHyZAwAQAOIY+fy/QFAahF3XKCUAECV0GHvGsz+P+X4k4Nhvf0/RO/IqI98/T8rkW+v/zT9P59vGMDsAv0/zEX7plCY/D/E3siS8kj7P2yUMv+hDvs/RmrXDaYs+z+c9f5GCO36P58nVCbr7vo/Qus8hbcy/D+rD5hFMCf9P4t6dxofnPw/bRp4QYZ2/D/q8NNiN2b8P5YTVw9ESPw/l1Dy0X/K+j+WKih3ZdD5P2k8OYxHjvk/hceGh5N4+T8lpPahWSn5P6vJnePt4vY/UuhmxnXI9T8miFqdE+D0Pz7qfx5CR/Q/0khvq2US9D9LfVdHQGv0P9syeEmwYfg/\",\"dtype\":\"float64\",\"shape\":[75]},\"y\":{\"__ndarray__\":\"hLndy31yND/6fmq8dJNIP8n9DkWBPlE/aDum7souWD/b4a/JGvVgP9f34SAhymc/ZvM4DOavcD+z0M5pFmh3PxuC4zJuaoA/xjcUPlsHhz8uHAjJAiaQP9ieWRKgppY/oI7HDFTGnz+a5h2n6EimPzS6g9iZQq8/IuAQqtTstT9SSZ2AJsK+P4nS3uALk8U/ih9j7lpCzj+ASL99HTjVP4enV8oyxN0/ACL99nXg5D9fmEwVjErtPyUGgZVDi/Q/AiuHFtnO/D9OYhBYOTQEQPHSTWIQWAxA4XoUrkfhE0D8qfHSTeIbQMh2vp8ajyNArkfhehRuK0Bcj8L1KDwzQFyPwvUo/DpAPgrXo3DtQkDNzMzMzIxKQClcj8L1eFJAKVyPwvVoWECamZmZmVleQGZmZmZmJmJAAAAAAAAgZUCamZmZmRloQJqZmZmZEWtAmpmZmZkJbkCamZmZmYFwQGZmZmZm/nFAZmZmZmZ6c0BmZmZmZvZ0QDQzMzMzc3ZAAAAAAADwd0AAAAAAAGx5QAAAAAAA6HpAzMzMzMxkfEDMzMzMzOB9QM3MzMzMXH9AzczMzMxsgEAzMzMzMyuBQDMzMzMz6YFAMzMzMzOngkCamZmZmWWDQAAAAAAAJIRAAAAAAADihEAAAAAAAKCFQGZmZmZmXoZAzczMzMwch0DNzMzMzNqHQM3MzMzMmIhAMzMzMzNXiUCamZmZmRWKQAAAAAAA1IpAAAAAAACSi0AAAAAAAFCMQGZmZmZmDo1AzczMzMzMjUDNzMzMzIqOQM3MzMzMSI9A\",\"dtype\":\"float64\",\"shape\":[75]}},\"selected\":{\"id\":\"2b06e677-3750-4db9-bdd2-baf0acfad48d\",\"type\":\"Selection\"},\"selection_policy\":{\"id\":\"78178fba-99d4-45c1-a3b6-64b742819291\",\"type\":\"UnionRenderers\"}},\"id\":\"bd8633de-35ee-4808-9e61-91b05ed689f5\",\"type\":\"ColumnDataSource\"},{\"attributes\":{\"label\":{\"value\":\"old CLIRAD (H2012)\"},\"renderers\":[{\"id\":\"39e45b8b-8881-433b-9dce-ba137d1cff5d\",\"type\":\"GlyphRenderer\"},{\"id\":\"d0716d06-0170-4f75-bfd6-4253da48bf60\",\"type\":\"GlyphRenderer\"}]},\"id\":\"0f205744-ef62-4836-8fae-c772c107e696\",\"type\":\"LegendItem\"},{\"attributes\":{},\"id\":\"5288be03-9670-4fae-8f62-112adf979672\",\"type\":\"BasicTickFormatter\"},{\"attributes\":{},\"id\":\"c8dbe675-cf62-43f8-89e5-fb00dc0d83ec\",\"type\":\"Selection\"},{\"attributes\":{},\"id\":\"cc0c7861-07ff-4a4e-a479-8b2c3ccce299\",\"type\":\"ResetTool\"},{\"attributes\":{\"bottom_units\":\"screen\",\"fill_alpha\":{\"value\":0.5},\"fill_color\":{\"value\":\"lightgrey\"},\"left_units\":\"screen\",\"level\":\"overlay\",\"line_alpha\":{\"value\":1.0},\"line_color\":{\"value\":\"black\"},\"line_dash\":[4,4],\"line_width\":{\"value\":2},\"plot\":null,\"render_mode\":\"css\",\"right_units\":\"screen\",\"top_units\":\"screen\"},\"id\":\"9a42d57f-a71e-42ef-8a28-1d7fe9f8acd8\",\"type\":\"BoxAnnotation\"},{\"attributes\":{\"ticker\":null},\"id\":\"f25484b4-3874-4e20-85cd-345f1f8eb63a\",\"type\":\"LogTickFormatter\"},{\"attributes\":{\"overlay\":{\"id\":\"9a42d57f-a71e-42ef-8a28-1d7fe9f8acd8\",\"type\":\"BoxAnnotation\"}},\"id\":\"56e4ad2a-c4f5-40b7-a2f4-9f90cf83b61f\",\"type\":\"BoxZoomTool\"},{\"attributes\":{},\"id\":\"e49a0a4c-d185-4445-93cc-9bce861071bd\",\"type\":\"UnionRenderers\"},{\"attributes\":{},\"id\":\"f95a48b5-1e2c-4109-bace-d917c46cddaa\",\"type\":\"Selection\"},{\"attributes\":{},\"id\":\"8ef6063c-8981-4dc5-880f-6b488f391f2d\",\"type\":\"Selection\"},{\"attributes\":{},\"id\":\"53ec8a27-b0b7-45a3-9dd6-4dbd2fab0d35\",\"type\":\"Selection\"},{\"attributes\":{},\"id\":\"3f665912-c756-425e-b700-a130451e407f\",\"type\":\"UnionRenderers\"},{\"attributes\":{},\"id\":\"069d6161-cab4-4457-969a-b141d29f6245\",\"type\":\"UnionRenderers\"},{\"attributes\":{},\"id\":\"a6c43416-5d88-43cb-a199-bd1d16b6983d\",\"type\":\"Selection\"},{\"attributes\":{},\"id\":\"9ec1525b-25fe-4579-bed9-8b412f0f3f90\",\"type\":\"SaveTool\"},{\"attributes\":{},\"id\":\"838dd243-615a-4c23-bf5f-905b0ba5d52d\",\"type\":\"Selection\"},{\"attributes\":{\"plot\":null,\"text\":\"\"},\"id\":\"6043a0d7-c626-4de9-b555-fae0aa35d9f1\",\"type\":\"Title\"},{\"attributes\":{},\"id\":\"fbf959c6-8d7f-4bff-8c95-73f42f1b2060\",\"type\":\"WheelZoomTool\"},{\"attributes\":{},\"id\":\"108b9fde-c829-42a7-8f07-fa3bfc8ad0a4\",\"type\":\"HelpTool\"},{\"attributes\":{\"callback\":null,\"data\":{\"x\":{\"__ndarray__\":\"oGsWFOcWRMAMO53n/6ogwD3viZgKZgLA/QYLKQLU/D8kxx1hxGkOQMQ0+uZxzQ5AVNhXd+QeBEAOfWNUzSflP8Ab6dWes+m/+NL3xc/V9b/FaMqELYjxv9IJsBTPId+/TcZOEIimsD/RlBh077XZP+5CgCXcI98/xk80a5U21D+mvbpH91KhP0I7juACtdC/1aw+HWoz4L+eELp8N6Pgv46j72rX7tG/sPOr1cQ1eb8yylG8HeyqvzLdYsjI0NO/iNtWXRBP17+iXw8BsSGxvwV3o383itg/95efVY5T1z8Wf4KYaOC3Pxz4JWCS45c/xGzh7qDj0D/z9Jq0lJzVP9S9cwqzvcM/ncXJA03snL/+DCuavWFzP5gifvItdK4/6ix5O2qXfj/VIxwFX/CrvyFUz3G74La/my7Kb2SHub/iQ7MhNea1vxA1JmSLibC/ec3xKLA2r7/CQWKSSD+dv/kBCet07ba/jdOl0S2ZuL/hF/AL7Yurv4nkUKY76K6/oQAAbI22s7/sel+r8Oayv1lPEDkNp6u/hX6dcBWzor/B7Z2I616YvxIFFivn5ZS/kePwCZ6plL+En8uXwV+Zv6r8aguhXJu/hY8q3THCk78YErbXNlBWP49H38C+f6A/WwZhsThqrD+Qb3Iuc+mtP/D2ZI59eqU/qxypqzTKlT/wr1QOo+RZP+CjI8tNBUE/JP80BLOBgT9iFteBPlSeP2eXidFcb6g/plqmh+qrrz+CO88mJx2yP91eBcEyWbM/pmiOXiQjtD+1cER8wdW0P/GeJNn6VLQ/\",\"dtype\":\"float64\",\"shape\":[75]},\"y\":{\"__ndarray__\":\"GhExyth1ND/Sv8nbtpRIP2vylNV0PVE/aTum7souWD/At0SJ8fVgPw3Iuahxymc/MSNhhJWvcD/bTfBN02d3P2zb5nxnaoA/CD5h5MAGhz8NmeH1TyaQP+zrCsc9p5Y/LbKd76fGnz/bLW5ISEmmPww9YvTcQq8/JV2OstnstT8Er5Y7M8G+P0c+r3jqkcU/5h99k6ZBzj88bCIzFzjVP4enV8oyxN0//yH99nXg5D8qOpLLf0jtP5kqGJXUifQ/c9cS8kHP/D+/DpwzojQEQIEmwoanVwxA4lgXt9HgE0BSSZ2AJuIbQAMJih9jjiNA5q4l5INuK0AwTKYKRj0zQNv5fmq8/DpAaCJseHrtQkB/+zpwzoxKQM3MzMzMeFJAZmZmZmZqWEAAAAAAAFxeQM3MzMzMJmJAmpmZmZkfZUBmZmZmZhhoQDMzMzMzEWtAAAAAAAAKbkBmZmZmZoFwQM3MzMzM/XFAMzMzMzN6c0CamZmZmfZ0QAAAAAAAc3ZAZmZmZmbvd0DNzMzMzGt5QDMzMzMz6HpAmpmZmZlkfEAAAAAAAOF9QGZmZmZmXX9AZmZmZuZsgECamZmZGSuBQM3MzMxM6YFAAAAAAICngkAzMzMzs2WDQGZmZmbmI4RAmpmZmRnihEDNzMzMTKCFQAAAAACAXoZAMzMzM7Mch0BmZmZm5tqHQJqZmZkZmYhAzczMzExXiUAAAAAAgBWKQDMzMzOz04pAZmZmZuaRi0CamZmZGVCMQM3MzMxMDo1AAAAAAIDMjUAzMzMzs4qOQGZmZmbmSI9A\",\"dtype\":\"float64\",\"shape\":[75]}},\"selected\":{\"id\":\"11a03119-c93a-4463-9b3e-63c27f0ea55a\",\"type\":\"Selection\"},\"selection_policy\":{\"id\":\"a4e9d62b-9ea6-48f7-af0c-ac1df85a3ed6\",\"type\":\"UnionRenderers\"}},\"id\":\"6ac48ee7-a89f-40e8-ae49-e431cb8a0d7c\",\"type\":\"ColumnDataSource\"},{\"attributes\":{\"fill_alpha\":{\"value\":0.7},\"fill_color\":{\"value\":\"#984ea3\"},\"line_alpha\":{\"value\":0.7},\"line_color\":{\"value\":\"#984ea3\"},\"x\":{\"field\":\"x\"},\"y\":{\"field\":\"y\"}},\"id\":\"8865ee00-ea5f-4547-8759-9b5e792fc1cf\",\"type\":\"Circle\"},{\"attributes\":{},\"id\":\"78178fba-99d4-45c1-a3b6-64b742819291\",\"type\":\"UnionRenderers\"},{\"attributes\":{},\"id\":\"63a5c032-380e-4efb-b22c-27c07060f7d8\",\"type\":\"PanTool\"},{\"attributes\":{},\"id\":\"7cf21cbd-3ae2-4e2f-8960-d01be0450a45\",\"type\":\"UnionRenderers\"},{\"attributes\":{\"callback\":null,\"data\":{\"x\":{\"__ndarray__\":\"MXhf+wfXU0AZbvNjswdFQLQWsEQVdUFA5TlpnhT9QUB/x1dOYK05QImjxHmcEjZA9jYDSBB3L0AISPl4H6wqQBPuuwfAzyJAOcHprUZAIUB7WWpkesAXQJoT1Uq+ChVArO/8u0EXCkBgVNlshzgCQMeNQ+Nzu/I/POwv1Qzh+D9QxMRmcj8DQOrE7tC4mAxAQsLBRIlHEkAi4cPYoDEXQEeDpjRjzB1ASZ0GEfCuI0DVFj11sssnQOMiVKSMHyhAWRHvUxNoJEDo8cjD4g8gQLGGvR2NDRpAdpI3nV5oFECtyWH9Lp4QQIZQd9bvmwtAkshlnu1BBkBMysnQf1UAQHZJU/DYZ/c/HoEhV+G48T/rSm4vc/TmP3EgV4cD49g/xmy6+4w7zz+bEsjh3uDDPw5SRMRogKs/4GPKdPc1a78lazVXN1vCP/B84ODeUug/LOyxgXDV9z+/DBHyZAwAQAOIY+fy/QFAahF3XKCUAECV0GHvGsz+P+X4k4Nhvf0/RO/IqI98/T8rkW+v/zT9P59vGMDsAv0/zEX7plCY/D/E3siS8kj7P2yUMv+hDvs/RmrXDaYs+z+c9f5GCO36P58nVCbr7vo/Qus8hbcy/D+rD5hFMCf9P4t6dxofnPw/bRp4QYZ2/D/q8NNiN2b8P5YTVw9ESPw/l1Dy0X/K+j+WKih3ZdD5P2k8OYxHjvk/hceGh5N4+T8lpPahWSn5P6vJnePt4vY/UuhmxnXI9T8miFqdE+D0Pz7qfx5CR/Q/0khvq2US9D9LfVdHQGv0P9syeEmwYfg/\",\"dtype\":\"float64\",\"shape\":[75]},\"y\":{\"__ndarray__\":\"hLndy31yND/6fmq8dJNIP8n9DkWBPlE/aDum7souWD/b4a/JGvVgP9f34SAhymc/ZvM4DOavcD+z0M5pFmh3PxuC4zJuaoA/xjcUPlsHhz8uHAjJAiaQP9ieWRKgppY/oI7HDFTGnz+a5h2n6EimPzS6g9iZQq8/IuAQqtTstT9SSZ2AJsK+P4nS3uALk8U/ih9j7lpCzj+ASL99HTjVP4enV8oyxN0/ACL99nXg5D9fmEwVjErtPyUGgZVDi/Q/AiuHFtnO/D9OYhBYOTQEQPHSTWIQWAxA4XoUrkfhE0D8qfHSTeIbQMh2vp8ajyNArkfhehRuK0Bcj8L1KDwzQFyPwvUo/DpAPgrXo3DtQkDNzMzMzIxKQClcj8L1eFJAKVyPwvVoWECamZmZmVleQGZmZmZmJmJAAAAAAAAgZUCamZmZmRloQJqZmZmZEWtAmpmZmZkJbkCamZmZmYFwQGZmZmZm/nFAZmZmZmZ6c0BmZmZmZvZ0QDQzMzMzc3ZAAAAAAADwd0AAAAAAAGx5QAAAAAAA6HpAzMzMzMxkfEDMzMzMzOB9QM3MzMzMXH9AzczMzMxsgEAzMzMzMyuBQDMzMzMz6YFAMzMzMzOngkCamZmZmWWDQAAAAAAAJIRAAAAAAADihEAAAAAAAKCFQGZmZmZmXoZAzczMzMwch0DNzMzMzNqHQM3MzMzMmIhAMzMzMzNXiUCamZmZmRWKQAAAAAAA1IpAAAAAAACSi0AAAAAAAFCMQGZmZmZmDo1AzczMzMzMjUDNzMzMzIqOQM3MzMzMSI9A\",\"dtype\":\"float64\",\"shape\":[75]}},\"selected\":{\"id\":\"53ec8a27-b0b7-45a3-9dd6-4dbd2fab0d35\",\"type\":\"Selection\"},\"selection_policy\":{\"id\":\"844796c4-164e-451a-ab8d-3d19eacdccc4\",\"type\":\"UnionRenderers\"}},\"id\":\"e6e11724-d427-43a4-ac8c-095f290f97f9\",\"type\":\"ColumnDataSource\"},{\"attributes\":{},\"id\":\"1bb8b31c-7bc2-40e7-9971-b2de96ae3dd0\",\"type\":\"UnionRenderers\"},{\"attributes\":{\"fill_alpha\":{\"value\":0.1},\"fill_color\":{\"value\":\"#1f77b4\"},\"line_alpha\":{\"value\":0.1},\"line_color\":{\"value\":\"#1f77b4\"},\"x\":{\"field\":\"x\"},\"y\":{\"field\":\"y\"}},\"id\":\"ccc8f9e9-7ea8-44c3-9299-f17d4fa53b14\",\"type\":\"Square\"},{\"attributes\":{\"line_alpha\":0.5,\"line_color\":\"#377eb8\",\"line_dash\":[6],\"line_width\":4,\"x\":{\"field\":\"x\"},\"y\":{\"field\":\"y\"}},\"id\":\"e0a22eae-d0a1-4aeb-80f3-7ee946e91d43\",\"type\":\"Line\"},{\"attributes\":{\"fill_alpha\":{\"value\":0.7},\"fill_color\":{\"value\":\"#4daf4a\"},\"line_alpha\":{\"value\":0.7},\"line_color\":{\"value\":\"#4daf4a\"},\"x\":{\"field\":\"x\"},\"y\":{\"field\":\"y\"}},\"id\":\"10dddcb6-8c76-49a1-b7d1-51ffd44d067d\",\"type\":\"Circle\"},{\"attributes\":{\"callback\":null,\"data\":{\"x\":{\"__ndarray__\":\"MXhf+wfXU0AZbvNjswdFQLQWsEQVdUFA5TlpnhT9QUB/x1dOYK05QImjxHmcEjZA9jYDSBB3L0AISPl4H6wqQBPuuwfAzyJAOcHprUZAIUB7WWpkesAXQJoT1Uq+ChVArO/8u0EXCkBgVNlshzgCQMeNQ+Nzu/I/POwv1Qzh+D9QxMRmcj8DQOrE7tC4mAxAQsLBRIlHEkAi4cPYoDEXQEeDpjRjzB1ASZ0GEfCuI0DVFj11sssnQOMiVKSMHyhAWRHvUxNoJEDo8cjD4g8gQLGGvR2NDRpAdpI3nV5oFECtyWH9Lp4QQIZQd9bvmwtAkshlnu1BBkBMysnQf1UAQHZJU/DYZ/c/HoEhV+G48T/rSm4vc/TmP3EgV4cD49g/xmy6+4w7zz+bEsjh3uDDPw5SRMRogKs/4GPKdPc1a78lazVXN1vCP/B84ODeUug/LOyxgXDV9z+/DBHyZAwAQAOIY+fy/QFAahF3XKCUAECV0GHvGsz+P+X4k4Nhvf0/RO/IqI98/T8rkW+v/zT9P59vGMDsAv0/zEX7plCY/D/E3siS8kj7P2yUMv+hDvs/RmrXDaYs+z+c9f5GCO36P58nVCbr7vo/Qus8hbcy/D+rD5hFMCf9P4t6dxofnPw/bRp4QYZ2/D/q8NNiN2b8P5YTVw9ESPw/l1Dy0X/K+j+WKih3ZdD5P2k8OYxHjvk/hceGh5N4+T8lpPahWSn5P6vJnePt4vY/UuhmxnXI9T8miFqdE+D0Pz7qfx5CR/Q/0khvq2US9D9LfVdHQGv0P9syeEmwYfg/\",\"dtype\":\"float64\",\"shape\":[75]},\"y\":{\"__ndarray__\":\"hLndy31yND/6fmq8dJNIP8n9DkWBPlE/aDum7souWD/b4a/JGvVgP9f34SAhymc/ZvM4DOavcD+z0M5pFmh3PxuC4zJuaoA/xjcUPlsHhz8uHAjJAiaQP9ieWRKgppY/oI7HDFTGnz+a5h2n6EimPzS6g9iZQq8/IuAQqtTstT9SSZ2AJsK+P4nS3uALk8U/ih9j7lpCzj+ASL99HTjVP4enV8oyxN0/ACL99nXg5D9fmEwVjErtPyUGgZVDi/Q/AiuHFtnO/D9OYhBYOTQEQPHSTWIQWAxA4XoUrkfhE0D8qfHSTeIbQMh2vp8ajyNArkfhehRuK0Bcj8L1KDwzQFyPwvUo/DpAPgrXo3DtQkDNzMzMzIxKQClcj8L1eFJAKVyPwvVoWECamZmZmVleQGZmZmZmJmJAAAAAAAAgZUCamZmZmRloQJqZmZmZEWtAmpmZmZkJbkCamZmZmYFwQGZmZmZm/nFAZmZmZmZ6c0BmZmZmZvZ0QDQzMzMzc3ZAAAAAAADwd0AAAAAAAGx5QAAAAAAA6HpAzMzMzMxkfEDMzMzMzOB9QM3MzMzMXH9AzczMzMxsgEAzMzMzMyuBQDMzMzMz6YFAMzMzMzOngkCamZmZmWWDQAAAAAAAJIRAAAAAAADihEAAAAAAAKCFQGZmZmZmXoZAzczMzMwch0DNzMzMzNqHQM3MzMzMmIhAMzMzMzNXiUCamZmZmRWKQAAAAAAA1IpAAAAAAACSi0AAAAAAAFCMQGZmZmZmDo1AzczMzMzMjUDNzMzMzIqOQM3MzMzMSI9A\",\"dtype\":\"float64\",\"shape\":[75]}},\"selected\":{\"id\":\"ed85029c-6f98-4774-80da-787fc0c64a0d\",\"type\":\"Selection\"},\"selection_policy\":{\"id\":\"76687931-3042-4974-bbea-605e1c6b6da7\",\"type\":\"UnionRenderers\"}},\"id\":\"dc398b00-6444-400e-92af-2ea481789af7\",\"type\":\"ColumnDataSource\"},{\"attributes\":{},\"id\":\"e8d09d73-7845-44c3-be3c-fc37ee1b60ef\",\"type\":\"BasicTickFormatter\"},{\"attributes\":{},\"id\":\"7202ab98-b63b-4881-9f96-909979f3d43f\",\"type\":\"UnionRenderers\"},{\"attributes\":{\"data_source\":{\"id\":\"e6e11724-d427-43a4-ac8c-095f290f97f9\",\"type\":\"ColumnDataSource\"},\"glyph\":{\"id\":\"6dd52fb3-e7ce-440c-843b-e8be70e9c234\",\"type\":\"Square\"},\"hover_glyph\":null,\"muted_glyph\":null,\"nonselection_glyph\":{\"id\":\"ccc8f9e9-7ea8-44c3-9299-f17d4fa53b14\",\"type\":\"Square\"},\"selection_glyph\":null,\"view\":{\"id\":\"7495b9b6-3041-447c-867a-8847c4259195\",\"type\":\"CDSView\"}},\"id\":\"1ca33c56-7fad-44b7-be79-3238d6b13175\",\"type\":\"GlyphRenderer\"},{\"attributes\":{\"callback\":null,\"data\":{\"x\":{\"__ndarray__\":\"QW/ChKHYRUABfBHv8BdDQO7pX4+S40FAjlrTPAs/QEBi55KjU0A8QOVEIjtRPTdAAW6pHa7pMUBoDUjHy+UpQJPUAjnkGiJAkii6KF00GkDyfPLi2t0UQPkZqhKpthFAXgmBeRVNDUDo1yrq/pUDQBJCuTYK9vU/YoFqy5OO+j/mD7q8ijIFQB7JG9aeDgtAKZPg33XgEEB3e15vURcWQASfV5qt/R1A31afOw7VJEBkZ/sSPswqQPJ8sfjH+ylASXHMMLlOJECnFuR/okcgQKATN+gOZBtALtOaGrQFFkBYLwnonigRQH3MfkLg4AtAJbaM1c4ICEAqMLR+58sCQGn6INO6Bfo/9OD7FbZF8T+Hs4EjcHrnP564dUqD6Ns/JQfYEdIQzT9x/Lwc00XAP+SGDp6tAKO/xAoZ+sRjyb+ScdT6eNyDv/4NISJvwuc/0BNwzqJ+9z+OhxM/9RYAQGCVqWPPlwFApa4RsMkGAECakb3Sg0P+P/wSdfkQIv0/okwaebtq/D8NcsI81zv8PzS6YIBmV/w/t/rzZVDu+z9vHpSuI3P7PzxXiTLKB/s/+xEut0e9+j80CdGvY4f6P91Lpyhohfo/hq2DgXOb+z8jUdf2UHz8P+0LQT6D/vw/NxBjOnr9/D975RKvuF38PyqTiuWeRvs/G8nM6yIW+j8IPCAwnv/4P9UcYY9Qbfg/OqB8rKY8+D929obcuzf4P6/7j5gVtPc/VtnblNCk9j8Yh5Uy8nP1P2TvKkPTiPQ/Kaw4REER9D/JF0FfkkT0P/aWmIV77/o/\",\"dtype\":\"float64\",\"shape\":[75]},\"y\":{\"__ndarray__\":\"GhExyth1ND/Sv8nbtpRIP2vylNV0PVE/aTum7souWD/At0SJ8fVgPw3Iuahxymc/MSNhhJWvcD/bTfBN02d3P2zb5nxnaoA/CD5h5MAGhz8NmeH1TyaQP+zrCsc9p5Y/LbKd76fGnz/bLW5ISEmmPww9YvTcQq8/JV2OstnstT8Er5Y7M8G+P0c+r3jqkcU/5h99k6ZBzj88bCIzFzjVP4enV8oyxN0//yH99nXg5D8qOpLLf0jtP5kqGJXUifQ/c9cS8kHP/D+/DpwzojQEQIEmwoanVwxA4lgXt9HgE0BSSZ2AJuIbQAMJih9jjiNA5q4l5INuK0AwTKYKRj0zQNv5fmq8/DpAaCJseHrtQkB/+zpwzoxKQM3MzMzMeFJAZmZmZmZqWEAAAAAAAFxeQM3MzMzMJmJAmpmZmZkfZUBmZmZmZhhoQDMzMzMzEWtAAAAAAAAKbkBmZmZmZoFwQM3MzMzM/XFAMzMzMzN6c0CamZmZmfZ0QAAAAAAAc3ZAZmZmZmbvd0DNzMzMzGt5QDMzMzMz6HpAmpmZmZlkfEAAAAAAAOF9QGZmZmZmXX9AZmZmZuZsgECamZmZGSuBQM3MzMxM6YFAAAAAAICngkAzMzMzs2WDQGZmZmbmI4RAmpmZmRnihEDNzMzMTKCFQAAAAACAXoZAMzMzM7Mch0BmZmZm5tqHQJqZmZkZmYhAzczMzExXiUAAAAAAgBWKQDMzMzOz04pAZmZmZuaRi0CamZmZGVCMQM3MzMxMDo1AAAAAAIDMjUAzMzMzs4qOQGZmZmbmSI9A\",\"dtype\":\"float64\",\"shape\":[75]}},\"selected\":{\"id\":\"f95a48b5-1e2c-4109-bace-d917c46cddaa\",\"type\":\"Selection\"},\"selection_policy\":{\"id\":\"069d6161-cab4-4457-969a-b141d29f6245\",\"type\":\"UnionRenderers\"}},\"id\":\"112a46ba-0a3c-4803-8b83-94d7936158a7\",\"type\":\"ColumnDataSource\"},{\"attributes\":{\"line_alpha\":0.1,\"line_color\":\"#1f77b4\",\"line_width\":1.5,\"x\":{\"field\":\"x\"},\"y\":{\"field\":\"y\"}},\"id\":\"723460ef-8b26-4f20-8a7e-62d5ae96568b\",\"type\":\"Line\"},{\"attributes\":{},\"id\":\"532142ee-848b-4146-bac1-124880f719c4\",\"type\":\"PanTool\"},{\"attributes\":{},\"id\":\"871dc512-b307-438f-b659-efffa61bdb6d\",\"type\":\"UnionRenderers\"},{\"attributes\":{\"data_source\":{\"id\":\"112a46ba-0a3c-4803-8b83-94d7936158a7\",\"type\":\"ColumnDataSource\"},\"glyph\":{\"id\":\"d04ebf48-c23f-43fa-81e9-e17093ab0afb\",\"type\":\"Line\"},\"hover_glyph\":null,\"muted_glyph\":null,\"nonselection_glyph\":{\"id\":\"93baa212-d356-4b68-a48e-2c4c175c7055\",\"type\":\"Line\"},\"selection_glyph\":null,\"view\":{\"id\":\"2badf795-625e-4322-85af-ec6d41e3ba03\",\"type\":\"CDSView\"}},\"id\":\"9240a95e-a9c3-471a-b4df-eb6d6f9b6804\",\"type\":\"GlyphRenderer\"},{\"attributes\":{\"above\":[{\"id\":\"a72d64f5-38cb-4835-94bd-e4d7ef480a81\",\"type\":\"Legend\"}],\"below\":[{\"id\":\"0809205a-bcfa-4b31-8e36-3f960fb8a09c\",\"type\":\"LinearAxis\"}],\"left\":[{\"id\":\"ad38ea1e-39c6-46e2-87e0-4dbf5bf1adb6\",\"type\":\"LogAxis\"}],\"plot_width\":300,\"renderers\":[{\"id\":\"0809205a-bcfa-4b31-8e36-3f960fb8a09c\",\"type\":\"LinearAxis\"},{\"id\":\"ce26a092-ef5e-458c-b345-4ee19fa23adc\",\"type\":\"Grid\"},{\"id\":\"ad38ea1e-39c6-46e2-87e0-4dbf5bf1adb6\",\"type\":\"LogAxis\"},{\"id\":\"391b92b4-927d-469a-b556-b69b68733ab5\",\"type\":\"Grid\"},{\"id\":\"9a42d57f-a71e-42ef-8a28-1d7fe9f8acd8\",\"type\":\"BoxAnnotation\"},{\"id\":\"09da0c7a-c281-42ec-91e7-95e1aaefb1a5\",\"type\":\"GlyphRenderer\"},{\"id\":\"16e6147e-30fe-4304-a256-e970b8e5b1bb\",\"type\":\"GlyphRenderer\"},{\"id\":\"c8a87ea5-72d2-4097-9397-a7daf5afcf89\",\"type\":\"GlyphRenderer\"},{\"id\":\"a72d64f5-38cb-4835-94bd-e4d7ef480a81\",\"type\":\"Legend\"}],\"title\":{\"id\":\"e60cfabf-ddb9-4f74-b0f4-10e9ce1f8dcc\",\"type\":\"Title\"},\"toolbar\":{\"id\":\"bf6b8990-9439-468c-b844-606c26c81932\",\"type\":\"Toolbar\"},\"toolbar_location\":null,\"x_range\":{\"id\":\"09eff3ff-b09d-4185-bc1c-8a5710eb3a67\",\"type\":\"Range1d\"},\"x_scale\":{\"id\":\"f846f2c8-12a7-42a4-bcf9-eda484e46f5c\",\"type\":\"LinearScale\"},\"y_range\":{\"id\":\"c3bb763f-a4b9-439f-9cd0-42816bda97e8\",\"type\":\"Range1d\"},\"y_scale\":{\"id\":\"d75c2d5f-10ff-4506-a3ea-cb36ba3d4689\",\"type\":\"LogScale\"}},\"id\":\"72c436f9-bd37-4730-a85d-5ab074e33bd8\",\"subtype\":\"Figure\",\"type\":\"Plot\"},{\"attributes\":{\"data_source\":{\"id\":\"a6ef6d3d-1944-4b38-9737-c606b3224f83\",\"type\":\"ColumnDataSource\"},\"glyph\":{\"id\":\"e0a22eae-d0a1-4aeb-80f3-7ee946e91d43\",\"type\":\"Line\"},\"hover_glyph\":null,\"muted_glyph\":null,\"nonselection_glyph\":{\"id\":\"a26b4e4f-5c22-4128-88fd-efa1bef95fa7\",\"type\":\"Line\"},\"selection_glyph\":null,\"view\":{\"id\":\"2a912f0d-efc0-4147-a524-647c51b9f91d\",\"type\":\"CDSView\"}},\"id\":\"c8a87ea5-72d2-4097-9397-a7daf5afcf89\",\"type\":\"GlyphRenderer\"},{\"attributes\":{\"source\":{\"id\":\"112a46ba-0a3c-4803-8b83-94d7936158a7\",\"type\":\"ColumnDataSource\"}},\"id\":\"2badf795-625e-4322-85af-ec6d41e3ba03\",\"type\":\"CDSView\"},{\"attributes\":{\"source\":{\"id\":\"8978c165-27ea-43b7-8e04-d236ca02ecf4\",\"type\":\"ColumnDataSource\"}},\"id\":\"a2b3798c-bdb5-4c27-8d3e-69d9c41e9cd1\",\"type\":\"CDSView\"},{\"attributes\":{\"fill_alpha\":{\"value\":0.1},\"fill_color\":{\"value\":\"#1f77b4\"},\"line_alpha\":{\"value\":0.1},\"line_color\":{\"value\":\"#1f77b4\"},\"x\":{\"field\":\"x\"},\"y\":{\"field\":\"y\"}},\"id\":\"2131449a-3b61-4521-b1d6-919f67928edc\",\"type\":\"Circle\"},{\"attributes\":{\"plot\":null,\"text\":\"\"},\"id\":\"ef571171-700d-4dad-82aa-5f771e0f6945\",\"type\":\"Title\"},{\"attributes\":{\"data_source\":{\"id\":\"8978c165-27ea-43b7-8e04-d236ca02ecf4\",\"type\":\"ColumnDataSource\"},\"glyph\":{\"id\":\"c348b136-9d98-4fb0-a110-66cf47e8b473\",\"type\":\"Line\"},\"hover_glyph\":null,\"muted_glyph\":null,\"nonselection_glyph\":{\"id\":\"723460ef-8b26-4f20-8a7e-62d5ae96568b\",\"type\":\"Line\"},\"selection_glyph\":null,\"view\":{\"id\":\"a2b3798c-bdb5-4c27-8d3e-69d9c41e9cd1\",\"type\":\"CDSView\"}},\"id\":\"feb5fcdd-489c-458d-a3e6-7110581d2597\",\"type\":\"GlyphRenderer\"},{\"attributes\":{\"label\":{\"value\":\"CLIRAD (single-run)\"},\"renderers\":[{\"id\":\"9240a95e-a9c3-471a-b4df-eb6d6f9b6804\",\"type\":\"GlyphRenderer\"}]},\"id\":\"4a5565e3-a76c-4ee6-a8a9-2b37c082b5ed\",\"type\":\"LegendItem\"},{\"attributes\":{\"source\":{\"id\":\"a6ef6d3d-1944-4b38-9737-c606b3224f83\",\"type\":\"ColumnDataSource\"}},\"id\":\"2a912f0d-efc0-4147-a524-647c51b9f91d\",\"type\":\"CDSView\"},{\"attributes\":{\"data_source\":{\"id\":\"e5e958cf-6005-4cb0-8bcd-7c403b4cf703\",\"type\":\"ColumnDataSource\"},\"glyph\":{\"id\":\"e6d3c583-0b8b-40e3-93c5-4d2a715efd33\",\"type\":\"Line\"},\"hover_glyph\":null,\"muted_glyph\":null,\"nonselection_glyph\":{\"id\":\"97c63fa6-414a-47a9-96d0-73a3892520d7\",\"type\":\"Line\"},\"selection_glyph\":null,\"view\":{\"id\":\"8a0c6525-ed87-486c-aecc-1ab3c8b1e4be\",\"type\":\"CDSView\"}},\"id\":\"16e6147e-30fe-4304-a256-e970b8e5b1bb\",\"type\":\"GlyphRenderer\"},{\"attributes\":{\"callback\":null,\"end\":0.01,\"start\":1020},\"id\":\"660e63b3-5e13-4738-9497-926e5bb98180\",\"type\":\"Range1d\"},{\"attributes\":{\"data_source\":{\"id\":\"9f5a6509-e641-4406-a5ea-6d946a32d926\",\"type\":\"ColumnDataSource\"},\"glyph\":{\"id\":\"10dddcb6-8c76-49a1-b7d1-51ffd44d067d\",\"type\":\"Circle\"},\"hover_glyph\":null,\"muted_glyph\":null,\"nonselection_glyph\":{\"id\":\"2131449a-3b61-4521-b1d6-919f67928edc\",\"type\":\"Circle\"},\"selection_glyph\":null,\"view\":{\"id\":\"d68e1f4e-594f-4a8f-8bc0-7be0a365a417\",\"type\":\"CDSView\"}},\"id\":\"36a3eaa5-08ed-48ee-9de1-fe222e4d51e2\",\"type\":\"GlyphRenderer\"},{\"attributes\":{\"line_color\":\"#4daf4a\",\"line_width\":1.5,\"x\":{\"field\":\"x\"},\"y\":{\"field\":\"y\"}},\"id\":\"c348b136-9d98-4fb0-a110-66cf47e8b473\",\"type\":\"Line\"},{\"attributes\":{},\"id\":\"01b81fd7-54cb-4e59-9663-4ac1e78ed771\",\"type\":\"ResetTool\"},{\"attributes\":{\"label\":{\"value\":\"CLIRAD (single-run) - CRD\"},\"renderers\":[{\"id\":\"09da0c7a-c281-42ec-91e7-95e1aaefb1a5\",\"type\":\"GlyphRenderer\"},{\"id\":\"16e6147e-30fe-4304-a256-e970b8e5b1bb\",\"type\":\"GlyphRenderer\"}]},\"id\":\"f094078a-808d-40a4-b0bf-994bf0c95a24\",\"type\":\"LegendItem\"},{\"attributes\":{},\"id\":\"f11944fa-758d-47e0-8065-c55ecad3bcd0\",\"type\":\"WheelZoomTool\"},{\"attributes\":{\"source\":{\"id\":\"9f5a6509-e641-4406-a5ea-6d946a32d926\",\"type\":\"ColumnDataSource\"}},\"id\":\"d68e1f4e-594f-4a8f-8bc0-7be0a365a417\",\"type\":\"CDSView\"},{\"attributes\":{\"label\":{\"value\":\"old CLIRAD (H2012) - CRD\"},\"renderers\":[{\"id\":\"c8a87ea5-72d2-4097-9397-a7daf5afcf89\",\"type\":\"GlyphRenderer\"}]},\"id\":\"5261b70f-2839-456c-b6d4-2ae722592f3d\",\"type\":\"LegendItem\"},{\"attributes\":{\"callback\":null,\"data\":{\"x\":{\"__ndarray__\":\"EFTPEMULEsBY5Soo7NcRwOAih0PfTQnAcLzxlkslFUAgkIluU6TzP+gpDdzLdwVAICHKUKVt1T+Ik7s3hMbwP6AHr9TDy9y/ECnbDOK15j+w2qv7vfbXvzCQ/22EH9Y/ABwN6PuE1b8w8RgTZ5TNP8ZxqdeCOdI/WPaTJPMAyz/gCWaNx9zKv4Bz2SfMkLG/QNDU2Dvrw7/gjDvG8ELPv3BfAcZ9A9W/QPE2M06U4r+4EtXbvdv4v8CHA9UM1vO/wNkC+csj1L9A31CHx4DGv4BAVcDWEKk/AJyjBEwOpL8A2K0iJHelvwAHMEdHKYW/QAFQrblkpT+AYHxUdJWePwCcnL/AFYO/AIDdMF2+IL9AoMQ3Xs6Hv8CEJWa/IIk/SHjx3bH7mD9glt/hXwibv4AXhtbv81c/0ZPByHVmuD+ZIBKsyEuxPwB7VdwaDKi/AMK2wPlcpL+A1M+Jt0OhvwBblecIUqS/AOzlE2F5m79AcNDuEvKUv8BO6MRU/Ja/ALSuiFPKhL8ASGwETKOKvwCIZggV2Yi/AB5fgpVndD+A7LY9mXWhv8C4xgD0L5O/ALuUgd63fD8AAPReZ8gCPwB4gQY0fE+/gN8kEc8Okj9ggdWOaw6mPwButB7pzIA/QJoEKHMXlz9A3ZOmSfmuP0CC+mOR17o/8L5CjVu4sD8gd3D5DeiqP4BAGGl6MbI/oBQpEQTvtT+AoHD36662PwCQysucWWu/gOgg5EKCgD+gmD6me76hPwAZquxAgK4/MDP40Wo1tD/gyKr9n0C3P9Ci4ei4h7S/\",\"dtype\":\"float64\",\"shape\":[75]},\"y\":{\"__ndarray__\":\"GhExyth1ND/Sv8nbtpRIP2vylNV0PVE/aTum7souWD/At0SJ8fVgPw3Iuahxymc/MSNhhJWvcD/bTfBN02d3P2zb5nxnaoA/CD5h5MAGhz8NmeH1TyaQP+zrCsc9p5Y/LbKd76fGnz/bLW5ISEmmPww9YvTcQq8/JV2OstnstT8Er5Y7M8G+P0c+r3jqkcU/5h99k6ZBzj88bCIzFzjVP4enV8oyxN0//yH99nXg5D8qOpLLf0jtP5kqGJXUifQ/c9cS8kHP/D+/DpwzojQEQIEmwoanVwxA4lgXt9HgE0BSSZ2AJuIbQAMJih9jjiNA5q4l5INuK0AwTKYKRj0zQNv5fmq8/DpAaCJseHrtQkB/+zpwzoxKQM3MzMzMeFJAZmZmZmZqWEAAAAAAAFxeQM3MzMzMJmJAmpmZmZkfZUBmZmZmZhhoQDMzMzMzEWtAAAAAAAAKbkBmZmZmZoFwQM3MzMzM/XFAMzMzMzN6c0CamZmZmfZ0QAAAAAAAc3ZAZmZmZmbvd0DNzMzMzGt5QDMzMzMz6HpAmpmZmZlkfEAAAAAAAOF9QGZmZmZmXX9AZmZmZuZsgECamZmZGSuBQM3MzMxM6YFAAAAAAICngkAzMzMzs2WDQGZmZmbmI4RAmpmZmRnihEDNzMzMTKCFQAAAAACAXoZAMzMzM7Mch0BmZmZm5tqHQJqZmZkZmYhAzczMzExXiUAAAAAAgBWKQDMzMzOz04pAZmZmZuaRi0CamZmZGVCMQM3MzMxMDo1AAAAAAIDMjUAzMzMzs4qOQGZmZmbmSI9A\",\"dtype\":\"float64\",\"shape\":[75]}},\"selected\":{\"id\":\"3bcd1495-f9a1-4064-83d3-57083474154b\",\"type\":\"Selection\"},\"selection_policy\":{\"id\":\"c5cf98f2-2fd8-4106-8233-20afd16d22d6\",\"type\":\"UnionRenderers\"}},\"id\":\"a6ef6d3d-1944-4b38-9737-c606b3224f83\",\"type\":\"ColumnDataSource\"},{\"attributes\":{},\"id\":\"c124b543-6968-483f-88dd-356addf2a7ce\",\"type\":\"Selection\"},{\"attributes\":{\"line_alpha\":0.1,\"line_color\":\"#1f77b4\",\"line_width\":1.5,\"x\":{\"field\":\"x\"},\"y\":{\"field\":\"y\"}},\"id\":\"4c59e623-9f25-4190-ae2f-b27858d7960d\",\"type\":\"Line\"},{\"attributes\":{\"line_alpha\":0.5,\"line_color\":\"#984ea3\",\"line_width\":1.5,\"x\":{\"field\":\"x\"},\"y\":{\"field\":\"y\"}},\"id\":\"8320a7b1-6a9e-4475-a563-cd80b5e64a76\",\"type\":\"Line\"},{\"attributes\":{\"source\":{\"id\":\"e6e11724-d427-43a4-ac8c-095f290f97f9\",\"type\":\"ColumnDataSource\"}},\"id\":\"7495b9b6-3041-447c-867a-8847c4259195\",\"type\":\"CDSView\"},{\"attributes\":{},\"id\":\"ca62f089-4ad9-49fe-895e-cb34cffc26f1\",\"type\":\"BasicTickFormatter\"},{\"attributes\":{\"overlay\":{\"id\":\"7a78ac98-6d8b-46c8-a98a-0b4a1a0803b1\",\"type\":\"BoxAnnotation\"}},\"id\":\"4c92e77f-7f8f-419d-8b34-57c785aa8b18\",\"type\":\"BoxZoomTool\"},{\"attributes\":{\"source\":{\"id\":\"e5e958cf-6005-4cb0-8bcd-7c403b4cf703\",\"type\":\"ColumnDataSource\"}},\"id\":\"8a0c6525-ed87-486c-aecc-1ab3c8b1e4be\",\"type\":\"CDSView\"},{\"attributes\":{},\"id\":\"a05ddfdc-10af-45ae-ae27-a3d4fae2b128\",\"type\":\"SaveTool\"},{\"attributes\":{\"line_alpha\":0.1,\"line_color\":\"#1f77b4\",\"line_dash\":[6],\"line_width\":5,\"x\":{\"field\":\"x\"},\"y\":{\"field\":\"y\"}},\"id\":\"746788ad-b79e-4159-a6d2-9969dd7e220c\",\"type\":\"Line\"},{\"attributes\":{},\"id\":\"dd78c4f1-ca10-4d5d-92e9-b10888e9b8cc\",\"type\":\"Selection\"},{\"attributes\":{\"data_source\":{\"id\":\"dc398b00-6444-400e-92af-2ea481789af7\",\"type\":\"ColumnDataSource\"},\"glyph\":{\"id\":\"8320a7b1-6a9e-4475-a563-cd80b5e64a76\",\"type\":\"Line\"},\"hover_glyph\":null,\"muted_glyph\":null,\"nonselection_glyph\":{\"id\":\"4c59e623-9f25-4190-ae2f-b27858d7960d\",\"type\":\"Line\"},\"selection_glyph\":null,\"view\":{\"id\":\"cf31bca8-173e-4c7d-8093-7036e1da375f\",\"type\":\"CDSView\"}},\"id\":\"3a95a0a9-cc84-4f85-9e6a-c00f24ec7129\",\"type\":\"GlyphRenderer\"},{\"attributes\":{},\"id\":\"8d8b61e1-9c0b-4d01-8fb8-382738c98887\",\"type\":\"HelpTool\"},{\"attributes\":{\"fill_alpha\":{\"value\":0.7},\"fill_color\":{\"value\":\"#984ea3\"},\"line_alpha\":{\"value\":0.7},\"line_color\":{\"value\":\"#984ea3\"},\"x\":{\"field\":\"x\"},\"y\":{\"field\":\"y\"}},\"id\":\"6dd52fb3-e7ce-440c-843b-e8be70e9c234\",\"type\":\"Square\"},{\"attributes\":{\"callback\":null,\"data\":{\"x\":{\"__ndarray__\":\"cm1sTMT3VEDEyvjosEJHQOKI6DjzCUNArgQWV9awPkB9Lm8XG3M4QEz+Qv6iYzNA7eV8HaPLLkCX1QHyTpMoQFBmYSYetiNAUB04GtGpH0AmFyVE5j8ZQJca9QPGqBNALJP+OOHHDEBNxaf7QF8AQKtislomWuw/cW2dcO6A9T/uJJvfPu0EQIaQLTI/JQ1AxGiII+PmEkCJvfVeuCsYQD6ZBhGbHB9AXQw69DTYJEAsubcwKucqQNuT9D5OmipAJyi3szEJJUBlNebh5WkgQDDcPHBr2xlArtlANXuQFEBdJadFHckQQI2Avh0ZsQtAjYiwt1rsBUCL0SDoVBgAQK6C0nEEjvc/CggLSme58T9sXU2orFPnP0v0JYz9Gdg/vT38vxYczD9nBQTe6kHHP1IhkEXJwKo/8OZnhCVAub+xtVgCpmqzP6DUpY6g0+k/PKK3T1h4+D8RTDjQc1EAQG/dAQs7TwJAQt2eHpPLAEBWEh074x//PyCap9ZSGf4/rEzaTySm/T+7aXhHRmr9P688KeqeNP0/ruZ4EemD/D8olrZcn9T7P0+vNc9hW/s/i9VVL+4P+z+0NzC24uz6P8731Kza8vo/xFf4SHzq+z+gYyHpvHb8P68ROkiFevw/BAjYdCga/D8AUp8VbW77P3JrF/nKmvo/qCQeGfq++T/dplwHJfn4P2G4p+Uva/g/OzZ0RqMZ+D8dmn/iar73P/OuA7Ka8PY/gaaeQHGn9T9hkyjAH1L0P3aZGhdAU/M/n8VP/g7P8j+90HxHNvfyPwhNBtgrqvk/\",\"dtype\":\"float64\",\"shape\":[75]},\"y\":{\"__ndarray__\":\"GhExyth1ND/Sv8nbtpRIP2vylNV0PVE/aTum7souWD/At0SJ8fVgPw3Iuahxymc/MSNhhJWvcD/bTfBN02d3P2zb5nxnaoA/CD5h5MAGhz8NmeH1TyaQP+zrCsc9p5Y/LbKd76fGnz/bLW5ISEmmPww9YvTcQq8/JV2OstnstT8Er5Y7M8G+P0c+r3jqkcU/5h99k6ZBzj88bCIzFzjVP4enV8oyxN0//yH99nXg5D8qOpLLf0jtP5kqGJXUifQ/c9cS8kHP/D+/DpwzojQEQIEmwoanVwxA4lgXt9HgE0BSSZ2AJuIbQAMJih9jjiNA5q4l5INuK0AwTKYKRj0zQNv5fmq8/DpAaCJseHrtQkB/+zpwzoxKQM3MzMzMeFJAZmZmZmZqWEAAAAAAAFxeQM3MzMzMJmJAmpmZmZkfZUBmZmZmZhhoQDMzMzMzEWtAAAAAAAAKbkBmZmZmZoFwQM3MzMzM/XFAMzMzMzN6c0CamZmZmfZ0QAAAAAAAc3ZAZmZmZmbvd0DNzMzMzGt5QDMzMzMz6HpAmpmZmZlkfEAAAAAAAOF9QGZmZmZmXX9AZmZmZuZsgECamZmZGSuBQM3MzMxM6YFAAAAAAICngkAzMzMzs2WDQGZmZmbmI4RAmpmZmRnihEDNzMzMTKCFQAAAAACAXoZAMzMzM7Mch0BmZmZm5tqHQJqZmZkZmYhAzczMzExXiUAAAAAAgBWKQDMzMzOz04pAZmZmZuaRi0CamZmZGVCMQM3MzMxMDo1AAAAAAIDMjUAzMzMzs4qOQGZmZmbmSI9A\",\"dtype\":\"float64\",\"shape\":[75]}},\"selected\":{\"id\":\"838dd243-615a-4c23-bf5f-905b0ba5d52d\",\"type\":\"Selection\"},\"selection_policy\":{\"id\":\"3f665912-c756-425e-b700-a130451e407f\",\"type\":\"UnionRenderers\"}},\"id\":\"9f5a6509-e641-4406-a5ea-6d946a32d926\",\"type\":\"ColumnDataSource\"},{\"attributes\":{\"source\":{\"id\":\"dc398b00-6444-400e-92af-2ea481789af7\",\"type\":\"ColumnDataSource\"}},\"id\":\"cf31bca8-173e-4c7d-8093-7036e1da375f\",\"type\":\"CDSView\"},{\"attributes\":{\"line_alpha\":0.1,\"line_color\":\"#1f77b4\",\"line_dash\":[6],\"line_width\":4,\"x\":{\"field\":\"x\"},\"y\":{\"field\":\"y\"}},\"id\":\"a26b4e4f-5c22-4128-88fd-efa1bef95fa7\",\"type\":\"Line\"},{\"attributes\":{},\"id\":\"2b06e677-3750-4db9-bdd2-baf0acfad48d\",\"type\":\"Selection\"},{\"attributes\":{\"fill_alpha\":{\"value\":0.1},\"fill_color\":{\"value\":\"#1f77b4\"},\"line_alpha\":{\"value\":0.1},\"line_color\":{\"value\":\"#1f77b4\"},\"x\":{\"field\":\"x\"},\"y\":{\"field\":\"y\"}},\"id\":\"555d1425-af4d-4155-92d7-490a70bb077e\",\"type\":\"Circle\"},{\"attributes\":{\"callback\":null,\"data\":{\"x\":{\"__ndarray__\":\"cm1sTMT3VEDEyvjosEJHQOKI6DjzCUNArgQWV9awPkB9Lm8XG3M4QEz+Qv6iYzNA7eV8HaPLLkCX1QHyTpMoQFBmYSYetiNAUB04GtGpH0AmFyVE5j8ZQJca9QPGqBNALJP+OOHHDEBNxaf7QF8AQKtislomWuw/cW2dcO6A9T/uJJvfPu0EQIaQLTI/JQ1AxGiII+PmEkCJvfVeuCsYQD6ZBhGbHB9AXQw69DTYJEAsubcwKucqQNuT9D5OmipAJyi3szEJJUBlNebh5WkgQDDcPHBr2xlArtlANXuQFEBdJadFHckQQI2Avh0ZsQtAjYiwt1rsBUCL0SDoVBgAQK6C0nEEjvc/CggLSme58T9sXU2orFPnP0v0JYz9Gdg/vT38vxYczD9nBQTe6kHHP1IhkEXJwKo/8OZnhCVAub+xtVgCpmqzP6DUpY6g0+k/PKK3T1h4+D8RTDjQc1EAQG/dAQs7TwJAQt2eHpPLAEBWEh074x//PyCap9ZSGf4/rEzaTySm/T+7aXhHRmr9P688KeqeNP0/ruZ4EemD/D8olrZcn9T7P0+vNc9hW/s/i9VVL+4P+z+0NzC24uz6P8731Kza8vo/xFf4SHzq+z+gYyHpvHb8P68ROkiFevw/BAjYdCga/D8AUp8VbW77P3JrF/nKmvo/qCQeGfq++T/dplwHJfn4P2G4p+Uva/g/OzZ0RqMZ+D8dmn/iar73P/OuA7Ka8PY/gaaeQHGn9T9hkyjAH1L0P3aZGhdAU/M/n8VP/g7P8j+90HxHNvfyPwhNBtgrqvk/\",\"dtype\":\"float64\",\"shape\":[75]},\"y\":{\"__ndarray__\":\"GhExyth1ND/Sv8nbtpRIP2vylNV0PVE/aTum7souWD/At0SJ8fVgPw3Iuahxymc/MSNhhJWvcD/bTfBN02d3P2zb5nxnaoA/CD5h5MAGhz8NmeH1TyaQP+zrCsc9p5Y/LbKd76fGnz/bLW5ISEmmPww9YvTcQq8/JV2OstnstT8Er5Y7M8G+P0c+r3jqkcU/5h99k6ZBzj88bCIzFzjVP4enV8oyxN0//yH99nXg5D8qOpLLf0jtP5kqGJXUifQ/c9cS8kHP/D+/DpwzojQEQIEmwoanVwxA4lgXt9HgE0BSSZ2AJuIbQAMJih9jjiNA5q4l5INuK0AwTKYKRj0zQNv5fmq8/DpAaCJseHrtQkB/+zpwzoxKQM3MzMzMeFJAZmZmZmZqWEAAAAAAAFxeQM3MzMzMJmJAmpmZmZkfZUBmZmZmZhhoQDMzMzMzEWtAAAAAAAAKbkBmZmZmZoFwQM3MzMzM/XFAMzMzMzN6c0CamZmZmfZ0QAAAAAAAc3ZAZmZmZmbvd0DNzMzMzGt5QDMzMzMz6HpAmpmZmZlkfEAAAAAAAOF9QGZmZmZmXX9AZmZmZuZsgECamZmZGSuBQM3MzMxM6YFAAAAAAICngkAzMzMzs2WDQGZmZmbmI4RAmpmZmRnihEDNzMzMTKCFQAAAAACAXoZAMzMzM7Mch0BmZmZm5tqHQJqZmZkZmYhAzczMzExXiUAAAAAAgBWKQDMzMzOz04pAZmZmZuaRi0CamZmZGVCMQM3MzMxMDo1AAAAAAIDMjUAzMzMzs4qOQGZmZmbmSI9A\",\"dtype\":\"float64\",\"shape\":[75]}},\"selected\":{\"id\":\"c8dbe675-cf62-43f8-89e5-fb00dc0d83ec\",\"type\":\"Selection\"},\"selection_policy\":{\"id\":\"7cf21cbd-3ae2-4e2f-8960-d01be0450a45\",\"type\":\"UnionRenderers\"}},\"id\":\"8978c165-27ea-43b7-8e04-d236ca02ecf4\",\"type\":\"ColumnDataSource\"},{\"attributes\":{\"bottom_units\":\"screen\",\"fill_alpha\":{\"value\":0.5},\"fill_color\":{\"value\":\"lightgrey\"},\"left_units\":\"screen\",\"level\":\"overlay\",\"line_alpha\":{\"value\":1.0},\"line_color\":{\"value\":\"black\"},\"line_dash\":[4,4],\"line_width\":{\"value\":2},\"plot\":null,\"render_mode\":\"css\",\"right_units\":\"screen\",\"top_units\":\"screen\"},\"id\":\"7a78ac98-6d8b-46c8-a98a-0b4a1a0803b1\",\"type\":\"BoxAnnotation\"}],\"root_ids\":[\"23e26b2a-a5df-4c91-9d8c-a8bb39361055\"]},\"title\":\"Bokeh Application\",\"version\":\"0.12.16\"}};\n",
       "  var render_items = [{\"docid\":\"4ed75eec-8635-4623-99f5-7575db94f3c1\",\"elementid\":\"90db0431-9be1-4500-9e4c-535a7b468a7d\",\"modelid\":\"23e26b2a-a5df-4c91-9d8c-a8bb39361055\"}];\n",
       "  root.Bokeh.embed.embed_items_notebook(docs_json, render_items);\n",
       "\n",
       "  }\n",
       "  if (root.Bokeh !== undefined) {\n",
       "    embed_document(root);\n",
       "  } else {\n",
       "    var attempts = 0;\n",
       "    var timer = setInterval(function(root) {\n",
       "      if (root.Bokeh !== undefined) {\n",
       "        embed_document(root);\n",
       "        clearInterval(timer);\n",
       "      }\n",
       "      attempts++;\n",
       "      if (attempts > 100) {\n",
       "        console.log(\"Bokeh: ERROR: Unable to run BokehJS code because BokehJS library is missing\")\n",
       "        clearInterval(timer);\n",
       "      }\n",
       "    }, 10, root)\n",
       "  }\n",
       "})(window);"
      ],
      "application/vnd.bokehjs_exec.v0+json": ""
     },
     "metadata": {
      "application/vnd.bokehjs_exec.v0+json": {
       "id": "23e26b2a-a5df-4c91-9d8c-a8bb39361055"
      }
     },
     "output_type": "display_data"
    },
    {
     "data": {
      "text/markdown": [
       "*FIGURE.* Cooling rates & difference."
      ],
      "text/plain": [
       "<IPython.core.display.Markdown object>"
      ]
     },
     "metadata": {},
     "output_type": "display_data"
    },
    {
     "data": {
      "text/html": [
       "<a id=\"Fluxes._mls.\"></a>"
      ],
      "text/plain": [
       "<IPython.core.display.HTML object>"
      ]
     },
     "metadata": {},
     "output_type": "display_data"
    },
    {
     "data": {
      "text/markdown": [
       "# Fluxes. mls."
      ],
      "text/plain": [
       "<IPython.core.display.Markdown object>"
      ]
     },
     "metadata": {},
     "output_type": "display_data"
    },
    {
     "data": {
      "text/html": [
       "\n",
       "<div class=\"bk-root\">\n",
       "    <div class=\"bk-plotdiv\" id=\"51699d8d-e72d-4bc4-abe5-d9e3623a42c1\"></div>\n",
       "</div>"
      ]
     },
     "metadata": {},
     "output_type": "display_data"
    },
    {
     "data": {
      "application/javascript": [
       "(function(root) {\n",
       "  function embed_document(root) {\n",
       "    \n",
       "  var docs_json = {\"a97770ec-12cf-48ad-be1a-b922d0d540e9\":{\"roots\":{\"references\":[{\"attributes\":{},\"id\":\"ace76fd7-f4e2-4270-b4d0-7be04f3a8eb6\",\"type\":\"CategoricalScale\"},{\"attributes\":{},\"id\":\"b18c90ed-f699-4816-a162-cbf5c9473184\",\"type\":\"ResetTool\"},{\"attributes\":{\"callback\":null},\"id\":\"757d187f-a971-4ddd-9607-2805b6ccf1ac\",\"type\":\"DataRange1d\"},{\"attributes\":{},\"id\":\"4c8de213-fa80-4914-a3b5-b13efd956dee\",\"type\":\"Selection\"},{\"attributes\":{},\"id\":\"9e4ca62b-2f8b-4c7a-966d-ec7b225557ae\",\"type\":\"LinearScale\"},{\"attributes\":{},\"id\":\"2de781f3-b1a4-4e59-a09d-1cf23f59f271\",\"type\":\"CategoricalTicker\"},{\"attributes\":{},\"id\":\"6c7235f6-5e37-4d6b-8d10-cbfd99fc74df\",\"type\":\"CategoricalTickFormatter\"},{\"attributes\":{\"plot\":null,\"text\":\"TOA flux. CLIRAD (single-run) - CRD.\"},\"id\":\"2e725a2d-8073-4099-9b66-c881505f6a2a\",\"type\":\"Title\"},{\"attributes\":{},\"id\":\"4596a3f5-fd38-49fb-8afc-8f521975112c\",\"type\":\"SaveTool\"},{\"attributes\":{\"below\":[{\"id\":\"65c1b0a8-2860-4142-904c-11fdd3128e55\",\"type\":\"CategoricalAxis\"}],\"left\":[{\"id\":\"1bb49823-35ec-4382-a042-59da324fd700\",\"type\":\"LinearAxis\"}],\"plot_height\":300,\"plot_width\":300,\"renderers\":[{\"id\":\"65c1b0a8-2860-4142-904c-11fdd3128e55\",\"type\":\"CategoricalAxis\"},{\"id\":\"1ae28690-5e4f-4e9e-bec6-08dc45f30f6f\",\"type\":\"Grid\"},{\"id\":\"1bb49823-35ec-4382-a042-59da324fd700\",\"type\":\"LinearAxis\"},{\"id\":\"bf1c0420-afb1-42ea-832a-aa37c1a66320\",\"type\":\"Grid\"},{\"id\":\"8a73075d-e445-49fb-ae21-9377d2d8752b\",\"type\":\"BoxAnnotation\"},{\"id\":\"ff7be255-2d9e-46f4-9f52-a2cee1b79d7d\",\"type\":\"GlyphRenderer\"}],\"title\":{\"id\":\"2e725a2d-8073-4099-9b66-c881505f6a2a\",\"type\":\"Title\"},\"toolbar\":{\"id\":\"da8cd533-f443-4d7f-b623-57ef7f439754\",\"type\":\"Toolbar\"},\"toolbar_location\":null,\"x_range\":{\"id\":\"67db9d43-884e-4a41-a7a3-c2c181c5475a\",\"type\":\"FactorRange\"},\"x_scale\":{\"id\":\"ace76fd7-f4e2-4270-b4d0-7be04f3a8eb6\",\"type\":\"CategoricalScale\"},\"y_range\":{\"id\":\"f7a624c2-9b91-42f5-a243-a7a83319b354\",\"type\":\"DataRange1d\"},\"y_scale\":{\"id\":\"9e4ca62b-2f8b-4c7a-966d-ec7b225557ae\",\"type\":\"LinearScale\"}},\"id\":\"1627d9bd-d9b2-4d8f-baba-8193bc528bc0\",\"subtype\":\"Figure\",\"type\":\"Plot\"},{\"attributes\":{\"children\":[{\"id\":\"1627d9bd-d9b2-4d8f-baba-8193bc528bc0\",\"subtype\":\"Figure\",\"type\":\"Plot\"},{\"id\":\"12014a41-325c-42e3-b92f-b9624df777f1\",\"subtype\":\"Figure\",\"type\":\"Plot\"},{\"id\":\"b94e2f9f-51c9-4212-a232-9f45fcfc534d\",\"subtype\":\"Figure\",\"type\":\"Plot\"}]},\"id\":\"494e9b40-0035-4bdc-8e7d-77d18d522daf\",\"type\":\"Row\"},{\"attributes\":{\"callback\":null,\"factors\":[\"1\",\"2\",\"3\",\"4\",\"5\",\"6\",\"7\",\"8\",\"9\",\"10\",\"11\"]},\"id\":\"67db9d43-884e-4a41-a7a3-c2c181c5475a\",\"type\":\"FactorRange\"},{\"attributes\":{},\"id\":\"fde98bdc-ad47-40ad-a996-7d5699f10284\",\"type\":\"UnionRenderers\"},{\"attributes\":{\"callback\":null},\"id\":\"f7a624c2-9b91-42f5-a243-a7a83319b354\",\"type\":\"DataRange1d\"},{\"attributes\":{},\"id\":\"2cfc309c-e84a-4545-9f67-be23f2678589\",\"type\":\"CategoricalTickFormatter\"},{\"attributes\":{},\"id\":\"e46722cb-f5da-4e3e-87ee-715427ba2a48\",\"type\":\"UnionRenderers\"},{\"attributes\":{},\"id\":\"4c13a673-2b5f-4e10-9cba-9611de85a340\",\"type\":\"UnionRenderers\"},{\"attributes\":{},\"id\":\"87b0fa62-e854-495d-8d00-f03e6c4c156f\",\"type\":\"HelpTool\"},{\"attributes\":{\"bottom_units\":\"screen\",\"fill_alpha\":{\"value\":0.5},\"fill_color\":{\"value\":\"lightgrey\"},\"left_units\":\"screen\",\"level\":\"overlay\",\"line_alpha\":{\"value\":1.0},\"line_color\":{\"value\":\"black\"},\"line_dash\":[4,4],\"line_width\":{\"value\":2},\"plot\":null,\"render_mode\":\"css\",\"right_units\":\"screen\",\"top_units\":\"screen\"},\"id\":\"2f5112a4-604b-4748-805a-63c2c983a458\",\"type\":\"BoxAnnotation\"},{\"attributes\":{\"children\":[{\"id\":\"ff753cec-c01a-4454-a56c-be4b16bc205a\",\"type\":\"ToolbarBox\"},{\"id\":\"1a955ea2-f955-4dfa-b629-e959201e8fa1\",\"type\":\"Column\"}]},\"id\":\"ca10e702-b7c9-4dad-8d64-c6a02ccbc14e\",\"type\":\"Column\"},{\"attributes\":{},\"id\":\"a7d75843-94c2-4f2d-a00d-5d73f20ad967\",\"type\":\"LinearScale\"},{\"attributes\":{},\"id\":\"cb40fa95-c010-4bdb-82cf-33196c5b3a0f\",\"type\":\"BasicTickFormatter\"},{\"attributes\":{},\"id\":\"a73c186b-f8d4-416f-8168-8aec3800af2e\",\"type\":\"CategoricalScale\"},{\"attributes\":{\"axis_label\":\"spectral band\",\"formatter\":{\"id\":\"6c7235f6-5e37-4d6b-8d10-cbfd99fc74df\",\"type\":\"CategoricalTickFormatter\"},\"plot\":{\"id\":\"12014a41-325c-42e3-b92f-b9624df777f1\",\"subtype\":\"Figure\",\"type\":\"Plot\"},\"ticker\":{\"id\":\"2de781f3-b1a4-4e59-a09d-1cf23f59f271\",\"type\":\"CategoricalTicker\"}},\"id\":\"afa38727-f40a-416a-a4de-5411d3fe70fd\",\"type\":\"CategoricalAxis\"},{\"attributes\":{\"tools\":[{\"id\":\"684bb003-fbd3-4227-bad6-1bb9297a185c\",\"type\":\"PanTool\"},{\"id\":\"4503d41f-9037-4654-8b65-e3dfaaf1b701\",\"type\":\"WheelZoomTool\"},{\"id\":\"e1cfd4fe-d067-4cc8-92d5-c397a7779b27\",\"type\":\"BoxZoomTool\"},{\"id\":\"c4dd3344-bae4-4713-a310-ad1c52fc9757\",\"type\":\"SaveTool\"},{\"id\":\"df473013-3243-4fb9-9ed7-081efee9066e\",\"type\":\"ResetTool\"},{\"id\":\"7dbf0c0e-65bd-4ebb-9d3e-09f36e9c74a2\",\"type\":\"HelpTool\"},{\"id\":\"85becce4-1b6b-484b-ab23-6253d7b6307b\",\"type\":\"PanTool\"},{\"id\":\"4a873ca1-6bc7-4269-ac82-7dbb366a7353\",\"type\":\"WheelZoomTool\"},{\"id\":\"3636cd2a-2d82-44f7-831b-fbfee57b5b79\",\"type\":\"BoxZoomTool\"},{\"id\":\"debd7bef-5ca3-4478-a3d2-5f901a57ff6e\",\"type\":\"SaveTool\"},{\"id\":\"b18c90ed-f699-4816-a162-cbf5c9473184\",\"type\":\"ResetTool\"},{\"id\":\"50623808-41e9-42c2-92ec-3802e63046fe\",\"type\":\"HelpTool\"},{\"id\":\"f302b107-8186-4773-98c1-6338d5897b61\",\"type\":\"PanTool\"},{\"id\":\"677612cc-4b5b-4a36-9c87-ccd4387fd2f8\",\"type\":\"WheelZoomTool\"},{\"id\":\"890e566e-73c4-4954-bd0a-d51f157bbbc6\",\"type\":\"BoxZoomTool\"},{\"id\":\"4596a3f5-fd38-49fb-8afc-8f521975112c\",\"type\":\"SaveTool\"},{\"id\":\"b45d2507-c0d9-4ffb-b8fc-4c4e0b6796e2\",\"type\":\"ResetTool\"},{\"id\":\"87b0fa62-e854-495d-8d00-f03e6c4c156f\",\"type\":\"HelpTool\"}]},\"id\":\"71353208-b247-4f80-8341-346220f0860a\",\"type\":\"ProxyToolbar\"},{\"attributes\":{\"source\":{\"id\":\"19623197-9667-4ac8-9ae2-9a08f33b6da1\",\"type\":\"ColumnDataSource\"}},\"id\":\"5d6aa229-7f36-464f-95f3-9cffaa89529a\",\"type\":\"CDSView\"},{\"attributes\":{\"toolbar\":{\"id\":\"71353208-b247-4f80-8341-346220f0860a\",\"type\":\"ProxyToolbar\"},\"toolbar_location\":\"above\"},\"id\":\"ff753cec-c01a-4454-a56c-be4b16bc205a\",\"type\":\"ToolbarBox\"},{\"attributes\":{\"active_drag\":\"auto\",\"active_inspect\":\"auto\",\"active_scroll\":\"auto\",\"active_tap\":\"auto\",\"tools\":[{\"id\":\"684bb003-fbd3-4227-bad6-1bb9297a185c\",\"type\":\"PanTool\"},{\"id\":\"4503d41f-9037-4654-8b65-e3dfaaf1b701\",\"type\":\"WheelZoomTool\"},{\"id\":\"e1cfd4fe-d067-4cc8-92d5-c397a7779b27\",\"type\":\"BoxZoomTool\"},{\"id\":\"c4dd3344-bae4-4713-a310-ad1c52fc9757\",\"type\":\"SaveTool\"},{\"id\":\"df473013-3243-4fb9-9ed7-081efee9066e\",\"type\":\"ResetTool\"},{\"id\":\"7dbf0c0e-65bd-4ebb-9d3e-09f36e9c74a2\",\"type\":\"HelpTool\"}]},\"id\":\"da8cd533-f443-4d7f-b623-57ef7f439754\",\"type\":\"Toolbar\"},{\"attributes\":{\"active_drag\":\"auto\",\"active_inspect\":\"auto\",\"active_scroll\":\"auto\",\"active_tap\":\"auto\",\"tools\":[{\"id\":\"85becce4-1b6b-484b-ab23-6253d7b6307b\",\"type\":\"PanTool\"},{\"id\":\"4a873ca1-6bc7-4269-ac82-7dbb366a7353\",\"type\":\"WheelZoomTool\"},{\"id\":\"3636cd2a-2d82-44f7-831b-fbfee57b5b79\",\"type\":\"BoxZoomTool\"},{\"id\":\"debd7bef-5ca3-4478-a3d2-5f901a57ff6e\",\"type\":\"SaveTool\"},{\"id\":\"b18c90ed-f699-4816-a162-cbf5c9473184\",\"type\":\"ResetTool\"},{\"id\":\"50623808-41e9-42c2-92ec-3802e63046fe\",\"type\":\"HelpTool\"}]},\"id\":\"3892a350-e1e6-49d3-9d44-4938f48f3932\",\"type\":\"Toolbar\"},{\"attributes\":{},\"id\":\"b45d2507-c0d9-4ffb-b8fc-4c4e0b6796e2\",\"type\":\"ResetTool\"},{\"attributes\":{},\"id\":\"b5594c0f-b010-4427-afec-5b4a41784a3b\",\"type\":\"BasicTickFormatter\"},{\"attributes\":{\"callback\":null,\"factors\":[\"1\",\"2\",\"3\",\"4\",\"5\",\"6\",\"7\",\"8\",\"9\",\"10\",\"11\"]},\"id\":\"44abfa1f-92ef-4ae8-a1d6-acf66d18490d\",\"type\":\"FactorRange\"},{\"attributes\":{},\"id\":\"01b8fede-81da-40fd-aa7f-afafd5c4c466\",\"type\":\"Selection\"},{\"attributes\":{\"plot\":{\"id\":\"12014a41-325c-42e3-b92f-b9624df777f1\",\"subtype\":\"Figure\",\"type\":\"Plot\"},\"ticker\":{\"id\":\"2de781f3-b1a4-4e59-a09d-1cf23f59f271\",\"type\":\"CategoricalTicker\"}},\"id\":\"c7d56390-5e3d-4619-a676-db754f776b1f\",\"type\":\"Grid\"},{\"attributes\":{\"fill_color\":{\"value\":\"#1f77b4\"},\"line_color\":{\"value\":\"#1f77b4\"},\"top\":{\"field\":\"flux\"},\"width\":{\"value\":0.9},\"x\":{\"field\":\"band\"}},\"id\":\"5f2bde99-fd9e-4dc3-92b9-98bdbe2ed67e\",\"type\":\"VBar\"},{\"attributes\":{\"source\":{\"id\":\"bd08f239-269a-44cb-b50c-9afef5e3451e\",\"type\":\"ColumnDataSource\"}},\"id\":\"a0c6d468-3cc0-4942-b70f-b3f00a9e5976\",\"type\":\"CDSView\"},{\"attributes\":{\"plot\":{\"id\":\"1627d9bd-d9b2-4d8f-baba-8193bc528bc0\",\"subtype\":\"Figure\",\"type\":\"Plot\"},\"ticker\":{\"id\":\"d86667b2-9abf-487a-9a92-5b70e802a56b\",\"type\":\"CategoricalTicker\"}},\"id\":\"1ae28690-5e4f-4e9e-bec6-08dc45f30f6f\",\"type\":\"Grid\"},{\"attributes\":{\"active_drag\":\"auto\",\"active_inspect\":\"auto\",\"active_scroll\":\"auto\",\"active_tap\":\"auto\",\"tools\":[{\"id\":\"f302b107-8186-4773-98c1-6338d5897b61\",\"type\":\"PanTool\"},{\"id\":\"677612cc-4b5b-4a36-9c87-ccd4387fd2f8\",\"type\":\"WheelZoomTool\"},{\"id\":\"890e566e-73c4-4954-bd0a-d51f157bbbc6\",\"type\":\"BoxZoomTool\"},{\"id\":\"4596a3f5-fd38-49fb-8afc-8f521975112c\",\"type\":\"SaveTool\"},{\"id\":\"b45d2507-c0d9-4ffb-b8fc-4c4e0b6796e2\",\"type\":\"ResetTool\"},{\"id\":\"87b0fa62-e854-495d-8d00-f03e6c4c156f\",\"type\":\"HelpTool\"}]},\"id\":\"0cd5de47-653f-4137-8fb2-6644718943af\",\"type\":\"Toolbar\"},{\"attributes\":{\"callback\":null},\"id\":\"7528687d-5945-486f-823b-705aa8cfb9b3\",\"type\":\"DataRange1d\"},{\"attributes\":{\"below\":[{\"id\":\"afa38727-f40a-416a-a4de-5411d3fe70fd\",\"type\":\"CategoricalAxis\"}],\"left\":[{\"id\":\"1f4ae25f-c515-4e19-b19e-a9744aa5c6fe\",\"type\":\"LinearAxis\"}],\"plot_height\":300,\"plot_width\":300,\"renderers\":[{\"id\":\"afa38727-f40a-416a-a4de-5411d3fe70fd\",\"type\":\"CategoricalAxis\"},{\"id\":\"c7d56390-5e3d-4619-a676-db754f776b1f\",\"type\":\"Grid\"},{\"id\":\"1f4ae25f-c515-4e19-b19e-a9744aa5c6fe\",\"type\":\"LinearAxis\"},{\"id\":\"39732121-086a-4996-a0ea-72a4247f2f46\",\"type\":\"Grid\"},{\"id\":\"ee074aff-6bda-43e3-aa28-5c76f565fd07\",\"type\":\"BoxAnnotation\"},{\"id\":\"c7a465d7-825a-4560-a102-a2ccd9b972e4\",\"type\":\"GlyphRenderer\"}],\"title\":{\"id\":\"13abb8cf-7cb9-442e-9c61-517f65d7bbdb\",\"type\":\"Title\"},\"toolbar\":{\"id\":\"3892a350-e1e6-49d3-9d44-4938f48f3932\",\"type\":\"Toolbar\"},\"toolbar_location\":null,\"x_range\":{\"id\":\"44abfa1f-92ef-4ae8-a1d6-acf66d18490d\",\"type\":\"FactorRange\"},\"x_scale\":{\"id\":\"a73c186b-f8d4-416f-8168-8aec3800af2e\",\"type\":\"CategoricalScale\"},\"y_range\":{\"id\":\"757d187f-a971-4ddd-9607-2805b6ccf1ac\",\"type\":\"DataRange1d\"},\"y_scale\":{\"id\":\"a7d75843-94c2-4f2d-a00d-5d73f20ad967\",\"type\":\"LinearScale\"}},\"id\":\"12014a41-325c-42e3-b92f-b9624df777f1\",\"subtype\":\"Figure\",\"type\":\"Plot\"},{\"attributes\":{},\"id\":\"5a447492-f71f-41b6-9a6d-8516f8a130ad\",\"type\":\"BasicTickFormatter\"},{\"attributes\":{\"source\":{\"id\":\"b65274f4-35b8-456b-86da-b17defe33dde\",\"type\":\"ColumnDataSource\"}},\"id\":\"b17aaffb-8a05-498e-aebe-75ac4258276a\",\"type\":\"CDSView\"},{\"attributes\":{},\"id\":\"debd7bef-5ca3-4478-a3d2-5f901a57ff6e\",\"type\":\"SaveTool\"},{\"attributes\":{},\"id\":\"f302b107-8186-4773-98c1-6338d5897b61\",\"type\":\"PanTool\"},{\"attributes\":{},\"id\":\"85becce4-1b6b-484b-ab23-6253d7b6307b\",\"type\":\"PanTool\"},{\"attributes\":{\"plot\":{\"id\":\"b94e2f9f-51c9-4212-a232-9f45fcfc534d\",\"subtype\":\"Figure\",\"type\":\"Plot\"},\"ticker\":{\"id\":\"f7c9b403-a08b-434e-ab8f-f12cebb1bfb6\",\"type\":\"CategoricalTicker\"}},\"id\":\"fc3d5935-3ce9-4d30-a7f0-a38bd1d7671b\",\"type\":\"Grid\"},{\"attributes\":{},\"id\":\"df473013-3243-4fb9-9ed7-081efee9066e\",\"type\":\"ResetTool\"},{\"attributes\":{\"overlay\":{\"id\":\"ee074aff-6bda-43e3-aa28-5c76f565fd07\",\"type\":\"BoxAnnotation\"}},\"id\":\"3636cd2a-2d82-44f7-831b-fbfee57b5b79\",\"type\":\"BoxZoomTool\"},{\"attributes\":{},\"id\":\"4503d41f-9037-4654-8b65-e3dfaaf1b701\",\"type\":\"WheelZoomTool\"},{\"attributes\":{\"plot\":null,\"text\":\"SFC flux. CLIRAD (single-run) - CRD.\"},\"id\":\"13abb8cf-7cb9-442e-9c61-517f65d7bbdb\",\"type\":\"Title\"},{\"attributes\":{},\"id\":\"37b9edd7-1508-4b5f-adf3-17d96a37ec28\",\"type\":\"CategoricalScale\"},{\"attributes\":{},\"id\":\"d7ec7fba-d2b9-4fae-be44-c53002a67095\",\"type\":\"LinearScale\"},{\"attributes\":{\"dimension\":1,\"plot\":{\"id\":\"b94e2f9f-51c9-4212-a232-9f45fcfc534d\",\"subtype\":\"Figure\",\"type\":\"Plot\"},\"ticker\":{\"id\":\"513f224d-4958-476b-9b0b-7735e358bdce\",\"type\":\"BasicTicker\"}},\"id\":\"751d3c96-fa40-4774-bfeb-5e2d06e84feb\",\"type\":\"Grid\"},{\"attributes\":{},\"id\":\"3df23abe-4fa7-4ad3-ae58-48d01f10bc8c\",\"type\":\"CategoricalTickFormatter\"},{\"attributes\":{\"dimension\":1,\"plot\":{\"id\":\"12014a41-325c-42e3-b92f-b9624df777f1\",\"subtype\":\"Figure\",\"type\":\"Plot\"},\"ticker\":{\"id\":\"b83bdabb-b953-4df3-b086-93a666111160\",\"type\":\"BasicTicker\"}},\"id\":\"39732121-086a-4996-a0ea-72a4247f2f46\",\"type\":\"Grid\"},{\"attributes\":{},\"id\":\"50623808-41e9-42c2-92ec-3802e63046fe\",\"type\":\"HelpTool\"},{\"attributes\":{\"callback\":null,\"data\":{\"band\":[\"1\",\"2\",\"3\",\"4\",\"5\",\"6\",\"7\",\"8\",\"9\",\"10\",\"11\"],\"flux\":{\"__ndarray__\":\"AIMde81dyD8AYEI3wVi1vwBYNyirM4i/ANGnfnO5zj9A+KOoM/fOvwBuLCgMysK/AHAlOzYC1z8A5hw8E5qkP8BJ06BoHsi/QL8FwBXcvT8AZ1U6DnKtPw==\",\"dtype\":\"float64\",\"shape\":[11]}},\"selected\":{\"id\":\"01b8fede-81da-40fd-aa7f-afafd5c4c466\",\"type\":\"Selection\"},\"selection_policy\":{\"id\":\"4c13a673-2b5f-4e10-9cba-9611de85a340\",\"type\":\"UnionRenderers\"}},\"id\":\"bd08f239-269a-44cb-b50c-9afef5e3451e\",\"type\":\"ColumnDataSource\"},{\"attributes\":{\"data_source\":{\"id\":\"bd08f239-269a-44cb-b50c-9afef5e3451e\",\"type\":\"ColumnDataSource\"},\"glyph\":{\"id\":\"cfe3ddc0-4ae4-48ab-8ce8-6b2ceb02870b\",\"type\":\"VBar\"},\"hover_glyph\":null,\"muted_glyph\":null,\"nonselection_glyph\":{\"id\":\"0d8ce05e-cdca-481d-a825-1011026a43d9\",\"type\":\"VBar\"},\"selection_glyph\":null,\"view\":{\"id\":\"a0c6d468-3cc0-4942-b70f-b3f00a9e5976\",\"type\":\"CDSView\"}},\"id\":\"0da140c2-dc6b-403a-9afa-579935b39c02\",\"type\":\"GlyphRenderer\"},{\"attributes\":{\"axis_label\":\"flux (W m-2)\",\"formatter\":{\"id\":\"5a447492-f71f-41b6-9a6d-8516f8a130ad\",\"type\":\"BasicTickFormatter\"},\"plot\":{\"id\":\"12014a41-325c-42e3-b92f-b9624df777f1\",\"subtype\":\"Figure\",\"type\":\"Plot\"},\"ticker\":{\"id\":\"b83bdabb-b953-4df3-b086-93a666111160\",\"type\":\"BasicTicker\"}},\"id\":\"1f4ae25f-c515-4e19-b19e-a9744aa5c6fe\",\"type\":\"LinearAxis\"},{\"attributes\":{\"dimension\":1,\"plot\":{\"id\":\"1627d9bd-d9b2-4d8f-baba-8193bc528bc0\",\"subtype\":\"Figure\",\"type\":\"Plot\"},\"ticker\":{\"id\":\"262c395d-f3b9-4017-b958-63e6ccb156be\",\"type\":\"BasicTicker\"}},\"id\":\"bf1c0420-afb1-42ea-832a-aa37c1a66320\",\"type\":\"Grid\"},{\"attributes\":{\"plot\":null,\"text\":\"Atmosphere heating. CLIRAD (single-run) - CRD.\"},\"id\":\"a9396597-9031-44f6-81d1-cb21a1e59e21\",\"type\":\"Title\"},{\"attributes\":{\"callback\":null,\"factors\":[\"1\",\"2\",\"3\",\"4\",\"5\",\"6\",\"7\",\"8\",\"9\",\"10\",\"11\"]},\"id\":\"63797cd6-29ed-4f30-8900-e1a0f0effcc6\",\"type\":\"FactorRange\"},{\"attributes\":{\"overlay\":{\"id\":\"8a73075d-e445-49fb-ae21-9377d2d8752b\",\"type\":\"BoxAnnotation\"}},\"id\":\"e1cfd4fe-d067-4cc8-92d5-c397a7779b27\",\"type\":\"BoxZoomTool\"},{\"attributes\":{\"bottom_units\":\"screen\",\"fill_alpha\":{\"value\":0.5},\"fill_color\":{\"value\":\"lightgrey\"},\"left_units\":\"screen\",\"level\":\"overlay\",\"line_alpha\":{\"value\":1.0},\"line_color\":{\"value\":\"black\"},\"line_dash\":[4,4],\"line_width\":{\"value\":2},\"plot\":null,\"render_mode\":\"css\",\"right_units\":\"screen\",\"top_units\":\"screen\"},\"id\":\"ee074aff-6bda-43e3-aa28-5c76f565fd07\",\"type\":\"BoxAnnotation\"},{\"attributes\":{\"axis_label\":\"spectral band\",\"formatter\":{\"id\":\"3df23abe-4fa7-4ad3-ae58-48d01f10bc8c\",\"type\":\"CategoricalTickFormatter\"},\"plot\":{\"id\":\"1627d9bd-d9b2-4d8f-baba-8193bc528bc0\",\"subtype\":\"Figure\",\"type\":\"Plot\"},\"ticker\":{\"id\":\"d86667b2-9abf-487a-9a92-5b70e802a56b\",\"type\":\"CategoricalTicker\"}},\"id\":\"65c1b0a8-2860-4142-904c-11fdd3128e55\",\"type\":\"CategoricalAxis\"},{\"attributes\":{\"fill_color\":{\"value\":\"#1f77b4\"},\"line_color\":{\"value\":\"#1f77b4\"},\"top\":{\"field\":\"flux\"},\"width\":{\"value\":0.9},\"x\":{\"field\":\"band\"}},\"id\":\"cfe3ddc0-4ae4-48ab-8ce8-6b2ceb02870b\",\"type\":\"VBar\"},{\"attributes\":{},\"id\":\"c4dd3344-bae4-4713-a310-ad1c52fc9757\",\"type\":\"SaveTool\"},{\"attributes\":{},\"id\":\"d86667b2-9abf-487a-9a92-5b70e802a56b\",\"type\":\"CategoricalTicker\"},{\"attributes\":{},\"id\":\"f7c9b403-a08b-434e-ab8f-f12cebb1bfb6\",\"type\":\"CategoricalTicker\"},{\"attributes\":{\"axis_label\":\"spectral band\",\"formatter\":{\"id\":\"2cfc309c-e84a-4545-9f67-be23f2678589\",\"type\":\"CategoricalTickFormatter\"},\"plot\":{\"id\":\"b94e2f9f-51c9-4212-a232-9f45fcfc534d\",\"subtype\":\"Figure\",\"type\":\"Plot\"},\"ticker\":{\"id\":\"f7c9b403-a08b-434e-ab8f-f12cebb1bfb6\",\"type\":\"CategoricalTicker\"}},\"id\":\"e798a88c-9568-4ed5-94e0-2c39cc660ee4\",\"type\":\"CategoricalAxis\"},{\"attributes\":{\"fill_alpha\":{\"value\":0.1},\"fill_color\":{\"value\":\"#1f77b4\"},\"line_alpha\":{\"value\":0.1},\"line_color\":{\"value\":\"#1f77b4\"},\"top\":{\"field\":\"flux\"},\"width\":{\"value\":0.9},\"x\":{\"field\":\"band\"}},\"id\":\"3748e1ab-c537-4dee-b9fe-98209d055499\",\"type\":\"VBar\"},{\"attributes\":{\"fill_alpha\":{\"value\":0.1},\"fill_color\":{\"value\":\"#1f77b4\"},\"line_alpha\":{\"value\":0.1},\"line_color\":{\"value\":\"#1f77b4\"},\"top\":{\"field\":\"flux\"},\"width\":{\"value\":0.9},\"x\":{\"field\":\"band\"}},\"id\":\"0d8ce05e-cdca-481d-a825-1011026a43d9\",\"type\":\"VBar\"},{\"attributes\":{\"axis_label\":\"flux (W m-2)\",\"formatter\":{\"id\":\"cb40fa95-c010-4bdb-82cf-33196c5b3a0f\",\"type\":\"BasicTickFormatter\"},\"plot\":{\"id\":\"1627d9bd-d9b2-4d8f-baba-8193bc528bc0\",\"subtype\":\"Figure\",\"type\":\"Plot\"},\"ticker\":{\"id\":\"262c395d-f3b9-4017-b958-63e6ccb156be\",\"type\":\"BasicTicker\"}},\"id\":\"1bb49823-35ec-4382-a042-59da324fd700\",\"type\":\"LinearAxis\"},{\"attributes\":{},\"id\":\"513f224d-4958-476b-9b0b-7735e358bdce\",\"type\":\"BasicTicker\"},{\"attributes\":{},\"id\":\"677612cc-4b5b-4a36-9c87-ccd4387fd2f8\",\"type\":\"WheelZoomTool\"},{\"attributes\":{\"callback\":null,\"data\":{\"band\":[\"1\",\"2\",\"3\",\"4\",\"5\",\"6\",\"7\",\"8\",\"9\",\"10\",\"11\"],\"flux\":{\"__ndarray__\":\"AEILCRhdyD+AzEHQ0arSP0DMe5xpwtO/gGStodRe0z/ASgaAKm7QPwBwl/2607G/QKz+CMOA2D8ASdv4E5W5vwC2wvS9hpC/YNQ5UPHJwD9AvtXft8awPw==\",\"dtype\":\"float64\",\"shape\":[11]}},\"selected\":{\"id\":\"4c8de213-fa80-4914-a3b5-b13efd956dee\",\"type\":\"Selection\"},\"selection_policy\":{\"id\":\"e46722cb-f5da-4e3e-87ee-715427ba2a48\",\"type\":\"UnionRenderers\"}},\"id\":\"b65274f4-35b8-456b-86da-b17defe33dde\",\"type\":\"ColumnDataSource\"},{\"attributes\":{\"below\":[{\"id\":\"e798a88c-9568-4ed5-94e0-2c39cc660ee4\",\"type\":\"CategoricalAxis\"}],\"left\":[{\"id\":\"3cf511b0-8f62-4bf2-b67f-b5e78be58570\",\"type\":\"LinearAxis\"}],\"plot_height\":300,\"plot_width\":300,\"renderers\":[{\"id\":\"e798a88c-9568-4ed5-94e0-2c39cc660ee4\",\"type\":\"CategoricalAxis\"},{\"id\":\"fc3d5935-3ce9-4d30-a7f0-a38bd1d7671b\",\"type\":\"Grid\"},{\"id\":\"3cf511b0-8f62-4bf2-b67f-b5e78be58570\",\"type\":\"LinearAxis\"},{\"id\":\"751d3c96-fa40-4774-bfeb-5e2d06e84feb\",\"type\":\"Grid\"},{\"id\":\"2f5112a4-604b-4748-805a-63c2c983a458\",\"type\":\"BoxAnnotation\"},{\"id\":\"0da140c2-dc6b-403a-9afa-579935b39c02\",\"type\":\"GlyphRenderer\"}],\"title\":{\"id\":\"a9396597-9031-44f6-81d1-cb21a1e59e21\",\"type\":\"Title\"},\"toolbar\":{\"id\":\"0cd5de47-653f-4137-8fb2-6644718943af\",\"type\":\"Toolbar\"},\"toolbar_location\":null,\"x_range\":{\"id\":\"63797cd6-29ed-4f30-8900-e1a0f0effcc6\",\"type\":\"FactorRange\"},\"x_scale\":{\"id\":\"37b9edd7-1508-4b5f-adf3-17d96a37ec28\",\"type\":\"CategoricalScale\"},\"y_range\":{\"id\":\"7528687d-5945-486f-823b-705aa8cfb9b3\",\"type\":\"DataRange1d\"},\"y_scale\":{\"id\":\"d7ec7fba-d2b9-4fae-be44-c53002a67095\",\"type\":\"LinearScale\"}},\"id\":\"b94e2f9f-51c9-4212-a232-9f45fcfc534d\",\"subtype\":\"Figure\",\"type\":\"Plot\"},{\"attributes\":{\"axis_label\":\"flux (W m-2)\",\"formatter\":{\"id\":\"b5594c0f-b010-4427-afec-5b4a41784a3b\",\"type\":\"BasicTickFormatter\"},\"plot\":{\"id\":\"b94e2f9f-51c9-4212-a232-9f45fcfc534d\",\"subtype\":\"Figure\",\"type\":\"Plot\"},\"ticker\":{\"id\":\"513f224d-4958-476b-9b0b-7735e358bdce\",\"type\":\"BasicTicker\"}},\"id\":\"3cf511b0-8f62-4bf2-b67f-b5e78be58570\",\"type\":\"LinearAxis\"},{\"attributes\":{},\"id\":\"262c395d-f3b9-4017-b958-63e6ccb156be\",\"type\":\"BasicTicker\"},{\"attributes\":{\"children\":[{\"id\":\"494e9b40-0035-4bdc-8e7d-77d18d522daf\",\"type\":\"Row\"}]},\"id\":\"1a955ea2-f955-4dfa-b629-e959201e8fa1\",\"type\":\"Column\"},{\"attributes\":{\"bottom_units\":\"screen\",\"fill_alpha\":{\"value\":0.5},\"fill_color\":{\"value\":\"lightgrey\"},\"left_units\":\"screen\",\"level\":\"overlay\",\"line_alpha\":{\"value\":1.0},\"line_color\":{\"value\":\"black\"},\"line_dash\":[4,4],\"line_width\":{\"value\":2},\"plot\":null,\"render_mode\":\"css\",\"right_units\":\"screen\",\"top_units\":\"screen\"},\"id\":\"8a73075d-e445-49fb-ae21-9377d2d8752b\",\"type\":\"BoxAnnotation\"},{\"attributes\":{\"fill_alpha\":{\"value\":0.1},\"fill_color\":{\"value\":\"#1f77b4\"},\"line_alpha\":{\"value\":0.1},\"line_color\":{\"value\":\"#1f77b4\"},\"top\":{\"field\":\"flux\"},\"width\":{\"value\":0.9},\"x\":{\"field\":\"band\"}},\"id\":\"b3aeb5d6-bf4f-4f20-a85a-b5f8c539e03a\",\"type\":\"VBar\"},{\"attributes\":{\"callback\":null,\"data\":{\"band\":[\"1\",\"2\",\"3\",\"4\",\"5\",\"6\",\"7\",\"8\",\"9\",\"10\",\"11\"],\"flux\":{\"__ndarray__\":\"AAAAAyUF9r4AgsR29wDYPwC4H/DAANO/ANyul6YIsD+Ajh6/t+nfPwB0ImabwLM/ALE8WXvplz9gN3gVCPHBv4A0KnCyDcY/AKBF71TAjT8AcGzRXW2APw==\",\"dtype\":\"float64\",\"shape\":[11]}},\"selected\":{\"id\":\"35af7705-fc50-4533-9f72-85301b333d49\",\"type\":\"Selection\"},\"selection_policy\":{\"id\":\"fde98bdc-ad47-40ad-a996-7d5699f10284\",\"type\":\"UnionRenderers\"}},\"id\":\"19623197-9667-4ac8-9ae2-9a08f33b6da1\",\"type\":\"ColumnDataSource\"},{\"attributes\":{},\"id\":\"4a873ca1-6bc7-4269-ac82-7dbb366a7353\",\"type\":\"WheelZoomTool\"},{\"attributes\":{\"data_source\":{\"id\":\"b65274f4-35b8-456b-86da-b17defe33dde\",\"type\":\"ColumnDataSource\"},\"glyph\":{\"id\":\"5f2bde99-fd9e-4dc3-92b9-98bdbe2ed67e\",\"type\":\"VBar\"},\"hover_glyph\":null,\"muted_glyph\":null,\"nonselection_glyph\":{\"id\":\"3748e1ab-c537-4dee-b9fe-98209d055499\",\"type\":\"VBar\"},\"selection_glyph\":null,\"view\":{\"id\":\"b17aaffb-8a05-498e-aebe-75ac4258276a\",\"type\":\"CDSView\"}},\"id\":\"ff7be255-2d9e-46f4-9f52-a2cee1b79d7d\",\"type\":\"GlyphRenderer\"},{\"attributes\":{\"data_source\":{\"id\":\"19623197-9667-4ac8-9ae2-9a08f33b6da1\",\"type\":\"ColumnDataSource\"},\"glyph\":{\"id\":\"68b2b382-1a61-4fec-9bad-8f0566160e41\",\"type\":\"VBar\"},\"hover_glyph\":null,\"muted_glyph\":null,\"nonselection_glyph\":{\"id\":\"b3aeb5d6-bf4f-4f20-a85a-b5f8c539e03a\",\"type\":\"VBar\"},\"selection_glyph\":null,\"view\":{\"id\":\"5d6aa229-7f36-464f-95f3-9cffaa89529a\",\"type\":\"CDSView\"}},\"id\":\"c7a465d7-825a-4560-a102-a2ccd9b972e4\",\"type\":\"GlyphRenderer\"},{\"attributes\":{},\"id\":\"684bb003-fbd3-4227-bad6-1bb9297a185c\",\"type\":\"PanTool\"},{\"attributes\":{},\"id\":\"35af7705-fc50-4533-9f72-85301b333d49\",\"type\":\"Selection\"},{\"attributes\":{},\"id\":\"b83bdabb-b953-4df3-b086-93a666111160\",\"type\":\"BasicTicker\"},{\"attributes\":{},\"id\":\"7dbf0c0e-65bd-4ebb-9d3e-09f36e9c74a2\",\"type\":\"HelpTool\"},{\"attributes\":{\"fill_color\":{\"value\":\"#1f77b4\"},\"line_color\":{\"value\":\"#1f77b4\"},\"top\":{\"field\":\"flux\"},\"width\":{\"value\":0.9},\"x\":{\"field\":\"band\"}},\"id\":\"68b2b382-1a61-4fec-9bad-8f0566160e41\",\"type\":\"VBar\"},{\"attributes\":{\"overlay\":{\"id\":\"2f5112a4-604b-4748-805a-63c2c983a458\",\"type\":\"BoxAnnotation\"}},\"id\":\"890e566e-73c4-4954-bd0a-d51f157bbbc6\",\"type\":\"BoxZoomTool\"}],\"root_ids\":[\"ca10e702-b7c9-4dad-8d64-c6a02ccbc14e\"]},\"title\":\"Bokeh Application\",\"version\":\"0.12.16\"}};\n",
       "  var render_items = [{\"docid\":\"a97770ec-12cf-48ad-be1a-b922d0d540e9\",\"elementid\":\"51699d8d-e72d-4bc4-abe5-d9e3623a42c1\",\"modelid\":\"ca10e702-b7c9-4dad-8d64-c6a02ccbc14e\"}];\n",
       "  root.Bokeh.embed.embed_items_notebook(docs_json, render_items);\n",
       "\n",
       "  }\n",
       "  if (root.Bokeh !== undefined) {\n",
       "    embed_document(root);\n",
       "  } else {\n",
       "    var attempts = 0;\n",
       "    var timer = setInterval(function(root) {\n",
       "      if (root.Bokeh !== undefined) {\n",
       "        embed_document(root);\n",
       "        clearInterval(timer);\n",
       "      }\n",
       "      attempts++;\n",
       "      if (attempts > 100) {\n",
       "        console.log(\"Bokeh: ERROR: Unable to run BokehJS code because BokehJS library is missing\")\n",
       "        clearInterval(timer);\n",
       "      }\n",
       "    }, 10, root)\n",
       "  }\n",
       "})(window);"
      ],
      "application/vnd.bokehjs_exec.v0+json": ""
     },
     "metadata": {
      "application/vnd.bokehjs_exec.v0+json": {
       "id": "ca10e702-b7c9-4dad-8d64-c6a02ccbc14e"
      }
     },
     "output_type": "display_data"
    },
    {
     "data": {
      "text/markdown": [
       "*FIGURE.* Difference between CLIRAD and CRD in TOA, SFC and net atmosphere flux, in each spectral band."
      ],
      "text/plain": [
       "<IPython.core.display.Markdown object>"
      ]
     },
     "metadata": {},
     "output_type": "display_data"
    },
    {
     "data": {
      "text/html": [
       "<div>\n",
       "<style scoped>\n",
       "    .dataframe tbody tr th:only-of-type {\n",
       "        vertical-align: middle;\n",
       "    }\n",
       "\n",
       "    .dataframe tbody tr th {\n",
       "        vertical-align: top;\n",
       "    }\n",
       "\n",
       "    .dataframe thead th {\n",
       "        text-align: right;\n",
       "    }\n",
       "</style>\n",
       "<table border=\"1\" class=\"dataframe\">\n",
       "  <thead>\n",
       "    <tr style=\"text-align: right;\">\n",
       "      <th></th>\n",
       "      <th>OLR flux</th>\n",
       "      <th>SFC flux</th>\n",
       "      <th>ATM heating</th>\n",
       "    </tr>\n",
       "    <tr>\n",
       "      <th>Sum over bands</th>\n",
       "      <th></th>\n",
       "      <th></th>\n",
       "      <th></th>\n",
       "    </tr>\n",
       "  </thead>\n",
       "  <tbody>\n",
       "    <tr>\n",
       "      <th>old CLIRAD - CRD</th>\n",
       "      <td>0.14</td>\n",
       "      <td>2.01</td>\n",
       "      <td>-1.73</td>\n",
       "    </tr>\n",
       "    <tr>\n",
       "      <th>CLIRAD (single-run) - CRD</th>\n",
       "      <td>1.13</td>\n",
       "      <td>0.79</td>\n",
       "      <td>0.33</td>\n",
       "    </tr>\n",
       "    <tr>\n",
       "      <th>CRD</th>\n",
       "      <td>-290.39</td>\n",
       "      <td>308.14</td>\n",
       "      <td>-174.89</td>\n",
       "    </tr>\n",
       "  </tbody>\n",
       "</table>\n",
       "</div>"
      ],
      "text/plain": [
       "                           OLR flux  SFC flux  ATM heating\n",
       "Sum over bands                                            \n",
       "old CLIRAD - CRD               0.14      2.01        -1.73\n",
       "CLIRAD (single-run) - CRD      1.13      0.79         0.33\n",
       "CRD                         -290.39    308.14      -174.89"
      ]
     },
     "metadata": {},
     "output_type": "display_data"
    },
    {
     "data": {
      "text/markdown": [
       "*TABLE.* Difference between CLIRAD and CRD in TOA, SFC and net atmosphere flux, over all spectral bands. CRD's TOA, SFC and net atmosphere flux, over all spectral bands."
      ],
      "text/plain": [
       "<IPython.core.display.Markdown object>"
      ]
     },
     "metadata": {},
     "output_type": "display_data"
    },
    {
     "data": {
      "text/html": [
       "<a id=\"Cooling_rates._saw.\"></a>"
      ],
      "text/plain": [
       "<IPython.core.display.HTML object>"
      ]
     },
     "metadata": {},
     "output_type": "display_data"
    },
    {
     "data": {
      "text/markdown": [
       "# Cooling rates. saw."
      ],
      "text/plain": [
       "<IPython.core.display.Markdown object>"
      ]
     },
     "metadata": {},
     "output_type": "display_data"
    },
    {
     "data": {
      "text/html": [
       "\n",
       "<div class=\"bk-root\">\n",
       "    <div class=\"bk-plotdiv\" id=\"98239e86-01fd-4222-b2ef-d209571ad37a\"></div>\n",
       "</div>"
      ]
     },
     "metadata": {},
     "output_type": "display_data"
    },
    {
     "data": {
      "application/javascript": [
       "(function(root) {\n",
       "  function embed_document(root) {\n",
       "    \n",
       "  var docs_json = {\"c2ba77cf-0703-45f1-beb2-4b0693661161\":{\"roots\":{\"references\":[{\"attributes\":{\"callback\":null,\"data\":{\"x\":{\"__ndarray__\":\"dPEGK8OVQEDeoOdcKI48QFbHwpv6Wj5Ay6P+H0H1PkDQ4Pw1Pwc+QE/QQMz8iTtA2A4AykzZN0DdjedX4NEzQGtNrhl/gDBA2D3w2wNCLUCD8yO1LFEsQMSh3yrZ2SxAddHY/lW3LUCQJQyh8TwtQDsZ7GODoSpAi6Dn/2tIJ0DnDLMq6HUkQI7khOlE0SJADOiE4G6jIkCA/E90r7ojQD4p//OgKSZA0QfX6dGqJUCyytltEichQGghgfXIYRlAYiDp91xnE0B2wNHWtrQPQJ4m9qB2vgpAeJDQ8VfQBUDZ0VLI7iYCQFfZT3TydP8/LweR0IUK/T/QULeHxNj4P2vv6z6eL/Q/zgHEDC0f8T/QFWBxKcbuP44Jru1pXOw/gHqFfZV+5z+OfasQZCrhP6t1AyXK0t0/lna9be4v3T/c2Wqej6reP35gz5e/Ud4/nMqPj0zn3D8LaSXAL2PaPwxLIAIe8tI/ycIIktEE0T/QBmDBekPcP1FO88ASwOM/Iq2sIt+z6z9G6FH1eCvyPxuVEdtBb/U/iGRHMeCT9z8UPT1a/HH4P34cIRzqbvg/BVL+/E89+D8UZw90MO/3Pxe6cKnMffc/gpFKgkbl9j+HrQkEYjP2P3zN2LsygPU/XbOBIde49D8Mb12IkenzP3WIqqFOEvM/areay8ZI8j+L6oiWEKHxPzKOAUHPLvE/uT5D5rAN8T9sYOhno1DxP+7HZ16AqPE/jCnpRRNe8T/L5uQkGIfvP9VKN758h+o/8f1zKreS5T9uCZ6e1UPhP0M/OoB87NY/\",\"dtype\":\"float64\",\"shape\":[75]},\"y\":{\"__ndarray__\":\"GhExyth1ND/Sv8nbtpRIP2vylNV0PVE/aTum7souWD/At0SJ8fVgPw3Iuahxymc/MSNhhJWvcD/bTfBN02d3P2zb5nxnaoA/CD5h5MAGhz8NmeH1TyaQP+zrCsc9p5Y/LbKd76fGnz/bLW5ISEmmPww9YvTcQq8/JV2OstnstT8Er5Y7M8G+P0c+r3jqkcU/5h99k6ZBzj88bCIzFzjVP4enV8oyxN0//yH99nXg5D8qOpLLf0jtP5kqGJXUifQ/c9cS8kHP/D+/DpwzojQEQIEmwoanVwxA4lgXt9HgE0BSSZ2AJuIbQAMJih9jjiNA5q4l5INuK0AwTKYKRj0zQNv5fmq8/DpAaCJseHrtQkB/+zpwzoxKQM3MzMzMeFJAZmZmZmZqWEAAAAAAAFxeQM3MzMzMJmJAmpmZmZkfZUBmZmZmZhhoQDMzMzMzEWtAAAAAAAAKbkBmZmZmZoFwQM3MzMzM/XFAMzMzMzN6c0CamZmZmfZ0QAAAAAAAc3ZAZmZmZmbvd0DNzMzMzGt5QDMzMzMz6HpAmpmZmZlkfEAAAAAAAOF9QGZmZmZmXX9AZmZmZuZsgECamZmZGSuBQM3MzMxM6YFAAAAAAICngkAzMzMzs2WDQGZmZmbmI4RAmpmZmRnihEDNzMzMTKCFQAAAAACAXoZAMzMzM7Mch0BmZmZm5tqHQJqZmZkZmYhAzczMzExXiUAAAAAAgBWKQDMzMzOz04pAZmZmZuaRi0CamZmZGVCMQM3MzMxMDo1AAAAAAIDMjUAzMzMzs4qOQGZmZmbmSI9A\",\"dtype\":\"float64\",\"shape\":[75]}},\"selected\":{\"id\":\"4f38ec2d-340c-4c41-a40c-a77d9a23005a\",\"type\":\"Selection\"},\"selection_policy\":{\"id\":\"b8d69596-cdda-49c5-b8d3-4151b58ddee9\",\"type\":\"UnionRenderers\"}},\"id\":\"847fe8d4-1128-421d-b2b4-b10853617358\",\"type\":\"ColumnDataSource\"},{\"attributes\":{},\"id\":\"74147353-7fe4-4584-8926-099ddaa1ccde\",\"type\":\"BasicTicker\"},{\"attributes\":{\"label\":{\"value\":\"CRD\"},\"renderers\":[{\"id\":\"f6a12b76-01b3-478f-a809-5a8a97eae8ec\",\"type\":\"GlyphRenderer\"},{\"id\":\"b2164b6c-e850-4ad5-a966-0f0668e3c1e3\",\"type\":\"GlyphRenderer\"}]},\"id\":\"d862daba-fb17-4311-8781-7e0c25ac75ad\",\"type\":\"LegendItem\"},{\"attributes\":{\"callback\":null,\"data\":{\"x\":{\"__ndarray__\":\"dPEGK8OVQEDeoOdcKI48QFbHwpv6Wj5Ay6P+H0H1PkDQ4Pw1Pwc+QE/QQMz8iTtA2A4AykzZN0DdjedX4NEzQGtNrhl/gDBA2D3w2wNCLUCD8yO1LFEsQMSh3yrZ2SxAddHY/lW3LUCQJQyh8TwtQDsZ7GODoSpAi6Dn/2tIJ0DnDLMq6HUkQI7khOlE0SJADOiE4G6jIkCA/E90r7ojQD4p//OgKSZA0QfX6dGqJUCyytltEichQGghgfXIYRlAYiDp91xnE0B2wNHWtrQPQJ4m9qB2vgpAeJDQ8VfQBUDZ0VLI7iYCQFfZT3TydP8/LweR0IUK/T/QULeHxNj4P2vv6z6eL/Q/zgHEDC0f8T/QFWBxKcbuP44Jru1pXOw/gHqFfZV+5z+OfasQZCrhP6t1AyXK0t0/lna9be4v3T/c2Wqej6reP35gz5e/Ud4/nMqPj0zn3D8LaSXAL2PaPwxLIAIe8tI/ycIIktEE0T/QBmDBekPcP1FO88ASwOM/Iq2sIt+z6z9G6FH1eCvyPxuVEdtBb/U/iGRHMeCT9z8UPT1a/HH4P34cIRzqbvg/BVL+/E89+D8UZw90MO/3Pxe6cKnMffc/gpFKgkbl9j+HrQkEYjP2P3zN2LsygPU/XbOBIde49D8Mb12IkenzP3WIqqFOEvM/areay8ZI8j+L6oiWEKHxPzKOAUHPLvE/uT5D5rAN8T9sYOhno1DxP+7HZ16AqPE/jCnpRRNe8T/L5uQkGIfvP9VKN758h+o/8f1zKreS5T9uCZ6e1UPhP0M/OoB87NY/\",\"dtype\":\"float64\",\"shape\":[75]},\"y\":{\"__ndarray__\":\"GhExyth1ND/Sv8nbtpRIP2vylNV0PVE/aTum7souWD/At0SJ8fVgPw3Iuahxymc/MSNhhJWvcD/bTfBN02d3P2zb5nxnaoA/CD5h5MAGhz8NmeH1TyaQP+zrCsc9p5Y/LbKd76fGnz/bLW5ISEmmPww9YvTcQq8/JV2OstnstT8Er5Y7M8G+P0c+r3jqkcU/5h99k6ZBzj88bCIzFzjVP4enV8oyxN0//yH99nXg5D8qOpLLf0jtP5kqGJXUifQ/c9cS8kHP/D+/DpwzojQEQIEmwoanVwxA4lgXt9HgE0BSSZ2AJuIbQAMJih9jjiNA5q4l5INuK0AwTKYKRj0zQNv5fmq8/DpAaCJseHrtQkB/+zpwzoxKQM3MzMzMeFJAZmZmZmZqWEAAAAAAAFxeQM3MzMzMJmJAmpmZmZkfZUBmZmZmZhhoQDMzMzMzEWtAAAAAAAAKbkBmZmZmZoFwQM3MzMzM/XFAMzMzMzN6c0CamZmZmfZ0QAAAAAAAc3ZAZmZmZmbvd0DNzMzMzGt5QDMzMzMz6HpAmpmZmZlkfEAAAAAAAOF9QGZmZmZmXX9AZmZmZuZsgECamZmZGSuBQM3MzMxM6YFAAAAAAICngkAzMzMzs2WDQGZmZmbmI4RAmpmZmRnihEDNzMzMTKCFQAAAAACAXoZAMzMzM7Mch0BmZmZm5tqHQJqZmZkZmYhAzczMzExXiUAAAAAAgBWKQDMzMzOz04pAZmZmZuaRi0CamZmZGVCMQM3MzMxMDo1AAAAAAIDMjUAzMzMzs4qOQGZmZmbmSI9A\",\"dtype\":\"float64\",\"shape\":[75]}},\"selected\":{\"id\":\"993be5ec-fa11-41f5-8eb5-75465f850f06\",\"type\":\"Selection\"},\"selection_policy\":{\"id\":\"4a024570-411f-40b9-a7db-6f0abe30d728\",\"type\":\"UnionRenderers\"}},\"id\":\"8b15bbbf-9a64-4f83-a762-831037ce962b\",\"type\":\"ColumnDataSource\"},{\"attributes\":{\"data_source\":{\"id\":\"c9ca4780-031a-49bc-8e0f-3c6281a1e4f0\",\"type\":\"ColumnDataSource\"},\"glyph\":{\"id\":\"40eab35b-3443-48ec-a09a-b821e49bd65a\",\"type\":\"Circle\"},\"hover_glyph\":null,\"muted_glyph\":null,\"nonselection_glyph\":{\"id\":\"7d16ea15-f32e-4377-835c-0e3c39457964\",\"type\":\"Circle\"},\"selection_glyph\":null,\"view\":{\"id\":\"d75320a5-8a2d-4f02-857c-0c80e2c97cf6\",\"type\":\"CDSView\"}},\"id\":\"f6a12b76-01b3-478f-a809-5a8a97eae8ec\",\"type\":\"GlyphRenderer\"},{\"attributes\":{},\"id\":\"1bc7f137-6ccd-4077-8b7d-004631528ff8\",\"type\":\"ResetTool\"},{\"attributes\":{},\"id\":\"f3e62c29-eaba-45ae-926e-49c9ac06f236\",\"type\":\"SaveTool\"},{\"attributes\":{},\"id\":\"0e236ea4-6deb-4a1e-88ec-2988d43f3159\",\"type\":\"LogScale\"},{\"attributes\":{\"axis_label\":\"cooling rate [K/day]\",\"formatter\":{\"id\":\"4be8b556-ef78-4b0b-802b-a14e03e03464\",\"type\":\"BasicTickFormatter\"},\"plot\":{\"id\":\"59eb4147-cab9-44bd-b92a-266b5682c77d\",\"subtype\":\"Figure\",\"type\":\"Plot\"},\"ticker\":{\"id\":\"74147353-7fe4-4584-8926-099ddaa1ccde\",\"type\":\"BasicTicker\"}},\"id\":\"e1b65435-e89a-4daa-a41c-b63da4c75024\",\"type\":\"LinearAxis\"},{\"attributes\":{\"callback\":null,\"data\":{\"x\":{\"__ndarray__\":\"0CYBcvU5UkCik9zf2GVBQF1VoNfLZ0BAVLxhiVXTPUDD1Wu1wJM6QFJyB025jjdAU6Aw5+b/NECYe1uuDfgyQB6bYtVTbTFAPxYSAF1HMEA00pYVm9QuQLolHbMzgC1AntlwirGsLECv+G9SjE4rQJH6ZLBp0ShAsLZQyPd/JkDyjgyf2PwkQLgyNGsrJyRAA13QbJD6I0C8hy0ilI4kQOVTXCEgcSZAovOGvZSGJUBVc/ZmUOIgQOf/6GHAyRlAcE8fAOBSFEDRur1U//gPQGFD9ZbokghAQsqHuSqSA0C91ci3W0UBQCtRQfvz7/4/kh8pntyB+j9t1/n+4TX1P773MAUjFfI/RgzR+CI28T8hBW8WHK7uPzVKjJfU8uk/0FPt4/z65T/wVYqzMPDhPz7K9C5CXuE/8+hSn9hY4T/9PPCkR6rhP1XsIC599OA/66X1nBCX3z/YbRM56QjcPz4dkSQc/dM/S7Wb8Fq00T+/yQdmX0vcP7TrGf476eM/WqNPJoWO7D9qOH1bcwDzP2bw+R5DQ/Y/RLSuQOQp+D8+aif8yAz5P0Wv6eBKRfk/0i2+IN4R+T/ik8QNFZr4PyS5UD5j/Pc/yJ68zXRG9z/2CHPL54H2P59SOhwKtPU/npkP8dfg9D8NlmVcdQz0P80ugRvuOvM/byxiAHN18j9USVZie8nxP5l9lNXYSPE/OB+F0UYP8T8Y7dsUCTHxP3EBgTHPcPE/bfx15p8S8T8FT+xkGtTuP6mdG7rkxuk/pboqTkHX5D/CrN8qGYngP7R4ZaL+htU/\",\"dtype\":\"float64\",\"shape\":[75]},\"y\":{\"__ndarray__\":\"GhExyth1ND/Sv8nbtpRIP2vylNV0PVE/aTum7souWD/At0SJ8fVgPw3Iuahxymc/MSNhhJWvcD/bTfBN02d3P2zb5nxnaoA/CD5h5MAGhz8NmeH1TyaQP+zrCsc9p5Y/LbKd76fGnz/bLW5ISEmmPww9YvTcQq8/JV2OstnstT8Er5Y7M8G+P0c+r3jqkcU/5h99k6ZBzj88bCIzFzjVP4enV8oyxN0//yH99nXg5D8qOpLLf0jtP5kqGJXUifQ/c9cS8kHP/D+/DpwzojQEQIEmwoanVwxA4lgXt9HgE0BSSZ2AJuIbQAMJih9jjiNA5q4l5INuK0AwTKYKRj0zQNv5fmq8/DpAaCJseHrtQkB/+zpwzoxKQM3MzMzMeFJAZmZmZmZqWEAAAAAAAFxeQM3MzMzMJmJAmpmZmZkfZUBmZmZmZhhoQDMzMzMzEWtAAAAAAAAKbkBmZmZmZoFwQM3MzMzM/XFAMzMzMzN6c0CamZmZmfZ0QAAAAAAAc3ZAZmZmZmbvd0DNzMzMzGt5QDMzMzMz6HpAmpmZmZlkfEAAAAAAAOF9QGZmZmZmXX9AZmZmZuZsgECamZmZGSuBQM3MzMxM6YFAAAAAAICngkAzMzMzs2WDQGZmZmbmI4RAmpmZmRnihEDNzMzMTKCFQAAAAACAXoZAMzMzM7Mch0BmZmZm5tqHQJqZmZkZmYhAzczMzExXiUAAAAAAgBWKQDMzMzOz04pAZmZmZuaRi0CamZmZGVCMQM3MzMxMDo1AAAAAAIDMjUAzMzMzs4qOQGZmZmbmSI9A\",\"dtype\":\"float64\",\"shape\":[75]}},\"selected\":{\"id\":\"063525db-3b03-4038-98a0-6235453c45a1\",\"type\":\"Selection\"},\"selection_policy\":{\"id\":\"a75f733a-9037-4879-905f-e493d93d2d88\",\"type\":\"UnionRenderers\"}},\"id\":\"c9ca4780-031a-49bc-8e0f-3c6281a1e4f0\",\"type\":\"ColumnDataSource\"},{\"attributes\":{\"bottom_units\":\"screen\",\"fill_alpha\":{\"value\":0.5},\"fill_color\":{\"value\":\"lightgrey\"},\"left_units\":\"screen\",\"level\":\"overlay\",\"line_alpha\":{\"value\":1.0},\"line_color\":{\"value\":\"black\"},\"line_dash\":[4,4],\"line_width\":{\"value\":2},\"plot\":null,\"render_mode\":\"css\",\"right_units\":\"screen\",\"top_units\":\"screen\"},\"id\":\"c4006b7c-6053-4948-802d-2809fa7d3f41\",\"type\":\"BoxAnnotation\"},{\"attributes\":{\"line_alpha\":0.6,\"line_color\":\"#377eb8\",\"line_dash\":[6],\"line_width\":5,\"x\":{\"field\":\"x\"},\"y\":{\"field\":\"y\"}},\"id\":\"278b54ac-6e03-45ff-b754-88e2eb039006\",\"type\":\"Line\"},{\"attributes\":{},\"id\":\"8bf22edc-20b1-4176-a13e-6c4e9de05c5e\",\"type\":\"HelpTool\"},{\"attributes\":{\"overlay\":{\"id\":\"02d0a1e5-4455-4771-8c91-7d834423f055\",\"type\":\"BoxAnnotation\"}},\"id\":\"fd2534e2-bdde-4dc0-ba5c-0ea408d36226\",\"type\":\"BoxZoomTool\"},{\"attributes\":{},\"id\":\"814c0e98-75ca-4cb3-9fc3-c5ea00ebc95b\",\"type\":\"LinearScale\"},{\"attributes\":{\"axis_label\":\"pressure [mb]\",\"formatter\":{\"id\":\"1f445bde-fb9a-4c1d-bfef-ec1211b0dca1\",\"type\":\"BasicTickFormatter\"},\"plot\":{\"id\":\"59eb4147-cab9-44bd-b92a-266b5682c77d\",\"subtype\":\"Figure\",\"type\":\"Plot\"},\"ticker\":{\"id\":\"4e85e249-d884-4043-9a38-9f24cf9a4c86\",\"type\":\"BasicTicker\"}},\"id\":\"30ce4809-f46d-43ce-a384-6641e146827c\",\"type\":\"LinearAxis\"},{\"attributes\":{\"active_drag\":\"auto\",\"active_inspect\":\"auto\",\"active_scroll\":\"auto\",\"active_tap\":\"auto\",\"tools\":[{\"id\":\"e9276bda-a005-4740-bdc2-f862dc87d8c2\",\"type\":\"PanTool\"},{\"id\":\"1ce3b534-9be8-4038-b8bf-a62873919e8f\",\"type\":\"WheelZoomTool\"},{\"id\":\"fd2534e2-bdde-4dc0-ba5c-0ea408d36226\",\"type\":\"BoxZoomTool\"},{\"id\":\"f3e62c29-eaba-45ae-926e-49c9ac06f236\",\"type\":\"SaveTool\"},{\"id\":\"c83f7959-1055-4c52-afa2-2c3834f1201b\",\"type\":\"ResetTool\"},{\"id\":\"8bf22edc-20b1-4176-a13e-6c4e9de05c5e\",\"type\":\"HelpTool\"}]},\"id\":\"602eaab6-3f38-4df6-b037-3256acdb0bae\",\"type\":\"Toolbar\"},{\"attributes\":{\"items\":[{\"id\":\"ed575590-547f-4ba4-9e3a-54e4f9cae090\",\"type\":\"LegendItem\"},{\"id\":\"59773764-63af-481c-9e9f-3991a20bebc2\",\"type\":\"LegendItem\"}],\"label_text_font_size\":{\"value\":\"8pt\"},\"location\":\"top_center\",\"orientation\":\"horizontal\",\"plot\":{\"id\":\"a22facb1-0a6d-4d2b-9d2c-4274fcba0253\",\"subtype\":\"Figure\",\"type\":\"Plot\"}},\"id\":\"d41627bb-521a-42cc-82e3-0af499445f82\",\"type\":\"Legend\"},{\"attributes\":{\"line_alpha\":0.1,\"line_color\":\"#1f77b4\",\"line_dash\":[6],\"line_width\":5,\"x\":{\"field\":\"x\"},\"y\":{\"field\":\"y\"}},\"id\":\"2cd1b1cc-c795-42be-aac2-9212bb751221\",\"type\":\"Line\"},{\"attributes\":{\"source\":{\"id\":\"c9ca4780-031a-49bc-8e0f-3c6281a1e4f0\",\"type\":\"ColumnDataSource\"}},\"id\":\"d75320a5-8a2d-4f02-857c-0c80e2c97cf6\",\"type\":\"CDSView\"},{\"attributes\":{\"fill_alpha\":{\"value\":0.1},\"fill_color\":{\"value\":\"#1f77b4\"},\"line_alpha\":{\"value\":0.1},\"line_color\":{\"value\":\"#1f77b4\"},\"x\":{\"field\":\"x\"},\"y\":{\"field\":\"y\"}},\"id\":\"7d16ea15-f32e-4377-835c-0e3c39457964\",\"type\":\"Circle\"},{\"attributes\":{\"label\":{\"value\":\"CLIRAD (single-run)\"},\"renderers\":[{\"id\":\"5ace257f-3b80-4612-80b0-a87e62ec357d\",\"type\":\"GlyphRenderer\"}]},\"id\":\"ed575590-547f-4ba4-9e3a-54e4f9cae090\",\"type\":\"LegendItem\"},{\"attributes\":{\"callback\":null,\"end\":0.01,\"start\":1020},\"id\":\"7fa9e2e9-72dc-4910-96f7-6a51e27edc5a\",\"type\":\"Range1d\"},{\"attributes\":{\"axis_label\":\"pressure [mb]\",\"formatter\":{\"id\":\"1be88131-7813-4334-bc77-4b6e7c823670\",\"type\":\"LogTickFormatter\"},\"plot\":{\"id\":\"a22facb1-0a6d-4d2b-9d2c-4274fcba0253\",\"subtype\":\"Figure\",\"type\":\"Plot\"},\"ticker\":{\"id\":\"cc7a426a-a14c-4188-8649-1a3cf3f7b267\",\"type\":\"LogTicker\"}},\"id\":\"0f5b22a8-e0ed-4fb4-9ff7-fe77476f6178\",\"type\":\"LogAxis\"},{\"attributes\":{},\"id\":\"e9276bda-a005-4740-bdc2-f862dc87d8c2\",\"type\":\"PanTool\"},{\"attributes\":{\"above\":[{\"id\":\"d41627bb-521a-42cc-82e3-0af499445f82\",\"type\":\"Legend\"}],\"below\":[{\"id\":\"fd9e5062-9e93-4531-9f21-c12e3082e2ed\",\"type\":\"LinearAxis\"}],\"left\":[{\"id\":\"0f5b22a8-e0ed-4fb4-9ff7-fe77476f6178\",\"type\":\"LogAxis\"}],\"plot_width\":300,\"renderers\":[{\"id\":\"fd9e5062-9e93-4531-9f21-c12e3082e2ed\",\"type\":\"LinearAxis\"},{\"id\":\"dac9210f-8277-49a6-bbe0-0dbca2c4df88\",\"type\":\"Grid\"},{\"id\":\"0f5b22a8-e0ed-4fb4-9ff7-fe77476f6178\",\"type\":\"LogAxis\"},{\"id\":\"58011ac4-6d0c-4bb9-8e85-da60a4c754c0\",\"type\":\"Grid\"},{\"id\":\"c4006b7c-6053-4948-802d-2809fa7d3f41\",\"type\":\"BoxAnnotation\"},{\"id\":\"5ace257f-3b80-4612-80b0-a87e62ec357d\",\"type\":\"GlyphRenderer\"},{\"id\":\"eaa520fe-7159-4396-b76a-46e6ccfee15d\",\"type\":\"GlyphRenderer\"},{\"id\":\"51e8e8a8-ad17-493c-9851-0da0bcef15e7\",\"type\":\"GlyphRenderer\"},{\"id\":\"d41627bb-521a-42cc-82e3-0af499445f82\",\"type\":\"Legend\"}],\"title\":{\"id\":\"62a1ddae-870f-4119-8f46-45dda5a22af3\",\"type\":\"Title\"},\"toolbar\":{\"id\":\"d2ac7383-bcae-43fd-87be-1a08243ca8b9\",\"type\":\"Toolbar\"},\"toolbar_location\":null,\"x_range\":{\"id\":\"7437da7d-cb07-4eb6-aa18-bf679dad618d\",\"type\":\"Range1d\"},\"x_scale\":{\"id\":\"814c0e98-75ca-4cb3-9fc3-c5ea00ebc95b\",\"type\":\"LinearScale\"},\"y_range\":{\"id\":\"b283ee23-526a-4e41-a05b-d120b5e25d48\",\"type\":\"Range1d\"},\"y_scale\":{\"id\":\"0e236ea4-6deb-4a1e-88ec-2988d43f3159\",\"type\":\"LogScale\"}},\"id\":\"a22facb1-0a6d-4d2b-9d2c-4274fcba0253\",\"subtype\":\"Figure\",\"type\":\"Plot\"},{\"attributes\":{\"items\":[{\"id\":\"ce127a68-e3a8-4a63-913e-fa1617de4b55\",\"type\":\"LegendItem\"},{\"id\":\"d862daba-fb17-4311-8781-7e0c25ac75ad\",\"type\":\"LegendItem\"}],\"label_text_font_size\":{\"value\":\"8pt\"},\"location\":\"top_center\",\"orientation\":\"horizontal\",\"plot\":{\"id\":\"59eb4147-cab9-44bd-b92a-266b5682c77d\",\"subtype\":\"Figure\",\"type\":\"Plot\"}},\"id\":\"f29a0c5b-fef8-4d5e-8435-782f6b2865a1\",\"type\":\"Legend\"},{\"attributes\":{},\"id\":\"4e85e249-d884-4043-9a38-9f24cf9a4c86\",\"type\":\"BasicTicker\"},{\"attributes\":{},\"id\":\"d23e4196-eb54-4273-9ee1-4dd59b67718d\",\"type\":\"LinearScale\"},{\"attributes\":{\"data_source\":{\"id\":\"e9ec1b5f-415b-49c3-9a13-3a67a8f22e44\",\"type\":\"ColumnDataSource\"},\"glyph\":{\"id\":\"797ffdae-f644-44c7-89cd-df60f5c76185\",\"type\":\"Line\"},\"hover_glyph\":null,\"muted_glyph\":null,\"nonselection_glyph\":{\"id\":\"1c372b1f-a15a-4e4d-a2ef-99e98121ce93\",\"type\":\"Line\"},\"selection_glyph\":null,\"view\":{\"id\":\"feb5883a-4da7-40fd-aff1-dca06a722383\",\"type\":\"CDSView\"}},\"id\":\"b2164b6c-e850-4ad5-a966-0f0668e3c1e3\",\"type\":\"GlyphRenderer\"},{\"attributes\":{\"plot\":{\"id\":\"a22facb1-0a6d-4d2b-9d2c-4274fcba0253\",\"subtype\":\"Figure\",\"type\":\"Plot\"},\"ticker\":{\"id\":\"7451de86-b84e-4d63-80ea-1d4aa33820d3\",\"type\":\"BasicTicker\"}},\"id\":\"dac9210f-8277-49a6-bbe0-0dbca2c4df88\",\"type\":\"Grid\"},{\"attributes\":{\"bottom_units\":\"screen\",\"fill_alpha\":{\"value\":0.5},\"fill_color\":{\"value\":\"lightgrey\"},\"left_units\":\"screen\",\"level\":\"overlay\",\"line_alpha\":{\"value\":1.0},\"line_color\":{\"value\":\"black\"},\"line_dash\":[4,4],\"line_width\":{\"value\":2},\"plot\":null,\"render_mode\":\"css\",\"right_units\":\"screen\",\"top_units\":\"screen\"},\"id\":\"02d0a1e5-4455-4771-8c91-7d834423f055\",\"type\":\"BoxAnnotation\"},{\"attributes\":{},\"id\":\"7c637530-232b-47c6-82ce-e488fab10787\",\"type\":\"PanTool\"},{\"attributes\":{\"callback\":null,\"end\":0.01,\"start\":1020},\"id\":\"b283ee23-526a-4e41-a05b-d120b5e25d48\",\"type\":\"Range1d\"},{\"attributes\":{\"line_alpha\":0.1,\"line_color\":\"#1f77b4\",\"line_dash\":[6],\"line_width\":5,\"x\":{\"field\":\"x\"},\"y\":{\"field\":\"y\"}},\"id\":\"be1c1587-3ec4-46ba-8138-15a17508febc\",\"type\":\"Line\"},{\"attributes\":{\"label\":{\"value\":\"CRD\"},\"renderers\":[{\"id\":\"eaa520fe-7159-4396-b76a-46e6ccfee15d\",\"type\":\"GlyphRenderer\"},{\"id\":\"51e8e8a8-ad17-493c-9851-0da0bcef15e7\",\"type\":\"GlyphRenderer\"}]},\"id\":\"59773764-63af-481c-9e9f-3991a20bebc2\",\"type\":\"LegendItem\"},{\"attributes\":{\"dimension\":1,\"plot\":{\"id\":\"59eb4147-cab9-44bd-b92a-266b5682c77d\",\"subtype\":\"Figure\",\"type\":\"Plot\"},\"ticker\":{\"id\":\"4e85e249-d884-4043-9a38-9f24cf9a4c86\",\"type\":\"BasicTicker\"}},\"id\":\"e2f392ae-cd08-496c-bb94-323f2cfd1c43\",\"type\":\"Grid\"},{\"attributes\":{\"dimension\":1,\"plot\":{\"id\":\"a22facb1-0a6d-4d2b-9d2c-4274fcba0253\",\"subtype\":\"Figure\",\"type\":\"Plot\"},\"ticker\":{\"id\":\"cc7a426a-a14c-4188-8649-1a3cf3f7b267\",\"type\":\"LogTicker\"}},\"id\":\"58011ac4-6d0c-4bb9-8e85-da60a4c754c0\",\"type\":\"Grid\"},{\"attributes\":{\"callback\":null,\"data\":{\"x\":{\"__ndarray__\":\"0CYBcvU5UkCik9zf2GVBQF1VoNfLZ0BAVLxhiVXTPUDD1Wu1wJM6QFJyB025jjdAU6Aw5+b/NECYe1uuDfgyQB6bYtVTbTFAPxYSAF1HMEA00pYVm9QuQLolHbMzgC1AntlwirGsLECv+G9SjE4rQJH6ZLBp0ShAsLZQyPd/JkDyjgyf2PwkQLgyNGsrJyRAA13QbJD6I0C8hy0ilI4kQOVTXCEgcSZAovOGvZSGJUBVc/ZmUOIgQOf/6GHAyRlAcE8fAOBSFEDRur1U//gPQGFD9ZbokghAQsqHuSqSA0C91ci3W0UBQCtRQfvz7/4/kh8pntyB+j9t1/n+4TX1P773MAUjFfI/RgzR+CI28T8hBW8WHK7uPzVKjJfU8uk/0FPt4/z65T/wVYqzMPDhPz7K9C5CXuE/8+hSn9hY4T/9PPCkR6rhP1XsIC599OA/66X1nBCX3z/YbRM56QjcPz4dkSQc/dM/S7Wb8Fq00T+/yQdmX0vcP7TrGf476eM/WqNPJoWO7D9qOH1bcwDzP2bw+R5DQ/Y/RLSuQOQp+D8+aif8yAz5P0Wv6eBKRfk/0i2+IN4R+T/ik8QNFZr4PyS5UD5j/Pc/yJ68zXRG9z/2CHPL54H2P59SOhwKtPU/npkP8dfg9D8NlmVcdQz0P80ugRvuOvM/byxiAHN18j9USVZie8nxP5l9lNXYSPE/OB+F0UYP8T8Y7dsUCTHxP3EBgTHPcPE/bfx15p8S8T8FT+xkGtTuP6mdG7rkxuk/pboqTkHX5D/CrN8qGYngP7R4ZaL+htU/\",\"dtype\":\"float64\",\"shape\":[75]},\"y\":{\"__ndarray__\":\"GhExyth1ND/Sv8nbtpRIP2vylNV0PVE/aTum7souWD/At0SJ8fVgPw3Iuahxymc/MSNhhJWvcD/bTfBN02d3P2zb5nxnaoA/CD5h5MAGhz8NmeH1TyaQP+zrCsc9p5Y/LbKd76fGnz/bLW5ISEmmPww9YvTcQq8/JV2OstnstT8Er5Y7M8G+P0c+r3jqkcU/5h99k6ZBzj88bCIzFzjVP4enV8oyxN0//yH99nXg5D8qOpLLf0jtP5kqGJXUifQ/c9cS8kHP/D+/DpwzojQEQIEmwoanVwxA4lgXt9HgE0BSSZ2AJuIbQAMJih9jjiNA5q4l5INuK0AwTKYKRj0zQNv5fmq8/DpAaCJseHrtQkB/+zpwzoxKQM3MzMzMeFJAZmZmZmZqWEAAAAAAAFxeQM3MzMzMJmJAmpmZmZkfZUBmZmZmZhhoQDMzMzMzEWtAAAAAAAAKbkBmZmZmZoFwQM3MzMzM/XFAMzMzMzN6c0CamZmZmfZ0QAAAAAAAc3ZAZmZmZmbvd0DNzMzMzGt5QDMzMzMz6HpAmpmZmZlkfEAAAAAAAOF9QGZmZmZmXX9AZmZmZuZsgECamZmZGSuBQM3MzMxM6YFAAAAAAICngkAzMzMzs2WDQGZmZmbmI4RAmpmZmRnihEDNzMzMTKCFQAAAAACAXoZAMzMzM7Mch0BmZmZm5tqHQJqZmZkZmYhAzczMzExXiUAAAAAAgBWKQDMzMzOz04pAZmZmZuaRi0CamZmZGVCMQM3MzMxMDo1AAAAAAIDMjUAzMzMzs4qOQGZmZmbmSI9A\",\"dtype\":\"float64\",\"shape\":[75]}},\"selected\":{\"id\":\"452581c1-76db-4501-8e80-b9fe3d5b9740\",\"type\":\"Selection\"},\"selection_policy\":{\"id\":\"086c3282-5145-436d-baeb-4d38c4169c3a\",\"type\":\"UnionRenderers\"}},\"id\":\"e9ec1b5f-415b-49c3-9a13-3a67a8f22e44\",\"type\":\"ColumnDataSource\"},{\"attributes\":{\"overlay\":{\"id\":\"c4006b7c-6053-4948-802d-2809fa7d3f41\",\"type\":\"BoxAnnotation\"}},\"id\":\"9d2ad563-f912-4b53-be8b-8d8480c71d60\",\"type\":\"BoxZoomTool\"},{\"attributes\":{\"callback\":null,\"end\":1.5925520929577701,\"start\":0.25278412604523004},\"id\":\"4f019b7e-909f-4490-be5d-f4f915729444\",\"type\":\"Range1d\"},{\"attributes\":{\"fill_alpha\":{\"value\":0.7},\"fill_color\":{\"value\":\"#4daf4a\"},\"line_alpha\":{\"value\":0.7},\"line_color\":{\"value\":\"#4daf4a\"},\"x\":{\"field\":\"x\"},\"y\":{\"field\":\"y\"}},\"id\":\"40eab35b-3443-48ec-a09a-b821e49bd65a\",\"type\":\"Circle\"},{\"attributes\":{},\"id\":\"cd8da3ed-df08-4b79-8551-3b720cfc039a\",\"type\":\"HelpTool\"},{\"attributes\":{\"axis_label\":\"cooling rate [K/day]\",\"formatter\":{\"id\":\"b0cefabf-10e3-4135-b7df-96a8f70549b5\",\"type\":\"BasicTickFormatter\"},\"plot\":{\"id\":\"a22facb1-0a6d-4d2b-9d2c-4274fcba0253\",\"subtype\":\"Figure\",\"type\":\"Plot\"},\"ticker\":{\"id\":\"7451de86-b84e-4d63-80ea-1d4aa33820d3\",\"type\":\"BasicTicker\"}},\"id\":\"fd9e5062-9e93-4531-9f21-c12e3082e2ed\",\"type\":\"LinearAxis\"},{\"attributes\":{\"data_source\":{\"id\":\"847fe8d4-1128-421d-b2b4-b10853617358\",\"type\":\"ColumnDataSource\"},\"glyph\":{\"id\":\"71c7778b-cb6a-4c8d-ab77-05b6bcc2a891\",\"type\":\"Line\"},\"hover_glyph\":null,\"muted_glyph\":null,\"nonselection_glyph\":{\"id\":\"2cd1b1cc-c795-42be-aac2-9212bb751221\",\"type\":\"Line\"},\"selection_glyph\":null,\"view\":{\"id\":\"0706edd1-f0ff-4af7-8f2d-669422f7616b\",\"type\":\"CDSView\"}},\"id\":\"89a8cf37-9222-4a17-b687-5bbf9bbe49a5\",\"type\":\"GlyphRenderer\"},{\"attributes\":{\"callback\":null,\"end\":16.436989944828248,\"start\":0.29782337493475003},\"id\":\"7437da7d-cb07-4eb6-aa18-bf679dad618d\",\"type\":\"Range1d\"},{\"attributes\":{},\"id\":\"1ce3b534-9be8-4038-b8bf-a62873919e8f\",\"type\":\"WheelZoomTool\"},{\"attributes\":{},\"id\":\"c8a0a64c-7709-45de-89dc-efdf1731fb6c\",\"type\":\"SaveTool\"},{\"attributes\":{\"label\":{\"value\":\"CLIRAD (single-run)\"},\"renderers\":[{\"id\":\"89a8cf37-9222-4a17-b687-5bbf9bbe49a5\",\"type\":\"GlyphRenderer\"}]},\"id\":\"ce127a68-e3a8-4a63-913e-fa1617de4b55\",\"type\":\"LegendItem\"},{\"attributes\":{\"active_drag\":\"auto\",\"active_inspect\":\"auto\",\"active_scroll\":\"auto\",\"active_tap\":\"auto\",\"tools\":[{\"id\":\"7c637530-232b-47c6-82ce-e488fab10787\",\"type\":\"PanTool\"},{\"id\":\"6d5b13b4-85a2-47b4-8f1b-3b3a95a43251\",\"type\":\"WheelZoomTool\"},{\"id\":\"9d2ad563-f912-4b53-be8b-8d8480c71d60\",\"type\":\"BoxZoomTool\"},{\"id\":\"c8a0a64c-7709-45de-89dc-efdf1731fb6c\",\"type\":\"SaveTool\"},{\"id\":\"1bc7f137-6ccd-4077-8b7d-004631528ff8\",\"type\":\"ResetTool\"},{\"id\":\"cd8da3ed-df08-4b79-8551-3b720cfc039a\",\"type\":\"HelpTool\"}]},\"id\":\"d2ac7383-bcae-43fd-87be-1a08243ca8b9\",\"type\":\"Toolbar\"},{\"attributes\":{\"num_minor_ticks\":10},\"id\":\"cc7a426a-a14c-4188-8649-1a3cf3f7b267\",\"type\":\"LogTicker\"},{\"attributes\":{\"source\":{\"id\":\"56b6c713-eb82-4c9a-aa65-3ae999e41264\",\"type\":\"ColumnDataSource\"}},\"id\":\"a8e71d34-fd8e-4786-a451-6d6eb17edb31\",\"type\":\"CDSView\"},{\"attributes\":{},\"id\":\"644cbd93-dcf3-4ccd-a914-035754f18a5b\",\"type\":\"LinearScale\"},{\"attributes\":{\"above\":[{\"id\":\"f29a0c5b-fef8-4d5e-8435-782f6b2865a1\",\"type\":\"Legend\"}],\"below\":[{\"id\":\"e1b65435-e89a-4daa-a41c-b63da4c75024\",\"type\":\"LinearAxis\"}],\"left\":[{\"id\":\"30ce4809-f46d-43ce-a384-6641e146827c\",\"type\":\"LinearAxis\"}],\"plot_width\":300,\"renderers\":[{\"id\":\"e1b65435-e89a-4daa-a41c-b63da4c75024\",\"type\":\"LinearAxis\"},{\"id\":\"5eaf9dac-6754-492d-8528-c9a4b0800299\",\"type\":\"Grid\"},{\"id\":\"30ce4809-f46d-43ce-a384-6641e146827c\",\"type\":\"LinearAxis\"},{\"id\":\"e2f392ae-cd08-496c-bb94-323f2cfd1c43\",\"type\":\"Grid\"},{\"id\":\"02d0a1e5-4455-4771-8c91-7d834423f055\",\"type\":\"BoxAnnotation\"},{\"id\":\"89a8cf37-9222-4a17-b687-5bbf9bbe49a5\",\"type\":\"GlyphRenderer\"},{\"id\":\"f6a12b76-01b3-478f-a809-5a8a97eae8ec\",\"type\":\"GlyphRenderer\"},{\"id\":\"b2164b6c-e850-4ad5-a966-0f0668e3c1e3\",\"type\":\"GlyphRenderer\"},{\"id\":\"f29a0c5b-fef8-4d5e-8435-782f6b2865a1\",\"type\":\"Legend\"}],\"title\":{\"id\":\"87d84150-23fb-496d-bcab-37f4f1729617\",\"type\":\"Title\"},\"toolbar\":{\"id\":\"602eaab6-3f38-4df6-b037-3256acdb0bae\",\"type\":\"Toolbar\"},\"toolbar_location\":null,\"x_range\":{\"id\":\"4f019b7e-909f-4490-be5d-f4f915729444\",\"type\":\"Range1d\"},\"x_scale\":{\"id\":\"644cbd93-dcf3-4ccd-a914-035754f18a5b\",\"type\":\"LinearScale\"},\"y_range\":{\"id\":\"7fa9e2e9-72dc-4910-96f7-6a51e27edc5a\",\"type\":\"Range1d\"},\"y_scale\":{\"id\":\"d23e4196-eb54-4273-9ee1-4dd59b67718d\",\"type\":\"LinearScale\"}},\"id\":\"59eb4147-cab9-44bd-b92a-266b5682c77d\",\"subtype\":\"Figure\",\"type\":\"Plot\"},{\"attributes\":{},\"id\":\"7451de86-b84e-4d63-80ea-1d4aa33820d3\",\"type\":\"BasicTicker\"},{\"attributes\":{},\"id\":\"6d5b13b4-85a2-47b4-8f1b-3b3a95a43251\",\"type\":\"WheelZoomTool\"},{\"attributes\":{\"line_alpha\":0.6,\"line_color\":\"#377eb8\",\"line_dash\":[6],\"line_width\":5,\"x\":{\"field\":\"x\"},\"y\":{\"field\":\"y\"}},\"id\":\"71c7778b-cb6a-4c8d-ab77-05b6bcc2a891\",\"type\":\"Line\"},{\"attributes\":{\"source\":{\"id\":\"e9ec1b5f-415b-49c3-9a13-3a67a8f22e44\",\"type\":\"ColumnDataSource\"}},\"id\":\"feb5883a-4da7-40fd-aff1-dca06a722383\",\"type\":\"CDSView\"},{\"attributes\":{\"line_color\":\"#4daf4a\",\"line_width\":1.5,\"x\":{\"field\":\"x\"},\"y\":{\"field\":\"y\"}},\"id\":\"797ffdae-f644-44c7-89cd-df60f5c76185\",\"type\":\"Line\"},{\"attributes\":{\"plot\":{\"id\":\"59eb4147-cab9-44bd-b92a-266b5682c77d\",\"subtype\":\"Figure\",\"type\":\"Plot\"},\"ticker\":{\"id\":\"74147353-7fe4-4584-8926-099ddaa1ccde\",\"type\":\"BasicTicker\"}},\"id\":\"5eaf9dac-6754-492d-8528-c9a4b0800299\",\"type\":\"Grid\"},{\"attributes\":{},\"id\":\"c83f7959-1055-4c52-afa2-2c3834f1201b\",\"type\":\"ResetTool\"},{\"attributes\":{\"line_alpha\":0.1,\"line_color\":\"#1f77b4\",\"line_width\":1.5,\"x\":{\"field\":\"x\"},\"y\":{\"field\":\"y\"}},\"id\":\"1c372b1f-a15a-4e4d-a2ef-99e98121ce93\",\"type\":\"Line\"},{\"attributes\":{\"source\":{\"id\":\"847fe8d4-1128-421d-b2b4-b10853617358\",\"type\":\"ColumnDataSource\"}},\"id\":\"0706edd1-f0ff-4af7-8f2d-669422f7616b\",\"type\":\"CDSView\"},{\"attributes\":{},\"id\":\"b0cefabf-10e3-4135-b7df-96a8f70549b5\",\"type\":\"BasicTickFormatter\"},{\"attributes\":{\"tools\":[{\"id\":\"e9276bda-a005-4740-bdc2-f862dc87d8c2\",\"type\":\"PanTool\"},{\"id\":\"1ce3b534-9be8-4038-b8bf-a62873919e8f\",\"type\":\"WheelZoomTool\"},{\"id\":\"fd2534e2-bdde-4dc0-ba5c-0ea408d36226\",\"type\":\"BoxZoomTool\"},{\"id\":\"f3e62c29-eaba-45ae-926e-49c9ac06f236\",\"type\":\"SaveTool\"},{\"id\":\"c83f7959-1055-4c52-afa2-2c3834f1201b\",\"type\":\"ResetTool\"},{\"id\":\"8bf22edc-20b1-4176-a13e-6c4e9de05c5e\",\"type\":\"HelpTool\"},{\"id\":\"7c637530-232b-47c6-82ce-e488fab10787\",\"type\":\"PanTool\"},{\"id\":\"6d5b13b4-85a2-47b4-8f1b-3b3a95a43251\",\"type\":\"WheelZoomTool\"},{\"id\":\"9d2ad563-f912-4b53-be8b-8d8480c71d60\",\"type\":\"BoxZoomTool\"},{\"id\":\"c8a0a64c-7709-45de-89dc-efdf1731fb6c\",\"type\":\"SaveTool\"},{\"id\":\"1bc7f137-6ccd-4077-8b7d-004631528ff8\",\"type\":\"ResetTool\"},{\"id\":\"cd8da3ed-df08-4b79-8551-3b720cfc039a\",\"type\":\"HelpTool\"},{\"id\":\"d276368e-9123-4c6b-a67d-359f6b935628\",\"type\":\"PanTool\"},{\"id\":\"7b4f26d0-c38a-4ea2-bdd6-8b2f37a8f7b6\",\"type\":\"WheelZoomTool\"},{\"id\":\"1358fbe0-9d80-4e2c-aa1c-b0c2f1d79aef\",\"type\":\"BoxZoomTool\"},{\"id\":\"03e7cbae-5eb7-47e4-9bbe-a0690b8b5cf5\",\"type\":\"SaveTool\"},{\"id\":\"9228744b-39de-4115-b8d8-5229e218b8d1\",\"type\":\"ResetTool\"},{\"id\":\"d9fe7931-1c11-40a4-b5b0-f28775ad53f9\",\"type\":\"HelpTool\"}]},\"id\":\"ce73f30d-ecbd-4b31-bf85-248bf222de60\",\"type\":\"ProxyToolbar\"},{\"attributes\":{\"callback\":null,\"end\":0.01,\"start\":1020},\"id\":\"b02dbfe0-1d7e-4ce5-8acf-18f1b6b48966\",\"type\":\"Range1d\"},{\"attributes\":{},\"id\":\"7e50206c-4ad5-462e-8628-eddd7a830752\",\"type\":\"Selection\"},{\"attributes\":{\"plot\":null,\"text\":\"\"},\"id\":\"48f876a8-6cef-45a4-84af-b6c2c0963271\",\"type\":\"Title\"},{\"attributes\":{\"label\":{\"value\":\"CLIRAD (single-run) - CRD\"},\"renderers\":[{\"id\":\"ddc098bf-b9f5-4914-92d0-747acc1416b4\",\"type\":\"GlyphRenderer\"},{\"id\":\"d706d9bd-190e-4e34-bfa4-c98a8efd4c35\",\"type\":\"GlyphRenderer\"}]},\"id\":\"891ba144-49ad-4fbf-80ff-68de610651df\",\"type\":\"LegendItem\"},{\"attributes\":{\"children\":[{\"id\":\"59eb4147-cab9-44bd-b92a-266b5682c77d\",\"subtype\":\"Figure\",\"type\":\"Plot\"},{\"id\":\"a22facb1-0a6d-4d2b-9d2c-4274fcba0253\",\"subtype\":\"Figure\",\"type\":\"Plot\"},{\"id\":\"81415242-6350-43f6-ba6b-cec358bdc684\",\"subtype\":\"Figure\",\"type\":\"Plot\"}]},\"id\":\"4b72201e-6896-4c2d-8040-b26214b8d8bf\",\"type\":\"Row\"},{\"attributes\":{},\"id\":\"8c8e7869-35a3-4639-ad98-acee14c01929\",\"type\":\"Selection\"},{\"attributes\":{\"plot\":null,\"text\":\"\"},\"id\":\"62a1ddae-870f-4119-8f46-45dda5a22af3\",\"type\":\"Title\"},{\"attributes\":{\"callback\":null,\"data\":{\"x\":{\"__ndarray__\":\"LVz7uCfeQ8ChGUaLJfYYwCMb75vopAPAb3fOabke8j9lWIgE9JsLQOXvyvkb2g9APnR7Fi/LBkCmSIIxVTrrPyu2iXaXmu2/L3WfIbFl+r+C9ZYDcxv0v8J+sAdRy9S/UH1/Rkeq4D8IzsLpVObuP4jqcTibAe0/eTvd8oYO2T+OQTCLDt7Qv5ji9BpoXuW/V0+3xBhy5b94Z7G7lXzav/6pSlfL38G/zBgKKJYesj/I1tW4gTDBP4Gg9xnb/bm/6OHFBmFwzb/Jlv56HxKhv/EZB1BwXNE/tDFGwmnx0T+dgz8RYjK8P0oF0SHPn6A/1zw/k0lFxD8Gy+tFFBfNP2i9183Z08A/N3gKDez1dr+ErhDxWg1oP7z6DbGqTLM/FGuCmYk5qD8ZDNtblLmYvzx7mOPoprO/Rm2hQwsHtr9zgNat/qeyv3TBkyPWuay/lNouayB+pb/vTOCOl1uavx4jDSfir5C/H1Be0ivxhb9YuwufkpI/v2KxTpOelHS/zMZedMBUm7+XBGrFTJ+qv1BpC30ogKq/qPfp7IHAor8ApUU9lFmjv/JYEpkYzKq/kHn7d8SRqr/cmaU2k1ylvxjD/zelpZ+/nlGD3JJLmL/E21bacaGTv/6RwjCw64m/2h/zxmcAhL/NgBME6nGBv9orU+u8T4S/oIG6YxpWhr8lZK/mZTWEv+Zn75KUCXq/gNkHHrReOb9kVHMMU5p/P9Y9Y3OW2Is/nkfL3Nfckj+u+BL/t1+WP0aldYMAE5g/U2koibtulz9Klct3jleXPw5pTN3dV5Y/\",\"dtype\":\"float64\",\"shape\":[75]},\"y\":{\"__ndarray__\":\"GhExyth1ND/Sv8nbtpRIP2vylNV0PVE/aTum7souWD/At0SJ8fVgPw3Iuahxymc/MSNhhJWvcD/bTfBN02d3P2zb5nxnaoA/CD5h5MAGhz8NmeH1TyaQP+zrCsc9p5Y/LbKd76fGnz/bLW5ISEmmPww9YvTcQq8/JV2OstnstT8Er5Y7M8G+P0c+r3jqkcU/5h99k6ZBzj88bCIzFzjVP4enV8oyxN0//yH99nXg5D8qOpLLf0jtP5kqGJXUifQ/c9cS8kHP/D+/DpwzojQEQIEmwoanVwxA4lgXt9HgE0BSSZ2AJuIbQAMJih9jjiNA5q4l5INuK0AwTKYKRj0zQNv5fmq8/DpAaCJseHrtQkB/+zpwzoxKQM3MzMzMeFJAZmZmZmZqWEAAAAAAAFxeQM3MzMzMJmJAmpmZmZkfZUBmZmZmZhhoQDMzMzMzEWtAAAAAAAAKbkBmZmZmZoFwQM3MzMzM/XFAMzMzMzN6c0CamZmZmfZ0QAAAAAAAc3ZAZmZmZmbvd0DNzMzMzGt5QDMzMzMz6HpAmpmZmZlkfEAAAAAAAOF9QGZmZmZmXX9AZmZmZuZsgECamZmZGSuBQM3MzMxM6YFAAAAAAICngkAzMzMzs2WDQGZmZmbmI4RAmpmZmRnihEDNzMzMTKCFQAAAAACAXoZAMzMzM7Mch0BmZmZm5tqHQJqZmZkZmYhAzczMzExXiUAAAAAAgBWKQDMzMzOz04pAZmZmZuaRi0CamZmZGVCMQM3MzMxMDo1AAAAAAIDMjUAzMzMzs4qOQGZmZmbmSI9A\",\"dtype\":\"float64\",\"shape\":[75]}},\"selected\":{\"id\":\"8c8e7869-35a3-4639-ad98-acee14c01929\",\"type\":\"Selection\"},\"selection_policy\":{\"id\":\"aab05e44-edb2-443d-b68b-3abb853fe6c1\",\"type\":\"UnionRenderers\"}},\"id\":\"72241a87-f078-4a59-b052-6273f3f6693d\",\"type\":\"ColumnDataSource\"},{\"attributes\":{},\"id\":\"4be8b556-ef78-4b0b-802b-a14e03e03464\",\"type\":\"BasicTickFormatter\"},{\"attributes\":{\"plot\":null,\"text\":\"\"},\"id\":\"87d84150-23fb-496d-bcab-37f4f1729617\",\"type\":\"Title\"},{\"attributes\":{\"fill_alpha\":{\"value\":0.7},\"fill_color\":{\"value\":\"#984ea3\"},\"line_alpha\":{\"value\":0.7},\"line_color\":{\"value\":\"#984ea3\"},\"x\":{\"field\":\"x\"},\"y\":{\"field\":\"y\"}},\"id\":\"65e06cfb-34b8-4dea-ad08-e5fc60f2658c\",\"type\":\"Circle\"},{\"attributes\":{},\"id\":\"e3440791-1cb1-4da2-b463-1b56e8a3d7a2\",\"type\":\"UnionRenderers\"},{\"attributes\":{},\"id\":\"ea38aebd-017a-4db5-b7b7-476cd7447266\",\"type\":\"Selection\"},{\"attributes\":{\"children\":[{\"id\":\"4b72201e-6896-4c2d-8040-b26214b8d8bf\",\"type\":\"Row\"}]},\"id\":\"3fc72bbf-1237-4427-baf0-87901c647839\",\"type\":\"Column\"},{\"attributes\":{},\"id\":\"452581c1-76db-4501-8e80-b9fe3d5b9740\",\"type\":\"Selection\"},{\"attributes\":{},\"id\":\"4b85166e-f8fb-4d8b-a69a-cefda29c4461\",\"type\":\"UnionRenderers\"},{\"attributes\":{},\"id\":\"a75f733a-9037-4879-905f-e493d93d2d88\",\"type\":\"UnionRenderers\"},{\"attributes\":{},\"id\":\"aab05e44-edb2-443d-b68b-3abb853fe6c1\",\"type\":\"UnionRenderers\"},{\"attributes\":{},\"id\":\"9c28d23c-0bdd-45fb-a52c-d8f4480d41f9\",\"type\":\"BasicTickFormatter\"},{\"attributes\":{\"toolbar\":{\"id\":\"ce73f30d-ecbd-4b31-bf85-248bf222de60\",\"type\":\"ProxyToolbar\"},\"toolbar_location\":\"above\"},\"id\":\"5584e283-5533-413b-9be1-27248027c667\",\"type\":\"ToolbarBox\"},{\"attributes\":{},\"id\":\"063525db-3b03-4038-98a0-6235453c45a1\",\"type\":\"Selection\"},{\"attributes\":{\"ticker\":null},\"id\":\"0f75a20e-4d6a-496b-8d6e-f48eb624a3b8\",\"type\":\"LogTickFormatter\"},{\"attributes\":{},\"id\":\"4f38ec2d-340c-4c41-a40c-a77d9a23005a\",\"type\":\"Selection\"},{\"attributes\":{},\"id\":\"086c3282-5145-436d-baeb-4d38c4169c3a\",\"type\":\"UnionRenderers\"},{\"attributes\":{},\"id\":\"1de121b5-a0d1-446b-8921-848dc3458872\",\"type\":\"Selection\"},{\"attributes\":{},\"id\":\"b8d69596-cdda-49c5-b8d3-4151b58ddee9\",\"type\":\"UnionRenderers\"},{\"attributes\":{},\"id\":\"53b0a8f8-068a-4a7d-b76e-3b328e07d9b1\",\"type\":\"UnionRenderers\"},{\"attributes\":{},\"id\":\"1f445bde-fb9a-4c1d-bfef-ec1211b0dca1\",\"type\":\"BasicTickFormatter\"},{\"attributes\":{\"children\":[{\"id\":\"5584e283-5533-413b-9be1-27248027c667\",\"type\":\"ToolbarBox\"},{\"id\":\"3fc72bbf-1237-4427-baf0-87901c647839\",\"type\":\"Column\"}]},\"id\":\"559a316a-a9b0-4e5c-bd75-61f5ed47553a\",\"type\":\"Column\"},{\"attributes\":{\"ticker\":null},\"id\":\"1be88131-7813-4334-bc77-4b6e7c823670\",\"type\":\"LogTickFormatter\"},{\"attributes\":{\"items\":[{\"id\":\"891ba144-49ad-4fbf-80ff-68de610651df\",\"type\":\"LegendItem\"}],\"label_text_font_size\":{\"value\":\"8pt\"},\"location\":\"top_center\",\"orientation\":\"horizontal\",\"plot\":{\"id\":\"81415242-6350-43f6-ba6b-cec358bdc684\",\"subtype\":\"Figure\",\"type\":\"Plot\"}},\"id\":\"3e5a7408-469f-44f6-9542-d19b6845e725\",\"type\":\"Legend\"},{\"attributes\":{\"above\":[{\"id\":\"3e5a7408-469f-44f6-9542-d19b6845e725\",\"type\":\"Legend\"}],\"below\":[{\"id\":\"1d917f70-a122-4e3e-b656-bfe1456cea17\",\"type\":\"LinearAxis\"}],\"left\":[{\"id\":\"8501ec66-37d7-4212-ab86-3c7dbbd0090d\",\"type\":\"LogAxis\"}],\"plot_width\":300,\"renderers\":[{\"id\":\"1d917f70-a122-4e3e-b656-bfe1456cea17\",\"type\":\"LinearAxis\"},{\"id\":\"d035cd1d-b74e-4dee-a1a9-0255aed5cd50\",\"type\":\"Grid\"},{\"id\":\"8501ec66-37d7-4212-ab86-3c7dbbd0090d\",\"type\":\"LogAxis\"},{\"id\":\"bdd2814c-657e-4c33-a7e4-74f04e6062e8\",\"type\":\"Grid\"},{\"id\":\"12aeb980-4441-438f-b1b8-14e08061bf23\",\"type\":\"BoxAnnotation\"},{\"id\":\"ddc098bf-b9f5-4914-92d0-747acc1416b4\",\"type\":\"GlyphRenderer\"},{\"id\":\"d706d9bd-190e-4e34-bfa4-c98a8efd4c35\",\"type\":\"GlyphRenderer\"},{\"id\":\"3e5a7408-469f-44f6-9542-d19b6845e725\",\"type\":\"Legend\"}],\"title\":{\"id\":\"48f876a8-6cef-45a4-84af-b6c2c0963271\",\"type\":\"Title\"},\"toolbar\":{\"id\":\"8caa814f-4b55-476e-a7e3-2390a6c2e94a\",\"type\":\"Toolbar\"},\"toolbar_location\":null,\"x_range\":{\"id\":\"53bb98b0-ab99-44a5-8248-12c6019f1a87\",\"type\":\"Range1d\"},\"x_scale\":{\"id\":\"2ae013f1-23f7-427c-92aa-7fe0b9cc9149\",\"type\":\"LinearScale\"},\"y_range\":{\"id\":\"b02dbfe0-1d7e-4ce5-8acf-18f1b6b48966\",\"type\":\"Range1d\"},\"y_scale\":{\"id\":\"50a41381-8833-43be-ad9e-15328c0fac60\",\"type\":\"LogScale\"}},\"id\":\"81415242-6350-43f6-ba6b-cec358bdc684\",\"subtype\":\"Figure\",\"type\":\"Plot\"},{\"attributes\":{\"overlay\":{\"id\":\"12aeb980-4441-438f-b1b8-14e08061bf23\",\"type\":\"BoxAnnotation\"}},\"id\":\"1358fbe0-9d80-4e2c-aa1c-b0c2f1d79aef\",\"type\":\"BoxZoomTool\"},{\"attributes\":{},\"id\":\"50a41381-8833-43be-ad9e-15328c0fac60\",\"type\":\"LogScale\"},{\"attributes\":{\"dimension\":1,\"plot\":{\"id\":\"81415242-6350-43f6-ba6b-cec358bdc684\",\"subtype\":\"Figure\",\"type\":\"Plot\"},\"ticker\":{\"id\":\"4fd31b55-dc46-4c47-8263-d7c8d6b1778a\",\"type\":\"LogTicker\"}},\"id\":\"bdd2814c-657e-4c33-a7e4-74f04e6062e8\",\"type\":\"Grid\"},{\"attributes\":{\"callback\":null,\"end\":0.9917710995134403,\"start\":-1.6759815666374394},\"id\":\"53bb98b0-ab99-44a5-8248-12c6019f1a87\",\"type\":\"Range1d\"},{\"attributes\":{},\"id\":\"d276368e-9123-4c6b-a67d-359f6b935628\",\"type\":\"PanTool\"},{\"attributes\":{\"active_drag\":\"auto\",\"active_inspect\":\"auto\",\"active_scroll\":\"auto\",\"active_tap\":\"auto\",\"tools\":[{\"id\":\"d276368e-9123-4c6b-a67d-359f6b935628\",\"type\":\"PanTool\"},{\"id\":\"7b4f26d0-c38a-4ea2-bdd6-8b2f37a8f7b6\",\"type\":\"WheelZoomTool\"},{\"id\":\"1358fbe0-9d80-4e2c-aa1c-b0c2f1d79aef\",\"type\":\"BoxZoomTool\"},{\"id\":\"03e7cbae-5eb7-47e4-9bbe-a0690b8b5cf5\",\"type\":\"SaveTool\"},{\"id\":\"9228744b-39de-4115-b8d8-5229e218b8d1\",\"type\":\"ResetTool\"},{\"id\":\"d9fe7931-1c11-40a4-b5b0-f28775ad53f9\",\"type\":\"HelpTool\"}]},\"id\":\"8caa814f-4b55-476e-a7e3-2390a6c2e94a\",\"type\":\"Toolbar\"},{\"attributes\":{\"axis_label\":\"pressure [mb]\",\"formatter\":{\"id\":\"0f75a20e-4d6a-496b-8d6e-f48eb624a3b8\",\"type\":\"LogTickFormatter\"},\"plot\":{\"id\":\"81415242-6350-43f6-ba6b-cec358bdc684\",\"subtype\":\"Figure\",\"type\":\"Plot\"},\"ticker\":{\"id\":\"4fd31b55-dc46-4c47-8263-d7c8d6b1778a\",\"type\":\"LogTicker\"}},\"id\":\"8501ec66-37d7-4212-ab86-3c7dbbd0090d\",\"type\":\"LogAxis\"},{\"attributes\":{\"axis_label\":\"cooling rate [K/day]\",\"formatter\":{\"id\":\"9c28d23c-0bdd-45fb-a52c-d8f4480d41f9\",\"type\":\"BasicTickFormatter\"},\"plot\":{\"id\":\"81415242-6350-43f6-ba6b-cec358bdc684\",\"subtype\":\"Figure\",\"type\":\"Plot\"},\"ticker\":{\"id\":\"b8fd3d3a-81ce-4d66-8df3-5ba5a08a5ef2\",\"type\":\"BasicTicker\"}},\"id\":\"1d917f70-a122-4e3e-b656-bfe1456cea17\",\"type\":\"LinearAxis\"},{\"attributes\":{\"source\":{\"id\":\"4d20057a-f6a2-4025-bf4c-a3fcfc7855aa\",\"type\":\"ColumnDataSource\"}},\"id\":\"b2bcb550-785f-446e-8033-9a8c8d93ad10\",\"type\":\"CDSView\"},{\"attributes\":{\"line_alpha\":0.1,\"line_color\":\"#1f77b4\",\"line_width\":1.5,\"x\":{\"field\":\"x\"},\"y\":{\"field\":\"y\"}},\"id\":\"951bf8c4-8d46-47fb-af34-088926e86736\",\"type\":\"Line\"},{\"attributes\":{\"fill_alpha\":{\"value\":0.1},\"fill_color\":{\"value\":\"#1f77b4\"},\"line_alpha\":{\"value\":0.1},\"line_color\":{\"value\":\"#1f77b4\"},\"x\":{\"field\":\"x\"},\"y\":{\"field\":\"y\"}},\"id\":\"70027c03-fed1-48ba-b099-22016e6e9936\",\"type\":\"Circle\"},{\"attributes\":{\"callback\":null,\"data\":{\"x\":{\"__ndarray__\":\"LVz7uCfeQ8ChGUaLJfYYwCMb75vopAPAb3fOabke8j9lWIgE9JsLQOXvyvkb2g9APnR7Fi/LBkCmSIIxVTrrPyu2iXaXmu2/L3WfIbFl+r+C9ZYDcxv0v8J+sAdRy9S/UH1/Rkeq4D8IzsLpVObuP4jqcTibAe0/eTvd8oYO2T+OQTCLDt7Qv5ji9BpoXuW/V0+3xBhy5b94Z7G7lXzav/6pSlfL38G/zBgKKJYesj/I1tW4gTDBP4Gg9xnb/bm/6OHFBmFwzb/Jlv56HxKhv/EZB1BwXNE/tDFGwmnx0T+dgz8RYjK8P0oF0SHPn6A/1zw/k0lFxD8Gy+tFFBfNP2i9183Z08A/N3gKDez1dr+ErhDxWg1oP7z6DbGqTLM/FGuCmYk5qD8ZDNtblLmYvzx7mOPoprO/Rm2hQwsHtr9zgNat/qeyv3TBkyPWuay/lNouayB+pb/vTOCOl1uavx4jDSfir5C/H1Be0ivxhb9YuwufkpI/v2KxTpOelHS/zMZedMBUm7+XBGrFTJ+qv1BpC30ogKq/qPfp7IHAor8ApUU9lFmjv/JYEpkYzKq/kHn7d8SRqr/cmaU2k1ylvxjD/zelpZ+/nlGD3JJLmL/E21bacaGTv/6RwjCw64m/2h/zxmcAhL/NgBME6nGBv9orU+u8T4S/oIG6YxpWhr8lZK/mZTWEv+Zn75KUCXq/gNkHHrReOb9kVHMMU5p/P9Y9Y3OW2Is/nkfL3Nfckj+u+BL/t1+WP0aldYMAE5g/U2koibtulz9Klct3jleXPw5pTN3dV5Y/\",\"dtype\":\"float64\",\"shape\":[75]},\"y\":{\"__ndarray__\":\"GhExyth1ND/Sv8nbtpRIP2vylNV0PVE/aTum7souWD/At0SJ8fVgPw3Iuahxymc/MSNhhJWvcD/bTfBN02d3P2zb5nxnaoA/CD5h5MAGhz8NmeH1TyaQP+zrCsc9p5Y/LbKd76fGnz/bLW5ISEmmPww9YvTcQq8/JV2OstnstT8Er5Y7M8G+P0c+r3jqkcU/5h99k6ZBzj88bCIzFzjVP4enV8oyxN0//yH99nXg5D8qOpLLf0jtP5kqGJXUifQ/c9cS8kHP/D+/DpwzojQEQIEmwoanVwxA4lgXt9HgE0BSSZ2AJuIbQAMJih9jjiNA5q4l5INuK0AwTKYKRj0zQNv5fmq8/DpAaCJseHrtQkB/+zpwzoxKQM3MzMzMeFJAZmZmZmZqWEAAAAAAAFxeQM3MzMzMJmJAmpmZmZkfZUBmZmZmZhhoQDMzMzMzEWtAAAAAAAAKbkBmZmZmZoFwQM3MzMzM/XFAMzMzMzN6c0CamZmZmfZ0QAAAAAAAc3ZAZmZmZmbvd0DNzMzMzGt5QDMzMzMz6HpAmpmZmZlkfEAAAAAAAOF9QGZmZmZmXX9AZmZmZuZsgECamZmZGSuBQM3MzMxM6YFAAAAAAICngkAzMzMzs2WDQGZmZmbmI4RAmpmZmRnihEDNzMzMTKCFQAAAAACAXoZAMzMzM7Mch0BmZmZm5tqHQJqZmZkZmYhAzczMzExXiUAAAAAAgBWKQDMzMzOz04pAZmZmZuaRi0CamZmZGVCMQM3MzMxMDo1AAAAAAIDMjUAzMzMzs4qOQGZmZmbmSI9A\",\"dtype\":\"float64\",\"shape\":[75]}},\"selected\":{\"id\":\"7e50206c-4ad5-462e-8628-eddd7a830752\",\"type\":\"Selection\"},\"selection_policy\":{\"id\":\"53b0a8f8-068a-4a7d-b76e-3b328e07d9b1\",\"type\":\"UnionRenderers\"}},\"id\":\"4d20057a-f6a2-4025-bf4c-a3fcfc7855aa\",\"type\":\"ColumnDataSource\"},{\"attributes\":{\"source\":{\"id\":\"72241a87-f078-4a59-b052-6273f3f6693d\",\"type\":\"ColumnDataSource\"}},\"id\":\"4ff751f1-803b-4784-9aef-22e035bef943\",\"type\":\"CDSView\"},{\"attributes\":{\"bottom_units\":\"screen\",\"fill_alpha\":{\"value\":0.5},\"fill_color\":{\"value\":\"lightgrey\"},\"left_units\":\"screen\",\"level\":\"overlay\",\"line_alpha\":{\"value\":1.0},\"line_color\":{\"value\":\"black\"},\"line_dash\":[4,4],\"line_width\":{\"value\":2},\"plot\":null,\"render_mode\":\"css\",\"right_units\":\"screen\",\"top_units\":\"screen\"},\"id\":\"12aeb980-4441-438f-b1b8-14e08061bf23\",\"type\":\"BoxAnnotation\"},{\"attributes\":{\"data_source\":{\"id\":\"4d20057a-f6a2-4025-bf4c-a3fcfc7855aa\",\"type\":\"ColumnDataSource\"},\"glyph\":{\"id\":\"f128c6af-9386-4633-9019-78e386adc577\",\"type\":\"Line\"},\"hover_glyph\":null,\"muted_glyph\":null,\"nonselection_glyph\":{\"id\":\"951bf8c4-8d46-47fb-af34-088926e86736\",\"type\":\"Line\"},\"selection_glyph\":null,\"view\":{\"id\":\"b2bcb550-785f-446e-8033-9a8c8d93ad10\",\"type\":\"CDSView\"}},\"id\":\"d706d9bd-190e-4e34-bfa4-c98a8efd4c35\",\"type\":\"GlyphRenderer\"},{\"attributes\":{\"plot\":{\"id\":\"81415242-6350-43f6-ba6b-cec358bdc684\",\"subtype\":\"Figure\",\"type\":\"Plot\"},\"ticker\":{\"id\":\"b8fd3d3a-81ce-4d66-8df3-5ba5a08a5ef2\",\"type\":\"BasicTicker\"}},\"id\":\"d035cd1d-b74e-4dee-a1a9-0255aed5cd50\",\"type\":\"Grid\"},{\"attributes\":{},\"id\":\"7b4f26d0-c38a-4ea2-bdd6-8b2f37a8f7b6\",\"type\":\"WheelZoomTool\"},{\"attributes\":{},\"id\":\"03e7cbae-5eb7-47e4-9bbe-a0690b8b5cf5\",\"type\":\"SaveTool\"},{\"attributes\":{},\"id\":\"d9fe7931-1c11-40a4-b5b0-f28775ad53f9\",\"type\":\"HelpTool\"},{\"attributes\":{},\"id\":\"b8fd3d3a-81ce-4d66-8df3-5ba5a08a5ef2\",\"type\":\"BasicTicker\"},{\"attributes\":{},\"id\":\"9228744b-39de-4115-b8d8-5229e218b8d1\",\"type\":\"ResetTool\"},{\"attributes\":{},\"id\":\"2ae013f1-23f7-427c-92aa-7fe0b9cc9149\",\"type\":\"LinearScale\"},{\"attributes\":{},\"id\":\"993be5ec-fa11-41f5-8eb5-75465f850f06\",\"type\":\"Selection\"},{\"attributes\":{\"data_source\":{\"id\":\"72241a87-f078-4a59-b052-6273f3f6693d\",\"type\":\"ColumnDataSource\"},\"glyph\":{\"id\":\"65e06cfb-34b8-4dea-ad08-e5fc60f2658c\",\"type\":\"Circle\"},\"hover_glyph\":null,\"muted_glyph\":null,\"nonselection_glyph\":{\"id\":\"70027c03-fed1-48ba-b099-22016e6e9936\",\"type\":\"Circle\"},\"selection_glyph\":null,\"view\":{\"id\":\"4ff751f1-803b-4784-9aef-22e035bef943\",\"type\":\"CDSView\"}},\"id\":\"ddc098bf-b9f5-4914-92d0-747acc1416b4\",\"type\":\"GlyphRenderer\"},{\"attributes\":{},\"id\":\"4a024570-411f-40b9-a7db-6f0abe30d728\",\"type\":\"UnionRenderers\"},{\"attributes\":{\"line_alpha\":0.8,\"line_color\":\"#984ea3\",\"line_width\":1.5,\"x\":{\"field\":\"x\"},\"y\":{\"field\":\"y\"}},\"id\":\"f128c6af-9386-4633-9019-78e386adc577\",\"type\":\"Line\"},{\"attributes\":{\"num_minor_ticks\":10},\"id\":\"4fd31b55-dc46-4c47-8263-d7c8d6b1778a\",\"type\":\"LogTicker\"},{\"attributes\":{\"callback\":null,\"data\":{\"x\":{\"__ndarray__\":\"0CYBcvU5UkCik9zf2GVBQF1VoNfLZ0BAVLxhiVXTPUDD1Wu1wJM6QFJyB025jjdAU6Aw5+b/NECYe1uuDfgyQB6bYtVTbTFAPxYSAF1HMEA00pYVm9QuQLolHbMzgC1AntlwirGsLECv+G9SjE4rQJH6ZLBp0ShAsLZQyPd/JkDyjgyf2PwkQLgyNGsrJyRAA13QbJD6I0C8hy0ilI4kQOVTXCEgcSZAovOGvZSGJUBVc/ZmUOIgQOf/6GHAyRlAcE8fAOBSFEDRur1U//gPQGFD9ZbokghAQsqHuSqSA0C91ci3W0UBQCtRQfvz7/4/kh8pntyB+j9t1/n+4TX1P773MAUjFfI/RgzR+CI28T8hBW8WHK7uPzVKjJfU8uk/0FPt4/z65T/wVYqzMPDhPz7K9C5CXuE/8+hSn9hY4T/9PPCkR6rhP1XsIC599OA/66X1nBCX3z/YbRM56QjcPz4dkSQc/dM/S7Wb8Fq00T+/yQdmX0vcP7TrGf476eM/WqNPJoWO7D9qOH1bcwDzP2bw+R5DQ/Y/RLSuQOQp+D8+aif8yAz5P0Wv6eBKRfk/0i2+IN4R+T/ik8QNFZr4PyS5UD5j/Pc/yJ68zXRG9z/2CHPL54H2P59SOhwKtPU/npkP8dfg9D8NlmVcdQz0P80ugRvuOvM/byxiAHN18j9USVZie8nxP5l9lNXYSPE/OB+F0UYP8T8Y7dsUCTHxP3EBgTHPcPE/bfx15p8S8T8FT+xkGtTuP6mdG7rkxuk/pboqTkHX5D/CrN8qGYngP7R4ZaL+htU/\",\"dtype\":\"float64\",\"shape\":[75]},\"y\":{\"__ndarray__\":\"GhExyth1ND/Sv8nbtpRIP2vylNV0PVE/aTum7souWD/At0SJ8fVgPw3Iuahxymc/MSNhhJWvcD/bTfBN02d3P2zb5nxnaoA/CD5h5MAGhz8NmeH1TyaQP+zrCsc9p5Y/LbKd76fGnz/bLW5ISEmmPww9YvTcQq8/JV2OstnstT8Er5Y7M8G+P0c+r3jqkcU/5h99k6ZBzj88bCIzFzjVP4enV8oyxN0//yH99nXg5D8qOpLLf0jtP5kqGJXUifQ/c9cS8kHP/D+/DpwzojQEQIEmwoanVwxA4lgXt9HgE0BSSZ2AJuIbQAMJih9jjiNA5q4l5INuK0AwTKYKRj0zQNv5fmq8/DpAaCJseHrtQkB/+zpwzoxKQM3MzMzMeFJAZmZmZmZqWEAAAAAAAFxeQM3MzMzMJmJAmpmZmZkfZUBmZmZmZhhoQDMzMzMzEWtAAAAAAAAKbkBmZmZmZoFwQM3MzMzM/XFAMzMzMzN6c0CamZmZmfZ0QAAAAAAAc3ZAZmZmZmbvd0DNzMzMzGt5QDMzMzMz6HpAmpmZmZlkfEAAAAAAAOF9QGZmZmZmXX9AZmZmZuZsgECamZmZGSuBQM3MzMxM6YFAAAAAAICngkAzMzMzs2WDQGZmZmbmI4RAmpmZmRnihEDNzMzMTKCFQAAAAACAXoZAMzMzM7Mch0BmZmZm5tqHQJqZmZkZmYhAzczMzExXiUAAAAAAgBWKQDMzMzOz04pAZmZmZuaRi0CamZmZGVCMQM3MzMxMDo1AAAAAAIDMjUAzMzMzs4qOQGZmZmbmSI9A\",\"dtype\":\"float64\",\"shape\":[75]}},\"selected\":{\"id\":\"ea38aebd-017a-4db5-b7b7-476cd7447266\",\"type\":\"Selection\"},\"selection_policy\":{\"id\":\"4b85166e-f8fb-4d8b-a69a-cefda29c4461\",\"type\":\"UnionRenderers\"}},\"id\":\"e2c60fdb-9a33-4c00-9d46-6313eefe07b5\",\"type\":\"ColumnDataSource\"},{\"attributes\":{\"fill_alpha\":{\"value\":0.7},\"fill_color\":{\"value\":\"#4daf4a\"},\"line_alpha\":{\"value\":0.7},\"line_color\":{\"value\":\"#4daf4a\"},\"x\":{\"field\":\"x\"},\"y\":{\"field\":\"y\"}},\"id\":\"d3028073-5be1-4172-a0a5-83e841f73213\",\"type\":\"Circle\"},{\"attributes\":{\"data_source\":{\"id\":\"56b6c713-eb82-4c9a-aa65-3ae999e41264\",\"type\":\"ColumnDataSource\"},\"glyph\":{\"id\":\"ec897bea-970b-47e4-b79f-74ad14c6da73\",\"type\":\"Line\"},\"hover_glyph\":null,\"muted_glyph\":null,\"nonselection_glyph\":{\"id\":\"a2026356-e852-4831-9f21-f19802c6db2c\",\"type\":\"Line\"},\"selection_glyph\":null,\"view\":{\"id\":\"a8e71d34-fd8e-4786-a451-6d6eb17edb31\",\"type\":\"CDSView\"}},\"id\":\"51e8e8a8-ad17-493c-9851-0da0bcef15e7\",\"type\":\"GlyphRenderer\"},{\"attributes\":{\"data_source\":{\"id\":\"8b15bbbf-9a64-4f83-a762-831037ce962b\",\"type\":\"ColumnDataSource\"},\"glyph\":{\"id\":\"278b54ac-6e03-45ff-b754-88e2eb039006\",\"type\":\"Line\"},\"hover_glyph\":null,\"muted_glyph\":null,\"nonselection_glyph\":{\"id\":\"be1c1587-3ec4-46ba-8138-15a17508febc\",\"type\":\"Line\"},\"selection_glyph\":null,\"view\":{\"id\":\"b4f0c9e7-128e-457e-8cac-f85016c141f4\",\"type\":\"CDSView\"}},\"id\":\"5ace257f-3b80-4612-80b0-a87e62ec357d\",\"type\":\"GlyphRenderer\"},{\"attributes\":{\"source\":{\"id\":\"e2c60fdb-9a33-4c00-9d46-6313eefe07b5\",\"type\":\"ColumnDataSource\"}},\"id\":\"17593b34-367a-4786-9d9f-9a36cb0d0ece\",\"type\":\"CDSView\"},{\"attributes\":{\"line_color\":\"#4daf4a\",\"line_width\":1.5,\"x\":{\"field\":\"x\"},\"y\":{\"field\":\"y\"}},\"id\":\"ec897bea-970b-47e4-b79f-74ad14c6da73\",\"type\":\"Line\"},{\"attributes\":{\"source\":{\"id\":\"8b15bbbf-9a64-4f83-a762-831037ce962b\",\"type\":\"ColumnDataSource\"}},\"id\":\"b4f0c9e7-128e-457e-8cac-f85016c141f4\",\"type\":\"CDSView\"},{\"attributes\":{\"data_source\":{\"id\":\"e2c60fdb-9a33-4c00-9d46-6313eefe07b5\",\"type\":\"ColumnDataSource\"},\"glyph\":{\"id\":\"d3028073-5be1-4172-a0a5-83e841f73213\",\"type\":\"Circle\"},\"hover_glyph\":null,\"muted_glyph\":null,\"nonselection_glyph\":{\"id\":\"e88ecac3-15fd-4749-b980-f4b77a68ff6b\",\"type\":\"Circle\"},\"selection_glyph\":null,\"view\":{\"id\":\"17593b34-367a-4786-9d9f-9a36cb0d0ece\",\"type\":\"CDSView\"}},\"id\":\"eaa520fe-7159-4396-b76a-46e6ccfee15d\",\"type\":\"GlyphRenderer\"},{\"attributes\":{\"fill_alpha\":{\"value\":0.1},\"fill_color\":{\"value\":\"#1f77b4\"},\"line_alpha\":{\"value\":0.1},\"line_color\":{\"value\":\"#1f77b4\"},\"x\":{\"field\":\"x\"},\"y\":{\"field\":\"y\"}},\"id\":\"e88ecac3-15fd-4749-b980-f4b77a68ff6b\",\"type\":\"Circle\"},{\"attributes\":{\"line_alpha\":0.1,\"line_color\":\"#1f77b4\",\"line_width\":1.5,\"x\":{\"field\":\"x\"},\"y\":{\"field\":\"y\"}},\"id\":\"a2026356-e852-4831-9f21-f19802c6db2c\",\"type\":\"Line\"},{\"attributes\":{\"callback\":null,\"data\":{\"x\":{\"__ndarray__\":\"0CYBcvU5UkCik9zf2GVBQF1VoNfLZ0BAVLxhiVXTPUDD1Wu1wJM6QFJyB025jjdAU6Aw5+b/NECYe1uuDfgyQB6bYtVTbTFAPxYSAF1HMEA00pYVm9QuQLolHbMzgC1AntlwirGsLECv+G9SjE4rQJH6ZLBp0ShAsLZQyPd/JkDyjgyf2PwkQLgyNGsrJyRAA13QbJD6I0C8hy0ilI4kQOVTXCEgcSZAovOGvZSGJUBVc/ZmUOIgQOf/6GHAyRlAcE8fAOBSFEDRur1U//gPQGFD9ZbokghAQsqHuSqSA0C91ci3W0UBQCtRQfvz7/4/kh8pntyB+j9t1/n+4TX1P773MAUjFfI/RgzR+CI28T8hBW8WHK7uPzVKjJfU8uk/0FPt4/z65T/wVYqzMPDhPz7K9C5CXuE/8+hSn9hY4T/9PPCkR6rhP1XsIC599OA/66X1nBCX3z/YbRM56QjcPz4dkSQc/dM/S7Wb8Fq00T+/yQdmX0vcP7TrGf476eM/WqNPJoWO7D9qOH1bcwDzP2bw+R5DQ/Y/RLSuQOQp+D8+aif8yAz5P0Wv6eBKRfk/0i2+IN4R+T/ik8QNFZr4PyS5UD5j/Pc/yJ68zXRG9z/2CHPL54H2P59SOhwKtPU/npkP8dfg9D8NlmVcdQz0P80ugRvuOvM/byxiAHN18j9USVZie8nxP5l9lNXYSPE/OB+F0UYP8T8Y7dsUCTHxP3EBgTHPcPE/bfx15p8S8T8FT+xkGtTuP6mdG7rkxuk/pboqTkHX5D/CrN8qGYngP7R4ZaL+htU/\",\"dtype\":\"float64\",\"shape\":[75]},\"y\":{\"__ndarray__\":\"GhExyth1ND/Sv8nbtpRIP2vylNV0PVE/aTum7souWD/At0SJ8fVgPw3Iuahxymc/MSNhhJWvcD/bTfBN02d3P2zb5nxnaoA/CD5h5MAGhz8NmeH1TyaQP+zrCsc9p5Y/LbKd76fGnz/bLW5ISEmmPww9YvTcQq8/JV2OstnstT8Er5Y7M8G+P0c+r3jqkcU/5h99k6ZBzj88bCIzFzjVP4enV8oyxN0//yH99nXg5D8qOpLLf0jtP5kqGJXUifQ/c9cS8kHP/D+/DpwzojQEQIEmwoanVwxA4lgXt9HgE0BSSZ2AJuIbQAMJih9jjiNA5q4l5INuK0AwTKYKRj0zQNv5fmq8/DpAaCJseHrtQkB/+zpwzoxKQM3MzMzMeFJAZmZmZmZqWEAAAAAAAFxeQM3MzMzMJmJAmpmZmZkfZUBmZmZmZhhoQDMzMzMzEWtAAAAAAAAKbkBmZmZmZoFwQM3MzMzM/XFAMzMzMzN6c0CamZmZmfZ0QAAAAAAAc3ZAZmZmZmbvd0DNzMzMzGt5QDMzMzMz6HpAmpmZmZlkfEAAAAAAAOF9QGZmZmZmXX9AZmZmZuZsgECamZmZGSuBQM3MzMxM6YFAAAAAAICngkAzMzMzs2WDQGZmZmbmI4RAmpmZmRnihEDNzMzMTKCFQAAAAACAXoZAMzMzM7Mch0BmZmZm5tqHQJqZmZkZmYhAzczMzExXiUAAAAAAgBWKQDMzMzOz04pAZmZmZuaRi0CamZmZGVCMQM3MzMxMDo1AAAAAAIDMjUAzMzMzs4qOQGZmZmbmSI9A\",\"dtype\":\"float64\",\"shape\":[75]}},\"selected\":{\"id\":\"1de121b5-a0d1-446b-8921-848dc3458872\",\"type\":\"Selection\"},\"selection_policy\":{\"id\":\"e3440791-1cb1-4da2-b463-1b56e8a3d7a2\",\"type\":\"UnionRenderers\"}},\"id\":\"56b6c713-eb82-4c9a-aa65-3ae999e41264\",\"type\":\"ColumnDataSource\"}],\"root_ids\":[\"559a316a-a9b0-4e5c-bd75-61f5ed47553a\"]},\"title\":\"Bokeh Application\",\"version\":\"0.12.16\"}};\n",
       "  var render_items = [{\"docid\":\"c2ba77cf-0703-45f1-beb2-4b0693661161\",\"elementid\":\"98239e86-01fd-4222-b2ef-d209571ad37a\",\"modelid\":\"559a316a-a9b0-4e5c-bd75-61f5ed47553a\"}];\n",
       "  root.Bokeh.embed.embed_items_notebook(docs_json, render_items);\n",
       "\n",
       "  }\n",
       "  if (root.Bokeh !== undefined) {\n",
       "    embed_document(root);\n",
       "  } else {\n",
       "    var attempts = 0;\n",
       "    var timer = setInterval(function(root) {\n",
       "      if (root.Bokeh !== undefined) {\n",
       "        embed_document(root);\n",
       "        clearInterval(timer);\n",
       "      }\n",
       "      attempts++;\n",
       "      if (attempts > 100) {\n",
       "        console.log(\"Bokeh: ERROR: Unable to run BokehJS code because BokehJS library is missing\")\n",
       "        clearInterval(timer);\n",
       "      }\n",
       "    }, 10, root)\n",
       "  }\n",
       "})(window);"
      ],
      "application/vnd.bokehjs_exec.v0+json": ""
     },
     "metadata": {
      "application/vnd.bokehjs_exec.v0+json": {
       "id": "559a316a-a9b0-4e5c-bd75-61f5ed47553a"
      }
     },
     "output_type": "display_data"
    },
    {
     "data": {
      "text/markdown": [
       "*FIGURE.* Cooling rates & difference."
      ],
      "text/plain": [
       "<IPython.core.display.Markdown object>"
      ]
     },
     "metadata": {},
     "output_type": "display_data"
    },
    {
     "data": {
      "text/html": [
       "<a id=\"Fluxes._saw.\"></a>"
      ],
      "text/plain": [
       "<IPython.core.display.HTML object>"
      ]
     },
     "metadata": {},
     "output_type": "display_data"
    },
    {
     "data": {
      "text/markdown": [
       "# Fluxes. saw."
      ],
      "text/plain": [
       "<IPython.core.display.Markdown object>"
      ]
     },
     "metadata": {},
     "output_type": "display_data"
    },
    {
     "data": {
      "text/html": [
       "\n",
       "<div class=\"bk-root\">\n",
       "    <div class=\"bk-plotdiv\" id=\"1039b941-21fc-441f-bd6c-73de580c81c4\"></div>\n",
       "</div>"
      ]
     },
     "metadata": {},
     "output_type": "display_data"
    },
    {
     "data": {
      "application/javascript": [
       "(function(root) {\n",
       "  function embed_document(root) {\n",
       "    \n",
       "  var docs_json = {\"16385ad2-520d-46b8-82cc-38ea54c87bec\":{\"roots\":{\"references\":[{\"attributes\":{\"axis_label\":\"flux (W m-2)\",\"formatter\":{\"id\":\"b47855c9-260b-44ef-ad7c-25e2f5070baf\",\"type\":\"BasicTickFormatter\"},\"plot\":{\"id\":\"3254dbd8-9231-45ed-8a95-be3d3fe74965\",\"subtype\":\"Figure\",\"type\":\"Plot\"},\"ticker\":{\"id\":\"2e6b073b-7c6f-45c5-bb23-01b02d7c990b\",\"type\":\"BasicTicker\"}},\"id\":\"f6386e8d-5881-42cf-8454-75fb9ed9e338\",\"type\":\"LinearAxis\"},{\"attributes\":{\"callback\":null,\"data\":{\"band\":[\"1\",\"2\",\"3\",\"4\",\"5\",\"6\",\"7\",\"8\",\"9\",\"10\",\"11\"],\"flux\":{\"__ndarray__\":\"gGLUtfY+xz8ABgWlaOWyPwDVO9wODbO/gApHkEqx0D8Ans4VpYS4PwDQ+uk/a46/IIOj5NU50j8AHErtRbSNv4BE2safqKA/AGgLdJJSdb+AbxLeeT2TPw==\",\"dtype\":\"float64\",\"shape\":[11]}},\"selected\":{\"id\":\"9aa881e4-9847-45a2-8861-bd17f49be2cd\",\"type\":\"Selection\"},\"selection_policy\":{\"id\":\"0b12765e-547c-4c66-aeaa-9909f78339da\",\"type\":\"UnionRenderers\"}},\"id\":\"69828739-b137-4c4d-b91c-4705afbae24a\",\"type\":\"ColumnDataSource\"},{\"attributes\":{\"plot\":{\"id\":\"3254dbd8-9231-45ed-8a95-be3d3fe74965\",\"subtype\":\"Figure\",\"type\":\"Plot\"},\"ticker\":{\"id\":\"77989522-2aa9-47a0-ac57-0be9b5587312\",\"type\":\"CategoricalTicker\"}},\"id\":\"940e9c11-4e28-4bf6-87c0-c16f8c2c8114\",\"type\":\"Grid\"},{\"attributes\":{\"overlay\":{\"id\":\"846724e7-51d9-435a-9888-c3b0f59ad61b\",\"type\":\"BoxAnnotation\"}},\"id\":\"0cc7aa53-714c-4c25-a213-68fc28612249\",\"type\":\"BoxZoomTool\"},{\"attributes\":{\"below\":[{\"id\":\"61d4770f-ba8d-4356-8759-d052bcc495c9\",\"type\":\"CategoricalAxis\"}],\"left\":[{\"id\":\"f6386e8d-5881-42cf-8454-75fb9ed9e338\",\"type\":\"LinearAxis\"}],\"plot_height\":300,\"plot_width\":300,\"renderers\":[{\"id\":\"61d4770f-ba8d-4356-8759-d052bcc495c9\",\"type\":\"CategoricalAxis\"},{\"id\":\"940e9c11-4e28-4bf6-87c0-c16f8c2c8114\",\"type\":\"Grid\"},{\"id\":\"f6386e8d-5881-42cf-8454-75fb9ed9e338\",\"type\":\"LinearAxis\"},{\"id\":\"9d916f59-7f5b-4b9b-ab9b-da11e0a09726\",\"type\":\"Grid\"},{\"id\":\"846724e7-51d9-435a-9888-c3b0f59ad61b\",\"type\":\"BoxAnnotation\"},{\"id\":\"e46481cf-d54d-4fab-8a94-8252752a98aa\",\"type\":\"GlyphRenderer\"}],\"title\":{\"id\":\"a5c8aa78-fca1-4f2b-b6aa-ef2c3687e856\",\"type\":\"Title\"},\"toolbar\":{\"id\":\"da00c2bf-22bb-4e07-8d05-3d1277accaba\",\"type\":\"Toolbar\"},\"toolbar_location\":null,\"x_range\":{\"id\":\"f2174c5e-c0d5-425b-97db-79405c4338c2\",\"type\":\"FactorRange\"},\"x_scale\":{\"id\":\"2aad7f76-27e9-4cec-9a6e-e091d90834cf\",\"type\":\"CategoricalScale\"},\"y_range\":{\"id\":\"68abe69f-3ef5-4e42-ac68-7b3c1e0b789a\",\"type\":\"DataRange1d\"},\"y_scale\":{\"id\":\"9251b5a4-f70c-4dbf-93bf-550bf3fd1edc\",\"type\":\"LinearScale\"}},\"id\":\"3254dbd8-9231-45ed-8a95-be3d3fe74965\",\"subtype\":\"Figure\",\"type\":\"Plot\"},{\"attributes\":{},\"id\":\"77989522-2aa9-47a0-ac57-0be9b5587312\",\"type\":\"CategoricalTicker\"},{\"attributes\":{\"active_drag\":\"auto\",\"active_inspect\":\"auto\",\"active_scroll\":\"auto\",\"active_tap\":\"auto\",\"tools\":[{\"id\":\"af54123c-3340-46f8-baba-e124e4e2b8aa\",\"type\":\"PanTool\"},{\"id\":\"e90a93b3-a2b0-47b7-a785-a2c3c82584f0\",\"type\":\"WheelZoomTool\"},{\"id\":\"0cc7aa53-714c-4c25-a213-68fc28612249\",\"type\":\"BoxZoomTool\"},{\"id\":\"2d8de123-42c6-44af-9d41-e50e76f4c65e\",\"type\":\"SaveTool\"},{\"id\":\"ab505add-d026-4c00-955c-8d2364720fd2\",\"type\":\"ResetTool\"},{\"id\":\"27c823e2-675d-41e9-ae74-b4ed217cab26\",\"type\":\"HelpTool\"}]},\"id\":\"da00c2bf-22bb-4e07-8d05-3d1277accaba\",\"type\":\"Toolbar\"},{\"attributes\":{},\"id\":\"e90a93b3-a2b0-47b7-a785-a2c3c82584f0\",\"type\":\"WheelZoomTool\"},{\"attributes\":{},\"id\":\"2d8de123-42c6-44af-9d41-e50e76f4c65e\",\"type\":\"SaveTool\"},{\"attributes\":{},\"id\":\"c5238a45-5cb3-4d13-8954-d4d429eaa8a1\",\"type\":\"BasicTickFormatter\"},{\"attributes\":{\"axis_label\":\"spectral band\",\"formatter\":{\"id\":\"fc047323-35e8-45c0-8599-054d776975af\",\"type\":\"CategoricalTickFormatter\"},\"plot\":{\"id\":\"3254dbd8-9231-45ed-8a95-be3d3fe74965\",\"subtype\":\"Figure\",\"type\":\"Plot\"},\"ticker\":{\"id\":\"77989522-2aa9-47a0-ac57-0be9b5587312\",\"type\":\"CategoricalTicker\"}},\"id\":\"61d4770f-ba8d-4356-8759-d052bcc495c9\",\"type\":\"CategoricalAxis\"},{\"attributes\":{\"plot\":null,\"text\":\"SFC flux. CLIRAD (single-run) - CRD.\"},\"id\":\"a5c8aa78-fca1-4f2b-b6aa-ef2c3687e856\",\"type\":\"Title\"},{\"attributes\":{},\"id\":\"9251b5a4-f70c-4dbf-93bf-550bf3fd1edc\",\"type\":\"LinearScale\"},{\"attributes\":{\"callback\":null,\"factors\":[\"1\",\"2\",\"3\",\"4\",\"5\",\"6\",\"7\",\"8\",\"9\",\"10\",\"11\"]},\"id\":\"f2174c5e-c0d5-425b-97db-79405c4338c2\",\"type\":\"FactorRange\"},{\"attributes\":{},\"id\":\"2aad7f76-27e9-4cec-9a6e-e091d90834cf\",\"type\":\"CategoricalScale\"},{\"attributes\":{},\"id\":\"ab505add-d026-4c00-955c-8d2364720fd2\",\"type\":\"ResetTool\"},{\"attributes\":{\"dimension\":1,\"plot\":{\"id\":\"3254dbd8-9231-45ed-8a95-be3d3fe74965\",\"subtype\":\"Figure\",\"type\":\"Plot\"},\"ticker\":{\"id\":\"2e6b073b-7c6f-45c5-bb23-01b02d7c990b\",\"type\":\"BasicTicker\"}},\"id\":\"9d916f59-7f5b-4b9b-ab9b-da11e0a09726\",\"type\":\"Grid\"},{\"attributes\":{},\"id\":\"af54123c-3340-46f8-baba-e124e4e2b8aa\",\"type\":\"PanTool\"},{\"attributes\":{},\"id\":\"2e6b073b-7c6f-45c5-bb23-01b02d7c990b\",\"type\":\"BasicTicker\"},{\"attributes\":{},\"id\":\"27c823e2-675d-41e9-ae74-b4ed217cab26\",\"type\":\"HelpTool\"},{\"attributes\":{\"callback\":null},\"id\":\"68abe69f-3ef5-4e42-ac68-7b3c1e0b789a\",\"type\":\"DataRange1d\"},{\"attributes\":{},\"id\":\"377a3c0d-6f13-400e-b9f4-b58e2d05d4b6\",\"type\":\"ResetTool\"},{\"attributes\":{},\"id\":\"5c0d54f0-dbab-4a97-8656-51ef0d718239\",\"type\":\"ResetTool\"},{\"attributes\":{},\"id\":\"a9bd7149-323a-435c-a88f-b122b76f58ce\",\"type\":\"CategoricalTicker\"},{\"attributes\":{\"tools\":[{\"id\":\"479b2d7a-3371-419a-8068-4729dc0b836c\",\"type\":\"PanTool\"},{\"id\":\"ed919204-b2ec-443f-988e-779240b9653a\",\"type\":\"WheelZoomTool\"},{\"id\":\"4b0421fc-70f9-4111-b4e6-0fbf7f30c65e\",\"type\":\"BoxZoomTool\"},{\"id\":\"1b0b5fa9-8035-4077-af18-f0f23fba3fe1\",\"type\":\"SaveTool\"},{\"id\":\"377a3c0d-6f13-400e-b9f4-b58e2d05d4b6\",\"type\":\"ResetTool\"},{\"id\":\"651837d8-52e4-47c7-94a9-ead746238ad2\",\"type\":\"HelpTool\"},{\"id\":\"af54123c-3340-46f8-baba-e124e4e2b8aa\",\"type\":\"PanTool\"},{\"id\":\"e90a93b3-a2b0-47b7-a785-a2c3c82584f0\",\"type\":\"WheelZoomTool\"},{\"id\":\"0cc7aa53-714c-4c25-a213-68fc28612249\",\"type\":\"BoxZoomTool\"},{\"id\":\"2d8de123-42c6-44af-9d41-e50e76f4c65e\",\"type\":\"SaveTool\"},{\"id\":\"ab505add-d026-4c00-955c-8d2364720fd2\",\"type\":\"ResetTool\"},{\"id\":\"27c823e2-675d-41e9-ae74-b4ed217cab26\",\"type\":\"HelpTool\"},{\"id\":\"7009ce4e-a5f0-4d00-a51b-9b263fa02b8f\",\"type\":\"PanTool\"},{\"id\":\"ca5939e0-bb33-4cd3-89cd-0df1f94c6111\",\"type\":\"WheelZoomTool\"},{\"id\":\"29eb799d-984b-4ffe-ae88-faeaeb77e655\",\"type\":\"BoxZoomTool\"},{\"id\":\"f448fa9a-e955-4443-abd1-4c72ba503cbe\",\"type\":\"SaveTool\"},{\"id\":\"5c0d54f0-dbab-4a97-8656-51ef0d718239\",\"type\":\"ResetTool\"},{\"id\":\"47595d27-fdc9-4202-b3b5-7202c601d6a8\",\"type\":\"HelpTool\"}]},\"id\":\"993b94e5-3181-4e43-9fc2-e9e714e1c8de\",\"type\":\"ProxyToolbar\"},{\"attributes\":{},\"id\":\"256b0075-1504-412f-8ac9-4af4e4a68595\",\"type\":\"BasicTicker\"},{\"attributes\":{\"children\":[{\"id\":\"bd35b2ee-8bb8-4787-975f-4e8d1b78cf17\",\"type\":\"ToolbarBox\"},{\"id\":\"2b1e35e9-5315-4c21-9b38-86862f07518a\",\"type\":\"Column\"}]},\"id\":\"266b7949-b511-4192-bf40-f3b0dc6c6ee9\",\"type\":\"Column\"},{\"attributes\":{\"fill_color\":{\"value\":\"#1f77b4\"},\"line_color\":{\"value\":\"#1f77b4\"},\"top\":{\"field\":\"flux\"},\"width\":{\"value\":0.9},\"x\":{\"field\":\"band\"}},\"id\":\"2d201170-07c7-463f-bde5-a263e42e001b\",\"type\":\"VBar\"},{\"attributes\":{\"data_source\":{\"id\":\"4a32354d-9ade-4054-aee2-4cc39b2f2e39\",\"type\":\"ColumnDataSource\"},\"glyph\":{\"id\":\"d07ec6e2-347d-45e1-9f57-3fbb5a1013be\",\"type\":\"VBar\"},\"hover_glyph\":null,\"muted_glyph\":null,\"nonselection_glyph\":{\"id\":\"1a830580-5b1a-4443-981b-a0adf167496b\",\"type\":\"VBar\"},\"selection_glyph\":null,\"view\":{\"id\":\"10deabd6-46d1-452f-b44f-ad93f56dcad7\",\"type\":\"CDSView\"}},\"id\":\"e46481cf-d54d-4fab-8a94-8252752a98aa\",\"type\":\"GlyphRenderer\"},{\"attributes\":{\"callback\":null},\"id\":\"ae524b86-cd35-4c88-812a-a9e0a10a0cc4\",\"type\":\"DataRange1d\"},{\"attributes\":{\"source\":{\"id\":\"69828739-b137-4c4d-b91c-4705afbae24a\",\"type\":\"ColumnDataSource\"}},\"id\":\"d1973867-6ae6-4b18-a42d-8473dbc9af04\",\"type\":\"CDSView\"},{\"attributes\":{},\"id\":\"b47855c9-260b-44ef-ad7c-25e2f5070baf\",\"type\":\"BasicTickFormatter\"},{\"attributes\":{\"callback\":null,\"factors\":[\"1\",\"2\",\"3\",\"4\",\"5\",\"6\",\"7\",\"8\",\"9\",\"10\",\"11\"]},\"id\":\"80eff119-5d30-4cd4-8f39-fa193285bc40\",\"type\":\"FactorRange\"},{\"attributes\":{},\"id\":\"f448fa9a-e955-4443-abd1-4c72ba503cbe\",\"type\":\"SaveTool\"},{\"attributes\":{},\"id\":\"1b0b5fa9-8035-4077-af18-f0f23fba3fe1\",\"type\":\"SaveTool\"},{\"attributes\":{\"axis_label\":\"flux (W m-2)\",\"formatter\":{\"id\":\"2b128ade-57b9-4f70-a770-49fc5003d5e8\",\"type\":\"BasicTickFormatter\"},\"plot\":{\"id\":\"ccee9275-3809-4816-8b6c-a2be07eec822\",\"subtype\":\"Figure\",\"type\":\"Plot\"},\"ticker\":{\"id\":\"b943f351-ec60-450e-bb3d-4f4d4ce92e46\",\"type\":\"BasicTicker\"}},\"id\":\"575b921f-7b12-4c4c-a179-984b4a9cc14e\",\"type\":\"LinearAxis\"},{\"attributes\":{},\"id\":\"4d0d9c7b-29d4-4c9c-9d22-c80a887725fb\",\"type\":\"UnionRenderers\"},{\"attributes\":{},\"id\":\"7009ce4e-a5f0-4d00-a51b-9b263fa02b8f\",\"type\":\"PanTool\"},{\"attributes\":{},\"id\":\"3ce332a1-4a6b-4d87-8993-c7552faf56ac\",\"type\":\"CategoricalTickFormatter\"},{\"attributes\":{\"dimension\":1,\"plot\":{\"id\":\"ccee9275-3809-4816-8b6c-a2be07eec822\",\"subtype\":\"Figure\",\"type\":\"Plot\"},\"ticker\":{\"id\":\"b943f351-ec60-450e-bb3d-4f4d4ce92e46\",\"type\":\"BasicTicker\"}},\"id\":\"90406dfd-3657-4f1f-9734-e47e67118238\",\"type\":\"Grid\"},{\"attributes\":{\"fill_alpha\":{\"value\":0.1},\"fill_color\":{\"value\":\"#1f77b4\"},\"line_alpha\":{\"value\":0.1},\"line_color\":{\"value\":\"#1f77b4\"},\"top\":{\"field\":\"flux\"},\"width\":{\"value\":0.9},\"x\":{\"field\":\"band\"}},\"id\":\"d897e6e8-4583-4a06-9400-e23bb6e11399\",\"type\":\"VBar\"},{\"attributes\":{\"callback\":null,\"data\":{\"band\":[\"1\",\"2\",\"3\",\"4\",\"5\",\"6\",\"7\",\"8\",\"9\",\"10\",\"11\"],\"flux\":{\"__ndarray__\":\"AEDdJAaBZb8Asg5HV+nAvwA2IEJcueC/AAeY+Q5+tj/A8wOyMnXIPyAWSPVCprm/QFhl8EEZsD/ga9jnGC20vwDdJRad0ZM/AJDEy9O5oj8Ad2DnQ6NtPw==\",\"dtype\":\"float64\",\"shape\":[11]}},\"selected\":{\"id\":\"57eaf6c5-cc8d-4a09-af88-8e7d343d8263\",\"type\":\"Selection\"},\"selection_policy\":{\"id\":\"4d0d9c7b-29d4-4c9c-9d22-c80a887725fb\",\"type\":\"UnionRenderers\"}},\"id\":\"4a32354d-9ade-4054-aee2-4cc39b2f2e39\",\"type\":\"ColumnDataSource\"},{\"attributes\":{},\"id\":\"ce23f5b4-0380-4684-bc6b-ce8bca026461\",\"type\":\"CategoricalTicker\"},{\"attributes\":{\"children\":[{\"id\":\"fc2e2f66-c643-4757-991f-88b7a4819da1\",\"type\":\"Row\"}]},\"id\":\"2b1e35e9-5315-4c21-9b38-86862f07518a\",\"type\":\"Column\"},{\"attributes\":{\"bottom_units\":\"screen\",\"fill_alpha\":{\"value\":0.5},\"fill_color\":{\"value\":\"lightgrey\"},\"left_units\":\"screen\",\"level\":\"overlay\",\"line_alpha\":{\"value\":1.0},\"line_color\":{\"value\":\"black\"},\"line_dash\":[4,4],\"line_width\":{\"value\":2},\"plot\":null,\"render_mode\":\"css\",\"right_units\":\"screen\",\"top_units\":\"screen\"},\"id\":\"b73827f7-ee7c-465e-a822-ed6c86529a49\",\"type\":\"BoxAnnotation\"},{\"attributes\":{\"overlay\":{\"id\":\"6a8f4b3a-e61f-411f-a728-ccad06fc80b6\",\"type\":\"BoxAnnotation\"}},\"id\":\"4b0421fc-70f9-4111-b4e6-0fbf7f30c65e\",\"type\":\"BoxZoomTool\"},{\"attributes\":{\"axis_label\":\"spectral band\",\"formatter\":{\"id\":\"3ce332a1-4a6b-4d87-8993-c7552faf56ac\",\"type\":\"CategoricalTickFormatter\"},\"plot\":{\"id\":\"51147fb1-4bac-4918-b476-fa0568b4750a\",\"subtype\":\"Figure\",\"type\":\"Plot\"},\"ticker\":{\"id\":\"a9bd7149-323a-435c-a88f-b122b76f58ce\",\"type\":\"CategoricalTicker\"}},\"id\":\"9ce44dd5-a777-48e1-86e0-70c8063f055b\",\"type\":\"CategoricalAxis\"},{\"attributes\":{\"fill_color\":{\"value\":\"#1f77b4\"},\"line_color\":{\"value\":\"#1f77b4\"},\"top\":{\"field\":\"flux\"},\"width\":{\"value\":0.9},\"x\":{\"field\":\"band\"}},\"id\":\"d07ec6e2-347d-45e1-9f57-3fbb5a1013be\",\"type\":\"VBar\"},{\"attributes\":{},\"id\":\"57eaf6c5-cc8d-4a09-af88-8e7d343d8263\",\"type\":\"Selection\"},{\"attributes\":{\"fill_color\":{\"value\":\"#1f77b4\"},\"line_color\":{\"value\":\"#1f77b4\"},\"top\":{\"field\":\"flux\"},\"width\":{\"value\":0.9},\"x\":{\"field\":\"band\"}},\"id\":\"53c6787c-5290-4a9b-9c57-cc9e3545536c\",\"type\":\"VBar\"},{\"attributes\":{},\"id\":\"47595d27-fdc9-4202-b3b5-7202c601d6a8\",\"type\":\"HelpTool\"},{\"attributes\":{\"callback\":null},\"id\":\"d479286a-9d43-4caf-aace-6a8d1782ecd2\",\"type\":\"DataRange1d\"},{\"attributes\":{\"dimension\":1,\"plot\":{\"id\":\"51147fb1-4bac-4918-b476-fa0568b4750a\",\"subtype\":\"Figure\",\"type\":\"Plot\"},\"ticker\":{\"id\":\"256b0075-1504-412f-8ac9-4af4e4a68595\",\"type\":\"BasicTicker\"}},\"id\":\"cd34fa53-40a9-464a-ae11-9e8743cfde1a\",\"type\":\"Grid\"},{\"attributes\":{\"plot\":null,\"text\":\"TOA flux. CLIRAD (single-run) - CRD.\"},\"id\":\"49433296-87c6-4779-8b2a-3b9b1e6901cc\",\"type\":\"Title\"},{\"attributes\":{\"plot\":null,\"text\":\"Atmosphere heating. CLIRAD (single-run) - CRD.\"},\"id\":\"0b9cebcf-6138-464a-bcab-54f26c2c6032\",\"type\":\"Title\"},{\"attributes\":{},\"id\":\"651837d8-52e4-47c7-94a9-ead746238ad2\",\"type\":\"HelpTool\"},{\"attributes\":{\"callback\":null,\"data\":{\"band\":[\"1\",\"2\",\"3\",\"4\",\"5\",\"6\",\"7\",\"8\",\"9\",\"10\",\"11\"],\"flux\":{\"__ndarray__\":\"gOIKWg6Vxz8AZUNIJ1zKP8BwLN5+r9w/QMdlApwjxj+ArqKa7WW4vwBJ8fEJ2bU/gB6GVidnzD+AUnx8QnawPwDBKhcq/4o/gEM6lz1kpb+AJgqhQRKPPw==\",\"dtype\":\"float64\",\"shape\":[11]}},\"selected\":{\"id\":\"d6acb2a0-f2da-4acb-800a-a4b0900c66bc\",\"type\":\"Selection\"},\"selection_policy\":{\"id\":\"ed4240f2-cefb-4f9c-b068-1bcd7362c501\",\"type\":\"UnionRenderers\"}},\"id\":\"33811056-7118-4bf5-bb68-bd59d4faff8a\",\"type\":\"ColumnDataSource\"},{\"attributes\":{\"fill_alpha\":{\"value\":0.1},\"fill_color\":{\"value\":\"#1f77b4\"},\"line_alpha\":{\"value\":0.1},\"line_color\":{\"value\":\"#1f77b4\"},\"top\":{\"field\":\"flux\"},\"width\":{\"value\":0.9},\"x\":{\"field\":\"band\"}},\"id\":\"1a830580-5b1a-4443-981b-a0adf167496b\",\"type\":\"VBar\"},{\"attributes\":{\"axis_label\":\"flux (W m-2)\",\"formatter\":{\"id\":\"c5238a45-5cb3-4d13-8954-d4d429eaa8a1\",\"type\":\"BasicTickFormatter\"},\"plot\":{\"id\":\"51147fb1-4bac-4918-b476-fa0568b4750a\",\"subtype\":\"Figure\",\"type\":\"Plot\"},\"ticker\":{\"id\":\"256b0075-1504-412f-8ac9-4af4e4a68595\",\"type\":\"BasicTicker\"}},\"id\":\"450130ec-eda3-496c-af3a-4b2219d0c060\",\"type\":\"LinearAxis\"},{\"attributes\":{\"bottom_units\":\"screen\",\"fill_alpha\":{\"value\":0.5},\"fill_color\":{\"value\":\"lightgrey\"},\"left_units\":\"screen\",\"level\":\"overlay\",\"line_alpha\":{\"value\":1.0},\"line_color\":{\"value\":\"black\"},\"line_dash\":[4,4],\"line_width\":{\"value\":2},\"plot\":null,\"render_mode\":\"css\",\"right_units\":\"screen\",\"top_units\":\"screen\"},\"id\":\"6a8f4b3a-e61f-411f-a728-ccad06fc80b6\",\"type\":\"BoxAnnotation\"},{\"attributes\":{\"fill_alpha\":{\"value\":0.1},\"fill_color\":{\"value\":\"#1f77b4\"},\"line_alpha\":{\"value\":0.1},\"line_color\":{\"value\":\"#1f77b4\"},\"top\":{\"field\":\"flux\"},\"width\":{\"value\":0.9},\"x\":{\"field\":\"band\"}},\"id\":\"10f98b75-59b7-4da7-a087-b7f87d5e5cec\",\"type\":\"VBar\"},{\"attributes\":{},\"id\":\"bc19da4d-9d64-493c-a3b5-c81ac01dfbf8\",\"type\":\"CategoricalScale\"},{\"attributes\":{\"callback\":null,\"factors\":[\"1\",\"2\",\"3\",\"4\",\"5\",\"6\",\"7\",\"8\",\"9\",\"10\",\"11\"]},\"id\":\"d1d62e68-8896-4bf5-813f-cb04f5c45a5c\",\"type\":\"FactorRange\"},{\"attributes\":{\"children\":[{\"id\":\"ccee9275-3809-4816-8b6c-a2be07eec822\",\"subtype\":\"Figure\",\"type\":\"Plot\"},{\"id\":\"3254dbd8-9231-45ed-8a95-be3d3fe74965\",\"subtype\":\"Figure\",\"type\":\"Plot\"},{\"id\":\"51147fb1-4bac-4918-b476-fa0568b4750a\",\"subtype\":\"Figure\",\"type\":\"Plot\"}]},\"id\":\"fc2e2f66-c643-4757-991f-88b7a4819da1\",\"type\":\"Row\"},{\"attributes\":{\"source\":{\"id\":\"33811056-7118-4bf5-bb68-bd59d4faff8a\",\"type\":\"ColumnDataSource\"}},\"id\":\"6b9687e6-a47e-467a-b801-b841acc28d12\",\"type\":\"CDSView\"},{\"attributes\":{},\"id\":\"0c829310-e114-4972-b18b-7a58fca773dc\",\"type\":\"CategoricalScale\"},{\"attributes\":{},\"id\":\"b943f351-ec60-450e-bb3d-4f4d4ce92e46\",\"type\":\"BasicTicker\"},{\"attributes\":{},\"id\":\"2b128ade-57b9-4f70-a770-49fc5003d5e8\",\"type\":\"BasicTickFormatter\"},{\"attributes\":{},\"id\":\"479b2d7a-3371-419a-8068-4729dc0b836c\",\"type\":\"PanTool\"},{\"attributes\":{\"data_source\":{\"id\":\"69828739-b137-4c4d-b91c-4705afbae24a\",\"type\":\"ColumnDataSource\"},\"glyph\":{\"id\":\"2d201170-07c7-463f-bde5-a263e42e001b\",\"type\":\"VBar\"},\"hover_glyph\":null,\"muted_glyph\":null,\"nonselection_glyph\":{\"id\":\"d897e6e8-4583-4a06-9400-e23bb6e11399\",\"type\":\"VBar\"},\"selection_glyph\":null,\"view\":{\"id\":\"d1973867-6ae6-4b18-a42d-8473dbc9af04\",\"type\":\"CDSView\"}},\"id\":\"80fcf365-0e5d-4667-961c-cdac82f7bbb9\",\"type\":\"GlyphRenderer\"},{\"attributes\":{},\"id\":\"d952e413-2522-4535-acc0-c97238ca9b4f\",\"type\":\"CategoricalTickFormatter\"},{\"attributes\":{\"source\":{\"id\":\"4a32354d-9ade-4054-aee2-4cc39b2f2e39\",\"type\":\"ColumnDataSource\"}},\"id\":\"10deabd6-46d1-452f-b44f-ad93f56dcad7\",\"type\":\"CDSView\"},{\"attributes\":{\"below\":[{\"id\":\"9ce44dd5-a777-48e1-86e0-70c8063f055b\",\"type\":\"CategoricalAxis\"}],\"left\":[{\"id\":\"450130ec-eda3-496c-af3a-4b2219d0c060\",\"type\":\"LinearAxis\"}],\"plot_height\":300,\"plot_width\":300,\"renderers\":[{\"id\":\"9ce44dd5-a777-48e1-86e0-70c8063f055b\",\"type\":\"CategoricalAxis\"},{\"id\":\"b11b16c1-90eb-475c-ae6d-5b5578843508\",\"type\":\"Grid\"},{\"id\":\"450130ec-eda3-496c-af3a-4b2219d0c060\",\"type\":\"LinearAxis\"},{\"id\":\"cd34fa53-40a9-464a-ae11-9e8743cfde1a\",\"type\":\"Grid\"},{\"id\":\"b73827f7-ee7c-465e-a822-ed6c86529a49\",\"type\":\"BoxAnnotation\"},{\"id\":\"2506fd31-b6dd-46bb-99fe-c94ee0d0ece5\",\"type\":\"GlyphRenderer\"}],\"title\":{\"id\":\"0b9cebcf-6138-464a-bcab-54f26c2c6032\",\"type\":\"Title\"},\"toolbar\":{\"id\":\"6c33a077-f3b3-4188-9d58-d92c7d23f70f\",\"type\":\"Toolbar\"},\"toolbar_location\":null,\"x_range\":{\"id\":\"80eff119-5d30-4cd4-8f39-fa193285bc40\",\"type\":\"FactorRange\"},\"x_scale\":{\"id\":\"bc19da4d-9d64-493c-a3b5-c81ac01dfbf8\",\"type\":\"CategoricalScale\"},\"y_range\":{\"id\":\"ae524b86-cd35-4c88-812a-a9e0a10a0cc4\",\"type\":\"DataRange1d\"},\"y_scale\":{\"id\":\"14bf48e1-01c9-4431-85e3-c04c1b167829\",\"type\":\"LinearScale\"}},\"id\":\"51147fb1-4bac-4918-b476-fa0568b4750a\",\"subtype\":\"Figure\",\"type\":\"Plot\"},{\"attributes\":{},\"id\":\"ed4240f2-cefb-4f9c-b068-1bcd7362c501\",\"type\":\"UnionRenderers\"},{\"attributes\":{},\"id\":\"9aa881e4-9847-45a2-8861-bd17f49be2cd\",\"type\":\"Selection\"},{\"attributes\":{\"toolbar\":{\"id\":\"993b94e5-3181-4e43-9fc2-e9e714e1c8de\",\"type\":\"ProxyToolbar\"},\"toolbar_location\":\"above\"},\"id\":\"bd35b2ee-8bb8-4787-975f-4e8d1b78cf17\",\"type\":\"ToolbarBox\"},{\"attributes\":{\"active_drag\":\"auto\",\"active_inspect\":\"auto\",\"active_scroll\":\"auto\",\"active_tap\":\"auto\",\"tools\":[{\"id\":\"479b2d7a-3371-419a-8068-4729dc0b836c\",\"type\":\"PanTool\"},{\"id\":\"ed919204-b2ec-443f-988e-779240b9653a\",\"type\":\"WheelZoomTool\"},{\"id\":\"4b0421fc-70f9-4111-b4e6-0fbf7f30c65e\",\"type\":\"BoxZoomTool\"},{\"id\":\"1b0b5fa9-8035-4077-af18-f0f23fba3fe1\",\"type\":\"SaveTool\"},{\"id\":\"377a3c0d-6f13-400e-b9f4-b58e2d05d4b6\",\"type\":\"ResetTool\"},{\"id\":\"651837d8-52e4-47c7-94a9-ead746238ad2\",\"type\":\"HelpTool\"}]},\"id\":\"dc4325b0-b642-49a7-a377-af2d0267833b\",\"type\":\"Toolbar\"},{\"attributes\":{},\"id\":\"14bf48e1-01c9-4431-85e3-c04c1b167829\",\"type\":\"LinearScale\"},{\"attributes\":{},\"id\":\"0b12765e-547c-4c66-aeaa-9909f78339da\",\"type\":\"UnionRenderers\"},{\"attributes\":{\"active_drag\":\"auto\",\"active_inspect\":\"auto\",\"active_scroll\":\"auto\",\"active_tap\":\"auto\",\"tools\":[{\"id\":\"7009ce4e-a5f0-4d00-a51b-9b263fa02b8f\",\"type\":\"PanTool\"},{\"id\":\"ca5939e0-bb33-4cd3-89cd-0df1f94c6111\",\"type\":\"WheelZoomTool\"},{\"id\":\"29eb799d-984b-4ffe-ae88-faeaeb77e655\",\"type\":\"BoxZoomTool\"},{\"id\":\"f448fa9a-e955-4443-abd1-4c72ba503cbe\",\"type\":\"SaveTool\"},{\"id\":\"5c0d54f0-dbab-4a97-8656-51ef0d718239\",\"type\":\"ResetTool\"},{\"id\":\"47595d27-fdc9-4202-b3b5-7202c601d6a8\",\"type\":\"HelpTool\"}]},\"id\":\"6c33a077-f3b3-4188-9d58-d92c7d23f70f\",\"type\":\"Toolbar\"},{\"attributes\":{},\"id\":\"fc047323-35e8-45c0-8599-054d776975af\",\"type\":\"CategoricalTickFormatter\"},{\"attributes\":{\"bottom_units\":\"screen\",\"fill_alpha\":{\"value\":0.5},\"fill_color\":{\"value\":\"lightgrey\"},\"left_units\":\"screen\",\"level\":\"overlay\",\"line_alpha\":{\"value\":1.0},\"line_color\":{\"value\":\"black\"},\"line_dash\":[4,4],\"line_width\":{\"value\":2},\"plot\":null,\"render_mode\":\"css\",\"right_units\":\"screen\",\"top_units\":\"screen\"},\"id\":\"846724e7-51d9-435a-9888-c3b0f59ad61b\",\"type\":\"BoxAnnotation\"},{\"attributes\":{},\"id\":\"ca5939e0-bb33-4cd3-89cd-0df1f94c6111\",\"type\":\"WheelZoomTool\"},{\"attributes\":{\"below\":[{\"id\":\"22ccab93-ba81-4364-95e6-d8d60997a81c\",\"type\":\"CategoricalAxis\"}],\"left\":[{\"id\":\"575b921f-7b12-4c4c-a179-984b4a9cc14e\",\"type\":\"LinearAxis\"}],\"plot_height\":300,\"plot_width\":300,\"renderers\":[{\"id\":\"22ccab93-ba81-4364-95e6-d8d60997a81c\",\"type\":\"CategoricalAxis\"},{\"id\":\"ede5b5b7-9426-4b02-8e37-24c0cf220457\",\"type\":\"Grid\"},{\"id\":\"575b921f-7b12-4c4c-a179-984b4a9cc14e\",\"type\":\"LinearAxis\"},{\"id\":\"90406dfd-3657-4f1f-9734-e47e67118238\",\"type\":\"Grid\"},{\"id\":\"6a8f4b3a-e61f-411f-a728-ccad06fc80b6\",\"type\":\"BoxAnnotation\"},{\"id\":\"80fcf365-0e5d-4667-961c-cdac82f7bbb9\",\"type\":\"GlyphRenderer\"}],\"title\":{\"id\":\"49433296-87c6-4779-8b2a-3b9b1e6901cc\",\"type\":\"Title\"},\"toolbar\":{\"id\":\"dc4325b0-b642-49a7-a377-af2d0267833b\",\"type\":\"Toolbar\"},\"toolbar_location\":null,\"x_range\":{\"id\":\"d1d62e68-8896-4bf5-813f-cb04f5c45a5c\",\"type\":\"FactorRange\"},\"x_scale\":{\"id\":\"0c829310-e114-4972-b18b-7a58fca773dc\",\"type\":\"CategoricalScale\"},\"y_range\":{\"id\":\"d479286a-9d43-4caf-aace-6a8d1782ecd2\",\"type\":\"DataRange1d\"},\"y_scale\":{\"id\":\"c8c34980-df8f-45a3-891f-22bb712d58d9\",\"type\":\"LinearScale\"}},\"id\":\"ccee9275-3809-4816-8b6c-a2be07eec822\",\"subtype\":\"Figure\",\"type\":\"Plot\"},{\"attributes\":{},\"id\":\"d6acb2a0-f2da-4acb-800a-a4b0900c66bc\",\"type\":\"Selection\"},{\"attributes\":{\"plot\":{\"id\":\"51147fb1-4bac-4918-b476-fa0568b4750a\",\"subtype\":\"Figure\",\"type\":\"Plot\"},\"ticker\":{\"id\":\"a9bd7149-323a-435c-a88f-b122b76f58ce\",\"type\":\"CategoricalTicker\"}},\"id\":\"b11b16c1-90eb-475c-ae6d-5b5578843508\",\"type\":\"Grid\"},{\"attributes\":{\"overlay\":{\"id\":\"b73827f7-ee7c-465e-a822-ed6c86529a49\",\"type\":\"BoxAnnotation\"}},\"id\":\"29eb799d-984b-4ffe-ae88-faeaeb77e655\",\"type\":\"BoxZoomTool\"},{\"attributes\":{},\"id\":\"c8c34980-df8f-45a3-891f-22bb712d58d9\",\"type\":\"LinearScale\"},{\"attributes\":{\"axis_label\":\"spectral band\",\"formatter\":{\"id\":\"d952e413-2522-4535-acc0-c97238ca9b4f\",\"type\":\"CategoricalTickFormatter\"},\"plot\":{\"id\":\"ccee9275-3809-4816-8b6c-a2be07eec822\",\"subtype\":\"Figure\",\"type\":\"Plot\"},\"ticker\":{\"id\":\"ce23f5b4-0380-4684-bc6b-ce8bca026461\",\"type\":\"CategoricalTicker\"}},\"id\":\"22ccab93-ba81-4364-95e6-d8d60997a81c\",\"type\":\"CategoricalAxis\"},{\"attributes\":{\"data_source\":{\"id\":\"33811056-7118-4bf5-bb68-bd59d4faff8a\",\"type\":\"ColumnDataSource\"},\"glyph\":{\"id\":\"53c6787c-5290-4a9b-9c57-cc9e3545536c\",\"type\":\"VBar\"},\"hover_glyph\":null,\"muted_glyph\":null,\"nonselection_glyph\":{\"id\":\"10f98b75-59b7-4da7-a087-b7f87d5e5cec\",\"type\":\"VBar\"},\"selection_glyph\":null,\"view\":{\"id\":\"6b9687e6-a47e-467a-b801-b841acc28d12\",\"type\":\"CDSView\"}},\"id\":\"2506fd31-b6dd-46bb-99fe-c94ee0d0ece5\",\"type\":\"GlyphRenderer\"},{\"attributes\":{\"plot\":{\"id\":\"ccee9275-3809-4816-8b6c-a2be07eec822\",\"subtype\":\"Figure\",\"type\":\"Plot\"},\"ticker\":{\"id\":\"ce23f5b4-0380-4684-bc6b-ce8bca026461\",\"type\":\"CategoricalTicker\"}},\"id\":\"ede5b5b7-9426-4b02-8e37-24c0cf220457\",\"type\":\"Grid\"},{\"attributes\":{},\"id\":\"ed919204-b2ec-443f-988e-779240b9653a\",\"type\":\"WheelZoomTool\"}],\"root_ids\":[\"266b7949-b511-4192-bf40-f3b0dc6c6ee9\"]},\"title\":\"Bokeh Application\",\"version\":\"0.12.16\"}};\n",
       "  var render_items = [{\"docid\":\"16385ad2-520d-46b8-82cc-38ea54c87bec\",\"elementid\":\"1039b941-21fc-441f-bd6c-73de580c81c4\",\"modelid\":\"266b7949-b511-4192-bf40-f3b0dc6c6ee9\"}];\n",
       "  root.Bokeh.embed.embed_items_notebook(docs_json, render_items);\n",
       "\n",
       "  }\n",
       "  if (root.Bokeh !== undefined) {\n",
       "    embed_document(root);\n",
       "  } else {\n",
       "    var attempts = 0;\n",
       "    var timer = setInterval(function(root) {\n",
       "      if (root.Bokeh !== undefined) {\n",
       "        embed_document(root);\n",
       "        clearInterval(timer);\n",
       "      }\n",
       "      attempts++;\n",
       "      if (attempts > 100) {\n",
       "        console.log(\"Bokeh: ERROR: Unable to run BokehJS code because BokehJS library is missing\")\n",
       "        clearInterval(timer);\n",
       "      }\n",
       "    }, 10, root)\n",
       "  }\n",
       "})(window);"
      ],
      "application/vnd.bokehjs_exec.v0+json": ""
     },
     "metadata": {
      "application/vnd.bokehjs_exec.v0+json": {
       "id": "266b7949-b511-4192-bf40-f3b0dc6c6ee9"
      }
     },
     "output_type": "display_data"
    },
    {
     "data": {
      "text/markdown": [
       "*FIGURE.* Difference between CLIRAD and CRD in TOA, SFC and net atmosphere flux, in each spectral band."
      ],
      "text/plain": [
       "<IPython.core.display.Markdown object>"
      ]
     },
     "metadata": {},
     "output_type": "display_data"
    },
    {
     "data": {
      "text/html": [
       "<div>\n",
       "<style scoped>\n",
       "    .dataframe tbody tr th:only-of-type {\n",
       "        vertical-align: middle;\n",
       "    }\n",
       "\n",
       "    .dataframe tbody tr th {\n",
       "        vertical-align: top;\n",
       "    }\n",
       "\n",
       "    .dataframe thead th {\n",
       "        text-align: right;\n",
       "    }\n",
       "</style>\n",
       "<table border=\"1\" class=\"dataframe\">\n",
       "  <thead>\n",
       "    <tr style=\"text-align: right;\">\n",
       "      <th></th>\n",
       "      <th>OLR flux</th>\n",
       "      <th>SFC flux</th>\n",
       "      <th>ATM heating</th>\n",
       "    </tr>\n",
       "    <tr>\n",
       "      <th>Sum over bands</th>\n",
       "      <th></th>\n",
       "      <th></th>\n",
       "      <th></th>\n",
       "    </tr>\n",
       "  </thead>\n",
       "  <tbody>\n",
       "    <tr>\n",
       "      <th>CLIRAD (single-run) - CRD</th>\n",
       "      <td>0.84</td>\n",
       "      <td>-0.44</td>\n",
       "      <td>1.27</td>\n",
       "    </tr>\n",
       "    <tr>\n",
       "      <th>CRD</th>\n",
       "      <td>-201.06</td>\n",
       "      <td>166.03</td>\n",
       "      <td>-119.67</td>\n",
       "    </tr>\n",
       "  </tbody>\n",
       "</table>\n",
       "</div>"
      ],
      "text/plain": [
       "                           OLR flux  SFC flux  ATM heating\n",
       "Sum over bands                                            \n",
       "CLIRAD (single-run) - CRD      0.84     -0.44         1.27\n",
       "CRD                         -201.06    166.03      -119.67"
      ]
     },
     "metadata": {},
     "output_type": "display_data"
    },
    {
     "data": {
      "text/markdown": [
       "*TABLE.* Difference between CLIRAD and CRD in TOA, SFC and net atmosphere flux, over all spectral bands. CRD's TOA, SFC and net atmosphere flux, over all spectral bands."
      ],
      "text/plain": [
       "<IPython.core.display.Markdown object>"
      ]
     },
     "metadata": {},
     "output_type": "display_data"
    },
    {
     "data": {
      "text/html": [
       "<a id=\"Cooling_rates._trp.\"></a>"
      ],
      "text/plain": [
       "<IPython.core.display.HTML object>"
      ]
     },
     "metadata": {},
     "output_type": "display_data"
    },
    {
     "data": {
      "text/markdown": [
       "# Cooling rates. trp."
      ],
      "text/plain": [
       "<IPython.core.display.Markdown object>"
      ]
     },
     "metadata": {},
     "output_type": "display_data"
    },
    {
     "data": {
      "text/html": [
       "\n",
       "<div class=\"bk-root\">\n",
       "    <div class=\"bk-plotdiv\" id=\"2fb19eb6-ec2c-44a6-a64a-e965bfd07af7\"></div>\n",
       "</div>"
      ]
     },
     "metadata": {},
     "output_type": "display_data"
    },
    {
     "data": {
      "application/javascript": [
       "(function(root) {\n",
       "  function embed_document(root) {\n",
       "    \n",
       "  var docs_json = {\"cdcb233d-e385-46d7-b0a3-c8babd72f87c\":{\"roots\":{\"references\":[{\"attributes\":{\"callback\":null,\"end\":0.01,\"start\":1020},\"id\":\"56776bd6-40e1-4dbe-a646-e5fab7a9f169\",\"type\":\"Range1d\"},{\"attributes\":{},\"id\":\"48fb6de2-6140-4e0d-8b5f-b6db467faf2e\",\"type\":\"UnionRenderers\"},{\"attributes\":{\"children\":[{\"id\":\"7dea0c28-67f7-4c1e-819f-0b82351abe11\",\"type\":\"ToolbarBox\"},{\"id\":\"2c8e8cf2-cd8d-497a-bc12-66235e7ee5b3\",\"type\":\"Column\"}]},\"id\":\"be5df49b-1376-4e39-a3a0-10a30560bab7\",\"type\":\"Column\"},{\"attributes\":{},\"id\":\"acfa8fb4-8f96-48a5-8dcc-94eda3a40d3c\",\"type\":\"Selection\"},{\"attributes\":{\"tools\":[{\"id\":\"9800e4d7-61a5-47cd-ad93-790b75b6cbde\",\"type\":\"PanTool\"},{\"id\":\"a1003cc3-ef0e-44b8-8644-b02930924789\",\"type\":\"WheelZoomTool\"},{\"id\":\"c13abeed-cd62-44f6-9112-582474f2b73b\",\"type\":\"BoxZoomTool\"},{\"id\":\"074d877a-91c6-481f-a65b-ed8fdf3900cc\",\"type\":\"SaveTool\"},{\"id\":\"ef10f2b5-593d-44c2-9537-b8e0ba1b09b8\",\"type\":\"ResetTool\"},{\"id\":\"ae59150e-42a5-4f8b-8ae2-c9423ee69889\",\"type\":\"HelpTool\"},{\"id\":\"8049767e-a430-47b8-8aed-ecde6122024e\",\"type\":\"PanTool\"},{\"id\":\"ec49a18a-9a19-450f-9057-a4180871597d\",\"type\":\"WheelZoomTool\"},{\"id\":\"7ebf8e7a-a548-41d1-af66-02d232792835\",\"type\":\"BoxZoomTool\"},{\"id\":\"0f81c601-398b-46b0-886b-bef424a70534\",\"type\":\"SaveTool\"},{\"id\":\"c5d68ac6-b068-4e2c-85ae-967508d73709\",\"type\":\"ResetTool\"},{\"id\":\"843efbb3-4edc-4e60-b15e-9155cc3a4cf5\",\"type\":\"HelpTool\"},{\"id\":\"b2dfad1c-f8bb-42d5-bb08-6770caa62082\",\"type\":\"PanTool\"},{\"id\":\"0935ecd4-3b9b-4279-a5e3-0017561adc61\",\"type\":\"WheelZoomTool\"},{\"id\":\"eefbe134-3904-4839-9966-ee82d30d330f\",\"type\":\"BoxZoomTool\"},{\"id\":\"b0904317-8f6b-4319-a36c-146c9522041a\",\"type\":\"SaveTool\"},{\"id\":\"c069e30a-9a07-4f0d-b1b0-1265772707c6\",\"type\":\"ResetTool\"},{\"id\":\"d205e5a1-efbb-4c26-bc7d-5435f618200e\",\"type\":\"HelpTool\"}]},\"id\":\"57b62109-ff7c-415e-b801-53effc4ba243\",\"type\":\"ProxyToolbar\"},{\"attributes\":{\"toolbar\":{\"id\":\"57b62109-ff7c-415e-b801-53effc4ba243\",\"type\":\"ProxyToolbar\"},\"toolbar_location\":\"above\"},\"id\":\"7dea0c28-67f7-4c1e-819f-0b82351abe11\",\"type\":\"ToolbarBox\"},{\"attributes\":{},\"id\":\"ef10f2b5-593d-44c2-9537-b8e0ba1b09b8\",\"type\":\"ResetTool\"},{\"attributes\":{},\"id\":\"8609fad5-5747-441c-86e4-13d235ecde64\",\"type\":\"UnionRenderers\"},{\"attributes\":{},\"id\":\"0109b67b-ecea-4eab-a0b6-8438b28865c4\",\"type\":\"BasicTickFormatter\"},{\"attributes\":{\"label\":{\"value\":\"CLIRAD (single-run)\"},\"renderers\":[{\"id\":\"857183e6-dac5-4e49-bdb2-5d2cd794b93b\",\"type\":\"GlyphRenderer\"}]},\"id\":\"c88edfb1-dd5b-483b-8f3a-b02e63e4b735\",\"type\":\"LegendItem\"},{\"attributes\":{\"data_source\":{\"id\":\"8dbdf397-edfb-4703-9211-89422a3bb0d9\",\"type\":\"ColumnDataSource\"},\"glyph\":{\"id\":\"d004bbe3-9637-4227-a07e-4a8345d6aa26\",\"type\":\"Line\"},\"hover_glyph\":null,\"muted_glyph\":null,\"nonselection_glyph\":{\"id\":\"846ae0da-1856-41fa-a044-530e35bc5848\",\"type\":\"Line\"},\"selection_glyph\":null,\"view\":{\"id\":\"61337509-cd31-4cb9-9bef-d20497af8937\",\"type\":\"CDSView\"}},\"id\":\"1905b690-52f0-4cc7-9f16-b0f523fae277\",\"type\":\"GlyphRenderer\"},{\"attributes\":{\"line_alpha\":0.6,\"line_color\":\"#377eb8\",\"line_dash\":[6],\"line_width\":5,\"x\":{\"field\":\"x\"},\"y\":{\"field\":\"y\"}},\"id\":\"f77389d2-e5f5-4617-83cd-856799d09ea7\",\"type\":\"Line\"},{\"attributes\":{},\"id\":\"626680e8-9574-40d4-a0b1-be4a962de316\",\"type\":\"Selection\"},{\"attributes\":{\"overlay\":{\"id\":\"d410c00e-7bee-4e7d-8b00-470f3a1e9d45\",\"type\":\"BoxAnnotation\"}},\"id\":\"c13abeed-cd62-44f6-9112-582474f2b73b\",\"type\":\"BoxZoomTool\"},{\"attributes\":{\"plot\":null,\"text\":\"\"},\"id\":\"8aa785e1-29ba-4d8d-aa8c-f94eeb30b883\",\"type\":\"Title\"},{\"attributes\":{\"callback\":null,\"data\":{\"x\":{\"__ndarray__\":\"+91suA2FRUDEhDu3BNNCQJGH2RpTtEFAEt02UCgdQEDVxLSQChY8QIhbJRqUKjdAYVUzOB7pMUDTM3KX3QQqQEK9BNB3SCJA6NjTUF6dGkBKgvPiLzsVQL0Sjm8nBhJA/DvUw9qUDUDkg8wWHTEDQPqPmlKB6f4/+3yWOi+sBUBavERq4UMMQLVhH27xnBBAfwWOfm3eE0DummfvB08ZQAaUixg3DCFArKetlIYCJ0Cs7TuihhkoQB+fXFuzhCRAQi/iYYwnIUBZuHizlFYcQC1AvJM7WRhAg3T9xFgsFEA0HebAUMcPQFKxsGLKOwlAuRjZ7ZQ7BUAmhydNp3kAQNl7ZywnsfQ/bePIZtQK5j8GONhrav7QPxDDyUYoicG/tW4zfJCS3r80aRMuziHYv2KS/mjbLl+/fwV3ehhXxT+O1XwUPq7YP7JEdD4ju+w/6QCXA6269j/1X/IRTNf9P3eY3xv76wBA9MudvM6EAUC4nZXZbkcCQJZjjxetTAJAN+UlS5cWAUCXT334HoEAQPbZ2qEuTwBAxddFMwkvAEAgAG4tOAQAQIwWdH+UnP8/BWSLQ0Y//z+ZMGChRAf/P7Wo5GjCDf8/mQ+WHj5C/z+7FkMl7WP/Px29Y3brZP8/oy7TqCBM/z/lglFOVvr+P18JCfCU2P0/cmhc+6zJ/D8DIuChwy/6P76YinnXm/c/Z9o81bPt9T/nsnvwZn70P/MHGE0DxPM/L8l+pxuV8z/YaqQova7zP2CtsiQ0EfQ/P+H9lMkD9T+yagFyKrv2P/6hXMS+pwFA\",\"dtype\":\"float64\",\"shape\":[75]},\"y\":{\"__ndarray__\":\"GhExyth1ND/Sv8nbtpRIP2vylNV0PVE/aTum7souWD/At0SJ8fVgPw3Iuahxymc/MSNhhJWvcD/bTfBN02d3P2zb5nxnaoA/CD5h5MAGhz8NmeH1TyaQP+zrCsc9p5Y/LbKd76fGnz/bLW5ISEmmPww9YvTcQq8/JV2OstnstT8Er5Y7M8G+P0c+r3jqkcU/5h99k6ZBzj88bCIzFzjVP4enV8oyxN0//yH99nXg5D8qOpLLf0jtP5kqGJXUifQ/c9cS8kHP/D+/DpwzojQEQIEmwoanVwxA4lgXt9HgE0BSSZ2AJuIbQAMJih9jjiNA5q4l5INuK0AwTKYKRj0zQNv5fmq8/DpAaCJseHrtQkB/+zpwzoxKQM3MzMzMeFJAZmZmZmZqWEAAAAAAAFxeQM3MzMzMJmJAmpmZmZkfZUBmZmZmZhhoQDMzMzMzEWtAAAAAAAAKbkBmZmZmZoFwQM3MzMzM/XFAMzMzMzN6c0CamZmZmfZ0QAAAAAAAc3ZAZmZmZmbvd0DNzMzMzGt5QDMzMzMz6HpAmpmZmZlkfEAAAAAAAOF9QGZmZmZmXX9AZmZmZuZsgECamZmZGSuBQM3MzMxM6YFAAAAAAICngkAzMzMzs2WDQGZmZmbmI4RAmpmZmRnihEDNzMzMTKCFQAAAAACAXoZAMzMzM7Mch0BmZmZm5tqHQJqZmZkZmYhAzczMzExXiUAAAAAAgBWKQDMzMzOz04pAZmZmZuaRi0CamZmZGVCMQM3MzMxMDo1AAAAAAIDMjUAzMzMzs4qOQGZmZmbmSI9A\",\"dtype\":\"float64\",\"shape\":[75]}},\"selected\":{\"id\":\"59457271-744d-44cc-acce-92a57393332e\",\"type\":\"Selection\"},\"selection_policy\":{\"id\":\"c1023c18-7942-42b2-a8fe-bfd228828129\",\"type\":\"UnionRenderers\"}},\"id\":\"97994f33-9f4f-4852-beea-360f25fef31e\",\"type\":\"ColumnDataSource\"},{\"attributes\":{\"callback\":null,\"end\":0.01,\"start\":1020},\"id\":\"3f48e20a-3e94-45ae-930d-e4ffc7422992\",\"type\":\"Range1d\"},{\"attributes\":{\"data_source\":{\"id\":\"06a6b236-7eb5-4f5a-888a-a412c15310d3\",\"type\":\"ColumnDataSource\"},\"glyph\":{\"id\":\"84b64b70-5762-4e7f-a6af-f17b69a48258\",\"type\":\"Line\"},\"hover_glyph\":null,\"muted_glyph\":null,\"nonselection_glyph\":{\"id\":\"1d61d7e1-9fc3-4313-8696-980c97a5a8ac\",\"type\":\"Line\"},\"selection_glyph\":null,\"view\":{\"id\":\"ccf755aa-0bcf-4f17-9294-a3e8196750d1\",\"type\":\"CDSView\"}},\"id\":\"61992a2f-d882-4375-9bec-dd7df37764b8\",\"type\":\"GlyphRenderer\"},{\"attributes\":{},\"id\":\"e752f7cd-fcc1-40c3-b088-2be7f925ff6b\",\"type\":\"UnionRenderers\"},{\"attributes\":{},\"id\":\"1d7a89a3-a11a-4177-98d1-1d2c950d8b08\",\"type\":\"Selection\"},{\"attributes\":{},\"id\":\"074d877a-91c6-481f-a65b-ed8fdf3900cc\",\"type\":\"SaveTool\"},{\"attributes\":{},\"id\":\"b4467375-1711-44c0-a546-b63385c688d9\",\"type\":\"BasicTickFormatter\"},{\"attributes\":{\"children\":[{\"id\":\"0d214226-1742-4f69-aba3-8e1d83619fa4\",\"subtype\":\"Figure\",\"type\":\"Plot\"},{\"id\":\"2a490304-c63c-497e-a3d9-953a30c608a7\",\"subtype\":\"Figure\",\"type\":\"Plot\"},{\"id\":\"56b9a45a-c7cb-479d-9b1f-43e630db5574\",\"subtype\":\"Figure\",\"type\":\"Plot\"}]},\"id\":\"c1e52663-055c-4087-8e18-8c45d37e8a42\",\"type\":\"Row\"},{\"attributes\":{\"source\":{\"id\":\"06a6b236-7eb5-4f5a-888a-a412c15310d3\",\"type\":\"ColumnDataSource\"}},\"id\":\"ccf755aa-0bcf-4f17-9294-a3e8196750d1\",\"type\":\"CDSView\"},{\"attributes\":{},\"id\":\"9800e4d7-61a5-47cd-ad93-790b75b6cbde\",\"type\":\"PanTool\"},{\"attributes\":{\"ticker\":null},\"id\":\"f1548884-0284-4dca-97d6-f1085e74b881\",\"type\":\"LogTickFormatter\"},{\"attributes\":{\"bottom_units\":\"screen\",\"fill_alpha\":{\"value\":0.5},\"fill_color\":{\"value\":\"lightgrey\"},\"left_units\":\"screen\",\"level\":\"overlay\",\"line_alpha\":{\"value\":1.0},\"line_color\":{\"value\":\"black\"},\"line_dash\":[4,4],\"line_width\":{\"value\":2},\"plot\":null,\"render_mode\":\"css\",\"right_units\":\"screen\",\"top_units\":\"screen\"},\"id\":\"d410c00e-7bee-4e7d-8b00-470f3a1e9d45\",\"type\":\"BoxAnnotation\"},{\"attributes\":{},\"id\":\"43f3a5e4-366e-4c9a-9294-702b0cb7c80c\",\"type\":\"Selection\"},{\"attributes\":{},\"id\":\"a1003cc3-ef0e-44b8-8644-b02930924789\",\"type\":\"WheelZoomTool\"},{\"attributes\":{},\"id\":\"01749d21-4bf5-409b-b9e5-c4897c7389c9\",\"type\":\"UnionRenderers\"},{\"attributes\":{\"plot\":null,\"text\":\"\"},\"id\":\"d8151f60-3999-4729-b835-52f34a2e0c48\",\"type\":\"Title\"},{\"attributes\":{\"line_alpha\":0.1,\"line_color\":\"#1f77b4\",\"line_width\":1.5,\"x\":{\"field\":\"x\"},\"y\":{\"field\":\"y\"}},\"id\":\"1d61d7e1-9fc3-4313-8696-980c97a5a8ac\",\"type\":\"Line\"},{\"attributes\":{\"line_alpha\":0.6,\"line_color\":\"#377eb8\",\"line_dash\":[6],\"line_width\":5,\"x\":{\"field\":\"x\"},\"y\":{\"field\":\"y\"}},\"id\":\"d004bbe3-9637-4227-a07e-4a8345d6aa26\",\"type\":\"Line\"},{\"attributes\":{\"label\":{\"value\":\"CRD\"},\"renderers\":[{\"id\":\"67a842d6-2458-4962-9529-9bfe45deae0b\",\"type\":\"GlyphRenderer\"},{\"id\":\"02407532-3e8c-4826-b3a6-e49c3f8969c7\",\"type\":\"GlyphRenderer\"}]},\"id\":\"59611d70-1fa8-43d4-a664-8b5ad5c3dac6\",\"type\":\"LegendItem\"},{\"attributes\":{\"line_alpha\":0.1,\"line_color\":\"#1f77b4\",\"line_dash\":[6],\"line_width\":5,\"x\":{\"field\":\"x\"},\"y\":{\"field\":\"y\"}},\"id\":\"d278fb7f-5d5f-48ec-bfa0-defad527cfe7\",\"type\":\"Line\"},{\"attributes\":{\"plot\":null,\"text\":\"\"},\"id\":\"891c07f3-29d7-4ec3-8866-602232765364\",\"type\":\"Title\"},{\"attributes\":{\"label\":{\"value\":\"CLIRAD (single-run) - CRD\"},\"renderers\":[{\"id\":\"fe65171f-85d1-4a28-ac8c-569b60124d67\",\"type\":\"GlyphRenderer\"},{\"id\":\"61992a2f-d882-4375-9bec-dd7df37764b8\",\"type\":\"GlyphRenderer\"}]},\"id\":\"15a81d35-15a8-4fa9-839d-94d7d57365ba\",\"type\":\"LegendItem\"},{\"attributes\":{\"children\":[{\"id\":\"c1e52663-055c-4087-8e18-8c45d37e8a42\",\"type\":\"Row\"}]},\"id\":\"2c8e8cf2-cd8d-497a-bc12-66235e7ee5b3\",\"type\":\"Column\"},{\"attributes\":{},\"id\":\"ebaa0e6f-c1a0-4293-889c-77c06ec62a01\",\"type\":\"BasicTickFormatter\"},{\"attributes\":{},\"id\":\"ae59150e-42a5-4f8b-8ae2-c9423ee69889\",\"type\":\"HelpTool\"},{\"attributes\":{},\"id\":\"f934d554-ffef-4087-a919-0127bfc98878\",\"type\":\"Selection\"},{\"attributes\":{},\"id\":\"51427e10-2989-46ad-ad27-5cbb0db29361\",\"type\":\"Selection\"},{\"attributes\":{},\"id\":\"2ec7e1ed-22ea-4855-a8ce-8e1f44753faf\",\"type\":\"BasicTickFormatter\"},{\"attributes\":{\"ticker\":null},\"id\":\"a0829fa1-c2a4-4549-b0bb-9183a66761c4\",\"type\":\"LogTickFormatter\"},{\"attributes\":{\"line_alpha\":0.1,\"line_color\":\"#1f77b4\",\"line_dash\":[6],\"line_width\":5,\"x\":{\"field\":\"x\"},\"y\":{\"field\":\"y\"}},\"id\":\"846ae0da-1856-41fa-a044-530e35bc5848\",\"type\":\"Line\"},{\"attributes\":{},\"id\":\"47689f7a-34ff-4134-83d9-5e686d170721\",\"type\":\"UnionRenderers\"},{\"attributes\":{\"data_source\":{\"id\":\"6f4e65de-7420-4fa5-8e59-4cc224e37296\",\"type\":\"ColumnDataSource\"},\"glyph\":{\"id\":\"62da198a-5062-480a-b661-54e7c849e828\",\"type\":\"Line\"},\"hover_glyph\":null,\"muted_glyph\":null,\"nonselection_glyph\":{\"id\":\"5b73587f-d716-4c43-a76b-5c00c78e9299\",\"type\":\"Line\"},\"selection_glyph\":null,\"view\":{\"id\":\"22ada380-d416-4874-9ab8-fda4c14110e8\",\"type\":\"CDSView\"}},\"id\":\"02407532-3e8c-4826-b3a6-e49c3f8969c7\",\"type\":\"GlyphRenderer\"},{\"attributes\":{},\"id\":\"f0d27487-6dda-4294-9c2a-21905700b68b\",\"type\":\"Selection\"},{\"attributes\":{},\"id\":\"4a07ec9c-e786-4ef3-9c91-56469ea90ebd\",\"type\":\"UnionRenderers\"},{\"attributes\":{},\"id\":\"a905c7d1-e441-48fc-bce1-17b44ee60967\",\"type\":\"UnionRenderers\"},{\"attributes\":{\"callback\":null,\"data\":{\"x\":{\"__ndarray__\":\"+91suA2FRUDEhDu3BNNCQJGH2RpTtEFAEt02UCgdQEDVxLSQChY8QIhbJRqUKjdAYVUzOB7pMUDTM3KX3QQqQEK9BNB3SCJA6NjTUF6dGkBKgvPiLzsVQL0Sjm8nBhJA/DvUw9qUDUDkg8wWHTEDQPqPmlKB6f4/+3yWOi+sBUBavERq4UMMQLVhH27xnBBAfwWOfm3eE0DummfvB08ZQAaUixg3DCFArKetlIYCJ0Cs7TuihhkoQB+fXFuzhCRAQi/iYYwnIUBZuHizlFYcQC1AvJM7WRhAg3T9xFgsFEA0HebAUMcPQFKxsGLKOwlAuRjZ7ZQ7BUAmhydNp3kAQNl7ZywnsfQ/bePIZtQK5j8GONhrav7QPxDDyUYoicG/tW4zfJCS3r80aRMuziHYv2KS/mjbLl+/fwV3ehhXxT+O1XwUPq7YP7JEdD4ju+w/6QCXA6269j/1X/IRTNf9P3eY3xv76wBA9MudvM6EAUC4nZXZbkcCQJZjjxetTAJAN+UlS5cWAUCXT334HoEAQPbZ2qEuTwBAxddFMwkvAEAgAG4tOAQAQIwWdH+UnP8/BWSLQ0Y//z+ZMGChRAf/P7Wo5GjCDf8/mQ+WHj5C/z+7FkMl7WP/Px29Y3brZP8/oy7TqCBM/z/lglFOVvr+P18JCfCU2P0/cmhc+6zJ/D8DIuChwy/6P76YinnXm/c/Z9o81bPt9T/nsnvwZn70P/MHGE0DxPM/L8l+pxuV8z/YaqQova7zP2CtsiQ0EfQ/P+H9lMkD9T+yagFyKrv2P/6hXMS+pwFA\",\"dtype\":\"float64\",\"shape\":[75]},\"y\":{\"__ndarray__\":\"GhExyth1ND/Sv8nbtpRIP2vylNV0PVE/aTum7souWD/At0SJ8fVgPw3Iuahxymc/MSNhhJWvcD/bTfBN02d3P2zb5nxnaoA/CD5h5MAGhz8NmeH1TyaQP+zrCsc9p5Y/LbKd76fGnz/bLW5ISEmmPww9YvTcQq8/JV2OstnstT8Er5Y7M8G+P0c+r3jqkcU/5h99k6ZBzj88bCIzFzjVP4enV8oyxN0//yH99nXg5D8qOpLLf0jtP5kqGJXUifQ/c9cS8kHP/D+/DpwzojQEQIEmwoanVwxA4lgXt9HgE0BSSZ2AJuIbQAMJih9jjiNA5q4l5INuK0AwTKYKRj0zQNv5fmq8/DpAaCJseHrtQkB/+zpwzoxKQM3MzMzMeFJAZmZmZmZqWEAAAAAAAFxeQM3MzMzMJmJAmpmZmZkfZUBmZmZmZhhoQDMzMzMzEWtAAAAAAAAKbkBmZmZmZoFwQM3MzMzM/XFAMzMzMzN6c0CamZmZmfZ0QAAAAAAAc3ZAZmZmZmbvd0DNzMzMzGt5QDMzMzMz6HpAmpmZmZlkfEAAAAAAAOF9QGZmZmZmXX9AZmZmZuZsgECamZmZGSuBQM3MzMxM6YFAAAAAAICngkAzMzMzs2WDQGZmZmbmI4RAmpmZmRnihEDNzMzMTKCFQAAAAACAXoZAMzMzM7Mch0BmZmZm5tqHQJqZmZkZmYhAzczMzExXiUAAAAAAgBWKQDMzMzOz04pAZmZmZuaRi0CamZmZGVCMQM3MzMxMDo1AAAAAAIDMjUAzMzMzs4qOQGZmZmbmSI9A\",\"dtype\":\"float64\",\"shape\":[75]}},\"selected\":{\"id\":\"43f3a5e4-366e-4c9a-9294-702b0cb7c80c\",\"type\":\"Selection\"},\"selection_policy\":{\"id\":\"8609fad5-5747-441c-86e4-13d235ecde64\",\"type\":\"UnionRenderers\"}},\"id\":\"8dbdf397-edfb-4703-9211-89422a3bb0d9\",\"type\":\"ColumnDataSource\"},{\"attributes\":{\"fill_alpha\":{\"value\":0.7},\"fill_color\":{\"value\":\"#984ea3\"},\"line_alpha\":{\"value\":0.7},\"line_color\":{\"value\":\"#984ea3\"},\"x\":{\"field\":\"x\"},\"y\":{\"field\":\"y\"}},\"id\":\"85151823-9f2a-416e-9837-30684be654c8\",\"type\":\"Circle\"},{\"attributes\":{\"line_alpha\":0.1,\"line_color\":\"#1f77b4\",\"line_width\":1.5,\"x\":{\"field\":\"x\"},\"y\":{\"field\":\"y\"}},\"id\":\"9d948e6f-5b6c-4329-921a-0516801f4446\",\"type\":\"Line\"},{\"attributes\":{\"source\":{\"id\":\"1f7ec40f-d3ef-4a56-bd83-b0e2225d03de\",\"type\":\"ColumnDataSource\"}},\"id\":\"eedc9830-4ed0-4388-9c81-4b13f3dfb7ed\",\"type\":\"CDSView\"},{\"attributes\":{\"callback\":null,\"end\":2.3923471759882906,\"start\":-0.5061118456772901},\"id\":\"6ab5c854-5e42-48ea-b222-6f45823eb937\",\"type\":\"Range1d\"},{\"attributes\":{\"callback\":null,\"data\":{\"x\":{\"__ndarray__\":\"R/KIaN7AVEClCeJMyPNGQOvRhpxr30JAptxzhxx4PkA7SssMElA4QK6Bp3CyUDNAsVXpjES9LkBFhUV0+5coQMHYwqbbySNA6f09nM3nH0CaSd/3eYoZQDmgiAOW8BNAPYqARh3eDEBkm4vCgvr+P9D+5tWhQfY/P8DwKRnSAkBq38kb17ILQDT7IWuSsxFAUr2Rjm0FFkAinq3s9XgbQGCHwtYcqSFAG64kT303J0C7dRDneyooQD9JYrbK8yRA9S3bneHhIUAIymSuUMMcQIkHLe6VEBdAAau3cITREkA6CiNvkQIPQJU39ki7IQlAaAvwok1UA0BXLQiS4+L7P0xzDpJ2hPI/NNuPGMbJ5z91mUVYxqfSPxqwUPSxZca/G11peifD3L8QzNj5t2jTvwzOozTL360/SPJ4VI1VzD9KJ0nXEIncP8yDdlvHt+4/Et49nYLW9z++2teD4Jn+P+568eH/bwFALf5D9lmAAkCiZAicVOkCQPPT4jNKxwJAOjp3wTzBAUBSQsKNGisBQG4OmjqJwQBAJ3sZoHFuAEA5Ar0Sdi0AQGy4rw5+9f8/7W4nSrC3/z8mPr8zj4T/P4UYRHCQS/8/embVKYcF/z+5YXG+LLP+P/qb8BVUgf4/KvafTtyO/j/avAK1Ppv+PwJV9VVm2P0/JFtYlU/n/D9sN+q2fiX6Pw44e41PNPc/Opt+Z/wN9T+x3vcSW1vzP9ofvWQJlvI/8sciQQBW8j80sfkQa17yPzg5qng2r/I/Oh14WJBh8z+VZjnpctj0P6CcrSuCqQBA\",\"dtype\":\"float64\",\"shape\":[75]},\"y\":{\"__ndarray__\":\"GhExyth1ND/Sv8nbtpRIP2vylNV0PVE/aTum7souWD/At0SJ8fVgPw3Iuahxymc/MSNhhJWvcD/bTfBN02d3P2zb5nxnaoA/CD5h5MAGhz8NmeH1TyaQP+zrCsc9p5Y/LbKd76fGnz/bLW5ISEmmPww9YvTcQq8/JV2OstnstT8Er5Y7M8G+P0c+r3jqkcU/5h99k6ZBzj88bCIzFzjVP4enV8oyxN0//yH99nXg5D8qOpLLf0jtP5kqGJXUifQ/c9cS8kHP/D+/DpwzojQEQIEmwoanVwxA4lgXt9HgE0BSSZ2AJuIbQAMJih9jjiNA5q4l5INuK0AwTKYKRj0zQNv5fmq8/DpAaCJseHrtQkB/+zpwzoxKQM3MzMzMeFJAZmZmZmZqWEAAAAAAAFxeQM3MzMzMJmJAmpmZmZkfZUBmZmZmZhhoQDMzMzMzEWtAAAAAAAAKbkBmZmZmZoFwQM3MzMzM/XFAMzMzMzN6c0CamZmZmfZ0QAAAAAAAc3ZAZmZmZmbvd0DNzMzMzGt5QDMzMzMz6HpAmpmZmZlkfEAAAAAAAOF9QGZmZmZmXX9AZmZmZuZsgECamZmZGSuBQM3MzMxM6YFAAAAAAICngkAzMzMzs2WDQGZmZmbmI4RAmpmZmRnihEDNzMzMTKCFQAAAAACAXoZAMzMzM7Mch0BmZmZm5tqHQJqZmZkZmYhAzczMzExXiUAAAAAAgBWKQDMzMzOz04pAZmZmZuaRi0CamZmZGVCMQM3MzMxMDo1AAAAAAIDMjUAzMzMzs4qOQGZmZmbmSI9A\",\"dtype\":\"float64\",\"shape\":[75]}},\"selected\":{\"id\":\"f0d27487-6dda-4294-9c2a-21905700b68b\",\"type\":\"Selection\"},\"selection_policy\":{\"id\":\"01749d21-4bf5-409b-b9e5-c4897c7389c9\",\"type\":\"UnionRenderers\"}},\"id\":\"5091733d-c3c7-4d6b-a95b-c777167bd38c\",\"type\":\"ColumnDataSource\"},{\"attributes\":{\"fill_alpha\":{\"value\":0.7},\"fill_color\":{\"value\":\"#4daf4a\"},\"line_alpha\":{\"value\":0.7},\"line_color\":{\"value\":\"#4daf4a\"},\"x\":{\"field\":\"x\"},\"y\":{\"field\":\"y\"}},\"id\":\"c3996034-dcfc-42a3-8d08-8a76e44a6667\",\"type\":\"Circle\"},{\"attributes\":{\"line_alpha\":0.8,\"line_color\":\"#984ea3\",\"line_width\":1.5,\"x\":{\"field\":\"x\"},\"y\":{\"field\":\"y\"}},\"id\":\"84b64b70-5762-4e7f-a6af-f17b69a48258\",\"type\":\"Line\"},{\"attributes\":{\"fill_alpha\":{\"value\":0.1},\"fill_color\":{\"value\":\"#1f77b4\"},\"line_alpha\":{\"value\":0.1},\"line_color\":{\"value\":\"#1f77b4\"},\"x\":{\"field\":\"x\"},\"y\":{\"field\":\"y\"}},\"id\":\"0c6abd12-e67d-4631-bb7b-9e383ccfa92b\",\"type\":\"Circle\"},{\"attributes\":{\"source\":{\"id\":\"5091733d-c3c7-4d6b-a95b-c777167bd38c\",\"type\":\"ColumnDataSource\"}},\"id\":\"e10a3bff-2f5a-4769-80f8-0a75f6492f0b\",\"type\":\"CDSView\"},{\"attributes\":{\"callback\":null,\"data\":{\"x\":{\"__ndarray__\":\"lAalGK/8Q8CGE5pWDoMgwKSl1BqIsQLA3tedj0Ej/D/B1EsfxC8OQNnO7ksNzw5ASFT1jd9TBED76MoyIs7mP/K34Ws9Fui/B5SoLb0p9b9BHa9TKD3xv87XqD/ppt6/njd2qq/Xtj+IsTWs3Z7dP1IiZ/m+T+E/3uUthbDQ1j8unlvPSSGyPwqYKdAPatG/ob4dgAA44b+hGTDqb0/hvy5r3sa3nNO/PTeDO117ur+OD4jURPWgv4GIasHWxcu/WtYff6dK17+vawS7/i67v0WK81haitQ/KZhcREWt1T8/X2I46pe4PzW+eboZD4o/D9WQrnR0zj/ggxshrEHUP2hEyNKEZcE/X3xvHBvvq7/PFtbGvpWavye0G7YmcqM/gBmhHJD2nL+RdOrQWOSyv57C6w9C2a6/J7MHaNP5q7/hjWIWltauv5rxI9BByq+/qdJtmlm9sb8lWa88jlKov85OPMKYgLC//kbGNGdxv78v3VhOuDy0v/UW3BRHp66/jqAqyq5Utb8wV56ocj+1v8sdzS+mlqy/NrHRaTa0n7/4DIGn8p6UvyR46M5jOpa/WroCp4Eanr9uY8OXpFKfvyXpt68D546/m49UYHpbjj9RoDbaDBimP3AkZA7scqw/7g5nRouopz8Fg7FT5sWXPwCwL9oJTQc/RLPy+5mifb8AMtXr1YlkP+Yr2AP74Zk/tOXHt+32qz9ZQz3YvTCyP5KBroWe37I/zRPAZbbxsz80mqt6IQW1P3RCh8DaH7Y/QEBcyJMjuj/gQYCMeCu+P7+r4BWTx78/\",\"dtype\":\"float64\",\"shape\":[75]},\"y\":{\"__ndarray__\":\"GhExyth1ND/Sv8nbtpRIP2vylNV0PVE/aTum7souWD/At0SJ8fVgPw3Iuahxymc/MSNhhJWvcD/bTfBN02d3P2zb5nxnaoA/CD5h5MAGhz8NmeH1TyaQP+zrCsc9p5Y/LbKd76fGnz/bLW5ISEmmPww9YvTcQq8/JV2OstnstT8Er5Y7M8G+P0c+r3jqkcU/5h99k6ZBzj88bCIzFzjVP4enV8oyxN0//yH99nXg5D8qOpLLf0jtP5kqGJXUifQ/c9cS8kHP/D+/DpwzojQEQIEmwoanVwxA4lgXt9HgE0BSSZ2AJuIbQAMJih9jjiNA5q4l5INuK0AwTKYKRj0zQNv5fmq8/DpAaCJseHrtQkB/+zpwzoxKQM3MzMzMeFJAZmZmZmZqWEAAAAAAAFxeQM3MzMzMJmJAmpmZmZkfZUBmZmZmZhhoQDMzMzMzEWtAAAAAAAAKbkBmZmZmZoFwQM3MzMzM/XFAMzMzMzN6c0CamZmZmfZ0QAAAAAAAc3ZAZmZmZmbvd0DNzMzMzGt5QDMzMzMz6HpAmpmZmZlkfEAAAAAAAOF9QGZmZmZmXX9AZmZmZuZsgECamZmZGSuBQM3MzMxM6YFAAAAAAICngkAzMzMzs2WDQGZmZmbmI4RAmpmZmRnihEDNzMzMTKCFQAAAAACAXoZAMzMzM7Mch0BmZmZm5tqHQJqZmZkZmYhAzczMzExXiUAAAAAAgBWKQDMzMzOz04pAZmZmZuaRi0CamZmZGVCMQM3MzMxMDo1AAAAAAIDMjUAzMzMzs4qOQGZmZmbmSI9A\",\"dtype\":\"float64\",\"shape\":[75]}},\"selected\":{\"id\":\"51427e10-2989-46ad-ad27-5cbb0db29361\",\"type\":\"Selection\"},\"selection_policy\":{\"id\":\"a905c7d1-e441-48fc-bce1-17b44ee60967\",\"type\":\"UnionRenderers\"}},\"id\":\"0aa2dfb6-4c75-4bfe-89a9-4299696942bc\",\"type\":\"ColumnDataSource\"},{\"attributes\":{\"line_color\":\"#4daf4a\",\"line_width\":1.5,\"x\":{\"field\":\"x\"},\"y\":{\"field\":\"y\"}},\"id\":\"3ed9aa55-0191-4e47-9d7d-ca615f1f96b9\",\"type\":\"Line\"},{\"attributes\":{\"fill_alpha\":{\"value\":0.1},\"fill_color\":{\"value\":\"#1f77b4\"},\"line_alpha\":{\"value\":0.1},\"line_color\":{\"value\":\"#1f77b4\"},\"x\":{\"field\":\"x\"},\"y\":{\"field\":\"y\"}},\"id\":\"5bcda9cf-556a-4a2b-a75c-ef48f4158237\",\"type\":\"Circle\"},{\"attributes\":{},\"id\":\"59457271-744d-44cc-acce-92a57393332e\",\"type\":\"Selection\"},{\"attributes\":{\"callback\":null,\"data\":{\"x\":{\"__ndarray__\":\"lAalGK/8Q8CGE5pWDoMgwKSl1BqIsQLA3tedj0Ej/D/B1EsfxC8OQNnO7ksNzw5ASFT1jd9TBED76MoyIs7mP/K34Ws9Fui/B5SoLb0p9b9BHa9TKD3xv87XqD/ppt6/njd2qq/Xtj+IsTWs3Z7dP1IiZ/m+T+E/3uUthbDQ1j8unlvPSSGyPwqYKdAPatG/ob4dgAA44b+hGTDqb0/hvy5r3sa3nNO/PTeDO117ur+OD4jURPWgv4GIasHWxcu/WtYff6dK17+vawS7/i67v0WK81haitQ/KZhcREWt1T8/X2I46pe4PzW+eboZD4o/D9WQrnR0zj/ggxshrEHUP2hEyNKEZcE/X3xvHBvvq7/PFtbGvpWavye0G7YmcqM/gBmhHJD2nL+RdOrQWOSyv57C6w9C2a6/J7MHaNP5q7/hjWIWltauv5rxI9BByq+/qdJtmlm9sb8lWa88jlKov85OPMKYgLC//kbGNGdxv78v3VhOuDy0v/UW3BRHp66/jqAqyq5Utb8wV56ocj+1v8sdzS+mlqy/NrHRaTa0n7/4DIGn8p6UvyR46M5jOpa/WroCp4Eanr9uY8OXpFKfvyXpt68D546/m49UYHpbjj9RoDbaDBimP3AkZA7scqw/7g5nRouopz8Fg7FT5sWXPwCwL9oJTQc/RLPy+5mifb8AMtXr1YlkP+Yr2AP74Zk/tOXHt+32qz9ZQz3YvTCyP5KBroWe37I/zRPAZbbxsz80mqt6IQW1P3RCh8DaH7Y/QEBcyJMjuj/gQYCMeCu+P7+r4BWTx78/\",\"dtype\":\"float64\",\"shape\":[75]},\"y\":{\"__ndarray__\":\"GhExyth1ND/Sv8nbtpRIP2vylNV0PVE/aTum7souWD/At0SJ8fVgPw3Iuahxymc/MSNhhJWvcD/bTfBN02d3P2zb5nxnaoA/CD5h5MAGhz8NmeH1TyaQP+zrCsc9p5Y/LbKd76fGnz/bLW5ISEmmPww9YvTcQq8/JV2OstnstT8Er5Y7M8G+P0c+r3jqkcU/5h99k6ZBzj88bCIzFzjVP4enV8oyxN0//yH99nXg5D8qOpLLf0jtP5kqGJXUifQ/c9cS8kHP/D+/DpwzojQEQIEmwoanVwxA4lgXt9HgE0BSSZ2AJuIbQAMJih9jjiNA5q4l5INuK0AwTKYKRj0zQNv5fmq8/DpAaCJseHrtQkB/+zpwzoxKQM3MzMzMeFJAZmZmZmZqWEAAAAAAAFxeQM3MzMzMJmJAmpmZmZkfZUBmZmZmZhhoQDMzMzMzEWtAAAAAAAAKbkBmZmZmZoFwQM3MzMzM/XFAMzMzMzN6c0CamZmZmfZ0QAAAAAAAc3ZAZmZmZmbvd0DNzMzMzGt5QDMzMzMz6HpAmpmZmZlkfEAAAAAAAOF9QGZmZmZmXX9AZmZmZuZsgECamZmZGSuBQM3MzMxM6YFAAAAAAICngkAzMzMzs2WDQGZmZmbmI4RAmpmZmRnihEDNzMzMTKCFQAAAAACAXoZAMzMzM7Mch0BmZmZm5tqHQJqZmZkZmYhAzczMzExXiUAAAAAAgBWKQDMzMzOz04pAZmZmZuaRi0CamZmZGVCMQM3MzMxMDo1AAAAAAIDMjUAzMzMzs4qOQGZmZmbmSI9A\",\"dtype\":\"float64\",\"shape\":[75]}},\"selected\":{\"id\":\"acfa8fb4-8f96-48a5-8dcc-94eda3a40d3c\",\"type\":\"Selection\"},\"selection_policy\":{\"id\":\"48fb6de2-6140-4e0d-8b5f-b6db467faf2e\",\"type\":\"UnionRenderers\"}},\"id\":\"06a6b236-7eb5-4f5a-888a-a412c15310d3\",\"type\":\"ColumnDataSource\"},{\"attributes\":{\"source\":{\"id\":\"0aa2dfb6-4c75-4bfe-89a9-4299696942bc\",\"type\":\"ColumnDataSource\"}},\"id\":\"0a4e977b-98eb-489d-b1e1-61995dc95d68\",\"type\":\"CDSView\"},{\"attributes\":{\"data_source\":{\"id\":\"5091733d-c3c7-4d6b-a95b-c777167bd38c\",\"type\":\"ColumnDataSource\"},\"glyph\":{\"id\":\"3ed9aa55-0191-4e47-9d7d-ca615f1f96b9\",\"type\":\"Line\"},\"hover_glyph\":null,\"muted_glyph\":null,\"nonselection_glyph\":{\"id\":\"9d948e6f-5b6c-4329-921a-0516801f4446\",\"type\":\"Line\"},\"selection_glyph\":null,\"view\":{\"id\":\"e10a3bff-2f5a-4769-80f8-0a75f6492f0b\",\"type\":\"CDSView\"}},\"id\":\"e105b6b5-80c8-4f08-aaa0-7c666c4e87d8\",\"type\":\"GlyphRenderer\"},{\"attributes\":{},\"id\":\"843efbb3-4edc-4e60-b15e-9155cc3a4cf5\",\"type\":\"HelpTool\"},{\"attributes\":{\"dimension\":1,\"plot\":{\"id\":\"0d214226-1742-4f69-aba3-8e1d83619fa4\",\"subtype\":\"Figure\",\"type\":\"Plot\"},\"ticker\":{\"id\":\"f531eb69-86ab-4cdc-89eb-e4128ee7afbf\",\"type\":\"BasicTicker\"}},\"id\":\"0e0b2dd6-97e4-4c93-9369-78dff1e54839\",\"type\":\"Grid\"},{\"attributes\":{\"items\":[{\"id\":\"c88edfb1-dd5b-483b-8f3a-b02e63e4b735\",\"type\":\"LegendItem\"},{\"id\":\"59611d70-1fa8-43d4-a664-8b5ad5c3dac6\",\"type\":\"LegendItem\"}],\"label_text_font_size\":{\"value\":\"8pt\"},\"location\":\"top_center\",\"orientation\":\"horizontal\",\"plot\":{\"id\":\"2a490304-c63c-497e-a3d9-953a30c608a7\",\"subtype\":\"Figure\",\"type\":\"Plot\"}},\"id\":\"2e975ff8-c9cb-49fd-9a70-fe33c06100b2\",\"type\":\"Legend\"},{\"attributes\":{\"callback\":null,\"end\":0.01,\"start\":1020},\"id\":\"a8601def-c8f3-46a6-bdaa-ffd42a6b8099\",\"type\":\"Range1d\"},{\"attributes\":{},\"id\":\"f531eb69-86ab-4cdc-89eb-e4128ee7afbf\",\"type\":\"BasicTicker\"},{\"attributes\":{},\"id\":\"0935ecd4-3b9b-4279-a5e3-0017561adc61\",\"type\":\"WheelZoomTool\"},{\"attributes\":{},\"id\":\"e2b20cab-de7b-4f73-aa49-73bdbe846698\",\"type\":\"LinearScale\"},{\"attributes\":{\"active_drag\":\"auto\",\"active_inspect\":\"auto\",\"active_scroll\":\"auto\",\"active_tap\":\"auto\",\"tools\":[{\"id\":\"8049767e-a430-47b8-8aed-ecde6122024e\",\"type\":\"PanTool\"},{\"id\":\"ec49a18a-9a19-450f-9057-a4180871597d\",\"type\":\"WheelZoomTool\"},{\"id\":\"7ebf8e7a-a548-41d1-af66-02d232792835\",\"type\":\"BoxZoomTool\"},{\"id\":\"0f81c601-398b-46b0-886b-bef424a70534\",\"type\":\"SaveTool\"},{\"id\":\"c5d68ac6-b068-4e2c-85ae-967508d73709\",\"type\":\"ResetTool\"},{\"id\":\"843efbb3-4edc-4e60-b15e-9155cc3a4cf5\",\"type\":\"HelpTool\"}]},\"id\":\"495d35ac-bd13-46d3-9b7e-7c28799eb9ec\",\"type\":\"Toolbar\"},{\"attributes\":{\"active_drag\":\"auto\",\"active_inspect\":\"auto\",\"active_scroll\":\"auto\",\"active_tap\":\"auto\",\"tools\":[{\"id\":\"b2dfad1c-f8bb-42d5-bb08-6770caa62082\",\"type\":\"PanTool\"},{\"id\":\"0935ecd4-3b9b-4279-a5e3-0017561adc61\",\"type\":\"WheelZoomTool\"},{\"id\":\"eefbe134-3904-4839-9966-ee82d30d330f\",\"type\":\"BoxZoomTool\"},{\"id\":\"b0904317-8f6b-4319-a36c-146c9522041a\",\"type\":\"SaveTool\"},{\"id\":\"c069e30a-9a07-4f0d-b1b0-1265772707c6\",\"type\":\"ResetTool\"},{\"id\":\"d205e5a1-efbb-4c26-bc7d-5435f618200e\",\"type\":\"HelpTool\"}]},\"id\":\"84e231fe-8852-4ded-b3bd-03e52683cccd\",\"type\":\"Toolbar\"},{\"attributes\":{\"source\":{\"id\":\"8dbdf397-edfb-4703-9211-89422a3bb0d9\",\"type\":\"ColumnDataSource\"}},\"id\":\"61337509-cd31-4cb9-9bef-d20497af8937\",\"type\":\"CDSView\"},{\"attributes\":{\"source\":{\"id\":\"c223a116-e4c2-402e-a3af-b9f821e54c05\",\"type\":\"ColumnDataSource\"}},\"id\":\"7e2b94ef-63f0-4574-abcf-2d1ec4e2e0d4\",\"type\":\"CDSView\"},{\"attributes\":{\"overlay\":{\"id\":\"93ae9355-f819-4186-ac23-ceca54998d90\",\"type\":\"BoxAnnotation\"}},\"id\":\"eefbe134-3904-4839-9966-ee82d30d330f\",\"type\":\"BoxZoomTool\"},{\"attributes\":{\"axis_label\":\"pressure [mb]\",\"formatter\":{\"id\":\"f1548884-0284-4dca-97d6-f1085e74b881\",\"type\":\"LogTickFormatter\"},\"plot\":{\"id\":\"56b9a45a-c7cb-479d-9b1f-43e630db5574\",\"subtype\":\"Figure\",\"type\":\"Plot\"},\"ticker\":{\"id\":\"b174a193-707e-45d9-b5a6-1a58300c57c1\",\"type\":\"LogTicker\"}},\"id\":\"a4af31b6-402b-4c7c-8081-cf596956f16e\",\"type\":\"LogAxis\"},{\"attributes\":{\"axis_label\":\"cooling rate [K/day]\",\"formatter\":{\"id\":\"2ec7e1ed-22ea-4855-a8ce-8e1f44753faf\",\"type\":\"BasicTickFormatter\"},\"plot\":{\"id\":\"2a490304-c63c-497e-a3d9-953a30c608a7\",\"subtype\":\"Figure\",\"type\":\"Plot\"},\"ticker\":{\"id\":\"cf1458ff-8dd8-4551-8e3e-30bb69f24a9c\",\"type\":\"BasicTicker\"}},\"id\":\"a8d553c3-af20-4743-9bf4-7608cfb8a845\",\"type\":\"LinearAxis\"},{\"attributes\":{\"bottom_units\":\"screen\",\"fill_alpha\":{\"value\":0.5},\"fill_color\":{\"value\":\"lightgrey\"},\"left_units\":\"screen\",\"level\":\"overlay\",\"line_alpha\":{\"value\":1.0},\"line_color\":{\"value\":\"black\"},\"line_dash\":[4,4],\"line_width\":{\"value\":2},\"plot\":null,\"render_mode\":\"css\",\"right_units\":\"screen\",\"top_units\":\"screen\"},\"id\":\"93ae9355-f819-4186-ac23-ceca54998d90\",\"type\":\"BoxAnnotation\"},{\"attributes\":{\"fill_alpha\":{\"value\":0.7},\"fill_color\":{\"value\":\"#4daf4a\"},\"line_alpha\":{\"value\":0.7},\"line_color\":{\"value\":\"#4daf4a\"},\"x\":{\"field\":\"x\"},\"y\":{\"field\":\"y\"}},\"id\":\"a96483c0-4c0c-4fbe-acb8-d4a223a49b26\",\"type\":\"Circle\"},{\"attributes\":{},\"id\":\"ec49a18a-9a19-450f-9057-a4180871597d\",\"type\":\"WheelZoomTool\"},{\"attributes\":{\"axis_label\":\"cooling rate [K/day]\",\"formatter\":{\"id\":\"0109b67b-ecea-4eab-a0b6-8438b28865c4\",\"type\":\"BasicTickFormatter\"},\"plot\":{\"id\":\"0d214226-1742-4f69-aba3-8e1d83619fa4\",\"subtype\":\"Figure\",\"type\":\"Plot\"},\"ticker\":{\"id\":\"36c1ffc8-7966-4129-8d7f-af904e85b1a6\",\"type\":\"BasicTicker\"}},\"id\":\"fdb53c29-5b94-4cab-982b-ecdb939c0d28\",\"type\":\"LinearAxis\"},{\"attributes\":{\"callback\":null,\"end\":12.208583273105388,\"start\":-0.6033023020843901},\"id\":\"6959607e-d436-4612-b146-c65821b7f497\",\"type\":\"Range1d\"},{\"attributes\":{},\"id\":\"0f81c601-398b-46b0-886b-bef424a70534\",\"type\":\"SaveTool\"},{\"attributes\":{\"line_color\":\"#4daf4a\",\"line_width\":1.5,\"x\":{\"field\":\"x\"},\"y\":{\"field\":\"y\"}},\"id\":\"62da198a-5062-480a-b661-54e7c849e828\",\"type\":\"Line\"},{\"attributes\":{\"label\":{\"value\":\"CRD\"},\"renderers\":[{\"id\":\"61ee5cef-a45b-43d6-a5c9-596e67f1385f\",\"type\":\"GlyphRenderer\"},{\"id\":\"e105b6b5-80c8-4f08-aaa0-7c666c4e87d8\",\"type\":\"GlyphRenderer\"}]},\"id\":\"68c0a5eb-c231-46b4-bf7c-126b6311a14c\",\"type\":\"LegendItem\"},{\"attributes\":{\"num_minor_ticks\":10},\"id\":\"4cbafa31-ad07-4e0e-9791-dd4e39b31b1f\",\"type\":\"LogTicker\"},{\"attributes\":{\"above\":[{\"id\":\"79ae6fc6-6240-4414-9e53-2e73feccb829\",\"type\":\"Legend\"}],\"below\":[{\"id\":\"cf67c540-2a2b-4436-82e2-daba0656f967\",\"type\":\"LinearAxis\"}],\"left\":[{\"id\":\"a4af31b6-402b-4c7c-8081-cf596956f16e\",\"type\":\"LogAxis\"}],\"plot_width\":300,\"renderers\":[{\"id\":\"cf67c540-2a2b-4436-82e2-daba0656f967\",\"type\":\"LinearAxis\"},{\"id\":\"5d38ee51-f8e7-47c0-9c79-671e85bb1f52\",\"type\":\"Grid\"},{\"id\":\"a4af31b6-402b-4c7c-8081-cf596956f16e\",\"type\":\"LogAxis\"},{\"id\":\"f4dd513e-7459-4e2d-95da-634fb161bdf4\",\"type\":\"Grid\"},{\"id\":\"93ae9355-f819-4186-ac23-ceca54998d90\",\"type\":\"BoxAnnotation\"},{\"id\":\"fe65171f-85d1-4a28-ac8c-569b60124d67\",\"type\":\"GlyphRenderer\"},{\"id\":\"61992a2f-d882-4375-9bec-dd7df37764b8\",\"type\":\"GlyphRenderer\"},{\"id\":\"79ae6fc6-6240-4414-9e53-2e73feccb829\",\"type\":\"Legend\"}],\"title\":{\"id\":\"891c07f3-29d7-4ec3-8866-602232765364\",\"type\":\"Title\"},\"toolbar\":{\"id\":\"84e231fe-8852-4ded-b3bd-03e52683cccd\",\"type\":\"Toolbar\"},\"toolbar_location\":null,\"x_range\":{\"id\":\"5cca09e8-9ed4-49b3-b820-90a42e31cb86\",\"type\":\"Range1d\"},\"x_scale\":{\"id\":\"e2b20cab-de7b-4f73-aa49-73bdbe846698\",\"type\":\"LinearScale\"},\"y_range\":{\"id\":\"56776bd6-40e1-4dbe-a646-e5fab7a9f169\",\"type\":\"Range1d\"},\"y_scale\":{\"id\":\"3222c642-1e1c-4ba9-a3ad-2e492f76ce35\",\"type\":\"LogScale\"}},\"id\":\"56b9a45a-c7cb-479d-9b1f-43e630db5574\",\"subtype\":\"Figure\",\"type\":\"Plot\"},{\"attributes\":{},\"id\":\"b0904317-8f6b-4319-a36c-146c9522041a\",\"type\":\"SaveTool\"},{\"attributes\":{\"dimension\":1,\"plot\":{\"id\":\"2a490304-c63c-497e-a3d9-953a30c608a7\",\"subtype\":\"Figure\",\"type\":\"Plot\"},\"ticker\":{\"id\":\"4cbafa31-ad07-4e0e-9791-dd4e39b31b1f\",\"type\":\"LogTicker\"}},\"id\":\"bea03da9-fb9e-4970-9dbc-67d2243ab8fb\",\"type\":\"Grid\"},{\"attributes\":{},\"id\":\"36c1ffc8-7966-4129-8d7f-af904e85b1a6\",\"type\":\"BasicTicker\"},{\"attributes\":{\"active_drag\":\"auto\",\"active_inspect\":\"auto\",\"active_scroll\":\"auto\",\"active_tap\":\"auto\",\"tools\":[{\"id\":\"9800e4d7-61a5-47cd-ad93-790b75b6cbde\",\"type\":\"PanTool\"},{\"id\":\"a1003cc3-ef0e-44b8-8644-b02930924789\",\"type\":\"WheelZoomTool\"},{\"id\":\"c13abeed-cd62-44f6-9112-582474f2b73b\",\"type\":\"BoxZoomTool\"},{\"id\":\"074d877a-91c6-481f-a65b-ed8fdf3900cc\",\"type\":\"SaveTool\"},{\"id\":\"ef10f2b5-593d-44c2-9537-b8e0ba1b09b8\",\"type\":\"ResetTool\"},{\"id\":\"ae59150e-42a5-4f8b-8ae2-c9423ee69889\",\"type\":\"HelpTool\"}]},\"id\":\"3832db74-369b-4fd4-a162-123b2ac408cf\",\"type\":\"Toolbar\"},{\"attributes\":{\"callback\":null,\"end\":0.5596213662811859,\"start\":-1.3413269281465863},\"id\":\"5cca09e8-9ed4-49b3-b820-90a42e31cb86\",\"type\":\"Range1d\"},{\"attributes\":{\"plot\":{\"id\":\"56b9a45a-c7cb-479d-9b1f-43e630db5574\",\"subtype\":\"Figure\",\"type\":\"Plot\"},\"ticker\":{\"id\":\"f8007e57-8044-487b-ad78-67737a8c51d1\",\"type\":\"BasicTicker\"}},\"id\":\"5d38ee51-f8e7-47c0-9c79-671e85bb1f52\",\"type\":\"Grid\"},{\"attributes\":{},\"id\":\"c1023c18-7942-42b2-a8fe-bfd228828129\",\"type\":\"UnionRenderers\"},{\"attributes\":{},\"id\":\"31044ff2-7721-4f7e-91c4-1f3c5152ba0e\",\"type\":\"LinearScale\"},{\"attributes\":{\"items\":[{\"id\":\"a0d14b8d-5b7c-41b4-94d1-69250ba8810a\",\"type\":\"LegendItem\"},{\"id\":\"68c0a5eb-c231-46b4-bf7c-126b6311a14c\",\"type\":\"LegendItem\"}],\"label_text_font_size\":{\"value\":\"8pt\"},\"location\":\"top_center\",\"orientation\":\"horizontal\",\"plot\":{\"id\":\"0d214226-1742-4f69-aba3-8e1d83619fa4\",\"subtype\":\"Figure\",\"type\":\"Plot\"}},\"id\":\"4ad4663c-0897-4831-9f9e-be6e75ef76fe\",\"type\":\"Legend\"},{\"attributes\":{\"plot\":{\"id\":\"2a490304-c63c-497e-a3d9-953a30c608a7\",\"subtype\":\"Figure\",\"type\":\"Plot\"},\"ticker\":{\"id\":\"cf1458ff-8dd8-4551-8e3e-30bb69f24a9c\",\"type\":\"BasicTicker\"}},\"id\":\"ba3bc9d5-5648-4319-ae31-7ca2484af575\",\"type\":\"Grid\"},{\"attributes\":{},\"id\":\"8049767e-a430-47b8-8aed-ecde6122024e\",\"type\":\"PanTool\"},{\"attributes\":{\"plot\":{\"id\":\"0d214226-1742-4f69-aba3-8e1d83619fa4\",\"subtype\":\"Figure\",\"type\":\"Plot\"},\"ticker\":{\"id\":\"36c1ffc8-7966-4129-8d7f-af904e85b1a6\",\"type\":\"BasicTicker\"}},\"id\":\"df84be3c-3c4d-4c71-9aff-1a085f6e113f\",\"type\":\"Grid\"},{\"attributes\":{},\"id\":\"c069e30a-9a07-4f0d-b1b0-1265772707c6\",\"type\":\"ResetTool\"},{\"attributes\":{},\"id\":\"5f89741f-68b8-4fa0-a2c1-a51344aa648a\",\"type\":\"LogScale\"},{\"attributes\":{\"label\":{\"value\":\"CLIRAD (single-run)\"},\"renderers\":[{\"id\":\"1905b690-52f0-4cc7-9f16-b0f523fae277\",\"type\":\"GlyphRenderer\"}]},\"id\":\"a0d14b8d-5b7c-41b4-94d1-69250ba8810a\",\"type\":\"LegendItem\"},{\"attributes\":{\"callback\":null,\"data\":{\"x\":{\"__ndarray__\":\"R/KIaN7AVEClCeJMyPNGQOvRhpxr30JAptxzhxx4PkA7SssMElA4QK6Bp3CyUDNAsVXpjES9LkBFhUV0+5coQMHYwqbbySNA6f09nM3nH0CaSd/3eYoZQDmgiAOW8BNAPYqARh3eDEBkm4vCgvr+P9D+5tWhQfY/P8DwKRnSAkBq38kb17ILQDT7IWuSsxFAUr2Rjm0FFkAinq3s9XgbQGCHwtYcqSFAG64kT303J0C7dRDneyooQD9JYrbK8yRA9S3bneHhIUAIymSuUMMcQIkHLe6VEBdAAau3cITREkA6CiNvkQIPQJU39ki7IQlAaAvwok1UA0BXLQiS4+L7P0xzDpJ2hPI/NNuPGMbJ5z91mUVYxqfSPxqwUPSxZca/G11peifD3L8QzNj5t2jTvwzOozTL360/SPJ4VI1VzD9KJ0nXEIncP8yDdlvHt+4/Et49nYLW9z++2teD4Jn+P+568eH/bwFALf5D9lmAAkCiZAicVOkCQPPT4jNKxwJAOjp3wTzBAUBSQsKNGisBQG4OmjqJwQBAJ3sZoHFuAEA5Ar0Sdi0AQGy4rw5+9f8/7W4nSrC3/z8mPr8zj4T/P4UYRHCQS/8/embVKYcF/z+5YXG+LLP+P/qb8BVUgf4/KvafTtyO/j/avAK1Ppv+PwJV9VVm2P0/JFtYlU/n/D9sN+q2fiX6Pw44e41PNPc/Opt+Z/wN9T+x3vcSW1vzP9ofvWQJlvI/8sciQQBW8j80sfkQa17yPzg5qng2r/I/Oh14WJBh8z+VZjnpctj0P6CcrSuCqQBA\",\"dtype\":\"float64\",\"shape\":[75]},\"y\":{\"__ndarray__\":\"GhExyth1ND/Sv8nbtpRIP2vylNV0PVE/aTum7souWD/At0SJ8fVgPw3Iuahxymc/MSNhhJWvcD/bTfBN02d3P2zb5nxnaoA/CD5h5MAGhz8NmeH1TyaQP+zrCsc9p5Y/LbKd76fGnz/bLW5ISEmmPww9YvTcQq8/JV2OstnstT8Er5Y7M8G+P0c+r3jqkcU/5h99k6ZBzj88bCIzFzjVP4enV8oyxN0//yH99nXg5D8qOpLLf0jtP5kqGJXUifQ/c9cS8kHP/D+/DpwzojQEQIEmwoanVwxA4lgXt9HgE0BSSZ2AJuIbQAMJih9jjiNA5q4l5INuK0AwTKYKRj0zQNv5fmq8/DpAaCJseHrtQkB/+zpwzoxKQM3MzMzMeFJAZmZmZmZqWEAAAAAAAFxeQM3MzMzMJmJAmpmZmZkfZUBmZmZmZhhoQDMzMzMzEWtAAAAAAAAKbkBmZmZmZoFwQM3MzMzM/XFAMzMzMzN6c0CamZmZmfZ0QAAAAAAAc3ZAZmZmZmbvd0DNzMzMzGt5QDMzMzMz6HpAmpmZmZlkfEAAAAAAAOF9QGZmZmZmXX9AZmZmZuZsgECamZmZGSuBQM3MzMxM6YFAAAAAAICngkAzMzMzs2WDQGZmZmbmI4RAmpmZmRnihEDNzMzMTKCFQAAAAACAXoZAMzMzM7Mch0BmZmZm5tqHQJqZmZkZmYhAzczMzExXiUAAAAAAgBWKQDMzMzOz04pAZmZmZuaRi0CamZmZGVCMQM3MzMxMDo1AAAAAAIDMjUAzMzMzs4qOQGZmZmbmSI9A\",\"dtype\":\"float64\",\"shape\":[75]}},\"selected\":{\"id\":\"f934d554-ffef-4087-a919-0127bfc98878\",\"type\":\"Selection\"},\"selection_policy\":{\"id\":\"e752f7cd-fcc1-40c3-b088-2be7f925ff6b\",\"type\":\"UnionRenderers\"}},\"id\":\"1f7ec40f-d3ef-4a56-bd83-b0e2225d03de\",\"type\":\"ColumnDataSource\"},{\"attributes\":{\"bottom_units\":\"screen\",\"fill_alpha\":{\"value\":0.5},\"fill_color\":{\"value\":\"lightgrey\"},\"left_units\":\"screen\",\"level\":\"overlay\",\"line_alpha\":{\"value\":1.0},\"line_color\":{\"value\":\"black\"},\"line_dash\":[4,4],\"line_width\":{\"value\":2},\"plot\":null,\"render_mode\":\"css\",\"right_units\":\"screen\",\"top_units\":\"screen\"},\"id\":\"1cb1f16a-c22e-4545-a745-6257ff155f80\",\"type\":\"BoxAnnotation\"},{\"attributes\":{\"axis_label\":\"pressure [mb]\",\"formatter\":{\"id\":\"b4467375-1711-44c0-a546-b63385c688d9\",\"type\":\"BasicTickFormatter\"},\"plot\":{\"id\":\"0d214226-1742-4f69-aba3-8e1d83619fa4\",\"subtype\":\"Figure\",\"type\":\"Plot\"},\"ticker\":{\"id\":\"f531eb69-86ab-4cdc-89eb-e4128ee7afbf\",\"type\":\"BasicTicker\"}},\"id\":\"0e84af6e-3e02-4aea-ad55-23c363881b76\",\"type\":\"LinearAxis\"},{\"attributes\":{},\"id\":\"b2dfad1c-f8bb-42d5-bb08-6770caa62082\",\"type\":\"PanTool\"},{\"attributes\":{\"axis_label\":\"cooling rate [K/day]\",\"formatter\":{\"id\":\"ebaa0e6f-c1a0-4293-889c-77c06ec62a01\",\"type\":\"BasicTickFormatter\"},\"plot\":{\"id\":\"56b9a45a-c7cb-479d-9b1f-43e630db5574\",\"subtype\":\"Figure\",\"type\":\"Plot\"},\"ticker\":{\"id\":\"f8007e57-8044-487b-ad78-67737a8c51d1\",\"type\":\"BasicTicker\"}},\"id\":\"cf67c540-2a2b-4436-82e2-daba0656f967\",\"type\":\"LinearAxis\"},{\"attributes\":{\"above\":[{\"id\":\"2e975ff8-c9cb-49fd-9a70-fe33c06100b2\",\"type\":\"Legend\"}],\"below\":[{\"id\":\"a8d553c3-af20-4743-9bf4-7608cfb8a845\",\"type\":\"LinearAxis\"}],\"left\":[{\"id\":\"88fce806-b50e-4d1a-b973-e0c16ec7a812\",\"type\":\"LogAxis\"}],\"plot_width\":300,\"renderers\":[{\"id\":\"a8d553c3-af20-4743-9bf4-7608cfb8a845\",\"type\":\"LinearAxis\"},{\"id\":\"ba3bc9d5-5648-4319-ae31-7ca2484af575\",\"type\":\"Grid\"},{\"id\":\"88fce806-b50e-4d1a-b973-e0c16ec7a812\",\"type\":\"LogAxis\"},{\"id\":\"bea03da9-fb9e-4970-9dbc-67d2243ab8fb\",\"type\":\"Grid\"},{\"id\":\"1cb1f16a-c22e-4545-a745-6257ff155f80\",\"type\":\"BoxAnnotation\"},{\"id\":\"857183e6-dac5-4e49-bdb2-5d2cd794b93b\",\"type\":\"GlyphRenderer\"},{\"id\":\"67a842d6-2458-4962-9529-9bfe45deae0b\",\"type\":\"GlyphRenderer\"},{\"id\":\"02407532-3e8c-4826-b3a6-e49c3f8969c7\",\"type\":\"GlyphRenderer\"},{\"id\":\"2e975ff8-c9cb-49fd-9a70-fe33c06100b2\",\"type\":\"Legend\"}],\"title\":{\"id\":\"8aa785e1-29ba-4d8d-aa8c-f94eeb30b883\",\"type\":\"Title\"},\"toolbar\":{\"id\":\"495d35ac-bd13-46d3-9b7e-7c28799eb9ec\",\"type\":\"Toolbar\"},\"toolbar_location\":null,\"x_range\":{\"id\":\"6959607e-d436-4612-b146-c65821b7f497\",\"type\":\"Range1d\"},\"x_scale\":{\"id\":\"31044ff2-7721-4f7e-91c4-1f3c5152ba0e\",\"type\":\"LinearScale\"},\"y_range\":{\"id\":\"a8601def-c8f3-46a6-bdaa-ffd42a6b8099\",\"type\":\"Range1d\"},\"y_scale\":{\"id\":\"5f89741f-68b8-4fa0-a2c1-a51344aa648a\",\"type\":\"LogScale\"}},\"id\":\"2a490304-c63c-497e-a3d9-953a30c608a7\",\"subtype\":\"Figure\",\"type\":\"Plot\"},{\"attributes\":{\"above\":[{\"id\":\"4ad4663c-0897-4831-9f9e-be6e75ef76fe\",\"type\":\"Legend\"}],\"below\":[{\"id\":\"fdb53c29-5b94-4cab-982b-ecdb939c0d28\",\"type\":\"LinearAxis\"}],\"left\":[{\"id\":\"0e84af6e-3e02-4aea-ad55-23c363881b76\",\"type\":\"LinearAxis\"}],\"plot_width\":300,\"renderers\":[{\"id\":\"fdb53c29-5b94-4cab-982b-ecdb939c0d28\",\"type\":\"LinearAxis\"},{\"id\":\"df84be3c-3c4d-4c71-9aff-1a085f6e113f\",\"type\":\"Grid\"},{\"id\":\"0e84af6e-3e02-4aea-ad55-23c363881b76\",\"type\":\"LinearAxis\"},{\"id\":\"0e0b2dd6-97e4-4c93-9369-78dff1e54839\",\"type\":\"Grid\"},{\"id\":\"d410c00e-7bee-4e7d-8b00-470f3a1e9d45\",\"type\":\"BoxAnnotation\"},{\"id\":\"1905b690-52f0-4cc7-9f16-b0f523fae277\",\"type\":\"GlyphRenderer\"},{\"id\":\"61ee5cef-a45b-43d6-a5c9-596e67f1385f\",\"type\":\"GlyphRenderer\"},{\"id\":\"e105b6b5-80c8-4f08-aaa0-7c666c4e87d8\",\"type\":\"GlyphRenderer\"},{\"id\":\"4ad4663c-0897-4831-9f9e-be6e75ef76fe\",\"type\":\"Legend\"}],\"title\":{\"id\":\"d8151f60-3999-4729-b835-52f34a2e0c48\",\"type\":\"Title\"},\"toolbar\":{\"id\":\"3832db74-369b-4fd4-a162-123b2ac408cf\",\"type\":\"Toolbar\"},\"toolbar_location\":null,\"x_range\":{\"id\":\"6ab5c854-5e42-48ea-b222-6f45823eb937\",\"type\":\"Range1d\"},\"x_scale\":{\"id\":\"d51afc7e-7adf-4d39-b927-faaf8d8d61d1\",\"type\":\"LinearScale\"},\"y_range\":{\"id\":\"3f48e20a-3e94-45ae-930d-e4ffc7422992\",\"type\":\"Range1d\"},\"y_scale\":{\"id\":\"93f92975-9ee9-4f7e-b997-eababaa4435c\",\"type\":\"LinearScale\"}},\"id\":\"0d214226-1742-4f69-aba3-8e1d83619fa4\",\"subtype\":\"Figure\",\"type\":\"Plot\"},{\"attributes\":{\"data_source\":{\"id\":\"c223a116-e4c2-402e-a3af-b9f821e54c05\",\"type\":\"ColumnDataSource\"},\"glyph\":{\"id\":\"a96483c0-4c0c-4fbe-acb8-d4a223a49b26\",\"type\":\"Circle\"},\"hover_glyph\":null,\"muted_glyph\":null,\"nonselection_glyph\":{\"id\":\"3bd4cd32-8c38-443e-8f61-4b68bd9d4984\",\"type\":\"Circle\"},\"selection_glyph\":null,\"view\":{\"id\":\"7e2b94ef-63f0-4574-abcf-2d1ec4e2e0d4\",\"type\":\"CDSView\"}},\"id\":\"67a842d6-2458-4962-9529-9bfe45deae0b\",\"type\":\"GlyphRenderer\"},{\"attributes\":{\"num_minor_ticks\":10},\"id\":\"b174a193-707e-45d9-b5a6-1a58300c57c1\",\"type\":\"LogTicker\"},{\"attributes\":{\"data_source\":{\"id\":\"1f7ec40f-d3ef-4a56-bd83-b0e2225d03de\",\"type\":\"ColumnDataSource\"},\"glyph\":{\"id\":\"c3996034-dcfc-42a3-8d08-8a76e44a6667\",\"type\":\"Circle\"},\"hover_glyph\":null,\"muted_glyph\":null,\"nonselection_glyph\":{\"id\":\"5bcda9cf-556a-4a2b-a75c-ef48f4158237\",\"type\":\"Circle\"},\"selection_glyph\":null,\"view\":{\"id\":\"eedc9830-4ed0-4388-9c81-4b13f3dfb7ed\",\"type\":\"CDSView\"}},\"id\":\"61ee5cef-a45b-43d6-a5c9-596e67f1385f\",\"type\":\"GlyphRenderer\"},{\"attributes\":{\"data_source\":{\"id\":\"97994f33-9f4f-4852-beea-360f25fef31e\",\"type\":\"ColumnDataSource\"},\"glyph\":{\"id\":\"f77389d2-e5f5-4617-83cd-856799d09ea7\",\"type\":\"Line\"},\"hover_glyph\":null,\"muted_glyph\":null,\"nonselection_glyph\":{\"id\":\"d278fb7f-5d5f-48ec-bfa0-defad527cfe7\",\"type\":\"Line\"},\"selection_glyph\":null,\"view\":{\"id\":\"560ba0fd-b7ec-4ba6-8281-9b8905e57817\",\"type\":\"CDSView\"}},\"id\":\"857183e6-dac5-4e49-bdb2-5d2cd794b93b\",\"type\":\"GlyphRenderer\"},{\"attributes\":{\"fill_alpha\":{\"value\":0.1},\"fill_color\":{\"value\":\"#1f77b4\"},\"line_alpha\":{\"value\":0.1},\"line_color\":{\"value\":\"#1f77b4\"},\"x\":{\"field\":\"x\"},\"y\":{\"field\":\"y\"}},\"id\":\"3bd4cd32-8c38-443e-8f61-4b68bd9d4984\",\"type\":\"Circle\"},{\"attributes\":{},\"id\":\"cf1458ff-8dd8-4551-8e3e-30bb69f24a9c\",\"type\":\"BasicTicker\"},{\"attributes\":{},\"id\":\"d205e5a1-efbb-4c26-bc7d-5435f618200e\",\"type\":\"HelpTool\"},{\"attributes\":{},\"id\":\"d51afc7e-7adf-4d39-b927-faaf8d8d61d1\",\"type\":\"LinearScale\"},{\"attributes\":{\"data_source\":{\"id\":\"0aa2dfb6-4c75-4bfe-89a9-4299696942bc\",\"type\":\"ColumnDataSource\"},\"glyph\":{\"id\":\"85151823-9f2a-416e-9837-30684be654c8\",\"type\":\"Circle\"},\"hover_glyph\":null,\"muted_glyph\":null,\"nonselection_glyph\":{\"id\":\"0c6abd12-e67d-4631-bb7b-9e383ccfa92b\",\"type\":\"Circle\"},\"selection_glyph\":null,\"view\":{\"id\":\"0a4e977b-98eb-489d-b1e1-61995dc95d68\",\"type\":\"CDSView\"}},\"id\":\"fe65171f-85d1-4a28-ac8c-569b60124d67\",\"type\":\"GlyphRenderer\"},{\"attributes\":{\"dimension\":1,\"plot\":{\"id\":\"56b9a45a-c7cb-479d-9b1f-43e630db5574\",\"subtype\":\"Figure\",\"type\":\"Plot\"},\"ticker\":{\"id\":\"b174a193-707e-45d9-b5a6-1a58300c57c1\",\"type\":\"LogTicker\"}},\"id\":\"f4dd513e-7459-4e2d-95da-634fb161bdf4\",\"type\":\"Grid\"},{\"attributes\":{\"source\":{\"id\":\"6f4e65de-7420-4fa5-8e59-4cc224e37296\",\"type\":\"ColumnDataSource\"}},\"id\":\"22ada380-d416-4874-9ab8-fda4c14110e8\",\"type\":\"CDSView\"},{\"attributes\":{},\"id\":\"c5d68ac6-b068-4e2c-85ae-967508d73709\",\"type\":\"ResetTool\"},{\"attributes\":{},\"id\":\"93f92975-9ee9-4f7e-b997-eababaa4435c\",\"type\":\"LinearScale\"},{\"attributes\":{\"line_alpha\":0.1,\"line_color\":\"#1f77b4\",\"line_width\":1.5,\"x\":{\"field\":\"x\"},\"y\":{\"field\":\"y\"}},\"id\":\"5b73587f-d716-4c43-a76b-5c00c78e9299\",\"type\":\"Line\"},{\"attributes\":{\"callback\":null,\"data\":{\"x\":{\"__ndarray__\":\"R/KIaN7AVEClCeJMyPNGQOvRhpxr30JAptxzhxx4PkA7SssMElA4QK6Bp3CyUDNAsVXpjES9LkBFhUV0+5coQMHYwqbbySNA6f09nM3nH0CaSd/3eYoZQDmgiAOW8BNAPYqARh3eDEBkm4vCgvr+P9D+5tWhQfY/P8DwKRnSAkBq38kb17ILQDT7IWuSsxFAUr2Rjm0FFkAinq3s9XgbQGCHwtYcqSFAG64kT303J0C7dRDneyooQD9JYrbK8yRA9S3bneHhIUAIymSuUMMcQIkHLe6VEBdAAau3cITREkA6CiNvkQIPQJU39ki7IQlAaAvwok1UA0BXLQiS4+L7P0xzDpJ2hPI/NNuPGMbJ5z91mUVYxqfSPxqwUPSxZca/G11peifD3L8QzNj5t2jTvwzOozTL360/SPJ4VI1VzD9KJ0nXEIncP8yDdlvHt+4/Et49nYLW9z++2teD4Jn+P+568eH/bwFALf5D9lmAAkCiZAicVOkCQPPT4jNKxwJAOjp3wTzBAUBSQsKNGisBQG4OmjqJwQBAJ3sZoHFuAEA5Ar0Sdi0AQGy4rw5+9f8/7W4nSrC3/z8mPr8zj4T/P4UYRHCQS/8/embVKYcF/z+5YXG+LLP+P/qb8BVUgf4/KvafTtyO/j/avAK1Ppv+PwJV9VVm2P0/JFtYlU/n/D9sN+q2fiX6Pw44e41PNPc/Opt+Z/wN9T+x3vcSW1vzP9ofvWQJlvI/8sciQQBW8j80sfkQa17yPzg5qng2r/I/Oh14WJBh8z+VZjnpctj0P6CcrSuCqQBA\",\"dtype\":\"float64\",\"shape\":[75]},\"y\":{\"__ndarray__\":\"GhExyth1ND/Sv8nbtpRIP2vylNV0PVE/aTum7souWD/At0SJ8fVgPw3Iuahxymc/MSNhhJWvcD/bTfBN02d3P2zb5nxnaoA/CD5h5MAGhz8NmeH1TyaQP+zrCsc9p5Y/LbKd76fGnz/bLW5ISEmmPww9YvTcQq8/JV2OstnstT8Er5Y7M8G+P0c+r3jqkcU/5h99k6ZBzj88bCIzFzjVP4enV8oyxN0//yH99nXg5D8qOpLLf0jtP5kqGJXUifQ/c9cS8kHP/D+/DpwzojQEQIEmwoanVwxA4lgXt9HgE0BSSZ2AJuIbQAMJih9jjiNA5q4l5INuK0AwTKYKRj0zQNv5fmq8/DpAaCJseHrtQkB/+zpwzoxKQM3MzMzMeFJAZmZmZmZqWEAAAAAAAFxeQM3MzMzMJmJAmpmZmZkfZUBmZmZmZhhoQDMzMzMzEWtAAAAAAAAKbkBmZmZmZoFwQM3MzMzM/XFAMzMzMzN6c0CamZmZmfZ0QAAAAAAAc3ZAZmZmZmbvd0DNzMzMzGt5QDMzMzMz6HpAmpmZmZlkfEAAAAAAAOF9QGZmZmZmXX9AZmZmZuZsgECamZmZGSuBQM3MzMxM6YFAAAAAAICngkAzMzMzs2WDQGZmZmbmI4RAmpmZmRnihEDNzMzMTKCFQAAAAACAXoZAMzMzM7Mch0BmZmZm5tqHQJqZmZkZmYhAzczMzExXiUAAAAAAgBWKQDMzMzOz04pAZmZmZuaRi0CamZmZGVCMQM3MzMxMDo1AAAAAAIDMjUAzMzMzs4qOQGZmZmbmSI9A\",\"dtype\":\"float64\",\"shape\":[75]}},\"selected\":{\"id\":\"626680e8-9574-40d4-a0b1-be4a962de316\",\"type\":\"Selection\"},\"selection_policy\":{\"id\":\"47689f7a-34ff-4134-83d9-5e686d170721\",\"type\":\"UnionRenderers\"}},\"id\":\"6f4e65de-7420-4fa5-8e59-4cc224e37296\",\"type\":\"ColumnDataSource\"},{\"attributes\":{\"callback\":null,\"data\":{\"x\":{\"__ndarray__\":\"R/KIaN7AVEClCeJMyPNGQOvRhpxr30JAptxzhxx4PkA7SssMElA4QK6Bp3CyUDNAsVXpjES9LkBFhUV0+5coQMHYwqbbySNA6f09nM3nH0CaSd/3eYoZQDmgiAOW8BNAPYqARh3eDEBkm4vCgvr+P9D+5tWhQfY/P8DwKRnSAkBq38kb17ILQDT7IWuSsxFAUr2Rjm0FFkAinq3s9XgbQGCHwtYcqSFAG64kT303J0C7dRDneyooQD9JYrbK8yRA9S3bneHhIUAIymSuUMMcQIkHLe6VEBdAAau3cITREkA6CiNvkQIPQJU39ki7IQlAaAvwok1UA0BXLQiS4+L7P0xzDpJ2hPI/NNuPGMbJ5z91mUVYxqfSPxqwUPSxZca/G11peifD3L8QzNj5t2jTvwzOozTL360/SPJ4VI1VzD9KJ0nXEIncP8yDdlvHt+4/Et49nYLW9z++2teD4Jn+P+568eH/bwFALf5D9lmAAkCiZAicVOkCQPPT4jNKxwJAOjp3wTzBAUBSQsKNGisBQG4OmjqJwQBAJ3sZoHFuAEA5Ar0Sdi0AQGy4rw5+9f8/7W4nSrC3/z8mPr8zj4T/P4UYRHCQS/8/embVKYcF/z+5YXG+LLP+P/qb8BVUgf4/KvafTtyO/j/avAK1Ppv+PwJV9VVm2P0/JFtYlU/n/D9sN+q2fiX6Pw44e41PNPc/Opt+Z/wN9T+x3vcSW1vzP9ofvWQJlvI/8sciQQBW8j80sfkQa17yPzg5qng2r/I/Oh14WJBh8z+VZjnpctj0P6CcrSuCqQBA\",\"dtype\":\"float64\",\"shape\":[75]},\"y\":{\"__ndarray__\":\"GhExyth1ND/Sv8nbtpRIP2vylNV0PVE/aTum7souWD/At0SJ8fVgPw3Iuahxymc/MSNhhJWvcD/bTfBN02d3P2zb5nxnaoA/CD5h5MAGhz8NmeH1TyaQP+zrCsc9p5Y/LbKd76fGnz/bLW5ISEmmPww9YvTcQq8/JV2OstnstT8Er5Y7M8G+P0c+r3jqkcU/5h99k6ZBzj88bCIzFzjVP4enV8oyxN0//yH99nXg5D8qOpLLf0jtP5kqGJXUifQ/c9cS8kHP/D+/DpwzojQEQIEmwoanVwxA4lgXt9HgE0BSSZ2AJuIbQAMJih9jjiNA5q4l5INuK0AwTKYKRj0zQNv5fmq8/DpAaCJseHrtQkB/+zpwzoxKQM3MzMzMeFJAZmZmZmZqWEAAAAAAAFxeQM3MzMzMJmJAmpmZmZkfZUBmZmZmZhhoQDMzMzMzEWtAAAAAAAAKbkBmZmZmZoFwQM3MzMzM/XFAMzMzMzN6c0CamZmZmfZ0QAAAAAAAc3ZAZmZmZmbvd0DNzMzMzGt5QDMzMzMz6HpAmpmZmZlkfEAAAAAAAOF9QGZmZmZmXX9AZmZmZuZsgECamZmZGSuBQM3MzMxM6YFAAAAAAICngkAzMzMzs2WDQGZmZmbmI4RAmpmZmRnihEDNzMzMTKCFQAAAAACAXoZAMzMzM7Mch0BmZmZm5tqHQJqZmZkZmYhAzczMzExXiUAAAAAAgBWKQDMzMzOz04pAZmZmZuaRi0CamZmZGVCMQM3MzMxMDo1AAAAAAIDMjUAzMzMzs4qOQGZmZmbmSI9A\",\"dtype\":\"float64\",\"shape\":[75]}},\"selected\":{\"id\":\"1d7a89a3-a11a-4177-98d1-1d2c950d8b08\",\"type\":\"Selection\"},\"selection_policy\":{\"id\":\"4a07ec9c-e786-4ef3-9c91-56469ea90ebd\",\"type\":\"UnionRenderers\"}},\"id\":\"c223a116-e4c2-402e-a3af-b9f821e54c05\",\"type\":\"ColumnDataSource\"},{\"attributes\":{\"overlay\":{\"id\":\"1cb1f16a-c22e-4545-a745-6257ff155f80\",\"type\":\"BoxAnnotation\"}},\"id\":\"7ebf8e7a-a548-41d1-af66-02d232792835\",\"type\":\"BoxZoomTool\"},{\"attributes\":{\"source\":{\"id\":\"97994f33-9f4f-4852-beea-360f25fef31e\",\"type\":\"ColumnDataSource\"}},\"id\":\"560ba0fd-b7ec-4ba6-8281-9b8905e57817\",\"type\":\"CDSView\"},{\"attributes\":{\"axis_label\":\"pressure [mb]\",\"formatter\":{\"id\":\"a0829fa1-c2a4-4549-b0bb-9183a66761c4\",\"type\":\"LogTickFormatter\"},\"plot\":{\"id\":\"2a490304-c63c-497e-a3d9-953a30c608a7\",\"subtype\":\"Figure\",\"type\":\"Plot\"},\"ticker\":{\"id\":\"4cbafa31-ad07-4e0e-9791-dd4e39b31b1f\",\"type\":\"LogTicker\"}},\"id\":\"88fce806-b50e-4d1a-b973-e0c16ec7a812\",\"type\":\"LogAxis\"},{\"attributes\":{},\"id\":\"3222c642-1e1c-4ba9-a3ad-2e492f76ce35\",\"type\":\"LogScale\"},{\"attributes\":{},\"id\":\"f8007e57-8044-487b-ad78-67737a8c51d1\",\"type\":\"BasicTicker\"},{\"attributes\":{\"items\":[{\"id\":\"15a81d35-15a8-4fa9-839d-94d7d57365ba\",\"type\":\"LegendItem\"}],\"label_text_font_size\":{\"value\":\"8pt\"},\"location\":\"top_center\",\"orientation\":\"horizontal\",\"plot\":{\"id\":\"56b9a45a-c7cb-479d-9b1f-43e630db5574\",\"subtype\":\"Figure\",\"type\":\"Plot\"}},\"id\":\"79ae6fc6-6240-4414-9e53-2e73feccb829\",\"type\":\"Legend\"}],\"root_ids\":[\"be5df49b-1376-4e39-a3a0-10a30560bab7\"]},\"title\":\"Bokeh Application\",\"version\":\"0.12.16\"}};\n",
       "  var render_items = [{\"docid\":\"cdcb233d-e385-46d7-b0a3-c8babd72f87c\",\"elementid\":\"2fb19eb6-ec2c-44a6-a64a-e965bfd07af7\",\"modelid\":\"be5df49b-1376-4e39-a3a0-10a30560bab7\"}];\n",
       "  root.Bokeh.embed.embed_items_notebook(docs_json, render_items);\n",
       "\n",
       "  }\n",
       "  if (root.Bokeh !== undefined) {\n",
       "    embed_document(root);\n",
       "  } else {\n",
       "    var attempts = 0;\n",
       "    var timer = setInterval(function(root) {\n",
       "      if (root.Bokeh !== undefined) {\n",
       "        embed_document(root);\n",
       "        clearInterval(timer);\n",
       "      }\n",
       "      attempts++;\n",
       "      if (attempts > 100) {\n",
       "        console.log(\"Bokeh: ERROR: Unable to run BokehJS code because BokehJS library is missing\")\n",
       "        clearInterval(timer);\n",
       "      }\n",
       "    }, 10, root)\n",
       "  }\n",
       "})(window);"
      ],
      "application/vnd.bokehjs_exec.v0+json": ""
     },
     "metadata": {
      "application/vnd.bokehjs_exec.v0+json": {
       "id": "be5df49b-1376-4e39-a3a0-10a30560bab7"
      }
     },
     "output_type": "display_data"
    },
    {
     "data": {
      "text/markdown": [
       "*FIGURE.* Cooling rates & difference."
      ],
      "text/plain": [
       "<IPython.core.display.Markdown object>"
      ]
     },
     "metadata": {},
     "output_type": "display_data"
    },
    {
     "data": {
      "text/html": [
       "<a id=\"Fluxes._trp.\"></a>"
      ],
      "text/plain": [
       "<IPython.core.display.HTML object>"
      ]
     },
     "metadata": {},
     "output_type": "display_data"
    },
    {
     "data": {
      "text/markdown": [
       "# Fluxes. trp."
      ],
      "text/plain": [
       "<IPython.core.display.Markdown object>"
      ]
     },
     "metadata": {},
     "output_type": "display_data"
    },
    {
     "data": {
      "text/html": [
       "\n",
       "<div class=\"bk-root\">\n",
       "    <div class=\"bk-plotdiv\" id=\"485b167b-9cca-48f0-bd8f-f5c422e40429\"></div>\n",
       "</div>"
      ]
     },
     "metadata": {},
     "output_type": "display_data"
    },
    {
     "data": {
      "application/javascript": [
       "(function(root) {\n",
       "  function embed_document(root) {\n",
       "    \n",
       "  var docs_json = {\"8d9ad59d-26c9-4542-a22c-0711143fa065\":{\"roots\":{\"references\":[{\"attributes\":{\"dimension\":1,\"plot\":{\"id\":\"371cf3df-e476-4100-a5e9-22134733a7f7\",\"subtype\":\"Figure\",\"type\":\"Plot\"},\"ticker\":{\"id\":\"53477829-48f2-45d2-8580-0f1bb0aa684e\",\"type\":\"BasicTicker\"}},\"id\":\"dee1b7b9-48ec-480b-9bce-0ffd247ec1f4\",\"type\":\"Grid\"},{\"attributes\":{\"fill_color\":{\"value\":\"#1f77b4\"},\"line_color\":{\"value\":\"#1f77b4\"},\"top\":{\"field\":\"flux\"},\"width\":{\"value\":0.9},\"x\":{\"field\":\"band\"}},\"id\":\"f495fa7a-5b6e-48c3-812b-ebcc2bfc9691\",\"type\":\"VBar\"},{\"attributes\":{},\"id\":\"52bdf347-1a6f-41bb-a858-cfcfea6410e3\",\"type\":\"BasicTickFormatter\"},{\"attributes\":{},\"id\":\"f30ded23-a92d-41fc-8b0b-1c54bacdf80f\",\"type\":\"CategoricalScale\"},{\"attributes\":{\"source\":{\"id\":\"61f80479-24d9-4eae-9357-5bbf41885e7e\",\"type\":\"ColumnDataSource\"}},\"id\":\"96726df6-91a1-4bd6-a6e7-39f0674ef65e\",\"type\":\"CDSView\"},{\"attributes\":{},\"id\":\"e4574bd9-d10d-421b-b2e2-35d6aa42bd25\",\"type\":\"SaveTool\"},{\"attributes\":{},\"id\":\"5382385d-e61b-4765-b73a-cf299d40ea95\",\"type\":\"CategoricalTickFormatter\"},{\"attributes\":{\"fill_alpha\":{\"value\":0.1},\"fill_color\":{\"value\":\"#1f77b4\"},\"line_alpha\":{\"value\":0.1},\"line_color\":{\"value\":\"#1f77b4\"},\"top\":{\"field\":\"flux\"},\"width\":{\"value\":0.9},\"x\":{\"field\":\"band\"}},\"id\":\"1435a305-ceec-44ae-a34d-d4762d40b1db\",\"type\":\"VBar\"},{\"attributes\":{\"data_source\":{\"id\":\"61f80479-24d9-4eae-9357-5bbf41885e7e\",\"type\":\"ColumnDataSource\"},\"glyph\":{\"id\":\"f495fa7a-5b6e-48c3-812b-ebcc2bfc9691\",\"type\":\"VBar\"},\"hover_glyph\":null,\"muted_glyph\":null,\"nonselection_glyph\":{\"id\":\"1435a305-ceec-44ae-a34d-d4762d40b1db\",\"type\":\"VBar\"},\"selection_glyph\":null,\"view\":{\"id\":\"96726df6-91a1-4bd6-a6e7-39f0674ef65e\",\"type\":\"CDSView\"}},\"id\":\"5f28935e-ff1e-4867-8d1f-e44ab05d9c92\",\"type\":\"GlyphRenderer\"},{\"attributes\":{},\"id\":\"d401d921-5dcd-4ea3-aed1-b7a13f39569f\",\"type\":\"WheelZoomTool\"},{\"attributes\":{\"callback\":null},\"id\":\"5ac6ea41-3401-423e-99f1-4c9d66a1a591\",\"type\":\"DataRange1d\"},{\"attributes\":{},\"id\":\"5eed56f6-bb75-48d2-a6a2-acd695911827\",\"type\":\"WheelZoomTool\"},{\"attributes\":{},\"id\":\"0d7f7243-97a7-44ba-9fee-8415487cc533\",\"type\":\"HelpTool\"},{\"attributes\":{\"axis_label\":\"flux (W m-2)\",\"formatter\":{\"id\":\"d0f42eba-4111-48e2-9eb5-11a241332e13\",\"type\":\"BasicTickFormatter\"},\"plot\":{\"id\":\"287288de-9055-4530-b9f9-1227228e31c3\",\"subtype\":\"Figure\",\"type\":\"Plot\"},\"ticker\":{\"id\":\"60722229-0b45-48cd-8c95-ac180dedae8a\",\"type\":\"BasicTicker\"}},\"id\":\"8a73f83e-1b33-4b91-b7ab-84160c6f5d19\",\"type\":\"LinearAxis\"},{\"attributes\":{\"data_source\":{\"id\":\"465a63f1-e2f8-4d2e-82b3-4f2f6dd7f275\",\"type\":\"ColumnDataSource\"},\"glyph\":{\"id\":\"334281f1-17e8-43ce-b509-1726749a4c74\",\"type\":\"VBar\"},\"hover_glyph\":null,\"muted_glyph\":null,\"nonselection_glyph\":{\"id\":\"28e2ccdb-a342-4eaa-873a-ae03140d59de\",\"type\":\"VBar\"},\"selection_glyph\":null,\"view\":{\"id\":\"c5d6b9ac-aa09-4618-8bf8-6db4dbdffb7c\",\"type\":\"CDSView\"}},\"id\":\"cb1b4369-3b2f-427a-b09a-92879e1c4f55\",\"type\":\"GlyphRenderer\"},{\"attributes\":{},\"id\":\"88530095-2ba3-4062-b4ce-0c4367248613\",\"type\":\"PanTool\"},{\"attributes\":{},\"id\":\"4d050e49-da3d-416b-bf10-84177f067908\",\"type\":\"UnionRenderers\"},{\"attributes\":{\"overlay\":{\"id\":\"5ae4c2d4-11b4-48d6-b2f4-0aa6d6ba8df0\",\"type\":\"BoxAnnotation\"}},\"id\":\"258a6731-d4f5-40a1-9597-270798b61995\",\"type\":\"BoxZoomTool\"},{\"attributes\":{},\"id\":\"f942e9b5-662d-47c8-80d4-c29e46ef4e1b\",\"type\":\"CategoricalTicker\"},{\"attributes\":{},\"id\":\"a88be98d-1967-4071-b0de-192f0761a699\",\"type\":\"SaveTool\"},{\"attributes\":{},\"id\":\"acfd85be-8299-4c3e-853c-707aea5713de\",\"type\":\"LinearScale\"},{\"attributes\":{\"bottom_units\":\"screen\",\"fill_alpha\":{\"value\":0.5},\"fill_color\":{\"value\":\"lightgrey\"},\"left_units\":\"screen\",\"level\":\"overlay\",\"line_alpha\":{\"value\":1.0},\"line_color\":{\"value\":\"black\"},\"line_dash\":[4,4],\"line_width\":{\"value\":2},\"plot\":null,\"render_mode\":\"css\",\"right_units\":\"screen\",\"top_units\":\"screen\"},\"id\":\"9ffa9a39-2b52-4510-9611-c5844ff4fde6\",\"type\":\"BoxAnnotation\"},{\"attributes\":{},\"id\":\"0c5d4013-4fdc-4fc4-b6bc-323c35f46043\",\"type\":\"WheelZoomTool\"},{\"attributes\":{\"plot\":null,\"text\":\"Atmosphere heating. CLIRAD (single-run) - CRD.\"},\"id\":\"e418e4cc-b0a1-4e7e-892a-85dfbec03b7f\",\"type\":\"Title\"},{\"attributes\":{\"overlay\":{\"id\":\"9ffa9a39-2b52-4510-9611-c5844ff4fde6\",\"type\":\"BoxAnnotation\"}},\"id\":\"4fc812cb-c2d7-439c-80b5-3fb9dba3fb46\",\"type\":\"BoxZoomTool\"},{\"attributes\":{\"active_drag\":\"auto\",\"active_inspect\":\"auto\",\"active_scroll\":\"auto\",\"active_tap\":\"auto\",\"tools\":[{\"id\":\"88530095-2ba3-4062-b4ce-0c4367248613\",\"type\":\"PanTool\"},{\"id\":\"5eed56f6-bb75-48d2-a6a2-acd695911827\",\"type\":\"WheelZoomTool\"},{\"id\":\"4fc812cb-c2d7-439c-80b5-3fb9dba3fb46\",\"type\":\"BoxZoomTool\"},{\"id\":\"a88be98d-1967-4071-b0de-192f0761a699\",\"type\":\"SaveTool\"},{\"id\":\"434ce54e-0d70-4f29-9e1b-90f69c251249\",\"type\":\"ResetTool\"},{\"id\":\"0d7f7243-97a7-44ba-9fee-8415487cc533\",\"type\":\"HelpTool\"}]},\"id\":\"9ef1fe67-f2e8-4725-ba6e-5995a2e0e7c1\",\"type\":\"Toolbar\"},{\"attributes\":{},\"id\":\"1af324ed-c5fb-4378-abc9-c8b4635ed82a\",\"type\":\"PanTool\"},{\"attributes\":{},\"id\":\"53477829-48f2-45d2-8580-0f1bb0aa684e\",\"type\":\"BasicTicker\"},{\"attributes\":{\"plot\":{\"id\":\"371cf3df-e476-4100-a5e9-22134733a7f7\",\"subtype\":\"Figure\",\"type\":\"Plot\"},\"ticker\":{\"id\":\"f942e9b5-662d-47c8-80d4-c29e46ef4e1b\",\"type\":\"CategoricalTicker\"}},\"id\":\"2b510f96-1009-43ec-873e-fa82c57b8b16\",\"type\":\"Grid\"},{\"attributes\":{\"dimension\":1,\"plot\":{\"id\":\"287288de-9055-4530-b9f9-1227228e31c3\",\"subtype\":\"Figure\",\"type\":\"Plot\"},\"ticker\":{\"id\":\"60722229-0b45-48cd-8c95-ac180dedae8a\",\"type\":\"BasicTicker\"}},\"id\":\"f28b5bbf-1f10-435f-b623-5d48c9b9601f\",\"type\":\"Grid\"},{\"attributes\":{},\"id\":\"ceac2c1f-c5ef-40de-a7ff-80cd7d386e00\",\"type\":\"ResetTool\"},{\"attributes\":{},\"id\":\"b2177411-1d93-4f07-abc6-44db5708e83f\",\"type\":\"CategoricalTickFormatter\"},{\"attributes\":{\"callback\":null,\"factors\":[\"1\",\"2\",\"3\",\"4\",\"5\",\"6\",\"7\",\"8\",\"9\",\"10\",\"11\"]},\"id\":\"4e95fa00-d9eb-4166-9487-f2be0128ed43\",\"type\":\"FactorRange\"},{\"attributes\":{},\"id\":\"f18ce6fb-13d3-4d72-94a0-4790c7bc37e5\",\"type\":\"ResetTool\"},{\"attributes\":{},\"id\":\"60722229-0b45-48cd-8c95-ac180dedae8a\",\"type\":\"BasicTicker\"},{\"attributes\":{},\"id\":\"d19aaee2-4b20-4dbb-928f-3dc999f2f6ec\",\"type\":\"Selection\"},{\"attributes\":{\"children\":[{\"id\":\"6015d715-f3aa-4622-b619-2a85e7665575\",\"subtype\":\"Figure\",\"type\":\"Plot\"},{\"id\":\"287288de-9055-4530-b9f9-1227228e31c3\",\"subtype\":\"Figure\",\"type\":\"Plot\"},{\"id\":\"371cf3df-e476-4100-a5e9-22134733a7f7\",\"subtype\":\"Figure\",\"type\":\"Plot\"}]},\"id\":\"20f8f9aa-5a64-4649-a210-d95355b93730\",\"type\":\"Row\"},{\"attributes\":{\"overlay\":{\"id\":\"d1d65f1e-54c8-4d77-8b1b-f4935e931d92\",\"type\":\"BoxAnnotation\"}},\"id\":\"42b62c92-6b7b-40e2-83bc-8b89910d06d5\",\"type\":\"BoxZoomTool\"},{\"attributes\":{},\"id\":\"6360d89a-5e7b-4625-adf2-16c242b7b9b8\",\"type\":\"HelpTool\"},{\"attributes\":{},\"id\":\"77f586c4-83c4-429a-8be9-5d3db63b1c7b\",\"type\":\"CategoricalTickFormatter\"},{\"attributes\":{\"axis_label\":\"spectral band\",\"formatter\":{\"id\":\"5382385d-e61b-4765-b73a-cf299d40ea95\",\"type\":\"CategoricalTickFormatter\"},\"plot\":{\"id\":\"371cf3df-e476-4100-a5e9-22134733a7f7\",\"subtype\":\"Figure\",\"type\":\"Plot\"},\"ticker\":{\"id\":\"f942e9b5-662d-47c8-80d4-c29e46ef4e1b\",\"type\":\"CategoricalTicker\"}},\"id\":\"c4a799c0-d034-4205-8aef-43e1b81233e8\",\"type\":\"CategoricalAxis\"},{\"attributes\":{},\"id\":\"c4903253-af33-40b4-84d9-e83a13605ce8\",\"type\":\"SaveTool\"},{\"attributes\":{},\"id\":\"434ce54e-0d70-4f29-9e1b-90f69c251249\",\"type\":\"ResetTool\"},{\"attributes\":{\"children\":[{\"id\":\"20f8f9aa-5a64-4649-a210-d95355b93730\",\"type\":\"Row\"}]},\"id\":\"27a6e8e6-1e5a-4480-90c2-dff0e209da3c\",\"type\":\"Column\"},{\"attributes\":{},\"id\":\"63253eed-0a3e-44ba-bd04-2cbf1ee07622\",\"type\":\"PanTool\"},{\"attributes\":{\"axis_label\":\"flux (W m-2)\",\"formatter\":{\"id\":\"1b4a6dbc-0686-4e3f-bd94-ad411c8003e7\",\"type\":\"BasicTickFormatter\"},\"plot\":{\"id\":\"371cf3df-e476-4100-a5e9-22134733a7f7\",\"subtype\":\"Figure\",\"type\":\"Plot\"},\"ticker\":{\"id\":\"53477829-48f2-45d2-8580-0f1bb0aa684e\",\"type\":\"BasicTicker\"}},\"id\":\"4f962777-8b15-4f7f-ae6e-84399bdb9885\",\"type\":\"LinearAxis\"},{\"attributes\":{},\"id\":\"650d39e5-4d38-4f8c-9e0d-5c85256d2cc7\",\"type\":\"HelpTool\"},{\"attributes\":{\"bottom_units\":\"screen\",\"fill_alpha\":{\"value\":0.5},\"fill_color\":{\"value\":\"lightgrey\"},\"left_units\":\"screen\",\"level\":\"overlay\",\"line_alpha\":{\"value\":1.0},\"line_color\":{\"value\":\"black\"},\"line_dash\":[4,4],\"line_width\":{\"value\":2},\"plot\":null,\"render_mode\":\"css\",\"right_units\":\"screen\",\"top_units\":\"screen\"},\"id\":\"d1d65f1e-54c8-4d77-8b1b-f4935e931d92\",\"type\":\"BoxAnnotation\"},{\"attributes\":{\"axis_label\":\"flux (W m-2)\",\"formatter\":{\"id\":\"52bdf347-1a6f-41bb-a858-cfcfea6410e3\",\"type\":\"BasicTickFormatter\"},\"plot\":{\"id\":\"6015d715-f3aa-4622-b619-2a85e7665575\",\"subtype\":\"Figure\",\"type\":\"Plot\"},\"ticker\":{\"id\":\"f106f687-f1dc-4e9b-b560-101dc320de3a\",\"type\":\"BasicTicker\"}},\"id\":\"e500bd2c-a035-4805-bd9b-7fe4d77f2738\",\"type\":\"LinearAxis\"},{\"attributes\":{\"callback\":null},\"id\":\"3519488c-259d-4dd0-a8c1-ce787ab031bb\",\"type\":\"DataRange1d\"},{\"attributes\":{\"fill_color\":{\"value\":\"#1f77b4\"},\"line_color\":{\"value\":\"#1f77b4\"},\"top\":{\"field\":\"flux\"},\"width\":{\"value\":0.9},\"x\":{\"field\":\"band\"}},\"id\":\"e7cbb0dd-d95d-4a68-8236-ab5fc6d1c7af\",\"type\":\"VBar\"},{\"attributes\":{\"bottom_units\":\"screen\",\"fill_alpha\":{\"value\":0.5},\"fill_color\":{\"value\":\"lightgrey\"},\"left_units\":\"screen\",\"level\":\"overlay\",\"line_alpha\":{\"value\":1.0},\"line_color\":{\"value\":\"black\"},\"line_dash\":[4,4],\"line_width\":{\"value\":2},\"plot\":null,\"render_mode\":\"css\",\"right_units\":\"screen\",\"top_units\":\"screen\"},\"id\":\"5ae4c2d4-11b4-48d6-b2f4-0aa6d6ba8df0\",\"type\":\"BoxAnnotation\"},{\"attributes\":{\"active_drag\":\"auto\",\"active_inspect\":\"auto\",\"active_scroll\":\"auto\",\"active_tap\":\"auto\",\"tools\":[{\"id\":\"1af324ed-c5fb-4378-abc9-c8b4635ed82a\",\"type\":\"PanTool\"},{\"id\":\"0c5d4013-4fdc-4fc4-b6bc-323c35f46043\",\"type\":\"WheelZoomTool\"},{\"id\":\"258a6731-d4f5-40a1-9597-270798b61995\",\"type\":\"BoxZoomTool\"},{\"id\":\"c4903253-af33-40b4-84d9-e83a13605ce8\",\"type\":\"SaveTool\"},{\"id\":\"f18ce6fb-13d3-4d72-94a0-4790c7bc37e5\",\"type\":\"ResetTool\"},{\"id\":\"650d39e5-4d38-4f8c-9e0d-5c85256d2cc7\",\"type\":\"HelpTool\"}]},\"id\":\"2e26fc7f-d6aa-436e-8d8c-fa68b04ddcb5\",\"type\":\"Toolbar\"},{\"attributes\":{\"tools\":[{\"id\":\"1af324ed-c5fb-4378-abc9-c8b4635ed82a\",\"type\":\"PanTool\"},{\"id\":\"0c5d4013-4fdc-4fc4-b6bc-323c35f46043\",\"type\":\"WheelZoomTool\"},{\"id\":\"258a6731-d4f5-40a1-9597-270798b61995\",\"type\":\"BoxZoomTool\"},{\"id\":\"c4903253-af33-40b4-84d9-e83a13605ce8\",\"type\":\"SaveTool\"},{\"id\":\"f18ce6fb-13d3-4d72-94a0-4790c7bc37e5\",\"type\":\"ResetTool\"},{\"id\":\"650d39e5-4d38-4f8c-9e0d-5c85256d2cc7\",\"type\":\"HelpTool\"},{\"id\":\"63253eed-0a3e-44ba-bd04-2cbf1ee07622\",\"type\":\"PanTool\"},{\"id\":\"d401d921-5dcd-4ea3-aed1-b7a13f39569f\",\"type\":\"WheelZoomTool\"},{\"id\":\"42b62c92-6b7b-40e2-83bc-8b89910d06d5\",\"type\":\"BoxZoomTool\"},{\"id\":\"e4574bd9-d10d-421b-b2e2-35d6aa42bd25\",\"type\":\"SaveTool\"},{\"id\":\"ceac2c1f-c5ef-40de-a7ff-80cd7d386e00\",\"type\":\"ResetTool\"},{\"id\":\"6360d89a-5e7b-4625-adf2-16c242b7b9b8\",\"type\":\"HelpTool\"},{\"id\":\"88530095-2ba3-4062-b4ce-0c4367248613\",\"type\":\"PanTool\"},{\"id\":\"5eed56f6-bb75-48d2-a6a2-acd695911827\",\"type\":\"WheelZoomTool\"},{\"id\":\"4fc812cb-c2d7-439c-80b5-3fb9dba3fb46\",\"type\":\"BoxZoomTool\"},{\"id\":\"a88be98d-1967-4071-b0de-192f0761a699\",\"type\":\"SaveTool\"},{\"id\":\"434ce54e-0d70-4f29-9e1b-90f69c251249\",\"type\":\"ResetTool\"},{\"id\":\"0d7f7243-97a7-44ba-9fee-8415487cc533\",\"type\":\"HelpTool\"}]},\"id\":\"4c22b0da-1ca0-4d0f-8403-42b751f9c8cd\",\"type\":\"ProxyToolbar\"},{\"attributes\":{\"axis_label\":\"spectral band\",\"formatter\":{\"id\":\"77f586c4-83c4-429a-8be9-5d3db63b1c7b\",\"type\":\"CategoricalTickFormatter\"},\"plot\":{\"id\":\"287288de-9055-4530-b9f9-1227228e31c3\",\"subtype\":\"Figure\",\"type\":\"Plot\"},\"ticker\":{\"id\":\"331bbdd9-83a6-48b5-a491-21ff805ce7d0\",\"type\":\"CategoricalTicker\"}},\"id\":\"343b1739-085b-4663-af5c-7da0c0b53348\",\"type\":\"CategoricalAxis\"},{\"attributes\":{\"below\":[{\"id\":\"496cca8c-bbbc-4883-8459-a8e4c9b73b3e\",\"type\":\"CategoricalAxis\"}],\"left\":[{\"id\":\"e500bd2c-a035-4805-bd9b-7fe4d77f2738\",\"type\":\"LinearAxis\"}],\"plot_height\":300,\"plot_width\":300,\"renderers\":[{\"id\":\"496cca8c-bbbc-4883-8459-a8e4c9b73b3e\",\"type\":\"CategoricalAxis\"},{\"id\":\"f7fc09f9-0783-4c7a-b60c-ab890f68f78a\",\"type\":\"Grid\"},{\"id\":\"e500bd2c-a035-4805-bd9b-7fe4d77f2738\",\"type\":\"LinearAxis\"},{\"id\":\"bd61953e-e42e-40ae-8db6-d036e07df4c9\",\"type\":\"Grid\"},{\"id\":\"5ae4c2d4-11b4-48d6-b2f4-0aa6d6ba8df0\",\"type\":\"BoxAnnotation\"},{\"id\":\"cb1b4369-3b2f-427a-b09a-92879e1c4f55\",\"type\":\"GlyphRenderer\"}],\"title\":{\"id\":\"925be51c-057e-4bcb-abd4-67a15df808f1\",\"type\":\"Title\"},\"toolbar\":{\"id\":\"2e26fc7f-d6aa-436e-8d8c-fa68b04ddcb5\",\"type\":\"Toolbar\"},\"toolbar_location\":null,\"x_range\":{\"id\":\"d963f37b-b24f-4f64-a1a3-e2e4aac0d84c\",\"type\":\"FactorRange\"},\"x_scale\":{\"id\":\"71bb91dc-679c-4962-a297-f30914e7a88f\",\"type\":\"CategoricalScale\"},\"y_range\":{\"id\":\"3519488c-259d-4dd0-a8c1-ce787ab031bb\",\"type\":\"DataRange1d\"},\"y_scale\":{\"id\":\"a195605a-c865-4d58-983e-cae0cd309f22\",\"type\":\"LinearScale\"}},\"id\":\"6015d715-f3aa-4622-b619-2a85e7665575\",\"subtype\":\"Figure\",\"type\":\"Plot\"},{\"attributes\":{},\"id\":\"a195605a-c865-4d58-983e-cae0cd309f22\",\"type\":\"LinearScale\"},{\"attributes\":{\"fill_alpha\":{\"value\":0.1},\"fill_color\":{\"value\":\"#1f77b4\"},\"line_alpha\":{\"value\":0.1},\"line_color\":{\"value\":\"#1f77b4\"},\"top\":{\"field\":\"flux\"},\"width\":{\"value\":0.9},\"x\":{\"field\":\"band\"}},\"id\":\"28e2ccdb-a342-4eaa-873a-ae03140d59de\",\"type\":\"VBar\"},{\"attributes\":{\"callback\":null,\"data\":{\"band\":[\"1\",\"2\",\"3\",\"4\",\"5\",\"6\",\"7\",\"8\",\"9\",\"10\",\"11\"],\"flux\":{\"__ndarray__\":\"AADADkbs874Ak+S5vg/QPwANMzSeCMq/ABTRr62frj8A8Z2Y9WLjP6As7j8yHd0/gB2NQ/0usj8AQGTbs/iOP0Churn429E/AFDtmpDWiD8AO3arQl6wPw==\",\"dtype\":\"float64\",\"shape\":[11]}},\"selected\":{\"id\":\"fa5855ab-634f-4d3f-939e-739135741873\",\"type\":\"Selection\"},\"selection_policy\":{\"id\":\"1ddf6a12-8500-4c8c-97d2-6eb1522787a7\",\"type\":\"UnionRenderers\"}},\"id\":\"56bb0c9c-14ff-4e1a-9b95-592e4dd9ddf6\",\"type\":\"ColumnDataSource\"},{\"attributes\":{\"plot\":{\"id\":\"287288de-9055-4530-b9f9-1227228e31c3\",\"subtype\":\"Figure\",\"type\":\"Plot\"},\"ticker\":{\"id\":\"331bbdd9-83a6-48b5-a491-21ff805ce7d0\",\"type\":\"CategoricalTicker\"}},\"id\":\"bd2e98c1-37c2-4168-b18a-2f6336b92958\",\"type\":\"Grid\"},{\"attributes\":{\"plot\":{\"id\":\"6015d715-f3aa-4622-b619-2a85e7665575\",\"subtype\":\"Figure\",\"type\":\"Plot\"},\"ticker\":{\"id\":\"480c0232-2175-44d1-9831-258fc933b45a\",\"type\":\"CategoricalTicker\"}},\"id\":\"f7fc09f9-0783-4c7a-b60c-ab890f68f78a\",\"type\":\"Grid\"},{\"attributes\":{\"callback\":null,\"factors\":[\"1\",\"2\",\"3\",\"4\",\"5\",\"6\",\"7\",\"8\",\"9\",\"10\",\"11\"]},\"id\":\"702f080e-e8c9-4aed-9fe4-3218cb0cd1f7\",\"type\":\"FactorRange\"},{\"attributes\":{\"callback\":null},\"id\":\"32855441-8ebc-48b3-850b-8acdca780ad8\",\"type\":\"DataRange1d\"},{\"attributes\":{\"children\":[{\"id\":\"713b3068-23ef-43e7-8a7a-9493b3d99a2f\",\"type\":\"ToolbarBox\"},{\"id\":\"27a6e8e6-1e5a-4480-90c2-dff0e209da3c\",\"type\":\"Column\"}]},\"id\":\"346f03d3-6fa3-40ab-aaca-f6e3e9523f6c\",\"type\":\"Column\"},{\"attributes\":{\"toolbar\":{\"id\":\"4c22b0da-1ca0-4d0f-8403-42b751f9c8cd\",\"type\":\"ProxyToolbar\"},\"toolbar_location\":\"above\"},\"id\":\"713b3068-23ef-43e7-8a7a-9493b3d99a2f\",\"type\":\"ToolbarBox\"},{\"attributes\":{\"source\":{\"id\":\"465a63f1-e2f8-4d2e-82b3-4f2f6dd7f275\",\"type\":\"ColumnDataSource\"}},\"id\":\"c5d6b9ac-aa09-4618-8bf8-6db4dbdffb7c\",\"type\":\"CDSView\"},{\"attributes\":{\"plot\":null,\"text\":\"SFC flux. CLIRAD (single-run) - CRD.\"},\"id\":\"204def38-9a3b-4722-8769-05e69d3c238b\",\"type\":\"Title\"},{\"attributes\":{\"below\":[{\"id\":\"343b1739-085b-4663-af5c-7da0c0b53348\",\"type\":\"CategoricalAxis\"}],\"left\":[{\"id\":\"8a73f83e-1b33-4b91-b7ab-84160c6f5d19\",\"type\":\"LinearAxis\"}],\"plot_height\":300,\"plot_width\":300,\"renderers\":[{\"id\":\"343b1739-085b-4663-af5c-7da0c0b53348\",\"type\":\"CategoricalAxis\"},{\"id\":\"bd2e98c1-37c2-4168-b18a-2f6336b92958\",\"type\":\"Grid\"},{\"id\":\"8a73f83e-1b33-4b91-b7ab-84160c6f5d19\",\"type\":\"LinearAxis\"},{\"id\":\"f28b5bbf-1f10-435f-b623-5d48c9b9601f\",\"type\":\"Grid\"},{\"id\":\"d1d65f1e-54c8-4d77-8b1b-f4935e931d92\",\"type\":\"BoxAnnotation\"},{\"id\":\"d903c8a2-be80-4161-8d39-aa8b89913f57\",\"type\":\"GlyphRenderer\"}],\"title\":{\"id\":\"204def38-9a3b-4722-8769-05e69d3c238b\",\"type\":\"Title\"},\"toolbar\":{\"id\":\"7e5808fe-508b-42b9-8cb1-d1c76d1eb813\",\"type\":\"Toolbar\"},\"toolbar_location\":null,\"x_range\":{\"id\":\"702f080e-e8c9-4aed-9fe4-3218cb0cd1f7\",\"type\":\"FactorRange\"},\"x_scale\":{\"id\":\"7c8289b1-7e65-4409-82f0-33fb4c39eb72\",\"type\":\"CategoricalScale\"},\"y_range\":{\"id\":\"32855441-8ebc-48b3-850b-8acdca780ad8\",\"type\":\"DataRange1d\"},\"y_scale\":{\"id\":\"7021c7a3-65c6-41d5-94a9-2a1169c1a01f\",\"type\":\"LinearScale\"}},\"id\":\"287288de-9055-4530-b9f9-1227228e31c3\",\"subtype\":\"Figure\",\"type\":\"Plot\"},{\"attributes\":{},\"id\":\"71bb91dc-679c-4962-a297-f30914e7a88f\",\"type\":\"CategoricalScale\"},{\"attributes\":{\"callback\":null,\"data\":{\"band\":[\"1\",\"2\",\"3\",\"4\",\"5\",\"6\",\"7\",\"8\",\"9\",\"10\",\"11\"],\"flux\":{\"__ndarray__\":\"AMHG9e/6yj8ARFVMpZ/UP8A1I4PcRdO/wKT4+ITs4T8A9+Y3TDTUPwDo9SfxuaO/gPm7d9SYzj8AbToCuFm8vwAu4dBbPJw/4PGprSLtwT+A9UyK6gi9Pw==\",\"dtype\":\"float64\",\"shape\":[11]}},\"selected\":{\"id\":\"d19aaee2-4b20-4dbb-928f-3dc999f2f6ec\",\"type\":\"Selection\"},\"selection_policy\":{\"id\":\"4d050e49-da3d-416b-bf10-84177f067908\",\"type\":\"UnionRenderers\"}},\"id\":\"465a63f1-e2f8-4d2e-82b3-4f2f6dd7f275\",\"type\":\"ColumnDataSource\"},{\"attributes\":{},\"id\":\"1b4a6dbc-0686-4e3f-bd94-ad411c8003e7\",\"type\":\"BasicTickFormatter\"},{\"attributes\":{},\"id\":\"1ddf6a12-8500-4c8c-97d2-6eb1522787a7\",\"type\":\"UnionRenderers\"},{\"attributes\":{\"callback\":null,\"factors\":[\"1\",\"2\",\"3\",\"4\",\"5\",\"6\",\"7\",\"8\",\"9\",\"10\",\"11\"]},\"id\":\"d963f37b-b24f-4f64-a1a3-e2e4aac0d84c\",\"type\":\"FactorRange\"},{\"attributes\":{\"dimension\":1,\"plot\":{\"id\":\"6015d715-f3aa-4622-b619-2a85e7665575\",\"subtype\":\"Figure\",\"type\":\"Plot\"},\"ticker\":{\"id\":\"f106f687-f1dc-4e9b-b560-101dc320de3a\",\"type\":\"BasicTicker\"}},\"id\":\"bd61953e-e42e-40ae-8db6-d036e07df4c9\",\"type\":\"Grid\"},{\"attributes\":{\"callback\":null,\"data\":{\"band\":[\"1\",\"2\",\"3\",\"4\",\"5\",\"6\",\"7\",\"8\",\"9\",\"10\",\"11\"],\"flux\":{\"__ndarray__\":\"AID6S2L7yj8AhLZzzD+yPwC8gsh9Brm/ABW46Y0C4D8gA5fHmpHSvwDp7GRwlN+/gOE/3UCBxT8Atr3dkhzAv0C4FKEiGNC/wG+hI6BfwD9Ab6jOWVWpPw==\",\"dtype\":\"float64\",\"shape\":[11]}},\"selected\":{\"id\":\"3a7dc11c-b61a-4abd-b7f5-500ed286e437\",\"type\":\"Selection\"},\"selection_policy\":{\"id\":\"27ddf454-bd3a-44b1-836d-5897acd77b1b\",\"type\":\"UnionRenderers\"}},\"id\":\"61f80479-24d9-4eae-9357-5bbf41885e7e\",\"type\":\"ColumnDataSource\"},{\"attributes\":{},\"id\":\"d0f42eba-4111-48e2-9eb5-11a241332e13\",\"type\":\"BasicTickFormatter\"},{\"attributes\":{},\"id\":\"480c0232-2175-44d1-9831-258fc933b45a\",\"type\":\"CategoricalTicker\"},{\"attributes\":{\"plot\":null,\"text\":\"TOA flux. CLIRAD (single-run) - CRD.\"},\"id\":\"925be51c-057e-4bcb-abd4-67a15df808f1\",\"type\":\"Title\"},{\"attributes\":{\"source\":{\"id\":\"56bb0c9c-14ff-4e1a-9b95-592e4dd9ddf6\",\"type\":\"ColumnDataSource\"}},\"id\":\"89d4f4ea-11d5-46a0-a91f-f35250e53bba\",\"type\":\"CDSView\"},{\"attributes\":{\"below\":[{\"id\":\"c4a799c0-d034-4205-8aef-43e1b81233e8\",\"type\":\"CategoricalAxis\"}],\"left\":[{\"id\":\"4f962777-8b15-4f7f-ae6e-84399bdb9885\",\"type\":\"LinearAxis\"}],\"plot_height\":300,\"plot_width\":300,\"renderers\":[{\"id\":\"c4a799c0-d034-4205-8aef-43e1b81233e8\",\"type\":\"CategoricalAxis\"},{\"id\":\"2b510f96-1009-43ec-873e-fa82c57b8b16\",\"type\":\"Grid\"},{\"id\":\"4f962777-8b15-4f7f-ae6e-84399bdb9885\",\"type\":\"LinearAxis\"},{\"id\":\"dee1b7b9-48ec-480b-9bce-0ffd247ec1f4\",\"type\":\"Grid\"},{\"id\":\"9ffa9a39-2b52-4510-9611-c5844ff4fde6\",\"type\":\"BoxAnnotation\"},{\"id\":\"5f28935e-ff1e-4867-8d1f-e44ab05d9c92\",\"type\":\"GlyphRenderer\"}],\"title\":{\"id\":\"e418e4cc-b0a1-4e7e-892a-85dfbec03b7f\",\"type\":\"Title\"},\"toolbar\":{\"id\":\"9ef1fe67-f2e8-4725-ba6e-5995a2e0e7c1\",\"type\":\"Toolbar\"},\"toolbar_location\":null,\"x_range\":{\"id\":\"4e95fa00-d9eb-4166-9487-f2be0128ed43\",\"type\":\"FactorRange\"},\"x_scale\":{\"id\":\"f30ded23-a92d-41fc-8b0b-1c54bacdf80f\",\"type\":\"CategoricalScale\"},\"y_range\":{\"id\":\"5ac6ea41-3401-423e-99f1-4c9d66a1a591\",\"type\":\"DataRange1d\"},\"y_scale\":{\"id\":\"acfd85be-8299-4c3e-853c-707aea5713de\",\"type\":\"LinearScale\"}},\"id\":\"371cf3df-e476-4100-a5e9-22134733a7f7\",\"subtype\":\"Figure\",\"type\":\"Plot\"},{\"attributes\":{},\"id\":\"3a7dc11c-b61a-4abd-b7f5-500ed286e437\",\"type\":\"Selection\"},{\"attributes\":{},\"id\":\"331bbdd9-83a6-48b5-a491-21ff805ce7d0\",\"type\":\"CategoricalTicker\"},{\"attributes\":{},\"id\":\"7021c7a3-65c6-41d5-94a9-2a1169c1a01f\",\"type\":\"LinearScale\"},{\"attributes\":{\"axis_label\":\"spectral band\",\"formatter\":{\"id\":\"b2177411-1d93-4f07-abc6-44db5708e83f\",\"type\":\"CategoricalTickFormatter\"},\"plot\":{\"id\":\"6015d715-f3aa-4622-b619-2a85e7665575\",\"subtype\":\"Figure\",\"type\":\"Plot\"},\"ticker\":{\"id\":\"480c0232-2175-44d1-9831-258fc933b45a\",\"type\":\"CategoricalTicker\"}},\"id\":\"496cca8c-bbbc-4883-8459-a8e4c9b73b3e\",\"type\":\"CategoricalAxis\"},{\"attributes\":{},\"id\":\"27ddf454-bd3a-44b1-836d-5897acd77b1b\",\"type\":\"UnionRenderers\"},{\"attributes\":{\"data_source\":{\"id\":\"56bb0c9c-14ff-4e1a-9b95-592e4dd9ddf6\",\"type\":\"ColumnDataSource\"},\"glyph\":{\"id\":\"e7cbb0dd-d95d-4a68-8236-ab5fc6d1c7af\",\"type\":\"VBar\"},\"hover_glyph\":null,\"muted_glyph\":null,\"nonselection_glyph\":{\"id\":\"f8e81c08-4dce-4736-bc24-65b9c83ea2b5\",\"type\":\"VBar\"},\"selection_glyph\":null,\"view\":{\"id\":\"89d4f4ea-11d5-46a0-a91f-f35250e53bba\",\"type\":\"CDSView\"}},\"id\":\"d903c8a2-be80-4161-8d39-aa8b89913f57\",\"type\":\"GlyphRenderer\"},{\"attributes\":{\"active_drag\":\"auto\",\"active_inspect\":\"auto\",\"active_scroll\":\"auto\",\"active_tap\":\"auto\",\"tools\":[{\"id\":\"63253eed-0a3e-44ba-bd04-2cbf1ee07622\",\"type\":\"PanTool\"},{\"id\":\"d401d921-5dcd-4ea3-aed1-b7a13f39569f\",\"type\":\"WheelZoomTool\"},{\"id\":\"42b62c92-6b7b-40e2-83bc-8b89910d06d5\",\"type\":\"BoxZoomTool\"},{\"id\":\"e4574bd9-d10d-421b-b2e2-35d6aa42bd25\",\"type\":\"SaveTool\"},{\"id\":\"ceac2c1f-c5ef-40de-a7ff-80cd7d386e00\",\"type\":\"ResetTool\"},{\"id\":\"6360d89a-5e7b-4625-adf2-16c242b7b9b8\",\"type\":\"HelpTool\"}]},\"id\":\"7e5808fe-508b-42b9-8cb1-d1c76d1eb813\",\"type\":\"Toolbar\"},{\"attributes\":{},\"id\":\"fa5855ab-634f-4d3f-939e-739135741873\",\"type\":\"Selection\"},{\"attributes\":{},\"id\":\"f106f687-f1dc-4e9b-b560-101dc320de3a\",\"type\":\"BasicTicker\"},{\"attributes\":{},\"id\":\"7c8289b1-7e65-4409-82f0-33fb4c39eb72\",\"type\":\"CategoricalScale\"},{\"attributes\":{\"fill_color\":{\"value\":\"#1f77b4\"},\"line_color\":{\"value\":\"#1f77b4\"},\"top\":{\"field\":\"flux\"},\"width\":{\"value\":0.9},\"x\":{\"field\":\"band\"}},\"id\":\"334281f1-17e8-43ce-b509-1726749a4c74\",\"type\":\"VBar\"},{\"attributes\":{\"fill_alpha\":{\"value\":0.1},\"fill_color\":{\"value\":\"#1f77b4\"},\"line_alpha\":{\"value\":0.1},\"line_color\":{\"value\":\"#1f77b4\"},\"top\":{\"field\":\"flux\"},\"width\":{\"value\":0.9},\"x\":{\"field\":\"band\"}},\"id\":\"f8e81c08-4dce-4736-bc24-65b9c83ea2b5\",\"type\":\"VBar\"}],\"root_ids\":[\"346f03d3-6fa3-40ab-aaca-f6e3e9523f6c\"]},\"title\":\"Bokeh Application\",\"version\":\"0.12.16\"}};\n",
       "  var render_items = [{\"docid\":\"8d9ad59d-26c9-4542-a22c-0711143fa065\",\"elementid\":\"485b167b-9cca-48f0-bd8f-f5c422e40429\",\"modelid\":\"346f03d3-6fa3-40ab-aaca-f6e3e9523f6c\"}];\n",
       "  root.Bokeh.embed.embed_items_notebook(docs_json, render_items);\n",
       "\n",
       "  }\n",
       "  if (root.Bokeh !== undefined) {\n",
       "    embed_document(root);\n",
       "  } else {\n",
       "    var attempts = 0;\n",
       "    var timer = setInterval(function(root) {\n",
       "      if (root.Bokeh !== undefined) {\n",
       "        embed_document(root);\n",
       "        clearInterval(timer);\n",
       "      }\n",
       "      attempts++;\n",
       "      if (attempts > 100) {\n",
       "        console.log(\"Bokeh: ERROR: Unable to run BokehJS code because BokehJS library is missing\")\n",
       "        clearInterval(timer);\n",
       "      }\n",
       "    }, 10, root)\n",
       "  }\n",
       "})(window);"
      ],
      "application/vnd.bokehjs_exec.v0+json": ""
     },
     "metadata": {
      "application/vnd.bokehjs_exec.v0+json": {
       "id": "346f03d3-6fa3-40ab-aaca-f6e3e9523f6c"
      }
     },
     "output_type": "display_data"
    },
    {
     "data": {
      "text/markdown": [
       "*FIGURE.* Difference between CLIRAD and CRD in TOA, SFC and net atmosphere flux, in each spectral band."
      ],
      "text/plain": [
       "<IPython.core.display.Markdown object>"
      ]
     },
     "metadata": {},
     "output_type": "display_data"
    },
    {
     "data": {
      "text/html": [
       "<div>\n",
       "<style scoped>\n",
       "    .dataframe tbody tr th:only-of-type {\n",
       "        vertical-align: middle;\n",
       "    }\n",
       "\n",
       "    .dataframe tbody tr th {\n",
       "        vertical-align: top;\n",
       "    }\n",
       "\n",
       "    .dataframe thead th {\n",
       "        text-align: right;\n",
       "    }\n",
       "</style>\n",
       "<table border=\"1\" class=\"dataframe\">\n",
       "  <thead>\n",
       "    <tr style=\"text-align: right;\">\n",
       "      <th></th>\n",
       "      <th>OLR flux</th>\n",
       "      <th>SFC flux</th>\n",
       "      <th>ATM heating</th>\n",
       "    </tr>\n",
       "    <tr>\n",
       "      <th>Sum over bands</th>\n",
       "      <th></th>\n",
       "      <th></th>\n",
       "      <th></th>\n",
       "    </tr>\n",
       "  </thead>\n",
       "  <tbody>\n",
       "    <tr>\n",
       "      <th>CLIRAD (single-run) - CRD</th>\n",
       "      <td>1.48</td>\n",
       "      <td>1.61</td>\n",
       "      <td>-0.13</td>\n",
       "    </tr>\n",
       "    <tr>\n",
       "      <th>CRD</th>\n",
       "      <td>-303.40</td>\n",
       "      <td>337.24</td>\n",
       "      <td>-181.37</td>\n",
       "    </tr>\n",
       "  </tbody>\n",
       "</table>\n",
       "</div>"
      ],
      "text/plain": [
       "                           OLR flux  SFC flux  ATM heating\n",
       "Sum over bands                                            \n",
       "CLIRAD (single-run) - CRD      1.48      1.61        -0.13\n",
       "CRD                         -303.40    337.24      -181.37"
      ]
     },
     "metadata": {},
     "output_type": "display_data"
    },
    {
     "data": {
      "text/markdown": [
       "*TABLE.* Difference between CLIRAD and CRD in TOA, SFC and net atmosphere flux, over all spectral bands. CRD's TOA, SFC and net atmosphere flux, over all spectral bands."
      ],
      "text/plain": [
       "<IPython.core.display.Markdown object>"
      ]
     },
     "metadata": {},
     "output_type": "display_data"
    }
   ],
   "source": [
    "def show_html(s):\n",
    "    display.display(display.HTML(s))\n",
    "\n",
    "    \n",
    "def show_markdown(s):\n",
    "    display.display(display.Markdown(s))\n",
    "\n",
    "\n",
    "def script():\n",
    "    \n",
    "    d_atm = {'mls': 'mid-latitude summer',\n",
    "             'saw': 'sub-arctic winter',\n",
    "             'trp': 'tropical'}\n",
    "    \n",
    "    title = ('## Results over entire range of molecules'\n",
    "             ' and spectral bands')\n",
    "    \n",
    "    s_makeup = 'Makeup of atmosphere.'\n",
    "    s_atmpro = '# {}'\n",
    "    s_cool = 'Cooling rates. {}.'\n",
    "    s_flux = 'Fluxes. {}.'\n",
    "    \n",
    "    atmpros = ['mls', 'saw', 'trp']\n",
    "    \n",
    "    # TOC\n",
    "    show_markdown(title)\n",
    "    show_markdown('### Table of Contents')\n",
    "    show_html(climahtml.getHTML_hrefanchor(s_makeup))\n",
    "    for atmpro in atmpros:\n",
    "        show_markdown('**' + d_atm[atmpro] + '**')\n",
    "        show_html(climahtml.getHTML_hrefanchor(s_cool.format(atmpro)))\n",
    "        show_html(climahtml.getHTML_hrefanchor(s_flux.format(atmpro)))\n",
    "\n",
    "        \n",
    "    # Atmosphere makeup\n",
    "    show_html(climahtml.getHTML_idanchor(s_makeup))\n",
    "    show_markdown(climahtml.getMarkdown_sectitle(s_makeup))\n",
    "    show_makeup()\n",
    "    show_grey_makeup()\n",
    "        \n",
    "    for atmpro in atmpros:\n",
    "        show_html(climahtml.getHTML_idanchor(s_cool.format(atmpro)))\n",
    "        show_markdown(\n",
    "            climahtml.getMarkdown_sectitle(s_cool.format(atmpro)))\n",
    "        show_cool(atmpro=atmpro)\n",
    "        show_html(climahtml.getHTML_idanchor(s_flux.format(atmpro)))\n",
    "        show_markdown(\n",
    "            climahtml.getMarkdown_sectitle(s_flux.format(atmpro)))\n",
    "        show_hist_flux(atmpro=atmpro)\n",
    "        show_tb_flux(atmpro=atmpro)\n",
    "    \n",
    "    \n",
    "script()  "
   ]
  },
  {
   "cell_type": "code",
   "execution_count": null,
   "metadata": {
    "collapsed": true
   },
   "outputs": [],
   "source": []
  },
  {
   "cell_type": "code",
   "execution_count": 14,
   "metadata": {},
   "outputs": [
    {
     "data": {
      "text/html": [
       "<script>\n",
       "code_show=true; \n",
       "function code_toggle() {\n",
       " if (code_show){\n",
       " $('div.input').hide();\n",
       " } else {\n",
       " $('div.input').show();\n",
       " }\n",
       " code_show = !code_show\n",
       "} \n",
       "$( document ).ready(code_toggle);\n",
       "</script>\n",
       "<form action=\"javascript:code_toggle()\"><input type=\"submit\" value=\"Click here to toggle on/off the raw code.\"></form>"
      ],
      "text/plain": [
       "<IPython.core.display.HTML object>"
      ]
     },
     "execution_count": 14,
     "metadata": {},
     "output_type": "execute_result"
    }
   ],
   "source": [
    "display.HTML('''<script>\n",
    "code_show=true; \n",
    "function code_toggle() {\n",
    " if (code_show){\n",
    " $('div.input').hide();\n",
    " } else {\n",
    " $('div.input').show();\n",
    " }\n",
    " code_show = !code_show\n",
    "} \n",
    "$( document ).ready(code_toggle);\n",
    "</script>\n",
    "<form action=\"javascript:code_toggle()\"><input type=\"submit\" value=\"Click here to toggle on/off the raw code.\"></form>''')"
   ]
  },
  {
   "cell_type": "code",
   "execution_count": null,
   "metadata": {
    "collapsed": true
   },
   "outputs": [],
   "source": []
  }
 ],
 "metadata": {
  "kernelspec": {
   "display_name": "Python 3",
   "language": "python",
   "name": "python3"
  },
  "language_info": {
   "codemirror_mode": {
    "name": "ipython",
    "version": 3
   },
   "file_extension": ".py",
   "mimetype": "text/x-python",
   "name": "python",
   "nbconvert_exporter": "python",
   "pygments_lexer": "ipython3",
   "version": "3.6.1"
  }
 },
 "nbformat": 4,
 "nbformat_minor": 2
}
