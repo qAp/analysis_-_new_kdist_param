{
 "cells": [
  {
   "cell_type": "code",
   "execution_count": 1,
   "metadata": {
    "collapsed": true
   },
   "outputs": [],
   "source": [
    "import os\n",
    "import ast\n",
    "import json\n",
    "import importlib \n",
    "import itertools\n",
    "import collections\n",
    "import pprint\n",
    "\n",
    "from bokeh.io import output_notebook, show\n",
    "from bokeh.layouts import gridplot\n",
    "from bokeh.plotting import figure\n",
    "from bokeh.models import Range1d, Legend, ColumnDataSource, FactorRange\n",
    "from bokeh.palettes import all_palettes\n",
    "from bokeh.transform import factor_cmap\n",
    "\n",
    "import matplotlib\n",
    "import matplotlib.pyplot as plt\n",
    "import numpy as np\n",
    "import pandas as pd\n",
    "import xarray as xr\n",
    "\n",
    "\n",
    "import climatools.lblnew.bestfit_params as bestfits\n",
    "from climatools.lblnew import setup_bestfit, setup_overlap\n",
    "import climatools.lblnew.pipeline as pipe_lblnew\n",
    "import climatools.cliradlw.setup as setup_cliradlw\n",
    "import climatools.cliradlw.pipeline as pipe_cliradlw\n",
    "\n",
    "import climatools.html.html as climahtml\n",
    "from climatools.lblnew.dataio import *\n",
    "from climatools.plot.plot import *\n",
    "\n",
    "\n",
    "from IPython import display\n",
    "\n",
    "#importlib.reload(bestfits)\n",
    "#importlib.reload(setup_bestfit)\n",
    "#importlib.reload(setup_overlap)\n",
    "#importlib.reload(pipe_lblnew)\n",
    "#importlib.reload(setup_cliradlw)\n",
    "#importlib.reload(pipe_cliradlw)"
   ]
  },
  {
   "cell_type": "code",
   "execution_count": 2,
   "metadata": {
    "scrolled": true
   },
   "outputs": [
    {
     "data": {
      "text/html": [
       "\n",
       "    <div class=\"bk-root\">\n",
       "        <a href=\"https://bokeh.pydata.org\" target=\"_blank\" class=\"bk-logo bk-logo-small bk-logo-notebook\"></a>\n",
       "        <span id=\"020f31c5-517b-40d1-9c18-21b475e9e56d\">Loading BokehJS ...</span>\n",
       "    </div>"
      ]
     },
     "metadata": {},
     "output_type": "display_data"
    },
    {
     "data": {
      "application/javascript": [
       "\n",
       "(function(root) {\n",
       "  function now() {\n",
       "    return new Date();\n",
       "  }\n",
       "\n",
       "  var force = true;\n",
       "\n",
       "  if (typeof (root._bokeh_onload_callbacks) === \"undefined\" || force === true) {\n",
       "    root._bokeh_onload_callbacks = [];\n",
       "    root._bokeh_is_loading = undefined;\n",
       "  }\n",
       "\n",
       "  var JS_MIME_TYPE = 'application/javascript';\n",
       "  var HTML_MIME_TYPE = 'text/html';\n",
       "  var EXEC_MIME_TYPE = 'application/vnd.bokehjs_exec.v0+json';\n",
       "  var CLASS_NAME = 'output_bokeh rendered_html';\n",
       "\n",
       "  /**\n",
       "   * Render data to the DOM node\n",
       "   */\n",
       "  function render(props, node) {\n",
       "    var script = document.createElement(\"script\");\n",
       "    node.appendChild(script);\n",
       "  }\n",
       "\n",
       "  /**\n",
       "   * Handle when an output is cleared or removed\n",
       "   */\n",
       "  function handleClearOutput(event, handle) {\n",
       "    var cell = handle.cell;\n",
       "\n",
       "    var id = cell.output_area._bokeh_element_id;\n",
       "    var server_id = cell.output_area._bokeh_server_id;\n",
       "    // Clean up Bokeh references\n",
       "    if (id !== undefined) {\n",
       "      Bokeh.index[id].model.document.clear();\n",
       "      delete Bokeh.index[id];\n",
       "    }\n",
       "\n",
       "    if (server_id !== undefined) {\n",
       "      // Clean up Bokeh references\n",
       "      var cmd = \"from bokeh.io.state import curstate; print(curstate().uuid_to_server['\" + server_id + \"'].get_sessions()[0].document.roots[0]._id)\";\n",
       "      cell.notebook.kernel.execute(cmd, {\n",
       "        iopub: {\n",
       "          output: function(msg) {\n",
       "            var element_id = msg.content.text.trim();\n",
       "            Bokeh.index[element_id].model.document.clear();\n",
       "            delete Bokeh.index[element_id];\n",
       "          }\n",
       "        }\n",
       "      });\n",
       "      // Destroy server and session\n",
       "      var cmd = \"import bokeh.io.notebook as ion; ion.destroy_server('\" + server_id + \"')\";\n",
       "      cell.notebook.kernel.execute(cmd);\n",
       "    }\n",
       "  }\n",
       "\n",
       "  /**\n",
       "   * Handle when a new output is added\n",
       "   */\n",
       "  function handleAddOutput(event, handle) {\n",
       "    var output_area = handle.output_area;\n",
       "    var output = handle.output;\n",
       "\n",
       "    // limit handleAddOutput to display_data with EXEC_MIME_TYPE content only\n",
       "    if ((output.output_type != \"display_data\") || (!output.data.hasOwnProperty(EXEC_MIME_TYPE))) {\n",
       "      return\n",
       "    }\n",
       "\n",
       "    var toinsert = output_area.element.find(\".\" + CLASS_NAME.split(' ')[0]);\n",
       "\n",
       "    if (output.metadata[EXEC_MIME_TYPE][\"id\"] !== undefined) {\n",
       "      toinsert[toinsert.length - 1].firstChild.textContent = output.data[JS_MIME_TYPE];\n",
       "      // store reference to embed id on output_area\n",
       "      output_area._bokeh_element_id = output.metadata[EXEC_MIME_TYPE][\"id\"];\n",
       "    }\n",
       "    if (output.metadata[EXEC_MIME_TYPE][\"server_id\"] !== undefined) {\n",
       "      var bk_div = document.createElement(\"div\");\n",
       "      bk_div.innerHTML = output.data[HTML_MIME_TYPE];\n",
       "      var script_attrs = bk_div.children[0].attributes;\n",
       "      for (var i = 0; i < script_attrs.length; i++) {\n",
       "        toinsert[toinsert.length - 1].firstChild.setAttribute(script_attrs[i].name, script_attrs[i].value);\n",
       "      }\n",
       "      // store reference to server id on output_area\n",
       "      output_area._bokeh_server_id = output.metadata[EXEC_MIME_TYPE][\"server_id\"];\n",
       "    }\n",
       "  }\n",
       "\n",
       "  function register_renderer(events, OutputArea) {\n",
       "\n",
       "    function append_mime(data, metadata, element) {\n",
       "      // create a DOM node to render to\n",
       "      var toinsert = this.create_output_subarea(\n",
       "        metadata,\n",
       "        CLASS_NAME,\n",
       "        EXEC_MIME_TYPE\n",
       "      );\n",
       "      this.keyboard_manager.register_events(toinsert);\n",
       "      // Render to node\n",
       "      var props = {data: data, metadata: metadata[EXEC_MIME_TYPE]};\n",
       "      render(props, toinsert[toinsert.length - 1]);\n",
       "      element.append(toinsert);\n",
       "      return toinsert\n",
       "    }\n",
       "\n",
       "    /* Handle when an output is cleared or removed */\n",
       "    events.on('clear_output.CodeCell', handleClearOutput);\n",
       "    events.on('delete.Cell', handleClearOutput);\n",
       "\n",
       "    /* Handle when a new output is added */\n",
       "    events.on('output_added.OutputArea', handleAddOutput);\n",
       "\n",
       "    /**\n",
       "     * Register the mime type and append_mime function with output_area\n",
       "     */\n",
       "    OutputArea.prototype.register_mime_type(EXEC_MIME_TYPE, append_mime, {\n",
       "      /* Is output safe? */\n",
       "      safe: true,\n",
       "      /* Index of renderer in `output_area.display_order` */\n",
       "      index: 0\n",
       "    });\n",
       "  }\n",
       "\n",
       "  // register the mime type if in Jupyter Notebook environment and previously unregistered\n",
       "  if (root.Jupyter !== undefined) {\n",
       "    var events = require('base/js/events');\n",
       "    var OutputArea = require('notebook/js/outputarea').OutputArea;\n",
       "\n",
       "    if (OutputArea.prototype.mime_types().indexOf(EXEC_MIME_TYPE) == -1) {\n",
       "      register_renderer(events, OutputArea);\n",
       "    }\n",
       "  }\n",
       "\n",
       "  \n",
       "  if (typeof (root._bokeh_timeout) === \"undefined\" || force === true) {\n",
       "    root._bokeh_timeout = Date.now() + 5000;\n",
       "    root._bokeh_failed_load = false;\n",
       "  }\n",
       "\n",
       "  var NB_LOAD_WARNING = {'data': {'text/html':\n",
       "     \"<div style='background-color: #fdd'>\\n\"+\n",
       "     \"<p>\\n\"+\n",
       "     \"BokehJS does not appear to have successfully loaded. If loading BokehJS from CDN, this \\n\"+\n",
       "     \"may be due to a slow or bad network connection. Possible fixes:\\n\"+\n",
       "     \"</p>\\n\"+\n",
       "     \"<ul>\\n\"+\n",
       "     \"<li>re-rerun `output_notebook()` to attempt to load from CDN again, or</li>\\n\"+\n",
       "     \"<li>use INLINE resources instead, as so:</li>\\n\"+\n",
       "     \"</ul>\\n\"+\n",
       "     \"<code>\\n\"+\n",
       "     \"from bokeh.resources import INLINE\\n\"+\n",
       "     \"output_notebook(resources=INLINE)\\n\"+\n",
       "     \"</code>\\n\"+\n",
       "     \"</div>\"}};\n",
       "\n",
       "  function display_loaded() {\n",
       "    var el = document.getElementById(\"020f31c5-517b-40d1-9c18-21b475e9e56d\");\n",
       "    if (el != null) {\n",
       "      el.textContent = \"BokehJS is loading...\";\n",
       "    }\n",
       "    if (root.Bokeh !== undefined) {\n",
       "      if (el != null) {\n",
       "        el.textContent = \"BokehJS \" + root.Bokeh.version + \" successfully loaded.\";\n",
       "      }\n",
       "    } else if (Date.now() < root._bokeh_timeout) {\n",
       "      setTimeout(display_loaded, 100)\n",
       "    }\n",
       "  }\n",
       "\n",
       "\n",
       "  function run_callbacks() {\n",
       "    try {\n",
       "      root._bokeh_onload_callbacks.forEach(function(callback) { callback() });\n",
       "    }\n",
       "    finally {\n",
       "      delete root._bokeh_onload_callbacks\n",
       "    }\n",
       "    console.info(\"Bokeh: all callbacks have finished\");\n",
       "  }\n",
       "\n",
       "  function load_libs(js_urls, callback) {\n",
       "    root._bokeh_onload_callbacks.push(callback);\n",
       "    if (root._bokeh_is_loading > 0) {\n",
       "      console.log(\"Bokeh: BokehJS is being loaded, scheduling callback at\", now());\n",
       "      return null;\n",
       "    }\n",
       "    if (js_urls == null || js_urls.length === 0) {\n",
       "      run_callbacks();\n",
       "      return null;\n",
       "    }\n",
       "    console.log(\"Bokeh: BokehJS not loaded, scheduling load and callback at\", now());\n",
       "    root._bokeh_is_loading = js_urls.length;\n",
       "    for (var i = 0; i < js_urls.length; i++) {\n",
       "      var url = js_urls[i];\n",
       "      var s = document.createElement('script');\n",
       "      s.src = url;\n",
       "      s.async = false;\n",
       "      s.onreadystatechange = s.onload = function() {\n",
       "        root._bokeh_is_loading--;\n",
       "        if (root._bokeh_is_loading === 0) {\n",
       "          console.log(\"Bokeh: all BokehJS libraries loaded\");\n",
       "          run_callbacks()\n",
       "        }\n",
       "      };\n",
       "      s.onerror = function() {\n",
       "        console.warn(\"failed to load library \" + url);\n",
       "      };\n",
       "      console.log(\"Bokeh: injecting script tag for BokehJS library: \", url);\n",
       "      document.getElementsByTagName(\"head\")[0].appendChild(s);\n",
       "    }\n",
       "  };var element = document.getElementById(\"020f31c5-517b-40d1-9c18-21b475e9e56d\");\n",
       "  if (element == null) {\n",
       "    console.log(\"Bokeh: ERROR: autoload.js configured with elementid '020f31c5-517b-40d1-9c18-21b475e9e56d' but no matching script tag was found. \")\n",
       "    return false;\n",
       "  }\n",
       "\n",
       "  var js_urls = [\"https://cdn.pydata.org/bokeh/release/bokeh-0.12.16.min.js\", \"https://cdn.pydata.org/bokeh/release/bokeh-widgets-0.12.16.min.js\", \"https://cdn.pydata.org/bokeh/release/bokeh-tables-0.12.16.min.js\", \"https://cdn.pydata.org/bokeh/release/bokeh-gl-0.12.16.min.js\"];\n",
       "\n",
       "  var inline_js = [\n",
       "    function(Bokeh) {\n",
       "      Bokeh.set_log_level(\"info\");\n",
       "    },\n",
       "    \n",
       "    function(Bokeh) {\n",
       "      \n",
       "    },\n",
       "    function(Bokeh) {\n",
       "      console.log(\"Bokeh: injecting CSS: https://cdn.pydata.org/bokeh/release/bokeh-0.12.16.min.css\");\n",
       "      Bokeh.embed.inject_css(\"https://cdn.pydata.org/bokeh/release/bokeh-0.12.16.min.css\");\n",
       "      console.log(\"Bokeh: injecting CSS: https://cdn.pydata.org/bokeh/release/bokeh-widgets-0.12.16.min.css\");\n",
       "      Bokeh.embed.inject_css(\"https://cdn.pydata.org/bokeh/release/bokeh-widgets-0.12.16.min.css\");\n",
       "      console.log(\"Bokeh: injecting CSS: https://cdn.pydata.org/bokeh/release/bokeh-tables-0.12.16.min.css\");\n",
       "      Bokeh.embed.inject_css(\"https://cdn.pydata.org/bokeh/release/bokeh-tables-0.12.16.min.css\");\n",
       "    }\n",
       "  ];\n",
       "\n",
       "  function run_inline_js() {\n",
       "    \n",
       "    if ((root.Bokeh !== undefined) || (force === true)) {\n",
       "      for (var i = 0; i < inline_js.length; i++) {\n",
       "        inline_js[i].call(root, root.Bokeh);\n",
       "      }if (force === true) {\n",
       "        display_loaded();\n",
       "      }} else if (Date.now() < root._bokeh_timeout) {\n",
       "      setTimeout(run_inline_js, 100);\n",
       "    } else if (!root._bokeh_failed_load) {\n",
       "      console.log(\"Bokeh: BokehJS failed to load within specified timeout.\");\n",
       "      root._bokeh_failed_load = true;\n",
       "    } else if (force !== true) {\n",
       "      var cell = $(document.getElementById(\"020f31c5-517b-40d1-9c18-21b475e9e56d\")).parents('.cell').data().cell;\n",
       "      cell.output_area.append_execute_result(NB_LOAD_WARNING)\n",
       "    }\n",
       "\n",
       "  }\n",
       "\n",
       "  if (root._bokeh_is_loading === 0) {\n",
       "    console.log(\"Bokeh: BokehJS loaded, going straight to plotting\");\n",
       "    run_inline_js();\n",
       "  } else {\n",
       "    load_libs(js_urls, function() {\n",
       "      console.log(\"Bokeh: BokehJS plotting callback run at\", now());\n",
       "      run_inline_js();\n",
       "    });\n",
       "  }\n",
       "}(window));"
      ],
      "application/vnd.bokehjs_load.v0+json": "\n(function(root) {\n  function now() {\n    return new Date();\n  }\n\n  var force = true;\n\n  if (typeof (root._bokeh_onload_callbacks) === \"undefined\" || force === true) {\n    root._bokeh_onload_callbacks = [];\n    root._bokeh_is_loading = undefined;\n  }\n\n  \n\n  \n  if (typeof (root._bokeh_timeout) === \"undefined\" || force === true) {\n    root._bokeh_timeout = Date.now() + 5000;\n    root._bokeh_failed_load = false;\n  }\n\n  var NB_LOAD_WARNING = {'data': {'text/html':\n     \"<div style='background-color: #fdd'>\\n\"+\n     \"<p>\\n\"+\n     \"BokehJS does not appear to have successfully loaded. If loading BokehJS from CDN, this \\n\"+\n     \"may be due to a slow or bad network connection. Possible fixes:\\n\"+\n     \"</p>\\n\"+\n     \"<ul>\\n\"+\n     \"<li>re-rerun `output_notebook()` to attempt to load from CDN again, or</li>\\n\"+\n     \"<li>use INLINE resources instead, as so:</li>\\n\"+\n     \"</ul>\\n\"+\n     \"<code>\\n\"+\n     \"from bokeh.resources import INLINE\\n\"+\n     \"output_notebook(resources=INLINE)\\n\"+\n     \"</code>\\n\"+\n     \"</div>\"}};\n\n  function display_loaded() {\n    var el = document.getElementById(\"020f31c5-517b-40d1-9c18-21b475e9e56d\");\n    if (el != null) {\n      el.textContent = \"BokehJS is loading...\";\n    }\n    if (root.Bokeh !== undefined) {\n      if (el != null) {\n        el.textContent = \"BokehJS \" + root.Bokeh.version + \" successfully loaded.\";\n      }\n    } else if (Date.now() < root._bokeh_timeout) {\n      setTimeout(display_loaded, 100)\n    }\n  }\n\n\n  function run_callbacks() {\n    try {\n      root._bokeh_onload_callbacks.forEach(function(callback) { callback() });\n    }\n    finally {\n      delete root._bokeh_onload_callbacks\n    }\n    console.info(\"Bokeh: all callbacks have finished\");\n  }\n\n  function load_libs(js_urls, callback) {\n    root._bokeh_onload_callbacks.push(callback);\n    if (root._bokeh_is_loading > 0) {\n      console.log(\"Bokeh: BokehJS is being loaded, scheduling callback at\", now());\n      return null;\n    }\n    if (js_urls == null || js_urls.length === 0) {\n      run_callbacks();\n      return null;\n    }\n    console.log(\"Bokeh: BokehJS not loaded, scheduling load and callback at\", now());\n    root._bokeh_is_loading = js_urls.length;\n    for (var i = 0; i < js_urls.length; i++) {\n      var url = js_urls[i];\n      var s = document.createElement('script');\n      s.src = url;\n      s.async = false;\n      s.onreadystatechange = s.onload = function() {\n        root._bokeh_is_loading--;\n        if (root._bokeh_is_loading === 0) {\n          console.log(\"Bokeh: all BokehJS libraries loaded\");\n          run_callbacks()\n        }\n      };\n      s.onerror = function() {\n        console.warn(\"failed to load library \" + url);\n      };\n      console.log(\"Bokeh: injecting script tag for BokehJS library: \", url);\n      document.getElementsByTagName(\"head\")[0].appendChild(s);\n    }\n  };var element = document.getElementById(\"020f31c5-517b-40d1-9c18-21b475e9e56d\");\n  if (element == null) {\n    console.log(\"Bokeh: ERROR: autoload.js configured with elementid '020f31c5-517b-40d1-9c18-21b475e9e56d' but no matching script tag was found. \")\n    return false;\n  }\n\n  var js_urls = [\"https://cdn.pydata.org/bokeh/release/bokeh-0.12.16.min.js\", \"https://cdn.pydata.org/bokeh/release/bokeh-widgets-0.12.16.min.js\", \"https://cdn.pydata.org/bokeh/release/bokeh-tables-0.12.16.min.js\", \"https://cdn.pydata.org/bokeh/release/bokeh-gl-0.12.16.min.js\"];\n\n  var inline_js = [\n    function(Bokeh) {\n      Bokeh.set_log_level(\"info\");\n    },\n    \n    function(Bokeh) {\n      \n    },\n    function(Bokeh) {\n      console.log(\"Bokeh: injecting CSS: https://cdn.pydata.org/bokeh/release/bokeh-0.12.16.min.css\");\n      Bokeh.embed.inject_css(\"https://cdn.pydata.org/bokeh/release/bokeh-0.12.16.min.css\");\n      console.log(\"Bokeh: injecting CSS: https://cdn.pydata.org/bokeh/release/bokeh-widgets-0.12.16.min.css\");\n      Bokeh.embed.inject_css(\"https://cdn.pydata.org/bokeh/release/bokeh-widgets-0.12.16.min.css\");\n      console.log(\"Bokeh: injecting CSS: https://cdn.pydata.org/bokeh/release/bokeh-tables-0.12.16.min.css\");\n      Bokeh.embed.inject_css(\"https://cdn.pydata.org/bokeh/release/bokeh-tables-0.12.16.min.css\");\n    }\n  ];\n\n  function run_inline_js() {\n    \n    if ((root.Bokeh !== undefined) || (force === true)) {\n      for (var i = 0; i < inline_js.length; i++) {\n        inline_js[i].call(root, root.Bokeh);\n      }if (force === true) {\n        display_loaded();\n      }} else if (Date.now() < root._bokeh_timeout) {\n      setTimeout(run_inline_js, 100);\n    } else if (!root._bokeh_failed_load) {\n      console.log(\"Bokeh: BokehJS failed to load within specified timeout.\");\n      root._bokeh_failed_load = true;\n    } else if (force !== true) {\n      var cell = $(document.getElementById(\"020f31c5-517b-40d1-9c18-21b475e9e56d\")).parents('.cell').data().cell;\n      cell.output_area.append_execute_result(NB_LOAD_WARNING)\n    }\n\n  }\n\n  if (root._bokeh_is_loading === 0) {\n    console.log(\"Bokeh: BokehJS loaded, going straight to plotting\");\n    run_inline_js();\n  } else {\n    load_libs(js_urls, function() {\n      console.log(\"Bokeh: BokehJS plotting callback run at\", now());\n      run_inline_js();\n    });\n  }\n}(window));"
     },
     "metadata": {},
     "output_type": "display_data"
    }
   ],
   "source": [
    "output_notebook()"
   ]
  },
  {
   "cell_type": "code",
   "execution_count": 3,
   "metadata": {
    "collapsed": true
   },
   "outputs": [],
   "source": [
    "'''\n",
    "Get the clirad-lw and lblnew `param`s for all spectral bands.  \n",
    "These are returned by functions `clirad_params_atm` and\n",
    "`lblnew_params_atm`, respectively.\n",
    "'''\n",
    "\n",
    "def molecules_byband_atm():\n",
    "    return {1: {'h2o': 'atmpro'},\n",
    "            2: {'h2o': 'atmpro'}, \n",
    "            3: {'co2': 0.0004, 'h2o': 'atmpro', 'n2o': 3.2e-07},\n",
    "            4: {'co2': 0.0004, 'h2o': 'atmpro'},\n",
    "            5: {'co2': 0.0004, 'h2o': 'atmpro'},\n",
    "            6: {'co2': 0.0004, 'h2o': 'atmpro'},\n",
    "            7: {'co2': 0.0004, 'h2o': 'atmpro', 'o3': 'atmpro'},\n",
    "            8: {'h2o': 'atmpro'},\n",
    "            9: {'ch4': 1.8e-06, 'h2o': 'atmpro', 'n2o': 3.2e-07},\n",
    "            10: {'h2o': 'atmpro'},\n",
    "            11: {'co2': 0.0004, 'h2o': 'atmpro'}}\n",
    "\n",
    "\n",
    "def greyabsorbers_by_band_atm():\n",
    "    return {1: {'con': 'atmpro'},\n",
    "            2: {'con': 'atmpro'},\n",
    "            3: {'con': 'atmpro'},\n",
    "            4: {'con': 'atmpro'},\n",
    "            5: {'con': 'atmpro'},\n",
    "            6: {'con': 'atmpro'}, \n",
    "            7: {'con': 'atmpro'},\n",
    "            8: {'con': 'atmpro', 'n2o': 3.2e-7}, \n",
    "            9: {'con': 'atmpro'}, \n",
    "            10: None,\n",
    "            11: None}\n",
    "\n",
    "\n",
    "def clirad_params_atm(atmpro='mls'):\n",
    "    d = {}\n",
    "    for band, molecule in molecules_byband_atm().items():\n",
    "        for param in setup_cliradlw.test_cases():\n",
    "            if [band] == param['band'] and molecule == param['molecule']:\n",
    "                param['atmpro'] = atmpro\n",
    "                d[band] = param\n",
    "                break                \n",
    "    return d\n",
    "\n",
    "\n",
    "def clirad_params_atm_singlerun(atmpro='mls'):\n",
    "    '''\n",
    "    Returns param of clirad-lw run that is equivalent to the total\n",
    "    of all the runs listed in molecules_byband_atm().  In order\n",
    "    for the output to be compatible with clirad_data_atm(), it will\n",
    "    be a list.\n",
    "    '''\n",
    "    param0 = {'band': [1, 2, 3, 4, 5, 6, 7, 8, 9, 10, 11],\n",
    "              'commitnumber': '328b6a6',\n",
    "              'molecule': {'ch4': 1.8e-06,\n",
    "                           'co2': 0.0004,\n",
    "                           'h2o': 'atmpro',\n",
    "                           'n2o': 3.2e-07,\n",
    "                           'o3': 'atmpro'}}\n",
    "    \n",
    "    d_atmpros = {'mls': 294, 'saw': 257, 'trp': 300}\n",
    "    \n",
    "    param = param0.copy()\n",
    "    param['atmpro'] = atmpro\n",
    "    param['tsfc'] = d_atmpros[atmpro]\n",
    "    \n",
    "    d = {}\n",
    "    d['all'] = param\n",
    "    return d\n",
    "\n",
    "\n",
    "def analysis_dirs_atm(atmpro='mls'):\n",
    "    params = clirad_params_atm(atmpro=atmpro)\n",
    "    return {band: pipe_cliradlw.get_analysis_dir(param=param,\n",
    "                                                 setup=setup_cliradlw) \n",
    "            for band, param in params.items()}\n",
    "\n",
    "\n",
    "def lblnew_params_atm(atmpro='mls'):\n",
    "    dirs = analysis_dirs_atm(atmpro=atmpro)\n",
    "    \n",
    "    d = {}\n",
    "    for band, dirname in dirs.items():\n",
    "        with open(os.path.join(dirname, 'param.py'), \n",
    "                  mode='r', encoding='utf-8') as f:\n",
    "            _, l = f.readlines()\n",
    "        \n",
    "        s = l.split('=')[1].strip()\n",
    "        d[band] = ast.literal_eval(s)\n",
    "        \n",
    "    return d\n"
   ]
  },
  {
   "cell_type": "code",
   "execution_count": 4,
   "metadata": {
    "collapsed": true
   },
   "outputs": [],
   "source": [
    "def db_getdir():\n",
    "    atmpro = 'mls'\n",
    "    params = clirad_params_atm_singlerun(atmpro=atmpro)\n",
    "    param = params['all']\n",
    "    \n",
    "    fdir = pipe_cliradlw.get_fortran_dir(param=param, \n",
    "                                         setup=setup_cliradlw)\n",
    "    return fdir\n",
    "\n",
    "\n",
    "def db_ktable():\n",
    "    fdir = db_getdir()    \n",
    "    fpath = os.path.join(fdir, 'ktable.dat')\n",
    "    \n",
    "    df = pd.read_csv(fpath, sep=r'\\s+')\n",
    "    df = df.set_index(['band', 'mid', 'il', 'it', 'g'])\n",
    "    ds = xr.Dataset.from_dataframe(df)\n",
    "    return ds\n",
    "\n",
    "\n",
    "def db_ng_dgs():\n",
    "    fdir = db_getdir()\n",
    "    fpath = os.path.join(fdir, 'ng_dgs.dat')\n",
    "    \n",
    "    df = pd.read_csv(fpath, sep=r'\\s+')\n",
    "    df = df.set_index(['band', 'mid', 'g'])\n",
    "    ds = xr.Dataset.from_dataframe(df)\n",
    "    return ds\n"
   ]
  },
  {
   "cell_type": "code",
   "execution_count": 5,
   "metadata": {
    "collapsed": true
   },
   "outputs": [],
   "source": [
    "def show_makeup():\n",
    "    df = pd.DataFrame()\n",
    "\n",
    "    for band, molecule in molecules_byband_atm().items():\n",
    "        for name, conc in molecule.items():\n",
    "            df.loc[name, band] = str(conc)\n",
    "\n",
    "    df = df.fillna(0)\n",
    "    df.columns.name = 'clirad band'\n",
    "    df.index.name = 'molecule'\n",
    "    \n",
    "    display.display(df)\n",
    "    \n",
    "    display.display(\n",
    "        display.Markdown('*TABLE.* Non-grey absorbers in the atmosphere.'))\n",
    "\n",
    "\n",
    "def show_grey_makeup():\n",
    "    df = pd.DataFrame()\n",
    "    \n",
    "    for band, molecule in greyabsorbers_by_band_atm().items():\n",
    "        if molecule == None:\n",
    "            pass\n",
    "        else:\n",
    "            for name, conc in molecule.items():\n",
    "                df.loc[name, band] = str(conc)\n",
    "                \n",
    "    df = df.fillna(0)\n",
    "    df.columns.name = 'clirad band'\n",
    "    df.index.name = 'absorber'\n",
    "    \n",
    "    display.display(df)\n",
    "    display.display(\n",
    "        display.Markdown('*TABLE.* Grey absorbers in the atmosphere.')\n",
    "    )"
   ]
  },
  {
   "cell_type": "code",
   "execution_count": 6,
   "metadata": {
    "collapsed": true
   },
   "outputs": [],
   "source": [
    "def load_output_file(path_csv):\n",
    "    '''\n",
    "    Load lblnew output .csv file to xarray.Dataset\n",
    "    \n",
    "    Parameters\n",
    "    ----------\n",
    "    path_csv: str\n",
    "              Path to the .csv file to be loaded.\n",
    "    ds: xarray.Dataset\n",
    "        Data in the input file in the form of an xarray.Dataset.\n",
    "    '''\n",
    "    toindex = ['band', 'pressure', 'igg', 'g']    \n",
    "    df = pd.read_csv(path_csv, sep=r'\\s+')\n",
    "    df = df.set_index([i for i in toindex if i in df.columns])\n",
    "    df = df.rename(columns={'sfu': 'flug',\n",
    "                            'sfd': 'fldg',\n",
    "                            'fnet': 'fnetg',\n",
    "                            'coolr': 'coolrg'})\n",
    "    ds = xr.Dataset.from_dataframe(df)\n",
    "\n",
    "    for l in ('level', 'layer'):\n",
    "        if l in ds.data_vars:\n",
    "            if len(ds[l].dims) > 1:\n",
    "                surface = {d: 0 for d in ds.dims if d != 'pressure'}\n",
    "                coord_level = ds[l][surface]\n",
    "                ds.coords[l] = ('pressure', coord_level)\n",
    "            else:\n",
    "                ds.coords[l] = ('pressure', ds[l])\n",
    "    \n",
    "    return ds"
   ]
  },
  {
   "cell_type": "code",
   "execution_count": 7,
   "metadata": {
    "collapsed": true
   },
   "outputs": [],
   "source": [
    "def lblnew_setup(param=None):\n",
    "    if 'ng_refs' in param:\n",
    "        return {'setup': setup_bestfit,\n",
    "                'fname_flux_crd': 'output_flux.dat',\n",
    "                'fname_cool_crd': 'output_coolr.dat',\n",
    "                'fname_flux_wgt': 'output_wfluxg.dat',\n",
    "                'fname_cool_wgt': 'output_wcoolrg.dat'}\n",
    "    else:\n",
    "        return {'setup': setup_overlap,\n",
    "                'fname_flux_crd': 'output_flux.dat',\n",
    "                'fname_cool_crd': 'output_coolr.dat',\n",
    "                'fname_flux_wgt': 'output_wflux.dat',\n",
    "                'fname_cool_wgt': 'output_wcoolr.dat'}\n",
    "\n",
    "    \n",
    "def load_lblnew_data(param):\n",
    "    \n",
    "    fname_dsname = [('fname_flux_crd', 'ds_flux_crd'),\n",
    "                    ('fname_cool_crd', 'ds_cool_crd'),\n",
    "                    ('fname_flux_wgt', 'ds_flux_wgt'),\n",
    "                    ('fname_cool_wgt', 'ds_cool_wgt')]\n",
    "    \n",
    "    d = lblnew_setup(param)\n",
    "    dir_fortran = pipe_lblnew.get_dir_case(param, setup=d['setup'])\n",
    "    \n",
    "    data_dict = {}\n",
    "    for fname, dsname in fname_dsname:\n",
    "        fpath = os.path.join(dir_fortran, d[fname])\n",
    "        data_dict[dsname] = load_output_file(fpath)\n",
    "    return data_dict"
   ]
  },
  {
   "cell_type": "code",
   "execution_count": 8,
   "metadata": {
    "collapsed": true
   },
   "outputs": [],
   "source": [
    "def crd_data_atm(params_atm):\n",
    "    '''\n",
    "    Parameters\n",
    "    ----------\n",
    "    \n",
    "    params_atm: dict\n",
    "                Parameter dictionary for each band.\n",
    "                \n",
    "    d: dict\n",
    "       'flux': xr.Dataset. [pressure, band]\n",
    "               Fluxes.\n",
    "       'cool': xr.Dataset. [pressure, band]\n",
    "               Cooling rate.\n",
    "    \n",
    "    '''\n",
    "    \n",
    "    results_atm = {band: load_lblnew_data(param) \n",
    "                   for band, param in params_atm.items()}\n",
    "    \n",
    "    bands = [band for band, _ in params_atm.items()]\n",
    "    fluxs = [d['ds_flux_crd'] for _, d in results_atm.items()]\n",
    "    cools = [d['ds_cool_crd'] for _, d in results_atm.items()]\n",
    "    \n",
    "    d = {}\n",
    "    d['flux'] = xr.concat(fluxs, dim=bands).rename({'concat_dim': 'band'})\n",
    "    d['cool'] = xr.concat(cools, dim=bands).rename({'concat_dim': 'band'})\n",
    "    return d        \n",
    "        \n",
    "        \n",
    "\n",
    "def clirad_data_atm(params_atm):\n",
    "    \n",
    "    dirnames = [pipe_cliradlw.get_fortran_dir(param,\n",
    "                                              setup=setup_cliradlw)\n",
    "                for _, param in params_atm.items()]\n",
    "    \n",
    "    fpaths_flux = [os.path.join(n, 'output_flux.dat') for n in dirnames]\n",
    "    fpaths_cool = [os.path.join(n, 'output_coolr.dat') for n in dirnames]\n",
    "    \n",
    "    fluxs = [load_output_file(p) for p in fpaths_flux]    \n",
    "    cools = [load_output_file(p) for p in fpaths_cool]\n",
    "    \n",
    "    d = {}\n",
    "    d['flux'] = sum(fluxs)\n",
    "    d['cool'] = sum(cools)\n",
    "    return d\n",
    "\n"
   ]
  },
  {
   "cell_type": "code",
   "execution_count": 9,
   "metadata": {
    "collapsed": true
   },
   "outputs": [],
   "source": [
    "\n",
    "\n",
    "import rtmtools.clirad.sw.wrangle as cliradwrangle\n",
    "\n",
    "import importlib\n",
    "importlib.reload(cliradwrangle)\n",
    "\n",
    "def oldclirad_data_atm():\n",
    "    '''\n",
    "    Load the OLD clirad's results. mls only.\n",
    "    '''\n",
    "    fpath = os.path.join('/chia_cluster/home/jackyu/radiation',\n",
    "                         'clirad-lw',\n",
    "                         'LW',\n",
    "                         'examples',\n",
    "                         'mls75_h2o_atmpro_co2_.0004_o3_atmpro_n2o_3.2e-7_ch4_1.8e-6_H2012',\n",
    "                         'OUTPUT_CLIRAD.dat')\n",
    "    \n",
    "    ds = cliradwrangle.load_OUTPUT_CLIRAD(readfrom=fpath)\n",
    "    \n",
    "    ds_cool = xr.Dataset()\n",
    "    ds_cool.coords['pressure'] = ('pressure', ds['layer_pressure'])\n",
    "    ds_cool.coords['band'] = ('band', ds['spectral_band'])\n",
    "    ds_cool['coolrg'] = (('band', 'pressure'), - ds['heating_rate'])\n",
    "    \n",
    "    ds_flux = xr.Dataset()\n",
    "    ds_flux.coords['pressure'] = ('pressure', ds['level_pressure'])\n",
    "    ds_flux.coords['band'] = ('band', ds['spectral_band'])\n",
    "    ds_flux['flug'] = (('band', 'pressure'), ds['flux_up'])\n",
    "    ds_flux['fldg'] = (('band', 'pressure'), ds['flux_down'])\n",
    "    ds_flux['fnetg'] = (('band', 'pressure'), ds['net_flux'])\n",
    "    \n",
    "    \n",
    "    d = {}\n",
    "    d['cool'] = ds_cool\n",
    "    d['flux'] = ds_flux\n",
    "    return d\n"
   ]
  },
  {
   "cell_type": "code",
   "execution_count": 10,
   "metadata": {
    "collapsed": true
   },
   "outputs": [],
   "source": [
    "def fmt_cool(ds_in):\n",
    "    ds = ds_in.copy(deep=True)\n",
    "    if 'igg' in ds.dims:\n",
    "        ds = ds.sel(igg=1)\n",
    "\n",
    "    if 'g' in ds.dims:\n",
    "        ds = ds.sum('g')\n",
    "            \n",
    "    if 'band' in ds.dims:\n",
    "        try:\n",
    "            ds = ds.squeeze('band')\n",
    "        except ValueError:\n",
    "            ds = ds.sum('band')\n",
    "                \n",
    "    return ds['coolrg']\n",
    "\n",
    "\n",
    "\n",
    "def nice_xlims(pltdata=None, prange=None):\n",
    "    \n",
    "    def get_slice(srs):\n",
    "        return srs.sel(pressure=slice(*prange))\n",
    "    \n",
    "    srss = [d['srs'] for d in pltdata]\n",
    "    vmin = min([get_slice(srs).min() for srs in srss])\n",
    "    vmax = max([get_slice(srs).max() for srs in srss])\n",
    "    dv = (vmax - vmin) * .01\n",
    "    return float(vmin - dv), float(vmax + dv)\n",
    "\n",
    "\n",
    "    \n",
    "def plt_cool_bokeh(pltdata=None, \n",
    "                   y_axis_type='linear', prange=(50, 1050)):\n",
    "    \n",
    "    ymin = 1e-2 \n",
    "    ymax = 1020\n",
    "    \n",
    "    p2 = figure(y_axis_type=y_axis_type, plot_width=300)\n",
    "    xmin, xmax = nice_xlims(pltdata, prange=prange)\n",
    "    \n",
    "    rs = []\n",
    "    for d in pltdata:\n",
    "        rd = []\n",
    "        if 'marker' in d:\n",
    "            r_mark = getattr(p2, d['marker'])(d['srs'].values, \n",
    "                        d['srs'].coords['pressure'].values,\n",
    "                        color=d['color'], alpha=.7)\n",
    "            rd.append(r_mark)\n",
    "        r_line = p2.line(d['srs'].values, \n",
    "                         d['srs'].coords['pressure'].values,\n",
    "                         color=d['color'], alpha=d['alpha'], \n",
    "                         line_width=d['line_width'], \n",
    "                         line_dash=d['line_dash'])\n",
    "        rd.append(r_line)\n",
    "      \n",
    "        rs.append(rd)\n",
    "        \n",
    "    p2.y_range = Range1d(ymax, ymin)  \n",
    "    p2.yaxis.axis_label = 'pressure [mb]'\n",
    "    \n",
    "    p2.x_range = Range1d(xmin, xmax)\n",
    "    p2.xaxis.axis_label = 'cooling rate [K/day]'\n",
    "    \n",
    "    items = [(d['label'], r) for r, d in zip(rs, pltdata)]\n",
    "    legend = Legend(items=items, location=(10, 0))\n",
    "    legend.label_text_font_size = '8pt'\n",
    "    p2.add_layout(legend, 'above')\n",
    "    p2.legend.orientation = 'horizontal'\n",
    "    p2.legend.location = 'top_center'\n",
    "    \n",
    "    return p2"
   ]
  },
  {
   "cell_type": "code",
   "execution_count": 11,
   "metadata": {
    "collapsed": true
   },
   "outputs": [],
   "source": [
    "def pltdata_cool(atmpro='mls'):\n",
    "    \n",
    "    d_clirad_singlerun = clirad_data_atm(\n",
    "        clirad_params_atm_singlerun(atmpro=atmpro))\n",
    "    d_clirad = clirad_data_atm(clirad_params_atm(atmpro=atmpro))\n",
    "    d_crd = crd_data_atm(lblnew_params_atm(atmpro=atmpro))\n",
    "\n",
    "    ds_clirad_singlerun = d_clirad_singlerun['cool']\n",
    "    ds_clirad = d_clirad['cool']\n",
    "    ds_crd = d_crd['cool']\n",
    "\n",
    "    colors = all_palettes['Set1'][4]\n",
    "    \n",
    "    data = [\n",
    "        {'label': 'CLIRAD (single-run)',\n",
    "        'srs': fmt_cool(ds_clirad_singlerun),\n",
    "        'line_dash': 'dashed', 'line_width': 5,\n",
    "        'color': colors[1], 'alpha': .6},\n",
    "        {'label': 'CRD',\n",
    "         'srs': fmt_cool(ds_crd),\n",
    "         'line_dash': 'solid', 'line_width': 1.5,\n",
    "         'marker': 'circle', 'marker_size': 5,\n",
    "         'color': colors[2], 'alpha': 1}\n",
    "    ]\n",
    "#        {'label': 'CLIRAD',\n",
    "#         'srs': fmt_cool(ds_clirad),\n",
    "#         'line_dash': 'dashed', 'line_width': 5,\n",
    "#         'color': colors[0], 'alpha': .6}\n",
    "        \n",
    "\n",
    "    \n",
    "    # include old CLIRAD's results for mls profile\n",
    "    if atmpro == 'mls':\n",
    "        d_oldclirad = oldclirad_data_atm()\n",
    "        ds_oldclirad = d_oldclirad['cool']        \n",
    "        data.append(\n",
    "            {'label': 'old CLIRAD (H2012)',\n",
    "             'srs': fmt_cool(ds_oldclirad),\n",
    "             'line_dash': 'solid', 'line_width': 1.5,\n",
    "             'marker': 'square', 'marker_size': 3,\n",
    "             'color': colors[3], 'alpha': .5})\n",
    "    return data\n",
    "\n",
    "\n",
    "def pltdata_cooldiff(atmpro='mls'):\n",
    "    \n",
    "    d_clirad_singlerun = clirad_data_atm(\n",
    "        clirad_params_atm_singlerun(atmpro=atmpro))\n",
    "    d_clirad = clirad_data_atm(clirad_params_atm(atmpro=atmpro))\n",
    "    d_crd = crd_data_atm(lblnew_params_atm(atmpro=atmpro))\n",
    "    \n",
    "    ds_clirad_singlerun = d_clirad_singlerun['cool']\n",
    "    ds_clirad = d_clirad['cool']\n",
    "    ds_crd = d_crd['cool']\n",
    "    \n",
    "    ds_diff = ds_clirad_singlerun - ds_crd\n",
    "    \n",
    "    colors = all_palettes['Set1'][4]\n",
    "    \n",
    "    data = [\n",
    "        {'label': 'CLIRAD (single-run) - CRD',\n",
    "         'srs': fmt_cool(ds_diff),\n",
    "         'line_dash': 'solid', 'line_width': 1.5, \n",
    "         'marker': 'circle', 'marker_size': 7,\n",
    "         'color': colors[3], 'alpha': .8}\n",
    "    ]\n",
    "    \n",
    "    # include old CLIRAD's results for mls profile\n",
    "    if atmpro == 'mls':\n",
    "        d_oldclirad = oldclirad_data_atm()\n",
    "        ds_oldclirad = d_oldclirad['cool']\n",
    "        ds_oldclirad.coords['pressure'] = ds_crd.coords['pressure']\n",
    "        ds_diff_old = ds_oldclirad.sum('band') - ds_crd.sum('band')\n",
    "        data.append(\n",
    "            {'label': 'old CLIRAD (H2012) - CRD',\n",
    "             'srs': fmt_cool(ds_diff_old),\n",
    "             'line_dash': 'dashed', 'line_width': 4,\n",
    "             'color': colors[1], 'alpha': .5}\n",
    "        )\n",
    "    return data\n",
    "\n",
    "\n",
    "def show_cool(atmpro='mls'):\n",
    "    \n",
    "    data_cool = pltdata_cool(atmpro=atmpro)\n",
    "    p_cool_liny = plt_cool_bokeh(pltdata=data_cool)\n",
    "    p_cool_logy = plt_cool_bokeh(pltdata=data_cool, \n",
    "                                 y_axis_type='log',\n",
    "                                 prange=(.01, 200))\n",
    "    \n",
    "    data_cooldiff = pltdata_cooldiff(atmpro=atmpro)\n",
    "    p_cooldiff_logy = plt_cool_bokeh(pltdata=data_cooldiff,\n",
    "                                     y_axis_type='log',\n",
    "                                     prange=(.01, 200))\n",
    "    \n",
    "    everything = gridplot(p_cool_liny, p_cool_logy, \n",
    "                          p_cooldiff_logy,\n",
    "                          ncols=3)\n",
    "    show(everything)\n",
    "    display.display(\n",
    "        display.Markdown('*FIGURE.* Cooling rates & difference.'))\n",
    "\n",
    "\n",
    "    "
   ]
  },
  {
   "cell_type": "code",
   "execution_count": null,
   "metadata": {
    "collapsed": true
   },
   "outputs": [],
   "source": []
  },
  {
   "cell_type": "code",
   "execution_count": 12,
   "metadata": {
    "collapsed": true,
    "scrolled": false
   },
   "outputs": [],
   "source": [
    "\n",
    "\n",
    "def hist_band_vs_flux(da, title='Title'):\n",
    "       \n",
    "    bands = [str(b.values) for b in da['band']]\n",
    "\n",
    "    source = ColumnDataSource(\n",
    "        data={'band': bands, 'flux': da.values})\n",
    "\n",
    "    p = figure(x_range=bands, title=title)\n",
    "    p.vbar(source=source, x='band', top='flux', width=.9)\n",
    "\n",
    "    p.yaxis.axis_label = 'flux (W m-2)'\n",
    "    p.xaxis.axis_label = 'spectral band'\n",
    "    \n",
    "    return p\n",
    "\n",
    "\n",
    "def show_hist_flux(atmpro='mls'):\n",
    "    ds_crd = crd_data_atm(lblnew_params_atm(atmpro=atmpro))['flux']\n",
    "    ds_clirad = clirad_data_atm(\n",
    "        clirad_params_atm(atmpro=atmpro))['flux']\n",
    "    ds_clirad_singlerun = clirad_data_atm(\n",
    "        clirad_params_atm_singlerun(atmpro=atmpro))['flux']\n",
    "    \n",
    "    ip, varname = 0, 'flug'\n",
    "    da = (ds_clirad_singlerun - ds_crd).isel(pressure=ip)[varname]\n",
    "    p_toa = hist_band_vs_flux(da, \n",
    "        title='TOA flux. CLIRAD (single-run) - CRD.')\n",
    "\n",
    "    ip, varname = -1, 'fldg'\n",
    "    da = (ds_clirad_singlerun - ds_crd).isel(pressure=ip)[varname]\n",
    "    p_sfc = hist_band_vs_flux(da, \n",
    "        title='SFC flux. CLIRAD (single-run) - CRD.')    \n",
    "    \n",
    "    atm_crd = (ds_crd.isel(pressure=0) \n",
    "               - ds_crd.isel(pressure=-1))['fnetg']\n",
    "    atm_clirad_singlerun = (ds_clirad_singlerun.isel(pressure=0) \n",
    "                  - ds_clirad_singlerun.isel(pressure=-1))['fnetg']\n",
    "    da = atm_clirad_singlerun - atm_crd\n",
    "    p_atm = hist_band_vs_flux(da, \n",
    "        title='Atmosphere heating. CLIRAD (single-run) - CRD.')\n",
    "\n",
    "    everything = gridplot(p_toa, p_sfc, p_atm, ncols=3, \n",
    "                          plot_width=300, plot_height=300)\n",
    "    \n",
    "    show(everything)\n",
    "    display.display(\n",
    "        display.Markdown('*FIGURE.* Difference between CLIRAD and CRD'\n",
    "          ' in TOA, SFC and net atmosphere flux,'\n",
    "          ' in each spectral band.'))\n",
    "\n",
    "\n",
    "    \n",
    "def show_tb_flux(atmpro='mls'):\n",
    "    \n",
    "    def fmt(da_in):\n",
    "        da = da_in.copy(deep=True)\n",
    "        if 'igg' in da.dims:\n",
    "            da = da.sel(igg=1)\n",
    "            \n",
    "        if 'g' in da.dims:\n",
    "            da = da.sum('g')\n",
    "        \n",
    "        if 'band' in da.dims:\n",
    "            try:\n",
    "                da = da.squeeze('band')\n",
    "            except ValueError:\n",
    "                da = da.sum('band')\n",
    "                \n",
    "        return da\n",
    "    \n",
    "    ds_crd = crd_data_atm(lblnew_params_atm(atmpro=atmpro))['flux']\n",
    "    olr_crd = ds_crd['flug'].isel(pressure=0)\n",
    "    sfc_crd = ds_crd['fldg'].isel(pressure=-1)\n",
    "    atm_crd = (ds_crd.isel(pressure=0)\n",
    "               - ds_crd.isel(pressure=-1))['fnetg']\n",
    "    \n",
    "    ds_clirad = clirad_data_atm(\n",
    "        clirad_params_atm(atmpro=atmpro))['flux']\n",
    "    olr_clirad = ds_clirad['flug'].isel(pressure=0)\n",
    "    sfc_clirad = ds_clirad['fldg'].isel(pressure=-1)\n",
    "    atm_clirad = (ds_clirad.isel(pressure=0)\n",
    "                  - ds_clirad.isel(pressure=-1))['fnetg']\n",
    "\n",
    "    ds_clirad_singlerun = clirad_data_atm(\n",
    "        clirad_params_atm_singlerun(atmpro=atmpro))['flux']\n",
    "    olr_clirad_singlerun = ds_clirad_singlerun['flug'].isel(pressure=0)\n",
    "    sfc_clirad_singlerun = ds_clirad_singlerun['fldg'].isel(pressure=-1)\n",
    "    atm_clirad_singlerun = (ds_clirad_singlerun.isel(pressure=0)\n",
    "                  - ds_clirad_singlerun.isel(pressure=-1))['fnetg']\n",
    "    \n",
    "    if atmpro == 'mls':\n",
    "        ds_oldclirad = oldclirad_data_atm()['flux']\n",
    "        ds_oldclirad['pressure'] = ds_crd['pressure']\n",
    "        olr_oldclirad = ds_oldclirad['flug'].isel(pressure=0)\n",
    "        sfc_oldclirad = ds_oldclirad['fldg'].isel(pressure=-1)\n",
    "        atm_oldclirad = (ds_oldclirad.isel(pressure=0)\n",
    "                         - ds_oldclirad.isel(pressure=-1))['fnetg']\n",
    "        \n",
    "    \n",
    "    \n",
    "    df = pd.DataFrame()\n",
    "    df.index.name = 'Sum over bands'\n",
    "    \n",
    "    if atmpro == 'mls':\n",
    "        df.loc['old CLIRAD - CRD', \n",
    "               'OLR flux'] = (fmt(olr_oldclirad)\n",
    "                              - fmt(olr_crd)).values\n",
    "        df.loc['old CLIRAD - CRD', \n",
    "               'SFC flux'] = (fmt(sfc_oldclirad)\n",
    "                              - fmt(sfc_crd)).values\n",
    "        df.loc['old CLIRAD - CRD', \n",
    "               'ATM heating'] = (fmt(atm_oldclirad)\n",
    "                                 - fmt(atm_crd)).values\n",
    "    \n",
    "    df.loc['CLIRAD (single-run) - CRD', \n",
    "           'OLR flux'] = (fmt(olr_clirad_singlerun) \n",
    "                          - fmt(olr_crd)).values\n",
    "    df.loc['CLIRAD (single-run) - CRD', \n",
    "           'SFC flux'] = (fmt(sfc_clirad_singlerun) \n",
    "                          - fmt(sfc_crd)).values\n",
    "    df.loc['CLIRAD (single-run) - CRD', \n",
    "           'ATM heating'] = (fmt(atm_clirad_singlerun) \n",
    "                             - fmt(atm_crd)).values\n",
    "\n",
    "    df.loc['CRD', 'OLR flux'] = fmt(olr_crd).values\n",
    "    df.loc['CRD', 'SFC flux'] = fmt(sfc_crd).values\n",
    "    df.loc['CRD', 'ATM heating'] = fmt(atm_crd).values\n",
    "        \n",
    "    df = df.astype('float').round(2)\n",
    "    \n",
    "    display.display(df)\n",
    "    display.display(\n",
    "        display.Markdown('*TABLE.* Difference between CLIRAD and CRD'\n",
    "          ' in TOA, SFC and net atmosphere flux,'\n",
    "          ' over all spectral bands. CRD\\'s'\n",
    "          ' TOA, SFC and net atmosphere flux,'\n",
    "          ' over all spectral bands.'))\n"
   ]
  },
  {
   "cell_type": "code",
   "execution_count": 13,
   "metadata": {
    "scrolled": false
   },
   "outputs": [
    {
     "data": {
      "text/markdown": [
       "## Results over entire range of molecules and spectral bands"
      ],
      "text/plain": [
       "<IPython.core.display.Markdown object>"
      ]
     },
     "metadata": {},
     "output_type": "display_data"
    },
    {
     "data": {
      "text/markdown": [
       "### Table of Contents"
      ],
      "text/plain": [
       "<IPython.core.display.Markdown object>"
      ]
     },
     "metadata": {},
     "output_type": "display_data"
    },
    {
     "data": {
      "text/html": [
       "<a href=\"#Makeup_of_atmosphere.\">Makeup of atmosphere.</a>"
      ],
      "text/plain": [
       "<IPython.core.display.HTML object>"
      ]
     },
     "metadata": {},
     "output_type": "display_data"
    },
    {
     "data": {
      "text/markdown": [
       "**mid-latitude summer**"
      ],
      "text/plain": [
       "<IPython.core.display.Markdown object>"
      ]
     },
     "metadata": {},
     "output_type": "display_data"
    },
    {
     "data": {
      "text/html": [
       "<a href=\"#Cooling_rates._mls.\">Cooling rates. mls.</a>"
      ],
      "text/plain": [
       "<IPython.core.display.HTML object>"
      ]
     },
     "metadata": {},
     "output_type": "display_data"
    },
    {
     "data": {
      "text/html": [
       "<a href=\"#Fluxes._mls.\">Fluxes. mls.</a>"
      ],
      "text/plain": [
       "<IPython.core.display.HTML object>"
      ]
     },
     "metadata": {},
     "output_type": "display_data"
    },
    {
     "data": {
      "text/markdown": [
       "**sub-arctic winter**"
      ],
      "text/plain": [
       "<IPython.core.display.Markdown object>"
      ]
     },
     "metadata": {},
     "output_type": "display_data"
    },
    {
     "data": {
      "text/html": [
       "<a href=\"#Cooling_rates._saw.\">Cooling rates. saw.</a>"
      ],
      "text/plain": [
       "<IPython.core.display.HTML object>"
      ]
     },
     "metadata": {},
     "output_type": "display_data"
    },
    {
     "data": {
      "text/html": [
       "<a href=\"#Fluxes._saw.\">Fluxes. saw.</a>"
      ],
      "text/plain": [
       "<IPython.core.display.HTML object>"
      ]
     },
     "metadata": {},
     "output_type": "display_data"
    },
    {
     "data": {
      "text/markdown": [
       "**tropical**"
      ],
      "text/plain": [
       "<IPython.core.display.Markdown object>"
      ]
     },
     "metadata": {},
     "output_type": "display_data"
    },
    {
     "data": {
      "text/html": [
       "<a href=\"#Cooling_rates._trp.\">Cooling rates. trp.</a>"
      ],
      "text/plain": [
       "<IPython.core.display.HTML object>"
      ]
     },
     "metadata": {},
     "output_type": "display_data"
    },
    {
     "data": {
      "text/html": [
       "<a href=\"#Fluxes._trp.\">Fluxes. trp.</a>"
      ],
      "text/plain": [
       "<IPython.core.display.HTML object>"
      ]
     },
     "metadata": {},
     "output_type": "display_data"
    },
    {
     "data": {
      "text/html": [
       "<a id=\"Makeup_of_atmosphere.\"></a>"
      ],
      "text/plain": [
       "<IPython.core.display.HTML object>"
      ]
     },
     "metadata": {},
     "output_type": "display_data"
    },
    {
     "data": {
      "text/markdown": [
       "# Makeup of atmosphere."
      ],
      "text/plain": [
       "<IPython.core.display.Markdown object>"
      ]
     },
     "metadata": {},
     "output_type": "display_data"
    },
    {
     "data": {
      "text/html": [
       "<div>\n",
       "<style scoped>\n",
       "    .dataframe tbody tr th:only-of-type {\n",
       "        vertical-align: middle;\n",
       "    }\n",
       "\n",
       "    .dataframe tbody tr th {\n",
       "        vertical-align: top;\n",
       "    }\n",
       "\n",
       "    .dataframe thead th {\n",
       "        text-align: right;\n",
       "    }\n",
       "</style>\n",
       "<table border=\"1\" class=\"dataframe\">\n",
       "  <thead>\n",
       "    <tr style=\"text-align: right;\">\n",
       "      <th>clirad band</th>\n",
       "      <th>1</th>\n",
       "      <th>2</th>\n",
       "      <th>3</th>\n",
       "      <th>4</th>\n",
       "      <th>5</th>\n",
       "      <th>6</th>\n",
       "      <th>7</th>\n",
       "      <th>8</th>\n",
       "      <th>9</th>\n",
       "      <th>10</th>\n",
       "      <th>11</th>\n",
       "    </tr>\n",
       "    <tr>\n",
       "      <th>molecule</th>\n",
       "      <th></th>\n",
       "      <th></th>\n",
       "      <th></th>\n",
       "      <th></th>\n",
       "      <th></th>\n",
       "      <th></th>\n",
       "      <th></th>\n",
       "      <th></th>\n",
       "      <th></th>\n",
       "      <th></th>\n",
       "      <th></th>\n",
       "    </tr>\n",
       "  </thead>\n",
       "  <tbody>\n",
       "    <tr>\n",
       "      <th>h2o</th>\n",
       "      <td>atmpro</td>\n",
       "      <td>atmpro</td>\n",
       "      <td>atmpro</td>\n",
       "      <td>atmpro</td>\n",
       "      <td>atmpro</td>\n",
       "      <td>atmpro</td>\n",
       "      <td>atmpro</td>\n",
       "      <td>atmpro</td>\n",
       "      <td>atmpro</td>\n",
       "      <td>atmpro</td>\n",
       "      <td>atmpro</td>\n",
       "    </tr>\n",
       "    <tr>\n",
       "      <th>co2</th>\n",
       "      <td>0</td>\n",
       "      <td>0</td>\n",
       "      <td>0.0004</td>\n",
       "      <td>0.0004</td>\n",
       "      <td>0.0004</td>\n",
       "      <td>0.0004</td>\n",
       "      <td>0.0004</td>\n",
       "      <td>0</td>\n",
       "      <td>0</td>\n",
       "      <td>0</td>\n",
       "      <td>0.0004</td>\n",
       "    </tr>\n",
       "    <tr>\n",
       "      <th>n2o</th>\n",
       "      <td>0</td>\n",
       "      <td>0</td>\n",
       "      <td>3.2e-07</td>\n",
       "      <td>0</td>\n",
       "      <td>0</td>\n",
       "      <td>0</td>\n",
       "      <td>0</td>\n",
       "      <td>0</td>\n",
       "      <td>3.2e-07</td>\n",
       "      <td>0</td>\n",
       "      <td>0</td>\n",
       "    </tr>\n",
       "    <tr>\n",
       "      <th>o3</th>\n",
       "      <td>0</td>\n",
       "      <td>0</td>\n",
       "      <td>0</td>\n",
       "      <td>0</td>\n",
       "      <td>0</td>\n",
       "      <td>0</td>\n",
       "      <td>atmpro</td>\n",
       "      <td>0</td>\n",
       "      <td>0</td>\n",
       "      <td>0</td>\n",
       "      <td>0</td>\n",
       "    </tr>\n",
       "    <tr>\n",
       "      <th>ch4</th>\n",
       "      <td>0</td>\n",
       "      <td>0</td>\n",
       "      <td>0</td>\n",
       "      <td>0</td>\n",
       "      <td>0</td>\n",
       "      <td>0</td>\n",
       "      <td>0</td>\n",
       "      <td>0</td>\n",
       "      <td>1.8e-06</td>\n",
       "      <td>0</td>\n",
       "      <td>0</td>\n",
       "    </tr>\n",
       "  </tbody>\n",
       "</table>\n",
       "</div>"
      ],
      "text/plain": [
       "clirad band      1       2        3       4       5       6       7       8   \\\n",
       "molecule                                                                       \n",
       "h2o          atmpro  atmpro   atmpro  atmpro  atmpro  atmpro  atmpro  atmpro   \n",
       "co2               0       0   0.0004  0.0004  0.0004  0.0004  0.0004       0   \n",
       "n2o               0       0  3.2e-07       0       0       0       0       0   \n",
       "o3                0       0        0       0       0       0  atmpro       0   \n",
       "ch4               0       0        0       0       0       0       0       0   \n",
       "\n",
       "clirad band       9       10      11  \n",
       "molecule                              \n",
       "h2o           atmpro  atmpro  atmpro  \n",
       "co2                0       0  0.0004  \n",
       "n2o          3.2e-07       0       0  \n",
       "o3                 0       0       0  \n",
       "ch4          1.8e-06       0       0  "
      ]
     },
     "metadata": {},
     "output_type": "display_data"
    },
    {
     "data": {
      "text/markdown": [
       "*TABLE.* Non-grey absorbers in the atmosphere."
      ],
      "text/plain": [
       "<IPython.core.display.Markdown object>"
      ]
     },
     "metadata": {},
     "output_type": "display_data"
    },
    {
     "data": {
      "text/html": [
       "<div>\n",
       "<style scoped>\n",
       "    .dataframe tbody tr th:only-of-type {\n",
       "        vertical-align: middle;\n",
       "    }\n",
       "\n",
       "    .dataframe tbody tr th {\n",
       "        vertical-align: top;\n",
       "    }\n",
       "\n",
       "    .dataframe thead th {\n",
       "        text-align: right;\n",
       "    }\n",
       "</style>\n",
       "<table border=\"1\" class=\"dataframe\">\n",
       "  <thead>\n",
       "    <tr style=\"text-align: right;\">\n",
       "      <th>clirad band</th>\n",
       "      <th>1</th>\n",
       "      <th>2</th>\n",
       "      <th>3</th>\n",
       "      <th>4</th>\n",
       "      <th>5</th>\n",
       "      <th>6</th>\n",
       "      <th>7</th>\n",
       "      <th>8</th>\n",
       "      <th>9</th>\n",
       "    </tr>\n",
       "    <tr>\n",
       "      <th>absorber</th>\n",
       "      <th></th>\n",
       "      <th></th>\n",
       "      <th></th>\n",
       "      <th></th>\n",
       "      <th></th>\n",
       "      <th></th>\n",
       "      <th></th>\n",
       "      <th></th>\n",
       "      <th></th>\n",
       "    </tr>\n",
       "  </thead>\n",
       "  <tbody>\n",
       "    <tr>\n",
       "      <th>con</th>\n",
       "      <td>atmpro</td>\n",
       "      <td>atmpro</td>\n",
       "      <td>atmpro</td>\n",
       "      <td>atmpro</td>\n",
       "      <td>atmpro</td>\n",
       "      <td>atmpro</td>\n",
       "      <td>atmpro</td>\n",
       "      <td>atmpro</td>\n",
       "      <td>atmpro</td>\n",
       "    </tr>\n",
       "    <tr>\n",
       "      <th>n2o</th>\n",
       "      <td>0</td>\n",
       "      <td>0</td>\n",
       "      <td>0</td>\n",
       "      <td>0</td>\n",
       "      <td>0</td>\n",
       "      <td>0</td>\n",
       "      <td>0</td>\n",
       "      <td>3.2e-07</td>\n",
       "      <td>0</td>\n",
       "    </tr>\n",
       "  </tbody>\n",
       "</table>\n",
       "</div>"
      ],
      "text/plain": [
       "clirad band       1       2       3       4       5       6       7        8  \\\n",
       "absorber                                                                       \n",
       "con          atmpro  atmpro  atmpro  atmpro  atmpro  atmpro  atmpro   atmpro   \n",
       "n2o               0       0       0       0       0       0       0  3.2e-07   \n",
       "\n",
       "clirad band       9  \n",
       "absorber             \n",
       "con          atmpro  \n",
       "n2o               0  "
      ]
     },
     "metadata": {},
     "output_type": "display_data"
    },
    {
     "data": {
      "text/markdown": [
       "*TABLE.* Grey absorbers in the atmosphere."
      ],
      "text/plain": [
       "<IPython.core.display.Markdown object>"
      ]
     },
     "metadata": {},
     "output_type": "display_data"
    },
    {
     "data": {
      "text/html": [
       "<a id=\"Cooling_rates._mls.\"></a>"
      ],
      "text/plain": [
       "<IPython.core.display.HTML object>"
      ]
     },
     "metadata": {},
     "output_type": "display_data"
    },
    {
     "data": {
      "text/markdown": [
       "# Cooling rates. mls."
      ],
      "text/plain": [
       "<IPython.core.display.Markdown object>"
      ]
     },
     "metadata": {},
     "output_type": "display_data"
    },
    {
     "data": {
      "text/html": [
       "\n",
       "<div class=\"bk-root\">\n",
       "    <div class=\"bk-plotdiv\" id=\"8a46c160-39b5-474a-aecd-d22d6df47337\"></div>\n",
       "</div>"
      ]
     },
     "metadata": {},
     "output_type": "display_data"
    },
    {
     "data": {
      "application/javascript": [
       "(function(root) {\n",
       "  function embed_document(root) {\n",
       "    \n",
       "  var docs_json = {\"c921d0eb-4dbb-4fc6-a614-651eaca0da47\":{\"roots\":{\"references\":[{\"attributes\":{\"toolbar\":{\"id\":\"30502502-4bc5-41ad-9378-3f42f1c13ed3\",\"type\":\"ProxyToolbar\"},\"toolbar_location\":\"above\"},\"id\":\"7134d573-81b4-4dca-b37e-038ae21db0cc\",\"type\":\"ToolbarBox\"},{\"attributes\":{},\"id\":\"6db70005-9783-4218-8c85-0ea800d95d3c\",\"type\":\"Selection\"},{\"attributes\":{},\"id\":\"6108f688-4120-40e3-9855-fe0b0cbb47c1\",\"type\":\"Selection\"},{\"attributes\":{\"plot\":{\"id\":\"e2440230-be77-410d-a479-ce190c22cbf5\",\"subtype\":\"Figure\",\"type\":\"Plot\"},\"ticker\":{\"id\":\"dacff703-07cc-4969-903b-b4c3bf673a05\",\"type\":\"BasicTicker\"}},\"id\":\"3693572c-05b6-49a8-a5db-63abdf493b3a\",\"type\":\"Grid\"},{\"attributes\":{\"line_color\":\"#4daf4a\",\"line_width\":1.5,\"x\":{\"field\":\"x\"},\"y\":{\"field\":\"y\"}},\"id\":\"df241b1f-3779-4644-9c3f-746aa3471480\",\"type\":\"Line\"},{\"attributes\":{\"source\":{\"id\":\"eedf33e5-8cb4-4c7e-8c09-7e1c4683ad39\",\"type\":\"ColumnDataSource\"}},\"id\":\"bb5dd57c-9012-42ed-85ee-f6c7b5c955d1\",\"type\":\"CDSView\"},{\"attributes\":{},\"id\":\"84b260cf-1e98-4e40-9259-807e073731a1\",\"type\":\"Selection\"},{\"attributes\":{\"data_source\":{\"id\":\"eedf33e5-8cb4-4c7e-8c09-7e1c4683ad39\",\"type\":\"ColumnDataSource\"},\"glyph\":{\"id\":\"f2d1b40e-ebb8-4ecc-99f8-1abcec2c3a0b\",\"type\":\"Circle\"},\"hover_glyph\":null,\"muted_glyph\":null,\"nonselection_glyph\":{\"id\":\"5dcef2f4-b983-4abc-a0ce-e53e4f1403a2\",\"type\":\"Circle\"},\"selection_glyph\":null,\"view\":{\"id\":\"bb5dd57c-9012-42ed-85ee-f6c7b5c955d1\",\"type\":\"CDSView\"}},\"id\":\"338786c0-8978-4c21-b2fe-3601df0e865c\",\"type\":\"GlyphRenderer\"},{\"attributes\":{\"source\":{\"id\":\"253b636e-8ab8-4597-bf0f-1631db49601b\",\"type\":\"ColumnDataSource\"}},\"id\":\"f9af37a5-d127-42e2-8558-d20902870173\",\"type\":\"CDSView\"},{\"attributes\":{\"fill_alpha\":{\"value\":0.1},\"fill_color\":{\"value\":\"#1f77b4\"},\"line_alpha\":{\"value\":0.1},\"line_color\":{\"value\":\"#1f77b4\"},\"x\":{\"field\":\"x\"},\"y\":{\"field\":\"y\"}},\"id\":\"cad70eb8-0930-4119-b994-e06ddbc6fee8\",\"type\":\"Square\"},{\"attributes\":{\"callback\":null,\"data\":{\"x\":{\"__ndarray__\":\"cm1sTMT3VEDEyvjosEJHQOKI6DjzCUNArgQWV9awPkB9Lm8XG3M4QEz+Qv6iYzNA7eV8HaPLLkCX1QHyTpMoQFBmYSYetiNAUB04GtGpH0AmFyVE5j8ZQJca9QPGqBNALJP+OOHHDEBNxaf7QF8AQKtislomWuw/cW2dcO6A9T/uJJvfPu0EQIaQLTI/JQ1AxGiII+PmEkCJvfVeuCsYQD6ZBhGbHB9AXQw69DTYJEAsubcwKucqQNuT9D5OmipAJyi3szEJJUBlNebh5WkgQDDcPHBr2xlArtlANXuQFEBdJadFHckQQI2Avh0ZsQtAjYiwt1rsBUCL0SDoVBgAQK6C0nEEjvc/CggLSme58T9sXU2orFPnP0v0JYz9Gdg/vT38vxYczD9nBQTe6kHHP1IhkEXJwKo/8OZnhCVAub+xtVgCpmqzP6DUpY6g0+k/PKK3T1h4+D8RTDjQc1EAQG/dAQs7TwJAQt2eHpPLAEBWEh074x//PyCap9ZSGf4/rEzaTySm/T+7aXhHRmr9P688KeqeNP0/ruZ4EemD/D8olrZcn9T7P0+vNc9hW/s/i9VVL+4P+z+0NzC24uz6P8731Kza8vo/xFf4SHzq+z+gYyHpvHb8P68ROkiFevw/BAjYdCga/D8AUp8VbW77P3JrF/nKmvo/qCQeGfq++T/dplwHJfn4P2G4p+Uva/g/OzZ0RqMZ+D8dmn/iar73P/OuA7Ka8PY/gaaeQHGn9T9hkyjAH1L0P3aZGhdAU/M/n8VP/g7P8j+90HxHNvfyPwhNBtgrqvk/\",\"dtype\":\"float64\",\"shape\":[75]},\"y\":{\"__ndarray__\":\"GhExyth1ND/Sv8nbtpRIP2vylNV0PVE/aTum7souWD/At0SJ8fVgPw3Iuahxymc/MSNhhJWvcD/bTfBN02d3P2zb5nxnaoA/CD5h5MAGhz8NmeH1TyaQP+zrCsc9p5Y/LbKd76fGnz/bLW5ISEmmPww9YvTcQq8/JV2OstnstT8Er5Y7M8G+P0c+r3jqkcU/5h99k6ZBzj88bCIzFzjVP4enV8oyxN0//yH99nXg5D8qOpLLf0jtP5kqGJXUifQ/c9cS8kHP/D+/DpwzojQEQIEmwoanVwxA4lgXt9HgE0BSSZ2AJuIbQAMJih9jjiNA5q4l5INuK0AwTKYKRj0zQNv5fmq8/DpAaCJseHrtQkB/+zpwzoxKQM3MzMzMeFJAZmZmZmZqWEAAAAAAAFxeQM3MzMzMJmJAmpmZmZkfZUBmZmZmZhhoQDMzMzMzEWtAAAAAAAAKbkBmZmZmZoFwQM3MzMzM/XFAMzMzMzN6c0CamZmZmfZ0QAAAAAAAc3ZAZmZmZmbvd0DNzMzMzGt5QDMzMzMz6HpAmpmZmZlkfEAAAAAAAOF9QGZmZmZmXX9AZmZmZuZsgECamZmZGSuBQM3MzMxM6YFAAAAAAICngkAzMzMzs2WDQGZmZmbmI4RAmpmZmRnihEDNzMzMTKCFQAAAAACAXoZAMzMzM7Mch0BmZmZm5tqHQJqZmZkZmYhAzczMzExXiUAAAAAAgBWKQDMzMzOz04pAZmZmZuaRi0CamZmZGVCMQM3MzMxMDo1AAAAAAIDMjUAzMzMzs4qOQGZmZmbmSI9A\",\"dtype\":\"float64\",\"shape\":[75]}},\"selected\":{\"id\":\"6108f688-4120-40e3-9855-fe0b0cbb47c1\",\"type\":\"Selection\"},\"selection_policy\":{\"id\":\"57d6dce2-ff45-41fb-ab57-067e220d3263\",\"type\":\"UnionRenderers\"}},\"id\":\"eedf33e5-8cb4-4c7e-8c09-7e1c4683ad39\",\"type\":\"ColumnDataSource\"},{\"attributes\":{\"data_source\":{\"id\":\"e7738464-d6c2-4ee6-807e-b0a40c6259ff\",\"type\":\"ColumnDataSource\"},\"glyph\":{\"id\":\"0a03c3e9-1c33-4cd4-b1cc-b97cede6d7ff\",\"type\":\"Square\"},\"hover_glyph\":null,\"muted_glyph\":null,\"nonselection_glyph\":{\"id\":\"cad70eb8-0930-4119-b994-e06ddbc6fee8\",\"type\":\"Square\"},\"selection_glyph\":null,\"view\":{\"id\":\"cdfc16c3-4353-4037-8144-f5aabc83bcae\",\"type\":\"CDSView\"}},\"id\":\"8997cfd0-b9d9-431f-b9e7-58792c311d7f\",\"type\":\"GlyphRenderer\"},{\"attributes\":{},\"id\":\"34a9a9ac-8cca-4486-b7d7-b86a5a13eca3\",\"type\":\"Selection\"},{\"attributes\":{\"data_source\":{\"id\":\"253b636e-8ab8-4597-bf0f-1631db49601b\",\"type\":\"ColumnDataSource\"},\"glyph\":{\"id\":\"39867f33-501e-48d2-bac1-03ed6a50b85f\",\"type\":\"Line\"},\"hover_glyph\":null,\"muted_glyph\":null,\"nonselection_glyph\":{\"id\":\"3dda7272-11b3-4abf-ba48-d8fd602406ca\",\"type\":\"Line\"},\"selection_glyph\":null,\"view\":{\"id\":\"f9af37a5-d127-42e2-8558-d20902870173\",\"type\":\"CDSView\"}},\"id\":\"6b703abb-51b9-4784-9004-5e33bc522d11\",\"type\":\"GlyphRenderer\"},{\"attributes\":{\"line_alpha\":0.5,\"line_color\":\"#984ea3\",\"line_width\":1.5,\"x\":{\"field\":\"x\"},\"y\":{\"field\":\"y\"}},\"id\":\"ef583133-28bc-46c7-bea2-6ee3229bba59\",\"type\":\"Line\"},{\"attributes\":{\"overlay\":{\"id\":\"5603918e-dfda-49c1-93ed-847131e3d682\",\"type\":\"BoxAnnotation\"}},\"id\":\"a15e5e21-34f3-4db8-8546-db07b55da036\",\"type\":\"BoxZoomTool\"},{\"attributes\":{\"callback\":null,\"data\":{\"x\":{\"__ndarray__\":\"cm1sTMT3VEDEyvjosEJHQOKI6DjzCUNArgQWV9awPkB9Lm8XG3M4QEz+Qv6iYzNA7eV8HaPLLkCX1QHyTpMoQFBmYSYetiNAUB04GtGpH0AmFyVE5j8ZQJca9QPGqBNALJP+OOHHDEBNxaf7QF8AQKtislomWuw/cW2dcO6A9T/uJJvfPu0EQIaQLTI/JQ1AxGiII+PmEkCJvfVeuCsYQD6ZBhGbHB9AXQw69DTYJEAsubcwKucqQNuT9D5OmipAJyi3szEJJUBlNebh5WkgQDDcPHBr2xlArtlANXuQFEBdJadFHckQQI2Avh0ZsQtAjYiwt1rsBUCL0SDoVBgAQK6C0nEEjvc/CggLSme58T9sXU2orFPnP0v0JYz9Gdg/vT38vxYczD9nBQTe6kHHP1IhkEXJwKo/8OZnhCVAub+xtVgCpmqzP6DUpY6g0+k/PKK3T1h4+D8RTDjQc1EAQG/dAQs7TwJAQt2eHpPLAEBWEh074x//PyCap9ZSGf4/rEzaTySm/T+7aXhHRmr9P688KeqeNP0/ruZ4EemD/D8olrZcn9T7P0+vNc9hW/s/i9VVL+4P+z+0NzC24uz6P8731Kza8vo/xFf4SHzq+z+gYyHpvHb8P68ROkiFevw/BAjYdCga/D8AUp8VbW77P3JrF/nKmvo/qCQeGfq++T/dplwHJfn4P2G4p+Uva/g/OzZ0RqMZ+D8dmn/iar73P/OuA7Ka8PY/gaaeQHGn9T9hkyjAH1L0P3aZGhdAU/M/n8VP/g7P8j+90HxHNvfyPwhNBtgrqvk/\",\"dtype\":\"float64\",\"shape\":[75]},\"y\":{\"__ndarray__\":\"GhExyth1ND/Sv8nbtpRIP2vylNV0PVE/aTum7souWD/At0SJ8fVgPw3Iuahxymc/MSNhhJWvcD/bTfBN02d3P2zb5nxnaoA/CD5h5MAGhz8NmeH1TyaQP+zrCsc9p5Y/LbKd76fGnz/bLW5ISEmmPww9YvTcQq8/JV2OstnstT8Er5Y7M8G+P0c+r3jqkcU/5h99k6ZBzj88bCIzFzjVP4enV8oyxN0//yH99nXg5D8qOpLLf0jtP5kqGJXUifQ/c9cS8kHP/D+/DpwzojQEQIEmwoanVwxA4lgXt9HgE0BSSZ2AJuIbQAMJih9jjiNA5q4l5INuK0AwTKYKRj0zQNv5fmq8/DpAaCJseHrtQkB/+zpwzoxKQM3MzMzMeFJAZmZmZmZqWEAAAAAAAFxeQM3MzMzMJmJAmpmZmZkfZUBmZmZmZhhoQDMzMzMzEWtAAAAAAAAKbkBmZmZmZoFwQM3MzMzM/XFAMzMzMzN6c0CamZmZmfZ0QAAAAAAAc3ZAZmZmZmbvd0DNzMzMzGt5QDMzMzMz6HpAmpmZmZlkfEAAAAAAAOF9QGZmZmZmXX9AZmZmZuZsgECamZmZGSuBQM3MzMxM6YFAAAAAAICngkAzMzMzs2WDQGZmZmbmI4RAmpmZmRnihEDNzMzMTKCFQAAAAACAXoZAMzMzM7Mch0BmZmZm5tqHQJqZmZkZmYhAzczMzExXiUAAAAAAgBWKQDMzMzOz04pAZmZmZuaRi0CamZmZGVCMQM3MzMxMDo1AAAAAAIDMjUAzMzMzs4qOQGZmZmbmSI9A\",\"dtype\":\"float64\",\"shape\":[75]}},\"selected\":{\"id\":\"98cb9d38-9b98-4fd4-a05c-b239d1568bed\",\"type\":\"Selection\"},\"selection_policy\":{\"id\":\"44215726-9e38-469a-a4f0-aff0863d407d\",\"type\":\"UnionRenderers\"}},\"id\":\"c1eac008-b491-4091-9b60-3e155a71b079\",\"type\":\"ColumnDataSource\"},{\"attributes\":{},\"id\":\"20861ebc-e88f-4ae1-8479-9fc159cf3013\",\"type\":\"ResetTool\"},{\"attributes\":{},\"id\":\"3d93e7e4-7ae9-4c8f-88db-c65cb4d5eb4b\",\"type\":\"UnionRenderers\"},{\"attributes\":{\"plot\":null,\"text\":\"\"},\"id\":\"9a5a0d0c-1534-4c8b-b388-8a207d9ff93c\",\"type\":\"Title\"},{\"attributes\":{\"axis_label\":\"pressure [mb]\",\"formatter\":{\"id\":\"1911dcd9-1aeb-4aee-85bb-8f9470ed77bf\",\"type\":\"LogTickFormatter\"},\"plot\":{\"id\":\"e2440230-be77-410d-a479-ce190c22cbf5\",\"subtype\":\"Figure\",\"type\":\"Plot\"},\"ticker\":{\"id\":\"1f816078-ada1-451e-b35b-b093676547cc\",\"type\":\"LogTicker\"}},\"id\":\"ca63d34a-b25e-47cd-8829-af214d58cae3\",\"type\":\"LogAxis\"},{\"attributes\":{},\"id\":\"1e771332-1a03-405d-ab0b-bc5fb3c09d7c\",\"type\":\"BasicTickFormatter\"},{\"attributes\":{},\"id\":\"79a7a529-1dca-4e49-aa2f-8444feecee1b\",\"type\":\"ResetTool\"},{\"attributes\":{},\"id\":\"aaacc248-8a47-4b21-8aab-9e5e41618470\",\"type\":\"UnionRenderers\"},{\"attributes\":{\"data_source\":{\"id\":\"40ae9f7b-b0e7-4d6e-a39a-f8438cdc34f3\",\"type\":\"ColumnDataSource\"},\"glyph\":{\"id\":\"ef583133-28bc-46c7-bea2-6ee3229bba59\",\"type\":\"Line\"},\"hover_glyph\":null,\"muted_glyph\":null,\"nonselection_glyph\":{\"id\":\"ab473e78-b063-4e16-91cb-85ceb3a22bbd\",\"type\":\"Line\"},\"selection_glyph\":null,\"view\":{\"id\":\"db985674-564d-4328-adec-332068a9d3d8\",\"type\":\"CDSView\"}},\"id\":\"7df317a3-94e5-4875-a960-d1b67f4fcd8b\",\"type\":\"GlyphRenderer\"},{\"attributes\":{\"axis_label\":\"cooling rate [K/day]\",\"formatter\":{\"id\":\"1e771332-1a03-405d-ab0b-bc5fb3c09d7c\",\"type\":\"BasicTickFormatter\"},\"plot\":{\"id\":\"e2440230-be77-410d-a479-ce190c22cbf5\",\"subtype\":\"Figure\",\"type\":\"Plot\"},\"ticker\":{\"id\":\"dacff703-07cc-4969-903b-b4c3bf673a05\",\"type\":\"BasicTicker\"}},\"id\":\"b3dfd24b-169b-4d0b-9153-30d61c754ada\",\"type\":\"LinearAxis\"},{\"attributes\":{},\"id\":\"57d6dce2-ff45-41fb-ab57-067e220d3263\",\"type\":\"UnionRenderers\"},{\"attributes\":{},\"id\":\"8806fb11-c478-420e-a1d5-e25162c79d1e\",\"type\":\"UnionRenderers\"},{\"attributes\":{\"tools\":[{\"id\":\"ba8ca76f-3dc5-4afc-9699-0bde8e7f071a\",\"type\":\"PanTool\"},{\"id\":\"962a28a9-ac79-4955-9239-20bd615c5e6e\",\"type\":\"WheelZoomTool\"},{\"id\":\"a15e5e21-34f3-4db8-8546-db07b55da036\",\"type\":\"BoxZoomTool\"},{\"id\":\"def273e2-474c-4e6b-ba3a-e6edb7f89ee7\",\"type\":\"SaveTool\"},{\"id\":\"20861ebc-e88f-4ae1-8479-9fc159cf3013\",\"type\":\"ResetTool\"},{\"id\":\"46db04c0-087f-4e9b-8a11-4735c92e79ac\",\"type\":\"HelpTool\"},{\"id\":\"986ebc45-b4ab-4e7e-a173-8aa48fb9e551\",\"type\":\"PanTool\"},{\"id\":\"9a91bfdc-b771-4ba4-b1da-a588b0b60184\",\"type\":\"WheelZoomTool\"},{\"id\":\"a0d4850a-fc2b-4f78-a2ca-9a205b691287\",\"type\":\"BoxZoomTool\"},{\"id\":\"10664f2b-75c8-44d6-97b2-398e85287cfe\",\"type\":\"SaveTool\"},{\"id\":\"79a7a529-1dca-4e49-aa2f-8444feecee1b\",\"type\":\"ResetTool\"},{\"id\":\"906af0e1-b5a5-49ae-b955-6311e1aaed72\",\"type\":\"HelpTool\"},{\"id\":\"ce786354-73aa-4c2d-84a0-5adf78159399\",\"type\":\"PanTool\"},{\"id\":\"74627c90-f6f6-474a-995c-24eb3b36d469\",\"type\":\"WheelZoomTool\"},{\"id\":\"30628f7f-b580-4bac-86ee-54de554d8def\",\"type\":\"BoxZoomTool\"},{\"id\":\"62a99ab6-bb4f-4b8d-ab73-a4a051f04994\",\"type\":\"SaveTool\"},{\"id\":\"aedbd86b-c07d-425f-af89-639b50cbddf8\",\"type\":\"ResetTool\"},{\"id\":\"72643b81-6c3b-4b0b-8fbb-911368be83bb\",\"type\":\"HelpTool\"}]},\"id\":\"30502502-4bc5-41ad-9378-3f42f1c13ed3\",\"type\":\"ProxyToolbar\"},{\"attributes\":{\"bottom_units\":\"screen\",\"fill_alpha\":{\"value\":0.5},\"fill_color\":{\"value\":\"lightgrey\"},\"left_units\":\"screen\",\"level\":\"overlay\",\"line_alpha\":{\"value\":1.0},\"line_color\":{\"value\":\"black\"},\"line_dash\":[4,4],\"line_width\":{\"value\":2},\"plot\":null,\"render_mode\":\"css\",\"right_units\":\"screen\",\"top_units\":\"screen\"},\"id\":\"5603918e-dfda-49c1-93ed-847131e3d682\",\"type\":\"BoxAnnotation\"},{\"attributes\":{\"callback\":null,\"data\":{\"x\":{\"__ndarray__\":\"MXhf+wfXU0AZbvNjswdFQLQWsEQVdUFA5TlpnhT9QUB/x1dOYK05QImjxHmcEjZA9jYDSBB3L0AISPl4H6wqQBPuuwfAzyJAOcHprUZAIUB7WWpkesAXQJoT1Uq+ChVArO/8u0EXCkBgVNlshzgCQMeNQ+Nzu/I/POwv1Qzh+D9QxMRmcj8DQOrE7tC4mAxAQsLBRIlHEkAi4cPYoDEXQEeDpjRjzB1ASZ0GEfCuI0DVFj11sssnQOMiVKSMHyhAWRHvUxNoJEDo8cjD4g8gQLGGvR2NDRpAdpI3nV5oFECtyWH9Lp4QQIZQd9bvmwtAkshlnu1BBkBMysnQf1UAQHZJU/DYZ/c/HoEhV+G48T/rSm4vc/TmP3EgV4cD49g/xmy6+4w7zz+bEsjh3uDDPw5SRMRogKs/4GPKdPc1a78lazVXN1vCP/B84ODeUug/LOyxgXDV9z+/DBHyZAwAQAOIY+fy/QFAahF3XKCUAECV0GHvGsz+P+X4k4Nhvf0/RO/IqI98/T8rkW+v/zT9P59vGMDsAv0/zEX7plCY/D/E3siS8kj7P2yUMv+hDvs/RmrXDaYs+z+c9f5GCO36P58nVCbr7vo/Qus8hbcy/D+rD5hFMCf9P4t6dxofnPw/bRp4QYZ2/D/q8NNiN2b8P5YTVw9ESPw/l1Dy0X/K+j+WKih3ZdD5P2k8OYxHjvk/hceGh5N4+T8lpPahWSn5P6vJnePt4vY/UuhmxnXI9T8miFqdE+D0Pz7qfx5CR/Q/0khvq2US9D9LfVdHQGv0P9syeEmwYfg/\",\"dtype\":\"float64\",\"shape\":[75]},\"y\":{\"__ndarray__\":\"hLndy31yND/6fmq8dJNIP8n9DkWBPlE/aDum7souWD/b4a/JGvVgP9f34SAhymc/ZvM4DOavcD+z0M5pFmh3PxuC4zJuaoA/xjcUPlsHhz8uHAjJAiaQP9ieWRKgppY/oI7HDFTGnz+a5h2n6EimPzS6g9iZQq8/IuAQqtTstT9SSZ2AJsK+P4nS3uALk8U/ih9j7lpCzj+ASL99HTjVP4enV8oyxN0/ACL99nXg5D9fmEwVjErtPyUGgZVDi/Q/AiuHFtnO/D9OYhBYOTQEQPHSTWIQWAxA4XoUrkfhE0D8qfHSTeIbQMh2vp8ajyNArkfhehRuK0Bcj8L1KDwzQFyPwvUo/DpAPgrXo3DtQkDNzMzMzIxKQClcj8L1eFJAKVyPwvVoWECamZmZmVleQGZmZmZmJmJAAAAAAAAgZUCamZmZmRloQJqZmZmZEWtAmpmZmZkJbkCamZmZmYFwQGZmZmZm/nFAZmZmZmZ6c0BmZmZmZvZ0QDQzMzMzc3ZAAAAAAADwd0AAAAAAAGx5QAAAAAAA6HpAzMzMzMxkfEDMzMzMzOB9QM3MzMzMXH9AzczMzMxsgEAzMzMzMyuBQDMzMzMz6YFAMzMzMzOngkCamZmZmWWDQAAAAAAAJIRAAAAAAADihEAAAAAAAKCFQGZmZmZmXoZAzczMzMwch0DNzMzMzNqHQM3MzMzMmIhAMzMzMzNXiUCamZmZmRWKQAAAAAAA1IpAAAAAAACSi0AAAAAAAFCMQGZmZmZmDo1AzczMzMzMjUDNzMzMzIqOQM3MzMzMSI9A\",\"dtype\":\"float64\",\"shape\":[75]}},\"selected\":{\"id\":\"84b260cf-1e98-4e40-9259-807e073731a1\",\"type\":\"Selection\"},\"selection_policy\":{\"id\":\"eb6ff361-29f0-4c05-8572-003e5f08b973\",\"type\":\"UnionRenderers\"}},\"id\":\"e7738464-d6c2-4ee6-807e-b0a40c6259ff\",\"type\":\"ColumnDataSource\"},{\"attributes\":{},\"id\":\"962a28a9-ac79-4955-9239-20bd615c5e6e\",\"type\":\"WheelZoomTool\"},{\"attributes\":{\"ticker\":null},\"id\":\"e1ec5804-550f-4c26-9854-ce0639793c9c\",\"type\":\"LogTickFormatter\"},{\"attributes\":{\"source\":{\"id\":\"c1eac008-b491-4091-9b60-3e155a71b079\",\"type\":\"ColumnDataSource\"}},\"id\":\"49b9dd28-0da7-4425-bd0f-f1e60ab73669\",\"type\":\"CDSView\"},{\"attributes\":{\"children\":[{\"id\":\"cf981cc7-f74e-4b97-b6d8-204c5a513a43\",\"type\":\"Row\"}]},\"id\":\"abe9ac43-c390-417a-9de5-b1177130187b\",\"type\":\"Column\"},{\"attributes\":{},\"id\":\"98cb9d38-9b98-4fd4-a05c-b239d1568bed\",\"type\":\"Selection\"},{\"attributes\":{},\"id\":\"46db04c0-087f-4e9b-8a11-4735c92e79ac\",\"type\":\"HelpTool\"},{\"attributes\":{\"bottom_units\":\"screen\",\"fill_alpha\":{\"value\":0.5},\"fill_color\":{\"value\":\"lightgrey\"},\"left_units\":\"screen\",\"level\":\"overlay\",\"line_alpha\":{\"value\":1.0},\"line_color\":{\"value\":\"black\"},\"line_dash\":[4,4],\"line_width\":{\"value\":2},\"plot\":null,\"render_mode\":\"css\",\"right_units\":\"screen\",\"top_units\":\"screen\"},\"id\":\"1d787574-825d-4a93-9ffa-79652c16591c\",\"type\":\"BoxAnnotation\"},{\"attributes\":{},\"id\":\"9a91bfdc-b771-4ba4-b1da-a588b0b60184\",\"type\":\"WheelZoomTool\"},{\"attributes\":{},\"id\":\"06586213-878b-430f-9943-8300457c1f99\",\"type\":\"Selection\"},{\"attributes\":{},\"id\":\"e02dd9cf-a57a-4ed1-b3cd-3ef316a2b3c7\",\"type\":\"BasicTicker\"},{\"attributes\":{\"label\":{\"value\":\"CLIRAD (single-run)\"},\"renderers\":[{\"id\":\"6b703abb-51b9-4784-9004-5e33bc522d11\",\"type\":\"GlyphRenderer\"}]},\"id\":\"7d6d3f31-fa2f-4d40-bfcb-25a15ef8cc1b\",\"type\":\"LegendItem\"},{\"attributes\":{\"callback\":null,\"data\":{\"x\":{\"__ndarray__\":\"MXhf+wfXU0AZbvNjswdFQLQWsEQVdUFA5TlpnhT9QUB/x1dOYK05QImjxHmcEjZA9jYDSBB3L0AISPl4H6wqQBPuuwfAzyJAOcHprUZAIUB7WWpkesAXQJoT1Uq+ChVArO/8u0EXCkBgVNlshzgCQMeNQ+Nzu/I/POwv1Qzh+D9QxMRmcj8DQOrE7tC4mAxAQsLBRIlHEkAi4cPYoDEXQEeDpjRjzB1ASZ0GEfCuI0DVFj11sssnQOMiVKSMHyhAWRHvUxNoJEDo8cjD4g8gQLGGvR2NDRpAdpI3nV5oFECtyWH9Lp4QQIZQd9bvmwtAkshlnu1BBkBMysnQf1UAQHZJU/DYZ/c/HoEhV+G48T/rSm4vc/TmP3EgV4cD49g/xmy6+4w7zz+bEsjh3uDDPw5SRMRogKs/4GPKdPc1a78lazVXN1vCP/B84ODeUug/LOyxgXDV9z+/DBHyZAwAQAOIY+fy/QFAahF3XKCUAECV0GHvGsz+P+X4k4Nhvf0/RO/IqI98/T8rkW+v/zT9P59vGMDsAv0/zEX7plCY/D/E3siS8kj7P2yUMv+hDvs/RmrXDaYs+z+c9f5GCO36P58nVCbr7vo/Qus8hbcy/D+rD5hFMCf9P4t6dxofnPw/bRp4QYZ2/D/q8NNiN2b8P5YTVw9ESPw/l1Dy0X/K+j+WKih3ZdD5P2k8OYxHjvk/hceGh5N4+T8lpPahWSn5P6vJnePt4vY/UuhmxnXI9T8miFqdE+D0Pz7qfx5CR/Q/0khvq2US9D9LfVdHQGv0P9syeEmwYfg/\",\"dtype\":\"float64\",\"shape\":[75]},\"y\":{\"__ndarray__\":\"hLndy31yND/6fmq8dJNIP8n9DkWBPlE/aDum7souWD/b4a/JGvVgP9f34SAhymc/ZvM4DOavcD+z0M5pFmh3PxuC4zJuaoA/xjcUPlsHhz8uHAjJAiaQP9ieWRKgppY/oI7HDFTGnz+a5h2n6EimPzS6g9iZQq8/IuAQqtTstT9SSZ2AJsK+P4nS3uALk8U/ih9j7lpCzj+ASL99HTjVP4enV8oyxN0/ACL99nXg5D9fmEwVjErtPyUGgZVDi/Q/AiuHFtnO/D9OYhBYOTQEQPHSTWIQWAxA4XoUrkfhE0D8qfHSTeIbQMh2vp8ajyNArkfhehRuK0Bcj8L1KDwzQFyPwvUo/DpAPgrXo3DtQkDNzMzMzIxKQClcj8L1eFJAKVyPwvVoWECamZmZmVleQGZmZmZmJmJAAAAAAAAgZUCamZmZmRloQJqZmZmZEWtAmpmZmZkJbkCamZmZmYFwQGZmZmZm/nFAZmZmZmZ6c0BmZmZmZvZ0QDQzMzMzc3ZAAAAAAADwd0AAAAAAAGx5QAAAAAAA6HpAzMzMzMxkfEDMzMzMzOB9QM3MzMzMXH9AzczMzMxsgEAzMzMzMyuBQDMzMzMz6YFAMzMzMzOngkCamZmZmWWDQAAAAAAAJIRAAAAAAADihEAAAAAAAKCFQGZmZmZmXoZAzczMzMwch0DNzMzMzNqHQM3MzMzMmIhAMzMzMzNXiUCamZmZmRWKQAAAAAAA1IpAAAAAAACSi0AAAAAAAFCMQGZmZmZmDo1AzczMzMzMjUDNzMzMzIqOQM3MzMzMSI9A\",\"dtype\":\"float64\",\"shape\":[75]}},\"selected\":{\"id\":\"6db70005-9783-4218-8c85-0ea800d95d3c\",\"type\":\"Selection\"},\"selection_policy\":{\"id\":\"aaacc248-8a47-4b21-8aab-9e5e41618470\",\"type\":\"UnionRenderers\"}},\"id\":\"40ae9f7b-b0e7-4d6e-a39a-f8438cdc34f3\",\"type\":\"ColumnDataSource\"},{\"attributes\":{},\"id\":\"05e32c29-bbcd-4245-9074-ad25646afe9d\",\"type\":\"BasicTickFormatter\"},{\"attributes\":{},\"id\":\"def273e2-474c-4e6b-ba3a-e6edb7f89ee7\",\"type\":\"SaveTool\"},{\"attributes\":{\"source\":{\"id\":\"e7738464-d6c2-4ee6-807e-b0a40c6259ff\",\"type\":\"ColumnDataSource\"}},\"id\":\"cdfc16c3-4353-4037-8144-f5aabc83bcae\",\"type\":\"CDSView\"},{\"attributes\":{\"fill_alpha\":{\"value\":0.1},\"fill_color\":{\"value\":\"#1f77b4\"},\"line_alpha\":{\"value\":0.1},\"line_color\":{\"value\":\"#1f77b4\"},\"x\":{\"field\":\"x\"},\"y\":{\"field\":\"y\"}},\"id\":\"5dcef2f4-b983-4abc-a0ce-e53e4f1403a2\",\"type\":\"Circle\"},{\"attributes\":{\"plot\":{\"id\":\"4f4b90ca-1a35-452a-b219-8c13d4f54c4c\",\"subtype\":\"Figure\",\"type\":\"Plot\"},\"ticker\":{\"id\":\"40c7b5e0-2762-4e3f-a3b6-8347140d1ddc\",\"type\":\"BasicTicker\"}},\"id\":\"6bbf7a29-65c3-4737-898a-7d81108eeded\",\"type\":\"Grid\"},{\"attributes\":{},\"id\":\"fdf822fa-380a-4239-ada1-2ed204980b95\",\"type\":\"UnionRenderers\"},{\"attributes\":{\"children\":[{\"id\":\"4f4b90ca-1a35-452a-b219-8c13d4f54c4c\",\"subtype\":\"Figure\",\"type\":\"Plot\"},{\"id\":\"f2618bac-7199-42b1-8870-6775a94b4727\",\"subtype\":\"Figure\",\"type\":\"Plot\"},{\"id\":\"e2440230-be77-410d-a479-ce190c22cbf5\",\"subtype\":\"Figure\",\"type\":\"Plot\"}]},\"id\":\"cf981cc7-f74e-4b97-b6d8-204c5a513a43\",\"type\":\"Row\"},{\"attributes\":{\"line_alpha\":0.1,\"line_color\":\"#1f77b4\",\"line_width\":1.5,\"x\":{\"field\":\"x\"},\"y\":{\"field\":\"y\"}},\"id\":\"e2dd8618-76d9-424e-b458-82375ff60af4\",\"type\":\"Line\"},{\"attributes\":{},\"id\":\"dacff703-07cc-4969-903b-b4c3bf673a05\",\"type\":\"BasicTicker\"},{\"attributes\":{},\"id\":\"69662d3a-9d05-4f22-af4f-a8cd84bc33bd\",\"type\":\"LogScale\"},{\"attributes\":{\"line_alpha\":0.1,\"line_color\":\"#1f77b4\",\"line_dash\":[6],\"line_width\":5,\"x\":{\"field\":\"x\"},\"y\":{\"field\":\"y\"}},\"id\":\"3dda7272-11b3-4abf-ba48-d8fd602406ca\",\"type\":\"Line\"},{\"attributes\":{\"source\":{\"id\":\"40ae9f7b-b0e7-4d6e-a39a-f8438cdc34f3\",\"type\":\"ColumnDataSource\"}},\"id\":\"db985674-564d-4328-adec-332068a9d3d8\",\"type\":\"CDSView\"},{\"attributes\":{\"line_alpha\":0.6,\"line_color\":\"#377eb8\",\"line_dash\":[6],\"line_width\":5,\"x\":{\"field\":\"x\"},\"y\":{\"field\":\"y\"}},\"id\":\"82bcbe52-88da-457d-96ce-89536bc5cc6e\",\"type\":\"Line\"},{\"attributes\":{\"label\":{\"value\":\"CRD\"},\"renderers\":[{\"id\":\"338786c0-8978-4c21-b2fe-3601df0e865c\",\"type\":\"GlyphRenderer\"},{\"id\":\"d82df099-0483-47ab-91e0-fbaa122e1507\",\"type\":\"GlyphRenderer\"}]},\"id\":\"a8a13ae7-acd3-4fcc-a6b2-cd7e92faa40c\",\"type\":\"LegendItem\"},{\"attributes\":{},\"id\":\"906af0e1-b5a5-49ae-b955-6311e1aaed72\",\"type\":\"HelpTool\"},{\"attributes\":{\"fill_alpha\":{\"value\":0.7},\"fill_color\":{\"value\":\"#984ea3\"},\"line_alpha\":{\"value\":0.7},\"line_color\":{\"value\":\"#984ea3\"},\"x\":{\"field\":\"x\"},\"y\":{\"field\":\"y\"}},\"id\":\"0a03c3e9-1c33-4cd4-b1cc-b97cede6d7ff\",\"type\":\"Square\"},{\"attributes\":{},\"id\":\"44215726-9e38-469a-a4f0-aff0863d407d\",\"type\":\"UnionRenderers\"},{\"attributes\":{\"fill_alpha\":{\"value\":0.7},\"fill_color\":{\"value\":\"#4daf4a\"},\"line_alpha\":{\"value\":0.7},\"line_color\":{\"value\":\"#4daf4a\"},\"x\":{\"field\":\"x\"},\"y\":{\"field\":\"y\"}},\"id\":\"f2d1b40e-ebb8-4ecc-99f8-1abcec2c3a0b\",\"type\":\"Circle\"},{\"attributes\":{},\"id\":\"eb6ff361-29f0-4c05-8572-003e5f08b973\",\"type\":\"UnionRenderers\"},{\"attributes\":{\"dimension\":1,\"plot\":{\"id\":\"4f4b90ca-1a35-452a-b219-8c13d4f54c4c\",\"subtype\":\"Figure\",\"type\":\"Plot\"},\"ticker\":{\"id\":\"e02dd9cf-a57a-4ed1-b3cd-3ef316a2b3c7\",\"type\":\"BasicTicker\"}},\"id\":\"5964b0f4-846c-48ac-bb62-7fedb0b48cb3\",\"type\":\"Grid\"},{\"attributes\":{\"callback\":null,\"end\":0.7323360194662635,\"start\":-1.576281364019664},\"id\":\"0265e5d5-edd9-4a38-892a-119be29eeeb5\",\"type\":\"Range1d\"},{\"attributes\":{\"callback\":null,\"end\":0.01,\"start\":1020},\"id\":\"f2354749-eaad-417d-aceb-4f313be48ea9\",\"type\":\"Range1d\"},{\"attributes\":{},\"id\":\"0373d621-9386-41f8-82b7-8e9d7d33d570\",\"type\":\"Selection\"},{\"attributes\":{\"line_alpha\":0.1,\"line_color\":\"#1f77b4\",\"line_width\":1.5,\"x\":{\"field\":\"x\"},\"y\":{\"field\":\"y\"}},\"id\":\"ab473e78-b063-4e16-91cb-85ceb3a22bbd\",\"type\":\"Line\"},{\"attributes\":{},\"id\":\"af65f2c0-3fa9-4430-bb00-74756e7db8a5\",\"type\":\"LinearScale\"},{\"attributes\":{},\"id\":\"ba8ca76f-3dc5-4afc-9699-0bde8e7f071a\",\"type\":\"PanTool\"},{\"attributes\":{\"label\":{\"value\":\"old CLIRAD (H2012)\"},\"renderers\":[{\"id\":\"8997cfd0-b9d9-431f-b9e7-58792c311d7f\",\"type\":\"GlyphRenderer\"},{\"id\":\"7df317a3-94e5-4875-a960-d1b67f4fcd8b\",\"type\":\"GlyphRenderer\"}]},\"id\":\"ec3f4460-9162-4365-97fe-b5b9bff8d9d5\",\"type\":\"LegendItem\"},{\"attributes\":{\"children\":[{\"id\":\"7134d573-81b4-4dca-b37e-038ae21db0cc\",\"type\":\"ToolbarBox\"},{\"id\":\"abe9ac43-c390-417a-9de5-b1177130187b\",\"type\":\"Column\"}]},\"id\":\"4a64a7d9-5472-405a-a26a-f10f19b40ae3\",\"type\":\"Column\"},{\"attributes\":{\"plot\":null,\"text\":\"\"},\"id\":\"fa6253b8-2159-400d-8773-ad4f02f93d22\",\"type\":\"Title\"},{\"attributes\":{},\"id\":\"9efb6a4c-15be-4cdc-af89-c729a57ef668\",\"type\":\"Selection\"},{\"attributes\":{\"data_source\":{\"id\":\"c1eac008-b491-4091-9b60-3e155a71b079\",\"type\":\"ColumnDataSource\"},\"glyph\":{\"id\":\"df241b1f-3779-4644-9c3f-746aa3471480\",\"type\":\"Line\"},\"hover_glyph\":null,\"muted_glyph\":null,\"nonselection_glyph\":{\"id\":\"e2dd8618-76d9-424e-b458-82375ff60af4\",\"type\":\"Line\"},\"selection_glyph\":null,\"view\":{\"id\":\"49b9dd28-0da7-4425-bd0f-f1e60ab73669\",\"type\":\"CDSView\"}},\"id\":\"d82df099-0483-47ab-91e0-fbaa122e1507\",\"type\":\"GlyphRenderer\"},{\"attributes\":{\"ticker\":null},\"id\":\"1911dcd9-1aeb-4aee-85bb-8f9470ed77bf\",\"type\":\"LogTickFormatter\"},{\"attributes\":{\"callback\":null,\"data\":{\"x\":{\"__ndarray__\":\"QW/ChKHYRUABfBHv8BdDQO7pX4+S40FAjlrTPAs/QEBi55KjU0A8QOVEIjtRPTdAAW6pHa7pMUBoDUjHy+UpQJPUAjnkGiJAkii6KF00GkDyfPLi2t0UQPkZqhKpthFAXgmBeRVNDUDo1yrq/pUDQBJCuTYK9vU/YoFqy5OO+j/mD7q8ijIFQB7JG9aeDgtAKZPg33XgEEB3e15vURcWQASfV5qt/R1A31afOw7VJEBkZ/sSPswqQPJ8sfjH+ylASXHMMLlOJECnFuR/okcgQKATN+gOZBtALtOaGrQFFkBYLwnonigRQH3MfkLg4AtAJbaM1c4ICEAqMLR+58sCQGn6INO6Bfo/9OD7FbZF8T+Hs4EjcHrnP564dUqD6Ns/JQfYEdIQzT9x/Lwc00XAP+SGDp6tAKO/xAoZ+sRjyb+ScdT6eNyDv/4NISJvwuc/0BNwzqJ+9z+OhxM/9RYAQGCVqWPPlwFApa4RsMkGAECakb3Sg0P+P/wSdfkQIv0/okwaebtq/D8NcsI81zv8PzS6YIBmV/w/t/rzZVDu+z9vHpSuI3P7PzxXiTLKB/s/+xEut0e9+j80CdGvY4f6P91Lpyhohfo/hq2DgXOb+z8jUdf2UHz8P+0LQT6D/vw/NxBjOnr9/D975RKvuF38PyqTiuWeRvs/G8nM6yIW+j8IPCAwnv/4P9UcYY9Qbfg/OqB8rKY8+D929obcuzf4P6/7j5gVtPc/VtnblNCk9j8Yh5Uy8nP1P2TvKkPTiPQ/Kaw4REER9D/JF0FfkkT0P3ZX+ULhOlbA\",\"dtype\":\"float64\",\"shape\":[75]},\"y\":{\"__ndarray__\":\"GhExyth1ND/Sv8nbtpRIP2vylNV0PVE/aTum7souWD/At0SJ8fVgPw3Iuahxymc/MSNhhJWvcD/bTfBN02d3P2zb5nxnaoA/CD5h5MAGhz8NmeH1TyaQP+zrCsc9p5Y/LbKd76fGnz/bLW5ISEmmPww9YvTcQq8/JV2OstnstT8Er5Y7M8G+P0c+r3jqkcU/5h99k6ZBzj88bCIzFzjVP4enV8oyxN0//yH99nXg5D8qOpLLf0jtP5kqGJXUifQ/c9cS8kHP/D+/DpwzojQEQIEmwoanVwxA4lgXt9HgE0BSSZ2AJuIbQAMJih9jjiNA5q4l5INuK0AwTKYKRj0zQNv5fmq8/DpAaCJseHrtQkB/+zpwzoxKQM3MzMzMeFJAZmZmZmZqWEAAAAAAAFxeQM3MzMzMJmJAmpmZmZkfZUBmZmZmZhhoQDMzMzMzEWtAAAAAAAAKbkBmZmZmZoFwQM3MzMzM/XFAMzMzMzN6c0CamZmZmfZ0QAAAAAAAc3ZAZmZmZmbvd0DNzMzMzGt5QDMzMzMz6HpAmpmZmZlkfEAAAAAAAOF9QGZmZmZmXX9AZmZmZuZsgECamZmZGSuBQM3MzMxM6YFAAAAAAICngkAzMzMzs2WDQGZmZmbmI4RAmpmZmRnihEDNzMzMTKCFQAAAAACAXoZAMzMzM7Mch0BmZmZm5tqHQJqZmZkZmYhAzczMzExXiUAAAAAAgBWKQDMzMzOz04pAZmZmZuaRi0CamZmZGVCMQM3MzMxMDo1AAAAAAIDMjUAzMzMzs4qOQGZmZmbmSI9A\",\"dtype\":\"float64\",\"shape\":[75]}},\"selected\":{\"id\":\"8b5b236e-d4ad-4822-8f48-7904ec534dd3\",\"type\":\"Selection\"},\"selection_policy\":{\"id\":\"1797080e-a403-4825-9a5a-9f0faea57918\",\"type\":\"UnionRenderers\"}},\"id\":\"4cfa7052-3a72-477a-b514-ea9334d308da\",\"type\":\"ColumnDataSource\"},{\"attributes\":{},\"id\":\"10664f2b-75c8-44d6-97b2-398e85287cfe\",\"type\":\"SaveTool\"},{\"attributes\":{\"overlay\":{\"id\":\"1d787574-825d-4a93-9ffa-79652c16591c\",\"type\":\"BoxAnnotation\"}},\"id\":\"a0d4850a-fc2b-4f78-a2ca-9a205b691287\",\"type\":\"BoxZoomTool\"},{\"attributes\":{},\"id\":\"2bc9d454-aad0-4bf4-9b52-5ed6b9ad101f\",\"type\":\"UnionRenderers\"},{\"attributes\":{\"above\":[{\"id\":\"af94749a-fa3b-4090-a055-eb0df1af154c\",\"type\":\"Legend\"}],\"below\":[{\"id\":\"f1765854-62a8-4034-8097-ab4a6b33de2e\",\"type\":\"LinearAxis\"}],\"left\":[{\"id\":\"e30b51d6-faa9-4f4e-b774-a8729c118f06\",\"type\":\"LogAxis\"}],\"plot_width\":300,\"renderers\":[{\"id\":\"f1765854-62a8-4034-8097-ab4a6b33de2e\",\"type\":\"LinearAxis\"},{\"id\":\"67081fff-af36-4043-bdd2-7bad1be8bb7e\",\"type\":\"Grid\"},{\"id\":\"e30b51d6-faa9-4f4e-b774-a8729c118f06\",\"type\":\"LogAxis\"},{\"id\":\"9b3e4187-e1b8-41ee-af08-84d2f58c31dd\",\"type\":\"Grid\"},{\"id\":\"1d787574-825d-4a93-9ffa-79652c16591c\",\"type\":\"BoxAnnotation\"},{\"id\":\"6b703abb-51b9-4784-9004-5e33bc522d11\",\"type\":\"GlyphRenderer\"},{\"id\":\"338786c0-8978-4c21-b2fe-3601df0e865c\",\"type\":\"GlyphRenderer\"},{\"id\":\"d82df099-0483-47ab-91e0-fbaa122e1507\",\"type\":\"GlyphRenderer\"},{\"id\":\"8997cfd0-b9d9-431f-b9e7-58792c311d7f\",\"type\":\"GlyphRenderer\"},{\"id\":\"7df317a3-94e5-4875-a960-d1b67f4fcd8b\",\"type\":\"GlyphRenderer\"},{\"id\":\"af94749a-fa3b-4090-a055-eb0df1af154c\",\"type\":\"Legend\"}],\"title\":{\"id\":\"9a5a0d0c-1534-4c8b-b388-8a207d9ff93c\",\"type\":\"Title\"},\"toolbar\":{\"id\":\"d30b1d0c-962e-41c7-983e-2525bc488c99\",\"type\":\"Toolbar\"},\"toolbar_location\":null,\"x_range\":{\"id\":\"e018c7e3-25f6-438c-af17-283e0bd0fa00\",\"type\":\"Range1d\"},\"x_scale\":{\"id\":\"ecbb34b8-6f0d-4a1c-ba5f-ac91a5961fff\",\"type\":\"LinearScale\"},\"y_range\":{\"id\":\"296c9e14-7a48-473b-b347-daf44db58835\",\"type\":\"Range1d\"},\"y_scale\":{\"id\":\"fc586275-6055-4785-ad25-2eada2f820db\",\"type\":\"LogScale\"}},\"id\":\"f2618bac-7199-42b1-8870-6775a94b4727\",\"subtype\":\"Figure\",\"type\":\"Plot\"},{\"attributes\":{\"dimension\":1,\"plot\":{\"id\":\"f2618bac-7199-42b1-8870-6775a94b4727\",\"subtype\":\"Figure\",\"type\":\"Plot\"},\"ticker\":{\"id\":\"31a83a09-4386-4b16-9ebe-43a781da62cb\",\"type\":\"LogTicker\"}},\"id\":\"9b3e4187-e1b8-41ee-af08-84d2f58c31dd\",\"type\":\"Grid\"},{\"attributes\":{\"dimension\":1,\"plot\":{\"id\":\"e2440230-be77-410d-a479-ce190c22cbf5\",\"subtype\":\"Figure\",\"type\":\"Plot\"},\"ticker\":{\"id\":\"1f816078-ada1-451e-b35b-b093676547cc\",\"type\":\"LogTicker\"}},\"id\":\"16c6eddb-b2ba-4fe1-842e-7bd12e184282\",\"type\":\"Grid\"},{\"attributes\":{\"plot\":{\"id\":\"f2618bac-7199-42b1-8870-6775a94b4727\",\"subtype\":\"Figure\",\"type\":\"Plot\"},\"ticker\":{\"id\":\"f62cbf67-d8cc-4bb1-9f90-d10e28092782\",\"type\":\"BasicTicker\"}},\"id\":\"67081fff-af36-4043-bdd2-7bad1be8bb7e\",\"type\":\"Grid\"},{\"attributes\":{},\"id\":\"986ebc45-b4ab-4e7e-a173-8aa48fb9e551\",\"type\":\"PanTool\"},{\"attributes\":{\"label\":{\"value\":\"old CLIRAD (H2012)\"},\"renderers\":[{\"id\":\"f483953c-8452-48c3-887f-4213837360d8\",\"type\":\"GlyphRenderer\"},{\"id\":\"56c2a0c0-7c82-4a0b-a4fe-037785cc37b5\",\"type\":\"GlyphRenderer\"}]},\"id\":\"5e9250b9-a2aa-4b4c-8eb3-5da9aba5ee32\",\"type\":\"LegendItem\"},{\"attributes\":{},\"id\":\"f62cbf67-d8cc-4bb1-9f90-d10e28092782\",\"type\":\"BasicTicker\"},{\"attributes\":{\"line_alpha\":0.1,\"line_color\":\"#1f77b4\",\"line_width\":1.5,\"x\":{\"field\":\"x\"},\"y\":{\"field\":\"y\"}},\"id\":\"819f76dc-441b-445b-8ddb-2e39022bde60\",\"type\":\"Line\"},{\"attributes\":{\"line_alpha\":0.5,\"line_color\":\"#984ea3\",\"line_width\":1.5,\"x\":{\"field\":\"x\"},\"y\":{\"field\":\"y\"}},\"id\":\"bca08a8c-7a75-4906-a01f-3941a44aea90\",\"type\":\"Line\"},{\"attributes\":{\"label\":{\"value\":\"CLIRAD (single-run)\"},\"renderers\":[{\"id\":\"841148b1-833b-4d24-90e6-4e4e676f067a\",\"type\":\"GlyphRenderer\"}]},\"id\":\"80a01f16-2b6f-47aa-90e6-fb1c5dd95dd6\",\"type\":\"LegendItem\"},{\"attributes\":{\"source\":{\"id\":\"3ad11d0e-3710-46ec-b507-43f3d46fcb31\",\"type\":\"ColumnDataSource\"}},\"id\":\"615d7bab-9b63-4ea8-bc44-941db9411bca\",\"type\":\"CDSView\"},{\"attributes\":{\"fill_alpha\":{\"value\":0.7},\"fill_color\":{\"value\":\"#984ea3\"},\"line_alpha\":{\"value\":0.7},\"line_color\":{\"value\":\"#984ea3\"},\"x\":{\"field\":\"x\"},\"y\":{\"field\":\"y\"}},\"id\":\"5b3ca4cc-fe79-4041-8895-357a6d5f95aa\",\"type\":\"Circle\"},{\"attributes\":{\"above\":[{\"id\":\"36c3b751-7f36-473b-a528-1046a13b017d\",\"type\":\"Legend\"}],\"below\":[{\"id\":\"b3dfd24b-169b-4d0b-9153-30d61c754ada\",\"type\":\"LinearAxis\"}],\"left\":[{\"id\":\"ca63d34a-b25e-47cd-8829-af214d58cae3\",\"type\":\"LogAxis\"}],\"plot_width\":300,\"renderers\":[{\"id\":\"b3dfd24b-169b-4d0b-9153-30d61c754ada\",\"type\":\"LinearAxis\"},{\"id\":\"3693572c-05b6-49a8-a5db-63abdf493b3a\",\"type\":\"Grid\"},{\"id\":\"ca63d34a-b25e-47cd-8829-af214d58cae3\",\"type\":\"LogAxis\"},{\"id\":\"16c6eddb-b2ba-4fe1-842e-7bd12e184282\",\"type\":\"Grid\"},{\"id\":\"c0574b78-66f7-46b1-8bb9-0abc3f122bae\",\"type\":\"BoxAnnotation\"},{\"id\":\"be7d8ea7-1b12-406a-8bc6-09cc2f0864b1\",\"type\":\"GlyphRenderer\"},{\"id\":\"09b55b5d-daa7-4845-8352-a6ad5052fca6\",\"type\":\"GlyphRenderer\"},{\"id\":\"b63e1c79-2912-4aab-9d2d-c011a4cf3f70\",\"type\":\"GlyphRenderer\"},{\"id\":\"36c3b751-7f36-473b-a528-1046a13b017d\",\"type\":\"Legend\"}],\"title\":{\"id\":\"fa6253b8-2159-400d-8773-ad4f02f93d22\",\"type\":\"Title\"},\"toolbar\":{\"id\":\"0aa34bc3-9ac3-48b0-9eb5-009a64f03da0\",\"type\":\"Toolbar\"},\"toolbar_location\":null,\"x_range\":{\"id\":\"0265e5d5-edd9-4a38-892a-119be29eeeb5\",\"type\":\"Range1d\"},\"x_scale\":{\"id\":\"af65f2c0-3fa9-4430-bb00-74756e7db8a5\",\"type\":\"LinearScale\"},\"y_range\":{\"id\":\"a0104edd-2c68-4f7c-b17c-5d02e3984e74\",\"type\":\"Range1d\"},\"y_scale\":{\"id\":\"69662d3a-9d05-4f22-af4f-a8cd84bc33bd\",\"type\":\"LogScale\"}},\"id\":\"e2440230-be77-410d-a479-ce190c22cbf5\",\"subtype\":\"Figure\",\"type\":\"Plot\"},{\"attributes\":{\"data_source\":{\"id\":\"3ad11d0e-3710-46ec-b507-43f3d46fcb31\",\"type\":\"ColumnDataSource\"},\"glyph\":{\"id\":\"bca08a8c-7a75-4906-a01f-3941a44aea90\",\"type\":\"Line\"},\"hover_glyph\":null,\"muted_glyph\":null,\"nonselection_glyph\":{\"id\":\"819f76dc-441b-445b-8ddb-2e39022bde60\",\"type\":\"Line\"},\"selection_glyph\":null,\"view\":{\"id\":\"615d7bab-9b63-4ea8-bc44-941db9411bca\",\"type\":\"CDSView\"}},\"id\":\"56c2a0c0-7c82-4a0b-a4fe-037785cc37b5\",\"type\":\"GlyphRenderer\"},{\"attributes\":{\"num_minor_ticks\":10},\"id\":\"1f816078-ada1-451e-b35b-b093676547cc\",\"type\":\"LogTicker\"},{\"attributes\":{\"active_drag\":\"auto\",\"active_inspect\":\"auto\",\"active_scroll\":\"auto\",\"active_tap\":\"auto\",\"tools\":[{\"id\":\"986ebc45-b4ab-4e7e-a173-8aa48fb9e551\",\"type\":\"PanTool\"},{\"id\":\"9a91bfdc-b771-4ba4-b1da-a588b0b60184\",\"type\":\"WheelZoomTool\"},{\"id\":\"a0d4850a-fc2b-4f78-a2ca-9a205b691287\",\"type\":\"BoxZoomTool\"},{\"id\":\"10664f2b-75c8-44d6-97b2-398e85287cfe\",\"type\":\"SaveTool\"},{\"id\":\"79a7a529-1dca-4e49-aa2f-8444feecee1b\",\"type\":\"ResetTool\"},{\"id\":\"906af0e1-b5a5-49ae-b955-6311e1aaed72\",\"type\":\"HelpTool\"}]},\"id\":\"d30b1d0c-962e-41c7-983e-2525bc488c99\",\"type\":\"Toolbar\"},{\"attributes\":{\"axis_label\":\"cooling rate [K/day]\",\"formatter\":{\"id\":\"05e32c29-bbcd-4245-9074-ad25646afe9d\",\"type\":\"BasicTickFormatter\"},\"plot\":{\"id\":\"f2618bac-7199-42b1-8870-6775a94b4727\",\"subtype\":\"Figure\",\"type\":\"Plot\"},\"ticker\":{\"id\":\"f62cbf67-d8cc-4bb1-9f90-d10e28092782\",\"type\":\"BasicTicker\"}},\"id\":\"f1765854-62a8-4034-8097-ab4a6b33de2e\",\"type\":\"LinearAxis\"},{\"attributes\":{},\"id\":\"fc586275-6055-4785-ad25-2eada2f820db\",\"type\":\"LogScale\"},{\"attributes\":{\"callback\":null,\"data\":{\"x\":{\"__ndarray__\":\"QW/ChKHYRUABfBHv8BdDQO7pX4+S40FAjlrTPAs/QEBi55KjU0A8QOVEIjtRPTdAAW6pHa7pMUBoDUjHy+UpQJPUAjnkGiJAkii6KF00GkDyfPLi2t0UQPkZqhKpthFAXgmBeRVNDUDo1yrq/pUDQBJCuTYK9vU/YoFqy5OO+j/mD7q8ijIFQB7JG9aeDgtAKZPg33XgEEB3e15vURcWQASfV5qt/R1A31afOw7VJEBkZ/sSPswqQPJ8sfjH+ylASXHMMLlOJECnFuR/okcgQKATN+gOZBtALtOaGrQFFkBYLwnonigRQH3MfkLg4AtAJbaM1c4ICEAqMLR+58sCQGn6INO6Bfo/9OD7FbZF8T+Hs4EjcHrnP564dUqD6Ns/JQfYEdIQzT9x/Lwc00XAP+SGDp6tAKO/xAoZ+sRjyb+ScdT6eNyDv/4NISJvwuc/0BNwzqJ+9z+OhxM/9RYAQGCVqWPPlwFApa4RsMkGAECakb3Sg0P+P/wSdfkQIv0/okwaebtq/D8NcsI81zv8PzS6YIBmV/w/t/rzZVDu+z9vHpSuI3P7PzxXiTLKB/s/+xEut0e9+j80CdGvY4f6P91Lpyhohfo/hq2DgXOb+z8jUdf2UHz8P+0LQT6D/vw/NxBjOnr9/D975RKvuF38PyqTiuWeRvs/G8nM6yIW+j8IPCAwnv/4P9UcYY9Qbfg/OqB8rKY8+D929obcuzf4P6/7j5gVtPc/VtnblNCk9j8Yh5Uy8nP1P2TvKkPTiPQ/Kaw4REER9D/JF0FfkkT0P3ZX+ULhOlbA\",\"dtype\":\"float64\",\"shape\":[75]},\"y\":{\"__ndarray__\":\"GhExyth1ND/Sv8nbtpRIP2vylNV0PVE/aTum7souWD/At0SJ8fVgPw3Iuahxymc/MSNhhJWvcD/bTfBN02d3P2zb5nxnaoA/CD5h5MAGhz8NmeH1TyaQP+zrCsc9p5Y/LbKd76fGnz/bLW5ISEmmPww9YvTcQq8/JV2OstnstT8Er5Y7M8G+P0c+r3jqkcU/5h99k6ZBzj88bCIzFzjVP4enV8oyxN0//yH99nXg5D8qOpLLf0jtP5kqGJXUifQ/c9cS8kHP/D+/DpwzojQEQIEmwoanVwxA4lgXt9HgE0BSSZ2AJuIbQAMJih9jjiNA5q4l5INuK0AwTKYKRj0zQNv5fmq8/DpAaCJseHrtQkB/+zpwzoxKQM3MzMzMeFJAZmZmZmZqWEAAAAAAAFxeQM3MzMzMJmJAmpmZmZkfZUBmZmZmZhhoQDMzMzMzEWtAAAAAAAAKbkBmZmZmZoFwQM3MzMzM/XFAMzMzMzN6c0CamZmZmfZ0QAAAAAAAc3ZAZmZmZmbvd0DNzMzMzGt5QDMzMzMz6HpAmpmZmZlkfEAAAAAAAOF9QGZmZmZmXX9AZmZmZuZsgECamZmZGSuBQM3MzMxM6YFAAAAAAICngkAzMzMzs2WDQGZmZmbmI4RAmpmZmRnihEDNzMzMTKCFQAAAAACAXoZAMzMzM7Mch0BmZmZm5tqHQJqZmZkZmYhAzczMzExXiUAAAAAAgBWKQDMzMzOz04pAZmZmZuaRi0CamZmZGVCMQM3MzMxMDo1AAAAAAIDMjUAzMzMzs4qOQGZmZmbmSI9A\",\"dtype\":\"float64\",\"shape\":[75]}},\"selected\":{\"id\":\"34a9a9ac-8cca-4486-b7d7-b86a5a13eca3\",\"type\":\"Selection\"},\"selection_policy\":{\"id\":\"2bc9d454-aad0-4bf4-9b52-5ed6b9ad101f\",\"type\":\"UnionRenderers\"}},\"id\":\"253b636e-8ab8-4597-bf0f-1631db49601b\",\"type\":\"ColumnDataSource\"},{\"attributes\":{\"num_minor_ticks\":10},\"id\":\"31a83a09-4386-4b16-9ebe-43a781da62cb\",\"type\":\"LogTicker\"},{\"attributes\":{\"source\":{\"id\":\"e9684d56-3fdf-4b66-bb36-e76f911b5a2b\",\"type\":\"ColumnDataSource\"}},\"id\":\"b1c29682-6ffb-42bb-b122-5c2384c24a90\",\"type\":\"CDSView\"},{\"attributes\":{\"active_drag\":\"auto\",\"active_inspect\":\"auto\",\"active_scroll\":\"auto\",\"active_tap\":\"auto\",\"tools\":[{\"id\":\"ce786354-73aa-4c2d-84a0-5adf78159399\",\"type\":\"PanTool\"},{\"id\":\"74627c90-f6f6-474a-995c-24eb3b36d469\",\"type\":\"WheelZoomTool\"},{\"id\":\"30628f7f-b580-4bac-86ee-54de554d8def\",\"type\":\"BoxZoomTool\"},{\"id\":\"62a99ab6-bb4f-4b8d-ab73-a4a051f04994\",\"type\":\"SaveTool\"},{\"id\":\"aedbd86b-c07d-425f-af89-639b50cbddf8\",\"type\":\"ResetTool\"},{\"id\":\"72643b81-6c3b-4b0b-8fbb-911368be83bb\",\"type\":\"HelpTool\"}]},\"id\":\"0aa34bc3-9ac3-48b0-9eb5-009a64f03da0\",\"type\":\"Toolbar\"},{\"attributes\":{\"callback\":null,\"data\":{\"x\":{\"__ndarray__\":\"MXhf+wfXU0AZbvNjswdFQLQWsEQVdUFA5TlpnhT9QUB/x1dOYK05QImjxHmcEjZA9jYDSBB3L0AISPl4H6wqQBPuuwfAzyJAOcHprUZAIUB7WWpkesAXQJoT1Uq+ChVArO/8u0EXCkBgVNlshzgCQMeNQ+Nzu/I/POwv1Qzh+D9QxMRmcj8DQOrE7tC4mAxAQsLBRIlHEkAi4cPYoDEXQEeDpjRjzB1ASZ0GEfCuI0DVFj11sssnQOMiVKSMHyhAWRHvUxNoJEDo8cjD4g8gQLGGvR2NDRpAdpI3nV5oFECtyWH9Lp4QQIZQd9bvmwtAkshlnu1BBkBMysnQf1UAQHZJU/DYZ/c/HoEhV+G48T/rSm4vc/TmP3EgV4cD49g/xmy6+4w7zz+bEsjh3uDDPw5SRMRogKs/4GPKdPc1a78lazVXN1vCP/B84ODeUug/LOyxgXDV9z+/DBHyZAwAQAOIY+fy/QFAahF3XKCUAECV0GHvGsz+P+X4k4Nhvf0/RO/IqI98/T8rkW+v/zT9P59vGMDsAv0/zEX7plCY/D/E3siS8kj7P2yUMv+hDvs/RmrXDaYs+z+c9f5GCO36P58nVCbr7vo/Qus8hbcy/D+rD5hFMCf9P4t6dxofnPw/bRp4QYZ2/D/q8NNiN2b8P5YTVw9ESPw/l1Dy0X/K+j+WKih3ZdD5P2k8OYxHjvk/hceGh5N4+T8lpPahWSn5P6vJnePt4vY/UuhmxnXI9T8miFqdE+D0Pz7qfx5CR/Q/0khvq2US9D9LfVdHQGv0P9syeEmwYfg/\",\"dtype\":\"float64\",\"shape\":[75]},\"y\":{\"__ndarray__\":\"hLndy31yND/6fmq8dJNIP8n9DkWBPlE/aDum7souWD/b4a/JGvVgP9f34SAhymc/ZvM4DOavcD+z0M5pFmh3PxuC4zJuaoA/xjcUPlsHhz8uHAjJAiaQP9ieWRKgppY/oI7HDFTGnz+a5h2n6EimPzS6g9iZQq8/IuAQqtTstT9SSZ2AJsK+P4nS3uALk8U/ih9j7lpCzj+ASL99HTjVP4enV8oyxN0/ACL99nXg5D9fmEwVjErtPyUGgZVDi/Q/AiuHFtnO/D9OYhBYOTQEQPHSTWIQWAxA4XoUrkfhE0D8qfHSTeIbQMh2vp8ajyNArkfhehRuK0Bcj8L1KDwzQFyPwvUo/DpAPgrXo3DtQkDNzMzMzIxKQClcj8L1eFJAKVyPwvVoWECamZmZmVleQGZmZmZmJmJAAAAAAAAgZUCamZmZmRloQJqZmZmZEWtAmpmZmZkJbkCamZmZmYFwQGZmZmZm/nFAZmZmZmZ6c0BmZmZmZvZ0QDQzMzMzc3ZAAAAAAADwd0AAAAAAAGx5QAAAAAAA6HpAzMzMzMxkfEDMzMzMzOB9QM3MzMzMXH9AzczMzMxsgEAzMzMzMyuBQDMzMzMz6YFAMzMzMzOngkCamZmZmWWDQAAAAAAAJIRAAAAAAADihEAAAAAAAKCFQGZmZmZmXoZAzczMzMwch0DNzMzMzNqHQM3MzMzMmIhAMzMzMzNXiUCamZmZmRWKQAAAAAAA1IpAAAAAAACSi0AAAAAAAFCMQGZmZmZmDo1AzczMzMzMjUDNzMzMzIqOQM3MzMzMSI9A\",\"dtype\":\"float64\",\"shape\":[75]}},\"selected\":{\"id\":\"e11584de-1ab3-498c-86ca-353f0a773b1a\",\"type\":\"Selection\"},\"selection_policy\":{\"id\":\"74834b86-ecad-40bc-b43c-d2d3dc6e4770\",\"type\":\"UnionRenderers\"}},\"id\":\"3ad11d0e-3710-46ec-b507-43f3d46fcb31\",\"type\":\"ColumnDataSource\"},{\"attributes\":{\"items\":[{\"id\":\"7d6d3f31-fa2f-4d40-bfcb-25a15ef8cc1b\",\"type\":\"LegendItem\"},{\"id\":\"a8a13ae7-acd3-4fcc-a6b2-cd7e92faa40c\",\"type\":\"LegendItem\"},{\"id\":\"ec3f4460-9162-4365-97fe-b5b9bff8d9d5\",\"type\":\"LegendItem\"}],\"label_text_font_size\":{\"value\":\"8pt\"},\"location\":\"top_center\",\"orientation\":\"horizontal\",\"plot\":{\"id\":\"f2618bac-7199-42b1-8870-6775a94b4727\",\"subtype\":\"Figure\",\"type\":\"Plot\"}},\"id\":\"af94749a-fa3b-4090-a055-eb0df1af154c\",\"type\":\"Legend\"},{\"attributes\":{\"axis_label\":\"pressure [mb]\",\"formatter\":{\"id\":\"e1ec5804-550f-4c26-9854-ce0639793c9c\",\"type\":\"LogTickFormatter\"},\"plot\":{\"id\":\"f2618bac-7199-42b1-8870-6775a94b4727\",\"subtype\":\"Figure\",\"type\":\"Plot\"},\"ticker\":{\"id\":\"31a83a09-4386-4b16-9ebe-43a781da62cb\",\"type\":\"LogTicker\"}},\"id\":\"e30b51d6-faa9-4f4e-b774-a8729c118f06\",\"type\":\"LogAxis\"},{\"attributes\":{\"callback\":null,\"end\":13.587992271301857,\"start\":-0.33485573154785997},\"id\":\"e018c7e3-25f6-438c-af17-283e0bd0fa00\",\"type\":\"Range1d\"},{\"attributes\":{\"line_alpha\":0.1,\"line_color\":\"#1f77b4\",\"line_dash\":[6],\"line_width\":5,\"x\":{\"field\":\"x\"},\"y\":{\"field\":\"y\"}},\"id\":\"671084cc-3736-4b72-a369-0355b44f0d43\",\"type\":\"Line\"},{\"attributes\":{\"data_source\":{\"id\":\"e9684d56-3fdf-4b66-bb36-e76f911b5a2b\",\"type\":\"ColumnDataSource\"},\"glyph\":{\"id\":\"2fa789ad-09bb-48c5-9228-9e894cfbc71c\",\"type\":\"Square\"},\"hover_glyph\":null,\"muted_glyph\":null,\"nonselection_glyph\":{\"id\":\"74792972-db56-4a31-8626-999e724d8137\",\"type\":\"Square\"},\"selection_glyph\":null,\"view\":{\"id\":\"b1c29682-6ffb-42bb-b122-5c2384c24a90\",\"type\":\"CDSView\"}},\"id\":\"f483953c-8452-48c3-887f-4213837360d8\",\"type\":\"GlyphRenderer\"},{\"attributes\":{\"label\":{\"value\":\"CRD\"},\"renderers\":[{\"id\":\"f83bafdc-42ea-46ef-9f25-f45a5e60ce6e\",\"type\":\"GlyphRenderer\"},{\"id\":\"5d3fdc5f-9ebc-4fb1-9a79-e31a05c8c84e\",\"type\":\"GlyphRenderer\"}]},\"id\":\"e66ccd09-f2ed-4bcd-a40b-aaaa98978a73\",\"type\":\"LegendItem\"},{\"attributes\":{},\"id\":\"8b5b236e-d4ad-4822-8f48-7904ec534dd3\",\"type\":\"Selection\"},{\"attributes\":{},\"id\":\"ecbb34b8-6f0d-4a1c-ba5f-ac91a5961fff\",\"type\":\"LinearScale\"},{\"attributes\":{\"callback\":null,\"data\":{\"x\":{\"__ndarray__\":\"cm1sTMT3VEDEyvjosEJHQOKI6DjzCUNArgQWV9awPkB9Lm8XG3M4QEz+Qv6iYzNA7eV8HaPLLkCX1QHyTpMoQFBmYSYetiNAUB04GtGpH0AmFyVE5j8ZQJca9QPGqBNALJP+OOHHDEBNxaf7QF8AQKtislomWuw/cW2dcO6A9T/uJJvfPu0EQIaQLTI/JQ1AxGiII+PmEkCJvfVeuCsYQD6ZBhGbHB9AXQw69DTYJEAsubcwKucqQNuT9D5OmipAJyi3szEJJUBlNebh5WkgQDDcPHBr2xlArtlANXuQFEBdJadFHckQQI2Avh0ZsQtAjYiwt1rsBUCL0SDoVBgAQK6C0nEEjvc/CggLSme58T9sXU2orFPnP0v0JYz9Gdg/vT38vxYczD9nBQTe6kHHP1IhkEXJwKo/8OZnhCVAub+xtVgCpmqzP6DUpY6g0+k/PKK3T1h4+D8RTDjQc1EAQG/dAQs7TwJAQt2eHpPLAEBWEh074x//PyCap9ZSGf4/rEzaTySm/T+7aXhHRmr9P688KeqeNP0/ruZ4EemD/D8olrZcn9T7P0+vNc9hW/s/i9VVL+4P+z+0NzC24uz6P8731Kza8vo/xFf4SHzq+z+gYyHpvHb8P68ROkiFevw/BAjYdCga/D8AUp8VbW77P3JrF/nKmvo/qCQeGfq++T/dplwHJfn4P2G4p+Uva/g/OzZ0RqMZ+D8dmn/iar73P/OuA7Ka8PY/gaaeQHGn9T9hkyjAH1L0P3aZGhdAU/M/n8VP/g7P8j+90HxHNvfyPwhNBtgrqvk/\",\"dtype\":\"float64\",\"shape\":[75]},\"y\":{\"__ndarray__\":\"GhExyth1ND/Sv8nbtpRIP2vylNV0PVE/aTum7souWD/At0SJ8fVgPw3Iuahxymc/MSNhhJWvcD/bTfBN02d3P2zb5nxnaoA/CD5h5MAGhz8NmeH1TyaQP+zrCsc9p5Y/LbKd76fGnz/bLW5ISEmmPww9YvTcQq8/JV2OstnstT8Er5Y7M8G+P0c+r3jqkcU/5h99k6ZBzj88bCIzFzjVP4enV8oyxN0//yH99nXg5D8qOpLLf0jtP5kqGJXUifQ/c9cS8kHP/D+/DpwzojQEQIEmwoanVwxA4lgXt9HgE0BSSZ2AJuIbQAMJih9jjiNA5q4l5INuK0AwTKYKRj0zQNv5fmq8/DpAaCJseHrtQkB/+zpwzoxKQM3MzMzMeFJAZmZmZmZqWEAAAAAAAFxeQM3MzMzMJmJAmpmZmZkfZUBmZmZmZhhoQDMzMzMzEWtAAAAAAAAKbkBmZmZmZoFwQM3MzMzM/XFAMzMzMzN6c0CamZmZmfZ0QAAAAAAAc3ZAZmZmZmbvd0DNzMzMzGt5QDMzMzMz6HpAmpmZmZlkfEAAAAAAAOF9QGZmZmZmXX9AZmZmZuZsgECamZmZGSuBQM3MzMxM6YFAAAAAAICngkAzMzMzs2WDQGZmZmbmI4RAmpmZmRnihEDNzMzMTKCFQAAAAACAXoZAMzMzM7Mch0BmZmZm5tqHQJqZmZkZmYhAzczMzExXiUAAAAAAgBWKQDMzMzOz04pAZmZmZuaRi0CamZmZGVCMQM3MzMxMDo1AAAAAAIDMjUAzMzMzs4qOQGZmZmbmSI9A\",\"dtype\":\"float64\",\"shape\":[75]}},\"selected\":{\"id\":\"86a39584-7d3e-44a6-9c73-51254915d794\",\"type\":\"Selection\"},\"selection_policy\":{\"id\":\"7894faff-8243-4b85-b11a-db8974d11919\",\"type\":\"UnionRenderers\"}},\"id\":\"27e9eeff-5071-4df3-87ba-a34e46730c13\",\"type\":\"ColumnDataSource\"},{\"attributes\":{},\"id\":\"62a99ab6-bb4f-4b8d-ab73-a4a051f04994\",\"type\":\"SaveTool\"},{\"attributes\":{\"overlay\":{\"id\":\"c0574b78-66f7-46b1-8bb9-0abc3f122bae\",\"type\":\"BoxAnnotation\"}},\"id\":\"30628f7f-b580-4bac-86ee-54de554d8def\",\"type\":\"BoxZoomTool\"},{\"attributes\":{\"line_alpha\":0.6,\"line_color\":\"#377eb8\",\"line_dash\":[6],\"line_width\":5,\"x\":{\"field\":\"x\"},\"y\":{\"field\":\"y\"}},\"id\":\"39867f33-501e-48d2-bac1-03ed6a50b85f\",\"type\":\"Line\"},{\"attributes\":{},\"id\":\"ce786354-73aa-4c2d-84a0-5adf78159399\",\"type\":\"PanTool\"},{\"attributes\":{\"axis_label\":\"pressure [mb]\",\"formatter\":{\"id\":\"4d5b5065-875a-4e22-ba75-f5c2c8e2a1b9\",\"type\":\"BasicTickFormatter\"},\"plot\":{\"id\":\"4f4b90ca-1a35-452a-b219-8c13d4f54c4c\",\"subtype\":\"Figure\",\"type\":\"Plot\"},\"ticker\":{\"id\":\"e02dd9cf-a57a-4ed1-b3cd-3ef316a2b3c7\",\"type\":\"BasicTicker\"}},\"id\":\"12dbffeb-e0e1-4e14-99f3-73857d64dbd4\",\"type\":\"LinearAxis\"},{\"attributes\":{},\"id\":\"74627c90-f6f6-474a-995c-24eb3b36d469\",\"type\":\"WheelZoomTool\"},{\"attributes\":{\"callback\":null,\"end\":0.01,\"start\":1020},\"id\":\"296c9e14-7a48-473b-b347-daf44db58835\",\"type\":\"Range1d\"},{\"attributes\":{},\"id\":\"4950790e-556d-40b0-aad4-86b9801f37f7\",\"type\":\"BasicTickFormatter\"},{\"attributes\":{},\"id\":\"aedbd86b-c07d-425f-af89-639b50cbddf8\",\"type\":\"ResetTool\"},{\"attributes\":{\"bottom_units\":\"screen\",\"fill_alpha\":{\"value\":0.5},\"fill_color\":{\"value\":\"lightgrey\"},\"left_units\":\"screen\",\"level\":\"overlay\",\"line_alpha\":{\"value\":1.0},\"line_color\":{\"value\":\"black\"},\"line_dash\":[4,4],\"line_width\":{\"value\":2},\"plot\":null,\"render_mode\":\"css\",\"right_units\":\"screen\",\"top_units\":\"screen\"},\"id\":\"c0574b78-66f7-46b1-8bb9-0abc3f122bae\",\"type\":\"BoxAnnotation\"},{\"attributes\":{},\"id\":\"72643b81-6c3b-4b0b-8fbb-911368be83bb\",\"type\":\"HelpTool\"},{\"attributes\":{\"data_source\":{\"id\":\"4cfa7052-3a72-477a-b514-ea9334d308da\",\"type\":\"ColumnDataSource\"},\"glyph\":{\"id\":\"82bcbe52-88da-457d-96ce-89536bc5cc6e\",\"type\":\"Line\"},\"hover_glyph\":null,\"muted_glyph\":null,\"nonselection_glyph\":{\"id\":\"671084cc-3736-4b72-a369-0355b44f0d43\",\"type\":\"Line\"},\"selection_glyph\":null,\"view\":{\"id\":\"a4465641-78a9-46ca-950f-a70a2e1e2d74\",\"type\":\"CDSView\"}},\"id\":\"841148b1-833b-4d24-90e6-4e4e676f067a\",\"type\":\"GlyphRenderer\"},{\"attributes\":{\"callback\":null,\"end\":0.01,\"start\":1020},\"id\":\"a0104edd-2c68-4f7c-b17c-5d02e3984e74\",\"type\":\"Range1d\"},{\"attributes\":{\"source\":{\"id\":\"4cfa7052-3a72-477a-b514-ea9334d308da\",\"type\":\"ColumnDataSource\"}},\"id\":\"a4465641-78a9-46ca-950f-a70a2e1e2d74\",\"type\":\"CDSView\"},{\"attributes\":{},\"id\":\"45371f03-367e-4eb3-b269-6441fb40f9fb\",\"type\":\"LinearScale\"},{\"attributes\":{\"plot\":null,\"text\":\"\"},\"id\":\"4558ed21-c297-4131-86ed-837f6159706b\",\"type\":\"Title\"},{\"attributes\":{\"label\":{\"value\":\"CLIRAD (single-run) - CRD\"},\"renderers\":[{\"id\":\"be7d8ea7-1b12-406a-8bc6-09cc2f0864b1\",\"type\":\"GlyphRenderer\"},{\"id\":\"09b55b5d-daa7-4845-8352-a6ad5052fca6\",\"type\":\"GlyphRenderer\"}]},\"id\":\"65d5f08b-3583-4193-9db4-ac72328941cc\",\"type\":\"LegendItem\"},{\"attributes\":{\"callback\":null,\"data\":{\"x\":{\"__ndarray__\":\"cm1sTMT3VEDEyvjosEJHQOKI6DjzCUNArgQWV9awPkB9Lm8XG3M4QEz+Qv6iYzNA7eV8HaPLLkCX1QHyTpMoQFBmYSYetiNAUB04GtGpH0AmFyVE5j8ZQJca9QPGqBNALJP+OOHHDEBNxaf7QF8AQKtislomWuw/cW2dcO6A9T/uJJvfPu0EQIaQLTI/JQ1AxGiII+PmEkCJvfVeuCsYQD6ZBhGbHB9AXQw69DTYJEAsubcwKucqQNuT9D5OmipAJyi3szEJJUBlNebh5WkgQDDcPHBr2xlArtlANXuQFEBdJadFHckQQI2Avh0ZsQtAjYiwt1rsBUCL0SDoVBgAQK6C0nEEjvc/CggLSme58T9sXU2orFPnP0v0JYz9Gdg/vT38vxYczD9nBQTe6kHHP1IhkEXJwKo/8OZnhCVAub+xtVgCpmqzP6DUpY6g0+k/PKK3T1h4+D8RTDjQc1EAQG/dAQs7TwJAQt2eHpPLAEBWEh074x//PyCap9ZSGf4/rEzaTySm/T+7aXhHRmr9P688KeqeNP0/ruZ4EemD/D8olrZcn9T7P0+vNc9hW/s/i9VVL+4P+z+0NzC24uz6P8731Kza8vo/xFf4SHzq+z+gYyHpvHb8P68ROkiFevw/BAjYdCga/D8AUp8VbW77P3JrF/nKmvo/qCQeGfq++T/dplwHJfn4P2G4p+Uva/g/OzZ0RqMZ+D8dmn/iar73P/OuA7Ka8PY/gaaeQHGn9T9hkyjAH1L0P3aZGhdAU/M/n8VP/g7P8j+90HxHNvfyPwhNBtgrqvk/\",\"dtype\":\"float64\",\"shape\":[75]},\"y\":{\"__ndarray__\":\"GhExyth1ND/Sv8nbtpRIP2vylNV0PVE/aTum7souWD/At0SJ8fVgPw3Iuahxymc/MSNhhJWvcD/bTfBN02d3P2zb5nxnaoA/CD5h5MAGhz8NmeH1TyaQP+zrCsc9p5Y/LbKd76fGnz/bLW5ISEmmPww9YvTcQq8/JV2OstnstT8Er5Y7M8G+P0c+r3jqkcU/5h99k6ZBzj88bCIzFzjVP4enV8oyxN0//yH99nXg5D8qOpLLf0jtP5kqGJXUifQ/c9cS8kHP/D+/DpwzojQEQIEmwoanVwxA4lgXt9HgE0BSSZ2AJuIbQAMJih9jjiNA5q4l5INuK0AwTKYKRj0zQNv5fmq8/DpAaCJseHrtQkB/+zpwzoxKQM3MzMzMeFJAZmZmZmZqWEAAAAAAAFxeQM3MzMzMJmJAmpmZmZkfZUBmZmZmZhhoQDMzMzMzEWtAAAAAAAAKbkBmZmZmZoFwQM3MzMzM/XFAMzMzMzN6c0CamZmZmfZ0QAAAAAAAc3ZAZmZmZmbvd0DNzMzMzGt5QDMzMzMz6HpAmpmZmZlkfEAAAAAAAOF9QGZmZmZmXX9AZmZmZuZsgECamZmZGSuBQM3MzMxM6YFAAAAAAICngkAzMzMzs2WDQGZmZmbmI4RAmpmZmRnihEDNzMzMTKCFQAAAAACAXoZAMzMzM7Mch0BmZmZm5tqHQJqZmZkZmYhAzczMzExXiUAAAAAAgBWKQDMzMzOz04pAZmZmZuaRi0CamZmZGVCMQM3MzMxMDo1AAAAAAIDMjUAzMzMzs4qOQGZmZmbmSI9A\",\"dtype\":\"float64\",\"shape\":[75]}},\"selected\":{\"id\":\"71a2b637-945e-4bc3-9985-f37b29060754\",\"type\":\"Selection\"},\"selection_policy\":{\"id\":\"df4b610a-2eb3-480e-bd30-d8649518c845\",\"type\":\"UnionRenderers\"}},\"id\":\"02e3ae8c-d63f-43d8-832b-7b73dfca53fd\",\"type\":\"ColumnDataSource\"},{\"attributes\":{\"source\":{\"id\":\"a7d669b3-c5ec-4df0-8183-eed58d42f945\",\"type\":\"ColumnDataSource\"}},\"id\":\"b97f9a8e-1c68-41d6-b9d8-ae7ffecafb57\",\"type\":\"CDSView\"},{\"attributes\":{\"axis_label\":\"cooling rate [K/day]\",\"formatter\":{\"id\":\"4950790e-556d-40b0-aad4-86b9801f37f7\",\"type\":\"BasicTickFormatter\"},\"plot\":{\"id\":\"4f4b90ca-1a35-452a-b219-8c13d4f54c4c\",\"subtype\":\"Figure\",\"type\":\"Plot\"},\"ticker\":{\"id\":\"40c7b5e0-2762-4e3f-a3b6-8347140d1ddc\",\"type\":\"BasicTicker\"}},\"id\":\"87113306-25a8-4ceb-aba9-a04d742a52d5\",\"type\":\"LinearAxis\"},{\"attributes\":{\"fill_alpha\":{\"value\":0.1},\"fill_color\":{\"value\":\"#1f77b4\"},\"line_alpha\":{\"value\":0.1},\"line_color\":{\"value\":\"#1f77b4\"},\"x\":{\"field\":\"x\"},\"y\":{\"field\":\"y\"}},\"id\":\"f6d8569c-5027-4f80-ab2a-90751bd4b017\",\"type\":\"Circle\"},{\"attributes\":{\"line_alpha\":0.8,\"line_color\":\"#984ea3\",\"line_width\":1.5,\"x\":{\"field\":\"x\"},\"y\":{\"field\":\"y\"}},\"id\":\"a4f29b2f-e8ec-46df-b555-62cc79cab91c\",\"type\":\"Line\"},{\"attributes\":{\"source\":{\"id\":\"27e9eeff-5071-4df3-87ba-a34e46730c13\",\"type\":\"ColumnDataSource\"}},\"id\":\"fc9b4ccf-872f-404c-a58d-ff534743e14b\",\"type\":\"CDSView\"},{\"attributes\":{},\"id\":\"7894faff-8243-4b85-b11a-db8974d11919\",\"type\":\"UnionRenderers\"},{\"attributes\":{\"label\":{\"value\":\"old CLIRAD (H2012) - CRD\"},\"renderers\":[{\"id\":\"b63e1c79-2912-4aab-9d2d-c011a4cf3f70\",\"type\":\"GlyphRenderer\"}]},\"id\":\"16fa13ee-66b1-421e-ad7b-47a65990bbfe\",\"type\":\"LegendItem\"},{\"attributes\":{\"source\":{\"id\":\"fae4a3ea-e83f-4a3c-bca0-d99724d0757e\",\"type\":\"ColumnDataSource\"}},\"id\":\"9185e2bd-2c6f-4c1c-b574-1784784e0e08\",\"type\":\"CDSView\"},{\"attributes\":{\"line_alpha\":0.1,\"line_color\":\"#1f77b4\",\"line_dash\":[6],\"line_width\":4,\"x\":{\"field\":\"x\"},\"y\":{\"field\":\"y\"}},\"id\":\"b67a3cd5-6c17-48b6-bdf4-0ab01dbd875b\",\"type\":\"Line\"},{\"attributes\":{\"line_alpha\":0.5,\"line_color\":\"#377eb8\",\"line_dash\":[6],\"line_width\":4,\"x\":{\"field\":\"x\"},\"y\":{\"field\":\"y\"}},\"id\":\"e3ad5c4d-b767-4ccb-9d3a-3df7409d52e4\",\"type\":\"Line\"},{\"attributes\":{\"callback\":null,\"data\":{\"x\":{\"__ndarray__\":\"MXhf+wfXU0AZbvNjswdFQLQWsEQVdUFA5TlpnhT9QUB/x1dOYK05QImjxHmcEjZA9jYDSBB3L0AISPl4H6wqQBPuuwfAzyJAOcHprUZAIUB7WWpkesAXQJoT1Uq+ChVArO/8u0EXCkBgVNlshzgCQMeNQ+Nzu/I/POwv1Qzh+D9QxMRmcj8DQOrE7tC4mAxAQsLBRIlHEkAi4cPYoDEXQEeDpjRjzB1ASZ0GEfCuI0DVFj11sssnQOMiVKSMHyhAWRHvUxNoJEDo8cjD4g8gQLGGvR2NDRpAdpI3nV5oFECtyWH9Lp4QQIZQd9bvmwtAkshlnu1BBkBMysnQf1UAQHZJU/DYZ/c/HoEhV+G48T/rSm4vc/TmP3EgV4cD49g/xmy6+4w7zz+bEsjh3uDDPw5SRMRogKs/4GPKdPc1a78lazVXN1vCP/B84ODeUug/LOyxgXDV9z+/DBHyZAwAQAOIY+fy/QFAahF3XKCUAECV0GHvGsz+P+X4k4Nhvf0/RO/IqI98/T8rkW+v/zT9P59vGMDsAv0/zEX7plCY/D/E3siS8kj7P2yUMv+hDvs/RmrXDaYs+z+c9f5GCO36P58nVCbr7vo/Qus8hbcy/D+rD5hFMCf9P4t6dxofnPw/bRp4QYZ2/D/q8NNiN2b8P5YTVw9ESPw/l1Dy0X/K+j+WKih3ZdD5P2k8OYxHjvk/hceGh5N4+T8lpPahWSn5P6vJnePt4vY/UuhmxnXI9T8miFqdE+D0Pz7qfx5CR/Q/0khvq2US9D9LfVdHQGv0P9syeEmwYfg/\",\"dtype\":\"float64\",\"shape\":[75]},\"y\":{\"__ndarray__\":\"hLndy31yND/6fmq8dJNIP8n9DkWBPlE/aDum7souWD/b4a/JGvVgP9f34SAhymc/ZvM4DOavcD+z0M5pFmh3PxuC4zJuaoA/xjcUPlsHhz8uHAjJAiaQP9ieWRKgppY/oI7HDFTGnz+a5h2n6EimPzS6g9iZQq8/IuAQqtTstT9SSZ2AJsK+P4nS3uALk8U/ih9j7lpCzj+ASL99HTjVP4enV8oyxN0/ACL99nXg5D9fmEwVjErtPyUGgZVDi/Q/AiuHFtnO/D9OYhBYOTQEQPHSTWIQWAxA4XoUrkfhE0D8qfHSTeIbQMh2vp8ajyNArkfhehRuK0Bcj8L1KDwzQFyPwvUo/DpAPgrXo3DtQkDNzMzMzIxKQClcj8L1eFJAKVyPwvVoWECamZmZmVleQGZmZmZmJmJAAAAAAAAgZUCamZmZmRloQJqZmZmZEWtAmpmZmZkJbkCamZmZmYFwQGZmZmZm/nFAZmZmZmZ6c0BmZmZmZvZ0QDQzMzMzc3ZAAAAAAADwd0AAAAAAAGx5QAAAAAAA6HpAzMzMzMxkfEDMzMzMzOB9QM3MzMzMXH9AzczMzMxsgEAzMzMzMyuBQDMzMzMz6YFAMzMzMzOngkCamZmZmWWDQAAAAAAAJIRAAAAAAADihEAAAAAAAKCFQGZmZmZmXoZAzczMzMwch0DNzMzMzNqHQM3MzMzMmIhAMzMzMzNXiUCamZmZmRWKQAAAAAAA1IpAAAAAAACSi0AAAAAAAFCMQGZmZmZmDo1AzczMzMzMjUDNzMzMzIqOQM3MzMzMSI9A\",\"dtype\":\"float64\",\"shape\":[75]}},\"selected\":{\"id\":\"ed51f114-e838-4cab-aab2-149f3790c155\",\"type\":\"Selection\"},\"selection_policy\":{\"id\":\"fbc97de2-23d6-44f9-a2f0-ca75b9a08782\",\"type\":\"UnionRenderers\"}},\"id\":\"e9684d56-3fdf-4b66-bb36-e76f911b5a2b\",\"type\":\"ColumnDataSource\"},{\"attributes\":{\"callback\":null,\"data\":{\"x\":{\"__ndarray__\":\"oGsWFOcWRMAMO53n/6ogwD3viZgKZgLA/QYLKQLU/D8kxx1hxGkOQMQ0+uZxzQ5AVNhXd+QeBEAOfWNUzSflP8Ab6dWes+m/+NL3xc/V9b/FaMqELYjxv9IJsBTPId+/TcZOEIimsD/RlBh077XZP+5CgCXcI98/xk80a5U21D+mvbpH91KhP0I7juACtdC/1aw+HWoz4L+eELp8N6Pgv46j72rX7tG/sPOr1cQ1eb8yylG8HeyqvzLdYsjI0NO/iNtWXRBP17+iXw8BsSGxvwV3o383itg/95efVY5T1z8Wf4KYaOC3Pxz4JWCS45c/xGzh7qDj0D/z9Jq0lJzVP9S9cwqzvcM/ncXJA03snL/+DCuavWFzP5gifvItdK4/6ix5O2qXfj/VIxwFX/CrvyFUz3G74La/my7Kb2SHub/iQ7MhNea1vxA1JmSLibC/ec3xKLA2r7/CQWKSSD+dv/kBCet07ba/jdOl0S2ZuL/hF/AL7Yurv4nkUKY76K6/oQAAbI22s7/sel+r8Oayv1lPEDkNp6u/hX6dcBWzor/B7Z2I616YvxIFFivn5ZS/kePwCZ6plL+En8uXwV+Zv6r8aguhXJu/hY8q3THCk78YErbXNlBWP49H38C+f6A/WwZhsThqrD+Qb3Iuc+mtP/D2ZI59eqU/qxypqzTKlT/wr1QOo+RZP+CjI8tNBUE/JP80BLOBgT9iFteBPlSeP2eXidFcb6g/plqmh+qrrz+CO88mJx2yP91eBcEyWbM/pmiOXiQjtD+1cER8wdW0P61wWfKJoVbA\",\"dtype\":\"float64\",\"shape\":[75]},\"y\":{\"__ndarray__\":\"GhExyth1ND/Sv8nbtpRIP2vylNV0PVE/aTum7souWD/At0SJ8fVgPw3Iuahxymc/MSNhhJWvcD/bTfBN02d3P2zb5nxnaoA/CD5h5MAGhz8NmeH1TyaQP+zrCsc9p5Y/LbKd76fGnz/bLW5ISEmmPww9YvTcQq8/JV2OstnstT8Er5Y7M8G+P0c+r3jqkcU/5h99k6ZBzj88bCIzFzjVP4enV8oyxN0//yH99nXg5D8qOpLLf0jtP5kqGJXUifQ/c9cS8kHP/D+/DpwzojQEQIEmwoanVwxA4lgXt9HgE0BSSZ2AJuIbQAMJih9jjiNA5q4l5INuK0AwTKYKRj0zQNv5fmq8/DpAaCJseHrtQkB/+zpwzoxKQM3MzMzMeFJAZmZmZmZqWEAAAAAAAFxeQM3MzMzMJmJAmpmZmZkfZUBmZmZmZhhoQDMzMzMzEWtAAAAAAAAKbkBmZmZmZoFwQM3MzMzM/XFAMzMzMzN6c0CamZmZmfZ0QAAAAAAAc3ZAZmZmZmbvd0DNzMzMzGt5QDMzMzMz6HpAmpmZmZlkfEAAAAAAAOF9QGZmZmZmXX9AZmZmZuZsgECamZmZGSuBQM3MzMxM6YFAAAAAAICngkAzMzMzs2WDQGZmZmbmI4RAmpmZmRnihEDNzMzMTKCFQAAAAACAXoZAMzMzM7Mch0BmZmZm5tqHQJqZmZkZmYhAzczMzExXiUAAAAAAgBWKQDMzMzOz04pAZmZmZuaRi0CamZmZGVCMQM3MzMxMDo1AAAAAAIDMjUAzMzMzs4qOQGZmZmbmSI9A\",\"dtype\":\"float64\",\"shape\":[75]}},\"selected\":{\"id\":\"0373d621-9386-41f8-82b7-8e9d7d33d570\",\"type\":\"Selection\"},\"selection_policy\":{\"id\":\"8806fb11-c478-420e-a1d5-e25162c79d1e\",\"type\":\"UnionRenderers\"}},\"id\":\"a7d669b3-c5ec-4df0-8183-eed58d42f945\",\"type\":\"ColumnDataSource\"},{\"attributes\":{\"line_color\":\"#4daf4a\",\"line_width\":1.5,\"x\":{\"field\":\"x\"},\"y\":{\"field\":\"y\"}},\"id\":\"62d90252-0ea0-428c-bed7-60f350916bf8\",\"type\":\"Line\"},{\"attributes\":{},\"id\":\"71a2b637-945e-4bc3-9985-f37b29060754\",\"type\":\"Selection\"},{\"attributes\":{\"data_source\":{\"id\":\"d6dd873b-f041-4244-a479-3e91895d0dc3\",\"type\":\"ColumnDataSource\"},\"glyph\":{\"id\":\"5b3ca4cc-fe79-4041-8895-357a6d5f95aa\",\"type\":\"Circle\"},\"hover_glyph\":null,\"muted_glyph\":null,\"nonselection_glyph\":{\"id\":\"f6d8569c-5027-4f80-ab2a-90751bd4b017\",\"type\":\"Circle\"},\"selection_glyph\":null,\"view\":{\"id\":\"414a37d1-cd5e-4fa8-beda-4d94cf7e1397\",\"type\":\"CDSView\"}},\"id\":\"be7d8ea7-1b12-406a-8bc6-09cc2f0864b1\",\"type\":\"GlyphRenderer\"},{\"attributes\":{},\"id\":\"fbc97de2-23d6-44f9-a2f0-ca75b9a08782\",\"type\":\"UnionRenderers\"},{\"attributes\":{\"callback\":null,\"data\":{\"x\":{\"__ndarray__\":\"EFTPEMULEsBY5Soo7NcRwOAih0PfTQnAcLzxlkslFUAgkIluU6TzP+gpDdzLdwVAICHKUKVt1T+Ik7s3hMbwP6AHr9TDy9y/ECnbDOK15j+w2qv7vfbXvzCQ/22EH9Y/ABwN6PuE1b8w8RgTZ5TNP8ZxqdeCOdI/WPaTJPMAyz/gCWaNx9zKv4Bz2SfMkLG/QNDU2Dvrw7/gjDvG8ELPv3BfAcZ9A9W/QPE2M06U4r+4EtXbvdv4v8CHA9UM1vO/wNkC+csj1L9A31CHx4DGv4BAVcDWEKk/AJyjBEwOpL8A2K0iJHelvwAHMEdHKYW/QAFQrblkpT+AYHxUdJWePwCcnL/AFYO/AIDdMF2+IL9AoMQ3Xs6Hv8CEJWa/IIk/SHjx3bH7mD9glt/hXwibv4AXhtbv81c/0ZPByHVmuD+ZIBKsyEuxPwB7VdwaDKi/AMK2wPlcpL+A1M+Jt0OhvwBblecIUqS/AOzlE2F5m79AcNDuEvKUv8BO6MRU/Ja/ALSuiFPKhL8ASGwETKOKvwCIZggV2Yi/AB5fgpVndD+A7LY9mXWhv8C4xgD0L5O/ALuUgd63fD8AAPReZ8gCPwB4gQY0fE+/gN8kEc8Okj9ggdWOaw6mPwButB7pzIA/QJoEKHMXlz9A3ZOmSfmuP0CC+mOR17o/8L5CjVu4sD8gd3D5DeiqP4BAGGl6MbI/oBQpEQTvtT+AoHD36662PwCQysucWWu/gOgg5EKCgD+gmD6me76hPwAZquxAgK4/MDP40Wo1tD/gyKr9n0C3P9Ci4ei4h7S/\",\"dtype\":\"float64\",\"shape\":[75]},\"y\":{\"__ndarray__\":\"GhExyth1ND/Sv8nbtpRIP2vylNV0PVE/aTum7souWD/At0SJ8fVgPw3Iuahxymc/MSNhhJWvcD/bTfBN02d3P2zb5nxnaoA/CD5h5MAGhz8NmeH1TyaQP+zrCsc9p5Y/LbKd76fGnz/bLW5ISEmmPww9YvTcQq8/JV2OstnstT8Er5Y7M8G+P0c+r3jqkcU/5h99k6ZBzj88bCIzFzjVP4enV8oyxN0//yH99nXg5D8qOpLLf0jtP5kqGJXUifQ/c9cS8kHP/D+/DpwzojQEQIEmwoanVwxA4lgXt9HgE0BSSZ2AJuIbQAMJih9jjiNA5q4l5INuK0AwTKYKRj0zQNv5fmq8/DpAaCJseHrtQkB/+zpwzoxKQM3MzMzMeFJAZmZmZmZqWEAAAAAAAFxeQM3MzMzMJmJAmpmZmZkfZUBmZmZmZhhoQDMzMzMzEWtAAAAAAAAKbkBmZmZmZoFwQM3MzMzM/XFAMzMzMzN6c0CamZmZmfZ0QAAAAAAAc3ZAZmZmZmbvd0DNzMzMzGt5QDMzMzMz6HpAmpmZmZlkfEAAAAAAAOF9QGZmZmZmXX9AZmZmZuZsgECamZmZGSuBQM3MzMxM6YFAAAAAAICngkAzMzMzs2WDQGZmZmbmI4RAmpmZmRnihEDNzMzMTKCFQAAAAACAXoZAMzMzM7Mch0BmZmZm5tqHQJqZmZkZmYhAzczMzExXiUAAAAAAgBWKQDMzMzOz04pAZmZmZuaRi0CamZmZGVCMQM3MzMxMDo1AAAAAAIDMjUAzMzMzs4qOQGZmZmbmSI9A\",\"dtype\":\"float64\",\"shape\":[75]}},\"selected\":{\"id\":\"9efb6a4c-15be-4cdc-af89-c729a57ef668\",\"type\":\"Selection\"},\"selection_policy\":{\"id\":\"3d93e7e4-7ae9-4c8f-88db-c65cb4d5eb4b\",\"type\":\"UnionRenderers\"}},\"id\":\"fae4a3ea-e83f-4a3c-bca0-d99724d0757e\",\"type\":\"ColumnDataSource\"},{\"attributes\":{\"fill_alpha\":{\"value\":0.1},\"fill_color\":{\"value\":\"#1f77b4\"},\"line_alpha\":{\"value\":0.1},\"line_color\":{\"value\":\"#1f77b4\"},\"x\":{\"field\":\"x\"},\"y\":{\"field\":\"y\"}},\"id\":\"c6f75ed9-61ff-46dd-972e-9c6fb900c24d\",\"type\":\"Circle\"},{\"attributes\":{},\"id\":\"ed51f114-e838-4cab-aab2-149f3790c155\",\"type\":\"Selection\"},{\"attributes\":{\"data_source\":{\"id\":\"fae4a3ea-e83f-4a3c-bca0-d99724d0757e\",\"type\":\"ColumnDataSource\"},\"glyph\":{\"id\":\"e3ad5c4d-b767-4ccb-9d3a-3df7409d52e4\",\"type\":\"Line\"},\"hover_glyph\":null,\"muted_glyph\":null,\"nonselection_glyph\":{\"id\":\"b67a3cd5-6c17-48b6-bdf4-0ab01dbd875b\",\"type\":\"Line\"},\"selection_glyph\":null,\"view\":{\"id\":\"9185e2bd-2c6f-4c1c-b574-1784784e0e08\",\"type\":\"CDSView\"}},\"id\":\"b63e1c79-2912-4aab-9d2d-c011a4cf3f70\",\"type\":\"GlyphRenderer\"},{\"attributes\":{},\"id\":\"1797080e-a403-4825-9a5a-9f0faea57918\",\"type\":\"UnionRenderers\"},{\"attributes\":{\"above\":[{\"id\":\"1a0c0ed6-21a8-47b7-826d-125c43f214d0\",\"type\":\"Legend\"}],\"below\":[{\"id\":\"87113306-25a8-4ceb-aba9-a04d742a52d5\",\"type\":\"LinearAxis\"}],\"left\":[{\"id\":\"12dbffeb-e0e1-4e14-99f3-73857d64dbd4\",\"type\":\"LinearAxis\"}],\"plot_width\":300,\"renderers\":[{\"id\":\"87113306-25a8-4ceb-aba9-a04d742a52d5\",\"type\":\"LinearAxis\"},{\"id\":\"6bbf7a29-65c3-4737-898a-7d81108eeded\",\"type\":\"Grid\"},{\"id\":\"12dbffeb-e0e1-4e14-99f3-73857d64dbd4\",\"type\":\"LinearAxis\"},{\"id\":\"5964b0f4-846c-48ac-bb62-7fedb0b48cb3\",\"type\":\"Grid\"},{\"id\":\"5603918e-dfda-49c1-93ed-847131e3d682\",\"type\":\"BoxAnnotation\"},{\"id\":\"841148b1-833b-4d24-90e6-4e4e676f067a\",\"type\":\"GlyphRenderer\"},{\"id\":\"f83bafdc-42ea-46ef-9f25-f45a5e60ce6e\",\"type\":\"GlyphRenderer\"},{\"id\":\"5d3fdc5f-9ebc-4fb1-9a79-e31a05c8c84e\",\"type\":\"GlyphRenderer\"},{\"id\":\"f483953c-8452-48c3-887f-4213837360d8\",\"type\":\"GlyphRenderer\"},{\"id\":\"56c2a0c0-7c82-4a0b-a4fe-037785cc37b5\",\"type\":\"GlyphRenderer\"},{\"id\":\"1a0c0ed6-21a8-47b7-826d-125c43f214d0\",\"type\":\"Legend\"}],\"title\":{\"id\":\"4558ed21-c297-4131-86ed-837f6159706b\",\"type\":\"Title\"},\"toolbar\":{\"id\":\"9ae556d4-2313-42d5-ba1f-64de83fd48da\",\"type\":\"Toolbar\"},\"toolbar_location\":null,\"x_range\":{\"id\":\"daf2c8fc-d8b9-49f7-947b-0254df3f4834\",\"type\":\"Range1d\"},\"x_scale\":{\"id\":\"45371f03-367e-4eb3-b269-6441fb40f9fb\",\"type\":\"LinearScale\"},\"y_range\":{\"id\":\"f2354749-eaad-417d-aceb-4f313be48ea9\",\"type\":\"Range1d\"},\"y_scale\":{\"id\":\"28228511-1268-4ed5-b14d-b152110359dd\",\"type\":\"LinearScale\"}},\"id\":\"4f4b90ca-1a35-452a-b219-8c13d4f54c4c\",\"subtype\":\"Figure\",\"type\":\"Plot\"},{\"attributes\":{},\"id\":\"74834b86-ecad-40bc-b43c-d2d3dc6e4770\",\"type\":\"UnionRenderers\"},{\"attributes\":{},\"id\":\"86a39584-7d3e-44a6-9c73-51254915d794\",\"type\":\"Selection\"},{\"attributes\":{\"fill_alpha\":{\"value\":0.7},\"fill_color\":{\"value\":\"#4daf4a\"},\"line_alpha\":{\"value\":0.7},\"line_color\":{\"value\":\"#4daf4a\"},\"x\":{\"field\":\"x\"},\"y\":{\"field\":\"y\"}},\"id\":\"5c087ad5-145c-4ad7-a8e5-663b72f1966a\",\"type\":\"Circle\"},{\"attributes\":{\"fill_alpha\":{\"value\":0.1},\"fill_color\":{\"value\":\"#1f77b4\"},\"line_alpha\":{\"value\":0.1},\"line_color\":{\"value\":\"#1f77b4\"},\"x\":{\"field\":\"x\"},\"y\":{\"field\":\"y\"}},\"id\":\"74792972-db56-4a31-8626-999e724d8137\",\"type\":\"Square\"},{\"attributes\":{\"data_source\":{\"id\":\"02e3ae8c-d63f-43d8-832b-7b73dfca53fd\",\"type\":\"ColumnDataSource\"},\"glyph\":{\"id\":\"62d90252-0ea0-428c-bed7-60f350916bf8\",\"type\":\"Line\"},\"hover_glyph\":null,\"muted_glyph\":null,\"nonselection_glyph\":{\"id\":\"78193777-1334-47ae-970d-47d528b962b0\",\"type\":\"Line\"},\"selection_glyph\":null,\"view\":{\"id\":\"962ef279-a1dc-4f02-b60f-32fc17b03728\",\"type\":\"CDSView\"}},\"id\":\"5d3fdc5f-9ebc-4fb1-9a79-e31a05c8c84e\",\"type\":\"GlyphRenderer\"},{\"attributes\":{},\"id\":\"40c7b5e0-2762-4e3f-a3b6-8347140d1ddc\",\"type\":\"BasicTicker\"},{\"attributes\":{\"source\":{\"id\":\"d6dd873b-f041-4244-a479-3e91895d0dc3\",\"type\":\"ColumnDataSource\"}},\"id\":\"414a37d1-cd5e-4fa8-beda-4d94cf7e1397\",\"type\":\"CDSView\"},{\"attributes\":{\"callback\":null,\"data\":{\"x\":{\"__ndarray__\":\"oGsWFOcWRMAMO53n/6ogwD3viZgKZgLA/QYLKQLU/D8kxx1hxGkOQMQ0+uZxzQ5AVNhXd+QeBEAOfWNUzSflP8Ab6dWes+m/+NL3xc/V9b/FaMqELYjxv9IJsBTPId+/TcZOEIimsD/RlBh077XZP+5CgCXcI98/xk80a5U21D+mvbpH91KhP0I7juACtdC/1aw+HWoz4L+eELp8N6Pgv46j72rX7tG/sPOr1cQ1eb8yylG8HeyqvzLdYsjI0NO/iNtWXRBP17+iXw8BsSGxvwV3o383itg/95efVY5T1z8Wf4KYaOC3Pxz4JWCS45c/xGzh7qDj0D/z9Jq0lJzVP9S9cwqzvcM/ncXJA03snL/+DCuavWFzP5gifvItdK4/6ix5O2qXfj/VIxwFX/CrvyFUz3G74La/my7Kb2SHub/iQ7MhNea1vxA1JmSLibC/ec3xKLA2r7/CQWKSSD+dv/kBCet07ba/jdOl0S2ZuL/hF/AL7Yurv4nkUKY76K6/oQAAbI22s7/sel+r8Oayv1lPEDkNp6u/hX6dcBWzor/B7Z2I616YvxIFFivn5ZS/kePwCZ6plL+En8uXwV+Zv6r8aguhXJu/hY8q3THCk78YErbXNlBWP49H38C+f6A/WwZhsThqrD+Qb3Iuc+mtP/D2ZI59eqU/qxypqzTKlT/wr1QOo+RZP+CjI8tNBUE/JP80BLOBgT9iFteBPlSeP2eXidFcb6g/plqmh+qrrz+CO88mJx2yP91eBcEyWbM/pmiOXiQjtD+1cER8wdW0P61wWfKJoVbA\",\"dtype\":\"float64\",\"shape\":[75]},\"y\":{\"__ndarray__\":\"GhExyth1ND/Sv8nbtpRIP2vylNV0PVE/aTum7souWD/At0SJ8fVgPw3Iuahxymc/MSNhhJWvcD/bTfBN02d3P2zb5nxnaoA/CD5h5MAGhz8NmeH1TyaQP+zrCsc9p5Y/LbKd76fGnz/bLW5ISEmmPww9YvTcQq8/JV2OstnstT8Er5Y7M8G+P0c+r3jqkcU/5h99k6ZBzj88bCIzFzjVP4enV8oyxN0//yH99nXg5D8qOpLLf0jtP5kqGJXUifQ/c9cS8kHP/D+/DpwzojQEQIEmwoanVwxA4lgXt9HgE0BSSZ2AJuIbQAMJih9jjiNA5q4l5INuK0AwTKYKRj0zQNv5fmq8/DpAaCJseHrtQkB/+zpwzoxKQM3MzMzMeFJAZmZmZmZqWEAAAAAAAFxeQM3MzMzMJmJAmpmZmZkfZUBmZmZmZhhoQDMzMzMzEWtAAAAAAAAKbkBmZmZmZoFwQM3MzMzM/XFAMzMzMzN6c0CamZmZmfZ0QAAAAAAAc3ZAZmZmZmbvd0DNzMzMzGt5QDMzMzMz6HpAmpmZmZlkfEAAAAAAAOF9QGZmZmZmXX9AZmZmZuZsgECamZmZGSuBQM3MzMxM6YFAAAAAAICngkAzMzMzs2WDQGZmZmbmI4RAmpmZmRnihEDNzMzMTKCFQAAAAACAXoZAMzMzM7Mch0BmZmZm5tqHQJqZmZkZmYhAzczMzExXiUAAAAAAgBWKQDMzMzOz04pAZmZmZuaRi0CamZmZGVCMQM3MzMxMDo1AAAAAAIDMjUAzMzMzs4qOQGZmZmbmSI9A\",\"dtype\":\"float64\",\"shape\":[75]}},\"selected\":{\"id\":\"06586213-878b-430f-9943-8300457c1f99\",\"type\":\"Selection\"},\"selection_policy\":{\"id\":\"fdf822fa-380a-4239-ada1-2ed204980b95\",\"type\":\"UnionRenderers\"}},\"id\":\"d6dd873b-f041-4244-a479-3e91895d0dc3\",\"type\":\"ColumnDataSource\"},{\"attributes\":{},\"id\":\"e11584de-1ab3-498c-86ca-353f0a773b1a\",\"type\":\"Selection\"},{\"attributes\":{\"callback\":null,\"end\":3.2007736914533003,\"start\":-89.83208573512327},\"id\":\"daf2c8fc-d8b9-49f7-947b-0254df3f4834\",\"type\":\"Range1d\"},{\"attributes\":{\"data_source\":{\"id\":\"a7d669b3-c5ec-4df0-8183-eed58d42f945\",\"type\":\"ColumnDataSource\"},\"glyph\":{\"id\":\"a4f29b2f-e8ec-46df-b555-62cc79cab91c\",\"type\":\"Line\"},\"hover_glyph\":null,\"muted_glyph\":null,\"nonselection_glyph\":{\"id\":\"9c79e5e8-e998-48be-b389-98924aebfced\",\"type\":\"Line\"},\"selection_glyph\":null,\"view\":{\"id\":\"b97f9a8e-1c68-41d6-b9d8-ae7ffecafb57\",\"type\":\"CDSView\"}},\"id\":\"09b55b5d-daa7-4845-8352-a6ad5052fca6\",\"type\":\"GlyphRenderer\"},{\"attributes\":{\"line_alpha\":0.1,\"line_color\":\"#1f77b4\",\"line_width\":1.5,\"x\":{\"field\":\"x\"},\"y\":{\"field\":\"y\"}},\"id\":\"78193777-1334-47ae-970d-47d528b962b0\",\"type\":\"Line\"},{\"attributes\":{\"active_drag\":\"auto\",\"active_inspect\":\"auto\",\"active_scroll\":\"auto\",\"active_tap\":\"auto\",\"tools\":[{\"id\":\"ba8ca76f-3dc5-4afc-9699-0bde8e7f071a\",\"type\":\"PanTool\"},{\"id\":\"962a28a9-ac79-4955-9239-20bd615c5e6e\",\"type\":\"WheelZoomTool\"},{\"id\":\"a15e5e21-34f3-4db8-8546-db07b55da036\",\"type\":\"BoxZoomTool\"},{\"id\":\"def273e2-474c-4e6b-ba3a-e6edb7f89ee7\",\"type\":\"SaveTool\"},{\"id\":\"20861ebc-e88f-4ae1-8479-9fc159cf3013\",\"type\":\"ResetTool\"},{\"id\":\"46db04c0-087f-4e9b-8a11-4735c92e79ac\",\"type\":\"HelpTool\"}]},\"id\":\"9ae556d4-2313-42d5-ba1f-64de83fd48da\",\"type\":\"Toolbar\"},{\"attributes\":{},\"id\":\"df4b610a-2eb3-480e-bd30-d8649518c845\",\"type\":\"UnionRenderers\"},{\"attributes\":{\"items\":[{\"id\":\"80a01f16-2b6f-47aa-90e6-fb1c5dd95dd6\",\"type\":\"LegendItem\"},{\"id\":\"e66ccd09-f2ed-4bcd-a40b-aaaa98978a73\",\"type\":\"LegendItem\"},{\"id\":\"5e9250b9-a2aa-4b4c-8eb3-5da9aba5ee32\",\"type\":\"LegendItem\"}],\"label_text_font_size\":{\"value\":\"8pt\"},\"location\":\"top_center\",\"orientation\":\"horizontal\",\"plot\":{\"id\":\"4f4b90ca-1a35-452a-b219-8c13d4f54c4c\",\"subtype\":\"Figure\",\"type\":\"Plot\"}},\"id\":\"1a0c0ed6-21a8-47b7-826d-125c43f214d0\",\"type\":\"Legend\"},{\"attributes\":{\"source\":{\"id\":\"02e3ae8c-d63f-43d8-832b-7b73dfca53fd\",\"type\":\"ColumnDataSource\"}},\"id\":\"962ef279-a1dc-4f02-b60f-32fc17b03728\",\"type\":\"CDSView\"},{\"attributes\":{\"data_source\":{\"id\":\"27e9eeff-5071-4df3-87ba-a34e46730c13\",\"type\":\"ColumnDataSource\"},\"glyph\":{\"id\":\"5c087ad5-145c-4ad7-a8e5-663b72f1966a\",\"type\":\"Circle\"},\"hover_glyph\":null,\"muted_glyph\":null,\"nonselection_glyph\":{\"id\":\"c6f75ed9-61ff-46dd-972e-9c6fb900c24d\",\"type\":\"Circle\"},\"selection_glyph\":null,\"view\":{\"id\":\"fc9b4ccf-872f-404c-a58d-ff534743e14b\",\"type\":\"CDSView\"}},\"id\":\"f83bafdc-42ea-46ef-9f25-f45a5e60ce6e\",\"type\":\"GlyphRenderer\"},{\"attributes\":{\"items\":[{\"id\":\"65d5f08b-3583-4193-9db4-ac72328941cc\",\"type\":\"LegendItem\"},{\"id\":\"16fa13ee-66b1-421e-ad7b-47a65990bbfe\",\"type\":\"LegendItem\"}],\"label_text_font_size\":{\"value\":\"8pt\"},\"location\":\"top_center\",\"orientation\":\"horizontal\",\"plot\":{\"id\":\"e2440230-be77-410d-a479-ce190c22cbf5\",\"subtype\":\"Figure\",\"type\":\"Plot\"}},\"id\":\"36c3b751-7f36-473b-a528-1046a13b017d\",\"type\":\"Legend\"},{\"attributes\":{\"line_alpha\":0.1,\"line_color\":\"#1f77b4\",\"line_width\":1.5,\"x\":{\"field\":\"x\"},\"y\":{\"field\":\"y\"}},\"id\":\"9c79e5e8-e998-48be-b389-98924aebfced\",\"type\":\"Line\"},{\"attributes\":{},\"id\":\"4d5b5065-875a-4e22-ba75-f5c2c8e2a1b9\",\"type\":\"BasicTickFormatter\"},{\"attributes\":{\"fill_alpha\":{\"value\":0.7},\"fill_color\":{\"value\":\"#984ea3\"},\"line_alpha\":{\"value\":0.7},\"line_color\":{\"value\":\"#984ea3\"},\"x\":{\"field\":\"x\"},\"y\":{\"field\":\"y\"}},\"id\":\"2fa789ad-09bb-48c5-9228-9e894cfbc71c\",\"type\":\"Square\"},{\"attributes\":{},\"id\":\"28228511-1268-4ed5-b14d-b152110359dd\",\"type\":\"LinearScale\"}],\"root_ids\":[\"4a64a7d9-5472-405a-a26a-f10f19b40ae3\"]},\"title\":\"Bokeh Application\",\"version\":\"0.12.16\"}};\n",
       "  var render_items = [{\"docid\":\"c921d0eb-4dbb-4fc6-a614-651eaca0da47\",\"elementid\":\"8a46c160-39b5-474a-aecd-d22d6df47337\",\"modelid\":\"4a64a7d9-5472-405a-a26a-f10f19b40ae3\"}];\n",
       "  root.Bokeh.embed.embed_items_notebook(docs_json, render_items);\n",
       "\n",
       "  }\n",
       "  if (root.Bokeh !== undefined) {\n",
       "    embed_document(root);\n",
       "  } else {\n",
       "    var attempts = 0;\n",
       "    var timer = setInterval(function(root) {\n",
       "      if (root.Bokeh !== undefined) {\n",
       "        embed_document(root);\n",
       "        clearInterval(timer);\n",
       "      }\n",
       "      attempts++;\n",
       "      if (attempts > 100) {\n",
       "        console.log(\"Bokeh: ERROR: Unable to run BokehJS code because BokehJS library is missing\")\n",
       "        clearInterval(timer);\n",
       "      }\n",
       "    }, 10, root)\n",
       "  }\n",
       "})(window);"
      ],
      "application/vnd.bokehjs_exec.v0+json": ""
     },
     "metadata": {
      "application/vnd.bokehjs_exec.v0+json": {
       "id": "4a64a7d9-5472-405a-a26a-f10f19b40ae3"
      }
     },
     "output_type": "display_data"
    },
    {
     "data": {
      "text/markdown": [
       "*FIGURE.* Cooling rates & difference."
      ],
      "text/plain": [
       "<IPython.core.display.Markdown object>"
      ]
     },
     "metadata": {},
     "output_type": "display_data"
    },
    {
     "data": {
      "text/html": [
       "<a id=\"Fluxes._mls.\"></a>"
      ],
      "text/plain": [
       "<IPython.core.display.HTML object>"
      ]
     },
     "metadata": {},
     "output_type": "display_data"
    },
    {
     "data": {
      "text/markdown": [
       "# Fluxes. mls."
      ],
      "text/plain": [
       "<IPython.core.display.Markdown object>"
      ]
     },
     "metadata": {},
     "output_type": "display_data"
    },
    {
     "data": {
      "text/html": [
       "\n",
       "<div class=\"bk-root\">\n",
       "    <div class=\"bk-plotdiv\" id=\"8f707861-2a2e-4ffe-afef-034960a1174b\"></div>\n",
       "</div>"
      ]
     },
     "metadata": {},
     "output_type": "display_data"
    },
    {
     "data": {
      "application/javascript": [
       "(function(root) {\n",
       "  function embed_document(root) {\n",
       "    \n",
       "  var docs_json = {\"3429377a-48e1-4ccd-b775-d2c3fd4fcec1\":{\"roots\":{\"references\":[{\"attributes\":{},\"id\":\"f73590ea-b463-43c2-bcce-3634b5fce9c9\",\"type\":\"CategoricalTicker\"},{\"attributes\":{\"axis_label\":\"flux (W m-2)\",\"formatter\":{\"id\":\"77f464e2-5d40-42ff-a190-d0572f77ec9b\",\"type\":\"BasicTickFormatter\"},\"plot\":{\"id\":\"41d87134-a816-413a-81a9-dfd9b7da2d3e\",\"subtype\":\"Figure\",\"type\":\"Plot\"},\"ticker\":{\"id\":\"4bd24544-2932-45dc-8107-1cfae625c56a\",\"type\":\"BasicTicker\"}},\"id\":\"c8aa6e6d-0e81-4c03-bc80-2a799ecb93a7\",\"type\":\"LinearAxis\"},{\"attributes\":{\"fill_alpha\":{\"value\":0.1},\"fill_color\":{\"value\":\"#1f77b4\"},\"line_alpha\":{\"value\":0.1},\"line_color\":{\"value\":\"#1f77b4\"},\"top\":{\"field\":\"flux\"},\"width\":{\"value\":0.9},\"x\":{\"field\":\"band\"}},\"id\":\"a39f4771-47a9-4503-aa7a-e62bc19795ed\",\"type\":\"VBar\"},{\"attributes\":{\"axis_label\":\"spectral band\",\"formatter\":{\"id\":\"4e212cf4-df11-4d0b-b30d-3545139d97d8\",\"type\":\"CategoricalTickFormatter\"},\"plot\":{\"id\":\"41d87134-a816-413a-81a9-dfd9b7da2d3e\",\"subtype\":\"Figure\",\"type\":\"Plot\"},\"ticker\":{\"id\":\"6e494d0c-ec0b-4d9d-98d5-331cad4e90d6\",\"type\":\"CategoricalTicker\"}},\"id\":\"30b70d80-0171-46a2-bd10-44f740402543\",\"type\":\"CategoricalAxis\"},{\"attributes\":{},\"id\":\"aeb56f04-7e60-4e0c-83ec-4c3aab668892\",\"type\":\"Selection\"},{\"attributes\":{\"children\":[{\"id\":\"e682c856-4256-43fc-86a9-b0f2b9ba13f8\",\"type\":\"Row\"}]},\"id\":\"476dca99-978f-4fe4-97a0-ad137decf934\",\"type\":\"Column\"},{\"attributes\":{\"active_drag\":\"auto\",\"active_inspect\":\"auto\",\"active_scroll\":\"auto\",\"active_tap\":\"auto\",\"tools\":[{\"id\":\"8f50a667-3cdb-4c3e-abac-9ed6d35e710d\",\"type\":\"PanTool\"},{\"id\":\"4016e9b4-f802-4423-9ffa-fac6d38ef94c\",\"type\":\"WheelZoomTool\"},{\"id\":\"fa8835ee-c176-4e71-9dcf-ecc55773456d\",\"type\":\"BoxZoomTool\"},{\"id\":\"ee3f6685-974b-49f8-83eb-ec6f26c0901e\",\"type\":\"SaveTool\"},{\"id\":\"474a98e6-ec9a-4a9a-9fa3-8a9763c936a2\",\"type\":\"ResetTool\"},{\"id\":\"dd2ddd55-10ce-4dfa-9c8b-65735705039f\",\"type\":\"HelpTool\"}]},\"id\":\"af4ea210-1f33-4871-88af-f89a65015bc1\",\"type\":\"Toolbar\"},{\"attributes\":{},\"id\":\"987ca29d-31cc-4ceb-98b8-e3e9097c43f0\",\"type\":\"WheelZoomTool\"},{\"attributes\":{\"dimension\":1,\"plot\":{\"id\":\"41d87134-a816-413a-81a9-dfd9b7da2d3e\",\"subtype\":\"Figure\",\"type\":\"Plot\"},\"ticker\":{\"id\":\"4bd24544-2932-45dc-8107-1cfae625c56a\",\"type\":\"BasicTicker\"}},\"id\":\"1e907cc9-e46f-4234-9aed-9fdaa1772104\",\"type\":\"Grid\"},{\"attributes\":{},\"id\":\"6e494d0c-ec0b-4d9d-98d5-331cad4e90d6\",\"type\":\"CategoricalTicker\"},{\"attributes\":{\"source\":{\"id\":\"0e13c7b9-e0b7-4ce2-b80a-9bae549bb363\",\"type\":\"ColumnDataSource\"}},\"id\":\"482ecae7-8379-48cf-bff7-c03aff02057d\",\"type\":\"CDSView\"},{\"attributes\":{\"below\":[{\"id\":\"134ff707-9907-4b71-b6a5-19005bf08671\",\"type\":\"CategoricalAxis\"}],\"left\":[{\"id\":\"0a6cb802-3e43-4255-82ba-c7a750624871\",\"type\":\"LinearAxis\"}],\"plot_height\":300,\"plot_width\":300,\"renderers\":[{\"id\":\"134ff707-9907-4b71-b6a5-19005bf08671\",\"type\":\"CategoricalAxis\"},{\"id\":\"7d6c35aa-364a-415b-8bee-d21bab728b87\",\"type\":\"Grid\"},{\"id\":\"0a6cb802-3e43-4255-82ba-c7a750624871\",\"type\":\"LinearAxis\"},{\"id\":\"57bc3cf1-5ddb-419f-a942-21967b097fe8\",\"type\":\"Grid\"},{\"id\":\"bdbade0d-a684-4526-bc79-375fdedc33f0\",\"type\":\"BoxAnnotation\"},{\"id\":\"bcc1983a-ab91-4ade-918b-9558c3f94981\",\"type\":\"GlyphRenderer\"}],\"title\":{\"id\":\"8e8693da-9e55-40ed-ac45-665f6729bc1e\",\"type\":\"Title\"},\"toolbar\":{\"id\":\"af4ea210-1f33-4871-88af-f89a65015bc1\",\"type\":\"Toolbar\"},\"toolbar_location\":null,\"x_range\":{\"id\":\"555cf314-a063-4db2-93b9-c100da8a6af4\",\"type\":\"FactorRange\"},\"x_scale\":{\"id\":\"fde60e2e-ac39-46dc-8194-0148aa31c2d2\",\"type\":\"CategoricalScale\"},\"y_range\":{\"id\":\"63cd1e16-ed83-46af-9cd0-11d4ecfa2128\",\"type\":\"DataRange1d\"},\"y_scale\":{\"id\":\"3a223647-21a4-4da1-bdb5-2008ea501348\",\"type\":\"LinearScale\"}},\"id\":\"3ee50e1d-9ac5-432b-a4b2-8cc293f42920\",\"subtype\":\"Figure\",\"type\":\"Plot\"},{\"attributes\":{\"below\":[{\"id\":\"b3dc8075-6d87-41cc-ac64-cf06b250f4d8\",\"type\":\"CategoricalAxis\"}],\"left\":[{\"id\":\"1368fb84-fc2e-470b-b122-a6a11bdeedca\",\"type\":\"LinearAxis\"}],\"plot_height\":300,\"plot_width\":300,\"renderers\":[{\"id\":\"b3dc8075-6d87-41cc-ac64-cf06b250f4d8\",\"type\":\"CategoricalAxis\"},{\"id\":\"656584b8-25d5-4858-a5fa-fcc3dd3c5c70\",\"type\":\"Grid\"},{\"id\":\"1368fb84-fc2e-470b-b122-a6a11bdeedca\",\"type\":\"LinearAxis\"},{\"id\":\"b69a951d-e719-4b4c-b84b-a345d599f214\",\"type\":\"Grid\"},{\"id\":\"779ac724-a36a-462c-ab34-57326cb3457d\",\"type\":\"BoxAnnotation\"},{\"id\":\"b83e2408-4860-4075-ab0a-804a9596791a\",\"type\":\"GlyphRenderer\"}],\"title\":{\"id\":\"3b175896-5a7e-41c0-9742-f83a795b405a\",\"type\":\"Title\"},\"toolbar\":{\"id\":\"2342f1ba-32a9-4925-96d7-3bfa6170e5ea\",\"type\":\"Toolbar\"},\"toolbar_location\":null,\"x_range\":{\"id\":\"fec2a969-9858-4173-a0f7-8c0ee2546dd7\",\"type\":\"FactorRange\"},\"x_scale\":{\"id\":\"3ec1e157-2bf1-429b-8b3a-1d14880e418c\",\"type\":\"CategoricalScale\"},\"y_range\":{\"id\":\"5cc0c484-41f9-48e1-8078-20d17dc22b72\",\"type\":\"DataRange1d\"},\"y_scale\":{\"id\":\"f11a6301-875c-45fc-a937-831fff11bf4b\",\"type\":\"LinearScale\"}},\"id\":\"e24d4322-c039-4398-870f-e3d9510e9c13\",\"subtype\":\"Figure\",\"type\":\"Plot\"},{\"attributes\":{\"data_source\":{\"id\":\"0e13c7b9-e0b7-4ce2-b80a-9bae549bb363\",\"type\":\"ColumnDataSource\"},\"glyph\":{\"id\":\"35e5f259-00e3-4ee5-a016-b273790521db\",\"type\":\"VBar\"},\"hover_glyph\":null,\"muted_glyph\":null,\"nonselection_glyph\":{\"id\":\"a39f4771-47a9-4503-aa7a-e62bc19795ed\",\"type\":\"VBar\"},\"selection_glyph\":null,\"view\":{\"id\":\"482ecae7-8379-48cf-bff7-c03aff02057d\",\"type\":\"CDSView\"}},\"id\":\"bcc1983a-ab91-4ade-918b-9558c3f94981\",\"type\":\"GlyphRenderer\"},{\"attributes\":{\"plot\":null,\"text\":\"TOA flux. CLIRAD (single-run) - CRD.\"},\"id\":\"3b175896-5a7e-41c0-9742-f83a795b405a\",\"type\":\"Title\"},{\"attributes\":{},\"id\":\"ecfaefc8-89d4-448a-8b85-b68f3ea4d211\",\"type\":\"BasicTicker\"},{\"attributes\":{\"callback\":null,\"factors\":[\"1\",\"2\",\"3\",\"4\",\"5\",\"6\",\"7\",\"8\",\"9\",\"10\",\"11\"]},\"id\":\"d0061e2a-955c-4c59-bca2-49ade66dea6a\",\"type\":\"FactorRange\"},{\"attributes\":{\"plot\":{\"id\":\"41d87134-a816-413a-81a9-dfd9b7da2d3e\",\"subtype\":\"Figure\",\"type\":\"Plot\"},\"ticker\":{\"id\":\"6e494d0c-ec0b-4d9d-98d5-331cad4e90d6\",\"type\":\"CategoricalTicker\"}},\"id\":\"b174a5cd-db87-4bce-8f97-df3cb550bc68\",\"type\":\"Grid\"},{\"attributes\":{\"axis_label\":\"flux (W m-2)\",\"formatter\":{\"id\":\"4bf47cee-a852-46ee-8b18-4036680512e1\",\"type\":\"BasicTickFormatter\"},\"plot\":{\"id\":\"3ee50e1d-9ac5-432b-a4b2-8cc293f42920\",\"subtype\":\"Figure\",\"type\":\"Plot\"},\"ticker\":{\"id\":\"ecfaefc8-89d4-448a-8b85-b68f3ea4d211\",\"type\":\"BasicTicker\"}},\"id\":\"0a6cb802-3e43-4255-82ba-c7a750624871\",\"type\":\"LinearAxis\"},{\"attributes\":{\"below\":[{\"id\":\"30b70d80-0171-46a2-bd10-44f740402543\",\"type\":\"CategoricalAxis\"}],\"left\":[{\"id\":\"c8aa6e6d-0e81-4c03-bc80-2a799ecb93a7\",\"type\":\"LinearAxis\"}],\"plot_height\":300,\"plot_width\":300,\"renderers\":[{\"id\":\"30b70d80-0171-46a2-bd10-44f740402543\",\"type\":\"CategoricalAxis\"},{\"id\":\"b174a5cd-db87-4bce-8f97-df3cb550bc68\",\"type\":\"Grid\"},{\"id\":\"c8aa6e6d-0e81-4c03-bc80-2a799ecb93a7\",\"type\":\"LinearAxis\"},{\"id\":\"1e907cc9-e46f-4234-9aed-9fdaa1772104\",\"type\":\"Grid\"},{\"id\":\"5c7a8fb6-d785-466c-950d-c143d4b20244\",\"type\":\"BoxAnnotation\"},{\"id\":\"eb122ce6-385f-463c-939d-1f2f36c65f8e\",\"type\":\"GlyphRenderer\"}],\"title\":{\"id\":\"9075bc52-672a-418e-8391-aa93eb3efd24\",\"type\":\"Title\"},\"toolbar\":{\"id\":\"65716826-ccac-4cf9-a86e-a3b15680298f\",\"type\":\"Toolbar\"},\"toolbar_location\":null,\"x_range\":{\"id\":\"d0061e2a-955c-4c59-bca2-49ade66dea6a\",\"type\":\"FactorRange\"},\"x_scale\":{\"id\":\"0e4b0105-ddf1-4ebd-9fa6-4189e92da95e\",\"type\":\"CategoricalScale\"},\"y_range\":{\"id\":\"36c76e49-b99f-4264-a0a7-4a5512db99fd\",\"type\":\"DataRange1d\"},\"y_scale\":{\"id\":\"7e61889b-c97a-45f1-8ced-385daa07406f\",\"type\":\"LinearScale\"}},\"id\":\"41d87134-a816-413a-81a9-dfd9b7da2d3e\",\"subtype\":\"Figure\",\"type\":\"Plot\"},{\"attributes\":{},\"id\":\"fde60e2e-ac39-46dc-8194-0148aa31c2d2\",\"type\":\"CategoricalScale\"},{\"attributes\":{},\"id\":\"3a223647-21a4-4da1-bdb5-2008ea501348\",\"type\":\"LinearScale\"},{\"attributes\":{},\"id\":\"4aad5341-5f78-4242-94a2-a568011e6f90\",\"type\":\"ResetTool\"},{\"attributes\":{},\"id\":\"4bd24544-2932-45dc-8107-1cfae625c56a\",\"type\":\"BasicTicker\"},{\"attributes\":{},\"id\":\"0e4b0105-ddf1-4ebd-9fa6-4189e92da95e\",\"type\":\"CategoricalScale\"},{\"attributes\":{\"callback\":null,\"factors\":[\"1\",\"2\",\"3\",\"4\",\"5\",\"6\",\"7\",\"8\",\"9\",\"10\",\"11\"]},\"id\":\"555cf314-a063-4db2-93b9-c100da8a6af4\",\"type\":\"FactorRange\"},{\"attributes\":{},\"id\":\"4e212cf4-df11-4d0b-b30d-3545139d97d8\",\"type\":\"CategoricalTickFormatter\"},{\"attributes\":{\"plot\":{\"id\":\"3ee50e1d-9ac5-432b-a4b2-8cc293f42920\",\"subtype\":\"Figure\",\"type\":\"Plot\"},\"ticker\":{\"id\":\"f73590ea-b463-43c2-bcce-3634b5fce9c9\",\"type\":\"CategoricalTicker\"}},\"id\":\"7d6c35aa-364a-415b-8bee-d21bab728b87\",\"type\":\"Grid\"},{\"attributes\":{\"axis_label\":\"spectral band\",\"formatter\":{\"id\":\"c7505256-8776-489b-9a32-64899298bd11\",\"type\":\"CategoricalTickFormatter\"},\"plot\":{\"id\":\"3ee50e1d-9ac5-432b-a4b2-8cc293f42920\",\"subtype\":\"Figure\",\"type\":\"Plot\"},\"ticker\":{\"id\":\"f73590ea-b463-43c2-bcce-3634b5fce9c9\",\"type\":\"CategoricalTicker\"}},\"id\":\"134ff707-9907-4b71-b6a5-19005bf08671\",\"type\":\"CategoricalAxis\"},{\"attributes\":{\"plot\":null,\"text\":\"SFC flux. CLIRAD (single-run) - CRD.\"},\"id\":\"9075bc52-672a-418e-8391-aa93eb3efd24\",\"type\":\"Title\"},{\"attributes\":{},\"id\":\"4016e9b4-f802-4423-9ffa-fac6d38ef94c\",\"type\":\"WheelZoomTool\"},{\"attributes\":{\"active_drag\":\"auto\",\"active_inspect\":\"auto\",\"active_scroll\":\"auto\",\"active_tap\":\"auto\",\"tools\":[{\"id\":\"d4ec2078-8e7e-4bc7-bef9-1bca60202325\",\"type\":\"PanTool\"},{\"id\":\"987ca29d-31cc-4ceb-98b8-e3e9097c43f0\",\"type\":\"WheelZoomTool\"},{\"id\":\"2d1ccf28-3f1c-4ac1-bf81-51279cfd45f8\",\"type\":\"BoxZoomTool\"},{\"id\":\"b323d113-0e05-4a74-9333-ee766c55351c\",\"type\":\"SaveTool\"},{\"id\":\"4aad5341-5f78-4242-94a2-a568011e6f90\",\"type\":\"ResetTool\"},{\"id\":\"2bb41005-1d39-409c-93ff-b844d37eb69d\",\"type\":\"HelpTool\"}]},\"id\":\"65716826-ccac-4cf9-a86e-a3b15680298f\",\"type\":\"Toolbar\"},{\"attributes\":{},\"id\":\"2bb41005-1d39-409c-93ff-b844d37eb69d\",\"type\":\"HelpTool\"},{\"attributes\":{\"dimension\":1,\"plot\":{\"id\":\"3ee50e1d-9ac5-432b-a4b2-8cc293f42920\",\"subtype\":\"Figure\",\"type\":\"Plot\"},\"ticker\":{\"id\":\"ecfaefc8-89d4-448a-8b85-b68f3ea4d211\",\"type\":\"BasicTicker\"}},\"id\":\"57bc3cf1-5ddb-419f-a942-21967b097fe8\",\"type\":\"Grid\"},{\"attributes\":{\"callback\":null},\"id\":\"63cd1e16-ed83-46af-9cd0-11d4ecfa2128\",\"type\":\"DataRange1d\"},{\"attributes\":{\"callback\":null},\"id\":\"36c76e49-b99f-4264-a0a7-4a5512db99fd\",\"type\":\"DataRange1d\"},{\"attributes\":{\"fill_color\":{\"value\":\"#1f77b4\"},\"line_color\":{\"value\":\"#1f77b4\"},\"top\":{\"field\":\"flux\"},\"width\":{\"value\":0.9},\"x\":{\"field\":\"band\"}},\"id\":\"35e5f259-00e3-4ee5-a016-b273790521db\",\"type\":\"VBar\"},{\"attributes\":{},\"id\":\"8f50a667-3cdb-4c3e-abac-9ed6d35e710d\",\"type\":\"PanTool\"},{\"attributes\":{},\"id\":\"7e61889b-c97a-45f1-8ced-385daa07406f\",\"type\":\"LinearScale\"},{\"attributes\":{\"plot\":null,\"text\":\"Atmosphere heating. CLIRAD (single-run) - CRD.\"},\"id\":\"8e8693da-9e55-40ed-ac45-665f6729bc1e\",\"type\":\"Title\"},{\"attributes\":{},\"id\":\"ccc8b1de-29e5-429f-932f-6af1825f22f1\",\"type\":\"BasicTickFormatter\"},{\"attributes\":{\"callback\":null,\"data\":{\"band\":[\"1\",\"2\",\"3\",\"4\",\"5\",\"6\",\"7\",\"8\",\"9\",\"10\",\"11\"],\"flux\":{\"__ndarray__\":\"AEILCRhdyD+AzEHQ0arSP0DMe5xpwtO/gGStodRe0z/ASgaAKm7QPwBwl/2607G/QKz+CMOA2D8ASdv4E5W5vwC2wvS9hpC/YNQ5UPHJwD9AvtXft8awPw==\",\"dtype\":\"float64\",\"shape\":[11]}},\"selected\":{\"id\":\"fb0506d8-6814-467b-b9ad-790f076f7d79\",\"type\":\"Selection\"},\"selection_policy\":{\"id\":\"1da6bca7-7857-4888-b4c1-6bced4080c37\",\"type\":\"UnionRenderers\"}},\"id\":\"d83dc0c5-baea-4dc4-872f-99cbd085b2a7\",\"type\":\"ColumnDataSource\"},{\"attributes\":{},\"id\":\"6d87eca8-f01e-433c-9d7c-2acd08583435\",\"type\":\"HelpTool\"},{\"attributes\":{\"axis_label\":\"flux (W m-2)\",\"formatter\":{\"id\":\"ccc8b1de-29e5-429f-932f-6af1825f22f1\",\"type\":\"BasicTickFormatter\"},\"plot\":{\"id\":\"e24d4322-c039-4398-870f-e3d9510e9c13\",\"subtype\":\"Figure\",\"type\":\"Plot\"},\"ticker\":{\"id\":\"31e7a81a-8d66-45fb-a27e-2f46f593146a\",\"type\":\"BasicTicker\"}},\"id\":\"1368fb84-fc2e-470b-b122-a6a11bdeedca\",\"type\":\"LinearAxis\"},{\"attributes\":{\"bottom_units\":\"screen\",\"fill_alpha\":{\"value\":0.5},\"fill_color\":{\"value\":\"lightgrey\"},\"left_units\":\"screen\",\"level\":\"overlay\",\"line_alpha\":{\"value\":1.0},\"line_color\":{\"value\":\"black\"},\"line_dash\":[4,4],\"line_width\":{\"value\":2},\"plot\":null,\"render_mode\":\"css\",\"right_units\":\"screen\",\"top_units\":\"screen\"},\"id\":\"779ac724-a36a-462c-ab34-57326cb3457d\",\"type\":\"BoxAnnotation\"},{\"attributes\":{\"callback\":null,\"factors\":[\"1\",\"2\",\"3\",\"4\",\"5\",\"6\",\"7\",\"8\",\"9\",\"10\",\"11\"]},\"id\":\"fec2a969-9858-4173-a0f7-8c0ee2546dd7\",\"type\":\"FactorRange\"},{\"attributes\":{\"bottom_units\":\"screen\",\"fill_alpha\":{\"value\":0.5},\"fill_color\":{\"value\":\"lightgrey\"},\"left_units\":\"screen\",\"level\":\"overlay\",\"line_alpha\":{\"value\":1.0},\"line_color\":{\"value\":\"black\"},\"line_dash\":[4,4],\"line_width\":{\"value\":2},\"plot\":null,\"render_mode\":\"css\",\"right_units\":\"screen\",\"top_units\":\"screen\"},\"id\":\"5c7a8fb6-d785-466c-950d-c143d4b20244\",\"type\":\"BoxAnnotation\"},{\"attributes\":{\"callback\":null,\"data\":{\"band\":[\"1\",\"2\",\"3\",\"4\",\"5\",\"6\",\"7\",\"8\",\"9\",\"10\",\"11\"],\"flux\":{\"__ndarray__\":\"a+Lbw/chTkA4JElrZxc5QDIPqh56bDFAnBaCPaLgOECoJyzxgPZNQOyUDtb/+TVANbdCWI09NkCaDwh0Jh0pQNTrYA7M4xtA7ru/zSSOEEAAZ1U6DnKtPw==\",\"dtype\":\"float64\",\"shape\":[11]}},\"selected\":{\"id\":\"6a08b8de-3e41-4e96-b200-4a165e6d03b2\",\"type\":\"Selection\"},\"selection_policy\":{\"id\":\"5b88a653-dc93-40bf-8e1f-401eb21b3f9c\",\"type\":\"UnionRenderers\"}},\"id\":\"0e13c7b9-e0b7-4ce2-b80a-9bae549bb363\",\"type\":\"ColumnDataSource\"},{\"attributes\":{},\"id\":\"1da6bca7-7857-4888-b4c1-6bced4080c37\",\"type\":\"UnionRenderers\"},{\"attributes\":{\"source\":{\"id\":\"d83dc0c5-baea-4dc4-872f-99cbd085b2a7\",\"type\":\"ColumnDataSource\"}},\"id\":\"83626074-b0da-4627-a428-bcb767599d11\",\"type\":\"CDSView\"},{\"attributes\":{},\"id\":\"f11a6301-875c-45fc-a937-831fff11bf4b\",\"type\":\"LinearScale\"},{\"attributes\":{\"children\":[{\"id\":\"e24d4322-c039-4398-870f-e3d9510e9c13\",\"subtype\":\"Figure\",\"type\":\"Plot\"},{\"id\":\"41d87134-a816-413a-81a9-dfd9b7da2d3e\",\"subtype\":\"Figure\",\"type\":\"Plot\"},{\"id\":\"3ee50e1d-9ac5-432b-a4b2-8cc293f42920\",\"subtype\":\"Figure\",\"type\":\"Plot\"}]},\"id\":\"e682c856-4256-43fc-86a9-b0f2b9ba13f8\",\"type\":\"Row\"},{\"attributes\":{},\"id\":\"3ec1e157-2bf1-429b-8b3a-1d14880e418c\",\"type\":\"CategoricalScale\"},{\"attributes\":{\"overlay\":{\"id\":\"779ac724-a36a-462c-ab34-57326cb3457d\",\"type\":\"BoxAnnotation\"}},\"id\":\"fcbf796e-c264-429a-bf6f-1a9885810e68\",\"type\":\"BoxZoomTool\"},{\"attributes\":{\"overlay\":{\"id\":\"5c7a8fb6-d785-466c-950d-c143d4b20244\",\"type\":\"BoxAnnotation\"}},\"id\":\"2d1ccf28-3f1c-4ac1-bf81-51279cfd45f8\",\"type\":\"BoxZoomTool\"},{\"attributes\":{\"data_source\":{\"id\":\"0896edc5-700c-4388-95e8-9fe36b6d4f74\",\"type\":\"ColumnDataSource\"},\"glyph\":{\"id\":\"264f0a3c-bacd-4575-8713-c30803cd96ee\",\"type\":\"VBar\"},\"hover_glyph\":null,\"muted_glyph\":null,\"nonselection_glyph\":{\"id\":\"a260150b-b6f9-4971-9ec4-9d933122170b\",\"type\":\"VBar\"},\"selection_glyph\":null,\"view\":{\"id\":\"08cd0f82-7a80-4c3b-8cef-b91571139f47\",\"type\":\"CDSView\"}},\"id\":\"eb122ce6-385f-463c-939d-1f2f36c65f8e\",\"type\":\"GlyphRenderer\"},{\"attributes\":{},\"id\":\"dd2ddd55-10ce-4dfa-9c8b-65735705039f\",\"type\":\"HelpTool\"},{\"attributes\":{\"axis_label\":\"spectral band\",\"formatter\":{\"id\":\"49878955-8085-47df-b223-df6557392286\",\"type\":\"CategoricalTickFormatter\"},\"plot\":{\"id\":\"e24d4322-c039-4398-870f-e3d9510e9c13\",\"subtype\":\"Figure\",\"type\":\"Plot\"},\"ticker\":{\"id\":\"14dfe8a2-b235-4267-bae9-8f68fe56f381\",\"type\":\"CategoricalTicker\"}},\"id\":\"b3dc8075-6d87-41cc-ac64-cf06b250f4d8\",\"type\":\"CategoricalAxis\"},{\"attributes\":{},\"id\":\"3ef60bb0-211f-4108-9624-30d7392e38cf\",\"type\":\"UnionRenderers\"},{\"attributes\":{\"tools\":[{\"id\":\"22975177-b5b1-4d07-87b3-9fc25918cb29\",\"type\":\"PanTool\"},{\"id\":\"0ed2706f-2310-4302-9432-6fcae5606942\",\"type\":\"WheelZoomTool\"},{\"id\":\"fcbf796e-c264-429a-bf6f-1a9885810e68\",\"type\":\"BoxZoomTool\"},{\"id\":\"c6223499-9532-4915-b223-6d0f1bc6128e\",\"type\":\"SaveTool\"},{\"id\":\"27be4ee6-2a81-4123-bc15-4cb3f1e28e4c\",\"type\":\"ResetTool\"},{\"id\":\"6d87eca8-f01e-433c-9d7c-2acd08583435\",\"type\":\"HelpTool\"},{\"id\":\"d4ec2078-8e7e-4bc7-bef9-1bca60202325\",\"type\":\"PanTool\"},{\"id\":\"987ca29d-31cc-4ceb-98b8-e3e9097c43f0\",\"type\":\"WheelZoomTool\"},{\"id\":\"2d1ccf28-3f1c-4ac1-bf81-51279cfd45f8\",\"type\":\"BoxZoomTool\"},{\"id\":\"b323d113-0e05-4a74-9333-ee766c55351c\",\"type\":\"SaveTool\"},{\"id\":\"4aad5341-5f78-4242-94a2-a568011e6f90\",\"type\":\"ResetTool\"},{\"id\":\"2bb41005-1d39-409c-93ff-b844d37eb69d\",\"type\":\"HelpTool\"},{\"id\":\"8f50a667-3cdb-4c3e-abac-9ed6d35e710d\",\"type\":\"PanTool\"},{\"id\":\"4016e9b4-f802-4423-9ffa-fac6d38ef94c\",\"type\":\"WheelZoomTool\"},{\"id\":\"fa8835ee-c176-4e71-9dcf-ecc55773456d\",\"type\":\"BoxZoomTool\"},{\"id\":\"ee3f6685-974b-49f8-83eb-ec6f26c0901e\",\"type\":\"SaveTool\"},{\"id\":\"474a98e6-ec9a-4a9a-9fa3-8a9763c936a2\",\"type\":\"ResetTool\"},{\"id\":\"dd2ddd55-10ce-4dfa-9c8b-65735705039f\",\"type\":\"HelpTool\"}]},\"id\":\"4f1b47bc-cf29-4d24-93aa-037ef131ce72\",\"type\":\"ProxyToolbar\"},{\"attributes\":{\"plot\":{\"id\":\"e24d4322-c039-4398-870f-e3d9510e9c13\",\"subtype\":\"Figure\",\"type\":\"Plot\"},\"ticker\":{\"id\":\"14dfe8a2-b235-4267-bae9-8f68fe56f381\",\"type\":\"CategoricalTicker\"}},\"id\":\"656584b8-25d5-4858-a5fa-fcc3dd3c5c70\",\"type\":\"Grid\"},{\"attributes\":{},\"id\":\"14dfe8a2-b235-4267-bae9-8f68fe56f381\",\"type\":\"CategoricalTicker\"},{\"attributes\":{},\"id\":\"474a98e6-ec9a-4a9a-9fa3-8a9763c936a2\",\"type\":\"ResetTool\"},{\"attributes\":{\"fill_color\":{\"value\":\"#1f77b4\"},\"line_color\":{\"value\":\"#1f77b4\"},\"top\":{\"field\":\"flux\"},\"width\":{\"value\":0.9},\"x\":{\"field\":\"band\"}},\"id\":\"8f8a8042-d694-445c-9ec2-33386cc21dd4\",\"type\":\"VBar\"},{\"attributes\":{\"callback\":null},\"id\":\"5cc0c484-41f9-48e1-8078-20d17dc22b72\",\"type\":\"DataRange1d\"},{\"attributes\":{\"toolbar\":{\"id\":\"4f1b47bc-cf29-4d24-93aa-037ef131ce72\",\"type\":\"ProxyToolbar\"},\"toolbar_location\":\"above\"},\"id\":\"cdb1589b-6eb3-4713-a311-42dc683f24b7\",\"type\":\"ToolbarBox\"},{\"attributes\":{\"source\":{\"id\":\"0896edc5-700c-4388-95e8-9fe36b6d4f74\",\"type\":\"ColumnDataSource\"}},\"id\":\"08cd0f82-7a80-4c3b-8cef-b91571139f47\",\"type\":\"CDSView\"},{\"attributes\":{},\"id\":\"ee3f6685-974b-49f8-83eb-ec6f26c0901e\",\"type\":\"SaveTool\"},{\"attributes\":{\"fill_alpha\":{\"value\":0.1},\"fill_color\":{\"value\":\"#1f77b4\"},\"line_alpha\":{\"value\":0.1},\"line_color\":{\"value\":\"#1f77b4\"},\"top\":{\"field\":\"flux\"},\"width\":{\"value\":0.9},\"x\":{\"field\":\"band\"}},\"id\":\"a260150b-b6f9-4971-9ec4-9d933122170b\",\"type\":\"VBar\"},{\"attributes\":{},\"id\":\"d4ec2078-8e7e-4bc7-bef9-1bca60202325\",\"type\":\"PanTool\"},{\"attributes\":{},\"id\":\"4bf47cee-a852-46ee-8b18-4036680512e1\",\"type\":\"BasicTickFormatter\"},{\"attributes\":{\"overlay\":{\"id\":\"bdbade0d-a684-4526-bc79-375fdedc33f0\",\"type\":\"BoxAnnotation\"}},\"id\":\"fa8835ee-c176-4e71-9dcf-ecc55773456d\",\"type\":\"BoxZoomTool\"},{\"attributes\":{\"active_drag\":\"auto\",\"active_inspect\":\"auto\",\"active_scroll\":\"auto\",\"active_tap\":\"auto\",\"tools\":[{\"id\":\"22975177-b5b1-4d07-87b3-9fc25918cb29\",\"type\":\"PanTool\"},{\"id\":\"0ed2706f-2310-4302-9432-6fcae5606942\",\"type\":\"WheelZoomTool\"},{\"id\":\"fcbf796e-c264-429a-bf6f-1a9885810e68\",\"type\":\"BoxZoomTool\"},{\"id\":\"c6223499-9532-4915-b223-6d0f1bc6128e\",\"type\":\"SaveTool\"},{\"id\":\"27be4ee6-2a81-4123-bc15-4cb3f1e28e4c\",\"type\":\"ResetTool\"},{\"id\":\"6d87eca8-f01e-433c-9d7c-2acd08583435\",\"type\":\"HelpTool\"}]},\"id\":\"2342f1ba-32a9-4925-96d7-3bfa6170e5ea\",\"type\":\"Toolbar\"},{\"attributes\":{},\"id\":\"77f464e2-5d40-42ff-a190-d0572f77ec9b\",\"type\":\"BasicTickFormatter\"},{\"attributes\":{},\"id\":\"b323d113-0e05-4a74-9333-ee766c55351c\",\"type\":\"SaveTool\"},{\"attributes\":{\"fill_alpha\":{\"value\":0.1},\"fill_color\":{\"value\":\"#1f77b4\"},\"line_alpha\":{\"value\":0.1},\"line_color\":{\"value\":\"#1f77b4\"},\"top\":{\"field\":\"flux\"},\"width\":{\"value\":0.9},\"x\":{\"field\":\"band\"}},\"id\":\"a423bff2-1561-4763-b074-4fcef94792db\",\"type\":\"VBar\"},{\"attributes\":{\"fill_color\":{\"value\":\"#1f77b4\"},\"line_color\":{\"value\":\"#1f77b4\"},\"top\":{\"field\":\"flux\"},\"width\":{\"value\":0.9},\"x\":{\"field\":\"band\"}},\"id\":\"264f0a3c-bacd-4575-8713-c30803cd96ee\",\"type\":\"VBar\"},{\"attributes\":{\"bottom_units\":\"screen\",\"fill_alpha\":{\"value\":0.5},\"fill_color\":{\"value\":\"lightgrey\"},\"left_units\":\"screen\",\"level\":\"overlay\",\"line_alpha\":{\"value\":1.0},\"line_color\":{\"value\":\"black\"},\"line_dash\":[4,4],\"line_width\":{\"value\":2},\"plot\":null,\"render_mode\":\"css\",\"right_units\":\"screen\",\"top_units\":\"screen\"},\"id\":\"bdbade0d-a684-4526-bc79-375fdedc33f0\",\"type\":\"BoxAnnotation\"},{\"attributes\":{},\"id\":\"c6223499-9532-4915-b223-6d0f1bc6128e\",\"type\":\"SaveTool\"},{\"attributes\":{},\"id\":\"0ed2706f-2310-4302-9432-6fcae5606942\",\"type\":\"WheelZoomTool\"},{\"attributes\":{\"callback\":null,\"data\":{\"band\":[\"1\",\"2\",\"3\",\"4\",\"5\",\"6\",\"7\",\"8\",\"9\",\"10\",\"11\"],\"flux\":{\"__ndarray__\":\"AAAAAyUF9r4AgsR29wDYPwC4H/DAANO/ANyul6YIsD+Ajh6/t+nfPwB0ImabwLM/ALE8WXvplz9gN3gVCPHBv4A0KnCyDcY/AKBF71TAjT8AcGzRXW2APw==\",\"dtype\":\"float64\",\"shape\":[11]}},\"selected\":{\"id\":\"aeb56f04-7e60-4e0c-83ec-4c3aab668892\",\"type\":\"Selection\"},\"selection_policy\":{\"id\":\"3ef60bb0-211f-4108-9624-30d7392e38cf\",\"type\":\"UnionRenderers\"}},\"id\":\"0896edc5-700c-4388-95e8-9fe36b6d4f74\",\"type\":\"ColumnDataSource\"},{\"attributes\":{},\"id\":\"c7505256-8776-489b-9a32-64899298bd11\",\"type\":\"CategoricalTickFormatter\"},{\"attributes\":{},\"id\":\"fb0506d8-6814-467b-b9ad-790f076f7d79\",\"type\":\"Selection\"},{\"attributes\":{},\"id\":\"22975177-b5b1-4d07-87b3-9fc25918cb29\",\"type\":\"PanTool\"},{\"attributes\":{},\"id\":\"5b88a653-dc93-40bf-8e1f-401eb21b3f9c\",\"type\":\"UnionRenderers\"},{\"attributes\":{},\"id\":\"31e7a81a-8d66-45fb-a27e-2f46f593146a\",\"type\":\"BasicTicker\"},{\"attributes\":{},\"id\":\"6a08b8de-3e41-4e96-b200-4a165e6d03b2\",\"type\":\"Selection\"},{\"attributes\":{},\"id\":\"49878955-8085-47df-b223-df6557392286\",\"type\":\"CategoricalTickFormatter\"},{\"attributes\":{\"dimension\":1,\"plot\":{\"id\":\"e24d4322-c039-4398-870f-e3d9510e9c13\",\"subtype\":\"Figure\",\"type\":\"Plot\"},\"ticker\":{\"id\":\"31e7a81a-8d66-45fb-a27e-2f46f593146a\",\"type\":\"BasicTicker\"}},\"id\":\"b69a951d-e719-4b4c-b84b-a345d599f214\",\"type\":\"Grid\"},{\"attributes\":{},\"id\":\"27be4ee6-2a81-4123-bc15-4cb3f1e28e4c\",\"type\":\"ResetTool\"},{\"attributes\":{\"data_source\":{\"id\":\"d83dc0c5-baea-4dc4-872f-99cbd085b2a7\",\"type\":\"ColumnDataSource\"},\"glyph\":{\"id\":\"8f8a8042-d694-445c-9ec2-33386cc21dd4\",\"type\":\"VBar\"},\"hover_glyph\":null,\"muted_glyph\":null,\"nonselection_glyph\":{\"id\":\"a423bff2-1561-4763-b074-4fcef94792db\",\"type\":\"VBar\"},\"selection_glyph\":null,\"view\":{\"id\":\"83626074-b0da-4627-a428-bcb767599d11\",\"type\":\"CDSView\"}},\"id\":\"b83e2408-4860-4075-ab0a-804a9596791a\",\"type\":\"GlyphRenderer\"},{\"attributes\":{\"children\":[{\"id\":\"cdb1589b-6eb3-4713-a311-42dc683f24b7\",\"type\":\"ToolbarBox\"},{\"id\":\"476dca99-978f-4fe4-97a0-ad137decf934\",\"type\":\"Column\"}]},\"id\":\"a6d1f75b-4814-4124-9813-aaeb2482394f\",\"type\":\"Column\"}],\"root_ids\":[\"a6d1f75b-4814-4124-9813-aaeb2482394f\"]},\"title\":\"Bokeh Application\",\"version\":\"0.12.16\"}};\n",
       "  var render_items = [{\"docid\":\"3429377a-48e1-4ccd-b775-d2c3fd4fcec1\",\"elementid\":\"8f707861-2a2e-4ffe-afef-034960a1174b\",\"modelid\":\"a6d1f75b-4814-4124-9813-aaeb2482394f\"}];\n",
       "  root.Bokeh.embed.embed_items_notebook(docs_json, render_items);\n",
       "\n",
       "  }\n",
       "  if (root.Bokeh !== undefined) {\n",
       "    embed_document(root);\n",
       "  } else {\n",
       "    var attempts = 0;\n",
       "    var timer = setInterval(function(root) {\n",
       "      if (root.Bokeh !== undefined) {\n",
       "        embed_document(root);\n",
       "        clearInterval(timer);\n",
       "      }\n",
       "      attempts++;\n",
       "      if (attempts > 100) {\n",
       "        console.log(\"Bokeh: ERROR: Unable to run BokehJS code because BokehJS library is missing\")\n",
       "        clearInterval(timer);\n",
       "      }\n",
       "    }, 10, root)\n",
       "  }\n",
       "})(window);"
      ],
      "application/vnd.bokehjs_exec.v0+json": ""
     },
     "metadata": {
      "application/vnd.bokehjs_exec.v0+json": {
       "id": "a6d1f75b-4814-4124-9813-aaeb2482394f"
      }
     },
     "output_type": "display_data"
    },
    {
     "data": {
      "text/markdown": [
       "*FIGURE.* Difference between CLIRAD and CRD in TOA, SFC and net atmosphere flux, in each spectral band."
      ],
      "text/plain": [
       "<IPython.core.display.Markdown object>"
      ]
     },
     "metadata": {},
     "output_type": "display_data"
    },
    {
     "data": {
      "text/html": [
       "<div>\n",
       "<style scoped>\n",
       "    .dataframe tbody tr th:only-of-type {\n",
       "        vertical-align: middle;\n",
       "    }\n",
       "\n",
       "    .dataframe tbody tr th {\n",
       "        vertical-align: top;\n",
       "    }\n",
       "\n",
       "    .dataframe thead th {\n",
       "        text-align: right;\n",
       "    }\n",
       "</style>\n",
       "<table border=\"1\" class=\"dataframe\">\n",
       "  <thead>\n",
       "    <tr style=\"text-align: right;\">\n",
       "      <th></th>\n",
       "      <th>OLR flux</th>\n",
       "      <th>SFC flux</th>\n",
       "      <th>ATM heating</th>\n",
       "    </tr>\n",
       "    <tr>\n",
       "      <th>Sum over bands</th>\n",
       "      <th></th>\n",
       "      <th></th>\n",
       "      <th></th>\n",
       "    </tr>\n",
       "  </thead>\n",
       "  <tbody>\n",
       "    <tr>\n",
       "      <th>old CLIRAD - CRD</th>\n",
       "      <td>0.14</td>\n",
       "      <td>2.01</td>\n",
       "      <td>-1.73</td>\n",
       "    </tr>\n",
       "    <tr>\n",
       "      <th>CLIRAD (single-run) - CRD</th>\n",
       "      <td>1.13</td>\n",
       "      <td>0.79</td>\n",
       "      <td>255.53</td>\n",
       "    </tr>\n",
       "    <tr>\n",
       "      <th>CRD</th>\n",
       "      <td>-290.39</td>\n",
       "      <td>308.14</td>\n",
       "      <td>-174.89</td>\n",
       "    </tr>\n",
       "  </tbody>\n",
       "</table>\n",
       "</div>"
      ],
      "text/plain": [
       "                           OLR flux  SFC flux  ATM heating\n",
       "Sum over bands                                            \n",
       "old CLIRAD - CRD               0.14      2.01        -1.73\n",
       "CLIRAD (single-run) - CRD      1.13      0.79       255.53\n",
       "CRD                         -290.39    308.14      -174.89"
      ]
     },
     "metadata": {},
     "output_type": "display_data"
    },
    {
     "data": {
      "text/markdown": [
       "*TABLE.* Difference between CLIRAD and CRD in TOA, SFC and net atmosphere flux, over all spectral bands. CRD's TOA, SFC and net atmosphere flux, over all spectral bands."
      ],
      "text/plain": [
       "<IPython.core.display.Markdown object>"
      ]
     },
     "metadata": {},
     "output_type": "display_data"
    },
    {
     "data": {
      "text/html": [
       "<a id=\"Cooling_rates._saw.\"></a>"
      ],
      "text/plain": [
       "<IPython.core.display.HTML object>"
      ]
     },
     "metadata": {},
     "output_type": "display_data"
    },
    {
     "data": {
      "text/markdown": [
       "# Cooling rates. saw."
      ],
      "text/plain": [
       "<IPython.core.display.Markdown object>"
      ]
     },
     "metadata": {},
     "output_type": "display_data"
    },
    {
     "data": {
      "text/html": [
       "\n",
       "<div class=\"bk-root\">\n",
       "    <div class=\"bk-plotdiv\" id=\"db164a86-057d-4aa0-8d8c-ce05c29c1ae2\"></div>\n",
       "</div>"
      ]
     },
     "metadata": {},
     "output_type": "display_data"
    },
    {
     "data": {
      "application/javascript": [
       "(function(root) {\n",
       "  function embed_document(root) {\n",
       "    \n",
       "  var docs_json = {\"4de3952e-3169-4118-befa-e0765252b73d\":{\"roots\":{\"references\":[{\"attributes\":{\"data_source\":{\"id\":\"5ac4d69c-e47e-46b3-afb5-70c9c1d53a48\",\"type\":\"ColumnDataSource\"},\"glyph\":{\"id\":\"8904eda2-6018-4dbc-9e20-4dc7caf33141\",\"type\":\"Circle\"},\"hover_glyph\":null,\"muted_glyph\":null,\"nonselection_glyph\":{\"id\":\"64c8e3c0-6a78-4a2b-95bc-5d157b25ac5c\",\"type\":\"Circle\"},\"selection_glyph\":null,\"view\":{\"id\":\"fdd6bea9-c6bf-4ca5-81e4-9ec428a1119c\",\"type\":\"CDSView\"}},\"id\":\"cbc74bf5-6fa0-4619-8b8e-e1237dfbd600\",\"type\":\"GlyphRenderer\"},{\"attributes\":{\"data_source\":{\"id\":\"b4a1dbee-a5a4-4e5c-9876-879a39ac3f1e\",\"type\":\"ColumnDataSource\"},\"glyph\":{\"id\":\"b21025d7-de40-49bc-a793-6d1db77b36aa\",\"type\":\"Line\"},\"hover_glyph\":null,\"muted_glyph\":null,\"nonselection_glyph\":{\"id\":\"2d7277b1-050e-451e-885d-5a5e9e87acd2\",\"type\":\"Line\"},\"selection_glyph\":null,\"view\":{\"id\":\"12b80596-f77f-4093-9353-2c6d3df486c6\",\"type\":\"CDSView\"}},\"id\":\"33f00dde-8211-44ac-8244-ed5a8fd557ec\",\"type\":\"GlyphRenderer\"},{\"attributes\":{\"callback\":null,\"data\":{\"x\":{\"__ndarray__\":\"0CYBcvU5UkCik9zf2GVBQF1VoNfLZ0BAVLxhiVXTPUDD1Wu1wJM6QFJyB025jjdAU6Aw5+b/NECYe1uuDfgyQB6bYtVTbTFAPxYSAF1HMEA00pYVm9QuQLolHbMzgC1AntlwirGsLECv+G9SjE4rQJH6ZLBp0ShAsLZQyPd/JkDyjgyf2PwkQLgyNGsrJyRAA13QbJD6I0C8hy0ilI4kQOVTXCEgcSZAovOGvZSGJUBVc/ZmUOIgQOf/6GHAyRlAcE8fAOBSFEDRur1U//gPQGFD9ZbokghAQsqHuSqSA0C91ci3W0UBQCtRQfvz7/4/kh8pntyB+j9t1/n+4TX1P773MAUjFfI/RgzR+CI28T8hBW8WHK7uPzVKjJfU8uk/0FPt4/z65T/wVYqzMPDhPz7K9C5CXuE/8+hSn9hY4T/9PPCkR6rhP1XsIC599OA/66X1nBCX3z/YbRM56QjcPz4dkSQc/dM/S7Wb8Fq00T+/yQdmX0vcP7TrGf476eM/WqNPJoWO7D9qOH1bcwDzP2bw+R5DQ/Y/RLSuQOQp+D8+aif8yAz5P0Wv6eBKRfk/0i2+IN4R+T/ik8QNFZr4PyS5UD5j/Pc/yJ68zXRG9z/2CHPL54H2P59SOhwKtPU/npkP8dfg9D8NlmVcdQz0P80ugRvuOvM/byxiAHN18j9USVZie8nxP5l9lNXYSPE/OB+F0UYP8T8Y7dsUCTHxP3EBgTHPcPE/bfx15p8S8T8FT+xkGtTuP6mdG7rkxuk/pboqTkHX5D/CrN8qGYngP7R4ZaL+htU/\",\"dtype\":\"float64\",\"shape\":[75]},\"y\":{\"__ndarray__\":\"GhExyth1ND/Sv8nbtpRIP2vylNV0PVE/aTum7souWD/At0SJ8fVgPw3Iuahxymc/MSNhhJWvcD/bTfBN02d3P2zb5nxnaoA/CD5h5MAGhz8NmeH1TyaQP+zrCsc9p5Y/LbKd76fGnz/bLW5ISEmmPww9YvTcQq8/JV2OstnstT8Er5Y7M8G+P0c+r3jqkcU/5h99k6ZBzj88bCIzFzjVP4enV8oyxN0//yH99nXg5D8qOpLLf0jtP5kqGJXUifQ/c9cS8kHP/D+/DpwzojQEQIEmwoanVwxA4lgXt9HgE0BSSZ2AJuIbQAMJih9jjiNA5q4l5INuK0AwTKYKRj0zQNv5fmq8/DpAaCJseHrtQkB/+zpwzoxKQM3MzMzMeFJAZmZmZmZqWEAAAAAAAFxeQM3MzMzMJmJAmpmZmZkfZUBmZmZmZhhoQDMzMzMzEWtAAAAAAAAKbkBmZmZmZoFwQM3MzMzM/XFAMzMzMzN6c0CamZmZmfZ0QAAAAAAAc3ZAZmZmZmbvd0DNzMzMzGt5QDMzMzMz6HpAmpmZmZlkfEAAAAAAAOF9QGZmZmZmXX9AZmZmZuZsgECamZmZGSuBQM3MzMxM6YFAAAAAAICngkAzMzMzs2WDQGZmZmbmI4RAmpmZmRnihEDNzMzMTKCFQAAAAACAXoZAMzMzM7Mch0BmZmZm5tqHQJqZmZkZmYhAzczMzExXiUAAAAAAgBWKQDMzMzOz04pAZmZmZuaRi0CamZmZGVCMQM3MzMxMDo1AAAAAAIDMjUAzMzMzs4qOQGZmZmbmSI9A\",\"dtype\":\"float64\",\"shape\":[75]}},\"selected\":{\"id\":\"7fa2a41c-7862-4fe2-b708-cff1eb25217c\",\"type\":\"Selection\"},\"selection_policy\":{\"id\":\"4e789a3c-524b-4079-a89d-cd56171d424a\",\"type\":\"UnionRenderers\"}},\"id\":\"81abf242-434f-4f71-8959-6343a16e9fa1\",\"type\":\"ColumnDataSource\"},{\"attributes\":{\"line_alpha\":0.6,\"line_color\":\"#377eb8\",\"line_dash\":[6],\"line_width\":5,\"x\":{\"field\":\"x\"},\"y\":{\"field\":\"y\"}},\"id\":\"ac1d3971-7755-4867-9e82-047c292d3222\",\"type\":\"Line\"},{\"attributes\":{\"line_alpha\":0.1,\"line_color\":\"#1f77b4\",\"line_dash\":[6],\"line_width\":5,\"x\":{\"field\":\"x\"},\"y\":{\"field\":\"y\"}},\"id\":\"8f0dc367-73df-46aa-91fd-e7c7d8e99060\",\"type\":\"Line\"},{\"attributes\":{\"callback\":null,\"end\":0.01,\"start\":1020},\"id\":\"2126bb34-3dd5-4fa9-8cf9-9322fb3270cb\",\"type\":\"Range1d\"},{\"attributes\":{\"active_drag\":\"auto\",\"active_inspect\":\"auto\",\"active_scroll\":\"auto\",\"active_tap\":\"auto\",\"tools\":[{\"id\":\"1cff51f3-2814-45d4-906f-0fcd8bbef60e\",\"type\":\"PanTool\"},{\"id\":\"dfc99224-2cec-43c0-86ad-b54b148bfb87\",\"type\":\"WheelZoomTool\"},{\"id\":\"164e0c7d-90e3-45e1-ba5e-a42f32295817\",\"type\":\"BoxZoomTool\"},{\"id\":\"c1de9d54-8a3f-4d58-b377-294b8381cd64\",\"type\":\"SaveTool\"},{\"id\":\"0350fb70-6eda-41e3-8d5b-9bd3af83fdf0\",\"type\":\"ResetTool\"},{\"id\":\"312c2f60-a3ef-41d6-a52d-46611adc2833\",\"type\":\"HelpTool\"}]},\"id\":\"fd1724d3-dc02-4834-a1ff-4d5e48bf117c\",\"type\":\"Toolbar\"},{\"attributes\":{\"active_drag\":\"auto\",\"active_inspect\":\"auto\",\"active_scroll\":\"auto\",\"active_tap\":\"auto\",\"tools\":[{\"id\":\"ed97582b-b6be-48ac-bf73-ccb2950c9edc\",\"type\":\"PanTool\"},{\"id\":\"28c827f1-2de8-43fa-b72e-a9a5d6f43212\",\"type\":\"WheelZoomTool\"},{\"id\":\"77a36939-de26-4e3d-9360-f0f38d38c61e\",\"type\":\"BoxZoomTool\"},{\"id\":\"666f59c8-3476-4eae-9f02-b2c72ef3d7ee\",\"type\":\"SaveTool\"},{\"id\":\"bdce827c-2948-4114-b89a-e2de47b8c268\",\"type\":\"ResetTool\"},{\"id\":\"ee9fa57b-cae6-4dd3-a867-6b4c664aac2d\",\"type\":\"HelpTool\"}]},\"id\":\"d37ce796-a91b-49f8-9c6b-4f0a58b99b52\",\"type\":\"Toolbar\"},{\"attributes\":{\"callback\":null,\"data\":{\"x\":{\"__ndarray__\":\"0CYBcvU5UkCik9zf2GVBQF1VoNfLZ0BAVLxhiVXTPUDD1Wu1wJM6QFJyB025jjdAU6Aw5+b/NECYe1uuDfgyQB6bYtVTbTFAPxYSAF1HMEA00pYVm9QuQLolHbMzgC1AntlwirGsLECv+G9SjE4rQJH6ZLBp0ShAsLZQyPd/JkDyjgyf2PwkQLgyNGsrJyRAA13QbJD6I0C8hy0ilI4kQOVTXCEgcSZAovOGvZSGJUBVc/ZmUOIgQOf/6GHAyRlAcE8fAOBSFEDRur1U//gPQGFD9ZbokghAQsqHuSqSA0C91ci3W0UBQCtRQfvz7/4/kh8pntyB+j9t1/n+4TX1P773MAUjFfI/RgzR+CI28T8hBW8WHK7uPzVKjJfU8uk/0FPt4/z65T/wVYqzMPDhPz7K9C5CXuE/8+hSn9hY4T/9PPCkR6rhP1XsIC599OA/66X1nBCX3z/YbRM56QjcPz4dkSQc/dM/S7Wb8Fq00T+/yQdmX0vcP7TrGf476eM/WqNPJoWO7D9qOH1bcwDzP2bw+R5DQ/Y/RLSuQOQp+D8+aif8yAz5P0Wv6eBKRfk/0i2+IN4R+T/ik8QNFZr4PyS5UD5j/Pc/yJ68zXRG9z/2CHPL54H2P59SOhwKtPU/npkP8dfg9D8NlmVcdQz0P80ugRvuOvM/byxiAHN18j9USVZie8nxP5l9lNXYSPE/OB+F0UYP8T8Y7dsUCTHxP3EBgTHPcPE/bfx15p8S8T8FT+xkGtTuP6mdG7rkxuk/pboqTkHX5D/CrN8qGYngP7R4ZaL+htU/\",\"dtype\":\"float64\",\"shape\":[75]},\"y\":{\"__ndarray__\":\"GhExyth1ND/Sv8nbtpRIP2vylNV0PVE/aTum7souWD/At0SJ8fVgPw3Iuahxymc/MSNhhJWvcD/bTfBN02d3P2zb5nxnaoA/CD5h5MAGhz8NmeH1TyaQP+zrCsc9p5Y/LbKd76fGnz/bLW5ISEmmPww9YvTcQq8/JV2OstnstT8Er5Y7M8G+P0c+r3jqkcU/5h99k6ZBzj88bCIzFzjVP4enV8oyxN0//yH99nXg5D8qOpLLf0jtP5kqGJXUifQ/c9cS8kHP/D+/DpwzojQEQIEmwoanVwxA4lgXt9HgE0BSSZ2AJuIbQAMJih9jjiNA5q4l5INuK0AwTKYKRj0zQNv5fmq8/DpAaCJseHrtQkB/+zpwzoxKQM3MzMzMeFJAZmZmZmZqWEAAAAAAAFxeQM3MzMzMJmJAmpmZmZkfZUBmZmZmZhhoQDMzMzMzEWtAAAAAAAAKbkBmZmZmZoFwQM3MzMzM/XFAMzMzMzN6c0CamZmZmfZ0QAAAAAAAc3ZAZmZmZmbvd0DNzMzMzGt5QDMzMzMz6HpAmpmZmZlkfEAAAAAAAOF9QGZmZmZmXX9AZmZmZuZsgECamZmZGSuBQM3MzMxM6YFAAAAAAICngkAzMzMzs2WDQGZmZmbmI4RAmpmZmRnihEDNzMzMTKCFQAAAAACAXoZAMzMzM7Mch0BmZmZm5tqHQJqZmZkZmYhAzczMzExXiUAAAAAAgBWKQDMzMzOz04pAZmZmZuaRi0CamZmZGVCMQM3MzMxMDo1AAAAAAIDMjUAzMzMzs4qOQGZmZmbmSI9A\",\"dtype\":\"float64\",\"shape\":[75]}},\"selected\":{\"id\":\"de0941c5-53c6-4547-b267-a20f49273c76\",\"type\":\"Selection\"},\"selection_policy\":{\"id\":\"32d816a3-c50b-4d2d-82d3-f26bf2a80b7f\",\"type\":\"UnionRenderers\"}},\"id\":\"5ac4d69c-e47e-46b3-afb5-70c9c1d53a48\",\"type\":\"ColumnDataSource\"},{\"attributes\":{\"label\":{\"value\":\"CLIRAD (single-run)\"},\"renderers\":[{\"id\":\"33f00dde-8211-44ac-8244-ed5a8fd557ec\",\"type\":\"GlyphRenderer\"}]},\"id\":\"eb81dea9-31bf-4a48-ba7e-027ee319f8a9\",\"type\":\"LegendItem\"},{\"attributes\":{\"source\":{\"id\":\"b4a1dbee-a5a4-4e5c-9876-879a39ac3f1e\",\"type\":\"ColumnDataSource\"}},\"id\":\"12b80596-f77f-4093-9353-2c6d3df486c6\",\"type\":\"CDSView\"},{\"attributes\":{\"source\":{\"id\":\"81abf242-434f-4f71-8959-6343a16e9fa1\",\"type\":\"ColumnDataSource\"}},\"id\":\"dffd0349-3a97-4f73-9152-665af2d48b54\",\"type\":\"CDSView\"},{\"attributes\":{\"callback\":null,\"end\":16.436989944828248,\"start\":0.29782337493475003},\"id\":\"2da79e77-320d-4f39-9ce2-65a4756d063c\",\"type\":\"Range1d\"},{\"attributes\":{\"line_alpha\":0.1,\"line_color\":\"#1f77b4\",\"line_dash\":[6],\"line_width\":5,\"x\":{\"field\":\"x\"},\"y\":{\"field\":\"y\"}},\"id\":\"2d7277b1-050e-451e-885d-5a5e9e87acd2\",\"type\":\"Line\"},{\"attributes\":{\"callback\":null,\"end\":0.01,\"start\":1020},\"id\":\"32323171-f84f-4a0a-beea-171efb80979e\",\"type\":\"Range1d\"},{\"attributes\":{\"line_alpha\":0.1,\"line_color\":\"#1f77b4\",\"line_width\":1.5,\"x\":{\"field\":\"x\"},\"y\":{\"field\":\"y\"}},\"id\":\"f9af1c07-be03-421b-a620-3eb32d92fdb4\",\"type\":\"Line\"},{\"attributes\":{\"above\":[{\"id\":\"9d4dc444-a2e4-4ade-bd18-697e311bf810\",\"type\":\"Legend\"}],\"below\":[{\"id\":\"1f220422-fa4c-45ea-82b7-c6381f575bc6\",\"type\":\"LinearAxis\"}],\"left\":[{\"id\":\"1d174eb1-89d3-4108-957e-6162eeb5828b\",\"type\":\"LogAxis\"}],\"plot_width\":300,\"renderers\":[{\"id\":\"1f220422-fa4c-45ea-82b7-c6381f575bc6\",\"type\":\"LinearAxis\"},{\"id\":\"90d58080-0f78-4248-8475-e152d8dfd8eb\",\"type\":\"Grid\"},{\"id\":\"1d174eb1-89d3-4108-957e-6162eeb5828b\",\"type\":\"LogAxis\"},{\"id\":\"c4991245-f623-4e32-8207-873885dec2b4\",\"type\":\"Grid\"},{\"id\":\"04e66635-f539-473b-a152-d89ab1e7cf39\",\"type\":\"BoxAnnotation\"},{\"id\":\"134f1df9-e1da-4807-ac0e-ad69393059e2\",\"type\":\"GlyphRenderer\"},{\"id\":\"fd4035a0-6497-488c-a498-70eacd7baf7b\",\"type\":\"GlyphRenderer\"},{\"id\":\"0a464ed1-f8a4-4820-808d-8f8d035c113d\",\"type\":\"GlyphRenderer\"},{\"id\":\"9d4dc444-a2e4-4ade-bd18-697e311bf810\",\"type\":\"Legend\"}],\"title\":{\"id\":\"d2e6eedc-3195-4121-aae0-55867d1d2409\",\"type\":\"Title\"},\"toolbar\":{\"id\":\"fd1724d3-dc02-4834-a1ff-4d5e48bf117c\",\"type\":\"Toolbar\"},\"toolbar_location\":null,\"x_range\":{\"id\":\"2da79e77-320d-4f39-9ce2-65a4756d063c\",\"type\":\"Range1d\"},\"x_scale\":{\"id\":\"1330fe23-ad60-4708-87b7-d311193d3bf0\",\"type\":\"LinearScale\"},\"y_range\":{\"id\":\"2126bb34-3dd5-4fa9-8cf9-9322fb3270cb\",\"type\":\"Range1d\"},\"y_scale\":{\"id\":\"8fb20703-39a7-4c79-b0ed-683c9d52353d\",\"type\":\"LogScale\"}},\"id\":\"b9204712-e0dc-490d-9268-b8601532356c\",\"subtype\":\"Figure\",\"type\":\"Plot\"},{\"attributes\":{\"callback\":null,\"data\":{\"x\":{\"__ndarray__\":\"LVz7uCfeQ8ChGUaLJfYYwCMb75vopAPAb3fOabke8j9lWIgE9JsLQOXvyvkb2g9APnR7Fi/LBkCmSIIxVTrrPyu2iXaXmu2/L3WfIbFl+r+C9ZYDcxv0v8J+sAdRy9S/UH1/Rkeq4D8IzsLpVObuP4jqcTibAe0/eTvd8oYO2T+OQTCLDt7Qv5ji9BpoXuW/V0+3xBhy5b94Z7G7lXzav/6pSlfL38G/zBgKKJYesj/I1tW4gTDBP4Gg9xnb/bm/6OHFBmFwzb/Jlv56HxKhv/EZB1BwXNE/tDFGwmnx0T+dgz8RYjK8P0oF0SHPn6A/1zw/k0lFxD8Gy+tFFBfNP2i9183Z08A/N3gKDez1dr+ErhDxWg1oP7z6DbGqTLM/FGuCmYk5qD8ZDNtblLmYvzx7mOPoprO/Rm2hQwsHtr9zgNat/qeyv3TBkyPWuay/lNouayB+pb/vTOCOl1uavx4jDSfir5C/H1Be0ivxhb9YuwufkpI/v2KxTpOelHS/zMZedMBUm7+XBGrFTJ+qv1BpC30ogKq/qPfp7IHAor8ApUU9lFmjv/JYEpkYzKq/kHn7d8SRqr/cmaU2k1ylvxjD/zelpZ+/nlGD3JJLmL/E21bacaGTv/6RwjCw64m/2h/zxmcAhL/NgBME6nGBv9orU+u8T4S/oIG6YxpWhr8lZK/mZTWEv+Zn75KUCXq/gNkHHrReOb9kVHMMU5p/P9Y9Y3OW2Is/nkfL3Nfckj+u+BL/t1+WP0aldYMAE5g/U2koibtulz9Klct3jleXPz7Rumwp5E3A\",\"dtype\":\"float64\",\"shape\":[75]},\"y\":{\"__ndarray__\":\"GhExyth1ND/Sv8nbtpRIP2vylNV0PVE/aTum7souWD/At0SJ8fVgPw3Iuahxymc/MSNhhJWvcD/bTfBN02d3P2zb5nxnaoA/CD5h5MAGhz8NmeH1TyaQP+zrCsc9p5Y/LbKd76fGnz/bLW5ISEmmPww9YvTcQq8/JV2OstnstT8Er5Y7M8G+P0c+r3jqkcU/5h99k6ZBzj88bCIzFzjVP4enV8oyxN0//yH99nXg5D8qOpLLf0jtP5kqGJXUifQ/c9cS8kHP/D+/DpwzojQEQIEmwoanVwxA4lgXt9HgE0BSSZ2AJuIbQAMJih9jjiNA5q4l5INuK0AwTKYKRj0zQNv5fmq8/DpAaCJseHrtQkB/+zpwzoxKQM3MzMzMeFJAZmZmZmZqWEAAAAAAAFxeQM3MzMzMJmJAmpmZmZkfZUBmZmZmZhhoQDMzMzMzEWtAAAAAAAAKbkBmZmZmZoFwQM3MzMzM/XFAMzMzMzN6c0CamZmZmfZ0QAAAAAAAc3ZAZmZmZmbvd0DNzMzMzGt5QDMzMzMz6HpAmpmZmZlkfEAAAAAAAOF9QGZmZmZmXX9AZmZmZuZsgECamZmZGSuBQM3MzMxM6YFAAAAAAICngkAzMzMzs2WDQGZmZmbmI4RAmpmZmRnihEDNzMzMTKCFQAAAAACAXoZAMzMzM7Mch0BmZmZm5tqHQJqZmZkZmYhAzczMzExXiUAAAAAAgBWKQDMzMzOz04pAZmZmZuaRi0CamZmZGVCMQM3MzMxMDo1AAAAAAIDMjUAzMzMzs4qOQGZmZmbmSI9A\",\"dtype\":\"float64\",\"shape\":[75]}},\"selected\":{\"id\":\"b2225898-2fa0-406a-b570-923aaeb12fb8\",\"type\":\"Selection\"},\"selection_policy\":{\"id\":\"aed1cbd9-b172-47ba-a642-e386f182f3ac\",\"type\":\"UnionRenderers\"}},\"id\":\"0a1fa459-a8d9-4022-897c-786ea7f4b9e0\",\"type\":\"ColumnDataSource\"},{\"attributes\":{\"source\":{\"id\":\"5ac4d69c-e47e-46b3-afb5-70c9c1d53a48\",\"type\":\"ColumnDataSource\"}},\"id\":\"fdd6bea9-c6bf-4ca5-81e4-9ec428a1119c\",\"type\":\"CDSView\"},{\"attributes\":{\"label\":{\"value\":\"CRD\"},\"renderers\":[{\"id\":\"cbc74bf5-6fa0-4619-8b8e-e1237dfbd600\",\"type\":\"GlyphRenderer\"},{\"id\":\"a3e722f1-9408-4fd2-aa45-ab8917f693f1\",\"type\":\"GlyphRenderer\"}]},\"id\":\"dd846414-c40e-40fc-b87d-432ec3877ef8\",\"type\":\"LegendItem\"},{\"attributes\":{\"data_source\":{\"id\":\"81abf242-434f-4f71-8959-6343a16e9fa1\",\"type\":\"ColumnDataSource\"},\"glyph\":{\"id\":\"34a60f99-4496-4a7e-8012-39b76639f019\",\"type\":\"Line\"},\"hover_glyph\":null,\"muted_glyph\":null,\"nonselection_glyph\":{\"id\":\"f9af1c07-be03-421b-a620-3eb32d92fdb4\",\"type\":\"Line\"},\"selection_glyph\":null,\"view\":{\"id\":\"dffd0349-3a97-4f73-9152-665af2d48b54\",\"type\":\"CDSView\"}},\"id\":\"a3e722f1-9408-4fd2-aa45-ab8917f693f1\",\"type\":\"GlyphRenderer\"},{\"attributes\":{\"fill_alpha\":{\"value\":0.7},\"fill_color\":{\"value\":\"#4daf4a\"},\"line_alpha\":{\"value\":0.7},\"line_color\":{\"value\":\"#4daf4a\"},\"x\":{\"field\":\"x\"},\"y\":{\"field\":\"y\"}},\"id\":\"8904eda2-6018-4dbc-9e20-4dc7caf33141\",\"type\":\"Circle\"},{\"attributes\":{\"items\":[{\"id\":\"e965387c-c02a-434a-83f0-077f840f9300\",\"type\":\"LegendItem\"},{\"id\":\"c5c104e1-0c62-46fb-9cb6-d2f95d5a712b\",\"type\":\"LegendItem\"}],\"label_text_font_size\":{\"value\":\"8pt\"},\"location\":\"top_center\",\"orientation\":\"horizontal\",\"plot\":{\"id\":\"b9204712-e0dc-490d-9268-b8601532356c\",\"subtype\":\"Figure\",\"type\":\"Plot\"}},\"id\":\"9d4dc444-a2e4-4ade-bd18-697e311bf810\",\"type\":\"Legend\"},{\"attributes\":{\"line_color\":\"#4daf4a\",\"line_width\":1.5,\"x\":{\"field\":\"x\"},\"y\":{\"field\":\"y\"}},\"id\":\"34a60f99-4496-4a7e-8012-39b76639f019\",\"type\":\"Line\"},{\"attributes\":{\"fill_alpha\":{\"value\":0.1},\"fill_color\":{\"value\":\"#1f77b4\"},\"line_alpha\":{\"value\":0.1},\"line_color\":{\"value\":\"#1f77b4\"},\"x\":{\"field\":\"x\"},\"y\":{\"field\":\"y\"}},\"id\":\"64c8e3c0-6a78-4a2b-95bc-5d157b25ac5c\",\"type\":\"Circle\"},{\"attributes\":{\"callback\":null,\"end\":0.01,\"start\":1020},\"id\":\"f53cb053-0bf2-4940-b5f3-df0496526fc2\",\"type\":\"Range1d\"},{\"attributes\":{\"above\":[{\"id\":\"9cb957fb-c75a-4e49-b403-088206a4f158\",\"type\":\"Legend\"}],\"below\":[{\"id\":\"80debec9-420d-41de-8032-51889314bd93\",\"type\":\"LinearAxis\"}],\"left\":[{\"id\":\"4da420af-b0f7-48f4-8e70-c8d5f8224642\",\"type\":\"LogAxis\"}],\"plot_width\":300,\"renderers\":[{\"id\":\"80debec9-420d-41de-8032-51889314bd93\",\"type\":\"LinearAxis\"},{\"id\":\"67a9fd6d-9946-4320-95b4-e6e898a5250c\",\"type\":\"Grid\"},{\"id\":\"4da420af-b0f7-48f4-8e70-c8d5f8224642\",\"type\":\"LogAxis\"},{\"id\":\"f5d1cb3d-699c-47ed-8fdf-9a1d3f047f20\",\"type\":\"Grid\"},{\"id\":\"39350a22-ddc2-455e-99ba-7c58c1936d5e\",\"type\":\"BoxAnnotation\"},{\"id\":\"5e4c2f7a-962f-48cd-90ee-4d3e81449f1b\",\"type\":\"GlyphRenderer\"},{\"id\":\"235980e5-f6e3-4c35-ad35-5897444bb268\",\"type\":\"GlyphRenderer\"},{\"id\":\"9cb957fb-c75a-4e49-b403-088206a4f158\",\"type\":\"Legend\"}],\"title\":{\"id\":\"5f5c57e7-6bf7-4184-a6e0-f1b9b4688fdf\",\"type\":\"Title\"},\"toolbar\":{\"id\":\"d37ce796-a91b-49f8-9c6b-4f0a58b99b52\",\"type\":\"Toolbar\"},\"toolbar_location\":null,\"x_range\":{\"id\":\"167d9bf1-1920-421d-bfa7-734414173a9b\",\"type\":\"Range1d\"},\"x_scale\":{\"id\":\"2fde3cec-ff18-45d0-a946-e02ec80edaa1\",\"type\":\"LinearScale\"},\"y_range\":{\"id\":\"32323171-f84f-4a0a-beea-171efb80979e\",\"type\":\"Range1d\"},\"y_scale\":{\"id\":\"1fae058a-81ff-43d3-9962-d94ca4ea8992\",\"type\":\"LogScale\"}},\"id\":\"bc25b84f-8282-4b09-866f-39a5e1a5ced1\",\"subtype\":\"Figure\",\"type\":\"Plot\"},{\"attributes\":{\"items\":[{\"id\":\"5e0cb262-f85b-4d81-8ab5-d9ac74cde8f1\",\"type\":\"LegendItem\"}],\"label_text_font_size\":{\"value\":\"8pt\"},\"location\":\"top_center\",\"orientation\":\"horizontal\",\"plot\":{\"id\":\"bc25b84f-8282-4b09-866f-39a5e1a5ced1\",\"subtype\":\"Figure\",\"type\":\"Plot\"}},\"id\":\"9cb957fb-c75a-4e49-b403-088206a4f158\",\"type\":\"Legend\"},{\"attributes\":{\"fill_alpha\":{\"value\":0.7},\"fill_color\":{\"value\":\"#4daf4a\"},\"line_alpha\":{\"value\":0.7},\"line_color\":{\"value\":\"#4daf4a\"},\"x\":{\"field\":\"x\"},\"y\":{\"field\":\"y\"}},\"id\":\"694ebe39-eec1-453c-86ad-fac4fa73a30f\",\"type\":\"Circle\"},{\"attributes\":{\"data_source\":{\"id\":\"7038602f-032a-40b2-b0b5-2c2ee56c7a75\",\"type\":\"ColumnDataSource\"},\"glyph\":{\"id\":\"ac1d3971-7755-4867-9e82-047c292d3222\",\"type\":\"Line\"},\"hover_glyph\":null,\"muted_glyph\":null,\"nonselection_glyph\":{\"id\":\"8f0dc367-73df-46aa-91fd-e7c7d8e99060\",\"type\":\"Line\"},\"selection_glyph\":null,\"view\":{\"id\":\"753cc974-c44a-4a56-876a-d71e6bab7e98\",\"type\":\"CDSView\"}},\"id\":\"134f1df9-e1da-4807-ac0e-ad69393059e2\",\"type\":\"GlyphRenderer\"},{\"attributes\":{\"callback\":null,\"data\":{\"x\":{\"__ndarray__\":\"0CYBcvU5UkCik9zf2GVBQF1VoNfLZ0BAVLxhiVXTPUDD1Wu1wJM6QFJyB025jjdAU6Aw5+b/NECYe1uuDfgyQB6bYtVTbTFAPxYSAF1HMEA00pYVm9QuQLolHbMzgC1AntlwirGsLECv+G9SjE4rQJH6ZLBp0ShAsLZQyPd/JkDyjgyf2PwkQLgyNGsrJyRAA13QbJD6I0C8hy0ilI4kQOVTXCEgcSZAovOGvZSGJUBVc/ZmUOIgQOf/6GHAyRlAcE8fAOBSFEDRur1U//gPQGFD9ZbokghAQsqHuSqSA0C91ci3W0UBQCtRQfvz7/4/kh8pntyB+j9t1/n+4TX1P773MAUjFfI/RgzR+CI28T8hBW8WHK7uPzVKjJfU8uk/0FPt4/z65T/wVYqzMPDhPz7K9C5CXuE/8+hSn9hY4T/9PPCkR6rhP1XsIC599OA/66X1nBCX3z/YbRM56QjcPz4dkSQc/dM/S7Wb8Fq00T+/yQdmX0vcP7TrGf476eM/WqNPJoWO7D9qOH1bcwDzP2bw+R5DQ/Y/RLSuQOQp+D8+aif8yAz5P0Wv6eBKRfk/0i2+IN4R+T/ik8QNFZr4PyS5UD5j/Pc/yJ68zXRG9z/2CHPL54H2P59SOhwKtPU/npkP8dfg9D8NlmVcdQz0P80ugRvuOvM/byxiAHN18j9USVZie8nxP5l9lNXYSPE/OB+F0UYP8T8Y7dsUCTHxP3EBgTHPcPE/bfx15p8S8T8FT+xkGtTuP6mdG7rkxuk/pboqTkHX5D/CrN8qGYngP7R4ZaL+htU/\",\"dtype\":\"float64\",\"shape\":[75]},\"y\":{\"__ndarray__\":\"GhExyth1ND/Sv8nbtpRIP2vylNV0PVE/aTum7souWD/At0SJ8fVgPw3Iuahxymc/MSNhhJWvcD/bTfBN02d3P2zb5nxnaoA/CD5h5MAGhz8NmeH1TyaQP+zrCsc9p5Y/LbKd76fGnz/bLW5ISEmmPww9YvTcQq8/JV2OstnstT8Er5Y7M8G+P0c+r3jqkcU/5h99k6ZBzj88bCIzFzjVP4enV8oyxN0//yH99nXg5D8qOpLLf0jtP5kqGJXUifQ/c9cS8kHP/D+/DpwzojQEQIEmwoanVwxA4lgXt9HgE0BSSZ2AJuIbQAMJih9jjiNA5q4l5INuK0AwTKYKRj0zQNv5fmq8/DpAaCJseHrtQkB/+zpwzoxKQM3MzMzMeFJAZmZmZmZqWEAAAAAAAFxeQM3MzMzMJmJAmpmZmZkfZUBmZmZmZhhoQDMzMzMzEWtAAAAAAAAKbkBmZmZmZoFwQM3MzMzM/XFAMzMzMzN6c0CamZmZmfZ0QAAAAAAAc3ZAZmZmZmbvd0DNzMzMzGt5QDMzMzMz6HpAmpmZmZlkfEAAAAAAAOF9QGZmZmZmXX9AZmZmZuZsgECamZmZGSuBQM3MzMxM6YFAAAAAAICngkAzMzMzs2WDQGZmZmbmI4RAmpmZmRnihEDNzMzMTKCFQAAAAACAXoZAMzMzM7Mch0BmZmZm5tqHQJqZmZkZmYhAzczMzExXiUAAAAAAgBWKQDMzMzOz04pAZmZmZuaRi0CamZmZGVCMQM3MzMxMDo1AAAAAAIDMjUAzMzMzs4qOQGZmZmbmSI9A\",\"dtype\":\"float64\",\"shape\":[75]}},\"selected\":{\"id\":\"85d9dd20-afc0-429c-b0be-6849fbd31678\",\"type\":\"Selection\"},\"selection_policy\":{\"id\":\"6848b0e7-c625-4d7a-8ef0-3741823c5446\",\"type\":\"UnionRenderers\"}},\"id\":\"56c4fef2-b692-4c6b-b4c5-b6250c1d70e0\",\"type\":\"ColumnDataSource\"},{\"attributes\":{\"active_drag\":\"auto\",\"active_inspect\":\"auto\",\"active_scroll\":\"auto\",\"active_tap\":\"auto\",\"tools\":[{\"id\":\"baa9d7b5-efac-4c67-99c2-a0a1b1214039\",\"type\":\"PanTool\"},{\"id\":\"334e2eb3-811c-467d-9036-18987a0f89d5\",\"type\":\"WheelZoomTool\"},{\"id\":\"7b3e316c-e227-472e-a82e-b153e9b624b6\",\"type\":\"BoxZoomTool\"},{\"id\":\"e3a86971-a579-48d1-8cd8-a4e57f1ecdc3\",\"type\":\"SaveTool\"},{\"id\":\"1460cae3-49ba-4c27-96c4-f734108565a7\",\"type\":\"ResetTool\"},{\"id\":\"9eb717a1-11dd-4220-9288-3d0f1bcc6eff\",\"type\":\"HelpTool\"}]},\"id\":\"e456731f-d4bd-4b59-8253-044f61a3217f\",\"type\":\"Toolbar\"},{\"attributes\":{\"source\":{\"id\":\"302ef37f-c42c-437c-a08b-ab49ee7d531a\",\"type\":\"ColumnDataSource\"}},\"id\":\"91b2f7c5-56aa-431d-aa2a-c527719e609d\",\"type\":\"CDSView\"},{\"attributes\":{\"callback\":null,\"data\":{\"x\":{\"__ndarray__\":\"0CYBcvU5UkCik9zf2GVBQF1VoNfLZ0BAVLxhiVXTPUDD1Wu1wJM6QFJyB025jjdAU6Aw5+b/NECYe1uuDfgyQB6bYtVTbTFAPxYSAF1HMEA00pYVm9QuQLolHbMzgC1AntlwirGsLECv+G9SjE4rQJH6ZLBp0ShAsLZQyPd/JkDyjgyf2PwkQLgyNGsrJyRAA13QbJD6I0C8hy0ilI4kQOVTXCEgcSZAovOGvZSGJUBVc/ZmUOIgQOf/6GHAyRlAcE8fAOBSFEDRur1U//gPQGFD9ZbokghAQsqHuSqSA0C91ci3W0UBQCtRQfvz7/4/kh8pntyB+j9t1/n+4TX1P773MAUjFfI/RgzR+CI28T8hBW8WHK7uPzVKjJfU8uk/0FPt4/z65T/wVYqzMPDhPz7K9C5CXuE/8+hSn9hY4T/9PPCkR6rhP1XsIC599OA/66X1nBCX3z/YbRM56QjcPz4dkSQc/dM/S7Wb8Fq00T+/yQdmX0vcP7TrGf476eM/WqNPJoWO7D9qOH1bcwDzP2bw+R5DQ/Y/RLSuQOQp+D8+aif8yAz5P0Wv6eBKRfk/0i2+IN4R+T/ik8QNFZr4PyS5UD5j/Pc/yJ68zXRG9z/2CHPL54H2P59SOhwKtPU/npkP8dfg9D8NlmVcdQz0P80ugRvuOvM/byxiAHN18j9USVZie8nxP5l9lNXYSPE/OB+F0UYP8T8Y7dsUCTHxP3EBgTHPcPE/bfx15p8S8T8FT+xkGtTuP6mdG7rkxuk/pboqTkHX5D/CrN8qGYngP7R4ZaL+htU/\",\"dtype\":\"float64\",\"shape\":[75]},\"y\":{\"__ndarray__\":\"GhExyth1ND/Sv8nbtpRIP2vylNV0PVE/aTum7souWD/At0SJ8fVgPw3Iuahxymc/MSNhhJWvcD/bTfBN02d3P2zb5nxnaoA/CD5h5MAGhz8NmeH1TyaQP+zrCsc9p5Y/LbKd76fGnz/bLW5ISEmmPww9YvTcQq8/JV2OstnstT8Er5Y7M8G+P0c+r3jqkcU/5h99k6ZBzj88bCIzFzjVP4enV8oyxN0//yH99nXg5D8qOpLLf0jtP5kqGJXUifQ/c9cS8kHP/D+/DpwzojQEQIEmwoanVwxA4lgXt9HgE0BSSZ2AJuIbQAMJih9jjiNA5q4l5INuK0AwTKYKRj0zQNv5fmq8/DpAaCJseHrtQkB/+zpwzoxKQM3MzMzMeFJAZmZmZmZqWEAAAAAAAFxeQM3MzMzMJmJAmpmZmZkfZUBmZmZmZhhoQDMzMzMzEWtAAAAAAAAKbkBmZmZmZoFwQM3MzMzM/XFAMzMzMzN6c0CamZmZmfZ0QAAAAAAAc3ZAZmZmZmbvd0DNzMzMzGt5QDMzMzMz6HpAmpmZmZlkfEAAAAAAAOF9QGZmZmZmXX9AZmZmZuZsgECamZmZGSuBQM3MzMxM6YFAAAAAAICngkAzMzMzs2WDQGZmZmbmI4RAmpmZmRnihEDNzMzMTKCFQAAAAACAXoZAMzMzM7Mch0BmZmZm5tqHQJqZmZkZmYhAzczMzExXiUAAAAAAgBWKQDMzMzOz04pAZmZmZuaRi0CamZmZGVCMQM3MzMxMDo1AAAAAAIDMjUAzMzMzs4qOQGZmZmbmSI9A\",\"dtype\":\"float64\",\"shape\":[75]}},\"selected\":{\"id\":\"52837ad9-de0c-496e-ae72-eb6ba647a8e0\",\"type\":\"Selection\"},\"selection_policy\":{\"id\":\"24575dbb-7e50-43c9-81e2-796a358528d0\",\"type\":\"UnionRenderers\"}},\"id\":\"302ef37f-c42c-437c-a08b-ab49ee7d531a\",\"type\":\"ColumnDataSource\"},{\"attributes\":{\"fill_alpha\":{\"value\":0.1},\"fill_color\":{\"value\":\"#1f77b4\"},\"line_alpha\":{\"value\":0.1},\"line_color\":{\"value\":\"#1f77b4\"},\"x\":{\"field\":\"x\"},\"y\":{\"field\":\"y\"}},\"id\":\"42094567-fb5d-4339-a489-079f0ac32472\",\"type\":\"Circle\"},{\"attributes\":{\"line_alpha\":0.1,\"line_color\":\"#1f77b4\",\"line_width\":1.5,\"x\":{\"field\":\"x\"},\"y\":{\"field\":\"y\"}},\"id\":\"c4fff571-bc66-43b3-b9d3-5bb34f6bf92c\",\"type\":\"Line\"},{\"attributes\":{\"source\":{\"id\":\"56c4fef2-b692-4c6b-b4c5-b6250c1d70e0\",\"type\":\"ColumnDataSource\"}},\"id\":\"e152cef0-3136-4106-ab01-7bde03a76b19\",\"type\":\"CDSView\"},{\"attributes\":{\"source\":{\"id\":\"7038602f-032a-40b2-b0b5-2c2ee56c7a75\",\"type\":\"ColumnDataSource\"}},\"id\":\"753cc974-c44a-4a56-876a-d71e6bab7e98\",\"type\":\"CDSView\"},{\"attributes\":{\"callback\":null,\"end\":0.9917710995134403,\"start\":-1.6759815666374394},\"id\":\"167d9bf1-1920-421d-bfa7-734414173a9b\",\"type\":\"Range1d\"},{\"attributes\":{\"data_source\":{\"id\":\"302ef37f-c42c-437c-a08b-ab49ee7d531a\",\"type\":\"ColumnDataSource\"},\"glyph\":{\"id\":\"694ebe39-eec1-453c-86ad-fac4fa73a30f\",\"type\":\"Circle\"},\"hover_glyph\":null,\"muted_glyph\":null,\"nonselection_glyph\":{\"id\":\"42094567-fb5d-4339-a489-079f0ac32472\",\"type\":\"Circle\"},\"selection_glyph\":null,\"view\":{\"id\":\"91b2f7c5-56aa-431d-aa2a-c527719e609d\",\"type\":\"CDSView\"}},\"id\":\"fd4035a0-6497-488c-a498-70eacd7baf7b\",\"type\":\"GlyphRenderer\"},{\"attributes\":{\"line_color\":\"#4daf4a\",\"line_width\":1.5,\"x\":{\"field\":\"x\"},\"y\":{\"field\":\"y\"}},\"id\":\"78bdcae8-c8ee-4a0c-8d83-0c3799dc0ab6\",\"type\":\"Line\"},{\"attributes\":{},\"id\":\"e3a86971-a579-48d1-8cd8-a4e57f1ecdc3\",\"type\":\"SaveTool\"},{\"attributes\":{\"fill_alpha\":{\"value\":0.1},\"fill_color\":{\"value\":\"#1f77b4\"},\"line_alpha\":{\"value\":0.1},\"line_color\":{\"value\":\"#1f77b4\"},\"x\":{\"field\":\"x\"},\"y\":{\"field\":\"y\"}},\"id\":\"92c0853f-6c59-4328-8345-a56beb754ccd\",\"type\":\"Circle\"},{\"attributes\":{\"callback\":null,\"end\":2.1896727816369,\"start\":-60.05640543054691},\"id\":\"c1179fa0-f1bc-449c-94fb-e800c70f8c22\",\"type\":\"Range1d\"},{\"attributes\":{},\"id\":\"320da1c8-fd31-4cc1-9923-7c82a98dad48\",\"type\":\"UnionRenderers\"},{\"attributes\":{},\"id\":\"43805bcf-711e-4231-b2e6-f6915e6855fb\",\"type\":\"LinearScale\"},{\"attributes\":{},\"id\":\"e76d2147-3481-4e78-9102-1e326ee07a8f\",\"type\":\"Selection\"},{\"attributes\":{\"axis_label\":\"cooling rate [K/day]\",\"formatter\":{\"id\":\"e6769c20-f518-452b-bdd0-cb7fd4d19a37\",\"type\":\"BasicTickFormatter\"},\"plot\":{\"id\":\"b9204712-e0dc-490d-9268-b8601532356c\",\"subtype\":\"Figure\",\"type\":\"Plot\"},\"ticker\":{\"id\":\"74c69284-a03a-4b71-b14c-089d49334baa\",\"type\":\"BasicTicker\"}},\"id\":\"1f220422-fa4c-45ea-82b7-c6381f575bc6\",\"type\":\"LinearAxis\"},{\"attributes\":{\"plot\":{\"id\":\"5ee3d595-d2fb-4805-bb37-613bead4e7aa\",\"subtype\":\"Figure\",\"type\":\"Plot\"},\"ticker\":{\"id\":\"0c61b9fb-7ceb-4397-b49c-9d3b8ade1809\",\"type\":\"BasicTicker\"}},\"id\":\"5b2af485-b358-4703-a6f8-eb30918cae79\",\"type\":\"Grid\"},{\"attributes\":{},\"id\":\"ace2d802-8ea9-4ef5-9a27-f24d9ed75888\",\"type\":\"UnionRenderers\"},{\"attributes\":{\"overlay\":{\"id\":\"39350a22-ddc2-455e-99ba-7c58c1936d5e\",\"type\":\"BoxAnnotation\"}},\"id\":\"77a36939-de26-4e3d-9360-f0f38d38c61e\",\"type\":\"BoxZoomTool\"},{\"attributes\":{\"dimension\":1,\"plot\":{\"id\":\"b9204712-e0dc-490d-9268-b8601532356c\",\"subtype\":\"Figure\",\"type\":\"Plot\"},\"ticker\":{\"id\":\"9a63f864-99f5-4adb-b666-4b4fa8834be8\",\"type\":\"LogTicker\"}},\"id\":\"c4991245-f623-4e32-8207-873885dec2b4\",\"type\":\"Grid\"},{\"attributes\":{},\"id\":\"85d9dd20-afc0-429c-b0be-6849fbd31678\",\"type\":\"Selection\"},{\"attributes\":{\"callback\":null,\"data\":{\"x\":{\"__ndarray__\":\"dPEGK8OVQEDeoOdcKI48QFbHwpv6Wj5Ay6P+H0H1PkDQ4Pw1Pwc+QE/QQMz8iTtA2A4AykzZN0DdjedX4NEzQGtNrhl/gDBA2D3w2wNCLUCD8yO1LFEsQMSh3yrZ2SxAddHY/lW3LUCQJQyh8TwtQDsZ7GODoSpAi6Dn/2tIJ0DnDLMq6HUkQI7khOlE0SJADOiE4G6jIkCA/E90r7ojQD4p//OgKSZA0QfX6dGqJUCyytltEichQGghgfXIYRlAYiDp91xnE0B2wNHWtrQPQJ4m9qB2vgpAeJDQ8VfQBUDZ0VLI7iYCQFfZT3TydP8/LweR0IUK/T/QULeHxNj4P2vv6z6eL/Q/zgHEDC0f8T/QFWBxKcbuP44Jru1pXOw/gHqFfZV+5z+OfasQZCrhP6t1AyXK0t0/lna9be4v3T/c2Wqej6reP35gz5e/Ud4/nMqPj0zn3D8LaSXAL2PaPwxLIAIe8tI/ycIIktEE0T/QBmDBekPcP1FO88ASwOM/Iq2sIt+z6z9G6FH1eCvyPxuVEdtBb/U/iGRHMeCT9z8UPT1a/HH4P34cIRzqbvg/BVL+/E89+D8UZw90MO/3Pxe6cKnMffc/gpFKgkbl9j+HrQkEYjP2P3zN2LsygPU/XbOBIde49D8Mb12IkenzP3WIqqFOEvM/areay8ZI8j+L6oiWEKHxPzKOAUHPLvE/uT5D5rAN8T9sYOhno1DxP+7HZ16AqPE/jCnpRRNe8T/L5uQkGIfvP9VKN758h+o/8f1zKreS5T9uCZ6e1UPhP00Gdm8buU3A\",\"dtype\":\"float64\",\"shape\":[75]},\"y\":{\"__ndarray__\":\"GhExyth1ND/Sv8nbtpRIP2vylNV0PVE/aTum7souWD/At0SJ8fVgPw3Iuahxymc/MSNhhJWvcD/bTfBN02d3P2zb5nxnaoA/CD5h5MAGhz8NmeH1TyaQP+zrCsc9p5Y/LbKd76fGnz/bLW5ISEmmPww9YvTcQq8/JV2OstnstT8Er5Y7M8G+P0c+r3jqkcU/5h99k6ZBzj88bCIzFzjVP4enV8oyxN0//yH99nXg5D8qOpLLf0jtP5kqGJXUifQ/c9cS8kHP/D+/DpwzojQEQIEmwoanVwxA4lgXt9HgE0BSSZ2AJuIbQAMJih9jjiNA5q4l5INuK0AwTKYKRj0zQNv5fmq8/DpAaCJseHrtQkB/+zpwzoxKQM3MzMzMeFJAZmZmZmZqWEAAAAAAAFxeQM3MzMzMJmJAmpmZmZkfZUBmZmZmZhhoQDMzMzMzEWtAAAAAAAAKbkBmZmZmZoFwQM3MzMzM/XFAMzMzMzN6c0CamZmZmfZ0QAAAAAAAc3ZAZmZmZmbvd0DNzMzMzGt5QDMzMzMz6HpAmpmZmZlkfEAAAAAAAOF9QGZmZmZmXX9AZmZmZuZsgECamZmZGSuBQM3MzMxM6YFAAAAAAICngkAzMzMzs2WDQGZmZmbmI4RAmpmZmRnihEDNzMzMTKCFQAAAAACAXoZAMzMzM7Mch0BmZmZm5tqHQJqZmZkZmYhAzczMzExXiUAAAAAAgBWKQDMzMzOz04pAZmZmZuaRi0CamZmZGVCMQM3MzMxMDo1AAAAAAIDMjUAzMzMzs4qOQGZmZmbmSI9A\",\"dtype\":\"float64\",\"shape\":[75]}},\"selected\":{\"id\":\"06659029-533a-4b62-914b-4d7338f64c85\",\"type\":\"Selection\"},\"selection_policy\":{\"id\":\"ace2d802-8ea9-4ef5-9a27-f24d9ed75888\",\"type\":\"UnionRenderers\"}},\"id\":\"7038602f-032a-40b2-b0b5-2c2ee56c7a75\",\"type\":\"ColumnDataSource\"},{\"attributes\":{},\"id\":\"b2225898-2fa0-406a-b570-923aaeb12fb8\",\"type\":\"Selection\"},{\"attributes\":{\"toolbar\":{\"id\":\"f97810bb-38e3-42a6-891d-adc5bd324a7c\",\"type\":\"ProxyToolbar\"},\"toolbar_location\":\"above\"},\"id\":\"40cf6220-7b4d-401e-97fa-04e4b981a638\",\"type\":\"ToolbarBox\"},{\"attributes\":{},\"id\":\"1fae058a-81ff-43d3-9962-d94ca4ea8992\",\"type\":\"LogScale\"},{\"attributes\":{\"dimension\":1,\"plot\":{\"id\":\"5ee3d595-d2fb-4805-bb37-613bead4e7aa\",\"subtype\":\"Figure\",\"type\":\"Plot\"},\"ticker\":{\"id\":\"300591f2-f0db-4b21-a0d0-31d1730adeba\",\"type\":\"BasicTicker\"}},\"id\":\"11eabbf9-0cf3-481b-84e0-8ec358da8fce\",\"type\":\"Grid\"},{\"attributes\":{\"source\":{\"id\":\"f9b9cfa9-a3fa-4079-91c5-49e5e12f5f04\",\"type\":\"ColumnDataSource\"}},\"id\":\"1280cabe-6342-4911-ba8c-dfb663bf600a\",\"type\":\"CDSView\"},{\"attributes\":{\"data_source\":{\"id\":\"f9b9cfa9-a3fa-4079-91c5-49e5e12f5f04\",\"type\":\"ColumnDataSource\"},\"glyph\":{\"id\":\"57cb7c34-2c30-46f1-b3b1-feb97fc0d4c6\",\"type\":\"Line\"},\"hover_glyph\":null,\"muted_glyph\":null,\"nonselection_glyph\":{\"id\":\"ff513fa8-5d22-4754-b0cb-63abaf035f6f\",\"type\":\"Line\"},\"selection_glyph\":null,\"view\":{\"id\":\"1280cabe-6342-4911-ba8c-dfb663bf600a\",\"type\":\"CDSView\"}},\"id\":\"235980e5-f6e3-4c35-ad35-5897444bb268\",\"type\":\"GlyphRenderer\"},{\"attributes\":{\"callback\":null,\"data\":{\"x\":{\"__ndarray__\":\"dPEGK8OVQEDeoOdcKI48QFbHwpv6Wj5Ay6P+H0H1PkDQ4Pw1Pwc+QE/QQMz8iTtA2A4AykzZN0DdjedX4NEzQGtNrhl/gDBA2D3w2wNCLUCD8yO1LFEsQMSh3yrZ2SxAddHY/lW3LUCQJQyh8TwtQDsZ7GODoSpAi6Dn/2tIJ0DnDLMq6HUkQI7khOlE0SJADOiE4G6jIkCA/E90r7ojQD4p//OgKSZA0QfX6dGqJUCyytltEichQGghgfXIYRlAYiDp91xnE0B2wNHWtrQPQJ4m9qB2vgpAeJDQ8VfQBUDZ0VLI7iYCQFfZT3TydP8/LweR0IUK/T/QULeHxNj4P2vv6z6eL/Q/zgHEDC0f8T/QFWBxKcbuP44Jru1pXOw/gHqFfZV+5z+OfasQZCrhP6t1AyXK0t0/lna9be4v3T/c2Wqej6reP35gz5e/Ud4/nMqPj0zn3D8LaSXAL2PaPwxLIAIe8tI/ycIIktEE0T/QBmDBekPcP1FO88ASwOM/Iq2sIt+z6z9G6FH1eCvyPxuVEdtBb/U/iGRHMeCT9z8UPT1a/HH4P34cIRzqbvg/BVL+/E89+D8UZw90MO/3Pxe6cKnMffc/gpFKgkbl9j+HrQkEYjP2P3zN2LsygPU/XbOBIde49D8Mb12IkenzP3WIqqFOEvM/areay8ZI8j+L6oiWEKHxPzKOAUHPLvE/uT5D5rAN8T9sYOhno1DxP+7HZ16AqPE/jCnpRRNe8T/L5uQkGIfvP9VKN758h+o/8f1zKreS5T9uCZ6e1UPhP00Gdm8buU3A\",\"dtype\":\"float64\",\"shape\":[75]},\"y\":{\"__ndarray__\":\"GhExyth1ND/Sv8nbtpRIP2vylNV0PVE/aTum7souWD/At0SJ8fVgPw3Iuahxymc/MSNhhJWvcD/bTfBN02d3P2zb5nxnaoA/CD5h5MAGhz8NmeH1TyaQP+zrCsc9p5Y/LbKd76fGnz/bLW5ISEmmPww9YvTcQq8/JV2OstnstT8Er5Y7M8G+P0c+r3jqkcU/5h99k6ZBzj88bCIzFzjVP4enV8oyxN0//yH99nXg5D8qOpLLf0jtP5kqGJXUifQ/c9cS8kHP/D+/DpwzojQEQIEmwoanVwxA4lgXt9HgE0BSSZ2AJuIbQAMJih9jjiNA5q4l5INuK0AwTKYKRj0zQNv5fmq8/DpAaCJseHrtQkB/+zpwzoxKQM3MzMzMeFJAZmZmZmZqWEAAAAAAAFxeQM3MzMzMJmJAmpmZmZkfZUBmZmZmZhhoQDMzMzMzEWtAAAAAAAAKbkBmZmZmZoFwQM3MzMzM/XFAMzMzMzN6c0CamZmZmfZ0QAAAAAAAc3ZAZmZmZmbvd0DNzMzMzGt5QDMzMzMz6HpAmpmZmZlkfEAAAAAAAOF9QGZmZmZmXX9AZmZmZuZsgECamZmZGSuBQM3MzMxM6YFAAAAAAICngkAzMzMzs2WDQGZmZmbmI4RAmpmZmRnihEDNzMzMTKCFQAAAAACAXoZAMzMzM7Mch0BmZmZm5tqHQJqZmZkZmYhAzczMzExXiUAAAAAAgBWKQDMzMzOz04pAZmZmZuaRi0CamZmZGVCMQM3MzMxMDo1AAAAAAIDMjUAzMzMzs4qOQGZmZmbmSI9A\",\"dtype\":\"float64\",\"shape\":[75]}},\"selected\":{\"id\":\"e76d2147-3481-4e78-9102-1e326ee07a8f\",\"type\":\"Selection\"},\"selection_policy\":{\"id\":\"db543772-130d-4167-a9b4-a0d90c784604\",\"type\":\"UnionRenderers\"}},\"id\":\"b4a1dbee-a5a4-4e5c-9876-879a39ac3f1e\",\"type\":\"ColumnDataSource\"},{\"attributes\":{},\"id\":\"74c69284-a03a-4b71-b14c-089d49334baa\",\"type\":\"BasicTicker\"},{\"attributes\":{\"children\":[{\"id\":\"34c34447-a292-40a6-b3d3-a047dab44bd6\",\"type\":\"Row\"}]},\"id\":\"42729537-bc2a-4987-a318-76df756936fe\",\"type\":\"Column\"},{\"attributes\":{\"items\":[{\"id\":\"eb81dea9-31bf-4a48-ba7e-027ee319f8a9\",\"type\":\"LegendItem\"},{\"id\":\"dd846414-c40e-40fc-b87d-432ec3877ef8\",\"type\":\"LegendItem\"}],\"label_text_font_size\":{\"value\":\"8pt\"},\"location\":\"top_center\",\"orientation\":\"horizontal\",\"plot\":{\"id\":\"5ee3d595-d2fb-4805-bb37-613bead4e7aa\",\"subtype\":\"Figure\",\"type\":\"Plot\"}},\"id\":\"cb45a3ff-6c45-401e-b4e6-c9c517360eb3\",\"type\":\"Legend\"},{\"attributes\":{},\"id\":\"dfc99224-2cec-43c0-86ad-b54b148bfb87\",\"type\":\"WheelZoomTool\"},{\"attributes\":{\"fill_alpha\":{\"value\":0.7},\"fill_color\":{\"value\":\"#984ea3\"},\"line_alpha\":{\"value\":0.7},\"line_color\":{\"value\":\"#984ea3\"},\"x\":{\"field\":\"x\"},\"y\":{\"field\":\"y\"}},\"id\":\"2ee52b7c-d669-4662-b40e-d6cc0f0960fb\",\"type\":\"Circle\"},{\"attributes\":{},\"id\":\"ed97582b-b6be-48ac-bf73-ccb2950c9edc\",\"type\":\"PanTool\"},{\"attributes\":{},\"id\":\"e6769c20-f518-452b-bdd0-cb7fd4d19a37\",\"type\":\"BasicTickFormatter\"},{\"attributes\":{\"label\":{\"value\":\"CRD\"},\"renderers\":[{\"id\":\"fd4035a0-6497-488c-a498-70eacd7baf7b\",\"type\":\"GlyphRenderer\"},{\"id\":\"0a464ed1-f8a4-4820-808d-8f8d035c113d\",\"type\":\"GlyphRenderer\"}]},\"id\":\"c5c104e1-0c62-46fb-9cb6-d2f95d5a712b\",\"type\":\"LegendItem\"},{\"attributes\":{},\"id\":\"a39f51e5-aa0e-46c6-b679-01b2c7a0bb74\",\"type\":\"LinearScale\"},{\"attributes\":{\"ticker\":null},\"id\":\"c4113f39-34f7-41fc-84f0-f5837da59472\",\"type\":\"LogTickFormatter\"},{\"attributes\":{},\"id\":\"b2f8ab23-34f9-478b-bfc6-8e5801dcb188\",\"type\":\"BasicTicker\"},{\"attributes\":{\"label\":{\"value\":\"CLIRAD (single-run) - CRD\"},\"renderers\":[{\"id\":\"5e4c2f7a-962f-48cd-90ee-4d3e81449f1b\",\"type\":\"GlyphRenderer\"},{\"id\":\"235980e5-f6e3-4c35-ad35-5897444bb268\",\"type\":\"GlyphRenderer\"}]},\"id\":\"5e0cb262-f85b-4d81-8ab5-d9ac74cde8f1\",\"type\":\"LegendItem\"},{\"attributes\":{\"plot\":{\"id\":\"b9204712-e0dc-490d-9268-b8601532356c\",\"subtype\":\"Figure\",\"type\":\"Plot\"},\"ticker\":{\"id\":\"74c69284-a03a-4b71-b14c-089d49334baa\",\"type\":\"BasicTicker\"}},\"id\":\"90d58080-0f78-4248-8475-e152d8dfd8eb\",\"type\":\"Grid\"},{\"attributes\":{},\"id\":\"2fde3cec-ff18-45d0-a946-e02ec80edaa1\",\"type\":\"LinearScale\"},{\"attributes\":{\"children\":[{\"id\":\"40cf6220-7b4d-401e-97fa-04e4b981a638\",\"type\":\"ToolbarBox\"},{\"id\":\"42729537-bc2a-4987-a318-76df756936fe\",\"type\":\"Column\"}]},\"id\":\"ae7880a1-51e0-4411-a907-3f6135123e2e\",\"type\":\"Column\"},{\"attributes\":{},\"id\":\"1460cae3-49ba-4c27-96c4-f734108565a7\",\"type\":\"ResetTool\"},{\"attributes\":{},\"id\":\"666f59c8-3476-4eae-9f02-b2c72ef3d7ee\",\"type\":\"SaveTool\"},{\"attributes\":{},\"id\":\"52837ad9-de0c-496e-ae72-eb6ba647a8e0\",\"type\":\"Selection\"},{\"attributes\":{},\"id\":\"334e2eb3-811c-467d-9036-18987a0f89d5\",\"type\":\"WheelZoomTool\"},{\"attributes\":{},\"id\":\"1330fe23-ad60-4708-87b7-d311193d3bf0\",\"type\":\"LinearScale\"},{\"attributes\":{\"num_minor_ticks\":10},\"id\":\"d05ea943-f68b-40d4-b3ac-1bdd393e75ec\",\"type\":\"LogTicker\"},{\"attributes\":{},\"id\":\"1df02000-e594-45b3-9666-73efcebee886\",\"type\":\"Selection\"},{\"attributes\":{\"plot\":null,\"text\":\"\"},\"id\":\"5f5c57e7-6bf7-4184-a6e0-f1b9b4688fdf\",\"type\":\"Title\"},{\"attributes\":{\"bottom_units\":\"screen\",\"fill_alpha\":{\"value\":0.5},\"fill_color\":{\"value\":\"lightgrey\"},\"left_units\":\"screen\",\"level\":\"overlay\",\"line_alpha\":{\"value\":1.0},\"line_color\":{\"value\":\"black\"},\"line_dash\":[4,4],\"line_width\":{\"value\":2},\"plot\":null,\"render_mode\":\"css\",\"right_units\":\"screen\",\"top_units\":\"screen\"},\"id\":\"90efe96a-34e9-41f0-a983-9feb3d3a1264\",\"type\":\"BoxAnnotation\"},{\"attributes\":{\"bottom_units\":\"screen\",\"fill_alpha\":{\"value\":0.5},\"fill_color\":{\"value\":\"lightgrey\"},\"left_units\":\"screen\",\"level\":\"overlay\",\"line_alpha\":{\"value\":1.0},\"line_color\":{\"value\":\"black\"},\"line_dash\":[4,4],\"line_width\":{\"value\":2},\"plot\":null,\"render_mode\":\"css\",\"right_units\":\"screen\",\"top_units\":\"screen\"},\"id\":\"04e66635-f539-473b-a152-d89ab1e7cf39\",\"type\":\"BoxAnnotation\"},{\"attributes\":{\"axis_label\":\"pressure [mb]\",\"formatter\":{\"id\":\"1e015bbf-665f-4d5f-be4f-df272c356eb1\",\"type\":\"LogTickFormatter\"},\"plot\":{\"id\":\"b9204712-e0dc-490d-9268-b8601532356c\",\"subtype\":\"Figure\",\"type\":\"Plot\"},\"ticker\":{\"id\":\"9a63f864-99f5-4adb-b666-4b4fa8834be8\",\"type\":\"LogTicker\"}},\"id\":\"1d174eb1-89d3-4108-957e-6162eeb5828b\",\"type\":\"LogAxis\"},{\"attributes\":{},\"id\":\"24575dbb-7e50-43c9-81e2-796a358528d0\",\"type\":\"UnionRenderers\"},{\"attributes\":{\"plot\":null,\"text\":\"\"},\"id\":\"d2e6eedc-3195-4121-aae0-55867d1d2409\",\"type\":\"Title\"},{\"attributes\":{\"axis_label\":\"cooling rate [K/day]\",\"formatter\":{\"id\":\"c07091bb-177b-4afd-bb81-f7b72acd21d4\",\"type\":\"BasicTickFormatter\"},\"plot\":{\"id\":\"5ee3d595-d2fb-4805-bb37-613bead4e7aa\",\"subtype\":\"Figure\",\"type\":\"Plot\"},\"ticker\":{\"id\":\"0c61b9fb-7ceb-4397-b49c-9d3b8ade1809\",\"type\":\"BasicTicker\"}},\"id\":\"6cb49c67-2be7-4b4e-947f-e80d5975423f\",\"type\":\"LinearAxis\"},{\"attributes\":{\"overlay\":{\"id\":\"04e66635-f539-473b-a152-d89ab1e7cf39\",\"type\":\"BoxAnnotation\"}},\"id\":\"164e0c7d-90e3-45e1-ba5e-a42f32295817\",\"type\":\"BoxZoomTool\"},{\"attributes\":{},\"id\":\"ee9fa57b-cae6-4dd3-a867-6b4c664aac2d\",\"type\":\"HelpTool\"},{\"attributes\":{},\"id\":\"db543772-130d-4167-a9b4-a0d90c784604\",\"type\":\"UnionRenderers\"},{\"attributes\":{},\"id\":\"1cff51f3-2814-45d4-906f-0fcd8bbef60e\",\"type\":\"PanTool\"},{\"attributes\":{\"plot\":{\"id\":\"bc25b84f-8282-4b09-866f-39a5e1a5ced1\",\"subtype\":\"Figure\",\"type\":\"Plot\"},\"ticker\":{\"id\":\"b2f8ab23-34f9-478b-bfc6-8e5801dcb188\",\"type\":\"BasicTicker\"}},\"id\":\"67a9fd6d-9946-4320-95b4-e6e898a5250c\",\"type\":\"Grid\"},{\"attributes\":{},\"id\":\"aed1cbd9-b172-47ba-a642-e386f182f3ac\",\"type\":\"UnionRenderers\"},{\"attributes\":{\"line_alpha\":0.8,\"line_color\":\"#984ea3\",\"line_width\":1.5,\"x\":{\"field\":\"x\"},\"y\":{\"field\":\"y\"}},\"id\":\"57cb7c34-2c30-46f1-b3b1-feb97fc0d4c6\",\"type\":\"Line\"},{\"attributes\":{\"above\":[{\"id\":\"cb45a3ff-6c45-401e-b4e6-c9c517360eb3\",\"type\":\"Legend\"}],\"below\":[{\"id\":\"6cb49c67-2be7-4b4e-947f-e80d5975423f\",\"type\":\"LinearAxis\"}],\"left\":[{\"id\":\"86c5355a-cae7-47c1-899c-d279319b2f49\",\"type\":\"LinearAxis\"}],\"plot_width\":300,\"renderers\":[{\"id\":\"6cb49c67-2be7-4b4e-947f-e80d5975423f\",\"type\":\"LinearAxis\"},{\"id\":\"5b2af485-b358-4703-a6f8-eb30918cae79\",\"type\":\"Grid\"},{\"id\":\"86c5355a-cae7-47c1-899c-d279319b2f49\",\"type\":\"LinearAxis\"},{\"id\":\"11eabbf9-0cf3-481b-84e0-8ec358da8fce\",\"type\":\"Grid\"},{\"id\":\"90efe96a-34e9-41f0-a983-9feb3d3a1264\",\"type\":\"BoxAnnotation\"},{\"id\":\"33f00dde-8211-44ac-8244-ed5a8fd557ec\",\"type\":\"GlyphRenderer\"},{\"id\":\"cbc74bf5-6fa0-4619-8b8e-e1237dfbd600\",\"type\":\"GlyphRenderer\"},{\"id\":\"a3e722f1-9408-4fd2-aa45-ab8917f693f1\",\"type\":\"GlyphRenderer\"},{\"id\":\"cb45a3ff-6c45-401e-b4e6-c9c517360eb3\",\"type\":\"Legend\"}],\"title\":{\"id\":\"c0dcba5c-651e-4803-940c-49b651bc2610\",\"type\":\"Title\"},\"toolbar\":{\"id\":\"e456731f-d4bd-4b59-8253-044f61a3217f\",\"type\":\"Toolbar\"},\"toolbar_location\":null,\"x_range\":{\"id\":\"c1179fa0-f1bc-449c-94fb-e800c70f8c22\",\"type\":\"Range1d\"},\"x_scale\":{\"id\":\"43805bcf-711e-4231-b2e6-f6915e6855fb\",\"type\":\"LinearScale\"},\"y_range\":{\"id\":\"f53cb053-0bf2-4940-b5f3-df0496526fc2\",\"type\":\"Range1d\"},\"y_scale\":{\"id\":\"a39f51e5-aa0e-46c6-b679-01b2c7a0bb74\",\"type\":\"LinearScale\"}},\"id\":\"5ee3d595-d2fb-4805-bb37-613bead4e7aa\",\"subtype\":\"Figure\",\"type\":\"Plot\"},{\"attributes\":{},\"id\":\"8fb20703-39a7-4c79-b0ed-683c9d52353d\",\"type\":\"LogScale\"},{\"attributes\":{},\"id\":\"9eb717a1-11dd-4220-9288-3d0f1bcc6eff\",\"type\":\"HelpTool\"},{\"attributes\":{},\"id\":\"4e789a3c-524b-4079-a89d-cd56171d424a\",\"type\":\"UnionRenderers\"},{\"attributes\":{\"overlay\":{\"id\":\"90efe96a-34e9-41f0-a983-9feb3d3a1264\",\"type\":\"BoxAnnotation\"}},\"id\":\"7b3e316c-e227-472e-a82e-b153e9b624b6\",\"type\":\"BoxZoomTool\"},{\"attributes\":{\"data_source\":{\"id\":\"56c4fef2-b692-4c6b-b4c5-b6250c1d70e0\",\"type\":\"ColumnDataSource\"},\"glyph\":{\"id\":\"78bdcae8-c8ee-4a0c-8d83-0c3799dc0ab6\",\"type\":\"Line\"},\"hover_glyph\":null,\"muted_glyph\":null,\"nonselection_glyph\":{\"id\":\"c4fff571-bc66-43b3-b9d3-5bb34f6bf92c\",\"type\":\"Line\"},\"selection_glyph\":null,\"view\":{\"id\":\"e152cef0-3136-4106-ab01-7bde03a76b19\",\"type\":\"CDSView\"}},\"id\":\"0a464ed1-f8a4-4820-808d-8f8d035c113d\",\"type\":\"GlyphRenderer\"},{\"attributes\":{\"tools\":[{\"id\":\"baa9d7b5-efac-4c67-99c2-a0a1b1214039\",\"type\":\"PanTool\"},{\"id\":\"334e2eb3-811c-467d-9036-18987a0f89d5\",\"type\":\"WheelZoomTool\"},{\"id\":\"7b3e316c-e227-472e-a82e-b153e9b624b6\",\"type\":\"BoxZoomTool\"},{\"id\":\"e3a86971-a579-48d1-8cd8-a4e57f1ecdc3\",\"type\":\"SaveTool\"},{\"id\":\"1460cae3-49ba-4c27-96c4-f734108565a7\",\"type\":\"ResetTool\"},{\"id\":\"9eb717a1-11dd-4220-9288-3d0f1bcc6eff\",\"type\":\"HelpTool\"},{\"id\":\"1cff51f3-2814-45d4-906f-0fcd8bbef60e\",\"type\":\"PanTool\"},{\"id\":\"dfc99224-2cec-43c0-86ad-b54b148bfb87\",\"type\":\"WheelZoomTool\"},{\"id\":\"164e0c7d-90e3-45e1-ba5e-a42f32295817\",\"type\":\"BoxZoomTool\"},{\"id\":\"c1de9d54-8a3f-4d58-b377-294b8381cd64\",\"type\":\"SaveTool\"},{\"id\":\"0350fb70-6eda-41e3-8d5b-9bd3af83fdf0\",\"type\":\"ResetTool\"},{\"id\":\"312c2f60-a3ef-41d6-a52d-46611adc2833\",\"type\":\"HelpTool\"},{\"id\":\"ed97582b-b6be-48ac-bf73-ccb2950c9edc\",\"type\":\"PanTool\"},{\"id\":\"28c827f1-2de8-43fa-b72e-a9a5d6f43212\",\"type\":\"WheelZoomTool\"},{\"id\":\"77a36939-de26-4e3d-9360-f0f38d38c61e\",\"type\":\"BoxZoomTool\"},{\"id\":\"666f59c8-3476-4eae-9f02-b2c72ef3d7ee\",\"type\":\"SaveTool\"},{\"id\":\"bdce827c-2948-4114-b89a-e2de47b8c268\",\"type\":\"ResetTool\"},{\"id\":\"ee9fa57b-cae6-4dd3-a867-6b4c664aac2d\",\"type\":\"HelpTool\"}]},\"id\":\"f97810bb-38e3-42a6-891d-adc5bd324a7c\",\"type\":\"ProxyToolbar\"},{\"attributes\":{},\"id\":\"bdce827c-2948-4114-b89a-e2de47b8c268\",\"type\":\"ResetTool\"},{\"attributes\":{\"axis_label\":\"pressure [mb]\",\"formatter\":{\"id\":\"6fb326f1-b1f1-4999-b13c-5e9f54bfb3c3\",\"type\":\"BasicTickFormatter\"},\"plot\":{\"id\":\"5ee3d595-d2fb-4805-bb37-613bead4e7aa\",\"subtype\":\"Figure\",\"type\":\"Plot\"},\"ticker\":{\"id\":\"300591f2-f0db-4b21-a0d0-31d1730adeba\",\"type\":\"BasicTicker\"}},\"id\":\"86c5355a-cae7-47c1-899c-d279319b2f49\",\"type\":\"LinearAxis\"},{\"attributes\":{\"axis_label\":\"cooling rate [K/day]\",\"formatter\":{\"id\":\"eeb208d4-06ac-457f-89a6-99766e0cf028\",\"type\":\"BasicTickFormatter\"},\"plot\":{\"id\":\"bc25b84f-8282-4b09-866f-39a5e1a5ced1\",\"subtype\":\"Figure\",\"type\":\"Plot\"},\"ticker\":{\"id\":\"b2f8ab23-34f9-478b-bfc6-8e5801dcb188\",\"type\":\"BasicTicker\"}},\"id\":\"80debec9-420d-41de-8032-51889314bd93\",\"type\":\"LinearAxis\"},{\"attributes\":{},\"id\":\"0350fb70-6eda-41e3-8d5b-9bd3af83fdf0\",\"type\":\"ResetTool\"},{\"attributes\":{\"ticker\":null},\"id\":\"1e015bbf-665f-4d5f-be4f-df272c356eb1\",\"type\":\"LogTickFormatter\"},{\"attributes\":{\"data_source\":{\"id\":\"0a1fa459-a8d9-4022-897c-786ea7f4b9e0\",\"type\":\"ColumnDataSource\"},\"glyph\":{\"id\":\"2ee52b7c-d669-4662-b40e-d6cc0f0960fb\",\"type\":\"Circle\"},\"hover_glyph\":null,\"muted_glyph\":null,\"nonselection_glyph\":{\"id\":\"92c0853f-6c59-4328-8345-a56beb754ccd\",\"type\":\"Circle\"},\"selection_glyph\":null,\"view\":{\"id\":\"5a2ceb29-b014-4651-b662-e901ae2dac90\",\"type\":\"CDSView\"}},\"id\":\"5e4c2f7a-962f-48cd-90ee-4d3e81449f1b\",\"type\":\"GlyphRenderer\"},{\"attributes\":{},\"id\":\"baa9d7b5-efac-4c67-99c2-a0a1b1214039\",\"type\":\"PanTool\"},{\"attributes\":{},\"id\":\"312c2f60-a3ef-41d6-a52d-46611adc2833\",\"type\":\"HelpTool\"},{\"attributes\":{},\"id\":\"28c827f1-2de8-43fa-b72e-a9a5d6f43212\",\"type\":\"WheelZoomTool\"},{\"attributes\":{},\"id\":\"300591f2-f0db-4b21-a0d0-31d1730adeba\",\"type\":\"BasicTicker\"},{\"attributes\":{},\"id\":\"de0941c5-53c6-4547-b267-a20f49273c76\",\"type\":\"Selection\"},{\"attributes\":{},\"id\":\"32d816a3-c50b-4d2d-82d3-f26bf2a80b7f\",\"type\":\"UnionRenderers\"},{\"attributes\":{},\"id\":\"c1de9d54-8a3f-4d58-b377-294b8381cd64\",\"type\":\"SaveTool\"},{\"attributes\":{\"axis_label\":\"pressure [mb]\",\"formatter\":{\"id\":\"c4113f39-34f7-41fc-84f0-f5837da59472\",\"type\":\"LogTickFormatter\"},\"plot\":{\"id\":\"bc25b84f-8282-4b09-866f-39a5e1a5ced1\",\"subtype\":\"Figure\",\"type\":\"Plot\"},\"ticker\":{\"id\":\"d05ea943-f68b-40d4-b3ac-1bdd393e75ec\",\"type\":\"LogTicker\"}},\"id\":\"4da420af-b0f7-48f4-8e70-c8d5f8224642\",\"type\":\"LogAxis\"},{\"attributes\":{},\"id\":\"6fb326f1-b1f1-4999-b13c-5e9f54bfb3c3\",\"type\":\"BasicTickFormatter\"},{\"attributes\":{\"line_alpha\":0.6,\"line_color\":\"#377eb8\",\"line_dash\":[6],\"line_width\":5,\"x\":{\"field\":\"x\"},\"y\":{\"field\":\"y\"}},\"id\":\"b21025d7-de40-49bc-a793-6d1db77b36aa\",\"type\":\"Line\"},{\"attributes\":{\"callback\":null,\"data\":{\"x\":{\"__ndarray__\":\"LVz7uCfeQ8ChGUaLJfYYwCMb75vopAPAb3fOabke8j9lWIgE9JsLQOXvyvkb2g9APnR7Fi/LBkCmSIIxVTrrPyu2iXaXmu2/L3WfIbFl+r+C9ZYDcxv0v8J+sAdRy9S/UH1/Rkeq4D8IzsLpVObuP4jqcTibAe0/eTvd8oYO2T+OQTCLDt7Qv5ji9BpoXuW/V0+3xBhy5b94Z7G7lXzav/6pSlfL38G/zBgKKJYesj/I1tW4gTDBP4Gg9xnb/bm/6OHFBmFwzb/Jlv56HxKhv/EZB1BwXNE/tDFGwmnx0T+dgz8RYjK8P0oF0SHPn6A/1zw/k0lFxD8Gy+tFFBfNP2i9183Z08A/N3gKDez1dr+ErhDxWg1oP7z6DbGqTLM/FGuCmYk5qD8ZDNtblLmYvzx7mOPoprO/Rm2hQwsHtr9zgNat/qeyv3TBkyPWuay/lNouayB+pb/vTOCOl1uavx4jDSfir5C/H1Be0ivxhb9YuwufkpI/v2KxTpOelHS/zMZedMBUm7+XBGrFTJ+qv1BpC30ogKq/qPfp7IHAor8ApUU9lFmjv/JYEpkYzKq/kHn7d8SRqr/cmaU2k1ylvxjD/zelpZ+/nlGD3JJLmL/E21bacaGTv/6RwjCw64m/2h/zxmcAhL/NgBME6nGBv9orU+u8T4S/oIG6YxpWhr8lZK/mZTWEv+Zn75KUCXq/gNkHHrReOb9kVHMMU5p/P9Y9Y3OW2Is/nkfL3Nfckj+u+BL/t1+WP0aldYMAE5g/U2koibtulz9Klct3jleXPz7Rumwp5E3A\",\"dtype\":\"float64\",\"shape\":[75]},\"y\":{\"__ndarray__\":\"GhExyth1ND/Sv8nbtpRIP2vylNV0PVE/aTum7souWD/At0SJ8fVgPw3Iuahxymc/MSNhhJWvcD/bTfBN02d3P2zb5nxnaoA/CD5h5MAGhz8NmeH1TyaQP+zrCsc9p5Y/LbKd76fGnz/bLW5ISEmmPww9YvTcQq8/JV2OstnstT8Er5Y7M8G+P0c+r3jqkcU/5h99k6ZBzj88bCIzFzjVP4enV8oyxN0//yH99nXg5D8qOpLLf0jtP5kqGJXUifQ/c9cS8kHP/D+/DpwzojQEQIEmwoanVwxA4lgXt9HgE0BSSZ2AJuIbQAMJih9jjiNA5q4l5INuK0AwTKYKRj0zQNv5fmq8/DpAaCJseHrtQkB/+zpwzoxKQM3MzMzMeFJAZmZmZmZqWEAAAAAAAFxeQM3MzMzMJmJAmpmZmZkfZUBmZmZmZhhoQDMzMzMzEWtAAAAAAAAKbkBmZmZmZoFwQM3MzMzM/XFAMzMzMzN6c0CamZmZmfZ0QAAAAAAAc3ZAZmZmZmbvd0DNzMzMzGt5QDMzMzMz6HpAmpmZmZlkfEAAAAAAAOF9QGZmZmZmXX9AZmZmZuZsgECamZmZGSuBQM3MzMxM6YFAAAAAAICngkAzMzMzs2WDQGZmZmbmI4RAmpmZmRnihEDNzMzMTKCFQAAAAACAXoZAMzMzM7Mch0BmZmZm5tqHQJqZmZkZmYhAzczMzExXiUAAAAAAgBWKQDMzMzOz04pAZmZmZuaRi0CamZmZGVCMQM3MzMxMDo1AAAAAAIDMjUAzMzMzs4qOQGZmZmbmSI9A\",\"dtype\":\"float64\",\"shape\":[75]}},\"selected\":{\"id\":\"1df02000-e594-45b3-9666-73efcebee886\",\"type\":\"Selection\"},\"selection_policy\":{\"id\":\"320da1c8-fd31-4cc1-9923-7c82a98dad48\",\"type\":\"UnionRenderers\"}},\"id\":\"f9b9cfa9-a3fa-4079-91c5-49e5e12f5f04\",\"type\":\"ColumnDataSource\"},{\"attributes\":{\"num_minor_ticks\":10},\"id\":\"9a63f864-99f5-4adb-b666-4b4fa8834be8\",\"type\":\"LogTicker\"},{\"attributes\":{\"plot\":null,\"text\":\"\"},\"id\":\"c0dcba5c-651e-4803-940c-49b651bc2610\",\"type\":\"Title\"},{\"attributes\":{},\"id\":\"c07091bb-177b-4afd-bb81-f7b72acd21d4\",\"type\":\"BasicTickFormatter\"},{\"attributes\":{\"label\":{\"value\":\"CLIRAD (single-run)\"},\"renderers\":[{\"id\":\"134f1df9-e1da-4807-ac0e-ad69393059e2\",\"type\":\"GlyphRenderer\"}]},\"id\":\"e965387c-c02a-434a-83f0-077f840f9300\",\"type\":\"LegendItem\"},{\"attributes\":{\"dimension\":1,\"plot\":{\"id\":\"bc25b84f-8282-4b09-866f-39a5e1a5ced1\",\"subtype\":\"Figure\",\"type\":\"Plot\"},\"ticker\":{\"id\":\"d05ea943-f68b-40d4-b3ac-1bdd393e75ec\",\"type\":\"LogTicker\"}},\"id\":\"f5d1cb3d-699c-47ed-8fdf-9a1d3f047f20\",\"type\":\"Grid\"},{\"attributes\":{},\"id\":\"06659029-533a-4b62-914b-4d7338f64c85\",\"type\":\"Selection\"},{\"attributes\":{},\"id\":\"eeb208d4-06ac-457f-89a6-99766e0cf028\",\"type\":\"BasicTickFormatter\"},{\"attributes\":{\"children\":[{\"id\":\"5ee3d595-d2fb-4805-bb37-613bead4e7aa\",\"subtype\":\"Figure\",\"type\":\"Plot\"},{\"id\":\"b9204712-e0dc-490d-9268-b8601532356c\",\"subtype\":\"Figure\",\"type\":\"Plot\"},{\"id\":\"bc25b84f-8282-4b09-866f-39a5e1a5ced1\",\"subtype\":\"Figure\",\"type\":\"Plot\"}]},\"id\":\"34c34447-a292-40a6-b3d3-a047dab44bd6\",\"type\":\"Row\"},{\"attributes\":{},\"id\":\"7fa2a41c-7862-4fe2-b708-cff1eb25217c\",\"type\":\"Selection\"},{\"attributes\":{\"bottom_units\":\"screen\",\"fill_alpha\":{\"value\":0.5},\"fill_color\":{\"value\":\"lightgrey\"},\"left_units\":\"screen\",\"level\":\"overlay\",\"line_alpha\":{\"value\":1.0},\"line_color\":{\"value\":\"black\"},\"line_dash\":[4,4],\"line_width\":{\"value\":2},\"plot\":null,\"render_mode\":\"css\",\"right_units\":\"screen\",\"top_units\":\"screen\"},\"id\":\"39350a22-ddc2-455e-99ba-7c58c1936d5e\",\"type\":\"BoxAnnotation\"},{\"attributes\":{\"source\":{\"id\":\"0a1fa459-a8d9-4022-897c-786ea7f4b9e0\",\"type\":\"ColumnDataSource\"}},\"id\":\"5a2ceb29-b014-4651-b662-e901ae2dac90\",\"type\":\"CDSView\"},{\"attributes\":{},\"id\":\"6848b0e7-c625-4d7a-8ef0-3741823c5446\",\"type\":\"UnionRenderers\"},{\"attributes\":{},\"id\":\"0c61b9fb-7ceb-4397-b49c-9d3b8ade1809\",\"type\":\"BasicTicker\"},{\"attributes\":{\"line_alpha\":0.1,\"line_color\":\"#1f77b4\",\"line_width\":1.5,\"x\":{\"field\":\"x\"},\"y\":{\"field\":\"y\"}},\"id\":\"ff513fa8-5d22-4754-b0cb-63abaf035f6f\",\"type\":\"Line\"}],\"root_ids\":[\"ae7880a1-51e0-4411-a907-3f6135123e2e\"]},\"title\":\"Bokeh Application\",\"version\":\"0.12.16\"}};\n",
       "  var render_items = [{\"docid\":\"4de3952e-3169-4118-befa-e0765252b73d\",\"elementid\":\"db164a86-057d-4aa0-8d8c-ce05c29c1ae2\",\"modelid\":\"ae7880a1-51e0-4411-a907-3f6135123e2e\"}];\n",
       "  root.Bokeh.embed.embed_items_notebook(docs_json, render_items);\n",
       "\n",
       "  }\n",
       "  if (root.Bokeh !== undefined) {\n",
       "    embed_document(root);\n",
       "  } else {\n",
       "    var attempts = 0;\n",
       "    var timer = setInterval(function(root) {\n",
       "      if (root.Bokeh !== undefined) {\n",
       "        embed_document(root);\n",
       "        clearInterval(timer);\n",
       "      }\n",
       "      attempts++;\n",
       "      if (attempts > 100) {\n",
       "        console.log(\"Bokeh: ERROR: Unable to run BokehJS code because BokehJS library is missing\")\n",
       "        clearInterval(timer);\n",
       "      }\n",
       "    }, 10, root)\n",
       "  }\n",
       "})(window);"
      ],
      "application/vnd.bokehjs_exec.v0+json": ""
     },
     "metadata": {
      "application/vnd.bokehjs_exec.v0+json": {
       "id": "ae7880a1-51e0-4411-a907-3f6135123e2e"
      }
     },
     "output_type": "display_data"
    },
    {
     "data": {
      "text/markdown": [
       "*FIGURE.* Cooling rates & difference."
      ],
      "text/plain": [
       "<IPython.core.display.Markdown object>"
      ]
     },
     "metadata": {},
     "output_type": "display_data"
    },
    {
     "data": {
      "text/html": [
       "<a id=\"Fluxes._saw.\"></a>"
      ],
      "text/plain": [
       "<IPython.core.display.HTML object>"
      ]
     },
     "metadata": {},
     "output_type": "display_data"
    },
    {
     "data": {
      "text/markdown": [
       "# Fluxes. saw."
      ],
      "text/plain": [
       "<IPython.core.display.Markdown object>"
      ]
     },
     "metadata": {},
     "output_type": "display_data"
    },
    {
     "data": {
      "text/html": [
       "\n",
       "<div class=\"bk-root\">\n",
       "    <div class=\"bk-plotdiv\" id=\"bd96ae28-74bb-4200-97aa-bceac6a9712a\"></div>\n",
       "</div>"
      ]
     },
     "metadata": {},
     "output_type": "display_data"
    },
    {
     "data": {
      "application/javascript": [
       "(function(root) {\n",
       "  function embed_document(root) {\n",
       "    \n",
       "  var docs_json = {\"d0a1fe2d-3296-411a-86a6-29ffcd6b3927\":{\"roots\":{\"references\":[{\"attributes\":{\"fill_color\":{\"value\":\"#1f77b4\"},\"line_color\":{\"value\":\"#1f77b4\"},\"top\":{\"field\":\"flux\"},\"width\":{\"value\":0.9},\"x\":{\"field\":\"band\"}},\"id\":\"dd333d95-d8ea-4178-8ad2-ffd81557354c\",\"type\":\"VBar\"},{\"attributes\":{\"axis_label\":\"flux (W m-2)\",\"formatter\":{\"id\":\"a6c388d2-718e-4719-90cd-9cf1a5c78928\",\"type\":\"BasicTickFormatter\"},\"plot\":{\"id\":\"7065420e-2791-43ed-828e-0c7422630f45\",\"subtype\":\"Figure\",\"type\":\"Plot\"},\"ticker\":{\"id\":\"b44f6868-956d-44dc-8df2-237d8024c3b1\",\"type\":\"BasicTicker\"}},\"id\":\"eec250a4-9a3e-424b-92e0-805a866ac180\",\"type\":\"LinearAxis\"},{\"attributes\":{\"plot\":null,\"text\":\"TOA flux. CLIRAD (single-run) - CRD.\"},\"id\":\"8a1224f8-9ad0-4ded-bc66-8abe0725aa28\",\"type\":\"Title\"},{\"attributes\":{\"below\":[{\"id\":\"df1f6d05-e7d0-4c85-9a55-6b136776d1a7\",\"type\":\"CategoricalAxis\"}],\"left\":[{\"id\":\"eec250a4-9a3e-424b-92e0-805a866ac180\",\"type\":\"LinearAxis\"}],\"plot_height\":300,\"plot_width\":300,\"renderers\":[{\"id\":\"df1f6d05-e7d0-4c85-9a55-6b136776d1a7\",\"type\":\"CategoricalAxis\"},{\"id\":\"12640380-08dc-4641-9dad-3307038e10db\",\"type\":\"Grid\"},{\"id\":\"eec250a4-9a3e-424b-92e0-805a866ac180\",\"type\":\"LinearAxis\"},{\"id\":\"0f241042-0378-4cea-ab90-5b929352a361\",\"type\":\"Grid\"},{\"id\":\"9589b2ee-8293-49af-8cd7-d556d37b2b4a\",\"type\":\"BoxAnnotation\"},{\"id\":\"e2a847f2-964f-47c4-b4c8-7500941e844a\",\"type\":\"GlyphRenderer\"}],\"title\":{\"id\":\"8a1224f8-9ad0-4ded-bc66-8abe0725aa28\",\"type\":\"Title\"},\"toolbar\":{\"id\":\"c1c2ca45-d3f9-4593-8153-8246fc3cad8f\",\"type\":\"Toolbar\"},\"toolbar_location\":null,\"x_range\":{\"id\":\"2b808474-a16f-4b0d-a824-80ba9ccd63fb\",\"type\":\"FactorRange\"},\"x_scale\":{\"id\":\"a4b0c8ff-e8a0-4645-9833-43b935441fae\",\"type\":\"CategoricalScale\"},\"y_range\":{\"id\":\"5f651ff4-ff2b-46c2-bd51-bc7fc380db73\",\"type\":\"DataRange1d\"},\"y_scale\":{\"id\":\"82ea32f5-3253-479d-9edd-4ccdcb28e123\",\"type\":\"LinearScale\"}},\"id\":\"7065420e-2791-43ed-828e-0c7422630f45\",\"subtype\":\"Figure\",\"type\":\"Plot\"},{\"attributes\":{\"fill_alpha\":{\"value\":0.1},\"fill_color\":{\"value\":\"#1f77b4\"},\"line_alpha\":{\"value\":0.1},\"line_color\":{\"value\":\"#1f77b4\"},\"top\":{\"field\":\"flux\"},\"width\":{\"value\":0.9},\"x\":{\"field\":\"band\"}},\"id\":\"b71929b1-9cfb-44e6-af37-4bf04510502b\",\"type\":\"VBar\"},{\"attributes\":{\"below\":[{\"id\":\"1787c995-ff74-4018-a486-6fd879dac4f2\",\"type\":\"CategoricalAxis\"}],\"left\":[{\"id\":\"992624ef-237f-4956-90bb-09956bc0a94d\",\"type\":\"LinearAxis\"}],\"plot_height\":300,\"plot_width\":300,\"renderers\":[{\"id\":\"1787c995-ff74-4018-a486-6fd879dac4f2\",\"type\":\"CategoricalAxis\"},{\"id\":\"90f1736d-eec9-432a-8926-17449cd0ef01\",\"type\":\"Grid\"},{\"id\":\"992624ef-237f-4956-90bb-09956bc0a94d\",\"type\":\"LinearAxis\"},{\"id\":\"478c589c-4149-49b1-996d-dee7220cd952\",\"type\":\"Grid\"},{\"id\":\"fee56526-b370-475b-a2e7-c79a6ff12c72\",\"type\":\"BoxAnnotation\"},{\"id\":\"e35df77f-6174-42c3-9988-dd77f90c0153\",\"type\":\"GlyphRenderer\"}],\"title\":{\"id\":\"e7701dd6-9ec2-49dd-b6a6-eba87379a70b\",\"type\":\"Title\"},\"toolbar\":{\"id\":\"bfa45cc2-db87-4d2f-b852-ae952b7301c3\",\"type\":\"Toolbar\"},\"toolbar_location\":null,\"x_range\":{\"id\":\"f84af469-c08c-40d6-9cbe-d44571a85782\",\"type\":\"FactorRange\"},\"x_scale\":{\"id\":\"49568800-5733-4b35-b41a-38da97e69079\",\"type\":\"CategoricalScale\"},\"y_range\":{\"id\":\"9c3b5656-c8c3-4a01-8a23-2282407df605\",\"type\":\"DataRange1d\"},\"y_scale\":{\"id\":\"04fa7e12-336d-4b22-a2ac-2725d3c6896f\",\"type\":\"LinearScale\"}},\"id\":\"21842ca2-f1e0-4a6f-a76e-3c7c90c9c5f6\",\"subtype\":\"Figure\",\"type\":\"Plot\"},{\"attributes\":{\"plot\":{\"id\":\"7065420e-2791-43ed-828e-0c7422630f45\",\"subtype\":\"Figure\",\"type\":\"Plot\"},\"ticker\":{\"id\":\"5ed2f33f-ad94-4d62-9ae0-b69a80b2e21c\",\"type\":\"CategoricalTicker\"}},\"id\":\"12640380-08dc-4641-9dad-3307038e10db\",\"type\":\"Grid\"},{\"attributes\":{\"plot\":null,\"text\":\"SFC flux. CLIRAD (single-run) - CRD.\"},\"id\":\"e7701dd6-9ec2-49dd-b6a6-eba87379a70b\",\"type\":\"Title\"},{\"attributes\":{},\"id\":\"5ed2f33f-ad94-4d62-9ae0-b69a80b2e21c\",\"type\":\"CategoricalTicker\"},{\"attributes\":{\"bottom_units\":\"screen\",\"fill_alpha\":{\"value\":0.5},\"fill_color\":{\"value\":\"lightgrey\"},\"left_units\":\"screen\",\"level\":\"overlay\",\"line_alpha\":{\"value\":1.0},\"line_color\":{\"value\":\"black\"},\"line_dash\":[4,4],\"line_width\":{\"value\":2},\"plot\":null,\"render_mode\":\"css\",\"right_units\":\"screen\",\"top_units\":\"screen\"},\"id\":\"fee56526-b370-475b-a2e7-c79a6ff12c72\",\"type\":\"BoxAnnotation\"},{\"attributes\":{\"data_source\":{\"id\":\"4fd4214f-c349-4f2c-85fa-5d8571c63c03\",\"type\":\"ColumnDataSource\"},\"glyph\":{\"id\":\"e4042169-f3c2-4615-8769-a4fedd4ff5fb\",\"type\":\"VBar\"},\"hover_glyph\":null,\"muted_glyph\":null,\"nonselection_glyph\":{\"id\":\"b71929b1-9cfb-44e6-af37-4bf04510502b\",\"type\":\"VBar\"},\"selection_glyph\":null,\"view\":{\"id\":\"eebf70ef-c188-4fb8-a60e-92c0256d5da1\",\"type\":\"CDSView\"}},\"id\":\"e35df77f-6174-42c3-9988-dd77f90c0153\",\"type\":\"GlyphRenderer\"},{\"attributes\":{\"callback\":null,\"factors\":[\"1\",\"2\",\"3\",\"4\",\"5\",\"6\",\"7\",\"8\",\"9\",\"10\",\"11\"]},\"id\":\"2b808474-a16f-4b0d-a824-80ba9ccd63fb\",\"type\":\"FactorRange\"},{\"attributes\":{\"active_drag\":\"auto\",\"active_inspect\":\"auto\",\"active_scroll\":\"auto\",\"active_tap\":\"auto\",\"tools\":[{\"id\":\"e9a3ae86-6757-49a4-a8b4-7ed71e42fc13\",\"type\":\"PanTool\"},{\"id\":\"e5674708-5504-4ee2-9aae-1ca32cf67040\",\"type\":\"WheelZoomTool\"},{\"id\":\"a32de90c-7f18-42be-ab84-b9e7c5eb5af6\",\"type\":\"BoxZoomTool\"},{\"id\":\"d75ee308-375b-49b2-aa58-0d1732dd34df\",\"type\":\"SaveTool\"},{\"id\":\"09cf0319-cf16-4087-8125-97954723e04e\",\"type\":\"ResetTool\"},{\"id\":\"f2ce6b97-fb3c-45b5-93a8-058377f842e7\",\"type\":\"HelpTool\"}]},\"id\":\"bfa45cc2-db87-4d2f-b852-ae952b7301c3\",\"type\":\"Toolbar\"},{\"attributes\":{\"callback\":null},\"id\":\"5f651ff4-ff2b-46c2-bd51-bc7fc380db73\",\"type\":\"DataRange1d\"},{\"attributes\":{\"callback\":null,\"data\":{\"band\":[\"1\",\"2\",\"3\",\"4\",\"5\",\"6\",\"7\",\"8\",\"9\",\"10\",\"11\"],\"flux\":{\"__ndarray__\":\"gGLUtfY+xz8ABgWlaOWyPwDVO9wODbO/gApHkEqx0D8Ans4VpYS4PwDQ+uk/a46/IIOj5NU50j8AHErtRbSNv4BE2safqKA/AGgLdJJSdb+AbxLeeT2TPw==\",\"dtype\":\"float64\",\"shape\":[11]}},\"selected\":{\"id\":\"84964267-227a-43cb-98c4-ab77facfa49f\",\"type\":\"Selection\"},\"selection_policy\":{\"id\":\"3bf94104-237c-4c6b-8fcb-dc83473c9042\",\"type\":\"UnionRenderers\"}},\"id\":\"fc19fabd-6e7d-45f2-a4d8-2ac05150f294\",\"type\":\"ColumnDataSource\"},{\"attributes\":{\"callback\":null,\"data\":{\"band\":[\"1\",\"2\",\"3\",\"4\",\"5\",\"6\",\"7\",\"8\",\"9\",\"10\",\"11\"],\"flux\":{\"__ndarray__\":\"AEDdJAaBZb8Asg5HV+nAvwA2IEJcueC/AAeY+Q5+tj/A8wOyMnXIPyAWSPVCprm/QFhl8EEZsD/ga9jnGC20vwDdJRad0ZM/AJDEy9O5oj8Ad2DnQ6NtPw==\",\"dtype\":\"float64\",\"shape\":[11]}},\"selected\":{\"id\":\"46a0d4e2-962f-4467-a47f-d6ca820b911f\",\"type\":\"Selection\"},\"selection_policy\":{\"id\":\"ed07dfca-4756-44ce-a274-641687dbcd79\",\"type\":\"UnionRenderers\"}},\"id\":\"4fd4214f-c349-4f2c-85fa-5d8571c63c03\",\"type\":\"ColumnDataSource\"},{\"attributes\":{},\"id\":\"b44f6868-956d-44dc-8df2-237d8024c3b1\",\"type\":\"BasicTicker\"},{\"attributes\":{\"dimension\":1,\"plot\":{\"id\":\"7065420e-2791-43ed-828e-0c7422630f45\",\"subtype\":\"Figure\",\"type\":\"Plot\"},\"ticker\":{\"id\":\"b44f6868-956d-44dc-8df2-237d8024c3b1\",\"type\":\"BasicTicker\"}},\"id\":\"0f241042-0378-4cea-ab90-5b929352a361\",\"type\":\"Grid\"},{\"attributes\":{\"axis_label\":\"spectral band\",\"formatter\":{\"id\":\"53ff51db-cc8b-4af8-9209-6c9b281b9c4e\",\"type\":\"CategoricalTickFormatter\"},\"plot\":{\"id\":\"7065420e-2791-43ed-828e-0c7422630f45\",\"subtype\":\"Figure\",\"type\":\"Plot\"},\"ticker\":{\"id\":\"5ed2f33f-ad94-4d62-9ae0-b69a80b2e21c\",\"type\":\"CategoricalTicker\"}},\"id\":\"df1f6d05-e7d0-4c85-9a55-6b136776d1a7\",\"type\":\"CategoricalAxis\"},{\"attributes\":{},\"id\":\"a4b0c8ff-e8a0-4645-9833-43b935441fae\",\"type\":\"CategoricalScale\"},{\"attributes\":{\"source\":{\"id\":\"4fd4214f-c349-4f2c-85fa-5d8571c63c03\",\"type\":\"ColumnDataSource\"}},\"id\":\"eebf70ef-c188-4fb8-a60e-92c0256d5da1\",\"type\":\"CDSView\"},{\"attributes\":{\"callback\":null,\"factors\":[\"1\",\"2\",\"3\",\"4\",\"5\",\"6\",\"7\",\"8\",\"9\",\"10\",\"11\"]},\"id\":\"f84af469-c08c-40d6-9cbe-d44571a85782\",\"type\":\"FactorRange\"},{\"attributes\":{\"callback\":null,\"data\":{\"band\":[\"1\",\"2\",\"3\",\"4\",\"5\",\"6\",\"7\",\"8\",\"9\",\"10\",\"11\"],\"flux\":{\"__ndarray__\":\"aDvoCh0GSkCgZd0/FvwzQBHTGXMy8CxAqoPnnihqMEDXv+szZ1VAQFThz/BmfSVAzAcEOpPmJEAOVNfrJ60bQHp1jgHZmxNA3BqzGoKr8T+AJgqhQRKPPw==\",\"dtype\":\"float64\",\"shape\":[11]}},\"selected\":{\"id\":\"9e49fa15-ce1d-4d07-8678-5421086ec996\",\"type\":\"Selection\"},\"selection_policy\":{\"id\":\"33f921fb-5f3a-4812-b7a2-4c3c34838240\",\"type\":\"UnionRenderers\"}},\"id\":\"550c1dc7-8491-4636-8d67-add682837a2c\",\"type\":\"ColumnDataSource\"},{\"attributes\":{},\"id\":\"82ea32f5-3253-479d-9edd-4ccdcb28e123\",\"type\":\"LinearScale\"},{\"attributes\":{\"active_drag\":\"auto\",\"active_inspect\":\"auto\",\"active_scroll\":\"auto\",\"active_tap\":\"auto\",\"tools\":[{\"id\":\"1596ea5b-038d-4168-98dd-c1ce404d6d19\",\"type\":\"PanTool\"},{\"id\":\"9822533d-8898-4a47-bf34-ceb665e071b3\",\"type\":\"WheelZoomTool\"},{\"id\":\"a14cefd0-3d93-42e4-b3a3-14f298c065b3\",\"type\":\"BoxZoomTool\"},{\"id\":\"33d37ad1-e540-4b53-9779-9439a40ad8d0\",\"type\":\"SaveTool\"},{\"id\":\"8b34d93a-e796-4b94-9a8f-eb5e9cef7657\",\"type\":\"ResetTool\"},{\"id\":\"1924d879-0a5b-4359-92c2-e0e84b757c5c\",\"type\":\"HelpTool\"}]},\"id\":\"c1c2ca45-d3f9-4593-8153-8246fc3cad8f\",\"type\":\"Toolbar\"},{\"attributes\":{},\"id\":\"33f921fb-5f3a-4812-b7a2-4c3c34838240\",\"type\":\"UnionRenderers\"},{\"attributes\":{\"overlay\":{\"id\":\"fee56526-b370-475b-a2e7-c79a6ff12c72\",\"type\":\"BoxAnnotation\"}},\"id\":\"a32de90c-7f18-42be-ab84-b9e7c5eb5af6\",\"type\":\"BoxZoomTool\"},{\"attributes\":{\"plot\":{\"id\":\"21842ca2-f1e0-4a6f-a76e-3c7c90c9c5f6\",\"subtype\":\"Figure\",\"type\":\"Plot\"},\"ticker\":{\"id\":\"f0b66f57-1512-457b-a08d-2020541c5c55\",\"type\":\"CategoricalTicker\"}},\"id\":\"90f1736d-eec9-432a-8926-17449cd0ef01\",\"type\":\"Grid\"},{\"attributes\":{\"callback\":null,\"factors\":[\"1\",\"2\",\"3\",\"4\",\"5\",\"6\",\"7\",\"8\",\"9\",\"10\",\"11\"]},\"id\":\"dbd16c1f-0a71-4c44-82ac-15bb89587075\",\"type\":\"FactorRange\"},{\"attributes\":{},\"id\":\"a6c388d2-718e-4719-90cd-9cf1a5c78928\",\"type\":\"BasicTickFormatter\"},{\"attributes\":{\"children\":[{\"id\":\"e8659362-67b3-4961-a700-b9867dc64bec\",\"type\":\"ToolbarBox\"},{\"id\":\"d87b1819-a81b-421f-87a4-84b97e741ef0\",\"type\":\"Column\"}]},\"id\":\"98dc0e51-a267-4e83-b405-ec009682aed9\",\"type\":\"Column\"},{\"attributes\":{\"overlay\":{\"id\":\"9589b2ee-8293-49af-8cd7-d556d37b2b4a\",\"type\":\"BoxAnnotation\"}},\"id\":\"a14cefd0-3d93-42e4-b3a3-14f298c065b3\",\"type\":\"BoxZoomTool\"},{\"attributes\":{},\"id\":\"9822533d-8898-4a47-bf34-ceb665e071b3\",\"type\":\"WheelZoomTool\"},{\"attributes\":{\"active_drag\":\"auto\",\"active_inspect\":\"auto\",\"active_scroll\":\"auto\",\"active_tap\":\"auto\",\"tools\":[{\"id\":\"d12b0056-84b2-4e1c-94d2-1caa5a1a3c0f\",\"type\":\"PanTool\"},{\"id\":\"3c1e8110-de86-4ac9-b240-4cc9eb501ab8\",\"type\":\"WheelZoomTool\"},{\"id\":\"5b16c260-fc38-4ea8-abfb-b2ebc297c3d8\",\"type\":\"BoxZoomTool\"},{\"id\":\"9e4bea05-2678-4c44-8aa4-8715ea8d8cc0\",\"type\":\"SaveTool\"},{\"id\":\"fe759b90-62cf-4d7f-beba-fb45513c517d\",\"type\":\"ResetTool\"},{\"id\":\"0fd770a0-28e6-4c33-93ca-41f12ae7f530\",\"type\":\"HelpTool\"}]},\"id\":\"3ca94fcf-a2f7-47bf-b86b-435b1caca6bd\",\"type\":\"Toolbar\"},{\"attributes\":{\"toolbar\":{\"id\":\"e295c24d-bd7e-47c2-9f43-110becc5939e\",\"type\":\"ProxyToolbar\"},\"toolbar_location\":\"above\"},\"id\":\"e8659362-67b3-4961-a700-b9867dc64bec\",\"type\":\"ToolbarBox\"},{\"attributes\":{},\"id\":\"8b34d93a-e796-4b94-9a8f-eb5e9cef7657\",\"type\":\"ResetTool\"},{\"attributes\":{},\"id\":\"d75ee308-375b-49b2-aa58-0d1732dd34df\",\"type\":\"SaveTool\"},{\"attributes\":{\"below\":[{\"id\":\"69e602d6-594c-4504-9c0d-ba2c68cba23c\",\"type\":\"CategoricalAxis\"}],\"left\":[{\"id\":\"2d973be5-c977-4283-84c5-7cb6621973dd\",\"type\":\"LinearAxis\"}],\"plot_height\":300,\"plot_width\":300,\"renderers\":[{\"id\":\"69e602d6-594c-4504-9c0d-ba2c68cba23c\",\"type\":\"CategoricalAxis\"},{\"id\":\"52c83612-54c0-402f-8570-c2c66ec54370\",\"type\":\"Grid\"},{\"id\":\"2d973be5-c977-4283-84c5-7cb6621973dd\",\"type\":\"LinearAxis\"},{\"id\":\"32292a1a-2b86-47ba-a212-c94fbb93ba3f\",\"type\":\"Grid\"},{\"id\":\"45ad6b48-7659-4e68-bfd4-704788fe2ed7\",\"type\":\"BoxAnnotation\"},{\"id\":\"ef718bc1-01be-4d85-9bf7-6d7334160f4a\",\"type\":\"GlyphRenderer\"}],\"title\":{\"id\":\"18f875f7-6b8f-4911-8625-b675d5c0e57d\",\"type\":\"Title\"},\"toolbar\":{\"id\":\"3ca94fcf-a2f7-47bf-b86b-435b1caca6bd\",\"type\":\"Toolbar\"},\"toolbar_location\":null,\"x_range\":{\"id\":\"dbd16c1f-0a71-4c44-82ac-15bb89587075\",\"type\":\"FactorRange\"},\"x_scale\":{\"id\":\"95f2d9fb-be99-4f1f-8e2b-6596b455ad63\",\"type\":\"CategoricalScale\"},\"y_range\":{\"id\":\"37dba8f4-c94e-48b7-b5a5-2855ea050210\",\"type\":\"DataRange1d\"},\"y_scale\":{\"id\":\"4ab1ed30-edef-43aa-b4ab-b499c2f97d56\",\"type\":\"LinearScale\"}},\"id\":\"92522cba-26c4-402d-b3a9-a2f4f58838d8\",\"subtype\":\"Figure\",\"type\":\"Plot\"},{\"attributes\":{},\"id\":\"95f2d9fb-be99-4f1f-8e2b-6596b455ad63\",\"type\":\"CategoricalScale\"},{\"attributes\":{\"plot\":null,\"text\":\"Atmosphere heating. CLIRAD (single-run) - CRD.\"},\"id\":\"18f875f7-6b8f-4911-8625-b675d5c0e57d\",\"type\":\"Title\"},{\"attributes\":{\"axis_label\":\"flux (W m-2)\",\"formatter\":{\"id\":\"28826c73-624e-4c27-ab20-cbaa48168e27\",\"type\":\"BasicTickFormatter\"},\"plot\":{\"id\":\"92522cba-26c4-402d-b3a9-a2f4f58838d8\",\"subtype\":\"Figure\",\"type\":\"Plot\"},\"ticker\":{\"id\":\"aee088a8-ef94-4a9c-9058-45bc8649657e\",\"type\":\"BasicTicker\"}},\"id\":\"2d973be5-c977-4283-84c5-7cb6621973dd\",\"type\":\"LinearAxis\"},{\"attributes\":{\"bottom_units\":\"screen\",\"fill_alpha\":{\"value\":0.5},\"fill_color\":{\"value\":\"lightgrey\"},\"left_units\":\"screen\",\"level\":\"overlay\",\"line_alpha\":{\"value\":1.0},\"line_color\":{\"value\":\"black\"},\"line_dash\":[4,4],\"line_width\":{\"value\":2},\"plot\":null,\"render_mode\":\"css\",\"right_units\":\"screen\",\"top_units\":\"screen\"},\"id\":\"9589b2ee-8293-49af-8cd7-d556d37b2b4a\",\"type\":\"BoxAnnotation\"},{\"attributes\":{\"callback\":null},\"id\":\"37dba8f4-c94e-48b7-b5a5-2855ea050210\",\"type\":\"DataRange1d\"},{\"attributes\":{},\"id\":\"4ab1ed30-edef-43aa-b4ab-b499c2f97d56\",\"type\":\"LinearScale\"},{\"attributes\":{\"plot\":{\"id\":\"92522cba-26c4-402d-b3a9-a2f4f58838d8\",\"subtype\":\"Figure\",\"type\":\"Plot\"},\"ticker\":{\"id\":\"a2e78afb-cbdd-43b0-aaff-dda975261748\",\"type\":\"CategoricalTicker\"}},\"id\":\"52c83612-54c0-402f-8570-c2c66ec54370\",\"type\":\"Grid\"},{\"attributes\":{\"data_source\":{\"id\":\"fc19fabd-6e7d-45f2-a4d8-2ac05150f294\",\"type\":\"ColumnDataSource\"},\"glyph\":{\"id\":\"dd333d95-d8ea-4178-8ad2-ffd81557354c\",\"type\":\"VBar\"},\"hover_glyph\":null,\"muted_glyph\":null,\"nonselection_glyph\":{\"id\":\"87c2cce1-958f-40e1-8c53-055ba754bbcd\",\"type\":\"VBar\"},\"selection_glyph\":null,\"view\":{\"id\":\"f63cb8af-7ce3-412d-bfb9-78d0d1a50f25\",\"type\":\"CDSView\"}},\"id\":\"e2a847f2-964f-47c4-b4c8-7500941e844a\",\"type\":\"GlyphRenderer\"},{\"attributes\":{\"axis_label\":\"spectral band\",\"formatter\":{\"id\":\"329fdd1a-efe6-435e-8814-72654c81c08e\",\"type\":\"CategoricalTickFormatter\"},\"plot\":{\"id\":\"92522cba-26c4-402d-b3a9-a2f4f58838d8\",\"subtype\":\"Figure\",\"type\":\"Plot\"},\"ticker\":{\"id\":\"a2e78afb-cbdd-43b0-aaff-dda975261748\",\"type\":\"CategoricalTicker\"}},\"id\":\"69e602d6-594c-4504-9c0d-ba2c68cba23c\",\"type\":\"CategoricalAxis\"},{\"attributes\":{},\"id\":\"e9a3ae86-6757-49a4-a8b4-7ed71e42fc13\",\"type\":\"PanTool\"},{\"attributes\":{},\"id\":\"f0b66f57-1512-457b-a08d-2020541c5c55\",\"type\":\"CategoricalTicker\"},{\"attributes\":{},\"id\":\"a2e78afb-cbdd-43b0-aaff-dda975261748\",\"type\":\"CategoricalTicker\"},{\"attributes\":{\"fill_color\":{\"value\":\"#1f77b4\"},\"line_color\":{\"value\":\"#1f77b4\"},\"top\":{\"field\":\"flux\"},\"width\":{\"value\":0.9},\"x\":{\"field\":\"band\"}},\"id\":\"8d12d709-7502-4783-b449-d933fc72a8b9\",\"type\":\"VBar\"},{\"attributes\":{\"callback\":null},\"id\":\"9c3b5656-c8c3-4a01-8a23-2282407df605\",\"type\":\"DataRange1d\"},{\"attributes\":{},\"id\":\"aee088a8-ef94-4a9c-9058-45bc8649657e\",\"type\":\"BasicTicker\"},{\"attributes\":{\"dimension\":1,\"plot\":{\"id\":\"92522cba-26c4-402d-b3a9-a2f4f58838d8\",\"subtype\":\"Figure\",\"type\":\"Plot\"},\"ticker\":{\"id\":\"aee088a8-ef94-4a9c-9058-45bc8649657e\",\"type\":\"BasicTicker\"}},\"id\":\"32292a1a-2b86-47ba-a212-c94fbb93ba3f\",\"type\":\"Grid\"},{\"attributes\":{\"fill_color\":{\"value\":\"#1f77b4\"},\"line_color\":{\"value\":\"#1f77b4\"},\"top\":{\"field\":\"flux\"},\"width\":{\"value\":0.9},\"x\":{\"field\":\"band\"}},\"id\":\"e4042169-f3c2-4615-8769-a4fedd4ff5fb\",\"type\":\"VBar\"},{\"attributes\":{\"fill_alpha\":{\"value\":0.1},\"fill_color\":{\"value\":\"#1f77b4\"},\"line_alpha\":{\"value\":0.1},\"line_color\":{\"value\":\"#1f77b4\"},\"top\":{\"field\":\"flux\"},\"width\":{\"value\":0.9},\"x\":{\"field\":\"band\"}},\"id\":\"9a994254-afb1-4c62-a820-ef420c4d6ca0\",\"type\":\"VBar\"},{\"attributes\":{\"children\":[{\"id\":\"7065420e-2791-43ed-828e-0c7422630f45\",\"subtype\":\"Figure\",\"type\":\"Plot\"},{\"id\":\"21842ca2-f1e0-4a6f-a76e-3c7c90c9c5f6\",\"subtype\":\"Figure\",\"type\":\"Plot\"},{\"id\":\"92522cba-26c4-402d-b3a9-a2f4f58838d8\",\"subtype\":\"Figure\",\"type\":\"Plot\"}]},\"id\":\"81e8b64c-f43a-44e3-8ca5-a26f9e926aa4\",\"type\":\"Row\"},{\"attributes\":{\"axis_label\":\"spectral band\",\"formatter\":{\"id\":\"7ce56e69-5299-42c7-a485-af03e9a32b5e\",\"type\":\"CategoricalTickFormatter\"},\"plot\":{\"id\":\"21842ca2-f1e0-4a6f-a76e-3c7c90c9c5f6\",\"subtype\":\"Figure\",\"type\":\"Plot\"},\"ticker\":{\"id\":\"f0b66f57-1512-457b-a08d-2020541c5c55\",\"type\":\"CategoricalTicker\"}},\"id\":\"1787c995-ff74-4018-a486-6fd879dac4f2\",\"type\":\"CategoricalAxis\"},{\"attributes\":{},\"id\":\"9e49fa15-ce1d-4d07-8678-5421086ec996\",\"type\":\"Selection\"},{\"attributes\":{},\"id\":\"e5674708-5504-4ee2-9aae-1ca32cf67040\",\"type\":\"WheelZoomTool\"},{\"attributes\":{\"bottom_units\":\"screen\",\"fill_alpha\":{\"value\":0.5},\"fill_color\":{\"value\":\"lightgrey\"},\"left_units\":\"screen\",\"level\":\"overlay\",\"line_alpha\":{\"value\":1.0},\"line_color\":{\"value\":\"black\"},\"line_dash\":[4,4],\"line_width\":{\"value\":2},\"plot\":null,\"render_mode\":\"css\",\"right_units\":\"screen\",\"top_units\":\"screen\"},\"id\":\"45ad6b48-7659-4e68-bfd4-704788fe2ed7\",\"type\":\"BoxAnnotation\"},{\"attributes\":{},\"id\":\"d12b0056-84b2-4e1c-94d2-1caa5a1a3c0f\",\"type\":\"PanTool\"},{\"attributes\":{\"tools\":[{\"id\":\"1596ea5b-038d-4168-98dd-c1ce404d6d19\",\"type\":\"PanTool\"},{\"id\":\"9822533d-8898-4a47-bf34-ceb665e071b3\",\"type\":\"WheelZoomTool\"},{\"id\":\"a14cefd0-3d93-42e4-b3a3-14f298c065b3\",\"type\":\"BoxZoomTool\"},{\"id\":\"33d37ad1-e540-4b53-9779-9439a40ad8d0\",\"type\":\"SaveTool\"},{\"id\":\"8b34d93a-e796-4b94-9a8f-eb5e9cef7657\",\"type\":\"ResetTool\"},{\"id\":\"1924d879-0a5b-4359-92c2-e0e84b757c5c\",\"type\":\"HelpTool\"},{\"id\":\"e9a3ae86-6757-49a4-a8b4-7ed71e42fc13\",\"type\":\"PanTool\"},{\"id\":\"e5674708-5504-4ee2-9aae-1ca32cf67040\",\"type\":\"WheelZoomTool\"},{\"id\":\"a32de90c-7f18-42be-ab84-b9e7c5eb5af6\",\"type\":\"BoxZoomTool\"},{\"id\":\"d75ee308-375b-49b2-aa58-0d1732dd34df\",\"type\":\"SaveTool\"},{\"id\":\"09cf0319-cf16-4087-8125-97954723e04e\",\"type\":\"ResetTool\"},{\"id\":\"f2ce6b97-fb3c-45b5-93a8-058377f842e7\",\"type\":\"HelpTool\"},{\"id\":\"d12b0056-84b2-4e1c-94d2-1caa5a1a3c0f\",\"type\":\"PanTool\"},{\"id\":\"3c1e8110-de86-4ac9-b240-4cc9eb501ab8\",\"type\":\"WheelZoomTool\"},{\"id\":\"5b16c260-fc38-4ea8-abfb-b2ebc297c3d8\",\"type\":\"BoxZoomTool\"},{\"id\":\"9e4bea05-2678-4c44-8aa4-8715ea8d8cc0\",\"type\":\"SaveTool\"},{\"id\":\"fe759b90-62cf-4d7f-beba-fb45513c517d\",\"type\":\"ResetTool\"},{\"id\":\"0fd770a0-28e6-4c33-93ca-41f12ae7f530\",\"type\":\"HelpTool\"}]},\"id\":\"e295c24d-bd7e-47c2-9f43-110becc5939e\",\"type\":\"ProxyToolbar\"},{\"attributes\":{},\"id\":\"04fa7e12-336d-4b22-a2ac-2725d3c6896f\",\"type\":\"LinearScale\"},{\"attributes\":{\"dimension\":1,\"plot\":{\"id\":\"21842ca2-f1e0-4a6f-a76e-3c7c90c9c5f6\",\"subtype\":\"Figure\",\"type\":\"Plot\"},\"ticker\":{\"id\":\"72f22dd7-a985-4e23-87f2-99884fac0fef\",\"type\":\"BasicTicker\"}},\"id\":\"478c589c-4149-49b1-996d-dee7220cd952\",\"type\":\"Grid\"},{\"attributes\":{\"data_source\":{\"id\":\"550c1dc7-8491-4636-8d67-add682837a2c\",\"type\":\"ColumnDataSource\"},\"glyph\":{\"id\":\"8d12d709-7502-4783-b449-d933fc72a8b9\",\"type\":\"VBar\"},\"hover_glyph\":null,\"muted_glyph\":null,\"nonselection_glyph\":{\"id\":\"9a994254-afb1-4c62-a820-ef420c4d6ca0\",\"type\":\"VBar\"},\"selection_glyph\":null,\"view\":{\"id\":\"aa801f1a-fdda-43d9-8e22-f3803a393ed9\",\"type\":\"CDSView\"}},\"id\":\"ef718bc1-01be-4d85-9bf7-6d7334160f4a\",\"type\":\"GlyphRenderer\"},{\"attributes\":{},\"id\":\"3c1e8110-de86-4ac9-b240-4cc9eb501ab8\",\"type\":\"WheelZoomTool\"},{\"attributes\":{},\"id\":\"49568800-5733-4b35-b41a-38da97e69079\",\"type\":\"CategoricalScale\"},{\"attributes\":{\"overlay\":{\"id\":\"45ad6b48-7659-4e68-bfd4-704788fe2ed7\",\"type\":\"BoxAnnotation\"}},\"id\":\"5b16c260-fc38-4ea8-abfb-b2ebc297c3d8\",\"type\":\"BoxZoomTool\"},{\"attributes\":{},\"id\":\"f2ce6b97-fb3c-45b5-93a8-058377f842e7\",\"type\":\"HelpTool\"},{\"attributes\":{},\"id\":\"72f22dd7-a985-4e23-87f2-99884fac0fef\",\"type\":\"BasicTicker\"},{\"attributes\":{},\"id\":\"9e4bea05-2678-4c44-8aa4-8715ea8d8cc0\",\"type\":\"SaveTool\"},{\"attributes\":{},\"id\":\"fe759b90-62cf-4d7f-beba-fb45513c517d\",\"type\":\"ResetTool\"},{\"attributes\":{},\"id\":\"0fd770a0-28e6-4c33-93ca-41f12ae7f530\",\"type\":\"HelpTool\"},{\"attributes\":{},\"id\":\"32178229-6fa0-4142-924f-a1f3502e28c4\",\"type\":\"BasicTickFormatter\"},{\"attributes\":{},\"id\":\"53ff51db-cc8b-4af8-9209-6c9b281b9c4e\",\"type\":\"CategoricalTickFormatter\"},{\"attributes\":{},\"id\":\"1596ea5b-038d-4168-98dd-c1ce404d6d19\",\"type\":\"PanTool\"},{\"attributes\":{\"source\":{\"id\":\"550c1dc7-8491-4636-8d67-add682837a2c\",\"type\":\"ColumnDataSource\"}},\"id\":\"aa801f1a-fdda-43d9-8e22-f3803a393ed9\",\"type\":\"CDSView\"},{\"attributes\":{\"children\":[{\"id\":\"81e8b64c-f43a-44e3-8ca5-a26f9e926aa4\",\"type\":\"Row\"}]},\"id\":\"d87b1819-a81b-421f-87a4-84b97e741ef0\",\"type\":\"Column\"},{\"attributes\":{\"axis_label\":\"flux (W m-2)\",\"formatter\":{\"id\":\"32178229-6fa0-4142-924f-a1f3502e28c4\",\"type\":\"BasicTickFormatter\"},\"plot\":{\"id\":\"21842ca2-f1e0-4a6f-a76e-3c7c90c9c5f6\",\"subtype\":\"Figure\",\"type\":\"Plot\"},\"ticker\":{\"id\":\"72f22dd7-a985-4e23-87f2-99884fac0fef\",\"type\":\"BasicTicker\"}},\"id\":\"992624ef-237f-4956-90bb-09956bc0a94d\",\"type\":\"LinearAxis\"},{\"attributes\":{},\"id\":\"7ce56e69-5299-42c7-a485-af03e9a32b5e\",\"type\":\"CategoricalTickFormatter\"},{\"attributes\":{},\"id\":\"28826c73-624e-4c27-ab20-cbaa48168e27\",\"type\":\"BasicTickFormatter\"},{\"attributes\":{},\"id\":\"ed07dfca-4756-44ce-a274-641687dbcd79\",\"type\":\"UnionRenderers\"},{\"attributes\":{\"source\":{\"id\":\"fc19fabd-6e7d-45f2-a4d8-2ac05150f294\",\"type\":\"ColumnDataSource\"}},\"id\":\"f63cb8af-7ce3-412d-bfb9-78d0d1a50f25\",\"type\":\"CDSView\"},{\"attributes\":{},\"id\":\"09cf0319-cf16-4087-8125-97954723e04e\",\"type\":\"ResetTool\"},{\"attributes\":{},\"id\":\"1924d879-0a5b-4359-92c2-e0e84b757c5c\",\"type\":\"HelpTool\"},{\"attributes\":{},\"id\":\"33d37ad1-e540-4b53-9779-9439a40ad8d0\",\"type\":\"SaveTool\"},{\"attributes\":{\"fill_alpha\":{\"value\":0.1},\"fill_color\":{\"value\":\"#1f77b4\"},\"line_alpha\":{\"value\":0.1},\"line_color\":{\"value\":\"#1f77b4\"},\"top\":{\"field\":\"flux\"},\"width\":{\"value\":0.9},\"x\":{\"field\":\"band\"}},\"id\":\"87c2cce1-958f-40e1-8c53-055ba754bbcd\",\"type\":\"VBar\"},{\"attributes\":{},\"id\":\"84964267-227a-43cb-98c4-ab77facfa49f\",\"type\":\"Selection\"},{\"attributes\":{},\"id\":\"46a0d4e2-962f-4467-a47f-d6ca820b911f\",\"type\":\"Selection\"},{\"attributes\":{},\"id\":\"3bf94104-237c-4c6b-8fcb-dc83473c9042\",\"type\":\"UnionRenderers\"},{\"attributes\":{},\"id\":\"329fdd1a-efe6-435e-8814-72654c81c08e\",\"type\":\"CategoricalTickFormatter\"}],\"root_ids\":[\"98dc0e51-a267-4e83-b405-ec009682aed9\"]},\"title\":\"Bokeh Application\",\"version\":\"0.12.16\"}};\n",
       "  var render_items = [{\"docid\":\"d0a1fe2d-3296-411a-86a6-29ffcd6b3927\",\"elementid\":\"bd96ae28-74bb-4200-97aa-bceac6a9712a\",\"modelid\":\"98dc0e51-a267-4e83-b405-ec009682aed9\"}];\n",
       "  root.Bokeh.embed.embed_items_notebook(docs_json, render_items);\n",
       "\n",
       "  }\n",
       "  if (root.Bokeh !== undefined) {\n",
       "    embed_document(root);\n",
       "  } else {\n",
       "    var attempts = 0;\n",
       "    var timer = setInterval(function(root) {\n",
       "      if (root.Bokeh !== undefined) {\n",
       "        embed_document(root);\n",
       "        clearInterval(timer);\n",
       "      }\n",
       "      attempts++;\n",
       "      if (attempts > 100) {\n",
       "        console.log(\"Bokeh: ERROR: Unable to run BokehJS code because BokehJS library is missing\")\n",
       "        clearInterval(timer);\n",
       "      }\n",
       "    }, 10, root)\n",
       "  }\n",
       "})(window);"
      ],
      "application/vnd.bokehjs_exec.v0+json": ""
     },
     "metadata": {
      "application/vnd.bokehjs_exec.v0+json": {
       "id": "98dc0e51-a267-4e83-b405-ec009682aed9"
      }
     },
     "output_type": "display_data"
    },
    {
     "data": {
      "text/markdown": [
       "*FIGURE.* Difference between CLIRAD and CRD in TOA, SFC and net atmosphere flux, in each spectral band."
      ],
      "text/plain": [
       "<IPython.core.display.Markdown object>"
      ]
     },
     "metadata": {},
     "output_type": "display_data"
    },
    {
     "data": {
      "text/html": [
       "<div>\n",
       "<style scoped>\n",
       "    .dataframe tbody tr th:only-of-type {\n",
       "        vertical-align: middle;\n",
       "    }\n",
       "\n",
       "    .dataframe tbody tr th {\n",
       "        vertical-align: top;\n",
       "    }\n",
       "\n",
       "    .dataframe thead th {\n",
       "        text-align: right;\n",
       "    }\n",
       "</style>\n",
       "<table border=\"1\" class=\"dataframe\">\n",
       "  <thead>\n",
       "    <tr style=\"text-align: right;\">\n",
       "      <th></th>\n",
       "      <th>OLR flux</th>\n",
       "      <th>SFC flux</th>\n",
       "      <th>ATM heating</th>\n",
       "    </tr>\n",
       "    <tr>\n",
       "      <th>Sum over bands</th>\n",
       "      <th></th>\n",
       "      <th></th>\n",
       "      <th></th>\n",
       "    </tr>\n",
       "  </thead>\n",
       "  <tbody>\n",
       "    <tr>\n",
       "      <th>CLIRAD (single-run) - CRD</th>\n",
       "      <td>0.84</td>\n",
       "      <td>-0.44</td>\n",
       "      <td>169.72</td>\n",
       "    </tr>\n",
       "    <tr>\n",
       "      <th>CRD</th>\n",
       "      <td>-201.06</td>\n",
       "      <td>166.03</td>\n",
       "      <td>-119.67</td>\n",
       "    </tr>\n",
       "  </tbody>\n",
       "</table>\n",
       "</div>"
      ],
      "text/plain": [
       "                           OLR flux  SFC flux  ATM heating\n",
       "Sum over bands                                            \n",
       "CLIRAD (single-run) - CRD      0.84     -0.44       169.72\n",
       "CRD                         -201.06    166.03      -119.67"
      ]
     },
     "metadata": {},
     "output_type": "display_data"
    },
    {
     "data": {
      "text/markdown": [
       "*TABLE.* Difference between CLIRAD and CRD in TOA, SFC and net atmosphere flux, over all spectral bands. CRD's TOA, SFC and net atmosphere flux, over all spectral bands."
      ],
      "text/plain": [
       "<IPython.core.display.Markdown object>"
      ]
     },
     "metadata": {},
     "output_type": "display_data"
    },
    {
     "data": {
      "text/html": [
       "<a id=\"Cooling_rates._trp.\"></a>"
      ],
      "text/plain": [
       "<IPython.core.display.HTML object>"
      ]
     },
     "metadata": {},
     "output_type": "display_data"
    },
    {
     "data": {
      "text/markdown": [
       "# Cooling rates. trp."
      ],
      "text/plain": [
       "<IPython.core.display.Markdown object>"
      ]
     },
     "metadata": {},
     "output_type": "display_data"
    },
    {
     "data": {
      "text/html": [
       "\n",
       "<div class=\"bk-root\">\n",
       "    <div class=\"bk-plotdiv\" id=\"2c3e4478-289a-49f5-acb0-8105548d302e\"></div>\n",
       "</div>"
      ]
     },
     "metadata": {},
     "output_type": "display_data"
    },
    {
     "data": {
      "application/javascript": [
       "(function(root) {\n",
       "  function embed_document(root) {\n",
       "    \n",
       "  var docs_json = {\"66e9ddb6-dc23-40c5-9dc4-7dbb9e360557\":{\"roots\":{\"references\":[{\"attributes\":{\"callback\":null,\"end\":12.208583273105388,\"start\":-0.6033023020843901},\"id\":\"426ac3cf-c827-4a16-8161-cd38f05e0de4\",\"type\":\"Range1d\"},{\"attributes\":{},\"id\":\"4d746f03-ed25-4939-8aa1-eddf179ffb8c\",\"type\":\"BasicTickFormatter\"},{\"attributes\":{\"label\":{\"value\":\"CLIRAD (single-run)\"},\"renderers\":[{\"id\":\"1361fdd5-c55c-4175-8faa-c640c7ad5ac9\",\"type\":\"GlyphRenderer\"}]},\"id\":\"9a050f53-1857-406a-8ff2-7d0304bd5ef3\",\"type\":\"LegendItem\"},{\"attributes\":{\"children\":[{\"id\":\"47529fff-ae6a-4a1d-b063-b093b3fa2013\",\"type\":\"Row\"}]},\"id\":\"187941bb-2c01-486f-bc11-9c5792f42da1\",\"type\":\"Column\"},{\"attributes\":{\"overlay\":{\"id\":\"b28d17ff-c9b2-4cbf-abe8-60724bc1f3c1\",\"type\":\"BoxAnnotation\"}},\"id\":\"b1ab11bf-01a5-4401-94b4-89abb2f8506c\",\"type\":\"BoxZoomTool\"},{\"attributes\":{\"dimension\":1,\"plot\":{\"id\":\"36757ab1-7a13-43af-ba9e-7bd45f99642f\",\"subtype\":\"Figure\",\"type\":\"Plot\"},\"ticker\":{\"id\":\"80d9aca4-64a3-4af3-8a1a-4ae559f5c9d0\",\"type\":\"LogTicker\"}},\"id\":\"8e0e0296-de5e-4aa1-91ca-089f03ab2d02\",\"type\":\"Grid\"},{\"attributes\":{\"above\":[{\"id\":\"8ea7e96e-3392-46d0-8dc9-43e1d6c13f0d\",\"type\":\"Legend\"}],\"below\":[{\"id\":\"385a652c-8af9-4640-bdff-ddac9cbc831f\",\"type\":\"LinearAxis\"}],\"left\":[{\"id\":\"bf9bbc8c-03c4-4f1c-a08e-75cd2fefc1c3\",\"type\":\"LogAxis\"}],\"plot_width\":300,\"renderers\":[{\"id\":\"385a652c-8af9-4640-bdff-ddac9cbc831f\",\"type\":\"LinearAxis\"},{\"id\":\"4b2f5ae8-a503-4718-adb6-2ca96f2bfae3\",\"type\":\"Grid\"},{\"id\":\"bf9bbc8c-03c4-4f1c-a08e-75cd2fefc1c3\",\"type\":\"LogAxis\"},{\"id\":\"8e0e0296-de5e-4aa1-91ca-089f03ab2d02\",\"type\":\"Grid\"},{\"id\":\"13f425a3-5736-4f84-af04-52edd6ccfcbb\",\"type\":\"BoxAnnotation\"},{\"id\":\"f23483c3-01df-49f9-a080-a8cbe8a0c0ed\",\"type\":\"GlyphRenderer\"},{\"id\":\"d9c5302a-5802-4c1c-8bff-fe58e2052805\",\"type\":\"GlyphRenderer\"},{\"id\":\"4f459f26-3cdb-4923-8909-9307331b903f\",\"type\":\"GlyphRenderer\"},{\"id\":\"8ea7e96e-3392-46d0-8dc9-43e1d6c13f0d\",\"type\":\"Legend\"}],\"title\":{\"id\":\"f5edf0a0-15ee-4b23-a25a-046aa3583bcc\",\"type\":\"Title\"},\"toolbar\":{\"id\":\"5503588c-b5d8-45a7-b8e6-131fde607fc0\",\"type\":\"Toolbar\"},\"toolbar_location\":null,\"x_range\":{\"id\":\"426ac3cf-c827-4a16-8161-cd38f05e0de4\",\"type\":\"Range1d\"},\"x_scale\":{\"id\":\"730946ec-8082-458a-9f8f-04dd989524e8\",\"type\":\"LinearScale\"},\"y_range\":{\"id\":\"2374bc5d-3331-4d3b-b7fa-7607e386dd25\",\"type\":\"Range1d\"},\"y_scale\":{\"id\":\"b4aa3535-94e9-402f-8f12-b14de891dcc8\",\"type\":\"LogScale\"}},\"id\":\"36757ab1-7a13-43af-ba9e-7bd45f99642f\",\"subtype\":\"Figure\",\"type\":\"Plot\"},{\"attributes\":{},\"id\":\"a62cf6dc-2eda-40a5-ab41-d4154a4f63dd\",\"type\":\"LinearScale\"},{\"attributes\":{},\"id\":\"8d4d0adc-c750-496e-ab9a-c34bde47d5c5\",\"type\":\"HelpTool\"},{\"attributes\":{},\"id\":\"37062954-8142-4e43-b74e-b95c13e966c6\",\"type\":\"Selection\"},{\"attributes\":{},\"id\":\"5fab6840-0844-4ab5-b304-bb5e16c0384b\",\"type\":\"Selection\"},{\"attributes\":{},\"id\":\"a4e611e0-ef1b-476c-a43b-8409637bfbcb\",\"type\":\"BasicTickFormatter\"},{\"attributes\":{},\"id\":\"9940de9a-a8fd-46e9-8117-4f6746d246a8\",\"type\":\"Selection\"},{\"attributes\":{\"label\":{\"value\":\"CLIRAD (single-run) - CRD\"},\"renderers\":[{\"id\":\"f1e20be2-65d5-468c-bd3c-80fe456035ef\",\"type\":\"GlyphRenderer\"},{\"id\":\"392c1c69-4f49-4c01-8097-b135e1c8fb89\",\"type\":\"GlyphRenderer\"}]},\"id\":\"c7d606b5-8158-47be-94b2-b22b542bf90b\",\"type\":\"LegendItem\"},{\"attributes\":{\"data_source\":{\"id\":\"0636052f-c29f-409b-af69-0f69cb9812ac\",\"type\":\"ColumnDataSource\"},\"glyph\":{\"id\":\"bd96377f-c12f-4ef3-bc53-d90ea6972a27\",\"type\":\"Line\"},\"hover_glyph\":null,\"muted_glyph\":null,\"nonselection_glyph\":{\"id\":\"4ecdda59-1d9e-4cfd-9d20-8d4a786eb8c2\",\"type\":\"Line\"},\"selection_glyph\":null,\"view\":{\"id\":\"77ca03eb-ec6e-4170-aae2-921e08baa1ba\",\"type\":\"CDSView\"}},\"id\":\"206909dd-47b4-479b-b24a-4d7cddf3c83b\",\"type\":\"GlyphRenderer\"},{\"attributes\":{\"ticker\":null},\"id\":\"9cd9e0f1-c5ee-49f9-87c0-311fdcd91d1d\",\"type\":\"LogTickFormatter\"},{\"attributes\":{\"items\":[{\"id\":\"c7d606b5-8158-47be-94b2-b22b542bf90b\",\"type\":\"LegendItem\"}],\"label_text_font_size\":{\"value\":\"8pt\"},\"location\":\"top_center\",\"orientation\":\"horizontal\",\"plot\":{\"id\":\"5cf4fc78-f0db-4560-aa03-a54d2741b4f9\",\"subtype\":\"Figure\",\"type\":\"Plot\"}},\"id\":\"fc1279fc-6aee-442f-8fcc-a5f9858821c4\",\"type\":\"Legend\"},{\"attributes\":{},\"id\":\"026af96c-bfd5-4a31-8ba6-e12f656d71d5\",\"type\":\"PanTool\"},{\"attributes\":{},\"id\":\"3bb76eb6-ab47-4479-85cb-0c145e21d1c2\",\"type\":\"WheelZoomTool\"},{\"attributes\":{\"data_source\":{\"id\":\"327592b3-7a1e-4097-8907-62093b06f93d\",\"type\":\"ColumnDataSource\"},\"glyph\":{\"id\":\"782ccce8-2aba-4638-ac4a-4e993f94e07a\",\"type\":\"Line\"},\"hover_glyph\":null,\"muted_glyph\":null,\"nonselection_glyph\":{\"id\":\"f504db44-0343-49d3-b7e2-8dd9e006ac0f\",\"type\":\"Line\"},\"selection_glyph\":null,\"view\":{\"id\":\"91889b88-2d08-462b-a60b-064d1248ed47\",\"type\":\"CDSView\"}},\"id\":\"392c1c69-4f49-4c01-8097-b135e1c8fb89\",\"type\":\"GlyphRenderer\"},{\"attributes\":{\"plot\":null,\"text\":\"\"},\"id\":\"132a791c-b5fd-4275-aff7-75456b6a3cec\",\"type\":\"Title\"},{\"attributes\":{},\"id\":\"111f3651-96e2-410b-9691-15643fca38b2\",\"type\":\"UnionRenderers\"},{\"attributes\":{\"items\":[{\"id\":\"152f2b76-6ccb-46de-b029-0edd7cd2ccab\",\"type\":\"LegendItem\"},{\"id\":\"b9024af4-a35d-4aa8-99c3-0351dfbf8ac1\",\"type\":\"LegendItem\"}],\"label_text_font_size\":{\"value\":\"8pt\"},\"location\":\"top_center\",\"orientation\":\"horizontal\",\"plot\":{\"id\":\"36757ab1-7a13-43af-ba9e-7bd45f99642f\",\"subtype\":\"Figure\",\"type\":\"Plot\"}},\"id\":\"8ea7e96e-3392-46d0-8dc9-43e1d6c13f0d\",\"type\":\"Legend\"},{\"attributes\":{\"active_drag\":\"auto\",\"active_inspect\":\"auto\",\"active_scroll\":\"auto\",\"active_tap\":\"auto\",\"tools\":[{\"id\":\"026af96c-bfd5-4a31-8ba6-e12f656d71d5\",\"type\":\"PanTool\"},{\"id\":\"199ecdcd-8f1c-4dc0-a0bd-8983d705d48f\",\"type\":\"WheelZoomTool\"},{\"id\":\"b1ab11bf-01a5-4401-94b4-89abb2f8506c\",\"type\":\"BoxZoomTool\"},{\"id\":\"cf06d5ff-32cf-4479-8ab1-a3e7d273585e\",\"type\":\"SaveTool\"},{\"id\":\"5fbd8824-8a14-4912-a8f7-01a961a080ea\",\"type\":\"ResetTool\"},{\"id\":\"8d4d0adc-c750-496e-ab9a-c34bde47d5c5\",\"type\":\"HelpTool\"}]},\"id\":\"92191cfa-b1be-400b-9b09-15e9f161d099\",\"type\":\"Toolbar\"},{\"attributes\":{},\"id\":\"736a7d04-74d4-42ec-8164-a2cb2e0c5450\",\"type\":\"LogScale\"},{\"attributes\":{\"line_alpha\":0.1,\"line_color\":\"#1f77b4\",\"line_width\":1.5,\"x\":{\"field\":\"x\"},\"y\":{\"field\":\"y\"}},\"id\":\"4ecdda59-1d9e-4cfd-9d20-8d4a786eb8c2\",\"type\":\"Line\"},{\"attributes\":{\"callback\":null,\"end\":0.01,\"start\":1020},\"id\":\"2374bc5d-3331-4d3b-b7fa-7607e386dd25\",\"type\":\"Range1d\"},{\"attributes\":{},\"id\":\"52818827-4d7b-4e83-b05b-69d4d2c1c24e\",\"type\":\"UnionRenderers\"},{\"attributes\":{\"plot\":{\"id\":\"36757ab1-7a13-43af-ba9e-7bd45f99642f\",\"subtype\":\"Figure\",\"type\":\"Plot\"},\"ticker\":{\"id\":\"976a29cd-cd10-4efd-a2a4-ee86e15066e9\",\"type\":\"BasicTicker\"}},\"id\":\"4b2f5ae8-a503-4718-adb6-2ca96f2bfae3\",\"type\":\"Grid\"},{\"attributes\":{},\"id\":\"2ce90509-70b1-441a-858c-8a30a6e3fe2a\",\"type\":\"Selection\"},{\"attributes\":{\"bottom_units\":\"screen\",\"fill_alpha\":{\"value\":0.5},\"fill_color\":{\"value\":\"lightgrey\"},\"left_units\":\"screen\",\"level\":\"overlay\",\"line_alpha\":{\"value\":1.0},\"line_color\":{\"value\":\"black\"},\"line_dash\":[4,4],\"line_width\":{\"value\":2},\"plot\":null,\"render_mode\":\"css\",\"right_units\":\"screen\",\"top_units\":\"screen\"},\"id\":\"13f425a3-5736-4f84-af04-52edd6ccfcbb\",\"type\":\"BoxAnnotation\"},{\"attributes\":{},\"id\":\"c68814c9-95f0-4909-8e65-fd9ca3dc1624\",\"type\":\"Selection\"},{\"attributes\":{},\"id\":\"e8b75d80-533d-46a7-967c-57f91d7922d7\",\"type\":\"BasicTickFormatter\"},{\"attributes\":{\"overlay\":{\"id\":\"13f425a3-5736-4f84-af04-52edd6ccfcbb\",\"type\":\"BoxAnnotation\"}},\"id\":\"d4d6320a-7ad2-4402-a2dd-3edef48d2ea6\",\"type\":\"BoxZoomTool\"},{\"attributes\":{\"bottom_units\":\"screen\",\"fill_alpha\":{\"value\":0.5},\"fill_color\":{\"value\":\"lightgrey\"},\"left_units\":\"screen\",\"level\":\"overlay\",\"line_alpha\":{\"value\":1.0},\"line_color\":{\"value\":\"black\"},\"line_dash\":[4,4],\"line_width\":{\"value\":2},\"plot\":null,\"render_mode\":\"css\",\"right_units\":\"screen\",\"top_units\":\"screen\"},\"id\":\"b28d17ff-c9b2-4cbf-abe8-60724bc1f3c1\",\"type\":\"BoxAnnotation\"},{\"attributes\":{},\"id\":\"976a29cd-cd10-4efd-a2a4-ee86e15066e9\",\"type\":\"BasicTicker\"},{\"attributes\":{},\"id\":\"7794f3a2-59cf-4efb-900e-addf7a73fb67\",\"type\":\"UnionRenderers\"},{\"attributes\":{\"axis_label\":\"pressure [mb]\",\"formatter\":{\"id\":\"9cd9e0f1-c5ee-49f9-87c0-311fdcd91d1d\",\"type\":\"LogTickFormatter\"},\"plot\":{\"id\":\"36757ab1-7a13-43af-ba9e-7bd45f99642f\",\"subtype\":\"Figure\",\"type\":\"Plot\"},\"ticker\":{\"id\":\"80d9aca4-64a3-4af3-8a1a-4ae559f5c9d0\",\"type\":\"LogTicker\"}},\"id\":\"bf9bbc8c-03c4-4f1c-a08e-75cd2fefc1c3\",\"type\":\"LogAxis\"},{\"attributes\":{\"source\":{\"id\":\"327592b3-7a1e-4097-8907-62093b06f93d\",\"type\":\"ColumnDataSource\"}},\"id\":\"91889b88-2d08-462b-a60b-064d1248ed47\",\"type\":\"CDSView\"},{\"attributes\":{},\"id\":\"0fb65c24-8563-4425-b946-6f9c49c19c8c\",\"type\":\"HelpTool\"},{\"attributes\":{},\"id\":\"82b9b897-a218-4b08-8823-dd9e033b9213\",\"type\":\"SaveTool\"},{\"attributes\":{\"plot\":null,\"text\":\"\"},\"id\":\"f5edf0a0-15ee-4b23-a25a-046aa3583bcc\",\"type\":\"Title\"},{\"attributes\":{\"axis_label\":\"cooling rate [K/day]\",\"formatter\":{\"id\":\"e8b75d80-533d-46a7-967c-57f91d7922d7\",\"type\":\"BasicTickFormatter\"},\"plot\":{\"id\":\"36757ab1-7a13-43af-ba9e-7bd45f99642f\",\"subtype\":\"Figure\",\"type\":\"Plot\"},\"ticker\":{\"id\":\"976a29cd-cd10-4efd-a2a4-ee86e15066e9\",\"type\":\"BasicTicker\"}},\"id\":\"385a652c-8af9-4640-bdff-ddac9cbc831f\",\"type\":\"LinearAxis\"},{\"attributes\":{},\"id\":\"199ecdcd-8f1c-4dc0-a0bd-8983d705d48f\",\"type\":\"WheelZoomTool\"},{\"attributes\":{},\"id\":\"97c3c4ec-dc49-4f5a-8810-b32e637b6bc9\",\"type\":\"PanTool\"},{\"attributes\":{},\"id\":\"b8807d87-76e5-40bb-a916-ec8ade7af5bf\",\"type\":\"ResetTool\"},{\"attributes\":{\"active_drag\":\"auto\",\"active_inspect\":\"auto\",\"active_scroll\":\"auto\",\"active_tap\":\"auto\",\"tools\":[{\"id\":\"97c3c4ec-dc49-4f5a-8810-b32e637b6bc9\",\"type\":\"PanTool\"},{\"id\":\"3bb76eb6-ab47-4479-85cb-0c145e21d1c2\",\"type\":\"WheelZoomTool\"},{\"id\":\"d4d6320a-7ad2-4402-a2dd-3edef48d2ea6\",\"type\":\"BoxZoomTool\"},{\"id\":\"82b9b897-a218-4b08-8823-dd9e033b9213\",\"type\":\"SaveTool\"},{\"id\":\"b8807d87-76e5-40bb-a916-ec8ade7af5bf\",\"type\":\"ResetTool\"},{\"id\":\"0fb65c24-8563-4425-b946-6f9c49c19c8c\",\"type\":\"HelpTool\"}]},\"id\":\"5503588c-b5d8-45a7-b8e6-131fde607fc0\",\"type\":\"Toolbar\"},{\"attributes\":{},\"id\":\"c6b6345c-df13-43bf-a3ae-ca5e8e331caa\",\"type\":\"UnionRenderers\"},{\"attributes\":{\"label\":{\"value\":\"CRD\"},\"renderers\":[{\"id\":\"9ce23d16-c583-4610-a2af-dd720e05ea18\",\"type\":\"GlyphRenderer\"},{\"id\":\"206909dd-47b4-479b-b24a-4d7cddf3c83b\",\"type\":\"GlyphRenderer\"}]},\"id\":\"19718b6c-790a-4dba-8c10-855d8cdcb2ec\",\"type\":\"LegendItem\"},{\"attributes\":{},\"id\":\"cf06d5ff-32cf-4479-8ab1-a3e7d273585e\",\"type\":\"SaveTool\"},{\"attributes\":{},\"id\":\"b4aa3535-94e9-402f-8f12-b14de891dcc8\",\"type\":\"LogScale\"},{\"attributes\":{\"callback\":null,\"data\":{\"x\":{\"__ndarray__\":\"lAalGK/8Q8CGE5pWDoMgwKSl1BqIsQLA3tedj0Ej/D/B1EsfxC8OQNnO7ksNzw5ASFT1jd9TBED76MoyIs7mP/K34Ws9Fui/B5SoLb0p9b9BHa9TKD3xv87XqD/ppt6/njd2qq/Xtj+IsTWs3Z7dP1IiZ/m+T+E/3uUthbDQ1j8unlvPSSGyPwqYKdAPatG/ob4dgAA44b+hGTDqb0/hvy5r3sa3nNO/PTeDO117ur+OD4jURPWgv4GIasHWxcu/WtYff6dK17+vawS7/i67v0WK81haitQ/KZhcREWt1T8/X2I46pe4PzW+eboZD4o/D9WQrnR0zj/ggxshrEHUP2hEyNKEZcE/X3xvHBvvq7/PFtbGvpWavye0G7YmcqM/gBmhHJD2nL+RdOrQWOSyv57C6w9C2a6/J7MHaNP5q7/hjWIWltauv5rxI9BByq+/qdJtmlm9sb8lWa88jlKov85OPMKYgLC//kbGNGdxv78v3VhOuDy0v/UW3BRHp66/jqAqyq5Utb8wV56ocj+1v8sdzS+mlqy/NrHRaTa0n7/4DIGn8p6UvyR46M5jOpa/WroCp4Eanr9uY8OXpFKfvyXpt68D546/m49UYHpbjj9RoDbaDBimP3AkZA7scqw/7g5nRouopz8Fg7FT5sWXPwCwL9oJTQc/RLPy+5mifb8AMtXr1YlkP+Yr2AP74Zk/tOXHt+32qz9ZQz3YvTCyP5KBroWe37I/zRPAZbbxsz80mqt6IQW1P3RCh8DaH7Y/QEBcyJMjuj/gQYCMeCu+P5L4jnpFvFfA\",\"dtype\":\"float64\",\"shape\":[75]},\"y\":{\"__ndarray__\":\"GhExyth1ND/Sv8nbtpRIP2vylNV0PVE/aTum7souWD/At0SJ8fVgPw3Iuahxymc/MSNhhJWvcD/bTfBN02d3P2zb5nxnaoA/CD5h5MAGhz8NmeH1TyaQP+zrCsc9p5Y/LbKd76fGnz/bLW5ISEmmPww9YvTcQq8/JV2OstnstT8Er5Y7M8G+P0c+r3jqkcU/5h99k6ZBzj88bCIzFzjVP4enV8oyxN0//yH99nXg5D8qOpLLf0jtP5kqGJXUifQ/c9cS8kHP/D+/DpwzojQEQIEmwoanVwxA4lgXt9HgE0BSSZ2AJuIbQAMJih9jjiNA5q4l5INuK0AwTKYKRj0zQNv5fmq8/DpAaCJseHrtQkB/+zpwzoxKQM3MzMzMeFJAZmZmZmZqWEAAAAAAAFxeQM3MzMzMJmJAmpmZmZkfZUBmZmZmZhhoQDMzMzMzEWtAAAAAAAAKbkBmZmZmZoFwQM3MzMzM/XFAMzMzMzN6c0CamZmZmfZ0QAAAAAAAc3ZAZmZmZmbvd0DNzMzMzGt5QDMzMzMz6HpAmpmZmZlkfEAAAAAAAOF9QGZmZmZmXX9AZmZmZuZsgECamZmZGSuBQM3MzMxM6YFAAAAAAICngkAzMzMzs2WDQGZmZmbmI4RAmpmZmRnihEDNzMzMTKCFQAAAAACAXoZAMzMzM7Mch0BmZmZm5tqHQJqZmZkZmYhAzczMzExXiUAAAAAAgBWKQDMzMzOz04pAZmZmZuaRi0CamZmZGVCMQM3MzMxMDo1AAAAAAIDMjUAzMzMzs4qOQGZmZmbmSI9A\",\"dtype\":\"float64\",\"shape\":[75]}},\"selected\":{\"id\":\"32ef0c5e-1989-4b5a-9af6-de33ac6e9568\",\"type\":\"Selection\"},\"selection_policy\":{\"id\":\"847d188e-ffc2-42fb-9676-01ac09610e7c\",\"type\":\"UnionRenderers\"}},\"id\":\"e9380391-cd17-4a2f-b1ff-f711fccc3ab5\",\"type\":\"ColumnDataSource\"},{\"attributes\":{\"children\":[{\"id\":\"cdadd4f2-f44a-47bf-af57-1caf3f7a1e5b\",\"subtype\":\"Figure\",\"type\":\"Plot\"},{\"id\":\"36757ab1-7a13-43af-ba9e-7bd45f99642f\",\"subtype\":\"Figure\",\"type\":\"Plot\"},{\"id\":\"5cf4fc78-f0db-4560-aa03-a54d2741b4f9\",\"subtype\":\"Figure\",\"type\":\"Plot\"}]},\"id\":\"47529fff-ae6a-4a1d-b063-b093b3fa2013\",\"type\":\"Row\"},{\"attributes\":{\"callback\":null,\"end\":0.5596213662811859,\"start\":-1.3413269281465863},\"id\":\"2bf64d05-0625-4467-a4a4-b5313b1e691e\",\"type\":\"Range1d\"},{\"attributes\":{\"source\":{\"id\":\"0636052f-c29f-409b-af69-0f69cb9812ac\",\"type\":\"ColumnDataSource\"}},\"id\":\"77ca03eb-ec6e-4170-aae2-921e08baa1ba\",\"type\":\"CDSView\"},{\"attributes\":{\"num_minor_ticks\":10},\"id\":\"80d9aca4-64a3-4af3-8a1a-4ae559f5c9d0\",\"type\":\"LogTicker\"},{\"attributes\":{\"line_alpha\":0.1,\"line_color\":\"#1f77b4\",\"line_dash\":[6],\"line_width\":5,\"x\":{\"field\":\"x\"},\"y\":{\"field\":\"y\"}},\"id\":\"187dea05-2540-4a5e-a5af-dfc300d8e3f5\",\"type\":\"Line\"},{\"attributes\":{},\"id\":\"5fbd8824-8a14-4912-a8f7-01a961a080ea\",\"type\":\"ResetTool\"},{\"attributes\":{},\"id\":\"730946ec-8082-458a-9f8f-04dd989524e8\",\"type\":\"LinearScale\"},{\"attributes\":{\"axis_label\":\"cooling rate [K/day]\",\"formatter\":{\"id\":\"035d1677-53d5-4318-be9e-52aaf734c7ee\",\"type\":\"BasicTickFormatter\"},\"plot\":{\"id\":\"5cf4fc78-f0db-4560-aa03-a54d2741b4f9\",\"subtype\":\"Figure\",\"type\":\"Plot\"},\"ticker\":{\"id\":\"47737a3b-2bf6-4a13-81b2-582af9cb6b68\",\"type\":\"BasicTicker\"}},\"id\":\"d33c9ddb-dc3d-4048-9dc2-2de887211945\",\"type\":\"LinearAxis\"},{\"attributes\":{},\"id\":\"47737a3b-2bf6-4a13-81b2-582af9cb6b68\",\"type\":\"BasicTicker\"},{\"attributes\":{\"active_drag\":\"auto\",\"active_inspect\":\"auto\",\"active_scroll\":\"auto\",\"active_tap\":\"auto\",\"tools\":[{\"id\":\"554da02b-484d-435b-8985-c4c0c72ea772\",\"type\":\"PanTool\"},{\"id\":\"2e63d88e-8a43-4383-b07f-84deded594df\",\"type\":\"WheelZoomTool\"},{\"id\":\"0c8943c0-d41f-4c7f-9d20-fd786624a763\",\"type\":\"BoxZoomTool\"},{\"id\":\"8dd63df3-810d-4316-a840-e644341fa7d9\",\"type\":\"SaveTool\"},{\"id\":\"abb1325f-2378-4922-9db6-d948a4b8d386\",\"type\":\"ResetTool\"},{\"id\":\"b9ad5146-a7d3-4ac1-ae71-91addbb6ae58\",\"type\":\"HelpTool\"}]},\"id\":\"369f2d9a-c141-4b1d-b033-8eee9f570ccf\",\"type\":\"Toolbar\"},{\"attributes\":{},\"id\":\"1247d0e7-5c08-4d0f-835b-6c1ca90ed95c\",\"type\":\"UnionRenderers\"},{\"attributes\":{\"callback\":null,\"end\":0.01,\"start\":1020},\"id\":\"b1a29ae8-d7da-4683-81a3-2a11d40280a4\",\"type\":\"Range1d\"},{\"attributes\":{\"dimension\":1,\"plot\":{\"id\":\"cdadd4f2-f44a-47bf-af57-1caf3f7a1e5b\",\"subtype\":\"Figure\",\"type\":\"Plot\"},\"ticker\":{\"id\":\"9e4c15a2-e43a-450b-9691-ada8a1e015c8\",\"type\":\"BasicTicker\"}},\"id\":\"72d457b4-8712-41b4-9e3a-972687db9cc8\",\"type\":\"Grid\"},{\"attributes\":{\"callback\":null,\"data\":{\"x\":{\"__ndarray__\":\"+91suA2FRUDEhDu3BNNCQJGH2RpTtEFAEt02UCgdQEDVxLSQChY8QIhbJRqUKjdAYVUzOB7pMUDTM3KX3QQqQEK9BNB3SCJA6NjTUF6dGkBKgvPiLzsVQL0Sjm8nBhJA/DvUw9qUDUDkg8wWHTEDQPqPmlKB6f4/+3yWOi+sBUBavERq4UMMQLVhH27xnBBAfwWOfm3eE0DummfvB08ZQAaUixg3DCFArKetlIYCJ0Cs7TuihhkoQB+fXFuzhCRAQi/iYYwnIUBZuHizlFYcQC1AvJM7WRhAg3T9xFgsFEA0HebAUMcPQFKxsGLKOwlAuRjZ7ZQ7BUAmhydNp3kAQNl7ZywnsfQ/bePIZtQK5j8GONhrav7QPxDDyUYoicG/tW4zfJCS3r80aRMuziHYv2KS/mjbLl+/fwV3ehhXxT+O1XwUPq7YP7JEdD4ju+w/6QCXA6269j/1X/IRTNf9P3eY3xv76wBA9MudvM6EAUC4nZXZbkcCQJZjjxetTAJAN+UlS5cWAUCXT334HoEAQPbZ2qEuTwBAxddFMwkvAEAgAG4tOAQAQIwWdH+UnP8/BWSLQ0Y//z+ZMGChRAf/P7Wo5GjCDf8/mQ+WHj5C/z+7FkMl7WP/Px29Y3brZP8/oy7TqCBM/z/lglFOVvr+P18JCfCU2P0/cmhc+6zJ/D8DIuChwy/6P76YinnXm/c/Z9o81bPt9T/nsnvwZn70P/MHGE0DxPM/L8l+pxuV8z/YaqQova7zP2CtsiQ0EfQ/P+H9lMkD9T+yagFyKrv2P62LMWn5NlfA\",\"dtype\":\"float64\",\"shape\":[75]},\"y\":{\"__ndarray__\":\"GhExyth1ND/Sv8nbtpRIP2vylNV0PVE/aTum7souWD/At0SJ8fVgPw3Iuahxymc/MSNhhJWvcD/bTfBN02d3P2zb5nxnaoA/CD5h5MAGhz8NmeH1TyaQP+zrCsc9p5Y/LbKd76fGnz/bLW5ISEmmPww9YvTcQq8/JV2OstnstT8Er5Y7M8G+P0c+r3jqkcU/5h99k6ZBzj88bCIzFzjVP4enV8oyxN0//yH99nXg5D8qOpLLf0jtP5kqGJXUifQ/c9cS8kHP/D+/DpwzojQEQIEmwoanVwxA4lgXt9HgE0BSSZ2AJuIbQAMJih9jjiNA5q4l5INuK0AwTKYKRj0zQNv5fmq8/DpAaCJseHrtQkB/+zpwzoxKQM3MzMzMeFJAZmZmZmZqWEAAAAAAAFxeQM3MzMzMJmJAmpmZmZkfZUBmZmZmZhhoQDMzMzMzEWtAAAAAAAAKbkBmZmZmZoFwQM3MzMzM/XFAMzMzMzN6c0CamZmZmfZ0QAAAAAAAc3ZAZmZmZmbvd0DNzMzMzGt5QDMzMzMz6HpAmpmZmZlkfEAAAAAAAOF9QGZmZmZmXX9AZmZmZuZsgECamZmZGSuBQM3MzMxM6YFAAAAAAICngkAzMzMzs2WDQGZmZmbmI4RAmpmZmRnihEDNzMzMTKCFQAAAAACAXoZAMzMzM7Mch0BmZmZm5tqHQJqZmZkZmYhAzczMzExXiUAAAAAAgBWKQDMzMzOz04pAZmZmZuaRi0CamZmZGVCMQM3MzMxMDo1AAAAAAIDMjUAzMzMzs4qOQGZmZmbmSI9A\",\"dtype\":\"float64\",\"shape\":[75]}},\"selected\":{\"id\":\"9940de9a-a8fd-46e9-8117-4f6746d246a8\",\"type\":\"Selection\"},\"selection_policy\":{\"id\":\"c6b6345c-df13-43bf-a3ae-ca5e8e331caa\",\"type\":\"UnionRenderers\"}},\"id\":\"26e7bda9-e49e-4c1f-bc33-8eea903469bc\",\"type\":\"ColumnDataSource\"},{\"attributes\":{\"num_minor_ticks\":10},\"id\":\"0c387ea5-380d-4b7c-b1e5-6219623e680a\",\"type\":\"LogTicker\"},{\"attributes\":{\"callback\":null,\"end\":3.3161599485207005,\"start\":-93.8112018714507},\"id\":\"1e508f82-2c01-40c9-8358-799aca90fcfc\",\"type\":\"Range1d\"},{\"attributes\":{},\"id\":\"3be18343-e03f-46a9-bda9-0cb30d416b39\",\"type\":\"LinearScale\"},{\"attributes\":{\"overlay\":{\"id\":\"420023a1-691d-4cf6-9569-2d506f3c3872\",\"type\":\"BoxAnnotation\"}},\"id\":\"0c8943c0-d41f-4c7f-9d20-fd786624a763\",\"type\":\"BoxZoomTool\"},{\"attributes\":{\"plot\":{\"id\":\"5cf4fc78-f0db-4560-aa03-a54d2741b4f9\",\"subtype\":\"Figure\",\"type\":\"Plot\"},\"ticker\":{\"id\":\"47737a3b-2bf6-4a13-81b2-582af9cb6b68\",\"type\":\"BasicTicker\"}},\"id\":\"f1772923-5d35-4612-a273-1cec39691647\",\"type\":\"Grid\"},{\"attributes\":{},\"id\":\"b9ad5146-a7d3-4ac1-ae71-91addbb6ae58\",\"type\":\"HelpTool\"},{\"attributes\":{},\"id\":\"8b160eba-3114-43e0-be8e-daeb77e67d00\",\"type\":\"LinearScale\"},{\"attributes\":{\"above\":[{\"id\":\"36b26e5e-b08d-4a25-babb-12f912d2dd83\",\"type\":\"Legend\"}],\"below\":[{\"id\":\"e450c893-f395-451a-a81a-cbe6e4ba2afa\",\"type\":\"LinearAxis\"}],\"left\":[{\"id\":\"a8f18702-820e-440b-9722-b32f0637d86e\",\"type\":\"LinearAxis\"}],\"plot_width\":300,\"renderers\":[{\"id\":\"e450c893-f395-451a-a81a-cbe6e4ba2afa\",\"type\":\"LinearAxis\"},{\"id\":\"e0278629-05c4-4ea2-a5ee-b0b54538a70a\",\"type\":\"Grid\"},{\"id\":\"a8f18702-820e-440b-9722-b32f0637d86e\",\"type\":\"LinearAxis\"},{\"id\":\"72d457b4-8712-41b4-9e3a-972687db9cc8\",\"type\":\"Grid\"},{\"id\":\"420023a1-691d-4cf6-9569-2d506f3c3872\",\"type\":\"BoxAnnotation\"},{\"id\":\"1361fdd5-c55c-4175-8faa-c640c7ad5ac9\",\"type\":\"GlyphRenderer\"},{\"id\":\"9ce23d16-c583-4610-a2af-dd720e05ea18\",\"type\":\"GlyphRenderer\"},{\"id\":\"206909dd-47b4-479b-b24a-4d7cddf3c83b\",\"type\":\"GlyphRenderer\"},{\"id\":\"36b26e5e-b08d-4a25-babb-12f912d2dd83\",\"type\":\"Legend\"}],\"title\":{\"id\":\"132a791c-b5fd-4275-aff7-75456b6a3cec\",\"type\":\"Title\"},\"toolbar\":{\"id\":\"369f2d9a-c141-4b1d-b033-8eee9f570ccf\",\"type\":\"Toolbar\"},\"toolbar_location\":null,\"x_range\":{\"id\":\"1e508f82-2c01-40c9-8358-799aca90fcfc\",\"type\":\"Range1d\"},\"x_scale\":{\"id\":\"8b160eba-3114-43e0-be8e-daeb77e67d00\",\"type\":\"LinearScale\"},\"y_range\":{\"id\":\"9f960b1b-640d-4ca6-ba90-04eab69aee1f\",\"type\":\"Range1d\"},\"y_scale\":{\"id\":\"3be18343-e03f-46a9-bda9-0cb30d416b39\",\"type\":\"LinearScale\"}},\"id\":\"cdadd4f2-f44a-47bf-af57-1caf3f7a1e5b\",\"subtype\":\"Figure\",\"type\":\"Plot\"},{\"attributes\":{\"bottom_units\":\"screen\",\"fill_alpha\":{\"value\":0.5},\"fill_color\":{\"value\":\"lightgrey\"},\"left_units\":\"screen\",\"level\":\"overlay\",\"line_alpha\":{\"value\":1.0},\"line_color\":{\"value\":\"black\"},\"line_dash\":[4,4],\"line_width\":{\"value\":2},\"plot\":null,\"render_mode\":\"css\",\"right_units\":\"screen\",\"top_units\":\"screen\"},\"id\":\"420023a1-691d-4cf6-9569-2d506f3c3872\",\"type\":\"BoxAnnotation\"},{\"attributes\":{},\"id\":\"1d74f324-9cf0-4b14-aaf1-28d6b3414df7\",\"type\":\"BasicTicker\"},{\"attributes\":{\"dimension\":1,\"plot\":{\"id\":\"5cf4fc78-f0db-4560-aa03-a54d2741b4f9\",\"subtype\":\"Figure\",\"type\":\"Plot\"},\"ticker\":{\"id\":\"0c387ea5-380d-4b7c-b1e5-6219623e680a\",\"type\":\"LogTicker\"}},\"id\":\"0f1897de-55e9-4feb-a2e9-ad55e333f2f1\",\"type\":\"Grid\"},{\"attributes\":{\"toolbar\":{\"id\":\"7285e2ab-f6d0-40f7-b926-bcef46382fbf\",\"type\":\"ProxyToolbar\"},\"toolbar_location\":\"above\"},\"id\":\"2f08cb1a-cd4a-4fcb-9f84-e501f411aa11\",\"type\":\"ToolbarBox\"},{\"attributes\":{\"axis_label\":\"pressure [mb]\",\"formatter\":{\"id\":\"4d746f03-ed25-4939-8aa1-eddf179ffb8c\",\"type\":\"BasicTickFormatter\"},\"plot\":{\"id\":\"cdadd4f2-f44a-47bf-af57-1caf3f7a1e5b\",\"subtype\":\"Figure\",\"type\":\"Plot\"},\"ticker\":{\"id\":\"9e4c15a2-e43a-450b-9691-ada8a1e015c8\",\"type\":\"BasicTicker\"}},\"id\":\"a8f18702-820e-440b-9722-b32f0637d86e\",\"type\":\"LinearAxis\"},{\"attributes\":{\"children\":[{\"id\":\"2f08cb1a-cd4a-4fcb-9f84-e501f411aa11\",\"type\":\"ToolbarBox\"},{\"id\":\"187941bb-2c01-486f-bc11-9c5792f42da1\",\"type\":\"Column\"}]},\"id\":\"ccbed3bf-fbf8-4e9a-939b-63e0455900b3\",\"type\":\"Column\"},{\"attributes\":{\"plot\":{\"id\":\"cdadd4f2-f44a-47bf-af57-1caf3f7a1e5b\",\"subtype\":\"Figure\",\"type\":\"Plot\"},\"ticker\":{\"id\":\"1d74f324-9cf0-4b14-aaf1-28d6b3414df7\",\"type\":\"BasicTicker\"}},\"id\":\"e0278629-05c4-4ea2-a5ee-b0b54538a70a\",\"type\":\"Grid\"},{\"attributes\":{},\"id\":\"554da02b-484d-435b-8985-c4c0c72ea772\",\"type\":\"PanTool\"},{\"attributes\":{},\"id\":\"2e63d88e-8a43-4383-b07f-84deded594df\",\"type\":\"WheelZoomTool\"},{\"attributes\":{},\"id\":\"7e28870c-2b54-4b2d-974b-0e034b3d9fbf\",\"type\":\"Selection\"},{\"attributes\":{},\"id\":\"8dd63df3-810d-4316-a840-e644341fa7d9\",\"type\":\"SaveTool\"},{\"attributes\":{},\"id\":\"abb1325f-2378-4922-9db6-d948a4b8d386\",\"type\":\"ResetTool\"},{\"attributes\":{\"tools\":[{\"id\":\"554da02b-484d-435b-8985-c4c0c72ea772\",\"type\":\"PanTool\"},{\"id\":\"2e63d88e-8a43-4383-b07f-84deded594df\",\"type\":\"WheelZoomTool\"},{\"id\":\"0c8943c0-d41f-4c7f-9d20-fd786624a763\",\"type\":\"BoxZoomTool\"},{\"id\":\"8dd63df3-810d-4316-a840-e644341fa7d9\",\"type\":\"SaveTool\"},{\"id\":\"abb1325f-2378-4922-9db6-d948a4b8d386\",\"type\":\"ResetTool\"},{\"id\":\"b9ad5146-a7d3-4ac1-ae71-91addbb6ae58\",\"type\":\"HelpTool\"},{\"id\":\"97c3c4ec-dc49-4f5a-8810-b32e637b6bc9\",\"type\":\"PanTool\"},{\"id\":\"3bb76eb6-ab47-4479-85cb-0c145e21d1c2\",\"type\":\"WheelZoomTool\"},{\"id\":\"d4d6320a-7ad2-4402-a2dd-3edef48d2ea6\",\"type\":\"BoxZoomTool\"},{\"id\":\"82b9b897-a218-4b08-8823-dd9e033b9213\",\"type\":\"SaveTool\"},{\"id\":\"b8807d87-76e5-40bb-a916-ec8ade7af5bf\",\"type\":\"ResetTool\"},{\"id\":\"0fb65c24-8563-4425-b946-6f9c49c19c8c\",\"type\":\"HelpTool\"},{\"id\":\"026af96c-bfd5-4a31-8ba6-e12f656d71d5\",\"type\":\"PanTool\"},{\"id\":\"199ecdcd-8f1c-4dc0-a0bd-8983d705d48f\",\"type\":\"WheelZoomTool\"},{\"id\":\"b1ab11bf-01a5-4401-94b4-89abb2f8506c\",\"type\":\"BoxZoomTool\"},{\"id\":\"cf06d5ff-32cf-4479-8ab1-a3e7d273585e\",\"type\":\"SaveTool\"},{\"id\":\"5fbd8824-8a14-4912-a8f7-01a961a080ea\",\"type\":\"ResetTool\"},{\"id\":\"8d4d0adc-c750-496e-ab9a-c34bde47d5c5\",\"type\":\"HelpTool\"}]},\"id\":\"7285e2ab-f6d0-40f7-b926-bcef46382fbf\",\"type\":\"ProxyToolbar\"},{\"attributes\":{},\"id\":\"9e4c15a2-e43a-450b-9691-ada8a1e015c8\",\"type\":\"BasicTicker\"},{\"attributes\":{\"line_alpha\":0.6,\"line_color\":\"#377eb8\",\"line_dash\":[6],\"line_width\":5,\"x\":{\"field\":\"x\"},\"y\":{\"field\":\"y\"}},\"id\":\"4c3453b3-3e26-415d-ac68-1ba47fd69cdd\",\"type\":\"Line\"},{\"attributes\":{\"axis_label\":\"pressure [mb]\",\"formatter\":{\"id\":\"0a90ed39-25a8-4794-ad1a-40c2b1ce21c3\",\"type\":\"LogTickFormatter\"},\"plot\":{\"id\":\"5cf4fc78-f0db-4560-aa03-a54d2741b4f9\",\"subtype\":\"Figure\",\"type\":\"Plot\"},\"ticker\":{\"id\":\"0c387ea5-380d-4b7c-b1e5-6219623e680a\",\"type\":\"LogTicker\"}},\"id\":\"5a73f78e-e613-484d-87d9-d68e23c531e4\",\"type\":\"LogAxis\"},{\"attributes\":{\"axis_label\":\"cooling rate [K/day]\",\"formatter\":{\"id\":\"a4e611e0-ef1b-476c-a43b-8409637bfbcb\",\"type\":\"BasicTickFormatter\"},\"plot\":{\"id\":\"cdadd4f2-f44a-47bf-af57-1caf3f7a1e5b\",\"subtype\":\"Figure\",\"type\":\"Plot\"},\"ticker\":{\"id\":\"1d74f324-9cf0-4b14-aaf1-28d6b3414df7\",\"type\":\"BasicTicker\"}},\"id\":\"e450c893-f395-451a-a81a-cbe6e4ba2afa\",\"type\":\"LinearAxis\"},{\"attributes\":{\"line_alpha\":0.1,\"line_color\":\"#1f77b4\",\"line_dash\":[6],\"line_width\":5,\"x\":{\"field\":\"x\"},\"y\":{\"field\":\"y\"}},\"id\":\"5bda7ee3-5a7c-41ff-964b-66070e40f510\",\"type\":\"Line\"},{\"attributes\":{\"items\":[{\"id\":\"9a050f53-1857-406a-8ff2-7d0304bd5ef3\",\"type\":\"LegendItem\"},{\"id\":\"19718b6c-790a-4dba-8c10-855d8cdcb2ec\",\"type\":\"LegendItem\"}],\"label_text_font_size\":{\"value\":\"8pt\"},\"location\":\"top_center\",\"orientation\":\"horizontal\",\"plot\":{\"id\":\"cdadd4f2-f44a-47bf-af57-1caf3f7a1e5b\",\"subtype\":\"Figure\",\"type\":\"Plot\"}},\"id\":\"36b26e5e-b08d-4a25-babb-12f912d2dd83\",\"type\":\"Legend\"},{\"attributes\":{\"callback\":null,\"end\":0.01,\"start\":1020},\"id\":\"9f960b1b-640d-4ca6-ba90-04eab69aee1f\",\"type\":\"Range1d\"},{\"attributes\":{},\"id\":\"847d188e-ffc2-42fb-9676-01ac09610e7c\",\"type\":\"UnionRenderers\"},{\"attributes\":{\"label\":{\"value\":\"CRD\"},\"renderers\":[{\"id\":\"d9c5302a-5802-4c1c-8bff-fe58e2052805\",\"type\":\"GlyphRenderer\"},{\"id\":\"4f459f26-3cdb-4923-8909-9307331b903f\",\"type\":\"GlyphRenderer\"}]},\"id\":\"b9024af4-a35d-4aa8-99c3-0351dfbf8ac1\",\"type\":\"LegendItem\"},{\"attributes\":{\"data_source\":{\"id\":\"41085bdb-370e-4f45-99b9-8daddd062e5f\",\"type\":\"ColumnDataSource\"},\"glyph\":{\"id\":\"778222a6-94b6-4fe6-98b1-949b3564fe93\",\"type\":\"Line\"},\"hover_glyph\":null,\"muted_glyph\":null,\"nonselection_glyph\":{\"id\":\"7aeeec2a-9494-49cb-b285-5c30b0b2f84f\",\"type\":\"Line\"},\"selection_glyph\":null,\"view\":{\"id\":\"d22c8d3a-716f-4a9f-942f-1b706db01383\",\"type\":\"CDSView\"}},\"id\":\"4f459f26-3cdb-4923-8909-9307331b903f\",\"type\":\"GlyphRenderer\"},{\"attributes\":{\"fill_alpha\":{\"value\":0.7},\"fill_color\":{\"value\":\"#4daf4a\"},\"line_alpha\":{\"value\":0.7},\"line_color\":{\"value\":\"#4daf4a\"},\"x\":{\"field\":\"x\"},\"y\":{\"field\":\"y\"}},\"id\":\"b5ebc183-fdc7-453b-897e-c6159913c8a1\",\"type\":\"Circle\"},{\"attributes\":{\"ticker\":null},\"id\":\"0a90ed39-25a8-4794-ad1a-40c2b1ce21c3\",\"type\":\"LogTickFormatter\"},{\"attributes\":{\"data_source\":{\"id\":\"a3bab9ee-7f56-4ae4-80c1-8eacfb790a30\",\"type\":\"ColumnDataSource\"},\"glyph\":{\"id\":\"b5ebc183-fdc7-453b-897e-c6159913c8a1\",\"type\":\"Circle\"},\"hover_glyph\":null,\"muted_glyph\":null,\"nonselection_glyph\":{\"id\":\"2849ee56-6a5f-45dd-8d0d-a3e2541996f2\",\"type\":\"Circle\"},\"selection_glyph\":null,\"view\":{\"id\":\"bd53fe85-b0b0-432a-88f2-39a270db2f46\",\"type\":\"CDSView\"}},\"id\":\"d9c5302a-5802-4c1c-8bff-fe58e2052805\",\"type\":\"GlyphRenderer\"},{\"attributes\":{\"line_alpha\":0.1,\"line_color\":\"#1f77b4\",\"line_width\":1.5,\"x\":{\"field\":\"x\"},\"y\":{\"field\":\"y\"}},\"id\":\"7aeeec2a-9494-49cb-b285-5c30b0b2f84f\",\"type\":\"Line\"},{\"attributes\":{\"above\":[{\"id\":\"fc1279fc-6aee-442f-8fcc-a5f9858821c4\",\"type\":\"Legend\"}],\"below\":[{\"id\":\"d33c9ddb-dc3d-4048-9dc2-2de887211945\",\"type\":\"LinearAxis\"}],\"left\":[{\"id\":\"5a73f78e-e613-484d-87d9-d68e23c531e4\",\"type\":\"LogAxis\"}],\"plot_width\":300,\"renderers\":[{\"id\":\"d33c9ddb-dc3d-4048-9dc2-2de887211945\",\"type\":\"LinearAxis\"},{\"id\":\"f1772923-5d35-4612-a273-1cec39691647\",\"type\":\"Grid\"},{\"id\":\"5a73f78e-e613-484d-87d9-d68e23c531e4\",\"type\":\"LogAxis\"},{\"id\":\"0f1897de-55e9-4feb-a2e9-ad55e333f2f1\",\"type\":\"Grid\"},{\"id\":\"b28d17ff-c9b2-4cbf-abe8-60724bc1f3c1\",\"type\":\"BoxAnnotation\"},{\"id\":\"f1e20be2-65d5-468c-bd3c-80fe456035ef\",\"type\":\"GlyphRenderer\"},{\"id\":\"392c1c69-4f49-4c01-8097-b135e1c8fb89\",\"type\":\"GlyphRenderer\"},{\"id\":\"fc1279fc-6aee-442f-8fcc-a5f9858821c4\",\"type\":\"Legend\"}],\"title\":{\"id\":\"b616e65c-eb9e-41a5-807f-44fc770ed1a5\",\"type\":\"Title\"},\"toolbar\":{\"id\":\"92191cfa-b1be-400b-9b09-15e9f161d099\",\"type\":\"Toolbar\"},\"toolbar_location\":null,\"x_range\":{\"id\":\"2bf64d05-0625-4467-a4a4-b5313b1e691e\",\"type\":\"Range1d\"},\"x_scale\":{\"id\":\"a62cf6dc-2eda-40a5-ab41-d4154a4f63dd\",\"type\":\"LinearScale\"},\"y_range\":{\"id\":\"b1a29ae8-d7da-4683-81a3-2a11d40280a4\",\"type\":\"Range1d\"},\"y_scale\":{\"id\":\"736a7d04-74d4-42ec-8164-a2cb2e0c5450\",\"type\":\"LogScale\"}},\"id\":\"5cf4fc78-f0db-4560-aa03-a54d2741b4f9\",\"subtype\":\"Figure\",\"type\":\"Plot\"},{\"attributes\":{\"source\":{\"id\":\"a3bab9ee-7f56-4ae4-80c1-8eacfb790a30\",\"type\":\"ColumnDataSource\"}},\"id\":\"bd53fe85-b0b0-432a-88f2-39a270db2f46\",\"type\":\"CDSView\"},{\"attributes\":{\"fill_alpha\":{\"value\":0.1},\"fill_color\":{\"value\":\"#1f77b4\"},\"line_alpha\":{\"value\":0.1},\"line_color\":{\"value\":\"#1f77b4\"},\"x\":{\"field\":\"x\"},\"y\":{\"field\":\"y\"}},\"id\":\"2849ee56-6a5f-45dd-8d0d-a3e2541996f2\",\"type\":\"Circle\"},{\"attributes\":{\"callback\":null,\"data\":{\"x\":{\"__ndarray__\":\"R/KIaN7AVEClCeJMyPNGQOvRhpxr30JAptxzhxx4PkA7SssMElA4QK6Bp3CyUDNAsVXpjES9LkBFhUV0+5coQMHYwqbbySNA6f09nM3nH0CaSd/3eYoZQDmgiAOW8BNAPYqARh3eDEBkm4vCgvr+P9D+5tWhQfY/P8DwKRnSAkBq38kb17ILQDT7IWuSsxFAUr2Rjm0FFkAinq3s9XgbQGCHwtYcqSFAG64kT303J0C7dRDneyooQD9JYrbK8yRA9S3bneHhIUAIymSuUMMcQIkHLe6VEBdAAau3cITREkA6CiNvkQIPQJU39ki7IQlAaAvwok1UA0BXLQiS4+L7P0xzDpJ2hPI/NNuPGMbJ5z91mUVYxqfSPxqwUPSxZca/G11peifD3L8QzNj5t2jTvwzOozTL360/SPJ4VI1VzD9KJ0nXEIncP8yDdlvHt+4/Et49nYLW9z++2teD4Jn+P+568eH/bwFALf5D9lmAAkCiZAicVOkCQPPT4jNKxwJAOjp3wTzBAUBSQsKNGisBQG4OmjqJwQBAJ3sZoHFuAEA5Ar0Sdi0AQGy4rw5+9f8/7W4nSrC3/z8mPr8zj4T/P4UYRHCQS/8/embVKYcF/z+5YXG+LLP+P/qb8BVUgf4/KvafTtyO/j/avAK1Ppv+PwJV9VVm2P0/JFtYlU/n/D9sN+q2fiX6Pw44e41PNPc/Opt+Z/wN9T+x3vcSW1vzP9ofvWQJlvI/8sciQQBW8j80sfkQa17yPzg5qng2r/I/Oh14WJBh8z+VZjnpctj0P6CcrSuCqQBA\",\"dtype\":\"float64\",\"shape\":[75]},\"y\":{\"__ndarray__\":\"GhExyth1ND/Sv8nbtpRIP2vylNV0PVE/aTum7souWD/At0SJ8fVgPw3Iuahxymc/MSNhhJWvcD/bTfBN02d3P2zb5nxnaoA/CD5h5MAGhz8NmeH1TyaQP+zrCsc9p5Y/LbKd76fGnz/bLW5ISEmmPww9YvTcQq8/JV2OstnstT8Er5Y7M8G+P0c+r3jqkcU/5h99k6ZBzj88bCIzFzjVP4enV8oyxN0//yH99nXg5D8qOpLLf0jtP5kqGJXUifQ/c9cS8kHP/D+/DpwzojQEQIEmwoanVwxA4lgXt9HgE0BSSZ2AJuIbQAMJih9jjiNA5q4l5INuK0AwTKYKRj0zQNv5fmq8/DpAaCJseHrtQkB/+zpwzoxKQM3MzMzMeFJAZmZmZmZqWEAAAAAAAFxeQM3MzMzMJmJAmpmZmZkfZUBmZmZmZhhoQDMzMzMzEWtAAAAAAAAKbkBmZmZmZoFwQM3MzMzM/XFAMzMzMzN6c0CamZmZmfZ0QAAAAAAAc3ZAZmZmZmbvd0DNzMzMzGt5QDMzMzMz6HpAmpmZmZlkfEAAAAAAAOF9QGZmZmZmXX9AZmZmZuZsgECamZmZGSuBQM3MzMxM6YFAAAAAAICngkAzMzMzs2WDQGZmZmbmI4RAmpmZmRnihEDNzMzMTKCFQAAAAACAXoZAMzMzM7Mch0BmZmZm5tqHQJqZmZkZmYhAzczMzExXiUAAAAAAgBWKQDMzMzOz04pAZmZmZuaRi0CamZmZGVCMQM3MzMxMDo1AAAAAAIDMjUAzMzMzs4qOQGZmZmbmSI9A\",\"dtype\":\"float64\",\"shape\":[75]}},\"selected\":{\"id\":\"425f107a-71c6-41b4-9894-a43c14716575\",\"type\":\"Selection\"},\"selection_policy\":{\"id\":\"678cfa5c-5718-4083-bca7-d6ae3a0f1164\",\"type\":\"UnionRenderers\"}},\"id\":\"41085bdb-370e-4f45-99b9-8daddd062e5f\",\"type\":\"ColumnDataSource\"},{\"attributes\":{\"line_color\":\"#4daf4a\",\"line_width\":1.5,\"x\":{\"field\":\"x\"},\"y\":{\"field\":\"y\"}},\"id\":\"778222a6-94b6-4fe6-98b1-949b3564fe93\",\"type\":\"Line\"},{\"attributes\":{\"fill_alpha\":{\"value\":0.1},\"fill_color\":{\"value\":\"#1f77b4\"},\"line_alpha\":{\"value\":0.1},\"line_color\":{\"value\":\"#1f77b4\"},\"x\":{\"field\":\"x\"},\"y\":{\"field\":\"y\"}},\"id\":\"62bb67a9-09e3-4ef8-b471-e60ad6bb9039\",\"type\":\"Circle\"},{\"attributes\":{\"source\":{\"id\":\"e9380391-cd17-4a2f-b1ff-f711fccc3ab5\",\"type\":\"ColumnDataSource\"}},\"id\":\"5b7d5d6c-241c-413b-9363-3a256b1b0b42\",\"type\":\"CDSView\"},{\"attributes\":{\"fill_alpha\":{\"value\":0.1},\"fill_color\":{\"value\":\"#1f77b4\"},\"line_alpha\":{\"value\":0.1},\"line_color\":{\"value\":\"#1f77b4\"},\"x\":{\"field\":\"x\"},\"y\":{\"field\":\"y\"}},\"id\":\"f1740528-f08b-4601-b583-9c211d4f7916\",\"type\":\"Circle\"},{\"attributes\":{},\"id\":\"425f107a-71c6-41b4-9894-a43c14716575\",\"type\":\"Selection\"},{\"attributes\":{\"data_source\":{\"id\":\"e9380391-cd17-4a2f-b1ff-f711fccc3ab5\",\"type\":\"ColumnDataSource\"},\"glyph\":{\"id\":\"0a557753-1813-49bc-9766-3cc52e6697a9\",\"type\":\"Circle\"},\"hover_glyph\":null,\"muted_glyph\":null,\"nonselection_glyph\":{\"id\":\"62bb67a9-09e3-4ef8-b471-e60ad6bb9039\",\"type\":\"Circle\"},\"selection_glyph\":null,\"view\":{\"id\":\"5b7d5d6c-241c-413b-9363-3a256b1b0b42\",\"type\":\"CDSView\"}},\"id\":\"f1e20be2-65d5-468c-bd3c-80fe456035ef\",\"type\":\"GlyphRenderer\"},{\"attributes\":{\"callback\":null,\"data\":{\"x\":{\"__ndarray__\":\"R/KIaN7AVEClCeJMyPNGQOvRhpxr30JAptxzhxx4PkA7SssMElA4QK6Bp3CyUDNAsVXpjES9LkBFhUV0+5coQMHYwqbbySNA6f09nM3nH0CaSd/3eYoZQDmgiAOW8BNAPYqARh3eDEBkm4vCgvr+P9D+5tWhQfY/P8DwKRnSAkBq38kb17ILQDT7IWuSsxFAUr2Rjm0FFkAinq3s9XgbQGCHwtYcqSFAG64kT303J0C7dRDneyooQD9JYrbK8yRA9S3bneHhIUAIymSuUMMcQIkHLe6VEBdAAau3cITREkA6CiNvkQIPQJU39ki7IQlAaAvwok1UA0BXLQiS4+L7P0xzDpJ2hPI/NNuPGMbJ5z91mUVYxqfSPxqwUPSxZca/G11peifD3L8QzNj5t2jTvwzOozTL360/SPJ4VI1VzD9KJ0nXEIncP8yDdlvHt+4/Et49nYLW9z++2teD4Jn+P+568eH/bwFALf5D9lmAAkCiZAicVOkCQPPT4jNKxwJAOjp3wTzBAUBSQsKNGisBQG4OmjqJwQBAJ3sZoHFuAEA5Ar0Sdi0AQGy4rw5+9f8/7W4nSrC3/z8mPr8zj4T/P4UYRHCQS/8/embVKYcF/z+5YXG+LLP+P/qb8BVUgf4/KvafTtyO/j/avAK1Ppv+PwJV9VVm2P0/JFtYlU/n/D9sN+q2fiX6Pw44e41PNPc/Opt+Z/wN9T+x3vcSW1vzP9ofvWQJlvI/8sciQQBW8j80sfkQa17yPzg5qng2r/I/Oh14WJBh8z+VZjnpctj0P6CcrSuCqQBA\",\"dtype\":\"float64\",\"shape\":[75]},\"y\":{\"__ndarray__\":\"GhExyth1ND/Sv8nbtpRIP2vylNV0PVE/aTum7souWD/At0SJ8fVgPw3Iuahxymc/MSNhhJWvcD/bTfBN02d3P2zb5nxnaoA/CD5h5MAGhz8NmeH1TyaQP+zrCsc9p5Y/LbKd76fGnz/bLW5ISEmmPww9YvTcQq8/JV2OstnstT8Er5Y7M8G+P0c+r3jqkcU/5h99k6ZBzj88bCIzFzjVP4enV8oyxN0//yH99nXg5D8qOpLLf0jtP5kqGJXUifQ/c9cS8kHP/D+/DpwzojQEQIEmwoanVwxA4lgXt9HgE0BSSZ2AJuIbQAMJih9jjiNA5q4l5INuK0AwTKYKRj0zQNv5fmq8/DpAaCJseHrtQkB/+zpwzoxKQM3MzMzMeFJAZmZmZmZqWEAAAAAAAFxeQM3MzMzMJmJAmpmZmZkfZUBmZmZmZhhoQDMzMzMzEWtAAAAAAAAKbkBmZmZmZoFwQM3MzMzM/XFAMzMzMzN6c0CamZmZmfZ0QAAAAAAAc3ZAZmZmZmbvd0DNzMzMzGt5QDMzMzMz6HpAmpmZmZlkfEAAAAAAAOF9QGZmZmZmXX9AZmZmZuZsgECamZmZGSuBQM3MzMxM6YFAAAAAAICngkAzMzMzs2WDQGZmZmbmI4RAmpmZmRnihEDNzMzMTKCFQAAAAACAXoZAMzMzM7Mch0BmZmZm5tqHQJqZmZkZmYhAzczMzExXiUAAAAAAgBWKQDMzMzOz04pAZmZmZuaRi0CamZmZGVCMQM3MzMxMDo1AAAAAAIDMjUAzMzMzs4qOQGZmZmbmSI9A\",\"dtype\":\"float64\",\"shape\":[75]}},\"selected\":{\"id\":\"2ce90509-70b1-441a-858c-8a30a6e3fe2a\",\"type\":\"Selection\"},\"selection_policy\":{\"id\":\"52818827-4d7b-4e83-b05b-69d4d2c1c24e\",\"type\":\"UnionRenderers\"}},\"id\":\"a813a3f6-9442-4582-8ebf-86efa9535a3c\",\"type\":\"ColumnDataSource\"},{\"attributes\":{\"callback\":null,\"data\":{\"x\":{\"__ndarray__\":\"+91suA2FRUDEhDu3BNNCQJGH2RpTtEFAEt02UCgdQEDVxLSQChY8QIhbJRqUKjdAYVUzOB7pMUDTM3KX3QQqQEK9BNB3SCJA6NjTUF6dGkBKgvPiLzsVQL0Sjm8nBhJA/DvUw9qUDUDkg8wWHTEDQPqPmlKB6f4/+3yWOi+sBUBavERq4UMMQLVhH27xnBBAfwWOfm3eE0DummfvB08ZQAaUixg3DCFArKetlIYCJ0Cs7TuihhkoQB+fXFuzhCRAQi/iYYwnIUBZuHizlFYcQC1AvJM7WRhAg3T9xFgsFEA0HebAUMcPQFKxsGLKOwlAuRjZ7ZQ7BUAmhydNp3kAQNl7ZywnsfQ/bePIZtQK5j8GONhrav7QPxDDyUYoicG/tW4zfJCS3r80aRMuziHYv2KS/mjbLl+/fwV3ehhXxT+O1XwUPq7YP7JEdD4ju+w/6QCXA6269j/1X/IRTNf9P3eY3xv76wBA9MudvM6EAUC4nZXZbkcCQJZjjxetTAJAN+UlS5cWAUCXT334HoEAQPbZ2qEuTwBAxddFMwkvAEAgAG4tOAQAQIwWdH+UnP8/BWSLQ0Y//z+ZMGChRAf/P7Wo5GjCDf8/mQ+WHj5C/z+7FkMl7WP/Px29Y3brZP8/oy7TqCBM/z/lglFOVvr+P18JCfCU2P0/cmhc+6zJ/D8DIuChwy/6P76YinnXm/c/Z9o81bPt9T/nsnvwZn70P/MHGE0DxPM/L8l+pxuV8z/YaqQova7zP2CtsiQ0EfQ/P+H9lMkD9T+yagFyKrv2P62LMWn5NlfA\",\"dtype\":\"float64\",\"shape\":[75]},\"y\":{\"__ndarray__\":\"GhExyth1ND/Sv8nbtpRIP2vylNV0PVE/aTum7souWD/At0SJ8fVgPw3Iuahxymc/MSNhhJWvcD/bTfBN02d3P2zb5nxnaoA/CD5h5MAGhz8NmeH1TyaQP+zrCsc9p5Y/LbKd76fGnz/bLW5ISEmmPww9YvTcQq8/JV2OstnstT8Er5Y7M8G+P0c+r3jqkcU/5h99k6ZBzj88bCIzFzjVP4enV8oyxN0//yH99nXg5D8qOpLLf0jtP5kqGJXUifQ/c9cS8kHP/D+/DpwzojQEQIEmwoanVwxA4lgXt9HgE0BSSZ2AJuIbQAMJih9jjiNA5q4l5INuK0AwTKYKRj0zQNv5fmq8/DpAaCJseHrtQkB/+zpwzoxKQM3MzMzMeFJAZmZmZmZqWEAAAAAAAFxeQM3MzMzMJmJAmpmZmZkfZUBmZmZmZhhoQDMzMzMzEWtAAAAAAAAKbkBmZmZmZoFwQM3MzMzM/XFAMzMzMzN6c0CamZmZmfZ0QAAAAAAAc3ZAZmZmZmbvd0DNzMzMzGt5QDMzMzMz6HpAmpmZmZlkfEAAAAAAAOF9QGZmZmZmXX9AZmZmZuZsgECamZmZGSuBQM3MzMxM6YFAAAAAAICngkAzMzMzs2WDQGZmZmbmI4RAmpmZmRnihEDNzMzMTKCFQAAAAACAXoZAMzMzM7Mch0BmZmZm5tqHQJqZmZkZmYhAzczMzExXiUAAAAAAgBWKQDMzMzOz04pAZmZmZuaRi0CamZmZGVCMQM3MzMxMDo1AAAAAAIDMjUAzMzMzs4qOQGZmZmbmSI9A\",\"dtype\":\"float64\",\"shape\":[75]}},\"selected\":{\"id\":\"c68814c9-95f0-4909-8e65-fd9ca3dc1624\",\"type\":\"Selection\"},\"selection_policy\":{\"id\":\"111f3651-96e2-410b-9691-15643fca38b2\",\"type\":\"UnionRenderers\"}},\"id\":\"3a6fc534-d8b9-43de-8190-8f1bfd7b3355\",\"type\":\"ColumnDataSource\"},{\"attributes\":{\"data_source\":{\"id\":\"26e7bda9-e49e-4c1f-bc33-8eea903469bc\",\"type\":\"ColumnDataSource\"},\"glyph\":{\"id\":\"4c3453b3-3e26-415d-ac68-1ba47fd69cdd\",\"type\":\"Line\"},\"hover_glyph\":null,\"muted_glyph\":null,\"nonselection_glyph\":{\"id\":\"5bda7ee3-5a7c-41ff-964b-66070e40f510\",\"type\":\"Line\"},\"selection_glyph\":null,\"view\":{\"id\":\"f59f4aa6-3e8e-42a3-b1b1-3c525de552e3\",\"type\":\"CDSView\"}},\"id\":\"1361fdd5-c55c-4175-8faa-c640c7ad5ac9\",\"type\":\"GlyphRenderer\"},{\"attributes\":{\"callback\":null,\"data\":{\"x\":{\"__ndarray__\":\"lAalGK/8Q8CGE5pWDoMgwKSl1BqIsQLA3tedj0Ej/D/B1EsfxC8OQNnO7ksNzw5ASFT1jd9TBED76MoyIs7mP/K34Ws9Fui/B5SoLb0p9b9BHa9TKD3xv87XqD/ppt6/njd2qq/Xtj+IsTWs3Z7dP1IiZ/m+T+E/3uUthbDQ1j8unlvPSSGyPwqYKdAPatG/ob4dgAA44b+hGTDqb0/hvy5r3sa3nNO/PTeDO117ur+OD4jURPWgv4GIasHWxcu/WtYff6dK17+vawS7/i67v0WK81haitQ/KZhcREWt1T8/X2I46pe4PzW+eboZD4o/D9WQrnR0zj/ggxshrEHUP2hEyNKEZcE/X3xvHBvvq7/PFtbGvpWavye0G7YmcqM/gBmhHJD2nL+RdOrQWOSyv57C6w9C2a6/J7MHaNP5q7/hjWIWltauv5rxI9BByq+/qdJtmlm9sb8lWa88jlKov85OPMKYgLC//kbGNGdxv78v3VhOuDy0v/UW3BRHp66/jqAqyq5Utb8wV56ocj+1v8sdzS+mlqy/NrHRaTa0n7/4DIGn8p6UvyR46M5jOpa/WroCp4Eanr9uY8OXpFKfvyXpt68D546/m49UYHpbjj9RoDbaDBimP3AkZA7scqw/7g5nRouopz8Fg7FT5sWXPwCwL9oJTQc/RLPy+5mifb8AMtXr1YlkP+Yr2AP74Zk/tOXHt+32qz9ZQz3YvTCyP5KBroWe37I/zRPAZbbxsz80mqt6IQW1P3RCh8DaH7Y/QEBcyJMjuj/gQYCMeCu+P5L4jnpFvFfA\",\"dtype\":\"float64\",\"shape\":[75]},\"y\":{\"__ndarray__\":\"GhExyth1ND/Sv8nbtpRIP2vylNV0PVE/aTum7souWD/At0SJ8fVgPw3Iuahxymc/MSNhhJWvcD/bTfBN02d3P2zb5nxnaoA/CD5h5MAGhz8NmeH1TyaQP+zrCsc9p5Y/LbKd76fGnz/bLW5ISEmmPww9YvTcQq8/JV2OstnstT8Er5Y7M8G+P0c+r3jqkcU/5h99k6ZBzj88bCIzFzjVP4enV8oyxN0//yH99nXg5D8qOpLLf0jtP5kqGJXUifQ/c9cS8kHP/D+/DpwzojQEQIEmwoanVwxA4lgXt9HgE0BSSZ2AJuIbQAMJih9jjiNA5q4l5INuK0AwTKYKRj0zQNv5fmq8/DpAaCJseHrtQkB/+zpwzoxKQM3MzMzMeFJAZmZmZmZqWEAAAAAAAFxeQM3MzMzMJmJAmpmZmZkfZUBmZmZmZhhoQDMzMzMzEWtAAAAAAAAKbkBmZmZmZoFwQM3MzMzM/XFAMzMzMzN6c0CamZmZmfZ0QAAAAAAAc3ZAZmZmZmbvd0DNzMzMzGt5QDMzMzMz6HpAmpmZmZlkfEAAAAAAAOF9QGZmZmZmXX9AZmZmZuZsgECamZmZGSuBQM3MzMxM6YFAAAAAAICngkAzMzMzs2WDQGZmZmbmI4RAmpmZmRnihEDNzMzMTKCFQAAAAACAXoZAMzMzM7Mch0BmZmZm5tqHQJqZmZkZmYhAzczMzExXiUAAAAAAgBWKQDMzMzOz04pAZmZmZuaRi0CamZmZGVCMQM3MzMxMDo1AAAAAAIDMjUAzMzMzs4qOQGZmZmbmSI9A\",\"dtype\":\"float64\",\"shape\":[75]}},\"selected\":{\"id\":\"7e28870c-2b54-4b2d-974b-0e034b3d9fbf\",\"type\":\"Selection\"},\"selection_policy\":{\"id\":\"1247d0e7-5c08-4d0f-835b-6c1ca90ed95c\",\"type\":\"UnionRenderers\"}},\"id\":\"327592b3-7a1e-4097-8907-62093b06f93d\",\"type\":\"ColumnDataSource\"},{\"attributes\":{\"fill_alpha\":{\"value\":0.7},\"fill_color\":{\"value\":\"#984ea3\"},\"line_alpha\":{\"value\":0.7},\"line_color\":{\"value\":\"#984ea3\"},\"x\":{\"field\":\"x\"},\"y\":{\"field\":\"y\"}},\"id\":\"0a557753-1813-49bc-9766-3cc52e6697a9\",\"type\":\"Circle\"},{\"attributes\":{},\"id\":\"f3c95f79-c468-48fb-8b31-b883007aa23d\",\"type\":\"UnionRenderers\"},{\"attributes\":{\"label\":{\"value\":\"CLIRAD (single-run)\"},\"renderers\":[{\"id\":\"f23483c3-01df-49f9-a080-a8cbe8a0c0ed\",\"type\":\"GlyphRenderer\"}]},\"id\":\"152f2b76-6ccb-46de-b029-0edd7cd2ccab\",\"type\":\"LegendItem\"},{\"attributes\":{\"line_color\":\"#4daf4a\",\"line_width\":1.5,\"x\":{\"field\":\"x\"},\"y\":{\"field\":\"y\"}},\"id\":\"bd96377f-c12f-4ef3-bc53-d90ea6972a27\",\"type\":\"Line\"},{\"attributes\":{\"callback\":null,\"data\":{\"x\":{\"__ndarray__\":\"R/KIaN7AVEClCeJMyPNGQOvRhpxr30JAptxzhxx4PkA7SssMElA4QK6Bp3CyUDNAsVXpjES9LkBFhUV0+5coQMHYwqbbySNA6f09nM3nH0CaSd/3eYoZQDmgiAOW8BNAPYqARh3eDEBkm4vCgvr+P9D+5tWhQfY/P8DwKRnSAkBq38kb17ILQDT7IWuSsxFAUr2Rjm0FFkAinq3s9XgbQGCHwtYcqSFAG64kT303J0C7dRDneyooQD9JYrbK8yRA9S3bneHhIUAIymSuUMMcQIkHLe6VEBdAAau3cITREkA6CiNvkQIPQJU39ki7IQlAaAvwok1UA0BXLQiS4+L7P0xzDpJ2hPI/NNuPGMbJ5z91mUVYxqfSPxqwUPSxZca/G11peifD3L8QzNj5t2jTvwzOozTL360/SPJ4VI1VzD9KJ0nXEIncP8yDdlvHt+4/Et49nYLW9z++2teD4Jn+P+568eH/bwFALf5D9lmAAkCiZAicVOkCQPPT4jNKxwJAOjp3wTzBAUBSQsKNGisBQG4OmjqJwQBAJ3sZoHFuAEA5Ar0Sdi0AQGy4rw5+9f8/7W4nSrC3/z8mPr8zj4T/P4UYRHCQS/8/embVKYcF/z+5YXG+LLP+P/qb8BVUgf4/KvafTtyO/j/avAK1Ppv+PwJV9VVm2P0/JFtYlU/n/D9sN+q2fiX6Pw44e41PNPc/Opt+Z/wN9T+x3vcSW1vzP9ofvWQJlvI/8sciQQBW8j80sfkQa17yPzg5qng2r/I/Oh14WJBh8z+VZjnpctj0P6CcrSuCqQBA\",\"dtype\":\"float64\",\"shape\":[75]},\"y\":{\"__ndarray__\":\"GhExyth1ND/Sv8nbtpRIP2vylNV0PVE/aTum7souWD/At0SJ8fVgPw3Iuahxymc/MSNhhJWvcD/bTfBN02d3P2zb5nxnaoA/CD5h5MAGhz8NmeH1TyaQP+zrCsc9p5Y/LbKd76fGnz/bLW5ISEmmPww9YvTcQq8/JV2OstnstT8Er5Y7M8G+P0c+r3jqkcU/5h99k6ZBzj88bCIzFzjVP4enV8oyxN0//yH99nXg5D8qOpLLf0jtP5kqGJXUifQ/c9cS8kHP/D+/DpwzojQEQIEmwoanVwxA4lgXt9HgE0BSSZ2AJuIbQAMJih9jjiNA5q4l5INuK0AwTKYKRj0zQNv5fmq8/DpAaCJseHrtQkB/+zpwzoxKQM3MzMzMeFJAZmZmZmZqWEAAAAAAAFxeQM3MzMzMJmJAmpmZmZkfZUBmZmZmZhhoQDMzMzMzEWtAAAAAAAAKbkBmZmZmZoFwQM3MzMzM/XFAMzMzMzN6c0CamZmZmfZ0QAAAAAAAc3ZAZmZmZmbvd0DNzMzMzGt5QDMzMzMz6HpAmpmZmZlkfEAAAAAAAOF9QGZmZmZmXX9AZmZmZuZsgECamZmZGSuBQM3MzMxM6YFAAAAAAICngkAzMzMzs2WDQGZmZmbmI4RAmpmZmRnihEDNzMzMTKCFQAAAAACAXoZAMzMzM7Mch0BmZmZm5tqHQJqZmZkZmYhAzczMzExXiUAAAAAAgBWKQDMzMzOz04pAZmZmZuaRi0CamZmZGVCMQM3MzMxMDo1AAAAAAIDMjUAzMzMzs4qOQGZmZmbmSI9A\",\"dtype\":\"float64\",\"shape\":[75]}},\"selected\":{\"id\":\"5fab6840-0844-4ab5-b304-bb5e16c0384b\",\"type\":\"Selection\"},\"selection_policy\":{\"id\":\"f3c95f79-c468-48fb-8b31-b883007aa23d\",\"type\":\"UnionRenderers\"}},\"id\":\"a3bab9ee-7f56-4ae4-80c1-8eacfb790a30\",\"type\":\"ColumnDataSource\"},{\"attributes\":{\"line_alpha\":0.1,\"line_color\":\"#1f77b4\",\"line_width\":1.5,\"x\":{\"field\":\"x\"},\"y\":{\"field\":\"y\"}},\"id\":\"f504db44-0343-49d3-b7e2-8dd9e006ac0f\",\"type\":\"Line\"},{\"attributes\":{\"source\":{\"id\":\"26e7bda9-e49e-4c1f-bc33-8eea903469bc\",\"type\":\"ColumnDataSource\"}},\"id\":\"f59f4aa6-3e8e-42a3-b1b1-3c525de552e3\",\"type\":\"CDSView\"},{\"attributes\":{\"source\":{\"id\":\"3a6fc534-d8b9-43de-8190-8f1bfd7b3355\",\"type\":\"ColumnDataSource\"}},\"id\":\"922c661b-64ee-43ea-9490-71efce228315\",\"type\":\"CDSView\"},{\"attributes\":{\"data_source\":{\"id\":\"a813a3f6-9442-4582-8ebf-86efa9535a3c\",\"type\":\"ColumnDataSource\"},\"glyph\":{\"id\":\"57e02f19-30cb-445e-9ecd-a1f664aef8c7\",\"type\":\"Circle\"},\"hover_glyph\":null,\"muted_glyph\":null,\"nonselection_glyph\":{\"id\":\"f1740528-f08b-4601-b583-9c211d4f7916\",\"type\":\"Circle\"},\"selection_glyph\":null,\"view\":{\"id\":\"0654b165-fa47-4a62-8166-40e79c007c6c\",\"type\":\"CDSView\"}},\"id\":\"9ce23d16-c583-4610-a2af-dd720e05ea18\",\"type\":\"GlyphRenderer\"},{\"attributes\":{\"source\":{\"id\":\"a813a3f6-9442-4582-8ebf-86efa9535a3c\",\"type\":\"ColumnDataSource\"}},\"id\":\"0654b165-fa47-4a62-8166-40e79c007c6c\",\"type\":\"CDSView\"},{\"attributes\":{\"data_source\":{\"id\":\"3a6fc534-d8b9-43de-8190-8f1bfd7b3355\",\"type\":\"ColumnDataSource\"},\"glyph\":{\"id\":\"e5069e0d-5f7b-4a59-8168-7a01ec5e138a\",\"type\":\"Line\"},\"hover_glyph\":null,\"muted_glyph\":null,\"nonselection_glyph\":{\"id\":\"187dea05-2540-4a5e-a5af-dfc300d8e3f5\",\"type\":\"Line\"},\"selection_glyph\":null,\"view\":{\"id\":\"922c661b-64ee-43ea-9490-71efce228315\",\"type\":\"CDSView\"}},\"id\":\"f23483c3-01df-49f9-a080-a8cbe8a0c0ed\",\"type\":\"GlyphRenderer\"},{\"attributes\":{},\"id\":\"035d1677-53d5-4318-be9e-52aaf734c7ee\",\"type\":\"BasicTickFormatter\"},{\"attributes\":{\"callback\":null,\"data\":{\"x\":{\"__ndarray__\":\"R/KIaN7AVEClCeJMyPNGQOvRhpxr30JAptxzhxx4PkA7SssMElA4QK6Bp3CyUDNAsVXpjES9LkBFhUV0+5coQMHYwqbbySNA6f09nM3nH0CaSd/3eYoZQDmgiAOW8BNAPYqARh3eDEBkm4vCgvr+P9D+5tWhQfY/P8DwKRnSAkBq38kb17ILQDT7IWuSsxFAUr2Rjm0FFkAinq3s9XgbQGCHwtYcqSFAG64kT303J0C7dRDneyooQD9JYrbK8yRA9S3bneHhIUAIymSuUMMcQIkHLe6VEBdAAau3cITREkA6CiNvkQIPQJU39ki7IQlAaAvwok1UA0BXLQiS4+L7P0xzDpJ2hPI/NNuPGMbJ5z91mUVYxqfSPxqwUPSxZca/G11peifD3L8QzNj5t2jTvwzOozTL360/SPJ4VI1VzD9KJ0nXEIncP8yDdlvHt+4/Et49nYLW9z++2teD4Jn+P+568eH/bwFALf5D9lmAAkCiZAicVOkCQPPT4jNKxwJAOjp3wTzBAUBSQsKNGisBQG4OmjqJwQBAJ3sZoHFuAEA5Ar0Sdi0AQGy4rw5+9f8/7W4nSrC3/z8mPr8zj4T/P4UYRHCQS/8/embVKYcF/z+5YXG+LLP+P/qb8BVUgf4/KvafTtyO/j/avAK1Ppv+PwJV9VVm2P0/JFtYlU/n/D9sN+q2fiX6Pw44e41PNPc/Opt+Z/wN9T+x3vcSW1vzP9ofvWQJlvI/8sciQQBW8j80sfkQa17yPzg5qng2r/I/Oh14WJBh8z+VZjnpctj0P6CcrSuCqQBA\",\"dtype\":\"float64\",\"shape\":[75]},\"y\":{\"__ndarray__\":\"GhExyth1ND/Sv8nbtpRIP2vylNV0PVE/aTum7souWD/At0SJ8fVgPw3Iuahxymc/MSNhhJWvcD/bTfBN02d3P2zb5nxnaoA/CD5h5MAGhz8NmeH1TyaQP+zrCsc9p5Y/LbKd76fGnz/bLW5ISEmmPww9YvTcQq8/JV2OstnstT8Er5Y7M8G+P0c+r3jqkcU/5h99k6ZBzj88bCIzFzjVP4enV8oyxN0//yH99nXg5D8qOpLLf0jtP5kqGJXUifQ/c9cS8kHP/D+/DpwzojQEQIEmwoanVwxA4lgXt9HgE0BSSZ2AJuIbQAMJih9jjiNA5q4l5INuK0AwTKYKRj0zQNv5fmq8/DpAaCJseHrtQkB/+zpwzoxKQM3MzMzMeFJAZmZmZmZqWEAAAAAAAFxeQM3MzMzMJmJAmpmZmZkfZUBmZmZmZhhoQDMzMzMzEWtAAAAAAAAKbkBmZmZmZoFwQM3MzMzM/XFAMzMzMzN6c0CamZmZmfZ0QAAAAAAAc3ZAZmZmZmbvd0DNzMzMzGt5QDMzMzMz6HpAmpmZmZlkfEAAAAAAAOF9QGZmZmZmXX9AZmZmZuZsgECamZmZGSuBQM3MzMxM6YFAAAAAAICngkAzMzMzs2WDQGZmZmbmI4RAmpmZmRnihEDNzMzMTKCFQAAAAACAXoZAMzMzM7Mch0BmZmZm5tqHQJqZmZkZmYhAzczMzExXiUAAAAAAgBWKQDMzMzOz04pAZmZmZuaRi0CamZmZGVCMQM3MzMxMDo1AAAAAAIDMjUAzMzMzs4qOQGZmZmbmSI9A\",\"dtype\":\"float64\",\"shape\":[75]}},\"selected\":{\"id\":\"37062954-8142-4e43-b74e-b95c13e966c6\",\"type\":\"Selection\"},\"selection_policy\":{\"id\":\"7794f3a2-59cf-4efb-900e-addf7a73fb67\",\"type\":\"UnionRenderers\"}},\"id\":\"0636052f-c29f-409b-af69-0f69cb9812ac\",\"type\":\"ColumnDataSource\"},{\"attributes\":{\"source\":{\"id\":\"41085bdb-370e-4f45-99b9-8daddd062e5f\",\"type\":\"ColumnDataSource\"}},\"id\":\"d22c8d3a-716f-4a9f-942f-1b706db01383\",\"type\":\"CDSView\"},{\"attributes\":{},\"id\":\"32ef0c5e-1989-4b5a-9af6-de33ac6e9568\",\"type\":\"Selection\"},{\"attributes\":{\"line_alpha\":0.6,\"line_color\":\"#377eb8\",\"line_dash\":[6],\"line_width\":5,\"x\":{\"field\":\"x\"},\"y\":{\"field\":\"y\"}},\"id\":\"e5069e0d-5f7b-4a59-8168-7a01ec5e138a\",\"type\":\"Line\"},{\"attributes\":{\"fill_alpha\":{\"value\":0.7},\"fill_color\":{\"value\":\"#4daf4a\"},\"line_alpha\":{\"value\":0.7},\"line_color\":{\"value\":\"#4daf4a\"},\"x\":{\"field\":\"x\"},\"y\":{\"field\":\"y\"}},\"id\":\"57e02f19-30cb-445e-9ecd-a1f664aef8c7\",\"type\":\"Circle\"},{\"attributes\":{\"plot\":null,\"text\":\"\"},\"id\":\"b616e65c-eb9e-41a5-807f-44fc770ed1a5\",\"type\":\"Title\"},{\"attributes\":{\"line_alpha\":0.8,\"line_color\":\"#984ea3\",\"line_width\":1.5,\"x\":{\"field\":\"x\"},\"y\":{\"field\":\"y\"}},\"id\":\"782ccce8-2aba-4638-ac4a-4e993f94e07a\",\"type\":\"Line\"},{\"attributes\":{},\"id\":\"678cfa5c-5718-4083-bca7-d6ae3a0f1164\",\"type\":\"UnionRenderers\"}],\"root_ids\":[\"ccbed3bf-fbf8-4e9a-939b-63e0455900b3\"]},\"title\":\"Bokeh Application\",\"version\":\"0.12.16\"}};\n",
       "  var render_items = [{\"docid\":\"66e9ddb6-dc23-40c5-9dc4-7dbb9e360557\",\"elementid\":\"2c3e4478-289a-49f5-acb0-8105548d302e\",\"modelid\":\"ccbed3bf-fbf8-4e9a-939b-63e0455900b3\"}];\n",
       "  root.Bokeh.embed.embed_items_notebook(docs_json, render_items);\n",
       "\n",
       "  }\n",
       "  if (root.Bokeh !== undefined) {\n",
       "    embed_document(root);\n",
       "  } else {\n",
       "    var attempts = 0;\n",
       "    var timer = setInterval(function(root) {\n",
       "      if (root.Bokeh !== undefined) {\n",
       "        embed_document(root);\n",
       "        clearInterval(timer);\n",
       "      }\n",
       "      attempts++;\n",
       "      if (attempts > 100) {\n",
       "        console.log(\"Bokeh: ERROR: Unable to run BokehJS code because BokehJS library is missing\")\n",
       "        clearInterval(timer);\n",
       "      }\n",
       "    }, 10, root)\n",
       "  }\n",
       "})(window);"
      ],
      "application/vnd.bokehjs_exec.v0+json": ""
     },
     "metadata": {
      "application/vnd.bokehjs_exec.v0+json": {
       "id": "ccbed3bf-fbf8-4e9a-939b-63e0455900b3"
      }
     },
     "output_type": "display_data"
    },
    {
     "data": {
      "text/markdown": [
       "*FIGURE.* Cooling rates & difference."
      ],
      "text/plain": [
       "<IPython.core.display.Markdown object>"
      ]
     },
     "metadata": {},
     "output_type": "display_data"
    },
    {
     "data": {
      "text/html": [
       "<a id=\"Fluxes._trp.\"></a>"
      ],
      "text/plain": [
       "<IPython.core.display.HTML object>"
      ]
     },
     "metadata": {},
     "output_type": "display_data"
    },
    {
     "data": {
      "text/markdown": [
       "# Fluxes. trp."
      ],
      "text/plain": [
       "<IPython.core.display.Markdown object>"
      ]
     },
     "metadata": {},
     "output_type": "display_data"
    },
    {
     "data": {
      "text/html": [
       "\n",
       "<div class=\"bk-root\">\n",
       "    <div class=\"bk-plotdiv\" id=\"8c178c3c-9b04-4b42-92b3-81693951224b\"></div>\n",
       "</div>"
      ]
     },
     "metadata": {},
     "output_type": "display_data"
    },
    {
     "data": {
      "application/javascript": [
       "(function(root) {\n",
       "  function embed_document(root) {\n",
       "    \n",
       "  var docs_json = {\"77aede5c-fd6d-4886-b101-cc07c680f1cb\":{\"roots\":{\"references\":[{\"attributes\":{\"overlay\":{\"id\":\"09dc5421-a424-41c0-826d-177f4a979ff2\",\"type\":\"BoxAnnotation\"}},\"id\":\"04081e02-9c98-46d8-89b2-d8d08391378c\",\"type\":\"BoxZoomTool\"},{\"attributes\":{\"callback\":null,\"factors\":[\"1\",\"2\",\"3\",\"4\",\"5\",\"6\",\"7\",\"8\",\"9\",\"10\",\"11\"]},\"id\":\"26e34dd6-457b-4fd4-9f31-f969d3dc0fe8\",\"type\":\"FactorRange\"},{\"attributes\":{\"bottom_units\":\"screen\",\"fill_alpha\":{\"value\":0.5},\"fill_color\":{\"value\":\"lightgrey\"},\"left_units\":\"screen\",\"level\":\"overlay\",\"line_alpha\":{\"value\":1.0},\"line_color\":{\"value\":\"black\"},\"line_dash\":[4,4],\"line_width\":{\"value\":2},\"plot\":null,\"render_mode\":\"css\",\"right_units\":\"screen\",\"top_units\":\"screen\"},\"id\":\"09dc5421-a424-41c0-826d-177f4a979ff2\",\"type\":\"BoxAnnotation\"},{\"attributes\":{},\"id\":\"b6ebf772-3156-423a-a960-5f25f2a09110\",\"type\":\"HelpTool\"},{\"attributes\":{\"plot\":null,\"text\":\"SFC flux. CLIRAD (single-run) - CRD.\"},\"id\":\"76f24f2a-a437-4cf7-9daa-894e6583f9a3\",\"type\":\"Title\"},{\"attributes\":{\"callback\":null,\"data\":{\"band\":[\"1\",\"2\",\"3\",\"4\",\"5\",\"6\",\"7\",\"8\",\"9\",\"10\",\"11\"],\"flux\":{\"__ndarray__\":\"AMHG9e/6yj8ARFVMpZ/UP8A1I4PcRdO/wKT4+ITs4T8A9+Y3TDTUPwDo9SfxuaO/gPm7d9SYzj8AbToCuFm8vwAu4dBbPJw/4PGprSLtwT+A9UyK6gi9Pw==\",\"dtype\":\"float64\",\"shape\":[11]}},\"selected\":{\"id\":\"b0f76704-edcb-4801-9d67-624a6de10667\",\"type\":\"Selection\"},\"selection_policy\":{\"id\":\"4e3cfe6e-971f-40de-bb55-efbfff6fbbc9\",\"type\":\"UnionRenderers\"}},\"id\":\"82443a09-55f5-49f8-81e2-095d22ec1fd3\",\"type\":\"ColumnDataSource\"},{\"attributes\":{},\"id\":\"ea8bb33c-66b3-40cd-ad22-8355675ba81f\",\"type\":\"WheelZoomTool\"},{\"attributes\":{},\"id\":\"19a2e212-37fc-434f-a66b-d5a4a9258476\",\"type\":\"PanTool\"},{\"attributes\":{},\"id\":\"8440fbbb-6db1-4a4c-976f-cc65c6533561\",\"type\":\"BasicTicker\"},{\"attributes\":{\"callback\":null},\"id\":\"b3ccc711-145d-4aeb-a53f-9571a9174fb8\",\"type\":\"DataRange1d\"},{\"attributes\":{\"plot\":{\"id\":\"df1be556-bdf2-4237-b12f-68909fa5da23\",\"subtype\":\"Figure\",\"type\":\"Plot\"},\"ticker\":{\"id\":\"a8b8aa2a-ff57-4ce5-8149-b4cb1f585646\",\"type\":\"CategoricalTicker\"}},\"id\":\"25814d9c-87e0-4e2f-bf45-c82853bd9dd4\",\"type\":\"Grid\"},{\"attributes\":{},\"id\":\"d2a0f11d-6715-4930-81fb-d314b202ddc4\",\"type\":\"BasicTickFormatter\"},{\"attributes\":{\"axis_label\":\"spectral band\",\"formatter\":{\"id\":\"c7906e59-e668-4658-a607-8d0483c85677\",\"type\":\"CategoricalTickFormatter\"},\"plot\":{\"id\":\"df1be556-bdf2-4237-b12f-68909fa5da23\",\"subtype\":\"Figure\",\"type\":\"Plot\"},\"ticker\":{\"id\":\"a8b8aa2a-ff57-4ce5-8149-b4cb1f585646\",\"type\":\"CategoricalTicker\"}},\"id\":\"8e3d8a8f-6114-4f78-8c73-7d4557594d18\",\"type\":\"CategoricalAxis\"},{\"attributes\":{\"callback\":null,\"data\":{\"band\":[\"1\",\"2\",\"3\",\"4\",\"5\",\"6\",\"7\",\"8\",\"9\",\"10\",\"11\"],\"flux\":{\"__ndarray__\":\"AADADkbs874Ak+S5vg/QPwANMzSeCMq/ABTRr62frj8A8Z2Y9WLjP6As7j8yHd0/gB2NQ/0usj8AQGTbs/iOP0Churn429E/AFDtmpDWiD8AO3arQl6wPw==\",\"dtype\":\"float64\",\"shape\":[11]}},\"selected\":{\"id\":\"605f4e35-2230-4f91-859a-255708a80186\",\"type\":\"Selection\"},\"selection_policy\":{\"id\":\"be325f26-b60a-4ab0-a607-c0b59996af4a\",\"type\":\"UnionRenderers\"}},\"id\":\"ad46d484-de34-4521-8f20-4c8611e04322\",\"type\":\"ColumnDataSource\"},{\"attributes\":{},\"id\":\"736e1211-822f-47e2-92d6-d7fb876876eb\",\"type\":\"SaveTool\"},{\"attributes\":{\"source\":{\"id\":\"ad46d484-de34-4521-8f20-4c8611e04322\",\"type\":\"ColumnDataSource\"}},\"id\":\"972caa4e-f905-4181-84d8-5ecb0de95bbe\",\"type\":\"CDSView\"},{\"attributes\":{},\"id\":\"a8b8aa2a-ff57-4ce5-8149-b4cb1f585646\",\"type\":\"CategoricalTicker\"},{\"attributes\":{\"dimension\":1,\"plot\":{\"id\":\"df1be556-bdf2-4237-b12f-68909fa5da23\",\"subtype\":\"Figure\",\"type\":\"Plot\"},\"ticker\":{\"id\":\"8440fbbb-6db1-4a4c-976f-cc65c6533561\",\"type\":\"BasicTicker\"}},\"id\":\"d608e404-1095-4f06-9d3b-0d170bf2135a\",\"type\":\"Grid\"},{\"attributes\":{\"active_drag\":\"auto\",\"active_inspect\":\"auto\",\"active_scroll\":\"auto\",\"active_tap\":\"auto\",\"tools\":[{\"id\":\"19a2e212-37fc-434f-a66b-d5a4a9258476\",\"type\":\"PanTool\"},{\"id\":\"ea8bb33c-66b3-40cd-ad22-8355675ba81f\",\"type\":\"WheelZoomTool\"},{\"id\":\"04081e02-9c98-46d8-89b2-d8d08391378c\",\"type\":\"BoxZoomTool\"},{\"id\":\"736e1211-822f-47e2-92d6-d7fb876876eb\",\"type\":\"SaveTool\"},{\"id\":\"7d65a730-921e-4bbe-9870-dfb957461fc0\",\"type\":\"ResetTool\"},{\"id\":\"b6ebf772-3156-423a-a960-5f25f2a09110\",\"type\":\"HelpTool\"}]},\"id\":\"c305d2ee-8a98-4414-97aa-aa2d36549cdc\",\"type\":\"Toolbar\"},{\"attributes\":{},\"id\":\"43c770f4-a532-443c-83b6-c2539db9cde1\",\"type\":\"LinearScale\"},{\"attributes\":{},\"id\":\"7d65a730-921e-4bbe-9870-dfb957461fc0\",\"type\":\"ResetTool\"},{\"attributes\":{},\"id\":\"0fd142b3-281a-4c16-b57f-72f4d425c94b\",\"type\":\"CategoricalScale\"},{\"attributes\":{\"axis_label\":\"flux (W m-2)\",\"formatter\":{\"id\":\"39bbb44a-6b22-4610-83f5-a155b58b8412\",\"type\":\"BasicTickFormatter\"},\"plot\":{\"id\":\"df1be556-bdf2-4237-b12f-68909fa5da23\",\"subtype\":\"Figure\",\"type\":\"Plot\"},\"ticker\":{\"id\":\"8440fbbb-6db1-4a4c-976f-cc65c6533561\",\"type\":\"BasicTicker\"}},\"id\":\"423ad436-481a-45e4-9771-202cc2a10f35\",\"type\":\"LinearAxis\"},{\"attributes\":{\"axis_label\":\"spectral band\",\"formatter\":{\"id\":\"f5b517aa-9f01-4095-ba54-a1dfd869020d\",\"type\":\"CategoricalTickFormatter\"},\"plot\":{\"id\":\"0f1f7a8f-3655-445c-9bea-752b0c036b25\",\"subtype\":\"Figure\",\"type\":\"Plot\"},\"ticker\":{\"id\":\"648f1c55-5df3-4f9e-9e81-d408d9fc75fd\",\"type\":\"CategoricalTicker\"}},\"id\":\"2ae3f544-14b5-4935-bbba-c4ca7eb00045\",\"type\":\"CategoricalAxis\"},{\"attributes\":{\"below\":[{\"id\":\"2ae3f544-14b5-4935-bbba-c4ca7eb00045\",\"type\":\"CategoricalAxis\"}],\"left\":[{\"id\":\"30ab6b2b-8735-4af2-816d-b92f2503dc5a\",\"type\":\"LinearAxis\"}],\"plot_height\":300,\"plot_width\":300,\"renderers\":[{\"id\":\"2ae3f544-14b5-4935-bbba-c4ca7eb00045\",\"type\":\"CategoricalAxis\"},{\"id\":\"c5399f00-48c5-41d2-93b5-63fadb967c07\",\"type\":\"Grid\"},{\"id\":\"30ab6b2b-8735-4af2-816d-b92f2503dc5a\",\"type\":\"LinearAxis\"},{\"id\":\"0481def8-2ec0-4c56-9378-609031d41ef8\",\"type\":\"Grid\"},{\"id\":\"ba25c21e-2735-4cca-b474-7442c72cb7a8\",\"type\":\"BoxAnnotation\"},{\"id\":\"2af4af56-c277-497d-b51b-b313951495a8\",\"type\":\"GlyphRenderer\"}],\"title\":{\"id\":\"ce7fc93d-9e08-45dd-b50b-0618a4c14332\",\"type\":\"Title\"},\"toolbar\":{\"id\":\"e33b0a4f-d56b-4bbd-8812-f8224a220745\",\"type\":\"Toolbar\"},\"toolbar_location\":null,\"x_range\":{\"id\":\"5841b0d4-865a-40e3-85a2-125389541ed7\",\"type\":\"FactorRange\"},\"x_scale\":{\"id\":\"2202ef8a-4bbb-4c07-80f6-9faad712b013\",\"type\":\"CategoricalScale\"},\"y_range\":{\"id\":\"6e620687-a504-4a4f-89bb-c09df8e3a64c\",\"type\":\"DataRange1d\"},\"y_scale\":{\"id\":\"4d322fd5-2b08-4a70-8dc2-f2b988056499\",\"type\":\"LinearScale\"}},\"id\":\"0f1f7a8f-3655-445c-9bea-752b0c036b25\",\"subtype\":\"Figure\",\"type\":\"Plot\"},{\"attributes\":{\"fill_color\":{\"value\":\"#1f77b4\"},\"line_color\":{\"value\":\"#1f77b4\"},\"top\":{\"field\":\"flux\"},\"width\":{\"value\":0.9},\"x\":{\"field\":\"band\"}},\"id\":\"c5e59986-aa36-4789-97ae-bebdef5fbf95\",\"type\":\"VBar\"},{\"attributes\":{},\"id\":\"be325f26-b60a-4ab0-a607-c0b59996af4a\",\"type\":\"UnionRenderers\"},{\"attributes\":{\"callback\":null,\"data\":{\"band\":[\"1\",\"2\",\"3\",\"4\",\"5\",\"6\",\"7\",\"8\",\"9\",\"10\",\"11\"],\"flux\":{\"__ndarray__\":\"NAgH1syKTkCMQau8soY5QAKcOX9uFy9AsTXXQCUxOkBYchWL3y5QQJha7zfaaTlAehfvx+0XOEDcykv+J+cpQHpZf/BGSx1Aa82YesThEkBAb6jOWVWpPw==\",\"dtype\":\"float64\",\"shape\":[11]}},\"selected\":{\"id\":\"923edeab-190e-4bfa-acec-9960b2b65315\",\"type\":\"Selection\"},\"selection_policy\":{\"id\":\"54a3cba1-13fc-4591-a3ae-2888dbfb199c\",\"type\":\"UnionRenderers\"}},\"id\":\"5fc0bfc0-21cc-463e-b7c9-97a2ee4acfbb\",\"type\":\"ColumnDataSource\"},{\"attributes\":{\"bottom_units\":\"screen\",\"fill_alpha\":{\"value\":0.5},\"fill_color\":{\"value\":\"lightgrey\"},\"left_units\":\"screen\",\"level\":\"overlay\",\"line_alpha\":{\"value\":1.0},\"line_color\":{\"value\":\"black\"},\"line_dash\":[4,4],\"line_width\":{\"value\":2},\"plot\":null,\"render_mode\":\"css\",\"right_units\":\"screen\",\"top_units\":\"screen\"},\"id\":\"fcdc0627-e212-4bb8-8563-500c3e8837f3\",\"type\":\"BoxAnnotation\"},{\"attributes\":{},\"id\":\"d031354e-1ff9-4be5-841b-c0a591adb1c6\",\"type\":\"CategoricalTicker\"},{\"attributes\":{\"data_source\":{\"id\":\"ad46d484-de34-4521-8f20-4c8611e04322\",\"type\":\"ColumnDataSource\"},\"glyph\":{\"id\":\"c5e59986-aa36-4789-97ae-bebdef5fbf95\",\"type\":\"VBar\"},\"hover_glyph\":null,\"muted_glyph\":null,\"nonselection_glyph\":{\"id\":\"a7e1fd23-3367-441e-adb9-3a50132743c3\",\"type\":\"VBar\"},\"selection_glyph\":null,\"view\":{\"id\":\"972caa4e-f905-4181-84d8-5ecb0de95bbe\",\"type\":\"CDSView\"}},\"id\":\"56afd568-7fb4-4702-9a0c-71f71089bddf\",\"type\":\"GlyphRenderer\"},{\"attributes\":{\"overlay\":{\"id\":\"ba25c21e-2735-4cca-b474-7442c72cb7a8\",\"type\":\"BoxAnnotation\"}},\"id\":\"a67a6705-4701-4769-8d86-4e429665b63c\",\"type\":\"BoxZoomTool\"},{\"attributes\":{},\"id\":\"6c857dd1-40d3-45e1-8346-e9579994bdea\",\"type\":\"CategoricalScale\"},{\"attributes\":{\"below\":[{\"id\":\"1b2b5c2c-b5e9-45ea-88fe-d37d21045ed1\",\"type\":\"CategoricalAxis\"}],\"left\":[{\"id\":\"a41858f3-3a29-4c3c-bab5-b802f3310665\",\"type\":\"LinearAxis\"}],\"plot_height\":300,\"plot_width\":300,\"renderers\":[{\"id\":\"1b2b5c2c-b5e9-45ea-88fe-d37d21045ed1\",\"type\":\"CategoricalAxis\"},{\"id\":\"fc6b9e42-e174-4311-a0d3-f7c99bd1224c\",\"type\":\"Grid\"},{\"id\":\"a41858f3-3a29-4c3c-bab5-b802f3310665\",\"type\":\"LinearAxis\"},{\"id\":\"254af88c-ecbb-4d7f-8627-ff79c26a4640\",\"type\":\"Grid\"},{\"id\":\"fcdc0627-e212-4bb8-8563-500c3e8837f3\",\"type\":\"BoxAnnotation\"},{\"id\":\"c17d1a7d-2955-4fed-986d-5903515ac1f0\",\"type\":\"GlyphRenderer\"}],\"title\":{\"id\":\"a12b1838-5c64-4c39-94c9-2974b391f52b\",\"type\":\"Title\"},\"toolbar\":{\"id\":\"f15de57d-518b-4582-9498-c26314b626e9\",\"type\":\"Toolbar\"},\"toolbar_location\":null,\"x_range\":{\"id\":\"9a9e71d6-02c8-450c-aad7-32dfecdadfa8\",\"type\":\"FactorRange\"},\"x_scale\":{\"id\":\"6c857dd1-40d3-45e1-8346-e9579994bdea\",\"type\":\"CategoricalScale\"},\"y_range\":{\"id\":\"2f36ec40-f035-4116-81d2-73454765986f\",\"type\":\"DataRange1d\"},\"y_scale\":{\"id\":\"2fed34b5-94a8-4fc9-86f7-0446aabac769\",\"type\":\"LinearScale\"}},\"id\":\"1502f895-7e12-4c2d-b47a-e7911ec772c0\",\"subtype\":\"Figure\",\"type\":\"Plot\"},{\"attributes\":{\"data_source\":{\"id\":\"5fc0bfc0-21cc-463e-b7c9-97a2ee4acfbb\",\"type\":\"ColumnDataSource\"},\"glyph\":{\"id\":\"cf724574-34c0-4358-aebe-da260d486815\",\"type\":\"VBar\"},\"hover_glyph\":null,\"muted_glyph\":null,\"nonselection_glyph\":{\"id\":\"c2cce617-842d-4274-938b-f02908b1aaed\",\"type\":\"VBar\"},\"selection_glyph\":null,\"view\":{\"id\":\"5b6a3e8a-3ad0-42da-8cd4-c7f657f7ba26\",\"type\":\"CDSView\"}},\"id\":\"c17d1a7d-2955-4fed-986d-5903515ac1f0\",\"type\":\"GlyphRenderer\"},{\"attributes\":{},\"id\":\"605f4e35-2230-4f91-859a-255708a80186\",\"type\":\"Selection\"},{\"attributes\":{\"bottom_units\":\"screen\",\"fill_alpha\":{\"value\":0.5},\"fill_color\":{\"value\":\"lightgrey\"},\"left_units\":\"screen\",\"level\":\"overlay\",\"line_alpha\":{\"value\":1.0},\"line_color\":{\"value\":\"black\"},\"line_dash\":[4,4],\"line_width\":{\"value\":2},\"plot\":null,\"render_mode\":\"css\",\"right_units\":\"screen\",\"top_units\":\"screen\"},\"id\":\"ba25c21e-2735-4cca-b474-7442c72cb7a8\",\"type\":\"BoxAnnotation\"},{\"attributes\":{\"axis_label\":\"flux (W m-2)\",\"formatter\":{\"id\":\"9c0e803c-6c0d-4c7a-8615-416d3e343084\",\"type\":\"BasicTickFormatter\"},\"plot\":{\"id\":\"0f1f7a8f-3655-445c-9bea-752b0c036b25\",\"subtype\":\"Figure\",\"type\":\"Plot\"},\"ticker\":{\"id\":\"6b31e1f8-d885-4d6a-bdd9-96d2236d4c95\",\"type\":\"BasicTicker\"}},\"id\":\"30ab6b2b-8735-4af2-816d-b92f2503dc5a\",\"type\":\"LinearAxis\"},{\"attributes\":{\"data_source\":{\"id\":\"82443a09-55f5-49f8-81e2-095d22ec1fd3\",\"type\":\"ColumnDataSource\"},\"glyph\":{\"id\":\"787365cf-9be3-4ed1-a0f3-ffccdd84864d\",\"type\":\"VBar\"},\"hover_glyph\":null,\"muted_glyph\":null,\"nonselection_glyph\":{\"id\":\"5ab46a8f-647e-483f-8eeb-888c32e47e36\",\"type\":\"VBar\"},\"selection_glyph\":null,\"view\":{\"id\":\"06b5a698-c06b-4419-8012-2043346abb01\",\"type\":\"CDSView\"}},\"id\":\"2af4af56-c277-497d-b51b-b313951495a8\",\"type\":\"GlyphRenderer\"},{\"attributes\":{},\"id\":\"4e3cfe6e-971f-40de-bb55-efbfff6fbbc9\",\"type\":\"UnionRenderers\"},{\"attributes\":{\"below\":[{\"id\":\"8e3d8a8f-6114-4f78-8c73-7d4557594d18\",\"type\":\"CategoricalAxis\"}],\"left\":[{\"id\":\"423ad436-481a-45e4-9771-202cc2a10f35\",\"type\":\"LinearAxis\"}],\"plot_height\":300,\"plot_width\":300,\"renderers\":[{\"id\":\"8e3d8a8f-6114-4f78-8c73-7d4557594d18\",\"type\":\"CategoricalAxis\"},{\"id\":\"25814d9c-87e0-4e2f-bf45-c82853bd9dd4\",\"type\":\"Grid\"},{\"id\":\"423ad436-481a-45e4-9771-202cc2a10f35\",\"type\":\"LinearAxis\"},{\"id\":\"d608e404-1095-4f06-9d3b-0d170bf2135a\",\"type\":\"Grid\"},{\"id\":\"09dc5421-a424-41c0-826d-177f4a979ff2\",\"type\":\"BoxAnnotation\"},{\"id\":\"56afd568-7fb4-4702-9a0c-71f71089bddf\",\"type\":\"GlyphRenderer\"}],\"title\":{\"id\":\"76f24f2a-a437-4cf7-9daa-894e6583f9a3\",\"type\":\"Title\"},\"toolbar\":{\"id\":\"c305d2ee-8a98-4414-97aa-aa2d36549cdc\",\"type\":\"Toolbar\"},\"toolbar_location\":null,\"x_range\":{\"id\":\"26e34dd6-457b-4fd4-9f31-f969d3dc0fe8\",\"type\":\"FactorRange\"},\"x_scale\":{\"id\":\"0fd142b3-281a-4c16-b57f-72f4d425c94b\",\"type\":\"CategoricalScale\"},\"y_range\":{\"id\":\"b3ccc711-145d-4aeb-a53f-9571a9174fb8\",\"type\":\"DataRange1d\"},\"y_scale\":{\"id\":\"43c770f4-a532-443c-83b6-c2539db9cde1\",\"type\":\"LinearScale\"}},\"id\":\"df1be556-bdf2-4237-b12f-68909fa5da23\",\"subtype\":\"Figure\",\"type\":\"Plot\"},{\"attributes\":{\"axis_label\":\"flux (W m-2)\",\"formatter\":{\"id\":\"d2a0f11d-6715-4930-81fb-d314b202ddc4\",\"type\":\"BasicTickFormatter\"},\"plot\":{\"id\":\"1502f895-7e12-4c2d-b47a-e7911ec772c0\",\"subtype\":\"Figure\",\"type\":\"Plot\"},\"ticker\":{\"id\":\"d778160a-e338-46e8-a01c-1bfbfe181780\",\"type\":\"BasicTicker\"}},\"id\":\"a41858f3-3a29-4c3c-bab5-b802f3310665\",\"type\":\"LinearAxis\"},{\"attributes\":{\"fill_color\":{\"value\":\"#1f77b4\"},\"line_color\":{\"value\":\"#1f77b4\"},\"top\":{\"field\":\"flux\"},\"width\":{\"value\":0.9},\"x\":{\"field\":\"band\"}},\"id\":\"787365cf-9be3-4ed1-a0f3-ffccdd84864d\",\"type\":\"VBar\"},{\"attributes\":{},\"id\":\"cf61901f-15dd-45dc-ad61-7150e87de31b\",\"type\":\"WheelZoomTool\"},{\"attributes\":{\"fill_color\":{\"value\":\"#1f77b4\"},\"line_color\":{\"value\":\"#1f77b4\"},\"top\":{\"field\":\"flux\"},\"width\":{\"value\":0.9},\"x\":{\"field\":\"band\"}},\"id\":\"cf724574-34c0-4358-aebe-da260d486815\",\"type\":\"VBar\"},{\"attributes\":{},\"id\":\"b0f76704-edcb-4801-9d67-624a6de10667\",\"type\":\"Selection\"},{\"attributes\":{\"children\":[{\"id\":\"0f1f7a8f-3655-445c-9bea-752b0c036b25\",\"subtype\":\"Figure\",\"type\":\"Plot\"},{\"id\":\"df1be556-bdf2-4237-b12f-68909fa5da23\",\"subtype\":\"Figure\",\"type\":\"Plot\"},{\"id\":\"1502f895-7e12-4c2d-b47a-e7911ec772c0\",\"subtype\":\"Figure\",\"type\":\"Plot\"}]},\"id\":\"05a0a434-18a4-4de7-a921-1e4d3d5ef747\",\"type\":\"Row\"},{\"attributes\":{},\"id\":\"e6e6917d-38fd-48df-9d13-f6d35fcde9e8\",\"type\":\"SaveTool\"},{\"attributes\":{\"tools\":[{\"id\":\"6b352699-857c-4daa-a4b7-b2fd4dfb5e0d\",\"type\":\"PanTool\"},{\"id\":\"cf61901f-15dd-45dc-ad61-7150e87de31b\",\"type\":\"WheelZoomTool\"},{\"id\":\"a67a6705-4701-4769-8d86-4e429665b63c\",\"type\":\"BoxZoomTool\"},{\"id\":\"308cd10e-a8a5-48b9-ac48-6755e79f7843\",\"type\":\"SaveTool\"},{\"id\":\"c68677a3-e0e9-4530-a7e9-d413001c05a5\",\"type\":\"ResetTool\"},{\"id\":\"f600d76b-d317-4682-81c5-a9cd69437850\",\"type\":\"HelpTool\"},{\"id\":\"19a2e212-37fc-434f-a66b-d5a4a9258476\",\"type\":\"PanTool\"},{\"id\":\"ea8bb33c-66b3-40cd-ad22-8355675ba81f\",\"type\":\"WheelZoomTool\"},{\"id\":\"04081e02-9c98-46d8-89b2-d8d08391378c\",\"type\":\"BoxZoomTool\"},{\"id\":\"736e1211-822f-47e2-92d6-d7fb876876eb\",\"type\":\"SaveTool\"},{\"id\":\"7d65a730-921e-4bbe-9870-dfb957461fc0\",\"type\":\"ResetTool\"},{\"id\":\"b6ebf772-3156-423a-a960-5f25f2a09110\",\"type\":\"HelpTool\"},{\"id\":\"3ecb7e0c-c876-4102-b8b1-a75cf4323aee\",\"type\":\"PanTool\"},{\"id\":\"e92aeb62-e566-47df-a4b2-b3ff27bb4799\",\"type\":\"WheelZoomTool\"},{\"id\":\"6882e9ac-379e-49c2-b467-15a5076bc1b4\",\"type\":\"BoxZoomTool\"},{\"id\":\"e6e6917d-38fd-48df-9d13-f6d35fcde9e8\",\"type\":\"SaveTool\"},{\"id\":\"1fad0ddb-9427-4681-839d-e21065a76509\",\"type\":\"ResetTool\"},{\"id\":\"ef758376-eabf-4678-b6aa-ebfb34206bf6\",\"type\":\"HelpTool\"}]},\"id\":\"0e03f6f2-1601-4ebf-9975-ccef1f9c24c3\",\"type\":\"ProxyToolbar\"},{\"attributes\":{},\"id\":\"c68677a3-e0e9-4530-a7e9-d413001c05a5\",\"type\":\"ResetTool\"},{\"attributes\":{\"callback\":null},\"id\":\"2f36ec40-f035-4116-81d2-73454765986f\",\"type\":\"DataRange1d\"},{\"attributes\":{},\"id\":\"6b31e1f8-d885-4d6a-bdd9-96d2236d4c95\",\"type\":\"BasicTicker\"},{\"attributes\":{\"plot\":null,\"text\":\"Atmosphere heating. CLIRAD (single-run) - CRD.\"},\"id\":\"a12b1838-5c64-4c39-94c9-2974b391f52b\",\"type\":\"Title\"},{\"attributes\":{},\"id\":\"f600d76b-d317-4682-81c5-a9cd69437850\",\"type\":\"HelpTool\"},{\"attributes\":{\"dimension\":1,\"plot\":{\"id\":\"1502f895-7e12-4c2d-b47a-e7911ec772c0\",\"subtype\":\"Figure\",\"type\":\"Plot\"},\"ticker\":{\"id\":\"d778160a-e338-46e8-a01c-1bfbfe181780\",\"type\":\"BasicTicker\"}},\"id\":\"254af88c-ecbb-4d7f-8627-ff79c26a4640\",\"type\":\"Grid\"},{\"attributes\":{},\"id\":\"6b352699-857c-4daa-a4b7-b2fd4dfb5e0d\",\"type\":\"PanTool\"},{\"attributes\":{},\"id\":\"051e2cd3-c4e2-4508-84ee-83ca194b269f\",\"type\":\"CategoricalTickFormatter\"},{\"attributes\":{\"toolbar\":{\"id\":\"0e03f6f2-1601-4ebf-9975-ccef1f9c24c3\",\"type\":\"ProxyToolbar\"},\"toolbar_location\":\"above\"},\"id\":\"6181977c-395c-4290-8218-7a13b6ca3629\",\"type\":\"ToolbarBox\"},{\"attributes\":{\"axis_label\":\"spectral band\",\"formatter\":{\"id\":\"051e2cd3-c4e2-4508-84ee-83ca194b269f\",\"type\":\"CategoricalTickFormatter\"},\"plot\":{\"id\":\"1502f895-7e12-4c2d-b47a-e7911ec772c0\",\"subtype\":\"Figure\",\"type\":\"Plot\"},\"ticker\":{\"id\":\"d031354e-1ff9-4be5-841b-c0a591adb1c6\",\"type\":\"CategoricalTicker\"}},\"id\":\"1b2b5c2c-b5e9-45ea-88fe-d37d21045ed1\",\"type\":\"CategoricalAxis\"},{\"attributes\":{},\"id\":\"c7906e59-e668-4658-a607-8d0483c85677\",\"type\":\"CategoricalTickFormatter\"},{\"attributes\":{\"children\":[{\"id\":\"05a0a434-18a4-4de7-a921-1e4d3d5ef747\",\"type\":\"Row\"}]},\"id\":\"68e694ff-03f3-468e-b08e-638ac579954a\",\"type\":\"Column\"},{\"attributes\":{},\"id\":\"3ecb7e0c-c876-4102-b8b1-a75cf4323aee\",\"type\":\"PanTool\"},{\"attributes\":{\"plot\":{\"id\":\"0f1f7a8f-3655-445c-9bea-752b0c036b25\",\"subtype\":\"Figure\",\"type\":\"Plot\"},\"ticker\":{\"id\":\"648f1c55-5df3-4f9e-9e81-d408d9fc75fd\",\"type\":\"CategoricalTicker\"}},\"id\":\"c5399f00-48c5-41d2-93b5-63fadb967c07\",\"type\":\"Grid\"},{\"attributes\":{\"plot\":null,\"text\":\"TOA flux. CLIRAD (single-run) - CRD.\"},\"id\":\"ce7fc93d-9e08-45dd-b50b-0618a4c14332\",\"type\":\"Title\"},{\"attributes\":{},\"id\":\"4d322fd5-2b08-4a70-8dc2-f2b988056499\",\"type\":\"LinearScale\"},{\"attributes\":{},\"id\":\"2fed34b5-94a8-4fc9-86f7-0446aabac769\",\"type\":\"LinearScale\"},{\"attributes\":{\"source\":{\"id\":\"82443a09-55f5-49f8-81e2-095d22ec1fd3\",\"type\":\"ColumnDataSource\"}},\"id\":\"06b5a698-c06b-4419-8012-2043346abb01\",\"type\":\"CDSView\"},{\"attributes\":{\"children\":[{\"id\":\"6181977c-395c-4290-8218-7a13b6ca3629\",\"type\":\"ToolbarBox\"},{\"id\":\"68e694ff-03f3-468e-b08e-638ac579954a\",\"type\":\"Column\"}]},\"id\":\"c6c64edc-d933-4fc9-9084-43c4a2857cf8\",\"type\":\"Column\"},{\"attributes\":{\"plot\":{\"id\":\"1502f895-7e12-4c2d-b47a-e7911ec772c0\",\"subtype\":\"Figure\",\"type\":\"Plot\"},\"ticker\":{\"id\":\"d031354e-1ff9-4be5-841b-c0a591adb1c6\",\"type\":\"CategoricalTicker\"}},\"id\":\"fc6b9e42-e174-4311-a0d3-f7c99bd1224c\",\"type\":\"Grid\"},{\"attributes\":{\"active_drag\":\"auto\",\"active_inspect\":\"auto\",\"active_scroll\":\"auto\",\"active_tap\":\"auto\",\"tools\":[{\"id\":\"6b352699-857c-4daa-a4b7-b2fd4dfb5e0d\",\"type\":\"PanTool\"},{\"id\":\"cf61901f-15dd-45dc-ad61-7150e87de31b\",\"type\":\"WheelZoomTool\"},{\"id\":\"a67a6705-4701-4769-8d86-4e429665b63c\",\"type\":\"BoxZoomTool\"},{\"id\":\"308cd10e-a8a5-48b9-ac48-6755e79f7843\",\"type\":\"SaveTool\"},{\"id\":\"c68677a3-e0e9-4530-a7e9-d413001c05a5\",\"type\":\"ResetTool\"},{\"id\":\"f600d76b-d317-4682-81c5-a9cd69437850\",\"type\":\"HelpTool\"}]},\"id\":\"e33b0a4f-d56b-4bbd-8812-f8224a220745\",\"type\":\"Toolbar\"},{\"attributes\":{\"source\":{\"id\":\"5fc0bfc0-21cc-463e-b7c9-97a2ee4acfbb\",\"type\":\"ColumnDataSource\"}},\"id\":\"5b6a3e8a-3ad0-42da-8cd4-c7f657f7ba26\",\"type\":\"CDSView\"},{\"attributes\":{\"fill_alpha\":{\"value\":0.1},\"fill_color\":{\"value\":\"#1f77b4\"},\"line_alpha\":{\"value\":0.1},\"line_color\":{\"value\":\"#1f77b4\"},\"top\":{\"field\":\"flux\"},\"width\":{\"value\":0.9},\"x\":{\"field\":\"band\"}},\"id\":\"a7e1fd23-3367-441e-adb9-3a50132743c3\",\"type\":\"VBar\"},{\"attributes\":{},\"id\":\"2202ef8a-4bbb-4c07-80f6-9faad712b013\",\"type\":\"CategoricalScale\"},{\"attributes\":{\"dimension\":1,\"plot\":{\"id\":\"0f1f7a8f-3655-445c-9bea-752b0c036b25\",\"subtype\":\"Figure\",\"type\":\"Plot\"},\"ticker\":{\"id\":\"6b31e1f8-d885-4d6a-bdd9-96d2236d4c95\",\"type\":\"BasicTicker\"}},\"id\":\"0481def8-2ec0-4c56-9378-609031d41ef8\",\"type\":\"Grid\"},{\"attributes\":{},\"id\":\"9c0e803c-6c0d-4c7a-8615-416d3e343084\",\"type\":\"BasicTickFormatter\"},{\"attributes\":{},\"id\":\"1fad0ddb-9427-4681-839d-e21065a76509\",\"type\":\"ResetTool\"},{\"attributes\":{\"active_drag\":\"auto\",\"active_inspect\":\"auto\",\"active_scroll\":\"auto\",\"active_tap\":\"auto\",\"tools\":[{\"id\":\"3ecb7e0c-c876-4102-b8b1-a75cf4323aee\",\"type\":\"PanTool\"},{\"id\":\"e92aeb62-e566-47df-a4b2-b3ff27bb4799\",\"type\":\"WheelZoomTool\"},{\"id\":\"6882e9ac-379e-49c2-b467-15a5076bc1b4\",\"type\":\"BoxZoomTool\"},{\"id\":\"e6e6917d-38fd-48df-9d13-f6d35fcde9e8\",\"type\":\"SaveTool\"},{\"id\":\"1fad0ddb-9427-4681-839d-e21065a76509\",\"type\":\"ResetTool\"},{\"id\":\"ef758376-eabf-4678-b6aa-ebfb34206bf6\",\"type\":\"HelpTool\"}]},\"id\":\"f15de57d-518b-4582-9498-c26314b626e9\",\"type\":\"Toolbar\"},{\"attributes\":{},\"id\":\"308cd10e-a8a5-48b9-ac48-6755e79f7843\",\"type\":\"SaveTool\"},{\"attributes\":{},\"id\":\"39bbb44a-6b22-4610-83f5-a155b58b8412\",\"type\":\"BasicTickFormatter\"},{\"attributes\":{},\"id\":\"e92aeb62-e566-47df-a4b2-b3ff27bb4799\",\"type\":\"WheelZoomTool\"},{\"attributes\":{},\"id\":\"648f1c55-5df3-4f9e-9e81-d408d9fc75fd\",\"type\":\"CategoricalTicker\"},{\"attributes\":{},\"id\":\"923edeab-190e-4bfa-acec-9960b2b65315\",\"type\":\"Selection\"},{\"attributes\":{},\"id\":\"54a3cba1-13fc-4591-a3ae-2888dbfb199c\",\"type\":\"UnionRenderers\"},{\"attributes\":{\"callback\":null,\"factors\":[\"1\",\"2\",\"3\",\"4\",\"5\",\"6\",\"7\",\"8\",\"9\",\"10\",\"11\"]},\"id\":\"5841b0d4-865a-40e3-85a2-125389541ed7\",\"type\":\"FactorRange\"},{\"attributes\":{\"callback\":null},\"id\":\"6e620687-a504-4a4f-89bb-c09df8e3a64c\",\"type\":\"DataRange1d\"},{\"attributes\":{},\"id\":\"d778160a-e338-46e8-a01c-1bfbfe181780\",\"type\":\"BasicTicker\"},{\"attributes\":{\"overlay\":{\"id\":\"fcdc0627-e212-4bb8-8563-500c3e8837f3\",\"type\":\"BoxAnnotation\"}},\"id\":\"6882e9ac-379e-49c2-b467-15a5076bc1b4\",\"type\":\"BoxZoomTool\"},{\"attributes\":{},\"id\":\"ef758376-eabf-4678-b6aa-ebfb34206bf6\",\"type\":\"HelpTool\"},{\"attributes\":{\"callback\":null,\"factors\":[\"1\",\"2\",\"3\",\"4\",\"5\",\"6\",\"7\",\"8\",\"9\",\"10\",\"11\"]},\"id\":\"9a9e71d6-02c8-450c-aad7-32dfecdadfa8\",\"type\":\"FactorRange\"},{\"attributes\":{},\"id\":\"f5b517aa-9f01-4095-ba54-a1dfd869020d\",\"type\":\"CategoricalTickFormatter\"},{\"attributes\":{\"fill_alpha\":{\"value\":0.1},\"fill_color\":{\"value\":\"#1f77b4\"},\"line_alpha\":{\"value\":0.1},\"line_color\":{\"value\":\"#1f77b4\"},\"top\":{\"field\":\"flux\"},\"width\":{\"value\":0.9},\"x\":{\"field\":\"band\"}},\"id\":\"c2cce617-842d-4274-938b-f02908b1aaed\",\"type\":\"VBar\"},{\"attributes\":{\"fill_alpha\":{\"value\":0.1},\"fill_color\":{\"value\":\"#1f77b4\"},\"line_alpha\":{\"value\":0.1},\"line_color\":{\"value\":\"#1f77b4\"},\"top\":{\"field\":\"flux\"},\"width\":{\"value\":0.9},\"x\":{\"field\":\"band\"}},\"id\":\"5ab46a8f-647e-483f-8eeb-888c32e47e36\",\"type\":\"VBar\"}],\"root_ids\":[\"c6c64edc-d933-4fc9-9084-43c4a2857cf8\"]},\"title\":\"Bokeh Application\",\"version\":\"0.12.16\"}};\n",
       "  var render_items = [{\"docid\":\"77aede5c-fd6d-4886-b101-cc07c680f1cb\",\"elementid\":\"8c178c3c-9b04-4b42-92b3-81693951224b\",\"modelid\":\"c6c64edc-d933-4fc9-9084-43c4a2857cf8\"}];\n",
       "  root.Bokeh.embed.embed_items_notebook(docs_json, render_items);\n",
       "\n",
       "  }\n",
       "  if (root.Bokeh !== undefined) {\n",
       "    embed_document(root);\n",
       "  } else {\n",
       "    var attempts = 0;\n",
       "    var timer = setInterval(function(root) {\n",
       "      if (root.Bokeh !== undefined) {\n",
       "        embed_document(root);\n",
       "        clearInterval(timer);\n",
       "      }\n",
       "      attempts++;\n",
       "      if (attempts > 100) {\n",
       "        console.log(\"Bokeh: ERROR: Unable to run BokehJS code because BokehJS library is missing\")\n",
       "        clearInterval(timer);\n",
       "      }\n",
       "    }, 10, root)\n",
       "  }\n",
       "})(window);"
      ],
      "application/vnd.bokehjs_exec.v0+json": ""
     },
     "metadata": {
      "application/vnd.bokehjs_exec.v0+json": {
       "id": "c6c64edc-d933-4fc9-9084-43c4a2857cf8"
      }
     },
     "output_type": "display_data"
    },
    {
     "data": {
      "text/markdown": [
       "*FIGURE.* Difference between CLIRAD and CRD in TOA, SFC and net atmosphere flux, in each spectral band."
      ],
      "text/plain": [
       "<IPython.core.display.Markdown object>"
      ]
     },
     "metadata": {},
     "output_type": "display_data"
    },
    {
     "data": {
      "text/html": [
       "<div>\n",
       "<style scoped>\n",
       "    .dataframe tbody tr th:only-of-type {\n",
       "        vertical-align: middle;\n",
       "    }\n",
       "\n",
       "    .dataframe tbody tr th {\n",
       "        vertical-align: top;\n",
       "    }\n",
       "\n",
       "    .dataframe thead th {\n",
       "        text-align: right;\n",
       "    }\n",
       "</style>\n",
       "<table border=\"1\" class=\"dataframe\">\n",
       "  <thead>\n",
       "    <tr style=\"text-align: right;\">\n",
       "      <th></th>\n",
       "      <th>OLR flux</th>\n",
       "      <th>SFC flux</th>\n",
       "      <th>ATM heating</th>\n",
       "    </tr>\n",
       "    <tr>\n",
       "      <th>Sum over bands</th>\n",
       "      <th></th>\n",
       "      <th></th>\n",
       "      <th></th>\n",
       "    </tr>\n",
       "  </thead>\n",
       "  <tbody>\n",
       "    <tr>\n",
       "      <th>CLIRAD (single-run) - CRD</th>\n",
       "      <td>1.48</td>\n",
       "      <td>1.61</td>\n",
       "      <td>267.63</td>\n",
       "    </tr>\n",
       "    <tr>\n",
       "      <th>CRD</th>\n",
       "      <td>-303.40</td>\n",
       "      <td>337.24</td>\n",
       "      <td>-181.37</td>\n",
       "    </tr>\n",
       "  </tbody>\n",
       "</table>\n",
       "</div>"
      ],
      "text/plain": [
       "                           OLR flux  SFC flux  ATM heating\n",
       "Sum over bands                                            \n",
       "CLIRAD (single-run) - CRD      1.48      1.61       267.63\n",
       "CRD                         -303.40    337.24      -181.37"
      ]
     },
     "metadata": {},
     "output_type": "display_data"
    },
    {
     "data": {
      "text/markdown": [
       "*TABLE.* Difference between CLIRAD and CRD in TOA, SFC and net atmosphere flux, over all spectral bands. CRD's TOA, SFC and net atmosphere flux, over all spectral bands."
      ],
      "text/plain": [
       "<IPython.core.display.Markdown object>"
      ]
     },
     "metadata": {},
     "output_type": "display_data"
    }
   ],
   "source": [
    "def show_html(s):\n",
    "    display.display(display.HTML(s))\n",
    "\n",
    "    \n",
    "def show_markdown(s):\n",
    "    display.display(display.Markdown(s))\n",
    "\n",
    "\n",
    "def script():\n",
    "    \n",
    "    d_atm = {'mls': 'mid-latitude summer',\n",
    "             'saw': 'sub-arctic winter',\n",
    "             'trp': 'tropical'}\n",
    "    \n",
    "    title = ('## Results over entire range of molecules'\n",
    "             ' and spectral bands')\n",
    "    \n",
    "    s_makeup = 'Makeup of atmosphere.'\n",
    "    s_atmpro = '# {}'\n",
    "    s_cool = 'Cooling rates. {}.'\n",
    "    s_flux = 'Fluxes. {}.'\n",
    "    \n",
    "    atmpros = ['mls', 'saw', 'trp']\n",
    "    \n",
    "    # TOC\n",
    "    show_markdown(title)\n",
    "    show_markdown('### Table of Contents')\n",
    "    show_html(climahtml.getHTML_hrefanchor(s_makeup))\n",
    "    for atmpro in atmpros:\n",
    "        show_markdown('**' + d_atm[atmpro] + '**')\n",
    "        show_html(climahtml.getHTML_hrefanchor(s_cool.format(atmpro)))\n",
    "        show_html(climahtml.getHTML_hrefanchor(s_flux.format(atmpro)))\n",
    "\n",
    "        \n",
    "    # Atmosphere makeup\n",
    "    show_html(climahtml.getHTML_idanchor(s_makeup))\n",
    "    show_markdown(climahtml.getMarkdown_sectitle(s_makeup))\n",
    "    show_makeup()\n",
    "    show_grey_makeup()\n",
    "        \n",
    "    for atmpro in atmpros:\n",
    "        show_html(climahtml.getHTML_idanchor(s_cool.format(atmpro)))\n",
    "        show_markdown(\n",
    "            climahtml.getMarkdown_sectitle(s_cool.format(atmpro)))\n",
    "        show_cool(atmpro=atmpro)\n",
    "        show_html(climahtml.getHTML_idanchor(s_flux.format(atmpro)))\n",
    "        show_markdown(\n",
    "            climahtml.getMarkdown_sectitle(s_flux.format(atmpro)))\n",
    "        show_hist_flux(atmpro=atmpro)\n",
    "        show_tb_flux(atmpro=atmpro)\n",
    "    \n",
    "    \n",
    "script()  "
   ]
  },
  {
   "cell_type": "code",
   "execution_count": null,
   "metadata": {
    "collapsed": true
   },
   "outputs": [],
   "source": []
  },
  {
   "cell_type": "code",
   "execution_count": 14,
   "metadata": {},
   "outputs": [
    {
     "data": {
      "text/html": [
       "<script>\n",
       "code_show=true; \n",
       "function code_toggle() {\n",
       " if (code_show){\n",
       " $('div.input').hide();\n",
       " } else {\n",
       " $('div.input').show();\n",
       " }\n",
       " code_show = !code_show\n",
       "} \n",
       "$( document ).ready(code_toggle);\n",
       "</script>\n",
       "<form action=\"javascript:code_toggle()\"><input type=\"submit\" value=\"Click here to toggle on/off the raw code.\"></form>"
      ],
      "text/plain": [
       "<IPython.core.display.HTML object>"
      ]
     },
     "execution_count": 14,
     "metadata": {},
     "output_type": "execute_result"
    }
   ],
   "source": [
    "display.HTML('''<script>\n",
    "code_show=true; \n",
    "function code_toggle() {\n",
    " if (code_show){\n",
    " $('div.input').hide();\n",
    " } else {\n",
    " $('div.input').show();\n",
    " }\n",
    " code_show = !code_show\n",
    "} \n",
    "$( document ).ready(code_toggle);\n",
    "</script>\n",
    "<form action=\"javascript:code_toggle()\"><input type=\"submit\" value=\"Click here to toggle on/off the raw code.\"></form>''')"
   ]
  },
  {
   "cell_type": "code",
   "execution_count": null,
   "metadata": {
    "collapsed": true
   },
   "outputs": [],
   "source": []
  }
 ],
 "metadata": {
  "kernelspec": {
   "display_name": "Python 3",
   "language": "python",
   "name": "python3"
  },
  "language_info": {
   "codemirror_mode": {
    "name": "ipython",
    "version": 3
   },
   "file_extension": ".py",
   "mimetype": "text/x-python",
   "name": "python",
   "nbconvert_exporter": "python",
   "pygments_lexer": "ipython3",
   "version": "3.6.1"
  }
 },
 "nbformat": 4,
 "nbformat_minor": 2
}
