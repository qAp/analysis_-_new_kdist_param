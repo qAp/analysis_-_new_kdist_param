{
 "cells": [
  {
   "cell_type": "code",
   "execution_count": 30,
   "metadata": {
    "collapsed": true
   },
   "outputs": [],
   "source": [
    "%reload_ext autoreload\n",
    "%autoreload 2\n",
    "\n",
    "import os\n",
    "import pprint\n",
    "\n",
    "import pymongo\n",
    "\n",
    "from bokeh.io import output_notebook, show\n",
    "from bokeh.layouts import gridplot\n",
    "from bokeh.plotting import figure\n",
    "from bokeh.models import ColumnDataSource\n",
    "from bokeh.palettes import all_palettes\n",
    "\n",
    "from climatools.atm import *\n",
    "from climatools.dataset import *\n",
    "from climatools.spectrum import *\n",
    "from climatools.html.html import *\n",
    "from climatools.plot.plot import *\n",
    "from climatools.lblnew.bestfit_params import *\n",
    "\n",
    "from IPython import display"
   ]
  },
  {
   "cell_type": "code",
   "execution_count": 31,
   "metadata": {
    "scrolled": true
   },
   "outputs": [
    {
     "data": {
      "text/html": [
       "\n",
       "    <div class=\"bk-root\">\n",
       "        <a href=\"https://bokeh.pydata.org\" target=\"_blank\" class=\"bk-logo bk-logo-small bk-logo-notebook\"></a>\n",
       "        <span id=\"ec720060-479e-40e9-ba46-ea31e8843096\">Loading BokehJS ...</span>\n",
       "    </div>"
      ]
     },
     "metadata": {},
     "output_type": "display_data"
    },
    {
     "data": {
      "application/javascript": [
       "\n",
       "(function(root) {\n",
       "  function now() {\n",
       "    return new Date();\n",
       "  }\n",
       "\n",
       "  var force = true;\n",
       "\n",
       "  if (typeof (root._bokeh_onload_callbacks) === \"undefined\" || force === true) {\n",
       "    root._bokeh_onload_callbacks = [];\n",
       "    root._bokeh_is_loading = undefined;\n",
       "  }\n",
       "\n",
       "  var JS_MIME_TYPE = 'application/javascript';\n",
       "  var HTML_MIME_TYPE = 'text/html';\n",
       "  var EXEC_MIME_TYPE = 'application/vnd.bokehjs_exec.v0+json';\n",
       "  var CLASS_NAME = 'output_bokeh rendered_html';\n",
       "\n",
       "  /**\n",
       "   * Render data to the DOM node\n",
       "   */\n",
       "  function render(props, node) {\n",
       "    var script = document.createElement(\"script\");\n",
       "    node.appendChild(script);\n",
       "  }\n",
       "\n",
       "  /**\n",
       "   * Handle when an output is cleared or removed\n",
       "   */\n",
       "  function handleClearOutput(event, handle) {\n",
       "    var cell = handle.cell;\n",
       "\n",
       "    var id = cell.output_area._bokeh_element_id;\n",
       "    var server_id = cell.output_area._bokeh_server_id;\n",
       "    // Clean up Bokeh references\n",
       "    if (id !== undefined) {\n",
       "      Bokeh.index[id].model.document.clear();\n",
       "      delete Bokeh.index[id];\n",
       "    }\n",
       "\n",
       "    if (server_id !== undefined) {\n",
       "      // Clean up Bokeh references\n",
       "      var cmd = \"from bokeh.io.state import curstate; print(curstate().uuid_to_server['\" + server_id + \"'].get_sessions()[0].document.roots[0]._id)\";\n",
       "      cell.notebook.kernel.execute(cmd, {\n",
       "        iopub: {\n",
       "          output: function(msg) {\n",
       "            var element_id = msg.content.text.trim();\n",
       "            Bokeh.index[element_id].model.document.clear();\n",
       "            delete Bokeh.index[element_id];\n",
       "          }\n",
       "        }\n",
       "      });\n",
       "      // Destroy server and session\n",
       "      var cmd = \"import bokeh.io.notebook as ion; ion.destroy_server('\" + server_id + \"')\";\n",
       "      cell.notebook.kernel.execute(cmd);\n",
       "    }\n",
       "  }\n",
       "\n",
       "  /**\n",
       "   * Handle when a new output is added\n",
       "   */\n",
       "  function handleAddOutput(event, handle) {\n",
       "    var output_area = handle.output_area;\n",
       "    var output = handle.output;\n",
       "\n",
       "    // limit handleAddOutput to display_data with EXEC_MIME_TYPE content only\n",
       "    if ((output.output_type != \"display_data\") || (!output.data.hasOwnProperty(EXEC_MIME_TYPE))) {\n",
       "      return\n",
       "    }\n",
       "\n",
       "    var toinsert = output_area.element.find(\".\" + CLASS_NAME.split(' ')[0]);\n",
       "\n",
       "    if (output.metadata[EXEC_MIME_TYPE][\"id\"] !== undefined) {\n",
       "      toinsert[toinsert.length - 1].firstChild.textContent = output.data[JS_MIME_TYPE];\n",
       "      // store reference to embed id on output_area\n",
       "      output_area._bokeh_element_id = output.metadata[EXEC_MIME_TYPE][\"id\"];\n",
       "    }\n",
       "    if (output.metadata[EXEC_MIME_TYPE][\"server_id\"] !== undefined) {\n",
       "      var bk_div = document.createElement(\"div\");\n",
       "      bk_div.innerHTML = output.data[HTML_MIME_TYPE];\n",
       "      var script_attrs = bk_div.children[0].attributes;\n",
       "      for (var i = 0; i < script_attrs.length; i++) {\n",
       "        toinsert[toinsert.length - 1].firstChild.setAttribute(script_attrs[i].name, script_attrs[i].value);\n",
       "      }\n",
       "      // store reference to server id on output_area\n",
       "      output_area._bokeh_server_id = output.metadata[EXEC_MIME_TYPE][\"server_id\"];\n",
       "    }\n",
       "  }\n",
       "\n",
       "  function register_renderer(events, OutputArea) {\n",
       "\n",
       "    function append_mime(data, metadata, element) {\n",
       "      // create a DOM node to render to\n",
       "      var toinsert = this.create_output_subarea(\n",
       "        metadata,\n",
       "        CLASS_NAME,\n",
       "        EXEC_MIME_TYPE\n",
       "      );\n",
       "      this.keyboard_manager.register_events(toinsert);\n",
       "      // Render to node\n",
       "      var props = {data: data, metadata: metadata[EXEC_MIME_TYPE]};\n",
       "      render(props, toinsert[toinsert.length - 1]);\n",
       "      element.append(toinsert);\n",
       "      return toinsert\n",
       "    }\n",
       "\n",
       "    /* Handle when an output is cleared or removed */\n",
       "    events.on('clear_output.CodeCell', handleClearOutput);\n",
       "    events.on('delete.Cell', handleClearOutput);\n",
       "\n",
       "    /* Handle when a new output is added */\n",
       "    events.on('output_added.OutputArea', handleAddOutput);\n",
       "\n",
       "    /**\n",
       "     * Register the mime type and append_mime function with output_area\n",
       "     */\n",
       "    OutputArea.prototype.register_mime_type(EXEC_MIME_TYPE, append_mime, {\n",
       "      /* Is output safe? */\n",
       "      safe: true,\n",
       "      /* Index of renderer in `output_area.display_order` */\n",
       "      index: 0\n",
       "    });\n",
       "  }\n",
       "\n",
       "  // register the mime type if in Jupyter Notebook environment and previously unregistered\n",
       "  if (root.Jupyter !== undefined) {\n",
       "    var events = require('base/js/events');\n",
       "    var OutputArea = require('notebook/js/outputarea').OutputArea;\n",
       "\n",
       "    if (OutputArea.prototype.mime_types().indexOf(EXEC_MIME_TYPE) == -1) {\n",
       "      register_renderer(events, OutputArea);\n",
       "    }\n",
       "  }\n",
       "\n",
       "  \n",
       "  if (typeof (root._bokeh_timeout) === \"undefined\" || force === true) {\n",
       "    root._bokeh_timeout = Date.now() + 5000;\n",
       "    root._bokeh_failed_load = false;\n",
       "  }\n",
       "\n",
       "  var NB_LOAD_WARNING = {'data': {'text/html':\n",
       "     \"<div style='background-color: #fdd'>\\n\"+\n",
       "     \"<p>\\n\"+\n",
       "     \"BokehJS does not appear to have successfully loaded. If loading BokehJS from CDN, this \\n\"+\n",
       "     \"may be due to a slow or bad network connection. Possible fixes:\\n\"+\n",
       "     \"</p>\\n\"+\n",
       "     \"<ul>\\n\"+\n",
       "     \"<li>re-rerun `output_notebook()` to attempt to load from CDN again, or</li>\\n\"+\n",
       "     \"<li>use INLINE resources instead, as so:</li>\\n\"+\n",
       "     \"</ul>\\n\"+\n",
       "     \"<code>\\n\"+\n",
       "     \"from bokeh.resources import INLINE\\n\"+\n",
       "     \"output_notebook(resources=INLINE)\\n\"+\n",
       "     \"</code>\\n\"+\n",
       "     \"</div>\"}};\n",
       "\n",
       "  function display_loaded() {\n",
       "    var el = document.getElementById(\"ec720060-479e-40e9-ba46-ea31e8843096\");\n",
       "    if (el != null) {\n",
       "      el.textContent = \"BokehJS is loading...\";\n",
       "    }\n",
       "    if (root.Bokeh !== undefined) {\n",
       "      if (el != null) {\n",
       "        el.textContent = \"BokehJS \" + root.Bokeh.version + \" successfully loaded.\";\n",
       "      }\n",
       "    } else if (Date.now() < root._bokeh_timeout) {\n",
       "      setTimeout(display_loaded, 100)\n",
       "    }\n",
       "  }\n",
       "\n",
       "\n",
       "  function run_callbacks() {\n",
       "    try {\n",
       "      root._bokeh_onload_callbacks.forEach(function(callback) { callback() });\n",
       "    }\n",
       "    finally {\n",
       "      delete root._bokeh_onload_callbacks\n",
       "    }\n",
       "    console.info(\"Bokeh: all callbacks have finished\");\n",
       "  }\n",
       "\n",
       "  function load_libs(js_urls, callback) {\n",
       "    root._bokeh_onload_callbacks.push(callback);\n",
       "    if (root._bokeh_is_loading > 0) {\n",
       "      console.log(\"Bokeh: BokehJS is being loaded, scheduling callback at\", now());\n",
       "      return null;\n",
       "    }\n",
       "    if (js_urls == null || js_urls.length === 0) {\n",
       "      run_callbacks();\n",
       "      return null;\n",
       "    }\n",
       "    console.log(\"Bokeh: BokehJS not loaded, scheduling load and callback at\", now());\n",
       "    root._bokeh_is_loading = js_urls.length;\n",
       "    for (var i = 0; i < js_urls.length; i++) {\n",
       "      var url = js_urls[i];\n",
       "      var s = document.createElement('script');\n",
       "      s.src = url;\n",
       "      s.async = false;\n",
       "      s.onreadystatechange = s.onload = function() {\n",
       "        root._bokeh_is_loading--;\n",
       "        if (root._bokeh_is_loading === 0) {\n",
       "          console.log(\"Bokeh: all BokehJS libraries loaded\");\n",
       "          run_callbacks()\n",
       "        }\n",
       "      };\n",
       "      s.onerror = function() {\n",
       "        console.warn(\"failed to load library \" + url);\n",
       "      };\n",
       "      console.log(\"Bokeh: injecting script tag for BokehJS library: \", url);\n",
       "      document.getElementsByTagName(\"head\")[0].appendChild(s);\n",
       "    }\n",
       "  };var element = document.getElementById(\"ec720060-479e-40e9-ba46-ea31e8843096\");\n",
       "  if (element == null) {\n",
       "    console.log(\"Bokeh: ERROR: autoload.js configured with elementid 'ec720060-479e-40e9-ba46-ea31e8843096' but no matching script tag was found. \")\n",
       "    return false;\n",
       "  }\n",
       "\n",
       "  var js_urls = [\"https://cdn.pydata.org/bokeh/release/bokeh-0.12.16.min.js\", \"https://cdn.pydata.org/bokeh/release/bokeh-widgets-0.12.16.min.js\", \"https://cdn.pydata.org/bokeh/release/bokeh-tables-0.12.16.min.js\", \"https://cdn.pydata.org/bokeh/release/bokeh-gl-0.12.16.min.js\"];\n",
       "\n",
       "  var inline_js = [\n",
       "    function(Bokeh) {\n",
       "      Bokeh.set_log_level(\"info\");\n",
       "    },\n",
       "    \n",
       "    function(Bokeh) {\n",
       "      \n",
       "    },\n",
       "    function(Bokeh) {\n",
       "      console.log(\"Bokeh: injecting CSS: https://cdn.pydata.org/bokeh/release/bokeh-0.12.16.min.css\");\n",
       "      Bokeh.embed.inject_css(\"https://cdn.pydata.org/bokeh/release/bokeh-0.12.16.min.css\");\n",
       "      console.log(\"Bokeh: injecting CSS: https://cdn.pydata.org/bokeh/release/bokeh-widgets-0.12.16.min.css\");\n",
       "      Bokeh.embed.inject_css(\"https://cdn.pydata.org/bokeh/release/bokeh-widgets-0.12.16.min.css\");\n",
       "      console.log(\"Bokeh: injecting CSS: https://cdn.pydata.org/bokeh/release/bokeh-tables-0.12.16.min.css\");\n",
       "      Bokeh.embed.inject_css(\"https://cdn.pydata.org/bokeh/release/bokeh-tables-0.12.16.min.css\");\n",
       "    }\n",
       "  ];\n",
       "\n",
       "  function run_inline_js() {\n",
       "    \n",
       "    if ((root.Bokeh !== undefined) || (force === true)) {\n",
       "      for (var i = 0; i < inline_js.length; i++) {\n",
       "        inline_js[i].call(root, root.Bokeh);\n",
       "      }if (force === true) {\n",
       "        display_loaded();\n",
       "      }} else if (Date.now() < root._bokeh_timeout) {\n",
       "      setTimeout(run_inline_js, 100);\n",
       "    } else if (!root._bokeh_failed_load) {\n",
       "      console.log(\"Bokeh: BokehJS failed to load within specified timeout.\");\n",
       "      root._bokeh_failed_load = true;\n",
       "    } else if (force !== true) {\n",
       "      var cell = $(document.getElementById(\"ec720060-479e-40e9-ba46-ea31e8843096\")).parents('.cell').data().cell;\n",
       "      cell.output_area.append_execute_result(NB_LOAD_WARNING)\n",
       "    }\n",
       "\n",
       "  }\n",
       "\n",
       "  if (root._bokeh_is_loading === 0) {\n",
       "    console.log(\"Bokeh: BokehJS loaded, going straight to plotting\");\n",
       "    run_inline_js();\n",
       "  } else {\n",
       "    load_libs(js_urls, function() {\n",
       "      console.log(\"Bokeh: BokehJS plotting callback run at\", now());\n",
       "      run_inline_js();\n",
       "    });\n",
       "  }\n",
       "}(window));"
      ],
      "application/vnd.bokehjs_load.v0+json": "\n(function(root) {\n  function now() {\n    return new Date();\n  }\n\n  var force = true;\n\n  if (typeof (root._bokeh_onload_callbacks) === \"undefined\" || force === true) {\n    root._bokeh_onload_callbacks = [];\n    root._bokeh_is_loading = undefined;\n  }\n\n  \n\n  \n  if (typeof (root._bokeh_timeout) === \"undefined\" || force === true) {\n    root._bokeh_timeout = Date.now() + 5000;\n    root._bokeh_failed_load = false;\n  }\n\n  var NB_LOAD_WARNING = {'data': {'text/html':\n     \"<div style='background-color: #fdd'>\\n\"+\n     \"<p>\\n\"+\n     \"BokehJS does not appear to have successfully loaded. If loading BokehJS from CDN, this \\n\"+\n     \"may be due to a slow or bad network connection. Possible fixes:\\n\"+\n     \"</p>\\n\"+\n     \"<ul>\\n\"+\n     \"<li>re-rerun `output_notebook()` to attempt to load from CDN again, or</li>\\n\"+\n     \"<li>use INLINE resources instead, as so:</li>\\n\"+\n     \"</ul>\\n\"+\n     \"<code>\\n\"+\n     \"from bokeh.resources import INLINE\\n\"+\n     \"output_notebook(resources=INLINE)\\n\"+\n     \"</code>\\n\"+\n     \"</div>\"}};\n\n  function display_loaded() {\n    var el = document.getElementById(\"ec720060-479e-40e9-ba46-ea31e8843096\");\n    if (el != null) {\n      el.textContent = \"BokehJS is loading...\";\n    }\n    if (root.Bokeh !== undefined) {\n      if (el != null) {\n        el.textContent = \"BokehJS \" + root.Bokeh.version + \" successfully loaded.\";\n      }\n    } else if (Date.now() < root._bokeh_timeout) {\n      setTimeout(display_loaded, 100)\n    }\n  }\n\n\n  function run_callbacks() {\n    try {\n      root._bokeh_onload_callbacks.forEach(function(callback) { callback() });\n    }\n    finally {\n      delete root._bokeh_onload_callbacks\n    }\n    console.info(\"Bokeh: all callbacks have finished\");\n  }\n\n  function load_libs(js_urls, callback) {\n    root._bokeh_onload_callbacks.push(callback);\n    if (root._bokeh_is_loading > 0) {\n      console.log(\"Bokeh: BokehJS is being loaded, scheduling callback at\", now());\n      return null;\n    }\n    if (js_urls == null || js_urls.length === 0) {\n      run_callbacks();\n      return null;\n    }\n    console.log(\"Bokeh: BokehJS not loaded, scheduling load and callback at\", now());\n    root._bokeh_is_loading = js_urls.length;\n    for (var i = 0; i < js_urls.length; i++) {\n      var url = js_urls[i];\n      var s = document.createElement('script');\n      s.src = url;\n      s.async = false;\n      s.onreadystatechange = s.onload = function() {\n        root._bokeh_is_loading--;\n        if (root._bokeh_is_loading === 0) {\n          console.log(\"Bokeh: all BokehJS libraries loaded\");\n          run_callbacks()\n        }\n      };\n      s.onerror = function() {\n        console.warn(\"failed to load library \" + url);\n      };\n      console.log(\"Bokeh: injecting script tag for BokehJS library: \", url);\n      document.getElementsByTagName(\"head\")[0].appendChild(s);\n    }\n  };var element = document.getElementById(\"ec720060-479e-40e9-ba46-ea31e8843096\");\n  if (element == null) {\n    console.log(\"Bokeh: ERROR: autoload.js configured with elementid 'ec720060-479e-40e9-ba46-ea31e8843096' but no matching script tag was found. \")\n    return false;\n  }\n\n  var js_urls = [\"https://cdn.pydata.org/bokeh/release/bokeh-0.12.16.min.js\", \"https://cdn.pydata.org/bokeh/release/bokeh-widgets-0.12.16.min.js\", \"https://cdn.pydata.org/bokeh/release/bokeh-tables-0.12.16.min.js\", \"https://cdn.pydata.org/bokeh/release/bokeh-gl-0.12.16.min.js\"];\n\n  var inline_js = [\n    function(Bokeh) {\n      Bokeh.set_log_level(\"info\");\n    },\n    \n    function(Bokeh) {\n      \n    },\n    function(Bokeh) {\n      console.log(\"Bokeh: injecting CSS: https://cdn.pydata.org/bokeh/release/bokeh-0.12.16.min.css\");\n      Bokeh.embed.inject_css(\"https://cdn.pydata.org/bokeh/release/bokeh-0.12.16.min.css\");\n      console.log(\"Bokeh: injecting CSS: https://cdn.pydata.org/bokeh/release/bokeh-widgets-0.12.16.min.css\");\n      Bokeh.embed.inject_css(\"https://cdn.pydata.org/bokeh/release/bokeh-widgets-0.12.16.min.css\");\n      console.log(\"Bokeh: injecting CSS: https://cdn.pydata.org/bokeh/release/bokeh-tables-0.12.16.min.css\");\n      Bokeh.embed.inject_css(\"https://cdn.pydata.org/bokeh/release/bokeh-tables-0.12.16.min.css\");\n    }\n  ];\n\n  function run_inline_js() {\n    \n    if ((root.Bokeh !== undefined) || (force === true)) {\n      for (var i = 0; i < inline_js.length; i++) {\n        inline_js[i].call(root, root.Bokeh);\n      }if (force === true) {\n        display_loaded();\n      }} else if (Date.now() < root._bokeh_timeout) {\n      setTimeout(run_inline_js, 100);\n    } else if (!root._bokeh_failed_load) {\n      console.log(\"Bokeh: BokehJS failed to load within specified timeout.\");\n      root._bokeh_failed_load = true;\n    } else if (force !== true) {\n      var cell = $(document.getElementById(\"ec720060-479e-40e9-ba46-ea31e8843096\")).parents('.cell').data().cell;\n      cell.output_area.append_execute_result(NB_LOAD_WARNING)\n    }\n\n  }\n\n  if (root._bokeh_is_loading === 0) {\n    console.log(\"Bokeh: BokehJS loaded, going straight to plotting\");\n    run_inline_js();\n  } else {\n    load_libs(js_urls, function() {\n      console.log(\"Bokeh: BokehJS plotting callback run at\", now());\n      run_inline_js();\n    });\n  }\n}(window));"
     },
     "metadata": {},
     "output_type": "display_data"
    }
   ],
   "source": [
    "output_notebook()\n",
    "client = pymongo.MongoClient('localhost', 27017)"
   ]
  },
  {
   "cell_type": "markdown",
   "metadata": {},
   "source": [
    "## Data"
   ]
  },
  {
   "cell_type": "code",
   "execution_count": 32,
   "metadata": {
    "collapsed": true
   },
   "outputs": [],
   "source": [
    "MOL = 'n2o'\n",
    "COMMITNUMBER = '1013f91'\n",
    "ATMPRO = dict(mls=294, saw=257, trp=300)"
   ]
  },
  {
   "cell_type": "code",
   "execution_count": 33,
   "metadata": {
    "collapsed": true
   },
   "outputs": [],
   "source": [
    "atmcomp = AtmComposition.cliradlw_nongreys(onlygas=MOL)"
   ]
  },
  {
   "cell_type": "code",
   "execution_count": 34,
   "metadata": {
    "collapsed": true
   },
   "outputs": [],
   "source": [
    "DCLI = {}\n",
    "for atmpro, _ in ATMPRO.items():\n",
    "    pcli = atmcomp.to_cliradparam(commitnumber=COMMITNUMBER, atmpro=atmpro, tsfc=ATMPRO[atmpro])\n",
    "    dcli = pcli.modeldata_pymongo(collection=client.cliradnew.lw)\n",
    "    DCLI[atmpro] = dcli"
   ]
  },
  {
   "cell_type": "code",
   "execution_count": 35,
   "metadata": {
    "collapsed": true
   },
   "outputs": [],
   "source": [
    "DCRD = {}"
   ]
  },
  {
   "cell_type": "code",
   "execution_count": 44,
   "metadata": {
    "collapsed": true
   },
   "outputs": [],
   "source": [
    "atmpro = 'trp'\n",
    "pcrds = atmcomp.to_lblnewparam(bestfit_values=True, atmpro=atmpro, tsfc=ATMPRO[atmpro])"
   ]
  },
  {
   "cell_type": "code",
   "execution_count": 45,
   "metadata": {
    "scrolled": true
   },
   "outputs": [
    {
     "data": {
      "text/plain": [
       "[['5014a19'], ['5014a19']]"
      ]
     },
     "execution_count": 45,
     "metadata": {},
     "output_type": "execute_result"
    }
   ],
   "source": [
    "cmts = [p.avail_commits(client.lblnew.bestfit_lw) for p in pcrds]\n",
    "cmts"
   ]
  },
  {
   "cell_type": "code",
   "execution_count": 46,
   "metadata": {
    "collapsed": true,
    "scrolled": false
   },
   "outputs": [],
   "source": [
    "commits = ['a06b618', '5014a19']\n",
    "dcrds = [p.modeldata_pymongo(collection=client.lblnew.bestfit_lw, commits=commits) for p in pcrds]\n",
    "\n",
    "dcrd = concat(*dcrds)\n",
    "DCRD[atmpro] = dcrd"
   ]
  },
  {
   "cell_type": "code",
   "execution_count": 47,
   "metadata": {},
   "outputs": [
    {
     "data": {
      "text/plain": [
       "({'mls': <climatools.dataset.CliradnewLWModelData at 0x2abed5642cc0>,\n",
       "  'saw': <climatools.dataset.CliradnewLWModelData at 0x2abed564a898>,\n",
       "  'trp': <climatools.dataset.CliradnewLWModelData at 0x2abed5667470>},\n",
       " {'mls': <climatools.dataset.LBLnewModelData at 0x2abed4aa4ba8>,\n",
       "  'saw': <climatools.dataset.LBLnewModelData at 0x2abecdb96c50>,\n",
       "  'trp': <climatools.dataset.LBLnewModelData at 0x2abed518bef0>})"
      ]
     },
     "execution_count": 47,
     "metadata": {},
     "output_type": "execute_result"
    }
   ],
   "source": [
    "DCLI, DCRD"
   ]
  },
  {
   "cell_type": "markdown",
   "metadata": {},
   "source": [
    "## Analysis code"
   ]
  },
  {
   "cell_type": "code",
   "execution_count": 48,
   "metadata": {
    "collapsed": true
   },
   "outputs": [],
   "source": [
    "def show_html(s):\n",
    "    display.display(display.HTML(s))\n",
    "\n",
    "def show_markdown(s):\n",
    "    display.display(display.Markdown(s))"
   ]
  },
  {
   "cell_type": "code",
   "execution_count": 49,
   "metadata": {
    "collapsed": true
   },
   "outputs": [],
   "source": [
    "def show_parameters(dcrd, dcli):\n",
    "    srss = [pd.Series(dcli.param, name=':D')]\n",
    "    srss_crd = [pd.Series(p) for p in dcrd.param]\n",
    "    df = pd.concat(srss_crd, axis=1, sort=True, keys=[f\"band{s['band']} {s['molecule']}\" for s in srss_crd])\n",
    "    srss.append(df)\n",
    "    df = pd.concat(srss, axis=1, sort=True, keys=['clirad-lw', 'lblnew-bestfit lw'])\n",
    "    df.fillna('-', inplace=True)\n",
    "    with pd.option_context('display.max_colwidth', 100):\n",
    "        display.display(df)"
   ]
  },
  {
   "cell_type": "code",
   "execution_count": 50,
   "metadata": {
    "collapsed": true
   },
   "outputs": [],
   "source": [
    "import rtmtools.clirad.sw.wrangle as cliradwrangle\n",
    "\n",
    "def oldclirad_data_atm():\n",
    "    '''\n",
    "    Load the OLD clirad's results. mls only.\n",
    "    '''\n",
    "    fpath = os.path.join('/chia_cluster/home/jackyu/radiation',\n",
    "                         'clirad-lw',\n",
    "                         'LW',\n",
    "                         'examples',\n",
    "                         'mls75_h2o_atmpro_co2_.0004_o3_atmpro_n2o_3.2e-7_ch4_1.8e-6_H2012',\n",
    "                         'OUTPUT_CLIRAD.dat')\n",
    "    \n",
    "    ds = cliradwrangle.load_OUTPUT_CLIRAD(readfrom=fpath)\n",
    "    \n",
    "    ds_cool = xr.Dataset()\n",
    "    ds_cool.coords['pressure'] = ('pressure', ds['layer_pressure'])\n",
    "    ds_cool.coords['band'] = ('band', ds['spectral_band'])\n",
    "    ds_cool['coolrg'] = (('band', 'pressure'), - ds['heating_rate'])\n",
    "    \n",
    "    ds_flux = xr.Dataset()\n",
    "    ds_flux.coords['pressure'] = ('pressure', ds['level_pressure'])\n",
    "    ds_flux.coords['band'] = ('band', ds['spectral_band'])\n",
    "    ds_flux['flug'] = (('band', 'pressure'), ds['flux_up'])\n",
    "    ds_flux['fldg'] = (('band', 'pressure'), ds['flux_down'])\n",
    "    ds_flux['fnetg'] = (('band', 'pressure'), ds['net_flux'])\n",
    "    \n",
    "    \n",
    "    d = {}\n",
    "    d['cool'] = ds_cool\n",
    "    d['flux'] = ds_flux\n",
    "    return d"
   ]
  },
  {
   "cell_type": "code",
   "execution_count": 51,
   "metadata": {
    "collapsed": true
   },
   "outputs": [],
   "source": [
    "def show_makeup():\n",
    "    df = pd.DataFrame()\n",
    "    for band, gs in atmcomp.gasinbands.items():\n",
    "        for g in gs:\n",
    "            df.loc[g, band] = str(atmcomp.gasconcs[g])\n",
    "\n",
    "    df = df.fillna(0)\n",
    "    df.columns.name = 'clirad band'\n",
    "    df.index.name = 'molecule'\n",
    "    \n",
    "    display.display(df)\n",
    "    display.display(display.Markdown('*TABLE.* Non-grey absorbers in the atmosphere.'))"
   ]
  },
  {
   "cell_type": "code",
   "execution_count": 52,
   "metadata": {
    "collapsed": true,
    "scrolled": false
   },
   "outputs": [],
   "source": [
    "def pltdata_cool(dcrd=None, dcli=None, atmpro='mls'):\n",
    "    colors = all_palettes['Set1'][4]\n",
    "    cool_cli = dcli.wgt_cool.sel(i=1).sum('band')['coolrg']\n",
    "    cool_crd = dcrd.crd_cool['coolrg'].sum('band').sum('g')\n",
    "    \n",
    "    data = [\n",
    "        {'label': 'CLIRAD',\n",
    "         'srs': cool_cli,\n",
    "         'line_dash': 'dashed', 'line_width': 5,\n",
    "         'color': colors[0], 'alpha': .6},\n",
    "        {'label': 'CRD',\n",
    "         'srs': cool_crd,\n",
    "         'line_dash': 'solid', 'line_width': 1.5,\n",
    "         'marker': 'circle', 'marker_size': 5,\n",
    "         'color': colors[2], 'alpha': 1}\n",
    "    ]\n",
    "    \n",
    "    # include old CLIRAD's results for mls profile\n",
    "#    if atmpro == 'mls':\n",
    "#        d_oldclirad = oldclirad_data_atm()\n",
    "#        ds_oldclirad = d_oldclirad['cool']        \n",
    "#        data.append(\n",
    "#            {'label': 'old CLIRAD (H2012)',\n",
    "#             'srs': fmt_cool(ds_oldclirad),\n",
    "#             'line_dash': 'solid', 'line_width': 1.5,\n",
    "#             'marker': 'square', 'marker_size': 3,\n",
    "#             'color': colors[3], 'alpha': .5})\n",
    "    return data\n",
    "\n",
    "\n",
    "def pltdata_cooldiff(dcrd=None, dcli=None, atmpro='mls'): \n",
    "    colors = all_palettes['Set1'][4]\n",
    "    cool_cli = dcli.wgt_cool.sel(i=1).sum('band')['coolrg']\n",
    "    cool_crd = dcrd.crd_cool['coolrg'].sum('band').sum('g')\n",
    "    cool_dif = cool_cli - cool_crd\n",
    "    \n",
    "    data = [\n",
    "        {'label': 'CLIRAD - CRD',\n",
    "         'srs': cool_dif,\n",
    "         'line_dash': 'solid', 'line_width': 1.5, \n",
    "         'marker': 'circle', 'marker_size': 7,\n",
    "         'color': colors[3], 'alpha': .8}\n",
    "    ]\n",
    "    \n",
    "    # include old CLIRAD's results for mls profile\n",
    "#    if atmpro == 'mls':\n",
    "#        d_oldclirad = oldclirad_data_atm()\n",
    "#        ds_oldclirad = d_oldclirad['cool']\n",
    "#        ds_oldclirad.coords['pressure'] = ds_crd.coords['pressure']\n",
    "#        ds_diff_old = ds_oldclirad.sum('band') - ds_crd.sum('band')\n",
    "#        data.append(\n",
    "#            {'label': 'old CLIRAD (H2012) - CRD',\n",
    "#             'srs': fmt_cool(ds_diff_old),\n",
    "#             'line_dash': 'dashed', 'line_width': 4,\n",
    "#             'color': colors[1], 'alpha': .5}\n",
    "#        )\n",
    "    return data\n",
    "\n",
    "\n",
    "def show_cool(dcrd=None, dcli=None, atmpro='mls'):\n",
    "    data_cool = pltdata_cool(dcrd, dcli, atmpro=atmpro)\n",
    "    p_cool_liny = plt_vert_profile_bokeh(pltdata=data_cool)\n",
    "    p_cool_logy = plt_vert_profile_bokeh(pltdata=data_cool, y_axis_type='log', prange=(.01, 200))\n",
    "    \n",
    "    data_cooldiff = pltdata_cooldiff(dcrd, dcli, atmpro=atmpro)\n",
    "    p_cooldiff_logy = plt_vert_profile_bokeh(pltdata=data_cooldiff, y_axis_type='log', prange=(.01, 200))\n",
    "    \n",
    "    everything = gridplot(p_cool_liny, p_cool_logy, p_cooldiff_logy, ncols=3)\n",
    "    show(everything)\n",
    "    display.display(display.Markdown('*FIGURE.* Cooling rates & difference.'))"
   ]
  },
  {
   "cell_type": "code",
   "execution_count": 53,
   "metadata": {
    "collapsed": true,
    "scrolled": false
   },
   "outputs": [],
   "source": [
    "def hist_band_vs_flux(da, title='Title'):\n",
    "    bands = [str(b.values) for b in da['band']]\n",
    "    source = ColumnDataSource(data={'band': bands, 'flux': da.values})\n",
    "    p = figure(x_range=bands, title=title)\n",
    "    p.vbar(source=source, x='band', top='flux', width=.9)\n",
    "    p.yaxis.axis_label = 'flux (W m-2)'\n",
    "    p.xaxis.axis_label = 'spectral band'\n",
    "    return p\n",
    "\n",
    "def show_hist_flux(dcrd=None, dcli=None, atmpro='mls'):\n",
    "    ds_crd = dcrd.crd_flux.sum('g')\n",
    "    ds_clirad = dcli.wgt_flux.sel(i=1)\n",
    "    \n",
    "    ip, varname = 0, 'flug'\n",
    "    da = (ds_clirad - ds_crd).isel(pressure=ip)[varname]\n",
    "    p_toa = hist_band_vs_flux(da, title='TOA flux. CLIRAD - CRD.')\n",
    "\n",
    "    ip, varname = -1, 'fldg'\n",
    "    da = (ds_clirad - ds_crd).isel(pressure=ip)[varname]\n",
    "    p_sfc = hist_band_vs_flux(da, title='SFC flux. CLIRAD - CRD.')    \n",
    "    \n",
    "    atm_crd = (ds_crd.isel(pressure=0) - ds_crd.isel(pressure=-1))['fnetg']\n",
    "    atm_clirad = (ds_clirad.isel(pressure=0) - ds_clirad.isel(pressure=-1))['fnetg']\n",
    "    da = atm_clirad - atm_crd\n",
    "    p_atm = hist_band_vs_flux(da, title='Atmosphere heating. CLIRAD - CRD.')\n",
    "\n",
    "    everything = gridplot(p_toa, p_sfc, p_atm, ncols=3, plot_width=300, plot_height=300)\n",
    "    \n",
    "    show(everything)\n",
    "    display.display(\n",
    "        display.Markdown('*FIGURE.* Difference between CLIRAD and CRD'\n",
    "          ' in TOA, SFC and net atmosphere flux,'\n",
    "          ' in each spectral band.'))\n",
    "\n",
    "def tb_flux(fluxcrd, fluxcli, atmpro='mls'):\n",
    "    '''\n",
    "    Return table that shows the difference between CRD and CLIRAD fluxes\n",
    "    at various levels.\n",
    "    '''\n",
    "    tropos = tropopause_pressures()\n",
    "    \n",
    "    olr_crd = fluxcrd['flug'].isel(pressure=0)\n",
    "    sfc_crd = fluxcrd['fldg'].isel(pressure=-1)\n",
    "    atm_crd = (fluxcrd.isel(pressure=0) - fluxcrd.isel(pressure=-1))['fnetg']\n",
    "    trop_up_crd = fluxcrd['flug'].sel(pressure=tropos[atmpro])\n",
    "    trop_down_crd = fluxcrd['fldg'].sel(pressure=tropos[atmpro])\n",
    "    trop_net_crd = fluxcrd['fnetg'].sel(pressure=tropos[atmpro])\n",
    "    \n",
    "    olr_cli = fluxcli['flug'].isel(pressure=0)\n",
    "    sfc_cli = fluxcli['fldg'].isel(pressure=-1)\n",
    "    atm_cli = (fluxcli.isel(pressure=0) - fluxcli.isel(pressure=-1))['fnetg']\n",
    "    trop_up_cli = fluxcli['flug'].sel(pressure=tropos[atmpro])\n",
    "    trop_down_cli = fluxcli['fldg'].sel(pressure=tropos[atmpro])\n",
    "    trop_net_cli = fluxcli['fnetg'].sel(pressure=tropos[atmpro])\n",
    "    \n",
    "    df = pd.DataFrame()\n",
    "    df.loc['CLIRAD - CRD', 'TOA up'] = (olr_cli - olr_crd).values\n",
    "    df.loc['CLIRAD - CRD', 'SFC down'] = (sfc_cli - sfc_crd).values\n",
    "    df.loc['CLIRAD - CRD', 'ATM heating'] = (atm_cli - atm_crd).values\n",
    "    df.loc['CLIRAD - CRD', 'tropo up'] = (trop_up_cli - trop_up_crd).values\n",
    "    df.loc['CLIRAD - CRD', 'tropo down'] = (trop_down_cli - trop_down_crd).values\n",
    "    df.loc['CLIRAD - CRD', 'tropo net'] = (trop_net_cli - trop_net_crd).values\n",
    "    df.loc['CRD', 'TOA up'] = olr_crd.values\n",
    "    df.loc['CRD', 'SFC down'] = sfc_crd.values\n",
    "    df.loc['CRD', 'ATM heating'] = atm_crd.values\n",
    "    df.loc['CRD', 'tropo up'] = trop_up_crd.values\n",
    "    df.loc['CRD', 'tropo down'] = trop_down_crd.values\n",
    "    df.loc['CRD', 'tropo net'] = trop_net_crd.values\n",
    "        \n",
    "    return df.astype('float').round(2)   \n",
    "    \n",
    "def show_tb_flux(dcrd=None, dcli=None, atmpro='mls'):\n",
    "    dfs = {}\n",
    "    fluxcrd = dcrd.crd_flux.sum(['band', 'g'])    \n",
    "    fluxcli = dcli.wgt_flux.sel(i=1).sum('band')\n",
    "    dfs['Sum over band'] = tb_flux(fluxcrd, fluxcli, atmpro=atmpro)\n",
    "    for b in dcrd.crd_flux['band']:\n",
    "        fluxcrd = dcrd.crd_flux.sum('g').sel(band=b)\n",
    "        fluxcli = dcli.wgt_flux.sel(i=1, band=b)\n",
    "        dfs[f'Band {int(b)}'] = tb_flux(fluxcrd, fluxcli, atmpro=atmpro)\n",
    "    dflist = [df for _, df in dfs.items()]\n",
    "    keys = [key for key, _ in dfs.items()]\n",
    "    df = pd.concat(dflist, axis=0, keys=keys)\n",
    "    \n",
    "#    if atmpro == 'mls':\n",
    "#        ds_oldclirad = oldclirad_data_atm()['flux']\n",
    "#        ds_oldclirad['pressure'] = ds_crd['pressure']\n",
    "#        olr_oldclirad = ds_oldclirad['flug'].isel(pressure=0)\n",
    "#        sfc_oldclirad = ds_oldclirad['fldg'].isel(pressure=-1)\n",
    "#        atm_oldclirad = (ds_oldclirad.isel(pressure=0)\n",
    "#                         - ds_oldclirad.isel(pressure=-1))['fnetg']\n",
    "   \n",
    "##    if atmpro == 'mls':\n",
    "##        df.loc['old CLIRAD - CRD', 'OLR flux'] = (fmt(olr_oldclirad) - fmt(olr_crd)).values\n",
    "##        df.loc['old CLIRAD - CRD', 'SFC flux'] = (fmt(sfc_oldclirad) - fmt(sfc_crd)).values\n",
    "##        df.loc['old CLIRAD - CRD', 'ATM heating'] = (fmt(atm_oldclirad) - fmt(atm_crd)).values\n",
    "    display.display(df)\n",
    "    display.display(\n",
    "        display.Markdown('*TABLE.* Difference between CLIRAD and CRD fluxes'\n",
    "          ' at various atmosphere levels.'))\n",
    "    \n",
    "#show_hist_flux(dcrd, dcli, atmpro='mls')\n",
    "#show_tb_flux(DCRD['mls'], DCLI['mls'], atmpro='mls')"
   ]
  },
  {
   "cell_type": "code",
   "execution_count": 54,
   "metadata": {
    "collapsed": true,
    "scrolled": true
   },
   "outputs": [],
   "source": [
    "def cool_tofile(atmpro=None):\n",
    "    dcli = clirad_data_atm(params_atm=[subparam_atm_clirad(atmpro=atmpro)])\n",
    "    dcrd = crd_data_atm(params_atm=subparams_atm_lblnew(atmpro=atmpro))\n",
    "    \n",
    "    dcli = dcli['cool'].sel(i=1).drop('i').sum('band')\n",
    "    dcrd = dcrd['cool'].sum('band')\n",
    "    \n",
    "    dcli = dcli['coolrg'].to_dataframe()\n",
    "    dcrd = dcrd['coolrg'].to_dataframe()\n",
    "    \n",
    "    dcli = dcli.set_index('layer', append=True)\n",
    "    dcrd = dcrd.set_index('layer', append=True)\n",
    "    \n",
    "    ddif = dcli - dcrd\n",
    "    \n",
    "    df = pd.concat([dcrd, dcli, ddif], axis=1, keys=['CRD', 'CLIRAD', 'CLIRAD - CRD'])\n",
    "    return df\n",
    "\n",
    "\n",
    "def flux_tofile(atmpro=None):\n",
    "    tropopauses = {'mls': 40, 'saw': 45, 'trp': 37}\n",
    "    ilevels = [0, tropopauses[atmpro], -1]\n",
    "    \n",
    "    dcli = clirad_data_atm(params_atm=[subparam_atm_clirad(atmpro=atmpro)])\n",
    "    dcrd = crd_data_atm(params_atm=subparams_atm_lblnew(atmpro=atmpro))\n",
    "    \n",
    "    dcli = dcli['flux'].sel(i=1).drop('i').sum('band').isel(pressure=ilevels)\n",
    "    dcrd = dcrd['flux'].sum('band').isel(pressure=ilevels)\n",
    "    \n",
    "    dcli = dcli.to_dataframe()\n",
    "    dcrd = dcrd.to_dataframe()\n",
    "    \n",
    "    dcli = dcli.set_index('level', append=True)\n",
    "    dcrd = dcrd.set_index('level', append=True)\n",
    "    \n",
    "    ddif = dcli - dcrd\n",
    "    \n",
    "    df = pd.concat([dcrd, dcli, ddif], axis=1, keys=['CRD', 'CLIRAD', 'CLIRAD - CRD'])\n",
    "    return df\n",
    "\n",
    "\n",
    "def script_tofile():\n",
    "    fname = f'results_{MOL}atm_cliradsinglerun.xlsx'\n",
    "    writer = pd.ExcelWriter(fname)\n",
    "    for atmpro in ('mls', 'saw', 'trp'):\n",
    "        dflux = flux_tofile(atmpro=atmpro)\n",
    "        dflux.to_excel(writer, f'flux {atmpro}')\n",
    "        \n",
    "        dcool = cool_tofile(atmpro=atmpro)\n",
    "        dcool.to_excel(writer, f'cool {atmpro}')\n",
    "        \n",
    "    html = f'Download: <a href=\"./{fname}\">{fname}</a>'\n",
    "    show_html(html) "
   ]
  },
  {
   "cell_type": "code",
   "execution_count": 55,
   "metadata": {
    "collapsed": true,
    "scrolled": false
   },
   "outputs": [],
   "source": [
    "def script():\n",
    "    \n",
    "    d_atm = {'mls': 'mid-latitude summer', 'saw': 'sub-arctic winter', 'trp': 'tropical'}\n",
    "    \n",
    "    s_makeup = 'Makeup of atmosphere.'\n",
    "    s_parameters = 'Parameters of runs.'\n",
    "    s_atmpro = '# {}'\n",
    "    s_cool = 'Cooling rates. {}.'\n",
    "    s_flux = 'Fluxes. {}.'\n",
    "    \n",
    "    atmpros = ['mls', 'saw', 'trp']\n",
    "    \n",
    "    # TOC\n",
    "    show_markdown('### Table of Contents')\n",
    "    show_html(getHTML_hrefanchor(s_makeup))\n",
    "    \n",
    "    for atmpro in atmpros:\n",
    "        show_markdown('**' + d_atm[atmpro] + '**')\n",
    "        show_html(getHTML_hrefanchor(s_parameters + f' {atmpro}'))\n",
    "        show_html(getHTML_hrefanchor(s_cool.format(atmpro)))\n",
    "        show_html(getHTML_hrefanchor(s_flux.format(atmpro)))\n",
    "\n",
    "    # Atmosphere makeup\n",
    "    show_html(getHTML_idanchor(s_makeup))\n",
    "    show_markdown(getMarkdown_sectitle(s_makeup))\n",
    "    show_makeup()\n",
    "        \n",
    "    for atmpro in atmpros:\n",
    "        dcrd, dcli = DCRD[atmpro], DCLI[atmpro]\n",
    "        \n",
    "        show_html(getHTML_idanchor(s_parameters + f' {atmpro}'))\n",
    "        show_markdown(getMarkdown_sectitle(s_parameters + f' {atmpro}'))\n",
    "        show_parameters(dcrd, dcli)\n",
    "        \n",
    "        show_html(getHTML_idanchor(s_cool.format(atmpro)))\n",
    "        show_markdown(getMarkdown_sectitle(s_cool.format(atmpro)))\n",
    "        show_cool(dcrd, dcli, atmpro=atmpro)\n",
    "        \n",
    "        show_html(getHTML_idanchor(s_flux.format(atmpro)))\n",
    "        show_markdown(getMarkdown_sectitle(s_flux.format(atmpro)))\n",
    "        show_hist_flux(dcrd, dcli, atmpro=atmpro)\n",
    "        show_tb_flux(dcrd, dcli, atmpro=atmpro)\n",
    "    \n",
    "    #script_tofile()"
   ]
  },
  {
   "cell_type": "markdown",
   "metadata": {},
   "source": [
    "## Analysis Result"
   ]
  },
  {
   "cell_type": "code",
   "execution_count": 56,
   "metadata": {
    "scrolled": false
   },
   "outputs": [
    {
     "data": {
      "text/markdown": [
       "### Table of Contents"
      ],
      "text/plain": [
       "<IPython.core.display.Markdown object>"
      ]
     },
     "metadata": {},
     "output_type": "display_data"
    },
    {
     "data": {
      "text/html": [
       "<a href=\"#Makeup_of_atmosphere.\">Makeup of atmosphere.</a>"
      ],
      "text/plain": [
       "<IPython.core.display.HTML object>"
      ]
     },
     "metadata": {},
     "output_type": "display_data"
    },
    {
     "data": {
      "text/markdown": [
       "**mid-latitude summer**"
      ],
      "text/plain": [
       "<IPython.core.display.Markdown object>"
      ]
     },
     "metadata": {},
     "output_type": "display_data"
    },
    {
     "data": {
      "text/html": [
       "<a href=\"#Parameters_of_runs._mls\">Parameters of runs. mls</a>"
      ],
      "text/plain": [
       "<IPython.core.display.HTML object>"
      ]
     },
     "metadata": {},
     "output_type": "display_data"
    },
    {
     "data": {
      "text/html": [
       "<a href=\"#Cooling_rates._mls.\">Cooling rates. mls.</a>"
      ],
      "text/plain": [
       "<IPython.core.display.HTML object>"
      ]
     },
     "metadata": {},
     "output_type": "display_data"
    },
    {
     "data": {
      "text/html": [
       "<a href=\"#Fluxes._mls.\">Fluxes. mls.</a>"
      ],
      "text/plain": [
       "<IPython.core.display.HTML object>"
      ]
     },
     "metadata": {},
     "output_type": "display_data"
    },
    {
     "data": {
      "text/markdown": [
       "**sub-arctic winter**"
      ],
      "text/plain": [
       "<IPython.core.display.Markdown object>"
      ]
     },
     "metadata": {},
     "output_type": "display_data"
    },
    {
     "data": {
      "text/html": [
       "<a href=\"#Parameters_of_runs._saw\">Parameters of runs. saw</a>"
      ],
      "text/plain": [
       "<IPython.core.display.HTML object>"
      ]
     },
     "metadata": {},
     "output_type": "display_data"
    },
    {
     "data": {
      "text/html": [
       "<a href=\"#Cooling_rates._saw.\">Cooling rates. saw.</a>"
      ],
      "text/plain": [
       "<IPython.core.display.HTML object>"
      ]
     },
     "metadata": {},
     "output_type": "display_data"
    },
    {
     "data": {
      "text/html": [
       "<a href=\"#Fluxes._saw.\">Fluxes. saw.</a>"
      ],
      "text/plain": [
       "<IPython.core.display.HTML object>"
      ]
     },
     "metadata": {},
     "output_type": "display_data"
    },
    {
     "data": {
      "text/markdown": [
       "**tropical**"
      ],
      "text/plain": [
       "<IPython.core.display.Markdown object>"
      ]
     },
     "metadata": {},
     "output_type": "display_data"
    },
    {
     "data": {
      "text/html": [
       "<a href=\"#Parameters_of_runs._trp\">Parameters of runs. trp</a>"
      ],
      "text/plain": [
       "<IPython.core.display.HTML object>"
      ]
     },
     "metadata": {},
     "output_type": "display_data"
    },
    {
     "data": {
      "text/html": [
       "<a href=\"#Cooling_rates._trp.\">Cooling rates. trp.</a>"
      ],
      "text/plain": [
       "<IPython.core.display.HTML object>"
      ]
     },
     "metadata": {},
     "output_type": "display_data"
    },
    {
     "data": {
      "text/html": [
       "<a href=\"#Fluxes._trp.\">Fluxes. trp.</a>"
      ],
      "text/plain": [
       "<IPython.core.display.HTML object>"
      ]
     },
     "metadata": {},
     "output_type": "display_data"
    },
    {
     "data": {
      "text/html": [
       "<a id=\"Makeup_of_atmosphere.\"></a>"
      ],
      "text/plain": [
       "<IPython.core.display.HTML object>"
      ]
     },
     "metadata": {},
     "output_type": "display_data"
    },
    {
     "data": {
      "text/markdown": [
       "# Makeup of atmosphere."
      ],
      "text/plain": [
       "<IPython.core.display.Markdown object>"
      ]
     },
     "metadata": {},
     "output_type": "display_data"
    },
    {
     "data": {
      "text/html": [
       "<div>\n",
       "<style scoped>\n",
       "    .dataframe tbody tr th:only-of-type {\n",
       "        vertical-align: middle;\n",
       "    }\n",
       "\n",
       "    .dataframe tbody tr th {\n",
       "        vertical-align: top;\n",
       "    }\n",
       "\n",
       "    .dataframe thead th {\n",
       "        text-align: right;\n",
       "    }\n",
       "</style>\n",
       "<table border=\"1\" class=\"dataframe\">\n",
       "  <thead>\n",
       "    <tr style=\"text-align: right;\">\n",
       "      <th>clirad band</th>\n",
       "      <th>3</th>\n",
       "      <th>9</th>\n",
       "    </tr>\n",
       "    <tr>\n",
       "      <th>molecule</th>\n",
       "      <th></th>\n",
       "      <th></th>\n",
       "    </tr>\n",
       "  </thead>\n",
       "  <tbody>\n",
       "    <tr>\n",
       "      <th>n2o</th>\n",
       "      <td>3.2e-07</td>\n",
       "      <td>3.2e-07</td>\n",
       "    </tr>\n",
       "  </tbody>\n",
       "</table>\n",
       "</div>"
      ],
      "text/plain": [
       "clirad band        3        9\n",
       "molecule                     \n",
       "n2o          3.2e-07  3.2e-07"
      ]
     },
     "metadata": {},
     "output_type": "display_data"
    },
    {
     "data": {
      "text/markdown": [
       "*TABLE.* Non-grey absorbers in the atmosphere."
      ],
      "text/plain": [
       "<IPython.core.display.Markdown object>"
      ]
     },
     "metadata": {},
     "output_type": "display_data"
    },
    {
     "data": {
      "text/html": [
       "<a id=\"Parameters_of_runs._mls\"></a>"
      ],
      "text/plain": [
       "<IPython.core.display.HTML object>"
      ]
     },
     "metadata": {},
     "output_type": "display_data"
    },
    {
     "data": {
      "text/markdown": [
       "# Parameters of runs. mls"
      ],
      "text/plain": [
       "<IPython.core.display.Markdown object>"
      ]
     },
     "metadata": {},
     "output_type": "display_data"
    },
    {
     "data": {
      "text/html": [
       "<div>\n",
       "<style scoped>\n",
       "    .dataframe tbody tr th:only-of-type {\n",
       "        vertical-align: middle;\n",
       "    }\n",
       "\n",
       "    .dataframe tbody tr th {\n",
       "        vertical-align: top;\n",
       "    }\n",
       "\n",
       "    .dataframe thead tr th {\n",
       "        text-align: left;\n",
       "    }\n",
       "</style>\n",
       "<table border=\"1\" class=\"dataframe\">\n",
       "  <thead>\n",
       "    <tr>\n",
       "      <th></th>\n",
       "      <th>clirad-lw</th>\n",
       "      <th colspan=\"2\" halign=\"left\">lblnew-bestfit lw</th>\n",
       "    </tr>\n",
       "    <tr>\n",
       "      <th></th>\n",
       "      <th>:D</th>\n",
       "      <th>band3a n2o</th>\n",
       "      <th>band7 n2o</th>\n",
       "    </tr>\n",
       "  </thead>\n",
       "  <tbody>\n",
       "    <tr>\n",
       "      <th>atmpro</th>\n",
       "      <td>mls</td>\n",
       "      <td>mls</td>\n",
       "      <td>mls</td>\n",
       "    </tr>\n",
       "    <tr>\n",
       "      <th>band</th>\n",
       "      <td>[3, 9]</td>\n",
       "      <td>3a</td>\n",
       "      <td>7</td>\n",
       "    </tr>\n",
       "    <tr>\n",
       "      <th>commitnumber</th>\n",
       "      <td>1013f91</td>\n",
       "      <td>a06b618</td>\n",
       "      <td>a06b618</td>\n",
       "    </tr>\n",
       "    <tr>\n",
       "      <th>conc</th>\n",
       "      <td>-</td>\n",
       "      <td>3.2e-07</td>\n",
       "      <td>3.2e-07</td>\n",
       "    </tr>\n",
       "    <tr>\n",
       "      <th>dv</th>\n",
       "      <td>-</td>\n",
       "      <td>0.001</td>\n",
       "      <td>0.001</td>\n",
       "    </tr>\n",
       "    <tr>\n",
       "      <th>klin</th>\n",
       "      <td>-</td>\n",
       "      <td>2.22e-20</td>\n",
       "      <td>2.22e-20</td>\n",
       "    </tr>\n",
       "    <tr>\n",
       "      <th>molecule</th>\n",
       "      <td>{'n2o': 3.2e-07}</td>\n",
       "      <td>n2o</td>\n",
       "      <td>n2o</td>\n",
       "    </tr>\n",
       "    <tr>\n",
       "      <th>ng_adju</th>\n",
       "      <td>-</td>\n",
       "      <td>[0, 0]</td>\n",
       "      <td>[0, 0]</td>\n",
       "    </tr>\n",
       "    <tr>\n",
       "      <th>ng_refs</th>\n",
       "      <td>-</td>\n",
       "      <td>[1, 2]</td>\n",
       "      <td>[2, 2]</td>\n",
       "    </tr>\n",
       "    <tr>\n",
       "      <th>nv</th>\n",
       "      <td>-</td>\n",
       "      <td>1000</td>\n",
       "      <td>1000</td>\n",
       "    </tr>\n",
       "    <tr>\n",
       "      <th>option_compute_btable</th>\n",
       "      <td>-</td>\n",
       "      <td>0</td>\n",
       "      <td>0</td>\n",
       "    </tr>\n",
       "    <tr>\n",
       "      <th>option_compute_ktable</th>\n",
       "      <td>-</td>\n",
       "      <td>1</td>\n",
       "      <td>1</td>\n",
       "    </tr>\n",
       "    <tr>\n",
       "      <th>option_wgt_flux</th>\n",
       "      <td>-</td>\n",
       "      <td>1</td>\n",
       "      <td>1</td>\n",
       "    </tr>\n",
       "    <tr>\n",
       "      <th>option_wgt_k</th>\n",
       "      <td>-</td>\n",
       "      <td>1</td>\n",
       "      <td>1</td>\n",
       "    </tr>\n",
       "    <tr>\n",
       "      <th>ref_pts</th>\n",
       "      <td>-</td>\n",
       "      <td>[[1, 250], [500, 250]]</td>\n",
       "      <td>[[1, 250], [500, 250]]</td>\n",
       "    </tr>\n",
       "    <tr>\n",
       "      <th>tsfc</th>\n",
       "      <td>294</td>\n",
       "      <td>294</td>\n",
       "      <td>294</td>\n",
       "    </tr>\n",
       "    <tr>\n",
       "      <th>vmax</th>\n",
       "      <td>-</td>\n",
       "      <td>620</td>\n",
       "      <td>1380</td>\n",
       "    </tr>\n",
       "    <tr>\n",
       "      <th>vmin</th>\n",
       "      <td>-</td>\n",
       "      <td>540</td>\n",
       "      <td>1215</td>\n",
       "    </tr>\n",
       "    <tr>\n",
       "      <th>w_diffuse</th>\n",
       "      <td>-</td>\n",
       "      <td>[[1.8], [1.66, 1.8]]</td>\n",
       "      <td>[[1.8, 1.66], [1.6, 1.8]]</td>\n",
       "    </tr>\n",
       "    <tr>\n",
       "      <th>wgt</th>\n",
       "      <td>-</td>\n",
       "      <td>[[0.9], [0.5, 0.95]]</td>\n",
       "      <td>[[0.6, 0.5], [0.6, 0.9]]</td>\n",
       "    </tr>\n",
       "  </tbody>\n",
       "</table>\n",
       "</div>"
      ],
      "text/plain": [
       "                              clirad-lw       lblnew-bestfit lw  \\\n",
       "                                     :D              band3a n2o   \n",
       "atmpro                              mls                     mls   \n",
       "band                             [3, 9]                      3a   \n",
       "commitnumber                    1013f91                 a06b618   \n",
       "conc                                  -                 3.2e-07   \n",
       "dv                                    -                   0.001   \n",
       "klin                                  -                2.22e-20   \n",
       "molecule               {'n2o': 3.2e-07}                     n2o   \n",
       "ng_adju                               -                  [0, 0]   \n",
       "ng_refs                               -                  [1, 2]   \n",
       "nv                                    -                    1000   \n",
       "option_compute_btable                 -                       0   \n",
       "option_compute_ktable                 -                       1   \n",
       "option_wgt_flux                       -                       1   \n",
       "option_wgt_k                          -                       1   \n",
       "ref_pts                               -  [[1, 250], [500, 250]]   \n",
       "tsfc                                294                     294   \n",
       "vmax                                  -                     620   \n",
       "vmin                                  -                     540   \n",
       "w_diffuse                             -    [[1.8], [1.66, 1.8]]   \n",
       "wgt                                   -    [[0.9], [0.5, 0.95]]   \n",
       "\n",
       "                                                  \n",
       "                                       band7 n2o  \n",
       "atmpro                                       mls  \n",
       "band                                           7  \n",
       "commitnumber                             a06b618  \n",
       "conc                                     3.2e-07  \n",
       "dv                                         0.001  \n",
       "klin                                    2.22e-20  \n",
       "molecule                                     n2o  \n",
       "ng_adju                                   [0, 0]  \n",
       "ng_refs                                   [2, 2]  \n",
       "nv                                          1000  \n",
       "option_compute_btable                          0  \n",
       "option_compute_ktable                          1  \n",
       "option_wgt_flux                                1  \n",
       "option_wgt_k                                   1  \n",
       "ref_pts                   [[1, 250], [500, 250]]  \n",
       "tsfc                                         294  \n",
       "vmax                                        1380  \n",
       "vmin                                        1215  \n",
       "w_diffuse              [[1.8, 1.66], [1.6, 1.8]]  \n",
       "wgt                     [[0.6, 0.5], [0.6, 0.9]]  "
      ]
     },
     "metadata": {},
     "output_type": "display_data"
    },
    {
     "data": {
      "text/html": [
       "<a id=\"Cooling_rates._mls.\"></a>"
      ],
      "text/plain": [
       "<IPython.core.display.HTML object>"
      ]
     },
     "metadata": {},
     "output_type": "display_data"
    },
    {
     "data": {
      "text/markdown": [
       "# Cooling rates. mls."
      ],
      "text/plain": [
       "<IPython.core.display.Markdown object>"
      ]
     },
     "metadata": {},
     "output_type": "display_data"
    },
    {
     "data": {
      "text/html": [
       "\n",
       "<div class=\"bk-root\">\n",
       "    <div class=\"bk-plotdiv\" id=\"7cdcd13e-1d97-4de9-b214-50073568d93c\"></div>\n",
       "</div>"
      ]
     },
     "metadata": {},
     "output_type": "display_data"
    },
    {
     "data": {
      "application/javascript": [
       "(function(root) {\n",
       "  function embed_document(root) {\n",
       "    \n",
       "  var docs_json = {\"287af65d-66ed-4b81-b268-095b19b1bd05\":{\"roots\":{\"references\":[{\"attributes\":{\"ticker\":null},\"id\":\"1df41a97-c764-4545-8c83-c1f5079fbd12\",\"type\":\"LogTickFormatter\"},{\"attributes\":{\"data_source\":{\"id\":\"b59e362a-504a-46e0-921a-00cfade65da8\",\"type\":\"ColumnDataSource\"},\"glyph\":{\"id\":\"7a41e3d5-7555-4e3c-b4d0-efb06e93d8d5\",\"type\":\"Circle\"},\"hover_glyph\":null,\"muted_glyph\":null,\"nonselection_glyph\":{\"id\":\"1790b99b-ac39-4a3c-b2f2-670bb97518a9\",\"type\":\"Circle\"},\"selection_glyph\":null,\"view\":{\"id\":\"692586ed-e18e-439d-9d12-a941c8d1bad5\",\"type\":\"CDSView\"}},\"id\":\"ed8c0653-72df-4290-b1fa-cf3ca56f02e9\",\"type\":\"GlyphRenderer\"},{\"attributes\":{\"fill_alpha\":{\"value\":0.1},\"fill_color\":{\"value\":\"#1f77b4\"},\"line_alpha\":{\"value\":0.1},\"line_color\":{\"value\":\"#1f77b4\"},\"x\":{\"field\":\"x\"},\"y\":{\"field\":\"y\"}},\"id\":\"5ab9f93a-eed3-40e8-a7a2-b4506910e4cc\",\"type\":\"Circle\"},{\"attributes\":{},\"id\":\"be81988c-cb43-4a38-870d-3e23036a598f\",\"type\":\"BasicTicker\"},{\"attributes\":{},\"id\":\"d7aad9ff-1217-48d6-9728-47414cb1903a\",\"type\":\"ResetTool\"},{\"attributes\":{\"line_color\":\"#4daf4a\",\"line_width\":1.5,\"x\":{\"field\":\"x\"},\"y\":{\"field\":\"y\"}},\"id\":\"de3177f8-db08-45f4-83d6-89dcb9b21ddb\",\"type\":\"Line\"},{\"attributes\":{\"dimension\":1,\"plot\":{\"id\":\"782ae0e5-751b-415a-b9bb-5a099aa24ffc\",\"subtype\":\"Figure\",\"type\":\"Plot\"},\"ticker\":{\"id\":\"d3d8f85c-82b6-4b10-8e47-3eb480e25704\",\"type\":\"LogTicker\"}},\"id\":\"f2b1b26f-ac71-4730-9294-a20e7a6040d1\",\"type\":\"Grid\"},{\"attributes\":{\"plot\":{\"id\":\"782ae0e5-751b-415a-b9bb-5a099aa24ffc\",\"subtype\":\"Figure\",\"type\":\"Plot\"},\"ticker\":{\"id\":\"be81988c-cb43-4a38-870d-3e23036a598f\",\"type\":\"BasicTicker\"}},\"id\":\"5bcd4d01-38a6-4d8c-a474-6959a751e9e1\",\"type\":\"Grid\"},{\"attributes\":{\"items\":[{\"id\":\"01311027-b37f-4c71-b0ea-e0bd9c6e13b3\",\"type\":\"LegendItem\"}],\"label_text_font_size\":{\"value\":\"8pt\"},\"location\":\"top_center\",\"orientation\":\"horizontal\",\"plot\":{\"id\":\"782ae0e5-751b-415a-b9bb-5a099aa24ffc\",\"subtype\":\"Figure\",\"type\":\"Plot\"}},\"id\":\"722338de-7422-4bfe-b5bf-ede2830cfdff\",\"type\":\"Legend\"},{\"attributes\":{\"items\":[{\"id\":\"a560a735-0273-4b9b-8677-bd16082edc39\",\"type\":\"LegendItem\"},{\"id\":\"58c6563f-3fc0-406f-ad61-a62839de4473\",\"type\":\"LegendItem\"}],\"label_text_font_size\":{\"value\":\"8pt\"},\"location\":\"top_center\",\"orientation\":\"horizontal\",\"plot\":{\"id\":\"ee2b9de4-5a2e-4c0a-93a7-a0260aca6f6d\",\"subtype\":\"Figure\",\"type\":\"Plot\"}},\"id\":\"a2180e42-5300-4ccf-b919-17b2498ea521\",\"type\":\"Legend\"},{\"attributes\":{\"callback\":null,\"end\":0.09198967923299999,\"start\":-0.039485590533},\"id\":\"97581be8-2312-4ed8-913f-3efa2c9b8494\",\"type\":\"Range1d\"},{\"attributes\":{\"source\":{\"id\":\"b59e362a-504a-46e0-921a-00cfade65da8\",\"type\":\"ColumnDataSource\"}},\"id\":\"692586ed-e18e-439d-9d12-a941c8d1bad5\",\"type\":\"CDSView\"},{\"attributes\":{\"num_minor_ticks\":10},\"id\":\"d3d8f85c-82b6-4b10-8e47-3eb480e25704\",\"type\":\"LogTicker\"},{\"attributes\":{\"label\":{\"value\":\"CRD\"},\"renderers\":[{\"id\":\"22e165de-2ed2-4e90-93e0-548905a6e4bb\",\"type\":\"GlyphRenderer\"},{\"id\":\"88b5fac3-0d4e-4af0-bc49-e6a93c8035c7\",\"type\":\"GlyphRenderer\"}]},\"id\":\"b14c38d1-b8ca-4089-afbb-7a048dc28514\",\"type\":\"LegendItem\"},{\"attributes\":{},\"id\":\"c9dde08b-3e4e-4257-a353-efb284c3f420\",\"type\":\"WheelZoomTool\"},{\"attributes\":{\"axis_label\":\"cooling rate [K/day]\",\"formatter\":{\"id\":\"9779bc31-8a8a-47d3-9425-cd7882c0b162\",\"type\":\"BasicTickFormatter\"},\"plot\":{\"id\":\"782ae0e5-751b-415a-b9bb-5a099aa24ffc\",\"subtype\":\"Figure\",\"type\":\"Plot\"},\"ticker\":{\"id\":\"be81988c-cb43-4a38-870d-3e23036a598f\",\"type\":\"BasicTicker\"}},\"id\":\"8db732ee-ec9a-480a-ade4-e725f394d570\",\"type\":\"LinearAxis\"},{\"attributes\":{\"above\":[{\"id\":\"722338de-7422-4bfe-b5bf-ede2830cfdff\",\"type\":\"Legend\"}],\"below\":[{\"id\":\"8db732ee-ec9a-480a-ade4-e725f394d570\",\"type\":\"LinearAxis\"}],\"left\":[{\"id\":\"467123a3-0cd0-4fe0-92c4-dbb8ddbe16bc\",\"type\":\"LogAxis\"}],\"plot_width\":300,\"renderers\":[{\"id\":\"8db732ee-ec9a-480a-ade4-e725f394d570\",\"type\":\"LinearAxis\"},{\"id\":\"5bcd4d01-38a6-4d8c-a474-6959a751e9e1\",\"type\":\"Grid\"},{\"id\":\"467123a3-0cd0-4fe0-92c4-dbb8ddbe16bc\",\"type\":\"LogAxis\"},{\"id\":\"f2b1b26f-ac71-4730-9294-a20e7a6040d1\",\"type\":\"Grid\"},{\"id\":\"29c58db2-95e4-452b-adb3-e3a91fcc3e0a\",\"type\":\"BoxAnnotation\"},{\"id\":\"f9a995e3-4eca-499c-8586-1f1cf7671f11\",\"type\":\"GlyphRenderer\"},{\"id\":\"3c25dd69-3b9f-4830-9c18-b0817c2fdf30\",\"type\":\"GlyphRenderer\"},{\"id\":\"722338de-7422-4bfe-b5bf-ede2830cfdff\",\"type\":\"Legend\"}],\"title\":{\"id\":\"7b86546d-3e56-48ab-99ca-dab3e1f5a24f\",\"type\":\"Title\"},\"toolbar\":{\"id\":\"6cfffc20-1803-409a-9d7b-5b7a529e0b51\",\"type\":\"Toolbar\"},\"toolbar_location\":null,\"x_range\":{\"id\":\"64f4ff89-b9b7-4014-9a39-7d43b654ed29\",\"type\":\"Range1d\"},\"x_scale\":{\"id\":\"9130cb98-3fe4-4c83-b06b-9c657113d7c1\",\"type\":\"LinearScale\"},\"y_range\":{\"id\":\"5682709d-038d-4ca5-b240-97bc66f5f945\",\"type\":\"Range1d\"},\"y_scale\":{\"id\":\"30d81bed-ed51-43ff-a43b-d9e9bc7f1160\",\"type\":\"LogScale\"}},\"id\":\"782ae0e5-751b-415a-b9bb-5a099aa24ffc\",\"subtype\":\"Figure\",\"type\":\"Plot\"},{\"attributes\":{\"overlay\":{\"id\":\"29c58db2-95e4-452b-adb3-e3a91fcc3e0a\",\"type\":\"BoxAnnotation\"}},\"id\":\"c26e6f4d-7358-46ff-8fc6-7983bc6245b8\",\"type\":\"BoxZoomTool\"},{\"attributes\":{\"axis_label\":\"pressure [mb]\",\"formatter\":{\"id\":\"2987e09b-37ef-4253-b066-414b498fefbe\",\"type\":\"LogTickFormatter\"},\"plot\":{\"id\":\"782ae0e5-751b-415a-b9bb-5a099aa24ffc\",\"subtype\":\"Figure\",\"type\":\"Plot\"},\"ticker\":{\"id\":\"d3d8f85c-82b6-4b10-8e47-3eb480e25704\",\"type\":\"LogTicker\"}},\"id\":\"467123a3-0cd0-4fe0-92c4-dbb8ddbe16bc\",\"type\":\"LogAxis\"},{\"attributes\":{},\"id\":\"a8bc7274-c66c-4723-9340-5f5976cb5b7c\",\"type\":\"BasicTickFormatter\"},{\"attributes\":{},\"id\":\"30d81bed-ed51-43ff-a43b-d9e9bc7f1160\",\"type\":\"LogScale\"},{\"attributes\":{},\"id\":\"edca8416-9be4-44a0-801e-2b8dcb5290c4\",\"type\":\"SaveTool\"},{\"attributes\":{\"active_drag\":\"auto\",\"active_inspect\":\"auto\",\"active_scroll\":\"auto\",\"active_tap\":\"auto\",\"tools\":[{\"id\":\"b2279536-2f8c-49b4-b1c8-e0d42ede1388\",\"type\":\"PanTool\"},{\"id\":\"675bb561-df86-4bb9-a9f3-d68ed0a05178\",\"type\":\"WheelZoomTool\"},{\"id\":\"35510a33-a16f-40b4-a198-8eef89fae89f\",\"type\":\"BoxZoomTool\"},{\"id\":\"82d647c5-c826-4772-9d80-c6ffddf41a78\",\"type\":\"SaveTool\"},{\"id\":\"8d9b0a24-415b-4090-9847-9f52aacc6bf5\",\"type\":\"ResetTool\"},{\"id\":\"601bfb00-6415-4342-b747-b1183c847cc5\",\"type\":\"HelpTool\"}]},\"id\":\"40dfa1e6-4792-4575-9d6a-87f70ac18485\",\"type\":\"Toolbar\"},{\"attributes\":{\"bottom_units\":\"screen\",\"fill_alpha\":{\"value\":0.5},\"fill_color\":{\"value\":\"lightgrey\"},\"left_units\":\"screen\",\"level\":\"overlay\",\"line_alpha\":{\"value\":1.0},\"line_color\":{\"value\":\"black\"},\"line_dash\":[4,4],\"line_width\":{\"value\":2},\"plot\":null,\"render_mode\":\"css\",\"right_units\":\"screen\",\"top_units\":\"screen\"},\"id\":\"29c58db2-95e4-452b-adb3-e3a91fcc3e0a\",\"type\":\"BoxAnnotation\"},{\"attributes\":{},\"id\":\"9130cb98-3fe4-4c83-b06b-9c657113d7c1\",\"type\":\"LinearScale\"},{\"attributes\":{\"callback\":null,\"end\":0.0286131488345636,\"start\":-0.01092934561420361},\"id\":\"64f4ff89-b9b7-4014-9a39-7d43b654ed29\",\"type\":\"Range1d\"},{\"attributes\":{\"above\":[{\"id\":\"a2180e42-5300-4ccf-b919-17b2498ea521\",\"type\":\"Legend\"}],\"below\":[{\"id\":\"8598a6b8-04fe-489f-a4e5-daadf4933366\",\"type\":\"LinearAxis\"}],\"left\":[{\"id\":\"cf06cd3a-308e-4ad1-9e2c-6c536c3ee18b\",\"type\":\"LinearAxis\"}],\"plot_width\":300,\"renderers\":[{\"id\":\"8598a6b8-04fe-489f-a4e5-daadf4933366\",\"type\":\"LinearAxis\"},{\"id\":\"470486de-28d0-4744-ba8b-6738a0d13146\",\"type\":\"Grid\"},{\"id\":\"cf06cd3a-308e-4ad1-9e2c-6c536c3ee18b\",\"type\":\"LinearAxis\"},{\"id\":\"267cfbc4-646e-4c9f-8d59-32d1cf96a2ce\",\"type\":\"Grid\"},{\"id\":\"17b26a50-899c-4291-b7f0-994f271acdbf\",\"type\":\"BoxAnnotation\"},{\"id\":\"7847e506-445d-40df-8290-d0689bafacab\",\"type\":\"GlyphRenderer\"},{\"id\":\"ed8c0653-72df-4290-b1fa-cf3ca56f02e9\",\"type\":\"GlyphRenderer\"},{\"id\":\"e9d83e64-1515-440e-a4b8-d1c2eb6de315\",\"type\":\"GlyphRenderer\"},{\"id\":\"a2180e42-5300-4ccf-b919-17b2498ea521\",\"type\":\"Legend\"}],\"title\":{\"id\":\"3f8c4793-75f8-4f02-8cd9-a2f2f25d910c\",\"type\":\"Title\"},\"toolbar\":{\"id\":\"40dfa1e6-4792-4575-9d6a-87f70ac18485\",\"type\":\"Toolbar\"},\"toolbar_location\":null,\"x_range\":{\"id\":\"97581be8-2312-4ed8-913f-3efa2c9b8494\",\"type\":\"Range1d\"},\"x_scale\":{\"id\":\"7a1a1c8a-1a18-41c4-a7f9-f787008b2722\",\"type\":\"LinearScale\"},\"y_range\":{\"id\":\"5b258eb3-e85e-488e-be87-76426f9dd63b\",\"type\":\"Range1d\"},\"y_scale\":{\"id\":\"44f0d531-7b45-4fdb-804e-31e8295d9e62\",\"type\":\"LinearScale\"}},\"id\":\"ee2b9de4-5a2e-4c0a-93a7-a0260aca6f6d\",\"subtype\":\"Figure\",\"type\":\"Plot\"},{\"attributes\":{\"fill_alpha\":{\"value\":0.7},\"fill_color\":{\"value\":\"#984ea3\"},\"line_alpha\":{\"value\":0.7},\"line_color\":{\"value\":\"#984ea3\"},\"x\":{\"field\":\"x\"},\"y\":{\"field\":\"y\"}},\"id\":\"4214f086-858b-4f06-be36-e0d2e7c95f5e\",\"type\":\"Circle\"},{\"attributes\":{\"active_drag\":\"auto\",\"active_inspect\":\"auto\",\"active_scroll\":\"auto\",\"active_tap\":\"auto\",\"tools\":[{\"id\":\"5900de63-0284-436e-a417-ab77fb5c5dbd\",\"type\":\"PanTool\"},{\"id\":\"c9dde08b-3e4e-4257-a353-efb284c3f420\",\"type\":\"WheelZoomTool\"},{\"id\":\"c26e6f4d-7358-46ff-8fc6-7983bc6245b8\",\"type\":\"BoxZoomTool\"},{\"id\":\"edca8416-9be4-44a0-801e-2b8dcb5290c4\",\"type\":\"SaveTool\"},{\"id\":\"d7aad9ff-1217-48d6-9728-47414cb1903a\",\"type\":\"ResetTool\"},{\"id\":\"6d7cb290-b3f9-469c-8653-766236aa4144\",\"type\":\"HelpTool\"}]},\"id\":\"6cfffc20-1803-409a-9d7b-5b7a529e0b51\",\"type\":\"Toolbar\"},{\"attributes\":{},\"id\":\"5900de63-0284-436e-a417-ab77fb5c5dbd\",\"type\":\"PanTool\"},{\"attributes\":{},\"id\":\"6d7cb290-b3f9-469c-8653-766236aa4144\",\"type\":\"HelpTool\"},{\"attributes\":{},\"id\":\"df781436-f5af-4f67-ad8a-e9336d7c07a8\",\"type\":\"PanTool\"},{\"attributes\":{},\"id\":\"021c73f8-57e4-4dee-9c56-19339240f5e2\",\"type\":\"Selection\"},{\"attributes\":{\"plot\":{\"id\":\"3254d461-6c5c-4687-b572-da52613d99e3\",\"subtype\":\"Figure\",\"type\":\"Plot\"},\"ticker\":{\"id\":\"a4f39bc1-b0cc-4f13-a638-1be3f7c57deb\",\"type\":\"BasicTicker\"}},\"id\":\"508e1f45-1848-4b30-8b92-a5e01fdc4615\",\"type\":\"Grid\"},{\"attributes\":{\"children\":[{\"id\":\"ee2b9de4-5a2e-4c0a-93a7-a0260aca6f6d\",\"subtype\":\"Figure\",\"type\":\"Plot\"},{\"id\":\"3254d461-6c5c-4687-b572-da52613d99e3\",\"subtype\":\"Figure\",\"type\":\"Plot\"},{\"id\":\"782ae0e5-751b-415a-b9bb-5a099aa24ffc\",\"subtype\":\"Figure\",\"type\":\"Plot\"}]},\"id\":\"6b76c6cc-dfd2-4c90-a3f5-566feca802ed\",\"type\":\"Row\"},{\"attributes\":{\"axis_label\":\"cooling rate [K/day]\",\"formatter\":{\"id\":\"a8bc7274-c66c-4723-9340-5f5976cb5b7c\",\"type\":\"BasicTickFormatter\"},\"plot\":{\"id\":\"3254d461-6c5c-4687-b572-da52613d99e3\",\"subtype\":\"Figure\",\"type\":\"Plot\"},\"ticker\":{\"id\":\"a4f39bc1-b0cc-4f13-a638-1be3f7c57deb\",\"type\":\"BasicTicker\"}},\"id\":\"cf9261bb-bfd3-4bdc-ba1d-c54b0452b593\",\"type\":\"LinearAxis\"},{\"attributes\":{},\"id\":\"b2279536-2f8c-49b4-b1c8-e0d42ede1388\",\"type\":\"PanTool\"},{\"attributes\":{\"active_drag\":\"auto\",\"active_inspect\":\"auto\",\"active_scroll\":\"auto\",\"active_tap\":\"auto\",\"tools\":[{\"id\":\"df781436-f5af-4f67-ad8a-e9336d7c07a8\",\"type\":\"PanTool\"},{\"id\":\"540ea88f-5635-4b64-9019-b8bbd8bc7a06\",\"type\":\"WheelZoomTool\"},{\"id\":\"a4497adb-6ec5-4a37-814a-acd225bb2b25\",\"type\":\"BoxZoomTool\"},{\"id\":\"f4bae8cf-509c-4672-9a3c-3114c44d4a45\",\"type\":\"SaveTool\"},{\"id\":\"c8386e48-6fa4-4c6a-afbc-5d1ae6231352\",\"type\":\"ResetTool\"},{\"id\":\"c6d6bfd9-8057-43f7-ae86-58205629383c\",\"type\":\"HelpTool\"}]},\"id\":\"1d971600-029a-45c3-996a-4613f45e8999\",\"type\":\"Toolbar\"},{\"attributes\":{},\"id\":\"d21023a6-7fea-463f-b9cf-a132f63c928c\",\"type\":\"BasicTickFormatter\"},{\"attributes\":{\"items\":[{\"id\":\"31234344-dd93-41f5-8582-95b24cdcf466\",\"type\":\"LegendItem\"},{\"id\":\"b14c38d1-b8ca-4089-afbb-7a048dc28514\",\"type\":\"LegendItem\"}],\"label_text_font_size\":{\"value\":\"8pt\"},\"location\":\"top_center\",\"orientation\":\"horizontal\",\"plot\":{\"id\":\"3254d461-6c5c-4687-b572-da52613d99e3\",\"subtype\":\"Figure\",\"type\":\"Plot\"}},\"id\":\"5513afc4-c0ae-4fce-aa6a-649e29f427fb\",\"type\":\"Legend\"},{\"attributes\":{},\"id\":\"995b6a30-37c5-4609-a37d-5643bd296d46\",\"type\":\"Selection\"},{\"attributes\":{},\"id\":\"a4f39bc1-b0cc-4f13-a638-1be3f7c57deb\",\"type\":\"BasicTicker\"},{\"attributes\":{},\"id\":\"2ceaded3-f6e6-42b5-a2d7-4c43d620e22e\",\"type\":\"LinearScale\"},{\"attributes\":{},\"id\":\"8072cd43-aa21-4b83-a131-36c4417051b1\",\"type\":\"LogScale\"},{\"attributes\":{},\"id\":\"7a1a1c8a-1a18-41c4-a7f9-f787008b2722\",\"type\":\"LinearScale\"},{\"attributes\":{\"label\":{\"value\":\"CRD\"},\"renderers\":[{\"id\":\"ed8c0653-72df-4290-b1fa-cf3ca56f02e9\",\"type\":\"GlyphRenderer\"},{\"id\":\"e9d83e64-1515-440e-a4b8-d1c2eb6de315\",\"type\":\"GlyphRenderer\"}]},\"id\":\"58c6563f-3fc0-406f-ad61-a62839de4473\",\"type\":\"LegendItem\"},{\"attributes\":{},\"id\":\"b5009d19-e51b-458a-8aba-a1ad9e80dd6b\",\"type\":\"UnionRenderers\"},{\"attributes\":{\"callback\":null,\"end\":0.15549717542400002,\"start\":-0.040114377624},\"id\":\"c8c6597b-2050-4acd-928b-5ba2f1e0f829\",\"type\":\"Range1d\"},{\"attributes\":{\"label\":{\"value\":\"CLIRAD\"},\"renderers\":[{\"id\":\"7847e506-445d-40df-8290-d0689bafacab\",\"type\":\"GlyphRenderer\"}]},\"id\":\"a560a735-0273-4b9b-8677-bd16082edc39\",\"type\":\"LegendItem\"},{\"attributes\":{\"callback\":null,\"data\":{\"x\":{\"__ndarray__\":\"8q5S6INanj/PnkmhUjeeP8ZHjkB48Z0/a3mpRjGinT+1qncZFk2dPwmDPss3AZ0/xYWzN7O6nD9mD+HUvXycP1QOh/6hRpw/urN+84AjnD9RClAhCxicP8D3VUtFKpw/2nJErfVunD/sDQW4I+ecP7xFEDww3Zw/z6XRk33Kmj90zznZcdWWPx1o4QKyWZI/KAmr6HHOij+gZZuHbcR/P4CbwuND9F4/QGnejLqYdL+gZgmM35aFvwCWehTFbnm/cCbGL6QwdD+46EyeFuqJP6iKuDPT3I4/4C+EfA48iz/QmWYw11OCP5hGQB5l+G8/AB5IvkNzP7+cpBxkWdhsv9Cxn13k6Ha/SDvP7tsqfb801sQjbbqAv+leKRZnK4K/6QwfIH5Pg7+qCq/ddwiEv6peiEzPVoO/HAUWk1Whgb/UVIsdm9SAv+SUlCQ3OIG/4Dq9hiElgb9ShQ5lYJCAv3Cqp5jETn+/TPj9aTUafb96csnpe496v+gYyM9c7He/a9tfv8Yodb9CtbMOp1Ryv3JR9exk5m6/so7XbOANab+qZuWph89iv1jrbZSAGVm/sHL3GOGvSb8AoN3DyDgKv2DdREcErUU/QMiTD4IFVj9w5zrxL09gP+BC4pzOLWU/wNH6wx6ZaT/ApF9+72RtP8gznYmzbXA/kL3hrgjQcT9YSK7LLMhyP7ijj/BJf3M/WC/F7HLScz8gUdsVrBN0P0C9ahY6tHQ/gAcVYTJxdT8gd/TqUSF2P6B8BTM6dHY/IHrqr1wRdj+g9/bVAQ11PyDgPrfK+XI/\",\"dtype\":\"float64\",\"shape\":[75]},\"y\":{\"__ndarray__\":\"GhExyth1ND/Sv8nbtpRIP2vylNV0PVE/aTum7souWD/At0SJ8fVgPw3Iuahxymc/MSNhhJWvcD/bTfBN02d3P2zb5nxnaoA/CD5h5MAGhz8NmeH1TyaQP+zrCsc9p5Y/LbKd76fGnz/bLW5ISEmmPww9YvTcQq8/JV2OstnstT8Er5Y7M8G+P0c+r3jqkcU/5h99k6ZBzj88bCIzFzjVP4enV8oyxN0//yH99nXg5D8qOpLLf0jtP5kqGJXUifQ/c9cS8kHP/D+/DpwzojQEQIEmwoanVwxA4lgXt9HgE0BSSZ2AJuIbQAMJih9jjiNA5q4l5INuK0AwTKYKRj0zQNv5fmq8/DpAaCJseHrtQkB/+zpwzoxKQM3MzMzMeFJAZmZmZmZqWEAAAAAAAFxeQM3MzMzMJmJAmpmZmZkfZUBmZmZmZhhoQDMzMzMzEWtAAAAAAAAKbkBmZmZmZoFwQM3MzMzM/XFAMzMzMzN6c0CamZmZmfZ0QAAAAAAAc3ZAZmZmZmbvd0DNzMzMzGt5QDMzMzMz6HpAmpmZmZlkfEAAAAAAAOF9QGZmZmZmXX9AZmZmZuZsgECamZmZGSuBQM3MzMxM6YFAAAAAAICngkAzMzMzs2WDQGZmZmbmI4RAmpmZmRnihEDNzMzMTKCFQAAAAACAXoZAMzMzM7Mch0BmZmZm5tqHQJqZmZkZmYhAzczMzExXiUAAAAAAgBWKQDMzMzOz04pAZmZmZuaRi0CamZmZGVCMQM3MzMxMDo1AAAAAAIDMjUAzMzMzs4qOQGZmZmbmSI9A\",\"dtype\":\"float64\",\"shape\":[75]}},\"selected\":{\"id\":\"0aaf1660-ab95-4632-8df6-e3dfcf89e1f7\",\"type\":\"Selection\"},\"selection_policy\":{\"id\":\"fc0b4033-6ebc-44f4-84c1-a0580245950a\",\"type\":\"UnionRenderers\"}},\"id\":\"0c084ad6-b182-4ffd-bb07-6f3a5220c6da\",\"type\":\"ColumnDataSource\"},{\"attributes\":{\"num_minor_ticks\":10},\"id\":\"9addc2b8-e84f-411b-8c92-9ff459bb724a\",\"type\":\"LogTicker\"},{\"attributes\":{},\"id\":\"16fdfe84-4a21-4747-ac91-7dcda3bc9f90\",\"type\":\"UnionRenderers\"},{\"attributes\":{\"line_alpha\":0.1,\"line_color\":\"#1f77b4\",\"line_dash\":[6],\"line_width\":5,\"x\":{\"field\":\"x\"},\"y\":{\"field\":\"y\"}},\"id\":\"7665c687-4298-4d4a-8372-2ab446fcbf2f\",\"type\":\"Line\"},{\"attributes\":{\"line_alpha\":0.1,\"line_color\":\"#1f77b4\",\"line_width\":1.5,\"x\":{\"field\":\"x\"},\"y\":{\"field\":\"y\"}},\"id\":\"9a27b3b5-8181-45d9-99da-519c52411c80\",\"type\":\"Line\"},{\"attributes\":{\"dimension\":1,\"plot\":{\"id\":\"3254d461-6c5c-4687-b572-da52613d99e3\",\"subtype\":\"Figure\",\"type\":\"Plot\"},\"ticker\":{\"id\":\"9addc2b8-e84f-411b-8c92-9ff459bb724a\",\"type\":\"LogTicker\"}},\"id\":\"f718b3da-0792-4820-ace8-999f84ca0b84\",\"type\":\"Grid\"},{\"attributes\":{},\"id\":\"7e923fcb-fb9f-45ef-ac8a-3c82e92d0b14\",\"type\":\"BasicTicker\"},{\"attributes\":{\"axis_label\":\"pressure [mb]\",\"formatter\":{\"id\":\"1df41a97-c764-4545-8c83-c1f5079fbd12\",\"type\":\"LogTickFormatter\"},\"plot\":{\"id\":\"3254d461-6c5c-4687-b572-da52613d99e3\",\"subtype\":\"Figure\",\"type\":\"Plot\"},\"ticker\":{\"id\":\"9addc2b8-e84f-411b-8c92-9ff459bb724a\",\"type\":\"LogTicker\"}},\"id\":\"8c28c4e0-7699-4c2e-935a-73ac3f1c2412\",\"type\":\"LogAxis\"},{\"attributes\":{\"fill_alpha\":{\"value\":0.7},\"fill_color\":{\"value\":\"#4daf4a\"},\"line_alpha\":{\"value\":0.7},\"line_color\":{\"value\":\"#4daf4a\"},\"x\":{\"field\":\"x\"},\"y\":{\"field\":\"y\"}},\"id\":\"7a41e3d5-7555-4e3c-b4d0-efb06e93d8d5\",\"type\":\"Circle\"},{\"attributes\":{\"label\":{\"value\":\"CLIRAD - CRD\"},\"renderers\":[{\"id\":\"f9a995e3-4eca-499c-8586-1f1cf7671f11\",\"type\":\"GlyphRenderer\"},{\"id\":\"3c25dd69-3b9f-4830-9c18-b0817c2fdf30\",\"type\":\"GlyphRenderer\"}]},\"id\":\"01311027-b37f-4c71-b0ea-e0bd9c6e13b3\",\"type\":\"LegendItem\"},{\"attributes\":{},\"id\":\"675bb561-df86-4bb9-a9f3-d68ed0a05178\",\"type\":\"WheelZoomTool\"},{\"attributes\":{\"line_alpha\":0.6,\"line_color\":\"#e41a1c\",\"line_dash\":[6],\"line_width\":5,\"x\":{\"field\":\"x\"},\"y\":{\"field\":\"y\"}},\"id\":\"43319735-9c46-4be3-a7ef-0b4f6f70ec0d\",\"type\":\"Line\"},{\"attributes\":{},\"id\":\"c8386e48-6fa4-4c6a-afbc-5d1ae6231352\",\"type\":\"ResetTool\"},{\"attributes\":{\"plot\":null,\"text\":\"\"},\"id\":\"3f8c4793-75f8-4f02-8cd9-a2f2f25d910c\",\"type\":\"Title\"},{\"attributes\":{\"overlay\":{\"id\":\"17b26a50-899c-4291-b7f0-994f271acdbf\",\"type\":\"BoxAnnotation\"}},\"id\":\"35510a33-a16f-40b4-a198-8eef89fae89f\",\"type\":\"BoxZoomTool\"},{\"attributes\":{},\"id\":\"540ea88f-5635-4b64-9019-b8bbd8bc7a06\",\"type\":\"WheelZoomTool\"},{\"attributes\":{\"children\":[{\"id\":\"6b76c6cc-dfd2-4c90-a3f5-566feca802ed\",\"type\":\"Row\"}]},\"id\":\"addbff3a-93d0-4c5a-8d2c-591f9f9e2193\",\"type\":\"Column\"},{\"attributes\":{},\"id\":\"f4bae8cf-509c-4672-9a3c-3114c44d4a45\",\"type\":\"SaveTool\"},{\"attributes\":{\"data_source\":{\"id\":\"6f4affa8-f89c-4dce-993c-36ccf70821ae\",\"type\":\"ColumnDataSource\"},\"glyph\":{\"id\":\"842e557f-c24e-4a94-8773-08e4a3ef14b5\",\"type\":\"Line\"},\"hover_glyph\":null,\"muted_glyph\":null,\"nonselection_glyph\":{\"id\":\"7fb3954e-3968-4140-a069-cb8f73a78100\",\"type\":\"Line\"},\"selection_glyph\":null,\"view\":{\"id\":\"db3624d7-13f1-4ebd-af79-81623493b9ae\",\"type\":\"CDSView\"}},\"id\":\"e9d83e64-1515-440e-a4b8-d1c2eb6de315\",\"type\":\"GlyphRenderer\"},{\"attributes\":{\"bottom_units\":\"screen\",\"fill_alpha\":{\"value\":0.5},\"fill_color\":{\"value\":\"lightgrey\"},\"left_units\":\"screen\",\"level\":\"overlay\",\"line_alpha\":{\"value\":1.0},\"line_color\":{\"value\":\"black\"},\"line_dash\":[4,4],\"line_width\":{\"value\":2},\"plot\":null,\"render_mode\":\"css\",\"right_units\":\"screen\",\"top_units\":\"screen\"},\"id\":\"d41d8053-3ec0-4740-8dd1-0b3aaa461b61\",\"type\":\"BoxAnnotation\"},{\"attributes\":{\"callback\":null,\"data\":{\"x\":{\"__ndarray__\":\"mYkv/Vuvor+/pJgIrHqivxt/oyZIBaK/NBMpnXSHob9n6GHpSgihv8xvGz05iqC/VQmiqCoQoL84X0LGhS2fv/oPnCq9RZ6/rh7PjLtpnb9K0XK7w6Wcv1rW9xJ+AJy/EEZAO/6Jm79lkNahPD6bv53Ob32rypi/F0piNCtLj7/GoFpx1cYlv98iVFkyRZI/+JlLZOPdoz/XaogPkyuwP8Te5s/uarc/yjgIKgrjvz9WvpiCfajDP2hnpe7HScM/31CLumGkvj+63Hf7Gaa2P/PrN8/kY7A/GHhmcSPGpz8kwGZgyrmhPxOwLSVKAJs/KE9f08TOkz/uJ/nDEu2JP/Zg6AwWSH0/jbKIY/2VZD+BjaUvjzNov2NvF79XT4O/fx6c8M+jjr+YWJL79deTvw8GDBFJ3pi/nNIu9hp1nb/ykrYJtrKev+Sppbf3kZy/lJzRkSjSmb8dijtMpguXv4XmJqnNMZS/xQoHtYs6kb8P9ROG/0KMv/wYYUBHzIW/MQnPVgQrfr9mv1uGT1Vwv+jrK0pgW0K/CiVKZ/d8Zz+FElihZKt5P64aMfUBw4M/4aw/i/24ij+0ED24eOSQP92sH1cff5Q/opKfEAQwmD/cWTiCj/mbPwwtX6SG3Z8/0lqZGTPuoT+KTFTgU/yjP8BcPgSJGqY/1DdaRxtJqD/ToIdXmIaqP74/cnb0zKw/MbBpFfALrz9VwGMLfJOwP3Dr2FZwgbE/pvVPIWtOsj+mrCeJpAazP0DBPlhAubM/PUzSZ81wtD8gjnGb3zO1PwyQiqqMCLY/\",\"dtype\":\"float64\",\"shape\":[75]},\"y\":{\"__ndarray__\":\"GhExyth1ND/Sv8nbtpRIP2vylNV0PVE/aTum7souWD/At0SJ8fVgPw3Iuahxymc/MSNhhJWvcD/bTfBN02d3P2zb5nxnaoA/CD5h5MAGhz8NmeH1TyaQP+zrCsc9p5Y/LbKd76fGnz/bLW5ISEmmPww9YvTcQq8/JV2OstnstT8Er5Y7M8G+P0c+r3jqkcU/5h99k6ZBzj88bCIzFzjVP4enV8oyxN0//yH99nXg5D8qOpLLf0jtP5kqGJXUifQ/c9cS8kHP/D+/DpwzojQEQIEmwoanVwxA4lgXt9HgE0BSSZ2AJuIbQAMJih9jjiNA5q4l5INuK0AwTKYKRj0zQNv5fmq8/DpAaCJseHrtQkB/+zpwzoxKQM3MzMzMeFJAZmZmZmZqWEAAAAAAAFxeQM3MzMzMJmJAmpmZmZkfZUBmZmZmZhhoQDMzMzMzEWtAAAAAAAAKbkBmZmZmZoFwQM3MzMzM/XFAMzMzMzN6c0CamZmZmfZ0QAAAAAAAc3ZAZmZmZmbvd0DNzMzMzGt5QDMzMzMz6HpAmpmZmZlkfEAAAAAAAOF9QGZmZmZmXX9AZmZmZuZsgECamZmZGSuBQM3MzMxM6YFAAAAAAICngkAzMzMzs2WDQGZmZmbmI4RAmpmZmRnihEDNzMzMTKCFQAAAAACAXoZAMzMzM7Mch0BmZmZm5tqHQJqZmZkZmYhAzczMzExXiUAAAAAAgBWKQDMzMzOz04pAZmZmZuaRi0CamZmZGVCMQM3MzMxMDo1AAAAAAIDMjUAzMzMzs4qOQGZmZmbmSI9A\",\"dtype\":\"float64\",\"shape\":[75]}},\"selected\":{\"id\":\"27b38e1f-5b83-4252-b7cc-8dcd3059c8cb\",\"type\":\"Selection\"},\"selection_policy\":{\"id\":\"16fdfe84-4a21-4747-ac91-7dcda3bc9f90\",\"type\":\"UnionRenderers\"}},\"id\":\"b59e362a-504a-46e0-921a-00cfade65da8\",\"type\":\"ColumnDataSource\"},{\"attributes\":{\"label\":{\"value\":\"CLIRAD\"},\"renderers\":[{\"id\":\"1f680c71-ff18-48a8-9364-0597f73f9690\",\"type\":\"GlyphRenderer\"}]},\"id\":\"31234344-dd93-41f5-8582-95b24cdcf466\",\"type\":\"LegendItem\"},{\"attributes\":{\"dimension\":1,\"plot\":{\"id\":\"ee2b9de4-5a2e-4c0a-93a7-a0260aca6f6d\",\"subtype\":\"Figure\",\"type\":\"Plot\"},\"ticker\":{\"id\":\"c784a124-61b0-4c8c-81e0-d29cbec33436\",\"type\":\"BasicTicker\"}},\"id\":\"267cfbc4-646e-4c9f-8d59-32d1cf96a2ce\",\"type\":\"Grid\"},{\"attributes\":{},\"id\":\"8d9b0a24-415b-4090-9847-9f52aacc6bf5\",\"type\":\"ResetTool\"},{\"attributes\":{\"line_alpha\":0.8,\"line_color\":\"#984ea3\",\"line_width\":1.5,\"x\":{\"field\":\"x\"},\"y\":{\"field\":\"y\"}},\"id\":\"b7db79d5-ccf3-4586-913d-790c74f767e3\",\"type\":\"Line\"},{\"attributes\":{},\"id\":\"82d647c5-c826-4772-9d80-c6ffddf41a78\",\"type\":\"SaveTool\"},{\"attributes\":{\"callback\":null,\"end\":0.01,\"start\":1020},\"id\":\"5682709d-038d-4ca5-b240-97bc66f5f945\",\"type\":\"Range1d\"},{\"attributes\":{\"data_source\":{\"id\":\"df5706d5-8f4a-450b-9b44-608f321b1ffc\",\"type\":\"ColumnDataSource\"},\"glyph\":{\"id\":\"4214f086-858b-4f06-be36-e0d2e7c95f5e\",\"type\":\"Circle\"},\"hover_glyph\":null,\"muted_glyph\":null,\"nonselection_glyph\":{\"id\":\"5ab9f93a-eed3-40e8-a7a2-b4506910e4cc\",\"type\":\"Circle\"},\"selection_glyph\":null,\"view\":{\"id\":\"54031393-ce4f-4792-a0fd-b16e01fd3baa\",\"type\":\"CDSView\"}},\"id\":\"f9a995e3-4eca-499c-8586-1f1cf7671f11\",\"type\":\"GlyphRenderer\"},{\"attributes\":{\"overlay\":{\"id\":\"d41d8053-3ec0-4740-8dd1-0b3aaa461b61\",\"type\":\"BoxAnnotation\"}},\"id\":\"a4497adb-6ec5-4a37-814a-acd225bb2b25\",\"type\":\"BoxZoomTool\"},{\"attributes\":{\"data_source\":{\"id\":\"266e98d8-f48f-4b94-86a9-39b5bbc36973\",\"type\":\"ColumnDataSource\"},\"glyph\":{\"id\":\"84abab81-d9ee-4bec-8146-9942ba82251f\",\"type\":\"Line\"},\"hover_glyph\":null,\"muted_glyph\":null,\"nonselection_glyph\":{\"id\":\"7665c687-4298-4d4a-8372-2ab446fcbf2f\",\"type\":\"Line\"},\"selection_glyph\":null,\"view\":{\"id\":\"31a64eb1-53ed-4172-83fc-309c1b8aa290\",\"type\":\"CDSView\"}},\"id\":\"7847e506-445d-40df-8290-d0689bafacab\",\"type\":\"GlyphRenderer\"},{\"attributes\":{},\"id\":\"6707c50e-fb43-4174-a287-558c5e1185af\",\"type\":\"UnionRenderers\"},{\"attributes\":{\"line_alpha\":0.1,\"line_color\":\"#1f77b4\",\"line_width\":1.5,\"x\":{\"field\":\"x\"},\"y\":{\"field\":\"y\"}},\"id\":\"dd276fb6-b080-43eb-93cc-631d4a1ed1c6\",\"type\":\"Line\"},{\"attributes\":{\"callback\":null,\"end\":0.01,\"start\":1020},\"id\":\"47757b59-33db-4459-ad52-bf88b9de8dde\",\"type\":\"Range1d\"},{\"attributes\":{},\"id\":\"906fad54-39d0-47b6-b193-004d9369d251\",\"type\":\"UnionRenderers\"},{\"attributes\":{\"source\":{\"id\":\"df5706d5-8f4a-450b-9b44-608f321b1ffc\",\"type\":\"ColumnDataSource\"}},\"id\":\"54031393-ce4f-4792-a0fd-b16e01fd3baa\",\"type\":\"CDSView\"},{\"attributes\":{},\"id\":\"27b38e1f-5b83-4252-b7cc-8dcd3059c8cb\",\"type\":\"Selection\"},{\"attributes\":{\"data_source\":{\"id\":\"0c084ad6-b182-4ffd-bb07-6f3a5220c6da\",\"type\":\"ColumnDataSource\"},\"glyph\":{\"id\":\"b7db79d5-ccf3-4586-913d-790c74f767e3\",\"type\":\"Line\"},\"hover_glyph\":null,\"muted_glyph\":null,\"nonselection_glyph\":{\"id\":\"dd276fb6-b080-43eb-93cc-631d4a1ed1c6\",\"type\":\"Line\"},\"selection_glyph\":null,\"view\":{\"id\":\"580f5042-3f1d-4702-b56f-f6f433e5d6b0\",\"type\":\"CDSView\"}},\"id\":\"3c25dd69-3b9f-4830-9c18-b0817c2fdf30\",\"type\":\"GlyphRenderer\"},{\"attributes\":{\"bottom_units\":\"screen\",\"fill_alpha\":{\"value\":0.5},\"fill_color\":{\"value\":\"lightgrey\"},\"left_units\":\"screen\",\"level\":\"overlay\",\"line_alpha\":{\"value\":1.0},\"line_color\":{\"value\":\"black\"},\"line_dash\":[4,4],\"line_width\":{\"value\":2},\"plot\":null,\"render_mode\":\"css\",\"right_units\":\"screen\",\"top_units\":\"screen\"},\"id\":\"17b26a50-899c-4291-b7f0-994f271acdbf\",\"type\":\"BoxAnnotation\"},{\"attributes\":{\"line_color\":\"#4daf4a\",\"line_width\":1.5,\"x\":{\"field\":\"x\"},\"y\":{\"field\":\"y\"}},\"id\":\"842e557f-c24e-4a94-8773-08e4a3ef14b5\",\"type\":\"Line\"},{\"attributes\":{},\"id\":\"c6d6bfd9-8057-43f7-ae86-58205629383c\",\"type\":\"HelpTool\"},{\"attributes\":{},\"id\":\"7e6c7fda-2c10-404b-9ae6-c27da048f0fc\",\"type\":\"UnionRenderers\"},{\"attributes\":{\"source\":{\"id\":\"129a825c-5365-4131-bc1d-4809fc8d16b1\",\"type\":\"ColumnDataSource\"}},\"id\":\"da7ae4b2-bb57-4331-8031-714157145552\",\"type\":\"CDSView\"},{\"attributes\":{},\"id\":\"40e3c8ba-93b2-4165-acc6-113a7bc053d7\",\"type\":\"UnionRenderers\"},{\"attributes\":{\"axis_label\":\"pressure [mb]\",\"formatter\":{\"id\":\"d21023a6-7fea-463f-b9cf-a132f63c928c\",\"type\":\"BasicTickFormatter\"},\"plot\":{\"id\":\"ee2b9de4-5a2e-4c0a-93a7-a0260aca6f6d\",\"subtype\":\"Figure\",\"type\":\"Plot\"},\"ticker\":{\"id\":\"c784a124-61b0-4c8c-81e0-d29cbec33436\",\"type\":\"BasicTicker\"}},\"id\":\"cf06cd3a-308e-4ad1-9e2c-6c536c3ee18b\",\"type\":\"LinearAxis\"},{\"attributes\":{\"data_source\":{\"id\":\"129a825c-5365-4131-bc1d-4809fc8d16b1\",\"type\":\"ColumnDataSource\"},\"glyph\":{\"id\":\"de3177f8-db08-45f4-83d6-89dcb9b21ddb\",\"type\":\"Line\"},\"hover_glyph\":null,\"muted_glyph\":null,\"nonselection_glyph\":{\"id\":\"9a27b3b5-8181-45d9-99da-519c52411c80\",\"type\":\"Line\"},\"selection_glyph\":null,\"view\":{\"id\":\"da7ae4b2-bb57-4331-8031-714157145552\",\"type\":\"CDSView\"}},\"id\":\"88b5fac3-0d4e-4af0-bc49-e6a93c8035c7\",\"type\":\"GlyphRenderer\"},{\"attributes\":{\"plot\":null,\"text\":\"\"},\"id\":\"7b86546d-3e56-48ab-99ca-dab3e1f5a24f\",\"type\":\"Title\"},{\"attributes\":{},\"id\":\"9779bc31-8a8a-47d3-9425-cd7882c0b162\",\"type\":\"BasicTickFormatter\"},{\"attributes\":{\"children\":[{\"id\":\"85d67dcd-91e6-4559-82b6-8a598fa0c946\",\"type\":\"ToolbarBox\"},{\"id\":\"addbff3a-93d0-4c5a-8d2c-591f9f9e2193\",\"type\":\"Column\"}]},\"id\":\"0db3f020-ac35-49a7-bddf-0a9eed4b6d99\",\"type\":\"Column\"},{\"attributes\":{},\"id\":\"44f0d531-7b45-4fdb-804e-31e8295d9e62\",\"type\":\"LinearScale\"},{\"attributes\":{\"ticker\":null},\"id\":\"2987e09b-37ef-4253-b066-414b498fefbe\",\"type\":\"LogTickFormatter\"},{\"attributes\":{\"toolbar\":{\"id\":\"5e06af4b-93e1-4884-b84e-77833470a3eb\",\"type\":\"ProxyToolbar\"},\"toolbar_location\":\"above\"},\"id\":\"85d67dcd-91e6-4559-82b6-8a598fa0c946\",\"type\":\"ToolbarBox\"},{\"attributes\":{\"fill_alpha\":{\"value\":0.7},\"fill_color\":{\"value\":\"#4daf4a\"},\"line_alpha\":{\"value\":0.7},\"line_color\":{\"value\":\"#4daf4a\"},\"x\":{\"field\":\"x\"},\"y\":{\"field\":\"y\"}},\"id\":\"0480df59-ec3f-41ca-a771-2262845d0763\",\"type\":\"Circle\"},{\"attributes\":{\"plot\":null,\"text\":\"\"},\"id\":\"16031020-305e-42cd-a669-22298c6c2324\",\"type\":\"Title\"},{\"attributes\":{\"callback\":null,\"data\":{\"x\":{\"__ndarray__\":\"/5AxSNAQfL+9qp6/Ffh6v77Z4jJgZHi/9bOizt+ydb9jmDDl/g1zvz1y4bvqTHC/KGeEzBAta7+UfgqLP4Zlv2AaUMGy8V+/OK8GlaljVL8g31hEE7dBvwCzEC+c4yQ/MJmFQO6eTD942OdicY5aP3zcgfoSSnA/hwFB889Jhj8yGlcu5KmWP37FGi5yT6I/Qlx23n+Rqj8xIQLo2SeyPzLpdd+/5rc/NlI6gX6Zvj/sJ9iJD0/CP7iSAcZRfsI/RrOH/Wvnvz/ReUHPXOO5P0j9rjV/P7Q/EISHECeVrj+YZoAswE6mP+a49chW/54/sC5mxPdQkz/H/vFq/LaCP5i8Ir3GfFk/AeIKPd3fcr+UOa7vUMeGvyZnoGpfvZK/tJVdCKf5mL/t3WnqMdydv7IaqFvYRKG/lerc3+Iio7+uHj7MgY6jvyv696QJl6K/Ah2Yqlwyob/GzMJ+1lOfvyHRUM9+BZy/2IiGDxmBmL8mV3y9XsWUv7iSItQ64ZC/TnIXi+Wpib9UuodK+1SBvzYmwH+evnG/gJrWWJAOKb8wX2XMoENwP0Ndo+LRn4A/tjWwef8diT/kIdtTXNeQP8jTWXmHLJU/Js+YMVyQmT/Ktl+AdQOeP7S6/TugQaE/7gfZBcWHoz/WRjrYotKlPzkDcnU/KKg/hm82XRyDqj/eaf3wnd+sPzU0hLTdPK8/DiuBOR/DsD9ndcHMttSxP0SXP/izzLI/HkZhR36lsz8Y9NanuWi0PwoZb/uDILU/3/PQMuPRtT+a/dC4r4S2Pw5+/lUpOLc/\",\"dtype\":\"float64\",\"shape\":[75]},\"y\":{\"__ndarray__\":\"GhExyth1ND/Sv8nbtpRIP2vylNV0PVE/aTum7souWD/At0SJ8fVgPw3Iuahxymc/MSNhhJWvcD/bTfBN02d3P2zb5nxnaoA/CD5h5MAGhz8NmeH1TyaQP+zrCsc9p5Y/LbKd76fGnz/bLW5ISEmmPww9YvTcQq8/JV2OstnstT8Er5Y7M8G+P0c+r3jqkcU/5h99k6ZBzj88bCIzFzjVP4enV8oyxN0//yH99nXg5D8qOpLLf0jtP5kqGJXUifQ/c9cS8kHP/D+/DpwzojQEQIEmwoanVwxA4lgXt9HgE0BSSZ2AJuIbQAMJih9jjiNA5q4l5INuK0AwTKYKRj0zQNv5fmq8/DpAaCJseHrtQkB/+zpwzoxKQM3MzMzMeFJAZmZmZmZqWEAAAAAAAFxeQM3MzMzMJmJAmpmZmZkfZUBmZmZmZhhoQDMzMzMzEWtAAAAAAAAKbkBmZmZmZoFwQM3MzMzM/XFAMzMzMzN6c0CamZmZmfZ0QAAAAAAAc3ZAZmZmZmbvd0DNzMzMzGt5QDMzMzMz6HpAmpmZmZlkfEAAAAAAAOF9QGZmZmZmXX9AZmZmZuZsgECamZmZGSuBQM3MzMxM6YFAAAAAAICngkAzMzMzs2WDQGZmZmbmI4RAmpmZmRnihEDNzMzMTKCFQAAAAACAXoZAMzMzM7Mch0BmZmZm5tqHQJqZmZkZmYhAzczMzExXiUAAAAAAgBWKQDMzMzOz04pAZmZmZuaRi0CamZmZGVCMQM3MzMxMDo1AAAAAAIDMjUAzMzMzs4qOQGZmZmbmSI9A\",\"dtype\":\"float64\",\"shape\":[75]}},\"selected\":{\"id\":\"90202a8d-da24-4901-b025-6bb3ab7f80a4\",\"type\":\"Selection\"},\"selection_policy\":{\"id\":\"40e3c8ba-93b2-4165-acc6-113a7bc053d7\",\"type\":\"UnionRenderers\"}},\"id\":\"e3223a9b-354a-4d5b-9288-bffc1cce30ba\",\"type\":\"ColumnDataSource\"},{\"attributes\":{\"axis_label\":\"cooling rate [K/day]\",\"formatter\":{\"id\":\"542afad3-6072-41e0-ae4f-b75fc484c7f7\",\"type\":\"BasicTickFormatter\"},\"plot\":{\"id\":\"ee2b9de4-5a2e-4c0a-93a7-a0260aca6f6d\",\"subtype\":\"Figure\",\"type\":\"Plot\"},\"ticker\":{\"id\":\"7e923fcb-fb9f-45ef-ac8a-3c82e92d0b14\",\"type\":\"BasicTicker\"}},\"id\":\"8598a6b8-04fe-489f-a4e5-daadf4933366\",\"type\":\"LinearAxis\"},{\"attributes\":{\"source\":{\"id\":\"6f4affa8-f89c-4dce-993c-36ccf70821ae\",\"type\":\"ColumnDataSource\"}},\"id\":\"db3624d7-13f1-4ebd-af79-81623493b9ae\",\"type\":\"CDSView\"},{\"attributes\":{},\"id\":\"b87c46f1-045b-4bf8-9443-55273c04f003\",\"type\":\"Selection\"},{\"attributes\":{\"line_alpha\":0.1,\"line_color\":\"#1f77b4\",\"line_dash\":[6],\"line_width\":5,\"x\":{\"field\":\"x\"},\"y\":{\"field\":\"y\"}},\"id\":\"844d2fa7-f76e-4b06-9585-aef63d80e182\",\"type\":\"Line\"},{\"attributes\":{},\"id\":\"c784a124-61b0-4c8c-81e0-d29cbec33436\",\"type\":\"BasicTicker\"},{\"attributes\":{\"line_alpha\":0.1,\"line_color\":\"#1f77b4\",\"line_width\":1.5,\"x\":{\"field\":\"x\"},\"y\":{\"field\":\"y\"}},\"id\":\"7fb3954e-3968-4140-a069-cb8f73a78100\",\"type\":\"Line\"},{\"attributes\":{\"callback\":null,\"data\":{\"x\":{\"__ndarray__\":\"8q5S6INanj/PnkmhUjeeP8ZHjkB48Z0/a3mpRjGinT+1qncZFk2dPwmDPss3AZ0/xYWzN7O6nD9mD+HUvXycP1QOh/6hRpw/urN+84AjnD9RClAhCxicP8D3VUtFKpw/2nJErfVunD/sDQW4I+ecP7xFEDww3Zw/z6XRk33Kmj90zznZcdWWPx1o4QKyWZI/KAmr6HHOij+gZZuHbcR/P4CbwuND9F4/QGnejLqYdL+gZgmM35aFvwCWehTFbnm/cCbGL6QwdD+46EyeFuqJP6iKuDPT3I4/4C+EfA48iz/QmWYw11OCP5hGQB5l+G8/AB5IvkNzP7+cpBxkWdhsv9Cxn13k6Ha/SDvP7tsqfb801sQjbbqAv+leKRZnK4K/6QwfIH5Pg7+qCq/ddwiEv6peiEzPVoO/HAUWk1Whgb/UVIsdm9SAv+SUlCQ3OIG/4Dq9hiElgb9ShQ5lYJCAv3Cqp5jETn+/TPj9aTUafb96csnpe496v+gYyM9c7He/a9tfv8Yodb9CtbMOp1Ryv3JR9exk5m6/so7XbOANab+qZuWph89iv1jrbZSAGVm/sHL3GOGvSb8AoN3DyDgKv2DdREcErUU/QMiTD4IFVj9w5zrxL09gP+BC4pzOLWU/wNH6wx6ZaT/ApF9+72RtP8gznYmzbXA/kL3hrgjQcT9YSK7LLMhyP7ijj/BJf3M/WC/F7HLScz8gUdsVrBN0P0C9ahY6tHQ/gAcVYTJxdT8gd/TqUSF2P6B8BTM6dHY/IHrqr1wRdj+g9/bVAQ11PyDgPrfK+XI/\",\"dtype\":\"float64\",\"shape\":[75]},\"y\":{\"__ndarray__\":\"GhExyth1ND/Sv8nbtpRIP2vylNV0PVE/aTum7souWD/At0SJ8fVgPw3Iuahxymc/MSNhhJWvcD/bTfBN02d3P2zb5nxnaoA/CD5h5MAGhz8NmeH1TyaQP+zrCsc9p5Y/LbKd76fGnz/bLW5ISEmmPww9YvTcQq8/JV2OstnstT8Er5Y7M8G+P0c+r3jqkcU/5h99k6ZBzj88bCIzFzjVP4enV8oyxN0//yH99nXg5D8qOpLLf0jtP5kqGJXUifQ/c9cS8kHP/D+/DpwzojQEQIEmwoanVwxA4lgXt9HgE0BSSZ2AJuIbQAMJih9jjiNA5q4l5INuK0AwTKYKRj0zQNv5fmq8/DpAaCJseHrtQkB/+zpwzoxKQM3MzMzMeFJAZmZmZmZqWEAAAAAAAFxeQM3MzMzMJmJAmpmZmZkfZUBmZmZmZhhoQDMzMzMzEWtAAAAAAAAKbkBmZmZmZoFwQM3MzMzM/XFAMzMzMzN6c0CamZmZmfZ0QAAAAAAAc3ZAZmZmZmbvd0DNzMzMzGt5QDMzMzMz6HpAmpmZmZlkfEAAAAAAAOF9QGZmZmZmXX9AZmZmZuZsgECamZmZGSuBQM3MzMxM6YFAAAAAAICngkAzMzMzs2WDQGZmZmbmI4RAmpmZmRnihEDNzMzMTKCFQAAAAACAXoZAMzMzM7Mch0BmZmZm5tqHQJqZmZkZmYhAzczMzExXiUAAAAAAgBWKQDMzMzOz04pAZmZmZuaRi0CamZmZGVCMQM3MzMxMDo1AAAAAAIDMjUAzMzMzs4qOQGZmZmbmSI9A\",\"dtype\":\"float64\",\"shape\":[75]}},\"selected\":{\"id\":\"3c59462d-ef6e-4f78-8566-3141fdd6369d\",\"type\":\"Selection\"},\"selection_policy\":{\"id\":\"2c9f2fa8-2a1d-4878-9956-b85816b71675\",\"type\":\"UnionRenderers\"}},\"id\":\"df5706d5-8f4a-450b-9b44-608f321b1ffc\",\"type\":\"ColumnDataSource\"},{\"attributes\":{},\"id\":\"2c9f2fa8-2a1d-4878-9956-b85816b71675\",\"type\":\"UnionRenderers\"},{\"attributes\":{},\"id\":\"90202a8d-da24-4901-b025-6bb3ab7f80a4\",\"type\":\"Selection\"},{\"attributes\":{},\"id\":\"78641eee-355f-47f9-9655-d3567c9fd35a\",\"type\":\"Selection\"},{\"attributes\":{\"line_alpha\":0.6,\"line_color\":\"#e41a1c\",\"line_dash\":[6],\"line_width\":5,\"x\":{\"field\":\"x\"},\"y\":{\"field\":\"y\"}},\"id\":\"84abab81-d9ee-4bec-8146-9942ba82251f\",\"type\":\"Line\"},{\"attributes\":{\"callback\":null,\"end\":0.01,\"start\":1020},\"id\":\"5b258eb3-e85e-488e-be87-76426f9dd63b\",\"type\":\"Range1d\"},{\"attributes\":{\"callback\":null,\"data\":{\"x\":{\"__ndarray__\":\"/5AxSNAQfL+9qp6/Ffh6v77Z4jJgZHi/9bOizt+ydb9jmDDl/g1zvz1y4bvqTHC/KGeEzBAta7+UfgqLP4Zlv2AaUMGy8V+/OK8GlaljVL8g31hEE7dBvwCzEC+c4yQ/MJmFQO6eTD942OdicY5aP3zcgfoSSnA/hwFB889Jhj8yGlcu5KmWP37FGi5yT6I/Qlx23n+Rqj8xIQLo2SeyPzLpdd+/5rc/NlI6gX6Zvj/sJ9iJD0/CP7iSAcZRfsI/RrOH/Wvnvz/ReUHPXOO5P0j9rjV/P7Q/EISHECeVrj+YZoAswE6mP+a49chW/54/sC5mxPdQkz/H/vFq/LaCP5i8Ir3GfFk/AeIKPd3fcr+UOa7vUMeGvyZnoGpfvZK/tJVdCKf5mL/t3WnqMdydv7IaqFvYRKG/lerc3+Iio7+uHj7MgY6jvyv696QJl6K/Ah2Yqlwyob/GzMJ+1lOfvyHRUM9+BZy/2IiGDxmBmL8mV3y9XsWUv7iSItQ64ZC/TnIXi+Wpib9UuodK+1SBvzYmwH+evnG/gJrWWJAOKb8wX2XMoENwP0Ndo+LRn4A/tjWwef8diT/kIdtTXNeQP8jTWXmHLJU/Js+YMVyQmT/Ktl+AdQOeP7S6/TugQaE/7gfZBcWHoz/WRjrYotKlPzkDcnU/KKg/hm82XRyDqj/eaf3wnd+sPzU0hLTdPK8/DiuBOR/DsD9ndcHMttSxP0SXP/izzLI/HkZhR36lsz8Y9NanuWi0PwoZb/uDILU/3/PQMuPRtT+a/dC4r4S2Pw5+/lUpOLc/\",\"dtype\":\"float64\",\"shape\":[75]},\"y\":{\"__ndarray__\":\"GhExyth1ND/Sv8nbtpRIP2vylNV0PVE/aTum7souWD/At0SJ8fVgPw3Iuahxymc/MSNhhJWvcD/bTfBN02d3P2zb5nxnaoA/CD5h5MAGhz8NmeH1TyaQP+zrCsc9p5Y/LbKd76fGnz/bLW5ISEmmPww9YvTcQq8/JV2OstnstT8Er5Y7M8G+P0c+r3jqkcU/5h99k6ZBzj88bCIzFzjVP4enV8oyxN0//yH99nXg5D8qOpLLf0jtP5kqGJXUifQ/c9cS8kHP/D+/DpwzojQEQIEmwoanVwxA4lgXt9HgE0BSSZ2AJuIbQAMJih9jjiNA5q4l5INuK0AwTKYKRj0zQNv5fmq8/DpAaCJseHrtQkB/+zpwzoxKQM3MzMzMeFJAZmZmZmZqWEAAAAAAAFxeQM3MzMzMJmJAmpmZmZkfZUBmZmZmZhhoQDMzMzMzEWtAAAAAAAAKbkBmZmZmZoFwQM3MzMzM/XFAMzMzMzN6c0CamZmZmfZ0QAAAAAAAc3ZAZmZmZmbvd0DNzMzMzGt5QDMzMzMz6HpAmpmZmZlkfEAAAAAAAOF9QGZmZmZmXX9AZmZmZuZsgECamZmZGSuBQM3MzMxM6YFAAAAAAICngkAzMzMzs2WDQGZmZmbmI4RAmpmZmRnihEDNzMzMTKCFQAAAAACAXoZAMzMzM7Mch0BmZmZm5tqHQJqZmZkZmYhAzczMzExXiUAAAAAAgBWKQDMzMzOz04pAZmZmZuaRi0CamZmZGVCMQM3MzMxMDo1AAAAAAIDMjUAzMzMzs4qOQGZmZmbmSI9A\",\"dtype\":\"float64\",\"shape\":[75]}},\"selected\":{\"id\":\"021c73f8-57e4-4dee-9c56-19339240f5e2\",\"type\":\"Selection\"},\"selection_policy\":{\"id\":\"906fad54-39d0-47b6-b193-004d9369d251\",\"type\":\"UnionRenderers\"}},\"id\":\"266e98d8-f48f-4b94-86a9-39b5bbc36973\",\"type\":\"ColumnDataSource\"},{\"attributes\":{\"callback\":null,\"data\":{\"x\":{\"__ndarray__\":\"mYkv/Vuvor+/pJgIrHqivxt/oyZIBaK/NBMpnXSHob9n6GHpSgihv8xvGz05iqC/VQmiqCoQoL84X0LGhS2fv/oPnCq9RZ6/rh7PjLtpnb9K0XK7w6Wcv1rW9xJ+AJy/EEZAO/6Jm79lkNahPD6bv53Ob32rypi/F0piNCtLj7/GoFpx1cYlv98iVFkyRZI/+JlLZOPdoz/XaogPkyuwP8Te5s/uarc/yjgIKgrjvz9WvpiCfajDP2hnpe7HScM/31CLumGkvj+63Hf7Gaa2P/PrN8/kY7A/GHhmcSPGpz8kwGZgyrmhPxOwLSVKAJs/KE9f08TOkz/uJ/nDEu2JP/Zg6AwWSH0/jbKIY/2VZD+BjaUvjzNov2NvF79XT4O/fx6c8M+jjr+YWJL79deTvw8GDBFJ3pi/nNIu9hp1nb/ykrYJtrKev+Sppbf3kZy/lJzRkSjSmb8dijtMpguXv4XmJqnNMZS/xQoHtYs6kb8P9ROG/0KMv/wYYUBHzIW/MQnPVgQrfr9mv1uGT1Vwv+jrK0pgW0K/CiVKZ/d8Zz+FElihZKt5P64aMfUBw4M/4aw/i/24ij+0ED24eOSQP92sH1cff5Q/opKfEAQwmD/cWTiCj/mbPwwtX6SG3Z8/0lqZGTPuoT+KTFTgU/yjP8BcPgSJGqY/1DdaRxtJqD/ToIdXmIaqP74/cnb0zKw/MbBpFfALrz9VwGMLfJOwP3Dr2FZwgbE/pvVPIWtOsj+mrCeJpAazP0DBPlhAubM/PUzSZ81wtD8gjnGb3zO1PwyQiqqMCLY/\",\"dtype\":\"float64\",\"shape\":[75]},\"y\":{\"__ndarray__\":\"GhExyth1ND/Sv8nbtpRIP2vylNV0PVE/aTum7souWD/At0SJ8fVgPw3Iuahxymc/MSNhhJWvcD/bTfBN02d3P2zb5nxnaoA/CD5h5MAGhz8NmeH1TyaQP+zrCsc9p5Y/LbKd76fGnz/bLW5ISEmmPww9YvTcQq8/JV2OstnstT8Er5Y7M8G+P0c+r3jqkcU/5h99k6ZBzj88bCIzFzjVP4enV8oyxN0//yH99nXg5D8qOpLLf0jtP5kqGJXUifQ/c9cS8kHP/D+/DpwzojQEQIEmwoanVwxA4lgXt9HgE0BSSZ2AJuIbQAMJih9jjiNA5q4l5INuK0AwTKYKRj0zQNv5fmq8/DpAaCJseHrtQkB/+zpwzoxKQM3MzMzMeFJAZmZmZmZqWEAAAAAAAFxeQM3MzMzMJmJAmpmZmZkfZUBmZmZmZhhoQDMzMzMzEWtAAAAAAAAKbkBmZmZmZoFwQM3MzMzM/XFAMzMzMzN6c0CamZmZmfZ0QAAAAAAAc3ZAZmZmZmbvd0DNzMzMzGt5QDMzMzMz6HpAmpmZmZlkfEAAAAAAAOF9QGZmZmZmXX9AZmZmZuZsgECamZmZGSuBQM3MzMxM6YFAAAAAAICngkAzMzMzs2WDQGZmZmbmI4RAmpmZmRnihEDNzMzMTKCFQAAAAACAXoZAMzMzM7Mch0BmZmZm5tqHQJqZmZkZmYhAzczMzExXiUAAAAAAgBWKQDMzMzOz04pAZmZmZuaRi0CamZmZGVCMQM3MzMxMDo1AAAAAAIDMjUAzMzMzs4qOQGZmZmbmSI9A\",\"dtype\":\"float64\",\"shape\":[75]}},\"selected\":{\"id\":\"995b6a30-37c5-4609-a37d-5643bd296d46\",\"type\":\"Selection\"},\"selection_policy\":{\"id\":\"6707c50e-fb43-4174-a287-558c5e1185af\",\"type\":\"UnionRenderers\"}},\"id\":\"6f4affa8-f89c-4dce-993c-36ccf70821ae\",\"type\":\"ColumnDataSource\"},{\"attributes\":{\"source\":{\"id\":\"0c084ad6-b182-4ffd-bb07-6f3a5220c6da\",\"type\":\"ColumnDataSource\"}},\"id\":\"580f5042-3f1d-4702-b56f-f6f433e5d6b0\",\"type\":\"CDSView\"},{\"attributes\":{\"source\":{\"id\":\"266e98d8-f48f-4b94-86a9-39b5bbc36973\",\"type\":\"ColumnDataSource\"}},\"id\":\"31a64eb1-53ed-4172-83fc-309c1b8aa290\",\"type\":\"CDSView\"},{\"attributes\":{\"callback\":null,\"data\":{\"x\":{\"__ndarray__\":\"mYkv/Vuvor+/pJgIrHqivxt/oyZIBaK/NBMpnXSHob9n6GHpSgihv8xvGz05iqC/VQmiqCoQoL84X0LGhS2fv/oPnCq9RZ6/rh7PjLtpnb9K0XK7w6Wcv1rW9xJ+AJy/EEZAO/6Jm79lkNahPD6bv53Ob32rypi/F0piNCtLj7/GoFpx1cYlv98iVFkyRZI/+JlLZOPdoz/XaogPkyuwP8Te5s/uarc/yjgIKgrjvz9WvpiCfajDP2hnpe7HScM/31CLumGkvj+63Hf7Gaa2P/PrN8/kY7A/GHhmcSPGpz8kwGZgyrmhPxOwLSVKAJs/KE9f08TOkz/uJ/nDEu2JP/Zg6AwWSH0/jbKIY/2VZD+BjaUvjzNov2NvF79XT4O/fx6c8M+jjr+YWJL79deTvw8GDBFJ3pi/nNIu9hp1nb/ykrYJtrKev+Sppbf3kZy/lJzRkSjSmb8dijtMpguXv4XmJqnNMZS/xQoHtYs6kb8P9ROG/0KMv/wYYUBHzIW/MQnPVgQrfr9mv1uGT1Vwv+jrK0pgW0K/CiVKZ/d8Zz+FElihZKt5P64aMfUBw4M/4aw/i/24ij+0ED24eOSQP92sH1cff5Q/opKfEAQwmD/cWTiCj/mbPwwtX6SG3Z8/0lqZGTPuoT+KTFTgU/yjP8BcPgSJGqY/1DdaRxtJqD/ToIdXmIaqP74/cnb0zKw/MbBpFfALrz9VwGMLfJOwP3Dr2FZwgbE/pvVPIWtOsj+mrCeJpAazP0DBPlhAubM/PUzSZ81wtD8gjnGb3zO1PwyQiqqMCLY/\",\"dtype\":\"float64\",\"shape\":[75]},\"y\":{\"__ndarray__\":\"GhExyth1ND/Sv8nbtpRIP2vylNV0PVE/aTum7souWD/At0SJ8fVgPw3Iuahxymc/MSNhhJWvcD/bTfBN02d3P2zb5nxnaoA/CD5h5MAGhz8NmeH1TyaQP+zrCsc9p5Y/LbKd76fGnz/bLW5ISEmmPww9YvTcQq8/JV2OstnstT8Er5Y7M8G+P0c+r3jqkcU/5h99k6ZBzj88bCIzFzjVP4enV8oyxN0//yH99nXg5D8qOpLLf0jtP5kqGJXUifQ/c9cS8kHP/D+/DpwzojQEQIEmwoanVwxA4lgXt9HgE0BSSZ2AJuIbQAMJih9jjiNA5q4l5INuK0AwTKYKRj0zQNv5fmq8/DpAaCJseHrtQkB/+zpwzoxKQM3MzMzMeFJAZmZmZmZqWEAAAAAAAFxeQM3MzMzMJmJAmpmZmZkfZUBmZmZmZhhoQDMzMzMzEWtAAAAAAAAKbkBmZmZmZoFwQM3MzMzM/XFAMzMzMzN6c0CamZmZmfZ0QAAAAAAAc3ZAZmZmZmbvd0DNzMzMzGt5QDMzMzMz6HpAmpmZmZlkfEAAAAAAAOF9QGZmZmZmXX9AZmZmZuZsgECamZmZGSuBQM3MzMxM6YFAAAAAAICngkAzMzMzs2WDQGZmZmbmI4RAmpmZmRnihEDNzMzMTKCFQAAAAACAXoZAMzMzM7Mch0BmZmZm5tqHQJqZmZkZmYhAzczMzExXiUAAAAAAgBWKQDMzMzOz04pAZmZmZuaRi0CamZmZGVCMQM3MzMxMDo1AAAAAAIDMjUAzMzMzs4qOQGZmZmbmSI9A\",\"dtype\":\"float64\",\"shape\":[75]}},\"selected\":{\"id\":\"78641eee-355f-47f9-9655-d3567c9fd35a\",\"type\":\"Selection\"},\"selection_policy\":{\"id\":\"b5009d19-e51b-458a-8aba-a1ad9e80dd6b\",\"type\":\"UnionRenderers\"}},\"id\":\"129a825c-5365-4131-bc1d-4809fc8d16b1\",\"type\":\"ColumnDataSource\"},{\"attributes\":{\"fill_alpha\":{\"value\":0.1},\"fill_color\":{\"value\":\"#1f77b4\"},\"line_alpha\":{\"value\":0.1},\"line_color\":{\"value\":\"#1f77b4\"},\"x\":{\"field\":\"x\"},\"y\":{\"field\":\"y\"}},\"id\":\"1790b99b-ac39-4a3c-b2f2-670bb97518a9\",\"type\":\"Circle\"},{\"attributes\":{\"above\":[{\"id\":\"5513afc4-c0ae-4fce-aa6a-649e29f427fb\",\"type\":\"Legend\"}],\"below\":[{\"id\":\"cf9261bb-bfd3-4bdc-ba1d-c54b0452b593\",\"type\":\"LinearAxis\"}],\"left\":[{\"id\":\"8c28c4e0-7699-4c2e-935a-73ac3f1c2412\",\"type\":\"LogAxis\"}],\"plot_width\":300,\"renderers\":[{\"id\":\"cf9261bb-bfd3-4bdc-ba1d-c54b0452b593\",\"type\":\"LinearAxis\"},{\"id\":\"508e1f45-1848-4b30-8b92-a5e01fdc4615\",\"type\":\"Grid\"},{\"id\":\"8c28c4e0-7699-4c2e-935a-73ac3f1c2412\",\"type\":\"LogAxis\"},{\"id\":\"f718b3da-0792-4820-ace8-999f84ca0b84\",\"type\":\"Grid\"},{\"id\":\"d41d8053-3ec0-4740-8dd1-0b3aaa461b61\",\"type\":\"BoxAnnotation\"},{\"id\":\"1f680c71-ff18-48a8-9364-0597f73f9690\",\"type\":\"GlyphRenderer\"},{\"id\":\"22e165de-2ed2-4e90-93e0-548905a6e4bb\",\"type\":\"GlyphRenderer\"},{\"id\":\"88b5fac3-0d4e-4af0-bc49-e6a93c8035c7\",\"type\":\"GlyphRenderer\"},{\"id\":\"5513afc4-c0ae-4fce-aa6a-649e29f427fb\",\"type\":\"Legend\"}],\"title\":{\"id\":\"16031020-305e-42cd-a669-22298c6c2324\",\"type\":\"Title\"},\"toolbar\":{\"id\":\"1d971600-029a-45c3-996a-4613f45e8999\",\"type\":\"Toolbar\"},\"toolbar_location\":null,\"x_range\":{\"id\":\"c8c6597b-2050-4acd-928b-5ba2f1e0f829\",\"type\":\"Range1d\"},\"x_scale\":{\"id\":\"2ceaded3-f6e6-42b5-a2d7-4c43d620e22e\",\"type\":\"LinearScale\"},\"y_range\":{\"id\":\"47757b59-33db-4459-ad52-bf88b9de8dde\",\"type\":\"Range1d\"},\"y_scale\":{\"id\":\"8072cd43-aa21-4b83-a131-36c4417051b1\",\"type\":\"LogScale\"}},\"id\":\"3254d461-6c5c-4687-b572-da52613d99e3\",\"subtype\":\"Figure\",\"type\":\"Plot\"},{\"attributes\":{},\"id\":\"542afad3-6072-41e0-ae4f-b75fc484c7f7\",\"type\":\"BasicTickFormatter\"},{\"attributes\":{\"source\":{\"id\":\"e3223a9b-354a-4d5b-9288-bffc1cce30ba\",\"type\":\"ColumnDataSource\"}},\"id\":\"4b16c02a-adeb-4d1f-8cce-f22e1909e89e\",\"type\":\"CDSView\"},{\"attributes\":{},\"id\":\"3c59462d-ef6e-4f78-8566-3141fdd6369d\",\"type\":\"Selection\"},{\"attributes\":{\"tools\":[{\"id\":\"b2279536-2f8c-49b4-b1c8-e0d42ede1388\",\"type\":\"PanTool\"},{\"id\":\"675bb561-df86-4bb9-a9f3-d68ed0a05178\",\"type\":\"WheelZoomTool\"},{\"id\":\"35510a33-a16f-40b4-a198-8eef89fae89f\",\"type\":\"BoxZoomTool\"},{\"id\":\"82d647c5-c826-4772-9d80-c6ffddf41a78\",\"type\":\"SaveTool\"},{\"id\":\"8d9b0a24-415b-4090-9847-9f52aacc6bf5\",\"type\":\"ResetTool\"},{\"id\":\"601bfb00-6415-4342-b747-b1183c847cc5\",\"type\":\"HelpTool\"},{\"id\":\"df781436-f5af-4f67-ad8a-e9336d7c07a8\",\"type\":\"PanTool\"},{\"id\":\"540ea88f-5635-4b64-9019-b8bbd8bc7a06\",\"type\":\"WheelZoomTool\"},{\"id\":\"a4497adb-6ec5-4a37-814a-acd225bb2b25\",\"type\":\"BoxZoomTool\"},{\"id\":\"f4bae8cf-509c-4672-9a3c-3114c44d4a45\",\"type\":\"SaveTool\"},{\"id\":\"c8386e48-6fa4-4c6a-afbc-5d1ae6231352\",\"type\":\"ResetTool\"},{\"id\":\"c6d6bfd9-8057-43f7-ae86-58205629383c\",\"type\":\"HelpTool\"},{\"id\":\"5900de63-0284-436e-a417-ab77fb5c5dbd\",\"type\":\"PanTool\"},{\"id\":\"c9dde08b-3e4e-4257-a353-efb284c3f420\",\"type\":\"WheelZoomTool\"},{\"id\":\"c26e6f4d-7358-46ff-8fc6-7983bc6245b8\",\"type\":\"BoxZoomTool\"},{\"id\":\"edca8416-9be4-44a0-801e-2b8dcb5290c4\",\"type\":\"SaveTool\"},{\"id\":\"d7aad9ff-1217-48d6-9728-47414cb1903a\",\"type\":\"ResetTool\"},{\"id\":\"6d7cb290-b3f9-469c-8653-766236aa4144\",\"type\":\"HelpTool\"}]},\"id\":\"5e06af4b-93e1-4884-b84e-77833470a3eb\",\"type\":\"ProxyToolbar\"},{\"attributes\":{},\"id\":\"fc0b4033-6ebc-44f4-84c1-a0580245950a\",\"type\":\"UnionRenderers\"},{\"attributes\":{},\"id\":\"0aaf1660-ab95-4632-8df6-e3dfcf89e1f7\",\"type\":\"Selection\"},{\"attributes\":{\"plot\":{\"id\":\"ee2b9de4-5a2e-4c0a-93a7-a0260aca6f6d\",\"subtype\":\"Figure\",\"type\":\"Plot\"},\"ticker\":{\"id\":\"7e923fcb-fb9f-45ef-ac8a-3c82e92d0b14\",\"type\":\"BasicTicker\"}},\"id\":\"470486de-28d0-4744-ba8b-6738a0d13146\",\"type\":\"Grid\"},{\"attributes\":{\"callback\":null,\"data\":{\"x\":{\"__ndarray__\":\"mYkv/Vuvor+/pJgIrHqivxt/oyZIBaK/NBMpnXSHob9n6GHpSgihv8xvGz05iqC/VQmiqCoQoL84X0LGhS2fv/oPnCq9RZ6/rh7PjLtpnb9K0XK7w6Wcv1rW9xJ+AJy/EEZAO/6Jm79lkNahPD6bv53Ob32rypi/F0piNCtLj7/GoFpx1cYlv98iVFkyRZI/+JlLZOPdoz/XaogPkyuwP8Te5s/uarc/yjgIKgrjvz9WvpiCfajDP2hnpe7HScM/31CLumGkvj+63Hf7Gaa2P/PrN8/kY7A/GHhmcSPGpz8kwGZgyrmhPxOwLSVKAJs/KE9f08TOkz/uJ/nDEu2JP/Zg6AwWSH0/jbKIY/2VZD+BjaUvjzNov2NvF79XT4O/fx6c8M+jjr+YWJL79deTvw8GDBFJ3pi/nNIu9hp1nb/ykrYJtrKev+Sppbf3kZy/lJzRkSjSmb8dijtMpguXv4XmJqnNMZS/xQoHtYs6kb8P9ROG/0KMv/wYYUBHzIW/MQnPVgQrfr9mv1uGT1Vwv+jrK0pgW0K/CiVKZ/d8Zz+FElihZKt5P64aMfUBw4M/4aw/i/24ij+0ED24eOSQP92sH1cff5Q/opKfEAQwmD/cWTiCj/mbPwwtX6SG3Z8/0lqZGTPuoT+KTFTgU/yjP8BcPgSJGqY/1DdaRxtJqD/ToIdXmIaqP74/cnb0zKw/MbBpFfALrz9VwGMLfJOwP3Dr2FZwgbE/pvVPIWtOsj+mrCeJpAazP0DBPlhAubM/PUzSZ81wtD8gjnGb3zO1PwyQiqqMCLY/\",\"dtype\":\"float64\",\"shape\":[75]},\"y\":{\"__ndarray__\":\"GhExyth1ND/Sv8nbtpRIP2vylNV0PVE/aTum7souWD/At0SJ8fVgPw3Iuahxymc/MSNhhJWvcD/bTfBN02d3P2zb5nxnaoA/CD5h5MAGhz8NmeH1TyaQP+zrCsc9p5Y/LbKd76fGnz/bLW5ISEmmPww9YvTcQq8/JV2OstnstT8Er5Y7M8G+P0c+r3jqkcU/5h99k6ZBzj88bCIzFzjVP4enV8oyxN0//yH99nXg5D8qOpLLf0jtP5kqGJXUifQ/c9cS8kHP/D+/DpwzojQEQIEmwoanVwxA4lgXt9HgE0BSSZ2AJuIbQAMJih9jjiNA5q4l5INuK0AwTKYKRj0zQNv5fmq8/DpAaCJseHrtQkB/+zpwzoxKQM3MzMzMeFJAZmZmZmZqWEAAAAAAAFxeQM3MzMzMJmJAmpmZmZkfZUBmZmZmZhhoQDMzMzMzEWtAAAAAAAAKbkBmZmZmZoFwQM3MzMzM/XFAMzMzMzN6c0CamZmZmfZ0QAAAAAAAc3ZAZmZmZmbvd0DNzMzMzGt5QDMzMzMz6HpAmpmZmZlkfEAAAAAAAOF9QGZmZmZmXX9AZmZmZuZsgECamZmZGSuBQM3MzMxM6YFAAAAAAICngkAzMzMzs2WDQGZmZmbmI4RAmpmZmRnihEDNzMzMTKCFQAAAAACAXoZAMzMzM7Mch0BmZmZm5tqHQJqZmZkZmYhAzczMzExXiUAAAAAAgBWKQDMzMzOz04pAZmZmZuaRi0CamZmZGVCMQM3MzMxMDo1AAAAAAIDMjUAzMzMzs4qOQGZmZmbmSI9A\",\"dtype\":\"float64\",\"shape\":[75]}},\"selected\":{\"id\":\"b87c46f1-045b-4bf8-9443-55273c04f003\",\"type\":\"Selection\"},\"selection_policy\":{\"id\":\"7e6c7fda-2c10-404b-9ae6-c27da048f0fc\",\"type\":\"UnionRenderers\"}},\"id\":\"8b60e5c1-1b44-496b-a8fe-94306b274984\",\"type\":\"ColumnDataSource\"},{\"attributes\":{\"data_source\":{\"id\":\"e3223a9b-354a-4d5b-9288-bffc1cce30ba\",\"type\":\"ColumnDataSource\"},\"glyph\":{\"id\":\"43319735-9c46-4be3-a7ef-0b4f6f70ec0d\",\"type\":\"Line\"},\"hover_glyph\":null,\"muted_glyph\":null,\"nonselection_glyph\":{\"id\":\"844d2fa7-f76e-4b06-9585-aef63d80e182\",\"type\":\"Line\"},\"selection_glyph\":null,\"view\":{\"id\":\"4b16c02a-adeb-4d1f-8cce-f22e1909e89e\",\"type\":\"CDSView\"}},\"id\":\"1f680c71-ff18-48a8-9364-0597f73f9690\",\"type\":\"GlyphRenderer\"},{\"attributes\":{\"source\":{\"id\":\"8b60e5c1-1b44-496b-a8fe-94306b274984\",\"type\":\"ColumnDataSource\"}},\"id\":\"f2ddc18a-cf79-4e28-8783-d9abd646aead\",\"type\":\"CDSView\"},{\"attributes\":{\"data_source\":{\"id\":\"8b60e5c1-1b44-496b-a8fe-94306b274984\",\"type\":\"ColumnDataSource\"},\"glyph\":{\"id\":\"0480df59-ec3f-41ca-a771-2262845d0763\",\"type\":\"Circle\"},\"hover_glyph\":null,\"muted_glyph\":null,\"nonselection_glyph\":{\"id\":\"807550d3-6313-415f-9ca7-14b379efcc72\",\"type\":\"Circle\"},\"selection_glyph\":null,\"view\":{\"id\":\"f2ddc18a-cf79-4e28-8783-d9abd646aead\",\"type\":\"CDSView\"}},\"id\":\"22e165de-2ed2-4e90-93e0-548905a6e4bb\",\"type\":\"GlyphRenderer\"},{\"attributes\":{\"fill_alpha\":{\"value\":0.1},\"fill_color\":{\"value\":\"#1f77b4\"},\"line_alpha\":{\"value\":0.1},\"line_color\":{\"value\":\"#1f77b4\"},\"x\":{\"field\":\"x\"},\"y\":{\"field\":\"y\"}},\"id\":\"807550d3-6313-415f-9ca7-14b379efcc72\",\"type\":\"Circle\"},{\"attributes\":{},\"id\":\"601bfb00-6415-4342-b747-b1183c847cc5\",\"type\":\"HelpTool\"}],\"root_ids\":[\"0db3f020-ac35-49a7-bddf-0a9eed4b6d99\"]},\"title\":\"Bokeh Application\",\"version\":\"0.12.16\"}};\n",
       "  var render_items = [{\"docid\":\"287af65d-66ed-4b81-b268-095b19b1bd05\",\"elementid\":\"7cdcd13e-1d97-4de9-b214-50073568d93c\",\"modelid\":\"0db3f020-ac35-49a7-bddf-0a9eed4b6d99\"}];\n",
       "  root.Bokeh.embed.embed_items_notebook(docs_json, render_items);\n",
       "\n",
       "  }\n",
       "  if (root.Bokeh !== undefined) {\n",
       "    embed_document(root);\n",
       "  } else {\n",
       "    var attempts = 0;\n",
       "    var timer = setInterval(function(root) {\n",
       "      if (root.Bokeh !== undefined) {\n",
       "        embed_document(root);\n",
       "        clearInterval(timer);\n",
       "      }\n",
       "      attempts++;\n",
       "      if (attempts > 100) {\n",
       "        console.log(\"Bokeh: ERROR: Unable to run BokehJS code because BokehJS library is missing\")\n",
       "        clearInterval(timer);\n",
       "      }\n",
       "    }, 10, root)\n",
       "  }\n",
       "})(window);"
      ],
      "application/vnd.bokehjs_exec.v0+json": ""
     },
     "metadata": {
      "application/vnd.bokehjs_exec.v0+json": {
       "id": "0db3f020-ac35-49a7-bddf-0a9eed4b6d99"
      }
     },
     "output_type": "display_data"
    },
    {
     "data": {
      "text/markdown": [
       "*FIGURE.* Cooling rates & difference."
      ],
      "text/plain": [
       "<IPython.core.display.Markdown object>"
      ]
     },
     "metadata": {},
     "output_type": "display_data"
    },
    {
     "data": {
      "text/html": [
       "<a id=\"Fluxes._mls.\"></a>"
      ],
      "text/plain": [
       "<IPython.core.display.HTML object>"
      ]
     },
     "metadata": {},
     "output_type": "display_data"
    },
    {
     "data": {
      "text/markdown": [
       "# Fluxes. mls."
      ],
      "text/plain": [
       "<IPython.core.display.Markdown object>"
      ]
     },
     "metadata": {},
     "output_type": "display_data"
    },
    {
     "data": {
      "text/html": [
       "\n",
       "<div class=\"bk-root\">\n",
       "    <div class=\"bk-plotdiv\" id=\"dd64f372-72db-435f-9ac0-474bc23f69d9\"></div>\n",
       "</div>"
      ]
     },
     "metadata": {},
     "output_type": "display_data"
    },
    {
     "data": {
      "application/javascript": [
       "(function(root) {\n",
       "  function embed_document(root) {\n",
       "    \n",
       "  var docs_json = {\"0bbbd5c8-bb80-46e4-bd79-e2eee74e5e32\":{\"roots\":{\"references\":[{\"attributes\":{},\"id\":\"7bf782b8-b448-4ce8-b75c-49235be28e71\",\"type\":\"BasicTickFormatter\"},{\"attributes\":{\"axis_label\":\"spectral band\",\"formatter\":{\"id\":\"2a992bb9-7ce1-46a4-b836-05f9e4eb7e2e\",\"type\":\"CategoricalTickFormatter\"},\"plot\":{\"id\":\"251bfbc0-030f-4c5e-adcd-7f139dc15bfc\",\"subtype\":\"Figure\",\"type\":\"Plot\"},\"ticker\":{\"id\":\"9c8275bb-3d95-4706-a9d5-e861309575c2\",\"type\":\"CategoricalTicker\"}},\"id\":\"58660304-cca2-45bd-af27-9969dc839dea\",\"type\":\"CategoricalAxis\"},{\"attributes\":{\"callback\":null,\"factors\":[\"3\",\"9\"]},\"id\":\"a8af2660-0d65-4ab7-82ac-9d71b3ed78e1\",\"type\":\"FactorRange\"},{\"attributes\":{},\"id\":\"a2741282-35b9-4c8f-8e7e-46fa620ec493\",\"type\":\"BasicTicker\"},{\"attributes\":{\"children\":[{\"id\":\"167fd3de-99e8-4e8d-af36-28d2b4966549\",\"type\":\"ToolbarBox\"},{\"id\":\"1392eb7f-393e-4eac-84a6-c6909fff1121\",\"type\":\"Column\"}]},\"id\":\"062bfa27-c750-4d60-afb7-add53e30839a\",\"type\":\"Column\"},{\"attributes\":{\"active_drag\":\"auto\",\"active_inspect\":\"auto\",\"active_scroll\":\"auto\",\"active_tap\":\"auto\",\"tools\":[{\"id\":\"4182dae7-4031-4f0a-ad00-9bf6f7a3d901\",\"type\":\"PanTool\"},{\"id\":\"ce1ece69-23a3-411c-b448-20e31c5d5913\",\"type\":\"WheelZoomTool\"},{\"id\":\"be970c24-232e-4d0b-a675-a43f540af6a2\",\"type\":\"BoxZoomTool\"},{\"id\":\"14b5b027-16f4-4ccd-935c-2c93dbed3496\",\"type\":\"SaveTool\"},{\"id\":\"76ef1bd0-ebed-42a5-993c-8a5e24ae3f61\",\"type\":\"ResetTool\"},{\"id\":\"1263f6fb-6a4d-42a5-9382-d1c33eb83388\",\"type\":\"HelpTool\"}]},\"id\":\"fbaee9f0-8d32-48e5-8dc7-1877be1eecdb\",\"type\":\"Toolbar\"},{\"attributes\":{},\"id\":\"5b02d8bb-d734-4876-916b-e09afb448baf\",\"type\":\"Selection\"},{\"attributes\":{\"tools\":[{\"id\":\"34c68fa2-c4bd-457f-9da3-5d0a11f85dc2\",\"type\":\"PanTool\"},{\"id\":\"2eedf186-947f-4b4a-b85c-d5199cef62de\",\"type\":\"WheelZoomTool\"},{\"id\":\"96f0e85a-6e8b-47a2-ae51-83adf777a738\",\"type\":\"BoxZoomTool\"},{\"id\":\"34393ec9-c106-4907-a8d0-6e6661bd79c7\",\"type\":\"SaveTool\"},{\"id\":\"503238db-d5f2-4dc3-ae9d-6a7641be6b67\",\"type\":\"ResetTool\"},{\"id\":\"dceb6f10-4c97-4714-b12e-cb44f949554a\",\"type\":\"HelpTool\"},{\"id\":\"4182dae7-4031-4f0a-ad00-9bf6f7a3d901\",\"type\":\"PanTool\"},{\"id\":\"ce1ece69-23a3-411c-b448-20e31c5d5913\",\"type\":\"WheelZoomTool\"},{\"id\":\"be970c24-232e-4d0b-a675-a43f540af6a2\",\"type\":\"BoxZoomTool\"},{\"id\":\"14b5b027-16f4-4ccd-935c-2c93dbed3496\",\"type\":\"SaveTool\"},{\"id\":\"76ef1bd0-ebed-42a5-993c-8a5e24ae3f61\",\"type\":\"ResetTool\"},{\"id\":\"1263f6fb-6a4d-42a5-9382-d1c33eb83388\",\"type\":\"HelpTool\"},{\"id\":\"db5a0258-72fe-470d-b17e-65daa3926269\",\"type\":\"PanTool\"},{\"id\":\"c6655c18-94ff-4b89-b514-4a52ea035c51\",\"type\":\"WheelZoomTool\"},{\"id\":\"3e368442-559d-41da-ba00-00365db10de9\",\"type\":\"BoxZoomTool\"},{\"id\":\"f768c959-1ccd-4c40-9c2d-6c8d6eaa260b\",\"type\":\"SaveTool\"},{\"id\":\"a3540025-74dd-41d7-a91e-81b572321005\",\"type\":\"ResetTool\"},{\"id\":\"081d8ae6-2e5d-4b77-a00a-574189254fbb\",\"type\":\"HelpTool\"}]},\"id\":\"bf8216ed-203f-4df1-87df-21d6256dd435\",\"type\":\"ProxyToolbar\"},{\"attributes\":{\"toolbar\":{\"id\":\"bf8216ed-203f-4df1-87df-21d6256dd435\",\"type\":\"ProxyToolbar\"},\"toolbar_location\":\"above\"},\"id\":\"167fd3de-99e8-4e8d-af36-28d2b4966549\",\"type\":\"ToolbarBox\"},{\"attributes\":{\"data_source\":{\"id\":\"c0e3e2a9-cd0d-4f54-8efc-363316c4ae8a\",\"type\":\"ColumnDataSource\"},\"glyph\":{\"id\":\"ab35eb21-4e29-4f62-820e-761e4161663c\",\"type\":\"VBar\"},\"hover_glyph\":null,\"muted_glyph\":null,\"nonselection_glyph\":{\"id\":\"2f2ced75-9d34-4a74-9215-4c686a337db4\",\"type\":\"VBar\"},\"selection_glyph\":null,\"view\":{\"id\":\"f7988626-759a-44f0-83e4-d7eb3c8bf60d\",\"type\":\"CDSView\"}},\"id\":\"3e77e834-b369-4dcd-aeb4-f6ccd4b87f23\",\"type\":\"GlyphRenderer\"},{\"attributes\":{\"plot\":{\"id\":\"08b2df42-4e6c-4cdc-8f98-8da985a33328\",\"subtype\":\"Figure\",\"type\":\"Plot\"},\"ticker\":{\"id\":\"5072dfee-b17b-4eda-b281-9e15bbffcde0\",\"type\":\"CategoricalTicker\"}},\"id\":\"6786d4b3-7003-4ed4-8695-366d8337f232\",\"type\":\"Grid\"},{\"attributes\":{\"below\":[{\"id\":\"6ebd6835-1c35-45d6-9585-2143dbee0f6a\",\"type\":\"CategoricalAxis\"}],\"left\":[{\"id\":\"15e912e4-271c-4154-b745-048243679eb9\",\"type\":\"LinearAxis\"}],\"plot_height\":300,\"plot_width\":300,\"renderers\":[{\"id\":\"6ebd6835-1c35-45d6-9585-2143dbee0f6a\",\"type\":\"CategoricalAxis\"},{\"id\":\"a0b5a1f6-ca3b-495e-98a4-c11129bd7c63\",\"type\":\"Grid\"},{\"id\":\"15e912e4-271c-4154-b745-048243679eb9\",\"type\":\"LinearAxis\"},{\"id\":\"619f5d0f-1816-4a1d-90e0-bad05f5af728\",\"type\":\"Grid\"},{\"id\":\"912120bf-fd88-44f1-a3a1-589a1b941ec6\",\"type\":\"BoxAnnotation\"},{\"id\":\"3e77e834-b369-4dcd-aeb4-f6ccd4b87f23\",\"type\":\"GlyphRenderer\"}],\"title\":{\"id\":\"81ac44ec-7959-43fd-9e5b-03502f9dd9ec\",\"type\":\"Title\"},\"toolbar\":{\"id\":\"fbaee9f0-8d32-48e5-8dc7-1877be1eecdb\",\"type\":\"Toolbar\"},\"toolbar_location\":null,\"x_range\":{\"id\":\"a8af2660-0d65-4ab7-82ac-9d71b3ed78e1\",\"type\":\"FactorRange\"},\"x_scale\":{\"id\":\"3947deb0-9987-431c-97cf-deab8ebcfa1f\",\"type\":\"CategoricalScale\"},\"y_range\":{\"id\":\"29fb7a90-e567-4e52-a56e-5651e7bcc00f\",\"type\":\"DataRange1d\"},\"y_scale\":{\"id\":\"1a6af75c-4163-4404-bb72-07a43e534a14\",\"type\":\"LinearScale\"}},\"id\":\"4d224d70-f4b0-4559-95be-5305ebe37f60\",\"subtype\":\"Figure\",\"type\":\"Plot\"},{\"attributes\":{},\"id\":\"5d965739-1c14-49c3-be86-9f94d0c2dcf4\",\"type\":\"UnionRenderers\"},{\"attributes\":{\"callback\":null,\"data\":{\"band\":[\"3\",\"9\"],\"flux\":{\"__ndarray__\":\"AAwa6kUnqL+AkxhngInGPw==\",\"dtype\":\"float64\",\"shape\":[2]}},\"selected\":{\"id\":\"a7d34238-6cd2-4e9c-850d-eac6e3e4d09b\",\"type\":\"Selection\"},\"selection_policy\":{\"id\":\"9c45e9ee-e893-4336-9da7-bb6d1bb4e2d2\",\"type\":\"UnionRenderers\"}},\"id\":\"de4f6c7f-b202-4ae8-92a9-a8c2867b8a8c\",\"type\":\"ColumnDataSource\"},{\"attributes\":{},\"id\":\"35b6943e-0890-4516-87c4-9d3492709b66\",\"type\":\"Selection\"},{\"attributes\":{\"active_drag\":\"auto\",\"active_inspect\":\"auto\",\"active_scroll\":\"auto\",\"active_tap\":\"auto\",\"tools\":[{\"id\":\"db5a0258-72fe-470d-b17e-65daa3926269\",\"type\":\"PanTool\"},{\"id\":\"c6655c18-94ff-4b89-b514-4a52ea035c51\",\"type\":\"WheelZoomTool\"},{\"id\":\"3e368442-559d-41da-ba00-00365db10de9\",\"type\":\"BoxZoomTool\"},{\"id\":\"f768c959-1ccd-4c40-9c2d-6c8d6eaa260b\",\"type\":\"SaveTool\"},{\"id\":\"a3540025-74dd-41d7-a91e-81b572321005\",\"type\":\"ResetTool\"},{\"id\":\"081d8ae6-2e5d-4b77-a00a-574189254fbb\",\"type\":\"HelpTool\"}]},\"id\":\"b6e1dfda-b8ce-4168-87c3-78d8b34fe4b4\",\"type\":\"Toolbar\"},{\"attributes\":{\"plot\":null,\"text\":\"Atmosphere heating. CLIRAD - CRD.\"},\"id\":\"418e5644-bcbb-43f7-abf5-261a96a8c227\",\"type\":\"Title\"},{\"attributes\":{\"callback\":null,\"factors\":[\"3\",\"9\"]},\"id\":\"a547a872-904e-4e01-8a5e-2828ace81e78\",\"type\":\"FactorRange\"},{\"attributes\":{\"axis_label\":\"flux (W m-2)\",\"formatter\":{\"id\":\"7bf782b8-b448-4ce8-b75c-49235be28e71\",\"type\":\"BasicTickFormatter\"},\"plot\":{\"id\":\"4d224d70-f4b0-4559-95be-5305ebe37f60\",\"subtype\":\"Figure\",\"type\":\"Plot\"},\"ticker\":{\"id\":\"a2741282-35b9-4c8f-8e7e-46fa620ec493\",\"type\":\"BasicTicker\"}},\"id\":\"15e912e4-271c-4154-b745-048243679eb9\",\"type\":\"LinearAxis\"},{\"attributes\":{\"fill_alpha\":{\"value\":0.1},\"fill_color\":{\"value\":\"#1f77b4\"},\"line_alpha\":{\"value\":0.1},\"line_color\":{\"value\":\"#1f77b4\"},\"top\":{\"field\":\"flux\"},\"width\":{\"value\":0.9},\"x\":{\"field\":\"band\"}},\"id\":\"2f2ced75-9d34-4a74-9215-4c686a337db4\",\"type\":\"VBar\"},{\"attributes\":{},\"id\":\"3947deb0-9987-431c-97cf-deab8ebcfa1f\",\"type\":\"CategoricalScale\"},{\"attributes\":{\"callback\":null},\"id\":\"29fb7a90-e567-4e52-a56e-5651e7bcc00f\",\"type\":\"DataRange1d\"},{\"attributes\":{\"axis_label\":\"spectral band\",\"formatter\":{\"id\":\"013fbafd-e2cf-432b-b124-be0893cb8415\",\"type\":\"CategoricalTickFormatter\"},\"plot\":{\"id\":\"4d224d70-f4b0-4559-95be-5305ebe37f60\",\"subtype\":\"Figure\",\"type\":\"Plot\"},\"ticker\":{\"id\":\"65952baf-28a4-4471-be3a-f7b7cdd230a9\",\"type\":\"CategoricalTicker\"}},\"id\":\"6ebd6835-1c35-45d6-9585-2143dbee0f6a\",\"type\":\"CategoricalAxis\"},{\"attributes\":{\"plot\":null,\"text\":\"SFC flux. CLIRAD - CRD.\"},\"id\":\"81ac44ec-7959-43fd-9e5b-03502f9dd9ec\",\"type\":\"Title\"},{\"attributes\":{\"bottom_units\":\"screen\",\"fill_alpha\":{\"value\":0.5},\"fill_color\":{\"value\":\"lightgrey\"},\"left_units\":\"screen\",\"level\":\"overlay\",\"line_alpha\":{\"value\":1.0},\"line_color\":{\"value\":\"black\"},\"line_dash\":[4,4],\"line_width\":{\"value\":2},\"plot\":null,\"render_mode\":\"css\",\"right_units\":\"screen\",\"top_units\":\"screen\"},\"id\":\"e7c88e61-07b0-4141-87b6-c0f0473a537e\",\"type\":\"BoxAnnotation\"},{\"attributes\":{\"below\":[{\"id\":\"37794895-6db1-45ad-8755-d14037e9a704\",\"type\":\"CategoricalAxis\"}],\"left\":[{\"id\":\"c9781c72-e0e3-4228-a452-d4af79276370\",\"type\":\"LinearAxis\"}],\"plot_height\":300,\"plot_width\":300,\"renderers\":[{\"id\":\"37794895-6db1-45ad-8755-d14037e9a704\",\"type\":\"CategoricalAxis\"},{\"id\":\"6786d4b3-7003-4ed4-8695-366d8337f232\",\"type\":\"Grid\"},{\"id\":\"c9781c72-e0e3-4228-a452-d4af79276370\",\"type\":\"LinearAxis\"},{\"id\":\"2d0a7fcd-a46b-4c33-9dcd-0c1cf583dd07\",\"type\":\"Grid\"},{\"id\":\"e7c88e61-07b0-4141-87b6-c0f0473a537e\",\"type\":\"BoxAnnotation\"},{\"id\":\"5efee56d-0657-45a0-816e-6b9ebe738cb9\",\"type\":\"GlyphRenderer\"}],\"title\":{\"id\":\"418e5644-bcbb-43f7-abf5-261a96a8c227\",\"type\":\"Title\"},\"toolbar\":{\"id\":\"b6e1dfda-b8ce-4168-87c3-78d8b34fe4b4\",\"type\":\"Toolbar\"},\"toolbar_location\":null,\"x_range\":{\"id\":\"a547a872-904e-4e01-8a5e-2828ace81e78\",\"type\":\"FactorRange\"},\"x_scale\":{\"id\":\"d6bf3cd7-70ce-4efd-abbc-ed81b494b456\",\"type\":\"CategoricalScale\"},\"y_range\":{\"id\":\"90d5241c-28a3-4aa6-a44b-9e7944430a1d\",\"type\":\"DataRange1d\"},\"y_scale\":{\"id\":\"a6e391f8-3c4e-443a-9def-aa385ee9a479\",\"type\":\"LinearScale\"}},\"id\":\"08b2df42-4e6c-4cdc-8f98-8da985a33328\",\"subtype\":\"Figure\",\"type\":\"Plot\"},{\"attributes\":{},\"id\":\"d644467a-968a-4fad-8e7d-095ab985acff\",\"type\":\"CategoricalScale\"},{\"attributes\":{\"children\":[{\"id\":\"251bfbc0-030f-4c5e-adcd-7f139dc15bfc\",\"subtype\":\"Figure\",\"type\":\"Plot\"},{\"id\":\"4d224d70-f4b0-4559-95be-5305ebe37f60\",\"subtype\":\"Figure\",\"type\":\"Plot\"},{\"id\":\"08b2df42-4e6c-4cdc-8f98-8da985a33328\",\"subtype\":\"Figure\",\"type\":\"Plot\"}]},\"id\":\"5beff65b-5174-40ce-97a0-95eb9c207033\",\"type\":\"Row\"},{\"attributes\":{\"callback\":null},\"id\":\"2a613852-983b-44b3-a411-70081aa4c4f1\",\"type\":\"DataRange1d\"},{\"attributes\":{\"plot\":{\"id\":\"4d224d70-f4b0-4559-95be-5305ebe37f60\",\"subtype\":\"Figure\",\"type\":\"Plot\"},\"ticker\":{\"id\":\"65952baf-28a4-4471-be3a-f7b7cdd230a9\",\"type\":\"CategoricalTicker\"}},\"id\":\"a0b5a1f6-ca3b-495e-98a4-c11129bd7c63\",\"type\":\"Grid\"},{\"attributes\":{},\"id\":\"db5a0258-72fe-470d-b17e-65daa3926269\",\"type\":\"PanTool\"},{\"attributes\":{},\"id\":\"f768c959-1ccd-4c40-9c2d-6c8d6eaa260b\",\"type\":\"SaveTool\"},{\"attributes\":{},\"id\":\"1a6af75c-4163-4404-bb72-07a43e534a14\",\"type\":\"LinearScale\"},{\"attributes\":{\"plot\":{\"id\":\"251bfbc0-030f-4c5e-adcd-7f139dc15bfc\",\"subtype\":\"Figure\",\"type\":\"Plot\"},\"ticker\":{\"id\":\"9c8275bb-3d95-4706-a9d5-e861309575c2\",\"type\":\"CategoricalTicker\"}},\"id\":\"44c356ea-a34f-4009-ae77-f3cdbc37c6dd\",\"type\":\"Grid\"},{\"attributes\":{},\"id\":\"65952baf-28a4-4471-be3a-f7b7cdd230a9\",\"type\":\"CategoricalTicker\"},{\"attributes\":{\"fill_color\":{\"value\":\"#1f77b4\"},\"line_color\":{\"value\":\"#1f77b4\"},\"top\":{\"field\":\"flux\"},\"width\":{\"value\":0.9},\"x\":{\"field\":\"band\"}},\"id\":\"660b2aea-1a13-463a-8114-5d8201fb9fb9\",\"type\":\"VBar\"},{\"attributes\":{\"dimension\":1,\"plot\":{\"id\":\"4d224d70-f4b0-4559-95be-5305ebe37f60\",\"subtype\":\"Figure\",\"type\":\"Plot\"},\"ticker\":{\"id\":\"a2741282-35b9-4c8f-8e7e-46fa620ec493\",\"type\":\"BasicTicker\"}},\"id\":\"619f5d0f-1816-4a1d-90e0-bad05f5af728\",\"type\":\"Grid\"},{\"attributes\":{},\"id\":\"2a992bb9-7ce1-46a4-b836-05f9e4eb7e2e\",\"type\":\"CategoricalTickFormatter\"},{\"attributes\":{},\"id\":\"836f8cd5-5cec-4097-bcb8-fd277254bffe\",\"type\":\"BasicTicker\"},{\"attributes\":{\"dimension\":1,\"plot\":{\"id\":\"08b2df42-4e6c-4cdc-8f98-8da985a33328\",\"subtype\":\"Figure\",\"type\":\"Plot\"},\"ticker\":{\"id\":\"941bab28-f07b-41c0-bb95-65ca0c80b8b8\",\"type\":\"BasicTicker\"}},\"id\":\"2d0a7fcd-a46b-4c33-9dcd-0c1cf583dd07\",\"type\":\"Grid\"},{\"attributes\":{},\"id\":\"3cf1d0f7-d563-4bc0-9281-63d1f8201d0c\",\"type\":\"LinearScale\"},{\"attributes\":{},\"id\":\"941bab28-f07b-41c0-bb95-65ca0c80b8b8\",\"type\":\"BasicTicker\"},{\"attributes\":{\"source\":{\"id\":\"c0e3e2a9-cd0d-4f54-8efc-363316c4ae8a\",\"type\":\"ColumnDataSource\"}},\"id\":\"f7988626-759a-44f0-83e4-d7eb3c8bf60d\",\"type\":\"CDSView\"},{\"attributes\":{\"fill_alpha\":{\"value\":0.1},\"fill_color\":{\"value\":\"#1f77b4\"},\"line_alpha\":{\"value\":0.1},\"line_color\":{\"value\":\"#1f77b4\"},\"top\":{\"field\":\"flux\"},\"width\":{\"value\":0.9},\"x\":{\"field\":\"band\"}},\"id\":\"ded605e1-f78a-4e9f-bf25-8dcd2c6b06d8\",\"type\":\"VBar\"},{\"attributes\":{\"bottom_units\":\"screen\",\"fill_alpha\":{\"value\":0.5},\"fill_color\":{\"value\":\"lightgrey\"},\"left_units\":\"screen\",\"level\":\"overlay\",\"line_alpha\":{\"value\":1.0},\"line_color\":{\"value\":\"black\"},\"line_dash\":[4,4],\"line_width\":{\"value\":2},\"plot\":null,\"render_mode\":\"css\",\"right_units\":\"screen\",\"top_units\":\"screen\"},\"id\":\"912120bf-fd88-44f1-a3a1-589a1b941ec6\",\"type\":\"BoxAnnotation\"},{\"attributes\":{},\"id\":\"5072dfee-b17b-4eda-b281-9e15bbffcde0\",\"type\":\"CategoricalTicker\"},{\"attributes\":{},\"id\":\"4182dae7-4031-4f0a-ad00-9bf6f7a3d901\",\"type\":\"PanTool\"},{\"attributes\":{\"axis_label\":\"flux (W m-2)\",\"formatter\":{\"id\":\"8e5dd7c8-0b87-4be6-9b43-d8a78f36400d\",\"type\":\"BasicTickFormatter\"},\"plot\":{\"id\":\"251bfbc0-030f-4c5e-adcd-7f139dc15bfc\",\"subtype\":\"Figure\",\"type\":\"Plot\"},\"ticker\":{\"id\":\"836f8cd5-5cec-4097-bcb8-fd277254bffe\",\"type\":\"BasicTicker\"}},\"id\":\"8d7c6b08-c16a-4d09-8c1c-99a797f6f286\",\"type\":\"LinearAxis\"},{\"attributes\":{\"axis_label\":\"spectral band\",\"formatter\":{\"id\":\"5eb2ee30-56f3-4e64-87e4-03815cc056b7\",\"type\":\"CategoricalTickFormatter\"},\"plot\":{\"id\":\"08b2df42-4e6c-4cdc-8f98-8da985a33328\",\"subtype\":\"Figure\",\"type\":\"Plot\"},\"ticker\":{\"id\":\"5072dfee-b17b-4eda-b281-9e15bbffcde0\",\"type\":\"CategoricalTicker\"}},\"id\":\"37794895-6db1-45ad-8755-d14037e9a704\",\"type\":\"CategoricalAxis\"},{\"attributes\":{\"callback\":null},\"id\":\"90d5241c-28a3-4aa6-a44b-9e7944430a1d\",\"type\":\"DataRange1d\"},{\"attributes\":{},\"id\":\"ce1ece69-23a3-411c-b448-20e31c5d5913\",\"type\":\"WheelZoomTool\"},{\"attributes\":{\"axis_label\":\"flux (W m-2)\",\"formatter\":{\"id\":\"6bb6713e-d37c-4c08-a6d8-ab4131d13fd1\",\"type\":\"BasicTickFormatter\"},\"plot\":{\"id\":\"08b2df42-4e6c-4cdc-8f98-8da985a33328\",\"subtype\":\"Figure\",\"type\":\"Plot\"},\"ticker\":{\"id\":\"941bab28-f07b-41c0-bb95-65ca0c80b8b8\",\"type\":\"BasicTicker\"}},\"id\":\"c9781c72-e0e3-4228-a452-d4af79276370\",\"type\":\"LinearAxis\"},{\"attributes\":{\"overlay\":{\"id\":\"912120bf-fd88-44f1-a3a1-589a1b941ec6\",\"type\":\"BoxAnnotation\"}},\"id\":\"be970c24-232e-4d0b-a675-a43f540af6a2\",\"type\":\"BoxZoomTool\"},{\"attributes\":{\"callback\":null,\"data\":{\"band\":[\"3\",\"9\"],\"flux\":{\"__ndarray__\":\"AOo4hhl9eb8AgOdOGOOgvw==\",\"dtype\":\"float64\",\"shape\":[2]}},\"selected\":{\"id\":\"35b6943e-0890-4516-87c4-9d3492709b66\",\"type\":\"Selection\"},\"selection_policy\":{\"id\":\"5d965739-1c14-49c3-be86-9f94d0c2dcf4\",\"type\":\"UnionRenderers\"}},\"id\":\"c0e3e2a9-cd0d-4f54-8efc-363316c4ae8a\",\"type\":\"ColumnDataSource\"},{\"attributes\":{},\"id\":\"14b5b027-16f4-4ccd-935c-2c93dbed3496\",\"type\":\"SaveTool\"},{\"attributes\":{\"callback\":null,\"factors\":[\"3\",\"9\"]},\"id\":\"08099c86-2f09-4789-93ff-4d97bb19f670\",\"type\":\"FactorRange\"},{\"attributes\":{},\"id\":\"76ef1bd0-ebed-42a5-993c-8a5e24ae3f61\",\"type\":\"ResetTool\"},{\"attributes\":{\"plot\":null,\"text\":\"TOA flux. CLIRAD - CRD.\"},\"id\":\"c15905cb-7fa0-4bf5-a361-678b853dd297\",\"type\":\"Title\"},{\"attributes\":{},\"id\":\"1263f6fb-6a4d-42a5-9382-d1c33eb83388\",\"type\":\"HelpTool\"},{\"attributes\":{\"below\":[{\"id\":\"58660304-cca2-45bd-af27-9969dc839dea\",\"type\":\"CategoricalAxis\"}],\"left\":[{\"id\":\"8d7c6b08-c16a-4d09-8c1c-99a797f6f286\",\"type\":\"LinearAxis\"}],\"plot_height\":300,\"plot_width\":300,\"renderers\":[{\"id\":\"58660304-cca2-45bd-af27-9969dc839dea\",\"type\":\"CategoricalAxis\"},{\"id\":\"44c356ea-a34f-4009-ae77-f3cdbc37c6dd\",\"type\":\"Grid\"},{\"id\":\"8d7c6b08-c16a-4d09-8c1c-99a797f6f286\",\"type\":\"LinearAxis\"},{\"id\":\"5902fa91-4f06-45d9-bf7c-0c3aa5d90cf5\",\"type\":\"Grid\"},{\"id\":\"e94b908d-2189-4138-b07b-4e3325ab379f\",\"type\":\"BoxAnnotation\"},{\"id\":\"25daa3b0-e93e-4c0a-abf6-46bc1353d66f\",\"type\":\"GlyphRenderer\"}],\"title\":{\"id\":\"c15905cb-7fa0-4bf5-a361-678b853dd297\",\"type\":\"Title\"},\"toolbar\":{\"id\":\"0740636a-876f-4928-9667-a119bbaff014\",\"type\":\"Toolbar\"},\"toolbar_location\":null,\"x_range\":{\"id\":\"08099c86-2f09-4789-93ff-4d97bb19f670\",\"type\":\"FactorRange\"},\"x_scale\":{\"id\":\"d644467a-968a-4fad-8e7d-095ab985acff\",\"type\":\"CategoricalScale\"},\"y_range\":{\"id\":\"2a613852-983b-44b3-a411-70081aa4c4f1\",\"type\":\"DataRange1d\"},\"y_scale\":{\"id\":\"3cf1d0f7-d563-4bc0-9281-63d1f8201d0c\",\"type\":\"LinearScale\"}},\"id\":\"251bfbc0-030f-4c5e-adcd-7f139dc15bfc\",\"subtype\":\"Figure\",\"type\":\"Plot\"},{\"attributes\":{},\"id\":\"a6e391f8-3c4e-443a-9def-aa385ee9a479\",\"type\":\"LinearScale\"},{\"attributes\":{},\"id\":\"6bb6713e-d37c-4c08-a6d8-ab4131d13fd1\",\"type\":\"BasicTickFormatter\"},{\"attributes\":{},\"id\":\"d6bf3cd7-70ce-4efd-abbc-ed81b494b456\",\"type\":\"CategoricalScale\"},{\"attributes\":{\"fill_color\":{\"value\":\"#1f77b4\"},\"line_color\":{\"value\":\"#1f77b4\"},\"top\":{\"field\":\"flux\"},\"width\":{\"value\":0.9},\"x\":{\"field\":\"band\"}},\"id\":\"6b2cdd87-e47e-4158-bc72-fe89ae80beb8\",\"type\":\"VBar\"},{\"attributes\":{\"active_drag\":\"auto\",\"active_inspect\":\"auto\",\"active_scroll\":\"auto\",\"active_tap\":\"auto\",\"tools\":[{\"id\":\"34c68fa2-c4bd-457f-9da3-5d0a11f85dc2\",\"type\":\"PanTool\"},{\"id\":\"2eedf186-947f-4b4a-b85c-d5199cef62de\",\"type\":\"WheelZoomTool\"},{\"id\":\"96f0e85a-6e8b-47a2-ae51-83adf777a738\",\"type\":\"BoxZoomTool\"},{\"id\":\"34393ec9-c106-4907-a8d0-6e6661bd79c7\",\"type\":\"SaveTool\"},{\"id\":\"503238db-d5f2-4dc3-ae9d-6a7641be6b67\",\"type\":\"ResetTool\"},{\"id\":\"dceb6f10-4c97-4714-b12e-cb44f949554a\",\"type\":\"HelpTool\"}]},\"id\":\"0740636a-876f-4928-9667-a119bbaff014\",\"type\":\"Toolbar\"},{\"attributes\":{\"data_source\":{\"id\":\"5d0bf6fe-79ea-48bb-9261-37995d6f423b\",\"type\":\"ColumnDataSource\"},\"glyph\":{\"id\":\"660b2aea-1a13-463a-8114-5d8201fb9fb9\",\"type\":\"VBar\"},\"hover_glyph\":null,\"muted_glyph\":null,\"nonselection_glyph\":{\"id\":\"ded605e1-f78a-4e9f-bf25-8dcd2c6b06d8\",\"type\":\"VBar\"},\"selection_glyph\":null,\"view\":{\"id\":\"ea9d9254-0cef-4cf6-bda9-bdfd3172993d\",\"type\":\"CDSView\"}},\"id\":\"5efee56d-0657-45a0-816e-6b9ebe738cb9\",\"type\":\"GlyphRenderer\"},{\"attributes\":{},\"id\":\"9c8275bb-3d95-4706-a9d5-e861309575c2\",\"type\":\"CategoricalTicker\"},{\"attributes\":{},\"id\":\"a3d7615f-5c5f-4d39-a4e1-2e3c6e40ab2a\",\"type\":\"UnionRenderers\"},{\"attributes\":{\"overlay\":{\"id\":\"e7c88e61-07b0-4141-87b6-c0f0473a537e\",\"type\":\"BoxAnnotation\"}},\"id\":\"3e368442-559d-41da-ba00-00365db10de9\",\"type\":\"BoxZoomTool\"},{\"attributes\":{\"dimension\":1,\"plot\":{\"id\":\"251bfbc0-030f-4c5e-adcd-7f139dc15bfc\",\"subtype\":\"Figure\",\"type\":\"Plot\"},\"ticker\":{\"id\":\"836f8cd5-5cec-4097-bcb8-fd277254bffe\",\"type\":\"BasicTicker\"}},\"id\":\"5902fa91-4f06-45d9-bf7c-0c3aa5d90cf5\",\"type\":\"Grid\"},{\"attributes\":{},\"id\":\"c6655c18-94ff-4b89-b514-4a52ea035c51\",\"type\":\"WheelZoomTool\"},{\"attributes\":{\"fill_alpha\":{\"value\":0.1},\"fill_color\":{\"value\":\"#1f77b4\"},\"line_alpha\":{\"value\":0.1},\"line_color\":{\"value\":\"#1f77b4\"},\"top\":{\"field\":\"flux\"},\"width\":{\"value\":0.9},\"x\":{\"field\":\"band\"}},\"id\":\"cca14058-64cd-416f-b971-807f9d9df5ca\",\"type\":\"VBar\"},{\"attributes\":{\"callback\":null,\"data\":{\"band\":[\"3\",\"9\"],\"flux\":{\"__ndarray__\":\"AMx81k73pL8AkWt9cMLKPw==\",\"dtype\":\"float64\",\"shape\":[2]}},\"selected\":{\"id\":\"5b02d8bb-d734-4876-916b-e09afb448baf\",\"type\":\"Selection\"},\"selection_policy\":{\"id\":\"a3d7615f-5c5f-4d39-a4e1-2e3c6e40ab2a\",\"type\":\"UnionRenderers\"}},\"id\":\"5d0bf6fe-79ea-48bb-9261-37995d6f423b\",\"type\":\"ColumnDataSource\"},{\"attributes\":{\"fill_color\":{\"value\":\"#1f77b4\"},\"line_color\":{\"value\":\"#1f77b4\"},\"top\":{\"field\":\"flux\"},\"width\":{\"value\":0.9},\"x\":{\"field\":\"band\"}},\"id\":\"ab35eb21-4e29-4f62-820e-761e4161663c\",\"type\":\"VBar\"},{\"attributes\":{},\"id\":\"5eb2ee30-56f3-4e64-87e4-03815cc056b7\",\"type\":\"CategoricalTickFormatter\"},{\"attributes\":{\"bottom_units\":\"screen\",\"fill_alpha\":{\"value\":0.5},\"fill_color\":{\"value\":\"lightgrey\"},\"left_units\":\"screen\",\"level\":\"overlay\",\"line_alpha\":{\"value\":1.0},\"line_color\":{\"value\":\"black\"},\"line_dash\":[4,4],\"line_width\":{\"value\":2},\"plot\":null,\"render_mode\":\"css\",\"right_units\":\"screen\",\"top_units\":\"screen\"},\"id\":\"e94b908d-2189-4138-b07b-4e3325ab379f\",\"type\":\"BoxAnnotation\"},{\"attributes\":{},\"id\":\"34c68fa2-c4bd-457f-9da3-5d0a11f85dc2\",\"type\":\"PanTool\"},{\"attributes\":{},\"id\":\"a3540025-74dd-41d7-a91e-81b572321005\",\"type\":\"ResetTool\"},{\"attributes\":{},\"id\":\"081d8ae6-2e5d-4b77-a00a-574189254fbb\",\"type\":\"HelpTool\"},{\"attributes\":{\"data_source\":{\"id\":\"de4f6c7f-b202-4ae8-92a9-a8c2867b8a8c\",\"type\":\"ColumnDataSource\"},\"glyph\":{\"id\":\"6b2cdd87-e47e-4158-bc72-fe89ae80beb8\",\"type\":\"VBar\"},\"hover_glyph\":null,\"muted_glyph\":null,\"nonselection_glyph\":{\"id\":\"cca14058-64cd-416f-b971-807f9d9df5ca\",\"type\":\"VBar\"},\"selection_glyph\":null,\"view\":{\"id\":\"d5b469bf-bb31-4b6a-b6ec-abf1eb83aa9b\",\"type\":\"CDSView\"}},\"id\":\"25daa3b0-e93e-4c0a-abf6-46bc1353d66f\",\"type\":\"GlyphRenderer\"},{\"attributes\":{},\"id\":\"2eedf186-947f-4b4a-b85c-d5199cef62de\",\"type\":\"WheelZoomTool\"},{\"attributes\":{},\"id\":\"013fbafd-e2cf-432b-b124-be0893cb8415\",\"type\":\"CategoricalTickFormatter\"},{\"attributes\":{},\"id\":\"8e5dd7c8-0b87-4be6-9b43-d8a78f36400d\",\"type\":\"BasicTickFormatter\"},{\"attributes\":{\"overlay\":{\"id\":\"e94b908d-2189-4138-b07b-4e3325ab379f\",\"type\":\"BoxAnnotation\"}},\"id\":\"96f0e85a-6e8b-47a2-ae51-83adf777a738\",\"type\":\"BoxZoomTool\"},{\"attributes\":{},\"id\":\"34393ec9-c106-4907-a8d0-6e6661bd79c7\",\"type\":\"SaveTool\"},{\"attributes\":{},\"id\":\"a7d34238-6cd2-4e9c-850d-eac6e3e4d09b\",\"type\":\"Selection\"},{\"attributes\":{},\"id\":\"503238db-d5f2-4dc3-ae9d-6a7641be6b67\",\"type\":\"ResetTool\"},{\"attributes\":{},\"id\":\"dceb6f10-4c97-4714-b12e-cb44f949554a\",\"type\":\"HelpTool\"},{\"attributes\":{\"source\":{\"id\":\"5d0bf6fe-79ea-48bb-9261-37995d6f423b\",\"type\":\"ColumnDataSource\"}},\"id\":\"ea9d9254-0cef-4cf6-bda9-bdfd3172993d\",\"type\":\"CDSView\"},{\"attributes\":{\"children\":[{\"id\":\"5beff65b-5174-40ce-97a0-95eb9c207033\",\"type\":\"Row\"}]},\"id\":\"1392eb7f-393e-4eac-84a6-c6909fff1121\",\"type\":\"Column\"},{\"attributes\":{\"source\":{\"id\":\"de4f6c7f-b202-4ae8-92a9-a8c2867b8a8c\",\"type\":\"ColumnDataSource\"}},\"id\":\"d5b469bf-bb31-4b6a-b6ec-abf1eb83aa9b\",\"type\":\"CDSView\"},{\"attributes\":{},\"id\":\"9c45e9ee-e893-4336-9da7-bb6d1bb4e2d2\",\"type\":\"UnionRenderers\"}],\"root_ids\":[\"062bfa27-c750-4d60-afb7-add53e30839a\"]},\"title\":\"Bokeh Application\",\"version\":\"0.12.16\"}};\n",
       "  var render_items = [{\"docid\":\"0bbbd5c8-bb80-46e4-bd79-e2eee74e5e32\",\"elementid\":\"dd64f372-72db-435f-9ac0-474bc23f69d9\",\"modelid\":\"062bfa27-c750-4d60-afb7-add53e30839a\"}];\n",
       "  root.Bokeh.embed.embed_items_notebook(docs_json, render_items);\n",
       "\n",
       "  }\n",
       "  if (root.Bokeh !== undefined) {\n",
       "    embed_document(root);\n",
       "  } else {\n",
       "    var attempts = 0;\n",
       "    var timer = setInterval(function(root) {\n",
       "      if (root.Bokeh !== undefined) {\n",
       "        embed_document(root);\n",
       "        clearInterval(timer);\n",
       "      }\n",
       "      attempts++;\n",
       "      if (attempts > 100) {\n",
       "        console.log(\"Bokeh: ERROR: Unable to run BokehJS code because BokehJS library is missing\")\n",
       "        clearInterval(timer);\n",
       "      }\n",
       "    }, 10, root)\n",
       "  }\n",
       "})(window);"
      ],
      "application/vnd.bokehjs_exec.v0+json": ""
     },
     "metadata": {
      "application/vnd.bokehjs_exec.v0+json": {
       "id": "062bfa27-c750-4d60-afb7-add53e30839a"
      }
     },
     "output_type": "display_data"
    },
    {
     "data": {
      "text/markdown": [
       "*FIGURE.* Difference between CLIRAD and CRD in TOA, SFC and net atmosphere flux, in each spectral band."
      ],
      "text/plain": [
       "<IPython.core.display.Markdown object>"
      ]
     },
     "metadata": {},
     "output_type": "display_data"
    },
    {
     "data": {
      "text/html": [
       "<div>\n",
       "<style scoped>\n",
       "    .dataframe tbody tr th:only-of-type {\n",
       "        vertical-align: middle;\n",
       "    }\n",
       "\n",
       "    .dataframe tbody tr th {\n",
       "        vertical-align: top;\n",
       "    }\n",
       "\n",
       "    .dataframe thead th {\n",
       "        text-align: right;\n",
       "    }\n",
       "</style>\n",
       "<table border=\"1\" class=\"dataframe\">\n",
       "  <thead>\n",
       "    <tr style=\"text-align: right;\">\n",
       "      <th></th>\n",
       "      <th></th>\n",
       "      <th>TOA up</th>\n",
       "      <th>SFC down</th>\n",
       "      <th>ATM heating</th>\n",
       "      <th>tropo up</th>\n",
       "      <th>tropo down</th>\n",
       "      <th>tropo net</th>\n",
       "    </tr>\n",
       "  </thead>\n",
       "  <tbody>\n",
       "    <tr>\n",
       "      <th rowspan=\"2\" valign=\"top\">Sum over band</th>\n",
       "      <th>CLIRAD - CRD</th>\n",
       "      <td>0.13</td>\n",
       "      <td>-0.04</td>\n",
       "      <td>0.17</td>\n",
       "      <td>-0.00</td>\n",
       "      <td>-0.03</td>\n",
       "      <td>-0.03</td>\n",
       "    </tr>\n",
       "    <tr>\n",
       "      <th>CRD</th>\n",
       "      <td>-55.89</td>\n",
       "      <td>6.49</td>\n",
       "      <td>-2.39</td>\n",
       "      <td>-56.46</td>\n",
       "      <td>0.40</td>\n",
       "      <td>-56.06</td>\n",
       "    </tr>\n",
       "    <tr>\n",
       "      <th rowspan=\"2\" valign=\"top\">Band 3</th>\n",
       "      <th>CLIRAD - CRD</th>\n",
       "      <td>-0.05</td>\n",
       "      <td>-0.01</td>\n",
       "      <td>-0.04</td>\n",
       "      <td>-0.05</td>\n",
       "      <td>-0.02</td>\n",
       "      <td>-0.07</td>\n",
       "    </tr>\n",
       "    <tr>\n",
       "      <th>CRD</th>\n",
       "      <td>-35.02</td>\n",
       "      <td>2.61</td>\n",
       "      <td>-1.39</td>\n",
       "      <td>-35.30</td>\n",
       "      <td>0.28</td>\n",
       "      <td>-35.03</td>\n",
       "    </tr>\n",
       "    <tr>\n",
       "      <th rowspan=\"2\" valign=\"top\">Band 9</th>\n",
       "      <th>CLIRAD - CRD</th>\n",
       "      <td>0.18</td>\n",
       "      <td>-0.03</td>\n",
       "      <td>0.21</td>\n",
       "      <td>0.05</td>\n",
       "      <td>-0.01</td>\n",
       "      <td>0.04</td>\n",
       "    </tr>\n",
       "    <tr>\n",
       "      <th>CRD</th>\n",
       "      <td>-20.87</td>\n",
       "      <td>3.88</td>\n",
       "      <td>-1.00</td>\n",
       "      <td>-21.16</td>\n",
       "      <td>0.12</td>\n",
       "      <td>-21.04</td>\n",
       "    </tr>\n",
       "  </tbody>\n",
       "</table>\n",
       "</div>"
      ],
      "text/plain": [
       "                            TOA up  SFC down  ATM heating  tropo up  \\\n",
       "Sum over band CLIRAD - CRD    0.13     -0.04         0.17     -0.00   \n",
       "              CRD           -55.89      6.49        -2.39    -56.46   \n",
       "Band 3        CLIRAD - CRD   -0.05     -0.01        -0.04     -0.05   \n",
       "              CRD           -35.02      2.61        -1.39    -35.30   \n",
       "Band 9        CLIRAD - CRD    0.18     -0.03         0.21      0.05   \n",
       "              CRD           -20.87      3.88        -1.00    -21.16   \n",
       "\n",
       "                            tropo down  tropo net  \n",
       "Sum over band CLIRAD - CRD       -0.03      -0.03  \n",
       "              CRD                 0.40     -56.06  \n",
       "Band 3        CLIRAD - CRD       -0.02      -0.07  \n",
       "              CRD                 0.28     -35.03  \n",
       "Band 9        CLIRAD - CRD       -0.01       0.04  \n",
       "              CRD                 0.12     -21.04  "
      ]
     },
     "metadata": {},
     "output_type": "display_data"
    },
    {
     "data": {
      "text/markdown": [
       "*TABLE.* Difference between CLIRAD and CRD fluxes at various atmosphere levels."
      ],
      "text/plain": [
       "<IPython.core.display.Markdown object>"
      ]
     },
     "metadata": {},
     "output_type": "display_data"
    },
    {
     "data": {
      "text/html": [
       "<a id=\"Parameters_of_runs._saw\"></a>"
      ],
      "text/plain": [
       "<IPython.core.display.HTML object>"
      ]
     },
     "metadata": {},
     "output_type": "display_data"
    },
    {
     "data": {
      "text/markdown": [
       "# Parameters of runs. saw"
      ],
      "text/plain": [
       "<IPython.core.display.Markdown object>"
      ]
     },
     "metadata": {},
     "output_type": "display_data"
    },
    {
     "data": {
      "text/html": [
       "<div>\n",
       "<style scoped>\n",
       "    .dataframe tbody tr th:only-of-type {\n",
       "        vertical-align: middle;\n",
       "    }\n",
       "\n",
       "    .dataframe tbody tr th {\n",
       "        vertical-align: top;\n",
       "    }\n",
       "\n",
       "    .dataframe thead tr th {\n",
       "        text-align: left;\n",
       "    }\n",
       "</style>\n",
       "<table border=\"1\" class=\"dataframe\">\n",
       "  <thead>\n",
       "    <tr>\n",
       "      <th></th>\n",
       "      <th>clirad-lw</th>\n",
       "      <th colspan=\"2\" halign=\"left\">lblnew-bestfit lw</th>\n",
       "    </tr>\n",
       "    <tr>\n",
       "      <th></th>\n",
       "      <th>:D</th>\n",
       "      <th>band3a n2o</th>\n",
       "      <th>band7 n2o</th>\n",
       "    </tr>\n",
       "  </thead>\n",
       "  <tbody>\n",
       "    <tr>\n",
       "      <th>atmpro</th>\n",
       "      <td>saw</td>\n",
       "      <td>saw</td>\n",
       "      <td>saw</td>\n",
       "    </tr>\n",
       "    <tr>\n",
       "      <th>band</th>\n",
       "      <td>[3, 9]</td>\n",
       "      <td>3a</td>\n",
       "      <td>7</td>\n",
       "    </tr>\n",
       "    <tr>\n",
       "      <th>commitnumber</th>\n",
       "      <td>1013f91</td>\n",
       "      <td>5014a19</td>\n",
       "      <td>5014a19</td>\n",
       "    </tr>\n",
       "    <tr>\n",
       "      <th>conc</th>\n",
       "      <td>-</td>\n",
       "      <td>3.2e-07</td>\n",
       "      <td>3.2e-07</td>\n",
       "    </tr>\n",
       "    <tr>\n",
       "      <th>dv</th>\n",
       "      <td>-</td>\n",
       "      <td>0.001</td>\n",
       "      <td>0.001</td>\n",
       "    </tr>\n",
       "    <tr>\n",
       "      <th>klin</th>\n",
       "      <td>-</td>\n",
       "      <td>2.22e-20</td>\n",
       "      <td>2.22e-20</td>\n",
       "    </tr>\n",
       "    <tr>\n",
       "      <th>molecule</th>\n",
       "      <td>{'n2o': 3.2e-07}</td>\n",
       "      <td>n2o</td>\n",
       "      <td>n2o</td>\n",
       "    </tr>\n",
       "    <tr>\n",
       "      <th>ng_adju</th>\n",
       "      <td>-</td>\n",
       "      <td>[0, 0]</td>\n",
       "      <td>[0, 0]</td>\n",
       "    </tr>\n",
       "    <tr>\n",
       "      <th>ng_refs</th>\n",
       "      <td>-</td>\n",
       "      <td>[1, 2]</td>\n",
       "      <td>[2, 2]</td>\n",
       "    </tr>\n",
       "    <tr>\n",
       "      <th>nv</th>\n",
       "      <td>-</td>\n",
       "      <td>1000</td>\n",
       "      <td>1000</td>\n",
       "    </tr>\n",
       "    <tr>\n",
       "      <th>option_compute_btable</th>\n",
       "      <td>-</td>\n",
       "      <td>0</td>\n",
       "      <td>0</td>\n",
       "    </tr>\n",
       "    <tr>\n",
       "      <th>option_compute_ktable</th>\n",
       "      <td>-</td>\n",
       "      <td>0</td>\n",
       "      <td>0</td>\n",
       "    </tr>\n",
       "    <tr>\n",
       "      <th>option_wgt_flux</th>\n",
       "      <td>-</td>\n",
       "      <td>1</td>\n",
       "      <td>1</td>\n",
       "    </tr>\n",
       "    <tr>\n",
       "      <th>option_wgt_k</th>\n",
       "      <td>-</td>\n",
       "      <td>1</td>\n",
       "      <td>1</td>\n",
       "    </tr>\n",
       "    <tr>\n",
       "      <th>ref_pts</th>\n",
       "      <td>-</td>\n",
       "      <td>[[1, 250], [500, 250]]</td>\n",
       "      <td>[[1, 250], [500, 250]]</td>\n",
       "    </tr>\n",
       "    <tr>\n",
       "      <th>tsfc</th>\n",
       "      <td>257</td>\n",
       "      <td>257</td>\n",
       "      <td>257</td>\n",
       "    </tr>\n",
       "    <tr>\n",
       "      <th>vmax</th>\n",
       "      <td>-</td>\n",
       "      <td>620</td>\n",
       "      <td>1380</td>\n",
       "    </tr>\n",
       "    <tr>\n",
       "      <th>vmin</th>\n",
       "      <td>-</td>\n",
       "      <td>540</td>\n",
       "      <td>1215</td>\n",
       "    </tr>\n",
       "    <tr>\n",
       "      <th>w_diffuse</th>\n",
       "      <td>-</td>\n",
       "      <td>[[1.8], [1.66, 1.8]]</td>\n",
       "      <td>[[1.8, 1.66], [1.6, 1.8]]</td>\n",
       "    </tr>\n",
       "    <tr>\n",
       "      <th>wgt</th>\n",
       "      <td>-</td>\n",
       "      <td>[[0.9], [0.5, 0.95]]</td>\n",
       "      <td>[[0.6, 0.5], [0.6, 0.9]]</td>\n",
       "    </tr>\n",
       "  </tbody>\n",
       "</table>\n",
       "</div>"
      ],
      "text/plain": [
       "                              clirad-lw       lblnew-bestfit lw  \\\n",
       "                                     :D              band3a n2o   \n",
       "atmpro                              saw                     saw   \n",
       "band                             [3, 9]                      3a   \n",
       "commitnumber                    1013f91                 5014a19   \n",
       "conc                                  -                 3.2e-07   \n",
       "dv                                    -                   0.001   \n",
       "klin                                  -                2.22e-20   \n",
       "molecule               {'n2o': 3.2e-07}                     n2o   \n",
       "ng_adju                               -                  [0, 0]   \n",
       "ng_refs                               -                  [1, 2]   \n",
       "nv                                    -                    1000   \n",
       "option_compute_btable                 -                       0   \n",
       "option_compute_ktable                 -                       0   \n",
       "option_wgt_flux                       -                       1   \n",
       "option_wgt_k                          -                       1   \n",
       "ref_pts                               -  [[1, 250], [500, 250]]   \n",
       "tsfc                                257                     257   \n",
       "vmax                                  -                     620   \n",
       "vmin                                  -                     540   \n",
       "w_diffuse                             -    [[1.8], [1.66, 1.8]]   \n",
       "wgt                                   -    [[0.9], [0.5, 0.95]]   \n",
       "\n",
       "                                                  \n",
       "                                       band7 n2o  \n",
       "atmpro                                       saw  \n",
       "band                                           7  \n",
       "commitnumber                             5014a19  \n",
       "conc                                     3.2e-07  \n",
       "dv                                         0.001  \n",
       "klin                                    2.22e-20  \n",
       "molecule                                     n2o  \n",
       "ng_adju                                   [0, 0]  \n",
       "ng_refs                                   [2, 2]  \n",
       "nv                                          1000  \n",
       "option_compute_btable                          0  \n",
       "option_compute_ktable                          0  \n",
       "option_wgt_flux                                1  \n",
       "option_wgt_k                                   1  \n",
       "ref_pts                   [[1, 250], [500, 250]]  \n",
       "tsfc                                         257  \n",
       "vmax                                        1380  \n",
       "vmin                                        1215  \n",
       "w_diffuse              [[1.8, 1.66], [1.6, 1.8]]  \n",
       "wgt                     [[0.6, 0.5], [0.6, 0.9]]  "
      ]
     },
     "metadata": {},
     "output_type": "display_data"
    },
    {
     "data": {
      "text/html": [
       "<a id=\"Cooling_rates._saw.\"></a>"
      ],
      "text/plain": [
       "<IPython.core.display.HTML object>"
      ]
     },
     "metadata": {},
     "output_type": "display_data"
    },
    {
     "data": {
      "text/markdown": [
       "# Cooling rates. saw."
      ],
      "text/plain": [
       "<IPython.core.display.Markdown object>"
      ]
     },
     "metadata": {},
     "output_type": "display_data"
    },
    {
     "data": {
      "text/html": [
       "\n",
       "<div class=\"bk-root\">\n",
       "    <div class=\"bk-plotdiv\" id=\"272df143-f1f4-415a-b223-214f4e60a8d8\"></div>\n",
       "</div>"
      ]
     },
     "metadata": {},
     "output_type": "display_data"
    },
    {
     "data": {
      "application/javascript": [
       "(function(root) {\n",
       "  function embed_document(root) {\n",
       "    \n",
       "  var docs_json = {\"6c92fae2-2df9-46c5-ae48-afb46e47b2a1\":{\"roots\":{\"references\":[{\"attributes\":{\"callback\":null,\"end\":0.050016403328399996,\"start\":-0.0114866721684},\"id\":\"c74f853f-18f7-4bd4-9ff5-694861129b02\",\"type\":\"Range1d\"},{\"attributes\":{},\"id\":\"a66a541e-44ec-4173-a435-021400ab2839\",\"type\":\"LinearScale\"},{\"attributes\":{},\"id\":\"24514836-e31e-475e-b5e7-e796a607c1bf\",\"type\":\"PanTool\"},{\"attributes\":{\"axis_label\":\"cooling rate [K/day]\",\"formatter\":{\"id\":\"e7182c87-e989-4cef-a4e4-30f93cfe5010\",\"type\":\"BasicTickFormatter\"},\"plot\":{\"id\":\"af7225db-b6a0-490f-b45f-1f9a047d0936\",\"subtype\":\"Figure\",\"type\":\"Plot\"},\"ticker\":{\"id\":\"6cda485d-0001-4b08-98d3-56debd6483fe\",\"type\":\"BasicTicker\"}},\"id\":\"90c55e7b-610a-4d8a-a545-991a4f4c2a09\",\"type\":\"LinearAxis\"},{\"attributes\":{\"line_alpha\":0.8,\"line_color\":\"#984ea3\",\"line_width\":1.5,\"x\":{\"field\":\"x\"},\"y\":{\"field\":\"y\"}},\"id\":\"cf354b70-5f04-49ba-9351-2b044e46e0c5\",\"type\":\"Line\"},{\"attributes\":{\"active_drag\":\"auto\",\"active_inspect\":\"auto\",\"active_scroll\":\"auto\",\"active_tap\":\"auto\",\"tools\":[{\"id\":\"24514836-e31e-475e-b5e7-e796a607c1bf\",\"type\":\"PanTool\"},{\"id\":\"887e04eb-80d4-4e70-abd0-8185404893a1\",\"type\":\"WheelZoomTool\"},{\"id\":\"a6122477-2127-4129-a490-a1193f94617f\",\"type\":\"BoxZoomTool\"},{\"id\":\"7837e157-469b-446e-9c31-caec330b8159\",\"type\":\"SaveTool\"},{\"id\":\"cedf465f-0b22-487a-8084-fcfc50d8e1b8\",\"type\":\"ResetTool\"},{\"id\":\"da7930ba-c938-4220-899c-7f5dc3b12f5d\",\"type\":\"HelpTool\"}]},\"id\":\"12f34010-0cd9-44b6-858d-7d700496bead\",\"type\":\"Toolbar\"},{\"attributes\":{\"children\":[{\"id\":\"85661a21-60d4-4133-9f1e-7297631f8da0\",\"type\":\"Row\"}]},\"id\":\"666809e4-445a-4931-9b02-e98192d020f7\",\"type\":\"Column\"},{\"attributes\":{\"axis_label\":\"pressure [mb]\",\"formatter\":{\"id\":\"b95dae42-9722-4cd5-917d-07255ea3a6a3\",\"type\":\"BasicTickFormatter\"},\"plot\":{\"id\":\"af7225db-b6a0-490f-b45f-1f9a047d0936\",\"subtype\":\"Figure\",\"type\":\"Plot\"},\"ticker\":{\"id\":\"8a23c926-a260-4809-930d-e850db9abb64\",\"type\":\"BasicTicker\"}},\"id\":\"355e357f-fbf4-4300-a27e-ceefd17517d1\",\"type\":\"LinearAxis\"},{\"attributes\":{\"children\":[{\"id\":\"af7225db-b6a0-490f-b45f-1f9a047d0936\",\"subtype\":\"Figure\",\"type\":\"Plot\"},{\"id\":\"7d3a8f00-14f2-43be-9f7e-ac8705f30ba5\",\"subtype\":\"Figure\",\"type\":\"Plot\"},{\"id\":\"563a17ac-38cb-4100-b4c1-825f447f73f5\",\"subtype\":\"Figure\",\"type\":\"Plot\"}]},\"id\":\"85661a21-60d4-4133-9f1e-7297631f8da0\",\"type\":\"Row\"},{\"attributes\":{\"callback\":null,\"data\":{\"x\":{\"__ndarray__\":\"tGYmkisue7+p/4mR02Bxv+7ta5GaCE0/K5BmoFN4ej8pd9CRuX6JP6zgsHBfUpM/iLnqeA5Wmj/iPmqkDemgP2upnKg956Q/RmbO8wMoqT8rz3mlG6ytP4meHS5ROrE/5agsvGq+sz+burO8Jg62PwoRkook1bc/BMTfgcVVuT+NrYV4Vc+6P3tsnb0BQ7w/bXCHWC6xvT9TVZHhbiC/P4Drlh6+NcA/EFAaIfVbvj//20pGxUy4PwzglE7wIbI/0C6fnWJ6qj84Duzv3/CiP2nfmgSVfJo/WN9XsJI8kz9cYVmJo22PP1uJezGF44o/m5m32WYwhj9rI82+sEKBPzyFJYartX0/p3avVHlqfj8MWBYhZmh+P97iBimkr3w/P/ZlOqxTeT9vi5z/Ax5zP5dqZ7HWn2Y/kUGWUyRDTj/E4RhR6AhOv6jUQssuH2e/dewiLUvoc78mQfuFqBt9v/YEMAa8QoO/DI59YZeehL8BPzy9cMCAv+/2Nk8amnW/aevr2gJhY79QZVz0AoBBP4XF0VyHXGw/a3H+DxNeej9dxvt9aGKDPxundWMwrYk/Iv3BwuYCkD8Po5y34i2TP9JuA6k8TZY/0GRMBgVVmT9eENkJYTmcP4t7kx4z8Z4/RxSzjkW7oD+rN5G60OWhPwikdGD5+qI/6hABuUj/oz/Oobv3pPekP88B21+D56U/KXwMmo3Npj/izvD5z5unP8dU8jlyLKg/lQ81jmRFqD8+U0acicKnPzD3mvRvvaY/55vPbGpypT+3bz85xQ+kP6me6blOqaI/\",\"dtype\":\"float64\",\"shape\":[75]},\"y\":{\"__ndarray__\":\"GhExyth1ND/Sv8nbtpRIP2vylNV0PVE/aTum7souWD/At0SJ8fVgPw3Iuahxymc/MSNhhJWvcD/bTfBN02d3P2zb5nxnaoA/CD5h5MAGhz8NmeH1TyaQP+zrCsc9p5Y/LbKd76fGnz/bLW5ISEmmPww9YvTcQq8/JV2OstnstT8Er5Y7M8G+P0c+r3jqkcU/5h99k6ZBzj88bCIzFzjVP4enV8oyxN0//yH99nXg5D8qOpLLf0jtP5kqGJXUifQ/c9cS8kHP/D+/DpwzojQEQIEmwoanVwxA4lgXt9HgE0BSSZ2AJuIbQAMJih9jjiNA5q4l5INuK0AwTKYKRj0zQNv5fmq8/DpAaCJseHrtQkB/+zpwzoxKQM3MzMzMeFJAZmZmZmZqWEAAAAAAAFxeQM3MzMzMJmJAmpmZmZkfZUBmZmZmZhhoQDMzMzMzEWtAAAAAAAAKbkBmZmZmZoFwQM3MzMzM/XFAMzMzMzN6c0CamZmZmfZ0QAAAAAAAc3ZAZmZmZmbvd0DNzMzMzGt5QDMzMzMz6HpAmpmZmZlkfEAAAAAAAOF9QGZmZmZmXX9AZmZmZuZsgECamZmZGSuBQM3MzMxM6YFAAAAAAICngkAzMzMzs2WDQGZmZmbmI4RAmpmZmRnihEDNzMzMTKCFQAAAAACAXoZAMzMzM7Mch0BmZmZm5tqHQJqZmZkZmYhAzczMzExXiUAAAAAAgBWKQDMzMzOz04pAZmZmZuaRi0CamZmZGVCMQM3MzMxMDo1AAAAAAIDMjUAzMzMzs4qOQGZmZmbmSI9A\",\"dtype\":\"float64\",\"shape\":[75]}},\"selected\":{\"id\":\"5942aa2e-447f-44f0-ba34-e0f22e4f9089\",\"type\":\"Selection\"},\"selection_policy\":{\"id\":\"084295b1-84a3-4fae-8193-4b1274c11ef5\",\"type\":\"UnionRenderers\"}},\"id\":\"35b3fc3c-6833-42f9-83e1-e839d2b43f31\",\"type\":\"ColumnDataSource\"},{\"attributes\":{\"data_source\":{\"id\":\"35b3fc3c-6833-42f9-83e1-e839d2b43f31\",\"type\":\"ColumnDataSource\"},\"glyph\":{\"id\":\"ede66c4b-55b9-445f-b460-7b591d9d26f4\",\"type\":\"Line\"},\"hover_glyph\":null,\"muted_glyph\":null,\"nonselection_glyph\":{\"id\":\"0d9916c5-9de3-4656-ac95-4bcb43b23b67\",\"type\":\"Line\"},\"selection_glyph\":null,\"view\":{\"id\":\"3b5bebf6-6713-4406-ad34-0413412494e1\",\"type\":\"CDSView\"}},\"id\":\"b76187a6-781f-4880-ba9f-b4019896f103\",\"type\":\"GlyphRenderer\"},{\"attributes\":{\"source\":{\"id\":\"1993f4d5-f831-4585-8a22-0ff0318049e8\",\"type\":\"ColumnDataSource\"}},\"id\":\"9cd96758-3b7b-48ce-985c-d03fa287fed5\",\"type\":\"CDSView\"},{\"attributes\":{\"fill_alpha\":{\"value\":0.7},\"fill_color\":{\"value\":\"#4daf4a\"},\"line_alpha\":{\"value\":0.7},\"line_color\":{\"value\":\"#4daf4a\"},\"x\":{\"field\":\"x\"},\"y\":{\"field\":\"y\"}},\"id\":\"35ae08bf-2c46-45e5-91bf-1746d5418bd1\",\"type\":\"Circle\"},{\"attributes\":{\"label\":{\"value\":\"CLIRAD - CRD\"},\"renderers\":[{\"id\":\"c90a8657-ba98-4df0-9cee-a98c3d256319\",\"type\":\"GlyphRenderer\"},{\"id\":\"8b821c0e-ca18-4d96-9eee-616fdd41f49a\",\"type\":\"GlyphRenderer\"}]},\"id\":\"ce7a8670-c2a7-48f3-8c23-9e4f94db7111\",\"type\":\"LegendItem\"},{\"attributes\":{},\"id\":\"ad820840-2f98-4c19-9f5c-9c88bafdbda4\",\"type\":\"UnionRenderers\"},{\"attributes\":{\"line_color\":\"#4daf4a\",\"line_width\":1.5,\"x\":{\"field\":\"x\"},\"y\":{\"field\":\"y\"}},\"id\":\"ede66c4b-55b9-445f-b460-7b591d9d26f4\",\"type\":\"Line\"},{\"attributes\":{\"dimension\":1,\"plot\":{\"id\":\"af7225db-b6a0-490f-b45f-1f9a047d0936\",\"subtype\":\"Figure\",\"type\":\"Plot\"},\"ticker\":{\"id\":\"8a23c926-a260-4809-930d-e850db9abb64\",\"type\":\"BasicTicker\"}},\"id\":\"7571b415-00ec-4a8c-bcbc-6027248006cb\",\"type\":\"Grid\"},{\"attributes\":{\"plot\":{\"id\":\"af7225db-b6a0-490f-b45f-1f9a047d0936\",\"subtype\":\"Figure\",\"type\":\"Plot\"},\"ticker\":{\"id\":\"6cda485d-0001-4b08-98d3-56debd6483fe\",\"type\":\"BasicTicker\"}},\"id\":\"4ada5c7e-5006-405c-8069-c05c3e9fa40d\",\"type\":\"Grid\"},{\"attributes\":{\"data_source\":{\"id\":\"0cf31fe1-8cd7-408f-97a7-99c3f0ab8f65\",\"type\":\"ColumnDataSource\"},\"glyph\":{\"id\":\"1a02d2da-bd18-4885-abd9-e9cde68f7af8\",\"type\":\"Circle\"},\"hover_glyph\":null,\"muted_glyph\":null,\"nonselection_glyph\":{\"id\":\"67944934-759f-49cd-8e3a-6ed5f7d30c64\",\"type\":\"Circle\"},\"selection_glyph\":null,\"view\":{\"id\":\"c00d3c75-9ab0-4755-aa0e-d68da373f3c3\",\"type\":\"CDSView\"}},\"id\":\"c90a8657-ba98-4df0-9cee-a98c3d256319\",\"type\":\"GlyphRenderer\"},{\"attributes\":{\"line_alpha\":0.6,\"line_color\":\"#e41a1c\",\"line_dash\":[6],\"line_width\":5,\"x\":{\"field\":\"x\"},\"y\":{\"field\":\"y\"}},\"id\":\"80eda8f2-fe92-4cde-a759-540d34a69fcd\",\"type\":\"Line\"},{\"attributes\":{\"line_alpha\":0.1,\"line_color\":\"#1f77b4\",\"line_width\":1.5,\"x\":{\"field\":\"x\"},\"y\":{\"field\":\"y\"}},\"id\":\"febd3893-6708-4b34-8b50-12f91ceb9eb3\",\"type\":\"Line\"},{\"attributes\":{\"overlay\":{\"id\":\"60649141-5514-4df2-a9ba-2106c7fd18b0\",\"type\":\"BoxAnnotation\"}},\"id\":\"954aad20-5b10-4402-8203-625991ef6817\",\"type\":\"BoxZoomTool\"},{\"attributes\":{\"source\":{\"id\":\"35b3fc3c-6833-42f9-83e1-e839d2b43f31\",\"type\":\"ColumnDataSource\"}},\"id\":\"3b5bebf6-6713-4406-ad34-0413412494e1\",\"type\":\"CDSView\"},{\"attributes\":{\"source\":{\"id\":\"0cf31fe1-8cd7-408f-97a7-99c3f0ab8f65\",\"type\":\"ColumnDataSource\"}},\"id\":\"c00d3c75-9ab0-4755-aa0e-d68da373f3c3\",\"type\":\"CDSView\"},{\"attributes\":{\"active_drag\":\"auto\",\"active_inspect\":\"auto\",\"active_scroll\":\"auto\",\"active_tap\":\"auto\",\"tools\":[{\"id\":\"b1675d56-cdf8-424f-ae66-4877b3829b3b\",\"type\":\"PanTool\"},{\"id\":\"dfd46f7d-e023-4b37-ba31-fdab88faf8e7\",\"type\":\"WheelZoomTool\"},{\"id\":\"e3736646-d0b6-4aae-a664-c50be3f66734\",\"type\":\"BoxZoomTool\"},{\"id\":\"fa22da40-6c68-4737-b36e-e6d4a85b11fd\",\"type\":\"SaveTool\"},{\"id\":\"564f0ff4-6855-43aa-bb83-ef4fbbbaa5e6\",\"type\":\"ResetTool\"},{\"id\":\"f9e98e55-f952-4523-993c-901ec1ae0ddb\",\"type\":\"HelpTool\"}]},\"id\":\"d17438b0-1c08-48a1-b9c9-ca2183b9ed61\",\"type\":\"Toolbar\"},{\"attributes\":{\"fill_alpha\":{\"value\":0.7},\"fill_color\":{\"value\":\"#4daf4a\"},\"line_alpha\":{\"value\":0.7},\"line_color\":{\"value\":\"#4daf4a\"},\"x\":{\"field\":\"x\"},\"y\":{\"field\":\"y\"}},\"id\":\"56097d6e-8111-4793-a697-7b48c891d932\",\"type\":\"Circle\"},{\"attributes\":{},\"id\":\"57bfdf20-dd64-4dac-9f39-81615d871c44\",\"type\":\"Selection\"},{\"attributes\":{\"data_source\":{\"id\":\"5bb47bc0-9b98-4cfb-babd-bfad5eaab7ec\",\"type\":\"ColumnDataSource\"},\"glyph\":{\"id\":\"6e817c5d-c312-48b3-b2c7-21abe4b9768d\",\"type\":\"Line\"},\"hover_glyph\":null,\"muted_glyph\":null,\"nonselection_glyph\":{\"id\":\"1321caaa-66ea-434e-9b68-259e9f50c36f\",\"type\":\"Line\"},\"selection_glyph\":null,\"view\":{\"id\":\"ad94b6fc-979d-44d0-a031-56934029567e\",\"type\":\"CDSView\"}},\"id\":\"bbd47b0d-74a6-419a-94f4-6db25c619559\",\"type\":\"GlyphRenderer\"},{\"attributes\":{},\"id\":\"629d12cf-a1fd-4d77-8820-0b9301c5d64c\",\"type\":\"UnionRenderers\"},{\"attributes\":{\"label\":{\"value\":\"CRD\"},\"renderers\":[{\"id\":\"bad09d79-2c0b-47ee-a04f-8b18b81f4a52\",\"type\":\"GlyphRenderer\"},{\"id\":\"b76187a6-781f-4880-ba9f-b4019896f103\",\"type\":\"GlyphRenderer\"}]},\"id\":\"7d75ab8e-9acd-4857-848e-a36ca723a082\",\"type\":\"LegendItem\"},{\"attributes\":{},\"id\":\"71b62af8-d1b5-430b-aeac-05d5bb248997\",\"type\":\"WheelZoomTool\"},{\"attributes\":{\"callback\":null,\"end\":0.01,\"start\":1020},\"id\":\"85d42496-f45d-4eed-ae10-28313a778f0c\",\"type\":\"Range1d\"},{\"attributes\":{\"data_source\":{\"id\":\"1993f4d5-f831-4585-8a22-0ff0318049e8\",\"type\":\"ColumnDataSource\"},\"glyph\":{\"id\":\"cf354b70-5f04-49ba-9351-2b044e46e0c5\",\"type\":\"Line\"},\"hover_glyph\":null,\"muted_glyph\":null,\"nonselection_glyph\":{\"id\":\"febd3893-6708-4b34-8b50-12f91ceb9eb3\",\"type\":\"Line\"},\"selection_glyph\":null,\"view\":{\"id\":\"9cd96758-3b7b-48ce-985c-d03fa287fed5\",\"type\":\"CDSView\"}},\"id\":\"8b821c0e-ca18-4d96-9eee-616fdd41f49a\",\"type\":\"GlyphRenderer\"},{\"attributes\":{},\"id\":\"cb52d8d3-9d7c-4f6f-bc8d-4e2c7201e426\",\"type\":\"BasicTickFormatter\"},{\"attributes\":{\"fill_alpha\":{\"value\":0.1},\"fill_color\":{\"value\":\"#1f77b4\"},\"line_alpha\":{\"value\":0.1},\"line_color\":{\"value\":\"#1f77b4\"},\"x\":{\"field\":\"x\"},\"y\":{\"field\":\"y\"}},\"id\":\"67944934-759f-49cd-8e3a-6ed5f7d30c64\",\"type\":\"Circle\"},{\"attributes\":{\"plot\":null,\"text\":\"\"},\"id\":\"9d77072c-f523-4035-932b-6673c2a0e635\",\"type\":\"Title\"},{\"attributes\":{},\"id\":\"927bef89-6fb4-4d3f-8d28-0c5f34bf172f\",\"type\":\"LogScale\"},{\"attributes\":{\"active_drag\":\"auto\",\"active_inspect\":\"auto\",\"active_scroll\":\"auto\",\"active_tap\":\"auto\",\"tools\":[{\"id\":\"b7f08063-ba9f-41fc-bf05-7f304a387a26\",\"type\":\"PanTool\"},{\"id\":\"71b62af8-d1b5-430b-aeac-05d5bb248997\",\"type\":\"WheelZoomTool\"},{\"id\":\"954aad20-5b10-4402-8203-625991ef6817\",\"type\":\"BoxZoomTool\"},{\"id\":\"1e46face-59d3-4895-8ee5-edde6d120e10\",\"type\":\"SaveTool\"},{\"id\":\"e7f9a99f-b557-4ff9-a949-2240a0279a26\",\"type\":\"ResetTool\"},{\"id\":\"2ac91567-26c0-4c97-9a50-74c98658948a\",\"type\":\"HelpTool\"}]},\"id\":\"b03aed5d-89c3-4418-bc76-0eaf8691b198\",\"type\":\"Toolbar\"},{\"attributes\":{\"callback\":null,\"data\":{\"x\":{\"__ndarray__\":\"OPX0ZWbskz+U4qXHee2SP9qqa7kUVZE/vqxBBse2jj8XkMsmanyKP9T+3xBF74U/mA+/KrYOgT8QF0H/JNZ3PxCPvtO02Wk/AFSTVOmgNj9Ad+OfSEplvzgY2NeeMHe/OFrGxTcIgr9wEDuLRquHv2BQuOOLc4u/UJpZg9QQjr/8f2+qDRCQv/CzAF3mzZC/BGYVmmhJkb+8cnoPqpmRv8BPKmpEupG/cNnTADAmi79QOA9HGWFzv8CO2fFZ+WU/IAWuxpLSfD9I333oeMeBP/ZExtdz/4A/9Abdfdheej+ISytUZxdvPxDL7ubFjFU/MAGnsOwcRL8EV4SRXF5evzrvRxDylGa/Gep9u/s1bb8GvOyDiNNwv62FYdkvTHK/LuHdiA8pc7+CeOVCeg1zv7vq608mZXK/UPvTYfqncb8oiRRgjKVwv9SBGY2kb26/ypaMSXhCar8AOCT5ijRkvyAINJmsO1i/ID6KRJAfSb/wWQ+I0dVFv8B2sK+fGka/DDqRzwVMQb/QH7u0/M0yvwAaNBxFLta+gNRREyVvMj9wW+mHxBRDP3DJ2cm/LUw/oKKfbZwLUj/gKmoak6FVP6Dn6OR64lg/YJAdrhfcWz/QQoRSG3NePwgKOo5DkWA/oPv4DCe3YT8Qre/uCr5iP/DhK3a7mGM/QEsRHSwtZD/AELLGFFtkPxDfjcf8A2Q/EKZuBYb9Yj9gEwv49oVhP3DMS+s1K2A/UDk5ajF1YD8ArlFSycBiP+CyWSnQpGY/8KHoBBh6az8Iwy/05A5wP5g6asPfenI/\",\"dtype\":\"float64\",\"shape\":[75]},\"y\":{\"__ndarray__\":\"GhExyth1ND/Sv8nbtpRIP2vylNV0PVE/aTum7souWD/At0SJ8fVgPw3Iuahxymc/MSNhhJWvcD/bTfBN02d3P2zb5nxnaoA/CD5h5MAGhz8NmeH1TyaQP+zrCsc9p5Y/LbKd76fGnz/bLW5ISEmmPww9YvTcQq8/JV2OstnstT8Er5Y7M8G+P0c+r3jqkcU/5h99k6ZBzj88bCIzFzjVP4enV8oyxN0//yH99nXg5D8qOpLLf0jtP5kqGJXUifQ/c9cS8kHP/D+/DpwzojQEQIEmwoanVwxA4lgXt9HgE0BSSZ2AJuIbQAMJih9jjiNA5q4l5INuK0AwTKYKRj0zQNv5fmq8/DpAaCJseHrtQkB/+zpwzoxKQM3MzMzMeFJAZmZmZmZqWEAAAAAAAFxeQM3MzMzMJmJAmpmZmZkfZUBmZmZmZhhoQDMzMzMzEWtAAAAAAAAKbkBmZmZmZoFwQM3MzMzM/XFAMzMzMzN6c0CamZmZmfZ0QAAAAAAAc3ZAZmZmZmbvd0DNzMzMzGt5QDMzMzMz6HpAmpmZmZlkfEAAAAAAAOF9QGZmZmZmXX9AZmZmZuZsgECamZmZGSuBQM3MzMxM6YFAAAAAAICngkAzMzMzs2WDQGZmZmbmI4RAmpmZmRnihEDNzMzMTKCFQAAAAACAXoZAMzMzM7Mch0BmZmZm5tqHQJqZmZkZmYhAzczMzExXiUAAAAAAgBWKQDMzMzOz04pAZmZmZuaRi0CamZmZGVCMQM3MzMxMDo1AAAAAAIDMjUAzMzMzs4qOQGZmZmbmSI9A\",\"dtype\":\"float64\",\"shape\":[75]}},\"selected\":{\"id\":\"cb3f3ec2-9d8a-4fb9-aac7-b140fe3d774e\",\"type\":\"Selection\"},\"selection_policy\":{\"id\":\"31180675-da0c-449e-bf85-44c3a8e97c3b\",\"type\":\"UnionRenderers\"}},\"id\":\"1993f4d5-f831-4585-8a22-0ff0318049e8\",\"type\":\"ColumnDataSource\"},{\"attributes\":{\"data_source\":{\"id\":\"e3958b86-f874-44e1-a140-b23c7b430fe3\",\"type\":\"ColumnDataSource\"},\"glyph\":{\"id\":\"35ae08bf-2c46-45e5-91bf-1746d5418bd1\",\"type\":\"Circle\"},\"hover_glyph\":null,\"muted_glyph\":null,\"nonselection_glyph\":{\"id\":\"b2cad1f5-cbd6-4e88-bac7-f5312273d233\",\"type\":\"Circle\"},\"selection_glyph\":null,\"view\":{\"id\":\"1610703a-9ee7-48ce-9f9e-4aa26c8dd379\",\"type\":\"CDSView\"}},\"id\":\"bad09d79-2c0b-47ee-a04f-8b18b81f4a52\",\"type\":\"GlyphRenderer\"},{\"attributes\":{},\"id\":\"91c11015-7bd1-47d1-a99c-e27d4d6ff648\",\"type\":\"UnionRenderers\"},{\"attributes\":{},\"id\":\"b95dae42-9722-4cd5-917d-07255ea3a6a3\",\"type\":\"BasicTickFormatter\"},{\"attributes\":{\"line_alpha\":0.1,\"line_color\":\"#1f77b4\",\"line_dash\":[6],\"line_width\":5,\"x\":{\"field\":\"x\"},\"y\":{\"field\":\"y\"}},\"id\":\"75b7cf8c-3a81-408b-9e38-732c6af38558\",\"type\":\"Line\"},{\"attributes\":{\"above\":[{\"id\":\"5445d39b-6e2f-4f7c-bd36-3d13db6ca7fe\",\"type\":\"Legend\"}],\"below\":[{\"id\":\"48502061-7002-4670-a86d-2653f9da6e8f\",\"type\":\"LinearAxis\"}],\"left\":[{\"id\":\"aab6366c-7e4f-41f4-984d-490765c63c63\",\"type\":\"LogAxis\"}],\"plot_width\":300,\"renderers\":[{\"id\":\"48502061-7002-4670-a86d-2653f9da6e8f\",\"type\":\"LinearAxis\"},{\"id\":\"94cf0046-13b3-4d52-81e4-205504a506a5\",\"type\":\"Grid\"},{\"id\":\"aab6366c-7e4f-41f4-984d-490765c63c63\",\"type\":\"LogAxis\"},{\"id\":\"2ea40830-6848-47f4-85e2-8d30b63a5a3b\",\"type\":\"Grid\"},{\"id\":\"4b824f81-b210-4acf-8bdf-d2f514187b57\",\"type\":\"BoxAnnotation\"},{\"id\":\"b707264f-109b-48f8-9316-e55618b391aa\",\"type\":\"GlyphRenderer\"},{\"id\":\"219635d6-1e0d-4632-a807-f733db4a6e53\",\"type\":\"GlyphRenderer\"},{\"id\":\"bbd47b0d-74a6-419a-94f4-6db25c619559\",\"type\":\"GlyphRenderer\"},{\"id\":\"5445d39b-6e2f-4f7c-bd36-3d13db6ca7fe\",\"type\":\"Legend\"}],\"title\":{\"id\":\"bf7955f8-aca6-43be-90bc-4e671ab18b75\",\"type\":\"Title\"},\"toolbar\":{\"id\":\"12f34010-0cd9-44b6-858d-7d700496bead\",\"type\":\"Toolbar\"},\"toolbar_location\":null,\"x_range\":{\"id\":\"92e90ec3-61f8-4f09-b7fd-42a757a8234d\",\"type\":\"Range1d\"},\"x_scale\":{\"id\":\"5187fc3c-f35d-4bdc-bb62-278cd8430915\",\"type\":\"LinearScale\"},\"y_range\":{\"id\":\"85d42496-f45d-4eed-ae10-28313a778f0c\",\"type\":\"Range1d\"},\"y_scale\":{\"id\":\"2a2cbab8-4fbd-423f-8eec-80cedc7eb559\",\"type\":\"LogScale\"}},\"id\":\"7d3a8f00-14f2-43be-9f7e-ac8705f30ba5\",\"subtype\":\"Figure\",\"type\":\"Plot\"},{\"attributes\":{},\"id\":\"6cda485d-0001-4b08-98d3-56debd6483fe\",\"type\":\"BasicTicker\"},{\"attributes\":{},\"id\":\"e7182c87-e989-4cef-a4e4-30f93cfe5010\",\"type\":\"BasicTickFormatter\"},{\"attributes\":{\"fill_alpha\":{\"value\":0.1},\"fill_color\":{\"value\":\"#1f77b4\"},\"line_alpha\":{\"value\":0.1},\"line_color\":{\"value\":\"#1f77b4\"},\"x\":{\"field\":\"x\"},\"y\":{\"field\":\"y\"}},\"id\":\"b2cad1f5-cbd6-4e88-bac7-f5312273d233\",\"type\":\"Circle\"},{\"attributes\":{\"callback\":null,\"data\":{\"x\":{\"__ndarray__\":\"FrfWArdBij9TxYbGiSqNP0kK941ZPZI/ano6a3j5lT+gA07ckf2ZPxbgIPkBSp4/qiAlx7RuoT/EYVJE0uOjP1yS2PXYhKY/7ox3xkVVqT+3l3sbd1esPws6QIGOjq8/nt1zw2N9sT+NWEzrvRizP/4GGw6zZrQ/upB08aqTtT+OzekNUsu2P38/XSaID7g/7BYCMtReuT+kuLJdBLq6PxBDoyLr/Ls/4tT/IC/3uj966Nmxsxa3P4KsIx670bI/dO909rQUrj8KhgsqvmKnP/IAP3gnfqE/FSHPz0jUmT8fGjKvvpmTP71iWe4dlY0/iCmtDpjuhD8VMTlZyu16P5+NAX4ya3I/NQPh7faebz8LOFM6uylrP2K6Sp/oxmQ/QlQgxnKqWD8A7RK3vInwPr7V4NzrVFy/PGbCriu/a79gpTdqqWZ0vz4rLqxpx3q/7Zv0qMOEgL+TrkYB95qDv/qFVpkxSoa/7jHGZZAwhr+gNL3VzR2Cv8cFLUVuXXi/7DnQTgS0Z7/Qqv0zCTIwP3irQzpwUWw/s44zYQWFez8UXHrGtJOEP7JDE2AMcIs/TPebiaAjkT+9RUPp+4eUP0z9UVdk25c/1j0ugcYSmz+LVAG/kiCeP2ZeLcitgaA/AaSC/7fWoT98MoBpsRGjPydi1xeFNKQ/niXSehtCpT/awiZEVj2mP8DfUyzDJ6c/imZj+mX9pz8YgHFpL7SoP44Rp5glL6k/KqPYpLdMqT8ebmsxlu6oP16SMPe8J6g/BiYe7Qsqpz8YaMXXoRGmP/zlVrKq+KQ/\",\"dtype\":\"float64\",\"shape\":[75]},\"y\":{\"__ndarray__\":\"GhExyth1ND/Sv8nbtpRIP2vylNV0PVE/aTum7souWD/At0SJ8fVgPw3Iuahxymc/MSNhhJWvcD/bTfBN02d3P2zb5nxnaoA/CD5h5MAGhz8NmeH1TyaQP+zrCsc9p5Y/LbKd76fGnz/bLW5ISEmmPww9YvTcQq8/JV2OstnstT8Er5Y7M8G+P0c+r3jqkcU/5h99k6ZBzj88bCIzFzjVP4enV8oyxN0//yH99nXg5D8qOpLLf0jtP5kqGJXUifQ/c9cS8kHP/D+/DpwzojQEQIEmwoanVwxA4lgXt9HgE0BSSZ2AJuIbQAMJih9jjiNA5q4l5INuK0AwTKYKRj0zQNv5fmq8/DpAaCJseHrtQkB/+zpwzoxKQM3MzMzMeFJAZmZmZmZqWEAAAAAAAFxeQM3MzMzMJmJAmpmZmZkfZUBmZmZmZhhoQDMzMzMzEWtAAAAAAAAKbkBmZmZmZoFwQM3MzMzM/XFAMzMzMzN6c0CamZmZmfZ0QAAAAAAAc3ZAZmZmZmbvd0DNzMzMzGt5QDMzMzMz6HpAmpmZmZlkfEAAAAAAAOF9QGZmZmZmXX9AZmZmZuZsgECamZmZGSuBQM3MzMxM6YFAAAAAAICngkAzMzMzs2WDQGZmZmbmI4RAmpmZmRnihEDNzMzMTKCFQAAAAACAXoZAMzMzM7Mch0BmZmZm5tqHQJqZmZkZmYhAzczMzExXiUAAAAAAgBWKQDMzMzOz04pAZmZmZuaRi0CamZmZGVCMQM3MzMxMDo1AAAAAAIDMjUAzMzMzs4qOQGZmZmbmSI9A\",\"dtype\":\"float64\",\"shape\":[75]}},\"selected\":{\"id\":\"9a7e0bba-37ca-4d58-85c1-67667cb9fbcf\",\"type\":\"Selection\"},\"selection_policy\":{\"id\":\"ad820840-2f98-4c19-9f5c-9c88bafdbda4\",\"type\":\"UnionRenderers\"}},\"id\":\"0c630d48-2d85-4726-aaed-0cc80196eb66\",\"type\":\"ColumnDataSource\"},{\"attributes\":{},\"id\":\"9f260bcc-d2c0-4be7-b4c4-2253d56074a6\",\"type\":\"Selection\"},{\"attributes\":{},\"id\":\"8a23c926-a260-4809-930d-e850db9abb64\",\"type\":\"BasicTicker\"},{\"attributes\":{\"line_alpha\":0.1,\"line_color\":\"#1f77b4\",\"line_width\":1.5,\"x\":{\"field\":\"x\"},\"y\":{\"field\":\"y\"}},\"id\":\"0d9916c5-9de3-4656-ac95-4bcb43b23b67\",\"type\":\"Line\"},{\"attributes\":{\"source\":{\"id\":\"5bb47bc0-9b98-4cfb-babd-bfad5eaab7ec\",\"type\":\"ColumnDataSource\"}},\"id\":\"ad94b6fc-979d-44d0-a031-56934029567e\",\"type\":\"CDSView\"},{\"attributes\":{\"callback\":null,\"end\":0.12795630379050002,\"start\":-0.0062969265405},\"id\":\"92e90ec3-61f8-4f09-b7fd-42a757a8234d\",\"type\":\"Range1d\"},{\"attributes\":{},\"id\":\"19876f63-00b0-4182-98bd-7ff0b0d23968\",\"type\":\"UnionRenderers\"},{\"attributes\":{},\"id\":\"bcc180e3-0ff0-469f-b3b3-eb475d42c3b4\",\"type\":\"UnionRenderers\"},{\"attributes\":{\"bottom_units\":\"screen\",\"fill_alpha\":{\"value\":0.5},\"fill_color\":{\"value\":\"lightgrey\"},\"left_units\":\"screen\",\"level\":\"overlay\",\"line_alpha\":{\"value\":1.0},\"line_color\":{\"value\":\"black\"},\"line_dash\":[4,4],\"line_width\":{\"value\":2},\"plot\":null,\"render_mode\":\"css\",\"right_units\":\"screen\",\"top_units\":\"screen\"},\"id\":\"4b824f81-b210-4acf-8bdf-d2f514187b57\",\"type\":\"BoxAnnotation\"},{\"attributes\":{\"label\":{\"value\":\"CRD\"},\"renderers\":[{\"id\":\"219635d6-1e0d-4632-a807-f733db4a6e53\",\"type\":\"GlyphRenderer\"},{\"id\":\"bbd47b0d-74a6-419a-94f4-6db25c619559\",\"type\":\"GlyphRenderer\"}]},\"id\":\"728c4916-fe3e-4b46-9751-2d5bf84ed433\",\"type\":\"LegendItem\"},{\"attributes\":{\"ticker\":null},\"id\":\"9a1058e8-926a-46fa-8446-6658d858cc50\",\"type\":\"LogTickFormatter\"},{\"attributes\":{\"source\":{\"id\":\"37e0116b-cc43-4d2f-bc87-29a8a6f786a2\",\"type\":\"ColumnDataSource\"}},\"id\":\"2b8e8228-f642-46e1-8c3e-ca17734e0636\",\"type\":\"CDSView\"},{\"attributes\":{},\"id\":\"38da60a1-585b-44b6-85a2-a07a608f6079\",\"type\":\"Selection\"},{\"attributes\":{},\"id\":\"b5a1ce2f-936e-44bf-8d46-8e54e8184768\",\"type\":\"Selection\"},{\"attributes\":{\"label\":{\"value\":\"CLIRAD\"},\"renderers\":[{\"id\":\"657b1ec0-f387-4c33-87c8-df4ff9b90036\",\"type\":\"GlyphRenderer\"}]},\"id\":\"8cd3c549-f47e-4064-a0b6-e36ec4e5b430\",\"type\":\"LegendItem\"},{\"attributes\":{},\"id\":\"9a7e0bba-37ca-4d58-85c1-67667cb9fbcf\",\"type\":\"Selection\"},{\"attributes\":{},\"id\":\"91c8a619-1a9d-46ae-80dd-e4579424ff5a\",\"type\":\"UnionRenderers\"},{\"attributes\":{},\"id\":\"b7f08063-ba9f-41fc-bf05-7f304a387a26\",\"type\":\"PanTool\"},{\"attributes\":{\"plot\":null,\"text\":\"\"},\"id\":\"55ac671d-bae9-44b6-bd13-ae19cb1089af\",\"type\":\"Title\"},{\"attributes\":{\"above\":[{\"id\":\"fe99b91f-e320-41fe-9164-3ae4515ae982\",\"type\":\"Legend\"}],\"below\":[{\"id\":\"90c55e7b-610a-4d8a-a545-991a4f4c2a09\",\"type\":\"LinearAxis\"}],\"left\":[{\"id\":\"355e357f-fbf4-4300-a27e-ceefd17517d1\",\"type\":\"LinearAxis\"}],\"plot_width\":300,\"renderers\":[{\"id\":\"90c55e7b-610a-4d8a-a545-991a4f4c2a09\",\"type\":\"LinearAxis\"},{\"id\":\"4ada5c7e-5006-405c-8069-c05c3e9fa40d\",\"type\":\"Grid\"},{\"id\":\"355e357f-fbf4-4300-a27e-ceefd17517d1\",\"type\":\"LinearAxis\"},{\"id\":\"7571b415-00ec-4a8c-bcbc-6027248006cb\",\"type\":\"Grid\"},{\"id\":\"60649141-5514-4df2-a9ba-2106c7fd18b0\",\"type\":\"BoxAnnotation\"},{\"id\":\"657b1ec0-f387-4c33-87c8-df4ff9b90036\",\"type\":\"GlyphRenderer\"},{\"id\":\"bad09d79-2c0b-47ee-a04f-8b18b81f4a52\",\"type\":\"GlyphRenderer\"},{\"id\":\"b76187a6-781f-4880-ba9f-b4019896f103\",\"type\":\"GlyphRenderer\"},{\"id\":\"fe99b91f-e320-41fe-9164-3ae4515ae982\",\"type\":\"Legend\"}],\"title\":{\"id\":\"9d77072c-f523-4035-932b-6673c2a0e635\",\"type\":\"Title\"},\"toolbar\":{\"id\":\"b03aed5d-89c3-4418-bc76-0eaf8691b198\",\"type\":\"Toolbar\"},\"toolbar_location\":null,\"x_range\":{\"id\":\"c74f853f-18f7-4bd4-9ff5-694861129b02\",\"type\":\"Range1d\"},\"x_scale\":{\"id\":\"053f372b-e7d3-42be-b6bb-a5404ef0bfc1\",\"type\":\"LinearScale\"},\"y_range\":{\"id\":\"727c03d8-b7a0-49d0-b031-97d2ecb1c94c\",\"type\":\"Range1d\"},\"y_scale\":{\"id\":\"be2920c7-dc15-4b81-981d-04d81a024d00\",\"type\":\"LinearScale\"}},\"id\":\"af7225db-b6a0-490f-b45f-1f9a047d0936\",\"subtype\":\"Figure\",\"type\":\"Plot\"},{\"attributes\":{},\"id\":\"f35cd203-4a08-4b1d-b776-9fa6560e0681\",\"type\":\"BasicTickFormatter\"},{\"attributes\":{\"overlay\":{\"id\":\"4b824f81-b210-4acf-8bdf-d2f514187b57\",\"type\":\"BoxAnnotation\"}},\"id\":\"a6122477-2127-4129-a490-a1193f94617f\",\"type\":\"BoxZoomTool\"},{\"attributes\":{\"children\":[{\"id\":\"157e6aa4-67b2-49d6-8cb7-10d1e7645bd1\",\"type\":\"ToolbarBox\"},{\"id\":\"666809e4-445a-4931-9b02-e98192d020f7\",\"type\":\"Column\"}]},\"id\":\"bc966f4d-3654-4db1-b14c-ea3928025ca6\",\"type\":\"Column\"},{\"attributes\":{},\"id\":\"053f372b-e7d3-42be-b6bb-a5404ef0bfc1\",\"type\":\"LinearScale\"},{\"attributes\":{\"items\":[{\"id\":\"923a50d3-56cc-4061-82c0-a983a9e3abfc\",\"type\":\"LegendItem\"},{\"id\":\"728c4916-fe3e-4b46-9751-2d5bf84ed433\",\"type\":\"LegendItem\"}],\"label_text_font_size\":{\"value\":\"8pt\"},\"location\":\"top_center\",\"orientation\":\"horizontal\",\"plot\":{\"id\":\"7d3a8f00-14f2-43be-9f7e-ac8705f30ba5\",\"subtype\":\"Figure\",\"type\":\"Plot\"}},\"id\":\"5445d39b-6e2f-4f7c-bd36-3d13db6ca7fe\",\"type\":\"Legend\"},{\"attributes\":{},\"id\":\"2a2cbab8-4fbd-423f-8eec-80cedc7eb559\",\"type\":\"LogScale\"},{\"attributes\":{\"callback\":null,\"end\":0.008941178065139995,\"start\":-0.017572049251140014},\"id\":\"7315c961-ae36-40c4-9c9d-f1a584f6d553\",\"type\":\"Range1d\"},{\"attributes\":{\"ticker\":null},\"id\":\"0a05af67-0f5b-4c3f-b52e-6511232acf28\",\"type\":\"LogTickFormatter\"},{\"attributes\":{},\"id\":\"5187fc3c-f35d-4bdc-bb62-278cd8430915\",\"type\":\"LinearScale\"},{\"attributes\":{\"items\":[{\"id\":\"ce7a8670-c2a7-48f3-8c23-9e4f94db7111\",\"type\":\"LegendItem\"}],\"label_text_font_size\":{\"value\":\"8pt\"},\"location\":\"top_center\",\"orientation\":\"horizontal\",\"plot\":{\"id\":\"563a17ac-38cb-4100-b4c1-825f447f73f5\",\"subtype\":\"Figure\",\"type\":\"Plot\"}},\"id\":\"083b54d4-9119-478c-a0f4-4e4094dec769\",\"type\":\"Legend\"},{\"attributes\":{},\"id\":\"887e04eb-80d4-4e70-abd0-8185404893a1\",\"type\":\"WheelZoomTool\"},{\"attributes\":{\"toolbar\":{\"id\":\"428377b9-3749-4ad8-a699-ad6414a95c53\",\"type\":\"ProxyToolbar\"},\"toolbar_location\":\"above\"},\"id\":\"157e6aa4-67b2-49d6-8cb7-10d1e7645bd1\",\"type\":\"ToolbarBox\"},{\"attributes\":{},\"id\":\"084295b1-84a3-4fae-8193-4b1274c11ef5\",\"type\":\"UnionRenderers\"},{\"attributes\":{},\"id\":\"da7930ba-c938-4220-899c-7f5dc3b12f5d\",\"type\":\"HelpTool\"},{\"attributes\":{},\"id\":\"de898fa9-b8af-4021-beae-64748e5989cc\",\"type\":\"Selection\"},{\"attributes\":{\"tools\":[{\"id\":\"b7f08063-ba9f-41fc-bf05-7f304a387a26\",\"type\":\"PanTool\"},{\"id\":\"71b62af8-d1b5-430b-aeac-05d5bb248997\",\"type\":\"WheelZoomTool\"},{\"id\":\"954aad20-5b10-4402-8203-625991ef6817\",\"type\":\"BoxZoomTool\"},{\"id\":\"1e46face-59d3-4895-8ee5-edde6d120e10\",\"type\":\"SaveTool\"},{\"id\":\"e7f9a99f-b557-4ff9-a949-2240a0279a26\",\"type\":\"ResetTool\"},{\"id\":\"2ac91567-26c0-4c97-9a50-74c98658948a\",\"type\":\"HelpTool\"},{\"id\":\"24514836-e31e-475e-b5e7-e796a607c1bf\",\"type\":\"PanTool\"},{\"id\":\"887e04eb-80d4-4e70-abd0-8185404893a1\",\"type\":\"WheelZoomTool\"},{\"id\":\"a6122477-2127-4129-a490-a1193f94617f\",\"type\":\"BoxZoomTool\"},{\"id\":\"7837e157-469b-446e-9c31-caec330b8159\",\"type\":\"SaveTool\"},{\"id\":\"cedf465f-0b22-487a-8084-fcfc50d8e1b8\",\"type\":\"ResetTool\"},{\"id\":\"da7930ba-c938-4220-899c-7f5dc3b12f5d\",\"type\":\"HelpTool\"},{\"id\":\"b1675d56-cdf8-424f-ae66-4877b3829b3b\",\"type\":\"PanTool\"},{\"id\":\"dfd46f7d-e023-4b37-ba31-fdab88faf8e7\",\"type\":\"WheelZoomTool\"},{\"id\":\"e3736646-d0b6-4aae-a664-c50be3f66734\",\"type\":\"BoxZoomTool\"},{\"id\":\"fa22da40-6c68-4737-b36e-e6d4a85b11fd\",\"type\":\"SaveTool\"},{\"id\":\"564f0ff4-6855-43aa-bb83-ef4fbbbaa5e6\",\"type\":\"ResetTool\"},{\"id\":\"f9e98e55-f952-4523-993c-901ec1ae0ddb\",\"type\":\"HelpTool\"}]},\"id\":\"428377b9-3749-4ad8-a699-ad6414a95c53\",\"type\":\"ProxyToolbar\"},{\"attributes\":{\"callback\":null,\"end\":0.01,\"start\":1020},\"id\":\"6eda7e63-312d-4253-9646-4949d4729ceb\",\"type\":\"Range1d\"},{\"attributes\":{\"num_minor_ticks\":10},\"id\":\"f476a9fb-5c33-4076-935f-c0a3d5dd2ea0\",\"type\":\"LogTicker\"},{\"attributes\":{\"fill_alpha\":{\"value\":0.7},\"fill_color\":{\"value\":\"#984ea3\"},\"line_alpha\":{\"value\":0.7},\"line_color\":{\"value\":\"#984ea3\"},\"x\":{\"field\":\"x\"},\"y\":{\"field\":\"y\"}},\"id\":\"1a02d2da-bd18-4885-abd9-e9cde68f7af8\",\"type\":\"Circle\"},{\"attributes\":{},\"id\":\"31180675-da0c-449e-bf85-44c3a8e97c3b\",\"type\":\"UnionRenderers\"},{\"attributes\":{},\"id\":\"be2920c7-dc15-4b81-981d-04d81a024d00\",\"type\":\"LinearScale\"},{\"attributes\":{\"axis_label\":\"cooling rate [K/day]\",\"formatter\":{\"id\":\"cb52d8d3-9d7c-4f6f-bc8d-4e2c7201e426\",\"type\":\"BasicTickFormatter\"},\"plot\":{\"id\":\"7d3a8f00-14f2-43be-9f7e-ac8705f30ba5\",\"subtype\":\"Figure\",\"type\":\"Plot\"},\"ticker\":{\"id\":\"8b6d4cbf-15bb-421b-b87b-6b99f492bc33\",\"type\":\"BasicTicker\"}},\"id\":\"48502061-7002-4670-a86d-2653f9da6e8f\",\"type\":\"LinearAxis\"},{\"attributes\":{\"dimension\":1,\"plot\":{\"id\":\"563a17ac-38cb-4100-b4c1-825f447f73f5\",\"subtype\":\"Figure\",\"type\":\"Plot\"},\"ticker\":{\"id\":\"74f50bc5-765c-478b-b305-04dfa3999ad4\",\"type\":\"LogTicker\"}},\"id\":\"5fac2394-4da3-4022-9e0b-c9fbca07b60c\",\"type\":\"Grid\"},{\"attributes\":{},\"id\":\"cb3f3ec2-9d8a-4fb9-aac7-b140fe3d774e\",\"type\":\"Selection\"},{\"attributes\":{\"source\":{\"id\":\"e3958b86-f874-44e1-a140-b23c7b430fe3\",\"type\":\"ColumnDataSource\"}},\"id\":\"1610703a-9ee7-48ce-9f9e-4aa26c8dd379\",\"type\":\"CDSView\"},{\"attributes\":{\"num_minor_ticks\":10},\"id\":\"74f50bc5-765c-478b-b305-04dfa3999ad4\",\"type\":\"LogTicker\"},{\"attributes\":{},\"id\":\"cedf465f-0b22-487a-8084-fcfc50d8e1b8\",\"type\":\"ResetTool\"},{\"attributes\":{\"axis_label\":\"pressure [mb]\",\"formatter\":{\"id\":\"0a05af67-0f5b-4c3f-b52e-6511232acf28\",\"type\":\"LogTickFormatter\"},\"plot\":{\"id\":\"563a17ac-38cb-4100-b4c1-825f447f73f5\",\"subtype\":\"Figure\",\"type\":\"Plot\"},\"ticker\":{\"id\":\"74f50bc5-765c-478b-b305-04dfa3999ad4\",\"type\":\"LogTicker\"}},\"id\":\"8393deb2-f345-4b1d-b806-64e18099deb9\",\"type\":\"LogAxis\"},{\"attributes\":{\"line_color\":\"#4daf4a\",\"line_width\":1.5,\"x\":{\"field\":\"x\"},\"y\":{\"field\":\"y\"}},\"id\":\"6e817c5d-c312-48b3-b2c7-21abe4b9768d\",\"type\":\"Line\"},{\"attributes\":{},\"id\":\"80b8c7f0-b359-437c-a22a-22d8e9a3758e\",\"type\":\"BasicTicker\"},{\"attributes\":{\"axis_label\":\"cooling rate [K/day]\",\"formatter\":{\"id\":\"f35cd203-4a08-4b1d-b776-9fa6560e0681\",\"type\":\"BasicTickFormatter\"},\"plot\":{\"id\":\"563a17ac-38cb-4100-b4c1-825f447f73f5\",\"subtype\":\"Figure\",\"type\":\"Plot\"},\"ticker\":{\"id\":\"80b8c7f0-b359-437c-a22a-22d8e9a3758e\",\"type\":\"BasicTicker\"}},\"id\":\"aff96004-3657-4cce-99fd-0d3f060e4db9\",\"type\":\"LinearAxis\"},{\"attributes\":{\"plot\":{\"id\":\"563a17ac-38cb-4100-b4c1-825f447f73f5\",\"subtype\":\"Figure\",\"type\":\"Plot\"},\"ticker\":{\"id\":\"80b8c7f0-b359-437c-a22a-22d8e9a3758e\",\"type\":\"BasicTicker\"}},\"id\":\"2e1468e6-2c59-43b6-b073-cc550d538392\",\"type\":\"Grid\"},{\"attributes\":{},\"id\":\"7837e157-469b-446e-9c31-caec330b8159\",\"type\":\"SaveTool\"},{\"attributes\":{},\"id\":\"dfd46f7d-e023-4b37-ba31-fdab88faf8e7\",\"type\":\"WheelZoomTool\"},{\"attributes\":{\"line_alpha\":0.1,\"line_color\":\"#1f77b4\",\"line_width\":1.5,\"x\":{\"field\":\"x\"},\"y\":{\"field\":\"y\"}},\"id\":\"1321caaa-66ea-434e-9b68-259e9f50c36f\",\"type\":\"Line\"},{\"attributes\":{\"bottom_units\":\"screen\",\"fill_alpha\":{\"value\":0.5},\"fill_color\":{\"value\":\"lightgrey\"},\"left_units\":\"screen\",\"level\":\"overlay\",\"line_alpha\":{\"value\":1.0},\"line_color\":{\"value\":\"black\"},\"line_dash\":[4,4],\"line_width\":{\"value\":2},\"plot\":null,\"render_mode\":\"css\",\"right_units\":\"screen\",\"top_units\":\"screen\"},\"id\":\"7cac3516-99a9-4fdc-a66f-2d8d526bd1cf\",\"type\":\"BoxAnnotation\"},{\"attributes\":{\"line_alpha\":0.6,\"line_color\":\"#e41a1c\",\"line_dash\":[6],\"line_width\":5,\"x\":{\"field\":\"x\"},\"y\":{\"field\":\"y\"}},\"id\":\"e7bd6d37-65a0-4ce2-b23f-37e492e629a3\",\"type\":\"Line\"},{\"attributes\":{\"callback\":null,\"data\":{\"x\":{\"__ndarray__\":\"tGYmkisue7+p/4mR02Bxv+7ta5GaCE0/K5BmoFN4ej8pd9CRuX6JP6zgsHBfUpM/iLnqeA5Wmj/iPmqkDemgP2upnKg956Q/RmbO8wMoqT8rz3mlG6ytP4meHS5ROrE/5agsvGq+sz+burO8Jg62PwoRkook1bc/BMTfgcVVuT+NrYV4Vc+6P3tsnb0BQ7w/bXCHWC6xvT9TVZHhbiC/P4Drlh6+NcA/EFAaIfVbvj//20pGxUy4PwzglE7wIbI/0C6fnWJ6qj84Duzv3/CiP2nfmgSVfJo/WN9XsJI8kz9cYVmJo22PP1uJezGF44o/m5m32WYwhj9rI82+sEKBPzyFJYartX0/p3avVHlqfj8MWBYhZmh+P97iBimkr3w/P/ZlOqxTeT9vi5z/Ax5zP5dqZ7HWn2Y/kUGWUyRDTj/E4RhR6AhOv6jUQssuH2e/dewiLUvoc78mQfuFqBt9v/YEMAa8QoO/DI59YZeehL8BPzy9cMCAv+/2Nk8amnW/aevr2gJhY79QZVz0AoBBP4XF0VyHXGw/a3H+DxNeej9dxvt9aGKDPxundWMwrYk/Iv3BwuYCkD8Po5y34i2TP9JuA6k8TZY/0GRMBgVVmT9eENkJYTmcP4t7kx4z8Z4/RxSzjkW7oD+rN5G60OWhPwikdGD5+qI/6hABuUj/oz/Oobv3pPekP88B21+D56U/KXwMmo3Npj/izvD5z5unP8dU8jlyLKg/lQ81jmRFqD8+U0acicKnPzD3mvRvvaY/55vPbGpypT+3bz85xQ+kP6me6blOqaI/\",\"dtype\":\"float64\",\"shape\":[75]},\"y\":{\"__ndarray__\":\"GhExyth1ND/Sv8nbtpRIP2vylNV0PVE/aTum7souWD/At0SJ8fVgPw3Iuahxymc/MSNhhJWvcD/bTfBN02d3P2zb5nxnaoA/CD5h5MAGhz8NmeH1TyaQP+zrCsc9p5Y/LbKd76fGnz/bLW5ISEmmPww9YvTcQq8/JV2OstnstT8Er5Y7M8G+P0c+r3jqkcU/5h99k6ZBzj88bCIzFzjVP4enV8oyxN0//yH99nXg5D8qOpLLf0jtP5kqGJXUifQ/c9cS8kHP/D+/DpwzojQEQIEmwoanVwxA4lgXt9HgE0BSSZ2AJuIbQAMJih9jjiNA5q4l5INuK0AwTKYKRj0zQNv5fmq8/DpAaCJseHrtQkB/+zpwzoxKQM3MzMzMeFJAZmZmZmZqWEAAAAAAAFxeQM3MzMzMJmJAmpmZmZkfZUBmZmZmZhhoQDMzMzMzEWtAAAAAAAAKbkBmZmZmZoFwQM3MzMzM/XFAMzMzMzN6c0CamZmZmfZ0QAAAAAAAc3ZAZmZmZmbvd0DNzMzMzGt5QDMzMzMz6HpAmpmZmZlkfEAAAAAAAOF9QGZmZmZmXX9AZmZmZuZsgECamZmZGSuBQM3MzMxM6YFAAAAAAICngkAzMzMzs2WDQGZmZmbmI4RAmpmZmRnihEDNzMzMTKCFQAAAAACAXoZAMzMzM7Mch0BmZmZm5tqHQJqZmZkZmYhAzczMzExXiUAAAAAAgBWKQDMzMzOz04pAZmZmZuaRi0CamZmZGVCMQM3MzMxMDo1AAAAAAIDMjUAzMzMzs4qOQGZmZmbmSI9A\",\"dtype\":\"float64\",\"shape\":[75]}},\"selected\":{\"id\":\"38da60a1-585b-44b6-85a2-a07a608f6079\",\"type\":\"Selection\"},\"selection_policy\":{\"id\":\"bcc180e3-0ff0-469f-b3b3-eb475d42c3b4\",\"type\":\"UnionRenderers\"}},\"id\":\"5bb47bc0-9b98-4cfb-babd-bfad5eaab7ec\",\"type\":\"ColumnDataSource\"},{\"attributes\":{},\"id\":\"b1675d56-cdf8-424f-ae66-4877b3829b3b\",\"type\":\"PanTool\"},{\"attributes\":{\"callback\":null,\"data\":{\"x\":{\"__ndarray__\":\"tGYmkisue7+p/4mR02Bxv+7ta5GaCE0/K5BmoFN4ej8pd9CRuX6JP6zgsHBfUpM/iLnqeA5Wmj/iPmqkDemgP2upnKg956Q/RmbO8wMoqT8rz3mlG6ytP4meHS5ROrE/5agsvGq+sz+burO8Jg62PwoRkook1bc/BMTfgcVVuT+NrYV4Vc+6P3tsnb0BQ7w/bXCHWC6xvT9TVZHhbiC/P4Drlh6+NcA/EFAaIfVbvj//20pGxUy4PwzglE7wIbI/0C6fnWJ6qj84Duzv3/CiP2nfmgSVfJo/WN9XsJI8kz9cYVmJo22PP1uJezGF44o/m5m32WYwhj9rI82+sEKBPzyFJYartX0/p3avVHlqfj8MWBYhZmh+P97iBimkr3w/P/ZlOqxTeT9vi5z/Ax5zP5dqZ7HWn2Y/kUGWUyRDTj/E4RhR6AhOv6jUQssuH2e/dewiLUvoc78mQfuFqBt9v/YEMAa8QoO/DI59YZeehL8BPzy9cMCAv+/2Nk8amnW/aevr2gJhY79QZVz0AoBBP4XF0VyHXGw/a3H+DxNeej9dxvt9aGKDPxundWMwrYk/Iv3BwuYCkD8Po5y34i2TP9JuA6k8TZY/0GRMBgVVmT9eENkJYTmcP4t7kx4z8Z4/RxSzjkW7oD+rN5G60OWhPwikdGD5+qI/6hABuUj/oz/Oobv3pPekP88B21+D56U/KXwMmo3Npj/izvD5z5unP8dU8jlyLKg/lQ81jmRFqD8+U0acicKnPzD3mvRvvaY/55vPbGpypT+3bz85xQ+kP6me6blOqaI/\",\"dtype\":\"float64\",\"shape\":[75]},\"y\":{\"__ndarray__\":\"GhExyth1ND/Sv8nbtpRIP2vylNV0PVE/aTum7souWD/At0SJ8fVgPw3Iuahxymc/MSNhhJWvcD/bTfBN02d3P2zb5nxnaoA/CD5h5MAGhz8NmeH1TyaQP+zrCsc9p5Y/LbKd76fGnz/bLW5ISEmmPww9YvTcQq8/JV2OstnstT8Er5Y7M8G+P0c+r3jqkcU/5h99k6ZBzj88bCIzFzjVP4enV8oyxN0//yH99nXg5D8qOpLLf0jtP5kqGJXUifQ/c9cS8kHP/D+/DpwzojQEQIEmwoanVwxA4lgXt9HgE0BSSZ2AJuIbQAMJih9jjiNA5q4l5INuK0AwTKYKRj0zQNv5fmq8/DpAaCJseHrtQkB/+zpwzoxKQM3MzMzMeFJAZmZmZmZqWEAAAAAAAFxeQM3MzMzMJmJAmpmZmZkfZUBmZmZmZhhoQDMzMzMzEWtAAAAAAAAKbkBmZmZmZoFwQM3MzMzM/XFAMzMzMzN6c0CamZmZmfZ0QAAAAAAAc3ZAZmZmZmbvd0DNzMzMzGt5QDMzMzMz6HpAmpmZmZlkfEAAAAAAAOF9QGZmZmZmXX9AZmZmZuZsgECamZmZGSuBQM3MzMxM6YFAAAAAAICngkAzMzMzs2WDQGZmZmbmI4RAmpmZmRnihEDNzMzMTKCFQAAAAACAXoZAMzMzM7Mch0BmZmZm5tqHQJqZmZkZmYhAzczMzExXiUAAAAAAgBWKQDMzMzOz04pAZmZmZuaRi0CamZmZGVCMQM3MzMxMDo1AAAAAAIDMjUAzMzMzs4qOQGZmZmbmSI9A\",\"dtype\":\"float64\",\"shape\":[75]}},\"selected\":{\"id\":\"b5a1ce2f-936e-44bf-8d46-8e54e8184768\",\"type\":\"Selection\"},\"selection_policy\":{\"id\":\"91c8a619-1a9d-46ae-80dd-e4579424ff5a\",\"type\":\"UnionRenderers\"}},\"id\":\"37e0116b-cc43-4d2f-bc87-29a8a6f786a2\",\"type\":\"ColumnDataSource\"},{\"attributes\":{\"callback\":null,\"end\":0.01,\"start\":1020},\"id\":\"727c03d8-b7a0-49d0-b031-97d2ecb1c94c\",\"type\":\"Range1d\"},{\"attributes\":{\"plot\":{\"id\":\"7d3a8f00-14f2-43be-9f7e-ac8705f30ba5\",\"subtype\":\"Figure\",\"type\":\"Plot\"},\"ticker\":{\"id\":\"8b6d4cbf-15bb-421b-b87b-6b99f492bc33\",\"type\":\"BasicTicker\"}},\"id\":\"94cf0046-13b3-4d52-81e4-205504a506a5\",\"type\":\"Grid\"},{\"attributes\":{\"dimension\":1,\"plot\":{\"id\":\"7d3a8f00-14f2-43be-9f7e-ac8705f30ba5\",\"subtype\":\"Figure\",\"type\":\"Plot\"},\"ticker\":{\"id\":\"f476a9fb-5c33-4076-935f-c0a3d5dd2ea0\",\"type\":\"LogTicker\"}},\"id\":\"2ea40830-6848-47f4-85e2-8d30b63a5a3b\",\"type\":\"Grid\"},{\"attributes\":{\"data_source\":{\"id\":\"37e0116b-cc43-4d2f-bc87-29a8a6f786a2\",\"type\":\"ColumnDataSource\"},\"glyph\":{\"id\":\"56097d6e-8111-4793-a697-7b48c891d932\",\"type\":\"Circle\"},\"hover_glyph\":null,\"muted_glyph\":null,\"nonselection_glyph\":{\"id\":\"62ad259d-bc3f-4166-8abd-1183054da516\",\"type\":\"Circle\"},\"selection_glyph\":null,\"view\":{\"id\":\"2b8e8228-f642-46e1-8c3e-ca17734e0636\",\"type\":\"CDSView\"}},\"id\":\"219635d6-1e0d-4632-a807-f733db4a6e53\",\"type\":\"GlyphRenderer\"},{\"attributes\":{\"overlay\":{\"id\":\"7cac3516-99a9-4fdc-a66f-2d8d526bd1cf\",\"type\":\"BoxAnnotation\"}},\"id\":\"e3736646-d0b6-4aae-a664-c50be3f66734\",\"type\":\"BoxZoomTool\"},{\"attributes\":{\"callback\":null,\"data\":{\"x\":{\"__ndarray__\":\"FrfWArdBij9TxYbGiSqNP0kK941ZPZI/ano6a3j5lT+gA07ckf2ZPxbgIPkBSp4/qiAlx7RuoT/EYVJE0uOjP1yS2PXYhKY/7ox3xkVVqT+3l3sbd1esPws6QIGOjq8/nt1zw2N9sT+NWEzrvRizP/4GGw6zZrQ/upB08aqTtT+OzekNUsu2P38/XSaID7g/7BYCMtReuT+kuLJdBLq6PxBDoyLr/Ls/4tT/IC/3uj966Nmxsxa3P4KsIx670bI/dO909rQUrj8KhgsqvmKnP/IAP3gnfqE/FSHPz0jUmT8fGjKvvpmTP71iWe4dlY0/iCmtDpjuhD8VMTlZyu16P5+NAX4ya3I/NQPh7faebz8LOFM6uylrP2K6Sp/oxmQ/QlQgxnKqWD8A7RK3vInwPr7V4NzrVFy/PGbCriu/a79gpTdqqWZ0vz4rLqxpx3q/7Zv0qMOEgL+TrkYB95qDv/qFVpkxSoa/7jHGZZAwhr+gNL3VzR2Cv8cFLUVuXXi/7DnQTgS0Z7/Qqv0zCTIwP3irQzpwUWw/s44zYQWFez8UXHrGtJOEP7JDE2AMcIs/TPebiaAjkT+9RUPp+4eUP0z9UVdk25c/1j0ugcYSmz+LVAG/kiCeP2ZeLcitgaA/AaSC/7fWoT98MoBpsRGjPydi1xeFNKQ/niXSehtCpT/awiZEVj2mP8DfUyzDJ6c/imZj+mX9pz8YgHFpL7SoP44Rp5glL6k/KqPYpLdMqT8ebmsxlu6oP16SMPe8J6g/BiYe7Qsqpz8YaMXXoRGmP/zlVrKq+KQ/\",\"dtype\":\"float64\",\"shape\":[75]},\"y\":{\"__ndarray__\":\"GhExyth1ND/Sv8nbtpRIP2vylNV0PVE/aTum7souWD/At0SJ8fVgPw3Iuahxymc/MSNhhJWvcD/bTfBN02d3P2zb5nxnaoA/CD5h5MAGhz8NmeH1TyaQP+zrCsc9p5Y/LbKd76fGnz/bLW5ISEmmPww9YvTcQq8/JV2OstnstT8Er5Y7M8G+P0c+r3jqkcU/5h99k6ZBzj88bCIzFzjVP4enV8oyxN0//yH99nXg5D8qOpLLf0jtP5kqGJXUifQ/c9cS8kHP/D+/DpwzojQEQIEmwoanVwxA4lgXt9HgE0BSSZ2AJuIbQAMJih9jjiNA5q4l5INuK0AwTKYKRj0zQNv5fmq8/DpAaCJseHrtQkB/+zpwzoxKQM3MzMzMeFJAZmZmZmZqWEAAAAAAAFxeQM3MzMzMJmJAmpmZmZkfZUBmZmZmZhhoQDMzMzMzEWtAAAAAAAAKbkBmZmZmZoFwQM3MzMzM/XFAMzMzMzN6c0CamZmZmfZ0QAAAAAAAc3ZAZmZmZmbvd0DNzMzMzGt5QDMzMzMz6HpAmpmZmZlkfEAAAAAAAOF9QGZmZmZmXX9AZmZmZuZsgECamZmZGSuBQM3MzMxM6YFAAAAAAICngkAzMzMzs2WDQGZmZmbmI4RAmpmZmRnihEDNzMzMTKCFQAAAAACAXoZAMzMzM7Mch0BmZmZm5tqHQJqZmZkZmYhAzczMzExXiUAAAAAAgBWKQDMzMzOz04pAZmZmZuaRi0CamZmZGVCMQM3MzMxMDo1AAAAAAIDMjUAzMzMzs4qOQGZmZmbmSI9A\",\"dtype\":\"float64\",\"shape\":[75]}},\"selected\":{\"id\":\"9f260bcc-d2c0-4be7-b4c4-2253d56074a6\",\"type\":\"Selection\"},\"selection_policy\":{\"id\":\"629d12cf-a1fd-4d77-8820-0b9301c5d64c\",\"type\":\"UnionRenderers\"}},\"id\":\"40db680f-b514-4a39-b37c-e817a39c89fd\",\"type\":\"ColumnDataSource\"},{\"attributes\":{},\"id\":\"fa22da40-6c68-4737-b36e-e6d4a85b11fd\",\"type\":\"SaveTool\"},{\"attributes\":{\"axis_label\":\"pressure [mb]\",\"formatter\":{\"id\":\"9a1058e8-926a-46fa-8446-6658d858cc50\",\"type\":\"LogTickFormatter\"},\"plot\":{\"id\":\"7d3a8f00-14f2-43be-9f7e-ac8705f30ba5\",\"subtype\":\"Figure\",\"type\":\"Plot\"},\"ticker\":{\"id\":\"f476a9fb-5c33-4076-935f-c0a3d5dd2ea0\",\"type\":\"LogTicker\"}},\"id\":\"aab6366c-7e4f-41f4-984d-490765c63c63\",\"type\":\"LogAxis\"},{\"attributes\":{},\"id\":\"564f0ff4-6855-43aa-bb83-ef4fbbbaa5e6\",\"type\":\"ResetTool\"},{\"attributes\":{},\"id\":\"8b6d4cbf-15bb-421b-b87b-6b99f492bc33\",\"type\":\"BasicTicker\"},{\"attributes\":{\"line_alpha\":0.1,\"line_color\":\"#1f77b4\",\"line_dash\":[6],\"line_width\":5,\"x\":{\"field\":\"x\"},\"y\":{\"field\":\"y\"}},\"id\":\"2d3e9cd9-f794-4a49-9858-b2d161270ae8\",\"type\":\"Line\"},{\"attributes\":{},\"id\":\"f9e98e55-f952-4523-993c-901ec1ae0ddb\",\"type\":\"HelpTool\"},{\"attributes\":{\"plot\":null,\"text\":\"\"},\"id\":\"bf7955f8-aca6-43be-90bc-4e671ab18b75\",\"type\":\"Title\"},{\"attributes\":{\"callback\":null,\"data\":{\"x\":{\"__ndarray__\":\"OPX0ZWbskz+U4qXHee2SP9qqa7kUVZE/vqxBBse2jj8XkMsmanyKP9T+3xBF74U/mA+/KrYOgT8QF0H/JNZ3PxCPvtO02Wk/AFSTVOmgNj9Ad+OfSEplvzgY2NeeMHe/OFrGxTcIgr9wEDuLRquHv2BQuOOLc4u/UJpZg9QQjr/8f2+qDRCQv/CzAF3mzZC/BGYVmmhJkb+8cnoPqpmRv8BPKmpEupG/cNnTADAmi79QOA9HGWFzv8CO2fFZ+WU/IAWuxpLSfD9I333oeMeBP/ZExtdz/4A/9Abdfdheej+ISytUZxdvPxDL7ubFjFU/MAGnsOwcRL8EV4SRXF5evzrvRxDylGa/Gep9u/s1bb8GvOyDiNNwv62FYdkvTHK/LuHdiA8pc7+CeOVCeg1zv7vq608mZXK/UPvTYfqncb8oiRRgjKVwv9SBGY2kb26/ypaMSXhCar8AOCT5ijRkvyAINJmsO1i/ID6KRJAfSb/wWQ+I0dVFv8B2sK+fGka/DDqRzwVMQb/QH7u0/M0yvwAaNBxFLta+gNRREyVvMj9wW+mHxBRDP3DJ2cm/LUw/oKKfbZwLUj/gKmoak6FVP6Dn6OR64lg/YJAdrhfcWz/QQoRSG3NePwgKOo5DkWA/oPv4DCe3YT8Qre/uCr5iP/DhK3a7mGM/QEsRHSwtZD/AELLGFFtkPxDfjcf8A2Q/EKZuBYb9Yj9gEwv49oVhP3DMS+s1K2A/UDk5ajF1YD8ArlFSycBiP+CyWSnQpGY/8KHoBBh6az8Iwy/05A5wP5g6asPfenI/\",\"dtype\":\"float64\",\"shape\":[75]},\"y\":{\"__ndarray__\":\"GhExyth1ND/Sv8nbtpRIP2vylNV0PVE/aTum7souWD/At0SJ8fVgPw3Iuahxymc/MSNhhJWvcD/bTfBN02d3P2zb5nxnaoA/CD5h5MAGhz8NmeH1TyaQP+zrCsc9p5Y/LbKd76fGnz/bLW5ISEmmPww9YvTcQq8/JV2OstnstT8Er5Y7M8G+P0c+r3jqkcU/5h99k6ZBzj88bCIzFzjVP4enV8oyxN0//yH99nXg5D8qOpLLf0jtP5kqGJXUifQ/c9cS8kHP/D+/DpwzojQEQIEmwoanVwxA4lgXt9HgE0BSSZ2AJuIbQAMJih9jjiNA5q4l5INuK0AwTKYKRj0zQNv5fmq8/DpAaCJseHrtQkB/+zpwzoxKQM3MzMzMeFJAZmZmZmZqWEAAAAAAAFxeQM3MzMzMJmJAmpmZmZkfZUBmZmZmZhhoQDMzMzMzEWtAAAAAAAAKbkBmZmZmZoFwQM3MzMzM/XFAMzMzMzN6c0CamZmZmfZ0QAAAAAAAc3ZAZmZmZmbvd0DNzMzMzGt5QDMzMzMz6HpAmpmZmZlkfEAAAAAAAOF9QGZmZmZmXX9AZmZmZuZsgECamZmZGSuBQM3MzMxM6YFAAAAAAICngkAzMzMzs2WDQGZmZmbmI4RAmpmZmRnihEDNzMzMTKCFQAAAAACAXoZAMzMzM7Mch0BmZmZm5tqHQJqZmZkZmYhAzczMzExXiUAAAAAAgBWKQDMzMzOz04pAZmZmZuaRi0CamZmZGVCMQM3MzMxMDo1AAAAAAIDMjUAzMzMzs4qOQGZmZmbmSI9A\",\"dtype\":\"float64\",\"shape\":[75]}},\"selected\":{\"id\":\"de898fa9-b8af-4021-beae-64748e5989cc\",\"type\":\"Selection\"},\"selection_policy\":{\"id\":\"91c11015-7bd1-47d1-a99c-e27d4d6ff648\",\"type\":\"UnionRenderers\"}},\"id\":\"0cf31fe1-8cd7-408f-97a7-99c3f0ab8f65\",\"type\":\"ColumnDataSource\"},{\"attributes\":{\"fill_alpha\":{\"value\":0.1},\"fill_color\":{\"value\":\"#1f77b4\"},\"line_alpha\":{\"value\":0.1},\"line_color\":{\"value\":\"#1f77b4\"},\"x\":{\"field\":\"x\"},\"y\":{\"field\":\"y\"}},\"id\":\"62ad259d-bc3f-4166-8abd-1183054da516\",\"type\":\"Circle\"},{\"attributes\":{\"source\":{\"id\":\"40db680f-b514-4a39-b37c-e817a39c89fd\",\"type\":\"ColumnDataSource\"}},\"id\":\"9b4285b9-4216-43bd-9953-045f7f2345a6\",\"type\":\"CDSView\"},{\"attributes\":{},\"id\":\"1e46face-59d3-4895-8ee5-edde6d120e10\",\"type\":\"SaveTool\"},{\"attributes\":{\"bottom_units\":\"screen\",\"fill_alpha\":{\"value\":0.5},\"fill_color\":{\"value\":\"lightgrey\"},\"left_units\":\"screen\",\"level\":\"overlay\",\"line_alpha\":{\"value\":1.0},\"line_color\":{\"value\":\"black\"},\"line_dash\":[4,4],\"line_width\":{\"value\":2},\"plot\":null,\"render_mode\":\"css\",\"right_units\":\"screen\",\"top_units\":\"screen\"},\"id\":\"60649141-5514-4df2-a9ba-2106c7fd18b0\",\"type\":\"BoxAnnotation\"},{\"attributes\":{\"label\":{\"value\":\"CLIRAD\"},\"renderers\":[{\"id\":\"b707264f-109b-48f8-9316-e55618b391aa\",\"type\":\"GlyphRenderer\"}]},\"id\":\"923a50d3-56cc-4061-82c0-a983a9e3abfc\",\"type\":\"LegendItem\"},{\"attributes\":{\"source\":{\"id\":\"0c630d48-2d85-4726-aaed-0cc80196eb66\",\"type\":\"ColumnDataSource\"}},\"id\":\"3a747ef8-5f0a-4a54-8175-e14bcf5636dd\",\"type\":\"CDSView\"},{\"attributes\":{},\"id\":\"e7f9a99f-b557-4ff9-a949-2240a0279a26\",\"type\":\"ResetTool\"},{\"attributes\":{\"data_source\":{\"id\":\"40db680f-b514-4a39-b37c-e817a39c89fd\",\"type\":\"ColumnDataSource\"},\"glyph\":{\"id\":\"e7bd6d37-65a0-4ce2-b23f-37e492e629a3\",\"type\":\"Line\"},\"hover_glyph\":null,\"muted_glyph\":null,\"nonselection_glyph\":{\"id\":\"75b7cf8c-3a81-408b-9e38-732c6af38558\",\"type\":\"Line\"},\"selection_glyph\":null,\"view\":{\"id\":\"9b4285b9-4216-43bd-9953-045f7f2345a6\",\"type\":\"CDSView\"}},\"id\":\"657b1ec0-f387-4c33-87c8-df4ff9b90036\",\"type\":\"GlyphRenderer\"},{\"attributes\":{\"callback\":null,\"data\":{\"x\":{\"__ndarray__\":\"tGYmkisue7+p/4mR02Bxv+7ta5GaCE0/K5BmoFN4ej8pd9CRuX6JP6zgsHBfUpM/iLnqeA5Wmj/iPmqkDemgP2upnKg956Q/RmbO8wMoqT8rz3mlG6ytP4meHS5ROrE/5agsvGq+sz+burO8Jg62PwoRkook1bc/BMTfgcVVuT+NrYV4Vc+6P3tsnb0BQ7w/bXCHWC6xvT9TVZHhbiC/P4Drlh6+NcA/EFAaIfVbvj//20pGxUy4PwzglE7wIbI/0C6fnWJ6qj84Duzv3/CiP2nfmgSVfJo/WN9XsJI8kz9cYVmJo22PP1uJezGF44o/m5m32WYwhj9rI82+sEKBPzyFJYartX0/p3avVHlqfj8MWBYhZmh+P97iBimkr3w/P/ZlOqxTeT9vi5z/Ax5zP5dqZ7HWn2Y/kUGWUyRDTj/E4RhR6AhOv6jUQssuH2e/dewiLUvoc78mQfuFqBt9v/YEMAa8QoO/DI59YZeehL8BPzy9cMCAv+/2Nk8amnW/aevr2gJhY79QZVz0AoBBP4XF0VyHXGw/a3H+DxNeej9dxvt9aGKDPxundWMwrYk/Iv3BwuYCkD8Po5y34i2TP9JuA6k8TZY/0GRMBgVVmT9eENkJYTmcP4t7kx4z8Z4/RxSzjkW7oD+rN5G60OWhPwikdGD5+qI/6hABuUj/oz/Oobv3pPekP88B21+D56U/KXwMmo3Npj/izvD5z5unP8dU8jlyLKg/lQ81jmRFqD8+U0acicKnPzD3mvRvvaY/55vPbGpypT+3bz85xQ+kP6me6blOqaI/\",\"dtype\":\"float64\",\"shape\":[75]},\"y\":{\"__ndarray__\":\"GhExyth1ND/Sv8nbtpRIP2vylNV0PVE/aTum7souWD/At0SJ8fVgPw3Iuahxymc/MSNhhJWvcD/bTfBN02d3P2zb5nxnaoA/CD5h5MAGhz8NmeH1TyaQP+zrCsc9p5Y/LbKd76fGnz/bLW5ISEmmPww9YvTcQq8/JV2OstnstT8Er5Y7M8G+P0c+r3jqkcU/5h99k6ZBzj88bCIzFzjVP4enV8oyxN0//yH99nXg5D8qOpLLf0jtP5kqGJXUifQ/c9cS8kHP/D+/DpwzojQEQIEmwoanVwxA4lgXt9HgE0BSSZ2AJuIbQAMJih9jjiNA5q4l5INuK0AwTKYKRj0zQNv5fmq8/DpAaCJseHrtQkB/+zpwzoxKQM3MzMzMeFJAZmZmZmZqWEAAAAAAAFxeQM3MzMzMJmJAmpmZmZkfZUBmZmZmZhhoQDMzMzMzEWtAAAAAAAAKbkBmZmZmZoFwQM3MzMzM/XFAMzMzMzN6c0CamZmZmfZ0QAAAAAAAc3ZAZmZmZmbvd0DNzMzMzGt5QDMzMzMz6HpAmpmZmZlkfEAAAAAAAOF9QGZmZmZmXX9AZmZmZuZsgECamZmZGSuBQM3MzMxM6YFAAAAAAICngkAzMzMzs2WDQGZmZmbmI4RAmpmZmRnihEDNzMzMTKCFQAAAAACAXoZAMzMzM7Mch0BmZmZm5tqHQJqZmZkZmYhAzczMzExXiUAAAAAAgBWKQDMzMzOz04pAZmZmZuaRi0CamZmZGVCMQM3MzMxMDo1AAAAAAIDMjUAzMzMzs4qOQGZmZmbmSI9A\",\"dtype\":\"float64\",\"shape\":[75]}},\"selected\":{\"id\":\"57bfdf20-dd64-4dac-9f39-81615d871c44\",\"type\":\"Selection\"},\"selection_policy\":{\"id\":\"19876f63-00b0-4182-98bd-7ff0b0d23968\",\"type\":\"UnionRenderers\"}},\"id\":\"e3958b86-f874-44e1-a140-b23c7b430fe3\",\"type\":\"ColumnDataSource\"},{\"attributes\":{},\"id\":\"5942aa2e-447f-44f0-ba34-e0f22e4f9089\",\"type\":\"Selection\"},{\"attributes\":{\"items\":[{\"id\":\"8cd3c549-f47e-4064-a0b6-e36ec4e5b430\",\"type\":\"LegendItem\"},{\"id\":\"7d75ab8e-9acd-4857-848e-a36ca723a082\",\"type\":\"LegendItem\"}],\"label_text_font_size\":{\"value\":\"8pt\"},\"location\":\"top_center\",\"orientation\":\"horizontal\",\"plot\":{\"id\":\"af7225db-b6a0-490f-b45f-1f9a047d0936\",\"subtype\":\"Figure\",\"type\":\"Plot\"}},\"id\":\"fe99b91f-e320-41fe-9164-3ae4515ae982\",\"type\":\"Legend\"},{\"attributes\":{\"data_source\":{\"id\":\"0c630d48-2d85-4726-aaed-0cc80196eb66\",\"type\":\"ColumnDataSource\"},\"glyph\":{\"id\":\"80eda8f2-fe92-4cde-a759-540d34a69fcd\",\"type\":\"Line\"},\"hover_glyph\":null,\"muted_glyph\":null,\"nonselection_glyph\":{\"id\":\"2d3e9cd9-f794-4a49-9858-b2d161270ae8\",\"type\":\"Line\"},\"selection_glyph\":null,\"view\":{\"id\":\"3a747ef8-5f0a-4a54-8175-e14bcf5636dd\",\"type\":\"CDSView\"}},\"id\":\"b707264f-109b-48f8-9316-e55618b391aa\",\"type\":\"GlyphRenderer\"},{\"attributes\":{\"above\":[{\"id\":\"083b54d4-9119-478c-a0f4-4e4094dec769\",\"type\":\"Legend\"}],\"below\":[{\"id\":\"aff96004-3657-4cce-99fd-0d3f060e4db9\",\"type\":\"LinearAxis\"}],\"left\":[{\"id\":\"8393deb2-f345-4b1d-b806-64e18099deb9\",\"type\":\"LogAxis\"}],\"plot_width\":300,\"renderers\":[{\"id\":\"aff96004-3657-4cce-99fd-0d3f060e4db9\",\"type\":\"LinearAxis\"},{\"id\":\"2e1468e6-2c59-43b6-b073-cc550d538392\",\"type\":\"Grid\"},{\"id\":\"8393deb2-f345-4b1d-b806-64e18099deb9\",\"type\":\"LogAxis\"},{\"id\":\"5fac2394-4da3-4022-9e0b-c9fbca07b60c\",\"type\":\"Grid\"},{\"id\":\"7cac3516-99a9-4fdc-a66f-2d8d526bd1cf\",\"type\":\"BoxAnnotation\"},{\"id\":\"c90a8657-ba98-4df0-9cee-a98c3d256319\",\"type\":\"GlyphRenderer\"},{\"id\":\"8b821c0e-ca18-4d96-9eee-616fdd41f49a\",\"type\":\"GlyphRenderer\"},{\"id\":\"083b54d4-9119-478c-a0f4-4e4094dec769\",\"type\":\"Legend\"}],\"title\":{\"id\":\"55ac671d-bae9-44b6-bd13-ae19cb1089af\",\"type\":\"Title\"},\"toolbar\":{\"id\":\"d17438b0-1c08-48a1-b9c9-ca2183b9ed61\",\"type\":\"Toolbar\"},\"toolbar_location\":null,\"x_range\":{\"id\":\"7315c961-ae36-40c4-9c9d-f1a584f6d553\",\"type\":\"Range1d\"},\"x_scale\":{\"id\":\"a66a541e-44ec-4173-a435-021400ab2839\",\"type\":\"LinearScale\"},\"y_range\":{\"id\":\"6eda7e63-312d-4253-9646-4949d4729ceb\",\"type\":\"Range1d\"},\"y_scale\":{\"id\":\"927bef89-6fb4-4d3f-8d28-0c5f34bf172f\",\"type\":\"LogScale\"}},\"id\":\"563a17ac-38cb-4100-b4c1-825f447f73f5\",\"subtype\":\"Figure\",\"type\":\"Plot\"},{\"attributes\":{},\"id\":\"2ac91567-26c0-4c97-9a50-74c98658948a\",\"type\":\"HelpTool\"}],\"root_ids\":[\"bc966f4d-3654-4db1-b14c-ea3928025ca6\"]},\"title\":\"Bokeh Application\",\"version\":\"0.12.16\"}};\n",
       "  var render_items = [{\"docid\":\"6c92fae2-2df9-46c5-ae48-afb46e47b2a1\",\"elementid\":\"272df143-f1f4-415a-b223-214f4e60a8d8\",\"modelid\":\"bc966f4d-3654-4db1-b14c-ea3928025ca6\"}];\n",
       "  root.Bokeh.embed.embed_items_notebook(docs_json, render_items);\n",
       "\n",
       "  }\n",
       "  if (root.Bokeh !== undefined) {\n",
       "    embed_document(root);\n",
       "  } else {\n",
       "    var attempts = 0;\n",
       "    var timer = setInterval(function(root) {\n",
       "      if (root.Bokeh !== undefined) {\n",
       "        embed_document(root);\n",
       "        clearInterval(timer);\n",
       "      }\n",
       "      attempts++;\n",
       "      if (attempts > 100) {\n",
       "        console.log(\"Bokeh: ERROR: Unable to run BokehJS code because BokehJS library is missing\")\n",
       "        clearInterval(timer);\n",
       "      }\n",
       "    }, 10, root)\n",
       "  }\n",
       "})(window);"
      ],
      "application/vnd.bokehjs_exec.v0+json": ""
     },
     "metadata": {
      "application/vnd.bokehjs_exec.v0+json": {
       "id": "bc966f4d-3654-4db1-b14c-ea3928025ca6"
      }
     },
     "output_type": "display_data"
    },
    {
     "data": {
      "text/markdown": [
       "*FIGURE.* Cooling rates & difference."
      ],
      "text/plain": [
       "<IPython.core.display.Markdown object>"
      ]
     },
     "metadata": {},
     "output_type": "display_data"
    },
    {
     "data": {
      "text/html": [
       "<a id=\"Fluxes._saw.\"></a>"
      ],
      "text/plain": [
       "<IPython.core.display.HTML object>"
      ]
     },
     "metadata": {},
     "output_type": "display_data"
    },
    {
     "data": {
      "text/markdown": [
       "# Fluxes. saw."
      ],
      "text/plain": [
       "<IPython.core.display.Markdown object>"
      ]
     },
     "metadata": {},
     "output_type": "display_data"
    },
    {
     "data": {
      "text/html": [
       "\n",
       "<div class=\"bk-root\">\n",
       "    <div class=\"bk-plotdiv\" id=\"9a473a01-8e47-4444-b1db-344b4ee84ba8\"></div>\n",
       "</div>"
      ]
     },
     "metadata": {},
     "output_type": "display_data"
    },
    {
     "data": {
      "application/javascript": [
       "(function(root) {\n",
       "  function embed_document(root) {\n",
       "    \n",
       "  var docs_json = {\"59358244-0d4c-48fd-b992-f11f85d13996\":{\"roots\":{\"references\":[{\"attributes\":{},\"id\":\"dd1f3da9-9e3e-4970-b9a5-158fe6448200\",\"type\":\"HelpTool\"},{\"attributes\":{},\"id\":\"508bb00e-490a-494c-871b-03fc9ffe52ab\",\"type\":\"CategoricalTickFormatter\"},{\"attributes\":{\"plot\":null,\"text\":\"SFC flux. CLIRAD - CRD.\"},\"id\":\"ff45d3f5-a557-4eea-bcf8-83a3b41b6a32\",\"type\":\"Title\"},{\"attributes\":{\"callback\":null,\"factors\":[\"3\",\"9\"]},\"id\":\"a711d222-ace4-4bde-82fe-d9179c33e5cb\",\"type\":\"FactorRange\"},{\"attributes\":{\"axis_label\":\"flux (W m-2)\",\"formatter\":{\"id\":\"64d30901-a5db-421e-910f-212b93aea582\",\"type\":\"BasicTickFormatter\"},\"plot\":{\"id\":\"54941420-ccbe-4660-940e-3b62e29085d9\",\"subtype\":\"Figure\",\"type\":\"Plot\"},\"ticker\":{\"id\":\"52bbc3f8-40f1-4d7f-8a37-a3ae57ca0454\",\"type\":\"BasicTicker\"}},\"id\":\"bd372e0e-d192-4f12-a256-283917fbe4e7\",\"type\":\"LinearAxis\"},{\"attributes\":{\"plot\":{\"id\":\"54941420-ccbe-4660-940e-3b62e29085d9\",\"subtype\":\"Figure\",\"type\":\"Plot\"},\"ticker\":{\"id\":\"728caaf2-4797-40bb-9cbe-0fbbe10203a3\",\"type\":\"CategoricalTicker\"}},\"id\":\"c504b99b-d55b-4a5b-925c-11cc3e598591\",\"type\":\"Grid\"},{\"attributes\":{\"overlay\":{\"id\":\"63078086-a2a8-41e6-8301-961f364f5cc3\",\"type\":\"BoxAnnotation\"}},\"id\":\"e460fc71-da48-4eac-abc5-942eb03b2ea2\",\"type\":\"BoxZoomTool\"},{\"attributes\":{\"axis_label\":\"flux (W m-2)\",\"formatter\":{\"id\":\"dc4ba3e0-d0ad-4c74-b792-fa0f2e28da76\",\"type\":\"BasicTickFormatter\"},\"plot\":{\"id\":\"c4ba7bdd-7e22-4639-8896-ab37016be3a7\",\"subtype\":\"Figure\",\"type\":\"Plot\"},\"ticker\":{\"id\":\"f3c6c135-6a9d-4f36-8275-540fe33ee95d\",\"type\":\"BasicTicker\"}},\"id\":\"400a2684-6e7c-4ae6-bf3b-7cac857c0da3\",\"type\":\"LinearAxis\"},{\"attributes\":{},\"id\":\"2454fe5d-59f6-4e21-9261-10dbb58c9d41\",\"type\":\"CategoricalScale\"},{\"attributes\":{\"callback\":null},\"id\":\"0bb73308-a3a4-45bf-8d2a-3c08f4084a96\",\"type\":\"DataRange1d\"},{\"attributes\":{},\"id\":\"728caaf2-4797-40bb-9cbe-0fbbe10203a3\",\"type\":\"CategoricalTicker\"},{\"attributes\":{\"toolbar\":{\"id\":\"3d195c95-e6fc-418c-954b-55d188f2fe58\",\"type\":\"ProxyToolbar\"},\"toolbar_location\":\"above\"},\"id\":\"22bc46de-833a-4f9f-b506-9b2121302e49\",\"type\":\"ToolbarBox\"},{\"attributes\":{\"children\":[{\"id\":\"22bc46de-833a-4f9f-b506-9b2121302e49\",\"type\":\"ToolbarBox\"},{\"id\":\"f528b32e-dbf1-4732-a7c9-bbfec9740637\",\"type\":\"Column\"}]},\"id\":\"66ac1900-a678-47b2-9698-2f6efef85de5\",\"type\":\"Column\"},{\"attributes\":{\"active_drag\":\"auto\",\"active_inspect\":\"auto\",\"active_scroll\":\"auto\",\"active_tap\":\"auto\",\"tools\":[{\"id\":\"0add71ce-052a-4291-ad55-7ba5a10b93a2\",\"type\":\"PanTool\"},{\"id\":\"560239c5-8e98-4c84-bcc8-b23cf6d4247f\",\"type\":\"WheelZoomTool\"},{\"id\":\"7d68b1ca-9cc7-49f0-9d9c-30b968e48034\",\"type\":\"BoxZoomTool\"},{\"id\":\"ffc6c640-783b-476d-ac49-8fd21aac7796\",\"type\":\"SaveTool\"},{\"id\":\"6abf1b98-9155-4e5c-bab6-d50da493856c\",\"type\":\"ResetTool\"},{\"id\":\"79654e04-3d4e-491d-befa-5d31c46cd1fa\",\"type\":\"HelpTool\"}]},\"id\":\"09c92664-e3d9-491f-8d01-5fefde9eba6e\",\"type\":\"Toolbar\"},{\"attributes\":{},\"id\":\"231d7556-ce07-4f6b-a4ce-bdd5b4860a1a\",\"type\":\"LinearScale\"},{\"attributes\":{\"callback\":null,\"data\":{\"band\":[\"3\",\"9\"],\"flux\":{\"__ndarray__\":\"ALhVACHMo78AbJq0/7qYPw==\",\"dtype\":\"float64\",\"shape\":[2]}},\"selected\":{\"id\":\"95eff541-7e2a-409d-b39b-703b6502525b\",\"type\":\"Selection\"},\"selection_policy\":{\"id\":\"50a4a5e0-3612-4f00-9e08-0b9ef1b79c75\",\"type\":\"UnionRenderers\"}},\"id\":\"b49e5992-c0b9-40f6-bab9-0690d0087a85\",\"type\":\"ColumnDataSource\"},{\"attributes\":{\"axis_label\":\"spectral band\",\"formatter\":{\"id\":\"38eacd22-95a5-471d-b5fa-1c194d6d3147\",\"type\":\"CategoricalTickFormatter\"},\"plot\":{\"id\":\"37c68606-8b2b-4f92-aaef-be0a31c3c1e5\",\"subtype\":\"Figure\",\"type\":\"Plot\"},\"ticker\":{\"id\":\"013db2ae-360f-4f86-9737-baf102ced664\",\"type\":\"CategoricalTicker\"}},\"id\":\"c802000f-0b0b-4a0c-a369-f34e1ac57c28\",\"type\":\"CategoricalAxis\"},{\"attributes\":{\"axis_label\":\"spectral band\",\"formatter\":{\"id\":\"b26c58af-fa14-43db-bfc1-72a33f2b783e\",\"type\":\"CategoricalTickFormatter\"},\"plot\":{\"id\":\"c4ba7bdd-7e22-4639-8896-ab37016be3a7\",\"subtype\":\"Figure\",\"type\":\"Plot\"},\"ticker\":{\"id\":\"914eb80f-8215-4e0e-ad37-8e85f40e88f9\",\"type\":\"CategoricalTicker\"}},\"id\":\"20ff8ed9-60e1-43d1-b300-1f5354686b37\",\"type\":\"CategoricalAxis\"},{\"attributes\":{},\"id\":\"d0727390-3e03-4532-84a4-7bfa5a2696f1\",\"type\":\"BasicTicker\"},{\"attributes\":{},\"id\":\"f3c6c135-6a9d-4f36-8275-540fe33ee95d\",\"type\":\"BasicTicker\"},{\"attributes\":{\"fill_alpha\":{\"value\":0.1},\"fill_color\":{\"value\":\"#1f77b4\"},\"line_alpha\":{\"value\":0.1},\"line_color\":{\"value\":\"#1f77b4\"},\"top\":{\"field\":\"flux\"},\"width\":{\"value\":0.9},\"x\":{\"field\":\"band\"}},\"id\":\"f6bd0f33-0065-4e90-ab1f-7efc6bdda216\",\"type\":\"VBar\"},{\"attributes\":{\"plot\":{\"id\":\"c4ba7bdd-7e22-4639-8896-ab37016be3a7\",\"subtype\":\"Figure\",\"type\":\"Plot\"},\"ticker\":{\"id\":\"914eb80f-8215-4e0e-ad37-8e85f40e88f9\",\"type\":\"CategoricalTicker\"}},\"id\":\"d876499d-f96d-41e3-a870-e4ff0cd44d4e\",\"type\":\"Grid\"},{\"attributes\":{\"plot\":{\"id\":\"37c68606-8b2b-4f92-aaef-be0a31c3c1e5\",\"subtype\":\"Figure\",\"type\":\"Plot\"},\"ticker\":{\"id\":\"013db2ae-360f-4f86-9737-baf102ced664\",\"type\":\"CategoricalTicker\"}},\"id\":\"54424b1f-c43a-4570-8442-6c63c02ad50f\",\"type\":\"Grid\"},{\"attributes\":{},\"id\":\"914eb80f-8215-4e0e-ad37-8e85f40e88f9\",\"type\":\"CategoricalTicker\"},{\"attributes\":{},\"id\":\"ad9b63bd-dbfc-43f7-894e-7dba6ece796f\",\"type\":\"LinearScale\"},{\"attributes\":{\"dimension\":1,\"plot\":{\"id\":\"c4ba7bdd-7e22-4639-8896-ab37016be3a7\",\"subtype\":\"Figure\",\"type\":\"Plot\"},\"ticker\":{\"id\":\"f3c6c135-6a9d-4f36-8275-540fe33ee95d\",\"type\":\"BasicTicker\"}},\"id\":\"762df64f-5921-46e3-ab45-b2e0c294557a\",\"type\":\"Grid\"},{\"attributes\":{\"callback\":null},\"id\":\"275752c9-cf31-4646-be90-511cc3ca3e7d\",\"type\":\"DataRange1d\"},{\"attributes\":{\"fill_color\":{\"value\":\"#1f77b4\"},\"line_color\":{\"value\":\"#1f77b4\"},\"top\":{\"field\":\"flux\"},\"width\":{\"value\":0.9},\"x\":{\"field\":\"band\"}},\"id\":\"6c81642a-1d2e-4576-b544-fe25dbc743f5\",\"type\":\"VBar\"},{\"attributes\":{},\"id\":\"fcb53b2d-dbc3-4318-8d3e-dcb4ca209511\",\"type\":\"CategoricalScale\"},{\"attributes\":{\"bottom_units\":\"screen\",\"fill_alpha\":{\"value\":0.5},\"fill_color\":{\"value\":\"lightgrey\"},\"left_units\":\"screen\",\"level\":\"overlay\",\"line_alpha\":{\"value\":1.0},\"line_color\":{\"value\":\"black\"},\"line_dash\":[4,4],\"line_width\":{\"value\":2},\"plot\":null,\"render_mode\":\"css\",\"right_units\":\"screen\",\"top_units\":\"screen\"},\"id\":\"d5dc9b6d-8732-4a58-8336-9a6455974a53\",\"type\":\"BoxAnnotation\"},{\"attributes\":{},\"id\":\"0add71ce-052a-4291-ad55-7ba5a10b93a2\",\"type\":\"PanTool\"},{\"attributes\":{\"data_source\":{\"id\":\"a741f60b-07e3-4505-8fc0-e457826b1e3c\",\"type\":\"ColumnDataSource\"},\"glyph\":{\"id\":\"6c81642a-1d2e-4576-b544-fe25dbc743f5\",\"type\":\"VBar\"},\"hover_glyph\":null,\"muted_glyph\":null,\"nonselection_glyph\":{\"id\":\"f6bd0f33-0065-4e90-ab1f-7efc6bdda216\",\"type\":\"VBar\"},\"selection_glyph\":null,\"view\":{\"id\":\"5f44bf09-37eb-4165-ae5d-86cba04cddcf\",\"type\":\"CDSView\"}},\"id\":\"f8241755-54fc-4629-ba44-900b6b9ff65b\",\"type\":\"GlyphRenderer\"},{\"attributes\":{},\"id\":\"560239c5-8e98-4c84-bcc8-b23cf6d4247f\",\"type\":\"WheelZoomTool\"},{\"attributes\":{\"overlay\":{\"id\":\"d5dc9b6d-8732-4a58-8336-9a6455974a53\",\"type\":\"BoxAnnotation\"}},\"id\":\"7d68b1ca-9cc7-49f0-9d9c-30b968e48034\",\"type\":\"BoxZoomTool\"},{\"attributes\":{\"active_drag\":\"auto\",\"active_inspect\":\"auto\",\"active_scroll\":\"auto\",\"active_tap\":\"auto\",\"tools\":[{\"id\":\"fe86a3d0-d2e9-4334-b779-85e73982059d\",\"type\":\"PanTool\"},{\"id\":\"3aae8f14-29e6-4234-8146-f673e860f958\",\"type\":\"WheelZoomTool\"},{\"id\":\"e460fc71-da48-4eac-abc5-942eb03b2ea2\",\"type\":\"BoxZoomTool\"},{\"id\":\"78d175e8-35c0-4f72-8a0d-2fc52d45c9ff\",\"type\":\"SaveTool\"},{\"id\":\"accf8a21-2896-42cf-a324-f6177cc2aa0b\",\"type\":\"ResetTool\"},{\"id\":\"dd1f3da9-9e3e-4970-b9a5-158fe6448200\",\"type\":\"HelpTool\"}]},\"id\":\"662a9786-3022-4889-892f-b76252fad678\",\"type\":\"Toolbar\"},{\"attributes\":{},\"id\":\"ffc6c640-783b-476d-ac49-8fd21aac7796\",\"type\":\"SaveTool\"},{\"attributes\":{\"active_drag\":\"auto\",\"active_inspect\":\"auto\",\"active_scroll\":\"auto\",\"active_tap\":\"auto\",\"tools\":[{\"id\":\"e48436fa-7907-4281-ae4f-78e3a569f3ed\",\"type\":\"PanTool\"},{\"id\":\"1ae1885c-93ed-43d7-b1d8-d9d9172dc322\",\"type\":\"WheelZoomTool\"},{\"id\":\"118e63ea-d739-4899-a217-5bda12bf46e7\",\"type\":\"BoxZoomTool\"},{\"id\":\"4b0579ed-a87b-4f20-9269-b2fed151d9af\",\"type\":\"SaveTool\"},{\"id\":\"64150079-4ba6-45e1-bca5-e1ffa348db04\",\"type\":\"ResetTool\"},{\"id\":\"d842aedf-d6d1-4d74-98e7-65a12718ae1e\",\"type\":\"HelpTool\"}]},\"id\":\"0800734b-2971-4577-8fd0-23fcb3ca57ca\",\"type\":\"Toolbar\"},{\"attributes\":{},\"id\":\"6abf1b98-9155-4e5c-bab6-d50da493856c\",\"type\":\"ResetTool\"},{\"attributes\":{\"callback\":null,\"factors\":[\"3\",\"9\"]},\"id\":\"5c4862c2-59a3-43d5-9921-963b54856675\",\"type\":\"FactorRange\"},{\"attributes\":{},\"id\":\"79654e04-3d4e-491d-befa-5d31c46cd1fa\",\"type\":\"HelpTool\"},{\"attributes\":{\"plot\":null,\"text\":\"TOA flux. CLIRAD - CRD.\"},\"id\":\"afe1c2e5-3464-4e8f-9c92-910100cd1f76\",\"type\":\"Title\"},{\"attributes\":{\"below\":[{\"id\":\"c802000f-0b0b-4a0c-a369-f34e1ac57c28\",\"type\":\"CategoricalAxis\"}],\"left\":[{\"id\":\"642100f6-a955-4608-a522-ef78a58eb7ee\",\"type\":\"LinearAxis\"}],\"plot_height\":300,\"plot_width\":300,\"renderers\":[{\"id\":\"c802000f-0b0b-4a0c-a369-f34e1ac57c28\",\"type\":\"CategoricalAxis\"},{\"id\":\"54424b1f-c43a-4570-8442-6c63c02ad50f\",\"type\":\"Grid\"},{\"id\":\"642100f6-a955-4608-a522-ef78a58eb7ee\",\"type\":\"LinearAxis\"},{\"id\":\"cc19ada9-52b9-41e6-be3d-09e0734e73ef\",\"type\":\"Grid\"},{\"id\":\"152b1347-75b0-4e60-ac6b-7d191c9d188a\",\"type\":\"BoxAnnotation\"},{\"id\":\"02f3f321-8646-4510-b006-f01da3711a0e\",\"type\":\"GlyphRenderer\"}],\"title\":{\"id\":\"afe1c2e5-3464-4e8f-9c92-910100cd1f76\",\"type\":\"Title\"},\"toolbar\":{\"id\":\"0800734b-2971-4577-8fd0-23fcb3ca57ca\",\"type\":\"Toolbar\"},\"toolbar_location\":null,\"x_range\":{\"id\":\"5c4862c2-59a3-43d5-9921-963b54856675\",\"type\":\"FactorRange\"},\"x_scale\":{\"id\":\"fcb53b2d-dbc3-4318-8d3e-dcb4ca209511\",\"type\":\"CategoricalScale\"},\"y_range\":{\"id\":\"275752c9-cf31-4646-be90-511cc3ca3e7d\",\"type\":\"DataRange1d\"},\"y_scale\":{\"id\":\"ad9b63bd-dbfc-43f7-894e-7dba6ece796f\",\"type\":\"LinearScale\"}},\"id\":\"37c68606-8b2b-4f92-aaef-be0a31c3c1e5\",\"subtype\":\"Figure\",\"type\":\"Plot\"},{\"attributes\":{},\"id\":\"64d30901-a5db-421e-910f-212b93aea582\",\"type\":\"BasicTickFormatter\"},{\"attributes\":{\"source\":{\"id\":\"a741f60b-07e3-4505-8fc0-e457826b1e3c\",\"type\":\"ColumnDataSource\"}},\"id\":\"5f44bf09-37eb-4165-ae5d-86cba04cddcf\",\"type\":\"CDSView\"},{\"attributes\":{\"fill_color\":{\"value\":\"#1f77b4\"},\"line_color\":{\"value\":\"#1f77b4\"},\"top\":{\"field\":\"flux\"},\"width\":{\"value\":0.9},\"x\":{\"field\":\"band\"}},\"id\":\"3ff16f15-a914-4e66-887c-3b2c0437c0cd\",\"type\":\"VBar\"},{\"attributes\":{},\"id\":\"accf8a21-2896-42cf-a324-f6177cc2aa0b\",\"type\":\"ResetTool\"},{\"attributes\":{\"axis_label\":\"flux (W m-2)\",\"formatter\":{\"id\":\"49822f5b-925f-4523-aac4-f950849b03bd\",\"type\":\"BasicTickFormatter\"},\"plot\":{\"id\":\"37c68606-8b2b-4f92-aaef-be0a31c3c1e5\",\"subtype\":\"Figure\",\"type\":\"Plot\"},\"ticker\":{\"id\":\"d0727390-3e03-4532-84a4-7bfa5a2696f1\",\"type\":\"BasicTicker\"}},\"id\":\"642100f6-a955-4608-a522-ef78a58eb7ee\",\"type\":\"LinearAxis\"},{\"attributes\":{\"fill_alpha\":{\"value\":0.1},\"fill_color\":{\"value\":\"#1f77b4\"},\"line_alpha\":{\"value\":0.1},\"line_color\":{\"value\":\"#1f77b4\"},\"top\":{\"field\":\"flux\"},\"width\":{\"value\":0.9},\"x\":{\"field\":\"band\"}},\"id\":\"ab82bd94-fc93-46b4-87d1-32b787bcdd49\",\"type\":\"VBar\"},{\"attributes\":{},\"id\":\"013db2ae-360f-4f86-9737-baf102ced664\",\"type\":\"CategoricalTicker\"},{\"attributes\":{\"dimension\":1,\"plot\":{\"id\":\"37c68606-8b2b-4f92-aaef-be0a31c3c1e5\",\"subtype\":\"Figure\",\"type\":\"Plot\"},\"ticker\":{\"id\":\"d0727390-3e03-4532-84a4-7bfa5a2696f1\",\"type\":\"BasicTicker\"}},\"id\":\"cc19ada9-52b9-41e6-be3d-09e0734e73ef\",\"type\":\"Grid\"},{\"attributes\":{\"children\":[{\"id\":\"2ebe591d-dc05-4703-bc76-017d8b696158\",\"type\":\"Row\"}]},\"id\":\"f528b32e-dbf1-4732-a7c9-bbfec9740637\",\"type\":\"Column\"},{\"attributes\":{\"tools\":[{\"id\":\"e48436fa-7907-4281-ae4f-78e3a569f3ed\",\"type\":\"PanTool\"},{\"id\":\"1ae1885c-93ed-43d7-b1d8-d9d9172dc322\",\"type\":\"WheelZoomTool\"},{\"id\":\"118e63ea-d739-4899-a217-5bda12bf46e7\",\"type\":\"BoxZoomTool\"},{\"id\":\"4b0579ed-a87b-4f20-9269-b2fed151d9af\",\"type\":\"SaveTool\"},{\"id\":\"64150079-4ba6-45e1-bca5-e1ffa348db04\",\"type\":\"ResetTool\"},{\"id\":\"d842aedf-d6d1-4d74-98e7-65a12718ae1e\",\"type\":\"HelpTool\"},{\"id\":\"0add71ce-052a-4291-ad55-7ba5a10b93a2\",\"type\":\"PanTool\"},{\"id\":\"560239c5-8e98-4c84-bcc8-b23cf6d4247f\",\"type\":\"WheelZoomTool\"},{\"id\":\"7d68b1ca-9cc7-49f0-9d9c-30b968e48034\",\"type\":\"BoxZoomTool\"},{\"id\":\"ffc6c640-783b-476d-ac49-8fd21aac7796\",\"type\":\"SaveTool\"},{\"id\":\"6abf1b98-9155-4e5c-bab6-d50da493856c\",\"type\":\"ResetTool\"},{\"id\":\"79654e04-3d4e-491d-befa-5d31c46cd1fa\",\"type\":\"HelpTool\"},{\"id\":\"fe86a3d0-d2e9-4334-b779-85e73982059d\",\"type\":\"PanTool\"},{\"id\":\"3aae8f14-29e6-4234-8146-f673e860f958\",\"type\":\"WheelZoomTool\"},{\"id\":\"e460fc71-da48-4eac-abc5-942eb03b2ea2\",\"type\":\"BoxZoomTool\"},{\"id\":\"78d175e8-35c0-4f72-8a0d-2fc52d45c9ff\",\"type\":\"SaveTool\"},{\"id\":\"accf8a21-2896-42cf-a324-f6177cc2aa0b\",\"type\":\"ResetTool\"},{\"id\":\"dd1f3da9-9e3e-4970-b9a5-158fe6448200\",\"type\":\"HelpTool\"}]},\"id\":\"3d195c95-e6fc-418c-954b-55d188f2fe58\",\"type\":\"ProxyToolbar\"},{\"attributes\":{\"fill_alpha\":{\"value\":0.1},\"fill_color\":{\"value\":\"#1f77b4\"},\"line_alpha\":{\"value\":0.1},\"line_color\":{\"value\":\"#1f77b4\"},\"top\":{\"field\":\"flux\"},\"width\":{\"value\":0.9},\"x\":{\"field\":\"band\"}},\"id\":\"116fb619-ed9c-48db-a68f-58b23d8f1ff8\",\"type\":\"VBar\"},{\"attributes\":{},\"id\":\"52bbc3f8-40f1-4d7f-8a37-a3ae57ca0454\",\"type\":\"BasicTicker\"},{\"attributes\":{},\"id\":\"b2eea119-dea2-4318-81a0-9286af3a3231\",\"type\":\"UnionRenderers\"},{\"attributes\":{\"bottom_units\":\"screen\",\"fill_alpha\":{\"value\":0.5},\"fill_color\":{\"value\":\"lightgrey\"},\"left_units\":\"screen\",\"level\":\"overlay\",\"line_alpha\":{\"value\":1.0},\"line_color\":{\"value\":\"black\"},\"line_dash\":[4,4],\"line_width\":{\"value\":2},\"plot\":null,\"render_mode\":\"css\",\"right_units\":\"screen\",\"top_units\":\"screen\"},\"id\":\"152b1347-75b0-4e60-ac6b-7d191c9d188a\",\"type\":\"BoxAnnotation\"},{\"attributes\":{},\"id\":\"dc4ba3e0-d0ad-4c74-b792-fa0f2e28da76\",\"type\":\"BasicTickFormatter\"},{\"attributes\":{},\"id\":\"e48436fa-7907-4281-ae4f-78e3a569f3ed\",\"type\":\"PanTool\"},{\"attributes\":{\"data_source\":{\"id\":\"5fb27ca7-1b9d-4fd4-b7a9-38f00e7be93c\",\"type\":\"ColumnDataSource\"},\"glyph\":{\"id\":\"3ff16f15-a914-4e66-887c-3b2c0437c0cd\",\"type\":\"VBar\"},\"hover_glyph\":null,\"muted_glyph\":null,\"nonselection_glyph\":{\"id\":\"116fb619-ed9c-48db-a68f-58b23d8f1ff8\",\"type\":\"VBar\"},\"selection_glyph\":null,\"view\":{\"id\":\"2596e94d-0e92-4b4c-867f-86b0d2a7c290\",\"type\":\"CDSView\"}},\"id\":\"02f3f321-8646-4510-b006-f01da3711a0e\",\"type\":\"GlyphRenderer\"},{\"attributes\":{},\"id\":\"2dbd140d-0be3-4091-9b0d-e62a9f667137\",\"type\":\"UnionRenderers\"},{\"attributes\":{},\"id\":\"1ae1885c-93ed-43d7-b1d8-d9d9172dc322\",\"type\":\"WheelZoomTool\"},{\"attributes\":{\"overlay\":{\"id\":\"152b1347-75b0-4e60-ac6b-7d191c9d188a\",\"type\":\"BoxAnnotation\"}},\"id\":\"118e63ea-d739-4899-a217-5bda12bf46e7\",\"type\":\"BoxZoomTool\"},{\"attributes\":{\"plot\":null,\"text\":\"Atmosphere heating. CLIRAD - CRD.\"},\"id\":\"0664b1dc-8493-40e3-93ff-0e6585a88139\",\"type\":\"Title\"},{\"attributes\":{},\"id\":\"4b0579ed-a87b-4f20-9269-b2fed151d9af\",\"type\":\"SaveTool\"},{\"attributes\":{},\"id\":\"78d175e8-35c0-4f72-8a0d-2fc52d45c9ff\",\"type\":\"SaveTool\"},{\"attributes\":{},\"id\":\"64150079-4ba6-45e1-bca5-e1ffa348db04\",\"type\":\"ResetTool\"},{\"attributes\":{},\"id\":\"d842aedf-d6d1-4d74-98e7-65a12718ae1e\",\"type\":\"HelpTool\"},{\"attributes\":{\"dimension\":1,\"plot\":{\"id\":\"54941420-ccbe-4660-940e-3b62e29085d9\",\"subtype\":\"Figure\",\"type\":\"Plot\"},\"ticker\":{\"id\":\"52bbc3f8-40f1-4d7f-8a37-a3ae57ca0454\",\"type\":\"BasicTicker\"}},\"id\":\"f1cf23c8-7a40-44ff-b108-3e8219b4596b\",\"type\":\"Grid\"},{\"attributes\":{},\"id\":\"448253a7-0d93-4998-b6c1-d6675699c339\",\"type\":\"Selection\"},{\"attributes\":{\"source\":{\"id\":\"5fb27ca7-1b9d-4fd4-b7a9-38f00e7be93c\",\"type\":\"ColumnDataSource\"}},\"id\":\"2596e94d-0e92-4b4c-867f-86b0d2a7c290\",\"type\":\"CDSView\"},{\"attributes\":{},\"id\":\"ce96ce90-7a61-4bef-95a4-dc31d1ad87b2\",\"type\":\"Selection\"},{\"attributes\":{\"axis_label\":\"spectral band\",\"formatter\":{\"id\":\"508bb00e-490a-494c-871b-03fc9ffe52ab\",\"type\":\"CategoricalTickFormatter\"},\"plot\":{\"id\":\"54941420-ccbe-4660-940e-3b62e29085d9\",\"subtype\":\"Figure\",\"type\":\"Plot\"},\"ticker\":{\"id\":\"728caaf2-4797-40bb-9cbe-0fbbe10203a3\",\"type\":\"CategoricalTicker\"}},\"id\":\"f3f5587b-35a3-446b-a4c6-ceebc1f5dd64\",\"type\":\"CategoricalAxis\"},{\"attributes\":{\"below\":[{\"id\":\"f3f5587b-35a3-446b-a4c6-ceebc1f5dd64\",\"type\":\"CategoricalAxis\"}],\"left\":[{\"id\":\"bd372e0e-d192-4f12-a256-283917fbe4e7\",\"type\":\"LinearAxis\"}],\"plot_height\":300,\"plot_width\":300,\"renderers\":[{\"id\":\"f3f5587b-35a3-446b-a4c6-ceebc1f5dd64\",\"type\":\"CategoricalAxis\"},{\"id\":\"c504b99b-d55b-4a5b-925c-11cc3e598591\",\"type\":\"Grid\"},{\"id\":\"bd372e0e-d192-4f12-a256-283917fbe4e7\",\"type\":\"LinearAxis\"},{\"id\":\"f1cf23c8-7a40-44ff-b108-3e8219b4596b\",\"type\":\"Grid\"},{\"id\":\"63078086-a2a8-41e6-8301-961f364f5cc3\",\"type\":\"BoxAnnotation\"},{\"id\":\"6e7c3835-f3f9-4579-ac06-d080bad97402\",\"type\":\"GlyphRenderer\"}],\"title\":{\"id\":\"0664b1dc-8493-40e3-93ff-0e6585a88139\",\"type\":\"Title\"},\"toolbar\":{\"id\":\"662a9786-3022-4889-892f-b76252fad678\",\"type\":\"Toolbar\"},\"toolbar_location\":null,\"x_range\":{\"id\":\"21288420-b73f-4a48-ba2b-3fc94face400\",\"type\":\"FactorRange\"},\"x_scale\":{\"id\":\"6c252ddd-6529-4b54-9ed6-cd8891b2b07f\",\"type\":\"CategoricalScale\"},\"y_range\":{\"id\":\"1b1707b4-cc55-40b9-9ef4-27e2277c9397\",\"type\":\"DataRange1d\"},\"y_scale\":{\"id\":\"eb2dd18d-fc98-43d9-a268-21666782e851\",\"type\":\"LinearScale\"}},\"id\":\"54941420-ccbe-4660-940e-3b62e29085d9\",\"subtype\":\"Figure\",\"type\":\"Plot\"},{\"attributes\":{\"callback\":null,\"data\":{\"band\":[\"3\",\"9\"],\"flux\":{\"__ndarray__\":\"AGTJBHjilL8A+GsBjRGpPw==\",\"dtype\":\"float64\",\"shape\":[2]}},\"selected\":{\"id\":\"448253a7-0d93-4998-b6c1-d6675699c339\",\"type\":\"Selection\"},\"selection_policy\":{\"id\":\"2dbd140d-0be3-4091-9b0d-e62a9f667137\",\"type\":\"UnionRenderers\"}},\"id\":\"5fb27ca7-1b9d-4fd4-b7a9-38f00e7be93c\",\"type\":\"ColumnDataSource\"},{\"attributes\":{\"source\":{\"id\":\"b49e5992-c0b9-40f6-bab9-0690d0087a85\",\"type\":\"ColumnDataSource\"}},\"id\":\"3afa7902-f52e-4ecc-a2e9-701298bdbfe3\",\"type\":\"CDSView\"},{\"attributes\":{\"callback\":null},\"id\":\"1b1707b4-cc55-40b9-9ef4-27e2277c9397\",\"type\":\"DataRange1d\"},{\"attributes\":{},\"id\":\"49822f5b-925f-4523-aac4-f950849b03bd\",\"type\":\"BasicTickFormatter\"},{\"attributes\":{\"data_source\":{\"id\":\"b49e5992-c0b9-40f6-bab9-0690d0087a85\",\"type\":\"ColumnDataSource\"},\"glyph\":{\"id\":\"94c6c450-46eb-4944-b463-99afba793686\",\"type\":\"VBar\"},\"hover_glyph\":null,\"muted_glyph\":null,\"nonselection_glyph\":{\"id\":\"ab82bd94-fc93-46b4-87d1-32b787bcdd49\",\"type\":\"VBar\"},\"selection_glyph\":null,\"view\":{\"id\":\"3afa7902-f52e-4ecc-a2e9-701298bdbfe3\",\"type\":\"CDSView\"}},\"id\":\"6e7c3835-f3f9-4579-ac06-d080bad97402\",\"type\":\"GlyphRenderer\"},{\"attributes\":{\"callback\":null,\"data\":{\"band\":[\"3\",\"9\"],\"flux\":{\"__ndarray__\":\"QLSaQ4y2kj/AU1FhEWiZPw==\",\"dtype\":\"float64\",\"shape\":[2]}},\"selected\":{\"id\":\"ce96ce90-7a61-4bef-95a4-dc31d1ad87b2\",\"type\":\"Selection\"},\"selection_policy\":{\"id\":\"b2eea119-dea2-4318-81a0-9286af3a3231\",\"type\":\"UnionRenderers\"}},\"id\":\"a741f60b-07e3-4505-8fc0-e457826b1e3c\",\"type\":\"ColumnDataSource\"},{\"attributes\":{},\"id\":\"3aae8f14-29e6-4234-8146-f673e860f958\",\"type\":\"WheelZoomTool\"},{\"attributes\":{\"below\":[{\"id\":\"20ff8ed9-60e1-43d1-b300-1f5354686b37\",\"type\":\"CategoricalAxis\"}],\"left\":[{\"id\":\"400a2684-6e7c-4ae6-bf3b-7cac857c0da3\",\"type\":\"LinearAxis\"}],\"plot_height\":300,\"plot_width\":300,\"renderers\":[{\"id\":\"20ff8ed9-60e1-43d1-b300-1f5354686b37\",\"type\":\"CategoricalAxis\"},{\"id\":\"d876499d-f96d-41e3-a870-e4ff0cd44d4e\",\"type\":\"Grid\"},{\"id\":\"400a2684-6e7c-4ae6-bf3b-7cac857c0da3\",\"type\":\"LinearAxis\"},{\"id\":\"762df64f-5921-46e3-ab45-b2e0c294557a\",\"type\":\"Grid\"},{\"id\":\"d5dc9b6d-8732-4a58-8336-9a6455974a53\",\"type\":\"BoxAnnotation\"},{\"id\":\"f8241755-54fc-4629-ba44-900b6b9ff65b\",\"type\":\"GlyphRenderer\"}],\"title\":{\"id\":\"ff45d3f5-a557-4eea-bcf8-83a3b41b6a32\",\"type\":\"Title\"},\"toolbar\":{\"id\":\"09c92664-e3d9-491f-8d01-5fefde9eba6e\",\"type\":\"Toolbar\"},\"toolbar_location\":null,\"x_range\":{\"id\":\"a711d222-ace4-4bde-82fe-d9179c33e5cb\",\"type\":\"FactorRange\"},\"x_scale\":{\"id\":\"2454fe5d-59f6-4e21-9261-10dbb58c9d41\",\"type\":\"CategoricalScale\"},\"y_range\":{\"id\":\"0bb73308-a3a4-45bf-8d2a-3c08f4084a96\",\"type\":\"DataRange1d\"},\"y_scale\":{\"id\":\"231d7556-ce07-4f6b-a4ce-bdd5b4860a1a\",\"type\":\"LinearScale\"}},\"id\":\"c4ba7bdd-7e22-4639-8896-ab37016be3a7\",\"subtype\":\"Figure\",\"type\":\"Plot\"},{\"attributes\":{},\"id\":\"eb2dd18d-fc98-43d9-a268-21666782e851\",\"type\":\"LinearScale\"},{\"attributes\":{},\"id\":\"fe86a3d0-d2e9-4334-b779-85e73982059d\",\"type\":\"PanTool\"},{\"attributes\":{},\"id\":\"95eff541-7e2a-409d-b39b-703b6502525b\",\"type\":\"Selection\"},{\"attributes\":{},\"id\":\"6c252ddd-6529-4b54-9ed6-cd8891b2b07f\",\"type\":\"CategoricalScale\"},{\"attributes\":{},\"id\":\"b26c58af-fa14-43db-bfc1-72a33f2b783e\",\"type\":\"CategoricalTickFormatter\"},{\"attributes\":{\"fill_color\":{\"value\":\"#1f77b4\"},\"line_color\":{\"value\":\"#1f77b4\"},\"top\":{\"field\":\"flux\"},\"width\":{\"value\":0.9},\"x\":{\"field\":\"band\"}},\"id\":\"94c6c450-46eb-4944-b463-99afba793686\",\"type\":\"VBar\"},{\"attributes\":{\"callback\":null,\"factors\":[\"3\",\"9\"]},\"id\":\"21288420-b73f-4a48-ba2b-3fc94face400\",\"type\":\"FactorRange\"},{\"attributes\":{},\"id\":\"38eacd22-95a5-471d-b5fa-1c194d6d3147\",\"type\":\"CategoricalTickFormatter\"},{\"attributes\":{},\"id\":\"50a4a5e0-3612-4f00-9e08-0b9ef1b79c75\",\"type\":\"UnionRenderers\"},{\"attributes\":{\"children\":[{\"id\":\"37c68606-8b2b-4f92-aaef-be0a31c3c1e5\",\"subtype\":\"Figure\",\"type\":\"Plot\"},{\"id\":\"c4ba7bdd-7e22-4639-8896-ab37016be3a7\",\"subtype\":\"Figure\",\"type\":\"Plot\"},{\"id\":\"54941420-ccbe-4660-940e-3b62e29085d9\",\"subtype\":\"Figure\",\"type\":\"Plot\"}]},\"id\":\"2ebe591d-dc05-4703-bc76-017d8b696158\",\"type\":\"Row\"},{\"attributes\":{\"bottom_units\":\"screen\",\"fill_alpha\":{\"value\":0.5},\"fill_color\":{\"value\":\"lightgrey\"},\"left_units\":\"screen\",\"level\":\"overlay\",\"line_alpha\":{\"value\":1.0},\"line_color\":{\"value\":\"black\"},\"line_dash\":[4,4],\"line_width\":{\"value\":2},\"plot\":null,\"render_mode\":\"css\",\"right_units\":\"screen\",\"top_units\":\"screen\"},\"id\":\"63078086-a2a8-41e6-8301-961f364f5cc3\",\"type\":\"BoxAnnotation\"}],\"root_ids\":[\"66ac1900-a678-47b2-9698-2f6efef85de5\"]},\"title\":\"Bokeh Application\",\"version\":\"0.12.16\"}};\n",
       "  var render_items = [{\"docid\":\"59358244-0d4c-48fd-b992-f11f85d13996\",\"elementid\":\"9a473a01-8e47-4444-b1db-344b4ee84ba8\",\"modelid\":\"66ac1900-a678-47b2-9698-2f6efef85de5\"}];\n",
       "  root.Bokeh.embed.embed_items_notebook(docs_json, render_items);\n",
       "\n",
       "  }\n",
       "  if (root.Bokeh !== undefined) {\n",
       "    embed_document(root);\n",
       "  } else {\n",
       "    var attempts = 0;\n",
       "    var timer = setInterval(function(root) {\n",
       "      if (root.Bokeh !== undefined) {\n",
       "        embed_document(root);\n",
       "        clearInterval(timer);\n",
       "      }\n",
       "      attempts++;\n",
       "      if (attempts > 100) {\n",
       "        console.log(\"Bokeh: ERROR: Unable to run BokehJS code because BokehJS library is missing\")\n",
       "        clearInterval(timer);\n",
       "      }\n",
       "    }, 10, root)\n",
       "  }\n",
       "})(window);"
      ],
      "application/vnd.bokehjs_exec.v0+json": ""
     },
     "metadata": {
      "application/vnd.bokehjs_exec.v0+json": {
       "id": "66ac1900-a678-47b2-9698-2f6efef85de5"
      }
     },
     "output_type": "display_data"
    },
    {
     "data": {
      "text/markdown": [
       "*FIGURE.* Difference between CLIRAD and CRD in TOA, SFC and net atmosphere flux, in each spectral band."
      ],
      "text/plain": [
       "<IPython.core.display.Markdown object>"
      ]
     },
     "metadata": {},
     "output_type": "display_data"
    },
    {
     "data": {
      "text/html": [
       "<div>\n",
       "<style scoped>\n",
       "    .dataframe tbody tr th:only-of-type {\n",
       "        vertical-align: middle;\n",
       "    }\n",
       "\n",
       "    .dataframe tbody tr th {\n",
       "        vertical-align: top;\n",
       "    }\n",
       "\n",
       "    .dataframe thead th {\n",
       "        text-align: right;\n",
       "    }\n",
       "</style>\n",
       "<table border=\"1\" class=\"dataframe\">\n",
       "  <thead>\n",
       "    <tr style=\"text-align: right;\">\n",
       "      <th></th>\n",
       "      <th></th>\n",
       "      <th>TOA up</th>\n",
       "      <th>SFC down</th>\n",
       "      <th>ATM heating</th>\n",
       "      <th>tropo up</th>\n",
       "      <th>tropo down</th>\n",
       "      <th>tropo net</th>\n",
       "    </tr>\n",
       "  </thead>\n",
       "  <tbody>\n",
       "    <tr>\n",
       "      <th rowspan=\"2\" valign=\"top\">Sum over band</th>\n",
       "      <th>CLIRAD - CRD</th>\n",
       "      <td>0.03</td>\n",
       "      <td>0.04</td>\n",
       "      <td>-0.01</td>\n",
       "      <td>-0.07</td>\n",
       "      <td>-0.02</td>\n",
       "      <td>-0.09</td>\n",
       "    </tr>\n",
       "    <tr>\n",
       "      <th>CRD</th>\n",
       "      <td>-31.71</td>\n",
       "      <td>3.68</td>\n",
       "      <td>-2.24</td>\n",
       "      <td>-32.23</td>\n",
       "      <td>0.60</td>\n",
       "      <td>-31.63</td>\n",
       "    </tr>\n",
       "    <tr>\n",
       "      <th rowspan=\"2\" valign=\"top\">Band 3</th>\n",
       "      <th>CLIRAD - CRD</th>\n",
       "      <td>-0.02</td>\n",
       "      <td>0.02</td>\n",
       "      <td>-0.04</td>\n",
       "      <td>-0.02</td>\n",
       "      <td>-0.02</td>\n",
       "      <td>-0.05</td>\n",
       "    </tr>\n",
       "    <tr>\n",
       "      <th>CRD</th>\n",
       "      <td>-23.03</td>\n",
       "      <td>1.87</td>\n",
       "      <td>-1.31</td>\n",
       "      <td>-23.30</td>\n",
       "      <td>0.41</td>\n",
       "      <td>-22.88</td>\n",
       "    </tr>\n",
       "    <tr>\n",
       "      <th rowspan=\"2\" valign=\"top\">Band 9</th>\n",
       "      <th>CLIRAD - CRD</th>\n",
       "      <td>0.05</td>\n",
       "      <td>0.02</td>\n",
       "      <td>0.02</td>\n",
       "      <td>-0.04</td>\n",
       "      <td>-0.00</td>\n",
       "      <td>-0.05</td>\n",
       "    </tr>\n",
       "    <tr>\n",
       "      <th>CRD</th>\n",
       "      <td>-8.68</td>\n",
       "      <td>1.81</td>\n",
       "      <td>-0.93</td>\n",
       "      <td>-8.94</td>\n",
       "      <td>0.19</td>\n",
       "      <td>-8.75</td>\n",
       "    </tr>\n",
       "  </tbody>\n",
       "</table>\n",
       "</div>"
      ],
      "text/plain": [
       "                            TOA up  SFC down  ATM heating  tropo up  \\\n",
       "Sum over band CLIRAD - CRD    0.03      0.04        -0.01     -0.07   \n",
       "              CRD           -31.71      3.68        -2.24    -32.23   \n",
       "Band 3        CLIRAD - CRD   -0.02      0.02        -0.04     -0.02   \n",
       "              CRD           -23.03      1.87        -1.31    -23.30   \n",
       "Band 9        CLIRAD - CRD    0.05      0.02         0.02     -0.04   \n",
       "              CRD            -8.68      1.81        -0.93     -8.94   \n",
       "\n",
       "                            tropo down  tropo net  \n",
       "Sum over band CLIRAD - CRD       -0.02      -0.09  \n",
       "              CRD                 0.60     -31.63  \n",
       "Band 3        CLIRAD - CRD       -0.02      -0.05  \n",
       "              CRD                 0.41     -22.88  \n",
       "Band 9        CLIRAD - CRD       -0.00      -0.05  \n",
       "              CRD                 0.19      -8.75  "
      ]
     },
     "metadata": {},
     "output_type": "display_data"
    },
    {
     "data": {
      "text/markdown": [
       "*TABLE.* Difference between CLIRAD and CRD fluxes at various atmosphere levels."
      ],
      "text/plain": [
       "<IPython.core.display.Markdown object>"
      ]
     },
     "metadata": {},
     "output_type": "display_data"
    },
    {
     "data": {
      "text/html": [
       "<a id=\"Parameters_of_runs._trp\"></a>"
      ],
      "text/plain": [
       "<IPython.core.display.HTML object>"
      ]
     },
     "metadata": {},
     "output_type": "display_data"
    },
    {
     "data": {
      "text/markdown": [
       "# Parameters of runs. trp"
      ],
      "text/plain": [
       "<IPython.core.display.Markdown object>"
      ]
     },
     "metadata": {},
     "output_type": "display_data"
    },
    {
     "data": {
      "text/html": [
       "<div>\n",
       "<style scoped>\n",
       "    .dataframe tbody tr th:only-of-type {\n",
       "        vertical-align: middle;\n",
       "    }\n",
       "\n",
       "    .dataframe tbody tr th {\n",
       "        vertical-align: top;\n",
       "    }\n",
       "\n",
       "    .dataframe thead tr th {\n",
       "        text-align: left;\n",
       "    }\n",
       "</style>\n",
       "<table border=\"1\" class=\"dataframe\">\n",
       "  <thead>\n",
       "    <tr>\n",
       "      <th></th>\n",
       "      <th>clirad-lw</th>\n",
       "      <th colspan=\"2\" halign=\"left\">lblnew-bestfit lw</th>\n",
       "    </tr>\n",
       "    <tr>\n",
       "      <th></th>\n",
       "      <th>:D</th>\n",
       "      <th>band3a n2o</th>\n",
       "      <th>band7 n2o</th>\n",
       "    </tr>\n",
       "  </thead>\n",
       "  <tbody>\n",
       "    <tr>\n",
       "      <th>atmpro</th>\n",
       "      <td>trp</td>\n",
       "      <td>trp</td>\n",
       "      <td>trp</td>\n",
       "    </tr>\n",
       "    <tr>\n",
       "      <th>band</th>\n",
       "      <td>[3, 9]</td>\n",
       "      <td>3a</td>\n",
       "      <td>7</td>\n",
       "    </tr>\n",
       "    <tr>\n",
       "      <th>commitnumber</th>\n",
       "      <td>1013f91</td>\n",
       "      <td>5014a19</td>\n",
       "      <td>5014a19</td>\n",
       "    </tr>\n",
       "    <tr>\n",
       "      <th>conc</th>\n",
       "      <td>-</td>\n",
       "      <td>3.2e-07</td>\n",
       "      <td>3.2e-07</td>\n",
       "    </tr>\n",
       "    <tr>\n",
       "      <th>dv</th>\n",
       "      <td>-</td>\n",
       "      <td>0.001</td>\n",
       "      <td>0.001</td>\n",
       "    </tr>\n",
       "    <tr>\n",
       "      <th>klin</th>\n",
       "      <td>-</td>\n",
       "      <td>2.22e-20</td>\n",
       "      <td>2.22e-20</td>\n",
       "    </tr>\n",
       "    <tr>\n",
       "      <th>molecule</th>\n",
       "      <td>{'n2o': 3.2e-07}</td>\n",
       "      <td>n2o</td>\n",
       "      <td>n2o</td>\n",
       "    </tr>\n",
       "    <tr>\n",
       "      <th>ng_adju</th>\n",
       "      <td>-</td>\n",
       "      <td>[0, 0]</td>\n",
       "      <td>[0, 0]</td>\n",
       "    </tr>\n",
       "    <tr>\n",
       "      <th>ng_refs</th>\n",
       "      <td>-</td>\n",
       "      <td>[1, 2]</td>\n",
       "      <td>[2, 2]</td>\n",
       "    </tr>\n",
       "    <tr>\n",
       "      <th>nv</th>\n",
       "      <td>-</td>\n",
       "      <td>1000</td>\n",
       "      <td>1000</td>\n",
       "    </tr>\n",
       "    <tr>\n",
       "      <th>option_compute_btable</th>\n",
       "      <td>-</td>\n",
       "      <td>0</td>\n",
       "      <td>0</td>\n",
       "    </tr>\n",
       "    <tr>\n",
       "      <th>option_compute_ktable</th>\n",
       "      <td>-</td>\n",
       "      <td>0</td>\n",
       "      <td>0</td>\n",
       "    </tr>\n",
       "    <tr>\n",
       "      <th>option_wgt_flux</th>\n",
       "      <td>-</td>\n",
       "      <td>1</td>\n",
       "      <td>1</td>\n",
       "    </tr>\n",
       "    <tr>\n",
       "      <th>option_wgt_k</th>\n",
       "      <td>-</td>\n",
       "      <td>1</td>\n",
       "      <td>1</td>\n",
       "    </tr>\n",
       "    <tr>\n",
       "      <th>ref_pts</th>\n",
       "      <td>-</td>\n",
       "      <td>[[1, 250], [500, 250]]</td>\n",
       "      <td>[[1, 250], [500, 250]]</td>\n",
       "    </tr>\n",
       "    <tr>\n",
       "      <th>tsfc</th>\n",
       "      <td>300</td>\n",
       "      <td>300</td>\n",
       "      <td>300</td>\n",
       "    </tr>\n",
       "    <tr>\n",
       "      <th>vmax</th>\n",
       "      <td>-</td>\n",
       "      <td>620</td>\n",
       "      <td>1380</td>\n",
       "    </tr>\n",
       "    <tr>\n",
       "      <th>vmin</th>\n",
       "      <td>-</td>\n",
       "      <td>540</td>\n",
       "      <td>1215</td>\n",
       "    </tr>\n",
       "    <tr>\n",
       "      <th>w_diffuse</th>\n",
       "      <td>-</td>\n",
       "      <td>[[1.8], [1.66, 1.8]]</td>\n",
       "      <td>[[1.8, 1.66], [1.6, 1.8]]</td>\n",
       "    </tr>\n",
       "    <tr>\n",
       "      <th>wgt</th>\n",
       "      <td>-</td>\n",
       "      <td>[[0.9], [0.5, 0.95]]</td>\n",
       "      <td>[[0.6, 0.5], [0.6, 0.9]]</td>\n",
       "    </tr>\n",
       "  </tbody>\n",
       "</table>\n",
       "</div>"
      ],
      "text/plain": [
       "                              clirad-lw       lblnew-bestfit lw  \\\n",
       "                                     :D              band3a n2o   \n",
       "atmpro                              trp                     trp   \n",
       "band                             [3, 9]                      3a   \n",
       "commitnumber                    1013f91                 5014a19   \n",
       "conc                                  -                 3.2e-07   \n",
       "dv                                    -                   0.001   \n",
       "klin                                  -                2.22e-20   \n",
       "molecule               {'n2o': 3.2e-07}                     n2o   \n",
       "ng_adju                               -                  [0, 0]   \n",
       "ng_refs                               -                  [1, 2]   \n",
       "nv                                    -                    1000   \n",
       "option_compute_btable                 -                       0   \n",
       "option_compute_ktable                 -                       0   \n",
       "option_wgt_flux                       -                       1   \n",
       "option_wgt_k                          -                       1   \n",
       "ref_pts                               -  [[1, 250], [500, 250]]   \n",
       "tsfc                                300                     300   \n",
       "vmax                                  -                     620   \n",
       "vmin                                  -                     540   \n",
       "w_diffuse                             -    [[1.8], [1.66, 1.8]]   \n",
       "wgt                                   -    [[0.9], [0.5, 0.95]]   \n",
       "\n",
       "                                                  \n",
       "                                       band7 n2o  \n",
       "atmpro                                       trp  \n",
       "band                                           7  \n",
       "commitnumber                             5014a19  \n",
       "conc                                     3.2e-07  \n",
       "dv                                         0.001  \n",
       "klin                                    2.22e-20  \n",
       "molecule                                     n2o  \n",
       "ng_adju                                   [0, 0]  \n",
       "ng_refs                                   [2, 2]  \n",
       "nv                                          1000  \n",
       "option_compute_btable                          0  \n",
       "option_compute_ktable                          0  \n",
       "option_wgt_flux                                1  \n",
       "option_wgt_k                                   1  \n",
       "ref_pts                   [[1, 250], [500, 250]]  \n",
       "tsfc                                         300  \n",
       "vmax                                        1380  \n",
       "vmin                                        1215  \n",
       "w_diffuse              [[1.8, 1.66], [1.6, 1.8]]  \n",
       "wgt                     [[0.6, 0.5], [0.6, 0.9]]  "
      ]
     },
     "metadata": {},
     "output_type": "display_data"
    },
    {
     "data": {
      "text/html": [
       "<a id=\"Cooling_rates._trp.\"></a>"
      ],
      "text/plain": [
       "<IPython.core.display.HTML object>"
      ]
     },
     "metadata": {},
     "output_type": "display_data"
    },
    {
     "data": {
      "text/markdown": [
       "# Cooling rates. trp."
      ],
      "text/plain": [
       "<IPython.core.display.Markdown object>"
      ]
     },
     "metadata": {},
     "output_type": "display_data"
    },
    {
     "data": {
      "text/html": [
       "\n",
       "<div class=\"bk-root\">\n",
       "    <div class=\"bk-plotdiv\" id=\"f5ef99f7-d58f-471b-b2c4-95f388e440b9\"></div>\n",
       "</div>"
      ]
     },
     "metadata": {},
     "output_type": "display_data"
    },
    {
     "data": {
      "application/javascript": [
       "(function(root) {\n",
       "  function embed_document(root) {\n",
       "    \n",
       "  var docs_json = {\"391a380d-8d8f-4315-b764-376a330b5b70\":{\"roots\":{\"references\":[{\"attributes\":{},\"id\":\"6abc408d-7e42-4280-b7bf-9237f4ba38a9\",\"type\":\"Selection\"},{\"attributes\":{\"callback\":null,\"end\":0.01,\"start\":1020},\"id\":\"12d4f695-f6ec-44b1-beb6-d7e482143c77\",\"type\":\"Range1d\"},{\"attributes\":{\"callback\":null,\"end\":0.01,\"start\":1020},\"id\":\"54429c62-2761-42b6-9012-6793a03a4e20\",\"type\":\"Range1d\"},{\"attributes\":{\"items\":[{\"id\":\"51220f6b-a30c-4f7a-942f-8e47195e8e23\",\"type\":\"LegendItem\"},{\"id\":\"5b8e6fea-ef74-478d-afe0-d27b79913413\",\"type\":\"LegendItem\"}],\"label_text_font_size\":{\"value\":\"8pt\"},\"location\":\"top_center\",\"orientation\":\"horizontal\",\"plot\":{\"id\":\"e1601a34-acb1-4e71-be21-5106bf6f0d1c\",\"subtype\":\"Figure\",\"type\":\"Plot\"}},\"id\":\"e6e11c9c-d8cc-4571-9032-02e3551a12d4\",\"type\":\"Legend\"},{\"attributes\":{},\"id\":\"02bca560-7dd2-416b-ac1b-a3d591d0320e\",\"type\":\"Selection\"},{\"attributes\":{\"children\":[{\"id\":\"c997e957-20ed-4b08-a067-da41dfc72caa\",\"type\":\"ToolbarBox\"},{\"id\":\"f8ed03a4-031c-4a8d-a3bf-2ec1a6ddf9b3\",\"type\":\"Column\"}]},\"id\":\"4ddf7ad8-80e9-407d-bc7b-58ee4512b508\",\"type\":\"Column\"},{\"attributes\":{\"toolbar\":{\"id\":\"223c2286-d1da-4ffd-8adf-70bef390397e\",\"type\":\"ProxyToolbar\"},\"toolbar_location\":\"above\"},\"id\":\"c997e957-20ed-4b08-a067-da41dfc72caa\",\"type\":\"ToolbarBox\"},{\"attributes\":{\"callback\":null,\"end\":0.10369171092,\"start\":-0.04789558092},\"id\":\"fa2ab959-deed-4b3c-8cb6-43dd59f1e046\",\"type\":\"Range1d\"},{\"attributes\":{\"source\":{\"id\":\"db9c700f-437e-4a98-8342-1756b1eb7b2e\",\"type\":\"ColumnDataSource\"}},\"id\":\"f371f464-aa64-4ec4-bfcc-113cfbd92be9\",\"type\":\"CDSView\"},{\"attributes\":{},\"id\":\"77a32553-753b-4ba2-98cc-382f10035a35\",\"type\":\"UnionRenderers\"},{\"attributes\":{},\"id\":\"e9d07d24-e72a-4a65-8fc9-2a673ed90ca3\",\"type\":\"Selection\"},{\"attributes\":{},\"id\":\"12062fc7-793d-42a6-8873-f29d66cff9aa\",\"type\":\"BasicTickFormatter\"},{\"attributes\":{},\"id\":\"b1630ec5-0217-4b9e-ab8c-d3a44108ea54\",\"type\":\"Selection\"},{\"attributes\":{\"ticker\":null},\"id\":\"cb1c1eee-f5b4-4bdb-a5f8-daf02d0a6972\",\"type\":\"LogTickFormatter\"},{\"attributes\":{},\"id\":\"d063cee5-d4a6-4799-af29-36a75a47daa1\",\"type\":\"UnionRenderers\"},{\"attributes\":{\"tools\":[{\"id\":\"4a8d1fc8-cc80-413e-907b-350f9050650e\",\"type\":\"PanTool\"},{\"id\":\"91be05cd-b1bf-41e5-b63f-a85ead55bbe8\",\"type\":\"WheelZoomTool\"},{\"id\":\"ce0b4e2d-ce17-4957-b818-aedb95dddcde\",\"type\":\"BoxZoomTool\"},{\"id\":\"c2a3e913-e471-45d9-bbe4-04d8ddc14da1\",\"type\":\"SaveTool\"},{\"id\":\"83732fd2-1aea-43e1-8524-13b2aed24bfb\",\"type\":\"ResetTool\"},{\"id\":\"a74c5e20-c0fb-442a-be99-d55fe0f541fe\",\"type\":\"HelpTool\"},{\"id\":\"aaf4dabc-7f3e-4943-84ff-bb7978d1ccfa\",\"type\":\"PanTool\"},{\"id\":\"3332ff9e-90b6-4b1a-8f49-14dec9535c98\",\"type\":\"WheelZoomTool\"},{\"id\":\"53a9be52-23db-4c8b-a9e3-e6b1fbe949a8\",\"type\":\"BoxZoomTool\"},{\"id\":\"6f2cbb30-294a-4fec-8f76-fe002eb83639\",\"type\":\"SaveTool\"},{\"id\":\"31026f9d-c785-4569-91d8-3b07c49742fa\",\"type\":\"ResetTool\"},{\"id\":\"25b9129e-ab7b-4377-ad43-d30687611590\",\"type\":\"HelpTool\"},{\"id\":\"65afd5e4-f83f-4ea1-9923-5d3bfac63a42\",\"type\":\"PanTool\"},{\"id\":\"e6686985-9bec-44ac-9fb8-b2e09ba67183\",\"type\":\"WheelZoomTool\"},{\"id\":\"76a9a689-89e1-4f76-b190-1a2ef612a02f\",\"type\":\"BoxZoomTool\"},{\"id\":\"c2d7b4f6-41b2-4fb3-b65c-133170c7b670\",\"type\":\"SaveTool\"},{\"id\":\"084198a7-1fa2-4dd3-ad9a-93ae9ae75482\",\"type\":\"ResetTool\"},{\"id\":\"4ccef970-e871-4e99-bf08-21cdb39cf5ef\",\"type\":\"HelpTool\"}]},\"id\":\"223c2286-d1da-4ffd-8adf-70bef390397e\",\"type\":\"ProxyToolbar\"},{\"attributes\":{},\"id\":\"c096e5e9-f3ee-4eee-bed7-d3e1b2f66f33\",\"type\":\"UnionRenderers\"},{\"attributes\":{\"data_source\":{\"id\":\"db9c700f-437e-4a98-8342-1756b1eb7b2e\",\"type\":\"ColumnDataSource\"},\"glyph\":{\"id\":\"25a57f62-5d71-4f64-aef6-eab7cde09917\",\"type\":\"Line\"},\"hover_glyph\":null,\"muted_glyph\":null,\"nonselection_glyph\":{\"id\":\"e055b18f-3b0f-47d2-b378-120dbe30f95e\",\"type\":\"Line\"},\"selection_glyph\":null,\"view\":{\"id\":\"f371f464-aa64-4ec4-bfcc-113cfbd92be9\",\"type\":\"CDSView\"}},\"id\":\"421fc83a-268f-4c5e-9300-a471fde8fea0\",\"type\":\"GlyphRenderer\"},{\"attributes\":{},\"id\":\"854979db-1770-4363-a5f1-49f50e854dbf\",\"type\":\"Selection\"},{\"attributes\":{},\"id\":\"5afe5d6b-bc4d-4062-b283-81a4783c756a\",\"type\":\"UnionRenderers\"},{\"attributes\":{},\"id\":\"6ea7564d-3a61-47fe-b741-47416f6521f7\",\"type\":\"Selection\"},{\"attributes\":{\"line_alpha\":0.1,\"line_color\":\"#1f77b4\",\"line_width\":1.5,\"x\":{\"field\":\"x\"},\"y\":{\"field\":\"y\"}},\"id\":\"e055b18f-3b0f-47d2-b378-120dbe30f95e\",\"type\":\"Line\"},{\"attributes\":{},\"id\":\"41beeb2e-4c88-45c4-97a7-a209adbdfc39\",\"type\":\"Selection\"},{\"attributes\":{\"plot\":null,\"text\":\"\"},\"id\":\"bd08fcea-3b72-440a-9e84-31552fe55822\",\"type\":\"Title\"},{\"attributes\":{},\"id\":\"fd8a78d8-a2a5-4095-ae29-d27824b28f3b\",\"type\":\"UnionRenderers\"},{\"attributes\":{\"label\":{\"value\":\"CLIRAD\"},\"renderers\":[{\"id\":\"6b36f752-a43e-4352-a770-a5f9bc31b8fd\",\"type\":\"GlyphRenderer\"}]},\"id\":\"ee8ac531-fe34-4143-8a52-983038da0372\",\"type\":\"LegendItem\"},{\"attributes\":{\"active_drag\":\"auto\",\"active_inspect\":\"auto\",\"active_scroll\":\"auto\",\"active_tap\":\"auto\",\"tools\":[{\"id\":\"4a8d1fc8-cc80-413e-907b-350f9050650e\",\"type\":\"PanTool\"},{\"id\":\"91be05cd-b1bf-41e5-b63f-a85ead55bbe8\",\"type\":\"WheelZoomTool\"},{\"id\":\"ce0b4e2d-ce17-4957-b818-aedb95dddcde\",\"type\":\"BoxZoomTool\"},{\"id\":\"c2a3e913-e471-45d9-bbe4-04d8ddc14da1\",\"type\":\"SaveTool\"},{\"id\":\"83732fd2-1aea-43e1-8524-13b2aed24bfb\",\"type\":\"ResetTool\"},{\"id\":\"a74c5e20-c0fb-442a-be99-d55fe0f541fe\",\"type\":\"HelpTool\"}]},\"id\":\"aad30410-850a-43e8-a12e-7cee39009590\",\"type\":\"Toolbar\"},{\"attributes\":{\"above\":[{\"id\":\"eb9bf0c5-1983-4725-aacd-5b0ca701bd54\",\"type\":\"Legend\"}],\"below\":[{\"id\":\"655543de-2d74-45ef-9d44-5c06d1dddd5a\",\"type\":\"LinearAxis\"}],\"left\":[{\"id\":\"21c8f5a2-8f34-44c9-8dc4-bed2263ed37c\",\"type\":\"LogAxis\"}],\"plot_width\":300,\"renderers\":[{\"id\":\"655543de-2d74-45ef-9d44-5c06d1dddd5a\",\"type\":\"LinearAxis\"},{\"id\":\"1647992a-4f90-47f5-9b0d-3244748c46e2\",\"type\":\"Grid\"},{\"id\":\"21c8f5a2-8f34-44c9-8dc4-bed2263ed37c\",\"type\":\"LogAxis\"},{\"id\":\"3b16b64e-1b4a-47a3-bfe9-acd9bb1c6f69\",\"type\":\"Grid\"},{\"id\":\"febf4e47-51f7-4f12-9588-ae8c7be6aad1\",\"type\":\"BoxAnnotation\"},{\"id\":\"b81beb42-04f8-4e8d-8dbc-88a9fe59bcba\",\"type\":\"GlyphRenderer\"},{\"id\":\"0429bc17-b388-4720-abb1-ff31545ee492\",\"type\":\"GlyphRenderer\"},{\"id\":\"eb9bf0c5-1983-4725-aacd-5b0ca701bd54\",\"type\":\"Legend\"}],\"title\":{\"id\":\"462ce74a-c89d-4d54-a592-d34820b9b03c\",\"type\":\"Title\"},\"toolbar\":{\"id\":\"6da16262-615a-4f76-95ac-c2f750e83333\",\"type\":\"Toolbar\"},\"toolbar_location\":null,\"x_range\":{\"id\":\"ffab1ece-1a33-45fb-8f19-5a25ddbe32c0\",\"type\":\"Range1d\"},\"x_scale\":{\"id\":\"674f5126-6332-409d-b7df-0131dea08b5d\",\"type\":\"LinearScale\"},\"y_range\":{\"id\":\"497aea42-849f-476c-bd8d-510a62c31faf\",\"type\":\"Range1d\"},\"y_scale\":{\"id\":\"5144cd0a-1ec8-481b-8863-e6214f7c67f3\",\"type\":\"LogScale\"}},\"id\":\"22e32114-c075-4c78-a5b5-489e035c35d9\",\"subtype\":\"Figure\",\"type\":\"Plot\"},{\"attributes\":{},\"id\":\"0c600a48-199a-44db-b939-1172053963d2\",\"type\":\"BasicTickFormatter\"},{\"attributes\":{\"data_source\":{\"id\":\"e4d4df0b-01c3-4782-8ce2-5842bd3148cf\",\"type\":\"ColumnDataSource\"},\"glyph\":{\"id\":\"7253d45e-913c-40cc-a5fd-d7311dbb7ae2\",\"type\":\"Circle\"},\"hover_glyph\":null,\"muted_glyph\":null,\"nonselection_glyph\":{\"id\":\"f6c30ec2-b088-4c65-acb5-eae302221f5b\",\"type\":\"Circle\"},\"selection_glyph\":null,\"view\":{\"id\":\"59ace871-7806-47ac-ac8a-72c96fb289eb\",\"type\":\"CDSView\"}},\"id\":\"b81beb42-04f8-4e8d-8dbc-88a9fe59bcba\",\"type\":\"GlyphRenderer\"},{\"attributes\":{\"line_alpha\":0.6,\"line_color\":\"#e41a1c\",\"line_dash\":[6],\"line_width\":5,\"x\":{\"field\":\"x\"},\"y\":{\"field\":\"y\"}},\"id\":\"c53cd00d-b541-4156-9515-148f8100290f\",\"type\":\"Line\"},{\"attributes\":{\"fill_alpha\":{\"value\":0.1},\"fill_color\":{\"value\":\"#1f77b4\"},\"line_alpha\":{\"value\":0.1},\"line_color\":{\"value\":\"#1f77b4\"},\"x\":{\"field\":\"x\"},\"y\":{\"field\":\"y\"}},\"id\":\"f6c30ec2-b088-4c65-acb5-eae302221f5b\",\"type\":\"Circle\"},{\"attributes\":{\"axis_label\":\"pressure [mb]\",\"formatter\":{\"id\":\"cb1c1eee-f5b4-4bdb-a5f8-daf02d0a6972\",\"type\":\"LogTickFormatter\"},\"plot\":{\"id\":\"22e32114-c075-4c78-a5b5-489e035c35d9\",\"subtype\":\"Figure\",\"type\":\"Plot\"},\"ticker\":{\"id\":\"6943cc7a-d98a-42a3-a880-519a0ba29d5e\",\"type\":\"LogTicker\"}},\"id\":\"21c8f5a2-8f34-44c9-8dc4-bed2263ed37c\",\"type\":\"LogAxis\"},{\"attributes\":{\"label\":{\"value\":\"CRD\"},\"renderers\":[{\"id\":\"9dc8866f-ca15-4aac-a56c-1667ec9826f9\",\"type\":\"GlyphRenderer\"},{\"id\":\"65286f61-7c25-4a31-8b79-51f41af346ef\",\"type\":\"GlyphRenderer\"}]},\"id\":\"5b8e6fea-ef74-478d-afe0-d27b79913413\",\"type\":\"LegendItem\"},{\"attributes\":{\"callback\":null,\"data\":{\"x\":{\"__ndarray__\":\"wc8B5Vksn7/kxtLQma6ev3VsvZEOpJ2/KogxcHSSnL/Nx+G4TH2bvzhoYFf2Z5q/7O3jvAdamb9YrRCdak6YvwC2zKoNSpe/eRb6W5pRlr9Br2ZtgG+Vv/9/P7oiqpS/59iC1FQPlL/Pur7T7lSTvwV3QJMtJI2/iqkxWuEwaL+WNqq1V2yJPwiOD6Tq7J4/0BkovWfyqT85sA8qkwGzP0tVRfn5+bk/M5iw+rOVwD9r+QBtzmzBP1qGnMb5qr4/ciXTg+0PuT/0Sj/EcgKzPzDBleIdNqw/ica6a08VpT/+zG1mVNSfP91Ahhof9Zc/X15EP4FVkT+QA25s/DyGPzLZ1gTCU3M/unLCLdjoXr8Z9u6aA32Hv0e7UJCGOZi/4RZsXm4bob9WIfTkQKWiv3Q6s6y00aG/11rwcM0Tob+AiccUzEagv0J20c/2v56/f9IXfNixnL+lCKEhcmqav7xpVolx7Je/FkUTIIw6lb/FuOhoU1eSv7TC3zmfio6/GroLYeELiL8v1AfxDTWBv3MI38IgFnS/ugE8Cxh9VL86tOO8Ve9kP207If/Crno/52eEsEbEhT9cMH6asYOOP+MbznZHzJM/2BYbt+CCmD8yO90j+mKdP5cV51vNMaE/7znYokewoz8ucOvV5wCmP0YtKGeD56c/sPRGJl1PqT8rul6juG2qP/xd4q10mqs/ubjM/HEarT8hVOtqDwSvP4M5jbugobA/qyBM35bdsT+h8/wFPi2zP8ES74f2jbQ/Pnf40Mf/tT+Xziq8gIa3P5rHKbmyKbk/\",\"dtype\":\"float64\",\"shape\":[75]},\"y\":{\"__ndarray__\":\"GhExyth1ND/Sv8nbtpRIP2vylNV0PVE/aTum7souWD/At0SJ8fVgPw3Iuahxymc/MSNhhJWvcD/bTfBN02d3P2zb5nxnaoA/CD5h5MAGhz8NmeH1TyaQP+zrCsc9p5Y/LbKd76fGnz/bLW5ISEmmPww9YvTcQq8/JV2OstnstT8Er5Y7M8G+P0c+r3jqkcU/5h99k6ZBzj88bCIzFzjVP4enV8oyxN0//yH99nXg5D8qOpLLf0jtP5kqGJXUifQ/c9cS8kHP/D+/DpwzojQEQIEmwoanVwxA4lgXt9HgE0BSSZ2AJuIbQAMJih9jjiNA5q4l5INuK0AwTKYKRj0zQNv5fmq8/DpAaCJseHrtQkB/+zpwzoxKQM3MzMzMeFJAZmZmZmZqWEAAAAAAAFxeQM3MzMzMJmJAmpmZmZkfZUBmZmZmZhhoQDMzMzMzEWtAAAAAAAAKbkBmZmZmZoFwQM3MzMzM/XFAMzMzMzN6c0CamZmZmfZ0QAAAAAAAc3ZAZmZmZmbvd0DNzMzMzGt5QDMzMzMz6HpAmpmZmZlkfEAAAAAAAOF9QGZmZmZmXX9AZmZmZuZsgECamZmZGSuBQM3MzMxM6YFAAAAAAICngkAzMzMzs2WDQGZmZmbmI4RAmpmZmRnihEDNzMzMTKCFQAAAAACAXoZAMzMzM7Mch0BmZmZm5tqHQJqZmZkZmYhAzczMzExXiUAAAAAAgBWKQDMzMzOz04pAZmZmZuaRi0CamZmZGVCMQM3MzMxMDo1AAAAAAIDMjUAzMzMzs4qOQGZmZmbmSI9A\",\"dtype\":\"float64\",\"shape\":[75]}},\"selected\":{\"id\":\"e9d07d24-e72a-4a65-8fc9-2a673ed90ca3\",\"type\":\"Selection\"},\"selection_policy\":{\"id\":\"5afe5d6b-bc4d-4062-b283-81a4783c756a\",\"type\":\"UnionRenderers\"}},\"id\":\"9b672c5a-d78b-4f5b-960a-2e67da831d36\",\"type\":\"ColumnDataSource\"},{\"attributes\":{\"data_source\":{\"id\":\"a442bf11-e23d-452b-b24a-f74d5c55d363\",\"type\":\"ColumnDataSource\"},\"glyph\":{\"id\":\"620db60c-28f2-4728-9107-258cf2249ab5\",\"type\":\"Line\"},\"hover_glyph\":null,\"muted_glyph\":null,\"nonselection_glyph\":{\"id\":\"10b86aa3-fcd5-493e-923b-616b32501e62\",\"type\":\"Line\"},\"selection_glyph\":null,\"view\":{\"id\":\"1936667c-0bf1-41d5-bf12-4ab50829efb3\",\"type\":\"CDSView\"}},\"id\":\"6b36f752-a43e-4352-a770-a5f9bc31b8fd\",\"type\":\"GlyphRenderer\"},{\"attributes\":{\"axis_label\":\"cooling rate [K/day]\",\"formatter\":{\"id\":\"d882f7aa-62c4-4328-af2f-edbd87bb21c9\",\"type\":\"BasicTickFormatter\"},\"plot\":{\"id\":\"22e32114-c075-4c78-a5b5-489e035c35d9\",\"subtype\":\"Figure\",\"type\":\"Plot\"},\"ticker\":{\"id\":\"f7cdf5a4-e2e2-4f8f-8d8d-4eb2f658c347\",\"type\":\"BasicTicker\"}},\"id\":\"655543de-2d74-45ef-9d44-5c06d1dddd5a\",\"type\":\"LinearAxis\"},{\"attributes\":{\"callback\":null,\"data\":{\"x\":{\"__ndarray__\":\"wc8B5Vksn7/kxtLQma6ev3VsvZEOpJ2/KogxcHSSnL/Nx+G4TH2bvzhoYFf2Z5q/7O3jvAdamb9YrRCdak6YvwC2zKoNSpe/eRb6W5pRlr9Br2ZtgG+Vv/9/P7oiqpS/59iC1FQPlL/Pur7T7lSTvwV3QJMtJI2/iqkxWuEwaL+WNqq1V2yJPwiOD6Tq7J4/0BkovWfyqT85sA8qkwGzP0tVRfn5+bk/M5iw+rOVwD9r+QBtzmzBP1qGnMb5qr4/ciXTg+0PuT/0Sj/EcgKzPzDBleIdNqw/ica6a08VpT/+zG1mVNSfP91Ahhof9Zc/X15EP4FVkT+QA25s/DyGPzLZ1gTCU3M/unLCLdjoXr8Z9u6aA32Hv0e7UJCGOZi/4RZsXm4bob9WIfTkQKWiv3Q6s6y00aG/11rwcM0Tob+AiccUzEagv0J20c/2v56/f9IXfNixnL+lCKEhcmqav7xpVolx7Je/FkUTIIw6lb/FuOhoU1eSv7TC3zmfio6/GroLYeELiL8v1AfxDTWBv3MI38IgFnS/ugE8Cxh9VL86tOO8Ve9kP207If/Crno/52eEsEbEhT9cMH6asYOOP+MbznZHzJM/2BYbt+CCmD8yO90j+mKdP5cV51vNMaE/7znYokewoz8ucOvV5wCmP0YtKGeD56c/sPRGJl1PqT8rul6juG2qP/xd4q10mqs/ubjM/HEarT8hVOtqDwSvP4M5jbugobA/qyBM35bdsT+h8/wFPi2zP8ES74f2jbQ/Pnf40Mf/tT+Xziq8gIa3P5rHKbmyKbk/\",\"dtype\":\"float64\",\"shape\":[75]},\"y\":{\"__ndarray__\":\"GhExyth1ND/Sv8nbtpRIP2vylNV0PVE/aTum7souWD/At0SJ8fVgPw3Iuahxymc/MSNhhJWvcD/bTfBN02d3P2zb5nxnaoA/CD5h5MAGhz8NmeH1TyaQP+zrCsc9p5Y/LbKd76fGnz/bLW5ISEmmPww9YvTcQq8/JV2OstnstT8Er5Y7M8G+P0c+r3jqkcU/5h99k6ZBzj88bCIzFzjVP4enV8oyxN0//yH99nXg5D8qOpLLf0jtP5kqGJXUifQ/c9cS8kHP/D+/DpwzojQEQIEmwoanVwxA4lgXt9HgE0BSSZ2AJuIbQAMJih9jjiNA5q4l5INuK0AwTKYKRj0zQNv5fmq8/DpAaCJseHrtQkB/+zpwzoxKQM3MzMzMeFJAZmZmZmZqWEAAAAAAAFxeQM3MzMzMJmJAmpmZmZkfZUBmZmZmZhhoQDMzMzMzEWtAAAAAAAAKbkBmZmZmZoFwQM3MzMzM/XFAMzMzMzN6c0CamZmZmfZ0QAAAAAAAc3ZAZmZmZmbvd0DNzMzMzGt5QDMzMzMz6HpAmpmZmZlkfEAAAAAAAOF9QGZmZmZmXX9AZmZmZuZsgECamZmZGSuBQM3MzMxM6YFAAAAAAICngkAzMzMzs2WDQGZmZmbmI4RAmpmZmRnihEDNzMzMTKCFQAAAAACAXoZAMzMzM7Mch0BmZmZm5tqHQJqZmZkZmYhAzczMzExXiUAAAAAAgBWKQDMzMzOz04pAZmZmZuaRi0CamZmZGVCMQM3MzMxMDo1AAAAAAIDMjUAzMzMzs4qOQGZmZmbmSI9A\",\"dtype\":\"float64\",\"shape\":[75]}},\"selected\":{\"id\":\"854979db-1770-4363-a5f1-49f50e854dbf\",\"type\":\"Selection\"},\"selection_policy\":{\"id\":\"77a32553-753b-4ba2-98cc-382f10035a35\",\"type\":\"UnionRenderers\"}},\"id\":\"ae7ac7dd-65c6-4c58-b797-d69e50bdcfed\",\"type\":\"ColumnDataSource\"},{\"attributes\":{\"line_color\":\"#4daf4a\",\"line_width\":1.5,\"x\":{\"field\":\"x\"},\"y\":{\"field\":\"y\"}},\"id\":\"25a57f62-5d71-4f64-aef6-eab7cde09917\",\"type\":\"Line\"},{\"attributes\":{\"overlay\":{\"id\":\"2856331e-cabc-4111-aca8-6f00daf84eec\",\"type\":\"BoxAnnotation\"}},\"id\":\"53a9be52-23db-4c8b-a9e3-e6b1fbe949a8\",\"type\":\"BoxZoomTool\"},{\"attributes\":{},\"id\":\"3160c325-d1ce-437d-b23d-2ad581c7a767\",\"type\":\"BasicTicker\"},{\"attributes\":{\"callback\":null,\"data\":{\"x\":{\"__ndarray__\":\"nNB7K+bWnD+3697lyaecPxYqPR+hXZw/wy+Fg7oCnD+JqqKc3KqbP8SqjqryUJs/WnnD/QIGmz/8FnBFxr6aPwgAkgItf5o/JqEkP4VQmj8w1nCuBjaaPz1a83VnPpo/FKdlo2Rumj8Qut0+Hr+aP+BNfh2N4pk/xHTwmJfrlj+mZr8yfNeSP2jDAhKQq4w/gO4CBfPIgj8g9smy1dJvP2B7aMsomWC/kCUzYgRYgL8gAj4VkIV7v4BY/I20BVI/wNXkDkaVgT94Qu5arZCMP1DqgkbcX48/9J8kGh4ciz8UYbkuJpuCP9wODJm+h3E/AIFQxSoxIb8i5HPvznRtvw5bD6BJUXm/ZMBtwLvigL872U9PvnSDvzoVI2WoHoS/LMrBtPy8g78IOSfP5HaEv6jrpIbhOoa/tN6MGKurhr/AQ0oShXyGv3BXWrxI9IW/dstI3kAihb8eevD7/BWEv+zgP8Al2YK/ns8cEvVugb9UfTIFlOh/vyAI+6DfsHy/5OxlhqRkeb/IM8PqMQh2v5+pnIltp3K/J8dg5OKubr8enmxFYOBnv2AxEUdDc2G/ILMd2y0RVr9wUCzlO8dEvwDmk7du2Qw/IEd2LNnJRT8gi32jf79TP+BLfbYcPVs/8LLgXhnnYD+g007CeohkP0DG/zE1iGk/wFl+CwpYcD+4luYyi1J0P8Bp5UmZ8Xc/eCwFtJaBej/480lTDwJ8P+BvFlgDeXw/8B3SGTM0fD8A2MY8Jn17P+D0XxcpA3o/oBxQBzDGdz9wVsK9RrJ0P+Bu0cwgB3A/\",\"dtype\":\"float64\",\"shape\":[75]},\"y\":{\"__ndarray__\":\"GhExyth1ND/Sv8nbtpRIP2vylNV0PVE/aTum7souWD/At0SJ8fVgPw3Iuahxymc/MSNhhJWvcD/bTfBN02d3P2zb5nxnaoA/CD5h5MAGhz8NmeH1TyaQP+zrCsc9p5Y/LbKd76fGnz/bLW5ISEmmPww9YvTcQq8/JV2OstnstT8Er5Y7M8G+P0c+r3jqkcU/5h99k6ZBzj88bCIzFzjVP4enV8oyxN0//yH99nXg5D8qOpLLf0jtP5kqGJXUifQ/c9cS8kHP/D+/DpwzojQEQIEmwoanVwxA4lgXt9HgE0BSSZ2AJuIbQAMJih9jjiNA5q4l5INuK0AwTKYKRj0zQNv5fmq8/DpAaCJseHrtQkB/+zpwzoxKQM3MzMzMeFJAZmZmZmZqWEAAAAAAAFxeQM3MzMzMJmJAmpmZmZkfZUBmZmZmZhhoQDMzMzMzEWtAAAAAAAAKbkBmZmZmZoFwQM3MzMzM/XFAMzMzMzN6c0CamZmZmfZ0QAAAAAAAc3ZAZmZmZmbvd0DNzMzMzGt5QDMzMzMz6HpAmpmZmZlkfEAAAAAAAOF9QGZmZmZmXX9AZmZmZuZsgECamZmZGSuBQM3MzMxM6YFAAAAAAICngkAzMzMzs2WDQGZmZmbmI4RAmpmZmRnihEDNzMzMTKCFQAAAAACAXoZAMzMzM7Mch0BmZmZm5tqHQJqZmZkZmYhAzczMzExXiUAAAAAAgBWKQDMzMzOz04pAZmZmZuaRi0CamZmZGVCMQM3MzMxMDo1AAAAAAIDMjUAzMzMzs4qOQGZmZmbmSI9A\",\"dtype\":\"float64\",\"shape\":[75]}},\"selected\":{\"id\":\"41beeb2e-4c88-45c4-97a7-a209adbdfc39\",\"type\":\"Selection\"},\"selection_policy\":{\"id\":\"c096e5e9-f3ee-4eee-bed7-d3e1b2f66f33\",\"type\":\"UnionRenderers\"}},\"id\":\"e4d4df0b-01c3-4782-8ce2-5842bd3148cf\",\"type\":\"ColumnDataSource\"},{\"attributes\":{\"bottom_units\":\"screen\",\"fill_alpha\":{\"value\":0.5},\"fill_color\":{\"value\":\"lightgrey\"},\"left_units\":\"screen\",\"level\":\"overlay\",\"line_alpha\":{\"value\":1.0},\"line_color\":{\"value\":\"black\"},\"line_dash\":[4,4],\"line_width\":{\"value\":2},\"plot\":null,\"render_mode\":\"css\",\"right_units\":\"screen\",\"top_units\":\"screen\"},\"id\":\"3c2ffe41-c4f3-478b-9721-d3cc53bce371\",\"type\":\"BoxAnnotation\"},{\"attributes\":{\"line_alpha\":0.1,\"line_color\":\"#1f77b4\",\"line_width\":1.5,\"x\":{\"field\":\"x\"},\"y\":{\"field\":\"y\"}},\"id\":\"2074498b-60b2-4a0d-98d6-ced4237714a8\",\"type\":\"Line\"},{\"attributes\":{},\"id\":\"f7cdf5a4-e2e2-4f8f-8d8d-4eb2f658c347\",\"type\":\"BasicTicker\"},{\"attributes\":{\"callback\":null,\"data\":{\"x\":{\"__ndarray__\":\"wc8B5Vksn7/kxtLQma6ev3VsvZEOpJ2/KogxcHSSnL/Nx+G4TH2bvzhoYFf2Z5q/7O3jvAdamb9YrRCdak6YvwC2zKoNSpe/eRb6W5pRlr9Br2ZtgG+Vv/9/P7oiqpS/59iC1FQPlL/Pur7T7lSTvwV3QJMtJI2/iqkxWuEwaL+WNqq1V2yJPwiOD6Tq7J4/0BkovWfyqT85sA8qkwGzP0tVRfn5+bk/M5iw+rOVwD9r+QBtzmzBP1qGnMb5qr4/ciXTg+0PuT/0Sj/EcgKzPzDBleIdNqw/ica6a08VpT/+zG1mVNSfP91Ahhof9Zc/X15EP4FVkT+QA25s/DyGPzLZ1gTCU3M/unLCLdjoXr8Z9u6aA32Hv0e7UJCGOZi/4RZsXm4bob9WIfTkQKWiv3Q6s6y00aG/11rwcM0Tob+AiccUzEagv0J20c/2v56/f9IXfNixnL+lCKEhcmqav7xpVolx7Je/FkUTIIw6lb/FuOhoU1eSv7TC3zmfio6/GroLYeELiL8v1AfxDTWBv3MI38IgFnS/ugE8Cxh9VL86tOO8Ve9kP207If/Crno/52eEsEbEhT9cMH6asYOOP+MbznZHzJM/2BYbt+CCmD8yO90j+mKdP5cV51vNMaE/7znYokewoz8ucOvV5wCmP0YtKGeD56c/sPRGJl1PqT8rul6juG2qP/xd4q10mqs/ubjM/HEarT8hVOtqDwSvP4M5jbugobA/qyBM35bdsT+h8/wFPi2zP8ES74f2jbQ/Pnf40Mf/tT+Xziq8gIa3P5rHKbmyKbk/\",\"dtype\":\"float64\",\"shape\":[75]},\"y\":{\"__ndarray__\":\"GhExyth1ND/Sv8nbtpRIP2vylNV0PVE/aTum7souWD/At0SJ8fVgPw3Iuahxymc/MSNhhJWvcD/bTfBN02d3P2zb5nxnaoA/CD5h5MAGhz8NmeH1TyaQP+zrCsc9p5Y/LbKd76fGnz/bLW5ISEmmPww9YvTcQq8/JV2OstnstT8Er5Y7M8G+P0c+r3jqkcU/5h99k6ZBzj88bCIzFzjVP4enV8oyxN0//yH99nXg5D8qOpLLf0jtP5kqGJXUifQ/c9cS8kHP/D+/DpwzojQEQIEmwoanVwxA4lgXt9HgE0BSSZ2AJuIbQAMJih9jjiNA5q4l5INuK0AwTKYKRj0zQNv5fmq8/DpAaCJseHrtQkB/+zpwzoxKQM3MzMzMeFJAZmZmZmZqWEAAAAAAAFxeQM3MzMzMJmJAmpmZmZkfZUBmZmZmZhhoQDMzMzMzEWtAAAAAAAAKbkBmZmZmZoFwQM3MzMzM/XFAMzMzMzN6c0CamZmZmfZ0QAAAAAAAc3ZAZmZmZmbvd0DNzMzMzGt5QDMzMzMz6HpAmpmZmZlkfEAAAAAAAOF9QGZmZmZmXX9AZmZmZuZsgECamZmZGSuBQM3MzMxM6YFAAAAAAICngkAzMzMzs2WDQGZmZmbmI4RAmpmZmRnihEDNzMzMTKCFQAAAAACAXoZAMzMzM7Mch0BmZmZm5tqHQJqZmZkZmYhAzczMzExXiUAAAAAAgBWKQDMzMzOz04pAZmZmZuaRi0CamZmZGVCMQM3MzMxMDo1AAAAAAIDMjUAzMzMzs4qOQGZmZmbmSI9A\",\"dtype\":\"float64\",\"shape\":[75]}},\"selected\":{\"id\":\"6abc408d-7e42-4280-b7bf-9237f4ba38a9\",\"type\":\"Selection\"},\"selection_policy\":{\"id\":\"fd8a78d8-a2a5-4095-ae29-d27824b28f3b\",\"type\":\"UnionRenderers\"}},\"id\":\"db9c700f-437e-4a98-8342-1756b1eb7b2e\",\"type\":\"ColumnDataSource\"},{\"attributes\":{\"data_source\":{\"id\":\"227d8642-d09e-4cb8-af01-87ef884c372a\",\"type\":\"ColumnDataSource\"},\"glyph\":{\"id\":\"c53cd00d-b541-4156-9515-148f8100290f\",\"type\":\"Line\"},\"hover_glyph\":null,\"muted_glyph\":null,\"nonselection_glyph\":{\"id\":\"215ffcda-0d3a-408f-bb07-36f2a69e6e77\",\"type\":\"Line\"},\"selection_glyph\":null,\"view\":{\"id\":\"27a9d042-18fb-43db-8e0f-cec959dd6da8\",\"type\":\"CDSView\"}},\"id\":\"aed491c8-a3b3-4c40-9920-fe4ac8d9ccf5\",\"type\":\"GlyphRenderer\"},{\"attributes\":{\"source\":{\"id\":\"e53748f1-aafc-4b92-8229-06ebb7c404a5\",\"type\":\"ColumnDataSource\"}},\"id\":\"b055602e-0e78-4ad3-b39a-a4af0e58d01b\",\"type\":\"CDSView\"},{\"attributes\":{},\"id\":\"83732fd2-1aea-43e1-8524-13b2aed24bfb\",\"type\":\"ResetTool\"},{\"attributes\":{},\"id\":\"e6686985-9bec-44ac-9fb8-b2e09ba67183\",\"type\":\"WheelZoomTool\"},{\"attributes\":{\"axis_label\":\"pressure [mb]\",\"formatter\":{\"id\":\"32efc8a0-0fec-4bd7-a1a7-bf1f419f5c1a\",\"type\":\"BasicTickFormatter\"},\"plot\":{\"id\":\"e1601a34-acb1-4e71-be21-5106bf6f0d1c\",\"subtype\":\"Figure\",\"type\":\"Plot\"},\"ticker\":{\"id\":\"e949c3a8-ccaa-4a81-b493-81743f60e42e\",\"type\":\"BasicTicker\"}},\"id\":\"7123fe84-e9d5-42d9-9dd2-f2a08d80da99\",\"type\":\"LinearAxis\"},{\"attributes\":{},\"id\":\"7bb5fa2c-9576-4ca3-ac3e-ef26a46b0a13\",\"type\":\"LinearScale\"},{\"attributes\":{},\"id\":\"c2a3e913-e471-45d9-bbe4-04d8ddc14da1\",\"type\":\"SaveTool\"},{\"attributes\":{\"axis_label\":\"cooling rate [K/day]\",\"formatter\":{\"id\":\"12062fc7-793d-42a6-8873-f29d66cff9aa\",\"type\":\"BasicTickFormatter\"},\"plot\":{\"id\":\"01dffa24-4fcd-4294-aef6-140247637b36\",\"subtype\":\"Figure\",\"type\":\"Plot\"},\"ticker\":{\"id\":\"b43e893f-153a-4e7f-8e07-8c460687eb78\",\"type\":\"BasicTicker\"}},\"id\":\"e1c9ab29-7451-44f2-a532-78edd175cd35\",\"type\":\"LinearAxis\"},{\"attributes\":{\"plot\":{\"id\":\"01dffa24-4fcd-4294-aef6-140247637b36\",\"subtype\":\"Figure\",\"type\":\"Plot\"},\"ticker\":{\"id\":\"b43e893f-153a-4e7f-8e07-8c460687eb78\",\"type\":\"BasicTicker\"}},\"id\":\"3363ea4d-5fa2-4e16-9804-aa28d507fc03\",\"type\":\"Grid\"},{\"attributes\":{\"bottom_units\":\"screen\",\"fill_alpha\":{\"value\":0.5},\"fill_color\":{\"value\":\"lightgrey\"},\"left_units\":\"screen\",\"level\":\"overlay\",\"line_alpha\":{\"value\":1.0},\"line_color\":{\"value\":\"black\"},\"line_dash\":[4,4],\"line_width\":{\"value\":2},\"plot\":null,\"render_mode\":\"css\",\"right_units\":\"screen\",\"top_units\":\"screen\"},\"id\":\"2856331e-cabc-4111-aca8-6f00daf84eec\",\"type\":\"BoxAnnotation\"},{\"attributes\":{\"source\":{\"id\":\"9b672c5a-d78b-4f5b-960a-2e67da831d36\",\"type\":\"ColumnDataSource\"}},\"id\":\"f7286baf-69a3-4be6-85a0-20683ca8f116\",\"type\":\"CDSView\"},{\"attributes\":{\"data_source\":{\"id\":\"680e1094-6656-4475-8586-6be228ef7b1a\",\"type\":\"ColumnDataSource\"},\"glyph\":{\"id\":\"0461a1fb-3f38-4adf-b019-170663a14b3f\",\"type\":\"Circle\"},\"hover_glyph\":null,\"muted_glyph\":null,\"nonselection_glyph\":{\"id\":\"f356a86f-12aa-41b0-a5c9-f2de01d768d0\",\"type\":\"Circle\"},\"selection_glyph\":null,\"view\":{\"id\":\"01a3733f-7b72-49e0-b334-5d161e1439ab\",\"type\":\"CDSView\"}},\"id\":\"50bf0a88-d0ce-4932-b488-bb3ba7df8d32\",\"type\":\"GlyphRenderer\"},{\"attributes\":{\"callback\":null,\"end\":0.01,\"start\":1020},\"id\":\"497aea42-849f-476c-bd8d-510a62c31faf\",\"type\":\"Range1d\"},{\"attributes\":{\"line_alpha\":0.1,\"line_color\":\"#1f77b4\",\"line_dash\":[6],\"line_width\":5,\"x\":{\"field\":\"x\"},\"y\":{\"field\":\"y\"}},\"id\":\"10b86aa3-fcd5-493e-923b-616b32501e62\",\"type\":\"Line\"},{\"attributes\":{},\"id\":\"4a8d1fc8-cc80-413e-907b-350f9050650e\",\"type\":\"PanTool\"},{\"attributes\":{\"line_alpha\":0.8,\"line_color\":\"#984ea3\",\"line_width\":1.5,\"x\":{\"field\":\"x\"},\"y\":{\"field\":\"y\"}},\"id\":\"3c9dd9b2-8d16-446d-aa41-654ca732698c\",\"type\":\"Line\"},{\"attributes\":{\"active_drag\":\"auto\",\"active_inspect\":\"auto\",\"active_scroll\":\"auto\",\"active_tap\":\"auto\",\"tools\":[{\"id\":\"aaf4dabc-7f3e-4943-84ff-bb7978d1ccfa\",\"type\":\"PanTool\"},{\"id\":\"3332ff9e-90b6-4b1a-8f49-14dec9535c98\",\"type\":\"WheelZoomTool\"},{\"id\":\"53a9be52-23db-4c8b-a9e3-e6b1fbe949a8\",\"type\":\"BoxZoomTool\"},{\"id\":\"6f2cbb30-294a-4fec-8f76-fe002eb83639\",\"type\":\"SaveTool\"},{\"id\":\"31026f9d-c785-4569-91d8-3b07c49742fa\",\"type\":\"ResetTool\"},{\"id\":\"25b9129e-ab7b-4377-ad43-d30687611590\",\"type\":\"HelpTool\"}]},\"id\":\"3a31a56e-f7b3-4271-b505-2cc6d684e214\",\"type\":\"Toolbar\"},{\"attributes\":{\"dimension\":1,\"plot\":{\"id\":\"01dffa24-4fcd-4294-aef6-140247637b36\",\"subtype\":\"Figure\",\"type\":\"Plot\"},\"ticker\":{\"id\":\"8f1c35bf-5173-4b03-8361-c0477e05d8dc\",\"type\":\"LogTicker\"}},\"id\":\"4b047072-6657-4386-b6a6-a7b17f5ad72e\",\"type\":\"Grid\"},{\"attributes\":{\"plot\":{\"id\":\"22e32114-c075-4c78-a5b5-489e035c35d9\",\"subtype\":\"Figure\",\"type\":\"Plot\"},\"ticker\":{\"id\":\"f7cdf5a4-e2e2-4f8f-8d8d-4eb2f658c347\",\"type\":\"BasicTicker\"}},\"id\":\"1647992a-4f90-47f5-9b0d-3244748c46e2\",\"type\":\"Grid\"},{\"attributes\":{\"source\":{\"id\":\"e4d4df0b-01c3-4782-8ce2-5842bd3148cf\",\"type\":\"ColumnDataSource\"}},\"id\":\"59ace871-7806-47ac-ac8a-72c96fb289eb\",\"type\":\"CDSView\"},{\"attributes\":{},\"id\":\"aaf4dabc-7f3e-4943-84ff-bb7978d1ccfa\",\"type\":\"PanTool\"},{\"attributes\":{\"plot\":null,\"text\":\"\"},\"id\":\"e465dab0-fcda-4c59-a56d-699d5bcee0d0\",\"type\":\"Title\"},{\"attributes\":{\"label\":{\"value\":\"CLIRAD - CRD\"},\"renderers\":[{\"id\":\"b81beb42-04f8-4e8d-8dbc-88a9fe59bcba\",\"type\":\"GlyphRenderer\"},{\"id\":\"0429bc17-b388-4720-abb1-ff31545ee492\",\"type\":\"GlyphRenderer\"}]},\"id\":\"e33b3f1e-d550-43f2-8294-fc66657186e9\",\"type\":\"LegendItem\"},{\"attributes\":{\"plot\":{\"id\":\"e1601a34-acb1-4e71-be21-5106bf6f0d1c\",\"subtype\":\"Figure\",\"type\":\"Plot\"},\"ticker\":{\"id\":\"3160c325-d1ce-437d-b23d-2ad581c7a767\",\"type\":\"BasicTicker\"}},\"id\":\"ae125688-759a-4b07-8a62-ca0bb9ec92dd\",\"type\":\"Grid\"},{\"attributes\":{\"dimension\":1,\"plot\":{\"id\":\"22e32114-c075-4c78-a5b5-489e035c35d9\",\"subtype\":\"Figure\",\"type\":\"Plot\"},\"ticker\":{\"id\":\"6943cc7a-d98a-42a3-a880-519a0ba29d5e\",\"type\":\"LogTicker\"}},\"id\":\"3b16b64e-1b4a-47a3-bfe9-acd9bb1c6f69\",\"type\":\"Grid\"},{\"attributes\":{\"callback\":null,\"data\":{\"x\":{\"__ndarray__\":\"nNB7K+bWnD+3697lyaecPxYqPR+hXZw/wy+Fg7oCnD+JqqKc3KqbP8SqjqryUJs/WnnD/QIGmz/8FnBFxr6aPwgAkgItf5o/JqEkP4VQmj8w1nCuBjaaPz1a83VnPpo/FKdlo2Rumj8Qut0+Hr+aP+BNfh2N4pk/xHTwmJfrlj+mZr8yfNeSP2jDAhKQq4w/gO4CBfPIgj8g9smy1dJvP2B7aMsomWC/kCUzYgRYgL8gAj4VkIV7v4BY/I20BVI/wNXkDkaVgT94Qu5arZCMP1DqgkbcX48/9J8kGh4ciz8UYbkuJpuCP9wODJm+h3E/AIFQxSoxIb8i5HPvznRtvw5bD6BJUXm/ZMBtwLvigL872U9PvnSDvzoVI2WoHoS/LMrBtPy8g78IOSfP5HaEv6jrpIbhOoa/tN6MGKurhr/AQ0oShXyGv3BXWrxI9IW/dstI3kAihb8eevD7/BWEv+zgP8Al2YK/ns8cEvVugb9UfTIFlOh/vyAI+6DfsHy/5OxlhqRkeb/IM8PqMQh2v5+pnIltp3K/J8dg5OKubr8enmxFYOBnv2AxEUdDc2G/ILMd2y0RVr9wUCzlO8dEvwDmk7du2Qw/IEd2LNnJRT8gi32jf79TP+BLfbYcPVs/8LLgXhnnYD+g007CeohkP0DG/zE1iGk/wFl+CwpYcD+4luYyi1J0P8Bp5UmZ8Xc/eCwFtJaBej/480lTDwJ8P+BvFlgDeXw/8B3SGTM0fD8A2MY8Jn17P+D0XxcpA3o/oBxQBzDGdz9wVsK9RrJ0P+Bu0cwgB3A/\",\"dtype\":\"float64\",\"shape\":[75]},\"y\":{\"__ndarray__\":\"GhExyth1ND/Sv8nbtpRIP2vylNV0PVE/aTum7souWD/At0SJ8fVgPw3Iuahxymc/MSNhhJWvcD/bTfBN02d3P2zb5nxnaoA/CD5h5MAGhz8NmeH1TyaQP+zrCsc9p5Y/LbKd76fGnz/bLW5ISEmmPww9YvTcQq8/JV2OstnstT8Er5Y7M8G+P0c+r3jqkcU/5h99k6ZBzj88bCIzFzjVP4enV8oyxN0//yH99nXg5D8qOpLLf0jtP5kqGJXUifQ/c9cS8kHP/D+/DpwzojQEQIEmwoanVwxA4lgXt9HgE0BSSZ2AJuIbQAMJih9jjiNA5q4l5INuK0AwTKYKRj0zQNv5fmq8/DpAaCJseHrtQkB/+zpwzoxKQM3MzMzMeFJAZmZmZmZqWEAAAAAAAFxeQM3MzMzMJmJAmpmZmZkfZUBmZmZmZhhoQDMzMzMzEWtAAAAAAAAKbkBmZmZmZoFwQM3MzMzM/XFAMzMzMzN6c0CamZmZmfZ0QAAAAAAAc3ZAZmZmZmbvd0DNzMzMzGt5QDMzMzMz6HpAmpmZmZlkfEAAAAAAAOF9QGZmZmZmXX9AZmZmZuZsgECamZmZGSuBQM3MzMxM6YFAAAAAAICngkAzMzMzs2WDQGZmZmbmI4RAmpmZmRnihEDNzMzMTKCFQAAAAACAXoZAMzMzM7Mch0BmZmZm5tqHQJqZmZkZmYhAzczMzExXiUAAAAAAgBWKQDMzMzOz04pAZmZmZuaRi0CamZmZGVCMQM3MzMxMDo1AAAAAAIDMjUAzMzMzs4qOQGZmZmbmSI9A\",\"dtype\":\"float64\",\"shape\":[75]}},\"selected\":{\"id\":\"02bca560-7dd2-416b-ac1b-a3d591d0320e\",\"type\":\"Selection\"},\"selection_policy\":{\"id\":\"d063cee5-d4a6-4799-af29-36a75a47daa1\",\"type\":\"UnionRenderers\"}},\"id\":\"e53748f1-aafc-4b92-8229-06ebb7c404a5\",\"type\":\"ColumnDataSource\"},{\"attributes\":{},\"id\":\"c2d7b4f6-41b2-4fb3-b65c-133170c7b670\",\"type\":\"SaveTool\"},{\"attributes\":{\"source\":{\"id\":\"ae7ac7dd-65c6-4c58-b797-d69e50bdcfed\",\"type\":\"ColumnDataSource\"}},\"id\":\"72593a62-7428-4495-bee5-656ef736d27d\",\"type\":\"CDSView\"},{\"attributes\":{},\"id\":\"b43e893f-153a-4e7f-8e07-8c460687eb78\",\"type\":\"BasicTicker\"},{\"attributes\":{\"line_alpha\":0.6,\"line_color\":\"#e41a1c\",\"line_dash\":[6],\"line_width\":5,\"x\":{\"field\":\"x\"},\"y\":{\"field\":\"y\"}},\"id\":\"620db60c-28f2-4728-9107-258cf2249ab5\",\"type\":\"Line\"},{\"attributes\":{\"dimension\":1,\"plot\":{\"id\":\"e1601a34-acb1-4e71-be21-5106bf6f0d1c\",\"subtype\":\"Figure\",\"type\":\"Plot\"},\"ticker\":{\"id\":\"e949c3a8-ccaa-4a81-b493-81743f60e42e\",\"type\":\"BasicTicker\"}},\"id\":\"25d11e73-7455-4630-aa19-3d69974b1fa8\",\"type\":\"Grid\"},{\"attributes\":{\"fill_alpha\":{\"value\":0.7},\"fill_color\":{\"value\":\"#4daf4a\"},\"line_alpha\":{\"value\":0.7},\"line_color\":{\"value\":\"#4daf4a\"},\"x\":{\"field\":\"x\"},\"y\":{\"field\":\"y\"}},\"id\":\"0461a1fb-3f38-4adf-b019-170663a14b3f\",\"type\":\"Circle\"},{\"attributes\":{\"above\":[{\"id\":\"e824ceae-624c-4534-866e-fdfc7971591c\",\"type\":\"Legend\"}],\"below\":[{\"id\":\"e1c9ab29-7451-44f2-a532-78edd175cd35\",\"type\":\"LinearAxis\"}],\"left\":[{\"id\":\"f9ed7d68-d67d-4338-948d-9d0bb7a8a444\",\"type\":\"LogAxis\"}],\"plot_width\":300,\"renderers\":[{\"id\":\"e1c9ab29-7451-44f2-a532-78edd175cd35\",\"type\":\"LinearAxis\"},{\"id\":\"3363ea4d-5fa2-4e16-9804-aa28d507fc03\",\"type\":\"Grid\"},{\"id\":\"f9ed7d68-d67d-4338-948d-9d0bb7a8a444\",\"type\":\"LogAxis\"},{\"id\":\"4b047072-6657-4386-b6a6-a7b17f5ad72e\",\"type\":\"Grid\"},{\"id\":\"2856331e-cabc-4111-aca8-6f00daf84eec\",\"type\":\"BoxAnnotation\"},{\"id\":\"6b36f752-a43e-4352-a770-a5f9bc31b8fd\",\"type\":\"GlyphRenderer\"},{\"id\":\"50bf0a88-d0ce-4932-b488-bb3ba7df8d32\",\"type\":\"GlyphRenderer\"},{\"id\":\"421fc83a-268f-4c5e-9300-a471fde8fea0\",\"type\":\"GlyphRenderer\"},{\"id\":\"e824ceae-624c-4534-866e-fdfc7971591c\",\"type\":\"Legend\"}],\"title\":{\"id\":\"bd08fcea-3b72-440a-9e84-31552fe55822\",\"type\":\"Title\"},\"toolbar\":{\"id\":\"3a31a56e-f7b3-4271-b505-2cc6d684e214\",\"type\":\"Toolbar\"},\"toolbar_location\":null,\"x_range\":{\"id\":\"4daad8dd-5b0b-45d8-a80b-a266b422513b\",\"type\":\"Range1d\"},\"x_scale\":{\"id\":\"7bb5fa2c-9576-4ca3-ac3e-ef26a46b0a13\",\"type\":\"LinearScale\"},\"y_range\":{\"id\":\"12d4f695-f6ec-44b1-beb6-d7e482143c77\",\"type\":\"Range1d\"},\"y_scale\":{\"id\":\"fd4800e3-4d49-4bbe-a580-75e1e3186df9\",\"type\":\"LogScale\"}},\"id\":\"01dffa24-4fcd-4294-aef6-140247637b36\",\"subtype\":\"Figure\",\"type\":\"Plot\"},{\"attributes\":{},\"id\":\"3128a051-d30e-4848-9b42-77eddfabadb8\",\"type\":\"Selection\"},{\"attributes\":{\"bottom_units\":\"screen\",\"fill_alpha\":{\"value\":0.5},\"fill_color\":{\"value\":\"lightgrey\"},\"left_units\":\"screen\",\"level\":\"overlay\",\"line_alpha\":{\"value\":1.0},\"line_color\":{\"value\":\"black\"},\"line_dash\":[4,4],\"line_width\":{\"value\":2},\"plot\":null,\"render_mode\":\"css\",\"right_units\":\"screen\",\"top_units\":\"screen\"},\"id\":\"febf4e47-51f7-4f12-9588-ae8c7be6aad1\",\"type\":\"BoxAnnotation\"},{\"attributes\":{},\"id\":\"fd4800e3-4d49-4bbe-a580-75e1e3186df9\",\"type\":\"LogScale\"},{\"attributes\":{\"callback\":null,\"data\":{\"x\":{\"__ndarray__\":\"KPkvzJ2rYr9m2Z5XfzZgv+glBCjXZlS/2AyLlT33Qb8gXnHg8ccmP4BRyGWKH00/6Lb4DbS/Wj8gTftC3YJjPz5QKr76qGk/ZlVUGVf3bz+7mygEGRpzP/loz+4SUXY/sjiLOz98eT8F/Xusvah9P7wkvKfsoIY/kz+qbXvlkz/xgZQNqI2fP953iFZZoaY/cNVofqSkrj/q/6XXKQC0P3AR6rIwdbk/tMsaaWcgvz9aCVfsoZDAP7x31JgQ874/KsCvRZZCuz9DE51viJS2P+I9G3oKB7I/hu5D8lbcqz/EPuW+85CkP5REycAOV5w/Xb256R4zkT8PFSJhkb99P3AH4mwe9le/uw4mxta/hL+qZx/14HiVv/IicWFtJKG/bImci60Kpr+Y770Y+sKnv151XA5tYKe/hJITN7i+pr9wGlpZ7eWlv/1Q/5YN3aS/HRyedXyho7/aosxPuDqivxktuzSCrKC/5awhqQbynb8aWDVqeFGav2KjLoWHcZa/Rlgf0hlfkr8TbmnmJjmMvwnZPSbHXoO/AmT/dLd2dL8gT0dEVIg3v72imFsh9XE/g7Eg9SACgz9VayvcPTeNP9blKS602pM/Ecl+gC8xmT/kExUe8p6eP/b/mkG2C6I/HkXGOLm+pD9oXRCCb0mnP6opSLoGgKk/6L+2Z15aqz8CjbsJCvisPzQLH9enmK4/JK+maVI1sD9QSaqqKEKxP4GgDvEwabI/ikLpENqgsz8hYclpEOW0Pw8SZRkpLrY/CHlt0Sp8tz/+8wYopdG4P4je9sUkKro/\",\"dtype\":\"float64\",\"shape\":[75]},\"y\":{\"__ndarray__\":\"GhExyth1ND/Sv8nbtpRIP2vylNV0PVE/aTum7souWD/At0SJ8fVgPw3Iuahxymc/MSNhhJWvcD/bTfBN02d3P2zb5nxnaoA/CD5h5MAGhz8NmeH1TyaQP+zrCsc9p5Y/LbKd76fGnz/bLW5ISEmmPww9YvTcQq8/JV2OstnstT8Er5Y7M8G+P0c+r3jqkcU/5h99k6ZBzj88bCIzFzjVP4enV8oyxN0//yH99nXg5D8qOpLLf0jtP5kqGJXUifQ/c9cS8kHP/D+/DpwzojQEQIEmwoanVwxA4lgXt9HgE0BSSZ2AJuIbQAMJih9jjiNA5q4l5INuK0AwTKYKRj0zQNv5fmq8/DpAaCJseHrtQkB/+zpwzoxKQM3MzMzMeFJAZmZmZmZqWEAAAAAAAFxeQM3MzMzMJmJAmpmZmZkfZUBmZmZmZhhoQDMzMzMzEWtAAAAAAAAKbkBmZmZmZoFwQM3MzMzM/XFAMzMzMzN6c0CamZmZmfZ0QAAAAAAAc3ZAZmZmZmbvd0DNzMzMzGt5QDMzMzMz6HpAmpmZmZlkfEAAAAAAAOF9QGZmZmZmXX9AZmZmZuZsgECamZmZGSuBQM3MzMxM6YFAAAAAAICngkAzMzMzs2WDQGZmZmbmI4RAmpmZmRnihEDNzMzMTKCFQAAAAACAXoZAMzMzM7Mch0BmZmZm5tqHQJqZmZkZmYhAzczMzExXiUAAAAAAgBWKQDMzMzOz04pAZmZmZuaRi0CamZmZGVCMQM3MzMxMDo1AAAAAAIDMjUAzMzMzs4qOQGZmZmbmSI9A\",\"dtype\":\"float64\",\"shape\":[75]}},\"selected\":{\"id\":\"b1630ec5-0217-4b9e-ab8c-d3a44108ea54\",\"type\":\"Selection\"},\"selection_policy\":{\"id\":\"eed06e94-b55f-47b0-a3ae-ded6d726a8f5\",\"type\":\"UnionRenderers\"}},\"id\":\"227d8642-d09e-4cb8-af01-87ef884c372a\",\"type\":\"ColumnDataSource\"},{\"attributes\":{\"fill_alpha\":{\"value\":0.1},\"fill_color\":{\"value\":\"#1f77b4\"},\"line_alpha\":{\"value\":0.1},\"line_color\":{\"value\":\"#1f77b4\"},\"x\":{\"field\":\"x\"},\"y\":{\"field\":\"y\"}},\"id\":\"9af5e861-3f5a-49b8-8d9c-beae84e073fc\",\"type\":\"Circle\"},{\"attributes\":{\"source\":{\"id\":\"a442bf11-e23d-452b-b24a-f74d5c55d363\",\"type\":\"ColumnDataSource\"}},\"id\":\"1936667c-0bf1-41d5-bf12-4ab50829efb3\",\"type\":\"CDSView\"},{\"attributes\":{},\"id\":\"4ccef970-e871-4e99-bf08-21cdb39cf5ef\",\"type\":\"HelpTool\"},{\"attributes\":{\"data_source\":{\"id\":\"ae7ac7dd-65c6-4c58-b797-d69e50bdcfed\",\"type\":\"ColumnDataSource\"},\"glyph\":{\"id\":\"08f3e383-f252-48ef-a930-08e66be903ff\",\"type\":\"Circle\"},\"hover_glyph\":null,\"muted_glyph\":null,\"nonselection_glyph\":{\"id\":\"9af5e861-3f5a-49b8-8d9c-beae84e073fc\",\"type\":\"Circle\"},\"selection_glyph\":null,\"view\":{\"id\":\"72593a62-7428-4495-bee5-656ef736d27d\",\"type\":\"CDSView\"}},\"id\":\"9dc8866f-ca15-4aac-a56c-1667ec9826f9\",\"type\":\"GlyphRenderer\"},{\"attributes\":{},\"id\":\"a74c5e20-c0fb-442a-be99-d55fe0f541fe\",\"type\":\"HelpTool\"},{\"attributes\":{},\"id\":\"6f2cbb30-294a-4fec-8f76-fe002eb83639\",\"type\":\"SaveTool\"},{\"attributes\":{},\"id\":\"65afd5e4-f83f-4ea1-9923-5d3bfac63a42\",\"type\":\"PanTool\"},{\"attributes\":{},\"id\":\"4224b157-6d2e-4729-8e0a-dfd78b67eb89\",\"type\":\"LinearScale\"},{\"attributes\":{},\"id\":\"d882f7aa-62c4-4328-af2f-edbd87bb21c9\",\"type\":\"BasicTickFormatter\"},{\"attributes\":{},\"id\":\"cb26671e-37a2-4f66-bb15-65d21671d57d\",\"type\":\"UnionRenderers\"},{\"attributes\":{},\"id\":\"91be05cd-b1bf-41e5-b63f-a85ead55bbe8\",\"type\":\"WheelZoomTool\"},{\"attributes\":{\"num_minor_ticks\":10},\"id\":\"6943cc7a-d98a-42a3-a880-519a0ba29d5e\",\"type\":\"LogTicker\"},{\"attributes\":{\"overlay\":{\"id\":\"3c2ffe41-c4f3-478b-9721-d3cc53bce371\",\"type\":\"BoxAnnotation\"}},\"id\":\"ce0b4e2d-ce17-4957-b818-aedb95dddcde\",\"type\":\"BoxZoomTool\"},{\"attributes\":{\"children\":[{\"id\":\"e1601a34-acb1-4e71-be21-5106bf6f0d1c\",\"subtype\":\"Figure\",\"type\":\"Plot\"},{\"id\":\"01dffa24-4fcd-4294-aef6-140247637b36\",\"subtype\":\"Figure\",\"type\":\"Plot\"},{\"id\":\"22e32114-c075-4c78-a5b5-489e035c35d9\",\"subtype\":\"Figure\",\"type\":\"Plot\"}]},\"id\":\"0a5b7b6e-74ab-49b9-ba62-2fbaacc3adc5\",\"type\":\"Row\"},{\"attributes\":{\"ticker\":null},\"id\":\"83e24891-2389-4613-946b-2e6e101e33f1\",\"type\":\"LogTickFormatter\"},{\"attributes\":{\"axis_label\":\"cooling rate [K/day]\",\"formatter\":{\"id\":\"0c600a48-199a-44db-b939-1172053963d2\",\"type\":\"BasicTickFormatter\"},\"plot\":{\"id\":\"e1601a34-acb1-4e71-be21-5106bf6f0d1c\",\"subtype\":\"Figure\",\"type\":\"Plot\"},\"ticker\":{\"id\":\"3160c325-d1ce-437d-b23d-2ad581c7a767\",\"type\":\"BasicTicker\"}},\"id\":\"1453e47f-a3f0-42ea-bbf8-89671e4d7d0e\",\"type\":\"LinearAxis\"},{\"attributes\":{\"label\":{\"value\":\"CRD\"},\"renderers\":[{\"id\":\"50bf0a88-d0ce-4932-b488-bb3ba7df8d32\",\"type\":\"GlyphRenderer\"},{\"id\":\"421fc83a-268f-4c5e-9300-a471fde8fea0\",\"type\":\"GlyphRenderer\"}]},\"id\":\"1cd5cdb3-ae2e-4c15-a776-142342dce42f\",\"type\":\"LegendItem\"},{\"attributes\":{\"line_color\":\"#4daf4a\",\"line_width\":1.5,\"x\":{\"field\":\"x\"},\"y\":{\"field\":\"y\"}},\"id\":\"2e808cd7-7cd0-413e-bed5-bd2a838bdad7\",\"type\":\"Line\"},{\"attributes\":{},\"id\":\"6719b263-d32e-4327-928e-0a05732dfcee\",\"type\":\"LinearScale\"},{\"attributes\":{\"source\":{\"id\":\"680e1094-6656-4475-8586-6be228ef7b1a\",\"type\":\"ColumnDataSource\"}},\"id\":\"01a3733f-7b72-49e0-b334-5d161e1439ab\",\"type\":\"CDSView\"},{\"attributes\":{},\"id\":\"3332ff9e-90b6-4b1a-8f49-14dec9535c98\",\"type\":\"WheelZoomTool\"},{\"attributes\":{\"fill_alpha\":{\"value\":0.7},\"fill_color\":{\"value\":\"#4daf4a\"},\"line_alpha\":{\"value\":0.7},\"line_color\":{\"value\":\"#4daf4a\"},\"x\":{\"field\":\"x\"},\"y\":{\"field\":\"y\"}},\"id\":\"08f3e383-f252-48ef-a930-08e66be903ff\",\"type\":\"Circle\"},{\"attributes\":{\"axis_label\":\"pressure [mb]\",\"formatter\":{\"id\":\"83e24891-2389-4613-946b-2e6e101e33f1\",\"type\":\"LogTickFormatter\"},\"plot\":{\"id\":\"01dffa24-4fcd-4294-aef6-140247637b36\",\"subtype\":\"Figure\",\"type\":\"Plot\"},\"ticker\":{\"id\":\"8f1c35bf-5173-4b03-8361-c0477e05d8dc\",\"type\":\"LogTicker\"}},\"id\":\"f9ed7d68-d67d-4338-948d-9d0bb7a8a444\",\"type\":\"LogAxis\"},{\"attributes\":{},\"id\":\"084198a7-1fa2-4dd3-ad9a-93ae9ae75482\",\"type\":\"ResetTool\"},{\"attributes\":{\"callback\":null,\"end\":0.026491575889378605,\"start\":-0.011441511897518599},\"id\":\"ffab1ece-1a33-45fb-8f19-5a25ddbe32c0\",\"type\":\"Range1d\"},{\"attributes\":{\"fill_alpha\":{\"value\":0.7},\"fill_color\":{\"value\":\"#984ea3\"},\"line_alpha\":{\"value\":0.7},\"line_color\":{\"value\":\"#984ea3\"},\"x\":{\"field\":\"x\"},\"y\":{\"field\":\"y\"}},\"id\":\"7253d45e-913c-40cc-a5fd-d7311dbb7ae2\",\"type\":\"Circle\"},{\"attributes\":{},\"id\":\"674f5126-6332-409d-b7df-0131dea08b5d\",\"type\":\"LinearScale\"},{\"attributes\":{\"overlay\":{\"id\":\"febf4e47-51f7-4f12-9588-ae8c7be6aad1\",\"type\":\"BoxAnnotation\"}},\"id\":\"76a9a689-89e1-4f76-b190-1a2ef612a02f\",\"type\":\"BoxZoomTool\"},{\"attributes\":{\"callback\":null,\"end\":0.1379584306831,\"start\":-0.0482348553731},\"id\":\"4daad8dd-5b0b-45d8-a80b-a266b422513b\",\"type\":\"Range1d\"},{\"attributes\":{\"items\":[{\"id\":\"e33b3f1e-d550-43f2-8294-fc66657186e9\",\"type\":\"LegendItem\"}],\"label_text_font_size\":{\"value\":\"8pt\"},\"location\":\"top_center\",\"orientation\":\"horizontal\",\"plot\":{\"id\":\"22e32114-c075-4c78-a5b5-489e035c35d9\",\"subtype\":\"Figure\",\"type\":\"Plot\"}},\"id\":\"eb9bf0c5-1983-4725-aacd-5b0ca701bd54\",\"type\":\"Legend\"},{\"attributes\":{\"num_minor_ticks\":10},\"id\":\"8f1c35bf-5173-4b03-8361-c0477e05d8dc\",\"type\":\"LogTicker\"},{\"attributes\":{\"line_alpha\":0.1,\"line_color\":\"#1f77b4\",\"line_width\":1.5,\"x\":{\"field\":\"x\"},\"y\":{\"field\":\"y\"}},\"id\":\"b5a8953c-0d19-47d2-b5de-e29ff0cb2b31\",\"type\":\"Line\"},{\"attributes\":{\"children\":[{\"id\":\"0a5b7b6e-74ab-49b9-ba62-2fbaacc3adc5\",\"type\":\"Row\"}]},\"id\":\"f8ed03a4-031c-4a8d-a3bf-2ec1a6ddf9b3\",\"type\":\"Column\"},{\"attributes\":{\"source\":{\"id\":\"227d8642-d09e-4cb8-af01-87ef884c372a\",\"type\":\"ColumnDataSource\"}},\"id\":\"27a9d042-18fb-43db-8e0f-cec959dd6da8\",\"type\":\"CDSView\"},{\"attributes\":{},\"id\":\"56e0506a-be51-4b51-8707-77965c31fd69\",\"type\":\"UnionRenderers\"},{\"attributes\":{\"callback\":null,\"data\":{\"x\":{\"__ndarray__\":\"KPkvzJ2rYr9m2Z5XfzZgv+glBCjXZlS/2AyLlT33Qb8gXnHg8ccmP4BRyGWKH00/6Lb4DbS/Wj8gTftC3YJjPz5QKr76qGk/ZlVUGVf3bz+7mygEGRpzP/loz+4SUXY/sjiLOz98eT8F/Xusvah9P7wkvKfsoIY/kz+qbXvlkz/xgZQNqI2fP953iFZZoaY/cNVofqSkrj/q/6XXKQC0P3AR6rIwdbk/tMsaaWcgvz9aCVfsoZDAP7x31JgQ874/KsCvRZZCuz9DE51viJS2P+I9G3oKB7I/hu5D8lbcqz/EPuW+85CkP5REycAOV5w/Xb256R4zkT8PFSJhkb99P3AH4mwe9le/uw4mxta/hL+qZx/14HiVv/IicWFtJKG/bImci60Kpr+Y770Y+sKnv151XA5tYKe/hJITN7i+pr9wGlpZ7eWlv/1Q/5YN3aS/HRyedXyho7/aosxPuDqivxktuzSCrKC/5awhqQbynb8aWDVqeFGav2KjLoWHcZa/Rlgf0hlfkr8TbmnmJjmMvwnZPSbHXoO/AmT/dLd2dL8gT0dEVIg3v72imFsh9XE/g7Eg9SACgz9VayvcPTeNP9blKS602pM/Ecl+gC8xmT/kExUe8p6eP/b/mkG2C6I/HkXGOLm+pD9oXRCCb0mnP6opSLoGgKk/6L+2Z15aqz8CjbsJCvisPzQLH9enmK4/JK+maVI1sD9QSaqqKEKxP4GgDvEwabI/ikLpENqgsz8hYclpEOW0Pw8SZRkpLrY/CHlt0Sp8tz/+8wYopdG4P4je9sUkKro/\",\"dtype\":\"float64\",\"shape\":[75]},\"y\":{\"__ndarray__\":\"GhExyth1ND/Sv8nbtpRIP2vylNV0PVE/aTum7souWD/At0SJ8fVgPw3Iuahxymc/MSNhhJWvcD/bTfBN02d3P2zb5nxnaoA/CD5h5MAGhz8NmeH1TyaQP+zrCsc9p5Y/LbKd76fGnz/bLW5ISEmmPww9YvTcQq8/JV2OstnstT8Er5Y7M8G+P0c+r3jqkcU/5h99k6ZBzj88bCIzFzjVP4enV8oyxN0//yH99nXg5D8qOpLLf0jtP5kqGJXUifQ/c9cS8kHP/D+/DpwzojQEQIEmwoanVwxA4lgXt9HgE0BSSZ2AJuIbQAMJih9jjiNA5q4l5INuK0AwTKYKRj0zQNv5fmq8/DpAaCJseHrtQkB/+zpwzoxKQM3MzMzMeFJAZmZmZmZqWEAAAAAAAFxeQM3MzMzMJmJAmpmZmZkfZUBmZmZmZhhoQDMzMzMzEWtAAAAAAAAKbkBmZmZmZoFwQM3MzMzM/XFAMzMzMzN6c0CamZmZmfZ0QAAAAAAAc3ZAZmZmZmbvd0DNzMzMzGt5QDMzMzMz6HpAmpmZmZlkfEAAAAAAAOF9QGZmZmZmXX9AZmZmZuZsgECamZmZGSuBQM3MzMxM6YFAAAAAAICngkAzMzMzs2WDQGZmZmbmI4RAmpmZmRnihEDNzMzMTKCFQAAAAACAXoZAMzMzM7Mch0BmZmZm5tqHQJqZmZkZmYhAzczMzExXiUAAAAAAgBWKQDMzMzOz04pAZmZmZuaRi0CamZmZGVCMQM3MzMxMDo1AAAAAAIDMjUAzMzMzs4qOQGZmZmbmSI9A\",\"dtype\":\"float64\",\"shape\":[75]}},\"selected\":{\"id\":\"3128a051-d30e-4848-9b42-77eddfabadb8\",\"type\":\"Selection\"},\"selection_policy\":{\"id\":\"cb26671e-37a2-4f66-bb15-65d21671d57d\",\"type\":\"UnionRenderers\"}},\"id\":\"a442bf11-e23d-452b-b24a-f74d5c55d363\",\"type\":\"ColumnDataSource\"},{\"attributes\":{},\"id\":\"eed06e94-b55f-47b0-a3ae-ded6d726a8f5\",\"type\":\"UnionRenderers\"},{\"attributes\":{\"items\":[{\"id\":\"ee8ac531-fe34-4143-8a52-983038da0372\",\"type\":\"LegendItem\"},{\"id\":\"1cd5cdb3-ae2e-4c15-a776-142342dce42f\",\"type\":\"LegendItem\"}],\"label_text_font_size\":{\"value\":\"8pt\"},\"location\":\"top_center\",\"orientation\":\"horizontal\",\"plot\":{\"id\":\"01dffa24-4fcd-4294-aef6-140247637b36\",\"subtype\":\"Figure\",\"type\":\"Plot\"}},\"id\":\"e824ceae-624c-4534-866e-fdfc7971591c\",\"type\":\"Legend\"},{\"attributes\":{\"fill_alpha\":{\"value\":0.1},\"fill_color\":{\"value\":\"#1f77b4\"},\"line_alpha\":{\"value\":0.1},\"line_color\":{\"value\":\"#1f77b4\"},\"x\":{\"field\":\"x\"},\"y\":{\"field\":\"y\"}},\"id\":\"f356a86f-12aa-41b0-a5c9-f2de01d768d0\",\"type\":\"Circle\"},{\"attributes\":{\"data_source\":{\"id\":\"9b672c5a-d78b-4f5b-960a-2e67da831d36\",\"type\":\"ColumnDataSource\"},\"glyph\":{\"id\":\"2e808cd7-7cd0-413e-bed5-bd2a838bdad7\",\"type\":\"Line\"},\"hover_glyph\":null,\"muted_glyph\":null,\"nonselection_glyph\":{\"id\":\"b5a8953c-0d19-47d2-b5de-e29ff0cb2b31\",\"type\":\"Line\"},\"selection_glyph\":null,\"view\":{\"id\":\"f7286baf-69a3-4be6-85a0-20683ca8f116\",\"type\":\"CDSView\"}},\"id\":\"65286f61-7c25-4a31-8b79-51f41af346ef\",\"type\":\"GlyphRenderer\"},{\"attributes\":{},\"id\":\"32efc8a0-0fec-4bd7-a1a7-bf1f419f5c1a\",\"type\":\"BasicTickFormatter\"},{\"attributes\":{},\"id\":\"e949c3a8-ccaa-4a81-b493-81743f60e42e\",\"type\":\"BasicTicker\"},{\"attributes\":{\"callback\":null,\"data\":{\"x\":{\"__ndarray__\":\"wc8B5Vksn7/kxtLQma6ev3VsvZEOpJ2/KogxcHSSnL/Nx+G4TH2bvzhoYFf2Z5q/7O3jvAdamb9YrRCdak6YvwC2zKoNSpe/eRb6W5pRlr9Br2ZtgG+Vv/9/P7oiqpS/59iC1FQPlL/Pur7T7lSTvwV3QJMtJI2/iqkxWuEwaL+WNqq1V2yJPwiOD6Tq7J4/0BkovWfyqT85sA8qkwGzP0tVRfn5+bk/M5iw+rOVwD9r+QBtzmzBP1qGnMb5qr4/ciXTg+0PuT/0Sj/EcgKzPzDBleIdNqw/ica6a08VpT/+zG1mVNSfP91Ahhof9Zc/X15EP4FVkT+QA25s/DyGPzLZ1gTCU3M/unLCLdjoXr8Z9u6aA32Hv0e7UJCGOZi/4RZsXm4bob9WIfTkQKWiv3Q6s6y00aG/11rwcM0Tob+AiccUzEagv0J20c/2v56/f9IXfNixnL+lCKEhcmqav7xpVolx7Je/FkUTIIw6lb/FuOhoU1eSv7TC3zmfio6/GroLYeELiL8v1AfxDTWBv3MI38IgFnS/ugE8Cxh9VL86tOO8Ve9kP207If/Crno/52eEsEbEhT9cMH6asYOOP+MbznZHzJM/2BYbt+CCmD8yO90j+mKdP5cV51vNMaE/7znYokewoz8ucOvV5wCmP0YtKGeD56c/sPRGJl1PqT8rul6juG2qP/xd4q10mqs/ubjM/HEarT8hVOtqDwSvP4M5jbugobA/qyBM35bdsT+h8/wFPi2zP8ES74f2jbQ/Pnf40Mf/tT+Xziq8gIa3P5rHKbmyKbk/\",\"dtype\":\"float64\",\"shape\":[75]},\"y\":{\"__ndarray__\":\"GhExyth1ND/Sv8nbtpRIP2vylNV0PVE/aTum7souWD/At0SJ8fVgPw3Iuahxymc/MSNhhJWvcD/bTfBN02d3P2zb5nxnaoA/CD5h5MAGhz8NmeH1TyaQP+zrCsc9p5Y/LbKd76fGnz/bLW5ISEmmPww9YvTcQq8/JV2OstnstT8Er5Y7M8G+P0c+r3jqkcU/5h99k6ZBzj88bCIzFzjVP4enV8oyxN0//yH99nXg5D8qOpLLf0jtP5kqGJXUifQ/c9cS8kHP/D+/DpwzojQEQIEmwoanVwxA4lgXt9HgE0BSSZ2AJuIbQAMJih9jjiNA5q4l5INuK0AwTKYKRj0zQNv5fmq8/DpAaCJseHrtQkB/+zpwzoxKQM3MzMzMeFJAZmZmZmZqWEAAAAAAAFxeQM3MzMzMJmJAmpmZmZkfZUBmZmZmZhhoQDMzMzMzEWtAAAAAAAAKbkBmZmZmZoFwQM3MzMzM/XFAMzMzMzN6c0CamZmZmfZ0QAAAAAAAc3ZAZmZmZmbvd0DNzMzMzGt5QDMzMzMz6HpAmpmZmZlkfEAAAAAAAOF9QGZmZmZmXX9AZmZmZuZsgECamZmZGSuBQM3MzMxM6YFAAAAAAICngkAzMzMzs2WDQGZmZmbmI4RAmpmZmRnihEDNzMzMTKCFQAAAAACAXoZAMzMzM7Mch0BmZmZm5tqHQJqZmZkZmYhAzczMzExXiUAAAAAAgBWKQDMzMzOz04pAZmZmZuaRi0CamZmZGVCMQM3MzMxMDo1AAAAAAIDMjUAzMzMzs4qOQGZmZmbmSI9A\",\"dtype\":\"float64\",\"shape\":[75]}},\"selected\":{\"id\":\"6ea7564d-3a61-47fe-b741-47416f6521f7\",\"type\":\"Selection\"},\"selection_policy\":{\"id\":\"56e0506a-be51-4b51-8707-77965c31fd69\",\"type\":\"UnionRenderers\"}},\"id\":\"680e1094-6656-4475-8586-6be228ef7b1a\",\"type\":\"ColumnDataSource\"},{\"attributes\":{},\"id\":\"5144cd0a-1ec8-481b-8863-e6214f7c67f3\",\"type\":\"LogScale\"},{\"attributes\":{\"label\":{\"value\":\"CLIRAD\"},\"renderers\":[{\"id\":\"aed491c8-a3b3-4c40-9920-fe4ac8d9ccf5\",\"type\":\"GlyphRenderer\"}]},\"id\":\"51220f6b-a30c-4f7a-942f-8e47195e8e23\",\"type\":\"LegendItem\"},{\"attributes\":{\"data_source\":{\"id\":\"e53748f1-aafc-4b92-8229-06ebb7c404a5\",\"type\":\"ColumnDataSource\"},\"glyph\":{\"id\":\"3c9dd9b2-8d16-446d-aa41-654ca732698c\",\"type\":\"Line\"},\"hover_glyph\":null,\"muted_glyph\":null,\"nonselection_glyph\":{\"id\":\"2074498b-60b2-4a0d-98d6-ced4237714a8\",\"type\":\"Line\"},\"selection_glyph\":null,\"view\":{\"id\":\"b055602e-0e78-4ad3-b39a-a4af0e58d01b\",\"type\":\"CDSView\"}},\"id\":\"0429bc17-b388-4720-abb1-ff31545ee492\",\"type\":\"GlyphRenderer\"},{\"attributes\":{},\"id\":\"31026f9d-c785-4569-91d8-3b07c49742fa\",\"type\":\"ResetTool\"},{\"attributes\":{\"line_alpha\":0.1,\"line_color\":\"#1f77b4\",\"line_dash\":[6],\"line_width\":5,\"x\":{\"field\":\"x\"},\"y\":{\"field\":\"y\"}},\"id\":\"215ffcda-0d3a-408f-bb07-36f2a69e6e77\",\"type\":\"Line\"},{\"attributes\":{\"above\":[{\"id\":\"e6e11c9c-d8cc-4571-9032-02e3551a12d4\",\"type\":\"Legend\"}],\"below\":[{\"id\":\"1453e47f-a3f0-42ea-bbf8-89671e4d7d0e\",\"type\":\"LinearAxis\"}],\"left\":[{\"id\":\"7123fe84-e9d5-42d9-9dd2-f2a08d80da99\",\"type\":\"LinearAxis\"}],\"plot_width\":300,\"renderers\":[{\"id\":\"1453e47f-a3f0-42ea-bbf8-89671e4d7d0e\",\"type\":\"LinearAxis\"},{\"id\":\"ae125688-759a-4b07-8a62-ca0bb9ec92dd\",\"type\":\"Grid\"},{\"id\":\"7123fe84-e9d5-42d9-9dd2-f2a08d80da99\",\"type\":\"LinearAxis\"},{\"id\":\"25d11e73-7455-4630-aa19-3d69974b1fa8\",\"type\":\"Grid\"},{\"id\":\"3c2ffe41-c4f3-478b-9721-d3cc53bce371\",\"type\":\"BoxAnnotation\"},{\"id\":\"aed491c8-a3b3-4c40-9920-fe4ac8d9ccf5\",\"type\":\"GlyphRenderer\"},{\"id\":\"9dc8866f-ca15-4aac-a56c-1667ec9826f9\",\"type\":\"GlyphRenderer\"},{\"id\":\"65286f61-7c25-4a31-8b79-51f41af346ef\",\"type\":\"GlyphRenderer\"},{\"id\":\"e6e11c9c-d8cc-4571-9032-02e3551a12d4\",\"type\":\"Legend\"}],\"title\":{\"id\":\"e465dab0-fcda-4c59-a56d-699d5bcee0d0\",\"type\":\"Title\"},\"toolbar\":{\"id\":\"aad30410-850a-43e8-a12e-7cee39009590\",\"type\":\"Toolbar\"},\"toolbar_location\":null,\"x_range\":{\"id\":\"fa2ab959-deed-4b3c-8cb6-43dd59f1e046\",\"type\":\"Range1d\"},\"x_scale\":{\"id\":\"4224b157-6d2e-4729-8e0a-dfd78b67eb89\",\"type\":\"LinearScale\"},\"y_range\":{\"id\":\"54429c62-2761-42b6-9012-6793a03a4e20\",\"type\":\"Range1d\"},\"y_scale\":{\"id\":\"6719b263-d32e-4327-928e-0a05732dfcee\",\"type\":\"LinearScale\"}},\"id\":\"e1601a34-acb1-4e71-be21-5106bf6f0d1c\",\"subtype\":\"Figure\",\"type\":\"Plot\"},{\"attributes\":{\"plot\":null,\"text\":\"\"},\"id\":\"462ce74a-c89d-4d54-a592-d34820b9b03c\",\"type\":\"Title\"},{\"attributes\":{},\"id\":\"25b9129e-ab7b-4377-ad43-d30687611590\",\"type\":\"HelpTool\"},{\"attributes\":{\"active_drag\":\"auto\",\"active_inspect\":\"auto\",\"active_scroll\":\"auto\",\"active_tap\":\"auto\",\"tools\":[{\"id\":\"65afd5e4-f83f-4ea1-9923-5d3bfac63a42\",\"type\":\"PanTool\"},{\"id\":\"e6686985-9bec-44ac-9fb8-b2e09ba67183\",\"type\":\"WheelZoomTool\"},{\"id\":\"76a9a689-89e1-4f76-b190-1a2ef612a02f\",\"type\":\"BoxZoomTool\"},{\"id\":\"c2d7b4f6-41b2-4fb3-b65c-133170c7b670\",\"type\":\"SaveTool\"},{\"id\":\"084198a7-1fa2-4dd3-ad9a-93ae9ae75482\",\"type\":\"ResetTool\"},{\"id\":\"4ccef970-e871-4e99-bf08-21cdb39cf5ef\",\"type\":\"HelpTool\"}]},\"id\":\"6da16262-615a-4f76-95ac-c2f750e83333\",\"type\":\"Toolbar\"}],\"root_ids\":[\"4ddf7ad8-80e9-407d-bc7b-58ee4512b508\"]},\"title\":\"Bokeh Application\",\"version\":\"0.12.16\"}};\n",
       "  var render_items = [{\"docid\":\"391a380d-8d8f-4315-b764-376a330b5b70\",\"elementid\":\"f5ef99f7-d58f-471b-b2c4-95f388e440b9\",\"modelid\":\"4ddf7ad8-80e9-407d-bc7b-58ee4512b508\"}];\n",
       "  root.Bokeh.embed.embed_items_notebook(docs_json, render_items);\n",
       "\n",
       "  }\n",
       "  if (root.Bokeh !== undefined) {\n",
       "    embed_document(root);\n",
       "  } else {\n",
       "    var attempts = 0;\n",
       "    var timer = setInterval(function(root) {\n",
       "      if (root.Bokeh !== undefined) {\n",
       "        embed_document(root);\n",
       "        clearInterval(timer);\n",
       "      }\n",
       "      attempts++;\n",
       "      if (attempts > 100) {\n",
       "        console.log(\"Bokeh: ERROR: Unable to run BokehJS code because BokehJS library is missing\")\n",
       "        clearInterval(timer);\n",
       "      }\n",
       "    }, 10, root)\n",
       "  }\n",
       "})(window);"
      ],
      "application/vnd.bokehjs_exec.v0+json": ""
     },
     "metadata": {
      "application/vnd.bokehjs_exec.v0+json": {
       "id": "4ddf7ad8-80e9-407d-bc7b-58ee4512b508"
      }
     },
     "output_type": "display_data"
    },
    {
     "data": {
      "text/markdown": [
       "*FIGURE.* Cooling rates & difference."
      ],
      "text/plain": [
       "<IPython.core.display.Markdown object>"
      ]
     },
     "metadata": {},
     "output_type": "display_data"
    },
    {
     "data": {
      "text/html": [
       "<a id=\"Fluxes._trp.\"></a>"
      ],
      "text/plain": [
       "<IPython.core.display.HTML object>"
      ]
     },
     "metadata": {},
     "output_type": "display_data"
    },
    {
     "data": {
      "text/markdown": [
       "# Fluxes. trp."
      ],
      "text/plain": [
       "<IPython.core.display.Markdown object>"
      ]
     },
     "metadata": {},
     "output_type": "display_data"
    },
    {
     "data": {
      "text/html": [
       "\n",
       "<div class=\"bk-root\">\n",
       "    <div class=\"bk-plotdiv\" id=\"2fd74348-8083-4f03-b525-98b9da081014\"></div>\n",
       "</div>"
      ]
     },
     "metadata": {},
     "output_type": "display_data"
    },
    {
     "data": {
      "application/javascript": [
       "(function(root) {\n",
       "  function embed_document(root) {\n",
       "    \n",
       "  var docs_json = {\"d03e4b1f-3964-4072-b606-a5698c723c4c\":{\"roots\":{\"references\":[{\"attributes\":{\"plot\":{\"id\":\"00444140-8706-49c8-b543-3d43d50a298e\",\"subtype\":\"Figure\",\"type\":\"Plot\"},\"ticker\":{\"id\":\"d712ac27-22d5-45f9-8d81-6b1ef25feca2\",\"type\":\"CategoricalTicker\"}},\"id\":\"682f4fd2-e4bd-4906-b95b-c65c9d30d12b\",\"type\":\"Grid\"},{\"attributes\":{\"callback\":null},\"id\":\"f5324fb7-68e2-4528-8564-b9f0a5648aa6\",\"type\":\"DataRange1d\"},{\"attributes\":{\"fill_color\":{\"value\":\"#1f77b4\"},\"line_color\":{\"value\":\"#1f77b4\"},\"top\":{\"field\":\"flux\"},\"width\":{\"value\":0.9},\"x\":{\"field\":\"band\"}},\"id\":\"d77dd9dc-d7bc-4b68-8bae-f5ed72fd8a19\",\"type\":\"VBar\"},{\"attributes\":{},\"id\":\"b8cec796-f07e-42c0-8c09-69ce8f9d126d\",\"type\":\"ResetTool\"},{\"attributes\":{},\"id\":\"76dae85e-8a3f-493e-b077-b3bebe5df241\",\"type\":\"Selection\"},{\"attributes\":{\"axis_label\":\"spectral band\",\"formatter\":{\"id\":\"21b63562-dde9-4344-aea1-524549e67af3\",\"type\":\"CategoricalTickFormatter\"},\"plot\":{\"id\":\"00444140-8706-49c8-b543-3d43d50a298e\",\"subtype\":\"Figure\",\"type\":\"Plot\"},\"ticker\":{\"id\":\"d712ac27-22d5-45f9-8d81-6b1ef25feca2\",\"type\":\"CategoricalTicker\"}},\"id\":\"d5a2fc5d-f2e0-4d86-9f5b-00925a4ed5bd\",\"type\":\"CategoricalAxis\"},{\"attributes\":{},\"id\":\"ccd3487a-0cd3-4d6a-bd4c-6f3933f279ab\",\"type\":\"UnionRenderers\"},{\"attributes\":{\"dimension\":1,\"plot\":{\"id\":\"00444140-8706-49c8-b543-3d43d50a298e\",\"subtype\":\"Figure\",\"type\":\"Plot\"},\"ticker\":{\"id\":\"0bba9095-8d0c-4cfd-8213-6e84c837fd91\",\"type\":\"BasicTicker\"}},\"id\":\"48e7badc-32e4-4699-b7f2-70ef723f3d50\",\"type\":\"Grid\"},{\"attributes\":{\"source\":{\"id\":\"bbf32360-af00-4e17-8b15-98a7b976ea59\",\"type\":\"ColumnDataSource\"}},\"id\":\"36a4ec6f-f0f2-4d34-8c7c-53be7bb034d5\",\"type\":\"CDSView\"},{\"attributes\":{},\"id\":\"d712ac27-22d5-45f9-8d81-6b1ef25feca2\",\"type\":\"CategoricalTicker\"},{\"attributes\":{},\"id\":\"f56fb5c4-240b-46bd-a4f9-2f28a3e0e107\",\"type\":\"CategoricalScale\"},{\"attributes\":{\"plot\":{\"id\":\"3d49106b-100d-42b3-adac-87b7c013e88a\",\"subtype\":\"Figure\",\"type\":\"Plot\"},\"ticker\":{\"id\":\"624d2924-b434-4705-a106-278b84a4ad3e\",\"type\":\"CategoricalTicker\"}},\"id\":\"a0a5e4bb-d0b9-48b8-a771-dabab0865f95\",\"type\":\"Grid\"},{\"attributes\":{},\"id\":\"0ab76d6e-b9e7-4d9c-af7b-182b296ae356\",\"type\":\"UnionRenderers\"},{\"attributes\":{\"callback\":null},\"id\":\"37ca3e6d-6725-4116-8022-efaba80cb9bd\",\"type\":\"DataRange1d\"},{\"attributes\":{},\"id\":\"e4e2a7c0-6e85-472b-94c0-b6ccf359f770\",\"type\":\"HelpTool\"},{\"attributes\":{},\"id\":\"624d2924-b434-4705-a106-278b84a4ad3e\",\"type\":\"CategoricalTicker\"},{\"attributes\":{\"callback\":null,\"data\":{\"band\":[\"3\",\"9\"],\"flux\":{\"__ndarray__\":\"ACSuhGparL+Ahe2o41HMPw==\",\"dtype\":\"float64\",\"shape\":[2]}},\"selected\":{\"id\":\"4561ebfc-c62d-497f-b29f-8641b64442b8\",\"type\":\"Selection\"},\"selection_policy\":{\"id\":\"69f99b83-57d2-434b-8626-c62d71f2c230\",\"type\":\"UnionRenderers\"}},\"id\":\"df090102-9872-40b7-b5a6-21b28acf06f8\",\"type\":\"ColumnDataSource\"},{\"attributes\":{},\"id\":\"3673c6fa-2358-45be-8885-dd7c5db88227\",\"type\":\"LinearScale\"},{\"attributes\":{},\"id\":\"4561ebfc-c62d-497f-b29f-8641b64442b8\",\"type\":\"Selection\"},{\"attributes\":{},\"id\":\"574de052-449c-45a2-998a-09278a74edcd\",\"type\":\"LinearScale\"},{\"attributes\":{\"callback\":null,\"factors\":[\"3\",\"9\"]},\"id\":\"6523ff28-b0e2-410f-81f4-4c9639492ba4\",\"type\":\"FactorRange\"},{\"attributes\":{\"bottom_units\":\"screen\",\"fill_alpha\":{\"value\":0.5},\"fill_color\":{\"value\":\"lightgrey\"},\"left_units\":\"screen\",\"level\":\"overlay\",\"line_alpha\":{\"value\":1.0},\"line_color\":{\"value\":\"black\"},\"line_dash\":[4,4],\"line_width\":{\"value\":2},\"plot\":null,\"render_mode\":\"css\",\"right_units\":\"screen\",\"top_units\":\"screen\"},\"id\":\"5958a75c-ed3e-4eab-8602-a7fb894ad1fe\",\"type\":\"BoxAnnotation\"},{\"attributes\":{\"active_drag\":\"auto\",\"active_inspect\":\"auto\",\"active_scroll\":\"auto\",\"active_tap\":\"auto\",\"tools\":[{\"id\":\"367feef8-570b-40d6-a0db-2ab83ea0fcdb\",\"type\":\"PanTool\"},{\"id\":\"f907cfe7-e28d-47e1-b01b-3635778c01ad\",\"type\":\"WheelZoomTool\"},{\"id\":\"85f1bff8-2d7b-47bb-8762-6ea8427505ea\",\"type\":\"BoxZoomTool\"},{\"id\":\"d37242d5-67f2-4054-ac0c-a04f0cebdc75\",\"type\":\"SaveTool\"},{\"id\":\"0576b218-9c84-43bc-9be3-4e59daa568c5\",\"type\":\"ResetTool\"},{\"id\":\"156bd91a-2363-4a21-8107-3c9d54f96c9d\",\"type\":\"HelpTool\"}]},\"id\":\"398e997a-ac83-4038-8526-73bddf9f3f28\",\"type\":\"Toolbar\"},{\"attributes\":{\"fill_color\":{\"value\":\"#1f77b4\"},\"line_color\":{\"value\":\"#1f77b4\"},\"top\":{\"field\":\"flux\"},\"width\":{\"value\":0.9},\"x\":{\"field\":\"band\"}},\"id\":\"12cd44cf-b047-4388-bcee-91f604f7d7fd\",\"type\":\"VBar\"},{\"attributes\":{},\"id\":\"69f99b83-57d2-434b-8626-c62d71f2c230\",\"type\":\"UnionRenderers\"},{\"attributes\":{},\"id\":\"21b63562-dde9-4344-aea1-524549e67af3\",\"type\":\"CategoricalTickFormatter\"},{\"attributes\":{},\"id\":\"0bba9095-8d0c-4cfd-8213-6e84c837fd91\",\"type\":\"BasicTicker\"},{\"attributes\":{},\"id\":\"83786bd6-2a38-4ba3-8e80-dd48e91b105f\",\"type\":\"Selection\"},{\"attributes\":{\"fill_alpha\":{\"value\":0.1},\"fill_color\":{\"value\":\"#1f77b4\"},\"line_alpha\":{\"value\":0.1},\"line_color\":{\"value\":\"#1f77b4\"},\"top\":{\"field\":\"flux\"},\"width\":{\"value\":0.9},\"x\":{\"field\":\"band\"}},\"id\":\"3a4f3beb-847d-4749-8620-2091f7bed7be\",\"type\":\"VBar\"},{\"attributes\":{},\"id\":\"5aebe7f7-d2a3-4d3a-93b6-be301aa8e52c\",\"type\":\"CategoricalScale\"},{\"attributes\":{\"axis_label\":\"flux (W m-2)\",\"formatter\":{\"id\":\"f4833d26-9ada-4d31-b957-56bd1bc17abd\",\"type\":\"BasicTickFormatter\"},\"plot\":{\"id\":\"00444140-8706-49c8-b543-3d43d50a298e\",\"subtype\":\"Figure\",\"type\":\"Plot\"},\"ticker\":{\"id\":\"0bba9095-8d0c-4cfd-8213-6e84c837fd91\",\"type\":\"BasicTicker\"}},\"id\":\"c560655d-0605-4f52-9b62-ade1b6130611\",\"type\":\"LinearAxis\"},{\"attributes\":{},\"id\":\"f4833d26-9ada-4d31-b957-56bd1bc17abd\",\"type\":\"BasicTickFormatter\"},{\"attributes\":{\"overlay\":{\"id\":\"90bd3685-9ba1-4056-9815-da28a6dec4e6\",\"type\":\"BoxAnnotation\"}},\"id\":\"3dfd40a2-593e-4cde-bb0a-df1bd2cc648c\",\"type\":\"BoxZoomTool\"},{\"attributes\":{\"bottom_units\":\"screen\",\"fill_alpha\":{\"value\":0.5},\"fill_color\":{\"value\":\"lightgrey\"},\"left_units\":\"screen\",\"level\":\"overlay\",\"line_alpha\":{\"value\":1.0},\"line_color\":{\"value\":\"black\"},\"line_dash\":[4,4],\"line_width\":{\"value\":2},\"plot\":null,\"render_mode\":\"css\",\"right_units\":\"screen\",\"top_units\":\"screen\"},\"id\":\"8aa84205-8d38-4310-87a0-0b7024bd3480\",\"type\":\"BoxAnnotation\"},{\"attributes\":{},\"id\":\"367feef8-570b-40d6-a0db-2ab83ea0fcdb\",\"type\":\"PanTool\"},{\"attributes\":{},\"id\":\"94d292b7-1268-4c41-bb33-92fed8b86d4a\",\"type\":\"BasicTickFormatter\"},{\"attributes\":{\"data_source\":{\"id\":\"df090102-9872-40b7-b5a6-21b28acf06f8\",\"type\":\"ColumnDataSource\"},\"glyph\":{\"id\":\"12cd44cf-b047-4388-bcee-91f604f7d7fd\",\"type\":\"VBar\"},\"hover_glyph\":null,\"muted_glyph\":null,\"nonselection_glyph\":{\"id\":\"3a4f3beb-847d-4749-8620-2091f7bed7be\",\"type\":\"VBar\"},\"selection_glyph\":null,\"view\":{\"id\":\"9e28237e-cbde-4c3d-aeea-bcb352d9c6f7\",\"type\":\"CDSView\"}},\"id\":\"68abbfb2-d19f-4683-8c0e-2eecdc5822a1\",\"type\":\"GlyphRenderer\"},{\"attributes\":{},\"id\":\"dd88e989-6a12-48a1-bcf7-8b77631310c1\",\"type\":\"CategoricalTickFormatter\"},{\"attributes\":{},\"id\":\"f907cfe7-e28d-47e1-b01b-3635778c01ad\",\"type\":\"WheelZoomTool\"},{\"attributes\":{\"overlay\":{\"id\":\"8aa84205-8d38-4310-87a0-0b7024bd3480\",\"type\":\"BoxAnnotation\"}},\"id\":\"85f1bff8-2d7b-47bb-8762-6ea8427505ea\",\"type\":\"BoxZoomTool\"},{\"attributes\":{\"callback\":null,\"data\":{\"band\":[\"3\",\"9\"],\"flux\":{\"__ndarray__\":\"ANsHD4kxh7+AM+EOCRysvw==\",\"dtype\":\"float64\",\"shape\":[2]}},\"selected\":{\"id\":\"83786bd6-2a38-4ba3-8e80-dd48e91b105f\",\"type\":\"Selection\"},\"selection_policy\":{\"id\":\"0ab76d6e-b9e7-4d9c-af7b-182b296ae356\",\"type\":\"UnionRenderers\"}},\"id\":\"3308dfed-13a8-4f90-976c-0288dbcaad77\",\"type\":\"ColumnDataSource\"},{\"attributes\":{},\"id\":\"d37242d5-67f2-4054-ac0c-a04f0cebdc75\",\"type\":\"SaveTool\"},{\"attributes\":{},\"id\":\"0576b218-9c84-43bc-9be3-4e59daa568c5\",\"type\":\"ResetTool\"},{\"attributes\":{},\"id\":\"4d9db294-54c0-4347-9e14-1910c485c5ff\",\"type\":\"PanTool\"},{\"attributes\":{},\"id\":\"156bd91a-2363-4a21-8107-3c9d54f96c9d\",\"type\":\"HelpTool\"},{\"attributes\":{\"data_source\":{\"id\":\"bbf32360-af00-4e17-8b15-98a7b976ea59\",\"type\":\"ColumnDataSource\"},\"glyph\":{\"id\":\"d77dd9dc-d7bc-4b68-8bae-f5ed72fd8a19\",\"type\":\"VBar\"},\"hover_glyph\":null,\"muted_glyph\":null,\"nonselection_glyph\":{\"id\":\"d627c38a-33ff-4b16-9c03-87b511f21f47\",\"type\":\"VBar\"},\"selection_glyph\":null,\"view\":{\"id\":\"36a4ec6f-f0f2-4d34-8c7c-53be7bb034d5\",\"type\":\"CDSView\"}},\"id\":\"30fb1a9f-2813-47c4-8e09-c65b42718f87\",\"type\":\"GlyphRenderer\"},{\"attributes\":{},\"id\":\"44f71ba3-514f-4e55-9983-ff98c78367cb\",\"type\":\"WheelZoomTool\"},{\"attributes\":{\"overlay\":{\"id\":\"5958a75c-ed3e-4eab-8602-a7fb894ad1fe\",\"type\":\"BoxAnnotation\"}},\"id\":\"1d4006c8-48df-4e6d-a495-414f370f28fe\",\"type\":\"BoxZoomTool\"},{\"attributes\":{\"source\":{\"id\":\"df090102-9872-40b7-b5a6-21b28acf06f8\",\"type\":\"ColumnDataSource\"}},\"id\":\"9e28237e-cbde-4c3d-aeea-bcb352d9c6f7\",\"type\":\"CDSView\"},{\"attributes\":{},\"id\":\"6a4dbe9c-8684-40e6-8c6f-90391829f6dd\",\"type\":\"SaveTool\"},{\"attributes\":{},\"id\":\"60fe0bdb-5859-46b5-be4e-2ee4881b98ff\",\"type\":\"CategoricalTicker\"},{\"attributes\":{},\"id\":\"134fb229-689d-4861-be80-cd916ac0fc34\",\"type\":\"CategoricalTickFormatter\"},{\"attributes\":{\"axis_label\":\"spectral band\",\"formatter\":{\"id\":\"dd88e989-6a12-48a1-bcf7-8b77631310c1\",\"type\":\"CategoricalTickFormatter\"},\"plot\":{\"id\":\"3d49106b-100d-42b3-adac-87b7c013e88a\",\"subtype\":\"Figure\",\"type\":\"Plot\"},\"ticker\":{\"id\":\"624d2924-b434-4705-a106-278b84a4ad3e\",\"type\":\"CategoricalTicker\"}},\"id\":\"c2825ff3-67e1-4590-9df1-bb69da4d963b\",\"type\":\"CategoricalAxis\"},{\"attributes\":{},\"id\":\"0d1632cb-2737-40c0-895c-b0112954e3cb\",\"type\":\"HelpTool\"},{\"attributes\":{},\"id\":\"89c43a91-2ed5-41dd-bd5e-afd69e7ea9b4\",\"type\":\"ResetTool\"},{\"attributes\":{\"fill_alpha\":{\"value\":0.1},\"fill_color\":{\"value\":\"#1f77b4\"},\"line_alpha\":{\"value\":0.1},\"line_color\":{\"value\":\"#1f77b4\"},\"top\":{\"field\":\"flux\"},\"width\":{\"value\":0.9},\"x\":{\"field\":\"band\"}},\"id\":\"d627c38a-33ff-4b16-9c03-87b511f21f47\",\"type\":\"VBar\"},{\"attributes\":{\"below\":[{\"id\":\"d5a2fc5d-f2e0-4d86-9f5b-00925a4ed5bd\",\"type\":\"CategoricalAxis\"}],\"left\":[{\"id\":\"c560655d-0605-4f52-9b62-ade1b6130611\",\"type\":\"LinearAxis\"}],\"plot_height\":300,\"plot_width\":300,\"renderers\":[{\"id\":\"d5a2fc5d-f2e0-4d86-9f5b-00925a4ed5bd\",\"type\":\"CategoricalAxis\"},{\"id\":\"682f4fd2-e4bd-4906-b95b-c65c9d30d12b\",\"type\":\"Grid\"},{\"id\":\"c560655d-0605-4f52-9b62-ade1b6130611\",\"type\":\"LinearAxis\"},{\"id\":\"48e7badc-32e4-4699-b7f2-70ef723f3d50\",\"type\":\"Grid\"},{\"id\":\"8aa84205-8d38-4310-87a0-0b7024bd3480\",\"type\":\"BoxAnnotation\"},{\"id\":\"68abbfb2-d19f-4683-8c0e-2eecdc5822a1\",\"type\":\"GlyphRenderer\"}],\"title\":{\"id\":\"2d3b8195-cfb9-4d04-adea-de8d3cf9442a\",\"type\":\"Title\"},\"toolbar\":{\"id\":\"398e997a-ac83-4038-8526-73bddf9f3f28\",\"type\":\"Toolbar\"},\"toolbar_location\":null,\"x_range\":{\"id\":\"6523ff28-b0e2-410f-81f4-4c9639492ba4\",\"type\":\"FactorRange\"},\"x_scale\":{\"id\":\"f56fb5c4-240b-46bd-a4f9-2f28a3e0e107\",\"type\":\"CategoricalScale\"},\"y_range\":{\"id\":\"f5324fb7-68e2-4528-8564-b9f0a5648aa6\",\"type\":\"DataRange1d\"},\"y_scale\":{\"id\":\"3673c6fa-2358-45be-8885-dd7c5db88227\",\"type\":\"LinearScale\"}},\"id\":\"00444140-8706-49c8-b543-3d43d50a298e\",\"subtype\":\"Figure\",\"type\":\"Plot\"},{\"attributes\":{},\"id\":\"9204b6e8-a149-4d27-8660-67b38120406c\",\"type\":\"WheelZoomTool\"},{\"attributes\":{\"dimension\":1,\"plot\":{\"id\":\"c602cc77-0fd1-4988-aeb2-5a2ee85a264b\",\"subtype\":\"Figure\",\"type\":\"Plot\"},\"ticker\":{\"id\":\"a6721ac4-e132-42a2-b88a-19fe8f92b572\",\"type\":\"BasicTicker\"}},\"id\":\"d8759e1b-f190-4390-813b-06441df2952c\",\"type\":\"Grid\"},{\"attributes\":{},\"id\":\"a44d9182-66fb-4c7e-b09a-a9c6137a89a3\",\"type\":\"SaveTool\"},{\"attributes\":{\"toolbar\":{\"id\":\"1d83a879-a0d1-4c30-803f-8aead0fd8643\",\"type\":\"ProxyToolbar\"},\"toolbar_location\":\"above\"},\"id\":\"74e94e52-bd60-4ae2-afb2-a1d24af5b559\",\"type\":\"ToolbarBox\"},{\"attributes\":{\"plot\":null,\"text\":\"Atmosphere heating. CLIRAD - CRD.\"},\"id\":\"ecbb2e8b-bdf9-4988-8806-39f9aba72ef2\",\"type\":\"Title\"},{\"attributes\":{},\"id\":\"7265765e-717d-4fc3-86ce-0e2c4a5e5341\",\"type\":\"BasicTicker\"},{\"attributes\":{\"callback\":null,\"factors\":[\"3\",\"9\"]},\"id\":\"d58a3414-882b-4521-be42-519e140ed733\",\"type\":\"FactorRange\"},{\"attributes\":{\"below\":[{\"id\":\"425334a9-f0d8-460b-b221-d0dda4461d5b\",\"type\":\"CategoricalAxis\"}],\"left\":[{\"id\":\"69cfa994-5a7a-42ea-8136-1476302856db\",\"type\":\"LinearAxis\"}],\"plot_height\":300,\"plot_width\":300,\"renderers\":[{\"id\":\"425334a9-f0d8-460b-b221-d0dda4461d5b\",\"type\":\"CategoricalAxis\"},{\"id\":\"f3ab0496-7e46-4d34-9cdb-8996e854dccc\",\"type\":\"Grid\"},{\"id\":\"69cfa994-5a7a-42ea-8136-1476302856db\",\"type\":\"LinearAxis\"},{\"id\":\"d8759e1b-f190-4390-813b-06441df2952c\",\"type\":\"Grid\"},{\"id\":\"5958a75c-ed3e-4eab-8602-a7fb894ad1fe\",\"type\":\"BoxAnnotation\"},{\"id\":\"30fb1a9f-2813-47c4-8e09-c65b42718f87\",\"type\":\"GlyphRenderer\"}],\"title\":{\"id\":\"ecbb2e8b-bdf9-4988-8806-39f9aba72ef2\",\"type\":\"Title\"},\"toolbar\":{\"id\":\"0c0b7504-965c-4d2b-9d01-6cc4aa57db33\",\"type\":\"Toolbar\"},\"toolbar_location\":null,\"x_range\":{\"id\":\"1560148b-c2bf-4ed8-96d3-83c0c5e86b83\",\"type\":\"FactorRange\"},\"x_scale\":{\"id\":\"1c832d59-f361-4fe8-9c8c-fb69e55a91ae\",\"type\":\"CategoricalScale\"},\"y_range\":{\"id\":\"5ac2f9d2-0d37-4cf2-a826-224808835093\",\"type\":\"DataRange1d\"},\"y_scale\":{\"id\":\"adb5f10d-f35e-40a7-81eb-8b621937001a\",\"type\":\"LinearScale\"}},\"id\":\"c602cc77-0fd1-4988-aeb2-5a2ee85a264b\",\"subtype\":\"Figure\",\"type\":\"Plot\"},{\"attributes\":{\"axis_label\":\"flux (W m-2)\",\"formatter\":{\"id\":\"dbc0a4ac-6aea-4aab-8600-dd6d5740279b\",\"type\":\"BasicTickFormatter\"},\"plot\":{\"id\":\"c602cc77-0fd1-4988-aeb2-5a2ee85a264b\",\"subtype\":\"Figure\",\"type\":\"Plot\"},\"ticker\":{\"id\":\"a6721ac4-e132-42a2-b88a-19fe8f92b572\",\"type\":\"BasicTicker\"}},\"id\":\"69cfa994-5a7a-42ea-8136-1476302856db\",\"type\":\"LinearAxis\"},{\"attributes\":{\"active_drag\":\"auto\",\"active_inspect\":\"auto\",\"active_scroll\":\"auto\",\"active_tap\":\"auto\",\"tools\":[{\"id\":\"4d9db294-54c0-4347-9e14-1910c485c5ff\",\"type\":\"PanTool\"},{\"id\":\"44f71ba3-514f-4e55-9983-ff98c78367cb\",\"type\":\"WheelZoomTool\"},{\"id\":\"1d4006c8-48df-4e6d-a495-414f370f28fe\",\"type\":\"BoxZoomTool\"},{\"id\":\"6a4dbe9c-8684-40e6-8c6f-90391829f6dd\",\"type\":\"SaveTool\"},{\"id\":\"b8cec796-f07e-42c0-8c09-69ce8f9d126d\",\"type\":\"ResetTool\"},{\"id\":\"e4e2a7c0-6e85-472b-94c0-b6ccf359f770\",\"type\":\"HelpTool\"}]},\"id\":\"0c0b7504-965c-4d2b-9d01-6cc4aa57db33\",\"type\":\"Toolbar\"},{\"attributes\":{\"children\":[{\"id\":\"74e94e52-bd60-4ae2-afb2-a1d24af5b559\",\"type\":\"ToolbarBox\"},{\"id\":\"424d32a2-377d-409f-a7d8-d755f9b206b5\",\"type\":\"Column\"}]},\"id\":\"a93266dd-9537-4219-b408-1ed8e479042f\",\"type\":\"Column\"},{\"attributes\":{\"active_drag\":\"auto\",\"active_inspect\":\"auto\",\"active_scroll\":\"auto\",\"active_tap\":\"auto\",\"tools\":[{\"id\":\"01495b3c-1d2d-4de8-8b78-9f21b82b0a2c\",\"type\":\"PanTool\"},{\"id\":\"9204b6e8-a149-4d27-8660-67b38120406c\",\"type\":\"WheelZoomTool\"},{\"id\":\"3dfd40a2-593e-4cde-bb0a-df1bd2cc648c\",\"type\":\"BoxZoomTool\"},{\"id\":\"a44d9182-66fb-4c7e-b09a-a9c6137a89a3\",\"type\":\"SaveTool\"},{\"id\":\"89c43a91-2ed5-41dd-bd5e-afd69e7ea9b4\",\"type\":\"ResetTool\"},{\"id\":\"0d1632cb-2737-40c0-895c-b0112954e3cb\",\"type\":\"HelpTool\"}]},\"id\":\"7cc11b1c-821e-4cac-9760-55331f940edc\",\"type\":\"Toolbar\"},{\"attributes\":{},\"id\":\"a6721ac4-e132-42a2-b88a-19fe8f92b572\",\"type\":\"BasicTicker\"},{\"attributes\":{\"axis_label\":\"spectral band\",\"formatter\":{\"id\":\"134fb229-689d-4861-be80-cd916ac0fc34\",\"type\":\"CategoricalTickFormatter\"},\"plot\":{\"id\":\"c602cc77-0fd1-4988-aeb2-5a2ee85a264b\",\"subtype\":\"Figure\",\"type\":\"Plot\"},\"ticker\":{\"id\":\"60fe0bdb-5859-46b5-be4e-2ee4881b98ff\",\"type\":\"CategoricalTicker\"}},\"id\":\"425334a9-f0d8-460b-b221-d0dda4461d5b\",\"type\":\"CategoricalAxis\"},{\"attributes\":{\"fill_color\":{\"value\":\"#1f77b4\"},\"line_color\":{\"value\":\"#1f77b4\"},\"top\":{\"field\":\"flux\"},\"width\":{\"value\":0.9},\"x\":{\"field\":\"band\"}},\"id\":\"9cd99619-91f2-400c-979e-61285b79f014\",\"type\":\"VBar\"},{\"attributes\":{\"plot\":{\"id\":\"c602cc77-0fd1-4988-aeb2-5a2ee85a264b\",\"subtype\":\"Figure\",\"type\":\"Plot\"},\"ticker\":{\"id\":\"60fe0bdb-5859-46b5-be4e-2ee4881b98ff\",\"type\":\"CategoricalTicker\"}},\"id\":\"f3ab0496-7e46-4d34-9cdb-8996e854dccc\",\"type\":\"Grid\"},{\"attributes\":{\"callback\":null,\"data\":{\"band\":[\"3\",\"9\"],\"flux\":{\"__ndarray__\":\"AHid9aWOpr+ATydIiKzRPw==\",\"dtype\":\"float64\",\"shape\":[2]}},\"selected\":{\"id\":\"76dae85e-8a3f-493e-b077-b3bebe5df241\",\"type\":\"Selection\"},\"selection_policy\":{\"id\":\"ccd3487a-0cd3-4d6a-bd4c-6f3933f279ab\",\"type\":\"UnionRenderers\"}},\"id\":\"bbf32360-af00-4e17-8b15-98a7b976ea59\",\"type\":\"ColumnDataSource\"},{\"attributes\":{\"callback\":null},\"id\":\"5ac2f9d2-0d37-4cf2-a826-224808835093\",\"type\":\"DataRange1d\"},{\"attributes\":{},\"id\":\"1c832d59-f361-4fe8-9c8c-fb69e55a91ae\",\"type\":\"CategoricalScale\"},{\"attributes\":{\"plot\":null,\"text\":\"SFC flux. CLIRAD - CRD.\"},\"id\":\"f02c358a-6085-4a09-bc45-b2ff6f2f6ccd\",\"type\":\"Title\"},{\"attributes\":{\"children\":[{\"id\":\"00444140-8706-49c8-b543-3d43d50a298e\",\"subtype\":\"Figure\",\"type\":\"Plot\"},{\"id\":\"3d49106b-100d-42b3-adac-87b7c013e88a\",\"subtype\":\"Figure\",\"type\":\"Plot\"},{\"id\":\"c602cc77-0fd1-4988-aeb2-5a2ee85a264b\",\"subtype\":\"Figure\",\"type\":\"Plot\"}]},\"id\":\"20c0920b-877d-4900-8008-86c2dff46a64\",\"type\":\"Row\"},{\"attributes\":{\"data_source\":{\"id\":\"3308dfed-13a8-4f90-976c-0288dbcaad77\",\"type\":\"ColumnDataSource\"},\"glyph\":{\"id\":\"9cd99619-91f2-400c-979e-61285b79f014\",\"type\":\"VBar\"},\"hover_glyph\":null,\"muted_glyph\":null,\"nonselection_glyph\":{\"id\":\"a54efd21-b006-49ee-8e9d-865b741b1c8d\",\"type\":\"VBar\"},\"selection_glyph\":null,\"view\":{\"id\":\"24ff69db-e851-42d7-b66e-b7c68aa13cc3\",\"type\":\"CDSView\"}},\"id\":\"e1f6c621-b196-4cad-9ad1-e25a163dbfd5\",\"type\":\"GlyphRenderer\"},{\"attributes\":{},\"id\":\"01495b3c-1d2d-4de8-8b78-9f21b82b0a2c\",\"type\":\"PanTool\"},{\"attributes\":{\"bottom_units\":\"screen\",\"fill_alpha\":{\"value\":0.5},\"fill_color\":{\"value\":\"lightgrey\"},\"left_units\":\"screen\",\"level\":\"overlay\",\"line_alpha\":{\"value\":1.0},\"line_color\":{\"value\":\"black\"},\"line_dash\":[4,4],\"line_width\":{\"value\":2},\"plot\":null,\"render_mode\":\"css\",\"right_units\":\"screen\",\"top_units\":\"screen\"},\"id\":\"90bd3685-9ba1-4056-9815-da28a6dec4e6\",\"type\":\"BoxAnnotation\"},{\"attributes\":{\"plot\":null,\"text\":\"TOA flux. CLIRAD - CRD.\"},\"id\":\"2d3b8195-cfb9-4d04-adea-de8d3cf9442a\",\"type\":\"Title\"},{\"attributes\":{\"below\":[{\"id\":\"c2825ff3-67e1-4590-9df1-bb69da4d963b\",\"type\":\"CategoricalAxis\"}],\"left\":[{\"id\":\"2dc63100-3bdf-41fa-8523-2ca6330fad54\",\"type\":\"LinearAxis\"}],\"plot_height\":300,\"plot_width\":300,\"renderers\":[{\"id\":\"c2825ff3-67e1-4590-9df1-bb69da4d963b\",\"type\":\"CategoricalAxis\"},{\"id\":\"a0a5e4bb-d0b9-48b8-a771-dabab0865f95\",\"type\":\"Grid\"},{\"id\":\"2dc63100-3bdf-41fa-8523-2ca6330fad54\",\"type\":\"LinearAxis\"},{\"id\":\"ed88afa0-bfb0-4b3f-bbf8-54aac1140c5a\",\"type\":\"Grid\"},{\"id\":\"90bd3685-9ba1-4056-9815-da28a6dec4e6\",\"type\":\"BoxAnnotation\"},{\"id\":\"e1f6c621-b196-4cad-9ad1-e25a163dbfd5\",\"type\":\"GlyphRenderer\"}],\"title\":{\"id\":\"f02c358a-6085-4a09-bc45-b2ff6f2f6ccd\",\"type\":\"Title\"},\"toolbar\":{\"id\":\"7cc11b1c-821e-4cac-9760-55331f940edc\",\"type\":\"Toolbar\"},\"toolbar_location\":null,\"x_range\":{\"id\":\"d58a3414-882b-4521-be42-519e140ed733\",\"type\":\"FactorRange\"},\"x_scale\":{\"id\":\"5aebe7f7-d2a3-4d3a-93b6-be301aa8e52c\",\"type\":\"CategoricalScale\"},\"y_range\":{\"id\":\"37ca3e6d-6725-4116-8022-efaba80cb9bd\",\"type\":\"DataRange1d\"},\"y_scale\":{\"id\":\"574de052-449c-45a2-998a-09278a74edcd\",\"type\":\"LinearScale\"}},\"id\":\"3d49106b-100d-42b3-adac-87b7c013e88a\",\"subtype\":\"Figure\",\"type\":\"Plot\"},{\"attributes\":{\"fill_alpha\":{\"value\":0.1},\"fill_color\":{\"value\":\"#1f77b4\"},\"line_alpha\":{\"value\":0.1},\"line_color\":{\"value\":\"#1f77b4\"},\"top\":{\"field\":\"flux\"},\"width\":{\"value\":0.9},\"x\":{\"field\":\"band\"}},\"id\":\"a54efd21-b006-49ee-8e9d-865b741b1c8d\",\"type\":\"VBar\"},{\"attributes\":{\"axis_label\":\"flux (W m-2)\",\"formatter\":{\"id\":\"94d292b7-1268-4c41-bb33-92fed8b86d4a\",\"type\":\"BasicTickFormatter\"},\"plot\":{\"id\":\"3d49106b-100d-42b3-adac-87b7c013e88a\",\"subtype\":\"Figure\",\"type\":\"Plot\"},\"ticker\":{\"id\":\"7265765e-717d-4fc3-86ce-0e2c4a5e5341\",\"type\":\"BasicTicker\"}},\"id\":\"2dc63100-3bdf-41fa-8523-2ca6330fad54\",\"type\":\"LinearAxis\"},{\"attributes\":{\"children\":[{\"id\":\"20c0920b-877d-4900-8008-86c2dff46a64\",\"type\":\"Row\"}]},\"id\":\"424d32a2-377d-409f-a7d8-d755f9b206b5\",\"type\":\"Column\"},{\"attributes\":{\"dimension\":1,\"plot\":{\"id\":\"3d49106b-100d-42b3-adac-87b7c013e88a\",\"subtype\":\"Figure\",\"type\":\"Plot\"},\"ticker\":{\"id\":\"7265765e-717d-4fc3-86ce-0e2c4a5e5341\",\"type\":\"BasicTicker\"}},\"id\":\"ed88afa0-bfb0-4b3f-bbf8-54aac1140c5a\",\"type\":\"Grid\"},{\"attributes\":{},\"id\":\"adb5f10d-f35e-40a7-81eb-8b621937001a\",\"type\":\"LinearScale\"},{\"attributes\":{\"source\":{\"id\":\"3308dfed-13a8-4f90-976c-0288dbcaad77\",\"type\":\"ColumnDataSource\"}},\"id\":\"24ff69db-e851-42d7-b66e-b7c68aa13cc3\",\"type\":\"CDSView\"},{\"attributes\":{},\"id\":\"dbc0a4ac-6aea-4aab-8600-dd6d5740279b\",\"type\":\"BasicTickFormatter\"},{\"attributes\":{\"tools\":[{\"id\":\"367feef8-570b-40d6-a0db-2ab83ea0fcdb\",\"type\":\"PanTool\"},{\"id\":\"f907cfe7-e28d-47e1-b01b-3635778c01ad\",\"type\":\"WheelZoomTool\"},{\"id\":\"85f1bff8-2d7b-47bb-8762-6ea8427505ea\",\"type\":\"BoxZoomTool\"},{\"id\":\"d37242d5-67f2-4054-ac0c-a04f0cebdc75\",\"type\":\"SaveTool\"},{\"id\":\"0576b218-9c84-43bc-9be3-4e59daa568c5\",\"type\":\"ResetTool\"},{\"id\":\"156bd91a-2363-4a21-8107-3c9d54f96c9d\",\"type\":\"HelpTool\"},{\"id\":\"01495b3c-1d2d-4de8-8b78-9f21b82b0a2c\",\"type\":\"PanTool\"},{\"id\":\"9204b6e8-a149-4d27-8660-67b38120406c\",\"type\":\"WheelZoomTool\"},{\"id\":\"3dfd40a2-593e-4cde-bb0a-df1bd2cc648c\",\"type\":\"BoxZoomTool\"},{\"id\":\"a44d9182-66fb-4c7e-b09a-a9c6137a89a3\",\"type\":\"SaveTool\"},{\"id\":\"89c43a91-2ed5-41dd-bd5e-afd69e7ea9b4\",\"type\":\"ResetTool\"},{\"id\":\"0d1632cb-2737-40c0-895c-b0112954e3cb\",\"type\":\"HelpTool\"},{\"id\":\"4d9db294-54c0-4347-9e14-1910c485c5ff\",\"type\":\"PanTool\"},{\"id\":\"44f71ba3-514f-4e55-9983-ff98c78367cb\",\"type\":\"WheelZoomTool\"},{\"id\":\"1d4006c8-48df-4e6d-a495-414f370f28fe\",\"type\":\"BoxZoomTool\"},{\"id\":\"6a4dbe9c-8684-40e6-8c6f-90391829f6dd\",\"type\":\"SaveTool\"},{\"id\":\"b8cec796-f07e-42c0-8c09-69ce8f9d126d\",\"type\":\"ResetTool\"},{\"id\":\"e4e2a7c0-6e85-472b-94c0-b6ccf359f770\",\"type\":\"HelpTool\"}]},\"id\":\"1d83a879-a0d1-4c30-803f-8aead0fd8643\",\"type\":\"ProxyToolbar\"},{\"attributes\":{\"callback\":null,\"factors\":[\"3\",\"9\"]},\"id\":\"1560148b-c2bf-4ed8-96d3-83c0c5e86b83\",\"type\":\"FactorRange\"}],\"root_ids\":[\"a93266dd-9537-4219-b408-1ed8e479042f\"]},\"title\":\"Bokeh Application\",\"version\":\"0.12.16\"}};\n",
       "  var render_items = [{\"docid\":\"d03e4b1f-3964-4072-b606-a5698c723c4c\",\"elementid\":\"2fd74348-8083-4f03-b525-98b9da081014\",\"modelid\":\"a93266dd-9537-4219-b408-1ed8e479042f\"}];\n",
       "  root.Bokeh.embed.embed_items_notebook(docs_json, render_items);\n",
       "\n",
       "  }\n",
       "  if (root.Bokeh !== undefined) {\n",
       "    embed_document(root);\n",
       "  } else {\n",
       "    var attempts = 0;\n",
       "    var timer = setInterval(function(root) {\n",
       "      if (root.Bokeh !== undefined) {\n",
       "        embed_document(root);\n",
       "        clearInterval(timer);\n",
       "      }\n",
       "      attempts++;\n",
       "      if (attempts > 100) {\n",
       "        console.log(\"Bokeh: ERROR: Unable to run BokehJS code because BokehJS library is missing\")\n",
       "        clearInterval(timer);\n",
       "      }\n",
       "    }, 10, root)\n",
       "  }\n",
       "})(window);"
      ],
      "application/vnd.bokehjs_exec.v0+json": ""
     },
     "metadata": {
      "application/vnd.bokehjs_exec.v0+json": {
       "id": "a93266dd-9537-4219-b408-1ed8e479042f"
      }
     },
     "output_type": "display_data"
    },
    {
     "data": {
      "text/markdown": [
       "*FIGURE.* Difference between CLIRAD and CRD in TOA, SFC and net atmosphere flux, in each spectral band."
      ],
      "text/plain": [
       "<IPython.core.display.Markdown object>"
      ]
     },
     "metadata": {},
     "output_type": "display_data"
    },
    {
     "data": {
      "text/html": [
       "<div>\n",
       "<style scoped>\n",
       "    .dataframe tbody tr th:only-of-type {\n",
       "        vertical-align: middle;\n",
       "    }\n",
       "\n",
       "    .dataframe tbody tr th {\n",
       "        vertical-align: top;\n",
       "    }\n",
       "\n",
       "    .dataframe thead th {\n",
       "        text-align: right;\n",
       "    }\n",
       "</style>\n",
       "<table border=\"1\" class=\"dataframe\">\n",
       "  <thead>\n",
       "    <tr style=\"text-align: right;\">\n",
       "      <th></th>\n",
       "      <th></th>\n",
       "      <th>TOA up</th>\n",
       "      <th>SFC down</th>\n",
       "      <th>ATM heating</th>\n",
       "      <th>tropo up</th>\n",
       "      <th>tropo down</th>\n",
       "      <th>tropo net</th>\n",
       "    </tr>\n",
       "  </thead>\n",
       "  <tbody>\n",
       "    <tr>\n",
       "      <th rowspan=\"2\" valign=\"top\">Sum over band</th>\n",
       "      <th>CLIRAD - CRD</th>\n",
       "      <td>0.17</td>\n",
       "      <td>-0.07</td>\n",
       "      <td>0.23</td>\n",
       "      <td>0.09</td>\n",
       "      <td>-0.01</td>\n",
       "      <td>0.08</td>\n",
       "    </tr>\n",
       "    <tr>\n",
       "      <th>CRD</th>\n",
       "      <td>-60.61</td>\n",
       "      <td>6.95</td>\n",
       "      <td>-2.11</td>\n",
       "      <td>-60.90</td>\n",
       "      <td>0.19</td>\n",
       "      <td>-60.71</td>\n",
       "    </tr>\n",
       "    <tr>\n",
       "      <th rowspan=\"2\" valign=\"top\">Band 3</th>\n",
       "      <th>CLIRAD - CRD</th>\n",
       "      <td>-0.06</td>\n",
       "      <td>-0.01</td>\n",
       "      <td>-0.04</td>\n",
       "      <td>-0.06</td>\n",
       "      <td>-0.01</td>\n",
       "      <td>-0.07</td>\n",
       "    </tr>\n",
       "    <tr>\n",
       "      <th>CRD</th>\n",
       "      <td>-37.09</td>\n",
       "      <td>2.70</td>\n",
       "      <td>-1.29</td>\n",
       "      <td>-37.25</td>\n",
       "      <td>0.15</td>\n",
       "      <td>-37.11</td>\n",
       "    </tr>\n",
       "    <tr>\n",
       "      <th rowspan=\"2\" valign=\"top\">Band 9</th>\n",
       "      <th>CLIRAD - CRD</th>\n",
       "      <td>0.22</td>\n",
       "      <td>-0.05</td>\n",
       "      <td>0.28</td>\n",
       "      <td>0.15</td>\n",
       "      <td>-0.00</td>\n",
       "      <td>0.15</td>\n",
       "    </tr>\n",
       "    <tr>\n",
       "      <th>CRD</th>\n",
       "      <td>-23.52</td>\n",
       "      <td>4.25</td>\n",
       "      <td>-0.82</td>\n",
       "      <td>-23.65</td>\n",
       "      <td>0.05</td>\n",
       "      <td>-23.60</td>\n",
       "    </tr>\n",
       "  </tbody>\n",
       "</table>\n",
       "</div>"
      ],
      "text/plain": [
       "                            TOA up  SFC down  ATM heating  tropo up  \\\n",
       "Sum over band CLIRAD - CRD    0.17     -0.07         0.23      0.09   \n",
       "              CRD           -60.61      6.95        -2.11    -60.90   \n",
       "Band 3        CLIRAD - CRD   -0.06     -0.01        -0.04     -0.06   \n",
       "              CRD           -37.09      2.70        -1.29    -37.25   \n",
       "Band 9        CLIRAD - CRD    0.22     -0.05         0.28      0.15   \n",
       "              CRD           -23.52      4.25        -0.82    -23.65   \n",
       "\n",
       "                            tropo down  tropo net  \n",
       "Sum over band CLIRAD - CRD       -0.01       0.08  \n",
       "              CRD                 0.19     -60.71  \n",
       "Band 3        CLIRAD - CRD       -0.01      -0.07  \n",
       "              CRD                 0.15     -37.11  \n",
       "Band 9        CLIRAD - CRD       -0.00       0.15  \n",
       "              CRD                 0.05     -23.60  "
      ]
     },
     "metadata": {},
     "output_type": "display_data"
    },
    {
     "data": {
      "text/markdown": [
       "*TABLE.* Difference between CLIRAD and CRD fluxes at various atmosphere levels."
      ],
      "text/plain": [
       "<IPython.core.display.Markdown object>"
      ]
     },
     "metadata": {},
     "output_type": "display_data"
    }
   ],
   "source": [
    "script()"
   ]
  },
  {
   "cell_type": "markdown",
   "metadata": {},
   "source": [
    "## --"
   ]
  },
  {
   "cell_type": "code",
   "execution_count": 57,
   "metadata": {},
   "outputs": [
    {
     "data": {
      "text/html": [
       "<script>\n",
       "code_show=true; \n",
       "function code_toggle() {\n",
       " if (code_show){\n",
       " $('div.input').hide();\n",
       " } else {\n",
       " $('div.input').show();\n",
       " }\n",
       " code_show = !code_show\n",
       "} \n",
       "$( document ).ready(code_toggle);\n",
       "</script>\n",
       "<form action=\"javascript:code_toggle()\"><input type=\"submit\" value=\"Click here to toggle on/off the raw code.\"></form>"
      ],
      "text/plain": [
       "<IPython.core.display.HTML object>"
      ]
     },
     "execution_count": 57,
     "metadata": {},
     "output_type": "execute_result"
    }
   ],
   "source": [
    "display.HTML('''<script>\n",
    "code_show=true; \n",
    "function code_toggle() {\n",
    " if (code_show){\n",
    " $('div.input').hide();\n",
    " } else {\n",
    " $('div.input').show();\n",
    " }\n",
    " code_show = !code_show\n",
    "} \n",
    "$( document ).ready(code_toggle);\n",
    "</script>\n",
    "<form action=\"javascript:code_toggle()\"><input type=\"submit\" value=\"Click here to toggle on/off the raw code.\"></form>''')"
   ]
  },
  {
   "cell_type": "code",
   "execution_count": null,
   "metadata": {
    "collapsed": true
   },
   "outputs": [],
   "source": []
  }
 ],
 "metadata": {
  "kernelspec": {
   "display_name": "Python 3",
   "language": "python",
   "name": "python3"
  },
  "language_info": {
   "codemirror_mode": {
    "name": "ipython",
    "version": 3
   },
   "file_extension": ".py",
   "mimetype": "text/x-python",
   "name": "python",
   "nbconvert_exporter": "python",
   "pygments_lexer": "ipython3",
   "version": "3.6.7"
  }
 },
 "nbformat": 4,
 "nbformat_minor": 2
}
