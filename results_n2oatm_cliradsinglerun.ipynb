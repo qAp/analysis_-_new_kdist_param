{
 "cells": [
  {
   "cell_type": "code",
   "execution_count": 1,
   "metadata": {
    "collapsed": true
   },
   "outputs": [],
   "source": [
    "%reload_ext autoreload\n",
    "%autoreload 2\n",
    "\n",
    "import os\n",
    "import io\n",
    "import ast\n",
    "import json\n",
    "import importlib \n",
    "import itertools\n",
    "import collections\n",
    "import pprint\n",
    "\n",
    "import pymongo\n",
    "\n",
    "from bokeh.io import output_notebook, show\n",
    "from bokeh.layouts import gridplot\n",
    "from bokeh.plotting import figure\n",
    "from bokeh.models import Range1d, Legend, ColumnDataSource, FactorRange\n",
    "from bokeh.palettes import all_palettes\n",
    "from bokeh.transform import factor_cmap\n",
    "\n",
    "import matplotlib\n",
    "import matplotlib.pyplot as plt\n",
    "import numpy as np\n",
    "import pandas as pd\n",
    "import xarray as xr\n",
    "\n",
    "from climatools.atm.absorbers import *\n",
    "\n",
    "import climatools.lblnew.bestfit_params as bestfits\n",
    "from climatools.lblnew import setup_bestfit, setup_overlap\n",
    "import climatools.lblnew.pipeline as pipe_lblnew\n",
    "\n",
    "from climatools.cliradlw.utils import *\n",
    "import climatools.cliradlw.setup as setup_cliradlw\n",
    "import climatools.cliradlw.pipeline as pipe_cliradlw\n",
    "from climatools.cliradlw.dataset import *\n",
    "\n",
    "import climatools.html.html as climahtml\n",
    "from climatools.lblnew.dataio import *\n",
    "from climatools.plot.plot import *\n",
    "\n",
    "from IPython import display"
   ]
  },
  {
   "cell_type": "code",
   "execution_count": 2,
   "metadata": {
    "scrolled": true
   },
   "outputs": [
    {
     "data": {
      "text/html": [
       "\n",
       "    <div class=\"bk-root\">\n",
       "        <a href=\"https://bokeh.pydata.org\" target=\"_blank\" class=\"bk-logo bk-logo-small bk-logo-notebook\"></a>\n",
       "        <span id=\"6d013005-dd21-4a8a-ba67-649439bd1a63\">Loading BokehJS ...</span>\n",
       "    </div>"
      ]
     },
     "metadata": {},
     "output_type": "display_data"
    },
    {
     "data": {
      "application/javascript": [
       "\n",
       "(function(root) {\n",
       "  function now() {\n",
       "    return new Date();\n",
       "  }\n",
       "\n",
       "  var force = true;\n",
       "\n",
       "  if (typeof (root._bokeh_onload_callbacks) === \"undefined\" || force === true) {\n",
       "    root._bokeh_onload_callbacks = [];\n",
       "    root._bokeh_is_loading = undefined;\n",
       "  }\n",
       "\n",
       "  var JS_MIME_TYPE = 'application/javascript';\n",
       "  var HTML_MIME_TYPE = 'text/html';\n",
       "  var EXEC_MIME_TYPE = 'application/vnd.bokehjs_exec.v0+json';\n",
       "  var CLASS_NAME = 'output_bokeh rendered_html';\n",
       "\n",
       "  /**\n",
       "   * Render data to the DOM node\n",
       "   */\n",
       "  function render(props, node) {\n",
       "    var script = document.createElement(\"script\");\n",
       "    node.appendChild(script);\n",
       "  }\n",
       "\n",
       "  /**\n",
       "   * Handle when an output is cleared or removed\n",
       "   */\n",
       "  function handleClearOutput(event, handle) {\n",
       "    var cell = handle.cell;\n",
       "\n",
       "    var id = cell.output_area._bokeh_element_id;\n",
       "    var server_id = cell.output_area._bokeh_server_id;\n",
       "    // Clean up Bokeh references\n",
       "    if (id !== undefined) {\n",
       "      Bokeh.index[id].model.document.clear();\n",
       "      delete Bokeh.index[id];\n",
       "    }\n",
       "\n",
       "    if (server_id !== undefined) {\n",
       "      // Clean up Bokeh references\n",
       "      var cmd = \"from bokeh.io.state import curstate; print(curstate().uuid_to_server['\" + server_id + \"'].get_sessions()[0].document.roots[0]._id)\";\n",
       "      cell.notebook.kernel.execute(cmd, {\n",
       "        iopub: {\n",
       "          output: function(msg) {\n",
       "            var element_id = msg.content.text.trim();\n",
       "            Bokeh.index[element_id].model.document.clear();\n",
       "            delete Bokeh.index[element_id];\n",
       "          }\n",
       "        }\n",
       "      });\n",
       "      // Destroy server and session\n",
       "      var cmd = \"import bokeh.io.notebook as ion; ion.destroy_server('\" + server_id + \"')\";\n",
       "      cell.notebook.kernel.execute(cmd);\n",
       "    }\n",
       "  }\n",
       "\n",
       "  /**\n",
       "   * Handle when a new output is added\n",
       "   */\n",
       "  function handleAddOutput(event, handle) {\n",
       "    var output_area = handle.output_area;\n",
       "    var output = handle.output;\n",
       "\n",
       "    // limit handleAddOutput to display_data with EXEC_MIME_TYPE content only\n",
       "    if ((output.output_type != \"display_data\") || (!output.data.hasOwnProperty(EXEC_MIME_TYPE))) {\n",
       "      return\n",
       "    }\n",
       "\n",
       "    var toinsert = output_area.element.find(\".\" + CLASS_NAME.split(' ')[0]);\n",
       "\n",
       "    if (output.metadata[EXEC_MIME_TYPE][\"id\"] !== undefined) {\n",
       "      toinsert[toinsert.length - 1].firstChild.textContent = output.data[JS_MIME_TYPE];\n",
       "      // store reference to embed id on output_area\n",
       "      output_area._bokeh_element_id = output.metadata[EXEC_MIME_TYPE][\"id\"];\n",
       "    }\n",
       "    if (output.metadata[EXEC_MIME_TYPE][\"server_id\"] !== undefined) {\n",
       "      var bk_div = document.createElement(\"div\");\n",
       "      bk_div.innerHTML = output.data[HTML_MIME_TYPE];\n",
       "      var script_attrs = bk_div.children[0].attributes;\n",
       "      for (var i = 0; i < script_attrs.length; i++) {\n",
       "        toinsert[toinsert.length - 1].firstChild.setAttribute(script_attrs[i].name, script_attrs[i].value);\n",
       "      }\n",
       "      // store reference to server id on output_area\n",
       "      output_area._bokeh_server_id = output.metadata[EXEC_MIME_TYPE][\"server_id\"];\n",
       "    }\n",
       "  }\n",
       "\n",
       "  function register_renderer(events, OutputArea) {\n",
       "\n",
       "    function append_mime(data, metadata, element) {\n",
       "      // create a DOM node to render to\n",
       "      var toinsert = this.create_output_subarea(\n",
       "        metadata,\n",
       "        CLASS_NAME,\n",
       "        EXEC_MIME_TYPE\n",
       "      );\n",
       "      this.keyboard_manager.register_events(toinsert);\n",
       "      // Render to node\n",
       "      var props = {data: data, metadata: metadata[EXEC_MIME_TYPE]};\n",
       "      render(props, toinsert[toinsert.length - 1]);\n",
       "      element.append(toinsert);\n",
       "      return toinsert\n",
       "    }\n",
       "\n",
       "    /* Handle when an output is cleared or removed */\n",
       "    events.on('clear_output.CodeCell', handleClearOutput);\n",
       "    events.on('delete.Cell', handleClearOutput);\n",
       "\n",
       "    /* Handle when a new output is added */\n",
       "    events.on('output_added.OutputArea', handleAddOutput);\n",
       "\n",
       "    /**\n",
       "     * Register the mime type and append_mime function with output_area\n",
       "     */\n",
       "    OutputArea.prototype.register_mime_type(EXEC_MIME_TYPE, append_mime, {\n",
       "      /* Is output safe? */\n",
       "      safe: true,\n",
       "      /* Index of renderer in `output_area.display_order` */\n",
       "      index: 0\n",
       "    });\n",
       "  }\n",
       "\n",
       "  // register the mime type if in Jupyter Notebook environment and previously unregistered\n",
       "  if (root.Jupyter !== undefined) {\n",
       "    var events = require('base/js/events');\n",
       "    var OutputArea = require('notebook/js/outputarea').OutputArea;\n",
       "\n",
       "    if (OutputArea.prototype.mime_types().indexOf(EXEC_MIME_TYPE) == -1) {\n",
       "      register_renderer(events, OutputArea);\n",
       "    }\n",
       "  }\n",
       "\n",
       "  \n",
       "  if (typeof (root._bokeh_timeout) === \"undefined\" || force === true) {\n",
       "    root._bokeh_timeout = Date.now() + 5000;\n",
       "    root._bokeh_failed_load = false;\n",
       "  }\n",
       "\n",
       "  var NB_LOAD_WARNING = {'data': {'text/html':\n",
       "     \"<div style='background-color: #fdd'>\\n\"+\n",
       "     \"<p>\\n\"+\n",
       "     \"BokehJS does not appear to have successfully loaded. If loading BokehJS from CDN, this \\n\"+\n",
       "     \"may be due to a slow or bad network connection. Possible fixes:\\n\"+\n",
       "     \"</p>\\n\"+\n",
       "     \"<ul>\\n\"+\n",
       "     \"<li>re-rerun `output_notebook()` to attempt to load from CDN again, or</li>\\n\"+\n",
       "     \"<li>use INLINE resources instead, as so:</li>\\n\"+\n",
       "     \"</ul>\\n\"+\n",
       "     \"<code>\\n\"+\n",
       "     \"from bokeh.resources import INLINE\\n\"+\n",
       "     \"output_notebook(resources=INLINE)\\n\"+\n",
       "     \"</code>\\n\"+\n",
       "     \"</div>\"}};\n",
       "\n",
       "  function display_loaded() {\n",
       "    var el = document.getElementById(\"6d013005-dd21-4a8a-ba67-649439bd1a63\");\n",
       "    if (el != null) {\n",
       "      el.textContent = \"BokehJS is loading...\";\n",
       "    }\n",
       "    if (root.Bokeh !== undefined) {\n",
       "      if (el != null) {\n",
       "        el.textContent = \"BokehJS \" + root.Bokeh.version + \" successfully loaded.\";\n",
       "      }\n",
       "    } else if (Date.now() < root._bokeh_timeout) {\n",
       "      setTimeout(display_loaded, 100)\n",
       "    }\n",
       "  }\n",
       "\n",
       "\n",
       "  function run_callbacks() {\n",
       "    try {\n",
       "      root._bokeh_onload_callbacks.forEach(function(callback) { callback() });\n",
       "    }\n",
       "    finally {\n",
       "      delete root._bokeh_onload_callbacks\n",
       "    }\n",
       "    console.info(\"Bokeh: all callbacks have finished\");\n",
       "  }\n",
       "\n",
       "  function load_libs(js_urls, callback) {\n",
       "    root._bokeh_onload_callbacks.push(callback);\n",
       "    if (root._bokeh_is_loading > 0) {\n",
       "      console.log(\"Bokeh: BokehJS is being loaded, scheduling callback at\", now());\n",
       "      return null;\n",
       "    }\n",
       "    if (js_urls == null || js_urls.length === 0) {\n",
       "      run_callbacks();\n",
       "      return null;\n",
       "    }\n",
       "    console.log(\"Bokeh: BokehJS not loaded, scheduling load and callback at\", now());\n",
       "    root._bokeh_is_loading = js_urls.length;\n",
       "    for (var i = 0; i < js_urls.length; i++) {\n",
       "      var url = js_urls[i];\n",
       "      var s = document.createElement('script');\n",
       "      s.src = url;\n",
       "      s.async = false;\n",
       "      s.onreadystatechange = s.onload = function() {\n",
       "        root._bokeh_is_loading--;\n",
       "        if (root._bokeh_is_loading === 0) {\n",
       "          console.log(\"Bokeh: all BokehJS libraries loaded\");\n",
       "          run_callbacks()\n",
       "        }\n",
       "      };\n",
       "      s.onerror = function() {\n",
       "        console.warn(\"failed to load library \" + url);\n",
       "      };\n",
       "      console.log(\"Bokeh: injecting script tag for BokehJS library: \", url);\n",
       "      document.getElementsByTagName(\"head\")[0].appendChild(s);\n",
       "    }\n",
       "  };var element = document.getElementById(\"6d013005-dd21-4a8a-ba67-649439bd1a63\");\n",
       "  if (element == null) {\n",
       "    console.log(\"Bokeh: ERROR: autoload.js configured with elementid '6d013005-dd21-4a8a-ba67-649439bd1a63' but no matching script tag was found. \")\n",
       "    return false;\n",
       "  }\n",
       "\n",
       "  var js_urls = [\"https://cdn.pydata.org/bokeh/release/bokeh-0.12.16.min.js\", \"https://cdn.pydata.org/bokeh/release/bokeh-widgets-0.12.16.min.js\", \"https://cdn.pydata.org/bokeh/release/bokeh-tables-0.12.16.min.js\", \"https://cdn.pydata.org/bokeh/release/bokeh-gl-0.12.16.min.js\"];\n",
       "\n",
       "  var inline_js = [\n",
       "    function(Bokeh) {\n",
       "      Bokeh.set_log_level(\"info\");\n",
       "    },\n",
       "    \n",
       "    function(Bokeh) {\n",
       "      \n",
       "    },\n",
       "    function(Bokeh) {\n",
       "      console.log(\"Bokeh: injecting CSS: https://cdn.pydata.org/bokeh/release/bokeh-0.12.16.min.css\");\n",
       "      Bokeh.embed.inject_css(\"https://cdn.pydata.org/bokeh/release/bokeh-0.12.16.min.css\");\n",
       "      console.log(\"Bokeh: injecting CSS: https://cdn.pydata.org/bokeh/release/bokeh-widgets-0.12.16.min.css\");\n",
       "      Bokeh.embed.inject_css(\"https://cdn.pydata.org/bokeh/release/bokeh-widgets-0.12.16.min.css\");\n",
       "      console.log(\"Bokeh: injecting CSS: https://cdn.pydata.org/bokeh/release/bokeh-tables-0.12.16.min.css\");\n",
       "      Bokeh.embed.inject_css(\"https://cdn.pydata.org/bokeh/release/bokeh-tables-0.12.16.min.css\");\n",
       "    }\n",
       "  ];\n",
       "\n",
       "  function run_inline_js() {\n",
       "    \n",
       "    if ((root.Bokeh !== undefined) || (force === true)) {\n",
       "      for (var i = 0; i < inline_js.length; i++) {\n",
       "        inline_js[i].call(root, root.Bokeh);\n",
       "      }if (force === true) {\n",
       "        display_loaded();\n",
       "      }} else if (Date.now() < root._bokeh_timeout) {\n",
       "      setTimeout(run_inline_js, 100);\n",
       "    } else if (!root._bokeh_failed_load) {\n",
       "      console.log(\"Bokeh: BokehJS failed to load within specified timeout.\");\n",
       "      root._bokeh_failed_load = true;\n",
       "    } else if (force !== true) {\n",
       "      var cell = $(document.getElementById(\"6d013005-dd21-4a8a-ba67-649439bd1a63\")).parents('.cell').data().cell;\n",
       "      cell.output_area.append_execute_result(NB_LOAD_WARNING)\n",
       "    }\n",
       "\n",
       "  }\n",
       "\n",
       "  if (root._bokeh_is_loading === 0) {\n",
       "    console.log(\"Bokeh: BokehJS loaded, going straight to plotting\");\n",
       "    run_inline_js();\n",
       "  } else {\n",
       "    load_libs(js_urls, function() {\n",
       "      console.log(\"Bokeh: BokehJS plotting callback run at\", now());\n",
       "      run_inline_js();\n",
       "    });\n",
       "  }\n",
       "}(window));"
      ],
      "application/vnd.bokehjs_load.v0+json": "\n(function(root) {\n  function now() {\n    return new Date();\n  }\n\n  var force = true;\n\n  if (typeof (root._bokeh_onload_callbacks) === \"undefined\" || force === true) {\n    root._bokeh_onload_callbacks = [];\n    root._bokeh_is_loading = undefined;\n  }\n\n  \n\n  \n  if (typeof (root._bokeh_timeout) === \"undefined\" || force === true) {\n    root._bokeh_timeout = Date.now() + 5000;\n    root._bokeh_failed_load = false;\n  }\n\n  var NB_LOAD_WARNING = {'data': {'text/html':\n     \"<div style='background-color: #fdd'>\\n\"+\n     \"<p>\\n\"+\n     \"BokehJS does not appear to have successfully loaded. If loading BokehJS from CDN, this \\n\"+\n     \"may be due to a slow or bad network connection. Possible fixes:\\n\"+\n     \"</p>\\n\"+\n     \"<ul>\\n\"+\n     \"<li>re-rerun `output_notebook()` to attempt to load from CDN again, or</li>\\n\"+\n     \"<li>use INLINE resources instead, as so:</li>\\n\"+\n     \"</ul>\\n\"+\n     \"<code>\\n\"+\n     \"from bokeh.resources import INLINE\\n\"+\n     \"output_notebook(resources=INLINE)\\n\"+\n     \"</code>\\n\"+\n     \"</div>\"}};\n\n  function display_loaded() {\n    var el = document.getElementById(\"6d013005-dd21-4a8a-ba67-649439bd1a63\");\n    if (el != null) {\n      el.textContent = \"BokehJS is loading...\";\n    }\n    if (root.Bokeh !== undefined) {\n      if (el != null) {\n        el.textContent = \"BokehJS \" + root.Bokeh.version + \" successfully loaded.\";\n      }\n    } else if (Date.now() < root._bokeh_timeout) {\n      setTimeout(display_loaded, 100)\n    }\n  }\n\n\n  function run_callbacks() {\n    try {\n      root._bokeh_onload_callbacks.forEach(function(callback) { callback() });\n    }\n    finally {\n      delete root._bokeh_onload_callbacks\n    }\n    console.info(\"Bokeh: all callbacks have finished\");\n  }\n\n  function load_libs(js_urls, callback) {\n    root._bokeh_onload_callbacks.push(callback);\n    if (root._bokeh_is_loading > 0) {\n      console.log(\"Bokeh: BokehJS is being loaded, scheduling callback at\", now());\n      return null;\n    }\n    if (js_urls == null || js_urls.length === 0) {\n      run_callbacks();\n      return null;\n    }\n    console.log(\"Bokeh: BokehJS not loaded, scheduling load and callback at\", now());\n    root._bokeh_is_loading = js_urls.length;\n    for (var i = 0; i < js_urls.length; i++) {\n      var url = js_urls[i];\n      var s = document.createElement('script');\n      s.src = url;\n      s.async = false;\n      s.onreadystatechange = s.onload = function() {\n        root._bokeh_is_loading--;\n        if (root._bokeh_is_loading === 0) {\n          console.log(\"Bokeh: all BokehJS libraries loaded\");\n          run_callbacks()\n        }\n      };\n      s.onerror = function() {\n        console.warn(\"failed to load library \" + url);\n      };\n      console.log(\"Bokeh: injecting script tag for BokehJS library: \", url);\n      document.getElementsByTagName(\"head\")[0].appendChild(s);\n    }\n  };var element = document.getElementById(\"6d013005-dd21-4a8a-ba67-649439bd1a63\");\n  if (element == null) {\n    console.log(\"Bokeh: ERROR: autoload.js configured with elementid '6d013005-dd21-4a8a-ba67-649439bd1a63' but no matching script tag was found. \")\n    return false;\n  }\n\n  var js_urls = [\"https://cdn.pydata.org/bokeh/release/bokeh-0.12.16.min.js\", \"https://cdn.pydata.org/bokeh/release/bokeh-widgets-0.12.16.min.js\", \"https://cdn.pydata.org/bokeh/release/bokeh-tables-0.12.16.min.js\", \"https://cdn.pydata.org/bokeh/release/bokeh-gl-0.12.16.min.js\"];\n\n  var inline_js = [\n    function(Bokeh) {\n      Bokeh.set_log_level(\"info\");\n    },\n    \n    function(Bokeh) {\n      \n    },\n    function(Bokeh) {\n      console.log(\"Bokeh: injecting CSS: https://cdn.pydata.org/bokeh/release/bokeh-0.12.16.min.css\");\n      Bokeh.embed.inject_css(\"https://cdn.pydata.org/bokeh/release/bokeh-0.12.16.min.css\");\n      console.log(\"Bokeh: injecting CSS: https://cdn.pydata.org/bokeh/release/bokeh-widgets-0.12.16.min.css\");\n      Bokeh.embed.inject_css(\"https://cdn.pydata.org/bokeh/release/bokeh-widgets-0.12.16.min.css\");\n      console.log(\"Bokeh: injecting CSS: https://cdn.pydata.org/bokeh/release/bokeh-tables-0.12.16.min.css\");\n      Bokeh.embed.inject_css(\"https://cdn.pydata.org/bokeh/release/bokeh-tables-0.12.16.min.css\");\n    }\n  ];\n\n  function run_inline_js() {\n    \n    if ((root.Bokeh !== undefined) || (force === true)) {\n      for (var i = 0; i < inline_js.length; i++) {\n        inline_js[i].call(root, root.Bokeh);\n      }if (force === true) {\n        display_loaded();\n      }} else if (Date.now() < root._bokeh_timeout) {\n      setTimeout(run_inline_js, 100);\n    } else if (!root._bokeh_failed_load) {\n      console.log(\"Bokeh: BokehJS failed to load within specified timeout.\");\n      root._bokeh_failed_load = true;\n    } else if (force !== true) {\n      var cell = $(document.getElementById(\"6d013005-dd21-4a8a-ba67-649439bd1a63\")).parents('.cell').data().cell;\n      cell.output_area.append_execute_result(NB_LOAD_WARNING)\n    }\n\n  }\n\n  if (root._bokeh_is_loading === 0) {\n    console.log(\"Bokeh: BokehJS loaded, going straight to plotting\");\n    run_inline_js();\n  } else {\n    load_libs(js_urls, function() {\n      console.log(\"Bokeh: BokehJS plotting callback run at\", now());\n      run_inline_js();\n    });\n  }\n}(window));"
     },
     "metadata": {},
     "output_type": "display_data"
    }
   ],
   "source": [
    "output_notebook()"
   ]
  },
  {
   "cell_type": "code",
   "execution_count": 3,
   "metadata": {
    "collapsed": true
   },
   "outputs": [],
   "source": [
    "MOL = 'n2o'"
   ]
  },
  {
   "cell_type": "code",
   "execution_count": 4,
   "metadata": {
    "collapsed": true
   },
   "outputs": [],
   "source": [
    "ATMPRO = dict(mls=294, saw=257, trp=300)"
   ]
  },
  {
   "cell_type": "code",
   "execution_count": 5,
   "metadata": {
    "collapsed": true
   },
   "outputs": [],
   "source": [
    "COMMITNUMBER = '1013f91'"
   ]
  },
  {
   "cell_type": "code",
   "execution_count": 6,
   "metadata": {
    "collapsed": true
   },
   "outputs": [],
   "source": [
    "client = pymongo.MongoClient('localhost', 27017)"
   ]
  },
  {
   "cell_type": "code",
   "execution_count": 7,
   "metadata": {
    "collapsed": true
   },
   "outputs": [],
   "source": [
    "def show_html(s):\n",
    "    display.display(display.HTML(s))\n",
    "\n",
    "def show_markdown(s):\n",
    "    display.display(display.Markdown(s))"
   ]
  },
  {
   "cell_type": "code",
   "execution_count": 8,
   "metadata": {
    "collapsed": true
   },
   "outputs": [],
   "source": [
    "def to_lblnewparam(param=None):\n",
    "    '''\n",
    "    Convert clirad's input parameter dictionary \n",
    "    into something like lblnew's.\n",
    "    '''\n",
    "    band = param['band'][0]\n",
    "    band = mapband_new2old()[band]\n",
    "    atmpro = param['atmpro']\n",
    "    tsfc = param['tsfc']\n",
    "    \n",
    "    p = {'band': band, \n",
    "         'atmpro': atmpro, 'tsfc': tsfc,\n",
    "         'dv': .001, 'nv': 1000}\n",
    "    \n",
    "    if len(param['molecule']) > 1: p['molecule'] = param['molecule']\n",
    "    else: \n",
    "        molecule, conc = list(param['molecule'].items())[0]\n",
    "        p['molecule'] = molecule\n",
    "        if conc == 'atmpro': p['conc'] = None\n",
    "        else: p['conc'] = conc\n",
    "    return p\n",
    "\n",
    "def make_query(param=None):\n",
    "    molecules = {'h2o', 'co2', 'o3', 'n2o', 'ch4'}\n",
    "    q = {}\n",
    "    for n, v in param.items():\n",
    "        if n == 'molecule' and type(v) == dict:\n",
    "            for mol, conc in v.items():\n",
    "                q[f'param.molecule.{mol}'] = conc\n",
    "            for mol in molecules - set(v.keys()):\n",
    "                q[f'param.molecule.{mol}'] = {'$exists': 0}\n",
    "        else:\n",
    "            q[f'param.{n}'] = v\n",
    "    return q"
   ]
  },
  {
   "cell_type": "code",
   "execution_count": 9,
   "metadata": {
    "collapsed": true
   },
   "outputs": [],
   "source": [
    "def subparam_atm_clirad(atmpro='mls'):\n",
    "    commitnumber = COMMITNUMBER\n",
    "    atm = nongreys_byband()\n",
    "    band = list(atm.keys())\n",
    "    molecule = {mol: conc for _, molconcs in atm.items() \n",
    "                for mol, conc in molconcs.items() if mol == MOL}\n",
    "    return dict(commitnumber=commitnumber,\n",
    "                band=band, molecule=molecule, \n",
    "                atmpro=atmpro, tsfc=ATMPRO[atmpro])\n",
    "\n",
    "def clirad_data_atm(params_atm=None):\n",
    "    for p in params_atm:\n",
    "        q = make_query(p)\n",
    "        r = client.cliradnew.lw.find_one(q)\n",
    "        fluxs, cools = [], []\n",
    "        if not r: print('No data found for', p['molecule'], p['band'])\n",
    "        else: \n",
    "            fluxs.append(load_output_file(io.StringIO(r['output_flux'])))\n",
    "            cools.append(load_output_file(io.StringIO(r['output_coolr'])))\n",
    "    return dict(flux=sum(fluxs), cool=sum(cools))"
   ]
  },
  {
   "cell_type": "code",
   "execution_count": 10,
   "metadata": {
    "collapsed": true,
    "scrolled": false
   },
   "outputs": [],
   "source": [
    "def load_lblnew_data(r):\n",
    "    '''\n",
    "    Loads a lblnew-bestfit mongodb document's fluxes and cooling rates.\n",
    "    '''\n",
    "    if 'ng_refs' in r['param']:\n",
    "        ns = {'ds_flux_crd': 'output_flux',\n",
    "              'ds_cool_crd': 'output_coolr',\n",
    "              'ds_flux_wgt': 'output_wfluxg',\n",
    "              'ds_cool_wgt': 'output_wcoolrg'}\n",
    "    else:\n",
    "        ns = {'ds_flux_crd': 'output_flux',\n",
    "              'ds_cool_crd': 'output_coolr',\n",
    "              'ds_flux_wgt': 'output_wflux',\n",
    "              'ds_cool_wgt': 'output_wcoolr'}\n",
    "    return {n: load_output_file(io.StringIO(r[s])) for n, s in ns.items()}\n",
    "\n",
    "def subparams_atm_lblnew(atmpro='mls'):\n",
    "    '''\n",
    "    Returns the list of {band, conc, molecule} dictionaries that\n",
    "    represent the model atmosphere.\n",
    "    '''  \n",
    "    atm = nongreys_byband()\n",
    "    subparams_clirad = [dict(band=[band], \n",
    "                             molecule={mol: conc for mol, conc in molconc.items() if mol == MOL},\n",
    "                             atmpro=atmpro, tsfc=ATMPRO[atmpro]) \n",
    "                        for band, molconc in atm.items() if MOL in molconc]\n",
    "    return [to_lblnewparam(p) for p in subparams_clirad]\n",
    "\n",
    "def crd_data_atm(params_atm=None):\n",
    "    '''\n",
    "    Returns Dataset containing CRD fluxes and cooling rates at\n",
    "    different pressures and spectral bands.\n",
    "    '''\n",
    "    results_atm = {}\n",
    "    for p in params_atm:\n",
    "        if isinstance(p['molecule'], dict): \n",
    "            collection = client.lblnew.overlap_lw\n",
    "        else: \n",
    "            collection = client.lblnew.bestfit_lw\n",
    "        \n",
    "        q = make_query(p)\n",
    "        r = collection.find_one(q)\n",
    "        if not r: print('No data found for', p['molecule'], p['band'])\n",
    "        else: results_atm[r['param']['band']] = load_lblnew_data(r)\n",
    "\n",
    "    bands = [mapband_old2new()[b] for b, _ in results_atm.items()]\n",
    "    fluxs = [d['ds_flux_crd'] for _, d in results_atm.items()]\n",
    "    cools = [d['ds_cool_crd'] for _, d in results_atm.items()]\n",
    "    \n",
    "    d = {}\n",
    "    d['flux'] = xr.concat(fluxs, dim=bands).rename({'concat_dim': 'band'})\n",
    "    d['cool'] = xr.concat(cools, dim=bands).rename({'concat_dim': 'band'})\n",
    "    return d"
   ]
  },
  {
   "cell_type": "code",
   "execution_count": 11,
   "metadata": {
    "collapsed": true
   },
   "outputs": [],
   "source": [
    "import rtmtools.clirad.sw.wrangle as cliradwrangle\n",
    "\n",
    "def oldclirad_data_atm():\n",
    "    '''\n",
    "    Load the OLD clirad's results. mls only.\n",
    "    '''\n",
    "    fpath = os.path.join('/chia_cluster/home/jackyu/radiation',\n",
    "                         'clirad-lw',\n",
    "                         'LW',\n",
    "                         'examples',\n",
    "                         'mls75_h2o_atmpro_co2_.0004_o3_atmpro_n2o_3.2e-7_ch4_1.8e-6_H2012',\n",
    "                         'OUTPUT_CLIRAD.dat')\n",
    "    \n",
    "    ds = cliradwrangle.load_OUTPUT_CLIRAD(readfrom=fpath)\n",
    "    \n",
    "    ds_cool = xr.Dataset()\n",
    "    ds_cool.coords['pressure'] = ('pressure', ds['layer_pressure'])\n",
    "    ds_cool.coords['band'] = ('band', ds['spectral_band'])\n",
    "    ds_cool['coolrg'] = (('band', 'pressure'), - ds['heating_rate'])\n",
    "    \n",
    "    ds_flux = xr.Dataset()\n",
    "    ds_flux.coords['pressure'] = ('pressure', ds['level_pressure'])\n",
    "    ds_flux.coords['band'] = ('band', ds['spectral_band'])\n",
    "    ds_flux['flug'] = (('band', 'pressure'), ds['flux_up'])\n",
    "    ds_flux['fldg'] = (('band', 'pressure'), ds['flux_down'])\n",
    "    ds_flux['fnetg'] = (('band', 'pressure'), ds['net_flux'])\n",
    "    \n",
    "    \n",
    "    d = {}\n",
    "    d['cool'] = ds_cool\n",
    "    d['flux'] = ds_flux\n",
    "    return d"
   ]
  },
  {
   "cell_type": "code",
   "execution_count": 12,
   "metadata": {
    "collapsed": true
   },
   "outputs": [],
   "source": [
    "def show_makeup():\n",
    "    df = pd.DataFrame()\n",
    "\n",
    "    for band, molecule in nongreys_byband().items():\n",
    "        for name, conc in molecule.items():\n",
    "            if name == MOL:\n",
    "                df.loc[name, band] = str(conc)\n",
    "\n",
    "    df = df.fillna(0)\n",
    "    df.columns.name = 'clirad band'\n",
    "    df.index.name = 'molecule'\n",
    "    \n",
    "    display.display(df)\n",
    "    \n",
    "    display.display(\n",
    "        display.Markdown('*TABLE.* Non-grey absorbers in the atmosphere.'))\n",
    "\n",
    "\n",
    "def show_grey_makeup():\n",
    "    df = pd.DataFrame()\n",
    "    \n",
    "    for band, molecule in greyabsorbers_by_band_atm().items():\n",
    "        if molecule == None:\n",
    "            pass\n",
    "        else:\n",
    "            for name, conc in molecule.items():\n",
    "                df.loc[name, band] = str(conc)\n",
    "                \n",
    "    df = df.fillna(0)\n",
    "    df.columns.name = 'clirad band'\n",
    "    df.index.name = 'absorber'\n",
    "    \n",
    "    display.display(df)\n",
    "    display.display(\n",
    "        display.Markdown('*TABLE.* Grey absorbers in the atmosphere.')\n",
    "    )"
   ]
  },
  {
   "cell_type": "code",
   "execution_count": 13,
   "metadata": {
    "collapsed": true
   },
   "outputs": [],
   "source": [
    "def fmt_cool(ds_in):\n",
    "    ds = ds_in.copy(deep=True)\n",
    "    dims = ['igg', 'g', 'i']\n",
    "    for dim in dims:\n",
    "        if dim in ds:\n",
    "            if ds[dim].shape == (1,): ds = ds.squeeze(dim).drop(dim)\n",
    "            elif ds[dim].shape == (): ds = ds.drop(dim)\n",
    "    if 'band' in ds.dims:\n",
    "        try:\n",
    "            ds = ds.squeeze('band')\n",
    "        except ValueError:\n",
    "            ds = ds.sum('band')     \n",
    "    return ds['coolrg']\n",
    "\n",
    "def nice_xlims(pltdata=None, prange=None):\n",
    "    \n",
    "    def get_slice(srs):\n",
    "        return srs.sel(pressure=slice(*prange))\n",
    "    \n",
    "    srss = [d['srs'] for d in pltdata]\n",
    "    vmin = min([get_slice(srs).min() for srs in srss])\n",
    "    vmax = max([get_slice(srs).max() for srs in srss])\n",
    "    dv = (vmax - vmin) * .01\n",
    "    return float(vmin - dv), float(vmax + dv)\n",
    " \n",
    "def plt_cool_bokeh(pltdata=None, \n",
    "                   y_axis_type='linear', prange=(50, 1050)):\n",
    "    \n",
    "    ymin = 1e-2 \n",
    "    ymax = 1020\n",
    "    \n",
    "    p2 = figure(y_axis_type=y_axis_type, plot_width=300)\n",
    "    xmin, xmax = nice_xlims(pltdata, prange=prange)\n",
    "    \n",
    "    rs = []\n",
    "    for d in pltdata:\n",
    "        rd = []\n",
    "        if 'marker' in d:\n",
    "            r_mark = getattr(p2, d['marker'])(d['srs'].values, \n",
    "                        d['srs'].coords['pressure'].values,\n",
    "                        color=d['color'], alpha=.7)\n",
    "            rd.append(r_mark)\n",
    "        r_line = p2.line(d['srs'].values, \n",
    "                         d['srs'].coords['pressure'].values,\n",
    "                         color=d['color'], alpha=d['alpha'], \n",
    "                         line_width=d['line_width'], \n",
    "                         line_dash=d['line_dash'])\n",
    "        rd.append(r_line)\n",
    "      \n",
    "        rs.append(rd)\n",
    "        \n",
    "    p2.y_range = Range1d(ymax, ymin)  \n",
    "    p2.yaxis.axis_label = 'pressure [mb]'\n",
    "    \n",
    "    p2.x_range = Range1d(xmin, xmax)\n",
    "    p2.xaxis.axis_label = 'cooling rate [K/day]'\n",
    "    \n",
    "    items = [(d['label'], r) for r, d in zip(rs, pltdata)]\n",
    "    legend = Legend(items=items, location=(10, 0))\n",
    "    legend.label_text_font_size = '8pt'\n",
    "    p2.add_layout(legend, 'above')\n",
    "    p2.legend.orientation = 'horizontal'\n",
    "    p2.legend.location = 'top_center'\n",
    "    \n",
    "    return p2"
   ]
  },
  {
   "cell_type": "code",
   "execution_count": 14,
   "metadata": {
    "collapsed": true,
    "scrolled": false
   },
   "outputs": [],
   "source": [
    "def pltdata_cool(atmpro='mls'):\n",
    "    ds_clirad = clirad_data_atm(params_atm=[subparam_atm_clirad(atmpro=atmpro)])['cool']\n",
    "    ds_crd = crd_data_atm(params_atm=subparams_atm_lblnew(atmpro=atmpro))['cool']\n",
    "\n",
    "    colors = all_palettes['Set1'][4]\n",
    "    \n",
    "    data = [\n",
    "        {'label': 'CLIRAD',\n",
    "         'srs': fmt_cool(ds_clirad),\n",
    "         'line_dash': 'dashed', 'line_width': 5,\n",
    "         'color': colors[0], 'alpha': .6},\n",
    "        {'label': 'CRD',\n",
    "         'srs': fmt_cool(ds_crd),\n",
    "         'line_dash': 'solid', 'line_width': 1.5,\n",
    "         'marker': 'circle', 'marker_size': 5,\n",
    "         'color': colors[2], 'alpha': 1}\n",
    "    ]\n",
    "    \n",
    "    # include old CLIRAD's results for mls profile\n",
    "#    if atmpro == 'mls':\n",
    "#        d_oldclirad = oldclirad_data_atm()\n",
    "#        ds_oldclirad = d_oldclirad['cool']        \n",
    "#        data.append(\n",
    "#            {'label': 'old CLIRAD (H2012)',\n",
    "#             'srs': fmt_cool(ds_oldclirad),\n",
    "#             'line_dash': 'solid', 'line_width': 1.5,\n",
    "#             'marker': 'square', 'marker_size': 3,\n",
    "#             'color': colors[3], 'alpha': .5})\n",
    "    return data\n",
    "\n",
    "\n",
    "def pltdata_cooldiff(atmpro='mls'):\n",
    "    ds_clirad = clirad_data_atm(params_atm=[subparam_atm_clirad(atmpro=atmpro)])['cool']\n",
    "    ds_crd = crd_data_atm(params_atm=subparams_atm_lblnew(atmpro=atmpro))['cool']    \n",
    "    \n",
    "    ds_diff = ds_clirad - ds_crd\n",
    "    \n",
    "    colors = all_palettes['Set1'][4]\n",
    "    \n",
    "    data = [\n",
    "        {'label': 'CLIRAD - CRD',\n",
    "         'srs': fmt_cool(ds_diff),\n",
    "         'line_dash': 'solid', 'line_width': 1.5, \n",
    "         'marker': 'circle', 'marker_size': 7,\n",
    "         'color': colors[3], 'alpha': .8}\n",
    "    ]\n",
    "    \n",
    "    # include old CLIRAD's results for mls profile\n",
    "#    if atmpro == 'mls':\n",
    "#        d_oldclirad = oldclirad_data_atm()\n",
    "#        ds_oldclirad = d_oldclirad['cool']\n",
    "#        ds_oldclirad.coords['pressure'] = ds_crd.coords['pressure']\n",
    "#        ds_diff_old = ds_oldclirad.sum('band') - ds_crd.sum('band')\n",
    "#        data.append(\n",
    "#            {'label': 'old CLIRAD (H2012) - CRD',\n",
    "#             'srs': fmt_cool(ds_diff_old),\n",
    "#             'line_dash': 'dashed', 'line_width': 4,\n",
    "#             'color': colors[1], 'alpha': .5}\n",
    "#        )\n",
    "    return data\n",
    "\n",
    "\n",
    "def show_cool(atmpro='mls'):\n",
    "    data_cool = pltdata_cool(atmpro=atmpro)\n",
    "    p_cool_liny = plt_cool_bokeh(pltdata=data_cool)\n",
    "    p_cool_logy = plt_cool_bokeh(pltdata=data_cool, \n",
    "                                 y_axis_type='log',\n",
    "                                 prange=(.01, 200))\n",
    "    \n",
    "    data_cooldiff = pltdata_cooldiff(atmpro=atmpro)\n",
    "    p_cooldiff_logy = plt_cool_bokeh(pltdata=data_cooldiff,\n",
    "                                     y_axis_type='log',\n",
    "                                     prange=(.01, 200))\n",
    "    \n",
    "    everything = gridplot(p_cool_liny, p_cool_logy, \n",
    "                          p_cooldiff_logy,\n",
    "                          ncols=3)\n",
    "    show(everything)\n",
    "    display.display(\n",
    "        display.Markdown('*FIGURE.* Cooling rates & difference.'))\n",
    "    "
   ]
  },
  {
   "cell_type": "code",
   "execution_count": 15,
   "metadata": {
    "collapsed": true,
    "scrolled": false
   },
   "outputs": [],
   "source": [
    "def fmt_flux(ds_in):\n",
    "    ds = ds_in.copy(deep=True)\n",
    "    for dim in ['band', 'g']:\n",
    "        if dim in ds: ds = ds.sum(dim)\n",
    "        \n",
    "    for dim in ['i', 'igg', 'g']:\n",
    "        if dim in ds:\n",
    "            if ds[dim].shape == (1,): ds = ds.squeeze(dim).drop(dim)\n",
    "            elif ds[dim].shape == (): ds = ds.drop(dim)\n",
    "    return ds\n",
    "\n",
    "def hist_band_vs_flux(da, title='Title'):\n",
    "    da = da.sel(i=1)\n",
    "    bands = [str(b.values) for b in da['band']]\n",
    "    source = ColumnDataSource(data={'band': bands, 'flux': da.values})\n",
    "    p = figure(x_range=bands, title=title)\n",
    "    p.vbar(source=source, x='band', top='flux', width=.9)\n",
    "    p.yaxis.axis_label = 'flux (W m-2)'\n",
    "    p.xaxis.axis_label = 'spectral band'\n",
    "    return p\n",
    "\n",
    "def show_hist_flux(atmpro='mls'):\n",
    "    ds_crd = crd_data_atm(params_atm=subparams_atm_lblnew(atmpro=atmpro))['flux']\n",
    "    ds_clirad = clirad_data_atm(params_atm=[subparam_atm_clirad(atmpro=atmpro)])['flux']\n",
    "    \n",
    "    ip, varname = 0, 'flug'\n",
    "    da = (ds_clirad - ds_crd).isel(pressure=ip)[varname]\n",
    "    p_toa = hist_band_vs_flux(da, title='TOA flux. CLIRAD - CRD.')\n",
    "\n",
    "    ip, varname = -1, 'fldg'\n",
    "    da = (ds_clirad - ds_crd).isel(pressure=ip)[varname]\n",
    "    p_sfc = hist_band_vs_flux(da, title='SFC flux. CLIRAD - CRD.')    \n",
    "    \n",
    "    atm_crd = (ds_crd.isel(pressure=0) - ds_crd.isel(pressure=-1))['fnetg']\n",
    "    atm_clirad = (ds_clirad.isel(pressure=0) - ds_clirad.isel(pressure=-1))['fnetg']\n",
    "    da = atm_clirad - atm_crd\n",
    "    p_atm = hist_band_vs_flux(da, title='Atmosphere heating. CLIRAD - CRD.')\n",
    "\n",
    "    everything = gridplot(p_toa, p_sfc, p_atm, ncols=3, plot_width=300, plot_height=300)\n",
    "    \n",
    "    show(everything)\n",
    "    display.display(\n",
    "        display.Markdown('*FIGURE.* Difference between CLIRAD and CRD'\n",
    "          ' in TOA, SFC and net atmosphere flux,'\n",
    "          ' in each spectral band.'))\n",
    "\n",
    "def show_tb_flux(atmpro='mls'):\n",
    "    \n",
    "    def fmt(da_in):\n",
    "        da = da_in.copy(deep=True)\n",
    "        if 'igg' in da.dims:\n",
    "            da = da.sel(igg=1)\n",
    "            \n",
    "        if 'g' in da.dims:\n",
    "            da = da.sum('g')\n",
    "        \n",
    "        if 'band' in da.dims:\n",
    "            try:\n",
    "                da = da.squeeze('band')\n",
    "            except ValueError:\n",
    "                da = da.sum('band')\n",
    "                \n",
    "        return da\n",
    "    \n",
    "    ds_crd = crd_data_atm(params_atm=subparams_atm_lblnew(atmpro=atmpro))['flux']\n",
    "    olr_crd = ds_crd['flug'].isel(pressure=0)\n",
    "    sfc_crd = ds_crd['fldg'].isel(pressure=-1)\n",
    "    atm_crd = (ds_crd.isel(pressure=0) - ds_crd.isel(pressure=-1))['fnetg']\n",
    "    \n",
    "    ds_clirad = clirad_data_atm(params_atm=[subparam_atm_clirad(atmpro=atmpro)])['flux']\n",
    "    olr_clirad = ds_clirad['flug'].isel(pressure=0)\n",
    "    sfc_clirad = ds_clirad['fldg'].isel(pressure=-1)\n",
    "    atm_clirad = (ds_clirad.isel(pressure=0) - ds_clirad.isel(pressure=-1))['fnetg']\n",
    "    \n",
    "#    if atmpro == 'mls':\n",
    "#        ds_oldclirad = oldclirad_data_atm()['flux']\n",
    "#        ds_oldclirad['pressure'] = ds_crd['pressure']\n",
    "#        olr_oldclirad = ds_oldclirad['flug'].isel(pressure=0)\n",
    "#        sfc_oldclirad = ds_oldclirad['fldg'].isel(pressure=-1)\n",
    "#        atm_oldclirad = (ds_oldclirad.isel(pressure=0)\n",
    "#                         - ds_oldclirad.isel(pressure=-1))['fnetg']\n",
    "        \n",
    "    df = pd.DataFrame()\n",
    "    df.index.name = 'Sum over bands'\n",
    "    \n",
    "#    if atmpro == 'mls':\n",
    "#        df.loc['old CLIRAD - CRD', 'OLR flux'] = (fmt(olr_oldclirad) - fmt(olr_crd)).values\n",
    "#        df.loc['old CLIRAD - CRD', 'SFC flux'] = (fmt(sfc_oldclirad) - fmt(sfc_crd)).values\n",
    "#        df.loc['old CLIRAD - CRD', 'ATM heating'] = (fmt(atm_oldclirad) - fmt(atm_crd)).values\n",
    "    \n",
    "    df.loc['CLIRAD - CRD', 'OLR flux'] = (fmt(olr_clirad) - fmt(olr_crd)).values\n",
    "    df.loc['CLIRAD - CRD', 'SFC flux'] = (fmt(sfc_clirad) - fmt(sfc_crd)).values\n",
    "    df.loc['CLIRAD - CRD', 'ATM heating'] = (fmt(atm_clirad) - fmt(atm_crd)).values\n",
    "\n",
    "    df.loc['CRD', 'OLR flux'] = fmt(olr_crd).values\n",
    "    df.loc['CRD', 'SFC flux'] = fmt(sfc_crd).values\n",
    "    df.loc['CRD', 'ATM heating'] = fmt(atm_crd).values\n",
    "        \n",
    "    df = df.astype('float').round(2)\n",
    "    \n",
    "    display.display(df)\n",
    "    display.display(\n",
    "        display.Markdown('*TABLE.* Difference between CLIRAD and CRD'\n",
    "          ' in TOA, SFC and net atmosphere flux,'\n",
    "          ' over all spectral bands. CRD\\'s'\n",
    "          ' TOA, SFC and net atmosphere flux,'\n",
    "          ' over all spectral bands.'))"
   ]
  },
  {
   "cell_type": "code",
   "execution_count": 16,
   "metadata": {
    "collapsed": true,
    "scrolled": true
   },
   "outputs": [],
   "source": [
    "def cool_tofile(atmpro=None):\n",
    "    dcli = clirad_data_atm(params_atm=[subparam_atm_clirad(atmpro=atmpro)])\n",
    "    dcrd = crd_data_atm(params_atm=subparams_atm_lblnew(atmpro=atmpro))\n",
    "    \n",
    "    dcli = dcli['cool'].sel(i=1).drop('i').sum('band')\n",
    "    dcrd = dcrd['cool'].sum('band')\n",
    "    \n",
    "    dcli = dcli['coolrg'].to_dataframe()\n",
    "    dcrd = dcrd['coolrg'].to_dataframe()\n",
    "    \n",
    "    dcli = dcli.set_index('layer', append=True)\n",
    "    dcrd = dcrd.set_index('layer', append=True)\n",
    "    \n",
    "    ddif = dcli - dcrd\n",
    "    \n",
    "    df = pd.concat([dcrd, dcli, ddif], axis=1, keys=['CRD', 'CLIRAD', 'CLIRAD - CRD'])\n",
    "    return df\n",
    "\n",
    "\n",
    "def flux_tofile(atmpro=None):\n",
    "    tropopauses = {'mls': 40, 'saw': 45, 'trp': 37}\n",
    "    ilevels = [0, tropopauses[atmpro], -1]\n",
    "    \n",
    "    dcli = clirad_data_atm(params_atm=[subparam_atm_clirad(atmpro=atmpro)])\n",
    "    dcrd = crd_data_atm(params_atm=subparams_atm_lblnew(atmpro=atmpro))\n",
    "    \n",
    "    dcli = dcli['flux'].sel(i=1).drop('i').sum('band').isel(pressure=ilevels)\n",
    "    dcrd = dcrd['flux'].sum('band').isel(pressure=ilevels)\n",
    "    \n",
    "    dcli = dcli.to_dataframe()\n",
    "    dcrd = dcrd.to_dataframe()\n",
    "    \n",
    "    dcli = dcli.set_index('level', append=True)\n",
    "    dcrd = dcrd.set_index('level', append=True)\n",
    "    \n",
    "    ddif = dcli - dcrd\n",
    "    \n",
    "    df = pd.concat([dcrd, dcli, ddif], axis=1, keys=['CRD', 'CLIRAD', 'CLIRAD - CRD'])\n",
    "    return df\n",
    "\n",
    "\n",
    "def script_tofile():\n",
    "    fname = f'results_{MOL}atm_cliradsinglerun-Copy2.xlsx'\n",
    "    writer = pd.ExcelWriter(fname)\n",
    "    for atmpro in ('mls', 'saw', 'trp'):\n",
    "        dflux = flux_tofile(atmpro=atmpro)\n",
    "        dflux.to_excel(writer, f'flux {atmpro}')\n",
    "        \n",
    "        dcool = cool_tofile(atmpro=atmpro)\n",
    "        dcool.to_excel(writer, f'cool {atmpro}')\n",
    "        \n",
    "    html = f'Download: <a href=\"./{fname}\">{fname}</a>'\n",
    "    show_html(html)\n",
    "\n",
    "        "
   ]
  },
  {
   "cell_type": "code",
   "execution_count": 17,
   "metadata": {
    "scrolled": false
   },
   "outputs": [
    {
     "data": {
      "text/markdown": [
       "## Results over entire range of molecules and spectral bands"
      ],
      "text/plain": [
       "<IPython.core.display.Markdown object>"
      ]
     },
     "metadata": {},
     "output_type": "display_data"
    },
    {
     "data": {
      "text/markdown": [
       "### Table of Contents"
      ],
      "text/plain": [
       "<IPython.core.display.Markdown object>"
      ]
     },
     "metadata": {},
     "output_type": "display_data"
    },
    {
     "data": {
      "text/html": [
       "<a href=\"#Makeup_of_atmosphere.\">Makeup of atmosphere.</a>"
      ],
      "text/plain": [
       "<IPython.core.display.HTML object>"
      ]
     },
     "metadata": {},
     "output_type": "display_data"
    },
    {
     "data": {
      "text/markdown": [
       "**mid-latitude summer**"
      ],
      "text/plain": [
       "<IPython.core.display.Markdown object>"
      ]
     },
     "metadata": {},
     "output_type": "display_data"
    },
    {
     "data": {
      "text/html": [
       "<a href=\"#Cooling_rates._mls.\">Cooling rates. mls.</a>"
      ],
      "text/plain": [
       "<IPython.core.display.HTML object>"
      ]
     },
     "metadata": {},
     "output_type": "display_data"
    },
    {
     "data": {
      "text/html": [
       "<a href=\"#Fluxes._mls.\">Fluxes. mls.</a>"
      ],
      "text/plain": [
       "<IPython.core.display.HTML object>"
      ]
     },
     "metadata": {},
     "output_type": "display_data"
    },
    {
     "data": {
      "text/markdown": [
       "**sub-arctic winter**"
      ],
      "text/plain": [
       "<IPython.core.display.Markdown object>"
      ]
     },
     "metadata": {},
     "output_type": "display_data"
    },
    {
     "data": {
      "text/html": [
       "<a href=\"#Cooling_rates._saw.\">Cooling rates. saw.</a>"
      ],
      "text/plain": [
       "<IPython.core.display.HTML object>"
      ]
     },
     "metadata": {},
     "output_type": "display_data"
    },
    {
     "data": {
      "text/html": [
       "<a href=\"#Fluxes._saw.\">Fluxes. saw.</a>"
      ],
      "text/plain": [
       "<IPython.core.display.HTML object>"
      ]
     },
     "metadata": {},
     "output_type": "display_data"
    },
    {
     "data": {
      "text/markdown": [
       "**tropical**"
      ],
      "text/plain": [
       "<IPython.core.display.Markdown object>"
      ]
     },
     "metadata": {},
     "output_type": "display_data"
    },
    {
     "data": {
      "text/html": [
       "<a href=\"#Cooling_rates._trp.\">Cooling rates. trp.</a>"
      ],
      "text/plain": [
       "<IPython.core.display.HTML object>"
      ]
     },
     "metadata": {},
     "output_type": "display_data"
    },
    {
     "data": {
      "text/html": [
       "<a href=\"#Fluxes._trp.\">Fluxes. trp.</a>"
      ],
      "text/plain": [
       "<IPython.core.display.HTML object>"
      ]
     },
     "metadata": {},
     "output_type": "display_data"
    },
    {
     "data": {
      "text/html": [
       "<a id=\"Makeup_of_atmosphere.\"></a>"
      ],
      "text/plain": [
       "<IPython.core.display.HTML object>"
      ]
     },
     "metadata": {},
     "output_type": "display_data"
    },
    {
     "data": {
      "text/markdown": [
       "# Makeup of atmosphere."
      ],
      "text/plain": [
       "<IPython.core.display.Markdown object>"
      ]
     },
     "metadata": {},
     "output_type": "display_data"
    },
    {
     "data": {
      "text/html": [
       "<div>\n",
       "<style scoped>\n",
       "    .dataframe tbody tr th:only-of-type {\n",
       "        vertical-align: middle;\n",
       "    }\n",
       "\n",
       "    .dataframe tbody tr th {\n",
       "        vertical-align: top;\n",
       "    }\n",
       "\n",
       "    .dataframe thead th {\n",
       "        text-align: right;\n",
       "    }\n",
       "</style>\n",
       "<table border=\"1\" class=\"dataframe\">\n",
       "  <thead>\n",
       "    <tr style=\"text-align: right;\">\n",
       "      <th>clirad band</th>\n",
       "      <th>3</th>\n",
       "      <th>9</th>\n",
       "    </tr>\n",
       "    <tr>\n",
       "      <th>molecule</th>\n",
       "      <th></th>\n",
       "      <th></th>\n",
       "    </tr>\n",
       "  </thead>\n",
       "  <tbody>\n",
       "    <tr>\n",
       "      <th>n2o</th>\n",
       "      <td>3.2e-07</td>\n",
       "      <td>3.2e-07</td>\n",
       "    </tr>\n",
       "  </tbody>\n",
       "</table>\n",
       "</div>"
      ],
      "text/plain": [
       "clirad band        3        9\n",
       "molecule                     \n",
       "n2o          3.2e-07  3.2e-07"
      ]
     },
     "metadata": {},
     "output_type": "display_data"
    },
    {
     "data": {
      "text/markdown": [
       "*TABLE.* Non-grey absorbers in the atmosphere."
      ],
      "text/plain": [
       "<IPython.core.display.Markdown object>"
      ]
     },
     "metadata": {},
     "output_type": "display_data"
    },
    {
     "data": {
      "text/html": [
       "<a id=\"Cooling_rates._mls.\"></a>"
      ],
      "text/plain": [
       "<IPython.core.display.HTML object>"
      ]
     },
     "metadata": {},
     "output_type": "display_data"
    },
    {
     "data": {
      "text/markdown": [
       "# Cooling rates. mls."
      ],
      "text/plain": [
       "<IPython.core.display.Markdown object>"
      ]
     },
     "metadata": {},
     "output_type": "display_data"
    },
    {
     "data": {
      "text/html": [
       "\n",
       "<div class=\"bk-root\">\n",
       "    <div class=\"bk-plotdiv\" id=\"940785f8-2b58-4677-8ba5-83e177a4bcb9\"></div>\n",
       "</div>"
      ]
     },
     "metadata": {},
     "output_type": "display_data"
    },
    {
     "data": {
      "application/javascript": [
       "(function(root) {\n",
       "  function embed_document(root) {\n",
       "    \n",
       "  var docs_json = {\"5c6a6b87-d8ef-4c0e-ae88-356211c057d0\":{\"roots\":{\"references\":[{\"attributes\":{},\"id\":\"b3705ae1-119c-47c7-a634-1b591c8a0ad8\",\"type\":\"LinearScale\"},{\"attributes\":{\"overlay\":{\"id\":\"5b2c95d1-f284-4221-8231-022f4516b861\",\"type\":\"BoxAnnotation\"}},\"id\":\"34af9ddd-7a4f-4415-827f-c7ffaf2e4bb0\",\"type\":\"BoxZoomTool\"},{\"attributes\":{},\"id\":\"b5b898b2-aafa-47c9-8155-e2c9203d2ee6\",\"type\":\"Selection\"},{\"attributes\":{\"axis_label\":\"cooling rate [K/day]\",\"formatter\":{\"id\":\"47799ece-cdc1-42b0-8fbc-9c837a3436b0\",\"type\":\"BasicTickFormatter\"},\"plot\":{\"id\":\"a030cafe-b1be-4ed1-8d2b-696b70748308\",\"subtype\":\"Figure\",\"type\":\"Plot\"},\"ticker\":{\"id\":\"6ffc6ea1-2993-45ca-ab28-4fa37224b510\",\"type\":\"BasicTicker\"}},\"id\":\"be891323-0bbf-47b5-93c1-f395136f6959\",\"type\":\"LinearAxis\"},{\"attributes\":{\"num_minor_ticks\":10},\"id\":\"61b7d18e-fc06-491d-b1a3-a789a6c27606\",\"type\":\"LogTicker\"},{\"attributes\":{},\"id\":\"8c56259a-548a-434e-85b0-a2186f1d3c19\",\"type\":\"UnionRenderers\"},{\"attributes\":{\"axis_label\":\"pressure [mb]\",\"formatter\":{\"id\":\"71871ba2-5618-4512-94d2-f83e43c18416\",\"type\":\"BasicTickFormatter\"},\"plot\":{\"id\":\"8ac6592e-47b6-4215-9942-f4df90bc0600\",\"subtype\":\"Figure\",\"type\":\"Plot\"},\"ticker\":{\"id\":\"ff6da032-7024-4cf3-867c-22c11654365d\",\"type\":\"BasicTicker\"}},\"id\":\"9115ed1f-af5d-42c4-a619-8aa66927c8af\",\"type\":\"LinearAxis\"},{\"attributes\":{\"callback\":null,\"end\":0.028613148944,\"start\":-0.010929348543999986},\"id\":\"cb0aef74-ba7f-41d4-a085-2b0110d1d77b\",\"type\":\"Range1d\"},{\"attributes\":{},\"id\":\"3f4ab91e-f7b5-4fd9-95d5-a9763bfca4fe\",\"type\":\"SaveTool\"},{\"attributes\":{},\"id\":\"b496854f-e218-40ac-a70e-7d599e5ce9af\",\"type\":\"BasicTicker\"},{\"attributes\":{},\"id\":\"3f82cead-5c93-4f62-9106-ecebd8846b76\",\"type\":\"WheelZoomTool\"},{\"attributes\":{},\"id\":\"c63198a1-64c3-4503-ac9e-d5fb9de0e6f1\",\"type\":\"Selection\"},{\"attributes\":{\"plot\":{\"id\":\"8ac6592e-47b6-4215-9942-f4df90bc0600\",\"subtype\":\"Figure\",\"type\":\"Plot\"},\"ticker\":{\"id\":\"b496854f-e218-40ac-a70e-7d599e5ce9af\",\"type\":\"BasicTicker\"}},\"id\":\"cde8450b-0f4b-48c6-a7ef-7c3e67cbca16\",\"type\":\"Grid\"},{\"attributes\":{\"axis_label\":\"cooling rate [K/day]\",\"formatter\":{\"id\":\"ad2fbb50-7fc2-4303-9ebc-f270aed5f3e7\",\"type\":\"BasicTickFormatter\"},\"plot\":{\"id\":\"8ac6592e-47b6-4215-9942-f4df90bc0600\",\"subtype\":\"Figure\",\"type\":\"Plot\"},\"ticker\":{\"id\":\"b496854f-e218-40ac-a70e-7d599e5ce9af\",\"type\":\"BasicTicker\"}},\"id\":\"73ea70d6-349f-49af-9355-38ab8a524b2f\",\"type\":\"LinearAxis\"},{\"attributes\":{\"active_drag\":\"auto\",\"active_inspect\":\"auto\",\"active_scroll\":\"auto\",\"active_tap\":\"auto\",\"tools\":[{\"id\":\"05084553-0ecb-4633-a5f6-79291831b6ec\",\"type\":\"PanTool\"},{\"id\":\"3f82cead-5c93-4f62-9106-ecebd8846b76\",\"type\":\"WheelZoomTool\"},{\"id\":\"34af9ddd-7a4f-4415-827f-c7ffaf2e4bb0\",\"type\":\"BoxZoomTool\"},{\"id\":\"3f4ab91e-f7b5-4fd9-95d5-a9763bfca4fe\",\"type\":\"SaveTool\"},{\"id\":\"9e37ca8a-8dae-44d3-b2ad-214f541cd899\",\"type\":\"ResetTool\"},{\"id\":\"c1f8e70a-f5a8-4c8c-9458-7ca7ab351bd4\",\"type\":\"HelpTool\"}]},\"id\":\"deafff84-a48a-427d-a57a-f2aa2710bdf5\",\"type\":\"Toolbar\"},{\"attributes\":{},\"id\":\"6ffc6ea1-2993-45ca-ab28-4fa37224b510\",\"type\":\"BasicTicker\"},{\"attributes\":{\"above\":[{\"id\":\"c2ef22a1-713e-4ad5-bd60-6d666390b487\",\"type\":\"Legend\"}],\"below\":[{\"id\":\"256f2bdc-9478-4d84-91b9-bd7ddf8d3430\",\"type\":\"LinearAxis\"}],\"left\":[{\"id\":\"63e495b7-7196-43aa-9e0c-e74c9aa0a49f\",\"type\":\"LogAxis\"}],\"plot_width\":300,\"renderers\":[{\"id\":\"256f2bdc-9478-4d84-91b9-bd7ddf8d3430\",\"type\":\"LinearAxis\"},{\"id\":\"15f7212d-5c75-4e5b-8b3a-8f962cccc8ae\",\"type\":\"Grid\"},{\"id\":\"63e495b7-7196-43aa-9e0c-e74c9aa0a49f\",\"type\":\"LogAxis\"},{\"id\":\"94b35ff7-2199-44a7-b141-419b1ad17ad5\",\"type\":\"Grid\"},{\"id\":\"dc346e8a-e620-4a63-a8b0-3c18fe9ec3fb\",\"type\":\"BoxAnnotation\"},{\"id\":\"c3f030ae-47dd-48a2-8d7c-444c6562f083\",\"type\":\"GlyphRenderer\"},{\"id\":\"162b2778-163b-40a6-bf8d-0ac0ca7db0c1\",\"type\":\"GlyphRenderer\"},{\"id\":\"8f6b23ec-83d5-4562-8f78-ae32e069fe41\",\"type\":\"GlyphRenderer\"},{\"id\":\"c2ef22a1-713e-4ad5-bd60-6d666390b487\",\"type\":\"Legend\"}],\"title\":{\"id\":\"a7562480-1173-4a01-b187-edc86a65524a\",\"type\":\"Title\"},\"toolbar\":{\"id\":\"bbe54ff5-36e9-4913-907b-631894a31dd9\",\"type\":\"Toolbar\"},\"toolbar_location\":null,\"x_range\":{\"id\":\"ceff891f-8565-4002-8a2c-8449403cee47\",\"type\":\"Range1d\"},\"x_scale\":{\"id\":\"b9e7dc32-9085-46bf-bd1e-408459c43572\",\"type\":\"LinearScale\"},\"y_range\":{\"id\":\"e111dfb3-e861-47b4-92d7-c8bdf63c23bb\",\"type\":\"Range1d\"},\"y_scale\":{\"id\":\"8816d2c6-55d9-41ff-bc19-9f4e94012d89\",\"type\":\"LogScale\"}},\"id\":\"16c870a1-3294-4622-b326-02fe9067812b\",\"subtype\":\"Figure\",\"type\":\"Plot\"},{\"attributes\":{\"axis_label\":\"pressure [mb]\",\"formatter\":{\"id\":\"5d4f15c5-c9f4-4cb8-ac4b-4854048370ab\",\"type\":\"LogTickFormatter\"},\"plot\":{\"id\":\"a030cafe-b1be-4ed1-8d2b-696b70748308\",\"subtype\":\"Figure\",\"type\":\"Plot\"},\"ticker\":{\"id\":\"61b7d18e-fc06-491d-b1a3-a789a6c27606\",\"type\":\"LogTicker\"}},\"id\":\"0d321c11-e90b-4883-be9c-d42d0a521724\",\"type\":\"LogAxis\"},{\"attributes\":{\"plot\":{\"id\":\"a030cafe-b1be-4ed1-8d2b-696b70748308\",\"subtype\":\"Figure\",\"type\":\"Plot\"},\"ticker\":{\"id\":\"6ffc6ea1-2993-45ca-ab28-4fa37224b510\",\"type\":\"BasicTicker\"}},\"id\":\"57b30ac6-1e19-4072-9cf8-e0ac54567b3a\",\"type\":\"Grid\"},{\"attributes\":{},\"id\":\"69957147-e53a-4b23-94ad-4bb08bda0f98\",\"type\":\"Selection\"},{\"attributes\":{\"callback\":null,\"end\":0.01,\"start\":1020},\"id\":\"43ad2124-f2a4-472d-80e8-3d8b197c2121\",\"type\":\"Range1d\"},{\"attributes\":{},\"id\":\"f5babe80-70c6-4f64-9ca6-f5d0448a6429\",\"type\":\"LogScale\"},{\"attributes\":{},\"id\":\"cccce2b5-4a55-4490-a23f-db8377aba883\",\"type\":\"UnionRenderers\"},{\"attributes\":{\"dimension\":1,\"plot\":{\"id\":\"a030cafe-b1be-4ed1-8d2b-696b70748308\",\"subtype\":\"Figure\",\"type\":\"Plot\"},\"ticker\":{\"id\":\"61b7d18e-fc06-491d-b1a3-a789a6c27606\",\"type\":\"LogTicker\"}},\"id\":\"f12e3024-a278-4412-b79f-de990c2baf5e\",\"type\":\"Grid\"},{\"attributes\":{\"callback\":null,\"data\":{\"x\":{\"__ndarray__\":\"0Vuy7oNanj8caGihUjeeP4tfxkZ48Z0/Iex6RDGinT8W4qMSFk2dPy6zG803AZ0/7gD9NrO6nD/wks3YvXycP3inv/WhRpw/HLHq+YAjnD+4V/wkCxicP2ROeEpFKpw/ilLzsvVunD+XUGO5I+ecP+yCFzYw3Zw/jwOQiX3Kmj+/mFjZcdWWP0HZefuxWZI/a5AexnHOij80Ql5gbcR/P6CmcelE9F4/MAVOkLqYdL8IEq7v35aFvyhu2hXFbnm/UFJyUaQwdD/ERkaSFuqJP9Apvl3T3I4/yp9Cig48iz/waakX11OCP+xOZ+Bk+G8/0CAH4EBzP7/AnP9JWdhsv8thX2Dk6Ha/TrOv6tsqfb84OlUgbbqAvxb4cxtnK4K/8tQ/GX5Pg7+eGu7ldwiEv67gEEjPVoO/CbHEnlWhgb/awsMZm9SAv+0MdSA3OIG/ALu/cCElgb9oeeBTYJCAv33qqI3ETn+/XXTvXDUafb9ZBhf/e496v1hKvu1c7He/fldRssYodb88KYMTp1Ryv3R5letk5m6/xm5ZXOANab/CHseah89ivx4sfgWAGVm/1Cwct+CvSb+AnaHTyjgKvyAcKEQFrUU/EEdiyIEFVj8IE+I+ME9gP/iyMBvPLWU/QGQUqB6ZaT+APc0G72RtP4D3p7ezbXA/pIkTnwjQcT/4YxYRLchyP7RTT/NJf3M/NCOSB3PScz9MSb77qxN0P/QIlUg6tHQ/MDfNpTJxdT8sy0XfUSF2P+iUa/05dHY/SGKOjVwRdj+M24ToAQ11P6hE2VvK+XI/\",\"dtype\":\"float64\",\"shape\":[75]},\"y\":{\"__ndarray__\":\"GhExyth1ND/Sv8nbtpRIP2vylNV0PVE/aTum7souWD/At0SJ8fVgPw3Iuahxymc/MSNhhJWvcD/bTfBN02d3P2zb5nxnaoA/CD5h5MAGhz8NmeH1TyaQP+zrCsc9p5Y/LbKd76fGnz/bLW5ISEmmPww9YvTcQq8/JV2OstnstT8Er5Y7M8G+P0c+r3jqkcU/5h99k6ZBzj88bCIzFzjVP4enV8oyxN0//yH99nXg5D8qOpLLf0jtP5kqGJXUifQ/c9cS8kHP/D+/DpwzojQEQIEmwoanVwxA4lgXt9HgE0BSSZ2AJuIbQAMJih9jjiNA5q4l5INuK0AwTKYKRj0zQNv5fmq8/DpAaCJseHrtQkB/+zpwzoxKQM3MzMzMeFJAZmZmZmZqWEAAAAAAAFxeQM3MzMzMJmJAmpmZmZkfZUBmZmZmZhhoQDMzMzMzEWtAAAAAAAAKbkBmZmZmZoFwQM3MzMzM/XFAMzMzMzN6c0CamZmZmfZ0QAAAAAAAc3ZAZmZmZmbvd0DNzMzMzGt5QDMzMzMz6HpAmpmZmZlkfEAAAAAAAOF9QGZmZmZmXX9AZmZmZuZsgECamZmZGSuBQM3MzMxM6YFAAAAAAICngkAzMzMzs2WDQGZmZmbmI4RAmpmZmRnihEDNzMzMTKCFQAAAAACAXoZAMzMzM7Mch0BmZmZm5tqHQJqZmZkZmYhAzczMzExXiUAAAAAAgBWKQDMzMzOz04pAZmZmZuaRi0CamZmZGVCMQM3MzMxMDo1AAAAAAIDMjUAzMzMzs4qOQGZmZmbmSI9A\",\"dtype\":\"float64\",\"shape\":[75]}},\"selected\":{\"id\":\"ba796ec2-4a67-4b6d-99a9-01f947b7fa81\",\"type\":\"Selection\"},\"selection_policy\":{\"id\":\"2f8f3b8b-3cfe-41b3-8fd3-09f8566d6cee\",\"type\":\"UnionRenderers\"}},\"id\":\"adb231c2-e220-4d10-965a-5ecf95250804\",\"type\":\"ColumnDataSource\"},{\"attributes\":{\"dimension\":1,\"plot\":{\"id\":\"8ac6592e-47b6-4215-9942-f4df90bc0600\",\"subtype\":\"Figure\",\"type\":\"Plot\"},\"ticker\":{\"id\":\"ff6da032-7024-4cf3-867c-22c11654365d\",\"type\":\"BasicTicker\"}},\"id\":\"7042157e-d27c-4aa2-a903-71d790db7965\",\"type\":\"Grid\"},{\"attributes\":{},\"id\":\"91c8b1bd-4413-441c-bce9-bca97cafd30f\",\"type\":\"LinearScale\"},{\"attributes\":{\"bottom_units\":\"screen\",\"fill_alpha\":{\"value\":0.5},\"fill_color\":{\"value\":\"lightgrey\"},\"left_units\":\"screen\",\"level\":\"overlay\",\"line_alpha\":{\"value\":1.0},\"line_color\":{\"value\":\"black\"},\"line_dash\":[4,4],\"line_width\":{\"value\":2},\"plot\":null,\"render_mode\":\"css\",\"right_units\":\"screen\",\"top_units\":\"screen\"},\"id\":\"5b2c95d1-f284-4221-8231-022f4516b861\",\"type\":\"BoxAnnotation\"},{\"attributes\":{\"items\":[{\"id\":\"67ec1240-5511-4dac-a131-bd1f16734f6e\",\"type\":\"LegendItem\"}],\"label_text_font_size\":{\"value\":\"8pt\"},\"location\":\"top_center\",\"orientation\":\"horizontal\",\"plot\":{\"id\":\"a030cafe-b1be-4ed1-8d2b-696b70748308\",\"subtype\":\"Figure\",\"type\":\"Plot\"}},\"id\":\"4ecbe453-5a14-4286-accf-7dd90b4cf46a\",\"type\":\"Legend\"},{\"attributes\":{},\"id\":\"9e37ca8a-8dae-44d3-b2ad-214f541cd899\",\"type\":\"ResetTool\"},{\"attributes\":{},\"id\":\"05084553-0ecb-4633-a5f6-79291831b6ec\",\"type\":\"PanTool\"},{\"attributes\":{},\"id\":\"c1f8e70a-f5a8-4c8c-9458-7ca7ab351bd4\",\"type\":\"HelpTool\"},{\"attributes\":{\"active_drag\":\"auto\",\"active_inspect\":\"auto\",\"active_scroll\":\"auto\",\"active_tap\":\"auto\",\"tools\":[{\"id\":\"1d10c207-b85d-41ec-ad13-927767f89e8a\",\"type\":\"PanTool\"},{\"id\":\"9156c090-5b88-4c01-ae0a-8b5be9de6122\",\"type\":\"WheelZoomTool\"},{\"id\":\"f41b28e2-93d2-418e-a983-a001112fd4d7\",\"type\":\"BoxZoomTool\"},{\"id\":\"a019191f-7af9-4843-9477-0df615a7b83b\",\"type\":\"SaveTool\"},{\"id\":\"2bccc7c8-8207-45ae-ad56-adc4c1b0805d\",\"type\":\"ResetTool\"},{\"id\":\"77498d55-621a-43b4-8f0e-0720f54b2db1\",\"type\":\"HelpTool\"}]},\"id\":\"2256f705-5959-4627-87eb-1a460bceb011\",\"type\":\"Toolbar\"},{\"attributes\":{\"items\":[{\"id\":\"b35f20e8-ef18-413c-8783-e92420723dc9\",\"type\":\"LegendItem\"},{\"id\":\"5f7af819-0bd7-41c5-b33e-44127ff17a63\",\"type\":\"LegendItem\"}],\"label_text_font_size\":{\"value\":\"8pt\"},\"location\":\"top_center\",\"orientation\":\"horizontal\",\"plot\":{\"id\":\"8ac6592e-47b6-4215-9942-f4df90bc0600\",\"subtype\":\"Figure\",\"type\":\"Plot\"}},\"id\":\"5bdb2743-6311-4870-b4b6-ec37bee8516e\",\"type\":\"Legend\"},{\"attributes\":{\"callback\":null,\"end\":0.09198968380333933,\"start\":-0.03948560531850679},\"id\":\"637de54b-c5f7-4c27-9c20-d0d54b1f4033\",\"type\":\"Range1d\"},{\"attributes\":{\"line_alpha\":0.6,\"line_color\":\"#e41a1c\",\"line_dash\":[6],\"line_width\":5,\"x\":{\"field\":\"x\"},\"y\":{\"field\":\"y\"}},\"id\":\"2ac9bf78-fdee-469d-b1d8-8d7eb755413a\",\"type\":\"Line\"},{\"attributes\":{},\"id\":\"4d70d2fa-cebb-4627-828e-a392f890f1c6\",\"type\":\"LinearScale\"},{\"attributes\":{\"line_alpha\":0.1,\"line_color\":\"#1f77b4\",\"line_dash\":[6],\"line_width\":5,\"x\":{\"field\":\"x\"},\"y\":{\"field\":\"y\"}},\"id\":\"60911758-1974-4df9-949d-dd05a52eeea7\",\"type\":\"Line\"},{\"attributes\":{},\"id\":\"183e33cb-a807-430f-9bcd-8f71f18aaa27\",\"type\":\"UnionRenderers\"},{\"attributes\":{},\"id\":\"6e048e0d-847c-4e61-9ff6-cc412ac2461d\",\"type\":\"ResetTool\"},{\"attributes\":{},\"id\":\"1bd2ed32-707a-4b5b-97ee-299052cdf166\",\"type\":\"Selection\"},{\"attributes\":{},\"id\":\"ff4a995f-cc81-4785-96d0-df786203b0c0\",\"type\":\"SaveTool\"},{\"attributes\":{\"label\":{\"value\":\"CLIRAD - CRD\"},\"renderers\":[{\"id\":\"acf1ca47-1edf-4487-84cc-34162fa3e4f2\",\"type\":\"GlyphRenderer\"},{\"id\":\"9083604e-7d9b-436c-851e-e6cd8c222e5f\",\"type\":\"GlyphRenderer\"}]},\"id\":\"67ec1240-5511-4dac-a131-bd1f16734f6e\",\"type\":\"LegendItem\"},{\"attributes\":{\"overlay\":{\"id\":\"27c36806-b4c7-4983-abe0-92fe3037f673\",\"type\":\"BoxAnnotation\"}},\"id\":\"f41b28e2-93d2-418e-a983-a001112fd4d7\",\"type\":\"BoxZoomTool\"},{\"attributes\":{\"callback\":null,\"data\":{\"x\":{\"__ndarray__\":\"CGBfAFyvor9lCagIrHqiv/2KvylIBaK/j8wRnHSHob8YBPjlSgihv94HCj45iqC/6cZGqCoQoL/C4i7KhS2fvx6p1CG9RZ6/EBw7k7tpnb+xHh+/w6Wcv/4sGhJ+AJy/wSXvQP6Jm78Q0zSjPD6bv80Ld3erypi/mAXfHytLj78AR7+A1cYlv7uxu2AyRZI/J7jubOPdoz8OPfwRkyuwP5gi0Mvuarc/ijI/Kgrjvz8NCdOIfajDPylmsO7HScM/IY5wuGGkvj/4sPj8Gaa2Pw4498nkY7A/Hdz2bSPGpz8cDJZmyrmhPwjP6CxKAJs/M0vmx8TOkz/35XG9Eu2JP/EQqA8WSH0/maJJW/2VZD9v/WM9jzNovzfWzLlXT4O/dlZ798+jjr+e0HL39deTvwzFRxNJ3pi/pXxX8Bp1nb/wW5oLtrKev+Bttbn3kZy/hFzQnCjSmb8SkNJUpguXv4KW5qvNMZS/wKtKuIs6kb8gK217/0KMv0QAZjFHzIW/HY3dYwQrfr9rS4yBT1Vwv+BLq09gW0K/HgXMVvd8Zz+R7siZZKt5P8YiU+MBw4M/g/ghhf24ij+z8kS5eOSQP+iSOE8ff5Q/taoSFQQwmD9pdIN4j/mbPwhflZSG3Z8/qsFXGzPuoT/+cs3nU/yjP0kEff6IGqY/Uv5TSRtJqD9gndpOmIaqP75JGnb0zKw/tREQEvALrz/SkAUNfJOwP7VGtlNwgbE/q3IEHWtOsj9ll+KJpAazP7xfmFtAubM/uw34ac1wtD/hr0ia3zO1P8TpQLCMCLY/\",\"dtype\":\"float64\",\"shape\":[75]},\"y\":{\"__ndarray__\":\"GhExyth1ND/Sv8nbtpRIP2vylNV0PVE/aTum7souWD/At0SJ8fVgPw3Iuahxymc/MSNhhJWvcD/bTfBN02d3P2zb5nxnaoA/CD5h5MAGhz8NmeH1TyaQP+zrCsc9p5Y/LbKd76fGnz/bLW5ISEmmPww9YvTcQq8/JV2OstnstT8Er5Y7M8G+P0c+r3jqkcU/5h99k6ZBzj88bCIzFzjVP4enV8oyxN0//yH99nXg5D8qOpLLf0jtP5kqGJXUifQ/c9cS8kHP/D+/DpwzojQEQIEmwoanVwxA4lgXt9HgE0BSSZ2AJuIbQAMJih9jjiNA5q4l5INuK0AwTKYKRj0zQNv5fmq8/DpAaCJseHrtQkB/+zpwzoxKQM3MzMzMeFJAZmZmZmZqWEAAAAAAAFxeQM3MzMzMJmJAmpmZmZkfZUBmZmZmZhhoQDMzMzMzEWtAAAAAAAAKbkBmZmZmZoFwQM3MzMzM/XFAMzMzMzN6c0CamZmZmfZ0QAAAAAAAc3ZAZmZmZmbvd0DNzMzMzGt5QDMzMzMz6HpAmpmZmZlkfEAAAAAAAOF9QGZmZmZmXX9AZmZmZuZsgECamZmZGSuBQM3MzMxM6YFAAAAAAICngkAzMzMzs2WDQGZmZmbmI4RAmpmZmRnihEDNzMzMTKCFQAAAAACAXoZAMzMzM7Mch0BmZmZm5tqHQJqZmZkZmYhAzczMzExXiUAAAAAAgBWKQDMzMzOz04pAZmZmZuaRi0CamZmZGVCMQM3MzMxMDo1AAAAAAIDMjUAzMzMzs4qOQGZmZmbmSI9A\",\"dtype\":\"float64\",\"shape\":[75]}},\"selected\":{\"id\":\"89ef4ada-cb29-46b2-9c84-4882cb04c08a\",\"type\":\"Selection\"},\"selection_policy\":{\"id\":\"4f75553e-ad22-4ac5-9241-7c0a24521b48\",\"type\":\"UnionRenderers\"}},\"id\":\"359e4b0c-21a1-4dcf-8daf-8b1e20c17f0c\",\"type\":\"ColumnDataSource\"},{\"attributes\":{\"source\":{\"id\":\"adb231c2-e220-4d10-965a-5ecf95250804\",\"type\":\"ColumnDataSource\"}},\"id\":\"d45e9c62-eba4-4d82-87b7-173830272166\",\"type\":\"CDSView\"},{\"attributes\":{},\"id\":\"22ef7f6e-68fa-4816-a185-3df605009f94\",\"type\":\"WheelZoomTool\"},{\"attributes\":{\"data_source\":{\"id\":\"a2039486-5919-429c-a7a0-0cbae3f1b09c\",\"type\":\"ColumnDataSource\"},\"glyph\":{\"id\":\"09ad4256-eed4-48c4-8027-eb6bb8498042\",\"type\":\"Circle\"},\"hover_glyph\":null,\"muted_glyph\":null,\"nonselection_glyph\":{\"id\":\"929effcf-2e07-4dd4-924c-5ca209adcf16\",\"type\":\"Circle\"},\"selection_glyph\":null,\"view\":{\"id\":\"e2896aa6-b513-44fa-872e-3b346bcf785e\",\"type\":\"CDSView\"}},\"id\":\"162b2778-163b-40a6-bf8d-0ac0ca7db0c1\",\"type\":\"GlyphRenderer\"},{\"attributes\":{\"bottom_units\":\"screen\",\"fill_alpha\":{\"value\":0.5},\"fill_color\":{\"value\":\"lightgrey\"},\"left_units\":\"screen\",\"level\":\"overlay\",\"line_alpha\":{\"value\":1.0},\"line_color\":{\"value\":\"black\"},\"line_dash\":[4,4],\"line_width\":{\"value\":2},\"plot\":null,\"render_mode\":\"css\",\"right_units\":\"screen\",\"top_units\":\"screen\"},\"id\":\"27c36806-b4c7-4983-abe0-92fe3037f673\",\"type\":\"BoxAnnotation\"},{\"attributes\":{\"bottom_units\":\"screen\",\"fill_alpha\":{\"value\":0.5},\"fill_color\":{\"value\":\"lightgrey\"},\"left_units\":\"screen\",\"level\":\"overlay\",\"line_alpha\":{\"value\":1.0},\"line_color\":{\"value\":\"black\"},\"line_dash\":[4,4],\"line_width\":{\"value\":2},\"plot\":null,\"render_mode\":\"css\",\"right_units\":\"screen\",\"top_units\":\"screen\"},\"id\":\"dc346e8a-e620-4a63-a8b0-3c18fe9ec3fb\",\"type\":\"BoxAnnotation\"},{\"attributes\":{\"active_drag\":\"auto\",\"active_inspect\":\"auto\",\"active_scroll\":\"auto\",\"active_tap\":\"auto\",\"tools\":[{\"id\":\"9d530e11-54f7-49a0-86bf-e179dcba242c\",\"type\":\"PanTool\"},{\"id\":\"22ef7f6e-68fa-4816-a185-3df605009f94\",\"type\":\"WheelZoomTool\"},{\"id\":\"684295e5-b19e-4944-8d3b-3d70a1307c22\",\"type\":\"BoxZoomTool\"},{\"id\":\"ff4a995f-cc81-4785-96d0-df786203b0c0\",\"type\":\"SaveTool\"},{\"id\":\"6e048e0d-847c-4e61-9ff6-cc412ac2461d\",\"type\":\"ResetTool\"},{\"id\":\"e63cee6a-5de7-4707-9a47-bfe82047c1ee\",\"type\":\"HelpTool\"}]},\"id\":\"bbe54ff5-36e9-4913-907b-631894a31dd9\",\"type\":\"Toolbar\"},{\"attributes\":{},\"id\":\"ad2fbb50-7fc2-4303-9ebc-f270aed5f3e7\",\"type\":\"BasicTickFormatter\"},{\"attributes\":{\"fill_alpha\":{\"value\":0.1},\"fill_color\":{\"value\":\"#1f77b4\"},\"line_alpha\":{\"value\":0.1},\"line_color\":{\"value\":\"#1f77b4\"},\"x\":{\"field\":\"x\"},\"y\":{\"field\":\"y\"}},\"id\":\"929effcf-2e07-4dd4-924c-5ca209adcf16\",\"type\":\"Circle\"},{\"attributes\":{\"line_color\":\"#4daf4a\",\"line_width\":1.5,\"x\":{\"field\":\"x\"},\"y\":{\"field\":\"y\"}},\"id\":\"a91b42b2-a137-4e4b-8b49-edb14c04dd67\",\"type\":\"Line\"},{\"attributes\":{\"callback\":null,\"data\":{\"x\":{\"__ndarray__\":\"ux2K3WdgfL/GiEQLSNN7v4ExkOcIeHi/R7u07yezdb+yb8pJNA9zv3lnZrblTHC/kVKNYlkua7/gWJKFM4Zlv5Vpq2wU81+/gY82iOtjVL+tA7VyZrdBv7ZeGDBr4CQ/P0RFgv2YTD8qZJRd5UtaP/ZHBZ4uK3A/3hN9wsNBhj/3kYYWTamWP4UeC9VMT6I/PbjasmSRqj86QAmyzyeyP6wf7e245rc/ox+ts5aZvj+9+Ud+M0/CP+iqL6xpfsI/30cCCnTnvz83NAoRXeO5P7q49Wl+P7Q/wzMuwiSVrj+344Wrvk6mP11LHOFV/54/60FZ/vZQkz/JXGsy+LaCPznwCVurfFk/C+GovN7fcr+xnh1zUceGv6YE6yVgvZK/cYoEnKf5mL+QndLzMdydv9ABNYvYRKG/fN1be+Mio7/bf55Jgo6jvyIt6KgJl6K/2qn7lFwyob/73u1W1lOfv920cqx+BZy/Z28p8RiBmL9mSyWiXsWUv96oZrs64ZC/DZ6sXOWpib+0PlMd+1SBv2jSGyeevnG/j+a+CoYOKb+nZ+MVoUNwP6waYQHSn4A/I6hYk/8diT9TRdZeXNeQP2JX/YKHLJU/7+o2OlyQmT9PkTqIdQOeP/l6mD+gQaE/r3BDCcWHoz+Vpi7botKlP+qZfng/KKg/sn52YByDqj9N2KH0nd+sPzxIAbrdPK8/XPeHPR/DsD9TkcvRttSxP1H+gv2zzLI/LbdPS36lsz98BVGquWi0PyzKDv2DILU/EQGrM+PRtT9qn5G5r4S2P5/8zmgpOLc/\",\"dtype\":\"float64\",\"shape\":[75]},\"y\":{\"__ndarray__\":\"GhExyth1ND/Sv8nbtpRIP2vylNV0PVE/aTum7souWD/At0SJ8fVgPw3Iuahxymc/MSNhhJWvcD/bTfBN02d3P2zb5nxnaoA/CD5h5MAGhz8NmeH1TyaQP+zrCsc9p5Y/LbKd76fGnz/bLW5ISEmmPww9YvTcQq8/JV2OstnstT8Er5Y7M8G+P0c+r3jqkcU/5h99k6ZBzj88bCIzFzjVP4enV8oyxN0//yH99nXg5D8qOpLLf0jtP5kqGJXUifQ/c9cS8kHP/D+/DpwzojQEQIEmwoanVwxA4lgXt9HgE0BSSZ2AJuIbQAMJih9jjiNA5q4l5INuK0AwTKYKRj0zQNv5fmq8/DpAaCJseHrtQkB/+zpwzoxKQM3MzMzMeFJAZmZmZmZqWEAAAAAAAFxeQM3MzMzMJmJAmpmZmZkfZUBmZmZmZhhoQDMzMzMzEWtAAAAAAAAKbkBmZmZmZoFwQM3MzMzM/XFAMzMzMzN6c0CamZmZmfZ0QAAAAAAAc3ZAZmZmZmbvd0DNzMzMzGt5QDMzMzMz6HpAmpmZmZlkfEAAAAAAAOF9QGZmZmZmXX9AZmZmZuZsgECamZmZGSuBQM3MzMxM6YFAAAAAAICngkAzMzMzs2WDQGZmZmbmI4RAmpmZmRnihEDNzMzMTKCFQAAAAACAXoZAMzMzM7Mch0BmZmZm5tqHQJqZmZkZmYhAzczMzExXiUAAAAAAgBWKQDMzMzOz04pAZmZmZuaRi0CamZmZGVCMQM3MzMxMDo1AAAAAAIDMjUAzMzMzs4qOQGZmZmbmSI9A\",\"dtype\":\"float64\",\"shape\":[75]}},\"selected\":{\"id\":\"b5b898b2-aafa-47c9-8155-e2c9203d2ee6\",\"type\":\"Selection\"},\"selection_policy\":{\"id\":\"cccce2b5-4a55-4490-a23f-db8377aba883\",\"type\":\"UnionRenderers\"}},\"id\":\"e9113d81-76a9-4230-9dde-d9e4eb1620dd\",\"type\":\"ColumnDataSource\"},{\"attributes\":{\"source\":{\"id\":\"a2039486-5919-429c-a7a0-0cbae3f1b09c\",\"type\":\"ColumnDataSource\"}},\"id\":\"e2896aa6-b513-44fa-872e-3b346bcf785e\",\"type\":\"CDSView\"},{\"attributes\":{\"callback\":null,\"end\":0.01,\"start\":1020},\"id\":\"e111dfb3-e861-47b4-92d7-c8bdf63c23bb\",\"type\":\"Range1d\"},{\"attributes\":{\"callback\":null,\"data\":{\"x\":{\"__ndarray__\":\"CGBfAFyvor9lCagIrHqiv/2KvylIBaK/j8wRnHSHob8YBPjlSgihv94HCj45iqC/6cZGqCoQoL/C4i7KhS2fvx6p1CG9RZ6/EBw7k7tpnb+xHh+/w6Wcv/4sGhJ+AJy/wSXvQP6Jm78Q0zSjPD6bv80Ld3erypi/mAXfHytLj78AR7+A1cYlv7uxu2AyRZI/J7jubOPdoz8OPfwRkyuwP5gi0Mvuarc/ijI/Kgrjvz8NCdOIfajDPylmsO7HScM/IY5wuGGkvj/4sPj8Gaa2Pw4498nkY7A/Hdz2bSPGpz8cDJZmyrmhPwjP6CxKAJs/M0vmx8TOkz/35XG9Eu2JP/EQqA8WSH0/maJJW/2VZD9v/WM9jzNovzfWzLlXT4O/dlZ798+jjr+e0HL39deTvwzFRxNJ3pi/pXxX8Bp1nb/wW5oLtrKev+Bttbn3kZy/hFzQnCjSmb8SkNJUpguXv4KW5qvNMZS/wKtKuIs6kb8gK217/0KMv0QAZjFHzIW/HY3dYwQrfr9rS4yBT1Vwv+BLq09gW0K/HgXMVvd8Zz+R7siZZKt5P8YiU+MBw4M/g/ghhf24ij+z8kS5eOSQP+iSOE8ff5Q/taoSFQQwmD9pdIN4j/mbPwhflZSG3Z8/qsFXGzPuoT/+cs3nU/yjP0kEff6IGqY/Uv5TSRtJqD9gndpOmIaqP75JGnb0zKw/tREQEvALrz/SkAUNfJOwP7VGtlNwgbE/q3IEHWtOsj9ll+KJpAazP7xfmFtAubM/uw34ac1wtD/hr0ia3zO1P8TpQLCMCLY/\",\"dtype\":\"float64\",\"shape\":[75]},\"y\":{\"__ndarray__\":\"GhExyth1ND/Sv8nbtpRIP2vylNV0PVE/aTum7souWD/At0SJ8fVgPw3Iuahxymc/MSNhhJWvcD/bTfBN02d3P2zb5nxnaoA/CD5h5MAGhz8NmeH1TyaQP+zrCsc9p5Y/LbKd76fGnz/bLW5ISEmmPww9YvTcQq8/JV2OstnstT8Er5Y7M8G+P0c+r3jqkcU/5h99k6ZBzj88bCIzFzjVP4enV8oyxN0//yH99nXg5D8qOpLLf0jtP5kqGJXUifQ/c9cS8kHP/D+/DpwzojQEQIEmwoanVwxA4lgXt9HgE0BSSZ2AJuIbQAMJih9jjiNA5q4l5INuK0AwTKYKRj0zQNv5fmq8/DpAaCJseHrtQkB/+zpwzoxKQM3MzMzMeFJAZmZmZmZqWEAAAAAAAFxeQM3MzMzMJmJAmpmZmZkfZUBmZmZmZhhoQDMzMzMzEWtAAAAAAAAKbkBmZmZmZoFwQM3MzMzM/XFAMzMzMzN6c0CamZmZmfZ0QAAAAAAAc3ZAZmZmZmbvd0DNzMzMzGt5QDMzMzMz6HpAmpmZmZlkfEAAAAAAAOF9QGZmZmZmXX9AZmZmZuZsgECamZmZGSuBQM3MzMxM6YFAAAAAAICngkAzMzMzs2WDQGZmZmbmI4RAmpmZmRnihEDNzMzMTKCFQAAAAACAXoZAMzMzM7Mch0BmZmZm5tqHQJqZmZkZmYhAzczMzExXiUAAAAAAgBWKQDMzMzOz04pAZmZmZuaRi0CamZmZGVCMQM3MzMxMDo1AAAAAAIDMjUAzMzMzs4qOQGZmZmbmSI9A\",\"dtype\":\"float64\",\"shape\":[75]}},\"selected\":{\"id\":\"c63198a1-64c3-4503-ac9e-d5fb9de0e6f1\",\"type\":\"Selection\"},\"selection_policy\":{\"id\":\"fb5d20d3-4217-414d-9418-427cb2a28ca2\",\"type\":\"UnionRenderers\"}},\"id\":\"f18a689f-2c94-4cf9-b0d3-f3fd6519ae08\",\"type\":\"ColumnDataSource\"},{\"attributes\":{},\"id\":\"515e3839-fca3-4248-ae4b-780093b53ca5\",\"type\":\"UnionRenderers\"},{\"attributes\":{},\"id\":\"9ed5a6f4-c890-4f76-894d-22d04e5a3d4b\",\"type\":\"BasicTickFormatter\"},{\"attributes\":{\"children\":[{\"id\":\"8ac6592e-47b6-4215-9942-f4df90bc0600\",\"subtype\":\"Figure\",\"type\":\"Plot\"},{\"id\":\"16c870a1-3294-4622-b326-02fe9067812b\",\"subtype\":\"Figure\",\"type\":\"Plot\"},{\"id\":\"a030cafe-b1be-4ed1-8d2b-696b70748308\",\"subtype\":\"Figure\",\"type\":\"Plot\"}]},\"id\":\"12d11d64-c9b2-4248-a0a9-53a1ea36b36e\",\"type\":\"Row\"},{\"attributes\":{\"callback\":null,\"end\":0.01,\"start\":1020},\"id\":\"67ed5007-07fb-406d-9adf-8203d9c13d78\",\"type\":\"Range1d\"},{\"attributes\":{},\"id\":\"77498d55-621a-43b4-8f0e-0720f54b2db1\",\"type\":\"HelpTool\"},{\"attributes\":{\"data_source\":{\"id\":\"f304c5b2-f3d5-49f1-a871-d830f376b0e2\",\"type\":\"ColumnDataSource\"},\"glyph\":{\"id\":\"811d132b-a60c-4700-8b48-88b38338f88d\",\"type\":\"Line\"},\"hover_glyph\":null,\"muted_glyph\":null,\"nonselection_glyph\":{\"id\":\"65c21123-1df7-4350-8434-e82576c17285\",\"type\":\"Line\"},\"selection_glyph\":null,\"view\":{\"id\":\"5ddd73de-12e5-49ae-8cec-4828d383922d\",\"type\":\"CDSView\"}},\"id\":\"9083604e-7d9b-436c-851e-e6cd8c222e5f\",\"type\":\"GlyphRenderer\"},{\"attributes\":{},\"id\":\"ba796ec2-4a67-4b6d-99a9-01f947b7fa81\",\"type\":\"Selection\"},{\"attributes\":{\"fill_alpha\":{\"value\":0.1},\"fill_color\":{\"value\":\"#1f77b4\"},\"line_alpha\":{\"value\":0.1},\"line_color\":{\"value\":\"#1f77b4\"},\"x\":{\"field\":\"x\"},\"y\":{\"field\":\"y\"}},\"id\":\"2a643d14-fb93-4db0-8bcf-bbabfe865222\",\"type\":\"Circle\"},{\"attributes\":{\"callback\":null,\"data\":{\"x\":{\"__ndarray__\":\"0Vuy7oNanj8caGihUjeeP4tfxkZ48Z0/Iex6RDGinT8W4qMSFk2dPy6zG803AZ0/7gD9NrO6nD/wks3YvXycP3inv/WhRpw/HLHq+YAjnD+4V/wkCxicP2ROeEpFKpw/ilLzsvVunD+XUGO5I+ecP+yCFzYw3Zw/jwOQiX3Kmj+/mFjZcdWWP0HZefuxWZI/a5AexnHOij80Ql5gbcR/P6CmcelE9F4/MAVOkLqYdL8IEq7v35aFvyhu2hXFbnm/UFJyUaQwdD/ERkaSFuqJP9Apvl3T3I4/yp9Cig48iz/waakX11OCP+xOZ+Bk+G8/0CAH4EBzP7/AnP9JWdhsv8thX2Dk6Ha/TrOv6tsqfb84OlUgbbqAvxb4cxtnK4K/8tQ/GX5Pg7+eGu7ldwiEv67gEEjPVoO/CbHEnlWhgb/awsMZm9SAv+0MdSA3OIG/ALu/cCElgb9oeeBTYJCAv33qqI3ETn+/XXTvXDUafb9ZBhf/e496v1hKvu1c7He/fldRssYodb88KYMTp1Ryv3R5letk5m6/xm5ZXOANab/CHseah89ivx4sfgWAGVm/1Cwct+CvSb+AnaHTyjgKvyAcKEQFrUU/EEdiyIEFVj8IE+I+ME9gP/iyMBvPLWU/QGQUqB6ZaT+APc0G72RtP4D3p7ezbXA/pIkTnwjQcT/4YxYRLchyP7RTT/NJf3M/NCOSB3PScz9MSb77qxN0P/QIlUg6tHQ/MDfNpTJxdT8sy0XfUSF2P+iUa/05dHY/SGKOjVwRdj+M24ToAQ11P6hE2VvK+XI/\",\"dtype\":\"float64\",\"shape\":[75]},\"y\":{\"__ndarray__\":\"GhExyth1ND/Sv8nbtpRIP2vylNV0PVE/aTum7souWD/At0SJ8fVgPw3Iuahxymc/MSNhhJWvcD/bTfBN02d3P2zb5nxnaoA/CD5h5MAGhz8NmeH1TyaQP+zrCsc9p5Y/LbKd76fGnz/bLW5ISEmmPww9YvTcQq8/JV2OstnstT8Er5Y7M8G+P0c+r3jqkcU/5h99k6ZBzj88bCIzFzjVP4enV8oyxN0//yH99nXg5D8qOpLLf0jtP5kqGJXUifQ/c9cS8kHP/D+/DpwzojQEQIEmwoanVwxA4lgXt9HgE0BSSZ2AJuIbQAMJih9jjiNA5q4l5INuK0AwTKYKRj0zQNv5fmq8/DpAaCJseHrtQkB/+zpwzoxKQM3MzMzMeFJAZmZmZmZqWEAAAAAAAFxeQM3MzMzMJmJAmpmZmZkfZUBmZmZmZhhoQDMzMzMzEWtAAAAAAAAKbkBmZmZmZoFwQM3MzMzM/XFAMzMzMzN6c0CamZmZmfZ0QAAAAAAAc3ZAZmZmZmbvd0DNzMzMzGt5QDMzMzMz6HpAmpmZmZlkfEAAAAAAAOF9QGZmZmZmXX9AZmZmZuZsgECamZmZGSuBQM3MzMxM6YFAAAAAAICngkAzMzMzs2WDQGZmZmbmI4RAmpmZmRnihEDNzMzMTKCFQAAAAACAXoZAMzMzM7Mch0BmZmZm5tqHQJqZmZkZmYhAzczMzExXiUAAAAAAgBWKQDMzMzOz04pAZmZmZuaRi0CamZmZGVCMQM3MzMxMDo1AAAAAAIDMjUAzMzMzs4qOQGZmZmbmSI9A\",\"dtype\":\"float64\",\"shape\":[75]}},\"selected\":{\"id\":\"c7b0e010-c949-4ed4-a3b4-cd339234c1c6\",\"type\":\"Selection\"},\"selection_policy\":{\"id\":\"183e33cb-a807-430f-9bcd-8f71f18aaa27\",\"type\":\"UnionRenderers\"}},\"id\":\"f304c5b2-f3d5-49f1-a871-d830f376b0e2\",\"type\":\"ColumnDataSource\"},{\"attributes\":{\"overlay\":{\"id\":\"dc346e8a-e620-4a63-a8b0-3c18fe9ec3fb\",\"type\":\"BoxAnnotation\"}},\"id\":\"684295e5-b19e-4944-8d3b-3d70a1307c22\",\"type\":\"BoxZoomTool\"},{\"attributes\":{\"callback\":null,\"data\":{\"x\":{\"__ndarray__\":\"CGBfAFyvor9lCagIrHqiv/2KvylIBaK/j8wRnHSHob8YBPjlSgihv94HCj45iqC/6cZGqCoQoL/C4i7KhS2fvx6p1CG9RZ6/EBw7k7tpnb+xHh+/w6Wcv/4sGhJ+AJy/wSXvQP6Jm78Q0zSjPD6bv80Ld3erypi/mAXfHytLj78AR7+A1cYlv7uxu2AyRZI/J7jubOPdoz8OPfwRkyuwP5gi0Mvuarc/ijI/Kgrjvz8NCdOIfajDPylmsO7HScM/IY5wuGGkvj/4sPj8Gaa2Pw4498nkY7A/Hdz2bSPGpz8cDJZmyrmhPwjP6CxKAJs/M0vmx8TOkz/35XG9Eu2JP/EQqA8WSH0/maJJW/2VZD9v/WM9jzNovzfWzLlXT4O/dlZ798+jjr+e0HL39deTvwzFRxNJ3pi/pXxX8Bp1nb/wW5oLtrKev+Bttbn3kZy/hFzQnCjSmb8SkNJUpguXv4KW5qvNMZS/wKtKuIs6kb8gK217/0KMv0QAZjFHzIW/HY3dYwQrfr9rS4yBT1Vwv+BLq09gW0K/HgXMVvd8Zz+R7siZZKt5P8YiU+MBw4M/g/ghhf24ij+z8kS5eOSQP+iSOE8ff5Q/taoSFQQwmD9pdIN4j/mbPwhflZSG3Z8/qsFXGzPuoT/+cs3nU/yjP0kEff6IGqY/Uv5TSRtJqD9gndpOmIaqP75JGnb0zKw/tREQEvALrz/SkAUNfJOwP7VGtlNwgbE/q3IEHWtOsj9ll+KJpAazP7xfmFtAubM/uw34ac1wtD/hr0ia3zO1P8TpQLCMCLY/\",\"dtype\":\"float64\",\"shape\":[75]},\"y\":{\"__ndarray__\":\"GhExyth1ND/Sv8nbtpRIP2vylNV0PVE/aTum7souWD/At0SJ8fVgPw3Iuahxymc/MSNhhJWvcD/bTfBN02d3P2zb5nxnaoA/CD5h5MAGhz8NmeH1TyaQP+zrCsc9p5Y/LbKd76fGnz/bLW5ISEmmPww9YvTcQq8/JV2OstnstT8Er5Y7M8G+P0c+r3jqkcU/5h99k6ZBzj88bCIzFzjVP4enV8oyxN0//yH99nXg5D8qOpLLf0jtP5kqGJXUifQ/c9cS8kHP/D+/DpwzojQEQIEmwoanVwxA4lgXt9HgE0BSSZ2AJuIbQAMJih9jjiNA5q4l5INuK0AwTKYKRj0zQNv5fmq8/DpAaCJseHrtQkB/+zpwzoxKQM3MzMzMeFJAZmZmZmZqWEAAAAAAAFxeQM3MzMzMJmJAmpmZmZkfZUBmZmZmZhhoQDMzMzMzEWtAAAAAAAAKbkBmZmZmZoFwQM3MzMzM/XFAMzMzMzN6c0CamZmZmfZ0QAAAAAAAc3ZAZmZmZmbvd0DNzMzMzGt5QDMzMzMz6HpAmpmZmZlkfEAAAAAAAOF9QGZmZmZmXX9AZmZmZuZsgECamZmZGSuBQM3MzMxM6YFAAAAAAICngkAzMzMzs2WDQGZmZmbmI4RAmpmZmRnihEDNzMzMTKCFQAAAAACAXoZAMzMzM7Mch0BmZmZm5tqHQJqZmZkZmYhAzczMzExXiUAAAAAAgBWKQDMzMzOz04pAZmZmZuaRi0CamZmZGVCMQM3MzMxMDo1AAAAAAIDMjUAzMzMzs4qOQGZmZmbmSI9A\",\"dtype\":\"float64\",\"shape\":[75]}},\"selected\":{\"id\":\"69957147-e53a-4b23-94ad-4bb08bda0f98\",\"type\":\"Selection\"},\"selection_policy\":{\"id\":\"8c56259a-548a-434e-85b0-a2186f1d3c19\",\"type\":\"UnionRenderers\"}},\"id\":\"a2039486-5919-429c-a7a0-0cbae3f1b09c\",\"type\":\"ColumnDataSource\"},{\"attributes\":{\"source\":{\"id\":\"e9113d81-76a9-4230-9dde-d9e4eb1620dd\",\"type\":\"ColumnDataSource\"}},\"id\":\"c1d58729-f41c-4527-826c-6cd298c95972\",\"type\":\"CDSView\"},{\"attributes\":{},\"id\":\"9d530e11-54f7-49a0-86bf-e179dcba242c\",\"type\":\"PanTool\"},{\"attributes\":{\"above\":[{\"id\":\"5bdb2743-6311-4870-b4b6-ec37bee8516e\",\"type\":\"Legend\"}],\"below\":[{\"id\":\"73ea70d6-349f-49af-9355-38ab8a524b2f\",\"type\":\"LinearAxis\"}],\"left\":[{\"id\":\"9115ed1f-af5d-42c4-a619-8aa66927c8af\",\"type\":\"LinearAxis\"}],\"plot_width\":300,\"renderers\":[{\"id\":\"73ea70d6-349f-49af-9355-38ab8a524b2f\",\"type\":\"LinearAxis\"},{\"id\":\"cde8450b-0f4b-48c6-a7ef-7c3e67cbca16\",\"type\":\"Grid\"},{\"id\":\"9115ed1f-af5d-42c4-a619-8aa66927c8af\",\"type\":\"LinearAxis\"},{\"id\":\"7042157e-d27c-4aa2-a903-71d790db7965\",\"type\":\"Grid\"},{\"id\":\"27c36806-b4c7-4983-abe0-92fe3037f673\",\"type\":\"BoxAnnotation\"},{\"id\":\"31b78f2e-f676-429e-9e9e-852777125c17\",\"type\":\"GlyphRenderer\"},{\"id\":\"5f2ed5c7-bf2e-4977-9ffc-e602593cdf34\",\"type\":\"GlyphRenderer\"},{\"id\":\"ac4c38a1-86aa-4d69-a77c-38ca766970e6\",\"type\":\"GlyphRenderer\"},{\"id\":\"5bdb2743-6311-4870-b4b6-ec37bee8516e\",\"type\":\"Legend\"}],\"title\":{\"id\":\"becd9985-bb25-41fc-a0c5-099ba539a548\",\"type\":\"Title\"},\"toolbar\":{\"id\":\"2256f705-5959-4627-87eb-1a460bceb011\",\"type\":\"Toolbar\"},\"toolbar_location\":null,\"x_range\":{\"id\":\"637de54b-c5f7-4c27-9c20-d0d54b1f4033\",\"type\":\"Range1d\"},\"x_scale\":{\"id\":\"4d70d2fa-cebb-4627-828e-a392f890f1c6\",\"type\":\"LinearScale\"},\"y_range\":{\"id\":\"67ed5007-07fb-406d-9adf-8203d9c13d78\",\"type\":\"Range1d\"},\"y_scale\":{\"id\":\"b3705ae1-119c-47c7-a634-1b591c8a0ad8\",\"type\":\"LinearScale\"}},\"id\":\"8ac6592e-47b6-4215-9942-f4df90bc0600\",\"subtype\":\"Figure\",\"type\":\"Plot\"},{\"attributes\":{\"data_source\":{\"id\":\"e9113d81-76a9-4230-9dde-d9e4eb1620dd\",\"type\":\"ColumnDataSource\"},\"glyph\":{\"id\":\"2ac9bf78-fdee-469d-b1d8-8d7eb755413a\",\"type\":\"Line\"},\"hover_glyph\":null,\"muted_glyph\":null,\"nonselection_glyph\":{\"id\":\"60911758-1974-4df9-949d-dd05a52eeea7\",\"type\":\"Line\"},\"selection_glyph\":null,\"view\":{\"id\":\"c1d58729-f41c-4527-826c-6cd298c95972\",\"type\":\"CDSView\"}},\"id\":\"c3f030ae-47dd-48a2-8d7c-444c6562f083\",\"type\":\"GlyphRenderer\"},{\"attributes\":{\"fill_alpha\":{\"value\":0.7},\"fill_color\":{\"value\":\"#4daf4a\"},\"line_alpha\":{\"value\":0.7},\"line_color\":{\"value\":\"#4daf4a\"},\"x\":{\"field\":\"x\"},\"y\":{\"field\":\"y\"}},\"id\":\"09ad4256-eed4-48c4-8027-eb6bb8498042\",\"type\":\"Circle\"},{\"attributes\":{},\"id\":\"a019191f-7af9-4843-9477-0df615a7b83b\",\"type\":\"SaveTool\"},{\"attributes\":{\"line_alpha\":0.1,\"line_color\":\"#1f77b4\",\"line_width\":1.5,\"x\":{\"field\":\"x\"},\"y\":{\"field\":\"y\"}},\"id\":\"38b7598e-74c8-46fa-bb70-cab40da99e05\",\"type\":\"Line\"},{\"attributes\":{\"data_source\":{\"id\":\"f18a689f-2c94-4cf9-b0d3-f3fd6519ae08\",\"type\":\"ColumnDataSource\"},\"glyph\":{\"id\":\"a91b42b2-a137-4e4b-8b49-edb14c04dd67\",\"type\":\"Line\"},\"hover_glyph\":null,\"muted_glyph\":null,\"nonselection_glyph\":{\"id\":\"38b7598e-74c8-46fa-bb70-cab40da99e05\",\"type\":\"Line\"},\"selection_glyph\":null,\"view\":{\"id\":\"8bede549-b52e-45f7-b4b6-493d114db18f\",\"type\":\"CDSView\"}},\"id\":\"8f6b23ec-83d5-4562-8f78-ae32e069fe41\",\"type\":\"GlyphRenderer\"},{\"attributes\":{},\"id\":\"e63cee6a-5de7-4707-9a47-bfe82047c1ee\",\"type\":\"HelpTool\"},{\"attributes\":{\"line_alpha\":0.1,\"line_color\":\"#1f77b4\",\"line_dash\":[6],\"line_width\":5,\"x\":{\"field\":\"x\"},\"y\":{\"field\":\"y\"}},\"id\":\"ff33f269-fec5-4853-b6d9-16f3bd19460e\",\"type\":\"Line\"},{\"attributes\":{\"source\":{\"id\":\"f18a689f-2c94-4cf9-b0d3-f3fd6519ae08\",\"type\":\"ColumnDataSource\"}},\"id\":\"8bede549-b52e-45f7-b4b6-493d114db18f\",\"type\":\"CDSView\"},{\"attributes\":{\"fill_alpha\":{\"value\":0.7},\"fill_color\":{\"value\":\"#984ea3\"},\"line_alpha\":{\"value\":0.7},\"line_color\":{\"value\":\"#984ea3\"},\"x\":{\"field\":\"x\"},\"y\":{\"field\":\"y\"}},\"id\":\"37519cf4-444e-4a45-a7cb-c7b882fa6292\",\"type\":\"Circle\"},{\"attributes\":{\"num_minor_ticks\":10},\"id\":\"3c3c4694-dcc2-4949-bf2d-48288d3a043a\",\"type\":\"LogTicker\"},{\"attributes\":{\"source\":{\"id\":\"f304c5b2-f3d5-49f1-a871-d830f376b0e2\",\"type\":\"ColumnDataSource\"}},\"id\":\"5ddd73de-12e5-49ae-8cec-4828d383922d\",\"type\":\"CDSView\"},{\"attributes\":{\"label\":{\"value\":\"CLIRAD\"},\"renderers\":[{\"id\":\"c3f030ae-47dd-48a2-8d7c-444c6562f083\",\"type\":\"GlyphRenderer\"}]},\"id\":\"1c9c54db-6737-4b01-97eb-83457b4217b6\",\"type\":\"LegendItem\"},{\"attributes\":{\"line_alpha\":0.8,\"line_color\":\"#984ea3\",\"line_width\":1.5,\"x\":{\"field\":\"x\"},\"y\":{\"field\":\"y\"}},\"id\":\"811d132b-a60c-4700-8b48-88b38338f88d\",\"type\":\"Line\"},{\"attributes\":{\"plot\":{\"id\":\"16c870a1-3294-4622-b326-02fe9067812b\",\"subtype\":\"Figure\",\"type\":\"Plot\"},\"ticker\":{\"id\":\"632ce561-0a90-4a0f-bdaf-b0ea5165e0ca\",\"type\":\"BasicTicker\"}},\"id\":\"15f7212d-5c75-4e5b-8b3a-8f962cccc8ae\",\"type\":\"Grid\"},{\"attributes\":{},\"id\":\"b9e7dc32-9085-46bf-bd1e-408459c43572\",\"type\":\"LinearScale\"},{\"attributes\":{\"label\":{\"value\":\"CRD\"},\"renderers\":[{\"id\":\"162b2778-163b-40a6-bf8d-0ac0ca7db0c1\",\"type\":\"GlyphRenderer\"},{\"id\":\"8f6b23ec-83d5-4562-8f78-ae32e069fe41\",\"type\":\"GlyphRenderer\"}]},\"id\":\"b138e0cc-56b9-48bb-9739-a03f0066b3ef\",\"type\":\"LegendItem\"},{\"attributes\":{\"line_alpha\":0.1,\"line_color\":\"#1f77b4\",\"line_width\":1.5,\"x\":{\"field\":\"x\"},\"y\":{\"field\":\"y\"}},\"id\":\"65c21123-1df7-4350-8434-e82576c17285\",\"type\":\"Line\"},{\"attributes\":{\"children\":[{\"id\":\"12d11d64-c9b2-4248-a0a9-53a1ea36b36e\",\"type\":\"Row\"}]},\"id\":\"1291db72-fdc4-41bb-89c2-3dffa7a113a4\",\"type\":\"Column\"},{\"attributes\":{},\"id\":\"2f8f3b8b-3cfe-41b3-8fd3-09f8566d6cee\",\"type\":\"UnionRenderers\"},{\"attributes\":{},\"id\":\"4f75553e-ad22-4ac5-9241-7c0a24521b48\",\"type\":\"UnionRenderers\"},{\"attributes\":{\"plot\":null,\"text\":\"\"},\"id\":\"becd9985-bb25-41fc-a0c5-099ba539a548\",\"type\":\"Title\"},{\"attributes\":{\"fill_alpha\":{\"value\":0.7},\"fill_color\":{\"value\":\"#4daf4a\"},\"line_alpha\":{\"value\":0.7},\"line_color\":{\"value\":\"#4daf4a\"},\"x\":{\"field\":\"x\"},\"y\":{\"field\":\"y\"}},\"id\":\"6e2a19a5-a966-4c96-8436-daa6ec1b3b90\",\"type\":\"Circle\"},{\"attributes\":{\"ticker\":null},\"id\":\"5c1e604d-bd9d-4d3f-b2ba-84a1bb8e355f\",\"type\":\"LogTickFormatter\"},{\"attributes\":{\"above\":[{\"id\":\"4ecbe453-5a14-4286-accf-7dd90b4cf46a\",\"type\":\"Legend\"}],\"below\":[{\"id\":\"be891323-0bbf-47b5-93c1-f395136f6959\",\"type\":\"LinearAxis\"}],\"left\":[{\"id\":\"0d321c11-e90b-4883-be9c-d42d0a521724\",\"type\":\"LogAxis\"}],\"plot_width\":300,\"renderers\":[{\"id\":\"be891323-0bbf-47b5-93c1-f395136f6959\",\"type\":\"LinearAxis\"},{\"id\":\"57b30ac6-1e19-4072-9cf8-e0ac54567b3a\",\"type\":\"Grid\"},{\"id\":\"0d321c11-e90b-4883-be9c-d42d0a521724\",\"type\":\"LogAxis\"},{\"id\":\"f12e3024-a278-4412-b79f-de990c2baf5e\",\"type\":\"Grid\"},{\"id\":\"5b2c95d1-f284-4221-8231-022f4516b861\",\"type\":\"BoxAnnotation\"},{\"id\":\"acf1ca47-1edf-4487-84cc-34162fa3e4f2\",\"type\":\"GlyphRenderer\"},{\"id\":\"9083604e-7d9b-436c-851e-e6cd8c222e5f\",\"type\":\"GlyphRenderer\"},{\"id\":\"4ecbe453-5a14-4286-accf-7dd90b4cf46a\",\"type\":\"Legend\"}],\"title\":{\"id\":\"f79dcfed-3fdf-47c8-8fc9-13d3dc2dd281\",\"type\":\"Title\"},\"toolbar\":{\"id\":\"deafff84-a48a-427d-a57a-f2aa2710bdf5\",\"type\":\"Toolbar\"},\"toolbar_location\":null,\"x_range\":{\"id\":\"cb0aef74-ba7f-41d4-a085-2b0110d1d77b\",\"type\":\"Range1d\"},\"x_scale\":{\"id\":\"91c8b1bd-4413-441c-bce9-bca97cafd30f\",\"type\":\"LinearScale\"},\"y_range\":{\"id\":\"43ad2124-f2a4-472d-80e8-3d8b197c2121\",\"type\":\"Range1d\"},\"y_scale\":{\"id\":\"f5babe80-70c6-4f64-9ca6-f5d0448a6429\",\"type\":\"LogScale\"}},\"id\":\"a030cafe-b1be-4ed1-8d2b-696b70748308\",\"subtype\":\"Figure\",\"type\":\"Plot\"},{\"attributes\":{},\"id\":\"2bccc7c8-8207-45ae-ad56-adc4c1b0805d\",\"type\":\"ResetTool\"},{\"attributes\":{},\"id\":\"8816d2c6-55d9-41ff-bc19-9f4e94012d89\",\"type\":\"LogScale\"},{\"attributes\":{\"data_source\":{\"id\":\"adb231c2-e220-4d10-965a-5ecf95250804\",\"type\":\"ColumnDataSource\"},\"glyph\":{\"id\":\"37519cf4-444e-4a45-a7cb-c7b882fa6292\",\"type\":\"Circle\"},\"hover_glyph\":null,\"muted_glyph\":null,\"nonselection_glyph\":{\"id\":\"a7ce5fd7-02be-4f1b-b443-d8492dca248e\",\"type\":\"Circle\"},\"selection_glyph\":null,\"view\":{\"id\":\"d45e9c62-eba4-4d82-87b7-173830272166\",\"type\":\"CDSView\"}},\"id\":\"acf1ca47-1edf-4487-84cc-34162fa3e4f2\",\"type\":\"GlyphRenderer\"},{\"attributes\":{\"label\":{\"value\":\"CLIRAD\"},\"renderers\":[{\"id\":\"31b78f2e-f676-429e-9e9e-852777125c17\",\"type\":\"GlyphRenderer\"}]},\"id\":\"b35f20e8-ef18-413c-8783-e92420723dc9\",\"type\":\"LegendItem\"},{\"attributes\":{\"plot\":null,\"text\":\"\"},\"id\":\"a7562480-1173-4a01-b187-edc86a65524a\",\"type\":\"Title\"},{\"attributes\":{\"source\":{\"id\":\"a2badd07-27ff-43b6-934e-adcdf290a099\",\"type\":\"ColumnDataSource\"}},\"id\":\"cb3f736a-870e-4acb-868f-2d4b6efcfa91\",\"type\":\"CDSView\"},{\"attributes\":{},\"id\":\"472e3d95-ef95-40ba-9293-6554f6d1e7a6\",\"type\":\"UnionRenderers\"},{\"attributes\":{},\"id\":\"9156c090-5b88-4c01-ae0a-8b5be9de6122\",\"type\":\"WheelZoomTool\"},{\"attributes\":{},\"id\":\"1d10c207-b85d-41ec-ad13-927767f89e8a\",\"type\":\"PanTool\"},{\"attributes\":{\"dimension\":1,\"plot\":{\"id\":\"16c870a1-3294-4622-b326-02fe9067812b\",\"subtype\":\"Figure\",\"type\":\"Plot\"},\"ticker\":{\"id\":\"3c3c4694-dcc2-4949-bf2d-48288d3a043a\",\"type\":\"LogTicker\"}},\"id\":\"94b35ff7-2199-44a7-b141-419b1ad17ad5\",\"type\":\"Grid\"},{\"attributes\":{},\"id\":\"47799ece-cdc1-42b0-8fbc-9c837a3436b0\",\"type\":\"BasicTickFormatter\"},{\"attributes\":{\"items\":[{\"id\":\"1c9c54db-6737-4b01-97eb-83457b4217b6\",\"type\":\"LegendItem\"},{\"id\":\"b138e0cc-56b9-48bb-9739-a03f0066b3ef\",\"type\":\"LegendItem\"}],\"label_text_font_size\":{\"value\":\"8pt\"},\"location\":\"top_center\",\"orientation\":\"horizontal\",\"plot\":{\"id\":\"16c870a1-3294-4622-b326-02fe9067812b\",\"subtype\":\"Figure\",\"type\":\"Plot\"}},\"id\":\"c2ef22a1-713e-4ad5-bd60-6d666390b487\",\"type\":\"Legend\"},{\"attributes\":{},\"id\":\"c7b0e010-c949-4ed4-a3b4-cd339234c1c6\",\"type\":\"Selection\"},{\"attributes\":{\"axis_label\":\"pressure [mb]\",\"formatter\":{\"id\":\"5c1e604d-bd9d-4d3f-b2ba-84a1bb8e355f\",\"type\":\"LogTickFormatter\"},\"plot\":{\"id\":\"16c870a1-3294-4622-b326-02fe9067812b\",\"subtype\":\"Figure\",\"type\":\"Plot\"},\"ticker\":{\"id\":\"3c3c4694-dcc2-4949-bf2d-48288d3a043a\",\"type\":\"LogTicker\"}},\"id\":\"63e495b7-7196-43aa-9e0c-e74c9aa0a49f\",\"type\":\"LogAxis\"},{\"attributes\":{},\"id\":\"8aff45e2-65c9-4770-9d4c-ecd66325bee2\",\"type\":\"Selection\"},{\"attributes\":{\"fill_alpha\":{\"value\":0.1},\"fill_color\":{\"value\":\"#1f77b4\"},\"line_alpha\":{\"value\":0.1},\"line_color\":{\"value\":\"#1f77b4\"},\"x\":{\"field\":\"x\"},\"y\":{\"field\":\"y\"}},\"id\":\"a7ce5fd7-02be-4f1b-b443-d8492dca248e\",\"type\":\"Circle\"},{\"attributes\":{},\"id\":\"fb5d20d3-4217-414d-9418-427cb2a28ca2\",\"type\":\"UnionRenderers\"},{\"attributes\":{\"tools\":[{\"id\":\"1d10c207-b85d-41ec-ad13-927767f89e8a\",\"type\":\"PanTool\"},{\"id\":\"9156c090-5b88-4c01-ae0a-8b5be9de6122\",\"type\":\"WheelZoomTool\"},{\"id\":\"f41b28e2-93d2-418e-a983-a001112fd4d7\",\"type\":\"BoxZoomTool\"},{\"id\":\"a019191f-7af9-4843-9477-0df615a7b83b\",\"type\":\"SaveTool\"},{\"id\":\"2bccc7c8-8207-45ae-ad56-adc4c1b0805d\",\"type\":\"ResetTool\"},{\"id\":\"77498d55-621a-43b4-8f0e-0720f54b2db1\",\"type\":\"HelpTool\"},{\"id\":\"9d530e11-54f7-49a0-86bf-e179dcba242c\",\"type\":\"PanTool\"},{\"id\":\"22ef7f6e-68fa-4816-a185-3df605009f94\",\"type\":\"WheelZoomTool\"},{\"id\":\"684295e5-b19e-4944-8d3b-3d70a1307c22\",\"type\":\"BoxZoomTool\"},{\"id\":\"ff4a995f-cc81-4785-96d0-df786203b0c0\",\"type\":\"SaveTool\"},{\"id\":\"6e048e0d-847c-4e61-9ff6-cc412ac2461d\",\"type\":\"ResetTool\"},{\"id\":\"e63cee6a-5de7-4707-9a47-bfe82047c1ee\",\"type\":\"HelpTool\"},{\"id\":\"05084553-0ecb-4633-a5f6-79291831b6ec\",\"type\":\"PanTool\"},{\"id\":\"3f82cead-5c93-4f62-9106-ecebd8846b76\",\"type\":\"WheelZoomTool\"},{\"id\":\"34af9ddd-7a4f-4415-827f-c7ffaf2e4bb0\",\"type\":\"BoxZoomTool\"},{\"id\":\"3f4ab91e-f7b5-4fd9-95d5-a9763bfca4fe\",\"type\":\"SaveTool\"},{\"id\":\"9e37ca8a-8dae-44d3-b2ad-214f541cd899\",\"type\":\"ResetTool\"},{\"id\":\"c1f8e70a-f5a8-4c8c-9458-7ca7ab351bd4\",\"type\":\"HelpTool\"}]},\"id\":\"4fb049ab-899a-4b5a-ba7d-3f1ec3fbd56f\",\"type\":\"ProxyToolbar\"},{\"attributes\":{\"data_source\":{\"id\":\"359e4b0c-21a1-4dcf-8daf-8b1e20c17f0c\",\"type\":\"ColumnDataSource\"},\"glyph\":{\"id\":\"6e2a19a5-a966-4c96-8436-daa6ec1b3b90\",\"type\":\"Circle\"},\"hover_glyph\":null,\"muted_glyph\":null,\"nonselection_glyph\":{\"id\":\"2a643d14-fb93-4db0-8bcf-bbabfe865222\",\"type\":\"Circle\"},\"selection_glyph\":null,\"view\":{\"id\":\"831bfd31-ac7c-4147-9abd-81a4b5028ea6\",\"type\":\"CDSView\"}},\"id\":\"5f2ed5c7-bf2e-4977-9ffc-e602593cdf34\",\"type\":\"GlyphRenderer\"},{\"attributes\":{\"label\":{\"value\":\"CRD\"},\"renderers\":[{\"id\":\"5f2ed5c7-bf2e-4977-9ffc-e602593cdf34\",\"type\":\"GlyphRenderer\"},{\"id\":\"ac4c38a1-86aa-4d69-a77c-38ca766970e6\",\"type\":\"GlyphRenderer\"}]},\"id\":\"5f7af819-0bd7-41c5-b33e-44127ff17a63\",\"type\":\"LegendItem\"},{\"attributes\":{\"data_source\":{\"id\":\"a2badd07-27ff-43b6-934e-adcdf290a099\",\"type\":\"ColumnDataSource\"},\"glyph\":{\"id\":\"b9826dc0-0c86-48b2-b3bf-2a7adcc81154\",\"type\":\"Line\"},\"hover_glyph\":null,\"muted_glyph\":null,\"nonselection_glyph\":{\"id\":\"85e77212-c8a8-482e-878b-eae58e3413f7\",\"type\":\"Line\"},\"selection_glyph\":null,\"view\":{\"id\":\"cb3f736a-870e-4acb-868f-2d4b6efcfa91\",\"type\":\"CDSView\"}},\"id\":\"ac4c38a1-86aa-4d69-a77c-38ca766970e6\",\"type\":\"GlyphRenderer\"},{\"attributes\":{},\"id\":\"89ef4ada-cb29-46b2-9c84-4882cb04c08a\",\"type\":\"Selection\"},{\"attributes\":{\"callback\":null,\"end\":0.15549717849895744,\"start\":-0.04011439239470103},\"id\":\"ceff891f-8565-4002-8a2c-8449403cee47\",\"type\":\"Range1d\"},{\"attributes\":{},\"id\":\"ff6da032-7024-4cf3-867c-22c11654365d\",\"type\":\"BasicTicker\"},{\"attributes\":{\"callback\":null,\"data\":{\"x\":{\"__ndarray__\":\"ux2K3WdgfL/GiEQLSNN7v4ExkOcIeHi/R7u07yezdb+yb8pJNA9zv3lnZrblTHC/kVKNYlkua7/gWJKFM4Zlv5Vpq2wU81+/gY82iOtjVL+tA7VyZrdBv7ZeGDBr4CQ/P0RFgv2YTD8qZJRd5UtaP/ZHBZ4uK3A/3hN9wsNBhj/3kYYWTamWP4UeC9VMT6I/PbjasmSRqj86QAmyzyeyP6wf7e245rc/ox+ts5aZvj+9+Ud+M0/CP+iqL6xpfsI/30cCCnTnvz83NAoRXeO5P7q49Wl+P7Q/wzMuwiSVrj+344Wrvk6mP11LHOFV/54/60FZ/vZQkz/JXGsy+LaCPznwCVurfFk/C+GovN7fcr+xnh1zUceGv6YE6yVgvZK/cYoEnKf5mL+QndLzMdydv9ABNYvYRKG/fN1be+Mio7/bf55Jgo6jvyIt6KgJl6K/2qn7lFwyob/73u1W1lOfv920cqx+BZy/Z28p8RiBmL9mSyWiXsWUv96oZrs64ZC/DZ6sXOWpib+0PlMd+1SBv2jSGyeevnG/j+a+CoYOKb+nZ+MVoUNwP6waYQHSn4A/I6hYk/8diT9TRdZeXNeQP2JX/YKHLJU/7+o2OlyQmT9PkTqIdQOeP/l6mD+gQaE/r3BDCcWHoz+Vpi7botKlP+qZfng/KKg/sn52YByDqj9N2KH0nd+sPzxIAbrdPK8/XPeHPR/DsD9TkcvRttSxP1H+gv2zzLI/LbdPS36lsz98BVGquWi0PyzKDv2DILU/EQGrM+PRtT9qn5G5r4S2P5/8zmgpOLc/\",\"dtype\":\"float64\",\"shape\":[75]},\"y\":{\"__ndarray__\":\"GhExyth1ND/Sv8nbtpRIP2vylNV0PVE/aTum7souWD/At0SJ8fVgPw3Iuahxymc/MSNhhJWvcD/bTfBN02d3P2zb5nxnaoA/CD5h5MAGhz8NmeH1TyaQP+zrCsc9p5Y/LbKd76fGnz/bLW5ISEmmPww9YvTcQq8/JV2OstnstT8Er5Y7M8G+P0c+r3jqkcU/5h99k6ZBzj88bCIzFzjVP4enV8oyxN0//yH99nXg5D8qOpLLf0jtP5kqGJXUifQ/c9cS8kHP/D+/DpwzojQEQIEmwoanVwxA4lgXt9HgE0BSSZ2AJuIbQAMJih9jjiNA5q4l5INuK0AwTKYKRj0zQNv5fmq8/DpAaCJseHrtQkB/+zpwzoxKQM3MzMzMeFJAZmZmZmZqWEAAAAAAAFxeQM3MzMzMJmJAmpmZmZkfZUBmZmZmZhhoQDMzMzMzEWtAAAAAAAAKbkBmZmZmZoFwQM3MzMzM/XFAMzMzMzN6c0CamZmZmfZ0QAAAAAAAc3ZAZmZmZmbvd0DNzMzMzGt5QDMzMzMz6HpAmpmZmZlkfEAAAAAAAOF9QGZmZmZmXX9AZmZmZuZsgECamZmZGSuBQM3MzMxM6YFAAAAAAICngkAzMzMzs2WDQGZmZmbmI4RAmpmZmRnihEDNzMzMTKCFQAAAAACAXoZAMzMzM7Mch0BmZmZm5tqHQJqZmZkZmYhAzczMzExXiUAAAAAAgBWKQDMzMzOz04pAZmZmZuaRi0CamZmZGVCMQM3MzMxMDo1AAAAAAIDMjUAzMzMzs4qOQGZmZmbmSI9A\",\"dtype\":\"float64\",\"shape\":[75]}},\"selected\":{\"id\":\"1bd2ed32-707a-4b5b-97ee-299052cdf166\",\"type\":\"Selection\"},\"selection_policy\":{\"id\":\"515e3839-fca3-4248-ae4b-780093b53ca5\",\"type\":\"UnionRenderers\"}},\"id\":\"e3ac406e-338d-48c6-8f5f-1aa19b4fa179\",\"type\":\"ColumnDataSource\"},{\"attributes\":{\"line_alpha\":0.6,\"line_color\":\"#e41a1c\",\"line_dash\":[6],\"line_width\":5,\"x\":{\"field\":\"x\"},\"y\":{\"field\":\"y\"}},\"id\":\"14fdf9ef-7aa5-4dcd-b3ff-98beadcc1149\",\"type\":\"Line\"},{\"attributes\":{\"ticker\":null},\"id\":\"5d4f15c5-c9f4-4cb8-ac4b-4854048370ab\",\"type\":\"LogTickFormatter\"},{\"attributes\":{\"plot\":null,\"text\":\"\"},\"id\":\"f79dcfed-3fdf-47c8-8fc9-13d3dc2dd281\",\"type\":\"Title\"},{\"attributes\":{\"line_alpha\":0.1,\"line_color\":\"#1f77b4\",\"line_width\":1.5,\"x\":{\"field\":\"x\"},\"y\":{\"field\":\"y\"}},\"id\":\"85e77212-c8a8-482e-878b-eae58e3413f7\",\"type\":\"Line\"},{\"attributes\":{\"source\":{\"id\":\"e3ac406e-338d-48c6-8f5f-1aa19b4fa179\",\"type\":\"ColumnDataSource\"}},\"id\":\"85d8e1cd-680d-44b3-9966-b8cf67e1f035\",\"type\":\"CDSView\"},{\"attributes\":{\"children\":[{\"id\":\"cab235d1-4226-4872-b5b0-ef33c23b49b7\",\"type\":\"ToolbarBox\"},{\"id\":\"1291db72-fdc4-41bb-89c2-3dffa7a113a4\",\"type\":\"Column\"}]},\"id\":\"07f70195-5e72-4b5c-9b80-1d6dc58052ee\",\"type\":\"Column\"},{\"attributes\":{},\"id\":\"632ce561-0a90-4a0f-bdaf-b0ea5165e0ca\",\"type\":\"BasicTicker\"},{\"attributes\":{\"axis_label\":\"cooling rate [K/day]\",\"formatter\":{\"id\":\"9ed5a6f4-c890-4f76-894d-22d04e5a3d4b\",\"type\":\"BasicTickFormatter\"},\"plot\":{\"id\":\"16c870a1-3294-4622-b326-02fe9067812b\",\"subtype\":\"Figure\",\"type\":\"Plot\"},\"ticker\":{\"id\":\"632ce561-0a90-4a0f-bdaf-b0ea5165e0ca\",\"type\":\"BasicTicker\"}},\"id\":\"256f2bdc-9478-4d84-91b9-bd7ddf8d3430\",\"type\":\"LinearAxis\"},{\"attributes\":{},\"id\":\"71871ba2-5618-4512-94d2-f83e43c18416\",\"type\":\"BasicTickFormatter\"},{\"attributes\":{\"callback\":null,\"data\":{\"x\":{\"__ndarray__\":\"CGBfAFyvor9lCagIrHqiv/2KvylIBaK/j8wRnHSHob8YBPjlSgihv94HCj45iqC/6cZGqCoQoL/C4i7KhS2fvx6p1CG9RZ6/EBw7k7tpnb+xHh+/w6Wcv/4sGhJ+AJy/wSXvQP6Jm78Q0zSjPD6bv80Ld3erypi/mAXfHytLj78AR7+A1cYlv7uxu2AyRZI/J7jubOPdoz8OPfwRkyuwP5gi0Mvuarc/ijI/Kgrjvz8NCdOIfajDPylmsO7HScM/IY5wuGGkvj/4sPj8Gaa2Pw4498nkY7A/Hdz2bSPGpz8cDJZmyrmhPwjP6CxKAJs/M0vmx8TOkz/35XG9Eu2JP/EQqA8WSH0/maJJW/2VZD9v/WM9jzNovzfWzLlXT4O/dlZ798+jjr+e0HL39deTvwzFRxNJ3pi/pXxX8Bp1nb/wW5oLtrKev+Bttbn3kZy/hFzQnCjSmb8SkNJUpguXv4KW5qvNMZS/wKtKuIs6kb8gK217/0KMv0QAZjFHzIW/HY3dYwQrfr9rS4yBT1Vwv+BLq09gW0K/HgXMVvd8Zz+R7siZZKt5P8YiU+MBw4M/g/ghhf24ij+z8kS5eOSQP+iSOE8ff5Q/taoSFQQwmD9pdIN4j/mbPwhflZSG3Z8/qsFXGzPuoT/+cs3nU/yjP0kEff6IGqY/Uv5TSRtJqD9gndpOmIaqP75JGnb0zKw/tREQEvALrz/SkAUNfJOwP7VGtlNwgbE/q3IEHWtOsj9ll+KJpAazP7xfmFtAubM/uw34ac1wtD/hr0ia3zO1P8TpQLCMCLY/\",\"dtype\":\"float64\",\"shape\":[75]},\"y\":{\"__ndarray__\":\"GhExyth1ND/Sv8nbtpRIP2vylNV0PVE/aTum7souWD/At0SJ8fVgPw3Iuahxymc/MSNhhJWvcD/bTfBN02d3P2zb5nxnaoA/CD5h5MAGhz8NmeH1TyaQP+zrCsc9p5Y/LbKd76fGnz/bLW5ISEmmPww9YvTcQq8/JV2OstnstT8Er5Y7M8G+P0c+r3jqkcU/5h99k6ZBzj88bCIzFzjVP4enV8oyxN0//yH99nXg5D8qOpLLf0jtP5kqGJXUifQ/c9cS8kHP/D+/DpwzojQEQIEmwoanVwxA4lgXt9HgE0BSSZ2AJuIbQAMJih9jjiNA5q4l5INuK0AwTKYKRj0zQNv5fmq8/DpAaCJseHrtQkB/+zpwzoxKQM3MzMzMeFJAZmZmZmZqWEAAAAAAAFxeQM3MzMzMJmJAmpmZmZkfZUBmZmZmZhhoQDMzMzMzEWtAAAAAAAAKbkBmZmZmZoFwQM3MzMzM/XFAMzMzMzN6c0CamZmZmfZ0QAAAAAAAc3ZAZmZmZmbvd0DNzMzMzGt5QDMzMzMz6HpAmpmZmZlkfEAAAAAAAOF9QGZmZmZmXX9AZmZmZuZsgECamZmZGSuBQM3MzMxM6YFAAAAAAICngkAzMzMzs2WDQGZmZmbmI4RAmpmZmRnihEDNzMzMTKCFQAAAAACAXoZAMzMzM7Mch0BmZmZm5tqHQJqZmZkZmYhAzczMzExXiUAAAAAAgBWKQDMzMzOz04pAZmZmZuaRi0CamZmZGVCMQM3MzMxMDo1AAAAAAIDMjUAzMzMzs4qOQGZmZmbmSI9A\",\"dtype\":\"float64\",\"shape\":[75]}},\"selected\":{\"id\":\"8aff45e2-65c9-4770-9d4c-ecd66325bee2\",\"type\":\"Selection\"},\"selection_policy\":{\"id\":\"472e3d95-ef95-40ba-9293-6554f6d1e7a6\",\"type\":\"UnionRenderers\"}},\"id\":\"a2badd07-27ff-43b6-934e-adcdf290a099\",\"type\":\"ColumnDataSource\"},{\"attributes\":{\"source\":{\"id\":\"359e4b0c-21a1-4dcf-8daf-8b1e20c17f0c\",\"type\":\"ColumnDataSource\"}},\"id\":\"831bfd31-ac7c-4147-9abd-81a4b5028ea6\",\"type\":\"CDSView\"},{\"attributes\":{\"line_color\":\"#4daf4a\",\"line_width\":1.5,\"x\":{\"field\":\"x\"},\"y\":{\"field\":\"y\"}},\"id\":\"b9826dc0-0c86-48b2-b3bf-2a7adcc81154\",\"type\":\"Line\"},{\"attributes\":{\"data_source\":{\"id\":\"e3ac406e-338d-48c6-8f5f-1aa19b4fa179\",\"type\":\"ColumnDataSource\"},\"glyph\":{\"id\":\"14fdf9ef-7aa5-4dcd-b3ff-98beadcc1149\",\"type\":\"Line\"},\"hover_glyph\":null,\"muted_glyph\":null,\"nonselection_glyph\":{\"id\":\"ff33f269-fec5-4853-b6d9-16f3bd19460e\",\"type\":\"Line\"},\"selection_glyph\":null,\"view\":{\"id\":\"85d8e1cd-680d-44b3-9966-b8cf67e1f035\",\"type\":\"CDSView\"}},\"id\":\"31b78f2e-f676-429e-9e9e-852777125c17\",\"type\":\"GlyphRenderer\"},{\"attributes\":{\"toolbar\":{\"id\":\"4fb049ab-899a-4b5a-ba7d-3f1ec3fbd56f\",\"type\":\"ProxyToolbar\"},\"toolbar_location\":\"above\"},\"id\":\"cab235d1-4226-4872-b5b0-ef33c23b49b7\",\"type\":\"ToolbarBox\"}],\"root_ids\":[\"07f70195-5e72-4b5c-9b80-1d6dc58052ee\"]},\"title\":\"Bokeh Application\",\"version\":\"0.12.16\"}};\n",
       "  var render_items = [{\"docid\":\"5c6a6b87-d8ef-4c0e-ae88-356211c057d0\",\"elementid\":\"940785f8-2b58-4677-8ba5-83e177a4bcb9\",\"modelid\":\"07f70195-5e72-4b5c-9b80-1d6dc58052ee\"}];\n",
       "  root.Bokeh.embed.embed_items_notebook(docs_json, render_items);\n",
       "\n",
       "  }\n",
       "  if (root.Bokeh !== undefined) {\n",
       "    embed_document(root);\n",
       "  } else {\n",
       "    var attempts = 0;\n",
       "    var timer = setInterval(function(root) {\n",
       "      if (root.Bokeh !== undefined) {\n",
       "        embed_document(root);\n",
       "        clearInterval(timer);\n",
       "      }\n",
       "      attempts++;\n",
       "      if (attempts > 100) {\n",
       "        console.log(\"Bokeh: ERROR: Unable to run BokehJS code because BokehJS library is missing\")\n",
       "        clearInterval(timer);\n",
       "      }\n",
       "    }, 10, root)\n",
       "  }\n",
       "})(window);"
      ],
      "application/vnd.bokehjs_exec.v0+json": ""
     },
     "metadata": {
      "application/vnd.bokehjs_exec.v0+json": {
       "id": "07f70195-5e72-4b5c-9b80-1d6dc58052ee"
      }
     },
     "output_type": "display_data"
    },
    {
     "data": {
      "text/markdown": [
       "*FIGURE.* Cooling rates & difference."
      ],
      "text/plain": [
       "<IPython.core.display.Markdown object>"
      ]
     },
     "metadata": {},
     "output_type": "display_data"
    },
    {
     "data": {
      "text/html": [
       "<a id=\"Fluxes._mls.\"></a>"
      ],
      "text/plain": [
       "<IPython.core.display.HTML object>"
      ]
     },
     "metadata": {},
     "output_type": "display_data"
    },
    {
     "data": {
      "text/markdown": [
       "# Fluxes. mls."
      ],
      "text/plain": [
       "<IPython.core.display.Markdown object>"
      ]
     },
     "metadata": {},
     "output_type": "display_data"
    },
    {
     "data": {
      "text/html": [
       "\n",
       "<div class=\"bk-root\">\n",
       "    <div class=\"bk-plotdiv\" id=\"da23e99e-ae43-4894-98ef-b3952ae38c0e\"></div>\n",
       "</div>"
      ]
     },
     "metadata": {},
     "output_type": "display_data"
    },
    {
     "data": {
      "application/javascript": [
       "(function(root) {\n",
       "  function embed_document(root) {\n",
       "    \n",
       "  var docs_json = {\"37f9b026-b916-4a0e-86be-c37ab4f6f4b6\":{\"roots\":{\"references\":[{\"attributes\":{},\"id\":\"96c5fbdb-f4b1-4be6-ad86-cb68ca34085f\",\"type\":\"WheelZoomTool\"},{\"attributes\":{\"plot\":{\"id\":\"e904a59e-5652-4789-95f3-73a1a5669b6d\",\"subtype\":\"Figure\",\"type\":\"Plot\"},\"ticker\":{\"id\":\"c2fa65fa-15b8-4c7c-95be-c7eab55fc3d6\",\"type\":\"CategoricalTicker\"}},\"id\":\"d3238e79-fb11-4792-9f25-0605f69f8cc4\",\"type\":\"Grid\"},{\"attributes\":{},\"id\":\"7f4d0671-1dd0-4203-82fa-8b8c8eece5dd\",\"type\":\"LinearScale\"},{\"attributes\":{},\"id\":\"9649563d-4448-4bdf-ae3a-e712c4f5ee82\",\"type\":\"CategoricalTickFormatter\"},{\"attributes\":{\"bottom_units\":\"screen\",\"fill_alpha\":{\"value\":0.5},\"fill_color\":{\"value\":\"lightgrey\"},\"left_units\":\"screen\",\"level\":\"overlay\",\"line_alpha\":{\"value\":1.0},\"line_color\":{\"value\":\"black\"},\"line_dash\":[4,4],\"line_width\":{\"value\":2},\"plot\":null,\"render_mode\":\"css\",\"right_units\":\"screen\",\"top_units\":\"screen\"},\"id\":\"37849299-8f6b-424e-88e2-455c10502647\",\"type\":\"BoxAnnotation\"},{\"attributes\":{\"callback\":null},\"id\":\"cdf44aa1-03ca-4be0-953f-0b2928c39e80\",\"type\":\"DataRange1d\"},{\"attributes\":{},\"id\":\"e3e045d5-017c-406b-b295-5e3df63b2a4a\",\"type\":\"PanTool\"},{\"attributes\":{},\"id\":\"aed02a18-3497-425a-975d-f1dd253f7470\",\"type\":\"CategoricalScale\"},{\"attributes\":{\"overlay\":{\"id\":\"37849299-8f6b-424e-88e2-455c10502647\",\"type\":\"BoxAnnotation\"}},\"id\":\"f7b0c2ab-0f82-4b04-ae8b-735c50510e77\",\"type\":\"BoxZoomTool\"},{\"attributes\":{},\"id\":\"da36c36a-f224-4022-a7ec-c3d15a18ff3c\",\"type\":\"SaveTool\"},{\"attributes\":{\"active_drag\":\"auto\",\"active_inspect\":\"auto\",\"active_scroll\":\"auto\",\"active_tap\":\"auto\",\"tools\":[{\"id\":\"e3e045d5-017c-406b-b295-5e3df63b2a4a\",\"type\":\"PanTool\"},{\"id\":\"96c5fbdb-f4b1-4be6-ad86-cb68ca34085f\",\"type\":\"WheelZoomTool\"},{\"id\":\"f7b0c2ab-0f82-4b04-ae8b-735c50510e77\",\"type\":\"BoxZoomTool\"},{\"id\":\"da36c36a-f224-4022-a7ec-c3d15a18ff3c\",\"type\":\"SaveTool\"},{\"id\":\"03d3ad4b-e657-463f-abde-f91dd4b6d896\",\"type\":\"ResetTool\"},{\"id\":\"fdebccec-eaa8-4807-8d79-ea55730c42c4\",\"type\":\"HelpTool\"}]},\"id\":\"0a6186e8-abee-4943-b295-a652cdbdb91f\",\"type\":\"Toolbar\"},{\"attributes\":{},\"id\":\"e0d239b2-8073-45c8-ac5d-27ab4c25e1e9\",\"type\":\"BasicTicker\"},{\"attributes\":{},\"id\":\"03d3ad4b-e657-463f-abde-f91dd4b6d896\",\"type\":\"ResetTool\"},{\"attributes\":{\"axis_label\":\"spectral band\",\"formatter\":{\"id\":\"9649563d-4448-4bdf-ae3a-e712c4f5ee82\",\"type\":\"CategoricalTickFormatter\"},\"plot\":{\"id\":\"e904a59e-5652-4789-95f3-73a1a5669b6d\",\"subtype\":\"Figure\",\"type\":\"Plot\"},\"ticker\":{\"id\":\"c2fa65fa-15b8-4c7c-95be-c7eab55fc3d6\",\"type\":\"CategoricalTicker\"}},\"id\":\"4539f971-9c2e-4543-bea9-e638a2f49c20\",\"type\":\"CategoricalAxis\"},{\"attributes\":{},\"id\":\"fdebccec-eaa8-4807-8d79-ea55730c42c4\",\"type\":\"HelpTool\"},{\"attributes\":{\"children\":[{\"id\":\"7b821f0d-bc1f-49ad-8330-7eb389e4a8f7\",\"type\":\"ToolbarBox\"},{\"id\":\"448db81b-23f9-49a1-968a-d21b3ee21df6\",\"type\":\"Column\"}]},\"id\":\"1f5192f8-ef10-4906-b7a0-f48604dfc08d\",\"type\":\"Column\"},{\"attributes\":{\"toolbar\":{\"id\":\"d0434e35-063e-44c7-b329-4fdb4429a528\",\"type\":\"ProxyToolbar\"},\"toolbar_location\":\"above\"},\"id\":\"7b821f0d-bc1f-49ad-8330-7eb389e4a8f7\",\"type\":\"ToolbarBox\"},{\"attributes\":{\"active_drag\":\"auto\",\"active_inspect\":\"auto\",\"active_scroll\":\"auto\",\"active_tap\":\"auto\",\"tools\":[{\"id\":\"1d99d796-5632-4270-9f50-2293611431d5\",\"type\":\"PanTool\"},{\"id\":\"2ee6fc58-1a33-4332-8592-f32d9a928387\",\"type\":\"WheelZoomTool\"},{\"id\":\"abf9b723-e9c7-4328-a66f-10e5dc52278b\",\"type\":\"BoxZoomTool\"},{\"id\":\"7ddc29ba-d4be-49e9-97b6-2e10ae6e6354\",\"type\":\"SaveTool\"},{\"id\":\"f2c727f5-ef6c-4281-91ba-3aa66fc82b14\",\"type\":\"ResetTool\"},{\"id\":\"75b51f4b-c729-4d20-9926-cd8b07d29c50\",\"type\":\"HelpTool\"}]},\"id\":\"8c5c9192-41e9-4d3d-a3dd-8729d33b7511\",\"type\":\"Toolbar\"},{\"attributes\":{\"callback\":null,\"factors\":[\"3\",\"9\"]},\"id\":\"b27d288a-8965-43df-99fd-5c6ecb212ea8\",\"type\":\"FactorRange\"},{\"attributes\":{\"plot\":null,\"text\":\"TOA flux. CLIRAD - CRD.\"},\"id\":\"69c88646-e1f0-4507-9903-2ff5ece3a899\",\"type\":\"Title\"},{\"attributes\":{\"below\":[{\"id\":\"4539f971-9c2e-4543-bea9-e638a2f49c20\",\"type\":\"CategoricalAxis\"}],\"left\":[{\"id\":\"978b402a-57d9-471e-b91e-b6536adf7ba5\",\"type\":\"LinearAxis\"}],\"plot_height\":300,\"plot_width\":300,\"renderers\":[{\"id\":\"4539f971-9c2e-4543-bea9-e638a2f49c20\",\"type\":\"CategoricalAxis\"},{\"id\":\"d3238e79-fb11-4792-9f25-0605f69f8cc4\",\"type\":\"Grid\"},{\"id\":\"978b402a-57d9-471e-b91e-b6536adf7ba5\",\"type\":\"LinearAxis\"},{\"id\":\"a7f34105-03a5-456c-bc2c-f0207df58025\",\"type\":\"Grid\"},{\"id\":\"ab63e806-cbdd-4bb7-9494-91a984a150e4\",\"type\":\"BoxAnnotation\"},{\"id\":\"ff65b82b-0238-4898-86d2-b881c453dfa9\",\"type\":\"GlyphRenderer\"}],\"title\":{\"id\":\"69c88646-e1f0-4507-9903-2ff5ece3a899\",\"type\":\"Title\"},\"toolbar\":{\"id\":\"8c5c9192-41e9-4d3d-a3dd-8729d33b7511\",\"type\":\"Toolbar\"},\"toolbar_location\":null,\"x_range\":{\"id\":\"b27d288a-8965-43df-99fd-5c6ecb212ea8\",\"type\":\"FactorRange\"},\"x_scale\":{\"id\":\"aed02a18-3497-425a-975d-f1dd253f7470\",\"type\":\"CategoricalScale\"},\"y_range\":{\"id\":\"cdf44aa1-03ca-4be0-953f-0b2928c39e80\",\"type\":\"DataRange1d\"},\"y_scale\":{\"id\":\"7f4d0671-1dd0-4203-82fa-8b8c8eece5dd\",\"type\":\"LinearScale\"}},\"id\":\"e904a59e-5652-4789-95f3-73a1a5669b6d\",\"subtype\":\"Figure\",\"type\":\"Plot\"},{\"attributes\":{\"fill_color\":{\"value\":\"#1f77b4\"},\"line_color\":{\"value\":\"#1f77b4\"},\"top\":{\"field\":\"flux\"},\"width\":{\"value\":0.9},\"x\":{\"field\":\"band\"}},\"id\":\"26234907-06b4-472d-98d6-b9cec1566236\",\"type\":\"VBar\"},{\"attributes\":{\"axis_label\":\"flux (W m-2)\",\"formatter\":{\"id\":\"a34d7824-beed-4cb8-aae7-fe03c9bc58c2\",\"type\":\"BasicTickFormatter\"},\"plot\":{\"id\":\"e904a59e-5652-4789-95f3-73a1a5669b6d\",\"subtype\":\"Figure\",\"type\":\"Plot\"},\"ticker\":{\"id\":\"e0d239b2-8073-45c8-ac5d-27ab4c25e1e9\",\"type\":\"BasicTicker\"}},\"id\":\"978b402a-57d9-471e-b91e-b6536adf7ba5\",\"type\":\"LinearAxis\"},{\"attributes\":{},\"id\":\"c2fa65fa-15b8-4c7c-95be-c7eab55fc3d6\",\"type\":\"CategoricalTicker\"},{\"attributes\":{\"dimension\":1,\"plot\":{\"id\":\"e904a59e-5652-4789-95f3-73a1a5669b6d\",\"subtype\":\"Figure\",\"type\":\"Plot\"},\"ticker\":{\"id\":\"e0d239b2-8073-45c8-ac5d-27ab4c25e1e9\",\"type\":\"BasicTicker\"}},\"id\":\"a7f34105-03a5-456c-bc2c-f0207df58025\",\"type\":\"Grid\"},{\"attributes\":{\"fill_alpha\":{\"value\":0.1},\"fill_color\":{\"value\":\"#1f77b4\"},\"line_alpha\":{\"value\":0.1},\"line_color\":{\"value\":\"#1f77b4\"},\"top\":{\"field\":\"flux\"},\"width\":{\"value\":0.9},\"x\":{\"field\":\"band\"}},\"id\":\"7670c1d6-73df-4f73-a1a5-6e1868405c2f\",\"type\":\"VBar\"},{\"attributes\":{},\"id\":\"0ea1d2bd-55c5-4074-bd76-493719b4ff4e\",\"type\":\"BasicTickFormatter\"},{\"attributes\":{\"fill_color\":{\"value\":\"#1f77b4\"},\"line_color\":{\"value\":\"#1f77b4\"},\"top\":{\"field\":\"flux\"},\"width\":{\"value\":0.9},\"x\":{\"field\":\"band\"}},\"id\":\"72933f3e-01ba-4dc0-9a9f-3a0cdaa52c3f\",\"type\":\"VBar\"},{\"attributes\":{},\"id\":\"1b0afea8-dbaa-46d7-80cd-a29f525d8d23\",\"type\":\"Selection\"},{\"attributes\":{\"overlay\":{\"id\":\"1f924113-6fd8-4fb7-a97a-462b57bd73f5\",\"type\":\"BoxAnnotation\"}},\"id\":\"297e0457-0ffe-4f70-9565-bd9dfdb88472\",\"type\":\"BoxZoomTool\"},{\"attributes\":{\"bottom_units\":\"screen\",\"fill_alpha\":{\"value\":0.5},\"fill_color\":{\"value\":\"lightgrey\"},\"left_units\":\"screen\",\"level\":\"overlay\",\"line_alpha\":{\"value\":1.0},\"line_color\":{\"value\":\"black\"},\"line_dash\":[4,4],\"line_width\":{\"value\":2},\"plot\":null,\"render_mode\":\"css\",\"right_units\":\"screen\",\"top_units\":\"screen\"},\"id\":\"ab63e806-cbdd-4bb7-9494-91a984a150e4\",\"type\":\"BoxAnnotation\"},{\"attributes\":{},\"id\":\"63d35ca9-bf7a-40b9-bd11-0b98af0fddc4\",\"type\":\"CategoricalTickFormatter\"},{\"attributes\":{\"callback\":null,\"data\":{\"band\":[\"3\",\"9\"],\"flux\":{\"__ndarray__\":\"AGhxxjAnqL+AE2OZfonGPw==\",\"dtype\":\"float64\",\"shape\":[2]}},\"selected\":{\"id\":\"dae91d1b-a36e-4d65-9ea8-82d776d02040\",\"type\":\"Selection\"},\"selection_policy\":{\"id\":\"85aa48c1-b696-4659-9f33-d7bbb3b19cd4\",\"type\":\"UnionRenderers\"}},\"id\":\"a19faa1c-a82e-4f82-9d43-547275ba14e6\",\"type\":\"ColumnDataSource\"},{\"attributes\":{},\"id\":\"1d99d796-5632-4270-9f50-2293611431d5\",\"type\":\"PanTool\"},{\"attributes\":{\"data_source\":{\"id\":\"a19faa1c-a82e-4f82-9d43-547275ba14e6\",\"type\":\"ColumnDataSource\"},\"glyph\":{\"id\":\"26234907-06b4-472d-98d6-b9cec1566236\",\"type\":\"VBar\"},\"hover_glyph\":null,\"muted_glyph\":null,\"nonselection_glyph\":{\"id\":\"7670c1d6-73df-4f73-a1a5-6e1868405c2f\",\"type\":\"VBar\"},\"selection_glyph\":null,\"view\":{\"id\":\"974bc2be-38fe-4f37-8541-90958bbb8402\",\"type\":\"CDSView\"}},\"id\":\"ff65b82b-0238-4898-86d2-b881c453dfa9\",\"type\":\"GlyphRenderer\"},{\"attributes\":{\"plot\":null,\"text\":\"SFC flux. CLIRAD - CRD.\"},\"id\":\"b7f844b8-6b97-4c2f-9d83-d7a2b23580ae\",\"type\":\"Title\"},{\"attributes\":{},\"id\":\"2ee6fc58-1a33-4332-8592-f32d9a928387\",\"type\":\"WheelZoomTool\"},{\"attributes\":{\"overlay\":{\"id\":\"ab63e806-cbdd-4bb7-9494-91a984a150e4\",\"type\":\"BoxAnnotation\"}},\"id\":\"abf9b723-e9c7-4328-a66f-10e5dc52278b\",\"type\":\"BoxZoomTool\"},{\"attributes\":{},\"id\":\"7ddc29ba-d4be-49e9-97b6-2e10ae6e6354\",\"type\":\"SaveTool\"},{\"attributes\":{},\"id\":\"f2c727f5-ef6c-4281-91ba-3aa66fc82b14\",\"type\":\"ResetTool\"},{\"attributes\":{},\"id\":\"75b51f4b-c729-4d20-9926-cd8b07d29c50\",\"type\":\"HelpTool\"},{\"attributes\":{\"axis_label\":\"spectral band\",\"formatter\":{\"id\":\"63d35ca9-bf7a-40b9-bd11-0b98af0fddc4\",\"type\":\"CategoricalTickFormatter\"},\"plot\":{\"id\":\"98990ffb-51b0-48cb-b08b-14182d6e42fe\",\"subtype\":\"Figure\",\"type\":\"Plot\"},\"ticker\":{\"id\":\"23b32347-218e-4391-968c-8bb15ff4491d\",\"type\":\"CategoricalTicker\"}},\"id\":\"f7761c31-4d88-4b65-9bf5-012d18965b24\",\"type\":\"CategoricalAxis\"},{\"attributes\":{\"tools\":[{\"id\":\"1d99d796-5632-4270-9f50-2293611431d5\",\"type\":\"PanTool\"},{\"id\":\"2ee6fc58-1a33-4332-8592-f32d9a928387\",\"type\":\"WheelZoomTool\"},{\"id\":\"abf9b723-e9c7-4328-a66f-10e5dc52278b\",\"type\":\"BoxZoomTool\"},{\"id\":\"7ddc29ba-d4be-49e9-97b6-2e10ae6e6354\",\"type\":\"SaveTool\"},{\"id\":\"f2c727f5-ef6c-4281-91ba-3aa66fc82b14\",\"type\":\"ResetTool\"},{\"id\":\"75b51f4b-c729-4d20-9926-cd8b07d29c50\",\"type\":\"HelpTool\"},{\"id\":\"4a747786-0c07-4d6a-b0bb-86fb194c271e\",\"type\":\"PanTool\"},{\"id\":\"3664d828-37df-4133-ae7b-567c84d7664c\",\"type\":\"WheelZoomTool\"},{\"id\":\"297e0457-0ffe-4f70-9565-bd9dfdb88472\",\"type\":\"BoxZoomTool\"},{\"id\":\"89748b9d-e92a-4048-8929-193fa86a6dff\",\"type\":\"SaveTool\"},{\"id\":\"2d667347-a140-4679-8866-a92ae30610f7\",\"type\":\"ResetTool\"},{\"id\":\"2e7d1bc0-6f71-4cd6-a7d5-696e5ecd25a3\",\"type\":\"HelpTool\"},{\"id\":\"e3e045d5-017c-406b-b295-5e3df63b2a4a\",\"type\":\"PanTool\"},{\"id\":\"96c5fbdb-f4b1-4be6-ad86-cb68ca34085f\",\"type\":\"WheelZoomTool\"},{\"id\":\"f7b0c2ab-0f82-4b04-ae8b-735c50510e77\",\"type\":\"BoxZoomTool\"},{\"id\":\"da36c36a-f224-4022-a7ec-c3d15a18ff3c\",\"type\":\"SaveTool\"},{\"id\":\"03d3ad4b-e657-463f-abde-f91dd4b6d896\",\"type\":\"ResetTool\"},{\"id\":\"fdebccec-eaa8-4807-8d79-ea55730c42c4\",\"type\":\"HelpTool\"}]},\"id\":\"d0434e35-063e-44c7-b329-4fdb4429a528\",\"type\":\"ProxyToolbar\"},{\"attributes\":{\"callback\":null,\"data\":{\"band\":[\"3\",\"9\"],\"flux\":{\"__ndarray__\":\"AJybb0T3pL8AzXucacLKPw==\",\"dtype\":\"float64\",\"shape\":[2]}},\"selected\":{\"id\":\"1b0afea8-dbaa-46d7-80cd-a29f525d8d23\",\"type\":\"Selection\"},\"selection_policy\":{\"id\":\"58b0dfa8-c2da-4fe1-ba35-4b9c36ec7968\",\"type\":\"UnionRenderers\"}},\"id\":\"db302334-7a6c-4a71-bd52-01c8fedcc077\",\"type\":\"ColumnDataSource\"},{\"attributes\":{\"source\":{\"id\":\"a19faa1c-a82e-4f82-9d43-547275ba14e6\",\"type\":\"ColumnDataSource\"}},\"id\":\"974bc2be-38fe-4f37-8541-90958bbb8402\",\"type\":\"CDSView\"},{\"attributes\":{},\"id\":\"3664d828-37df-4133-ae7b-567c84d7664c\",\"type\":\"WheelZoomTool\"},{\"attributes\":{\"plot\":{\"id\":\"969015d5-fb19-454c-a3e2-112b766b8add\",\"subtype\":\"Figure\",\"type\":\"Plot\"},\"ticker\":{\"id\":\"1ad3f735-71bc-42b6-9d07-961f82869687\",\"type\":\"CategoricalTicker\"}},\"id\":\"685df8b7-0ffe-44b0-b033-59a900a756e4\",\"type\":\"Grid\"},{\"attributes\":{\"fill_alpha\":{\"value\":0.1},\"fill_color\":{\"value\":\"#1f77b4\"},\"line_alpha\":{\"value\":0.1},\"line_color\":{\"value\":\"#1f77b4\"},\"top\":{\"field\":\"flux\"},\"width\":{\"value\":0.9},\"x\":{\"field\":\"band\"}},\"id\":\"0acbb0bf-f8e7-49ea-9f4e-b3a5ccf1382d\",\"type\":\"VBar\"},{\"attributes\":{},\"id\":\"1ad3f735-71bc-42b6-9d07-961f82869687\",\"type\":\"CategoricalTicker\"},{\"attributes\":{},\"id\":\"55954000-1b8c-4c9e-8cb7-a5e4587aff14\",\"type\":\"CategoricalTickFormatter\"},{\"attributes\":{\"dimension\":1,\"plot\":{\"id\":\"98990ffb-51b0-48cb-b08b-14182d6e42fe\",\"subtype\":\"Figure\",\"type\":\"Plot\"},\"ticker\":{\"id\":\"77436b2b-4664-4d8d-8d91-3bbb20fad907\",\"type\":\"BasicTicker\"}},\"id\":\"cdf6a163-b33c-4f7f-9c75-373d6ce5bf26\",\"type\":\"Grid\"},{\"attributes\":{\"data_source\":{\"id\":\"3b3fdbdd-540a-48db-a793-2570b5dc96d6\",\"type\":\"ColumnDataSource\"},\"glyph\":{\"id\":\"72933f3e-01ba-4dc0-9a9f-3a0cdaa52c3f\",\"type\":\"VBar\"},\"hover_glyph\":null,\"muted_glyph\":null,\"nonselection_glyph\":{\"id\":\"0acbb0bf-f8e7-49ea-9f4e-b3a5ccf1382d\",\"type\":\"VBar\"},\"selection_glyph\":null,\"view\":{\"id\":\"c4bd9351-6355-46c5-9ffe-fa33bb06536b\",\"type\":\"CDSView\"}},\"id\":\"0dbca995-3331-49d5-a513-c8c239602dbc\",\"type\":\"GlyphRenderer\"},{\"attributes\":{},\"id\":\"58b0dfa8-c2da-4fe1-ba35-4b9c36ec7968\",\"type\":\"UnionRenderers\"},{\"attributes\":{},\"id\":\"23b32347-218e-4391-968c-8bb15ff4491d\",\"type\":\"CategoricalTicker\"},{\"attributes\":{\"children\":[{\"id\":\"e904a59e-5652-4789-95f3-73a1a5669b6d\",\"subtype\":\"Figure\",\"type\":\"Plot\"},{\"id\":\"98990ffb-51b0-48cb-b08b-14182d6e42fe\",\"subtype\":\"Figure\",\"type\":\"Plot\"},{\"id\":\"969015d5-fb19-454c-a3e2-112b766b8add\",\"subtype\":\"Figure\",\"type\":\"Plot\"}]},\"id\":\"13c23cb0-3658-45cf-acd6-15e3eaae381a\",\"type\":\"Row\"},{\"attributes\":{},\"id\":\"77436b2b-4664-4d8d-8d91-3bbb20fad907\",\"type\":\"BasicTicker\"},{\"attributes\":{\"axis_label\":\"spectral band\",\"formatter\":{\"id\":\"55954000-1b8c-4c9e-8cb7-a5e4587aff14\",\"type\":\"CategoricalTickFormatter\"},\"plot\":{\"id\":\"969015d5-fb19-454c-a3e2-112b766b8add\",\"subtype\":\"Figure\",\"type\":\"Plot\"},\"ticker\":{\"id\":\"1ad3f735-71bc-42b6-9d07-961f82869687\",\"type\":\"CategoricalTicker\"}},\"id\":\"51ca303c-4fab-441b-8222-75f22b3397bd\",\"type\":\"CategoricalAxis\"},{\"attributes\":{},\"id\":\"a34d7824-beed-4cb8-aae7-fe03c9bc58c2\",\"type\":\"BasicTickFormatter\"},{\"attributes\":{\"bottom_units\":\"screen\",\"fill_alpha\":{\"value\":0.5},\"fill_color\":{\"value\":\"lightgrey\"},\"left_units\":\"screen\",\"level\":\"overlay\",\"line_alpha\":{\"value\":1.0},\"line_color\":{\"value\":\"black\"},\"line_dash\":[4,4],\"line_width\":{\"value\":2},\"plot\":null,\"render_mode\":\"css\",\"right_units\":\"screen\",\"top_units\":\"screen\"},\"id\":\"1f924113-6fd8-4fb7-a97a-462b57bd73f5\",\"type\":\"BoxAnnotation\"},{\"attributes\":{\"children\":[{\"id\":\"13c23cb0-3658-45cf-acd6-15e3eaae381a\",\"type\":\"Row\"}]},\"id\":\"448db81b-23f9-49a1-968a-d21b3ee21df6\",\"type\":\"Column\"},{\"attributes\":{\"plot\":{\"id\":\"98990ffb-51b0-48cb-b08b-14182d6e42fe\",\"subtype\":\"Figure\",\"type\":\"Plot\"},\"ticker\":{\"id\":\"23b32347-218e-4391-968c-8bb15ff4491d\",\"type\":\"CategoricalTicker\"}},\"id\":\"2788014d-bb14-4af4-aae0-c41baf838500\",\"type\":\"Grid\"},{\"attributes\":{\"fill_color\":{\"value\":\"#1f77b4\"},\"line_color\":{\"value\":\"#1f77b4\"},\"top\":{\"field\":\"flux\"},\"width\":{\"value\":0.9},\"x\":{\"field\":\"band\"}},\"id\":\"911e4ff2-a03d-4430-93f6-e408792d3a3b\",\"type\":\"VBar\"},{\"attributes\":{},\"id\":\"85aa48c1-b696-4659-9f33-d7bbb3b19cd4\",\"type\":\"UnionRenderers\"},{\"attributes\":{\"axis_label\":\"flux (W m-2)\",\"formatter\":{\"id\":\"76f95d29-a7c4-4df3-93ab-7b012b6ea36e\",\"type\":\"BasicTickFormatter\"},\"plot\":{\"id\":\"98990ffb-51b0-48cb-b08b-14182d6e42fe\",\"subtype\":\"Figure\",\"type\":\"Plot\"},\"ticker\":{\"id\":\"77436b2b-4664-4d8d-8d91-3bbb20fad907\",\"type\":\"BasicTicker\"}},\"id\":\"0fb78d06-cf40-4490-acab-307ed062e104\",\"type\":\"LinearAxis\"},{\"attributes\":{},\"id\":\"222805e2-fec6-4e59-bbc9-b0b186fd7160\",\"type\":\"BasicTicker\"},{\"attributes\":{},\"id\":\"4a747786-0c07-4d6a-b0bb-86fb194c271e\",\"type\":\"PanTool\"},{\"attributes\":{\"fill_alpha\":{\"value\":0.1},\"fill_color\":{\"value\":\"#1f77b4\"},\"line_alpha\":{\"value\":0.1},\"line_color\":{\"value\":\"#1f77b4\"},\"top\":{\"field\":\"flux\"},\"width\":{\"value\":0.9},\"x\":{\"field\":\"band\"}},\"id\":\"3004ca08-b1df-42e2-83ba-8de92d57fc97\",\"type\":\"VBar\"},{\"attributes\":{},\"id\":\"dae91d1b-a36e-4d65-9ea8-82d776d02040\",\"type\":\"Selection\"},{\"attributes\":{},\"id\":\"89748b9d-e92a-4048-8929-193fa86a6dff\",\"type\":\"SaveTool\"},{\"attributes\":{\"callback\":null},\"id\":\"e761c2ac-f31e-4d70-bcb6-2617e2ffa206\",\"type\":\"DataRange1d\"},{\"attributes\":{},\"id\":\"2d667347-a140-4679-8866-a92ae30610f7\",\"type\":\"ResetTool\"},{\"attributes\":{\"callback\":null,\"factors\":[\"3\",\"9\"]},\"id\":\"1885009b-2b2e-4942-89b8-1296d0b19ec7\",\"type\":\"FactorRange\"},{\"attributes\":{},\"id\":\"2e7d1bc0-6f71-4cd6-a7d5-696e5ecd25a3\",\"type\":\"HelpTool\"},{\"attributes\":{},\"id\":\"77741ab2-8a86-4e7a-8fdb-d45c553e0995\",\"type\":\"LinearScale\"},{\"attributes\":{},\"id\":\"76f95d29-a7c4-4df3-93ab-7b012b6ea36e\",\"type\":\"BasicTickFormatter\"},{\"attributes\":{\"below\":[{\"id\":\"51ca303c-4fab-441b-8222-75f22b3397bd\",\"type\":\"CategoricalAxis\"}],\"left\":[{\"id\":\"f636c409-f1e3-4887-b45b-34611a1065aa\",\"type\":\"LinearAxis\"}],\"plot_height\":300,\"plot_width\":300,\"renderers\":[{\"id\":\"51ca303c-4fab-441b-8222-75f22b3397bd\",\"type\":\"CategoricalAxis\"},{\"id\":\"685df8b7-0ffe-44b0-b033-59a900a756e4\",\"type\":\"Grid\"},{\"id\":\"f636c409-f1e3-4887-b45b-34611a1065aa\",\"type\":\"LinearAxis\"},{\"id\":\"f7b7c732-df28-4eda-bf1a-fca5f207dfcc\",\"type\":\"Grid\"},{\"id\":\"37849299-8f6b-424e-88e2-455c10502647\",\"type\":\"BoxAnnotation\"},{\"id\":\"c2f2728a-27c4-4f41-a5ad-49c23de43a3d\",\"type\":\"GlyphRenderer\"}],\"title\":{\"id\":\"06e1375c-032a-461c-9dc0-65af09595439\",\"type\":\"Title\"},\"toolbar\":{\"id\":\"0a6186e8-abee-4943-b295-a652cdbdb91f\",\"type\":\"Toolbar\"},\"toolbar_location\":null,\"x_range\":{\"id\":\"1885009b-2b2e-4942-89b8-1296d0b19ec7\",\"type\":\"FactorRange\"},\"x_scale\":{\"id\":\"ac0bf1c0-c5f9-4936-b08e-25122862476e\",\"type\":\"CategoricalScale\"},\"y_range\":{\"id\":\"e761c2ac-f31e-4d70-bcb6-2617e2ffa206\",\"type\":\"DataRange1d\"},\"y_scale\":{\"id\":\"77741ab2-8a86-4e7a-8fdb-d45c553e0995\",\"type\":\"LinearScale\"}},\"id\":\"969015d5-fb19-454c-a3e2-112b766b8add\",\"subtype\":\"Figure\",\"type\":\"Plot\"},{\"attributes\":{\"plot\":null,\"text\":\"Atmosphere heating. CLIRAD - CRD.\"},\"id\":\"06e1375c-032a-461c-9dc0-65af09595439\",\"type\":\"Title\"},{\"attributes\":{\"source\":{\"id\":\"3b3fdbdd-540a-48db-a793-2570b5dc96d6\",\"type\":\"ColumnDataSource\"}},\"id\":\"c4bd9351-6355-46c5-9ffe-fa33bb06536b\",\"type\":\"CDSView\"},{\"attributes\":{},\"id\":\"4bc4cfa9-a092-4b3f-a270-bea045dc34a1\",\"type\":\"LinearScale\"},{\"attributes\":{},\"id\":\"ac0bf1c0-c5f9-4936-b08e-25122862476e\",\"type\":\"CategoricalScale\"},{\"attributes\":{\"callback\":null,\"data\":{\"band\":[\"3\",\"9\"],\"flux\":{\"__ndarray__\":\"ADDVJxR9eb/AkaxoGOOgvw==\",\"dtype\":\"float64\",\"shape\":[2]}},\"selected\":{\"id\":\"78920c69-c97e-417e-a932-e362a8b65006\",\"type\":\"Selection\"},\"selection_policy\":{\"id\":\"48fe3b32-e99b-44f7-8fb7-92a4749f165a\",\"type\":\"UnionRenderers\"}},\"id\":\"3b3fdbdd-540a-48db-a793-2570b5dc96d6\",\"type\":\"ColumnDataSource\"},{\"attributes\":{\"source\":{\"id\":\"db302334-7a6c-4a71-bd52-01c8fedcc077\",\"type\":\"ColumnDataSource\"}},\"id\":\"d26a8bbf-19bb-406e-9b5f-0d8911555da1\",\"type\":\"CDSView\"},{\"attributes\":{\"callback\":null},\"id\":\"bf705782-a729-41c5-a162-1c329bb91175\",\"type\":\"DataRange1d\"},{\"attributes\":{\"axis_label\":\"flux (W m-2)\",\"formatter\":{\"id\":\"0ea1d2bd-55c5-4074-bd76-493719b4ff4e\",\"type\":\"BasicTickFormatter\"},\"plot\":{\"id\":\"969015d5-fb19-454c-a3e2-112b766b8add\",\"subtype\":\"Figure\",\"type\":\"Plot\"},\"ticker\":{\"id\":\"222805e2-fec6-4e59-bbc9-b0b186fd7160\",\"type\":\"BasicTicker\"}},\"id\":\"f636c409-f1e3-4887-b45b-34611a1065aa\",\"type\":\"LinearAxis\"},{\"attributes\":{\"below\":[{\"id\":\"f7761c31-4d88-4b65-9bf5-012d18965b24\",\"type\":\"CategoricalAxis\"}],\"left\":[{\"id\":\"0fb78d06-cf40-4490-acab-307ed062e104\",\"type\":\"LinearAxis\"}],\"plot_height\":300,\"plot_width\":300,\"renderers\":[{\"id\":\"f7761c31-4d88-4b65-9bf5-012d18965b24\",\"type\":\"CategoricalAxis\"},{\"id\":\"2788014d-bb14-4af4-aae0-c41baf838500\",\"type\":\"Grid\"},{\"id\":\"0fb78d06-cf40-4490-acab-307ed062e104\",\"type\":\"LinearAxis\"},{\"id\":\"cdf6a163-b33c-4f7f-9c75-373d6ce5bf26\",\"type\":\"Grid\"},{\"id\":\"1f924113-6fd8-4fb7-a97a-462b57bd73f5\",\"type\":\"BoxAnnotation\"},{\"id\":\"0dbca995-3331-49d5-a513-c8c239602dbc\",\"type\":\"GlyphRenderer\"}],\"title\":{\"id\":\"b7f844b8-6b97-4c2f-9d83-d7a2b23580ae\",\"type\":\"Title\"},\"toolbar\":{\"id\":\"0b64a979-8101-44e8-9f0b-3910e804066e\",\"type\":\"Toolbar\"},\"toolbar_location\":null,\"x_range\":{\"id\":\"341fe918-83dd-4724-83d5-6b29ec20791f\",\"type\":\"FactorRange\"},\"x_scale\":{\"id\":\"df558f67-abfb-4ecf-9e6c-f164705ce7ae\",\"type\":\"CategoricalScale\"},\"y_range\":{\"id\":\"bf705782-a729-41c5-a162-1c329bb91175\",\"type\":\"DataRange1d\"},\"y_scale\":{\"id\":\"4bc4cfa9-a092-4b3f-a270-bea045dc34a1\",\"type\":\"LinearScale\"}},\"id\":\"98990ffb-51b0-48cb-b08b-14182d6e42fe\",\"subtype\":\"Figure\",\"type\":\"Plot\"},{\"attributes\":{\"dimension\":1,\"plot\":{\"id\":\"969015d5-fb19-454c-a3e2-112b766b8add\",\"subtype\":\"Figure\",\"type\":\"Plot\"},\"ticker\":{\"id\":\"222805e2-fec6-4e59-bbc9-b0b186fd7160\",\"type\":\"BasicTicker\"}},\"id\":\"f7b7c732-df28-4eda-bf1a-fca5f207dfcc\",\"type\":\"Grid\"},{\"attributes\":{\"active_drag\":\"auto\",\"active_inspect\":\"auto\",\"active_scroll\":\"auto\",\"active_tap\":\"auto\",\"tools\":[{\"id\":\"4a747786-0c07-4d6a-b0bb-86fb194c271e\",\"type\":\"PanTool\"},{\"id\":\"3664d828-37df-4133-ae7b-567c84d7664c\",\"type\":\"WheelZoomTool\"},{\"id\":\"297e0457-0ffe-4f70-9565-bd9dfdb88472\",\"type\":\"BoxZoomTool\"},{\"id\":\"89748b9d-e92a-4048-8929-193fa86a6dff\",\"type\":\"SaveTool\"},{\"id\":\"2d667347-a140-4679-8866-a92ae30610f7\",\"type\":\"ResetTool\"},{\"id\":\"2e7d1bc0-6f71-4cd6-a7d5-696e5ecd25a3\",\"type\":\"HelpTool\"}]},\"id\":\"0b64a979-8101-44e8-9f0b-3910e804066e\",\"type\":\"Toolbar\"},{\"attributes\":{\"callback\":null,\"factors\":[\"3\",\"9\"]},\"id\":\"341fe918-83dd-4724-83d5-6b29ec20791f\",\"type\":\"FactorRange\"},{\"attributes\":{},\"id\":\"df558f67-abfb-4ecf-9e6c-f164705ce7ae\",\"type\":\"CategoricalScale\"},{\"attributes\":{},\"id\":\"48fe3b32-e99b-44f7-8fb7-92a4749f165a\",\"type\":\"UnionRenderers\"},{\"attributes\":{},\"id\":\"78920c69-c97e-417e-a932-e362a8b65006\",\"type\":\"Selection\"},{\"attributes\":{\"data_source\":{\"id\":\"db302334-7a6c-4a71-bd52-01c8fedcc077\",\"type\":\"ColumnDataSource\"},\"glyph\":{\"id\":\"911e4ff2-a03d-4430-93f6-e408792d3a3b\",\"type\":\"VBar\"},\"hover_glyph\":null,\"muted_glyph\":null,\"nonselection_glyph\":{\"id\":\"3004ca08-b1df-42e2-83ba-8de92d57fc97\",\"type\":\"VBar\"},\"selection_glyph\":null,\"view\":{\"id\":\"d26a8bbf-19bb-406e-9b5f-0d8911555da1\",\"type\":\"CDSView\"}},\"id\":\"c2f2728a-27c4-4f41-a5ad-49c23de43a3d\",\"type\":\"GlyphRenderer\"}],\"root_ids\":[\"1f5192f8-ef10-4906-b7a0-f48604dfc08d\"]},\"title\":\"Bokeh Application\",\"version\":\"0.12.16\"}};\n",
       "  var render_items = [{\"docid\":\"37f9b026-b916-4a0e-86be-c37ab4f6f4b6\",\"elementid\":\"da23e99e-ae43-4894-98ef-b3952ae38c0e\",\"modelid\":\"1f5192f8-ef10-4906-b7a0-f48604dfc08d\"}];\n",
       "  root.Bokeh.embed.embed_items_notebook(docs_json, render_items);\n",
       "\n",
       "  }\n",
       "  if (root.Bokeh !== undefined) {\n",
       "    embed_document(root);\n",
       "  } else {\n",
       "    var attempts = 0;\n",
       "    var timer = setInterval(function(root) {\n",
       "      if (root.Bokeh !== undefined) {\n",
       "        embed_document(root);\n",
       "        clearInterval(timer);\n",
       "      }\n",
       "      attempts++;\n",
       "      if (attempts > 100) {\n",
       "        console.log(\"Bokeh: ERROR: Unable to run BokehJS code because BokehJS library is missing\")\n",
       "        clearInterval(timer);\n",
       "      }\n",
       "    }, 10, root)\n",
       "  }\n",
       "})(window);"
      ],
      "application/vnd.bokehjs_exec.v0+json": ""
     },
     "metadata": {
      "application/vnd.bokehjs_exec.v0+json": {
       "id": "1f5192f8-ef10-4906-b7a0-f48604dfc08d"
      }
     },
     "output_type": "display_data"
    },
    {
     "data": {
      "text/markdown": [
       "*FIGURE.* Difference between CLIRAD and CRD in TOA, SFC and net atmosphere flux, in each spectral band."
      ],
      "text/plain": [
       "<IPython.core.display.Markdown object>"
      ]
     },
     "metadata": {},
     "output_type": "display_data"
    },
    {
     "data": {
      "text/html": [
       "<div>\n",
       "<style scoped>\n",
       "    .dataframe tbody tr th:only-of-type {\n",
       "        vertical-align: middle;\n",
       "    }\n",
       "\n",
       "    .dataframe tbody tr th {\n",
       "        vertical-align: top;\n",
       "    }\n",
       "\n",
       "    .dataframe thead th {\n",
       "        text-align: right;\n",
       "    }\n",
       "</style>\n",
       "<table border=\"1\" class=\"dataframe\">\n",
       "  <thead>\n",
       "    <tr style=\"text-align: right;\">\n",
       "      <th></th>\n",
       "      <th>OLR flux</th>\n",
       "      <th>SFC flux</th>\n",
       "      <th>ATM heating</th>\n",
       "    </tr>\n",
       "    <tr>\n",
       "      <th>Sum over bands</th>\n",
       "      <th></th>\n",
       "      <th></th>\n",
       "      <th></th>\n",
       "    </tr>\n",
       "  </thead>\n",
       "  <tbody>\n",
       "    <tr>\n",
       "      <th>CLIRAD - CRD</th>\n",
       "      <td>-363.52</td>\n",
       "      <td>-0.04</td>\n",
       "      <td>0.17</td>\n",
       "    </tr>\n",
       "    <tr>\n",
       "      <th>CRD</th>\n",
       "      <td>-55.89</td>\n",
       "      <td>6.49</td>\n",
       "      <td>-2.39</td>\n",
       "    </tr>\n",
       "  </tbody>\n",
       "</table>\n",
       "</div>"
      ],
      "text/plain": [
       "                OLR flux  SFC flux  ATM heating\n",
       "Sum over bands                                 \n",
       "CLIRAD - CRD     -363.52     -0.04         0.17\n",
       "CRD               -55.89      6.49        -2.39"
      ]
     },
     "metadata": {},
     "output_type": "display_data"
    },
    {
     "data": {
      "text/markdown": [
       "*TABLE.* Difference between CLIRAD and CRD in TOA, SFC and net atmosphere flux, over all spectral bands. CRD's TOA, SFC and net atmosphere flux, over all spectral bands."
      ],
      "text/plain": [
       "<IPython.core.display.Markdown object>"
      ]
     },
     "metadata": {},
     "output_type": "display_data"
    },
    {
     "data": {
      "text/html": [
       "<a id=\"Cooling_rates._saw.\"></a>"
      ],
      "text/plain": [
       "<IPython.core.display.HTML object>"
      ]
     },
     "metadata": {},
     "output_type": "display_data"
    },
    {
     "data": {
      "text/markdown": [
       "# Cooling rates. saw."
      ],
      "text/plain": [
       "<IPython.core.display.Markdown object>"
      ]
     },
     "metadata": {},
     "output_type": "display_data"
    },
    {
     "data": {
      "text/html": [
       "\n",
       "<div class=\"bk-root\">\n",
       "    <div class=\"bk-plotdiv\" id=\"98f45e0a-4bc9-45fe-81e6-292fc25d95d5\"></div>\n",
       "</div>"
      ]
     },
     "metadata": {},
     "output_type": "display_data"
    },
    {
     "data": {
      "application/javascript": [
       "(function(root) {\n",
       "  function embed_document(root) {\n",
       "    \n",
       "  var docs_json = {\"e700b8b5-1576-40d0-8a27-6207ffbae994\":{\"roots\":{\"references\":[{\"attributes\":{\"axis_label\":\"cooling rate [K/day]\",\"formatter\":{\"id\":\"005c4104-3c2f-4afa-aebe-57af79a7191c\",\"type\":\"BasicTickFormatter\"},\"plot\":{\"id\":\"1ced28c3-1b4e-434a-91d3-0bd844f19732\",\"subtype\":\"Figure\",\"type\":\"Plot\"},\"ticker\":{\"id\":\"5a0d84c5-fba4-47a9-bd89-67fd53ca00d8\",\"type\":\"BasicTicker\"}},\"id\":\"c1a2b84e-7e15-47e3-88d3-dd20b673745f\",\"type\":\"LinearAxis\"},{\"attributes\":{},\"id\":\"9047c1e0-537b-46ec-8946-79dd9f291308\",\"type\":\"BasicTicker\"},{\"attributes\":{\"overlay\":{\"id\":\"924b5512-3a23-4f06-b7e4-cb25b9283d5d\",\"type\":\"BoxAnnotation\"}},\"id\":\"e45a822c-a80c-467f-a55f-49c76b5f3c22\",\"type\":\"BoxZoomTool\"},{\"attributes\":{\"overlay\":{\"id\":\"f4a6b5dc-f938-4746-b7ad-dc13275aca04\",\"type\":\"BoxAnnotation\"}},\"id\":\"a6db0d0f-cac7-4199-bcd5-a797d087471f\",\"type\":\"BoxZoomTool\"},{\"attributes\":{},\"id\":\"8db0d354-74da-4b4f-9517-77c82b9f2801\",\"type\":\"ResetTool\"},{\"attributes\":{\"active_drag\":\"auto\",\"active_inspect\":\"auto\",\"active_scroll\":\"auto\",\"active_tap\":\"auto\",\"tools\":[{\"id\":\"80349f94-b874-45e4-a7f0-e0e7e4b43229\",\"type\":\"PanTool\"},{\"id\":\"0fd1e4fb-1b71-4217-b095-ebf67cfb5f23\",\"type\":\"WheelZoomTool\"},{\"id\":\"21c6004d-a7ab-4f0e-86c3-c9fde679f3b2\",\"type\":\"BoxZoomTool\"},{\"id\":\"de6aba3e-ba0e-477f-9db7-ce13d804d64e\",\"type\":\"SaveTool\"},{\"id\":\"5a1cb519-d0e4-4f79-899d-84a21a44091b\",\"type\":\"ResetTool\"},{\"id\":\"6db271fa-aa04-435d-a461-fedfbb7b7acd\",\"type\":\"HelpTool\"}]},\"id\":\"783f544d-4ac8-4938-9838-41faf72a0606\",\"type\":\"Toolbar\"},{\"attributes\":{\"axis_label\":\"pressure [mb]\",\"formatter\":{\"id\":\"3cd6cb9d-e0e4-42be-8067-2004376bfef0\",\"type\":\"LogTickFormatter\"},\"plot\":{\"id\":\"88d163af-80d5-4fd8-9243-4f9d706b2fb9\",\"subtype\":\"Figure\",\"type\":\"Plot\"},\"ticker\":{\"id\":\"e68e27b2-011b-4a7d-bc15-52e427afad31\",\"type\":\"LogTicker\"}},\"id\":\"774abea2-0702-40d4-b8df-b94d0c3a3887\",\"type\":\"LogAxis\"},{\"attributes\":{},\"id\":\"5a1cb519-d0e4-4f79-899d-84a21a44091b\",\"type\":\"ResetTool\"},{\"attributes\":{},\"id\":\"fd804538-3531-4a7e-931e-45e58c642d96\",\"type\":\"Selection\"},{\"attributes\":{\"dimension\":1,\"plot\":{\"id\":\"88d163af-80d5-4fd8-9243-4f9d706b2fb9\",\"subtype\":\"Figure\",\"type\":\"Plot\"},\"ticker\":{\"id\":\"e68e27b2-011b-4a7d-bc15-52e427afad31\",\"type\":\"LogTicker\"}},\"id\":\"61cae361-9cf0-47b0-86e0-e498282f56b8\",\"type\":\"Grid\"},{\"attributes\":{\"source\":{\"id\":\"50467c49-92a4-490d-afc4-b15424667953\",\"type\":\"ColumnDataSource\"}},\"id\":\"34ae9f1f-9939-4437-8155-6f33ae763c48\",\"type\":\"CDSView\"},{\"attributes\":{\"num_minor_ticks\":10},\"id\":\"e68e27b2-011b-4a7d-bc15-52e427afad31\",\"type\":\"LogTicker\"},{\"attributes\":{\"callback\":null,\"data\":{\"x\":{\"__ndarray__\":\"OAtjYmbskz/5fNO+ee2SPxSHZK8UVZE/0qoKFMe2jj8ak4EpanyKP2wfGgdF74U/+p1pK7YOgT844oTjJNZ3P8j79zS12Wk/AIplyOugNj8gS71GSUplvwhw7baeMHe/nBO4yzcIgr90nEdqRquHv5joP+CLc4u/CCckl9QQjr8mSwKuDRCQvwDqWVLmzZC/BJOJmGhJkb/I/qoKqpmRv8yU/15EupG/jGN+6i8mi78Y7NpsGWFzv2CGsi9a+WU/fPmEiZLSfD8rfIzYeMeBP5ik+NBz/4A/AgvudNheej8KcfNgZxdvP7Q/WATGjFU/OOEooOwcRL/eruGoXF5ev5Qh3RrylGa/Cqp8xvs1bb8ARAyIiNNwv6yFYdkvTHK/Yi75hw8pc7+GyCVAeg1zv7jCS1EmZXK/JWwxXPqncb+O8QJgjKVwv9KBGY2kb26/vH4rU3hCar8QoMXsijRkv58p666sO1i/6j2FcJAfSb/2uY6N0dVFv9C2saSfGka/HLqTuQVMQb+Q83lO/M0yvwDU9VgpLta+HJs+2yRvMj/vEZJzxBRDP1y1FGfALUw/QEacGpwLUj+A/1I9k6FVP9gsn5F64lg/6NAoSxfcWz+4cS0bHHNePyx6/W9DkWA/CEMNdCe3YT9Q1IBxC75iP4DhIc67mGM/ULOyECwtZD/QGNS0FFtkP8ieh/78A2Q/GJYv/YX9Yj8Y62Ul94VhP7CEMrA1K2A/qHAJ9TF1YD+AhaerycBiP4jDp63PpGY/CHpN2hd6az/Mwiog5Q5wP6QCi7zfenI/\",\"dtype\":\"float64\",\"shape\":[75]},\"y\":{\"__ndarray__\":\"GhExyth1ND/Sv8nbtpRIP2vylNV0PVE/aTum7souWD/At0SJ8fVgPw3Iuahxymc/MSNhhJWvcD/bTfBN02d3P2zb5nxnaoA/CD5h5MAGhz8NmeH1TyaQP+zrCsc9p5Y/LbKd76fGnz/bLW5ISEmmPww9YvTcQq8/JV2OstnstT8Er5Y7M8G+P0c+r3jqkcU/5h99k6ZBzj88bCIzFzjVP4enV8oyxN0//yH99nXg5D8qOpLLf0jtP5kqGJXUifQ/c9cS8kHP/D+/DpwzojQEQIEmwoanVwxA4lgXt9HgE0BSSZ2AJuIbQAMJih9jjiNA5q4l5INuK0AwTKYKRj0zQNv5fmq8/DpAaCJseHrtQkB/+zpwzoxKQM3MzMzMeFJAZmZmZmZqWEAAAAAAAFxeQM3MzMzMJmJAmpmZmZkfZUBmZmZmZhhoQDMzMzMzEWtAAAAAAAAKbkBmZmZmZoFwQM3MzMzM/XFAMzMzMzN6c0CamZmZmfZ0QAAAAAAAc3ZAZmZmZmbvd0DNzMzMzGt5QDMzMzMz6HpAmpmZmZlkfEAAAAAAAOF9QGZmZmZmXX9AZmZmZuZsgECamZmZGSuBQM3MzMxM6YFAAAAAAICngkAzMzMzs2WDQGZmZmbmI4RAmpmZmRnihEDNzMzMTKCFQAAAAACAXoZAMzMzM7Mch0BmZmZm5tqHQJqZmZkZmYhAzczMzExXiUAAAAAAgBWKQDMzMzOz04pAZmZmZuaRi0CamZmZGVCMQM3MzMxMDo1AAAAAAIDMjUAzMzMzs4qOQGZmZmbmSI9A\",\"dtype\":\"float64\",\"shape\":[75]}},\"selected\":{\"id\":\"3748e0a9-e895-4ed7-80f6-8977895a7afe\",\"type\":\"Selection\"},\"selection_policy\":{\"id\":\"eb9abe27-a57b-44fd-b754-4dd6f8ae0fa1\",\"type\":\"UnionRenderers\"}},\"id\":\"1b9cf179-5c38-4159-8837-629e1b719db3\",\"type\":\"ColumnDataSource\"},{\"attributes\":{},\"id\":\"e15adc23-bc15-4dc9-af7c-6e79e8dfb116\",\"type\":\"Selection\"},{\"attributes\":{},\"id\":\"ec0a6f0b-6149-4d3a-83f2-886f8bd3b02c\",\"type\":\"LogScale\"},{\"attributes\":{},\"id\":\"c7d00fb1-d7a3-43e3-9ea9-716ec244442f\",\"type\":\"UnionRenderers\"},{\"attributes\":{\"dimension\":1,\"plot\":{\"id\":\"1ced28c3-1b4e-434a-91d3-0bd844f19732\",\"subtype\":\"Figure\",\"type\":\"Plot\"},\"ticker\":{\"id\":\"41d07eb1-2499-416f-95d2-ba65ef7add1c\",\"type\":\"BasicTicker\"}},\"id\":\"73fdf64e-7bbd-4794-86da-12b96f9cdf50\",\"type\":\"Grid\"},{\"attributes\":{\"plot\":{\"id\":\"88d163af-80d5-4fd8-9243-4f9d706b2fb9\",\"subtype\":\"Figure\",\"type\":\"Plot\"},\"ticker\":{\"id\":\"9047c1e0-537b-46ec-8946-79dd9f291308\",\"type\":\"BasicTicker\"}},\"id\":\"af9cb8a9-2591-458f-b232-484c69fa9021\",\"type\":\"Grid\"},{\"attributes\":{\"bottom_units\":\"screen\",\"fill_alpha\":{\"value\":0.5},\"fill_color\":{\"value\":\"lightgrey\"},\"left_units\":\"screen\",\"level\":\"overlay\",\"line_alpha\":{\"value\":1.0},\"line_color\":{\"value\":\"black\"},\"line_dash\":[4,4],\"line_width\":{\"value\":2},\"plot\":null,\"render_mode\":\"css\",\"right_units\":\"screen\",\"top_units\":\"screen\"},\"id\":\"924b5512-3a23-4f06-b7e4-cb25b9283d5d\",\"type\":\"BoxAnnotation\"},{\"attributes\":{\"source\":{\"id\":\"89715fde-f495-4094-9595-99bff37a0111\",\"type\":\"ColumnDataSource\"}},\"id\":\"eaffa164-409c-4ef1-94c1-5cb7b7dbbf04\",\"type\":\"CDSView\"},{\"attributes\":{},\"id\":\"4850a5d6-cadb-4888-88e5-53e4f5eedd78\",\"type\":\"HelpTool\"},{\"attributes\":{\"line_color\":\"#4daf4a\",\"line_width\":1.5,\"x\":{\"field\":\"x\"},\"y\":{\"field\":\"y\"}},\"id\":\"dd442f74-13db-4d60-bf78-4c841e48ccbc\",\"type\":\"Line\"},{\"attributes\":{},\"id\":\"3a871e08-34cd-418a-80db-3578d6002eb9\",\"type\":\"PanTool\"},{\"attributes\":{},\"id\":\"f7e4d796-4fc3-454d-b738-91ccb9592435\",\"type\":\"LinearScale\"},{\"attributes\":{},\"id\":\"0fd1e4fb-1b71-4217-b095-ebf67cfb5f23\",\"type\":\"WheelZoomTool\"},{\"attributes\":{\"above\":[{\"id\":\"da10ed56-f42d-454a-bd40-3aa2cc799dbe\",\"type\":\"Legend\"}],\"below\":[{\"id\":\"47df7d1a-2998-4d16-848f-a315390da54a\",\"type\":\"LinearAxis\"}],\"left\":[{\"id\":\"3674c29e-1d55-40a5-aeee-f4c386545180\",\"type\":\"LogAxis\"}],\"plot_width\":300,\"renderers\":[{\"id\":\"47df7d1a-2998-4d16-848f-a315390da54a\",\"type\":\"LinearAxis\"},{\"id\":\"4f93a61d-f453-4811-9eef-a582b431bc92\",\"type\":\"Grid\"},{\"id\":\"3674c29e-1d55-40a5-aeee-f4c386545180\",\"type\":\"LogAxis\"},{\"id\":\"50e822cc-87e2-435d-8248-15effdf77387\",\"type\":\"Grid\"},{\"id\":\"b80828f6-26b6-4a03-a92c-25c99034aadd\",\"type\":\"BoxAnnotation\"},{\"id\":\"f098a36b-9b54-450a-98b5-4f04206275a0\",\"type\":\"GlyphRenderer\"},{\"id\":\"19396b75-9089-4638-8f29-80aff0344a1c\",\"type\":\"GlyphRenderer\"},{\"id\":\"65626671-8a10-4beb-8910-b9eb9dc519fe\",\"type\":\"GlyphRenderer\"},{\"id\":\"da10ed56-f42d-454a-bd40-3aa2cc799dbe\",\"type\":\"Legend\"}],\"title\":{\"id\":\"0682280f-7a82-4487-9258-649755b9b68f\",\"type\":\"Title\"},\"toolbar\":{\"id\":\"783f544d-4ac8-4938-9838-41faf72a0606\",\"type\":\"Toolbar\"},\"toolbar_location\":null,\"x_range\":{\"id\":\"c408103a-ee6c-460a-aa45-6282eec651ef\",\"type\":\"Range1d\"},\"x_scale\":{\"id\":\"e90af834-85a7-459f-9d32-30d1d5095bae\",\"type\":\"LinearScale\"},\"y_range\":{\"id\":\"255dfd0f-be19-40db-9267-268f6b6932c3\",\"type\":\"Range1d\"},\"y_scale\":{\"id\":\"ec0a6f0b-6149-4d3a-83f2-886f8bd3b02c\",\"type\":\"LogScale\"}},\"id\":\"3eaf479e-5e2a-49c6-a51e-1bc0756084a8\",\"subtype\":\"Figure\",\"type\":\"Plot\"},{\"attributes\":{\"axis_label\":\"cooling rate [K/day]\",\"formatter\":{\"id\":\"fc85b091-e646-4311-be89-cf3b07a6250e\",\"type\":\"BasicTickFormatter\"},\"plot\":{\"id\":\"3eaf479e-5e2a-49c6-a51e-1bc0756084a8\",\"subtype\":\"Figure\",\"type\":\"Plot\"},\"ticker\":{\"id\":\"bc20de82-18a8-496e-af23-ca2db990735c\",\"type\":\"BasicTicker\"}},\"id\":\"47df7d1a-2998-4d16-848f-a315390da54a\",\"type\":\"LinearAxis\"},{\"attributes\":{},\"id\":\"42042af5-7ef3-4acb-a77f-84a9319cb9a8\",\"type\":\"UnionRenderers\"},{\"attributes\":{\"dimension\":1,\"plot\":{\"id\":\"3eaf479e-5e2a-49c6-a51e-1bc0756084a8\",\"subtype\":\"Figure\",\"type\":\"Plot\"},\"ticker\":{\"id\":\"5ff9a256-4e38-401e-a904-411c16dace4a\",\"type\":\"LogTicker\"}},\"id\":\"50e822cc-87e2-435d-8248-15effdf77387\",\"type\":\"Grid\"},{\"attributes\":{\"axis_label\":\"pressure [mb]\",\"formatter\":{\"id\":\"f999d0a8-a6ac-4fef-95ac-9f8506c081b1\",\"type\":\"BasicTickFormatter\"},\"plot\":{\"id\":\"1ced28c3-1b4e-434a-91d3-0bd844f19732\",\"subtype\":\"Figure\",\"type\":\"Plot\"},\"ticker\":{\"id\":\"41d07eb1-2499-416f-95d2-ba65ef7add1c\",\"type\":\"BasicTicker\"}},\"id\":\"ffefc47e-190d-4ba3-af6a-ca659efeba54\",\"type\":\"LinearAxis\"},{\"attributes\":{\"axis_label\":\"pressure [mb]\",\"formatter\":{\"id\":\"1e87064e-57e4-4771-bd9f-bbfa85bc1eaa\",\"type\":\"LogTickFormatter\"},\"plot\":{\"id\":\"3eaf479e-5e2a-49c6-a51e-1bc0756084a8\",\"subtype\":\"Figure\",\"type\":\"Plot\"},\"ticker\":{\"id\":\"5ff9a256-4e38-401e-a904-411c16dace4a\",\"type\":\"LogTicker\"}},\"id\":\"3674c29e-1d55-40a5-aeee-f4c386545180\",\"type\":\"LogAxis\"},{\"attributes\":{\"plot\":{\"id\":\"3eaf479e-5e2a-49c6-a51e-1bc0756084a8\",\"subtype\":\"Figure\",\"type\":\"Plot\"},\"ticker\":{\"id\":\"bc20de82-18a8-496e-af23-ca2db990735c\",\"type\":\"BasicTicker\"}},\"id\":\"4f93a61d-f453-4811-9eef-a582b431bc92\",\"type\":\"Grid\"},{\"attributes\":{\"callback\":null,\"end\":0.05001640624589131,\"start\":-0.011486681039545208},\"id\":\"2fca6716-2611-4f50-8b29-024df7e13c51\",\"type\":\"Range1d\"},{\"attributes\":{},\"id\":\"abebd5ba-020d-4451-aecf-eb27e874f89a\",\"type\":\"ResetTool\"},{\"attributes\":{\"num_minor_ticks\":10},\"id\":\"5ff9a256-4e38-401e-a904-411c16dace4a\",\"type\":\"LogTicker\"},{\"attributes\":{\"fill_alpha\":{\"value\":0.7},\"fill_color\":{\"value\":\"#4daf4a\"},\"line_alpha\":{\"value\":0.7},\"line_color\":{\"value\":\"#4daf4a\"},\"x\":{\"field\":\"x\"},\"y\":{\"field\":\"y\"}},\"id\":\"32aa5f0b-485a-4d51-a9f3-c8cfaef7fead\",\"type\":\"Circle\"},{\"attributes\":{\"plot\":{\"id\":\"1ced28c3-1b4e-434a-91d3-0bd844f19732\",\"subtype\":\"Figure\",\"type\":\"Plot\"},\"ticker\":{\"id\":\"5a0d84c5-fba4-47a9-bd89-67fd53ca00d8\",\"type\":\"BasicTicker\"}},\"id\":\"b7b224b7-5199-4c12-9367-8e0daa2d3df5\",\"type\":\"Grid\"},{\"attributes\":{\"line_alpha\":0.1,\"line_color\":\"#1f77b4\",\"line_width\":1.5,\"x\":{\"field\":\"x\"},\"y\":{\"field\":\"y\"}},\"id\":\"954759ca-d541-4565-acfe-4ab171bc71d6\",\"type\":\"Line\"},{\"attributes\":{},\"id\":\"0d9d9292-0db2-46a1-ad90-72c5abac4069\",\"type\":\"WheelZoomTool\"},{\"attributes\":{\"label\":{\"value\":\"CRD\"},\"renderers\":[{\"id\":\"b4da56b1-ca56-44d2-9cf7-a64356189890\",\"type\":\"GlyphRenderer\"},{\"id\":\"7fd16e63-7ac7-4a64-a3ec-4be6445c7751\",\"type\":\"GlyphRenderer\"}]},\"id\":\"42c15974-1e42-4104-ab65-0223f27585fe\",\"type\":\"LegendItem\"},{\"attributes\":{\"callback\":null,\"end\":0.01,\"start\":1020},\"id\":\"476edee1-b1aa-49fd-96d5-6e647ac71cad\",\"type\":\"Range1d\"},{\"attributes\":{},\"id\":\"f4eae992-ee41-4011-868e-66aeeab7a174\",\"type\":\"WheelZoomTool\"},{\"attributes\":{\"overlay\":{\"id\":\"b80828f6-26b6-4a03-a92c-25c99034aadd\",\"type\":\"BoxAnnotation\"}},\"id\":\"21c6004d-a7ab-4f0e-86c3-c9fde679f3b2\",\"type\":\"BoxZoomTool\"},{\"attributes\":{},\"id\":\"d61917e5-66d5-4c67-a9b2-b2256621760c\",\"type\":\"UnionRenderers\"},{\"attributes\":{},\"id\":\"73c970f5-ea59-4624-991f-93d231d4a3b8\",\"type\":\"SaveTool\"},{\"attributes\":{\"data_source\":{\"id\":\"89715fde-f495-4094-9595-99bff37a0111\",\"type\":\"ColumnDataSource\"},\"glyph\":{\"id\":\"dd442f74-13db-4d60-bf78-4c841e48ccbc\",\"type\":\"Line\"},\"hover_glyph\":null,\"muted_glyph\":null,\"nonselection_glyph\":{\"id\":\"954759ca-d541-4565-acfe-4ab171bc71d6\",\"type\":\"Line\"},\"selection_glyph\":null,\"view\":{\"id\":\"eaffa164-409c-4ef1-94c1-5cb7b7dbbf04\",\"type\":\"CDSView\"}},\"id\":\"7fd16e63-7ac7-4a64-a3ec-4be6445c7751\",\"type\":\"GlyphRenderer\"},{\"attributes\":{},\"id\":\"de6aba3e-ba0e-477f-9db7-ce13d804d64e\",\"type\":\"SaveTool\"},{\"attributes\":{\"callback\":null,\"end\":0.01,\"start\":1020},\"id\":\"510be8e9-33b9-4f72-b02c-96fa834b83e4\",\"type\":\"Range1d\"},{\"attributes\":{},\"id\":\"41d07eb1-2499-416f-95d2-ba65ef7add1c\",\"type\":\"BasicTicker\"},{\"attributes\":{},\"id\":\"c025641a-9e66-4ecb-b50c-30b8776842ae\",\"type\":\"SaveTool\"},{\"attributes\":{\"bottom_units\":\"screen\",\"fill_alpha\":{\"value\":0.5},\"fill_color\":{\"value\":\"lightgrey\"},\"left_units\":\"screen\",\"level\":\"overlay\",\"line_alpha\":{\"value\":1.0},\"line_color\":{\"value\":\"black\"},\"line_dash\":[4,4],\"line_width\":{\"value\":2},\"plot\":null,\"render_mode\":\"css\",\"right_units\":\"screen\",\"top_units\":\"screen\"},\"id\":\"f4a6b5dc-f938-4746-b7ad-dc13275aca04\",\"type\":\"BoxAnnotation\"},{\"attributes\":{\"callback\":null,\"data\":{\"x\":{\"__ndarray__\":\"sr7egysue78+aUBu02Bxv8BmUNKbCE0/ApTUhFN4ej8mdBqPuX6JP2HQk3VfUpM/VnKVeA5Wmj99xeGnDemgP58SiaI956Q/2sHm7gMoqT9pbOevG6ytPwb0DixROrE/EeDqvGq+sz8cTJW4Jg62PxAEI4ok1bc/mxVZhMVVuT9YYGp5Vc+6P/+587oBQ7w/rnskWC6xvT9WeF3gbiC/PyKUMR2+NcA/VKFPHvVbvj88l6dIxUy4P1AYpkzwIbI/RFBEpWJ6qj//Zujz3/CiP5ivAQiVfJo/VJ6TspI8kz/7VyeGo22PP8Zazi2F44o/nLev2GYwhj9mzrjBsEKBP2kecIurtX0/oNYuWnlqfj8G4DUlZmh+P93iBimkr3w/c0OBOaxTeT9z29z8Ax5zP5IaJ7TWn2Y/OMiBJiRDTj+QnqVR6AhOv6nUQssuH2e/fHhTKEvoc78ejSqMqBt9v8YgeQO8QoO/D969XpeehL8ASeS8cMCAv+3OllAamnW/ZUtr4AJhY78wzzvBAoBBP2Im8E6HXGw/AaV/ExNeej/1OkF/aGKDP1z4oVkwrYk/6DLyx+YCkD/FFW614i2TP34KOK48TZY/yLB7DAVVmT9wfU79YDmcP4YNWyIz8Z4/0M9BiEW7oD82JWiy0OWhPw9E9Vr5+qI/avrGuUj/oz9Mgdn4pPekP9Rla1yD56U/KW2Qmo3Npj9mIRv3z5unP0Lpoz1yLKg/IAyIhWRFqD/G9bCWicKnPyYWVvxvvaY/ZU55b2pypT+/D8AzxQ+kP6iFxbpOqaI/\",\"dtype\":\"float64\",\"shape\":[75]},\"y\":{\"__ndarray__\":\"GhExyth1ND/Sv8nbtpRIP2vylNV0PVE/aTum7souWD/At0SJ8fVgPw3Iuahxymc/MSNhhJWvcD/bTfBN02d3P2zb5nxnaoA/CD5h5MAGhz8NmeH1TyaQP+zrCsc9p5Y/LbKd76fGnz/bLW5ISEmmPww9YvTcQq8/JV2OstnstT8Er5Y7M8G+P0c+r3jqkcU/5h99k6ZBzj88bCIzFzjVP4enV8oyxN0//yH99nXg5D8qOpLLf0jtP5kqGJXUifQ/c9cS8kHP/D+/DpwzojQEQIEmwoanVwxA4lgXt9HgE0BSSZ2AJuIbQAMJih9jjiNA5q4l5INuK0AwTKYKRj0zQNv5fmq8/DpAaCJseHrtQkB/+zpwzoxKQM3MzMzMeFJAZmZmZmZqWEAAAAAAAFxeQM3MzMzMJmJAmpmZmZkfZUBmZmZmZhhoQDMzMzMzEWtAAAAAAAAKbkBmZmZmZoFwQM3MzMzM/XFAMzMzMzN6c0CamZmZmfZ0QAAAAAAAc3ZAZmZmZmbvd0DNzMzMzGt5QDMzMzMz6HpAmpmZmZlkfEAAAAAAAOF9QGZmZmZmXX9AZmZmZuZsgECamZmZGSuBQM3MzMxM6YFAAAAAAICngkAzMzMzs2WDQGZmZmbmI4RAmpmZmRnihEDNzMzMTKCFQAAAAACAXoZAMzMzM7Mch0BmZmZm5tqHQJqZmZkZmYhAzczMzExXiUAAAAAAgBWKQDMzMzOz04pAZmZmZuaRi0CamZmZGVCMQM3MzMxMDo1AAAAAAIDMjUAzMzMzs4qOQGZmZmbmSI9A\",\"dtype\":\"float64\",\"shape\":[75]}},\"selected\":{\"id\":\"224c952f-f542-4eae-9464-1dbadf674f64\",\"type\":\"Selection\"},\"selection_policy\":{\"id\":\"51021554-5363-4087-b03a-dcb7404e22a0\",\"type\":\"UnionRenderers\"}},\"id\":\"89715fde-f495-4094-9595-99bff37a0111\",\"type\":\"ColumnDataSource\"},{\"attributes\":{},\"id\":\"5fee536b-a3a2-41d4-8800-7ae412a5d0d5\",\"type\":\"Selection\"},{\"attributes\":{},\"id\":\"bc20de82-18a8-496e-af23-ca2db990735c\",\"type\":\"BasicTicker\"},{\"attributes\":{},\"id\":\"a4da4fa2-6cfe-4a8f-ab3f-05f0de6f116a\",\"type\":\"HelpTool\"},{\"attributes\":{\"callback\":null,\"data\":{\"x\":{\"__ndarray__\":\"etq5fE5uiT8tk3q8YwKLPzsvrTvBMJI/Wp+ercDzlT8klAfDsfmZP1O7pM1VR54/gvpDL7ZtoT+CSHODJeOjP2uoa4VdhKY/tvApZe5UqT95jhnfOFesP0B/ardujq8/d4Sv9cp9sT90LG9nShmzPyBVfsvgZrQ/aJFC4qmTtT8WnPaYUMu2P6e1mCSHD7g/uy6Pb9NeuT9drhveCbq6PwXf+Cov/bs/OKOUb2/3uj+AcsjZvxa3P6KRSnK50bI/ALEYdrIUrj+OqooUvGKnP2ESJcEhfqE/MeyyTzzUmT9YI87/uZmTP0w2rqEblY0/d2lKppXuhD8B+5a2vu16P5AWB9gpa3I/CuK1JPSebz+TgwJHuylrPwpq4//pxmQ/wdnsQXiqWD+2TCZUf4rwPozS7b3rVFy/NJmkriu/a79gpTdqqWZ0v0FvEKxpx3q/hcx3qsOEgL+NjOAs95qDv6NVLcYySoa/Q/YM+JEwhr89APFdzh2Cv+8w5w5uXXi/Ku2NuAO0Z7/SyfSrDTIwP9e8/cJwUWw/v4mmogWFez88xlrntJOEPy/LXYEMcIs/GHbumqAjkT8SWnj7+4eUP8JtgWpk25c/A6wxlcYSmz9bzxPTkiCeP0m1D9KtgaA/0XLACLjWoT/B9dlxsRGjP1FWJB+FNKQ/85wmgRtCpT+fqdVJVj2mPyAuJDLDJ6c/eA8QAmb9pz+cZhN2L7SoPx4WZawlL6k/5h3qvLdMqT9ga7NFlu6oPzTk/QK9J6g/7BtT8gsqpz8lHEnZoRGmP+A6Naaq+KQ/\",\"dtype\":\"float64\",\"shape\":[75]},\"y\":{\"__ndarray__\":\"GhExyth1ND/Sv8nbtpRIP2vylNV0PVE/aTum7souWD/At0SJ8fVgPw3Iuahxymc/MSNhhJWvcD/bTfBN02d3P2zb5nxnaoA/CD5h5MAGhz8NmeH1TyaQP+zrCsc9p5Y/LbKd76fGnz/bLW5ISEmmPww9YvTcQq8/JV2OstnstT8Er5Y7M8G+P0c+r3jqkcU/5h99k6ZBzj88bCIzFzjVP4enV8oyxN0//yH99nXg5D8qOpLLf0jtP5kqGJXUifQ/c9cS8kHP/D+/DpwzojQEQIEmwoanVwxA4lgXt9HgE0BSSZ2AJuIbQAMJih9jjiNA5q4l5INuK0AwTKYKRj0zQNv5fmq8/DpAaCJseHrtQkB/+zpwzoxKQM3MzMzMeFJAZmZmZmZqWEAAAAAAAFxeQM3MzMzMJmJAmpmZmZkfZUBmZmZmZhhoQDMzMzMzEWtAAAAAAAAKbkBmZmZmZoFwQM3MzMzM/XFAMzMzMzN6c0CamZmZmfZ0QAAAAAAAc3ZAZmZmZmbvd0DNzMzMzGt5QDMzMzMz6HpAmpmZmZlkfEAAAAAAAOF9QGZmZmZmXX9AZmZmZuZsgECamZmZGSuBQM3MzMxM6YFAAAAAAICngkAzMzMzs2WDQGZmZmbmI4RAmpmZmRnihEDNzMzMTKCFQAAAAACAXoZAMzMzM7Mch0BmZmZm5tqHQJqZmZkZmYhAzczMzExXiUAAAAAAgBWKQDMzMzOz04pAZmZmZuaRi0CamZmZGVCMQM3MzMxMDo1AAAAAAIDMjUAzMzMzs4qOQGZmZmbmSI9A\",\"dtype\":\"float64\",\"shape\":[75]}},\"selected\":{\"id\":\"5fee536b-a3a2-41d4-8800-7ae412a5d0d5\",\"type\":\"Selection\"},\"selection_policy\":{\"id\":\"42042af5-7ef3-4acb-a77f-84a9319cb9a8\",\"type\":\"UnionRenderers\"}},\"id\":\"9ff40bc1-dbc2-460c-8720-c61a4984b63b\",\"type\":\"ColumnDataSource\"},{\"attributes\":{},\"id\":\"4d4973dc-4802-437c-8b9d-79404817e950\",\"type\":\"PanTool\"},{\"attributes\":{\"label\":{\"value\":\"CLIRAD\"},\"renderers\":[{\"id\":\"f098a36b-9b54-450a-98b5-4f04206275a0\",\"type\":\"GlyphRenderer\"}]},\"id\":\"45752152-9925-4cea-a965-91154d7ae861\",\"type\":\"LegendItem\"},{\"attributes\":{},\"id\":\"2035c5ac-35ac-42b9-a4e0-58604936ca44\",\"type\":\"LinearScale\"},{\"attributes\":{\"label\":{\"value\":\"CLIRAD\"},\"renderers\":[{\"id\":\"5528d053-9e60-407d-84d8-be84e6ab673b\",\"type\":\"GlyphRenderer\"}]},\"id\":\"1a62246b-d475-4a7b-b804-15ae166857c4\",\"type\":\"LegendItem\"},{\"attributes\":{\"fill_alpha\":{\"value\":0.1},\"fill_color\":{\"value\":\"#1f77b4\"},\"line_alpha\":{\"value\":0.1},\"line_color\":{\"value\":\"#1f77b4\"},\"x\":{\"field\":\"x\"},\"y\":{\"field\":\"y\"}},\"id\":\"ced83cc2-6578-4bfe-8849-98e32d537e6b\",\"type\":\"Circle\"},{\"attributes\":{\"data_source\":{\"id\":\"50467c49-92a4-490d-afc4-b15424667953\",\"type\":\"ColumnDataSource\"},\"glyph\":{\"id\":\"32aa5f0b-485a-4d51-a9f3-c8cfaef7fead\",\"type\":\"Circle\"},\"hover_glyph\":null,\"muted_glyph\":null,\"nonselection_glyph\":{\"id\":\"ced83cc2-6578-4bfe-8849-98e32d537e6b\",\"type\":\"Circle\"},\"selection_glyph\":null,\"view\":{\"id\":\"34ae9f1f-9939-4437-8155-6f33ae763c48\",\"type\":\"CDSView\"}},\"id\":\"b4da56b1-ca56-44d2-9cf7-a64356189890\",\"type\":\"GlyphRenderer\"},{\"attributes\":{},\"id\":\"80349f94-b874-45e4-a7f0-e0e7e4b43229\",\"type\":\"PanTool\"},{\"attributes\":{},\"id\":\"5a0d84c5-fba4-47a9-bd89-67fd53ca00d8\",\"type\":\"BasicTicker\"},{\"attributes\":{},\"id\":\"e90af834-85a7-459f-9d32-30d1d5095bae\",\"type\":\"LinearScale\"},{\"attributes\":{},\"id\":\"a86c295b-559f-4559-b42b-86d31d2c07a2\",\"type\":\"UnionRenderers\"},{\"attributes\":{\"data_source\":{\"id\":\"13edef3c-916b-4ac1-a06f-e6c3e7efd8b7\",\"type\":\"ColumnDataSource\"},\"glyph\":{\"id\":\"6216b7b0-437b-42c7-ad91-ea5fffc660e4\",\"type\":\"Line\"},\"hover_glyph\":null,\"muted_glyph\":null,\"nonselection_glyph\":{\"id\":\"6119f793-5596-43dc-8089-7195f05e2942\",\"type\":\"Line\"},\"selection_glyph\":null,\"view\":{\"id\":\"fd7aabed-ae9d-40d0-b192-a29ed984fbb0\",\"type\":\"CDSView\"}},\"id\":\"65626671-8a10-4beb-8910-b9eb9dc519fe\",\"type\":\"GlyphRenderer\"},{\"attributes\":{},\"id\":\"eb9abe27-a57b-44fd-b754-4dd6f8ae0fa1\",\"type\":\"UnionRenderers\"},{\"attributes\":{\"line_alpha\":0.1,\"line_color\":\"#1f77b4\",\"line_width\":1.5,\"x\":{\"field\":\"x\"},\"y\":{\"field\":\"y\"}},\"id\":\"6119f793-5596-43dc-8089-7195f05e2942\",\"type\":\"Line\"},{\"attributes\":{\"ticker\":null},\"id\":\"3cd6cb9d-e0e4-42be-8067-2004376bfef0\",\"type\":\"LogTickFormatter\"},{\"attributes\":{\"fill_alpha\":{\"value\":0.7},\"fill_color\":{\"value\":\"#4daf4a\"},\"line_alpha\":{\"value\":0.7},\"line_color\":{\"value\":\"#4daf4a\"},\"x\":{\"field\":\"x\"},\"y\":{\"field\":\"y\"}},\"id\":\"4784f647-59ac-4c19-a435-e8b29631a3fe\",\"type\":\"Circle\"},{\"attributes\":{\"data_source\":{\"id\":\"5154965a-186a-42eb-bf9b-ad8b04c4c631\",\"type\":\"ColumnDataSource\"},\"glyph\":{\"id\":\"850c059c-0bf2-46d1-a6c1-8701f2b37713\",\"type\":\"Line\"},\"hover_glyph\":null,\"muted_glyph\":null,\"nonselection_glyph\":{\"id\":\"1eba547f-dfb7-4862-8beb-8e97c2b31ef0\",\"type\":\"Line\"},\"selection_glyph\":null,\"view\":{\"id\":\"b08c80b4-0bdd-4a1d-88c7-8801d63d4a99\",\"type\":\"CDSView\"}},\"id\":\"5528d053-9e60-407d-84d8-be84e6ab673b\",\"type\":\"GlyphRenderer\"},{\"attributes\":{},\"id\":\"f6723ecb-4c59-44c6-80e9-afa9b7a1fe9c\",\"type\":\"Selection\"},{\"attributes\":{},\"id\":\"f999d0a8-a6ac-4fef-95ac-9f8506c081b1\",\"type\":\"BasicTickFormatter\"},{\"attributes\":{\"tools\":[{\"id\":\"4d4973dc-4802-437c-8b9d-79404817e950\",\"type\":\"PanTool\"},{\"id\":\"f4eae992-ee41-4011-868e-66aeeab7a174\",\"type\":\"WheelZoomTool\"},{\"id\":\"e45a822c-a80c-467f-a55f-49c76b5f3c22\",\"type\":\"BoxZoomTool\"},{\"id\":\"c025641a-9e66-4ecb-b50c-30b8776842ae\",\"type\":\"SaveTool\"},{\"id\":\"8db0d354-74da-4b4f-9517-77c82b9f2801\",\"type\":\"ResetTool\"},{\"id\":\"4850a5d6-cadb-4888-88e5-53e4f5eedd78\",\"type\":\"HelpTool\"},{\"id\":\"80349f94-b874-45e4-a7f0-e0e7e4b43229\",\"type\":\"PanTool\"},{\"id\":\"0fd1e4fb-1b71-4217-b095-ebf67cfb5f23\",\"type\":\"WheelZoomTool\"},{\"id\":\"21c6004d-a7ab-4f0e-86c3-c9fde679f3b2\",\"type\":\"BoxZoomTool\"},{\"id\":\"de6aba3e-ba0e-477f-9db7-ce13d804d64e\",\"type\":\"SaveTool\"},{\"id\":\"5a1cb519-d0e4-4f79-899d-84a21a44091b\",\"type\":\"ResetTool\"},{\"id\":\"6db271fa-aa04-435d-a461-fedfbb7b7acd\",\"type\":\"HelpTool\"},{\"id\":\"3a871e08-34cd-418a-80db-3578d6002eb9\",\"type\":\"PanTool\"},{\"id\":\"0d9d9292-0db2-46a1-ad90-72c5abac4069\",\"type\":\"WheelZoomTool\"},{\"id\":\"a6db0d0f-cac7-4199-bcd5-a797d087471f\",\"type\":\"BoxZoomTool\"},{\"id\":\"73c970f5-ea59-4624-991f-93d231d4a3b8\",\"type\":\"SaveTool\"},{\"id\":\"abebd5ba-020d-4451-aecf-eb27e874f89a\",\"type\":\"ResetTool\"},{\"id\":\"a4da4fa2-6cfe-4a8f-ab3f-05f0de6f116a\",\"type\":\"HelpTool\"}]},\"id\":\"eb0472b3-3455-4b55-a517-1ab9db5aae31\",\"type\":\"ProxyToolbar\"},{\"attributes\":{},\"id\":\"7a65ee6d-b993-44e6-baea-1db7f12d6962\",\"type\":\"LinearScale\"},{\"attributes\":{\"above\":[{\"id\":\"dfaea4b5-4f0c-4918-8eb3-eab39a951a26\",\"type\":\"Legend\"}],\"below\":[{\"id\":\"c1a2b84e-7e15-47e3-88d3-dd20b673745f\",\"type\":\"LinearAxis\"}],\"left\":[{\"id\":\"ffefc47e-190d-4ba3-af6a-ca659efeba54\",\"type\":\"LinearAxis\"}],\"plot_width\":300,\"renderers\":[{\"id\":\"c1a2b84e-7e15-47e3-88d3-dd20b673745f\",\"type\":\"LinearAxis\"},{\"id\":\"b7b224b7-5199-4c12-9367-8e0daa2d3df5\",\"type\":\"Grid\"},{\"id\":\"ffefc47e-190d-4ba3-af6a-ca659efeba54\",\"type\":\"LinearAxis\"},{\"id\":\"73fdf64e-7bbd-4794-86da-12b96f9cdf50\",\"type\":\"Grid\"},{\"id\":\"924b5512-3a23-4f06-b7e4-cb25b9283d5d\",\"type\":\"BoxAnnotation\"},{\"id\":\"5528d053-9e60-407d-84d8-be84e6ab673b\",\"type\":\"GlyphRenderer\"},{\"id\":\"b4da56b1-ca56-44d2-9cf7-a64356189890\",\"type\":\"GlyphRenderer\"},{\"id\":\"7fd16e63-7ac7-4a64-a3ec-4be6445c7751\",\"type\":\"GlyphRenderer\"},{\"id\":\"dfaea4b5-4f0c-4918-8eb3-eab39a951a26\",\"type\":\"Legend\"}],\"title\":{\"id\":\"eb119dd8-40ca-4f4e-afeb-0d14d8ca20eb\",\"type\":\"Title\"},\"toolbar\":{\"id\":\"168e481c-8be5-4b90-b8be-9208ff962df1\",\"type\":\"Toolbar\"},\"toolbar_location\":null,\"x_range\":{\"id\":\"2fca6716-2611-4f50-8b29-024df7e13c51\",\"type\":\"Range1d\"},\"x_scale\":{\"id\":\"2035c5ac-35ac-42b9-a4e0-58604936ca44\",\"type\":\"LinearScale\"},\"y_range\":{\"id\":\"510be8e9-33b9-4f72-b02c-96fa834b83e4\",\"type\":\"Range1d\"},\"y_scale\":{\"id\":\"f7e4d796-4fc3-454d-b738-91ccb9592435\",\"type\":\"LinearScale\"}},\"id\":\"1ced28c3-1b4e-434a-91d3-0bd844f19732\",\"subtype\":\"Figure\",\"type\":\"Plot\"},{\"attributes\":{\"callback\":null,\"end\":0.008941177589999997,\"start\":-0.017572048590000004},\"id\":\"3b420184-b068-43dc-b9dd-eef7f74534ff\",\"type\":\"Range1d\"},{\"attributes\":{\"plot\":null,\"text\":\"\"},\"id\":\"68a77ee8-9979-4a6f-bc9a-7e035d4b483d\",\"type\":\"Title\"},{\"attributes\":{\"fill_alpha\":{\"value\":0.1},\"fill_color\":{\"value\":\"#1f77b4\"},\"line_alpha\":{\"value\":0.1},\"line_color\":{\"value\":\"#1f77b4\"},\"x\":{\"field\":\"x\"},\"y\":{\"field\":\"y\"}},\"id\":\"c2c21a83-64e5-4183-a44d-f78753a611a9\",\"type\":\"Circle\"},{\"attributes\":{},\"id\":\"cd402242-17ec-4b29-acf9-2fed7821e622\",\"type\":\"BasicTickFormatter\"},{\"attributes\":{\"line_alpha\":0.8,\"line_color\":\"#984ea3\",\"line_width\":1.5,\"x\":{\"field\":\"x\"},\"y\":{\"field\":\"y\"}},\"id\":\"314414fa-5c67-4b37-8db7-0780989ec75b\",\"type\":\"Line\"},{\"attributes\":{\"data_source\":{\"id\":\"0ba12a96-9390-4154-a6ca-c6fe709d1ea4\",\"type\":\"ColumnDataSource\"},\"glyph\":{\"id\":\"4784f647-59ac-4c19-a435-e8b29631a3fe\",\"type\":\"Circle\"},\"hover_glyph\":null,\"muted_glyph\":null,\"nonselection_glyph\":{\"id\":\"c2c21a83-64e5-4183-a44d-f78753a611a9\",\"type\":\"Circle\"},\"selection_glyph\":null,\"view\":{\"id\":\"598fb743-ba9d-4f7b-afaf-1e04839c548a\",\"type\":\"CDSView\"}},\"id\":\"19396b75-9089-4638-8f29-80aff0344a1c\",\"type\":\"GlyphRenderer\"},{\"attributes\":{\"callback\":null,\"data\":{\"x\":{\"__ndarray__\":\"etq5fE5uiT8tk3q8YwKLPzsvrTvBMJI/Wp+ercDzlT8klAfDsfmZP1O7pM1VR54/gvpDL7ZtoT+CSHODJeOjP2uoa4VdhKY/tvApZe5UqT95jhnfOFesP0B/ardujq8/d4Sv9cp9sT90LG9nShmzPyBVfsvgZrQ/aJFC4qmTtT8WnPaYUMu2P6e1mCSHD7g/uy6Pb9NeuT9drhveCbq6PwXf+Cov/bs/OKOUb2/3uj+AcsjZvxa3P6KRSnK50bI/ALEYdrIUrj+OqooUvGKnP2ESJcEhfqE/MeyyTzzUmT9YI87/uZmTP0w2rqEblY0/d2lKppXuhD8B+5a2vu16P5AWB9gpa3I/CuK1JPSebz+TgwJHuylrPwpq4//pxmQ/wdnsQXiqWD+2TCZUf4rwPozS7b3rVFy/NJmkriu/a79gpTdqqWZ0v0FvEKxpx3q/hcx3qsOEgL+NjOAs95qDv6NVLcYySoa/Q/YM+JEwhr89APFdzh2Cv+8w5w5uXXi/Ku2NuAO0Z7/SyfSrDTIwP9e8/cJwUWw/v4mmogWFez88xlrntJOEPy/LXYEMcIs/GHbumqAjkT8SWnj7+4eUP8JtgWpk25c/A6wxlcYSmz9bzxPTkiCeP0m1D9KtgaA/0XLACLjWoT/B9dlxsRGjP1FWJB+FNKQ/85wmgRtCpT+fqdVJVj2mPyAuJDLDJ6c/eA8QAmb9pz+cZhN2L7SoPx4WZawlL6k/5h3qvLdMqT9ga7NFlu6oPzTk/QK9J6g/7BtT8gsqpz8lHEnZoRGmP+A6Naaq+KQ/\",\"dtype\":\"float64\",\"shape\":[75]},\"y\":{\"__ndarray__\":\"GhExyth1ND/Sv8nbtpRIP2vylNV0PVE/aTum7souWD/At0SJ8fVgPw3Iuahxymc/MSNhhJWvcD/bTfBN02d3P2zb5nxnaoA/CD5h5MAGhz8NmeH1TyaQP+zrCsc9p5Y/LbKd76fGnz/bLW5ISEmmPww9YvTcQq8/JV2OstnstT8Er5Y7M8G+P0c+r3jqkcU/5h99k6ZBzj88bCIzFzjVP4enV8oyxN0//yH99nXg5D8qOpLLf0jtP5kqGJXUifQ/c9cS8kHP/D+/DpwzojQEQIEmwoanVwxA4lgXt9HgE0BSSZ2AJuIbQAMJih9jjiNA5q4l5INuK0AwTKYKRj0zQNv5fmq8/DpAaCJseHrtQkB/+zpwzoxKQM3MzMzMeFJAZmZmZmZqWEAAAAAAAFxeQM3MzMzMJmJAmpmZmZkfZUBmZmZmZhhoQDMzMzMzEWtAAAAAAAAKbkBmZmZmZoFwQM3MzMzM/XFAMzMzMzN6c0CamZmZmfZ0QAAAAAAAc3ZAZmZmZmbvd0DNzMzMzGt5QDMzMzMz6HpAmpmZmZlkfEAAAAAAAOF9QGZmZmZmXX9AZmZmZuZsgECamZmZGSuBQM3MzMxM6YFAAAAAAICngkAzMzMzs2WDQGZmZmbmI4RAmpmZmRnihEDNzMzMTKCFQAAAAACAXoZAMzMzM7Mch0BmZmZm5tqHQJqZmZkZmYhAzczMzExXiUAAAAAAgBWKQDMzMzOz04pAZmZmZuaRi0CamZmZGVCMQM3MzMxMDo1AAAAAAIDMjUAzMzMzs4qOQGZmZmbmSI9A\",\"dtype\":\"float64\",\"shape\":[75]}},\"selected\":{\"id\":\"94030c68-2323-4c68-a1a9-034c7c67df54\",\"type\":\"Selection\"},\"selection_policy\":{\"id\":\"281a6d4d-fb09-4b7a-a7ed-3d23d5d612a9\",\"type\":\"UnionRenderers\"}},\"id\":\"5154965a-186a-42eb-bf9b-ad8b04c4c631\",\"type\":\"ColumnDataSource\"},{\"attributes\":{\"fill_alpha\":{\"value\":0.1},\"fill_color\":{\"value\":\"#1f77b4\"},\"line_alpha\":{\"value\":0.1},\"line_color\":{\"value\":\"#1f77b4\"},\"x\":{\"field\":\"x\"},\"y\":{\"field\":\"y\"}},\"id\":\"807f0dc4-fcd1-47f7-8ad3-045608a0f0f2\",\"type\":\"Circle\"},{\"attributes\":{\"plot\":null,\"text\":\"\"},\"id\":\"0682280f-7a82-4487-9258-649755b9b68f\",\"type\":\"Title\"},{\"attributes\":{},\"id\":\"51021554-5363-4087-b03a-dcb7404e22a0\",\"type\":\"UnionRenderers\"},{\"attributes\":{\"data_source\":{\"id\":\"1b9cf179-5c38-4159-8837-629e1b719db3\",\"type\":\"ColumnDataSource\"},\"glyph\":{\"id\":\"6522d9f4-5ab2-4448-8079-1d44e4ff8c57\",\"type\":\"Circle\"},\"hover_glyph\":null,\"muted_glyph\":null,\"nonselection_glyph\":{\"id\":\"807f0dc4-fcd1-47f7-8ad3-045608a0f0f2\",\"type\":\"Circle\"},\"selection_glyph\":null,\"view\":{\"id\":\"c2e22a96-de4b-4a9f-b2af-53056c8b6a70\",\"type\":\"CDSView\"}},\"id\":\"12d388a5-9fc1-4339-bf08-f16316f5c405\",\"type\":\"GlyphRenderer\"},{\"attributes\":{\"toolbar\":{\"id\":\"eb0472b3-3455-4b55-a517-1ab9db5aae31\",\"type\":\"ProxyToolbar\"},\"toolbar_location\":\"above\"},\"id\":\"7ec5ab0e-dd1f-4236-a2d8-65ed1d5541e3\",\"type\":\"ToolbarBox\"},{\"attributes\":{},\"id\":\"fc28aca6-b817-485d-bde3-a8377eb626aa\",\"type\":\"Selection\"},{\"attributes\":{\"line_alpha\":0.1,\"line_color\":\"#1f77b4\",\"line_dash\":[6],\"line_width\":5,\"x\":{\"field\":\"x\"},\"y\":{\"field\":\"y\"}},\"id\":\"348ed04e-a472-45ae-9213-06d050fdfd8d\",\"type\":\"Line\"},{\"attributes\":{},\"id\":\"6db271fa-aa04-435d-a461-fedfbb7b7acd\",\"type\":\"HelpTool\"},{\"attributes\":{\"label\":{\"value\":\"CRD\"},\"renderers\":[{\"id\":\"19396b75-9089-4638-8f29-80aff0344a1c\",\"type\":\"GlyphRenderer\"},{\"id\":\"65626671-8a10-4beb-8910-b9eb9dc519fe\",\"type\":\"GlyphRenderer\"}]},\"id\":\"963a0ea5-36cf-42f2-81fd-82afbdbd82d3\",\"type\":\"LegendItem\"},{\"attributes\":{},\"id\":\"281a6d4d-fb09-4b7a-a7ed-3d23d5d612a9\",\"type\":\"UnionRenderers\"},{\"attributes\":{\"children\":[{\"id\":\"7ec5ab0e-dd1f-4236-a2d8-65ed1d5541e3\",\"type\":\"ToolbarBox\"},{\"id\":\"b6f9616a-e28c-4d84-b7e4-778da12c649c\",\"type\":\"Column\"}]},\"id\":\"d83cdbd6-5dc5-4ca1-b64a-6a7a8311b0b6\",\"type\":\"Column\"},{\"attributes\":{\"data_source\":{\"id\":\"9ff40bc1-dbc2-460c-8720-c61a4984b63b\",\"type\":\"ColumnDataSource\"},\"glyph\":{\"id\":\"8ddd9bb0-3594-45d8-af46-d4bce77a43e3\",\"type\":\"Line\"},\"hover_glyph\":null,\"muted_glyph\":null,\"nonselection_glyph\":{\"id\":\"348ed04e-a472-45ae-9213-06d050fdfd8d\",\"type\":\"Line\"},\"selection_glyph\":null,\"view\":{\"id\":\"80f746ec-6752-4745-9b8b-fa68f53fde46\",\"type\":\"CDSView\"}},\"id\":\"f098a36b-9b54-450a-98b5-4f04206275a0\",\"type\":\"GlyphRenderer\"},{\"attributes\":{\"source\":{\"id\":\"5154965a-186a-42eb-bf9b-ad8b04c4c631\",\"type\":\"ColumnDataSource\"}},\"id\":\"b08c80b4-0bdd-4a1d-88c7-8801d63d4a99\",\"type\":\"CDSView\"},{\"attributes\":{\"ticker\":null},\"id\":\"1e87064e-57e4-4771-bd9f-bbfa85bc1eaa\",\"type\":\"LogTickFormatter\"},{\"attributes\":{},\"id\":\"224c952f-f542-4eae-9464-1dbadf674f64\",\"type\":\"Selection\"},{\"attributes\":{},\"id\":\"fc85b091-e646-4311-be89-cf3b07a6250e\",\"type\":\"BasicTickFormatter\"},{\"attributes\":{\"callback\":null,\"data\":{\"x\":{\"__ndarray__\":\"sr7egysue78+aUBu02Bxv8BmUNKbCE0/ApTUhFN4ej8mdBqPuX6JP2HQk3VfUpM/VnKVeA5Wmj99xeGnDemgP58SiaI956Q/2sHm7gMoqT9pbOevG6ytPwb0DixROrE/EeDqvGq+sz8cTJW4Jg62PxAEI4ok1bc/mxVZhMVVuT9YYGp5Vc+6P/+587oBQ7w/rnskWC6xvT9WeF3gbiC/PyKUMR2+NcA/VKFPHvVbvj88l6dIxUy4P1AYpkzwIbI/RFBEpWJ6qj//Zujz3/CiP5ivAQiVfJo/VJ6TspI8kz/7VyeGo22PP8Zazi2F44o/nLev2GYwhj9mzrjBsEKBP2kecIurtX0/oNYuWnlqfj8G4DUlZmh+P93iBimkr3w/c0OBOaxTeT9z29z8Ax5zP5IaJ7TWn2Y/OMiBJiRDTj+QnqVR6AhOv6nUQssuH2e/fHhTKEvoc78ejSqMqBt9v8YgeQO8QoO/D969XpeehL8ASeS8cMCAv+3OllAamnW/ZUtr4AJhY78wzzvBAoBBP2Im8E6HXGw/AaV/ExNeej/1OkF/aGKDP1z4oVkwrYk/6DLyx+YCkD/FFW614i2TP34KOK48TZY/yLB7DAVVmT9wfU79YDmcP4YNWyIz8Z4/0M9BiEW7oD82JWiy0OWhPw9E9Vr5+qI/avrGuUj/oz9Mgdn4pPekP9Rla1yD56U/KW2Qmo3Npj9mIRv3z5unP0Lpoz1yLKg/IAyIhWRFqD/G9bCWicKnPyYWVvxvvaY/ZU55b2pypT+/D8AzxQ+kP6iFxbpOqaI/\",\"dtype\":\"float64\",\"shape\":[75]},\"y\":{\"__ndarray__\":\"GhExyth1ND/Sv8nbtpRIP2vylNV0PVE/aTum7souWD/At0SJ8fVgPw3Iuahxymc/MSNhhJWvcD/bTfBN02d3P2zb5nxnaoA/CD5h5MAGhz8NmeH1TyaQP+zrCsc9p5Y/LbKd76fGnz/bLW5ISEmmPww9YvTcQq8/JV2OstnstT8Er5Y7M8G+P0c+r3jqkcU/5h99k6ZBzj88bCIzFzjVP4enV8oyxN0//yH99nXg5D8qOpLLf0jtP5kqGJXUifQ/c9cS8kHP/D+/DpwzojQEQIEmwoanVwxA4lgXt9HgE0BSSZ2AJuIbQAMJih9jjiNA5q4l5INuK0AwTKYKRj0zQNv5fmq8/DpAaCJseHrtQkB/+zpwzoxKQM3MzMzMeFJAZmZmZmZqWEAAAAAAAFxeQM3MzMzMJmJAmpmZmZkfZUBmZmZmZhhoQDMzMzMzEWtAAAAAAAAKbkBmZmZmZoFwQM3MzMzM/XFAMzMzMzN6c0CamZmZmfZ0QAAAAAAAc3ZAZmZmZmbvd0DNzMzMzGt5QDMzMzMz6HpAmpmZmZlkfEAAAAAAAOF9QGZmZmZmXX9AZmZmZuZsgECamZmZGSuBQM3MzMxM6YFAAAAAAICngkAzMzMzs2WDQGZmZmbmI4RAmpmZmRnihEDNzMzMTKCFQAAAAACAXoZAMzMzM7Mch0BmZmZm5tqHQJqZmZkZmYhAzczMzExXiUAAAAAAgBWKQDMzMzOz04pAZmZmZuaRi0CamZmZGVCMQM3MzMxMDo1AAAAAAIDMjUAzMzMzs4qOQGZmZmbmSI9A\",\"dtype\":\"float64\",\"shape\":[75]}},\"selected\":{\"id\":\"fd804538-3531-4a7e-931e-45e58c642d96\",\"type\":\"Selection\"},\"selection_policy\":{\"id\":\"c7d00fb1-d7a3-43e3-9ea9-716ec244442f\",\"type\":\"UnionRenderers\"}},\"id\":\"0ba12a96-9390-4154-a6ca-c6fe709d1ea4\",\"type\":\"ColumnDataSource\"},{\"attributes\":{\"items\":[{\"id\":\"45752152-9925-4cea-a965-91154d7ae861\",\"type\":\"LegendItem\"},{\"id\":\"963a0ea5-36cf-42f2-81fd-82afbdbd82d3\",\"type\":\"LegendItem\"}],\"label_text_font_size\":{\"value\":\"8pt\"},\"location\":\"top_center\",\"orientation\":\"horizontal\",\"plot\":{\"id\":\"3eaf479e-5e2a-49c6-a51e-1bc0756084a8\",\"subtype\":\"Figure\",\"type\":\"Plot\"}},\"id\":\"da10ed56-f42d-454a-bd40-3aa2cc799dbe\",\"type\":\"Legend\"},{\"attributes\":{\"line_alpha\":0.1,\"line_color\":\"#1f77b4\",\"line_width\":1.5,\"x\":{\"field\":\"x\"},\"y\":{\"field\":\"y\"}},\"id\":\"e9795cde-8e8b-45b1-8970-0731d0b03c81\",\"type\":\"Line\"},{\"attributes\":{},\"id\":\"3748e0a9-e895-4ed7-80f6-8977895a7afe\",\"type\":\"Selection\"},{\"attributes\":{\"callback\":null,\"data\":{\"x\":{\"__ndarray__\":\"sr7egysue78+aUBu02Bxv8BmUNKbCE0/ApTUhFN4ej8mdBqPuX6JP2HQk3VfUpM/VnKVeA5Wmj99xeGnDemgP58SiaI956Q/2sHm7gMoqT9pbOevG6ytPwb0DixROrE/EeDqvGq+sz8cTJW4Jg62PxAEI4ok1bc/mxVZhMVVuT9YYGp5Vc+6P/+587oBQ7w/rnskWC6xvT9WeF3gbiC/PyKUMR2+NcA/VKFPHvVbvj88l6dIxUy4P1AYpkzwIbI/RFBEpWJ6qj//Zujz3/CiP5ivAQiVfJo/VJ6TspI8kz/7VyeGo22PP8Zazi2F44o/nLev2GYwhj9mzrjBsEKBP2kecIurtX0/oNYuWnlqfj8G4DUlZmh+P93iBimkr3w/c0OBOaxTeT9z29z8Ax5zP5IaJ7TWn2Y/OMiBJiRDTj+QnqVR6AhOv6nUQssuH2e/fHhTKEvoc78ejSqMqBt9v8YgeQO8QoO/D969XpeehL8ASeS8cMCAv+3OllAamnW/ZUtr4AJhY78wzzvBAoBBP2Im8E6HXGw/AaV/ExNeej/1OkF/aGKDP1z4oVkwrYk/6DLyx+YCkD/FFW614i2TP34KOK48TZY/yLB7DAVVmT9wfU79YDmcP4YNWyIz8Z4/0M9BiEW7oD82JWiy0OWhPw9E9Vr5+qI/avrGuUj/oz9Mgdn4pPekP9Rla1yD56U/KW2Qmo3Npj9mIRv3z5unP0Lpoz1yLKg/IAyIhWRFqD/G9bCWicKnPyYWVvxvvaY/ZU55b2pypT+/D8AzxQ+kP6iFxbpOqaI/\",\"dtype\":\"float64\",\"shape\":[75]},\"y\":{\"__ndarray__\":\"GhExyth1ND/Sv8nbtpRIP2vylNV0PVE/aTum7souWD/At0SJ8fVgPw3Iuahxymc/MSNhhJWvcD/bTfBN02d3P2zb5nxnaoA/CD5h5MAGhz8NmeH1TyaQP+zrCsc9p5Y/LbKd76fGnz/bLW5ISEmmPww9YvTcQq8/JV2OstnstT8Er5Y7M8G+P0c+r3jqkcU/5h99k6ZBzj88bCIzFzjVP4enV8oyxN0//yH99nXg5D8qOpLLf0jtP5kqGJXUifQ/c9cS8kHP/D+/DpwzojQEQIEmwoanVwxA4lgXt9HgE0BSSZ2AJuIbQAMJih9jjiNA5q4l5INuK0AwTKYKRj0zQNv5fmq8/DpAaCJseHrtQkB/+zpwzoxKQM3MzMzMeFJAZmZmZmZqWEAAAAAAAFxeQM3MzMzMJmJAmpmZmZkfZUBmZmZmZhhoQDMzMzMzEWtAAAAAAAAKbkBmZmZmZoFwQM3MzMzM/XFAMzMzMzN6c0CamZmZmfZ0QAAAAAAAc3ZAZmZmZmbvd0DNzMzMzGt5QDMzMzMz6HpAmpmZmZlkfEAAAAAAAOF9QGZmZmZmXX9AZmZmZuZsgECamZmZGSuBQM3MzMxM6YFAAAAAAICngkAzMzMzs2WDQGZmZmbmI4RAmpmZmRnihEDNzMzMTKCFQAAAAACAXoZAMzMzM7Mch0BmZmZm5tqHQJqZmZkZmYhAzczMzExXiUAAAAAAgBWKQDMzMzOz04pAZmZmZuaRi0CamZmZGVCMQM3MzMxMDo1AAAAAAIDMjUAzMzMzs4qOQGZmZmbmSI9A\",\"dtype\":\"float64\",\"shape\":[75]}},\"selected\":{\"id\":\"fc28aca6-b817-485d-bde3-a8377eb626aa\",\"type\":\"Selection\"},\"selection_policy\":{\"id\":\"75b203d6-7a74-49e1-aa85-546891d4179b\",\"type\":\"UnionRenderers\"}},\"id\":\"50467c49-92a4-490d-afc4-b15424667953\",\"type\":\"ColumnDataSource\"},{\"attributes\":{\"bottom_units\":\"screen\",\"fill_alpha\":{\"value\":0.5},\"fill_color\":{\"value\":\"lightgrey\"},\"left_units\":\"screen\",\"level\":\"overlay\",\"line_alpha\":{\"value\":1.0},\"line_color\":{\"value\":\"black\"},\"line_dash\":[4,4],\"line_width\":{\"value\":2},\"plot\":null,\"render_mode\":\"css\",\"right_units\":\"screen\",\"top_units\":\"screen\"},\"id\":\"b80828f6-26b6-4a03-a92c-25c99034aadd\",\"type\":\"BoxAnnotation\"},{\"attributes\":{\"source\":{\"id\":\"1b9cf179-5c38-4159-8837-629e1b719db3\",\"type\":\"ColumnDataSource\"}},\"id\":\"c2e22a96-de4b-4a9f-b2af-53056c8b6a70\",\"type\":\"CDSView\"},{\"attributes\":{},\"id\":\"005c4104-3c2f-4afa-aebe-57af79a7191c\",\"type\":\"BasicTickFormatter\"},{\"attributes\":{},\"id\":\"b23a7c08-89d0-4f56-8b24-14eb0eabd68c\",\"type\":\"LogScale\"},{\"attributes\":{\"data_source\":{\"id\":\"e795cdc7-7c3a-4a50-aaa8-78f56fec86c2\",\"type\":\"ColumnDataSource\"},\"glyph\":{\"id\":\"314414fa-5c67-4b37-8db7-0780989ec75b\",\"type\":\"Line\"},\"hover_glyph\":null,\"muted_glyph\":null,\"nonselection_glyph\":{\"id\":\"e9795cde-8e8b-45b1-8970-0731d0b03c81\",\"type\":\"Line\"},\"selection_glyph\":null,\"view\":{\"id\":\"10a9c1ca-9398-4133-a8ca-f7a91769344d\",\"type\":\"CDSView\"}},\"id\":\"7372fde0-ae3e-402c-b2cf-2cce39e8635c\",\"type\":\"GlyphRenderer\"},{\"attributes\":{\"callback\":null,\"end\":0.01,\"start\":1020},\"id\":\"255dfd0f-be19-40db-9267-268f6b6932c3\",\"type\":\"Range1d\"},{\"attributes\":{\"items\":[{\"id\":\"988c7fdb-09e7-41bc-95ef-9c5b87809745\",\"type\":\"LegendItem\"}],\"label_text_font_size\":{\"value\":\"8pt\"},\"location\":\"top_center\",\"orientation\":\"horizontal\",\"plot\":{\"id\":\"88d163af-80d5-4fd8-9243-4f9d706b2fb9\",\"subtype\":\"Figure\",\"type\":\"Plot\"}},\"id\":\"d7470726-12bf-4815-84cb-9c1ca9684be7\",\"type\":\"Legend\"},{\"attributes\":{\"line_alpha\":0.6,\"line_color\":\"#e41a1c\",\"line_dash\":[6],\"line_width\":5,\"x\":{\"field\":\"x\"},\"y\":{\"field\":\"y\"}},\"id\":\"850c059c-0bf2-46d1-a6c1-8701f2b37713\",\"type\":\"Line\"},{\"attributes\":{\"source\":{\"id\":\"e795cdc7-7c3a-4a50-aaa8-78f56fec86c2\",\"type\":\"ColumnDataSource\"}},\"id\":\"10a9c1ca-9398-4133-a8ca-f7a91769344d\",\"type\":\"CDSView\"},{\"attributes\":{\"line_alpha\":0.6,\"line_color\":\"#e41a1c\",\"line_dash\":[6],\"line_width\":5,\"x\":{\"field\":\"x\"},\"y\":{\"field\":\"y\"}},\"id\":\"8ddd9bb0-3594-45d8-af46-d4bce77a43e3\",\"type\":\"Line\"},{\"attributes\":{\"source\":{\"id\":\"9ff40bc1-dbc2-460c-8720-c61a4984b63b\",\"type\":\"ColumnDataSource\"}},\"id\":\"80f746ec-6752-4745-9b8b-fa68f53fde46\",\"type\":\"CDSView\"},{\"attributes\":{\"callback\":null,\"end\":0.127956303134,\"start\":-0.006296926534},\"id\":\"c408103a-ee6c-460a-aa45-6282eec651ef\",\"type\":\"Range1d\"},{\"attributes\":{\"fill_alpha\":{\"value\":0.7},\"fill_color\":{\"value\":\"#984ea3\"},\"line_alpha\":{\"value\":0.7},\"line_color\":{\"value\":\"#984ea3\"},\"x\":{\"field\":\"x\"},\"y\":{\"field\":\"y\"}},\"id\":\"6522d9f4-5ab2-4448-8079-1d44e4ff8c57\",\"type\":\"Circle\"},{\"attributes\":{\"line_color\":\"#4daf4a\",\"line_width\":1.5,\"x\":{\"field\":\"x\"},\"y\":{\"field\":\"y\"}},\"id\":\"6216b7b0-437b-42c7-ad91-ea5fffc660e4\",\"type\":\"Line\"},{\"attributes\":{\"items\":[{\"id\":\"1a62246b-d475-4a7b-b804-15ae166857c4\",\"type\":\"LegendItem\"},{\"id\":\"42c15974-1e42-4104-ab65-0223f27585fe\",\"type\":\"LegendItem\"}],\"label_text_font_size\":{\"value\":\"8pt\"},\"location\":\"top_center\",\"orientation\":\"horizontal\",\"plot\":{\"id\":\"1ced28c3-1b4e-434a-91d3-0bd844f19732\",\"subtype\":\"Figure\",\"type\":\"Plot\"}},\"id\":\"dfaea4b5-4f0c-4918-8eb3-eab39a951a26\",\"type\":\"Legend\"},{\"attributes\":{\"callback\":null,\"data\":{\"x\":{\"__ndarray__\":\"sr7egysue78+aUBu02Bxv8BmUNKbCE0/ApTUhFN4ej8mdBqPuX6JP2HQk3VfUpM/VnKVeA5Wmj99xeGnDemgP58SiaI956Q/2sHm7gMoqT9pbOevG6ytPwb0DixROrE/EeDqvGq+sz8cTJW4Jg62PxAEI4ok1bc/mxVZhMVVuT9YYGp5Vc+6P/+587oBQ7w/rnskWC6xvT9WeF3gbiC/PyKUMR2+NcA/VKFPHvVbvj88l6dIxUy4P1AYpkzwIbI/RFBEpWJ6qj//Zujz3/CiP5ivAQiVfJo/VJ6TspI8kz/7VyeGo22PP8Zazi2F44o/nLev2GYwhj9mzrjBsEKBP2kecIurtX0/oNYuWnlqfj8G4DUlZmh+P93iBimkr3w/c0OBOaxTeT9z29z8Ax5zP5IaJ7TWn2Y/OMiBJiRDTj+QnqVR6AhOv6nUQssuH2e/fHhTKEvoc78ejSqMqBt9v8YgeQO8QoO/D969XpeehL8ASeS8cMCAv+3OllAamnW/ZUtr4AJhY78wzzvBAoBBP2Im8E6HXGw/AaV/ExNeej/1OkF/aGKDP1z4oVkwrYk/6DLyx+YCkD/FFW614i2TP34KOK48TZY/yLB7DAVVmT9wfU79YDmcP4YNWyIz8Z4/0M9BiEW7oD82JWiy0OWhPw9E9Vr5+qI/avrGuUj/oz9Mgdn4pPekP9Rla1yD56U/KW2Qmo3Npj9mIRv3z5unP0Lpoz1yLKg/IAyIhWRFqD/G9bCWicKnPyYWVvxvvaY/ZU55b2pypT+/D8AzxQ+kP6iFxbpOqaI/\",\"dtype\":\"float64\",\"shape\":[75]},\"y\":{\"__ndarray__\":\"GhExyth1ND/Sv8nbtpRIP2vylNV0PVE/aTum7souWD/At0SJ8fVgPw3Iuahxymc/MSNhhJWvcD/bTfBN02d3P2zb5nxnaoA/CD5h5MAGhz8NmeH1TyaQP+zrCsc9p5Y/LbKd76fGnz/bLW5ISEmmPww9YvTcQq8/JV2OstnstT8Er5Y7M8G+P0c+r3jqkcU/5h99k6ZBzj88bCIzFzjVP4enV8oyxN0//yH99nXg5D8qOpLLf0jtP5kqGJXUifQ/c9cS8kHP/D+/DpwzojQEQIEmwoanVwxA4lgXt9HgE0BSSZ2AJuIbQAMJih9jjiNA5q4l5INuK0AwTKYKRj0zQNv5fmq8/DpAaCJseHrtQkB/+zpwzoxKQM3MzMzMeFJAZmZmZmZqWEAAAAAAAFxeQM3MzMzMJmJAmpmZmZkfZUBmZmZmZhhoQDMzMzMzEWtAAAAAAAAKbkBmZmZmZoFwQM3MzMzM/XFAMzMzMzN6c0CamZmZmfZ0QAAAAAAAc3ZAZmZmZmbvd0DNzMzMzGt5QDMzMzMz6HpAmpmZmZlkfEAAAAAAAOF9QGZmZmZmXX9AZmZmZuZsgECamZmZGSuBQM3MzMxM6YFAAAAAAICngkAzMzMzs2WDQGZmZmbmI4RAmpmZmRnihEDNzMzMTKCFQAAAAACAXoZAMzMzM7Mch0BmZmZm5tqHQJqZmZkZmYhAzczMzExXiUAAAAAAgBWKQDMzMzOz04pAZmZmZuaRi0CamZmZGVCMQM3MzMxMDo1AAAAAAIDMjUAzMzMzs4qOQGZmZmbmSI9A\",\"dtype\":\"float64\",\"shape\":[75]}},\"selected\":{\"id\":\"e15adc23-bc15-4dc9-af7c-6e79e8dfb116\",\"type\":\"Selection\"},\"selection_policy\":{\"id\":\"d61917e5-66d5-4c67-a9b2-b2256621760c\",\"type\":\"UnionRenderers\"}},\"id\":\"13edef3c-916b-4ac1-a06f-e6c3e7efd8b7\",\"type\":\"ColumnDataSource\"},{\"attributes\":{\"source\":{\"id\":\"0ba12a96-9390-4154-a6ca-c6fe709d1ea4\",\"type\":\"ColumnDataSource\"}},\"id\":\"598fb743-ba9d-4f7b-afaf-1e04839c548a\",\"type\":\"CDSView\"},{\"attributes\":{},\"id\":\"75b203d6-7a74-49e1-aa85-546891d4179b\",\"type\":\"UnionRenderers\"},{\"attributes\":{\"above\":[{\"id\":\"d7470726-12bf-4815-84cb-9c1ca9684be7\",\"type\":\"Legend\"}],\"below\":[{\"id\":\"a3b35602-e461-4e4e-b33d-4125f09bf7f6\",\"type\":\"LinearAxis\"}],\"left\":[{\"id\":\"774abea2-0702-40d4-b8df-b94d0c3a3887\",\"type\":\"LogAxis\"}],\"plot_width\":300,\"renderers\":[{\"id\":\"a3b35602-e461-4e4e-b33d-4125f09bf7f6\",\"type\":\"LinearAxis\"},{\"id\":\"af9cb8a9-2591-458f-b232-484c69fa9021\",\"type\":\"Grid\"},{\"id\":\"774abea2-0702-40d4-b8df-b94d0c3a3887\",\"type\":\"LogAxis\"},{\"id\":\"61cae361-9cf0-47b0-86e0-e498282f56b8\",\"type\":\"Grid\"},{\"id\":\"f4a6b5dc-f938-4746-b7ad-dc13275aca04\",\"type\":\"BoxAnnotation\"},{\"id\":\"12d388a5-9fc1-4339-bf08-f16316f5c405\",\"type\":\"GlyphRenderer\"},{\"id\":\"7372fde0-ae3e-402c-b2cf-2cce39e8635c\",\"type\":\"GlyphRenderer\"},{\"id\":\"d7470726-12bf-4815-84cb-9c1ca9684be7\",\"type\":\"Legend\"}],\"title\":{\"id\":\"68a77ee8-9979-4a6f-bc9a-7e035d4b483d\",\"type\":\"Title\"},\"toolbar\":{\"id\":\"d38c3ee1-fc77-4b5c-8109-430da0d9d4a0\",\"type\":\"Toolbar\"},\"toolbar_location\":null,\"x_range\":{\"id\":\"3b420184-b068-43dc-b9dd-eef7f74534ff\",\"type\":\"Range1d\"},\"x_scale\":{\"id\":\"7a65ee6d-b993-44e6-baea-1db7f12d6962\",\"type\":\"LinearScale\"},\"y_range\":{\"id\":\"476edee1-b1aa-49fd-96d5-6e647ac71cad\",\"type\":\"Range1d\"},\"y_scale\":{\"id\":\"b23a7c08-89d0-4f56-8b24-14eb0eabd68c\",\"type\":\"LogScale\"}},\"id\":\"88d163af-80d5-4fd8-9243-4f9d706b2fb9\",\"subtype\":\"Figure\",\"type\":\"Plot\"},{\"attributes\":{\"plot\":null,\"text\":\"\"},\"id\":\"eb119dd8-40ca-4f4e-afeb-0d14d8ca20eb\",\"type\":\"Title\"},{\"attributes\":{\"source\":{\"id\":\"13edef3c-916b-4ac1-a06f-e6c3e7efd8b7\",\"type\":\"ColumnDataSource\"}},\"id\":\"fd7aabed-ae9d-40d0-b192-a29ed984fbb0\",\"type\":\"CDSView\"},{\"attributes\":{\"active_drag\":\"auto\",\"active_inspect\":\"auto\",\"active_scroll\":\"auto\",\"active_tap\":\"auto\",\"tools\":[{\"id\":\"4d4973dc-4802-437c-8b9d-79404817e950\",\"type\":\"PanTool\"},{\"id\":\"f4eae992-ee41-4011-868e-66aeeab7a174\",\"type\":\"WheelZoomTool\"},{\"id\":\"e45a822c-a80c-467f-a55f-49c76b5f3c22\",\"type\":\"BoxZoomTool\"},{\"id\":\"c025641a-9e66-4ecb-b50c-30b8776842ae\",\"type\":\"SaveTool\"},{\"id\":\"8db0d354-74da-4b4f-9517-77c82b9f2801\",\"type\":\"ResetTool\"},{\"id\":\"4850a5d6-cadb-4888-88e5-53e4f5eedd78\",\"type\":\"HelpTool\"}]},\"id\":\"168e481c-8be5-4b90-b8be-9208ff962df1\",\"type\":\"Toolbar\"},{\"attributes\":{\"children\":[{\"id\":\"1ced28c3-1b4e-434a-91d3-0bd844f19732\",\"subtype\":\"Figure\",\"type\":\"Plot\"},{\"id\":\"3eaf479e-5e2a-49c6-a51e-1bc0756084a8\",\"subtype\":\"Figure\",\"type\":\"Plot\"},{\"id\":\"88d163af-80d5-4fd8-9243-4f9d706b2fb9\",\"subtype\":\"Figure\",\"type\":\"Plot\"}]},\"id\":\"456ee5c4-e1b4-4080-bc3c-f44d2e5b2dbd\",\"type\":\"Row\"},{\"attributes\":{\"axis_label\":\"cooling rate [K/day]\",\"formatter\":{\"id\":\"cd402242-17ec-4b29-acf9-2fed7821e622\",\"type\":\"BasicTickFormatter\"},\"plot\":{\"id\":\"88d163af-80d5-4fd8-9243-4f9d706b2fb9\",\"subtype\":\"Figure\",\"type\":\"Plot\"},\"ticker\":{\"id\":\"9047c1e0-537b-46ec-8946-79dd9f291308\",\"type\":\"BasicTicker\"}},\"id\":\"a3b35602-e461-4e4e-b33d-4125f09bf7f6\",\"type\":\"LinearAxis\"},{\"attributes\":{\"active_drag\":\"auto\",\"active_inspect\":\"auto\",\"active_scroll\":\"auto\",\"active_tap\":\"auto\",\"tools\":[{\"id\":\"3a871e08-34cd-418a-80db-3578d6002eb9\",\"type\":\"PanTool\"},{\"id\":\"0d9d9292-0db2-46a1-ad90-72c5abac4069\",\"type\":\"WheelZoomTool\"},{\"id\":\"a6db0d0f-cac7-4199-bcd5-a797d087471f\",\"type\":\"BoxZoomTool\"},{\"id\":\"73c970f5-ea59-4624-991f-93d231d4a3b8\",\"type\":\"SaveTool\"},{\"id\":\"abebd5ba-020d-4451-aecf-eb27e874f89a\",\"type\":\"ResetTool\"},{\"id\":\"a4da4fa2-6cfe-4a8f-ab3f-05f0de6f116a\",\"type\":\"HelpTool\"}]},\"id\":\"d38c3ee1-fc77-4b5c-8109-430da0d9d4a0\",\"type\":\"Toolbar\"},{\"attributes\":{},\"id\":\"94030c68-2323-4c68-a1a9-034c7c67df54\",\"type\":\"Selection\"},{\"attributes\":{\"line_alpha\":0.1,\"line_color\":\"#1f77b4\",\"line_dash\":[6],\"line_width\":5,\"x\":{\"field\":\"x\"},\"y\":{\"field\":\"y\"}},\"id\":\"1eba547f-dfb7-4862-8beb-8e97c2b31ef0\",\"type\":\"Line\"},{\"attributes\":{\"callback\":null,\"data\":{\"x\":{\"__ndarray__\":\"OAtjYmbskz/5fNO+ee2SPxSHZK8UVZE/0qoKFMe2jj8ak4EpanyKP2wfGgdF74U/+p1pK7YOgT844oTjJNZ3P8j79zS12Wk/AIplyOugNj8gS71GSUplvwhw7baeMHe/nBO4yzcIgr90nEdqRquHv5joP+CLc4u/CCckl9QQjr8mSwKuDRCQvwDqWVLmzZC/BJOJmGhJkb/I/qoKqpmRv8yU/15EupG/jGN+6i8mi78Y7NpsGWFzv2CGsi9a+WU/fPmEiZLSfD8rfIzYeMeBP5ik+NBz/4A/AgvudNheej8KcfNgZxdvP7Q/WATGjFU/OOEooOwcRL/eruGoXF5ev5Qh3RrylGa/Cqp8xvs1bb8ARAyIiNNwv6yFYdkvTHK/Yi75hw8pc7+GyCVAeg1zv7jCS1EmZXK/JWwxXPqncb+O8QJgjKVwv9KBGY2kb26/vH4rU3hCar8QoMXsijRkv58p666sO1i/6j2FcJAfSb/2uY6N0dVFv9C2saSfGka/HLqTuQVMQb+Q83lO/M0yvwDU9VgpLta+HJs+2yRvMj/vEZJzxBRDP1y1FGfALUw/QEacGpwLUj+A/1I9k6FVP9gsn5F64lg/6NAoSxfcWz+4cS0bHHNePyx6/W9DkWA/CEMNdCe3YT9Q1IBxC75iP4DhIc67mGM/ULOyECwtZD/QGNS0FFtkP8ieh/78A2Q/GJYv/YX9Yj8Y62Ul94VhP7CEMrA1K2A/qHAJ9TF1YD+AhaerycBiP4jDp63PpGY/CHpN2hd6az/Mwiog5Q5wP6QCi7zfenI/\",\"dtype\":\"float64\",\"shape\":[75]},\"y\":{\"__ndarray__\":\"GhExyth1ND/Sv8nbtpRIP2vylNV0PVE/aTum7souWD/At0SJ8fVgPw3Iuahxymc/MSNhhJWvcD/bTfBN02d3P2zb5nxnaoA/CD5h5MAGhz8NmeH1TyaQP+zrCsc9p5Y/LbKd76fGnz/bLW5ISEmmPww9YvTcQq8/JV2OstnstT8Er5Y7M8G+P0c+r3jqkcU/5h99k6ZBzj88bCIzFzjVP4enV8oyxN0//yH99nXg5D8qOpLLf0jtP5kqGJXUifQ/c9cS8kHP/D+/DpwzojQEQIEmwoanVwxA4lgXt9HgE0BSSZ2AJuIbQAMJih9jjiNA5q4l5INuK0AwTKYKRj0zQNv5fmq8/DpAaCJseHrtQkB/+zpwzoxKQM3MzMzMeFJAZmZmZmZqWEAAAAAAAFxeQM3MzMzMJmJAmpmZmZkfZUBmZmZmZhhoQDMzMzMzEWtAAAAAAAAKbkBmZmZmZoFwQM3MzMzM/XFAMzMzMzN6c0CamZmZmfZ0QAAAAAAAc3ZAZmZmZmbvd0DNzMzMzGt5QDMzMzMz6HpAmpmZmZlkfEAAAAAAAOF9QGZmZmZmXX9AZmZmZuZsgECamZmZGSuBQM3MzMxM6YFAAAAAAICngkAzMzMzs2WDQGZmZmbmI4RAmpmZmRnihEDNzMzMTKCFQAAAAACAXoZAMzMzM7Mch0BmZmZm5tqHQJqZmZkZmYhAzczMzExXiUAAAAAAgBWKQDMzMzOz04pAZmZmZuaRi0CamZmZGVCMQM3MzMxMDo1AAAAAAIDMjUAzMzMzs4qOQGZmZmbmSI9A\",\"dtype\":\"float64\",\"shape\":[75]}},\"selected\":{\"id\":\"f6723ecb-4c59-44c6-80e9-afa9b7a1fe9c\",\"type\":\"Selection\"},\"selection_policy\":{\"id\":\"a86c295b-559f-4559-b42b-86d31d2c07a2\",\"type\":\"UnionRenderers\"}},\"id\":\"e795cdc7-7c3a-4a50-aaa8-78f56fec86c2\",\"type\":\"ColumnDataSource\"},{\"attributes\":{\"children\":[{\"id\":\"456ee5c4-e1b4-4080-bc3c-f44d2e5b2dbd\",\"type\":\"Row\"}]},\"id\":\"b6f9616a-e28c-4d84-b7e4-778da12c649c\",\"type\":\"Column\"},{\"attributes\":{\"label\":{\"value\":\"CLIRAD - CRD\"},\"renderers\":[{\"id\":\"12d388a5-9fc1-4339-bf08-f16316f5c405\",\"type\":\"GlyphRenderer\"},{\"id\":\"7372fde0-ae3e-402c-b2cf-2cce39e8635c\",\"type\":\"GlyphRenderer\"}]},\"id\":\"988c7fdb-09e7-41bc-95ef-9c5b87809745\",\"type\":\"LegendItem\"}],\"root_ids\":[\"d83cdbd6-5dc5-4ca1-b64a-6a7a8311b0b6\"]},\"title\":\"Bokeh Application\",\"version\":\"0.12.16\"}};\n",
       "  var render_items = [{\"docid\":\"e700b8b5-1576-40d0-8a27-6207ffbae994\",\"elementid\":\"98f45e0a-4bc9-45fe-81e6-292fc25d95d5\",\"modelid\":\"d83cdbd6-5dc5-4ca1-b64a-6a7a8311b0b6\"}];\n",
       "  root.Bokeh.embed.embed_items_notebook(docs_json, render_items);\n",
       "\n",
       "  }\n",
       "  if (root.Bokeh !== undefined) {\n",
       "    embed_document(root);\n",
       "  } else {\n",
       "    var attempts = 0;\n",
       "    var timer = setInterval(function(root) {\n",
       "      if (root.Bokeh !== undefined) {\n",
       "        embed_document(root);\n",
       "        clearInterval(timer);\n",
       "      }\n",
       "      attempts++;\n",
       "      if (attempts > 100) {\n",
       "        console.log(\"Bokeh: ERROR: Unable to run BokehJS code because BokehJS library is missing\")\n",
       "        clearInterval(timer);\n",
       "      }\n",
       "    }, 10, root)\n",
       "  }\n",
       "})(window);"
      ],
      "application/vnd.bokehjs_exec.v0+json": ""
     },
     "metadata": {
      "application/vnd.bokehjs_exec.v0+json": {
       "id": "d83cdbd6-5dc5-4ca1-b64a-6a7a8311b0b6"
      }
     },
     "output_type": "display_data"
    },
    {
     "data": {
      "text/markdown": [
       "*FIGURE.* Cooling rates & difference."
      ],
      "text/plain": [
       "<IPython.core.display.Markdown object>"
      ]
     },
     "metadata": {},
     "output_type": "display_data"
    },
    {
     "data": {
      "text/html": [
       "<a id=\"Fluxes._saw.\"></a>"
      ],
      "text/plain": [
       "<IPython.core.display.HTML object>"
      ]
     },
     "metadata": {},
     "output_type": "display_data"
    },
    {
     "data": {
      "text/markdown": [
       "# Fluxes. saw."
      ],
      "text/plain": [
       "<IPython.core.display.Markdown object>"
      ]
     },
     "metadata": {},
     "output_type": "display_data"
    },
    {
     "data": {
      "text/html": [
       "\n",
       "<div class=\"bk-root\">\n",
       "    <div class=\"bk-plotdiv\" id=\"307daed2-59ac-4c60-8a7c-2a9e4b86d0c5\"></div>\n",
       "</div>"
      ]
     },
     "metadata": {},
     "output_type": "display_data"
    },
    {
     "data": {
      "application/javascript": [
       "(function(root) {\n",
       "  function embed_document(root) {\n",
       "    \n",
       "  var docs_json = {\"2f52ebce-687f-40ed-a6ae-50aafff38ae1\":{\"roots\":{\"references\":[{\"attributes\":{\"children\":[{\"id\":\"f4f75b07-bbbe-4fed-9cf9-39e49b887ebd\",\"type\":\"ToolbarBox\"},{\"id\":\"3fc57575-0e73-415b-a0ef-bf66b44034de\",\"type\":\"Column\"}]},\"id\":\"d89bbf61-3992-4495-a714-3c474b833939\",\"type\":\"Column\"},{\"attributes\":{\"active_drag\":\"auto\",\"active_inspect\":\"auto\",\"active_scroll\":\"auto\",\"active_tap\":\"auto\",\"tools\":[{\"id\":\"8c4935b9-656f-4c9e-afd4-8a7b1c447d56\",\"type\":\"PanTool\"},{\"id\":\"7bcf38b8-3dbb-4ce5-b845-c9bdc9f2281f\",\"type\":\"WheelZoomTool\"},{\"id\":\"0255cbb4-c003-4552-a48b-6232117b9630\",\"type\":\"BoxZoomTool\"},{\"id\":\"27cb6960-1750-4a6c-befc-1c31962011a9\",\"type\":\"SaveTool\"},{\"id\":\"0a57afb7-ab1b-42b4-ae8a-03cc64a6bbc4\",\"type\":\"ResetTool\"},{\"id\":\"38a3d0a4-9dd0-4b76-887c-0f1738e07432\",\"type\":\"HelpTool\"}]},\"id\":\"49389eaa-fd0f-4f71-b7d1-55111bd48c5c\",\"type\":\"Toolbar\"},{\"attributes\":{\"data_source\":{\"id\":\"5f4dd75f-242e-4725-b185-958bb65ea91c\",\"type\":\"ColumnDataSource\"},\"glyph\":{\"id\":\"0d41f5ef-bd9a-4caf-8b75-56e9e26c2d9f\",\"type\":\"VBar\"},\"hover_glyph\":null,\"muted_glyph\":null,\"nonselection_glyph\":{\"id\":\"1accee63-4d30-4ee4-ad4f-e9e12368f9c1\",\"type\":\"VBar\"},\"selection_glyph\":null,\"view\":{\"id\":\"2595b610-a060-48d3-b2df-91c2ed5b77d5\",\"type\":\"CDSView\"}},\"id\":\"0dd16a3e-2747-4712-b110-ff5bd8189841\",\"type\":\"GlyphRenderer\"},{\"attributes\":{\"below\":[{\"id\":\"904ba597-2008-4006-97f6-0813460db027\",\"type\":\"CategoricalAxis\"}],\"left\":[{\"id\":\"df4de377-100d-4d44-8cfa-8809d95b7596\",\"type\":\"LinearAxis\"}],\"plot_height\":300,\"plot_width\":300,\"renderers\":[{\"id\":\"904ba597-2008-4006-97f6-0813460db027\",\"type\":\"CategoricalAxis\"},{\"id\":\"d28b1d95-2c6f-43eb-83e8-2386a26a7ccc\",\"type\":\"Grid\"},{\"id\":\"df4de377-100d-4d44-8cfa-8809d95b7596\",\"type\":\"LinearAxis\"},{\"id\":\"552ecb54-a6c6-461d-a923-12294935dd99\",\"type\":\"Grid\"},{\"id\":\"22c18b39-27db-414f-a706-056545dc2383\",\"type\":\"BoxAnnotation\"},{\"id\":\"0dd16a3e-2747-4712-b110-ff5bd8189841\",\"type\":\"GlyphRenderer\"}],\"title\":{\"id\":\"b8f9a548-df28-45f5-8281-f49ce5888502\",\"type\":\"Title\"},\"toolbar\":{\"id\":\"49389eaa-fd0f-4f71-b7d1-55111bd48c5c\",\"type\":\"Toolbar\"},\"toolbar_location\":null,\"x_range\":{\"id\":\"e953924a-6286-4230-959b-8aec2cb84bf4\",\"type\":\"FactorRange\"},\"x_scale\":{\"id\":\"7e2b0e61-2887-4e02-9413-7d3ed347534e\",\"type\":\"CategoricalScale\"},\"y_range\":{\"id\":\"628389f5-85f7-4605-a9b0-1dd8fb408aa5\",\"type\":\"DataRange1d\"},\"y_scale\":{\"id\":\"1a557050-5c4a-4965-8851-4fd0dcab1e76\",\"type\":\"LinearScale\"}},\"id\":\"126d6269-864e-47b5-8c87-3c6b0cb11b02\",\"subtype\":\"Figure\",\"type\":\"Plot\"},{\"attributes\":{},\"id\":\"2dc3d865-a13f-4357-875d-ce9f85da10db\",\"type\":\"CategoricalScale\"},{\"attributes\":{\"dimension\":1,\"plot\":{\"id\":\"b4c5e407-2ec4-43f3-9db0-aba3200f3855\",\"subtype\":\"Figure\",\"type\":\"Plot\"},\"ticker\":{\"id\":\"afd6978b-edac-4aa2-a5bc-e0da2842d241\",\"type\":\"BasicTicker\"}},\"id\":\"e9113fcb-d3cd-4f90-8c8a-37ebf687366c\",\"type\":\"Grid\"},{\"attributes\":{\"callback\":null},\"id\":\"c7af5262-438c-422c-834c-cf722a1daf72\",\"type\":\"DataRange1d\"},{\"attributes\":{\"dimension\":1,\"plot\":{\"id\":\"87049d7a-b3b2-4220-bef1-33f8de6e4073\",\"subtype\":\"Figure\",\"type\":\"Plot\"},\"ticker\":{\"id\":\"19782254-f513-49db-ac1c-4de8448a2b17\",\"type\":\"BasicTicker\"}},\"id\":\"b9186389-84c2-4291-90a1-7dfe603c4974\",\"type\":\"Grid\"},{\"attributes\":{\"callback\":null,\"factors\":[\"3\",\"9\"]},\"id\":\"e953924a-6286-4230-959b-8aec2cb84bf4\",\"type\":\"FactorRange\"},{\"attributes\":{\"active_drag\":\"auto\",\"active_inspect\":\"auto\",\"active_scroll\":\"auto\",\"active_tap\":\"auto\",\"tools\":[{\"id\":\"2280f228-5ccc-4c3b-9e79-fd16242de31e\",\"type\":\"PanTool\"},{\"id\":\"ecd62433-1e8f-4ae6-9e5d-cd5d7c62d11b\",\"type\":\"WheelZoomTool\"},{\"id\":\"cc78c706-72d1-4d17-8c59-080f6a20b5ef\",\"type\":\"BoxZoomTool\"},{\"id\":\"2ba104c9-cd99-4d9e-80db-b263a5205ae6\",\"type\":\"SaveTool\"},{\"id\":\"c0f7fe44-ea38-4ace-9f92-dfa654536d6d\",\"type\":\"ResetTool\"},{\"id\":\"d929a090-cbda-4025-bc3b-756d5f9d9656\",\"type\":\"HelpTool\"}]},\"id\":\"63d32033-91d8-4b56-975a-a5fef7203778\",\"type\":\"Toolbar\"},{\"attributes\":{},\"id\":\"7bcf38b8-3dbb-4ce5-b845-c9bdc9f2281f\",\"type\":\"WheelZoomTool\"},{\"attributes\":{},\"id\":\"622f0396-0617-442b-a841-29b485d9ea46\",\"type\":\"CategoricalScale\"},{\"attributes\":{\"bottom_units\":\"screen\",\"fill_alpha\":{\"value\":0.5},\"fill_color\":{\"value\":\"lightgrey\"},\"left_units\":\"screen\",\"level\":\"overlay\",\"line_alpha\":{\"value\":1.0},\"line_color\":{\"value\":\"black\"},\"line_dash\":[4,4],\"line_width\":{\"value\":2},\"plot\":null,\"render_mode\":\"css\",\"right_units\":\"screen\",\"top_units\":\"screen\"},\"id\":\"22c18b39-27db-414f-a706-056545dc2383\",\"type\":\"BoxAnnotation\"},{\"attributes\":{\"axis_label\":\"spectral band\",\"formatter\":{\"id\":\"505d137d-6078-4e7c-9d5b-9153d787f71c\",\"type\":\"CategoricalTickFormatter\"},\"plot\":{\"id\":\"b4c5e407-2ec4-43f3-9db0-aba3200f3855\",\"subtype\":\"Figure\",\"type\":\"Plot\"},\"ticker\":{\"id\":\"0b7e1a4c-afb7-4302-aa87-fa482adfb8bb\",\"type\":\"CategoricalTicker\"}},\"id\":\"17c94ca0-afb4-4711-bf02-bf089a917e1b\",\"type\":\"CategoricalAxis\"},{\"attributes\":{\"callback\":null,\"factors\":[\"3\",\"9\"]},\"id\":\"ec99806e-a138-4885-bd79-5be5f7e99d93\",\"type\":\"FactorRange\"},{\"attributes\":{},\"id\":\"8c4935b9-656f-4c9e-afd4-8a7b1c447d56\",\"type\":\"PanTool\"},{\"attributes\":{},\"id\":\"b0829e2c-b19b-4994-9478-e6f2736f5984\",\"type\":\"ResetTool\"},{\"attributes\":{\"source\":{\"id\":\"5f4dd75f-242e-4725-b185-958bb65ea91c\",\"type\":\"ColumnDataSource\"}},\"id\":\"2595b610-a060-48d3-b2df-91c2ed5b77d5\",\"type\":\"CDSView\"},{\"attributes\":{\"overlay\":{\"id\":\"22c18b39-27db-414f-a706-056545dc2383\",\"type\":\"BoxAnnotation\"}},\"id\":\"0255cbb4-c003-4552-a48b-6232117b9630\",\"type\":\"BoxZoomTool\"},{\"attributes\":{},\"id\":\"27cb6960-1750-4a6c-befc-1c31962011a9\",\"type\":\"SaveTool\"},{\"attributes\":{\"axis_label\":\"spectral band\",\"formatter\":{\"id\":\"fb75ca6f-9876-42d3-b1fb-944f8680ea57\",\"type\":\"CategoricalTickFormatter\"},\"plot\":{\"id\":\"126d6269-864e-47b5-8c87-3c6b0cb11b02\",\"subtype\":\"Figure\",\"type\":\"Plot\"},\"ticker\":{\"id\":\"d55b3224-8feb-481d-9376-acf5d7869768\",\"type\":\"CategoricalTicker\"}},\"id\":\"904ba597-2008-4006-97f6-0813460db027\",\"type\":\"CategoricalAxis\"},{\"attributes\":{},\"id\":\"afd6978b-edac-4aa2-a5bc-e0da2842d241\",\"type\":\"BasicTicker\"},{\"attributes\":{},\"id\":\"0a57afb7-ab1b-42b4-ae8a-03cc64a6bbc4\",\"type\":\"ResetTool\"},{\"attributes\":{},\"id\":\"f42dfa1a-a206-4b6a-939a-d9b84deeb84d\",\"type\":\"WheelZoomTool\"},{\"attributes\":{\"axis_label\":\"flux (W m-2)\",\"formatter\":{\"id\":\"13aa4aa3-aca5-4347-934f-60ff6bd4dd4f\",\"type\":\"BasicTickFormatter\"},\"plot\":{\"id\":\"126d6269-864e-47b5-8c87-3c6b0cb11b02\",\"subtype\":\"Figure\",\"type\":\"Plot\"},\"ticker\":{\"id\":\"045f9e9d-4471-4f3f-bd5c-9cc8b1b29271\",\"type\":\"BasicTicker\"}},\"id\":\"df4de377-100d-4d44-8cfa-8809d95b7596\",\"type\":\"LinearAxis\"},{\"attributes\":{},\"id\":\"3741ef25-ef95-41a7-9243-dcf06cb2e261\",\"type\":\"UnionRenderers\"},{\"attributes\":{},\"id\":\"38a3d0a4-9dd0-4b76-887c-0f1738e07432\",\"type\":\"HelpTool\"},{\"attributes\":{},\"id\":\"2725e83d-5049-484b-a955-5c436a16daf2\",\"type\":\"HelpTool\"},{\"attributes\":{},\"id\":\"7e2b0e61-2887-4e02-9413-7d3ed347534e\",\"type\":\"CategoricalScale\"},{\"attributes\":{\"source\":{\"id\":\"7af8550e-7826-47c5-aab4-188fb96774b1\",\"type\":\"ColumnDataSource\"}},\"id\":\"0778ad71-e59b-44f0-9cd2-62b5f4d608b6\",\"type\":\"CDSView\"},{\"attributes\":{},\"id\":\"1a557050-5c4a-4965-8851-4fd0dcab1e76\",\"type\":\"LinearScale\"},{\"attributes\":{},\"id\":\"c0f7fe44-ea38-4ace-9f92-dfa654536d6d\",\"type\":\"ResetTool\"},{\"attributes\":{\"callback\":null},\"id\":\"628389f5-85f7-4605-a9b0-1dd8fb408aa5\",\"type\":\"DataRange1d\"},{\"attributes\":{},\"id\":\"2ba104c9-cd99-4d9e-80db-b263a5205ae6\",\"type\":\"SaveTool\"},{\"attributes\":{\"plot\":{\"id\":\"126d6269-864e-47b5-8c87-3c6b0cb11b02\",\"subtype\":\"Figure\",\"type\":\"Plot\"},\"ticker\":{\"id\":\"d55b3224-8feb-481d-9376-acf5d7869768\",\"type\":\"CategoricalTicker\"}},\"id\":\"d28b1d95-2c6f-43eb-83e8-2386a26a7ccc\",\"type\":\"Grid\"},{\"attributes\":{},\"id\":\"2bc5e3c4-5d15-472a-a12f-54bb0809a0e4\",\"type\":\"UnionRenderers\"},{\"attributes\":{\"bottom_units\":\"screen\",\"fill_alpha\":{\"value\":0.5},\"fill_color\":{\"value\":\"lightgrey\"},\"left_units\":\"screen\",\"level\":\"overlay\",\"line_alpha\":{\"value\":1.0},\"line_color\":{\"value\":\"black\"},\"line_dash\":[4,4],\"line_width\":{\"value\":2},\"plot\":null,\"render_mode\":\"css\",\"right_units\":\"screen\",\"top_units\":\"screen\"},\"id\":\"aa106d50-b1ea-45cf-9e05-b027c6a9af64\",\"type\":\"BoxAnnotation\"},{\"attributes\":{\"fill_color\":{\"value\":\"#1f77b4\"},\"line_color\":{\"value\":\"#1f77b4\"},\"top\":{\"field\":\"flux\"},\"width\":{\"value\":0.9},\"x\":{\"field\":\"band\"}},\"id\":\"0d41f5ef-bd9a-4caf-8b75-56e9e26c2d9f\",\"type\":\"VBar\"},{\"attributes\":{},\"id\":\"d929a090-cbda-4025-bc3b-756d5f9d9656\",\"type\":\"HelpTool\"},{\"attributes\":{\"callback\":null},\"id\":\"f4bda8eb-d91f-4030-b423-f274b65d4e7e\",\"type\":\"DataRange1d\"},{\"attributes\":{},\"id\":\"e732cec6-979e-4320-a974-f657594609e9\",\"type\":\"BasicTickFormatter\"},{\"attributes\":{},\"id\":\"fb75ca6f-9876-42d3-b1fb-944f8680ea57\",\"type\":\"CategoricalTickFormatter\"},{\"attributes\":{\"plot\":null,\"text\":\"SFC flux. CLIRAD - CRD.\"},\"id\":\"a6c2539b-34bf-45d3-a3e1-f95e249b3dfd\",\"type\":\"Title\"},{\"attributes\":{},\"id\":\"19782254-f513-49db-ac1c-4de8448a2b17\",\"type\":\"BasicTicker\"},{\"attributes\":{\"bottom_units\":\"screen\",\"fill_alpha\":{\"value\":0.5},\"fill_color\":{\"value\":\"lightgrey\"},\"left_units\":\"screen\",\"level\":\"overlay\",\"line_alpha\":{\"value\":1.0},\"line_color\":{\"value\":\"black\"},\"line_dash\":[4,4],\"line_width\":{\"value\":2},\"plot\":null,\"render_mode\":\"css\",\"right_units\":\"screen\",\"top_units\":\"screen\"},\"id\":\"81ff76b3-fec2-4014-96ed-7662ef2fd01e\",\"type\":\"BoxAnnotation\"},{\"attributes\":{\"plot\":null,\"text\":\"Atmosphere heating. CLIRAD - CRD.\"},\"id\":\"afd471b9-388e-489f-a8a2-624c9eb87baa\",\"type\":\"Title\"},{\"attributes\":{\"axis_label\":\"flux (W m-2)\",\"formatter\":{\"id\":\"e732cec6-979e-4320-a974-f657594609e9\",\"type\":\"BasicTickFormatter\"},\"plot\":{\"id\":\"87049d7a-b3b2-4220-bef1-33f8de6e4073\",\"subtype\":\"Figure\",\"type\":\"Plot\"},\"ticker\":{\"id\":\"19782254-f513-49db-ac1c-4de8448a2b17\",\"type\":\"BasicTicker\"}},\"id\":\"a68c2379-8fd1-4e5c-98a1-4b81480799dc\",\"type\":\"LinearAxis\"},{\"attributes\":{},\"id\":\"ecd62433-1e8f-4ae6-9e5d-cd5d7c62d11b\",\"type\":\"WheelZoomTool\"},{\"attributes\":{\"data_source\":{\"id\":\"a9459dc8-bd56-4a10-9bf4-e58c32b1f374\",\"type\":\"ColumnDataSource\"},\"glyph\":{\"id\":\"a1259c8a-93c8-41a4-b406-4c932ce7ccd5\",\"type\":\"VBar\"},\"hover_glyph\":null,\"muted_glyph\":null,\"nonselection_glyph\":{\"id\":\"96649b93-7f8f-4e69-9bf6-a98f42b2cfc9\",\"type\":\"VBar\"},\"selection_glyph\":null,\"view\":{\"id\":\"1ed48b11-6a0b-4dd4-bbb4-1544e30e773f\",\"type\":\"CDSView\"}},\"id\":\"4f38d2a2-a053-4ae6-873b-da585d2b28e7\",\"type\":\"GlyphRenderer\"},{\"attributes\":{\"overlay\":{\"id\":\"81ff76b3-fec2-4014-96ed-7662ef2fd01e\",\"type\":\"BoxAnnotation\"}},\"id\":\"cc78c706-72d1-4d17-8c59-080f6a20b5ef\",\"type\":\"BoxZoomTool\"},{\"attributes\":{},\"id\":\"13aa4aa3-aca5-4347-934f-60ff6bd4dd4f\",\"type\":\"BasicTickFormatter\"},{\"attributes\":{\"data_source\":{\"id\":\"7af8550e-7826-47c5-aab4-188fb96774b1\",\"type\":\"ColumnDataSource\"},\"glyph\":{\"id\":\"1c72f847-3366-4488-b09e-1cdb11543120\",\"type\":\"VBar\"},\"hover_glyph\":null,\"muted_glyph\":null,\"nonselection_glyph\":{\"id\":\"83015461-5f4a-41f6-bcf3-2e4d8d9eef99\",\"type\":\"VBar\"},\"selection_glyph\":null,\"view\":{\"id\":\"0778ad71-e59b-44f0-9cd2-62b5f4d608b6\",\"type\":\"CDSView\"}},\"id\":\"649ab076-f5ed-495c-9e2b-b8d9bc643bb0\",\"type\":\"GlyphRenderer\"},{\"attributes\":{},\"id\":\"c039f136-8170-4e74-baaf-6f91aae598fc\",\"type\":\"Selection\"},{\"attributes\":{},\"id\":\"f5e2e524-85d1-4242-9d34-ff7f15917e1b\",\"type\":\"CategoricalTickFormatter\"},{\"attributes\":{},\"id\":\"045f9e9d-4471-4f3f-bd5c-9cc8b1b29271\",\"type\":\"BasicTicker\"},{\"attributes\":{},\"id\":\"2280f228-5ccc-4c3b-9e79-fd16242de31e\",\"type\":\"PanTool\"},{\"attributes\":{\"fill_color\":{\"value\":\"#1f77b4\"},\"line_color\":{\"value\":\"#1f77b4\"},\"top\":{\"field\":\"flux\"},\"width\":{\"value\":0.9},\"x\":{\"field\":\"band\"}},\"id\":\"a1259c8a-93c8-41a4-b406-4c932ce7ccd5\",\"type\":\"VBar\"},{\"attributes\":{\"below\":[{\"id\":\"0b182831-ee40-4b1d-a294-802719625b48\",\"type\":\"CategoricalAxis\"}],\"left\":[{\"id\":\"a68c2379-8fd1-4e5c-98a1-4b81480799dc\",\"type\":\"LinearAxis\"}],\"plot_height\":300,\"plot_width\":300,\"renderers\":[{\"id\":\"0b182831-ee40-4b1d-a294-802719625b48\",\"type\":\"CategoricalAxis\"},{\"id\":\"c39342eb-65eb-4f26-ac1d-6464a5630b77\",\"type\":\"Grid\"},{\"id\":\"a68c2379-8fd1-4e5c-98a1-4b81480799dc\",\"type\":\"LinearAxis\"},{\"id\":\"b9186389-84c2-4291-90a1-7dfe603c4974\",\"type\":\"Grid\"},{\"id\":\"81ff76b3-fec2-4014-96ed-7662ef2fd01e\",\"type\":\"BoxAnnotation\"},{\"id\":\"649ab076-f5ed-495c-9e2b-b8d9bc643bb0\",\"type\":\"GlyphRenderer\"}],\"title\":{\"id\":\"a6c2539b-34bf-45d3-a3e1-f95e249b3dfd\",\"type\":\"Title\"},\"toolbar\":{\"id\":\"63d32033-91d8-4b56-975a-a5fef7203778\",\"type\":\"Toolbar\"},\"toolbar_location\":null,\"x_range\":{\"id\":\"ec99806e-a138-4885-bd79-5be5f7e99d93\",\"type\":\"FactorRange\"},\"x_scale\":{\"id\":\"2dc3d865-a13f-4357-875d-ce9f85da10db\",\"type\":\"CategoricalScale\"},\"y_range\":{\"id\":\"c7af5262-438c-422c-834c-cf722a1daf72\",\"type\":\"DataRange1d\"},\"y_scale\":{\"id\":\"f2febfee-3a4e-4eac-8b5c-eac1a10cc1bc\",\"type\":\"LinearScale\"}},\"id\":\"87049d7a-b3b2-4220-bef1-33f8de6e4073\",\"subtype\":\"Figure\",\"type\":\"Plot\"},{\"attributes\":{\"fill_color\":{\"value\":\"#1f77b4\"},\"line_color\":{\"value\":\"#1f77b4\"},\"top\":{\"field\":\"flux\"},\"width\":{\"value\":0.9},\"x\":{\"field\":\"band\"}},\"id\":\"1c72f847-3366-4488-b09e-1cdb11543120\",\"type\":\"VBar\"},{\"attributes\":{\"active_drag\":\"auto\",\"active_inspect\":\"auto\",\"active_scroll\":\"auto\",\"active_tap\":\"auto\",\"tools\":[{\"id\":\"0ffa4124-9227-4019-b96c-acf797a01d21\",\"type\":\"PanTool\"},{\"id\":\"f42dfa1a-a206-4b6a-939a-d9b84deeb84d\",\"type\":\"WheelZoomTool\"},{\"id\":\"b086ea3d-45fa-43c6-b545-a4fac8422975\",\"type\":\"BoxZoomTool\"},{\"id\":\"86ce9e28-27f6-413b-b4d6-6dd950338a65\",\"type\":\"SaveTool\"},{\"id\":\"b0829e2c-b19b-4994-9478-e6f2736f5984\",\"type\":\"ResetTool\"},{\"id\":\"2725e83d-5049-484b-a955-5c436a16daf2\",\"type\":\"HelpTool\"}]},\"id\":\"0a4d94fe-3408-4dc5-9da9-f056653df52e\",\"type\":\"Toolbar\"},{\"attributes\":{\"fill_alpha\":{\"value\":0.1},\"fill_color\":{\"value\":\"#1f77b4\"},\"line_alpha\":{\"value\":0.1},\"line_color\":{\"value\":\"#1f77b4\"},\"top\":{\"field\":\"flux\"},\"width\":{\"value\":0.9},\"x\":{\"field\":\"band\"}},\"id\":\"83015461-5f4a-41f6-bcf3-2e4d8d9eef99\",\"type\":\"VBar\"},{\"attributes\":{\"fill_alpha\":{\"value\":0.1},\"fill_color\":{\"value\":\"#1f77b4\"},\"line_alpha\":{\"value\":0.1},\"line_color\":{\"value\":\"#1f77b4\"},\"top\":{\"field\":\"flux\"},\"width\":{\"value\":0.9},\"x\":{\"field\":\"band\"}},\"id\":\"96649b93-7f8f-4e69-9bf6-a98f42b2cfc9\",\"type\":\"VBar\"},{\"attributes\":{\"overlay\":{\"id\":\"aa106d50-b1ea-45cf-9e05-b027c6a9af64\",\"type\":\"BoxAnnotation\"}},\"id\":\"b086ea3d-45fa-43c6-b545-a4fac8422975\",\"type\":\"BoxZoomTool\"},{\"attributes\":{\"callback\":null,\"data\":{\"band\":[\"3\",\"9\"],\"flux\":{\"__ndarray__\":\"APQBSG3ilL8AVn4ZjBGpPw==\",\"dtype\":\"float64\",\"shape\":[2]}},\"selected\":{\"id\":\"f417ac99-1eff-4ad6-a2ae-54d088afbde8\",\"type\":\"Selection\"},\"selection_policy\":{\"id\":\"2bc5e3c4-5d15-472a-a12f-54bb0809a0e4\",\"type\":\"UnionRenderers\"}},\"id\":\"5f4dd75f-242e-4725-b185-958bb65ea91c\",\"type\":\"ColumnDataSource\"},{\"attributes\":{},\"id\":\"0ffa4124-9227-4019-b96c-acf797a01d21\",\"type\":\"PanTool\"},{\"attributes\":{},\"id\":\"505d137d-6078-4e7c-9d5b-9153d787f71c\",\"type\":\"CategoricalTickFormatter\"},{\"attributes\":{\"callback\":null,\"data\":{\"band\":[\"3\",\"9\"],\"flux\":{\"__ndarray__\":\"gCtn74y2kj+AAFMGDmiZPw==\",\"dtype\":\"float64\",\"shape\":[2]}},\"selected\":{\"id\":\"878da4d1-1453-4f95-a189-66c54343a3f1\",\"type\":\"Selection\"},\"selection_policy\":{\"id\":\"6b7b6fe7-b9e1-44e2-bec8-8cfcbbc7f579\",\"type\":\"UnionRenderers\"}},\"id\":\"7af8550e-7826-47c5-aab4-188fb96774b1\",\"type\":\"ColumnDataSource\"},{\"attributes\":{\"children\":[{\"id\":\"a00f6b96-c838-43e2-857f-a17d6809d509\",\"type\":\"Row\"}]},\"id\":\"3fc57575-0e73-415b-a0ef-bf66b44034de\",\"type\":\"Column\"},{\"attributes\":{},\"id\":\"f2febfee-3a4e-4eac-8b5c-eac1a10cc1bc\",\"type\":\"LinearScale\"},{\"attributes\":{},\"id\":\"4497d7be-04b6-4ac0-9372-ecafb50d7b5a\",\"type\":\"CategoricalTicker\"},{\"attributes\":{\"plot\":{\"id\":\"b4c5e407-2ec4-43f3-9db0-aba3200f3855\",\"subtype\":\"Figure\",\"type\":\"Plot\"},\"ticker\":{\"id\":\"0b7e1a4c-afb7-4302-aa87-fa482adfb8bb\",\"type\":\"CategoricalTicker\"}},\"id\":\"077c5451-032a-408e-9a19-6bbccc3ea2d7\",\"type\":\"Grid\"},{\"attributes\":{},\"id\":\"0b7e1a4c-afb7-4302-aa87-fa482adfb8bb\",\"type\":\"CategoricalTicker\"},{\"attributes\":{\"callback\":null,\"data\":{\"band\":[\"3\",\"9\"],\"flux\":{\"__ndarray__\":\"AGzeOCnMo78AXbDA/LqYPw==\",\"dtype\":\"float64\",\"shape\":[2]}},\"selected\":{\"id\":\"c039f136-8170-4e74-baaf-6f91aae598fc\",\"type\":\"Selection\"},\"selection_policy\":{\"id\":\"3741ef25-ef95-41a7-9243-dcf06cb2e261\",\"type\":\"UnionRenderers\"}},\"id\":\"a9459dc8-bd56-4a10-9bf4-e58c32b1f374\",\"type\":\"ColumnDataSource\"},{\"attributes\":{},\"id\":\"878da4d1-1453-4f95-a189-66c54343a3f1\",\"type\":\"Selection\"},{\"attributes\":{\"callback\":null,\"factors\":[\"3\",\"9\"]},\"id\":\"3c17d7d7-609b-45d3-b3e7-c0c9006ab497\",\"type\":\"FactorRange\"},{\"attributes\":{\"plot\":{\"id\":\"87049d7a-b3b2-4220-bef1-33f8de6e4073\",\"subtype\":\"Figure\",\"type\":\"Plot\"},\"ticker\":{\"id\":\"4497d7be-04b6-4ac0-9372-ecafb50d7b5a\",\"type\":\"CategoricalTicker\"}},\"id\":\"c39342eb-65eb-4f26-ac1d-6464a5630b77\",\"type\":\"Grid\"},{\"attributes\":{\"below\":[{\"id\":\"17c94ca0-afb4-4711-bf02-bf089a917e1b\",\"type\":\"CategoricalAxis\"}],\"left\":[{\"id\":\"9fd395ff-444e-4531-828f-dfbf93ef0bba\",\"type\":\"LinearAxis\"}],\"plot_height\":300,\"plot_width\":300,\"renderers\":[{\"id\":\"17c94ca0-afb4-4711-bf02-bf089a917e1b\",\"type\":\"CategoricalAxis\"},{\"id\":\"077c5451-032a-408e-9a19-6bbccc3ea2d7\",\"type\":\"Grid\"},{\"id\":\"9fd395ff-444e-4531-828f-dfbf93ef0bba\",\"type\":\"LinearAxis\"},{\"id\":\"e9113fcb-d3cd-4f90-8c8a-37ebf687366c\",\"type\":\"Grid\"},{\"id\":\"aa106d50-b1ea-45cf-9e05-b027c6a9af64\",\"type\":\"BoxAnnotation\"},{\"id\":\"4f38d2a2-a053-4ae6-873b-da585d2b28e7\",\"type\":\"GlyphRenderer\"}],\"title\":{\"id\":\"afd471b9-388e-489f-a8a2-624c9eb87baa\",\"type\":\"Title\"},\"toolbar\":{\"id\":\"0a4d94fe-3408-4dc5-9da9-f056653df52e\",\"type\":\"Toolbar\"},\"toolbar_location\":null,\"x_range\":{\"id\":\"3c17d7d7-609b-45d3-b3e7-c0c9006ab497\",\"type\":\"FactorRange\"},\"x_scale\":{\"id\":\"622f0396-0617-442b-a841-29b485d9ea46\",\"type\":\"CategoricalScale\"},\"y_range\":{\"id\":\"f4bda8eb-d91f-4030-b423-f274b65d4e7e\",\"type\":\"DataRange1d\"},\"y_scale\":{\"id\":\"92ce62a6-afd8-445d-97e5-5f89d7aa787b\",\"type\":\"LinearScale\"}},\"id\":\"b4c5e407-2ec4-43f3-9db0-aba3200f3855\",\"subtype\":\"Figure\",\"type\":\"Plot\"},{\"attributes\":{},\"id\":\"f417ac99-1eff-4ad6-a2ae-54d088afbde8\",\"type\":\"Selection\"},{\"attributes\":{},\"id\":\"92ce62a6-afd8-445d-97e5-5f89d7aa787b\",\"type\":\"LinearScale\"},{\"attributes\":{},\"id\":\"86ce9e28-27f6-413b-b4d6-6dd950338a65\",\"type\":\"SaveTool\"},{\"attributes\":{},\"id\":\"67662b88-943d-46a3-89e3-5227e542483c\",\"type\":\"BasicTickFormatter\"},{\"attributes\":{\"tools\":[{\"id\":\"8c4935b9-656f-4c9e-afd4-8a7b1c447d56\",\"type\":\"PanTool\"},{\"id\":\"7bcf38b8-3dbb-4ce5-b845-c9bdc9f2281f\",\"type\":\"WheelZoomTool\"},{\"id\":\"0255cbb4-c003-4552-a48b-6232117b9630\",\"type\":\"BoxZoomTool\"},{\"id\":\"27cb6960-1750-4a6c-befc-1c31962011a9\",\"type\":\"SaveTool\"},{\"id\":\"0a57afb7-ab1b-42b4-ae8a-03cc64a6bbc4\",\"type\":\"ResetTool\"},{\"id\":\"38a3d0a4-9dd0-4b76-887c-0f1738e07432\",\"type\":\"HelpTool\"},{\"id\":\"2280f228-5ccc-4c3b-9e79-fd16242de31e\",\"type\":\"PanTool\"},{\"id\":\"ecd62433-1e8f-4ae6-9e5d-cd5d7c62d11b\",\"type\":\"WheelZoomTool\"},{\"id\":\"cc78c706-72d1-4d17-8c59-080f6a20b5ef\",\"type\":\"BoxZoomTool\"},{\"id\":\"2ba104c9-cd99-4d9e-80db-b263a5205ae6\",\"type\":\"SaveTool\"},{\"id\":\"c0f7fe44-ea38-4ace-9f92-dfa654536d6d\",\"type\":\"ResetTool\"},{\"id\":\"d929a090-cbda-4025-bc3b-756d5f9d9656\",\"type\":\"HelpTool\"},{\"id\":\"0ffa4124-9227-4019-b96c-acf797a01d21\",\"type\":\"PanTool\"},{\"id\":\"f42dfa1a-a206-4b6a-939a-d9b84deeb84d\",\"type\":\"WheelZoomTool\"},{\"id\":\"b086ea3d-45fa-43c6-b545-a4fac8422975\",\"type\":\"BoxZoomTool\"},{\"id\":\"86ce9e28-27f6-413b-b4d6-6dd950338a65\",\"type\":\"SaveTool\"},{\"id\":\"b0829e2c-b19b-4994-9478-e6f2736f5984\",\"type\":\"ResetTool\"},{\"id\":\"2725e83d-5049-484b-a955-5c436a16daf2\",\"type\":\"HelpTool\"}]},\"id\":\"e635f95a-0296-4b89-af2f-17f54b8d47e1\",\"type\":\"ProxyToolbar\"},{\"attributes\":{},\"id\":\"6b7b6fe7-b9e1-44e2-bec8-8cfcbbc7f579\",\"type\":\"UnionRenderers\"},{\"attributes\":{\"children\":[{\"id\":\"126d6269-864e-47b5-8c87-3c6b0cb11b02\",\"subtype\":\"Figure\",\"type\":\"Plot\"},{\"id\":\"87049d7a-b3b2-4220-bef1-33f8de6e4073\",\"subtype\":\"Figure\",\"type\":\"Plot\"},{\"id\":\"b4c5e407-2ec4-43f3-9db0-aba3200f3855\",\"subtype\":\"Figure\",\"type\":\"Plot\"}]},\"id\":\"a00f6b96-c838-43e2-857f-a17d6809d509\",\"type\":\"Row\"},{\"attributes\":{\"axis_label\":\"spectral band\",\"formatter\":{\"id\":\"f5e2e524-85d1-4242-9d34-ff7f15917e1b\",\"type\":\"CategoricalTickFormatter\"},\"plot\":{\"id\":\"87049d7a-b3b2-4220-bef1-33f8de6e4073\",\"subtype\":\"Figure\",\"type\":\"Plot\"},\"ticker\":{\"id\":\"4497d7be-04b6-4ac0-9372-ecafb50d7b5a\",\"type\":\"CategoricalTicker\"}},\"id\":\"0b182831-ee40-4b1d-a294-802719625b48\",\"type\":\"CategoricalAxis\"},{\"attributes\":{},\"id\":\"d55b3224-8feb-481d-9376-acf5d7869768\",\"type\":\"CategoricalTicker\"},{\"attributes\":{\"axis_label\":\"flux (W m-2)\",\"formatter\":{\"id\":\"67662b88-943d-46a3-89e3-5227e542483c\",\"type\":\"BasicTickFormatter\"},\"plot\":{\"id\":\"b4c5e407-2ec4-43f3-9db0-aba3200f3855\",\"subtype\":\"Figure\",\"type\":\"Plot\"},\"ticker\":{\"id\":\"afd6978b-edac-4aa2-a5bc-e0da2842d241\",\"type\":\"BasicTicker\"}},\"id\":\"9fd395ff-444e-4531-828f-dfbf93ef0bba\",\"type\":\"LinearAxis\"},{\"attributes\":{\"toolbar\":{\"id\":\"e635f95a-0296-4b89-af2f-17f54b8d47e1\",\"type\":\"ProxyToolbar\"},\"toolbar_location\":\"above\"},\"id\":\"f4f75b07-bbbe-4fed-9cf9-39e49b887ebd\",\"type\":\"ToolbarBox\"},{\"attributes\":{\"plot\":null,\"text\":\"TOA flux. CLIRAD - CRD.\"},\"id\":\"b8f9a548-df28-45f5-8281-f49ce5888502\",\"type\":\"Title\"},{\"attributes\":{\"source\":{\"id\":\"a9459dc8-bd56-4a10-9bf4-e58c32b1f374\",\"type\":\"ColumnDataSource\"}},\"id\":\"1ed48b11-6a0b-4dd4-bbb4-1544e30e773f\",\"type\":\"CDSView\"},{\"attributes\":{\"dimension\":1,\"plot\":{\"id\":\"126d6269-864e-47b5-8c87-3c6b0cb11b02\",\"subtype\":\"Figure\",\"type\":\"Plot\"},\"ticker\":{\"id\":\"045f9e9d-4471-4f3f-bd5c-9cc8b1b29271\",\"type\":\"BasicTicker\"}},\"id\":\"552ecb54-a6c6-461d-a923-12294935dd99\",\"type\":\"Grid\"},{\"attributes\":{\"fill_alpha\":{\"value\":0.1},\"fill_color\":{\"value\":\"#1f77b4\"},\"line_alpha\":{\"value\":0.1},\"line_color\":{\"value\":\"#1f77b4\"},\"top\":{\"field\":\"flux\"},\"width\":{\"value\":0.9},\"x\":{\"field\":\"band\"}},\"id\":\"1accee63-4d30-4ee4-ad4f-e9e12368f9c1\",\"type\":\"VBar\"}],\"root_ids\":[\"d89bbf61-3992-4495-a714-3c474b833939\"]},\"title\":\"Bokeh Application\",\"version\":\"0.12.16\"}};\n",
       "  var render_items = [{\"docid\":\"2f52ebce-687f-40ed-a6ae-50aafff38ae1\",\"elementid\":\"307daed2-59ac-4c60-8a7c-2a9e4b86d0c5\",\"modelid\":\"d89bbf61-3992-4495-a714-3c474b833939\"}];\n",
       "  root.Bokeh.embed.embed_items_notebook(docs_json, render_items);\n",
       "\n",
       "  }\n",
       "  if (root.Bokeh !== undefined) {\n",
       "    embed_document(root);\n",
       "  } else {\n",
       "    var attempts = 0;\n",
       "    var timer = setInterval(function(root) {\n",
       "      if (root.Bokeh !== undefined) {\n",
       "        embed_document(root);\n",
       "        clearInterval(timer);\n",
       "      }\n",
       "      attempts++;\n",
       "      if (attempts > 100) {\n",
       "        console.log(\"Bokeh: ERROR: Unable to run BokehJS code because BokehJS library is missing\")\n",
       "        clearInterval(timer);\n",
       "      }\n",
       "    }, 10, root)\n",
       "  }\n",
       "})(window);"
      ],
      "application/vnd.bokehjs_exec.v0+json": ""
     },
     "metadata": {
      "application/vnd.bokehjs_exec.v0+json": {
       "id": "d89bbf61-3992-4495-a714-3c474b833939"
      }
     },
     "output_type": "display_data"
    },
    {
     "data": {
      "text/markdown": [
       "*FIGURE.* Difference between CLIRAD and CRD in TOA, SFC and net atmosphere flux, in each spectral band."
      ],
      "text/plain": [
       "<IPython.core.display.Markdown object>"
      ]
     },
     "metadata": {},
     "output_type": "display_data"
    },
    {
     "data": {
      "text/html": [
       "<div>\n",
       "<style scoped>\n",
       "    .dataframe tbody tr th:only-of-type {\n",
       "        vertical-align: middle;\n",
       "    }\n",
       "\n",
       "    .dataframe tbody tr th {\n",
       "        vertical-align: top;\n",
       "    }\n",
       "\n",
       "    .dataframe thead th {\n",
       "        text-align: right;\n",
       "    }\n",
       "</style>\n",
       "<table border=\"1\" class=\"dataframe\">\n",
       "  <thead>\n",
       "    <tr style=\"text-align: right;\">\n",
       "      <th></th>\n",
       "      <th>OLR flux</th>\n",
       "      <th>SFC flux</th>\n",
       "      <th>ATM heating</th>\n",
       "    </tr>\n",
       "    <tr>\n",
       "      <th>Sum over bands</th>\n",
       "      <th></th>\n",
       "      <th></th>\n",
       "      <th></th>\n",
       "    </tr>\n",
       "  </thead>\n",
       "  <tbody>\n",
       "    <tr>\n",
       "      <th>CLIRAD - CRD</th>\n",
       "      <td>-214.24</td>\n",
       "      <td>0.04</td>\n",
       "      <td>-0.01</td>\n",
       "    </tr>\n",
       "    <tr>\n",
       "      <th>CRD</th>\n",
       "      <td>-31.71</td>\n",
       "      <td>3.68</td>\n",
       "      <td>-2.24</td>\n",
       "    </tr>\n",
       "  </tbody>\n",
       "</table>\n",
       "</div>"
      ],
      "text/plain": [
       "                OLR flux  SFC flux  ATM heating\n",
       "Sum over bands                                 \n",
       "CLIRAD - CRD     -214.24      0.04        -0.01\n",
       "CRD               -31.71      3.68        -2.24"
      ]
     },
     "metadata": {},
     "output_type": "display_data"
    },
    {
     "data": {
      "text/markdown": [
       "*TABLE.* Difference between CLIRAD and CRD in TOA, SFC and net atmosphere flux, over all spectral bands. CRD's TOA, SFC and net atmosphere flux, over all spectral bands."
      ],
      "text/plain": [
       "<IPython.core.display.Markdown object>"
      ]
     },
     "metadata": {},
     "output_type": "display_data"
    },
    {
     "data": {
      "text/html": [
       "<a id=\"Cooling_rates._trp.\"></a>"
      ],
      "text/plain": [
       "<IPython.core.display.HTML object>"
      ]
     },
     "metadata": {},
     "output_type": "display_data"
    },
    {
     "data": {
      "text/markdown": [
       "# Cooling rates. trp."
      ],
      "text/plain": [
       "<IPython.core.display.Markdown object>"
      ]
     },
     "metadata": {},
     "output_type": "display_data"
    },
    {
     "data": {
      "text/html": [
       "\n",
       "<div class=\"bk-root\">\n",
       "    <div class=\"bk-plotdiv\" id=\"c6e33b88-c626-4f1d-be1b-db8dbd36b036\"></div>\n",
       "</div>"
      ]
     },
     "metadata": {},
     "output_type": "display_data"
    },
    {
     "data": {
      "application/javascript": [
       "(function(root) {\n",
       "  function embed_document(root) {\n",
       "    \n",
       "  var docs_json = {\"39ad8d17-6838-4f4d-b6c7-9265bdf923cf\":{\"roots\":{\"references\":[{\"attributes\":{\"overlay\":{\"id\":\"fed198a6-d51a-420a-862e-59b0a85ce184\",\"type\":\"BoxAnnotation\"}},\"id\":\"a0bb4380-da04-437d-a449-07898b69f498\",\"type\":\"BoxZoomTool\"},{\"attributes\":{},\"id\":\"9329040c-6fdd-4d4f-9656-5d0d5f28e96c\",\"type\":\"Selection\"},{\"attributes\":{\"dimension\":1,\"plot\":{\"id\":\"6ccb0f39-fde4-4688-b637-5d2a50302992\",\"subtype\":\"Figure\",\"type\":\"Plot\"},\"ticker\":{\"id\":\"a9cc38c3-460f-4f7e-ac70-24df5a034101\",\"type\":\"LogTicker\"}},\"id\":\"22a437d4-4915-470d-b009-e91433254ffa\",\"type\":\"Grid\"},{\"attributes\":{},\"id\":\"2d37573d-11a8-4c86-b16f-7b0e26e959ca\",\"type\":\"PanTool\"},{\"attributes\":{},\"id\":\"4a7134ae-ebfe-4ef2-ae48-c8750b41becb\",\"type\":\"PanTool\"},{\"attributes\":{\"line_alpha\":0.1,\"line_color\":\"#1f77b4\",\"line_width\":1.5,\"x\":{\"field\":\"x\"},\"y\":{\"field\":\"y\"}},\"id\":\"7a703274-4d63-4df4-b5f0-64d7efd1475c\",\"type\":\"Line\"},{\"attributes\":{},\"id\":\"0af6e238-1ffe-4367-8af0-ab6b8ca88ff5\",\"type\":\"HelpTool\"},{\"attributes\":{\"bottom_units\":\"screen\",\"fill_alpha\":{\"value\":0.5},\"fill_color\":{\"value\":\"lightgrey\"},\"left_units\":\"screen\",\"level\":\"overlay\",\"line_alpha\":{\"value\":1.0},\"line_color\":{\"value\":\"black\"},\"line_dash\":[4,4],\"line_width\":{\"value\":2},\"plot\":null,\"render_mode\":\"css\",\"right_units\":\"screen\",\"top_units\":\"screen\"},\"id\":\"40ec096d-054b-4ca3-a453-1c069c08527c\",\"type\":\"BoxAnnotation\"},{\"attributes\":{\"items\":[{\"id\":\"9fe23108-01d1-4668-8c37-806b179f70a1\",\"type\":\"LegendItem\"},{\"id\":\"7b9526e6-6849-421e-a3b2-f5fc84e86553\",\"type\":\"LegendItem\"}],\"label_text_font_size\":{\"value\":\"8pt\"},\"location\":\"top_center\",\"orientation\":\"horizontal\",\"plot\":{\"id\":\"6ccb0f39-fde4-4688-b637-5d2a50302992\",\"subtype\":\"Figure\",\"type\":\"Plot\"}},\"id\":\"bb6665e1-4200-41b6-8a45-ac8935b6f42b\",\"type\":\"Legend\"},{\"attributes\":{\"source\":{\"id\":\"8cafa5d7-3d00-4844-aebd-5969c64c8a43\",\"type\":\"ColumnDataSource\"}},\"id\":\"a64a68ab-8e78-4bf5-a1aa-d592b30b9d2f\",\"type\":\"CDSView\"},{\"attributes\":{\"data_source\":{\"id\":\"903d5dc6-902a-4167-a41b-2060a2e7dcea\",\"type\":\"ColumnDataSource\"},\"glyph\":{\"id\":\"49ac9886-fd25-43b1-903e-efb74ec8e926\",\"type\":\"Line\"},\"hover_glyph\":null,\"muted_glyph\":null,\"nonselection_glyph\":{\"id\":\"29e86c20-77a1-41e4-8f19-e39c1e08619b\",\"type\":\"Line\"},\"selection_glyph\":null,\"view\":{\"id\":\"80690ed1-a5b7-4ffd-9a78-ae062f1b7e87\",\"type\":\"CDSView\"}},\"id\":\"dbbb0386-9e30-47c6-b434-768646589a06\",\"type\":\"GlyphRenderer\"},{\"attributes\":{\"children\":[{\"id\":\"04c82424-2c01-4051-b0dd-22d756ea75fe\",\"type\":\"Row\"}]},\"id\":\"fa7bfe2d-e2dd-4f88-983e-1f928801a5f5\",\"type\":\"Column\"},{\"attributes\":{\"num_minor_ticks\":10},\"id\":\"a9cc38c3-460f-4f7e-ac70-24df5a034101\",\"type\":\"LogTicker\"},{\"attributes\":{\"fill_alpha\":{\"value\":0.1},\"fill_color\":{\"value\":\"#1f77b4\"},\"line_alpha\":{\"value\":0.1},\"line_color\":{\"value\":\"#1f77b4\"},\"x\":{\"field\":\"x\"},\"y\":{\"field\":\"y\"}},\"id\":\"20e2d00a-1b2c-4536-b89e-4d0381c6cf49\",\"type\":\"Circle\"},{\"attributes\":{\"items\":[{\"id\":\"2c1d0589-5a87-460c-a452-29bd7953f130\",\"type\":\"LegendItem\"},{\"id\":\"8f11fb7d-c175-4cc7-abc6-ece31922d65d\",\"type\":\"LegendItem\"}],\"label_text_font_size\":{\"value\":\"8pt\"},\"location\":\"top_center\",\"orientation\":\"horizontal\",\"plot\":{\"id\":\"ec87646f-4436-4365-96cd-a25117f734bb\",\"subtype\":\"Figure\",\"type\":\"Plot\"}},\"id\":\"ea5bcd4b-922b-4eff-851f-21c0ba75b6e8\",\"type\":\"Legend\"},{\"attributes\":{\"fill_alpha\":{\"value\":0.7},\"fill_color\":{\"value\":\"#984ea3\"},\"line_alpha\":{\"value\":0.7},\"line_color\":{\"value\":\"#984ea3\"},\"x\":{\"field\":\"x\"},\"y\":{\"field\":\"y\"}},\"id\":\"7d087223-882f-4796-9235-350cddd53f9c\",\"type\":\"Circle\"},{\"attributes\":{\"children\":[{\"id\":\"ec87646f-4436-4365-96cd-a25117f734bb\",\"subtype\":\"Figure\",\"type\":\"Plot\"},{\"id\":\"6ccb0f39-fde4-4688-b637-5d2a50302992\",\"subtype\":\"Figure\",\"type\":\"Plot\"},{\"id\":\"8fa95e5c-98ba-4038-b62b-7ff45266c585\",\"subtype\":\"Figure\",\"type\":\"Plot\"}]},\"id\":\"04c82424-2c01-4051-b0dd-22d756ea75fe\",\"type\":\"Row\"},{\"attributes\":{\"line_alpha\":0.1,\"line_color\":\"#1f77b4\",\"line_dash\":[6],\"line_width\":5,\"x\":{\"field\":\"x\"},\"y\":{\"field\":\"y\"}},\"id\":\"29e86c20-77a1-41e4-8f19-e39c1e08619b\",\"type\":\"Line\"},{\"attributes\":{},\"id\":\"4a9083ca-584c-4ac6-a2e9-03a02eebc974\",\"type\":\"SaveTool\"},{\"attributes\":{},\"id\":\"380f9d80-f5f5-424a-8ddd-4dcee4de4cea\",\"type\":\"ResetTool\"},{\"attributes\":{},\"id\":\"917dfc48-0694-4128-8572-72c3910c7030\",\"type\":\"ResetTool\"},{\"attributes\":{\"source\":{\"id\":\"30d1f89c-ba1d-4f4d-bf9e-1de9e96e87b3\",\"type\":\"ColumnDataSource\"}},\"id\":\"0c37e5dc-ee9f-459a-abc1-9ae1553c2c4f\",\"type\":\"CDSView\"},{\"attributes\":{},\"id\":\"6c1fb30a-b6a5-46d0-93d9-18c7e5a83a28\",\"type\":\"WheelZoomTool\"},{\"attributes\":{},\"id\":\"2e5aa7ac-f216-44f2-a8ea-1010cad70483\",\"type\":\"HelpTool\"},{\"attributes\":{},\"id\":\"96f19c87-af28-4a87-a409-61492d5299ab\",\"type\":\"WheelZoomTool\"},{\"attributes\":{},\"id\":\"96a91e68-6e73-49a6-8fbb-72bdfb9d48de\",\"type\":\"LinearScale\"},{\"attributes\":{\"bottom_units\":\"screen\",\"fill_alpha\":{\"value\":0.5},\"fill_color\":{\"value\":\"lightgrey\"},\"left_units\":\"screen\",\"level\":\"overlay\",\"line_alpha\":{\"value\":1.0},\"line_color\":{\"value\":\"black\"},\"line_dash\":[4,4],\"line_width\":{\"value\":2},\"plot\":null,\"render_mode\":\"css\",\"right_units\":\"screen\",\"top_units\":\"screen\"},\"id\":\"fed198a6-d51a-420a-862e-59b0a85ce184\",\"type\":\"BoxAnnotation\"},{\"attributes\":{\"callback\":null,\"data\":{\"x\":{\"__ndarray__\":\"CA3w6Vksn7+IuN7bma6ev4ZXvJcOpJ2/unrudXSSnL+VNC68TH2bvzDNs1z2Z5q/MBgRwQdamb9tRdyRak6Yv+MptaQNSpe/A9uhVppRlr/uSQx0gG+Vv2k7G7MiqpS/tZc22VQPlL+0DXzG7lSTv5bhy4YtJI2/4HVoHuEwaL+OZOG8V2yJP6wV4pvq7J4/JO/7u2fyqT9bahAokwGzP5JE9/j5+bk/8W4b/LOVwD/MjFZszmzBP9l+3sb5qr4/zv1CgO0PuT/v5q7HcgKzP7C0A+MdNqw/DfvsaU8VpT/nzvN3VNSfP9avgR8f9Zc/TwBLS4FVkT+SF75r/DyGPzPtJgTCU3M/xWKDJdjoXr8Y7EabA32Hv0SJCJKGOZi/4P1HX24bob9WOhjkQKWiv2g7drW00aG/2Hjob80Tob/3w5AbzEagvz4wOdL2v56/bm9KiNixnL+snnkccmqav7ktZotx7Je/xi/5I4w6lb9JCxNmU1eSv06CkTifio6//olJdOELiL81OJjtDTWBv1xQ/dEgFnS/yEE9ABh9VL9ALMS4Ve9kP0cbnhrDrno/+M8lpEbEhT9mDO+SsYOOP+dhZnRHzJM/Xqwnr+CCmD/OFEIg+mKdP+ozI2DNMaE/85PAn0ewoz8wrNvT5wCmP8hrAmWD56c/sjA3JF1PqT+oYmCmuG2qP3xvSK10mqs/PhDL+XEarT8iY2dqDwSvP8ZxnrmgobA/ZqxK45bdsT9kJFAEPi2zP//mb4n2jbQ/+RFz1Mf/tT8Yx2y8gIa3P9rSxriyKbk/\",\"dtype\":\"float64\",\"shape\":[75]},\"y\":{\"__ndarray__\":\"GhExyth1ND/Sv8nbtpRIP2vylNV0PVE/aTum7souWD/At0SJ8fVgPw3Iuahxymc/MSNhhJWvcD/bTfBN02d3P2zb5nxnaoA/CD5h5MAGhz8NmeH1TyaQP+zrCsc9p5Y/LbKd76fGnz/bLW5ISEmmPww9YvTcQq8/JV2OstnstT8Er5Y7M8G+P0c+r3jqkcU/5h99k6ZBzj88bCIzFzjVP4enV8oyxN0//yH99nXg5D8qOpLLf0jtP5kqGJXUifQ/c9cS8kHP/D+/DpwzojQEQIEmwoanVwxA4lgXt9HgE0BSSZ2AJuIbQAMJih9jjiNA5q4l5INuK0AwTKYKRj0zQNv5fmq8/DpAaCJseHrtQkB/+zpwzoxKQM3MzMzMeFJAZmZmZmZqWEAAAAAAAFxeQM3MzMzMJmJAmpmZmZkfZUBmZmZmZhhoQDMzMzMzEWtAAAAAAAAKbkBmZmZmZoFwQM3MzMzM/XFAMzMzMzN6c0CamZmZmfZ0QAAAAAAAc3ZAZmZmZmbvd0DNzMzMzGt5QDMzMzMz6HpAmpmZmZlkfEAAAAAAAOF9QGZmZmZmXX9AZmZmZuZsgECamZmZGSuBQM3MzMxM6YFAAAAAAICngkAzMzMzs2WDQGZmZmbmI4RAmpmZmRnihEDNzMzMTKCFQAAAAACAXoZAMzMzM7Mch0BmZmZm5tqHQJqZmZkZmYhAzczMzExXiUAAAAAAgBWKQDMzMzOz04pAZmZmZuaRi0CamZmZGVCMQM3MzMxMDo1AAAAAAIDMjUAzMzMzs4qOQGZmZmbmSI9A\",\"dtype\":\"float64\",\"shape\":[75]}},\"selected\":{\"id\":\"b263f730-c9b0-40bf-9aee-8ce7e67a8345\",\"type\":\"Selection\"},\"selection_policy\":{\"id\":\"410a1739-bdec-4c9c-b0b9-aa1967683ff1\",\"type\":\"UnionRenderers\"}},\"id\":\"848ad28f-a205-4194-aea2-4cc0fbba0ed3\",\"type\":\"ColumnDataSource\"},{\"attributes\":{\"active_drag\":\"auto\",\"active_inspect\":\"auto\",\"active_scroll\":\"auto\",\"active_tap\":\"auto\",\"tools\":[{\"id\":\"2d37573d-11a8-4c86-b16f-7b0e26e959ca\",\"type\":\"PanTool\"},{\"id\":\"6c1fb30a-b6a5-46d0-93d9-18c7e5a83a28\",\"type\":\"WheelZoomTool\"},{\"id\":\"a0bb4380-da04-437d-a449-07898b69f498\",\"type\":\"BoxZoomTool\"},{\"id\":\"4a9083ca-584c-4ac6-a2e9-03a02eebc974\",\"type\":\"SaveTool\"},{\"id\":\"917dfc48-0694-4128-8572-72c3910c7030\",\"type\":\"ResetTool\"},{\"id\":\"0af6e238-1ffe-4367-8af0-ab6b8ca88ff5\",\"type\":\"HelpTool\"}]},\"id\":\"a76bbcac-a562-48a1-af5e-036b384b490f\",\"type\":\"Toolbar\"},{\"attributes\":{},\"id\":\"01d5a141-bb64-4a70-8804-d2847bfd62b9\",\"type\":\"BasicTickFormatter\"},{\"attributes\":{\"callback\":null,\"data\":{\"x\":{\"__ndarray__\":\"OsD25HFmY7/Bhn7zHRhiv4GPc8FrfFS/pehmiUAFQr8Od8pl6MImP1SxLpEUGE0/Ke+pqny+Wj/kY1uWlYJjP8ETO4htqGk/ONdFl0D3bz8IqqSj7hlzP3a5DHIBUXY/vmzLss94eT965ZaYpox9P3lde7GFkoY/a5aRYFLjkz+QNChLRY2fP7XmQuA4oaY/m59+foykrj+icxvKIAC0P31ypd06dbk/+s//EbIgvz/zDyE1vZDAPw1Msngf874/dJ15nZ5Cuz8lLnhXiZS2PzfnQfMJB7I/Y1M2N1bcqz/dWCg/85CkP9E0awsOV5w/KH5eaR4zkT+g+X/wj799P4CgODof9le/SAXNpNO/hL+lcTYe4HiVv3HxDFduJKG/TYpJk68Kpr8L/ncx+8Knv9DElN9sYKe/RlSKDri+pr8DDsk37eWlv0Vb6XoN3aS/8BOpXXyho78sIkE7uDqiv8y45SKCrKC/GlDXiQbynb/n1dlOeFGavxXVx2yHcZa/uluFvBlfkr9acsC/JjmMv1ziXwPHXoO/gkZAN7d2dL+zxNaxUIg3vzxWQo0h9XE/KkG+DCECgz+50s3wPTeNP2dXBTi02pM/gezniS8xmT9suyco8p6eP1eQZEi2C6I/TjynQ7m+pD8L30aSb0mnP7FoN8sGgKk/bHrgcl5aqz+Ko8wLCvisPzTRadKnmK4/qeMgZlI1sD8LZFqoKEKxP+SoJfAwabI/TXy/ENqgsz+nLlNqEOW0P9tTAhopLrY/TrzX0Sp8tz8iX8IopdG4PwLinuMkKro/\",\"dtype\":\"float64\",\"shape\":[75]},\"y\":{\"__ndarray__\":\"GhExyth1ND/Sv8nbtpRIP2vylNV0PVE/aTum7souWD/At0SJ8fVgPw3Iuahxymc/MSNhhJWvcD/bTfBN02d3P2zb5nxnaoA/CD5h5MAGhz8NmeH1TyaQP+zrCsc9p5Y/LbKd76fGnz/bLW5ISEmmPww9YvTcQq8/JV2OstnstT8Er5Y7M8G+P0c+r3jqkcU/5h99k6ZBzj88bCIzFzjVP4enV8oyxN0//yH99nXg5D8qOpLLf0jtP5kqGJXUifQ/c9cS8kHP/D+/DpwzojQEQIEmwoanVwxA4lgXt9HgE0BSSZ2AJuIbQAMJih9jjiNA5q4l5INuK0AwTKYKRj0zQNv5fmq8/DpAaCJseHrtQkB/+zpwzoxKQM3MzMzMeFJAZmZmZmZqWEAAAAAAAFxeQM3MzMzMJmJAmpmZmZkfZUBmZmZmZhhoQDMzMzMzEWtAAAAAAAAKbkBmZmZmZoFwQM3MzMzM/XFAMzMzMzN6c0CamZmZmfZ0QAAAAAAAc3ZAZmZmZmbvd0DNzMzMzGt5QDMzMzMz6HpAmpmZmZlkfEAAAAAAAOF9QGZmZmZmXX9AZmZmZuZsgECamZmZGSuBQM3MzMxM6YFAAAAAAICngkAzMzMzs2WDQGZmZmbmI4RAmpmZmRnihEDNzMzMTKCFQAAAAACAXoZAMzMzM7Mch0BmZmZm5tqHQJqZmZkZmYhAzczMzExXiUAAAAAAgBWKQDMzMzOz04pAZmZmZuaRi0CamZmZGVCMQM3MzMxMDo1AAAAAAIDMjUAzMzMzs4qOQGZmZmbmSI9A\",\"dtype\":\"float64\",\"shape\":[75]}},\"selected\":{\"id\":\"2bc3caa6-4e97-46f3-b2f1-feecce2ac14c\",\"type\":\"Selection\"},\"selection_policy\":{\"id\":\"3ca74d95-5c6a-4acc-b0d6-badd86c56351\",\"type\":\"UnionRenderers\"}},\"id\":\"903d5dc6-902a-4167-a41b-2060a2e7dcea\",\"type\":\"ColumnDataSource\"},{\"attributes\":{},\"id\":\"7815ba08-acf4-483d-8ee2-ef9bb8a97a39\",\"type\":\"UnionRenderers\"},{\"attributes\":{\"axis_label\":\"cooling rate [K/day]\",\"formatter\":{\"id\":\"66761656-2256-41b9-916b-b1a25caccee2\",\"type\":\"BasicTickFormatter\"},\"plot\":{\"id\":\"6ccb0f39-fde4-4688-b637-5d2a50302992\",\"subtype\":\"Figure\",\"type\":\"Plot\"},\"ticker\":{\"id\":\"faa99492-5288-420c-9feb-42e5e39c16ea\",\"type\":\"BasicTicker\"}},\"id\":\"027d6d36-b7c8-4f42-b1a8-7908915517b5\",\"type\":\"LinearAxis\"},{\"attributes\":{\"callback\":null,\"data\":{\"x\":{\"__ndarray__\":\"CA3w6Vksn7+IuN7bma6ev4ZXvJcOpJ2/unrudXSSnL+VNC68TH2bvzDNs1z2Z5q/MBgRwQdamb9tRdyRak6Yv+MptaQNSpe/A9uhVppRlr/uSQx0gG+Vv2k7G7MiqpS/tZc22VQPlL+0DXzG7lSTv5bhy4YtJI2/4HVoHuEwaL+OZOG8V2yJP6wV4pvq7J4/JO/7u2fyqT9bahAokwGzP5JE9/j5+bk/8W4b/LOVwD/MjFZszmzBP9l+3sb5qr4/zv1CgO0PuT/v5q7HcgKzP7C0A+MdNqw/DfvsaU8VpT/nzvN3VNSfP9avgR8f9Zc/TwBLS4FVkT+SF75r/DyGPzPtJgTCU3M/xWKDJdjoXr8Y7EabA32Hv0SJCJKGOZi/4P1HX24bob9WOhjkQKWiv2g7drW00aG/2Hjob80Tob/3w5AbzEagvz4wOdL2v56/bm9KiNixnL+snnkccmqav7ktZotx7Je/xi/5I4w6lb9JCxNmU1eSv06CkTifio6//olJdOELiL81OJjtDTWBv1xQ/dEgFnS/yEE9ABh9VL9ALMS4Ve9kP0cbnhrDrno/+M8lpEbEhT9mDO+SsYOOP+dhZnRHzJM/Xqwnr+CCmD/OFEIg+mKdP+ozI2DNMaE/85PAn0ewoz8wrNvT5wCmP8hrAmWD56c/sjA3JF1PqT+oYmCmuG2qP3xvSK10mqs/PhDL+XEarT8iY2dqDwSvP8ZxnrmgobA/ZqxK45bdsT9kJFAEPi2zP//mb4n2jbQ/+RFz1Mf/tT8Yx2y8gIa3P9rSxriyKbk/\",\"dtype\":\"float64\",\"shape\":[75]},\"y\":{\"__ndarray__\":\"GhExyth1ND/Sv8nbtpRIP2vylNV0PVE/aTum7souWD/At0SJ8fVgPw3Iuahxymc/MSNhhJWvcD/bTfBN02d3P2zb5nxnaoA/CD5h5MAGhz8NmeH1TyaQP+zrCsc9p5Y/LbKd76fGnz/bLW5ISEmmPww9YvTcQq8/JV2OstnstT8Er5Y7M8G+P0c+r3jqkcU/5h99k6ZBzj88bCIzFzjVP4enV8oyxN0//yH99nXg5D8qOpLLf0jtP5kqGJXUifQ/c9cS8kHP/D+/DpwzojQEQIEmwoanVwxA4lgXt9HgE0BSSZ2AJuIbQAMJih9jjiNA5q4l5INuK0AwTKYKRj0zQNv5fmq8/DpAaCJseHrtQkB/+zpwzoxKQM3MzMzMeFJAZmZmZmZqWEAAAAAAAFxeQM3MzMzMJmJAmpmZmZkfZUBmZmZmZhhoQDMzMzMzEWtAAAAAAAAKbkBmZmZmZoFwQM3MzMzM/XFAMzMzMzN6c0CamZmZmfZ0QAAAAAAAc3ZAZmZmZmbvd0DNzMzMzGt5QDMzMzMz6HpAmpmZmZlkfEAAAAAAAOF9QGZmZmZmXX9AZmZmZuZsgECamZmZGSuBQM3MzMxM6YFAAAAAAICngkAzMzMzs2WDQGZmZmbmI4RAmpmZmRnihEDNzMzMTKCFQAAAAACAXoZAMzMzM7Mch0BmZmZm5tqHQJqZmZkZmYhAzczMzExXiUAAAAAAgBWKQDMzMzOz04pAZmZmZuaRi0CamZmZGVCMQM3MzMxMDo1AAAAAAIDMjUAzMzMzs4qOQGZmZmbmSI9A\",\"dtype\":\"float64\",\"shape\":[75]}},\"selected\":{\"id\":\"6883a44c-8998-462d-a0f4-8a693576db74\",\"type\":\"Selection\"},\"selection_policy\":{\"id\":\"d4b0a666-1141-4960-975b-4ac2db710018\",\"type\":\"UnionRenderers\"}},\"id\":\"8cafa5d7-3d00-4844-aebd-5969c64c8a43\",\"type\":\"ColumnDataSource\"},{\"attributes\":{},\"id\":\"2bc3caa6-4e97-46f3-b2f1-feecce2ac14c\",\"type\":\"Selection\"},{\"attributes\":{\"source\":{\"id\":\"848ad28f-a205-4194-aea2-4cc0fbba0ed3\",\"type\":\"ColumnDataSource\"}},\"id\":\"df2f424a-7665-4fbf-b8e2-6d5fc1d03886\",\"type\":\"CDSView\"},{\"attributes\":{},\"id\":\"00f4a8b3-942b-4118-8efb-762833ffd2ba\",\"type\":\"SaveTool\"},{\"attributes\":{\"overlay\":{\"id\":\"40ec096d-054b-4ca3-a453-1c069c08527c\",\"type\":\"BoxAnnotation\"}},\"id\":\"b98e3461-d01d-4100-bb12-d18050b07b4e\",\"type\":\"BoxZoomTool\"},{\"attributes\":{\"above\":[{\"id\":\"bb6665e1-4200-41b6-8a45-ac8935b6f42b\",\"type\":\"Legend\"}],\"below\":[{\"id\":\"027d6d36-b7c8-4f42-b1a8-7908915517b5\",\"type\":\"LinearAxis\"}],\"left\":[{\"id\":\"58c01f1f-edd1-4c86-a792-3f7c71f8a340\",\"type\":\"LogAxis\"}],\"plot_width\":300,\"renderers\":[{\"id\":\"027d6d36-b7c8-4f42-b1a8-7908915517b5\",\"type\":\"LinearAxis\"},{\"id\":\"9e79eb78-20eb-49fa-b29a-cf8708d96beb\",\"type\":\"Grid\"},{\"id\":\"58c01f1f-edd1-4c86-a792-3f7c71f8a340\",\"type\":\"LogAxis\"},{\"id\":\"22a437d4-4915-470d-b009-e91433254ffa\",\"type\":\"Grid\"},{\"id\":\"fed198a6-d51a-420a-862e-59b0a85ce184\",\"type\":\"BoxAnnotation\"},{\"id\":\"dbbb0386-9e30-47c6-b434-768646589a06\",\"type\":\"GlyphRenderer\"},{\"id\":\"45a10dd7-9942-478b-bfe3-d5ab8e6c8d07\",\"type\":\"GlyphRenderer\"},{\"id\":\"eacde0c6-dc46-4ebb-9160-35fa018269ac\",\"type\":\"GlyphRenderer\"},{\"id\":\"bb6665e1-4200-41b6-8a45-ac8935b6f42b\",\"type\":\"Legend\"}],\"title\":{\"id\":\"6e1fa678-d825-4092-b106-8d8f525da08e\",\"type\":\"Title\"},\"toolbar\":{\"id\":\"a76bbcac-a562-48a1-af5e-036b384b490f\",\"type\":\"Toolbar\"},\"toolbar_location\":null,\"x_range\":{\"id\":\"2828b1d5-1700-468d-aa10-04225b311ce6\",\"type\":\"Range1d\"},\"x_scale\":{\"id\":\"96a91e68-6e73-49a6-8fbb-72bdfb9d48de\",\"type\":\"LinearScale\"},\"y_range\":{\"id\":\"bb2f63dd-35cf-4e7c-a87d-57241ad217d4\",\"type\":\"Range1d\"},\"y_scale\":{\"id\":\"6af75c70-6c6a-4d2d-9de7-8c5e682995e5\",\"type\":\"LogScale\"}},\"id\":\"6ccb0f39-fde4-4688-b637-5d2a50302992\",\"subtype\":\"Figure\",\"type\":\"Plot\"},{\"attributes\":{\"plot\":null,\"text\":\"\"},\"id\":\"ba0b220f-52f2-433b-9af3-56ad178ff6d1\",\"type\":\"Title\"},{\"attributes\":{},\"id\":\"faa99492-5288-420c-9feb-42e5e39c16ea\",\"type\":\"BasicTicker\"},{\"attributes\":{},\"id\":\"6af75c70-6c6a-4d2d-9de7-8c5e682995e5\",\"type\":\"LogScale\"},{\"attributes\":{},\"id\":\"b263f730-c9b0-40bf-9aee-8ce7e67a8345\",\"type\":\"Selection\"},{\"attributes\":{},\"id\":\"2886f8d4-8c85-454e-b012-1a55dfa2d3cf\",\"type\":\"BasicTickFormatter\"},{\"attributes\":{\"data_source\":{\"id\":\"848ad28f-a205-4194-aea2-4cc0fbba0ed3\",\"type\":\"ColumnDataSource\"},\"glyph\":{\"id\":\"c5bf138f-ad50-4741-9c67-a1d66a03d6ae\",\"type\":\"Circle\"},\"hover_glyph\":null,\"muted_glyph\":null,\"nonselection_glyph\":{\"id\":\"a266cf9a-2e11-49d7-8321-6d46614b74fe\",\"type\":\"Circle\"},\"selection_glyph\":null,\"view\":{\"id\":\"df2f424a-7665-4fbf-b8e2-6d5fc1d03886\",\"type\":\"CDSView\"}},\"id\":\"5211697d-edc6-4bed-ab1e-17e15042d2e3\",\"type\":\"GlyphRenderer\"},{\"attributes\":{\"plot\":{\"id\":\"6ccb0f39-fde4-4688-b637-5d2a50302992\",\"subtype\":\"Figure\",\"type\":\"Plot\"},\"ticker\":{\"id\":\"faa99492-5288-420c-9feb-42e5e39c16ea\",\"type\":\"BasicTicker\"}},\"id\":\"9e79eb78-20eb-49fa-b29a-cf8708d96beb\",\"type\":\"Grid\"},{\"attributes\":{\"data_source\":{\"id\":\"75f9187a-60b7-4112-b0a0-c71b47461407\",\"type\":\"ColumnDataSource\"},\"glyph\":{\"id\":\"8d7b03cc-b830-4d51-bf5f-8df2b0092033\",\"type\":\"Circle\"},\"hover_glyph\":null,\"muted_glyph\":null,\"nonselection_glyph\":{\"id\":\"2dd35801-8114-4f63-9dad-c2cc619c8ba1\",\"type\":\"Circle\"},\"selection_glyph\":null,\"view\":{\"id\":\"84bbbac6-f2ee-46c9-979b-a719e8a84955\",\"type\":\"CDSView\"}},\"id\":\"45a10dd7-9942-478b-bfe3-d5ab8e6c8d07\",\"type\":\"GlyphRenderer\"},{\"attributes\":{\"active_drag\":\"auto\",\"active_inspect\":\"auto\",\"active_scroll\":\"auto\",\"active_tap\":\"auto\",\"tools\":[{\"id\":\"a03c5902-3c7f-41e4-9eae-e16d92dbf745\",\"type\":\"PanTool\"},{\"id\":\"c4238424-73c3-44d8-b794-023a2c52fcc3\",\"type\":\"WheelZoomTool\"},{\"id\":\"f3f7fed7-0c1c-441a-84eb-ee4b175c886c\",\"type\":\"BoxZoomTool\"},{\"id\":\"d55a92be-1dd1-4e04-a292-c34a1bd0b989\",\"type\":\"SaveTool\"},{\"id\":\"745fef93-edf7-442b-8a4a-6d143c544b8b\",\"type\":\"ResetTool\"},{\"id\":\"f22e8fdc-8d50-4f6d-a671-a66b853c4653\",\"type\":\"HelpTool\"}]},\"id\":\"53b3bc46-49da-413a-b9ce-96272b2ce08d\",\"type\":\"Toolbar\"},{\"attributes\":{\"fill_alpha\":{\"value\":0.1},\"fill_color\":{\"value\":\"#1f77b4\"},\"line_alpha\":{\"value\":0.1},\"line_color\":{\"value\":\"#1f77b4\"},\"x\":{\"field\":\"x\"},\"y\":{\"field\":\"y\"}},\"id\":\"2dd35801-8114-4f63-9dad-c2cc619c8ba1\",\"type\":\"Circle\"},{\"attributes\":{\"line_color\":\"#4daf4a\",\"line_width\":1.5,\"x\":{\"field\":\"x\"},\"y\":{\"field\":\"y\"}},\"id\":\"12a87300-8d55-4b6c-877a-38c9d5b77f93\",\"type\":\"Line\"},{\"attributes\":{\"source\":{\"id\":\"75f9187a-60b7-4112-b0a0-c71b47461407\",\"type\":\"ColumnDataSource\"}},\"id\":\"84bbbac6-f2ee-46c9-979b-a719e8a84955\",\"type\":\"CDSView\"},{\"attributes\":{\"label\":{\"value\":\"CLIRAD - CRD\"},\"renderers\":[{\"id\":\"861a9bdf-6a6d-4feb-a116-38f6e24549b4\",\"type\":\"GlyphRenderer\"},{\"id\":\"09279285-254e-47d7-8399-2bb6fa32ade8\",\"type\":\"GlyphRenderer\"}]},\"id\":\"6fba9428-0924-47f6-a6a1-e08ed48ed70c\",\"type\":\"LegendItem\"},{\"attributes\":{\"callback\":null,\"data\":{\"x\":{\"__ndarray__\":\"CA3w6Vksn7+IuN7bma6ev4ZXvJcOpJ2/unrudXSSnL+VNC68TH2bvzDNs1z2Z5q/MBgRwQdamb9tRdyRak6Yv+MptaQNSpe/A9uhVppRlr/uSQx0gG+Vv2k7G7MiqpS/tZc22VQPlL+0DXzG7lSTv5bhy4YtJI2/4HVoHuEwaL+OZOG8V2yJP6wV4pvq7J4/JO/7u2fyqT9bahAokwGzP5JE9/j5+bk/8W4b/LOVwD/MjFZszmzBP9l+3sb5qr4/zv1CgO0PuT/v5q7HcgKzP7C0A+MdNqw/DfvsaU8VpT/nzvN3VNSfP9avgR8f9Zc/TwBLS4FVkT+SF75r/DyGPzPtJgTCU3M/xWKDJdjoXr8Y7EabA32Hv0SJCJKGOZi/4P1HX24bob9WOhjkQKWiv2g7drW00aG/2Hjob80Tob/3w5AbzEagvz4wOdL2v56/bm9KiNixnL+snnkccmqav7ktZotx7Je/xi/5I4w6lb9JCxNmU1eSv06CkTifio6//olJdOELiL81OJjtDTWBv1xQ/dEgFnS/yEE9ABh9VL9ALMS4Ve9kP0cbnhrDrno/+M8lpEbEhT9mDO+SsYOOP+dhZnRHzJM/Xqwnr+CCmD/OFEIg+mKdP+ozI2DNMaE/85PAn0ewoz8wrNvT5wCmP8hrAmWD56c/sjA3JF1PqT+oYmCmuG2qP3xvSK10mqs/PhDL+XEarT8iY2dqDwSvP8ZxnrmgobA/ZqxK45bdsT9kJFAEPi2zP//mb4n2jbQ/+RFz1Mf/tT8Yx2y8gIa3P9rSxriyKbk/\",\"dtype\":\"float64\",\"shape\":[75]},\"y\":{\"__ndarray__\":\"GhExyth1ND/Sv8nbtpRIP2vylNV0PVE/aTum7souWD/At0SJ8fVgPw3Iuahxymc/MSNhhJWvcD/bTfBN02d3P2zb5nxnaoA/CD5h5MAGhz8NmeH1TyaQP+zrCsc9p5Y/LbKd76fGnz/bLW5ISEmmPww9YvTcQq8/JV2OstnstT8Er5Y7M8G+P0c+r3jqkcU/5h99k6ZBzj88bCIzFzjVP4enV8oyxN0//yH99nXg5D8qOpLLf0jtP5kqGJXUifQ/c9cS8kHP/D+/DpwzojQEQIEmwoanVwxA4lgXt9HgE0BSSZ2AJuIbQAMJih9jjiNA5q4l5INuK0AwTKYKRj0zQNv5fmq8/DpAaCJseHrtQkB/+zpwzoxKQM3MzMzMeFJAZmZmZmZqWEAAAAAAAFxeQM3MzMzMJmJAmpmZmZkfZUBmZmZmZhhoQDMzMzMzEWtAAAAAAAAKbkBmZmZmZoFwQM3MzMzM/XFAMzMzMzN6c0CamZmZmfZ0QAAAAAAAc3ZAZmZmZmbvd0DNzMzMzGt5QDMzMzMz6HpAmpmZmZlkfEAAAAAAAOF9QGZmZmZmXX9AZmZmZuZsgECamZmZGSuBQM3MzMxM6YFAAAAAAICngkAzMzMzs2WDQGZmZmbmI4RAmpmZmRnihEDNzMzMTKCFQAAAAACAXoZAMzMzM7Mch0BmZmZm5tqHQJqZmZkZmYhAzczMzExXiUAAAAAAgBWKQDMzMzOz04pAZmZmZuaRi0CamZmZGVCMQM3MzMxMDo1AAAAAAIDMjUAzMzMzs4qOQGZmZmbmSI9A\",\"dtype\":\"float64\",\"shape\":[75]}},\"selected\":{\"id\":\"db0895dd-347c-4153-a048-ed6b0ba2bbe3\",\"type\":\"Selection\"},\"selection_policy\":{\"id\":\"714b223a-3c9a-4dfa-84ac-0dbde859cd9e\",\"type\":\"UnionRenderers\"}},\"id\":\"1f2bd854-d6a0-4bb2-98e2-959364f05485\",\"type\":\"ColumnDataSource\"},{\"attributes\":{\"data_source\":{\"id\":\"8cafa5d7-3d00-4844-aebd-5969c64c8a43\",\"type\":\"ColumnDataSource\"},\"glyph\":{\"id\":\"a3458bdf-ae40-4308-bd81-db044503f82f\",\"type\":\"Line\"},\"hover_glyph\":null,\"muted_glyph\":null,\"nonselection_glyph\":{\"id\":\"7a703274-4d63-4df4-b5f0-64d7efd1475c\",\"type\":\"Line\"},\"selection_glyph\":null,\"view\":{\"id\":\"a64a68ab-8e78-4bf5-a1aa-d592b30b9d2f\",\"type\":\"CDSView\"}},\"id\":\"1c18ccb8-bfea-4c89-9ae3-f2bee35b4c56\",\"type\":\"GlyphRenderer\"},{\"attributes\":{\"axis_label\":\"pressure [mb]\",\"formatter\":{\"id\":\"a0bca450-d753-46d8-b3ee-90a599a784c2\",\"type\":\"LogTickFormatter\"},\"plot\":{\"id\":\"6ccb0f39-fde4-4688-b637-5d2a50302992\",\"subtype\":\"Figure\",\"type\":\"Plot\"},\"ticker\":{\"id\":\"a9cc38c3-460f-4f7e-ac70-24df5a034101\",\"type\":\"LogTicker\"}},\"id\":\"58c01f1f-edd1-4c86-a792-3f7c71f8a340\",\"type\":\"LogAxis\"},{\"attributes\":{\"items\":[{\"id\":\"6fba9428-0924-47f6-a6a1-e08ed48ed70c\",\"type\":\"LegendItem\"}],\"label_text_font_size\":{\"value\":\"8pt\"},\"location\":\"top_center\",\"orientation\":\"horizontal\",\"plot\":{\"id\":\"8fa95e5c-98ba-4038-b62b-7ff45266c585\",\"subtype\":\"Figure\",\"type\":\"Plot\"}},\"id\":\"4a9ea253-de5d-4012-baa0-c1f05858f354\",\"type\":\"Legend\"},{\"attributes\":{\"source\":{\"id\":\"73b3e671-0164-4b5f-a503-0092aaa67e37\",\"type\":\"ColumnDataSource\"}},\"id\":\"02f8936b-6134-411f-875c-0fa9ab01c9a3\",\"type\":\"CDSView\"},{\"attributes\":{\"callback\":null,\"data\":{\"x\":{\"__ndarray__\":\"CA3w6Vksn7+IuN7bma6ev4ZXvJcOpJ2/unrudXSSnL+VNC68TH2bvzDNs1z2Z5q/MBgRwQdamb9tRdyRak6Yv+MptaQNSpe/A9uhVppRlr/uSQx0gG+Vv2k7G7MiqpS/tZc22VQPlL+0DXzG7lSTv5bhy4YtJI2/4HVoHuEwaL+OZOG8V2yJP6wV4pvq7J4/JO/7u2fyqT9bahAokwGzP5JE9/j5+bk/8W4b/LOVwD/MjFZszmzBP9l+3sb5qr4/zv1CgO0PuT/v5q7HcgKzP7C0A+MdNqw/DfvsaU8VpT/nzvN3VNSfP9avgR8f9Zc/TwBLS4FVkT+SF75r/DyGPzPtJgTCU3M/xWKDJdjoXr8Y7EabA32Hv0SJCJKGOZi/4P1HX24bob9WOhjkQKWiv2g7drW00aG/2Hjob80Tob/3w5AbzEagvz4wOdL2v56/bm9KiNixnL+snnkccmqav7ktZotx7Je/xi/5I4w6lb9JCxNmU1eSv06CkTifio6//olJdOELiL81OJjtDTWBv1xQ/dEgFnS/yEE9ABh9VL9ALMS4Ve9kP0cbnhrDrno/+M8lpEbEhT9mDO+SsYOOP+dhZnRHzJM/Xqwnr+CCmD/OFEIg+mKdP+ozI2DNMaE/85PAn0ewoz8wrNvT5wCmP8hrAmWD56c/sjA3JF1PqT+oYmCmuG2qP3xvSK10mqs/PhDL+XEarT8iY2dqDwSvP8ZxnrmgobA/ZqxK45bdsT9kJFAEPi2zP//mb4n2jbQ/+RFz1Mf/tT8Yx2y8gIa3P9rSxriyKbk/\",\"dtype\":\"float64\",\"shape\":[75]},\"y\":{\"__ndarray__\":\"GhExyth1ND/Sv8nbtpRIP2vylNV0PVE/aTum7souWD/At0SJ8fVgPw3Iuahxymc/MSNhhJWvcD/bTfBN02d3P2zb5nxnaoA/CD5h5MAGhz8NmeH1TyaQP+zrCsc9p5Y/LbKd76fGnz/bLW5ISEmmPww9YvTcQq8/JV2OstnstT8Er5Y7M8G+P0c+r3jqkcU/5h99k6ZBzj88bCIzFzjVP4enV8oyxN0//yH99nXg5D8qOpLLf0jtP5kqGJXUifQ/c9cS8kHP/D+/DpwzojQEQIEmwoanVwxA4lgXt9HgE0BSSZ2AJuIbQAMJih9jjiNA5q4l5INuK0AwTKYKRj0zQNv5fmq8/DpAaCJseHrtQkB/+zpwzoxKQM3MzMzMeFJAZmZmZmZqWEAAAAAAAFxeQM3MzMzMJmJAmpmZmZkfZUBmZmZmZhhoQDMzMzMzEWtAAAAAAAAKbkBmZmZmZoFwQM3MzMzM/XFAMzMzMzN6c0CamZmZmfZ0QAAAAAAAc3ZAZmZmZmbvd0DNzMzMzGt5QDMzMzMz6HpAmpmZmZlkfEAAAAAAAOF9QGZmZmZmXX9AZmZmZuZsgECamZmZGSuBQM3MzMxM6YFAAAAAAICngkAzMzMzs2WDQGZmZmbmI4RAmpmZmRnihEDNzMzMTKCFQAAAAACAXoZAMzMzM7Mch0BmZmZm5tqHQJqZmZkZmYhAzczMzExXiUAAAAAAgBWKQDMzMzOz04pAZmZmZuaRi0CamZmZGVCMQM3MzMxMDo1AAAAAAIDMjUAzMzMzs4qOQGZmZmbmSI9A\",\"dtype\":\"float64\",\"shape\":[75]}},\"selected\":{\"id\":\"57fd50ea-2b41-466a-add7-4ae579759390\",\"type\":\"Selection\"},\"selection_policy\":{\"id\":\"551f4006-688a-4603-b44a-eac3c76e52cc\",\"type\":\"UnionRenderers\"}},\"id\":\"75f9187a-60b7-4112-b0a0-c71b47461407\",\"type\":\"ColumnDataSource\"},{\"attributes\":{\"source\":{\"id\":\"9d16c172-a9e0-4577-afd8-805df43fc22c\",\"type\":\"ColumnDataSource\"}},\"id\":\"e1612f53-cee1-424c-92db-9dd8902be246\",\"type\":\"CDSView\"},{\"attributes\":{\"source\":{\"id\":\"903d5dc6-902a-4167-a41b-2060a2e7dcea\",\"type\":\"ColumnDataSource\"}},\"id\":\"80690ed1-a5b7-4ffd-9a78-ae062f1b7e87\",\"type\":\"CDSView\"},{\"attributes\":{\"label\":{\"value\":\"CLIRAD\"},\"renderers\":[{\"id\":\"7be26e60-a475-4b6e-9eb3-a8a357a7db5d\",\"type\":\"GlyphRenderer\"}]},\"id\":\"2c1d0589-5a87-460c-a452-29bd7953f130\",\"type\":\"LegendItem\"},{\"attributes\":{\"line_alpha\":0.6,\"line_color\":\"#e41a1c\",\"line_dash\":[6],\"line_width\":5,\"x\":{\"field\":\"x\"},\"y\":{\"field\":\"y\"}},\"id\":\"49ac9886-fd25-43b1-903e-efb74ec8e926\",\"type\":\"Line\"},{\"attributes\":{\"fill_alpha\":{\"value\":0.7},\"fill_color\":{\"value\":\"#4daf4a\"},\"line_alpha\":{\"value\":0.7},\"line_color\":{\"value\":\"#4daf4a\"},\"x\":{\"field\":\"x\"},\"y\":{\"field\":\"y\"}},\"id\":\"8d7b03cc-b830-4d51-bf5f-8df2b0092033\",\"type\":\"Circle\"},{\"attributes\":{\"line_alpha\":0.1,\"line_color\":\"#1f77b4\",\"line_width\":1.5,\"x\":{\"field\":\"x\"},\"y\":{\"field\":\"y\"}},\"id\":\"042753ca-2a28-47fd-ae1e-fb98b734f995\",\"type\":\"Line\"},{\"attributes\":{\"data_source\":{\"id\":\"30d1f89c-ba1d-4f4d-bf9e-1de9e96e87b3\",\"type\":\"ColumnDataSource\"},\"glyph\":{\"id\":\"7d087223-882f-4796-9235-350cddd53f9c\",\"type\":\"Circle\"},\"hover_glyph\":null,\"muted_glyph\":null,\"nonselection_glyph\":{\"id\":\"20e2d00a-1b2c-4536-b89e-4d0381c6cf49\",\"type\":\"Circle\"},\"selection_glyph\":null,\"view\":{\"id\":\"0c37e5dc-ee9f-459a-abc1-9ae1553c2c4f\",\"type\":\"CDSView\"}},\"id\":\"861a9bdf-6a6d-4feb-a116-38f6e24549b4\",\"type\":\"GlyphRenderer\"},{\"attributes\":{\"line_alpha\":0.1,\"line_color\":\"#1f77b4\",\"line_width\":1.5,\"x\":{\"field\":\"x\"},\"y\":{\"field\":\"y\"}},\"id\":\"f81ecf11-0262-4ca8-89ce-82b24870a846\",\"type\":\"Line\"},{\"attributes\":{\"data_source\":{\"id\":\"1f2bd854-d6a0-4bb2-98e2-959364f05485\",\"type\":\"ColumnDataSource\"},\"glyph\":{\"id\":\"12a87300-8d55-4b6c-877a-38c9d5b77f93\",\"type\":\"Line\"},\"hover_glyph\":null,\"muted_glyph\":null,\"nonselection_glyph\":{\"id\":\"f81ecf11-0262-4ca8-89ce-82b24870a846\",\"type\":\"Line\"},\"selection_glyph\":null,\"view\":{\"id\":\"3a6b13c6-6777-400f-99eb-0be9b23dff27\",\"type\":\"CDSView\"}},\"id\":\"eacde0c6-dc46-4ebb-9160-35fa018269ac\",\"type\":\"GlyphRenderer\"},{\"attributes\":{\"label\":{\"value\":\"CRD\"},\"renderers\":[{\"id\":\"5211697d-edc6-4bed-ab1e-17e15042d2e3\",\"type\":\"GlyphRenderer\"},{\"id\":\"1c18ccb8-bfea-4c89-9ae3-f2bee35b4c56\",\"type\":\"GlyphRenderer\"}]},\"id\":\"8f11fb7d-c175-4cc7-abc6-ece31922d65d\",\"type\":\"LegendItem\"},{\"attributes\":{\"source\":{\"id\":\"1f2bd854-d6a0-4bb2-98e2-959364f05485\",\"type\":\"ColumnDataSource\"}},\"id\":\"3a6b13c6-6777-400f-99eb-0be9b23dff27\",\"type\":\"CDSView\"},{\"attributes\":{\"callback\":null,\"data\":{\"x\":{\"__ndarray__\":\"5A1qMObWnD9c3erwyaecPyYVPCWhXZw/UyJCiboCnD9QF++f3KqbP7wP4q/yUJs/nqPwAQMGmz8Qrzs6xr6aP+pzevwsf5o/sGXMOYVQmj/ecBa1BjaaP6cVz25nPpo/4WUZqGRumj/1DJsxHr+aPykDRBeN4pk/T053kZfrlj+qzyMvfNeSPyC0XSKQq4w/MJmzCfPIgj/wsbLy1dJvP1BkpsEomWC/dJHgeARYgL9AbvD/j4V7v8A4fn20BVI/5BJmK0aVgT+gYnE/rZCMP1Ycy0TcX48/5M1bIR4ciz9EXa0LJpuCP/hSHoW+h3E/UHmhyDAxIb8sNLTsznRtvw9vX59JUXm/Y6J1wbvigL874/dOvnSDvz95s2GoHoS/MS5Ssfy8g78I1ZbS5HaEv9jnmGPhOoa/r2asHKurhr/jWSX3hHyGv3bjirdI9IW/mpHjxUAihb8OTj8G/RWEv/FYILwl2YK/PvpQCvVugb9FM4kQlOh/v+2Il6PfsHy/HE3qX6Rkeb+8a6LxMQh2v7Zhfnptp3K/ICfg6eKubr8kFk1BYOBnvxTxCn5Dc2G/qvMoeC0RVr8QETpsO8dEv0DeB4dz2Qw/WJbjKtrJRT9Y8S/df79TP3iB+S4cPVs/sBJbkBnnYD+IE0vjeohkPxDeW1Q1iGk/rHn8GwpYcD/MUtkai1J0P7jdtE6Z8Xc/THASzJaBej/8e2lXDwJ8P7jrAncDeXw/TGLp2TI0fD/cy5NXJn17PwCxUv8oA3o/6HCmzy/Gdz9ozqK5RrJ0P9i6ANMgB3A/\",\"dtype\":\"float64\",\"shape\":[75]},\"y\":{\"__ndarray__\":\"GhExyth1ND/Sv8nbtpRIP2vylNV0PVE/aTum7souWD/At0SJ8fVgPw3Iuahxymc/MSNhhJWvcD/bTfBN02d3P2zb5nxnaoA/CD5h5MAGhz8NmeH1TyaQP+zrCsc9p5Y/LbKd76fGnz/bLW5ISEmmPww9YvTcQq8/JV2OstnstT8Er5Y7M8G+P0c+r3jqkcU/5h99k6ZBzj88bCIzFzjVP4enV8oyxN0//yH99nXg5D8qOpLLf0jtP5kqGJXUifQ/c9cS8kHP/D+/DpwzojQEQIEmwoanVwxA4lgXt9HgE0BSSZ2AJuIbQAMJih9jjiNA5q4l5INuK0AwTKYKRj0zQNv5fmq8/DpAaCJseHrtQkB/+zpwzoxKQM3MzMzMeFJAZmZmZmZqWEAAAAAAAFxeQM3MzMzMJmJAmpmZmZkfZUBmZmZmZhhoQDMzMzMzEWtAAAAAAAAKbkBmZmZmZoFwQM3MzMzM/XFAMzMzMzN6c0CamZmZmfZ0QAAAAAAAc3ZAZmZmZmbvd0DNzMzMzGt5QDMzMzMz6HpAmpmZmZlkfEAAAAAAAOF9QGZmZmZmXX9AZmZmZuZsgECamZmZGSuBQM3MzMxM6YFAAAAAAICngkAzMzMzs2WDQGZmZmbmI4RAmpmZmRnihEDNzMzMTKCFQAAAAACAXoZAMzMzM7Mch0BmZmZm5tqHQJqZmZkZmYhAzczMzExXiUAAAAAAgBWKQDMzMzOz04pAZmZmZuaRi0CamZmZGVCMQM3MzMxMDo1AAAAAAIDMjUAzMzMzs4qOQGZmZmbmSI9A\",\"dtype\":\"float64\",\"shape\":[75]}},\"selected\":{\"id\":\"f43fe2d9-9421-41e4-a258-eaf24440e7ea\",\"type\":\"Selection\"},\"selection_policy\":{\"id\":\"804a01cf-14e1-42b1-ab3e-99b096216987\",\"type\":\"UnionRenderers\"}},\"id\":\"9d16c172-a9e0-4577-afd8-805df43fc22c\",\"type\":\"ColumnDataSource\"},{\"attributes\":{\"above\":[{\"id\":\"4a9ea253-de5d-4012-baa0-c1f05858f354\",\"type\":\"Legend\"}],\"below\":[{\"id\":\"19971d78-7075-40af-a96a-5bf30f54b38b\",\"type\":\"LinearAxis\"}],\"left\":[{\"id\":\"e166ddd7-9111-45bb-a5ed-f4f7853c546c\",\"type\":\"LogAxis\"}],\"plot_width\":300,\"renderers\":[{\"id\":\"19971d78-7075-40af-a96a-5bf30f54b38b\",\"type\":\"LinearAxis\"},{\"id\":\"a1d315ca-0604-404a-ac30-824ae7e7a12c\",\"type\":\"Grid\"},{\"id\":\"e166ddd7-9111-45bb-a5ed-f4f7853c546c\",\"type\":\"LogAxis\"},{\"id\":\"3ddf3920-eb35-4e84-be1f-45835760ad16\",\"type\":\"Grid\"},{\"id\":\"40ec096d-054b-4ca3-a453-1c069c08527c\",\"type\":\"BoxAnnotation\"},{\"id\":\"861a9bdf-6a6d-4feb-a116-38f6e24549b4\",\"type\":\"GlyphRenderer\"},{\"id\":\"09279285-254e-47d7-8399-2bb6fa32ade8\",\"type\":\"GlyphRenderer\"},{\"id\":\"4a9ea253-de5d-4012-baa0-c1f05858f354\",\"type\":\"Legend\"}],\"title\":{\"id\":\"291267cb-16be-460b-a774-ce1171ff9d95\",\"type\":\"Title\"},\"toolbar\":{\"id\":\"feccee8d-d456-4d4e-bf3f-affe7a5a28b2\",\"type\":\"Toolbar\"},\"toolbar_location\":null,\"x_range\":{\"id\":\"019cf60f-ce03-4927-a7af-de02b73fadca\",\"type\":\"Range1d\"},\"x_scale\":{\"id\":\"a5127c22-d128-47fa-b271-044fe7652076\",\"type\":\"LinearScale\"},\"y_range\":{\"id\":\"8311bad1-f0db-4b7b-8d7a-2b54b435d5ac\",\"type\":\"Range1d\"},\"y_scale\":{\"id\":\"31f693df-eb8a-41a2-a013-e84cc6838aa7\",\"type\":\"LogScale\"}},\"id\":\"8fa95e5c-98ba-4038-b62b-7ff45266c585\",\"subtype\":\"Figure\",\"type\":\"Plot\"},{\"attributes\":{\"callback\":null,\"end\":0.01,\"start\":1020},\"id\":\"0018e696-caa8-4bcf-b251-981d29236304\",\"type\":\"Range1d\"},{\"attributes\":{\"line_color\":\"#4daf4a\",\"line_width\":1.5,\"x\":{\"field\":\"x\"},\"y\":{\"field\":\"y\"}},\"id\":\"a3458bdf-ae40-4308-bd81-db044503f82f\",\"type\":\"Line\"},{\"attributes\":{\"active_drag\":\"auto\",\"active_inspect\":\"auto\",\"active_scroll\":\"auto\",\"active_tap\":\"auto\",\"tools\":[{\"id\":\"4a7134ae-ebfe-4ef2-ae48-c8750b41becb\",\"type\":\"PanTool\"},{\"id\":\"96f19c87-af28-4a87-a409-61492d5299ab\",\"type\":\"WheelZoomTool\"},{\"id\":\"b98e3461-d01d-4100-bb12-d18050b07b4e\",\"type\":\"BoxZoomTool\"},{\"id\":\"00f4a8b3-942b-4118-8efb-762833ffd2ba\",\"type\":\"SaveTool\"},{\"id\":\"380f9d80-f5f5-424a-8ddd-4dcee4de4cea\",\"type\":\"ResetTool\"},{\"id\":\"2e5aa7ac-f216-44f2-a8ea-1010cad70483\",\"type\":\"HelpTool\"}]},\"id\":\"feccee8d-d456-4d4e-bf3f-affe7a5a28b2\",\"type\":\"Toolbar\"},{\"attributes\":{\"line_alpha\":0.8,\"line_color\":\"#984ea3\",\"line_width\":1.5,\"x\":{\"field\":\"x\"},\"y\":{\"field\":\"y\"}},\"id\":\"1a9991ff-4a84-415d-ab7f-eabcdd979d8b\",\"type\":\"Line\"},{\"attributes\":{\"callback\":null,\"end\":0.01,\"start\":1020},\"id\":\"bb2f63dd-35cf-4e7c-a87d-57241ad217d4\",\"type\":\"Range1d\"},{\"attributes\":{\"fill_alpha\":{\"value\":0.1},\"fill_color\":{\"value\":\"#1f77b4\"},\"line_alpha\":{\"value\":0.1},\"line_color\":{\"value\":\"#1f77b4\"},\"x\":{\"field\":\"x\"},\"y\":{\"field\":\"y\"}},\"id\":\"a266cf9a-2e11-49d7-8321-6d46614b74fe\",\"type\":\"Circle\"},{\"attributes\":{},\"id\":\"3ca74d95-5c6a-4acc-b0d6-badd86c56351\",\"type\":\"UnionRenderers\"},{\"attributes\":{\"fill_alpha\":{\"value\":0.7},\"fill_color\":{\"value\":\"#4daf4a\"},\"line_alpha\":{\"value\":0.7},\"line_color\":{\"value\":\"#4daf4a\"},\"x\":{\"field\":\"x\"},\"y\":{\"field\":\"y\"}},\"id\":\"c5bf138f-ad50-4741-9c67-a1d66a03d6ae\",\"type\":\"Circle\"},{\"attributes\":{\"data_source\":{\"id\":\"9d16c172-a9e0-4577-afd8-805df43fc22c\",\"type\":\"ColumnDataSource\"},\"glyph\":{\"id\":\"1a9991ff-4a84-415d-ab7f-eabcdd979d8b\",\"type\":\"Line\"},\"hover_glyph\":null,\"muted_glyph\":null,\"nonselection_glyph\":{\"id\":\"042753ca-2a28-47fd-ae1e-fb98b734f995\",\"type\":\"Line\"},\"selection_glyph\":null,\"view\":{\"id\":\"e1612f53-cee1-424c-92db-9dd8902be246\",\"type\":\"CDSView\"}},\"id\":\"09279285-254e-47d7-8399-2bb6fa32ade8\",\"type\":\"GlyphRenderer\"},{\"attributes\":{\"above\":[{\"id\":\"ea5bcd4b-922b-4eff-851f-21c0ba75b6e8\",\"type\":\"Legend\"}],\"below\":[{\"id\":\"29a10b25-048b-4666-a040-9e9bd6524eca\",\"type\":\"LinearAxis\"}],\"left\":[{\"id\":\"eff220c3-111a-4421-b3c1-14a0647b32a9\",\"type\":\"LinearAxis\"}],\"plot_width\":300,\"renderers\":[{\"id\":\"29a10b25-048b-4666-a040-9e9bd6524eca\",\"type\":\"LinearAxis\"},{\"id\":\"14b0314a-3309-42b3-9fb7-510fad6994d4\",\"type\":\"Grid\"},{\"id\":\"eff220c3-111a-4421-b3c1-14a0647b32a9\",\"type\":\"LinearAxis\"},{\"id\":\"42deb231-e2a2-4546-af90-7e042a169ee3\",\"type\":\"Grid\"},{\"id\":\"f5fc2135-7a05-4520-8535-3530418eedc4\",\"type\":\"BoxAnnotation\"},{\"id\":\"7be26e60-a475-4b6e-9eb3-a8a357a7db5d\",\"type\":\"GlyphRenderer\"},{\"id\":\"5211697d-edc6-4bed-ab1e-17e15042d2e3\",\"type\":\"GlyphRenderer\"},{\"id\":\"1c18ccb8-bfea-4c89-9ae3-f2bee35b4c56\",\"type\":\"GlyphRenderer\"},{\"id\":\"ea5bcd4b-922b-4eff-851f-21c0ba75b6e8\",\"type\":\"Legend\"}],\"title\":{\"id\":\"ba0b220f-52f2-433b-9af3-56ad178ff6d1\",\"type\":\"Title\"},\"toolbar\":{\"id\":\"53b3bc46-49da-413a-b9ce-96272b2ce08d\",\"type\":\"Toolbar\"},\"toolbar_location\":null,\"x_range\":{\"id\":\"6f6dc77b-9da8-4be8-8402-8092efedc254\",\"type\":\"Range1d\"},\"x_scale\":{\"id\":\"93352447-018c-4258-8130-bf718a3dcc61\",\"type\":\"LinearScale\"},\"y_range\":{\"id\":\"0018e696-caa8-4bcf-b251-981d29236304\",\"type\":\"Range1d\"},\"y_scale\":{\"id\":\"0fc2401b-9814-42bf-b1bc-825a90c82520\",\"type\":\"LinearScale\"}},\"id\":\"ec87646f-4436-4365-96cd-a25117f734bb\",\"subtype\":\"Figure\",\"type\":\"Plot\"},{\"attributes\":{\"data_source\":{\"id\":\"73b3e671-0164-4b5f-a503-0092aaa67e37\",\"type\":\"ColumnDataSource\"},\"glyph\":{\"id\":\"b6e7b480-c245-4af4-9efe-32279ea71ea6\",\"type\":\"Line\"},\"hover_glyph\":null,\"muted_glyph\":null,\"nonselection_glyph\":{\"id\":\"41e63860-4563-4d9f-ae3d-f6359f25507e\",\"type\":\"Line\"},\"selection_glyph\":null,\"view\":{\"id\":\"02f8936b-6134-411f-875c-0fa9ab01c9a3\",\"type\":\"CDSView\"}},\"id\":\"7be26e60-a475-4b6e-9eb3-a8a357a7db5d\",\"type\":\"GlyphRenderer\"},{\"attributes\":{\"bottom_units\":\"screen\",\"fill_alpha\":{\"value\":0.5},\"fill_color\":{\"value\":\"lightgrey\"},\"left_units\":\"screen\",\"level\":\"overlay\",\"line_alpha\":{\"value\":1.0},\"line_color\":{\"value\":\"black\"},\"line_dash\":[4,4],\"line_width\":{\"value\":2},\"plot\":null,\"render_mode\":\"css\",\"right_units\":\"screen\",\"top_units\":\"screen\"},\"id\":\"f5fc2135-7a05-4520-8535-3530418eedc4\",\"type\":\"BoxAnnotation\"},{\"attributes\":{},\"id\":\"a5127c22-d128-47fa-b271-044fe7652076\",\"type\":\"LinearScale\"},{\"attributes\":{\"callback\":null,\"data\":{\"x\":{\"__ndarray__\":\"5A1qMObWnD9c3erwyaecPyYVPCWhXZw/UyJCiboCnD9QF++f3KqbP7wP4q/yUJs/nqPwAQMGmz8Qrzs6xr6aP+pzevwsf5o/sGXMOYVQmj/ecBa1BjaaP6cVz25nPpo/4WUZqGRumj/1DJsxHr+aPykDRBeN4pk/T053kZfrlj+qzyMvfNeSPyC0XSKQq4w/MJmzCfPIgj/wsbLy1dJvP1BkpsEomWC/dJHgeARYgL9AbvD/j4V7v8A4fn20BVI/5BJmK0aVgT+gYnE/rZCMP1Ycy0TcX48/5M1bIR4ciz9EXa0LJpuCP/hSHoW+h3E/UHmhyDAxIb8sNLTsznRtvw9vX59JUXm/Y6J1wbvigL874/dOvnSDvz95s2GoHoS/MS5Ssfy8g78I1ZbS5HaEv9jnmGPhOoa/r2asHKurhr/jWSX3hHyGv3bjirdI9IW/mpHjxUAihb8OTj8G/RWEv/FYILwl2YK/PvpQCvVugb9FM4kQlOh/v+2Il6PfsHy/HE3qX6Rkeb+8a6LxMQh2v7Zhfnptp3K/ICfg6eKubr8kFk1BYOBnvxTxCn5Dc2G/qvMoeC0RVr8QETpsO8dEv0DeB4dz2Qw/WJbjKtrJRT9Y8S/df79TP3iB+S4cPVs/sBJbkBnnYD+IE0vjeohkPxDeW1Q1iGk/rHn8GwpYcD/MUtkai1J0P7jdtE6Z8Xc/THASzJaBej/8e2lXDwJ8P7jrAncDeXw/TGLp2TI0fD/cy5NXJn17PwCxUv8oA3o/6HCmzy/Gdz9ozqK5RrJ0P9i6ANMgB3A/\",\"dtype\":\"float64\",\"shape\":[75]},\"y\":{\"__ndarray__\":\"GhExyth1ND/Sv8nbtpRIP2vylNV0PVE/aTum7souWD/At0SJ8fVgPw3Iuahxymc/MSNhhJWvcD/bTfBN02d3P2zb5nxnaoA/CD5h5MAGhz8NmeH1TyaQP+zrCsc9p5Y/LbKd76fGnz/bLW5ISEmmPww9YvTcQq8/JV2OstnstT8Er5Y7M8G+P0c+r3jqkcU/5h99k6ZBzj88bCIzFzjVP4enV8oyxN0//yH99nXg5D8qOpLLf0jtP5kqGJXUifQ/c9cS8kHP/D+/DpwzojQEQIEmwoanVwxA4lgXt9HgE0BSSZ2AJuIbQAMJih9jjiNA5q4l5INuK0AwTKYKRj0zQNv5fmq8/DpAaCJseHrtQkB/+zpwzoxKQM3MzMzMeFJAZmZmZmZqWEAAAAAAAFxeQM3MzMzMJmJAmpmZmZkfZUBmZmZmZhhoQDMzMzMzEWtAAAAAAAAKbkBmZmZmZoFwQM3MzMzM/XFAMzMzMzN6c0CamZmZmfZ0QAAAAAAAc3ZAZmZmZmbvd0DNzMzMzGt5QDMzMzMz6HpAmpmZmZlkfEAAAAAAAOF9QGZmZmZmXX9AZmZmZuZsgECamZmZGSuBQM3MzMxM6YFAAAAAAICngkAzMzMzs2WDQGZmZmbmI4RAmpmZmRnihEDNzMzMTKCFQAAAAACAXoZAMzMzM7Mch0BmZmZm5tqHQJqZmZkZmYhAzczMzExXiUAAAAAAgBWKQDMzMzOz04pAZmZmZuaRi0CamZmZGVCMQM3MzMxMDo1AAAAAAIDMjUAzMzMzs4qOQGZmZmbmSI9A\",\"dtype\":\"float64\",\"shape\":[75]}},\"selected\":{\"id\":\"8a4a9107-6399-42d3-b6a1-9626ea29e0c3\",\"type\":\"Selection\"},\"selection_policy\":{\"id\":\"d84e7fc4-3704-44d1-b148-e9a7b97c5352\",\"type\":\"UnionRenderers\"}},\"id\":\"30d1f89c-ba1d-4f4d-bf9e-1de9e96e87b3\",\"type\":\"ColumnDataSource\"},{\"attributes\":{},\"id\":\"c4238424-73c3-44d8-b794-023a2c52fcc3\",\"type\":\"WheelZoomTool\"},{\"attributes\":{\"line_alpha\":0.1,\"line_color\":\"#1f77b4\",\"line_dash\":[6],\"line_width\":5,\"x\":{\"field\":\"x\"},\"y\":{\"field\":\"y\"}},\"id\":\"41e63860-4563-4d9f-ae3d-f6359f25507e\",\"type\":\"Line\"},{\"attributes\":{},\"id\":\"d4b0a666-1141-4960-975b-4ac2db710018\",\"type\":\"UnionRenderers\"},{\"attributes\":{},\"id\":\"551f4006-688a-4603-b44a-eac3c76e52cc\",\"type\":\"UnionRenderers\"},{\"attributes\":{},\"id\":\"31f693df-eb8a-41a2-a013-e84cc6838aa7\",\"type\":\"LogScale\"},{\"attributes\":{},\"id\":\"ea7ec08c-c909-4c3f-b86f-0fd68857435b\",\"type\":\"BasicTickFormatter\"},{\"attributes\":{},\"id\":\"57fd50ea-2b41-466a-add7-4ae579759390\",\"type\":\"Selection\"},{\"attributes\":{\"axis_label\":\"pressure [mb]\",\"formatter\":{\"id\":\"06a1c302-869f-464b-b4a5-a32ae3ee2f9d\",\"type\":\"LogTickFormatter\"},\"plot\":{\"id\":\"8fa95e5c-98ba-4038-b62b-7ff45266c585\",\"subtype\":\"Figure\",\"type\":\"Plot\"},\"ticker\":{\"id\":\"3d682769-9e0f-430d-ae5c-1b8ad5582363\",\"type\":\"LogTicker\"}},\"id\":\"e166ddd7-9111-45bb-a5ed-f4f7853c546c\",\"type\":\"LogAxis\"},{\"attributes\":{\"dimension\":1,\"plot\":{\"id\":\"8fa95e5c-98ba-4038-b62b-7ff45266c585\",\"subtype\":\"Figure\",\"type\":\"Plot\"},\"ticker\":{\"id\":\"3d682769-9e0f-430d-ae5c-1b8ad5582363\",\"type\":\"LogTicker\"}},\"id\":\"3ddf3920-eb35-4e84-be1f-45835760ad16\",\"type\":\"Grid\"},{\"attributes\":{},\"id\":\"804a01cf-14e1-42b1-ab3e-99b096216987\",\"type\":\"UnionRenderers\"},{\"attributes\":{\"overlay\":{\"id\":\"f5fc2135-7a05-4520-8535-3530418eedc4\",\"type\":\"BoxAnnotation\"}},\"id\":\"f3f7fed7-0c1c-441a-84eb-ee4b175c886c\",\"type\":\"BoxZoomTool\"},{\"attributes\":{},\"id\":\"a03c5902-3c7f-41e4-9eae-e16d92dbf745\",\"type\":\"PanTool\"},{\"attributes\":{\"children\":[{\"id\":\"0e88a9c3-bccc-43d4-91ec-3e1ab68e9549\",\"type\":\"ToolbarBox\"},{\"id\":\"fa7bfe2d-e2dd-4f88-983e-1f928801a5f5\",\"type\":\"Column\"}]},\"id\":\"71ff1424-94e7-471c-947a-a454cd1d3608\",\"type\":\"Column\"},{\"attributes\":{\"line_alpha\":0.6,\"line_color\":\"#e41a1c\",\"line_dash\":[6],\"line_width\":5,\"x\":{\"field\":\"x\"},\"y\":{\"field\":\"y\"}},\"id\":\"b6e7b480-c245-4af4-9efe-32279ea71ea6\",\"type\":\"Line\"},{\"attributes\":{\"dimension\":1,\"plot\":{\"id\":\"ec87646f-4436-4365-96cd-a25117f734bb\",\"subtype\":\"Figure\",\"type\":\"Plot\"},\"ticker\":{\"id\":\"4d5cc2da-50ab-4799-ae61-ff802550736c\",\"type\":\"BasicTicker\"}},\"id\":\"42deb231-e2a2-4546-af90-7e042a169ee3\",\"type\":\"Grid\"},{\"attributes\":{\"tools\":[{\"id\":\"a03c5902-3c7f-41e4-9eae-e16d92dbf745\",\"type\":\"PanTool\"},{\"id\":\"c4238424-73c3-44d8-b794-023a2c52fcc3\",\"type\":\"WheelZoomTool\"},{\"id\":\"f3f7fed7-0c1c-441a-84eb-ee4b175c886c\",\"type\":\"BoxZoomTool\"},{\"id\":\"d55a92be-1dd1-4e04-a292-c34a1bd0b989\",\"type\":\"SaveTool\"},{\"id\":\"745fef93-edf7-442b-8a4a-6d143c544b8b\",\"type\":\"ResetTool\"},{\"id\":\"f22e8fdc-8d50-4f6d-a671-a66b853c4653\",\"type\":\"HelpTool\"},{\"id\":\"2d37573d-11a8-4c86-b16f-7b0e26e959ca\",\"type\":\"PanTool\"},{\"id\":\"6c1fb30a-b6a5-46d0-93d9-18c7e5a83a28\",\"type\":\"WheelZoomTool\"},{\"id\":\"a0bb4380-da04-437d-a449-07898b69f498\",\"type\":\"BoxZoomTool\"},{\"id\":\"4a9083ca-584c-4ac6-a2e9-03a02eebc974\",\"type\":\"SaveTool\"},{\"id\":\"917dfc48-0694-4128-8572-72c3910c7030\",\"type\":\"ResetTool\"},{\"id\":\"0af6e238-1ffe-4367-8af0-ab6b8ca88ff5\",\"type\":\"HelpTool\"},{\"id\":\"4a7134ae-ebfe-4ef2-ae48-c8750b41becb\",\"type\":\"PanTool\"},{\"id\":\"96f19c87-af28-4a87-a409-61492d5299ab\",\"type\":\"WheelZoomTool\"},{\"id\":\"b98e3461-d01d-4100-bb12-d18050b07b4e\",\"type\":\"BoxZoomTool\"},{\"id\":\"00f4a8b3-942b-4118-8efb-762833ffd2ba\",\"type\":\"SaveTool\"},{\"id\":\"380f9d80-f5f5-424a-8ddd-4dcee4de4cea\",\"type\":\"ResetTool\"},{\"id\":\"2e5aa7ac-f216-44f2-a8ea-1010cad70483\",\"type\":\"HelpTool\"}]},\"id\":\"03d6839e-07ba-4594-86fb-1b1c3fa4765c\",\"type\":\"ProxyToolbar\"},{\"attributes\":{},\"id\":\"4d5cc2da-50ab-4799-ae61-ff802550736c\",\"type\":\"BasicTicker\"},{\"attributes\":{\"axis_label\":\"cooling rate [K/day]\",\"formatter\":{\"id\":\"2886f8d4-8c85-454e-b012-1a55dfa2d3cf\",\"type\":\"BasicTickFormatter\"},\"plot\":{\"id\":\"ec87646f-4436-4365-96cd-a25117f734bb\",\"subtype\":\"Figure\",\"type\":\"Plot\"},\"ticker\":{\"id\":\"0a01067c-9a92-4e6e-b15e-ccc218de46c5\",\"type\":\"BasicTicker\"}},\"id\":\"29a10b25-048b-4666-a040-9e9bd6524eca\",\"type\":\"LinearAxis\"},{\"attributes\":{\"plot\":{\"id\":\"8fa95e5c-98ba-4038-b62b-7ff45266c585\",\"subtype\":\"Figure\",\"type\":\"Plot\"},\"ticker\":{\"id\":\"861e2d21-924a-4d1b-b6ff-78a82889455d\",\"type\":\"BasicTicker\"}},\"id\":\"a1d315ca-0604-404a-ac30-824ae7e7a12c\",\"type\":\"Grid\"},{\"attributes\":{},\"id\":\"6883a44c-8998-462d-a0f4-8a693576db74\",\"type\":\"Selection\"},{\"attributes\":{},\"id\":\"0a01067c-9a92-4e6e-b15e-ccc218de46c5\",\"type\":\"BasicTicker\"},{\"attributes\":{},\"id\":\"93352447-018c-4258-8130-bf718a3dcc61\",\"type\":\"LinearScale\"},{\"attributes\":{\"axis_label\":\"pressure [mb]\",\"formatter\":{\"id\":\"01d5a141-bb64-4a70-8804-d2847bfd62b9\",\"type\":\"BasicTickFormatter\"},\"plot\":{\"id\":\"ec87646f-4436-4365-96cd-a25117f734bb\",\"subtype\":\"Figure\",\"type\":\"Plot\"},\"ticker\":{\"id\":\"4d5cc2da-50ab-4799-ae61-ff802550736c\",\"type\":\"BasicTicker\"}},\"id\":\"eff220c3-111a-4421-b3c1-14a0647b32a9\",\"type\":\"LinearAxis\"},{\"attributes\":{},\"id\":\"d55a92be-1dd1-4e04-a292-c34a1bd0b989\",\"type\":\"SaveTool\"},{\"attributes\":{},\"id\":\"66761656-2256-41b9-916b-b1a25caccee2\",\"type\":\"BasicTickFormatter\"},{\"attributes\":{\"plot\":{\"id\":\"ec87646f-4436-4365-96cd-a25117f734bb\",\"subtype\":\"Figure\",\"type\":\"Plot\"},\"ticker\":{\"id\":\"0a01067c-9a92-4e6e-b15e-ccc218de46c5\",\"type\":\"BasicTicker\"}},\"id\":\"14b0314a-3309-42b3-9fb7-510fad6994d4\",\"type\":\"Grid\"},{\"attributes\":{\"plot\":null,\"text\":\"\"},\"id\":\"6e1fa678-d825-4092-b106-8d8f525da08e\",\"type\":\"Title\"},{\"attributes\":{\"axis_label\":\"cooling rate [K/day]\",\"formatter\":{\"id\":\"ea7ec08c-c909-4c3f-b86f-0fd68857435b\",\"type\":\"BasicTickFormatter\"},\"plot\":{\"id\":\"8fa95e5c-98ba-4038-b62b-7ff45266c585\",\"subtype\":\"Figure\",\"type\":\"Plot\"},\"ticker\":{\"id\":\"861e2d21-924a-4d1b-b6ff-78a82889455d\",\"type\":\"BasicTicker\"}},\"id\":\"19971d78-7075-40af-a96a-5bf30f54b38b\",\"type\":\"LinearAxis\"},{\"attributes\":{\"label\":{\"value\":\"CLIRAD\"},\"renderers\":[{\"id\":\"dbbb0386-9e30-47c6-b434-768646589a06\",\"type\":\"GlyphRenderer\"}]},\"id\":\"9fe23108-01d1-4668-8c37-806b179f70a1\",\"type\":\"LegendItem\"},{\"attributes\":{\"callback\":null,\"data\":{\"x\":{\"__ndarray__\":\"OsD25HFmY7/Bhn7zHRhiv4GPc8FrfFS/pehmiUAFQr8Od8pl6MImP1SxLpEUGE0/Ke+pqny+Wj/kY1uWlYJjP8ETO4htqGk/ONdFl0D3bz8IqqSj7hlzP3a5DHIBUXY/vmzLss94eT965ZaYpox9P3lde7GFkoY/a5aRYFLjkz+QNChLRY2fP7XmQuA4oaY/m59+foykrj+icxvKIAC0P31ypd06dbk/+s//EbIgvz/zDyE1vZDAPw1Msngf874/dJ15nZ5Cuz8lLnhXiZS2PzfnQfMJB7I/Y1M2N1bcqz/dWCg/85CkP9E0awsOV5w/KH5eaR4zkT+g+X/wj799P4CgODof9le/SAXNpNO/hL+lcTYe4HiVv3HxDFduJKG/TYpJk68Kpr8L/ncx+8Knv9DElN9sYKe/RlSKDri+pr8DDsk37eWlv0Vb6XoN3aS/8BOpXXyho78sIkE7uDqiv8y45SKCrKC/GlDXiQbynb/n1dlOeFGavxXVx2yHcZa/uluFvBlfkr9acsC/JjmMv1ziXwPHXoO/gkZAN7d2dL+zxNaxUIg3vzxWQo0h9XE/KkG+DCECgz+50s3wPTeNP2dXBTi02pM/gezniS8xmT9suyco8p6eP1eQZEi2C6I/TjynQ7m+pD8L30aSb0mnP7FoN8sGgKk/bHrgcl5aqz+Ko8wLCvisPzTRadKnmK4/qeMgZlI1sD8LZFqoKEKxP+SoJfAwabI/TXy/ENqgsz+nLlNqEOW0P9tTAhopLrY/TrzX0Sp8tz8iX8IopdG4PwLinuMkKro/\",\"dtype\":\"float64\",\"shape\":[75]},\"y\":{\"__ndarray__\":\"GhExyth1ND/Sv8nbtpRIP2vylNV0PVE/aTum7souWD/At0SJ8fVgPw3Iuahxymc/MSNhhJWvcD/bTfBN02d3P2zb5nxnaoA/CD5h5MAGhz8NmeH1TyaQP+zrCsc9p5Y/LbKd76fGnz/bLW5ISEmmPww9YvTcQq8/JV2OstnstT8Er5Y7M8G+P0c+r3jqkcU/5h99k6ZBzj88bCIzFzjVP4enV8oyxN0//yH99nXg5D8qOpLLf0jtP5kqGJXUifQ/c9cS8kHP/D+/DpwzojQEQIEmwoanVwxA4lgXt9HgE0BSSZ2AJuIbQAMJih9jjiNA5q4l5INuK0AwTKYKRj0zQNv5fmq8/DpAaCJseHrtQkB/+zpwzoxKQM3MzMzMeFJAZmZmZmZqWEAAAAAAAFxeQM3MzMzMJmJAmpmZmZkfZUBmZmZmZhhoQDMzMzMzEWtAAAAAAAAKbkBmZmZmZoFwQM3MzMzM/XFAMzMzMzN6c0CamZmZmfZ0QAAAAAAAc3ZAZmZmZmbvd0DNzMzMzGt5QDMzMzMz6HpAmpmZmZlkfEAAAAAAAOF9QGZmZmZmXX9AZmZmZuZsgECamZmZGSuBQM3MzMxM6YFAAAAAAICngkAzMzMzs2WDQGZmZmbmI4RAmpmZmRnihEDNzMzMTKCFQAAAAACAXoZAMzMzM7Mch0BmZmZm5tqHQJqZmZkZmYhAzczMzExXiUAAAAAAgBWKQDMzMzOz04pAZmZmZuaRi0CamZmZGVCMQM3MzMxMDo1AAAAAAIDMjUAzMzMzs4qOQGZmZmbmSI9A\",\"dtype\":\"float64\",\"shape\":[75]}},\"selected\":{\"id\":\"9329040c-6fdd-4d4f-9656-5d0d5f28e96c\",\"type\":\"Selection\"},\"selection_policy\":{\"id\":\"7815ba08-acf4-483d-8ee2-ef9bb8a97a39\",\"type\":\"UnionRenderers\"}},\"id\":\"73b3e671-0164-4b5f-a503-0092aaa67e37\",\"type\":\"ColumnDataSource\"},{\"attributes\":{},\"id\":\"714b223a-3c9a-4dfa-84ac-0dbde859cd9e\",\"type\":\"UnionRenderers\"},{\"attributes\":{\"num_minor_ticks\":10},\"id\":\"3d682769-9e0f-430d-ae5c-1b8ad5582363\",\"type\":\"LogTicker\"},{\"attributes\":{},\"id\":\"f22e8fdc-8d50-4f6d-a671-a66b853c4653\",\"type\":\"HelpTool\"},{\"attributes\":{\"callback\":null,\"end\":0.01,\"start\":1020},\"id\":\"8311bad1-f0db-4b7b-8d7a-2b54b435d5ac\",\"type\":\"Range1d\"},{\"attributes\":{\"plot\":null,\"text\":\"\"},\"id\":\"291267cb-16be-460b-a774-ce1171ff9d95\",\"type\":\"Title\"},{\"attributes\":{\"callback\":null,\"end\":0.026491575111000004,\"start\":-0.011441512011},\"id\":\"019cf60f-ce03-4927-a7af-de02b73fadca\",\"type\":\"Range1d\"},{\"attributes\":{},\"id\":\"db0895dd-347c-4153-a048-ed6b0ba2bbe3\",\"type\":\"Selection\"},{\"attributes\":{\"ticker\":null},\"id\":\"06a1c302-869f-464b-b4a5-a32ae3ee2f9d\",\"type\":\"LogTickFormatter\"},{\"attributes\":{\"callback\":null,\"end\":0.137958430696809,\"start\":-0.04823488837770777},\"id\":\"2828b1d5-1700-468d-aa10-04225b311ce6\",\"type\":\"Range1d\"},{\"attributes\":{},\"id\":\"0fc2401b-9814-42bf-b1bc-825a90c82520\",\"type\":\"LinearScale\"},{\"attributes\":{\"ticker\":null},\"id\":\"a0bca450-d753-46d8-b3ee-90a599a784c2\",\"type\":\"LogTickFormatter\"},{\"attributes\":{},\"id\":\"861e2d21-924a-4d1b-b6ff-78a82889455d\",\"type\":\"BasicTicker\"},{\"attributes\":{\"callback\":null,\"end\":0.10369171822075407,\"start\":-0.047895613996756736},\"id\":\"6f6dc77b-9da8-4be8-8402-8092efedc254\",\"type\":\"Range1d\"},{\"attributes\":{\"label\":{\"value\":\"CRD\"},\"renderers\":[{\"id\":\"45a10dd7-9942-478b-bfe3-d5ab8e6c8d07\",\"type\":\"GlyphRenderer\"},{\"id\":\"eacde0c6-dc46-4ebb-9160-35fa018269ac\",\"type\":\"GlyphRenderer\"}]},\"id\":\"7b9526e6-6849-421e-a3b2-f5fc84e86553\",\"type\":\"LegendItem\"},{\"attributes\":{},\"id\":\"410a1739-bdec-4c9c-b0b9-aa1967683ff1\",\"type\":\"UnionRenderers\"},{\"attributes\":{\"toolbar\":{\"id\":\"03d6839e-07ba-4594-86fb-1b1c3fa4765c\",\"type\":\"ProxyToolbar\"},\"toolbar_location\":\"above\"},\"id\":\"0e88a9c3-bccc-43d4-91ec-3e1ab68e9549\",\"type\":\"ToolbarBox\"},{\"attributes\":{},\"id\":\"d84e7fc4-3704-44d1-b148-e9a7b97c5352\",\"type\":\"UnionRenderers\"},{\"attributes\":{},\"id\":\"745fef93-edf7-442b-8a4a-6d143c544b8b\",\"type\":\"ResetTool\"},{\"attributes\":{},\"id\":\"8a4a9107-6399-42d3-b6a1-9626ea29e0c3\",\"type\":\"Selection\"},{\"attributes\":{},\"id\":\"f43fe2d9-9421-41e4-a258-eaf24440e7ea\",\"type\":\"Selection\"}],\"root_ids\":[\"71ff1424-94e7-471c-947a-a454cd1d3608\"]},\"title\":\"Bokeh Application\",\"version\":\"0.12.16\"}};\n",
       "  var render_items = [{\"docid\":\"39ad8d17-6838-4f4d-b6c7-9265bdf923cf\",\"elementid\":\"c6e33b88-c626-4f1d-be1b-db8dbd36b036\",\"modelid\":\"71ff1424-94e7-471c-947a-a454cd1d3608\"}];\n",
       "  root.Bokeh.embed.embed_items_notebook(docs_json, render_items);\n",
       "\n",
       "  }\n",
       "  if (root.Bokeh !== undefined) {\n",
       "    embed_document(root);\n",
       "  } else {\n",
       "    var attempts = 0;\n",
       "    var timer = setInterval(function(root) {\n",
       "      if (root.Bokeh !== undefined) {\n",
       "        embed_document(root);\n",
       "        clearInterval(timer);\n",
       "      }\n",
       "      attempts++;\n",
       "      if (attempts > 100) {\n",
       "        console.log(\"Bokeh: ERROR: Unable to run BokehJS code because BokehJS library is missing\")\n",
       "        clearInterval(timer);\n",
       "      }\n",
       "    }, 10, root)\n",
       "  }\n",
       "})(window);"
      ],
      "application/vnd.bokehjs_exec.v0+json": ""
     },
     "metadata": {
      "application/vnd.bokehjs_exec.v0+json": {
       "id": "71ff1424-94e7-471c-947a-a454cd1d3608"
      }
     },
     "output_type": "display_data"
    },
    {
     "data": {
      "text/markdown": [
       "*FIGURE.* Cooling rates & difference."
      ],
      "text/plain": [
       "<IPython.core.display.Markdown object>"
      ]
     },
     "metadata": {},
     "output_type": "display_data"
    },
    {
     "data": {
      "text/html": [
       "<a id=\"Fluxes._trp.\"></a>"
      ],
      "text/plain": [
       "<IPython.core.display.HTML object>"
      ]
     },
     "metadata": {},
     "output_type": "display_data"
    },
    {
     "data": {
      "text/markdown": [
       "# Fluxes. trp."
      ],
      "text/plain": [
       "<IPython.core.display.Markdown object>"
      ]
     },
     "metadata": {},
     "output_type": "display_data"
    },
    {
     "data": {
      "text/html": [
       "\n",
       "<div class=\"bk-root\">\n",
       "    <div class=\"bk-plotdiv\" id=\"1e1cc6fd-9fec-417d-81d3-a14bc90ffdb9\"></div>\n",
       "</div>"
      ]
     },
     "metadata": {},
     "output_type": "display_data"
    },
    {
     "data": {
      "application/javascript": [
       "(function(root) {\n",
       "  function embed_document(root) {\n",
       "    \n",
       "  var docs_json = {\"1576ee9b-6dd6-462d-92fc-75862e6cbd2d\":{\"roots\":{\"references\":[{\"attributes\":{},\"id\":\"f9fedb30-0f23-479c-bfef-507a163bd4ce\",\"type\":\"CategoricalTickFormatter\"},{\"attributes\":{},\"id\":\"e03ec98f-cc0f-448d-868b-4f1c5a33c180\",\"type\":\"BasicTicker\"},{\"attributes\":{},\"id\":\"606cb268-6342-4bb3-bd80-8d7f44f329ec\",\"type\":\"CategoricalTicker\"},{\"attributes\":{\"fill_alpha\":{\"value\":0.1},\"fill_color\":{\"value\":\"#1f77b4\"},\"line_alpha\":{\"value\":0.1},\"line_color\":{\"value\":\"#1f77b4\"},\"top\":{\"field\":\"flux\"},\"width\":{\"value\":0.9},\"x\":{\"field\":\"band\"}},\"id\":\"09978c2d-8f16-40e2-9b15-bebec9a6adbf\",\"type\":\"VBar\"},{\"attributes\":{},\"id\":\"9998adfa-f9b8-40ef-b917-d38a905d4092\",\"type\":\"BasicTickFormatter\"},{\"attributes\":{},\"id\":\"604ccfcf-c0a3-44fa-a09b-8c907804d36b\",\"type\":\"CategoricalTicker\"},{\"attributes\":{\"axis_label\":\"spectral band\",\"formatter\":{\"id\":\"165fb0ed-30fb-4609-ac6a-4cc5abc10a8b\",\"type\":\"CategoricalTickFormatter\"},\"plot\":{\"id\":\"421ee527-2757-4f6f-8e70-f949927d6fae\",\"subtype\":\"Figure\",\"type\":\"Plot\"},\"ticker\":{\"id\":\"604ccfcf-c0a3-44fa-a09b-8c907804d36b\",\"type\":\"CategoricalTicker\"}},\"id\":\"fd8ea84b-2de1-4608-bc1f-63db6ecffe67\",\"type\":\"CategoricalAxis\"},{\"attributes\":{\"callback\":null},\"id\":\"3f026e74-de4f-4e2e-b7d9-51433e7d5e5e\",\"type\":\"DataRange1d\"},{\"attributes\":{\"callback\":null},\"id\":\"e1140975-ae4f-4712-be5f-eec3a1305596\",\"type\":\"DataRange1d\"},{\"attributes\":{\"children\":[{\"id\":\"52d2e09a-d99d-4b61-99a0-31de8ca3b957\",\"subtype\":\"Figure\",\"type\":\"Plot\"},{\"id\":\"7d497ed4-1fdd-48ba-b5cd-9bcaab18213a\",\"subtype\":\"Figure\",\"type\":\"Plot\"},{\"id\":\"421ee527-2757-4f6f-8e70-f949927d6fae\",\"subtype\":\"Figure\",\"type\":\"Plot\"}]},\"id\":\"c37d0840-5260-4bc0-8313-ca8d0e5b89c9\",\"type\":\"Row\"},{\"attributes\":{},\"id\":\"79745df5-de73-4f9f-806d-cef71163152c\",\"type\":\"CategoricalScale\"},{\"attributes\":{\"plot\":{\"id\":\"7d497ed4-1fdd-48ba-b5cd-9bcaab18213a\",\"subtype\":\"Figure\",\"type\":\"Plot\"},\"ticker\":{\"id\":\"606cb268-6342-4bb3-bd80-8d7f44f329ec\",\"type\":\"CategoricalTicker\"}},\"id\":\"012456fa-aa7c-4322-a3fa-d98aa6a478a2\",\"type\":\"Grid\"},{\"attributes\":{},\"id\":\"6d642bac-2367-4765-934e-99eb368c045a\",\"type\":\"LinearScale\"},{\"attributes\":{},\"id\":\"bccac4cf-4b61-4cac-a4e6-786cc8d0ec0c\",\"type\":\"BasicTickFormatter\"},{\"attributes\":{\"source\":{\"id\":\"4db62ce3-40cf-47ec-94af-270a60f4d2ca\",\"type\":\"ColumnDataSource\"}},\"id\":\"733259b0-f8d8-4727-a2be-0d993480e790\",\"type\":\"CDSView\"},{\"attributes\":{\"data_source\":{\"id\":\"4db62ce3-40cf-47ec-94af-270a60f4d2ca\",\"type\":\"ColumnDataSource\"},\"glyph\":{\"id\":\"adf2757f-1a76-4140-ba3c-460629f751e0\",\"type\":\"VBar\"},\"hover_glyph\":null,\"muted_glyph\":null,\"nonselection_glyph\":{\"id\":\"2526c418-11a1-44d5-bc29-99367997c838\",\"type\":\"VBar\"},\"selection_glyph\":null,\"view\":{\"id\":\"733259b0-f8d8-4727-a2be-0d993480e790\",\"type\":\"CDSView\"}},\"id\":\"39fed75e-7dba-4bc5-82d6-6607d072798f\",\"type\":\"GlyphRenderer\"},{\"attributes\":{\"below\":[{\"id\":\"a67321f6-a0a8-48ea-91fa-2502c8a8a576\",\"type\":\"CategoricalAxis\"}],\"left\":[{\"id\":\"b7910fe9-a51e-45c1-912e-90a03172e801\",\"type\":\"LinearAxis\"}],\"plot_height\":300,\"plot_width\":300,\"renderers\":[{\"id\":\"a67321f6-a0a8-48ea-91fa-2502c8a8a576\",\"type\":\"CategoricalAxis\"},{\"id\":\"012456fa-aa7c-4322-a3fa-d98aa6a478a2\",\"type\":\"Grid\"},{\"id\":\"b7910fe9-a51e-45c1-912e-90a03172e801\",\"type\":\"LinearAxis\"},{\"id\":\"051962f9-2740-48d5-b30e-cb0401440f28\",\"type\":\"Grid\"},{\"id\":\"f8349840-dd7b-40bb-b216-396db329cc0b\",\"type\":\"BoxAnnotation\"},{\"id\":\"39fed75e-7dba-4bc5-82d6-6607d072798f\",\"type\":\"GlyphRenderer\"}],\"title\":{\"id\":\"0f3fc351-e040-4079-a642-e3b8330656af\",\"type\":\"Title\"},\"toolbar\":{\"id\":\"1301bc18-aa9d-46f0-900d-f0d43244206b\",\"type\":\"Toolbar\"},\"toolbar_location\":null,\"x_range\":{\"id\":\"219a06b9-63a6-49c1-9fe8-74b6fdd112de\",\"type\":\"FactorRange\"},\"x_scale\":{\"id\":\"59b0af74-7e3d-485b-97c7-c867407b6766\",\"type\":\"CategoricalScale\"},\"y_range\":{\"id\":\"3f026e74-de4f-4e2e-b7d9-51433e7d5e5e\",\"type\":\"DataRange1d\"},\"y_scale\":{\"id\":\"aec873c6-a9ca-4e79-8881-99d56a09ae3d\",\"type\":\"LinearScale\"}},\"id\":\"7d497ed4-1fdd-48ba-b5cd-9bcaab18213a\",\"subtype\":\"Figure\",\"type\":\"Plot\"},{\"attributes\":{\"callback\":null,\"factors\":[\"3\",\"9\"]},\"id\":\"42d59570-15ac-4553-8104-3b4338107308\",\"type\":\"FactorRange\"},{\"attributes\":{\"axis_label\":\"flux (W m-2)\",\"formatter\":{\"id\":\"bccac4cf-4b61-4cac-a4e6-786cc8d0ec0c\",\"type\":\"BasicTickFormatter\"},\"plot\":{\"id\":\"421ee527-2757-4f6f-8e70-f949927d6fae\",\"subtype\":\"Figure\",\"type\":\"Plot\"},\"ticker\":{\"id\":\"e03ec98f-cc0f-448d-868b-4f1c5a33c180\",\"type\":\"BasicTicker\"}},\"id\":\"686d2c4b-d782-4568-a389-316dac93a1b1\",\"type\":\"LinearAxis\"},{\"attributes\":{\"overlay\":{\"id\":\"f8349840-dd7b-40bb-b216-396db329cc0b\",\"type\":\"BoxAnnotation\"}},\"id\":\"c9ce51ea-1363-43cb-88c9-f645032b36ad\",\"type\":\"BoxZoomTool\"},{\"attributes\":{},\"id\":\"361503d7-4ac7-4e27-b791-7f2785f3f0f3\",\"type\":\"BasicTicker\"},{\"attributes\":{\"callback\":null,\"data\":{\"band\":[\"3\",\"9\"],\"flux\":{\"__ndarray__\":\"AIEExY8xh78AXQJLCRysvw==\",\"dtype\":\"float64\",\"shape\":[2]}},\"selected\":{\"id\":\"b986926e-a0fe-4b01-a04a-7eeff7ba89cd\",\"type\":\"Selection\"},\"selection_policy\":{\"id\":\"309bb8c6-fbbb-494e-9b31-e98fd4e2eb4f\",\"type\":\"UnionRenderers\"}},\"id\":\"4db62ce3-40cf-47ec-94af-270a60f4d2ca\",\"type\":\"ColumnDataSource\"},{\"attributes\":{\"bottom_units\":\"screen\",\"fill_alpha\":{\"value\":0.5},\"fill_color\":{\"value\":\"lightgrey\"},\"left_units\":\"screen\",\"level\":\"overlay\",\"line_alpha\":{\"value\":1.0},\"line_color\":{\"value\":\"black\"},\"line_dash\":[4,4],\"line_width\":{\"value\":2},\"plot\":null,\"render_mode\":\"css\",\"right_units\":\"screen\",\"top_units\":\"screen\"},\"id\":\"f8349840-dd7b-40bb-b216-396db329cc0b\",\"type\":\"BoxAnnotation\"},{\"attributes\":{\"children\":[{\"id\":\"09339f03-5e4d-4502-b4e1-42a0c3309775\",\"type\":\"ToolbarBox\"},{\"id\":\"be0ed14a-c96f-4f1a-9e3b-f4b3604adc97\",\"type\":\"Column\"}]},\"id\":\"11f443d5-c389-4afa-83d1-97fb11cd1964\",\"type\":\"Column\"},{\"attributes\":{},\"id\":\"f8dfee23-feb8-49d5-9c88-3bab60e4bf86\",\"type\":\"PanTool\"},{\"attributes\":{\"dimension\":1,\"plot\":{\"id\":\"421ee527-2757-4f6f-8e70-f949927d6fae\",\"subtype\":\"Figure\",\"type\":\"Plot\"},\"ticker\":{\"id\":\"e03ec98f-cc0f-448d-868b-4f1c5a33c180\",\"type\":\"BasicTicker\"}},\"id\":\"51a0d9c6-128a-4198-acac-06ed61cdd8a3\",\"type\":\"Grid\"},{\"attributes\":{\"plot\":{\"id\":\"421ee527-2757-4f6f-8e70-f949927d6fae\",\"subtype\":\"Figure\",\"type\":\"Plot\"},\"ticker\":{\"id\":\"604ccfcf-c0a3-44fa-a09b-8c907804d36b\",\"type\":\"CategoricalTicker\"}},\"id\":\"ced9ff65-662c-4c7a-8654-f1e3cca8beeb\",\"type\":\"Grid\"},{\"attributes\":{},\"id\":\"332f6da9-9e99-4475-bd43-cc45141b45c8\",\"type\":\"BasicTicker\"},{\"attributes\":{\"fill_color\":{\"value\":\"#1f77b4\"},\"line_color\":{\"value\":\"#1f77b4\"},\"top\":{\"field\":\"flux\"},\"width\":{\"value\":0.9},\"x\":{\"field\":\"band\"}},\"id\":\"026087c5-826d-4255-8ced-bc6e059bc426\",\"type\":\"VBar\"},{\"attributes\":{},\"id\":\"943df325-c92c-4b1c-ba47-66ab165a1f4f\",\"type\":\"PanTool\"},{\"attributes\":{\"children\":[{\"id\":\"c37d0840-5260-4bc0-8313-ca8d0e5b89c9\",\"type\":\"Row\"}]},\"id\":\"be0ed14a-c96f-4f1a-9e3b-f4b3604adc97\",\"type\":\"Column\"},{\"attributes\":{},\"id\":\"b986926e-a0fe-4b01-a04a-7eeff7ba89cd\",\"type\":\"Selection\"},{\"attributes\":{\"bottom_units\":\"screen\",\"fill_alpha\":{\"value\":0.5},\"fill_color\":{\"value\":\"lightgrey\"},\"left_units\":\"screen\",\"level\":\"overlay\",\"line_alpha\":{\"value\":1.0},\"line_color\":{\"value\":\"black\"},\"line_dash\":[4,4],\"line_width\":{\"value\":2},\"plot\":null,\"render_mode\":\"css\",\"right_units\":\"screen\",\"top_units\":\"screen\"},\"id\":\"ff624cea-1bb6-4ee6-bbf3-015abcfae0ff\",\"type\":\"BoxAnnotation\"},{\"attributes\":{\"plot\":{\"id\":\"52d2e09a-d99d-4b61-99a0-31de8ca3b957\",\"subtype\":\"Figure\",\"type\":\"Plot\"},\"ticker\":{\"id\":\"d4231fae-8763-4e18-9337-36ce9adcfc1f\",\"type\":\"CategoricalTicker\"}},\"id\":\"4c4c5127-515c-4693-a689-9a65f935f64b\",\"type\":\"Grid\"},{\"attributes\":{\"data_source\":{\"id\":\"aecdfc09-0f27-4852-a16d-0a4af93823a9\",\"type\":\"ColumnDataSource\"},\"glyph\":{\"id\":\"026087c5-826d-4255-8ced-bc6e059bc426\",\"type\":\"VBar\"},\"hover_glyph\":null,\"muted_glyph\":null,\"nonselection_glyph\":{\"id\":\"09978c2d-8f16-40e2-9b15-bebec9a6adbf\",\"type\":\"VBar\"},\"selection_glyph\":null,\"view\":{\"id\":\"3e9e91ae-4da6-4aab-9c77-644504f672a9\",\"type\":\"CDSView\"}},\"id\":\"c4a7693b-5124-4eec-801f-7cf4aafd2ae9\",\"type\":\"GlyphRenderer\"},{\"attributes\":{},\"id\":\"0a2ee303-b0f8-4523-bb00-1535264333a5\",\"type\":\"WheelZoomTool\"},{\"attributes\":{},\"id\":\"9aff1823-41e0-4e5a-9d31-a299b0b1d536\",\"type\":\"LinearScale\"},{\"attributes\":{},\"id\":\"59b0af74-7e3d-485b-97c7-c867407b6766\",\"type\":\"CategoricalScale\"},{\"attributes\":{\"overlay\":{\"id\":\"ff624cea-1bb6-4ee6-bbf3-015abcfae0ff\",\"type\":\"BoxAnnotation\"}},\"id\":\"d745db60-825e-4342-933d-43015c06b99a\",\"type\":\"BoxZoomTool\"},{\"attributes\":{\"callback\":null},\"id\":\"aef423ce-2273-4461-8ea9-ad1a43d53ae3\",\"type\":\"DataRange1d\"},{\"attributes\":{},\"id\":\"2044c8ff-b579-459b-8024-8a1b9dfb2bf3\",\"type\":\"SaveTool\"},{\"attributes\":{},\"id\":\"8f11a1be-a63d-4dcc-b1ee-3ac03f425b4d\",\"type\":\"CategoricalScale\"},{\"attributes\":{},\"id\":\"3613a0ed-da28-48b8-9d4d-089f22ca54ce\",\"type\":\"SaveTool\"},{\"attributes\":{},\"id\":\"9063f9e8-d733-46b4-8408-efd2a0738ffb\",\"type\":\"ResetTool\"},{\"attributes\":{},\"id\":\"b36c3301-bca0-40f8-aa88-7a0cd9a4b686\",\"type\":\"CategoricalTickFormatter\"},{\"attributes\":{},\"id\":\"dae2a472-d02c-4883-ae1a-6b823557a4b1\",\"type\":\"ResetTool\"},{\"attributes\":{},\"id\":\"f01c47ac-2dfd-49d2-bfc4-bb3eaaf6c560\",\"type\":\"HelpTool\"},{\"attributes\":{\"plot\":null,\"text\":\"SFC flux. CLIRAD - CRD.\"},\"id\":\"0f3fc351-e040-4079-a642-e3b8330656af\",\"type\":\"Title\"},{\"attributes\":{\"axis_label\":\"spectral band\",\"formatter\":{\"id\":\"b36c3301-bca0-40f8-aa88-7a0cd9a4b686\",\"type\":\"CategoricalTickFormatter\"},\"plot\":{\"id\":\"7d497ed4-1fdd-48ba-b5cd-9bcaab18213a\",\"subtype\":\"Figure\",\"type\":\"Plot\"},\"ticker\":{\"id\":\"606cb268-6342-4bb3-bd80-8d7f44f329ec\",\"type\":\"CategoricalTicker\"}},\"id\":\"a67321f6-a0a8-48ea-91fa-2502c8a8a576\",\"type\":\"CategoricalAxis\"},{\"attributes\":{\"axis_label\":\"spectral band\",\"formatter\":{\"id\":\"f9fedb30-0f23-479c-bfef-507a163bd4ce\",\"type\":\"CategoricalTickFormatter\"},\"plot\":{\"id\":\"52d2e09a-d99d-4b61-99a0-31de8ca3b957\",\"subtype\":\"Figure\",\"type\":\"Plot\"},\"ticker\":{\"id\":\"d4231fae-8763-4e18-9337-36ce9adcfc1f\",\"type\":\"CategoricalTicker\"}},\"id\":\"083cbb3f-abc8-457c-9d4d-84bc711bfb59\",\"type\":\"CategoricalAxis\"},{\"attributes\":{\"tools\":[{\"id\":\"1ca2545e-47a1-4825-a3c8-c48d4f5c4779\",\"type\":\"PanTool\"},{\"id\":\"c02c3cd3-8fb2-4eba-b2ec-82b76061e6bb\",\"type\":\"WheelZoomTool\"},{\"id\":\"1f4f11c9-05cb-4a34-912e-8cba7e3a6329\",\"type\":\"BoxZoomTool\"},{\"id\":\"c6fe7a69-837e-4bd3-9adc-f729fe7ab80a\",\"type\":\"SaveTool\"},{\"id\":\"8fc3d622-0727-4480-bb85-7674e6d38537\",\"type\":\"ResetTool\"},{\"id\":\"c74ec840-c4f2-4065-9881-0b922dbefeee\",\"type\":\"HelpTool\"},{\"id\":\"f8dfee23-feb8-49d5-9c88-3bab60e4bf86\",\"type\":\"PanTool\"},{\"id\":\"fdbf8efb-f9ce-45ca-8f82-48d94a7a535e\",\"type\":\"WheelZoomTool\"},{\"id\":\"c9ce51ea-1363-43cb-88c9-f645032b36ad\",\"type\":\"BoxZoomTool\"},{\"id\":\"3613a0ed-da28-48b8-9d4d-089f22ca54ce\",\"type\":\"SaveTool\"},{\"id\":\"dae2a472-d02c-4883-ae1a-6b823557a4b1\",\"type\":\"ResetTool\"},{\"id\":\"b3b1b994-6a16-4e71-996f-0118ae083398\",\"type\":\"HelpTool\"},{\"id\":\"943df325-c92c-4b1c-ba47-66ab165a1f4f\",\"type\":\"PanTool\"},{\"id\":\"0a2ee303-b0f8-4523-bb00-1535264333a5\",\"type\":\"WheelZoomTool\"},{\"id\":\"d745db60-825e-4342-933d-43015c06b99a\",\"type\":\"BoxZoomTool\"},{\"id\":\"2044c8ff-b579-459b-8024-8a1b9dfb2bf3\",\"type\":\"SaveTool\"},{\"id\":\"9063f9e8-d733-46b4-8408-efd2a0738ffb\",\"type\":\"ResetTool\"},{\"id\":\"f01c47ac-2dfd-49d2-bfc4-bb3eaaf6c560\",\"type\":\"HelpTool\"}]},\"id\":\"0c0b97c4-caec-4a86-ad4b-fd8f0895b730\",\"type\":\"ProxyToolbar\"},{\"attributes\":{\"source\":{\"id\":\"aecdfc09-0f27-4852-a16d-0a4af93823a9\",\"type\":\"ColumnDataSource\"}},\"id\":\"3e9e91ae-4da6-4aab-9c77-644504f672a9\",\"type\":\"CDSView\"},{\"attributes\":{},\"id\":\"fdbf8efb-f9ce-45ca-8f82-48d94a7a535e\",\"type\":\"WheelZoomTool\"},{\"attributes\":{\"toolbar\":{\"id\":\"0c0b97c4-caec-4a86-ad4b-fd8f0895b730\",\"type\":\"ProxyToolbar\"},\"toolbar_location\":\"above\"},\"id\":\"09339f03-5e4d-4502-b4e1-42a0c3309775\",\"type\":\"ToolbarBox\"},{\"attributes\":{\"active_drag\":\"auto\",\"active_inspect\":\"auto\",\"active_scroll\":\"auto\",\"active_tap\":\"auto\",\"tools\":[{\"id\":\"1ca2545e-47a1-4825-a3c8-c48d4f5c4779\",\"type\":\"PanTool\"},{\"id\":\"c02c3cd3-8fb2-4eba-b2ec-82b76061e6bb\",\"type\":\"WheelZoomTool\"},{\"id\":\"1f4f11c9-05cb-4a34-912e-8cba7e3a6329\",\"type\":\"BoxZoomTool\"},{\"id\":\"c6fe7a69-837e-4bd3-9adc-f729fe7ab80a\",\"type\":\"SaveTool\"},{\"id\":\"8fc3d622-0727-4480-bb85-7674e6d38537\",\"type\":\"ResetTool\"},{\"id\":\"c74ec840-c4f2-4065-9881-0b922dbefeee\",\"type\":\"HelpTool\"}]},\"id\":\"f27f1647-07a1-47a9-8555-5846e60ff80f\",\"type\":\"Toolbar\"},{\"attributes\":{\"callback\":null,\"factors\":[\"3\",\"9\"]},\"id\":\"1a836adf-a7f1-4324-9054-c62836b2d19f\",\"type\":\"FactorRange\"},{\"attributes\":{\"dimension\":1,\"plot\":{\"id\":\"7d497ed4-1fdd-48ba-b5cd-9bcaab18213a\",\"subtype\":\"Figure\",\"type\":\"Plot\"},\"ticker\":{\"id\":\"361503d7-4ac7-4e27-b791-7f2785f3f0f3\",\"type\":\"BasicTicker\"}},\"id\":\"051962f9-2740-48d5-b30e-cb0401440f28\",\"type\":\"Grid\"},{\"attributes\":{\"plot\":null,\"text\":\"TOA flux. CLIRAD - CRD.\"},\"id\":\"440756c2-3e54-473b-82ff-3ba3cf9f66cc\",\"type\":\"Title\"},{\"attributes\":{\"below\":[{\"id\":\"fd8ea84b-2de1-4608-bc1f-63db6ecffe67\",\"type\":\"CategoricalAxis\"}],\"left\":[{\"id\":\"686d2c4b-d782-4568-a389-316dac93a1b1\",\"type\":\"LinearAxis\"}],\"plot_height\":300,\"plot_width\":300,\"renderers\":[{\"id\":\"fd8ea84b-2de1-4608-bc1f-63db6ecffe67\",\"type\":\"CategoricalAxis\"},{\"id\":\"ced9ff65-662c-4c7a-8654-f1e3cca8beeb\",\"type\":\"Grid\"},{\"id\":\"686d2c4b-d782-4568-a389-316dac93a1b1\",\"type\":\"LinearAxis\"},{\"id\":\"51a0d9c6-128a-4198-acac-06ed61cdd8a3\",\"type\":\"Grid\"},{\"id\":\"ff624cea-1bb6-4ee6-bbf3-015abcfae0ff\",\"type\":\"BoxAnnotation\"},{\"id\":\"c4a7693b-5124-4eec-801f-7cf4aafd2ae9\",\"type\":\"GlyphRenderer\"}],\"title\":{\"id\":\"11205b0a-a27a-4e72-8981-aab0e935f5ad\",\"type\":\"Title\"},\"toolbar\":{\"id\":\"77dcdb45-bccd-466e-8301-32f159934be5\",\"type\":\"Toolbar\"},\"toolbar_location\":null,\"x_range\":{\"id\":\"42d59570-15ac-4553-8104-3b4338107308\",\"type\":\"FactorRange\"},\"x_scale\":{\"id\":\"79745df5-de73-4f9f-806d-cef71163152c\",\"type\":\"CategoricalScale\"},\"y_range\":{\"id\":\"e1140975-ae4f-4712-be5f-eec3a1305596\",\"type\":\"DataRange1d\"},\"y_scale\":{\"id\":\"6d642bac-2367-4765-934e-99eb368c045a\",\"type\":\"LinearScale\"}},\"id\":\"421ee527-2757-4f6f-8e70-f949927d6fae\",\"subtype\":\"Figure\",\"type\":\"Plot\"},{\"attributes\":{\"below\":[{\"id\":\"083cbb3f-abc8-457c-9d4d-84bc711bfb59\",\"type\":\"CategoricalAxis\"}],\"left\":[{\"id\":\"c0ead615-843c-4829-b208-e4a430f9ce5d\",\"type\":\"LinearAxis\"}],\"plot_height\":300,\"plot_width\":300,\"renderers\":[{\"id\":\"083cbb3f-abc8-457c-9d4d-84bc711bfb59\",\"type\":\"CategoricalAxis\"},{\"id\":\"4c4c5127-515c-4693-a689-9a65f935f64b\",\"type\":\"Grid\"},{\"id\":\"c0ead615-843c-4829-b208-e4a430f9ce5d\",\"type\":\"LinearAxis\"},{\"id\":\"55e6ef56-5797-4310-a9de-546bfaf38de0\",\"type\":\"Grid\"},{\"id\":\"b758cf5c-109e-46df-8149-2bf7198b4fdb\",\"type\":\"BoxAnnotation\"},{\"id\":\"558e3837-bc67-4df3-8cae-8b2625b86b6a\",\"type\":\"GlyphRenderer\"}],\"title\":{\"id\":\"440756c2-3e54-473b-82ff-3ba3cf9f66cc\",\"type\":\"Title\"},\"toolbar\":{\"id\":\"f27f1647-07a1-47a9-8555-5846e60ff80f\",\"type\":\"Toolbar\"},\"toolbar_location\":null,\"x_range\":{\"id\":\"1a836adf-a7f1-4324-9054-c62836b2d19f\",\"type\":\"FactorRange\"},\"x_scale\":{\"id\":\"8f11a1be-a63d-4dcc-b1ee-3ac03f425b4d\",\"type\":\"CategoricalScale\"},\"y_range\":{\"id\":\"aef423ce-2273-4461-8ea9-ad1a43d53ae3\",\"type\":\"DataRange1d\"},\"y_scale\":{\"id\":\"9aff1823-41e0-4e5a-9d31-a299b0b1d536\",\"type\":\"LinearScale\"}},\"id\":\"52d2e09a-d99d-4b61-99a0-31de8ca3b957\",\"subtype\":\"Figure\",\"type\":\"Plot\"},{\"attributes\":{},\"id\":\"6e541ed9-19ff-4654-93fd-0babecebe3be\",\"type\":\"Selection\"},{\"attributes\":{\"fill_color\":{\"value\":\"#1f77b4\"},\"line_color\":{\"value\":\"#1f77b4\"},\"top\":{\"field\":\"flux\"},\"width\":{\"value\":0.9},\"x\":{\"field\":\"band\"}},\"id\":\"7120cb58-64f6-4efb-bacd-2149330c62a3\",\"type\":\"VBar\"},{\"attributes\":{\"axis_label\":\"flux (W m-2)\",\"formatter\":{\"id\":\"1eb09aa4-46e7-4dbf-ac11-a2dd4d49bd7d\",\"type\":\"BasicTickFormatter\"},\"plot\":{\"id\":\"52d2e09a-d99d-4b61-99a0-31de8ca3b957\",\"subtype\":\"Figure\",\"type\":\"Plot\"},\"ticker\":{\"id\":\"332f6da9-9e99-4475-bd43-cc45141b45c8\",\"type\":\"BasicTicker\"}},\"id\":\"c0ead615-843c-4829-b208-e4a430f9ce5d\",\"type\":\"LinearAxis\"},{\"attributes\":{},\"id\":\"d4231fae-8763-4e18-9337-36ce9adcfc1f\",\"type\":\"CategoricalTicker\"},{\"attributes\":{\"fill_color\":{\"value\":\"#1f77b4\"},\"line_color\":{\"value\":\"#1f77b4\"},\"top\":{\"field\":\"flux\"},\"width\":{\"value\":0.9},\"x\":{\"field\":\"band\"}},\"id\":\"adf2757f-1a76-4140-ba3c-460629f751e0\",\"type\":\"VBar\"},{\"attributes\":{\"dimension\":1,\"plot\":{\"id\":\"52d2e09a-d99d-4b61-99a0-31de8ca3b957\",\"subtype\":\"Figure\",\"type\":\"Plot\"},\"ticker\":{\"id\":\"332f6da9-9e99-4475-bd43-cc45141b45c8\",\"type\":\"BasicTicker\"}},\"id\":\"55e6ef56-5797-4310-a9de-546bfaf38de0\",\"type\":\"Grid\"},{\"attributes\":{\"fill_alpha\":{\"value\":0.1},\"fill_color\":{\"value\":\"#1f77b4\"},\"line_alpha\":{\"value\":0.1},\"line_color\":{\"value\":\"#1f77b4\"},\"top\":{\"field\":\"flux\"},\"width\":{\"value\":0.9},\"x\":{\"field\":\"band\"}},\"id\":\"de73777d-c69b-49b9-8291-2371d6a8a98d\",\"type\":\"VBar\"},{\"attributes\":{\"axis_label\":\"flux (W m-2)\",\"formatter\":{\"id\":\"9998adfa-f9b8-40ef-b917-d38a905d4092\",\"type\":\"BasicTickFormatter\"},\"plot\":{\"id\":\"7d497ed4-1fdd-48ba-b5cd-9bcaab18213a\",\"subtype\":\"Figure\",\"type\":\"Plot\"},\"ticker\":{\"id\":\"361503d7-4ac7-4e27-b791-7f2785f3f0f3\",\"type\":\"BasicTicker\"}},\"id\":\"b7910fe9-a51e-45c1-912e-90a03172e801\",\"type\":\"LinearAxis\"},{\"attributes\":{},\"id\":\"6dc4cda2-f66e-4d66-93f5-69bd25c3c8b4\",\"type\":\"UnionRenderers\"},{\"attributes\":{\"bottom_units\":\"screen\",\"fill_alpha\":{\"value\":0.5},\"fill_color\":{\"value\":\"lightgrey\"},\"left_units\":\"screen\",\"level\":\"overlay\",\"line_alpha\":{\"value\":1.0},\"line_color\":{\"value\":\"black\"},\"line_dash\":[4,4],\"line_width\":{\"value\":2},\"plot\":null,\"render_mode\":\"css\",\"right_units\":\"screen\",\"top_units\":\"screen\"},\"id\":\"b758cf5c-109e-46df-8149-2bf7198b4fdb\",\"type\":\"BoxAnnotation\"},{\"attributes\":{},\"id\":\"1ca2545e-47a1-4825-a3c8-c48d4f5c4779\",\"type\":\"PanTool\"},{\"attributes\":{\"data_source\":{\"id\":\"bf290c1f-fb21-4c4a-aeef-b14f1fee517a\",\"type\":\"ColumnDataSource\"},\"glyph\":{\"id\":\"7120cb58-64f6-4efb-bacd-2149330c62a3\",\"type\":\"VBar\"},\"hover_glyph\":null,\"muted_glyph\":null,\"nonselection_glyph\":{\"id\":\"de73777d-c69b-49b9-8291-2371d6a8a98d\",\"type\":\"VBar\"},\"selection_glyph\":null,\"view\":{\"id\":\"12381514-a717-4c3e-a012-c6ff4c9336ed\",\"type\":\"CDSView\"}},\"id\":\"558e3837-bc67-4df3-8cae-8b2625b86b6a\",\"type\":\"GlyphRenderer\"},{\"attributes\":{},\"id\":\"c02c3cd3-8fb2-4eba-b2ec-82b76061e6bb\",\"type\":\"WheelZoomTool\"},{\"attributes\":{\"overlay\":{\"id\":\"b758cf5c-109e-46df-8149-2bf7198b4fdb\",\"type\":\"BoxAnnotation\"}},\"id\":\"1f4f11c9-05cb-4a34-912e-8cba7e3a6329\",\"type\":\"BoxZoomTool\"},{\"attributes\":{},\"id\":\"c6fe7a69-837e-4bd3-9adc-f729fe7ab80a\",\"type\":\"SaveTool\"},{\"attributes\":{\"callback\":null,\"data\":{\"band\":[\"3\",\"9\"],\"flux\":{\"__ndarray__\":\"APTVVYFarL8A6KIh41HMPw==\",\"dtype\":\"float64\",\"shape\":[2]}},\"selected\":{\"id\":\"4ce09501-5d18-45c0-b475-30bce5b76baa\",\"type\":\"Selection\"},\"selection_policy\":{\"id\":\"ad4a6e16-5ca1-443c-9889-1547c36c386c\",\"type\":\"UnionRenderers\"}},\"id\":\"bf290c1f-fb21-4c4a-aeef-b14f1fee517a\",\"type\":\"ColumnDataSource\"},{\"attributes\":{},\"id\":\"8fc3d622-0727-4480-bb85-7674e6d38537\",\"type\":\"ResetTool\"},{\"attributes\":{},\"id\":\"c74ec840-c4f2-4065-9881-0b922dbefeee\",\"type\":\"HelpTool\"},{\"attributes\":{},\"id\":\"165fb0ed-30fb-4609-ac6a-4cc5abc10a8b\",\"type\":\"CategoricalTickFormatter\"},{\"attributes\":{\"callback\":null,\"data\":{\"band\":[\"3\",\"9\"],\"flux\":{\"__ndarray__\":\"ANhRnKOOpr8AByY3iqzRPw==\",\"dtype\":\"float64\",\"shape\":[2]}},\"selected\":{\"id\":\"6e541ed9-19ff-4654-93fd-0babecebe3be\",\"type\":\"Selection\"},\"selection_policy\":{\"id\":\"6dc4cda2-f66e-4d66-93f5-69bd25c3c8b4\",\"type\":\"UnionRenderers\"}},\"id\":\"aecdfc09-0f27-4852-a16d-0a4af93823a9\",\"type\":\"ColumnDataSource\"},{\"attributes\":{\"source\":{\"id\":\"bf290c1f-fb21-4c4a-aeef-b14f1fee517a\",\"type\":\"ColumnDataSource\"}},\"id\":\"12381514-a717-4c3e-a012-c6ff4c9336ed\",\"type\":\"CDSView\"},{\"attributes\":{},\"id\":\"309bb8c6-fbbb-494e-9b31-e98fd4e2eb4f\",\"type\":\"UnionRenderers\"},{\"attributes\":{\"plot\":null,\"text\":\"Atmosphere heating. CLIRAD - CRD.\"},\"id\":\"11205b0a-a27a-4e72-8981-aab0e935f5ad\",\"type\":\"Title\"},{\"attributes\":{},\"id\":\"4ce09501-5d18-45c0-b475-30bce5b76baa\",\"type\":\"Selection\"},{\"attributes\":{\"callback\":null,\"factors\":[\"3\",\"9\"]},\"id\":\"219a06b9-63a6-49c1-9fe8-74b6fdd112de\",\"type\":\"FactorRange\"},{\"attributes\":{},\"id\":\"1eb09aa4-46e7-4dbf-ac11-a2dd4d49bd7d\",\"type\":\"BasicTickFormatter\"},{\"attributes\":{},\"id\":\"ad4a6e16-5ca1-443c-9889-1547c36c386c\",\"type\":\"UnionRenderers\"},{\"attributes\":{},\"id\":\"aec873c6-a9ca-4e79-8881-99d56a09ae3d\",\"type\":\"LinearScale\"},{\"attributes\":{\"active_drag\":\"auto\",\"active_inspect\":\"auto\",\"active_scroll\":\"auto\",\"active_tap\":\"auto\",\"tools\":[{\"id\":\"f8dfee23-feb8-49d5-9c88-3bab60e4bf86\",\"type\":\"PanTool\"},{\"id\":\"fdbf8efb-f9ce-45ca-8f82-48d94a7a535e\",\"type\":\"WheelZoomTool\"},{\"id\":\"c9ce51ea-1363-43cb-88c9-f645032b36ad\",\"type\":\"BoxZoomTool\"},{\"id\":\"3613a0ed-da28-48b8-9d4d-089f22ca54ce\",\"type\":\"SaveTool\"},{\"id\":\"dae2a472-d02c-4883-ae1a-6b823557a4b1\",\"type\":\"ResetTool\"},{\"id\":\"b3b1b994-6a16-4e71-996f-0118ae083398\",\"type\":\"HelpTool\"}]},\"id\":\"1301bc18-aa9d-46f0-900d-f0d43244206b\",\"type\":\"Toolbar\"},{\"attributes\":{\"active_drag\":\"auto\",\"active_inspect\":\"auto\",\"active_scroll\":\"auto\",\"active_tap\":\"auto\",\"tools\":[{\"id\":\"943df325-c92c-4b1c-ba47-66ab165a1f4f\",\"type\":\"PanTool\"},{\"id\":\"0a2ee303-b0f8-4523-bb00-1535264333a5\",\"type\":\"WheelZoomTool\"},{\"id\":\"d745db60-825e-4342-933d-43015c06b99a\",\"type\":\"BoxZoomTool\"},{\"id\":\"2044c8ff-b579-459b-8024-8a1b9dfb2bf3\",\"type\":\"SaveTool\"},{\"id\":\"9063f9e8-d733-46b4-8408-efd2a0738ffb\",\"type\":\"ResetTool\"},{\"id\":\"f01c47ac-2dfd-49d2-bfc4-bb3eaaf6c560\",\"type\":\"HelpTool\"}]},\"id\":\"77dcdb45-bccd-466e-8301-32f159934be5\",\"type\":\"Toolbar\"},{\"attributes\":{},\"id\":\"b3b1b994-6a16-4e71-996f-0118ae083398\",\"type\":\"HelpTool\"},{\"attributes\":{\"fill_alpha\":{\"value\":0.1},\"fill_color\":{\"value\":\"#1f77b4\"},\"line_alpha\":{\"value\":0.1},\"line_color\":{\"value\":\"#1f77b4\"},\"top\":{\"field\":\"flux\"},\"width\":{\"value\":0.9},\"x\":{\"field\":\"band\"}},\"id\":\"2526c418-11a1-44d5-bc29-99367997c838\",\"type\":\"VBar\"}],\"root_ids\":[\"11f443d5-c389-4afa-83d1-97fb11cd1964\"]},\"title\":\"Bokeh Application\",\"version\":\"0.12.16\"}};\n",
       "  var render_items = [{\"docid\":\"1576ee9b-6dd6-462d-92fc-75862e6cbd2d\",\"elementid\":\"1e1cc6fd-9fec-417d-81d3-a14bc90ffdb9\",\"modelid\":\"11f443d5-c389-4afa-83d1-97fb11cd1964\"}];\n",
       "  root.Bokeh.embed.embed_items_notebook(docs_json, render_items);\n",
       "\n",
       "  }\n",
       "  if (root.Bokeh !== undefined) {\n",
       "    embed_document(root);\n",
       "  } else {\n",
       "    var attempts = 0;\n",
       "    var timer = setInterval(function(root) {\n",
       "      if (root.Bokeh !== undefined) {\n",
       "        embed_document(root);\n",
       "        clearInterval(timer);\n",
       "      }\n",
       "      attempts++;\n",
       "      if (attempts > 100) {\n",
       "        console.log(\"Bokeh: ERROR: Unable to run BokehJS code because BokehJS library is missing\")\n",
       "        clearInterval(timer);\n",
       "      }\n",
       "    }, 10, root)\n",
       "  }\n",
       "})(window);"
      ],
      "application/vnd.bokehjs_exec.v0+json": ""
     },
     "metadata": {
      "application/vnd.bokehjs_exec.v0+json": {
       "id": "11f443d5-c389-4afa-83d1-97fb11cd1964"
      }
     },
     "output_type": "display_data"
    },
    {
     "data": {
      "text/markdown": [
       "*FIGURE.* Difference between CLIRAD and CRD in TOA, SFC and net atmosphere flux, in each spectral band."
      ],
      "text/plain": [
       "<IPython.core.display.Markdown object>"
      ]
     },
     "metadata": {},
     "output_type": "display_data"
    },
    {
     "data": {
      "text/html": [
       "<div>\n",
       "<style scoped>\n",
       "    .dataframe tbody tr th:only-of-type {\n",
       "        vertical-align: middle;\n",
       "    }\n",
       "\n",
       "    .dataframe tbody tr th {\n",
       "        vertical-align: top;\n",
       "    }\n",
       "\n",
       "    .dataframe thead th {\n",
       "        text-align: right;\n",
       "    }\n",
       "</style>\n",
       "<table border=\"1\" class=\"dataframe\">\n",
       "  <thead>\n",
       "    <tr style=\"text-align: right;\">\n",
       "      <th></th>\n",
       "      <th>OLR flux</th>\n",
       "      <th>SFC flux</th>\n",
       "      <th>ATM heating</th>\n",
       "    </tr>\n",
       "    <tr>\n",
       "      <th>Sum over bands</th>\n",
       "      <th></th>\n",
       "      <th></th>\n",
       "      <th></th>\n",
       "    </tr>\n",
       "  </thead>\n",
       "  <tbody>\n",
       "    <tr>\n",
       "      <th>CLIRAD - CRD</th>\n",
       "      <td>-393.65</td>\n",
       "      <td>-0.07</td>\n",
       "      <td>0.23</td>\n",
       "    </tr>\n",
       "    <tr>\n",
       "      <th>CRD</th>\n",
       "      <td>-60.61</td>\n",
       "      <td>6.95</td>\n",
       "      <td>-2.11</td>\n",
       "    </tr>\n",
       "  </tbody>\n",
       "</table>\n",
       "</div>"
      ],
      "text/plain": [
       "                OLR flux  SFC flux  ATM heating\n",
       "Sum over bands                                 \n",
       "CLIRAD - CRD     -393.65     -0.07         0.23\n",
       "CRD               -60.61      6.95        -2.11"
      ]
     },
     "metadata": {},
     "output_type": "display_data"
    },
    {
     "data": {
      "text/markdown": [
       "*TABLE.* Difference between CLIRAD and CRD in TOA, SFC and net atmosphere flux, over all spectral bands. CRD's TOA, SFC and net atmosphere flux, over all spectral bands."
      ],
      "text/plain": [
       "<IPython.core.display.Markdown object>"
      ]
     },
     "metadata": {},
     "output_type": "display_data"
    },
    {
     "data": {
      "text/html": [
       "Download: <a href=\"./results_n2oatm_cliradsinglerun-Copy2.xlsx\">results_n2oatm_cliradsinglerun-Copy2.xlsx</a>"
      ],
      "text/plain": [
       "<IPython.core.display.HTML object>"
      ]
     },
     "metadata": {},
     "output_type": "display_data"
    }
   ],
   "source": [
    "def script():\n",
    "    \n",
    "    d_atm = {'mls': 'mid-latitude summer',\n",
    "             'saw': 'sub-arctic winter',\n",
    "             'trp': 'tropical'}\n",
    "    \n",
    "    title = ('## Results over entire range of molecules'\n",
    "             ' and spectral bands')\n",
    "    \n",
    "    s_makeup = 'Makeup of atmosphere.'\n",
    "    s_atmpro = '# {}'\n",
    "    s_cool = 'Cooling rates. {}.'\n",
    "    s_flux = 'Fluxes. {}.'\n",
    "    \n",
    "    atmpros = ['mls', 'saw', 'trp']\n",
    "    \n",
    "    # TOC\n",
    "    show_markdown(title)\n",
    "    show_markdown('### Table of Contents')\n",
    "    show_html(climahtml.getHTML_hrefanchor(s_makeup))\n",
    "    for atmpro in atmpros:\n",
    "        show_markdown('**' + d_atm[atmpro] + '**')\n",
    "        show_html(climahtml.getHTML_hrefanchor(s_cool.format(atmpro)))\n",
    "        show_html(climahtml.getHTML_hrefanchor(s_flux.format(atmpro)))\n",
    "\n",
    "        \n",
    "    # Atmosphere makeup\n",
    "    show_html(climahtml.getHTML_idanchor(s_makeup))\n",
    "    show_markdown(climahtml.getMarkdown_sectitle(s_makeup))\n",
    "    show_makeup()\n",
    "#    show_grey_makeup()\n",
    "        \n",
    "    for atmpro in atmpros:\n",
    "        show_html(climahtml.getHTML_idanchor(s_cool.format(atmpro)))\n",
    "        show_markdown(\n",
    "            climahtml.getMarkdown_sectitle(s_cool.format(atmpro)))\n",
    "        show_cool(atmpro=atmpro)\n",
    "        show_html(climahtml.getHTML_idanchor(s_flux.format(atmpro)))\n",
    "        show_markdown(\n",
    "            climahtml.getMarkdown_sectitle(s_flux.format(atmpro)))\n",
    "        show_hist_flux(atmpro=atmpro)\n",
    "        show_tb_flux(atmpro=atmpro)\n",
    "    \n",
    "    script_tofile()\n",
    "    \n",
    "script()  "
   ]
  },
  {
   "cell_type": "code",
   "execution_count": null,
   "metadata": {
    "collapsed": true
   },
   "outputs": [],
   "source": []
  },
  {
   "cell_type": "code",
   "execution_count": 18,
   "metadata": {},
   "outputs": [
    {
     "data": {
      "text/html": [
       "<script>\n",
       "code_show=true; \n",
       "function code_toggle() {\n",
       " if (code_show){\n",
       " $('div.input').hide();\n",
       " } else {\n",
       " $('div.input').show();\n",
       " }\n",
       " code_show = !code_show\n",
       "} \n",
       "$( document ).ready(code_toggle);\n",
       "</script>\n",
       "<form action=\"javascript:code_toggle()\"><input type=\"submit\" value=\"Click here to toggle on/off the raw code.\"></form>"
      ],
      "text/plain": [
       "<IPython.core.display.HTML object>"
      ]
     },
     "execution_count": 18,
     "metadata": {},
     "output_type": "execute_result"
    }
   ],
   "source": [
    "display.HTML('''<script>\n",
    "code_show=true; \n",
    "function code_toggle() {\n",
    " if (code_show){\n",
    " $('div.input').hide();\n",
    " } else {\n",
    " $('div.input').show();\n",
    " }\n",
    " code_show = !code_show\n",
    "} \n",
    "$( document ).ready(code_toggle);\n",
    "</script>\n",
    "<form action=\"javascript:code_toggle()\"><input type=\"submit\" value=\"Click here to toggle on/off the raw code.\"></form>''')"
   ]
  },
  {
   "cell_type": "code",
   "execution_count": null,
   "metadata": {
    "collapsed": true
   },
   "outputs": [],
   "source": []
  }
 ],
 "metadata": {
  "kernelspec": {
   "display_name": "Python 3",
   "language": "python",
   "name": "python3"
  },
  "language_info": {
   "codemirror_mode": {
    "name": "ipython",
    "version": 3
   },
   "file_extension": ".py",
   "mimetype": "text/x-python",
   "name": "python",
   "nbconvert_exporter": "python",
   "pygments_lexer": "ipython3",
   "version": "3.6.7"
  }
 },
 "nbformat": 4,
 "nbformat_minor": 2
}
