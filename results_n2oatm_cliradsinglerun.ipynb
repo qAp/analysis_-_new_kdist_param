{
 "cells": [
  {
   "cell_type": "code",
   "execution_count": 1,
   "metadata": {
    "collapsed": true
   },
   "outputs": [],
   "source": [
    "%reload_ext autoreload\n",
    "%autoreload 2\n",
    "\n",
    "import os\n",
    "import pprint\n",
    "\n",
    "import pymongo\n",
    "\n",
    "from bokeh.io import output_notebook, show\n",
    "from bokeh.layouts import gridplot\n",
    "from bokeh.plotting import figure\n",
    "from bokeh.models import ColumnDataSource\n",
    "from bokeh.palettes import all_palettes\n",
    "\n",
    "from climatools.atm import *\n",
    "from climatools.dataset import *\n",
    "from climatools.spectrum import *\n",
    "from climatools.html.html import *\n",
    "from climatools.plot.plot import *\n",
    "from climatools.lblnew.bestfit_params import *\n",
    "\n",
    "from IPython import display"
   ]
  },
  {
   "cell_type": "code",
   "execution_count": 2,
   "metadata": {
    "scrolled": true
   },
   "outputs": [
    {
     "data": {
      "text/html": [
       "\n",
       "    <div class=\"bk-root\">\n",
       "        <a href=\"https://bokeh.pydata.org\" target=\"_blank\" class=\"bk-logo bk-logo-small bk-logo-notebook\"></a>\n",
       "        <span id=\"b8c668ca-ca2a-4f00-8e15-13f9c64f1bdb\">Loading BokehJS ...</span>\n",
       "    </div>"
      ]
     },
     "metadata": {},
     "output_type": "display_data"
    },
    {
     "data": {
      "application/javascript": [
       "\n",
       "(function(root) {\n",
       "  function now() {\n",
       "    return new Date();\n",
       "  }\n",
       "\n",
       "  var force = true;\n",
       "\n",
       "  if (typeof (root._bokeh_onload_callbacks) === \"undefined\" || force === true) {\n",
       "    root._bokeh_onload_callbacks = [];\n",
       "    root._bokeh_is_loading = undefined;\n",
       "  }\n",
       "\n",
       "  var JS_MIME_TYPE = 'application/javascript';\n",
       "  var HTML_MIME_TYPE = 'text/html';\n",
       "  var EXEC_MIME_TYPE = 'application/vnd.bokehjs_exec.v0+json';\n",
       "  var CLASS_NAME = 'output_bokeh rendered_html';\n",
       "\n",
       "  /**\n",
       "   * Render data to the DOM node\n",
       "   */\n",
       "  function render(props, node) {\n",
       "    var script = document.createElement(\"script\");\n",
       "    node.appendChild(script);\n",
       "  }\n",
       "\n",
       "  /**\n",
       "   * Handle when an output is cleared or removed\n",
       "   */\n",
       "  function handleClearOutput(event, handle) {\n",
       "    var cell = handle.cell;\n",
       "\n",
       "    var id = cell.output_area._bokeh_element_id;\n",
       "    var server_id = cell.output_area._bokeh_server_id;\n",
       "    // Clean up Bokeh references\n",
       "    if (id !== undefined) {\n",
       "      Bokeh.index[id].model.document.clear();\n",
       "      delete Bokeh.index[id];\n",
       "    }\n",
       "\n",
       "    if (server_id !== undefined) {\n",
       "      // Clean up Bokeh references\n",
       "      var cmd = \"from bokeh.io.state import curstate; print(curstate().uuid_to_server['\" + server_id + \"'].get_sessions()[0].document.roots[0]._id)\";\n",
       "      cell.notebook.kernel.execute(cmd, {\n",
       "        iopub: {\n",
       "          output: function(msg) {\n",
       "            var element_id = msg.content.text.trim();\n",
       "            Bokeh.index[element_id].model.document.clear();\n",
       "            delete Bokeh.index[element_id];\n",
       "          }\n",
       "        }\n",
       "      });\n",
       "      // Destroy server and session\n",
       "      var cmd = \"import bokeh.io.notebook as ion; ion.destroy_server('\" + server_id + \"')\";\n",
       "      cell.notebook.kernel.execute(cmd);\n",
       "    }\n",
       "  }\n",
       "\n",
       "  /**\n",
       "   * Handle when a new output is added\n",
       "   */\n",
       "  function handleAddOutput(event, handle) {\n",
       "    var output_area = handle.output_area;\n",
       "    var output = handle.output;\n",
       "\n",
       "    // limit handleAddOutput to display_data with EXEC_MIME_TYPE content only\n",
       "    if ((output.output_type != \"display_data\") || (!output.data.hasOwnProperty(EXEC_MIME_TYPE))) {\n",
       "      return\n",
       "    }\n",
       "\n",
       "    var toinsert = output_area.element.find(\".\" + CLASS_NAME.split(' ')[0]);\n",
       "\n",
       "    if (output.metadata[EXEC_MIME_TYPE][\"id\"] !== undefined) {\n",
       "      toinsert[toinsert.length - 1].firstChild.textContent = output.data[JS_MIME_TYPE];\n",
       "      // store reference to embed id on output_area\n",
       "      output_area._bokeh_element_id = output.metadata[EXEC_MIME_TYPE][\"id\"];\n",
       "    }\n",
       "    if (output.metadata[EXEC_MIME_TYPE][\"server_id\"] !== undefined) {\n",
       "      var bk_div = document.createElement(\"div\");\n",
       "      bk_div.innerHTML = output.data[HTML_MIME_TYPE];\n",
       "      var script_attrs = bk_div.children[0].attributes;\n",
       "      for (var i = 0; i < script_attrs.length; i++) {\n",
       "        toinsert[toinsert.length - 1].firstChild.setAttribute(script_attrs[i].name, script_attrs[i].value);\n",
       "      }\n",
       "      // store reference to server id on output_area\n",
       "      output_area._bokeh_server_id = output.metadata[EXEC_MIME_TYPE][\"server_id\"];\n",
       "    }\n",
       "  }\n",
       "\n",
       "  function register_renderer(events, OutputArea) {\n",
       "\n",
       "    function append_mime(data, metadata, element) {\n",
       "      // create a DOM node to render to\n",
       "      var toinsert = this.create_output_subarea(\n",
       "        metadata,\n",
       "        CLASS_NAME,\n",
       "        EXEC_MIME_TYPE\n",
       "      );\n",
       "      this.keyboard_manager.register_events(toinsert);\n",
       "      // Render to node\n",
       "      var props = {data: data, metadata: metadata[EXEC_MIME_TYPE]};\n",
       "      render(props, toinsert[toinsert.length - 1]);\n",
       "      element.append(toinsert);\n",
       "      return toinsert\n",
       "    }\n",
       "\n",
       "    /* Handle when an output is cleared or removed */\n",
       "    events.on('clear_output.CodeCell', handleClearOutput);\n",
       "    events.on('delete.Cell', handleClearOutput);\n",
       "\n",
       "    /* Handle when a new output is added */\n",
       "    events.on('output_added.OutputArea', handleAddOutput);\n",
       "\n",
       "    /**\n",
       "     * Register the mime type and append_mime function with output_area\n",
       "     */\n",
       "    OutputArea.prototype.register_mime_type(EXEC_MIME_TYPE, append_mime, {\n",
       "      /* Is output safe? */\n",
       "      safe: true,\n",
       "      /* Index of renderer in `output_area.display_order` */\n",
       "      index: 0\n",
       "    });\n",
       "  }\n",
       "\n",
       "  // register the mime type if in Jupyter Notebook environment and previously unregistered\n",
       "  if (root.Jupyter !== undefined) {\n",
       "    var events = require('base/js/events');\n",
       "    var OutputArea = require('notebook/js/outputarea').OutputArea;\n",
       "\n",
       "    if (OutputArea.prototype.mime_types().indexOf(EXEC_MIME_TYPE) == -1) {\n",
       "      register_renderer(events, OutputArea);\n",
       "    }\n",
       "  }\n",
       "\n",
       "  \n",
       "  if (typeof (root._bokeh_timeout) === \"undefined\" || force === true) {\n",
       "    root._bokeh_timeout = Date.now() + 5000;\n",
       "    root._bokeh_failed_load = false;\n",
       "  }\n",
       "\n",
       "  var NB_LOAD_WARNING = {'data': {'text/html':\n",
       "     \"<div style='background-color: #fdd'>\\n\"+\n",
       "     \"<p>\\n\"+\n",
       "     \"BokehJS does not appear to have successfully loaded. If loading BokehJS from CDN, this \\n\"+\n",
       "     \"may be due to a slow or bad network connection. Possible fixes:\\n\"+\n",
       "     \"</p>\\n\"+\n",
       "     \"<ul>\\n\"+\n",
       "     \"<li>re-rerun `output_notebook()` to attempt to load from CDN again, or</li>\\n\"+\n",
       "     \"<li>use INLINE resources instead, as so:</li>\\n\"+\n",
       "     \"</ul>\\n\"+\n",
       "     \"<code>\\n\"+\n",
       "     \"from bokeh.resources import INLINE\\n\"+\n",
       "     \"output_notebook(resources=INLINE)\\n\"+\n",
       "     \"</code>\\n\"+\n",
       "     \"</div>\"}};\n",
       "\n",
       "  function display_loaded() {\n",
       "    var el = document.getElementById(\"b8c668ca-ca2a-4f00-8e15-13f9c64f1bdb\");\n",
       "    if (el != null) {\n",
       "      el.textContent = \"BokehJS is loading...\";\n",
       "    }\n",
       "    if (root.Bokeh !== undefined) {\n",
       "      if (el != null) {\n",
       "        el.textContent = \"BokehJS \" + root.Bokeh.version + \" successfully loaded.\";\n",
       "      }\n",
       "    } else if (Date.now() < root._bokeh_timeout) {\n",
       "      setTimeout(display_loaded, 100)\n",
       "    }\n",
       "  }\n",
       "\n",
       "\n",
       "  function run_callbacks() {\n",
       "    try {\n",
       "      root._bokeh_onload_callbacks.forEach(function(callback) { callback() });\n",
       "    }\n",
       "    finally {\n",
       "      delete root._bokeh_onload_callbacks\n",
       "    }\n",
       "    console.info(\"Bokeh: all callbacks have finished\");\n",
       "  }\n",
       "\n",
       "  function load_libs(js_urls, callback) {\n",
       "    root._bokeh_onload_callbacks.push(callback);\n",
       "    if (root._bokeh_is_loading > 0) {\n",
       "      console.log(\"Bokeh: BokehJS is being loaded, scheduling callback at\", now());\n",
       "      return null;\n",
       "    }\n",
       "    if (js_urls == null || js_urls.length === 0) {\n",
       "      run_callbacks();\n",
       "      return null;\n",
       "    }\n",
       "    console.log(\"Bokeh: BokehJS not loaded, scheduling load and callback at\", now());\n",
       "    root._bokeh_is_loading = js_urls.length;\n",
       "    for (var i = 0; i < js_urls.length; i++) {\n",
       "      var url = js_urls[i];\n",
       "      var s = document.createElement('script');\n",
       "      s.src = url;\n",
       "      s.async = false;\n",
       "      s.onreadystatechange = s.onload = function() {\n",
       "        root._bokeh_is_loading--;\n",
       "        if (root._bokeh_is_loading === 0) {\n",
       "          console.log(\"Bokeh: all BokehJS libraries loaded\");\n",
       "          run_callbacks()\n",
       "        }\n",
       "      };\n",
       "      s.onerror = function() {\n",
       "        console.warn(\"failed to load library \" + url);\n",
       "      };\n",
       "      console.log(\"Bokeh: injecting script tag for BokehJS library: \", url);\n",
       "      document.getElementsByTagName(\"head\")[0].appendChild(s);\n",
       "    }\n",
       "  };var element = document.getElementById(\"b8c668ca-ca2a-4f00-8e15-13f9c64f1bdb\");\n",
       "  if (element == null) {\n",
       "    console.log(\"Bokeh: ERROR: autoload.js configured with elementid 'b8c668ca-ca2a-4f00-8e15-13f9c64f1bdb' but no matching script tag was found. \")\n",
       "    return false;\n",
       "  }\n",
       "\n",
       "  var js_urls = [\"https://cdn.pydata.org/bokeh/release/bokeh-0.12.16.min.js\", \"https://cdn.pydata.org/bokeh/release/bokeh-widgets-0.12.16.min.js\", \"https://cdn.pydata.org/bokeh/release/bokeh-tables-0.12.16.min.js\", \"https://cdn.pydata.org/bokeh/release/bokeh-gl-0.12.16.min.js\"];\n",
       "\n",
       "  var inline_js = [\n",
       "    function(Bokeh) {\n",
       "      Bokeh.set_log_level(\"info\");\n",
       "    },\n",
       "    \n",
       "    function(Bokeh) {\n",
       "      \n",
       "    },\n",
       "    function(Bokeh) {\n",
       "      console.log(\"Bokeh: injecting CSS: https://cdn.pydata.org/bokeh/release/bokeh-0.12.16.min.css\");\n",
       "      Bokeh.embed.inject_css(\"https://cdn.pydata.org/bokeh/release/bokeh-0.12.16.min.css\");\n",
       "      console.log(\"Bokeh: injecting CSS: https://cdn.pydata.org/bokeh/release/bokeh-widgets-0.12.16.min.css\");\n",
       "      Bokeh.embed.inject_css(\"https://cdn.pydata.org/bokeh/release/bokeh-widgets-0.12.16.min.css\");\n",
       "      console.log(\"Bokeh: injecting CSS: https://cdn.pydata.org/bokeh/release/bokeh-tables-0.12.16.min.css\");\n",
       "      Bokeh.embed.inject_css(\"https://cdn.pydata.org/bokeh/release/bokeh-tables-0.12.16.min.css\");\n",
       "    }\n",
       "  ];\n",
       "\n",
       "  function run_inline_js() {\n",
       "    \n",
       "    if ((root.Bokeh !== undefined) || (force === true)) {\n",
       "      for (var i = 0; i < inline_js.length; i++) {\n",
       "        inline_js[i].call(root, root.Bokeh);\n",
       "      }if (force === true) {\n",
       "        display_loaded();\n",
       "      }} else if (Date.now() < root._bokeh_timeout) {\n",
       "      setTimeout(run_inline_js, 100);\n",
       "    } else if (!root._bokeh_failed_load) {\n",
       "      console.log(\"Bokeh: BokehJS failed to load within specified timeout.\");\n",
       "      root._bokeh_failed_load = true;\n",
       "    } else if (force !== true) {\n",
       "      var cell = $(document.getElementById(\"b8c668ca-ca2a-4f00-8e15-13f9c64f1bdb\")).parents('.cell').data().cell;\n",
       "      cell.output_area.append_execute_result(NB_LOAD_WARNING)\n",
       "    }\n",
       "\n",
       "  }\n",
       "\n",
       "  if (root._bokeh_is_loading === 0) {\n",
       "    console.log(\"Bokeh: BokehJS loaded, going straight to plotting\");\n",
       "    run_inline_js();\n",
       "  } else {\n",
       "    load_libs(js_urls, function() {\n",
       "      console.log(\"Bokeh: BokehJS plotting callback run at\", now());\n",
       "      run_inline_js();\n",
       "    });\n",
       "  }\n",
       "}(window));"
      ],
      "application/vnd.bokehjs_load.v0+json": "\n(function(root) {\n  function now() {\n    return new Date();\n  }\n\n  var force = true;\n\n  if (typeof (root._bokeh_onload_callbacks) === \"undefined\" || force === true) {\n    root._bokeh_onload_callbacks = [];\n    root._bokeh_is_loading = undefined;\n  }\n\n  \n\n  \n  if (typeof (root._bokeh_timeout) === \"undefined\" || force === true) {\n    root._bokeh_timeout = Date.now() + 5000;\n    root._bokeh_failed_load = false;\n  }\n\n  var NB_LOAD_WARNING = {'data': {'text/html':\n     \"<div style='background-color: #fdd'>\\n\"+\n     \"<p>\\n\"+\n     \"BokehJS does not appear to have successfully loaded. If loading BokehJS from CDN, this \\n\"+\n     \"may be due to a slow or bad network connection. Possible fixes:\\n\"+\n     \"</p>\\n\"+\n     \"<ul>\\n\"+\n     \"<li>re-rerun `output_notebook()` to attempt to load from CDN again, or</li>\\n\"+\n     \"<li>use INLINE resources instead, as so:</li>\\n\"+\n     \"</ul>\\n\"+\n     \"<code>\\n\"+\n     \"from bokeh.resources import INLINE\\n\"+\n     \"output_notebook(resources=INLINE)\\n\"+\n     \"</code>\\n\"+\n     \"</div>\"}};\n\n  function display_loaded() {\n    var el = document.getElementById(\"b8c668ca-ca2a-4f00-8e15-13f9c64f1bdb\");\n    if (el != null) {\n      el.textContent = \"BokehJS is loading...\";\n    }\n    if (root.Bokeh !== undefined) {\n      if (el != null) {\n        el.textContent = \"BokehJS \" + root.Bokeh.version + \" successfully loaded.\";\n      }\n    } else if (Date.now() < root._bokeh_timeout) {\n      setTimeout(display_loaded, 100)\n    }\n  }\n\n\n  function run_callbacks() {\n    try {\n      root._bokeh_onload_callbacks.forEach(function(callback) { callback() });\n    }\n    finally {\n      delete root._bokeh_onload_callbacks\n    }\n    console.info(\"Bokeh: all callbacks have finished\");\n  }\n\n  function load_libs(js_urls, callback) {\n    root._bokeh_onload_callbacks.push(callback);\n    if (root._bokeh_is_loading > 0) {\n      console.log(\"Bokeh: BokehJS is being loaded, scheduling callback at\", now());\n      return null;\n    }\n    if (js_urls == null || js_urls.length === 0) {\n      run_callbacks();\n      return null;\n    }\n    console.log(\"Bokeh: BokehJS not loaded, scheduling load and callback at\", now());\n    root._bokeh_is_loading = js_urls.length;\n    for (var i = 0; i < js_urls.length; i++) {\n      var url = js_urls[i];\n      var s = document.createElement('script');\n      s.src = url;\n      s.async = false;\n      s.onreadystatechange = s.onload = function() {\n        root._bokeh_is_loading--;\n        if (root._bokeh_is_loading === 0) {\n          console.log(\"Bokeh: all BokehJS libraries loaded\");\n          run_callbacks()\n        }\n      };\n      s.onerror = function() {\n        console.warn(\"failed to load library \" + url);\n      };\n      console.log(\"Bokeh: injecting script tag for BokehJS library: \", url);\n      document.getElementsByTagName(\"head\")[0].appendChild(s);\n    }\n  };var element = document.getElementById(\"b8c668ca-ca2a-4f00-8e15-13f9c64f1bdb\");\n  if (element == null) {\n    console.log(\"Bokeh: ERROR: autoload.js configured with elementid 'b8c668ca-ca2a-4f00-8e15-13f9c64f1bdb' but no matching script tag was found. \")\n    return false;\n  }\n\n  var js_urls = [\"https://cdn.pydata.org/bokeh/release/bokeh-0.12.16.min.js\", \"https://cdn.pydata.org/bokeh/release/bokeh-widgets-0.12.16.min.js\", \"https://cdn.pydata.org/bokeh/release/bokeh-tables-0.12.16.min.js\", \"https://cdn.pydata.org/bokeh/release/bokeh-gl-0.12.16.min.js\"];\n\n  var inline_js = [\n    function(Bokeh) {\n      Bokeh.set_log_level(\"info\");\n    },\n    \n    function(Bokeh) {\n      \n    },\n    function(Bokeh) {\n      console.log(\"Bokeh: injecting CSS: https://cdn.pydata.org/bokeh/release/bokeh-0.12.16.min.css\");\n      Bokeh.embed.inject_css(\"https://cdn.pydata.org/bokeh/release/bokeh-0.12.16.min.css\");\n      console.log(\"Bokeh: injecting CSS: https://cdn.pydata.org/bokeh/release/bokeh-widgets-0.12.16.min.css\");\n      Bokeh.embed.inject_css(\"https://cdn.pydata.org/bokeh/release/bokeh-widgets-0.12.16.min.css\");\n      console.log(\"Bokeh: injecting CSS: https://cdn.pydata.org/bokeh/release/bokeh-tables-0.12.16.min.css\");\n      Bokeh.embed.inject_css(\"https://cdn.pydata.org/bokeh/release/bokeh-tables-0.12.16.min.css\");\n    }\n  ];\n\n  function run_inline_js() {\n    \n    if ((root.Bokeh !== undefined) || (force === true)) {\n      for (var i = 0; i < inline_js.length; i++) {\n        inline_js[i].call(root, root.Bokeh);\n      }if (force === true) {\n        display_loaded();\n      }} else if (Date.now() < root._bokeh_timeout) {\n      setTimeout(run_inline_js, 100);\n    } else if (!root._bokeh_failed_load) {\n      console.log(\"Bokeh: BokehJS failed to load within specified timeout.\");\n      root._bokeh_failed_load = true;\n    } else if (force !== true) {\n      var cell = $(document.getElementById(\"b8c668ca-ca2a-4f00-8e15-13f9c64f1bdb\")).parents('.cell').data().cell;\n      cell.output_area.append_execute_result(NB_LOAD_WARNING)\n    }\n\n  }\n\n  if (root._bokeh_is_loading === 0) {\n    console.log(\"Bokeh: BokehJS loaded, going straight to plotting\");\n    run_inline_js();\n  } else {\n    load_libs(js_urls, function() {\n      console.log(\"Bokeh: BokehJS plotting callback run at\", now());\n      run_inline_js();\n    });\n  }\n}(window));"
     },
     "metadata": {},
     "output_type": "display_data"
    }
   ],
   "source": [
    "output_notebook()\n",
    "client = pymongo.MongoClient('localhost', 27017)"
   ]
  },
  {
   "cell_type": "markdown",
   "metadata": {
    "heading_collapsed": true
   },
   "source": [
    "## Data"
   ]
  },
  {
   "cell_type": "code",
   "execution_count": 3,
   "metadata": {
    "collapsed": true,
    "hidden": true
   },
   "outputs": [],
   "source": [
    "MOL = 'n2o'\n",
    "COMMITNUMBER = '1013f91'\n",
    "ATMPRO = dict(mls=294, saw=257, trp=300)"
   ]
  },
  {
   "cell_type": "code",
   "execution_count": 4,
   "metadata": {
    "collapsed": true,
    "hidden": true
   },
   "outputs": [],
   "source": [
    "atmcomp = AtmComposition.cliradlw_nongreys(onlygas=MOL)"
   ]
  },
  {
   "cell_type": "code",
   "execution_count": 5,
   "metadata": {
    "collapsed": true,
    "hidden": true
   },
   "outputs": [],
   "source": [
    "DCLI = {}\n",
    "for atmpro, _ in ATMPRO.items():\n",
    "    pcli = atmcomp.to_cliradparam(commitnumber=COMMITNUMBER, atmpro=atmpro, tsfc=ATMPRO[atmpro])\n",
    "    dcli = pcli.modeldata_pymongo(collection=client.cliradnew.lw)\n",
    "    DCLI[atmpro] = dcli"
   ]
  },
  {
   "cell_type": "code",
   "execution_count": 6,
   "metadata": {
    "collapsed": true,
    "hidden": true
   },
   "outputs": [],
   "source": [
    "DCRD = {}"
   ]
  },
  {
   "cell_type": "code",
   "execution_count": 16,
   "metadata": {
    "collapsed": true,
    "hidden": true
   },
   "outputs": [],
   "source": [
    "atmpro = 'trp'\n",
    "pcrds = atmcomp.to_lblnewparam(bestfit_values=True, atmpro=atmpro, tsfc=ATMPRO[atmpro])"
   ]
  },
  {
   "cell_type": "code",
   "execution_count": 17,
   "metadata": {
    "hidden": true,
    "scrolled": true
   },
   "outputs": [
    {
     "data": {
      "text/plain": [
       "[['5014a19'], ['5014a19']]"
      ]
     },
     "execution_count": 17,
     "metadata": {},
     "output_type": "execute_result"
    }
   ],
   "source": [
    "cmts = [p.avail_commits(client.lblnew.bestfit_lw) for p in pcrds]\n",
    "cmts"
   ]
  },
  {
   "cell_type": "code",
   "execution_count": 18,
   "metadata": {
    "collapsed": true,
    "hidden": true,
    "scrolled": false
   },
   "outputs": [],
   "source": [
    "commits = ['a06b618', '5014a19']\n",
    "dcrds = [p.modeldata_pymongo(collection=client.lblnew.bestfit_lw, commits=commits) for p in pcrds]\n",
    "\n",
    "dcrd = concat(*dcrds)\n",
    "DCRD[atmpro] = dcrd"
   ]
  },
  {
   "cell_type": "code",
   "execution_count": 19,
   "metadata": {
    "hidden": true
   },
   "outputs": [
    {
     "data": {
      "text/plain": [
       "({'mls': <climatools.dataset.CliradnewLWModelData at 0x2abecfeedf98>,\n",
       "  'saw': <climatools.dataset.CliradnewLWModelData at 0x2abed4451fd0>,\n",
       "  'trp': <climatools.dataset.CliradnewLWModelData at 0x2abed476ca58>},\n",
       " {'mls': <climatools.dataset.LBLnewModelData at 0x2abed4a90cf8>,\n",
       "  'saw': <climatools.dataset.LBLnewModelData at 0x2abed4a90a58>,\n",
       "  'trp': <climatools.dataset.LBLnewModelData at 0x2abed5172908>})"
      ]
     },
     "execution_count": 19,
     "metadata": {},
     "output_type": "execute_result"
    }
   ],
   "source": [
    "DCLI, DCRD"
   ]
  },
  {
   "cell_type": "markdown",
   "metadata": {},
   "source": [
    "## Analysis code"
   ]
  },
  {
   "cell_type": "code",
   "execution_count": 20,
   "metadata": {
    "collapsed": true
   },
   "outputs": [],
   "source": [
    "def show_html(s):\n",
    "    display.display(display.HTML(s))\n",
    "\n",
    "def show_markdown(s):\n",
    "    display.display(display.Markdown(s))"
   ]
  },
  {
   "cell_type": "code",
   "execution_count": 21,
   "metadata": {
    "collapsed": true
   },
   "outputs": [],
   "source": [
    "def show_parameters(dcrd, dcli):\n",
    "    srss = [pd.Series(dcli.param, name=':D')]\n",
    "    srss_crd = [pd.Series(p) for p in dcrd.param]\n",
    "    df = pd.concat(srss_crd, axis=1, sort=True, keys=[f\"band{s['band']} {s['molecule']}\" for s in srss_crd])\n",
    "    srss.append(df)\n",
    "    df = pd.concat(srss, axis=1, sort=True, keys=['clirad-lw', 'lblnew-bestfit lw'])\n",
    "    df.fillna('-', inplace=True)\n",
    "    with pd.option_context('display.max_colwidth', 100):\n",
    "        display.display(df)"
   ]
  },
  {
   "cell_type": "code",
   "execution_count": 22,
   "metadata": {
    "collapsed": true
   },
   "outputs": [],
   "source": [
    "import rtmtools.clirad.sw.wrangle as cliradwrangle\n",
    "\n",
    "def oldclirad_data_atm():\n",
    "    '''\n",
    "    Load the OLD clirad's results. mls only.\n",
    "    '''\n",
    "    fpath = os.path.join('/chia_cluster/home/jackyu/radiation',\n",
    "                         'clirad-lw',\n",
    "                         'LW',\n",
    "                         'examples',\n",
    "                         'mls75_h2o_atmpro_co2_.0004_o3_atmpro_n2o_3.2e-7_ch4_1.8e-6_H2012',\n",
    "                         'OUTPUT_CLIRAD.dat')\n",
    "    \n",
    "    ds = cliradwrangle.load_OUTPUT_CLIRAD(readfrom=fpath)\n",
    "    \n",
    "    ds_cool = xr.Dataset()\n",
    "    ds_cool.coords['pressure'] = ('pressure', ds['layer_pressure'])\n",
    "    ds_cool.coords['band'] = ('band', ds['spectral_band'])\n",
    "    ds_cool['coolrg'] = (('band', 'pressure'), - ds['heating_rate'])\n",
    "    \n",
    "    ds_flux = xr.Dataset()\n",
    "    ds_flux.coords['pressure'] = ('pressure', ds['level_pressure'])\n",
    "    ds_flux.coords['band'] = ('band', ds['spectral_band'])\n",
    "    ds_flux['flug'] = (('band', 'pressure'), ds['flux_up'])\n",
    "    ds_flux['fldg'] = (('band', 'pressure'), ds['flux_down'])\n",
    "    ds_flux['fnetg'] = (('band', 'pressure'), ds['net_flux'])\n",
    "    \n",
    "    \n",
    "    d = {}\n",
    "    d['cool'] = ds_cool\n",
    "    d['flux'] = ds_flux\n",
    "    return d"
   ]
  },
  {
   "cell_type": "code",
   "execution_count": 23,
   "metadata": {
    "collapsed": true
   },
   "outputs": [],
   "source": [
    "def show_makeup():\n",
    "    df = pd.DataFrame()\n",
    "    for band, gs in atmcomp.gasinbands.items():\n",
    "        for g in gs:\n",
    "            df.loc[g, band] = str(atmcomp.gasconcs[g])\n",
    "\n",
    "    df = df.fillna(0)\n",
    "    df.columns.name = 'clirad band'\n",
    "    df.index.name = 'molecule'\n",
    "    \n",
    "    display.display(df)\n",
    "    display.display(display.Markdown('*TABLE.* Non-grey absorbers in the atmosphere.'))"
   ]
  },
  {
   "cell_type": "code",
   "execution_count": 24,
   "metadata": {
    "collapsed": true,
    "scrolled": false
   },
   "outputs": [],
   "source": [
    "def pltdata_cool(dcrd=None, dcli=None, atmpro='mls'):\n",
    "    colors = all_palettes['Set1'][4]\n",
    "    cool_cli = dcli.wgt_cool.sel(i=1).sum('band')['coolrg']\n",
    "    cool_crd = dcrd.crd_cool['coolrg'].sum('band').sum('g')\n",
    "    \n",
    "    data = [\n",
    "        {'label': 'CLIRAD',\n",
    "         'srs': cool_cli,\n",
    "         'line_dash': 'dashed', 'line_width': 5,\n",
    "         'color': colors[0], 'alpha': .6},\n",
    "        {'label': 'CRD',\n",
    "         'srs': cool_crd,\n",
    "         'line_dash': 'solid', 'line_width': 1.5,\n",
    "         'marker': 'circle', 'marker_size': 5,\n",
    "         'color': colors[2], 'alpha': 1}\n",
    "    ]\n",
    "    \n",
    "    # include old CLIRAD's results for mls profile\n",
    "#    if atmpro == 'mls':\n",
    "#        d_oldclirad = oldclirad_data_atm()\n",
    "#        ds_oldclirad = d_oldclirad['cool']        \n",
    "#        data.append(\n",
    "#            {'label': 'old CLIRAD (H2012)',\n",
    "#             'srs': fmt_cool(ds_oldclirad),\n",
    "#             'line_dash': 'solid', 'line_width': 1.5,\n",
    "#             'marker': 'square', 'marker_size': 3,\n",
    "#             'color': colors[3], 'alpha': .5})\n",
    "    return data\n",
    "\n",
    "\n",
    "def pltdata_cooldiff(dcrd=None, dcli=None, atmpro='mls'): \n",
    "    colors = all_palettes['Set1'][4]\n",
    "    cool_cli = dcli.wgt_cool.sel(i=1).sum('band')['coolrg']\n",
    "    cool_crd = dcrd.crd_cool['coolrg'].sum('band').sum('g')\n",
    "    cool_dif = cool_cli - cool_crd\n",
    "    \n",
    "    data = [\n",
    "        {'label': 'CLIRAD - CRD',\n",
    "         'srs': cool_dif,\n",
    "         'line_dash': 'solid', 'line_width': 1.5, \n",
    "         'marker': 'circle', 'marker_size': 7,\n",
    "         'color': colors[3], 'alpha': .8}\n",
    "    ]\n",
    "    \n",
    "    # include old CLIRAD's results for mls profile\n",
    "#    if atmpro == 'mls':\n",
    "#        d_oldclirad = oldclirad_data_atm()\n",
    "#        ds_oldclirad = d_oldclirad['cool']\n",
    "#        ds_oldclirad.coords['pressure'] = ds_crd.coords['pressure']\n",
    "#        ds_diff_old = ds_oldclirad.sum('band') - ds_crd.sum('band')\n",
    "#        data.append(\n",
    "#            {'label': 'old CLIRAD (H2012) - CRD',\n",
    "#             'srs': fmt_cool(ds_diff_old),\n",
    "#             'line_dash': 'dashed', 'line_width': 4,\n",
    "#             'color': colors[1], 'alpha': .5}\n",
    "#        )\n",
    "    return data\n",
    "\n",
    "\n",
    "def show_cool(dcrd=None, dcli=None, atmpro='mls'):\n",
    "    data_cool = pltdata_cool(dcrd, dcli, atmpro=atmpro)\n",
    "    p_cool_liny = plt_vert_profile_bokeh(pltdata=data_cool)\n",
    "    p_cool_logy = plt_vert_profile_bokeh(pltdata=data_cool, y_axis_type='log', prange=(.01, 200))\n",
    "    \n",
    "    data_cooldiff = pltdata_cooldiff(dcrd, dcli, atmpro=atmpro)\n",
    "    p_cooldiff_logy = plt_vert_profile_bokeh(pltdata=data_cooldiff, y_axis_type='log', prange=(.01, 200))\n",
    "    \n",
    "    everything = gridplot(p_cool_liny, p_cool_logy, p_cooldiff_logy, ncols=3)\n",
    "    show(everything)\n",
    "    display.display(display.Markdown('*FIGURE.* Cooling rates & difference.'))"
   ]
  },
  {
   "cell_type": "code",
   "execution_count": 25,
   "metadata": {
    "collapsed": true,
    "scrolled": false
   },
   "outputs": [],
   "source": [
    "def hist_band_vs_flux(da, title='Title'):\n",
    "    bands = [str(b.values) for b in da['band']]\n",
    "    source = ColumnDataSource(data={'band': bands, 'flux': da.values})\n",
    "    p = figure(x_range=bands, title=title)\n",
    "    p.vbar(source=source, x='band', top='flux', width=.9)\n",
    "    p.yaxis.axis_label = 'flux (W m-2)'\n",
    "    p.xaxis.axis_label = 'spectral band'\n",
    "    return p\n",
    "\n",
    "def show_hist_flux(dcrd=None, dcli=None, atmpro='mls'):\n",
    "    ds_crd = dcrd.crd_flux.sum('g')\n",
    "    ds_clirad = dcli.wgt_flux.sel(i=1)\n",
    "    \n",
    "    ip, varname = 0, 'flug'\n",
    "    da = (ds_clirad - ds_crd).isel(pressure=ip)[varname]\n",
    "    p_toa = hist_band_vs_flux(da, title='TOA flux. CLIRAD - CRD.')\n",
    "\n",
    "    ip, varname = -1, 'fldg'\n",
    "    da = (ds_clirad - ds_crd).isel(pressure=ip)[varname]\n",
    "    p_sfc = hist_band_vs_flux(da, title='SFC flux. CLIRAD - CRD.')    \n",
    "    \n",
    "    atm_crd = (ds_crd.isel(pressure=0) - ds_crd.isel(pressure=-1))['fnetg']\n",
    "    atm_clirad = (ds_clirad.isel(pressure=0) - ds_clirad.isel(pressure=-1))['fnetg']\n",
    "    da = atm_clirad - atm_crd\n",
    "    p_atm = hist_band_vs_flux(da, title='Atmosphere heating. CLIRAD - CRD.')\n",
    "\n",
    "    everything = gridplot(p_toa, p_sfc, p_atm, ncols=3, plot_width=300, plot_height=300)\n",
    "    \n",
    "    show(everything)\n",
    "    display.display(\n",
    "        display.Markdown('*FIGURE.* Difference between CLIRAD and CRD'\n",
    "          ' in TOA, SFC and net atmosphere flux,'\n",
    "          ' in each spectral band.'))\n",
    "\n",
    "def show_tb_flux(dcrd=None, dcli=None, atmpro='mls'):\n",
    "    fluxcrd = dcrd.crd_flux.sum(['band', 'g'])\n",
    "    olr_crd = fluxcrd['flug'].isel(pressure=0)\n",
    "    sfc_crd = fluxcrd['fldg'].isel(pressure=-1)\n",
    "    atm_crd = (fluxcrd.isel(pressure=0) - fluxcrd.isel(pressure=-1))['fnetg']\n",
    "    \n",
    "    fluxcli = dcli.wgt_flux.sel(i=1).sum('band')\n",
    "    olr_cli = fluxcli['flug'].isel(pressure=0)\n",
    "    sfc_cli = fluxcli['fldg'].isel(pressure=-1)\n",
    "    atm_cli = (fluxcli.isel(pressure=0) - fluxcli.isel(pressure=-1))['fnetg']\n",
    "    \n",
    "#    if atmpro == 'mls':\n",
    "#        ds_oldclirad = oldclirad_data_atm()['flux']\n",
    "#        ds_oldclirad['pressure'] = ds_crd['pressure']\n",
    "#        olr_oldclirad = ds_oldclirad['flug'].isel(pressure=0)\n",
    "#        sfc_oldclirad = ds_oldclirad['fldg'].isel(pressure=-1)\n",
    "#        atm_oldclirad = (ds_oldclirad.isel(pressure=0)\n",
    "#                         - ds_oldclirad.isel(pressure=-1))['fnetg']\n",
    "        \n",
    "    df = pd.DataFrame()\n",
    "    df.index.name = 'Sum over bands'\n",
    "    \n",
    "#    if atmpro == 'mls':\n",
    "#        df.loc['old CLIRAD - CRD', 'OLR flux'] = (fmt(olr_oldclirad) - fmt(olr_crd)).values\n",
    "#        df.loc['old CLIRAD - CRD', 'SFC flux'] = (fmt(sfc_oldclirad) - fmt(sfc_crd)).values\n",
    "#        df.loc['old CLIRAD - CRD', 'ATM heating'] = (fmt(atm_oldclirad) - fmt(atm_crd)).values\n",
    "\n",
    "    df.loc['CLIRAD - CRD', 'OLR flux'] = (olr_cli - olr_crd).values\n",
    "    df.loc['CLIRAD - CRD', 'SFC flux'] = (sfc_cli - sfc_crd).values\n",
    "    df.loc['CLIRAD - CRD', 'ATM heating'] = (atm_cli - atm_crd).values\n",
    "\n",
    "    df.loc['CRD', 'OLR flux'] = olr_crd.values\n",
    "    df.loc['CRD', 'SFC flux'] = sfc_crd.values\n",
    "    df.loc['CRD', 'ATM heating'] = atm_crd.values\n",
    "        \n",
    "    df = df.astype('float').round(2)\n",
    "    \n",
    "    display.display(df)\n",
    "    display.display(\n",
    "        display.Markdown('*TABLE.* Difference between CLIRAD and CRD'\n",
    "          ' in TOA, SFC and net atmosphere flux,'\n",
    "          ' over all spectral bands. CRD\\'s'\n",
    "          ' TOA, SFC and net atmosphere flux,'\n",
    "          ' over all spectral bands.'))\n",
    "    \n",
    "\n",
    "#show_hist_flux(dcrd, dcli, atmpro='mls')\n",
    "#show_tb_flux(DCRD['mls'], DCLI['mls'], atmpro='mls')"
   ]
  },
  {
   "cell_type": "code",
   "execution_count": 26,
   "metadata": {
    "collapsed": true,
    "scrolled": true
   },
   "outputs": [],
   "source": [
    "def cool_tofile(atmpro=None):\n",
    "    dcli = clirad_data_atm(params_atm=[subparam_atm_clirad(atmpro=atmpro)])\n",
    "    dcrd = crd_data_atm(params_atm=subparams_atm_lblnew(atmpro=atmpro))\n",
    "    \n",
    "    dcli = dcli['cool'].sel(i=1).drop('i').sum('band')\n",
    "    dcrd = dcrd['cool'].sum('band')\n",
    "    \n",
    "    dcli = dcli['coolrg'].to_dataframe()\n",
    "    dcrd = dcrd['coolrg'].to_dataframe()\n",
    "    \n",
    "    dcli = dcli.set_index('layer', append=True)\n",
    "    dcrd = dcrd.set_index('layer', append=True)\n",
    "    \n",
    "    ddif = dcli - dcrd\n",
    "    \n",
    "    df = pd.concat([dcrd, dcli, ddif], axis=1, keys=['CRD', 'CLIRAD', 'CLIRAD - CRD'])\n",
    "    return df\n",
    "\n",
    "\n",
    "def flux_tofile(atmpro=None):\n",
    "    tropopauses = {'mls': 40, 'saw': 45, 'trp': 37}\n",
    "    ilevels = [0, tropopauses[atmpro], -1]\n",
    "    \n",
    "    dcli = clirad_data_atm(params_atm=[subparam_atm_clirad(atmpro=atmpro)])\n",
    "    dcrd = crd_data_atm(params_atm=subparams_atm_lblnew(atmpro=atmpro))\n",
    "    \n",
    "    dcli = dcli['flux'].sel(i=1).drop('i').sum('band').isel(pressure=ilevels)\n",
    "    dcrd = dcrd['flux'].sum('band').isel(pressure=ilevels)\n",
    "    \n",
    "    dcli = dcli.to_dataframe()\n",
    "    dcrd = dcrd.to_dataframe()\n",
    "    \n",
    "    dcli = dcli.set_index('level', append=True)\n",
    "    dcrd = dcrd.set_index('level', append=True)\n",
    "    \n",
    "    ddif = dcli - dcrd\n",
    "    \n",
    "    df = pd.concat([dcrd, dcli, ddif], axis=1, keys=['CRD', 'CLIRAD', 'CLIRAD - CRD'])\n",
    "    return df\n",
    "\n",
    "\n",
    "def script_tofile():\n",
    "    fname = f'results_{MOL}atm_cliradsinglerun.xlsx'\n",
    "    writer = pd.ExcelWriter(fname)\n",
    "    for atmpro in ('mls', 'saw', 'trp'):\n",
    "        dflux = flux_tofile(atmpro=atmpro)\n",
    "        dflux.to_excel(writer, f'flux {atmpro}')\n",
    "        \n",
    "        dcool = cool_tofile(atmpro=atmpro)\n",
    "        dcool.to_excel(writer, f'cool {atmpro}')\n",
    "        \n",
    "    html = f'Download: <a href=\"./{fname}\">{fname}</a>'\n",
    "    show_html(html) "
   ]
  },
  {
   "cell_type": "code",
   "execution_count": 27,
   "metadata": {
    "collapsed": true,
    "scrolled": false
   },
   "outputs": [],
   "source": [
    "def script():\n",
    "    \n",
    "    d_atm = {'mls': 'mid-latitude summer', 'saw': 'sub-arctic winter', 'trp': 'tropical'}\n",
    "    \n",
    "    s_makeup = 'Makeup of atmosphere.'\n",
    "    s_parameters = 'Parameters of runs.'\n",
    "    s_atmpro = '# {}'\n",
    "    s_cool = 'Cooling rates. {}.'\n",
    "    s_flux = 'Fluxes. {}.'\n",
    "    \n",
    "    atmpros = ['mls', 'saw', 'trp']\n",
    "    \n",
    "    # TOC\n",
    "    show_markdown('### Table of Contents')\n",
    "    show_html(getHTML_hrefanchor(s_makeup))\n",
    "    \n",
    "    for atmpro in atmpros:\n",
    "        show_markdown('**' + d_atm[atmpro] + '**')\n",
    "        show_html(getHTML_hrefanchor(s_parameters + f' {atmpro}'))\n",
    "        show_html(getHTML_hrefanchor(s_cool.format(atmpro)))\n",
    "        show_html(getHTML_hrefanchor(s_flux.format(atmpro)))\n",
    "\n",
    "    # Atmosphere makeup\n",
    "    show_html(getHTML_idanchor(s_makeup))\n",
    "    show_markdown(getMarkdown_sectitle(s_makeup))\n",
    "    show_makeup()\n",
    "        \n",
    "    for atmpro in atmpros:\n",
    "        dcrd, dcli = DCRD[atmpro], DCLI[atmpro]\n",
    "        \n",
    "        show_html(getHTML_idanchor(s_parameters + f' {atmpro}'))\n",
    "        show_markdown(getMarkdown_sectitle(s_parameters + f' {atmpro}'))\n",
    "        show_parameters(dcrd, dcli)\n",
    "        \n",
    "        show_html(getHTML_idanchor(s_cool.format(atmpro)))\n",
    "        show_markdown(getMarkdown_sectitle(s_cool.format(atmpro)))\n",
    "        show_cool(dcrd, dcli, atmpro=atmpro)\n",
    "        \n",
    "        show_html(getHTML_idanchor(s_flux.format(atmpro)))\n",
    "        show_markdown(getMarkdown_sectitle(s_flux.format(atmpro)))\n",
    "        show_hist_flux(dcrd, dcli, atmpro=atmpro)\n",
    "        show_tb_flux(dcrd, dcli, atmpro=atmpro)\n",
    "    \n",
    "    #script_tofile()"
   ]
  },
  {
   "cell_type": "markdown",
   "metadata": {},
   "source": [
    "## Analysis Result"
   ]
  },
  {
   "cell_type": "code",
   "execution_count": 28,
   "metadata": {
    "scrolled": false
   },
   "outputs": [
    {
     "data": {
      "text/markdown": [
       "### Table of Contents"
      ],
      "text/plain": [
       "<IPython.core.display.Markdown object>"
      ]
     },
     "metadata": {},
     "output_type": "display_data"
    },
    {
     "data": {
      "text/html": [
       "<a href=\"#Makeup_of_atmosphere.\">Makeup of atmosphere.</a>"
      ],
      "text/plain": [
       "<IPython.core.display.HTML object>"
      ]
     },
     "metadata": {},
     "output_type": "display_data"
    },
    {
     "data": {
      "text/markdown": [
       "**mid-latitude summer**"
      ],
      "text/plain": [
       "<IPython.core.display.Markdown object>"
      ]
     },
     "metadata": {},
     "output_type": "display_data"
    },
    {
     "data": {
      "text/html": [
       "<a href=\"#Parameters_of_runs._mls\">Parameters of runs. mls</a>"
      ],
      "text/plain": [
       "<IPython.core.display.HTML object>"
      ]
     },
     "metadata": {},
     "output_type": "display_data"
    },
    {
     "data": {
      "text/html": [
       "<a href=\"#Cooling_rates._mls.\">Cooling rates. mls.</a>"
      ],
      "text/plain": [
       "<IPython.core.display.HTML object>"
      ]
     },
     "metadata": {},
     "output_type": "display_data"
    },
    {
     "data": {
      "text/html": [
       "<a href=\"#Fluxes._mls.\">Fluxes. mls.</a>"
      ],
      "text/plain": [
       "<IPython.core.display.HTML object>"
      ]
     },
     "metadata": {},
     "output_type": "display_data"
    },
    {
     "data": {
      "text/markdown": [
       "**sub-arctic winter**"
      ],
      "text/plain": [
       "<IPython.core.display.Markdown object>"
      ]
     },
     "metadata": {},
     "output_type": "display_data"
    },
    {
     "data": {
      "text/html": [
       "<a href=\"#Parameters_of_runs._saw\">Parameters of runs. saw</a>"
      ],
      "text/plain": [
       "<IPython.core.display.HTML object>"
      ]
     },
     "metadata": {},
     "output_type": "display_data"
    },
    {
     "data": {
      "text/html": [
       "<a href=\"#Cooling_rates._saw.\">Cooling rates. saw.</a>"
      ],
      "text/plain": [
       "<IPython.core.display.HTML object>"
      ]
     },
     "metadata": {},
     "output_type": "display_data"
    },
    {
     "data": {
      "text/html": [
       "<a href=\"#Fluxes._saw.\">Fluxes. saw.</a>"
      ],
      "text/plain": [
       "<IPython.core.display.HTML object>"
      ]
     },
     "metadata": {},
     "output_type": "display_data"
    },
    {
     "data": {
      "text/markdown": [
       "**tropical**"
      ],
      "text/plain": [
       "<IPython.core.display.Markdown object>"
      ]
     },
     "metadata": {},
     "output_type": "display_data"
    },
    {
     "data": {
      "text/html": [
       "<a href=\"#Parameters_of_runs._trp\">Parameters of runs. trp</a>"
      ],
      "text/plain": [
       "<IPython.core.display.HTML object>"
      ]
     },
     "metadata": {},
     "output_type": "display_data"
    },
    {
     "data": {
      "text/html": [
       "<a href=\"#Cooling_rates._trp.\">Cooling rates. trp.</a>"
      ],
      "text/plain": [
       "<IPython.core.display.HTML object>"
      ]
     },
     "metadata": {},
     "output_type": "display_data"
    },
    {
     "data": {
      "text/html": [
       "<a href=\"#Fluxes._trp.\">Fluxes. trp.</a>"
      ],
      "text/plain": [
       "<IPython.core.display.HTML object>"
      ]
     },
     "metadata": {},
     "output_type": "display_data"
    },
    {
     "data": {
      "text/html": [
       "<a id=\"Makeup_of_atmosphere.\"></a>"
      ],
      "text/plain": [
       "<IPython.core.display.HTML object>"
      ]
     },
     "metadata": {},
     "output_type": "display_data"
    },
    {
     "data": {
      "text/markdown": [
       "# Makeup of atmosphere."
      ],
      "text/plain": [
       "<IPython.core.display.Markdown object>"
      ]
     },
     "metadata": {},
     "output_type": "display_data"
    },
    {
     "data": {
      "text/html": [
       "<div>\n",
       "<style scoped>\n",
       "    .dataframe tbody tr th:only-of-type {\n",
       "        vertical-align: middle;\n",
       "    }\n",
       "\n",
       "    .dataframe tbody tr th {\n",
       "        vertical-align: top;\n",
       "    }\n",
       "\n",
       "    .dataframe thead th {\n",
       "        text-align: right;\n",
       "    }\n",
       "</style>\n",
       "<table border=\"1\" class=\"dataframe\">\n",
       "  <thead>\n",
       "    <tr style=\"text-align: right;\">\n",
       "      <th>clirad band</th>\n",
       "      <th>3</th>\n",
       "      <th>9</th>\n",
       "    </tr>\n",
       "    <tr>\n",
       "      <th>molecule</th>\n",
       "      <th></th>\n",
       "      <th></th>\n",
       "    </tr>\n",
       "  </thead>\n",
       "  <tbody>\n",
       "    <tr>\n",
       "      <th>n2o</th>\n",
       "      <td>3.2e-07</td>\n",
       "      <td>3.2e-07</td>\n",
       "    </tr>\n",
       "  </tbody>\n",
       "</table>\n",
       "</div>"
      ],
      "text/plain": [
       "clirad band        3        9\n",
       "molecule                     \n",
       "n2o          3.2e-07  3.2e-07"
      ]
     },
     "metadata": {},
     "output_type": "display_data"
    },
    {
     "data": {
      "text/markdown": [
       "*TABLE.* Non-grey absorbers in the atmosphere."
      ],
      "text/plain": [
       "<IPython.core.display.Markdown object>"
      ]
     },
     "metadata": {},
     "output_type": "display_data"
    },
    {
     "data": {
      "text/html": [
       "<a id=\"Parameters_of_runs._mls\"></a>"
      ],
      "text/plain": [
       "<IPython.core.display.HTML object>"
      ]
     },
     "metadata": {},
     "output_type": "display_data"
    },
    {
     "data": {
      "text/markdown": [
       "# Parameters of runs. mls"
      ],
      "text/plain": [
       "<IPython.core.display.Markdown object>"
      ]
     },
     "metadata": {},
     "output_type": "display_data"
    },
    {
     "data": {
      "text/html": [
       "<div>\n",
       "<style scoped>\n",
       "    .dataframe tbody tr th:only-of-type {\n",
       "        vertical-align: middle;\n",
       "    }\n",
       "\n",
       "    .dataframe tbody tr th {\n",
       "        vertical-align: top;\n",
       "    }\n",
       "\n",
       "    .dataframe thead tr th {\n",
       "        text-align: left;\n",
       "    }\n",
       "</style>\n",
       "<table border=\"1\" class=\"dataframe\">\n",
       "  <thead>\n",
       "    <tr>\n",
       "      <th></th>\n",
       "      <th>clirad-lw</th>\n",
       "      <th colspan=\"2\" halign=\"left\">lblnew-bestfit lw</th>\n",
       "    </tr>\n",
       "    <tr>\n",
       "      <th></th>\n",
       "      <th>:D</th>\n",
       "      <th>band3a n2o</th>\n",
       "      <th>band7 n2o</th>\n",
       "    </tr>\n",
       "  </thead>\n",
       "  <tbody>\n",
       "    <tr>\n",
       "      <th>atmpro</th>\n",
       "      <td>mls</td>\n",
       "      <td>mls</td>\n",
       "      <td>mls</td>\n",
       "    </tr>\n",
       "    <tr>\n",
       "      <th>band</th>\n",
       "      <td>[3, 9]</td>\n",
       "      <td>3a</td>\n",
       "      <td>7</td>\n",
       "    </tr>\n",
       "    <tr>\n",
       "      <th>commitnumber</th>\n",
       "      <td>1013f91</td>\n",
       "      <td>a06b618</td>\n",
       "      <td>a06b618</td>\n",
       "    </tr>\n",
       "    <tr>\n",
       "      <th>conc</th>\n",
       "      <td>-</td>\n",
       "      <td>3.2e-07</td>\n",
       "      <td>3.2e-07</td>\n",
       "    </tr>\n",
       "    <tr>\n",
       "      <th>dv</th>\n",
       "      <td>-</td>\n",
       "      <td>0.001</td>\n",
       "      <td>0.001</td>\n",
       "    </tr>\n",
       "    <tr>\n",
       "      <th>klin</th>\n",
       "      <td>-</td>\n",
       "      <td>2.22e-20</td>\n",
       "      <td>2.22e-20</td>\n",
       "    </tr>\n",
       "    <tr>\n",
       "      <th>molecule</th>\n",
       "      <td>{'n2o': 3.2e-07}</td>\n",
       "      <td>n2o</td>\n",
       "      <td>n2o</td>\n",
       "    </tr>\n",
       "    <tr>\n",
       "      <th>ng_adju</th>\n",
       "      <td>-</td>\n",
       "      <td>[0, 0]</td>\n",
       "      <td>[0, 0]</td>\n",
       "    </tr>\n",
       "    <tr>\n",
       "      <th>ng_refs</th>\n",
       "      <td>-</td>\n",
       "      <td>[1, 2]</td>\n",
       "      <td>[2, 2]</td>\n",
       "    </tr>\n",
       "    <tr>\n",
       "      <th>nv</th>\n",
       "      <td>-</td>\n",
       "      <td>1000</td>\n",
       "      <td>1000</td>\n",
       "    </tr>\n",
       "    <tr>\n",
       "      <th>option_compute_btable</th>\n",
       "      <td>-</td>\n",
       "      <td>0</td>\n",
       "      <td>0</td>\n",
       "    </tr>\n",
       "    <tr>\n",
       "      <th>option_compute_ktable</th>\n",
       "      <td>-</td>\n",
       "      <td>1</td>\n",
       "      <td>1</td>\n",
       "    </tr>\n",
       "    <tr>\n",
       "      <th>option_wgt_flux</th>\n",
       "      <td>-</td>\n",
       "      <td>1</td>\n",
       "      <td>1</td>\n",
       "    </tr>\n",
       "    <tr>\n",
       "      <th>option_wgt_k</th>\n",
       "      <td>-</td>\n",
       "      <td>1</td>\n",
       "      <td>1</td>\n",
       "    </tr>\n",
       "    <tr>\n",
       "      <th>ref_pts</th>\n",
       "      <td>-</td>\n",
       "      <td>[[1, 250], [500, 250]]</td>\n",
       "      <td>[[1, 250], [500, 250]]</td>\n",
       "    </tr>\n",
       "    <tr>\n",
       "      <th>tsfc</th>\n",
       "      <td>294</td>\n",
       "      <td>294</td>\n",
       "      <td>294</td>\n",
       "    </tr>\n",
       "    <tr>\n",
       "      <th>vmax</th>\n",
       "      <td>-</td>\n",
       "      <td>620</td>\n",
       "      <td>1380</td>\n",
       "    </tr>\n",
       "    <tr>\n",
       "      <th>vmin</th>\n",
       "      <td>-</td>\n",
       "      <td>540</td>\n",
       "      <td>1215</td>\n",
       "    </tr>\n",
       "    <tr>\n",
       "      <th>w_diffuse</th>\n",
       "      <td>-</td>\n",
       "      <td>[[1.8], [1.66, 1.8]]</td>\n",
       "      <td>[[1.8, 1.66], [1.6, 1.8]]</td>\n",
       "    </tr>\n",
       "    <tr>\n",
       "      <th>wgt</th>\n",
       "      <td>-</td>\n",
       "      <td>[[0.9], [0.5, 0.95]]</td>\n",
       "      <td>[[0.6, 0.5], [0.6, 0.9]]</td>\n",
       "    </tr>\n",
       "  </tbody>\n",
       "</table>\n",
       "</div>"
      ],
      "text/plain": [
       "                              clirad-lw       lblnew-bestfit lw  \\\n",
       "                                     :D              band3a n2o   \n",
       "atmpro                              mls                     mls   \n",
       "band                             [3, 9]                      3a   \n",
       "commitnumber                    1013f91                 a06b618   \n",
       "conc                                  -                 3.2e-07   \n",
       "dv                                    -                   0.001   \n",
       "klin                                  -                2.22e-20   \n",
       "molecule               {'n2o': 3.2e-07}                     n2o   \n",
       "ng_adju                               -                  [0, 0]   \n",
       "ng_refs                               -                  [1, 2]   \n",
       "nv                                    -                    1000   \n",
       "option_compute_btable                 -                       0   \n",
       "option_compute_ktable                 -                       1   \n",
       "option_wgt_flux                       -                       1   \n",
       "option_wgt_k                          -                       1   \n",
       "ref_pts                               -  [[1, 250], [500, 250]]   \n",
       "tsfc                                294                     294   \n",
       "vmax                                  -                     620   \n",
       "vmin                                  -                     540   \n",
       "w_diffuse                             -    [[1.8], [1.66, 1.8]]   \n",
       "wgt                                   -    [[0.9], [0.5, 0.95]]   \n",
       "\n",
       "                                                  \n",
       "                                       band7 n2o  \n",
       "atmpro                                       mls  \n",
       "band                                           7  \n",
       "commitnumber                             a06b618  \n",
       "conc                                     3.2e-07  \n",
       "dv                                         0.001  \n",
       "klin                                    2.22e-20  \n",
       "molecule                                     n2o  \n",
       "ng_adju                                   [0, 0]  \n",
       "ng_refs                                   [2, 2]  \n",
       "nv                                          1000  \n",
       "option_compute_btable                          0  \n",
       "option_compute_ktable                          1  \n",
       "option_wgt_flux                                1  \n",
       "option_wgt_k                                   1  \n",
       "ref_pts                   [[1, 250], [500, 250]]  \n",
       "tsfc                                         294  \n",
       "vmax                                        1380  \n",
       "vmin                                        1215  \n",
       "w_diffuse              [[1.8, 1.66], [1.6, 1.8]]  \n",
       "wgt                     [[0.6, 0.5], [0.6, 0.9]]  "
      ]
     },
     "metadata": {},
     "output_type": "display_data"
    },
    {
     "data": {
      "text/html": [
       "<a id=\"Cooling_rates._mls.\"></a>"
      ],
      "text/plain": [
       "<IPython.core.display.HTML object>"
      ]
     },
     "metadata": {},
     "output_type": "display_data"
    },
    {
     "data": {
      "text/markdown": [
       "# Cooling rates. mls."
      ],
      "text/plain": [
       "<IPython.core.display.Markdown object>"
      ]
     },
     "metadata": {},
     "output_type": "display_data"
    },
    {
     "data": {
      "text/html": [
       "\n",
       "<div class=\"bk-root\">\n",
       "    <div class=\"bk-plotdiv\" id=\"49456a7c-5812-48c2-b58b-28e73ea1f799\"></div>\n",
       "</div>"
      ]
     },
     "metadata": {},
     "output_type": "display_data"
    },
    {
     "data": {
      "application/javascript": [
       "(function(root) {\n",
       "  function embed_document(root) {\n",
       "    \n",
       "  var docs_json = {\"09190b41-c544-402b-8ec6-1a59d6cf423b\":{\"roots\":{\"references\":[{\"attributes\":{\"data_source\":{\"id\":\"7780e73c-75a0-4c5f-8bf9-8f5dcf7c2f34\",\"type\":\"ColumnDataSource\"},\"glyph\":{\"id\":\"8a187155-92f5-4567-9fc2-7f982071a705\",\"type\":\"Line\"},\"hover_glyph\":null,\"muted_glyph\":null,\"nonselection_glyph\":{\"id\":\"a5f151a3-2771-4016-82b8-bd0e0f863d5e\",\"type\":\"Line\"},\"selection_glyph\":null,\"view\":{\"id\":\"66ed0aa7-c947-415e-8c20-17733537d6be\",\"type\":\"CDSView\"}},\"id\":\"c26e5231-08cc-4a5c-98d0-00f8005838f0\",\"type\":\"GlyphRenderer\"},{\"attributes\":{},\"id\":\"a205aa90-e48a-4191-85d3-e94a2ea9e19b\",\"type\":\"SaveTool\"},{\"attributes\":{},\"id\":\"011bc791-3974-4677-9cd7-3997b1f5b098\",\"type\":\"LinearScale\"},{\"attributes\":{\"line_color\":\"#4daf4a\",\"line_width\":1.5,\"x\":{\"field\":\"x\"},\"y\":{\"field\":\"y\"}},\"id\":\"c4ef41e2-8b21-46e2-97ec-cd43f206fc01\",\"type\":\"Line\"},{\"attributes\":{},\"id\":\"af17017c-e283-4135-9aeb-e13fc927759c\",\"type\":\"PanTool\"},{\"attributes\":{},\"id\":\"780913f2-2ac4-412a-ad79-4611ad98f5e8\",\"type\":\"LinearScale\"},{\"attributes\":{\"line_alpha\":0.1,\"line_color\":\"#1f77b4\",\"line_dash\":[6],\"line_width\":5,\"x\":{\"field\":\"x\"},\"y\":{\"field\":\"y\"}},\"id\":\"43922e82-b78c-4c12-a0cf-1d2f4fdc863f\",\"type\":\"Line\"},{\"attributes\":{},\"id\":\"5d77d3ee-7cd1-46a4-8057-8c163c65eb76\",\"type\":\"UnionRenderers\"},{\"attributes\":{\"callback\":null,\"end\":0.0286131488345636,\"start\":-0.01092934561420361},\"id\":\"adb94591-7654-44b7-8c07-a16e89fb6e80\",\"type\":\"Range1d\"},{\"attributes\":{},\"id\":\"7050f42d-337a-4cb4-8da8-c9ea166ed0dd\",\"type\":\"HelpTool\"},{\"attributes\":{},\"id\":\"74652036-5db3-49e0-a012-b19d97da224f\",\"type\":\"WheelZoomTool\"},{\"attributes\":{\"line_alpha\":0.1,\"line_color\":\"#1f77b4\",\"line_width\":1.5,\"x\":{\"field\":\"x\"},\"y\":{\"field\":\"y\"}},\"id\":\"8aae7f5b-5eba-41bf-9414-6c2018637eae\",\"type\":\"Line\"},{\"attributes\":{\"overlay\":{\"id\":\"51d094a4-ee18-4c16-985c-ca0804ce58be\",\"type\":\"BoxAnnotation\"}},\"id\":\"9fffabea-e21d-4d46-9d56-4c90bb12022d\",\"type\":\"BoxZoomTool\"},{\"attributes\":{},\"id\":\"2f0e3f00-e803-46c0-ba2f-27da76efdef1\",\"type\":\"Selection\"},{\"attributes\":{},\"id\":\"d3f7552b-e86d-4e19-8154-5492c4f9ba64\",\"type\":\"ResetTool\"},{\"attributes\":{},\"id\":\"82cd2aae-9b12-476e-8a14-b853f48e881c\",\"type\":\"Selection\"},{\"attributes\":{\"items\":[{\"id\":\"7709caaf-637e-4690-aa07-d8d49bb91bfb\",\"type\":\"LegendItem\"},{\"id\":\"7d515c8b-7e1f-40c5-9e4d-a5228acb68b6\",\"type\":\"LegendItem\"}],\"label_text_font_size\":{\"value\":\"8pt\"},\"location\":\"top_center\",\"orientation\":\"horizontal\",\"plot\":{\"id\":\"27ff26d1-e3be-47e3-9c54-56d6fe1b65c0\",\"subtype\":\"Figure\",\"type\":\"Plot\"}},\"id\":\"adbe6e05-6f48-4867-a8d9-1288d666ccbb\",\"type\":\"Legend\"},{\"attributes\":{\"data_source\":{\"id\":\"a32dd7d0-18c2-4050-8561-ee1cf9b6b796\",\"type\":\"ColumnDataSource\"},\"glyph\":{\"id\":\"c4ef41e2-8b21-46e2-97ec-cd43f206fc01\",\"type\":\"Line\"},\"hover_glyph\":null,\"muted_glyph\":null,\"nonselection_glyph\":{\"id\":\"8aae7f5b-5eba-41bf-9414-6c2018637eae\",\"type\":\"Line\"},\"selection_glyph\":null,\"view\":{\"id\":\"2790f120-f6d5-4a4c-b7da-50f6c447b7f6\",\"type\":\"CDSView\"}},\"id\":\"6c9862ec-f182-4ef4-b77d-5ff297f9a85c\",\"type\":\"GlyphRenderer\"},{\"attributes\":{\"callback\":null,\"data\":{\"x\":{\"__ndarray__\":\"mYkv/Vuvor+/pJgIrHqivxt/oyZIBaK/NBMpnXSHob9n6GHpSgihv8xvGz05iqC/VQmiqCoQoL84X0LGhS2fv/oPnCq9RZ6/rh7PjLtpnb9K0XK7w6Wcv1rW9xJ+AJy/EEZAO/6Jm79lkNahPD6bv53Ob32rypi/F0piNCtLj7/GoFpx1cYlv98iVFkyRZI/+JlLZOPdoz/XaogPkyuwP8Te5s/uarc/yjgIKgrjvz9WvpiCfajDP2hnpe7HScM/31CLumGkvj+63Hf7Gaa2P/PrN8/kY7A/GHhmcSPGpz8kwGZgyrmhPxOwLSVKAJs/KE9f08TOkz/uJ/nDEu2JP/Zg6AwWSH0/jbKIY/2VZD+BjaUvjzNov2NvF79XT4O/fx6c8M+jjr+YWJL79deTvw8GDBFJ3pi/nNIu9hp1nb/ykrYJtrKev+Sppbf3kZy/lJzRkSjSmb8dijtMpguXv4XmJqnNMZS/xQoHtYs6kb8P9ROG/0KMv/wYYUBHzIW/MQnPVgQrfr9mv1uGT1Vwv+jrK0pgW0K/CiVKZ/d8Zz+FElihZKt5P64aMfUBw4M/4aw/i/24ij+0ED24eOSQP92sH1cff5Q/opKfEAQwmD/cWTiCj/mbPwwtX6SG3Z8/0lqZGTPuoT+KTFTgU/yjP8BcPgSJGqY/1DdaRxtJqD/ToIdXmIaqP74/cnb0zKw/MbBpFfALrz9VwGMLfJOwP3Dr2FZwgbE/pvVPIWtOsj+mrCeJpAazP0DBPlhAubM/PUzSZ81wtD8gjnGb3zO1PwyQiqqMCLY/\",\"dtype\":\"float64\",\"shape\":[75]},\"y\":{\"__ndarray__\":\"GhExyth1ND/Sv8nbtpRIP2vylNV0PVE/aTum7souWD/At0SJ8fVgPw3Iuahxymc/MSNhhJWvcD/bTfBN02d3P2zb5nxnaoA/CD5h5MAGhz8NmeH1TyaQP+zrCsc9p5Y/LbKd76fGnz/bLW5ISEmmPww9YvTcQq8/JV2OstnstT8Er5Y7M8G+P0c+r3jqkcU/5h99k6ZBzj88bCIzFzjVP4enV8oyxN0//yH99nXg5D8qOpLLf0jtP5kqGJXUifQ/c9cS8kHP/D+/DpwzojQEQIEmwoanVwxA4lgXt9HgE0BSSZ2AJuIbQAMJih9jjiNA5q4l5INuK0AwTKYKRj0zQNv5fmq8/DpAaCJseHrtQkB/+zpwzoxKQM3MzMzMeFJAZmZmZmZqWEAAAAAAAFxeQM3MzMzMJmJAmpmZmZkfZUBmZmZmZhhoQDMzMzMzEWtAAAAAAAAKbkBmZmZmZoFwQM3MzMzM/XFAMzMzMzN6c0CamZmZmfZ0QAAAAAAAc3ZAZmZmZmbvd0DNzMzMzGt5QDMzMzMz6HpAmpmZmZlkfEAAAAAAAOF9QGZmZmZmXX9AZmZmZuZsgECamZmZGSuBQM3MzMxM6YFAAAAAAICngkAzMzMzs2WDQGZmZmbmI4RAmpmZmRnihEDNzMzMTKCFQAAAAACAXoZAMzMzM7Mch0BmZmZm5tqHQJqZmZkZmYhAzczMzExXiUAAAAAAgBWKQDMzMzOz04pAZmZmZuaRi0CamZmZGVCMQM3MzMxMDo1AAAAAAIDMjUAzMzMzs4qOQGZmZmbmSI9A\",\"dtype\":\"float64\",\"shape\":[75]}},\"selected\":{\"id\":\"dd76b52b-81dd-4025-99dd-71290c0ca515\",\"type\":\"Selection\"},\"selection_policy\":{\"id\":\"5d77d3ee-7cd1-46a4-8057-8c163c65eb76\",\"type\":\"UnionRenderers\"}},\"id\":\"2bb4291a-95b2-4196-8269-04258321c435\",\"type\":\"ColumnDataSource\"},{\"attributes\":{\"bottom_units\":\"screen\",\"fill_alpha\":{\"value\":0.5},\"fill_color\":{\"value\":\"lightgrey\"},\"left_units\":\"screen\",\"level\":\"overlay\",\"line_alpha\":{\"value\":1.0},\"line_color\":{\"value\":\"black\"},\"line_dash\":[4,4],\"line_width\":{\"value\":2},\"plot\":null,\"render_mode\":\"css\",\"right_units\":\"screen\",\"top_units\":\"screen\"},\"id\":\"51d094a4-ee18-4c16-985c-ca0804ce58be\",\"type\":\"BoxAnnotation\"},{\"attributes\":{\"line_alpha\":0.1,\"line_color\":\"#1f77b4\",\"line_width\":1.5,\"x\":{\"field\":\"x\"},\"y\":{\"field\":\"y\"}},\"id\":\"d05557cf-c420-47a7-8e49-36e5e7454ad9\",\"type\":\"Line\"},{\"attributes\":{\"above\":[{\"id\":\"9ef2220b-6c2a-4e31-b428-06aa02f9900b\",\"type\":\"Legend\"}],\"below\":[{\"id\":\"d9f7de82-e905-4f59-b1be-4a0972fa3d35\",\"type\":\"LinearAxis\"}],\"left\":[{\"id\":\"88b8e3ab-8fee-4914-be18-364af6b4d1ae\",\"type\":\"LogAxis\"}],\"plot_width\":300,\"renderers\":[{\"id\":\"d9f7de82-e905-4f59-b1be-4a0972fa3d35\",\"type\":\"LinearAxis\"},{\"id\":\"fea30249-ac72-42b8-b62b-06c3351dbc35\",\"type\":\"Grid\"},{\"id\":\"88b8e3ab-8fee-4914-be18-364af6b4d1ae\",\"type\":\"LogAxis\"},{\"id\":\"bf3e03c8-5ad7-42c9-ae5e-96421e6d9aff\",\"type\":\"Grid\"},{\"id\":\"eea82cb5-9065-4f1a-aef3-d5c1e9b1fb2d\",\"type\":\"BoxAnnotation\"},{\"id\":\"b50e8662-0126-4fc3-9382-40d1176417d2\",\"type\":\"GlyphRenderer\"},{\"id\":\"dfe3df96-0087-41cc-8d47-bd6c84ca0956\",\"type\":\"GlyphRenderer\"},{\"id\":\"9ef2220b-6c2a-4e31-b428-06aa02f9900b\",\"type\":\"Legend\"}],\"title\":{\"id\":\"253f4c63-076f-4330-85b3-b1d9c6968f4a\",\"type\":\"Title\"},\"toolbar\":{\"id\":\"78d322d9-1157-4b9a-9aca-45398858f5d5\",\"type\":\"Toolbar\"},\"toolbar_location\":null,\"x_range\":{\"id\":\"adb94591-7654-44b7-8c07-a16e89fb6e80\",\"type\":\"Range1d\"},\"x_scale\":{\"id\":\"780913f2-2ac4-412a-ad79-4611ad98f5e8\",\"type\":\"LinearScale\"},\"y_range\":{\"id\":\"17eb1252-9d6a-4ebd-8745-f7660a4ebd55\",\"type\":\"Range1d\"},\"y_scale\":{\"id\":\"75ac6fd7-722d-40f3-8b83-6791fb4092fb\",\"type\":\"LogScale\"}},\"id\":\"54c09a79-97ea-4f66-8be8-75cce30be925\",\"subtype\":\"Figure\",\"type\":\"Plot\"},{\"attributes\":{\"fill_alpha\":{\"value\":0.7},\"fill_color\":{\"value\":\"#4daf4a\"},\"line_alpha\":{\"value\":0.7},\"line_color\":{\"value\":\"#4daf4a\"},\"x\":{\"field\":\"x\"},\"y\":{\"field\":\"y\"}},\"id\":\"60337518-c366-477a-86d3-5e4484718f7c\",\"type\":\"Circle\"},{\"attributes\":{},\"id\":\"4a64ed37-f579-492c-a8cb-b5518990e71a\",\"type\":\"BasicTicker\"},{\"attributes\":{\"axis_label\":\"pressure [mb]\",\"formatter\":{\"id\":\"790afdea-7971-4e76-a44a-52881cd18b71\",\"type\":\"BasicTickFormatter\"},\"plot\":{\"id\":\"27ff26d1-e3be-47e3-9c54-56d6fe1b65c0\",\"subtype\":\"Figure\",\"type\":\"Plot\"},\"ticker\":{\"id\":\"326fd87d-c505-4305-83cd-8cbd87e466d4\",\"type\":\"BasicTicker\"}},\"id\":\"76f45d8c-cd1e-45c0-9b8f-ea0e70c33167\",\"type\":\"LinearAxis\"},{\"attributes\":{},\"id\":\"0b622282-ab9a-4a89-931c-1258f67bd125\",\"type\":\"SaveTool\"},{\"attributes\":{\"fill_alpha\":{\"value\":0.1},\"fill_color\":{\"value\":\"#1f77b4\"},\"line_alpha\":{\"value\":0.1},\"line_color\":{\"value\":\"#1f77b4\"},\"x\":{\"field\":\"x\"},\"y\":{\"field\":\"y\"}},\"id\":\"0ad03529-bb41-4c83-a1b6-d2cb452c539b\",\"type\":\"Circle\"},{\"attributes\":{},\"id\":\"dd76b52b-81dd-4025-99dd-71290c0ca515\",\"type\":\"Selection\"},{\"attributes\":{},\"id\":\"973a8fe9-388c-4bce-b6c0-fe123648daaf\",\"type\":\"ResetTool\"},{\"attributes\":{\"above\":[{\"id\":\"2dcbf7ca-2d22-4ad4-b67a-b8293dcfa9be\",\"type\":\"Legend\"}],\"below\":[{\"id\":\"6a366fd1-6e81-4ce9-9778-ca5cb3b05776\",\"type\":\"LinearAxis\"}],\"left\":[{\"id\":\"c957321b-9978-42ed-8a0a-3376252a233f\",\"type\":\"LogAxis\"}],\"plot_width\":300,\"renderers\":[{\"id\":\"6a366fd1-6e81-4ce9-9778-ca5cb3b05776\",\"type\":\"LinearAxis\"},{\"id\":\"786e30a9-7472-45a9-a92a-ead76d40cd4a\",\"type\":\"Grid\"},{\"id\":\"c957321b-9978-42ed-8a0a-3376252a233f\",\"type\":\"LogAxis\"},{\"id\":\"1e565660-0f43-49ed-bfba-6697ce8f8c9a\",\"type\":\"Grid\"},{\"id\":\"f904966a-1b2f-4aec-9392-f1dcfcc63d47\",\"type\":\"BoxAnnotation\"},{\"id\":\"c26e5231-08cc-4a5c-98d0-00f8005838f0\",\"type\":\"GlyphRenderer\"},{\"id\":\"fef16a6d-ed38-4eb1-bea1-3e4abb1f22ec\",\"type\":\"GlyphRenderer\"},{\"id\":\"6c9862ec-f182-4ef4-b77d-5ff297f9a85c\",\"type\":\"GlyphRenderer\"},{\"id\":\"2dcbf7ca-2d22-4ad4-b67a-b8293dcfa9be\",\"type\":\"Legend\"}],\"title\":{\"id\":\"29bb0f1f-09cd-46ab-b08d-3955342b17b5\",\"type\":\"Title\"},\"toolbar\":{\"id\":\"fd0e468e-8342-483e-88eb-1e5447f8cc6b\",\"type\":\"Toolbar\"},\"toolbar_location\":null,\"x_range\":{\"id\":\"62ccd55a-0c9c-468c-952b-127053f4083a\",\"type\":\"Range1d\"},\"x_scale\":{\"id\":\"159c6483-a639-495d-9cd4-a0090058a40a\",\"type\":\"LinearScale\"},\"y_range\":{\"id\":\"81a694f9-a2ce-4bbd-b3c5-75f438cc1a9e\",\"type\":\"Range1d\"},\"y_scale\":{\"id\":\"c64abd67-c331-4c29-be6d-691c4647ce86\",\"type\":\"LogScale\"}},\"id\":\"84185aee-799c-412c-a470-876ec8a1b00d\",\"subtype\":\"Figure\",\"type\":\"Plot\"},{\"attributes\":{},\"id\":\"37041d1e-eb1e-44c6-b8c8-806ace0ef144\",\"type\":\"HelpTool\"},{\"attributes\":{},\"id\":\"91058efd-432a-4583-84dd-526ea1b976c6\",\"type\":\"LinearScale\"},{\"attributes\":{\"callback\":null,\"end\":0.01,\"start\":1020},\"id\":\"920fba3b-0dca-493f-abab-85cce97968d5\",\"type\":\"Range1d\"},{\"attributes\":{\"line_alpha\":0.1,\"line_color\":\"#1f77b4\",\"line_width\":1.5,\"x\":{\"field\":\"x\"},\"y\":{\"field\":\"y\"}},\"id\":\"0de8c122-c4d0-4e0e-82cf-98c87a49b2ed\",\"type\":\"Line\"},{\"attributes\":{\"fill_alpha\":{\"value\":0.1},\"fill_color\":{\"value\":\"#1f77b4\"},\"line_alpha\":{\"value\":0.1},\"line_color\":{\"value\":\"#1f77b4\"},\"x\":{\"field\":\"x\"},\"y\":{\"field\":\"y\"}},\"id\":\"df987c07-02d3-4be4-96e0-523692419ce9\",\"type\":\"Circle\"},{\"attributes\":{},\"id\":\"413db487-520e-4fce-960e-d8083cd7bb79\",\"type\":\"UnionRenderers\"},{\"attributes\":{\"source\":{\"id\":\"4cc60f68-899e-476e-a5a2-0ddab33c867f\",\"type\":\"ColumnDataSource\"}},\"id\":\"64fd3b6f-275d-49e5-8944-423ca5d58b92\",\"type\":\"CDSView\"},{\"attributes\":{\"callback\":null,\"data\":{\"x\":{\"__ndarray__\":\"mYkv/Vuvor+/pJgIrHqivxt/oyZIBaK/NBMpnXSHob9n6GHpSgihv8xvGz05iqC/VQmiqCoQoL84X0LGhS2fv/oPnCq9RZ6/rh7PjLtpnb9K0XK7w6Wcv1rW9xJ+AJy/EEZAO/6Jm79lkNahPD6bv53Ob32rypi/F0piNCtLj7/GoFpx1cYlv98iVFkyRZI/+JlLZOPdoz/XaogPkyuwP8Te5s/uarc/yjgIKgrjvz9WvpiCfajDP2hnpe7HScM/31CLumGkvj+63Hf7Gaa2P/PrN8/kY7A/GHhmcSPGpz8kwGZgyrmhPxOwLSVKAJs/KE9f08TOkz/uJ/nDEu2JP/Zg6AwWSH0/jbKIY/2VZD+BjaUvjzNov2NvF79XT4O/fx6c8M+jjr+YWJL79deTvw8GDBFJ3pi/nNIu9hp1nb/ykrYJtrKev+Sppbf3kZy/lJzRkSjSmb8dijtMpguXv4XmJqnNMZS/xQoHtYs6kb8P9ROG/0KMv/wYYUBHzIW/MQnPVgQrfr9mv1uGT1Vwv+jrK0pgW0K/CiVKZ/d8Zz+FElihZKt5P64aMfUBw4M/4aw/i/24ij+0ED24eOSQP92sH1cff5Q/opKfEAQwmD/cWTiCj/mbPwwtX6SG3Z8/0lqZGTPuoT+KTFTgU/yjP8BcPgSJGqY/1DdaRxtJqD/ToIdXmIaqP74/cnb0zKw/MbBpFfALrz9VwGMLfJOwP3Dr2FZwgbE/pvVPIWtOsj+mrCeJpAazP0DBPlhAubM/PUzSZ81wtD8gjnGb3zO1PwyQiqqMCLY/\",\"dtype\":\"float64\",\"shape\":[75]},\"y\":{\"__ndarray__\":\"GhExyth1ND/Sv8nbtpRIP2vylNV0PVE/aTum7souWD/At0SJ8fVgPw3Iuahxymc/MSNhhJWvcD/bTfBN02d3P2zb5nxnaoA/CD5h5MAGhz8NmeH1TyaQP+zrCsc9p5Y/LbKd76fGnz/bLW5ISEmmPww9YvTcQq8/JV2OstnstT8Er5Y7M8G+P0c+r3jqkcU/5h99k6ZBzj88bCIzFzjVP4enV8oyxN0//yH99nXg5D8qOpLLf0jtP5kqGJXUifQ/c9cS8kHP/D+/DpwzojQEQIEmwoanVwxA4lgXt9HgE0BSSZ2AJuIbQAMJih9jjiNA5q4l5INuK0AwTKYKRj0zQNv5fmq8/DpAaCJseHrtQkB/+zpwzoxKQM3MzMzMeFJAZmZmZmZqWEAAAAAAAFxeQM3MzMzMJmJAmpmZmZkfZUBmZmZmZhhoQDMzMzMzEWtAAAAAAAAKbkBmZmZmZoFwQM3MzMzM/XFAMzMzMzN6c0CamZmZmfZ0QAAAAAAAc3ZAZmZmZmbvd0DNzMzMzGt5QDMzMzMz6HpAmpmZmZlkfEAAAAAAAOF9QGZmZmZmXX9AZmZmZuZsgECamZmZGSuBQM3MzMxM6YFAAAAAAICngkAzMzMzs2WDQGZmZmbmI4RAmpmZmRnihEDNzMzMTKCFQAAAAACAXoZAMzMzM7Mch0BmZmZm5tqHQJqZmZkZmYhAzczMzExXiUAAAAAAgBWKQDMzMzOz04pAZmZmZuaRi0CamZmZGVCMQM3MzMxMDo1AAAAAAIDMjUAzMzMzs4qOQGZmZmbmSI9A\",\"dtype\":\"float64\",\"shape\":[75]}},\"selected\":{\"id\":\"ef8418e2-194c-4faa-996b-c72df1490d0b\",\"type\":\"Selection\"},\"selection_policy\":{\"id\":\"00302b22-ad96-4bda-a11d-e5f47f7177e8\",\"type\":\"UnionRenderers\"}},\"id\":\"38bd6e8b-4712-4f85-a6fc-3ae50289fb6e\",\"type\":\"ColumnDataSource\"},{\"attributes\":{\"fill_alpha\":{\"value\":0.7},\"fill_color\":{\"value\":\"#984ea3\"},\"line_alpha\":{\"value\":0.7},\"line_color\":{\"value\":\"#984ea3\"},\"x\":{\"field\":\"x\"},\"y\":{\"field\":\"y\"}},\"id\":\"209972f6-10fa-459d-b6fb-4d2c2741cbd7\",\"type\":\"Circle\"},{\"attributes\":{},\"id\":\"e465dd08-7cc3-4e7e-ac5f-5e7b1a17b8fb\",\"type\":\"UnionRenderers\"},{\"attributes\":{\"active_drag\":\"auto\",\"active_inspect\":\"auto\",\"active_scroll\":\"auto\",\"active_tap\":\"auto\",\"tools\":[{\"id\":\"af17017c-e283-4135-9aeb-e13fc927759c\",\"type\":\"PanTool\"},{\"id\":\"74652036-5db3-49e0-a012-b19d97da224f\",\"type\":\"WheelZoomTool\"},{\"id\":\"9fffabea-e21d-4d46-9d56-4c90bb12022d\",\"type\":\"BoxZoomTool\"},{\"id\":\"a205aa90-e48a-4191-85d3-e94a2ea9e19b\",\"type\":\"SaveTool\"},{\"id\":\"d3f7552b-e86d-4e19-8154-5492c4f9ba64\",\"type\":\"ResetTool\"},{\"id\":\"7050f42d-337a-4cb4-8da8-c9ea166ed0dd\",\"type\":\"HelpTool\"}]},\"id\":\"6da94c13-a638-4c5e-9ddd-c19735ddd630\",\"type\":\"Toolbar\"},{\"attributes\":{\"items\":[{\"id\":\"57bae2b6-acda-4c3f-9e80-9765d00b21f5\",\"type\":\"LegendItem\"}],\"label_text_font_size\":{\"value\":\"8pt\"},\"location\":\"top_center\",\"orientation\":\"horizontal\",\"plot\":{\"id\":\"54c09a79-97ea-4f66-8be8-75cce30be925\",\"subtype\":\"Figure\",\"type\":\"Plot\"}},\"id\":\"9ef2220b-6c2a-4e31-b428-06aa02f9900b\",\"type\":\"Legend\"},{\"attributes\":{},\"id\":\"6db46151-64f0-4100-90e4-dd7d8d2bf8bf\",\"type\":\"Selection\"},{\"attributes\":{\"source\":{\"id\":\"58aaaed0-e03e-43b1-a64a-64c14be1dc59\",\"type\":\"ColumnDataSource\"}},\"id\":\"07e12cc5-1889-463f-b6fa-4e2b85b75ed1\",\"type\":\"CDSView\"},{\"attributes\":{\"active_drag\":\"auto\",\"active_inspect\":\"auto\",\"active_scroll\":\"auto\",\"active_tap\":\"auto\",\"tools\":[{\"id\":\"9c3445b9-3136-45d8-a75c-4454be66eb3d\",\"type\":\"PanTool\"},{\"id\":\"bc9e8425-ac78-4342-a23c-e0637cea5f22\",\"type\":\"WheelZoomTool\"},{\"id\":\"8e2bce8d-1dd7-434e-8504-9b28a9a0e565\",\"type\":\"BoxZoomTool\"},{\"id\":\"0b622282-ab9a-4a89-931c-1258f67bd125\",\"type\":\"SaveTool\"},{\"id\":\"973a8fe9-388c-4bce-b6c0-fe123648daaf\",\"type\":\"ResetTool\"},{\"id\":\"37041d1e-eb1e-44c6-b8c8-806ace0ef144\",\"type\":\"HelpTool\"}]},\"id\":\"78d322d9-1157-4b9a-9aca-45398858f5d5\",\"type\":\"Toolbar\"},{\"attributes\":{\"data_source\":{\"id\":\"2bb4291a-95b2-4196-8269-04258321c435\",\"type\":\"ColumnDataSource\"},\"glyph\":{\"id\":\"2006bb9f-918f-4f54-8190-2369c9fef07f\",\"type\":\"Circle\"},\"hover_glyph\":null,\"muted_glyph\":null,\"nonselection_glyph\":{\"id\":\"3c676f1e-9a94-4f34-ba3f-9495721c397b\",\"type\":\"Circle\"},\"selection_glyph\":null,\"view\":{\"id\":\"95e70791-89ca-4116-bcf6-551592073353\",\"type\":\"CDSView\"}},\"id\":\"fef16a6d-ed38-4eb1-bea1-3e4abb1f22ec\",\"type\":\"GlyphRenderer\"},{\"attributes\":{},\"id\":\"0b07c399-1104-4bc5-af08-fb48165c5d20\",\"type\":\"BasicTickFormatter\"},{\"attributes\":{\"dimension\":1,\"plot\":{\"id\":\"27ff26d1-e3be-47e3-9c54-56d6fe1b65c0\",\"subtype\":\"Figure\",\"type\":\"Plot\"},\"ticker\":{\"id\":\"326fd87d-c505-4305-83cd-8cbd87e466d4\",\"type\":\"BasicTicker\"}},\"id\":\"72ecf4f7-427d-4e71-b3c7-c9dde45e2a0e\",\"type\":\"Grid\"},{\"attributes\":{},\"id\":\"75ac6fd7-722d-40f3-8b83-6791fb4092fb\",\"type\":\"LogScale\"},{\"attributes\":{\"above\":[{\"id\":\"adbe6e05-6f48-4867-a8d9-1288d666ccbb\",\"type\":\"Legend\"}],\"below\":[{\"id\":\"18632766-fcb4-4fde-918c-377f35627b9b\",\"type\":\"LinearAxis\"}],\"left\":[{\"id\":\"76f45d8c-cd1e-45c0-9b8f-ea0e70c33167\",\"type\":\"LinearAxis\"}],\"plot_width\":300,\"renderers\":[{\"id\":\"18632766-fcb4-4fde-918c-377f35627b9b\",\"type\":\"LinearAxis\"},{\"id\":\"1eff842d-84ad-40da-b83f-69b488fa2a96\",\"type\":\"Grid\"},{\"id\":\"76f45d8c-cd1e-45c0-9b8f-ea0e70c33167\",\"type\":\"LinearAxis\"},{\"id\":\"72ecf4f7-427d-4e71-b3c7-c9dde45e2a0e\",\"type\":\"Grid\"},{\"id\":\"51d094a4-ee18-4c16-985c-ca0804ce58be\",\"type\":\"BoxAnnotation\"},{\"id\":\"004f7890-ab94-42cf-91da-df7967e25b0b\",\"type\":\"GlyphRenderer\"},{\"id\":\"aeeb3c88-4370-4a41-ab6c-ef075d0ad02e\",\"type\":\"GlyphRenderer\"},{\"id\":\"72e0dcbc-6272-4abb-baac-9769c1faeb40\",\"type\":\"GlyphRenderer\"},{\"id\":\"adbe6e05-6f48-4867-a8d9-1288d666ccbb\",\"type\":\"Legend\"}],\"title\":{\"id\":\"f60529f3-96b1-4901-b211-e89d94c66ec2\",\"type\":\"Title\"},\"toolbar\":{\"id\":\"6da94c13-a638-4c5e-9ddd-c19735ddd630\",\"type\":\"Toolbar\"},\"toolbar_location\":null,\"x_range\":{\"id\":\"d0d461f6-2d7a-4823-ac26-51acbbe6f020\",\"type\":\"Range1d\"},\"x_scale\":{\"id\":\"011bc791-3974-4677-9cd7-3997b1f5b098\",\"type\":\"LinearScale\"},\"y_range\":{\"id\":\"920fba3b-0dca-493f-abab-85cce97968d5\",\"type\":\"Range1d\"},\"y_scale\":{\"id\":\"91058efd-432a-4583-84dd-526ea1b976c6\",\"type\":\"LinearScale\"}},\"id\":\"27ff26d1-e3be-47e3-9c54-56d6fe1b65c0\",\"subtype\":\"Figure\",\"type\":\"Plot\"},{\"attributes\":{\"fill_alpha\":{\"value\":0.1},\"fill_color\":{\"value\":\"#1f77b4\"},\"line_alpha\":{\"value\":0.1},\"line_color\":{\"value\":\"#1f77b4\"},\"x\":{\"field\":\"x\"},\"y\":{\"field\":\"y\"}},\"id\":\"3c676f1e-9a94-4f34-ba3f-9495721c397b\",\"type\":\"Circle\"},{\"attributes\":{\"dimension\":1,\"plot\":{\"id\":\"54c09a79-97ea-4f66-8be8-75cce30be925\",\"subtype\":\"Figure\",\"type\":\"Plot\"},\"ticker\":{\"id\":\"b6494e73-78f6-4cec-9d1f-b0592be77fa0\",\"type\":\"LogTicker\"}},\"id\":\"bf3e03c8-5ad7-42c9-ae5e-96421e6d9aff\",\"type\":\"Grid\"},{\"attributes\":{\"plot\":{\"id\":\"54c09a79-97ea-4f66-8be8-75cce30be925\",\"subtype\":\"Figure\",\"type\":\"Plot\"},\"ticker\":{\"id\":\"8eaf9198-2431-4954-87e6-cb43412ff26f\",\"type\":\"BasicTicker\"}},\"id\":\"fea30249-ac72-42b8-b62b-06c3351dbc35\",\"type\":\"Grid\"},{\"attributes\":{\"num_minor_ticks\":10},\"id\":\"b6494e73-78f6-4cec-9d1f-b0592be77fa0\",\"type\":\"LogTicker\"},{\"attributes\":{\"axis_label\":\"cooling rate [K/day]\",\"formatter\":{\"id\":\"0b07c399-1104-4bc5-af08-fb48165c5d20\",\"type\":\"BasicTickFormatter\"},\"plot\":{\"id\":\"54c09a79-97ea-4f66-8be8-75cce30be925\",\"subtype\":\"Figure\",\"type\":\"Plot\"},\"ticker\":{\"id\":\"8eaf9198-2431-4954-87e6-cb43412ff26f\",\"type\":\"BasicTicker\"}},\"id\":\"d9f7de82-e905-4f59-b1be-4a0972fa3d35\",\"type\":\"LinearAxis\"},{\"attributes\":{\"axis_label\":\"pressure [mb]\",\"formatter\":{\"id\":\"4f862de6-6c98-49b5-9363-f108144ded5d\",\"type\":\"LogTickFormatter\"},\"plot\":{\"id\":\"54c09a79-97ea-4f66-8be8-75cce30be925\",\"subtype\":\"Figure\",\"type\":\"Plot\"},\"ticker\":{\"id\":\"b6494e73-78f6-4cec-9d1f-b0592be77fa0\",\"type\":\"LogTicker\"}},\"id\":\"88b8e3ab-8fee-4914-be18-364af6b4d1ae\",\"type\":\"LogAxis\"},{\"attributes\":{},\"id\":\"8eaf9198-2431-4954-87e6-cb43412ff26f\",\"type\":\"BasicTicker\"},{\"attributes\":{},\"id\":\"bc9e8425-ac78-4342-a23c-e0637cea5f22\",\"type\":\"WheelZoomTool\"},{\"attributes\":{\"axis_label\":\"cooling rate [K/day]\",\"formatter\":{\"id\":\"510da7f7-529a-40f0-916d-de79e37b5884\",\"type\":\"BasicTickFormatter\"},\"plot\":{\"id\":\"84185aee-799c-412c-a470-876ec8a1b00d\",\"subtype\":\"Figure\",\"type\":\"Plot\"},\"ticker\":{\"id\":\"4a64ed37-f579-492c-a8cb-b5518990e71a\",\"type\":\"BasicTicker\"}},\"id\":\"6a366fd1-6e81-4ce9-9778-ca5cb3b05776\",\"type\":\"LinearAxis\"},{\"attributes\":{},\"id\":\"c64abd67-c331-4c29-be6d-691c4647ce86\",\"type\":\"LogScale\"},{\"attributes\":{\"overlay\":{\"id\":\"eea82cb5-9065-4f1a-aef3-d5c1e9b1fb2d\",\"type\":\"BoxAnnotation\"}},\"id\":\"8e2bce8d-1dd7-434e-8504-9b28a9a0e565\",\"type\":\"BoxZoomTool\"},{\"attributes\":{\"callback\":null,\"data\":{\"x\":{\"__ndarray__\":\"mYkv/Vuvor+/pJgIrHqivxt/oyZIBaK/NBMpnXSHob9n6GHpSgihv8xvGz05iqC/VQmiqCoQoL84X0LGhS2fv/oPnCq9RZ6/rh7PjLtpnb9K0XK7w6Wcv1rW9xJ+AJy/EEZAO/6Jm79lkNahPD6bv53Ob32rypi/F0piNCtLj7/GoFpx1cYlv98iVFkyRZI/+JlLZOPdoz/XaogPkyuwP8Te5s/uarc/yjgIKgrjvz9WvpiCfajDP2hnpe7HScM/31CLumGkvj+63Hf7Gaa2P/PrN8/kY7A/GHhmcSPGpz8kwGZgyrmhPxOwLSVKAJs/KE9f08TOkz/uJ/nDEu2JP/Zg6AwWSH0/jbKIY/2VZD+BjaUvjzNov2NvF79XT4O/fx6c8M+jjr+YWJL79deTvw8GDBFJ3pi/nNIu9hp1nb/ykrYJtrKev+Sppbf3kZy/lJzRkSjSmb8dijtMpguXv4XmJqnNMZS/xQoHtYs6kb8P9ROG/0KMv/wYYUBHzIW/MQnPVgQrfr9mv1uGT1Vwv+jrK0pgW0K/CiVKZ/d8Zz+FElihZKt5P64aMfUBw4M/4aw/i/24ij+0ED24eOSQP92sH1cff5Q/opKfEAQwmD/cWTiCj/mbPwwtX6SG3Z8/0lqZGTPuoT+KTFTgU/yjP8BcPgSJGqY/1DdaRxtJqD/ToIdXmIaqP74/cnb0zKw/MbBpFfALrz9VwGMLfJOwP3Dr2FZwgbE/pvVPIWtOsj+mrCeJpAazP0DBPlhAubM/PUzSZ81wtD8gjnGb3zO1PwyQiqqMCLY/\",\"dtype\":\"float64\",\"shape\":[75]},\"y\":{\"__ndarray__\":\"GhExyth1ND/Sv8nbtpRIP2vylNV0PVE/aTum7souWD/At0SJ8fVgPw3Iuahxymc/MSNhhJWvcD/bTfBN02d3P2zb5nxnaoA/CD5h5MAGhz8NmeH1TyaQP+zrCsc9p5Y/LbKd76fGnz/bLW5ISEmmPww9YvTcQq8/JV2OstnstT8Er5Y7M8G+P0c+r3jqkcU/5h99k6ZBzj88bCIzFzjVP4enV8oyxN0//yH99nXg5D8qOpLLf0jtP5kqGJXUifQ/c9cS8kHP/D+/DpwzojQEQIEmwoanVwxA4lgXt9HgE0BSSZ2AJuIbQAMJih9jjiNA5q4l5INuK0AwTKYKRj0zQNv5fmq8/DpAaCJseHrtQkB/+zpwzoxKQM3MzMzMeFJAZmZmZmZqWEAAAAAAAFxeQM3MzMzMJmJAmpmZmZkfZUBmZmZmZhhoQDMzMzMzEWtAAAAAAAAKbkBmZmZmZoFwQM3MzMzM/XFAMzMzMzN6c0CamZmZmfZ0QAAAAAAAc3ZAZmZmZmbvd0DNzMzMzGt5QDMzMzMz6HpAmpmZmZlkfEAAAAAAAOF9QGZmZmZmXX9AZmZmZuZsgECamZmZGSuBQM3MzMxM6YFAAAAAAICngkAzMzMzs2WDQGZmZmbmI4RAmpmZmRnihEDNzMzMTKCFQAAAAACAXoZAMzMzM7Mch0BmZmZm5tqHQJqZmZkZmYhAzczMzExXiUAAAAAAgBWKQDMzMzOz04pAZmZmZuaRi0CamZmZGVCMQM3MzMxMDo1AAAAAAIDMjUAzMzMzs4qOQGZmZmbmSI9A\",\"dtype\":\"float64\",\"shape\":[75]}},\"selected\":{\"id\":\"6586e842-2284-4bc5-9f85-dcf8211e97b5\",\"type\":\"Selection\"},\"selection_policy\":{\"id\":\"e465dd08-7cc3-4e7e-ac5f-5e7b1a17b8fb\",\"type\":\"UnionRenderers\"}},\"id\":\"90e13f07-4f9a-4059-838a-dc1778a1ac50\",\"type\":\"ColumnDataSource\"},{\"attributes\":{\"callback\":null,\"data\":{\"x\":{\"__ndarray__\":\"/5AxSNAQfL+9qp6/Ffh6v77Z4jJgZHi/9bOizt+ydb9jmDDl/g1zvz1y4bvqTHC/KGeEzBAta7+UfgqLP4Zlv2AaUMGy8V+/OK8GlaljVL8g31hEE7dBvwCzEC+c4yQ/MJmFQO6eTD942OdicY5aP3zcgfoSSnA/hwFB889Jhj8yGlcu5KmWP37FGi5yT6I/Qlx23n+Rqj8xIQLo2SeyPzLpdd+/5rc/NlI6gX6Zvj/sJ9iJD0/CP7iSAcZRfsI/RrOH/Wvnvz/ReUHPXOO5P0j9rjV/P7Q/EISHECeVrj+YZoAswE6mP+a49chW/54/sC5mxPdQkz/H/vFq/LaCP5i8Ir3GfFk/AeIKPd3fcr+UOa7vUMeGvyZnoGpfvZK/tJVdCKf5mL/t3WnqMdydv7IaqFvYRKG/lerc3+Iio7+uHj7MgY6jvyv696QJl6K/Ah2Yqlwyob/GzMJ+1lOfvyHRUM9+BZy/2IiGDxmBmL8mV3y9XsWUv7iSItQ64ZC/TnIXi+Wpib9UuodK+1SBvzYmwH+evnG/gJrWWJAOKb8wX2XMoENwP0Ndo+LRn4A/tjWwef8diT/kIdtTXNeQP8jTWXmHLJU/Js+YMVyQmT/Ktl+AdQOeP7S6/TugQaE/7gfZBcWHoz/WRjrYotKlPzkDcnU/KKg/hm82XRyDqj/eaf3wnd+sPzU0hLTdPK8/DiuBOR/DsD9ndcHMttSxP0SXP/izzLI/HkZhR36lsz8Y9NanuWi0PwoZb/uDILU/3/PQMuPRtT+a/dC4r4S2Pw5+/lUpOLc/\",\"dtype\":\"float64\",\"shape\":[75]},\"y\":{\"__ndarray__\":\"GhExyth1ND/Sv8nbtpRIP2vylNV0PVE/aTum7souWD/At0SJ8fVgPw3Iuahxymc/MSNhhJWvcD/bTfBN02d3P2zb5nxnaoA/CD5h5MAGhz8NmeH1TyaQP+zrCsc9p5Y/LbKd76fGnz/bLW5ISEmmPww9YvTcQq8/JV2OstnstT8Er5Y7M8G+P0c+r3jqkcU/5h99k6ZBzj88bCIzFzjVP4enV8oyxN0//yH99nXg5D8qOpLLf0jtP5kqGJXUifQ/c9cS8kHP/D+/DpwzojQEQIEmwoanVwxA4lgXt9HgE0BSSZ2AJuIbQAMJih9jjiNA5q4l5INuK0AwTKYKRj0zQNv5fmq8/DpAaCJseHrtQkB/+zpwzoxKQM3MzMzMeFJAZmZmZmZqWEAAAAAAAFxeQM3MzMzMJmJAmpmZmZkfZUBmZmZmZhhoQDMzMzMzEWtAAAAAAAAKbkBmZmZmZoFwQM3MzMzM/XFAMzMzMzN6c0CamZmZmfZ0QAAAAAAAc3ZAZmZmZmbvd0DNzMzMzGt5QDMzMzMz6HpAmpmZmZlkfEAAAAAAAOF9QGZmZmZmXX9AZmZmZuZsgECamZmZGSuBQM3MzMxM6YFAAAAAAICngkAzMzMzs2WDQGZmZmbmI4RAmpmZmRnihEDNzMzMTKCFQAAAAACAXoZAMzMzM7Mch0BmZmZm5tqHQJqZmZkZmYhAzczMzExXiUAAAAAAgBWKQDMzMzOz04pAZmZmZuaRi0CamZmZGVCMQM3MzMxMDo1AAAAAAIDMjUAzMzMzs4qOQGZmZmbmSI9A\",\"dtype\":\"float64\",\"shape\":[75]}},\"selected\":{\"id\":\"82cd2aae-9b12-476e-8a14-b853f48e881c\",\"type\":\"Selection\"},\"selection_policy\":{\"id\":\"489209b6-c471-41a3-ac60-605ec116bd21\",\"type\":\"UnionRenderers\"}},\"id\":\"7780e73c-75a0-4c5f-8bf9-8f5dcf7c2f34\",\"type\":\"ColumnDataSource\"},{\"attributes\":{\"fill_alpha\":{\"value\":0.7},\"fill_color\":{\"value\":\"#4daf4a\"},\"line_alpha\":{\"value\":0.7},\"line_color\":{\"value\":\"#4daf4a\"},\"x\":{\"field\":\"x\"},\"y\":{\"field\":\"y\"}},\"id\":\"2006bb9f-918f-4f54-8190-2369c9fef07f\",\"type\":\"Circle\"},{\"attributes\":{\"bottom_units\":\"screen\",\"fill_alpha\":{\"value\":0.5},\"fill_color\":{\"value\":\"lightgrey\"},\"left_units\":\"screen\",\"level\":\"overlay\",\"line_alpha\":{\"value\":1.0},\"line_color\":{\"value\":\"black\"},\"line_dash\":[4,4],\"line_width\":{\"value\":2},\"plot\":null,\"render_mode\":\"css\",\"right_units\":\"screen\",\"top_units\":\"screen\"},\"id\":\"eea82cb5-9065-4f1a-aef3-d5c1e9b1fb2d\",\"type\":\"BoxAnnotation\"},{\"attributes\":{\"source\":{\"id\":\"7780e73c-75a0-4c5f-8bf9-8f5dcf7c2f34\",\"type\":\"ColumnDataSource\"}},\"id\":\"66ed0aa7-c947-415e-8c20-17733537d6be\",\"type\":\"CDSView\"},{\"attributes\":{},\"id\":\"9c3445b9-3136-45d8-a75c-4454be66eb3d\",\"type\":\"PanTool\"},{\"attributes\":{\"plot\":{\"id\":\"84185aee-799c-412c-a470-876ec8a1b00d\",\"subtype\":\"Figure\",\"type\":\"Plot\"},\"ticker\":{\"id\":\"4a64ed37-f579-492c-a8cb-b5518990e71a\",\"type\":\"BasicTicker\"}},\"id\":\"786e30a9-7472-45a9-a92a-ead76d40cd4a\",\"type\":\"Grid\"},{\"attributes\":{\"line_alpha\":0.1,\"line_color\":\"#1f77b4\",\"line_dash\":[6],\"line_width\":5,\"x\":{\"field\":\"x\"},\"y\":{\"field\":\"y\"}},\"id\":\"a5f151a3-2771-4016-82b8-bd0e0f863d5e\",\"type\":\"Line\"},{\"attributes\":{\"callback\":null,\"end\":0.01,\"start\":1020},\"id\":\"81a694f9-a2ce-4bbd-b3c5-75f438cc1a9e\",\"type\":\"Range1d\"},{\"attributes\":{},\"id\":\"326fd87d-c505-4305-83cd-8cbd87e466d4\",\"type\":\"BasicTicker\"},{\"attributes\":{\"line_color\":\"#4daf4a\",\"line_width\":1.5,\"x\":{\"field\":\"x\"},\"y\":{\"field\":\"y\"}},\"id\":\"d920e913-02e4-4b02-8a27-c2c5bd041075\",\"type\":\"Line\"},{\"attributes\":{},\"id\":\"a7990ae2-36fd-4d3f-a4be-72c01650139f\",\"type\":\"UnionRenderers\"},{\"attributes\":{\"data_source\":{\"id\":\"90e13f07-4f9a-4059-838a-dc1778a1ac50\",\"type\":\"ColumnDataSource\"},\"glyph\":{\"id\":\"60337518-c366-477a-86d3-5e4484718f7c\",\"type\":\"Circle\"},\"hover_glyph\":null,\"muted_glyph\":null,\"nonselection_glyph\":{\"id\":\"0ad03529-bb41-4c83-a1b6-d2cb452c539b\",\"type\":\"Circle\"},\"selection_glyph\":null,\"view\":{\"id\":\"5d219e0f-2f26-4c08-8e63-f33c5342d760\",\"type\":\"CDSView\"}},\"id\":\"aeeb3c88-4370-4a41-ab6c-ef075d0ad02e\",\"type\":\"GlyphRenderer\"},{\"attributes\":{\"data_source\":{\"id\":\"58aaaed0-e03e-43b1-a64a-64c14be1dc59\",\"type\":\"ColumnDataSource\"},\"glyph\":{\"id\":\"209972f6-10fa-459d-b6fb-4d2c2741cbd7\",\"type\":\"Circle\"},\"hover_glyph\":null,\"muted_glyph\":null,\"nonselection_glyph\":{\"id\":\"df987c07-02d3-4be4-96e0-523692419ce9\",\"type\":\"Circle\"},\"selection_glyph\":null,\"view\":{\"id\":\"07e12cc5-1889-463f-b6fa-4e2b85b75ed1\",\"type\":\"CDSView\"}},\"id\":\"b50e8662-0126-4fc3-9382-40d1176417d2\",\"type\":\"GlyphRenderer\"},{\"attributes\":{},\"id\":\"790afdea-7971-4e76-a44a-52881cd18b71\",\"type\":\"BasicTickFormatter\"},{\"attributes\":{\"source\":{\"id\":\"38bd6e8b-4712-4f85-a6fc-3ae50289fb6e\",\"type\":\"ColumnDataSource\"}},\"id\":\"82f736ed-46d4-482c-a2c2-f425753107d3\",\"type\":\"CDSView\"},{\"attributes\":{\"data_source\":{\"id\":\"38bd6e8b-4712-4f85-a6fc-3ae50289fb6e\",\"type\":\"ColumnDataSource\"},\"glyph\":{\"id\":\"d920e913-02e4-4b02-8a27-c2c5bd041075\",\"type\":\"Line\"},\"hover_glyph\":null,\"muted_glyph\":null,\"nonselection_glyph\":{\"id\":\"0de8c122-c4d0-4e0e-82cf-98c87a49b2ed\",\"type\":\"Line\"},\"selection_glyph\":null,\"view\":{\"id\":\"82f736ed-46d4-482c-a2c2-f425753107d3\",\"type\":\"CDSView\"}},\"id\":\"72e0dcbc-6272-4abb-baac-9769c1faeb40\",\"type\":\"GlyphRenderer\"},{\"attributes\":{},\"id\":\"92093460-cf99-4487-9faa-f889f47d199c\",\"type\":\"BasicTickFormatter\"},{\"attributes\":{\"data_source\":{\"id\":\"4cc60f68-899e-476e-a5a2-0ddab33c867f\",\"type\":\"ColumnDataSource\"},\"glyph\":{\"id\":\"4a90ccad-4661-469d-a0b2-fb3510fadde4\",\"type\":\"Line\"},\"hover_glyph\":null,\"muted_glyph\":null,\"nonselection_glyph\":{\"id\":\"43922e82-b78c-4c12-a0cf-1d2f4fdc863f\",\"type\":\"Line\"},\"selection_glyph\":null,\"view\":{\"id\":\"64fd3b6f-275d-49e5-8944-423ca5d58b92\",\"type\":\"CDSView\"}},\"id\":\"004f7890-ab94-42cf-91da-df7967e25b0b\",\"type\":\"GlyphRenderer\"},{\"attributes\":{\"callback\":null,\"end\":0.01,\"start\":1020},\"id\":\"17eb1252-9d6a-4ebd-8745-f7660a4ebd55\",\"type\":\"Range1d\"},{\"attributes\":{\"callback\":null,\"end\":0.09198967923299999,\"start\":-0.039485590533},\"id\":\"d0d461f6-2d7a-4823-ac26-51acbbe6f020\",\"type\":\"Range1d\"},{\"attributes\":{\"callback\":null,\"data\":{\"x\":{\"__ndarray__\":\"/5AxSNAQfL+9qp6/Ffh6v77Z4jJgZHi/9bOizt+ydb9jmDDl/g1zvz1y4bvqTHC/KGeEzBAta7+UfgqLP4Zlv2AaUMGy8V+/OK8GlaljVL8g31hEE7dBvwCzEC+c4yQ/MJmFQO6eTD942OdicY5aP3zcgfoSSnA/hwFB889Jhj8yGlcu5KmWP37FGi5yT6I/Qlx23n+Rqj8xIQLo2SeyPzLpdd+/5rc/NlI6gX6Zvj/sJ9iJD0/CP7iSAcZRfsI/RrOH/Wvnvz/ReUHPXOO5P0j9rjV/P7Q/EISHECeVrj+YZoAswE6mP+a49chW/54/sC5mxPdQkz/H/vFq/LaCP5i8Ir3GfFk/AeIKPd3fcr+UOa7vUMeGvyZnoGpfvZK/tJVdCKf5mL/t3WnqMdydv7IaqFvYRKG/lerc3+Iio7+uHj7MgY6jvyv696QJl6K/Ah2Yqlwyob/GzMJ+1lOfvyHRUM9+BZy/2IiGDxmBmL8mV3y9XsWUv7iSItQ64ZC/TnIXi+Wpib9UuodK+1SBvzYmwH+evnG/gJrWWJAOKb8wX2XMoENwP0Ndo+LRn4A/tjWwef8diT/kIdtTXNeQP8jTWXmHLJU/Js+YMVyQmT/Ktl+AdQOeP7S6/TugQaE/7gfZBcWHoz/WRjrYotKlPzkDcnU/KKg/hm82XRyDqj/eaf3wnd+sPzU0hLTdPK8/DiuBOR/DsD9ndcHMttSxP0SXP/izzLI/HkZhR36lsz8Y9NanuWi0PwoZb/uDILU/3/PQMuPRtT+a/dC4r4S2Pw5+/lUpOLc/\",\"dtype\":\"float64\",\"shape\":[75]},\"y\":{\"__ndarray__\":\"GhExyth1ND/Sv8nbtpRIP2vylNV0PVE/aTum7souWD/At0SJ8fVgPw3Iuahxymc/MSNhhJWvcD/bTfBN02d3P2zb5nxnaoA/CD5h5MAGhz8NmeH1TyaQP+zrCsc9p5Y/LbKd76fGnz/bLW5ISEmmPww9YvTcQq8/JV2OstnstT8Er5Y7M8G+P0c+r3jqkcU/5h99k6ZBzj88bCIzFzjVP4enV8oyxN0//yH99nXg5D8qOpLLf0jtP5kqGJXUifQ/c9cS8kHP/D+/DpwzojQEQIEmwoanVwxA4lgXt9HgE0BSSZ2AJuIbQAMJih9jjiNA5q4l5INuK0AwTKYKRj0zQNv5fmq8/DpAaCJseHrtQkB/+zpwzoxKQM3MzMzMeFJAZmZmZmZqWEAAAAAAAFxeQM3MzMzMJmJAmpmZmZkfZUBmZmZmZhhoQDMzMzMzEWtAAAAAAAAKbkBmZmZmZoFwQM3MzMzM/XFAMzMzMzN6c0CamZmZmfZ0QAAAAAAAc3ZAZmZmZmbvd0DNzMzMzGt5QDMzMzMz6HpAmpmZmZlkfEAAAAAAAOF9QGZmZmZmXX9AZmZmZuZsgECamZmZGSuBQM3MzMxM6YFAAAAAAICngkAzMzMzs2WDQGZmZmbmI4RAmpmZmRnihEDNzMzMTKCFQAAAAACAXoZAMzMzM7Mch0BmZmZm5tqHQJqZmZkZmYhAzczMzExXiUAAAAAAgBWKQDMzMzOz04pAZmZmZuaRi0CamZmZGVCMQM3MzMxMDo1AAAAAAIDMjUAzMzMzs4qOQGZmZmbmSI9A\",\"dtype\":\"float64\",\"shape\":[75]}},\"selected\":{\"id\":\"2f0e3f00-e803-46c0-ba2f-27da76efdef1\",\"type\":\"Selection\"},\"selection_policy\":{\"id\":\"a7990ae2-36fd-4d3f-a4be-72c01650139f\",\"type\":\"UnionRenderers\"}},\"id\":\"4cc60f68-899e-476e-a5a2-0ddab33c867f\",\"type\":\"ColumnDataSource\"},{\"attributes\":{\"line_alpha\":0.8,\"line_color\":\"#984ea3\",\"line_width\":1.5,\"x\":{\"field\":\"x\"},\"y\":{\"field\":\"y\"}},\"id\":\"e5cf7c1a-2d8c-4c0f-aefb-4b5c43e0ebb4\",\"type\":\"Line\"},{\"attributes\":{\"callback\":null,\"data\":{\"x\":{\"__ndarray__\":\"8q5S6INanj/PnkmhUjeeP8ZHjkB48Z0/a3mpRjGinT+1qncZFk2dPwmDPss3AZ0/xYWzN7O6nD9mD+HUvXycP1QOh/6hRpw/urN+84AjnD9RClAhCxicP8D3VUtFKpw/2nJErfVunD/sDQW4I+ecP7xFEDww3Zw/z6XRk33Kmj90zznZcdWWPx1o4QKyWZI/KAmr6HHOij+gZZuHbcR/P4CbwuND9F4/QGnejLqYdL+gZgmM35aFvwCWehTFbnm/cCbGL6QwdD+46EyeFuqJP6iKuDPT3I4/4C+EfA48iz/QmWYw11OCP5hGQB5l+G8/AB5IvkNzP7+cpBxkWdhsv9Cxn13k6Ha/SDvP7tsqfb801sQjbbqAv+leKRZnK4K/6QwfIH5Pg7+qCq/ddwiEv6peiEzPVoO/HAUWk1Whgb/UVIsdm9SAv+SUlCQ3OIG/4Dq9hiElgb9ShQ5lYJCAv3Cqp5jETn+/TPj9aTUafb96csnpe496v+gYyM9c7He/a9tfv8Yodb9CtbMOp1Ryv3JR9exk5m6/so7XbOANab+qZuWph89iv1jrbZSAGVm/sHL3GOGvSb8AoN3DyDgKv2DdREcErUU/QMiTD4IFVj9w5zrxL09gP+BC4pzOLWU/wNH6wx6ZaT/ApF9+72RtP8gznYmzbXA/kL3hrgjQcT9YSK7LLMhyP7ijj/BJf3M/WC/F7HLScz8gUdsVrBN0P0C9ahY6tHQ/gAcVYTJxdT8gd/TqUSF2P6B8BTM6dHY/IHrqr1wRdj+g9/bVAQ11PyDgPrfK+XI/\",\"dtype\":\"float64\",\"shape\":[75]},\"y\":{\"__ndarray__\":\"GhExyth1ND/Sv8nbtpRIP2vylNV0PVE/aTum7souWD/At0SJ8fVgPw3Iuahxymc/MSNhhJWvcD/bTfBN02d3P2zb5nxnaoA/CD5h5MAGhz8NmeH1TyaQP+zrCsc9p5Y/LbKd76fGnz/bLW5ISEmmPww9YvTcQq8/JV2OstnstT8Er5Y7M8G+P0c+r3jqkcU/5h99k6ZBzj88bCIzFzjVP4enV8oyxN0//yH99nXg5D8qOpLLf0jtP5kqGJXUifQ/c9cS8kHP/D+/DpwzojQEQIEmwoanVwxA4lgXt9HgE0BSSZ2AJuIbQAMJih9jjiNA5q4l5INuK0AwTKYKRj0zQNv5fmq8/DpAaCJseHrtQkB/+zpwzoxKQM3MzMzMeFJAZmZmZmZqWEAAAAAAAFxeQM3MzMzMJmJAmpmZmZkfZUBmZmZmZhhoQDMzMzMzEWtAAAAAAAAKbkBmZmZmZoFwQM3MzMzM/XFAMzMzMzN6c0CamZmZmfZ0QAAAAAAAc3ZAZmZmZmbvd0DNzMzMzGt5QDMzMzMz6HpAmpmZmZlkfEAAAAAAAOF9QGZmZmZmXX9AZmZmZuZsgECamZmZGSuBQM3MzMxM6YFAAAAAAICngkAzMzMzs2WDQGZmZmbmI4RAmpmZmRnihEDNzMzMTKCFQAAAAACAXoZAMzMzM7Mch0BmZmZm5tqHQJqZmZkZmYhAzczMzExXiUAAAAAAgBWKQDMzMzOz04pAZmZmZuaRi0CamZmZGVCMQM3MzMxMDo1AAAAAAIDMjUAzMzMzs4qOQGZmZmbmSI9A\",\"dtype\":\"float64\",\"shape\":[75]}},\"selected\":{\"id\":\"b64dfa7e-3cdc-4c01-88c7-3cc6d8135ad0\",\"type\":\"Selection\"},\"selection_policy\":{\"id\":\"5e50c7a1-4fa7-42c5-89d2-abf22fd6d887\",\"type\":\"UnionRenderers\"}},\"id\":\"b06f7327-04ea-446b-a7f9-f5e3d179a120\",\"type\":\"ColumnDataSource\"},{\"attributes\":{\"source\":{\"id\":\"a32dd7d0-18c2-4050-8561-ee1cf9b6b796\",\"type\":\"ColumnDataSource\"}},\"id\":\"2790f120-f6d5-4a4c-b7da-50f6c447b7f6\",\"type\":\"CDSView\"},{\"attributes\":{\"label\":{\"value\":\"CLIRAD\"},\"renderers\":[{\"id\":\"c26e5231-08cc-4a5c-98d0-00f8005838f0\",\"type\":\"GlyphRenderer\"}]},\"id\":\"374b11a0-5f8e-491b-bc2d-e34d049d3af9\",\"type\":\"LegendItem\"},{\"attributes\":{\"callback\":null,\"data\":{\"x\":{\"__ndarray__\":\"8q5S6INanj/PnkmhUjeeP8ZHjkB48Z0/a3mpRjGinT+1qncZFk2dPwmDPss3AZ0/xYWzN7O6nD9mD+HUvXycP1QOh/6hRpw/urN+84AjnD9RClAhCxicP8D3VUtFKpw/2nJErfVunD/sDQW4I+ecP7xFEDww3Zw/z6XRk33Kmj90zznZcdWWPx1o4QKyWZI/KAmr6HHOij+gZZuHbcR/P4CbwuND9F4/QGnejLqYdL+gZgmM35aFvwCWehTFbnm/cCbGL6QwdD+46EyeFuqJP6iKuDPT3I4/4C+EfA48iz/QmWYw11OCP5hGQB5l+G8/AB5IvkNzP7+cpBxkWdhsv9Cxn13k6Ha/SDvP7tsqfb801sQjbbqAv+leKRZnK4K/6QwfIH5Pg7+qCq/ddwiEv6peiEzPVoO/HAUWk1Whgb/UVIsdm9SAv+SUlCQ3OIG/4Dq9hiElgb9ShQ5lYJCAv3Cqp5jETn+/TPj9aTUafb96csnpe496v+gYyM9c7He/a9tfv8Yodb9CtbMOp1Ryv3JR9exk5m6/so7XbOANab+qZuWph89iv1jrbZSAGVm/sHL3GOGvSb8AoN3DyDgKv2DdREcErUU/QMiTD4IFVj9w5zrxL09gP+BC4pzOLWU/wNH6wx6ZaT/ApF9+72RtP8gznYmzbXA/kL3hrgjQcT9YSK7LLMhyP7ijj/BJf3M/WC/F7HLScz8gUdsVrBN0P0C9ahY6tHQ/gAcVYTJxdT8gd/TqUSF2P6B8BTM6dHY/IHrqr1wRdj+g9/bVAQ11PyDgPrfK+XI/\",\"dtype\":\"float64\",\"shape\":[75]},\"y\":{\"__ndarray__\":\"GhExyth1ND/Sv8nbtpRIP2vylNV0PVE/aTum7souWD/At0SJ8fVgPw3Iuahxymc/MSNhhJWvcD/bTfBN02d3P2zb5nxnaoA/CD5h5MAGhz8NmeH1TyaQP+zrCsc9p5Y/LbKd76fGnz/bLW5ISEmmPww9YvTcQq8/JV2OstnstT8Er5Y7M8G+P0c+r3jqkcU/5h99k6ZBzj88bCIzFzjVP4enV8oyxN0//yH99nXg5D8qOpLLf0jtP5kqGJXUifQ/c9cS8kHP/D+/DpwzojQEQIEmwoanVwxA4lgXt9HgE0BSSZ2AJuIbQAMJih9jjiNA5q4l5INuK0AwTKYKRj0zQNv5fmq8/DpAaCJseHrtQkB/+zpwzoxKQM3MzMzMeFJAZmZmZmZqWEAAAAAAAFxeQM3MzMzMJmJAmpmZmZkfZUBmZmZmZhhoQDMzMzMzEWtAAAAAAAAKbkBmZmZmZoFwQM3MzMzM/XFAMzMzMzN6c0CamZmZmfZ0QAAAAAAAc3ZAZmZmZmbvd0DNzMzMzGt5QDMzMzMz6HpAmpmZmZlkfEAAAAAAAOF9QGZmZmZmXX9AZmZmZuZsgECamZmZGSuBQM3MzMxM6YFAAAAAAICngkAzMzMzs2WDQGZmZmbmI4RAmpmZmRnihEDNzMzMTKCFQAAAAACAXoZAMzMzM7Mch0BmZmZm5tqHQJqZmZkZmYhAzczMzExXiUAAAAAAgBWKQDMzMzOz04pAZmZmZuaRi0CamZmZGVCMQM3MzMxMDo1AAAAAAIDMjUAzMzMzs4qOQGZmZmbmSI9A\",\"dtype\":\"float64\",\"shape\":[75]}},\"selected\":{\"id\":\"dafd0701-412f-4c45-ae5c-04ef51849a12\",\"type\":\"Selection\"},\"selection_policy\":{\"id\":\"efc48761-a803-4408-a71c-a68f3e0685f2\",\"type\":\"UnionRenderers\"}},\"id\":\"58aaaed0-e03e-43b1-a64a-64c14be1dc59\",\"type\":\"ColumnDataSource\"},{\"attributes\":{\"axis_label\":\"cooling rate [K/day]\",\"formatter\":{\"id\":\"92093460-cf99-4487-9faa-f889f47d199c\",\"type\":\"BasicTickFormatter\"},\"plot\":{\"id\":\"27ff26d1-e3be-47e3-9c54-56d6fe1b65c0\",\"subtype\":\"Figure\",\"type\":\"Plot\"},\"ticker\":{\"id\":\"a2286931-e46c-478d-8a39-fd22d80ca488\",\"type\":\"BasicTicker\"}},\"id\":\"18632766-fcb4-4fde-918c-377f35627b9b\",\"type\":\"LinearAxis\"},{\"attributes\":{\"plot\":null,\"text\":\"\"},\"id\":\"253f4c63-076f-4330-85b3-b1d9c6968f4a\",\"type\":\"Title\"},{\"attributes\":{\"label\":{\"value\":\"CRD\"},\"renderers\":[{\"id\":\"fef16a6d-ed38-4eb1-bea1-3e4abb1f22ec\",\"type\":\"GlyphRenderer\"},{\"id\":\"6c9862ec-f182-4ef4-b77d-5ff297f9a85c\",\"type\":\"GlyphRenderer\"}]},\"id\":\"14f06e4e-17df-427f-a9ce-cc4f3cb4a6d9\",\"type\":\"LegendItem\"},{\"attributes\":{},\"id\":\"a2286931-e46c-478d-8a39-fd22d80ca488\",\"type\":\"BasicTicker\"},{\"attributes\":{\"source\":{\"id\":\"90e13f07-4f9a-4059-838a-dc1778a1ac50\",\"type\":\"ColumnDataSource\"}},\"id\":\"5d219e0f-2f26-4c08-8e63-f33c5342d760\",\"type\":\"CDSView\"},{\"attributes\":{},\"id\":\"dafd0701-412f-4c45-ae5c-04ef51849a12\",\"type\":\"Selection\"},{\"attributes\":{\"num_minor_ticks\":10},\"id\":\"86711ef4-eae5-4728-8432-2e313e8fdef3\",\"type\":\"LogTicker\"},{\"attributes\":{\"children\":[{\"id\":\"20e506be-f254-4450-a6ec-c026a5848d80\",\"type\":\"ToolbarBox\"},{\"id\":\"3f4d4d57-4ee7-4c26-9486-af025e968a0c\",\"type\":\"Column\"}]},\"id\":\"d7caae9a-b746-4a30-a3fe-feabeba11137\",\"type\":\"Column\"},{\"attributes\":{\"ticker\":null},\"id\":\"4f862de6-6c98-49b5-9363-f108144ded5d\",\"type\":\"LogTickFormatter\"},{\"attributes\":{},\"id\":\"efc48761-a803-4408-a71c-a68f3e0685f2\",\"type\":\"UnionRenderers\"},{\"attributes\":{\"callback\":null,\"data\":{\"x\":{\"__ndarray__\":\"mYkv/Vuvor+/pJgIrHqivxt/oyZIBaK/NBMpnXSHob9n6GHpSgihv8xvGz05iqC/VQmiqCoQoL84X0LGhS2fv/oPnCq9RZ6/rh7PjLtpnb9K0XK7w6Wcv1rW9xJ+AJy/EEZAO/6Jm79lkNahPD6bv53Ob32rypi/F0piNCtLj7/GoFpx1cYlv98iVFkyRZI/+JlLZOPdoz/XaogPkyuwP8Te5s/uarc/yjgIKgrjvz9WvpiCfajDP2hnpe7HScM/31CLumGkvj+63Hf7Gaa2P/PrN8/kY7A/GHhmcSPGpz8kwGZgyrmhPxOwLSVKAJs/KE9f08TOkz/uJ/nDEu2JP/Zg6AwWSH0/jbKIY/2VZD+BjaUvjzNov2NvF79XT4O/fx6c8M+jjr+YWJL79deTvw8GDBFJ3pi/nNIu9hp1nb/ykrYJtrKev+Sppbf3kZy/lJzRkSjSmb8dijtMpguXv4XmJqnNMZS/xQoHtYs6kb8P9ROG/0KMv/wYYUBHzIW/MQnPVgQrfr9mv1uGT1Vwv+jrK0pgW0K/CiVKZ/d8Zz+FElihZKt5P64aMfUBw4M/4aw/i/24ij+0ED24eOSQP92sH1cff5Q/opKfEAQwmD/cWTiCj/mbPwwtX6SG3Z8/0lqZGTPuoT+KTFTgU/yjP8BcPgSJGqY/1DdaRxtJqD/ToIdXmIaqP74/cnb0zKw/MbBpFfALrz9VwGMLfJOwP3Dr2FZwgbE/pvVPIWtOsj+mrCeJpAazP0DBPlhAubM/PUzSZ81wtD8gjnGb3zO1PwyQiqqMCLY/\",\"dtype\":\"float64\",\"shape\":[75]},\"y\":{\"__ndarray__\":\"GhExyth1ND/Sv8nbtpRIP2vylNV0PVE/aTum7souWD/At0SJ8fVgPw3Iuahxymc/MSNhhJWvcD/bTfBN02d3P2zb5nxnaoA/CD5h5MAGhz8NmeH1TyaQP+zrCsc9p5Y/LbKd76fGnz/bLW5ISEmmPww9YvTcQq8/JV2OstnstT8Er5Y7M8G+P0c+r3jqkcU/5h99k6ZBzj88bCIzFzjVP4enV8oyxN0//yH99nXg5D8qOpLLf0jtP5kqGJXUifQ/c9cS8kHP/D+/DpwzojQEQIEmwoanVwxA4lgXt9HgE0BSSZ2AJuIbQAMJih9jjiNA5q4l5INuK0AwTKYKRj0zQNv5fmq8/DpAaCJseHrtQkB/+zpwzoxKQM3MzMzMeFJAZmZmZmZqWEAAAAAAAFxeQM3MzMzMJmJAmpmZmZkfZUBmZmZmZhhoQDMzMzMzEWtAAAAAAAAKbkBmZmZmZoFwQM3MzMzM/XFAMzMzMzN6c0CamZmZmfZ0QAAAAAAAc3ZAZmZmZmbvd0DNzMzMzGt5QDMzMzMz6HpAmpmZmZlkfEAAAAAAAOF9QGZmZmZmXX9AZmZmZuZsgECamZmZGSuBQM3MzMxM6YFAAAAAAICngkAzMzMzs2WDQGZmZmbmI4RAmpmZmRnihEDNzMzMTKCFQAAAAACAXoZAMzMzM7Mch0BmZmZm5tqHQJqZmZkZmYhAzczMzExXiUAAAAAAgBWKQDMzMzOz04pAZmZmZuaRi0CamZmZGVCMQM3MzMxMDo1AAAAAAIDMjUAzMzMzs4qOQGZmZmbmSI9A\",\"dtype\":\"float64\",\"shape\":[75]}},\"selected\":{\"id\":\"6db46151-64f0-4100-90e4-dd7d8d2bf8bf\",\"type\":\"Selection\"},\"selection_policy\":{\"id\":\"413db487-520e-4fce-960e-d8083cd7bb79\",\"type\":\"UnionRenderers\"}},\"id\":\"a32dd7d0-18c2-4050-8561-ee1cf9b6b796\",\"type\":\"ColumnDataSource\"},{\"attributes\":{},\"id\":\"b64dfa7e-3cdc-4c01-88c7-3cc6d8135ad0\",\"type\":\"Selection\"},{\"attributes\":{\"label\":{\"value\":\"CRD\"},\"renderers\":[{\"id\":\"aeeb3c88-4370-4a41-ab6c-ef075d0ad02e\",\"type\":\"GlyphRenderer\"},{\"id\":\"72e0dcbc-6272-4abb-baac-9769c1faeb40\",\"type\":\"GlyphRenderer\"}]},\"id\":\"7d515c8b-7e1f-40c5-9e4d-a5228acb68b6\",\"type\":\"LegendItem\"},{\"attributes\":{},\"id\":\"5e50c7a1-4fa7-42c5-89d2-abf22fd6d887\",\"type\":\"UnionRenderers\"},{\"attributes\":{\"tools\":[{\"id\":\"af17017c-e283-4135-9aeb-e13fc927759c\",\"type\":\"PanTool\"},{\"id\":\"74652036-5db3-49e0-a012-b19d97da224f\",\"type\":\"WheelZoomTool\"},{\"id\":\"9fffabea-e21d-4d46-9d56-4c90bb12022d\",\"type\":\"BoxZoomTool\"},{\"id\":\"a205aa90-e48a-4191-85d3-e94a2ea9e19b\",\"type\":\"SaveTool\"},{\"id\":\"d3f7552b-e86d-4e19-8154-5492c4f9ba64\",\"type\":\"ResetTool\"},{\"id\":\"7050f42d-337a-4cb4-8da8-c9ea166ed0dd\",\"type\":\"HelpTool\"},{\"id\":\"97788739-c79f-4852-9360-937f13891c30\",\"type\":\"PanTool\"},{\"id\":\"2a382897-a8b0-4093-885b-962fa91bb8a4\",\"type\":\"WheelZoomTool\"},{\"id\":\"ff736729-a957-4048-a161-da215ade5cfc\",\"type\":\"BoxZoomTool\"},{\"id\":\"3383ed7d-9e32-4a81-9813-b69d132dc655\",\"type\":\"SaveTool\"},{\"id\":\"c2189b20-b68b-47a1-9e25-13a9c3266282\",\"type\":\"ResetTool\"},{\"id\":\"a00064af-e786-4fc2-99f0-9cb59104362c\",\"type\":\"HelpTool\"},{\"id\":\"9c3445b9-3136-45d8-a75c-4454be66eb3d\",\"type\":\"PanTool\"},{\"id\":\"bc9e8425-ac78-4342-a23c-e0637cea5f22\",\"type\":\"WheelZoomTool\"},{\"id\":\"8e2bce8d-1dd7-434e-8504-9b28a9a0e565\",\"type\":\"BoxZoomTool\"},{\"id\":\"0b622282-ab9a-4a89-931c-1258f67bd125\",\"type\":\"SaveTool\"},{\"id\":\"973a8fe9-388c-4bce-b6c0-fe123648daaf\",\"type\":\"ResetTool\"},{\"id\":\"37041d1e-eb1e-44c6-b8c8-806ace0ef144\",\"type\":\"HelpTool\"}]},\"id\":\"7fea02fd-a920-4933-a523-fdf3ac1b429f\",\"type\":\"ProxyToolbar\"},{\"attributes\":{},\"id\":\"97788739-c79f-4852-9360-937f13891c30\",\"type\":\"PanTool\"},{\"attributes\":{\"source\":{\"id\":\"b06f7327-04ea-446b-a7f9-f5e3d179a120\",\"type\":\"ColumnDataSource\"}},\"id\":\"49e7e0df-0926-471b-8ac4-0a7bd9f02fe5\",\"type\":\"CDSView\"},{\"attributes\":{\"toolbar\":{\"id\":\"7fea02fd-a920-4933-a523-fdf3ac1b429f\",\"type\":\"ProxyToolbar\"},\"toolbar_location\":\"above\"},\"id\":\"20e506be-f254-4450-a6ec-c026a5848d80\",\"type\":\"ToolbarBox\"},{\"attributes\":{},\"id\":\"3383ed7d-9e32-4a81-9813-b69d132dc655\",\"type\":\"SaveTool\"},{\"attributes\":{},\"id\":\"489209b6-c471-41a3-ac60-605ec116bd21\",\"type\":\"UnionRenderers\"},{\"attributes\":{\"label\":{\"value\":\"CLIRAD\"},\"renderers\":[{\"id\":\"004f7890-ab94-42cf-91da-df7967e25b0b\",\"type\":\"GlyphRenderer\"}]},\"id\":\"7709caaf-637e-4690-aa07-d8d49bb91bfb\",\"type\":\"LegendItem\"},{\"attributes\":{\"items\":[{\"id\":\"374b11a0-5f8e-491b-bc2d-e34d049d3af9\",\"type\":\"LegendItem\"},{\"id\":\"14f06e4e-17df-427f-a9ce-cc4f3cb4a6d9\",\"type\":\"LegendItem\"}],\"label_text_font_size\":{\"value\":\"8pt\"},\"location\":\"top_center\",\"orientation\":\"horizontal\",\"plot\":{\"id\":\"84185aee-799c-412c-a470-876ec8a1b00d\",\"subtype\":\"Figure\",\"type\":\"Plot\"}},\"id\":\"2dcbf7ca-2d22-4ad4-b67a-b8293dcfa9be\",\"type\":\"Legend\"},{\"attributes\":{\"axis_label\":\"pressure [mb]\",\"formatter\":{\"id\":\"6ec73590-ce97-4542-a0ae-b64ff32cb73e\",\"type\":\"LogTickFormatter\"},\"plot\":{\"id\":\"84185aee-799c-412c-a470-876ec8a1b00d\",\"subtype\":\"Figure\",\"type\":\"Plot\"},\"ticker\":{\"id\":\"86711ef4-eae5-4728-8432-2e313e8fdef3\",\"type\":\"LogTicker\"}},\"id\":\"c957321b-9978-42ed-8a0a-3376252a233f\",\"type\":\"LogAxis\"},{\"attributes\":{\"overlay\":{\"id\":\"f904966a-1b2f-4aec-9392-f1dcfcc63d47\",\"type\":\"BoxAnnotation\"}},\"id\":\"ff736729-a957-4048-a161-da215ade5cfc\",\"type\":\"BoxZoomTool\"},{\"attributes\":{},\"id\":\"2a382897-a8b0-4093-885b-962fa91bb8a4\",\"type\":\"WheelZoomTool\"},{\"attributes\":{\"callback\":null,\"end\":0.15549717542400002,\"start\":-0.040114377624},\"id\":\"62ccd55a-0c9c-468c-952b-127053f4083a\",\"type\":\"Range1d\"},{\"attributes\":{},\"id\":\"c2189b20-b68b-47a1-9e25-13a9c3266282\",\"type\":\"ResetTool\"},{\"attributes\":{},\"id\":\"ef8418e2-194c-4faa-996b-c72df1490d0b\",\"type\":\"Selection\"},{\"attributes\":{\"bottom_units\":\"screen\",\"fill_alpha\":{\"value\":0.5},\"fill_color\":{\"value\":\"lightgrey\"},\"left_units\":\"screen\",\"level\":\"overlay\",\"line_alpha\":{\"value\":1.0},\"line_color\":{\"value\":\"black\"},\"line_dash\":[4,4],\"line_width\":{\"value\":2},\"plot\":null,\"render_mode\":\"css\",\"right_units\":\"screen\",\"top_units\":\"screen\"},\"id\":\"f904966a-1b2f-4aec-9392-f1dcfcc63d47\",\"type\":\"BoxAnnotation\"},{\"attributes\":{\"line_alpha\":0.6,\"line_color\":\"#e41a1c\",\"line_dash\":[6],\"line_width\":5,\"x\":{\"field\":\"x\"},\"y\":{\"field\":\"y\"}},\"id\":\"4a90ccad-4661-469d-a0b2-fb3510fadde4\",\"type\":\"Line\"},{\"attributes\":{\"children\":[{\"id\":\"faa76d26-8c15-4100-a0f4-28736f2daea0\",\"type\":\"Row\"}]},\"id\":\"3f4d4d57-4ee7-4c26-9486-af025e968a0c\",\"type\":\"Column\"},{\"attributes\":{},\"id\":\"6586e842-2284-4bc5-9f85-dcf8211e97b5\",\"type\":\"Selection\"},{\"attributes\":{\"data_source\":{\"id\":\"b06f7327-04ea-446b-a7f9-f5e3d179a120\",\"type\":\"ColumnDataSource\"},\"glyph\":{\"id\":\"e5cf7c1a-2d8c-4c0f-aefb-4b5c43e0ebb4\",\"type\":\"Line\"},\"hover_glyph\":null,\"muted_glyph\":null,\"nonselection_glyph\":{\"id\":\"d05557cf-c420-47a7-8e49-36e5e7454ad9\",\"type\":\"Line\"},\"selection_glyph\":null,\"view\":{\"id\":\"49e7e0df-0926-471b-8ac4-0a7bd9f02fe5\",\"type\":\"CDSView\"}},\"id\":\"dfe3df96-0087-41cc-8d47-bd6c84ca0956\",\"type\":\"GlyphRenderer\"},{\"attributes\":{},\"id\":\"00302b22-ad96-4bda-a11d-e5f47f7177e8\",\"type\":\"UnionRenderers\"},{\"attributes\":{\"dimension\":1,\"plot\":{\"id\":\"84185aee-799c-412c-a470-876ec8a1b00d\",\"subtype\":\"Figure\",\"type\":\"Plot\"},\"ticker\":{\"id\":\"86711ef4-eae5-4728-8432-2e313e8fdef3\",\"type\":\"LogTicker\"}},\"id\":\"1e565660-0f43-49ed-bfba-6697ce8f8c9a\",\"type\":\"Grid\"},{\"attributes\":{\"active_drag\":\"auto\",\"active_inspect\":\"auto\",\"active_scroll\":\"auto\",\"active_tap\":\"auto\",\"tools\":[{\"id\":\"97788739-c79f-4852-9360-937f13891c30\",\"type\":\"PanTool\"},{\"id\":\"2a382897-a8b0-4093-885b-962fa91bb8a4\",\"type\":\"WheelZoomTool\"},{\"id\":\"ff736729-a957-4048-a161-da215ade5cfc\",\"type\":\"BoxZoomTool\"},{\"id\":\"3383ed7d-9e32-4a81-9813-b69d132dc655\",\"type\":\"SaveTool\"},{\"id\":\"c2189b20-b68b-47a1-9e25-13a9c3266282\",\"type\":\"ResetTool\"},{\"id\":\"a00064af-e786-4fc2-99f0-9cb59104362c\",\"type\":\"HelpTool\"}]},\"id\":\"fd0e468e-8342-483e-88eb-1e5447f8cc6b\",\"type\":\"Toolbar\"},{\"attributes\":{},\"id\":\"a00064af-e786-4fc2-99f0-9cb59104362c\",\"type\":\"HelpTool\"},{\"attributes\":{\"plot\":{\"id\":\"27ff26d1-e3be-47e3-9c54-56d6fe1b65c0\",\"subtype\":\"Figure\",\"type\":\"Plot\"},\"ticker\":{\"id\":\"a2286931-e46c-478d-8a39-fd22d80ca488\",\"type\":\"BasicTicker\"}},\"id\":\"1eff842d-84ad-40da-b83f-69b488fa2a96\",\"type\":\"Grid\"},{\"attributes\":{},\"id\":\"159c6483-a639-495d-9cd4-a0090058a40a\",\"type\":\"LinearScale\"},{\"attributes\":{\"plot\":null,\"text\":\"\"},\"id\":\"29bb0f1f-09cd-46ab-b08d-3955342b17b5\",\"type\":\"Title\"},{\"attributes\":{\"label\":{\"value\":\"CLIRAD - CRD\"},\"renderers\":[{\"id\":\"b50e8662-0126-4fc3-9382-40d1176417d2\",\"type\":\"GlyphRenderer\"},{\"id\":\"dfe3df96-0087-41cc-8d47-bd6c84ca0956\",\"type\":\"GlyphRenderer\"}]},\"id\":\"57bae2b6-acda-4c3f-9e80-9765d00b21f5\",\"type\":\"LegendItem\"},{\"attributes\":{\"children\":[{\"id\":\"27ff26d1-e3be-47e3-9c54-56d6fe1b65c0\",\"subtype\":\"Figure\",\"type\":\"Plot\"},{\"id\":\"84185aee-799c-412c-a470-876ec8a1b00d\",\"subtype\":\"Figure\",\"type\":\"Plot\"},{\"id\":\"54c09a79-97ea-4f66-8be8-75cce30be925\",\"subtype\":\"Figure\",\"type\":\"Plot\"}]},\"id\":\"faa76d26-8c15-4100-a0f4-28736f2daea0\",\"type\":\"Row\"},{\"attributes\":{\"plot\":null,\"text\":\"\"},\"id\":\"f60529f3-96b1-4901-b211-e89d94c66ec2\",\"type\":\"Title\"},{\"attributes\":{\"ticker\":null},\"id\":\"6ec73590-ce97-4542-a0ae-b64ff32cb73e\",\"type\":\"LogTickFormatter\"},{\"attributes\":{\"line_alpha\":0.6,\"line_color\":\"#e41a1c\",\"line_dash\":[6],\"line_width\":5,\"x\":{\"field\":\"x\"},\"y\":{\"field\":\"y\"}},\"id\":\"8a187155-92f5-4567-9fc2-7f982071a705\",\"type\":\"Line\"},{\"attributes\":{},\"id\":\"510da7f7-529a-40f0-916d-de79e37b5884\",\"type\":\"BasicTickFormatter\"},{\"attributes\":{\"source\":{\"id\":\"2bb4291a-95b2-4196-8269-04258321c435\",\"type\":\"ColumnDataSource\"}},\"id\":\"95e70791-89ca-4116-bcf6-551592073353\",\"type\":\"CDSView\"}],\"root_ids\":[\"d7caae9a-b746-4a30-a3fe-feabeba11137\"]},\"title\":\"Bokeh Application\",\"version\":\"0.12.16\"}};\n",
       "  var render_items = [{\"docid\":\"09190b41-c544-402b-8ec6-1a59d6cf423b\",\"elementid\":\"49456a7c-5812-48c2-b58b-28e73ea1f799\",\"modelid\":\"d7caae9a-b746-4a30-a3fe-feabeba11137\"}];\n",
       "  root.Bokeh.embed.embed_items_notebook(docs_json, render_items);\n",
       "\n",
       "  }\n",
       "  if (root.Bokeh !== undefined) {\n",
       "    embed_document(root);\n",
       "  } else {\n",
       "    var attempts = 0;\n",
       "    var timer = setInterval(function(root) {\n",
       "      if (root.Bokeh !== undefined) {\n",
       "        embed_document(root);\n",
       "        clearInterval(timer);\n",
       "      }\n",
       "      attempts++;\n",
       "      if (attempts > 100) {\n",
       "        console.log(\"Bokeh: ERROR: Unable to run BokehJS code because BokehJS library is missing\")\n",
       "        clearInterval(timer);\n",
       "      }\n",
       "    }, 10, root)\n",
       "  }\n",
       "})(window);"
      ],
      "application/vnd.bokehjs_exec.v0+json": ""
     },
     "metadata": {
      "application/vnd.bokehjs_exec.v0+json": {
       "id": "d7caae9a-b746-4a30-a3fe-feabeba11137"
      }
     },
     "output_type": "display_data"
    },
    {
     "data": {
      "text/markdown": [
       "*FIGURE.* Cooling rates & difference."
      ],
      "text/plain": [
       "<IPython.core.display.Markdown object>"
      ]
     },
     "metadata": {},
     "output_type": "display_data"
    },
    {
     "data": {
      "text/html": [
       "<a id=\"Fluxes._mls.\"></a>"
      ],
      "text/plain": [
       "<IPython.core.display.HTML object>"
      ]
     },
     "metadata": {},
     "output_type": "display_data"
    },
    {
     "data": {
      "text/markdown": [
       "# Fluxes. mls."
      ],
      "text/plain": [
       "<IPython.core.display.Markdown object>"
      ]
     },
     "metadata": {},
     "output_type": "display_data"
    },
    {
     "data": {
      "text/html": [
       "\n",
       "<div class=\"bk-root\">\n",
       "    <div class=\"bk-plotdiv\" id=\"141747fb-eace-4b03-a8fb-9cbd8aeb328a\"></div>\n",
       "</div>"
      ]
     },
     "metadata": {},
     "output_type": "display_data"
    },
    {
     "data": {
      "application/javascript": [
       "(function(root) {\n",
       "  function embed_document(root) {\n",
       "    \n",
       "  var docs_json = {\"11d38aa9-712a-4f7b-84f3-d10f85288c6a\":{\"roots\":{\"references\":[{\"attributes\":{},\"id\":\"e1f873cc-f7bf-43ab-851a-2d4e5413f579\",\"type\":\"SaveTool\"},{\"attributes\":{},\"id\":\"041b76e0-0537-4737-a885-3abcb08a6d63\",\"type\":\"PanTool\"},{\"attributes\":{\"fill_alpha\":{\"value\":0.1},\"fill_color\":{\"value\":\"#1f77b4\"},\"line_alpha\":{\"value\":0.1},\"line_color\":{\"value\":\"#1f77b4\"},\"top\":{\"field\":\"flux\"},\"width\":{\"value\":0.9},\"x\":{\"field\":\"band\"}},\"id\":\"7106e33f-f30d-4d32-a338-4a3660b9c358\",\"type\":\"VBar\"},{\"attributes\":{\"bottom_units\":\"screen\",\"fill_alpha\":{\"value\":0.5},\"fill_color\":{\"value\":\"lightgrey\"},\"left_units\":\"screen\",\"level\":\"overlay\",\"line_alpha\":{\"value\":1.0},\"line_color\":{\"value\":\"black\"},\"line_dash\":[4,4],\"line_width\":{\"value\":2},\"plot\":null,\"render_mode\":\"css\",\"right_units\":\"screen\",\"top_units\":\"screen\"},\"id\":\"26f0805f-f188-41fc-abad-9ea0426b8084\",\"type\":\"BoxAnnotation\"},{\"attributes\":{\"bottom_units\":\"screen\",\"fill_alpha\":{\"value\":0.5},\"fill_color\":{\"value\":\"lightgrey\"},\"left_units\":\"screen\",\"level\":\"overlay\",\"line_alpha\":{\"value\":1.0},\"line_color\":{\"value\":\"black\"},\"line_dash\":[4,4],\"line_width\":{\"value\":2},\"plot\":null,\"render_mode\":\"css\",\"right_units\":\"screen\",\"top_units\":\"screen\"},\"id\":\"4bc25a3b-1804-450e-9cb2-8606534902b1\",\"type\":\"BoxAnnotation\"},{\"attributes\":{\"axis_label\":\"flux (W m-2)\",\"formatter\":{\"id\":\"f0a77380-1c7f-429e-8bd5-740936ab2a79\",\"type\":\"BasicTickFormatter\"},\"plot\":{\"id\":\"71af6ca6-a792-4d14-8cb5-ce1f02e9e066\",\"subtype\":\"Figure\",\"type\":\"Plot\"},\"ticker\":{\"id\":\"09c4d117-b568-46bc-99de-bebe96a64cb9\",\"type\":\"BasicTicker\"}},\"id\":\"adbd6a51-a4c3-4edc-aa24-971cc3da8055\",\"type\":\"LinearAxis\"},{\"attributes\":{},\"id\":\"7ae05d29-2567-4939-9c5e-45cc83956ade\",\"type\":\"ResetTool\"},{\"attributes\":{\"children\":[{\"id\":\"71af6ca6-a792-4d14-8cb5-ce1f02e9e066\",\"subtype\":\"Figure\",\"type\":\"Plot\"},{\"id\":\"09fdd10b-b0ec-4dd8-8ea1-685d09248a3c\",\"subtype\":\"Figure\",\"type\":\"Plot\"},{\"id\":\"882f5ba9-537f-4f42-bc3b-d6e4e671d6b9\",\"subtype\":\"Figure\",\"type\":\"Plot\"}]},\"id\":\"1c3431f7-a739-4a07-9238-899b29538734\",\"type\":\"Row\"},{\"attributes\":{\"dimension\":1,\"plot\":{\"id\":\"71af6ca6-a792-4d14-8cb5-ce1f02e9e066\",\"subtype\":\"Figure\",\"type\":\"Plot\"},\"ticker\":{\"id\":\"09c4d117-b568-46bc-99de-bebe96a64cb9\",\"type\":\"BasicTicker\"}},\"id\":\"886fa4a7-380d-4a11-82e5-ad614acb78cb\",\"type\":\"Grid\"},{\"attributes\":{},\"id\":\"9dc3a3bb-b999-40f5-9f3c-f054b15edce8\",\"type\":\"HelpTool\"},{\"attributes\":{\"fill_color\":{\"value\":\"#1f77b4\"},\"line_color\":{\"value\":\"#1f77b4\"},\"top\":{\"field\":\"flux\"},\"width\":{\"value\":0.9},\"x\":{\"field\":\"band\"}},\"id\":\"4f68dde4-6e41-4381-9b04-9318b5031f20\",\"type\":\"VBar\"},{\"attributes\":{\"active_drag\":\"auto\",\"active_inspect\":\"auto\",\"active_scroll\":\"auto\",\"active_tap\":\"auto\",\"tools\":[{\"id\":\"681df8db-2333-448d-b55a-187157f951e8\",\"type\":\"PanTool\"},{\"id\":\"26e584fb-52f2-43ea-bcf7-4ffada53da78\",\"type\":\"WheelZoomTool\"},{\"id\":\"70f45df9-ddf5-4424-b00c-473cc1bb6798\",\"type\":\"BoxZoomTool\"},{\"id\":\"e1f873cc-f7bf-43ab-851a-2d4e5413f579\",\"type\":\"SaveTool\"},{\"id\":\"7ae05d29-2567-4939-9c5e-45cc83956ade\",\"type\":\"ResetTool\"},{\"id\":\"9dc3a3bb-b999-40f5-9f3c-f054b15edce8\",\"type\":\"HelpTool\"}]},\"id\":\"dd9dc7f8-70de-434a-a510-188e0111f7f5\",\"type\":\"Toolbar\"},{\"attributes\":{},\"id\":\"e214b4ed-09ab-4bae-9489-a745a3515a53\",\"type\":\"CategoricalTickFormatter\"},{\"attributes\":{\"dimension\":1,\"plot\":{\"id\":\"882f5ba9-537f-4f42-bc3b-d6e4e671d6b9\",\"subtype\":\"Figure\",\"type\":\"Plot\"},\"ticker\":{\"id\":\"63071335-da32-426c-8204-42e7c4a59deb\",\"type\":\"BasicTicker\"}},\"id\":\"24cb033b-6cd6-49aa-9ed5-10703f0c3075\",\"type\":\"Grid\"},{\"attributes\":{\"fill_color\":{\"value\":\"#1f77b4\"},\"line_color\":{\"value\":\"#1f77b4\"},\"top\":{\"field\":\"flux\"},\"width\":{\"value\":0.9},\"x\":{\"field\":\"band\"}},\"id\":\"27e80abf-b2ec-48f3-a7d9-721d6a15449f\",\"type\":\"VBar\"},{\"attributes\":{},\"id\":\"c0615c83-7b0e-4b26-97fd-ff815ddddda4\",\"type\":\"PanTool\"},{\"attributes\":{\"fill_alpha\":{\"value\":0.1},\"fill_color\":{\"value\":\"#1f77b4\"},\"line_alpha\":{\"value\":0.1},\"line_color\":{\"value\":\"#1f77b4\"},\"top\":{\"field\":\"flux\"},\"width\":{\"value\":0.9},\"x\":{\"field\":\"band\"}},\"id\":\"ebd5c8b3-97b0-42e2-ab72-4a80586a1ebb\",\"type\":\"VBar\"},{\"attributes\":{\"bottom_units\":\"screen\",\"fill_alpha\":{\"value\":0.5},\"fill_color\":{\"value\":\"lightgrey\"},\"left_units\":\"screen\",\"level\":\"overlay\",\"line_alpha\":{\"value\":1.0},\"line_color\":{\"value\":\"black\"},\"line_dash\":[4,4],\"line_width\":{\"value\":2},\"plot\":null,\"render_mode\":\"css\",\"right_units\":\"screen\",\"top_units\":\"screen\"},\"id\":\"639dd93a-c8df-41f7-9f54-64dfe8017bf6\",\"type\":\"BoxAnnotation\"},{\"attributes\":{\"data_source\":{\"id\":\"6b6f962b-7131-43af-a5da-666890eaa4fa\",\"type\":\"ColumnDataSource\"},\"glyph\":{\"id\":\"27e80abf-b2ec-48f3-a7d9-721d6a15449f\",\"type\":\"VBar\"},\"hover_glyph\":null,\"muted_glyph\":null,\"nonselection_glyph\":{\"id\":\"7106e33f-f30d-4d32-a338-4a3660b9c358\",\"type\":\"VBar\"},\"selection_glyph\":null,\"view\":{\"id\":\"5c57ceec-a775-4245-be3d-93d82839e33d\",\"type\":\"CDSView\"}},\"id\":\"8750cc5c-0d46-41d3-b027-37eb6ca5c738\",\"type\":\"GlyphRenderer\"},{\"attributes\":{},\"id\":\"63071335-da32-426c-8204-42e7c4a59deb\",\"type\":\"BasicTicker\"},{\"attributes\":{},\"id\":\"7fa21c28-d6f6-42b8-937d-a151e9f39abb\",\"type\":\"WheelZoomTool\"},{\"attributes\":{\"data_source\":{\"id\":\"47a9a2e1-d18e-4192-b918-4b6391756b9a\",\"type\":\"ColumnDataSource\"},\"glyph\":{\"id\":\"4f68dde4-6e41-4381-9b04-9318b5031f20\",\"type\":\"VBar\"},\"hover_glyph\":null,\"muted_glyph\":null,\"nonselection_glyph\":{\"id\":\"ebd5c8b3-97b0-42e2-ab72-4a80586a1ebb\",\"type\":\"VBar\"},\"selection_glyph\":null,\"view\":{\"id\":\"d40cd9ee-17ac-4f62-b6ee-ed1543e76594\",\"type\":\"CDSView\"}},\"id\":\"bc633260-e064-4505-a6c0-1c5397b14551\",\"type\":\"GlyphRenderer\"},{\"attributes\":{\"overlay\":{\"id\":\"639dd93a-c8df-41f7-9f54-64dfe8017bf6\",\"type\":\"BoxAnnotation\"}},\"id\":\"3c28df3e-75ee-40ee-b980-1e16af143a3d\",\"type\":\"BoxZoomTool\"},{\"attributes\":{},\"id\":\"6c2ba189-7756-47e6-b69b-c766d7c28322\",\"type\":\"SaveTool\"},{\"attributes\":{\"active_drag\":\"auto\",\"active_inspect\":\"auto\",\"active_scroll\":\"auto\",\"active_tap\":\"auto\",\"tools\":[{\"id\":\"041b76e0-0537-4737-a885-3abcb08a6d63\",\"type\":\"PanTool\"},{\"id\":\"216b563e-9deb-4c55-8e35-fe7f5bfb33bf\",\"type\":\"WheelZoomTool\"},{\"id\":\"6ef8867e-0a59-4c41-b892-909586d0f711\",\"type\":\"BoxZoomTool\"},{\"id\":\"6c2ba189-7756-47e6-b69b-c766d7c28322\",\"type\":\"SaveTool\"},{\"id\":\"6caf9803-5b00-4e6e-9d57-ba5016801d76\",\"type\":\"ResetTool\"},{\"id\":\"535ca2e3-b4a7-44d2-b65e-4d6767655c1f\",\"type\":\"HelpTool\"}]},\"id\":\"9f019cf5-e423-4404-b0bf-7063676a29c4\",\"type\":\"Toolbar\"},{\"attributes\":{\"overlay\":{\"id\":\"4bc25a3b-1804-450e-9cb2-8606534902b1\",\"type\":\"BoxAnnotation\"}},\"id\":\"6ef8867e-0a59-4c41-b892-909586d0f711\",\"type\":\"BoxZoomTool\"},{\"attributes\":{},\"id\":\"aa2cbf30-f0af-4200-91d3-208f515cb9c8\",\"type\":\"SaveTool\"},{\"attributes\":{},\"id\":\"bb1dcdf7-a793-4f90-a3c8-c21f8b6b20fa\",\"type\":\"ResetTool\"},{\"attributes\":{},\"id\":\"216b563e-9deb-4c55-8e35-fe7f5bfb33bf\",\"type\":\"WheelZoomTool\"},{\"attributes\":{},\"id\":\"792d662a-e77c-4cd0-a157-f1fd6927d738\",\"type\":\"HelpTool\"},{\"attributes\":{},\"id\":\"7995243f-3d04-4cc2-b04c-ef924b0d6e7a\",\"type\":\"BasicTickFormatter\"},{\"attributes\":{},\"id\":\"6caf9803-5b00-4e6e-9d57-ba5016801d76\",\"type\":\"ResetTool\"},{\"attributes\":{},\"id\":\"535ca2e3-b4a7-44d2-b65e-4d6767655c1f\",\"type\":\"HelpTool\"},{\"attributes\":{},\"id\":\"dc033ae3-3069-4b15-9e2f-c20d39056e93\",\"type\":\"BasicTicker\"},{\"attributes\":{\"source\":{\"id\":\"6b6f962b-7131-43af-a5da-666890eaa4fa\",\"type\":\"ColumnDataSource\"}},\"id\":\"5c57ceec-a775-4245-be3d-93d82839e33d\",\"type\":\"CDSView\"},{\"attributes\":{},\"id\":\"35a0b349-1139-4dd3-b0e0-aa4162d6017f\",\"type\":\"Selection\"},{\"attributes\":{},\"id\":\"51b9542d-ab1c-49ca-aa0e-50fe632ff530\",\"type\":\"CategoricalTickFormatter\"},{\"attributes\":{\"source\":{\"id\":\"47a9a2e1-d18e-4192-b918-4b6391756b9a\",\"type\":\"ColumnDataSource\"}},\"id\":\"d40cd9ee-17ac-4f62-b6ee-ed1543e76594\",\"type\":\"CDSView\"},{\"attributes\":{\"children\":[{\"id\":\"1c3431f7-a739-4a07-9238-899b29538734\",\"type\":\"Row\"}]},\"id\":\"a2ffa28b-6bb9-4fda-885e-38187643b7f1\",\"type\":\"Column\"},{\"attributes\":{},\"id\":\"07f300f8-3426-44c0-b776-6f8957f64f18\",\"type\":\"CategoricalTicker\"},{\"attributes\":{\"axis_label\":\"spectral band\",\"formatter\":{\"id\":\"e214b4ed-09ab-4bae-9489-a745a3515a53\",\"type\":\"CategoricalTickFormatter\"},\"plot\":{\"id\":\"71af6ca6-a792-4d14-8cb5-ce1f02e9e066\",\"subtype\":\"Figure\",\"type\":\"Plot\"},\"ticker\":{\"id\":\"07f300f8-3426-44c0-b776-6f8957f64f18\",\"type\":\"CategoricalTicker\"}},\"id\":\"f9ac32c1-c129-4aa8-8d8a-88b3ceffbc2a\",\"type\":\"CategoricalAxis\"},{\"attributes\":{\"axis_label\":\"flux (W m-2)\",\"formatter\":{\"id\":\"6dcc35b1-fb60-4ae3-bf8b-6378e2b08048\",\"type\":\"BasicTickFormatter\"},\"plot\":{\"id\":\"09fdd10b-b0ec-4dd8-8ea1-685d09248a3c\",\"subtype\":\"Figure\",\"type\":\"Plot\"},\"ticker\":{\"id\":\"dc033ae3-3069-4b15-9e2f-c20d39056e93\",\"type\":\"BasicTicker\"}},\"id\":\"e5e4c93a-7a82-49de-a5a5-892ef91eaf86\",\"type\":\"LinearAxis\"},{\"attributes\":{\"plot\":{\"id\":\"882f5ba9-537f-4f42-bc3b-d6e4e671d6b9\",\"subtype\":\"Figure\",\"type\":\"Plot\"},\"ticker\":{\"id\":\"a166fd7f-41dc-4e2f-9cb7-9586238fa30e\",\"type\":\"CategoricalTicker\"}},\"id\":\"ed08965c-b631-4c59-b732-1fcefcc5eb78\",\"type\":\"Grid\"},{\"attributes\":{},\"id\":\"4f44ddcf-86e5-4be5-b143-c47e0817d358\",\"type\":\"UnionRenderers\"},{\"attributes\":{\"below\":[{\"id\":\"34fd8702-ddc9-4113-8185-394af7952511\",\"type\":\"CategoricalAxis\"}],\"left\":[{\"id\":\"1d071838-2f30-48d4-a5a3-5e4f15733207\",\"type\":\"LinearAxis\"}],\"plot_height\":300,\"plot_width\":300,\"renderers\":[{\"id\":\"34fd8702-ddc9-4113-8185-394af7952511\",\"type\":\"CategoricalAxis\"},{\"id\":\"ed08965c-b631-4c59-b732-1fcefcc5eb78\",\"type\":\"Grid\"},{\"id\":\"1d071838-2f30-48d4-a5a3-5e4f15733207\",\"type\":\"LinearAxis\"},{\"id\":\"24cb033b-6cd6-49aa-9ed5-10703f0c3075\",\"type\":\"Grid\"},{\"id\":\"4bc25a3b-1804-450e-9cb2-8606534902b1\",\"type\":\"BoxAnnotation\"},{\"id\":\"bc633260-e064-4505-a6c0-1c5397b14551\",\"type\":\"GlyphRenderer\"}],\"title\":{\"id\":\"9b424940-241e-48c2-be7e-a535addcdfe1\",\"type\":\"Title\"},\"toolbar\":{\"id\":\"9f019cf5-e423-4404-b0bf-7063676a29c4\",\"type\":\"Toolbar\"},\"toolbar_location\":null,\"x_range\":{\"id\":\"5e66fb7a-1be5-441d-b5bb-2c8909760d6f\",\"type\":\"FactorRange\"},\"x_scale\":{\"id\":\"508496fa-4b98-4717-8179-0e616381a5fa\",\"type\":\"CategoricalScale\"},\"y_range\":{\"id\":\"065b1c82-6d9a-4594-876a-ef1353f2be93\",\"type\":\"DataRange1d\"},\"y_scale\":{\"id\":\"b79c86a9-a32d-43b6-b01c-3429cb99e354\",\"type\":\"LinearScale\"}},\"id\":\"882f5ba9-537f-4f42-bc3b-d6e4e671d6b9\",\"subtype\":\"Figure\",\"type\":\"Plot\"},{\"attributes\":{},\"id\":\"f0a77380-1c7f-429e-8bd5-740936ab2a79\",\"type\":\"BasicTickFormatter\"},{\"attributes\":{\"callback\":null,\"data\":{\"band\":[\"3\",\"9\"],\"flux\":{\"__ndarray__\":\"AOo4hhl9eb8AgOdOGOOgvw==\",\"dtype\":\"float64\",\"shape\":[2]}},\"selected\":{\"id\":\"36050e3c-b0ae-47eb-83d7-41ece988b067\",\"type\":\"Selection\"},\"selection_policy\":{\"id\":\"af2442ff-c189-4a74-8ea3-a5e1b1d09ecd\",\"type\":\"UnionRenderers\"}},\"id\":\"3daf68bf-a875-4aff-ad1d-b93eedc65f6f\",\"type\":\"ColumnDataSource\"},{\"attributes\":{\"tools\":[{\"id\":\"c0615c83-7b0e-4b26-97fd-ff815ddddda4\",\"type\":\"PanTool\"},{\"id\":\"7fa21c28-d6f6-42b8-937d-a151e9f39abb\",\"type\":\"WheelZoomTool\"},{\"id\":\"3c28df3e-75ee-40ee-b980-1e16af143a3d\",\"type\":\"BoxZoomTool\"},{\"id\":\"aa2cbf30-f0af-4200-91d3-208f515cb9c8\",\"type\":\"SaveTool\"},{\"id\":\"bb1dcdf7-a793-4f90-a3c8-c21f8b6b20fa\",\"type\":\"ResetTool\"},{\"id\":\"792d662a-e77c-4cd0-a157-f1fd6927d738\",\"type\":\"HelpTool\"},{\"id\":\"681df8db-2333-448d-b55a-187157f951e8\",\"type\":\"PanTool\"},{\"id\":\"26e584fb-52f2-43ea-bcf7-4ffada53da78\",\"type\":\"WheelZoomTool\"},{\"id\":\"70f45df9-ddf5-4424-b00c-473cc1bb6798\",\"type\":\"BoxZoomTool\"},{\"id\":\"e1f873cc-f7bf-43ab-851a-2d4e5413f579\",\"type\":\"SaveTool\"},{\"id\":\"7ae05d29-2567-4939-9c5e-45cc83956ade\",\"type\":\"ResetTool\"},{\"id\":\"9dc3a3bb-b999-40f5-9f3c-f054b15edce8\",\"type\":\"HelpTool\"},{\"id\":\"041b76e0-0537-4737-a885-3abcb08a6d63\",\"type\":\"PanTool\"},{\"id\":\"216b563e-9deb-4c55-8e35-fe7f5bfb33bf\",\"type\":\"WheelZoomTool\"},{\"id\":\"6ef8867e-0a59-4c41-b892-909586d0f711\",\"type\":\"BoxZoomTool\"},{\"id\":\"6c2ba189-7756-47e6-b69b-c766d7c28322\",\"type\":\"SaveTool\"},{\"id\":\"6caf9803-5b00-4e6e-9d57-ba5016801d76\",\"type\":\"ResetTool\"},{\"id\":\"535ca2e3-b4a7-44d2-b65e-4d6767655c1f\",\"type\":\"HelpTool\"}]},\"id\":\"76a343fc-4845-4373-8a4d-f899d66d1016\",\"type\":\"ProxyToolbar\"},{\"attributes\":{},\"id\":\"1fd29361-b0d8-4dc7-8d2c-4a3a196d57a0\",\"type\":\"Selection\"},{\"attributes\":{\"callback\":null,\"data\":{\"band\":[\"3\",\"9\"],\"flux\":{\"__ndarray__\":\"AAwa6kUnqL+AkxhngInGPw==\",\"dtype\":\"float64\",\"shape\":[2]}},\"selected\":{\"id\":\"35a0b349-1139-4dd3-b0e0-aa4162d6017f\",\"type\":\"Selection\"},\"selection_policy\":{\"id\":\"4f44ddcf-86e5-4be5-b143-c47e0817d358\",\"type\":\"UnionRenderers\"}},\"id\":\"6b6f962b-7131-43af-a5da-666890eaa4fa\",\"type\":\"ColumnDataSource\"},{\"attributes\":{},\"id\":\"0532a658-1bf9-487e-a266-d8aa844258aa\",\"type\":\"CategoricalTickFormatter\"},{\"attributes\":{},\"id\":\"36050e3c-b0ae-47eb-83d7-41ece988b067\",\"type\":\"Selection\"},{\"attributes\":{},\"id\":\"6dcc35b1-fb60-4ae3-bf8b-6378e2b08048\",\"type\":\"BasicTickFormatter\"},{\"attributes\":{\"children\":[{\"id\":\"7dbe8f2e-14b2-462f-9e36-3506a7ae9209\",\"type\":\"ToolbarBox\"},{\"id\":\"a2ffa28b-6bb9-4fda-885e-38187643b7f1\",\"type\":\"Column\"}]},\"id\":\"cb07e390-5c0c-48d0-90a9-7d019c67f3be\",\"type\":\"Column\"},{\"attributes\":{},\"id\":\"d13a47e3-f1ae-4a4e-99d0-3d17064d51cf\",\"type\":\"LinearScale\"},{\"attributes\":{\"toolbar\":{\"id\":\"76a343fc-4845-4373-8a4d-f899d66d1016\",\"type\":\"ProxyToolbar\"},\"toolbar_location\":\"above\"},\"id\":\"7dbe8f2e-14b2-462f-9e36-3506a7ae9209\",\"type\":\"ToolbarBox\"},{\"attributes\":{\"below\":[{\"id\":\"3957d760-2173-4f6c-a2cc-cf0d05d108ea\",\"type\":\"CategoricalAxis\"}],\"left\":[{\"id\":\"e5e4c93a-7a82-49de-a5a5-892ef91eaf86\",\"type\":\"LinearAxis\"}],\"plot_height\":300,\"plot_width\":300,\"renderers\":[{\"id\":\"3957d760-2173-4f6c-a2cc-cf0d05d108ea\",\"type\":\"CategoricalAxis\"},{\"id\":\"026b65ef-857e-42b1-a0bb-5eee96fd5093\",\"type\":\"Grid\"},{\"id\":\"e5e4c93a-7a82-49de-a5a5-892ef91eaf86\",\"type\":\"LinearAxis\"},{\"id\":\"5f7678c5-5146-420f-b7b4-e2d8c3f9e1c9\",\"type\":\"Grid\"},{\"id\":\"26f0805f-f188-41fc-abad-9ea0426b8084\",\"type\":\"BoxAnnotation\"},{\"id\":\"fa091b92-3e05-4aa6-9147-0c27f9b1356c\",\"type\":\"GlyphRenderer\"}],\"title\":{\"id\":\"0e124071-8303-476e-9cd2-a38bfb8e87f8\",\"type\":\"Title\"},\"toolbar\":{\"id\":\"dd9dc7f8-70de-434a-a510-188e0111f7f5\",\"type\":\"Toolbar\"},\"toolbar_location\":null,\"x_range\":{\"id\":\"491b4782-bc19-4dcb-9f13-b8861a8eab98\",\"type\":\"FactorRange\"},\"x_scale\":{\"id\":\"4d1e96d9-348f-4da3-9fe6-0c38054bf064\",\"type\":\"CategoricalScale\"},\"y_range\":{\"id\":\"35dae253-cd68-424f-8469-e8fe5b33340f\",\"type\":\"DataRange1d\"},\"y_scale\":{\"id\":\"169bec6b-872f-4aed-a84b-44b1b35d0156\",\"type\":\"LinearScale\"}},\"id\":\"09fdd10b-b0ec-4dd8-8ea1-685d09248a3c\",\"subtype\":\"Figure\",\"type\":\"Plot\"},{\"attributes\":{},\"id\":\"410407ed-34ab-45e2-b70f-804e20aa91c0\",\"type\":\"UnionRenderers\"},{\"attributes\":{\"callback\":null,\"factors\":[\"3\",\"9\"]},\"id\":\"5e66fb7a-1be5-441d-b5bb-2c8909760d6f\",\"type\":\"FactorRange\"},{\"attributes\":{\"active_drag\":\"auto\",\"active_inspect\":\"auto\",\"active_scroll\":\"auto\",\"active_tap\":\"auto\",\"tools\":[{\"id\":\"c0615c83-7b0e-4b26-97fd-ff815ddddda4\",\"type\":\"PanTool\"},{\"id\":\"7fa21c28-d6f6-42b8-937d-a151e9f39abb\",\"type\":\"WheelZoomTool\"},{\"id\":\"3c28df3e-75ee-40ee-b980-1e16af143a3d\",\"type\":\"BoxZoomTool\"},{\"id\":\"aa2cbf30-f0af-4200-91d3-208f515cb9c8\",\"type\":\"SaveTool\"},{\"id\":\"bb1dcdf7-a793-4f90-a3c8-c21f8b6b20fa\",\"type\":\"ResetTool\"},{\"id\":\"792d662a-e77c-4cd0-a157-f1fd6927d738\",\"type\":\"HelpTool\"}]},\"id\":\"f408956d-e22b-4566-b47c-8d34de3d5053\",\"type\":\"Toolbar\"},{\"attributes\":{\"axis_label\":\"spectral band\",\"formatter\":{\"id\":\"0532a658-1bf9-487e-a266-d8aa844258aa\",\"type\":\"CategoricalTickFormatter\"},\"plot\":{\"id\":\"09fdd10b-b0ec-4dd8-8ea1-685d09248a3c\",\"subtype\":\"Figure\",\"type\":\"Plot\"},\"ticker\":{\"id\":\"45748505-1f77-489d-950a-5ba0ecef6c38\",\"type\":\"CategoricalTicker\"}},\"id\":\"3957d760-2173-4f6c-a2cc-cf0d05d108ea\",\"type\":\"CategoricalAxis\"},{\"attributes\":{\"callback\":null,\"data\":{\"band\":[\"3\",\"9\"],\"flux\":{\"__ndarray__\":\"AMx81k73pL8AkWt9cMLKPw==\",\"dtype\":\"float64\",\"shape\":[2]}},\"selected\":{\"id\":\"1fd29361-b0d8-4dc7-8d2c-4a3a196d57a0\",\"type\":\"Selection\"},\"selection_policy\":{\"id\":\"410407ed-34ab-45e2-b70f-804e20aa91c0\",\"type\":\"UnionRenderers\"}},\"id\":\"47a9a2e1-d18e-4192-b918-4b6391756b9a\",\"type\":\"ColumnDataSource\"},{\"attributes\":{},\"id\":\"508496fa-4b98-4717-8179-0e616381a5fa\",\"type\":\"CategoricalScale\"},{\"attributes\":{},\"id\":\"4d1e96d9-348f-4da3-9fe6-0c38054bf064\",\"type\":\"CategoricalScale\"},{\"attributes\":{},\"id\":\"af2442ff-c189-4a74-8ea3-a5e1b1d09ecd\",\"type\":\"UnionRenderers\"},{\"attributes\":{\"plot\":null,\"text\":\"SFC flux. CLIRAD - CRD.\"},\"id\":\"0e124071-8303-476e-9cd2-a38bfb8e87f8\",\"type\":\"Title\"},{\"attributes\":{\"plot\":{\"id\":\"09fdd10b-b0ec-4dd8-8ea1-685d09248a3c\",\"subtype\":\"Figure\",\"type\":\"Plot\"},\"ticker\":{\"id\":\"45748505-1f77-489d-950a-5ba0ecef6c38\",\"type\":\"CategoricalTicker\"}},\"id\":\"026b65ef-857e-42b1-a0bb-5eee96fd5093\",\"type\":\"Grid\"},{\"attributes\":{},\"id\":\"169bec6b-872f-4aed-a84b-44b1b35d0156\",\"type\":\"LinearScale\"},{\"attributes\":{\"below\":[{\"id\":\"f9ac32c1-c129-4aa8-8d8a-88b3ceffbc2a\",\"type\":\"CategoricalAxis\"}],\"left\":[{\"id\":\"adbd6a51-a4c3-4edc-aa24-971cc3da8055\",\"type\":\"LinearAxis\"}],\"plot_height\":300,\"plot_width\":300,\"renderers\":[{\"id\":\"f9ac32c1-c129-4aa8-8d8a-88b3ceffbc2a\",\"type\":\"CategoricalAxis\"},{\"id\":\"070503dd-d3d4-4b65-98aa-8449984c7a7e\",\"type\":\"Grid\"},{\"id\":\"adbd6a51-a4c3-4edc-aa24-971cc3da8055\",\"type\":\"LinearAxis\"},{\"id\":\"886fa4a7-380d-4a11-82e5-ad614acb78cb\",\"type\":\"Grid\"},{\"id\":\"639dd93a-c8df-41f7-9f54-64dfe8017bf6\",\"type\":\"BoxAnnotation\"},{\"id\":\"8750cc5c-0d46-41d3-b027-37eb6ca5c738\",\"type\":\"GlyphRenderer\"}],\"title\":{\"id\":\"c14322cd-6e1e-4c4a-81e2-0168954d84a7\",\"type\":\"Title\"},\"toolbar\":{\"id\":\"f408956d-e22b-4566-b47c-8d34de3d5053\",\"type\":\"Toolbar\"},\"toolbar_location\":null,\"x_range\":{\"id\":\"9f211c6b-f8d0-4dce-a439-98cbaa8648e6\",\"type\":\"FactorRange\"},\"x_scale\":{\"id\":\"b21b597b-129a-43be-ad80-de559e39a7ac\",\"type\":\"CategoricalScale\"},\"y_range\":{\"id\":\"d7c52f8d-289c-4a55-a732-713ca9c1c482\",\"type\":\"DataRange1d\"},\"y_scale\":{\"id\":\"d13a47e3-f1ae-4a4e-99d0-3d17064d51cf\",\"type\":\"LinearScale\"}},\"id\":\"71af6ca6-a792-4d14-8cb5-ce1f02e9e066\",\"subtype\":\"Figure\",\"type\":\"Plot\"},{\"attributes\":{},\"id\":\"b21b597b-129a-43be-ad80-de559e39a7ac\",\"type\":\"CategoricalScale\"},{\"attributes\":{\"callback\":null},\"id\":\"35dae253-cd68-424f-8469-e8fe5b33340f\",\"type\":\"DataRange1d\"},{\"attributes\":{\"plot\":{\"id\":\"71af6ca6-a792-4d14-8cb5-ce1f02e9e066\",\"subtype\":\"Figure\",\"type\":\"Plot\"},\"ticker\":{\"id\":\"07f300f8-3426-44c0-b776-6f8957f64f18\",\"type\":\"CategoricalTicker\"}},\"id\":\"070503dd-d3d4-4b65-98aa-8449984c7a7e\",\"type\":\"Grid\"},{\"attributes\":{\"fill_alpha\":{\"value\":0.1},\"fill_color\":{\"value\":\"#1f77b4\"},\"line_alpha\":{\"value\":0.1},\"line_color\":{\"value\":\"#1f77b4\"},\"top\":{\"field\":\"flux\"},\"width\":{\"value\":0.9},\"x\":{\"field\":\"band\"}},\"id\":\"b8651759-9bdd-4b92-8e52-2bab2d16b718\",\"type\":\"VBar\"},{\"attributes\":{\"callback\":null},\"id\":\"065b1c82-6d9a-4594-876a-ef1353f2be93\",\"type\":\"DataRange1d\"},{\"attributes\":{\"dimension\":1,\"plot\":{\"id\":\"09fdd10b-b0ec-4dd8-8ea1-685d09248a3c\",\"subtype\":\"Figure\",\"type\":\"Plot\"},\"ticker\":{\"id\":\"dc033ae3-3069-4b15-9e2f-c20d39056e93\",\"type\":\"BasicTicker\"}},\"id\":\"5f7678c5-5146-420f-b7b4-e2d8c3f9e1c9\",\"type\":\"Grid\"},{\"attributes\":{},\"id\":\"45748505-1f77-489d-950a-5ba0ecef6c38\",\"type\":\"CategoricalTicker\"},{\"attributes\":{\"plot\":null,\"text\":\"Atmosphere heating. CLIRAD - CRD.\"},\"id\":\"9b424940-241e-48c2-be7e-a535addcdfe1\",\"type\":\"Title\"},{\"attributes\":{\"callback\":null,\"factors\":[\"3\",\"9\"]},\"id\":\"491b4782-bc19-4dcb-9f13-b8861a8eab98\",\"type\":\"FactorRange\"},{\"attributes\":{\"source\":{\"id\":\"3daf68bf-a875-4aff-ad1d-b93eedc65f6f\",\"type\":\"ColumnDataSource\"}},\"id\":\"1de3f979-4c70-4344-8866-156704e5862c\",\"type\":\"CDSView\"},{\"attributes\":{\"fill_color\":{\"value\":\"#1f77b4\"},\"line_color\":{\"value\":\"#1f77b4\"},\"top\":{\"field\":\"flux\"},\"width\":{\"value\":0.9},\"x\":{\"field\":\"band\"}},\"id\":\"9f480e43-7ad2-4b22-b5f2-05a00caf562a\",\"type\":\"VBar\"},{\"attributes\":{\"axis_label\":\"flux (W m-2)\",\"formatter\":{\"id\":\"7995243f-3d04-4cc2-b04c-ef924b0d6e7a\",\"type\":\"BasicTickFormatter\"},\"plot\":{\"id\":\"882f5ba9-537f-4f42-bc3b-d6e4e671d6b9\",\"subtype\":\"Figure\",\"type\":\"Plot\"},\"ticker\":{\"id\":\"63071335-da32-426c-8204-42e7c4a59deb\",\"type\":\"BasicTicker\"}},\"id\":\"1d071838-2f30-48d4-a5a3-5e4f15733207\",\"type\":\"LinearAxis\"},{\"attributes\":{\"data_source\":{\"id\":\"3daf68bf-a875-4aff-ad1d-b93eedc65f6f\",\"type\":\"ColumnDataSource\"},\"glyph\":{\"id\":\"9f480e43-7ad2-4b22-b5f2-05a00caf562a\",\"type\":\"VBar\"},\"hover_glyph\":null,\"muted_glyph\":null,\"nonselection_glyph\":{\"id\":\"b8651759-9bdd-4b92-8e52-2bab2d16b718\",\"type\":\"VBar\"},\"selection_glyph\":null,\"view\":{\"id\":\"1de3f979-4c70-4344-8866-156704e5862c\",\"type\":\"CDSView\"}},\"id\":\"fa091b92-3e05-4aa6-9147-0c27f9b1356c\",\"type\":\"GlyphRenderer\"},{\"attributes\":{\"axis_label\":\"spectral band\",\"formatter\":{\"id\":\"51b9542d-ab1c-49ca-aa0e-50fe632ff530\",\"type\":\"CategoricalTickFormatter\"},\"plot\":{\"id\":\"882f5ba9-537f-4f42-bc3b-d6e4e671d6b9\",\"subtype\":\"Figure\",\"type\":\"Plot\"},\"ticker\":{\"id\":\"a166fd7f-41dc-4e2f-9cb7-9586238fa30e\",\"type\":\"CategoricalTicker\"}},\"id\":\"34fd8702-ddc9-4113-8185-394af7952511\",\"type\":\"CategoricalAxis\"},{\"attributes\":{\"plot\":null,\"text\":\"TOA flux. CLIRAD - CRD.\"},\"id\":\"c14322cd-6e1e-4c4a-81e2-0168954d84a7\",\"type\":\"Title\"},{\"attributes\":{},\"id\":\"09c4d117-b568-46bc-99de-bebe96a64cb9\",\"type\":\"BasicTicker\"},{\"attributes\":{},\"id\":\"a166fd7f-41dc-4e2f-9cb7-9586238fa30e\",\"type\":\"CategoricalTicker\"},{\"attributes\":{\"callback\":null,\"factors\":[\"3\",\"9\"]},\"id\":\"9f211c6b-f8d0-4dce-a439-98cbaa8648e6\",\"type\":\"FactorRange\"},{\"attributes\":{\"overlay\":{\"id\":\"26f0805f-f188-41fc-abad-9ea0426b8084\",\"type\":\"BoxAnnotation\"}},\"id\":\"70f45df9-ddf5-4424-b00c-473cc1bb6798\",\"type\":\"BoxZoomTool\"},{\"attributes\":{},\"id\":\"b79c86a9-a32d-43b6-b01c-3429cb99e354\",\"type\":\"LinearScale\"},{\"attributes\":{},\"id\":\"26e584fb-52f2-43ea-bcf7-4ffada53da78\",\"type\":\"WheelZoomTool\"},{\"attributes\":{\"callback\":null},\"id\":\"d7c52f8d-289c-4a55-a732-713ca9c1c482\",\"type\":\"DataRange1d\"},{\"attributes\":{},\"id\":\"681df8db-2333-448d-b55a-187157f951e8\",\"type\":\"PanTool\"}],\"root_ids\":[\"cb07e390-5c0c-48d0-90a9-7d019c67f3be\"]},\"title\":\"Bokeh Application\",\"version\":\"0.12.16\"}};\n",
       "  var render_items = [{\"docid\":\"11d38aa9-712a-4f7b-84f3-d10f85288c6a\",\"elementid\":\"141747fb-eace-4b03-a8fb-9cbd8aeb328a\",\"modelid\":\"cb07e390-5c0c-48d0-90a9-7d019c67f3be\"}];\n",
       "  root.Bokeh.embed.embed_items_notebook(docs_json, render_items);\n",
       "\n",
       "  }\n",
       "  if (root.Bokeh !== undefined) {\n",
       "    embed_document(root);\n",
       "  } else {\n",
       "    var attempts = 0;\n",
       "    var timer = setInterval(function(root) {\n",
       "      if (root.Bokeh !== undefined) {\n",
       "        embed_document(root);\n",
       "        clearInterval(timer);\n",
       "      }\n",
       "      attempts++;\n",
       "      if (attempts > 100) {\n",
       "        console.log(\"Bokeh: ERROR: Unable to run BokehJS code because BokehJS library is missing\")\n",
       "        clearInterval(timer);\n",
       "      }\n",
       "    }, 10, root)\n",
       "  }\n",
       "})(window);"
      ],
      "application/vnd.bokehjs_exec.v0+json": ""
     },
     "metadata": {
      "application/vnd.bokehjs_exec.v0+json": {
       "id": "cb07e390-5c0c-48d0-90a9-7d019c67f3be"
      }
     },
     "output_type": "display_data"
    },
    {
     "data": {
      "text/markdown": [
       "*FIGURE.* Difference between CLIRAD and CRD in TOA, SFC and net atmosphere flux, in each spectral band."
      ],
      "text/plain": [
       "<IPython.core.display.Markdown object>"
      ]
     },
     "metadata": {},
     "output_type": "display_data"
    },
    {
     "data": {
      "text/html": [
       "<div>\n",
       "<style scoped>\n",
       "    .dataframe tbody tr th:only-of-type {\n",
       "        vertical-align: middle;\n",
       "    }\n",
       "\n",
       "    .dataframe tbody tr th {\n",
       "        vertical-align: top;\n",
       "    }\n",
       "\n",
       "    .dataframe thead th {\n",
       "        text-align: right;\n",
       "    }\n",
       "</style>\n",
       "<table border=\"1\" class=\"dataframe\">\n",
       "  <thead>\n",
       "    <tr style=\"text-align: right;\">\n",
       "      <th></th>\n",
       "      <th>OLR flux</th>\n",
       "      <th>SFC flux</th>\n",
       "      <th>ATM heating</th>\n",
       "    </tr>\n",
       "    <tr>\n",
       "      <th>Sum over bands</th>\n",
       "      <th></th>\n",
       "      <th></th>\n",
       "      <th></th>\n",
       "    </tr>\n",
       "  </thead>\n",
       "  <tbody>\n",
       "    <tr>\n",
       "      <th>CLIRAD - CRD</th>\n",
       "      <td>0.13</td>\n",
       "      <td>-0.04</td>\n",
       "      <td>0.17</td>\n",
       "    </tr>\n",
       "    <tr>\n",
       "      <th>CRD</th>\n",
       "      <td>-55.89</td>\n",
       "      <td>6.49</td>\n",
       "      <td>-2.39</td>\n",
       "    </tr>\n",
       "  </tbody>\n",
       "</table>\n",
       "</div>"
      ],
      "text/plain": [
       "                OLR flux  SFC flux  ATM heating\n",
       "Sum over bands                                 \n",
       "CLIRAD - CRD        0.13     -0.04         0.17\n",
       "CRD               -55.89      6.49        -2.39"
      ]
     },
     "metadata": {},
     "output_type": "display_data"
    },
    {
     "data": {
      "text/markdown": [
       "*TABLE.* Difference between CLIRAD and CRD in TOA, SFC and net atmosphere flux, over all spectral bands. CRD's TOA, SFC and net atmosphere flux, over all spectral bands."
      ],
      "text/plain": [
       "<IPython.core.display.Markdown object>"
      ]
     },
     "metadata": {},
     "output_type": "display_data"
    },
    {
     "data": {
      "text/html": [
       "<a id=\"Parameters_of_runs._saw\"></a>"
      ],
      "text/plain": [
       "<IPython.core.display.HTML object>"
      ]
     },
     "metadata": {},
     "output_type": "display_data"
    },
    {
     "data": {
      "text/markdown": [
       "# Parameters of runs. saw"
      ],
      "text/plain": [
       "<IPython.core.display.Markdown object>"
      ]
     },
     "metadata": {},
     "output_type": "display_data"
    },
    {
     "data": {
      "text/html": [
       "<div>\n",
       "<style scoped>\n",
       "    .dataframe tbody tr th:only-of-type {\n",
       "        vertical-align: middle;\n",
       "    }\n",
       "\n",
       "    .dataframe tbody tr th {\n",
       "        vertical-align: top;\n",
       "    }\n",
       "\n",
       "    .dataframe thead tr th {\n",
       "        text-align: left;\n",
       "    }\n",
       "</style>\n",
       "<table border=\"1\" class=\"dataframe\">\n",
       "  <thead>\n",
       "    <tr>\n",
       "      <th></th>\n",
       "      <th>clirad-lw</th>\n",
       "      <th colspan=\"2\" halign=\"left\">lblnew-bestfit lw</th>\n",
       "    </tr>\n",
       "    <tr>\n",
       "      <th></th>\n",
       "      <th>:D</th>\n",
       "      <th>band3a n2o</th>\n",
       "      <th>band7 n2o</th>\n",
       "    </tr>\n",
       "  </thead>\n",
       "  <tbody>\n",
       "    <tr>\n",
       "      <th>atmpro</th>\n",
       "      <td>saw</td>\n",
       "      <td>saw</td>\n",
       "      <td>saw</td>\n",
       "    </tr>\n",
       "    <tr>\n",
       "      <th>band</th>\n",
       "      <td>[3, 9]</td>\n",
       "      <td>3a</td>\n",
       "      <td>7</td>\n",
       "    </tr>\n",
       "    <tr>\n",
       "      <th>commitnumber</th>\n",
       "      <td>1013f91</td>\n",
       "      <td>5014a19</td>\n",
       "      <td>5014a19</td>\n",
       "    </tr>\n",
       "    <tr>\n",
       "      <th>conc</th>\n",
       "      <td>-</td>\n",
       "      <td>3.2e-07</td>\n",
       "      <td>3.2e-07</td>\n",
       "    </tr>\n",
       "    <tr>\n",
       "      <th>dv</th>\n",
       "      <td>-</td>\n",
       "      <td>0.001</td>\n",
       "      <td>0.001</td>\n",
       "    </tr>\n",
       "    <tr>\n",
       "      <th>klin</th>\n",
       "      <td>-</td>\n",
       "      <td>2.22e-20</td>\n",
       "      <td>2.22e-20</td>\n",
       "    </tr>\n",
       "    <tr>\n",
       "      <th>molecule</th>\n",
       "      <td>{'n2o': 3.2e-07}</td>\n",
       "      <td>n2o</td>\n",
       "      <td>n2o</td>\n",
       "    </tr>\n",
       "    <tr>\n",
       "      <th>ng_adju</th>\n",
       "      <td>-</td>\n",
       "      <td>[0, 0]</td>\n",
       "      <td>[0, 0]</td>\n",
       "    </tr>\n",
       "    <tr>\n",
       "      <th>ng_refs</th>\n",
       "      <td>-</td>\n",
       "      <td>[1, 2]</td>\n",
       "      <td>[2, 2]</td>\n",
       "    </tr>\n",
       "    <tr>\n",
       "      <th>nv</th>\n",
       "      <td>-</td>\n",
       "      <td>1000</td>\n",
       "      <td>1000</td>\n",
       "    </tr>\n",
       "    <tr>\n",
       "      <th>option_compute_btable</th>\n",
       "      <td>-</td>\n",
       "      <td>0</td>\n",
       "      <td>0</td>\n",
       "    </tr>\n",
       "    <tr>\n",
       "      <th>option_compute_ktable</th>\n",
       "      <td>-</td>\n",
       "      <td>0</td>\n",
       "      <td>0</td>\n",
       "    </tr>\n",
       "    <tr>\n",
       "      <th>option_wgt_flux</th>\n",
       "      <td>-</td>\n",
       "      <td>1</td>\n",
       "      <td>1</td>\n",
       "    </tr>\n",
       "    <tr>\n",
       "      <th>option_wgt_k</th>\n",
       "      <td>-</td>\n",
       "      <td>1</td>\n",
       "      <td>1</td>\n",
       "    </tr>\n",
       "    <tr>\n",
       "      <th>ref_pts</th>\n",
       "      <td>-</td>\n",
       "      <td>[[1, 250], [500, 250]]</td>\n",
       "      <td>[[1, 250], [500, 250]]</td>\n",
       "    </tr>\n",
       "    <tr>\n",
       "      <th>tsfc</th>\n",
       "      <td>257</td>\n",
       "      <td>257</td>\n",
       "      <td>257</td>\n",
       "    </tr>\n",
       "    <tr>\n",
       "      <th>vmax</th>\n",
       "      <td>-</td>\n",
       "      <td>620</td>\n",
       "      <td>1380</td>\n",
       "    </tr>\n",
       "    <tr>\n",
       "      <th>vmin</th>\n",
       "      <td>-</td>\n",
       "      <td>540</td>\n",
       "      <td>1215</td>\n",
       "    </tr>\n",
       "    <tr>\n",
       "      <th>w_diffuse</th>\n",
       "      <td>-</td>\n",
       "      <td>[[1.8], [1.66, 1.8]]</td>\n",
       "      <td>[[1.8, 1.66], [1.6, 1.8]]</td>\n",
       "    </tr>\n",
       "    <tr>\n",
       "      <th>wgt</th>\n",
       "      <td>-</td>\n",
       "      <td>[[0.9], [0.5, 0.95]]</td>\n",
       "      <td>[[0.6, 0.5], [0.6, 0.9]]</td>\n",
       "    </tr>\n",
       "  </tbody>\n",
       "</table>\n",
       "</div>"
      ],
      "text/plain": [
       "                              clirad-lw       lblnew-bestfit lw  \\\n",
       "                                     :D              band3a n2o   \n",
       "atmpro                              saw                     saw   \n",
       "band                             [3, 9]                      3a   \n",
       "commitnumber                    1013f91                 5014a19   \n",
       "conc                                  -                 3.2e-07   \n",
       "dv                                    -                   0.001   \n",
       "klin                                  -                2.22e-20   \n",
       "molecule               {'n2o': 3.2e-07}                     n2o   \n",
       "ng_adju                               -                  [0, 0]   \n",
       "ng_refs                               -                  [1, 2]   \n",
       "nv                                    -                    1000   \n",
       "option_compute_btable                 -                       0   \n",
       "option_compute_ktable                 -                       0   \n",
       "option_wgt_flux                       -                       1   \n",
       "option_wgt_k                          -                       1   \n",
       "ref_pts                               -  [[1, 250], [500, 250]]   \n",
       "tsfc                                257                     257   \n",
       "vmax                                  -                     620   \n",
       "vmin                                  -                     540   \n",
       "w_diffuse                             -    [[1.8], [1.66, 1.8]]   \n",
       "wgt                                   -    [[0.9], [0.5, 0.95]]   \n",
       "\n",
       "                                                  \n",
       "                                       band7 n2o  \n",
       "atmpro                                       saw  \n",
       "band                                           7  \n",
       "commitnumber                             5014a19  \n",
       "conc                                     3.2e-07  \n",
       "dv                                         0.001  \n",
       "klin                                    2.22e-20  \n",
       "molecule                                     n2o  \n",
       "ng_adju                                   [0, 0]  \n",
       "ng_refs                                   [2, 2]  \n",
       "nv                                          1000  \n",
       "option_compute_btable                          0  \n",
       "option_compute_ktable                          0  \n",
       "option_wgt_flux                                1  \n",
       "option_wgt_k                                   1  \n",
       "ref_pts                   [[1, 250], [500, 250]]  \n",
       "tsfc                                         257  \n",
       "vmax                                        1380  \n",
       "vmin                                        1215  \n",
       "w_diffuse              [[1.8, 1.66], [1.6, 1.8]]  \n",
       "wgt                     [[0.6, 0.5], [0.6, 0.9]]  "
      ]
     },
     "metadata": {},
     "output_type": "display_data"
    },
    {
     "data": {
      "text/html": [
       "<a id=\"Cooling_rates._saw.\"></a>"
      ],
      "text/plain": [
       "<IPython.core.display.HTML object>"
      ]
     },
     "metadata": {},
     "output_type": "display_data"
    },
    {
     "data": {
      "text/markdown": [
       "# Cooling rates. saw."
      ],
      "text/plain": [
       "<IPython.core.display.Markdown object>"
      ]
     },
     "metadata": {},
     "output_type": "display_data"
    },
    {
     "data": {
      "text/html": [
       "\n",
       "<div class=\"bk-root\">\n",
       "    <div class=\"bk-plotdiv\" id=\"215d2855-ce60-4117-87cf-422e82235012\"></div>\n",
       "</div>"
      ]
     },
     "metadata": {},
     "output_type": "display_data"
    },
    {
     "data": {
      "application/javascript": [
       "(function(root) {\n",
       "  function embed_document(root) {\n",
       "    \n",
       "  var docs_json = {\"d3d57d25-5e07-4c3d-87b0-063d2623a0b2\":{\"roots\":{\"references\":[{\"attributes\":{\"data_source\":{\"id\":\"80ba1a70-6fc0-4fc9-a3f6-c240317b26e4\",\"type\":\"ColumnDataSource\"},\"glyph\":{\"id\":\"1c10e9a4-bd4e-417d-a651-4a6c458ab5f5\",\"type\":\"Circle\"},\"hover_glyph\":null,\"muted_glyph\":null,\"nonselection_glyph\":{\"id\":\"62b11e9c-88d1-401f-8c58-ede162f39393\",\"type\":\"Circle\"},\"selection_glyph\":null,\"view\":{\"id\":\"78497376-6f1a-48a2-a595-504913f68c14\",\"type\":\"CDSView\"}},\"id\":\"6a9599f9-a855-458f-8a5d-5ba647e1c7bb\",\"type\":\"GlyphRenderer\"},{\"attributes\":{\"callback\":null,\"end\":0.12795630379050002,\"start\":-0.0062969265405},\"id\":\"1c6f91b9-17d7-48ed-a6c5-bcc06c399e46\",\"type\":\"Range1d\"},{\"attributes\":{\"label\":{\"value\":\"CLIRAD - CRD\"},\"renderers\":[{\"id\":\"6a9599f9-a855-458f-8a5d-5ba647e1c7bb\",\"type\":\"GlyphRenderer\"},{\"id\":\"b06001ba-2d81-46cb-b6cf-d1bb2d50560a\",\"type\":\"GlyphRenderer\"}]},\"id\":\"40de2d63-f2ed-4fbb-b593-29d0c0d7bb62\",\"type\":\"LegendItem\"},{\"attributes\":{},\"id\":\"29245b68-1e79-40e8-887e-0e5de87ed901\",\"type\":\"UnionRenderers\"},{\"attributes\":{\"line_alpha\":0.6,\"line_color\":\"#e41a1c\",\"line_dash\":[6],\"line_width\":5,\"x\":{\"field\":\"x\"},\"y\":{\"field\":\"y\"}},\"id\":\"5334a162-5739-4f8f-b838-004d81b74e13\",\"type\":\"Line\"},{\"attributes\":{\"callback\":null,\"end\":0.01,\"start\":1020},\"id\":\"1068007a-81aa-4e20-bbbc-81fd0d5acdbc\",\"type\":\"Range1d\"},{\"attributes\":{\"active_drag\":\"auto\",\"active_inspect\":\"auto\",\"active_scroll\":\"auto\",\"active_tap\":\"auto\",\"tools\":[{\"id\":\"536f8e12-d54a-4a08-9d92-ebab95010d03\",\"type\":\"PanTool\"},{\"id\":\"c2356ee3-9eb5-48ef-abf5-bf4eb2d6d4ad\",\"type\":\"WheelZoomTool\"},{\"id\":\"66abb8b2-7066-4453-8919-5c401324bff2\",\"type\":\"BoxZoomTool\"},{\"id\":\"3b815bc2-87cc-46c6-9d87-715979bc8162\",\"type\":\"SaveTool\"},{\"id\":\"f2df1f9a-1b73-4a90-ada2-a07cdce3169f\",\"type\":\"ResetTool\"},{\"id\":\"0cc9f169-a3c4-4fef-ae5c-03909bb2a1f5\",\"type\":\"HelpTool\"}]},\"id\":\"a7e0686b-2a34-48f6-a6d3-c1759b0d66f4\",\"type\":\"Toolbar\"},{\"attributes\":{\"line_alpha\":0.8,\"line_color\":\"#984ea3\",\"line_width\":1.5,\"x\":{\"field\":\"x\"},\"y\":{\"field\":\"y\"}},\"id\":\"650257dc-5ded-4c60-8081-4355a2cc8bf2\",\"type\":\"Line\"},{\"attributes\":{},\"id\":\"ff70925a-fa2f-4ac6-9483-0eaa7126f0a1\",\"type\":\"BasicTicker\"},{\"attributes\":{},\"id\":\"4099119e-3bc7-4ad8-92f8-161d2d2dec09\",\"type\":\"UnionRenderers\"},{\"attributes\":{\"bottom_units\":\"screen\",\"fill_alpha\":{\"value\":0.5},\"fill_color\":{\"value\":\"lightgrey\"},\"left_units\":\"screen\",\"level\":\"overlay\",\"line_alpha\":{\"value\":1.0},\"line_color\":{\"value\":\"black\"},\"line_dash\":[4,4],\"line_width\":{\"value\":2},\"plot\":null,\"render_mode\":\"css\",\"right_units\":\"screen\",\"top_units\":\"screen\"},\"id\":\"c85f6edc-4b76-45d1-bec4-20b6a8dae451\",\"type\":\"BoxAnnotation\"},{\"attributes\":{},\"id\":\"2181d849-7198-4d14-908d-3642e2b94b6e\",\"type\":\"LinearScale\"},{\"attributes\":{},\"id\":\"cb4b31a9-0551-44e5-a948-6d56e37f6a25\",\"type\":\"BasicTickFormatter\"},{\"attributes\":{},\"id\":\"8b43080c-a113-4a55-8540-600711ba2cd4\",\"type\":\"BasicTickFormatter\"},{\"attributes\":{\"fill_alpha\":{\"value\":0.7},\"fill_color\":{\"value\":\"#4daf4a\"},\"line_alpha\":{\"value\":0.7},\"line_color\":{\"value\":\"#4daf4a\"},\"x\":{\"field\":\"x\"},\"y\":{\"field\":\"y\"}},\"id\":\"5468504a-e715-4c00-b3d1-3dccf7d6c352\",\"type\":\"Circle\"},{\"attributes\":{},\"id\":\"f4cf9270-42fb-48d6-aa20-3f24a72936a4\",\"type\":\"Selection\"},{\"attributes\":{\"label\":{\"value\":\"CRD\"},\"renderers\":[{\"id\":\"f81a405e-e0c5-452c-b753-b9d6789e7e47\",\"type\":\"GlyphRenderer\"},{\"id\":\"60950a3d-11e6-442f-a56d-9728805cb638\",\"type\":\"GlyphRenderer\"}]},\"id\":\"bb76e842-10c9-43f2-82f6-55d523e468b1\",\"type\":\"LegendItem\"},{\"attributes\":{},\"id\":\"9aa0f011-ec0a-489b-b23b-544bee9208cd\",\"type\":\"Selection\"},{\"attributes\":{},\"id\":\"536f8e12-d54a-4a08-9d92-ebab95010d03\",\"type\":\"PanTool\"},{\"attributes\":{},\"id\":\"82dbb307-6b2c-4ffc-af36-7fb3f28bca94\",\"type\":\"LinearScale\"},{\"attributes\":{\"source\":{\"id\":\"a84f73b1-595f-434f-86ee-9b2a2eb27282\",\"type\":\"ColumnDataSource\"}},\"id\":\"dff0dc1c-2311-4db6-a337-e42b6c201e41\",\"type\":\"CDSView\"},{\"attributes\":{\"fill_alpha\":{\"value\":0.1},\"fill_color\":{\"value\":\"#1f77b4\"},\"line_alpha\":{\"value\":0.1},\"line_color\":{\"value\":\"#1f77b4\"},\"x\":{\"field\":\"x\"},\"y\":{\"field\":\"y\"}},\"id\":\"62b11e9c-88d1-401f-8c58-ede162f39393\",\"type\":\"Circle\"},{\"attributes\":{\"callback\":null,\"data\":{\"x\":{\"__ndarray__\":\"tGYmkisue7+p/4mR02Bxv+7ta5GaCE0/K5BmoFN4ej8pd9CRuX6JP6zgsHBfUpM/iLnqeA5Wmj/iPmqkDemgP2upnKg956Q/RmbO8wMoqT8rz3mlG6ytP4meHS5ROrE/5agsvGq+sz+burO8Jg62PwoRkook1bc/BMTfgcVVuT+NrYV4Vc+6P3tsnb0BQ7w/bXCHWC6xvT9TVZHhbiC/P4Drlh6+NcA/EFAaIfVbvj//20pGxUy4PwzglE7wIbI/0C6fnWJ6qj84Duzv3/CiP2nfmgSVfJo/WN9XsJI8kz9cYVmJo22PP1uJezGF44o/m5m32WYwhj9rI82+sEKBPzyFJYartX0/p3avVHlqfj8MWBYhZmh+P97iBimkr3w/P/ZlOqxTeT9vi5z/Ax5zP5dqZ7HWn2Y/kUGWUyRDTj/E4RhR6AhOv6jUQssuH2e/dewiLUvoc78mQfuFqBt9v/YEMAa8QoO/DI59YZeehL8BPzy9cMCAv+/2Nk8amnW/aevr2gJhY79QZVz0AoBBP4XF0VyHXGw/a3H+DxNeej9dxvt9aGKDPxundWMwrYk/Iv3BwuYCkD8Po5y34i2TP9JuA6k8TZY/0GRMBgVVmT9eENkJYTmcP4t7kx4z8Z4/RxSzjkW7oD+rN5G60OWhPwikdGD5+qI/6hABuUj/oz/Oobv3pPekP88B21+D56U/KXwMmo3Npj/izvD5z5unP8dU8jlyLKg/lQ81jmRFqD8+U0acicKnPzD3mvRvvaY/55vPbGpypT+3bz85xQ+kP6me6blOqaI/\",\"dtype\":\"float64\",\"shape\":[75]},\"y\":{\"__ndarray__\":\"GhExyth1ND/Sv8nbtpRIP2vylNV0PVE/aTum7souWD/At0SJ8fVgPw3Iuahxymc/MSNhhJWvcD/bTfBN02d3P2zb5nxnaoA/CD5h5MAGhz8NmeH1TyaQP+zrCsc9p5Y/LbKd76fGnz/bLW5ISEmmPww9YvTcQq8/JV2OstnstT8Er5Y7M8G+P0c+r3jqkcU/5h99k6ZBzj88bCIzFzjVP4enV8oyxN0//yH99nXg5D8qOpLLf0jtP5kqGJXUifQ/c9cS8kHP/D+/DpwzojQEQIEmwoanVwxA4lgXt9HgE0BSSZ2AJuIbQAMJih9jjiNA5q4l5INuK0AwTKYKRj0zQNv5fmq8/DpAaCJseHrtQkB/+zpwzoxKQM3MzMzMeFJAZmZmZmZqWEAAAAAAAFxeQM3MzMzMJmJAmpmZmZkfZUBmZmZmZhhoQDMzMzMzEWtAAAAAAAAKbkBmZmZmZoFwQM3MzMzM/XFAMzMzMzN6c0CamZmZmfZ0QAAAAAAAc3ZAZmZmZmbvd0DNzMzMzGt5QDMzMzMz6HpAmpmZmZlkfEAAAAAAAOF9QGZmZmZmXX9AZmZmZuZsgECamZmZGSuBQM3MzMxM6YFAAAAAAICngkAzMzMzs2WDQGZmZmbmI4RAmpmZmRnihEDNzMzMTKCFQAAAAACAXoZAMzMzM7Mch0BmZmZm5tqHQJqZmZkZmYhAzczMzExXiUAAAAAAgBWKQDMzMzOz04pAZmZmZuaRi0CamZmZGVCMQM3MzMxMDo1AAAAAAIDMjUAzMzMzs4qOQGZmZmbmSI9A\",\"dtype\":\"float64\",\"shape\":[75]}},\"selected\":{\"id\":\"3bcd4c17-e7fd-4ebe-ba00-8b27d059189d\",\"type\":\"Selection\"},\"selection_policy\":{\"id\":\"4099119e-3bc7-4ad8-92f8-161d2d2dec09\",\"type\":\"UnionRenderers\"}},\"id\":\"dd5aa960-934d-4332-a771-109da74956be\",\"type\":\"ColumnDataSource\"},{\"attributes\":{\"line_alpha\":0.1,\"line_color\":\"#1f77b4\",\"line_width\":1.5,\"x\":{\"field\":\"x\"},\"y\":{\"field\":\"y\"}},\"id\":\"62ece870-50b4-4a0c-91d1-d5a659c860d3\",\"type\":\"Line\"},{\"attributes\":{\"data_source\":{\"id\":\"735db13c-9128-4fc0-a7b5-0f0951001ddf\",\"type\":\"ColumnDataSource\"},\"glyph\":{\"id\":\"5468504a-e715-4c00-b3d1-3dccf7d6c352\",\"type\":\"Circle\"},\"hover_glyph\":null,\"muted_glyph\":null,\"nonselection_glyph\":{\"id\":\"678d08e7-ac31-4221-a8eb-40c015743ff0\",\"type\":\"Circle\"},\"selection_glyph\":null,\"view\":{\"id\":\"06e2f460-a598-46dc-b4f8-c82b1f5ece91\",\"type\":\"CDSView\"}},\"id\":\"f81a405e-e0c5-452c-b753-b9d6789e7e47\",\"type\":\"GlyphRenderer\"},{\"attributes\":{\"source\":{\"id\":\"dd5aa960-934d-4332-a771-109da74956be\",\"type\":\"ColumnDataSource\"}},\"id\":\"ce78a930-73ad-476a-befe-32f8c0aa9fd1\",\"type\":\"CDSView\"},{\"attributes\":{\"source\":{\"id\":\"80ba1a70-6fc0-4fc9-a3f6-c240317b26e4\",\"type\":\"ColumnDataSource\"}},\"id\":\"78497376-6f1a-48a2-a595-504913f68c14\",\"type\":\"CDSView\"},{\"attributes\":{\"ticker\":null},\"id\":\"9687cb9f-5c79-472b-9da3-1ae14aea7aa1\",\"type\":\"LogTickFormatter\"},{\"attributes\":{\"line_alpha\":0.6,\"line_color\":\"#e41a1c\",\"line_dash\":[6],\"line_width\":5,\"x\":{\"field\":\"x\"},\"y\":{\"field\":\"y\"}},\"id\":\"82ed7466-6d20-49da-a241-715cdcee01d4\",\"type\":\"Line\"},{\"attributes\":{},\"id\":\"bd8e0cb1-103e-4f32-b16e-bacf8f5eacab\",\"type\":\"PanTool\"},{\"attributes\":{},\"id\":\"4f8febea-d7ec-4a87-91fa-f0de85854a1b\",\"type\":\"UnionRenderers\"},{\"attributes\":{},\"id\":\"1fed540d-40d8-4a82-89a2-2dc77c88d1bd\",\"type\":\"UnionRenderers\"},{\"attributes\":{\"plot\":null,\"text\":\"\"},\"id\":\"77bfa2d2-85fe-445d-91d8-53ff0fcdb3e5\",\"type\":\"Title\"},{\"attributes\":{},\"id\":\"f2df1f9a-1b73-4a90-ada2-a07cdce3169f\",\"type\":\"ResetTool\"},{\"attributes\":{},\"id\":\"3bcd4c17-e7fd-4ebe-ba00-8b27d059189d\",\"type\":\"Selection\"},{\"attributes\":{\"line_color\":\"#4daf4a\",\"line_width\":1.5,\"x\":{\"field\":\"x\"},\"y\":{\"field\":\"y\"}},\"id\":\"fd05adf9-4bac-4ec5-9cb5-a22eac81eb45\",\"type\":\"Line\"},{\"attributes\":{\"callback\":null,\"data\":{\"x\":{\"__ndarray__\":\"OPX0ZWbskz+U4qXHee2SP9qqa7kUVZE/vqxBBse2jj8XkMsmanyKP9T+3xBF74U/mA+/KrYOgT8QF0H/JNZ3PxCPvtO02Wk/AFSTVOmgNj9Ad+OfSEplvzgY2NeeMHe/OFrGxTcIgr9wEDuLRquHv2BQuOOLc4u/UJpZg9QQjr/8f2+qDRCQv/CzAF3mzZC/BGYVmmhJkb+8cnoPqpmRv8BPKmpEupG/cNnTADAmi79QOA9HGWFzv8CO2fFZ+WU/IAWuxpLSfD9I333oeMeBP/ZExtdz/4A/9Abdfdheej+ISytUZxdvPxDL7ubFjFU/MAGnsOwcRL8EV4SRXF5evzrvRxDylGa/Gep9u/s1bb8GvOyDiNNwv62FYdkvTHK/LuHdiA8pc7+CeOVCeg1zv7vq608mZXK/UPvTYfqncb8oiRRgjKVwv9SBGY2kb26/ypaMSXhCar8AOCT5ijRkvyAINJmsO1i/ID6KRJAfSb/wWQ+I0dVFv8B2sK+fGka/DDqRzwVMQb/QH7u0/M0yvwAaNBxFLta+gNRREyVvMj9wW+mHxBRDP3DJ2cm/LUw/oKKfbZwLUj/gKmoak6FVP6Dn6OR64lg/YJAdrhfcWz/QQoRSG3NePwgKOo5DkWA/oPv4DCe3YT8Qre/uCr5iP/DhK3a7mGM/QEsRHSwtZD/AELLGFFtkPxDfjcf8A2Q/EKZuBYb9Yj9gEwv49oVhP3DMS+s1K2A/UDk5ajF1YD8ArlFSycBiP+CyWSnQpGY/8KHoBBh6az8Iwy/05A5wP5g6asPfenI/\",\"dtype\":\"float64\",\"shape\":[75]},\"y\":{\"__ndarray__\":\"GhExyth1ND/Sv8nbtpRIP2vylNV0PVE/aTum7souWD/At0SJ8fVgPw3Iuahxymc/MSNhhJWvcD/bTfBN02d3P2zb5nxnaoA/CD5h5MAGhz8NmeH1TyaQP+zrCsc9p5Y/LbKd76fGnz/bLW5ISEmmPww9YvTcQq8/JV2OstnstT8Er5Y7M8G+P0c+r3jqkcU/5h99k6ZBzj88bCIzFzjVP4enV8oyxN0//yH99nXg5D8qOpLLf0jtP5kqGJXUifQ/c9cS8kHP/D+/DpwzojQEQIEmwoanVwxA4lgXt9HgE0BSSZ2AJuIbQAMJih9jjiNA5q4l5INuK0AwTKYKRj0zQNv5fmq8/DpAaCJseHrtQkB/+zpwzoxKQM3MzMzMeFJAZmZmZmZqWEAAAAAAAFxeQM3MzMzMJmJAmpmZmZkfZUBmZmZmZhhoQDMzMzMzEWtAAAAAAAAKbkBmZmZmZoFwQM3MzMzM/XFAMzMzMzN6c0CamZmZmfZ0QAAAAAAAc3ZAZmZmZmbvd0DNzMzMzGt5QDMzMzMz6HpAmpmZmZlkfEAAAAAAAOF9QGZmZmZmXX9AZmZmZuZsgECamZmZGSuBQM3MzMxM6YFAAAAAAICngkAzMzMzs2WDQGZmZmbmI4RAmpmZmRnihEDNzMzMTKCFQAAAAACAXoZAMzMzM7Mch0BmZmZm5tqHQJqZmZkZmYhAzczMzExXiUAAAAAAgBWKQDMzMzOz04pAZmZmZuaRi0CamZmZGVCMQM3MzMxMDo1AAAAAAIDMjUAzMzMzs4qOQGZmZmbmSI9A\",\"dtype\":\"float64\",\"shape\":[75]}},\"selected\":{\"id\":\"dec181f4-15dd-49e0-a5be-d78a2956267a\",\"type\":\"Selection\"},\"selection_policy\":{\"id\":\"2370d5b6-7d42-4b26-8e92-2fd2990decf3\",\"type\":\"UnionRenderers\"}},\"id\":\"807a0a52-2cbd-4d7e-aba1-0474704ca148\",\"type\":\"ColumnDataSource\"},{\"attributes\":{},\"id\":\"e8336653-fd47-4bb8-8f22-8a5b928cd28d\",\"type\":\"UnionRenderers\"},{\"attributes\":{},\"id\":\"3b815bc2-87cc-46c6-9d87-715979bc8162\",\"type\":\"SaveTool\"},{\"attributes\":{},\"id\":\"49372b34-4cef-4b01-bbce-80c5e8181bb0\",\"type\":\"UnionRenderers\"},{\"attributes\":{\"data_source\":{\"id\":\"dd5aa960-934d-4332-a771-109da74956be\",\"type\":\"ColumnDataSource\"},\"glyph\":{\"id\":\"fd05adf9-4bac-4ec5-9cb5-a22eac81eb45\",\"type\":\"Line\"},\"hover_glyph\":null,\"muted_glyph\":null,\"nonselection_glyph\":{\"id\":\"ca8a8139-b274-48bd-961c-14bfcd612f35\",\"type\":\"Line\"},\"selection_glyph\":null,\"view\":{\"id\":\"ce78a930-73ad-476a-befe-32f8c0aa9fd1\",\"type\":\"CDSView\"}},\"id\":\"60950a3d-11e6-442f-a56d-9728805cb638\",\"type\":\"GlyphRenderer\"},{\"attributes\":{\"above\":[{\"id\":\"10941199-7b1f-48e0-9f45-7d4005acf49a\",\"type\":\"Legend\"}],\"below\":[{\"id\":\"8c1e532c-6d79-42bd-84b6-358f7f42ac8d\",\"type\":\"LinearAxis\"}],\"left\":[{\"id\":\"5f6749f0-19e9-4273-8578-31e0109b94c2\",\"type\":\"LogAxis\"}],\"plot_width\":300,\"renderers\":[{\"id\":\"8c1e532c-6d79-42bd-84b6-358f7f42ac8d\",\"type\":\"LinearAxis\"},{\"id\":\"e359dadc-8c12-405f-9d8a-dba88d17ce13\",\"type\":\"Grid\"},{\"id\":\"5f6749f0-19e9-4273-8578-31e0109b94c2\",\"type\":\"LogAxis\"},{\"id\":\"b766a3c6-9904-4b03-b778-f77a7f464ea9\",\"type\":\"Grid\"},{\"id\":\"ca4ec9b7-48f9-4e5d-88eb-f007918d7b0e\",\"type\":\"BoxAnnotation\"},{\"id\":\"21e14e6e-cbfd-4a0e-a89a-22d3cb69afcf\",\"type\":\"GlyphRenderer\"},{\"id\":\"2ea1cb86-c4d1-4f11-b4d2-80cc9a9d72e7\",\"type\":\"GlyphRenderer\"},{\"id\":\"724997e9-ed5b-4a5f-b630-902744734b8c\",\"type\":\"GlyphRenderer\"},{\"id\":\"10941199-7b1f-48e0-9f45-7d4005acf49a\",\"type\":\"Legend\"}],\"title\":{\"id\":\"77bfa2d2-85fe-445d-91d8-53ff0fcdb3e5\",\"type\":\"Title\"},\"toolbar\":{\"id\":\"64c48ae1-557d-44cc-b848-a2f13d9f77a8\",\"type\":\"Toolbar\"},\"toolbar_location\":null,\"x_range\":{\"id\":\"1c6f91b9-17d7-48ed-a6c5-bcc06c399e46\",\"type\":\"Range1d\"},\"x_scale\":{\"id\":\"9f7728b4-d360-4402-b096-b93eeac3cd75\",\"type\":\"LinearScale\"},\"y_range\":{\"id\":\"dcd4d593-8905-4ad4-8738-a6a84ec57eb1\",\"type\":\"Range1d\"},\"y_scale\":{\"id\":\"06ca08f6-d47a-4208-a907-f2add484f65f\",\"type\":\"LogScale\"}},\"id\":\"f5e8d59c-019f-424c-8296-01b450123b9b\",\"subtype\":\"Figure\",\"type\":\"Plot\"},{\"attributes\":{},\"id\":\"754af0fd-db37-4635-9b3f-c89cb294dcd0\",\"type\":\"BasicTickFormatter\"},{\"attributes\":{\"axis_label\":\"cooling rate [K/day]\",\"formatter\":{\"id\":\"8b43080c-a113-4a55-8540-600711ba2cd4\",\"type\":\"BasicTickFormatter\"},\"plot\":{\"id\":\"00efc758-ee23-41e9-a6c2-73cba3b0c38d\",\"subtype\":\"Figure\",\"type\":\"Plot\"},\"ticker\":{\"id\":\"ff70925a-fa2f-4ac6-9483-0eaa7126f0a1\",\"type\":\"BasicTicker\"}},\"id\":\"f3e97a95-8b8b-4c56-a1f1-35b724f509f6\",\"type\":\"LinearAxis\"},{\"attributes\":{},\"id\":\"0b5e3d10-f538-440b-a4dd-e87ce49cfa18\",\"type\":\"SaveTool\"},{\"attributes\":{},\"id\":\"9ffc661d-53a7-4c7d-b6b5-1235d09310dc\",\"type\":\"Selection\"},{\"attributes\":{\"line_alpha\":0.1,\"line_color\":\"#1f77b4\",\"line_width\":1.5,\"x\":{\"field\":\"x\"},\"y\":{\"field\":\"y\"}},\"id\":\"ca8a8139-b274-48bd-961c-14bfcd612f35\",\"type\":\"Line\"},{\"attributes\":{},\"id\":\"fc970913-7392-49ae-bae2-9a56e6d0f37b\",\"type\":\"Selection\"},{\"attributes\":{\"fill_alpha\":{\"value\":0.1},\"fill_color\":{\"value\":\"#1f77b4\"},\"line_alpha\":{\"value\":0.1},\"line_color\":{\"value\":\"#1f77b4\"},\"x\":{\"field\":\"x\"},\"y\":{\"field\":\"y\"}},\"id\":\"678d08e7-ac31-4221-a8eb-40c015743ff0\",\"type\":\"Circle\"},{\"attributes\":{},\"id\":\"3333fe24-d5c1-4b96-b508-bec7dcc1c0b8\",\"type\":\"Selection\"},{\"attributes\":{\"bottom_units\":\"screen\",\"fill_alpha\":{\"value\":0.5},\"fill_color\":{\"value\":\"lightgrey\"},\"left_units\":\"screen\",\"level\":\"overlay\",\"line_alpha\":{\"value\":1.0},\"line_color\":{\"value\":\"black\"},\"line_dash\":[4,4],\"line_width\":{\"value\":2},\"plot\":null,\"render_mode\":\"css\",\"right_units\":\"screen\",\"top_units\":\"screen\"},\"id\":\"ca4ec9b7-48f9-4e5d-88eb-f007918d7b0e\",\"type\":\"BoxAnnotation\"},{\"attributes\":{\"data_source\":{\"id\":\"a84f73b1-595f-434f-86ee-9b2a2eb27282\",\"type\":\"ColumnDataSource\"},\"glyph\":{\"id\":\"5334a162-5739-4f8f-b838-004d81b74e13\",\"type\":\"Line\"},\"hover_glyph\":null,\"muted_glyph\":null,\"nonselection_glyph\":{\"id\":\"b7331f82-d743-4908-9e56-d0c5b2f908af\",\"type\":\"Line\"},\"selection_glyph\":null,\"view\":{\"id\":\"dff0dc1c-2311-4db6-a337-e42b6c201e41\",\"type\":\"CDSView\"}},\"id\":\"60e0a9e3-49e0-476d-b4a9-352db5485750\",\"type\":\"GlyphRenderer\"},{\"attributes\":{},\"id\":\"87278e84-7f96-456d-8140-ecd41b6d272a\",\"type\":\"UnionRenderers\"},{\"attributes\":{\"plot\":null,\"text\":\"\"},\"id\":\"c9960837-18a2-44b5-94b9-1c18aac7fa58\",\"type\":\"Title\"},{\"attributes\":{\"callback\":null,\"data\":{\"x\":{\"__ndarray__\":\"tGYmkisue7+p/4mR02Bxv+7ta5GaCE0/K5BmoFN4ej8pd9CRuX6JP6zgsHBfUpM/iLnqeA5Wmj/iPmqkDemgP2upnKg956Q/RmbO8wMoqT8rz3mlG6ytP4meHS5ROrE/5agsvGq+sz+burO8Jg62PwoRkook1bc/BMTfgcVVuT+NrYV4Vc+6P3tsnb0BQ7w/bXCHWC6xvT9TVZHhbiC/P4Drlh6+NcA/EFAaIfVbvj//20pGxUy4PwzglE7wIbI/0C6fnWJ6qj84Duzv3/CiP2nfmgSVfJo/WN9XsJI8kz9cYVmJo22PP1uJezGF44o/m5m32WYwhj9rI82+sEKBPzyFJYartX0/p3avVHlqfj8MWBYhZmh+P97iBimkr3w/P/ZlOqxTeT9vi5z/Ax5zP5dqZ7HWn2Y/kUGWUyRDTj/E4RhR6AhOv6jUQssuH2e/dewiLUvoc78mQfuFqBt9v/YEMAa8QoO/DI59YZeehL8BPzy9cMCAv+/2Nk8amnW/aevr2gJhY79QZVz0AoBBP4XF0VyHXGw/a3H+DxNeej9dxvt9aGKDPxundWMwrYk/Iv3BwuYCkD8Po5y34i2TP9JuA6k8TZY/0GRMBgVVmT9eENkJYTmcP4t7kx4z8Z4/RxSzjkW7oD+rN5G60OWhPwikdGD5+qI/6hABuUj/oz/Oobv3pPekP88B21+D56U/KXwMmo3Npj/izvD5z5unP8dU8jlyLKg/lQ81jmRFqD8+U0acicKnPzD3mvRvvaY/55vPbGpypT+3bz85xQ+kP6me6blOqaI/\",\"dtype\":\"float64\",\"shape\":[75]},\"y\":{\"__ndarray__\":\"GhExyth1ND/Sv8nbtpRIP2vylNV0PVE/aTum7souWD/At0SJ8fVgPw3Iuahxymc/MSNhhJWvcD/bTfBN02d3P2zb5nxnaoA/CD5h5MAGhz8NmeH1TyaQP+zrCsc9p5Y/LbKd76fGnz/bLW5ISEmmPww9YvTcQq8/JV2OstnstT8Er5Y7M8G+P0c+r3jqkcU/5h99k6ZBzj88bCIzFzjVP4enV8oyxN0//yH99nXg5D8qOpLLf0jtP5kqGJXUifQ/c9cS8kHP/D+/DpwzojQEQIEmwoanVwxA4lgXt9HgE0BSSZ2AJuIbQAMJih9jjiNA5q4l5INuK0AwTKYKRj0zQNv5fmq8/DpAaCJseHrtQkB/+zpwzoxKQM3MzMzMeFJAZmZmZmZqWEAAAAAAAFxeQM3MzMzMJmJAmpmZmZkfZUBmZmZmZhhoQDMzMzMzEWtAAAAAAAAKbkBmZmZmZoFwQM3MzMzM/XFAMzMzMzN6c0CamZmZmfZ0QAAAAAAAc3ZAZmZmZmbvd0DNzMzMzGt5QDMzMzMz6HpAmpmZmZlkfEAAAAAAAOF9QGZmZmZmXX9AZmZmZuZsgECamZmZGSuBQM3MzMxM6YFAAAAAAICngkAzMzMzs2WDQGZmZmbmI4RAmpmZmRnihEDNzMzMTKCFQAAAAACAXoZAMzMzM7Mch0BmZmZm5tqHQJqZmZkZmYhAzczMzExXiUAAAAAAgBWKQDMzMzOz04pAZmZmZuaRi0CamZmZGVCMQM3MzMxMDo1AAAAAAIDMjUAzMzMzs4qOQGZmZmbmSI9A\",\"dtype\":\"float64\",\"shape\":[75]}},\"selected\":{\"id\":\"f4cf9270-42fb-48d6-aa20-3f24a72936a4\",\"type\":\"Selection\"},\"selection_policy\":{\"id\":\"4f8febea-d7ec-4a87-91fa-f0de85854a1b\",\"type\":\"UnionRenderers\"}},\"id\":\"735db13c-9128-4fc0-a7b5-0f0951001ddf\",\"type\":\"ColumnDataSource\"},{\"attributes\":{},\"id\":\"b8915670-ca49-4d6c-9060-b5f8eb985357\",\"type\":\"BasicTicker\"},{\"attributes\":{\"source\":{\"id\":\"735db13c-9128-4fc0-a7b5-0f0951001ddf\",\"type\":\"ColumnDataSource\"}},\"id\":\"06e2f460-a598-46dc-b4f8-c82b1f5ece91\",\"type\":\"CDSView\"},{\"attributes\":{},\"id\":\"da233c5c-58b4-4424-a56c-c8849eddd402\",\"type\":\"BasicTickFormatter\"},{\"attributes\":{},\"id\":\"52d75cb4-78fe-4411-bfe0-dcd0292b5a05\",\"type\":\"WheelZoomTool\"},{\"attributes\":{\"overlay\":{\"id\":\"ca4ec9b7-48f9-4e5d-88eb-f007918d7b0e\",\"type\":\"BoxAnnotation\"}},\"id\":\"613a8d09-61c8-45a1-9f5d-6953ffc1abaa\",\"type\":\"BoxZoomTool\"},{\"attributes\":{\"children\":[{\"id\":\"4702ebbd-4069-4740-8ea9-90fc092720c8\",\"type\":\"ToolbarBox\"},{\"id\":\"55a42119-481b-4dc0-b1da-b332778e3ed9\",\"type\":\"Column\"}]},\"id\":\"6e0b299d-08bd-49bb-ad37-ac95e68b501a\",\"type\":\"Column\"},{\"attributes\":{},\"id\":\"9f7728b4-d360-4402-b096-b93eeac3cd75\",\"type\":\"LinearScale\"},{\"attributes\":{\"above\":[{\"id\":\"0b517124-eaf1-4aa3-87e3-04b755de0cdc\",\"type\":\"Legend\"}],\"below\":[{\"id\":\"0f3c5ab8-9169-4d1a-86b1-b106a0f363b9\",\"type\":\"LinearAxis\"}],\"left\":[{\"id\":\"9b9bd450-ee53-40ce-a8bb-d37623ac1320\",\"type\":\"LogAxis\"}],\"plot_width\":300,\"renderers\":[{\"id\":\"0f3c5ab8-9169-4d1a-86b1-b106a0f363b9\",\"type\":\"LinearAxis\"},{\"id\":\"4744a19e-2434-4101-8656-813344b73cda\",\"type\":\"Grid\"},{\"id\":\"9b9bd450-ee53-40ce-a8bb-d37623ac1320\",\"type\":\"LogAxis\"},{\"id\":\"fe2c6998-ac80-4393-8949-7d2202ef38e2\",\"type\":\"Grid\"},{\"id\":\"eec2e817-5364-4518-8d15-b88446df5584\",\"type\":\"BoxAnnotation\"},{\"id\":\"6a9599f9-a855-458f-8a5d-5ba647e1c7bb\",\"type\":\"GlyphRenderer\"},{\"id\":\"b06001ba-2d81-46cb-b6cf-d1bb2d50560a\",\"type\":\"GlyphRenderer\"},{\"id\":\"0b517124-eaf1-4aa3-87e3-04b755de0cdc\",\"type\":\"Legend\"}],\"title\":{\"id\":\"c9960837-18a2-44b5-94b9-1c18aac7fa58\",\"type\":\"Title\"},\"toolbar\":{\"id\":\"b2ec519f-89e9-403f-80f8-2cba29ac1b97\",\"type\":\"Toolbar\"},\"toolbar_location\":null,\"x_range\":{\"id\":\"7984e245-ae6e-4f0d-9a00-03c0190a47b8\",\"type\":\"Range1d\"},\"x_scale\":{\"id\":\"030c162d-990b-431d-a165-692b49791aee\",\"type\":\"LinearScale\"},\"y_range\":{\"id\":\"b1e65077-4db7-4f91-8692-699db7bc95ce\",\"type\":\"Range1d\"},\"y_scale\":{\"id\":\"5be58080-6463-4dfe-a30e-643d956b7825\",\"type\":\"LogScale\"}},\"id\":\"262f3796-c899-430d-a6e2-3af33a1d73a6\",\"subtype\":\"Figure\",\"type\":\"Plot\"},{\"attributes\":{\"plot\":{\"id\":\"00efc758-ee23-41e9-a6c2-73cba3b0c38d\",\"subtype\":\"Figure\",\"type\":\"Plot\"},\"ticker\":{\"id\":\"ff70925a-fa2f-4ac6-9483-0eaa7126f0a1\",\"type\":\"BasicTicker\"}},\"id\":\"1de1c8a3-8178-4026-85f1-215eb0e94b49\",\"type\":\"Grid\"},{\"attributes\":{\"ticker\":null},\"id\":\"48f4da67-33b8-40aa-a5de-a8b0287a6699\",\"type\":\"LogTickFormatter\"},{\"attributes\":{},\"id\":\"c035ca87-eb8f-441b-90bc-cedc957e9509\",\"type\":\"ResetTool\"},{\"attributes\":{\"toolbar\":{\"id\":\"a946f232-fef3-40b7-bc27-5fd2372f131e\",\"type\":\"ProxyToolbar\"},\"toolbar_location\":\"above\"},\"id\":\"4702ebbd-4069-4740-8ea9-90fc092720c8\",\"type\":\"ToolbarBox\"},{\"attributes\":{},\"id\":\"9fc5cc2e-9a42-4eaf-b389-4765e4f0a750\",\"type\":\"HelpTool\"},{\"attributes\":{\"items\":[{\"id\":\"4783f217-7224-47b2-b941-368b35143de6\",\"type\":\"LegendItem\"},{\"id\":\"bb76e842-10c9-43f2-82f6-55d523e468b1\",\"type\":\"LegendItem\"}],\"label_text_font_size\":{\"value\":\"8pt\"},\"location\":\"top_center\",\"orientation\":\"horizontal\",\"plot\":{\"id\":\"00efc758-ee23-41e9-a6c2-73cba3b0c38d\",\"subtype\":\"Figure\",\"type\":\"Plot\"}},\"id\":\"bc8f64a7-9fba-418a-b6ae-afe5c52cc497\",\"type\":\"Legend\"},{\"attributes\":{},\"id\":\"78614dcb-ca3d-4249-a701-a54639a57359\",\"type\":\"Selection\"},{\"attributes\":{\"tools\":[{\"id\":\"536f8e12-d54a-4a08-9d92-ebab95010d03\",\"type\":\"PanTool\"},{\"id\":\"c2356ee3-9eb5-48ef-abf5-bf4eb2d6d4ad\",\"type\":\"WheelZoomTool\"},{\"id\":\"66abb8b2-7066-4453-8919-5c401324bff2\",\"type\":\"BoxZoomTool\"},{\"id\":\"3b815bc2-87cc-46c6-9d87-715979bc8162\",\"type\":\"SaveTool\"},{\"id\":\"f2df1f9a-1b73-4a90-ada2-a07cdce3169f\",\"type\":\"ResetTool\"},{\"id\":\"0cc9f169-a3c4-4fef-ae5c-03909bb2a1f5\",\"type\":\"HelpTool\"},{\"id\":\"bd8e0cb1-103e-4f32-b16e-bacf8f5eacab\",\"type\":\"PanTool\"},{\"id\":\"52d75cb4-78fe-4411-bfe0-dcd0292b5a05\",\"type\":\"WheelZoomTool\"},{\"id\":\"613a8d09-61c8-45a1-9f5d-6953ffc1abaa\",\"type\":\"BoxZoomTool\"},{\"id\":\"0b5e3d10-f538-440b-a4dd-e87ce49cfa18\",\"type\":\"SaveTool\"},{\"id\":\"c035ca87-eb8f-441b-90bc-cedc957e9509\",\"type\":\"ResetTool\"},{\"id\":\"9fc5cc2e-9a42-4eaf-b389-4765e4f0a750\",\"type\":\"HelpTool\"},{\"id\":\"6841817e-42b1-46bf-930f-5cdd8de17eef\",\"type\":\"PanTool\"},{\"id\":\"12dd690e-1fe6-4e7a-a033-60f81f2157d4\",\"type\":\"WheelZoomTool\"},{\"id\":\"369138b2-cbdd-41c6-9ed9-2f69d060c6b7\",\"type\":\"BoxZoomTool\"},{\"id\":\"87a80c11-cd7e-48e2-9830-2cc06e5d3acb\",\"type\":\"SaveTool\"},{\"id\":\"c3bd2a94-0052-4e86-b6f1-8aab5ef8b305\",\"type\":\"ResetTool\"},{\"id\":\"a754a51f-47ca-4230-92a4-d08bd9e753b5\",\"type\":\"HelpTool\"}]},\"id\":\"a946f232-fef3-40b7-bc27-5fd2372f131e\",\"type\":\"ProxyToolbar\"},{\"attributes\":{},\"id\":\"2370d5b6-7d42-4b26-8e92-2fd2990decf3\",\"type\":\"UnionRenderers\"},{\"attributes\":{\"label\":{\"value\":\"CLIRAD\"},\"renderers\":[{\"id\":\"60e0a9e3-49e0-476d-b4a9-352db5485750\",\"type\":\"GlyphRenderer\"}]},\"id\":\"4783f217-7224-47b2-b941-368b35143de6\",\"type\":\"LegendItem\"},{\"attributes\":{},\"id\":\"dec181f4-15dd-49e0-a5be-d78a2956267a\",\"type\":\"Selection\"},{\"attributes\":{},\"id\":\"c2356ee3-9eb5-48ef-abf5-bf4eb2d6d4ad\",\"type\":\"WheelZoomTool\"},{\"attributes\":{\"plot\":{\"id\":\"f5e8d59c-019f-424c-8296-01b450123b9b\",\"subtype\":\"Figure\",\"type\":\"Plot\"},\"ticker\":{\"id\":\"a6d814a0-ad95-4f37-8ca3-8018e0207b4e\",\"type\":\"BasicTicker\"}},\"id\":\"e359dadc-8c12-405f-9d8a-dba88d17ce13\",\"type\":\"Grid\"},{\"attributes\":{\"children\":[{\"id\":\"00efc758-ee23-41e9-a6c2-73cba3b0c38d\",\"subtype\":\"Figure\",\"type\":\"Plot\"},{\"id\":\"f5e8d59c-019f-424c-8296-01b450123b9b\",\"subtype\":\"Figure\",\"type\":\"Plot\"},{\"id\":\"262f3796-c899-430d-a6e2-3af33a1d73a6\",\"subtype\":\"Figure\",\"type\":\"Plot\"}]},\"id\":\"0ad736d2-091d-4435-9776-255b5cfd4375\",\"type\":\"Row\"},{\"attributes\":{\"dimension\":1,\"plot\":{\"id\":\"00efc758-ee23-41e9-a6c2-73cba3b0c38d\",\"subtype\":\"Figure\",\"type\":\"Plot\"},\"ticker\":{\"id\":\"b8915670-ca49-4d6c-9060-b5f8eb985357\",\"type\":\"BasicTicker\"}},\"id\":\"a10237e3-e6f3-4711-8ef5-dfdfbfef3c80\",\"type\":\"Grid\"},{\"attributes\":{\"items\":[{\"id\":\"05b0fe0d-4675-41e7-9b69-f800224b3aa9\",\"type\":\"LegendItem\"},{\"id\":\"acb9dfa6-c7a9-46ae-9d5b-f2300b86046b\",\"type\":\"LegendItem\"}],\"label_text_font_size\":{\"value\":\"8pt\"},\"location\":\"top_center\",\"orientation\":\"horizontal\",\"plot\":{\"id\":\"f5e8d59c-019f-424c-8296-01b450123b9b\",\"subtype\":\"Figure\",\"type\":\"Plot\"}},\"id\":\"10941199-7b1f-48e0-9f45-7d4005acf49a\",\"type\":\"Legend\"},{\"attributes\":{},\"id\":\"a6d814a0-ad95-4f37-8ca3-8018e0207b4e\",\"type\":\"BasicTicker\"},{\"attributes\":{\"overlay\":{\"id\":\"c85f6edc-4b76-45d1-bec4-20b6a8dae451\",\"type\":\"BoxAnnotation\"}},\"id\":\"66abb8b2-7066-4453-8919-5c401324bff2\",\"type\":\"BoxZoomTool\"},{\"attributes\":{\"callback\":null,\"data\":{\"x\":{\"__ndarray__\":\"FrfWArdBij9TxYbGiSqNP0kK941ZPZI/ano6a3j5lT+gA07ckf2ZPxbgIPkBSp4/qiAlx7RuoT/EYVJE0uOjP1yS2PXYhKY/7ox3xkVVqT+3l3sbd1esPws6QIGOjq8/nt1zw2N9sT+NWEzrvRizP/4GGw6zZrQ/upB08aqTtT+OzekNUsu2P38/XSaID7g/7BYCMtReuT+kuLJdBLq6PxBDoyLr/Ls/4tT/IC/3uj966Nmxsxa3P4KsIx670bI/dO909rQUrj8KhgsqvmKnP/IAP3gnfqE/FSHPz0jUmT8fGjKvvpmTP71iWe4dlY0/iCmtDpjuhD8VMTlZyu16P5+NAX4ya3I/NQPh7faebz8LOFM6uylrP2K6Sp/oxmQ/QlQgxnKqWD8A7RK3vInwPr7V4NzrVFy/PGbCriu/a79gpTdqqWZ0vz4rLqxpx3q/7Zv0qMOEgL+TrkYB95qDv/qFVpkxSoa/7jHGZZAwhr+gNL3VzR2Cv8cFLUVuXXi/7DnQTgS0Z7/Qqv0zCTIwP3irQzpwUWw/s44zYQWFez8UXHrGtJOEP7JDE2AMcIs/TPebiaAjkT+9RUPp+4eUP0z9UVdk25c/1j0ugcYSmz+LVAG/kiCeP2ZeLcitgaA/AaSC/7fWoT98MoBpsRGjPydi1xeFNKQ/niXSehtCpT/awiZEVj2mP8DfUyzDJ6c/imZj+mX9pz8YgHFpL7SoP44Rp5glL6k/KqPYpLdMqT8ebmsxlu6oP16SMPe8J6g/BiYe7Qsqpz8YaMXXoRGmP/zlVrKq+KQ/\",\"dtype\":\"float64\",\"shape\":[75]},\"y\":{\"__ndarray__\":\"GhExyth1ND/Sv8nbtpRIP2vylNV0PVE/aTum7souWD/At0SJ8fVgPw3Iuahxymc/MSNhhJWvcD/bTfBN02d3P2zb5nxnaoA/CD5h5MAGhz8NmeH1TyaQP+zrCsc9p5Y/LbKd76fGnz/bLW5ISEmmPww9YvTcQq8/JV2OstnstT8Er5Y7M8G+P0c+r3jqkcU/5h99k6ZBzj88bCIzFzjVP4enV8oyxN0//yH99nXg5D8qOpLLf0jtP5kqGJXUifQ/c9cS8kHP/D+/DpwzojQEQIEmwoanVwxA4lgXt9HgE0BSSZ2AJuIbQAMJih9jjiNA5q4l5INuK0AwTKYKRj0zQNv5fmq8/DpAaCJseHrtQkB/+zpwzoxKQM3MzMzMeFJAZmZmZmZqWEAAAAAAAFxeQM3MzMzMJmJAmpmZmZkfZUBmZmZmZhhoQDMzMzMzEWtAAAAAAAAKbkBmZmZmZoFwQM3MzMzM/XFAMzMzMzN6c0CamZmZmfZ0QAAAAAAAc3ZAZmZmZmbvd0DNzMzMzGt5QDMzMzMz6HpAmpmZmZlkfEAAAAAAAOF9QGZmZmZmXX9AZmZmZuZsgECamZmZGSuBQM3MzMxM6YFAAAAAAICngkAzMzMzs2WDQGZmZmbmI4RAmpmZmRnihEDNzMzMTKCFQAAAAACAXoZAMzMzM7Mch0BmZmZm5tqHQJqZmZkZmYhAzczMzExXiUAAAAAAgBWKQDMzMzOz04pAZmZmZuaRi0CamZmZGVCMQM3MzMxMDo1AAAAAAIDMjUAzMzMzs4qOQGZmZmbmSI9A\",\"dtype\":\"float64\",\"shape\":[75]}},\"selected\":{\"id\":\"3333fe24-d5c1-4b96-b508-bec7dcc1c0b8\",\"type\":\"Selection\"},\"selection_policy\":{\"id\":\"1fed540d-40d8-4a82-89a2-2dc77c88d1bd\",\"type\":\"UnionRenderers\"}},\"id\":\"f8a644dc-0d7f-43fc-b488-cebc80691f6d\",\"type\":\"ColumnDataSource\"},{\"attributes\":{\"line_alpha\":0.1,\"line_color\":\"#1f77b4\",\"line_dash\":[6],\"line_width\":5,\"x\":{\"field\":\"x\"},\"y\":{\"field\":\"y\"}},\"id\":\"b7331f82-d743-4908-9e56-d0c5b2f908af\",\"type\":\"Line\"},{\"attributes\":{\"line_alpha\":0.1,\"line_color\":\"#1f77b4\",\"line_dash\":[6],\"line_width\":5,\"x\":{\"field\":\"x\"},\"y\":{\"field\":\"y\"}},\"id\":\"6ed3354a-a189-4488-b809-d5a362f8da4b\",\"type\":\"Line\"},{\"attributes\":{},\"id\":\"06ca08f6-d47a-4208-a907-f2add484f65f\",\"type\":\"LogScale\"},{\"attributes\":{},\"id\":\"0cc9f169-a3c4-4fef-ae5c-03909bb2a1f5\",\"type\":\"HelpTool\"},{\"attributes\":{\"active_drag\":\"auto\",\"active_inspect\":\"auto\",\"active_scroll\":\"auto\",\"active_tap\":\"auto\",\"tools\":[{\"id\":\"bd8e0cb1-103e-4f32-b16e-bacf8f5eacab\",\"type\":\"PanTool\"},{\"id\":\"52d75cb4-78fe-4411-bfe0-dcd0292b5a05\",\"type\":\"WheelZoomTool\"},{\"id\":\"613a8d09-61c8-45a1-9f5d-6953ffc1abaa\",\"type\":\"BoxZoomTool\"},{\"id\":\"0b5e3d10-f538-440b-a4dd-e87ce49cfa18\",\"type\":\"SaveTool\"},{\"id\":\"c035ca87-eb8f-441b-90bc-cedc957e9509\",\"type\":\"ResetTool\"},{\"id\":\"9fc5cc2e-9a42-4eaf-b389-4765e4f0a750\",\"type\":\"HelpTool\"}]},\"id\":\"64c48ae1-557d-44cc-b848-a2f13d9f77a8\",\"type\":\"Toolbar\"},{\"attributes\":{\"callback\":null,\"data\":{\"x\":{\"__ndarray__\":\"FrfWArdBij9TxYbGiSqNP0kK941ZPZI/ano6a3j5lT+gA07ckf2ZPxbgIPkBSp4/qiAlx7RuoT/EYVJE0uOjP1yS2PXYhKY/7ox3xkVVqT+3l3sbd1esPws6QIGOjq8/nt1zw2N9sT+NWEzrvRizP/4GGw6zZrQ/upB08aqTtT+OzekNUsu2P38/XSaID7g/7BYCMtReuT+kuLJdBLq6PxBDoyLr/Ls/4tT/IC/3uj966Nmxsxa3P4KsIx670bI/dO909rQUrj8KhgsqvmKnP/IAP3gnfqE/FSHPz0jUmT8fGjKvvpmTP71iWe4dlY0/iCmtDpjuhD8VMTlZyu16P5+NAX4ya3I/NQPh7faebz8LOFM6uylrP2K6Sp/oxmQ/QlQgxnKqWD8A7RK3vInwPr7V4NzrVFy/PGbCriu/a79gpTdqqWZ0vz4rLqxpx3q/7Zv0qMOEgL+TrkYB95qDv/qFVpkxSoa/7jHGZZAwhr+gNL3VzR2Cv8cFLUVuXXi/7DnQTgS0Z7/Qqv0zCTIwP3irQzpwUWw/s44zYQWFez8UXHrGtJOEP7JDE2AMcIs/TPebiaAjkT+9RUPp+4eUP0z9UVdk25c/1j0ugcYSmz+LVAG/kiCeP2ZeLcitgaA/AaSC/7fWoT98MoBpsRGjPydi1xeFNKQ/niXSehtCpT/awiZEVj2mP8DfUyzDJ6c/imZj+mX9pz8YgHFpL7SoP44Rp5glL6k/KqPYpLdMqT8ebmsxlu6oP16SMPe8J6g/BiYe7Qsqpz8YaMXXoRGmP/zlVrKq+KQ/\",\"dtype\":\"float64\",\"shape\":[75]},\"y\":{\"__ndarray__\":\"GhExyth1ND/Sv8nbtpRIP2vylNV0PVE/aTum7souWD/At0SJ8fVgPw3Iuahxymc/MSNhhJWvcD/bTfBN02d3P2zb5nxnaoA/CD5h5MAGhz8NmeH1TyaQP+zrCsc9p5Y/LbKd76fGnz/bLW5ISEmmPww9YvTcQq8/JV2OstnstT8Er5Y7M8G+P0c+r3jqkcU/5h99k6ZBzj88bCIzFzjVP4enV8oyxN0//yH99nXg5D8qOpLLf0jtP5kqGJXUifQ/c9cS8kHP/D+/DpwzojQEQIEmwoanVwxA4lgXt9HgE0BSSZ2AJuIbQAMJih9jjiNA5q4l5INuK0AwTKYKRj0zQNv5fmq8/DpAaCJseHrtQkB/+zpwzoxKQM3MzMzMeFJAZmZmZmZqWEAAAAAAAFxeQM3MzMzMJmJAmpmZmZkfZUBmZmZmZhhoQDMzMzMzEWtAAAAAAAAKbkBmZmZmZoFwQM3MzMzM/XFAMzMzMzN6c0CamZmZmfZ0QAAAAAAAc3ZAZmZmZmbvd0DNzMzMzGt5QDMzMzMz6HpAmpmZmZlkfEAAAAAAAOF9QGZmZmZmXX9AZmZmZuZsgECamZmZGSuBQM3MzMxM6YFAAAAAAICngkAzMzMzs2WDQGZmZmbmI4RAmpmZmRnihEDNzMzMTKCFQAAAAACAXoZAMzMzM7Mch0BmZmZm5tqHQJqZmZkZmYhAzczMzExXiUAAAAAAgBWKQDMzMzOz04pAZmZmZuaRi0CamZmZGVCMQM3MzMxMDo1AAAAAAIDMjUAzMzMzs4qOQGZmZmbmSI9A\",\"dtype\":\"float64\",\"shape\":[75]}},\"selected\":{\"id\":\"9aa0f011-ec0a-489b-b23b-544bee9208cd\",\"type\":\"Selection\"},\"selection_policy\":{\"id\":\"29245b68-1e79-40e8-887e-0e5de87ed901\",\"type\":\"UnionRenderers\"}},\"id\":\"a84f73b1-595f-434f-86ee-9b2a2eb27282\",\"type\":\"ColumnDataSource\"},{\"attributes\":{\"callback\":null,\"end\":0.01,\"start\":1020},\"id\":\"dcd4d593-8905-4ad4-8738-a6a84ec57eb1\",\"type\":\"Range1d\"},{\"attributes\":{\"axis_label\":\"cooling rate [K/day]\",\"formatter\":{\"id\":\"754af0fd-db37-4635-9b3f-c89cb294dcd0\",\"type\":\"BasicTickFormatter\"},\"plot\":{\"id\":\"f5e8d59c-019f-424c-8296-01b450123b9b\",\"subtype\":\"Figure\",\"type\":\"Plot\"},\"ticker\":{\"id\":\"a6d814a0-ad95-4f37-8ca3-8018e0207b4e\",\"type\":\"BasicTicker\"}},\"id\":\"8c1e532c-6d79-42bd-84b6-358f7f42ac8d\",\"type\":\"LinearAxis\"},{\"attributes\":{\"source\":{\"id\":\"f8a644dc-0d7f-43fc-b488-cebc80691f6d\",\"type\":\"ColumnDataSource\"}},\"id\":\"6c71a55a-2224-4537-8010-cb778f226f9a\",\"type\":\"CDSView\"},{\"attributes\":{\"axis_label\":\"pressure [mb]\",\"formatter\":{\"id\":\"cb4b31a9-0551-44e5-a948-6d56e37f6a25\",\"type\":\"BasicTickFormatter\"},\"plot\":{\"id\":\"00efc758-ee23-41e9-a6c2-73cba3b0c38d\",\"subtype\":\"Figure\",\"type\":\"Plot\"},\"ticker\":{\"id\":\"b8915670-ca49-4d6c-9060-b5f8eb985357\",\"type\":\"BasicTicker\"}},\"id\":\"5fd824c0-7633-4ece-9c51-69ca189b5f42\",\"type\":\"LinearAxis\"},{\"attributes\":{\"plot\":null,\"text\":\"\"},\"id\":\"bd53557c-0f98-4c27-84a4-5ba7d95a33fb\",\"type\":\"Title\"},{\"attributes\":{\"source\":{\"id\":\"807a0a52-2cbd-4d7e-aba1-0474704ca148\",\"type\":\"ColumnDataSource\"}},\"id\":\"aee5ec85-e514-4a2b-bb41-de1cae42e992\",\"type\":\"CDSView\"},{\"attributes\":{\"line_color\":\"#4daf4a\",\"line_width\":1.5,\"x\":{\"field\":\"x\"},\"y\":{\"field\":\"y\"}},\"id\":\"fc0348e2-1d12-40da-b4a7-ec6fc7ea53b5\",\"type\":\"Line\"},{\"attributes\":{\"source\":{\"id\":\"32ac3b6a-f78c-48f0-942d-ecea6a534695\",\"type\":\"ColumnDataSource\"}},\"id\":\"31682b73-8c84-4308-966f-899be826242f\",\"type\":\"CDSView\"},{\"attributes\":{\"line_alpha\":0.1,\"line_color\":\"#1f77b4\",\"line_width\":1.5,\"x\":{\"field\":\"x\"},\"y\":{\"field\":\"y\"}},\"id\":\"b6370b77-007b-48d9-8896-48dc3a518027\",\"type\":\"Line\"},{\"attributes\":{\"callback\":null,\"data\":{\"x\":{\"__ndarray__\":\"tGYmkisue7+p/4mR02Bxv+7ta5GaCE0/K5BmoFN4ej8pd9CRuX6JP6zgsHBfUpM/iLnqeA5Wmj/iPmqkDemgP2upnKg956Q/RmbO8wMoqT8rz3mlG6ytP4meHS5ROrE/5agsvGq+sz+burO8Jg62PwoRkook1bc/BMTfgcVVuT+NrYV4Vc+6P3tsnb0BQ7w/bXCHWC6xvT9TVZHhbiC/P4Drlh6+NcA/EFAaIfVbvj//20pGxUy4PwzglE7wIbI/0C6fnWJ6qj84Duzv3/CiP2nfmgSVfJo/WN9XsJI8kz9cYVmJo22PP1uJezGF44o/m5m32WYwhj9rI82+sEKBPzyFJYartX0/p3avVHlqfj8MWBYhZmh+P97iBimkr3w/P/ZlOqxTeT9vi5z/Ax5zP5dqZ7HWn2Y/kUGWUyRDTj/E4RhR6AhOv6jUQssuH2e/dewiLUvoc78mQfuFqBt9v/YEMAa8QoO/DI59YZeehL8BPzy9cMCAv+/2Nk8amnW/aevr2gJhY79QZVz0AoBBP4XF0VyHXGw/a3H+DxNeej9dxvt9aGKDPxundWMwrYk/Iv3BwuYCkD8Po5y34i2TP9JuA6k8TZY/0GRMBgVVmT9eENkJYTmcP4t7kx4z8Z4/RxSzjkW7oD+rN5G60OWhPwikdGD5+qI/6hABuUj/oz/Oobv3pPekP88B21+D56U/KXwMmo3Npj/izvD5z5unP8dU8jlyLKg/lQ81jmRFqD8+U0acicKnPzD3mvRvvaY/55vPbGpypT+3bz85xQ+kP6me6blOqaI/\",\"dtype\":\"float64\",\"shape\":[75]},\"y\":{\"__ndarray__\":\"GhExyth1ND/Sv8nbtpRIP2vylNV0PVE/aTum7souWD/At0SJ8fVgPw3Iuahxymc/MSNhhJWvcD/bTfBN02d3P2zb5nxnaoA/CD5h5MAGhz8NmeH1TyaQP+zrCsc9p5Y/LbKd76fGnz/bLW5ISEmmPww9YvTcQq8/JV2OstnstT8Er5Y7M8G+P0c+r3jqkcU/5h99k6ZBzj88bCIzFzjVP4enV8oyxN0//yH99nXg5D8qOpLLf0jtP5kqGJXUifQ/c9cS8kHP/D+/DpwzojQEQIEmwoanVwxA4lgXt9HgE0BSSZ2AJuIbQAMJih9jjiNA5q4l5INuK0AwTKYKRj0zQNv5fmq8/DpAaCJseHrtQkB/+zpwzoxKQM3MzMzMeFJAZmZmZmZqWEAAAAAAAFxeQM3MzMzMJmJAmpmZmZkfZUBmZmZmZhhoQDMzMzMzEWtAAAAAAAAKbkBmZmZmZoFwQM3MzMzM/XFAMzMzMzN6c0CamZmZmfZ0QAAAAAAAc3ZAZmZmZmbvd0DNzMzMzGt5QDMzMzMz6HpAmpmZmZlkfEAAAAAAAOF9QGZmZmZmXX9AZmZmZuZsgECamZmZGSuBQM3MzMxM6YFAAAAAAICngkAzMzMzs2WDQGZmZmbmI4RAmpmZmRnihEDNzMzMTKCFQAAAAACAXoZAMzMzM7Mch0BmZmZm5tqHQJqZmZkZmYhAzczMzExXiUAAAAAAgBWKQDMzMzOz04pAZmZmZuaRi0CamZmZGVCMQM3MzMxMDo1AAAAAAIDMjUAzMzMzs4qOQGZmZmbmSI9A\",\"dtype\":\"float64\",\"shape\":[75]}},\"selected\":{\"id\":\"fc970913-7392-49ae-bae2-9a56e6d0f37b\",\"type\":\"Selection\"},\"selection_policy\":{\"id\":\"87278e84-7f96-456d-8140-ecd41b6d272a\",\"type\":\"UnionRenderers\"}},\"id\":\"32ac3b6a-f78c-48f0-942d-ecea6a534695\",\"type\":\"ColumnDataSource\"},{\"attributes\":{\"source\":{\"id\":\"c0d9ac1a-6663-45c5-ad68-462575eb1291\",\"type\":\"ColumnDataSource\"}},\"id\":\"1ed84a88-22fb-4647-8bc0-2eff3a43a8eb\",\"type\":\"CDSView\"},{\"attributes\":{\"above\":[{\"id\":\"bc8f64a7-9fba-418a-b6ae-afe5c52cc497\",\"type\":\"Legend\"}],\"below\":[{\"id\":\"f3e97a95-8b8b-4c56-a1f1-35b724f509f6\",\"type\":\"LinearAxis\"}],\"left\":[{\"id\":\"5fd824c0-7633-4ece-9c51-69ca189b5f42\",\"type\":\"LinearAxis\"}],\"plot_width\":300,\"renderers\":[{\"id\":\"f3e97a95-8b8b-4c56-a1f1-35b724f509f6\",\"type\":\"LinearAxis\"},{\"id\":\"1de1c8a3-8178-4026-85f1-215eb0e94b49\",\"type\":\"Grid\"},{\"id\":\"5fd824c0-7633-4ece-9c51-69ca189b5f42\",\"type\":\"LinearAxis\"},{\"id\":\"a10237e3-e6f3-4711-8ef5-dfdfbfef3c80\",\"type\":\"Grid\"},{\"id\":\"c85f6edc-4b76-45d1-bec4-20b6a8dae451\",\"type\":\"BoxAnnotation\"},{\"id\":\"60e0a9e3-49e0-476d-b4a9-352db5485750\",\"type\":\"GlyphRenderer\"},{\"id\":\"f81a405e-e0c5-452c-b753-b9d6789e7e47\",\"type\":\"GlyphRenderer\"},{\"id\":\"60950a3d-11e6-442f-a56d-9728805cb638\",\"type\":\"GlyphRenderer\"},{\"id\":\"bc8f64a7-9fba-418a-b6ae-afe5c52cc497\",\"type\":\"Legend\"}],\"title\":{\"id\":\"bd53557c-0f98-4c27-84a4-5ba7d95a33fb\",\"type\":\"Title\"},\"toolbar\":{\"id\":\"a7e0686b-2a34-48f6-a6d3-c1759b0d66f4\",\"type\":\"Toolbar\"},\"toolbar_location\":null,\"x_range\":{\"id\":\"785c782f-022e-419b-88c3-985d873eb545\",\"type\":\"Range1d\"},\"x_scale\":{\"id\":\"2181d849-7198-4d14-908d-3642e2b94b6e\",\"type\":\"LinearScale\"},\"y_range\":{\"id\":\"1068007a-81aa-4e20-bbbc-81fd0d5acdbc\",\"type\":\"Range1d\"},\"y_scale\":{\"id\":\"82dbb307-6b2c-4ffc-af36-7fb3f28bca94\",\"type\":\"LinearScale\"}},\"id\":\"00efc758-ee23-41e9-a6c2-73cba3b0c38d\",\"subtype\":\"Figure\",\"type\":\"Plot\"},{\"attributes\":{},\"id\":\"030c162d-990b-431d-a165-692b49791aee\",\"type\":\"LinearScale\"},{\"attributes\":{\"fill_alpha\":{\"value\":0.7},\"fill_color\":{\"value\":\"#4daf4a\"},\"line_alpha\":{\"value\":0.7},\"line_color\":{\"value\":\"#4daf4a\"},\"x\":{\"field\":\"x\"},\"y\":{\"field\":\"y\"}},\"id\":\"6c883407-41ed-4c1d-9566-55537addd800\",\"type\":\"Circle\"},{\"attributes\":{\"callback\":null,\"data\":{\"x\":{\"__ndarray__\":\"tGYmkisue7+p/4mR02Bxv+7ta5GaCE0/K5BmoFN4ej8pd9CRuX6JP6zgsHBfUpM/iLnqeA5Wmj/iPmqkDemgP2upnKg956Q/RmbO8wMoqT8rz3mlG6ytP4meHS5ROrE/5agsvGq+sz+burO8Jg62PwoRkook1bc/BMTfgcVVuT+NrYV4Vc+6P3tsnb0BQ7w/bXCHWC6xvT9TVZHhbiC/P4Drlh6+NcA/EFAaIfVbvj//20pGxUy4PwzglE7wIbI/0C6fnWJ6qj84Duzv3/CiP2nfmgSVfJo/WN9XsJI8kz9cYVmJo22PP1uJezGF44o/m5m32WYwhj9rI82+sEKBPzyFJYartX0/p3avVHlqfj8MWBYhZmh+P97iBimkr3w/P/ZlOqxTeT9vi5z/Ax5zP5dqZ7HWn2Y/kUGWUyRDTj/E4RhR6AhOv6jUQssuH2e/dewiLUvoc78mQfuFqBt9v/YEMAa8QoO/DI59YZeehL8BPzy9cMCAv+/2Nk8amnW/aevr2gJhY79QZVz0AoBBP4XF0VyHXGw/a3H+DxNeej9dxvt9aGKDPxundWMwrYk/Iv3BwuYCkD8Po5y34i2TP9JuA6k8TZY/0GRMBgVVmT9eENkJYTmcP4t7kx4z8Z4/RxSzjkW7oD+rN5G60OWhPwikdGD5+qI/6hABuUj/oz/Oobv3pPekP88B21+D56U/KXwMmo3Npj/izvD5z5unP8dU8jlyLKg/lQ81jmRFqD8+U0acicKnPzD3mvRvvaY/55vPbGpypT+3bz85xQ+kP6me6blOqaI/\",\"dtype\":\"float64\",\"shape\":[75]},\"y\":{\"__ndarray__\":\"GhExyth1ND/Sv8nbtpRIP2vylNV0PVE/aTum7souWD/At0SJ8fVgPw3Iuahxymc/MSNhhJWvcD/bTfBN02d3P2zb5nxnaoA/CD5h5MAGhz8NmeH1TyaQP+zrCsc9p5Y/LbKd76fGnz/bLW5ISEmmPww9YvTcQq8/JV2OstnstT8Er5Y7M8G+P0c+r3jqkcU/5h99k6ZBzj88bCIzFzjVP4enV8oyxN0//yH99nXg5D8qOpLLf0jtP5kqGJXUifQ/c9cS8kHP/D+/DpwzojQEQIEmwoanVwxA4lgXt9HgE0BSSZ2AJuIbQAMJih9jjiNA5q4l5INuK0AwTKYKRj0zQNv5fmq8/DpAaCJseHrtQkB/+zpwzoxKQM3MzMzMeFJAZmZmZmZqWEAAAAAAAFxeQM3MzMzMJmJAmpmZmZkfZUBmZmZmZhhoQDMzMzMzEWtAAAAAAAAKbkBmZmZmZoFwQM3MzMzM/XFAMzMzMzN6c0CamZmZmfZ0QAAAAAAAc3ZAZmZmZmbvd0DNzMzMzGt5QDMzMzMz6HpAmpmZmZlkfEAAAAAAAOF9QGZmZmZmXX9AZmZmZuZsgECamZmZGSuBQM3MzMxM6YFAAAAAAICngkAzMzMzs2WDQGZmZmbmI4RAmpmZmRnihEDNzMzMTKCFQAAAAACAXoZAMzMzM7Mch0BmZmZm5tqHQJqZmZkZmYhAzczMzExXiUAAAAAAgBWKQDMzMzOz04pAZmZmZuaRi0CamZmZGVCMQM3MzMxMDo1AAAAAAIDMjUAzMzMzs4qOQGZmZmbmSI9A\",\"dtype\":\"float64\",\"shape\":[75]}},\"selected\":{\"id\":\"9ffc661d-53a7-4c7d-b6b5-1235d09310dc\",\"type\":\"Selection\"},\"selection_policy\":{\"id\":\"49372b34-4cef-4b01-bbce-80c5e8181bb0\",\"type\":\"UnionRenderers\"}},\"id\":\"c0d9ac1a-6663-45c5-ad68-462575eb1291\",\"type\":\"ColumnDataSource\"},{\"attributes\":{\"data_source\":{\"id\":\"32ac3b6a-f78c-48f0-942d-ecea6a534695\",\"type\":\"ColumnDataSource\"},\"glyph\":{\"id\":\"6c883407-41ed-4c1d-9566-55537addd800\",\"type\":\"Circle\"},\"hover_glyph\":null,\"muted_glyph\":null,\"nonselection_glyph\":{\"id\":\"6d7ee1db-444a-4124-9146-34131be15b42\",\"type\":\"Circle\"},\"selection_glyph\":null,\"view\":{\"id\":\"31682b73-8c84-4308-966f-899be826242f\",\"type\":\"CDSView\"}},\"id\":\"2ea1cb86-c4d1-4f11-b4d2-80cc9a9d72e7\",\"type\":\"GlyphRenderer\"},{\"attributes\":{\"fill_alpha\":{\"value\":0.1},\"fill_color\":{\"value\":\"#1f77b4\"},\"line_alpha\":{\"value\":0.1},\"line_color\":{\"value\":\"#1f77b4\"},\"x\":{\"field\":\"x\"},\"y\":{\"field\":\"y\"}},\"id\":\"6d7ee1db-444a-4124-9146-34131be15b42\",\"type\":\"Circle\"},{\"attributes\":{\"callback\":null,\"end\":0.008941178065139995,\"start\":-0.017572049251140014},\"id\":\"7984e245-ae6e-4f0d-9a00-03c0190a47b8\",\"type\":\"Range1d\"},{\"attributes\":{\"label\":{\"value\":\"CLIRAD\"},\"renderers\":[{\"id\":\"21e14e6e-cbfd-4a0e-a89a-22d3cb69afcf\",\"type\":\"GlyphRenderer\"}]},\"id\":\"05b0fe0d-4675-41e7-9b69-f800224b3aa9\",\"type\":\"LegendItem\"},{\"attributes\":{\"data_source\":{\"id\":\"c0d9ac1a-6663-45c5-ad68-462575eb1291\",\"type\":\"ColumnDataSource\"},\"glyph\":{\"id\":\"fc0348e2-1d12-40da-b4a7-ec6fc7ea53b5\",\"type\":\"Line\"},\"hover_glyph\":null,\"muted_glyph\":null,\"nonselection_glyph\":{\"id\":\"b6370b77-007b-48d9-8896-48dc3a518027\",\"type\":\"Line\"},\"selection_glyph\":null,\"view\":{\"id\":\"1ed84a88-22fb-4647-8bc0-2eff3a43a8eb\",\"type\":\"CDSView\"}},\"id\":\"724997e9-ed5b-4a5f-b630-902744734b8c\",\"type\":\"GlyphRenderer\"},{\"attributes\":{\"label\":{\"value\":\"CRD\"},\"renderers\":[{\"id\":\"2ea1cb86-c4d1-4f11-b4d2-80cc9a9d72e7\",\"type\":\"GlyphRenderer\"},{\"id\":\"724997e9-ed5b-4a5f-b630-902744734b8c\",\"type\":\"GlyphRenderer\"}]},\"id\":\"acb9dfa6-c7a9-46ae-9d5b-f2300b86046b\",\"type\":\"LegendItem\"},{\"attributes\":{\"callback\":null,\"data\":{\"x\":{\"__ndarray__\":\"OPX0ZWbskz+U4qXHee2SP9qqa7kUVZE/vqxBBse2jj8XkMsmanyKP9T+3xBF74U/mA+/KrYOgT8QF0H/JNZ3PxCPvtO02Wk/AFSTVOmgNj9Ad+OfSEplvzgY2NeeMHe/OFrGxTcIgr9wEDuLRquHv2BQuOOLc4u/UJpZg9QQjr/8f2+qDRCQv/CzAF3mzZC/BGYVmmhJkb+8cnoPqpmRv8BPKmpEupG/cNnTADAmi79QOA9HGWFzv8CO2fFZ+WU/IAWuxpLSfD9I333oeMeBP/ZExtdz/4A/9Abdfdheej+ISytUZxdvPxDL7ubFjFU/MAGnsOwcRL8EV4SRXF5evzrvRxDylGa/Gep9u/s1bb8GvOyDiNNwv62FYdkvTHK/LuHdiA8pc7+CeOVCeg1zv7vq608mZXK/UPvTYfqncb8oiRRgjKVwv9SBGY2kb26/ypaMSXhCar8AOCT5ijRkvyAINJmsO1i/ID6KRJAfSb/wWQ+I0dVFv8B2sK+fGka/DDqRzwVMQb/QH7u0/M0yvwAaNBxFLta+gNRREyVvMj9wW+mHxBRDP3DJ2cm/LUw/oKKfbZwLUj/gKmoak6FVP6Dn6OR64lg/YJAdrhfcWz/QQoRSG3NePwgKOo5DkWA/oPv4DCe3YT8Qre/uCr5iP/DhK3a7mGM/QEsRHSwtZD/AELLGFFtkPxDfjcf8A2Q/EKZuBYb9Yj9gEwv49oVhP3DMS+s1K2A/UDk5ajF1YD8ArlFSycBiP+CyWSnQpGY/8KHoBBh6az8Iwy/05A5wP5g6asPfenI/\",\"dtype\":\"float64\",\"shape\":[75]},\"y\":{\"__ndarray__\":\"GhExyth1ND/Sv8nbtpRIP2vylNV0PVE/aTum7souWD/At0SJ8fVgPw3Iuahxymc/MSNhhJWvcD/bTfBN02d3P2zb5nxnaoA/CD5h5MAGhz8NmeH1TyaQP+zrCsc9p5Y/LbKd76fGnz/bLW5ISEmmPww9YvTcQq8/JV2OstnstT8Er5Y7M8G+P0c+r3jqkcU/5h99k6ZBzj88bCIzFzjVP4enV8oyxN0//yH99nXg5D8qOpLLf0jtP5kqGJXUifQ/c9cS8kHP/D+/DpwzojQEQIEmwoanVwxA4lgXt9HgE0BSSZ2AJuIbQAMJih9jjiNA5q4l5INuK0AwTKYKRj0zQNv5fmq8/DpAaCJseHrtQkB/+zpwzoxKQM3MzMzMeFJAZmZmZmZqWEAAAAAAAFxeQM3MzMzMJmJAmpmZmZkfZUBmZmZmZhhoQDMzMzMzEWtAAAAAAAAKbkBmZmZmZoFwQM3MzMzM/XFAMzMzMzN6c0CamZmZmfZ0QAAAAAAAc3ZAZmZmZmbvd0DNzMzMzGt5QDMzMzMz6HpAmpmZmZlkfEAAAAAAAOF9QGZmZmZmXX9AZmZmZuZsgECamZmZGSuBQM3MzMxM6YFAAAAAAICngkAzMzMzs2WDQGZmZmbmI4RAmpmZmRnihEDNzMzMTKCFQAAAAACAXoZAMzMzM7Mch0BmZmZm5tqHQJqZmZkZmYhAzczMzExXiUAAAAAAgBWKQDMzMzOz04pAZmZmZuaRi0CamZmZGVCMQM3MzMxMDo1AAAAAAIDMjUAzMzMzs4qOQGZmZmbmSI9A\",\"dtype\":\"float64\",\"shape\":[75]}},\"selected\":{\"id\":\"78614dcb-ca3d-4249-a701-a54639a57359\",\"type\":\"Selection\"},\"selection_policy\":{\"id\":\"e8336653-fd47-4bb8-8f22-8a5b928cd28d\",\"type\":\"UnionRenderers\"}},\"id\":\"80ba1a70-6fc0-4fc9-a3f6-c240317b26e4\",\"type\":\"ColumnDataSource\"},{\"attributes\":{\"callback\":null,\"end\":0.01,\"start\":1020},\"id\":\"b1e65077-4db7-4f91-8692-699db7bc95ce\",\"type\":\"Range1d\"},{\"attributes\":{\"data_source\":{\"id\":\"f8a644dc-0d7f-43fc-b488-cebc80691f6d\",\"type\":\"ColumnDataSource\"},\"glyph\":{\"id\":\"82ed7466-6d20-49da-a241-715cdcee01d4\",\"type\":\"Line\"},\"hover_glyph\":null,\"muted_glyph\":null,\"nonselection_glyph\":{\"id\":\"6ed3354a-a189-4488-b809-d5a362f8da4b\",\"type\":\"Line\"},\"selection_glyph\":null,\"view\":{\"id\":\"6c71a55a-2224-4537-8010-cb778f226f9a\",\"type\":\"CDSView\"}},\"id\":\"21e14e6e-cbfd-4a0e-a89a-22d3cb69afcf\",\"type\":\"GlyphRenderer\"},{\"attributes\":{\"dimension\":1,\"plot\":{\"id\":\"f5e8d59c-019f-424c-8296-01b450123b9b\",\"subtype\":\"Figure\",\"type\":\"Plot\"},\"ticker\":{\"id\":\"1da1ce64-73f0-44c4-b5c3-29c45b328d5f\",\"type\":\"LogTicker\"}},\"id\":\"b766a3c6-9904-4b03-b778-f77a7f464ea9\",\"type\":\"Grid\"},{\"attributes\":{\"items\":[{\"id\":\"40de2d63-f2ed-4fbb-b593-29d0c0d7bb62\",\"type\":\"LegendItem\"}],\"label_text_font_size\":{\"value\":\"8pt\"},\"location\":\"top_center\",\"orientation\":\"horizontal\",\"plot\":{\"id\":\"262f3796-c899-430d-a6e2-3af33a1d73a6\",\"subtype\":\"Figure\",\"type\":\"Plot\"}},\"id\":\"0b517124-eaf1-4aa3-87e3-04b755de0cdc\",\"type\":\"Legend\"},{\"attributes\":{\"num_minor_ticks\":10},\"id\":\"1da1ce64-73f0-44c4-b5c3-29c45b328d5f\",\"type\":\"LogTicker\"},{\"attributes\":{\"axis_label\":\"pressure [mb]\",\"formatter\":{\"id\":\"9687cb9f-5c79-472b-9da3-1ae14aea7aa1\",\"type\":\"LogTickFormatter\"},\"plot\":{\"id\":\"f5e8d59c-019f-424c-8296-01b450123b9b\",\"subtype\":\"Figure\",\"type\":\"Plot\"},\"ticker\":{\"id\":\"1da1ce64-73f0-44c4-b5c3-29c45b328d5f\",\"type\":\"LogTicker\"}},\"id\":\"5f6749f0-19e9-4273-8578-31e0109b94c2\",\"type\":\"LogAxis\"},{\"attributes\":{\"fill_alpha\":{\"value\":0.7},\"fill_color\":{\"value\":\"#984ea3\"},\"line_alpha\":{\"value\":0.7},\"line_color\":{\"value\":\"#984ea3\"},\"x\":{\"field\":\"x\"},\"y\":{\"field\":\"y\"}},\"id\":\"1c10e9a4-bd4e-417d-a651-4a6c458ab5f5\",\"type\":\"Circle\"},{\"attributes\":{\"active_drag\":\"auto\",\"active_inspect\":\"auto\",\"active_scroll\":\"auto\",\"active_tap\":\"auto\",\"tools\":[{\"id\":\"6841817e-42b1-46bf-930f-5cdd8de17eef\",\"type\":\"PanTool\"},{\"id\":\"12dd690e-1fe6-4e7a-a033-60f81f2157d4\",\"type\":\"WheelZoomTool\"},{\"id\":\"369138b2-cbdd-41c6-9ed9-2f69d060c6b7\",\"type\":\"BoxZoomTool\"},{\"id\":\"87a80c11-cd7e-48e2-9830-2cc06e5d3acb\",\"type\":\"SaveTool\"},{\"id\":\"c3bd2a94-0052-4e86-b6f1-8aab5ef8b305\",\"type\":\"ResetTool\"},{\"id\":\"a754a51f-47ca-4230-92a4-d08bd9e753b5\",\"type\":\"HelpTool\"}]},\"id\":\"b2ec519f-89e9-403f-80f8-2cba29ac1b97\",\"type\":\"Toolbar\"},{\"attributes\":{\"children\":[{\"id\":\"0ad736d2-091d-4435-9776-255b5cfd4375\",\"type\":\"Row\"}]},\"id\":\"55a42119-481b-4dc0-b1da-b332778e3ed9\",\"type\":\"Column\"},{\"attributes\":{\"callback\":null,\"end\":0.050016403328399996,\"start\":-0.0114866721684},\"id\":\"785c782f-022e-419b-88c3-985d873eb545\",\"type\":\"Range1d\"},{\"attributes\":{},\"id\":\"5be58080-6463-4dfe-a30e-643d956b7825\",\"type\":\"LogScale\"},{\"attributes\":{\"data_source\":{\"id\":\"807a0a52-2cbd-4d7e-aba1-0474704ca148\",\"type\":\"ColumnDataSource\"},\"glyph\":{\"id\":\"650257dc-5ded-4c60-8081-4355a2cc8bf2\",\"type\":\"Line\"},\"hover_glyph\":null,\"muted_glyph\":null,\"nonselection_glyph\":{\"id\":\"62ece870-50b4-4a0c-91d1-d5a659c860d3\",\"type\":\"Line\"},\"selection_glyph\":null,\"view\":{\"id\":\"aee5ec85-e514-4a2b-bb41-de1cae42e992\",\"type\":\"CDSView\"}},\"id\":\"b06001ba-2d81-46cb-b6cf-d1bb2d50560a\",\"type\":\"GlyphRenderer\"},{\"attributes\":{\"dimension\":1,\"plot\":{\"id\":\"262f3796-c899-430d-a6e2-3af33a1d73a6\",\"subtype\":\"Figure\",\"type\":\"Plot\"},\"ticker\":{\"id\":\"a488069d-3583-455a-b09f-3b029553cab4\",\"type\":\"LogTicker\"}},\"id\":\"fe2c6998-ac80-4393-8949-7d2202ef38e2\",\"type\":\"Grid\"},{\"attributes\":{\"num_minor_ticks\":10},\"id\":\"a488069d-3583-455a-b09f-3b029553cab4\",\"type\":\"LogTicker\"},{\"attributes\":{\"axis_label\":\"pressure [mb]\",\"formatter\":{\"id\":\"48f4da67-33b8-40aa-a5de-a8b0287a6699\",\"type\":\"LogTickFormatter\"},\"plot\":{\"id\":\"262f3796-c899-430d-a6e2-3af33a1d73a6\",\"subtype\":\"Figure\",\"type\":\"Plot\"},\"ticker\":{\"id\":\"a488069d-3583-455a-b09f-3b029553cab4\",\"type\":\"LogTicker\"}},\"id\":\"9b9bd450-ee53-40ce-a8bb-d37623ac1320\",\"type\":\"LogAxis\"},{\"attributes\":{},\"id\":\"798e15bf-e98e-4b28-bfb8-aab254f1295f\",\"type\":\"BasicTicker\"},{\"attributes\":{\"axis_label\":\"cooling rate [K/day]\",\"formatter\":{\"id\":\"da233c5c-58b4-4424-a56c-c8849eddd402\",\"type\":\"BasicTickFormatter\"},\"plot\":{\"id\":\"262f3796-c899-430d-a6e2-3af33a1d73a6\",\"subtype\":\"Figure\",\"type\":\"Plot\"},\"ticker\":{\"id\":\"798e15bf-e98e-4b28-bfb8-aab254f1295f\",\"type\":\"BasicTicker\"}},\"id\":\"0f3c5ab8-9169-4d1a-86b1-b106a0f363b9\",\"type\":\"LinearAxis\"},{\"attributes\":{\"plot\":{\"id\":\"262f3796-c899-430d-a6e2-3af33a1d73a6\",\"subtype\":\"Figure\",\"type\":\"Plot\"},\"ticker\":{\"id\":\"798e15bf-e98e-4b28-bfb8-aab254f1295f\",\"type\":\"BasicTicker\"}},\"id\":\"4744a19e-2434-4101-8656-813344b73cda\",\"type\":\"Grid\"},{\"attributes\":{},\"id\":\"12dd690e-1fe6-4e7a-a033-60f81f2157d4\",\"type\":\"WheelZoomTool\"},{\"attributes\":{\"bottom_units\":\"screen\",\"fill_alpha\":{\"value\":0.5},\"fill_color\":{\"value\":\"lightgrey\"},\"left_units\":\"screen\",\"level\":\"overlay\",\"line_alpha\":{\"value\":1.0},\"line_color\":{\"value\":\"black\"},\"line_dash\":[4,4],\"line_width\":{\"value\":2},\"plot\":null,\"render_mode\":\"css\",\"right_units\":\"screen\",\"top_units\":\"screen\"},\"id\":\"eec2e817-5364-4518-8d15-b88446df5584\",\"type\":\"BoxAnnotation\"},{\"attributes\":{},\"id\":\"6841817e-42b1-46bf-930f-5cdd8de17eef\",\"type\":\"PanTool\"},{\"attributes\":{\"overlay\":{\"id\":\"eec2e817-5364-4518-8d15-b88446df5584\",\"type\":\"BoxAnnotation\"}},\"id\":\"369138b2-cbdd-41c6-9ed9-2f69d060c6b7\",\"type\":\"BoxZoomTool\"},{\"attributes\":{},\"id\":\"87a80c11-cd7e-48e2-9830-2cc06e5d3acb\",\"type\":\"SaveTool\"},{\"attributes\":{},\"id\":\"c3bd2a94-0052-4e86-b6f1-8aab5ef8b305\",\"type\":\"ResetTool\"},{\"attributes\":{},\"id\":\"a754a51f-47ca-4230-92a4-d08bd9e753b5\",\"type\":\"HelpTool\"}],\"root_ids\":[\"6e0b299d-08bd-49bb-ad37-ac95e68b501a\"]},\"title\":\"Bokeh Application\",\"version\":\"0.12.16\"}};\n",
       "  var render_items = [{\"docid\":\"d3d57d25-5e07-4c3d-87b0-063d2623a0b2\",\"elementid\":\"215d2855-ce60-4117-87cf-422e82235012\",\"modelid\":\"6e0b299d-08bd-49bb-ad37-ac95e68b501a\"}];\n",
       "  root.Bokeh.embed.embed_items_notebook(docs_json, render_items);\n",
       "\n",
       "  }\n",
       "  if (root.Bokeh !== undefined) {\n",
       "    embed_document(root);\n",
       "  } else {\n",
       "    var attempts = 0;\n",
       "    var timer = setInterval(function(root) {\n",
       "      if (root.Bokeh !== undefined) {\n",
       "        embed_document(root);\n",
       "        clearInterval(timer);\n",
       "      }\n",
       "      attempts++;\n",
       "      if (attempts > 100) {\n",
       "        console.log(\"Bokeh: ERROR: Unable to run BokehJS code because BokehJS library is missing\")\n",
       "        clearInterval(timer);\n",
       "      }\n",
       "    }, 10, root)\n",
       "  }\n",
       "})(window);"
      ],
      "application/vnd.bokehjs_exec.v0+json": ""
     },
     "metadata": {
      "application/vnd.bokehjs_exec.v0+json": {
       "id": "6e0b299d-08bd-49bb-ad37-ac95e68b501a"
      }
     },
     "output_type": "display_data"
    },
    {
     "data": {
      "text/markdown": [
       "*FIGURE.* Cooling rates & difference."
      ],
      "text/plain": [
       "<IPython.core.display.Markdown object>"
      ]
     },
     "metadata": {},
     "output_type": "display_data"
    },
    {
     "data": {
      "text/html": [
       "<a id=\"Fluxes._saw.\"></a>"
      ],
      "text/plain": [
       "<IPython.core.display.HTML object>"
      ]
     },
     "metadata": {},
     "output_type": "display_data"
    },
    {
     "data": {
      "text/markdown": [
       "# Fluxes. saw."
      ],
      "text/plain": [
       "<IPython.core.display.Markdown object>"
      ]
     },
     "metadata": {},
     "output_type": "display_data"
    },
    {
     "data": {
      "text/html": [
       "\n",
       "<div class=\"bk-root\">\n",
       "    <div class=\"bk-plotdiv\" id=\"f659e147-54bd-44c0-8194-a3aeadb38d8b\"></div>\n",
       "</div>"
      ]
     },
     "metadata": {},
     "output_type": "display_data"
    },
    {
     "data": {
      "application/javascript": [
       "(function(root) {\n",
       "  function embed_document(root) {\n",
       "    \n",
       "  var docs_json = {\"0f584eda-2b42-4f8e-9208-ff202fa11f1b\":{\"roots\":{\"references\":[{\"attributes\":{\"axis_label\":\"spectral band\",\"formatter\":{\"id\":\"4190cfc8-f5b7-4070-8650-9fc10f363609\",\"type\":\"CategoricalTickFormatter\"},\"plot\":{\"id\":\"51d640dc-63cb-4b29-bae9-4f4bd9d91f5d\",\"subtype\":\"Figure\",\"type\":\"Plot\"},\"ticker\":{\"id\":\"b3d447ce-96ff-4f81-9624-dcbb2feb2027\",\"type\":\"CategoricalTicker\"}},\"id\":\"6d865049-6022-474c-96f9-90d5235e3c2a\",\"type\":\"CategoricalAxis\"},{\"attributes\":{\"callback\":null,\"factors\":[\"3\",\"9\"]},\"id\":\"9dd9ae6a-3326-48f7-97a9-d12b4be6db72\",\"type\":\"FactorRange\"},{\"attributes\":{\"plot\":null,\"text\":\"SFC flux. CLIRAD - CRD.\"},\"id\":\"d00848a0-6fac-4ae1-8114-00f492ff451c\",\"type\":\"Title\"},{\"attributes\":{},\"id\":\"2218db5c-9165-4707-8347-2b2acd52ee45\",\"type\":\"CategoricalTickFormatter\"},{\"attributes\":{\"axis_label\":\"flux (W m-2)\",\"formatter\":{\"id\":\"af87a400-4757-4926-98fd-71ab2f268ee1\",\"type\":\"BasicTickFormatter\"},\"plot\":{\"id\":\"6cc4ca9a-2962-437c-a3eb-6d3e4ac1a37e\",\"subtype\":\"Figure\",\"type\":\"Plot\"},\"ticker\":{\"id\":\"55e3ce35-2f12-412c-a873-86365b37fde6\",\"type\":\"BasicTicker\"}},\"id\":\"dfed928c-65ce-4172-aa9f-f39e6e93d77e\",\"type\":\"LinearAxis\"},{\"attributes\":{},\"id\":\"f47fb8f3-cbd2-4b88-bb85-19f37b464e81\",\"type\":\"CategoricalScale\"},{\"attributes\":{\"callback\":null},\"id\":\"7693a49d-3659-4bc9-8ee4-064ad97d8d94\",\"type\":\"DataRange1d\"},{\"attributes\":{\"callback\":null,\"data\":{\"band\":[\"3\",\"9\"],\"flux\":{\"__ndarray__\":\"ALhVACHMo78AbJq0/7qYPw==\",\"dtype\":\"float64\",\"shape\":[2]}},\"selected\":{\"id\":\"c0562eb2-a33d-4b71-9199-21094da414d2\",\"type\":\"Selection\"},\"selection_policy\":{\"id\":\"17f0cd33-f7e9-4443-9b21-9ae476c96b79\",\"type\":\"UnionRenderers\"}},\"id\":\"54a0a8b9-05b3-4402-ab9d-0e6780394cf1\",\"type\":\"ColumnDataSource\"},{\"attributes\":{\"axis_label\":\"flux (W m-2)\",\"formatter\":{\"id\":\"a3e12064-b168-4754-84e7-325021d046b4\",\"type\":\"BasicTickFormatter\"},\"plot\":{\"id\":\"a777ff8a-c801-45db-8587-b61e50f40cf9\",\"subtype\":\"Figure\",\"type\":\"Plot\"},\"ticker\":{\"id\":\"86f57662-d7f8-4916-a59e-22b4bdcd5de3\",\"type\":\"BasicTicker\"}},\"id\":\"d8e0f4b5-7ab7-492f-b723-6cb5c425f613\",\"type\":\"LinearAxis\"},{\"attributes\":{\"bottom_units\":\"screen\",\"fill_alpha\":{\"value\":0.5},\"fill_color\":{\"value\":\"lightgrey\"},\"left_units\":\"screen\",\"level\":\"overlay\",\"line_alpha\":{\"value\":1.0},\"line_color\":{\"value\":\"black\"},\"line_dash\":[4,4],\"line_width\":{\"value\":2},\"plot\":null,\"render_mode\":\"css\",\"right_units\":\"screen\",\"top_units\":\"screen\"},\"id\":\"b65e7631-ac2d-4913-860b-0a613ad9d7a7\",\"type\":\"BoxAnnotation\"},{\"attributes\":{\"active_drag\":\"auto\",\"active_inspect\":\"auto\",\"active_scroll\":\"auto\",\"active_tap\":\"auto\",\"tools\":[{\"id\":\"dba9a351-f0e9-4306-8d50-95db85006856\",\"type\":\"PanTool\"},{\"id\":\"7383b94e-cb9c-4be2-9910-cbcccfd4231d\",\"type\":\"WheelZoomTool\"},{\"id\":\"06a25a6e-36ac-4445-a97a-0a80cd879415\",\"type\":\"BoxZoomTool\"},{\"id\":\"04413e9c-7a29-499a-a5d5-2f1b56a5773d\",\"type\":\"SaveTool\"},{\"id\":\"4c2f42c8-ba12-4385-9ff8-c7edfcc54eb7\",\"type\":\"ResetTool\"},{\"id\":\"733ce1d1-e173-4bb1-86ca-ac481c5e837e\",\"type\":\"HelpTool\"}]},\"id\":\"64397b1c-61b5-42b9-895e-d8cd3f85326b\",\"type\":\"Toolbar\"},{\"attributes\":{},\"id\":\"5d130d8b-4d91-4f58-8783-6c5d7502e07d\",\"type\":\"LinearScale\"},{\"attributes\":{\"axis_label\":\"spectral band\",\"formatter\":{\"id\":\"f8ae7f25-0700-4002-8c13-002af9bee2a3\",\"type\":\"CategoricalTickFormatter\"},\"plot\":{\"id\":\"6cc4ca9a-2962-437c-a3eb-6d3e4ac1a37e\",\"subtype\":\"Figure\",\"type\":\"Plot\"},\"ticker\":{\"id\":\"c9b01e15-fad4-44b9-a72b-d152c7e2091e\",\"type\":\"CategoricalTicker\"}},\"id\":\"aeea3c72-8703-43c5-8eea-a0bcd69e89ff\",\"type\":\"CategoricalAxis\"},{\"attributes\":{\"children\":[{\"id\":\"51d640dc-63cb-4b29-bae9-4f4bd9d91f5d\",\"subtype\":\"Figure\",\"type\":\"Plot\"},{\"id\":\"6cc4ca9a-2962-437c-a3eb-6d3e4ac1a37e\",\"subtype\":\"Figure\",\"type\":\"Plot\"},{\"id\":\"a777ff8a-c801-45db-8587-b61e50f40cf9\",\"subtype\":\"Figure\",\"type\":\"Plot\"}]},\"id\":\"ff4f9ee9-154e-4d5c-874e-92e6c6004706\",\"type\":\"Row\"},{\"attributes\":{},\"id\":\"d7732311-71d1-4cf6-bf5f-22579bcd4303\",\"type\":\"CategoricalScale\"},{\"attributes\":{},\"id\":\"55e3ce35-2f12-412c-a873-86365b37fde6\",\"type\":\"BasicTicker\"},{\"attributes\":{\"fill_alpha\":{\"value\":0.1},\"fill_color\":{\"value\":\"#1f77b4\"},\"line_alpha\":{\"value\":0.1},\"line_color\":{\"value\":\"#1f77b4\"},\"top\":{\"field\":\"flux\"},\"width\":{\"value\":0.9},\"x\":{\"field\":\"band\"}},\"id\":\"1ebdf8f4-0542-4f16-a31a-b6c55bb97b97\",\"type\":\"VBar\"},{\"attributes\":{\"plot\":{\"id\":\"6cc4ca9a-2962-437c-a3eb-6d3e4ac1a37e\",\"subtype\":\"Figure\",\"type\":\"Plot\"},\"ticker\":{\"id\":\"c9b01e15-fad4-44b9-a72b-d152c7e2091e\",\"type\":\"CategoricalTicker\"}},\"id\":\"962bf23f-d0b5-4791-8a6e-0eb178abf46a\",\"type\":\"Grid\"},{\"attributes\":{\"plot\":{\"id\":\"51d640dc-63cb-4b29-bae9-4f4bd9d91f5d\",\"subtype\":\"Figure\",\"type\":\"Plot\"},\"ticker\":{\"id\":\"b3d447ce-96ff-4f81-9624-dcbb2feb2027\",\"type\":\"CategoricalTicker\"}},\"id\":\"c1cd5ddd-3a79-40aa-9c6a-cf7daa7723d9\",\"type\":\"Grid\"},{\"attributes\":{\"callback\":null},\"id\":\"5a11c14c-7723-4ffe-8157-bef53adbb812\",\"type\":\"DataRange1d\"},{\"attributes\":{},\"id\":\"c9b01e15-fad4-44b9-a72b-d152c7e2091e\",\"type\":\"CategoricalTicker\"},{\"attributes\":{},\"id\":\"1daf9f1c-129b-4b57-8119-efee9b8ebd21\",\"type\":\"LinearScale\"},{\"attributes\":{\"dimension\":1,\"plot\":{\"id\":\"6cc4ca9a-2962-437c-a3eb-6d3e4ac1a37e\",\"subtype\":\"Figure\",\"type\":\"Plot\"},\"ticker\":{\"id\":\"55e3ce35-2f12-412c-a873-86365b37fde6\",\"type\":\"BasicTicker\"}},\"id\":\"da596be9-45d5-49e6-9d22-ae9b29ce363d\",\"type\":\"Grid\"},{\"attributes\":{\"fill_alpha\":{\"value\":0.1},\"fill_color\":{\"value\":\"#1f77b4\"},\"line_alpha\":{\"value\":0.1},\"line_color\":{\"value\":\"#1f77b4\"},\"top\":{\"field\":\"flux\"},\"width\":{\"value\":0.9},\"x\":{\"field\":\"band\"}},\"id\":\"09c38787-87a1-409d-b260-40f28243fb29\",\"type\":\"VBar\"},{\"attributes\":{},\"id\":\"07a1b3cb-9625-4453-a1f0-7ffb0352ec52\",\"type\":\"CategoricalTicker\"},{\"attributes\":{\"callback\":null},\"id\":\"461361fa-44ab-4b1d-b75f-25abb4546cc1\",\"type\":\"DataRange1d\"},{\"attributes\":{\"axis_label\":\"spectral band\",\"formatter\":{\"id\":\"2218db5c-9165-4707-8347-2b2acd52ee45\",\"type\":\"CategoricalTickFormatter\"},\"plot\":{\"id\":\"a777ff8a-c801-45db-8587-b61e50f40cf9\",\"subtype\":\"Figure\",\"type\":\"Plot\"},\"ticker\":{\"id\":\"07a1b3cb-9625-4453-a1f0-7ffb0352ec52\",\"type\":\"CategoricalTicker\"}},\"id\":\"93551264-5f47-4e0c-a879-98298d4b25ea\",\"type\":\"CategoricalAxis\"},{\"attributes\":{\"fill_color\":{\"value\":\"#1f77b4\"},\"line_color\":{\"value\":\"#1f77b4\"},\"top\":{\"field\":\"flux\"},\"width\":{\"value\":0.9},\"x\":{\"field\":\"band\"}},\"id\":\"5a784623-a31c-45d5-89cb-e94e061cfc58\",\"type\":\"VBar\"},{\"attributes\":{},\"id\":\"8aabcf32-e035-4d5b-9303-b61a075dfed3\",\"type\":\"LinearScale\"},{\"attributes\":{\"bottom_units\":\"screen\",\"fill_alpha\":{\"value\":0.5},\"fill_color\":{\"value\":\"lightgrey\"},\"left_units\":\"screen\",\"level\":\"overlay\",\"line_alpha\":{\"value\":1.0},\"line_color\":{\"value\":\"black\"},\"line_dash\":[4,4],\"line_width\":{\"value\":2},\"plot\":null,\"render_mode\":\"css\",\"right_units\":\"screen\",\"top_units\":\"screen\"},\"id\":\"ba201798-8751-467a-b237-6e5d30c66f8b\",\"type\":\"BoxAnnotation\"},{\"attributes\":{},\"id\":\"86f57662-d7f8-4916-a59e-22b4bdcd5de3\",\"type\":\"BasicTicker\"},{\"attributes\":{},\"id\":\"dba9a351-f0e9-4306-8d50-95db85006856\",\"type\":\"PanTool\"},{\"attributes\":{\"dimension\":1,\"plot\":{\"id\":\"a777ff8a-c801-45db-8587-b61e50f40cf9\",\"subtype\":\"Figure\",\"type\":\"Plot\"},\"ticker\":{\"id\":\"86f57662-d7f8-4916-a59e-22b4bdcd5de3\",\"type\":\"BasicTicker\"}},\"id\":\"18eafc1a-db41-4953-a543-772e6b0cd33d\",\"type\":\"Grid\"},{\"attributes\":{},\"id\":\"f9a2be10-97ac-4b16-9526-80f6b79a3b8c\",\"type\":\"BasicTicker\"},{\"attributes\":{\"data_source\":{\"id\":\"fd730e97-710a-4cca-be66-2fbd5e6a702f\",\"type\":\"ColumnDataSource\"},\"glyph\":{\"id\":\"5a784623-a31c-45d5-89cb-e94e061cfc58\",\"type\":\"VBar\"},\"hover_glyph\":null,\"muted_glyph\":null,\"nonselection_glyph\":{\"id\":\"1ebdf8f4-0542-4f16-a31a-b6c55bb97b97\",\"type\":\"VBar\"},\"selection_glyph\":null,\"view\":{\"id\":\"f0cd496d-f1cf-4ff6-9a08-a47da4d3b7bd\",\"type\":\"CDSView\"}},\"id\":\"27c30d48-f16c-4340-a462-163ad5d4f803\",\"type\":\"GlyphRenderer\"},{\"attributes\":{},\"id\":\"4190cfc8-f5b7-4070-8650-9fc10f363609\",\"type\":\"CategoricalTickFormatter\"},{\"attributes\":{},\"id\":\"7383b94e-cb9c-4be2-9910-cbcccfd4231d\",\"type\":\"WheelZoomTool\"},{\"attributes\":{\"fill_color\":{\"value\":\"#1f77b4\"},\"line_color\":{\"value\":\"#1f77b4\"},\"top\":{\"field\":\"flux\"},\"width\":{\"value\":0.9},\"x\":{\"field\":\"band\"}},\"id\":\"ad0ecdc1-2b48-480f-8aa7-d12272c523ac\",\"type\":\"VBar\"},{\"attributes\":{\"overlay\":{\"id\":\"ba201798-8751-467a-b237-6e5d30c66f8b\",\"type\":\"BoxAnnotation\"}},\"id\":\"06a25a6e-36ac-4445-a97a-0a80cd879415\",\"type\":\"BoxZoomTool\"},{\"attributes\":{},\"id\":\"1cb4c183-8f4a-46fb-b060-a6a8020e4693\",\"type\":\"SaveTool\"},{\"attributes\":{\"active_drag\":\"auto\",\"active_inspect\":\"auto\",\"active_scroll\":\"auto\",\"active_tap\":\"auto\",\"tools\":[{\"id\":\"92111632-39f3-47f3-8e48-44aae29e9b8f\",\"type\":\"PanTool\"},{\"id\":\"3216f94e-f761-45a6-8159-a27319806055\",\"type\":\"WheelZoomTool\"},{\"id\":\"04f05a39-e624-4c8c-9f95-f506bd72856f\",\"type\":\"BoxZoomTool\"},{\"id\":\"cecf86e6-afb2-4a1e-82e9-3d4223bf6bb4\",\"type\":\"SaveTool\"},{\"id\":\"70e903a2-0cba-47d0-8ed3-e108d1863d2f\",\"type\":\"ResetTool\"},{\"id\":\"81a3acde-6a4a-43da-8fca-d845b86ad2e4\",\"type\":\"HelpTool\"}]},\"id\":\"141866fa-4549-4b84-bd55-438c7396b7f0\",\"type\":\"Toolbar\"},{\"attributes\":{},\"id\":\"04413e9c-7a29-499a-a5d5-2f1b56a5773d\",\"type\":\"SaveTool\"},{\"attributes\":{},\"id\":\"97dce2a4-db62-4375-bdb7-12920cf79311\",\"type\":\"PanTool\"},{\"attributes\":{\"plot\":{\"id\":\"a777ff8a-c801-45db-8587-b61e50f40cf9\",\"subtype\":\"Figure\",\"type\":\"Plot\"},\"ticker\":{\"id\":\"07a1b3cb-9625-4453-a1f0-7ffb0352ec52\",\"type\":\"CategoricalTicker\"}},\"id\":\"2347bbfe-197b-43bb-9b73-eb120c3aeb12\",\"type\":\"Grid\"},{\"attributes\":{\"callback\":null,\"factors\":[\"3\",\"9\"]},\"id\":\"f76c2ab9-3083-4b23-8da6-2e5dc9aaf096\",\"type\":\"FactorRange\"},{\"attributes\":{},\"id\":\"4c2f42c8-ba12-4385-9ff8-c7edfcc54eb7\",\"type\":\"ResetTool\"},{\"attributes\":{},\"id\":\"733ce1d1-e173-4bb1-86ca-ac481c5e837e\",\"type\":\"HelpTool\"},{\"attributes\":{\"plot\":null,\"text\":\"TOA flux. CLIRAD - CRD.\"},\"id\":\"f2e62d4b-acac-422d-9870-2400e43c3be6\",\"type\":\"Title\"},{\"attributes\":{\"below\":[{\"id\":\"6d865049-6022-474c-96f9-90d5235e3c2a\",\"type\":\"CategoricalAxis\"}],\"left\":[{\"id\":\"6f81d6d1-a3cb-4e94-8917-4e984e306494\",\"type\":\"LinearAxis\"}],\"plot_height\":300,\"plot_width\":300,\"renderers\":[{\"id\":\"6d865049-6022-474c-96f9-90d5235e3c2a\",\"type\":\"CategoricalAxis\"},{\"id\":\"c1cd5ddd-3a79-40aa-9c6a-cf7daa7723d9\",\"type\":\"Grid\"},{\"id\":\"6f81d6d1-a3cb-4e94-8917-4e984e306494\",\"type\":\"LinearAxis\"},{\"id\":\"c31aff40-ef92-4fb6-8aab-2bfb850bff33\",\"type\":\"Grid\"},{\"id\":\"4287ccb4-a1fa-45c0-84cc-07d01668af32\",\"type\":\"BoxAnnotation\"},{\"id\":\"0ceeacd3-3f7a-4080-b5a2-bab273c37c86\",\"type\":\"GlyphRenderer\"}],\"title\":{\"id\":\"f2e62d4b-acac-422d-9870-2400e43c3be6\",\"type\":\"Title\"},\"toolbar\":{\"id\":\"141866fa-4549-4b84-bd55-438c7396b7f0\",\"type\":\"Toolbar\"},\"toolbar_location\":null,\"x_range\":{\"id\":\"f76c2ab9-3083-4b23-8da6-2e5dc9aaf096\",\"type\":\"FactorRange\"},\"x_scale\":{\"id\":\"d7732311-71d1-4cf6-bf5f-22579bcd4303\",\"type\":\"CategoricalScale\"},\"y_range\":{\"id\":\"461361fa-44ab-4b1d-b75f-25abb4546cc1\",\"type\":\"DataRange1d\"},\"y_scale\":{\"id\":\"1daf9f1c-129b-4b57-8119-efee9b8ebd21\",\"type\":\"LinearScale\"}},\"id\":\"51d640dc-63cb-4b29-bae9-4f4bd9d91f5d\",\"subtype\":\"Figure\",\"type\":\"Plot\"},{\"attributes\":{\"overlay\":{\"id\":\"b65e7631-ac2d-4913-860b-0a613ad9d7a7\",\"type\":\"BoxAnnotation\"}},\"id\":\"1c94667a-9f26-40d9-846c-89e6ab63e59a\",\"type\":\"BoxZoomTool\"},{\"attributes\":{\"fill_color\":{\"value\":\"#1f77b4\"},\"line_color\":{\"value\":\"#1f77b4\"},\"top\":{\"field\":\"flux\"},\"width\":{\"value\":0.9},\"x\":{\"field\":\"band\"}},\"id\":\"3d641324-f30a-468a-83b9-27f4674b41ec\",\"type\":\"VBar\"},{\"attributes\":{\"source\":{\"id\":\"fd730e97-710a-4cca-be66-2fbd5e6a702f\",\"type\":\"ColumnDataSource\"}},\"id\":\"f0cd496d-f1cf-4ff6-9a08-a47da4d3b7bd\",\"type\":\"CDSView\"},{\"attributes\":{\"axis_label\":\"flux (W m-2)\",\"formatter\":{\"id\":\"c9257b40-e81f-4d99-9cc8-0c7ecaa9fe24\",\"type\":\"BasicTickFormatter\"},\"plot\":{\"id\":\"51d640dc-63cb-4b29-bae9-4f4bd9d91f5d\",\"subtype\":\"Figure\",\"type\":\"Plot\"},\"ticker\":{\"id\":\"f9a2be10-97ac-4b16-9526-80f6b79a3b8c\",\"type\":\"BasicTicker\"}},\"id\":\"6f81d6d1-a3cb-4e94-8917-4e984e306494\",\"type\":\"LinearAxis\"},{\"attributes\":{},\"id\":\"2dd1ae89-d17c-4f3b-a0f7-5fb2aea49c88\",\"type\":\"CategoricalScale\"},{\"attributes\":{\"data_source\":{\"id\":\"54a0a8b9-05b3-4402-ab9d-0e6780394cf1\",\"type\":\"ColumnDataSource\"},\"glyph\":{\"id\":\"ad0ecdc1-2b48-480f-8aa7-d12272c523ac\",\"type\":\"VBar\"},\"hover_glyph\":null,\"muted_glyph\":null,\"nonselection_glyph\":{\"id\":\"09c38787-87a1-409d-b260-40f28243fb29\",\"type\":\"VBar\"},\"selection_glyph\":null,\"view\":{\"id\":\"05b5ed94-e5e7-481d-b994-7788c689a233\",\"type\":\"CDSView\"}},\"id\":\"4ae9c895-5991-44ca-82e4-96df7cfbaee5\",\"type\":\"GlyphRenderer\"},{\"attributes\":{},\"id\":\"b3d447ce-96ff-4f81-9624-dcbb2feb2027\",\"type\":\"CategoricalTicker\"},{\"attributes\":{\"dimension\":1,\"plot\":{\"id\":\"51d640dc-63cb-4b29-bae9-4f4bd9d91f5d\",\"subtype\":\"Figure\",\"type\":\"Plot\"},\"ticker\":{\"id\":\"f9a2be10-97ac-4b16-9526-80f6b79a3b8c\",\"type\":\"BasicTicker\"}},\"id\":\"c31aff40-ef92-4fb6-8aab-2bfb850bff33\",\"type\":\"Grid\"},{\"attributes\":{\"fill_alpha\":{\"value\":0.1},\"fill_color\":{\"value\":\"#1f77b4\"},\"line_alpha\":{\"value\":0.1},\"line_color\":{\"value\":\"#1f77b4\"},\"top\":{\"field\":\"flux\"},\"width\":{\"value\":0.9},\"x\":{\"field\":\"band\"}},\"id\":\"36b4d706-544a-41cd-8adc-dae41f58cfcc\",\"type\":\"VBar\"},{\"attributes\":{},\"id\":\"a53d71d0-58e1-4811-8c45-1f0fc51119dc\",\"type\":\"WheelZoomTool\"},{\"attributes\":{\"bottom_units\":\"screen\",\"fill_alpha\":{\"value\":0.5},\"fill_color\":{\"value\":\"lightgrey\"},\"left_units\":\"screen\",\"level\":\"overlay\",\"line_alpha\":{\"value\":1.0},\"line_color\":{\"value\":\"black\"},\"line_dash\":[4,4],\"line_width\":{\"value\":2},\"plot\":null,\"render_mode\":\"css\",\"right_units\":\"screen\",\"top_units\":\"screen\"},\"id\":\"4287ccb4-a1fa-45c0-84cc-07d01668af32\",\"type\":\"BoxAnnotation\"},{\"attributes\":{},\"id\":\"92111632-39f3-47f3-8e48-44aae29e9b8f\",\"type\":\"PanTool\"},{\"attributes\":{\"data_source\":{\"id\":\"262889db-750f-47fd-8a93-361f07ac57c5\",\"type\":\"ColumnDataSource\"},\"glyph\":{\"id\":\"3d641324-f30a-468a-83b9-27f4674b41ec\",\"type\":\"VBar\"},\"hover_glyph\":null,\"muted_glyph\":null,\"nonselection_glyph\":{\"id\":\"36b4d706-544a-41cd-8adc-dae41f58cfcc\",\"type\":\"VBar\"},\"selection_glyph\":null,\"view\":{\"id\":\"1dae1bfb-0878-4b09-86c8-94d0d677bd67\",\"type\":\"CDSView\"}},\"id\":\"0ceeacd3-3f7a-4080-b5a2-bab273c37c86\",\"type\":\"GlyphRenderer\"},{\"attributes\":{},\"id\":\"3216f94e-f761-45a6-8159-a27319806055\",\"type\":\"WheelZoomTool\"},{\"attributes\":{},\"id\":\"b7a377ad-765b-45b4-95fb-b0e804728e08\",\"type\":\"HelpTool\"},{\"attributes\":{\"overlay\":{\"id\":\"4287ccb4-a1fa-45c0-84cc-07d01668af32\",\"type\":\"BoxAnnotation\"}},\"id\":\"04f05a39-e624-4c8c-9f95-f506bd72856f\",\"type\":\"BoxZoomTool\"},{\"attributes\":{},\"id\":\"0cba6339-80f8-49dc-b772-d16575372281\",\"type\":\"ResetTool\"},{\"attributes\":{},\"id\":\"cecf86e6-afb2-4a1e-82e9-3d4223bf6bb4\",\"type\":\"SaveTool\"},{\"attributes\":{},\"id\":\"c0562eb2-a33d-4b71-9199-21094da414d2\",\"type\":\"Selection\"},{\"attributes\":{\"callback\":null,\"data\":{\"band\":[\"3\",\"9\"],\"flux\":{\"__ndarray__\":\"AGTJBHjilL8A+GsBjRGpPw==\",\"dtype\":\"float64\",\"shape\":[2]}},\"selected\":{\"id\":\"a3ab1732-3a70-4fd7-be30-a49af426bd62\",\"type\":\"Selection\"},\"selection_policy\":{\"id\":\"e99d2ba5-f9a5-445c-bbfa-ea1b185bc07b\",\"type\":\"UnionRenderers\"}},\"id\":\"262889db-750f-47fd-8a93-361f07ac57c5\",\"type\":\"ColumnDataSource\"},{\"attributes\":{},\"id\":\"70e903a2-0cba-47d0-8ed3-e108d1863d2f\",\"type\":\"ResetTool\"},{\"attributes\":{},\"id\":\"a3ab1732-3a70-4fd7-be30-a49af426bd62\",\"type\":\"Selection\"},{\"attributes\":{},\"id\":\"81a3acde-6a4a-43da-8fca-d845b86ad2e4\",\"type\":\"HelpTool\"},{\"attributes\":{\"children\":[{\"id\":\"ff4f9ee9-154e-4d5c-874e-92e6c6004706\",\"type\":\"Row\"}]},\"id\":\"4771f2d0-4f9c-48d4-b17f-8254ffc50b4d\",\"type\":\"Column\"},{\"attributes\":{\"source\":{\"id\":\"54a0a8b9-05b3-4402-ab9d-0e6780394cf1\",\"type\":\"ColumnDataSource\"}},\"id\":\"05b5ed94-e5e7-481d-b994-7788c689a233\",\"type\":\"CDSView\"},{\"attributes\":{},\"id\":\"e99d2ba5-f9a5-445c-bbfa-ea1b185bc07b\",\"type\":\"UnionRenderers\"},{\"attributes\":{\"source\":{\"id\":\"262889db-750f-47fd-8a93-361f07ac57c5\",\"type\":\"ColumnDataSource\"}},\"id\":\"1dae1bfb-0878-4b09-86c8-94d0d677bd67\",\"type\":\"CDSView\"},{\"attributes\":{\"callback\":null,\"factors\":[\"3\",\"9\"]},\"id\":\"83ed266a-2cc0-41be-a9bf-6e4a71973c7c\",\"type\":\"FactorRange\"},{\"attributes\":{\"plot\":null,\"text\":\"Atmosphere heating. CLIRAD - CRD.\"},\"id\":\"4095dec5-a599-4785-918c-92cead51cf77\",\"type\":\"Title\"},{\"attributes\":{},\"id\":\"a134a4e4-19ff-4e3e-a154-94adc0bc8f31\",\"type\":\"UnionRenderers\"},{\"attributes\":{\"tools\":[{\"id\":\"92111632-39f3-47f3-8e48-44aae29e9b8f\",\"type\":\"PanTool\"},{\"id\":\"3216f94e-f761-45a6-8159-a27319806055\",\"type\":\"WheelZoomTool\"},{\"id\":\"04f05a39-e624-4c8c-9f95-f506bd72856f\",\"type\":\"BoxZoomTool\"},{\"id\":\"cecf86e6-afb2-4a1e-82e9-3d4223bf6bb4\",\"type\":\"SaveTool\"},{\"id\":\"70e903a2-0cba-47d0-8ed3-e108d1863d2f\",\"type\":\"ResetTool\"},{\"id\":\"81a3acde-6a4a-43da-8fca-d845b86ad2e4\",\"type\":\"HelpTool\"},{\"id\":\"dba9a351-f0e9-4306-8d50-95db85006856\",\"type\":\"PanTool\"},{\"id\":\"7383b94e-cb9c-4be2-9910-cbcccfd4231d\",\"type\":\"WheelZoomTool\"},{\"id\":\"06a25a6e-36ac-4445-a97a-0a80cd879415\",\"type\":\"BoxZoomTool\"},{\"id\":\"04413e9c-7a29-499a-a5d5-2f1b56a5773d\",\"type\":\"SaveTool\"},{\"id\":\"4c2f42c8-ba12-4385-9ff8-c7edfcc54eb7\",\"type\":\"ResetTool\"},{\"id\":\"733ce1d1-e173-4bb1-86ca-ac481c5e837e\",\"type\":\"HelpTool\"},{\"id\":\"97dce2a4-db62-4375-bdb7-12920cf79311\",\"type\":\"PanTool\"},{\"id\":\"a53d71d0-58e1-4811-8c45-1f0fc51119dc\",\"type\":\"WheelZoomTool\"},{\"id\":\"1c94667a-9f26-40d9-846c-89e6ab63e59a\",\"type\":\"BoxZoomTool\"},{\"id\":\"1cb4c183-8f4a-46fb-b060-a6a8020e4693\",\"type\":\"SaveTool\"},{\"id\":\"0cba6339-80f8-49dc-b772-d16575372281\",\"type\":\"ResetTool\"},{\"id\":\"b7a377ad-765b-45b4-95fb-b0e804728e08\",\"type\":\"HelpTool\"}]},\"id\":\"0f3d8b9e-f19d-47c4-8fb0-034ed8218b13\",\"type\":\"ProxyToolbar\"},{\"attributes\":{},\"id\":\"c9257b40-e81f-4d99-9cc8-0c7ecaa9fe24\",\"type\":\"BasicTickFormatter\"},{\"attributes\":{\"children\":[{\"id\":\"79141f78-5095-4171-a99a-9eae46e272cf\",\"type\":\"ToolbarBox\"},{\"id\":\"4771f2d0-4f9c-48d4-b17f-8254ffc50b4d\",\"type\":\"Column\"}]},\"id\":\"ee7837db-986c-4388-9c0f-276c09d85ed4\",\"type\":\"Column\"},{\"attributes\":{},\"id\":\"af87a400-4757-4926-98fd-71ab2f268ee1\",\"type\":\"BasicTickFormatter\"},{\"attributes\":{\"below\":[{\"id\":\"aeea3c72-8703-43c5-8eea-a0bcd69e89ff\",\"type\":\"CategoricalAxis\"}],\"left\":[{\"id\":\"dfed928c-65ce-4172-aa9f-f39e6e93d77e\",\"type\":\"LinearAxis\"}],\"plot_height\":300,\"plot_width\":300,\"renderers\":[{\"id\":\"aeea3c72-8703-43c5-8eea-a0bcd69e89ff\",\"type\":\"CategoricalAxis\"},{\"id\":\"962bf23f-d0b5-4791-8a6e-0eb178abf46a\",\"type\":\"Grid\"},{\"id\":\"dfed928c-65ce-4172-aa9f-f39e6e93d77e\",\"type\":\"LinearAxis\"},{\"id\":\"da596be9-45d5-49e6-9d22-ae9b29ce363d\",\"type\":\"Grid\"},{\"id\":\"ba201798-8751-467a-b237-6e5d30c66f8b\",\"type\":\"BoxAnnotation\"},{\"id\":\"27c30d48-f16c-4340-a462-163ad5d4f803\",\"type\":\"GlyphRenderer\"}],\"title\":{\"id\":\"d00848a0-6fac-4ae1-8114-00f492ff451c\",\"type\":\"Title\"},\"toolbar\":{\"id\":\"64397b1c-61b5-42b9-895e-d8cd3f85326b\",\"type\":\"Toolbar\"},\"toolbar_location\":null,\"x_range\":{\"id\":\"9dd9ae6a-3326-48f7-97a9-d12b4be6db72\",\"type\":\"FactorRange\"},\"x_scale\":{\"id\":\"f47fb8f3-cbd2-4b88-bb85-19f37b464e81\",\"type\":\"CategoricalScale\"},\"y_range\":{\"id\":\"7693a49d-3659-4bc9-8ee4-064ad97d8d94\",\"type\":\"DataRange1d\"},\"y_scale\":{\"id\":\"5d130d8b-4d91-4f58-8783-6c5d7502e07d\",\"type\":\"LinearScale\"}},\"id\":\"6cc4ca9a-2962-437c-a3eb-6d3e4ac1a37e\",\"subtype\":\"Figure\",\"type\":\"Plot\"},{\"attributes\":{},\"id\":\"f8ae7f25-0700-4002-8c13-002af9bee2a3\",\"type\":\"CategoricalTickFormatter\"},{\"attributes\":{},\"id\":\"a3e12064-b168-4754-84e7-325021d046b4\",\"type\":\"BasicTickFormatter\"},{\"attributes\":{\"active_drag\":\"auto\",\"active_inspect\":\"auto\",\"active_scroll\":\"auto\",\"active_tap\":\"auto\",\"tools\":[{\"id\":\"97dce2a4-db62-4375-bdb7-12920cf79311\",\"type\":\"PanTool\"},{\"id\":\"a53d71d0-58e1-4811-8c45-1f0fc51119dc\",\"type\":\"WheelZoomTool\"},{\"id\":\"1c94667a-9f26-40d9-846c-89e6ab63e59a\",\"type\":\"BoxZoomTool\"},{\"id\":\"1cb4c183-8f4a-46fb-b060-a6a8020e4693\",\"type\":\"SaveTool\"},{\"id\":\"0cba6339-80f8-49dc-b772-d16575372281\",\"type\":\"ResetTool\"},{\"id\":\"b7a377ad-765b-45b4-95fb-b0e804728e08\",\"type\":\"HelpTool\"}]},\"id\":\"fe23e0f4-0693-4d24-9462-6cfa060ff109\",\"type\":\"Toolbar\"},{\"attributes\":{\"callback\":null,\"data\":{\"band\":[\"3\",\"9\"],\"flux\":{\"__ndarray__\":\"QLSaQ4y2kj/AU1FhEWiZPw==\",\"dtype\":\"float64\",\"shape\":[2]}},\"selected\":{\"id\":\"a306ee22-25a3-47a5-b987-b71cf19429dc\",\"type\":\"Selection\"},\"selection_policy\":{\"id\":\"a134a4e4-19ff-4e3e-a154-94adc0bc8f31\",\"type\":\"UnionRenderers\"}},\"id\":\"fd730e97-710a-4cca-be66-2fbd5e6a702f\",\"type\":\"ColumnDataSource\"},{\"attributes\":{},\"id\":\"a306ee22-25a3-47a5-b987-b71cf19429dc\",\"type\":\"Selection\"},{\"attributes\":{\"toolbar\":{\"id\":\"0f3d8b9e-f19d-47c4-8fb0-034ed8218b13\",\"type\":\"ProxyToolbar\"},\"toolbar_location\":\"above\"},\"id\":\"79141f78-5095-4171-a99a-9eae46e272cf\",\"type\":\"ToolbarBox\"},{\"attributes\":{\"below\":[{\"id\":\"93551264-5f47-4e0c-a879-98298d4b25ea\",\"type\":\"CategoricalAxis\"}],\"left\":[{\"id\":\"d8e0f4b5-7ab7-492f-b723-6cb5c425f613\",\"type\":\"LinearAxis\"}],\"plot_height\":300,\"plot_width\":300,\"renderers\":[{\"id\":\"93551264-5f47-4e0c-a879-98298d4b25ea\",\"type\":\"CategoricalAxis\"},{\"id\":\"2347bbfe-197b-43bb-9b73-eb120c3aeb12\",\"type\":\"Grid\"},{\"id\":\"d8e0f4b5-7ab7-492f-b723-6cb5c425f613\",\"type\":\"LinearAxis\"},{\"id\":\"18eafc1a-db41-4953-a543-772e6b0cd33d\",\"type\":\"Grid\"},{\"id\":\"b65e7631-ac2d-4913-860b-0a613ad9d7a7\",\"type\":\"BoxAnnotation\"},{\"id\":\"4ae9c895-5991-44ca-82e4-96df7cfbaee5\",\"type\":\"GlyphRenderer\"}],\"title\":{\"id\":\"4095dec5-a599-4785-918c-92cead51cf77\",\"type\":\"Title\"},\"toolbar\":{\"id\":\"fe23e0f4-0693-4d24-9462-6cfa060ff109\",\"type\":\"Toolbar\"},\"toolbar_location\":null,\"x_range\":{\"id\":\"83ed266a-2cc0-41be-a9bf-6e4a71973c7c\",\"type\":\"FactorRange\"},\"x_scale\":{\"id\":\"2dd1ae89-d17c-4f3b-a0f7-5fb2aea49c88\",\"type\":\"CategoricalScale\"},\"y_range\":{\"id\":\"5a11c14c-7723-4ffe-8157-bef53adbb812\",\"type\":\"DataRange1d\"},\"y_scale\":{\"id\":\"8aabcf32-e035-4d5b-9303-b61a075dfed3\",\"type\":\"LinearScale\"}},\"id\":\"a777ff8a-c801-45db-8587-b61e50f40cf9\",\"subtype\":\"Figure\",\"type\":\"Plot\"},{\"attributes\":{},\"id\":\"17f0cd33-f7e9-4443-9b21-9ae476c96b79\",\"type\":\"UnionRenderers\"}],\"root_ids\":[\"ee7837db-986c-4388-9c0f-276c09d85ed4\"]},\"title\":\"Bokeh Application\",\"version\":\"0.12.16\"}};\n",
       "  var render_items = [{\"docid\":\"0f584eda-2b42-4f8e-9208-ff202fa11f1b\",\"elementid\":\"f659e147-54bd-44c0-8194-a3aeadb38d8b\",\"modelid\":\"ee7837db-986c-4388-9c0f-276c09d85ed4\"}];\n",
       "  root.Bokeh.embed.embed_items_notebook(docs_json, render_items);\n",
       "\n",
       "  }\n",
       "  if (root.Bokeh !== undefined) {\n",
       "    embed_document(root);\n",
       "  } else {\n",
       "    var attempts = 0;\n",
       "    var timer = setInterval(function(root) {\n",
       "      if (root.Bokeh !== undefined) {\n",
       "        embed_document(root);\n",
       "        clearInterval(timer);\n",
       "      }\n",
       "      attempts++;\n",
       "      if (attempts > 100) {\n",
       "        console.log(\"Bokeh: ERROR: Unable to run BokehJS code because BokehJS library is missing\")\n",
       "        clearInterval(timer);\n",
       "      }\n",
       "    }, 10, root)\n",
       "  }\n",
       "})(window);"
      ],
      "application/vnd.bokehjs_exec.v0+json": ""
     },
     "metadata": {
      "application/vnd.bokehjs_exec.v0+json": {
       "id": "ee7837db-986c-4388-9c0f-276c09d85ed4"
      }
     },
     "output_type": "display_data"
    },
    {
     "data": {
      "text/markdown": [
       "*FIGURE.* Difference between CLIRAD and CRD in TOA, SFC and net atmosphere flux, in each spectral band."
      ],
      "text/plain": [
       "<IPython.core.display.Markdown object>"
      ]
     },
     "metadata": {},
     "output_type": "display_data"
    },
    {
     "data": {
      "text/html": [
       "<div>\n",
       "<style scoped>\n",
       "    .dataframe tbody tr th:only-of-type {\n",
       "        vertical-align: middle;\n",
       "    }\n",
       "\n",
       "    .dataframe tbody tr th {\n",
       "        vertical-align: top;\n",
       "    }\n",
       "\n",
       "    .dataframe thead th {\n",
       "        text-align: right;\n",
       "    }\n",
       "</style>\n",
       "<table border=\"1\" class=\"dataframe\">\n",
       "  <thead>\n",
       "    <tr style=\"text-align: right;\">\n",
       "      <th></th>\n",
       "      <th>OLR flux</th>\n",
       "      <th>SFC flux</th>\n",
       "      <th>ATM heating</th>\n",
       "    </tr>\n",
       "    <tr>\n",
       "      <th>Sum over bands</th>\n",
       "      <th></th>\n",
       "      <th></th>\n",
       "      <th></th>\n",
       "    </tr>\n",
       "  </thead>\n",
       "  <tbody>\n",
       "    <tr>\n",
       "      <th>CLIRAD - CRD</th>\n",
       "      <td>0.03</td>\n",
       "      <td>0.04</td>\n",
       "      <td>-0.01</td>\n",
       "    </tr>\n",
       "    <tr>\n",
       "      <th>CRD</th>\n",
       "      <td>-31.71</td>\n",
       "      <td>3.68</td>\n",
       "      <td>-2.24</td>\n",
       "    </tr>\n",
       "  </tbody>\n",
       "</table>\n",
       "</div>"
      ],
      "text/plain": [
       "                OLR flux  SFC flux  ATM heating\n",
       "Sum over bands                                 \n",
       "CLIRAD - CRD        0.03      0.04        -0.01\n",
       "CRD               -31.71      3.68        -2.24"
      ]
     },
     "metadata": {},
     "output_type": "display_data"
    },
    {
     "data": {
      "text/markdown": [
       "*TABLE.* Difference between CLIRAD and CRD in TOA, SFC and net atmosphere flux, over all spectral bands. CRD's TOA, SFC and net atmosphere flux, over all spectral bands."
      ],
      "text/plain": [
       "<IPython.core.display.Markdown object>"
      ]
     },
     "metadata": {},
     "output_type": "display_data"
    },
    {
     "data": {
      "text/html": [
       "<a id=\"Parameters_of_runs._trp\"></a>"
      ],
      "text/plain": [
       "<IPython.core.display.HTML object>"
      ]
     },
     "metadata": {},
     "output_type": "display_data"
    },
    {
     "data": {
      "text/markdown": [
       "# Parameters of runs. trp"
      ],
      "text/plain": [
       "<IPython.core.display.Markdown object>"
      ]
     },
     "metadata": {},
     "output_type": "display_data"
    },
    {
     "data": {
      "text/html": [
       "<div>\n",
       "<style scoped>\n",
       "    .dataframe tbody tr th:only-of-type {\n",
       "        vertical-align: middle;\n",
       "    }\n",
       "\n",
       "    .dataframe tbody tr th {\n",
       "        vertical-align: top;\n",
       "    }\n",
       "\n",
       "    .dataframe thead tr th {\n",
       "        text-align: left;\n",
       "    }\n",
       "</style>\n",
       "<table border=\"1\" class=\"dataframe\">\n",
       "  <thead>\n",
       "    <tr>\n",
       "      <th></th>\n",
       "      <th>clirad-lw</th>\n",
       "      <th colspan=\"2\" halign=\"left\">lblnew-bestfit lw</th>\n",
       "    </tr>\n",
       "    <tr>\n",
       "      <th></th>\n",
       "      <th>:D</th>\n",
       "      <th>band3a n2o</th>\n",
       "      <th>band7 n2o</th>\n",
       "    </tr>\n",
       "  </thead>\n",
       "  <tbody>\n",
       "    <tr>\n",
       "      <th>atmpro</th>\n",
       "      <td>trp</td>\n",
       "      <td>trp</td>\n",
       "      <td>trp</td>\n",
       "    </tr>\n",
       "    <tr>\n",
       "      <th>band</th>\n",
       "      <td>[3, 9]</td>\n",
       "      <td>3a</td>\n",
       "      <td>7</td>\n",
       "    </tr>\n",
       "    <tr>\n",
       "      <th>commitnumber</th>\n",
       "      <td>1013f91</td>\n",
       "      <td>5014a19</td>\n",
       "      <td>5014a19</td>\n",
       "    </tr>\n",
       "    <tr>\n",
       "      <th>conc</th>\n",
       "      <td>-</td>\n",
       "      <td>3.2e-07</td>\n",
       "      <td>3.2e-07</td>\n",
       "    </tr>\n",
       "    <tr>\n",
       "      <th>dv</th>\n",
       "      <td>-</td>\n",
       "      <td>0.001</td>\n",
       "      <td>0.001</td>\n",
       "    </tr>\n",
       "    <tr>\n",
       "      <th>klin</th>\n",
       "      <td>-</td>\n",
       "      <td>2.22e-20</td>\n",
       "      <td>2.22e-20</td>\n",
       "    </tr>\n",
       "    <tr>\n",
       "      <th>molecule</th>\n",
       "      <td>{'n2o': 3.2e-07}</td>\n",
       "      <td>n2o</td>\n",
       "      <td>n2o</td>\n",
       "    </tr>\n",
       "    <tr>\n",
       "      <th>ng_adju</th>\n",
       "      <td>-</td>\n",
       "      <td>[0, 0]</td>\n",
       "      <td>[0, 0]</td>\n",
       "    </tr>\n",
       "    <tr>\n",
       "      <th>ng_refs</th>\n",
       "      <td>-</td>\n",
       "      <td>[1, 2]</td>\n",
       "      <td>[2, 2]</td>\n",
       "    </tr>\n",
       "    <tr>\n",
       "      <th>nv</th>\n",
       "      <td>-</td>\n",
       "      <td>1000</td>\n",
       "      <td>1000</td>\n",
       "    </tr>\n",
       "    <tr>\n",
       "      <th>option_compute_btable</th>\n",
       "      <td>-</td>\n",
       "      <td>0</td>\n",
       "      <td>0</td>\n",
       "    </tr>\n",
       "    <tr>\n",
       "      <th>option_compute_ktable</th>\n",
       "      <td>-</td>\n",
       "      <td>0</td>\n",
       "      <td>0</td>\n",
       "    </tr>\n",
       "    <tr>\n",
       "      <th>option_wgt_flux</th>\n",
       "      <td>-</td>\n",
       "      <td>1</td>\n",
       "      <td>1</td>\n",
       "    </tr>\n",
       "    <tr>\n",
       "      <th>option_wgt_k</th>\n",
       "      <td>-</td>\n",
       "      <td>1</td>\n",
       "      <td>1</td>\n",
       "    </tr>\n",
       "    <tr>\n",
       "      <th>ref_pts</th>\n",
       "      <td>-</td>\n",
       "      <td>[[1, 250], [500, 250]]</td>\n",
       "      <td>[[1, 250], [500, 250]]</td>\n",
       "    </tr>\n",
       "    <tr>\n",
       "      <th>tsfc</th>\n",
       "      <td>300</td>\n",
       "      <td>300</td>\n",
       "      <td>300</td>\n",
       "    </tr>\n",
       "    <tr>\n",
       "      <th>vmax</th>\n",
       "      <td>-</td>\n",
       "      <td>620</td>\n",
       "      <td>1380</td>\n",
       "    </tr>\n",
       "    <tr>\n",
       "      <th>vmin</th>\n",
       "      <td>-</td>\n",
       "      <td>540</td>\n",
       "      <td>1215</td>\n",
       "    </tr>\n",
       "    <tr>\n",
       "      <th>w_diffuse</th>\n",
       "      <td>-</td>\n",
       "      <td>[[1.8], [1.66, 1.8]]</td>\n",
       "      <td>[[1.8, 1.66], [1.6, 1.8]]</td>\n",
       "    </tr>\n",
       "    <tr>\n",
       "      <th>wgt</th>\n",
       "      <td>-</td>\n",
       "      <td>[[0.9], [0.5, 0.95]]</td>\n",
       "      <td>[[0.6, 0.5], [0.6, 0.9]]</td>\n",
       "    </tr>\n",
       "  </tbody>\n",
       "</table>\n",
       "</div>"
      ],
      "text/plain": [
       "                              clirad-lw       lblnew-bestfit lw  \\\n",
       "                                     :D              band3a n2o   \n",
       "atmpro                              trp                     trp   \n",
       "band                             [3, 9]                      3a   \n",
       "commitnumber                    1013f91                 5014a19   \n",
       "conc                                  -                 3.2e-07   \n",
       "dv                                    -                   0.001   \n",
       "klin                                  -                2.22e-20   \n",
       "molecule               {'n2o': 3.2e-07}                     n2o   \n",
       "ng_adju                               -                  [0, 0]   \n",
       "ng_refs                               -                  [1, 2]   \n",
       "nv                                    -                    1000   \n",
       "option_compute_btable                 -                       0   \n",
       "option_compute_ktable                 -                       0   \n",
       "option_wgt_flux                       -                       1   \n",
       "option_wgt_k                          -                       1   \n",
       "ref_pts                               -  [[1, 250], [500, 250]]   \n",
       "tsfc                                300                     300   \n",
       "vmax                                  -                     620   \n",
       "vmin                                  -                     540   \n",
       "w_diffuse                             -    [[1.8], [1.66, 1.8]]   \n",
       "wgt                                   -    [[0.9], [0.5, 0.95]]   \n",
       "\n",
       "                                                  \n",
       "                                       band7 n2o  \n",
       "atmpro                                       trp  \n",
       "band                                           7  \n",
       "commitnumber                             5014a19  \n",
       "conc                                     3.2e-07  \n",
       "dv                                         0.001  \n",
       "klin                                    2.22e-20  \n",
       "molecule                                     n2o  \n",
       "ng_adju                                   [0, 0]  \n",
       "ng_refs                                   [2, 2]  \n",
       "nv                                          1000  \n",
       "option_compute_btable                          0  \n",
       "option_compute_ktable                          0  \n",
       "option_wgt_flux                                1  \n",
       "option_wgt_k                                   1  \n",
       "ref_pts                   [[1, 250], [500, 250]]  \n",
       "tsfc                                         300  \n",
       "vmax                                        1380  \n",
       "vmin                                        1215  \n",
       "w_diffuse              [[1.8, 1.66], [1.6, 1.8]]  \n",
       "wgt                     [[0.6, 0.5], [0.6, 0.9]]  "
      ]
     },
     "metadata": {},
     "output_type": "display_data"
    },
    {
     "data": {
      "text/html": [
       "<a id=\"Cooling_rates._trp.\"></a>"
      ],
      "text/plain": [
       "<IPython.core.display.HTML object>"
      ]
     },
     "metadata": {},
     "output_type": "display_data"
    },
    {
     "data": {
      "text/markdown": [
       "# Cooling rates. trp."
      ],
      "text/plain": [
       "<IPython.core.display.Markdown object>"
      ]
     },
     "metadata": {},
     "output_type": "display_data"
    },
    {
     "data": {
      "text/html": [
       "\n",
       "<div class=\"bk-root\">\n",
       "    <div class=\"bk-plotdiv\" id=\"8d566207-6493-4976-9eed-d85750b1ef12\"></div>\n",
       "</div>"
      ]
     },
     "metadata": {},
     "output_type": "display_data"
    },
    {
     "data": {
      "application/javascript": [
       "(function(root) {\n",
       "  function embed_document(root) {\n",
       "    \n",
       "  var docs_json = {\"817d425f-ff6a-4a08-887f-f69bba3caa7c\":{\"roots\":{\"references\":[{\"attributes\":{\"num_minor_ticks\":10},\"id\":\"e06459be-c1c7-4641-aa53-ba9ca85d5bd5\",\"type\":\"LogTicker\"},{\"attributes\":{\"callback\":null,\"data\":{\"x\":{\"__ndarray__\":\"KPkvzJ2rYr9m2Z5XfzZgv+glBCjXZlS/2AyLlT33Qb8gXnHg8ccmP4BRyGWKH00/6Lb4DbS/Wj8gTftC3YJjPz5QKr76qGk/ZlVUGVf3bz+7mygEGRpzP/loz+4SUXY/sjiLOz98eT8F/Xusvah9P7wkvKfsoIY/kz+qbXvlkz/xgZQNqI2fP953iFZZoaY/cNVofqSkrj/q/6XXKQC0P3AR6rIwdbk/tMsaaWcgvz9aCVfsoZDAP7x31JgQ874/KsCvRZZCuz9DE51viJS2P+I9G3oKB7I/hu5D8lbcqz/EPuW+85CkP5REycAOV5w/Xb256R4zkT8PFSJhkb99P3AH4mwe9le/uw4mxta/hL+qZx/14HiVv/IicWFtJKG/bImci60Kpr+Y770Y+sKnv151XA5tYKe/hJITN7i+pr9wGlpZ7eWlv/1Q/5YN3aS/HRyedXyho7/aosxPuDqivxktuzSCrKC/5awhqQbynb8aWDVqeFGav2KjLoWHcZa/Rlgf0hlfkr8TbmnmJjmMvwnZPSbHXoO/AmT/dLd2dL8gT0dEVIg3v72imFsh9XE/g7Eg9SACgz9VayvcPTeNP9blKS602pM/Ecl+gC8xmT/kExUe8p6eP/b/mkG2C6I/HkXGOLm+pD9oXRCCb0mnP6opSLoGgKk/6L+2Z15aqz8CjbsJCvisPzQLH9enmK4/JK+maVI1sD9QSaqqKEKxP4GgDvEwabI/ikLpENqgsz8hYclpEOW0Pw8SZRkpLrY/CHlt0Sp8tz/+8wYopdG4P4je9sUkKro/\",\"dtype\":\"float64\",\"shape\":[75]},\"y\":{\"__ndarray__\":\"GhExyth1ND/Sv8nbtpRIP2vylNV0PVE/aTum7souWD/At0SJ8fVgPw3Iuahxymc/MSNhhJWvcD/bTfBN02d3P2zb5nxnaoA/CD5h5MAGhz8NmeH1TyaQP+zrCsc9p5Y/LbKd76fGnz/bLW5ISEmmPww9YvTcQq8/JV2OstnstT8Er5Y7M8G+P0c+r3jqkcU/5h99k6ZBzj88bCIzFzjVP4enV8oyxN0//yH99nXg5D8qOpLLf0jtP5kqGJXUifQ/c9cS8kHP/D+/DpwzojQEQIEmwoanVwxA4lgXt9HgE0BSSZ2AJuIbQAMJih9jjiNA5q4l5INuK0AwTKYKRj0zQNv5fmq8/DpAaCJseHrtQkB/+zpwzoxKQM3MzMzMeFJAZmZmZmZqWEAAAAAAAFxeQM3MzMzMJmJAmpmZmZkfZUBmZmZmZhhoQDMzMzMzEWtAAAAAAAAKbkBmZmZmZoFwQM3MzMzM/XFAMzMzMzN6c0CamZmZmfZ0QAAAAAAAc3ZAZmZmZmbvd0DNzMzMzGt5QDMzMzMz6HpAmpmZmZlkfEAAAAAAAOF9QGZmZmZmXX9AZmZmZuZsgECamZmZGSuBQM3MzMxM6YFAAAAAAICngkAzMzMzs2WDQGZmZmbmI4RAmpmZmRnihEDNzMzMTKCFQAAAAACAXoZAMzMzM7Mch0BmZmZm5tqHQJqZmZkZmYhAzczMzExXiUAAAAAAgBWKQDMzMzOz04pAZmZmZuaRi0CamZmZGVCMQM3MzMxMDo1AAAAAAIDMjUAzMzMzs4qOQGZmZmbmSI9A\",\"dtype\":\"float64\",\"shape\":[75]}},\"selected\":{\"id\":\"e60f2494-6fca-4fe7-b94f-b3fc2c2f18d3\",\"type\":\"Selection\"},\"selection_policy\":{\"id\":\"9abb1302-bace-4422-82b1-d8d716cf9b30\",\"type\":\"UnionRenderers\"}},\"id\":\"7cf3b83d-1af0-414d-8b0a-d544d8fb9947\",\"type\":\"ColumnDataSource\"},{\"attributes\":{\"active_drag\":\"auto\",\"active_inspect\":\"auto\",\"active_scroll\":\"auto\",\"active_tap\":\"auto\",\"tools\":[{\"id\":\"d07bdffa-e7ba-4c3b-8049-eea590b9f5b8\",\"type\":\"PanTool\"},{\"id\":\"8973ba7b-f290-4cff-b6ed-26477d46c2d1\",\"type\":\"WheelZoomTool\"},{\"id\":\"f16be5ad-8062-4057-a18b-0c835e8d52db\",\"type\":\"BoxZoomTool\"},{\"id\":\"46155beb-b2b5-42fb-87dc-acec761ca306\",\"type\":\"SaveTool\"},{\"id\":\"2087b2d0-621e-4b22-8ee3-2677ac054e5c\",\"type\":\"ResetTool\"},{\"id\":\"4f07d646-d4ac-45c0-baf0-20995ed22a6c\",\"type\":\"HelpTool\"}]},\"id\":\"0b5e7d93-a0ac-4c9d-a650-e6ad70358c5b\",\"type\":\"Toolbar\"},{\"attributes\":{\"above\":[{\"id\":\"2fb6cb67-a5f9-40fe-9fd4-78979e1433f7\",\"type\":\"Legend\"}],\"below\":[{\"id\":\"bf898ec0-3c94-4190-b750-37254ffc7df8\",\"type\":\"LinearAxis\"}],\"left\":[{\"id\":\"64b21bec-ef2a-4bbd-86fe-f34448d9f905\",\"type\":\"LinearAxis\"}],\"plot_width\":300,\"renderers\":[{\"id\":\"bf898ec0-3c94-4190-b750-37254ffc7df8\",\"type\":\"LinearAxis\"},{\"id\":\"4234cd05-27c6-459d-a746-f00e55011fbb\",\"type\":\"Grid\"},{\"id\":\"64b21bec-ef2a-4bbd-86fe-f34448d9f905\",\"type\":\"LinearAxis\"},{\"id\":\"212ddd7c-5aca-4e3f-a2db-f2790741878a\",\"type\":\"Grid\"},{\"id\":\"a8f9b4d3-a6cd-49af-ab6f-047a21a93c23\",\"type\":\"BoxAnnotation\"},{\"id\":\"26699709-9f44-4d04-91b9-754ca82e7594\",\"type\":\"GlyphRenderer\"},{\"id\":\"d0e4782d-c5ed-4f30-bac9-f40f85ca02f0\",\"type\":\"GlyphRenderer\"},{\"id\":\"17a0f745-7bdc-42b4-8911-fa751d6f03b0\",\"type\":\"GlyphRenderer\"},{\"id\":\"2fb6cb67-a5f9-40fe-9fd4-78979e1433f7\",\"type\":\"Legend\"}],\"title\":{\"id\":\"efd88d1c-17b1-4a81-8e14-c5615b69e522\",\"type\":\"Title\"},\"toolbar\":{\"id\":\"239f7049-fe1a-4d5a-a637-6ade32a385ea\",\"type\":\"Toolbar\"},\"toolbar_location\":null,\"x_range\":{\"id\":\"6c1f741f-1081-4dc3-bc7e-c867c7b3ef59\",\"type\":\"Range1d\"},\"x_scale\":{\"id\":\"f926ce03-c6fe-4f77-abe1-7895f408b7a2\",\"type\":\"LinearScale\"},\"y_range\":{\"id\":\"59eeb59f-4881-4da1-9f1a-c2d8b444da70\",\"type\":\"Range1d\"},\"y_scale\":{\"id\":\"7f218d71-6dba-4fb8-b467-571828c4c361\",\"type\":\"LinearScale\"}},\"id\":\"7141a99b-6360-4b38-b130-bf3f638aba30\",\"subtype\":\"Figure\",\"type\":\"Plot\"},{\"attributes\":{\"plot\":null,\"text\":\"\"},\"id\":\"efd88d1c-17b1-4a81-8e14-c5615b69e522\",\"type\":\"Title\"},{\"attributes\":{\"above\":[{\"id\":\"226f9a3e-543e-4d41-ae9b-c52ccd5f16d2\",\"type\":\"Legend\"}],\"below\":[{\"id\":\"fd01b4bf-9973-41ba-87db-6f292f70fc37\",\"type\":\"LinearAxis\"}],\"left\":[{\"id\":\"c18170a4-03a7-481f-b4bb-682a3720d30f\",\"type\":\"LogAxis\"}],\"plot_width\":300,\"renderers\":[{\"id\":\"fd01b4bf-9973-41ba-87db-6f292f70fc37\",\"type\":\"LinearAxis\"},{\"id\":\"a931e7a0-6390-4e2d-8e3e-3b6d4007d1ed\",\"type\":\"Grid\"},{\"id\":\"c18170a4-03a7-481f-b4bb-682a3720d30f\",\"type\":\"LogAxis\"},{\"id\":\"e0559d4c-165a-4b78-b9e0-971949890534\",\"type\":\"Grid\"},{\"id\":\"0043dbf7-0dcd-489c-a4a7-1dd51e1c4b38\",\"type\":\"BoxAnnotation\"},{\"id\":\"17c32b70-a20f-4773-adc7-7018f9577554\",\"type\":\"GlyphRenderer\"},{\"id\":\"cee749a3-2f27-4fb4-a035-419659cc1e79\",\"type\":\"GlyphRenderer\"},{\"id\":\"1180a400-381a-4c82-9bc6-dd5a50675e56\",\"type\":\"GlyphRenderer\"},{\"id\":\"226f9a3e-543e-4d41-ae9b-c52ccd5f16d2\",\"type\":\"Legend\"}],\"title\":{\"id\":\"c9436b82-489a-492a-b2a6-1b4218f3c658\",\"type\":\"Title\"},\"toolbar\":{\"id\":\"0b5e7d93-a0ac-4c9d-a650-e6ad70358c5b\",\"type\":\"Toolbar\"},\"toolbar_location\":null,\"x_range\":{\"id\":\"1fbd8723-dc07-4ab6-8b1e-fb874d3f79cb\",\"type\":\"Range1d\"},\"x_scale\":{\"id\":\"93b81e92-ca96-4764-a5bc-14813c401a32\",\"type\":\"LinearScale\"},\"y_range\":{\"id\":\"79ae8f64-9cb5-4d02-af85-18333b53bad9\",\"type\":\"Range1d\"},\"y_scale\":{\"id\":\"356256dd-785c-4c81-9744-9e1628300a31\",\"type\":\"LogScale\"}},\"id\":\"7d34b009-6ec1-4801-8536-7d33d07fd64b\",\"subtype\":\"Figure\",\"type\":\"Plot\"},{\"attributes\":{\"label\":{\"value\":\"CRD\"},\"renderers\":[{\"id\":\"d0e4782d-c5ed-4f30-bac9-f40f85ca02f0\",\"type\":\"GlyphRenderer\"},{\"id\":\"17a0f745-7bdc-42b4-8911-fa751d6f03b0\",\"type\":\"GlyphRenderer\"}]},\"id\":\"ff7c04d5-d528-49a8-9170-2c05f82ac933\",\"type\":\"LegendItem\"},{\"attributes\":{},\"id\":\"eb87a97f-27ec-458a-86d8-7940deb998e9\",\"type\":\"UnionRenderers\"},{\"attributes\":{\"dimension\":1,\"plot\":{\"id\":\"7141a99b-6360-4b38-b130-bf3f638aba30\",\"subtype\":\"Figure\",\"type\":\"Plot\"},\"ticker\":{\"id\":\"149302d8-3da8-482b-9631-ce5dadcfddce\",\"type\":\"BasicTicker\"}},\"id\":\"212ddd7c-5aca-4e3f-a2db-f2790741878a\",\"type\":\"Grid\"},{\"attributes\":{\"data_source\":{\"id\":\"4902b940-4bbe-4c70-9d46-0150b75fc73f\",\"type\":\"ColumnDataSource\"},\"glyph\":{\"id\":\"8a065ff6-4bfb-499d-98a6-f9db84681719\",\"type\":\"Line\"},\"hover_glyph\":null,\"muted_glyph\":null,\"nonselection_glyph\":{\"id\":\"bc1f7caa-4e86-47ef-b278-ef8ae9af42d1\",\"type\":\"Line\"},\"selection_glyph\":null,\"view\":{\"id\":\"f59ddeba-c8c0-4c94-bd73-abfd00ff33df\",\"type\":\"CDSView\"}},\"id\":\"17a0f745-7bdc-42b4-8911-fa751d6f03b0\",\"type\":\"GlyphRenderer\"},{\"attributes\":{},\"id\":\"e60f2494-6fca-4fe7-b94f-b3fc2c2f18d3\",\"type\":\"Selection\"},{\"attributes\":{\"bottom_units\":\"screen\",\"fill_alpha\":{\"value\":0.5},\"fill_color\":{\"value\":\"lightgrey\"},\"left_units\":\"screen\",\"level\":\"overlay\",\"line_alpha\":{\"value\":1.0},\"line_color\":{\"value\":\"black\"},\"line_dash\":[4,4],\"line_width\":{\"value\":2},\"plot\":null,\"render_mode\":\"css\",\"right_units\":\"screen\",\"top_units\":\"screen\"},\"id\":\"0043dbf7-0dcd-489c-a4a7-1dd51e1c4b38\",\"type\":\"BoxAnnotation\"},{\"attributes\":{},\"id\":\"ecb8e316-13f7-4ae3-9fd7-11b1d663321e\",\"type\":\"UnionRenderers\"},{\"attributes\":{},\"id\":\"9abbf9f2-8b0c-4bfe-9327-65fbb5021c0b\",\"type\":\"UnionRenderers\"},{\"attributes\":{},\"id\":\"d07bdffa-e7ba-4c3b-8049-eea590b9f5b8\",\"type\":\"PanTool\"},{\"attributes\":{},\"id\":\"8c771bec-0baa-4f94-8362-c39839f232a0\",\"type\":\"Selection\"},{\"attributes\":{},\"id\":\"331c8bc8-a6a6-427f-aba2-c14de49cf6bd\",\"type\":\"SaveTool\"},{\"attributes\":{\"plot\":null,\"text\":\"\"},\"id\":\"720740fe-31d9-4180-84fe-b0d744bc3018\",\"type\":\"Title\"},{\"attributes\":{\"source\":{\"id\":\"4902b940-4bbe-4c70-9d46-0150b75fc73f\",\"type\":\"ColumnDataSource\"}},\"id\":\"f59ddeba-c8c0-4c94-bd73-abfd00ff33df\",\"type\":\"CDSView\"},{\"attributes\":{},\"id\":\"733c52ea-aadc-4e83-bfb7-1062dd0025bb\",\"type\":\"Selection\"},{\"attributes\":{\"overlay\":{\"id\":\"0043dbf7-0dcd-489c-a4a7-1dd51e1c4b38\",\"type\":\"BoxAnnotation\"}},\"id\":\"f16be5ad-8062-4057-a18b-0c835e8d52db\",\"type\":\"BoxZoomTool\"},{\"attributes\":{},\"id\":\"96466d77-b856-4f1c-aa78-3641b1d0da2e\",\"type\":\"BasicTickFormatter\"},{\"attributes\":{\"line_color\":\"#4daf4a\",\"line_width\":1.5,\"x\":{\"field\":\"x\"},\"y\":{\"field\":\"y\"}},\"id\":\"8a065ff6-4bfb-499d-98a6-f9db84681719\",\"type\":\"Line\"},{\"attributes\":{},\"id\":\"53ae4602-27ed-4ba0-8894-764383ceb126\",\"type\":\"UnionRenderers\"},{\"attributes\":{},\"id\":\"7f814556-8e4d-425e-9a9a-d6f1aa871ead\",\"type\":\"ResetTool\"},{\"attributes\":{\"line_alpha\":0.1,\"line_color\":\"#1f77b4\",\"line_width\":1.5,\"x\":{\"field\":\"x\"},\"y\":{\"field\":\"y\"}},\"id\":\"bc1f7caa-4e86-47ef-b278-ef8ae9af42d1\",\"type\":\"Line\"},{\"attributes\":{},\"id\":\"0f37bb44-042e-402e-a112-234655a3eee9\",\"type\":\"Selection\"},{\"attributes\":{\"label\":{\"value\":\"CLIRAD\"},\"renderers\":[{\"id\":\"26699709-9f44-4d04-91b9-754ca82e7594\",\"type\":\"GlyphRenderer\"}]},\"id\":\"80e3f3af-3257-48b8-87be-eb1a0f97ccb0\",\"type\":\"LegendItem\"},{\"attributes\":{\"children\":[{\"id\":\"0c6f814e-1690-47e2-8117-0c5fe072be60\",\"type\":\"ToolbarBox\"},{\"id\":\"d22d4913-a493-4acd-b50a-491f81f0dedc\",\"type\":\"Column\"}]},\"id\":\"5c901912-5721-49b9-8a2e-dc347caa830a\",\"type\":\"Column\"},{\"attributes\":{},\"id\":\"46155beb-b2b5-42fb-87dc-acec761ca306\",\"type\":\"SaveTool\"},{\"attributes\":{},\"id\":\"8973ba7b-f290-4cff-b6ed-26477d46c2d1\",\"type\":\"WheelZoomTool\"},{\"attributes\":{},\"id\":\"c70d9b65-d302-4ae7-ae90-c4cde698d8d9\",\"type\":\"LogScale\"},{\"attributes\":{\"ticker\":null},\"id\":\"04a9a898-7944-4c4c-9d08-6a506dabfe9e\",\"type\":\"LogTickFormatter\"},{\"attributes\":{},\"id\":\"2087b2d0-621e-4b22-8ee3-2677ac054e5c\",\"type\":\"ResetTool\"},{\"attributes\":{\"toolbar\":{\"id\":\"54e5b9ee-16d9-4b28-b394-5da438872cf4\",\"type\":\"ProxyToolbar\"},\"toolbar_location\":\"above\"},\"id\":\"0c6f814e-1690-47e2-8117-0c5fe072be60\",\"type\":\"ToolbarBox\"},{\"attributes\":{},\"id\":\"4f07d646-d4ac-45c0-baf0-20995ed22a6c\",\"type\":\"HelpTool\"},{\"attributes\":{\"bottom_units\":\"screen\",\"fill_alpha\":{\"value\":0.5},\"fill_color\":{\"value\":\"lightgrey\"},\"left_units\":\"screen\",\"level\":\"overlay\",\"line_alpha\":{\"value\":1.0},\"line_color\":{\"value\":\"black\"},\"line_dash\":[4,4],\"line_width\":{\"value\":2},\"plot\":null,\"render_mode\":\"css\",\"right_units\":\"screen\",\"top_units\":\"screen\"},\"id\":\"a8f9b4d3-a6cd-49af-ab6f-047a21a93c23\",\"type\":\"BoxAnnotation\"},{\"attributes\":{},\"id\":\"4c1316bd-9fcb-4856-b1ad-186a31ce84c9\",\"type\":\"Selection\"},{\"attributes\":{\"tools\":[{\"id\":\"683bcca0-79e3-4a56-b245-b05ebb8e618f\",\"type\":\"PanTool\"},{\"id\":\"68c8d911-4898-4039-a32b-2d67e5750a65\",\"type\":\"WheelZoomTool\"},{\"id\":\"d4942dcb-b5bd-415d-8d32-b147e2cb4916\",\"type\":\"BoxZoomTool\"},{\"id\":\"331c8bc8-a6a6-427f-aba2-c14de49cf6bd\",\"type\":\"SaveTool\"},{\"id\":\"7f814556-8e4d-425e-9a9a-d6f1aa871ead\",\"type\":\"ResetTool\"},{\"id\":\"218fdab1-1c3d-4546-a40e-68442c9847f4\",\"type\":\"HelpTool\"},{\"id\":\"d07bdffa-e7ba-4c3b-8049-eea590b9f5b8\",\"type\":\"PanTool\"},{\"id\":\"8973ba7b-f290-4cff-b6ed-26477d46c2d1\",\"type\":\"WheelZoomTool\"},{\"id\":\"f16be5ad-8062-4057-a18b-0c835e8d52db\",\"type\":\"BoxZoomTool\"},{\"id\":\"46155beb-b2b5-42fb-87dc-acec761ca306\",\"type\":\"SaveTool\"},{\"id\":\"2087b2d0-621e-4b22-8ee3-2677ac054e5c\",\"type\":\"ResetTool\"},{\"id\":\"4f07d646-d4ac-45c0-baf0-20995ed22a6c\",\"type\":\"HelpTool\"},{\"id\":\"86e524db-ba83-4c86-bb7f-7ca2d75f6c61\",\"type\":\"PanTool\"},{\"id\":\"51e6d84d-f8da-47a9-8407-346e1534c960\",\"type\":\"WheelZoomTool\"},{\"id\":\"ea5971a6-382d-4dbb-9f0a-6d93dc762365\",\"type\":\"BoxZoomTool\"},{\"id\":\"5285e48d-3865-4daa-b968-ba60dfa4b617\",\"type\":\"SaveTool\"},{\"id\":\"e85dfb09-6b6c-4912-8284-6f23432d5887\",\"type\":\"ResetTool\"},{\"id\":\"358c624b-ad9b-42a6-bf61-5a68ab1ced69\",\"type\":\"HelpTool\"}]},\"id\":\"54e5b9ee-16d9-4b28-b394-5da438872cf4\",\"type\":\"ProxyToolbar\"},{\"attributes\":{},\"id\":\"93b81e92-ca96-4764-a5bc-14813c401a32\",\"type\":\"LinearScale\"},{\"attributes\":{},\"id\":\"247bf953-537f-4919-87ec-6f19e3f3bf31\",\"type\":\"LinearScale\"},{\"attributes\":{\"plot\":{\"id\":\"7141a99b-6360-4b38-b130-bf3f638aba30\",\"subtype\":\"Figure\",\"type\":\"Plot\"},\"ticker\":{\"id\":\"d21527fd-17e3-43cd-b786-ab491e1664d7\",\"type\":\"BasicTicker\"}},\"id\":\"4234cd05-27c6-459d-a746-f00e55011fbb\",\"type\":\"Grid\"},{\"attributes\":{\"callback\":null,\"end\":0.1379584306831,\"start\":-0.0482348553731},\"id\":\"1fbd8723-dc07-4ab6-8b1e-fb874d3f79cb\",\"type\":\"Range1d\"},{\"attributes\":{},\"id\":\"7fe1ada4-da54-45bf-b1bc-239df243d774\",\"type\":\"UnionRenderers\"},{\"attributes\":{},\"id\":\"9abb1302-bace-4422-82b1-d8d716cf9b30\",\"type\":\"UnionRenderers\"},{\"attributes\":{},\"id\":\"e141e0de-be76-41b3-88d9-c3f9fb7a86d2\",\"type\":\"UnionRenderers\"},{\"attributes\":{},\"id\":\"f67ab781-0040-4a91-8a5d-0e43ba3be65d\",\"type\":\"Selection\"},{\"attributes\":{},\"id\":\"0c6710d6-bcc4-48a4-9692-f6c97a0a7fa7\",\"type\":\"BasicTickFormatter\"},{\"attributes\":{\"line_alpha\":0.8,\"line_color\":\"#984ea3\",\"line_width\":1.5,\"x\":{\"field\":\"x\"},\"y\":{\"field\":\"y\"}},\"id\":\"4a566038-971c-48dc-a2d8-2ca9c7214335\",\"type\":\"Line\"},{\"attributes\":{\"dimension\":1,\"plot\":{\"id\":\"0ceb2f3a-1210-4a09-b244-0e4b3b892533\",\"subtype\":\"Figure\",\"type\":\"Plot\"},\"ticker\":{\"id\":\"cf7cde73-1b4a-4557-a22d-f995ca1c9134\",\"type\":\"LogTicker\"}},\"id\":\"8c001e25-70db-495e-ac3e-e1f832626795\",\"type\":\"Grid\"},{\"attributes\":{},\"id\":\"d21527fd-17e3-43cd-b786-ab491e1664d7\",\"type\":\"BasicTicker\"},{\"attributes\":{\"source\":{\"id\":\"46448f3d-0c2c-44e9-b4da-d2e70318a032\",\"type\":\"ColumnDataSource\"}},\"id\":\"d9264007-abc8-49d7-83d8-2de860932523\",\"type\":\"CDSView\"},{\"attributes\":{\"num_minor_ticks\":10},\"id\":\"cf7cde73-1b4a-4557-a22d-f995ca1c9134\",\"type\":\"LogTicker\"},{\"attributes\":{},\"id\":\"68c8d911-4898-4039-a32b-2d67e5750a65\",\"type\":\"WheelZoomTool\"},{\"attributes\":{},\"id\":\"f926ce03-c6fe-4f77-abe1-7895f408b7a2\",\"type\":\"LinearScale\"},{\"attributes\":{\"axis_label\":\"pressure [mb]\",\"formatter\":{\"id\":\"04a9a898-7944-4c4c-9d08-6a506dabfe9e\",\"type\":\"LogTickFormatter\"},\"plot\":{\"id\":\"0ceb2f3a-1210-4a09-b244-0e4b3b892533\",\"subtype\":\"Figure\",\"type\":\"Plot\"},\"ticker\":{\"id\":\"cf7cde73-1b4a-4557-a22d-f995ca1c9134\",\"type\":\"LogTicker\"}},\"id\":\"584d32c9-b28d-4f96-9dba-8a5915c8b81d\",\"type\":\"LogAxis\"},{\"attributes\":{},\"id\":\"029d7923-3168-4d9d-be39-aa1f25d1ad99\",\"type\":\"BasicTicker\"},{\"attributes\":{\"axis_label\":\"cooling rate [K/day]\",\"formatter\":{\"id\":\"96466d77-b856-4f1c-aa78-3641b1d0da2e\",\"type\":\"BasicTickFormatter\"},\"plot\":{\"id\":\"0ceb2f3a-1210-4a09-b244-0e4b3b892533\",\"subtype\":\"Figure\",\"type\":\"Plot\"},\"ticker\":{\"id\":\"029d7923-3168-4d9d-be39-aa1f25d1ad99\",\"type\":\"BasicTicker\"}},\"id\":\"7feb679d-5862-4914-81b5-765c29fa551e\",\"type\":\"LinearAxis\"},{\"attributes\":{\"source\":{\"id\":\"7cf3b83d-1af0-414d-8b0a-d544d8fb9947\",\"type\":\"ColumnDataSource\"}},\"id\":\"9412055a-771e-4224-9c48-533e0baa4b65\",\"type\":\"CDSView\"},{\"attributes\":{\"plot\":{\"id\":\"0ceb2f3a-1210-4a09-b244-0e4b3b892533\",\"subtype\":\"Figure\",\"type\":\"Plot\"},\"ticker\":{\"id\":\"029d7923-3168-4d9d-be39-aa1f25d1ad99\",\"type\":\"BasicTicker\"}},\"id\":\"c621b972-4c1f-4c91-ac3b-adc2aa97e081\",\"type\":\"Grid\"},{\"attributes\":{\"callback\":null,\"data\":{\"x\":{\"__ndarray__\":\"nNB7K+bWnD+3697lyaecPxYqPR+hXZw/wy+Fg7oCnD+JqqKc3KqbP8SqjqryUJs/WnnD/QIGmz/8FnBFxr6aPwgAkgItf5o/JqEkP4VQmj8w1nCuBjaaPz1a83VnPpo/FKdlo2Rumj8Qut0+Hr+aP+BNfh2N4pk/xHTwmJfrlj+mZr8yfNeSP2jDAhKQq4w/gO4CBfPIgj8g9smy1dJvP2B7aMsomWC/kCUzYgRYgL8gAj4VkIV7v4BY/I20BVI/wNXkDkaVgT94Qu5arZCMP1DqgkbcX48/9J8kGh4ciz8UYbkuJpuCP9wODJm+h3E/AIFQxSoxIb8i5HPvznRtvw5bD6BJUXm/ZMBtwLvigL872U9PvnSDvzoVI2WoHoS/LMrBtPy8g78IOSfP5HaEv6jrpIbhOoa/tN6MGKurhr/AQ0oShXyGv3BXWrxI9IW/dstI3kAihb8eevD7/BWEv+zgP8Al2YK/ns8cEvVugb9UfTIFlOh/vyAI+6DfsHy/5OxlhqRkeb/IM8PqMQh2v5+pnIltp3K/J8dg5OKubr8enmxFYOBnv2AxEUdDc2G/ILMd2y0RVr9wUCzlO8dEvwDmk7du2Qw/IEd2LNnJRT8gi32jf79TP+BLfbYcPVs/8LLgXhnnYD+g007CeohkP0DG/zE1iGk/wFl+CwpYcD+4luYyi1J0P8Bp5UmZ8Xc/eCwFtJaBej/480lTDwJ8P+BvFlgDeXw/8B3SGTM0fD8A2MY8Jn17P+D0XxcpA3o/oBxQBzDGdz9wVsK9RrJ0P+Bu0cwgB3A/\",\"dtype\":\"float64\",\"shape\":[75]},\"y\":{\"__ndarray__\":\"GhExyth1ND/Sv8nbtpRIP2vylNV0PVE/aTum7souWD/At0SJ8fVgPw3Iuahxymc/MSNhhJWvcD/bTfBN02d3P2zb5nxnaoA/CD5h5MAGhz8NmeH1TyaQP+zrCsc9p5Y/LbKd76fGnz/bLW5ISEmmPww9YvTcQq8/JV2OstnstT8Er5Y7M8G+P0c+r3jqkcU/5h99k6ZBzj88bCIzFzjVP4enV8oyxN0//yH99nXg5D8qOpLLf0jtP5kqGJXUifQ/c9cS8kHP/D+/DpwzojQEQIEmwoanVwxA4lgXt9HgE0BSSZ2AJuIbQAMJih9jjiNA5q4l5INuK0AwTKYKRj0zQNv5fmq8/DpAaCJseHrtQkB/+zpwzoxKQM3MzMzMeFJAZmZmZmZqWEAAAAAAAFxeQM3MzMzMJmJAmpmZmZkfZUBmZmZmZhhoQDMzMzMzEWtAAAAAAAAKbkBmZmZmZoFwQM3MzMzM/XFAMzMzMzN6c0CamZmZmfZ0QAAAAAAAc3ZAZmZmZmbvd0DNzMzMzGt5QDMzMzMz6HpAmpmZmZlkfEAAAAAAAOF9QGZmZmZmXX9AZmZmZuZsgECamZmZGSuBQM3MzMxM6YFAAAAAAICngkAzMzMzs2WDQGZmZmbmI4RAmpmZmRnihEDNzMzMTKCFQAAAAACAXoZAMzMzM7Mch0BmZmZm5tqHQJqZmZkZmYhAzczMzExXiUAAAAAAgBWKQDMzMzOz04pAZmZmZuaRi0CamZmZGVCMQM3MzMxMDo1AAAAAAIDMjUAzMzMzs4qOQGZmZmbmSI9A\",\"dtype\":\"float64\",\"shape\":[75]}},\"selected\":{\"id\":\"4c1316bd-9fcb-4856-b1ad-186a31ce84c9\",\"type\":\"Selection\"},\"selection_policy\":{\"id\":\"eb87a97f-27ec-458a-86d8-7940deb998e9\",\"type\":\"UnionRenderers\"}},\"id\":\"92c74689-6678-43a0-bb8f-d041075664be\",\"type\":\"ColumnDataSource\"},{\"attributes\":{\"overlay\":{\"id\":\"a8f9b4d3-a6cd-49af-ab6f-047a21a93c23\",\"type\":\"BoxAnnotation\"}},\"id\":\"d4942dcb-b5bd-415d-8d32-b147e2cb4916\",\"type\":\"BoxZoomTool\"},{\"attributes\":{},\"id\":\"51e6d84d-f8da-47a9-8407-346e1534c960\",\"type\":\"WheelZoomTool\"},{\"attributes\":{\"callback\":null,\"end\":0.01,\"start\":1020},\"id\":\"59eeb59f-4881-4da1-9f1a-c2d8b444da70\",\"type\":\"Range1d\"},{\"attributes\":{\"fill_alpha\":{\"value\":0.7},\"fill_color\":{\"value\":\"#4daf4a\"},\"line_alpha\":{\"value\":0.7},\"line_color\":{\"value\":\"#4daf4a\"},\"x\":{\"field\":\"x\"},\"y\":{\"field\":\"y\"}},\"id\":\"9e6b8c61-6d31-412e-95ec-3539e7b7ac1a\",\"type\":\"Circle\"},{\"attributes\":{},\"id\":\"218fdab1-1c3d-4546-a40e-68442c9847f4\",\"type\":\"HelpTool\"},{\"attributes\":{\"callback\":null,\"end\":0.10369171092,\"start\":-0.04789558092},\"id\":\"6c1f741f-1081-4dc3-bc7e-c867c7b3ef59\",\"type\":\"Range1d\"},{\"attributes\":{\"children\":[{\"id\":\"7141a99b-6360-4b38-b130-bf3f638aba30\",\"subtype\":\"Figure\",\"type\":\"Plot\"},{\"id\":\"7d34b009-6ec1-4801-8536-7d33d07fd64b\",\"subtype\":\"Figure\",\"type\":\"Plot\"},{\"id\":\"0ceb2f3a-1210-4a09-b244-0e4b3b892533\",\"subtype\":\"Figure\",\"type\":\"Plot\"}]},\"id\":\"4848a4ce-2e75-4ce1-8071-1161af84a50b\",\"type\":\"Row\"},{\"attributes\":{\"bottom_units\":\"screen\",\"fill_alpha\":{\"value\":0.5},\"fill_color\":{\"value\":\"lightgrey\"},\"left_units\":\"screen\",\"level\":\"overlay\",\"line_alpha\":{\"value\":1.0},\"line_color\":{\"value\":\"black\"},\"line_dash\":[4,4],\"line_width\":{\"value\":2},\"plot\":null,\"render_mode\":\"css\",\"right_units\":\"screen\",\"top_units\":\"screen\"},\"id\":\"cdc9fbf9-d3a6-44fd-8e52-d93cd5685e5e\",\"type\":\"BoxAnnotation\"},{\"attributes\":{},\"id\":\"7f218d71-6dba-4fb8-b467-571828c4c361\",\"type\":\"LinearScale\"},{\"attributes\":{\"data_source\":{\"id\":\"46448f3d-0c2c-44e9-b4da-d2e70318a032\",\"type\":\"ColumnDataSource\"},\"glyph\":{\"id\":\"a878038c-0258-41fb-b700-1b00562cbee1\",\"type\":\"Line\"},\"hover_glyph\":null,\"muted_glyph\":null,\"nonselection_glyph\":{\"id\":\"8a788445-3806-4b1f-a79f-7bbdce589761\",\"type\":\"Line\"},\"selection_glyph\":null,\"view\":{\"id\":\"d9264007-abc8-49d7-83d8-2de860932523\",\"type\":\"CDSView\"}},\"id\":\"26699709-9f44-4d04-91b9-754ca82e7594\",\"type\":\"GlyphRenderer\"},{\"attributes\":{},\"id\":\"356256dd-785c-4c81-9744-9e1628300a31\",\"type\":\"LogScale\"},{\"attributes\":{},\"id\":\"86e524db-ba83-4c86-bb7f-7ca2d75f6c61\",\"type\":\"PanTool\"},{\"attributes\":{\"above\":[{\"id\":\"70542748-2554-4520-b579-f6af9c368e85\",\"type\":\"Legend\"}],\"below\":[{\"id\":\"7feb679d-5862-4914-81b5-765c29fa551e\",\"type\":\"LinearAxis\"}],\"left\":[{\"id\":\"584d32c9-b28d-4f96-9dba-8a5915c8b81d\",\"type\":\"LogAxis\"}],\"plot_width\":300,\"renderers\":[{\"id\":\"7feb679d-5862-4914-81b5-765c29fa551e\",\"type\":\"LinearAxis\"},{\"id\":\"c621b972-4c1f-4c91-ac3b-adc2aa97e081\",\"type\":\"Grid\"},{\"id\":\"584d32c9-b28d-4f96-9dba-8a5915c8b81d\",\"type\":\"LogAxis\"},{\"id\":\"8c001e25-70db-495e-ac3e-e1f832626795\",\"type\":\"Grid\"},{\"id\":\"cdc9fbf9-d3a6-44fd-8e52-d93cd5685e5e\",\"type\":\"BoxAnnotation\"},{\"id\":\"3e72c991-cec9-45ba-b34b-e869d31a1eef\",\"type\":\"GlyphRenderer\"},{\"id\":\"75257d33-86c1-4821-884a-62c1a284b7ee\",\"type\":\"GlyphRenderer\"},{\"id\":\"70542748-2554-4520-b579-f6af9c368e85\",\"type\":\"Legend\"}],\"title\":{\"id\":\"720740fe-31d9-4180-84fe-b0d744bc3018\",\"type\":\"Title\"},\"toolbar\":{\"id\":\"4677dafc-2301-4eaf-98fe-be19abab2d04\",\"type\":\"Toolbar\"},\"toolbar_location\":null,\"x_range\":{\"id\":\"0d006609-cc4c-4c22-805e-ce2dcec8c848\",\"type\":\"Range1d\"},\"x_scale\":{\"id\":\"247bf953-537f-4919-87ec-6f19e3f3bf31\",\"type\":\"LinearScale\"},\"y_range\":{\"id\":\"fad56248-7005-4b2d-bb5c-3e982850bc02\",\"type\":\"Range1d\"},\"y_scale\":{\"id\":\"c70d9b65-d302-4ae7-ae90-c4cde698d8d9\",\"type\":\"LogScale\"}},\"id\":\"0ceb2f3a-1210-4a09-b244-0e4b3b892533\",\"subtype\":\"Figure\",\"type\":\"Plot\"},{\"attributes\":{\"axis_label\":\"cooling rate [K/day]\",\"formatter\":{\"id\":\"0c6710d6-bcc4-48a4-9692-f6c97a0a7fa7\",\"type\":\"BasicTickFormatter\"},\"plot\":{\"id\":\"7141a99b-6360-4b38-b130-bf3f638aba30\",\"subtype\":\"Figure\",\"type\":\"Plot\"},\"ticker\":{\"id\":\"d21527fd-17e3-43cd-b786-ab491e1664d7\",\"type\":\"BasicTicker\"}},\"id\":\"bf898ec0-3c94-4190-b750-37254ffc7df8\",\"type\":\"LinearAxis\"},{\"attributes\":{\"overlay\":{\"id\":\"cdc9fbf9-d3a6-44fd-8e52-d93cd5685e5e\",\"type\":\"BoxAnnotation\"}},\"id\":\"ea5971a6-382d-4dbb-9f0a-6d93dc762365\",\"type\":\"BoxZoomTool\"},{\"attributes\":{},\"id\":\"683bcca0-79e3-4a56-b245-b05ebb8e618f\",\"type\":\"PanTool\"},{\"attributes\":{},\"id\":\"5285e48d-3865-4daa-b968-ba60dfa4b617\",\"type\":\"SaveTool\"},{\"attributes\":{},\"id\":\"e85dfb09-6b6c-4912-8284-6f23432d5887\",\"type\":\"ResetTool\"},{\"attributes\":{},\"id\":\"149302d8-3da8-482b-9631-ce5dadcfddce\",\"type\":\"BasicTicker\"},{\"attributes\":{},\"id\":\"358c624b-ad9b-42a6-bf61-5a68ab1ced69\",\"type\":\"HelpTool\"},{\"attributes\":{},\"id\":\"a0864d76-424d-4339-951b-b50e48bf01b8\",\"type\":\"BasicTickFormatter\"},{\"attributes\":{\"fill_alpha\":{\"value\":0.7},\"fill_color\":{\"value\":\"#4daf4a\"},\"line_alpha\":{\"value\":0.7},\"line_color\":{\"value\":\"#4daf4a\"},\"x\":{\"field\":\"x\"},\"y\":{\"field\":\"y\"}},\"id\":\"a37ae67e-e672-4cec-93dd-12f8920e80bc\",\"type\":\"Circle\"},{\"attributes\":{\"fill_alpha\":{\"value\":0.1},\"fill_color\":{\"value\":\"#1f77b4\"},\"line_alpha\":{\"value\":0.1},\"line_color\":{\"value\":\"#1f77b4\"},\"x\":{\"field\":\"x\"},\"y\":{\"field\":\"y\"}},\"id\":\"817ea72e-a3be-4824-97d0-9ab2b6811727\",\"type\":\"Circle\"},{\"attributes\":{\"active_drag\":\"auto\",\"active_inspect\":\"auto\",\"active_scroll\":\"auto\",\"active_tap\":\"auto\",\"tools\":[{\"id\":\"683bcca0-79e3-4a56-b245-b05ebb8e618f\",\"type\":\"PanTool\"},{\"id\":\"68c8d911-4898-4039-a32b-2d67e5750a65\",\"type\":\"WheelZoomTool\"},{\"id\":\"d4942dcb-b5bd-415d-8d32-b147e2cb4916\",\"type\":\"BoxZoomTool\"},{\"id\":\"331c8bc8-a6a6-427f-aba2-c14de49cf6bd\",\"type\":\"SaveTool\"},{\"id\":\"7f814556-8e4d-425e-9a9a-d6f1aa871ead\",\"type\":\"ResetTool\"},{\"id\":\"218fdab1-1c3d-4546-a40e-68442c9847f4\",\"type\":\"HelpTool\"}]},\"id\":\"239f7049-fe1a-4d5a-a637-6ade32a385ea\",\"type\":\"Toolbar\"},{\"attributes\":{\"data_source\":{\"id\":\"a6f2d474-6042-4087-9615-e9a8ca75dd59\",\"type\":\"ColumnDataSource\"},\"glyph\":{\"id\":\"9e6b8c61-6d31-412e-95ec-3539e7b7ac1a\",\"type\":\"Circle\"},\"hover_glyph\":null,\"muted_glyph\":null,\"nonselection_glyph\":{\"id\":\"7a6406c6-e33a-4e89-a9b5-1723dc68fb70\",\"type\":\"Circle\"},\"selection_glyph\":null,\"view\":{\"id\":\"75dca976-4362-45c7-bad1-75364a30f63d\",\"type\":\"CDSView\"}},\"id\":\"cee749a3-2f27-4fb4-a035-419659cc1e79\",\"type\":\"GlyphRenderer\"},{\"attributes\":{\"items\":[{\"id\":\"80e3f3af-3257-48b8-87be-eb1a0f97ccb0\",\"type\":\"LegendItem\"},{\"id\":\"ff7c04d5-d528-49a8-9170-2c05f82ac933\",\"type\":\"LegendItem\"}],\"label_text_font_size\":{\"value\":\"8pt\"},\"location\":\"top_center\",\"orientation\":\"horizontal\",\"plot\":{\"id\":\"7141a99b-6360-4b38-b130-bf3f638aba30\",\"subtype\":\"Figure\",\"type\":\"Plot\"}},\"id\":\"2fb6cb67-a5f9-40fe-9fd4-78979e1433f7\",\"type\":\"Legend\"},{\"attributes\":{\"axis_label\":\"cooling rate [K/day]\",\"formatter\":{\"id\":\"27e9c73d-706b-47ba-b2cb-876329ed150c\",\"type\":\"BasicTickFormatter\"},\"plot\":{\"id\":\"7d34b009-6ec1-4801-8536-7d33d07fd64b\",\"subtype\":\"Figure\",\"type\":\"Plot\"},\"ticker\":{\"id\":\"d9d8dfd5-a2f4-407e-9405-4f5dab4b9a71\",\"type\":\"BasicTicker\"}},\"id\":\"fd01b4bf-9973-41ba-87db-6f292f70fc37\",\"type\":\"LinearAxis\"},{\"attributes\":{\"callback\":null,\"end\":0.01,\"start\":1020},\"id\":\"79ae8f64-9cb5-4d02-af85-18333b53bad9\",\"type\":\"Range1d\"},{\"attributes\":{},\"id\":\"68471602-dc7d-4eb4-8c67-251c047f11f9\",\"type\":\"Selection\"},{\"attributes\":{\"line_color\":\"#4daf4a\",\"line_width\":1.5,\"x\":{\"field\":\"x\"},\"y\":{\"field\":\"y\"}},\"id\":\"810a9a2e-94ee-4dd5-b00d-72b2dea22868\",\"type\":\"Line\"},{\"attributes\":{\"callback\":null,\"data\":{\"x\":{\"__ndarray__\":\"wc8B5Vksn7/kxtLQma6ev3VsvZEOpJ2/KogxcHSSnL/Nx+G4TH2bvzhoYFf2Z5q/7O3jvAdamb9YrRCdak6YvwC2zKoNSpe/eRb6W5pRlr9Br2ZtgG+Vv/9/P7oiqpS/59iC1FQPlL/Pur7T7lSTvwV3QJMtJI2/iqkxWuEwaL+WNqq1V2yJPwiOD6Tq7J4/0BkovWfyqT85sA8qkwGzP0tVRfn5+bk/M5iw+rOVwD9r+QBtzmzBP1qGnMb5qr4/ciXTg+0PuT/0Sj/EcgKzPzDBleIdNqw/ica6a08VpT/+zG1mVNSfP91Ahhof9Zc/X15EP4FVkT+QA25s/DyGPzLZ1gTCU3M/unLCLdjoXr8Z9u6aA32Hv0e7UJCGOZi/4RZsXm4bob9WIfTkQKWiv3Q6s6y00aG/11rwcM0Tob+AiccUzEagv0J20c/2v56/f9IXfNixnL+lCKEhcmqav7xpVolx7Je/FkUTIIw6lb/FuOhoU1eSv7TC3zmfio6/GroLYeELiL8v1AfxDTWBv3MI38IgFnS/ugE8Cxh9VL86tOO8Ve9kP207If/Crno/52eEsEbEhT9cMH6asYOOP+MbznZHzJM/2BYbt+CCmD8yO90j+mKdP5cV51vNMaE/7znYokewoz8ucOvV5wCmP0YtKGeD56c/sPRGJl1PqT8rul6juG2qP/xd4q10mqs/ubjM/HEarT8hVOtqDwSvP4M5jbugobA/qyBM35bdsT+h8/wFPi2zP8ES74f2jbQ/Pnf40Mf/tT+Xziq8gIa3P5rHKbmyKbk/\",\"dtype\":\"float64\",\"shape\":[75]},\"y\":{\"__ndarray__\":\"GhExyth1ND/Sv8nbtpRIP2vylNV0PVE/aTum7souWD/At0SJ8fVgPw3Iuahxymc/MSNhhJWvcD/bTfBN02d3P2zb5nxnaoA/CD5h5MAGhz8NmeH1TyaQP+zrCsc9p5Y/LbKd76fGnz/bLW5ISEmmPww9YvTcQq8/JV2OstnstT8Er5Y7M8G+P0c+r3jqkcU/5h99k6ZBzj88bCIzFzjVP4enV8oyxN0//yH99nXg5D8qOpLLf0jtP5kqGJXUifQ/c9cS8kHP/D+/DpwzojQEQIEmwoanVwxA4lgXt9HgE0BSSZ2AJuIbQAMJih9jjiNA5q4l5INuK0AwTKYKRj0zQNv5fmq8/DpAaCJseHrtQkB/+zpwzoxKQM3MzMzMeFJAZmZmZmZqWEAAAAAAAFxeQM3MzMzMJmJAmpmZmZkfZUBmZmZmZhhoQDMzMzMzEWtAAAAAAAAKbkBmZmZmZoFwQM3MzMzM/XFAMzMzMzN6c0CamZmZmfZ0QAAAAAAAc3ZAZmZmZmbvd0DNzMzMzGt5QDMzMzMz6HpAmpmZmZlkfEAAAAAAAOF9QGZmZmZmXX9AZmZmZuZsgECamZmZGSuBQM3MzMxM6YFAAAAAAICngkAzMzMzs2WDQGZmZmbmI4RAmpmZmRnihEDNzMzMTKCFQAAAAACAXoZAMzMzM7Mch0BmZmZm5tqHQJqZmZkZmYhAzczMzExXiUAAAAAAgBWKQDMzMzOz04pAZmZmZuaRi0CamZmZGVCMQM3MzMxMDo1AAAAAAIDMjUAzMzMzs4qOQGZmZmbmSI9A\",\"dtype\":\"float64\",\"shape\":[75]}},\"selected\":{\"id\":\"0f37bb44-042e-402e-a112-234655a3eee9\",\"type\":\"Selection\"},\"selection_policy\":{\"id\":\"53ae4602-27ed-4ba0-8894-764383ceb126\",\"type\":\"UnionRenderers\"}},\"id\":\"b3765462-0318-4c92-ba5b-c4cd63deae8e\",\"type\":\"ColumnDataSource\"},{\"attributes\":{\"source\":{\"id\":\"92c74689-6678-43a0-bb8f-d041075664be\",\"type\":\"ColumnDataSource\"}},\"id\":\"c3431331-bafb-4a93-b41f-8a0a65425cf1\",\"type\":\"CDSView\"},{\"attributes\":{\"data_source\":{\"id\":\"b3765462-0318-4c92-ba5b-c4cd63deae8e\",\"type\":\"ColumnDataSource\"},\"glyph\":{\"id\":\"810a9a2e-94ee-4dd5-b00d-72b2dea22868\",\"type\":\"Line\"},\"hover_glyph\":null,\"muted_glyph\":null,\"nonselection_glyph\":{\"id\":\"37714613-06aa-48d9-aee7-c7e145c07c98\",\"type\":\"Line\"},\"selection_glyph\":null,\"view\":{\"id\":\"2329e7c1-35f9-43de-9150-237e1351daf9\",\"type\":\"CDSView\"}},\"id\":\"1180a400-381a-4c82-9bc6-dd5a50675e56\",\"type\":\"GlyphRenderer\"},{\"attributes\":{\"source\":{\"id\":\"57731f82-de41-4903-9550-4dea311c3c7c\",\"type\":\"ColumnDataSource\"}},\"id\":\"60f10a66-dda1-4c6a-8153-8511c46da3c3\",\"type\":\"CDSView\"},{\"attributes\":{\"callback\":null,\"end\":0.026491575889378605,\"start\":-0.011441511897518599},\"id\":\"0d006609-cc4c-4c22-805e-ce2dcec8c848\",\"type\":\"Range1d\"},{\"attributes\":{\"callback\":null,\"data\":{\"x\":{\"__ndarray__\":\"wc8B5Vksn7/kxtLQma6ev3VsvZEOpJ2/KogxcHSSnL/Nx+G4TH2bvzhoYFf2Z5q/7O3jvAdamb9YrRCdak6YvwC2zKoNSpe/eRb6W5pRlr9Br2ZtgG+Vv/9/P7oiqpS/59iC1FQPlL/Pur7T7lSTvwV3QJMtJI2/iqkxWuEwaL+WNqq1V2yJPwiOD6Tq7J4/0BkovWfyqT85sA8qkwGzP0tVRfn5+bk/M5iw+rOVwD9r+QBtzmzBP1qGnMb5qr4/ciXTg+0PuT/0Sj/EcgKzPzDBleIdNqw/ica6a08VpT/+zG1mVNSfP91Ahhof9Zc/X15EP4FVkT+QA25s/DyGPzLZ1gTCU3M/unLCLdjoXr8Z9u6aA32Hv0e7UJCGOZi/4RZsXm4bob9WIfTkQKWiv3Q6s6y00aG/11rwcM0Tob+AiccUzEagv0J20c/2v56/f9IXfNixnL+lCKEhcmqav7xpVolx7Je/FkUTIIw6lb/FuOhoU1eSv7TC3zmfio6/GroLYeELiL8v1AfxDTWBv3MI38IgFnS/ugE8Cxh9VL86tOO8Ve9kP207If/Crno/52eEsEbEhT9cMH6asYOOP+MbznZHzJM/2BYbt+CCmD8yO90j+mKdP5cV51vNMaE/7znYokewoz8ucOvV5wCmP0YtKGeD56c/sPRGJl1PqT8rul6juG2qP/xd4q10mqs/ubjM/HEarT8hVOtqDwSvP4M5jbugobA/qyBM35bdsT+h8/wFPi2zP8ES74f2jbQ/Pnf40Mf/tT+Xziq8gIa3P5rHKbmyKbk/\",\"dtype\":\"float64\",\"shape\":[75]},\"y\":{\"__ndarray__\":\"GhExyth1ND/Sv8nbtpRIP2vylNV0PVE/aTum7souWD/At0SJ8fVgPw3Iuahxymc/MSNhhJWvcD/bTfBN02d3P2zb5nxnaoA/CD5h5MAGhz8NmeH1TyaQP+zrCsc9p5Y/LbKd76fGnz/bLW5ISEmmPww9YvTcQq8/JV2OstnstT8Er5Y7M8G+P0c+r3jqkcU/5h99k6ZBzj88bCIzFzjVP4enV8oyxN0//yH99nXg5D8qOpLLf0jtP5kqGJXUifQ/c9cS8kHP/D+/DpwzojQEQIEmwoanVwxA4lgXt9HgE0BSSZ2AJuIbQAMJih9jjiNA5q4l5INuK0AwTKYKRj0zQNv5fmq8/DpAaCJseHrtQkB/+zpwzoxKQM3MzMzMeFJAZmZmZmZqWEAAAAAAAFxeQM3MzMzMJmJAmpmZmZkfZUBmZmZmZhhoQDMzMzMzEWtAAAAAAAAKbkBmZmZmZoFwQM3MzMzM/XFAMzMzMzN6c0CamZmZmfZ0QAAAAAAAc3ZAZmZmZmbvd0DNzMzMzGt5QDMzMzMz6HpAmpmZmZlkfEAAAAAAAOF9QGZmZmZmXX9AZmZmZuZsgECamZmZGSuBQM3MzMxM6YFAAAAAAICngkAzMzMzs2WDQGZmZmbmI4RAmpmZmRnihEDNzMzMTKCFQAAAAACAXoZAMzMzM7Mch0BmZmZm5tqHQJqZmZkZmYhAzczMzExXiUAAAAAAgBWKQDMzMzOz04pAZmZmZuaRi0CamZmZGVCMQM3MzMxMDo1AAAAAAIDMjUAzMzMzs4qOQGZmZmbmSI9A\",\"dtype\":\"float64\",\"shape\":[75]}},\"selected\":{\"id\":\"8c771bec-0baa-4f94-8362-c39839f232a0\",\"type\":\"Selection\"},\"selection_policy\":{\"id\":\"9abbf9f2-8b0c-4bfe-9327-65fbb5021c0b\",\"type\":\"UnionRenderers\"}},\"id\":\"a6f2d474-6042-4087-9615-e9a8ca75dd59\",\"type\":\"ColumnDataSource\"},{\"attributes\":{},\"id\":\"d9d8dfd5-a2f4-407e-9405-4f5dab4b9a71\",\"type\":\"BasicTicker\"},{\"attributes\":{\"source\":{\"id\":\"a6f2d474-6042-4087-9615-e9a8ca75dd59\",\"type\":\"ColumnDataSource\"}},\"id\":\"75dca976-4362-45c7-bad1-75364a30f63d\",\"type\":\"CDSView\"},{\"attributes\":{\"plot\":{\"id\":\"7d34b009-6ec1-4801-8536-7d33d07fd64b\",\"subtype\":\"Figure\",\"type\":\"Plot\"},\"ticker\":{\"id\":\"d9d8dfd5-a2f4-407e-9405-4f5dab4b9a71\",\"type\":\"BasicTicker\"}},\"id\":\"a931e7a0-6390-4e2d-8e3e-3b6d4007d1ed\",\"type\":\"Grid\"},{\"attributes\":{},\"id\":\"c45fe1c7-ebdf-4e16-977b-73f5b6ea3fb6\",\"type\":\"UnionRenderers\"},{\"attributes\":{\"items\":[{\"id\":\"8866d020-8878-45f9-b76e-f57af23c0c10\",\"type\":\"LegendItem\"},{\"id\":\"8006e678-e883-420d-a250-3b8cecb046bb\",\"type\":\"LegendItem\"}],\"label_text_font_size\":{\"value\":\"8pt\"},\"location\":\"top_center\",\"orientation\":\"horizontal\",\"plot\":{\"id\":\"7d34b009-6ec1-4801-8536-7d33d07fd64b\",\"subtype\":\"Figure\",\"type\":\"Plot\"}},\"id\":\"226f9a3e-543e-4d41-ae9b-c52ccd5f16d2\",\"type\":\"Legend\"},{\"attributes\":{\"data_source\":{\"id\":\"7e7d2732-38c2-4a1d-a61d-536513ef939e\",\"type\":\"ColumnDataSource\"},\"glyph\":{\"id\":\"4a566038-971c-48dc-a2d8-2ca9c7214335\",\"type\":\"Line\"},\"hover_glyph\":null,\"muted_glyph\":null,\"nonselection_glyph\":{\"id\":\"6c10d382-88f2-422c-8b53-f16769355a19\",\"type\":\"Line\"},\"selection_glyph\":null,\"view\":{\"id\":\"a1e4907c-9f32-4ff1-88e5-d810392eaf64\",\"type\":\"CDSView\"}},\"id\":\"75257d33-86c1-4821-884a-62c1a284b7ee\",\"type\":\"GlyphRenderer\"},{\"attributes\":{\"items\":[{\"id\":\"55174401-b00e-4357-9273-268323f18948\",\"type\":\"LegendItem\"}],\"label_text_font_size\":{\"value\":\"8pt\"},\"location\":\"top_center\",\"orientation\":\"horizontal\",\"plot\":{\"id\":\"0ceb2f3a-1210-4a09-b244-0e4b3b892533\",\"subtype\":\"Figure\",\"type\":\"Plot\"}},\"id\":\"70542748-2554-4520-b579-f6af9c368e85\",\"type\":\"Legend\"},{\"attributes\":{\"axis_label\":\"pressure [mb]\",\"formatter\":{\"id\":\"c7a446c5-db8e-46b9-b9ca-619a10f55273\",\"type\":\"LogTickFormatter\"},\"plot\":{\"id\":\"7d34b009-6ec1-4801-8536-7d33d07fd64b\",\"subtype\":\"Figure\",\"type\":\"Plot\"},\"ticker\":{\"id\":\"e06459be-c1c7-4641-aa53-ba9ca85d5bd5\",\"type\":\"LogTicker\"}},\"id\":\"c18170a4-03a7-481f-b4bb-682a3720d30f\",\"type\":\"LogAxis\"},{\"attributes\":{\"callback\":null,\"end\":0.01,\"start\":1020},\"id\":\"fad56248-7005-4b2d-bb5c-3e982850bc02\",\"type\":\"Range1d\"},{\"attributes\":{\"line_alpha\":0.6,\"line_color\":\"#e41a1c\",\"line_dash\":[6],\"line_width\":5,\"x\":{\"field\":\"x\"},\"y\":{\"field\":\"y\"}},\"id\":\"a878038c-0258-41fb-b700-1b00562cbee1\",\"type\":\"Line\"},{\"attributes\":{\"line_alpha\":0.1,\"line_color\":\"#1f77b4\",\"line_dash\":[6],\"line_width\":5,\"x\":{\"field\":\"x\"},\"y\":{\"field\":\"y\"}},\"id\":\"1c2979cd-a9bf-428e-ae04-f231ca832bab\",\"type\":\"Line\"},{\"attributes\":{\"label\":{\"value\":\"CLIRAD - CRD\"},\"renderers\":[{\"id\":\"3e72c991-cec9-45ba-b34b-e869d31a1eef\",\"type\":\"GlyphRenderer\"},{\"id\":\"75257d33-86c1-4821-884a-62c1a284b7ee\",\"type\":\"GlyphRenderer\"}]},\"id\":\"55174401-b00e-4357-9273-268323f18948\",\"type\":\"LegendItem\"},{\"attributes\":{\"active_drag\":\"auto\",\"active_inspect\":\"auto\",\"active_scroll\":\"auto\",\"active_tap\":\"auto\",\"tools\":[{\"id\":\"86e524db-ba83-4c86-bb7f-7ca2d75f6c61\",\"type\":\"PanTool\"},{\"id\":\"51e6d84d-f8da-47a9-8407-346e1534c960\",\"type\":\"WheelZoomTool\"},{\"id\":\"ea5971a6-382d-4dbb-9f0a-6d93dc762365\",\"type\":\"BoxZoomTool\"},{\"id\":\"5285e48d-3865-4daa-b968-ba60dfa4b617\",\"type\":\"SaveTool\"},{\"id\":\"e85dfb09-6b6c-4912-8284-6f23432d5887\",\"type\":\"ResetTool\"},{\"id\":\"358c624b-ad9b-42a6-bf61-5a68ab1ced69\",\"type\":\"HelpTool\"}]},\"id\":\"4677dafc-2301-4eaf-98fe-be19abab2d04\",\"type\":\"Toolbar\"},{\"attributes\":{\"data_source\":{\"id\":\"7cf3b83d-1af0-414d-8b0a-d544d8fb9947\",\"type\":\"ColumnDataSource\"},\"glyph\":{\"id\":\"7975c989-be2c-4bb3-a2c4-0bdc97d950bc\",\"type\":\"Line\"},\"hover_glyph\":null,\"muted_glyph\":null,\"nonselection_glyph\":{\"id\":\"1c2979cd-a9bf-428e-ae04-f231ca832bab\",\"type\":\"Line\"},\"selection_glyph\":null,\"view\":{\"id\":\"9412055a-771e-4224-9c48-533e0baa4b65\",\"type\":\"CDSView\"}},\"id\":\"17c32b70-a20f-4773-adc7-7018f9577554\",\"type\":\"GlyphRenderer\"},{\"attributes\":{\"callback\":null,\"data\":{\"x\":{\"__ndarray__\":\"KPkvzJ2rYr9m2Z5XfzZgv+glBCjXZlS/2AyLlT33Qb8gXnHg8ccmP4BRyGWKH00/6Lb4DbS/Wj8gTftC3YJjPz5QKr76qGk/ZlVUGVf3bz+7mygEGRpzP/loz+4SUXY/sjiLOz98eT8F/Xusvah9P7wkvKfsoIY/kz+qbXvlkz/xgZQNqI2fP953iFZZoaY/cNVofqSkrj/q/6XXKQC0P3AR6rIwdbk/tMsaaWcgvz9aCVfsoZDAP7x31JgQ874/KsCvRZZCuz9DE51viJS2P+I9G3oKB7I/hu5D8lbcqz/EPuW+85CkP5REycAOV5w/Xb256R4zkT8PFSJhkb99P3AH4mwe9le/uw4mxta/hL+qZx/14HiVv/IicWFtJKG/bImci60Kpr+Y770Y+sKnv151XA5tYKe/hJITN7i+pr9wGlpZ7eWlv/1Q/5YN3aS/HRyedXyho7/aosxPuDqivxktuzSCrKC/5awhqQbynb8aWDVqeFGav2KjLoWHcZa/Rlgf0hlfkr8TbmnmJjmMvwnZPSbHXoO/AmT/dLd2dL8gT0dEVIg3v72imFsh9XE/g7Eg9SACgz9VayvcPTeNP9blKS602pM/Ecl+gC8xmT/kExUe8p6eP/b/mkG2C6I/HkXGOLm+pD9oXRCCb0mnP6opSLoGgKk/6L+2Z15aqz8CjbsJCvisPzQLH9enmK4/JK+maVI1sD9QSaqqKEKxP4GgDvEwabI/ikLpENqgsz8hYclpEOW0Pw8SZRkpLrY/CHlt0Sp8tz/+8wYopdG4P4je9sUkKro/\",\"dtype\":\"float64\",\"shape\":[75]},\"y\":{\"__ndarray__\":\"GhExyth1ND/Sv8nbtpRIP2vylNV0PVE/aTum7souWD/At0SJ8fVgPw3Iuahxymc/MSNhhJWvcD/bTfBN02d3P2zb5nxnaoA/CD5h5MAGhz8NmeH1TyaQP+zrCsc9p5Y/LbKd76fGnz/bLW5ISEmmPww9YvTcQq8/JV2OstnstT8Er5Y7M8G+P0c+r3jqkcU/5h99k6ZBzj88bCIzFzjVP4enV8oyxN0//yH99nXg5D8qOpLLf0jtP5kqGJXUifQ/c9cS8kHP/D+/DpwzojQEQIEmwoanVwxA4lgXt9HgE0BSSZ2AJuIbQAMJih9jjiNA5q4l5INuK0AwTKYKRj0zQNv5fmq8/DpAaCJseHrtQkB/+zpwzoxKQM3MzMzMeFJAZmZmZmZqWEAAAAAAAFxeQM3MzMzMJmJAmpmZmZkfZUBmZmZmZhhoQDMzMzMzEWtAAAAAAAAKbkBmZmZmZoFwQM3MzMzM/XFAMzMzMzN6c0CamZmZmfZ0QAAAAAAAc3ZAZmZmZmbvd0DNzMzMzGt5QDMzMzMz6HpAmpmZmZlkfEAAAAAAAOF9QGZmZmZmXX9AZmZmZuZsgECamZmZGSuBQM3MzMxM6YFAAAAAAICngkAzMzMzs2WDQGZmZmbmI4RAmpmZmRnihEDNzMzMTKCFQAAAAACAXoZAMzMzM7Mch0BmZmZm5tqHQJqZmZkZmYhAzczMzExXiUAAAAAAgBWKQDMzMzOz04pAZmZmZuaRi0CamZmZGVCMQM3MzMxMDo1AAAAAAIDMjUAzMzMzs4qOQGZmZmbmSI9A\",\"dtype\":\"float64\",\"shape\":[75]}},\"selected\":{\"id\":\"68471602-dc7d-4eb4-8c67-251c047f11f9\",\"type\":\"Selection\"},\"selection_policy\":{\"id\":\"c45fe1c7-ebdf-4e16-977b-73f5b6ea3fb6\",\"type\":\"UnionRenderers\"}},\"id\":\"46448f3d-0c2c-44e9-b4da-d2e70318a032\",\"type\":\"ColumnDataSource\"},{\"attributes\":{\"line_alpha\":0.1,\"line_color\":\"#1f77b4\",\"line_width\":1.5,\"x\":{\"field\":\"x\"},\"y\":{\"field\":\"y\"}},\"id\":\"37714613-06aa-48d9-aee7-c7e145c07c98\",\"type\":\"Line\"},{\"attributes\":{\"fill_alpha\":{\"value\":0.7},\"fill_color\":{\"value\":\"#984ea3\"},\"line_alpha\":{\"value\":0.7},\"line_color\":{\"value\":\"#984ea3\"},\"x\":{\"field\":\"x\"},\"y\":{\"field\":\"y\"}},\"id\":\"77dec46a-10fa-4db9-a4c6-9f3f9f9ed252\",\"type\":\"Circle\"},{\"attributes\":{\"line_alpha\":0.1,\"line_color\":\"#1f77b4\",\"line_dash\":[6],\"line_width\":5,\"x\":{\"field\":\"x\"},\"y\":{\"field\":\"y\"}},\"id\":\"8a788445-3806-4b1f-a79f-7bbdce589761\",\"type\":\"Line\"},{\"attributes\":{\"callback\":null,\"data\":{\"x\":{\"__ndarray__\":\"nNB7K+bWnD+3697lyaecPxYqPR+hXZw/wy+Fg7oCnD+JqqKc3KqbP8SqjqryUJs/WnnD/QIGmz/8FnBFxr6aPwgAkgItf5o/JqEkP4VQmj8w1nCuBjaaPz1a83VnPpo/FKdlo2Rumj8Qut0+Hr+aP+BNfh2N4pk/xHTwmJfrlj+mZr8yfNeSP2jDAhKQq4w/gO4CBfPIgj8g9smy1dJvP2B7aMsomWC/kCUzYgRYgL8gAj4VkIV7v4BY/I20BVI/wNXkDkaVgT94Qu5arZCMP1DqgkbcX48/9J8kGh4ciz8UYbkuJpuCP9wODJm+h3E/AIFQxSoxIb8i5HPvznRtvw5bD6BJUXm/ZMBtwLvigL872U9PvnSDvzoVI2WoHoS/LMrBtPy8g78IOSfP5HaEv6jrpIbhOoa/tN6MGKurhr/AQ0oShXyGv3BXWrxI9IW/dstI3kAihb8eevD7/BWEv+zgP8Al2YK/ns8cEvVugb9UfTIFlOh/vyAI+6DfsHy/5OxlhqRkeb/IM8PqMQh2v5+pnIltp3K/J8dg5OKubr8enmxFYOBnv2AxEUdDc2G/ILMd2y0RVr9wUCzlO8dEvwDmk7du2Qw/IEd2LNnJRT8gi32jf79TP+BLfbYcPVs/8LLgXhnnYD+g007CeohkP0DG/zE1iGk/wFl+CwpYcD+4luYyi1J0P8Bp5UmZ8Xc/eCwFtJaBej/480lTDwJ8P+BvFlgDeXw/8B3SGTM0fD8A2MY8Jn17P+D0XxcpA3o/oBxQBzDGdz9wVsK9RrJ0P+Bu0cwgB3A/\",\"dtype\":\"float64\",\"shape\":[75]},\"y\":{\"__ndarray__\":\"GhExyth1ND/Sv8nbtpRIP2vylNV0PVE/aTum7souWD/At0SJ8fVgPw3Iuahxymc/MSNhhJWvcD/bTfBN02d3P2zb5nxnaoA/CD5h5MAGhz8NmeH1TyaQP+zrCsc9p5Y/LbKd76fGnz/bLW5ISEmmPww9YvTcQq8/JV2OstnstT8Er5Y7M8G+P0c+r3jqkcU/5h99k6ZBzj88bCIzFzjVP4enV8oyxN0//yH99nXg5D8qOpLLf0jtP5kqGJXUifQ/c9cS8kHP/D+/DpwzojQEQIEmwoanVwxA4lgXt9HgE0BSSZ2AJuIbQAMJih9jjiNA5q4l5INuK0AwTKYKRj0zQNv5fmq8/DpAaCJseHrtQkB/+zpwzoxKQM3MzMzMeFJAZmZmZmZqWEAAAAAAAFxeQM3MzMzMJmJAmpmZmZkfZUBmZmZmZhhoQDMzMzMzEWtAAAAAAAAKbkBmZmZmZoFwQM3MzMzM/XFAMzMzMzN6c0CamZmZmfZ0QAAAAAAAc3ZAZmZmZmbvd0DNzMzMzGt5QDMzMzMz6HpAmpmZmZlkfEAAAAAAAOF9QGZmZmZmXX9AZmZmZuZsgECamZmZGSuBQM3MzMxM6YFAAAAAAICngkAzMzMzs2WDQGZmZmbmI4RAmpmZmRnihEDNzMzMTKCFQAAAAACAXoZAMzMzM7Mch0BmZmZm5tqHQJqZmZkZmYhAzczMzExXiUAAAAAAgBWKQDMzMzOz04pAZmZmZuaRi0CamZmZGVCMQM3MzMxMDo1AAAAAAIDMjUAzMzMzs4qOQGZmZmbmSI9A\",\"dtype\":\"float64\",\"shape\":[75]}},\"selected\":{\"id\":\"f67ab781-0040-4a91-8a5d-0e43ba3be65d\",\"type\":\"Selection\"},\"selection_policy\":{\"id\":\"e141e0de-be76-41b3-88d9-c3f9fb7a86d2\",\"type\":\"UnionRenderers\"}},\"id\":\"7e7d2732-38c2-4a1d-a61d-536513ef939e\",\"type\":\"ColumnDataSource\"},{\"attributes\":{\"children\":[{\"id\":\"4848a4ce-2e75-4ce1-8071-1161af84a50b\",\"type\":\"Row\"}]},\"id\":\"d22d4913-a493-4acd-b50a-491f81f0dedc\",\"type\":\"Column\"},{\"attributes\":{\"data_source\":{\"id\":\"92c74689-6678-43a0-bb8f-d041075664be\",\"type\":\"ColumnDataSource\"},\"glyph\":{\"id\":\"77dec46a-10fa-4db9-a4c6-9f3f9f9ed252\",\"type\":\"Circle\"},\"hover_glyph\":null,\"muted_glyph\":null,\"nonselection_glyph\":{\"id\":\"817ea72e-a3be-4824-97d0-9ab2b6811727\",\"type\":\"Circle\"},\"selection_glyph\":null,\"view\":{\"id\":\"c3431331-bafb-4a93-b41f-8a0a65425cf1\",\"type\":\"CDSView\"}},\"id\":\"3e72c991-cec9-45ba-b34b-e869d31a1eef\",\"type\":\"GlyphRenderer\"},{\"attributes\":{\"fill_alpha\":{\"value\":0.1},\"fill_color\":{\"value\":\"#1f77b4\"},\"line_alpha\":{\"value\":0.1},\"line_color\":{\"value\":\"#1f77b4\"},\"x\":{\"field\":\"x\"},\"y\":{\"field\":\"y\"}},\"id\":\"96f00510-6848-458a-bc79-8074ac86ec4c\",\"type\":\"Circle\"},{\"attributes\":{\"data_source\":{\"id\":\"57731f82-de41-4903-9550-4dea311c3c7c\",\"type\":\"ColumnDataSource\"},\"glyph\":{\"id\":\"a37ae67e-e672-4cec-93dd-12f8920e80bc\",\"type\":\"Circle\"},\"hover_glyph\":null,\"muted_glyph\":null,\"nonselection_glyph\":{\"id\":\"96f00510-6848-458a-bc79-8074ac86ec4c\",\"type\":\"Circle\"},\"selection_glyph\":null,\"view\":{\"id\":\"60f10a66-dda1-4c6a-8153-8511c46da3c3\",\"type\":\"CDSView\"}},\"id\":\"d0e4782d-c5ed-4f30-bac9-f40f85ca02f0\",\"type\":\"GlyphRenderer\"},{\"attributes\":{\"line_alpha\":0.6,\"line_color\":\"#e41a1c\",\"line_dash\":[6],\"line_width\":5,\"x\":{\"field\":\"x\"},\"y\":{\"field\":\"y\"}},\"id\":\"7975c989-be2c-4bb3-a2c4-0bdc97d950bc\",\"type\":\"Line\"},{\"attributes\":{\"fill_alpha\":{\"value\":0.1},\"fill_color\":{\"value\":\"#1f77b4\"},\"line_alpha\":{\"value\":0.1},\"line_color\":{\"value\":\"#1f77b4\"},\"x\":{\"field\":\"x\"},\"y\":{\"field\":\"y\"}},\"id\":\"7a6406c6-e33a-4e89-a9b5-1723dc68fb70\",\"type\":\"Circle\"},{\"attributes\":{\"callback\":null,\"data\":{\"x\":{\"__ndarray__\":\"wc8B5Vksn7/kxtLQma6ev3VsvZEOpJ2/KogxcHSSnL/Nx+G4TH2bvzhoYFf2Z5q/7O3jvAdamb9YrRCdak6YvwC2zKoNSpe/eRb6W5pRlr9Br2ZtgG+Vv/9/P7oiqpS/59iC1FQPlL/Pur7T7lSTvwV3QJMtJI2/iqkxWuEwaL+WNqq1V2yJPwiOD6Tq7J4/0BkovWfyqT85sA8qkwGzP0tVRfn5+bk/M5iw+rOVwD9r+QBtzmzBP1qGnMb5qr4/ciXTg+0PuT/0Sj/EcgKzPzDBleIdNqw/ica6a08VpT/+zG1mVNSfP91Ahhof9Zc/X15EP4FVkT+QA25s/DyGPzLZ1gTCU3M/unLCLdjoXr8Z9u6aA32Hv0e7UJCGOZi/4RZsXm4bob9WIfTkQKWiv3Q6s6y00aG/11rwcM0Tob+AiccUzEagv0J20c/2v56/f9IXfNixnL+lCKEhcmqav7xpVolx7Je/FkUTIIw6lb/FuOhoU1eSv7TC3zmfio6/GroLYeELiL8v1AfxDTWBv3MI38IgFnS/ugE8Cxh9VL86tOO8Ve9kP207If/Crno/52eEsEbEhT9cMH6asYOOP+MbznZHzJM/2BYbt+CCmD8yO90j+mKdP5cV51vNMaE/7znYokewoz8ucOvV5wCmP0YtKGeD56c/sPRGJl1PqT8rul6juG2qP/xd4q10mqs/ubjM/HEarT8hVOtqDwSvP4M5jbugobA/qyBM35bdsT+h8/wFPi2zP8ES74f2jbQ/Pnf40Mf/tT+Xziq8gIa3P5rHKbmyKbk/\",\"dtype\":\"float64\",\"shape\":[75]},\"y\":{\"__ndarray__\":\"GhExyth1ND/Sv8nbtpRIP2vylNV0PVE/aTum7souWD/At0SJ8fVgPw3Iuahxymc/MSNhhJWvcD/bTfBN02d3P2zb5nxnaoA/CD5h5MAGhz8NmeH1TyaQP+zrCsc9p5Y/LbKd76fGnz/bLW5ISEmmPww9YvTcQq8/JV2OstnstT8Er5Y7M8G+P0c+r3jqkcU/5h99k6ZBzj88bCIzFzjVP4enV8oyxN0//yH99nXg5D8qOpLLf0jtP5kqGJXUifQ/c9cS8kHP/D+/DpwzojQEQIEmwoanVwxA4lgXt9HgE0BSSZ2AJuIbQAMJih9jjiNA5q4l5INuK0AwTKYKRj0zQNv5fmq8/DpAaCJseHrtQkB/+zpwzoxKQM3MzMzMeFJAZmZmZmZqWEAAAAAAAFxeQM3MzMzMJmJAmpmZmZkfZUBmZmZmZhhoQDMzMzMzEWtAAAAAAAAKbkBmZmZmZoFwQM3MzMzM/XFAMzMzMzN6c0CamZmZmfZ0QAAAAAAAc3ZAZmZmZmbvd0DNzMzMzGt5QDMzMzMz6HpAmpmZmZlkfEAAAAAAAOF9QGZmZmZmXX9AZmZmZuZsgECamZmZGSuBQM3MzMxM6YFAAAAAAICngkAzMzMzs2WDQGZmZmbmI4RAmpmZmRnihEDNzMzMTKCFQAAAAACAXoZAMzMzM7Mch0BmZmZm5tqHQJqZmZkZmYhAzczMzExXiUAAAAAAgBWKQDMzMzOz04pAZmZmZuaRi0CamZmZGVCMQM3MzMxMDo1AAAAAAIDMjUAzMzMzs4qOQGZmZmbmSI9A\",\"dtype\":\"float64\",\"shape\":[75]}},\"selected\":{\"id\":\"8a3c94e1-a1a9-455b-a30b-c0e2b8dae069\",\"type\":\"Selection\"},\"selection_policy\":{\"id\":\"ecb8e316-13f7-4ae3-9fd7-11b1d663321e\",\"type\":\"UnionRenderers\"}},\"id\":\"4902b940-4bbe-4c70-9d46-0150b75fc73f\",\"type\":\"ColumnDataSource\"},{\"attributes\":{\"label\":{\"value\":\"CLIRAD\"},\"renderers\":[{\"id\":\"17c32b70-a20f-4773-adc7-7018f9577554\",\"type\":\"GlyphRenderer\"}]},\"id\":\"8866d020-8878-45f9-b76e-f57af23c0c10\",\"type\":\"LegendItem\"},{\"attributes\":{\"line_alpha\":0.1,\"line_color\":\"#1f77b4\",\"line_width\":1.5,\"x\":{\"field\":\"x\"},\"y\":{\"field\":\"y\"}},\"id\":\"6c10d382-88f2-422c-8b53-f16769355a19\",\"type\":\"Line\"},{\"attributes\":{},\"id\":\"8a3c94e1-a1a9-455b-a30b-c0e2b8dae069\",\"type\":\"Selection\"},{\"attributes\":{\"dimension\":1,\"plot\":{\"id\":\"7d34b009-6ec1-4801-8536-7d33d07fd64b\",\"subtype\":\"Figure\",\"type\":\"Plot\"},\"ticker\":{\"id\":\"e06459be-c1c7-4641-aa53-ba9ca85d5bd5\",\"type\":\"LogTicker\"}},\"id\":\"e0559d4c-165a-4b78-b9e0-971949890534\",\"type\":\"Grid\"},{\"attributes\":{},\"id\":\"27e9c73d-706b-47ba-b2cb-876329ed150c\",\"type\":\"BasicTickFormatter\"},{\"attributes\":{\"source\":{\"id\":\"b3765462-0318-4c92-ba5b-c4cd63deae8e\",\"type\":\"ColumnDataSource\"}},\"id\":\"2329e7c1-35f9-43de-9150-237e1351daf9\",\"type\":\"CDSView\"},{\"attributes\":{\"axis_label\":\"pressure [mb]\",\"formatter\":{\"id\":\"a0864d76-424d-4339-951b-b50e48bf01b8\",\"type\":\"BasicTickFormatter\"},\"plot\":{\"id\":\"7141a99b-6360-4b38-b130-bf3f638aba30\",\"subtype\":\"Figure\",\"type\":\"Plot\"},\"ticker\":{\"id\":\"149302d8-3da8-482b-9631-ce5dadcfddce\",\"type\":\"BasicTicker\"}},\"id\":\"64b21bec-ef2a-4bbd-86fe-f34448d9f905\",\"type\":\"LinearAxis\"},{\"attributes\":{\"plot\":null,\"text\":\"\"},\"id\":\"c9436b82-489a-492a-b2a6-1b4218f3c658\",\"type\":\"Title\"},{\"attributes\":{\"label\":{\"value\":\"CRD\"},\"renderers\":[{\"id\":\"cee749a3-2f27-4fb4-a035-419659cc1e79\",\"type\":\"GlyphRenderer\"},{\"id\":\"1180a400-381a-4c82-9bc6-dd5a50675e56\",\"type\":\"GlyphRenderer\"}]},\"id\":\"8006e678-e883-420d-a250-3b8cecb046bb\",\"type\":\"LegendItem\"},{\"attributes\":{\"source\":{\"id\":\"7e7d2732-38c2-4a1d-a61d-536513ef939e\",\"type\":\"ColumnDataSource\"}},\"id\":\"a1e4907c-9f32-4ff1-88e5-d810392eaf64\",\"type\":\"CDSView\"},{\"attributes\":{\"callback\":null,\"data\":{\"x\":{\"__ndarray__\":\"wc8B5Vksn7/kxtLQma6ev3VsvZEOpJ2/KogxcHSSnL/Nx+G4TH2bvzhoYFf2Z5q/7O3jvAdamb9YrRCdak6YvwC2zKoNSpe/eRb6W5pRlr9Br2ZtgG+Vv/9/P7oiqpS/59iC1FQPlL/Pur7T7lSTvwV3QJMtJI2/iqkxWuEwaL+WNqq1V2yJPwiOD6Tq7J4/0BkovWfyqT85sA8qkwGzP0tVRfn5+bk/M5iw+rOVwD9r+QBtzmzBP1qGnMb5qr4/ciXTg+0PuT/0Sj/EcgKzPzDBleIdNqw/ica6a08VpT/+zG1mVNSfP91Ahhof9Zc/X15EP4FVkT+QA25s/DyGPzLZ1gTCU3M/unLCLdjoXr8Z9u6aA32Hv0e7UJCGOZi/4RZsXm4bob9WIfTkQKWiv3Q6s6y00aG/11rwcM0Tob+AiccUzEagv0J20c/2v56/f9IXfNixnL+lCKEhcmqav7xpVolx7Je/FkUTIIw6lb/FuOhoU1eSv7TC3zmfio6/GroLYeELiL8v1AfxDTWBv3MI38IgFnS/ugE8Cxh9VL86tOO8Ve9kP207If/Crno/52eEsEbEhT9cMH6asYOOP+MbznZHzJM/2BYbt+CCmD8yO90j+mKdP5cV51vNMaE/7znYokewoz8ucOvV5wCmP0YtKGeD56c/sPRGJl1PqT8rul6juG2qP/xd4q10mqs/ubjM/HEarT8hVOtqDwSvP4M5jbugobA/qyBM35bdsT+h8/wFPi2zP8ES74f2jbQ/Pnf40Mf/tT+Xziq8gIa3P5rHKbmyKbk/\",\"dtype\":\"float64\",\"shape\":[75]},\"y\":{\"__ndarray__\":\"GhExyth1ND/Sv8nbtpRIP2vylNV0PVE/aTum7souWD/At0SJ8fVgPw3Iuahxymc/MSNhhJWvcD/bTfBN02d3P2zb5nxnaoA/CD5h5MAGhz8NmeH1TyaQP+zrCsc9p5Y/LbKd76fGnz/bLW5ISEmmPww9YvTcQq8/JV2OstnstT8Er5Y7M8G+P0c+r3jqkcU/5h99k6ZBzj88bCIzFzjVP4enV8oyxN0//yH99nXg5D8qOpLLf0jtP5kqGJXUifQ/c9cS8kHP/D+/DpwzojQEQIEmwoanVwxA4lgXt9HgE0BSSZ2AJuIbQAMJih9jjiNA5q4l5INuK0AwTKYKRj0zQNv5fmq8/DpAaCJseHrtQkB/+zpwzoxKQM3MzMzMeFJAZmZmZmZqWEAAAAAAAFxeQM3MzMzMJmJAmpmZmZkfZUBmZmZmZhhoQDMzMzMzEWtAAAAAAAAKbkBmZmZmZoFwQM3MzMzM/XFAMzMzMzN6c0CamZmZmfZ0QAAAAAAAc3ZAZmZmZmbvd0DNzMzMzGt5QDMzMzMz6HpAmpmZmZlkfEAAAAAAAOF9QGZmZmZmXX9AZmZmZuZsgECamZmZGSuBQM3MzMxM6YFAAAAAAICngkAzMzMzs2WDQGZmZmbmI4RAmpmZmRnihEDNzMzMTKCFQAAAAACAXoZAMzMzM7Mch0BmZmZm5tqHQJqZmZkZmYhAzczMzExXiUAAAAAAgBWKQDMzMzOz04pAZmZmZuaRi0CamZmZGVCMQM3MzMxMDo1AAAAAAIDMjUAzMzMzs4qOQGZmZmbmSI9A\",\"dtype\":\"float64\",\"shape\":[75]}},\"selected\":{\"id\":\"733c52ea-aadc-4e83-bfb7-1062dd0025bb\",\"type\":\"Selection\"},\"selection_policy\":{\"id\":\"7fe1ada4-da54-45bf-b1bc-239df243d774\",\"type\":\"UnionRenderers\"}},\"id\":\"57731f82-de41-4903-9550-4dea311c3c7c\",\"type\":\"ColumnDataSource\"},{\"attributes\":{\"ticker\":null},\"id\":\"c7a446c5-db8e-46b9-b9ca-619a10f55273\",\"type\":\"LogTickFormatter\"}],\"root_ids\":[\"5c901912-5721-49b9-8a2e-dc347caa830a\"]},\"title\":\"Bokeh Application\",\"version\":\"0.12.16\"}};\n",
       "  var render_items = [{\"docid\":\"817d425f-ff6a-4a08-887f-f69bba3caa7c\",\"elementid\":\"8d566207-6493-4976-9eed-d85750b1ef12\",\"modelid\":\"5c901912-5721-49b9-8a2e-dc347caa830a\"}];\n",
       "  root.Bokeh.embed.embed_items_notebook(docs_json, render_items);\n",
       "\n",
       "  }\n",
       "  if (root.Bokeh !== undefined) {\n",
       "    embed_document(root);\n",
       "  } else {\n",
       "    var attempts = 0;\n",
       "    var timer = setInterval(function(root) {\n",
       "      if (root.Bokeh !== undefined) {\n",
       "        embed_document(root);\n",
       "        clearInterval(timer);\n",
       "      }\n",
       "      attempts++;\n",
       "      if (attempts > 100) {\n",
       "        console.log(\"Bokeh: ERROR: Unable to run BokehJS code because BokehJS library is missing\")\n",
       "        clearInterval(timer);\n",
       "      }\n",
       "    }, 10, root)\n",
       "  }\n",
       "})(window);"
      ],
      "application/vnd.bokehjs_exec.v0+json": ""
     },
     "metadata": {
      "application/vnd.bokehjs_exec.v0+json": {
       "id": "5c901912-5721-49b9-8a2e-dc347caa830a"
      }
     },
     "output_type": "display_data"
    },
    {
     "data": {
      "text/markdown": [
       "*FIGURE.* Cooling rates & difference."
      ],
      "text/plain": [
       "<IPython.core.display.Markdown object>"
      ]
     },
     "metadata": {},
     "output_type": "display_data"
    },
    {
     "data": {
      "text/html": [
       "<a id=\"Fluxes._trp.\"></a>"
      ],
      "text/plain": [
       "<IPython.core.display.HTML object>"
      ]
     },
     "metadata": {},
     "output_type": "display_data"
    },
    {
     "data": {
      "text/markdown": [
       "# Fluxes. trp."
      ],
      "text/plain": [
       "<IPython.core.display.Markdown object>"
      ]
     },
     "metadata": {},
     "output_type": "display_data"
    },
    {
     "data": {
      "text/html": [
       "\n",
       "<div class=\"bk-root\">\n",
       "    <div class=\"bk-plotdiv\" id=\"ed7874c6-0f4b-4477-9460-8b26053df451\"></div>\n",
       "</div>"
      ]
     },
     "metadata": {},
     "output_type": "display_data"
    },
    {
     "data": {
      "application/javascript": [
       "(function(root) {\n",
       "  function embed_document(root) {\n",
       "    \n",
       "  var docs_json = {\"cb5f340f-aa54-41c7-85ff-e5751270ce1a\":{\"roots\":{\"references\":[{\"attributes\":{\"bottom_units\":\"screen\",\"fill_alpha\":{\"value\":0.5},\"fill_color\":{\"value\":\"lightgrey\"},\"left_units\":\"screen\",\"level\":\"overlay\",\"line_alpha\":{\"value\":1.0},\"line_color\":{\"value\":\"black\"},\"line_dash\":[4,4],\"line_width\":{\"value\":2},\"plot\":null,\"render_mode\":\"css\",\"right_units\":\"screen\",\"top_units\":\"screen\"},\"id\":\"71617906-4a9a-4f67-a6c6-f0f03c71da80\",\"type\":\"BoxAnnotation\"},{\"attributes\":{\"bottom_units\":\"screen\",\"fill_alpha\":{\"value\":0.5},\"fill_color\":{\"value\":\"lightgrey\"},\"left_units\":\"screen\",\"level\":\"overlay\",\"line_alpha\":{\"value\":1.0},\"line_color\":{\"value\":\"black\"},\"line_dash\":[4,4],\"line_width\":{\"value\":2},\"plot\":null,\"render_mode\":\"css\",\"right_units\":\"screen\",\"top_units\":\"screen\"},\"id\":\"d6678a0e-5649-4c3e-9087-d6ffbf2862d6\",\"type\":\"BoxAnnotation\"},{\"attributes\":{},\"id\":\"73c6be94-dc0f-4198-b64f-3393e1d3dce8\",\"type\":\"SaveTool\"},{\"attributes\":{\"axis_label\":\"spectral band\",\"formatter\":{\"id\":\"f38b2d96-9389-4502-8bcf-24bc3d2ca281\",\"type\":\"CategoricalTickFormatter\"},\"plot\":{\"id\":\"91ca1f4f-78d3-4a85-99c0-a62b11a420fa\",\"subtype\":\"Figure\",\"type\":\"Plot\"},\"ticker\":{\"id\":\"4dc4b48d-a97f-4598-907d-98243e82168d\",\"type\":\"CategoricalTicker\"}},\"id\":\"fa417948-2fc2-4446-8e18-f616fbe981cc\",\"type\":\"CategoricalAxis\"},{\"attributes\":{},\"id\":\"06d979f9-37fa-42a6-96ac-c376278cf016\",\"type\":\"ResetTool\"},{\"attributes\":{},\"id\":\"c708316c-c66c-4b8c-b715-a53603bc4363\",\"type\":\"PanTool\"},{\"attributes\":{\"plot\":{\"id\":\"91ca1f4f-78d3-4a85-99c0-a62b11a420fa\",\"subtype\":\"Figure\",\"type\":\"Plot\"},\"ticker\":{\"id\":\"4dc4b48d-a97f-4598-907d-98243e82168d\",\"type\":\"CategoricalTicker\"}},\"id\":\"58671371-1e20-48cf-831b-67a6a04e6cae\",\"type\":\"Grid\"},{\"attributes\":{},\"id\":\"e123281c-57bf-4fe5-b8b3-73abf11a7bbf\",\"type\":\"HelpTool\"},{\"attributes\":{},\"id\":\"16767d11-5e65-4369-bbc6-1944c13d25ec\",\"type\":\"LinearScale\"},{\"attributes\":{},\"id\":\"f38b2d96-9389-4502-8bcf-24bc3d2ca281\",\"type\":\"CategoricalTickFormatter\"},{\"attributes\":{},\"id\":\"36d8be7c-e898-48f2-89d8-7243c1577a3b\",\"type\":\"SaveTool\"},{\"attributes\":{\"axis_label\":\"flux (W m-2)\",\"formatter\":{\"id\":\"f2c7394c-97e0-49de-8256-79364aa67333\",\"type\":\"BasicTickFormatter\"},\"plot\":{\"id\":\"91ca1f4f-78d3-4a85-99c0-a62b11a420fa\",\"subtype\":\"Figure\",\"type\":\"Plot\"},\"ticker\":{\"id\":\"a9474f60-c869-4724-856e-2f2f75e43508\",\"type\":\"BasicTicker\"}},\"id\":\"652a2a7b-bc17-49ad-92fc-23f908739ea4\",\"type\":\"LinearAxis\"},{\"attributes\":{\"overlay\":{\"id\":\"d6678a0e-5649-4c3e-9087-d6ffbf2862d6\",\"type\":\"BoxAnnotation\"}},\"id\":\"3d50c1e3-4223-4197-be69-ce86bed68eb8\",\"type\":\"BoxZoomTool\"},{\"attributes\":{},\"id\":\"43e07c23-42f2-4c25-bc8d-21d2937b4bad\",\"type\":\"WheelZoomTool\"},{\"attributes\":{},\"id\":\"a9474f60-c869-4724-856e-2f2f75e43508\",\"type\":\"BasicTicker\"},{\"attributes\":{},\"id\":\"4dc4b48d-a97f-4598-907d-98243e82168d\",\"type\":\"CategoricalTicker\"},{\"attributes\":{},\"id\":\"2f1747cf-8167-404b-9f73-0f8186381313\",\"type\":\"BasicTickFormatter\"},{\"attributes\":{\"fill_alpha\":{\"value\":0.1},\"fill_color\":{\"value\":\"#1f77b4\"},\"line_alpha\":{\"value\":0.1},\"line_color\":{\"value\":\"#1f77b4\"},\"top\":{\"field\":\"flux\"},\"width\":{\"value\":0.9},\"x\":{\"field\":\"band\"}},\"id\":\"b37d6896-8acf-49b5-ad95-7fbcc3a36fae\",\"type\":\"VBar\"},{\"attributes\":{},\"id\":\"64603002-e702-430b-80dc-9af1447b9745\",\"type\":\"ResetTool\"},{\"attributes\":{\"dimension\":1,\"plot\":{\"id\":\"91ca1f4f-78d3-4a85-99c0-a62b11a420fa\",\"subtype\":\"Figure\",\"type\":\"Plot\"},\"ticker\":{\"id\":\"a9474f60-c869-4724-856e-2f2f75e43508\",\"type\":\"BasicTicker\"}},\"id\":\"823b65b2-4c5d-4895-896f-89c006549078\",\"type\":\"Grid\"},{\"attributes\":{},\"id\":\"80204d08-83a9-4c67-81b2-95a2f43d72ad\",\"type\":\"HelpTool\"},{\"attributes\":{\"fill_color\":{\"value\":\"#1f77b4\"},\"line_color\":{\"value\":\"#1f77b4\"},\"top\":{\"field\":\"flux\"},\"width\":{\"value\":0.9},\"x\":{\"field\":\"band\"}},\"id\":\"c2032fbe-7689-407d-8175-59df51d72f48\",\"type\":\"VBar\"},{\"attributes\":{\"active_drag\":\"auto\",\"active_inspect\":\"auto\",\"active_scroll\":\"auto\",\"active_tap\":\"auto\",\"tools\":[{\"id\":\"44a6828e-c6b6-4020-a12f-7599f28231d5\",\"type\":\"PanTool\"},{\"id\":\"2c81088d-151a-4f6b-b3c7-587ec47d2ab9\",\"type\":\"WheelZoomTool\"},{\"id\":\"0d2a2009-bf3d-40ce-adbd-503c3d430732\",\"type\":\"BoxZoomTool\"},{\"id\":\"73c6be94-dc0f-4198-b64f-3393e1d3dce8\",\"type\":\"SaveTool\"},{\"id\":\"06d979f9-37fa-42a6-96ac-c376278cf016\",\"type\":\"ResetTool\"},{\"id\":\"e123281c-57bf-4fe5-b8b3-73abf11a7bbf\",\"type\":\"HelpTool\"}]},\"id\":\"8d6d9996-288b-466e-a1f4-a72e0e990d50\",\"type\":\"Toolbar\"},{\"attributes\":{\"bottom_units\":\"screen\",\"fill_alpha\":{\"value\":0.5},\"fill_color\":{\"value\":\"lightgrey\"},\"left_units\":\"screen\",\"level\":\"overlay\",\"line_alpha\":{\"value\":1.0},\"line_color\":{\"value\":\"black\"},\"line_dash\":[4,4],\"line_width\":{\"value\":2},\"plot\":null,\"render_mode\":\"css\",\"right_units\":\"screen\",\"top_units\":\"screen\"},\"id\":\"a87c6239-350a-4858-b55d-44efb4f6576f\",\"type\":\"BoxAnnotation\"},{\"attributes\":{},\"id\":\"10580207-eacb-4a1e-94e7-1ed3ca179acd\",\"type\":\"Selection\"},{\"attributes\":{},\"id\":\"102913f8-b1a2-482c-a610-253d23ef3970\",\"type\":\"PanTool\"},{\"attributes\":{\"tools\":[{\"id\":\"102913f8-b1a2-482c-a610-253d23ef3970\",\"type\":\"PanTool\"},{\"id\":\"d210d2a5-32d9-4319-89e6-c242ab569669\",\"type\":\"WheelZoomTool\"},{\"id\":\"fe33db41-e129-4907-8f89-3f6fe8f3d9a0\",\"type\":\"BoxZoomTool\"},{\"id\":\"c94b9e46-ca4b-4a55-9a7b-17b4f04d8f74\",\"type\":\"SaveTool\"},{\"id\":\"6a41e58d-480d-4432-9b37-2c1bff0c2441\",\"type\":\"ResetTool\"},{\"id\":\"6b278695-a6d1-4baa-a508-b6091f03f51d\",\"type\":\"HelpTool\"},{\"id\":\"44a6828e-c6b6-4020-a12f-7599f28231d5\",\"type\":\"PanTool\"},{\"id\":\"2c81088d-151a-4f6b-b3c7-587ec47d2ab9\",\"type\":\"WheelZoomTool\"},{\"id\":\"0d2a2009-bf3d-40ce-adbd-503c3d430732\",\"type\":\"BoxZoomTool\"},{\"id\":\"73c6be94-dc0f-4198-b64f-3393e1d3dce8\",\"type\":\"SaveTool\"},{\"id\":\"06d979f9-37fa-42a6-96ac-c376278cf016\",\"type\":\"ResetTool\"},{\"id\":\"e123281c-57bf-4fe5-b8b3-73abf11a7bbf\",\"type\":\"HelpTool\"},{\"id\":\"c708316c-c66c-4b8c-b715-a53603bc4363\",\"type\":\"PanTool\"},{\"id\":\"43e07c23-42f2-4c25-bc8d-21d2937b4bad\",\"type\":\"WheelZoomTool\"},{\"id\":\"3d50c1e3-4223-4197-be69-ce86bed68eb8\",\"type\":\"BoxZoomTool\"},{\"id\":\"36d8be7c-e898-48f2-89d8-7243c1577a3b\",\"type\":\"SaveTool\"},{\"id\":\"64603002-e702-430b-80dc-9af1447b9745\",\"type\":\"ResetTool\"},{\"id\":\"80204d08-83a9-4c67-81b2-95a2f43d72ad\",\"type\":\"HelpTool\"}]},\"id\":\"52b6de51-6cd8-4382-ac42-fd6e3d770371\",\"type\":\"ProxyToolbar\"},{\"attributes\":{\"data_source\":{\"id\":\"2bb47aaa-86e8-451e-9266-f7cbdfbba3e3\",\"type\":\"ColumnDataSource\"},\"glyph\":{\"id\":\"c2032fbe-7689-407d-8175-59df51d72f48\",\"type\":\"VBar\"},\"hover_glyph\":null,\"muted_glyph\":null,\"nonselection_glyph\":{\"id\":\"b37d6896-8acf-49b5-ad95-7fbcc3a36fae\",\"type\":\"VBar\"},\"selection_glyph\":null,\"view\":{\"id\":\"8b2da084-bad2-4fc7-8274-5b362dd12538\",\"type\":\"CDSView\"}},\"id\":\"e33bc9d6-5133-4515-8457-e873c74cdd08\",\"type\":\"GlyphRenderer\"},{\"attributes\":{},\"id\":\"d210d2a5-32d9-4319-89e6-c242ab569669\",\"type\":\"WheelZoomTool\"},{\"attributes\":{\"children\":[{\"id\":\"356bc6b4-2171-49c5-b9c3-6e3ab5f03e56\",\"type\":\"Row\"}]},\"id\":\"4837deee-9fa5-4b0d-b8a9-02644a269e0f\",\"type\":\"Column\"},{\"attributes\":{\"overlay\":{\"id\":\"a87c6239-350a-4858-b55d-44efb4f6576f\",\"type\":\"BoxAnnotation\"}},\"id\":\"fe33db41-e129-4907-8f89-3f6fe8f3d9a0\",\"type\":\"BoxZoomTool\"},{\"attributes\":{},\"id\":\"50498e19-9f23-4c12-b361-f6144a2735a1\",\"type\":\"UnionRenderers\"},{\"attributes\":{},\"id\":\"c94b9e46-ca4b-4a55-9a7b-17b4f04d8f74\",\"type\":\"SaveTool\"},{\"attributes\":{},\"id\":\"3b4cd83c-b86d-4907-8704-1dcb077e450b\",\"type\":\"UnionRenderers\"},{\"attributes\":{},\"id\":\"6a41e58d-480d-4432-9b37-2c1bff0c2441\",\"type\":\"ResetTool\"},{\"attributes\":{},\"id\":\"f2c7394c-97e0-49de-8256-79364aa67333\",\"type\":\"BasicTickFormatter\"},{\"attributes\":{},\"id\":\"6b278695-a6d1-4baa-a508-b6091f03f51d\",\"type\":\"HelpTool\"},{\"attributes\":{},\"id\":\"6b615908-8f64-4da5-b263-722f945e065e\",\"type\":\"UnionRenderers\"},{\"attributes\":{},\"id\":\"9a9d0171-e427-45c0-8a51-90a08df903d4\",\"type\":\"Selection\"},{\"attributes\":{},\"id\":\"74ef8699-102e-45cc-9571-a6e60babbe9a\",\"type\":\"Selection\"},{\"attributes\":{},\"id\":\"2c81088d-151a-4f6b-b3c7-587ec47d2ab9\",\"type\":\"WheelZoomTool\"},{\"attributes\":{\"source\":{\"id\":\"2bb47aaa-86e8-451e-9266-f7cbdfbba3e3\",\"type\":\"ColumnDataSource\"}},\"id\":\"8b2da084-bad2-4fc7-8274-5b362dd12538\",\"type\":\"CDSView\"},{\"attributes\":{},\"id\":\"366cf2f4-ac4a-48f7-a725-2323a391e736\",\"type\":\"CategoricalTickFormatter\"},{\"attributes\":{},\"id\":\"45ec9db1-65a8-4963-88c4-1baa21fcab19\",\"type\":\"BasicTicker\"},{\"attributes\":{},\"id\":\"ba268357-091d-4441-bf74-e0d7b1cff993\",\"type\":\"BasicTickFormatter\"},{\"attributes\":{\"plot\":{\"id\":\"7811b4c5-df99-48ee-bcf9-4607f7a56268\",\"subtype\":\"Figure\",\"type\":\"Plot\"},\"ticker\":{\"id\":\"939745cc-2226-4226-b42a-d3c3c4b36119\",\"type\":\"CategoricalTicker\"}},\"id\":\"766ed3c9-8a78-482c-944a-aed81fe115cc\",\"type\":\"Grid\"},{\"attributes\":{\"toolbar\":{\"id\":\"52b6de51-6cd8-4382-ac42-fd6e3d770371\",\"type\":\"ProxyToolbar\"},\"toolbar_location\":\"above\"},\"id\":\"5647c607-902d-4690-b5cf-a7758a901d48\",\"type\":\"ToolbarBox\"},{\"attributes\":{\"children\":[{\"id\":\"5647c607-902d-4690-b5cf-a7758a901d48\",\"type\":\"ToolbarBox\"},{\"id\":\"4837deee-9fa5-4b0d-b8a9-02644a269e0f\",\"type\":\"Column\"}]},\"id\":\"10bfdfaf-f419-4794-bc84-eeb125cdebcf\",\"type\":\"Column\"},{\"attributes\":{\"axis_label\":\"flux (W m-2)\",\"formatter\":{\"id\":\"ba268357-091d-4441-bf74-e0d7b1cff993\",\"type\":\"BasicTickFormatter\"},\"plot\":{\"id\":\"767f9810-9a83-4f8a-9016-d0b4c6297d32\",\"subtype\":\"Figure\",\"type\":\"Plot\"},\"ticker\":{\"id\":\"45ec9db1-65a8-4963-88c4-1baa21fcab19\",\"type\":\"BasicTicker\"}},\"id\":\"846fb189-bfd6-416d-9ef1-9e49aee01a49\",\"type\":\"LinearAxis\"},{\"attributes\":{\"callback\":null,\"data\":{\"band\":[\"3\",\"9\"],\"flux\":{\"__ndarray__\":\"ACSuhGparL+Ahe2o41HMPw==\",\"dtype\":\"float64\",\"shape\":[2]}},\"selected\":{\"id\":\"10580207-eacb-4a1e-94e7-1ed3ca179acd\",\"type\":\"Selection\"},\"selection_policy\":{\"id\":\"3b4cd83c-b86d-4907-8704-1dcb077e450b\",\"type\":\"UnionRenderers\"}},\"id\":\"2bb47aaa-86e8-451e-9266-f7cbdfbba3e3\",\"type\":\"ColumnDataSource\"},{\"attributes\":{\"children\":[{\"id\":\"91ca1f4f-78d3-4a85-99c0-a62b11a420fa\",\"subtype\":\"Figure\",\"type\":\"Plot\"},{\"id\":\"767f9810-9a83-4f8a-9016-d0b4c6297d32\",\"subtype\":\"Figure\",\"type\":\"Plot\"},{\"id\":\"7811b4c5-df99-48ee-bcf9-4607f7a56268\",\"subtype\":\"Figure\",\"type\":\"Plot\"}]},\"id\":\"356bc6b4-2171-49c5-b9c3-6e3ab5f03e56\",\"type\":\"Row\"},{\"attributes\":{\"callback\":null,\"factors\":[\"3\",\"9\"]},\"id\":\"15ac253f-5768-44ce-bcec-ae252d78be1b\",\"type\":\"FactorRange\"},{\"attributes\":{\"below\":[{\"id\":\"c47248eb-ccdd-4f06-a5ba-c07b6e9fec3f\",\"type\":\"CategoricalAxis\"}],\"left\":[{\"id\":\"60dd688d-893a-42ee-9c4b-89efacd4caec\",\"type\":\"LinearAxis\"}],\"plot_height\":300,\"plot_width\":300,\"renderers\":[{\"id\":\"c47248eb-ccdd-4f06-a5ba-c07b6e9fec3f\",\"type\":\"CategoricalAxis\"},{\"id\":\"766ed3c9-8a78-482c-944a-aed81fe115cc\",\"type\":\"Grid\"},{\"id\":\"60dd688d-893a-42ee-9c4b-89efacd4caec\",\"type\":\"LinearAxis\"},{\"id\":\"15db12a3-d80d-4610-b168-29d904223f23\",\"type\":\"Grid\"},{\"id\":\"d6678a0e-5649-4c3e-9087-d6ffbf2862d6\",\"type\":\"BoxAnnotation\"},{\"id\":\"d636f905-3e18-4a15-966b-2f2bb3b6537d\",\"type\":\"GlyphRenderer\"}],\"title\":{\"id\":\"696e7625-97b8-4322-8bf3-2d70060d1923\",\"type\":\"Title\"},\"toolbar\":{\"id\":\"8d9ce30f-f895-4780-8c1e-2ad4701d8c9f\",\"type\":\"Toolbar\"},\"toolbar_location\":null,\"x_range\":{\"id\":\"15ac253f-5768-44ce-bcec-ae252d78be1b\",\"type\":\"FactorRange\"},\"x_scale\":{\"id\":\"1b04c13b-24a8-44b4-8969-529aaf3c528d\",\"type\":\"CategoricalScale\"},\"y_range\":{\"id\":\"17e9d2cd-4a9e-433b-b118-97de0f237edd\",\"type\":\"DataRange1d\"},\"y_scale\":{\"id\":\"c0b1c931-1999-4f65-97b8-ab71172d8954\",\"type\":\"LinearScale\"}},\"id\":\"7811b4c5-df99-48ee-bcf9-4607f7a56268\",\"subtype\":\"Figure\",\"type\":\"Plot\"},{\"attributes\":{},\"id\":\"1b04c13b-24a8-44b4-8969-529aaf3c528d\",\"type\":\"CategoricalScale\"},{\"attributes\":{\"active_drag\":\"auto\",\"active_inspect\":\"auto\",\"active_scroll\":\"auto\",\"active_tap\":\"auto\",\"tools\":[{\"id\":\"102913f8-b1a2-482c-a610-253d23ef3970\",\"type\":\"PanTool\"},{\"id\":\"d210d2a5-32d9-4319-89e6-c242ab569669\",\"type\":\"WheelZoomTool\"},{\"id\":\"fe33db41-e129-4907-8f89-3f6fe8f3d9a0\",\"type\":\"BoxZoomTool\"},{\"id\":\"c94b9e46-ca4b-4a55-9a7b-17b4f04d8f74\",\"type\":\"SaveTool\"},{\"id\":\"6a41e58d-480d-4432-9b37-2c1bff0c2441\",\"type\":\"ResetTool\"},{\"id\":\"6b278695-a6d1-4baa-a508-b6091f03f51d\",\"type\":\"HelpTool\"}]},\"id\":\"a1e4f2a7-b912-43e1-bd6d-b2185f313d8a\",\"type\":\"Toolbar\"},{\"attributes\":{\"below\":[{\"id\":\"acd658e6-3c6e-4189-821d-34367d020f93\",\"type\":\"CategoricalAxis\"}],\"left\":[{\"id\":\"846fb189-bfd6-416d-9ef1-9e49aee01a49\",\"type\":\"LinearAxis\"}],\"plot_height\":300,\"plot_width\":300,\"renderers\":[{\"id\":\"acd658e6-3c6e-4189-821d-34367d020f93\",\"type\":\"CategoricalAxis\"},{\"id\":\"5b65f023-216b-45be-bd96-d5f119968250\",\"type\":\"Grid\"},{\"id\":\"846fb189-bfd6-416d-9ef1-9e49aee01a49\",\"type\":\"LinearAxis\"},{\"id\":\"5cc9ff18-7cfa-49d1-ad92-134e8db93e15\",\"type\":\"Grid\"},{\"id\":\"71617906-4a9a-4f67-a6c6-f0f03c71da80\",\"type\":\"BoxAnnotation\"},{\"id\":\"dd9f899f-f583-41f2-a2f8-bc19fe50e6f6\",\"type\":\"GlyphRenderer\"}],\"title\":{\"id\":\"d0de4967-96a1-4385-9312-328d9e030d93\",\"type\":\"Title\"},\"toolbar\":{\"id\":\"8d6d9996-288b-466e-a1f4-a72e0e990d50\",\"type\":\"Toolbar\"},\"toolbar_location\":null,\"x_range\":{\"id\":\"7c806df8-1760-43db-b034-dec1fa5b07eb\",\"type\":\"FactorRange\"},\"x_scale\":{\"id\":\"5c302b6d-def3-4a23-9e3e-b0fb3cc5263d\",\"type\":\"CategoricalScale\"},\"y_range\":{\"id\":\"8c9819ac-3a0a-4671-8d28-21e6424f2e2d\",\"type\":\"DataRange1d\"},\"y_scale\":{\"id\":\"1864269f-f0d9-4b7e-a272-ed30413beab7\",\"type\":\"LinearScale\"}},\"id\":\"767f9810-9a83-4f8a-9016-d0b4c6297d32\",\"subtype\":\"Figure\",\"type\":\"Plot\"},{\"attributes\":{\"active_drag\":\"auto\",\"active_inspect\":\"auto\",\"active_scroll\":\"auto\",\"active_tap\":\"auto\",\"tools\":[{\"id\":\"c708316c-c66c-4b8c-b715-a53603bc4363\",\"type\":\"PanTool\"},{\"id\":\"43e07c23-42f2-4c25-bc8d-21d2937b4bad\",\"type\":\"WheelZoomTool\"},{\"id\":\"3d50c1e3-4223-4197-be69-ce86bed68eb8\",\"type\":\"BoxZoomTool\"},{\"id\":\"36d8be7c-e898-48f2-89d8-7243c1577a3b\",\"type\":\"SaveTool\"},{\"id\":\"64603002-e702-430b-80dc-9af1447b9745\",\"type\":\"ResetTool\"},{\"id\":\"80204d08-83a9-4c67-81b2-95a2f43d72ad\",\"type\":\"HelpTool\"}]},\"id\":\"8d9ce30f-f895-4780-8c1e-2ad4701d8c9f\",\"type\":\"Toolbar\"},{\"attributes\":{\"fill_alpha\":{\"value\":0.1},\"fill_color\":{\"value\":\"#1f77b4\"},\"line_alpha\":{\"value\":0.1},\"line_color\":{\"value\":\"#1f77b4\"},\"top\":{\"field\":\"flux\"},\"width\":{\"value\":0.9},\"x\":{\"field\":\"band\"}},\"id\":\"4f71259d-7fda-4bbb-871c-e1c3b5b9e167\",\"type\":\"VBar\"},{\"attributes\":{},\"id\":\"5c302b6d-def3-4a23-9e3e-b0fb3cc5263d\",\"type\":\"CategoricalScale\"},{\"attributes\":{\"callback\":null,\"data\":{\"band\":[\"3\",\"9\"],\"flux\":{\"__ndarray__\":\"AHid9aWOpr+ATydIiKzRPw==\",\"dtype\":\"float64\",\"shape\":[2]}},\"selected\":{\"id\":\"9a9d0171-e427-45c0-8a51-90a08df903d4\",\"type\":\"Selection\"},\"selection_policy\":{\"id\":\"50498e19-9f23-4c12-b361-f6144a2735a1\",\"type\":\"UnionRenderers\"}},\"id\":\"98e4f6e4-f358-41af-9f2c-3fbcdfb75b25\",\"type\":\"ColumnDataSource\"},{\"attributes\":{\"axis_label\":\"spectral band\",\"formatter\":{\"id\":\"366cf2f4-ac4a-48f7-a725-2323a391e736\",\"type\":\"CategoricalTickFormatter\"},\"plot\":{\"id\":\"767f9810-9a83-4f8a-9016-d0b4c6297d32\",\"subtype\":\"Figure\",\"type\":\"Plot\"},\"ticker\":{\"id\":\"c3aeb426-5e83-487e-8b3e-7f89edf42c20\",\"type\":\"CategoricalTicker\"}},\"id\":\"acd658e6-3c6e-4189-821d-34367d020f93\",\"type\":\"CategoricalAxis\"},{\"attributes\":{\"plot\":null,\"text\":\"SFC flux. CLIRAD - CRD.\"},\"id\":\"d0de4967-96a1-4385-9312-328d9e030d93\",\"type\":\"Title\"},{\"attributes\":{\"dimension\":1,\"plot\":{\"id\":\"7811b4c5-df99-48ee-bcf9-4607f7a56268\",\"subtype\":\"Figure\",\"type\":\"Plot\"},\"ticker\":{\"id\":\"90d0068f-b5b2-430f-943d-c022a71f7dcd\",\"type\":\"BasicTicker\"}},\"id\":\"15db12a3-d80d-4610-b168-29d904223f23\",\"type\":\"Grid\"},{\"attributes\":{\"data_source\":{\"id\":\"98e4f6e4-f358-41af-9f2c-3fbcdfb75b25\",\"type\":\"ColumnDataSource\"},\"glyph\":{\"id\":\"f5c752a5-5d11-47df-bde7-1dcdcf05d85c\",\"type\":\"VBar\"},\"hover_glyph\":null,\"muted_glyph\":null,\"nonselection_glyph\":{\"id\":\"4f71259d-7fda-4bbb-871c-e1c3b5b9e167\",\"type\":\"VBar\"},\"selection_glyph\":null,\"view\":{\"id\":\"67253d96-e0fe-47b1-b735-cafb622775ca\",\"type\":\"CDSView\"}},\"id\":\"d636f905-3e18-4a15-966b-2f2bb3b6537d\",\"type\":\"GlyphRenderer\"},{\"attributes\":{\"source\":{\"id\":\"98e4f6e4-f358-41af-9f2c-3fbcdfb75b25\",\"type\":\"ColumnDataSource\"}},\"id\":\"67253d96-e0fe-47b1-b735-cafb622775ca\",\"type\":\"CDSView\"},{\"attributes\":{},\"id\":\"29f625fb-bef0-4005-ae70-146d88930b50\",\"type\":\"CategoricalTickFormatter\"},{\"attributes\":{},\"id\":\"90d0068f-b5b2-430f-943d-c022a71f7dcd\",\"type\":\"BasicTicker\"},{\"attributes\":{\"callback\":null,\"factors\":[\"3\",\"9\"]},\"id\":\"7c806df8-1760-43db-b034-dec1fa5b07eb\",\"type\":\"FactorRange\"},{\"attributes\":{\"fill_color\":{\"value\":\"#1f77b4\"},\"line_color\":{\"value\":\"#1f77b4\"},\"top\":{\"field\":\"flux\"},\"width\":{\"value\":0.9},\"x\":{\"field\":\"band\"}},\"id\":\"f5c752a5-5d11-47df-bde7-1dcdcf05d85c\",\"type\":\"VBar\"},{\"attributes\":{},\"id\":\"1864269f-f0d9-4b7e-a272-ed30413beab7\",\"type\":\"LinearScale\"},{\"attributes\":{},\"id\":\"939745cc-2226-4226-b42a-d3c3c4b36119\",\"type\":\"CategoricalTicker\"},{\"attributes\":{\"callback\":null},\"id\":\"462687fd-2a59-4b39-ab85-3e206efbcb33\",\"type\":\"DataRange1d\"},{\"attributes\":{\"plot\":{\"id\":\"767f9810-9a83-4f8a-9016-d0b4c6297d32\",\"subtype\":\"Figure\",\"type\":\"Plot\"},\"ticker\":{\"id\":\"c3aeb426-5e83-487e-8b3e-7f89edf42c20\",\"type\":\"CategoricalTicker\"}},\"id\":\"5b65f023-216b-45be-bd96-d5f119968250\",\"type\":\"Grid\"},{\"attributes\":{\"axis_label\":\"spectral band\",\"formatter\":{\"id\":\"29f625fb-bef0-4005-ae70-146d88930b50\",\"type\":\"CategoricalTickFormatter\"},\"plot\":{\"id\":\"7811b4c5-df99-48ee-bcf9-4607f7a56268\",\"subtype\":\"Figure\",\"type\":\"Plot\"},\"ticker\":{\"id\":\"939745cc-2226-4226-b42a-d3c3c4b36119\",\"type\":\"CategoricalTicker\"}},\"id\":\"c47248eb-ccdd-4f06-a5ba-c07b6e9fec3f\",\"type\":\"CategoricalAxis\"},{\"attributes\":{\"fill_alpha\":{\"value\":0.1},\"fill_color\":{\"value\":\"#1f77b4\"},\"line_alpha\":{\"value\":0.1},\"line_color\":{\"value\":\"#1f77b4\"},\"top\":{\"field\":\"flux\"},\"width\":{\"value\":0.9},\"x\":{\"field\":\"band\"}},\"id\":\"87af420d-8409-4949-918b-eedaf67c90a4\",\"type\":\"VBar\"},{\"attributes\":{\"callback\":null},\"id\":\"17e9d2cd-4a9e-433b-b118-97de0f237edd\",\"type\":\"DataRange1d\"},{\"attributes\":{\"plot\":null,\"text\":\"TOA flux. CLIRAD - CRD.\"},\"id\":\"74cc2339-34a8-441f-89e8-9ca51a0798eb\",\"type\":\"Title\"},{\"attributes\":{\"callback\":null},\"id\":\"8c9819ac-3a0a-4671-8d28-21e6424f2e2d\",\"type\":\"DataRange1d\"},{\"attributes\":{\"axis_label\":\"flux (W m-2)\",\"formatter\":{\"id\":\"2f1747cf-8167-404b-9f73-0f8186381313\",\"type\":\"BasicTickFormatter\"},\"plot\":{\"id\":\"7811b4c5-df99-48ee-bcf9-4607f7a56268\",\"subtype\":\"Figure\",\"type\":\"Plot\"},\"ticker\":{\"id\":\"90d0068f-b5b2-430f-943d-c022a71f7dcd\",\"type\":\"BasicTicker\"}},\"id\":\"60dd688d-893a-42ee-9c4b-89efacd4caec\",\"type\":\"LinearAxis\"},{\"attributes\":{},\"id\":\"1c1bb2db-361c-40a9-8557-e7c43b796a21\",\"type\":\"CategoricalScale\"},{\"attributes\":{},\"id\":\"c3aeb426-5e83-487e-8b3e-7f89edf42c20\",\"type\":\"CategoricalTicker\"},{\"attributes\":{\"callback\":null,\"factors\":[\"3\",\"9\"]},\"id\":\"488f8a0c-88e9-4746-b129-32fd5169056e\",\"type\":\"FactorRange\"},{\"attributes\":{\"dimension\":1,\"plot\":{\"id\":\"767f9810-9a83-4f8a-9016-d0b4c6297d32\",\"subtype\":\"Figure\",\"type\":\"Plot\"},\"ticker\":{\"id\":\"45ec9db1-65a8-4963-88c4-1baa21fcab19\",\"type\":\"BasicTicker\"}},\"id\":\"5cc9ff18-7cfa-49d1-ad92-134e8db93e15\",\"type\":\"Grid\"},{\"attributes\":{\"source\":{\"id\":\"e0abc3eb-bbda-4a20-994e-12406bfab86d\",\"type\":\"ColumnDataSource\"}},\"id\":\"c70ea49c-82ac-40f9-ab7a-4496d1f9382e\",\"type\":\"CDSView\"},{\"attributes\":{\"callback\":null,\"data\":{\"band\":[\"3\",\"9\"],\"flux\":{\"__ndarray__\":\"ANsHD4kxh7+AM+EOCRysvw==\",\"dtype\":\"float64\",\"shape\":[2]}},\"selected\":{\"id\":\"74ef8699-102e-45cc-9571-a6e60babbe9a\",\"type\":\"Selection\"},\"selection_policy\":{\"id\":\"6b615908-8f64-4da5-b263-722f945e065e\",\"type\":\"UnionRenderers\"}},\"id\":\"e0abc3eb-bbda-4a20-994e-12406bfab86d\",\"type\":\"ColumnDataSource\"},{\"attributes\":{\"fill_color\":{\"value\":\"#1f77b4\"},\"line_color\":{\"value\":\"#1f77b4\"},\"top\":{\"field\":\"flux\"},\"width\":{\"value\":0.9},\"x\":{\"field\":\"band\"}},\"id\":\"5faa5c7d-1044-4746-9dbd-d5f9f08458d6\",\"type\":\"VBar\"},{\"attributes\":{},\"id\":\"c0b1c931-1999-4f65-97b8-ab71172d8954\",\"type\":\"LinearScale\"},{\"attributes\":{\"below\":[{\"id\":\"fa417948-2fc2-4446-8e18-f616fbe981cc\",\"type\":\"CategoricalAxis\"}],\"left\":[{\"id\":\"652a2a7b-bc17-49ad-92fc-23f908739ea4\",\"type\":\"LinearAxis\"}],\"plot_height\":300,\"plot_width\":300,\"renderers\":[{\"id\":\"fa417948-2fc2-4446-8e18-f616fbe981cc\",\"type\":\"CategoricalAxis\"},{\"id\":\"58671371-1e20-48cf-831b-67a6a04e6cae\",\"type\":\"Grid\"},{\"id\":\"652a2a7b-bc17-49ad-92fc-23f908739ea4\",\"type\":\"LinearAxis\"},{\"id\":\"823b65b2-4c5d-4895-896f-89c006549078\",\"type\":\"Grid\"},{\"id\":\"a87c6239-350a-4858-b55d-44efb4f6576f\",\"type\":\"BoxAnnotation\"},{\"id\":\"e33bc9d6-5133-4515-8457-e873c74cdd08\",\"type\":\"GlyphRenderer\"}],\"title\":{\"id\":\"74cc2339-34a8-441f-89e8-9ca51a0798eb\",\"type\":\"Title\"},\"toolbar\":{\"id\":\"a1e4f2a7-b912-43e1-bd6d-b2185f313d8a\",\"type\":\"Toolbar\"},\"toolbar_location\":null,\"x_range\":{\"id\":\"488f8a0c-88e9-4746-b129-32fd5169056e\",\"type\":\"FactorRange\"},\"x_scale\":{\"id\":\"1c1bb2db-361c-40a9-8557-e7c43b796a21\",\"type\":\"CategoricalScale\"},\"y_range\":{\"id\":\"462687fd-2a59-4b39-ab85-3e206efbcb33\",\"type\":\"DataRange1d\"},\"y_scale\":{\"id\":\"16767d11-5e65-4369-bbc6-1944c13d25ec\",\"type\":\"LinearScale\"}},\"id\":\"91ca1f4f-78d3-4a85-99c0-a62b11a420fa\",\"subtype\":\"Figure\",\"type\":\"Plot\"},{\"attributes\":{\"data_source\":{\"id\":\"e0abc3eb-bbda-4a20-994e-12406bfab86d\",\"type\":\"ColumnDataSource\"},\"glyph\":{\"id\":\"5faa5c7d-1044-4746-9dbd-d5f9f08458d6\",\"type\":\"VBar\"},\"hover_glyph\":null,\"muted_glyph\":null,\"nonselection_glyph\":{\"id\":\"87af420d-8409-4949-918b-eedaf67c90a4\",\"type\":\"VBar\"},\"selection_glyph\":null,\"view\":{\"id\":\"c70ea49c-82ac-40f9-ab7a-4496d1f9382e\",\"type\":\"CDSView\"}},\"id\":\"dd9f899f-f583-41f2-a2f8-bc19fe50e6f6\",\"type\":\"GlyphRenderer\"},{\"attributes\":{},\"id\":\"44a6828e-c6b6-4020-a12f-7599f28231d5\",\"type\":\"PanTool\"},{\"attributes\":{\"overlay\":{\"id\":\"71617906-4a9a-4f67-a6c6-f0f03c71da80\",\"type\":\"BoxAnnotation\"}},\"id\":\"0d2a2009-bf3d-40ce-adbd-503c3d430732\",\"type\":\"BoxZoomTool\"},{\"attributes\":{\"plot\":null,\"text\":\"Atmosphere heating. CLIRAD - CRD.\"},\"id\":\"696e7625-97b8-4322-8bf3-2d70060d1923\",\"type\":\"Title\"}],\"root_ids\":[\"10bfdfaf-f419-4794-bc84-eeb125cdebcf\"]},\"title\":\"Bokeh Application\",\"version\":\"0.12.16\"}};\n",
       "  var render_items = [{\"docid\":\"cb5f340f-aa54-41c7-85ff-e5751270ce1a\",\"elementid\":\"ed7874c6-0f4b-4477-9460-8b26053df451\",\"modelid\":\"10bfdfaf-f419-4794-bc84-eeb125cdebcf\"}];\n",
       "  root.Bokeh.embed.embed_items_notebook(docs_json, render_items);\n",
       "\n",
       "  }\n",
       "  if (root.Bokeh !== undefined) {\n",
       "    embed_document(root);\n",
       "  } else {\n",
       "    var attempts = 0;\n",
       "    var timer = setInterval(function(root) {\n",
       "      if (root.Bokeh !== undefined) {\n",
       "        embed_document(root);\n",
       "        clearInterval(timer);\n",
       "      }\n",
       "      attempts++;\n",
       "      if (attempts > 100) {\n",
       "        console.log(\"Bokeh: ERROR: Unable to run BokehJS code because BokehJS library is missing\")\n",
       "        clearInterval(timer);\n",
       "      }\n",
       "    }, 10, root)\n",
       "  }\n",
       "})(window);"
      ],
      "application/vnd.bokehjs_exec.v0+json": ""
     },
     "metadata": {
      "application/vnd.bokehjs_exec.v0+json": {
       "id": "10bfdfaf-f419-4794-bc84-eeb125cdebcf"
      }
     },
     "output_type": "display_data"
    },
    {
     "data": {
      "text/markdown": [
       "*FIGURE.* Difference between CLIRAD and CRD in TOA, SFC and net atmosphere flux, in each spectral band."
      ],
      "text/plain": [
       "<IPython.core.display.Markdown object>"
      ]
     },
     "metadata": {},
     "output_type": "display_data"
    },
    {
     "data": {
      "text/html": [
       "<div>\n",
       "<style scoped>\n",
       "    .dataframe tbody tr th:only-of-type {\n",
       "        vertical-align: middle;\n",
       "    }\n",
       "\n",
       "    .dataframe tbody tr th {\n",
       "        vertical-align: top;\n",
       "    }\n",
       "\n",
       "    .dataframe thead th {\n",
       "        text-align: right;\n",
       "    }\n",
       "</style>\n",
       "<table border=\"1\" class=\"dataframe\">\n",
       "  <thead>\n",
       "    <tr style=\"text-align: right;\">\n",
       "      <th></th>\n",
       "      <th>OLR flux</th>\n",
       "      <th>SFC flux</th>\n",
       "      <th>ATM heating</th>\n",
       "    </tr>\n",
       "    <tr>\n",
       "      <th>Sum over bands</th>\n",
       "      <th></th>\n",
       "      <th></th>\n",
       "      <th></th>\n",
       "    </tr>\n",
       "  </thead>\n",
       "  <tbody>\n",
       "    <tr>\n",
       "      <th>CLIRAD - CRD</th>\n",
       "      <td>0.17</td>\n",
       "      <td>-0.07</td>\n",
       "      <td>0.23</td>\n",
       "    </tr>\n",
       "    <tr>\n",
       "      <th>CRD</th>\n",
       "      <td>-60.61</td>\n",
       "      <td>6.95</td>\n",
       "      <td>-2.11</td>\n",
       "    </tr>\n",
       "  </tbody>\n",
       "</table>\n",
       "</div>"
      ],
      "text/plain": [
       "                OLR flux  SFC flux  ATM heating\n",
       "Sum over bands                                 \n",
       "CLIRAD - CRD        0.17     -0.07         0.23\n",
       "CRD               -60.61      6.95        -2.11"
      ]
     },
     "metadata": {},
     "output_type": "display_data"
    },
    {
     "data": {
      "text/markdown": [
       "*TABLE.* Difference between CLIRAD and CRD in TOA, SFC and net atmosphere flux, over all spectral bands. CRD's TOA, SFC and net atmosphere flux, over all spectral bands."
      ],
      "text/plain": [
       "<IPython.core.display.Markdown object>"
      ]
     },
     "metadata": {},
     "output_type": "display_data"
    }
   ],
   "source": [
    "script()"
   ]
  },
  {
   "cell_type": "markdown",
   "metadata": {},
   "source": [
    "## --"
   ]
  },
  {
   "cell_type": "code",
   "execution_count": 29,
   "metadata": {},
   "outputs": [
    {
     "data": {
      "text/html": [
       "<script>\n",
       "code_show=true; \n",
       "function code_toggle() {\n",
       " if (code_show){\n",
       " $('div.input').hide();\n",
       " } else {\n",
       " $('div.input').show();\n",
       " }\n",
       " code_show = !code_show\n",
       "} \n",
       "$( document ).ready(code_toggle);\n",
       "</script>\n",
       "<form action=\"javascript:code_toggle()\"><input type=\"submit\" value=\"Click here to toggle on/off the raw code.\"></form>"
      ],
      "text/plain": [
       "<IPython.core.display.HTML object>"
      ]
     },
     "execution_count": 29,
     "metadata": {},
     "output_type": "execute_result"
    }
   ],
   "source": [
    "display.HTML('''<script>\n",
    "code_show=true; \n",
    "function code_toggle() {\n",
    " if (code_show){\n",
    " $('div.input').hide();\n",
    " } else {\n",
    " $('div.input').show();\n",
    " }\n",
    " code_show = !code_show\n",
    "} \n",
    "$( document ).ready(code_toggle);\n",
    "</script>\n",
    "<form action=\"javascript:code_toggle()\"><input type=\"submit\" value=\"Click here to toggle on/off the raw code.\"></form>''')"
   ]
  },
  {
   "cell_type": "code",
   "execution_count": null,
   "metadata": {
    "collapsed": true
   },
   "outputs": [],
   "source": []
  }
 ],
 "metadata": {
  "kernelspec": {
   "display_name": "Python 3",
   "language": "python",
   "name": "python3"
  },
  "language_info": {
   "codemirror_mode": {
    "name": "ipython",
    "version": 3
   },
   "file_extension": ".py",
   "mimetype": "text/x-python",
   "name": "python",
   "nbconvert_exporter": "python",
   "pygments_lexer": "ipython3",
   "version": "3.6.7"
  }
 },
 "nbformat": 4,
 "nbformat_minor": 2
}
