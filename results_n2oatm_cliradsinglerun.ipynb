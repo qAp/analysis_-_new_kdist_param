{
 "cells": [
  {
   "cell_type": "code",
   "execution_count": 1,
   "metadata": {
    "collapsed": true
   },
   "outputs": [],
   "source": [
    "%reload_ext autoreload\n",
    "%autoreload 2\n",
    "\n",
    "import os\n",
    "import io\n",
    "import ast\n",
    "import json\n",
    "import importlib \n",
    "import itertools\n",
    "import collections\n",
    "import pprint\n",
    "\n",
    "import pymongo\n",
    "\n",
    "from bokeh.io import output_notebook, show\n",
    "from bokeh.layouts import gridplot\n",
    "from bokeh.plotting import figure\n",
    "from bokeh.models import Range1d, Legend, ColumnDataSource, FactorRange\n",
    "from bokeh.palettes import all_palettes\n",
    "from bokeh.transform import factor_cmap\n",
    "\n",
    "import matplotlib\n",
    "import matplotlib.pyplot as plt\n",
    "import numpy as np\n",
    "import pandas as pd\n",
    "import xarray as xr\n",
    "\n",
    "from climatools.atm.absorbers import *\n",
    "\n",
    "import climatools.lblnew.bestfit_params as bestfits\n",
    "from climatools.lblnew import setup_bestfit, setup_overlap\n",
    "import climatools.lblnew.pipeline as pipe_lblnew\n",
    "\n",
    "from climatools.cliradlw.utils import *\n",
    "import climatools.cliradlw.setup as setup_cliradlw\n",
    "import climatools.cliradlw.pipeline as pipe_cliradlw\n",
    "from climatools.cliradlw.dataset import *\n",
    "\n",
    "import climatools.html.html as climahtml\n",
    "from climatools.lblnew.dataio import *\n",
    "from climatools.plot.plot import *\n",
    "\n",
    "from IPython import display"
   ]
  },
  {
   "cell_type": "code",
   "execution_count": 2,
   "metadata": {
    "scrolled": true
   },
   "outputs": [
    {
     "data": {
      "text/html": [
       "\n",
       "    <div class=\"bk-root\">\n",
       "        <a href=\"https://bokeh.pydata.org\" target=\"_blank\" class=\"bk-logo bk-logo-small bk-logo-notebook\"></a>\n",
       "        <span id=\"c09305df-7df2-4fa4-99bd-9fae447717c1\">Loading BokehJS ...</span>\n",
       "    </div>"
      ]
     },
     "metadata": {},
     "output_type": "display_data"
    },
    {
     "data": {
      "application/javascript": [
       "\n",
       "(function(root) {\n",
       "  function now() {\n",
       "    return new Date();\n",
       "  }\n",
       "\n",
       "  var force = true;\n",
       "\n",
       "  if (typeof (root._bokeh_onload_callbacks) === \"undefined\" || force === true) {\n",
       "    root._bokeh_onload_callbacks = [];\n",
       "    root._bokeh_is_loading = undefined;\n",
       "  }\n",
       "\n",
       "  var JS_MIME_TYPE = 'application/javascript';\n",
       "  var HTML_MIME_TYPE = 'text/html';\n",
       "  var EXEC_MIME_TYPE = 'application/vnd.bokehjs_exec.v0+json';\n",
       "  var CLASS_NAME = 'output_bokeh rendered_html';\n",
       "\n",
       "  /**\n",
       "   * Render data to the DOM node\n",
       "   */\n",
       "  function render(props, node) {\n",
       "    var script = document.createElement(\"script\");\n",
       "    node.appendChild(script);\n",
       "  }\n",
       "\n",
       "  /**\n",
       "   * Handle when an output is cleared or removed\n",
       "   */\n",
       "  function handleClearOutput(event, handle) {\n",
       "    var cell = handle.cell;\n",
       "\n",
       "    var id = cell.output_area._bokeh_element_id;\n",
       "    var server_id = cell.output_area._bokeh_server_id;\n",
       "    // Clean up Bokeh references\n",
       "    if (id !== undefined) {\n",
       "      Bokeh.index[id].model.document.clear();\n",
       "      delete Bokeh.index[id];\n",
       "    }\n",
       "\n",
       "    if (server_id !== undefined) {\n",
       "      // Clean up Bokeh references\n",
       "      var cmd = \"from bokeh.io.state import curstate; print(curstate().uuid_to_server['\" + server_id + \"'].get_sessions()[0].document.roots[0]._id)\";\n",
       "      cell.notebook.kernel.execute(cmd, {\n",
       "        iopub: {\n",
       "          output: function(msg) {\n",
       "            var element_id = msg.content.text.trim();\n",
       "            Bokeh.index[element_id].model.document.clear();\n",
       "            delete Bokeh.index[element_id];\n",
       "          }\n",
       "        }\n",
       "      });\n",
       "      // Destroy server and session\n",
       "      var cmd = \"import bokeh.io.notebook as ion; ion.destroy_server('\" + server_id + \"')\";\n",
       "      cell.notebook.kernel.execute(cmd);\n",
       "    }\n",
       "  }\n",
       "\n",
       "  /**\n",
       "   * Handle when a new output is added\n",
       "   */\n",
       "  function handleAddOutput(event, handle) {\n",
       "    var output_area = handle.output_area;\n",
       "    var output = handle.output;\n",
       "\n",
       "    // limit handleAddOutput to display_data with EXEC_MIME_TYPE content only\n",
       "    if ((output.output_type != \"display_data\") || (!output.data.hasOwnProperty(EXEC_MIME_TYPE))) {\n",
       "      return\n",
       "    }\n",
       "\n",
       "    var toinsert = output_area.element.find(\".\" + CLASS_NAME.split(' ')[0]);\n",
       "\n",
       "    if (output.metadata[EXEC_MIME_TYPE][\"id\"] !== undefined) {\n",
       "      toinsert[toinsert.length - 1].firstChild.textContent = output.data[JS_MIME_TYPE];\n",
       "      // store reference to embed id on output_area\n",
       "      output_area._bokeh_element_id = output.metadata[EXEC_MIME_TYPE][\"id\"];\n",
       "    }\n",
       "    if (output.metadata[EXEC_MIME_TYPE][\"server_id\"] !== undefined) {\n",
       "      var bk_div = document.createElement(\"div\");\n",
       "      bk_div.innerHTML = output.data[HTML_MIME_TYPE];\n",
       "      var script_attrs = bk_div.children[0].attributes;\n",
       "      for (var i = 0; i < script_attrs.length; i++) {\n",
       "        toinsert[toinsert.length - 1].firstChild.setAttribute(script_attrs[i].name, script_attrs[i].value);\n",
       "      }\n",
       "      // store reference to server id on output_area\n",
       "      output_area._bokeh_server_id = output.metadata[EXEC_MIME_TYPE][\"server_id\"];\n",
       "    }\n",
       "  }\n",
       "\n",
       "  function register_renderer(events, OutputArea) {\n",
       "\n",
       "    function append_mime(data, metadata, element) {\n",
       "      // create a DOM node to render to\n",
       "      var toinsert = this.create_output_subarea(\n",
       "        metadata,\n",
       "        CLASS_NAME,\n",
       "        EXEC_MIME_TYPE\n",
       "      );\n",
       "      this.keyboard_manager.register_events(toinsert);\n",
       "      // Render to node\n",
       "      var props = {data: data, metadata: metadata[EXEC_MIME_TYPE]};\n",
       "      render(props, toinsert[toinsert.length - 1]);\n",
       "      element.append(toinsert);\n",
       "      return toinsert\n",
       "    }\n",
       "\n",
       "    /* Handle when an output is cleared or removed */\n",
       "    events.on('clear_output.CodeCell', handleClearOutput);\n",
       "    events.on('delete.Cell', handleClearOutput);\n",
       "\n",
       "    /* Handle when a new output is added */\n",
       "    events.on('output_added.OutputArea', handleAddOutput);\n",
       "\n",
       "    /**\n",
       "     * Register the mime type and append_mime function with output_area\n",
       "     */\n",
       "    OutputArea.prototype.register_mime_type(EXEC_MIME_TYPE, append_mime, {\n",
       "      /* Is output safe? */\n",
       "      safe: true,\n",
       "      /* Index of renderer in `output_area.display_order` */\n",
       "      index: 0\n",
       "    });\n",
       "  }\n",
       "\n",
       "  // register the mime type if in Jupyter Notebook environment and previously unregistered\n",
       "  if (root.Jupyter !== undefined) {\n",
       "    var events = require('base/js/events');\n",
       "    var OutputArea = require('notebook/js/outputarea').OutputArea;\n",
       "\n",
       "    if (OutputArea.prototype.mime_types().indexOf(EXEC_MIME_TYPE) == -1) {\n",
       "      register_renderer(events, OutputArea);\n",
       "    }\n",
       "  }\n",
       "\n",
       "  \n",
       "  if (typeof (root._bokeh_timeout) === \"undefined\" || force === true) {\n",
       "    root._bokeh_timeout = Date.now() + 5000;\n",
       "    root._bokeh_failed_load = false;\n",
       "  }\n",
       "\n",
       "  var NB_LOAD_WARNING = {'data': {'text/html':\n",
       "     \"<div style='background-color: #fdd'>\\n\"+\n",
       "     \"<p>\\n\"+\n",
       "     \"BokehJS does not appear to have successfully loaded. If loading BokehJS from CDN, this \\n\"+\n",
       "     \"may be due to a slow or bad network connection. Possible fixes:\\n\"+\n",
       "     \"</p>\\n\"+\n",
       "     \"<ul>\\n\"+\n",
       "     \"<li>re-rerun `output_notebook()` to attempt to load from CDN again, or</li>\\n\"+\n",
       "     \"<li>use INLINE resources instead, as so:</li>\\n\"+\n",
       "     \"</ul>\\n\"+\n",
       "     \"<code>\\n\"+\n",
       "     \"from bokeh.resources import INLINE\\n\"+\n",
       "     \"output_notebook(resources=INLINE)\\n\"+\n",
       "     \"</code>\\n\"+\n",
       "     \"</div>\"}};\n",
       "\n",
       "  function display_loaded() {\n",
       "    var el = document.getElementById(\"c09305df-7df2-4fa4-99bd-9fae447717c1\");\n",
       "    if (el != null) {\n",
       "      el.textContent = \"BokehJS is loading...\";\n",
       "    }\n",
       "    if (root.Bokeh !== undefined) {\n",
       "      if (el != null) {\n",
       "        el.textContent = \"BokehJS \" + root.Bokeh.version + \" successfully loaded.\";\n",
       "      }\n",
       "    } else if (Date.now() < root._bokeh_timeout) {\n",
       "      setTimeout(display_loaded, 100)\n",
       "    }\n",
       "  }\n",
       "\n",
       "\n",
       "  function run_callbacks() {\n",
       "    try {\n",
       "      root._bokeh_onload_callbacks.forEach(function(callback) { callback() });\n",
       "    }\n",
       "    finally {\n",
       "      delete root._bokeh_onload_callbacks\n",
       "    }\n",
       "    console.info(\"Bokeh: all callbacks have finished\");\n",
       "  }\n",
       "\n",
       "  function load_libs(js_urls, callback) {\n",
       "    root._bokeh_onload_callbacks.push(callback);\n",
       "    if (root._bokeh_is_loading > 0) {\n",
       "      console.log(\"Bokeh: BokehJS is being loaded, scheduling callback at\", now());\n",
       "      return null;\n",
       "    }\n",
       "    if (js_urls == null || js_urls.length === 0) {\n",
       "      run_callbacks();\n",
       "      return null;\n",
       "    }\n",
       "    console.log(\"Bokeh: BokehJS not loaded, scheduling load and callback at\", now());\n",
       "    root._bokeh_is_loading = js_urls.length;\n",
       "    for (var i = 0; i < js_urls.length; i++) {\n",
       "      var url = js_urls[i];\n",
       "      var s = document.createElement('script');\n",
       "      s.src = url;\n",
       "      s.async = false;\n",
       "      s.onreadystatechange = s.onload = function() {\n",
       "        root._bokeh_is_loading--;\n",
       "        if (root._bokeh_is_loading === 0) {\n",
       "          console.log(\"Bokeh: all BokehJS libraries loaded\");\n",
       "          run_callbacks()\n",
       "        }\n",
       "      };\n",
       "      s.onerror = function() {\n",
       "        console.warn(\"failed to load library \" + url);\n",
       "      };\n",
       "      console.log(\"Bokeh: injecting script tag for BokehJS library: \", url);\n",
       "      document.getElementsByTagName(\"head\")[0].appendChild(s);\n",
       "    }\n",
       "  };var element = document.getElementById(\"c09305df-7df2-4fa4-99bd-9fae447717c1\");\n",
       "  if (element == null) {\n",
       "    console.log(\"Bokeh: ERROR: autoload.js configured with elementid 'c09305df-7df2-4fa4-99bd-9fae447717c1' but no matching script tag was found. \")\n",
       "    return false;\n",
       "  }\n",
       "\n",
       "  var js_urls = [\"https://cdn.pydata.org/bokeh/release/bokeh-0.12.16.min.js\", \"https://cdn.pydata.org/bokeh/release/bokeh-widgets-0.12.16.min.js\", \"https://cdn.pydata.org/bokeh/release/bokeh-tables-0.12.16.min.js\", \"https://cdn.pydata.org/bokeh/release/bokeh-gl-0.12.16.min.js\"];\n",
       "\n",
       "  var inline_js = [\n",
       "    function(Bokeh) {\n",
       "      Bokeh.set_log_level(\"info\");\n",
       "    },\n",
       "    \n",
       "    function(Bokeh) {\n",
       "      \n",
       "    },\n",
       "    function(Bokeh) {\n",
       "      console.log(\"Bokeh: injecting CSS: https://cdn.pydata.org/bokeh/release/bokeh-0.12.16.min.css\");\n",
       "      Bokeh.embed.inject_css(\"https://cdn.pydata.org/bokeh/release/bokeh-0.12.16.min.css\");\n",
       "      console.log(\"Bokeh: injecting CSS: https://cdn.pydata.org/bokeh/release/bokeh-widgets-0.12.16.min.css\");\n",
       "      Bokeh.embed.inject_css(\"https://cdn.pydata.org/bokeh/release/bokeh-widgets-0.12.16.min.css\");\n",
       "      console.log(\"Bokeh: injecting CSS: https://cdn.pydata.org/bokeh/release/bokeh-tables-0.12.16.min.css\");\n",
       "      Bokeh.embed.inject_css(\"https://cdn.pydata.org/bokeh/release/bokeh-tables-0.12.16.min.css\");\n",
       "    }\n",
       "  ];\n",
       "\n",
       "  function run_inline_js() {\n",
       "    \n",
       "    if ((root.Bokeh !== undefined) || (force === true)) {\n",
       "      for (var i = 0; i < inline_js.length; i++) {\n",
       "        inline_js[i].call(root, root.Bokeh);\n",
       "      }if (force === true) {\n",
       "        display_loaded();\n",
       "      }} else if (Date.now() < root._bokeh_timeout) {\n",
       "      setTimeout(run_inline_js, 100);\n",
       "    } else if (!root._bokeh_failed_load) {\n",
       "      console.log(\"Bokeh: BokehJS failed to load within specified timeout.\");\n",
       "      root._bokeh_failed_load = true;\n",
       "    } else if (force !== true) {\n",
       "      var cell = $(document.getElementById(\"c09305df-7df2-4fa4-99bd-9fae447717c1\")).parents('.cell').data().cell;\n",
       "      cell.output_area.append_execute_result(NB_LOAD_WARNING)\n",
       "    }\n",
       "\n",
       "  }\n",
       "\n",
       "  if (root._bokeh_is_loading === 0) {\n",
       "    console.log(\"Bokeh: BokehJS loaded, going straight to plotting\");\n",
       "    run_inline_js();\n",
       "  } else {\n",
       "    load_libs(js_urls, function() {\n",
       "      console.log(\"Bokeh: BokehJS plotting callback run at\", now());\n",
       "      run_inline_js();\n",
       "    });\n",
       "  }\n",
       "}(window));"
      ],
      "application/vnd.bokehjs_load.v0+json": "\n(function(root) {\n  function now() {\n    return new Date();\n  }\n\n  var force = true;\n\n  if (typeof (root._bokeh_onload_callbacks) === \"undefined\" || force === true) {\n    root._bokeh_onload_callbacks = [];\n    root._bokeh_is_loading = undefined;\n  }\n\n  \n\n  \n  if (typeof (root._bokeh_timeout) === \"undefined\" || force === true) {\n    root._bokeh_timeout = Date.now() + 5000;\n    root._bokeh_failed_load = false;\n  }\n\n  var NB_LOAD_WARNING = {'data': {'text/html':\n     \"<div style='background-color: #fdd'>\\n\"+\n     \"<p>\\n\"+\n     \"BokehJS does not appear to have successfully loaded. If loading BokehJS from CDN, this \\n\"+\n     \"may be due to a slow or bad network connection. Possible fixes:\\n\"+\n     \"</p>\\n\"+\n     \"<ul>\\n\"+\n     \"<li>re-rerun `output_notebook()` to attempt to load from CDN again, or</li>\\n\"+\n     \"<li>use INLINE resources instead, as so:</li>\\n\"+\n     \"</ul>\\n\"+\n     \"<code>\\n\"+\n     \"from bokeh.resources import INLINE\\n\"+\n     \"output_notebook(resources=INLINE)\\n\"+\n     \"</code>\\n\"+\n     \"</div>\"}};\n\n  function display_loaded() {\n    var el = document.getElementById(\"c09305df-7df2-4fa4-99bd-9fae447717c1\");\n    if (el != null) {\n      el.textContent = \"BokehJS is loading...\";\n    }\n    if (root.Bokeh !== undefined) {\n      if (el != null) {\n        el.textContent = \"BokehJS \" + root.Bokeh.version + \" successfully loaded.\";\n      }\n    } else if (Date.now() < root._bokeh_timeout) {\n      setTimeout(display_loaded, 100)\n    }\n  }\n\n\n  function run_callbacks() {\n    try {\n      root._bokeh_onload_callbacks.forEach(function(callback) { callback() });\n    }\n    finally {\n      delete root._bokeh_onload_callbacks\n    }\n    console.info(\"Bokeh: all callbacks have finished\");\n  }\n\n  function load_libs(js_urls, callback) {\n    root._bokeh_onload_callbacks.push(callback);\n    if (root._bokeh_is_loading > 0) {\n      console.log(\"Bokeh: BokehJS is being loaded, scheduling callback at\", now());\n      return null;\n    }\n    if (js_urls == null || js_urls.length === 0) {\n      run_callbacks();\n      return null;\n    }\n    console.log(\"Bokeh: BokehJS not loaded, scheduling load and callback at\", now());\n    root._bokeh_is_loading = js_urls.length;\n    for (var i = 0; i < js_urls.length; i++) {\n      var url = js_urls[i];\n      var s = document.createElement('script');\n      s.src = url;\n      s.async = false;\n      s.onreadystatechange = s.onload = function() {\n        root._bokeh_is_loading--;\n        if (root._bokeh_is_loading === 0) {\n          console.log(\"Bokeh: all BokehJS libraries loaded\");\n          run_callbacks()\n        }\n      };\n      s.onerror = function() {\n        console.warn(\"failed to load library \" + url);\n      };\n      console.log(\"Bokeh: injecting script tag for BokehJS library: \", url);\n      document.getElementsByTagName(\"head\")[0].appendChild(s);\n    }\n  };var element = document.getElementById(\"c09305df-7df2-4fa4-99bd-9fae447717c1\");\n  if (element == null) {\n    console.log(\"Bokeh: ERROR: autoload.js configured with elementid 'c09305df-7df2-4fa4-99bd-9fae447717c1' but no matching script tag was found. \")\n    return false;\n  }\n\n  var js_urls = [\"https://cdn.pydata.org/bokeh/release/bokeh-0.12.16.min.js\", \"https://cdn.pydata.org/bokeh/release/bokeh-widgets-0.12.16.min.js\", \"https://cdn.pydata.org/bokeh/release/bokeh-tables-0.12.16.min.js\", \"https://cdn.pydata.org/bokeh/release/bokeh-gl-0.12.16.min.js\"];\n\n  var inline_js = [\n    function(Bokeh) {\n      Bokeh.set_log_level(\"info\");\n    },\n    \n    function(Bokeh) {\n      \n    },\n    function(Bokeh) {\n      console.log(\"Bokeh: injecting CSS: https://cdn.pydata.org/bokeh/release/bokeh-0.12.16.min.css\");\n      Bokeh.embed.inject_css(\"https://cdn.pydata.org/bokeh/release/bokeh-0.12.16.min.css\");\n      console.log(\"Bokeh: injecting CSS: https://cdn.pydata.org/bokeh/release/bokeh-widgets-0.12.16.min.css\");\n      Bokeh.embed.inject_css(\"https://cdn.pydata.org/bokeh/release/bokeh-widgets-0.12.16.min.css\");\n      console.log(\"Bokeh: injecting CSS: https://cdn.pydata.org/bokeh/release/bokeh-tables-0.12.16.min.css\");\n      Bokeh.embed.inject_css(\"https://cdn.pydata.org/bokeh/release/bokeh-tables-0.12.16.min.css\");\n    }\n  ];\n\n  function run_inline_js() {\n    \n    if ((root.Bokeh !== undefined) || (force === true)) {\n      for (var i = 0; i < inline_js.length; i++) {\n        inline_js[i].call(root, root.Bokeh);\n      }if (force === true) {\n        display_loaded();\n      }} else if (Date.now() < root._bokeh_timeout) {\n      setTimeout(run_inline_js, 100);\n    } else if (!root._bokeh_failed_load) {\n      console.log(\"Bokeh: BokehJS failed to load within specified timeout.\");\n      root._bokeh_failed_load = true;\n    } else if (force !== true) {\n      var cell = $(document.getElementById(\"c09305df-7df2-4fa4-99bd-9fae447717c1\")).parents('.cell').data().cell;\n      cell.output_area.append_execute_result(NB_LOAD_WARNING)\n    }\n\n  }\n\n  if (root._bokeh_is_loading === 0) {\n    console.log(\"Bokeh: BokehJS loaded, going straight to plotting\");\n    run_inline_js();\n  } else {\n    load_libs(js_urls, function() {\n      console.log(\"Bokeh: BokehJS plotting callback run at\", now());\n      run_inline_js();\n    });\n  }\n}(window));"
     },
     "metadata": {},
     "output_type": "display_data"
    }
   ],
   "source": [
    "output_notebook()"
   ]
  },
  {
   "cell_type": "code",
   "execution_count": 3,
   "metadata": {
    "collapsed": true
   },
   "outputs": [],
   "source": [
    "MOL = 'n2o'"
   ]
  },
  {
   "cell_type": "code",
   "execution_count": 4,
   "metadata": {
    "collapsed": true
   },
   "outputs": [],
   "source": [
    "ATMPRO = dict(mls=294, saw=257, trp=300)"
   ]
  },
  {
   "cell_type": "code",
   "execution_count": 5,
   "metadata": {
    "collapsed": true
   },
   "outputs": [],
   "source": [
    "COMMITNUMBER = '1013f91'"
   ]
  },
  {
   "cell_type": "code",
   "execution_count": 6,
   "metadata": {
    "collapsed": true
   },
   "outputs": [],
   "source": [
    "client = pymongo.MongoClient('localhost', 27017)"
   ]
  },
  {
   "cell_type": "code",
   "execution_count": 7,
   "metadata": {
    "collapsed": true
   },
   "outputs": [],
   "source": [
    "def show_html(s):\n",
    "    display.display(display.HTML(s))\n",
    "\n",
    "def show_markdown(s):\n",
    "    display.display(display.Markdown(s))"
   ]
  },
  {
   "cell_type": "code",
   "execution_count": 8,
   "metadata": {
    "collapsed": true
   },
   "outputs": [],
   "source": [
    "def to_lblnewparam(param=None):\n",
    "    '''\n",
    "    Convert clirad's input parameter dictionary \n",
    "    into something like lblnew's.\n",
    "    '''\n",
    "    band = param['band'][0]\n",
    "    band = mapband_new2old()[band]\n",
    "    atmpro = param['atmpro']\n",
    "    tsfc = param['tsfc']\n",
    "    \n",
    "    p = {'band': band, \n",
    "         'atmpro': atmpro, 'tsfc': tsfc,\n",
    "         'dv': .001, 'nv': 1000}\n",
    "    \n",
    "    if len(param['molecule']) > 1: p['molecule'] = param['molecule']\n",
    "    else: \n",
    "        molecule, conc = list(param['molecule'].items())[0]\n",
    "        p['molecule'] = molecule\n",
    "        if conc == 'atmpro': p['conc'] = None\n",
    "        else: p['conc'] = conc\n",
    "    return p\n",
    "\n",
    "def make_query(param=None):\n",
    "    molecules = {'h2o', 'co2', 'o3', 'n2o', 'ch4'}\n",
    "    q = {}\n",
    "    for n, v in param.items():\n",
    "        if n == 'molecule' and type(v) == dict:\n",
    "            for mol, conc in v.items():\n",
    "                q[f'param.molecule.{mol}'] = conc\n",
    "            for mol in molecules - set(v.keys()):\n",
    "                q[f'param.molecule.{mol}'] = {'$exists': 0}\n",
    "        else:\n",
    "            q[f'param.{n}'] = v\n",
    "    return q"
   ]
  },
  {
   "cell_type": "code",
   "execution_count": 9,
   "metadata": {
    "collapsed": true
   },
   "outputs": [],
   "source": [
    "def subparam_atm_clirad(atmpro='mls'):\n",
    "    commitnumber = COMMITNUMBER\n",
    "    atm = nongreys_byband()\n",
    "    band = [band for band, molconcs in atm.items() if MOL in molconcs]\n",
    "    molecule = {mol: conc for _, molconcs in atm.items() \n",
    "                for mol, conc in molconcs.items() if mol == MOL}\n",
    "    return dict(commitnumber=commitnumber,\n",
    "                band=band, molecule=molecule, \n",
    "                atmpro=atmpro, tsfc=ATMPRO[atmpro])\n",
    "\n",
    "def clirad_data_atm(params_atm=None):\n",
    "    for p in params_atm:\n",
    "        q = make_query(p)\n",
    "        r = client.cliradnew.lw.find_one(q)\n",
    "        fluxs, cools = [], []\n",
    "        if not r: print('No data found for', p['molecule'], p['band'])\n",
    "        else: \n",
    "            fluxs.append(load_output_file(io.StringIO(r['output_flux'])))\n",
    "            cools.append(load_output_file(io.StringIO(r['output_coolr'])))\n",
    "    return dict(flux=sum(fluxs), cool=sum(cools))"
   ]
  },
  {
   "cell_type": "code",
   "execution_count": 10,
   "metadata": {
    "collapsed": true,
    "scrolled": false
   },
   "outputs": [],
   "source": [
    "def load_lblnew_data(r):\n",
    "    '''\n",
    "    Loads a lblnew-bestfit mongodb document's fluxes and cooling rates.\n",
    "    '''\n",
    "    if 'ng_refs' in r['param']:\n",
    "        ns = {'ds_flux_crd': 'output_flux',\n",
    "              'ds_cool_crd': 'output_coolr',\n",
    "              'ds_flux_wgt': 'output_wfluxg',\n",
    "              'ds_cool_wgt': 'output_wcoolrg'}\n",
    "    else:\n",
    "        ns = {'ds_flux_crd': 'output_flux',\n",
    "              'ds_cool_crd': 'output_coolr',\n",
    "              'ds_flux_wgt': 'output_wflux',\n",
    "              'ds_cool_wgt': 'output_wcoolr'}\n",
    "    return {n: load_output_file(io.StringIO(r[s])) for n, s in ns.items()}\n",
    "\n",
    "def subparams_atm_lblnew(atmpro='mls'):\n",
    "    '''\n",
    "    Returns the list of {band, conc, molecule} dictionaries that\n",
    "    represent the model atmosphere.\n",
    "    '''  \n",
    "    atm = nongreys_byband()\n",
    "    subparams_clirad = [dict(band=[band], \n",
    "                             molecule={mol: conc for mol, conc in molconc.items() if mol == MOL},\n",
    "                             atmpro=atmpro, tsfc=ATMPRO[atmpro]) \n",
    "                        for band, molconc in atm.items() if MOL in molconc]\n",
    "    return [to_lblnewparam(p) for p in subparams_clirad]\n",
    "\n",
    "def crd_data_atm(params_atm=None):\n",
    "    '''\n",
    "    Returns Dataset containing CRD fluxes and cooling rates at\n",
    "    different pressures and spectral bands.\n",
    "    '''\n",
    "    results_atm = {}\n",
    "    for p in params_atm:\n",
    "        if isinstance(p['molecule'], dict): \n",
    "            collection = client.lblnew.overlap_lw\n",
    "        else: \n",
    "            collection = client.lblnew.bestfit_lw\n",
    "        \n",
    "        q = make_query(p)\n",
    "        r = collection.find_one(q)\n",
    "        if not r: print('No data found for', p['molecule'], p['band'])\n",
    "        else: results_atm[r['param']['band']] = load_lblnew_data(r)\n",
    "\n",
    "    bands = [mapband_old2new()[b] for b, _ in results_atm.items()]\n",
    "    fluxs = [d['ds_flux_crd'] for _, d in results_atm.items()]\n",
    "    cools = [d['ds_cool_crd'] for _, d in results_atm.items()]\n",
    "    \n",
    "    d = {}\n",
    "    d['flux'] = xr.concat(fluxs, dim=bands).rename({'concat_dim': 'band'})\n",
    "    d['cool'] = xr.concat(cools, dim=bands).rename({'concat_dim': 'band'})\n",
    "    return d"
   ]
  },
  {
   "cell_type": "code",
   "execution_count": 11,
   "metadata": {
    "collapsed": true
   },
   "outputs": [],
   "source": [
    "import rtmtools.clirad.sw.wrangle as cliradwrangle\n",
    "\n",
    "def oldclirad_data_atm():\n",
    "    '''\n",
    "    Load the OLD clirad's results. mls only.\n",
    "    '''\n",
    "    fpath = os.path.join('/chia_cluster/home/jackyu/radiation',\n",
    "                         'clirad-lw',\n",
    "                         'LW',\n",
    "                         'examples',\n",
    "                         'mls75_h2o_atmpro_co2_.0004_o3_atmpro_n2o_3.2e-7_ch4_1.8e-6_H2012',\n",
    "                         'OUTPUT_CLIRAD.dat')\n",
    "    \n",
    "    ds = cliradwrangle.load_OUTPUT_CLIRAD(readfrom=fpath)\n",
    "    \n",
    "    ds_cool = xr.Dataset()\n",
    "    ds_cool.coords['pressure'] = ('pressure', ds['layer_pressure'])\n",
    "    ds_cool.coords['band'] = ('band', ds['spectral_band'])\n",
    "    ds_cool['coolrg'] = (('band', 'pressure'), - ds['heating_rate'])\n",
    "    \n",
    "    ds_flux = xr.Dataset()\n",
    "    ds_flux.coords['pressure'] = ('pressure', ds['level_pressure'])\n",
    "    ds_flux.coords['band'] = ('band', ds['spectral_band'])\n",
    "    ds_flux['flug'] = (('band', 'pressure'), ds['flux_up'])\n",
    "    ds_flux['fldg'] = (('band', 'pressure'), ds['flux_down'])\n",
    "    ds_flux['fnetg'] = (('band', 'pressure'), ds['net_flux'])\n",
    "    \n",
    "    \n",
    "    d = {}\n",
    "    d['cool'] = ds_cool\n",
    "    d['flux'] = ds_flux\n",
    "    return d"
   ]
  },
  {
   "cell_type": "code",
   "execution_count": 12,
   "metadata": {
    "collapsed": true
   },
   "outputs": [],
   "source": [
    "def show_makeup():\n",
    "    df = pd.DataFrame()\n",
    "\n",
    "    for band, molecule in nongreys_byband().items():\n",
    "        for name, conc in molecule.items():\n",
    "            if name == MOL:\n",
    "                df.loc[name, band] = str(conc)\n",
    "\n",
    "    df = df.fillna(0)\n",
    "    df.columns.name = 'clirad band'\n",
    "    df.index.name = 'molecule'\n",
    "    \n",
    "    display.display(df)\n",
    "    \n",
    "    display.display(\n",
    "        display.Markdown('*TABLE.* Non-grey absorbers in the atmosphere.'))\n",
    "\n",
    "\n",
    "def show_grey_makeup():\n",
    "    df = pd.DataFrame()\n",
    "    \n",
    "    for band, molecule in greyabsorbers_by_band_atm().items():\n",
    "        if molecule == None:\n",
    "            pass\n",
    "        else:\n",
    "            for name, conc in molecule.items():\n",
    "                df.loc[name, band] = str(conc)\n",
    "                \n",
    "    df = df.fillna(0)\n",
    "    df.columns.name = 'clirad band'\n",
    "    df.index.name = 'absorber'\n",
    "    \n",
    "    display.display(df)\n",
    "    display.display(\n",
    "        display.Markdown('*TABLE.* Grey absorbers in the atmosphere.')\n",
    "    )"
   ]
  },
  {
   "cell_type": "code",
   "execution_count": 13,
   "metadata": {
    "collapsed": true
   },
   "outputs": [],
   "source": [
    "def fmt_cool(ds_in):\n",
    "    ds = ds_in.copy(deep=True)\n",
    "    dims = ['igg', 'g', 'i']\n",
    "    for dim in dims:\n",
    "        if dim in ds:\n",
    "            if ds[dim].shape == (1,): ds = ds.squeeze(dim).drop(dim)\n",
    "            elif ds[dim].shape == (): ds = ds.drop(dim)\n",
    "    if 'band' in ds.dims:\n",
    "        try:\n",
    "            ds = ds.squeeze('band')\n",
    "        except ValueError:\n",
    "            ds = ds.sum('band')     \n",
    "    return ds['coolrg']\n",
    "\n",
    "def nice_xlims(pltdata=None, prange=None):\n",
    "    \n",
    "    def get_slice(srs):\n",
    "        return srs.sel(pressure=slice(*prange))\n",
    "    \n",
    "    srss = [d['srs'] for d in pltdata]\n",
    "    vmin = min([get_slice(srs).min() for srs in srss])\n",
    "    vmax = max([get_slice(srs).max() for srs in srss])\n",
    "    dv = (vmax - vmin) * .01\n",
    "    return float(vmin - dv), float(vmax + dv)\n",
    " \n",
    "def plt_cool_bokeh(pltdata=None, \n",
    "                   y_axis_type='linear', prange=(50, 1050)):\n",
    "    \n",
    "    ymin = 1e-2 \n",
    "    ymax = 1020\n",
    "    \n",
    "    p2 = figure(y_axis_type=y_axis_type, plot_width=300)\n",
    "    xmin, xmax = nice_xlims(pltdata, prange=prange)\n",
    "    \n",
    "    rs = []\n",
    "    for d in pltdata:\n",
    "        rd = []\n",
    "        if 'marker' in d:\n",
    "            r_mark = getattr(p2, d['marker'])(d['srs'].values, \n",
    "                        d['srs'].coords['pressure'].values,\n",
    "                        color=d['color'], alpha=.7)\n",
    "            rd.append(r_mark)\n",
    "        r_line = p2.line(d['srs'].values, \n",
    "                         d['srs'].coords['pressure'].values,\n",
    "                         color=d['color'], alpha=d['alpha'], \n",
    "                         line_width=d['line_width'], \n",
    "                         line_dash=d['line_dash'])\n",
    "        rd.append(r_line)\n",
    "      \n",
    "        rs.append(rd)\n",
    "        \n",
    "    p2.y_range = Range1d(ymax, ymin)  \n",
    "    p2.yaxis.axis_label = 'pressure [mb]'\n",
    "    \n",
    "    p2.x_range = Range1d(xmin, xmax)\n",
    "    p2.xaxis.axis_label = 'cooling rate [K/day]'\n",
    "    \n",
    "    items = [(d['label'], r) for r, d in zip(rs, pltdata)]\n",
    "    legend = Legend(items=items, location=(10, 0))\n",
    "    legend.label_text_font_size = '8pt'\n",
    "    p2.add_layout(legend, 'above')\n",
    "    p2.legend.orientation = 'horizontal'\n",
    "    p2.legend.location = 'top_center'\n",
    "    \n",
    "    return p2"
   ]
  },
  {
   "cell_type": "code",
   "execution_count": 14,
   "metadata": {
    "collapsed": true,
    "scrolled": false
   },
   "outputs": [],
   "source": [
    "def pltdata_cool(atmpro='mls'):\n",
    "    ds_clirad = clirad_data_atm(params_atm=[subparam_atm_clirad(atmpro=atmpro)])['cool']\n",
    "    ds_crd = crd_data_atm(params_atm=subparams_atm_lblnew(atmpro=atmpro))['cool']\n",
    "\n",
    "    colors = all_palettes['Set1'][4]\n",
    "    \n",
    "    data = [\n",
    "        {'label': 'CLIRAD',\n",
    "         'srs': fmt_cool(ds_clirad),\n",
    "         'line_dash': 'dashed', 'line_width': 5,\n",
    "         'color': colors[0], 'alpha': .6},\n",
    "        {'label': 'CRD',\n",
    "         'srs': fmt_cool(ds_crd),\n",
    "         'line_dash': 'solid', 'line_width': 1.5,\n",
    "         'marker': 'circle', 'marker_size': 5,\n",
    "         'color': colors[2], 'alpha': 1}\n",
    "    ]\n",
    "    \n",
    "    # include old CLIRAD's results for mls profile\n",
    "#    if atmpro == 'mls':\n",
    "#        d_oldclirad = oldclirad_data_atm()\n",
    "#        ds_oldclirad = d_oldclirad['cool']        \n",
    "#        data.append(\n",
    "#            {'label': 'old CLIRAD (H2012)',\n",
    "#             'srs': fmt_cool(ds_oldclirad),\n",
    "#             'line_dash': 'solid', 'line_width': 1.5,\n",
    "#             'marker': 'square', 'marker_size': 3,\n",
    "#             'color': colors[3], 'alpha': .5})\n",
    "    return data\n",
    "\n",
    "\n",
    "def pltdata_cooldiff(atmpro='mls'):\n",
    "    ds_clirad = clirad_data_atm(params_atm=[subparam_atm_clirad(atmpro=atmpro)])['cool']\n",
    "    ds_crd = crd_data_atm(params_atm=subparams_atm_lblnew(atmpro=atmpro))['cool']    \n",
    "    \n",
    "    ds_diff = ds_clirad - ds_crd\n",
    "    \n",
    "    colors = all_palettes['Set1'][4]\n",
    "    \n",
    "    data = [\n",
    "        {'label': 'CLIRAD - CRD',\n",
    "         'srs': fmt_cool(ds_diff),\n",
    "         'line_dash': 'solid', 'line_width': 1.5, \n",
    "         'marker': 'circle', 'marker_size': 7,\n",
    "         'color': colors[3], 'alpha': .8}\n",
    "    ]\n",
    "    \n",
    "    # include old CLIRAD's results for mls profile\n",
    "#    if atmpro == 'mls':\n",
    "#        d_oldclirad = oldclirad_data_atm()\n",
    "#        ds_oldclirad = d_oldclirad['cool']\n",
    "#        ds_oldclirad.coords['pressure'] = ds_crd.coords['pressure']\n",
    "#        ds_diff_old = ds_oldclirad.sum('band') - ds_crd.sum('band')\n",
    "#        data.append(\n",
    "#            {'label': 'old CLIRAD (H2012) - CRD',\n",
    "#             'srs': fmt_cool(ds_diff_old),\n",
    "#             'line_dash': 'dashed', 'line_width': 4,\n",
    "#             'color': colors[1], 'alpha': .5}\n",
    "#        )\n",
    "    return data\n",
    "\n",
    "\n",
    "def show_cool(atmpro='mls'):\n",
    "    data_cool = pltdata_cool(atmpro=atmpro)\n",
    "    p_cool_liny = plt_cool_bokeh(pltdata=data_cool)\n",
    "    p_cool_logy = plt_cool_bokeh(pltdata=data_cool, \n",
    "                                 y_axis_type='log',\n",
    "                                 prange=(.01, 200))\n",
    "    \n",
    "    data_cooldiff = pltdata_cooldiff(atmpro=atmpro)\n",
    "    p_cooldiff_logy = plt_cool_bokeh(pltdata=data_cooldiff,\n",
    "                                     y_axis_type='log',\n",
    "                                     prange=(.01, 200))\n",
    "    \n",
    "    everything = gridplot(p_cool_liny, p_cool_logy, \n",
    "                          p_cooldiff_logy,\n",
    "                          ncols=3)\n",
    "    show(everything)\n",
    "    display.display(\n",
    "        display.Markdown('*FIGURE.* Cooling rates & difference.'))\n",
    "    "
   ]
  },
  {
   "cell_type": "code",
   "execution_count": 15,
   "metadata": {
    "collapsed": true,
    "scrolled": false
   },
   "outputs": [],
   "source": [
    "def fmt_flux(ds_in):\n",
    "    ds = ds_in.copy(deep=True)\n",
    "    for dim in ['band', 'g']:\n",
    "        if dim in ds: ds = ds.sum(dim)\n",
    "        \n",
    "    for dim in ['i', 'igg', 'g']:\n",
    "        if dim in ds:\n",
    "            if ds[dim].shape == (1,): ds = ds.squeeze(dim).drop(dim)\n",
    "            elif ds[dim].shape == (): ds = ds.drop(dim)\n",
    "    return ds\n",
    "\n",
    "def hist_band_vs_flux(da, title='Title'):\n",
    "    da = da.sel(i=1)\n",
    "    bands = [str(b.values) for b in da['band']]\n",
    "    source = ColumnDataSource(data={'band': bands, 'flux': da.values})\n",
    "    p = figure(x_range=bands, title=title)\n",
    "    p.vbar(source=source, x='band', top='flux', width=.9)\n",
    "    p.yaxis.axis_label = 'flux (W m-2)'\n",
    "    p.xaxis.axis_label = 'spectral band'\n",
    "    return p\n",
    "\n",
    "def show_hist_flux(atmpro='mls'):\n",
    "    ds_crd = crd_data_atm(params_atm=subparams_atm_lblnew(atmpro=atmpro))['flux']\n",
    "    ds_clirad = clirad_data_atm(params_atm=[subparam_atm_clirad(atmpro=atmpro)])['flux']\n",
    "    \n",
    "    ip, varname = 0, 'flug'\n",
    "    da = (ds_clirad - ds_crd).isel(pressure=ip)[varname]\n",
    "    p_toa = hist_band_vs_flux(da, title='TOA flux. CLIRAD - CRD.')\n",
    "\n",
    "    ip, varname = -1, 'fldg'\n",
    "    da = (ds_clirad - ds_crd).isel(pressure=ip)[varname]\n",
    "    p_sfc = hist_band_vs_flux(da, title='SFC flux. CLIRAD - CRD.')    \n",
    "    \n",
    "    atm_crd = (ds_crd.isel(pressure=0) - ds_crd.isel(pressure=-1))['fnetg']\n",
    "    atm_clirad = (ds_clirad.isel(pressure=0) - ds_clirad.isel(pressure=-1))['fnetg']\n",
    "    da = atm_clirad - atm_crd\n",
    "    p_atm = hist_band_vs_flux(da, title='Atmosphere heating. CLIRAD - CRD.')\n",
    "\n",
    "    everything = gridplot(p_toa, p_sfc, p_atm, ncols=3, plot_width=300, plot_height=300)\n",
    "    \n",
    "    show(everything)\n",
    "    display.display(\n",
    "        display.Markdown('*FIGURE.* Difference between CLIRAD and CRD'\n",
    "          ' in TOA, SFC and net atmosphere flux,'\n",
    "          ' in each spectral band.'))\n",
    "\n",
    "def show_tb_flux(atmpro='mls'):\n",
    "    \n",
    "    def fmt(da_in):\n",
    "        da = da_in.copy(deep=True)\n",
    "        if 'igg' in da.dims:\n",
    "            da = da.sel(igg=1)\n",
    "            \n",
    "        if 'g' in da.dims:\n",
    "            da = da.sum('g')\n",
    "        \n",
    "        if 'band' in da.dims:\n",
    "            try:\n",
    "                da = da.squeeze('band')\n",
    "            except ValueError:\n",
    "                da = da.sum('band')\n",
    "                \n",
    "        return da\n",
    "    \n",
    "    ds_crd = crd_data_atm(params_atm=subparams_atm_lblnew(atmpro=atmpro))['flux']\n",
    "    olr_crd = ds_crd['flug'].isel(pressure=0)\n",
    "    sfc_crd = ds_crd['fldg'].isel(pressure=-1)\n",
    "    atm_crd = (ds_crd.isel(pressure=0) - ds_crd.isel(pressure=-1))['fnetg']\n",
    "    \n",
    "    ds_clirad = clirad_data_atm(params_atm=[subparam_atm_clirad(atmpro=atmpro)])['flux']\n",
    "    olr_clirad = ds_clirad['flug'].isel(pressure=0)\n",
    "    sfc_clirad = ds_clirad['fldg'].isel(pressure=-1)\n",
    "    atm_clirad = (ds_clirad.isel(pressure=0) - ds_clirad.isel(pressure=-1))['fnetg']\n",
    "    \n",
    "#    if atmpro == 'mls':\n",
    "#        ds_oldclirad = oldclirad_data_atm()['flux']\n",
    "#        ds_oldclirad['pressure'] = ds_crd['pressure']\n",
    "#        olr_oldclirad = ds_oldclirad['flug'].isel(pressure=0)\n",
    "#        sfc_oldclirad = ds_oldclirad['fldg'].isel(pressure=-1)\n",
    "#        atm_oldclirad = (ds_oldclirad.isel(pressure=0)\n",
    "#                         - ds_oldclirad.isel(pressure=-1))['fnetg']\n",
    "        \n",
    "    df = pd.DataFrame()\n",
    "    df.index.name = 'Sum over bands'\n",
    "    \n",
    "#    if atmpro == 'mls':\n",
    "#        df.loc['old CLIRAD - CRD', 'OLR flux'] = (fmt(olr_oldclirad) - fmt(olr_crd)).values\n",
    "#        df.loc['old CLIRAD - CRD', 'SFC flux'] = (fmt(sfc_oldclirad) - fmt(sfc_crd)).values\n",
    "#        df.loc['old CLIRAD - CRD', 'ATM heating'] = (fmt(atm_oldclirad) - fmt(atm_crd)).values\n",
    "    \n",
    "    df.loc['CLIRAD - CRD', 'OLR flux'] = (fmt(olr_clirad) - fmt(olr_crd)).values\n",
    "    df.loc['CLIRAD - CRD', 'SFC flux'] = (fmt(sfc_clirad) - fmt(sfc_crd)).values\n",
    "    df.loc['CLIRAD - CRD', 'ATM heating'] = (fmt(atm_clirad) - fmt(atm_crd)).values\n",
    "\n",
    "    df.loc['CRD', 'OLR flux'] = fmt(olr_crd).values\n",
    "    df.loc['CRD', 'SFC flux'] = fmt(sfc_crd).values\n",
    "    df.loc['CRD', 'ATM heating'] = fmt(atm_crd).values\n",
    "        \n",
    "    df = df.astype('float').round(2)\n",
    "    \n",
    "    display.display(df)\n",
    "    display.display(\n",
    "        display.Markdown('*TABLE.* Difference between CLIRAD and CRD'\n",
    "          ' in TOA, SFC and net atmosphere flux,'\n",
    "          ' over all spectral bands. CRD\\'s'\n",
    "          ' TOA, SFC and net atmosphere flux,'\n",
    "          ' over all spectral bands.'))"
   ]
  },
  {
   "cell_type": "code",
   "execution_count": 16,
   "metadata": {
    "collapsed": true,
    "scrolled": true
   },
   "outputs": [],
   "source": [
    "def cool_tofile(atmpro=None):\n",
    "    dcli = clirad_data_atm(params_atm=[subparam_atm_clirad(atmpro=atmpro)])\n",
    "    dcrd = crd_data_atm(params_atm=subparams_atm_lblnew(atmpro=atmpro))\n",
    "    \n",
    "    dcli = dcli['cool'].sel(i=1).drop('i').sum('band')\n",
    "    dcrd = dcrd['cool'].sum('band')\n",
    "    \n",
    "    dcli = dcli['coolrg'].to_dataframe()\n",
    "    dcrd = dcrd['coolrg'].to_dataframe()\n",
    "    \n",
    "    dcli = dcli.set_index('layer', append=True)\n",
    "    dcrd = dcrd.set_index('layer', append=True)\n",
    "    \n",
    "    ddif = dcli - dcrd\n",
    "    \n",
    "    df = pd.concat([dcrd, dcli, ddif], axis=1, keys=['CRD', 'CLIRAD', 'CLIRAD - CRD'])\n",
    "    return df\n",
    "\n",
    "\n",
    "def flux_tofile(atmpro=None):\n",
    "    tropopauses = {'mls': 40, 'saw': 45, 'trp': 37}\n",
    "    ilevels = [0, tropopauses[atmpro], -1]\n",
    "    \n",
    "    dcli = clirad_data_atm(params_atm=[subparam_atm_clirad(atmpro=atmpro)])\n",
    "    dcrd = crd_data_atm(params_atm=subparams_atm_lblnew(atmpro=atmpro))\n",
    "    \n",
    "    dcli = dcli['flux'].sel(i=1).drop('i').sum('band').isel(pressure=ilevels)\n",
    "    dcrd = dcrd['flux'].sum('band').isel(pressure=ilevels)\n",
    "    \n",
    "    dcli = dcli.to_dataframe()\n",
    "    dcrd = dcrd.to_dataframe()\n",
    "    \n",
    "    dcli = dcli.set_index('level', append=True)\n",
    "    dcrd = dcrd.set_index('level', append=True)\n",
    "    \n",
    "    ddif = dcli - dcrd\n",
    "    \n",
    "    df = pd.concat([dcrd, dcli, ddif], axis=1, keys=['CRD', 'CLIRAD', 'CLIRAD - CRD'])\n",
    "    return df\n",
    "\n",
    "\n",
    "def script_tofile():\n",
    "    fname = f'results_{MOL}atm_cliradsinglerun.xlsx'\n",
    "    writer = pd.ExcelWriter(fname)\n",
    "    for atmpro in ('mls', 'saw', 'trp'):\n",
    "        dflux = flux_tofile(atmpro=atmpro)\n",
    "        dflux.to_excel(writer, f'flux {atmpro}')\n",
    "        \n",
    "        dcool = cool_tofile(atmpro=atmpro)\n",
    "        dcool.to_excel(writer, f'cool {atmpro}')\n",
    "        \n",
    "    html = f'Download: <a href=\"./{fname}\">{fname}</a>'\n",
    "    show_html(html)\n",
    "\n",
    "        "
   ]
  },
  {
   "cell_type": "code",
   "execution_count": 17,
   "metadata": {
    "scrolled": false
   },
   "outputs": [
    {
     "data": {
      "text/markdown": [
       "## Results over entire range of molecules and spectral bands"
      ],
      "text/plain": [
       "<IPython.core.display.Markdown object>"
      ]
     },
     "metadata": {},
     "output_type": "display_data"
    },
    {
     "data": {
      "text/markdown": [
       "### Table of Contents"
      ],
      "text/plain": [
       "<IPython.core.display.Markdown object>"
      ]
     },
     "metadata": {},
     "output_type": "display_data"
    },
    {
     "data": {
      "text/html": [
       "<a href=\"#Makeup_of_atmosphere.\">Makeup of atmosphere.</a>"
      ],
      "text/plain": [
       "<IPython.core.display.HTML object>"
      ]
     },
     "metadata": {},
     "output_type": "display_data"
    },
    {
     "data": {
      "text/markdown": [
       "**mid-latitude summer**"
      ],
      "text/plain": [
       "<IPython.core.display.Markdown object>"
      ]
     },
     "metadata": {},
     "output_type": "display_data"
    },
    {
     "data": {
      "text/html": [
       "<a href=\"#Cooling_rates._mls.\">Cooling rates. mls.</a>"
      ],
      "text/plain": [
       "<IPython.core.display.HTML object>"
      ]
     },
     "metadata": {},
     "output_type": "display_data"
    },
    {
     "data": {
      "text/html": [
       "<a href=\"#Fluxes._mls.\">Fluxes. mls.</a>"
      ],
      "text/plain": [
       "<IPython.core.display.HTML object>"
      ]
     },
     "metadata": {},
     "output_type": "display_data"
    },
    {
     "data": {
      "text/markdown": [
       "**sub-arctic winter**"
      ],
      "text/plain": [
       "<IPython.core.display.Markdown object>"
      ]
     },
     "metadata": {},
     "output_type": "display_data"
    },
    {
     "data": {
      "text/html": [
       "<a href=\"#Cooling_rates._saw.\">Cooling rates. saw.</a>"
      ],
      "text/plain": [
       "<IPython.core.display.HTML object>"
      ]
     },
     "metadata": {},
     "output_type": "display_data"
    },
    {
     "data": {
      "text/html": [
       "<a href=\"#Fluxes._saw.\">Fluxes. saw.</a>"
      ],
      "text/plain": [
       "<IPython.core.display.HTML object>"
      ]
     },
     "metadata": {},
     "output_type": "display_data"
    },
    {
     "data": {
      "text/markdown": [
       "**tropical**"
      ],
      "text/plain": [
       "<IPython.core.display.Markdown object>"
      ]
     },
     "metadata": {},
     "output_type": "display_data"
    },
    {
     "data": {
      "text/html": [
       "<a href=\"#Cooling_rates._trp.\">Cooling rates. trp.</a>"
      ],
      "text/plain": [
       "<IPython.core.display.HTML object>"
      ]
     },
     "metadata": {},
     "output_type": "display_data"
    },
    {
     "data": {
      "text/html": [
       "<a href=\"#Fluxes._trp.\">Fluxes. trp.</a>"
      ],
      "text/plain": [
       "<IPython.core.display.HTML object>"
      ]
     },
     "metadata": {},
     "output_type": "display_data"
    },
    {
     "data": {
      "text/html": [
       "<a id=\"Makeup_of_atmosphere.\"></a>"
      ],
      "text/plain": [
       "<IPython.core.display.HTML object>"
      ]
     },
     "metadata": {},
     "output_type": "display_data"
    },
    {
     "data": {
      "text/markdown": [
       "# Makeup of atmosphere."
      ],
      "text/plain": [
       "<IPython.core.display.Markdown object>"
      ]
     },
     "metadata": {},
     "output_type": "display_data"
    },
    {
     "data": {
      "text/html": [
       "<div>\n",
       "<style scoped>\n",
       "    .dataframe tbody tr th:only-of-type {\n",
       "        vertical-align: middle;\n",
       "    }\n",
       "\n",
       "    .dataframe tbody tr th {\n",
       "        vertical-align: top;\n",
       "    }\n",
       "\n",
       "    .dataframe thead th {\n",
       "        text-align: right;\n",
       "    }\n",
       "</style>\n",
       "<table border=\"1\" class=\"dataframe\">\n",
       "  <thead>\n",
       "    <tr style=\"text-align: right;\">\n",
       "      <th>clirad band</th>\n",
       "      <th>3</th>\n",
       "      <th>9</th>\n",
       "    </tr>\n",
       "    <tr>\n",
       "      <th>molecule</th>\n",
       "      <th></th>\n",
       "      <th></th>\n",
       "    </tr>\n",
       "  </thead>\n",
       "  <tbody>\n",
       "    <tr>\n",
       "      <th>n2o</th>\n",
       "      <td>3.2e-07</td>\n",
       "      <td>3.2e-07</td>\n",
       "    </tr>\n",
       "  </tbody>\n",
       "</table>\n",
       "</div>"
      ],
      "text/plain": [
       "clirad band        3        9\n",
       "molecule                     \n",
       "n2o          3.2e-07  3.2e-07"
      ]
     },
     "metadata": {},
     "output_type": "display_data"
    },
    {
     "data": {
      "text/markdown": [
       "*TABLE.* Non-grey absorbers in the atmosphere."
      ],
      "text/plain": [
       "<IPython.core.display.Markdown object>"
      ]
     },
     "metadata": {},
     "output_type": "display_data"
    },
    {
     "data": {
      "text/html": [
       "<a id=\"Cooling_rates._mls.\"></a>"
      ],
      "text/plain": [
       "<IPython.core.display.HTML object>"
      ]
     },
     "metadata": {},
     "output_type": "display_data"
    },
    {
     "data": {
      "text/markdown": [
       "# Cooling rates. mls."
      ],
      "text/plain": [
       "<IPython.core.display.Markdown object>"
      ]
     },
     "metadata": {},
     "output_type": "display_data"
    },
    {
     "data": {
      "text/html": [
       "\n",
       "<div class=\"bk-root\">\n",
       "    <div class=\"bk-plotdiv\" id=\"e2018904-400a-4d85-80a6-9517db30a55c\"></div>\n",
       "</div>"
      ]
     },
     "metadata": {},
     "output_type": "display_data"
    },
    {
     "data": {
      "application/javascript": [
       "(function(root) {\n",
       "  function embed_document(root) {\n",
       "    \n",
       "  var docs_json = {\"154ce80f-5246-4877-8eb5-a8f52ca95bba\":{\"roots\":{\"references\":[{\"attributes\":{\"line_alpha\":0.1,\"line_color\":\"#1f77b4\",\"line_dash\":[6],\"line_width\":5,\"x\":{\"field\":\"x\"},\"y\":{\"field\":\"y\"}},\"id\":\"18230b97-37a7-4f40-9e48-adcc8a1eb39a\",\"type\":\"Line\"},{\"attributes\":{\"overlay\":{\"id\":\"782e0301-b8a4-49b8-81ff-a7e50114c1a0\",\"type\":\"BoxAnnotation\"}},\"id\":\"7a1d1940-82f6-453e-b228-0b62aa6aaaf9\",\"type\":\"BoxZoomTool\"},{\"attributes\":{},\"id\":\"6aa3121b-f4d9-44f5-8411-2a9b12cd026c\",\"type\":\"BasicTickFormatter\"},{\"attributes\":{\"dimension\":1,\"plot\":{\"id\":\"7eb05ee8-30e6-4f82-af41-43b955730014\",\"subtype\":\"Figure\",\"type\":\"Plot\"},\"ticker\":{\"id\":\"f00b1ca4-f04e-43c9-913e-41db333549b0\",\"type\":\"LogTicker\"}},\"id\":\"145385e7-d76a-49ad-bfa5-88fd00b23bec\",\"type\":\"Grid\"},{\"attributes\":{},\"id\":\"2556540f-9ce2-45ec-9826-33f502b9c1b2\",\"type\":\"Selection\"},{\"attributes\":{},\"id\":\"eff247f5-9181-40ba-b511-f51aacaeed37\",\"type\":\"UnionRenderers\"},{\"attributes\":{},\"id\":\"9b27f914-6fc5-4802-a7b7-2c41fa4b410c\",\"type\":\"Selection\"},{\"attributes\":{},\"id\":\"fb82a88b-4532-4f98-bb63-6ab6f00fb685\",\"type\":\"UnionRenderers\"},{\"attributes\":{\"above\":[{\"id\":\"25cb4015-4ec1-4998-9ee5-237b21eb933d\",\"type\":\"Legend\"}],\"below\":[{\"id\":\"4010b854-36cd-4c8f-8aba-e6806a89fa4a\",\"type\":\"LinearAxis\"}],\"left\":[{\"id\":\"ebacd853-2547-4207-ad9c-b84c6e80aadc\",\"type\":\"LinearAxis\"}],\"plot_width\":300,\"renderers\":[{\"id\":\"4010b854-36cd-4c8f-8aba-e6806a89fa4a\",\"type\":\"LinearAxis\"},{\"id\":\"f488a954-24a4-4096-8d1a-0d0f4a725774\",\"type\":\"Grid\"},{\"id\":\"ebacd853-2547-4207-ad9c-b84c6e80aadc\",\"type\":\"LinearAxis\"},{\"id\":\"44a16a0a-a24b-4ffa-9551-dde4cd79904f\",\"type\":\"Grid\"},{\"id\":\"0e6be408-9f29-46b3-82f0-caea49466b9b\",\"type\":\"BoxAnnotation\"},{\"id\":\"a1d90b08-9acf-4ce3-b04d-8990fb2736a5\",\"type\":\"GlyphRenderer\"},{\"id\":\"86de4fba-3196-43ba-a1d9-7460d5b5bdeb\",\"type\":\"GlyphRenderer\"},{\"id\":\"73652028-064d-4aac-9c34-7f2955036776\",\"type\":\"GlyphRenderer\"},{\"id\":\"25cb4015-4ec1-4998-9ee5-237b21eb933d\",\"type\":\"Legend\"}],\"title\":{\"id\":\"6345899b-5599-4bfb-b03b-943f43c1d726\",\"type\":\"Title\"},\"toolbar\":{\"id\":\"fb3c87e0-8f18-4ba9-a1cb-a9660ef14207\",\"type\":\"Toolbar\"},\"toolbar_location\":null,\"x_range\":{\"id\":\"6fb51bc5-1d35-465d-bd43-81d7b7492a8d\",\"type\":\"Range1d\"},\"x_scale\":{\"id\":\"fe0182d1-92c0-41e0-9f03-aafb705a828d\",\"type\":\"LinearScale\"},\"y_range\":{\"id\":\"3278a46d-9a74-4824-9246-d56a197af1ac\",\"type\":\"Range1d\"},\"y_scale\":{\"id\":\"194b2164-27b2-4179-86b4-2c1d76f5069b\",\"type\":\"LinearScale\"}},\"id\":\"2d101007-b45f-4750-8df9-755930e4364a\",\"subtype\":\"Figure\",\"type\":\"Plot\"},{\"attributes\":{},\"id\":\"328621c2-2a22-4827-8587-9e860873f17e\",\"type\":\"UnionRenderers\"},{\"attributes\":{},\"id\":\"194b2164-27b2-4179-86b4-2c1d76f5069b\",\"type\":\"LinearScale\"},{\"attributes\":{},\"id\":\"fa54cefc-da29-42b9-8ab1-eeb52088dda1\",\"type\":\"BasicTickFormatter\"},{\"attributes\":{},\"id\":\"0da0298a-e4d3-4e94-8930-f41807271f28\",\"type\":\"HelpTool\"},{\"attributes\":{\"items\":[{\"id\":\"cd7a1c6f-2d05-42f3-824b-6d3d3d54ddf2\",\"type\":\"LegendItem\"},{\"id\":\"893d29ca-9ccd-462e-a018-18cf2aff05b6\",\"type\":\"LegendItem\"}],\"label_text_font_size\":{\"value\":\"8pt\"},\"location\":\"top_center\",\"orientation\":\"horizontal\",\"plot\":{\"id\":\"47271378-f83d-4346-9d6f-888bf56580ba\",\"subtype\":\"Figure\",\"type\":\"Plot\"}},\"id\":\"c555b19d-3802-4f75-9511-fc397661e8ee\",\"type\":\"Legend\"},{\"attributes\":{},\"id\":\"6132bee2-9232-40aa-81ec-9379ca1ce845\",\"type\":\"SaveTool\"},{\"attributes\":{},\"id\":\"27b321f5-3a15-43f3-a8c7-5528256ce58f\",\"type\":\"BasicTicker\"},{\"attributes\":{\"fill_alpha\":{\"value\":0.7},\"fill_color\":{\"value\":\"#984ea3\"},\"line_alpha\":{\"value\":0.7},\"line_color\":{\"value\":\"#984ea3\"},\"x\":{\"field\":\"x\"},\"y\":{\"field\":\"y\"}},\"id\":\"3440c0e9-4f5f-4c85-911f-2dd8f1f63641\",\"type\":\"Circle\"},{\"attributes\":{\"source\":{\"id\":\"db36f18f-e2a4-48c6-97f7-48c3c99c2ae5\",\"type\":\"ColumnDataSource\"}},\"id\":\"708fbaeb-fda9-4c9f-8727-4db8ef097a29\",\"type\":\"CDSView\"},{\"attributes\":{},\"id\":\"fd1786fa-8a20-4220-ba4d-c6ed81e4422b\",\"type\":\"SaveTool\"},{\"attributes\":{\"bottom_units\":\"screen\",\"fill_alpha\":{\"value\":0.5},\"fill_color\":{\"value\":\"lightgrey\"},\"left_units\":\"screen\",\"level\":\"overlay\",\"line_alpha\":{\"value\":1.0},\"line_color\":{\"value\":\"black\"},\"line_dash\":[4,4],\"line_width\":{\"value\":2},\"plot\":null,\"render_mode\":\"css\",\"right_units\":\"screen\",\"top_units\":\"screen\"},\"id\":\"f0b92eca-2188-471f-917c-a678793821ef\",\"type\":\"BoxAnnotation\"},{\"attributes\":{\"callback\":null,\"end\":0.09198967923299999,\"start\":-0.039485590533},\"id\":\"6fb51bc5-1d35-465d-bd43-81d7b7492a8d\",\"type\":\"Range1d\"},{\"attributes\":{},\"id\":\"a15d783b-e47f-418c-8624-6570bffdc73d\",\"type\":\"ResetTool\"},{\"attributes\":{},\"id\":\"e5730138-74f2-4ce5-80a1-1569bfa8456e\",\"type\":\"ResetTool\"},{\"attributes\":{\"callback\":null,\"data\":{\"x\":{\"__ndarray__\":\"0Vuy7oNanj8caGihUjeeP4tfxkZ48Z0/Iex6RDGinT8W4qMSFk2dPy6zG803AZ0/7gD9NrO6nD/wks3YvXycP3inv/WhRpw/HLHq+YAjnD+4V/wkCxicP2ROeEpFKpw/ilLzsvVunD+XUGO5I+ecP+yCFzYw3Zw/jwOQiX3Kmj+/mFjZcdWWP0HZefuxWZI/a5AexnHOij80Ql5gbcR/P6CmcelE9F4/MAVOkLqYdL8IEq7v35aFvyhu2hXFbnm/UFJyUaQwdD/ERkaSFuqJP9Apvl3T3I4/yp9Cig48iz/waakX11OCP+xOZ+Bk+G8/0CAH4EBzP7/AnP9JWdhsv8thX2Dk6Ha/TrOv6tsqfb84OlUgbbqAvxb4cxtnK4K/8tQ/GX5Pg7+eGu7ldwiEv67gEEjPVoO/CbHEnlWhgb/awsMZm9SAv+0MdSA3OIG/ALu/cCElgb9oeeBTYJCAv33qqI3ETn+/XXTvXDUafb9ZBhf/e496v1hKvu1c7He/fldRssYodb88KYMTp1Ryv3R5letk5m6/xm5ZXOANab/CHseah89ivx4sfgWAGVm/1Cwct+CvSb+AnaHTyjgKvyAcKEQFrUU/EEdiyIEFVj8IE+I+ME9gP/iyMBvPLWU/QGQUqB6ZaT+APc0G72RtP4D3p7ezbXA/pIkTnwjQcT/4YxYRLchyP7RTT/NJf3M/NCOSB3PScz9MSb77qxN0P/QIlUg6tHQ/MDfNpTJxdT8sy0XfUSF2P+iUa/05dHY/SGKOjVwRdj+M24ToAQ11P6hE2VvK+XI/\",\"dtype\":\"float64\",\"shape\":[75]},\"y\":{\"__ndarray__\":\"GhExyth1ND/Sv8nbtpRIP2vylNV0PVE/aTum7souWD/At0SJ8fVgPw3Iuahxymc/MSNhhJWvcD/bTfBN02d3P2zb5nxnaoA/CD5h5MAGhz8NmeH1TyaQP+zrCsc9p5Y/LbKd76fGnz/bLW5ISEmmPww9YvTcQq8/JV2OstnstT8Er5Y7M8G+P0c+r3jqkcU/5h99k6ZBzj88bCIzFzjVP4enV8oyxN0//yH99nXg5D8qOpLLf0jtP5kqGJXUifQ/c9cS8kHP/D+/DpwzojQEQIEmwoanVwxA4lgXt9HgE0BSSZ2AJuIbQAMJih9jjiNA5q4l5INuK0AwTKYKRj0zQNv5fmq8/DpAaCJseHrtQkB/+zpwzoxKQM3MzMzMeFJAZmZmZmZqWEAAAAAAAFxeQM3MzMzMJmJAmpmZmZkfZUBmZmZmZhhoQDMzMzMzEWtAAAAAAAAKbkBmZmZmZoFwQM3MzMzM/XFAMzMzMzN6c0CamZmZmfZ0QAAAAAAAc3ZAZmZmZmbvd0DNzMzMzGt5QDMzMzMz6HpAmpmZmZlkfEAAAAAAAOF9QGZmZmZmXX9AZmZmZuZsgECamZmZGSuBQM3MzMxM6YFAAAAAAICngkAzMzMzs2WDQGZmZmbmI4RAmpmZmRnihEDNzMzMTKCFQAAAAACAXoZAMzMzM7Mch0BmZmZm5tqHQJqZmZkZmYhAzczMzExXiUAAAAAAgBWKQDMzMzOz04pAZmZmZuaRi0CamZmZGVCMQM3MzMxMDo1AAAAAAIDMjUAzMzMzs4qOQGZmZmbmSI9A\",\"dtype\":\"float64\",\"shape\":[75]}},\"selected\":{\"id\":\"9a178c3e-e472-4345-a92d-199cc70cfe4a\",\"type\":\"Selection\"},\"selection_policy\":{\"id\":\"83651f47-eb96-46ef-902e-5e842eb26579\",\"type\":\"UnionRenderers\"}},\"id\":\"db36f18f-e2a4-48c6-97f7-48c3c99c2ae5\",\"type\":\"ColumnDataSource\"},{\"attributes\":{\"children\":[{\"id\":\"55262d5d-eb99-4827-9e75-876bd34ede15\",\"type\":\"Row\"}]},\"id\":\"9bf83031-6471-404b-93d2-44ebb7e43fe5\",\"type\":\"Column\"},{\"attributes\":{\"callback\":null,\"end\":0.028613148944,\"start\":-0.010929348543999986},\"id\":\"63f7e59b-9fa4-4518-a2ee-aebb7d910f84\",\"type\":\"Range1d\"},{\"attributes\":{\"plot\":null,\"text\":\"\"},\"id\":\"6345899b-5599-4bfb-b03b-943f43c1d726\",\"type\":\"Title\"},{\"attributes\":{\"axis_label\":\"pressure [mb]\",\"formatter\":{\"id\":\"960a66c6-9b99-4a59-9fe2-cbcd6b21aeb5\",\"type\":\"LogTickFormatter\"},\"plot\":{\"id\":\"47271378-f83d-4346-9d6f-888bf56580ba\",\"subtype\":\"Figure\",\"type\":\"Plot\"},\"ticker\":{\"id\":\"d18d8397-168f-4fb0-984e-5e84b5649355\",\"type\":\"LogTicker\"}},\"id\":\"3cb4bd8f-575b-4395-9e42-2606a8aae9e0\",\"type\":\"LogAxis\"},{\"attributes\":{},\"id\":\"13e99ed1-6841-4ea2-8758-5863867974a7\",\"type\":\"LinearScale\"},{\"attributes\":{},\"id\":\"57ec19c4-afc3-42d3-8af9-47753e14a414\",\"type\":\"BasicTicker\"},{\"attributes\":{},\"id\":\"46edd09e-c692-46d3-bae5-facafbb79ca7\",\"type\":\"LogScale\"},{\"attributes\":{\"fill_alpha\":{\"value\":0.1},\"fill_color\":{\"value\":\"#1f77b4\"},\"line_alpha\":{\"value\":0.1},\"line_color\":{\"value\":\"#1f77b4\"},\"x\":{\"field\":\"x\"},\"y\":{\"field\":\"y\"}},\"id\":\"4396d7d0-28dd-4343-befc-7d835a62a537\",\"type\":\"Circle\"},{\"attributes\":{\"axis_label\":\"pressure [mb]\",\"formatter\":{\"id\":\"fa54cefc-da29-42b9-8ab1-eeb52088dda1\",\"type\":\"BasicTickFormatter\"},\"plot\":{\"id\":\"2d101007-b45f-4750-8df9-755930e4364a\",\"subtype\":\"Figure\",\"type\":\"Plot\"},\"ticker\":{\"id\":\"57ec19c4-afc3-42d3-8af9-47753e14a414\",\"type\":\"BasicTicker\"}},\"id\":\"ebacd853-2547-4207-ad9c-b84c6e80aadc\",\"type\":\"LinearAxis\"},{\"attributes\":{\"callback\":null,\"end\":0.01,\"start\":1020},\"id\":\"3278a46d-9a74-4824-9246-d56a197af1ac\",\"type\":\"Range1d\"},{\"attributes\":{\"label\":{\"value\":\"CLIRAD - CRD\"},\"renderers\":[{\"id\":\"de21428a-d35b-45d5-9e85-2512c3faea4c\",\"type\":\"GlyphRenderer\"},{\"id\":\"c18f23db-89e7-4b67-86c0-01c783b6356d\",\"type\":\"GlyphRenderer\"}]},\"id\":\"5332cbc8-b04c-489b-a67a-2615c0c31467\",\"type\":\"LegendItem\"},{\"attributes\":{\"overlay\":{\"id\":\"0e6be408-9f29-46b3-82f0-caea49466b9b\",\"type\":\"BoxAnnotation\"}},\"id\":\"51a04874-fe30-45eb-bfbc-89764fe1ea7b\",\"type\":\"BoxZoomTool\"},{\"attributes\":{\"items\":[{\"id\":\"5182bacf-44c5-4144-b480-d95d9c0ed730\",\"type\":\"LegendItem\"},{\"id\":\"7dc9a374-85f0-4232-ba56-9d1ab5596e8c\",\"type\":\"LegendItem\"}],\"label_text_font_size\":{\"value\":\"8pt\"},\"location\":\"top_center\",\"orientation\":\"horizontal\",\"plot\":{\"id\":\"2d101007-b45f-4750-8df9-755930e4364a\",\"subtype\":\"Figure\",\"type\":\"Plot\"}},\"id\":\"25cb4015-4ec1-4998-9ee5-237b21eb933d\",\"type\":\"Legend\"},{\"attributes\":{\"children\":[{\"id\":\"2d101007-b45f-4750-8df9-755930e4364a\",\"subtype\":\"Figure\",\"type\":\"Plot\"},{\"id\":\"47271378-f83d-4346-9d6f-888bf56580ba\",\"subtype\":\"Figure\",\"type\":\"Plot\"},{\"id\":\"7eb05ee8-30e6-4f82-af41-43b955730014\",\"subtype\":\"Figure\",\"type\":\"Plot\"}]},\"id\":\"55262d5d-eb99-4827-9e75-876bd34ede15\",\"type\":\"Row\"},{\"attributes\":{\"axis_label\":\"cooling rate [K/day]\",\"formatter\":{\"id\":\"e1434dd8-593e-4160-b0bb-a17b7dfea676\",\"type\":\"BasicTickFormatter\"},\"plot\":{\"id\":\"7eb05ee8-30e6-4f82-af41-43b955730014\",\"subtype\":\"Figure\",\"type\":\"Plot\"},\"ticker\":{\"id\":\"726cfeb1-d48a-4a4a-b7f0-5bc962ae6231\",\"type\":\"BasicTicker\"}},\"id\":\"c702dfe8-d2ef-4dd2-849c-7c64cb8e92f8\",\"type\":\"LinearAxis\"},{\"attributes\":{\"line_alpha\":0.1,\"line_color\":\"#1f77b4\",\"line_width\":1.5,\"x\":{\"field\":\"x\"},\"y\":{\"field\":\"y\"}},\"id\":\"d831af78-bca5-416d-812f-196d3ceb08f1\",\"type\":\"Line\"},{\"attributes\":{},\"id\":\"5022e9f8-28ae-41b8-a0f2-1748ab3a5492\",\"type\":\"HelpTool\"},{\"attributes\":{\"bottom_units\":\"screen\",\"fill_alpha\":{\"value\":0.5},\"fill_color\":{\"value\":\"lightgrey\"},\"left_units\":\"screen\",\"level\":\"overlay\",\"line_alpha\":{\"value\":1.0},\"line_color\":{\"value\":\"black\"},\"line_dash\":[4,4],\"line_width\":{\"value\":2},\"plot\":null,\"render_mode\":\"css\",\"right_units\":\"screen\",\"top_units\":\"screen\"},\"id\":\"782e0301-b8a4-49b8-81ff-a7e50114c1a0\",\"type\":\"BoxAnnotation\"},{\"attributes\":{\"axis_label\":\"pressure [mb]\",\"formatter\":{\"id\":\"0002d9da-8a8c-4e74-aab3-f98c1331f37b\",\"type\":\"LogTickFormatter\"},\"plot\":{\"id\":\"7eb05ee8-30e6-4f82-af41-43b955730014\",\"subtype\":\"Figure\",\"type\":\"Plot\"},\"ticker\":{\"id\":\"f00b1ca4-f04e-43c9-913e-41db333549b0\",\"type\":\"LogTicker\"}},\"id\":\"0a931c38-a817-4d49-a386-0d4f670a4262\",\"type\":\"LogAxis\"},{\"attributes\":{\"label\":{\"value\":\"CLIRAD\"},\"renderers\":[{\"id\":\"a1d90b08-9acf-4ce3-b04d-8990fb2736a5\",\"type\":\"GlyphRenderer\"}]},\"id\":\"5182bacf-44c5-4144-b480-d95d9c0ed730\",\"type\":\"LegendItem\"},{\"attributes\":{\"callback\":null,\"end\":0.01,\"start\":1020},\"id\":\"09dc35f5-7f0e-430f-a510-10dd6d4a0936\",\"type\":\"Range1d\"},{\"attributes\":{},\"id\":\"5c4bd4c2-f9f4-4918-9442-3e03702a9378\",\"type\":\"SaveTool\"},{\"attributes\":{},\"id\":\"a3401aa9-002f-479a-ba1d-4055ab8e3ee1\",\"type\":\"PanTool\"},{\"attributes\":{\"callback\":null,\"end\":0.01,\"start\":1020},\"id\":\"89a36741-e5e5-43ce-ae9b-5af4c01470a7\",\"type\":\"Range1d\"},{\"attributes\":{},\"id\":\"6e81b0b2-76df-4b41-a5ba-542297078cfb\",\"type\":\"ResetTool\"},{\"attributes\":{\"axis_label\":\"cooling rate [K/day]\",\"formatter\":{\"id\":\"6aa3121b-f4d9-44f5-8411-2a9b12cd026c\",\"type\":\"BasicTickFormatter\"},\"plot\":{\"id\":\"2d101007-b45f-4750-8df9-755930e4364a\",\"subtype\":\"Figure\",\"type\":\"Plot\"},\"ticker\":{\"id\":\"e2b02421-36ef-40c6-85cf-b6ae0af186db\",\"type\":\"BasicTicker\"}},\"id\":\"4010b854-36cd-4c8f-8aba-e6806a89fa4a\",\"type\":\"LinearAxis\"},{\"attributes\":{},\"id\":\"fe0182d1-92c0-41e0-9f03-aafb705a828d\",\"type\":\"LinearScale\"},{\"attributes\":{\"above\":[{\"id\":\"c555b19d-3802-4f75-9511-fc397661e8ee\",\"type\":\"Legend\"}],\"below\":[{\"id\":\"811ec2d0-d169-416a-a70a-90a7bf4bdb7f\",\"type\":\"LinearAxis\"}],\"left\":[{\"id\":\"3cb4bd8f-575b-4395-9e42-2606a8aae9e0\",\"type\":\"LogAxis\"}],\"plot_width\":300,\"renderers\":[{\"id\":\"811ec2d0-d169-416a-a70a-90a7bf4bdb7f\",\"type\":\"LinearAxis\"},{\"id\":\"f70cd018-4612-4af2-ba13-9b58c431d738\",\"type\":\"Grid\"},{\"id\":\"3cb4bd8f-575b-4395-9e42-2606a8aae9e0\",\"type\":\"LogAxis\"},{\"id\":\"692241e3-569d-4922-8e64-403bfdc5e2a6\",\"type\":\"Grid\"},{\"id\":\"f0b92eca-2188-471f-917c-a678793821ef\",\"type\":\"BoxAnnotation\"},{\"id\":\"b3cdb6c1-8c3d-4826-b3d2-e9e5b34bce68\",\"type\":\"GlyphRenderer\"},{\"id\":\"458528fa-1bae-41c3-8dcf-b5faccb2fcbc\",\"type\":\"GlyphRenderer\"},{\"id\":\"7547629e-9dc7-4d8b-b1be-7b16b1d8b717\",\"type\":\"GlyphRenderer\"},{\"id\":\"c555b19d-3802-4f75-9511-fc397661e8ee\",\"type\":\"Legend\"}],\"title\":{\"id\":\"7a8316aa-3a10-4f7f-bd64-d98d60532c36\",\"type\":\"Title\"},\"toolbar\":{\"id\":\"41e66054-6362-4b2d-a6c6-3762006f214e\",\"type\":\"Toolbar\"},\"toolbar_location\":null,\"x_range\":{\"id\":\"9b638d43-1fb4-4291-b091-ef7c8f85ebcd\",\"type\":\"Range1d\"},\"x_scale\":{\"id\":\"13e99ed1-6841-4ea2-8758-5863867974a7\",\"type\":\"LinearScale\"},\"y_range\":{\"id\":\"89a36741-e5e5-43ce-ae9b-5af4c01470a7\",\"type\":\"Range1d\"},\"y_scale\":{\"id\":\"eacd1968-c0e3-44ce-b147-0f8d8738fc0a\",\"type\":\"LogScale\"}},\"id\":\"47271378-f83d-4346-9d6f-888bf56580ba\",\"subtype\":\"Figure\",\"type\":\"Plot\"},{\"attributes\":{\"plot\":{\"id\":\"47271378-f83d-4346-9d6f-888bf56580ba\",\"subtype\":\"Figure\",\"type\":\"Plot\"},\"ticker\":{\"id\":\"27b321f5-3a15-43f3-a8c7-5528256ce58f\",\"type\":\"BasicTicker\"}},\"id\":\"f70cd018-4612-4af2-ba13-9b58c431d738\",\"type\":\"Grid\"},{\"attributes\":{},\"id\":\"1532d1b2-0e16-42b2-bfc1-c3c3177915a0\",\"type\":\"UnionRenderers\"},{\"attributes\":{},\"id\":\"eacd1968-c0e3-44ce-b147-0f8d8738fc0a\",\"type\":\"LogScale\"},{\"attributes\":{\"dimension\":1,\"plot\":{\"id\":\"47271378-f83d-4346-9d6f-888bf56580ba\",\"subtype\":\"Figure\",\"type\":\"Plot\"},\"ticker\":{\"id\":\"d18d8397-168f-4fb0-984e-5e84b5649355\",\"type\":\"LogTicker\"}},\"id\":\"692241e3-569d-4922-8e64-403bfdc5e2a6\",\"type\":\"Grid\"},{\"attributes\":{},\"id\":\"e2b02421-36ef-40c6-85cf-b6ae0af186db\",\"type\":\"BasicTicker\"},{\"attributes\":{\"plot\":{\"id\":\"7eb05ee8-30e6-4f82-af41-43b955730014\",\"subtype\":\"Figure\",\"type\":\"Plot\"},\"ticker\":{\"id\":\"726cfeb1-d48a-4a4a-b7f0-5bc962ae6231\",\"type\":\"BasicTicker\"}},\"id\":\"e8713557-f1bf-4e5e-bf98-f66522ee6885\",\"type\":\"Grid\"},{\"attributes\":{\"callback\":null,\"data\":{\"x\":{\"__ndarray__\":\"/5AxSNAQfL+9qp6/Ffh6v77Z4jJgZHi/9bOizt+ydb9jmDDl/g1zvz1y4bvqTHC/KGeEzBAta7+UfgqLP4Zlv2AaUMGy8V+/OK8GlaljVL8g31hEE7dBvwCzEC+c4yQ/MJmFQO6eTD942OdicY5aP3zcgfoSSnA/hwFB889Jhj8yGlcu5KmWP37FGi5yT6I/Qlx23n+Rqj8xIQLo2SeyPzLpdd+/5rc/NlI6gX6Zvj/sJ9iJD0/CP7iSAcZRfsI/RrOH/Wvnvz/ReUHPXOO5P0j9rjV/P7Q/EISHECeVrj+YZoAswE6mP+a49chW/54/sC5mxPdQkz/H/vFq/LaCP5i8Ir3GfFk/AeIKPd3fcr+UOa7vUMeGvyZnoGpfvZK/tJVdCKf5mL/t3WnqMdydv7IaqFvYRKG/lerc3+Iio7+uHj7MgY6jvyv696QJl6K/Ah2Yqlwyob/GzMJ+1lOfvyHRUM9+BZy/2IiGDxmBmL8mV3y9XsWUv7iSItQ64ZC/TnIXi+Wpib9UuodK+1SBvzYmwH+evnG/gJrWWJAOKb8wX2XMoENwP0Ndo+LRn4A/tjWwef8diT/kIdtTXNeQP8jTWXmHLJU/Js+YMVyQmT/Ktl+AdQOeP7S6/TugQaE/7gfZBcWHoz/WRjrYotKlPzkDcnU/KKg/hm82XRyDqj/eaf3wnd+sPzU0hLTdPK8/DiuBOR/DsD9ndcHMttSxP0SXP/izzLI/HkZhR36lsz8Y9NanuWi0PwoZb/uDILU/3/PQMuPRtT+a/dC4r4S2Pw5+/lUpOLc/\",\"dtype\":\"float64\",\"shape\":[75]},\"y\":{\"__ndarray__\":\"GhExyth1ND/Sv8nbtpRIP2vylNV0PVE/aTum7souWD/At0SJ8fVgPw3Iuahxymc/MSNhhJWvcD/bTfBN02d3P2zb5nxnaoA/CD5h5MAGhz8NmeH1TyaQP+zrCsc9p5Y/LbKd76fGnz/bLW5ISEmmPww9YvTcQq8/JV2OstnstT8Er5Y7M8G+P0c+r3jqkcU/5h99k6ZBzj88bCIzFzjVP4enV8oyxN0//yH99nXg5D8qOpLLf0jtP5kqGJXUifQ/c9cS8kHP/D+/DpwzojQEQIEmwoanVwxA4lgXt9HgE0BSSZ2AJuIbQAMJih9jjiNA5q4l5INuK0AwTKYKRj0zQNv5fmq8/DpAaCJseHrtQkB/+zpwzoxKQM3MzMzMeFJAZmZmZmZqWEAAAAAAAFxeQM3MzMzMJmJAmpmZmZkfZUBmZmZmZhhoQDMzMzMzEWtAAAAAAAAKbkBmZmZmZoFwQM3MzMzM/XFAMzMzMzN6c0CamZmZmfZ0QAAAAAAAc3ZAZmZmZmbvd0DNzMzMzGt5QDMzMzMz6HpAmpmZmZlkfEAAAAAAAOF9QGZmZmZmXX9AZmZmZuZsgECamZmZGSuBQM3MzMxM6YFAAAAAAICngkAzMzMzs2WDQGZmZmbmI4RAmpmZmRnihEDNzMzMTKCFQAAAAACAXoZAMzMzM7Mch0BmZmZm5tqHQJqZmZkZmYhAzczMzExXiUAAAAAAgBWKQDMzMzOz04pAZmZmZuaRi0CamZmZGVCMQM3MzMxMDo1AAAAAAIDMjUAzMzMzs4qOQGZmZmbmSI9A\",\"dtype\":\"float64\",\"shape\":[75]}},\"selected\":{\"id\":\"9b27f914-6fc5-4802-a7b7-2c41fa4b410c\",\"type\":\"Selection\"},\"selection_policy\":{\"id\":\"eff247f5-9181-40ba-b511-f51aacaeed37\",\"type\":\"UnionRenderers\"}},\"id\":\"2ca2ef9e-824a-4b1e-ad2a-bf97c003299b\",\"type\":\"ColumnDataSource\"},{\"attributes\":{},\"id\":\"f83ce020-89fb-42ff-946b-1b93ab1703df\",\"type\":\"HelpTool\"},{\"attributes\":{},\"id\":\"507acd4f-9d45-4e71-b590-918dee3d909c\",\"type\":\"LinearScale\"},{\"attributes\":{\"ticker\":null},\"id\":\"960a66c6-9b99-4a59-9fe2-cbcd6b21aeb5\",\"type\":\"LogTickFormatter\"},{\"attributes\":{\"num_minor_ticks\":10},\"id\":\"d18d8397-168f-4fb0-984e-5e84b5649355\",\"type\":\"LogTicker\"},{\"attributes\":{},\"id\":\"e705dce0-3ee6-4ba9-8a20-0f09bc37a171\",\"type\":\"WheelZoomTool\"},{\"attributes\":{\"axis_label\":\"cooling rate [K/day]\",\"formatter\":{\"id\":\"dbbbdcaa-3ead-48e2-9111-d5c5aeaae49c\",\"type\":\"BasicTickFormatter\"},\"plot\":{\"id\":\"47271378-f83d-4346-9d6f-888bf56580ba\",\"subtype\":\"Figure\",\"type\":\"Plot\"},\"ticker\":{\"id\":\"27b321f5-3a15-43f3-a8c7-5528256ce58f\",\"type\":\"BasicTicker\"}},\"id\":\"811ec2d0-d169-416a-a70a-90a7bf4bdb7f\",\"type\":\"LinearAxis\"},{\"attributes\":{\"overlay\":{\"id\":\"f0b92eca-2188-471f-917c-a678793821ef\",\"type\":\"BoxAnnotation\"}},\"id\":\"1a653586-e63e-4db0-ab8b-d60ef465df80\",\"type\":\"BoxZoomTool\"},{\"attributes\":{\"callback\":null,\"end\":0.155497178353,\"start\":-0.040114377653},\"id\":\"9b638d43-1fb4-4291-b091-ef7c8f85ebcd\",\"type\":\"Range1d\"},{\"attributes\":{},\"id\":\"dcc3892a-6498-4071-b2c0-675322848418\",\"type\":\"WheelZoomTool\"},{\"attributes\":{\"source\":{\"id\":\"ed644a50-fc29-449b-b9f8-a3b7d69e995f\",\"type\":\"ColumnDataSource\"}},\"id\":\"db1632c9-97cc-44d9-8a86-93476be977ff\",\"type\":\"CDSView\"},{\"attributes\":{\"data_source\":{\"id\":\"ed644a50-fc29-449b-b9f8-a3b7d69e995f\",\"type\":\"ColumnDataSource\"},\"glyph\":{\"id\":\"b410e4f2-8155-4cb0-8f0e-032dba037c11\",\"type\":\"Line\"},\"hover_glyph\":null,\"muted_glyph\":null,\"nonselection_glyph\":{\"id\":\"2c8dc82b-645f-4885-a240-8a2bdc5b6367\",\"type\":\"Line\"},\"selection_glyph\":null,\"view\":{\"id\":\"db1632c9-97cc-44d9-8a86-93476be977ff\",\"type\":\"CDSView\"}},\"id\":\"73652028-064d-4aac-9c34-7f2955036776\",\"type\":\"GlyphRenderer\"},{\"attributes\":{\"line_alpha\":0.1,\"line_color\":\"#1f77b4\",\"line_width\":1.5,\"x\":{\"field\":\"x\"},\"y\":{\"field\":\"y\"}},\"id\":\"2c8dc82b-645f-4885-a240-8a2bdc5b6367\",\"type\":\"Line\"},{\"attributes\":{\"dimension\":1,\"plot\":{\"id\":\"2d101007-b45f-4750-8df9-755930e4364a\",\"subtype\":\"Figure\",\"type\":\"Plot\"},\"ticker\":{\"id\":\"57ec19c4-afc3-42d3-8af9-47753e14a414\",\"type\":\"BasicTicker\"}},\"id\":\"44a16a0a-a24b-4ffa-9551-dde4cd79904f\",\"type\":\"Grid\"},{\"attributes\":{\"source\":{\"id\":\"27fe59b7-f94a-4ba3-944c-e2ee4fc1eb28\",\"type\":\"ColumnDataSource\"}},\"id\":\"07a91c3b-dff2-4568-bac3-6f143feed07c\",\"type\":\"CDSView\"},{\"attributes\":{\"active_drag\":\"auto\",\"active_inspect\":\"auto\",\"active_scroll\":\"auto\",\"active_tap\":\"auto\",\"tools\":[{\"id\":\"2137e448-1afe-474d-aa18-c3f16641a94d\",\"type\":\"PanTool\"},{\"id\":\"e705dce0-3ee6-4ba9-8a20-0f09bc37a171\",\"type\":\"WheelZoomTool\"},{\"id\":\"51a04874-fe30-45eb-bfbc-89764fe1ea7b\",\"type\":\"BoxZoomTool\"},{\"id\":\"6132bee2-9232-40aa-81ec-9379ca1ce845\",\"type\":\"SaveTool\"},{\"id\":\"a15d783b-e47f-418c-8624-6570bffdc73d\",\"type\":\"ResetTool\"},{\"id\":\"f83ce020-89fb-42ff-946b-1b93ab1703df\",\"type\":\"HelpTool\"}]},\"id\":\"fb3c87e0-8f18-4ba9-a1cb-a9660ef14207\",\"type\":\"Toolbar\"},{\"attributes\":{},\"id\":\"2137e448-1afe-474d-aa18-c3f16641a94d\",\"type\":\"PanTool\"},{\"attributes\":{\"callback\":null,\"data\":{\"x\":{\"__ndarray__\":\"CGBfAFyvor9lCagIrHqiv/2KvylIBaK/j8wRnHSHob8YBPjlSgihv94HCj45iqC/6cZGqCoQoL/C4i7KhS2fvx6p1CG9RZ6/EBw7k7tpnb+xHh+/w6Wcv/4sGhJ+AJy/wSXvQP6Jm78Q0zSjPD6bv80Ld3erypi/mAXfHytLj78AR7+A1cYlv7uxu2AyRZI/J7jubOPdoz8OPfwRkyuwP5gi0Mvuarc/ijI/Kgrjvz8NCdOIfajDPylmsO7HScM/IY5wuGGkvj/4sPj8Gaa2Pw4498nkY7A/Hdz2bSPGpz8cDJZmyrmhPwjP6CxKAJs/M0vmx8TOkz/35XG9Eu2JP/EQqA8WSH0/maJJW/2VZD9v/WM9jzNovzfWzLlXT4O/dlZ798+jjr+e0HL39deTvwzFRxNJ3pi/pXxX8Bp1nb/wW5oLtrKev+Bttbn3kZy/hFzQnCjSmb8SkNJUpguXv4KW5qvNMZS/wKtKuIs6kb8gK217/0KMv0QAZjFHzIW/HY3dYwQrfr9rS4yBT1Vwv+BLq09gW0K/HgXMVvd8Zz+R7siZZKt5P8YiU+MBw4M/g/ghhf24ij+z8kS5eOSQP+iSOE8ff5Q/taoSFQQwmD9pdIN4j/mbPwhflZSG3Z8/qsFXGzPuoT/+cs3nU/yjP0kEff6IGqY/Uv5TSRtJqD9gndpOmIaqP75JGnb0zKw/tREQEvALrz/SkAUNfJOwP7VGtlNwgbE/q3IEHWtOsj9ll+KJpAazP7xfmFtAubM/uw34ac1wtD/hr0ia3zO1P8TpQLCMCLY/\",\"dtype\":\"float64\",\"shape\":[75]},\"y\":{\"__ndarray__\":\"GhExyth1ND/Sv8nbtpRIP2vylNV0PVE/aTum7souWD/At0SJ8fVgPw3Iuahxymc/MSNhhJWvcD/bTfBN02d3P2zb5nxnaoA/CD5h5MAGhz8NmeH1TyaQP+zrCsc9p5Y/LbKd76fGnz/bLW5ISEmmPww9YvTcQq8/JV2OstnstT8Er5Y7M8G+P0c+r3jqkcU/5h99k6ZBzj88bCIzFzjVP4enV8oyxN0//yH99nXg5D8qOpLLf0jtP5kqGJXUifQ/c9cS8kHP/D+/DpwzojQEQIEmwoanVwxA4lgXt9HgE0BSSZ2AJuIbQAMJih9jjiNA5q4l5INuK0AwTKYKRj0zQNv5fmq8/DpAaCJseHrtQkB/+zpwzoxKQM3MzMzMeFJAZmZmZmZqWEAAAAAAAFxeQM3MzMzMJmJAmpmZmZkfZUBmZmZmZhhoQDMzMzMzEWtAAAAAAAAKbkBmZmZmZoFwQM3MzMzM/XFAMzMzMzN6c0CamZmZmfZ0QAAAAAAAc3ZAZmZmZmbvd0DNzMzMzGt5QDMzMzMz6HpAmpmZmZlkfEAAAAAAAOF9QGZmZmZmXX9AZmZmZuZsgECamZmZGSuBQM3MzMxM6YFAAAAAAICngkAzMzMzs2WDQGZmZmbmI4RAmpmZmRnihEDNzMzMTKCFQAAAAACAXoZAMzMzM7Mch0BmZmZm5tqHQJqZmZkZmYhAzczMzExXiUAAAAAAgBWKQDMzMzOz04pAZmZmZuaRi0CamZmZGVCMQM3MzMxMDo1AAAAAAIDMjUAzMzMzs4qOQGZmZmbmSI9A\",\"dtype\":\"float64\",\"shape\":[75]}},\"selected\":{\"id\":\"ab78f402-c202-4927-8f20-0dcceb6ef756\",\"type\":\"Selection\"},\"selection_policy\":{\"id\":\"df8d99dc-d759-43b9-a45d-359328126c17\",\"type\":\"UnionRenderers\"}},\"id\":\"ed644a50-fc29-449b-b9f8-a3b7d69e995f\",\"type\":\"ColumnDataSource\"},{\"attributes\":{\"callback\":null,\"data\":{\"x\":{\"__ndarray__\":\"/5AxSNAQfL+9qp6/Ffh6v77Z4jJgZHi/9bOizt+ydb9jmDDl/g1zvz1y4bvqTHC/KGeEzBAta7+UfgqLP4Zlv2AaUMGy8V+/OK8GlaljVL8g31hEE7dBvwCzEC+c4yQ/MJmFQO6eTD942OdicY5aP3zcgfoSSnA/hwFB889Jhj8yGlcu5KmWP37FGi5yT6I/Qlx23n+Rqj8xIQLo2SeyPzLpdd+/5rc/NlI6gX6Zvj/sJ9iJD0/CP7iSAcZRfsI/RrOH/Wvnvz/ReUHPXOO5P0j9rjV/P7Q/EISHECeVrj+YZoAswE6mP+a49chW/54/sC5mxPdQkz/H/vFq/LaCP5i8Ir3GfFk/AeIKPd3fcr+UOa7vUMeGvyZnoGpfvZK/tJVdCKf5mL/t3WnqMdydv7IaqFvYRKG/lerc3+Iio7+uHj7MgY6jvyv696QJl6K/Ah2Yqlwyob/GzMJ+1lOfvyHRUM9+BZy/2IiGDxmBmL8mV3y9XsWUv7iSItQ64ZC/TnIXi+Wpib9UuodK+1SBvzYmwH+evnG/gJrWWJAOKb8wX2XMoENwP0Ndo+LRn4A/tjWwef8diT/kIdtTXNeQP8jTWXmHLJU/Js+YMVyQmT/Ktl+AdQOeP7S6/TugQaE/7gfZBcWHoz/WRjrYotKlPzkDcnU/KKg/hm82XRyDqj/eaf3wnd+sPzU0hLTdPK8/DiuBOR/DsD9ndcHMttSxP0SXP/izzLI/HkZhR36lsz8Y9NanuWi0PwoZb/uDILU/3/PQMuPRtT+a/dC4r4S2Pw5+/lUpOLc/\",\"dtype\":\"float64\",\"shape\":[75]},\"y\":{\"__ndarray__\":\"GhExyth1ND/Sv8nbtpRIP2vylNV0PVE/aTum7souWD/At0SJ8fVgPw3Iuahxymc/MSNhhJWvcD/bTfBN02d3P2zb5nxnaoA/CD5h5MAGhz8NmeH1TyaQP+zrCsc9p5Y/LbKd76fGnz/bLW5ISEmmPww9YvTcQq8/JV2OstnstT8Er5Y7M8G+P0c+r3jqkcU/5h99k6ZBzj88bCIzFzjVP4enV8oyxN0//yH99nXg5D8qOpLLf0jtP5kqGJXUifQ/c9cS8kHP/D+/DpwzojQEQIEmwoanVwxA4lgXt9HgE0BSSZ2AJuIbQAMJih9jjiNA5q4l5INuK0AwTKYKRj0zQNv5fmq8/DpAaCJseHrtQkB/+zpwzoxKQM3MzMzMeFJAZmZmZmZqWEAAAAAAAFxeQM3MzMzMJmJAmpmZmZkfZUBmZmZmZhhoQDMzMzMzEWtAAAAAAAAKbkBmZmZmZoFwQM3MzMzM/XFAMzMzMzN6c0CamZmZmfZ0QAAAAAAAc3ZAZmZmZmbvd0DNzMzMzGt5QDMzMzMz6HpAmpmZmZlkfEAAAAAAAOF9QGZmZmZmXX9AZmZmZuZsgECamZmZGSuBQM3MzMxM6YFAAAAAAICngkAzMzMzs2WDQGZmZmbmI4RAmpmZmRnihEDNzMzMTKCFQAAAAACAXoZAMzMzM7Mch0BmZmZm5tqHQJqZmZkZmYhAzczMzExXiUAAAAAAgBWKQDMzMzOz04pAZmZmZuaRi0CamZmZGVCMQM3MzMxMDo1AAAAAAIDMjUAzMzMzs4qOQGZmZmbmSI9A\",\"dtype\":\"float64\",\"shape\":[75]}},\"selected\":{\"id\":\"2556540f-9ce2-45ec-9826-33f502b9c1b2\",\"type\":\"Selection\"},\"selection_policy\":{\"id\":\"fb82a88b-4532-4f98-bb63-6ab6f00fb685\",\"type\":\"UnionRenderers\"}},\"id\":\"7241fb28-0c16-4ea9-9858-3ad17a289deb\",\"type\":\"ColumnDataSource\"},{\"attributes\":{\"line_color\":\"#4daf4a\",\"line_width\":1.5,\"x\":{\"field\":\"x\"},\"y\":{\"field\":\"y\"}},\"id\":\"b410e4f2-8155-4cb0-8f0e-032dba037c11\",\"type\":\"Line\"},{\"attributes\":{\"data_source\":{\"id\":\"27fe59b7-f94a-4ba3-944c-e2ee4fc1eb28\",\"type\":\"ColumnDataSource\"},\"glyph\":{\"id\":\"45ef1504-c5ef-4fb0-a4a9-93876482b0fe\",\"type\":\"Circle\"},\"hover_glyph\":null,\"muted_glyph\":null,\"nonselection_glyph\":{\"id\":\"279b7f69-716f-4c07-8fd7-fab63e2329e9\",\"type\":\"Circle\"},\"selection_glyph\":null,\"view\":{\"id\":\"07a91c3b-dff2-4568-bac3-6f143feed07c\",\"type\":\"CDSView\"}},\"id\":\"86de4fba-3196-43ba-a1d9-7460d5b5bdeb\",\"type\":\"GlyphRenderer\"},{\"attributes\":{\"data_source\":{\"id\":\"db36f18f-e2a4-48c6-97f7-48c3c99c2ae5\",\"type\":\"ColumnDataSource\"},\"glyph\":{\"id\":\"048115f7-e085-4ce6-ab0f-169b663abb07\",\"type\":\"Line\"},\"hover_glyph\":null,\"muted_glyph\":null,\"nonselection_glyph\":{\"id\":\"d831af78-bca5-416d-812f-196d3ceb08f1\",\"type\":\"Line\"},\"selection_glyph\":null,\"view\":{\"id\":\"708fbaeb-fda9-4c9f-8727-4db8ef097a29\",\"type\":\"CDSView\"}},\"id\":\"c18f23db-89e7-4b67-86c0-01c783b6356d\",\"type\":\"GlyphRenderer\"},{\"attributes\":{},\"id\":\"726cfeb1-d48a-4a4a-b7f0-5bc962ae6231\",\"type\":\"BasicTicker\"},{\"attributes\":{\"line_alpha\":0.8,\"line_color\":\"#984ea3\",\"line_width\":1.5,\"x\":{\"field\":\"x\"},\"y\":{\"field\":\"y\"}},\"id\":\"048115f7-e085-4ce6-ab0f-169b663abb07\",\"type\":\"Line\"},{\"attributes\":{\"num_minor_ticks\":10},\"id\":\"f00b1ca4-f04e-43c9-913e-41db333549b0\",\"type\":\"LogTicker\"},{\"attributes\":{\"source\":{\"id\":\"c668ab82-eb81-425a-943f-0170fa88a655\",\"type\":\"ColumnDataSource\"}},\"id\":\"6a86bd05-647b-4b57-aa13-981653a53faf\",\"type\":\"CDSView\"},{\"attributes\":{\"data_source\":{\"id\":\"c668ab82-eb81-425a-943f-0170fa88a655\",\"type\":\"ColumnDataSource\"},\"glyph\":{\"id\":\"3440c0e9-4f5f-4c85-911f-2dd8f1f63641\",\"type\":\"Circle\"},\"hover_glyph\":null,\"muted_glyph\":null,\"nonselection_glyph\":{\"id\":\"4396d7d0-28dd-4343-befc-7d835a62a537\",\"type\":\"Circle\"},\"selection_glyph\":null,\"view\":{\"id\":\"6a86bd05-647b-4b57-aa13-981653a53faf\",\"type\":\"CDSView\"}},\"id\":\"de21428a-d35b-45d5-9e85-2512c3faea4c\",\"type\":\"GlyphRenderer\"},{\"attributes\":{},\"id\":\"b4483245-957e-49d6-8bb8-809d35c6d40a\",\"type\":\"PanTool\"},{\"attributes\":{},\"id\":\"aa63f449-5933-4d20-b8cd-4b764ca91d96\",\"type\":\"WheelZoomTool\"},{\"attributes\":{\"plot\":{\"id\":\"2d101007-b45f-4750-8df9-755930e4364a\",\"subtype\":\"Figure\",\"type\":\"Plot\"},\"ticker\":{\"id\":\"e2b02421-36ef-40c6-85cf-b6ae0af186db\",\"type\":\"BasicTicker\"}},\"id\":\"f488a954-24a4-4096-8d1a-0d0f4a725774\",\"type\":\"Grid\"},{\"attributes\":{\"line_alpha\":0.6,\"line_color\":\"#e41a1c\",\"line_dash\":[6],\"line_width\":5,\"x\":{\"field\":\"x\"},\"y\":{\"field\":\"y\"}},\"id\":\"5961f860-3197-4ac8-a4b7-0b47ff992f31\",\"type\":\"Line\"},{\"attributes\":{\"fill_alpha\":{\"value\":0.7},\"fill_color\":{\"value\":\"#4daf4a\"},\"line_alpha\":{\"value\":0.7},\"line_color\":{\"value\":\"#4daf4a\"},\"x\":{\"field\":\"x\"},\"y\":{\"field\":\"y\"}},\"id\":\"45ef1504-c5ef-4fb0-a4a9-93876482b0fe\",\"type\":\"Circle\"},{\"attributes\":{},\"id\":\"43911b72-aa50-4008-9946-3d3be8082a57\",\"type\":\"Selection\"},{\"attributes\":{\"data_source\":{\"id\":\"d6168423-8026-4496-a429-9d63cb6ae767\",\"type\":\"ColumnDataSource\"},\"glyph\":{\"id\":\"83831634-7076-45fc-96c0-2d4ee83fea4a\",\"type\":\"Circle\"},\"hover_glyph\":null,\"muted_glyph\":null,\"nonselection_glyph\":{\"id\":\"669352d1-11aa-45e2-8351-fd9a543dc18f\",\"type\":\"Circle\"},\"selection_glyph\":null,\"view\":{\"id\":\"67fefc45-b901-46c2-add3-d729ac989254\",\"type\":\"CDSView\"}},\"id\":\"458528fa-1bae-41c3-8dcf-b5faccb2fcbc\",\"type\":\"GlyphRenderer\"},{\"attributes\":{\"fill_alpha\":{\"value\":0.1},\"fill_color\":{\"value\":\"#1f77b4\"},\"line_alpha\":{\"value\":0.1},\"line_color\":{\"value\":\"#1f77b4\"},\"x\":{\"field\":\"x\"},\"y\":{\"field\":\"y\"}},\"id\":\"279b7f69-716f-4c07-8fd7-fab63e2329e9\",\"type\":\"Circle\"},{\"attributes\":{\"fill_alpha\":{\"value\":0.1},\"fill_color\":{\"value\":\"#1f77b4\"},\"line_alpha\":{\"value\":0.1},\"line_color\":{\"value\":\"#1f77b4\"},\"x\":{\"field\":\"x\"},\"y\":{\"field\":\"y\"}},\"id\":\"669352d1-11aa-45e2-8351-fd9a543dc18f\",\"type\":\"Circle\"},{\"attributes\":{\"line_color\":\"#4daf4a\",\"line_width\":1.5,\"x\":{\"field\":\"x\"},\"y\":{\"field\":\"y\"}},\"id\":\"21fadf21-b53c-4b16-961a-275637875752\",\"type\":\"Line\"},{\"attributes\":{\"source\":{\"id\":\"d6168423-8026-4496-a429-9d63cb6ae767\",\"type\":\"ColumnDataSource\"}},\"id\":\"67fefc45-b901-46c2-add3-d729ac989254\",\"type\":\"CDSView\"},{\"attributes\":{\"callback\":null,\"data\":{\"x\":{\"__ndarray__\":\"CGBfAFyvor9lCagIrHqiv/2KvylIBaK/j8wRnHSHob8YBPjlSgihv94HCj45iqC/6cZGqCoQoL/C4i7KhS2fvx6p1CG9RZ6/EBw7k7tpnb+xHh+/w6Wcv/4sGhJ+AJy/wSXvQP6Jm78Q0zSjPD6bv80Ld3erypi/mAXfHytLj78AR7+A1cYlv7uxu2AyRZI/J7jubOPdoz8OPfwRkyuwP5gi0Mvuarc/ijI/Kgrjvz8NCdOIfajDPylmsO7HScM/IY5wuGGkvj/4sPj8Gaa2Pw4498nkY7A/Hdz2bSPGpz8cDJZmyrmhPwjP6CxKAJs/M0vmx8TOkz/35XG9Eu2JP/EQqA8WSH0/maJJW/2VZD9v/WM9jzNovzfWzLlXT4O/dlZ798+jjr+e0HL39deTvwzFRxNJ3pi/pXxX8Bp1nb/wW5oLtrKev+Bttbn3kZy/hFzQnCjSmb8SkNJUpguXv4KW5qvNMZS/wKtKuIs6kb8gK217/0KMv0QAZjFHzIW/HY3dYwQrfr9rS4yBT1Vwv+BLq09gW0K/HgXMVvd8Zz+R7siZZKt5P8YiU+MBw4M/g/ghhf24ij+z8kS5eOSQP+iSOE8ff5Q/taoSFQQwmD9pdIN4j/mbPwhflZSG3Z8/qsFXGzPuoT/+cs3nU/yjP0kEff6IGqY/Uv5TSRtJqD9gndpOmIaqP75JGnb0zKw/tREQEvALrz/SkAUNfJOwP7VGtlNwgbE/q3IEHWtOsj9ll+KJpAazP7xfmFtAubM/uw34ac1wtD/hr0ia3zO1P8TpQLCMCLY/\",\"dtype\":\"float64\",\"shape\":[75]},\"y\":{\"__ndarray__\":\"GhExyth1ND/Sv8nbtpRIP2vylNV0PVE/aTum7souWD/At0SJ8fVgPw3Iuahxymc/MSNhhJWvcD/bTfBN02d3P2zb5nxnaoA/CD5h5MAGhz8NmeH1TyaQP+zrCsc9p5Y/LbKd76fGnz/bLW5ISEmmPww9YvTcQq8/JV2OstnstT8Er5Y7M8G+P0c+r3jqkcU/5h99k6ZBzj88bCIzFzjVP4enV8oyxN0//yH99nXg5D8qOpLLf0jtP5kqGJXUifQ/c9cS8kHP/D+/DpwzojQEQIEmwoanVwxA4lgXt9HgE0BSSZ2AJuIbQAMJih9jjiNA5q4l5INuK0AwTKYKRj0zQNv5fmq8/DpAaCJseHrtQkB/+zpwzoxKQM3MzMzMeFJAZmZmZmZqWEAAAAAAAFxeQM3MzMzMJmJAmpmZmZkfZUBmZmZmZhhoQDMzMzMzEWtAAAAAAAAKbkBmZmZmZoFwQM3MzMzM/XFAMzMzMzN6c0CamZmZmfZ0QAAAAAAAc3ZAZmZmZmbvd0DNzMzMzGt5QDMzMzMz6HpAmpmZmZlkfEAAAAAAAOF9QGZmZmZmXX9AZmZmZuZsgECamZmZGSuBQM3MzMxM6YFAAAAAAICngkAzMzMzs2WDQGZmZmbmI4RAmpmZmRnihEDNzMzMTKCFQAAAAACAXoZAMzMzM7Mch0BmZmZm5tqHQJqZmZkZmYhAzczMzExXiUAAAAAAgBWKQDMzMzOz04pAZmZmZuaRi0CamZmZGVCMQM3MzMxMDo1AAAAAAIDMjUAzMzMzs4qOQGZmZmbmSI9A\",\"dtype\":\"float64\",\"shape\":[75]}},\"selected\":{\"id\":\"c8f681ac-0c76-4d5f-9d6c-c96a7eae44b0\",\"type\":\"Selection\"},\"selection_policy\":{\"id\":\"5f231a1c-984a-4bde-b036-56c7f453eea3\",\"type\":\"UnionRenderers\"}},\"id\":\"a4ebed41-b1be-4ff0-8583-519a35e110c9\",\"type\":\"ColumnDataSource\"},{\"attributes\":{\"ticker\":null},\"id\":\"0002d9da-8a8c-4e74-aab3-f98c1331f37b\",\"type\":\"LogTickFormatter\"},{\"attributes\":{},\"id\":\"5f231a1c-984a-4bde-b036-56c7f453eea3\",\"type\":\"UnionRenderers\"},{\"attributes\":{\"callback\":null,\"data\":{\"x\":{\"__ndarray__\":\"CGBfAFyvor9lCagIrHqiv/2KvylIBaK/j8wRnHSHob8YBPjlSgihv94HCj45iqC/6cZGqCoQoL/C4i7KhS2fvx6p1CG9RZ6/EBw7k7tpnb+xHh+/w6Wcv/4sGhJ+AJy/wSXvQP6Jm78Q0zSjPD6bv80Ld3erypi/mAXfHytLj78AR7+A1cYlv7uxu2AyRZI/J7jubOPdoz8OPfwRkyuwP5gi0Mvuarc/ijI/Kgrjvz8NCdOIfajDPylmsO7HScM/IY5wuGGkvj/4sPj8Gaa2Pw4498nkY7A/Hdz2bSPGpz8cDJZmyrmhPwjP6CxKAJs/M0vmx8TOkz/35XG9Eu2JP/EQqA8WSH0/maJJW/2VZD9v/WM9jzNovzfWzLlXT4O/dlZ798+jjr+e0HL39deTvwzFRxNJ3pi/pXxX8Bp1nb/wW5oLtrKev+Bttbn3kZy/hFzQnCjSmb8SkNJUpguXv4KW5qvNMZS/wKtKuIs6kb8gK217/0KMv0QAZjFHzIW/HY3dYwQrfr9rS4yBT1Vwv+BLq09gW0K/HgXMVvd8Zz+R7siZZKt5P8YiU+MBw4M/g/ghhf24ij+z8kS5eOSQP+iSOE8ff5Q/taoSFQQwmD9pdIN4j/mbPwhflZSG3Z8/qsFXGzPuoT/+cs3nU/yjP0kEff6IGqY/Uv5TSRtJqD9gndpOmIaqP75JGnb0zKw/tREQEvALrz/SkAUNfJOwP7VGtlNwgbE/q3IEHWtOsj9ll+KJpAazP7xfmFtAubM/uw34ac1wtD/hr0ia3zO1P8TpQLCMCLY/\",\"dtype\":\"float64\",\"shape\":[75]},\"y\":{\"__ndarray__\":\"GhExyth1ND/Sv8nbtpRIP2vylNV0PVE/aTum7souWD/At0SJ8fVgPw3Iuahxymc/MSNhhJWvcD/bTfBN02d3P2zb5nxnaoA/CD5h5MAGhz8NmeH1TyaQP+zrCsc9p5Y/LbKd76fGnz/bLW5ISEmmPww9YvTcQq8/JV2OstnstT8Er5Y7M8G+P0c+r3jqkcU/5h99k6ZBzj88bCIzFzjVP4enV8oyxN0//yH99nXg5D8qOpLLf0jtP5kqGJXUifQ/c9cS8kHP/D+/DpwzojQEQIEmwoanVwxA4lgXt9HgE0BSSZ2AJuIbQAMJih9jjiNA5q4l5INuK0AwTKYKRj0zQNv5fmq8/DpAaCJseHrtQkB/+zpwzoxKQM3MzMzMeFJAZmZmZmZqWEAAAAAAAFxeQM3MzMzMJmJAmpmZmZkfZUBmZmZmZhhoQDMzMzMzEWtAAAAAAAAKbkBmZmZmZoFwQM3MzMzM/XFAMzMzMzN6c0CamZmZmfZ0QAAAAAAAc3ZAZmZmZmbvd0DNzMzMzGt5QDMzMzMz6HpAmpmZmZlkfEAAAAAAAOF9QGZmZmZmXX9AZmZmZuZsgECamZmZGSuBQM3MzMxM6YFAAAAAAICngkAzMzMzs2WDQGZmZmbmI4RAmpmZmRnihEDNzMzMTKCFQAAAAACAXoZAMzMzM7Mch0BmZmZm5tqHQJqZmZkZmYhAzczMzExXiUAAAAAAgBWKQDMzMzOz04pAZmZmZuaRi0CamZmZGVCMQM3MzMxMDo1AAAAAAIDMjUAzMzMzs4qOQGZmZmbmSI9A\",\"dtype\":\"float64\",\"shape\":[75]}},\"selected\":{\"id\":\"8afcf46c-833c-4e57-8388-20b60e78697f\",\"type\":\"Selection\"},\"selection_policy\":{\"id\":\"1532d1b2-0e16-42b2-bfc1-c3c3177915a0\",\"type\":\"UnionRenderers\"}},\"id\":\"d6168423-8026-4496-a429-9d63cb6ae767\",\"type\":\"ColumnDataSource\"},{\"attributes\":{\"active_drag\":\"auto\",\"active_inspect\":\"auto\",\"active_scroll\":\"auto\",\"active_tap\":\"auto\",\"tools\":[{\"id\":\"a3401aa9-002f-479a-ba1d-4055ab8e3ee1\",\"type\":\"PanTool\"},{\"id\":\"aa63f449-5933-4d20-b8cd-4b764ca91d96\",\"type\":\"WheelZoomTool\"},{\"id\":\"7a1d1940-82f6-453e-b228-0b62aa6aaaf9\",\"type\":\"BoxZoomTool\"},{\"id\":\"fd1786fa-8a20-4220-ba4d-c6ed81e4422b\",\"type\":\"SaveTool\"},{\"id\":\"6e81b0b2-76df-4b41-a5ba-542297078cfb\",\"type\":\"ResetTool\"},{\"id\":\"0da0298a-e4d3-4e94-8930-f41807271f28\",\"type\":\"HelpTool\"}]},\"id\":\"f74bf701-622f-45ec-8607-aef61ed6a3c0\",\"type\":\"Toolbar\"},{\"attributes\":{\"source\":{\"id\":\"2ca2ef9e-824a-4b1e-ad2a-bf97c003299b\",\"type\":\"ColumnDataSource\"}},\"id\":\"05a91030-e1a9-4997-8d89-35d3afa1d519\",\"type\":\"CDSView\"},{\"attributes\":{\"data_source\":{\"id\":\"2ca2ef9e-824a-4b1e-ad2a-bf97c003299b\",\"type\":\"ColumnDataSource\"},\"glyph\":{\"id\":\"5961f860-3197-4ac8-a4b7-0b47ff992f31\",\"type\":\"Line\"},\"hover_glyph\":null,\"muted_glyph\":null,\"nonselection_glyph\":{\"id\":\"18230b97-37a7-4f40-9e48-adcc8a1eb39a\",\"type\":\"Line\"},\"selection_glyph\":null,\"view\":{\"id\":\"05a91030-e1a9-4997-8d89-35d3afa1d519\",\"type\":\"CDSView\"}},\"id\":\"b3cdb6c1-8c3d-4826-b3d2-e9e5b34bce68\",\"type\":\"GlyphRenderer\"},{\"attributes\":{\"callback\":null,\"data\":{\"x\":{\"__ndarray__\":\"CGBfAFyvor9lCagIrHqiv/2KvylIBaK/j8wRnHSHob8YBPjlSgihv94HCj45iqC/6cZGqCoQoL/C4i7KhS2fvx6p1CG9RZ6/EBw7k7tpnb+xHh+/w6Wcv/4sGhJ+AJy/wSXvQP6Jm78Q0zSjPD6bv80Ld3erypi/mAXfHytLj78AR7+A1cYlv7uxu2AyRZI/J7jubOPdoz8OPfwRkyuwP5gi0Mvuarc/ijI/Kgrjvz8NCdOIfajDPylmsO7HScM/IY5wuGGkvj/4sPj8Gaa2Pw4498nkY7A/Hdz2bSPGpz8cDJZmyrmhPwjP6CxKAJs/M0vmx8TOkz/35XG9Eu2JP/EQqA8WSH0/maJJW/2VZD9v/WM9jzNovzfWzLlXT4O/dlZ798+jjr+e0HL39deTvwzFRxNJ3pi/pXxX8Bp1nb/wW5oLtrKev+Bttbn3kZy/hFzQnCjSmb8SkNJUpguXv4KW5qvNMZS/wKtKuIs6kb8gK217/0KMv0QAZjFHzIW/HY3dYwQrfr9rS4yBT1Vwv+BLq09gW0K/HgXMVvd8Zz+R7siZZKt5P8YiU+MBw4M/g/ghhf24ij+z8kS5eOSQP+iSOE8ff5Q/taoSFQQwmD9pdIN4j/mbPwhflZSG3Z8/qsFXGzPuoT/+cs3nU/yjP0kEff6IGqY/Uv5TSRtJqD9gndpOmIaqP75JGnb0zKw/tREQEvALrz/SkAUNfJOwP7VGtlNwgbE/q3IEHWtOsj9ll+KJpAazP7xfmFtAubM/uw34ac1wtD/hr0ia3zO1P8TpQLCMCLY/\",\"dtype\":\"float64\",\"shape\":[75]},\"y\":{\"__ndarray__\":\"GhExyth1ND/Sv8nbtpRIP2vylNV0PVE/aTum7souWD/At0SJ8fVgPw3Iuahxymc/MSNhhJWvcD/bTfBN02d3P2zb5nxnaoA/CD5h5MAGhz8NmeH1TyaQP+zrCsc9p5Y/LbKd76fGnz/bLW5ISEmmPww9YvTcQq8/JV2OstnstT8Er5Y7M8G+P0c+r3jqkcU/5h99k6ZBzj88bCIzFzjVP4enV8oyxN0//yH99nXg5D8qOpLLf0jtP5kqGJXUifQ/c9cS8kHP/D+/DpwzojQEQIEmwoanVwxA4lgXt9HgE0BSSZ2AJuIbQAMJih9jjiNA5q4l5INuK0AwTKYKRj0zQNv5fmq8/DpAaCJseHrtQkB/+zpwzoxKQM3MzMzMeFJAZmZmZmZqWEAAAAAAAFxeQM3MzMzMJmJAmpmZmZkfZUBmZmZmZhhoQDMzMzMzEWtAAAAAAAAKbkBmZmZmZoFwQM3MzMzM/XFAMzMzMzN6c0CamZmZmfZ0QAAAAAAAc3ZAZmZmZmbvd0DNzMzMzGt5QDMzMzMz6HpAmpmZmZlkfEAAAAAAAOF9QGZmZmZmXX9AZmZmZuZsgECamZmZGSuBQM3MzMxM6YFAAAAAAICngkAzMzMzs2WDQGZmZmbmI4RAmpmZmRnihEDNzMzMTKCFQAAAAACAXoZAMzMzM7Mch0BmZmZm5tqHQJqZmZkZmYhAzczMzExXiUAAAAAAgBWKQDMzMzOz04pAZmZmZuaRi0CamZmZGVCMQM3MzMxMDo1AAAAAAIDMjUAzMzMzs4qOQGZmZmbmSI9A\",\"dtype\":\"float64\",\"shape\":[75]}},\"selected\":{\"id\":\"173f8a50-9f0a-4477-87c7-64c8daf0be25\",\"type\":\"Selection\"},\"selection_policy\":{\"id\":\"328621c2-2a22-4827-8587-9e860873f17e\",\"type\":\"UnionRenderers\"}},\"id\":\"27fe59b7-f94a-4ba3-944c-e2ee4fc1eb28\",\"type\":\"ColumnDataSource\"},{\"attributes\":{\"fill_alpha\":{\"value\":0.7},\"fill_color\":{\"value\":\"#4daf4a\"},\"line_alpha\":{\"value\":0.7},\"line_color\":{\"value\":\"#4daf4a\"},\"x\":{\"field\":\"x\"},\"y\":{\"field\":\"y\"}},\"id\":\"83831634-7076-45fc-96c0-2d4ee83fea4a\",\"type\":\"Circle\"},{\"attributes\":{\"line_alpha\":0.1,\"line_color\":\"#1f77b4\",\"line_width\":1.5,\"x\":{\"field\":\"x\"},\"y\":{\"field\":\"y\"}},\"id\":\"52edcf42-536b-4e52-b025-9dbbd9edaeaf\",\"type\":\"Line\"},{\"attributes\":{\"data_source\":{\"id\":\"a4ebed41-b1be-4ff0-8583-519a35e110c9\",\"type\":\"ColumnDataSource\"},\"glyph\":{\"id\":\"21fadf21-b53c-4b16-961a-275637875752\",\"type\":\"Line\"},\"hover_glyph\":null,\"muted_glyph\":null,\"nonselection_glyph\":{\"id\":\"52edcf42-536b-4e52-b025-9dbbd9edaeaf\",\"type\":\"Line\"},\"selection_glyph\":null,\"view\":{\"id\":\"ac23009e-8e17-4f16-85b6-ccd284a73b99\",\"type\":\"CDSView\"}},\"id\":\"7547629e-9dc7-4d8b-b1be-7b16b1d8b717\",\"type\":\"GlyphRenderer\"},{\"attributes\":{\"line_alpha\":0.6,\"line_color\":\"#e41a1c\",\"line_dash\":[6],\"line_width\":5,\"x\":{\"field\":\"x\"},\"y\":{\"field\":\"y\"}},\"id\":\"71378fe7-abcf-48f6-a78d-6c83a12842e3\",\"type\":\"Line\"},{\"attributes\":{\"items\":[{\"id\":\"5332cbc8-b04c-489b-a67a-2615c0c31467\",\"type\":\"LegendItem\"}],\"label_text_font_size\":{\"value\":\"8pt\"},\"location\":\"top_center\",\"orientation\":\"horizontal\",\"plot\":{\"id\":\"7eb05ee8-30e6-4f82-af41-43b955730014\",\"subtype\":\"Figure\",\"type\":\"Plot\"}},\"id\":\"b8f37f17-c456-4ee3-ac4b-e88894d92d8a\",\"type\":\"Legend\"},{\"attributes\":{\"source\":{\"id\":\"a4ebed41-b1be-4ff0-8583-519a35e110c9\",\"type\":\"ColumnDataSource\"}},\"id\":\"ac23009e-8e17-4f16-85b6-ccd284a73b99\",\"type\":\"CDSView\"},{\"attributes\":{\"line_alpha\":0.1,\"line_color\":\"#1f77b4\",\"line_dash\":[6],\"line_width\":5,\"x\":{\"field\":\"x\"},\"y\":{\"field\":\"y\"}},\"id\":\"13b33eda-a151-4e39-bbaf-4b0b1b7a08ec\",\"type\":\"Line\"},{\"attributes\":{\"label\":{\"value\":\"CLIRAD\"},\"renderers\":[{\"id\":\"b3cdb6c1-8c3d-4826-b3d2-e9e5b34bce68\",\"type\":\"GlyphRenderer\"}]},\"id\":\"cd7a1c6f-2d05-42f3-824b-6d3d3d54ddf2\",\"type\":\"LegendItem\"},{\"attributes\":{},\"id\":\"c8f681ac-0c76-4d5f-9d6c-c96a7eae44b0\",\"type\":\"Selection\"},{\"attributes\":{\"label\":{\"value\":\"CRD\"},\"renderers\":[{\"id\":\"458528fa-1bae-41c3-8dcf-b5faccb2fcbc\",\"type\":\"GlyphRenderer\"},{\"id\":\"7547629e-9dc7-4d8b-b1be-7b16b1d8b717\",\"type\":\"GlyphRenderer\"}]},\"id\":\"893d29ca-9ccd-462e-a018-18cf2aff05b6\",\"type\":\"LegendItem\"},{\"attributes\":{},\"id\":\"9a178c3e-e472-4345-a92d-199cc70cfe4a\",\"type\":\"Selection\"},{\"attributes\":{\"label\":{\"value\":\"CRD\"},\"renderers\":[{\"id\":\"86de4fba-3196-43ba-a1d9-7460d5b5bdeb\",\"type\":\"GlyphRenderer\"},{\"id\":\"73652028-064d-4aac-9c34-7f2955036776\",\"type\":\"GlyphRenderer\"}]},\"id\":\"7dc9a374-85f0-4232-ba56-9d1ab5596e8c\",\"type\":\"LegendItem\"},{\"attributes\":{\"plot\":null,\"text\":\"\"},\"id\":\"7a8316aa-3a10-4f7f-bd64-d98d60532c36\",\"type\":\"Title\"},{\"attributes\":{},\"id\":\"e1434dd8-593e-4160-b0bb-a17b7dfea676\",\"type\":\"BasicTickFormatter\"},{\"attributes\":{},\"id\":\"8ae715d9-b236-4a46-9e84-686067cce0df\",\"type\":\"UnionRenderers\"},{\"attributes\":{},\"id\":\"8afcf46c-833c-4e57-8388-20b60e78697f\",\"type\":\"Selection\"},{\"attributes\":{\"active_drag\":\"auto\",\"active_inspect\":\"auto\",\"active_scroll\":\"auto\",\"active_tap\":\"auto\",\"tools\":[{\"id\":\"b4483245-957e-49d6-8bb8-809d35c6d40a\",\"type\":\"PanTool\"},{\"id\":\"dcc3892a-6498-4071-b2c0-675322848418\",\"type\":\"WheelZoomTool\"},{\"id\":\"1a653586-e63e-4db0-ab8b-d60ef465df80\",\"type\":\"BoxZoomTool\"},{\"id\":\"5c4bd4c2-f9f4-4918-9442-3e03702a9378\",\"type\":\"SaveTool\"},{\"id\":\"e5730138-74f2-4ce5-80a1-1569bfa8456e\",\"type\":\"ResetTool\"},{\"id\":\"5022e9f8-28ae-41b8-a0f2-1748ab3a5492\",\"type\":\"HelpTool\"}]},\"id\":\"41e66054-6362-4b2d-a6c6-3762006f214e\",\"type\":\"Toolbar\"},{\"attributes\":{},\"id\":\"df8d99dc-d759-43b9-a45d-359328126c17\",\"type\":\"UnionRenderers\"},{\"attributes\":{\"source\":{\"id\":\"7241fb28-0c16-4ea9-9858-3ad17a289deb\",\"type\":\"ColumnDataSource\"}},\"id\":\"2c09687a-9a96-464c-9fcd-1e0dae5c862d\",\"type\":\"CDSView\"},{\"attributes\":{},\"id\":\"dbbbdcaa-3ead-48e2-9111-d5c5aeaae49c\",\"type\":\"BasicTickFormatter\"},{\"attributes\":{\"tools\":[{\"id\":\"2137e448-1afe-474d-aa18-c3f16641a94d\",\"type\":\"PanTool\"},{\"id\":\"e705dce0-3ee6-4ba9-8a20-0f09bc37a171\",\"type\":\"WheelZoomTool\"},{\"id\":\"51a04874-fe30-45eb-bfbc-89764fe1ea7b\",\"type\":\"BoxZoomTool\"},{\"id\":\"6132bee2-9232-40aa-81ec-9379ca1ce845\",\"type\":\"SaveTool\"},{\"id\":\"a15d783b-e47f-418c-8624-6570bffdc73d\",\"type\":\"ResetTool\"},{\"id\":\"f83ce020-89fb-42ff-946b-1b93ab1703df\",\"type\":\"HelpTool\"},{\"id\":\"b4483245-957e-49d6-8bb8-809d35c6d40a\",\"type\":\"PanTool\"},{\"id\":\"dcc3892a-6498-4071-b2c0-675322848418\",\"type\":\"WheelZoomTool\"},{\"id\":\"1a653586-e63e-4db0-ab8b-d60ef465df80\",\"type\":\"BoxZoomTool\"},{\"id\":\"5c4bd4c2-f9f4-4918-9442-3e03702a9378\",\"type\":\"SaveTool\"},{\"id\":\"e5730138-74f2-4ce5-80a1-1569bfa8456e\",\"type\":\"ResetTool\"},{\"id\":\"5022e9f8-28ae-41b8-a0f2-1748ab3a5492\",\"type\":\"HelpTool\"},{\"id\":\"a3401aa9-002f-479a-ba1d-4055ab8e3ee1\",\"type\":\"PanTool\"},{\"id\":\"aa63f449-5933-4d20-b8cd-4b764ca91d96\",\"type\":\"WheelZoomTool\"},{\"id\":\"7a1d1940-82f6-453e-b228-0b62aa6aaaf9\",\"type\":\"BoxZoomTool\"},{\"id\":\"fd1786fa-8a20-4220-ba4d-c6ed81e4422b\",\"type\":\"SaveTool\"},{\"id\":\"6e81b0b2-76df-4b41-a5ba-542297078cfb\",\"type\":\"ResetTool\"},{\"id\":\"0da0298a-e4d3-4e94-8930-f41807271f28\",\"type\":\"HelpTool\"}]},\"id\":\"de1df3f8-233a-4cf9-a4e4-c809acc0f7ba\",\"type\":\"ProxyToolbar\"},{\"attributes\":{},\"id\":\"173f8a50-9f0a-4477-87c7-64c8daf0be25\",\"type\":\"Selection\"},{\"attributes\":{\"plot\":null,\"text\":\"\"},\"id\":\"6ce5497e-3daa-40c1-87cc-79b8659b6b86\",\"type\":\"Title\"},{\"attributes\":{\"bottom_units\":\"screen\",\"fill_alpha\":{\"value\":0.5},\"fill_color\":{\"value\":\"lightgrey\"},\"left_units\":\"screen\",\"level\":\"overlay\",\"line_alpha\":{\"value\":1.0},\"line_color\":{\"value\":\"black\"},\"line_dash\":[4,4],\"line_width\":{\"value\":2},\"plot\":null,\"render_mode\":\"css\",\"right_units\":\"screen\",\"top_units\":\"screen\"},\"id\":\"0e6be408-9f29-46b3-82f0-caea49466b9b\",\"type\":\"BoxAnnotation\"},{\"attributes\":{},\"id\":\"ab78f402-c202-4927-8f20-0dcceb6ef756\",\"type\":\"Selection\"},{\"attributes\":{\"children\":[{\"id\":\"34708f52-b78f-4d67-88bb-8333e2d4cf5b\",\"type\":\"ToolbarBox\"},{\"id\":\"9bf83031-6471-404b-93d2-44ebb7e43fe5\",\"type\":\"Column\"}]},\"id\":\"91e9a151-24ed-412c-b428-7ee1a56cad7b\",\"type\":\"Column\"},{\"attributes\":{\"callback\":null,\"data\":{\"x\":{\"__ndarray__\":\"0Vuy7oNanj8caGihUjeeP4tfxkZ48Z0/Iex6RDGinT8W4qMSFk2dPy6zG803AZ0/7gD9NrO6nD/wks3YvXycP3inv/WhRpw/HLHq+YAjnD+4V/wkCxicP2ROeEpFKpw/ilLzsvVunD+XUGO5I+ecP+yCFzYw3Zw/jwOQiX3Kmj+/mFjZcdWWP0HZefuxWZI/a5AexnHOij80Ql5gbcR/P6CmcelE9F4/MAVOkLqYdL8IEq7v35aFvyhu2hXFbnm/UFJyUaQwdD/ERkaSFuqJP9Apvl3T3I4/yp9Cig48iz/waakX11OCP+xOZ+Bk+G8/0CAH4EBzP7/AnP9JWdhsv8thX2Dk6Ha/TrOv6tsqfb84OlUgbbqAvxb4cxtnK4K/8tQ/GX5Pg7+eGu7ldwiEv67gEEjPVoO/CbHEnlWhgb/awsMZm9SAv+0MdSA3OIG/ALu/cCElgb9oeeBTYJCAv33qqI3ETn+/XXTvXDUafb9ZBhf/e496v1hKvu1c7He/fldRssYodb88KYMTp1Ryv3R5letk5m6/xm5ZXOANab/CHseah89ivx4sfgWAGVm/1Cwct+CvSb+AnaHTyjgKvyAcKEQFrUU/EEdiyIEFVj8IE+I+ME9gP/iyMBvPLWU/QGQUqB6ZaT+APc0G72RtP4D3p7ezbXA/pIkTnwjQcT/4YxYRLchyP7RTT/NJf3M/NCOSB3PScz9MSb77qxN0P/QIlUg6tHQ/MDfNpTJxdT8sy0XfUSF2P+iUa/05dHY/SGKOjVwRdj+M24ToAQ11P6hE2VvK+XI/\",\"dtype\":\"float64\",\"shape\":[75]},\"y\":{\"__ndarray__\":\"GhExyth1ND/Sv8nbtpRIP2vylNV0PVE/aTum7souWD/At0SJ8fVgPw3Iuahxymc/MSNhhJWvcD/bTfBN02d3P2zb5nxnaoA/CD5h5MAGhz8NmeH1TyaQP+zrCsc9p5Y/LbKd76fGnz/bLW5ISEmmPww9YvTcQq8/JV2OstnstT8Er5Y7M8G+P0c+r3jqkcU/5h99k6ZBzj88bCIzFzjVP4enV8oyxN0//yH99nXg5D8qOpLLf0jtP5kqGJXUifQ/c9cS8kHP/D+/DpwzojQEQIEmwoanVwxA4lgXt9HgE0BSSZ2AJuIbQAMJih9jjiNA5q4l5INuK0AwTKYKRj0zQNv5fmq8/DpAaCJseHrtQkB/+zpwzoxKQM3MzMzMeFJAZmZmZmZqWEAAAAAAAFxeQM3MzMzMJmJAmpmZmZkfZUBmZmZmZhhoQDMzMzMzEWtAAAAAAAAKbkBmZmZmZoFwQM3MzMzM/XFAMzMzMzN6c0CamZmZmfZ0QAAAAAAAc3ZAZmZmZmbvd0DNzMzMzGt5QDMzMzMz6HpAmpmZmZlkfEAAAAAAAOF9QGZmZmZmXX9AZmZmZuZsgECamZmZGSuBQM3MzMxM6YFAAAAAAICngkAzMzMzs2WDQGZmZmbmI4RAmpmZmRnihEDNzMzMTKCFQAAAAACAXoZAMzMzM7Mch0BmZmZm5tqHQJqZmZkZmYhAzczMzExXiUAAAAAAgBWKQDMzMzOz04pAZmZmZuaRi0CamZmZGVCMQM3MzMxMDo1AAAAAAIDMjUAzMzMzs4qOQGZmZmbmSI9A\",\"dtype\":\"float64\",\"shape\":[75]}},\"selected\":{\"id\":\"43911b72-aa50-4008-9946-3d3be8082a57\",\"type\":\"Selection\"},\"selection_policy\":{\"id\":\"8ae715d9-b236-4a46-9e84-686067cce0df\",\"type\":\"UnionRenderers\"}},\"id\":\"c668ab82-eb81-425a-943f-0170fa88a655\",\"type\":\"ColumnDataSource\"},{\"attributes\":{\"toolbar\":{\"id\":\"de1df3f8-233a-4cf9-a4e4-c809acc0f7ba\",\"type\":\"ProxyToolbar\"},\"toolbar_location\":\"above\"},\"id\":\"34708f52-b78f-4d67-88bb-8333e2d4cf5b\",\"type\":\"ToolbarBox\"},{\"attributes\":{\"above\":[{\"id\":\"b8f37f17-c456-4ee3-ac4b-e88894d92d8a\",\"type\":\"Legend\"}],\"below\":[{\"id\":\"c702dfe8-d2ef-4dd2-849c-7c64cb8e92f8\",\"type\":\"LinearAxis\"}],\"left\":[{\"id\":\"0a931c38-a817-4d49-a386-0d4f670a4262\",\"type\":\"LogAxis\"}],\"plot_width\":300,\"renderers\":[{\"id\":\"c702dfe8-d2ef-4dd2-849c-7c64cb8e92f8\",\"type\":\"LinearAxis\"},{\"id\":\"e8713557-f1bf-4e5e-bf98-f66522ee6885\",\"type\":\"Grid\"},{\"id\":\"0a931c38-a817-4d49-a386-0d4f670a4262\",\"type\":\"LogAxis\"},{\"id\":\"145385e7-d76a-49ad-bfa5-88fd00b23bec\",\"type\":\"Grid\"},{\"id\":\"782e0301-b8a4-49b8-81ff-a7e50114c1a0\",\"type\":\"BoxAnnotation\"},{\"id\":\"de21428a-d35b-45d5-9e85-2512c3faea4c\",\"type\":\"GlyphRenderer\"},{\"id\":\"c18f23db-89e7-4b67-86c0-01c783b6356d\",\"type\":\"GlyphRenderer\"},{\"id\":\"b8f37f17-c456-4ee3-ac4b-e88894d92d8a\",\"type\":\"Legend\"}],\"title\":{\"id\":\"6ce5497e-3daa-40c1-87cc-79b8659b6b86\",\"type\":\"Title\"},\"toolbar\":{\"id\":\"f74bf701-622f-45ec-8607-aef61ed6a3c0\",\"type\":\"Toolbar\"},\"toolbar_location\":null,\"x_range\":{\"id\":\"63f7e59b-9fa4-4518-a2ee-aebb7d910f84\",\"type\":\"Range1d\"},\"x_scale\":{\"id\":\"507acd4f-9d45-4e71-b590-918dee3d909c\",\"type\":\"LinearScale\"},\"y_range\":{\"id\":\"09dc35f5-7f0e-430f-a510-10dd6d4a0936\",\"type\":\"Range1d\"},\"y_scale\":{\"id\":\"46edd09e-c692-46d3-bae5-facafbb79ca7\",\"type\":\"LogScale\"}},\"id\":\"7eb05ee8-30e6-4f82-af41-43b955730014\",\"subtype\":\"Figure\",\"type\":\"Plot\"},{\"attributes\":{},\"id\":\"83651f47-eb96-46ef-902e-5e842eb26579\",\"type\":\"UnionRenderers\"},{\"attributes\":{\"data_source\":{\"id\":\"7241fb28-0c16-4ea9-9858-3ad17a289deb\",\"type\":\"ColumnDataSource\"},\"glyph\":{\"id\":\"71378fe7-abcf-48f6-a78d-6c83a12842e3\",\"type\":\"Line\"},\"hover_glyph\":null,\"muted_glyph\":null,\"nonselection_glyph\":{\"id\":\"13b33eda-a151-4e39-bbaf-4b0b1b7a08ec\",\"type\":\"Line\"},\"selection_glyph\":null,\"view\":{\"id\":\"2c09687a-9a96-464c-9fcd-1e0dae5c862d\",\"type\":\"CDSView\"}},\"id\":\"a1d90b08-9acf-4ce3-b04d-8990fb2736a5\",\"type\":\"GlyphRenderer\"}],\"root_ids\":[\"91e9a151-24ed-412c-b428-7ee1a56cad7b\"]},\"title\":\"Bokeh Application\",\"version\":\"0.12.16\"}};\n",
       "  var render_items = [{\"docid\":\"154ce80f-5246-4877-8eb5-a8f52ca95bba\",\"elementid\":\"e2018904-400a-4d85-80a6-9517db30a55c\",\"modelid\":\"91e9a151-24ed-412c-b428-7ee1a56cad7b\"}];\n",
       "  root.Bokeh.embed.embed_items_notebook(docs_json, render_items);\n",
       "\n",
       "  }\n",
       "  if (root.Bokeh !== undefined) {\n",
       "    embed_document(root);\n",
       "  } else {\n",
       "    var attempts = 0;\n",
       "    var timer = setInterval(function(root) {\n",
       "      if (root.Bokeh !== undefined) {\n",
       "        embed_document(root);\n",
       "        clearInterval(timer);\n",
       "      }\n",
       "      attempts++;\n",
       "      if (attempts > 100) {\n",
       "        console.log(\"Bokeh: ERROR: Unable to run BokehJS code because BokehJS library is missing\")\n",
       "        clearInterval(timer);\n",
       "      }\n",
       "    }, 10, root)\n",
       "  }\n",
       "})(window);"
      ],
      "application/vnd.bokehjs_exec.v0+json": ""
     },
     "metadata": {
      "application/vnd.bokehjs_exec.v0+json": {
       "id": "91e9a151-24ed-412c-b428-7ee1a56cad7b"
      }
     },
     "output_type": "display_data"
    },
    {
     "data": {
      "text/markdown": [
       "*FIGURE.* Cooling rates & difference."
      ],
      "text/plain": [
       "<IPython.core.display.Markdown object>"
      ]
     },
     "metadata": {},
     "output_type": "display_data"
    },
    {
     "data": {
      "text/html": [
       "<a id=\"Fluxes._mls.\"></a>"
      ],
      "text/plain": [
       "<IPython.core.display.HTML object>"
      ]
     },
     "metadata": {},
     "output_type": "display_data"
    },
    {
     "data": {
      "text/markdown": [
       "# Fluxes. mls."
      ],
      "text/plain": [
       "<IPython.core.display.Markdown object>"
      ]
     },
     "metadata": {},
     "output_type": "display_data"
    },
    {
     "data": {
      "text/html": [
       "\n",
       "<div class=\"bk-root\">\n",
       "    <div class=\"bk-plotdiv\" id=\"020753db-f65c-4e08-8de5-7eba0de78dc6\"></div>\n",
       "</div>"
      ]
     },
     "metadata": {},
     "output_type": "display_data"
    },
    {
     "data": {
      "application/javascript": [
       "(function(root) {\n",
       "  function embed_document(root) {\n",
       "    \n",
       "  var docs_json = {\"c85fc31a-02be-4106-bbc8-af7e8376aa68\":{\"roots\":{\"references\":[{\"attributes\":{\"plot\":{\"id\":\"26c6608a-d712-47bd-92c9-9f336f4a08d9\",\"subtype\":\"Figure\",\"type\":\"Plot\"},\"ticker\":{\"id\":\"edb47043-0e02-4631-9c3e-f18048834b00\",\"type\":\"CategoricalTicker\"}},\"id\":\"930071ad-2d65-469f-b0f8-db88e1bb304b\",\"type\":\"Grid\"},{\"attributes\":{},\"id\":\"f7ed3bff-2857-4ed4-9755-9867ecbd39de\",\"type\":\"LinearScale\"},{\"attributes\":{},\"id\":\"7c5c134f-ddef-4203-a8f1-04057ef22677\",\"type\":\"WheelZoomTool\"},{\"attributes\":{\"callback\":null},\"id\":\"64d27a06-49ae-40ea-ad6c-daff69bc64cc\",\"type\":\"DataRange1d\"},{\"attributes\":{\"bottom_units\":\"screen\",\"fill_alpha\":{\"value\":0.5},\"fill_color\":{\"value\":\"lightgrey\"},\"left_units\":\"screen\",\"level\":\"overlay\",\"line_alpha\":{\"value\":1.0},\"line_color\":{\"value\":\"black\"},\"line_dash\":[4,4],\"line_width\":{\"value\":2},\"plot\":null,\"render_mode\":\"css\",\"right_units\":\"screen\",\"top_units\":\"screen\"},\"id\":\"463e827d-4970-4d4b-8dfd-5a698f65f1ff\",\"type\":\"BoxAnnotation\"},{\"attributes\":{},\"id\":\"5c17c7e5-fe03-4aa9-ac0a-84330494499d\",\"type\":\"CategoricalScale\"},{\"attributes\":{\"plot\":null,\"text\":\"SFC flux. CLIRAD - CRD.\"},\"id\":\"e998f4c3-b29d-43fe-a53f-36bd0ccfa9b5\",\"type\":\"Title\"},{\"attributes\":{\"overlay\":{\"id\":\"463e827d-4970-4d4b-8dfd-5a698f65f1ff\",\"type\":\"BoxAnnotation\"}},\"id\":\"4c310e30-922d-4b1f-bffe-fca442035502\",\"type\":\"BoxZoomTool\"},{\"attributes\":{},\"id\":\"e40e2d6b-de96-4cf2-b7a3-c29391315ef7\",\"type\":\"SaveTool\"},{\"attributes\":{},\"id\":\"690ab379-4eb3-47f7-8c72-82ec4da4cd61\",\"type\":\"BasicTicker\"},{\"attributes\":{},\"id\":\"d7261234-040d-4e74-9895-1df821ec2837\",\"type\":\"BasicTickFormatter\"},{\"attributes\":{},\"id\":\"02d26c7d-e42c-483e-94cc-929065070558\",\"type\":\"ResetTool\"},{\"attributes\":{\"axis_label\":\"spectral band\",\"formatter\":{\"id\":\"39812ed4-d217-4c43-bcf5-5977560c51a8\",\"type\":\"CategoricalTickFormatter\"},\"plot\":{\"id\":\"26c6608a-d712-47bd-92c9-9f336f4a08d9\",\"subtype\":\"Figure\",\"type\":\"Plot\"},\"ticker\":{\"id\":\"edb47043-0e02-4631-9c3e-f18048834b00\",\"type\":\"CategoricalTicker\"}},\"id\":\"213213e8-963c-4e04-8ba4-53862c442d4f\",\"type\":\"CategoricalAxis\"},{\"attributes\":{},\"id\":\"48fed0b7-6b5b-4be3-99e2-c4370499029b\",\"type\":\"HelpTool\"},{\"attributes\":{\"axis_label\":\"spectral band\",\"formatter\":{\"id\":\"6b75f106-40e6-4290-9744-3b484772879f\",\"type\":\"CategoricalTickFormatter\"},\"plot\":{\"id\":\"b6042c71-b3c1-4b85-b9d2-08662ab556eb\",\"subtype\":\"Figure\",\"type\":\"Plot\"},\"ticker\":{\"id\":\"f179b400-3108-4109-bea1-89fbd600c326\",\"type\":\"CategoricalTicker\"}},\"id\":\"345ed579-954d-42b6-8485-85ad0c38a01d\",\"type\":\"CategoricalAxis\"},{\"attributes\":{},\"id\":\"4d17e364-697a-49ac-add3-323c1cab728a\",\"type\":\"Selection\"},{\"attributes\":{\"children\":[{\"id\":\"ae443540-514e-44b0-bd95-0eb10b34bdef\",\"type\":\"ToolbarBox\"},{\"id\":\"9622cefa-73b4-49a7-bccb-1cd75bb50ce2\",\"type\":\"Column\"}]},\"id\":\"58d48cd8-3dda-4458-a988-10082caee6ae\",\"type\":\"Column\"},{\"attributes\":{\"active_drag\":\"auto\",\"active_inspect\":\"auto\",\"active_scroll\":\"auto\",\"active_tap\":\"auto\",\"tools\":[{\"id\":\"d2bca473-5066-42b5-9006-f75dd0a6a164\",\"type\":\"PanTool\"},{\"id\":\"0509816c-dce3-4974-92e2-8b3c0fe511ce\",\"type\":\"WheelZoomTool\"},{\"id\":\"edcfd27d-dc21-4fc5-a32d-c51c75fa5c06\",\"type\":\"BoxZoomTool\"},{\"id\":\"b365d8fc-c615-4478-ba9b-871fece52afa\",\"type\":\"SaveTool\"},{\"id\":\"178e8d2a-d538-48cd-b84b-8dedab6fd42c\",\"type\":\"ResetTool\"},{\"id\":\"d6d92942-0acf-4c4d-b07d-61f559bcee5f\",\"type\":\"HelpTool\"}]},\"id\":\"de017bc1-9d25-4a38-8b24-353c021b01fa\",\"type\":\"Toolbar\"},{\"attributes\":{\"active_drag\":\"auto\",\"active_inspect\":\"auto\",\"active_scroll\":\"auto\",\"active_tap\":\"auto\",\"tools\":[{\"id\":\"2fbb645b-c6e9-40cc-8565-ab39e92ccf0f\",\"type\":\"PanTool\"},{\"id\":\"7c5c134f-ddef-4203-a8f1-04057ef22677\",\"type\":\"WheelZoomTool\"},{\"id\":\"4c310e30-922d-4b1f-bffe-fca442035502\",\"type\":\"BoxZoomTool\"},{\"id\":\"e40e2d6b-de96-4cf2-b7a3-c29391315ef7\",\"type\":\"SaveTool\"},{\"id\":\"02d26c7d-e42c-483e-94cc-929065070558\",\"type\":\"ResetTool\"},{\"id\":\"48fed0b7-6b5b-4be3-99e2-c4370499029b\",\"type\":\"HelpTool\"}]},\"id\":\"40898785-34e0-4017-9614-bcd93a1ab3e4\",\"type\":\"Toolbar\"},{\"attributes\":{\"callback\":null,\"factors\":[\"3\",\"9\"]},\"id\":\"b1deeee2-e2bd-4ae9-92cf-82a9c6334f8d\",\"type\":\"FactorRange\"},{\"attributes\":{},\"id\":\"0089a2d3-5359-4c9d-8636-4f3cc6679189\",\"type\":\"UnionRenderers\"},{\"attributes\":{\"toolbar\":{\"id\":\"4fd74aef-759e-4249-a75a-9eb7906bf4a7\",\"type\":\"ProxyToolbar\"},\"toolbar_location\":\"above\"},\"id\":\"ae443540-514e-44b0-bd95-0eb10b34bdef\",\"type\":\"ToolbarBox\"},{\"attributes\":{\"plot\":null,\"text\":\"TOA flux. CLIRAD - CRD.\"},\"id\":\"1e0ff06d-2d40-4707-844d-5a52146572a3\",\"type\":\"Title\"},{\"attributes\":{\"below\":[{\"id\":\"213213e8-963c-4e04-8ba4-53862c442d4f\",\"type\":\"CategoricalAxis\"}],\"left\":[{\"id\":\"0600cdb3-f8b6-4f44-8899-b9989b0e9c48\",\"type\":\"LinearAxis\"}],\"plot_height\":300,\"plot_width\":300,\"renderers\":[{\"id\":\"213213e8-963c-4e04-8ba4-53862c442d4f\",\"type\":\"CategoricalAxis\"},{\"id\":\"930071ad-2d65-469f-b0f8-db88e1bb304b\",\"type\":\"Grid\"},{\"id\":\"0600cdb3-f8b6-4f44-8899-b9989b0e9c48\",\"type\":\"LinearAxis\"},{\"id\":\"d0a889c9-7e18-4bbe-aa38-712e74f4106b\",\"type\":\"Grid\"},{\"id\":\"bf5784ac-a9f0-4d23-982a-6827aaa6892a\",\"type\":\"BoxAnnotation\"},{\"id\":\"cb238bf3-8611-4d3a-942a-45efe0c7c3a2\",\"type\":\"GlyphRenderer\"}],\"title\":{\"id\":\"1e0ff06d-2d40-4707-844d-5a52146572a3\",\"type\":\"Title\"},\"toolbar\":{\"id\":\"de017bc1-9d25-4a38-8b24-353c021b01fa\",\"type\":\"Toolbar\"},\"toolbar_location\":null,\"x_range\":{\"id\":\"b1deeee2-e2bd-4ae9-92cf-82a9c6334f8d\",\"type\":\"FactorRange\"},\"x_scale\":{\"id\":\"5c17c7e5-fe03-4aa9-ac0a-84330494499d\",\"type\":\"CategoricalScale\"},\"y_range\":{\"id\":\"64d27a06-49ae-40ea-ad6c-daff69bc64cc\",\"type\":\"DataRange1d\"},\"y_scale\":{\"id\":\"f7ed3bff-2857-4ed4-9755-9867ecbd39de\",\"type\":\"LinearScale\"}},\"id\":\"26c6608a-d712-47bd-92c9-9f336f4a08d9\",\"subtype\":\"Figure\",\"type\":\"Plot\"},{\"attributes\":{\"fill_color\":{\"value\":\"#1f77b4\"},\"line_color\":{\"value\":\"#1f77b4\"},\"top\":{\"field\":\"flux\"},\"width\":{\"value\":0.9},\"x\":{\"field\":\"band\"}},\"id\":\"c31f50fb-bee5-4c1a-9697-eba60312b6e9\",\"type\":\"VBar\"},{\"attributes\":{\"axis_label\":\"flux (W m-2)\",\"formatter\":{\"id\":\"d7261234-040d-4e74-9895-1df821ec2837\",\"type\":\"BasicTickFormatter\"},\"plot\":{\"id\":\"26c6608a-d712-47bd-92c9-9f336f4a08d9\",\"subtype\":\"Figure\",\"type\":\"Plot\"},\"ticker\":{\"id\":\"690ab379-4eb3-47f7-8c72-82ec4da4cd61\",\"type\":\"BasicTicker\"}},\"id\":\"0600cdb3-f8b6-4f44-8899-b9989b0e9c48\",\"type\":\"LinearAxis\"},{\"attributes\":{},\"id\":\"6b75f106-40e6-4290-9744-3b484772879f\",\"type\":\"CategoricalTickFormatter\"},{\"attributes\":{},\"id\":\"edb47043-0e02-4631-9c3e-f18048834b00\",\"type\":\"CategoricalTicker\"},{\"attributes\":{\"dimension\":1,\"plot\":{\"id\":\"26c6608a-d712-47bd-92c9-9f336f4a08d9\",\"subtype\":\"Figure\",\"type\":\"Plot\"},\"ticker\":{\"id\":\"690ab379-4eb3-47f7-8c72-82ec4da4cd61\",\"type\":\"BasicTicker\"}},\"id\":\"d0a889c9-7e18-4bbe-aa38-712e74f4106b\",\"type\":\"Grid\"},{\"attributes\":{\"fill_alpha\":{\"value\":0.1},\"fill_color\":{\"value\":\"#1f77b4\"},\"line_alpha\":{\"value\":0.1},\"line_color\":{\"value\":\"#1f77b4\"},\"top\":{\"field\":\"flux\"},\"width\":{\"value\":0.9},\"x\":{\"field\":\"band\"}},\"id\":\"ab5a0426-812e-47aa-9d97-4cdcb665f0c4\",\"type\":\"VBar\"},{\"attributes\":{},\"id\":\"df2aacf9-bbc3-41a7-b3b4-9a069f9062d8\",\"type\":\"Selection\"},{\"attributes\":{\"fill_color\":{\"value\":\"#1f77b4\"},\"line_color\":{\"value\":\"#1f77b4\"},\"top\":{\"field\":\"flux\"},\"width\":{\"value\":0.9},\"x\":{\"field\":\"band\"}},\"id\":\"28aba1b6-a89f-4a69-9f32-11b69f43a0ed\",\"type\":\"VBar\"},{\"attributes\":{\"overlay\":{\"id\":\"cf062a4f-6575-44a6-9cab-a54a63fe8a70\",\"type\":\"BoxAnnotation\"}},\"id\":\"f3110151-9d5f-46ae-868f-a3f177cc79d7\",\"type\":\"BoxZoomTool\"},{\"attributes\":{\"bottom_units\":\"screen\",\"fill_alpha\":{\"value\":0.5},\"fill_color\":{\"value\":\"lightgrey\"},\"left_units\":\"screen\",\"level\":\"overlay\",\"line_alpha\":{\"value\":1.0},\"line_color\":{\"value\":\"black\"},\"line_dash\":[4,4],\"line_width\":{\"value\":2},\"plot\":null,\"render_mode\":\"css\",\"right_units\":\"screen\",\"top_units\":\"screen\"},\"id\":\"bf5784ac-a9f0-4d23-982a-6827aaa6892a\",\"type\":\"BoxAnnotation\"},{\"attributes\":{},\"id\":\"765eddf4-27b5-4eef-89e5-9d382dcc2fbd\",\"type\":\"Selection\"},{\"attributes\":{},\"id\":\"d2bca473-5066-42b5-9006-f75dd0a6a164\",\"type\":\"PanTool\"},{\"attributes\":{\"data_source\":{\"id\":\"275c2509-d316-4190-a1eb-cc1eb10dca33\",\"type\":\"ColumnDataSource\"},\"glyph\":{\"id\":\"c31f50fb-bee5-4c1a-9697-eba60312b6e9\",\"type\":\"VBar\"},\"hover_glyph\":null,\"muted_glyph\":null,\"nonselection_glyph\":{\"id\":\"ab5a0426-812e-47aa-9d97-4cdcb665f0c4\",\"type\":\"VBar\"},\"selection_glyph\":null,\"view\":{\"id\":\"8da5f095-a6f6-4c7e-8ab6-00b869108851\",\"type\":\"CDSView\"}},\"id\":\"cb238bf3-8611-4d3a-942a-45efe0c7c3a2\",\"type\":\"GlyphRenderer\"},{\"attributes\":{},\"id\":\"0509816c-dce3-4974-92e2-8b3c0fe511ce\",\"type\":\"WheelZoomTool\"},{\"attributes\":{\"overlay\":{\"id\":\"bf5784ac-a9f0-4d23-982a-6827aaa6892a\",\"type\":\"BoxAnnotation\"}},\"id\":\"edcfd27d-dc21-4fc5-a32d-c51c75fa5c06\",\"type\":\"BoxZoomTool\"},{\"attributes\":{},\"id\":\"b365d8fc-c615-4478-ba9b-871fece52afa\",\"type\":\"SaveTool\"},{\"attributes\":{},\"id\":\"178e8d2a-d538-48cd-b84b-8dedab6fd42c\",\"type\":\"ResetTool\"},{\"attributes\":{\"below\":[{\"id\":\"345ed579-954d-42b6-8485-85ad0c38a01d\",\"type\":\"CategoricalAxis\"}],\"left\":[{\"id\":\"edb153df-ee94-494f-84d1-7e46e5fe51d3\",\"type\":\"LinearAxis\"}],\"plot_height\":300,\"plot_width\":300,\"renderers\":[{\"id\":\"345ed579-954d-42b6-8485-85ad0c38a01d\",\"type\":\"CategoricalAxis\"},{\"id\":\"7e319855-401e-4a52-b85c-dbfd8f84a9ea\",\"type\":\"Grid\"},{\"id\":\"edb153df-ee94-494f-84d1-7e46e5fe51d3\",\"type\":\"LinearAxis\"},{\"id\":\"59b36002-8164-407f-8794-3e705b8eb241\",\"type\":\"Grid\"},{\"id\":\"cf062a4f-6575-44a6-9cab-a54a63fe8a70\",\"type\":\"BoxAnnotation\"},{\"id\":\"bdfc34a3-48e8-477a-aeb2-15a50c9963b3\",\"type\":\"GlyphRenderer\"}],\"title\":{\"id\":\"e998f4c3-b29d-43fe-a53f-36bd0ccfa9b5\",\"type\":\"Title\"},\"toolbar\":{\"id\":\"d34f25e5-aeae-4be5-a9c9-8271699b940f\",\"type\":\"Toolbar\"},\"toolbar_location\":null,\"x_range\":{\"id\":\"e8b87272-e618-44b5-9b48-d7d0b3abac10\",\"type\":\"FactorRange\"},\"x_scale\":{\"id\":\"98585058-e385-4645-b0db-1d6543193bc0\",\"type\":\"CategoricalScale\"},\"y_range\":{\"id\":\"4aa80538-5795-466c-a4d8-893dbf1dce84\",\"type\":\"DataRange1d\"},\"y_scale\":{\"id\":\"c286bc34-1c45-4b3b-9989-604790ecf235\",\"type\":\"LinearScale\"}},\"id\":\"b6042c71-b3c1-4b85-b9d2-08662ab556eb\",\"subtype\":\"Figure\",\"type\":\"Plot\"},{\"attributes\":{\"callback\":null,\"data\":{\"band\":[\"3\",\"9\"],\"flux\":{\"__ndarray__\":\"AGhxxjAnqL+AE2OZfonGPw==\",\"dtype\":\"float64\",\"shape\":[2]}},\"selected\":{\"id\":\"4d17e364-697a-49ac-add3-323c1cab728a\",\"type\":\"Selection\"},\"selection_policy\":{\"id\":\"cff2a3e7-45b5-456d-8e3d-3b4266849096\",\"type\":\"UnionRenderers\"}},\"id\":\"275c2509-d316-4190-a1eb-cc1eb10dca33\",\"type\":\"ColumnDataSource\"},{\"attributes\":{},\"id\":\"d6d92942-0acf-4c4d-b07d-61f559bcee5f\",\"type\":\"HelpTool\"},{\"attributes\":{},\"id\":\"39812ed4-d217-4c43-bcf5-5977560c51a8\",\"type\":\"CategoricalTickFormatter\"},{\"attributes\":{\"source\":{\"id\":\"275c2509-d316-4190-a1eb-cc1eb10dca33\",\"type\":\"ColumnDataSource\"}},\"id\":\"8da5f095-a6f6-4c7e-8ab6-00b869108851\",\"type\":\"CDSView\"},{\"attributes\":{\"plot\":{\"id\":\"a4d449d4-ba47-4bba-a471-dc66080362e7\",\"subtype\":\"Figure\",\"type\":\"Plot\"},\"ticker\":{\"id\":\"eebbfa0c-5ac8-493e-a569-6a675df67f49\",\"type\":\"CategoricalTicker\"}},\"id\":\"14702be7-8665-4e1a-9887-0c0d177c57ad\",\"type\":\"Grid\"},{\"attributes\":{},\"id\":\"2398e36c-c5d2-441a-9673-3ad550dafad5\",\"type\":\"WheelZoomTool\"},{\"attributes\":{},\"id\":\"eebbfa0c-5ac8-493e-a569-6a675df67f49\",\"type\":\"CategoricalTicker\"},{\"attributes\":{\"callback\":null,\"data\":{\"band\":[\"3\",\"9\"],\"flux\":{\"__ndarray__\":\"ADDVJxR9eb/AkaxoGOOgvw==\",\"dtype\":\"float64\",\"shape\":[2]}},\"selected\":{\"id\":\"765eddf4-27b5-4eef-89e5-9d382dcc2fbd\",\"type\":\"Selection\"},\"selection_policy\":{\"id\":\"b147bfb8-4d73-487d-aab9-d450dfbc27ff\",\"type\":\"UnionRenderers\"}},\"id\":\"c2c3fa25-ffa6-4176-99f1-7711bb641861\",\"type\":\"ColumnDataSource\"},{\"attributes\":{\"dimension\":1,\"plot\":{\"id\":\"b6042c71-b3c1-4b85-b9d2-08662ab556eb\",\"subtype\":\"Figure\",\"type\":\"Plot\"},\"ticker\":{\"id\":\"d80d9a24-8d05-42f5-94f0-5ec923a7a6eb\",\"type\":\"BasicTicker\"}},\"id\":\"59b36002-8164-407f-8794-3e705b8eb241\",\"type\":\"Grid\"},{\"attributes\":{\"fill_alpha\":{\"value\":0.1},\"fill_color\":{\"value\":\"#1f77b4\"},\"line_alpha\":{\"value\":0.1},\"line_color\":{\"value\":\"#1f77b4\"},\"top\":{\"field\":\"flux\"},\"width\":{\"value\":0.9},\"x\":{\"field\":\"band\"}},\"id\":\"658e10e3-bbba-46f8-96fc-b2aa0cda92e5\",\"type\":\"VBar\"},{\"attributes\":{},\"id\":\"c7502fb7-a5d4-4740-8855-40f8dd04fa31\",\"type\":\"BasicTickFormatter\"},{\"attributes\":{},\"id\":\"b147bfb8-4d73-487d-aab9-d450dfbc27ff\",\"type\":\"UnionRenderers\"},{\"attributes\":{},\"id\":\"f179b400-3108-4109-bea1-89fbd600c326\",\"type\":\"CategoricalTicker\"},{\"attributes\":{\"callback\":null,\"factors\":[\"3\",\"9\"]},\"id\":\"e8b87272-e618-44b5-9b48-d7d0b3abac10\",\"type\":\"FactorRange\"},{\"attributes\":{},\"id\":\"d80d9a24-8d05-42f5-94f0-5ec923a7a6eb\",\"type\":\"BasicTicker\"},{\"attributes\":{\"data_source\":{\"id\":\"c2c3fa25-ffa6-4176-99f1-7711bb641861\",\"type\":\"ColumnDataSource\"},\"glyph\":{\"id\":\"28aba1b6-a89f-4a69-9f32-11b69f43a0ed\",\"type\":\"VBar\"},\"hover_glyph\":null,\"muted_glyph\":null,\"nonselection_glyph\":{\"id\":\"658e10e3-bbba-46f8-96fc-b2aa0cda92e5\",\"type\":\"VBar\"},\"selection_glyph\":null,\"view\":{\"id\":\"288b424f-766a-46c2-b95d-f86324ea94d6\",\"type\":\"CDSView\"}},\"id\":\"bdfc34a3-48e8-477a-aeb2-15a50c9963b3\",\"type\":\"GlyphRenderer\"},{\"attributes\":{\"axis_label\":\"spectral band\",\"formatter\":{\"id\":\"8be23947-11bf-4f01-9436-d70408ee7f17\",\"type\":\"CategoricalTickFormatter\"},\"plot\":{\"id\":\"a4d449d4-ba47-4bba-a471-dc66080362e7\",\"subtype\":\"Figure\",\"type\":\"Plot\"},\"ticker\":{\"id\":\"eebbfa0c-5ac8-493e-a569-6a675df67f49\",\"type\":\"CategoricalTicker\"}},\"id\":\"b16dccc1-5af6-43f2-b29f-03b27e234b7e\",\"type\":\"CategoricalAxis\"},{\"attributes\":{\"bottom_units\":\"screen\",\"fill_alpha\":{\"value\":0.5},\"fill_color\":{\"value\":\"lightgrey\"},\"left_units\":\"screen\",\"level\":\"overlay\",\"line_alpha\":{\"value\":1.0},\"line_color\":{\"value\":\"black\"},\"line_dash\":[4,4],\"line_width\":{\"value\":2},\"plot\":null,\"render_mode\":\"css\",\"right_units\":\"screen\",\"top_units\":\"screen\"},\"id\":\"cf062a4f-6575-44a6-9cab-a54a63fe8a70\",\"type\":\"BoxAnnotation\"},{\"attributes\":{},\"id\":\"af33cd9b-5c2b-4553-b4e6-391b350cdc47\",\"type\":\"BasicTicker\"},{\"attributes\":{\"plot\":{\"id\":\"b6042c71-b3c1-4b85-b9d2-08662ab556eb\",\"subtype\":\"Figure\",\"type\":\"Plot\"},\"ticker\":{\"id\":\"f179b400-3108-4109-bea1-89fbd600c326\",\"type\":\"CategoricalTicker\"}},\"id\":\"7e319855-401e-4a52-b85c-dbfd8f84a9ea\",\"type\":\"Grid\"},{\"attributes\":{\"fill_color\":{\"value\":\"#1f77b4\"},\"line_color\":{\"value\":\"#1f77b4\"},\"top\":{\"field\":\"flux\"},\"width\":{\"value\":0.9},\"x\":{\"field\":\"band\"}},\"id\":\"8222ab18-c710-4dd2-9942-ed4651e9c64c\",\"type\":\"VBar\"},{\"attributes\":{\"axis_label\":\"flux (W m-2)\",\"formatter\":{\"id\":\"a44b7658-9561-4b7c-b554-cbe3be6916bf\",\"type\":\"BasicTickFormatter\"},\"plot\":{\"id\":\"b6042c71-b3c1-4b85-b9d2-08662ab556eb\",\"subtype\":\"Figure\",\"type\":\"Plot\"},\"ticker\":{\"id\":\"d80d9a24-8d05-42f5-94f0-5ec923a7a6eb\",\"type\":\"BasicTicker\"}},\"id\":\"edb153df-ee94-494f-84d1-7e46e5fe51d3\",\"type\":\"LinearAxis\"},{\"attributes\":{},\"id\":\"511a9845-d49a-47e3-9344-ac15fe38c30a\",\"type\":\"PanTool\"},{\"attributes\":{\"fill_alpha\":{\"value\":0.1},\"fill_color\":{\"value\":\"#1f77b4\"},\"line_alpha\":{\"value\":0.1},\"line_color\":{\"value\":\"#1f77b4\"},\"top\":{\"field\":\"flux\"},\"width\":{\"value\":0.9},\"x\":{\"field\":\"band\"}},\"id\":\"88f8f306-16a1-42eb-9cf1-cc8959b8b57c\",\"type\":\"VBar\"},{\"attributes\":{},\"id\":\"a2482573-e027-4ddc-bad4-686e47b58e80\",\"type\":\"SaveTool\"},{\"attributes\":{\"callback\":null},\"id\":\"8e7275ed-e7f6-4357-b66f-1f236e4f2480\",\"type\":\"DataRange1d\"},{\"attributes\":{},\"id\":\"c286bc34-1c45-4b3b-9989-604790ecf235\",\"type\":\"LinearScale\"},{\"attributes\":{},\"id\":\"f7be06b9-4947-488d-a8cf-2597cd6a5c24\",\"type\":\"ResetTool\"},{\"attributes\":{},\"id\":\"98585058-e385-4645-b0db-1d6543193bc0\",\"type\":\"CategoricalScale\"},{\"attributes\":{\"callback\":null,\"factors\":[\"3\",\"9\"]},\"id\":\"751d99dd-682a-4e02-ba9f-2037a1857744\",\"type\":\"FactorRange\"},{\"attributes\":{\"children\":[{\"id\":\"5c4f9ee4-bcc1-4400-b66c-dcc904e54aaa\",\"type\":\"Row\"}]},\"id\":\"9622cefa-73b4-49a7-bccb-1cd75bb50ce2\",\"type\":\"Column\"},{\"attributes\":{},\"id\":\"a3a1c6ef-a0c7-465b-acb9-9bf9843654b4\",\"type\":\"HelpTool\"},{\"attributes\":{},\"id\":\"a5752e78-9d55-4c2d-85af-1f17e87974c5\",\"type\":\"LinearScale\"},{\"attributes\":{\"below\":[{\"id\":\"b16dccc1-5af6-43f2-b29f-03b27e234b7e\",\"type\":\"CategoricalAxis\"}],\"left\":[{\"id\":\"c1f143ef-b5e8-4a88-b007-608d8bbc36e0\",\"type\":\"LinearAxis\"}],\"plot_height\":300,\"plot_width\":300,\"renderers\":[{\"id\":\"b16dccc1-5af6-43f2-b29f-03b27e234b7e\",\"type\":\"CategoricalAxis\"},{\"id\":\"14702be7-8665-4e1a-9887-0c0d177c57ad\",\"type\":\"Grid\"},{\"id\":\"c1f143ef-b5e8-4a88-b007-608d8bbc36e0\",\"type\":\"LinearAxis\"},{\"id\":\"a5651366-0256-48c0-9efa-43edf9528deb\",\"type\":\"Grid\"},{\"id\":\"463e827d-4970-4d4b-8dfd-5a698f65f1ff\",\"type\":\"BoxAnnotation\"},{\"id\":\"73a79e1a-8acc-47ea-97c6-420e92d050d6\",\"type\":\"GlyphRenderer\"}],\"title\":{\"id\":\"5f87262a-c540-4d40-97fd-1f697ae829fc\",\"type\":\"Title\"},\"toolbar\":{\"id\":\"40898785-34e0-4017-9614-bcd93a1ab3e4\",\"type\":\"Toolbar\"},\"toolbar_location\":null,\"x_range\":{\"id\":\"751d99dd-682a-4e02-ba9f-2037a1857744\",\"type\":\"FactorRange\"},\"x_scale\":{\"id\":\"f2c1513b-f758-4beb-a5bb-96d2d1091cae\",\"type\":\"CategoricalScale\"},\"y_range\":{\"id\":\"8e7275ed-e7f6-4357-b66f-1f236e4f2480\",\"type\":\"DataRange1d\"},\"y_scale\":{\"id\":\"a5752e78-9d55-4c2d-85af-1f17e87974c5\",\"type\":\"LinearScale\"}},\"id\":\"a4d449d4-ba47-4bba-a471-dc66080362e7\",\"subtype\":\"Figure\",\"type\":\"Plot\"},{\"attributes\":{\"active_drag\":\"auto\",\"active_inspect\":\"auto\",\"active_scroll\":\"auto\",\"active_tap\":\"auto\",\"tools\":[{\"id\":\"511a9845-d49a-47e3-9344-ac15fe38c30a\",\"type\":\"PanTool\"},{\"id\":\"2398e36c-c5d2-441a-9673-3ad550dafad5\",\"type\":\"WheelZoomTool\"},{\"id\":\"f3110151-9d5f-46ae-868f-a3f177cc79d7\",\"type\":\"BoxZoomTool\"},{\"id\":\"a2482573-e027-4ddc-bad4-686e47b58e80\",\"type\":\"SaveTool\"},{\"id\":\"f7be06b9-4947-488d-a8cf-2597cd6a5c24\",\"type\":\"ResetTool\"},{\"id\":\"a3a1c6ef-a0c7-465b-acb9-9bf9843654b4\",\"type\":\"HelpTool\"}]},\"id\":\"d34f25e5-aeae-4be5-a9c9-8271699b940f\",\"type\":\"Toolbar\"},{\"attributes\":{\"source\":{\"id\":\"c2c3fa25-ffa6-4176-99f1-7711bb641861\",\"type\":\"ColumnDataSource\"}},\"id\":\"288b424f-766a-46c2-b95d-f86324ea94d6\",\"type\":\"CDSView\"},{\"attributes\":{\"plot\":null,\"text\":\"Atmosphere heating. CLIRAD - CRD.\"},\"id\":\"5f87262a-c540-4d40-97fd-1f697ae829fc\",\"type\":\"Title\"},{\"attributes\":{},\"id\":\"cff2a3e7-45b5-456d-8e3d-3b4266849096\",\"type\":\"UnionRenderers\"},{\"attributes\":{\"children\":[{\"id\":\"26c6608a-d712-47bd-92c9-9f336f4a08d9\",\"subtype\":\"Figure\",\"type\":\"Plot\"},{\"id\":\"b6042c71-b3c1-4b85-b9d2-08662ab556eb\",\"subtype\":\"Figure\",\"type\":\"Plot\"},{\"id\":\"a4d449d4-ba47-4bba-a471-dc66080362e7\",\"subtype\":\"Figure\",\"type\":\"Plot\"}]},\"id\":\"5c4f9ee4-bcc1-4400-b66c-dcc904e54aaa\",\"type\":\"Row\"},{\"attributes\":{},\"id\":\"f2c1513b-f758-4beb-a5bb-96d2d1091cae\",\"type\":\"CategoricalScale\"},{\"attributes\":{\"source\":{\"id\":\"aa019680-6fca-4fe2-9dc5-d9ff242308d0\",\"type\":\"ColumnDataSource\"}},\"id\":\"24d178dc-c2a9-4d96-aab1-5fb5860bbe46\",\"type\":\"CDSView\"},{\"attributes\":{\"axis_label\":\"flux (W m-2)\",\"formatter\":{\"id\":\"c7502fb7-a5d4-4740-8855-40f8dd04fa31\",\"type\":\"BasicTickFormatter\"},\"plot\":{\"id\":\"a4d449d4-ba47-4bba-a471-dc66080362e7\",\"subtype\":\"Figure\",\"type\":\"Plot\"},\"ticker\":{\"id\":\"af33cd9b-5c2b-4553-b4e6-391b350cdc47\",\"type\":\"BasicTicker\"}},\"id\":\"c1f143ef-b5e8-4a88-b007-608d8bbc36e0\",\"type\":\"LinearAxis\"},{\"attributes\":{\"callback\":null},\"id\":\"4aa80538-5795-466c-a4d8-893dbf1dce84\",\"type\":\"DataRange1d\"},{\"attributes\":{\"dimension\":1,\"plot\":{\"id\":\"a4d449d4-ba47-4bba-a471-dc66080362e7\",\"subtype\":\"Figure\",\"type\":\"Plot\"},\"ticker\":{\"id\":\"af33cd9b-5c2b-4553-b4e6-391b350cdc47\",\"type\":\"BasicTicker\"}},\"id\":\"a5651366-0256-48c0-9efa-43edf9528deb\",\"type\":\"Grid\"},{\"attributes\":{\"tools\":[{\"id\":\"d2bca473-5066-42b5-9006-f75dd0a6a164\",\"type\":\"PanTool\"},{\"id\":\"0509816c-dce3-4974-92e2-8b3c0fe511ce\",\"type\":\"WheelZoomTool\"},{\"id\":\"edcfd27d-dc21-4fc5-a32d-c51c75fa5c06\",\"type\":\"BoxZoomTool\"},{\"id\":\"b365d8fc-c615-4478-ba9b-871fece52afa\",\"type\":\"SaveTool\"},{\"id\":\"178e8d2a-d538-48cd-b84b-8dedab6fd42c\",\"type\":\"ResetTool\"},{\"id\":\"d6d92942-0acf-4c4d-b07d-61f559bcee5f\",\"type\":\"HelpTool\"},{\"id\":\"511a9845-d49a-47e3-9344-ac15fe38c30a\",\"type\":\"PanTool\"},{\"id\":\"2398e36c-c5d2-441a-9673-3ad550dafad5\",\"type\":\"WheelZoomTool\"},{\"id\":\"f3110151-9d5f-46ae-868f-a3f177cc79d7\",\"type\":\"BoxZoomTool\"},{\"id\":\"a2482573-e027-4ddc-bad4-686e47b58e80\",\"type\":\"SaveTool\"},{\"id\":\"f7be06b9-4947-488d-a8cf-2597cd6a5c24\",\"type\":\"ResetTool\"},{\"id\":\"a3a1c6ef-a0c7-465b-acb9-9bf9843654b4\",\"type\":\"HelpTool\"},{\"id\":\"2fbb645b-c6e9-40cc-8565-ab39e92ccf0f\",\"type\":\"PanTool\"},{\"id\":\"7c5c134f-ddef-4203-a8f1-04057ef22677\",\"type\":\"WheelZoomTool\"},{\"id\":\"4c310e30-922d-4b1f-bffe-fca442035502\",\"type\":\"BoxZoomTool\"},{\"id\":\"e40e2d6b-de96-4cf2-b7a3-c29391315ef7\",\"type\":\"SaveTool\"},{\"id\":\"02d26c7d-e42c-483e-94cc-929065070558\",\"type\":\"ResetTool\"},{\"id\":\"48fed0b7-6b5b-4be3-99e2-c4370499029b\",\"type\":\"HelpTool\"}]},\"id\":\"4fd74aef-759e-4249-a75a-9eb7906bf4a7\",\"type\":\"ProxyToolbar\"},{\"attributes\":{},\"id\":\"a44b7658-9561-4b7c-b554-cbe3be6916bf\",\"type\":\"BasicTickFormatter\"},{\"attributes\":{\"callback\":null,\"data\":{\"band\":[\"3\",\"9\"],\"flux\":{\"__ndarray__\":\"AJybb0T3pL8AzXucacLKPw==\",\"dtype\":\"float64\",\"shape\":[2]}},\"selected\":{\"id\":\"df2aacf9-bbc3-41a7-b3b4-9a069f9062d8\",\"type\":\"Selection\"},\"selection_policy\":{\"id\":\"0089a2d3-5359-4c9d-8636-4f3cc6679189\",\"type\":\"UnionRenderers\"}},\"id\":\"aa019680-6fca-4fe2-9dc5-d9ff242308d0\",\"type\":\"ColumnDataSource\"},{\"attributes\":{},\"id\":\"8be23947-11bf-4f01-9436-d70408ee7f17\",\"type\":\"CategoricalTickFormatter\"},{\"attributes\":{\"data_source\":{\"id\":\"aa019680-6fca-4fe2-9dc5-d9ff242308d0\",\"type\":\"ColumnDataSource\"},\"glyph\":{\"id\":\"8222ab18-c710-4dd2-9942-ed4651e9c64c\",\"type\":\"VBar\"},\"hover_glyph\":null,\"muted_glyph\":null,\"nonselection_glyph\":{\"id\":\"88f8f306-16a1-42eb-9cf1-cc8959b8b57c\",\"type\":\"VBar\"},\"selection_glyph\":null,\"view\":{\"id\":\"24d178dc-c2a9-4d96-aab1-5fb5860bbe46\",\"type\":\"CDSView\"}},\"id\":\"73a79e1a-8acc-47ea-97c6-420e92d050d6\",\"type\":\"GlyphRenderer\"},{\"attributes\":{},\"id\":\"2fbb645b-c6e9-40cc-8565-ab39e92ccf0f\",\"type\":\"PanTool\"}],\"root_ids\":[\"58d48cd8-3dda-4458-a988-10082caee6ae\"]},\"title\":\"Bokeh Application\",\"version\":\"0.12.16\"}};\n",
       "  var render_items = [{\"docid\":\"c85fc31a-02be-4106-bbc8-af7e8376aa68\",\"elementid\":\"020753db-f65c-4e08-8de5-7eba0de78dc6\",\"modelid\":\"58d48cd8-3dda-4458-a988-10082caee6ae\"}];\n",
       "  root.Bokeh.embed.embed_items_notebook(docs_json, render_items);\n",
       "\n",
       "  }\n",
       "  if (root.Bokeh !== undefined) {\n",
       "    embed_document(root);\n",
       "  } else {\n",
       "    var attempts = 0;\n",
       "    var timer = setInterval(function(root) {\n",
       "      if (root.Bokeh !== undefined) {\n",
       "        embed_document(root);\n",
       "        clearInterval(timer);\n",
       "      }\n",
       "      attempts++;\n",
       "      if (attempts > 100) {\n",
       "        console.log(\"Bokeh: ERROR: Unable to run BokehJS code because BokehJS library is missing\")\n",
       "        clearInterval(timer);\n",
       "      }\n",
       "    }, 10, root)\n",
       "  }\n",
       "})(window);"
      ],
      "application/vnd.bokehjs_exec.v0+json": ""
     },
     "metadata": {
      "application/vnd.bokehjs_exec.v0+json": {
       "id": "58d48cd8-3dda-4458-a988-10082caee6ae"
      }
     },
     "output_type": "display_data"
    },
    {
     "data": {
      "text/markdown": [
       "*FIGURE.* Difference between CLIRAD and CRD in TOA, SFC and net atmosphere flux, in each spectral band."
      ],
      "text/plain": [
       "<IPython.core.display.Markdown object>"
      ]
     },
     "metadata": {},
     "output_type": "display_data"
    },
    {
     "data": {
      "text/html": [
       "<div>\n",
       "<style scoped>\n",
       "    .dataframe tbody tr th:only-of-type {\n",
       "        vertical-align: middle;\n",
       "    }\n",
       "\n",
       "    .dataframe tbody tr th {\n",
       "        vertical-align: top;\n",
       "    }\n",
       "\n",
       "    .dataframe thead th {\n",
       "        text-align: right;\n",
       "    }\n",
       "</style>\n",
       "<table border=\"1\" class=\"dataframe\">\n",
       "  <thead>\n",
       "    <tr style=\"text-align: right;\">\n",
       "      <th></th>\n",
       "      <th>OLR flux</th>\n",
       "      <th>SFC flux</th>\n",
       "      <th>ATM heating</th>\n",
       "    </tr>\n",
       "    <tr>\n",
       "      <th>Sum over bands</th>\n",
       "      <th></th>\n",
       "      <th></th>\n",
       "      <th></th>\n",
       "    </tr>\n",
       "  </thead>\n",
       "  <tbody>\n",
       "    <tr>\n",
       "      <th>CLIRAD - CRD</th>\n",
       "      <td>0.13</td>\n",
       "      <td>-0.04</td>\n",
       "      <td>0.17</td>\n",
       "    </tr>\n",
       "    <tr>\n",
       "      <th>CRD</th>\n",
       "      <td>-55.89</td>\n",
       "      <td>6.49</td>\n",
       "      <td>-2.39</td>\n",
       "    </tr>\n",
       "  </tbody>\n",
       "</table>\n",
       "</div>"
      ],
      "text/plain": [
       "                OLR flux  SFC flux  ATM heating\n",
       "Sum over bands                                 \n",
       "CLIRAD - CRD        0.13     -0.04         0.17\n",
       "CRD               -55.89      6.49        -2.39"
      ]
     },
     "metadata": {},
     "output_type": "display_data"
    },
    {
     "data": {
      "text/markdown": [
       "*TABLE.* Difference between CLIRAD and CRD in TOA, SFC and net atmosphere flux, over all spectral bands. CRD's TOA, SFC and net atmosphere flux, over all spectral bands."
      ],
      "text/plain": [
       "<IPython.core.display.Markdown object>"
      ]
     },
     "metadata": {},
     "output_type": "display_data"
    },
    {
     "data": {
      "text/html": [
       "<a id=\"Cooling_rates._saw.\"></a>"
      ],
      "text/plain": [
       "<IPython.core.display.HTML object>"
      ]
     },
     "metadata": {},
     "output_type": "display_data"
    },
    {
     "data": {
      "text/markdown": [
       "# Cooling rates. saw."
      ],
      "text/plain": [
       "<IPython.core.display.Markdown object>"
      ]
     },
     "metadata": {},
     "output_type": "display_data"
    },
    {
     "data": {
      "text/html": [
       "\n",
       "<div class=\"bk-root\">\n",
       "    <div class=\"bk-plotdiv\" id=\"e71f82d2-4333-4b7d-a5af-b78c664d056a\"></div>\n",
       "</div>"
      ]
     },
     "metadata": {},
     "output_type": "display_data"
    },
    {
     "data": {
      "application/javascript": [
       "(function(root) {\n",
       "  function embed_document(root) {\n",
       "    \n",
       "  var docs_json = {\"5a054dd2-b5d9-4317-8506-1bac9e41bf35\":{\"roots\":{\"references\":[{\"attributes\":{},\"id\":\"bbaf9066-02ea-4440-8eed-7a07891937dc\",\"type\":\"WheelZoomTool\"},{\"attributes\":{},\"id\":\"95493c6c-f68e-4bb2-8873-8d4837cc916f\",\"type\":\"ResetTool\"},{\"attributes\":{\"overlay\":{\"id\":\"387cf6ee-603e-4a8d-87b6-77417999c2b3\",\"type\":\"BoxAnnotation\"}},\"id\":\"49f712d7-b9e6-4b03-a923-a7a81cbd5206\",\"type\":\"BoxZoomTool\"},{\"attributes\":{\"above\":[{\"id\":\"aaf62cd5-03cc-4f9a-8756-948ac5deb333\",\"type\":\"Legend\"}],\"below\":[{\"id\":\"7ad29f1b-9720-4ab9-9922-c9a00c2e2cf4\",\"type\":\"LinearAxis\"}],\"left\":[{\"id\":\"b3546c0f-78ec-4231-9b47-d344871b1442\",\"type\":\"LogAxis\"}],\"plot_width\":300,\"renderers\":[{\"id\":\"7ad29f1b-9720-4ab9-9922-c9a00c2e2cf4\",\"type\":\"LinearAxis\"},{\"id\":\"b7710169-c865-47ba-a6d7-344b48c7c944\",\"type\":\"Grid\"},{\"id\":\"b3546c0f-78ec-4231-9b47-d344871b1442\",\"type\":\"LogAxis\"},{\"id\":\"29374041-a38c-420a-9360-3281fa2d6756\",\"type\":\"Grid\"},{\"id\":\"387cf6ee-603e-4a8d-87b6-77417999c2b3\",\"type\":\"BoxAnnotation\"},{\"id\":\"4dd0b1ac-7d32-43b9-aa55-a6446169ee65\",\"type\":\"GlyphRenderer\"},{\"id\":\"390eb7ed-a9c4-490d-b677-ec75461dd726\",\"type\":\"GlyphRenderer\"},{\"id\":\"d2c8350d-ce3e-4131-a4c9-543bdc0f9497\",\"type\":\"GlyphRenderer\"},{\"id\":\"aaf62cd5-03cc-4f9a-8756-948ac5deb333\",\"type\":\"Legend\"}],\"title\":{\"id\":\"c772a668-f98e-4a71-ac82-1690ae68b015\",\"type\":\"Title\"},\"toolbar\":{\"id\":\"3656cc81-8d68-4f90-9a20-dbd4bfacdc79\",\"type\":\"Toolbar\"},\"toolbar_location\":null,\"x_range\":{\"id\":\"28881c25-f061-4725-b797-5384b1d43081\",\"type\":\"Range1d\"},\"x_scale\":{\"id\":\"0aaab8d8-c50d-4c9e-b193-b45dab226ae8\",\"type\":\"LinearScale\"},\"y_range\":{\"id\":\"e4d7ffb3-a7c0-4080-b269-4f8d9b66712b\",\"type\":\"Range1d\"},\"y_scale\":{\"id\":\"9d050dab-076e-4d5a-bf3c-4b43dda3a242\",\"type\":\"LogScale\"}},\"id\":\"31db792d-6b37-4e4b-b273-c575666ce9a5\",\"subtype\":\"Figure\",\"type\":\"Plot\"},{\"attributes\":{},\"id\":\"7bdc99a5-28f9-46c3-aab7-cfb463e37c82\",\"type\":\"Selection\"},{\"attributes\":{\"callback\":null,\"end\":0.01,\"start\":1020},\"id\":\"e4d7ffb3-a7c0-4080-b269-4f8d9b66712b\",\"type\":\"Range1d\"},{\"attributes\":{\"callback\":null,\"data\":{\"x\":{\"__ndarray__\":\"sr7egysue78+aUBu02Bxv8BmUNKbCE0/ApTUhFN4ej8mdBqPuX6JP2HQk3VfUpM/VnKVeA5Wmj99xeGnDemgP58SiaI956Q/2sHm7gMoqT9pbOevG6ytPwb0DixROrE/EeDqvGq+sz8cTJW4Jg62PxAEI4ok1bc/mxVZhMVVuT9YYGp5Vc+6P/+587oBQ7w/rnskWC6xvT9WeF3gbiC/PyKUMR2+NcA/VKFPHvVbvj88l6dIxUy4P1AYpkzwIbI/RFBEpWJ6qj//Zujz3/CiP5ivAQiVfJo/VJ6TspI8kz/7VyeGo22PP8Zazi2F44o/nLev2GYwhj9mzrjBsEKBP2kecIurtX0/oNYuWnlqfj8G4DUlZmh+P93iBimkr3w/c0OBOaxTeT9z29z8Ax5zP5IaJ7TWn2Y/OMiBJiRDTj+QnqVR6AhOv6nUQssuH2e/fHhTKEvoc78ejSqMqBt9v8YgeQO8QoO/D969XpeehL8ASeS8cMCAv+3OllAamnW/ZUtr4AJhY78wzzvBAoBBP2Im8E6HXGw/AaV/ExNeej/1OkF/aGKDP1z4oVkwrYk/6DLyx+YCkD/FFW614i2TP34KOK48TZY/yLB7DAVVmT9wfU79YDmcP4YNWyIz8Z4/0M9BiEW7oD82JWiy0OWhPw9E9Vr5+qI/avrGuUj/oz9Mgdn4pPekP9Rla1yD56U/KW2Qmo3Npj9mIRv3z5unP0Lpoz1yLKg/IAyIhWRFqD/G9bCWicKnPyYWVvxvvaY/ZU55b2pypT+/D8AzxQ+kP6iFxbpOqaI/\",\"dtype\":\"float64\",\"shape\":[75]},\"y\":{\"__ndarray__\":\"GhExyth1ND/Sv8nbtpRIP2vylNV0PVE/aTum7souWD/At0SJ8fVgPw3Iuahxymc/MSNhhJWvcD/bTfBN02d3P2zb5nxnaoA/CD5h5MAGhz8NmeH1TyaQP+zrCsc9p5Y/LbKd76fGnz/bLW5ISEmmPww9YvTcQq8/JV2OstnstT8Er5Y7M8G+P0c+r3jqkcU/5h99k6ZBzj88bCIzFzjVP4enV8oyxN0//yH99nXg5D8qOpLLf0jtP5kqGJXUifQ/c9cS8kHP/D+/DpwzojQEQIEmwoanVwxA4lgXt9HgE0BSSZ2AJuIbQAMJih9jjiNA5q4l5INuK0AwTKYKRj0zQNv5fmq8/DpAaCJseHrtQkB/+zpwzoxKQM3MzMzMeFJAZmZmZmZqWEAAAAAAAFxeQM3MzMzMJmJAmpmZmZkfZUBmZmZmZhhoQDMzMzMzEWtAAAAAAAAKbkBmZmZmZoFwQM3MzMzM/XFAMzMzMzN6c0CamZmZmfZ0QAAAAAAAc3ZAZmZmZmbvd0DNzMzMzGt5QDMzMzMz6HpAmpmZmZlkfEAAAAAAAOF9QGZmZmZmXX9AZmZmZuZsgECamZmZGSuBQM3MzMxM6YFAAAAAAICngkAzMzMzs2WDQGZmZmbmI4RAmpmZmRnihEDNzMzMTKCFQAAAAACAXoZAMzMzM7Mch0BmZmZm5tqHQJqZmZkZmYhAzczMzExXiUAAAAAAgBWKQDMzMzOz04pAZmZmZuaRi0CamZmZGVCMQM3MzMxMDo1AAAAAAIDMjUAzMzMzs4qOQGZmZmbmSI9A\",\"dtype\":\"float64\",\"shape\":[75]}},\"selected\":{\"id\":\"dafe9d83-25c9-4b1f-a8e3-96184e9fd7b7\",\"type\":\"Selection\"},\"selection_policy\":{\"id\":\"b64075d2-c391-4b0a-a44e-828107e7cb06\",\"type\":\"UnionRenderers\"}},\"id\":\"cef0f5a3-f016-49ca-8033-646b490b96bd\",\"type\":\"ColumnDataSource\"},{\"attributes\":{},\"id\":\"a3ab93e4-eaf9-4352-b33a-d24e44d48195\",\"type\":\"SaveTool\"},{\"attributes\":{\"overlay\":{\"id\":\"1c353c93-a214-4cb9-bc2f-718bb806d515\",\"type\":\"BoxAnnotation\"}},\"id\":\"b85ac250-f7ed-4aab-953c-22e5d1a2b789\",\"type\":\"BoxZoomTool\"},{\"attributes\":{\"callback\":null,\"data\":{\"x\":{\"__ndarray__\":\"sr7egysue78+aUBu02Bxv8BmUNKbCE0/ApTUhFN4ej8mdBqPuX6JP2HQk3VfUpM/VnKVeA5Wmj99xeGnDemgP58SiaI956Q/2sHm7gMoqT9pbOevG6ytPwb0DixROrE/EeDqvGq+sz8cTJW4Jg62PxAEI4ok1bc/mxVZhMVVuT9YYGp5Vc+6P/+587oBQ7w/rnskWC6xvT9WeF3gbiC/PyKUMR2+NcA/VKFPHvVbvj88l6dIxUy4P1AYpkzwIbI/RFBEpWJ6qj//Zujz3/CiP5ivAQiVfJo/VJ6TspI8kz/7VyeGo22PP8Zazi2F44o/nLev2GYwhj9mzrjBsEKBP2kecIurtX0/oNYuWnlqfj8G4DUlZmh+P93iBimkr3w/c0OBOaxTeT9z29z8Ax5zP5IaJ7TWn2Y/OMiBJiRDTj+QnqVR6AhOv6nUQssuH2e/fHhTKEvoc78ejSqMqBt9v8YgeQO8QoO/D969XpeehL8ASeS8cMCAv+3OllAamnW/ZUtr4AJhY78wzzvBAoBBP2Im8E6HXGw/AaV/ExNeej/1OkF/aGKDP1z4oVkwrYk/6DLyx+YCkD/FFW614i2TP34KOK48TZY/yLB7DAVVmT9wfU79YDmcP4YNWyIz8Z4/0M9BiEW7oD82JWiy0OWhPw9E9Vr5+qI/avrGuUj/oz9Mgdn4pPekP9Rla1yD56U/KW2Qmo3Npj9mIRv3z5unP0Lpoz1yLKg/IAyIhWRFqD/G9bCWicKnPyYWVvxvvaY/ZU55b2pypT+/D8AzxQ+kP6iFxbpOqaI/\",\"dtype\":\"float64\",\"shape\":[75]},\"y\":{\"__ndarray__\":\"GhExyth1ND/Sv8nbtpRIP2vylNV0PVE/aTum7souWD/At0SJ8fVgPw3Iuahxymc/MSNhhJWvcD/bTfBN02d3P2zb5nxnaoA/CD5h5MAGhz8NmeH1TyaQP+zrCsc9p5Y/LbKd76fGnz/bLW5ISEmmPww9YvTcQq8/JV2OstnstT8Er5Y7M8G+P0c+r3jqkcU/5h99k6ZBzj88bCIzFzjVP4enV8oyxN0//yH99nXg5D8qOpLLf0jtP5kqGJXUifQ/c9cS8kHP/D+/DpwzojQEQIEmwoanVwxA4lgXt9HgE0BSSZ2AJuIbQAMJih9jjiNA5q4l5INuK0AwTKYKRj0zQNv5fmq8/DpAaCJseHrtQkB/+zpwzoxKQM3MzMzMeFJAZmZmZmZqWEAAAAAAAFxeQM3MzMzMJmJAmpmZmZkfZUBmZmZmZhhoQDMzMzMzEWtAAAAAAAAKbkBmZmZmZoFwQM3MzMzM/XFAMzMzMzN6c0CamZmZmfZ0QAAAAAAAc3ZAZmZmZmbvd0DNzMzMzGt5QDMzMzMz6HpAmpmZmZlkfEAAAAAAAOF9QGZmZmZmXX9AZmZmZuZsgECamZmZGSuBQM3MzMxM6YFAAAAAAICngkAzMzMzs2WDQGZmZmbmI4RAmpmZmRnihEDNzMzMTKCFQAAAAACAXoZAMzMzM7Mch0BmZmZm5tqHQJqZmZkZmYhAzczMzExXiUAAAAAAgBWKQDMzMzOz04pAZmZmZuaRi0CamZmZGVCMQM3MzMxMDo1AAAAAAIDMjUAzMzMzs4qOQGZmZmbmSI9A\",\"dtype\":\"float64\",\"shape\":[75]}},\"selected\":{\"id\":\"bcbd3714-cb35-4c76-b91e-f4d9693133fc\",\"type\":\"Selection\"},\"selection_policy\":{\"id\":\"fbe77424-bd5a-4f00-a2b6-7074090c110c\",\"type\":\"UnionRenderers\"}},\"id\":\"958929c3-3d1a-4fbe-8a08-6c9f6e92b268\",\"type\":\"ColumnDataSource\"},{\"attributes\":{},\"id\":\"a3b4d7cb-a2d6-4283-a430-6efc42168e13\",\"type\":\"ResetTool\"},{\"attributes\":{},\"id\":\"dd6d0d85-d8b0-41f6-9672-e75b6937738d\",\"type\":\"WheelZoomTool\"},{\"attributes\":{\"num_minor_ticks\":10},\"id\":\"05ccc54c-246d-4b65-b96f-8ad781d2582c\",\"type\":\"LogTicker\"},{\"attributes\":{\"bottom_units\":\"screen\",\"fill_alpha\":{\"value\":0.5},\"fill_color\":{\"value\":\"lightgrey\"},\"left_units\":\"screen\",\"level\":\"overlay\",\"line_alpha\":{\"value\":1.0},\"line_color\":{\"value\":\"black\"},\"line_dash\":[4,4],\"line_width\":{\"value\":2},\"plot\":null,\"render_mode\":\"css\",\"right_units\":\"screen\",\"top_units\":\"screen\"},\"id\":\"1c353c93-a214-4cb9-bc2f-718bb806d515\",\"type\":\"BoxAnnotation\"},{\"attributes\":{\"axis_label\":\"cooling rate [K/day]\",\"formatter\":{\"id\":\"20df8131-2cf5-4dba-ad7f-c37aa5b1c816\",\"type\":\"BasicTickFormatter\"},\"plot\":{\"id\":\"31db792d-6b37-4e4b-b273-c575666ce9a5\",\"subtype\":\"Figure\",\"type\":\"Plot\"},\"ticker\":{\"id\":\"a74dcd1a-770e-4ee8-a66b-cb0d49d7c24a\",\"type\":\"BasicTicker\"}},\"id\":\"7ad29f1b-9720-4ab9-9922-c9a00c2e2cf4\",\"type\":\"LinearAxis\"},{\"attributes\":{},\"id\":\"8463f536-14ef-4f0f-a33c-d210fc7b9751\",\"type\":\"Selection\"},{\"attributes\":{\"data_source\":{\"id\":\"958929c3-3d1a-4fbe-8a08-6c9f6e92b268\",\"type\":\"ColumnDataSource\"},\"glyph\":{\"id\":\"97f536b8-cb30-44b2-aef6-109513ec74f5\",\"type\":\"Line\"},\"hover_glyph\":null,\"muted_glyph\":null,\"nonselection_glyph\":{\"id\":\"34fb1591-2031-4345-934f-dcac9c71fbdd\",\"type\":\"Line\"},\"selection_glyph\":null,\"view\":{\"id\":\"b394f2df-8fd8-40de-83dc-fc20e76be4d7\",\"type\":\"CDSView\"}},\"id\":\"a841cfdf-5dfe-49da-90c1-3bb6b65eea8d\",\"type\":\"GlyphRenderer\"},{\"attributes\":{\"fill_alpha\":{\"value\":0.1},\"fill_color\":{\"value\":\"#1f77b4\"},\"line_alpha\":{\"value\":0.1},\"line_color\":{\"value\":\"#1f77b4\"},\"x\":{\"field\":\"x\"},\"y\":{\"field\":\"y\"}},\"id\":\"f11caf60-db54-40ca-846f-ae325ebfa50d\",\"type\":\"Circle\"},{\"attributes\":{},\"id\":\"1ebd2c57-cdd4-4e46-8084-8e158ccadf5e\",\"type\":\"PanTool\"},{\"attributes\":{\"line_alpha\":0.1,\"line_color\":\"#1f77b4\",\"line_dash\":[6],\"line_width\":5,\"x\":{\"field\":\"x\"},\"y\":{\"field\":\"y\"}},\"id\":\"1d1298dd-873a-4636-ac0f-ceaa4f5d26f2\",\"type\":\"Line\"},{\"attributes\":{\"callback\":null,\"data\":{\"x\":{\"__ndarray__\":\"sr7egysue78+aUBu02Bxv8BmUNKbCE0/ApTUhFN4ej8mdBqPuX6JP2HQk3VfUpM/VnKVeA5Wmj99xeGnDemgP58SiaI956Q/2sHm7gMoqT9pbOevG6ytPwb0DixROrE/EeDqvGq+sz8cTJW4Jg62PxAEI4ok1bc/mxVZhMVVuT9YYGp5Vc+6P/+587oBQ7w/rnskWC6xvT9WeF3gbiC/PyKUMR2+NcA/VKFPHvVbvj88l6dIxUy4P1AYpkzwIbI/RFBEpWJ6qj//Zujz3/CiP5ivAQiVfJo/VJ6TspI8kz/7VyeGo22PP8Zazi2F44o/nLev2GYwhj9mzrjBsEKBP2kecIurtX0/oNYuWnlqfj8G4DUlZmh+P93iBimkr3w/c0OBOaxTeT9z29z8Ax5zP5IaJ7TWn2Y/OMiBJiRDTj+QnqVR6AhOv6nUQssuH2e/fHhTKEvoc78ejSqMqBt9v8YgeQO8QoO/D969XpeehL8ASeS8cMCAv+3OllAamnW/ZUtr4AJhY78wzzvBAoBBP2Im8E6HXGw/AaV/ExNeej/1OkF/aGKDP1z4oVkwrYk/6DLyx+YCkD/FFW614i2TP34KOK48TZY/yLB7DAVVmT9wfU79YDmcP4YNWyIz8Z4/0M9BiEW7oD82JWiy0OWhPw9E9Vr5+qI/avrGuUj/oz9Mgdn4pPekP9Rla1yD56U/KW2Qmo3Npj9mIRv3z5unP0Lpoz1yLKg/IAyIhWRFqD/G9bCWicKnPyYWVvxvvaY/ZU55b2pypT+/D8AzxQ+kP6iFxbpOqaI/\",\"dtype\":\"float64\",\"shape\":[75]},\"y\":{\"__ndarray__\":\"GhExyth1ND/Sv8nbtpRIP2vylNV0PVE/aTum7souWD/At0SJ8fVgPw3Iuahxymc/MSNhhJWvcD/bTfBN02d3P2zb5nxnaoA/CD5h5MAGhz8NmeH1TyaQP+zrCsc9p5Y/LbKd76fGnz/bLW5ISEmmPww9YvTcQq8/JV2OstnstT8Er5Y7M8G+P0c+r3jqkcU/5h99k6ZBzj88bCIzFzjVP4enV8oyxN0//yH99nXg5D8qOpLLf0jtP5kqGJXUifQ/c9cS8kHP/D+/DpwzojQEQIEmwoanVwxA4lgXt9HgE0BSSZ2AJuIbQAMJih9jjiNA5q4l5INuK0AwTKYKRj0zQNv5fmq8/DpAaCJseHrtQkB/+zpwzoxKQM3MzMzMeFJAZmZmZmZqWEAAAAAAAFxeQM3MzMzMJmJAmpmZmZkfZUBmZmZmZhhoQDMzMzMzEWtAAAAAAAAKbkBmZmZmZoFwQM3MzMzM/XFAMzMzMzN6c0CamZmZmfZ0QAAAAAAAc3ZAZmZmZmbvd0DNzMzMzGt5QDMzMzMz6HpAmpmZmZlkfEAAAAAAAOF9QGZmZmZmXX9AZmZmZuZsgECamZmZGSuBQM3MzMxM6YFAAAAAAICngkAzMzMzs2WDQGZmZmbmI4RAmpmZmRnihEDNzMzMTKCFQAAAAACAXoZAMzMzM7Mch0BmZmZm5tqHQJqZmZkZmYhAzczMzExXiUAAAAAAgBWKQDMzMzOz04pAZmZmZuaRi0CamZmZGVCMQM3MzMxMDo1AAAAAAIDMjUAzMzMzs4qOQGZmZmbmSI9A\",\"dtype\":\"float64\",\"shape\":[75]}},\"selected\":{\"id\":\"2fe0c5f0-3757-460d-91a8-374f2eb42b49\",\"type\":\"Selection\"},\"selection_policy\":{\"id\":\"1bd07168-0abb-41f3-9895-20202e8bc9f1\",\"type\":\"UnionRenderers\"}},\"id\":\"7bfd9b12-2ef6-4da1-9c79-1ce294c16d86\",\"type\":\"ColumnDataSource\"},{\"attributes\":{\"data_source\":{\"id\":\"ca0f8a57-f81b-4d4a-996b-947c8f6455ce\",\"type\":\"ColumnDataSource\"},\"glyph\":{\"id\":\"1523a9ef-e947-49bd-8c44-238d10327e87\",\"type\":\"Line\"},\"hover_glyph\":null,\"muted_glyph\":null,\"nonselection_glyph\":{\"id\":\"a1001c38-df88-4af1-8b4f-0fcd7cc35a8a\",\"type\":\"Line\"},\"selection_glyph\":null,\"view\":{\"id\":\"206503bc-4808-4ef1-8bad-3777602bfd71\",\"type\":\"CDSView\"}},\"id\":\"f3d279a5-add0-4a36-9cf8-800e084198c7\",\"type\":\"GlyphRenderer\"},{\"attributes\":{},\"id\":\"0f31d8b4-45e3-4cf1-a40c-a2b0bef49042\",\"type\":\"Selection\"},{\"attributes\":{\"axis_label\":\"pressure [mb]\",\"formatter\":{\"id\":\"9bca9962-5163-4251-8707-272b9fcd13f7\",\"type\":\"LogTickFormatter\"},\"plot\":{\"id\":\"8daaa41c-39a8-4a81-a5e6-6c9b3fbe88ea\",\"subtype\":\"Figure\",\"type\":\"Plot\"},\"ticker\":{\"id\":\"c725bc5e-babf-4d58-af38-ccb24a1f4ec7\",\"type\":\"LogTicker\"}},\"id\":\"e2f2e924-be4a-4cf2-8910-1623b363f74c\",\"type\":\"LogAxis\"},{\"attributes\":{\"line_alpha\":0.6,\"line_color\":\"#e41a1c\",\"line_dash\":[6],\"line_width\":5,\"x\":{\"field\":\"x\"},\"y\":{\"field\":\"y\"}},\"id\":\"1523a9ef-e947-49bd-8c44-238d10327e87\",\"type\":\"Line\"},{\"attributes\":{\"axis_label\":\"cooling rate [K/day]\",\"formatter\":{\"id\":\"09d2006c-5381-4779-a06c-8a966f155f90\",\"type\":\"BasicTickFormatter\"},\"plot\":{\"id\":\"8daaa41c-39a8-4a81-a5e6-6c9b3fbe88ea\",\"subtype\":\"Figure\",\"type\":\"Plot\"},\"ticker\":{\"id\":\"81699ff7-7b72-47f0-a986-c20a67e56946\",\"type\":\"BasicTicker\"}},\"id\":\"3f6b3a7b-05d4-4754-8a2a-1467247ec6c7\",\"type\":\"LinearAxis\"},{\"attributes\":{\"fill_alpha\":{\"value\":0.1},\"fill_color\":{\"value\":\"#1f77b4\"},\"line_alpha\":{\"value\":0.1},\"line_color\":{\"value\":\"#1f77b4\"},\"x\":{\"field\":\"x\"},\"y\":{\"field\":\"y\"}},\"id\":\"b7df357a-3068-4b22-a0a2-a930667d08b3\",\"type\":\"Circle\"},{\"attributes\":{\"data_source\":{\"id\":\"7bfd9b12-2ef6-4da1-9c79-1ce294c16d86\",\"type\":\"ColumnDataSource\"},\"glyph\":{\"id\":\"a87c43c0-afff-40fd-a397-0baaec59e10b\",\"type\":\"Circle\"},\"hover_glyph\":null,\"muted_glyph\":null,\"nonselection_glyph\":{\"id\":\"b7df357a-3068-4b22-a0a2-a930667d08b3\",\"type\":\"Circle\"},\"selection_glyph\":null,\"view\":{\"id\":\"50e4d3ee-2b2c-4c2f-92ec-9470929550f4\",\"type\":\"CDSView\"}},\"id\":\"390eb7ed-a9c4-490d-b677-ec75461dd726\",\"type\":\"GlyphRenderer\"},{\"attributes\":{},\"id\":\"9d050dab-076e-4d5a-bf3c-4b43dda3a242\",\"type\":\"LogScale\"},{\"attributes\":{},\"id\":\"7139ca58-7815-40fc-bdea-c7e3033d6a95\",\"type\":\"HelpTool\"},{\"attributes\":{\"callback\":null,\"end\":0.127956303134,\"start\":-0.006296926534},\"id\":\"28881c25-f061-4725-b797-5384b1d43081\",\"type\":\"Range1d\"},{\"attributes\":{},\"id\":\"a6c70209-4615-4dcd-a0e1-bb961087ca6f\",\"type\":\"SaveTool\"},{\"attributes\":{\"plot\":{\"id\":\"31db792d-6b37-4e4b-b273-c575666ce9a5\",\"subtype\":\"Figure\",\"type\":\"Plot\"},\"ticker\":{\"id\":\"a74dcd1a-770e-4ee8-a66b-cb0d49d7c24a\",\"type\":\"BasicTicker\"}},\"id\":\"b7710169-c865-47ba-a6d7-344b48c7c944\",\"type\":\"Grid\"},{\"attributes\":{},\"id\":\"9a8ce531-b999-4c16-83eb-9c2133f4afd7\",\"type\":\"UnionRenderers\"},{\"attributes\":{},\"id\":\"9ca62408-816d-42ae-971a-67eefba1d11f\",\"type\":\"UnionRenderers\"},{\"attributes\":{},\"id\":\"0aaab8d8-c50d-4c9e-b193-b45dab226ae8\",\"type\":\"LinearScale\"},{\"attributes\":{\"data_source\":{\"id\":\"b4a608b6-6b8e-4126-8332-34bfe3ec4d75\",\"type\":\"ColumnDataSource\"},\"glyph\":{\"id\":\"c4b056d8-038e-4fe9-93d4-7453a65b69a0\",\"type\":\"Line\"},\"hover_glyph\":null,\"muted_glyph\":null,\"nonselection_glyph\":{\"id\":\"1d1298dd-873a-4636-ac0f-ceaa4f5d26f2\",\"type\":\"Line\"},\"selection_glyph\":null,\"view\":{\"id\":\"ce503121-efb4-4de1-a242-af0633251290\",\"type\":\"CDSView\"}},\"id\":\"4dd0b1ac-7d32-43b9-aa55-a6446169ee65\",\"type\":\"GlyphRenderer\"},{\"attributes\":{\"source\":{\"id\":\"ca0f8a57-f81b-4d4a-996b-947c8f6455ce\",\"type\":\"ColumnDataSource\"}},\"id\":\"206503bc-4808-4ef1-8bad-3777602bfd71\",\"type\":\"CDSView\"},{\"attributes\":{\"line_color\":\"#4daf4a\",\"line_width\":1.5,\"x\":{\"field\":\"x\"},\"y\":{\"field\":\"y\"}},\"id\":\"381422e5-29b4-4eec-862e-fdab2b4f41aa\",\"type\":\"Line\"},{\"attributes\":{\"source\":{\"id\":\"958929c3-3d1a-4fbe-8a08-6c9f6e92b268\",\"type\":\"ColumnDataSource\"}},\"id\":\"b394f2df-8fd8-40de-83dc-fc20e76be4d7\",\"type\":\"CDSView\"},{\"attributes\":{\"fill_alpha\":{\"value\":0.1},\"fill_color\":{\"value\":\"#1f77b4\"},\"line_alpha\":{\"value\":0.1},\"line_color\":{\"value\":\"#1f77b4\"},\"x\":{\"field\":\"x\"},\"y\":{\"field\":\"y\"}},\"id\":\"51aa027d-90bb-4889-b7fb-f6593876f413\",\"type\":\"Circle\"},{\"attributes\":{\"data_source\":{\"id\":\"3f792747-f10d-4b7d-8d52-8db5dc90059c\",\"type\":\"ColumnDataSource\"},\"glyph\":{\"id\":\"ba334939-ef05-488f-a3da-e1404bd0f025\",\"type\":\"Circle\"},\"hover_glyph\":null,\"muted_glyph\":null,\"nonselection_glyph\":{\"id\":\"51aa027d-90bb-4889-b7fb-f6593876f413\",\"type\":\"Circle\"},\"selection_glyph\":null,\"view\":{\"id\":\"d485e838-58ff-4901-af58-8073b35f9058\",\"type\":\"CDSView\"}},\"id\":\"e8a15d2b-ee41-4f83-946c-1d14c202475c\",\"type\":\"GlyphRenderer\"},{\"attributes\":{},\"id\":\"a74dcd1a-770e-4ee8-a66b-cb0d49d7c24a\",\"type\":\"BasicTicker\"},{\"attributes\":{\"source\":{\"id\":\"3f792747-f10d-4b7d-8d52-8db5dc90059c\",\"type\":\"ColumnDataSource\"}},\"id\":\"d485e838-58ff-4901-af58-8073b35f9058\",\"type\":\"CDSView\"},{\"attributes\":{\"data_source\":{\"id\":\"cef0f5a3-f016-49ca-8033-646b490b96bd\",\"type\":\"ColumnDataSource\"},\"glyph\":{\"id\":\"d5d50374-3ce0-4140-9ae5-1078e5d6cbed\",\"type\":\"Circle\"},\"hover_glyph\":null,\"muted_glyph\":null,\"nonselection_glyph\":{\"id\":\"f11caf60-db54-40ca-846f-ae325ebfa50d\",\"type\":\"Circle\"},\"selection_glyph\":null,\"view\":{\"id\":\"cefd1eb1-12d8-46e9-bbf5-4db5d8042618\",\"type\":\"CDSView\"}},\"id\":\"897fec91-143a-40cf-94ec-d4faff077113\",\"type\":\"GlyphRenderer\"},{\"attributes\":{\"callback\":null,\"end\":0.008941177589999997,\"start\":-0.017572048590000004},\"id\":\"9da5419f-5c8f-4fe4-b76f-f91e880a0065\",\"type\":\"Range1d\"},{\"attributes\":{\"above\":[{\"id\":\"d1e0d923-e0b6-40bf-be0d-e855bf73057d\",\"type\":\"Legend\"}],\"below\":[{\"id\":\"3f6b3a7b-05d4-4754-8a2a-1467247ec6c7\",\"type\":\"LinearAxis\"}],\"left\":[{\"id\":\"e2f2e924-be4a-4cf2-8910-1623b363f74c\",\"type\":\"LogAxis\"}],\"plot_width\":300,\"renderers\":[{\"id\":\"3f6b3a7b-05d4-4754-8a2a-1467247ec6c7\",\"type\":\"LinearAxis\"},{\"id\":\"11763aca-c6ba-4a52-8311-d7f13d65cd45\",\"type\":\"Grid\"},{\"id\":\"e2f2e924-be4a-4cf2-8910-1623b363f74c\",\"type\":\"LogAxis\"},{\"id\":\"9e579611-375d-4c56-81a4-ba480b8fb243\",\"type\":\"Grid\"},{\"id\":\"1c353c93-a214-4cb9-bc2f-718bb806d515\",\"type\":\"BoxAnnotation\"},{\"id\":\"e8a15d2b-ee41-4f83-946c-1d14c202475c\",\"type\":\"GlyphRenderer\"},{\"id\":\"748e014f-1f44-4f9e-98b0-ff0c38387882\",\"type\":\"GlyphRenderer\"},{\"id\":\"d1e0d923-e0b6-40bf-be0d-e855bf73057d\",\"type\":\"Legend\"}],\"title\":{\"id\":\"f7038925-14b1-4a11-9dfd-691f9c8b6bdf\",\"type\":\"Title\"},\"toolbar\":{\"id\":\"c122a99e-b2ec-4984-ba39-ecbbae1b2b43\",\"type\":\"Toolbar\"},\"toolbar_location\":null,\"x_range\":{\"id\":\"9da5419f-5c8f-4fe4-b76f-f91e880a0065\",\"type\":\"Range1d\"},\"x_scale\":{\"id\":\"55e56f80-4a7a-4b2d-9a91-855f859e098e\",\"type\":\"LinearScale\"},\"y_range\":{\"id\":\"3841faa5-3b5c-4973-b022-c5d963167764\",\"type\":\"Range1d\"},\"y_scale\":{\"id\":\"2132b55e-e24a-451f-8d87-846e6c200f8b\",\"type\":\"LogScale\"}},\"id\":\"8daaa41c-39a8-4a81-a5e6-6c9b3fbe88ea\",\"subtype\":\"Figure\",\"type\":\"Plot\"},{\"attributes\":{\"plot\":null,\"text\":\"\"},\"id\":\"f7038925-14b1-4a11-9dfd-691f9c8b6bdf\",\"type\":\"Title\"},{\"attributes\":{\"source\":{\"id\":\"b4a608b6-6b8e-4126-8332-34bfe3ec4d75\",\"type\":\"ColumnDataSource\"}},\"id\":\"ce503121-efb4-4de1-a242-af0633251290\",\"type\":\"CDSView\"},{\"attributes\":{\"plot\":{\"id\":\"8daaa41c-39a8-4a81-a5e6-6c9b3fbe88ea\",\"subtype\":\"Figure\",\"type\":\"Plot\"},\"ticker\":{\"id\":\"81699ff7-7b72-47f0-a986-c20a67e56946\",\"type\":\"BasicTicker\"}},\"id\":\"11763aca-c6ba-4a52-8311-d7f13d65cd45\",\"type\":\"Grid\"},{\"attributes\":{\"line_alpha\":0.1,\"line_color\":\"#1f77b4\",\"line_width\":1.5,\"x\":{\"field\":\"x\"},\"y\":{\"field\":\"y\"}},\"id\":\"d8af3934-6257-4421-bb80-f7a76f87e0dd\",\"type\":\"Line\"},{\"attributes\":{\"line_alpha\":0.8,\"line_color\":\"#984ea3\",\"line_width\":1.5,\"x\":{\"field\":\"x\"},\"y\":{\"field\":\"y\"}},\"id\":\"6534a602-e0e7-4d73-8f65-1e3945320305\",\"type\":\"Line\"},{\"attributes\":{\"data_source\":{\"id\":\"bd05ac23-5a80-4aa5-99f2-22d05bffc3d1\",\"type\":\"ColumnDataSource\"},\"glyph\":{\"id\":\"6534a602-e0e7-4d73-8f65-1e3945320305\",\"type\":\"Line\"},\"hover_glyph\":null,\"muted_glyph\":null,\"nonselection_glyph\":{\"id\":\"d8af3934-6257-4421-bb80-f7a76f87e0dd\",\"type\":\"Line\"},\"selection_glyph\":null,\"view\":{\"id\":\"ac2cca55-1d0c-49e3-9b8d-abcaefd22f2b\",\"type\":\"CDSView\"}},\"id\":\"748e014f-1f44-4f9e-98b0-ff0c38387882\",\"type\":\"GlyphRenderer\"},{\"attributes\":{\"callback\":null,\"data\":{\"x\":{\"__ndarray__\":\"FrfWArdBij9TxYbGiSqNP0kK941ZPZI/ano6a3j5lT+gA07ckf2ZPxbgIPkBSp4/qiAlx7RuoT/EYVJE0uOjP1yS2PXYhKY/7ox3xkVVqT+3l3sbd1esPws6QIGOjq8/nt1zw2N9sT+NWEzrvRizP/4GGw6zZrQ/upB08aqTtT+OzekNUsu2P38/XSaID7g/7BYCMtReuT+kuLJdBLq6PxBDoyLr/Ls/4tT/IC/3uj966Nmxsxa3P4KsIx670bI/dO909rQUrj8KhgsqvmKnP/IAP3gnfqE/FSHPz0jUmT8fGjKvvpmTP71iWe4dlY0/iCmtDpjuhD8VMTlZyu16P5+NAX4ya3I/NQPh7faebz8LOFM6uylrP2K6Sp/oxmQ/QlQgxnKqWD8A7RK3vInwPr7V4NzrVFy/PGbCriu/a79gpTdqqWZ0vz4rLqxpx3q/7Zv0qMOEgL+TrkYB95qDv/qFVpkxSoa/7jHGZZAwhr+gNL3VzR2Cv8cFLUVuXXi/7DnQTgS0Z7/Qqv0zCTIwP3irQzpwUWw/s44zYQWFez8UXHrGtJOEP7JDE2AMcIs/TPebiaAjkT+9RUPp+4eUP0z9UVdk25c/1j0ugcYSmz+LVAG/kiCeP2ZeLcitgaA/AaSC/7fWoT98MoBpsRGjPydi1xeFNKQ/niXSehtCpT/awiZEVj2mP8DfUyzDJ6c/imZj+mX9pz8YgHFpL7SoP44Rp5glL6k/KqPYpLdMqT8ebmsxlu6oP16SMPe8J6g/BiYe7Qsqpz8YaMXXoRGmP/zlVrKq+KQ/\",\"dtype\":\"float64\",\"shape\":[75]},\"y\":{\"__ndarray__\":\"GhExyth1ND/Sv8nbtpRIP2vylNV0PVE/aTum7souWD/At0SJ8fVgPw3Iuahxymc/MSNhhJWvcD/bTfBN02d3P2zb5nxnaoA/CD5h5MAGhz8NmeH1TyaQP+zrCsc9p5Y/LbKd76fGnz/bLW5ISEmmPww9YvTcQq8/JV2OstnstT8Er5Y7M8G+P0c+r3jqkcU/5h99k6ZBzj88bCIzFzjVP4enV8oyxN0//yH99nXg5D8qOpLLf0jtP5kqGJXUifQ/c9cS8kHP/D+/DpwzojQEQIEmwoanVwxA4lgXt9HgE0BSSZ2AJuIbQAMJih9jjiNA5q4l5INuK0AwTKYKRj0zQNv5fmq8/DpAaCJseHrtQkB/+zpwzoxKQM3MzMzMeFJAZmZmZmZqWEAAAAAAAFxeQM3MzMzMJmJAmpmZmZkfZUBmZmZmZhhoQDMzMzMzEWtAAAAAAAAKbkBmZmZmZoFwQM3MzMzM/XFAMzMzMzN6c0CamZmZmfZ0QAAAAAAAc3ZAZmZmZmbvd0DNzMzMzGt5QDMzMzMz6HpAmpmZmZlkfEAAAAAAAOF9QGZmZmZmXX9AZmZmZuZsgECamZmZGSuBQM3MzMxM6YFAAAAAAICngkAzMzMzs2WDQGZmZmbmI4RAmpmZmRnihEDNzMzMTKCFQAAAAACAXoZAMzMzM7Mch0BmZmZm5tqHQJqZmZkZmYhAzczMzExXiUAAAAAAgBWKQDMzMzOz04pAZmZmZuaRi0CamZmZGVCMQM3MzMxMDo1AAAAAAIDMjUAzMzMzs4qOQGZmZmbmSI9A\",\"dtype\":\"float64\",\"shape\":[75]}},\"selected\":{\"id\":\"ce0de023-8e5f-439a-aade-0eab4a48559a\",\"type\":\"Selection\"},\"selection_policy\":{\"id\":\"9a8ce531-b999-4c16-83eb-9c2133f4afd7\",\"type\":\"UnionRenderers\"}},\"id\":\"b4a608b6-6b8e-4126-8332-34bfe3ec4d75\",\"type\":\"ColumnDataSource\"},{\"attributes\":{\"active_drag\":\"auto\",\"active_inspect\":\"auto\",\"active_scroll\":\"auto\",\"active_tap\":\"auto\",\"tools\":[{\"id\":\"2f732d85-cffe-47fd-b661-a73cf298fab3\",\"type\":\"PanTool\"},{\"id\":\"bbaf9066-02ea-4440-8eed-7a07891937dc\",\"type\":\"WheelZoomTool\"},{\"id\":\"49f712d7-b9e6-4b03-a923-a7a81cbd5206\",\"type\":\"BoxZoomTool\"},{\"id\":\"a3ab93e4-eaf9-4352-b33a-d24e44d48195\",\"type\":\"SaveTool\"},{\"id\":\"a3b4d7cb-a2d6-4283-a430-6efc42168e13\",\"type\":\"ResetTool\"},{\"id\":\"833bd558-eba2-4429-94b7-ddc172b8bf3a\",\"type\":\"HelpTool\"}]},\"id\":\"3656cc81-8d68-4f90-9a20-dbd4bfacdc79\",\"type\":\"Toolbar\"},{\"attributes\":{},\"id\":\"55e56f80-4a7a-4b2d-9a91-855f859e098e\",\"type\":\"LinearScale\"},{\"attributes\":{\"line_color\":\"#4daf4a\",\"line_width\":1.5,\"x\":{\"field\":\"x\"},\"y\":{\"field\":\"y\"}},\"id\":\"97f536b8-cb30-44b2-aef6-109513ec74f5\",\"type\":\"Line\"},{\"attributes\":{\"source\":{\"id\":\"7bfd9b12-2ef6-4da1-9c79-1ce294c16d86\",\"type\":\"ColumnDataSource\"}},\"id\":\"50e4d3ee-2b2c-4c2f-92ec-9470929550f4\",\"type\":\"CDSView\"},{\"attributes\":{\"line_alpha\":0.6,\"line_color\":\"#e41a1c\",\"line_dash\":[6],\"line_width\":5,\"x\":{\"field\":\"x\"},\"y\":{\"field\":\"y\"}},\"id\":\"c4b056d8-038e-4fe9-93d4-7453a65b69a0\",\"type\":\"Line\"},{\"attributes\":{\"source\":{\"id\":\"f1fca443-8c42-4127-82e1-cfe62088c9d7\",\"type\":\"ColumnDataSource\"}},\"id\":\"acbdb9e4-de04-4269-813c-a49ede50f4f3\",\"type\":\"CDSView\"},{\"attributes\":{\"callback\":null,\"data\":{\"x\":{\"__ndarray__\":\"OAtjYmbskz/5fNO+ee2SPxSHZK8UVZE/0qoKFMe2jj8ak4EpanyKP2wfGgdF74U/+p1pK7YOgT844oTjJNZ3P8j79zS12Wk/AIplyOugNj8gS71GSUplvwhw7baeMHe/nBO4yzcIgr90nEdqRquHv5joP+CLc4u/CCckl9QQjr8mSwKuDRCQvwDqWVLmzZC/BJOJmGhJkb/I/qoKqpmRv8yU/15EupG/jGN+6i8mi78Y7NpsGWFzv2CGsi9a+WU/fPmEiZLSfD8rfIzYeMeBP5ik+NBz/4A/AgvudNheej8KcfNgZxdvP7Q/WATGjFU/OOEooOwcRL/eruGoXF5ev5Qh3RrylGa/Cqp8xvs1bb8ARAyIiNNwv6yFYdkvTHK/Yi75hw8pc7+GyCVAeg1zv7jCS1EmZXK/JWwxXPqncb+O8QJgjKVwv9KBGY2kb26/vH4rU3hCar8QoMXsijRkv58p666sO1i/6j2FcJAfSb/2uY6N0dVFv9C2saSfGka/HLqTuQVMQb+Q83lO/M0yvwDU9VgpLta+HJs+2yRvMj/vEZJzxBRDP1y1FGfALUw/QEacGpwLUj+A/1I9k6FVP9gsn5F64lg/6NAoSxfcWz+4cS0bHHNePyx6/W9DkWA/CEMNdCe3YT9Q1IBxC75iP4DhIc67mGM/ULOyECwtZD/QGNS0FFtkP8ieh/78A2Q/GJYv/YX9Yj8Y62Ul94VhP7CEMrA1K2A/qHAJ9TF1YD+AhaerycBiP4jDp63PpGY/CHpN2hd6az/Mwiog5Q5wP6QCi7zfenI/\",\"dtype\":\"float64\",\"shape\":[75]},\"y\":{\"__ndarray__\":\"GhExyth1ND/Sv8nbtpRIP2vylNV0PVE/aTum7souWD/At0SJ8fVgPw3Iuahxymc/MSNhhJWvcD/bTfBN02d3P2zb5nxnaoA/CD5h5MAGhz8NmeH1TyaQP+zrCsc9p5Y/LbKd76fGnz/bLW5ISEmmPww9YvTcQq8/JV2OstnstT8Er5Y7M8G+P0c+r3jqkcU/5h99k6ZBzj88bCIzFzjVP4enV8oyxN0//yH99nXg5D8qOpLLf0jtP5kqGJXUifQ/c9cS8kHP/D+/DpwzojQEQIEmwoanVwxA4lgXt9HgE0BSSZ2AJuIbQAMJih9jjiNA5q4l5INuK0AwTKYKRj0zQNv5fmq8/DpAaCJseHrtQkB/+zpwzoxKQM3MzMzMeFJAZmZmZmZqWEAAAAAAAFxeQM3MzMzMJmJAmpmZmZkfZUBmZmZmZhhoQDMzMzMzEWtAAAAAAAAKbkBmZmZmZoFwQM3MzMzM/XFAMzMzMzN6c0CamZmZmfZ0QAAAAAAAc3ZAZmZmZmbvd0DNzMzMzGt5QDMzMzMz6HpAmpmZmZlkfEAAAAAAAOF9QGZmZmZmXX9AZmZmZuZsgECamZmZGSuBQM3MzMxM6YFAAAAAAICngkAzMzMzs2WDQGZmZmbmI4RAmpmZmRnihEDNzMzMTKCFQAAAAACAXoZAMzMzM7Mch0BmZmZm5tqHQJqZmZkZmYhAzczMzExXiUAAAAAAgBWKQDMzMzOz04pAZmZmZuaRi0CamZmZGVCMQM3MzMxMDo1AAAAAAIDMjUAzMzMzs4qOQGZmZmbmSI9A\",\"dtype\":\"float64\",\"shape\":[75]}},\"selected\":{\"id\":\"0f31d8b4-45e3-4cf1-a40c-a2b0bef49042\",\"type\":\"Selection\"},\"selection_policy\":{\"id\":\"9ca62408-816d-42ae-971a-67eefba1d11f\",\"type\":\"UnionRenderers\"}},\"id\":\"bd05ac23-5a80-4aa5-99f2-22d05bffc3d1\",\"type\":\"ColumnDataSource\"},{\"attributes\":{\"dimension\":1,\"plot\":{\"id\":\"31db792d-6b37-4e4b-b273-c575666ce9a5\",\"subtype\":\"Figure\",\"type\":\"Plot\"},\"ticker\":{\"id\":\"05ccc54c-246d-4b65-b96f-8ad781d2582c\",\"type\":\"LogTicker\"}},\"id\":\"29374041-a38c-420a-9360-3281fa2d6756\",\"type\":\"Grid\"},{\"attributes\":{\"active_drag\":\"auto\",\"active_inspect\":\"auto\",\"active_scroll\":\"auto\",\"active_tap\":\"auto\",\"tools\":[{\"id\":\"1ebd2c57-cdd4-4e46-8084-8e158ccadf5e\",\"type\":\"PanTool\"},{\"id\":\"dd6d0d85-d8b0-41f6-9672-e75b6937738d\",\"type\":\"WheelZoomTool\"},{\"id\":\"b85ac250-f7ed-4aab-953c-22e5d1a2b789\",\"type\":\"BoxZoomTool\"},{\"id\":\"a6c70209-4615-4dcd-a0e1-bb961087ca6f\",\"type\":\"SaveTool\"},{\"id\":\"95493c6c-f68e-4bb2-8873-8d4837cc916f\",\"type\":\"ResetTool\"},{\"id\":\"7139ca58-7815-40fc-bdea-c7e3033d6a95\",\"type\":\"HelpTool\"}]},\"id\":\"c122a99e-b2ec-4984-ba39-ecbbae1b2b43\",\"type\":\"Toolbar\"},{\"attributes\":{\"callback\":null,\"data\":{\"x\":{\"__ndarray__\":\"OAtjYmbskz/5fNO+ee2SPxSHZK8UVZE/0qoKFMe2jj8ak4EpanyKP2wfGgdF74U/+p1pK7YOgT844oTjJNZ3P8j79zS12Wk/AIplyOugNj8gS71GSUplvwhw7baeMHe/nBO4yzcIgr90nEdqRquHv5joP+CLc4u/CCckl9QQjr8mSwKuDRCQvwDqWVLmzZC/BJOJmGhJkb/I/qoKqpmRv8yU/15EupG/jGN+6i8mi78Y7NpsGWFzv2CGsi9a+WU/fPmEiZLSfD8rfIzYeMeBP5ik+NBz/4A/AgvudNheej8KcfNgZxdvP7Q/WATGjFU/OOEooOwcRL/eruGoXF5ev5Qh3RrylGa/Cqp8xvs1bb8ARAyIiNNwv6yFYdkvTHK/Yi75hw8pc7+GyCVAeg1zv7jCS1EmZXK/JWwxXPqncb+O8QJgjKVwv9KBGY2kb26/vH4rU3hCar8QoMXsijRkv58p666sO1i/6j2FcJAfSb/2uY6N0dVFv9C2saSfGka/HLqTuQVMQb+Q83lO/M0yvwDU9VgpLta+HJs+2yRvMj/vEZJzxBRDP1y1FGfALUw/QEacGpwLUj+A/1I9k6FVP9gsn5F64lg/6NAoSxfcWz+4cS0bHHNePyx6/W9DkWA/CEMNdCe3YT9Q1IBxC75iP4DhIc67mGM/ULOyECwtZD/QGNS0FFtkP8ieh/78A2Q/GJYv/YX9Yj8Y62Ul94VhP7CEMrA1K2A/qHAJ9TF1YD+AhaerycBiP4jDp63PpGY/CHpN2hd6az/Mwiog5Q5wP6QCi7zfenI/\",\"dtype\":\"float64\",\"shape\":[75]},\"y\":{\"__ndarray__\":\"GhExyth1ND/Sv8nbtpRIP2vylNV0PVE/aTum7souWD/At0SJ8fVgPw3Iuahxymc/MSNhhJWvcD/bTfBN02d3P2zb5nxnaoA/CD5h5MAGhz8NmeH1TyaQP+zrCsc9p5Y/LbKd76fGnz/bLW5ISEmmPww9YvTcQq8/JV2OstnstT8Er5Y7M8G+P0c+r3jqkcU/5h99k6ZBzj88bCIzFzjVP4enV8oyxN0//yH99nXg5D8qOpLLf0jtP5kqGJXUifQ/c9cS8kHP/D+/DpwzojQEQIEmwoanVwxA4lgXt9HgE0BSSZ2AJuIbQAMJih9jjiNA5q4l5INuK0AwTKYKRj0zQNv5fmq8/DpAaCJseHrtQkB/+zpwzoxKQM3MzMzMeFJAZmZmZmZqWEAAAAAAAFxeQM3MzMzMJmJAmpmZmZkfZUBmZmZmZhhoQDMzMzMzEWtAAAAAAAAKbkBmZmZmZoFwQM3MzMzM/XFAMzMzMzN6c0CamZmZmfZ0QAAAAAAAc3ZAZmZmZmbvd0DNzMzMzGt5QDMzMzMz6HpAmpmZmZlkfEAAAAAAAOF9QGZmZmZmXX9AZmZmZuZsgECamZmZGSuBQM3MzMxM6YFAAAAAAICngkAzMzMzs2WDQGZmZmbmI4RAmpmZmRnihEDNzMzMTKCFQAAAAACAXoZAMzMzM7Mch0BmZmZm5tqHQJqZmZkZmYhAzczMzExXiUAAAAAAgBWKQDMzMzOz04pAZmZmZuaRi0CamZmZGVCMQM3MzMxMDo1AAAAAAIDMjUAzMzMzs4qOQGZmZmbmSI9A\",\"dtype\":\"float64\",\"shape\":[75]}},\"selected\":{\"id\":\"8463f536-14ef-4f0f-a33c-d210fc7b9751\",\"type\":\"Selection\"},\"selection_policy\":{\"id\":\"c6a58dff-0e3c-486f-a27a-ae92102cfbda\",\"type\":\"UnionRenderers\"}},\"id\":\"3f792747-f10d-4b7d-8d52-8db5dc90059c\",\"type\":\"ColumnDataSource\"},{\"attributes\":{},\"id\":\"2f732d85-cffe-47fd-b661-a73cf298fab3\",\"type\":\"PanTool\"},{\"attributes\":{\"ticker\":null},\"id\":\"9bca9962-5163-4251-8707-272b9fcd13f7\",\"type\":\"LogTickFormatter\"},{\"attributes\":{\"fill_alpha\":{\"value\":0.7},\"fill_color\":{\"value\":\"#984ea3\"},\"line_alpha\":{\"value\":0.7},\"line_color\":{\"value\":\"#984ea3\"},\"x\":{\"field\":\"x\"},\"y\":{\"field\":\"y\"}},\"id\":\"ba334939-ef05-488f-a3da-e1404bd0f025\",\"type\":\"Circle\"},{\"attributes\":{\"source\":{\"id\":\"bd05ac23-5a80-4aa5-99f2-22d05bffc3d1\",\"type\":\"ColumnDataSource\"}},\"id\":\"ac2cca55-1d0c-49e3-9b8d-abcaefd22f2b\",\"type\":\"CDSView\"},{\"attributes\":{\"plot\":null,\"text\":\"\"},\"id\":\"095fefe0-708e-4453-a502-975cfcfdc1b7\",\"type\":\"Title\"},{\"attributes\":{\"callback\":null,\"data\":{\"x\":{\"__ndarray__\":\"sr7egysue78+aUBu02Bxv8BmUNKbCE0/ApTUhFN4ej8mdBqPuX6JP2HQk3VfUpM/VnKVeA5Wmj99xeGnDemgP58SiaI956Q/2sHm7gMoqT9pbOevG6ytPwb0DixROrE/EeDqvGq+sz8cTJW4Jg62PxAEI4ok1bc/mxVZhMVVuT9YYGp5Vc+6P/+587oBQ7w/rnskWC6xvT9WeF3gbiC/PyKUMR2+NcA/VKFPHvVbvj88l6dIxUy4P1AYpkzwIbI/RFBEpWJ6qj//Zujz3/CiP5ivAQiVfJo/VJ6TspI8kz/7VyeGo22PP8Zazi2F44o/nLev2GYwhj9mzrjBsEKBP2kecIurtX0/oNYuWnlqfj8G4DUlZmh+P93iBimkr3w/c0OBOaxTeT9z29z8Ax5zP5IaJ7TWn2Y/OMiBJiRDTj+QnqVR6AhOv6nUQssuH2e/fHhTKEvoc78ejSqMqBt9v8YgeQO8QoO/D969XpeehL8ASeS8cMCAv+3OllAamnW/ZUtr4AJhY78wzzvBAoBBP2Im8E6HXGw/AaV/ExNeej/1OkF/aGKDP1z4oVkwrYk/6DLyx+YCkD/FFW614i2TP34KOK48TZY/yLB7DAVVmT9wfU79YDmcP4YNWyIz8Z4/0M9BiEW7oD82JWiy0OWhPw9E9Vr5+qI/avrGuUj/oz9Mgdn4pPekP9Rla1yD56U/KW2Qmo3Npj9mIRv3z5unP0Lpoz1yLKg/IAyIhWRFqD/G9bCWicKnPyYWVvxvvaY/ZU55b2pypT+/D8AzxQ+kP6iFxbpOqaI/\",\"dtype\":\"float64\",\"shape\":[75]},\"y\":{\"__ndarray__\":\"GhExyth1ND/Sv8nbtpRIP2vylNV0PVE/aTum7souWD/At0SJ8fVgPw3Iuahxymc/MSNhhJWvcD/bTfBN02d3P2zb5nxnaoA/CD5h5MAGhz8NmeH1TyaQP+zrCsc9p5Y/LbKd76fGnz/bLW5ISEmmPww9YvTcQq8/JV2OstnstT8Er5Y7M8G+P0c+r3jqkcU/5h99k6ZBzj88bCIzFzjVP4enV8oyxN0//yH99nXg5D8qOpLLf0jtP5kqGJXUifQ/c9cS8kHP/D+/DpwzojQEQIEmwoanVwxA4lgXt9HgE0BSSZ2AJuIbQAMJih9jjiNA5q4l5INuK0AwTKYKRj0zQNv5fmq8/DpAaCJseHrtQkB/+zpwzoxKQM3MzMzMeFJAZmZmZmZqWEAAAAAAAFxeQM3MzMzMJmJAmpmZmZkfZUBmZmZmZhhoQDMzMzMzEWtAAAAAAAAKbkBmZmZmZoFwQM3MzMzM/XFAMzMzMzN6c0CamZmZmfZ0QAAAAAAAc3ZAZmZmZmbvd0DNzMzMzGt5QDMzMzMz6HpAmpmZmZlkfEAAAAAAAOF9QGZmZmZmXX9AZmZmZuZsgECamZmZGSuBQM3MzMxM6YFAAAAAAICngkAzMzMzs2WDQGZmZmbmI4RAmpmZmRnihEDNzMzMTKCFQAAAAACAXoZAMzMzM7Mch0BmZmZm5tqHQJqZmZkZmYhAzczMzExXiUAAAAAAgBWKQDMzMzOz04pAZmZmZuaRi0CamZmZGVCMQM3MzMxMDo1AAAAAAIDMjUAzMzMzs4qOQGZmZmbmSI9A\",\"dtype\":\"float64\",\"shape\":[75]}},\"selected\":{\"id\":\"7bdc99a5-28f9-46c3-aab7-cfb463e37c82\",\"type\":\"Selection\"},\"selection_policy\":{\"id\":\"4a065685-bea9-47ef-bd5f-704cfc91cc77\",\"type\":\"UnionRenderers\"}},\"id\":\"f1fca443-8c42-4127-82e1-cfe62088c9d7\",\"type\":\"ColumnDataSource\"},{\"attributes\":{},\"id\":\"09d2006c-5381-4779-a06c-8a966f155f90\",\"type\":\"BasicTickFormatter\"},{\"attributes\":{\"children\":[{\"id\":\"c53886a7-728f-4fbd-a152-60fadd73eb26\",\"type\":\"Row\"}]},\"id\":\"fc7ffae0-27c2-46ae-8920-891b649b8e07\",\"type\":\"Column\"},{\"attributes\":{\"children\":[{\"id\":\"288a98df-a736-4057-a658-9a55cdbc722f\",\"subtype\":\"Figure\",\"type\":\"Plot\"},{\"id\":\"31db792d-6b37-4e4b-b273-c575666ce9a5\",\"subtype\":\"Figure\",\"type\":\"Plot\"},{\"id\":\"8daaa41c-39a8-4a81-a5e6-6c9b3fbe88ea\",\"subtype\":\"Figure\",\"type\":\"Plot\"}]},\"id\":\"c53886a7-728f-4fbd-a152-60fadd73eb26\",\"type\":\"Row\"},{\"attributes\":{\"source\":{\"id\":\"cef0f5a3-f016-49ca-8033-646b490b96bd\",\"type\":\"ColumnDataSource\"}},\"id\":\"cefd1eb1-12d8-46e9-bbf5-4db5d8042618\",\"type\":\"CDSView\"},{\"attributes\":{\"line_alpha\":0.1,\"line_color\":\"#1f77b4\",\"line_width\":1.5,\"x\":{\"field\":\"x\"},\"y\":{\"field\":\"y\"}},\"id\":\"f673ff31-3411-42e0-8b71-85669f48dc38\",\"type\":\"Line\"},{\"attributes\":{\"line_alpha\":0.1,\"line_color\":\"#1f77b4\",\"line_width\":1.5,\"x\":{\"field\":\"x\"},\"y\":{\"field\":\"y\"}},\"id\":\"34fb1591-2031-4345-934f-dcac9c71fbdd\",\"type\":\"Line\"},{\"attributes\":{\"label\":{\"value\":\"CLIRAD - CRD\"},\"renderers\":[{\"id\":\"e8a15d2b-ee41-4f83-946c-1d14c202475c\",\"type\":\"GlyphRenderer\"},{\"id\":\"748e014f-1f44-4f9e-98b0-ff0c38387882\",\"type\":\"GlyphRenderer\"}]},\"id\":\"d7207cf3-c94d-4303-82cc-007c3b4b8398\",\"type\":\"LegendItem\"},{\"attributes\":{},\"id\":\"074e3919-fcb6-4898-81b1-291feded6e41\",\"type\":\"BasicTickFormatter\"},{\"attributes\":{},\"id\":\"2132b55e-e24a-451f-8d87-846e6c200f8b\",\"type\":\"LogScale\"},{\"attributes\":{},\"id\":\"bcbd3714-cb35-4c76-b91e-f4d9693133fc\",\"type\":\"Selection\"},{\"attributes\":{\"items\":[{\"id\":\"92752099-dc4d-4a4c-b9fe-e3123d853a20\",\"type\":\"LegendItem\"},{\"id\":\"7fc45bff-68ca-40eb-aec9-d6f9df7153f3\",\"type\":\"LegendItem\"}],\"label_text_font_size\":{\"value\":\"8pt\"},\"location\":\"top_center\",\"orientation\":\"horizontal\",\"plot\":{\"id\":\"31db792d-6b37-4e4b-b273-c575666ce9a5\",\"subtype\":\"Figure\",\"type\":\"Plot\"}},\"id\":\"aaf62cd5-03cc-4f9a-8756-948ac5deb333\",\"type\":\"Legend\"},{\"attributes\":{},\"id\":\"b64075d2-c391-4b0a-a44e-828107e7cb06\",\"type\":\"UnionRenderers\"},{\"attributes\":{},\"id\":\"c6a58dff-0e3c-486f-a27a-ae92102cfbda\",\"type\":\"UnionRenderers\"},{\"attributes\":{\"axis_label\":\"pressure [mb]\",\"formatter\":{\"id\":\"c840747c-5528-4e5f-90d9-74e546870f08\",\"type\":\"LogTickFormatter\"},\"plot\":{\"id\":\"31db792d-6b37-4e4b-b273-c575666ce9a5\",\"subtype\":\"Figure\",\"type\":\"Plot\"},\"ticker\":{\"id\":\"05ccc54c-246d-4b65-b96f-8ad781d2582c\",\"type\":\"LogTicker\"}},\"id\":\"b3546c0f-78ec-4231-9b47-d344871b1442\",\"type\":\"LogAxis\"},{\"attributes\":{},\"id\":\"614e3b29-06ef-42a7-85a7-81352120ac5c\",\"type\":\"BasicTickFormatter\"},{\"attributes\":{\"bottom_units\":\"screen\",\"fill_alpha\":{\"value\":0.5},\"fill_color\":{\"value\":\"lightgrey\"},\"left_units\":\"screen\",\"level\":\"overlay\",\"line_alpha\":{\"value\":1.0},\"line_color\":{\"value\":\"black\"},\"line_dash\":[4,4],\"line_width\":{\"value\":2},\"plot\":null,\"render_mode\":\"css\",\"right_units\":\"screen\",\"top_units\":\"screen\"},\"id\":\"387cf6ee-603e-4a8d-87b6-77417999c2b3\",\"type\":\"BoxAnnotation\"},{\"attributes\":{\"plot\":null,\"text\":\"\"},\"id\":\"c772a668-f98e-4a71-ac82-1690ae68b015\",\"type\":\"Title\"},{\"attributes\":{\"label\":{\"value\":\"CRD\"},\"renderers\":[{\"id\":\"897fec91-143a-40cf-94ec-d4faff077113\",\"type\":\"GlyphRenderer\"},{\"id\":\"a841cfdf-5dfe-49da-90c1-3bb6b65eea8d\",\"type\":\"GlyphRenderer\"}]},\"id\":\"34bfd1a4-1de6-4242-b68f-dea6677aef2b\",\"type\":\"LegendItem\"},{\"attributes\":{},\"id\":\"833bd558-eba2-4429-94b7-ddc172b8bf3a\",\"type\":\"HelpTool\"},{\"attributes\":{\"label\":{\"value\":\"CLIRAD\"},\"renderers\":[{\"id\":\"f3d279a5-add0-4a36-9cf8-800e084198c7\",\"type\":\"GlyphRenderer\"}]},\"id\":\"6624703a-f805-475a-a32b-bad4b8545a69\",\"type\":\"LegendItem\"},{\"attributes\":{},\"id\":\"81699ff7-7b72-47f0-a986-c20a67e56946\",\"type\":\"BasicTicker\"},{\"attributes\":{},\"id\":\"dafe9d83-25c9-4b1f-a8e3-96184e9fd7b7\",\"type\":\"Selection\"},{\"attributes\":{},\"id\":\"20df8131-2cf5-4dba-ad7f-c37aa5b1c816\",\"type\":\"BasicTickFormatter\"},{\"attributes\":{},\"id\":\"4a065685-bea9-47ef-bd5f-704cfc91cc77\",\"type\":\"UnionRenderers\"},{\"attributes\":{},\"id\":\"4fecbece-519b-4d55-b05e-b82ef04e69a9\",\"type\":\"Selection\"},{\"attributes\":{},\"id\":\"fbe77424-bd5a-4f00-a2b6-7074090c110c\",\"type\":\"UnionRenderers\"},{\"attributes\":{\"ticker\":null},\"id\":\"c840747c-5528-4e5f-90d9-74e546870f08\",\"type\":\"LogTickFormatter\"},{\"attributes\":{\"items\":[{\"id\":\"d7207cf3-c94d-4303-82cc-007c3b4b8398\",\"type\":\"LegendItem\"}],\"label_text_font_size\":{\"value\":\"8pt\"},\"location\":\"top_center\",\"orientation\":\"horizontal\",\"plot\":{\"id\":\"8daaa41c-39a8-4a81-a5e6-6c9b3fbe88ea\",\"subtype\":\"Figure\",\"type\":\"Plot\"}},\"id\":\"d1e0d923-e0b6-40bf-be0d-e855bf73057d\",\"type\":\"Legend\"},{\"attributes\":{\"fill_alpha\":{\"value\":0.7},\"fill_color\":{\"value\":\"#4daf4a\"},\"line_alpha\":{\"value\":0.7},\"line_color\":{\"value\":\"#4daf4a\"},\"x\":{\"field\":\"x\"},\"y\":{\"field\":\"y\"}},\"id\":\"d5d50374-3ce0-4140-9ae5-1078e5d6cbed\",\"type\":\"Circle\"},{\"attributes\":{\"fill_alpha\":{\"value\":0.7},\"fill_color\":{\"value\":\"#4daf4a\"},\"line_alpha\":{\"value\":0.7},\"line_color\":{\"value\":\"#4daf4a\"},\"x\":{\"field\":\"x\"},\"y\":{\"field\":\"y\"}},\"id\":\"a87c43c0-afff-40fd-a397-0baaec59e10b\",\"type\":\"Circle\"},{\"attributes\":{},\"id\":\"7fb58812-74c5-4906-b68f-b28c3f1dd524\",\"type\":\"WheelZoomTool\"},{\"attributes\":{\"dimension\":1,\"plot\":{\"id\":\"8daaa41c-39a8-4a81-a5e6-6c9b3fbe88ea\",\"subtype\":\"Figure\",\"type\":\"Plot\"},\"ticker\":{\"id\":\"c725bc5e-babf-4d58-af38-ccb24a1f4ec7\",\"type\":\"LogTicker\"}},\"id\":\"9e579611-375d-4c56-81a4-ba480b8fb243\",\"type\":\"Grid\"},{\"attributes\":{},\"id\":\"55c726eb-144f-4cc3-bd45-ac0667ad73d1\",\"type\":\"UnionRenderers\"},{\"attributes\":{\"plot\":{\"id\":\"288a98df-a736-4057-a658-9a55cdbc722f\",\"subtype\":\"Figure\",\"type\":\"Plot\"},\"ticker\":{\"id\":\"2714d781-171c-40fe-897f-cb05e6ce255c\",\"type\":\"BasicTicker\"}},\"id\":\"23182e2f-c531-4d57-b02b-2b9b551367dd\",\"type\":\"Grid\"},{\"attributes\":{\"items\":[{\"id\":\"6624703a-f805-475a-a32b-bad4b8545a69\",\"type\":\"LegendItem\"},{\"id\":\"34bfd1a4-1de6-4242-b68f-dea6677aef2b\",\"type\":\"LegendItem\"}],\"label_text_font_size\":{\"value\":\"8pt\"},\"location\":\"top_center\",\"orientation\":\"horizontal\",\"plot\":{\"id\":\"288a98df-a736-4057-a658-9a55cdbc722f\",\"subtype\":\"Figure\",\"type\":\"Plot\"}},\"id\":\"192c74ad-6cf1-4f24-96a7-70ec860f23ca\",\"type\":\"Legend\"},{\"attributes\":{\"callback\":null,\"end\":0.01,\"start\":1020},\"id\":\"712aca21-b12c-4026-9696-f19a47012d86\",\"type\":\"Range1d\"},{\"attributes\":{\"bottom_units\":\"screen\",\"fill_alpha\":{\"value\":0.5},\"fill_color\":{\"value\":\"lightgrey\"},\"left_units\":\"screen\",\"level\":\"overlay\",\"line_alpha\":{\"value\":1.0},\"line_color\":{\"value\":\"black\"},\"line_dash\":[4,4],\"line_width\":{\"value\":2},\"plot\":null,\"render_mode\":\"css\",\"right_units\":\"screen\",\"top_units\":\"screen\"},\"id\":\"86f0ceea-c810-4250-a330-7d1449ef2045\",\"type\":\"BoxAnnotation\"},{\"attributes\":{},\"id\":\"2fe0c5f0-3757-460d-91a8-374f2eb42b49\",\"type\":\"Selection\"},{\"attributes\":{},\"id\":\"536ba526-7037-400f-916d-8c5cf8cb5b33\",\"type\":\"LinearScale\"},{\"attributes\":{},\"id\":\"1bd07168-0abb-41f3-9895-20202e8bc9f1\",\"type\":\"UnionRenderers\"},{\"attributes\":{},\"id\":\"e4a0b304-a05c-4b77-8174-c60cd53527ce\",\"type\":\"HelpTool\"},{\"attributes\":{\"dimension\":1,\"plot\":{\"id\":\"288a98df-a736-4057-a658-9a55cdbc722f\",\"subtype\":\"Figure\",\"type\":\"Plot\"},\"ticker\":{\"id\":\"276c8bcd-6167-4cb8-9f08-b4d59d176f51\",\"type\":\"BasicTicker\"}},\"id\":\"c2b0588f-29bc-4cb9-ad2f-94a66c083452\",\"type\":\"Grid\"},{\"attributes\":{\"active_drag\":\"auto\",\"active_inspect\":\"auto\",\"active_scroll\":\"auto\",\"active_tap\":\"auto\",\"tools\":[{\"id\":\"4a2eb276-ed71-4c8d-bfa8-66c8fd5be6df\",\"type\":\"PanTool\"},{\"id\":\"7fb58812-74c5-4906-b68f-b28c3f1dd524\",\"type\":\"WheelZoomTool\"},{\"id\":\"086d4ca3-50d7-4738-b366-a69ec23be3e3\",\"type\":\"BoxZoomTool\"},{\"id\":\"495c8590-4a9b-4cfc-a35f-452e6cc6b5af\",\"type\":\"SaveTool\"},{\"id\":\"8a45fc7b-7705-4f93-96fc-852f404cb4f3\",\"type\":\"ResetTool\"},{\"id\":\"e4a0b304-a05c-4b77-8174-c60cd53527ce\",\"type\":\"HelpTool\"}]},\"id\":\"2d9c4c97-eae1-45c7-b1c5-b378fca62b95\",\"type\":\"Toolbar\"},{\"attributes\":{},\"id\":\"8a45fc7b-7705-4f93-96fc-852f404cb4f3\",\"type\":\"ResetTool\"},{\"attributes\":{\"num_minor_ticks\":10},\"id\":\"c725bc5e-babf-4d58-af38-ccb24a1f4ec7\",\"type\":\"LogTicker\"},{\"attributes\":{\"label\":{\"value\":\"CRD\"},\"renderers\":[{\"id\":\"390eb7ed-a9c4-490d-b677-ec75461dd726\",\"type\":\"GlyphRenderer\"},{\"id\":\"d2c8350d-ce3e-4131-a4c9-543bdc0f9497\",\"type\":\"GlyphRenderer\"}]},\"id\":\"7fc45bff-68ca-40eb-aec9-d6f9df7153f3\",\"type\":\"LegendItem\"},{\"attributes\":{},\"id\":\"276c8bcd-6167-4cb8-9f08-b4d59d176f51\",\"type\":\"BasicTicker\"},{\"attributes\":{},\"id\":\"2714d781-171c-40fe-897f-cb05e6ce255c\",\"type\":\"BasicTicker\"},{\"attributes\":{},\"id\":\"495c8590-4a9b-4cfc-a35f-452e6cc6b5af\",\"type\":\"SaveTool\"},{\"attributes\":{},\"id\":\"c4bb023a-2b92-487d-a6bc-da937e9dfbdd\",\"type\":\"LinearScale\"},{\"attributes\":{\"callback\":null,\"end\":0.01,\"start\":1020},\"id\":\"3841faa5-3b5c-4973-b022-c5d963167764\",\"type\":\"Range1d\"},{\"attributes\":{\"above\":[{\"id\":\"192c74ad-6cf1-4f24-96a7-70ec860f23ca\",\"type\":\"Legend\"}],\"below\":[{\"id\":\"b2681183-afdd-4fb6-9364-6c5da8cb10df\",\"type\":\"LinearAxis\"}],\"left\":[{\"id\":\"477a9f00-70fb-489c-8bb5-04ec8c499c1c\",\"type\":\"LinearAxis\"}],\"plot_width\":300,\"renderers\":[{\"id\":\"b2681183-afdd-4fb6-9364-6c5da8cb10df\",\"type\":\"LinearAxis\"},{\"id\":\"23182e2f-c531-4d57-b02b-2b9b551367dd\",\"type\":\"Grid\"},{\"id\":\"477a9f00-70fb-489c-8bb5-04ec8c499c1c\",\"type\":\"LinearAxis\"},{\"id\":\"c2b0588f-29bc-4cb9-ad2f-94a66c083452\",\"type\":\"Grid\"},{\"id\":\"86f0ceea-c810-4250-a330-7d1449ef2045\",\"type\":\"BoxAnnotation\"},{\"id\":\"f3d279a5-add0-4a36-9cf8-800e084198c7\",\"type\":\"GlyphRenderer\"},{\"id\":\"897fec91-143a-40cf-94ec-d4faff077113\",\"type\":\"GlyphRenderer\"},{\"id\":\"a841cfdf-5dfe-49da-90c1-3bb6b65eea8d\",\"type\":\"GlyphRenderer\"},{\"id\":\"192c74ad-6cf1-4f24-96a7-70ec860f23ca\",\"type\":\"Legend\"}],\"title\":{\"id\":\"095fefe0-708e-4453-a502-975cfcfdc1b7\",\"type\":\"Title\"},\"toolbar\":{\"id\":\"2d9c4c97-eae1-45c7-b1c5-b378fca62b95\",\"type\":\"Toolbar\"},\"toolbar_location\":null,\"x_range\":{\"id\":\"4ef9bd4c-6e47-4eb2-82ef-0fda79f4f907\",\"type\":\"Range1d\"},\"x_scale\":{\"id\":\"c4bb023a-2b92-487d-a6bc-da937e9dfbdd\",\"type\":\"LinearScale\"},\"y_range\":{\"id\":\"712aca21-b12c-4026-9696-f19a47012d86\",\"type\":\"Range1d\"},\"y_scale\":{\"id\":\"536ba526-7037-400f-916d-8c5cf8cb5b33\",\"type\":\"LinearScale\"}},\"id\":\"288a98df-a736-4057-a658-9a55cdbc722f\",\"subtype\":\"Figure\",\"type\":\"Plot\"},{\"attributes\":{\"overlay\":{\"id\":\"86f0ceea-c810-4250-a330-7d1449ef2045\",\"type\":\"BoxAnnotation\"}},\"id\":\"086d4ca3-50d7-4738-b366-a69ec23be3e3\",\"type\":\"BoxZoomTool\"},{\"attributes\":{\"toolbar\":{\"id\":\"0affd827-f149-474c-9ac9-3dc66d75c29b\",\"type\":\"ProxyToolbar\"},\"toolbar_location\":\"above\"},\"id\":\"7e0791e7-3db4-4c27-81d6-606c8fca5002\",\"type\":\"ToolbarBox\"},{\"attributes\":{\"callback\":null,\"end\":0.050016403328399996,\"start\":-0.0114866721684},\"id\":\"4ef9bd4c-6e47-4eb2-82ef-0fda79f4f907\",\"type\":\"Range1d\"},{\"attributes\":{\"data_source\":{\"id\":\"f1fca443-8c42-4127-82e1-cfe62088c9d7\",\"type\":\"ColumnDataSource\"},\"glyph\":{\"id\":\"381422e5-29b4-4eec-862e-fdab2b4f41aa\",\"type\":\"Line\"},\"hover_glyph\":null,\"muted_glyph\":null,\"nonselection_glyph\":{\"id\":\"f673ff31-3411-42e0-8b71-85669f48dc38\",\"type\":\"Line\"},\"selection_glyph\":null,\"view\":{\"id\":\"acbdb9e4-de04-4269-813c-a49ede50f4f3\",\"type\":\"CDSView\"}},\"id\":\"d2c8350d-ce3e-4131-a4c9-543bdc0f9497\",\"type\":\"GlyphRenderer\"},{\"attributes\":{\"label\":{\"value\":\"CLIRAD\"},\"renderers\":[{\"id\":\"4dd0b1ac-7d32-43b9-aa55-a6446169ee65\",\"type\":\"GlyphRenderer\"}]},\"id\":\"92752099-dc4d-4a4c-b9fe-e3123d853a20\",\"type\":\"LegendItem\"},{\"attributes\":{},\"id\":\"ce0de023-8e5f-439a-aade-0eab4a48559a\",\"type\":\"Selection\"},{\"attributes\":{\"tools\":[{\"id\":\"4a2eb276-ed71-4c8d-bfa8-66c8fd5be6df\",\"type\":\"PanTool\"},{\"id\":\"7fb58812-74c5-4906-b68f-b28c3f1dd524\",\"type\":\"WheelZoomTool\"},{\"id\":\"086d4ca3-50d7-4738-b366-a69ec23be3e3\",\"type\":\"BoxZoomTool\"},{\"id\":\"495c8590-4a9b-4cfc-a35f-452e6cc6b5af\",\"type\":\"SaveTool\"},{\"id\":\"8a45fc7b-7705-4f93-96fc-852f404cb4f3\",\"type\":\"ResetTool\"},{\"id\":\"e4a0b304-a05c-4b77-8174-c60cd53527ce\",\"type\":\"HelpTool\"},{\"id\":\"2f732d85-cffe-47fd-b661-a73cf298fab3\",\"type\":\"PanTool\"},{\"id\":\"bbaf9066-02ea-4440-8eed-7a07891937dc\",\"type\":\"WheelZoomTool\"},{\"id\":\"49f712d7-b9e6-4b03-a923-a7a81cbd5206\",\"type\":\"BoxZoomTool\"},{\"id\":\"a3ab93e4-eaf9-4352-b33a-d24e44d48195\",\"type\":\"SaveTool\"},{\"id\":\"a3b4d7cb-a2d6-4283-a430-6efc42168e13\",\"type\":\"ResetTool\"},{\"id\":\"833bd558-eba2-4429-94b7-ddc172b8bf3a\",\"type\":\"HelpTool\"},{\"id\":\"1ebd2c57-cdd4-4e46-8084-8e158ccadf5e\",\"type\":\"PanTool\"},{\"id\":\"dd6d0d85-d8b0-41f6-9672-e75b6937738d\",\"type\":\"WheelZoomTool\"},{\"id\":\"b85ac250-f7ed-4aab-953c-22e5d1a2b789\",\"type\":\"BoxZoomTool\"},{\"id\":\"a6c70209-4615-4dcd-a0e1-bb961087ca6f\",\"type\":\"SaveTool\"},{\"id\":\"95493c6c-f68e-4bb2-8873-8d4837cc916f\",\"type\":\"ResetTool\"},{\"id\":\"7139ca58-7815-40fc-bdea-c7e3033d6a95\",\"type\":\"HelpTool\"}]},\"id\":\"0affd827-f149-474c-9ac9-3dc66d75c29b\",\"type\":\"ProxyToolbar\"},{\"attributes\":{},\"id\":\"4a2eb276-ed71-4c8d-bfa8-66c8fd5be6df\",\"type\":\"PanTool\"},{\"attributes\":{\"children\":[{\"id\":\"7e0791e7-3db4-4c27-81d6-606c8fca5002\",\"type\":\"ToolbarBox\"},{\"id\":\"fc7ffae0-27c2-46ae-8920-891b649b8e07\",\"type\":\"Column\"}]},\"id\":\"ceaa2dc0-30f5-45c3-8854-a60a993ec153\",\"type\":\"Column\"},{\"attributes\":{\"axis_label\":\"cooling rate [K/day]\",\"formatter\":{\"id\":\"614e3b29-06ef-42a7-85a7-81352120ac5c\",\"type\":\"BasicTickFormatter\"},\"plot\":{\"id\":\"288a98df-a736-4057-a658-9a55cdbc722f\",\"subtype\":\"Figure\",\"type\":\"Plot\"},\"ticker\":{\"id\":\"2714d781-171c-40fe-897f-cb05e6ce255c\",\"type\":\"BasicTicker\"}},\"id\":\"b2681183-afdd-4fb6-9364-6c5da8cb10df\",\"type\":\"LinearAxis\"},{\"attributes\":{\"line_alpha\":0.1,\"line_color\":\"#1f77b4\",\"line_dash\":[6],\"line_width\":5,\"x\":{\"field\":\"x\"},\"y\":{\"field\":\"y\"}},\"id\":\"a1001c38-df88-4af1-8b4f-0fcd7cc35a8a\",\"type\":\"Line\"},{\"attributes\":{\"axis_label\":\"pressure [mb]\",\"formatter\":{\"id\":\"074e3919-fcb6-4898-81b1-291feded6e41\",\"type\":\"BasicTickFormatter\"},\"plot\":{\"id\":\"288a98df-a736-4057-a658-9a55cdbc722f\",\"subtype\":\"Figure\",\"type\":\"Plot\"},\"ticker\":{\"id\":\"276c8bcd-6167-4cb8-9f08-b4d59d176f51\",\"type\":\"BasicTicker\"}},\"id\":\"477a9f00-70fb-489c-8bb5-04ec8c499c1c\",\"type\":\"LinearAxis\"},{\"attributes\":{\"callback\":null,\"data\":{\"x\":{\"__ndarray__\":\"FrfWArdBij9TxYbGiSqNP0kK941ZPZI/ano6a3j5lT+gA07ckf2ZPxbgIPkBSp4/qiAlx7RuoT/EYVJE0uOjP1yS2PXYhKY/7ox3xkVVqT+3l3sbd1esPws6QIGOjq8/nt1zw2N9sT+NWEzrvRizP/4GGw6zZrQ/upB08aqTtT+OzekNUsu2P38/XSaID7g/7BYCMtReuT+kuLJdBLq6PxBDoyLr/Ls/4tT/IC/3uj966Nmxsxa3P4KsIx670bI/dO909rQUrj8KhgsqvmKnP/IAP3gnfqE/FSHPz0jUmT8fGjKvvpmTP71iWe4dlY0/iCmtDpjuhD8VMTlZyu16P5+NAX4ya3I/NQPh7faebz8LOFM6uylrP2K6Sp/oxmQ/QlQgxnKqWD8A7RK3vInwPr7V4NzrVFy/PGbCriu/a79gpTdqqWZ0vz4rLqxpx3q/7Zv0qMOEgL+TrkYB95qDv/qFVpkxSoa/7jHGZZAwhr+gNL3VzR2Cv8cFLUVuXXi/7DnQTgS0Z7/Qqv0zCTIwP3irQzpwUWw/s44zYQWFez8UXHrGtJOEP7JDE2AMcIs/TPebiaAjkT+9RUPp+4eUP0z9UVdk25c/1j0ugcYSmz+LVAG/kiCeP2ZeLcitgaA/AaSC/7fWoT98MoBpsRGjPydi1xeFNKQ/niXSehtCpT/awiZEVj2mP8DfUyzDJ6c/imZj+mX9pz8YgHFpL7SoP44Rp5glL6k/KqPYpLdMqT8ebmsxlu6oP16SMPe8J6g/BiYe7Qsqpz8YaMXXoRGmP/zlVrKq+KQ/\",\"dtype\":\"float64\",\"shape\":[75]},\"y\":{\"__ndarray__\":\"GhExyth1ND/Sv8nbtpRIP2vylNV0PVE/aTum7souWD/At0SJ8fVgPw3Iuahxymc/MSNhhJWvcD/bTfBN02d3P2zb5nxnaoA/CD5h5MAGhz8NmeH1TyaQP+zrCsc9p5Y/LbKd76fGnz/bLW5ISEmmPww9YvTcQq8/JV2OstnstT8Er5Y7M8G+P0c+r3jqkcU/5h99k6ZBzj88bCIzFzjVP4enV8oyxN0//yH99nXg5D8qOpLLf0jtP5kqGJXUifQ/c9cS8kHP/D+/DpwzojQEQIEmwoanVwxA4lgXt9HgE0BSSZ2AJuIbQAMJih9jjiNA5q4l5INuK0AwTKYKRj0zQNv5fmq8/DpAaCJseHrtQkB/+zpwzoxKQM3MzMzMeFJAZmZmZmZqWEAAAAAAAFxeQM3MzMzMJmJAmpmZmZkfZUBmZmZmZhhoQDMzMzMzEWtAAAAAAAAKbkBmZmZmZoFwQM3MzMzM/XFAMzMzMzN6c0CamZmZmfZ0QAAAAAAAc3ZAZmZmZmbvd0DNzMzMzGt5QDMzMzMz6HpAmpmZmZlkfEAAAAAAAOF9QGZmZmZmXX9AZmZmZuZsgECamZmZGSuBQM3MzMxM6YFAAAAAAICngkAzMzMzs2WDQGZmZmbmI4RAmpmZmRnihEDNzMzMTKCFQAAAAACAXoZAMzMzM7Mch0BmZmZm5tqHQJqZmZkZmYhAzczMzExXiUAAAAAAgBWKQDMzMzOz04pAZmZmZuaRi0CamZmZGVCMQM3MzMxMDo1AAAAAAIDMjUAzMzMzs4qOQGZmZmbmSI9A\",\"dtype\":\"float64\",\"shape\":[75]}},\"selected\":{\"id\":\"4fecbece-519b-4d55-b05e-b82ef04e69a9\",\"type\":\"Selection\"},\"selection_policy\":{\"id\":\"55c726eb-144f-4cc3-bd45-ac0667ad73d1\",\"type\":\"UnionRenderers\"}},\"id\":\"ca0f8a57-f81b-4d4a-996b-947c8f6455ce\",\"type\":\"ColumnDataSource\"}],\"root_ids\":[\"ceaa2dc0-30f5-45c3-8854-a60a993ec153\"]},\"title\":\"Bokeh Application\",\"version\":\"0.12.16\"}};\n",
       "  var render_items = [{\"docid\":\"5a054dd2-b5d9-4317-8506-1bac9e41bf35\",\"elementid\":\"e71f82d2-4333-4b7d-a5af-b78c664d056a\",\"modelid\":\"ceaa2dc0-30f5-45c3-8854-a60a993ec153\"}];\n",
       "  root.Bokeh.embed.embed_items_notebook(docs_json, render_items);\n",
       "\n",
       "  }\n",
       "  if (root.Bokeh !== undefined) {\n",
       "    embed_document(root);\n",
       "  } else {\n",
       "    var attempts = 0;\n",
       "    var timer = setInterval(function(root) {\n",
       "      if (root.Bokeh !== undefined) {\n",
       "        embed_document(root);\n",
       "        clearInterval(timer);\n",
       "      }\n",
       "      attempts++;\n",
       "      if (attempts > 100) {\n",
       "        console.log(\"Bokeh: ERROR: Unable to run BokehJS code because BokehJS library is missing\")\n",
       "        clearInterval(timer);\n",
       "      }\n",
       "    }, 10, root)\n",
       "  }\n",
       "})(window);"
      ],
      "application/vnd.bokehjs_exec.v0+json": ""
     },
     "metadata": {
      "application/vnd.bokehjs_exec.v0+json": {
       "id": "ceaa2dc0-30f5-45c3-8854-a60a993ec153"
      }
     },
     "output_type": "display_data"
    },
    {
     "data": {
      "text/markdown": [
       "*FIGURE.* Cooling rates & difference."
      ],
      "text/plain": [
       "<IPython.core.display.Markdown object>"
      ]
     },
     "metadata": {},
     "output_type": "display_data"
    },
    {
     "data": {
      "text/html": [
       "<a id=\"Fluxes._saw.\"></a>"
      ],
      "text/plain": [
       "<IPython.core.display.HTML object>"
      ]
     },
     "metadata": {},
     "output_type": "display_data"
    },
    {
     "data": {
      "text/markdown": [
       "# Fluxes. saw."
      ],
      "text/plain": [
       "<IPython.core.display.Markdown object>"
      ]
     },
     "metadata": {},
     "output_type": "display_data"
    },
    {
     "data": {
      "text/html": [
       "\n",
       "<div class=\"bk-root\">\n",
       "    <div class=\"bk-plotdiv\" id=\"7f00eb98-4dc1-4da1-bd68-d2c3dd7cd59c\"></div>\n",
       "</div>"
      ]
     },
     "metadata": {},
     "output_type": "display_data"
    },
    {
     "data": {
      "application/javascript": [
       "(function(root) {\n",
       "  function embed_document(root) {\n",
       "    \n",
       "  var docs_json = {\"d84f1c1a-fc07-4d09-bced-b2cc624021d5\":{\"roots\":{\"references\":[{\"attributes\":{},\"id\":\"941a3b57-c96a-405a-926a-804f3942a965\",\"type\":\"UnionRenderers\"},{\"attributes\":{},\"id\":\"f446a331-abb7-491f-901d-0c4c3fc127dc\",\"type\":\"CategoricalTicker\"},{\"attributes\":{\"children\":[{\"id\":\"7bce23ec-6dee-4914-a7d9-7c4d9ce0d6d9\",\"type\":\"ToolbarBox\"},{\"id\":\"2b5f55be-0e3a-46d8-8459-2e09492a2a7f\",\"type\":\"Column\"}]},\"id\":\"18d4333b-e6a3-41e8-adff-e1f64e669a46\",\"type\":\"Column\"},{\"attributes\":{\"active_drag\":\"auto\",\"active_inspect\":\"auto\",\"active_scroll\":\"auto\",\"active_tap\":\"auto\",\"tools\":[{\"id\":\"3fbd06ab-e178-42f0-b3f3-7e5d318ec040\",\"type\":\"PanTool\"},{\"id\":\"fd59e076-c15e-4bce-80c0-83d05be8554b\",\"type\":\"WheelZoomTool\"},{\"id\":\"66da8162-7e84-40fa-a7d0-08cda807f558\",\"type\":\"BoxZoomTool\"},{\"id\":\"762efc0c-1875-4e51-8427-6f1b3bc47379\",\"type\":\"SaveTool\"},{\"id\":\"b5fee056-b450-4993-a41d-502e3d58e5ef\",\"type\":\"ResetTool\"},{\"id\":\"dfc25f94-d3df-4be5-be68-d84da5bc6eb0\",\"type\":\"HelpTool\"}]},\"id\":\"bfe5dd2d-8f62-47d8-9073-7c04f6e7829e\",\"type\":\"Toolbar\"},{\"attributes\":{},\"id\":\"3c9855b4-e00e-409e-8837-086193e30cf8\",\"type\":\"Selection\"},{\"attributes\":{},\"id\":\"157801d8-355c-4bd6-bc04-40eb737bbc02\",\"type\":\"Selection\"},{\"attributes\":{},\"id\":\"05297a88-31ce-4e69-8bbf-422f00875ba1\",\"type\":\"ResetTool\"},{\"attributes\":{\"overlay\":{\"id\":\"96f7ec70-8004-4011-adc9-ec355b8810b1\",\"type\":\"BoxAnnotation\"}},\"id\":\"66da8162-7e84-40fa-a7d0-08cda807f558\",\"type\":\"BoxZoomTool\"},{\"attributes\":{},\"id\":\"b575cfd1-9f24-4ee4-b92e-d13886649b1d\",\"type\":\"WheelZoomTool\"},{\"attributes\":{},\"id\":\"df947a05-9d45-4707-ad68-60d8c0f04def\",\"type\":\"BasicTicker\"},{\"attributes\":{\"active_drag\":\"auto\",\"active_inspect\":\"auto\",\"active_scroll\":\"auto\",\"active_tap\":\"auto\",\"tools\":[{\"id\":\"59dc934d-6299-4832-8ac5-fe0c0f5a7c07\",\"type\":\"PanTool\"},{\"id\":\"778eeac4-7310-4708-9a7b-83aaf6c57bcc\",\"type\":\"WheelZoomTool\"},{\"id\":\"7714be48-46bf-4187-ab4a-3d61acc5b28c\",\"type\":\"BoxZoomTool\"},{\"id\":\"8321181e-7cfd-4c7e-b7f0-4e74fe184846\",\"type\":\"SaveTool\"},{\"id\":\"3fa361f4-72ba-4193-a5ca-668e632f02a7\",\"type\":\"ResetTool\"},{\"id\":\"0bfeda52-ccce-4b0c-9f43-19c77b2429a2\",\"type\":\"HelpTool\"}]},\"id\":\"527563d4-3a4e-412a-b27c-60f9595da20d\",\"type\":\"Toolbar\"},{\"attributes\":{\"callback\":null,\"data\":{\"band\":[\"3\",\"9\"],\"flux\":{\"__ndarray__\":\"APQBSG3ilL8AVn4ZjBGpPw==\",\"dtype\":\"float64\",\"shape\":[2]}},\"selected\":{\"id\":\"3c9855b4-e00e-409e-8837-086193e30cf8\",\"type\":\"Selection\"},\"selection_policy\":{\"id\":\"fe9062a0-ae62-4dbf-b886-227f5ebaea59\",\"type\":\"UnionRenderers\"}},\"id\":\"8ef96f7c-09e3-41fc-897a-0ddc76b2cd04\",\"type\":\"ColumnDataSource\"},{\"attributes\":{\"callback\":null,\"data\":{\"band\":[\"3\",\"9\"],\"flux\":{\"__ndarray__\":\"AGzeOCnMo78AXbDA/LqYPw==\",\"dtype\":\"float64\",\"shape\":[2]}},\"selected\":{\"id\":\"157801d8-355c-4bd6-bc04-40eb737bbc02\",\"type\":\"Selection\"},\"selection_policy\":{\"id\":\"941a3b57-c96a-405a-926a-804f3942a965\",\"type\":\"UnionRenderers\"}},\"id\":\"ec1960a4-7fe0-4832-b749-3cbb039d5ee9\",\"type\":\"ColumnDataSource\"},{\"attributes\":{\"callback\":null,\"factors\":[\"3\",\"9\"]},\"id\":\"ba8cb516-086c-42a3-9cc9-6ac1050f8446\",\"type\":\"FactorRange\"},{\"attributes\":{},\"id\":\"d61cbaab-5f9c-468b-84f9-26054e1e7a88\",\"type\":\"LinearScale\"},{\"attributes\":{\"axis_label\":\"flux (W m-2)\",\"formatter\":{\"id\":\"27dd43a6-6815-499e-9042-c424b779ca6c\",\"type\":\"BasicTickFormatter\"},\"plot\":{\"id\":\"b0ca4aea-b0ad-406d-a0b1-99ac5ad09e52\",\"subtype\":\"Figure\",\"type\":\"Plot\"},\"ticker\":{\"id\":\"c00c2dfc-9841-4b99-82f5-8ed058484e6e\",\"type\":\"BasicTicker\"}},\"id\":\"499f9f3c-09fb-4fd9-8c16-5511e574c93f\",\"type\":\"LinearAxis\"},{\"attributes\":{},\"id\":\"0a27e650-7acd-4395-a09c-aafb4cdb36ce\",\"type\":\"CategoricalScale\"},{\"attributes\":{\"axis_label\":\"spectral band\",\"formatter\":{\"id\":\"54a96536-582e-4dc1-b8b5-e2184bf45e5a\",\"type\":\"CategoricalTickFormatter\"},\"plot\":{\"id\":\"b0ca4aea-b0ad-406d-a0b1-99ac5ad09e52\",\"subtype\":\"Figure\",\"type\":\"Plot\"},\"ticker\":{\"id\":\"f446a331-abb7-491f-901d-0c4c3fc127dc\",\"type\":\"CategoricalTicker\"}},\"id\":\"9b915843-c80c-4d44-85b6-d1fd8119061c\",\"type\":\"CategoricalAxis\"},{\"attributes\":{},\"id\":\"0a67607f-f7dc-4340-ba85-cda03dc4b3b0\",\"type\":\"HelpTool\"},{\"attributes\":{\"fill_color\":{\"value\":\"#1f77b4\"},\"line_color\":{\"value\":\"#1f77b4\"},\"top\":{\"field\":\"flux\"},\"width\":{\"value\":0.9},\"x\":{\"field\":\"band\"}},\"id\":\"f2844965-c5a4-4063-8b8c-327281f6d705\",\"type\":\"VBar\"},{\"attributes\":{\"tools\":[{\"id\":\"3fbd06ab-e178-42f0-b3f3-7e5d318ec040\",\"type\":\"PanTool\"},{\"id\":\"fd59e076-c15e-4bce-80c0-83d05be8554b\",\"type\":\"WheelZoomTool\"},{\"id\":\"66da8162-7e84-40fa-a7d0-08cda807f558\",\"type\":\"BoxZoomTool\"},{\"id\":\"762efc0c-1875-4e51-8427-6f1b3bc47379\",\"type\":\"SaveTool\"},{\"id\":\"b5fee056-b450-4993-a41d-502e3d58e5ef\",\"type\":\"ResetTool\"},{\"id\":\"dfc25f94-d3df-4be5-be68-d84da5bc6eb0\",\"type\":\"HelpTool\"},{\"id\":\"e8184c51-79d7-4a39-ba77-11453e3722a0\",\"type\":\"PanTool\"},{\"id\":\"b575cfd1-9f24-4ee4-b92e-d13886649b1d\",\"type\":\"WheelZoomTool\"},{\"id\":\"c40e9351-c3f7-4c82-95d3-492ec3f54066\",\"type\":\"BoxZoomTool\"},{\"id\":\"86904bc6-8e8e-4b55-bdcf-87a27b4688a3\",\"type\":\"SaveTool\"},{\"id\":\"05297a88-31ce-4e69-8bbf-422f00875ba1\",\"type\":\"ResetTool\"},{\"id\":\"0a67607f-f7dc-4340-ba85-cda03dc4b3b0\",\"type\":\"HelpTool\"},{\"id\":\"59dc934d-6299-4832-8ac5-fe0c0f5a7c07\",\"type\":\"PanTool\"},{\"id\":\"778eeac4-7310-4708-9a7b-83aaf6c57bcc\",\"type\":\"WheelZoomTool\"},{\"id\":\"7714be48-46bf-4187-ab4a-3d61acc5b28c\",\"type\":\"BoxZoomTool\"},{\"id\":\"8321181e-7cfd-4c7e-b7f0-4e74fe184846\",\"type\":\"SaveTool\"},{\"id\":\"3fa361f4-72ba-4193-a5ca-668e632f02a7\",\"type\":\"ResetTool\"},{\"id\":\"0bfeda52-ccce-4b0c-9f43-19c77b2429a2\",\"type\":\"HelpTool\"}]},\"id\":\"2142c158-e7ba-45a5-a353-d5ea4907a61b\",\"type\":\"ProxyToolbar\"},{\"attributes\":{\"source\":{\"id\":\"8ef96f7c-09e3-41fc-897a-0ddc76b2cd04\",\"type\":\"ColumnDataSource\"}},\"id\":\"c7a42fe7-61d3-40af-b76f-92ed43a137f6\",\"type\":\"CDSView\"},{\"attributes\":{\"source\":{\"id\":\"ec1960a4-7fe0-4832-b749-3cbb039d5ee9\",\"type\":\"ColumnDataSource\"}},\"id\":\"1122eacd-0e45-4d54-afbe-8d0934b9ebbb\",\"type\":\"CDSView\"},{\"attributes\":{\"overlay\":{\"id\":\"e3601feb-a87e-4d16-916d-d1a374b2c504\",\"type\":\"BoxAnnotation\"}},\"id\":\"c40e9351-c3f7-4c82-95d3-492ec3f54066\",\"type\":\"BoxZoomTool\"},{\"attributes\":{\"below\":[{\"id\":\"9b915843-c80c-4d44-85b6-d1fd8119061c\",\"type\":\"CategoricalAxis\"}],\"left\":[{\"id\":\"499f9f3c-09fb-4fd9-8c16-5511e574c93f\",\"type\":\"LinearAxis\"}],\"plot_height\":300,\"plot_width\":300,\"renderers\":[{\"id\":\"9b915843-c80c-4d44-85b6-d1fd8119061c\",\"type\":\"CategoricalAxis\"},{\"id\":\"88882d85-81f3-4e7a-943d-eb2e58b205ff\",\"type\":\"Grid\"},{\"id\":\"499f9f3c-09fb-4fd9-8c16-5511e574c93f\",\"type\":\"LinearAxis\"},{\"id\":\"68e55234-bf7d-4016-b1de-d3242547fa5c\",\"type\":\"Grid\"},{\"id\":\"96f7ec70-8004-4011-adc9-ec355b8810b1\",\"type\":\"BoxAnnotation\"},{\"id\":\"cb4d667a-afc6-4837-91f0-038e740d406c\",\"type\":\"GlyphRenderer\"}],\"title\":{\"id\":\"6342db2c-78a1-4834-bb9d-40fe80b94971\",\"type\":\"Title\"},\"toolbar\":{\"id\":\"bfe5dd2d-8f62-47d8-9073-7c04f6e7829e\",\"type\":\"Toolbar\"},\"toolbar_location\":null,\"x_range\":{\"id\":\"ba8cb516-086c-42a3-9cc9-6ac1050f8446\",\"type\":\"FactorRange\"},\"x_scale\":{\"id\":\"050c3db7-6627-4b6d-90b7-59ee552448eb\",\"type\":\"CategoricalScale\"},\"y_range\":{\"id\":\"422c2320-7e90-458f-8074-25e1d6fa5ec1\",\"type\":\"DataRange1d\"},\"y_scale\":{\"id\":\"6de059ad-1d73-4e3e-b14a-c4bf3632f977\",\"type\":\"LinearScale\"}},\"id\":\"b0ca4aea-b0ad-406d-a0b1-99ac5ad09e52\",\"subtype\":\"Figure\",\"type\":\"Plot\"},{\"attributes\":{\"plot\":{\"id\":\"c3aaff38-2384-43ea-a402-cc6e89cc3688\",\"subtype\":\"Figure\",\"type\":\"Plot\"},\"ticker\":{\"id\":\"cdf9e071-71da-47da-9b65-e8155a7019d0\",\"type\":\"CategoricalTicker\"}},\"id\":\"8aae215b-bc8c-4d3e-939f-ac53fc8a8074\",\"type\":\"Grid\"},{\"attributes\":{\"source\":{\"id\":\"fc4faac3-ff9f-482b-85ad-3da1a2480c9e\",\"type\":\"ColumnDataSource\"}},\"id\":\"ae9de443-04cd-4fb1-b031-ea5cad8c8557\",\"type\":\"CDSView\"},{\"attributes\":{},\"id\":\"3fa361f4-72ba-4193-a5ca-668e632f02a7\",\"type\":\"ResetTool\"},{\"attributes\":{\"callback\":null},\"id\":\"422c2320-7e90-458f-8074-25e1d6fa5ec1\",\"type\":\"DataRange1d\"},{\"attributes\":{},\"id\":\"050c3db7-6627-4b6d-90b7-59ee552448eb\",\"type\":\"CategoricalScale\"},{\"attributes\":{},\"id\":\"5da0a719-83b3-4d20-815e-9a6006f0f413\",\"type\":\"Selection\"},{\"attributes\":{\"fill_alpha\":{\"value\":0.1},\"fill_color\":{\"value\":\"#1f77b4\"},\"line_alpha\":{\"value\":0.1},\"line_color\":{\"value\":\"#1f77b4\"},\"top\":{\"field\":\"flux\"},\"width\":{\"value\":0.9},\"x\":{\"field\":\"band\"}},\"id\":\"10311be7-4491-4a78-9c83-38f0a1bd4640\",\"type\":\"VBar\"},{\"attributes\":{},\"id\":\"0bfeda52-ccce-4b0c-9f43-19c77b2429a2\",\"type\":\"HelpTool\"},{\"attributes\":{\"callback\":null,\"data\":{\"band\":[\"3\",\"9\"],\"flux\":{\"__ndarray__\":\"gCtn74y2kj+AAFMGDmiZPw==\",\"dtype\":\"float64\",\"shape\":[2]}},\"selected\":{\"id\":\"5da0a719-83b3-4d20-815e-9a6006f0f413\",\"type\":\"Selection\"},\"selection_policy\":{\"id\":\"26917a28-c526-4cc2-a568-961336fa083a\",\"type\":\"UnionRenderers\"}},\"id\":\"fc4faac3-ff9f-482b-85ad-3da1a2480c9e\",\"type\":\"ColumnDataSource\"},{\"attributes\":{\"data_source\":{\"id\":\"fc4faac3-ff9f-482b-85ad-3da1a2480c9e\",\"type\":\"ColumnDataSource\"},\"glyph\":{\"id\":\"8d8fe0a4-734c-4896-b728-a3ca432f591a\",\"type\":\"VBar\"},\"hover_glyph\":null,\"muted_glyph\":null,\"nonselection_glyph\":{\"id\":\"10311be7-4491-4a78-9c83-38f0a1bd4640\",\"type\":\"VBar\"},\"selection_glyph\":null,\"view\":{\"id\":\"ae9de443-04cd-4fb1-b031-ea5cad8c8557\",\"type\":\"CDSView\"}},\"id\":\"8669493d-3a0a-4f06-82c8-b72c6382226c\",\"type\":\"GlyphRenderer\"},{\"attributes\":{},\"id\":\"cdf9e071-71da-47da-9b65-e8155a7019d0\",\"type\":\"CategoricalTicker\"},{\"attributes\":{\"children\":[{\"id\":\"55ebb92f-2983-4bc8-9432-c1837de26e9f\",\"type\":\"Row\"}]},\"id\":\"2b5f55be-0e3a-46d8-8459-2e09492a2a7f\",\"type\":\"Column\"},{\"attributes\":{\"axis_label\":\"spectral band\",\"formatter\":{\"id\":\"e8c921d0-876e-40f2-8005-07dc501ae6bd\",\"type\":\"CategoricalTickFormatter\"},\"plot\":{\"id\":\"263838c8-f616-4ec8-b453-497dcf3cd832\",\"subtype\":\"Figure\",\"type\":\"Plot\"},\"ticker\":{\"id\":\"5ee7a9d0-7c7c-4996-b381-ae4f5b9714b6\",\"type\":\"CategoricalTicker\"}},\"id\":\"77e2d335-7508-4acb-bdec-aaf0c40fa8a5\",\"type\":\"CategoricalAxis\"},{\"attributes\":{},\"id\":\"c00c2dfc-9841-4b99-82f5-8ed058484e6e\",\"type\":\"BasicTicker\"},{\"attributes\":{\"callback\":null},\"id\":\"7d266106-3734-48a3-936f-886d5f140d72\",\"type\":\"DataRange1d\"},{\"attributes\":{\"data_source\":{\"id\":\"ec1960a4-7fe0-4832-b749-3cbb039d5ee9\",\"type\":\"ColumnDataSource\"},\"glyph\":{\"id\":\"f2844965-c5a4-4063-8b8c-327281f6d705\",\"type\":\"VBar\"},\"hover_glyph\":null,\"muted_glyph\":null,\"nonselection_glyph\":{\"id\":\"27c4c788-9d03-4617-99c8-857b1ddccbd0\",\"type\":\"VBar\"},\"selection_glyph\":null,\"view\":{\"id\":\"1122eacd-0e45-4d54-afbe-8d0934b9ebbb\",\"type\":\"CDSView\"}},\"id\":\"711f3237-0494-42ff-8c82-732543d45e2f\",\"type\":\"GlyphRenderer\"},{\"attributes\":{\"axis_label\":\"spectral band\",\"formatter\":{\"id\":\"83172d53-04d3-49e8-9bcb-578b10694933\",\"type\":\"CategoricalTickFormatter\"},\"plot\":{\"id\":\"c3aaff38-2384-43ea-a402-cc6e89cc3688\",\"subtype\":\"Figure\",\"type\":\"Plot\"},\"ticker\":{\"id\":\"cdf9e071-71da-47da-9b65-e8155a7019d0\",\"type\":\"CategoricalTicker\"}},\"id\":\"279747d6-8c4c-4c5d-9f7a-ea8a2ac15e72\",\"type\":\"CategoricalAxis\"},{\"attributes\":{},\"id\":\"778eeac4-7310-4708-9a7b-83aaf6c57bcc\",\"type\":\"WheelZoomTool\"},{\"attributes\":{},\"id\":\"26917a28-c526-4cc2-a568-961336fa083a\",\"type\":\"UnionRenderers\"},{\"attributes\":{},\"id\":\"e8184c51-79d7-4a39-ba77-11453e3722a0\",\"type\":\"PanTool\"},{\"attributes\":{},\"id\":\"d62d4b24-d998-4a9d-9285-1757609ff78c\",\"type\":\"BasicTickFormatter\"},{\"attributes\":{},\"id\":\"1c86d501-e4d1-4a69-9792-8aaaacaa06c3\",\"type\":\"BasicTicker\"},{\"attributes\":{\"fill_alpha\":{\"value\":0.1},\"fill_color\":{\"value\":\"#1f77b4\"},\"line_alpha\":{\"value\":0.1},\"line_color\":{\"value\":\"#1f77b4\"},\"top\":{\"field\":\"flux\"},\"width\":{\"value\":0.9},\"x\":{\"field\":\"band\"}},\"id\":\"cbbb4dfe-b3f0-4ea4-9da2-177147f2ffcf\",\"type\":\"VBar\"},{\"attributes\":{\"callback\":null},\"id\":\"e8c6305c-233b-4145-be51-0fec8ca88163\",\"type\":\"DataRange1d\"},{\"attributes\":{},\"id\":\"5ee7a9d0-7c7c-4996-b381-ae4f5b9714b6\",\"type\":\"CategoricalTicker\"},{\"attributes\":{\"below\":[{\"id\":\"77e2d335-7508-4acb-bdec-aaf0c40fa8a5\",\"type\":\"CategoricalAxis\"}],\"left\":[{\"id\":\"9e751003-abab-489f-b67d-e67beaefba23\",\"type\":\"LinearAxis\"}],\"plot_height\":300,\"plot_width\":300,\"renderers\":[{\"id\":\"77e2d335-7508-4acb-bdec-aaf0c40fa8a5\",\"type\":\"CategoricalAxis\"},{\"id\":\"3d74e387-6ca5-4a6d-a90e-34bc679c6b88\",\"type\":\"Grid\"},{\"id\":\"9e751003-abab-489f-b67d-e67beaefba23\",\"type\":\"LinearAxis\"},{\"id\":\"275283ed-bc20-4b09-9947-18cbd5486241\",\"type\":\"Grid\"},{\"id\":\"e3601feb-a87e-4d16-916d-d1a374b2c504\",\"type\":\"BoxAnnotation\"},{\"id\":\"8669493d-3a0a-4f06-82c8-b72c6382226c\",\"type\":\"GlyphRenderer\"}],\"title\":{\"id\":\"b25e36d6-cd66-47fe-8863-ebc892b44f82\",\"type\":\"Title\"},\"toolbar\":{\"id\":\"784bb9bd-ad7d-4a0b-b2cd-56d1a1182096\",\"type\":\"Toolbar\"},\"toolbar_location\":null,\"x_range\":{\"id\":\"1a4d3c5f-6587-41a4-8cc1-11d5204a4535\",\"type\":\"FactorRange\"},\"x_scale\":{\"id\":\"0a27e650-7acd-4395-a09c-aafb4cdb36ce\",\"type\":\"CategoricalScale\"},\"y_range\":{\"id\":\"7d266106-3734-48a3-936f-886d5f140d72\",\"type\":\"DataRange1d\"},\"y_scale\":{\"id\":\"d61cbaab-5f9c-468b-84f9-26054e1e7a88\",\"type\":\"LinearScale\"}},\"id\":\"263838c8-f616-4ec8-b453-497dcf3cd832\",\"subtype\":\"Figure\",\"type\":\"Plot\"},{\"attributes\":{},\"id\":\"86904bc6-8e8e-4b55-bdcf-87a27b4688a3\",\"type\":\"SaveTool\"},{\"attributes\":{},\"id\":\"76a80a03-b8bf-4e48-a936-8720608ac1a4\",\"type\":\"BasicTickFormatter\"},{\"attributes\":{\"plot\":{\"id\":\"b0ca4aea-b0ad-406d-a0b1-99ac5ad09e52\",\"subtype\":\"Figure\",\"type\":\"Plot\"},\"ticker\":{\"id\":\"f446a331-abb7-491f-901d-0c4c3fc127dc\",\"type\":\"CategoricalTicker\"}},\"id\":\"88882d85-81f3-4e7a-943d-eb2e58b205ff\",\"type\":\"Grid\"},{\"attributes\":{\"dimension\":1,\"plot\":{\"id\":\"b0ca4aea-b0ad-406d-a0b1-99ac5ad09e52\",\"subtype\":\"Figure\",\"type\":\"Plot\"},\"ticker\":{\"id\":\"c00c2dfc-9841-4b99-82f5-8ed058484e6e\",\"type\":\"BasicTicker\"}},\"id\":\"68e55234-bf7d-4016-b1de-d3242547fa5c\",\"type\":\"Grid\"},{\"attributes\":{},\"id\":\"59dc934d-6299-4832-8ac5-fe0c0f5a7c07\",\"type\":\"PanTool\"},{\"attributes\":{},\"id\":\"dfc25f94-d3df-4be5-be68-d84da5bc6eb0\",\"type\":\"HelpTool\"},{\"attributes\":{},\"id\":\"762efc0c-1875-4e51-8427-6f1b3bc47379\",\"type\":\"SaveTool\"},{\"attributes\":{\"bottom_units\":\"screen\",\"fill_alpha\":{\"value\":0.5},\"fill_color\":{\"value\":\"lightgrey\"},\"left_units\":\"screen\",\"level\":\"overlay\",\"line_alpha\":{\"value\":1.0},\"line_color\":{\"value\":\"black\"},\"line_dash\":[4,4],\"line_width\":{\"value\":2},\"plot\":null,\"render_mode\":\"css\",\"right_units\":\"screen\",\"top_units\":\"screen\"},\"id\":\"d6ff8997-793b-4de1-804b-20fd5e09ad2a\",\"type\":\"BoxAnnotation\"},{\"attributes\":{\"active_drag\":\"auto\",\"active_inspect\":\"auto\",\"active_scroll\":\"auto\",\"active_tap\":\"auto\",\"tools\":[{\"id\":\"e8184c51-79d7-4a39-ba77-11453e3722a0\",\"type\":\"PanTool\"},{\"id\":\"b575cfd1-9f24-4ee4-b92e-d13886649b1d\",\"type\":\"WheelZoomTool\"},{\"id\":\"c40e9351-c3f7-4c82-95d3-492ec3f54066\",\"type\":\"BoxZoomTool\"},{\"id\":\"86904bc6-8e8e-4b55-bdcf-87a27b4688a3\",\"type\":\"SaveTool\"},{\"id\":\"05297a88-31ce-4e69-8bbf-422f00875ba1\",\"type\":\"ResetTool\"},{\"id\":\"0a67607f-f7dc-4340-ba85-cda03dc4b3b0\",\"type\":\"HelpTool\"}]},\"id\":\"784bb9bd-ad7d-4a0b-b2cd-56d1a1182096\",\"type\":\"Toolbar\"},{\"attributes\":{\"fill_color\":{\"value\":\"#1f77b4\"},\"line_color\":{\"value\":\"#1f77b4\"},\"top\":{\"field\":\"flux\"},\"width\":{\"value\":0.9},\"x\":{\"field\":\"band\"}},\"id\":\"c305009e-9a59-494f-b60c-bca6b18bcdd0\",\"type\":\"VBar\"},{\"attributes\":{\"overlay\":{\"id\":\"d6ff8997-793b-4de1-804b-20fd5e09ad2a\",\"type\":\"BoxAnnotation\"}},\"id\":\"7714be48-46bf-4187-ab4a-3d61acc5b28c\",\"type\":\"BoxZoomTool\"},{\"attributes\":{\"children\":[{\"id\":\"b0ca4aea-b0ad-406d-a0b1-99ac5ad09e52\",\"subtype\":\"Figure\",\"type\":\"Plot\"},{\"id\":\"263838c8-f616-4ec8-b453-497dcf3cd832\",\"subtype\":\"Figure\",\"type\":\"Plot\"},{\"id\":\"c3aaff38-2384-43ea-a402-cc6e89cc3688\",\"subtype\":\"Figure\",\"type\":\"Plot\"}]},\"id\":\"55ebb92f-2983-4bc8-9432-c1837de26e9f\",\"type\":\"Row\"},{\"attributes\":{},\"id\":\"8321181e-7cfd-4c7e-b7f0-4e74fe184846\",\"type\":\"SaveTool\"},{\"attributes\":{\"data_source\":{\"id\":\"8ef96f7c-09e3-41fc-897a-0ddc76b2cd04\",\"type\":\"ColumnDataSource\"},\"glyph\":{\"id\":\"c305009e-9a59-494f-b60c-bca6b18bcdd0\",\"type\":\"VBar\"},\"hover_glyph\":null,\"muted_glyph\":null,\"nonselection_glyph\":{\"id\":\"cbbb4dfe-b3f0-4ea4-9da2-177147f2ffcf\",\"type\":\"VBar\"},\"selection_glyph\":null,\"view\":{\"id\":\"c7a42fe7-61d3-40af-b76f-92ed43a137f6\",\"type\":\"CDSView\"}},\"id\":\"cb4d667a-afc6-4837-91f0-038e740d406c\",\"type\":\"GlyphRenderer\"},{\"attributes\":{\"fill_alpha\":{\"value\":0.1},\"fill_color\":{\"value\":\"#1f77b4\"},\"line_alpha\":{\"value\":0.1},\"line_color\":{\"value\":\"#1f77b4\"},\"top\":{\"field\":\"flux\"},\"width\":{\"value\":0.9},\"x\":{\"field\":\"band\"}},\"id\":\"27c4c788-9d03-4617-99c8-857b1ddccbd0\",\"type\":\"VBar\"},{\"attributes\":{\"bottom_units\":\"screen\",\"fill_alpha\":{\"value\":0.5},\"fill_color\":{\"value\":\"lightgrey\"},\"left_units\":\"screen\",\"level\":\"overlay\",\"line_alpha\":{\"value\":1.0},\"line_color\":{\"value\":\"black\"},\"line_dash\":[4,4],\"line_width\":{\"value\":2},\"plot\":null,\"render_mode\":\"css\",\"right_units\":\"screen\",\"top_units\":\"screen\"},\"id\":\"e3601feb-a87e-4d16-916d-d1a374b2c504\",\"type\":\"BoxAnnotation\"},{\"attributes\":{\"plot\":{\"id\":\"263838c8-f616-4ec8-b453-497dcf3cd832\",\"subtype\":\"Figure\",\"type\":\"Plot\"},\"ticker\":{\"id\":\"5ee7a9d0-7c7c-4996-b381-ae4f5b9714b6\",\"type\":\"CategoricalTicker\"}},\"id\":\"3d74e387-6ca5-4a6d-a90e-34bc679c6b88\",\"type\":\"Grid\"},{\"attributes\":{},\"id\":\"1019984f-a68d-4482-ac39-bc2871bb01cb\",\"type\":\"LinearScale\"},{\"attributes\":{\"plot\":null,\"text\":\"SFC flux. CLIRAD - CRD.\"},\"id\":\"b25e36d6-cd66-47fe-8863-ebc892b44f82\",\"type\":\"Title\"},{\"attributes\":{\"callback\":null,\"factors\":[\"3\",\"9\"]},\"id\":\"bcd15f31-ecbc-4026-b113-34cb9e8a2e79\",\"type\":\"FactorRange\"},{\"attributes\":{},\"id\":\"54a96536-582e-4dc1-b8b5-e2184bf45e5a\",\"type\":\"CategoricalTickFormatter\"},{\"attributes\":{},\"id\":\"fe9062a0-ae62-4dbf-b886-227f5ebaea59\",\"type\":\"UnionRenderers\"},{\"attributes\":{},\"id\":\"79e987c7-5e7f-4a95-b253-675bc7bca6f2\",\"type\":\"CategoricalScale\"},{\"attributes\":{},\"id\":\"fd59e076-c15e-4bce-80c0-83d05be8554b\",\"type\":\"WheelZoomTool\"},{\"attributes\":{\"plot\":null,\"text\":\"Atmosphere heating. CLIRAD - CRD.\"},\"id\":\"a175f902-b022-411c-8764-6035060b7017\",\"type\":\"Title\"},{\"attributes\":{\"axis_label\":\"flux (W m-2)\",\"formatter\":{\"id\":\"76a80a03-b8bf-4e48-a936-8720608ac1a4\",\"type\":\"BasicTickFormatter\"},\"plot\":{\"id\":\"263838c8-f616-4ec8-b453-497dcf3cd832\",\"subtype\":\"Figure\",\"type\":\"Plot\"},\"ticker\":{\"id\":\"df947a05-9d45-4707-ad68-60d8c0f04def\",\"type\":\"BasicTicker\"}},\"id\":\"9e751003-abab-489f-b67d-e67beaefba23\",\"type\":\"LinearAxis\"},{\"attributes\":{},\"id\":\"e8c921d0-876e-40f2-8005-07dc501ae6bd\",\"type\":\"CategoricalTickFormatter\"},{\"attributes\":{\"below\":[{\"id\":\"279747d6-8c4c-4c5d-9f7a-ea8a2ac15e72\",\"type\":\"CategoricalAxis\"}],\"left\":[{\"id\":\"ae820955-3da7-4cb0-931a-1ef9c6e7487a\",\"type\":\"LinearAxis\"}],\"plot_height\":300,\"plot_width\":300,\"renderers\":[{\"id\":\"279747d6-8c4c-4c5d-9f7a-ea8a2ac15e72\",\"type\":\"CategoricalAxis\"},{\"id\":\"8aae215b-bc8c-4d3e-939f-ac53fc8a8074\",\"type\":\"Grid\"},{\"id\":\"ae820955-3da7-4cb0-931a-1ef9c6e7487a\",\"type\":\"LinearAxis\"},{\"id\":\"a1fc3883-346a-4291-9674-ccd90813fcaa\",\"type\":\"Grid\"},{\"id\":\"d6ff8997-793b-4de1-804b-20fd5e09ad2a\",\"type\":\"BoxAnnotation\"},{\"id\":\"711f3237-0494-42ff-8c82-732543d45e2f\",\"type\":\"GlyphRenderer\"}],\"title\":{\"id\":\"a175f902-b022-411c-8764-6035060b7017\",\"type\":\"Title\"},\"toolbar\":{\"id\":\"527563d4-3a4e-412a-b27c-60f9595da20d\",\"type\":\"Toolbar\"},\"toolbar_location\":null,\"x_range\":{\"id\":\"bcd15f31-ecbc-4026-b113-34cb9e8a2e79\",\"type\":\"FactorRange\"},\"x_scale\":{\"id\":\"79e987c7-5e7f-4a95-b253-675bc7bca6f2\",\"type\":\"CategoricalScale\"},\"y_range\":{\"id\":\"e8c6305c-233b-4145-be51-0fec8ca88163\",\"type\":\"DataRange1d\"},\"y_scale\":{\"id\":\"1019984f-a68d-4482-ac39-bc2871bb01cb\",\"type\":\"LinearScale\"}},\"id\":\"c3aaff38-2384-43ea-a402-cc6e89cc3688\",\"subtype\":\"Figure\",\"type\":\"Plot\"},{\"attributes\":{},\"id\":\"6de059ad-1d73-4e3e-b14a-c4bf3632f977\",\"type\":\"LinearScale\"},{\"attributes\":{},\"id\":\"3fbd06ab-e178-42f0-b3f3-7e5d318ec040\",\"type\":\"PanTool\"},{\"attributes\":{\"toolbar\":{\"id\":\"2142c158-e7ba-45a5-a353-d5ea4907a61b\",\"type\":\"ProxyToolbar\"},\"toolbar_location\":\"above\"},\"id\":\"7bce23ec-6dee-4914-a7d9-7c4d9ce0d6d9\",\"type\":\"ToolbarBox\"},{\"attributes\":{},\"id\":\"83172d53-04d3-49e8-9bcb-578b10694933\",\"type\":\"CategoricalTickFormatter\"},{\"attributes\":{\"dimension\":1,\"plot\":{\"id\":\"263838c8-f616-4ec8-b453-497dcf3cd832\",\"subtype\":\"Figure\",\"type\":\"Plot\"},\"ticker\":{\"id\":\"df947a05-9d45-4707-ad68-60d8c0f04def\",\"type\":\"BasicTicker\"}},\"id\":\"275283ed-bc20-4b09-9947-18cbd5486241\",\"type\":\"Grid\"},{\"attributes\":{},\"id\":\"27dd43a6-6815-499e-9042-c424b779ca6c\",\"type\":\"BasicTickFormatter\"},{\"attributes\":{\"callback\":null,\"factors\":[\"3\",\"9\"]},\"id\":\"1a4d3c5f-6587-41a4-8cc1-11d5204a4535\",\"type\":\"FactorRange\"},{\"attributes\":{},\"id\":\"b5fee056-b450-4993-a41d-502e3d58e5ef\",\"type\":\"ResetTool\"},{\"attributes\":{\"fill_color\":{\"value\":\"#1f77b4\"},\"line_color\":{\"value\":\"#1f77b4\"},\"top\":{\"field\":\"flux\"},\"width\":{\"value\":0.9},\"x\":{\"field\":\"band\"}},\"id\":\"8d8fe0a4-734c-4896-b728-a3ca432f591a\",\"type\":\"VBar\"},{\"attributes\":{\"axis_label\":\"flux (W m-2)\",\"formatter\":{\"id\":\"d62d4b24-d998-4a9d-9285-1757609ff78c\",\"type\":\"BasicTickFormatter\"},\"plot\":{\"id\":\"c3aaff38-2384-43ea-a402-cc6e89cc3688\",\"subtype\":\"Figure\",\"type\":\"Plot\"},\"ticker\":{\"id\":\"1c86d501-e4d1-4a69-9792-8aaaacaa06c3\",\"type\":\"BasicTicker\"}},\"id\":\"ae820955-3da7-4cb0-931a-1ef9c6e7487a\",\"type\":\"LinearAxis\"},{\"attributes\":{\"bottom_units\":\"screen\",\"fill_alpha\":{\"value\":0.5},\"fill_color\":{\"value\":\"lightgrey\"},\"left_units\":\"screen\",\"level\":\"overlay\",\"line_alpha\":{\"value\":1.0},\"line_color\":{\"value\":\"black\"},\"line_dash\":[4,4],\"line_width\":{\"value\":2},\"plot\":null,\"render_mode\":\"css\",\"right_units\":\"screen\",\"top_units\":\"screen\"},\"id\":\"96f7ec70-8004-4011-adc9-ec355b8810b1\",\"type\":\"BoxAnnotation\"},{\"attributes\":{\"dimension\":1,\"plot\":{\"id\":\"c3aaff38-2384-43ea-a402-cc6e89cc3688\",\"subtype\":\"Figure\",\"type\":\"Plot\"},\"ticker\":{\"id\":\"1c86d501-e4d1-4a69-9792-8aaaacaa06c3\",\"type\":\"BasicTicker\"}},\"id\":\"a1fc3883-346a-4291-9674-ccd90813fcaa\",\"type\":\"Grid\"},{\"attributes\":{\"plot\":null,\"text\":\"TOA flux. CLIRAD - CRD.\"},\"id\":\"6342db2c-78a1-4834-bb9d-40fe80b94971\",\"type\":\"Title\"}],\"root_ids\":[\"18d4333b-e6a3-41e8-adff-e1f64e669a46\"]},\"title\":\"Bokeh Application\",\"version\":\"0.12.16\"}};\n",
       "  var render_items = [{\"docid\":\"d84f1c1a-fc07-4d09-bced-b2cc624021d5\",\"elementid\":\"7f00eb98-4dc1-4da1-bd68-d2c3dd7cd59c\",\"modelid\":\"18d4333b-e6a3-41e8-adff-e1f64e669a46\"}];\n",
       "  root.Bokeh.embed.embed_items_notebook(docs_json, render_items);\n",
       "\n",
       "  }\n",
       "  if (root.Bokeh !== undefined) {\n",
       "    embed_document(root);\n",
       "  } else {\n",
       "    var attempts = 0;\n",
       "    var timer = setInterval(function(root) {\n",
       "      if (root.Bokeh !== undefined) {\n",
       "        embed_document(root);\n",
       "        clearInterval(timer);\n",
       "      }\n",
       "      attempts++;\n",
       "      if (attempts > 100) {\n",
       "        console.log(\"Bokeh: ERROR: Unable to run BokehJS code because BokehJS library is missing\")\n",
       "        clearInterval(timer);\n",
       "      }\n",
       "    }, 10, root)\n",
       "  }\n",
       "})(window);"
      ],
      "application/vnd.bokehjs_exec.v0+json": ""
     },
     "metadata": {
      "application/vnd.bokehjs_exec.v0+json": {
       "id": "18d4333b-e6a3-41e8-adff-e1f64e669a46"
      }
     },
     "output_type": "display_data"
    },
    {
     "data": {
      "text/markdown": [
       "*FIGURE.* Difference between CLIRAD and CRD in TOA, SFC and net atmosphere flux, in each spectral band."
      ],
      "text/plain": [
       "<IPython.core.display.Markdown object>"
      ]
     },
     "metadata": {},
     "output_type": "display_data"
    },
    {
     "data": {
      "text/html": [
       "<div>\n",
       "<style scoped>\n",
       "    .dataframe tbody tr th:only-of-type {\n",
       "        vertical-align: middle;\n",
       "    }\n",
       "\n",
       "    .dataframe tbody tr th {\n",
       "        vertical-align: top;\n",
       "    }\n",
       "\n",
       "    .dataframe thead th {\n",
       "        text-align: right;\n",
       "    }\n",
       "</style>\n",
       "<table border=\"1\" class=\"dataframe\">\n",
       "  <thead>\n",
       "    <tr style=\"text-align: right;\">\n",
       "      <th></th>\n",
       "      <th>OLR flux</th>\n",
       "      <th>SFC flux</th>\n",
       "      <th>ATM heating</th>\n",
       "    </tr>\n",
       "    <tr>\n",
       "      <th>Sum over bands</th>\n",
       "      <th></th>\n",
       "      <th></th>\n",
       "      <th></th>\n",
       "    </tr>\n",
       "  </thead>\n",
       "  <tbody>\n",
       "    <tr>\n",
       "      <th>CLIRAD - CRD</th>\n",
       "      <td>0.03</td>\n",
       "      <td>0.04</td>\n",
       "      <td>-0.01</td>\n",
       "    </tr>\n",
       "    <tr>\n",
       "      <th>CRD</th>\n",
       "      <td>-31.71</td>\n",
       "      <td>3.68</td>\n",
       "      <td>-2.24</td>\n",
       "    </tr>\n",
       "  </tbody>\n",
       "</table>\n",
       "</div>"
      ],
      "text/plain": [
       "                OLR flux  SFC flux  ATM heating\n",
       "Sum over bands                                 \n",
       "CLIRAD - CRD        0.03      0.04        -0.01\n",
       "CRD               -31.71      3.68        -2.24"
      ]
     },
     "metadata": {},
     "output_type": "display_data"
    },
    {
     "data": {
      "text/markdown": [
       "*TABLE.* Difference between CLIRAD and CRD in TOA, SFC and net atmosphere flux, over all spectral bands. CRD's TOA, SFC and net atmosphere flux, over all spectral bands."
      ],
      "text/plain": [
       "<IPython.core.display.Markdown object>"
      ]
     },
     "metadata": {},
     "output_type": "display_data"
    },
    {
     "data": {
      "text/html": [
       "<a id=\"Cooling_rates._trp.\"></a>"
      ],
      "text/plain": [
       "<IPython.core.display.HTML object>"
      ]
     },
     "metadata": {},
     "output_type": "display_data"
    },
    {
     "data": {
      "text/markdown": [
       "# Cooling rates. trp."
      ],
      "text/plain": [
       "<IPython.core.display.Markdown object>"
      ]
     },
     "metadata": {},
     "output_type": "display_data"
    },
    {
     "data": {
      "text/html": [
       "\n",
       "<div class=\"bk-root\">\n",
       "    <div class=\"bk-plotdiv\" id=\"a7389f9b-2a2a-44f5-a0b8-5bcbba3955f8\"></div>\n",
       "</div>"
      ]
     },
     "metadata": {},
     "output_type": "display_data"
    },
    {
     "data": {
      "application/javascript": [
       "(function(root) {\n",
       "  function embed_document(root) {\n",
       "    \n",
       "  var docs_json = {\"7d6ae807-39fc-4a2a-9651-fff7588f5209\":{\"roots\":{\"references\":[{\"attributes\":{},\"id\":\"142b212c-13a5-4ff1-8bc6-67d59d6bb7af\",\"type\":\"LinearScale\"},{\"attributes\":{\"line_alpha\":0.6,\"line_color\":\"#e41a1c\",\"line_dash\":[6],\"line_width\":5,\"x\":{\"field\":\"x\"},\"y\":{\"field\":\"y\"}},\"id\":\"274ff6a8-2c96-46e1-907d-22eb4596e6a7\",\"type\":\"Line\"},{\"attributes\":{},\"id\":\"cb38f566-08a5-4be9-9e1f-de6fb63b2e94\",\"type\":\"Selection\"},{\"attributes\":{\"label\":{\"value\":\"CLIRAD\"},\"renderers\":[{\"id\":\"ed142ac5-d563-498e-b035-49af8a2e53a3\",\"type\":\"GlyphRenderer\"}]},\"id\":\"b94d9957-fea1-4017-a2ea-2fe482c1c23e\",\"type\":\"LegendItem\"},{\"attributes\":{},\"id\":\"b4e64d92-2de0-48ed-a70c-4776b742870f\",\"type\":\"LogScale\"},{\"attributes\":{},\"id\":\"ddbd6b96-20ba-4bf4-b836-4e86158cbe61\",\"type\":\"UnionRenderers\"},{\"attributes\":{\"axis_label\":\"pressure [mb]\",\"formatter\":{\"id\":\"e1e9c50c-5d34-41c7-b003-87c63f63dfc3\",\"type\":\"LogTickFormatter\"},\"plot\":{\"id\":\"a1f577b5-2492-48b8-b911-27eca9a9517a\",\"subtype\":\"Figure\",\"type\":\"Plot\"},\"ticker\":{\"id\":\"ada6c722-8105-4410-b39a-c97a0a05e7b3\",\"type\":\"LogTicker\"}},\"id\":\"04bf69e0-e11a-4729-a527-7025874fa65c\",\"type\":\"LogAxis\"},{\"attributes\":{\"dimension\":1,\"plot\":{\"id\":\"a1f577b5-2492-48b8-b911-27eca9a9517a\",\"subtype\":\"Figure\",\"type\":\"Plot\"},\"ticker\":{\"id\":\"ada6c722-8105-4410-b39a-c97a0a05e7b3\",\"type\":\"LogTicker\"}},\"id\":\"480c55ff-10d8-498f-bcf6-3842a97263e6\",\"type\":\"Grid\"},{\"attributes\":{\"callback\":null,\"data\":{\"x\":{\"__ndarray__\":\"KPkvzJ2rYr9m2Z5XfzZgv+glBCjXZlS/2AyLlT33Qb8gXnHg8ccmP4BRyGWKH00/6Lb4DbS/Wj8gTftC3YJjPz5QKr76qGk/ZlVUGVf3bz+7mygEGRpzP/loz+4SUXY/sjiLOz98eT8F/Xusvah9P7wkvKfsoIY/kz+qbXvlkz/xgZQNqI2fP953iFZZoaY/cNVofqSkrj/q/6XXKQC0P3AR6rIwdbk/tMsaaWcgvz9aCVfsoZDAP7x31JgQ874/KsCvRZZCuz9DE51viJS2P+I9G3oKB7I/hu5D8lbcqz/EPuW+85CkP5REycAOV5w/Xb256R4zkT8PFSJhkb99P3AH4mwe9le/uw4mxta/hL+qZx/14HiVv/IicWFtJKG/bImci60Kpr+Y770Y+sKnv151XA5tYKe/hJITN7i+pr9wGlpZ7eWlv/1Q/5YN3aS/HRyedXyho7/aosxPuDqivxktuzSCrKC/5awhqQbynb8aWDVqeFGav2KjLoWHcZa/Rlgf0hlfkr8TbmnmJjmMvwnZPSbHXoO/AmT/dLd2dL8gT0dEVIg3v72imFsh9XE/g7Eg9SACgz9VayvcPTeNP9blKS602pM/Ecl+gC8xmT/kExUe8p6eP/b/mkG2C6I/HkXGOLm+pD9oXRCCb0mnP6opSLoGgKk/6L+2Z15aqz8CjbsJCvisPzQLH9enmK4/JK+maVI1sD9QSaqqKEKxP4GgDvEwabI/ikLpENqgsz8hYclpEOW0Pw8SZRkpLrY/CHlt0Sp8tz/+8wYopdG4P4je9sUkKro/\",\"dtype\":\"float64\",\"shape\":[75]},\"y\":{\"__ndarray__\":\"GhExyth1ND/Sv8nbtpRIP2vylNV0PVE/aTum7souWD/At0SJ8fVgPw3Iuahxymc/MSNhhJWvcD/bTfBN02d3P2zb5nxnaoA/CD5h5MAGhz8NmeH1TyaQP+zrCsc9p5Y/LbKd76fGnz/bLW5ISEmmPww9YvTcQq8/JV2OstnstT8Er5Y7M8G+P0c+r3jqkcU/5h99k6ZBzj88bCIzFzjVP4enV8oyxN0//yH99nXg5D8qOpLLf0jtP5kqGJXUifQ/c9cS8kHP/D+/DpwzojQEQIEmwoanVwxA4lgXt9HgE0BSSZ2AJuIbQAMJih9jjiNA5q4l5INuK0AwTKYKRj0zQNv5fmq8/DpAaCJseHrtQkB/+zpwzoxKQM3MzMzMeFJAZmZmZmZqWEAAAAAAAFxeQM3MzMzMJmJAmpmZmZkfZUBmZmZmZhhoQDMzMzMzEWtAAAAAAAAKbkBmZmZmZoFwQM3MzMzM/XFAMzMzMzN6c0CamZmZmfZ0QAAAAAAAc3ZAZmZmZmbvd0DNzMzMzGt5QDMzMzMz6HpAmpmZmZlkfEAAAAAAAOF9QGZmZmZmXX9AZmZmZuZsgECamZmZGSuBQM3MzMxM6YFAAAAAAICngkAzMzMzs2WDQGZmZmbmI4RAmpmZmRnihEDNzMzMTKCFQAAAAACAXoZAMzMzM7Mch0BmZmZm5tqHQJqZmZkZmYhAzczMzExXiUAAAAAAgBWKQDMzMzOz04pAZmZmZuaRi0CamZmZGVCMQM3MzMxMDo1AAAAAAIDMjUAzMzMzs4qOQGZmZmbmSI9A\",\"dtype\":\"float64\",\"shape\":[75]}},\"selected\":{\"id\":\"65bdf2b0-5304-40d6-8857-706e9e947a14\",\"type\":\"Selection\"},\"selection_policy\":{\"id\":\"cf837898-9862-4374-bb76-c689aa5c93ed\",\"type\":\"UnionRenderers\"}},\"id\":\"81dd1866-a14a-4120-95ef-a6c46da065a3\",\"type\":\"ColumnDataSource\"},{\"attributes\":{\"plot\":{\"id\":\"a1f577b5-2492-48b8-b911-27eca9a9517a\",\"subtype\":\"Figure\",\"type\":\"Plot\"},\"ticker\":{\"id\":\"18d83c2a-d186-4d69-afa0-cea05e491f60\",\"type\":\"BasicTicker\"}},\"id\":\"36491066-7a3c-4185-a3e5-9ad969215c90\",\"type\":\"Grid\"},{\"attributes\":{\"callback\":null,\"data\":{\"x\":{\"__ndarray__\":\"5A1qMObWnD9c3erwyaecPyYVPCWhXZw/UyJCiboCnD9QF++f3KqbP7wP4q/yUJs/nqPwAQMGmz8Qrzs6xr6aP+pzevwsf5o/sGXMOYVQmj/ecBa1BjaaP6cVz25nPpo/4WUZqGRumj/1DJsxHr+aPykDRBeN4pk/T053kZfrlj+qzyMvfNeSPyC0XSKQq4w/MJmzCfPIgj/wsbLy1dJvP1BkpsEomWC/dJHgeARYgL9AbvD/j4V7v8A4fn20BVI/5BJmK0aVgT+gYnE/rZCMP1Ycy0TcX48/5M1bIR4ciz9EXa0LJpuCP/hSHoW+h3E/UHmhyDAxIb8sNLTsznRtvw9vX59JUXm/Y6J1wbvigL874/dOvnSDvz95s2GoHoS/MS5Ssfy8g78I1ZbS5HaEv9jnmGPhOoa/r2asHKurhr/jWSX3hHyGv3bjirdI9IW/mpHjxUAihb8OTj8G/RWEv/FYILwl2YK/PvpQCvVugb9FM4kQlOh/v+2Il6PfsHy/HE3qX6Rkeb+8a6LxMQh2v7Zhfnptp3K/ICfg6eKubr8kFk1BYOBnvxTxCn5Dc2G/qvMoeC0RVr8QETpsO8dEv0DeB4dz2Qw/WJbjKtrJRT9Y8S/df79TP3iB+S4cPVs/sBJbkBnnYD+IE0vjeohkPxDeW1Q1iGk/rHn8GwpYcD/MUtkai1J0P7jdtE6Z8Xc/THASzJaBej/8e2lXDwJ8P7jrAncDeXw/TGLp2TI0fD/cy5NXJn17PwCxUv8oA3o/6HCmzy/Gdz9ozqK5RrJ0P9i6ANMgB3A/\",\"dtype\":\"float64\",\"shape\":[75]},\"y\":{\"__ndarray__\":\"GhExyth1ND/Sv8nbtpRIP2vylNV0PVE/aTum7souWD/At0SJ8fVgPw3Iuahxymc/MSNhhJWvcD/bTfBN02d3P2zb5nxnaoA/CD5h5MAGhz8NmeH1TyaQP+zrCsc9p5Y/LbKd76fGnz/bLW5ISEmmPww9YvTcQq8/JV2OstnstT8Er5Y7M8G+P0c+r3jqkcU/5h99k6ZBzj88bCIzFzjVP4enV8oyxN0//yH99nXg5D8qOpLLf0jtP5kqGJXUifQ/c9cS8kHP/D+/DpwzojQEQIEmwoanVwxA4lgXt9HgE0BSSZ2AJuIbQAMJih9jjiNA5q4l5INuK0AwTKYKRj0zQNv5fmq8/DpAaCJseHrtQkB/+zpwzoxKQM3MzMzMeFJAZmZmZmZqWEAAAAAAAFxeQM3MzMzMJmJAmpmZmZkfZUBmZmZmZhhoQDMzMzMzEWtAAAAAAAAKbkBmZmZmZoFwQM3MzMzM/XFAMzMzMzN6c0CamZmZmfZ0QAAAAAAAc3ZAZmZmZmbvd0DNzMzMzGt5QDMzMzMz6HpAmpmZmZlkfEAAAAAAAOF9QGZmZmZmXX9AZmZmZuZsgECamZmZGSuBQM3MzMxM6YFAAAAAAICngkAzMzMzs2WDQGZmZmbmI4RAmpmZmRnihEDNzMzMTKCFQAAAAACAXoZAMzMzM7Mch0BmZmZm5tqHQJqZmZkZmYhAzczMzExXiUAAAAAAgBWKQDMzMzOz04pAZmZmZuaRi0CamZmZGVCMQM3MzMxMDo1AAAAAAIDMjUAzMzMzs4qOQGZmZmbmSI9A\",\"dtype\":\"float64\",\"shape\":[75]}},\"selected\":{\"id\":\"5cecedae-d827-49a0-890a-f3ff4bf1fff3\",\"type\":\"Selection\"},\"selection_policy\":{\"id\":\"0f904ca4-bee8-49bb-a445-7091d9afa05e\",\"type\":\"UnionRenderers\"}},\"id\":\"a35a0003-734d-4b52-8a01-48b7d7295ab4\",\"type\":\"ColumnDataSource\"},{\"attributes\":{\"axis_label\":\"cooling rate [K/day]\",\"formatter\":{\"id\":\"64059433-fffc-487e-94ec-7badac319b76\",\"type\":\"BasicTickFormatter\"},\"plot\":{\"id\":\"a1f577b5-2492-48b8-b911-27eca9a9517a\",\"subtype\":\"Figure\",\"type\":\"Plot\"},\"ticker\":{\"id\":\"18d83c2a-d186-4d69-afa0-cea05e491f60\",\"type\":\"BasicTicker\"}},\"id\":\"667ecc80-ea68-4d7c-91ae-3b5c9ecc08e1\",\"type\":\"LinearAxis\"},{\"attributes\":{},\"id\":\"d9bec40c-3105-46df-a3b5-bf6c50e1dec7\",\"type\":\"Selection\"},{\"attributes\":{\"num_minor_ticks\":10},\"id\":\"ada6c722-8105-4410-b39a-c97a0a05e7b3\",\"type\":\"LogTicker\"},{\"attributes\":{\"callback\":null,\"end\":0.01,\"start\":1020},\"id\":\"cd19d592-1be4-44f2-aacb-73d3e233fd64\",\"type\":\"Range1d\"},{\"attributes\":{\"callback\":null,\"end\":0.026491575111000004,\"start\":-0.011441512011},\"id\":\"10fdd14c-26c0-494b-82f3-6ba9ee28e127\",\"type\":\"Range1d\"},{\"attributes\":{},\"id\":\"5c66ff94-cd43-460b-a852-40d481487cef\",\"type\":\"UnionRenderers\"},{\"attributes\":{\"above\":[{\"id\":\"6bb482e8-5bab-49a2-ae78-7bdbffb9b475\",\"type\":\"Legend\"}],\"below\":[{\"id\":\"e7783cff-0c83-4c67-a82b-15c8fa7925ca\",\"type\":\"LinearAxis\"}],\"left\":[{\"id\":\"32de422a-207b-41cc-9ecf-4ff55b54aecd\",\"type\":\"LinearAxis\"}],\"plot_width\":300,\"renderers\":[{\"id\":\"e7783cff-0c83-4c67-a82b-15c8fa7925ca\",\"type\":\"LinearAxis\"},{\"id\":\"6566ca15-4d3a-43ee-9ec0-42041513e9dc\",\"type\":\"Grid\"},{\"id\":\"32de422a-207b-41cc-9ecf-4ff55b54aecd\",\"type\":\"LinearAxis\"},{\"id\":\"3771e03e-8a21-480e-a9ff-b3461d2f1827\",\"type\":\"Grid\"},{\"id\":\"55391f0b-05a5-412d-9ed4-acfe147252e4\",\"type\":\"BoxAnnotation\"},{\"id\":\"e9d3b7f7-ee84-49ed-a593-e8f1eb8470b5\",\"type\":\"GlyphRenderer\"},{\"id\":\"f2cb8632-914f-4d8e-b719-edce0488d461\",\"type\":\"GlyphRenderer\"},{\"id\":\"e63aa9ca-83d8-498f-92a2-dd9a81a32804\",\"type\":\"GlyphRenderer\"},{\"id\":\"6bb482e8-5bab-49a2-ae78-7bdbffb9b475\",\"type\":\"Legend\"}],\"title\":{\"id\":\"c2a139ae-8ffb-4c71-ba68-8da3256e6028\",\"type\":\"Title\"},\"toolbar\":{\"id\":\"3ed4b53f-8d2e-4048-88ac-c0eb38ba1299\",\"type\":\"Toolbar\"},\"toolbar_location\":null,\"x_range\":{\"id\":\"f89774e3-fefe-42b9-bf1f-74306530e861\",\"type\":\"Range1d\"},\"x_scale\":{\"id\":\"09793ad8-feb0-4491-b382-a286289c3569\",\"type\":\"LinearScale\"},\"y_range\":{\"id\":\"7769b193-258d-4dc0-be42-3d424c4b5bfa\",\"type\":\"Range1d\"},\"y_scale\":{\"id\":\"76a0ddd4-8262-46ff-b561-955a1695c89d\",\"type\":\"LinearScale\"}},\"id\":\"16ea44ad-4809-4455-9a7c-0e4d85e76846\",\"subtype\":\"Figure\",\"type\":\"Plot\"},{\"attributes\":{\"callback\":null,\"end\":0.01,\"start\":1020},\"id\":\"7769b193-258d-4dc0-be42-3d424c4b5bfa\",\"type\":\"Range1d\"},{\"attributes\":{},\"id\":\"18d83c2a-d186-4d69-afa0-cea05e491f60\",\"type\":\"BasicTicker\"},{\"attributes\":{},\"id\":\"466fb439-6484-4d64-88ea-fc9e0570ca3d\",\"type\":\"BasicTickFormatter\"},{\"attributes\":{\"overlay\":{\"id\":\"3b1c8e0d-6ef2-4030-b88a-c24fb426c3f3\",\"type\":\"BoxAnnotation\"}},\"id\":\"e0063bc6-4308-4a7a-baa5-33172dd15bc3\",\"type\":\"BoxZoomTool\"},{\"attributes\":{\"fill_alpha\":{\"value\":0.1},\"fill_color\":{\"value\":\"#1f77b4\"},\"line_alpha\":{\"value\":0.1},\"line_color\":{\"value\":\"#1f77b4\"},\"x\":{\"field\":\"x\"},\"y\":{\"field\":\"y\"}},\"id\":\"c1198517-70d8-4612-9808-b472fa2f1a70\",\"type\":\"Circle\"},{\"attributes\":{\"dimension\":1,\"plot\":{\"id\":\"16ea44ad-4809-4455-9a7c-0e4d85e76846\",\"subtype\":\"Figure\",\"type\":\"Plot\"},\"ticker\":{\"id\":\"e9ff5ab4-c4d1-4f6f-989c-f21428a894c0\",\"type\":\"BasicTicker\"}},\"id\":\"3771e03e-8a21-480e-a9ff-b3461d2f1827\",\"type\":\"Grid\"},{\"attributes\":{\"line_color\":\"#4daf4a\",\"line_width\":1.5,\"x\":{\"field\":\"x\"},\"y\":{\"field\":\"y\"}},\"id\":\"f4398bb1-5720-4f75-8ffa-90ddc132ac7e\",\"type\":\"Line\"},{\"attributes\":{},\"id\":\"dc51480b-940e-4b7c-89f7-f69b3eacdb38\",\"type\":\"ResetTool\"},{\"attributes\":{},\"id\":\"e9ff5ab4-c4d1-4f6f-989c-f21428a894c0\",\"type\":\"BasicTicker\"},{\"attributes\":{\"items\":[{\"id\":\"b94d9957-fea1-4017-a2ea-2fe482c1c23e\",\"type\":\"LegendItem\"},{\"id\":\"1fedbb03-ee54-493e-b4ce-56528edfcfc3\",\"type\":\"LegendItem\"}],\"label_text_font_size\":{\"value\":\"8pt\"},\"location\":\"top_center\",\"orientation\":\"horizontal\",\"plot\":{\"id\":\"4671c77d-e0b2-4b4f-944b-b8a8bce1227b\",\"subtype\":\"Figure\",\"type\":\"Plot\"}},\"id\":\"f077bd1e-3ac0-427b-aae8-48bb3f6b3ea8\",\"type\":\"Legend\"},{\"attributes\":{},\"id\":\"4708f652-68f5-41cb-9540-3c7b4ff94e6a\",\"type\":\"BasicTicker\"},{\"attributes\":{},\"id\":\"9129e1bd-7a98-458b-b7ee-63df7f1122ff\",\"type\":\"PanTool\"},{\"attributes\":{},\"id\":\"7049fb29-bf5d-4e72-a5ff-41e8e589b0c8\",\"type\":\"PanTool\"},{\"attributes\":{\"plot\":{\"id\":\"16ea44ad-4809-4455-9a7c-0e4d85e76846\",\"subtype\":\"Figure\",\"type\":\"Plot\"},\"ticker\":{\"id\":\"33625a4a-9d98-4830-afac-6db6671d26cb\",\"type\":\"BasicTicker\"}},\"id\":\"6566ca15-4d3a-43ee-9ec0-42041513e9dc\",\"type\":\"Grid\"},{\"attributes\":{},\"id\":\"be709668-5a56-4f3f-85e2-5700cf2ebf02\",\"type\":\"BasicTickFormatter\"},{\"attributes\":{\"callback\":null,\"end\":0.13795843037,\"start\":-0.04823485537},\"id\":\"8100bff6-fbd0-4bf3-8c48-2d69a3b631d5\",\"type\":\"Range1d\"},{\"attributes\":{},\"id\":\"33625a4a-9d98-4830-afac-6db6671d26cb\",\"type\":\"BasicTicker\"},{\"attributes\":{},\"id\":\"b5ccb846-6807-4ef4-b520-074911220deb\",\"type\":\"HelpTool\"},{\"attributes\":{\"axis_label\":\"cooling rate [K/day]\",\"formatter\":{\"id\":\"7cc86768-d259-4643-a3ab-2e4514322ed3\",\"type\":\"BasicTickFormatter\"},\"plot\":{\"id\":\"16ea44ad-4809-4455-9a7c-0e4d85e76846\",\"subtype\":\"Figure\",\"type\":\"Plot\"},\"ticker\":{\"id\":\"33625a4a-9d98-4830-afac-6db6671d26cb\",\"type\":\"BasicTicker\"}},\"id\":\"e7783cff-0c83-4c67-a82b-15c8fa7925ca\",\"type\":\"LinearAxis\"},{\"attributes\":{},\"id\":\"52615e6f-2321-4d1c-82eb-4650ff0b9b63\",\"type\":\"PanTool\"},{\"attributes\":{},\"id\":\"78f4a3a1-f8c4-4a7b-bce2-e680348b5904\",\"type\":\"HelpTool\"},{\"attributes\":{\"bottom_units\":\"screen\",\"fill_alpha\":{\"value\":0.5},\"fill_color\":{\"value\":\"lightgrey\"},\"left_units\":\"screen\",\"level\":\"overlay\",\"line_alpha\":{\"value\":1.0},\"line_color\":{\"value\":\"black\"},\"line_dash\":[4,4],\"line_width\":{\"value\":2},\"plot\":null,\"render_mode\":\"css\",\"right_units\":\"screen\",\"top_units\":\"screen\"},\"id\":\"dd640a23-1988-404a-9c49-01efab76737d\",\"type\":\"BoxAnnotation\"},{\"attributes\":{\"data_source\":{\"id\":\"4bbdd6ec-5c1f-474d-9d20-908a4c58b6b1\",\"type\":\"ColumnDataSource\"},\"glyph\":{\"id\":\"f4398bb1-5720-4f75-8ffa-90ddc132ac7e\",\"type\":\"Line\"},\"hover_glyph\":null,\"muted_glyph\":null,\"nonselection_glyph\":{\"id\":\"3debebc6-dcfa-4604-94ee-4b2ec42b6fdc\",\"type\":\"Line\"},\"selection_glyph\":null,\"view\":{\"id\":\"2e48e2fa-62ae-42d2-bab5-507cb3300f98\",\"type\":\"CDSView\"}},\"id\":\"e63aa9ca-83d8-498f-92a2-dd9a81a32804\",\"type\":\"GlyphRenderer\"},{\"attributes\":{\"label\":{\"value\":\"CRD\"},\"renderers\":[{\"id\":\"520b055e-f87c-4863-976e-7cd4a3b6e4f7\",\"type\":\"GlyphRenderer\"},{\"id\":\"2cb56e48-100e-4155-9d9e-daa102520bbc\",\"type\":\"GlyphRenderer\"}]},\"id\":\"1fedbb03-ee54-493e-b4ce-56528edfcfc3\",\"type\":\"LegendItem\"},{\"attributes\":{},\"id\":\"6f634d91-632b-48bc-96bd-3b64eac5576f\",\"type\":\"UnionRenderers\"},{\"attributes\":{},\"id\":\"5bd5f159-17b5-4e30-913a-6e685afe2402\",\"type\":\"UnionRenderers\"},{\"attributes\":{\"line_alpha\":0.1,\"line_color\":\"#1f77b4\",\"line_width\":1.5,\"x\":{\"field\":\"x\"},\"y\":{\"field\":\"y\"}},\"id\":\"3debebc6-dcfa-4604-94ee-4b2ec42b6fdc\",\"type\":\"Line\"},{\"attributes\":{\"children\":[{\"id\":\"a66424fe-36d7-4a05-8573-add6d27c6a21\",\"type\":\"Row\"}]},\"id\":\"39201e22-4d6b-4e66-91a6-fd907290bd57\",\"type\":\"Column\"},{\"attributes\":{},\"id\":\"5cecedae-d827-49a0-890a-f3ff4bf1fff3\",\"type\":\"Selection\"},{\"attributes\":{\"fill_alpha\":{\"value\":0.1},\"fill_color\":{\"value\":\"#1f77b4\"},\"line_alpha\":{\"value\":0.1},\"line_color\":{\"value\":\"#1f77b4\"},\"x\":{\"field\":\"x\"},\"y\":{\"field\":\"y\"}},\"id\":\"5804c17b-ec62-4533-ab12-857bf9f66a91\",\"type\":\"Circle\"},{\"attributes\":{\"fill_alpha\":{\"value\":0.7},\"fill_color\":{\"value\":\"#984ea3\"},\"line_alpha\":{\"value\":0.7},\"line_color\":{\"value\":\"#984ea3\"},\"x\":{\"field\":\"x\"},\"y\":{\"field\":\"y\"}},\"id\":\"2de2b88e-c926-4b60-b093-ff956bde9464\",\"type\":\"Circle\"},{\"attributes\":{\"children\":[{\"id\":\"16ea44ad-4809-4455-9a7c-0e4d85e76846\",\"subtype\":\"Figure\",\"type\":\"Plot\"},{\"id\":\"4671c77d-e0b2-4b4f-944b-b8a8bce1227b\",\"subtype\":\"Figure\",\"type\":\"Plot\"},{\"id\":\"a1f577b5-2492-48b8-b911-27eca9a9517a\",\"subtype\":\"Figure\",\"type\":\"Plot\"}]},\"id\":\"a66424fe-36d7-4a05-8573-add6d27c6a21\",\"type\":\"Row\"},{\"attributes\":{\"label\":{\"value\":\"CLIRAD\"},\"renderers\":[{\"id\":\"e9d3b7f7-ee84-49ed-a593-e8f1eb8470b5\",\"type\":\"GlyphRenderer\"}]},\"id\":\"e4486cbb-891e-410c-89cb-96eaddc26a1b\",\"type\":\"LegendItem\"},{\"attributes\":{\"line_alpha\":0.1,\"line_color\":\"#1f77b4\",\"line_dash\":[6],\"line_width\":5,\"x\":{\"field\":\"x\"},\"y\":{\"field\":\"y\"}},\"id\":\"a56d9df0-2ba1-4ffb-8e41-43490ab2da5d\",\"type\":\"Line\"},{\"attributes\":{\"plot\":{\"id\":\"4671c77d-e0b2-4b4f-944b-b8a8bce1227b\",\"subtype\":\"Figure\",\"type\":\"Plot\"},\"ticker\":{\"id\":\"4708f652-68f5-41cb-9540-3c7b4ff94e6a\",\"type\":\"BasicTicker\"}},\"id\":\"83ded8c7-d9c0-43c4-9b35-bf76aca96031\",\"type\":\"Grid\"},{\"attributes\":{},\"id\":\"b345df51-af1f-4bfa-860c-8eccadbffba8\",\"type\":\"SaveTool\"},{\"attributes\":{\"axis_label\":\"pressure [mb]\",\"formatter\":{\"id\":\"466fb439-6484-4d64-88ea-fc9e0570ca3d\",\"type\":\"BasicTickFormatter\"},\"plot\":{\"id\":\"16ea44ad-4809-4455-9a7c-0e4d85e76846\",\"subtype\":\"Figure\",\"type\":\"Plot\"},\"ticker\":{\"id\":\"e9ff5ab4-c4d1-4f6f-989c-f21428a894c0\",\"type\":\"BasicTicker\"}},\"id\":\"32de422a-207b-41cc-9ecf-4ff55b54aecd\",\"type\":\"LinearAxis\"},{\"attributes\":{},\"id\":\"dbb1fe18-54ef-4497-8364-54a1d17278ca\",\"type\":\"HelpTool\"},{\"attributes\":{},\"id\":\"f64dc674-9981-4c68-b45e-7ea8f396e9c6\",\"type\":\"ResetTool\"},{\"attributes\":{},\"id\":\"c773ae23-2895-40d6-b880-550a7aaf9525\",\"type\":\"LogScale\"},{\"attributes\":{},\"id\":\"9ee63512-ad1f-4740-8e64-4d8eccc08833\",\"type\":\"WheelZoomTool\"},{\"attributes\":{},\"id\":\"993380ba-f564-4043-b5b2-04f02fc9d446\",\"type\":\"WheelZoomTool\"},{\"attributes\":{\"callback\":null,\"end\":0.10369171092,\"start\":-0.04789558092},\"id\":\"f89774e3-fefe-42b9-bf1f-74306530e861\",\"type\":\"Range1d\"},{\"attributes\":{},\"id\":\"de6431dc-afb6-4623-b54c-6a0ad8b62d9b\",\"type\":\"Selection\"},{\"attributes\":{},\"id\":\"5fee124d-b58b-47e3-b622-aff0b78e75dd\",\"type\":\"ResetTool\"},{\"attributes\":{\"data_source\":{\"id\":\"d364c321-beda-4690-bac2-261531ce9e91\",\"type\":\"ColumnDataSource\"},\"glyph\":{\"id\":\"aa18cd7b-17f9-48fe-8b1a-232dc74f9795\",\"type\":\"Line\"},\"hover_glyph\":null,\"muted_glyph\":null,\"nonselection_glyph\":{\"id\":\"a56d9df0-2ba1-4ffb-8e41-43490ab2da5d\",\"type\":\"Line\"},\"selection_glyph\":null,\"view\":{\"id\":\"62965acb-82da-4d89-b3ef-aeb55d516b10\",\"type\":\"CDSView\"}},\"id\":\"ed142ac5-d563-498e-b035-49af8a2e53a3\",\"type\":\"GlyphRenderer\"},{\"attributes\":{\"callback\":null,\"data\":{\"x\":{\"__ndarray__\":\"5A1qMObWnD9c3erwyaecPyYVPCWhXZw/UyJCiboCnD9QF++f3KqbP7wP4q/yUJs/nqPwAQMGmz8Qrzs6xr6aP+pzevwsf5o/sGXMOYVQmj/ecBa1BjaaP6cVz25nPpo/4WUZqGRumj/1DJsxHr+aPykDRBeN4pk/T053kZfrlj+qzyMvfNeSPyC0XSKQq4w/MJmzCfPIgj/wsbLy1dJvP1BkpsEomWC/dJHgeARYgL9AbvD/j4V7v8A4fn20BVI/5BJmK0aVgT+gYnE/rZCMP1Ycy0TcX48/5M1bIR4ciz9EXa0LJpuCP/hSHoW+h3E/UHmhyDAxIb8sNLTsznRtvw9vX59JUXm/Y6J1wbvigL874/dOvnSDvz95s2GoHoS/MS5Ssfy8g78I1ZbS5HaEv9jnmGPhOoa/r2asHKurhr/jWSX3hHyGv3bjirdI9IW/mpHjxUAihb8OTj8G/RWEv/FYILwl2YK/PvpQCvVugb9FM4kQlOh/v+2Il6PfsHy/HE3qX6Rkeb+8a6LxMQh2v7Zhfnptp3K/ICfg6eKubr8kFk1BYOBnvxTxCn5Dc2G/qvMoeC0RVr8QETpsO8dEv0DeB4dz2Qw/WJbjKtrJRT9Y8S/df79TP3iB+S4cPVs/sBJbkBnnYD+IE0vjeohkPxDeW1Q1iGk/rHn8GwpYcD/MUtkai1J0P7jdtE6Z8Xc/THASzJaBej/8e2lXDwJ8P7jrAncDeXw/TGLp2TI0fD/cy5NXJn17PwCxUv8oA3o/6HCmzy/Gdz9ozqK5RrJ0P9i6ANMgB3A/\",\"dtype\":\"float64\",\"shape\":[75]},\"y\":{\"__ndarray__\":\"GhExyth1ND/Sv8nbtpRIP2vylNV0PVE/aTum7souWD/At0SJ8fVgPw3Iuahxymc/MSNhhJWvcD/bTfBN02d3P2zb5nxnaoA/CD5h5MAGhz8NmeH1TyaQP+zrCsc9p5Y/LbKd76fGnz/bLW5ISEmmPww9YvTcQq8/JV2OstnstT8Er5Y7M8G+P0c+r3jqkcU/5h99k6ZBzj88bCIzFzjVP4enV8oyxN0//yH99nXg5D8qOpLLf0jtP5kqGJXUifQ/c9cS8kHP/D+/DpwzojQEQIEmwoanVwxA4lgXt9HgE0BSSZ2AJuIbQAMJih9jjiNA5q4l5INuK0AwTKYKRj0zQNv5fmq8/DpAaCJseHrtQkB/+zpwzoxKQM3MzMzMeFJAZmZmZmZqWEAAAAAAAFxeQM3MzMzMJmJAmpmZmZkfZUBmZmZmZhhoQDMzMzMzEWtAAAAAAAAKbkBmZmZmZoFwQM3MzMzM/XFAMzMzMzN6c0CamZmZmfZ0QAAAAAAAc3ZAZmZmZmbvd0DNzMzMzGt5QDMzMzMz6HpAmpmZmZlkfEAAAAAAAOF9QGZmZmZmXX9AZmZmZuZsgECamZmZGSuBQM3MzMxM6YFAAAAAAICngkAzMzMzs2WDQGZmZmbmI4RAmpmZmRnihEDNzMzMTKCFQAAAAACAXoZAMzMzM7Mch0BmZmZm5tqHQJqZmZkZmYhAzczMzExXiUAAAAAAgBWKQDMzMzOz04pAZmZmZuaRi0CamZmZGVCMQM3MzMxMDo1AAAAAAIDMjUAzMzMzs4qOQGZmZmbmSI9A\",\"dtype\":\"float64\",\"shape\":[75]}},\"selected\":{\"id\":\"ae20f09a-2894-42ae-b2aa-40709b34e522\",\"type\":\"Selection\"},\"selection_policy\":{\"id\":\"5bd5f159-17b5-4e30-913a-6e685afe2402\",\"type\":\"UnionRenderers\"}},\"id\":\"6bd3f750-6959-43fe-9a4b-457f0783a928\",\"type\":\"ColumnDataSource\"},{\"attributes\":{},\"id\":\"a83f4cec-48cb-4fe1-9258-cddbae11e353\",\"type\":\"UnionRenderers\"},{\"attributes\":{},\"id\":\"ae20f09a-2894-42ae-b2aa-40709b34e522\",\"type\":\"Selection\"},{\"attributes\":{\"children\":[{\"id\":\"1d5f3312-4c00-4f91-83f7-419d299a39b2\",\"type\":\"ToolbarBox\"},{\"id\":\"39201e22-4d6b-4e66-91a6-fd907290bd57\",\"type\":\"Column\"}]},\"id\":\"6487b106-e45a-4ec5-a777-92e91c65b721\",\"type\":\"Column\"},{\"attributes\":{\"bottom_units\":\"screen\",\"fill_alpha\":{\"value\":0.5},\"fill_color\":{\"value\":\"lightgrey\"},\"left_units\":\"screen\",\"level\":\"overlay\",\"line_alpha\":{\"value\":1.0},\"line_color\":{\"value\":\"black\"},\"line_dash\":[4,4],\"line_width\":{\"value\":2},\"plot\":null,\"render_mode\":\"css\",\"right_units\":\"screen\",\"top_units\":\"screen\"},\"id\":\"3b1c8e0d-6ef2-4030-b88a-c24fb426c3f3\",\"type\":\"BoxAnnotation\"},{\"attributes\":{},\"id\":\"7cc86768-d259-4643-a3ab-2e4514322ed3\",\"type\":\"BasicTickFormatter\"},{\"attributes\":{\"items\":[{\"id\":\"e4486cbb-891e-410c-89cb-96eaddc26a1b\",\"type\":\"LegendItem\"},{\"id\":\"eeb7c9d9-4a5e-4b00-9ba8-ccd69444cab6\",\"type\":\"LegendItem\"}],\"label_text_font_size\":{\"value\":\"8pt\"},\"location\":\"top_center\",\"orientation\":\"horizontal\",\"plot\":{\"id\":\"16ea44ad-4809-4455-9a7c-0e4d85e76846\",\"subtype\":\"Figure\",\"type\":\"Plot\"}},\"id\":\"6bb482e8-5bab-49a2-ae78-7bdbffb9b475\",\"type\":\"Legend\"},{\"attributes\":{\"active_drag\":\"auto\",\"active_inspect\":\"auto\",\"active_scroll\":\"auto\",\"active_tap\":\"auto\",\"tools\":[{\"id\":\"52615e6f-2321-4d1c-82eb-4650ff0b9b63\",\"type\":\"PanTool\"},{\"id\":\"f7066317-6eb7-4336-80d0-0f7843d11bc6\",\"type\":\"WheelZoomTool\"},{\"id\":\"07e7bfc8-3588-4e83-8e54-d48d8163730c\",\"type\":\"BoxZoomTool\"},{\"id\":\"86d71199-1454-45e4-ba51-ffda261b9522\",\"type\":\"SaveTool\"},{\"id\":\"5fee124d-b58b-47e3-b622-aff0b78e75dd\",\"type\":\"ResetTool\"},{\"id\":\"dbb1fe18-54ef-4497-8364-54a1d17278ca\",\"type\":\"HelpTool\"}]},\"id\":\"3ed4b53f-8d2e-4048-88ac-c0eb38ba1299\",\"type\":\"Toolbar\"},{\"attributes\":{},\"id\":\"cf837898-9862-4374-bb76-c689aa5c93ed\",\"type\":\"UnionRenderers\"},{\"attributes\":{\"label\":{\"value\":\"CRD\"},\"renderers\":[{\"id\":\"f2cb8632-914f-4d8e-b719-edce0488d461\",\"type\":\"GlyphRenderer\"},{\"id\":\"e63aa9ca-83d8-498f-92a2-dd9a81a32804\",\"type\":\"GlyphRenderer\"}]},\"id\":\"eeb7c9d9-4a5e-4b00-9ba8-ccd69444cab6\",\"type\":\"LegendItem\"},{\"attributes\":{\"ticker\":null},\"id\":\"e1e9c50c-5d34-41c7-b003-87c63f63dfc3\",\"type\":\"LogTickFormatter\"},{\"attributes\":{\"line_alpha\":0.1,\"line_color\":\"#1f77b4\",\"line_width\":1.5,\"x\":{\"field\":\"x\"},\"y\":{\"field\":\"y\"}},\"id\":\"5535dfcc-4dca-472b-acce-14f09dbe70dc\",\"type\":\"Line\"},{\"attributes\":{},\"id\":\"992d8b31-3e6d-4077-8a66-cb706d31540a\",\"type\":\"SaveTool\"},{\"attributes\":{},\"id\":\"09793ad8-feb0-4491-b382-a286289c3569\",\"type\":\"LinearScale\"},{\"attributes\":{\"data_source\":{\"id\":\"81dd1866-a14a-4120-95ef-a6c46da065a3\",\"type\":\"ColumnDataSource\"},\"glyph\":{\"id\":\"274ff6a8-2c96-46e1-907d-22eb4596e6a7\",\"type\":\"Line\"},\"hover_glyph\":null,\"muted_glyph\":null,\"nonselection_glyph\":{\"id\":\"96f9e244-81c6-4cce-9e76-7dc065a7c3e2\",\"type\":\"Line\"},\"selection_glyph\":null,\"view\":{\"id\":\"b76ad743-a6a0-458d-b39d-499c40d8e0ba\",\"type\":\"CDSView\"}},\"id\":\"e9d3b7f7-ee84-49ed-a593-e8f1eb8470b5\",\"type\":\"GlyphRenderer\"},{\"attributes\":{\"overlay\":{\"id\":\"dd640a23-1988-404a-9c49-01efab76737d\",\"type\":\"BoxAnnotation\"}},\"id\":\"7d81561b-3f05-45e2-a1ae-348c999b3467\",\"type\":\"BoxZoomTool\"},{\"attributes\":{\"tools\":[{\"id\":\"52615e6f-2321-4d1c-82eb-4650ff0b9b63\",\"type\":\"PanTool\"},{\"id\":\"f7066317-6eb7-4336-80d0-0f7843d11bc6\",\"type\":\"WheelZoomTool\"},{\"id\":\"07e7bfc8-3588-4e83-8e54-d48d8163730c\",\"type\":\"BoxZoomTool\"},{\"id\":\"86d71199-1454-45e4-ba51-ffda261b9522\",\"type\":\"SaveTool\"},{\"id\":\"5fee124d-b58b-47e3-b622-aff0b78e75dd\",\"type\":\"ResetTool\"},{\"id\":\"dbb1fe18-54ef-4497-8364-54a1d17278ca\",\"type\":\"HelpTool\"},{\"id\":\"7049fb29-bf5d-4e72-a5ff-41e8e589b0c8\",\"type\":\"PanTool\"},{\"id\":\"993380ba-f564-4043-b5b2-04f02fc9d446\",\"type\":\"WheelZoomTool\"},{\"id\":\"e0063bc6-4308-4a7a-baa5-33172dd15bc3\",\"type\":\"BoxZoomTool\"},{\"id\":\"b345df51-af1f-4bfa-860c-8eccadbffba8\",\"type\":\"SaveTool\"},{\"id\":\"f64dc674-9981-4c68-b45e-7ea8f396e9c6\",\"type\":\"ResetTool\"},{\"id\":\"78f4a3a1-f8c4-4a7b-bce2-e680348b5904\",\"type\":\"HelpTool\"},{\"id\":\"9129e1bd-7a98-458b-b7ee-63df7f1122ff\",\"type\":\"PanTool\"},{\"id\":\"9ee63512-ad1f-4740-8e64-4d8eccc08833\",\"type\":\"WheelZoomTool\"},{\"id\":\"7d81561b-3f05-45e2-a1ae-348c999b3467\",\"type\":\"BoxZoomTool\"},{\"id\":\"992d8b31-3e6d-4077-8a66-cb706d31540a\",\"type\":\"SaveTool\"},{\"id\":\"dc51480b-940e-4b7c-89f7-f69b3eacdb38\",\"type\":\"ResetTool\"},{\"id\":\"b5ccb846-6807-4ef4-b520-074911220deb\",\"type\":\"HelpTool\"}]},\"id\":\"a05d2b45-427c-411b-8377-778dc4fc22e6\",\"type\":\"ProxyToolbar\"},{\"attributes\":{\"callback\":null,\"data\":{\"x\":{\"__ndarray__\":\"CA3w6Vksn7+IuN7bma6ev4ZXvJcOpJ2/unrudXSSnL+VNC68TH2bvzDNs1z2Z5q/MBgRwQdamb9tRdyRak6Yv+MptaQNSpe/A9uhVppRlr/uSQx0gG+Vv2k7G7MiqpS/tZc22VQPlL+0DXzG7lSTv5bhy4YtJI2/4HVoHuEwaL+OZOG8V2yJP6wV4pvq7J4/JO/7u2fyqT9bahAokwGzP5JE9/j5+bk/8W4b/LOVwD/MjFZszmzBP9l+3sb5qr4/zv1CgO0PuT/v5q7HcgKzP7C0A+MdNqw/DfvsaU8VpT/nzvN3VNSfP9avgR8f9Zc/TwBLS4FVkT+SF75r/DyGPzPtJgTCU3M/xWKDJdjoXr8Y7EabA32Hv0SJCJKGOZi/4P1HX24bob9WOhjkQKWiv2g7drW00aG/2Hjob80Tob/3w5AbzEagvz4wOdL2v56/bm9KiNixnL+snnkccmqav7ktZotx7Je/xi/5I4w6lb9JCxNmU1eSv06CkTifio6//olJdOELiL81OJjtDTWBv1xQ/dEgFnS/yEE9ABh9VL9ALMS4Ve9kP0cbnhrDrno/+M8lpEbEhT9mDO+SsYOOP+dhZnRHzJM/Xqwnr+CCmD/OFEIg+mKdP+ozI2DNMaE/85PAn0ewoz8wrNvT5wCmP8hrAmWD56c/sjA3JF1PqT+oYmCmuG2qP3xvSK10mqs/PhDL+XEarT8iY2dqDwSvP8ZxnrmgobA/ZqxK45bdsT9kJFAEPi2zP//mb4n2jbQ/+RFz1Mf/tT8Yx2y8gIa3P9rSxriyKbk/\",\"dtype\":\"float64\",\"shape\":[75]},\"y\":{\"__ndarray__\":\"GhExyth1ND/Sv8nbtpRIP2vylNV0PVE/aTum7souWD/At0SJ8fVgPw3Iuahxymc/MSNhhJWvcD/bTfBN02d3P2zb5nxnaoA/CD5h5MAGhz8NmeH1TyaQP+zrCsc9p5Y/LbKd76fGnz/bLW5ISEmmPww9YvTcQq8/JV2OstnstT8Er5Y7M8G+P0c+r3jqkcU/5h99k6ZBzj88bCIzFzjVP4enV8oyxN0//yH99nXg5D8qOpLLf0jtP5kqGJXUifQ/c9cS8kHP/D+/DpwzojQEQIEmwoanVwxA4lgXt9HgE0BSSZ2AJuIbQAMJih9jjiNA5q4l5INuK0AwTKYKRj0zQNv5fmq8/DpAaCJseHrtQkB/+zpwzoxKQM3MzMzMeFJAZmZmZmZqWEAAAAAAAFxeQM3MzMzMJmJAmpmZmZkfZUBmZmZmZhhoQDMzMzMzEWtAAAAAAAAKbkBmZmZmZoFwQM3MzMzM/XFAMzMzMzN6c0CamZmZmfZ0QAAAAAAAc3ZAZmZmZmbvd0DNzMzMzGt5QDMzMzMz6HpAmpmZmZlkfEAAAAAAAOF9QGZmZmZmXX9AZmZmZuZsgECamZmZGSuBQM3MzMxM6YFAAAAAAICngkAzMzMzs2WDQGZmZmbmI4RAmpmZmRnihEDNzMzMTKCFQAAAAACAXoZAMzMzM7Mch0BmZmZm5tqHQJqZmZkZmYhAzczMzExXiUAAAAAAgBWKQDMzMzOz04pAZmZmZuaRi0CamZmZGVCMQM3MzMxMDo1AAAAAAIDMjUAzMzMzs4qOQGZmZmbmSI9A\",\"dtype\":\"float64\",\"shape\":[75]}},\"selected\":{\"id\":\"de6431dc-afb6-4623-b54c-6a0ad8b62d9b\",\"type\":\"Selection\"},\"selection_policy\":{\"id\":\"0e680544-e707-462e-95d9-483f1d87fc84\",\"type\":\"UnionRenderers\"}},\"id\":\"d7dbd156-003b-4318-9f85-2e447ca4d2f4\",\"type\":\"ColumnDataSource\"},{\"attributes\":{},\"id\":\"0e680544-e707-462e-95d9-483f1d87fc84\",\"type\":\"UnionRenderers\"},{\"attributes\":{},\"id\":\"65bdf2b0-5304-40d6-8857-706e9e947a14\",\"type\":\"Selection\"},{\"attributes\":{\"plot\":null,\"text\":\"\"},\"id\":\"c2a139ae-8ffb-4c71-ba68-8da3256e6028\",\"type\":\"Title\"},{\"attributes\":{\"overlay\":{\"id\":\"55391f0b-05a5-412d-9ed4-acfe147252e4\",\"type\":\"BoxAnnotation\"}},\"id\":\"07e7bfc8-3588-4e83-8e54-d48d8163730c\",\"type\":\"BoxZoomTool\"},{\"attributes\":{},\"id\":\"6c74065a-4b33-475e-8b3f-cebf9e4b4742\",\"type\":\"LinearScale\"},{\"attributes\":{\"data_source\":{\"id\":\"5cd0a700-11ca-49e1-91c4-ec070a0fbcb3\",\"type\":\"ColumnDataSource\"},\"glyph\":{\"id\":\"8288472b-410c-4ee7-aa45-58e0064bf976\",\"type\":\"Circle\"},\"hover_glyph\":null,\"muted_glyph\":null,\"nonselection_glyph\":{\"id\":\"fa234b07-b7ec-40c4-96c2-1e8a23d0875d\",\"type\":\"Circle\"},\"selection_glyph\":null,\"view\":{\"id\":\"f86ee2aa-0d70-4273-a00a-faaeacbcce0d\",\"type\":\"CDSView\"}},\"id\":\"520b055e-f87c-4863-976e-7cd4a3b6e4f7\",\"type\":\"GlyphRenderer\"},{\"attributes\":{\"fill_alpha\":{\"value\":0.1},\"fill_color\":{\"value\":\"#1f77b4\"},\"line_alpha\":{\"value\":0.1},\"line_color\":{\"value\":\"#1f77b4\"},\"x\":{\"field\":\"x\"},\"y\":{\"field\":\"y\"}},\"id\":\"fa234b07-b7ec-40c4-96c2-1e8a23d0875d\",\"type\":\"Circle\"},{\"attributes\":{},\"id\":\"f7066317-6eb7-4336-80d0-0f7843d11bc6\",\"type\":\"WheelZoomTool\"},{\"attributes\":{\"line_color\":\"#4daf4a\",\"line_width\":1.5,\"x\":{\"field\":\"x\"},\"y\":{\"field\":\"y\"}},\"id\":\"6d0d3d5c-0097-4b89-982b-226fd10cbb73\",\"type\":\"Line\"},{\"attributes\":{\"label\":{\"value\":\"CLIRAD - CRD\"},\"renderers\":[{\"id\":\"06140415-a6bc-4326-bd04-d1e652d19fe0\",\"type\":\"GlyphRenderer\"},{\"id\":\"0a60c257-5a8a-4e43-ac35-2dad4000bfad\",\"type\":\"GlyphRenderer\"}]},\"id\":\"175b4704-6d40-4d7a-af14-23660d0883e7\",\"type\":\"LegendItem\"},{\"attributes\":{\"dimension\":1,\"plot\":{\"id\":\"4671c77d-e0b2-4b4f-944b-b8a8bce1227b\",\"subtype\":\"Figure\",\"type\":\"Plot\"},\"ticker\":{\"id\":\"468f93cc-4b3b-496c-85ce-f2f7e6359d3f\",\"type\":\"LogTicker\"}},\"id\":\"40e9bc84-3058-4157-8a46-89f77c7579ed\",\"type\":\"Grid\"},{\"attributes\":{\"source\":{\"id\":\"5cd0a700-11ca-49e1-91c4-ec070a0fbcb3\",\"type\":\"ColumnDataSource\"}},\"id\":\"f86ee2aa-0d70-4273-a00a-faaeacbcce0d\",\"type\":\"CDSView\"},{\"attributes\":{\"bottom_units\":\"screen\",\"fill_alpha\":{\"value\":0.5},\"fill_color\":{\"value\":\"lightgrey\"},\"left_units\":\"screen\",\"level\":\"overlay\",\"line_alpha\":{\"value\":1.0},\"line_color\":{\"value\":\"black\"},\"line_dash\":[4,4],\"line_width\":{\"value\":2},\"plot\":null,\"render_mode\":\"css\",\"right_units\":\"screen\",\"top_units\":\"screen\"},\"id\":\"55391f0b-05a5-412d-9ed4-acfe147252e4\",\"type\":\"BoxAnnotation\"},{\"attributes\":{\"callback\":null,\"data\":{\"x\":{\"__ndarray__\":\"CA3w6Vksn7+IuN7bma6ev4ZXvJcOpJ2/unrudXSSnL+VNC68TH2bvzDNs1z2Z5q/MBgRwQdamb9tRdyRak6Yv+MptaQNSpe/A9uhVppRlr/uSQx0gG+Vv2k7G7MiqpS/tZc22VQPlL+0DXzG7lSTv5bhy4YtJI2/4HVoHuEwaL+OZOG8V2yJP6wV4pvq7J4/JO/7u2fyqT9bahAokwGzP5JE9/j5+bk/8W4b/LOVwD/MjFZszmzBP9l+3sb5qr4/zv1CgO0PuT/v5q7HcgKzP7C0A+MdNqw/DfvsaU8VpT/nzvN3VNSfP9avgR8f9Zc/TwBLS4FVkT+SF75r/DyGPzPtJgTCU3M/xWKDJdjoXr8Y7EabA32Hv0SJCJKGOZi/4P1HX24bob9WOhjkQKWiv2g7drW00aG/2Hjob80Tob/3w5AbzEagvz4wOdL2v56/bm9KiNixnL+snnkccmqav7ktZotx7Je/xi/5I4w6lb9JCxNmU1eSv06CkTifio6//olJdOELiL81OJjtDTWBv1xQ/dEgFnS/yEE9ABh9VL9ALMS4Ve9kP0cbnhrDrno/+M8lpEbEhT9mDO+SsYOOP+dhZnRHzJM/Xqwnr+CCmD/OFEIg+mKdP+ozI2DNMaE/85PAn0ewoz8wrNvT5wCmP8hrAmWD56c/sjA3JF1PqT+oYmCmuG2qP3xvSK10mqs/PhDL+XEarT8iY2dqDwSvP8ZxnrmgobA/ZqxK45bdsT9kJFAEPi2zP//mb4n2jbQ/+RFz1Mf/tT8Yx2y8gIa3P9rSxriyKbk/\",\"dtype\":\"float64\",\"shape\":[75]},\"y\":{\"__ndarray__\":\"GhExyth1ND/Sv8nbtpRIP2vylNV0PVE/aTum7souWD/At0SJ8fVgPw3Iuahxymc/MSNhhJWvcD/bTfBN02d3P2zb5nxnaoA/CD5h5MAGhz8NmeH1TyaQP+zrCsc9p5Y/LbKd76fGnz/bLW5ISEmmPww9YvTcQq8/JV2OstnstT8Er5Y7M8G+P0c+r3jqkcU/5h99k6ZBzj88bCIzFzjVP4enV8oyxN0//yH99nXg5D8qOpLLf0jtP5kqGJXUifQ/c9cS8kHP/D+/DpwzojQEQIEmwoanVwxA4lgXt9HgE0BSSZ2AJuIbQAMJih9jjiNA5q4l5INuK0AwTKYKRj0zQNv5fmq8/DpAaCJseHrtQkB/+zpwzoxKQM3MzMzMeFJAZmZmZmZqWEAAAAAAAFxeQM3MzMzMJmJAmpmZmZkfZUBmZmZmZhhoQDMzMzMzEWtAAAAAAAAKbkBmZmZmZoFwQM3MzMzM/XFAMzMzMzN6c0CamZmZmfZ0QAAAAAAAc3ZAZmZmZmbvd0DNzMzMzGt5QDMzMzMz6HpAmpmZmZlkfEAAAAAAAOF9QGZmZmZmXX9AZmZmZuZsgECamZmZGSuBQM3MzMxM6YFAAAAAAICngkAzMzMzs2WDQGZmZmbmI4RAmpmZmRnihEDNzMzMTKCFQAAAAACAXoZAMzMzM7Mch0BmZmZm5tqHQJqZmZkZmYhAzczMzExXiUAAAAAAgBWKQDMzMzOz04pAZmZmZuaRi0CamZmZGVCMQM3MzMxMDo1AAAAAAIDMjUAzMzMzs4qOQGZmZmbmSI9A\",\"dtype\":\"float64\",\"shape\":[75]}},\"selected\":{\"id\":\"cb38f566-08a5-4be9-9e1f-de6fb63b2e94\",\"type\":\"Selection\"},\"selection_policy\":{\"id\":\"5c66ff94-cd43-460b-a852-40d481487cef\",\"type\":\"UnionRenderers\"}},\"id\":\"d894fd75-0d9a-4270-8cf9-3abe40524f55\",\"type\":\"ColumnDataSource\"},{\"attributes\":{\"line_alpha\":0.1,\"line_color\":\"#1f77b4\",\"line_dash\":[6],\"line_width\":5,\"x\":{\"field\":\"x\"},\"y\":{\"field\":\"y\"}},\"id\":\"96f9e244-81c6-4cce-9e76-7dc065a7c3e2\",\"type\":\"Line\"},{\"attributes\":{\"source\":{\"id\":\"d7dbd156-003b-4318-9f85-2e447ca4d2f4\",\"type\":\"ColumnDataSource\"}},\"id\":\"7d129b0c-bd8a-4082-acc5-2b5fb83436f2\",\"type\":\"CDSView\"},{\"attributes\":{},\"id\":\"0f904ca4-bee8-49bb-a445-7091d9afa05e\",\"type\":\"UnionRenderers\"},{\"attributes\":{\"axis_label\":\"pressure [mb]\",\"formatter\":{\"id\":\"94d5ebfb-c2c6-4d79-b616-661eebe20837\",\"type\":\"LogTickFormatter\"},\"plot\":{\"id\":\"4671c77d-e0b2-4b4f-944b-b8a8bce1227b\",\"subtype\":\"Figure\",\"type\":\"Plot\"},\"ticker\":{\"id\":\"468f93cc-4b3b-496c-85ce-f2f7e6359d3f\",\"type\":\"LogTicker\"}},\"id\":\"81b8042d-330d-40d2-a29c-de2b6969a00a\",\"type\":\"LogAxis\"},{\"attributes\":{\"items\":[{\"id\":\"175b4704-6d40-4d7a-af14-23660d0883e7\",\"type\":\"LegendItem\"}],\"label_text_font_size\":{\"value\":\"8pt\"},\"location\":\"top_center\",\"orientation\":\"horizontal\",\"plot\":{\"id\":\"a1f577b5-2492-48b8-b911-27eca9a9517a\",\"subtype\":\"Figure\",\"type\":\"Plot\"}},\"id\":\"f90066b7-af76-4a51-8fc6-ba46ebf16fbd\",\"type\":\"Legend\"},{\"attributes\":{\"source\":{\"id\":\"81dd1866-a14a-4120-95ef-a6c46da065a3\",\"type\":\"ColumnDataSource\"}},\"id\":\"b76ad743-a6a0-458d-b39d-499c40d8e0ba\",\"type\":\"CDSView\"},{\"attributes\":{\"source\":{\"id\":\"6bd3f750-6959-43fe-9a4b-457f0783a928\",\"type\":\"ColumnDataSource\"}},\"id\":\"c42cbec5-8c07-4dfb-9b8f-3cf873104311\",\"type\":\"CDSView\"},{\"attributes\":{\"line_alpha\":0.8,\"line_color\":\"#984ea3\",\"line_width\":1.5,\"x\":{\"field\":\"x\"},\"y\":{\"field\":\"y\"}},\"id\":\"988a3283-84d4-4960-9ed4-e37243c60b68\",\"type\":\"Line\"},{\"attributes\":{\"callback\":null,\"data\":{\"x\":{\"__ndarray__\":\"KPkvzJ2rYr9m2Z5XfzZgv+glBCjXZlS/2AyLlT33Qb8gXnHg8ccmP4BRyGWKH00/6Lb4DbS/Wj8gTftC3YJjPz5QKr76qGk/ZlVUGVf3bz+7mygEGRpzP/loz+4SUXY/sjiLOz98eT8F/Xusvah9P7wkvKfsoIY/kz+qbXvlkz/xgZQNqI2fP953iFZZoaY/cNVofqSkrj/q/6XXKQC0P3AR6rIwdbk/tMsaaWcgvz9aCVfsoZDAP7x31JgQ874/KsCvRZZCuz9DE51viJS2P+I9G3oKB7I/hu5D8lbcqz/EPuW+85CkP5REycAOV5w/Xb256R4zkT8PFSJhkb99P3AH4mwe9le/uw4mxta/hL+qZx/14HiVv/IicWFtJKG/bImci60Kpr+Y770Y+sKnv151XA5tYKe/hJITN7i+pr9wGlpZ7eWlv/1Q/5YN3aS/HRyedXyho7/aosxPuDqivxktuzSCrKC/5awhqQbynb8aWDVqeFGav2KjLoWHcZa/Rlgf0hlfkr8TbmnmJjmMvwnZPSbHXoO/AmT/dLd2dL8gT0dEVIg3v72imFsh9XE/g7Eg9SACgz9VayvcPTeNP9blKS602pM/Ecl+gC8xmT/kExUe8p6eP/b/mkG2C6I/HkXGOLm+pD9oXRCCb0mnP6opSLoGgKk/6L+2Z15aqz8CjbsJCvisPzQLH9enmK4/JK+maVI1sD9QSaqqKEKxP4GgDvEwabI/ikLpENqgsz8hYclpEOW0Pw8SZRkpLrY/CHlt0Sp8tz/+8wYopdG4P4je9sUkKro/\",\"dtype\":\"float64\",\"shape\":[75]},\"y\":{\"__ndarray__\":\"GhExyth1ND/Sv8nbtpRIP2vylNV0PVE/aTum7souWD/At0SJ8fVgPw3Iuahxymc/MSNhhJWvcD/bTfBN02d3P2zb5nxnaoA/CD5h5MAGhz8NmeH1TyaQP+zrCsc9p5Y/LbKd76fGnz/bLW5ISEmmPww9YvTcQq8/JV2OstnstT8Er5Y7M8G+P0c+r3jqkcU/5h99k6ZBzj88bCIzFzjVP4enV8oyxN0//yH99nXg5D8qOpLLf0jtP5kqGJXUifQ/c9cS8kHP/D+/DpwzojQEQIEmwoanVwxA4lgXt9HgE0BSSZ2AJuIbQAMJih9jjiNA5q4l5INuK0AwTKYKRj0zQNv5fmq8/DpAaCJseHrtQkB/+zpwzoxKQM3MzMzMeFJAZmZmZmZqWEAAAAAAAFxeQM3MzMzMJmJAmpmZmZkfZUBmZmZmZhhoQDMzMzMzEWtAAAAAAAAKbkBmZmZmZoFwQM3MzMzM/XFAMzMzMzN6c0CamZmZmfZ0QAAAAAAAc3ZAZmZmZmbvd0DNzMzMzGt5QDMzMzMz6HpAmpmZmZlkfEAAAAAAAOF9QGZmZmZmXX9AZmZmZuZsgECamZmZGSuBQM3MzMxM6YFAAAAAAICngkAzMzMzs2WDQGZmZmbmI4RAmpmZmRnihEDNzMzMTKCFQAAAAACAXoZAMzMzM7Mch0BmZmZm5tqHQJqZmZkZmYhAzczMzExXiUAAAAAAgBWKQDMzMzOz04pAZmZmZuaRi0CamZmZGVCMQM3MzMxMDo1AAAAAAIDMjUAzMzMzs4qOQGZmZmbmSI9A\",\"dtype\":\"float64\",\"shape\":[75]}},\"selected\":{\"id\":\"580806b3-a3d1-44d7-ac5d-fb20174cc5ee\",\"type\":\"Selection\"},\"selection_policy\":{\"id\":\"a83f4cec-48cb-4fe1-9258-cddbae11e353\",\"type\":\"UnionRenderers\"}},\"id\":\"d364c321-beda-4690-bac2-261531ce9e91\",\"type\":\"ColumnDataSource\"},{\"attributes\":{\"callback\":null,\"data\":{\"x\":{\"__ndarray__\":\"CA3w6Vksn7+IuN7bma6ev4ZXvJcOpJ2/unrudXSSnL+VNC68TH2bvzDNs1z2Z5q/MBgRwQdamb9tRdyRak6Yv+MptaQNSpe/A9uhVppRlr/uSQx0gG+Vv2k7G7MiqpS/tZc22VQPlL+0DXzG7lSTv5bhy4YtJI2/4HVoHuEwaL+OZOG8V2yJP6wV4pvq7J4/JO/7u2fyqT9bahAokwGzP5JE9/j5+bk/8W4b/LOVwD/MjFZszmzBP9l+3sb5qr4/zv1CgO0PuT/v5q7HcgKzP7C0A+MdNqw/DfvsaU8VpT/nzvN3VNSfP9avgR8f9Zc/TwBLS4FVkT+SF75r/DyGPzPtJgTCU3M/xWKDJdjoXr8Y7EabA32Hv0SJCJKGOZi/4P1HX24bob9WOhjkQKWiv2g7drW00aG/2Hjob80Tob/3w5AbzEagvz4wOdL2v56/bm9KiNixnL+snnkccmqav7ktZotx7Je/xi/5I4w6lb9JCxNmU1eSv06CkTifio6//olJdOELiL81OJjtDTWBv1xQ/dEgFnS/yEE9ABh9VL9ALMS4Ve9kP0cbnhrDrno/+M8lpEbEhT9mDO+SsYOOP+dhZnRHzJM/Xqwnr+CCmD/OFEIg+mKdP+ozI2DNMaE/85PAn0ewoz8wrNvT5wCmP8hrAmWD56c/sjA3JF1PqT+oYmCmuG2qP3xvSK10mqs/PhDL+XEarT8iY2dqDwSvP8ZxnrmgobA/ZqxK45bdsT9kJFAEPi2zP//mb4n2jbQ/+RFz1Mf/tT8Yx2y8gIa3P9rSxriyKbk/\",\"dtype\":\"float64\",\"shape\":[75]},\"y\":{\"__ndarray__\":\"GhExyth1ND/Sv8nbtpRIP2vylNV0PVE/aTum7souWD/At0SJ8fVgPw3Iuahxymc/MSNhhJWvcD/bTfBN02d3P2zb5nxnaoA/CD5h5MAGhz8NmeH1TyaQP+zrCsc9p5Y/LbKd76fGnz/bLW5ISEmmPww9YvTcQq8/JV2OstnstT8Er5Y7M8G+P0c+r3jqkcU/5h99k6ZBzj88bCIzFzjVP4enV8oyxN0//yH99nXg5D8qOpLLf0jtP5kqGJXUifQ/c9cS8kHP/D+/DpwzojQEQIEmwoanVwxA4lgXt9HgE0BSSZ2AJuIbQAMJih9jjiNA5q4l5INuK0AwTKYKRj0zQNv5fmq8/DpAaCJseHrtQkB/+zpwzoxKQM3MzMzMeFJAZmZmZmZqWEAAAAAAAFxeQM3MzMzMJmJAmpmZmZkfZUBmZmZmZhhoQDMzMzMzEWtAAAAAAAAKbkBmZmZmZoFwQM3MzMzM/XFAMzMzMzN6c0CamZmZmfZ0QAAAAAAAc3ZAZmZmZmbvd0DNzMzMzGt5QDMzMzMz6HpAmpmZmZlkfEAAAAAAAOF9QGZmZmZmXX9AZmZmZuZsgECamZmZGSuBQM3MzMxM6YFAAAAAAICngkAzMzMzs2WDQGZmZmbmI4RAmpmZmRnihEDNzMzMTKCFQAAAAACAXoZAMzMzM7Mch0BmZmZm5tqHQJqZmZkZmYhAzczMzExXiUAAAAAAgBWKQDMzMzOz04pAZmZmZuaRi0CamZmZGVCMQM3MzMxMDo1AAAAAAIDMjUAzMzMzs4qOQGZmZmbmSI9A\",\"dtype\":\"float64\",\"shape\":[75]}},\"selected\":{\"id\":\"d9bec40c-3105-46df-a3b5-bf6c50e1dec7\",\"type\":\"Selection\"},\"selection_policy\":{\"id\":\"ddbd6b96-20ba-4bf4-b836-4e86158cbe61\",\"type\":\"UnionRenderers\"}},\"id\":\"5cd0a700-11ca-49e1-91c4-ec070a0fbcb3\",\"type\":\"ColumnDataSource\"},{\"attributes\":{\"fill_alpha\":{\"value\":0.7},\"fill_color\":{\"value\":\"#4daf4a\"},\"line_alpha\":{\"value\":0.7},\"line_color\":{\"value\":\"#4daf4a\"},\"x\":{\"field\":\"x\"},\"y\":{\"field\":\"y\"}},\"id\":\"cddf6524-25da-4110-b058-c3ade33f6235\",\"type\":\"Circle\"},{\"attributes\":{\"source\":{\"id\":\"d364c321-beda-4690-bac2-261531ce9e91\",\"type\":\"ColumnDataSource\"}},\"id\":\"62965acb-82da-4d89-b3ef-aeb55d516b10\",\"type\":\"CDSView\"},{\"attributes\":{\"data_source\":{\"id\":\"a35a0003-734d-4b52-8a01-48b7d7295ab4\",\"type\":\"ColumnDataSource\"},\"glyph\":{\"id\":\"2de2b88e-c926-4b60-b093-ff956bde9464\",\"type\":\"Circle\"},\"hover_glyph\":null,\"muted_glyph\":null,\"nonselection_glyph\":{\"id\":\"5804c17b-ec62-4533-ab12-857bf9f66a91\",\"type\":\"Circle\"},\"selection_glyph\":null,\"view\":{\"id\":\"dcbd812e-f6fd-4576-8c77-190cf540e07d\",\"type\":\"CDSView\"}},\"id\":\"06140415-a6bc-4326-bd04-d1e652d19fe0\",\"type\":\"GlyphRenderer\"},{\"attributes\":{\"callback\":null,\"data\":{\"x\":{\"__ndarray__\":\"CA3w6Vksn7+IuN7bma6ev4ZXvJcOpJ2/unrudXSSnL+VNC68TH2bvzDNs1z2Z5q/MBgRwQdamb9tRdyRak6Yv+MptaQNSpe/A9uhVppRlr/uSQx0gG+Vv2k7G7MiqpS/tZc22VQPlL+0DXzG7lSTv5bhy4YtJI2/4HVoHuEwaL+OZOG8V2yJP6wV4pvq7J4/JO/7u2fyqT9bahAokwGzP5JE9/j5+bk/8W4b/LOVwD/MjFZszmzBP9l+3sb5qr4/zv1CgO0PuT/v5q7HcgKzP7C0A+MdNqw/DfvsaU8VpT/nzvN3VNSfP9avgR8f9Zc/TwBLS4FVkT+SF75r/DyGPzPtJgTCU3M/xWKDJdjoXr8Y7EabA32Hv0SJCJKGOZi/4P1HX24bob9WOhjkQKWiv2g7drW00aG/2Hjob80Tob/3w5AbzEagvz4wOdL2v56/bm9KiNixnL+snnkccmqav7ktZotx7Je/xi/5I4w6lb9JCxNmU1eSv06CkTifio6//olJdOELiL81OJjtDTWBv1xQ/dEgFnS/yEE9ABh9VL9ALMS4Ve9kP0cbnhrDrno/+M8lpEbEhT9mDO+SsYOOP+dhZnRHzJM/Xqwnr+CCmD/OFEIg+mKdP+ozI2DNMaE/85PAn0ewoz8wrNvT5wCmP8hrAmWD56c/sjA3JF1PqT+oYmCmuG2qP3xvSK10mqs/PhDL+XEarT8iY2dqDwSvP8ZxnrmgobA/ZqxK45bdsT9kJFAEPi2zP//mb4n2jbQ/+RFz1Mf/tT8Yx2y8gIa3P9rSxriyKbk/\",\"dtype\":\"float64\",\"shape\":[75]},\"y\":{\"__ndarray__\":\"GhExyth1ND/Sv8nbtpRIP2vylNV0PVE/aTum7souWD/At0SJ8fVgPw3Iuahxymc/MSNhhJWvcD/bTfBN02d3P2zb5nxnaoA/CD5h5MAGhz8NmeH1TyaQP+zrCsc9p5Y/LbKd76fGnz/bLW5ISEmmPww9YvTcQq8/JV2OstnstT8Er5Y7M8G+P0c+r3jqkcU/5h99k6ZBzj88bCIzFzjVP4enV8oyxN0//yH99nXg5D8qOpLLf0jtP5kqGJXUifQ/c9cS8kHP/D+/DpwzojQEQIEmwoanVwxA4lgXt9HgE0BSSZ2AJuIbQAMJih9jjiNA5q4l5INuK0AwTKYKRj0zQNv5fmq8/DpAaCJseHrtQkB/+zpwzoxKQM3MzMzMeFJAZmZmZmZqWEAAAAAAAFxeQM3MzMzMJmJAmpmZmZkfZUBmZmZmZhhoQDMzMzMzEWtAAAAAAAAKbkBmZmZmZoFwQM3MzMzM/XFAMzMzMzN6c0CamZmZmfZ0QAAAAAAAc3ZAZmZmZmbvd0DNzMzMzGt5QDMzMzMz6HpAmpmZmZlkfEAAAAAAAOF9QGZmZmZmXX9AZmZmZuZsgECamZmZGSuBQM3MzMxM6YFAAAAAAICngkAzMzMzs2WDQGZmZmbmI4RAmpmZmRnihEDNzMzMTKCFQAAAAACAXoZAMzMzM7Mch0BmZmZm5tqHQJqZmZkZmYhAzczMzExXiUAAAAAAgBWKQDMzMzOz04pAZmZmZuaRi0CamZmZGVCMQM3MzMxMDo1AAAAAAIDMjUAzMzMzs4qOQGZmZmbmSI9A\",\"dtype\":\"float64\",\"shape\":[75]}},\"selected\":{\"id\":\"e3786f24-1822-47c4-89bc-c28850570887\",\"type\":\"Selection\"},\"selection_policy\":{\"id\":\"6f634d91-632b-48bc-96bd-3b64eac5576f\",\"type\":\"UnionRenderers\"}},\"id\":\"4bbdd6ec-5c1f-474d-9d20-908a4c58b6b1\",\"type\":\"ColumnDataSource\"},{\"attributes\":{\"line_alpha\":0.6,\"line_color\":\"#e41a1c\",\"line_dash\":[6],\"line_width\":5,\"x\":{\"field\":\"x\"},\"y\":{\"field\":\"y\"}},\"id\":\"aa18cd7b-17f9-48fe-8b1a-232dc74f9795\",\"type\":\"Line\"},{\"attributes\":{\"active_drag\":\"auto\",\"active_inspect\":\"auto\",\"active_scroll\":\"auto\",\"active_tap\":\"auto\",\"tools\":[{\"id\":\"7049fb29-bf5d-4e72-a5ff-41e8e589b0c8\",\"type\":\"PanTool\"},{\"id\":\"993380ba-f564-4043-b5b2-04f02fc9d446\",\"type\":\"WheelZoomTool\"},{\"id\":\"e0063bc6-4308-4a7a-baa5-33172dd15bc3\",\"type\":\"BoxZoomTool\"},{\"id\":\"b345df51-af1f-4bfa-860c-8eccadbffba8\",\"type\":\"SaveTool\"},{\"id\":\"f64dc674-9981-4c68-b45e-7ea8f396e9c6\",\"type\":\"ResetTool\"},{\"id\":\"78f4a3a1-f8c4-4a7b-bce2-e680348b5904\",\"type\":\"HelpTool\"}]},\"id\":\"4a8ef1bd-322e-4d92-ac84-3c4c36f37fab\",\"type\":\"Toolbar\"},{\"attributes\":{\"plot\":null,\"text\":\"\"},\"id\":\"c822be83-20a2-4c29-824b-25f6120df636\",\"type\":\"Title\"},{\"attributes\":{\"fill_alpha\":{\"value\":0.7},\"fill_color\":{\"value\":\"#4daf4a\"},\"line_alpha\":{\"value\":0.7},\"line_color\":{\"value\":\"#4daf4a\"},\"x\":{\"field\":\"x\"},\"y\":{\"field\":\"y\"}},\"id\":\"8288472b-410c-4ee7-aa45-58e0064bf976\",\"type\":\"Circle\"},{\"attributes\":{\"line_alpha\":0.1,\"line_color\":\"#1f77b4\",\"line_width\":1.5,\"x\":{\"field\":\"x\"},\"y\":{\"field\":\"y\"}},\"id\":\"0e522064-475b-4b45-bd1f-40d2e378c883\",\"type\":\"Line\"},{\"attributes\":{\"data_source\":{\"id\":\"d7dbd156-003b-4318-9f85-2e447ca4d2f4\",\"type\":\"ColumnDataSource\"},\"glyph\":{\"id\":\"cddf6524-25da-4110-b058-c3ade33f6235\",\"type\":\"Circle\"},\"hover_glyph\":null,\"muted_glyph\":null,\"nonselection_glyph\":{\"id\":\"c1198517-70d8-4612-9808-b472fa2f1a70\",\"type\":\"Circle\"},\"selection_glyph\":null,\"view\":{\"id\":\"7d129b0c-bd8a-4082-acc5-2b5fb83436f2\",\"type\":\"CDSView\"}},\"id\":\"f2cb8632-914f-4d8e-b719-edce0488d461\",\"type\":\"GlyphRenderer\"},{\"attributes\":{\"data_source\":{\"id\":\"d894fd75-0d9a-4270-8cf9-3abe40524f55\",\"type\":\"ColumnDataSource\"},\"glyph\":{\"id\":\"6d0d3d5c-0097-4b89-982b-226fd10cbb73\",\"type\":\"Line\"},\"hover_glyph\":null,\"muted_glyph\":null,\"nonselection_glyph\":{\"id\":\"0e522064-475b-4b45-bd1f-40d2e378c883\",\"type\":\"Line\"},\"selection_glyph\":null,\"view\":{\"id\":\"dc122d93-3f18-4959-a3e2-ba15f54c414d\",\"type\":\"CDSView\"}},\"id\":\"2cb56e48-100e-4155-9d9e-daa102520bbc\",\"type\":\"GlyphRenderer\"},{\"attributes\":{},\"id\":\"86d71199-1454-45e4-ba51-ffda261b9522\",\"type\":\"SaveTool\"},{\"attributes\":{\"axis_label\":\"cooling rate [K/day]\",\"formatter\":{\"id\":\"be709668-5a56-4f3f-85e2-5700cf2ebf02\",\"type\":\"BasicTickFormatter\"},\"plot\":{\"id\":\"4671c77d-e0b2-4b4f-944b-b8a8bce1227b\",\"subtype\":\"Figure\",\"type\":\"Plot\"},\"ticker\":{\"id\":\"4708f652-68f5-41cb-9540-3c7b4ff94e6a\",\"type\":\"BasicTicker\"}},\"id\":\"eeeea97e-11c1-4bd9-9894-fefeffeb8935\",\"type\":\"LinearAxis\"},{\"attributes\":{\"source\":{\"id\":\"d894fd75-0d9a-4270-8cf9-3abe40524f55\",\"type\":\"ColumnDataSource\"}},\"id\":\"dc122d93-3f18-4959-a3e2-ba15f54c414d\",\"type\":\"CDSView\"},{\"attributes\":{\"source\":{\"id\":\"a35a0003-734d-4b52-8a01-48b7d7295ab4\",\"type\":\"ColumnDataSource\"}},\"id\":\"dcbd812e-f6fd-4576-8c77-190cf540e07d\",\"type\":\"CDSView\"},{\"attributes\":{\"above\":[{\"id\":\"f077bd1e-3ac0-427b-aae8-48bb3f6b3ea8\",\"type\":\"Legend\"}],\"below\":[{\"id\":\"eeeea97e-11c1-4bd9-9894-fefeffeb8935\",\"type\":\"LinearAxis\"}],\"left\":[{\"id\":\"81b8042d-330d-40d2-a29c-de2b6969a00a\",\"type\":\"LogAxis\"}],\"plot_width\":300,\"renderers\":[{\"id\":\"eeeea97e-11c1-4bd9-9894-fefeffeb8935\",\"type\":\"LinearAxis\"},{\"id\":\"83ded8c7-d9c0-43c4-9b35-bf76aca96031\",\"type\":\"Grid\"},{\"id\":\"81b8042d-330d-40d2-a29c-de2b6969a00a\",\"type\":\"LogAxis\"},{\"id\":\"40e9bc84-3058-4157-8a46-89f77c7579ed\",\"type\":\"Grid\"},{\"id\":\"3b1c8e0d-6ef2-4030-b88a-c24fb426c3f3\",\"type\":\"BoxAnnotation\"},{\"id\":\"ed142ac5-d563-498e-b035-49af8a2e53a3\",\"type\":\"GlyphRenderer\"},{\"id\":\"520b055e-f87c-4863-976e-7cd4a3b6e4f7\",\"type\":\"GlyphRenderer\"},{\"id\":\"2cb56e48-100e-4155-9d9e-daa102520bbc\",\"type\":\"GlyphRenderer\"},{\"id\":\"f077bd1e-3ac0-427b-aae8-48bb3f6b3ea8\",\"type\":\"Legend\"}],\"title\":{\"id\":\"c822be83-20a2-4c29-824b-25f6120df636\",\"type\":\"Title\"},\"toolbar\":{\"id\":\"4a8ef1bd-322e-4d92-ac84-3c4c36f37fab\",\"type\":\"Toolbar\"},\"toolbar_location\":null,\"x_range\":{\"id\":\"8100bff6-fbd0-4bf3-8c48-2d69a3b631d5\",\"type\":\"Range1d\"},\"x_scale\":{\"id\":\"6c74065a-4b33-475e-8b3f-cebf9e4b4742\",\"type\":\"LinearScale\"},\"y_range\":{\"id\":\"0855453e-f436-4f6c-9da6-f545cbd55f77\",\"type\":\"Range1d\"},\"y_scale\":{\"id\":\"c773ae23-2895-40d6-b880-550a7aaf9525\",\"type\":\"LogScale\"}},\"id\":\"4671c77d-e0b2-4b4f-944b-b8a8bce1227b\",\"subtype\":\"Figure\",\"type\":\"Plot\"},{\"attributes\":{\"above\":[{\"id\":\"f90066b7-af76-4a51-8fc6-ba46ebf16fbd\",\"type\":\"Legend\"}],\"below\":[{\"id\":\"667ecc80-ea68-4d7c-91ae-3b5c9ecc08e1\",\"type\":\"LinearAxis\"}],\"left\":[{\"id\":\"04bf69e0-e11a-4729-a527-7025874fa65c\",\"type\":\"LogAxis\"}],\"plot_width\":300,\"renderers\":[{\"id\":\"667ecc80-ea68-4d7c-91ae-3b5c9ecc08e1\",\"type\":\"LinearAxis\"},{\"id\":\"36491066-7a3c-4185-a3e5-9ad969215c90\",\"type\":\"Grid\"},{\"id\":\"04bf69e0-e11a-4729-a527-7025874fa65c\",\"type\":\"LogAxis\"},{\"id\":\"480c55ff-10d8-498f-bcf6-3842a97263e6\",\"type\":\"Grid\"},{\"id\":\"dd640a23-1988-404a-9c49-01efab76737d\",\"type\":\"BoxAnnotation\"},{\"id\":\"06140415-a6bc-4326-bd04-d1e652d19fe0\",\"type\":\"GlyphRenderer\"},{\"id\":\"0a60c257-5a8a-4e43-ac35-2dad4000bfad\",\"type\":\"GlyphRenderer\"},{\"id\":\"f90066b7-af76-4a51-8fc6-ba46ebf16fbd\",\"type\":\"Legend\"}],\"title\":{\"id\":\"4db94827-426d-4ac3-9aba-55c71f37f069\",\"type\":\"Title\"},\"toolbar\":{\"id\":\"751a949f-b0a0-4f37-9c67-eced875b2e22\",\"type\":\"Toolbar\"},\"toolbar_location\":null,\"x_range\":{\"id\":\"10fdd14c-26c0-494b-82f3-6ba9ee28e127\",\"type\":\"Range1d\"},\"x_scale\":{\"id\":\"142b212c-13a5-4ff1-8bc6-67d59d6bb7af\",\"type\":\"LinearScale\"},\"y_range\":{\"id\":\"cd19d592-1be4-44f2-aacb-73d3e233fd64\",\"type\":\"Range1d\"},\"y_scale\":{\"id\":\"b4e64d92-2de0-48ed-a70c-4776b742870f\",\"type\":\"LogScale\"}},\"id\":\"a1f577b5-2492-48b8-b911-27eca9a9517a\",\"subtype\":\"Figure\",\"type\":\"Plot\"},{\"attributes\":{},\"id\":\"e3786f24-1822-47c4-89bc-c28850570887\",\"type\":\"Selection\"},{\"attributes\":{\"active_drag\":\"auto\",\"active_inspect\":\"auto\",\"active_scroll\":\"auto\",\"active_tap\":\"auto\",\"tools\":[{\"id\":\"9129e1bd-7a98-458b-b7ee-63df7f1122ff\",\"type\":\"PanTool\"},{\"id\":\"9ee63512-ad1f-4740-8e64-4d8eccc08833\",\"type\":\"WheelZoomTool\"},{\"id\":\"7d81561b-3f05-45e2-a1ae-348c999b3467\",\"type\":\"BoxZoomTool\"},{\"id\":\"992d8b31-3e6d-4077-8a66-cb706d31540a\",\"type\":\"SaveTool\"},{\"id\":\"dc51480b-940e-4b7c-89f7-f69b3eacdb38\",\"type\":\"ResetTool\"},{\"id\":\"b5ccb846-6807-4ef4-b520-074911220deb\",\"type\":\"HelpTool\"}]},\"id\":\"751a949f-b0a0-4f37-9c67-eced875b2e22\",\"type\":\"Toolbar\"},{\"attributes\":{\"plot\":null,\"text\":\"\"},\"id\":\"4db94827-426d-4ac3-9aba-55c71f37f069\",\"type\":\"Title\"},{\"attributes\":{\"num_minor_ticks\":10},\"id\":\"468f93cc-4b3b-496c-85ce-f2f7e6359d3f\",\"type\":\"LogTicker\"},{\"attributes\":{\"ticker\":null},\"id\":\"94d5ebfb-c2c6-4d79-b616-661eebe20837\",\"type\":\"LogTickFormatter\"},{\"attributes\":{\"toolbar\":{\"id\":\"a05d2b45-427c-411b-8377-778dc4fc22e6\",\"type\":\"ProxyToolbar\"},\"toolbar_location\":\"above\"},\"id\":\"1d5f3312-4c00-4f91-83f7-419d299a39b2\",\"type\":\"ToolbarBox\"},{\"attributes\":{\"callback\":null,\"end\":0.01,\"start\":1020},\"id\":\"0855453e-f436-4f6c-9da6-f545cbd55f77\",\"type\":\"Range1d\"},{\"attributes\":{\"data_source\":{\"id\":\"6bd3f750-6959-43fe-9a4b-457f0783a928\",\"type\":\"ColumnDataSource\"},\"glyph\":{\"id\":\"988a3283-84d4-4960-9ed4-e37243c60b68\",\"type\":\"Line\"},\"hover_glyph\":null,\"muted_glyph\":null,\"nonselection_glyph\":{\"id\":\"5535dfcc-4dca-472b-acce-14f09dbe70dc\",\"type\":\"Line\"},\"selection_glyph\":null,\"view\":{\"id\":\"c42cbec5-8c07-4dfb-9b8f-3cf873104311\",\"type\":\"CDSView\"}},\"id\":\"0a60c257-5a8a-4e43-ac35-2dad4000bfad\",\"type\":\"GlyphRenderer\"},{\"attributes\":{},\"id\":\"580806b3-a3d1-44d7-ac5d-fb20174cc5ee\",\"type\":\"Selection\"},{\"attributes\":{},\"id\":\"64059433-fffc-487e-94ec-7badac319b76\",\"type\":\"BasicTickFormatter\"},{\"attributes\":{},\"id\":\"76a0ddd4-8262-46ff-b561-955a1695c89d\",\"type\":\"LinearScale\"},{\"attributes\":{\"source\":{\"id\":\"4bbdd6ec-5c1f-474d-9d20-908a4c58b6b1\",\"type\":\"ColumnDataSource\"}},\"id\":\"2e48e2fa-62ae-42d2-bab5-507cb3300f98\",\"type\":\"CDSView\"}],\"root_ids\":[\"6487b106-e45a-4ec5-a777-92e91c65b721\"]},\"title\":\"Bokeh Application\",\"version\":\"0.12.16\"}};\n",
       "  var render_items = [{\"docid\":\"7d6ae807-39fc-4a2a-9651-fff7588f5209\",\"elementid\":\"a7389f9b-2a2a-44f5-a0b8-5bcbba3955f8\",\"modelid\":\"6487b106-e45a-4ec5-a777-92e91c65b721\"}];\n",
       "  root.Bokeh.embed.embed_items_notebook(docs_json, render_items);\n",
       "\n",
       "  }\n",
       "  if (root.Bokeh !== undefined) {\n",
       "    embed_document(root);\n",
       "  } else {\n",
       "    var attempts = 0;\n",
       "    var timer = setInterval(function(root) {\n",
       "      if (root.Bokeh !== undefined) {\n",
       "        embed_document(root);\n",
       "        clearInterval(timer);\n",
       "      }\n",
       "      attempts++;\n",
       "      if (attempts > 100) {\n",
       "        console.log(\"Bokeh: ERROR: Unable to run BokehJS code because BokehJS library is missing\")\n",
       "        clearInterval(timer);\n",
       "      }\n",
       "    }, 10, root)\n",
       "  }\n",
       "})(window);"
      ],
      "application/vnd.bokehjs_exec.v0+json": ""
     },
     "metadata": {
      "application/vnd.bokehjs_exec.v0+json": {
       "id": "6487b106-e45a-4ec5-a777-92e91c65b721"
      }
     },
     "output_type": "display_data"
    },
    {
     "data": {
      "text/markdown": [
       "*FIGURE.* Cooling rates & difference."
      ],
      "text/plain": [
       "<IPython.core.display.Markdown object>"
      ]
     },
     "metadata": {},
     "output_type": "display_data"
    },
    {
     "data": {
      "text/html": [
       "<a id=\"Fluxes._trp.\"></a>"
      ],
      "text/plain": [
       "<IPython.core.display.HTML object>"
      ]
     },
     "metadata": {},
     "output_type": "display_data"
    },
    {
     "data": {
      "text/markdown": [
       "# Fluxes. trp."
      ],
      "text/plain": [
       "<IPython.core.display.Markdown object>"
      ]
     },
     "metadata": {},
     "output_type": "display_data"
    },
    {
     "data": {
      "text/html": [
       "\n",
       "<div class=\"bk-root\">\n",
       "    <div class=\"bk-plotdiv\" id=\"4aa3599b-6ed9-4833-b2f0-4dee8386a390\"></div>\n",
       "</div>"
      ]
     },
     "metadata": {},
     "output_type": "display_data"
    },
    {
     "data": {
      "application/javascript": [
       "(function(root) {\n",
       "  function embed_document(root) {\n",
       "    \n",
       "  var docs_json = {\"87011c6e-1a84-43b9-a855-8df961087c65\":{\"roots\":{\"references\":[{\"attributes\":{\"fill_alpha\":{\"value\":0.1},\"fill_color\":{\"value\":\"#1f77b4\"},\"line_alpha\":{\"value\":0.1},\"line_color\":{\"value\":\"#1f77b4\"},\"top\":{\"field\":\"flux\"},\"width\":{\"value\":0.9},\"x\":{\"field\":\"band\"}},\"id\":\"b4b012c5-af11-4bc8-a085-8b5f0f15208f\",\"type\":\"VBar\"},{\"attributes\":{},\"id\":\"cf898cb2-49ca-4201-81b9-0d95f76f18b7\",\"type\":\"BasicTicker\"},{\"attributes\":{},\"id\":\"803ae205-88f3-403f-afd6-c9f2c51a79ff\",\"type\":\"CategoricalScale\"},{\"attributes\":{\"fill_alpha\":{\"value\":0.1},\"fill_color\":{\"value\":\"#1f77b4\"},\"line_alpha\":{\"value\":0.1},\"line_color\":{\"value\":\"#1f77b4\"},\"top\":{\"field\":\"flux\"},\"width\":{\"value\":0.9},\"x\":{\"field\":\"band\"}},\"id\":\"8cab2444-d695-44e3-8df7-6354794f2b20\",\"type\":\"VBar\"},{\"attributes\":{},\"id\":\"9fa9656a-f57c-403e-b0bb-920be3bdaec7\",\"type\":\"CategoricalTicker\"},{\"attributes\":{\"axis_label\":\"spectral band\",\"formatter\":{\"id\":\"ce59a7fc-7fca-439c-a8d0-2f526593c884\",\"type\":\"CategoricalTickFormatter\"},\"plot\":{\"id\":\"ea00fb2f-d4e4-4634-9342-6822e2211f7d\",\"subtype\":\"Figure\",\"type\":\"Plot\"},\"ticker\":{\"id\":\"9fa9656a-f57c-403e-b0bb-920be3bdaec7\",\"type\":\"CategoricalTicker\"}},\"id\":\"a3623af7-5d0e-4e08-8f4c-9f7da539c37f\",\"type\":\"CategoricalAxis\"},{\"attributes\":{\"callback\":null},\"id\":\"968babad-bce6-42d9-aca9-fa7c01e3c483\",\"type\":\"DataRange1d\"},{\"attributes\":{},\"id\":\"2d360806-0447-44d2-bf69-9c0e737406ef\",\"type\":\"CategoricalTicker\"},{\"attributes\":{\"callback\":null,\"factors\":[\"3\",\"9\"]},\"id\":\"8bfae42a-800d-44cb-a245-24783f401788\",\"type\":\"FactorRange\"},{\"attributes\":{},\"id\":\"9ebd3fc1-cb19-4fd0-b1be-4a0df8c2d4e9\",\"type\":\"CategoricalScale\"},{\"attributes\":{},\"id\":\"a619df5a-7f9c-40da-a16e-d31c7ca8e586\",\"type\":\"LinearScale\"},{\"attributes\":{},\"id\":\"75554963-e71d-4386-8d8a-2d2352345f04\",\"type\":\"SaveTool\"},{\"attributes\":{\"axis_label\":\"spectral band\",\"formatter\":{\"id\":\"241bda91-801d-451a-9061-f244c0fc7d3a\",\"type\":\"CategoricalTickFormatter\"},\"plot\":{\"id\":\"f925d2f4-fc60-4c90-84b7-5caa65241d77\",\"subtype\":\"Figure\",\"type\":\"Plot\"},\"ticker\":{\"id\":\"2d360806-0447-44d2-bf69-9c0e737406ef\",\"type\":\"CategoricalTicker\"}},\"id\":\"ad4c9bc7-08be-4cde-8d87-8370f769c8d1\",\"type\":\"CategoricalAxis\"},{\"attributes\":{\"callback\":null,\"factors\":[\"3\",\"9\"]},\"id\":\"fbf58376-6861-4a10-979d-bbf416a959c7\",\"type\":\"FactorRange\"},{\"attributes\":{},\"id\":\"241bda91-801d-451a-9061-f244c0fc7d3a\",\"type\":\"CategoricalTickFormatter\"},{\"attributes\":{\"children\":[{\"id\":\"910f7d69-419a-4898-afd2-50c5b1c50fcf\",\"type\":\"Row\"}]},\"id\":\"53bd718f-7d01-4543-8c04-d75a422afd73\",\"type\":\"Column\"},{\"attributes\":{\"axis_label\":\"flux (W m-2)\",\"formatter\":{\"id\":\"89a80819-3805-400d-9699-67374b2b2030\",\"type\":\"BasicTickFormatter\"},\"plot\":{\"id\":\"f925d2f4-fc60-4c90-84b7-5caa65241d77\",\"subtype\":\"Figure\",\"type\":\"Plot\"},\"ticker\":{\"id\":\"d554618f-13f5-4651-8840-52d8ff818b06\",\"type\":\"BasicTicker\"}},\"id\":\"247e7488-fa4f-4225-93a2-514801d64a3f\",\"type\":\"LinearAxis\"},{\"attributes\":{\"axis_label\":\"flux (W m-2)\",\"formatter\":{\"id\":\"642e67aa-73d0-4b9e-9a86-2595ddf491d8\",\"type\":\"BasicTickFormatter\"},\"plot\":{\"id\":\"ea00fb2f-d4e4-4634-9342-6822e2211f7d\",\"subtype\":\"Figure\",\"type\":\"Plot\"},\"ticker\":{\"id\":\"cf898cb2-49ca-4201-81b9-0d95f76f18b7\",\"type\":\"BasicTicker\"}},\"id\":\"e1d79283-8728-4536-bed1-a0512ef9c349\",\"type\":\"LinearAxis\"},{\"attributes\":{},\"id\":\"787d27e5-c417-4bf7-b149-64d50dc7e2b7\",\"type\":\"PanTool\"},{\"attributes\":{},\"id\":\"b6a23c0e-7ccb-49d0-9c4f-657cab4d4758\",\"type\":\"UnionRenderers\"},{\"attributes\":{\"data_source\":{\"id\":\"afed6567-d9e0-4d6e-84af-874ed74ee7b9\",\"type\":\"ColumnDataSource\"},\"glyph\":{\"id\":\"97bee437-a3f1-4374-aae4-7eab984ab336\",\"type\":\"VBar\"},\"hover_glyph\":null,\"muted_glyph\":null,\"nonselection_glyph\":{\"id\":\"b4b012c5-af11-4bc8-a085-8b5f0f15208f\",\"type\":\"VBar\"},\"selection_glyph\":null,\"view\":{\"id\":\"d5009ace-c5ca-402e-900b-e9ec05d19c4f\",\"type\":\"CDSView\"}},\"id\":\"3330e2c7-cb06-48e1-90da-5aacf38b51f1\",\"type\":\"GlyphRenderer\"},{\"attributes\":{\"children\":[{\"id\":\"eed5d116-6156-4e6c-ae3f-e67b565f52bf\",\"type\":\"ToolbarBox\"},{\"id\":\"53bd718f-7d01-4543-8c04-d75a422afd73\",\"type\":\"Column\"}]},\"id\":\"69adf683-daa9-4232-98e2-c452f9656383\",\"type\":\"Column\"},{\"attributes\":{\"bottom_units\":\"screen\",\"fill_alpha\":{\"value\":0.5},\"fill_color\":{\"value\":\"lightgrey\"},\"left_units\":\"screen\",\"level\":\"overlay\",\"line_alpha\":{\"value\":1.0},\"line_color\":{\"value\":\"black\"},\"line_dash\":[4,4],\"line_width\":{\"value\":2},\"plot\":null,\"render_mode\":\"css\",\"right_units\":\"screen\",\"top_units\":\"screen\"},\"id\":\"0fd2782b-1066-4bf6-ac24-eab4a72b1ad8\",\"type\":\"BoxAnnotation\"},{\"attributes\":{\"active_drag\":\"auto\",\"active_inspect\":\"auto\",\"active_scroll\":\"auto\",\"active_tap\":\"auto\",\"tools\":[{\"id\":\"787d27e5-c417-4bf7-b149-64d50dc7e2b7\",\"type\":\"PanTool\"},{\"id\":\"5c73f164-3ec8-4e3f-85dd-ad141ab2017b\",\"type\":\"WheelZoomTool\"},{\"id\":\"b12c5fb3-f703-460e-a423-695608d76b0e\",\"type\":\"BoxZoomTool\"},{\"id\":\"75554963-e71d-4386-8d8a-2d2352345f04\",\"type\":\"SaveTool\"},{\"id\":\"7c812cfc-e357-4e11-bfab-66d1da6b9137\",\"type\":\"ResetTool\"},{\"id\":\"a556e2e1-8512-454a-8053-68d52c617d4f\",\"type\":\"HelpTool\"}]},\"id\":\"b60df647-b0a5-4742-ba69-6b655ba2b973\",\"type\":\"Toolbar\"},{\"attributes\":{\"callback\":null},\"id\":\"b8cf81cb-076a-4d17-b929-3a061c2fbce5\",\"type\":\"DataRange1d\"},{\"attributes\":{\"dimension\":1,\"plot\":{\"id\":\"ea00fb2f-d4e4-4634-9342-6822e2211f7d\",\"subtype\":\"Figure\",\"type\":\"Plot\"},\"ticker\":{\"id\":\"cf898cb2-49ca-4201-81b9-0d95f76f18b7\",\"type\":\"BasicTicker\"}},\"id\":\"6739e48b-74db-4828-b333-46187d5a4b40\",\"type\":\"Grid\"},{\"attributes\":{\"plot\":{\"id\":\"ea00fb2f-d4e4-4634-9342-6822e2211f7d\",\"subtype\":\"Figure\",\"type\":\"Plot\"},\"ticker\":{\"id\":\"9fa9656a-f57c-403e-b0bb-920be3bdaec7\",\"type\":\"CategoricalTicker\"}},\"id\":\"5afd3a46-137f-4ed8-bc9f-a909cd2d2ca0\",\"type\":\"Grid\"},{\"attributes\":{},\"id\":\"65a11751-03b8-43e7-b850-864a7f1d5651\",\"type\":\"BasicTicker\"},{\"attributes\":{\"fill_color\":{\"value\":\"#1f77b4\"},\"line_color\":{\"value\":\"#1f77b4\"},\"top\":{\"field\":\"flux\"},\"width\":{\"value\":0.9},\"x\":{\"field\":\"band\"}},\"id\":\"3682028b-317d-4230-994b-ff958bc8f732\",\"type\":\"VBar\"},{\"attributes\":{},\"id\":\"2d50c4c3-0970-426d-b54f-27acdabdb138\",\"type\":\"Selection\"},{\"attributes\":{},\"id\":\"b2aa9c61-c10b-4a0e-9188-a3623acdf9de\",\"type\":\"WheelZoomTool\"},{\"attributes\":{},\"id\":\"b8bb3602-0180-46a0-9444-65c8c456a013\",\"type\":\"PanTool\"},{\"attributes\":{\"callback\":null,\"data\":{\"band\":[\"3\",\"9\"],\"flux\":{\"__ndarray__\":\"ANhRnKOOpr8AByY3iqzRPw==\",\"dtype\":\"float64\",\"shape\":[2]}},\"selected\":{\"id\":\"0e5e67c2-050a-4917-8f0e-d4f50413c57b\",\"type\":\"Selection\"},\"selection_policy\":{\"id\":\"f4fe3e58-5f62-4b38-b6d2-c34525175f65\",\"type\":\"UnionRenderers\"}},\"id\":\"0f5a3f3c-e366-4d3d-a475-1975decccf39\",\"type\":\"ColumnDataSource\"},{\"attributes\":{\"plot\":{\"id\":\"6d0caae0-51d6-45d5-b8f3-22d34257f189\",\"subtype\":\"Figure\",\"type\":\"Plot\"},\"ticker\":{\"id\":\"ed040432-0335-48be-8725-ff0129564e14\",\"type\":\"CategoricalTicker\"}},\"id\":\"77916581-b37d-419a-929d-8fd1622135f1\",\"type\":\"Grid\"},{\"attributes\":{\"data_source\":{\"id\":\"0f5a3f3c-e366-4d3d-a475-1975decccf39\",\"type\":\"ColumnDataSource\"},\"glyph\":{\"id\":\"3682028b-317d-4230-994b-ff958bc8f732\",\"type\":\"VBar\"},\"hover_glyph\":null,\"muted_glyph\":null,\"nonselection_glyph\":{\"id\":\"8cab2444-d695-44e3-8df7-6354794f2b20\",\"type\":\"VBar\"},\"selection_glyph\":null,\"view\":{\"id\":\"808105c9-22a5-40b8-9573-ed09b3a44a3b\",\"type\":\"CDSView\"}},\"id\":\"c3baaf96-d419-4832-8278-e3152ed95163\",\"type\":\"GlyphRenderer\"},{\"attributes\":{},\"id\":\"3df7abca-b394-43e1-b6f4-93848af49cdc\",\"type\":\"LinearScale\"},{\"attributes\":{\"bottom_units\":\"screen\",\"fill_alpha\":{\"value\":0.5},\"fill_color\":{\"value\":\"lightgrey\"},\"left_units\":\"screen\",\"level\":\"overlay\",\"line_alpha\":{\"value\":1.0},\"line_color\":{\"value\":\"black\"},\"line_dash\":[4,4],\"line_width\":{\"value\":2},\"plot\":null,\"render_mode\":\"css\",\"right_units\":\"screen\",\"top_units\":\"screen\"},\"id\":\"06e11c1e-4e47-4ebc-ab3f-18fec037af3f\",\"type\":\"BoxAnnotation\"},{\"attributes\":{\"callback\":null},\"id\":\"e61fd93b-3479-4200-975c-da0682071d5a\",\"type\":\"DataRange1d\"},{\"attributes\":{\"plot\":null,\"text\":\"SFC flux. CLIRAD - CRD.\"},\"id\":\"e2ccf8e0-558b-4404-b986-313feddb048a\",\"type\":\"Title\"},{\"attributes\":{\"source\":{\"id\":\"afed6567-d9e0-4d6e-84af-874ed74ee7b9\",\"type\":\"ColumnDataSource\"}},\"id\":\"d5009ace-c5ca-402e-900b-e9ec05d19c4f\",\"type\":\"CDSView\"},{\"attributes\":{},\"id\":\"c93068b4-215a-4e87-9094-6b9460cfe45a\",\"type\":\"CategoricalScale\"},{\"attributes\":{\"overlay\":{\"id\":\"06e11c1e-4e47-4ebc-ab3f-18fec037af3f\",\"type\":\"BoxAnnotation\"}},\"id\":\"6353a307-76d7-4d11-90e8-cf844f6ab15f\",\"type\":\"BoxZoomTool\"},{\"attributes\":{},\"id\":\"44969039-8f3e-4120-a701-4aebce234826\",\"type\":\"SaveTool\"},{\"attributes\":{\"dimension\":1,\"plot\":{\"id\":\"f925d2f4-fc60-4c90-84b7-5caa65241d77\",\"subtype\":\"Figure\",\"type\":\"Plot\"},\"ticker\":{\"id\":\"d554618f-13f5-4651-8840-52d8ff818b06\",\"type\":\"BasicTicker\"}},\"id\":\"4fc93557-a6c4-46c1-b5c0-7a78c5fdbfb8\",\"type\":\"Grid\"},{\"attributes\":{\"overlay\":{\"id\":\"0fd2782b-1066-4bf6-ac24-eab4a72b1ad8\",\"type\":\"BoxAnnotation\"}},\"id\":\"b12c5fb3-f703-460e-a423-695608d76b0e\",\"type\":\"BoxZoomTool\"},{\"attributes\":{},\"id\":\"58280a60-1de4-487f-a96f-c76a81824014\",\"type\":\"ResetTool\"},{\"attributes\":{},\"id\":\"84f42e26-4dcb-4940-aa1f-294f8bf35437\",\"type\":\"HelpTool\"},{\"attributes\":{\"axis_label\":\"spectral band\",\"formatter\":{\"id\":\"ad5217ee-1c17-4462-9788-5fb31cb30cb9\",\"type\":\"CategoricalTickFormatter\"},\"plot\":{\"id\":\"6d0caae0-51d6-45d5-b8f3-22d34257f189\",\"subtype\":\"Figure\",\"type\":\"Plot\"},\"ticker\":{\"id\":\"ed040432-0335-48be-8725-ff0129564e14\",\"type\":\"CategoricalTicker\"}},\"id\":\"6ef16410-20ee-47d2-a2aa-eb6567afb7e7\",\"type\":\"CategoricalAxis\"},{\"attributes\":{\"tools\":[{\"id\":\"4e18b5df-606c-404f-ba90-21820475db2d\",\"type\":\"PanTool\"},{\"id\":\"1ef44ff0-c49b-434b-ac22-163d9056bfc8\",\"type\":\"WheelZoomTool\"},{\"id\":\"c8b66c61-59df-44b1-b184-0d5c73ce3da1\",\"type\":\"BoxZoomTool\"},{\"id\":\"48a4384e-6c6d-4d4d-b030-749be6023189\",\"type\":\"SaveTool\"},{\"id\":\"c0f91eb3-a388-47e6-98d7-3d74b380e12e\",\"type\":\"ResetTool\"},{\"id\":\"26681977-3054-427e-a580-32eb55fa1c2b\",\"type\":\"HelpTool\"},{\"id\":\"787d27e5-c417-4bf7-b149-64d50dc7e2b7\",\"type\":\"PanTool\"},{\"id\":\"5c73f164-3ec8-4e3f-85dd-ad141ab2017b\",\"type\":\"WheelZoomTool\"},{\"id\":\"b12c5fb3-f703-460e-a423-695608d76b0e\",\"type\":\"BoxZoomTool\"},{\"id\":\"75554963-e71d-4386-8d8a-2d2352345f04\",\"type\":\"SaveTool\"},{\"id\":\"7c812cfc-e357-4e11-bfab-66d1da6b9137\",\"type\":\"ResetTool\"},{\"id\":\"a556e2e1-8512-454a-8053-68d52c617d4f\",\"type\":\"HelpTool\"},{\"id\":\"b8bb3602-0180-46a0-9444-65c8c456a013\",\"type\":\"PanTool\"},{\"id\":\"b2aa9c61-c10b-4a0e-9188-a3623acdf9de\",\"type\":\"WheelZoomTool\"},{\"id\":\"6353a307-76d7-4d11-90e8-cf844f6ab15f\",\"type\":\"BoxZoomTool\"},{\"id\":\"44969039-8f3e-4120-a701-4aebce234826\",\"type\":\"SaveTool\"},{\"id\":\"58280a60-1de4-487f-a96f-c76a81824014\",\"type\":\"ResetTool\"},{\"id\":\"84f42e26-4dcb-4940-aa1f-294f8bf35437\",\"type\":\"HelpTool\"}]},\"id\":\"26e496df-6921-4c74-945a-ef586c312f77\",\"type\":\"ProxyToolbar\"},{\"attributes\":{\"source\":{\"id\":\"0f5a3f3c-e366-4d3d-a475-1975decccf39\",\"type\":\"ColumnDataSource\"}},\"id\":\"808105c9-22a5-40b8-9573-ed09b3a44a3b\",\"type\":\"CDSView\"},{\"attributes\":{\"fill_color\":{\"value\":\"#1f77b4\"},\"line_color\":{\"value\":\"#1f77b4\"},\"top\":{\"field\":\"flux\"},\"width\":{\"value\":0.9},\"x\":{\"field\":\"band\"}},\"id\":\"97bee437-a3f1-4374-aae4-7eab984ab336\",\"type\":\"VBar\"},{\"attributes\":{},\"id\":\"5da9052b-fbc5-4021-bd3c-d65f7802e13e\",\"type\":\"Selection\"},{\"attributes\":{\"active_drag\":\"auto\",\"active_inspect\":\"auto\",\"active_scroll\":\"auto\",\"active_tap\":\"auto\",\"tools\":[{\"id\":\"4e18b5df-606c-404f-ba90-21820475db2d\",\"type\":\"PanTool\"},{\"id\":\"1ef44ff0-c49b-434b-ac22-163d9056bfc8\",\"type\":\"WheelZoomTool\"},{\"id\":\"c8b66c61-59df-44b1-b184-0d5c73ce3da1\",\"type\":\"BoxZoomTool\"},{\"id\":\"48a4384e-6c6d-4d4d-b030-749be6023189\",\"type\":\"SaveTool\"},{\"id\":\"c0f91eb3-a388-47e6-98d7-3d74b380e12e\",\"type\":\"ResetTool\"},{\"id\":\"26681977-3054-427e-a580-32eb55fa1c2b\",\"type\":\"HelpTool\"}]},\"id\":\"c2621c09-9624-437c-a33b-ecc0ecfd44d7\",\"type\":\"Toolbar\"},{\"attributes\":{\"toolbar\":{\"id\":\"26e496df-6921-4c74-945a-ef586c312f77\",\"type\":\"ProxyToolbar\"},\"toolbar_location\":\"above\"},\"id\":\"eed5d116-6156-4e6c-ae3f-e67b565f52bf\",\"type\":\"ToolbarBox\"},{\"attributes\":{\"callback\":null,\"factors\":[\"3\",\"9\"]},\"id\":\"23eaaa31-d2a6-4731-bafa-9f3b658b1e8b\",\"type\":\"FactorRange\"},{\"attributes\":{},\"id\":\"5c73f164-3ec8-4e3f-85dd-ad141ab2017b\",\"type\":\"WheelZoomTool\"},{\"attributes\":{\"below\":[{\"id\":\"a3623af7-5d0e-4e08-8f4c-9f7da539c37f\",\"type\":\"CategoricalAxis\"}],\"left\":[{\"id\":\"e1d79283-8728-4536-bed1-a0512ef9c349\",\"type\":\"LinearAxis\"}],\"plot_height\":300,\"plot_width\":300,\"renderers\":[{\"id\":\"a3623af7-5d0e-4e08-8f4c-9f7da539c37f\",\"type\":\"CategoricalAxis\"},{\"id\":\"5afd3a46-137f-4ed8-bc9f-a909cd2d2ca0\",\"type\":\"Grid\"},{\"id\":\"e1d79283-8728-4536-bed1-a0512ef9c349\",\"type\":\"LinearAxis\"},{\"id\":\"6739e48b-74db-4828-b333-46187d5a4b40\",\"type\":\"Grid\"},{\"id\":\"06e11c1e-4e47-4ebc-ab3f-18fec037af3f\",\"type\":\"BoxAnnotation\"},{\"id\":\"c3baaf96-d419-4832-8278-e3152ed95163\",\"type\":\"GlyphRenderer\"}],\"title\":{\"id\":\"31e88376-acee-4aa9-a51c-508842ce5f34\",\"type\":\"Title\"},\"toolbar\":{\"id\":\"ed2f7ca4-e34b-4b3d-9981-6adbe1ab2288\",\"type\":\"Toolbar\"},\"toolbar_location\":null,\"x_range\":{\"id\":\"fbf58376-6861-4a10-979d-bbf416a959c7\",\"type\":\"FactorRange\"},\"x_scale\":{\"id\":\"9ebd3fc1-cb19-4fd0-b1be-4a0df8c2d4e9\",\"type\":\"CategoricalScale\"},\"y_range\":{\"id\":\"968babad-bce6-42d9-aca9-fa7c01e3c483\",\"type\":\"DataRange1d\"},\"y_scale\":{\"id\":\"a619df5a-7f9c-40da-a16e-d31c7ca8e586\",\"type\":\"LinearScale\"}},\"id\":\"ea00fb2f-d4e4-4634-9342-6822e2211f7d\",\"subtype\":\"Figure\",\"type\":\"Plot\"},{\"attributes\":{\"plot\":null,\"text\":\"TOA flux. CLIRAD - CRD.\"},\"id\":\"663a11e8-214d-4f1e-ba86-4196538e628d\",\"type\":\"Title\"},{\"attributes\":{\"below\":[{\"id\":\"6ef16410-20ee-47d2-a2aa-eb6567afb7e7\",\"type\":\"CategoricalAxis\"}],\"left\":[{\"id\":\"6beed11b-f3d2-406a-8b1d-a19e43d118f8\",\"type\":\"LinearAxis\"}],\"plot_height\":300,\"plot_width\":300,\"renderers\":[{\"id\":\"6ef16410-20ee-47d2-a2aa-eb6567afb7e7\",\"type\":\"CategoricalAxis\"},{\"id\":\"77916581-b37d-419a-929d-8fd1622135f1\",\"type\":\"Grid\"},{\"id\":\"6beed11b-f3d2-406a-8b1d-a19e43d118f8\",\"type\":\"LinearAxis\"},{\"id\":\"265c9bab-ccc3-4d7f-95c1-1265daaafe92\",\"type\":\"Grid\"},{\"id\":\"906accaa-b679-44bf-9eef-6c1ade2d1295\",\"type\":\"BoxAnnotation\"},{\"id\":\"403c8b4c-644f-4466-b666-ff39f69de931\",\"type\":\"GlyphRenderer\"}],\"title\":{\"id\":\"663a11e8-214d-4f1e-ba86-4196538e628d\",\"type\":\"Title\"},\"toolbar\":{\"id\":\"c2621c09-9624-437c-a33b-ecc0ecfd44d7\",\"type\":\"Toolbar\"},\"toolbar_location\":null,\"x_range\":{\"id\":\"23eaaa31-d2a6-4731-bafa-9f3b658b1e8b\",\"type\":\"FactorRange\"},\"x_scale\":{\"id\":\"c93068b4-215a-4e87-9094-6b9460cfe45a\",\"type\":\"CategoricalScale\"},\"y_range\":{\"id\":\"e61fd93b-3479-4200-975c-da0682071d5a\",\"type\":\"DataRange1d\"},\"y_scale\":{\"id\":\"3df7abca-b394-43e1-b6f4-93848af49cdc\",\"type\":\"LinearScale\"}},\"id\":\"6d0caae0-51d6-45d5-b8f3-22d34257f189\",\"subtype\":\"Figure\",\"type\":\"Plot\"},{\"attributes\":{\"fill_color\":{\"value\":\"#1f77b4\"},\"line_color\":{\"value\":\"#1f77b4\"},\"top\":{\"field\":\"flux\"},\"width\":{\"value\":0.9},\"x\":{\"field\":\"band\"}},\"id\":\"08fd4f58-2fdf-4869-821d-d29c62bc3866\",\"type\":\"VBar\"},{\"attributes\":{\"plot\":{\"id\":\"f925d2f4-fc60-4c90-84b7-5caa65241d77\",\"subtype\":\"Figure\",\"type\":\"Plot\"},\"ticker\":{\"id\":\"2d360806-0447-44d2-bf69-9c0e737406ef\",\"type\":\"CategoricalTicker\"}},\"id\":\"2ec6d0af-a515-4d40-a8b1-f42d21d238c4\",\"type\":\"Grid\"},{\"attributes\":{\"axis_label\":\"flux (W m-2)\",\"formatter\":{\"id\":\"ebf0a1b6-a75e-4f8e-92c5-78a5445ac925\",\"type\":\"BasicTickFormatter\"},\"plot\":{\"id\":\"6d0caae0-51d6-45d5-b8f3-22d34257f189\",\"subtype\":\"Figure\",\"type\":\"Plot\"},\"ticker\":{\"id\":\"65a11751-03b8-43e7-b850-864a7f1d5651\",\"type\":\"BasicTicker\"}},\"id\":\"6beed11b-f3d2-406a-8b1d-a19e43d118f8\",\"type\":\"LinearAxis\"},{\"attributes\":{},\"id\":\"ed040432-0335-48be-8725-ff0129564e14\",\"type\":\"CategoricalTicker\"},{\"attributes\":{},\"id\":\"002259f8-e4f5-444e-ba8b-51bc5a47e5c0\",\"type\":\"LinearScale\"},{\"attributes\":{\"dimension\":1,\"plot\":{\"id\":\"6d0caae0-51d6-45d5-b8f3-22d34257f189\",\"subtype\":\"Figure\",\"type\":\"Plot\"},\"ticker\":{\"id\":\"65a11751-03b8-43e7-b850-864a7f1d5651\",\"type\":\"BasicTicker\"}},\"id\":\"265c9bab-ccc3-4d7f-95c1-1265daaafe92\",\"type\":\"Grid\"},{\"attributes\":{\"fill_alpha\":{\"value\":0.1},\"fill_color\":{\"value\":\"#1f77b4\"},\"line_alpha\":{\"value\":0.1},\"line_color\":{\"value\":\"#1f77b4\"},\"top\":{\"field\":\"flux\"},\"width\":{\"value\":0.9},\"x\":{\"field\":\"band\"}},\"id\":\"89168a86-0dfa-4226-a864-90c820568571\",\"type\":\"VBar\"},{\"attributes\":{},\"id\":\"a556e2e1-8512-454a-8053-68d52c617d4f\",\"type\":\"HelpTool\"},{\"attributes\":{},\"id\":\"0e5e67c2-050a-4917-8f0e-d4f50413c57b\",\"type\":\"Selection\"},{\"attributes\":{},\"id\":\"bbd85f19-3450-4cab-8054-1a9bab558cc3\",\"type\":\"UnionRenderers\"},{\"attributes\":{\"bottom_units\":\"screen\",\"fill_alpha\":{\"value\":0.5},\"fill_color\":{\"value\":\"lightgrey\"},\"left_units\":\"screen\",\"level\":\"overlay\",\"line_alpha\":{\"value\":1.0},\"line_color\":{\"value\":\"black\"},\"line_dash\":[4,4],\"line_width\":{\"value\":2},\"plot\":null,\"render_mode\":\"css\",\"right_units\":\"screen\",\"top_units\":\"screen\"},\"id\":\"906accaa-b679-44bf-9eef-6c1ade2d1295\",\"type\":\"BoxAnnotation\"},{\"attributes\":{},\"id\":\"7c812cfc-e357-4e11-bfab-66d1da6b9137\",\"type\":\"ResetTool\"},{\"attributes\":{},\"id\":\"89a80819-3805-400d-9699-67374b2b2030\",\"type\":\"BasicTickFormatter\"},{\"attributes\":{},\"id\":\"4e18b5df-606c-404f-ba90-21820475db2d\",\"type\":\"PanTool\"},{\"attributes\":{\"callback\":null,\"data\":{\"band\":[\"3\",\"9\"],\"flux\":{\"__ndarray__\":\"AIEExY8xh78AXQJLCRysvw==\",\"dtype\":\"float64\",\"shape\":[2]}},\"selected\":{\"id\":\"5da9052b-fbc5-4021-bd3c-d65f7802e13e\",\"type\":\"Selection\"},\"selection_policy\":{\"id\":\"bbd85f19-3450-4cab-8054-1a9bab558cc3\",\"type\":\"UnionRenderers\"}},\"id\":\"afed6567-d9e0-4d6e-84af-874ed74ee7b9\",\"type\":\"ColumnDataSource\"},{\"attributes\":{\"data_source\":{\"id\":\"3e9d8050-4b19-499a-b520-49df1c62bdb7\",\"type\":\"ColumnDataSource\"},\"glyph\":{\"id\":\"08fd4f58-2fdf-4869-821d-d29c62bc3866\",\"type\":\"VBar\"},\"hover_glyph\":null,\"muted_glyph\":null,\"nonselection_glyph\":{\"id\":\"89168a86-0dfa-4226-a864-90c820568571\",\"type\":\"VBar\"},\"selection_glyph\":null,\"view\":{\"id\":\"a8888382-89d5-4ed7-b735-c36887ae3c0d\",\"type\":\"CDSView\"}},\"id\":\"403c8b4c-644f-4466-b666-ff39f69de931\",\"type\":\"GlyphRenderer\"},{\"attributes\":{},\"id\":\"1ef44ff0-c49b-434b-ac22-163d9056bfc8\",\"type\":\"WheelZoomTool\"},{\"attributes\":{\"overlay\":{\"id\":\"906accaa-b679-44bf-9eef-6c1ade2d1295\",\"type\":\"BoxAnnotation\"}},\"id\":\"c8b66c61-59df-44b1-b184-0d5c73ce3da1\",\"type\":\"BoxZoomTool\"},{\"attributes\":{},\"id\":\"48a4384e-6c6d-4d4d-b030-749be6023189\",\"type\":\"SaveTool\"},{\"attributes\":{},\"id\":\"ce59a7fc-7fca-439c-a8d0-2f526593c884\",\"type\":\"CategoricalTickFormatter\"},{\"attributes\":{},\"id\":\"c0f91eb3-a388-47e6-98d7-3d74b380e12e\",\"type\":\"ResetTool\"},{\"attributes\":{},\"id\":\"26681977-3054-427e-a580-32eb55fa1c2b\",\"type\":\"HelpTool\"},{\"attributes\":{},\"id\":\"f4fe3e58-5f62-4b38-b6d2-c34525175f65\",\"type\":\"UnionRenderers\"},{\"attributes\":{\"source\":{\"id\":\"3e9d8050-4b19-499a-b520-49df1c62bdb7\",\"type\":\"ColumnDataSource\"}},\"id\":\"a8888382-89d5-4ed7-b735-c36887ae3c0d\",\"type\":\"CDSView\"},{\"attributes\":{\"plot\":null,\"text\":\"Atmosphere heating. CLIRAD - CRD.\"},\"id\":\"31e88376-acee-4aa9-a51c-508842ce5f34\",\"type\":\"Title\"},{\"attributes\":{\"callback\":null,\"data\":{\"band\":[\"3\",\"9\"],\"flux\":{\"__ndarray__\":\"APTVVYFarL8A6KIh41HMPw==\",\"dtype\":\"float64\",\"shape\":[2]}},\"selected\":{\"id\":\"2d50c4c3-0970-426d-b54f-27acdabdb138\",\"type\":\"Selection\"},\"selection_policy\":{\"id\":\"b6a23c0e-7ccb-49d0-9c4f-657cab4d4758\",\"type\":\"UnionRenderers\"}},\"id\":\"3e9d8050-4b19-499a-b520-49df1c62bdb7\",\"type\":\"ColumnDataSource\"},{\"attributes\":{\"below\":[{\"id\":\"ad4c9bc7-08be-4cde-8d87-8370f769c8d1\",\"type\":\"CategoricalAxis\"}],\"left\":[{\"id\":\"247e7488-fa4f-4225-93a2-514801d64a3f\",\"type\":\"LinearAxis\"}],\"plot_height\":300,\"plot_width\":300,\"renderers\":[{\"id\":\"ad4c9bc7-08be-4cde-8d87-8370f769c8d1\",\"type\":\"CategoricalAxis\"},{\"id\":\"2ec6d0af-a515-4d40-a8b1-f42d21d238c4\",\"type\":\"Grid\"},{\"id\":\"247e7488-fa4f-4225-93a2-514801d64a3f\",\"type\":\"LinearAxis\"},{\"id\":\"4fc93557-a6c4-46c1-b5c0-7a78c5fdbfb8\",\"type\":\"Grid\"},{\"id\":\"0fd2782b-1066-4bf6-ac24-eab4a72b1ad8\",\"type\":\"BoxAnnotation\"},{\"id\":\"3330e2c7-cb06-48e1-90da-5aacf38b51f1\",\"type\":\"GlyphRenderer\"}],\"title\":{\"id\":\"e2ccf8e0-558b-4404-b986-313feddb048a\",\"type\":\"Title\"},\"toolbar\":{\"id\":\"b60df647-b0a5-4742-ba69-6b655ba2b973\",\"type\":\"Toolbar\"},\"toolbar_location\":null,\"x_range\":{\"id\":\"8bfae42a-800d-44cb-a245-24783f401788\",\"type\":\"FactorRange\"},\"x_scale\":{\"id\":\"803ae205-88f3-403f-afd6-c9f2c51a79ff\",\"type\":\"CategoricalScale\"},\"y_range\":{\"id\":\"b8cf81cb-076a-4d17-b929-3a061c2fbce5\",\"type\":\"DataRange1d\"},\"y_scale\":{\"id\":\"002259f8-e4f5-444e-ba8b-51bc5a47e5c0\",\"type\":\"LinearScale\"}},\"id\":\"f925d2f4-fc60-4c90-84b7-5caa65241d77\",\"subtype\":\"Figure\",\"type\":\"Plot\"},{\"attributes\":{},\"id\":\"642e67aa-73d0-4b9e-9a86-2595ddf491d8\",\"type\":\"BasicTickFormatter\"},{\"attributes\":{},\"id\":\"d554618f-13f5-4651-8840-52d8ff818b06\",\"type\":\"BasicTicker\"},{\"attributes\":{},\"id\":\"ad5217ee-1c17-4462-9788-5fb31cb30cb9\",\"type\":\"CategoricalTickFormatter\"},{\"attributes\":{\"children\":[{\"id\":\"6d0caae0-51d6-45d5-b8f3-22d34257f189\",\"subtype\":\"Figure\",\"type\":\"Plot\"},{\"id\":\"f925d2f4-fc60-4c90-84b7-5caa65241d77\",\"subtype\":\"Figure\",\"type\":\"Plot\"},{\"id\":\"ea00fb2f-d4e4-4634-9342-6822e2211f7d\",\"subtype\":\"Figure\",\"type\":\"Plot\"}]},\"id\":\"910f7d69-419a-4898-afd2-50c5b1c50fcf\",\"type\":\"Row\"},{\"attributes\":{},\"id\":\"ebf0a1b6-a75e-4f8e-92c5-78a5445ac925\",\"type\":\"BasicTickFormatter\"},{\"attributes\":{\"active_drag\":\"auto\",\"active_inspect\":\"auto\",\"active_scroll\":\"auto\",\"active_tap\":\"auto\",\"tools\":[{\"id\":\"b8bb3602-0180-46a0-9444-65c8c456a013\",\"type\":\"PanTool\"},{\"id\":\"b2aa9c61-c10b-4a0e-9188-a3623acdf9de\",\"type\":\"WheelZoomTool\"},{\"id\":\"6353a307-76d7-4d11-90e8-cf844f6ab15f\",\"type\":\"BoxZoomTool\"},{\"id\":\"44969039-8f3e-4120-a701-4aebce234826\",\"type\":\"SaveTool\"},{\"id\":\"58280a60-1de4-487f-a96f-c76a81824014\",\"type\":\"ResetTool\"},{\"id\":\"84f42e26-4dcb-4940-aa1f-294f8bf35437\",\"type\":\"HelpTool\"}]},\"id\":\"ed2f7ca4-e34b-4b3d-9981-6adbe1ab2288\",\"type\":\"Toolbar\"}],\"root_ids\":[\"69adf683-daa9-4232-98e2-c452f9656383\"]},\"title\":\"Bokeh Application\",\"version\":\"0.12.16\"}};\n",
       "  var render_items = [{\"docid\":\"87011c6e-1a84-43b9-a855-8df961087c65\",\"elementid\":\"4aa3599b-6ed9-4833-b2f0-4dee8386a390\",\"modelid\":\"69adf683-daa9-4232-98e2-c452f9656383\"}];\n",
       "  root.Bokeh.embed.embed_items_notebook(docs_json, render_items);\n",
       "\n",
       "  }\n",
       "  if (root.Bokeh !== undefined) {\n",
       "    embed_document(root);\n",
       "  } else {\n",
       "    var attempts = 0;\n",
       "    var timer = setInterval(function(root) {\n",
       "      if (root.Bokeh !== undefined) {\n",
       "        embed_document(root);\n",
       "        clearInterval(timer);\n",
       "      }\n",
       "      attempts++;\n",
       "      if (attempts > 100) {\n",
       "        console.log(\"Bokeh: ERROR: Unable to run BokehJS code because BokehJS library is missing\")\n",
       "        clearInterval(timer);\n",
       "      }\n",
       "    }, 10, root)\n",
       "  }\n",
       "})(window);"
      ],
      "application/vnd.bokehjs_exec.v0+json": ""
     },
     "metadata": {
      "application/vnd.bokehjs_exec.v0+json": {
       "id": "69adf683-daa9-4232-98e2-c452f9656383"
      }
     },
     "output_type": "display_data"
    },
    {
     "data": {
      "text/markdown": [
       "*FIGURE.* Difference between CLIRAD and CRD in TOA, SFC and net atmosphere flux, in each spectral band."
      ],
      "text/plain": [
       "<IPython.core.display.Markdown object>"
      ]
     },
     "metadata": {},
     "output_type": "display_data"
    },
    {
     "data": {
      "text/html": [
       "<div>\n",
       "<style scoped>\n",
       "    .dataframe tbody tr th:only-of-type {\n",
       "        vertical-align: middle;\n",
       "    }\n",
       "\n",
       "    .dataframe tbody tr th {\n",
       "        vertical-align: top;\n",
       "    }\n",
       "\n",
       "    .dataframe thead th {\n",
       "        text-align: right;\n",
       "    }\n",
       "</style>\n",
       "<table border=\"1\" class=\"dataframe\">\n",
       "  <thead>\n",
       "    <tr style=\"text-align: right;\">\n",
       "      <th></th>\n",
       "      <th>OLR flux</th>\n",
       "      <th>SFC flux</th>\n",
       "      <th>ATM heating</th>\n",
       "    </tr>\n",
       "    <tr>\n",
       "      <th>Sum over bands</th>\n",
       "      <th></th>\n",
       "      <th></th>\n",
       "      <th></th>\n",
       "    </tr>\n",
       "  </thead>\n",
       "  <tbody>\n",
       "    <tr>\n",
       "      <th>CLIRAD - CRD</th>\n",
       "      <td>0.17</td>\n",
       "      <td>-0.07</td>\n",
       "      <td>0.23</td>\n",
       "    </tr>\n",
       "    <tr>\n",
       "      <th>CRD</th>\n",
       "      <td>-60.61</td>\n",
       "      <td>6.95</td>\n",
       "      <td>-2.11</td>\n",
       "    </tr>\n",
       "  </tbody>\n",
       "</table>\n",
       "</div>"
      ],
      "text/plain": [
       "                OLR flux  SFC flux  ATM heating\n",
       "Sum over bands                                 \n",
       "CLIRAD - CRD        0.17     -0.07         0.23\n",
       "CRD               -60.61      6.95        -2.11"
      ]
     },
     "metadata": {},
     "output_type": "display_data"
    },
    {
     "data": {
      "text/markdown": [
       "*TABLE.* Difference between CLIRAD and CRD in TOA, SFC and net atmosphere flux, over all spectral bands. CRD's TOA, SFC and net atmosphere flux, over all spectral bands."
      ],
      "text/plain": [
       "<IPython.core.display.Markdown object>"
      ]
     },
     "metadata": {},
     "output_type": "display_data"
    },
    {
     "data": {
      "text/html": [
       "Download: <a href=\"./results_n2oatm_cliradsinglerun.xlsx\">results_n2oatm_cliradsinglerun.xlsx</a>"
      ],
      "text/plain": [
       "<IPython.core.display.HTML object>"
      ]
     },
     "metadata": {},
     "output_type": "display_data"
    }
   ],
   "source": [
    "def script():\n",
    "    \n",
    "    d_atm = {'mls': 'mid-latitude summer',\n",
    "             'saw': 'sub-arctic winter',\n",
    "             'trp': 'tropical'}\n",
    "    \n",
    "    title = ('## Results over entire range of molecules'\n",
    "             ' and spectral bands')\n",
    "    \n",
    "    s_makeup = 'Makeup of atmosphere.'\n",
    "    s_atmpro = '# {}'\n",
    "    s_cool = 'Cooling rates. {}.'\n",
    "    s_flux = 'Fluxes. {}.'\n",
    "    \n",
    "    atmpros = ['mls', 'saw', 'trp']\n",
    "    \n",
    "    # TOC\n",
    "    show_markdown(title)\n",
    "    show_markdown('### Table of Contents')\n",
    "    show_html(climahtml.getHTML_hrefanchor(s_makeup))\n",
    "    for atmpro in atmpros:\n",
    "        show_markdown('**' + d_atm[atmpro] + '**')\n",
    "        show_html(climahtml.getHTML_hrefanchor(s_cool.format(atmpro)))\n",
    "        show_html(climahtml.getHTML_hrefanchor(s_flux.format(atmpro)))\n",
    "\n",
    "        \n",
    "    # Atmosphere makeup\n",
    "    show_html(climahtml.getHTML_idanchor(s_makeup))\n",
    "    show_markdown(climahtml.getMarkdown_sectitle(s_makeup))\n",
    "    show_makeup()\n",
    "#    show_grey_makeup()\n",
    "        \n",
    "    for atmpro in atmpros:\n",
    "        show_html(climahtml.getHTML_idanchor(s_cool.format(atmpro)))\n",
    "        show_markdown(\n",
    "            climahtml.getMarkdown_sectitle(s_cool.format(atmpro)))\n",
    "        show_cool(atmpro=atmpro)\n",
    "        show_html(climahtml.getHTML_idanchor(s_flux.format(atmpro)))\n",
    "        show_markdown(\n",
    "            climahtml.getMarkdown_sectitle(s_flux.format(atmpro)))\n",
    "        show_hist_flux(atmpro=atmpro)\n",
    "        show_tb_flux(atmpro=atmpro)\n",
    "    \n",
    "    script_tofile()\n",
    "    \n",
    "script()  "
   ]
  },
  {
   "cell_type": "code",
   "execution_count": null,
   "metadata": {
    "collapsed": true
   },
   "outputs": [],
   "source": []
  },
  {
   "cell_type": "code",
   "execution_count": 18,
   "metadata": {},
   "outputs": [
    {
     "data": {
      "text/html": [
       "<script>\n",
       "code_show=true; \n",
       "function code_toggle() {\n",
       " if (code_show){\n",
       " $('div.input').hide();\n",
       " } else {\n",
       " $('div.input').show();\n",
       " }\n",
       " code_show = !code_show\n",
       "} \n",
       "$( document ).ready(code_toggle);\n",
       "</script>\n",
       "<form action=\"javascript:code_toggle()\"><input type=\"submit\" value=\"Click here to toggle on/off the raw code.\"></form>"
      ],
      "text/plain": [
       "<IPython.core.display.HTML object>"
      ]
     },
     "execution_count": 18,
     "metadata": {},
     "output_type": "execute_result"
    }
   ],
   "source": [
    "display.HTML('''<script>\n",
    "code_show=true; \n",
    "function code_toggle() {\n",
    " if (code_show){\n",
    " $('div.input').hide();\n",
    " } else {\n",
    " $('div.input').show();\n",
    " }\n",
    " code_show = !code_show\n",
    "} \n",
    "$( document ).ready(code_toggle);\n",
    "</script>\n",
    "<form action=\"javascript:code_toggle()\"><input type=\"submit\" value=\"Click here to toggle on/off the raw code.\"></form>''')"
   ]
  },
  {
   "cell_type": "code",
   "execution_count": null,
   "metadata": {
    "collapsed": true
   },
   "outputs": [],
   "source": []
  }
 ],
 "metadata": {
  "kernelspec": {
   "display_name": "Python 3",
   "language": "python",
   "name": "python3"
  },
  "language_info": {
   "codemirror_mode": {
    "name": "ipython",
    "version": 3
   },
   "file_extension": ".py",
   "mimetype": "text/x-python",
   "name": "python",
   "nbconvert_exporter": "python",
   "pygments_lexer": "ipython3",
   "version": "3.6.7"
  }
 },
 "nbformat": 4,
 "nbformat_minor": 2
}
