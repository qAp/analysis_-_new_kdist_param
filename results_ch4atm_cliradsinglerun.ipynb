{
 "cells": [
  {
   "cell_type": "code",
   "execution_count": 1,
   "metadata": {
    "collapsed": true
   },
   "outputs": [],
   "source": [
    "%reload_ext autoreload\n",
    "%autoreload 2\n",
    "\n",
    "import os\n",
    "import io\n",
    "import ast\n",
    "import json\n",
    "import importlib \n",
    "import itertools\n",
    "import collections\n",
    "import pprint\n",
    "\n",
    "import pymongo\n",
    "\n",
    "from bokeh.io import output_notebook, show\n",
    "from bokeh.layouts import gridplot\n",
    "from bokeh.plotting import figure\n",
    "from bokeh.models import Range1d, Legend, ColumnDataSource, FactorRange\n",
    "from bokeh.palettes import all_palettes\n",
    "from bokeh.transform import factor_cmap\n",
    "\n",
    "import matplotlib\n",
    "import matplotlib.pyplot as plt\n",
    "import numpy as np\n",
    "import pandas as pd\n",
    "import xarray as xr\n",
    "\n",
    "from climatools.atm.absorbers import *\n",
    "\n",
    "import climatools.lblnew.bestfit_params as bestfits\n",
    "from climatools.lblnew import setup_bestfit, setup_overlap\n",
    "import climatools.lblnew.pipeline as pipe_lblnew\n",
    "\n",
    "from climatools.cliradlw.utils import *\n",
    "import climatools.cliradlw.setup as setup_cliradlw\n",
    "import climatools.cliradlw.pipeline as pipe_cliradlw\n",
    "from climatools.cliradlw.dataset import *\n",
    "\n",
    "import climatools.html.html as climahtml\n",
    "from climatools.lblnew.dataio import *\n",
    "from climatools.plot.plot import *\n",
    "\n",
    "from IPython import display"
   ]
  },
  {
   "cell_type": "code",
   "execution_count": 2,
   "metadata": {
    "scrolled": true
   },
   "outputs": [
    {
     "data": {
      "text/html": [
       "\n",
       "    <div class=\"bk-root\">\n",
       "        <a href=\"https://bokeh.pydata.org\" target=\"_blank\" class=\"bk-logo bk-logo-small bk-logo-notebook\"></a>\n",
       "        <span id=\"79a426f6-faf6-414e-bc4f-56bcb428b928\">Loading BokehJS ...</span>\n",
       "    </div>"
      ]
     },
     "metadata": {},
     "output_type": "display_data"
    },
    {
     "data": {
      "application/javascript": [
       "\n",
       "(function(root) {\n",
       "  function now() {\n",
       "    return new Date();\n",
       "  }\n",
       "\n",
       "  var force = true;\n",
       "\n",
       "  if (typeof (root._bokeh_onload_callbacks) === \"undefined\" || force === true) {\n",
       "    root._bokeh_onload_callbacks = [];\n",
       "    root._bokeh_is_loading = undefined;\n",
       "  }\n",
       "\n",
       "  var JS_MIME_TYPE = 'application/javascript';\n",
       "  var HTML_MIME_TYPE = 'text/html';\n",
       "  var EXEC_MIME_TYPE = 'application/vnd.bokehjs_exec.v0+json';\n",
       "  var CLASS_NAME = 'output_bokeh rendered_html';\n",
       "\n",
       "  /**\n",
       "   * Render data to the DOM node\n",
       "   */\n",
       "  function render(props, node) {\n",
       "    var script = document.createElement(\"script\");\n",
       "    node.appendChild(script);\n",
       "  }\n",
       "\n",
       "  /**\n",
       "   * Handle when an output is cleared or removed\n",
       "   */\n",
       "  function handleClearOutput(event, handle) {\n",
       "    var cell = handle.cell;\n",
       "\n",
       "    var id = cell.output_area._bokeh_element_id;\n",
       "    var server_id = cell.output_area._bokeh_server_id;\n",
       "    // Clean up Bokeh references\n",
       "    if (id !== undefined) {\n",
       "      Bokeh.index[id].model.document.clear();\n",
       "      delete Bokeh.index[id];\n",
       "    }\n",
       "\n",
       "    if (server_id !== undefined) {\n",
       "      // Clean up Bokeh references\n",
       "      var cmd = \"from bokeh.io.state import curstate; print(curstate().uuid_to_server['\" + server_id + \"'].get_sessions()[0].document.roots[0]._id)\";\n",
       "      cell.notebook.kernel.execute(cmd, {\n",
       "        iopub: {\n",
       "          output: function(msg) {\n",
       "            var element_id = msg.content.text.trim();\n",
       "            Bokeh.index[element_id].model.document.clear();\n",
       "            delete Bokeh.index[element_id];\n",
       "          }\n",
       "        }\n",
       "      });\n",
       "      // Destroy server and session\n",
       "      var cmd = \"import bokeh.io.notebook as ion; ion.destroy_server('\" + server_id + \"')\";\n",
       "      cell.notebook.kernel.execute(cmd);\n",
       "    }\n",
       "  }\n",
       "\n",
       "  /**\n",
       "   * Handle when a new output is added\n",
       "   */\n",
       "  function handleAddOutput(event, handle) {\n",
       "    var output_area = handle.output_area;\n",
       "    var output = handle.output;\n",
       "\n",
       "    // limit handleAddOutput to display_data with EXEC_MIME_TYPE content only\n",
       "    if ((output.output_type != \"display_data\") || (!output.data.hasOwnProperty(EXEC_MIME_TYPE))) {\n",
       "      return\n",
       "    }\n",
       "\n",
       "    var toinsert = output_area.element.find(\".\" + CLASS_NAME.split(' ')[0]);\n",
       "\n",
       "    if (output.metadata[EXEC_MIME_TYPE][\"id\"] !== undefined) {\n",
       "      toinsert[toinsert.length - 1].firstChild.textContent = output.data[JS_MIME_TYPE];\n",
       "      // store reference to embed id on output_area\n",
       "      output_area._bokeh_element_id = output.metadata[EXEC_MIME_TYPE][\"id\"];\n",
       "    }\n",
       "    if (output.metadata[EXEC_MIME_TYPE][\"server_id\"] !== undefined) {\n",
       "      var bk_div = document.createElement(\"div\");\n",
       "      bk_div.innerHTML = output.data[HTML_MIME_TYPE];\n",
       "      var script_attrs = bk_div.children[0].attributes;\n",
       "      for (var i = 0; i < script_attrs.length; i++) {\n",
       "        toinsert[toinsert.length - 1].firstChild.setAttribute(script_attrs[i].name, script_attrs[i].value);\n",
       "      }\n",
       "      // store reference to server id on output_area\n",
       "      output_area._bokeh_server_id = output.metadata[EXEC_MIME_TYPE][\"server_id\"];\n",
       "    }\n",
       "  }\n",
       "\n",
       "  function register_renderer(events, OutputArea) {\n",
       "\n",
       "    function append_mime(data, metadata, element) {\n",
       "      // create a DOM node to render to\n",
       "      var toinsert = this.create_output_subarea(\n",
       "        metadata,\n",
       "        CLASS_NAME,\n",
       "        EXEC_MIME_TYPE\n",
       "      );\n",
       "      this.keyboard_manager.register_events(toinsert);\n",
       "      // Render to node\n",
       "      var props = {data: data, metadata: metadata[EXEC_MIME_TYPE]};\n",
       "      render(props, toinsert[toinsert.length - 1]);\n",
       "      element.append(toinsert);\n",
       "      return toinsert\n",
       "    }\n",
       "\n",
       "    /* Handle when an output is cleared or removed */\n",
       "    events.on('clear_output.CodeCell', handleClearOutput);\n",
       "    events.on('delete.Cell', handleClearOutput);\n",
       "\n",
       "    /* Handle when a new output is added */\n",
       "    events.on('output_added.OutputArea', handleAddOutput);\n",
       "\n",
       "    /**\n",
       "     * Register the mime type and append_mime function with output_area\n",
       "     */\n",
       "    OutputArea.prototype.register_mime_type(EXEC_MIME_TYPE, append_mime, {\n",
       "      /* Is output safe? */\n",
       "      safe: true,\n",
       "      /* Index of renderer in `output_area.display_order` */\n",
       "      index: 0\n",
       "    });\n",
       "  }\n",
       "\n",
       "  // register the mime type if in Jupyter Notebook environment and previously unregistered\n",
       "  if (root.Jupyter !== undefined) {\n",
       "    var events = require('base/js/events');\n",
       "    var OutputArea = require('notebook/js/outputarea').OutputArea;\n",
       "\n",
       "    if (OutputArea.prototype.mime_types().indexOf(EXEC_MIME_TYPE) == -1) {\n",
       "      register_renderer(events, OutputArea);\n",
       "    }\n",
       "  }\n",
       "\n",
       "  \n",
       "  if (typeof (root._bokeh_timeout) === \"undefined\" || force === true) {\n",
       "    root._bokeh_timeout = Date.now() + 5000;\n",
       "    root._bokeh_failed_load = false;\n",
       "  }\n",
       "\n",
       "  var NB_LOAD_WARNING = {'data': {'text/html':\n",
       "     \"<div style='background-color: #fdd'>\\n\"+\n",
       "     \"<p>\\n\"+\n",
       "     \"BokehJS does not appear to have successfully loaded. If loading BokehJS from CDN, this \\n\"+\n",
       "     \"may be due to a slow or bad network connection. Possible fixes:\\n\"+\n",
       "     \"</p>\\n\"+\n",
       "     \"<ul>\\n\"+\n",
       "     \"<li>re-rerun `output_notebook()` to attempt to load from CDN again, or</li>\\n\"+\n",
       "     \"<li>use INLINE resources instead, as so:</li>\\n\"+\n",
       "     \"</ul>\\n\"+\n",
       "     \"<code>\\n\"+\n",
       "     \"from bokeh.resources import INLINE\\n\"+\n",
       "     \"output_notebook(resources=INLINE)\\n\"+\n",
       "     \"</code>\\n\"+\n",
       "     \"</div>\"}};\n",
       "\n",
       "  function display_loaded() {\n",
       "    var el = document.getElementById(\"79a426f6-faf6-414e-bc4f-56bcb428b928\");\n",
       "    if (el != null) {\n",
       "      el.textContent = \"BokehJS is loading...\";\n",
       "    }\n",
       "    if (root.Bokeh !== undefined) {\n",
       "      if (el != null) {\n",
       "        el.textContent = \"BokehJS \" + root.Bokeh.version + \" successfully loaded.\";\n",
       "      }\n",
       "    } else if (Date.now() < root._bokeh_timeout) {\n",
       "      setTimeout(display_loaded, 100)\n",
       "    }\n",
       "  }\n",
       "\n",
       "\n",
       "  function run_callbacks() {\n",
       "    try {\n",
       "      root._bokeh_onload_callbacks.forEach(function(callback) { callback() });\n",
       "    }\n",
       "    finally {\n",
       "      delete root._bokeh_onload_callbacks\n",
       "    }\n",
       "    console.info(\"Bokeh: all callbacks have finished\");\n",
       "  }\n",
       "\n",
       "  function load_libs(js_urls, callback) {\n",
       "    root._bokeh_onload_callbacks.push(callback);\n",
       "    if (root._bokeh_is_loading > 0) {\n",
       "      console.log(\"Bokeh: BokehJS is being loaded, scheduling callback at\", now());\n",
       "      return null;\n",
       "    }\n",
       "    if (js_urls == null || js_urls.length === 0) {\n",
       "      run_callbacks();\n",
       "      return null;\n",
       "    }\n",
       "    console.log(\"Bokeh: BokehJS not loaded, scheduling load and callback at\", now());\n",
       "    root._bokeh_is_loading = js_urls.length;\n",
       "    for (var i = 0; i < js_urls.length; i++) {\n",
       "      var url = js_urls[i];\n",
       "      var s = document.createElement('script');\n",
       "      s.src = url;\n",
       "      s.async = false;\n",
       "      s.onreadystatechange = s.onload = function() {\n",
       "        root._bokeh_is_loading--;\n",
       "        if (root._bokeh_is_loading === 0) {\n",
       "          console.log(\"Bokeh: all BokehJS libraries loaded\");\n",
       "          run_callbacks()\n",
       "        }\n",
       "      };\n",
       "      s.onerror = function() {\n",
       "        console.warn(\"failed to load library \" + url);\n",
       "      };\n",
       "      console.log(\"Bokeh: injecting script tag for BokehJS library: \", url);\n",
       "      document.getElementsByTagName(\"head\")[0].appendChild(s);\n",
       "    }\n",
       "  };var element = document.getElementById(\"79a426f6-faf6-414e-bc4f-56bcb428b928\");\n",
       "  if (element == null) {\n",
       "    console.log(\"Bokeh: ERROR: autoload.js configured with elementid '79a426f6-faf6-414e-bc4f-56bcb428b928' but no matching script tag was found. \")\n",
       "    return false;\n",
       "  }\n",
       "\n",
       "  var js_urls = [\"https://cdn.pydata.org/bokeh/release/bokeh-0.12.16.min.js\", \"https://cdn.pydata.org/bokeh/release/bokeh-widgets-0.12.16.min.js\", \"https://cdn.pydata.org/bokeh/release/bokeh-tables-0.12.16.min.js\", \"https://cdn.pydata.org/bokeh/release/bokeh-gl-0.12.16.min.js\"];\n",
       "\n",
       "  var inline_js = [\n",
       "    function(Bokeh) {\n",
       "      Bokeh.set_log_level(\"info\");\n",
       "    },\n",
       "    \n",
       "    function(Bokeh) {\n",
       "      \n",
       "    },\n",
       "    function(Bokeh) {\n",
       "      console.log(\"Bokeh: injecting CSS: https://cdn.pydata.org/bokeh/release/bokeh-0.12.16.min.css\");\n",
       "      Bokeh.embed.inject_css(\"https://cdn.pydata.org/bokeh/release/bokeh-0.12.16.min.css\");\n",
       "      console.log(\"Bokeh: injecting CSS: https://cdn.pydata.org/bokeh/release/bokeh-widgets-0.12.16.min.css\");\n",
       "      Bokeh.embed.inject_css(\"https://cdn.pydata.org/bokeh/release/bokeh-widgets-0.12.16.min.css\");\n",
       "      console.log(\"Bokeh: injecting CSS: https://cdn.pydata.org/bokeh/release/bokeh-tables-0.12.16.min.css\");\n",
       "      Bokeh.embed.inject_css(\"https://cdn.pydata.org/bokeh/release/bokeh-tables-0.12.16.min.css\");\n",
       "    }\n",
       "  ];\n",
       "\n",
       "  function run_inline_js() {\n",
       "    \n",
       "    if ((root.Bokeh !== undefined) || (force === true)) {\n",
       "      for (var i = 0; i < inline_js.length; i++) {\n",
       "        inline_js[i].call(root, root.Bokeh);\n",
       "      }if (force === true) {\n",
       "        display_loaded();\n",
       "      }} else if (Date.now() < root._bokeh_timeout) {\n",
       "      setTimeout(run_inline_js, 100);\n",
       "    } else if (!root._bokeh_failed_load) {\n",
       "      console.log(\"Bokeh: BokehJS failed to load within specified timeout.\");\n",
       "      root._bokeh_failed_load = true;\n",
       "    } else if (force !== true) {\n",
       "      var cell = $(document.getElementById(\"79a426f6-faf6-414e-bc4f-56bcb428b928\")).parents('.cell').data().cell;\n",
       "      cell.output_area.append_execute_result(NB_LOAD_WARNING)\n",
       "    }\n",
       "\n",
       "  }\n",
       "\n",
       "  if (root._bokeh_is_loading === 0) {\n",
       "    console.log(\"Bokeh: BokehJS loaded, going straight to plotting\");\n",
       "    run_inline_js();\n",
       "  } else {\n",
       "    load_libs(js_urls, function() {\n",
       "      console.log(\"Bokeh: BokehJS plotting callback run at\", now());\n",
       "      run_inline_js();\n",
       "    });\n",
       "  }\n",
       "}(window));"
      ],
      "application/vnd.bokehjs_load.v0+json": "\n(function(root) {\n  function now() {\n    return new Date();\n  }\n\n  var force = true;\n\n  if (typeof (root._bokeh_onload_callbacks) === \"undefined\" || force === true) {\n    root._bokeh_onload_callbacks = [];\n    root._bokeh_is_loading = undefined;\n  }\n\n  \n\n  \n  if (typeof (root._bokeh_timeout) === \"undefined\" || force === true) {\n    root._bokeh_timeout = Date.now() + 5000;\n    root._bokeh_failed_load = false;\n  }\n\n  var NB_LOAD_WARNING = {'data': {'text/html':\n     \"<div style='background-color: #fdd'>\\n\"+\n     \"<p>\\n\"+\n     \"BokehJS does not appear to have successfully loaded. If loading BokehJS from CDN, this \\n\"+\n     \"may be due to a slow or bad network connection. Possible fixes:\\n\"+\n     \"</p>\\n\"+\n     \"<ul>\\n\"+\n     \"<li>re-rerun `output_notebook()` to attempt to load from CDN again, or</li>\\n\"+\n     \"<li>use INLINE resources instead, as so:</li>\\n\"+\n     \"</ul>\\n\"+\n     \"<code>\\n\"+\n     \"from bokeh.resources import INLINE\\n\"+\n     \"output_notebook(resources=INLINE)\\n\"+\n     \"</code>\\n\"+\n     \"</div>\"}};\n\n  function display_loaded() {\n    var el = document.getElementById(\"79a426f6-faf6-414e-bc4f-56bcb428b928\");\n    if (el != null) {\n      el.textContent = \"BokehJS is loading...\";\n    }\n    if (root.Bokeh !== undefined) {\n      if (el != null) {\n        el.textContent = \"BokehJS \" + root.Bokeh.version + \" successfully loaded.\";\n      }\n    } else if (Date.now() < root._bokeh_timeout) {\n      setTimeout(display_loaded, 100)\n    }\n  }\n\n\n  function run_callbacks() {\n    try {\n      root._bokeh_onload_callbacks.forEach(function(callback) { callback() });\n    }\n    finally {\n      delete root._bokeh_onload_callbacks\n    }\n    console.info(\"Bokeh: all callbacks have finished\");\n  }\n\n  function load_libs(js_urls, callback) {\n    root._bokeh_onload_callbacks.push(callback);\n    if (root._bokeh_is_loading > 0) {\n      console.log(\"Bokeh: BokehJS is being loaded, scheduling callback at\", now());\n      return null;\n    }\n    if (js_urls == null || js_urls.length === 0) {\n      run_callbacks();\n      return null;\n    }\n    console.log(\"Bokeh: BokehJS not loaded, scheduling load and callback at\", now());\n    root._bokeh_is_loading = js_urls.length;\n    for (var i = 0; i < js_urls.length; i++) {\n      var url = js_urls[i];\n      var s = document.createElement('script');\n      s.src = url;\n      s.async = false;\n      s.onreadystatechange = s.onload = function() {\n        root._bokeh_is_loading--;\n        if (root._bokeh_is_loading === 0) {\n          console.log(\"Bokeh: all BokehJS libraries loaded\");\n          run_callbacks()\n        }\n      };\n      s.onerror = function() {\n        console.warn(\"failed to load library \" + url);\n      };\n      console.log(\"Bokeh: injecting script tag for BokehJS library: \", url);\n      document.getElementsByTagName(\"head\")[0].appendChild(s);\n    }\n  };var element = document.getElementById(\"79a426f6-faf6-414e-bc4f-56bcb428b928\");\n  if (element == null) {\n    console.log(\"Bokeh: ERROR: autoload.js configured with elementid '79a426f6-faf6-414e-bc4f-56bcb428b928' but no matching script tag was found. \")\n    return false;\n  }\n\n  var js_urls = [\"https://cdn.pydata.org/bokeh/release/bokeh-0.12.16.min.js\", \"https://cdn.pydata.org/bokeh/release/bokeh-widgets-0.12.16.min.js\", \"https://cdn.pydata.org/bokeh/release/bokeh-tables-0.12.16.min.js\", \"https://cdn.pydata.org/bokeh/release/bokeh-gl-0.12.16.min.js\"];\n\n  var inline_js = [\n    function(Bokeh) {\n      Bokeh.set_log_level(\"info\");\n    },\n    \n    function(Bokeh) {\n      \n    },\n    function(Bokeh) {\n      console.log(\"Bokeh: injecting CSS: https://cdn.pydata.org/bokeh/release/bokeh-0.12.16.min.css\");\n      Bokeh.embed.inject_css(\"https://cdn.pydata.org/bokeh/release/bokeh-0.12.16.min.css\");\n      console.log(\"Bokeh: injecting CSS: https://cdn.pydata.org/bokeh/release/bokeh-widgets-0.12.16.min.css\");\n      Bokeh.embed.inject_css(\"https://cdn.pydata.org/bokeh/release/bokeh-widgets-0.12.16.min.css\");\n      console.log(\"Bokeh: injecting CSS: https://cdn.pydata.org/bokeh/release/bokeh-tables-0.12.16.min.css\");\n      Bokeh.embed.inject_css(\"https://cdn.pydata.org/bokeh/release/bokeh-tables-0.12.16.min.css\");\n    }\n  ];\n\n  function run_inline_js() {\n    \n    if ((root.Bokeh !== undefined) || (force === true)) {\n      for (var i = 0; i < inline_js.length; i++) {\n        inline_js[i].call(root, root.Bokeh);\n      }if (force === true) {\n        display_loaded();\n      }} else if (Date.now() < root._bokeh_timeout) {\n      setTimeout(run_inline_js, 100);\n    } else if (!root._bokeh_failed_load) {\n      console.log(\"Bokeh: BokehJS failed to load within specified timeout.\");\n      root._bokeh_failed_load = true;\n    } else if (force !== true) {\n      var cell = $(document.getElementById(\"79a426f6-faf6-414e-bc4f-56bcb428b928\")).parents('.cell').data().cell;\n      cell.output_area.append_execute_result(NB_LOAD_WARNING)\n    }\n\n  }\n\n  if (root._bokeh_is_loading === 0) {\n    console.log(\"Bokeh: BokehJS loaded, going straight to plotting\");\n    run_inline_js();\n  } else {\n    load_libs(js_urls, function() {\n      console.log(\"Bokeh: BokehJS plotting callback run at\", now());\n      run_inline_js();\n    });\n  }\n}(window));"
     },
     "metadata": {},
     "output_type": "display_data"
    }
   ],
   "source": [
    "output_notebook()"
   ]
  },
  {
   "cell_type": "code",
   "execution_count": 3,
   "metadata": {
    "collapsed": true
   },
   "outputs": [],
   "source": [
    "MOL = 'ch4'"
   ]
  },
  {
   "cell_type": "code",
   "execution_count": 4,
   "metadata": {
    "collapsed": true
   },
   "outputs": [],
   "source": [
    "ATMPRO = dict(mls=294, saw=257, trp=300)"
   ]
  },
  {
   "cell_type": "code",
   "execution_count": 5,
   "metadata": {
    "collapsed": true
   },
   "outputs": [],
   "source": [
    "COMMITNUMBER = '1013f91'"
   ]
  },
  {
   "cell_type": "code",
   "execution_count": 6,
   "metadata": {
    "collapsed": true
   },
   "outputs": [],
   "source": [
    "client = pymongo.MongoClient('localhost', 27017)"
   ]
  },
  {
   "cell_type": "code",
   "execution_count": 7,
   "metadata": {
    "collapsed": true
   },
   "outputs": [],
   "source": [
    "def show_html(s):\n",
    "    display.display(display.HTML(s))\n",
    "\n",
    "def show_markdown(s):\n",
    "    display.display(display.Markdown(s))"
   ]
  },
  {
   "cell_type": "code",
   "execution_count": 8,
   "metadata": {
    "collapsed": true
   },
   "outputs": [],
   "source": [
    "def to_lblnewparam(param=None):\n",
    "    '''\n",
    "    Convert clirad's input parameter dictionary \n",
    "    into something like lblnew's.\n",
    "    '''\n",
    "    band = param['band'][0]\n",
    "    band = mapband_new2old()[band]\n",
    "    atmpro = param['atmpro']\n",
    "    tsfc = param['tsfc']\n",
    "    \n",
    "    p = {'band': band, \n",
    "         'atmpro': atmpro, 'tsfc': tsfc,\n",
    "         'dv': .001, 'nv': 1000}\n",
    "    \n",
    "    if len(param['molecule']) > 1: p['molecule'] = param['molecule']\n",
    "    else: \n",
    "        molecule, conc = list(param['molecule'].items())[0]\n",
    "        p['molecule'] = molecule\n",
    "        if conc == 'atmpro': p['conc'] = None\n",
    "        else: p['conc'] = conc\n",
    "    return p\n",
    "\n",
    "def make_query(param=None):\n",
    "    molecules = {'h2o', 'co2', 'o3', 'n2o', 'ch4'}\n",
    "    q = {}\n",
    "    for n, v in param.items():\n",
    "        if n == 'molecule' and type(v) == dict:\n",
    "            for mol, conc in v.items():\n",
    "                q[f'param.molecule.{mol}'] = conc\n",
    "            for mol in molecules - set(v.keys()):\n",
    "                q[f'param.molecule.{mol}'] = {'$exists': 0}\n",
    "        else:\n",
    "            q[f'param.{n}'] = v\n",
    "    return q"
   ]
  },
  {
   "cell_type": "code",
   "execution_count": 9,
   "metadata": {
    "collapsed": true
   },
   "outputs": [],
   "source": [
    "def subparam_atm_clirad(atmpro='mls'):\n",
    "    commitnumber = COMMITNUMBER\n",
    "    atm = nongreys_byband()\n",
    "    band = list(atm.keys())\n",
    "    molecule = {mol: conc for _, molconcs in atm.items() \n",
    "                for mol, conc in molconcs.items() if mol == MOL}\n",
    "    return dict(commitnumber=commitnumber,\n",
    "                band=band, molecule=molecule, \n",
    "                atmpro=atmpro, tsfc=ATMPRO[atmpro])\n",
    "\n",
    "def clirad_data_atm(params_atm=None):\n",
    "    for p in params_atm:\n",
    "        q = make_query(p)\n",
    "        r = client.cliradnew.lw.find_one(q)\n",
    "        fluxs, cools = [], []\n",
    "        if not r: print('No data found for', p['molecule'], p['band'])\n",
    "        else: \n",
    "            fluxs.append(load_output_file(io.StringIO(r['output_flux'])))\n",
    "            cools.append(load_output_file(io.StringIO(r['output_coolr'])))\n",
    "    return dict(flux=sum(fluxs), cool=sum(cools))"
   ]
  },
  {
   "cell_type": "code",
   "execution_count": 10,
   "metadata": {
    "collapsed": true,
    "scrolled": false
   },
   "outputs": [],
   "source": [
    "def load_lblnew_data(r):\n",
    "    '''\n",
    "    Loads a lblnew-bestfit mongodb document's fluxes and cooling rates.\n",
    "    '''\n",
    "    if 'ng_refs' in r['param']:\n",
    "        ns = {'ds_flux_crd': 'output_flux',\n",
    "              'ds_cool_crd': 'output_coolr',\n",
    "              'ds_flux_wgt': 'output_wfluxg',\n",
    "              'ds_cool_wgt': 'output_wcoolrg'}\n",
    "    else:\n",
    "        ns = {'ds_flux_crd': 'output_flux',\n",
    "              'ds_cool_crd': 'output_coolr',\n",
    "              'ds_flux_wgt': 'output_wflux',\n",
    "              'ds_cool_wgt': 'output_wcoolr'}\n",
    "    return {n: load_output_file(io.StringIO(r[s])) for n, s in ns.items()}\n",
    "\n",
    "def subparams_atm_lblnew(atmpro='mls'):\n",
    "    '''\n",
    "    Returns the list of {band, conc, molecule} dictionaries that\n",
    "    represent the model atmosphere.\n",
    "    '''  \n",
    "    atm = nongreys_byband()\n",
    "    subparams_clirad = [dict(band=[band], \n",
    "                             molecule={mol: conc for mol, conc in molconc.items() if mol == MOL},\n",
    "                             atmpro=atmpro, tsfc=ATMPRO[atmpro]) \n",
    "                        for band, molconc in atm.items() if MOL in molconc]\n",
    "    return [to_lblnewparam(p) for p in subparams_clirad]\n",
    "\n",
    "def crd_data_atm(params_atm=None):\n",
    "    '''\n",
    "    Returns Dataset containing CRD fluxes and cooling rates at\n",
    "    different pressures and spectral bands.\n",
    "    '''\n",
    "    results_atm = {}\n",
    "    for p in params_atm:\n",
    "        if isinstance(p['molecule'], dict): \n",
    "            collection = client.lblnew.overlap_lw\n",
    "        else: \n",
    "            collection = client.lblnew.bestfit_lw\n",
    "        \n",
    "        q = make_query(p)\n",
    "        r = collection.find_one(q)\n",
    "        if not r: print('No data found for', p['molecule'], p['band'])\n",
    "        else: results_atm[r['param']['band']] = load_lblnew_data(r)\n",
    "\n",
    "    bands = [mapband_old2new()[b] for b, _ in results_atm.items()]\n",
    "    fluxs = [d['ds_flux_crd'] for _, d in results_atm.items()]\n",
    "    cools = [d['ds_cool_crd'] for _, d in results_atm.items()]\n",
    "    \n",
    "    d = {}\n",
    "    d['flux'] = xr.concat(fluxs, dim=bands).rename({'concat_dim': 'band'})\n",
    "    d['cool'] = xr.concat(cools, dim=bands).rename({'concat_dim': 'band'})\n",
    "    return d"
   ]
  },
  {
   "cell_type": "code",
   "execution_count": 11,
   "metadata": {
    "collapsed": true
   },
   "outputs": [],
   "source": [
    "import rtmtools.clirad.sw.wrangle as cliradwrangle\n",
    "\n",
    "def oldclirad_data_atm():\n",
    "    '''\n",
    "    Load the OLD clirad's results. mls only.\n",
    "    '''\n",
    "    fpath = os.path.join('/chia_cluster/home/jackyu/radiation',\n",
    "                         'clirad-lw',\n",
    "                         'LW',\n",
    "                         'examples',\n",
    "                         'mls75_h2o_atmpro_co2_.0004_o3_atmpro_n2o_3.2e-7_ch4_1.8e-6_H2012',\n",
    "                         'OUTPUT_CLIRAD.dat')\n",
    "    \n",
    "    ds = cliradwrangle.load_OUTPUT_CLIRAD(readfrom=fpath)\n",
    "    \n",
    "    ds_cool = xr.Dataset()\n",
    "    ds_cool.coords['pressure'] = ('pressure', ds['layer_pressure'])\n",
    "    ds_cool.coords['band'] = ('band', ds['spectral_band'])\n",
    "    ds_cool['coolrg'] = (('band', 'pressure'), - ds['heating_rate'])\n",
    "    \n",
    "    ds_flux = xr.Dataset()\n",
    "    ds_flux.coords['pressure'] = ('pressure', ds['level_pressure'])\n",
    "    ds_flux.coords['band'] = ('band', ds['spectral_band'])\n",
    "    ds_flux['flug'] = (('band', 'pressure'), ds['flux_up'])\n",
    "    ds_flux['fldg'] = (('band', 'pressure'), ds['flux_down'])\n",
    "    ds_flux['fnetg'] = (('band', 'pressure'), ds['net_flux'])\n",
    "    \n",
    "    \n",
    "    d = {}\n",
    "    d['cool'] = ds_cool\n",
    "    d['flux'] = ds_flux\n",
    "    return d"
   ]
  },
  {
   "cell_type": "code",
   "execution_count": 12,
   "metadata": {
    "collapsed": true
   },
   "outputs": [],
   "source": [
    "def show_makeup():\n",
    "    df = pd.DataFrame()\n",
    "\n",
    "    for band, molecule in nongreys_byband().items():\n",
    "        for name, conc in molecule.items():\n",
    "            if name == MOL:\n",
    "                df.loc[name, band] = str(conc)\n",
    "\n",
    "    df = df.fillna(0)\n",
    "    df.columns.name = 'clirad band'\n",
    "    df.index.name = 'molecule'\n",
    "    \n",
    "    display.display(df)\n",
    "    \n",
    "    display.display(\n",
    "        display.Markdown('*TABLE.* Non-grey absorbers in the atmosphere.'))\n",
    "\n",
    "\n",
    "def show_grey_makeup():\n",
    "    df = pd.DataFrame()\n",
    "    \n",
    "    for band, molecule in greyabsorbers_by_band_atm().items():\n",
    "        if molecule == None:\n",
    "            pass\n",
    "        else:\n",
    "            for name, conc in molecule.items():\n",
    "                df.loc[name, band] = str(conc)\n",
    "                \n",
    "    df = df.fillna(0)\n",
    "    df.columns.name = 'clirad band'\n",
    "    df.index.name = 'absorber'\n",
    "    \n",
    "    display.display(df)\n",
    "    display.display(\n",
    "        display.Markdown('*TABLE.* Grey absorbers in the atmosphere.')\n",
    "    )"
   ]
  },
  {
   "cell_type": "code",
   "execution_count": 13,
   "metadata": {
    "collapsed": true
   },
   "outputs": [],
   "source": [
    "def fmt_cool(ds_in):\n",
    "    ds = ds_in.copy(deep=True)\n",
    "    dims = ['igg', 'g', 'i']\n",
    "    for dim in dims:\n",
    "        if dim in ds:\n",
    "            if ds[dim].shape == (1,): ds = ds.squeeze(dim).drop(dim)\n",
    "            elif ds[dim].shape == (): ds = ds.drop(dim)\n",
    "    if 'band' in ds.dims:\n",
    "        try:\n",
    "            ds = ds.squeeze('band')\n",
    "        except ValueError:\n",
    "            ds = ds.sum('band')     \n",
    "    return ds['coolrg']\n",
    "\n",
    "def nice_xlims(pltdata=None, prange=None):\n",
    "    \n",
    "    def get_slice(srs):\n",
    "        return srs.sel(pressure=slice(*prange))\n",
    "    \n",
    "    srss = [d['srs'] for d in pltdata]\n",
    "    vmin = min([get_slice(srs).min() for srs in srss])\n",
    "    vmax = max([get_slice(srs).max() for srs in srss])\n",
    "    dv = (vmax - vmin) * .01\n",
    "    return float(vmin - dv), float(vmax + dv)\n",
    " \n",
    "def plt_cool_bokeh(pltdata=None, \n",
    "                   y_axis_type='linear', prange=(50, 1050)):\n",
    "    \n",
    "    ymin = 1e-2 \n",
    "    ymax = 1020\n",
    "    \n",
    "    p2 = figure(y_axis_type=y_axis_type, plot_width=300)\n",
    "    xmin, xmax = nice_xlims(pltdata, prange=prange)\n",
    "    \n",
    "    rs = []\n",
    "    for d in pltdata:\n",
    "        rd = []\n",
    "        if 'marker' in d:\n",
    "            r_mark = getattr(p2, d['marker'])(d['srs'].values, \n",
    "                        d['srs'].coords['pressure'].values,\n",
    "                        color=d['color'], alpha=.7)\n",
    "            rd.append(r_mark)\n",
    "        r_line = p2.line(d['srs'].values, \n",
    "                         d['srs'].coords['pressure'].values,\n",
    "                         color=d['color'], alpha=d['alpha'], \n",
    "                         line_width=d['line_width'], \n",
    "                         line_dash=d['line_dash'])\n",
    "        rd.append(r_line)\n",
    "      \n",
    "        rs.append(rd)\n",
    "        \n",
    "    p2.y_range = Range1d(ymax, ymin)  \n",
    "    p2.yaxis.axis_label = 'pressure [mb]'\n",
    "    \n",
    "    p2.x_range = Range1d(xmin, xmax)\n",
    "    p2.xaxis.axis_label = 'cooling rate [K/day]'\n",
    "    \n",
    "    items = [(d['label'], r) for r, d in zip(rs, pltdata)]\n",
    "    legend = Legend(items=items, location=(10, 0))\n",
    "    legend.label_text_font_size = '8pt'\n",
    "    p2.add_layout(legend, 'above')\n",
    "    p2.legend.orientation = 'horizontal'\n",
    "    p2.legend.location = 'top_center'\n",
    "    \n",
    "    return p2"
   ]
  },
  {
   "cell_type": "code",
   "execution_count": 14,
   "metadata": {
    "collapsed": true,
    "scrolled": false
   },
   "outputs": [],
   "source": [
    "def pltdata_cool(atmpro='mls'):\n",
    "    ds_clirad = clirad_data_atm(params_atm=[subparam_atm_clirad(atmpro=atmpro)])['cool']\n",
    "    ds_crd = crd_data_atm(params_atm=subparams_atm_lblnew(atmpro=atmpro))['cool']\n",
    "\n",
    "    colors = all_palettes['Set1'][4]\n",
    "    \n",
    "    data = [\n",
    "        {'label': 'CLIRAD',\n",
    "         'srs': fmt_cool(ds_clirad),\n",
    "         'line_dash': 'dashed', 'line_width': 5,\n",
    "         'color': colors[0], 'alpha': .6},\n",
    "        {'label': 'CRD',\n",
    "         'srs': fmt_cool(ds_crd),\n",
    "         'line_dash': 'solid', 'line_width': 1.5,\n",
    "         'marker': 'circle', 'marker_size': 5,\n",
    "         'color': colors[2], 'alpha': 1}\n",
    "    ]\n",
    "    \n",
    "    # include old CLIRAD's results for mls profile\n",
    "#    if atmpro == 'mls':\n",
    "#        d_oldclirad = oldclirad_data_atm()\n",
    "#        ds_oldclirad = d_oldclirad['cool']        \n",
    "#        data.append(\n",
    "#            {'label': 'old CLIRAD (H2012)',\n",
    "#             'srs': fmt_cool(ds_oldclirad),\n",
    "#             'line_dash': 'solid', 'line_width': 1.5,\n",
    "#             'marker': 'square', 'marker_size': 3,\n",
    "#             'color': colors[3], 'alpha': .5})\n",
    "    return data\n",
    "\n",
    "\n",
    "def pltdata_cooldiff(atmpro='mls'):\n",
    "    ds_clirad = clirad_data_atm(params_atm=[subparam_atm_clirad(atmpro=atmpro)])['cool']\n",
    "    ds_crd = crd_data_atm(params_atm=subparams_atm_lblnew(atmpro=atmpro))['cool']    \n",
    "    \n",
    "    ds_diff = ds_clirad - ds_crd\n",
    "    \n",
    "    colors = all_palettes['Set1'][4]\n",
    "    \n",
    "    data = [\n",
    "        {'label': 'CLIRAD - CRD',\n",
    "         'srs': fmt_cool(ds_diff),\n",
    "         'line_dash': 'solid', 'line_width': 1.5, \n",
    "         'marker': 'circle', 'marker_size': 7,\n",
    "         'color': colors[3], 'alpha': .8}\n",
    "    ]\n",
    "    \n",
    "    # include old CLIRAD's results for mls profile\n",
    "#    if atmpro == 'mls':\n",
    "#        d_oldclirad = oldclirad_data_atm()\n",
    "#        ds_oldclirad = d_oldclirad['cool']\n",
    "#        ds_oldclirad.coords['pressure'] = ds_crd.coords['pressure']\n",
    "#        ds_diff_old = ds_oldclirad.sum('band') - ds_crd.sum('band')\n",
    "#        data.append(\n",
    "#            {'label': 'old CLIRAD (H2012) - CRD',\n",
    "#             'srs': fmt_cool(ds_diff_old),\n",
    "#             'line_dash': 'dashed', 'line_width': 4,\n",
    "#             'color': colors[1], 'alpha': .5}\n",
    "#        )\n",
    "    return data\n",
    "\n",
    "\n",
    "def show_cool(atmpro='mls'):\n",
    "    data_cool = pltdata_cool(atmpro=atmpro)\n",
    "    p_cool_liny = plt_cool_bokeh(pltdata=data_cool)\n",
    "    p_cool_logy = plt_cool_bokeh(pltdata=data_cool, \n",
    "                                 y_axis_type='log',\n",
    "                                 prange=(.01, 200))\n",
    "    \n",
    "    data_cooldiff = pltdata_cooldiff(atmpro=atmpro)\n",
    "    p_cooldiff_logy = plt_cool_bokeh(pltdata=data_cooldiff,\n",
    "                                     y_axis_type='log',\n",
    "                                     prange=(.01, 200))\n",
    "    \n",
    "    everything = gridplot(p_cool_liny, p_cool_logy, \n",
    "                          p_cooldiff_logy,\n",
    "                          ncols=3)\n",
    "    show(everything)\n",
    "    display.display(\n",
    "        display.Markdown('*FIGURE.* Cooling rates & difference.'))\n",
    "    "
   ]
  },
  {
   "cell_type": "code",
   "execution_count": 15,
   "metadata": {
    "collapsed": true,
    "scrolled": false
   },
   "outputs": [],
   "source": [
    "def fmt_flux(ds_in):\n",
    "    ds = ds_in.copy(deep=True)\n",
    "    for dim in ['band', 'g']:\n",
    "        if dim in ds: ds = ds.sum(dim)\n",
    "        \n",
    "    for dim in ['i', 'igg', 'g']:\n",
    "        if dim in ds:\n",
    "            if ds[dim].shape == (1,): ds = ds.squeeze(dim).drop(dim)\n",
    "            elif ds[dim].shape == (): ds = ds.drop(dim)\n",
    "    return ds\n",
    "\n",
    "def hist_band_vs_flux(da, title='Title'):\n",
    "    da = da.sel(i=1)\n",
    "    bands = [str(b.values) for b in da['band']]\n",
    "    source = ColumnDataSource(data={'band': bands, 'flux': da.values})\n",
    "    p = figure(x_range=bands, title=title)\n",
    "    p.vbar(source=source, x='band', top='flux', width=.9)\n",
    "    p.yaxis.axis_label = 'flux (W m-2)'\n",
    "    p.xaxis.axis_label = 'spectral band'\n",
    "    return p\n",
    "\n",
    "def show_hist_flux(atmpro='mls'):\n",
    "    ds_crd = crd_data_atm(params_atm=subparams_atm_lblnew(atmpro=atmpro))['flux']\n",
    "    ds_clirad = clirad_data_atm(params_atm=[subparam_atm_clirad(atmpro=atmpro)])['flux']\n",
    "    \n",
    "    ip, varname = 0, 'flug'\n",
    "    da = (ds_clirad - ds_crd).isel(pressure=ip)[varname]\n",
    "    p_toa = hist_band_vs_flux(da, title='TOA flux. CLIRAD - CRD.')\n",
    "\n",
    "    ip, varname = -1, 'fldg'\n",
    "    da = (ds_clirad - ds_crd).isel(pressure=ip)[varname]\n",
    "    p_sfc = hist_band_vs_flux(da, title='SFC flux. CLIRAD - CRD.')    \n",
    "    \n",
    "    atm_crd = (ds_crd.isel(pressure=0) - ds_crd.isel(pressure=-1))['fnetg']\n",
    "    atm_clirad = (ds_clirad.isel(pressure=0) - ds_clirad.isel(pressure=-1))['fnetg']\n",
    "    da = atm_clirad - atm_crd\n",
    "    p_atm = hist_band_vs_flux(da, title='Atmosphere heating. CLIRAD - CRD.')\n",
    "\n",
    "    everything = gridplot(p_toa, p_sfc, p_atm, ncols=3, plot_width=300, plot_height=300)\n",
    "    \n",
    "    show(everything)\n",
    "    display.display(\n",
    "        display.Markdown('*FIGURE.* Difference between CLIRAD and CRD'\n",
    "          ' in TOA, SFC and net atmosphere flux,'\n",
    "          ' in each spectral band.'))\n",
    "\n",
    "def show_tb_flux(atmpro='mls'):\n",
    "    \n",
    "    def fmt(da_in):\n",
    "        da = da_in.copy(deep=True)\n",
    "        if 'igg' in da.dims:\n",
    "            da = da.sel(igg=1)\n",
    "            \n",
    "        if 'g' in da.dims:\n",
    "            da = da.sum('g')\n",
    "        \n",
    "        if 'band' in da.dims:\n",
    "            try:\n",
    "                da = da.squeeze('band')\n",
    "            except ValueError:\n",
    "                da = da.sum('band')\n",
    "                \n",
    "        return da\n",
    "    \n",
    "    ds_crd = crd_data_atm(params_atm=subparams_atm_lblnew(atmpro=atmpro))['flux']\n",
    "    olr_crd = ds_crd['flug'].isel(pressure=0)\n",
    "    sfc_crd = ds_crd['fldg'].isel(pressure=-1)\n",
    "    atm_crd = (ds_crd.isel(pressure=0) - ds_crd.isel(pressure=-1))['fnetg']\n",
    "    \n",
    "    ds_clirad = clirad_data_atm(params_atm=[subparam_atm_clirad(atmpro=atmpro)])['flux']\n",
    "    olr_clirad = ds_clirad['flug'].isel(pressure=0)\n",
    "    sfc_clirad = ds_clirad['fldg'].isel(pressure=-1)\n",
    "    atm_clirad = (ds_clirad.isel(pressure=0) - ds_clirad.isel(pressure=-1))['fnetg']\n",
    "    \n",
    "#    if atmpro == 'mls':\n",
    "#        ds_oldclirad = oldclirad_data_atm()['flux']\n",
    "#        ds_oldclirad['pressure'] = ds_crd['pressure']\n",
    "#        olr_oldclirad = ds_oldclirad['flug'].isel(pressure=0)\n",
    "#        sfc_oldclirad = ds_oldclirad['fldg'].isel(pressure=-1)\n",
    "#        atm_oldclirad = (ds_oldclirad.isel(pressure=0)\n",
    "#                         - ds_oldclirad.isel(pressure=-1))['fnetg']\n",
    "        \n",
    "    df = pd.DataFrame()\n",
    "    df.index.name = 'Sum over bands'\n",
    "    \n",
    "#    if atmpro == 'mls':\n",
    "#        df.loc['old CLIRAD - CRD', 'OLR flux'] = (fmt(olr_oldclirad) - fmt(olr_crd)).values\n",
    "#        df.loc['old CLIRAD - CRD', 'SFC flux'] = (fmt(sfc_oldclirad) - fmt(sfc_crd)).values\n",
    "#        df.loc['old CLIRAD - CRD', 'ATM heating'] = (fmt(atm_oldclirad) - fmt(atm_crd)).values\n",
    "    \n",
    "    df.loc['CLIRAD - CRD', 'OLR flux'] = (fmt(olr_clirad) - fmt(olr_crd)).values\n",
    "    df.loc['CLIRAD - CRD', 'SFC flux'] = (fmt(sfc_clirad) - fmt(sfc_crd)).values\n",
    "    df.loc['CLIRAD - CRD', 'ATM heating'] = (fmt(atm_clirad) - fmt(atm_crd)).values\n",
    "\n",
    "    df.loc['CRD', 'OLR flux'] = fmt(olr_crd).values\n",
    "    df.loc['CRD', 'SFC flux'] = fmt(sfc_crd).values\n",
    "    df.loc['CRD', 'ATM heating'] = fmt(atm_crd).values\n",
    "        \n",
    "    df = df.astype('float').round(2)\n",
    "    \n",
    "    display.display(df)\n",
    "    display.display(\n",
    "        display.Markdown('*TABLE.* Difference between CLIRAD and CRD'\n",
    "          ' in TOA, SFC and net atmosphere flux,'\n",
    "          ' over all spectral bands. CRD\\'s'\n",
    "          ' TOA, SFC and net atmosphere flux,'\n",
    "          ' over all spectral bands.'))"
   ]
  },
  {
   "cell_type": "code",
   "execution_count": 16,
   "metadata": {
    "collapsed": true,
    "scrolled": true
   },
   "outputs": [],
   "source": [
    "def cool_tofile(atmpro=None):\n",
    "    dcli = clirad_data_atm(params_atm=[subparam_atm_clirad(atmpro=atmpro)])\n",
    "    dcrd = crd_data_atm(params_atm=subparams_atm_lblnew(atmpro=atmpro))\n",
    "    \n",
    "    dcli = dcli['cool'].sel(i=1).drop('i').sum('band')\n",
    "    dcrd = dcrd['cool'].sum('band')\n",
    "    \n",
    "    dcli = dcli['coolrg'].to_dataframe()\n",
    "    dcrd = dcrd['coolrg'].to_dataframe()\n",
    "    \n",
    "    dcli = dcli.set_index('layer', append=True)\n",
    "    dcrd = dcrd.set_index('layer', append=True)\n",
    "    \n",
    "    ddif = dcli - dcrd\n",
    "    \n",
    "    df = pd.concat([dcrd, dcli, ddif], axis=1, keys=['CRD', 'CLIRAD', 'CLIRAD - CRD'])\n",
    "    return df\n",
    "\n",
    "\n",
    "def flux_tofile(atmpro=None):\n",
    "    tropopauses = {'mls': 40, 'saw': 45, 'trp': 37}\n",
    "    ilevels = [0, tropopauses[atmpro], -1]\n",
    "    \n",
    "    dcli = clirad_data_atm(params_atm=[subparam_atm_clirad(atmpro=atmpro)])\n",
    "    dcrd = crd_data_atm(params_atm=subparams_atm_lblnew(atmpro=atmpro))\n",
    "    \n",
    "    dcli = dcli['flux'].sel(i=1).drop('i').sum('band').isel(pressure=ilevels)\n",
    "    dcrd = dcrd['flux'].sum('band').isel(pressure=ilevels)\n",
    "    \n",
    "    dcli = dcli.to_dataframe()\n",
    "    dcrd = dcrd.to_dataframe()\n",
    "    \n",
    "    dcli = dcli.set_index('level', append=True)\n",
    "    dcrd = dcrd.set_index('level', append=True)\n",
    "    \n",
    "    ddif = dcli - dcrd\n",
    "    \n",
    "    df = pd.concat([dcrd, dcli, ddif], axis=1, keys=['CRD', 'CLIRAD', 'CLIRAD - CRD'])\n",
    "    return df\n",
    "\n",
    "\n",
    "def script_tofile():\n",
    "    fname = f'results_{MOL}atm_cliradsinglerun-Copy2.xlsx'\n",
    "    writer = pd.ExcelWriter(fname)\n",
    "    for atmpro in ('mls', 'saw', 'trp'):\n",
    "        dflux = flux_tofile(atmpro=atmpro)\n",
    "        dflux.to_excel(writer, f'flux {atmpro}')\n",
    "        \n",
    "        dcool = cool_tofile(atmpro=atmpro)\n",
    "        dcool.to_excel(writer, f'cool {atmpro}')\n",
    "        \n",
    "    html = f'Download: <a href=\"./{fname}\">{fname}</a>'\n",
    "    show_html(html)\n",
    "\n",
    "        "
   ]
  },
  {
   "cell_type": "code",
   "execution_count": 17,
   "metadata": {
    "scrolled": false
   },
   "outputs": [
    {
     "data": {
      "text/markdown": [
       "## Results over entire range of molecules and spectral bands"
      ],
      "text/plain": [
       "<IPython.core.display.Markdown object>"
      ]
     },
     "metadata": {},
     "output_type": "display_data"
    },
    {
     "data": {
      "text/markdown": [
       "### Table of Contents"
      ],
      "text/plain": [
       "<IPython.core.display.Markdown object>"
      ]
     },
     "metadata": {},
     "output_type": "display_data"
    },
    {
     "data": {
      "text/html": [
       "<a href=\"#Makeup_of_atmosphere.\">Makeup of atmosphere.</a>"
      ],
      "text/plain": [
       "<IPython.core.display.HTML object>"
      ]
     },
     "metadata": {},
     "output_type": "display_data"
    },
    {
     "data": {
      "text/markdown": [
       "**mid-latitude summer**"
      ],
      "text/plain": [
       "<IPython.core.display.Markdown object>"
      ]
     },
     "metadata": {},
     "output_type": "display_data"
    },
    {
     "data": {
      "text/html": [
       "<a href=\"#Cooling_rates._mls.\">Cooling rates. mls.</a>"
      ],
      "text/plain": [
       "<IPython.core.display.HTML object>"
      ]
     },
     "metadata": {},
     "output_type": "display_data"
    },
    {
     "data": {
      "text/html": [
       "<a href=\"#Fluxes._mls.\">Fluxes. mls.</a>"
      ],
      "text/plain": [
       "<IPython.core.display.HTML object>"
      ]
     },
     "metadata": {},
     "output_type": "display_data"
    },
    {
     "data": {
      "text/markdown": [
       "**sub-arctic winter**"
      ],
      "text/plain": [
       "<IPython.core.display.Markdown object>"
      ]
     },
     "metadata": {},
     "output_type": "display_data"
    },
    {
     "data": {
      "text/html": [
       "<a href=\"#Cooling_rates._saw.\">Cooling rates. saw.</a>"
      ],
      "text/plain": [
       "<IPython.core.display.HTML object>"
      ]
     },
     "metadata": {},
     "output_type": "display_data"
    },
    {
     "data": {
      "text/html": [
       "<a href=\"#Fluxes._saw.\">Fluxes. saw.</a>"
      ],
      "text/plain": [
       "<IPython.core.display.HTML object>"
      ]
     },
     "metadata": {},
     "output_type": "display_data"
    },
    {
     "data": {
      "text/markdown": [
       "**tropical**"
      ],
      "text/plain": [
       "<IPython.core.display.Markdown object>"
      ]
     },
     "metadata": {},
     "output_type": "display_data"
    },
    {
     "data": {
      "text/html": [
       "<a href=\"#Cooling_rates._trp.\">Cooling rates. trp.</a>"
      ],
      "text/plain": [
       "<IPython.core.display.HTML object>"
      ]
     },
     "metadata": {},
     "output_type": "display_data"
    },
    {
     "data": {
      "text/html": [
       "<a href=\"#Fluxes._trp.\">Fluxes. trp.</a>"
      ],
      "text/plain": [
       "<IPython.core.display.HTML object>"
      ]
     },
     "metadata": {},
     "output_type": "display_data"
    },
    {
     "data": {
      "text/html": [
       "<a id=\"Makeup_of_atmosphere.\"></a>"
      ],
      "text/plain": [
       "<IPython.core.display.HTML object>"
      ]
     },
     "metadata": {},
     "output_type": "display_data"
    },
    {
     "data": {
      "text/markdown": [
       "# Makeup of atmosphere."
      ],
      "text/plain": [
       "<IPython.core.display.Markdown object>"
      ]
     },
     "metadata": {},
     "output_type": "display_data"
    },
    {
     "data": {
      "text/html": [
       "<div>\n",
       "<style scoped>\n",
       "    .dataframe tbody tr th:only-of-type {\n",
       "        vertical-align: middle;\n",
       "    }\n",
       "\n",
       "    .dataframe tbody tr th {\n",
       "        vertical-align: top;\n",
       "    }\n",
       "\n",
       "    .dataframe thead th {\n",
       "        text-align: right;\n",
       "    }\n",
       "</style>\n",
       "<table border=\"1\" class=\"dataframe\">\n",
       "  <thead>\n",
       "    <tr style=\"text-align: right;\">\n",
       "      <th>clirad band</th>\n",
       "      <th>9</th>\n",
       "    </tr>\n",
       "    <tr>\n",
       "      <th>molecule</th>\n",
       "      <th></th>\n",
       "    </tr>\n",
       "  </thead>\n",
       "  <tbody>\n",
       "    <tr>\n",
       "      <th>ch4</th>\n",
       "      <td>1.8e-06</td>\n",
       "    </tr>\n",
       "  </tbody>\n",
       "</table>\n",
       "</div>"
      ],
      "text/plain": [
       "clirad band        9\n",
       "molecule            \n",
       "ch4          1.8e-06"
      ]
     },
     "metadata": {},
     "output_type": "display_data"
    },
    {
     "data": {
      "text/markdown": [
       "*TABLE.* Non-grey absorbers in the atmosphere."
      ],
      "text/plain": [
       "<IPython.core.display.Markdown object>"
      ]
     },
     "metadata": {},
     "output_type": "display_data"
    },
    {
     "data": {
      "text/html": [
       "<a id=\"Cooling_rates._mls.\"></a>"
      ],
      "text/plain": [
       "<IPython.core.display.HTML object>"
      ]
     },
     "metadata": {},
     "output_type": "display_data"
    },
    {
     "data": {
      "text/markdown": [
       "# Cooling rates. mls."
      ],
      "text/plain": [
       "<IPython.core.display.Markdown object>"
      ]
     },
     "metadata": {},
     "output_type": "display_data"
    },
    {
     "data": {
      "text/html": [
       "\n",
       "<div class=\"bk-root\">\n",
       "    <div class=\"bk-plotdiv\" id=\"d4edf7eb-ce76-44b9-a933-314ae693d8bd\"></div>\n",
       "</div>"
      ]
     },
     "metadata": {},
     "output_type": "display_data"
    },
    {
     "data": {
      "application/javascript": [
       "(function(root) {\n",
       "  function embed_document(root) {\n",
       "    \n",
       "  var docs_json = {\"81b57397-9649-4452-b070-8fa519adc480\":{\"roots\":{\"references\":[{\"attributes\":{\"overlay\":{\"id\":\"a992d2fb-dc07-404e-9f64-9fa27a91bbf1\",\"type\":\"BoxAnnotation\"}},\"id\":\"dc4c26d3-a043-4f9e-b0e9-768dcaa7bbc5\",\"type\":\"BoxZoomTool\"},{\"attributes\":{},\"id\":\"af2fe65e-cca1-49e4-bc0e-b439f6de64e8\",\"type\":\"SaveTool\"},{\"attributes\":{},\"id\":\"ee2de412-4350-4736-b27c-150b831630f6\",\"type\":\"HelpTool\"},{\"attributes\":{},\"id\":\"84568bf8-4357-4d55-bd28-1e1cc605a971\",\"type\":\"BasicTickFormatter\"},{\"attributes\":{\"axis_label\":\"pressure [mb]\",\"formatter\":{\"id\":\"23658b3c-6bc5-4c07-874d-1f0e982f656e\",\"type\":\"BasicTickFormatter\"},\"plot\":{\"id\":\"01a10f74-e35d-4345-9c8c-478cea7f35a9\",\"subtype\":\"Figure\",\"type\":\"Plot\"},\"ticker\":{\"id\":\"167ae729-00fc-4c82-a11c-eb8431bd74cb\",\"type\":\"BasicTicker\"}},\"id\":\"5949a07b-f419-46aa-9d41-cec9cbdb330e\",\"type\":\"LinearAxis\"},{\"attributes\":{},\"id\":\"fe4a3fb3-d2ac-4b13-af46-6e7d77266ee2\",\"type\":\"PanTool\"},{\"attributes\":{\"axis_label\":\"cooling rate [K/day]\",\"formatter\":{\"id\":\"02b21d41-b224-4bf3-8f2b-cde81b5ce0bf\",\"type\":\"BasicTickFormatter\"},\"plot\":{\"id\":\"851a44ea-ef20-427c-ab68-4a356f03d3a3\",\"subtype\":\"Figure\",\"type\":\"Plot\"},\"ticker\":{\"id\":\"4faba75a-ddb9-4ea8-9a31-ded6562496c6\",\"type\":\"BasicTicker\"}},\"id\":\"c4cfbe01-eebe-49af-a930-adcb7988a7e0\",\"type\":\"LinearAxis\"},{\"attributes\":{\"source\":{\"id\":\"ba38e68a-20cb-4ed1-aec3-4390b9f1fc8b\",\"type\":\"ColumnDataSource\"}},\"id\":\"6d637225-344b-4269-8276-c0e070af6c9e\",\"type\":\"CDSView\"},{\"attributes\":{},\"id\":\"c4d20dd3-8a1e-4f0e-b1ce-9e05405f699b\",\"type\":\"LogScale\"},{\"attributes\":{\"above\":[{\"id\":\"0c26a389-497c-4e1f-b3fd-9dfeaf473b87\",\"type\":\"Legend\"}],\"below\":[{\"id\":\"c4cfbe01-eebe-49af-a930-adcb7988a7e0\",\"type\":\"LinearAxis\"}],\"left\":[{\"id\":\"d66cdeec-2ae6-48c6-99a1-983fc9f7a9fc\",\"type\":\"LogAxis\"}],\"plot_width\":300,\"renderers\":[{\"id\":\"c4cfbe01-eebe-49af-a930-adcb7988a7e0\",\"type\":\"LinearAxis\"},{\"id\":\"b5462dec-37e4-4f5b-9e7e-d7e0e70f71a2\",\"type\":\"Grid\"},{\"id\":\"d66cdeec-2ae6-48c6-99a1-983fc9f7a9fc\",\"type\":\"LogAxis\"},{\"id\":\"582ed90c-2c09-479f-90d0-f23f71ee0828\",\"type\":\"Grid\"},{\"id\":\"a992d2fb-dc07-404e-9f64-9fa27a91bbf1\",\"type\":\"BoxAnnotation\"},{\"id\":\"ead19c4e-5b14-41f8-9b9e-3f22896b0174\",\"type\":\"GlyphRenderer\"},{\"id\":\"45e70d7e-b19b-4008-8af5-b7e9bb7a1b99\",\"type\":\"GlyphRenderer\"},{\"id\":\"0c26a389-497c-4e1f-b3fd-9dfeaf473b87\",\"type\":\"Legend\"}],\"title\":{\"id\":\"219a3c0b-080c-44bd-9f4f-7e97de92bf29\",\"type\":\"Title\"},\"toolbar\":{\"id\":\"766f5c41-1bbf-41ad-942b-c7b840919d8c\",\"type\":\"Toolbar\"},\"toolbar_location\":null,\"x_range\":{\"id\":\"d7c84f42-6069-49e4-9fda-ec828f8041e7\",\"type\":\"Range1d\"},\"x_scale\":{\"id\":\"0e6f205c-9462-462d-a0ed-704faaf46da5\",\"type\":\"LinearScale\"},\"y_range\":{\"id\":\"157389c2-16d2-42ca-9464-384a244807ad\",\"type\":\"Range1d\"},\"y_scale\":{\"id\":\"c4d20dd3-8a1e-4f0e-b1ce-9e05405f699b\",\"type\":\"LogScale\"}},\"id\":\"851a44ea-ef20-427c-ab68-4a356f03d3a3\",\"subtype\":\"Figure\",\"type\":\"Plot\"},{\"attributes\":{},\"id\":\"f78d34ce-8146-4ff9-b666-ffcd829edd01\",\"type\":\"ResetTool\"},{\"attributes\":{\"overlay\":{\"id\":\"d3da98d5-b8e4-497b-8d1d-e5ba621912aa\",\"type\":\"BoxAnnotation\"}},\"id\":\"83477dc9-ae27-4772-b9eb-a2e2a39cd23c\",\"type\":\"BoxZoomTool\"},{\"attributes\":{\"callback\":null,\"data\":{\"x\":{\"__ndarray__\":\"qIa5gVunpD9UKbWYUYykP5XKBJF/RaQ/BlvnPaD8oz/yUZ8USLGjP57FtU4acqM/uJFFqaM0oz+LMaNk4QejPyrZQnQu46I/3d0cEQDaoj832rPfweyiPwGatdJzJKM/N1PDrIeXoz+3L1PSRFGkP88f5AaNqqQ/PeqHj4oqoz+QRsbpcuqfP97rrjCgvpg/CvTLWBsAkT8oJqZzlG+BPwBUCOQSRy6/4FD/k55thr+wIa3OvcmTv0CyFCQRdYK/0AVWxJ+XiD/IU1bT9USXP8CZW8urDZY/NOjSX7Joiz84yZ1s37BwP2huL7BhYmC/gOMq2H8Lbb/qCID0xKhgvyCIRktruRY/MvCQpFP3Uj/tuQtW1TlRP4AX6FdNcC4/4CnE87fcR78Qhbo7dypcv9hz/DFcBmS/CG5eTmn6Zb/gdb9oYd9mvxiLnkJLqmi/WPmRZwYNZ7/AeBKAm59kvwjutappOmK/wD2wknhBYL+wjK/Yhz5dv+Czg1EWrFu/mFI1GQywWr+4dyCU8rhav5jLZKsY3Vu/HGStCt34Xb/+ZifqYTRfvxtpS4choGC/16IMa1/GYb/+iw+GzcZivzKpAckLl2O/QLsDAZkyZL9Qk2ZHOJpkv7BsFROHq2S/0Bi0yitbZL8orPWUiC9kv7j09ueiIWO/wK08+r8gYr9gaqTVK41hv0BnvXg8tmC/8OccVbA6YL8AhcATePxev4DGI/1lE1q/YJ5mxZOEVL+AUPcdnZxMv4DZAoQHtEG/AH28kg86O78ACLVW6Ss+v8Afp1fmh1O/\",\"dtype\":\"float64\",\"shape\":[75]},\"y\":{\"__ndarray__\":\"GhExyth1ND/Sv8nbtpRIP2vylNV0PVE/aTum7souWD/At0SJ8fVgPw3Iuahxymc/MSNhhJWvcD/bTfBN02d3P2zb5nxnaoA/CD5h5MAGhz8NmeH1TyaQP+zrCsc9p5Y/LbKd76fGnz/bLW5ISEmmPww9YvTcQq8/JV2OstnstT8Er5Y7M8G+P0c+r3jqkcU/5h99k6ZBzj88bCIzFzjVP4enV8oyxN0//yH99nXg5D8qOpLLf0jtP5kqGJXUifQ/c9cS8kHP/D+/DpwzojQEQIEmwoanVwxA4lgXt9HgE0BSSZ2AJuIbQAMJih9jjiNA5q4l5INuK0AwTKYKRj0zQNv5fmq8/DpAaCJseHrtQkB/+zpwzoxKQM3MzMzMeFJAZmZmZmZqWEAAAAAAAFxeQM3MzMzMJmJAmpmZmZkfZUBmZmZmZhhoQDMzMzMzEWtAAAAAAAAKbkBmZmZmZoFwQM3MzMzM/XFAMzMzMzN6c0CamZmZmfZ0QAAAAAAAc3ZAZmZmZmbvd0DNzMzMzGt5QDMzMzMz6HpAmpmZmZlkfEAAAAAAAOF9QGZmZmZmXX9AZmZmZuZsgECamZmZGSuBQM3MzMxM6YFAAAAAAICngkAzMzMzs2WDQGZmZmbmI4RAmpmZmRnihEDNzMzMTKCFQAAAAACAXoZAMzMzM7Mch0BmZmZm5tqHQJqZmZkZmYhAzczMzExXiUAAAAAAgBWKQDMzMzOz04pAZmZmZuaRi0CamZmZGVCMQM3MzMxMDo1AAAAAAIDMjUAzMzMzs4qOQGZmZmbmSI9A\",\"dtype\":\"float64\",\"shape\":[75]}},\"selected\":{\"id\":\"840af73c-e2fb-4e80-b1ee-e601ad9f32e9\",\"type\":\"Selection\"},\"selection_policy\":{\"id\":\"e72afac6-5c69-424c-9603-be2752fbd23f\",\"type\":\"UnionRenderers\"}},\"id\":\"ca21593d-345a-4c93-9139-2746adb0cebe\",\"type\":\"ColumnDataSource\"},{\"attributes\":{},\"id\":\"211d4c32-edc8-46db-98f6-a60920a16013\",\"type\":\"Selection\"},{\"attributes\":{\"axis_label\":\"pressure [mb]\",\"formatter\":{\"id\":\"c7b61d22-8922-40d9-ad79-c435955ca9a8\",\"type\":\"LogTickFormatter\"},\"plot\":{\"id\":\"851a44ea-ef20-427c-ab68-4a356f03d3a3\",\"subtype\":\"Figure\",\"type\":\"Plot\"},\"ticker\":{\"id\":\"f92f3901-9b9d-4f5b-bcfa-530b3e5bb12a\",\"type\":\"LogTicker\"}},\"id\":\"d66cdeec-2ae6-48c6-99a1-983fc9f7a9fc\",\"type\":\"LogAxis\"},{\"attributes\":{},\"id\":\"ebac6f33-677b-4e9b-adeb-ed71d76c8530\",\"type\":\"PanTool\"},{\"attributes\":{\"callback\":null,\"end\":0.01,\"start\":1020},\"id\":\"3d8991e0-5376-4f43-8eed-c6a899712fdf\",\"type\":\"Range1d\"},{\"attributes\":{},\"id\":\"0e6f205c-9462-462d-a0ed-704faaf46da5\",\"type\":\"LinearScale\"},{\"attributes\":{},\"id\":\"cfc1a5cc-ed72-42a4-bd1b-e036af6b2060\",\"type\":\"WheelZoomTool\"},{\"attributes\":{\"bottom_units\":\"screen\",\"fill_alpha\":{\"value\":0.5},\"fill_color\":{\"value\":\"lightgrey\"},\"left_units\":\"screen\",\"level\":\"overlay\",\"line_alpha\":{\"value\":1.0},\"line_color\":{\"value\":\"black\"},\"line_dash\":[4,4],\"line_width\":{\"value\":2},\"plot\":null,\"render_mode\":\"css\",\"right_units\":\"screen\",\"top_units\":\"screen\"},\"id\":\"d3da98d5-b8e4-497b-8d1d-e5ba621912aa\",\"type\":\"BoxAnnotation\"},{\"attributes\":{\"dimension\":1,\"plot\":{\"id\":\"01a10f74-e35d-4345-9c8c-478cea7f35a9\",\"subtype\":\"Figure\",\"type\":\"Plot\"},\"ticker\":{\"id\":\"167ae729-00fc-4c82-a11c-eb8431bd74cb\",\"type\":\"BasicTicker\"}},\"id\":\"04838805-626b-44cf-ae99-23c5a8781544\",\"type\":\"Grid\"},{\"attributes\":{},\"id\":\"de9b39b3-7069-4c5b-bf71-40899a0f942d\",\"type\":\"WheelZoomTool\"},{\"attributes\":{\"above\":[{\"id\":\"30ec560f-81e9-49b6-956d-f7a2658a5bff\",\"type\":\"Legend\"}],\"below\":[{\"id\":\"18fcfd03-0780-4deb-a45e-dae88f568da6\",\"type\":\"LinearAxis\"}],\"left\":[{\"id\":\"5949a07b-f419-46aa-9d41-cec9cbdb330e\",\"type\":\"LinearAxis\"}],\"plot_width\":300,\"renderers\":[{\"id\":\"18fcfd03-0780-4deb-a45e-dae88f568da6\",\"type\":\"LinearAxis\"},{\"id\":\"2e88d53f-454b-4871-8a87-bb00b2c6502b\",\"type\":\"Grid\"},{\"id\":\"5949a07b-f419-46aa-9d41-cec9cbdb330e\",\"type\":\"LinearAxis\"},{\"id\":\"04838805-626b-44cf-ae99-23c5a8781544\",\"type\":\"Grid\"},{\"id\":\"d3da98d5-b8e4-497b-8d1d-e5ba621912aa\",\"type\":\"BoxAnnotation\"},{\"id\":\"dc134d5c-bbe9-4d60-957b-bce8ad44793e\",\"type\":\"GlyphRenderer\"},{\"id\":\"33491dab-f820-4737-b7bd-872382a6afb3\",\"type\":\"GlyphRenderer\"},{\"id\":\"df1872b6-d02e-4eb1-9b21-a0d1ae0ae35c\",\"type\":\"GlyphRenderer\"},{\"id\":\"30ec560f-81e9-49b6-956d-f7a2658a5bff\",\"type\":\"Legend\"}],\"title\":{\"id\":\"51afa533-3653-443d-8da8-b88a59450a7e\",\"type\":\"Title\"},\"toolbar\":{\"id\":\"8717b8d4-2343-4082-ad8a-dfaf5b2d475c\",\"type\":\"Toolbar\"},\"toolbar_location\":null,\"x_range\":{\"id\":\"74ab8514-3525-4bdd-b9a6-b13e79f73021\",\"type\":\"Range1d\"},\"x_scale\":{\"id\":\"4122e143-e13e-4067-befb-8ed3a33ad41c\",\"type\":\"LinearScale\"},\"y_range\":{\"id\":\"3d8991e0-5376-4f43-8eed-c6a899712fdf\",\"type\":\"Range1d\"},\"y_scale\":{\"id\":\"86c0db07-6a7f-498e-91d8-ef95d2eb2a16\",\"type\":\"LinearScale\"}},\"id\":\"01a10f74-e35d-4345-9c8c-478cea7f35a9\",\"subtype\":\"Figure\",\"type\":\"Plot\"},{\"attributes\":{\"num_minor_ticks\":10},\"id\":\"f92f3901-9b9d-4f5b-bcfa-530b3e5bb12a\",\"type\":\"LogTicker\"},{\"attributes\":{\"items\":[{\"id\":\"c5e9d8e0-40ba-471c-be20-b5de963df6e0\",\"type\":\"LegendItem\"},{\"id\":\"a43203c6-cd63-43b0-be62-bd549a23e40a\",\"type\":\"LegendItem\"}],\"label_text_font_size\":{\"value\":\"8pt\"},\"location\":\"top_center\",\"orientation\":\"horizontal\",\"plot\":{\"id\":\"01a10f74-e35d-4345-9c8c-478cea7f35a9\",\"subtype\":\"Figure\",\"type\":\"Plot\"}},\"id\":\"30ec560f-81e9-49b6-956d-f7a2658a5bff\",\"type\":\"Legend\"},{\"attributes\":{\"callback\":null,\"end\":0.08387643975181847,\"start\":-0.03326747493366579},\"id\":\"74ab8514-3525-4bdd-b9a6-b13e79f73021\",\"type\":\"Range1d\"},{\"attributes\":{\"plot\":{\"id\":\"851a44ea-ef20-427c-ab68-4a356f03d3a3\",\"subtype\":\"Figure\",\"type\":\"Plot\"},\"ticker\":{\"id\":\"4faba75a-ddb9-4ea8-9a31-ded6562496c6\",\"type\":\"BasicTicker\"}},\"id\":\"b5462dec-37e4-4f5b-9e7e-d7e0e70f71a2\",\"type\":\"Grid\"},{\"attributes\":{\"axis_label\":\"cooling rate [K/day]\",\"formatter\":{\"id\":\"b76ce48d-2b9c-4e21-8e23-d83090e7eabc\",\"type\":\"BasicTickFormatter\"},\"plot\":{\"id\":\"01a10f74-e35d-4345-9c8c-478cea7f35a9\",\"subtype\":\"Figure\",\"type\":\"Plot\"},\"ticker\":{\"id\":\"f5f6a601-1413-4a4f-bc8b-c76d20ce6c77\",\"type\":\"BasicTicker\"}},\"id\":\"18fcfd03-0780-4deb-a45e-dae88f568da6\",\"type\":\"LinearAxis\"},{\"attributes\":{},\"id\":\"4faba75a-ddb9-4ea8-9a31-ded6562496c6\",\"type\":\"BasicTicker\"},{\"attributes\":{\"callback\":null,\"end\":0.01,\"start\":1020},\"id\":\"31a9945b-9870-4804-a19f-36ed294d10f1\",\"type\":\"Range1d\"},{\"attributes\":{\"callback\":null,\"end\":0.04096057969999999,\"start\":-0.019921149699999977},\"id\":\"d7c84f42-6069-49e4-9fda-ec828f8041e7\",\"type\":\"Range1d\"},{\"attributes\":{\"active_drag\":\"auto\",\"active_inspect\":\"auto\",\"active_scroll\":\"auto\",\"active_tap\":\"auto\",\"tools\":[{\"id\":\"ebac6f33-677b-4e9b-adeb-ed71d76c8530\",\"type\":\"PanTool\"},{\"id\":\"cfc1a5cc-ed72-42a4-bd1b-e036af6b2060\",\"type\":\"WheelZoomTool\"},{\"id\":\"83477dc9-ae27-4772-b9eb-a2e2a39cd23c\",\"type\":\"BoxZoomTool\"},{\"id\":\"af2fe65e-cca1-49e4-bc0e-b439f6de64e8\",\"type\":\"SaveTool\"},{\"id\":\"f78d34ce-8146-4ff9-b666-ffcd829edd01\",\"type\":\"ResetTool\"},{\"id\":\"ee2de412-4350-4736-b27c-150b831630f6\",\"type\":\"HelpTool\"}]},\"id\":\"8717b8d4-2343-4082-ad8a-dfaf5b2d475c\",\"type\":\"Toolbar\"},{\"attributes\":{\"dimension\":1,\"plot\":{\"id\":\"851a44ea-ef20-427c-ab68-4a356f03d3a3\",\"subtype\":\"Figure\",\"type\":\"Plot\"},\"ticker\":{\"id\":\"f92f3901-9b9d-4f5b-bcfa-530b3e5bb12a\",\"type\":\"LogTicker\"}},\"id\":\"582ed90c-2c09-479f-90d0-f23f71ee0828\",\"type\":\"Grid\"},{\"attributes\":{},\"id\":\"f5f6a601-1413-4a4f-bc8b-c76d20ce6c77\",\"type\":\"BasicTicker\"},{\"attributes\":{\"plot\":{\"id\":\"01a10f74-e35d-4345-9c8c-478cea7f35a9\",\"subtype\":\"Figure\",\"type\":\"Plot\"},\"ticker\":{\"id\":\"f5f6a601-1413-4a4f-bc8b-c76d20ce6c77\",\"type\":\"BasicTicker\"}},\"id\":\"2e88d53f-454b-4871-8a87-bb00b2c6502b\",\"type\":\"Grid\"},{\"attributes\":{},\"id\":\"3fef564d-9cd5-4d66-bf61-652adefe2eda\",\"type\":\"UnionRenderers\"},{\"attributes\":{},\"id\":\"86c0db07-6a7f-498e-91d8-ef95d2eb2a16\",\"type\":\"LinearScale\"},{\"attributes\":{},\"id\":\"4122e143-e13e-4067-befb-8ed3a33ad41c\",\"type\":\"LinearScale\"},{\"attributes\":{},\"id\":\"167ae729-00fc-4c82-a11c-eb8431bd74cb\",\"type\":\"BasicTicker\"},{\"attributes\":{\"callback\":null,\"data\":{\"x\":{\"__ndarray__\":\"TIS0E3UgsL/c9Zgoegqwv/7XH3nzdK+/AB19yNPgrr/1YyYrGFKuv98dMEiGu62/ZEaXzLYorb/hXr1ODY6sv7v385yY+Ku/BvN4c6lbq7/i6E6hzcCqv7b71Yy8Kqq/wg3Zb/6Uqb/xq3Nl2QCpvzpI7J7h8aa//iF7WGx2oL88U6iQ8ECFv5Os3NlWwZE/GJPO2pJiqj9PlF153+e3P0jD+PwXd8I/Vz1Zn68+yj/FMZoE6aPQP9Zgol/hptA/zZcZMtmhyj8ajc+E2h/DP40QUVfPJLk/OCFZCmfOrT9PiZwDRgqgP7aU2Cr8apA/AA8drXBPgT/qUW7hh3h0P7EG8C8V9G8/GU40hQYEZj+XM+d4Al1Rv4jXpQA85ny/m7Em8Q3iib/aS5bB7feRv4+u57qFIZi/7QGYRuZEnr/TE6z55nGgv0PxkHOds5+/RRzVJ0Sunb/JjHMSDKubv34C07xpkpm/eVqk5glcl78eElhy/fyUv/7JKB4Qg5K/8MOK9j27j79hP7lsqTaKv+cadhyun4S/0ybhUtc4fr9Rr7wEeBdzv87LC2VKcWC/Jko9kV8GRj9kilye315sP0KrDz9rOno/I2AOjmZ9gz8QYpD7SkCKP8fLBHHnupA/wUOqdUCVlD94Wge8OaWYP+zBJPzVE50/HaNTAqPloD8bza4eBGKjP42xwDBgBaY/TwYGjGOtqD+RRXyH4TCrPz1yMvLgc60/fHkWFtJbrz+RKmZY0I2wP1rD/ml8c7E/yPZ49ixssj+8MOf/eo+zP8ZP+3+J37Q/\",\"dtype\":\"float64\",\"shape\":[75]},\"y\":{\"__ndarray__\":\"GhExyth1ND/Sv8nbtpRIP2vylNV0PVE/aTum7souWD/At0SJ8fVgPw3Iuahxymc/MSNhhJWvcD/bTfBN02d3P2zb5nxnaoA/CD5h5MAGhz8NmeH1TyaQP+zrCsc9p5Y/LbKd76fGnz/bLW5ISEmmPww9YvTcQq8/JV2OstnstT8Er5Y7M8G+P0c+r3jqkcU/5h99k6ZBzj88bCIzFzjVP4enV8oyxN0//yH99nXg5D8qOpLLf0jtP5kqGJXUifQ/c9cS8kHP/D+/DpwzojQEQIEmwoanVwxA4lgXt9HgE0BSSZ2AJuIbQAMJih9jjiNA5q4l5INuK0AwTKYKRj0zQNv5fmq8/DpAaCJseHrtQkB/+zpwzoxKQM3MzMzMeFJAZmZmZmZqWEAAAAAAAFxeQM3MzMzMJmJAmpmZmZkfZUBmZmZmZhhoQDMzMzMzEWtAAAAAAAAKbkBmZmZmZoFwQM3MzMzM/XFAMzMzMzN6c0CamZmZmfZ0QAAAAAAAc3ZAZmZmZmbvd0DNzMzMzGt5QDMzMzMz6HpAmpmZmZlkfEAAAAAAAOF9QGZmZmZmXX9AZmZmZuZsgECamZmZGSuBQM3MzMxM6YFAAAAAAICngkAzMzMzs2WDQGZmZmbmI4RAmpmZmRnihEDNzMzMTKCFQAAAAACAXoZAMzMzM7Mch0BmZmZm5tqHQJqZmZkZmYhAzczMzExXiUAAAAAAgBWKQDMzMzOz04pAZmZmZuaRi0CamZmZGVCMQM3MzMxMDo1AAAAAAIDMjUAzMzMzs4qOQGZmZmbmSI9A\",\"dtype\":\"float64\",\"shape\":[75]}},\"selected\":{\"id\":\"0410e53b-e4d7-4d77-908b-3535ee9e455c\",\"type\":\"Selection\"},\"selection_policy\":{\"id\":\"0a58c752-3766-4ec7-bb55-57a5a1239ea6\",\"type\":\"UnionRenderers\"}},\"id\":\"e3b6a125-825b-4494-8121-8a609a12b201\",\"type\":\"ColumnDataSource\"},{\"attributes\":{},\"id\":\"71300906-0a8f-4e0f-a1a7-5a0e433ffeb2\",\"type\":\"UnionRenderers\"},{\"attributes\":{\"label\":{\"value\":\"CRD\"},\"renderers\":[{\"id\":\"33491dab-f820-4737-b7bd-872382a6afb3\",\"type\":\"GlyphRenderer\"},{\"id\":\"df1872b6-d02e-4eb1-9b21-a0d1ae0ae35c\",\"type\":\"GlyphRenderer\"}]},\"id\":\"a43203c6-cd63-43b0-be62-bd549a23e40a\",\"type\":\"LegendItem\"},{\"attributes\":{},\"id\":\"a8c34188-19be-4049-bb8a-a03e95fd2f23\",\"type\":\"Selection\"},{\"attributes\":{},\"id\":\"23658b3c-6bc5-4c07-874d-1f0e982f656e\",\"type\":\"BasicTickFormatter\"},{\"attributes\":{\"line_alpha\":0.1,\"line_color\":\"#1f77b4\",\"line_width\":1.5,\"x\":{\"field\":\"x\"},\"y\":{\"field\":\"y\"}},\"id\":\"77211a93-bfb1-480f-afda-583d89a899f0\",\"type\":\"Line\"},{\"attributes\":{\"active_drag\":\"auto\",\"active_inspect\":\"auto\",\"active_scroll\":\"auto\",\"active_tap\":\"auto\",\"tools\":[{\"id\":\"83137242-e28d-4450-a8b9-109f158bd02d\",\"type\":\"PanTool\"},{\"id\":\"85212bd7-a9cb-40ee-aca0-8f03ce5840a9\",\"type\":\"WheelZoomTool\"},{\"id\":\"338b7222-fb28-49c2-9d71-50c0ebbcc1a0\",\"type\":\"BoxZoomTool\"},{\"id\":\"5e9bf58c-5c22-414e-bb80-053b8727e3e6\",\"type\":\"SaveTool\"},{\"id\":\"b6305eaf-7299-4fff-aefc-53d2f87ecb3e\",\"type\":\"ResetTool\"},{\"id\":\"4b7006c6-ebbf-434b-b0b8-6be971d950bc\",\"type\":\"HelpTool\"}]},\"id\":\"13f336a4-9e97-4c60-9b46-f337a0b37aae\",\"type\":\"Toolbar\"},{\"attributes\":{\"line_color\":\"#4daf4a\",\"line_width\":1.5,\"x\":{\"field\":\"x\"},\"y\":{\"field\":\"y\"}},\"id\":\"469982b1-95d6-450c-9bf3-1c7a4f47ab1a\",\"type\":\"Line\"},{\"attributes\":{\"source\":{\"id\":\"ca21593d-345a-4c93-9139-2746adb0cebe\",\"type\":\"ColumnDataSource\"}},\"id\":\"df098913-cb3c-4228-9433-3b5284c01ee5\",\"type\":\"CDSView\"},{\"attributes\":{\"data_source\":{\"id\":\"0f0dfb70-a054-4182-a227-c2e2f735b965\",\"type\":\"ColumnDataSource\"},\"glyph\":{\"id\":\"71360a10-5494-4b46-8999-66bc3f261b29\",\"type\":\"Line\"},\"hover_glyph\":null,\"muted_glyph\":null,\"nonselection_glyph\":{\"id\":\"77211a93-bfb1-480f-afda-583d89a899f0\",\"type\":\"Line\"},\"selection_glyph\":null,\"view\":{\"id\":\"e6518bfc-bc98-4a52-9cf7-2a50ff0fba48\",\"type\":\"CDSView\"}},\"id\":\"df1872b6-d02e-4eb1-9b21-a0d1ae0ae35c\",\"type\":\"GlyphRenderer\"},{\"attributes\":{\"line_alpha\":0.1,\"line_color\":\"#1f77b4\",\"line_width\":1.5,\"x\":{\"field\":\"x\"},\"y\":{\"field\":\"y\"}},\"id\":\"a8d30fb5-c2d9-4425-aa66-7ee203606ce5\",\"type\":\"Line\"},{\"attributes\":{\"data_source\":{\"id\":\"a518a5ee-ca34-4c5e-a93a-f3f31fcbb3da\",\"type\":\"ColumnDataSource\"},\"glyph\":{\"id\":\"469982b1-95d6-450c-9bf3-1c7a4f47ab1a\",\"type\":\"Line\"},\"hover_glyph\":null,\"muted_glyph\":null,\"nonselection_glyph\":{\"id\":\"a8d30fb5-c2d9-4425-aa66-7ee203606ce5\",\"type\":\"Line\"},\"selection_glyph\":null,\"view\":{\"id\":\"44abfc5c-5ec8-46b9-9e32-add54f953876\",\"type\":\"CDSView\"}},\"id\":\"6c6221b6-e71f-44f2-9683-12c582d67f79\",\"type\":\"GlyphRenderer\"},{\"attributes\":{\"source\":{\"id\":\"0f0dfb70-a054-4182-a227-c2e2f735b965\",\"type\":\"ColumnDataSource\"}},\"id\":\"e6518bfc-bc98-4a52-9cf7-2a50ff0fba48\",\"type\":\"CDSView\"},{\"attributes\":{},\"id\":\"9b560e0d-e210-46ac-a448-49b3aa66a790\",\"type\":\"Selection\"},{\"attributes\":{},\"id\":\"b5731092-b687-461a-9bac-4147979f5160\",\"type\":\"LinearScale\"},{\"attributes\":{},\"id\":\"b76ce48d-2b9c-4e21-8e23-d83090e7eabc\",\"type\":\"BasicTickFormatter\"},{\"attributes\":{\"source\":{\"id\":\"a518a5ee-ca34-4c5e-a93a-f3f31fcbb3da\",\"type\":\"ColumnDataSource\"}},\"id\":\"44abfc5c-5ec8-46b9-9e32-add54f953876\",\"type\":\"CDSView\"},{\"attributes\":{\"children\":[{\"id\":\"7be2ff0f-69df-4789-add6-06e7e5cb57c0\",\"type\":\"Row\"}]},\"id\":\"736d4fbc-c565-4ba6-9383-f319f480a7c2\",\"type\":\"Column\"},{\"attributes\":{\"items\":[{\"id\":\"ad6f8382-60f4-4ac0-9b0d-3f7308837ab8\",\"type\":\"LegendItem\"},{\"id\":\"43e47353-8256-4752-8c51-2bbd8e71e4fc\",\"type\":\"LegendItem\"}],\"label_text_font_size\":{\"value\":\"8pt\"},\"location\":\"top_center\",\"orientation\":\"horizontal\",\"plot\":{\"id\":\"408813a3-c287-4293-bb2e-ffed162efb7c\",\"subtype\":\"Figure\",\"type\":\"Plot\"}},\"id\":\"aa012a61-e9e4-4ded-b6e4-d8dad68f1f08\",\"type\":\"Legend\"},{\"attributes\":{\"line_color\":\"#4daf4a\",\"line_width\":1.5,\"x\":{\"field\":\"x\"},\"y\":{\"field\":\"y\"}},\"id\":\"71360a10-5494-4b46-8999-66bc3f261b29\",\"type\":\"Line\"},{\"attributes\":{\"data_source\":{\"id\":\"637f98c3-9333-430c-8485-f5f8cdc94faa\",\"type\":\"ColumnDataSource\"},\"glyph\":{\"id\":\"c6d59d6d-7cd1-41b0-a054-75080f3e22c5\",\"type\":\"Circle\"},\"hover_glyph\":null,\"muted_glyph\":null,\"nonselection_glyph\":{\"id\":\"ce4a33c5-9d80-48bd-a441-e6840d29756d\",\"type\":\"Circle\"},\"selection_glyph\":null,\"view\":{\"id\":\"084d038f-bac3-4541-93db-4b04ab61e285\",\"type\":\"CDSView\"}},\"id\":\"33491dab-f820-4737-b7bd-872382a6afb3\",\"type\":\"GlyphRenderer\"},{\"attributes\":{\"callback\":null,\"end\":0.28301983155,\"start\":-0.09394886655000001},\"id\":\"0a8fc892-3bea-42da-a3dc-ef38ac7447e2\",\"type\":\"Range1d\"},{\"attributes\":{\"callback\":null,\"data\":{\"x\":{\"__ndarray__\":\"qIa5gVunpD9UKbWYUYykP5XKBJF/RaQ/BlvnPaD8oz/yUZ8USLGjP57FtU4acqM/uJFFqaM0oz+LMaNk4QejPyrZQnQu46I/3d0cEQDaoj832rPfweyiPwGatdJzJKM/N1PDrIeXoz+3L1PSRFGkP88f5AaNqqQ/PeqHj4oqoz+QRsbpcuqfP97rrjCgvpg/CvTLWBsAkT8oJqZzlG+BPwBUCOQSRy6/4FD/k55thr+wIa3OvcmTv0CyFCQRdYK/0AVWxJ+XiD/IU1bT9USXP8CZW8urDZY/NOjSX7Joiz84yZ1s37BwP2huL7BhYmC/gOMq2H8Lbb/qCID0xKhgvyCIRktruRY/MvCQpFP3Uj/tuQtW1TlRP4AX6FdNcC4/4CnE87fcR78Qhbo7dypcv9hz/DFcBmS/CG5eTmn6Zb/gdb9oYd9mvxiLnkJLqmi/WPmRZwYNZ7/AeBKAm59kvwjutappOmK/wD2wknhBYL+wjK/Yhz5dv+Czg1EWrFu/mFI1GQywWr+4dyCU8rhav5jLZKsY3Vu/HGStCt34Xb/+ZifqYTRfvxtpS4choGC/16IMa1/GYb/+iw+GzcZivzKpAckLl2O/QLsDAZkyZL9Qk2ZHOJpkv7BsFROHq2S/0Bi0yitbZL8orPWUiC9kv7j09ueiIWO/wK08+r8gYr9gaqTVK41hv0BnvXg8tmC/8OccVbA6YL8AhcATePxev4DGI/1lE1q/YJ5mxZOEVL+AUPcdnZxMv4DZAoQHtEG/AH28kg86O78ACLVW6Ss+v8Afp1fmh1O/\",\"dtype\":\"float64\",\"shape\":[75]},\"y\":{\"__ndarray__\":\"GhExyth1ND/Sv8nbtpRIP2vylNV0PVE/aTum7souWD/At0SJ8fVgPw3Iuahxymc/MSNhhJWvcD/bTfBN02d3P2zb5nxnaoA/CD5h5MAGhz8NmeH1TyaQP+zrCsc9p5Y/LbKd76fGnz/bLW5ISEmmPww9YvTcQq8/JV2OstnstT8Er5Y7M8G+P0c+r3jqkcU/5h99k6ZBzj88bCIzFzjVP4enV8oyxN0//yH99nXg5D8qOpLLf0jtP5kqGJXUifQ/c9cS8kHP/D+/DpwzojQEQIEmwoanVwxA4lgXt9HgE0BSSZ2AJuIbQAMJih9jjiNA5q4l5INuK0AwTKYKRj0zQNv5fmq8/DpAaCJseHrtQkB/+zpwzoxKQM3MzMzMeFJAZmZmZmZqWEAAAAAAAFxeQM3MzMzMJmJAmpmZmZkfZUBmZmZmZhhoQDMzMzMzEWtAAAAAAAAKbkBmZmZmZoFwQM3MzMzM/XFAMzMzMzN6c0CamZmZmfZ0QAAAAAAAc3ZAZmZmZmbvd0DNzMzMzGt5QDMzMzMz6HpAmpmZmZlkfEAAAAAAAOF9QGZmZmZmXX9AZmZmZuZsgECamZmZGSuBQM3MzMxM6YFAAAAAAICngkAzMzMzs2WDQGZmZmbmI4RAmpmZmRnihEDNzMzMTKCFQAAAAACAXoZAMzMzM7Mch0BmZmZm5tqHQJqZmZkZmYhAzczMzExXiUAAAAAAgBWKQDMzMzOz04pAZmZmZuaRi0CamZmZGVCMQM3MzMxMDo1AAAAAAIDMjUAzMzMzs4qOQGZmZmbmSI9A\",\"dtype\":\"float64\",\"shape\":[75]}},\"selected\":{\"id\":\"ff29b05d-6523-4dd9-9f2f-5d493577d10a\",\"type\":\"Selection\"},\"selection_policy\":{\"id\":\"4ada7094-8f35-496b-b554-190d91c5e296\",\"type\":\"UnionRenderers\"}},\"id\":\"ba38e68a-20cb-4ed1-aec3-4390b9f1fc8b\",\"type\":\"ColumnDataSource\"},{\"attributes\":{\"plot\":{\"id\":\"408813a3-c287-4293-bb2e-ffed162efb7c\",\"subtype\":\"Figure\",\"type\":\"Plot\"},\"ticker\":{\"id\":\"d39ce4aa-8392-4053-b359-58fa04806d6a\",\"type\":\"BasicTicker\"}},\"id\":\"1c3149c1-c5a6-4815-9741-b6a1b3ed9bf9\",\"type\":\"Grid\"},{\"attributes\":{\"label\":{\"value\":\"CLIRAD\"},\"renderers\":[{\"id\":\"1068ad6b-090c-4c95-be55-6321adcfd8be\",\"type\":\"GlyphRenderer\"}]},\"id\":\"ad6f8382-60f4-4ac0-9b0d-3f7308837ab8\",\"type\":\"LegendItem\"},{\"attributes\":{\"children\":[{\"id\":\"01a10f74-e35d-4345-9c8c-478cea7f35a9\",\"subtype\":\"Figure\",\"type\":\"Plot\"},{\"id\":\"408813a3-c287-4293-bb2e-ffed162efb7c\",\"subtype\":\"Figure\",\"type\":\"Plot\"},{\"id\":\"851a44ea-ef20-427c-ab68-4a356f03d3a3\",\"subtype\":\"Figure\",\"type\":\"Plot\"}]},\"id\":\"7be2ff0f-69df-4789-add6-06e7e5cb57c0\",\"type\":\"Row\"},{\"attributes\":{\"active_drag\":\"auto\",\"active_inspect\":\"auto\",\"active_scroll\":\"auto\",\"active_tap\":\"auto\",\"tools\":[{\"id\":\"fe4a3fb3-d2ac-4b13-af46-6e7d77266ee2\",\"type\":\"PanTool\"},{\"id\":\"de9b39b3-7069-4c5b-bf71-40899a0f942d\",\"type\":\"WheelZoomTool\"},{\"id\":\"dc4c26d3-a043-4f9e-b0e9-768dcaa7bbc5\",\"type\":\"BoxZoomTool\"},{\"id\":\"1db423a6-d21c-485f-bf7a-53853e1f8de2\",\"type\":\"SaveTool\"},{\"id\":\"b2647d04-abc1-434b-98d4-f5d92b7dadf7\",\"type\":\"ResetTool\"},{\"id\":\"0824987b-2d49-4ab1-91c4-af2e1727779c\",\"type\":\"HelpTool\"}]},\"id\":\"766f5c41-1bbf-41ad-942b-c7b840919d8c\",\"type\":\"Toolbar\"},{\"attributes\":{},\"id\":\"961687b8-0ffa-4661-8bbb-66ec272e18a2\",\"type\":\"LogScale\"},{\"attributes\":{\"label\":{\"value\":\"CRD\"},\"renderers\":[{\"id\":\"2224bcb5-348c-4daa-9760-823ef0705a47\",\"type\":\"GlyphRenderer\"},{\"id\":\"6c6221b6-e71f-44f2-9683-12c582d67f79\",\"type\":\"GlyphRenderer\"}]},\"id\":\"43e47353-8256-4752-8c51-2bbd8e71e4fc\",\"type\":\"LegendItem\"},{\"attributes\":{\"axis_label\":\"cooling rate [K/day]\",\"formatter\":{\"id\":\"84568bf8-4357-4d55-bd28-1e1cc605a971\",\"type\":\"BasicTickFormatter\"},\"plot\":{\"id\":\"408813a3-c287-4293-bb2e-ffed162efb7c\",\"subtype\":\"Figure\",\"type\":\"Plot\"},\"ticker\":{\"id\":\"d39ce4aa-8392-4053-b359-58fa04806d6a\",\"type\":\"BasicTicker\"}},\"id\":\"531dad0e-68a5-4b17-a971-a7164922150f\",\"type\":\"LinearAxis\"},{\"attributes\":{\"data_source\":{\"id\":\"ca21593d-345a-4c93-9139-2746adb0cebe\",\"type\":\"ColumnDataSource\"},\"glyph\":{\"id\":\"9a855eff-184e-4301-a332-26f5c5933cb6\",\"type\":\"Line\"},\"hover_glyph\":null,\"muted_glyph\":null,\"nonselection_glyph\":{\"id\":\"fb658cf3-8c52-4aed-8ff9-2056bf99a551\",\"type\":\"Line\"},\"selection_glyph\":null,\"view\":{\"id\":\"df098913-cb3c-4228-9433-3b5284c01ee5\",\"type\":\"CDSView\"}},\"id\":\"45e70d7e-b19b-4008-8af5-b7e9bb7a1b99\",\"type\":\"GlyphRenderer\"},{\"attributes\":{},\"id\":\"d39ce4aa-8392-4053-b359-58fa04806d6a\",\"type\":\"BasicTicker\"},{\"attributes\":{\"label\":{\"value\":\"CLIRAD - CRD\"},\"renderers\":[{\"id\":\"ead19c4e-5b14-41f8-9b9e-3f22896b0174\",\"type\":\"GlyphRenderer\"},{\"id\":\"45e70d7e-b19b-4008-8af5-b7e9bb7a1b99\",\"type\":\"GlyphRenderer\"}]},\"id\":\"3a7236cd-5076-4869-9e84-82148a48b66b\",\"type\":\"LegendItem\"},{\"attributes\":{\"axis_label\":\"pressure [mb]\",\"formatter\":{\"id\":\"e23be5b3-1c4d-4488-9921-b5c45fbd279f\",\"type\":\"LogTickFormatter\"},\"plot\":{\"id\":\"408813a3-c287-4293-bb2e-ffed162efb7c\",\"subtype\":\"Figure\",\"type\":\"Plot\"},\"ticker\":{\"id\":\"845e84d1-2852-463f-856f-09bd3c2ae7ca\",\"type\":\"LogTicker\"}},\"id\":\"0dabf095-20fd-46dc-9e54-24d4240355de\",\"type\":\"LogAxis\"},{\"attributes\":{},\"id\":\"0a58c752-3766-4ec7-bb55-57a5a1239ea6\",\"type\":\"UnionRenderers\"},{\"attributes\":{\"num_minor_ticks\":10},\"id\":\"845e84d1-2852-463f-856f-09bd3c2ae7ca\",\"type\":\"LogTicker\"},{\"attributes\":{\"dimension\":1,\"plot\":{\"id\":\"408813a3-c287-4293-bb2e-ffed162efb7c\",\"subtype\":\"Figure\",\"type\":\"Plot\"},\"ticker\":{\"id\":\"845e84d1-2852-463f-856f-09bd3c2ae7ca\",\"type\":\"LogTicker\"}},\"id\":\"98c8db5e-3cfa-4b45-9595-c1f88de4067d\",\"type\":\"Grid\"},{\"attributes\":{\"line_alpha\":0.1,\"line_color\":\"#1f77b4\",\"line_dash\":[6],\"line_width\":5,\"x\":{\"field\":\"x\"},\"y\":{\"field\":\"y\"}},\"id\":\"11273e96-4bee-478c-91f4-2070094e3811\",\"type\":\"Line\"},{\"attributes\":{},\"id\":\"0410e53b-e4d7-4d77-908b-3535ee9e455c\",\"type\":\"Selection\"},{\"attributes\":{\"line_alpha\":0.1,\"line_color\":\"#1f77b4\",\"line_width\":1.5,\"x\":{\"field\":\"x\"},\"y\":{\"field\":\"y\"}},\"id\":\"fb658cf3-8c52-4aed-8ff9-2056bf99a551\",\"type\":\"Line\"},{\"attributes\":{\"plot\":null,\"text\":\"\"},\"id\":\"51afa533-3653-443d-8da8-b88a59450a7e\",\"type\":\"Title\"},{\"attributes\":{\"line_alpha\":0.8,\"line_color\":\"#984ea3\",\"line_width\":1.5,\"x\":{\"field\":\"x\"},\"y\":{\"field\":\"y\"}},\"id\":\"9a855eff-184e-4301-a332-26f5c5933cb6\",\"type\":\"Line\"},{\"attributes\":{\"bottom_units\":\"screen\",\"fill_alpha\":{\"value\":0.5},\"fill_color\":{\"value\":\"lightgrey\"},\"left_units\":\"screen\",\"level\":\"overlay\",\"line_alpha\":{\"value\":1.0},\"line_color\":{\"value\":\"black\"},\"line_dash\":[4,4],\"line_width\":{\"value\":2},\"plot\":null,\"render_mode\":\"css\",\"right_units\":\"screen\",\"top_units\":\"screen\"},\"id\":\"61797b5f-2fc3-4adb-84bc-9e4fa60d874e\",\"type\":\"BoxAnnotation\"},{\"attributes\":{},\"id\":\"4be5d9b0-bb6b-4efe-9a51-0432c9ea392f\",\"type\":\"UnionRenderers\"},{\"attributes\":{},\"id\":\"83137242-e28d-4450-a8b9-109f158bd02d\",\"type\":\"PanTool\"},{\"attributes\":{},\"id\":\"1147f706-3cf9-4389-b309-59aacdc04216\",\"type\":\"UnionRenderers\"},{\"attributes\":{},\"id\":\"02b21d41-b224-4bf3-8f2b-cde81b5ce0bf\",\"type\":\"BasicTickFormatter\"},{\"attributes\":{},\"id\":\"85212bd7-a9cb-40ee-aca0-8f03ce5840a9\",\"type\":\"WheelZoomTool\"},{\"attributes\":{},\"id\":\"21328a40-3fa0-4788-9c8f-529eb037b291\",\"type\":\"UnionRenderers\"},{\"attributes\":{\"children\":[{\"id\":\"34025679-1090-4ba7-93f4-32c7e66b0c27\",\"type\":\"ToolbarBox\"},{\"id\":\"736d4fbc-c565-4ba6-9383-f319f480a7c2\",\"type\":\"Column\"}]},\"id\":\"d8c2f586-92e3-4cc4-9548-acdb00613ba5\",\"type\":\"Column\"},{\"attributes\":{\"overlay\":{\"id\":\"61797b5f-2fc3-4adb-84bc-9e4fa60d874e\",\"type\":\"BoxAnnotation\"}},\"id\":\"338b7222-fb28-49c2-9d71-50c0ebbcc1a0\",\"type\":\"BoxZoomTool\"},{\"attributes\":{},\"id\":\"5e9bf58c-5c22-414e-bb80-053b8727e3e6\",\"type\":\"SaveTool\"},{\"attributes\":{},\"id\":\"dd05762f-7da5-4c45-8f40-5475336d1028\",\"type\":\"Selection\"},{\"attributes\":{},\"id\":\"b6305eaf-7299-4fff-aefc-53d2f87ecb3e\",\"type\":\"ResetTool\"},{\"attributes\":{\"plot\":null,\"text\":\"\"},\"id\":\"219a3c0b-080c-44bd-9f4f-7e97de92bf29\",\"type\":\"Title\"},{\"attributes\":{},\"id\":\"4b7006c6-ebbf-434b-b0b8-6be971d950bc\",\"type\":\"HelpTool\"},{\"attributes\":{\"plot\":null,\"text\":\"\"},\"id\":\"2e175c21-77c1-4ad8-8006-5c3eef839eea\",\"type\":\"Title\"},{\"attributes\":{\"line_alpha\":0.6,\"line_color\":\"#e41a1c\",\"line_dash\":[6],\"line_width\":5,\"x\":{\"field\":\"x\"},\"y\":{\"field\":\"y\"}},\"id\":\"ac464e72-c2d5-49aa-aebe-5b160f69793e\",\"type\":\"Line\"},{\"attributes\":{},\"id\":\"693a1196-969e-4e84-9cbb-bcade9915dcf\",\"type\":\"Selection\"},{\"attributes\":{},\"id\":\"e72afac6-5c69-424c-9603-be2752fbd23f\",\"type\":\"UnionRenderers\"},{\"attributes\":{\"toolbar\":{\"id\":\"edb58e9a-31af-4a96-9053-2ebb11b3e881\",\"type\":\"ProxyToolbar\"},\"toolbar_location\":\"above\"},\"id\":\"34025679-1090-4ba7-93f4-32c7e66b0c27\",\"type\":\"ToolbarBox\"},{\"attributes\":{},\"id\":\"0824987b-2d49-4ab1-91c4-af2e1727779c\",\"type\":\"HelpTool\"},{\"attributes\":{},\"id\":\"b2647d04-abc1-434b-98d4-f5d92b7dadf7\",\"type\":\"ResetTool\"},{\"attributes\":{\"ticker\":null},\"id\":\"c7b61d22-8922-40d9-ad79-c435955ca9a8\",\"type\":\"LogTickFormatter\"},{\"attributes\":{},\"id\":\"840af73c-e2fb-4e80-b1ee-e601ad9f32e9\",\"type\":\"Selection\"},{\"attributes\":{},\"id\":\"4ada7094-8f35-496b-b554-190d91c5e296\",\"type\":\"UnionRenderers\"},{\"attributes\":{},\"id\":\"ff29b05d-6523-4dd9-9f2f-5d493577d10a\",\"type\":\"Selection\"},{\"attributes\":{\"callback\":null,\"data\":{\"x\":{\"__ndarray__\":\"XLWE3/puur94oj3BckK6v6L6vQPy27m/bT7HqrVuub8/dsMomwG5vwAegdrQlri/JOgbEKIuuL+2UMLk98q3v31ua4Ldbbe/oEVjq9Mat78RmK8Ux9a2v9FiPXaWp7a/8E3vvDaWtr+L6yTK+qe2v3mdNcE1zLW/Ffv+327Psb9w9APnJEWlv9qySWzh83u/Kv0us6LioT/Ppk4A+Lm1P93oCIWtfsI/CFIx53ylyz945qsFcuDRPytWJl99OtE/3ckrAFsYyT/5xXyrOzfAP1W59T9lobM/4Rdz5Dz0pj+MU6BbV+ibP3uBCFpJd5I/KjLxSVKSiD+EZ68v88x8P+9C7RpYPm8/EnK9qL8QWT+loo/DaUthvzVDhGG72X2/tcyHP0FkiL8ARBhERjWQv03p+9G5oJW/X9/72ZeFm79wwG3B4Aeev15/TwJUnpy/FzIuh6PMmr8j+lLLGBeZv6rNU6scS5e/lhaB89pTlb+zDvgQFSmTvyXJj9JOyJC/vQdSozxljL/Ee/xIi9+GvzrlAjULJIG/DMPAZaC6dr+VDzmtv5RmvzHI/jNRa/c+NFij5PZHZz/HwINk1pJ3P1Kstn34AoI/ppVZvAyKiD9V0Qb92GaPPw5C4EtYUJM/85vb56Uglz/T9XfIKiubP5s/v1IKeJ8/g0OO/q4Hoj/32DXY1nqkPx+eiPLDEKc/1G/iiA6xqT+Eu4M9xSisP8f0DRd8RK4/84j/q/b/rz+o2weQCcewP8Y1UnfklrE/bGElBWeHsj/J1nLopq2zP9lNnQWpLbU/\",\"dtype\":\"float64\",\"shape\":[75]},\"y\":{\"__ndarray__\":\"GhExyth1ND/Sv8nbtpRIP2vylNV0PVE/aTum7souWD/At0SJ8fVgPw3Iuahxymc/MSNhhJWvcD/bTfBN02d3P2zb5nxnaoA/CD5h5MAGhz8NmeH1TyaQP+zrCsc9p5Y/LbKd76fGnz/bLW5ISEmmPww9YvTcQq8/JV2OstnstT8Er5Y7M8G+P0c+r3jqkcU/5h99k6ZBzj88bCIzFzjVP4enV8oyxN0//yH99nXg5D8qOpLLf0jtP5kqGJXUifQ/c9cS8kHP/D+/DpwzojQEQIEmwoanVwxA4lgXt9HgE0BSSZ2AJuIbQAMJih9jjiNA5q4l5INuK0AwTKYKRj0zQNv5fmq8/DpAaCJseHrtQkB/+zpwzoxKQM3MzMzMeFJAZmZmZmZqWEAAAAAAAFxeQM3MzMzMJmJAmpmZmZkfZUBmZmZmZhhoQDMzMzMzEWtAAAAAAAAKbkBmZmZmZoFwQM3MzMzM/XFAMzMzMzN6c0CamZmZmfZ0QAAAAAAAc3ZAZmZmZmbvd0DNzMzMzGt5QDMzMzMz6HpAmpmZmZlkfEAAAAAAAOF9QGZmZmZmXX9AZmZmZuZsgECamZmZGSuBQM3MzMxM6YFAAAAAAICngkAzMzMzs2WDQGZmZmbmI4RAmpmZmRnihEDNzMzMTKCFQAAAAACAXoZAMzMzM7Mch0BmZmZm5tqHQJqZmZkZmYhAzczMzExXiUAAAAAAgBWKQDMzMzOz04pAZmZmZuaRi0CamZmZGVCMQM3MzMxMDo1AAAAAAIDMjUAzMzMzs4qOQGZmZmbmSI9A\",\"dtype\":\"float64\",\"shape\":[75]}},\"selected\":{\"id\":\"dd05762f-7da5-4c45-8f40-5475336d1028\",\"type\":\"Selection\"},\"selection_policy\":{\"id\":\"21328a40-3fa0-4788-9c8f-529eb037b291\",\"type\":\"UnionRenderers\"}},\"id\":\"0f0dfb70-a054-4182-a227-c2e2f735b965\",\"type\":\"ColumnDataSource\"},{\"attributes\":{\"tools\":[{\"id\":\"ebac6f33-677b-4e9b-adeb-ed71d76c8530\",\"type\":\"PanTool\"},{\"id\":\"cfc1a5cc-ed72-42a4-bd1b-e036af6b2060\",\"type\":\"WheelZoomTool\"},{\"id\":\"83477dc9-ae27-4772-b9eb-a2e2a39cd23c\",\"type\":\"BoxZoomTool\"},{\"id\":\"af2fe65e-cca1-49e4-bc0e-b439f6de64e8\",\"type\":\"SaveTool\"},{\"id\":\"f78d34ce-8146-4ff9-b666-ffcd829edd01\",\"type\":\"ResetTool\"},{\"id\":\"ee2de412-4350-4736-b27c-150b831630f6\",\"type\":\"HelpTool\"},{\"id\":\"83137242-e28d-4450-a8b9-109f158bd02d\",\"type\":\"PanTool\"},{\"id\":\"85212bd7-a9cb-40ee-aca0-8f03ce5840a9\",\"type\":\"WheelZoomTool\"},{\"id\":\"338b7222-fb28-49c2-9d71-50c0ebbcc1a0\",\"type\":\"BoxZoomTool\"},{\"id\":\"5e9bf58c-5c22-414e-bb80-053b8727e3e6\",\"type\":\"SaveTool\"},{\"id\":\"b6305eaf-7299-4fff-aefc-53d2f87ecb3e\",\"type\":\"ResetTool\"},{\"id\":\"4b7006c6-ebbf-434b-b0b8-6be971d950bc\",\"type\":\"HelpTool\"},{\"id\":\"fe4a3fb3-d2ac-4b13-af46-6e7d77266ee2\",\"type\":\"PanTool\"},{\"id\":\"de9b39b3-7069-4c5b-bf71-40899a0f942d\",\"type\":\"WheelZoomTool\"},{\"id\":\"dc4c26d3-a043-4f9e-b0e9-768dcaa7bbc5\",\"type\":\"BoxZoomTool\"},{\"id\":\"1db423a6-d21c-485f-bf7a-53853e1f8de2\",\"type\":\"SaveTool\"},{\"id\":\"b2647d04-abc1-434b-98d4-f5d92b7dadf7\",\"type\":\"ResetTool\"},{\"id\":\"0824987b-2d49-4ab1-91c4-af2e1727779c\",\"type\":\"HelpTool\"}]},\"id\":\"edb58e9a-31af-4a96-9053-2ebb11b3e881\",\"type\":\"ProxyToolbar\"},{\"attributes\":{\"fill_alpha\":{\"value\":0.1},\"fill_color\":{\"value\":\"#1f77b4\"},\"line_alpha\":{\"value\":0.1},\"line_color\":{\"value\":\"#1f77b4\"},\"x\":{\"field\":\"x\"},\"y\":{\"field\":\"y\"}},\"id\":\"2d361a59-48ef-4ac9-8c7b-8d6ad41eeab3\",\"type\":\"Circle\"},{\"attributes\":{\"callback\":null,\"data\":{\"x\":{\"__ndarray__\":\"XLWE3/puur94oj3BckK6v6L6vQPy27m/bT7HqrVuub8/dsMomwG5vwAegdrQlri/JOgbEKIuuL+2UMLk98q3v31ua4Ldbbe/oEVjq9Mat78RmK8Ux9a2v9FiPXaWp7a/8E3vvDaWtr+L6yTK+qe2v3mdNcE1zLW/Ffv+327Psb9w9APnJEWlv9qySWzh83u/Kv0us6LioT/Ppk4A+Lm1P93oCIWtfsI/CFIx53ylyz945qsFcuDRPytWJl99OtE/3ckrAFsYyT/5xXyrOzfAP1W59T9lobM/4Rdz5Dz0pj+MU6BbV+ibP3uBCFpJd5I/KjLxSVKSiD+EZ68v88x8P+9C7RpYPm8/EnK9qL8QWT+loo/DaUthvzVDhGG72X2/tcyHP0FkiL8ARBhERjWQv03p+9G5oJW/X9/72ZeFm79wwG3B4Aeev15/TwJUnpy/FzIuh6PMmr8j+lLLGBeZv6rNU6scS5e/lhaB89pTlb+zDvgQFSmTvyXJj9JOyJC/vQdSozxljL/Ee/xIi9+GvzrlAjULJIG/DMPAZaC6dr+VDzmtv5RmvzHI/jNRa/c+NFij5PZHZz/HwINk1pJ3P1Kstn34AoI/ppVZvAyKiD9V0Qb92GaPPw5C4EtYUJM/85vb56Uglz/T9XfIKiubP5s/v1IKeJ8/g0OO/q4Hoj/32DXY1nqkPx+eiPLDEKc/1G/iiA6xqT+Eu4M9xSisP8f0DRd8RK4/84j/q/b/rz+o2weQCcewP8Y1UnfklrE/bGElBWeHsj/J1nLopq2zP9lNnQWpLbU/\",\"dtype\":\"float64\",\"shape\":[75]},\"y\":{\"__ndarray__\":\"GhExyth1ND/Sv8nbtpRIP2vylNV0PVE/aTum7souWD/At0SJ8fVgPw3Iuahxymc/MSNhhJWvcD/bTfBN02d3P2zb5nxnaoA/CD5h5MAGhz8NmeH1TyaQP+zrCsc9p5Y/LbKd76fGnz/bLW5ISEmmPww9YvTcQq8/JV2OstnstT8Er5Y7M8G+P0c+r3jqkcU/5h99k6ZBzj88bCIzFzjVP4enV8oyxN0//yH99nXg5D8qOpLLf0jtP5kqGJXUifQ/c9cS8kHP/D+/DpwzojQEQIEmwoanVwxA4lgXt9HgE0BSSZ2AJuIbQAMJih9jjiNA5q4l5INuK0AwTKYKRj0zQNv5fmq8/DpAaCJseHrtQkB/+zpwzoxKQM3MzMzMeFJAZmZmZmZqWEAAAAAAAFxeQM3MzMzMJmJAmpmZmZkfZUBmZmZmZhhoQDMzMzMzEWtAAAAAAAAKbkBmZmZmZoFwQM3MzMzM/XFAMzMzMzN6c0CamZmZmfZ0QAAAAAAAc3ZAZmZmZmbvd0DNzMzMzGt5QDMzMzMz6HpAmpmZmZlkfEAAAAAAAOF9QGZmZmZmXX9AZmZmZuZsgECamZmZGSuBQM3MzMxM6YFAAAAAAICngkAzMzMzs2WDQGZmZmbmI4RAmpmZmRnihEDNzMzMTKCFQAAAAACAXoZAMzMzM7Mch0BmZmZm5tqHQJqZmZkZmYhAzczMzExXiUAAAAAAgBWKQDMzMzOz04pAZmZmZuaRi0CamZmZGVCMQM3MzMxMDo1AAAAAAIDMjUAzMzMzs4qOQGZmZmbmSI9A\",\"dtype\":\"float64\",\"shape\":[75]}},\"selected\":{\"id\":\"9b560e0d-e210-46ac-a448-49b3aa66a790\",\"type\":\"Selection\"},\"selection_policy\":{\"id\":\"4be5d9b0-bb6b-4efe-9a51-0432c9ea392f\",\"type\":\"UnionRenderers\"}},\"id\":\"637f98c3-9333-430c-8485-f5f8cdc94faa\",\"type\":\"ColumnDataSource\"},{\"attributes\":{\"bottom_units\":\"screen\",\"fill_alpha\":{\"value\":0.5},\"fill_color\":{\"value\":\"lightgrey\"},\"left_units\":\"screen\",\"level\":\"overlay\",\"line_alpha\":{\"value\":1.0},\"line_color\":{\"value\":\"black\"},\"line_dash\":[4,4],\"line_width\":{\"value\":2},\"plot\":null,\"render_mode\":\"css\",\"right_units\":\"screen\",\"top_units\":\"screen\"},\"id\":\"a992d2fb-dc07-404e-9f64-9fa27a91bbf1\",\"type\":\"BoxAnnotation\"},{\"attributes\":{\"fill_alpha\":{\"value\":0.1},\"fill_color\":{\"value\":\"#1f77b4\"},\"line_alpha\":{\"value\":0.1},\"line_color\":{\"value\":\"#1f77b4\"},\"x\":{\"field\":\"x\"},\"y\":{\"field\":\"y\"}},\"id\":\"ce4a33c5-9d80-48bd-a441-e6840d29756d\",\"type\":\"Circle\"},{\"attributes\":{\"above\":[{\"id\":\"aa012a61-e9e4-4ded-b6e4-d8dad68f1f08\",\"type\":\"Legend\"}],\"below\":[{\"id\":\"531dad0e-68a5-4b17-a971-a7164922150f\",\"type\":\"LinearAxis\"}],\"left\":[{\"id\":\"0dabf095-20fd-46dc-9e54-24d4240355de\",\"type\":\"LogAxis\"}],\"plot_width\":300,\"renderers\":[{\"id\":\"531dad0e-68a5-4b17-a971-a7164922150f\",\"type\":\"LinearAxis\"},{\"id\":\"1c3149c1-c5a6-4815-9741-b6a1b3ed9bf9\",\"type\":\"Grid\"},{\"id\":\"0dabf095-20fd-46dc-9e54-24d4240355de\",\"type\":\"LogAxis\"},{\"id\":\"98c8db5e-3cfa-4b45-9595-c1f88de4067d\",\"type\":\"Grid\"},{\"id\":\"61797b5f-2fc3-4adb-84bc-9e4fa60d874e\",\"type\":\"BoxAnnotation\"},{\"id\":\"1068ad6b-090c-4c95-be55-6321adcfd8be\",\"type\":\"GlyphRenderer\"},{\"id\":\"2224bcb5-348c-4daa-9760-823ef0705a47\",\"type\":\"GlyphRenderer\"},{\"id\":\"6c6221b6-e71f-44f2-9683-12c582d67f79\",\"type\":\"GlyphRenderer\"},{\"id\":\"aa012a61-e9e4-4ded-b6e4-d8dad68f1f08\",\"type\":\"Legend\"}],\"title\":{\"id\":\"2e175c21-77c1-4ad8-8006-5c3eef839eea\",\"type\":\"Title\"},\"toolbar\":{\"id\":\"13f336a4-9e97-4c60-9b46-f337a0b37aae\",\"type\":\"Toolbar\"},\"toolbar_location\":null,\"x_range\":{\"id\":\"0a8fc892-3bea-42da-a3dc-ef38ac7447e2\",\"type\":\"Range1d\"},\"x_scale\":{\"id\":\"b5731092-b687-461a-9bac-4147979f5160\",\"type\":\"LinearScale\"},\"y_range\":{\"id\":\"31a9945b-9870-4804-a19f-36ed294d10f1\",\"type\":\"Range1d\"},\"y_scale\":{\"id\":\"961687b8-0ffa-4661-8bbb-66ec272e18a2\",\"type\":\"LogScale\"}},\"id\":\"408813a3-c287-4293-bb2e-ffed162efb7c\",\"subtype\":\"Figure\",\"type\":\"Plot\"},{\"attributes\":{\"source\":{\"id\":\"637f98c3-9333-430c-8485-f5f8cdc94faa\",\"type\":\"ColumnDataSource\"}},\"id\":\"084d038f-bac3-4541-93db-4b04ab61e285\",\"type\":\"CDSView\"},{\"attributes\":{\"data_source\":{\"id\":\"e3b6a125-825b-4494-8121-8a609a12b201\",\"type\":\"ColumnDataSource\"},\"glyph\":{\"id\":\"ac464e72-c2d5-49aa-aebe-5b160f69793e\",\"type\":\"Line\"},\"hover_glyph\":null,\"muted_glyph\":null,\"nonselection_glyph\":{\"id\":\"11273e96-4bee-478c-91f4-2070094e3811\",\"type\":\"Line\"},\"selection_glyph\":null,\"view\":{\"id\":\"1f6bfbd9-3029-48bf-aa3a-ff52b3a43eea\",\"type\":\"CDSView\"}},\"id\":\"dc134d5c-bbe9-4d60-957b-bce8ad44793e\",\"type\":\"GlyphRenderer\"},{\"attributes\":{\"items\":[{\"id\":\"3a7236cd-5076-4869-9e84-82148a48b66b\",\"type\":\"LegendItem\"}],\"label_text_font_size\":{\"value\":\"8pt\"},\"location\":\"top_center\",\"orientation\":\"horizontal\",\"plot\":{\"id\":\"851a44ea-ef20-427c-ab68-4a356f03d3a3\",\"subtype\":\"Figure\",\"type\":\"Plot\"}},\"id\":\"0c26a389-497c-4e1f-b3fd-9dfeaf473b87\",\"type\":\"Legend\"},{\"attributes\":{\"line_alpha\":0.1,\"line_color\":\"#1f77b4\",\"line_dash\":[6],\"line_width\":5,\"x\":{\"field\":\"x\"},\"y\":{\"field\":\"y\"}},\"id\":\"32de8019-93b6-48ba-8384-f46c46d4ab8f\",\"type\":\"Line\"},{\"attributes\":{\"ticker\":null},\"id\":\"e23be5b3-1c4d-4488-9921-b5c45fbd279f\",\"type\":\"LogTickFormatter\"},{\"attributes\":{\"line_alpha\":0.6,\"line_color\":\"#e41a1c\",\"line_dash\":[6],\"line_width\":5,\"x\":{\"field\":\"x\"},\"y\":{\"field\":\"y\"}},\"id\":\"d6186b9e-0dac-48fb-aa33-5465f1e672bf\",\"type\":\"Line\"},{\"attributes\":{\"data_source\":{\"id\":\"1bceb257-fb31-4738-9f37-09828672791f\",\"type\":\"ColumnDataSource\"},\"glyph\":{\"id\":\"d6186b9e-0dac-48fb-aa33-5465f1e672bf\",\"type\":\"Line\"},\"hover_glyph\":null,\"muted_glyph\":null,\"nonselection_glyph\":{\"id\":\"32de8019-93b6-48ba-8384-f46c46d4ab8f\",\"type\":\"Line\"},\"selection_glyph\":null,\"view\":{\"id\":\"1be47499-f978-47ba-93f8-5d1ad35d9623\",\"type\":\"CDSView\"}},\"id\":\"1068ad6b-090c-4c95-be55-6321adcfd8be\",\"type\":\"GlyphRenderer\"},{\"attributes\":{\"data_source\":{\"id\":\"ba38e68a-20cb-4ed1-aec3-4390b9f1fc8b\",\"type\":\"ColumnDataSource\"},\"glyph\":{\"id\":\"80dc138e-6892-40d2-b9ec-6e52ca8e50b9\",\"type\":\"Circle\"},\"hover_glyph\":null,\"muted_glyph\":null,\"nonselection_glyph\":{\"id\":\"ca478030-7387-413e-a875-6ccd5a1bc5a9\",\"type\":\"Circle\"},\"selection_glyph\":null,\"view\":{\"id\":\"6d637225-344b-4269-8276-c0e070af6c9e\",\"type\":\"CDSView\"}},\"id\":\"ead19c4e-5b14-41f8-9b9e-3f22896b0174\",\"type\":\"GlyphRenderer\"},{\"attributes\":{\"callback\":null,\"end\":0.01,\"start\":1020},\"id\":\"157389c2-16d2-42ca-9464-384a244807ad\",\"type\":\"Range1d\"},{\"attributes\":{\"fill_alpha\":{\"value\":0.7},\"fill_color\":{\"value\":\"#984ea3\"},\"line_alpha\":{\"value\":0.7},\"line_color\":{\"value\":\"#984ea3\"},\"x\":{\"field\":\"x\"},\"y\":{\"field\":\"y\"}},\"id\":\"80dc138e-6892-40d2-b9ec-6e52ca8e50b9\",\"type\":\"Circle\"},{\"attributes\":{\"source\":{\"id\":\"8017dfd1-b33e-434d-80c3-9e3859385a4b\",\"type\":\"ColumnDataSource\"}},\"id\":\"32101346-62c9-434b-9044-5904a651bcea\",\"type\":\"CDSView\"},{\"attributes\":{\"data_source\":{\"id\":\"8017dfd1-b33e-434d-80c3-9e3859385a4b\",\"type\":\"ColumnDataSource\"},\"glyph\":{\"id\":\"4466f346-cdee-4439-93e9-3a85f6b67559\",\"type\":\"Circle\"},\"hover_glyph\":null,\"muted_glyph\":null,\"nonselection_glyph\":{\"id\":\"2d361a59-48ef-4ac9-8c7b-8d6ad41eeab3\",\"type\":\"Circle\"},\"selection_glyph\":null,\"view\":{\"id\":\"32101346-62c9-434b-9044-5904a651bcea\",\"type\":\"CDSView\"}},\"id\":\"2224bcb5-348c-4daa-9760-823ef0705a47\",\"type\":\"GlyphRenderer\"},{\"attributes\":{\"fill_alpha\":{\"value\":0.7},\"fill_color\":{\"value\":\"#4daf4a\"},\"line_alpha\":{\"value\":0.7},\"line_color\":{\"value\":\"#4daf4a\"},\"x\":{\"field\":\"x\"},\"y\":{\"field\":\"y\"}},\"id\":\"4466f346-cdee-4439-93e9-3a85f6b67559\",\"type\":\"Circle\"},{\"attributes\":{\"fill_alpha\":{\"value\":0.7},\"fill_color\":{\"value\":\"#4daf4a\"},\"line_alpha\":{\"value\":0.7},\"line_color\":{\"value\":\"#4daf4a\"},\"x\":{\"field\":\"x\"},\"y\":{\"field\":\"y\"}},\"id\":\"c6d59d6d-7cd1-41b0-a054-75080f3e22c5\",\"type\":\"Circle\"},{\"attributes\":{\"callback\":null,\"data\":{\"x\":{\"__ndarray__\":\"XLWE3/puur94oj3BckK6v6L6vQPy27m/bT7HqrVuub8/dsMomwG5vwAegdrQlri/JOgbEKIuuL+2UMLk98q3v31ua4Ldbbe/oEVjq9Mat78RmK8Ux9a2v9FiPXaWp7a/8E3vvDaWtr+L6yTK+qe2v3mdNcE1zLW/Ffv+327Psb9w9APnJEWlv9qySWzh83u/Kv0us6LioT/Ppk4A+Lm1P93oCIWtfsI/CFIx53ylyz945qsFcuDRPytWJl99OtE/3ckrAFsYyT/5xXyrOzfAP1W59T9lobM/4Rdz5Dz0pj+MU6BbV+ibP3uBCFpJd5I/KjLxSVKSiD+EZ68v88x8P+9C7RpYPm8/EnK9qL8QWT+loo/DaUthvzVDhGG72X2/tcyHP0FkiL8ARBhERjWQv03p+9G5oJW/X9/72ZeFm79wwG3B4Aeev15/TwJUnpy/FzIuh6PMmr8j+lLLGBeZv6rNU6scS5e/lhaB89pTlb+zDvgQFSmTvyXJj9JOyJC/vQdSozxljL/Ee/xIi9+GvzrlAjULJIG/DMPAZaC6dr+VDzmtv5RmvzHI/jNRa/c+NFij5PZHZz/HwINk1pJ3P1Kstn34AoI/ppVZvAyKiD9V0Qb92GaPPw5C4EtYUJM/85vb56Uglz/T9XfIKiubP5s/v1IKeJ8/g0OO/q4Hoj/32DXY1nqkPx+eiPLDEKc/1G/iiA6xqT+Eu4M9xSisP8f0DRd8RK4/84j/q/b/rz+o2weQCcewP8Y1UnfklrE/bGElBWeHsj/J1nLopq2zP9lNnQWpLbU/\",\"dtype\":\"float64\",\"shape\":[75]},\"y\":{\"__ndarray__\":\"GhExyth1ND/Sv8nbtpRIP2vylNV0PVE/aTum7souWD/At0SJ8fVgPw3Iuahxymc/MSNhhJWvcD/bTfBN02d3P2zb5nxnaoA/CD5h5MAGhz8NmeH1TyaQP+zrCsc9p5Y/LbKd76fGnz/bLW5ISEmmPww9YvTcQq8/JV2OstnstT8Er5Y7M8G+P0c+r3jqkcU/5h99k6ZBzj88bCIzFzjVP4enV8oyxN0//yH99nXg5D8qOpLLf0jtP5kqGJXUifQ/c9cS8kHP/D+/DpwzojQEQIEmwoanVwxA4lgXt9HgE0BSSZ2AJuIbQAMJih9jjiNA5q4l5INuK0AwTKYKRj0zQNv5fmq8/DpAaCJseHrtQkB/+zpwzoxKQM3MzMzMeFJAZmZmZmZqWEAAAAAAAFxeQM3MzMzMJmJAmpmZmZkfZUBmZmZmZhhoQDMzMzMzEWtAAAAAAAAKbkBmZmZmZoFwQM3MzMzM/XFAMzMzMzN6c0CamZmZmfZ0QAAAAAAAc3ZAZmZmZmbvd0DNzMzMzGt5QDMzMzMz6HpAmpmZmZlkfEAAAAAAAOF9QGZmZmZmXX9AZmZmZuZsgECamZmZGSuBQM3MzMxM6YFAAAAAAICngkAzMzMzs2WDQGZmZmbmI4RAmpmZmRnihEDNzMzMTKCFQAAAAACAXoZAMzMzM7Mch0BmZmZm5tqHQJqZmZkZmYhAzczMzExXiUAAAAAAgBWKQDMzMzOz04pAZmZmZuaRi0CamZmZGVCMQM3MzMxMDo1AAAAAAIDMjUAzMzMzs4qOQGZmZmbmSI9A\",\"dtype\":\"float64\",\"shape\":[75]}},\"selected\":{\"id\":\"693a1196-969e-4e84-9cbb-bcade9915dcf\",\"type\":\"Selection\"},\"selection_policy\":{\"id\":\"1147f706-3cf9-4389-b309-59aacdc04216\",\"type\":\"UnionRenderers\"}},\"id\":\"a518a5ee-ca34-4c5e-a93a-f3f31fcbb3da\",\"type\":\"ColumnDataSource\"},{\"attributes\":{\"label\":{\"value\":\"CLIRAD\"},\"renderers\":[{\"id\":\"dc134d5c-bbe9-4d60-957b-bce8ad44793e\",\"type\":\"GlyphRenderer\"}]},\"id\":\"c5e9d8e0-40ba-471c-be20-b5de963df6e0\",\"type\":\"LegendItem\"},{\"attributes\":{\"callback\":null,\"data\":{\"x\":{\"__ndarray__\":\"XLWE3/puur94oj3BckK6v6L6vQPy27m/bT7HqrVuub8/dsMomwG5vwAegdrQlri/JOgbEKIuuL+2UMLk98q3v31ua4Ldbbe/oEVjq9Mat78RmK8Ux9a2v9FiPXaWp7a/8E3vvDaWtr+L6yTK+qe2v3mdNcE1zLW/Ffv+327Psb9w9APnJEWlv9qySWzh83u/Kv0us6LioT/Ppk4A+Lm1P93oCIWtfsI/CFIx53ylyz945qsFcuDRPytWJl99OtE/3ckrAFsYyT/5xXyrOzfAP1W59T9lobM/4Rdz5Dz0pj+MU6BbV+ibP3uBCFpJd5I/KjLxSVKSiD+EZ68v88x8P+9C7RpYPm8/EnK9qL8QWT+loo/DaUthvzVDhGG72X2/tcyHP0FkiL8ARBhERjWQv03p+9G5oJW/X9/72ZeFm79wwG3B4Aeev15/TwJUnpy/FzIuh6PMmr8j+lLLGBeZv6rNU6scS5e/lhaB89pTlb+zDvgQFSmTvyXJj9JOyJC/vQdSozxljL/Ee/xIi9+GvzrlAjULJIG/DMPAZaC6dr+VDzmtv5RmvzHI/jNRa/c+NFij5PZHZz/HwINk1pJ3P1Kstn34AoI/ppVZvAyKiD9V0Qb92GaPPw5C4EtYUJM/85vb56Uglz/T9XfIKiubP5s/v1IKeJ8/g0OO/q4Hoj/32DXY1nqkPx+eiPLDEKc/1G/iiA6xqT+Eu4M9xSisP8f0DRd8RK4/84j/q/b/rz+o2weQCcewP8Y1UnfklrE/bGElBWeHsj/J1nLopq2zP9lNnQWpLbU/\",\"dtype\":\"float64\",\"shape\":[75]},\"y\":{\"__ndarray__\":\"GhExyth1ND/Sv8nbtpRIP2vylNV0PVE/aTum7souWD/At0SJ8fVgPw3Iuahxymc/MSNhhJWvcD/bTfBN02d3P2zb5nxnaoA/CD5h5MAGhz8NmeH1TyaQP+zrCsc9p5Y/LbKd76fGnz/bLW5ISEmmPww9YvTcQq8/JV2OstnstT8Er5Y7M8G+P0c+r3jqkcU/5h99k6ZBzj88bCIzFzjVP4enV8oyxN0//yH99nXg5D8qOpLLf0jtP5kqGJXUifQ/c9cS8kHP/D+/DpwzojQEQIEmwoanVwxA4lgXt9HgE0BSSZ2AJuIbQAMJih9jjiNA5q4l5INuK0AwTKYKRj0zQNv5fmq8/DpAaCJseHrtQkB/+zpwzoxKQM3MzMzMeFJAZmZmZmZqWEAAAAAAAFxeQM3MzMzMJmJAmpmZmZkfZUBmZmZmZhhoQDMzMzMzEWtAAAAAAAAKbkBmZmZmZoFwQM3MzMzM/XFAMzMzMzN6c0CamZmZmfZ0QAAAAAAAc3ZAZmZmZmbvd0DNzMzMzGt5QDMzMzMz6HpAmpmZmZlkfEAAAAAAAOF9QGZmZmZmXX9AZmZmZuZsgECamZmZGSuBQM3MzMxM6YFAAAAAAICngkAzMzMzs2WDQGZmZmbmI4RAmpmZmRnihEDNzMzMTKCFQAAAAACAXoZAMzMzM7Mch0BmZmZm5tqHQJqZmZkZmYhAzczMzExXiUAAAAAAgBWKQDMzMzOz04pAZmZmZuaRi0CamZmZGVCMQM3MzMxMDo1AAAAAAIDMjUAzMzMzs4qOQGZmZmbmSI9A\",\"dtype\":\"float64\",\"shape\":[75]}},\"selected\":{\"id\":\"211d4c32-edc8-46db-98f6-a60920a16013\",\"type\":\"Selection\"},\"selection_policy\":{\"id\":\"3fef564d-9cd5-4d66-bf61-652adefe2eda\",\"type\":\"UnionRenderers\"}},\"id\":\"8017dfd1-b33e-434d-80c3-9e3859385a4b\",\"type\":\"ColumnDataSource\"},{\"attributes\":{\"source\":{\"id\":\"e3b6a125-825b-4494-8121-8a609a12b201\",\"type\":\"ColumnDataSource\"}},\"id\":\"1f6bfbd9-3029-48bf-aa3a-ff52b3a43eea\",\"type\":\"CDSView\"},{\"attributes\":{\"fill_alpha\":{\"value\":0.1},\"fill_color\":{\"value\":\"#1f77b4\"},\"line_alpha\":{\"value\":0.1},\"line_color\":{\"value\":\"#1f77b4\"},\"x\":{\"field\":\"x\"},\"y\":{\"field\":\"y\"}},\"id\":\"ca478030-7387-413e-a875-6ccd5a1bc5a9\",\"type\":\"Circle\"},{\"attributes\":{},\"id\":\"1db423a6-d21c-485f-bf7a-53853e1f8de2\",\"type\":\"SaveTool\"},{\"attributes\":{\"source\":{\"id\":\"1bceb257-fb31-4738-9f37-09828672791f\",\"type\":\"ColumnDataSource\"}},\"id\":\"1be47499-f978-47ba-93f8-5d1ad35d9623\",\"type\":\"CDSView\"},{\"attributes\":{\"callback\":null,\"data\":{\"x\":{\"__ndarray__\":\"TIS0E3UgsL/c9Zgoegqwv/7XH3nzdK+/AB19yNPgrr/1YyYrGFKuv98dMEiGu62/ZEaXzLYorb/hXr1ODY6sv7v385yY+Ku/BvN4c6lbq7/i6E6hzcCqv7b71Yy8Kqq/wg3Zb/6Uqb/xq3Nl2QCpvzpI7J7h8aa//iF7WGx2oL88U6iQ8ECFv5Os3NlWwZE/GJPO2pJiqj9PlF153+e3P0jD+PwXd8I/Vz1Zn68+yj/FMZoE6aPQP9Zgol/hptA/zZcZMtmhyj8ajc+E2h/DP40QUVfPJLk/OCFZCmfOrT9PiZwDRgqgP7aU2Cr8apA/AA8drXBPgT/qUW7hh3h0P7EG8C8V9G8/GU40hQYEZj+XM+d4Al1Rv4jXpQA85ny/m7Em8Q3iib/aS5bB7feRv4+u57qFIZi/7QGYRuZEnr/TE6z55nGgv0PxkHOds5+/RRzVJ0Sunb/JjHMSDKubv34C07xpkpm/eVqk5glcl78eElhy/fyUv/7JKB4Qg5K/8MOK9j27j79hP7lsqTaKv+cadhyun4S/0ybhUtc4fr9Rr7wEeBdzv87LC2VKcWC/Jko9kV8GRj9kilye315sP0KrDz9rOno/I2AOjmZ9gz8QYpD7SkCKP8fLBHHnupA/wUOqdUCVlD94Wge8OaWYP+zBJPzVE50/HaNTAqPloD8bza4eBGKjP42xwDBgBaY/TwYGjGOtqD+RRXyH4TCrPz1yMvLgc60/fHkWFtJbrz+RKmZY0I2wP1rD/ml8c7E/yPZ49ixssj+8MOf/eo+zP8ZP+3+J37Q/\",\"dtype\":\"float64\",\"shape\":[75]},\"y\":{\"__ndarray__\":\"GhExyth1ND/Sv8nbtpRIP2vylNV0PVE/aTum7souWD/At0SJ8fVgPw3Iuahxymc/MSNhhJWvcD/bTfBN02d3P2zb5nxnaoA/CD5h5MAGhz8NmeH1TyaQP+zrCsc9p5Y/LbKd76fGnz/bLW5ISEmmPww9YvTcQq8/JV2OstnstT8Er5Y7M8G+P0c+r3jqkcU/5h99k6ZBzj88bCIzFzjVP4enV8oyxN0//yH99nXg5D8qOpLLf0jtP5kqGJXUifQ/c9cS8kHP/D+/DpwzojQEQIEmwoanVwxA4lgXt9HgE0BSSZ2AJuIbQAMJih9jjiNA5q4l5INuK0AwTKYKRj0zQNv5fmq8/DpAaCJseHrtQkB/+zpwzoxKQM3MzMzMeFJAZmZmZmZqWEAAAAAAAFxeQM3MzMzMJmJAmpmZmZkfZUBmZmZmZhhoQDMzMzMzEWtAAAAAAAAKbkBmZmZmZoFwQM3MzMzM/XFAMzMzMzN6c0CamZmZmfZ0QAAAAAAAc3ZAZmZmZmbvd0DNzMzMzGt5QDMzMzMz6HpAmpmZmZlkfEAAAAAAAOF9QGZmZmZmXX9AZmZmZuZsgECamZmZGSuBQM3MzMxM6YFAAAAAAICngkAzMzMzs2WDQGZmZmbmI4RAmpmZmRnihEDNzMzMTKCFQAAAAACAXoZAMzMzM7Mch0BmZmZm5tqHQJqZmZkZmYhAzczMzExXiUAAAAAAgBWKQDMzMzOz04pAZmZmZuaRi0CamZmZGVCMQM3MzMxMDo1AAAAAAIDMjUAzMzMzs4qOQGZmZmbmSI9A\",\"dtype\":\"float64\",\"shape\":[75]}},\"selected\":{\"id\":\"a8c34188-19be-4049-bb8a-a03e95fd2f23\",\"type\":\"Selection\"},\"selection_policy\":{\"id\":\"71300906-0a8f-4e0f-a1a7-5a0e433ffeb2\",\"type\":\"UnionRenderers\"}},\"id\":\"1bceb257-fb31-4738-9f37-09828672791f\",\"type\":\"ColumnDataSource\"}],\"root_ids\":[\"d8c2f586-92e3-4cc4-9548-acdb00613ba5\"]},\"title\":\"Bokeh Application\",\"version\":\"0.12.16\"}};\n",
       "  var render_items = [{\"docid\":\"81b57397-9649-4452-b070-8fa519adc480\",\"elementid\":\"d4edf7eb-ce76-44b9-a933-314ae693d8bd\",\"modelid\":\"d8c2f586-92e3-4cc4-9548-acdb00613ba5\"}];\n",
       "  root.Bokeh.embed.embed_items_notebook(docs_json, render_items);\n",
       "\n",
       "  }\n",
       "  if (root.Bokeh !== undefined) {\n",
       "    embed_document(root);\n",
       "  } else {\n",
       "    var attempts = 0;\n",
       "    var timer = setInterval(function(root) {\n",
       "      if (root.Bokeh !== undefined) {\n",
       "        embed_document(root);\n",
       "        clearInterval(timer);\n",
       "      }\n",
       "      attempts++;\n",
       "      if (attempts > 100) {\n",
       "        console.log(\"Bokeh: ERROR: Unable to run BokehJS code because BokehJS library is missing\")\n",
       "        clearInterval(timer);\n",
       "      }\n",
       "    }, 10, root)\n",
       "  }\n",
       "})(window);"
      ],
      "application/vnd.bokehjs_exec.v0+json": ""
     },
     "metadata": {
      "application/vnd.bokehjs_exec.v0+json": {
       "id": "d8c2f586-92e3-4cc4-9548-acdb00613ba5"
      }
     },
     "output_type": "display_data"
    },
    {
     "data": {
      "text/markdown": [
       "*FIGURE.* Cooling rates & difference."
      ],
      "text/plain": [
       "<IPython.core.display.Markdown object>"
      ]
     },
     "metadata": {},
     "output_type": "display_data"
    },
    {
     "data": {
      "text/html": [
       "<a id=\"Fluxes._mls.\"></a>"
      ],
      "text/plain": [
       "<IPython.core.display.HTML object>"
      ]
     },
     "metadata": {},
     "output_type": "display_data"
    },
    {
     "data": {
      "text/markdown": [
       "# Fluxes. mls."
      ],
      "text/plain": [
       "<IPython.core.display.Markdown object>"
      ]
     },
     "metadata": {},
     "output_type": "display_data"
    },
    {
     "data": {
      "text/html": [
       "\n",
       "<div class=\"bk-root\">\n",
       "    <div class=\"bk-plotdiv\" id=\"2e5adf6c-53da-4f71-ae5f-befb6022c519\"></div>\n",
       "</div>"
      ]
     },
     "metadata": {},
     "output_type": "display_data"
    },
    {
     "data": {
      "application/javascript": [
       "(function(root) {\n",
       "  function embed_document(root) {\n",
       "    \n",
       "  var docs_json = {\"fc170ab5-00e4-418e-8710-6df810040bfb\":{\"roots\":{\"references\":[{\"attributes\":{\"plot\":{\"id\":\"3f060b35-233f-41f3-814b-97ef73232471\",\"subtype\":\"Figure\",\"type\":\"Plot\"},\"ticker\":{\"id\":\"0a451915-7748-4cf7-8bfc-81e024c3e053\",\"type\":\"CategoricalTicker\"}},\"id\":\"84d75af8-7245-4821-84b7-bb78870f7c3a\",\"type\":\"Grid\"},{\"attributes\":{},\"id\":\"574eae30-52c4-4bbe-877b-478214b52122\",\"type\":\"ResetTool\"},{\"attributes\":{},\"id\":\"da9d0cd7-da09-479d-9b7d-9fce9aa9431a\",\"type\":\"CategoricalTicker\"},{\"attributes\":{\"callback\":null,\"factors\":[\"9\"]},\"id\":\"27b059a0-ea8e-4d80-9efc-73b1c765c87c\",\"type\":\"FactorRange\"},{\"attributes\":{\"toolbar\":{\"id\":\"a815bd02-733d-43ba-9c51-04f07d30fd99\",\"type\":\"ProxyToolbar\"},\"toolbar_location\":\"above\"},\"id\":\"24c184cc-6ebd-4d60-b579-9c54e15bafdc\",\"type\":\"ToolbarBox\"},{\"attributes\":{\"fill_alpha\":{\"value\":0.1},\"fill_color\":{\"value\":\"#1f77b4\"},\"line_alpha\":{\"value\":0.1},\"line_color\":{\"value\":\"#1f77b4\"},\"top\":{\"field\":\"flux\"},\"width\":{\"value\":0.9},\"x\":{\"field\":\"band\"}},\"id\":\"9d934fca-5f20-4685-860e-edab9ba65508\",\"type\":\"VBar\"},{\"attributes\":{},\"id\":\"2e9548b8-c622-4878-98d2-0f9d020eaf6b\",\"type\":\"LinearScale\"},{\"attributes\":{\"axis_label\":\"spectral band\",\"formatter\":{\"id\":\"e5b94e8d-742e-47b6-855e-425bc9482a4f\",\"type\":\"CategoricalTickFormatter\"},\"plot\":{\"id\":\"7b557762-2a15-4156-be87-00a395516528\",\"subtype\":\"Figure\",\"type\":\"Plot\"},\"ticker\":{\"id\":\"da9d0cd7-da09-479d-9b7d-9fce9aa9431a\",\"type\":\"CategoricalTicker\"}},\"id\":\"a50bc88a-67c1-4d48-bf33-a525b2d4b44f\",\"type\":\"CategoricalAxis\"},{\"attributes\":{},\"id\":\"0fe39a15-2d41-49b8-8d01-837acbf4e659\",\"type\":\"BasicTickFormatter\"},{\"attributes\":{},\"id\":\"a32f73f5-e0c1-4f90-b191-b79837e2a9e2\",\"type\":\"PanTool\"},{\"attributes\":{\"callback\":null,\"data\":{\"band\":[\"9\"],\"flux\":{\"__ndarray__\":\"IHCyDdyBzb8=\",\"dtype\":\"float64\",\"shape\":[1]}},\"selected\":{\"id\":\"a5649984-e5ea-4d4b-88d6-a915f78170ae\",\"type\":\"Selection\"},\"selection_policy\":{\"id\":\"bb65d1da-9b5c-48e5-94b6-4dccac2363f8\",\"type\":\"UnionRenderers\"}},\"id\":\"1baded42-0f92-4ab0-8148-75c0f031d0a1\",\"type\":\"ColumnDataSource\"},{\"attributes\":{\"bottom_units\":\"screen\",\"fill_alpha\":{\"value\":0.5},\"fill_color\":{\"value\":\"lightgrey\"},\"left_units\":\"screen\",\"level\":\"overlay\",\"line_alpha\":{\"value\":1.0},\"line_color\":{\"value\":\"black\"},\"line_dash\":[4,4],\"line_width\":{\"value\":2},\"plot\":null,\"render_mode\":\"css\",\"right_units\":\"screen\",\"top_units\":\"screen\"},\"id\":\"ebfd4622-4d67-49df-92ee-c392c2784c7e\",\"type\":\"BoxAnnotation\"},{\"attributes\":{},\"id\":\"0baf91bf-1e38-4f12-98bf-6740ab7a80ae\",\"type\":\"SaveTool\"},{\"attributes\":{},\"id\":\"1a3f33a8-2699-48d3-a29f-c060995fa879\",\"type\":\"Selection\"},{\"attributes\":{},\"id\":\"e5b94e8d-742e-47b6-855e-425bc9482a4f\",\"type\":\"CategoricalTickFormatter\"},{\"attributes\":{},\"id\":\"bb65d1da-9b5c-48e5-94b6-4dccac2363f8\",\"type\":\"UnionRenderers\"},{\"attributes\":{},\"id\":\"9fd29e57-a0b2-4a8a-a9b0-3c51ec0e5fb2\",\"type\":\"BasicTicker\"},{\"attributes\":{},\"id\":\"b73bee5c-f3f3-4c96-9495-02e0c7a10941\",\"type\":\"ResetTool\"},{\"attributes\":{\"data_source\":{\"id\":\"dfecb290-ffef-4b51-8c59-afc215bebc9b\",\"type\":\"ColumnDataSource\"},\"glyph\":{\"id\":\"44ea9e2d-3d0e-44ab-a7b7-e40d02d55e9a\",\"type\":\"VBar\"},\"hover_glyph\":null,\"muted_glyph\":null,\"nonselection_glyph\":{\"id\":\"9d934fca-5f20-4685-860e-edab9ba65508\",\"type\":\"VBar\"},\"selection_glyph\":null,\"view\":{\"id\":\"b14c0782-dc86-4283-a102-95b300da89a6\",\"type\":\"CDSView\"}},\"id\":\"9fe03926-6e46-446f-8a44-9b4affe6a572\",\"type\":\"GlyphRenderer\"},{\"attributes\":{\"children\":[{\"id\":\"39c0a2f0-05fc-4578-9739-6bf4056235d2\",\"type\":\"Row\"}]},\"id\":\"a7cfffb4-f558-40f6-b061-1b72724ffb5d\",\"type\":\"Column\"},{\"attributes\":{},\"id\":\"bcd69565-e834-42ec-8f6b-e2562efa96f3\",\"type\":\"ResetTool\"},{\"attributes\":{},\"id\":\"122e3289-e8dd-41ae-9078-c886f0212b32\",\"type\":\"CategoricalTicker\"},{\"attributes\":{\"axis_label\":\"spectral band\",\"formatter\":{\"id\":\"9f73fdef-4f40-4555-aa0b-fa87c1f2406e\",\"type\":\"CategoricalTickFormatter\"},\"plot\":{\"id\":\"8d86c9e1-e0d0-4e7b-949a-bacace7e33e9\",\"subtype\":\"Figure\",\"type\":\"Plot\"},\"ticker\":{\"id\":\"122e3289-e8dd-41ae-9078-c886f0212b32\",\"type\":\"CategoricalTicker\"}},\"id\":\"63cd6feb-29f4-4539-897a-fbd04ee81422\",\"type\":\"CategoricalAxis\"},{\"attributes\":{},\"id\":\"9f73fdef-4f40-4555-aa0b-fa87c1f2406e\",\"type\":\"CategoricalTickFormatter\"},{\"attributes\":{\"plot\":null,\"text\":\"Atmosphere heating. CLIRAD - CRD.\"},\"id\":\"6acc25e1-e41a-4084-add4-3b98b4c3066e\",\"type\":\"Title\"},{\"attributes\":{},\"id\":\"8984f95b-73fa-400e-a47e-b44538c9824e\",\"type\":\"WheelZoomTool\"},{\"attributes\":{\"axis_label\":\"flux (W m-2)\",\"formatter\":{\"id\":\"0fe39a15-2d41-49b8-8d01-837acbf4e659\",\"type\":\"BasicTickFormatter\"},\"plot\":{\"id\":\"3f060b35-233f-41f3-814b-97ef73232471\",\"subtype\":\"Figure\",\"type\":\"Plot\"},\"ticker\":{\"id\":\"3bfbe916-6778-4df0-8119-8fb551bc8e64\",\"type\":\"BasicTicker\"}},\"id\":\"dac93f27-ca99-4634-8d18-423b599b4792\",\"type\":\"LinearAxis\"},{\"attributes\":{},\"id\":\"6e32ff40-2001-487f-b0a6-f086f228bd3d\",\"type\":\"BasicTickFormatter\"},{\"attributes\":{\"source\":{\"id\":\"1baded42-0f92-4ab0-8148-75c0f031d0a1\",\"type\":\"ColumnDataSource\"}},\"id\":\"5d49b5c9-803e-4d2b-b95d-c902847297ca\",\"type\":\"CDSView\"},{\"attributes\":{\"active_drag\":\"auto\",\"active_inspect\":\"auto\",\"active_scroll\":\"auto\",\"active_tap\":\"auto\",\"tools\":[{\"id\":\"a32f73f5-e0c1-4f90-b191-b79837e2a9e2\",\"type\":\"PanTool\"},{\"id\":\"08c52034-84ec-44a5-a4b4-529628cf6e05\",\"type\":\"WheelZoomTool\"},{\"id\":\"e0449ff7-75db-4ab8-8d8e-7bb14b2bc603\",\"type\":\"BoxZoomTool\"},{\"id\":\"0baf91bf-1e38-4f12-98bf-6740ab7a80ae\",\"type\":\"SaveTool\"},{\"id\":\"574eae30-52c4-4bbe-877b-478214b52122\",\"type\":\"ResetTool\"},{\"id\":\"6a71562b-3759-4e50-8ef7-cfd351da0798\",\"type\":\"HelpTool\"}]},\"id\":\"04d1fc88-2515-4bff-bbbc-ee1bb1ed5e17\",\"type\":\"Toolbar\"},{\"attributes\":{\"callback\":null,\"factors\":[\"9\"]},\"id\":\"08cfdf0f-1b18-42ff-9776-cda5e48603f1\",\"type\":\"FactorRange\"},{\"attributes\":{},\"id\":\"f755a70a-2823-4100-95ae-0a2519456df8\",\"type\":\"SaveTool\"},{\"attributes\":{\"dimension\":1,\"plot\":{\"id\":\"3f060b35-233f-41f3-814b-97ef73232471\",\"subtype\":\"Figure\",\"type\":\"Plot\"},\"ticker\":{\"id\":\"3bfbe916-6778-4df0-8119-8fb551bc8e64\",\"type\":\"BasicTicker\"}},\"id\":\"0b6591b2-6081-4cab-880f-446ad6ac913e\",\"type\":\"Grid\"},{\"attributes\":{\"data_source\":{\"id\":\"1baded42-0f92-4ab0-8148-75c0f031d0a1\",\"type\":\"ColumnDataSource\"},\"glyph\":{\"id\":\"ad5ed993-5a07-4eb7-af9a-382a5f9036f7\",\"type\":\"VBar\"},\"hover_glyph\":null,\"muted_glyph\":null,\"nonselection_glyph\":{\"id\":\"220b29c9-a84e-4875-b358-ec2b393bccc5\",\"type\":\"VBar\"},\"selection_glyph\":null,\"view\":{\"id\":\"5d49b5c9-803e-4d2b-b95d-c902847297ca\",\"type\":\"CDSView\"}},\"id\":\"a956b1d3-a292-4105-952b-af2ca071798e\",\"type\":\"GlyphRenderer\"},{\"attributes\":{\"tools\":[{\"id\":\"16491e4e-a8a9-4708-a46a-7261abaaf8b5\",\"type\":\"PanTool\"},{\"id\":\"5c81be04-a290-4e8c-b85a-cd628b0abae6\",\"type\":\"WheelZoomTool\"},{\"id\":\"45c40050-bc2d-4e69-a37f-005f576b4997\",\"type\":\"BoxZoomTool\"},{\"id\":\"dd74b4d4-c3b8-423f-b772-e8a9cf7f4bc7\",\"type\":\"SaveTool\"},{\"id\":\"bcd69565-e834-42ec-8f6b-e2562efa96f3\",\"type\":\"ResetTool\"},{\"id\":\"75083950-1bbb-45ca-9ea8-6e1c7f53462c\",\"type\":\"HelpTool\"},{\"id\":\"7cff33c4-ab11-4a09-9f9c-ae485f99f2dc\",\"type\":\"PanTool\"},{\"id\":\"8984f95b-73fa-400e-a47e-b44538c9824e\",\"type\":\"WheelZoomTool\"},{\"id\":\"4ff449e1-26c5-476c-90bc-87fc58b4f814\",\"type\":\"BoxZoomTool\"},{\"id\":\"f755a70a-2823-4100-95ae-0a2519456df8\",\"type\":\"SaveTool\"},{\"id\":\"b73bee5c-f3f3-4c96-9495-02e0c7a10941\",\"type\":\"ResetTool\"},{\"id\":\"acad6729-3827-4752-9b35-175fc9ad7850\",\"type\":\"HelpTool\"},{\"id\":\"a32f73f5-e0c1-4f90-b191-b79837e2a9e2\",\"type\":\"PanTool\"},{\"id\":\"08c52034-84ec-44a5-a4b4-529628cf6e05\",\"type\":\"WheelZoomTool\"},{\"id\":\"e0449ff7-75db-4ab8-8d8e-7bb14b2bc603\",\"type\":\"BoxZoomTool\"},{\"id\":\"0baf91bf-1e38-4f12-98bf-6740ab7a80ae\",\"type\":\"SaveTool\"},{\"id\":\"574eae30-52c4-4bbe-877b-478214b52122\",\"type\":\"ResetTool\"},{\"id\":\"6a71562b-3759-4e50-8ef7-cfd351da0798\",\"type\":\"HelpTool\"}]},\"id\":\"a815bd02-733d-43ba-9c51-04f07d30fd99\",\"type\":\"ProxyToolbar\"},{\"attributes\":{\"children\":[{\"id\":\"8d86c9e1-e0d0-4e7b-949a-bacace7e33e9\",\"subtype\":\"Figure\",\"type\":\"Plot\"},{\"id\":\"7b557762-2a15-4156-be87-00a395516528\",\"subtype\":\"Figure\",\"type\":\"Plot\"},{\"id\":\"3f060b35-233f-41f3-814b-97ef73232471\",\"subtype\":\"Figure\",\"type\":\"Plot\"}]},\"id\":\"39c0a2f0-05fc-4578-9739-6bf4056235d2\",\"type\":\"Row\"},{\"attributes\":{},\"id\":\"37679c18-3479-44a5-9a8b-b66aff7c5696\",\"type\":\"CategoricalScale\"},{\"attributes\":{\"fill_alpha\":{\"value\":0.1},\"fill_color\":{\"value\":\"#1f77b4\"},\"line_alpha\":{\"value\":0.1},\"line_color\":{\"value\":\"#1f77b4\"},\"top\":{\"field\":\"flux\"},\"width\":{\"value\":0.9},\"x\":{\"field\":\"band\"}},\"id\":\"220b29c9-a84e-4875-b358-ec2b393bccc5\",\"type\":\"VBar\"},{\"attributes\":{},\"id\":\"3bfbe916-6778-4df0-8119-8fb551bc8e64\",\"type\":\"BasicTicker\"},{\"attributes\":{\"dimension\":1,\"plot\":{\"id\":\"8d86c9e1-e0d0-4e7b-949a-bacace7e33e9\",\"subtype\":\"Figure\",\"type\":\"Plot\"},\"ticker\":{\"id\":\"9fd29e57-a0b2-4a8a-a9b0-3c51ec0e5fb2\",\"type\":\"BasicTicker\"}},\"id\":\"21abb884-4fdf-48f2-9457-1ef252700eb9\",\"type\":\"Grid\"},{\"attributes\":{},\"id\":\"7fe5ca8b-48b6-4289-aaa9-6c927098a07b\",\"type\":\"BasicTicker\"},{\"attributes\":{},\"id\":\"a5649984-e5ea-4d4b-88d6-a915f78170ae\",\"type\":\"Selection\"},{\"attributes\":{},\"id\":\"acad6729-3827-4752-9b35-175fc9ad7850\",\"type\":\"HelpTool\"},{\"attributes\":{\"axis_label\":\"spectral band\",\"formatter\":{\"id\":\"2f360ca5-f7d3-4770-9022-6dd2672d1feb\",\"type\":\"CategoricalTickFormatter\"},\"plot\":{\"id\":\"3f060b35-233f-41f3-814b-97ef73232471\",\"subtype\":\"Figure\",\"type\":\"Plot\"},\"ticker\":{\"id\":\"0a451915-7748-4cf7-8bfc-81e024c3e053\",\"type\":\"CategoricalTicker\"}},\"id\":\"9a61e2b0-154e-4ab1-bcd2-938eaf3fb99c\",\"type\":\"CategoricalAxis\"},{\"attributes\":{\"axis_label\":\"flux (W m-2)\",\"formatter\":{\"id\":\"2baf3e54-cce2-465a-ace4-6a64e109f57e\",\"type\":\"BasicTickFormatter\"},\"plot\":{\"id\":\"7b557762-2a15-4156-be87-00a395516528\",\"subtype\":\"Figure\",\"type\":\"Plot\"},\"ticker\":{\"id\":\"7fe5ca8b-48b6-4289-aaa9-6c927098a07b\",\"type\":\"BasicTicker\"}},\"id\":\"4f088f64-414c-4d9b-8afd-925055593231\",\"type\":\"LinearAxis\"},{\"attributes\":{\"fill_color\":{\"value\":\"#1f77b4\"},\"line_color\":{\"value\":\"#1f77b4\"},\"top\":{\"field\":\"flux\"},\"width\":{\"value\":0.9},\"x\":{\"field\":\"band\"}},\"id\":\"44ea9e2d-3d0e-44ab-a7b7-e40d02d55e9a\",\"type\":\"VBar\"},{\"attributes\":{},\"id\":\"7cff33c4-ab11-4a09-9f9c-ae485f99f2dc\",\"type\":\"PanTool\"},{\"attributes\":{\"overlay\":{\"id\":\"ebfd4622-4d67-49df-92ee-c392c2784c7e\",\"type\":\"BoxAnnotation\"}},\"id\":\"e0449ff7-75db-4ab8-8d8e-7bb14b2bc603\",\"type\":\"BoxZoomTool\"},{\"attributes\":{},\"id\":\"ec098caa-6484-48e0-a783-56bfd1276f9f\",\"type\":\"CategoricalScale\"},{\"attributes\":{\"plot\":{\"id\":\"7b557762-2a15-4156-be87-00a395516528\",\"subtype\":\"Figure\",\"type\":\"Plot\"},\"ticker\":{\"id\":\"da9d0cd7-da09-479d-9b7d-9fce9aa9431a\",\"type\":\"CategoricalTicker\"}},\"id\":\"27a14ea1-1d21-43da-9cef-869d8eb9b752\",\"type\":\"Grid\"},{\"attributes\":{},\"id\":\"5c81be04-a290-4e8c-b85a-cd628b0abae6\",\"type\":\"WheelZoomTool\"},{\"attributes\":{},\"id\":\"dd74b4d4-c3b8-423f-b772-e8a9cf7f4bc7\",\"type\":\"SaveTool\"},{\"attributes\":{},\"id\":\"16491e4e-a8a9-4708-a46a-7261abaaf8b5\",\"type\":\"PanTool\"},{\"attributes\":{\"dimension\":1,\"plot\":{\"id\":\"7b557762-2a15-4156-be87-00a395516528\",\"subtype\":\"Figure\",\"type\":\"Plot\"},\"ticker\":{\"id\":\"7fe5ca8b-48b6-4289-aaa9-6c927098a07b\",\"type\":\"BasicTicker\"}},\"id\":\"d7d37419-018b-49fe-a086-86c8b54f40a3\",\"type\":\"Grid\"},{\"attributes\":{\"axis_label\":\"flux (W m-2)\",\"formatter\":{\"id\":\"6e32ff40-2001-487f-b0a6-f086f228bd3d\",\"type\":\"BasicTickFormatter\"},\"plot\":{\"id\":\"8d86c9e1-e0d0-4e7b-949a-bacace7e33e9\",\"subtype\":\"Figure\",\"type\":\"Plot\"},\"ticker\":{\"id\":\"9fd29e57-a0b2-4a8a-a9b0-3c51ec0e5fb2\",\"type\":\"BasicTicker\"}},\"id\":\"a5eff592-53ad-43d4-8b80-3186f5a42169\",\"type\":\"LinearAxis\"},{\"attributes\":{\"callback\":null},\"id\":\"0d0d10a9-f7d3-49df-a9a7-fd60b0074d72\",\"type\":\"DataRange1d\"},{\"attributes\":{\"fill_alpha\":{\"value\":0.1},\"fill_color\":{\"value\":\"#1f77b4\"},\"line_alpha\":{\"value\":0.1},\"line_color\":{\"value\":\"#1f77b4\"},\"top\":{\"field\":\"flux\"},\"width\":{\"value\":0.9},\"x\":{\"field\":\"band\"}},\"id\":\"c4cd8070-931b-433d-a764-75240ae7db56\",\"type\":\"VBar\"},{\"attributes\":{\"callback\":null},\"id\":\"dadd34b1-912a-4f3f-9d57-003827810336\",\"type\":\"DataRange1d\"},{\"attributes\":{},\"id\":\"cd2285de-2f3e-4a4f-a89b-bd805013c78e\",\"type\":\"LinearScale\"},{\"attributes\":{},\"id\":\"75083950-1bbb-45ca-9ea8-6e1c7f53462c\",\"type\":\"HelpTool\"},{\"attributes\":{\"source\":{\"id\":\"c34e9776-76ec-424a-85e9-ffbdea44cc05\",\"type\":\"ColumnDataSource\"}},\"id\":\"18c66ad7-1c4f-481e-b1b0-e36e85ed19a7\",\"type\":\"CDSView\"},{\"attributes\":{},\"id\":\"6a2b5e64-177e-4067-ad3f-72acacf7d7fc\",\"type\":\"CategoricalScale\"},{\"attributes\":{},\"id\":\"2baf3e54-cce2-465a-ace4-6a64e109f57e\",\"type\":\"BasicTickFormatter\"},{\"attributes\":{},\"id\":\"6a71562b-3759-4e50-8ef7-cfd351da0798\",\"type\":\"HelpTool\"},{\"attributes\":{},\"id\":\"f78d8cea-8232-4de3-8392-08dd93e2091f\",\"type\":\"UnionRenderers\"},{\"attributes\":{\"overlay\":{\"id\":\"f43958e3-ba74-422d-9cd3-da16dd9882e8\",\"type\":\"BoxAnnotation\"}},\"id\":\"4ff449e1-26c5-476c-90bc-87fc58b4f814\",\"type\":\"BoxZoomTool\"},{\"attributes\":{},\"id\":\"0a451915-7748-4cf7-8bfc-81e024c3e053\",\"type\":\"CategoricalTicker\"},{\"attributes\":{\"below\":[{\"id\":\"63cd6feb-29f4-4539-897a-fbd04ee81422\",\"type\":\"CategoricalAxis\"}],\"left\":[{\"id\":\"a5eff592-53ad-43d4-8b80-3186f5a42169\",\"type\":\"LinearAxis\"}],\"plot_height\":300,\"plot_width\":300,\"renderers\":[{\"id\":\"63cd6feb-29f4-4539-897a-fbd04ee81422\",\"type\":\"CategoricalAxis\"},{\"id\":\"e6898777-480f-4cb2-87a6-a59e04dc3d18\",\"type\":\"Grid\"},{\"id\":\"a5eff592-53ad-43d4-8b80-3186f5a42169\",\"type\":\"LinearAxis\"},{\"id\":\"21abb884-4fdf-48f2-9457-1ef252700eb9\",\"type\":\"Grid\"},{\"id\":\"07083cb6-165c-4d00-bb01-94fe27f77008\",\"type\":\"BoxAnnotation\"},{\"id\":\"d3442276-51c0-4535-ba12-bef2280d4529\",\"type\":\"GlyphRenderer\"}],\"title\":{\"id\":\"24a70a84-b501-4d04-886b-2680f24213cd\",\"type\":\"Title\"},\"toolbar\":{\"id\":\"a1b13a24-29de-4980-bc07-9e3c3d8e9cd4\",\"type\":\"Toolbar\"},\"toolbar_location\":null,\"x_range\":{\"id\":\"72d08e15-9240-43f0-9e95-76584c6066d6\",\"type\":\"FactorRange\"},\"x_scale\":{\"id\":\"ec098caa-6484-48e0-a783-56bfd1276f9f\",\"type\":\"CategoricalScale\"},\"y_range\":{\"id\":\"0d0d10a9-f7d3-49df-a9a7-fd60b0074d72\",\"type\":\"DataRange1d\"},\"y_scale\":{\"id\":\"ba568cef-c45c-4f30-9a95-800545cded4b\",\"type\":\"LinearScale\"}},\"id\":\"8d86c9e1-e0d0-4e7b-949a-bacace7e33e9\",\"subtype\":\"Figure\",\"type\":\"Plot\"},{\"attributes\":{\"callback\":null,\"data\":{\"band\":[\"9\"],\"flux\":{\"__ndarray__\":\"APPGSWHeyT8=\",\"dtype\":\"float64\",\"shape\":[1]}},\"selected\":{\"id\":\"022a2745-316e-4046-b907-246e5dfe9a72\",\"type\":\"Selection\"},\"selection_policy\":{\"id\":\"49c7f4e2-2a5d-46e1-83d8-17379d9d6dc7\",\"type\":\"UnionRenderers\"}},\"id\":\"dfecb290-ffef-4b51-8c59-afc215bebc9b\",\"type\":\"ColumnDataSource\"},{\"attributes\":{\"active_drag\":\"auto\",\"active_inspect\":\"auto\",\"active_scroll\":\"auto\",\"active_tap\":\"auto\",\"tools\":[{\"id\":\"7cff33c4-ab11-4a09-9f9c-ae485f99f2dc\",\"type\":\"PanTool\"},{\"id\":\"8984f95b-73fa-400e-a47e-b44538c9824e\",\"type\":\"WheelZoomTool\"},{\"id\":\"4ff449e1-26c5-476c-90bc-87fc58b4f814\",\"type\":\"BoxZoomTool\"},{\"id\":\"f755a70a-2823-4100-95ae-0a2519456df8\",\"type\":\"SaveTool\"},{\"id\":\"b73bee5c-f3f3-4c96-9495-02e0c7a10941\",\"type\":\"ResetTool\"},{\"id\":\"acad6729-3827-4752-9b35-175fc9ad7850\",\"type\":\"HelpTool\"}]},\"id\":\"f8a3275f-356b-41c3-8f8c-4ed2fb3cde38\",\"type\":\"Toolbar\"},{\"attributes\":{\"children\":[{\"id\":\"24c184cc-6ebd-4d60-b579-9c54e15bafdc\",\"type\":\"ToolbarBox\"},{\"id\":\"a7cfffb4-f558-40f6-b061-1b72724ffb5d\",\"type\":\"Column\"}]},\"id\":\"cbcfd49a-1188-40bb-beb5-6a7115a7eade\",\"type\":\"Column\"},{\"attributes\":{\"callback\":null},\"id\":\"e18c1715-7ab7-47d9-bb34-f3292f566763\",\"type\":\"DataRange1d\"},{\"attributes\":{},\"id\":\"ba568cef-c45c-4f30-9a95-800545cded4b\",\"type\":\"LinearScale\"},{\"attributes\":{\"below\":[{\"id\":\"a50bc88a-67c1-4d48-bf33-a525b2d4b44f\",\"type\":\"CategoricalAxis\"}],\"left\":[{\"id\":\"4f088f64-414c-4d9b-8afd-925055593231\",\"type\":\"LinearAxis\"}],\"plot_height\":300,\"plot_width\":300,\"renderers\":[{\"id\":\"a50bc88a-67c1-4d48-bf33-a525b2d4b44f\",\"type\":\"CategoricalAxis\"},{\"id\":\"27a14ea1-1d21-43da-9cef-869d8eb9b752\",\"type\":\"Grid\"},{\"id\":\"4f088f64-414c-4d9b-8afd-925055593231\",\"type\":\"LinearAxis\"},{\"id\":\"d7d37419-018b-49fe-a086-86c8b54f40a3\",\"type\":\"Grid\"},{\"id\":\"f43958e3-ba74-422d-9cd3-da16dd9882e8\",\"type\":\"BoxAnnotation\"},{\"id\":\"a956b1d3-a292-4105-952b-af2ca071798e\",\"type\":\"GlyphRenderer\"}],\"title\":{\"id\":\"84187e07-bf6c-471a-bbde-c5babbd9ad54\",\"type\":\"Title\"},\"toolbar\":{\"id\":\"f8a3275f-356b-41c3-8f8c-4ed2fb3cde38\",\"type\":\"Toolbar\"},\"toolbar_location\":null,\"x_range\":{\"id\":\"27b059a0-ea8e-4d80-9efc-73b1c765c87c\",\"type\":\"FactorRange\"},\"x_scale\":{\"id\":\"6a2b5e64-177e-4067-ad3f-72acacf7d7fc\",\"type\":\"CategoricalScale\"},\"y_range\":{\"id\":\"dadd34b1-912a-4f3f-9d57-003827810336\",\"type\":\"DataRange1d\"},\"y_scale\":{\"id\":\"2e9548b8-c622-4878-98d2-0f9d020eaf6b\",\"type\":\"LinearScale\"}},\"id\":\"7b557762-2a15-4156-be87-00a395516528\",\"subtype\":\"Figure\",\"type\":\"Plot\"},{\"attributes\":{\"below\":[{\"id\":\"9a61e2b0-154e-4ab1-bcd2-938eaf3fb99c\",\"type\":\"CategoricalAxis\"}],\"left\":[{\"id\":\"dac93f27-ca99-4634-8d18-423b599b4792\",\"type\":\"LinearAxis\"}],\"plot_height\":300,\"plot_width\":300,\"renderers\":[{\"id\":\"9a61e2b0-154e-4ab1-bcd2-938eaf3fb99c\",\"type\":\"CategoricalAxis\"},{\"id\":\"84d75af8-7245-4821-84b7-bb78870f7c3a\",\"type\":\"Grid\"},{\"id\":\"dac93f27-ca99-4634-8d18-423b599b4792\",\"type\":\"LinearAxis\"},{\"id\":\"0b6591b2-6081-4cab-880f-446ad6ac913e\",\"type\":\"Grid\"},{\"id\":\"ebfd4622-4d67-49df-92ee-c392c2784c7e\",\"type\":\"BoxAnnotation\"},{\"id\":\"9fe03926-6e46-446f-8a44-9b4affe6a572\",\"type\":\"GlyphRenderer\"}],\"title\":{\"id\":\"6acc25e1-e41a-4084-add4-3b98b4c3066e\",\"type\":\"Title\"},\"toolbar\":{\"id\":\"04d1fc88-2515-4bff-bbbc-ee1bb1ed5e17\",\"type\":\"Toolbar\"},\"toolbar_location\":null,\"x_range\":{\"id\":\"08cfdf0f-1b18-42ff-9776-cda5e48603f1\",\"type\":\"FactorRange\"},\"x_scale\":{\"id\":\"37679c18-3479-44a5-9a8b-b66aff7c5696\",\"type\":\"CategoricalScale\"},\"y_range\":{\"id\":\"e18c1715-7ab7-47d9-bb34-f3292f566763\",\"type\":\"DataRange1d\"},\"y_scale\":{\"id\":\"cd2285de-2f3e-4a4f-a89b-bd805013c78e\",\"type\":\"LinearScale\"}},\"id\":\"3f060b35-233f-41f3-814b-97ef73232471\",\"subtype\":\"Figure\",\"type\":\"Plot\"},{\"attributes\":{\"overlay\":{\"id\":\"07083cb6-165c-4d00-bb01-94fe27f77008\",\"type\":\"BoxAnnotation\"}},\"id\":\"45c40050-bc2d-4e69-a37f-005f576b4997\",\"type\":\"BoxZoomTool\"},{\"attributes\":{\"plot\":{\"id\":\"8d86c9e1-e0d0-4e7b-949a-bacace7e33e9\",\"subtype\":\"Figure\",\"type\":\"Plot\"},\"ticker\":{\"id\":\"122e3289-e8dd-41ae-9078-c886f0212b32\",\"type\":\"CategoricalTicker\"}},\"id\":\"e6898777-480f-4cb2-87a6-a59e04dc3d18\",\"type\":\"Grid\"},{\"attributes\":{\"plot\":null,\"text\":\"TOA flux. CLIRAD - CRD.\"},\"id\":\"24a70a84-b501-4d04-886b-2680f24213cd\",\"type\":\"Title\"},{\"attributes\":{\"source\":{\"id\":\"dfecb290-ffef-4b51-8c59-afc215bebc9b\",\"type\":\"ColumnDataSource\"}},\"id\":\"b14c0782-dc86-4283-a102-95b300da89a6\",\"type\":\"CDSView\"},{\"attributes\":{\"plot\":null,\"text\":\"SFC flux. CLIRAD - CRD.\"},\"id\":\"84187e07-bf6c-471a-bbde-c5babbd9ad54\",\"type\":\"Title\"},{\"attributes\":{\"bottom_units\":\"screen\",\"fill_alpha\":{\"value\":0.5},\"fill_color\":{\"value\":\"lightgrey\"},\"left_units\":\"screen\",\"level\":\"overlay\",\"line_alpha\":{\"value\":1.0},\"line_color\":{\"value\":\"black\"},\"line_dash\":[4,4],\"line_width\":{\"value\":2},\"plot\":null,\"render_mode\":\"css\",\"right_units\":\"screen\",\"top_units\":\"screen\"},\"id\":\"07083cb6-165c-4d00-bb01-94fe27f77008\",\"type\":\"BoxAnnotation\"},{\"attributes\":{\"fill_color\":{\"value\":\"#1f77b4\"},\"line_color\":{\"value\":\"#1f77b4\"},\"top\":{\"field\":\"flux\"},\"width\":{\"value\":0.9},\"x\":{\"field\":\"band\"}},\"id\":\"457219bf-7cc4-4d30-9304-c34bc252d7f2\",\"type\":\"VBar\"},{\"attributes\":{\"bottom_units\":\"screen\",\"fill_alpha\":{\"value\":0.5},\"fill_color\":{\"value\":\"lightgrey\"},\"left_units\":\"screen\",\"level\":\"overlay\",\"line_alpha\":{\"value\":1.0},\"line_color\":{\"value\":\"black\"},\"line_dash\":[4,4],\"line_width\":{\"value\":2},\"plot\":null,\"render_mode\":\"css\",\"right_units\":\"screen\",\"top_units\":\"screen\"},\"id\":\"f43958e3-ba74-422d-9cd3-da16dd9882e8\",\"type\":\"BoxAnnotation\"},{\"attributes\":{},\"id\":\"49c7f4e2-2a5d-46e1-83d8-17379d9d6dc7\",\"type\":\"UnionRenderers\"},{\"attributes\":{\"data_source\":{\"id\":\"c34e9776-76ec-424a-85e9-ffbdea44cc05\",\"type\":\"ColumnDataSource\"},\"glyph\":{\"id\":\"457219bf-7cc4-4d30-9304-c34bc252d7f2\",\"type\":\"VBar\"},\"hover_glyph\":null,\"muted_glyph\":null,\"nonselection_glyph\":{\"id\":\"c4cd8070-931b-433d-a764-75240ae7db56\",\"type\":\"VBar\"},\"selection_glyph\":null,\"view\":{\"id\":\"18c66ad7-1c4f-481e-b1b0-e36e85ed19a7\",\"type\":\"CDSView\"}},\"id\":\"d3442276-51c0-4535-ba12-bef2280d4529\",\"type\":\"GlyphRenderer\"},{\"attributes\":{\"active_drag\":\"auto\",\"active_inspect\":\"auto\",\"active_scroll\":\"auto\",\"active_tap\":\"auto\",\"tools\":[{\"id\":\"16491e4e-a8a9-4708-a46a-7261abaaf8b5\",\"type\":\"PanTool\"},{\"id\":\"5c81be04-a290-4e8c-b85a-cd628b0abae6\",\"type\":\"WheelZoomTool\"},{\"id\":\"45c40050-bc2d-4e69-a37f-005f576b4997\",\"type\":\"BoxZoomTool\"},{\"id\":\"dd74b4d4-c3b8-423f-b772-e8a9cf7f4bc7\",\"type\":\"SaveTool\"},{\"id\":\"bcd69565-e834-42ec-8f6b-e2562efa96f3\",\"type\":\"ResetTool\"},{\"id\":\"75083950-1bbb-45ca-9ea8-6e1c7f53462c\",\"type\":\"HelpTool\"}]},\"id\":\"a1b13a24-29de-4980-bc07-9e3c3d8e9cd4\",\"type\":\"Toolbar\"},{\"attributes\":{},\"id\":\"2f360ca5-f7d3-4770-9022-6dd2672d1feb\",\"type\":\"CategoricalTickFormatter\"},{\"attributes\":{\"callback\":null,\"factors\":[\"9\"]},\"id\":\"72d08e15-9240-43f0-9e95-76584c6066d6\",\"type\":\"FactorRange\"},{\"attributes\":{},\"id\":\"022a2745-316e-4046-b907-246e5dfe9a72\",\"type\":\"Selection\"},{\"attributes\":{\"fill_color\":{\"value\":\"#1f77b4\"},\"line_color\":{\"value\":\"#1f77b4\"},\"top\":{\"field\":\"flux\"},\"width\":{\"value\":0.9},\"x\":{\"field\":\"band\"}},\"id\":\"ad5ed993-5a07-4eb7-af9a-382a5f9036f7\",\"type\":\"VBar\"},{\"attributes\":{\"callback\":null,\"data\":{\"band\":[\"9\"],\"flux\":{\"__ndarray__\":\"ADTFHAQdnb8=\",\"dtype\":\"float64\",\"shape\":[1]}},\"selected\":{\"id\":\"1a3f33a8-2699-48d3-a29f-c060995fa879\",\"type\":\"Selection\"},\"selection_policy\":{\"id\":\"f78d8cea-8232-4de3-8392-08dd93e2091f\",\"type\":\"UnionRenderers\"}},\"id\":\"c34e9776-76ec-424a-85e9-ffbdea44cc05\",\"type\":\"ColumnDataSource\"},{\"attributes\":{},\"id\":\"08c52034-84ec-44a5-a4b4-529628cf6e05\",\"type\":\"WheelZoomTool\"}],\"root_ids\":[\"cbcfd49a-1188-40bb-beb5-6a7115a7eade\"]},\"title\":\"Bokeh Application\",\"version\":\"0.12.16\"}};\n",
       "  var render_items = [{\"docid\":\"fc170ab5-00e4-418e-8710-6df810040bfb\",\"elementid\":\"2e5adf6c-53da-4f71-ae5f-befb6022c519\",\"modelid\":\"cbcfd49a-1188-40bb-beb5-6a7115a7eade\"}];\n",
       "  root.Bokeh.embed.embed_items_notebook(docs_json, render_items);\n",
       "\n",
       "  }\n",
       "  if (root.Bokeh !== undefined) {\n",
       "    embed_document(root);\n",
       "  } else {\n",
       "    var attempts = 0;\n",
       "    var timer = setInterval(function(root) {\n",
       "      if (root.Bokeh !== undefined) {\n",
       "        embed_document(root);\n",
       "        clearInterval(timer);\n",
       "      }\n",
       "      attempts++;\n",
       "      if (attempts > 100) {\n",
       "        console.log(\"Bokeh: ERROR: Unable to run BokehJS code because BokehJS library is missing\")\n",
       "        clearInterval(timer);\n",
       "      }\n",
       "    }, 10, root)\n",
       "  }\n",
       "})(window);"
      ],
      "application/vnd.bokehjs_exec.v0+json": ""
     },
     "metadata": {
      "application/vnd.bokehjs_exec.v0+json": {
       "id": "cbcfd49a-1188-40bb-beb5-6a7115a7eade"
      }
     },
     "output_type": "display_data"
    },
    {
     "data": {
      "text/markdown": [
       "*FIGURE.* Difference between CLIRAD and CRD in TOA, SFC and net atmosphere flux, in each spectral band."
      ],
      "text/plain": [
       "<IPython.core.display.Markdown object>"
      ]
     },
     "metadata": {},
     "output_type": "display_data"
    },
    {
     "data": {
      "text/html": [
       "<div>\n",
       "<style scoped>\n",
       "    .dataframe tbody tr th:only-of-type {\n",
       "        vertical-align: middle;\n",
       "    }\n",
       "\n",
       "    .dataframe tbody tr th {\n",
       "        vertical-align: top;\n",
       "    }\n",
       "\n",
       "    .dataframe thead th {\n",
       "        text-align: right;\n",
       "    }\n",
       "</style>\n",
       "<table border=\"1\" class=\"dataframe\">\n",
       "  <thead>\n",
       "    <tr style=\"text-align: right;\">\n",
       "      <th></th>\n",
       "      <th>OLR flux</th>\n",
       "      <th>SFC flux</th>\n",
       "      <th>ATM heating</th>\n",
       "    </tr>\n",
       "    <tr>\n",
       "      <th>Sum over bands</th>\n",
       "      <th></th>\n",
       "      <th></th>\n",
       "      <th></th>\n",
       "    </tr>\n",
       "  </thead>\n",
       "  <tbody>\n",
       "    <tr>\n",
       "      <th>CLIRAD - CRD</th>\n",
       "      <td>-399.92</td>\n",
       "      <td>-0.23</td>\n",
       "      <td>0.20</td>\n",
       "    </tr>\n",
       "    <tr>\n",
       "      <th>CRD</th>\n",
       "      <td>-19.27</td>\n",
       "      <td>6.12</td>\n",
       "      <td>-1.64</td>\n",
       "    </tr>\n",
       "  </tbody>\n",
       "</table>\n",
       "</div>"
      ],
      "text/plain": [
       "                OLR flux  SFC flux  ATM heating\n",
       "Sum over bands                                 \n",
       "CLIRAD - CRD     -399.92     -0.23         0.20\n",
       "CRD               -19.27      6.12        -1.64"
      ]
     },
     "metadata": {},
     "output_type": "display_data"
    },
    {
     "data": {
      "text/markdown": [
       "*TABLE.* Difference between CLIRAD and CRD in TOA, SFC and net atmosphere flux, over all spectral bands. CRD's TOA, SFC and net atmosphere flux, over all spectral bands."
      ],
      "text/plain": [
       "<IPython.core.display.Markdown object>"
      ]
     },
     "metadata": {},
     "output_type": "display_data"
    },
    {
     "data": {
      "text/html": [
       "<a id=\"Cooling_rates._saw.\"></a>"
      ],
      "text/plain": [
       "<IPython.core.display.HTML object>"
      ]
     },
     "metadata": {},
     "output_type": "display_data"
    },
    {
     "data": {
      "text/markdown": [
       "# Cooling rates. saw."
      ],
      "text/plain": [
       "<IPython.core.display.Markdown object>"
      ]
     },
     "metadata": {},
     "output_type": "display_data"
    },
    {
     "data": {
      "text/html": [
       "\n",
       "<div class=\"bk-root\">\n",
       "    <div class=\"bk-plotdiv\" id=\"79572f79-a981-4942-9f21-33a652443afe\"></div>\n",
       "</div>"
      ]
     },
     "metadata": {},
     "output_type": "display_data"
    },
    {
     "data": {
      "application/javascript": [
       "(function(root) {\n",
       "  function embed_document(root) {\n",
       "    \n",
       "  var docs_json = {\"16ba1713-86de-4e72-992d-29628ac111de\":{\"roots\":{\"references\":[{\"attributes\":{\"children\":[{\"id\":\"4a74cb82-754d-4b99-86bd-31a0025cdc39\",\"type\":\"Row\"}]},\"id\":\"92760649-c4f0-428f-a952-636f202ac797\",\"type\":\"Column\"},{\"attributes\":{\"line_alpha\":0.8,\"line_color\":\"#984ea3\",\"line_width\":1.5,\"x\":{\"field\":\"x\"},\"y\":{\"field\":\"y\"}},\"id\":\"eb246d04-961d-4e67-bc67-5660b6488562\",\"type\":\"Line\"},{\"attributes\":{\"items\":[{\"id\":\"587fafdf-8c69-4d50-ad07-dd0cb9e3c603\",\"type\":\"LegendItem\"}],\"label_text_font_size\":{\"value\":\"8pt\"},\"location\":\"top_center\",\"orientation\":\"horizontal\",\"plot\":{\"id\":\"6d700d34-5644-492a-a7fd-99f765876bcc\",\"subtype\":\"Figure\",\"type\":\"Plot\"}},\"id\":\"fb805e42-b568-43a7-ad6c-86e27f12f40d\",\"type\":\"Legend\"},{\"attributes\":{},\"id\":\"9b0f6fc4-8349-4043-9ce1-02a48242c2f8\",\"type\":\"PanTool\"},{\"attributes\":{},\"id\":\"7ab47570-a62e-436b-a5ec-a57cfb35780f\",\"type\":\"BasicTickFormatter\"},{\"attributes\":{},\"id\":\"b1454174-0f24-47dc-8cea-90e7634fa7cd\",\"type\":\"WheelZoomTool\"},{\"attributes\":{\"label\":{\"value\":\"CLIRAD\"},\"renderers\":[{\"id\":\"0f745edb-6b97-4fa6-b55a-b7e6d28a81f3\",\"type\":\"GlyphRenderer\"}]},\"id\":\"6f57f32c-5b43-42e0-abb0-c9c45eb6b38f\",\"type\":\"LegendItem\"},{\"attributes\":{\"data_source\":{\"id\":\"fb4c53a1-4044-41fe-bf74-0566505fb9e1\",\"type\":\"ColumnDataSource\"},\"glyph\":{\"id\":\"332ce221-a1af-4f42-be8e-67aabfb42ea3\",\"type\":\"Circle\"},\"hover_glyph\":null,\"muted_glyph\":null,\"nonselection_glyph\":{\"id\":\"1ad49502-32f5-47f7-b5ee-fca74ddfe5c7\",\"type\":\"Circle\"},\"selection_glyph\":null,\"view\":{\"id\":\"38c2495c-d819-4726-a1b7-45a10cddf05c\",\"type\":\"CDSView\"}},\"id\":\"832d5c4b-6b68-4e51-9c53-29ddff87ac2e\",\"type\":\"GlyphRenderer\"},{\"attributes\":{},\"id\":\"e1497898-ba7d-4b84-8ece-c07b79cde54a\",\"type\":\"UnionRenderers\"},{\"attributes\":{},\"id\":\"eee44f53-287c-4af5-8d5c-e5dcca0f8d4d\",\"type\":\"BasicTickFormatter\"},{\"attributes\":{\"label\":{\"value\":\"CRD\"},\"renderers\":[{\"id\":\"7dd36658-7e59-4b05-b2f3-bfac426af8b4\",\"type\":\"GlyphRenderer\"},{\"id\":\"458d175e-8d51-411f-a67f-c8605d61fb8f\",\"type\":\"GlyphRenderer\"}]},\"id\":\"c42861ff-330e-462b-9bc3-4589dabec63c\",\"type\":\"LegendItem\"},{\"attributes\":{\"fill_alpha\":{\"value\":0.7},\"fill_color\":{\"value\":\"#4daf4a\"},\"line_alpha\":{\"value\":0.7},\"line_color\":{\"value\":\"#4daf4a\"},\"x\":{\"field\":\"x\"},\"y\":{\"field\":\"y\"}},\"id\":\"c2cf1d8e-df20-4176-9a88-c1be096f7f52\",\"type\":\"Circle\"},{\"attributes\":{},\"id\":\"4e3accc3-5fbf-4d79-a9d0-3db48e22b6ef\",\"type\":\"BasicTicker\"},{\"attributes\":{},\"id\":\"167fb5c9-359a-40f5-9749-c09924ec7f61\",\"type\":\"LinearScale\"},{\"attributes\":{\"source\":{\"id\":\"0f6a6ace-4bfb-4607-9d2d-b549028a085a\",\"type\":\"ColumnDataSource\"}},\"id\":\"1b5fbae7-c029-42c9-8c71-1dc960cd0c42\",\"type\":\"CDSView\"},{\"attributes\":{},\"id\":\"abd6996e-045d-4110-9cc6-1387de02d952\",\"type\":\"SaveTool\"},{\"attributes\":{},\"id\":\"7a83b200-6d60-4426-b34d-5b00fa681148\",\"type\":\"BasicTicker\"},{\"attributes\":{\"callback\":null,\"data\":{\"x\":{\"__ndarray__\":\"V2Fta48Hqb/dNiagltqmvx7JlvnPGaK/+RJQ/16smb8j7siQF12Mv0irr63lrlq/TjJ50NrXhz+qtQWLkKiaPwLI6gWISqU/KEt6BnfhrT/gRe3rsY6zP3SanfaogLg/Lai5Ju7CvT8OQ9QSZU7BP3nTJcp7KMM/anRBXL2zxD9O/KQcxDXGP3bEvvCMrsc/ABophKMeyT8je60ZU4/KPysLDWGI3ss/Ms5bTJ54yT8ZgUYjfsnCP+C0oeEbqrg/jc16cPhWrj8hGhqlBCqhPwx3XsUKAJE/I4/oJdSBgD9loHM+Spp3PyEPGd8rxHQ/qC01B2+kcD/MmRwfbsVlP7zpv1P0g2M/l5BkVcpLaz/+RihmF61vPzxH1GtCOHA/gt9kLsDkbT+a35If1vtjP9T/Xrc0MUc/PhNXD7nBT79wyt7GbUpmvwpL6jNIAnO/EkEOJhsRfL/VA5FGv52Dvwgapd5iZIq/62CD2ZLCjb+gCCZamcCKv1hSMFuZjYW/5IVFZBfOgL8uXZsmIGh4v/0YGfqlEm6/I5MJQOcjVb8Qk+qeoMRTP5QE+F1+T28/IQ0nKL7Mej8DIApAhR6DP0+1+hBy44g/nZvvDamVjj/e+pdBCAqSP1MAUrxGopQ/p14Dl9EMlz+rr2J8jkuZP/+goqg7aJs/MQyucs5znT8kQARXpIKfP9vyv8zf06A/8lLV9yb1oT89H1lRZxSjP9myBU/k86M/96giiRwqpD+8HwPug3CjP14H1oqZ8aE/Y5w2GCcUoD/gguNnYDqcP4PcrXsXLpg/\",\"dtype\":\"float64\",\"shape\":[75]},\"y\":{\"__ndarray__\":\"GhExyth1ND/Sv8nbtpRIP2vylNV0PVE/aTum7souWD/At0SJ8fVgPw3Iuahxymc/MSNhhJWvcD/bTfBN02d3P2zb5nxnaoA/CD5h5MAGhz8NmeH1TyaQP+zrCsc9p5Y/LbKd76fGnz/bLW5ISEmmPww9YvTcQq8/JV2OstnstT8Er5Y7M8G+P0c+r3jqkcU/5h99k6ZBzj88bCIzFzjVP4enV8oyxN0//yH99nXg5D8qOpLLf0jtP5kqGJXUifQ/c9cS8kHP/D+/DpwzojQEQIEmwoanVwxA4lgXt9HgE0BSSZ2AJuIbQAMJih9jjiNA5q4l5INuK0AwTKYKRj0zQNv5fmq8/DpAaCJseHrtQkB/+zpwzoxKQM3MzMzMeFJAZmZmZmZqWEAAAAAAAFxeQM3MzMzMJmJAmpmZmZkfZUBmZmZmZhhoQDMzMzMzEWtAAAAAAAAKbkBmZmZmZoFwQM3MzMzM/XFAMzMzMzN6c0CamZmZmfZ0QAAAAAAAc3ZAZmZmZmbvd0DNzMzMzGt5QDMzMzMz6HpAmpmZmZlkfEAAAAAAAOF9QGZmZmZmXX9AZmZmZuZsgECamZmZGSuBQM3MzMxM6YFAAAAAAICngkAzMzMzs2WDQGZmZmbmI4RAmpmZmRnihEDNzMzMTKCFQAAAAACAXoZAMzMzM7Mch0BmZmZm5tqHQJqZmZkZmYhAzczMzExXiUAAAAAAgBWKQDMzMzOz04pAZmZmZuaRi0CamZmZGVCMQM3MzMxMDo1AAAAAAIDMjUAzMzMzs4qOQGZmZmbmSI9A\",\"dtype\":\"float64\",\"shape\":[75]}},\"selected\":{\"id\":\"583ff768-9c44-4c74-a143-f1746ce8cbdf\",\"type\":\"Selection\"},\"selection_policy\":{\"id\":\"0bb0b3b5-a158-451e-a2dc-be6dc26b68c8\",\"type\":\"UnionRenderers\"}},\"id\":\"c6aeb0c7-1f7f-45a0-8901-589cbf84914f\",\"type\":\"ColumnDataSource\"},{\"attributes\":{\"active_drag\":\"auto\",\"active_inspect\":\"auto\",\"active_scroll\":\"auto\",\"active_tap\":\"auto\",\"tools\":[{\"id\":\"e35ba25f-57f4-4198-b1a5-5bbcbc4ddc2e\",\"type\":\"PanTool\"},{\"id\":\"b1454174-0f24-47dc-8cea-90e7634fa7cd\",\"type\":\"WheelZoomTool\"},{\"id\":\"74f50725-f054-4860-8427-ff7c2064a15d\",\"type\":\"BoxZoomTool\"},{\"id\":\"abd6996e-045d-4110-9cc6-1387de02d952\",\"type\":\"SaveTool\"},{\"id\":\"ca4d409d-ca31-43fc-a8f3-3f782c0d6a55\",\"type\":\"ResetTool\"},{\"id\":\"94600c29-ac7c-432f-bdc0-d787436bc287\",\"type\":\"HelpTool\"}]},\"id\":\"602ee1a1-e9b3-4679-86bc-474f643c7925\",\"type\":\"Toolbar\"},{\"attributes\":{},\"id\":\"1585d286-3c3e-4819-aebb-9961110fb588\",\"type\":\"WheelZoomTool\"},{\"attributes\":{},\"id\":\"a92df942-cf2e-4a80-b669-b55e86a0de78\",\"type\":\"Selection\"},{\"attributes\":{},\"id\":\"19dbf3c8-7a25-476d-8f78-563a774b949e\",\"type\":\"LinearScale\"},{\"attributes\":{},\"id\":\"ea5470a6-b037-415e-97d4-c4ac0e98e7be\",\"type\":\"BasicTicker\"},{\"attributes\":{},\"id\":\"7e871096-a647-46e0-b61c-7300ed6ff609\",\"type\":\"ResetTool\"},{\"attributes\":{\"source\":{\"id\":\"80d6d2a7-16fd-4528-beaf-1f275d2e7b8f\",\"type\":\"ColumnDataSource\"}},\"id\":\"f7a6b98a-ae07-4056-8fd9-42040ca22043\",\"type\":\"CDSView\"},{\"attributes\":{},\"id\":\"ab6f4d6e-8b35-4462-81e0-74906039be02\",\"type\":\"LogScale\"},{\"attributes\":{},\"id\":\"6113c045-953d-4c05-88b8-1d0cb5a2679f\",\"type\":\"LogScale\"},{\"attributes\":{\"axis_label\":\"cooling rate [K/day]\",\"formatter\":{\"id\":\"32f18bc9-93b5-4582-bb79-4cc3feff2478\",\"type\":\"BasicTickFormatter\"},\"plot\":{\"id\":\"31b87263-d4ac-47c3-be9b-c47e7adf1899\",\"subtype\":\"Figure\",\"type\":\"Plot\"},\"ticker\":{\"id\":\"ea5470a6-b037-415e-97d4-c4ac0e98e7be\",\"type\":\"BasicTicker\"}},\"id\":\"c96e2b95-eb06-45e0-a3b0-dbc38d893fc9\",\"type\":\"LinearAxis\"},{\"attributes\":{},\"id\":\"e35ba25f-57f4-4198-b1a5-5bbcbc4ddc2e\",\"type\":\"PanTool\"},{\"attributes\":{\"line_alpha\":0.1,\"line_color\":\"#1f77b4\",\"line_width\":1.5,\"x\":{\"field\":\"x\"},\"y\":{\"field\":\"y\"}},\"id\":\"6d3b5433-8920-4772-b099-e58d76f77cd1\",\"type\":\"Line\"},{\"attributes\":{},\"id\":\"3634cf0e-c23d-4a1a-9da9-3400094e7e52\",\"type\":\"SaveTool\"},{\"attributes\":{\"data_source\":{\"id\":\"4219acb6-b7fa-4c29-b10c-1c2a17f913f3\",\"type\":\"ColumnDataSource\"},\"glyph\":{\"id\":\"c2cf1d8e-df20-4176-9a88-c1be096f7f52\",\"type\":\"Circle\"},\"hover_glyph\":null,\"muted_glyph\":null,\"nonselection_glyph\":{\"id\":\"a24a3f46-3844-444c-9659-57a76928e93c\",\"type\":\"Circle\"},\"selection_glyph\":null,\"view\":{\"id\":\"c700d40c-2304-4134-a5bb-f509ab292ec7\",\"type\":\"CDSView\"}},\"id\":\"7dd36658-7e59-4b05-b2f3-bfac426af8b4\",\"type\":\"GlyphRenderer\"},{\"attributes\":{\"children\":[{\"id\":\"31b87263-d4ac-47c3-be9b-c47e7adf1899\",\"subtype\":\"Figure\",\"type\":\"Plot\"},{\"id\":\"f4f6a6c3-9e45-4704-be5b-b655d967b1a7\",\"subtype\":\"Figure\",\"type\":\"Plot\"},{\"id\":\"6d700d34-5644-492a-a7fd-99f765876bcc\",\"subtype\":\"Figure\",\"type\":\"Plot\"}]},\"id\":\"4a74cb82-754d-4b99-86bd-31a0025cdc39\",\"type\":\"Row\"},{\"attributes\":{},\"id\":\"3e239f2b-4ea9-407a-8add-6562fbb606b4\",\"type\":\"UnionRenderers\"},{\"attributes\":{\"bottom_units\":\"screen\",\"fill_alpha\":{\"value\":0.5},\"fill_color\":{\"value\":\"lightgrey\"},\"left_units\":\"screen\",\"level\":\"overlay\",\"line_alpha\":{\"value\":1.0},\"line_color\":{\"value\":\"black\"},\"line_dash\":[4,4],\"line_width\":{\"value\":2},\"plot\":null,\"render_mode\":\"css\",\"right_units\":\"screen\",\"top_units\":\"screen\"},\"id\":\"01594328-3a17-4f62-8794-fb373c0a4f85\",\"type\":\"BoxAnnotation\"},{\"attributes\":{\"overlay\":{\"id\":\"b4bbdde2-0ecb-4b2c-b079-a1809aab121c\",\"type\":\"BoxAnnotation\"}},\"id\":\"74f50725-f054-4860-8427-ff7c2064a15d\",\"type\":\"BoxZoomTool\"},{\"attributes\":{\"plot\":null,\"text\":\"\"},\"id\":\"36f7c001-0e6b-4ade-b283-82e16f0f5779\",\"type\":\"Title\"},{\"attributes\":{\"ticker\":null},\"id\":\"f277dfe6-2e3f-4d27-902f-54a5da72aebc\",\"type\":\"LogTickFormatter\"},{\"attributes\":{\"fill_alpha\":{\"value\":0.7},\"fill_color\":{\"value\":\"#984ea3\"},\"line_alpha\":{\"value\":0.7},\"line_color\":{\"value\":\"#984ea3\"},\"x\":{\"field\":\"x\"},\"y\":{\"field\":\"y\"}},\"id\":\"332ce221-a1af-4f42-be8e-67aabfb42ea3\",\"type\":\"Circle\"},{\"attributes\":{\"active_drag\":\"auto\",\"active_inspect\":\"auto\",\"active_scroll\":\"auto\",\"active_tap\":\"auto\",\"tools\":[{\"id\":\"9b0f6fc4-8349-4043-9ce1-02a48242c2f8\",\"type\":\"PanTool\"},{\"id\":\"1585d286-3c3e-4819-aebb-9961110fb588\",\"type\":\"WheelZoomTool\"},{\"id\":\"25299fb6-6c2d-41d7-aad5-8280b3a6552f\",\"type\":\"BoxZoomTool\"},{\"id\":\"3634cf0e-c23d-4a1a-9da9-3400094e7e52\",\"type\":\"SaveTool\"},{\"id\":\"7e871096-a647-46e0-b61c-7300ed6ff609\",\"type\":\"ResetTool\"},{\"id\":\"64d67f89-172e-4453-8069-e23aee2e1c58\",\"type\":\"HelpTool\"}]},\"id\":\"c6df9570-1697-4ac8-aab5-c6c30309bcc9\",\"type\":\"Toolbar\"},{\"attributes\":{\"line_color\":\"#4daf4a\",\"line_width\":1.5,\"x\":{\"field\":\"x\"},\"y\":{\"field\":\"y\"}},\"id\":\"b96ed03c-212b-47af-bbd8-01a79653f66a\",\"type\":\"Line\"},{\"attributes\":{\"line_alpha\":0.1,\"line_color\":\"#1f77b4\",\"line_dash\":[6],\"line_width\":5,\"x\":{\"field\":\"x\"},\"y\":{\"field\":\"y\"}},\"id\":\"1cb34af9-2d7b-4d64-84a3-066e6013edc6\",\"type\":\"Line\"},{\"attributes\":{\"fill_alpha\":{\"value\":0.1},\"fill_color\":{\"value\":\"#1f77b4\"},\"line_alpha\":{\"value\":0.1},\"line_color\":{\"value\":\"#1f77b4\"},\"x\":{\"field\":\"x\"},\"y\":{\"field\":\"y\"}},\"id\":\"1ad49502-32f5-47f7-b5ee-fca74ddfe5c7\",\"type\":\"Circle\"},{\"attributes\":{\"label\":{\"value\":\"CLIRAD - CRD\"},\"renderers\":[{\"id\":\"832d5c4b-6b68-4e51-9c53-29ddff87ac2e\",\"type\":\"GlyphRenderer\"},{\"id\":\"268c3c78-e547-48bb-8f51-af7e942ec616\",\"type\":\"GlyphRenderer\"}]},\"id\":\"587fafdf-8c69-4d50-ad07-dd0cb9e3c603\",\"type\":\"LegendItem\"},{\"attributes\":{\"line_alpha\":0.6,\"line_color\":\"#e41a1c\",\"line_dash\":[6],\"line_width\":5,\"x\":{\"field\":\"x\"},\"y\":{\"field\":\"y\"}},\"id\":\"a3d09638-85b5-4a18-8e0f-77873d8b9e46\",\"type\":\"Line\"},{\"attributes\":{},\"id\":\"7f34ffed-906c-42e1-99fb-59a9a0d750b6\",\"type\":\"LinearScale\"},{\"attributes\":{\"data_source\":{\"id\":\"0f6a6ace-4bfb-4607-9d2d-b549028a085a\",\"type\":\"ColumnDataSource\"},\"glyph\":{\"id\":\"a3d09638-85b5-4a18-8e0f-77873d8b9e46\",\"type\":\"Line\"},\"hover_glyph\":null,\"muted_glyph\":null,\"nonselection_glyph\":{\"id\":\"1cb34af9-2d7b-4d64-84a3-066e6013edc6\",\"type\":\"Line\"},\"selection_glyph\":null,\"view\":{\"id\":\"1b5fbae7-c029-42c9-8c71-1dc960cd0c42\",\"type\":\"CDSView\"}},\"id\":\"0f745edb-6b97-4fa6-b55a-b7e6d28a81f3\",\"type\":\"GlyphRenderer\"},{\"attributes\":{\"callback\":null,\"end\":0.01,\"start\":1020},\"id\":\"027d92a5-7d0f-4459-a50a-cc0148d21bf5\",\"type\":\"Range1d\"},{\"attributes\":{\"fill_alpha\":{\"value\":0.1},\"fill_color\":{\"value\":\"#1f77b4\"},\"line_alpha\":{\"value\":0.1},\"line_color\":{\"value\":\"#1f77b4\"},\"x\":{\"field\":\"x\"},\"y\":{\"field\":\"y\"}},\"id\":\"a24a3f46-3844-444c-9659-57a76928e93c\",\"type\":\"Circle\"},{\"attributes\":{\"above\":[{\"id\":\"fb805e42-b568-43a7-ad6c-86e27f12f40d\",\"type\":\"Legend\"}],\"below\":[{\"id\":\"bacf4edd-70b3-4997-808c-28e627aa83a9\",\"type\":\"LinearAxis\"}],\"left\":[{\"id\":\"d6e7b1e5-827a-439d-a196-e10d0a56524b\",\"type\":\"LogAxis\"}],\"plot_width\":300,\"renderers\":[{\"id\":\"bacf4edd-70b3-4997-808c-28e627aa83a9\",\"type\":\"LinearAxis\"},{\"id\":\"d46bad55-d5aa-4534-8e68-484fb2417bd7\",\"type\":\"Grid\"},{\"id\":\"d6e7b1e5-827a-439d-a196-e10d0a56524b\",\"type\":\"LogAxis\"},{\"id\":\"e64c2571-177b-4b03-9c7c-d5ead1106545\",\"type\":\"Grid\"},{\"id\":\"b4bbdde2-0ecb-4b2c-b079-a1809aab121c\",\"type\":\"BoxAnnotation\"},{\"id\":\"832d5c4b-6b68-4e51-9c53-29ddff87ac2e\",\"type\":\"GlyphRenderer\"},{\"id\":\"268c3c78-e547-48bb-8f51-af7e942ec616\",\"type\":\"GlyphRenderer\"},{\"id\":\"fb805e42-b568-43a7-ad6c-86e27f12f40d\",\"type\":\"Legend\"}],\"title\":{\"id\":\"e6fe12ed-b68e-45f7-8336-3d27a008e2cb\",\"type\":\"Title\"},\"toolbar\":{\"id\":\"602ee1a1-e9b3-4679-86bc-474f643c7925\",\"type\":\"Toolbar\"},\"toolbar_location\":null,\"x_range\":{\"id\":\"f4a6f360-fc24-470d-9c05-0c31f0d5f664\",\"type\":\"Range1d\"},\"x_scale\":{\"id\":\"19dbf3c8-7a25-476d-8f78-563a774b949e\",\"type\":\"LinearScale\"},\"y_range\":{\"id\":\"027d92a5-7d0f-4459-a50a-cc0148d21bf5\",\"type\":\"Range1d\"},\"y_scale\":{\"id\":\"ab6f4d6e-8b35-4462-81e0-74906039be02\",\"type\":\"LogScale\"}},\"id\":\"6d700d34-5644-492a-a7fd-99f765876bcc\",\"subtype\":\"Figure\",\"type\":\"Plot\"},{\"attributes\":{\"callback\":null,\"data\":{\"x\":{\"__ndarray__\":\"V2Fta48Hqb/dNiagltqmvx7JlvnPGaK/+RJQ/16smb8j7siQF12Mv0irr63lrlq/TjJ50NrXhz+qtQWLkKiaPwLI6gWISqU/KEt6BnfhrT/gRe3rsY6zP3SanfaogLg/Lai5Ju7CvT8OQ9QSZU7BP3nTJcp7KMM/anRBXL2zxD9O/KQcxDXGP3bEvvCMrsc/ABophKMeyT8je60ZU4/KPysLDWGI3ss/Ms5bTJ54yT8ZgUYjfsnCP+C0oeEbqrg/jc16cPhWrj8hGhqlBCqhPwx3XsUKAJE/I4/oJdSBgD9loHM+Spp3PyEPGd8rxHQ/qC01B2+kcD/MmRwfbsVlP7zpv1P0g2M/l5BkVcpLaz/+RihmF61vPzxH1GtCOHA/gt9kLsDkbT+a35If1vtjP9T/Xrc0MUc/PhNXD7nBT79wyt7GbUpmvwpL6jNIAnO/EkEOJhsRfL/VA5FGv52Dvwgapd5iZIq/62CD2ZLCjb+gCCZamcCKv1hSMFuZjYW/5IVFZBfOgL8uXZsmIGh4v/0YGfqlEm6/I5MJQOcjVb8Qk+qeoMRTP5QE+F1+T28/IQ0nKL7Mej8DIApAhR6DP0+1+hBy44g/nZvvDamVjj/e+pdBCAqSP1MAUrxGopQ/p14Dl9EMlz+rr2J8jkuZP/+goqg7aJs/MQyucs5znT8kQARXpIKfP9vyv8zf06A/8lLV9yb1oT89H1lRZxSjP9myBU/k86M/96giiRwqpD+8HwPug3CjP14H1oqZ8aE/Y5w2GCcUoD/gguNnYDqcP4PcrXsXLpg/\",\"dtype\":\"float64\",\"shape\":[75]},\"y\":{\"__ndarray__\":\"GhExyth1ND/Sv8nbtpRIP2vylNV0PVE/aTum7souWD/At0SJ8fVgPw3Iuahxymc/MSNhhJWvcD/bTfBN02d3P2zb5nxnaoA/CD5h5MAGhz8NmeH1TyaQP+zrCsc9p5Y/LbKd76fGnz/bLW5ISEmmPww9YvTcQq8/JV2OstnstT8Er5Y7M8G+P0c+r3jqkcU/5h99k6ZBzj88bCIzFzjVP4enV8oyxN0//yH99nXg5D8qOpLLf0jtP5kqGJXUifQ/c9cS8kHP/D+/DpwzojQEQIEmwoanVwxA4lgXt9HgE0BSSZ2AJuIbQAMJih9jjiNA5q4l5INuK0AwTKYKRj0zQNv5fmq8/DpAaCJseHrtQkB/+zpwzoxKQM3MzMzMeFJAZmZmZmZqWEAAAAAAAFxeQM3MzMzMJmJAmpmZmZkfZUBmZmZmZhhoQDMzMzMzEWtAAAAAAAAKbkBmZmZmZoFwQM3MzMzM/XFAMzMzMzN6c0CamZmZmfZ0QAAAAAAAc3ZAZmZmZmbvd0DNzMzMzGt5QDMzMzMz6HpAmpmZmZlkfEAAAAAAAOF9QGZmZmZmXX9AZmZmZuZsgECamZmZGSuBQM3MzMxM6YFAAAAAAICngkAzMzMzs2WDQGZmZmbmI4RAmpmZmRnihEDNzMzMTKCFQAAAAACAXoZAMzMzM7Mch0BmZmZm5tqHQJqZmZkZmYhAzczMzExXiUAAAAAAgBWKQDMzMzOz04pAZmZmZuaRi0CamZmZGVCMQM3MzMxMDo1AAAAAAIDMjUAzMzMzs4qOQGZmZmbmSI9A\",\"dtype\":\"float64\",\"shape\":[75]}},\"selected\":{\"id\":\"956acf51-f435-4c1e-adc7-d4a0db8e61d3\",\"type\":\"Selection\"},\"selection_policy\":{\"id\":\"64d71d28-dfeb-4c04-992f-a556057b8976\",\"type\":\"UnionRenderers\"}},\"id\":\"4219acb6-b7fa-4c29-b10c-1c2a17f913f3\",\"type\":\"ColumnDataSource\"},{\"attributes\":{\"axis_label\":\"cooling rate [K/day]\",\"formatter\":{\"id\":\"9ce38600-4e64-42ad-a853-10dab2a6a253\",\"type\":\"BasicTickFormatter\"},\"plot\":{\"id\":\"6d700d34-5644-492a-a7fd-99f765876bcc\",\"subtype\":\"Figure\",\"type\":\"Plot\"},\"ticker\":{\"id\":\"4e3accc3-5fbf-4d79-a9d0-3db48e22b6ef\",\"type\":\"BasicTicker\"}},\"id\":\"bacf4edd-70b3-4997-808c-28e627aa83a9\",\"type\":\"LinearAxis\"},{\"attributes\":{\"source\":{\"id\":\"4219acb6-b7fa-4c29-b10c-1c2a17f913f3\",\"type\":\"ColumnDataSource\"}},\"id\":\"c700d40c-2304-4134-a5bb-f509ab292ec7\",\"type\":\"CDSView\"},{\"attributes\":{\"plot\":{\"id\":\"31b87263-d4ac-47c3-be9b-c47e7adf1899\",\"subtype\":\"Figure\",\"type\":\"Plot\"},\"ticker\":{\"id\":\"ea5470a6-b037-415e-97d4-c4ac0e98e7be\",\"type\":\"BasicTicker\"}},\"id\":\"5da87680-a5de-410f-acae-8ffef24fd3ea\",\"type\":\"Grid\"},{\"attributes\":{\"callback\":null,\"data\":{\"x\":{\"__ndarray__\":\"hNh7o23rpD+vnDex6w6kP2wdIQS0aKI/hqNzEzh/oD8GQU8co+mcP6JId8/6hpg/fqjMfvHNkz+osEJftKaNP0yjGAztHYM/WCCeGJ4GcD9AIskyGLFcv/AM0P9wLH+/0PSGuazbi79AopW9nSuTv8DuCUyGZ5a/kJfIgS5MmL942Hagb4eZv9g/UE3NDpq/cM5mei74mb/oBF2QZ3aZv7gdbV7N6Ji/aKDP08JdkL8AGNC5eMsXP2i/BlskoYg/akTDcf/ikD9Ikwf5CwOPP2zdV/zeWoU/qrBrlcYKcz/As+PDQmYkPy4AopKSlF+/nvMqndUjYb/6vCk2tPJTvyDCprW9Ih6/rFYyATB3RT/Iwr1eFFdSP9DHvKRmlVY/cMTI9D4sWD/8SZIcNi5YP3yQ16jrblU/ArYsJVGmTj+IRQCkcGU7P8CQmyaSvSy/MBXucbMzTb/4tRybpSxYvxC8saXp4Vu/WNP8kR96Xb+sii3AGythv1Do6v4Z9GG/mGrGDfOxYL+oD5WxHtFdv9KQUHacYlq/qVbM+UPiV7/nkhQhiDNVvyyDSb5JhFO/zFzg8lgzUr9gNnveVDZRv2BNmK8ZgFC/8Fbw6jsQUL+QjgDbsl1Qv8A63q/FGE+/oOFJ4hckTr8AwDUz18JMv4DuKugZokq/gPBkKAjNR78AnN17NKxEv8BVLDLFEkK/wKBl082iQL+AR8pnkLpBv4ABtklmcUa/wIeDF4wwRr9A9/CueL9BvwDuDM8iRjW/AEBrRFEc576AufYSHsUtPyDqPm1FfEY/\",\"dtype\":\"float64\",\"shape\":[75]},\"y\":{\"__ndarray__\":\"GhExyth1ND/Sv8nbtpRIP2vylNV0PVE/aTum7souWD/At0SJ8fVgPw3Iuahxymc/MSNhhJWvcD/bTfBN02d3P2zb5nxnaoA/CD5h5MAGhz8NmeH1TyaQP+zrCsc9p5Y/LbKd76fGnz/bLW5ISEmmPww9YvTcQq8/JV2OstnstT8Er5Y7M8G+P0c+r3jqkcU/5h99k6ZBzj88bCIzFzjVP4enV8oyxN0//yH99nXg5D8qOpLLf0jtP5kqGJXUifQ/c9cS8kHP/D+/DpwzojQEQIEmwoanVwxA4lgXt9HgE0BSSZ2AJuIbQAMJih9jjiNA5q4l5INuK0AwTKYKRj0zQNv5fmq8/DpAaCJseHrtQkB/+zpwzoxKQM3MzMzMeFJAZmZmZmZqWEAAAAAAAFxeQM3MzMzMJmJAmpmZmZkfZUBmZmZmZhhoQDMzMzMzEWtAAAAAAAAKbkBmZmZmZoFwQM3MzMzM/XFAMzMzMzN6c0CamZmZmfZ0QAAAAAAAc3ZAZmZmZmbvd0DNzMzMzGt5QDMzMzMz6HpAmpmZmZlkfEAAAAAAAOF9QGZmZmZmXX9AZmZmZuZsgECamZmZGSuBQM3MzMxM6YFAAAAAAICngkAzMzMzs2WDQGZmZmbmI4RAmpmZmRnihEDNzMzMTKCFQAAAAACAXoZAMzMzM7Mch0BmZmZm5tqHQJqZmZkZmYhAzczMzExXiUAAAAAAgBWKQDMzMzOz04pAZmZmZuaRi0CamZmZGVCMQM3MzMxMDo1AAAAAAIDMjUAzMzMzs4qOQGZmZmbmSI9A\",\"dtype\":\"float64\",\"shape\":[75]}},\"selected\":{\"id\":\"04b77041-db04-41e3-a8f0-6977544df41a\",\"type\":\"Selection\"},\"selection_policy\":{\"id\":\"a5cf7cfb-2eb7-4546-acaa-6498174afbd9\",\"type\":\"UnionRenderers\"}},\"id\":\"fb4c53a1-4044-41fe-bf74-0566505fb9e1\",\"type\":\"ColumnDataSource\"},{\"attributes\":{\"items\":[{\"id\":\"6f57f32c-5b43-42e0-abb0-c9c45eb6b38f\",\"type\":\"LegendItem\"},{\"id\":\"c42861ff-330e-462b-9bc3-4589dabec63c\",\"type\":\"LegendItem\"}],\"label_text_font_size\":{\"value\":\"8pt\"},\"location\":\"top_center\",\"orientation\":\"horizontal\",\"plot\":{\"id\":\"f4f6a6c3-9e45-4704-be5b-b655d967b1a7\",\"subtype\":\"Figure\",\"type\":\"Plot\"}},\"id\":\"3a8f2c89-a118-4ba7-9d68-38457b6e7470\",\"type\":\"Legend\"},{\"attributes\":{\"data_source\":{\"id\":\"80d6d2a7-16fd-4528-beaf-1f275d2e7b8f\",\"type\":\"ColumnDataSource\"},\"glyph\":{\"id\":\"eb246d04-961d-4e67-bc67-5660b6488562\",\"type\":\"Line\"},\"hover_glyph\":null,\"muted_glyph\":null,\"nonselection_glyph\":{\"id\":\"29d362be-0d1a-4bcb-bd5e-b626cdaf1709\",\"type\":\"Line\"},\"selection_glyph\":null,\"view\":{\"id\":\"f7a6b98a-ae07-4056-8fd9-42040ca22043\",\"type\":\"CDSView\"}},\"id\":\"268c3c78-e547-48bb-8f51-af7e942ec616\",\"type\":\"GlyphRenderer\"},{\"attributes\":{\"callback\":null,\"end\":0.016910308179999993,\"start\":-0.025866470179999976},\"id\":\"f4a6f360-fc24-470d-9c05-0c31f0d5f664\",\"type\":\"Range1d\"},{\"attributes\":{},\"id\":\"94600c29-ac7c-432f-bdc0-d787436bc287\",\"type\":\"HelpTool\"},{\"attributes\":{\"callback\":null,\"end\":0.01,\"start\":1020},\"id\":\"7529b31b-a011-4d43-9656-0add9b17bac9\",\"type\":\"Range1d\"},{\"attributes\":{},\"id\":\"64d67f89-172e-4453-8069-e23aee2e1c58\",\"type\":\"HelpTool\"},{\"attributes\":{},\"id\":\"c3b3abd6-0c75-4a9c-b236-c90fec80d458\",\"type\":\"Selection\"},{\"attributes\":{\"source\":{\"id\":\"fb4c53a1-4044-41fe-bf74-0566505fb9e1\",\"type\":\"ColumnDataSource\"}},\"id\":\"38c2495c-d819-4726-a1b7-45a10cddf05c\",\"type\":\"CDSView\"},{\"attributes\":{\"line_alpha\":0.1,\"line_color\":\"#1f77b4\",\"line_width\":1.5,\"x\":{\"field\":\"x\"},\"y\":{\"field\":\"y\"}},\"id\":\"29d362be-0d1a-4bcb-bd5e-b626cdaf1709\",\"type\":\"Line\"},{\"attributes\":{},\"id\":\"64d71d28-dfeb-4c04-992f-a556057b8976\",\"type\":\"UnionRenderers\"},{\"attributes\":{\"dimension\":1,\"plot\":{\"id\":\"31b87263-d4ac-47c3-be9b-c47e7adf1899\",\"subtype\":\"Figure\",\"type\":\"Plot\"},\"ticker\":{\"id\":\"7a83b200-6d60-4426-b34d-5b00fa681148\",\"type\":\"BasicTicker\"}},\"id\":\"668e313b-3d4f-4394-a1fe-efece75f1b64\",\"type\":\"Grid\"},{\"attributes\":{\"plot\":{\"id\":\"f4f6a6c3-9e45-4704-be5b-b655d967b1a7\",\"subtype\":\"Figure\",\"type\":\"Plot\"},\"ticker\":{\"id\":\"1940f203-0ab2-441d-9277-4aa593d02359\",\"type\":\"BasicTicker\"}},\"id\":\"b8e9ba42-5478-423a-8e16-985cd5da1e6c\",\"type\":\"Grid\"},{\"attributes\":{\"callback\":null,\"data\":{\"x\":{\"__ndarray__\":\"hNh7o23rpD+vnDex6w6kP2wdIQS0aKI/hqNzEzh/oD8GQU8co+mcP6JId8/6hpg/fqjMfvHNkz+osEJftKaNP0yjGAztHYM/WCCeGJ4GcD9AIskyGLFcv/AM0P9wLH+/0PSGuazbi79AopW9nSuTv8DuCUyGZ5a/kJfIgS5MmL942Hagb4eZv9g/UE3NDpq/cM5mei74mb/oBF2QZ3aZv7gdbV7N6Ji/aKDP08JdkL8AGNC5eMsXP2i/BlskoYg/akTDcf/ikD9Ikwf5CwOPP2zdV/zeWoU/qrBrlcYKcz/As+PDQmYkPy4AopKSlF+/nvMqndUjYb/6vCk2tPJTvyDCprW9Ih6/rFYyATB3RT/Iwr1eFFdSP9DHvKRmlVY/cMTI9D4sWD/8SZIcNi5YP3yQ16jrblU/ArYsJVGmTj+IRQCkcGU7P8CQmyaSvSy/MBXucbMzTb/4tRybpSxYvxC8saXp4Vu/WNP8kR96Xb+sii3AGythv1Do6v4Z9GG/mGrGDfOxYL+oD5WxHtFdv9KQUHacYlq/qVbM+UPiV7/nkhQhiDNVvyyDSb5JhFO/zFzg8lgzUr9gNnveVDZRv2BNmK8ZgFC/8Fbw6jsQUL+QjgDbsl1Qv8A63q/FGE+/oOFJ4hckTr8AwDUz18JMv4DuKugZokq/gPBkKAjNR78AnN17NKxEv8BVLDLFEkK/wKBl082iQL+AR8pnkLpBv4ABtklmcUa/wIeDF4wwRr9A9/CueL9BvwDuDM8iRjW/AEBrRFEc576AufYSHsUtPyDqPm1FfEY/\",\"dtype\":\"float64\",\"shape\":[75]},\"y\":{\"__ndarray__\":\"GhExyth1ND/Sv8nbtpRIP2vylNV0PVE/aTum7souWD/At0SJ8fVgPw3Iuahxymc/MSNhhJWvcD/bTfBN02d3P2zb5nxnaoA/CD5h5MAGhz8NmeH1TyaQP+zrCsc9p5Y/LbKd76fGnz/bLW5ISEmmPww9YvTcQq8/JV2OstnstT8Er5Y7M8G+P0c+r3jqkcU/5h99k6ZBzj88bCIzFzjVP4enV8oyxN0//yH99nXg5D8qOpLLf0jtP5kqGJXUifQ/c9cS8kHP/D+/DpwzojQEQIEmwoanVwxA4lgXt9HgE0BSSZ2AJuIbQAMJih9jjiNA5q4l5INuK0AwTKYKRj0zQNv5fmq8/DpAaCJseHrtQkB/+zpwzoxKQM3MzMzMeFJAZmZmZmZqWEAAAAAAAFxeQM3MzMzMJmJAmpmZmZkfZUBmZmZmZhhoQDMzMzMzEWtAAAAAAAAKbkBmZmZmZoFwQM3MzMzM/XFAMzMzMzN6c0CamZmZmfZ0QAAAAAAAc3ZAZmZmZmbvd0DNzMzMzGt5QDMzMzMz6HpAmpmZmZlkfEAAAAAAAOF9QGZmZmZmXX9AZmZmZuZsgECamZmZGSuBQM3MzMxM6YFAAAAAAICngkAzMzMzs2WDQGZmZmbmI4RAmpmZmRnihEDNzMzMTKCFQAAAAACAXoZAMzMzM7Mch0BmZmZm5tqHQJqZmZkZmYhAzczMzExXiUAAAAAAgBWKQDMzMzOz04pAZmZmZuaRi0CamZmZGVCMQM3MzMxMDo1AAAAAAIDMjUAzMzMzs4qOQGZmZmbmSI9A\",\"dtype\":\"float64\",\"shape\":[75]}},\"selected\":{\"id\":\"34d27cf3-0f14-40f4-a696-d9551ba20633\",\"type\":\"Selection\"},\"selection_policy\":{\"id\":\"56ea6e80-d603-48e8-bcd0-a77daec8590a\",\"type\":\"UnionRenderers\"}},\"id\":\"80d6d2a7-16fd-4528-beaf-1f275d2e7b8f\",\"type\":\"ColumnDataSource\"},{\"attributes\":{},\"id\":\"5de6e215-3a7a-4457-b599-76ee38b63258\",\"type\":\"UnionRenderers\"},{\"attributes\":{\"overlay\":{\"id\":\"01594328-3a17-4f62-8794-fb373c0a4f85\",\"type\":\"BoxAnnotation\"}},\"id\":\"25299fb6-6c2d-41d7-aad5-8280b3a6552f\",\"type\":\"BoxZoomTool\"},{\"attributes\":{},\"id\":\"32f18bc9-93b5-4582-bb79-4cc3feff2478\",\"type\":\"BasicTickFormatter\"},{\"attributes\":{\"axis_label\":\"pressure [mb]\",\"formatter\":{\"id\":\"f277dfe6-2e3f-4d27-902f-54a5da72aebc\",\"type\":\"LogTickFormatter\"},\"plot\":{\"id\":\"6d700d34-5644-492a-a7fd-99f765876bcc\",\"subtype\":\"Figure\",\"type\":\"Plot\"},\"ticker\":{\"id\":\"6fb238ab-307f-4107-bfc7-dd1b3f3c8b63\",\"type\":\"LogTicker\"}},\"id\":\"d6e7b1e5-827a-439d-a196-e10d0a56524b\",\"type\":\"LogAxis\"},{\"attributes\":{\"ticker\":null},\"id\":\"bbcaacd7-86f7-45d4-922b-7e53b13a83e3\",\"type\":\"LogTickFormatter\"},{\"attributes\":{},\"id\":\"6a74ec2c-cf75-4674-a27d-22c1077f33c1\",\"type\":\"UnionRenderers\"},{\"attributes\":{\"children\":[{\"id\":\"74d8546f-61b5-49ef-9be7-4566c56f9806\",\"type\":\"ToolbarBox\"},{\"id\":\"92760649-c4f0-428f-a952-636f202ac797\",\"type\":\"Column\"}]},\"id\":\"f6db226e-42ce-46cc-a5aa-1f62f681e75b\",\"type\":\"Column\"},{\"attributes\":{\"axis_label\":\"cooling rate [K/day]\",\"formatter\":{\"id\":\"7ab47570-a62e-436b-a5ec-a57cfb35780f\",\"type\":\"BasicTickFormatter\"},\"plot\":{\"id\":\"f4f6a6c3-9e45-4704-be5b-b655d967b1a7\",\"subtype\":\"Figure\",\"type\":\"Plot\"},\"ticker\":{\"id\":\"1940f203-0ab2-441d-9277-4aa593d02359\",\"type\":\"BasicTicker\"}},\"id\":\"66074d8a-097d-45c4-98d6-a8cafd95ae3a\",\"type\":\"LinearAxis\"},{\"attributes\":{\"plot\":{\"id\":\"6d700d34-5644-492a-a7fd-99f765876bcc\",\"subtype\":\"Figure\",\"type\":\"Plot\"},\"ticker\":{\"id\":\"4e3accc3-5fbf-4d79-a9d0-3db48e22b6ef\",\"type\":\"BasicTicker\"}},\"id\":\"d46bad55-d5aa-4534-8e68-484fb2417bd7\",\"type\":\"Grid\"},{\"attributes\":{},\"id\":\"12d7a7c3-71e5-4fa0-8948-36b0b423febb\",\"type\":\"Selection\"},{\"attributes\":{},\"id\":\"583ff768-9c44-4c74-a143-f1746ce8cbdf\",\"type\":\"Selection\"},{\"attributes\":{},\"id\":\"56ea6e80-d603-48e8-bcd0-a77daec8590a\",\"type\":\"UnionRenderers\"},{\"attributes\":{\"axis_label\":\"pressure [mb]\",\"formatter\":{\"id\":\"eee44f53-287c-4af5-8d5c-e5dcca0f8d4d\",\"type\":\"BasicTickFormatter\"},\"plot\":{\"id\":\"31b87263-d4ac-47c3-be9b-c47e7adf1899\",\"subtype\":\"Figure\",\"type\":\"Plot\"},\"ticker\":{\"id\":\"7a83b200-6d60-4426-b34d-5b00fa681148\",\"type\":\"BasicTicker\"}},\"id\":\"6b6d5f44-9f35-4c19-b740-458fe15eaeb1\",\"type\":\"LinearAxis\"},{\"attributes\":{\"plot\":null,\"text\":\"\"},\"id\":\"552df8f7-bbe3-48aa-ba50-d534ddfa9e37\",\"type\":\"Title\"},{\"attributes\":{\"dimension\":1,\"plot\":{\"id\":\"6d700d34-5644-492a-a7fd-99f765876bcc\",\"subtype\":\"Figure\",\"type\":\"Plot\"},\"ticker\":{\"id\":\"6fb238ab-307f-4107-bfc7-dd1b3f3c8b63\",\"type\":\"LogTicker\"}},\"id\":\"e64c2571-177b-4b03-9c7c-d5ead1106545\",\"type\":\"Grid\"},{\"attributes\":{},\"id\":\"1940f203-0ab2-441d-9277-4aa593d02359\",\"type\":\"BasicTicker\"},{\"attributes\":{},\"id\":\"0bb0b3b5-a158-451e-a2dc-be6dc26b68c8\",\"type\":\"UnionRenderers\"},{\"attributes\":{},\"id\":\"ca4d409d-ca31-43fc-a8f3-3f782c0d6a55\",\"type\":\"ResetTool\"},{\"attributes\":{\"items\":[{\"id\":\"23d3dc2d-87f4-417c-a095-c147217a3b78\",\"type\":\"LegendItem\"},{\"id\":\"10e103fa-c447-4872-a999-1ae31126f42d\",\"type\":\"LegendItem\"}],\"label_text_font_size\":{\"value\":\"8pt\"},\"location\":\"top_center\",\"orientation\":\"horizontal\",\"plot\":{\"id\":\"31b87263-d4ac-47c3-be9b-c47e7adf1899\",\"subtype\":\"Figure\",\"type\":\"Plot\"}},\"id\":\"e224ee45-11c1-4801-93b7-03879f9f1f95\",\"type\":\"Legend\"},{\"attributes\":{},\"id\":\"34d27cf3-0f14-40f4-a696-d9551ba20633\",\"type\":\"Selection\"},{\"attributes\":{\"toolbar\":{\"id\":\"dae17d3e-bfd5-406f-b410-95e1b2dced10\",\"type\":\"ProxyToolbar\"},\"toolbar_location\":\"above\"},\"id\":\"74d8546f-61b5-49ef-9be7-4566c56f9806\",\"type\":\"ToolbarBox\"},{\"attributes\":{},\"id\":\"9ce38600-4e64-42ad-a853-10dab2a6a253\",\"type\":\"BasicTickFormatter\"},{\"attributes\":{},\"id\":\"0ad112c2-1a7a-49ad-9b7e-29cd088407b3\",\"type\":\"Selection\"},{\"attributes\":{\"bottom_units\":\"screen\",\"fill_alpha\":{\"value\":0.5},\"fill_color\":{\"value\":\"lightgrey\"},\"left_units\":\"screen\",\"level\":\"overlay\",\"line_alpha\":{\"value\":1.0},\"line_color\":{\"value\":\"black\"},\"line_dash\":[4,4],\"line_width\":{\"value\":2},\"plot\":null,\"render_mode\":\"css\",\"right_units\":\"screen\",\"top_units\":\"screen\"},\"id\":\"b4bbdde2-0ecb-4b2c-b079-a1809aab121c\",\"type\":\"BoxAnnotation\"},{\"attributes\":{\"plot\":null,\"text\":\"\"},\"id\":\"e6fe12ed-b68e-45f7-8336-3d27a008e2cb\",\"type\":\"Title\"},{\"attributes\":{\"num_minor_ticks\":10},\"id\":\"6fb238ab-307f-4107-bfc7-dd1b3f3c8b63\",\"type\":\"LogTicker\"},{\"attributes\":{},\"id\":\"a5cf7cfb-2eb7-4546-acaa-6498174afbd9\",\"type\":\"UnionRenderers\"},{\"attributes\":{},\"id\":\"04b77041-db04-41e3-a8f0-6977544df41a\",\"type\":\"Selection\"},{\"attributes\":{\"callback\":null,\"end\":0.21993315697299998,\"start\":-0.004925534273},\"id\":\"d2026e14-469a-4920-b673-8f28ccec7bee\",\"type\":\"Range1d\"},{\"attributes\":{\"tools\":[{\"id\":\"9b0f6fc4-8349-4043-9ce1-02a48242c2f8\",\"type\":\"PanTool\"},{\"id\":\"1585d286-3c3e-4819-aebb-9961110fb588\",\"type\":\"WheelZoomTool\"},{\"id\":\"25299fb6-6c2d-41d7-aad5-8280b3a6552f\",\"type\":\"BoxZoomTool\"},{\"id\":\"3634cf0e-c23d-4a1a-9da9-3400094e7e52\",\"type\":\"SaveTool\"},{\"id\":\"7e871096-a647-46e0-b61c-7300ed6ff609\",\"type\":\"ResetTool\"},{\"id\":\"64d67f89-172e-4453-8069-e23aee2e1c58\",\"type\":\"HelpTool\"},{\"id\":\"46dee003-9ce3-4b1b-93ec-a205c20c7934\",\"type\":\"PanTool\"},{\"id\":\"0311c413-eff6-479d-a724-0eb153812fa2\",\"type\":\"WheelZoomTool\"},{\"id\":\"9d11b0c3-9800-46a3-a37e-76b837571090\",\"type\":\"BoxZoomTool\"},{\"id\":\"eb038f29-29c2-4e31-ad8c-7bb992e62712\",\"type\":\"SaveTool\"},{\"id\":\"f302e72e-fffa-4469-8148-cdce03ddf260\",\"type\":\"ResetTool\"},{\"id\":\"fbfbe80e-ee2c-4ead-89a0-68eaec36b85d\",\"type\":\"HelpTool\"},{\"id\":\"e35ba25f-57f4-4198-b1a5-5bbcbc4ddc2e\",\"type\":\"PanTool\"},{\"id\":\"b1454174-0f24-47dc-8cea-90e7634fa7cd\",\"type\":\"WheelZoomTool\"},{\"id\":\"74f50725-f054-4860-8427-ff7c2064a15d\",\"type\":\"BoxZoomTool\"},{\"id\":\"abd6996e-045d-4110-9cc6-1387de02d952\",\"type\":\"SaveTool\"},{\"id\":\"ca4d409d-ca31-43fc-a8f3-3f782c0d6a55\",\"type\":\"ResetTool\"},{\"id\":\"94600c29-ac7c-432f-bdc0-d787436bc287\",\"type\":\"HelpTool\"}]},\"id\":\"dae17d3e-bfd5-406f-b410-95e1b2dced10\",\"type\":\"ProxyToolbar\"},{\"attributes\":{\"data_source\":{\"id\":\"b2256576-e666-4bf6-845c-3d33b74d51be\",\"type\":\"ColumnDataSource\"},\"glyph\":{\"id\":\"339b3546-3720-4ca9-be22-a5109c1142b6\",\"type\":\"Line\"},\"hover_glyph\":null,\"muted_glyph\":null,\"nonselection_glyph\":{\"id\":\"8a241365-c968-4f7a-8f5c-92c9bb055ab2\",\"type\":\"Line\"},\"selection_glyph\":null,\"view\":{\"id\":\"9b243589-cfbf-4d9d-b1c1-6d24e4588857\",\"type\":\"CDSView\"}},\"id\":\"ecb1a4e6-dbb7-4315-b514-82778a6f83df\",\"type\":\"GlyphRenderer\"},{\"attributes\":{\"line_alpha\":0.6,\"line_color\":\"#e41a1c\",\"line_dash\":[6],\"line_width\":5,\"x\":{\"field\":\"x\"},\"y\":{\"field\":\"y\"}},\"id\":\"4ea817fc-7222-4239-be65-830b7765e9be\",\"type\":\"Line\"},{\"attributes\":{\"callback\":null,\"data\":{\"x\":{\"__ndarray__\":\"V2Fta48Hqb/dNiagltqmvx7JlvnPGaK/+RJQ/16smb8j7siQF12Mv0irr63lrlq/TjJ50NrXhz+qtQWLkKiaPwLI6gWISqU/KEt6BnfhrT/gRe3rsY6zP3SanfaogLg/Lai5Ju7CvT8OQ9QSZU7BP3nTJcp7KMM/anRBXL2zxD9O/KQcxDXGP3bEvvCMrsc/ABophKMeyT8je60ZU4/KPysLDWGI3ss/Ms5bTJ54yT8ZgUYjfsnCP+C0oeEbqrg/jc16cPhWrj8hGhqlBCqhPwx3XsUKAJE/I4/oJdSBgD9loHM+Spp3PyEPGd8rxHQ/qC01B2+kcD/MmRwfbsVlP7zpv1P0g2M/l5BkVcpLaz/+RihmF61vPzxH1GtCOHA/gt9kLsDkbT+a35If1vtjP9T/Xrc0MUc/PhNXD7nBT79wyt7GbUpmvwpL6jNIAnO/EkEOJhsRfL/VA5FGv52Dvwgapd5iZIq/62CD2ZLCjb+gCCZamcCKv1hSMFuZjYW/5IVFZBfOgL8uXZsmIGh4v/0YGfqlEm6/I5MJQOcjVb8Qk+qeoMRTP5QE+F1+T28/IQ0nKL7Mej8DIApAhR6DP0+1+hBy44g/nZvvDamVjj/e+pdBCAqSP1MAUrxGopQ/p14Dl9EMlz+rr2J8jkuZP/+goqg7aJs/MQyucs5znT8kQARXpIKfP9vyv8zf06A/8lLV9yb1oT89H1lRZxSjP9myBU/k86M/96giiRwqpD+8HwPug3CjP14H1oqZ8aE/Y5w2GCcUoD/gguNnYDqcP4PcrXsXLpg/\",\"dtype\":\"float64\",\"shape\":[75]},\"y\":{\"__ndarray__\":\"GhExyth1ND/Sv8nbtpRIP2vylNV0PVE/aTum7souWD/At0SJ8fVgPw3Iuahxymc/MSNhhJWvcD/bTfBN02d3P2zb5nxnaoA/CD5h5MAGhz8NmeH1TyaQP+zrCsc9p5Y/LbKd76fGnz/bLW5ISEmmPww9YvTcQq8/JV2OstnstT8Er5Y7M8G+P0c+r3jqkcU/5h99k6ZBzj88bCIzFzjVP4enV8oyxN0//yH99nXg5D8qOpLLf0jtP5kqGJXUifQ/c9cS8kHP/D+/DpwzojQEQIEmwoanVwxA4lgXt9HgE0BSSZ2AJuIbQAMJih9jjiNA5q4l5INuK0AwTKYKRj0zQNv5fmq8/DpAaCJseHrtQkB/+zpwzoxKQM3MzMzMeFJAZmZmZmZqWEAAAAAAAFxeQM3MzMzMJmJAmpmZmZkfZUBmZmZmZhhoQDMzMzMzEWtAAAAAAAAKbkBmZmZmZoFwQM3MzMzM/XFAMzMzMzN6c0CamZmZmfZ0QAAAAAAAc3ZAZmZmZmbvd0DNzMzMzGt5QDMzMzMz6HpAmpmZmZlkfEAAAAAAAOF9QGZmZmZmXX9AZmZmZuZsgECamZmZGSuBQM3MzMxM6YFAAAAAAICngkAzMzMzs2WDQGZmZmbmI4RAmpmZmRnihEDNzMzMTKCFQAAAAACAXoZAMzMzM7Mch0BmZmZm5tqHQJqZmZkZmYhAzczMzExXiUAAAAAAgBWKQDMzMzOz04pAZmZmZuaRi0CamZmZGVCMQM3MzMxMDo1AAAAAAIDMjUAzMzMzs4qOQGZmZmbmSI9A\",\"dtype\":\"float64\",\"shape\":[75]}},\"selected\":{\"id\":\"12d7a7c3-71e5-4fa0-8948-36b0b423febb\",\"type\":\"Selection\"},\"selection_policy\":{\"id\":\"6a74ec2c-cf75-4674-a27d-22c1077f33c1\",\"type\":\"UnionRenderers\"}},\"id\":\"b2256576-e666-4bf6-845c-3d33b74d51be\",\"type\":\"ColumnDataSource\"},{\"attributes\":{\"source\":{\"id\":\"c6aeb0c7-1f7f-45a0-8901-589cbf84914f\",\"type\":\"ColumnDataSource\"}},\"id\":\"3a79c2ab-6251-451f-bfbb-b51c606a67df\",\"type\":\"CDSView\"},{\"attributes\":{\"axis_label\":\"pressure [mb]\",\"formatter\":{\"id\":\"bbcaacd7-86f7-45d4-922b-7e53b13a83e3\",\"type\":\"LogTickFormatter\"},\"plot\":{\"id\":\"f4f6a6c3-9e45-4704-be5b-b655d967b1a7\",\"subtype\":\"Figure\",\"type\":\"Plot\"},\"ticker\":{\"id\":\"9d07a729-74e1-4490-a862-9f8a8ccd89b4\",\"type\":\"LogTicker\"}},\"id\":\"7c450980-127e-4d30-b982-db5d7fcdcced\",\"type\":\"LogAxis\"},{\"attributes\":{\"bottom_units\":\"screen\",\"fill_alpha\":{\"value\":0.5},\"fill_color\":{\"value\":\"lightgrey\"},\"left_units\":\"screen\",\"level\":\"overlay\",\"line_alpha\":{\"value\":1.0},\"line_color\":{\"value\":\"black\"},\"line_dash\":[4,4],\"line_width\":{\"value\":2},\"plot\":null,\"render_mode\":\"css\",\"right_units\":\"screen\",\"top_units\":\"screen\"},\"id\":\"392b03f0-45fc-4921-871f-9e2224fc670e\",\"type\":\"BoxAnnotation\"},{\"attributes\":{\"data_source\":{\"id\":\"29798729-5be5-4e86-8f96-45d73d497ee0\",\"type\":\"ColumnDataSource\"},\"glyph\":{\"id\":\"4ea817fc-7222-4239-be65-830b7765e9be\",\"type\":\"Line\"},\"hover_glyph\":null,\"muted_glyph\":null,\"nonselection_glyph\":{\"id\":\"27122f8c-fae4-4397-a13a-2430c22a0dae\",\"type\":\"Line\"},\"selection_glyph\":null,\"view\":{\"id\":\"b8046b07-44c3-4dc6-9c77-1a120fa9f3b6\",\"type\":\"CDSView\"}},\"id\":\"ea67fc50-44f0-4d11-b2d1-d01618ee41a6\",\"type\":\"GlyphRenderer\"},{\"attributes\":{\"num_minor_ticks\":10},\"id\":\"9d07a729-74e1-4490-a862-9f8a8ccd89b4\",\"type\":\"LogTicker\"},{\"attributes\":{\"label\":{\"value\":\"CRD\"},\"renderers\":[{\"id\":\"32c55123-2d8f-445b-b5e0-c270cdc2a736\",\"type\":\"GlyphRenderer\"},{\"id\":\"ecb1a4e6-dbb7-4315-b514-82778a6f83df\",\"type\":\"GlyphRenderer\"}]},\"id\":\"10e103fa-c447-4872-a999-1ae31126f42d\",\"type\":\"LegendItem\"},{\"attributes\":{},\"id\":\"fbfbe80e-ee2c-4ead-89a0-68eaec36b85d\",\"type\":\"HelpTool\"},{\"attributes\":{\"callback\":null,\"end\":0.03994092709160337,\"start\":-0.016887566251941096},\"id\":\"a47a520f-952a-49fd-8b21-566447a73111\",\"type\":\"Range1d\"},{\"attributes\":{\"overlay\":{\"id\":\"392b03f0-45fc-4921-871f-9e2224fc670e\",\"type\":\"BoxAnnotation\"}},\"id\":\"9d11b0c3-9800-46a3-a37e-76b837571090\",\"type\":\"BoxZoomTool\"},{\"attributes\":{\"line_alpha\":0.1,\"line_color\":\"#1f77b4\",\"line_dash\":[6],\"line_width\":5,\"x\":{\"field\":\"x\"},\"y\":{\"field\":\"y\"}},\"id\":\"27122f8c-fae4-4397-a13a-2430c22a0dae\",\"type\":\"Line\"},{\"attributes\":{},\"id\":\"eb038f29-29c2-4e31-ad8c-7bb992e62712\",\"type\":\"SaveTool\"},{\"attributes\":{\"source\":{\"id\":\"a8c5524d-5aeb-4ea5-a2d8-e7a41580cc18\",\"type\":\"ColumnDataSource\"}},\"id\":\"95d06893-e34c-4596-bd14-b662df489ff2\",\"type\":\"CDSView\"},{\"attributes\":{\"line_color\":\"#4daf4a\",\"line_width\":1.5,\"x\":{\"field\":\"x\"},\"y\":{\"field\":\"y\"}},\"id\":\"339b3546-3720-4ca9-be22-a5109c1142b6\",\"type\":\"Line\"},{\"attributes\":{\"line_alpha\":0.1,\"line_color\":\"#1f77b4\",\"line_width\":1.5,\"x\":{\"field\":\"x\"},\"y\":{\"field\":\"y\"}},\"id\":\"8a241365-c968-4f7a-8f5c-92c9bb055ab2\",\"type\":\"Line\"},{\"attributes\":{},\"id\":\"46dee003-9ce3-4b1b-93ec-a205c20c7934\",\"type\":\"PanTool\"},{\"attributes\":{\"active_drag\":\"auto\",\"active_inspect\":\"auto\",\"active_scroll\":\"auto\",\"active_tap\":\"auto\",\"tools\":[{\"id\":\"46dee003-9ce3-4b1b-93ec-a205c20c7934\",\"type\":\"PanTool\"},{\"id\":\"0311c413-eff6-479d-a724-0eb153812fa2\",\"type\":\"WheelZoomTool\"},{\"id\":\"9d11b0c3-9800-46a3-a37e-76b837571090\",\"type\":\"BoxZoomTool\"},{\"id\":\"eb038f29-29c2-4e31-ad8c-7bb992e62712\",\"type\":\"SaveTool\"},{\"id\":\"f302e72e-fffa-4469-8148-cdce03ddf260\",\"type\":\"ResetTool\"},{\"id\":\"fbfbe80e-ee2c-4ead-89a0-68eaec36b85d\",\"type\":\"HelpTool\"}]},\"id\":\"fb271a9b-7af9-49d8-8ea4-ac01f9221f8e\",\"type\":\"Toolbar\"},{\"attributes\":{},\"id\":\"f302e72e-fffa-4469-8148-cdce03ddf260\",\"type\":\"ResetTool\"},{\"attributes\":{\"fill_alpha\":{\"value\":0.1},\"fill_color\":{\"value\":\"#1f77b4\"},\"line_alpha\":{\"value\":0.1},\"line_color\":{\"value\":\"#1f77b4\"},\"x\":{\"field\":\"x\"},\"y\":{\"field\":\"y\"}},\"id\":\"d8f65056-7624-4f6d-940b-51a26e9fe817\",\"type\":\"Circle\"},{\"attributes\":{\"callback\":null,\"end\":0.01,\"start\":1020},\"id\":\"a14c4e15-79f3-48b5-9a89-cb16b6dac5a5\",\"type\":\"Range1d\"},{\"attributes\":{\"data_source\":{\"id\":\"a8c5524d-5aeb-4ea5-a2d8-e7a41580cc18\",\"type\":\"ColumnDataSource\"},\"glyph\":{\"id\":\"e5f0e617-96da-470a-8e80-f525b0b95e6e\",\"type\":\"Circle\"},\"hover_glyph\":null,\"muted_glyph\":null,\"nonselection_glyph\":{\"id\":\"d8f65056-7624-4f6d-940b-51a26e9fe817\",\"type\":\"Circle\"},\"selection_glyph\":null,\"view\":{\"id\":\"95d06893-e34c-4596-bd14-b662df489ff2\",\"type\":\"CDSView\"}},\"id\":\"32c55123-2d8f-445b-b5e0-c270cdc2a736\",\"type\":\"GlyphRenderer\"},{\"attributes\":{},\"id\":\"956acf51-f435-4c1e-adc7-d4a0db8e61d3\",\"type\":\"Selection\"},{\"attributes\":{\"callback\":null,\"data\":{\"x\":{\"__ndarray__\":\"V2Fta48Hqb/dNiagltqmvx7JlvnPGaK/+RJQ/16smb8j7siQF12Mv0irr63lrlq/TjJ50NrXhz+qtQWLkKiaPwLI6gWISqU/KEt6BnfhrT/gRe3rsY6zP3SanfaogLg/Lai5Ju7CvT8OQ9QSZU7BP3nTJcp7KMM/anRBXL2zxD9O/KQcxDXGP3bEvvCMrsc/ABophKMeyT8je60ZU4/KPysLDWGI3ss/Ms5bTJ54yT8ZgUYjfsnCP+C0oeEbqrg/jc16cPhWrj8hGhqlBCqhPwx3XsUKAJE/I4/oJdSBgD9loHM+Spp3PyEPGd8rxHQ/qC01B2+kcD/MmRwfbsVlP7zpv1P0g2M/l5BkVcpLaz/+RihmF61vPzxH1GtCOHA/gt9kLsDkbT+a35If1vtjP9T/Xrc0MUc/PhNXD7nBT79wyt7GbUpmvwpL6jNIAnO/EkEOJhsRfL/VA5FGv52Dvwgapd5iZIq/62CD2ZLCjb+gCCZamcCKv1hSMFuZjYW/5IVFZBfOgL8uXZsmIGh4v/0YGfqlEm6/I5MJQOcjVb8Qk+qeoMRTP5QE+F1+T28/IQ0nKL7Mej8DIApAhR6DP0+1+hBy44g/nZvvDamVjj/e+pdBCAqSP1MAUrxGopQ/p14Dl9EMlz+rr2J8jkuZP/+goqg7aJs/MQyucs5znT8kQARXpIKfP9vyv8zf06A/8lLV9yb1oT89H1lRZxSjP9myBU/k86M/96giiRwqpD+8HwPug3CjP14H1oqZ8aE/Y5w2GCcUoD/gguNnYDqcP4PcrXsXLpg/\",\"dtype\":\"float64\",\"shape\":[75]},\"y\":{\"__ndarray__\":\"GhExyth1ND/Sv8nbtpRIP2vylNV0PVE/aTum7souWD/At0SJ8fVgPw3Iuahxymc/MSNhhJWvcD/bTfBN02d3P2zb5nxnaoA/CD5h5MAGhz8NmeH1TyaQP+zrCsc9p5Y/LbKd76fGnz/bLW5ISEmmPww9YvTcQq8/JV2OstnstT8Er5Y7M8G+P0c+r3jqkcU/5h99k6ZBzj88bCIzFzjVP4enV8oyxN0//yH99nXg5D8qOpLLf0jtP5kqGJXUifQ/c9cS8kHP/D+/DpwzojQEQIEmwoanVwxA4lgXt9HgE0BSSZ2AJuIbQAMJih9jjiNA5q4l5INuK0AwTKYKRj0zQNv5fmq8/DpAaCJseHrtQkB/+zpwzoxKQM3MzMzMeFJAZmZmZmZqWEAAAAAAAFxeQM3MzMzMJmJAmpmZmZkfZUBmZmZmZhhoQDMzMzMzEWtAAAAAAAAKbkBmZmZmZoFwQM3MzMzM/XFAMzMzMzN6c0CamZmZmfZ0QAAAAAAAc3ZAZmZmZmbvd0DNzMzMzGt5QDMzMzMz6HpAmpmZmZlkfEAAAAAAAOF9QGZmZmZmXX9AZmZmZuZsgECamZmZGSuBQM3MzMxM6YFAAAAAAICngkAzMzMzs2WDQGZmZmbmI4RAmpmZmRnihEDNzMzMTKCFQAAAAACAXoZAMzMzM7Mch0BmZmZm5tqHQJqZmZkZmYhAzczMzExXiUAAAAAAgBWKQDMzMzOz04pAZmZmZuaRi0CamZmZGVCMQM3MzMxMDo1AAAAAAIDMjUAzMzMzs4qOQGZmZmbmSI9A\",\"dtype\":\"float64\",\"shape\":[75]}},\"selected\":{\"id\":\"a92df942-cf2e-4a80-b669-b55e86a0de78\",\"type\":\"Selection\"},\"selection_policy\":{\"id\":\"5de6e215-3a7a-4457-b599-76ee38b63258\",\"type\":\"UnionRenderers\"}},\"id\":\"a8c5524d-5aeb-4ea5-a2d8-e7a41580cc18\",\"type\":\"ColumnDataSource\"},{\"attributes\":{},\"id\":\"0311c413-eff6-479d-a724-0eb153812fa2\",\"type\":\"WheelZoomTool\"},{\"attributes\":{\"above\":[{\"id\":\"3a8f2c89-a118-4ba7-9d68-38457b6e7470\",\"type\":\"Legend\"}],\"below\":[{\"id\":\"66074d8a-097d-45c4-98d6-a8cafd95ae3a\",\"type\":\"LinearAxis\"}],\"left\":[{\"id\":\"7c450980-127e-4d30-b982-db5d7fcdcced\",\"type\":\"LogAxis\"}],\"plot_width\":300,\"renderers\":[{\"id\":\"66074d8a-097d-45c4-98d6-a8cafd95ae3a\",\"type\":\"LinearAxis\"},{\"id\":\"b8e9ba42-5478-423a-8e16-985cd5da1e6c\",\"type\":\"Grid\"},{\"id\":\"7c450980-127e-4d30-b982-db5d7fcdcced\",\"type\":\"LogAxis\"},{\"id\":\"0f46c6e2-498b-46e5-8140-5fdbd9b46f25\",\"type\":\"Grid\"},{\"id\":\"392b03f0-45fc-4921-871f-9e2224fc670e\",\"type\":\"BoxAnnotation\"},{\"id\":\"0f745edb-6b97-4fa6-b55a-b7e6d28a81f3\",\"type\":\"GlyphRenderer\"},{\"id\":\"7dd36658-7e59-4b05-b2f3-bfac426af8b4\",\"type\":\"GlyphRenderer\"},{\"id\":\"458d175e-8d51-411f-a67f-c8605d61fb8f\",\"type\":\"GlyphRenderer\"},{\"id\":\"3a8f2c89-a118-4ba7-9d68-38457b6e7470\",\"type\":\"Legend\"}],\"title\":{\"id\":\"552df8f7-bbe3-48aa-ba50-d534ddfa9e37\",\"type\":\"Title\"},\"toolbar\":{\"id\":\"fb271a9b-7af9-49d8-8ea4-ac01f9221f8e\",\"type\":\"Toolbar\"},\"toolbar_location\":null,\"x_range\":{\"id\":\"d2026e14-469a-4920-b673-8f28ccec7bee\",\"type\":\"Range1d\"},\"x_scale\":{\"id\":\"7f34ffed-906c-42e1-99fb-59a9a0d750b6\",\"type\":\"LinearScale\"},\"y_range\":{\"id\":\"a14c4e15-79f3-48b5-9a89-cb16b6dac5a5\",\"type\":\"Range1d\"},\"y_scale\":{\"id\":\"6113c045-953d-4c05-88b8-1d0cb5a2679f\",\"type\":\"LogScale\"}},\"id\":\"f4f6a6c3-9e45-4704-be5b-b655d967b1a7\",\"subtype\":\"Figure\",\"type\":\"Plot\"},{\"attributes\":{\"label\":{\"value\":\"CLIRAD\"},\"renderers\":[{\"id\":\"ea67fc50-44f0-4d11-b2d1-d01618ee41a6\",\"type\":\"GlyphRenderer\"}]},\"id\":\"23d3dc2d-87f4-417c-a095-c147217a3b78\",\"type\":\"LegendItem\"},{\"attributes\":{\"callback\":null,\"data\":{\"x\":{\"__ndarray__\":\"YI/HKKVLgb+k0vHs7tZ6v87NcVS1D0I/cn7WoMIvfT9/Ql4B3m2NP1AYmo8t2ZY/33/KM7m3nz8eKAG1Or2kP36si659Eao/h4HBBuzhrz9ctBO/yxuzP6gL6lbQjbY/zmZ+seNHuj8ypt8jddK9P32b8tOiW8A/5ptX8zaqwT8xYe5d1QTDP+Ibb7uybMQ/wJuqSp3fxT+v0HkGiWDHPx5WzVOSwcg/WrJrlgdtxz+BHyfjfczCP2JYh5s+vrs/MQmjuTpksz9DLO9lxeqoP5Edt0purZs/r7DQYx0Hij/B0IbSaD14PzA1Qd4Evmk/KzJ+bf4kYD8gprTD95dXP7tP63fMkmI/xcvZuMlUcD+aQhDRUGx0Px5htcuc3XU/d5dxQHH9dD8nzOdgeQlwPyhgUhLDg2A/74/rmn62Ab9jtl6yv91iv4tPAMU06HO/4pJvl5G3f79SIjMnVKOGv+/UmEuh4I2/xjjLNuy4kL8CmTvYYAuPv5xoV7+fCoq/co06AZT6hL/eGqOJZ9x/vyPSVtT5oXW/XqRjFhWDZr/K/AovZ+4WvzIXUwhajWU/TsIcM+g/dj+/8/jJuveAP09g3wJv04Y/nZM2uqGTjD9En8koLQSRP2UGcKOAqZM/mdE367Ablj+BwTXUd2WYPzd2nugqk5o/gVWiPma1nD9KWAS/Qt2ePy6iCr6Ui6A/OeSOyJuyoT/suvQcfc2iP/dGicoemqM/Ax77cVrRoz9cbIYghimjP4PGkVENx6E/dKKXWLUSoD99ti6n6nWcP1J9sI354Zg/\",\"dtype\":\"float64\",\"shape\":[75]},\"y\":{\"__ndarray__\":\"GhExyth1ND/Sv8nbtpRIP2vylNV0PVE/aTum7souWD/At0SJ8fVgPw3Iuahxymc/MSNhhJWvcD/bTfBN02d3P2zb5nxnaoA/CD5h5MAGhz8NmeH1TyaQP+zrCsc9p5Y/LbKd76fGnz/bLW5ISEmmPww9YvTcQq8/JV2OstnstT8Er5Y7M8G+P0c+r3jqkcU/5h99k6ZBzj88bCIzFzjVP4enV8oyxN0//yH99nXg5D8qOpLLf0jtP5kqGJXUifQ/c9cS8kHP/D+/DpwzojQEQIEmwoanVwxA4lgXt9HgE0BSSZ2AJuIbQAMJih9jjiNA5q4l5INuK0AwTKYKRj0zQNv5fmq8/DpAaCJseHrtQkB/+zpwzoxKQM3MzMzMeFJAZmZmZmZqWEAAAAAAAFxeQM3MzMzMJmJAmpmZmZkfZUBmZmZmZhhoQDMzMzMzEWtAAAAAAAAKbkBmZmZmZoFwQM3MzMzM/XFAMzMzMzN6c0CamZmZmfZ0QAAAAAAAc3ZAZmZmZmbvd0DNzMzMzGt5QDMzMzMz6HpAmpmZmZlkfEAAAAAAAOF9QGZmZmZmXX9AZmZmZuZsgECamZmZGSuBQM3MzMxM6YFAAAAAAICngkAzMzMzs2WDQGZmZmbmI4RAmpmZmRnihEDNzMzMTKCFQAAAAACAXoZAMzMzM7Mch0BmZmZm5tqHQJqZmZkZmYhAzczMzExXiUAAAAAAgBWKQDMzMzOz04pAZmZmZuaRi0CamZmZGVCMQM3MzMxMDo1AAAAAAIDMjUAzMzMzs4qOQGZmZmbmSI9A\",\"dtype\":\"float64\",\"shape\":[75]}},\"selected\":{\"id\":\"0ad112c2-1a7a-49ad-9b7e-29cd088407b3\",\"type\":\"Selection\"},\"selection_policy\":{\"id\":\"3e239f2b-4ea9-407a-8add-6562fbb606b4\",\"type\":\"UnionRenderers\"}},\"id\":\"0f6a6ace-4bfb-4607-9d2d-b549028a085a\",\"type\":\"ColumnDataSource\"},{\"attributes\":{\"data_source\":{\"id\":\"c6aeb0c7-1f7f-45a0-8901-589cbf84914f\",\"type\":\"ColumnDataSource\"},\"glyph\":{\"id\":\"b96ed03c-212b-47af-bbd8-01a79653f66a\",\"type\":\"Line\"},\"hover_glyph\":null,\"muted_glyph\":null,\"nonselection_glyph\":{\"id\":\"6d3b5433-8920-4772-b099-e58d76f77cd1\",\"type\":\"Line\"},\"selection_glyph\":null,\"view\":{\"id\":\"3a79c2ab-6251-451f-bfbb-b51c606a67df\",\"type\":\"CDSView\"}},\"id\":\"458d175e-8d51-411f-a67f-c8605d61fb8f\",\"type\":\"GlyphRenderer\"},{\"attributes\":{\"source\":{\"id\":\"b2256576-e666-4bf6-845c-3d33b74d51be\",\"type\":\"ColumnDataSource\"}},\"id\":\"9b243589-cfbf-4d9d-b1c1-6d24e4588857\",\"type\":\"CDSView\"},{\"attributes\":{\"source\":{\"id\":\"29798729-5be5-4e86-8f96-45d73d497ee0\",\"type\":\"ColumnDataSource\"}},\"id\":\"b8046b07-44c3-4dc6-9c77-1a120fa9f3b6\",\"type\":\"CDSView\"},{\"attributes\":{\"callback\":null,\"data\":{\"x\":{\"__ndarray__\":\"YI/HKKVLgb+k0vHs7tZ6v87NcVS1D0I/cn7WoMIvfT9/Ql4B3m2NP1AYmo8t2ZY/33/KM7m3nz8eKAG1Or2kP36si659Eao/h4HBBuzhrz9ctBO/yxuzP6gL6lbQjbY/zmZ+seNHuj8ypt8jddK9P32b8tOiW8A/5ptX8zaqwT8xYe5d1QTDP+Ibb7uybMQ/wJuqSp3fxT+v0HkGiWDHPx5WzVOSwcg/WrJrlgdtxz+BHyfjfczCP2JYh5s+vrs/MQmjuTpksz9DLO9lxeqoP5Edt0purZs/r7DQYx0Hij/B0IbSaD14PzA1Qd4Evmk/KzJ+bf4kYD8gprTD95dXP7tP63fMkmI/xcvZuMlUcD+aQhDRUGx0Px5htcuc3XU/d5dxQHH9dD8nzOdgeQlwPyhgUhLDg2A/74/rmn62Ab9jtl6yv91iv4tPAMU06HO/4pJvl5G3f79SIjMnVKOGv+/UmEuh4I2/xjjLNuy4kL8CmTvYYAuPv5xoV7+fCoq/co06AZT6hL/eGqOJZ9x/vyPSVtT5oXW/XqRjFhWDZr/K/AovZ+4WvzIXUwhajWU/TsIcM+g/dj+/8/jJuveAP09g3wJv04Y/nZM2uqGTjD9En8koLQSRP2UGcKOAqZM/mdE367Ablj+BwTXUd2WYPzd2nugqk5o/gVWiPma1nD9KWAS/Qt2ePy6iCr6Ui6A/OeSOyJuyoT/suvQcfc2iP/dGicoemqM/Ax77cVrRoz9cbIYghimjP4PGkVENx6E/dKKXWLUSoD99ti6n6nWcP1J9sI354Zg/\",\"dtype\":\"float64\",\"shape\":[75]},\"y\":{\"__ndarray__\":\"GhExyth1ND/Sv8nbtpRIP2vylNV0PVE/aTum7souWD/At0SJ8fVgPw3Iuahxymc/MSNhhJWvcD/bTfBN02d3P2zb5nxnaoA/CD5h5MAGhz8NmeH1TyaQP+zrCsc9p5Y/LbKd76fGnz/bLW5ISEmmPww9YvTcQq8/JV2OstnstT8Er5Y7M8G+P0c+r3jqkcU/5h99k6ZBzj88bCIzFzjVP4enV8oyxN0//yH99nXg5D8qOpLLf0jtP5kqGJXUifQ/c9cS8kHP/D+/DpwzojQEQIEmwoanVwxA4lgXt9HgE0BSSZ2AJuIbQAMJih9jjiNA5q4l5INuK0AwTKYKRj0zQNv5fmq8/DpAaCJseHrtQkB/+zpwzoxKQM3MzMzMeFJAZmZmZmZqWEAAAAAAAFxeQM3MzMzMJmJAmpmZmZkfZUBmZmZmZhhoQDMzMzMzEWtAAAAAAAAKbkBmZmZmZoFwQM3MzMzM/XFAMzMzMzN6c0CamZmZmfZ0QAAAAAAAc3ZAZmZmZmbvd0DNzMzMzGt5QDMzMzMz6HpAmpmZmZlkfEAAAAAAAOF9QGZmZmZmXX9AZmZmZuZsgECamZmZGSuBQM3MzMxM6YFAAAAAAICngkAzMzMzs2WDQGZmZmbmI4RAmpmZmRnihEDNzMzMTKCFQAAAAACAXoZAMzMzM7Mch0BmZmZm5tqHQJqZmZkZmYhAzczMzExXiUAAAAAAgBWKQDMzMzOz04pAZmZmZuaRi0CamZmZGVCMQM3MzMxMDo1AAAAAAIDMjUAzMzMzs4qOQGZmZmbmSI9A\",\"dtype\":\"float64\",\"shape\":[75]}},\"selected\":{\"id\":\"c3b3abd6-0c75-4a9c-b236-c90fec80d458\",\"type\":\"Selection\"},\"selection_policy\":{\"id\":\"e1497898-ba7d-4b84-8ece-c07b79cde54a\",\"type\":\"UnionRenderers\"}},\"id\":\"29798729-5be5-4e86-8f96-45d73d497ee0\",\"type\":\"ColumnDataSource\"},{\"attributes\":{\"fill_alpha\":{\"value\":0.7},\"fill_color\":{\"value\":\"#4daf4a\"},\"line_alpha\":{\"value\":0.7},\"line_color\":{\"value\":\"#4daf4a\"},\"x\":{\"field\":\"x\"},\"y\":{\"field\":\"y\"}},\"id\":\"e5f0e617-96da-470a-8e80-f525b0b95e6e\",\"type\":\"Circle\"},{\"attributes\":{\"dimension\":1,\"plot\":{\"id\":\"f4f6a6c3-9e45-4704-be5b-b655d967b1a7\",\"subtype\":\"Figure\",\"type\":\"Plot\"},\"ticker\":{\"id\":\"9d07a729-74e1-4490-a862-9f8a8ccd89b4\",\"type\":\"LogTicker\"}},\"id\":\"0f46c6e2-498b-46e5-8140-5fdbd9b46f25\",\"type\":\"Grid\"},{\"attributes\":{\"above\":[{\"id\":\"e224ee45-11c1-4801-93b7-03879f9f1f95\",\"type\":\"Legend\"}],\"below\":[{\"id\":\"c96e2b95-eb06-45e0-a3b0-dbc38d893fc9\",\"type\":\"LinearAxis\"}],\"left\":[{\"id\":\"6b6d5f44-9f35-4c19-b740-458fe15eaeb1\",\"type\":\"LinearAxis\"}],\"plot_width\":300,\"renderers\":[{\"id\":\"c96e2b95-eb06-45e0-a3b0-dbc38d893fc9\",\"type\":\"LinearAxis\"},{\"id\":\"5da87680-a5de-410f-acae-8ffef24fd3ea\",\"type\":\"Grid\"},{\"id\":\"6b6d5f44-9f35-4c19-b740-458fe15eaeb1\",\"type\":\"LinearAxis\"},{\"id\":\"668e313b-3d4f-4394-a1fe-efece75f1b64\",\"type\":\"Grid\"},{\"id\":\"01594328-3a17-4f62-8794-fb373c0a4f85\",\"type\":\"BoxAnnotation\"},{\"id\":\"ea67fc50-44f0-4d11-b2d1-d01618ee41a6\",\"type\":\"GlyphRenderer\"},{\"id\":\"32c55123-2d8f-445b-b5e0-c270cdc2a736\",\"type\":\"GlyphRenderer\"},{\"id\":\"ecb1a4e6-dbb7-4315-b514-82778a6f83df\",\"type\":\"GlyphRenderer\"},{\"id\":\"e224ee45-11c1-4801-93b7-03879f9f1f95\",\"type\":\"Legend\"}],\"title\":{\"id\":\"36f7c001-0e6b-4ade-b283-82e16f0f5779\",\"type\":\"Title\"},\"toolbar\":{\"id\":\"c6df9570-1697-4ac8-aab5-c6c30309bcc9\",\"type\":\"Toolbar\"},\"toolbar_location\":null,\"x_range\":{\"id\":\"a47a520f-952a-49fd-8b21-566447a73111\",\"type\":\"Range1d\"},\"x_scale\":{\"id\":\"c9f7470f-61ba-4003-9091-62e64a9499ed\",\"type\":\"LinearScale\"},\"y_range\":{\"id\":\"7529b31b-a011-4d43-9656-0add9b17bac9\",\"type\":\"Range1d\"},\"y_scale\":{\"id\":\"167fb5c9-359a-40f5-9749-c09924ec7f61\",\"type\":\"LinearScale\"}},\"id\":\"31b87263-d4ac-47c3-be9b-c47e7adf1899\",\"subtype\":\"Figure\",\"type\":\"Plot\"},{\"attributes\":{},\"id\":\"c9f7470f-61ba-4003-9091-62e64a9499ed\",\"type\":\"LinearScale\"}],\"root_ids\":[\"f6db226e-42ce-46cc-a5aa-1f62f681e75b\"]},\"title\":\"Bokeh Application\",\"version\":\"0.12.16\"}};\n",
       "  var render_items = [{\"docid\":\"16ba1713-86de-4e72-992d-29628ac111de\",\"elementid\":\"79572f79-a981-4942-9f21-33a652443afe\",\"modelid\":\"f6db226e-42ce-46cc-a5aa-1f62f681e75b\"}];\n",
       "  root.Bokeh.embed.embed_items_notebook(docs_json, render_items);\n",
       "\n",
       "  }\n",
       "  if (root.Bokeh !== undefined) {\n",
       "    embed_document(root);\n",
       "  } else {\n",
       "    var attempts = 0;\n",
       "    var timer = setInterval(function(root) {\n",
       "      if (root.Bokeh !== undefined) {\n",
       "        embed_document(root);\n",
       "        clearInterval(timer);\n",
       "      }\n",
       "      attempts++;\n",
       "      if (attempts > 100) {\n",
       "        console.log(\"Bokeh: ERROR: Unable to run BokehJS code because BokehJS library is missing\")\n",
       "        clearInterval(timer);\n",
       "      }\n",
       "    }, 10, root)\n",
       "  }\n",
       "})(window);"
      ],
      "application/vnd.bokehjs_exec.v0+json": ""
     },
     "metadata": {
      "application/vnd.bokehjs_exec.v0+json": {
       "id": "f6db226e-42ce-46cc-a5aa-1f62f681e75b"
      }
     },
     "output_type": "display_data"
    },
    {
     "data": {
      "text/markdown": [
       "*FIGURE.* Cooling rates & difference."
      ],
      "text/plain": [
       "<IPython.core.display.Markdown object>"
      ]
     },
     "metadata": {},
     "output_type": "display_data"
    },
    {
     "data": {
      "text/html": [
       "<a id=\"Fluxes._saw.\"></a>"
      ],
      "text/plain": [
       "<IPython.core.display.HTML object>"
      ]
     },
     "metadata": {},
     "output_type": "display_data"
    },
    {
     "data": {
      "text/markdown": [
       "# Fluxes. saw."
      ],
      "text/plain": [
       "<IPython.core.display.Markdown object>"
      ]
     },
     "metadata": {},
     "output_type": "display_data"
    },
    {
     "data": {
      "text/html": [
       "\n",
       "<div class=\"bk-root\">\n",
       "    <div class=\"bk-plotdiv\" id=\"07e2217c-b112-4b60-b883-7ed9392d4743\"></div>\n",
       "</div>"
      ]
     },
     "metadata": {},
     "output_type": "display_data"
    },
    {
     "data": {
      "application/javascript": [
       "(function(root) {\n",
       "  function embed_document(root) {\n",
       "    \n",
       "  var docs_json = {\"68256938-5b51-4bf5-9c9c-5737ded299a8\":{\"roots\":{\"references\":[{\"attributes\":{\"bottom_units\":\"screen\",\"fill_alpha\":{\"value\":0.5},\"fill_color\":{\"value\":\"lightgrey\"},\"left_units\":\"screen\",\"level\":\"overlay\",\"line_alpha\":{\"value\":1.0},\"line_color\":{\"value\":\"black\"},\"line_dash\":[4,4],\"line_width\":{\"value\":2},\"plot\":null,\"render_mode\":\"css\",\"right_units\":\"screen\",\"top_units\":\"screen\"},\"id\":\"2ff938f9-dc06-4fad-b54b-efe7d768acc0\",\"type\":\"BoxAnnotation\"},{\"attributes\":{\"plot\":{\"id\":\"e0cb76bf-6cde-49b0-add5-0f0703311010\",\"subtype\":\"Figure\",\"type\":\"Plot\"},\"ticker\":{\"id\":\"f3b22884-3829-41cf-9d59-56a873dd78e0\",\"type\":\"CategoricalTicker\"}},\"id\":\"b1d23702-3e8b-4623-bdc1-82a8cf56ac76\",\"type\":\"Grid\"},{\"attributes\":{},\"id\":\"67e67a3b-ecc3-47ca-aa06-c317d7a52c3e\",\"type\":\"ResetTool\"},{\"attributes\":{\"axis_label\":\"flux (W m-2)\",\"formatter\":{\"id\":\"86ed43d7-e034-4676-9ed2-1aa4ac105b95\",\"type\":\"BasicTickFormatter\"},\"plot\":{\"id\":\"e0cb76bf-6cde-49b0-add5-0f0703311010\",\"subtype\":\"Figure\",\"type\":\"Plot\"},\"ticker\":{\"id\":\"484a1d30-9318-447a-9541-04d681a6502c\",\"type\":\"BasicTicker\"}},\"id\":\"305a3e9c-ec01-458f-beb8-47110ca2f431\",\"type\":\"LinearAxis\"},{\"attributes\":{},\"id\":\"7e533341-0220-4d70-bfcc-ef44fd0c2982\",\"type\":\"CategoricalScale\"},{\"attributes\":{},\"id\":\"e95c868b-44b6-41ec-9b05-b427cf755004\",\"type\":\"HelpTool\"},{\"attributes\":{},\"id\":\"535722d0-5fe5-48b2-9d92-c85d1c4c7b9d\",\"type\":\"SaveTool\"},{\"attributes\":{\"children\":[{\"id\":\"33aece9b-560e-40da-b42b-3b0303ca5d53\",\"type\":\"ToolbarBox\"},{\"id\":\"e9e37370-2075-43ad-9e64-08778668d46b\",\"type\":\"Column\"}]},\"id\":\"0eee775a-e04b-44d8-a2a3-2d1c3a1f4fe8\",\"type\":\"Column\"},{\"attributes\":{},\"id\":\"c70da711-f568-4e81-8ae6-d56d84ae15cb\",\"type\":\"Selection\"},{\"attributes\":{\"dimension\":1,\"plot\":{\"id\":\"e0cb76bf-6cde-49b0-add5-0f0703311010\",\"subtype\":\"Figure\",\"type\":\"Plot\"},\"ticker\":{\"id\":\"484a1d30-9318-447a-9541-04d681a6502c\",\"type\":\"BasicTicker\"}},\"id\":\"5a78bfa8-7012-406a-814c-9fe2e8e17516\",\"type\":\"Grid\"},{\"attributes\":{\"toolbar\":{\"id\":\"0c7eade6-c22c-4fef-8782-2966fec5cb73\",\"type\":\"ProxyToolbar\"},\"toolbar_location\":\"above\"},\"id\":\"33aece9b-560e-40da-b42b-3b0303ca5d53\",\"type\":\"ToolbarBox\"},{\"attributes\":{\"below\":[{\"id\":\"8bd29c22-abf5-42cb-bf3b-fc9c5619bd50\",\"type\":\"CategoricalAxis\"}],\"left\":[{\"id\":\"305a3e9c-ec01-458f-beb8-47110ca2f431\",\"type\":\"LinearAxis\"}],\"plot_height\":300,\"plot_width\":300,\"renderers\":[{\"id\":\"8bd29c22-abf5-42cb-bf3b-fc9c5619bd50\",\"type\":\"CategoricalAxis\"},{\"id\":\"b1d23702-3e8b-4623-bdc1-82a8cf56ac76\",\"type\":\"Grid\"},{\"id\":\"305a3e9c-ec01-458f-beb8-47110ca2f431\",\"type\":\"LinearAxis\"},{\"id\":\"5a78bfa8-7012-406a-814c-9fe2e8e17516\",\"type\":\"Grid\"},{\"id\":\"1bd9db70-8239-4814-a4c6-76a42e4e1adc\",\"type\":\"BoxAnnotation\"},{\"id\":\"a97b17dd-f62a-4e9e-b2cb-710605c64716\",\"type\":\"GlyphRenderer\"}],\"title\":{\"id\":\"4a13609a-deaa-41cf-be6c-b6dd38739121\",\"type\":\"Title\"},\"toolbar\":{\"id\":\"3e2c5cdd-7ead-4268-b836-0bda86fc73fa\",\"type\":\"Toolbar\"},\"toolbar_location\":null,\"x_range\":{\"id\":\"b1da774f-2ff6-4c40-a3cb-ddcb34724729\",\"type\":\"FactorRange\"},\"x_scale\":{\"id\":\"7e533341-0220-4d70-bfcc-ef44fd0c2982\",\"type\":\"CategoricalScale\"},\"y_range\":{\"id\":\"aef95082-feb0-427d-998b-70c67a8a67c1\",\"type\":\"DataRange1d\"},\"y_scale\":{\"id\":\"7c52297d-afcc-4b7d-bb7e-907dcfa48897\",\"type\":\"LinearScale\"}},\"id\":\"e0cb76bf-6cde-49b0-add5-0f0703311010\",\"subtype\":\"Figure\",\"type\":\"Plot\"},{\"attributes\":{\"callback\":null},\"id\":\"de2cef24-5d7b-4c79-a567-89d5185e7860\",\"type\":\"DataRange1d\"},{\"attributes\":{},\"id\":\"5fe92fc8-00cb-49d2-8fd3-f36b76c2617b\",\"type\":\"Selection\"},{\"attributes\":{\"active_drag\":\"auto\",\"active_inspect\":\"auto\",\"active_scroll\":\"auto\",\"active_tap\":\"auto\",\"tools\":[{\"id\":\"6de78d5b-4a07-423c-8785-5554c4475df3\",\"type\":\"PanTool\"},{\"id\":\"81d7be1c-fa96-4240-9156-1236716b9d3d\",\"type\":\"WheelZoomTool\"},{\"id\":\"b1e9cf7e-7f71-4831-8e11-2f487de08f27\",\"type\":\"BoxZoomTool\"},{\"id\":\"52233ecc-f587-49d1-b315-8a512eb353f4\",\"type\":\"SaveTool\"},{\"id\":\"773973ee-5fe1-4f7f-b02d-762b16c422c7\",\"type\":\"ResetTool\"},{\"id\":\"03025718-54c9-4528-95c6-a486fe93e397\",\"type\":\"HelpTool\"}]},\"id\":\"8fc613bd-b332-4827-b207-4e7a4f62eeb4\",\"type\":\"Toolbar\"},{\"attributes\":{\"callback\":null,\"factors\":[\"9\"]},\"id\":\"249bb506-b9cf-44ab-9642-795ea12fceb3\",\"type\":\"FactorRange\"},{\"attributes\":{},\"id\":\"f3b22884-3829-41cf-9d59-56a873dd78e0\",\"type\":\"CategoricalTicker\"},{\"attributes\":{\"plot\":null,\"text\":\"TOA flux. CLIRAD - CRD.\"},\"id\":\"1b55dbe4-fa31-4aeb-a412-420b6dec4797\",\"type\":\"Title\"},{\"attributes\":{\"below\":[{\"id\":\"37e22608-7e58-4e90-a174-bf084ad88e31\",\"type\":\"CategoricalAxis\"}],\"left\":[{\"id\":\"1145ed4b-7fa9-4b74-938c-1080aebf5fd1\",\"type\":\"LinearAxis\"}],\"plot_height\":300,\"plot_width\":300,\"renderers\":[{\"id\":\"37e22608-7e58-4e90-a174-bf084ad88e31\",\"type\":\"CategoricalAxis\"},{\"id\":\"21cbf387-cf14-4b2a-9d09-7c88a0eb4ffa\",\"type\":\"Grid\"},{\"id\":\"1145ed4b-7fa9-4b74-938c-1080aebf5fd1\",\"type\":\"LinearAxis\"},{\"id\":\"e5acf7e4-72f5-469c-b6d7-3bda8fbf1742\",\"type\":\"Grid\"},{\"id\":\"f2c85af8-f2ea-4433-8ed1-39e8a4d05192\",\"type\":\"BoxAnnotation\"},{\"id\":\"f678b24f-db31-4097-a0c3-cb27e22f089f\",\"type\":\"GlyphRenderer\"}],\"title\":{\"id\":\"1b55dbe4-fa31-4aeb-a412-420b6dec4797\",\"type\":\"Title\"},\"toolbar\":{\"id\":\"8fc613bd-b332-4827-b207-4e7a4f62eeb4\",\"type\":\"Toolbar\"},\"toolbar_location\":null,\"x_range\":{\"id\":\"249bb506-b9cf-44ab-9642-795ea12fceb3\",\"type\":\"FactorRange\"},\"x_scale\":{\"id\":\"053e7505-ce85-4b4b-ae59-f653d5468abb\",\"type\":\"CategoricalScale\"},\"y_range\":{\"id\":\"de2cef24-5d7b-4c79-a567-89d5185e7860\",\"type\":\"DataRange1d\"},\"y_scale\":{\"id\":\"9438725b-fc68-4f33-9725-b5667ca0d829\",\"type\":\"LinearScale\"}},\"id\":\"c07ba2b1-8c26-4224-84ec-fae5ce2bcaf0\",\"subtype\":\"Figure\",\"type\":\"Plot\"},{\"attributes\":{\"callback\":null,\"factors\":[\"9\"]},\"id\":\"b1da774f-2ff6-4c40-a3cb-ddcb34724729\",\"type\":\"FactorRange\"},{\"attributes\":{},\"id\":\"86ed43d7-e034-4676-9ed2-1aa4ac105b95\",\"type\":\"BasicTickFormatter\"},{\"attributes\":{},\"id\":\"053e7505-ce85-4b4b-ae59-f653d5468abb\",\"type\":\"CategoricalScale\"},{\"attributes\":{\"axis_label\":\"flux (W m-2)\",\"formatter\":{\"id\":\"51aba866-59fa-45ee-8a26-63fb0d6e93ed\",\"type\":\"BasicTickFormatter\"},\"plot\":{\"id\":\"c07ba2b1-8c26-4224-84ec-fae5ce2bcaf0\",\"subtype\":\"Figure\",\"type\":\"Plot\"},\"ticker\":{\"id\":\"4076ff33-5d46-47ce-b222-a888f7832d80\",\"type\":\"BasicTicker\"}},\"id\":\"1145ed4b-7fa9-4b74-938c-1080aebf5fd1\",\"type\":\"LinearAxis\"},{\"attributes\":{},\"id\":\"9438725b-fc68-4f33-9725-b5667ca0d829\",\"type\":\"LinearScale\"},{\"attributes\":{\"tools\":[{\"id\":\"6de78d5b-4a07-423c-8785-5554c4475df3\",\"type\":\"PanTool\"},{\"id\":\"81d7be1c-fa96-4240-9156-1236716b9d3d\",\"type\":\"WheelZoomTool\"},{\"id\":\"b1e9cf7e-7f71-4831-8e11-2f487de08f27\",\"type\":\"BoxZoomTool\"},{\"id\":\"52233ecc-f587-49d1-b315-8a512eb353f4\",\"type\":\"SaveTool\"},{\"id\":\"773973ee-5fe1-4f7f-b02d-762b16c422c7\",\"type\":\"ResetTool\"},{\"id\":\"03025718-54c9-4528-95c6-a486fe93e397\",\"type\":\"HelpTool\"},{\"id\":\"34bb06bf-0f9a-4972-973f-43d690abc56c\",\"type\":\"PanTool\"},{\"id\":\"d786fd29-e7da-4b66-a8a2-95a5353dfb65\",\"type\":\"WheelZoomTool\"},{\"id\":\"17f8be32-fead-4c71-87f9-f10bedb2653c\",\"type\":\"BoxZoomTool\"},{\"id\":\"b4b9de22-2f96-4c4e-aa40-fce9eeb81ad8\",\"type\":\"SaveTool\"},{\"id\":\"abb21e87-5dc1-48d0-aec9-863135a00232\",\"type\":\"ResetTool\"},{\"id\":\"b113a408-a97d-4a0d-86cb-573ef01eb23b\",\"type\":\"HelpTool\"},{\"id\":\"0154a804-b17f-415f-8e59-8e0219e86fbe\",\"type\":\"PanTool\"},{\"id\":\"95837179-93da-414c-aaec-f1c852d6f9ac\",\"type\":\"WheelZoomTool\"},{\"id\":\"f4bdac2f-2003-410a-8070-238b228354f7\",\"type\":\"BoxZoomTool\"},{\"id\":\"535722d0-5fe5-48b2-9d92-c85d1c4c7b9d\",\"type\":\"SaveTool\"},{\"id\":\"67e67a3b-ecc3-47ca-aa06-c317d7a52c3e\",\"type\":\"ResetTool\"},{\"id\":\"e95c868b-44b6-41ec-9b05-b427cf755004\",\"type\":\"HelpTool\"}]},\"id\":\"0c7eade6-c22c-4fef-8782-2966fec5cb73\",\"type\":\"ProxyToolbar\"},{\"attributes\":{},\"id\":\"51aba866-59fa-45ee-8a26-63fb0d6e93ed\",\"type\":\"BasicTickFormatter\"},{\"attributes\":{\"plot\":{\"id\":\"c07ba2b1-8c26-4224-84ec-fae5ce2bcaf0\",\"subtype\":\"Figure\",\"type\":\"Plot\"},\"ticker\":{\"id\":\"cf4320e5-bb2d-4b78-a35b-a34c85fc9920\",\"type\":\"CategoricalTicker\"}},\"id\":\"21cbf387-cf14-4b2a-9d09-7c88a0eb4ffa\",\"type\":\"Grid\"},{\"attributes\":{\"active_drag\":\"auto\",\"active_inspect\":\"auto\",\"active_scroll\":\"auto\",\"active_tap\":\"auto\",\"tools\":[{\"id\":\"34bb06bf-0f9a-4972-973f-43d690abc56c\",\"type\":\"PanTool\"},{\"id\":\"d786fd29-e7da-4b66-a8a2-95a5353dfb65\",\"type\":\"WheelZoomTool\"},{\"id\":\"17f8be32-fead-4c71-87f9-f10bedb2653c\",\"type\":\"BoxZoomTool\"},{\"id\":\"b4b9de22-2f96-4c4e-aa40-fce9eeb81ad8\",\"type\":\"SaveTool\"},{\"id\":\"abb21e87-5dc1-48d0-aec9-863135a00232\",\"type\":\"ResetTool\"},{\"id\":\"b113a408-a97d-4a0d-86cb-573ef01eb23b\",\"type\":\"HelpTool\"}]},\"id\":\"3e2c5cdd-7ead-4268-b836-0bda86fc73fa\",\"type\":\"Toolbar\"},{\"attributes\":{},\"id\":\"f2036d21-1399-49e7-8de1-55d92dceb426\",\"type\":\"UnionRenderers\"},{\"attributes\":{\"axis_label\":\"spectral band\",\"formatter\":{\"id\":\"99821a2f-ce7a-4805-91ee-ba1170ae4a54\",\"type\":\"CategoricalTickFormatter\"},\"plot\":{\"id\":\"c07ba2b1-8c26-4224-84ec-fae5ce2bcaf0\",\"subtype\":\"Figure\",\"type\":\"Plot\"},\"ticker\":{\"id\":\"cf4320e5-bb2d-4b78-a35b-a34c85fc9920\",\"type\":\"CategoricalTicker\"}},\"id\":\"37e22608-7e58-4e90-a174-bf084ad88e31\",\"type\":\"CategoricalAxis\"},{\"attributes\":{},\"id\":\"cf4320e5-bb2d-4b78-a35b-a34c85fc9920\",\"type\":\"CategoricalTicker\"},{\"attributes\":{\"fill_color\":{\"value\":\"#1f77b4\"},\"line_color\":{\"value\":\"#1f77b4\"},\"top\":{\"field\":\"flux\"},\"width\":{\"value\":0.9},\"x\":{\"field\":\"band\"}},\"id\":\"ad63b6ce-c591-4d1a-94b1-705590885277\",\"type\":\"VBar\"},{\"attributes\":{\"children\":[{\"id\":\"c07ba2b1-8c26-4224-84ec-fae5ce2bcaf0\",\"subtype\":\"Figure\",\"type\":\"Plot\"},{\"id\":\"e0cb76bf-6cde-49b0-add5-0f0703311010\",\"subtype\":\"Figure\",\"type\":\"Plot\"},{\"id\":\"350d8ac4-354a-427a-ad01-2e744cb33881\",\"subtype\":\"Figure\",\"type\":\"Plot\"}]},\"id\":\"624e358c-75c2-4d14-b5b9-40f553c34bfe\",\"type\":\"Row\"},{\"attributes\":{},\"id\":\"f195f289-5b35-4240-9cde-ff53b3726678\",\"type\":\"CategoricalTickFormatter\"},{\"attributes\":{},\"id\":\"4076ff33-5d46-47ce-b222-a888f7832d80\",\"type\":\"BasicTicker\"},{\"attributes\":{\"below\":[{\"id\":\"c963a256-d05b-4f7d-b8e6-dd2e92f86bd4\",\"type\":\"CategoricalAxis\"}],\"left\":[{\"id\":\"64c41ecb-6bb1-41bb-acd8-b3294b6f281e\",\"type\":\"LinearAxis\"}],\"plot_height\":300,\"plot_width\":300,\"renderers\":[{\"id\":\"c963a256-d05b-4f7d-b8e6-dd2e92f86bd4\",\"type\":\"CategoricalAxis\"},{\"id\":\"d93b39fc-11a9-4f62-8400-15870144f16f\",\"type\":\"Grid\"},{\"id\":\"64c41ecb-6bb1-41bb-acd8-b3294b6f281e\",\"type\":\"LinearAxis\"},{\"id\":\"dfce2a7e-eda5-47e6-b8aa-61352936abb2\",\"type\":\"Grid\"},{\"id\":\"2ff938f9-dc06-4fad-b54b-efe7d768acc0\",\"type\":\"BoxAnnotation\"},{\"id\":\"d0b66fc2-d59c-420e-920a-613b1fcf1dbc\",\"type\":\"GlyphRenderer\"}],\"title\":{\"id\":\"f05bfd6e-9c87-4f54-af48-e78941229e48\",\"type\":\"Title\"},\"toolbar\":{\"id\":\"2115c287-2147-45e1-86ad-ccf22e7259d4\",\"type\":\"Toolbar\"},\"toolbar_location\":null,\"x_range\":{\"id\":\"4cba658e-8e8d-43ff-b842-bb33fd846bd5\",\"type\":\"FactorRange\"},\"x_scale\":{\"id\":\"1da78b0a-46ec-46fa-9b96-6a5b67d2d025\",\"type\":\"CategoricalScale\"},\"y_range\":{\"id\":\"c6955dc4-7642-425b-83b0-51136b81d064\",\"type\":\"DataRange1d\"},\"y_scale\":{\"id\":\"c9a5afef-e17f-4527-8ea8-091629bd184d\",\"type\":\"LinearScale\"}},\"id\":\"350d8ac4-354a-427a-ad01-2e744cb33881\",\"subtype\":\"Figure\",\"type\":\"Plot\"},{\"attributes\":{\"dimension\":1,\"plot\":{\"id\":\"c07ba2b1-8c26-4224-84ec-fae5ce2bcaf0\",\"subtype\":\"Figure\",\"type\":\"Plot\"},\"ticker\":{\"id\":\"4076ff33-5d46-47ce-b222-a888f7832d80\",\"type\":\"BasicTicker\"}},\"id\":\"e5acf7e4-72f5-469c-b6d7-3bda8fbf1742\",\"type\":\"Grid\"},{\"attributes\":{\"fill_alpha\":{\"value\":0.1},\"fill_color\":{\"value\":\"#1f77b4\"},\"line_alpha\":{\"value\":0.1},\"line_color\":{\"value\":\"#1f77b4\"},\"top\":{\"field\":\"flux\"},\"width\":{\"value\":0.9},\"x\":{\"field\":\"band\"}},\"id\":\"ff8723a1-5b28-4317-a0e3-40aaf10901f1\",\"type\":\"VBar\"},{\"attributes\":{\"callback\":null},\"id\":\"aef95082-feb0-427d-998b-70c67a8a67c1\",\"type\":\"DataRange1d\"},{\"attributes\":{\"bottom_units\":\"screen\",\"fill_alpha\":{\"value\":0.5},\"fill_color\":{\"value\":\"lightgrey\"},\"left_units\":\"screen\",\"level\":\"overlay\",\"line_alpha\":{\"value\":1.0},\"line_color\":{\"value\":\"black\"},\"line_dash\":[4,4],\"line_width\":{\"value\":2},\"plot\":null,\"render_mode\":\"css\",\"right_units\":\"screen\",\"top_units\":\"screen\"},\"id\":\"f2c85af8-f2ea-4433-8ed1-39e8a4d05192\",\"type\":\"BoxAnnotation\"},{\"attributes\":{},\"id\":\"7c52297d-afcc-4b7d-bb7e-907dcfa48897\",\"type\":\"LinearScale\"},{\"attributes\":{},\"id\":\"6de78d5b-4a07-423c-8785-5554c4475df3\",\"type\":\"PanTool\"},{\"attributes\":{},\"id\":\"99821a2f-ce7a-4805-91ee-ba1170ae4a54\",\"type\":\"CategoricalTickFormatter\"},{\"attributes\":{\"data_source\":{\"id\":\"a4e2d3b9-0867-4fb3-b137-801671c1d89f\",\"type\":\"ColumnDataSource\"},\"glyph\":{\"id\":\"ad63b6ce-c591-4d1a-94b1-705590885277\",\"type\":\"VBar\"},\"hover_glyph\":null,\"muted_glyph\":null,\"nonselection_glyph\":{\"id\":\"ff8723a1-5b28-4317-a0e3-40aaf10901f1\",\"type\":\"VBar\"},\"selection_glyph\":null,\"view\":{\"id\":\"6412c728-019d-4c06-8bc0-f38bc10fe997\",\"type\":\"CDSView\"}},\"id\":\"f678b24f-db31-4097-a0c3-cb27e22f089f\",\"type\":\"GlyphRenderer\"},{\"attributes\":{},\"id\":\"81d7be1c-fa96-4240-9156-1236716b9d3d\",\"type\":\"WheelZoomTool\"},{\"attributes\":{\"overlay\":{\"id\":\"f2c85af8-f2ea-4433-8ed1-39e8a4d05192\",\"type\":\"BoxAnnotation\"}},\"id\":\"b1e9cf7e-7f71-4831-8e11-2f487de08f27\",\"type\":\"BoxZoomTool\"},{\"attributes\":{},\"id\":\"52233ecc-f587-49d1-b315-8a512eb353f4\",\"type\":\"SaveTool\"},{\"attributes\":{\"axis_label\":\"flux (W m-2)\",\"formatter\":{\"id\":\"81d10ff1-97d3-40d8-9ad8-bac36195a009\",\"type\":\"BasicTickFormatter\"},\"plot\":{\"id\":\"350d8ac4-354a-427a-ad01-2e744cb33881\",\"subtype\":\"Figure\",\"type\":\"Plot\"},\"ticker\":{\"id\":\"79bde3c2-c0a6-4e17-94ee-d4f683b82758\",\"type\":\"BasicTicker\"}},\"id\":\"64c41ecb-6bb1-41bb-acd8-b3294b6f281e\",\"type\":\"LinearAxis\"},{\"attributes\":{},\"id\":\"773973ee-5fe1-4f7f-b02d-762b16c422c7\",\"type\":\"ResetTool\"},{\"attributes\":{},\"id\":\"03025718-54c9-4528-95c6-a486fe93e397\",\"type\":\"HelpTool\"},{\"attributes\":{},\"id\":\"de2a43ce-3e41-47cd-b01d-f9c386ecd0ad\",\"type\":\"Selection\"},{\"attributes\":{},\"id\":\"dd832a60-312e-46db-946a-6ce1bfe1dddb\",\"type\":\"UnionRenderers\"},{\"attributes\":{},\"id\":\"74e43394-fbc9-4f2a-bad7-e2cc14d9dc70\",\"type\":\"CategoricalTickFormatter\"},{\"attributes\":{},\"id\":\"9f588606-3e7d-461c-89ef-a6bb6726c574\",\"type\":\"UnionRenderers\"},{\"attributes\":{\"plot\":null,\"text\":\"SFC flux. CLIRAD - CRD.\"},\"id\":\"4a13609a-deaa-41cf-be6c-b6dd38739121\",\"type\":\"Title\"},{\"attributes\":{\"source\":{\"id\":\"a4e2d3b9-0867-4fb3-b137-801671c1d89f\",\"type\":\"ColumnDataSource\"}},\"id\":\"6412c728-019d-4c06-8bc0-f38bc10fe997\",\"type\":\"CDSView\"},{\"attributes\":{\"fill_color\":{\"value\":\"#1f77b4\"},\"line_color\":{\"value\":\"#1f77b4\"},\"top\":{\"field\":\"flux\"},\"width\":{\"value\":0.9},\"x\":{\"field\":\"band\"}},\"id\":\"6af9d356-ae09-4b69-b749-93fdfbd3b7c4\",\"type\":\"VBar\"},{\"attributes\":{\"fill_alpha\":{\"value\":0.1},\"fill_color\":{\"value\":\"#1f77b4\"},\"line_alpha\":{\"value\":0.1},\"line_color\":{\"value\":\"#1f77b4\"},\"top\":{\"field\":\"flux\"},\"width\":{\"value\":0.9},\"x\":{\"field\":\"band\"}},\"id\":\"e270086a-a898-4e3f-9145-3b328821cbde\",\"type\":\"VBar\"},{\"attributes\":{},\"id\":\"81d10ff1-97d3-40d8-9ad8-bac36195a009\",\"type\":\"BasicTickFormatter\"},{\"attributes\":{\"source\":{\"id\":\"8d4f1abc-bf89-4e58-995a-820f68819c3e\",\"type\":\"ColumnDataSource\"}},\"id\":\"c850d875-24f1-4d87-9ebf-44bf128ccfd2\",\"type\":\"CDSView\"},{\"attributes\":{\"overlay\":{\"id\":\"2ff938f9-dc06-4fad-b54b-efe7d768acc0\",\"type\":\"BoxAnnotation\"}},\"id\":\"f4bdac2f-2003-410a-8070-238b228354f7\",\"type\":\"BoxZoomTool\"},{\"attributes\":{\"dimension\":1,\"plot\":{\"id\":\"350d8ac4-354a-427a-ad01-2e744cb33881\",\"subtype\":\"Figure\",\"type\":\"Plot\"},\"ticker\":{\"id\":\"79bde3c2-c0a6-4e17-94ee-d4f683b82758\",\"type\":\"BasicTicker\"}},\"id\":\"dfce2a7e-eda5-47e6-b8aa-61352936abb2\",\"type\":\"Grid\"},{\"attributes\":{},\"id\":\"b113a408-a97d-4a0d-86cb-573ef01eb23b\",\"type\":\"HelpTool\"},{\"attributes\":{\"axis_label\":\"spectral band\",\"formatter\":{\"id\":\"f195f289-5b35-4240-9cde-ff53b3726678\",\"type\":\"CategoricalTickFormatter\"},\"plot\":{\"id\":\"e0cb76bf-6cde-49b0-add5-0f0703311010\",\"subtype\":\"Figure\",\"type\":\"Plot\"},\"ticker\":{\"id\":\"f3b22884-3829-41cf-9d59-56a873dd78e0\",\"type\":\"CategoricalTicker\"}},\"id\":\"8bd29c22-abf5-42cb-bf3b-fc9c5619bd50\",\"type\":\"CategoricalAxis\"},{\"attributes\":{},\"id\":\"79bde3c2-c0a6-4e17-94ee-d4f683b82758\",\"type\":\"BasicTicker\"},{\"attributes\":{},\"id\":\"abb21e87-5dc1-48d0-aec9-863135a00232\",\"type\":\"ResetTool\"},{\"attributes\":{\"fill_color\":{\"value\":\"#1f77b4\"},\"line_color\":{\"value\":\"#1f77b4\"},\"top\":{\"field\":\"flux\"},\"width\":{\"value\":0.9},\"x\":{\"field\":\"band\"}},\"id\":\"4feb0d7c-eb02-4eac-a8e8-7a41fea7cb68\",\"type\":\"VBar\"},{\"attributes\":{\"children\":[{\"id\":\"624e358c-75c2-4d14-b5b9-40f553c34bfe\",\"type\":\"Row\"}]},\"id\":\"e9e37370-2075-43ad-9e64-08778668d46b\",\"type\":\"Column\"},{\"attributes\":{},\"id\":\"484a1d30-9318-447a-9541-04d681a6502c\",\"type\":\"BasicTicker\"},{\"attributes\":{},\"id\":\"1ecfc1c1-6e9b-444f-acb6-e4752d2fb0f5\",\"type\":\"CategoricalTicker\"},{\"attributes\":{\"overlay\":{\"id\":\"1bd9db70-8239-4814-a4c6-76a42e4e1adc\",\"type\":\"BoxAnnotation\"}},\"id\":\"17f8be32-fead-4c71-87f9-f10bedb2653c\",\"type\":\"BoxZoomTool\"},{\"attributes\":{\"axis_label\":\"spectral band\",\"formatter\":{\"id\":\"74e43394-fbc9-4f2a-bad7-e2cc14d9dc70\",\"type\":\"CategoricalTickFormatter\"},\"plot\":{\"id\":\"350d8ac4-354a-427a-ad01-2e744cb33881\",\"subtype\":\"Figure\",\"type\":\"Plot\"},\"ticker\":{\"id\":\"1ecfc1c1-6e9b-444f-acb6-e4752d2fb0f5\",\"type\":\"CategoricalTicker\"}},\"id\":\"c963a256-d05b-4f7d-b8e6-dd2e92f86bd4\",\"type\":\"CategoricalAxis\"},{\"attributes\":{},\"id\":\"b4b9de22-2f96-4c4e-aa40-fce9eeb81ad8\",\"type\":\"SaveTool\"},{\"attributes\":{\"callback\":null,\"data\":{\"band\":[\"9\"],\"flux\":{\"__ndarray__\":\"QC7oGOt2sT8=\",\"dtype\":\"float64\",\"shape\":[1]}},\"selected\":{\"id\":\"de2a43ce-3e41-47cd-b01d-f9c386ecd0ad\",\"type\":\"Selection\"},\"selection_policy\":{\"id\":\"dd832a60-312e-46db-946a-6ce1bfe1dddb\",\"type\":\"UnionRenderers\"}},\"id\":\"6e1ef3c0-fca2-46f3-8acb-58752206cd08\",\"type\":\"ColumnDataSource\"},{\"attributes\":{\"plot\":{\"id\":\"350d8ac4-354a-427a-ad01-2e744cb33881\",\"subtype\":\"Figure\",\"type\":\"Plot\"},\"ticker\":{\"id\":\"1ecfc1c1-6e9b-444f-acb6-e4752d2fb0f5\",\"type\":\"CategoricalTicker\"}},\"id\":\"d93b39fc-11a9-4f62-8400-15870144f16f\",\"type\":\"Grid\"},{\"attributes\":{},\"id\":\"c9a5afef-e17f-4527-8ea8-091629bd184d\",\"type\":\"LinearScale\"},{\"attributes\":{},\"id\":\"d786fd29-e7da-4b66-a8a2-95a5353dfb65\",\"type\":\"WheelZoomTool\"},{\"attributes\":{\"callback\":null},\"id\":\"c6955dc4-7642-425b-83b0-51136b81d064\",\"type\":\"DataRange1d\"},{\"attributes\":{},\"id\":\"1da78b0a-46ec-46fa-9b96-6a5b67d2d025\",\"type\":\"CategoricalScale\"},{\"attributes\":{\"data_source\":{\"id\":\"8d4f1abc-bf89-4e58-995a-820f68819c3e\",\"type\":\"ColumnDataSource\"},\"glyph\":{\"id\":\"6af9d356-ae09-4b69-b749-93fdfbd3b7c4\",\"type\":\"VBar\"},\"hover_glyph\":null,\"muted_glyph\":null,\"nonselection_glyph\":{\"id\":\"9476fc0a-069f-46c3-8093-1eac59f26689\",\"type\":\"VBar\"},\"selection_glyph\":null,\"view\":{\"id\":\"c850d875-24f1-4d87-9ebf-44bf128ccfd2\",\"type\":\"CDSView\"}},\"id\":\"a97b17dd-f62a-4e9e-b2cb-710605c64716\",\"type\":\"GlyphRenderer\"},{\"attributes\":{\"callback\":null,\"data\":{\"band\":[\"9\"],\"flux\":{\"__ndarray__\":\"gAK1GDxMr78=\",\"dtype\":\"float64\",\"shape\":[1]}},\"selected\":{\"id\":\"5fe92fc8-00cb-49d2-8fd3-f36b76c2617b\",\"type\":\"Selection\"},\"selection_policy\":{\"id\":\"f2036d21-1399-49e7-8de1-55d92dceb426\",\"type\":\"UnionRenderers\"}},\"id\":\"8d4f1abc-bf89-4e58-995a-820f68819c3e\",\"type\":\"ColumnDataSource\"},{\"attributes\":{},\"id\":\"34bb06bf-0f9a-4972-973f-43d690abc56c\",\"type\":\"PanTool\"},{\"attributes\":{\"callback\":null,\"factors\":[\"9\"]},\"id\":\"4cba658e-8e8d-43ff-b842-bb33fd846bd5\",\"type\":\"FactorRange\"},{\"attributes\":{\"bottom_units\":\"screen\",\"fill_alpha\":{\"value\":0.5},\"fill_color\":{\"value\":\"lightgrey\"},\"left_units\":\"screen\",\"level\":\"overlay\",\"line_alpha\":{\"value\":1.0},\"line_color\":{\"value\":\"black\"},\"line_dash\":[4,4],\"line_width\":{\"value\":2},\"plot\":null,\"render_mode\":\"css\",\"right_units\":\"screen\",\"top_units\":\"screen\"},\"id\":\"1bd9db70-8239-4814-a4c6-76a42e4e1adc\",\"type\":\"BoxAnnotation\"},{\"attributes\":{\"active_drag\":\"auto\",\"active_inspect\":\"auto\",\"active_scroll\":\"auto\",\"active_tap\":\"auto\",\"tools\":[{\"id\":\"0154a804-b17f-415f-8e59-8e0219e86fbe\",\"type\":\"PanTool\"},{\"id\":\"95837179-93da-414c-aaec-f1c852d6f9ac\",\"type\":\"WheelZoomTool\"},{\"id\":\"f4bdac2f-2003-410a-8070-238b228354f7\",\"type\":\"BoxZoomTool\"},{\"id\":\"535722d0-5fe5-48b2-9d92-c85d1c4c7b9d\",\"type\":\"SaveTool\"},{\"id\":\"67e67a3b-ecc3-47ca-aa06-c317d7a52c3e\",\"type\":\"ResetTool\"},{\"id\":\"e95c868b-44b6-41ec-9b05-b427cf755004\",\"type\":\"HelpTool\"}]},\"id\":\"2115c287-2147-45e1-86ad-ccf22e7259d4\",\"type\":\"Toolbar\"},{\"attributes\":{\"plot\":null,\"text\":\"Atmosphere heating. CLIRAD - CRD.\"},\"id\":\"f05bfd6e-9c87-4f54-af48-e78941229e48\",\"type\":\"Title\"},{\"attributes\":{\"fill_alpha\":{\"value\":0.1},\"fill_color\":{\"value\":\"#1f77b4\"},\"line_alpha\":{\"value\":0.1},\"line_color\":{\"value\":\"#1f77b4\"},\"top\":{\"field\":\"flux\"},\"width\":{\"value\":0.9},\"x\":{\"field\":\"band\"}},\"id\":\"9476fc0a-069f-46c3-8093-1eac59f26689\",\"type\":\"VBar\"},{\"attributes\":{\"data_source\":{\"id\":\"6e1ef3c0-fca2-46f3-8acb-58752206cd08\",\"type\":\"ColumnDataSource\"},\"glyph\":{\"id\":\"4feb0d7c-eb02-4eac-a8e8-7a41fea7cb68\",\"type\":\"VBar\"},\"hover_glyph\":null,\"muted_glyph\":null,\"nonselection_glyph\":{\"id\":\"e270086a-a898-4e3f-9145-3b328821cbde\",\"type\":\"VBar\"},\"selection_glyph\":null,\"view\":{\"id\":\"df1c7a98-caf7-4201-ba19-d6e0882bf91b\",\"type\":\"CDSView\"}},\"id\":\"d0b66fc2-d59c-420e-920a-613b1fcf1dbc\",\"type\":\"GlyphRenderer\"},{\"attributes\":{},\"id\":\"0154a804-b17f-415f-8e59-8e0219e86fbe\",\"type\":\"PanTool\"},{\"attributes\":{\"callback\":null,\"data\":{\"band\":[\"9\"],\"flux\":{\"__ndarray__\":\"AAjAeAYNfT8=\",\"dtype\":\"float64\",\"shape\":[1]}},\"selected\":{\"id\":\"c70da711-f568-4e81-8ae6-d56d84ae15cb\",\"type\":\"Selection\"},\"selection_policy\":{\"id\":\"9f588606-3e7d-461c-89ef-a6bb6726c574\",\"type\":\"UnionRenderers\"}},\"id\":\"a4e2d3b9-0867-4fb3-b137-801671c1d89f\",\"type\":\"ColumnDataSource\"},{\"attributes\":{\"source\":{\"id\":\"6e1ef3c0-fca2-46f3-8acb-58752206cd08\",\"type\":\"ColumnDataSource\"}},\"id\":\"df1c7a98-caf7-4201-ba19-d6e0882bf91b\",\"type\":\"CDSView\"},{\"attributes\":{},\"id\":\"95837179-93da-414c-aaec-f1c852d6f9ac\",\"type\":\"WheelZoomTool\"}],\"root_ids\":[\"0eee775a-e04b-44d8-a2a3-2d1c3a1f4fe8\"]},\"title\":\"Bokeh Application\",\"version\":\"0.12.16\"}};\n",
       "  var render_items = [{\"docid\":\"68256938-5b51-4bf5-9c9c-5737ded299a8\",\"elementid\":\"07e2217c-b112-4b60-b883-7ed9392d4743\",\"modelid\":\"0eee775a-e04b-44d8-a2a3-2d1c3a1f4fe8\"}];\n",
       "  root.Bokeh.embed.embed_items_notebook(docs_json, render_items);\n",
       "\n",
       "  }\n",
       "  if (root.Bokeh !== undefined) {\n",
       "    embed_document(root);\n",
       "  } else {\n",
       "    var attempts = 0;\n",
       "    var timer = setInterval(function(root) {\n",
       "      if (root.Bokeh !== undefined) {\n",
       "        embed_document(root);\n",
       "        clearInterval(timer);\n",
       "      }\n",
       "      attempts++;\n",
       "      if (attempts > 100) {\n",
       "        console.log(\"Bokeh: ERROR: Unable to run BokehJS code because BokehJS library is missing\")\n",
       "        clearInterval(timer);\n",
       "      }\n",
       "    }, 10, root)\n",
       "  }\n",
       "})(window);"
      ],
      "application/vnd.bokehjs_exec.v0+json": ""
     },
     "metadata": {
      "application/vnd.bokehjs_exec.v0+json": {
       "id": "0eee775a-e04b-44d8-a2a3-2d1c3a1f4fe8"
      }
     },
     "output_type": "display_data"
    },
    {
     "data": {
      "text/markdown": [
       "*FIGURE.* Difference between CLIRAD and CRD in TOA, SFC and net atmosphere flux, in each spectral band."
      ],
      "text/plain": [
       "<IPython.core.display.Markdown object>"
      ]
     },
     "metadata": {},
     "output_type": "display_data"
    },
    {
     "data": {
      "text/html": [
       "<div>\n",
       "<style scoped>\n",
       "    .dataframe tbody tr th:only-of-type {\n",
       "        vertical-align: middle;\n",
       "    }\n",
       "\n",
       "    .dataframe tbody tr th {\n",
       "        vertical-align: top;\n",
       "    }\n",
       "\n",
       "    .dataframe thead th {\n",
       "        text-align: right;\n",
       "    }\n",
       "</style>\n",
       "<table border=\"1\" class=\"dataframe\">\n",
       "  <thead>\n",
       "    <tr style=\"text-align: right;\">\n",
       "      <th></th>\n",
       "      <th>OLR flux</th>\n",
       "      <th>SFC flux</th>\n",
       "      <th>ATM heating</th>\n",
       "    </tr>\n",
       "    <tr>\n",
       "      <th>Sum over bands</th>\n",
       "      <th></th>\n",
       "      <th></th>\n",
       "      <th></th>\n",
       "    </tr>\n",
       "  </thead>\n",
       "  <tbody>\n",
       "    <tr>\n",
       "      <th>CLIRAD - CRD</th>\n",
       "      <td>-237.85</td>\n",
       "      <td>-0.06</td>\n",
       "      <td>0.07</td>\n",
       "    </tr>\n",
       "    <tr>\n",
       "      <th>CRD</th>\n",
       "      <td>-8.19</td>\n",
       "      <td>2.77</td>\n",
       "      <td>-1.40</td>\n",
       "    </tr>\n",
       "  </tbody>\n",
       "</table>\n",
       "</div>"
      ],
      "text/plain": [
       "                OLR flux  SFC flux  ATM heating\n",
       "Sum over bands                                 \n",
       "CLIRAD - CRD     -237.85     -0.06         0.07\n",
       "CRD                -8.19      2.77        -1.40"
      ]
     },
     "metadata": {},
     "output_type": "display_data"
    },
    {
     "data": {
      "text/markdown": [
       "*TABLE.* Difference between CLIRAD and CRD in TOA, SFC and net atmosphere flux, over all spectral bands. CRD's TOA, SFC and net atmosphere flux, over all spectral bands."
      ],
      "text/plain": [
       "<IPython.core.display.Markdown object>"
      ]
     },
     "metadata": {},
     "output_type": "display_data"
    },
    {
     "data": {
      "text/html": [
       "<a id=\"Cooling_rates._trp.\"></a>"
      ],
      "text/plain": [
       "<IPython.core.display.HTML object>"
      ]
     },
     "metadata": {},
     "output_type": "display_data"
    },
    {
     "data": {
      "text/markdown": [
       "# Cooling rates. trp."
      ],
      "text/plain": [
       "<IPython.core.display.Markdown object>"
      ]
     },
     "metadata": {},
     "output_type": "display_data"
    },
    {
     "data": {
      "text/html": [
       "\n",
       "<div class=\"bk-root\">\n",
       "    <div class=\"bk-plotdiv\" id=\"6fc62d89-4308-4588-8110-901cca683cc3\"></div>\n",
       "</div>"
      ]
     },
     "metadata": {},
     "output_type": "display_data"
    },
    {
     "data": {
      "application/javascript": [
       "(function(root) {\n",
       "  function embed_document(root) {\n",
       "    \n",
       "  var docs_json = {\"b6604a20-c3f0-42ec-ad81-33c2c1eb90a1\":{\"roots\":{\"references\":[{\"attributes\":{},\"id\":\"4074ed39-44eb-4e5d-8c9f-e4175dcb6628\",\"type\":\"HelpTool\"},{\"attributes\":{\"callback\":null,\"data\":{\"x\":{\"__ndarray__\":\"WBkoUXjOoz8KBHv4pKajP6UHm8DIWaM/LS2Qkc0Eoz/ltChlsrWiP6mJDuZOZ6I/xpghedomoj+K8dm7uO2hP8Jhj6fqwKE/hq4UZ+SqoT/pTTgAiq2hP430Clo03KE/hZqLObQ6oj/clSv2ds+iP2nr8YzHVqI/kszOyD7Nnz8ymoMKiPWYPzGW2mxbfZE/wBckUtrogj8Apf1JW+BLP4C6etttk4G/8AkTJaXJkr+AeSSYSViMvwDQcuoU9WM/oMfmsurWjz/8oNOYtbmWP3yFGpJOtZQ/IOy58ZMPij/4UkyZLNJyP+B/ssnkS02/kBcCGzjpY78AhoWCLclVv0BFNiIkwzQ/WE1GWYKVTD+AKySHqWANP7AIc1htQFy/QIhPLWdear+Axdtckolvv0jE4NbnrnC/gGDBD2TDbr+ol9OJ9yhrv1i90Ko2Ami/GMOFBNi8ZL8AsVD+/Uhiv5CuC9KbcGC/oAfoBXJlXb9Qko34L79cv9BhHpzJ41u/IM8i/7/2W79gxyzMWddcvwiozOEbiV6/YL4/gjuAYL+kXTAnzQdhv0oNsot3PmK/DforH66RYr9qG8O/r2Fjv5wctUAGZGO/oGVJbgC+Y788veawVkhkv4DZ2wUBNGW/4H+L3kGdZr+4VvpX9idov8An3/dl7Gi/oEqISgcRZ7+gRIIRSktkvxBTbc3cl2G/IO3HDKUNX78gyzA/TtBav4ABHHg+zle/QHnB1XFkVL+AeMHnVCBNv4DMtk+e5ES/gKTP5u/gQr8A4/1xKGdLv6Bz5Esf72K/\",\"dtype\":\"float64\",\"shape\":[75]},\"y\":{\"__ndarray__\":\"GhExyth1ND/Sv8nbtpRIP2vylNV0PVE/aTum7souWD/At0SJ8fVgPw3Iuahxymc/MSNhhJWvcD/bTfBN02d3P2zb5nxnaoA/CD5h5MAGhz8NmeH1TyaQP+zrCsc9p5Y/LbKd76fGnz/bLW5ISEmmPww9YvTcQq8/JV2OstnstT8Er5Y7M8G+P0c+r3jqkcU/5h99k6ZBzj88bCIzFzjVP4enV8oyxN0//yH99nXg5D8qOpLLf0jtP5kqGJXUifQ/c9cS8kHP/D+/DpwzojQEQIEmwoanVwxA4lgXt9HgE0BSSZ2AJuIbQAMJih9jjiNA5q4l5INuK0AwTKYKRj0zQNv5fmq8/DpAaCJseHrtQkB/+zpwzoxKQM3MzMzMeFJAZmZmZmZqWEAAAAAAAFxeQM3MzMzMJmJAmpmZmZkfZUBmZmZmZhhoQDMzMzMzEWtAAAAAAAAKbkBmZmZmZoFwQM3MzMzM/XFAMzMzMzN6c0CamZmZmfZ0QAAAAAAAc3ZAZmZmZmbvd0DNzMzMzGt5QDMzMzMz6HpAmpmZmZlkfEAAAAAAAOF9QGZmZmZmXX9AZmZmZuZsgECamZmZGSuBQM3MzMxM6YFAAAAAAICngkAzMzMzs2WDQGZmZmbmI4RAmpmZmRnihEDNzMzMTKCFQAAAAACAXoZAMzMzM7Mch0BmZmZm5tqHQJqZmZkZmYhAzczMzExXiUAAAAAAgBWKQDMzMzOz04pAZmZmZuaRi0CamZmZGVCMQM3MzMxMDo1AAAAAAIDMjUAzMzMzs4qOQGZmZmbmSI9A\",\"dtype\":\"float64\",\"shape\":[75]}},\"selected\":{\"id\":\"a014cb8e-372d-4551-9b09-7de92b50e486\",\"type\":\"Selection\"},\"selection_policy\":{\"id\":\"ca2621f6-988b-435c-84a6-0d7637f562dc\",\"type\":\"UnionRenderers\"}},\"id\":\"f507d797-ed5f-47a0-846d-e385744e5d1c\",\"type\":\"ColumnDataSource\"},{\"attributes\":{},\"id\":\"ac328cba-80c0-4112-80f4-a95ad553766e\",\"type\":\"PanTool\"},{\"attributes\":{},\"id\":\"8da915f3-4b42-4c75-97ee-ed797ffd9800\",\"type\":\"SaveTool\"},{\"attributes\":{\"callback\":null,\"end\":0.03728994420000001,\"start\":-0.01889820419999999},\"id\":\"02b5b585-819d-4851-9236-5a0ec7619060\",\"type\":\"Range1d\"},{\"attributes\":{},\"id\":\"f81fed5d-b11e-443c-bd9f-b49ce6cf9dc7\",\"type\":\"WheelZoomTool\"},{\"attributes\":{},\"id\":\"2f6da599-950d-4d04-afce-4688153c1638\",\"type\":\"LogScale\"},{\"attributes\":{\"callback\":null,\"end\":0.01,\"start\":1020},\"id\":\"757c763d-c145-47a5-beaa-a400ab672e23\",\"type\":\"Range1d\"},{\"attributes\":{\"dimension\":1,\"plot\":{\"id\":\"d6331158-b2ca-47d0-a34c-6fe1f205ce7e\",\"subtype\":\"Figure\",\"type\":\"Plot\"},\"ticker\":{\"id\":\"6ef21c5f-8ee3-432d-85fe-eed3496d464c\",\"type\":\"LogTicker\"}},\"id\":\"4da383c9-49bf-4a15-94c6-045577cc3d9c\",\"type\":\"Grid\"},{\"attributes\":{\"fill_alpha\":{\"value\":0.7},\"fill_color\":{\"value\":\"#984ea3\"},\"line_alpha\":{\"value\":0.7},\"line_color\":{\"value\":\"#984ea3\"},\"x\":{\"field\":\"x\"},\"y\":{\"field\":\"y\"}},\"id\":\"c18e3d9a-3b53-4f85-857f-e1be216c5f26\",\"type\":\"Circle\"},{\"attributes\":{\"line_alpha\":0.6,\"line_color\":\"#e41a1c\",\"line_dash\":[6],\"line_width\":5,\"x\":{\"field\":\"x\"},\"y\":{\"field\":\"y\"}},\"id\":\"208c37a8-6de4-4748-a7fb-28d2bb453600\",\"type\":\"Line\"},{\"attributes\":{},\"id\":\"b81d0803-f15e-49d1-993d-71c362bf57fb\",\"type\":\"ResetTool\"},{\"attributes\":{\"axis_label\":\"cooling rate [K/day]\",\"formatter\":{\"id\":\"3c0156e9-e3a0-4384-824e-bc40dae89e3e\",\"type\":\"BasicTickFormatter\"},\"plot\":{\"id\":\"d6331158-b2ca-47d0-a34c-6fe1f205ce7e\",\"subtype\":\"Figure\",\"type\":\"Plot\"},\"ticker\":{\"id\":\"437b7e50-b14e-4cee-b83e-481fb66d0b8b\",\"type\":\"BasicTicker\"}},\"id\":\"0ec0ce97-e387-4c59-b110-0949ba8e4e5c\",\"type\":\"LinearAxis\"},{\"attributes\":{\"overlay\":{\"id\":\"b679f3e3-ecfc-4df6-9cc3-54fc35c4c919\",\"type\":\"BoxAnnotation\"}},\"id\":\"a2101e85-83bb-4393-afc1-1ae354f3620f\",\"type\":\"BoxZoomTool\"},{\"attributes\":{\"line_alpha\":0.1,\"line_color\":\"#1f77b4\",\"line_dash\":[6],\"line_width\":5,\"x\":{\"field\":\"x\"},\"y\":{\"field\":\"y\"}},\"id\":\"6c5add44-8eef-42bc-a8f9-e7b4758f49db\",\"type\":\"Line\"},{\"attributes\":{},\"id\":\"5f2eca28-adfa-4bdc-8c3c-e40331a82d09\",\"type\":\"LinearScale\"},{\"attributes\":{},\"id\":\"99c783aa-f7b2-4b19-a876-81ecc4d84a3f\",\"type\":\"Selection\"},{\"attributes\":{\"active_drag\":\"auto\",\"active_inspect\":\"auto\",\"active_scroll\":\"auto\",\"active_tap\":\"auto\",\"tools\":[{\"id\":\"ac328cba-80c0-4112-80f4-a95ad553766e\",\"type\":\"PanTool\"},{\"id\":\"f81fed5d-b11e-443c-bd9f-b49ce6cf9dc7\",\"type\":\"WheelZoomTool\"},{\"id\":\"a2101e85-83bb-4393-afc1-1ae354f3620f\",\"type\":\"BoxZoomTool\"},{\"id\":\"8da915f3-4b42-4c75-97ee-ed797ffd9800\",\"type\":\"SaveTool\"},{\"id\":\"b81d0803-f15e-49d1-993d-71c362bf57fb\",\"type\":\"ResetTool\"},{\"id\":\"4074ed39-44eb-4e5d-8c9f-e4175dcb6628\",\"type\":\"HelpTool\"}]},\"id\":\"75659d92-2d97-4355-9de4-3b24d2539279\",\"type\":\"Toolbar\"},{\"attributes\":{\"items\":[{\"id\":\"91be5e0d-0509-450c-b37a-54513d2a6ec7\",\"type\":\"LegendItem\"}],\"label_text_font_size\":{\"value\":\"8pt\"},\"location\":\"top_center\",\"orientation\":\"horizontal\",\"plot\":{\"id\":\"d6331158-b2ca-47d0-a34c-6fe1f205ce7e\",\"subtype\":\"Figure\",\"type\":\"Plot\"}},\"id\":\"fbba9b57-3852-4ab0-89e4-ddb1455eeb84\",\"type\":\"Legend\"},{\"attributes\":{},\"id\":\"437b7e50-b14e-4cee-b83e-481fb66d0b8b\",\"type\":\"BasicTicker\"},{\"attributes\":{\"label\":{\"value\":\"CLIRAD\"},\"renderers\":[{\"id\":\"c83c798d-2e1e-43be-bbd4-e26770256df2\",\"type\":\"GlyphRenderer\"}]},\"id\":\"b80d1441-3b09-4234-95e2-9fd81c458cca\",\"type\":\"LegendItem\"},{\"attributes\":{\"items\":[{\"id\":\"0ff7d050-e9fd-4978-9265-a6b75993c2fb\",\"type\":\"LegendItem\"},{\"id\":\"80f675c6-ae81-43a0-acb0-88e9e43934a7\",\"type\":\"LegendItem\"}],\"label_text_font_size\":{\"value\":\"8pt\"},\"location\":\"top_center\",\"orientation\":\"horizontal\",\"plot\":{\"id\":\"7e899fbc-ffec-4b91-a251-6947ec87e418\",\"subtype\":\"Figure\",\"type\":\"Plot\"}},\"id\":\"81d65077-73e6-473b-b922-0e9150e0d8d5\",\"type\":\"Legend\"},{\"attributes\":{\"axis_label\":\"pressure [mb]\",\"formatter\":{\"id\":\"2425b706-c9ec-495d-9c1b-5bbc799fec37\",\"type\":\"LogTickFormatter\"},\"plot\":{\"id\":\"d6331158-b2ca-47d0-a34c-6fe1f205ce7e\",\"subtype\":\"Figure\",\"type\":\"Plot\"},\"ticker\":{\"id\":\"6ef21c5f-8ee3-432d-85fe-eed3496d464c\",\"type\":\"LogTicker\"}},\"id\":\"7e4c3bb2-1ad2-4750-99cd-609f0292df61\",\"type\":\"LogAxis\"},{\"attributes\":{\"num_minor_ticks\":10},\"id\":\"6ef21c5f-8ee3-432d-85fe-eed3496d464c\",\"type\":\"LogTicker\"},{\"attributes\":{\"plot\":{\"id\":\"d6331158-b2ca-47d0-a34c-6fe1f205ce7e\",\"subtype\":\"Figure\",\"type\":\"Plot\"},\"ticker\":{\"id\":\"437b7e50-b14e-4cee-b83e-481fb66d0b8b\",\"type\":\"BasicTicker\"}},\"id\":\"afc3c1b3-97e2-4326-97c1-7388bfb2d840\",\"type\":\"Grid\"},{\"attributes\":{\"callback\":null,\"end\":0.01,\"start\":1020},\"id\":\"aaa205da-f200-4128-bb92-90a8bb876dc5\",\"type\":\"Range1d\"},{\"attributes\":{},\"id\":\"d5636837-73d9-4fff-bbed-a9783dc47fcf\",\"type\":\"PanTool\"},{\"attributes\":{\"bottom_units\":\"screen\",\"fill_alpha\":{\"value\":0.5},\"fill_color\":{\"value\":\"lightgrey\"},\"left_units\":\"screen\",\"level\":\"overlay\",\"line_alpha\":{\"value\":1.0},\"line_color\":{\"value\":\"black\"},\"line_dash\":[4,4],\"line_width\":{\"value\":2},\"plot\":null,\"render_mode\":\"css\",\"right_units\":\"screen\",\"top_units\":\"screen\"},\"id\":\"c88f9255-ad08-4351-94e5-8a869b60efe8\",\"type\":\"BoxAnnotation\"},{\"attributes\":{\"active_drag\":\"auto\",\"active_inspect\":\"auto\",\"active_scroll\":\"auto\",\"active_tap\":\"auto\",\"tools\":[{\"id\":\"d5636837-73d9-4fff-bbed-a9783dc47fcf\",\"type\":\"PanTool\"},{\"id\":\"20f4398e-7877-4fdc-92fc-15cd67dbc625\",\"type\":\"WheelZoomTool\"},{\"id\":\"ed7f4009-afa2-4005-aa20-ba8f448f24a6\",\"type\":\"BoxZoomTool\"},{\"id\":\"ea193ccb-72fc-4791-ae97-04bea3721a56\",\"type\":\"SaveTool\"},{\"id\":\"e711d6da-2fe8-43fd-9a07-85769a77b6fb\",\"type\":\"ResetTool\"},{\"id\":\"686cc996-08c5-4853-b3c2-a57ca77b5d62\",\"type\":\"HelpTool\"}]},\"id\":\"406c1c26-c7f8-42f1-b3d6-c6d12bf32930\",\"type\":\"Toolbar\"},{\"attributes\":{\"axis_label\":\"cooling rate [K/day]\",\"formatter\":{\"id\":\"c16240b1-9d7f-4715-b5a4-efa15eacf592\",\"type\":\"BasicTickFormatter\"},\"plot\":{\"id\":\"7e899fbc-ffec-4b91-a251-6947ec87e418\",\"subtype\":\"Figure\",\"type\":\"Plot\"},\"ticker\":{\"id\":\"269c6225-bbd4-4358-a90d-c73473147bf2\",\"type\":\"BasicTicker\"}},\"id\":\"cba2824f-07d0-48d1-8fca-ebe62b732643\",\"type\":\"LinearAxis\"},{\"attributes\":{\"axis_label\":\"pressure [mb]\",\"formatter\":{\"id\":\"bbb448c0-9602-427f-8052-747aadb60b8d\",\"type\":\"BasicTickFormatter\"},\"plot\":{\"id\":\"7e899fbc-ffec-4b91-a251-6947ec87e418\",\"subtype\":\"Figure\",\"type\":\"Plot\"},\"ticker\":{\"id\":\"4bb607dd-bdce-4b2b-a47a-115547194c05\",\"type\":\"BasicTicker\"}},\"id\":\"0e753d60-eb42-41c6-b8c3-11a7f1110ed4\",\"type\":\"LinearAxis\"},{\"attributes\":{\"data_source\":{\"id\":\"f507d797-ed5f-47a0-846d-e385744e5d1c\",\"type\":\"ColumnDataSource\"},\"glyph\":{\"id\":\"c18e3d9a-3b53-4f85-857f-e1be216c5f26\",\"type\":\"Circle\"},\"hover_glyph\":null,\"muted_glyph\":null,\"nonselection_glyph\":{\"id\":\"402d1225-d72e-4302-b41e-658e3f5357d3\",\"type\":\"Circle\"},\"selection_glyph\":null,\"view\":{\"id\":\"b574eb24-06da-43f3-a4b6-63b648985731\",\"type\":\"CDSView\"}},\"id\":\"25e820d4-b83f-48df-a038-9110f7038a49\",\"type\":\"GlyphRenderer\"},{\"attributes\":{\"fill_alpha\":{\"value\":0.7},\"fill_color\":{\"value\":\"#4daf4a\"},\"line_alpha\":{\"value\":0.7},\"line_color\":{\"value\":\"#4daf4a\"},\"x\":{\"field\":\"x\"},\"y\":{\"field\":\"y\"}},\"id\":\"c362d84a-735f-490d-856b-91e667a592bf\",\"type\":\"Circle\"},{\"attributes\":{\"source\":{\"id\":\"2f905110-7c81-40d3-a340-a519b330e917\",\"type\":\"ColumnDataSource\"}},\"id\":\"84c19647-03a8-4bb6-b60e-63ccb75c1162\",\"type\":\"CDSView\"},{\"attributes\":{\"children\":[{\"id\":\"78c6ac03-e26c-4df4-b87f-da777a0f29c3\",\"type\":\"Row\"}]},\"id\":\"73ef9baf-79de-4f5d-9440-7f7c628609ad\",\"type\":\"Column\"},{\"attributes\":{\"source\":{\"id\":\"67b9ef8b-43a7-41de-832a-972f87afc828\",\"type\":\"ColumnDataSource\"}},\"id\":\"3b323de3-e841-4abc-b6a3-f7d441817f82\",\"type\":\"CDSView\"},{\"attributes\":{},\"id\":\"b23f90a0-a45a-41f9-9363-754e34aa8a1f\",\"type\":\"UnionRenderers\"},{\"attributes\":{\"callback\":null,\"data\":{\"x\":{\"__ndarray__\":\"YZjQ9MzNqb9TMuSW1Jupv8L0sGG13qi/mfYQyKBCqL87HW9Dkp+nv3u6mcv2/qa/mSWQwMtVpr8w43GHuKulv4lCqbBcAqW/UGvSGOdTpL/1wk84F6mjvyBkOieE+aK/9uWNm4ZSor8TgR9lZnahvzqlrBsf5Zu/zg2z5PI6h7+ZY6hdszCHP7YnGEXaCKQ/8j7EZ9Omsj9POfrOmRO9PzYIDKsZycQ/Q8i1wkBiyz/KlavBJYTNPyOnRISOfMo/Q7Tcn5a0xT8ysPZ3zfG/P8AtcbGqnbU/kS2eRoDRqj+EfAzkeDCePyHuEoWUaI8/MK60mMEzgT/YqiYvh2Z2P5g7ZcAeImw/8C18MIRSJD9awcTGpYt/v8XcUpoNp5O/HILrAK6/nb9qsDJ0pg2hvzJ4kQoZCKG/sYtmRur5oL8eO4QiYr+gvz6AhjnRYaC/WIxSuRmun794FJs1TGCevzmVSd+L2Jy/2GNM4vULm7/mTyuDIimZv9b38AI/A5e/TkzGhVKvlL8AlKBe2CySv9ovE1Mv/I6/95rz9/9Eib/s7HzpdO6CvwCeJh8Pm3i/XAewqnvaY79z2kvOvjVWPyZfiYbsl3Y/zuLhjlZkhD+pDtbfYyuOP0QTk06HSpQ/tBTqy/SbmT8psEKU83meP6uUO3AXCaE/+USnUDweoj9PjaXwJsCiP3PDdBEtgqM/hj8WhwPapD8p8FLwCfmmP1KovY4qq6k/SqdmUfrIrD9nS4hajiWwP8iX5XQMC7I/oAKPArIdtD/qxmt14W62P54PaALh/bg/\",\"dtype\":\"float64\",\"shape\":[75]},\"y\":{\"__ndarray__\":\"GhExyth1ND/Sv8nbtpRIP2vylNV0PVE/aTum7souWD/At0SJ8fVgPw3Iuahxymc/MSNhhJWvcD/bTfBN02d3P2zb5nxnaoA/CD5h5MAGhz8NmeH1TyaQP+zrCsc9p5Y/LbKd76fGnz/bLW5ISEmmPww9YvTcQq8/JV2OstnstT8Er5Y7M8G+P0c+r3jqkcU/5h99k6ZBzj88bCIzFzjVP4enV8oyxN0//yH99nXg5D8qOpLLf0jtP5kqGJXUifQ/c9cS8kHP/D+/DpwzojQEQIEmwoanVwxA4lgXt9HgE0BSSZ2AJuIbQAMJih9jjiNA5q4l5INuK0AwTKYKRj0zQNv5fmq8/DpAaCJseHrtQkB/+zpwzoxKQM3MzMzMeFJAZmZmZmZqWEAAAAAAAFxeQM3MzMzMJmJAmpmZmZkfZUBmZmZmZhhoQDMzMzMzEWtAAAAAAAAKbkBmZmZmZoFwQM3MzMzM/XFAMzMzMzN6c0CamZmZmfZ0QAAAAAAAc3ZAZmZmZmbvd0DNzMzMzGt5QDMzMzMz6HpAmpmZmZlkfEAAAAAAAOF9QGZmZmZmXX9AZmZmZuZsgECamZmZGSuBQM3MzMxM6YFAAAAAAICngkAzMzMzs2WDQGZmZmbmI4RAmpmZmRnihEDNzMzMTKCFQAAAAACAXoZAMzMzM7Mch0BmZmZm5tqHQJqZmZkZmYhAzczMzExXiUAAAAAAgBWKQDMzMzOz04pAZmZmZuaRi0CamZmZGVCMQM3MzMxMDo1AAAAAAIDMjUAzMzMzs4qOQGZmZmbmSI9A\",\"dtype\":\"float64\",\"shape\":[75]}},\"selected\":{\"id\":\"6e0eed3e-336c-4a3e-8b8d-c62ce0291b4c\",\"type\":\"Selection\"},\"selection_policy\":{\"id\":\"b23f90a0-a45a-41f9-9363-754e34aa8a1f\",\"type\":\"UnionRenderers\"}},\"id\":\"a6ac3045-b412-4772-8d62-97e44a762a99\",\"type\":\"ColumnDataSource\"},{\"attributes\":{\"callback\":null,\"data\":{\"x\":{\"__ndarray__\":\"3XuSHRbItr9Zx+QZo5G2v0mqf6jlG7a/1ueQ8pijtb+WNwbrnyq1v2ghq6ISs7S/Am8M900+tL8OMvRItsyzv9LrUeOeYbO/GpuuC2X/sr9PruK6Tauyv94EaCbbarK/FNBOSmRGsr8E9SEAHCGyvwiDFDfMIrC/xCaIczq0pb+10Muxh7mKvyWcX5KflJY/gznfJ8VJsD+Yg0Xq4tu8P3rrsk5L4sU/qOE6Sk67zT9wUZi9jUnPPzRgmGWyLMo/ZZY1mCO3wz9SeFQlX0O6Pz7qAJ9XcLA/D/YeFZxNpD9Q5J/S7nuZP8E3Qy2qnpA/7CmDtBAuhj8+YEAc1Nh7P3/x1Li6iWk/fv68/RSBR79mv3iLasZ/vwT3j8cE45G/HhLx6Nxzmr/KwGRXGCqevwSX23545J2/NtSuXWgbnr/zaYCYpRmev+mtONdbw52/wFPi6X4Wnb+buPmfLBecv4GMqYl4ypq//K4c4p41mb++msSfL12Xvy4eVYICRZW/H5canObvkr/r8tHVYl+Qv5Sc6PoLK4u/8IFLN/Ekhb9+gal6A1l9v1iUcxmn926/PBv9296MJL84lCbRjnxuP+Bu5b73JIA/pBDQltZTiT//E3+7vJ6RP0S6FGEH8ZY/Ygjn8JxvnD+8RJweeb+gP7758b3dl6I//A+XuUyPoz+/35CP2wSkP95uOuOqm6Q/bYjdtnDSpT8YciNnjM+nPywvY4Scaao/37Bl4B1srT/A7MQDz1+wP0Y+3bDVNLI/idfo4XNDtD9qk4jFr6W2P4q5sN1Zlbk/\",\"dtype\":\"float64\",\"shape\":[75]},\"y\":{\"__ndarray__\":\"GhExyth1ND/Sv8nbtpRIP2vylNV0PVE/aTum7souWD/At0SJ8fVgPw3Iuahxymc/MSNhhJWvcD/bTfBN02d3P2zb5nxnaoA/CD5h5MAGhz8NmeH1TyaQP+zrCsc9p5Y/LbKd76fGnz/bLW5ISEmmPww9YvTcQq8/JV2OstnstT8Er5Y7M8G+P0c+r3jqkcU/5h99k6ZBzj88bCIzFzjVP4enV8oyxN0//yH99nXg5D8qOpLLf0jtP5kqGJXUifQ/c9cS8kHP/D+/DpwzojQEQIEmwoanVwxA4lgXt9HgE0BSSZ2AJuIbQAMJih9jjiNA5q4l5INuK0AwTKYKRj0zQNv5fmq8/DpAaCJseHrtQkB/+zpwzoxKQM3MzMzMeFJAZmZmZmZqWEAAAAAAAFxeQM3MzMzMJmJAmpmZmZkfZUBmZmZmZhhoQDMzMzMzEWtAAAAAAAAKbkBmZmZmZoFwQM3MzMzM/XFAMzMzMzN6c0CamZmZmfZ0QAAAAAAAc3ZAZmZmZmbvd0DNzMzMzGt5QDMzMzMz6HpAmpmZmZlkfEAAAAAAAOF9QGZmZmZmXX9AZmZmZuZsgECamZmZGSuBQM3MzMxM6YFAAAAAAICngkAzMzMzs2WDQGZmZmbmI4RAmpmZmRnihEDNzMzMTKCFQAAAAACAXoZAMzMzM7Mch0BmZmZm5tqHQJqZmZkZmYhAzczMzExXiUAAAAAAgBWKQDMzMzOz04pAZmZmZuaRi0CamZmZGVCMQM3MzMxMDo1AAAAAAIDMjUAzMzMzs4qOQGZmZmbmSI9A\",\"dtype\":\"float64\",\"shape\":[75]}},\"selected\":{\"id\":\"cd0fc8c5-4779-4989-b5bf-7fe5b8261e83\",\"type\":\"Selection\"},\"selection_policy\":{\"id\":\"7f3ca1e3-c1b3-4fcd-a351-a82540b4017d\",\"type\":\"UnionRenderers\"}},\"id\":\"93f91333-e935-4619-bcd6-80abb7714cb7\",\"type\":\"ColumnDataSource\"},{\"attributes\":{\"dimension\":1,\"plot\":{\"id\":\"7e899fbc-ffec-4b91-a251-6947ec87e418\",\"subtype\":\"Figure\",\"type\":\"Plot\"},\"ticker\":{\"id\":\"4bb607dd-bdce-4b2b-a47a-115547194c05\",\"type\":\"BasicTicker\"}},\"id\":\"6d3e835b-9c80-436f-b522-e73db8c730d4\",\"type\":\"Grid\"},{\"attributes\":{\"label\":{\"value\":\"CRD\"},\"renderers\":[{\"id\":\"049e14fb-fb44-44bd-8873-08b7c44eb859\",\"type\":\"GlyphRenderer\"},{\"id\":\"51dc6743-019e-4972-a2ac-4bb4faf9486f\",\"type\":\"GlyphRenderer\"}]},\"id\":\"b551484f-7f3d-4a54-9877-a44624f993ad\",\"type\":\"LegendItem\"},{\"attributes\":{\"source\":{\"id\":\"2ca49c2e-3767-4b36-ac22-d93611c64a62\",\"type\":\"ColumnDataSource\"}},\"id\":\"af49de6a-2730-4bc5-9bec-3af77b8b2d06\",\"type\":\"CDSView\"},{\"attributes\":{\"label\":{\"value\":\"CLIRAD - CRD\"},\"renderers\":[{\"id\":\"25e820d4-b83f-48df-a038-9110f7038a49\",\"type\":\"GlyphRenderer\"},{\"id\":\"de518596-4c4f-4345-bb88-6d970466edee\",\"type\":\"GlyphRenderer\"}]},\"id\":\"91be5e0d-0509-450c-b37a-54513d2a6ec7\",\"type\":\"LegendItem\"},{\"attributes\":{\"source\":{\"id\":\"2ee62762-c8f4-42c3-8cf0-d2b6511a3036\",\"type\":\"ColumnDataSource\"}},\"id\":\"a6c9ec6e-4d43-4021-8383-257cccf1b5b4\",\"type\":\"CDSView\"},{\"attributes\":{},\"id\":\"e711d6da-2fe8-43fd-9a07-85769a77b6fb\",\"type\":\"ResetTool\"},{\"attributes\":{\"items\":[{\"id\":\"b80d1441-3b09-4234-95e2-9fd81c458cca\",\"type\":\"LegendItem\"},{\"id\":\"b551484f-7f3d-4a54-9877-a44624f993ad\",\"type\":\"LegendItem\"}],\"label_text_font_size\":{\"value\":\"8pt\"},\"location\":\"top_center\",\"orientation\":\"horizontal\",\"plot\":{\"id\":\"61c8652c-c40a-4936-b8c8-45ad150fd621\",\"subtype\":\"Figure\",\"type\":\"Plot\"}},\"id\":\"5847b6bd-be65-49fa-a842-a02d2bf4124e\",\"type\":\"Legend\"},{\"attributes\":{\"data_source\":{\"id\":\"93f91333-e935-4619-bcd6-80abb7714cb7\",\"type\":\"ColumnDataSource\"},\"glyph\":{\"id\":\"06c1580f-d8cb-4f6a-9f5e-b967c0824d9e\",\"type\":\"Line\"},\"hover_glyph\":null,\"muted_glyph\":null,\"nonselection_glyph\":{\"id\":\"3219719b-5fe5-4447-87bd-302e399acf9b\",\"type\":\"Line\"},\"selection_glyph\":null,\"view\":{\"id\":\"049f25f4-26c9-40c5-bffe-fb495e8ebcc6\",\"type\":\"CDSView\"}},\"id\":\"51dc6743-019e-4972-a2ac-4bb4faf9486f\",\"type\":\"GlyphRenderer\"},{\"attributes\":{\"line_alpha\":0.1,\"line_color\":\"#1f77b4\",\"line_width\":1.5,\"x\":{\"field\":\"x\"},\"y\":{\"field\":\"y\"}},\"id\":\"a4ad4de4-92f4-4cfd-b2bf-60ce8a810fe3\",\"type\":\"Line\"},{\"attributes\":{\"source\":{\"id\":\"a6ac3045-b412-4772-8d62-97e44a762a99\",\"type\":\"ColumnDataSource\"}},\"id\":\"b9a2dde9-ba4a-43b6-b041-de159b502392\",\"type\":\"CDSView\"},{\"attributes\":{\"callback\":null,\"data\":{\"x\":{\"__ndarray__\":\"3XuSHRbItr9Zx+QZo5G2v0mqf6jlG7a/1ueQ8pijtb+WNwbrnyq1v2ghq6ISs7S/Am8M900+tL8OMvRItsyzv9LrUeOeYbO/GpuuC2X/sr9PruK6Tauyv94EaCbbarK/FNBOSmRGsr8E9SEAHCGyvwiDFDfMIrC/xCaIczq0pb+10Muxh7mKvyWcX5KflJY/gznfJ8VJsD+Yg0Xq4tu8P3rrsk5L4sU/qOE6Sk67zT9wUZi9jUnPPzRgmGWyLMo/ZZY1mCO3wz9SeFQlX0O6Pz7qAJ9XcLA/D/YeFZxNpD9Q5J/S7nuZP8E3Qy2qnpA/7CmDtBAuhj8+YEAc1Nh7P3/x1Li6iWk/fv68/RSBR79mv3iLasZ/vwT3j8cE45G/HhLx6Nxzmr/KwGRXGCqevwSX23545J2/NtSuXWgbnr/zaYCYpRmev+mtONdbw52/wFPi6X4Wnb+buPmfLBecv4GMqYl4ypq//K4c4p41mb++msSfL12Xvy4eVYICRZW/H5canObvkr/r8tHVYl+Qv5Sc6PoLK4u/8IFLN/Ekhb9+gal6A1l9v1iUcxmn926/PBv9296MJL84lCbRjnxuP+Bu5b73JIA/pBDQltZTiT//E3+7vJ6RP0S6FGEH8ZY/Ygjn8JxvnD+8RJweeb+gP7758b3dl6I//A+XuUyPoz+/35CP2wSkP95uOuOqm6Q/bYjdtnDSpT8YciNnjM+nPywvY4Scaao/37Bl4B1srT/A7MQDz1+wP0Y+3bDVNLI/idfo4XNDtD9qk4jFr6W2P4q5sN1Zlbk/\",\"dtype\":\"float64\",\"shape\":[75]},\"y\":{\"__ndarray__\":\"GhExyth1ND/Sv8nbtpRIP2vylNV0PVE/aTum7souWD/At0SJ8fVgPw3Iuahxymc/MSNhhJWvcD/bTfBN02d3P2zb5nxnaoA/CD5h5MAGhz8NmeH1TyaQP+zrCsc9p5Y/LbKd76fGnz/bLW5ISEmmPww9YvTcQq8/JV2OstnstT8Er5Y7M8G+P0c+r3jqkcU/5h99k6ZBzj88bCIzFzjVP4enV8oyxN0//yH99nXg5D8qOpLLf0jtP5kqGJXUifQ/c9cS8kHP/D+/DpwzojQEQIEmwoanVwxA4lgXt9HgE0BSSZ2AJuIbQAMJih9jjiNA5q4l5INuK0AwTKYKRj0zQNv5fmq8/DpAaCJseHrtQkB/+zpwzoxKQM3MzMzMeFJAZmZmZmZqWEAAAAAAAFxeQM3MzMzMJmJAmpmZmZkfZUBmZmZmZhhoQDMzMzMzEWtAAAAAAAAKbkBmZmZmZoFwQM3MzMzM/XFAMzMzMzN6c0CamZmZmfZ0QAAAAAAAc3ZAZmZmZmbvd0DNzMzMzGt5QDMzMzMz6HpAmpmZmZlkfEAAAAAAAOF9QGZmZmZmXX9AZmZmZuZsgECamZmZGSuBQM3MzMxM6YFAAAAAAICngkAzMzMzs2WDQGZmZmbmI4RAmpmZmRnihEDNzMzMTKCFQAAAAACAXoZAMzMzM7Mch0BmZmZm5tqHQJqZmZkZmYhAzczMzExXiUAAAAAAgBWKQDMzMzOz04pAZmZmZuaRi0CamZmZGVCMQM3MzMxMDo1AAAAAAIDMjUAzMzMzs4qOQGZmZmbmSI9A\",\"dtype\":\"float64\",\"shape\":[75]}},\"selected\":{\"id\":\"72c6ae71-fdd5-4e05-9f3d-cc67d5d7c1fd\",\"type\":\"Selection\"},\"selection_policy\":{\"id\":\"8a24bfd8-59fe-4a2d-9645-ebd3ce287baa\",\"type\":\"UnionRenderers\"}},\"id\":\"2f905110-7c81-40d3-a340-a519b330e917\",\"type\":\"ColumnDataSource\"},{\"attributes\":{\"line_alpha\":0.1,\"line_color\":\"#1f77b4\",\"line_width\":1.5,\"x\":{\"field\":\"x\"},\"y\":{\"field\":\"y\"}},\"id\":\"3219719b-5fe5-4447-87bd-302e399acf9b\",\"type\":\"Line\"},{\"attributes\":{\"above\":[{\"id\":\"5847b6bd-be65-49fa-a842-a02d2bf4124e\",\"type\":\"Legend\"}],\"below\":[{\"id\":\"6c9938dd-2fb3-41f5-8955-f81bb6101356\",\"type\":\"LinearAxis\"}],\"left\":[{\"id\":\"fe54b8b4-bd04-48a3-92af-841aa3f040b7\",\"type\":\"LogAxis\"}],\"plot_width\":300,\"renderers\":[{\"id\":\"6c9938dd-2fb3-41f5-8955-f81bb6101356\",\"type\":\"LinearAxis\"},{\"id\":\"d4ad5c0c-1a60-4d10-bc39-12e98e47bd3f\",\"type\":\"Grid\"},{\"id\":\"fe54b8b4-bd04-48a3-92af-841aa3f040b7\",\"type\":\"LogAxis\"},{\"id\":\"5eed226c-699f-4072-98bf-a0800a63dea3\",\"type\":\"Grid\"},{\"id\":\"dabcc167-972d-4721-8b6b-1b9c0d1436fc\",\"type\":\"BoxAnnotation\"},{\"id\":\"c83c798d-2e1e-43be-bbd4-e26770256df2\",\"type\":\"GlyphRenderer\"},{\"id\":\"049e14fb-fb44-44bd-8873-08b7c44eb859\",\"type\":\"GlyphRenderer\"},{\"id\":\"51dc6743-019e-4972-a2ac-4bb4faf9486f\",\"type\":\"GlyphRenderer\"},{\"id\":\"5847b6bd-be65-49fa-a842-a02d2bf4124e\",\"type\":\"Legend\"}],\"title\":{\"id\":\"12f7b586-12f8-4fdd-bad5-6eb0561d2164\",\"type\":\"Title\"},\"toolbar\":{\"id\":\"584d908a-0692-4fb2-a49e-f6c66142176e\",\"type\":\"Toolbar\"},\"toolbar_location\":null,\"x_range\":{\"id\":\"45fb116d-5b34-4627-b0ca-cbe2463bd6b5\",\"type\":\"Range1d\"},\"x_scale\":{\"id\":\"85e49399-5b90-4f9e-b14c-0dd00e13bdab\",\"type\":\"LinearScale\"},\"y_range\":{\"id\":\"bb03ad99-6c06-4d73-948f-0689f6148240\",\"type\":\"Range1d\"},\"y_scale\":{\"id\":\"27838342-002d-4e36-a0d9-6c9d75d778c0\",\"type\":\"LogScale\"}},\"id\":\"61c8652c-c40a-4936-b8c8-45ad150fd621\",\"subtype\":\"Figure\",\"type\":\"Plot\"},{\"attributes\":{},\"id\":\"91df5afc-ace2-49e1-b12d-0e91ebc480e8\",\"type\":\"LinearScale\"},{\"attributes\":{\"data_source\":{\"id\":\"b2a278e9-0bb3-4f0b-b354-f5c20acb5061\",\"type\":\"ColumnDataSource\"},\"glyph\":{\"id\":\"c362d84a-735f-490d-856b-91e667a592bf\",\"type\":\"Circle\"},\"hover_glyph\":null,\"muted_glyph\":null,\"nonselection_glyph\":{\"id\":\"d48a3c79-507a-42b8-81fe-4a4d90693270\",\"type\":\"Circle\"},\"selection_glyph\":null,\"view\":{\"id\":\"629a869f-bdd3-4718-8a04-44895087d5d9\",\"type\":\"CDSView\"}},\"id\":\"049e14fb-fb44-44bd-8873-08b7c44eb859\",\"type\":\"GlyphRenderer\"},{\"attributes\":{},\"id\":\"7402b201-9f7e-4a64-aff0-d0c859c84f58\",\"type\":\"Selection\"},{\"attributes\":{\"children\":[{\"id\":\"7e899fbc-ffec-4b91-a251-6947ec87e418\",\"subtype\":\"Figure\",\"type\":\"Plot\"},{\"id\":\"61c8652c-c40a-4936-b8c8-45ad150fd621\",\"subtype\":\"Figure\",\"type\":\"Plot\"},{\"id\":\"d6331158-b2ca-47d0-a34c-6fe1f205ce7e\",\"subtype\":\"Figure\",\"type\":\"Plot\"}]},\"id\":\"78c6ac03-e26c-4df4-b87f-da777a0f29c3\",\"type\":\"Row\"},{\"attributes\":{\"data_source\":{\"id\":\"a6ac3045-b412-4772-8d62-97e44a762a99\",\"type\":\"ColumnDataSource\"},\"glyph\":{\"id\":\"208c37a8-6de4-4748-a7fb-28d2bb453600\",\"type\":\"Line\"},\"hover_glyph\":null,\"muted_glyph\":null,\"nonselection_glyph\":{\"id\":\"6c5add44-8eef-42bc-a8f9-e7b4758f49db\",\"type\":\"Line\"},\"selection_glyph\":null,\"view\":{\"id\":\"b9a2dde9-ba4a-43b6-b041-de159b502392\",\"type\":\"CDSView\"}},\"id\":\"d1c90060-d8ce-4d58-9c54-80d04c75c459\",\"type\":\"GlyphRenderer\"},{\"attributes\":{\"data_source\":{\"id\":\"2ca49c2e-3767-4b36-ac22-d93611c64a62\",\"type\":\"ColumnDataSource\"},\"glyph\":{\"id\":\"89951fc4-692d-4837-8688-297ecc4bdec6\",\"type\":\"Line\"},\"hover_glyph\":null,\"muted_glyph\":null,\"nonselection_glyph\":{\"id\":\"a4ad4de4-92f4-4cfd-b2bf-60ce8a810fe3\",\"type\":\"Line\"},\"selection_glyph\":null,\"view\":{\"id\":\"af49de6a-2730-4bc5-9bec-3af77b8b2d06\",\"type\":\"CDSView\"}},\"id\":\"f20903d9-3578-430b-8baf-c141ac546935\",\"type\":\"GlyphRenderer\"},{\"attributes\":{\"fill_alpha\":{\"value\":0.7},\"fill_color\":{\"value\":\"#4daf4a\"},\"line_alpha\":{\"value\":0.7},\"line_color\":{\"value\":\"#4daf4a\"},\"x\":{\"field\":\"x\"},\"y\":{\"field\":\"y\"}},\"id\":\"3ca7acc2-4650-4735-a296-f7edaed0d33e\",\"type\":\"Circle\"},{\"attributes\":{\"line_color\":\"#4daf4a\",\"line_width\":1.5,\"x\":{\"field\":\"x\"},\"y\":{\"field\":\"y\"}},\"id\":\"06c1580f-d8cb-4f6a-9f5e-b967c0824d9e\",\"type\":\"Line\"},{\"attributes\":{\"callback\":null,\"data\":{\"x\":{\"__ndarray__\":\"3XuSHRbItr9Zx+QZo5G2v0mqf6jlG7a/1ueQ8pijtb+WNwbrnyq1v2ghq6ISs7S/Am8M900+tL8OMvRItsyzv9LrUeOeYbO/GpuuC2X/sr9PruK6Tauyv94EaCbbarK/FNBOSmRGsr8E9SEAHCGyvwiDFDfMIrC/xCaIczq0pb+10Muxh7mKvyWcX5KflJY/gznfJ8VJsD+Yg0Xq4tu8P3rrsk5L4sU/qOE6Sk67zT9wUZi9jUnPPzRgmGWyLMo/ZZY1mCO3wz9SeFQlX0O6Pz7qAJ9XcLA/D/YeFZxNpD9Q5J/S7nuZP8E3Qy2qnpA/7CmDtBAuhj8+YEAc1Nh7P3/x1Li6iWk/fv68/RSBR79mv3iLasZ/vwT3j8cE45G/HhLx6Nxzmr/KwGRXGCqevwSX23545J2/NtSuXWgbnr/zaYCYpRmev+mtONdbw52/wFPi6X4Wnb+buPmfLBecv4GMqYl4ypq//K4c4p41mb++msSfL12Xvy4eVYICRZW/H5canObvkr/r8tHVYl+Qv5Sc6PoLK4u/8IFLN/Ekhb9+gal6A1l9v1iUcxmn926/PBv9296MJL84lCbRjnxuP+Bu5b73JIA/pBDQltZTiT//E3+7vJ6RP0S6FGEH8ZY/Ygjn8JxvnD+8RJweeb+gP7758b3dl6I//A+XuUyPoz+/35CP2wSkP95uOuOqm6Q/bYjdtnDSpT8YciNnjM+nPywvY4Scaao/37Bl4B1srT/A7MQDz1+wP0Y+3bDVNLI/idfo4XNDtD9qk4jFr6W2P4q5sN1Zlbk/\",\"dtype\":\"float64\",\"shape\":[75]},\"y\":{\"__ndarray__\":\"GhExyth1ND/Sv8nbtpRIP2vylNV0PVE/aTum7souWD/At0SJ8fVgPw3Iuahxymc/MSNhhJWvcD/bTfBN02d3P2zb5nxnaoA/CD5h5MAGhz8NmeH1TyaQP+zrCsc9p5Y/LbKd76fGnz/bLW5ISEmmPww9YvTcQq8/JV2OstnstT8Er5Y7M8G+P0c+r3jqkcU/5h99k6ZBzj88bCIzFzjVP4enV8oyxN0//yH99nXg5D8qOpLLf0jtP5kqGJXUifQ/c9cS8kHP/D+/DpwzojQEQIEmwoanVwxA4lgXt9HgE0BSSZ2AJuIbQAMJih9jjiNA5q4l5INuK0AwTKYKRj0zQNv5fmq8/DpAaCJseHrtQkB/+zpwzoxKQM3MzMzMeFJAZmZmZmZqWEAAAAAAAFxeQM3MzMzMJmJAmpmZmZkfZUBmZmZmZhhoQDMzMzMzEWtAAAAAAAAKbkBmZmZmZoFwQM3MzMzM/XFAMzMzMzN6c0CamZmZmfZ0QAAAAAAAc3ZAZmZmZmbvd0DNzMzMzGt5QDMzMzMz6HpAmpmZmZlkfEAAAAAAAOF9QGZmZmZmXX9AZmZmZuZsgECamZmZGSuBQM3MzMxM6YFAAAAAAICngkAzMzMzs2WDQGZmZmbmI4RAmpmZmRnihEDNzMzMTKCFQAAAAACAXoZAMzMzM7Mch0BmZmZm5tqHQJqZmZkZmYhAzczMzExXiUAAAAAAgBWKQDMzMzOz04pAZmZmZuaRi0CamZmZGVCMQM3MzMxMDo1AAAAAAIDMjUAzMzMzs4qOQGZmZmbmSI9A\",\"dtype\":\"float64\",\"shape\":[75]}},\"selected\":{\"id\":\"47581ed3-1f77-438e-9348-01ca70fd445a\",\"type\":\"Selection\"},\"selection_policy\":{\"id\":\"004b2fbf-7b79-4d7a-8a22-631652bed9fb\",\"type\":\"UnionRenderers\"}},\"id\":\"2ca49c2e-3767-4b36-ac22-d93611c64a62\",\"type\":\"ColumnDataSource\"},{\"attributes\":{\"line_alpha\":0.1,\"line_color\":\"#1f77b4\",\"line_dash\":[6],\"line_width\":5,\"x\":{\"field\":\"x\"},\"y\":{\"field\":\"y\"}},\"id\":\"6d4c0cb6-3b86-4acd-83d1-ec00b0bb8d21\",\"type\":\"Line\"},{\"attributes\":{\"line_color\":\"#4daf4a\",\"line_width\":1.5,\"x\":{\"field\":\"x\"},\"y\":{\"field\":\"y\"}},\"id\":\"89951fc4-692d-4837-8688-297ecc4bdec6\",\"type\":\"Line\"},{\"attributes\":{},\"id\":\"72c6ae71-fdd5-4e05-9f3d-cc67d5d7c1fd\",\"type\":\"Selection\"},{\"attributes\":{\"active_drag\":\"auto\",\"active_inspect\":\"auto\",\"active_scroll\":\"auto\",\"active_tap\":\"auto\",\"tools\":[{\"id\":\"13851a3a-d8fd-424f-8537-87b37402127e\",\"type\":\"PanTool\"},{\"id\":\"c18f872a-b04e-48b1-990d-3a0692692f6f\",\"type\":\"WheelZoomTool\"},{\"id\":\"ecf538ed-f906-4a1e-beec-afd6d3822d6b\",\"type\":\"BoxZoomTool\"},{\"id\":\"b03212fe-e5a8-4e50-8401-9aa388bb17da\",\"type\":\"SaveTool\"},{\"id\":\"4e446ddf-c597-48c4-be07-60447bc4b748\",\"type\":\"ResetTool\"},{\"id\":\"1fc2c5c4-feb9-4b0b-afa0-04b4c96c2a5a\",\"type\":\"HelpTool\"}]},\"id\":\"584d908a-0692-4fb2-a49e-f6c66142176e\",\"type\":\"Toolbar\"},{\"attributes\":{},\"id\":\"bbb448c0-9602-427f-8052-747aadb60b8d\",\"type\":\"BasicTickFormatter\"},{\"attributes\":{},\"id\":\"20f4398e-7877-4fdc-92fc-15cd67dbc625\",\"type\":\"WheelZoomTool\"},{\"attributes\":{\"data_source\":{\"id\":\"2f905110-7c81-40d3-a340-a519b330e917\",\"type\":\"ColumnDataSource\"},\"glyph\":{\"id\":\"3ca7acc2-4650-4735-a296-f7edaed0d33e\",\"type\":\"Circle\"},\"hover_glyph\":null,\"muted_glyph\":null,\"nonselection_glyph\":{\"id\":\"aef99a2b-b0b2-466e-a389-170d6312924d\",\"type\":\"Circle\"},\"selection_glyph\":null,\"view\":{\"id\":\"84c19647-03a8-4bb6-b60e-63ccb75c1162\",\"type\":\"CDSView\"}},\"id\":\"934a714a-d589-42b9-9cc4-8a0bf6b31d4d\",\"type\":\"GlyphRenderer\"},{\"attributes\":{\"line_alpha\":0.6,\"line_color\":\"#e41a1c\",\"line_dash\":[6],\"line_width\":5,\"x\":{\"field\":\"x\"},\"y\":{\"field\":\"y\"}},\"id\":\"f1166c8e-7679-4e37-bf72-a56c38f9a3d4\",\"type\":\"Line\"},{\"attributes\":{\"label\":{\"value\":\"CLIRAD\"},\"renderers\":[{\"id\":\"d1c90060-d8ce-4d58-9c54-80d04c75c459\",\"type\":\"GlyphRenderer\"}]},\"id\":\"0ff7d050-e9fd-4978-9265-a6b75993c2fb\",\"type\":\"LegendItem\"},{\"attributes\":{\"data_source\":{\"id\":\"67b9ef8b-43a7-41de-832a-972f87afc828\",\"type\":\"ColumnDataSource\"},\"glyph\":{\"id\":\"f1166c8e-7679-4e37-bf72-a56c38f9a3d4\",\"type\":\"Line\"},\"hover_glyph\":null,\"muted_glyph\":null,\"nonselection_glyph\":{\"id\":\"6d4c0cb6-3b86-4acd-83d1-ec00b0bb8d21\",\"type\":\"Line\"},\"selection_glyph\":null,\"view\":{\"id\":\"3b323de3-e841-4abc-b6a3-f7d441817f82\",\"type\":\"CDSView\"}},\"id\":\"c83c798d-2e1e-43be-bbd4-e26770256df2\",\"type\":\"GlyphRenderer\"},{\"attributes\":{\"fill_alpha\":{\"value\":0.1},\"fill_color\":{\"value\":\"#1f77b4\"},\"line_alpha\":{\"value\":0.1},\"line_color\":{\"value\":\"#1f77b4\"},\"x\":{\"field\":\"x\"},\"y\":{\"field\":\"y\"}},\"id\":\"402d1225-d72e-4302-b41e-658e3f5357d3\",\"type\":\"Circle\"},{\"attributes\":{\"fill_alpha\":{\"value\":0.1},\"fill_color\":{\"value\":\"#1f77b4\"},\"line_alpha\":{\"value\":0.1},\"line_color\":{\"value\":\"#1f77b4\"},\"x\":{\"field\":\"x\"},\"y\":{\"field\":\"y\"}},\"id\":\"aef99a2b-b0b2-466e-a389-170d6312924d\",\"type\":\"Circle\"},{\"attributes\":{\"fill_alpha\":{\"value\":0.1},\"fill_color\":{\"value\":\"#1f77b4\"},\"line_alpha\":{\"value\":0.1},\"line_color\":{\"value\":\"#1f77b4\"},\"x\":{\"field\":\"x\"},\"y\":{\"field\":\"y\"}},\"id\":\"d48a3c79-507a-42b8-81fe-4a4d90693270\",\"type\":\"Circle\"},{\"attributes\":{\"above\":[{\"id\":\"81d65077-73e6-473b-b922-0e9150e0d8d5\",\"type\":\"Legend\"}],\"below\":[{\"id\":\"cba2824f-07d0-48d1-8fca-ebe62b732643\",\"type\":\"LinearAxis\"}],\"left\":[{\"id\":\"0e753d60-eb42-41c6-b8c3-11a7f1110ed4\",\"type\":\"LinearAxis\"}],\"plot_width\":300,\"renderers\":[{\"id\":\"cba2824f-07d0-48d1-8fca-ebe62b732643\",\"type\":\"LinearAxis\"},{\"id\":\"7c9f59f7-5fb0-4c6a-8abe-b9ceb7e5ae50\",\"type\":\"Grid\"},{\"id\":\"0e753d60-eb42-41c6-b8c3-11a7f1110ed4\",\"type\":\"LinearAxis\"},{\"id\":\"6d3e835b-9c80-436f-b522-e73db8c730d4\",\"type\":\"Grid\"},{\"id\":\"c88f9255-ad08-4351-94e5-8a869b60efe8\",\"type\":\"BoxAnnotation\"},{\"id\":\"d1c90060-d8ce-4d58-9c54-80d04c75c459\",\"type\":\"GlyphRenderer\"},{\"id\":\"934a714a-d589-42b9-9cc4-8a0bf6b31d4d\",\"type\":\"GlyphRenderer\"},{\"id\":\"f20903d9-3578-430b-8baf-c141ac546935\",\"type\":\"GlyphRenderer\"},{\"id\":\"81d65077-73e6-473b-b922-0e9150e0d8d5\",\"type\":\"Legend\"}],\"title\":{\"id\":\"7a84e0f1-5834-4877-ac8f-99f4b72e1bac\",\"type\":\"Title\"},\"toolbar\":{\"id\":\"406c1c26-c7f8-42f1-b3d6-c6d12bf32930\",\"type\":\"Toolbar\"},\"toolbar_location\":null,\"x_range\":{\"id\":\"6ed711f1-af8f-4b75-aa46-d661006989b4\",\"type\":\"Range1d\"},\"x_scale\":{\"id\":\"91df5afc-ace2-49e1-b12d-0e91ebc480e8\",\"type\":\"LinearScale\"},\"y_range\":{\"id\":\"aaa205da-f200-4128-bb92-90a8bb876dc5\",\"type\":\"Range1d\"},\"y_scale\":{\"id\":\"7f738ac3-ef49-4d7b-95f2-2dbec5de7a54\",\"type\":\"LinearScale\"}},\"id\":\"7e899fbc-ffec-4b91-a251-6947ec87e418\",\"subtype\":\"Figure\",\"type\":\"Plot\"},{\"attributes\":{\"label\":{\"value\":\"CRD\"},\"renderers\":[{\"id\":\"934a714a-d589-42b9-9cc4-8a0bf6b31d4d\",\"type\":\"GlyphRenderer\"},{\"id\":\"f20903d9-3578-430b-8baf-c141ac546935\",\"type\":\"GlyphRenderer\"}]},\"id\":\"80f675c6-ae81-43a0-acb0-88e9e43934a7\",\"type\":\"LegendItem\"},{\"attributes\":{},\"id\":\"85e49399-5b90-4f9e-b14c-0dd00e13bdab\",\"type\":\"LinearScale\"},{\"attributes\":{\"callback\":null,\"data\":{\"x\":{\"__ndarray__\":\"3XuSHRbItr9Zx+QZo5G2v0mqf6jlG7a/1ueQ8pijtb+WNwbrnyq1v2ghq6ISs7S/Am8M900+tL8OMvRItsyzv9LrUeOeYbO/GpuuC2X/sr9PruK6Tauyv94EaCbbarK/FNBOSmRGsr8E9SEAHCGyvwiDFDfMIrC/xCaIczq0pb+10Muxh7mKvyWcX5KflJY/gznfJ8VJsD+Yg0Xq4tu8P3rrsk5L4sU/qOE6Sk67zT9wUZi9jUnPPzRgmGWyLMo/ZZY1mCO3wz9SeFQlX0O6Pz7qAJ9XcLA/D/YeFZxNpD9Q5J/S7nuZP8E3Qy2qnpA/7CmDtBAuhj8+YEAc1Nh7P3/x1Li6iWk/fv68/RSBR79mv3iLasZ/vwT3j8cE45G/HhLx6Nxzmr/KwGRXGCqevwSX23545J2/NtSuXWgbnr/zaYCYpRmev+mtONdbw52/wFPi6X4Wnb+buPmfLBecv4GMqYl4ypq//K4c4p41mb++msSfL12Xvy4eVYICRZW/H5canObvkr/r8tHVYl+Qv5Sc6PoLK4u/8IFLN/Ekhb9+gal6A1l9v1iUcxmn926/PBv9296MJL84lCbRjnxuP+Bu5b73JIA/pBDQltZTiT//E3+7vJ6RP0S6FGEH8ZY/Ygjn8JxvnD+8RJweeb+gP7758b3dl6I//A+XuUyPoz+/35CP2wSkP95uOuOqm6Q/bYjdtnDSpT8YciNnjM+nPywvY4Scaao/37Bl4B1srT/A7MQDz1+wP0Y+3bDVNLI/idfo4XNDtD9qk4jFr6W2P4q5sN1Zlbk/\",\"dtype\":\"float64\",\"shape\":[75]},\"y\":{\"__ndarray__\":\"GhExyth1ND/Sv8nbtpRIP2vylNV0PVE/aTum7souWD/At0SJ8fVgPw3Iuahxymc/MSNhhJWvcD/bTfBN02d3P2zb5nxnaoA/CD5h5MAGhz8NmeH1TyaQP+zrCsc9p5Y/LbKd76fGnz/bLW5ISEmmPww9YvTcQq8/JV2OstnstT8Er5Y7M8G+P0c+r3jqkcU/5h99k6ZBzj88bCIzFzjVP4enV8oyxN0//yH99nXg5D8qOpLLf0jtP5kqGJXUifQ/c9cS8kHP/D+/DpwzojQEQIEmwoanVwxA4lgXt9HgE0BSSZ2AJuIbQAMJih9jjiNA5q4l5INuK0AwTKYKRj0zQNv5fmq8/DpAaCJseHrtQkB/+zpwzoxKQM3MzMzMeFJAZmZmZmZqWEAAAAAAAFxeQM3MzMzMJmJAmpmZmZkfZUBmZmZmZhhoQDMzMzMzEWtAAAAAAAAKbkBmZmZmZoFwQM3MzMzM/XFAMzMzMzN6c0CamZmZmfZ0QAAAAAAAc3ZAZmZmZmbvd0DNzMzMzGt5QDMzMzMz6HpAmpmZmZlkfEAAAAAAAOF9QGZmZmZmXX9AZmZmZuZsgECamZmZGSuBQM3MzMxM6YFAAAAAAICngkAzMzMzs2WDQGZmZmbmI4RAmpmZmRnihEDNzMzMTKCFQAAAAACAXoZAMzMzM7Mch0BmZmZm5tqHQJqZmZkZmYhAzczMzExXiUAAAAAAgBWKQDMzMzOz04pAZmZmZuaRi0CamZmZGVCMQM3MzMxMDo1AAAAAAIDMjUAzMzMzs4qOQGZmZmbmSI9A\",\"dtype\":\"float64\",\"shape\":[75]}},\"selected\":{\"id\":\"7402b201-9f7e-4a64-aff0-d0c859c84f58\",\"type\":\"Selection\"},\"selection_policy\":{\"id\":\"02da78c4-95a0-4c6b-b9c8-6e006ace2426\",\"type\":\"UnionRenderers\"}},\"id\":\"b2a278e9-0bb3-4f0b-b354-f5c20acb5061\",\"type\":\"ColumnDataSource\"},{\"attributes\":{\"above\":[{\"id\":\"fbba9b57-3852-4ab0-89e4-ddb1455eeb84\",\"type\":\"Legend\"}],\"below\":[{\"id\":\"0ec0ce97-e387-4c59-b110-0949ba8e4e5c\",\"type\":\"LinearAxis\"}],\"left\":[{\"id\":\"7e4c3bb2-1ad2-4750-99cd-609f0292df61\",\"type\":\"LogAxis\"}],\"plot_width\":300,\"renderers\":[{\"id\":\"0ec0ce97-e387-4c59-b110-0949ba8e4e5c\",\"type\":\"LinearAxis\"},{\"id\":\"afc3c1b3-97e2-4326-97c1-7388bfb2d840\",\"type\":\"Grid\"},{\"id\":\"7e4c3bb2-1ad2-4750-99cd-609f0292df61\",\"type\":\"LogAxis\"},{\"id\":\"4da383c9-49bf-4a15-94c6-045577cc3d9c\",\"type\":\"Grid\"},{\"id\":\"b679f3e3-ecfc-4df6-9cc3-54fc35c4c919\",\"type\":\"BoxAnnotation\"},{\"id\":\"25e820d4-b83f-48df-a038-9110f7038a49\",\"type\":\"GlyphRenderer\"},{\"id\":\"de518596-4c4f-4345-bb88-6d970466edee\",\"type\":\"GlyphRenderer\"},{\"id\":\"fbba9b57-3852-4ab0-89e4-ddb1455eeb84\",\"type\":\"Legend\"}],\"title\":{\"id\":\"0f27e9d0-a372-4c4c-a285-f1c58d88f4d5\",\"type\":\"Title\"},\"toolbar\":{\"id\":\"75659d92-2d97-4355-9de4-3b24d2539279\",\"type\":\"Toolbar\"},\"toolbar_location\":null,\"x_range\":{\"id\":\"02b5b585-819d-4851-9236-5a0ec7619060\",\"type\":\"Range1d\"},\"x_scale\":{\"id\":\"5f2eca28-adfa-4bdc-8c3c-e40331a82d09\",\"type\":\"LinearScale\"},\"y_range\":{\"id\":\"757c763d-c145-47a5-beaa-a400ab672e23\",\"type\":\"Range1d\"},\"y_scale\":{\"id\":\"2f6da599-950d-4d04-afce-4688153c1638\",\"type\":\"LogScale\"}},\"id\":\"d6331158-b2ca-47d0-a34c-6fe1f205ce7e\",\"subtype\":\"Figure\",\"type\":\"Plot\"},{\"attributes\":{\"source\":{\"id\":\"b2a278e9-0bb3-4f0b-b354-f5c20acb5061\",\"type\":\"ColumnDataSource\"}},\"id\":\"629a869f-bdd3-4718-8a04-44895087d5d9\",\"type\":\"CDSView\"},{\"attributes\":{\"plot\":{\"id\":\"61c8652c-c40a-4936-b8c8-45ad150fd621\",\"subtype\":\"Figure\",\"type\":\"Plot\"},\"ticker\":{\"id\":\"4b75b213-1cc6-423e-98fa-928fc2b48a29\",\"type\":\"BasicTicker\"}},\"id\":\"d4ad5c0c-1a60-4d10-bc39-12e98e47bd3f\",\"type\":\"Grid\"},{\"attributes\":{\"plot\":null,\"text\":\"\"},\"id\":\"7a84e0f1-5834-4877-ac8f-99f4b72e1bac\",\"type\":\"Title\"},{\"attributes\":{},\"id\":\"27838342-002d-4e36-a0d9-6c9d75d778c0\",\"type\":\"LogScale\"},{\"attributes\":{},\"id\":\"686cc996-08c5-4853-b3c2-a57ca77b5d62\",\"type\":\"HelpTool\"},{\"attributes\":{\"axis_label\":\"cooling rate [K/day]\",\"formatter\":{\"id\":\"551c5447-ce1d-4547-947c-a94228931ac5\",\"type\":\"BasicTickFormatter\"},\"plot\":{\"id\":\"61c8652c-c40a-4936-b8c8-45ad150fd621\",\"subtype\":\"Figure\",\"type\":\"Plot\"},\"ticker\":{\"id\":\"4b75b213-1cc6-423e-98fa-928fc2b48a29\",\"type\":\"BasicTicker\"}},\"id\":\"6c9938dd-2fb3-41f5-8955-f81bb6101356\",\"type\":\"LinearAxis\"},{\"attributes\":{},\"id\":\"4b75b213-1cc6-423e-98fa-928fc2b48a29\",\"type\":\"BasicTicker\"},{\"attributes\":{\"line_alpha\":0.8,\"line_color\":\"#984ea3\",\"line_width\":1.5,\"x\":{\"field\":\"x\"},\"y\":{\"field\":\"y\"}},\"id\":\"b4282936-e039-4443-bc6e-7d43538aad5a\",\"type\":\"Line\"},{\"attributes\":{\"axis_label\":\"pressure [mb]\",\"formatter\":{\"id\":\"74f875a1-ec27-48a3-acc7-19709cf2782e\",\"type\":\"LogTickFormatter\"},\"plot\":{\"id\":\"61c8652c-c40a-4936-b8c8-45ad150fd621\",\"subtype\":\"Figure\",\"type\":\"Plot\"},\"ticker\":{\"id\":\"e4121457-1cac-4830-9492-95c0111c4e85\",\"type\":\"LogTicker\"}},\"id\":\"fe54b8b4-bd04-48a3-92af-841aa3f040b7\",\"type\":\"LogAxis\"},{\"attributes\":{},\"id\":\"551c5447-ce1d-4547-947c-a94228931ac5\",\"type\":\"BasicTickFormatter\"},{\"attributes\":{\"num_minor_ticks\":10},\"id\":\"e4121457-1cac-4830-9492-95c0111c4e85\",\"type\":\"LogTicker\"},{\"attributes\":{\"callback\":null,\"end\":0.1012675903384165,\"start\":-0.03463969218006719},\"id\":\"6ed711f1-af8f-4b75-aa46-d661006989b4\",\"type\":\"Range1d\"},{\"attributes\":{\"dimension\":1,\"plot\":{\"id\":\"61c8652c-c40a-4936-b8c8-45ad150fd621\",\"subtype\":\"Figure\",\"type\":\"Plot\"},\"ticker\":{\"id\":\"e4121457-1cac-4830-9492-95c0111c4e85\",\"type\":\"LogTicker\"}},\"id\":\"5eed226c-699f-4072-98bf-a0800a63dea3\",\"type\":\"Grid\"},{\"attributes\":{\"ticker\":null},\"id\":\"2425b706-c9ec-495d-9c1b-5bbc799fec37\",\"type\":\"LogTickFormatter\"},{\"attributes\":{\"source\":{\"id\":\"93f91333-e935-4619-bcd6-80abb7714cb7\",\"type\":\"ColumnDataSource\"}},\"id\":\"049f25f4-26c9-40c5-bffe-fb495e8ebcc6\",\"type\":\"CDSView\"},{\"attributes\":{},\"id\":\"69eec298-58a4-4a99-8394-f6bc73f304fa\",\"type\":\"UnionRenderers\"},{\"attributes\":{\"data_source\":{\"id\":\"2ee62762-c8f4-42c3-8cf0-d2b6511a3036\",\"type\":\"ColumnDataSource\"},\"glyph\":{\"id\":\"b4282936-e039-4443-bc6e-7d43538aad5a\",\"type\":\"Line\"},\"hover_glyph\":null,\"muted_glyph\":null,\"nonselection_glyph\":{\"id\":\"743241e4-09e2-47be-a1f2-6f6a33660cf9\",\"type\":\"Line\"},\"selection_glyph\":null,\"view\":{\"id\":\"a6c9ec6e-4d43-4021-8383-257cccf1b5b4\",\"type\":\"CDSView\"}},\"id\":\"de518596-4c4f-4345-bb88-6d970466edee\",\"type\":\"GlyphRenderer\"},{\"attributes\":{},\"id\":\"cd0fc8c5-4779-4989-b5bf-7fe5b8261e83\",\"type\":\"Selection\"},{\"attributes\":{\"bottom_units\":\"screen\",\"fill_alpha\":{\"value\":0.5},\"fill_color\":{\"value\":\"lightgrey\"},\"left_units\":\"screen\",\"level\":\"overlay\",\"line_alpha\":{\"value\":1.0},\"line_color\":{\"value\":\"black\"},\"line_dash\":[4,4],\"line_width\":{\"value\":2},\"plot\":null,\"render_mode\":\"css\",\"right_units\":\"screen\",\"top_units\":\"screen\"},\"id\":\"dabcc167-972d-4721-8b6b-1b9c0d1436fc\",\"type\":\"BoxAnnotation\"},{\"attributes\":{},\"id\":\"7f738ac3-ef49-4d7b-95f2-2dbec5de7a54\",\"type\":\"LinearScale\"},{\"attributes\":{},\"id\":\"13851a3a-d8fd-424f-8537-87b37402127e\",\"type\":\"PanTool\"},{\"attributes\":{},\"id\":\"4bb607dd-bdce-4b2b-a47a-115547194c05\",\"type\":\"BasicTicker\"},{\"attributes\":{},\"id\":\"6e0eed3e-336c-4a3e-8b8d-c62ce0291b4c\",\"type\":\"Selection\"},{\"attributes\":{\"source\":{\"id\":\"f507d797-ed5f-47a0-846d-e385744e5d1c\",\"type\":\"ColumnDataSource\"}},\"id\":\"b574eb24-06da-43f3-a4b6-63b648985731\",\"type\":\"CDSView\"},{\"attributes\":{},\"id\":\"c18f872a-b04e-48b1-990d-3a0692692f6f\",\"type\":\"WheelZoomTool\"},{\"attributes\":{\"line_alpha\":0.1,\"line_color\":\"#1f77b4\",\"line_width\":1.5,\"x\":{\"field\":\"x\"},\"y\":{\"field\":\"y\"}},\"id\":\"743241e4-09e2-47be-a1f2-6f6a33660cf9\",\"type\":\"Line\"},{\"attributes\":{\"overlay\":{\"id\":\"dabcc167-972d-4721-8b6b-1b9c0d1436fc\",\"type\":\"BoxAnnotation\"}},\"id\":\"ecf538ed-f906-4a1e-beec-afd6d3822d6b\",\"type\":\"BoxZoomTool\"},{\"attributes\":{},\"id\":\"ea193ccb-72fc-4791-ae97-04bea3721a56\",\"type\":\"SaveTool\"},{\"attributes\":{\"callback\":null,\"data\":{\"x\":{\"__ndarray__\":\"WBkoUXjOoz8KBHv4pKajP6UHm8DIWaM/LS2Qkc0Eoz/ltChlsrWiP6mJDuZOZ6I/xpghedomoj+K8dm7uO2hP8Jhj6fqwKE/hq4UZ+SqoT/pTTgAiq2hP430Clo03KE/hZqLObQ6oj/clSv2ds+iP2nr8YzHVqI/kszOyD7Nnz8ymoMKiPWYPzGW2mxbfZE/wBckUtrogj8Apf1JW+BLP4C6etttk4G/8AkTJaXJkr+AeSSYSViMvwDQcuoU9WM/oMfmsurWjz/8oNOYtbmWP3yFGpJOtZQ/IOy58ZMPij/4UkyZLNJyP+B/ssnkS02/kBcCGzjpY78AhoWCLclVv0BFNiIkwzQ/WE1GWYKVTD+AKySHqWANP7AIc1htQFy/QIhPLWdear+Axdtckolvv0jE4NbnrnC/gGDBD2TDbr+ol9OJ9yhrv1i90Ko2Ami/GMOFBNi8ZL8AsVD+/Uhiv5CuC9KbcGC/oAfoBXJlXb9Qko34L79cv9BhHpzJ41u/IM8i/7/2W79gxyzMWddcvwiozOEbiV6/YL4/gjuAYL+kXTAnzQdhv0oNsot3PmK/DforH66RYr9qG8O/r2Fjv5wctUAGZGO/oGVJbgC+Y788veawVkhkv4DZ2wUBNGW/4H+L3kGdZr+4VvpX9idov8An3/dl7Gi/oEqISgcRZ7+gRIIRSktkvxBTbc3cl2G/IO3HDKUNX78gyzA/TtBav4ABHHg+zle/QHnB1XFkVL+AeMHnVCBNv4DMtk+e5ES/gKTP5u/gQr8A4/1xKGdLv6Bz5Esf72K/\",\"dtype\":\"float64\",\"shape\":[75]},\"y\":{\"__ndarray__\":\"GhExyth1ND/Sv8nbtpRIP2vylNV0PVE/aTum7souWD/At0SJ8fVgPw3Iuahxymc/MSNhhJWvcD/bTfBN02d3P2zb5nxnaoA/CD5h5MAGhz8NmeH1TyaQP+zrCsc9p5Y/LbKd76fGnz/bLW5ISEmmPww9YvTcQq8/JV2OstnstT8Er5Y7M8G+P0c+r3jqkcU/5h99k6ZBzj88bCIzFzjVP4enV8oyxN0//yH99nXg5D8qOpLLf0jtP5kqGJXUifQ/c9cS8kHP/D+/DpwzojQEQIEmwoanVwxA4lgXt9HgE0BSSZ2AJuIbQAMJih9jjiNA5q4l5INuK0AwTKYKRj0zQNv5fmq8/DpAaCJseHrtQkB/+zpwzoxKQM3MzMzMeFJAZmZmZmZqWEAAAAAAAFxeQM3MzMzMJmJAmpmZmZkfZUBmZmZmZhhoQDMzMzMzEWtAAAAAAAAKbkBmZmZmZoFwQM3MzMzM/XFAMzMzMzN6c0CamZmZmfZ0QAAAAAAAc3ZAZmZmZmbvd0DNzMzMzGt5QDMzMzMz6HpAmpmZmZlkfEAAAAAAAOF9QGZmZmZmXX9AZmZmZuZsgECamZmZGSuBQM3MzMxM6YFAAAAAAICngkAzMzMzs2WDQGZmZmbmI4RAmpmZmRnihEDNzMzMTKCFQAAAAACAXoZAMzMzM7Mch0BmZmZm5tqHQJqZmZkZmYhAzczMzExXiUAAAAAAgBWKQDMzMzOz04pAZmZmZuaRi0CamZmZGVCMQM3MzMxMDo1AAAAAAIDMjUAzMzMzs4qOQGZmZmbmSI9A\",\"dtype\":\"float64\",\"shape\":[75]}},\"selected\":{\"id\":\"9fe674fe-9209-49fd-8e42-6a2b325df351\",\"type\":\"Selection\"},\"selection_policy\":{\"id\":\"3530225b-4433-4d5e-afb6-bb54fe9edb10\",\"type\":\"UnionRenderers\"}},\"id\":\"2ee62762-c8f4-42c3-8cf0-d2b6511a3036\",\"type\":\"ColumnDataSource\"},{\"attributes\":{},\"id\":\"b03212fe-e5a8-4e50-8401-9aa388bb17da\",\"type\":\"SaveTool\"},{\"attributes\":{},\"id\":\"8a24bfd8-59fe-4a2d-9645-ebd3ce287baa\",\"type\":\"UnionRenderers\"},{\"attributes\":{},\"id\":\"4e446ddf-c597-48c4-be07-60447bc4b748\",\"type\":\"ResetTool\"},{\"attributes\":{},\"id\":\"c16240b1-9d7f-4715-b5a4-efa15eacf592\",\"type\":\"BasicTickFormatter\"},{\"attributes\":{},\"id\":\"1fc2c5c4-feb9-4b0b-afa0-04b4c96c2a5a\",\"type\":\"HelpTool\"},{\"attributes\":{\"ticker\":null},\"id\":\"74f875a1-ec27-48a3-acc7-19709cf2782e\",\"type\":\"LogTickFormatter\"},{\"attributes\":{},\"id\":\"004b2fbf-7b79-4d7a-8a22-631652bed9fb\",\"type\":\"UnionRenderers\"},{\"attributes\":{\"children\":[{\"id\":\"46c4456b-177a-4d9a-beeb-8a074f00df68\",\"type\":\"ToolbarBox\"},{\"id\":\"73ef9baf-79de-4f5d-9440-7f7c628609ad\",\"type\":\"Column\"}]},\"id\":\"fe024d4b-dadb-40fd-bb87-2b1b26b8ac65\",\"type\":\"Column\"},{\"attributes\":{\"plot\":{\"id\":\"7e899fbc-ffec-4b91-a251-6947ec87e418\",\"subtype\":\"Figure\",\"type\":\"Plot\"},\"ticker\":{\"id\":\"269c6225-bbd4-4358-a90d-c73473147bf2\",\"type\":\"BasicTicker\"}},\"id\":\"7c9f59f7-5fb0-4c6a-8abe-b9ceb7e5ae50\",\"type\":\"Grid\"},{\"attributes\":{},\"id\":\"47581ed3-1f77-438e-9348-01ca70fd445a\",\"type\":\"Selection\"},{\"attributes\":{\"bottom_units\":\"screen\",\"fill_alpha\":{\"value\":0.5},\"fill_color\":{\"value\":\"lightgrey\"},\"left_units\":\"screen\",\"level\":\"overlay\",\"line_alpha\":{\"value\":1.0},\"line_color\":{\"value\":\"black\"},\"line_dash\":[4,4],\"line_width\":{\"value\":2},\"plot\":null,\"render_mode\":\"css\",\"right_units\":\"screen\",\"top_units\":\"screen\"},\"id\":\"b679f3e3-ecfc-4df6-9cc3-54fc35c4c919\",\"type\":\"BoxAnnotation\"},{\"attributes\":{},\"id\":\"3530225b-4433-4d5e-afb6-bb54fe9edb10\",\"type\":\"UnionRenderers\"},{\"attributes\":{\"plot\":null,\"text\":\"\"},\"id\":\"12f7b586-12f8-4fdd-bad5-6eb0561d2164\",\"type\":\"Title\"},{\"attributes\":{\"callback\":null,\"end\":0.24761859694,\"start\":-0.07739593094000001},\"id\":\"45fb116d-5b34-4627-b0ca-cbe2463bd6b5\",\"type\":\"Range1d\"},{\"attributes\":{},\"id\":\"7f3ca1e3-c1b3-4fcd-a351-a82540b4017d\",\"type\":\"UnionRenderers\"},{\"attributes\":{\"overlay\":{\"id\":\"c88f9255-ad08-4351-94e5-8a869b60efe8\",\"type\":\"BoxAnnotation\"}},\"id\":\"ed7f4009-afa2-4005-aa20-ba8f448f24a6\",\"type\":\"BoxZoomTool\"},{\"attributes\":{},\"id\":\"9fe674fe-9209-49fd-8e42-6a2b325df351\",\"type\":\"Selection\"},{\"attributes\":{\"toolbar\":{\"id\":\"399cbe2d-2fe6-44c7-8574-11a9794ea7da\",\"type\":\"ProxyToolbar\"},\"toolbar_location\":\"above\"},\"id\":\"46c4456b-177a-4d9a-beeb-8a074f00df68\",\"type\":\"ToolbarBox\"},{\"attributes\":{},\"id\":\"269c6225-bbd4-4358-a90d-c73473147bf2\",\"type\":\"BasicTicker\"},{\"attributes\":{},\"id\":\"3c0156e9-e3a0-4384-824e-bc40dae89e3e\",\"type\":\"BasicTickFormatter\"},{\"attributes\":{\"plot\":null,\"text\":\"\"},\"id\":\"0f27e9d0-a372-4c4c-a285-f1c58d88f4d5\",\"type\":\"Title\"},{\"attributes\":{\"callback\":null,\"data\":{\"x\":{\"__ndarray__\":\"YZjQ9MzNqb9TMuSW1Jupv8L0sGG13qi/mfYQyKBCqL87HW9Dkp+nv3u6mcv2/qa/mSWQwMtVpr8w43GHuKulv4lCqbBcAqW/UGvSGOdTpL/1wk84F6mjvyBkOieE+aK/9uWNm4ZSor8TgR9lZnahvzqlrBsf5Zu/zg2z5PI6h7+ZY6hdszCHP7YnGEXaCKQ/8j7EZ9Omsj9POfrOmRO9PzYIDKsZycQ/Q8i1wkBiyz/KlavBJYTNPyOnRISOfMo/Q7Tcn5a0xT8ysPZ3zfG/P8AtcbGqnbU/kS2eRoDRqj+EfAzkeDCePyHuEoWUaI8/MK60mMEzgT/YqiYvh2Z2P5g7ZcAeImw/8C18MIRSJD9awcTGpYt/v8XcUpoNp5O/HILrAK6/nb9qsDJ0pg2hvzJ4kQoZCKG/sYtmRur5oL8eO4QiYr+gvz6AhjnRYaC/WIxSuRmun794FJs1TGCevzmVSd+L2Jy/2GNM4vULm7/mTyuDIimZv9b38AI/A5e/TkzGhVKvlL8AlKBe2CySv9ovE1Mv/I6/95rz9/9Eib/s7HzpdO6CvwCeJh8Pm3i/XAewqnvaY79z2kvOvjVWPyZfiYbsl3Y/zuLhjlZkhD+pDtbfYyuOP0QTk06HSpQ/tBTqy/SbmT8psEKU83meP6uUO3AXCaE/+USnUDweoj9PjaXwJsCiP3PDdBEtgqM/hj8WhwPapD8p8FLwCfmmP1KovY4qq6k/SqdmUfrIrD9nS4hajiWwP8iX5XQMC7I/oAKPArIdtD/qxmt14W62P54PaALh/bg/\",\"dtype\":\"float64\",\"shape\":[75]},\"y\":{\"__ndarray__\":\"GhExyth1ND/Sv8nbtpRIP2vylNV0PVE/aTum7souWD/At0SJ8fVgPw3Iuahxymc/MSNhhJWvcD/bTfBN02d3P2zb5nxnaoA/CD5h5MAGhz8NmeH1TyaQP+zrCsc9p5Y/LbKd76fGnz/bLW5ISEmmPww9YvTcQq8/JV2OstnstT8Er5Y7M8G+P0c+r3jqkcU/5h99k6ZBzj88bCIzFzjVP4enV8oyxN0//yH99nXg5D8qOpLLf0jtP5kqGJXUifQ/c9cS8kHP/D+/DpwzojQEQIEmwoanVwxA4lgXt9HgE0BSSZ2AJuIbQAMJih9jjiNA5q4l5INuK0AwTKYKRj0zQNv5fmq8/DpAaCJseHrtQkB/+zpwzoxKQM3MzMzMeFJAZmZmZmZqWEAAAAAAAFxeQM3MzMzMJmJAmpmZmZkfZUBmZmZmZhhoQDMzMzMzEWtAAAAAAAAKbkBmZmZmZoFwQM3MzMzM/XFAMzMzMzN6c0CamZmZmfZ0QAAAAAAAc3ZAZmZmZmbvd0DNzMzMzGt5QDMzMzMz6HpAmpmZmZlkfEAAAAAAAOF9QGZmZmZmXX9AZmZmZuZsgECamZmZGSuBQM3MzMxM6YFAAAAAAICngkAzMzMzs2WDQGZmZmbmI4RAmpmZmRnihEDNzMzMTKCFQAAAAACAXoZAMzMzM7Mch0BmZmZm5tqHQJqZmZkZmYhAzczMzExXiUAAAAAAgBWKQDMzMzOz04pAZmZmZuaRi0CamZmZGVCMQM3MzMxMDo1AAAAAAIDMjUAzMzMzs4qOQGZmZmbmSI9A\",\"dtype\":\"float64\",\"shape\":[75]}},\"selected\":{\"id\":\"99c783aa-f7b2-4b19-a876-81ecc4d84a3f\",\"type\":\"Selection\"},\"selection_policy\":{\"id\":\"69eec298-58a4-4a99-8394-f6bc73f304fa\",\"type\":\"UnionRenderers\"}},\"id\":\"67b9ef8b-43a7-41de-832a-972f87afc828\",\"type\":\"ColumnDataSource\"},{\"attributes\":{},\"id\":\"02da78c4-95a0-4c6b-b9c8-6e006ace2426\",\"type\":\"UnionRenderers\"},{\"attributes\":{},\"id\":\"ca2621f6-988b-435c-84a6-0d7637f562dc\",\"type\":\"UnionRenderers\"},{\"attributes\":{},\"id\":\"a014cb8e-372d-4551-9b09-7de92b50e486\",\"type\":\"Selection\"},{\"attributes\":{\"callback\":null,\"end\":0.01,\"start\":1020},\"id\":\"bb03ad99-6c06-4d73-948f-0689f6148240\",\"type\":\"Range1d\"},{\"attributes\":{\"tools\":[{\"id\":\"d5636837-73d9-4fff-bbed-a9783dc47fcf\",\"type\":\"PanTool\"},{\"id\":\"20f4398e-7877-4fdc-92fc-15cd67dbc625\",\"type\":\"WheelZoomTool\"},{\"id\":\"ed7f4009-afa2-4005-aa20-ba8f448f24a6\",\"type\":\"BoxZoomTool\"},{\"id\":\"ea193ccb-72fc-4791-ae97-04bea3721a56\",\"type\":\"SaveTool\"},{\"id\":\"e711d6da-2fe8-43fd-9a07-85769a77b6fb\",\"type\":\"ResetTool\"},{\"id\":\"686cc996-08c5-4853-b3c2-a57ca77b5d62\",\"type\":\"HelpTool\"},{\"id\":\"13851a3a-d8fd-424f-8537-87b37402127e\",\"type\":\"PanTool\"},{\"id\":\"c18f872a-b04e-48b1-990d-3a0692692f6f\",\"type\":\"WheelZoomTool\"},{\"id\":\"ecf538ed-f906-4a1e-beec-afd6d3822d6b\",\"type\":\"BoxZoomTool\"},{\"id\":\"b03212fe-e5a8-4e50-8401-9aa388bb17da\",\"type\":\"SaveTool\"},{\"id\":\"4e446ddf-c597-48c4-be07-60447bc4b748\",\"type\":\"ResetTool\"},{\"id\":\"1fc2c5c4-feb9-4b0b-afa0-04b4c96c2a5a\",\"type\":\"HelpTool\"},{\"id\":\"ac328cba-80c0-4112-80f4-a95ad553766e\",\"type\":\"PanTool\"},{\"id\":\"f81fed5d-b11e-443c-bd9f-b49ce6cf9dc7\",\"type\":\"WheelZoomTool\"},{\"id\":\"a2101e85-83bb-4393-afc1-1ae354f3620f\",\"type\":\"BoxZoomTool\"},{\"id\":\"8da915f3-4b42-4c75-97ee-ed797ffd9800\",\"type\":\"SaveTool\"},{\"id\":\"b81d0803-f15e-49d1-993d-71c362bf57fb\",\"type\":\"ResetTool\"},{\"id\":\"4074ed39-44eb-4e5d-8c9f-e4175dcb6628\",\"type\":\"HelpTool\"}]},\"id\":\"399cbe2d-2fe6-44c7-8574-11a9794ea7da\",\"type\":\"ProxyToolbar\"}],\"root_ids\":[\"fe024d4b-dadb-40fd-bb87-2b1b26b8ac65\"]},\"title\":\"Bokeh Application\",\"version\":\"0.12.16\"}};\n",
       "  var render_items = [{\"docid\":\"b6604a20-c3f0-42ec-ad81-33c2c1eb90a1\",\"elementid\":\"6fc62d89-4308-4588-8110-901cca683cc3\",\"modelid\":\"fe024d4b-dadb-40fd-bb87-2b1b26b8ac65\"}];\n",
       "  root.Bokeh.embed.embed_items_notebook(docs_json, render_items);\n",
       "\n",
       "  }\n",
       "  if (root.Bokeh !== undefined) {\n",
       "    embed_document(root);\n",
       "  } else {\n",
       "    var attempts = 0;\n",
       "    var timer = setInterval(function(root) {\n",
       "      if (root.Bokeh !== undefined) {\n",
       "        embed_document(root);\n",
       "        clearInterval(timer);\n",
       "      }\n",
       "      attempts++;\n",
       "      if (attempts > 100) {\n",
       "        console.log(\"Bokeh: ERROR: Unable to run BokehJS code because BokehJS library is missing\")\n",
       "        clearInterval(timer);\n",
       "      }\n",
       "    }, 10, root)\n",
       "  }\n",
       "})(window);"
      ],
      "application/vnd.bokehjs_exec.v0+json": ""
     },
     "metadata": {
      "application/vnd.bokehjs_exec.v0+json": {
       "id": "fe024d4b-dadb-40fd-bb87-2b1b26b8ac65"
      }
     },
     "output_type": "display_data"
    },
    {
     "data": {
      "text/markdown": [
       "*FIGURE.* Cooling rates & difference."
      ],
      "text/plain": [
       "<IPython.core.display.Markdown object>"
      ]
     },
     "metadata": {},
     "output_type": "display_data"
    },
    {
     "data": {
      "text/html": [
       "<a id=\"Fluxes._trp.\"></a>"
      ],
      "text/plain": [
       "<IPython.core.display.HTML object>"
      ]
     },
     "metadata": {},
     "output_type": "display_data"
    },
    {
     "data": {
      "text/markdown": [
       "# Fluxes. trp."
      ],
      "text/plain": [
       "<IPython.core.display.Markdown object>"
      ]
     },
     "metadata": {},
     "output_type": "display_data"
    },
    {
     "data": {
      "text/html": [
       "\n",
       "<div class=\"bk-root\">\n",
       "    <div class=\"bk-plotdiv\" id=\"a5bf1632-a4ea-4118-b9fd-330939f52d26\"></div>\n",
       "</div>"
      ]
     },
     "metadata": {},
     "output_type": "display_data"
    },
    {
     "data": {
      "application/javascript": [
       "(function(root) {\n",
       "  function embed_document(root) {\n",
       "    \n",
       "  var docs_json = {\"d5e55b1f-fc67-4860-b70e-b0a0bb52e267\":{\"roots\":{\"references\":[{\"attributes\":{},\"id\":\"6ee52980-1978-4e7b-a310-7fe4c8ded077\",\"type\":\"ResetTool\"},{\"attributes\":{},\"id\":\"7b568f45-6d89-45fe-96bc-2c92518a3175\",\"type\":\"HelpTool\"},{\"attributes\":{\"plot\":{\"id\":\"5a3bbf76-b061-4f45-8dcf-c844443529f2\",\"subtype\":\"Figure\",\"type\":\"Plot\"},\"ticker\":{\"id\":\"96d80bc3-6516-47b7-82df-f2cba7223487\",\"type\":\"CategoricalTicker\"}},\"id\":\"fb3899f8-964b-450b-b1c7-35784b7923d5\",\"type\":\"Grid\"},{\"attributes\":{},\"id\":\"79c3f6f7-a295-45b2-88e1-69c6b3dfa753\",\"type\":\"WheelZoomTool\"},{\"attributes\":{},\"id\":\"7e6f12ed-6d56-4891-b90e-7e2ae82f46b3\",\"type\":\"UnionRenderers\"},{\"attributes\":{\"callback\":null,\"data\":{\"band\":[\"9\"],\"flux\":{\"__ndarray__\":\"gLcpHhfVzj8=\",\"dtype\":\"float64\",\"shape\":[1]}},\"selected\":{\"id\":\"64746701-2a31-4223-b965-a16abb971b5e\",\"type\":\"Selection\"},\"selection_policy\":{\"id\":\"7e6f12ed-6d56-4891-b90e-7e2ae82f46b3\",\"type\":\"UnionRenderers\"}},\"id\":\"af49412c-f7bf-46fc-8c84-f0d237a8988a\",\"type\":\"ColumnDataSource\"},{\"attributes\":{\"dimension\":1,\"plot\":{\"id\":\"5a3bbf76-b061-4f45-8dcf-c844443529f2\",\"subtype\":\"Figure\",\"type\":\"Plot\"},\"ticker\":{\"id\":\"1487c623-ef0c-45d8-b3ed-505353c7fece\",\"type\":\"BasicTicker\"}},\"id\":\"8430c76e-3cff-44a7-87c5-3bd1b0e26834\",\"type\":\"Grid\"},{\"attributes\":{},\"id\":\"f44e7819-e336-45ae-96b9-a561eaf4dddc\",\"type\":\"BasicTickFormatter\"},{\"attributes\":{\"data_source\":{\"id\":\"d49a7089-fd83-45a9-b6fb-118d2278003e\",\"type\":\"ColumnDataSource\"},\"glyph\":{\"id\":\"12e32d5c-eb3e-4c91-8d7c-005cf97560dd\",\"type\":\"VBar\"},\"hover_glyph\":null,\"muted_glyph\":null,\"nonselection_glyph\":{\"id\":\"8db67f56-4802-41db-a8f8-8e110c1fa6a6\",\"type\":\"VBar\"},\"selection_glyph\":null,\"view\":{\"id\":\"19ce5b1d-3cd9-4d4b-939b-1866d6b3162c\",\"type\":\"CDSView\"}},\"id\":\"af483fe5-1c6e-4a1e-be0e-232e48f16c8b\",\"type\":\"GlyphRenderer\"},{\"attributes\":{\"data_source\":{\"id\":\"0267021e-7c6d-4dea-85b8-9e8137130c9d\",\"type\":\"ColumnDataSource\"},\"glyph\":{\"id\":\"dca344f8-f929-4e9c-836e-ed10c66afbe1\",\"type\":\"VBar\"},\"hover_glyph\":null,\"muted_glyph\":null,\"nonselection_glyph\":{\"id\":\"25fd401a-915a-4938-9578-311c6a77ebd1\",\"type\":\"VBar\"},\"selection_glyph\":null,\"view\":{\"id\":\"2922b338-8199-4717-954e-1fe0f35e1e4e\",\"type\":\"CDSView\"}},\"id\":\"876dabe0-e52c-40c9-ae59-fcf711821b22\",\"type\":\"GlyphRenderer\"},{\"attributes\":{\"tools\":[{\"id\":\"17d248cb-ee93-43a5-98e4-1a1c44e12bc9\",\"type\":\"PanTool\"},{\"id\":\"79c3f6f7-a295-45b2-88e1-69c6b3dfa753\",\"type\":\"WheelZoomTool\"},{\"id\":\"787384c7-021e-431f-9f0a-2c17ddb1f495\",\"type\":\"BoxZoomTool\"},{\"id\":\"4f060f19-88e5-436e-a8f6-d5e48d6ed259\",\"type\":\"SaveTool\"},{\"id\":\"6ee52980-1978-4e7b-a310-7fe4c8ded077\",\"type\":\"ResetTool\"},{\"id\":\"7b568f45-6d89-45fe-96bc-2c92518a3175\",\"type\":\"HelpTool\"},{\"id\":\"e1d7b5fd-3ece-4a13-8314-333a86dd2978\",\"type\":\"PanTool\"},{\"id\":\"1cd7ee54-58f9-48ea-8b92-d27464a5de4d\",\"type\":\"WheelZoomTool\"},{\"id\":\"43135fac-f4e7-4856-a3ec-61783b844cfb\",\"type\":\"BoxZoomTool\"},{\"id\":\"f41cb079-2a22-4a91-ae57-d7a4e2a0edf3\",\"type\":\"SaveTool\"},{\"id\":\"28cbd09a-df4f-4240-b2c5-1ebe0be454f3\",\"type\":\"ResetTool\"},{\"id\":\"2e4c8d60-4859-454a-b327-1681b4f7d595\",\"type\":\"HelpTool\"},{\"id\":\"a76f3850-887d-422b-b195-c60b1b372b4c\",\"type\":\"PanTool\"},{\"id\":\"fbe4ed38-56bb-4d1c-b903-4f259905c752\",\"type\":\"WheelZoomTool\"},{\"id\":\"81894a1c-21d0-4ed8-ba35-67fabe2608fe\",\"type\":\"BoxZoomTool\"},{\"id\":\"2c4198b7-e08e-43a0-af45-2db1a995312f\",\"type\":\"SaveTool\"},{\"id\":\"3d18a696-6dd5-402a-88a2-f00f74e8a24f\",\"type\":\"ResetTool\"},{\"id\":\"80f4afd5-2aa6-4a02-b3ca-d0400ac985c5\",\"type\":\"HelpTool\"}]},\"id\":\"e0f411c9-100b-40d4-b915-dcefb11c9c12\",\"type\":\"ProxyToolbar\"},{\"attributes\":{},\"id\":\"4f060f19-88e5-436e-a8f6-d5e48d6ed259\",\"type\":\"SaveTool\"},{\"attributes\":{\"overlay\":{\"id\":\"814d97d6-dfd0-4f0f-903a-dd231b7c683f\",\"type\":\"BoxAnnotation\"}},\"id\":\"787384c7-021e-431f-9f0a-2c17ddb1f495\",\"type\":\"BoxZoomTool\"},{\"attributes\":{\"active_drag\":\"auto\",\"active_inspect\":\"auto\",\"active_scroll\":\"auto\",\"active_tap\":\"auto\",\"tools\":[{\"id\":\"17d248cb-ee93-43a5-98e4-1a1c44e12bc9\",\"type\":\"PanTool\"},{\"id\":\"79c3f6f7-a295-45b2-88e1-69c6b3dfa753\",\"type\":\"WheelZoomTool\"},{\"id\":\"787384c7-021e-431f-9f0a-2c17ddb1f495\",\"type\":\"BoxZoomTool\"},{\"id\":\"4f060f19-88e5-436e-a8f6-d5e48d6ed259\",\"type\":\"SaveTool\"},{\"id\":\"6ee52980-1978-4e7b-a310-7fe4c8ded077\",\"type\":\"ResetTool\"},{\"id\":\"7b568f45-6d89-45fe-96bc-2c92518a3175\",\"type\":\"HelpTool\"}]},\"id\":\"79456d5d-08d2-4912-bc15-2ce3c4030128\",\"type\":\"Toolbar\"},{\"attributes\":{},\"id\":\"df04069a-d86d-46ab-921f-3fb0b2ece3ee\",\"type\":\"LinearScale\"},{\"attributes\":{},\"id\":\"109a94c3-abe6-4434-a14b-60e190f3be4d\",\"type\":\"UnionRenderers\"},{\"attributes\":{\"bottom_units\":\"screen\",\"fill_alpha\":{\"value\":0.5},\"fill_color\":{\"value\":\"lightgrey\"},\"left_units\":\"screen\",\"level\":\"overlay\",\"line_alpha\":{\"value\":1.0},\"line_color\":{\"value\":\"black\"},\"line_dash\":[4,4],\"line_width\":{\"value\":2},\"plot\":null,\"render_mode\":\"css\",\"right_units\":\"screen\",\"top_units\":\"screen\"},\"id\":\"e36ad203-8a01-4adc-9c47-a2a2dd83379c\",\"type\":\"BoxAnnotation\"},{\"attributes\":{},\"id\":\"6c5b1846-7e4d-477b-a00a-2544163a4240\",\"type\":\"UnionRenderers\"},{\"attributes\":{\"callback\":null,\"factors\":[\"9\"]},\"id\":\"2de59314-7e75-4c00-abfe-b42cb5dedb43\",\"type\":\"FactorRange\"},{\"attributes\":{},\"id\":\"f41cb079-2a22-4a91-ae57-d7a4e2a0edf3\",\"type\":\"SaveTool\"},{\"attributes\":{\"children\":[{\"id\":\"89153ce6-a6cc-4b59-b141-a04303f4f8a8\",\"type\":\"ToolbarBox\"},{\"id\":\"596f6661-7ef7-4ea4-9754-04e398006a2e\",\"type\":\"Column\"}]},\"id\":\"195a9e0d-4699-4f14-9d1c-3db934b5a00e\",\"type\":\"Column\"},{\"attributes\":{},\"id\":\"96d80bc3-6516-47b7-82df-f2cba7223487\",\"type\":\"CategoricalTicker\"},{\"attributes\":{\"overlay\":{\"id\":\"4ae267d1-59c7-45ce-96f9-f835dd469c43\",\"type\":\"BoxAnnotation\"}},\"id\":\"43135fac-f4e7-4856-a3ec-61783b844cfb\",\"type\":\"BoxZoomTool\"},{\"attributes\":{\"plot\":null,\"text\":\"Atmosphere heating. CLIRAD - CRD.\"},\"id\":\"0b512057-db08-456c-bf4f-ad52e684840a\",\"type\":\"Title\"},{\"attributes\":{},\"id\":\"78daad94-fdab-488e-a7b7-9984cb7892ce\",\"type\":\"LinearScale\"},{\"attributes\":{},\"id\":\"83791633-9108-4815-8718-8dce6aa9605f\",\"type\":\"CategoricalTicker\"},{\"attributes\":{\"fill_color\":{\"value\":\"#1f77b4\"},\"line_color\":{\"value\":\"#1f77b4\"},\"top\":{\"field\":\"flux\"},\"width\":{\"value\":0.9},\"x\":{\"field\":\"band\"}},\"id\":\"dca344f8-f929-4e9c-836e-ed10c66afbe1\",\"type\":\"VBar\"},{\"attributes\":{},\"id\":\"64746701-2a31-4223-b965-a16abb971b5e\",\"type\":\"Selection\"},{\"attributes\":{},\"id\":\"1487c623-ef0c-45d8-b3ed-505353c7fece\",\"type\":\"BasicTicker\"},{\"attributes\":{\"source\":{\"id\":\"0267021e-7c6d-4dea-85b8-9e8137130c9d\",\"type\":\"ColumnDataSource\"}},\"id\":\"2922b338-8199-4717-954e-1fe0f35e1e4e\",\"type\":\"CDSView\"},{\"attributes\":{},\"id\":\"1cd7ee54-58f9-48ea-8b92-d27464a5de4d\",\"type\":\"WheelZoomTool\"},{\"attributes\":{},\"id\":\"fbe4ed38-56bb-4d1c-b903-4f259905c752\",\"type\":\"WheelZoomTool\"},{\"attributes\":{\"callback\":null},\"id\":\"c145ce84-1c64-40a0-a8e0-5f5016194962\",\"type\":\"DataRange1d\"},{\"attributes\":{\"axis_label\":\"flux (W m-2)\",\"formatter\":{\"id\":\"691decae-d92e-4f37-966d-1860c1cbd248\",\"type\":\"BasicTickFormatter\"},\"plot\":{\"id\":\"88b4450c-6a38-433f-93bb-0fc1d873debb\",\"subtype\":\"Figure\",\"type\":\"Plot\"},\"ticker\":{\"id\":\"b60278cd-151a-4736-b3aa-ac32a566682e\",\"type\":\"BasicTicker\"}},\"id\":\"f48f5bb8-d22d-4b48-9718-2ab0571ab8b8\",\"type\":\"LinearAxis\"},{\"attributes\":{},\"id\":\"17d248cb-ee93-43a5-98e4-1a1c44e12bc9\",\"type\":\"PanTool\"},{\"attributes\":{\"children\":[{\"id\":\"b87c4f4c-8942-475b-b0dd-31d51dcfc29a\",\"type\":\"Row\"}]},\"id\":\"596f6661-7ef7-4ea4-9754-04e398006a2e\",\"type\":\"Column\"},{\"attributes\":{\"axis_label\":\"flux (W m-2)\",\"formatter\":{\"id\":\"503f697e-0ce1-40b8-adf0-c8fe0eccf1ad\",\"type\":\"BasicTickFormatter\"},\"plot\":{\"id\":\"5a3bbf76-b061-4f45-8dcf-c844443529f2\",\"subtype\":\"Figure\",\"type\":\"Plot\"},\"ticker\":{\"id\":\"1487c623-ef0c-45d8-b3ed-505353c7fece\",\"type\":\"BasicTicker\"}},\"id\":\"6dae914a-684f-4016-9b1e-51c8b1efcb0a\",\"type\":\"LinearAxis\"},{\"attributes\":{},\"id\":\"e120595f-4e69-472d-bb97-8ee6a9858ab0\",\"type\":\"CategoricalTickFormatter\"},{\"attributes\":{},\"id\":\"a76f3850-887d-422b-b195-c60b1b372b4c\",\"type\":\"PanTool\"},{\"attributes\":{\"fill_color\":{\"value\":\"#1f77b4\"},\"line_color\":{\"value\":\"#1f77b4\"},\"top\":{\"field\":\"flux\"},\"width\":{\"value\":0.9},\"x\":{\"field\":\"band\"}},\"id\":\"12e32d5c-eb3e-4c91-8d7c-005cf97560dd\",\"type\":\"VBar\"},{\"attributes\":{\"axis_label\":\"flux (W m-2)\",\"formatter\":{\"id\":\"f44e7819-e336-45ae-96b9-a561eaf4dddc\",\"type\":\"BasicTickFormatter\"},\"plot\":{\"id\":\"2005113a-7dd5-479e-890f-db2a9fed8687\",\"subtype\":\"Figure\",\"type\":\"Plot\"},\"ticker\":{\"id\":\"7b44cedb-5a76-4e83-bc22-836c9caf692a\",\"type\":\"BasicTicker\"}},\"id\":\"d623abf4-322b-4f85-8d7e-ba0cbb01a5f1\",\"type\":\"LinearAxis\"},{\"attributes\":{\"bottom_units\":\"screen\",\"fill_alpha\":{\"value\":0.5},\"fill_color\":{\"value\":\"lightgrey\"},\"left_units\":\"screen\",\"level\":\"overlay\",\"line_alpha\":{\"value\":1.0},\"line_color\":{\"value\":\"black\"},\"line_dash\":[4,4],\"line_width\":{\"value\":2},\"plot\":null,\"render_mode\":\"css\",\"right_units\":\"screen\",\"top_units\":\"screen\"},\"id\":\"814d97d6-dfd0-4f0f-903a-dd231b7c683f\",\"type\":\"BoxAnnotation\"},{\"attributes\":{\"axis_label\":\"spectral band\",\"formatter\":{\"id\":\"05f254b0-a442-48e5-9989-6132f3bbd7f6\",\"type\":\"CategoricalTickFormatter\"},\"plot\":{\"id\":\"88b4450c-6a38-433f-93bb-0fc1d873debb\",\"subtype\":\"Figure\",\"type\":\"Plot\"},\"ticker\":{\"id\":\"83791633-9108-4815-8718-8dce6aa9605f\",\"type\":\"CategoricalTicker\"}},\"id\":\"92d65205-f6c1-47bf-bb26-30ff64a65b2e\",\"type\":\"CategoricalAxis\"},{\"attributes\":{},\"id\":\"e1d7b5fd-3ece-4a13-8314-333a86dd2978\",\"type\":\"PanTool\"},{\"attributes\":{\"callback\":null,\"factors\":[\"9\"]},\"id\":\"f3d0a8f7-ab35-4355-978a-16bc741588e7\",\"type\":\"FactorRange\"},{\"attributes\":{},\"id\":\"691decae-d92e-4f37-966d-1860c1cbd248\",\"type\":\"BasicTickFormatter\"},{\"attributes\":{\"source\":{\"id\":\"af49412c-f7bf-46fc-8c84-f0d237a8988a\",\"type\":\"ColumnDataSource\"}},\"id\":\"925b2443-21ec-4ab7-8509-1c9e384582db\",\"type\":\"CDSView\"},{\"attributes\":{\"callback\":null,\"data\":{\"band\":[\"9\"],\"flux\":{\"__ndarray__\":\"QGEocWdw0b8=\",\"dtype\":\"float64\",\"shape\":[1]}},\"selected\":{\"id\":\"4c7398a9-ffd6-4d39-bb08-0edd264193bf\",\"type\":\"Selection\"},\"selection_policy\":{\"id\":\"6c5b1846-7e4d-477b-a00a-2544163a4240\",\"type\":\"UnionRenderers\"}},\"id\":\"d49a7089-fd83-45a9-b6fb-118d2278003e\",\"type\":\"ColumnDataSource\"},{\"attributes\":{\"fill_alpha\":{\"value\":0.1},\"fill_color\":{\"value\":\"#1f77b4\"},\"line_alpha\":{\"value\":0.1},\"line_color\":{\"value\":\"#1f77b4\"},\"top\":{\"field\":\"flux\"},\"width\":{\"value\":0.9},\"x\":{\"field\":\"band\"}},\"id\":\"8db67f56-4802-41db-a8f8-8e110c1fa6a6\",\"type\":\"VBar\"},{\"attributes\":{\"fill_alpha\":{\"value\":0.1},\"fill_color\":{\"value\":\"#1f77b4\"},\"line_alpha\":{\"value\":0.1},\"line_color\":{\"value\":\"#1f77b4\"},\"top\":{\"field\":\"flux\"},\"width\":{\"value\":0.9},\"x\":{\"field\":\"band\"}},\"id\":\"25fd401a-915a-4938-9578-311c6a77ebd1\",\"type\":\"VBar\"},{\"attributes\":{\"fill_color\":{\"value\":\"#1f77b4\"},\"line_color\":{\"value\":\"#1f77b4\"},\"top\":{\"field\":\"flux\"},\"width\":{\"value\":0.9},\"x\":{\"field\":\"band\"}},\"id\":\"9b021849-26eb-46a4-b9a6-d1d9bcacea46\",\"type\":\"VBar\"},{\"attributes\":{\"bottom_units\":\"screen\",\"fill_alpha\":{\"value\":0.5},\"fill_color\":{\"value\":\"lightgrey\"},\"left_units\":\"screen\",\"level\":\"overlay\",\"line_alpha\":{\"value\":1.0},\"line_color\":{\"value\":\"black\"},\"line_dash\":[4,4],\"line_width\":{\"value\":2},\"plot\":null,\"render_mode\":\"css\",\"right_units\":\"screen\",\"top_units\":\"screen\"},\"id\":\"4ae267d1-59c7-45ce-96f9-f835dd469c43\",\"type\":\"BoxAnnotation\"},{\"attributes\":{\"below\":[{\"id\":\"7f842698-3f20-41b7-90ec-c50f7743332b\",\"type\":\"CategoricalAxis\"}],\"left\":[{\"id\":\"6dae914a-684f-4016-9b1e-51c8b1efcb0a\",\"type\":\"LinearAxis\"}],\"plot_height\":300,\"plot_width\":300,\"renderers\":[{\"id\":\"7f842698-3f20-41b7-90ec-c50f7743332b\",\"type\":\"CategoricalAxis\"},{\"id\":\"fb3899f8-964b-450b-b1c7-35784b7923d5\",\"type\":\"Grid\"},{\"id\":\"6dae914a-684f-4016-9b1e-51c8b1efcb0a\",\"type\":\"LinearAxis\"},{\"id\":\"8430c76e-3cff-44a7-87c5-3bd1b0e26834\",\"type\":\"Grid\"},{\"id\":\"4ae267d1-59c7-45ce-96f9-f835dd469c43\",\"type\":\"BoxAnnotation\"},{\"id\":\"af483fe5-1c6e-4a1e-be0e-232e48f16c8b\",\"type\":\"GlyphRenderer\"}],\"title\":{\"id\":\"ba0d2880-cf75-4b93-b5a3-9be6149d3fdb\",\"type\":\"Title\"},\"toolbar\":{\"id\":\"e24a07d2-423c-47f1-8069-1fea3d17579a\",\"type\":\"Toolbar\"},\"toolbar_location\":null,\"x_range\":{\"id\":\"2de59314-7e75-4c00-abfe-b42cb5dedb43\",\"type\":\"FactorRange\"},\"x_scale\":{\"id\":\"2f5eed71-697c-483c-8b75-990d5fac4504\",\"type\":\"CategoricalScale\"},\"y_range\":{\"id\":\"9689e68c-53a4-4bde-ac22-392178b5fc71\",\"type\":\"DataRange1d\"},\"y_scale\":{\"id\":\"1c33704c-e727-407b-b82d-1823a6094d56\",\"type\":\"LinearScale\"}},\"id\":\"5a3bbf76-b061-4f45-8dcf-c844443529f2\",\"subtype\":\"Figure\",\"type\":\"Plot\"},{\"attributes\":{\"plot\":{\"id\":\"88b4450c-6a38-433f-93bb-0fc1d873debb\",\"subtype\":\"Figure\",\"type\":\"Plot\"},\"ticker\":{\"id\":\"83791633-9108-4815-8718-8dce6aa9605f\",\"type\":\"CategoricalTicker\"}},\"id\":\"a32bf400-dc28-4658-b05e-917bb295b4f6\",\"type\":\"Grid\"},{\"attributes\":{},\"id\":\"7b44cedb-5a76-4e83-bc22-836c9caf692a\",\"type\":\"BasicTicker\"},{\"attributes\":{\"toolbar\":{\"id\":\"e0f411c9-100b-40d4-b915-dcefb11c9c12\",\"type\":\"ProxyToolbar\"},\"toolbar_location\":\"above\"},\"id\":\"89153ce6-a6cc-4b59-b141-a04303f4f8a8\",\"type\":\"ToolbarBox\"},{\"attributes\":{\"dimension\":1,\"plot\":{\"id\":\"88b4450c-6a38-433f-93bb-0fc1d873debb\",\"subtype\":\"Figure\",\"type\":\"Plot\"},\"ticker\":{\"id\":\"b60278cd-151a-4736-b3aa-ac32a566682e\",\"type\":\"BasicTicker\"}},\"id\":\"c364f498-4c61-4e00-ba6b-0cf3dd20efcd\",\"type\":\"Grid\"},{\"attributes\":{\"callback\":null},\"id\":\"8196abe4-fdd2-41a9-b081-2c19a60089a7\",\"type\":\"DataRange1d\"},{\"attributes\":{},\"id\":\"503f697e-0ce1-40b8-adf0-c8fe0eccf1ad\",\"type\":\"BasicTickFormatter\"},{\"attributes\":{\"callback\":null,\"data\":{\"band\":[\"9\"],\"flux\":{\"__ndarray__\":\"AIJStHIvoL8=\",\"dtype\":\"float64\",\"shape\":[1]}},\"selected\":{\"id\":\"f6fbac0d-9672-48e0-b4fe-abce00d5f39d\",\"type\":\"Selection\"},\"selection_policy\":{\"id\":\"109a94c3-abe6-4434-a14b-60e190f3be4d\",\"type\":\"UnionRenderers\"}},\"id\":\"0267021e-7c6d-4dea-85b8-9e8137130c9d\",\"type\":\"ColumnDataSource\"},{\"attributes\":{\"below\":[{\"id\":\"6f63ede9-15ae-44f9-83d8-876b6a0ad521\",\"type\":\"CategoricalAxis\"}],\"left\":[{\"id\":\"d623abf4-322b-4f85-8d7e-ba0cbb01a5f1\",\"type\":\"LinearAxis\"}],\"plot_height\":300,\"plot_width\":300,\"renderers\":[{\"id\":\"6f63ede9-15ae-44f9-83d8-876b6a0ad521\",\"type\":\"CategoricalAxis\"},{\"id\":\"01e93ddb-c209-4b50-9fb6-3ba952891cb3\",\"type\":\"Grid\"},{\"id\":\"d623abf4-322b-4f85-8d7e-ba0cbb01a5f1\",\"type\":\"LinearAxis\"},{\"id\":\"d28258c7-3b17-4ca9-abd6-061af4229b33\",\"type\":\"Grid\"},{\"id\":\"e36ad203-8a01-4adc-9c47-a2a2dd83379c\",\"type\":\"BoxAnnotation\"},{\"id\":\"d851ac81-d106-4fd1-b346-59e932f38056\",\"type\":\"GlyphRenderer\"}],\"title\":{\"id\":\"0b512057-db08-456c-bf4f-ad52e684840a\",\"type\":\"Title\"},\"toolbar\":{\"id\":\"5d29cc56-43d1-490f-b7ea-85e14920611f\",\"type\":\"Toolbar\"},\"toolbar_location\":null,\"x_range\":{\"id\":\"0781cb4b-7647-41fe-a3df-d8d889306e64\",\"type\":\"FactorRange\"},\"x_scale\":{\"id\":\"a96a6e69-7b38-45b1-9ea5-2d383ed728ba\",\"type\":\"CategoricalScale\"},\"y_range\":{\"id\":\"8196abe4-fdd2-41a9-b081-2c19a60089a7\",\"type\":\"DataRange1d\"},\"y_scale\":{\"id\":\"78daad94-fdab-488e-a7b7-9984cb7892ce\",\"type\":\"LinearScale\"}},\"id\":\"2005113a-7dd5-479e-890f-db2a9fed8687\",\"subtype\":\"Figure\",\"type\":\"Plot\"},{\"attributes\":{\"source\":{\"id\":\"d49a7089-fd83-45a9-b6fb-118d2278003e\",\"type\":\"ColumnDataSource\"}},\"id\":\"19ce5b1d-3cd9-4d4b-939b-1866d6b3162c\",\"type\":\"CDSView\"},{\"attributes\":{\"below\":[{\"id\":\"92d65205-f6c1-47bf-bb26-30ff64a65b2e\",\"type\":\"CategoricalAxis\"}],\"left\":[{\"id\":\"f48f5bb8-d22d-4b48-9718-2ab0571ab8b8\",\"type\":\"LinearAxis\"}],\"plot_height\":300,\"plot_width\":300,\"renderers\":[{\"id\":\"92d65205-f6c1-47bf-bb26-30ff64a65b2e\",\"type\":\"CategoricalAxis\"},{\"id\":\"a32bf400-dc28-4658-b05e-917bb295b4f6\",\"type\":\"Grid\"},{\"id\":\"f48f5bb8-d22d-4b48-9718-2ab0571ab8b8\",\"type\":\"LinearAxis\"},{\"id\":\"c364f498-4c61-4e00-ba6b-0cf3dd20efcd\",\"type\":\"Grid\"},{\"id\":\"814d97d6-dfd0-4f0f-903a-dd231b7c683f\",\"type\":\"BoxAnnotation\"},{\"id\":\"876dabe0-e52c-40c9-ae59-fcf711821b22\",\"type\":\"GlyphRenderer\"}],\"title\":{\"id\":\"23e6862a-a3ec-42bd-a731-10abd7e50c6e\",\"type\":\"Title\"},\"toolbar\":{\"id\":\"79456d5d-08d2-4912-bc15-2ce3c4030128\",\"type\":\"Toolbar\"},\"toolbar_location\":null,\"x_range\":{\"id\":\"f3d0a8f7-ab35-4355-978a-16bc741588e7\",\"type\":\"FactorRange\"},\"x_scale\":{\"id\":\"a94ed302-3f71-4942-9959-b6e36739d7be\",\"type\":\"CategoricalScale\"},\"y_range\":{\"id\":\"c145ce84-1c64-40a0-a8e0-5f5016194962\",\"type\":\"DataRange1d\"},\"y_scale\":{\"id\":\"df04069a-d86d-46ab-921f-3fb0b2ece3ee\",\"type\":\"LinearScale\"}},\"id\":\"88b4450c-6a38-433f-93bb-0fc1d873debb\",\"subtype\":\"Figure\",\"type\":\"Plot\"},{\"attributes\":{},\"id\":\"1c33704c-e727-407b-b82d-1823a6094d56\",\"type\":\"LinearScale\"},{\"attributes\":{\"active_drag\":\"auto\",\"active_inspect\":\"auto\",\"active_scroll\":\"auto\",\"active_tap\":\"auto\",\"tools\":[{\"id\":\"e1d7b5fd-3ece-4a13-8314-333a86dd2978\",\"type\":\"PanTool\"},{\"id\":\"1cd7ee54-58f9-48ea-8b92-d27464a5de4d\",\"type\":\"WheelZoomTool\"},{\"id\":\"43135fac-f4e7-4856-a3ec-61783b844cfb\",\"type\":\"BoxZoomTool\"},{\"id\":\"f41cb079-2a22-4a91-ae57-d7a4e2a0edf3\",\"type\":\"SaveTool\"},{\"id\":\"28cbd09a-df4f-4240-b2c5-1ebe0be454f3\",\"type\":\"ResetTool\"},{\"id\":\"2e4c8d60-4859-454a-b327-1681b4f7d595\",\"type\":\"HelpTool\"}]},\"id\":\"e24a07d2-423c-47f1-8069-1fea3d17579a\",\"type\":\"Toolbar\"},{\"attributes\":{},\"id\":\"b60278cd-151a-4736-b3aa-ac32a566682e\",\"type\":\"BasicTicker\"},{\"attributes\":{},\"id\":\"f6fbac0d-9672-48e0-b4fe-abce00d5f39d\",\"type\":\"Selection\"},{\"attributes\":{},\"id\":\"80f4afd5-2aa6-4a02-b3ca-d0400ac985c5\",\"type\":\"HelpTool\"},{\"attributes\":{\"dimension\":1,\"plot\":{\"id\":\"2005113a-7dd5-479e-890f-db2a9fed8687\",\"subtype\":\"Figure\",\"type\":\"Plot\"},\"ticker\":{\"id\":\"7b44cedb-5a76-4e83-bc22-836c9caf692a\",\"type\":\"BasicTicker\"}},\"id\":\"d28258c7-3b17-4ca9-abd6-061af4229b33\",\"type\":\"Grid\"},{\"attributes\":{\"active_drag\":\"auto\",\"active_inspect\":\"auto\",\"active_scroll\":\"auto\",\"active_tap\":\"auto\",\"tools\":[{\"id\":\"a76f3850-887d-422b-b195-c60b1b372b4c\",\"type\":\"PanTool\"},{\"id\":\"fbe4ed38-56bb-4d1c-b903-4f259905c752\",\"type\":\"WheelZoomTool\"},{\"id\":\"81894a1c-21d0-4ed8-ba35-67fabe2608fe\",\"type\":\"BoxZoomTool\"},{\"id\":\"2c4198b7-e08e-43a0-af45-2db1a995312f\",\"type\":\"SaveTool\"},{\"id\":\"3d18a696-6dd5-402a-88a2-f00f74e8a24f\",\"type\":\"ResetTool\"},{\"id\":\"80f4afd5-2aa6-4a02-b3ca-d0400ac985c5\",\"type\":\"HelpTool\"}]},\"id\":\"5d29cc56-43d1-490f-b7ea-85e14920611f\",\"type\":\"Toolbar\"},{\"attributes\":{},\"id\":\"4c7398a9-ffd6-4d39-bb08-0edd264193bf\",\"type\":\"Selection\"},{\"attributes\":{},\"id\":\"2e4c8d60-4859-454a-b327-1681b4f7d595\",\"type\":\"HelpTool\"},{\"attributes\":{},\"id\":\"28cbd09a-df4f-4240-b2c5-1ebe0be454f3\",\"type\":\"ResetTool\"},{\"attributes\":{\"axis_label\":\"spectral band\",\"formatter\":{\"id\":\"e120595f-4e69-472d-bb97-8ee6a9858ab0\",\"type\":\"CategoricalTickFormatter\"},\"plot\":{\"id\":\"2005113a-7dd5-479e-890f-db2a9fed8687\",\"subtype\":\"Figure\",\"type\":\"Plot\"},\"ticker\":{\"id\":\"142e38a9-2b8f-4099-bc9e-9c0a33eeeef3\",\"type\":\"CategoricalTicker\"}},\"id\":\"6f63ede9-15ae-44f9-83d8-876b6a0ad521\",\"type\":\"CategoricalAxis\"},{\"attributes\":{\"overlay\":{\"id\":\"e36ad203-8a01-4adc-9c47-a2a2dd83379c\",\"type\":\"BoxAnnotation\"}},\"id\":\"81894a1c-21d0-4ed8-ba35-67fabe2608fe\",\"type\":\"BoxZoomTool\"},{\"attributes\":{},\"id\":\"05f254b0-a442-48e5-9989-6132f3bbd7f6\",\"type\":\"CategoricalTickFormatter\"},{\"attributes\":{},\"id\":\"a96a6e69-7b38-45b1-9ea5-2d383ed728ba\",\"type\":\"CategoricalScale\"},{\"attributes\":{\"axis_label\":\"spectral band\",\"formatter\":{\"id\":\"823d0646-2077-40e1-b15d-80e786590b1a\",\"type\":\"CategoricalTickFormatter\"},\"plot\":{\"id\":\"5a3bbf76-b061-4f45-8dcf-c844443529f2\",\"subtype\":\"Figure\",\"type\":\"Plot\"},\"ticker\":{\"id\":\"96d80bc3-6516-47b7-82df-f2cba7223487\",\"type\":\"CategoricalTicker\"}},\"id\":\"7f842698-3f20-41b7-90ec-c50f7743332b\",\"type\":\"CategoricalAxis\"},{\"attributes\":{\"data_source\":{\"id\":\"af49412c-f7bf-46fc-8c84-f0d237a8988a\",\"type\":\"ColumnDataSource\"},\"glyph\":{\"id\":\"9b021849-26eb-46a4-b9a6-d1d9bcacea46\",\"type\":\"VBar\"},\"hover_glyph\":null,\"muted_glyph\":null,\"nonselection_glyph\":{\"id\":\"6ec22395-31ce-41d2-925d-57570fb09ab1\",\"type\":\"VBar\"},\"selection_glyph\":null,\"view\":{\"id\":\"925b2443-21ec-4ab7-8509-1c9e384582db\",\"type\":\"CDSView\"}},\"id\":\"d851ac81-d106-4fd1-b346-59e932f38056\",\"type\":\"GlyphRenderer\"},{\"attributes\":{},\"id\":\"2f5eed71-697c-483c-8b75-990d5fac4504\",\"type\":\"CategoricalScale\"},{\"attributes\":{},\"id\":\"3d18a696-6dd5-402a-88a2-f00f74e8a24f\",\"type\":\"ResetTool\"},{\"attributes\":{\"fill_alpha\":{\"value\":0.1},\"fill_color\":{\"value\":\"#1f77b4\"},\"line_alpha\":{\"value\":0.1},\"line_color\":{\"value\":\"#1f77b4\"},\"top\":{\"field\":\"flux\"},\"width\":{\"value\":0.9},\"x\":{\"field\":\"band\"}},\"id\":\"6ec22395-31ce-41d2-925d-57570fb09ab1\",\"type\":\"VBar\"},{\"attributes\":{},\"id\":\"823d0646-2077-40e1-b15d-80e786590b1a\",\"type\":\"CategoricalTickFormatter\"},{\"attributes\":{},\"id\":\"a94ed302-3f71-4942-9959-b6e36739d7be\",\"type\":\"CategoricalScale\"},{\"attributes\":{\"callback\":null,\"factors\":[\"9\"]},\"id\":\"0781cb4b-7647-41fe-a3df-d8d889306e64\",\"type\":\"FactorRange\"},{\"attributes\":{\"plot\":null,\"text\":\"TOA flux. CLIRAD - CRD.\"},\"id\":\"23e6862a-a3ec-42bd-a731-10abd7e50c6e\",\"type\":\"Title\"},{\"attributes\":{\"callback\":null},\"id\":\"9689e68c-53a4-4bde-ac22-392178b5fc71\",\"type\":\"DataRange1d\"},{\"attributes\":{\"plot\":null,\"text\":\"SFC flux. CLIRAD - CRD.\"},\"id\":\"ba0d2880-cf75-4b93-b5a3-9be6149d3fdb\",\"type\":\"Title\"},{\"attributes\":{},\"id\":\"142e38a9-2b8f-4099-bc9e-9c0a33eeeef3\",\"type\":\"CategoricalTicker\"},{\"attributes\":{\"children\":[{\"id\":\"88b4450c-6a38-433f-93bb-0fc1d873debb\",\"subtype\":\"Figure\",\"type\":\"Plot\"},{\"id\":\"5a3bbf76-b061-4f45-8dcf-c844443529f2\",\"subtype\":\"Figure\",\"type\":\"Plot\"},{\"id\":\"2005113a-7dd5-479e-890f-db2a9fed8687\",\"subtype\":\"Figure\",\"type\":\"Plot\"}]},\"id\":\"b87c4f4c-8942-475b-b0dd-31d51dcfc29a\",\"type\":\"Row\"},{\"attributes\":{},\"id\":\"2c4198b7-e08e-43a0-af45-2db1a995312f\",\"type\":\"SaveTool\"},{\"attributes\":{\"plot\":{\"id\":\"2005113a-7dd5-479e-890f-db2a9fed8687\",\"subtype\":\"Figure\",\"type\":\"Plot\"},\"ticker\":{\"id\":\"142e38a9-2b8f-4099-bc9e-9c0a33eeeef3\",\"type\":\"CategoricalTicker\"}},\"id\":\"01e93ddb-c209-4b50-9fb6-3ba952891cb3\",\"type\":\"Grid\"}],\"root_ids\":[\"195a9e0d-4699-4f14-9d1c-3db934b5a00e\"]},\"title\":\"Bokeh Application\",\"version\":\"0.12.16\"}};\n",
       "  var render_items = [{\"docid\":\"d5e55b1f-fc67-4860-b70e-b0a0bb52e267\",\"elementid\":\"a5bf1632-a4ea-4118-b9fd-330939f52d26\",\"modelid\":\"195a9e0d-4699-4f14-9d1c-3db934b5a00e\"}];\n",
       "  root.Bokeh.embed.embed_items_notebook(docs_json, render_items);\n",
       "\n",
       "  }\n",
       "  if (root.Bokeh !== undefined) {\n",
       "    embed_document(root);\n",
       "  } else {\n",
       "    var attempts = 0;\n",
       "    var timer = setInterval(function(root) {\n",
       "      if (root.Bokeh !== undefined) {\n",
       "        embed_document(root);\n",
       "        clearInterval(timer);\n",
       "      }\n",
       "      attempts++;\n",
       "      if (attempts > 100) {\n",
       "        console.log(\"Bokeh: ERROR: Unable to run BokehJS code because BokehJS library is missing\")\n",
       "        clearInterval(timer);\n",
       "      }\n",
       "    }, 10, root)\n",
       "  }\n",
       "})(window);"
      ],
      "application/vnd.bokehjs_exec.v0+json": ""
     },
     "metadata": {
      "application/vnd.bokehjs_exec.v0+json": {
       "id": "195a9e0d-4699-4f14-9d1c-3db934b5a00e"
      }
     },
     "output_type": "display_data"
    },
    {
     "data": {
      "text/markdown": [
       "*FIGURE.* Difference between CLIRAD and CRD in TOA, SFC and net atmosphere flux, in each spectral band."
      ],
      "text/plain": [
       "<IPython.core.display.Markdown object>"
      ]
     },
     "metadata": {},
     "output_type": "display_data"
    },
    {
     "data": {
      "text/html": [
       "<div>\n",
       "<style scoped>\n",
       "    .dataframe tbody tr th:only-of-type {\n",
       "        vertical-align: middle;\n",
       "    }\n",
       "\n",
       "    .dataframe tbody tr th {\n",
       "        vertical-align: top;\n",
       "    }\n",
       "\n",
       "    .dataframe thead th {\n",
       "        text-align: right;\n",
       "    }\n",
       "</style>\n",
       "<table border=\"1\" class=\"dataframe\">\n",
       "  <thead>\n",
       "    <tr style=\"text-align: right;\">\n",
       "      <th></th>\n",
       "      <th>OLR flux</th>\n",
       "      <th>SFC flux</th>\n",
       "      <th>ATM heating</th>\n",
       "    </tr>\n",
       "    <tr>\n",
       "      <th>Sum over bands</th>\n",
       "      <th></th>\n",
       "      <th></th>\n",
       "      <th></th>\n",
       "    </tr>\n",
       "  </thead>\n",
       "  <tbody>\n",
       "    <tr>\n",
       "      <th>CLIRAD - CRD</th>\n",
       "      <td>-432.34</td>\n",
       "      <td>-0.27</td>\n",
       "      <td>0.24</td>\n",
       "    </tr>\n",
       "    <tr>\n",
       "      <th>CRD</th>\n",
       "      <td>-21.61</td>\n",
       "      <td>6.75</td>\n",
       "      <td>-1.40</td>\n",
       "    </tr>\n",
       "  </tbody>\n",
       "</table>\n",
       "</div>"
      ],
      "text/plain": [
       "                OLR flux  SFC flux  ATM heating\n",
       "Sum over bands                                 \n",
       "CLIRAD - CRD     -432.34     -0.27         0.24\n",
       "CRD               -21.61      6.75        -1.40"
      ]
     },
     "metadata": {},
     "output_type": "display_data"
    },
    {
     "data": {
      "text/markdown": [
       "*TABLE.* Difference between CLIRAD and CRD in TOA, SFC and net atmosphere flux, over all spectral bands. CRD's TOA, SFC and net atmosphere flux, over all spectral bands."
      ],
      "text/plain": [
       "<IPython.core.display.Markdown object>"
      ]
     },
     "metadata": {},
     "output_type": "display_data"
    },
    {
     "data": {
      "text/html": [
       "Download: <a href=\"./results_ch4atm_cliradsinglerun-Copy2.xlsx\">results_ch4atm_cliradsinglerun-Copy2.xlsx</a>"
      ],
      "text/plain": [
       "<IPython.core.display.HTML object>"
      ]
     },
     "metadata": {},
     "output_type": "display_data"
    }
   ],
   "source": [
    "def script():\n",
    "    \n",
    "    d_atm = {'mls': 'mid-latitude summer',\n",
    "             'saw': 'sub-arctic winter',\n",
    "             'trp': 'tropical'}\n",
    "    \n",
    "    title = ('## Results over entire range of molecules'\n",
    "             ' and spectral bands')\n",
    "    \n",
    "    s_makeup = 'Makeup of atmosphere.'\n",
    "    s_atmpro = '# {}'\n",
    "    s_cool = 'Cooling rates. {}.'\n",
    "    s_flux = 'Fluxes. {}.'\n",
    "    \n",
    "    atmpros = ['mls', 'saw', 'trp']\n",
    "    \n",
    "    # TOC\n",
    "    show_markdown(title)\n",
    "    show_markdown('### Table of Contents')\n",
    "    show_html(climahtml.getHTML_hrefanchor(s_makeup))\n",
    "    for atmpro in atmpros:\n",
    "        show_markdown('**' + d_atm[atmpro] + '**')\n",
    "        show_html(climahtml.getHTML_hrefanchor(s_cool.format(atmpro)))\n",
    "        show_html(climahtml.getHTML_hrefanchor(s_flux.format(atmpro)))\n",
    "\n",
    "        \n",
    "    # Atmosphere makeup\n",
    "    show_html(climahtml.getHTML_idanchor(s_makeup))\n",
    "    show_markdown(climahtml.getMarkdown_sectitle(s_makeup))\n",
    "    show_makeup()\n",
    "#    show_grey_makeup()\n",
    "        \n",
    "    for atmpro in atmpros:\n",
    "        show_html(climahtml.getHTML_idanchor(s_cool.format(atmpro)))\n",
    "        show_markdown(\n",
    "            climahtml.getMarkdown_sectitle(s_cool.format(atmpro)))\n",
    "        show_cool(atmpro=atmpro)\n",
    "        show_html(climahtml.getHTML_idanchor(s_flux.format(atmpro)))\n",
    "        show_markdown(\n",
    "            climahtml.getMarkdown_sectitle(s_flux.format(atmpro)))\n",
    "        show_hist_flux(atmpro=atmpro)\n",
    "        show_tb_flux(atmpro=atmpro)\n",
    "    \n",
    "    script_tofile()\n",
    "    \n",
    "script()  "
   ]
  },
  {
   "cell_type": "code",
   "execution_count": null,
   "metadata": {
    "collapsed": true
   },
   "outputs": [],
   "source": []
  },
  {
   "cell_type": "code",
   "execution_count": 18,
   "metadata": {},
   "outputs": [
    {
     "data": {
      "text/html": [
       "<script>\n",
       "code_show=true; \n",
       "function code_toggle() {\n",
       " if (code_show){\n",
       " $('div.input').hide();\n",
       " } else {\n",
       " $('div.input').show();\n",
       " }\n",
       " code_show = !code_show\n",
       "} \n",
       "$( document ).ready(code_toggle);\n",
       "</script>\n",
       "<form action=\"javascript:code_toggle()\"><input type=\"submit\" value=\"Click here to toggle on/off the raw code.\"></form>"
      ],
      "text/plain": [
       "<IPython.core.display.HTML object>"
      ]
     },
     "execution_count": 18,
     "metadata": {},
     "output_type": "execute_result"
    }
   ],
   "source": [
    "display.HTML('''<script>\n",
    "code_show=true; \n",
    "function code_toggle() {\n",
    " if (code_show){\n",
    " $('div.input').hide();\n",
    " } else {\n",
    " $('div.input').show();\n",
    " }\n",
    " code_show = !code_show\n",
    "} \n",
    "$( document ).ready(code_toggle);\n",
    "</script>\n",
    "<form action=\"javascript:code_toggle()\"><input type=\"submit\" value=\"Click here to toggle on/off the raw code.\"></form>''')"
   ]
  },
  {
   "cell_type": "code",
   "execution_count": null,
   "metadata": {
    "collapsed": true
   },
   "outputs": [],
   "source": []
  }
 ],
 "metadata": {
  "kernelspec": {
   "display_name": "Python 3",
   "language": "python",
   "name": "python3"
  },
  "language_info": {
   "codemirror_mode": {
    "name": "ipython",
    "version": 3
   },
   "file_extension": ".py",
   "mimetype": "text/x-python",
   "name": "python",
   "nbconvert_exporter": "python",
   "pygments_lexer": "ipython3",
   "version": "3.6.7"
  }
 },
 "nbformat": 4,
 "nbformat_minor": 2
}
