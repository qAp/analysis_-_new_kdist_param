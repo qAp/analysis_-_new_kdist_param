{
 "cells": [
  {
   "cell_type": "code",
   "execution_count": 29,
   "metadata": {
    "collapsed": true
   },
   "outputs": [],
   "source": [
    "%reload_ext autoreload\n",
    "%autoreload 2\n",
    "\n",
    "import os\n",
    "import pprint\n",
    "\n",
    "import pymongo\n",
    "\n",
    "from bokeh.io import output_notebook, show\n",
    "from bokeh.layouts import gridplot\n",
    "from bokeh.plotting import figure\n",
    "from bokeh.models import ColumnDataSource\n",
    "from bokeh.palettes import all_palettes\n",
    "\n",
    "from climatools.atm import *\n",
    "from climatools.dataset import *\n",
    "from climatools.spectrum import *\n",
    "from climatools.html.html import *\n",
    "from climatools.plot.plot import *\n",
    "from climatools.lblnew.bestfit_params import *\n",
    "\n",
    "from IPython import display"
   ]
  },
  {
   "cell_type": "code",
   "execution_count": 30,
   "metadata": {
    "scrolled": true
   },
   "outputs": [
    {
     "data": {
      "text/html": [
       "\n",
       "    <div class=\"bk-root\">\n",
       "        <a href=\"https://bokeh.pydata.org\" target=\"_blank\" class=\"bk-logo bk-logo-small bk-logo-notebook\"></a>\n",
       "        <span id=\"85108c15-72b2-446f-8814-6ecb71e78e46\">Loading BokehJS ...</span>\n",
       "    </div>"
      ]
     },
     "metadata": {},
     "output_type": "display_data"
    },
    {
     "data": {
      "application/javascript": [
       "\n",
       "(function(root) {\n",
       "  function now() {\n",
       "    return new Date();\n",
       "  }\n",
       "\n",
       "  var force = true;\n",
       "\n",
       "  if (typeof (root._bokeh_onload_callbacks) === \"undefined\" || force === true) {\n",
       "    root._bokeh_onload_callbacks = [];\n",
       "    root._bokeh_is_loading = undefined;\n",
       "  }\n",
       "\n",
       "  var JS_MIME_TYPE = 'application/javascript';\n",
       "  var HTML_MIME_TYPE = 'text/html';\n",
       "  var EXEC_MIME_TYPE = 'application/vnd.bokehjs_exec.v0+json';\n",
       "  var CLASS_NAME = 'output_bokeh rendered_html';\n",
       "\n",
       "  /**\n",
       "   * Render data to the DOM node\n",
       "   */\n",
       "  function render(props, node) {\n",
       "    var script = document.createElement(\"script\");\n",
       "    node.appendChild(script);\n",
       "  }\n",
       "\n",
       "  /**\n",
       "   * Handle when an output is cleared or removed\n",
       "   */\n",
       "  function handleClearOutput(event, handle) {\n",
       "    var cell = handle.cell;\n",
       "\n",
       "    var id = cell.output_area._bokeh_element_id;\n",
       "    var server_id = cell.output_area._bokeh_server_id;\n",
       "    // Clean up Bokeh references\n",
       "    if (id !== undefined) {\n",
       "      Bokeh.index[id].model.document.clear();\n",
       "      delete Bokeh.index[id];\n",
       "    }\n",
       "\n",
       "    if (server_id !== undefined) {\n",
       "      // Clean up Bokeh references\n",
       "      var cmd = \"from bokeh.io.state import curstate; print(curstate().uuid_to_server['\" + server_id + \"'].get_sessions()[0].document.roots[0]._id)\";\n",
       "      cell.notebook.kernel.execute(cmd, {\n",
       "        iopub: {\n",
       "          output: function(msg) {\n",
       "            var element_id = msg.content.text.trim();\n",
       "            Bokeh.index[element_id].model.document.clear();\n",
       "            delete Bokeh.index[element_id];\n",
       "          }\n",
       "        }\n",
       "      });\n",
       "      // Destroy server and session\n",
       "      var cmd = \"import bokeh.io.notebook as ion; ion.destroy_server('\" + server_id + \"')\";\n",
       "      cell.notebook.kernel.execute(cmd);\n",
       "    }\n",
       "  }\n",
       "\n",
       "  /**\n",
       "   * Handle when a new output is added\n",
       "   */\n",
       "  function handleAddOutput(event, handle) {\n",
       "    var output_area = handle.output_area;\n",
       "    var output = handle.output;\n",
       "\n",
       "    // limit handleAddOutput to display_data with EXEC_MIME_TYPE content only\n",
       "    if ((output.output_type != \"display_data\") || (!output.data.hasOwnProperty(EXEC_MIME_TYPE))) {\n",
       "      return\n",
       "    }\n",
       "\n",
       "    var toinsert = output_area.element.find(\".\" + CLASS_NAME.split(' ')[0]);\n",
       "\n",
       "    if (output.metadata[EXEC_MIME_TYPE][\"id\"] !== undefined) {\n",
       "      toinsert[toinsert.length - 1].firstChild.textContent = output.data[JS_MIME_TYPE];\n",
       "      // store reference to embed id on output_area\n",
       "      output_area._bokeh_element_id = output.metadata[EXEC_MIME_TYPE][\"id\"];\n",
       "    }\n",
       "    if (output.metadata[EXEC_MIME_TYPE][\"server_id\"] !== undefined) {\n",
       "      var bk_div = document.createElement(\"div\");\n",
       "      bk_div.innerHTML = output.data[HTML_MIME_TYPE];\n",
       "      var script_attrs = bk_div.children[0].attributes;\n",
       "      for (var i = 0; i < script_attrs.length; i++) {\n",
       "        toinsert[toinsert.length - 1].firstChild.setAttribute(script_attrs[i].name, script_attrs[i].value);\n",
       "      }\n",
       "      // store reference to server id on output_area\n",
       "      output_area._bokeh_server_id = output.metadata[EXEC_MIME_TYPE][\"server_id\"];\n",
       "    }\n",
       "  }\n",
       "\n",
       "  function register_renderer(events, OutputArea) {\n",
       "\n",
       "    function append_mime(data, metadata, element) {\n",
       "      // create a DOM node to render to\n",
       "      var toinsert = this.create_output_subarea(\n",
       "        metadata,\n",
       "        CLASS_NAME,\n",
       "        EXEC_MIME_TYPE\n",
       "      );\n",
       "      this.keyboard_manager.register_events(toinsert);\n",
       "      // Render to node\n",
       "      var props = {data: data, metadata: metadata[EXEC_MIME_TYPE]};\n",
       "      render(props, toinsert[toinsert.length - 1]);\n",
       "      element.append(toinsert);\n",
       "      return toinsert\n",
       "    }\n",
       "\n",
       "    /* Handle when an output is cleared or removed */\n",
       "    events.on('clear_output.CodeCell', handleClearOutput);\n",
       "    events.on('delete.Cell', handleClearOutput);\n",
       "\n",
       "    /* Handle when a new output is added */\n",
       "    events.on('output_added.OutputArea', handleAddOutput);\n",
       "\n",
       "    /**\n",
       "     * Register the mime type and append_mime function with output_area\n",
       "     */\n",
       "    OutputArea.prototype.register_mime_type(EXEC_MIME_TYPE, append_mime, {\n",
       "      /* Is output safe? */\n",
       "      safe: true,\n",
       "      /* Index of renderer in `output_area.display_order` */\n",
       "      index: 0\n",
       "    });\n",
       "  }\n",
       "\n",
       "  // register the mime type if in Jupyter Notebook environment and previously unregistered\n",
       "  if (root.Jupyter !== undefined) {\n",
       "    var events = require('base/js/events');\n",
       "    var OutputArea = require('notebook/js/outputarea').OutputArea;\n",
       "\n",
       "    if (OutputArea.prototype.mime_types().indexOf(EXEC_MIME_TYPE) == -1) {\n",
       "      register_renderer(events, OutputArea);\n",
       "    }\n",
       "  }\n",
       "\n",
       "  \n",
       "  if (typeof (root._bokeh_timeout) === \"undefined\" || force === true) {\n",
       "    root._bokeh_timeout = Date.now() + 5000;\n",
       "    root._bokeh_failed_load = false;\n",
       "  }\n",
       "\n",
       "  var NB_LOAD_WARNING = {'data': {'text/html':\n",
       "     \"<div style='background-color: #fdd'>\\n\"+\n",
       "     \"<p>\\n\"+\n",
       "     \"BokehJS does not appear to have successfully loaded. If loading BokehJS from CDN, this \\n\"+\n",
       "     \"may be due to a slow or bad network connection. Possible fixes:\\n\"+\n",
       "     \"</p>\\n\"+\n",
       "     \"<ul>\\n\"+\n",
       "     \"<li>re-rerun `output_notebook()` to attempt to load from CDN again, or</li>\\n\"+\n",
       "     \"<li>use INLINE resources instead, as so:</li>\\n\"+\n",
       "     \"</ul>\\n\"+\n",
       "     \"<code>\\n\"+\n",
       "     \"from bokeh.resources import INLINE\\n\"+\n",
       "     \"output_notebook(resources=INLINE)\\n\"+\n",
       "     \"</code>\\n\"+\n",
       "     \"</div>\"}};\n",
       "\n",
       "  function display_loaded() {\n",
       "    var el = document.getElementById(\"85108c15-72b2-446f-8814-6ecb71e78e46\");\n",
       "    if (el != null) {\n",
       "      el.textContent = \"BokehJS is loading...\";\n",
       "    }\n",
       "    if (root.Bokeh !== undefined) {\n",
       "      if (el != null) {\n",
       "        el.textContent = \"BokehJS \" + root.Bokeh.version + \" successfully loaded.\";\n",
       "      }\n",
       "    } else if (Date.now() < root._bokeh_timeout) {\n",
       "      setTimeout(display_loaded, 100)\n",
       "    }\n",
       "  }\n",
       "\n",
       "\n",
       "  function run_callbacks() {\n",
       "    try {\n",
       "      root._bokeh_onload_callbacks.forEach(function(callback) { callback() });\n",
       "    }\n",
       "    finally {\n",
       "      delete root._bokeh_onload_callbacks\n",
       "    }\n",
       "    console.info(\"Bokeh: all callbacks have finished\");\n",
       "  }\n",
       "\n",
       "  function load_libs(js_urls, callback) {\n",
       "    root._bokeh_onload_callbacks.push(callback);\n",
       "    if (root._bokeh_is_loading > 0) {\n",
       "      console.log(\"Bokeh: BokehJS is being loaded, scheduling callback at\", now());\n",
       "      return null;\n",
       "    }\n",
       "    if (js_urls == null || js_urls.length === 0) {\n",
       "      run_callbacks();\n",
       "      return null;\n",
       "    }\n",
       "    console.log(\"Bokeh: BokehJS not loaded, scheduling load and callback at\", now());\n",
       "    root._bokeh_is_loading = js_urls.length;\n",
       "    for (var i = 0; i < js_urls.length; i++) {\n",
       "      var url = js_urls[i];\n",
       "      var s = document.createElement('script');\n",
       "      s.src = url;\n",
       "      s.async = false;\n",
       "      s.onreadystatechange = s.onload = function() {\n",
       "        root._bokeh_is_loading--;\n",
       "        if (root._bokeh_is_loading === 0) {\n",
       "          console.log(\"Bokeh: all BokehJS libraries loaded\");\n",
       "          run_callbacks()\n",
       "        }\n",
       "      };\n",
       "      s.onerror = function() {\n",
       "        console.warn(\"failed to load library \" + url);\n",
       "      };\n",
       "      console.log(\"Bokeh: injecting script tag for BokehJS library: \", url);\n",
       "      document.getElementsByTagName(\"head\")[0].appendChild(s);\n",
       "    }\n",
       "  };var element = document.getElementById(\"85108c15-72b2-446f-8814-6ecb71e78e46\");\n",
       "  if (element == null) {\n",
       "    console.log(\"Bokeh: ERROR: autoload.js configured with elementid '85108c15-72b2-446f-8814-6ecb71e78e46' but no matching script tag was found. \")\n",
       "    return false;\n",
       "  }\n",
       "\n",
       "  var js_urls = [\"https://cdn.pydata.org/bokeh/release/bokeh-0.12.16.min.js\", \"https://cdn.pydata.org/bokeh/release/bokeh-widgets-0.12.16.min.js\", \"https://cdn.pydata.org/bokeh/release/bokeh-tables-0.12.16.min.js\", \"https://cdn.pydata.org/bokeh/release/bokeh-gl-0.12.16.min.js\"];\n",
       "\n",
       "  var inline_js = [\n",
       "    function(Bokeh) {\n",
       "      Bokeh.set_log_level(\"info\");\n",
       "    },\n",
       "    \n",
       "    function(Bokeh) {\n",
       "      \n",
       "    },\n",
       "    function(Bokeh) {\n",
       "      console.log(\"Bokeh: injecting CSS: https://cdn.pydata.org/bokeh/release/bokeh-0.12.16.min.css\");\n",
       "      Bokeh.embed.inject_css(\"https://cdn.pydata.org/bokeh/release/bokeh-0.12.16.min.css\");\n",
       "      console.log(\"Bokeh: injecting CSS: https://cdn.pydata.org/bokeh/release/bokeh-widgets-0.12.16.min.css\");\n",
       "      Bokeh.embed.inject_css(\"https://cdn.pydata.org/bokeh/release/bokeh-widgets-0.12.16.min.css\");\n",
       "      console.log(\"Bokeh: injecting CSS: https://cdn.pydata.org/bokeh/release/bokeh-tables-0.12.16.min.css\");\n",
       "      Bokeh.embed.inject_css(\"https://cdn.pydata.org/bokeh/release/bokeh-tables-0.12.16.min.css\");\n",
       "    }\n",
       "  ];\n",
       "\n",
       "  function run_inline_js() {\n",
       "    \n",
       "    if ((root.Bokeh !== undefined) || (force === true)) {\n",
       "      for (var i = 0; i < inline_js.length; i++) {\n",
       "        inline_js[i].call(root, root.Bokeh);\n",
       "      }if (force === true) {\n",
       "        display_loaded();\n",
       "      }} else if (Date.now() < root._bokeh_timeout) {\n",
       "      setTimeout(run_inline_js, 100);\n",
       "    } else if (!root._bokeh_failed_load) {\n",
       "      console.log(\"Bokeh: BokehJS failed to load within specified timeout.\");\n",
       "      root._bokeh_failed_load = true;\n",
       "    } else if (force !== true) {\n",
       "      var cell = $(document.getElementById(\"85108c15-72b2-446f-8814-6ecb71e78e46\")).parents('.cell').data().cell;\n",
       "      cell.output_area.append_execute_result(NB_LOAD_WARNING)\n",
       "    }\n",
       "\n",
       "  }\n",
       "\n",
       "  if (root._bokeh_is_loading === 0) {\n",
       "    console.log(\"Bokeh: BokehJS loaded, going straight to plotting\");\n",
       "    run_inline_js();\n",
       "  } else {\n",
       "    load_libs(js_urls, function() {\n",
       "      console.log(\"Bokeh: BokehJS plotting callback run at\", now());\n",
       "      run_inline_js();\n",
       "    });\n",
       "  }\n",
       "}(window));"
      ],
      "application/vnd.bokehjs_load.v0+json": "\n(function(root) {\n  function now() {\n    return new Date();\n  }\n\n  var force = true;\n\n  if (typeof (root._bokeh_onload_callbacks) === \"undefined\" || force === true) {\n    root._bokeh_onload_callbacks = [];\n    root._bokeh_is_loading = undefined;\n  }\n\n  \n\n  \n  if (typeof (root._bokeh_timeout) === \"undefined\" || force === true) {\n    root._bokeh_timeout = Date.now() + 5000;\n    root._bokeh_failed_load = false;\n  }\n\n  var NB_LOAD_WARNING = {'data': {'text/html':\n     \"<div style='background-color: #fdd'>\\n\"+\n     \"<p>\\n\"+\n     \"BokehJS does not appear to have successfully loaded. If loading BokehJS from CDN, this \\n\"+\n     \"may be due to a slow or bad network connection. Possible fixes:\\n\"+\n     \"</p>\\n\"+\n     \"<ul>\\n\"+\n     \"<li>re-rerun `output_notebook()` to attempt to load from CDN again, or</li>\\n\"+\n     \"<li>use INLINE resources instead, as so:</li>\\n\"+\n     \"</ul>\\n\"+\n     \"<code>\\n\"+\n     \"from bokeh.resources import INLINE\\n\"+\n     \"output_notebook(resources=INLINE)\\n\"+\n     \"</code>\\n\"+\n     \"</div>\"}};\n\n  function display_loaded() {\n    var el = document.getElementById(\"85108c15-72b2-446f-8814-6ecb71e78e46\");\n    if (el != null) {\n      el.textContent = \"BokehJS is loading...\";\n    }\n    if (root.Bokeh !== undefined) {\n      if (el != null) {\n        el.textContent = \"BokehJS \" + root.Bokeh.version + \" successfully loaded.\";\n      }\n    } else if (Date.now() < root._bokeh_timeout) {\n      setTimeout(display_loaded, 100)\n    }\n  }\n\n\n  function run_callbacks() {\n    try {\n      root._bokeh_onload_callbacks.forEach(function(callback) { callback() });\n    }\n    finally {\n      delete root._bokeh_onload_callbacks\n    }\n    console.info(\"Bokeh: all callbacks have finished\");\n  }\n\n  function load_libs(js_urls, callback) {\n    root._bokeh_onload_callbacks.push(callback);\n    if (root._bokeh_is_loading > 0) {\n      console.log(\"Bokeh: BokehJS is being loaded, scheduling callback at\", now());\n      return null;\n    }\n    if (js_urls == null || js_urls.length === 0) {\n      run_callbacks();\n      return null;\n    }\n    console.log(\"Bokeh: BokehJS not loaded, scheduling load and callback at\", now());\n    root._bokeh_is_loading = js_urls.length;\n    for (var i = 0; i < js_urls.length; i++) {\n      var url = js_urls[i];\n      var s = document.createElement('script');\n      s.src = url;\n      s.async = false;\n      s.onreadystatechange = s.onload = function() {\n        root._bokeh_is_loading--;\n        if (root._bokeh_is_loading === 0) {\n          console.log(\"Bokeh: all BokehJS libraries loaded\");\n          run_callbacks()\n        }\n      };\n      s.onerror = function() {\n        console.warn(\"failed to load library \" + url);\n      };\n      console.log(\"Bokeh: injecting script tag for BokehJS library: \", url);\n      document.getElementsByTagName(\"head\")[0].appendChild(s);\n    }\n  };var element = document.getElementById(\"85108c15-72b2-446f-8814-6ecb71e78e46\");\n  if (element == null) {\n    console.log(\"Bokeh: ERROR: autoload.js configured with elementid '85108c15-72b2-446f-8814-6ecb71e78e46' but no matching script tag was found. \")\n    return false;\n  }\n\n  var js_urls = [\"https://cdn.pydata.org/bokeh/release/bokeh-0.12.16.min.js\", \"https://cdn.pydata.org/bokeh/release/bokeh-widgets-0.12.16.min.js\", \"https://cdn.pydata.org/bokeh/release/bokeh-tables-0.12.16.min.js\", \"https://cdn.pydata.org/bokeh/release/bokeh-gl-0.12.16.min.js\"];\n\n  var inline_js = [\n    function(Bokeh) {\n      Bokeh.set_log_level(\"info\");\n    },\n    \n    function(Bokeh) {\n      \n    },\n    function(Bokeh) {\n      console.log(\"Bokeh: injecting CSS: https://cdn.pydata.org/bokeh/release/bokeh-0.12.16.min.css\");\n      Bokeh.embed.inject_css(\"https://cdn.pydata.org/bokeh/release/bokeh-0.12.16.min.css\");\n      console.log(\"Bokeh: injecting CSS: https://cdn.pydata.org/bokeh/release/bokeh-widgets-0.12.16.min.css\");\n      Bokeh.embed.inject_css(\"https://cdn.pydata.org/bokeh/release/bokeh-widgets-0.12.16.min.css\");\n      console.log(\"Bokeh: injecting CSS: https://cdn.pydata.org/bokeh/release/bokeh-tables-0.12.16.min.css\");\n      Bokeh.embed.inject_css(\"https://cdn.pydata.org/bokeh/release/bokeh-tables-0.12.16.min.css\");\n    }\n  ];\n\n  function run_inline_js() {\n    \n    if ((root.Bokeh !== undefined) || (force === true)) {\n      for (var i = 0; i < inline_js.length; i++) {\n        inline_js[i].call(root, root.Bokeh);\n      }if (force === true) {\n        display_loaded();\n      }} else if (Date.now() < root._bokeh_timeout) {\n      setTimeout(run_inline_js, 100);\n    } else if (!root._bokeh_failed_load) {\n      console.log(\"Bokeh: BokehJS failed to load within specified timeout.\");\n      root._bokeh_failed_load = true;\n    } else if (force !== true) {\n      var cell = $(document.getElementById(\"85108c15-72b2-446f-8814-6ecb71e78e46\")).parents('.cell').data().cell;\n      cell.output_area.append_execute_result(NB_LOAD_WARNING)\n    }\n\n  }\n\n  if (root._bokeh_is_loading === 0) {\n    console.log(\"Bokeh: BokehJS loaded, going straight to plotting\");\n    run_inline_js();\n  } else {\n    load_libs(js_urls, function() {\n      console.log(\"Bokeh: BokehJS plotting callback run at\", now());\n      run_inline_js();\n    });\n  }\n}(window));"
     },
     "metadata": {},
     "output_type": "display_data"
    }
   ],
   "source": [
    "output_notebook()\n",
    "client = pymongo.MongoClient('localhost', 27017)"
   ]
  },
  {
   "cell_type": "markdown",
   "metadata": {},
   "source": [
    "## Data"
   ]
  },
  {
   "cell_type": "code",
   "execution_count": 31,
   "metadata": {
    "collapsed": true
   },
   "outputs": [],
   "source": [
    "MOL = 'ch4'\n",
    "COMMITNUMBER = '1013f91'\n",
    "ATMPRO = dict(mls=294, saw=257, trp=300)"
   ]
  },
  {
   "cell_type": "code",
   "execution_count": 32,
   "metadata": {
    "collapsed": true
   },
   "outputs": [],
   "source": [
    "atmcomp = AtmComposition.cliradlw_nongreys(onlygas=MOL)"
   ]
  },
  {
   "cell_type": "code",
   "execution_count": 33,
   "metadata": {
    "collapsed": true
   },
   "outputs": [],
   "source": [
    "DCLI = {}\n",
    "for atmpro, _ in ATMPRO.items():\n",
    "    pcli = atmcomp.to_cliradparam(commitnumber=COMMITNUMBER, atmpro=atmpro, tsfc=ATMPRO[atmpro])\n",
    "    dcli = pcli.modeldata_pymongo(collection=client.cliradnew.lw)\n",
    "    DCLI[atmpro] = dcli"
   ]
  },
  {
   "cell_type": "code",
   "execution_count": 34,
   "metadata": {
    "collapsed": true
   },
   "outputs": [],
   "source": [
    "DCRD = {}"
   ]
  },
  {
   "cell_type": "code",
   "execution_count": 43,
   "metadata": {
    "collapsed": true
   },
   "outputs": [],
   "source": [
    "atmpro = 'trp'\n",
    "pcrds = atmcomp.to_lblnewparam(bestfit_values=True, atmpro=atmpro, tsfc=ATMPRO[atmpro])"
   ]
  },
  {
   "cell_type": "code",
   "execution_count": 44,
   "metadata": {
    "scrolled": true
   },
   "outputs": [
    {
     "data": {
      "text/plain": [
       "[['5014a19']]"
      ]
     },
     "execution_count": 44,
     "metadata": {},
     "output_type": "execute_result"
    }
   ],
   "source": [
    "cmts = [p.avail_commits(client.lblnew.bestfit_lw) for p in pcrds]\n",
    "cmts"
   ]
  },
  {
   "cell_type": "code",
   "execution_count": 45,
   "metadata": {
    "collapsed": true,
    "scrolled": false
   },
   "outputs": [],
   "source": [
    "commits = ['a06b618', '5014a19']\n",
    "dcrds = [p.modeldata_pymongo(collection=client.lblnew.bestfit_lw, commits=commits) for p in pcrds]\n",
    "\n",
    "dcrd = concat(*dcrds)\n",
    "DCRD[atmpro] = dcrd"
   ]
  },
  {
   "cell_type": "code",
   "execution_count": 46,
   "metadata": {},
   "outputs": [
    {
     "data": {
      "text/plain": [
       "({'mls': <climatools.dataset.CliradnewLWModelData at 0x2afdb02de048>,\n",
       "  'saw': <climatools.dataset.CliradnewLWModelData at 0x2afdd991cf28>,\n",
       "  'trp': <climatools.dataset.CliradnewLWModelData at 0x2afdd993f8d0>},\n",
       " {'mls': <climatools.dataset.LBLnewModelData at 0x2afdd991cf60>,\n",
       "  'saw': <climatools.dataset.LBLnewModelData at 0x2afdd9840160>,\n",
       "  'trp': <climatools.dataset.LBLnewModelData at 0x2afdd99480f0>})"
      ]
     },
     "execution_count": 46,
     "metadata": {},
     "output_type": "execute_result"
    }
   ],
   "source": [
    "DCLI, DCRD"
   ]
  },
  {
   "cell_type": "markdown",
   "metadata": {},
   "source": [
    "## Analysis code"
   ]
  },
  {
   "cell_type": "code",
   "execution_count": 47,
   "metadata": {
    "collapsed": true
   },
   "outputs": [],
   "source": [
    "def show_html(s):\n",
    "    display.display(display.HTML(s))\n",
    "\n",
    "def show_markdown(s):\n",
    "    display.display(display.Markdown(s))"
   ]
  },
  {
   "cell_type": "code",
   "execution_count": 48,
   "metadata": {
    "collapsed": true
   },
   "outputs": [],
   "source": [
    "def show_parameters(dcrd, dcli):\n",
    "    srss = [pd.Series(dcli.param, name=':D')]\n",
    "    srss_crd = [pd.Series(p) for p in dcrd.param]\n",
    "    df = pd.concat(srss_crd, axis=1, sort=True, keys=[f\"band{s['band']} {s['molecule']}\" for s in srss_crd])\n",
    "    srss.append(df)\n",
    "    df = pd.concat(srss, axis=1, sort=True, keys=['clirad-lw', 'lblnew-bestfit lw'])\n",
    "    df.fillna('-', inplace=True)\n",
    "    with pd.option_context('display.max_colwidth', 100):\n",
    "        display.display(df)"
   ]
  },
  {
   "cell_type": "code",
   "execution_count": 49,
   "metadata": {
    "collapsed": true
   },
   "outputs": [],
   "source": [
    "import rtmtools.clirad.sw.wrangle as cliradwrangle\n",
    "\n",
    "def oldclirad_data_atm():\n",
    "    '''\n",
    "    Load the OLD clirad's results. mls only.\n",
    "    '''\n",
    "    fpath = os.path.join('/chia_cluster/home/jackyu/radiation',\n",
    "                         'clirad-lw',\n",
    "                         'LW',\n",
    "                         'examples',\n",
    "                         'mls75_h2o_atmpro_co2_.0004_o3_atmpro_n2o_3.2e-7_ch4_1.8e-6_H2012',\n",
    "                         'OUTPUT_CLIRAD.dat')\n",
    "    \n",
    "    ds = cliradwrangle.load_OUTPUT_CLIRAD(readfrom=fpath)\n",
    "    \n",
    "    ds_cool = xr.Dataset()\n",
    "    ds_cool.coords['pressure'] = ('pressure', ds['layer_pressure'])\n",
    "    ds_cool.coords['band'] = ('band', ds['spectral_band'])\n",
    "    ds_cool['coolrg'] = (('band', 'pressure'), - ds['heating_rate'])\n",
    "    \n",
    "    ds_flux = xr.Dataset()\n",
    "    ds_flux.coords['pressure'] = ('pressure', ds['level_pressure'])\n",
    "    ds_flux.coords['band'] = ('band', ds['spectral_band'])\n",
    "    ds_flux['flug'] = (('band', 'pressure'), ds['flux_up'])\n",
    "    ds_flux['fldg'] = (('band', 'pressure'), ds['flux_down'])\n",
    "    ds_flux['fnetg'] = (('band', 'pressure'), ds['net_flux'])\n",
    "    \n",
    "    \n",
    "    d = {}\n",
    "    d['cool'] = ds_cool\n",
    "    d['flux'] = ds_flux\n",
    "    return d"
   ]
  },
  {
   "cell_type": "code",
   "execution_count": 50,
   "metadata": {
    "collapsed": true
   },
   "outputs": [],
   "source": [
    "def show_makeup():\n",
    "    df = pd.DataFrame()\n",
    "    for band, gs in atmcomp.gasinbands.items():\n",
    "        for g in gs:\n",
    "            df.loc[g, band] = str(atmcomp.gasconcs[g])\n",
    "\n",
    "    df = df.fillna(0)\n",
    "    df.columns.name = 'clirad band'\n",
    "    df.index.name = 'molecule'\n",
    "    \n",
    "    display.display(df)\n",
    "    display.display(display.Markdown('*TABLE.* Non-grey absorbers in the atmosphere.'))"
   ]
  },
  {
   "cell_type": "code",
   "execution_count": 51,
   "metadata": {
    "collapsed": true,
    "scrolled": false
   },
   "outputs": [],
   "source": [
    "def pltdata_cool(dcrd=None, dcli=None, atmpro='mls'):\n",
    "    colors = all_palettes['Set1'][4]\n",
    "    cool_cli = dcli.wgt_cool.sel(i=1).sum('band')['coolrg']\n",
    "    cool_crd = dcrd.crd_cool['coolrg'].sum('band').sum('g')\n",
    "    \n",
    "    data = [\n",
    "        {'label': 'CLIRAD',\n",
    "         'srs': cool_cli,\n",
    "         'line_dash': 'dashed', 'line_width': 5,\n",
    "         'color': colors[0], 'alpha': .6},\n",
    "        {'label': 'CRD',\n",
    "         'srs': cool_crd,\n",
    "         'line_dash': 'solid', 'line_width': 1.5,\n",
    "         'marker': 'circle', 'marker_size': 5,\n",
    "         'color': colors[2], 'alpha': 1}\n",
    "    ]\n",
    "    \n",
    "    # include old CLIRAD's results for mls profile\n",
    "#    if atmpro == 'mls':\n",
    "#        d_oldclirad = oldclirad_data_atm()\n",
    "#        ds_oldclirad = d_oldclirad['cool']        \n",
    "#        data.append(\n",
    "#            {'label': 'old CLIRAD (H2012)',\n",
    "#             'srs': fmt_cool(ds_oldclirad),\n",
    "#             'line_dash': 'solid', 'line_width': 1.5,\n",
    "#             'marker': 'square', 'marker_size': 3,\n",
    "#             'color': colors[3], 'alpha': .5})\n",
    "    return data\n",
    "\n",
    "\n",
    "def pltdata_cooldiff(dcrd=None, dcli=None, atmpro='mls'): \n",
    "    colors = all_palettes['Set1'][4]\n",
    "    cool_cli = dcli.wgt_cool.sel(i=1).sum('band')['coolrg']\n",
    "    cool_crd = dcrd.crd_cool['coolrg'].sum('band').sum('g')\n",
    "    cool_dif = cool_cli - cool_crd\n",
    "    \n",
    "    data = [\n",
    "        {'label': 'CLIRAD - CRD',\n",
    "         'srs': cool_dif,\n",
    "         'line_dash': 'solid', 'line_width': 1.5, \n",
    "         'marker': 'circle', 'marker_size': 7,\n",
    "         'color': colors[3], 'alpha': .8}\n",
    "    ]\n",
    "    \n",
    "    # include old CLIRAD's results for mls profile\n",
    "#    if atmpro == 'mls':\n",
    "#        d_oldclirad = oldclirad_data_atm()\n",
    "#        ds_oldclirad = d_oldclirad['cool']\n",
    "#        ds_oldclirad.coords['pressure'] = ds_crd.coords['pressure']\n",
    "#        ds_diff_old = ds_oldclirad.sum('band') - ds_crd.sum('band')\n",
    "#        data.append(\n",
    "#            {'label': 'old CLIRAD (H2012) - CRD',\n",
    "#             'srs': fmt_cool(ds_diff_old),\n",
    "#             'line_dash': 'dashed', 'line_width': 4,\n",
    "#             'color': colors[1], 'alpha': .5}\n",
    "#        )\n",
    "    return data\n",
    "\n",
    "\n",
    "def show_cool(dcrd=None, dcli=None, atmpro='mls'):\n",
    "    data_cool = pltdata_cool(dcrd, dcli, atmpro=atmpro)\n",
    "    p_cool_liny = plt_vert_profile_bokeh(pltdata=data_cool)\n",
    "    p_cool_logy = plt_vert_profile_bokeh(pltdata=data_cool, y_axis_type='log', prange=(.01, 200))\n",
    "    \n",
    "    data_cooldiff = pltdata_cooldiff(dcrd, dcli, atmpro=atmpro)\n",
    "    p_cooldiff_logy = plt_vert_profile_bokeh(pltdata=data_cooldiff, y_axis_type='log', prange=(.01, 200))\n",
    "    \n",
    "    everything = gridplot(p_cool_liny, p_cool_logy, p_cooldiff_logy, ncols=3)\n",
    "    show(everything)\n",
    "    display.display(display.Markdown('*FIGURE.* Cooling rates & difference.'))"
   ]
  },
  {
   "cell_type": "code",
   "execution_count": 52,
   "metadata": {
    "collapsed": true,
    "scrolled": false
   },
   "outputs": [],
   "source": [
    "def hist_band_vs_flux(da, title='Title'):\n",
    "    bands = [str(b.values) for b in da['band']]\n",
    "    source = ColumnDataSource(data={'band': bands, 'flux': da.values})\n",
    "    p = figure(x_range=bands, title=title)\n",
    "    p.vbar(source=source, x='band', top='flux', width=.9)\n",
    "    p.yaxis.axis_label = 'flux (W m-2)'\n",
    "    p.xaxis.axis_label = 'spectral band'\n",
    "    return p\n",
    "\n",
    "def show_hist_flux(dcrd=None, dcli=None, atmpro='mls'):\n",
    "    ds_crd = dcrd.crd_flux.sum('g')\n",
    "    ds_clirad = dcli.wgt_flux.sel(i=1)\n",
    "    \n",
    "    ip, varname = 0, 'flug'\n",
    "    da = (ds_clirad - ds_crd).isel(pressure=ip)[varname]\n",
    "    p_toa = hist_band_vs_flux(da, title='TOA flux. CLIRAD - CRD.')\n",
    "\n",
    "    ip, varname = -1, 'fldg'\n",
    "    da = (ds_clirad - ds_crd).isel(pressure=ip)[varname]\n",
    "    p_sfc = hist_band_vs_flux(da, title='SFC flux. CLIRAD - CRD.')    \n",
    "    \n",
    "    atm_crd = (ds_crd.isel(pressure=0) - ds_crd.isel(pressure=-1))['fnetg']\n",
    "    atm_clirad = (ds_clirad.isel(pressure=0) - ds_clirad.isel(pressure=-1))['fnetg']\n",
    "    da = atm_clirad - atm_crd\n",
    "    p_atm = hist_band_vs_flux(da, title='Atmosphere heating. CLIRAD - CRD.')\n",
    "\n",
    "    everything = gridplot(p_toa, p_sfc, p_atm, ncols=3, plot_width=300, plot_height=300)\n",
    "    \n",
    "    show(everything)\n",
    "    display.display(\n",
    "        display.Markdown('*FIGURE.* Difference between CLIRAD and CRD'\n",
    "          ' in TOA, SFC and net atmosphere flux,'\n",
    "          ' in each spectral band.'))\n",
    "\n",
    "def tb_flux(fluxcrd, fluxcli, atmpro='mls'):\n",
    "    '''\n",
    "    Return table that shows the difference between CRD and CLIRAD fluxes\n",
    "    at various levels.\n",
    "    '''\n",
    "    tropos = tropopause_pressures()\n",
    "    \n",
    "    olr_crd = fluxcrd['flug'].isel(pressure=0)\n",
    "    sfc_crd = fluxcrd['fldg'].isel(pressure=-1)\n",
    "    atm_crd = (fluxcrd.isel(pressure=0) - fluxcrd.isel(pressure=-1))['fnetg']\n",
    "    trop_up_crd = fluxcrd['flug'].sel(pressure=tropos[atmpro])\n",
    "    trop_down_crd = fluxcrd['fldg'].sel(pressure=tropos[atmpro])\n",
    "    trop_net_crd = fluxcrd['fnetg'].sel(pressure=tropos[atmpro])\n",
    "    \n",
    "    olr_cli = fluxcli['flug'].isel(pressure=0)\n",
    "    sfc_cli = fluxcli['fldg'].isel(pressure=-1)\n",
    "    atm_cli = (fluxcli.isel(pressure=0) - fluxcli.isel(pressure=-1))['fnetg']\n",
    "    trop_up_cli = fluxcli['flug'].sel(pressure=tropos[atmpro])\n",
    "    trop_down_cli = fluxcli['fldg'].sel(pressure=tropos[atmpro])\n",
    "    trop_net_cli = fluxcli['fnetg'].sel(pressure=tropos[atmpro])\n",
    "    \n",
    "    df = pd.DataFrame()\n",
    "    df.loc['CLIRAD - CRD', 'TOA up'] = (olr_cli - olr_crd).values\n",
    "    df.loc['CLIRAD - CRD', 'SFC down'] = (sfc_cli - sfc_crd).values\n",
    "    df.loc['CLIRAD - CRD', 'ATM heating'] = (atm_cli - atm_crd).values\n",
    "    df.loc['CLIRAD - CRD', 'tropo up'] = (trop_up_cli - trop_up_crd).values\n",
    "    df.loc['CLIRAD - CRD', 'tropo down'] = (trop_down_cli - trop_down_crd).values\n",
    "    df.loc['CLIRAD - CRD', 'tropo net'] = (trop_net_cli - trop_net_crd).values\n",
    "    df.loc['CRD', 'TOA up'] = olr_crd.values\n",
    "    df.loc['CRD', 'SFC down'] = sfc_crd.values\n",
    "    df.loc['CRD', 'ATM heating'] = atm_crd.values\n",
    "    df.loc['CRD', 'tropo up'] = trop_up_crd.values\n",
    "    df.loc['CRD', 'tropo down'] = trop_down_crd.values\n",
    "    df.loc['CRD', 'tropo net'] = trop_net_crd.values\n",
    "        \n",
    "    return df.astype('float').round(2)   \n",
    "    \n",
    "def show_tb_flux(dcrd=None, dcli=None, atmpro='mls'):\n",
    "    dfs = {}\n",
    "    fluxcrd = dcrd.crd_flux.sum(['band', 'g'])    \n",
    "    fluxcli = dcli.wgt_flux.sel(i=1).sum('band')\n",
    "    dfs['Sum over band'] = tb_flux(fluxcrd, fluxcli, atmpro=atmpro)\n",
    "    for b in dcrd.crd_flux['band']:\n",
    "        fluxcrd = dcrd.crd_flux.sum('g').sel(band=b)\n",
    "        fluxcli = dcli.wgt_flux.sel(i=1, band=b)\n",
    "        dfs[f'Band {int(b)}'] = tb_flux(fluxcrd, fluxcli, atmpro=atmpro)\n",
    "    dflist = [df for _, df in dfs.items()]\n",
    "    keys = [key for key, _ in dfs.items()]\n",
    "    df = pd.concat(dflist, axis=0, keys=keys)\n",
    "    \n",
    "#    if atmpro == 'mls':\n",
    "#        ds_oldclirad = oldclirad_data_atm()['flux']\n",
    "#        ds_oldclirad['pressure'] = ds_crd['pressure']\n",
    "#        olr_oldclirad = ds_oldclirad['flug'].isel(pressure=0)\n",
    "#        sfc_oldclirad = ds_oldclirad['fldg'].isel(pressure=-1)\n",
    "#        atm_oldclirad = (ds_oldclirad.isel(pressure=0)\n",
    "#                         - ds_oldclirad.isel(pressure=-1))['fnetg']\n",
    "   \n",
    "##    if atmpro == 'mls':\n",
    "##        df.loc['old CLIRAD - CRD', 'OLR flux'] = (fmt(olr_oldclirad) - fmt(olr_crd)).values\n",
    "##        df.loc['old CLIRAD - CRD', 'SFC flux'] = (fmt(sfc_oldclirad) - fmt(sfc_crd)).values\n",
    "##        df.loc['old CLIRAD - CRD', 'ATM heating'] = (fmt(atm_oldclirad) - fmt(atm_crd)).values\n",
    "    display.display(df)\n",
    "    display.display(\n",
    "        display.Markdown('*TABLE.* Difference between CLIRAD and CRD fluxes'\n",
    "          ' at various atmosphere levels.'))\n",
    "    \n",
    "#show_hist_flux(dcrd, dcli, atmpro='mls')\n",
    "#show_tb_flux(DCRD['mls'], DCLI['mls'], atmpro='mls')"
   ]
  },
  {
   "cell_type": "code",
   "execution_count": 53,
   "metadata": {
    "collapsed": true,
    "scrolled": true
   },
   "outputs": [],
   "source": [
    "def cool_tofile(atmpro=None):\n",
    "    dcli = clirad_data_atm(params_atm=[subparam_atm_clirad(atmpro=atmpro)])\n",
    "    dcrd = crd_data_atm(params_atm=subparams_atm_lblnew(atmpro=atmpro))\n",
    "    \n",
    "    dcli = dcli['cool'].sel(i=1).drop('i').sum('band')\n",
    "    dcrd = dcrd['cool'].sum('band')\n",
    "    \n",
    "    dcli = dcli['coolrg'].to_dataframe()\n",
    "    dcrd = dcrd['coolrg'].to_dataframe()\n",
    "    \n",
    "    dcli = dcli.set_index('layer', append=True)\n",
    "    dcrd = dcrd.set_index('layer', append=True)\n",
    "    \n",
    "    ddif = dcli - dcrd\n",
    "    \n",
    "    df = pd.concat([dcrd, dcli, ddif], axis=1, keys=['CRD', 'CLIRAD', 'CLIRAD - CRD'])\n",
    "    return df\n",
    "\n",
    "\n",
    "def flux_tofile(atmpro=None):\n",
    "    tropopauses = {'mls': 40, 'saw': 45, 'trp': 37}\n",
    "    ilevels = [0, tropopauses[atmpro], -1]\n",
    "    \n",
    "    dcli = clirad_data_atm(params_atm=[subparam_atm_clirad(atmpro=atmpro)])\n",
    "    dcrd = crd_data_atm(params_atm=subparams_atm_lblnew(atmpro=atmpro))\n",
    "    \n",
    "    dcli = dcli['flux'].sel(i=1).drop('i').sum('band').isel(pressure=ilevels)\n",
    "    dcrd = dcrd['flux'].sum('band').isel(pressure=ilevels)\n",
    "    \n",
    "    dcli = dcli.to_dataframe()\n",
    "    dcrd = dcrd.to_dataframe()\n",
    "    \n",
    "    dcli = dcli.set_index('level', append=True)\n",
    "    dcrd = dcrd.set_index('level', append=True)\n",
    "    \n",
    "    ddif = dcli - dcrd\n",
    "    \n",
    "    df = pd.concat([dcrd, dcli, ddif], axis=1, keys=['CRD', 'CLIRAD', 'CLIRAD - CRD'])\n",
    "    return df\n",
    "\n",
    "\n",
    "def script_tofile():\n",
    "    fname = f'results_{MOL}atm_cliradsinglerun.xlsx'\n",
    "    writer = pd.ExcelWriter(fname)\n",
    "    for atmpro in ('mls', 'saw', 'trp'):\n",
    "        dflux = flux_tofile(atmpro=atmpro)\n",
    "        dflux.to_excel(writer, f'flux {atmpro}')\n",
    "        \n",
    "        dcool = cool_tofile(atmpro=atmpro)\n",
    "        dcool.to_excel(writer, f'cool {atmpro}')\n",
    "        \n",
    "    html = f'Download: <a href=\"./{fname}\">{fname}</a>'\n",
    "    show_html(html) "
   ]
  },
  {
   "cell_type": "code",
   "execution_count": 54,
   "metadata": {
    "collapsed": true,
    "scrolled": false
   },
   "outputs": [],
   "source": [
    "def script():\n",
    "    \n",
    "    d_atm = {'mls': 'mid-latitude summer', 'saw': 'sub-arctic winter', 'trp': 'tropical'}\n",
    "    \n",
    "    s_makeup = 'Makeup of atmosphere.'\n",
    "    s_parameters = 'Parameters of runs.'\n",
    "    s_atmpro = '# {}'\n",
    "    s_cool = 'Cooling rates. {}.'\n",
    "    s_flux = 'Fluxes. {}.'\n",
    "    \n",
    "    atmpros = ['mls', 'saw', 'trp']\n",
    "    \n",
    "    # TOC\n",
    "    show_markdown('### Table of Contents')\n",
    "    show_html(getHTML_hrefanchor(s_makeup))\n",
    "    \n",
    "    for atmpro in atmpros:\n",
    "        show_markdown('**' + d_atm[atmpro] + '**')\n",
    "        show_html(getHTML_hrefanchor(s_parameters + f' {atmpro}'))\n",
    "        show_html(getHTML_hrefanchor(s_cool.format(atmpro)))\n",
    "        show_html(getHTML_hrefanchor(s_flux.format(atmpro)))\n",
    "\n",
    "    # Atmosphere makeup\n",
    "    show_html(getHTML_idanchor(s_makeup))\n",
    "    show_markdown(getMarkdown_sectitle(s_makeup))\n",
    "    show_makeup()\n",
    "        \n",
    "    for atmpro in atmpros:\n",
    "        dcrd, dcli = DCRD[atmpro], DCLI[atmpro]\n",
    "        \n",
    "        show_html(getHTML_idanchor(s_parameters + f' {atmpro}'))\n",
    "        show_markdown(getMarkdown_sectitle(s_parameters + f' {atmpro}'))\n",
    "        show_parameters(dcrd, dcli)\n",
    "        \n",
    "        show_html(getHTML_idanchor(s_cool.format(atmpro)))\n",
    "        show_markdown(getMarkdown_sectitle(s_cool.format(atmpro)))\n",
    "        show_cool(dcrd, dcli, atmpro=atmpro)\n",
    "        \n",
    "        show_html(getHTML_idanchor(s_flux.format(atmpro)))\n",
    "        show_markdown(getMarkdown_sectitle(s_flux.format(atmpro)))\n",
    "        show_hist_flux(dcrd, dcli, atmpro=atmpro)\n",
    "        show_tb_flux(dcrd, dcli, atmpro=atmpro)\n",
    "    \n",
    "    #script_tofile()"
   ]
  },
  {
   "cell_type": "markdown",
   "metadata": {},
   "source": [
    "## Analysis Result"
   ]
  },
  {
   "cell_type": "code",
   "execution_count": 55,
   "metadata": {
    "scrolled": false
   },
   "outputs": [
    {
     "data": {
      "text/markdown": [
       "### Table of Contents"
      ],
      "text/plain": [
       "<IPython.core.display.Markdown object>"
      ]
     },
     "metadata": {},
     "output_type": "display_data"
    },
    {
     "data": {
      "text/html": [
       "<a href=\"#Makeup_of_atmosphere.\">Makeup of atmosphere.</a>"
      ],
      "text/plain": [
       "<IPython.core.display.HTML object>"
      ]
     },
     "metadata": {},
     "output_type": "display_data"
    },
    {
     "data": {
      "text/markdown": [
       "**mid-latitude summer**"
      ],
      "text/plain": [
       "<IPython.core.display.Markdown object>"
      ]
     },
     "metadata": {},
     "output_type": "display_data"
    },
    {
     "data": {
      "text/html": [
       "<a href=\"#Parameters_of_runs._mls\">Parameters of runs. mls</a>"
      ],
      "text/plain": [
       "<IPython.core.display.HTML object>"
      ]
     },
     "metadata": {},
     "output_type": "display_data"
    },
    {
     "data": {
      "text/html": [
       "<a href=\"#Cooling_rates._mls.\">Cooling rates. mls.</a>"
      ],
      "text/plain": [
       "<IPython.core.display.HTML object>"
      ]
     },
     "metadata": {},
     "output_type": "display_data"
    },
    {
     "data": {
      "text/html": [
       "<a href=\"#Fluxes._mls.\">Fluxes. mls.</a>"
      ],
      "text/plain": [
       "<IPython.core.display.HTML object>"
      ]
     },
     "metadata": {},
     "output_type": "display_data"
    },
    {
     "data": {
      "text/markdown": [
       "**sub-arctic winter**"
      ],
      "text/plain": [
       "<IPython.core.display.Markdown object>"
      ]
     },
     "metadata": {},
     "output_type": "display_data"
    },
    {
     "data": {
      "text/html": [
       "<a href=\"#Parameters_of_runs._saw\">Parameters of runs. saw</a>"
      ],
      "text/plain": [
       "<IPython.core.display.HTML object>"
      ]
     },
     "metadata": {},
     "output_type": "display_data"
    },
    {
     "data": {
      "text/html": [
       "<a href=\"#Cooling_rates._saw.\">Cooling rates. saw.</a>"
      ],
      "text/plain": [
       "<IPython.core.display.HTML object>"
      ]
     },
     "metadata": {},
     "output_type": "display_data"
    },
    {
     "data": {
      "text/html": [
       "<a href=\"#Fluxes._saw.\">Fluxes. saw.</a>"
      ],
      "text/plain": [
       "<IPython.core.display.HTML object>"
      ]
     },
     "metadata": {},
     "output_type": "display_data"
    },
    {
     "data": {
      "text/markdown": [
       "**tropical**"
      ],
      "text/plain": [
       "<IPython.core.display.Markdown object>"
      ]
     },
     "metadata": {},
     "output_type": "display_data"
    },
    {
     "data": {
      "text/html": [
       "<a href=\"#Parameters_of_runs._trp\">Parameters of runs. trp</a>"
      ],
      "text/plain": [
       "<IPython.core.display.HTML object>"
      ]
     },
     "metadata": {},
     "output_type": "display_data"
    },
    {
     "data": {
      "text/html": [
       "<a href=\"#Cooling_rates._trp.\">Cooling rates. trp.</a>"
      ],
      "text/plain": [
       "<IPython.core.display.HTML object>"
      ]
     },
     "metadata": {},
     "output_type": "display_data"
    },
    {
     "data": {
      "text/html": [
       "<a href=\"#Fluxes._trp.\">Fluxes. trp.</a>"
      ],
      "text/plain": [
       "<IPython.core.display.HTML object>"
      ]
     },
     "metadata": {},
     "output_type": "display_data"
    },
    {
     "data": {
      "text/html": [
       "<a id=\"Makeup_of_atmosphere.\"></a>"
      ],
      "text/plain": [
       "<IPython.core.display.HTML object>"
      ]
     },
     "metadata": {},
     "output_type": "display_data"
    },
    {
     "data": {
      "text/markdown": [
       "# Makeup of atmosphere."
      ],
      "text/plain": [
       "<IPython.core.display.Markdown object>"
      ]
     },
     "metadata": {},
     "output_type": "display_data"
    },
    {
     "data": {
      "text/html": [
       "<div>\n",
       "<style scoped>\n",
       "    .dataframe tbody tr th:only-of-type {\n",
       "        vertical-align: middle;\n",
       "    }\n",
       "\n",
       "    .dataframe tbody tr th {\n",
       "        vertical-align: top;\n",
       "    }\n",
       "\n",
       "    .dataframe thead th {\n",
       "        text-align: right;\n",
       "    }\n",
       "</style>\n",
       "<table border=\"1\" class=\"dataframe\">\n",
       "  <thead>\n",
       "    <tr style=\"text-align: right;\">\n",
       "      <th>clirad band</th>\n",
       "      <th>9</th>\n",
       "    </tr>\n",
       "    <tr>\n",
       "      <th>molecule</th>\n",
       "      <th></th>\n",
       "    </tr>\n",
       "  </thead>\n",
       "  <tbody>\n",
       "    <tr>\n",
       "      <th>ch4</th>\n",
       "      <td>1.8e-06</td>\n",
       "    </tr>\n",
       "  </tbody>\n",
       "</table>\n",
       "</div>"
      ],
      "text/plain": [
       "clirad band        9\n",
       "molecule            \n",
       "ch4          1.8e-06"
      ]
     },
     "metadata": {},
     "output_type": "display_data"
    },
    {
     "data": {
      "text/markdown": [
       "*TABLE.* Non-grey absorbers in the atmosphere."
      ],
      "text/plain": [
       "<IPython.core.display.Markdown object>"
      ]
     },
     "metadata": {},
     "output_type": "display_data"
    },
    {
     "data": {
      "text/html": [
       "<a id=\"Parameters_of_runs._mls\"></a>"
      ],
      "text/plain": [
       "<IPython.core.display.HTML object>"
      ]
     },
     "metadata": {},
     "output_type": "display_data"
    },
    {
     "data": {
      "text/markdown": [
       "# Parameters of runs. mls"
      ],
      "text/plain": [
       "<IPython.core.display.Markdown object>"
      ]
     },
     "metadata": {},
     "output_type": "display_data"
    },
    {
     "data": {
      "text/html": [
       "<div>\n",
       "<style scoped>\n",
       "    .dataframe tbody tr th:only-of-type {\n",
       "        vertical-align: middle;\n",
       "    }\n",
       "\n",
       "    .dataframe tbody tr th {\n",
       "        vertical-align: top;\n",
       "    }\n",
       "\n",
       "    .dataframe thead tr th {\n",
       "        text-align: left;\n",
       "    }\n",
       "</style>\n",
       "<table border=\"1\" class=\"dataframe\">\n",
       "  <thead>\n",
       "    <tr>\n",
       "      <th></th>\n",
       "      <th>clirad-lw</th>\n",
       "      <th>lblnew-bestfit lw</th>\n",
       "    </tr>\n",
       "    <tr>\n",
       "      <th></th>\n",
       "      <th>:D</th>\n",
       "      <th>band7 ch4</th>\n",
       "    </tr>\n",
       "  </thead>\n",
       "  <tbody>\n",
       "    <tr>\n",
       "      <th>atmpro</th>\n",
       "      <td>mls</td>\n",
       "      <td>mls</td>\n",
       "    </tr>\n",
       "    <tr>\n",
       "      <th>band</th>\n",
       "      <td>[9]</td>\n",
       "      <td>7</td>\n",
       "    </tr>\n",
       "    <tr>\n",
       "      <th>commitnumber</th>\n",
       "      <td>1013f91</td>\n",
       "      <td>a06b618</td>\n",
       "    </tr>\n",
       "    <tr>\n",
       "      <th>conc</th>\n",
       "      <td>-</td>\n",
       "      <td>1.8e-06</td>\n",
       "    </tr>\n",
       "    <tr>\n",
       "      <th>dv</th>\n",
       "      <td>-</td>\n",
       "      <td>0.001</td>\n",
       "    </tr>\n",
       "    <tr>\n",
       "      <th>klin</th>\n",
       "      <td>-</td>\n",
       "      <td>2e-21</td>\n",
       "    </tr>\n",
       "    <tr>\n",
       "      <th>molecule</th>\n",
       "      <td>{'ch4': 1.8e-06}</td>\n",
       "      <td>ch4</td>\n",
       "    </tr>\n",
       "    <tr>\n",
       "      <th>ng_adju</th>\n",
       "      <td>-</td>\n",
       "      <td>[0, 0]</td>\n",
       "    </tr>\n",
       "    <tr>\n",
       "      <th>ng_refs</th>\n",
       "      <td>-</td>\n",
       "      <td>[2, 3]</td>\n",
       "    </tr>\n",
       "    <tr>\n",
       "      <th>nv</th>\n",
       "      <td>-</td>\n",
       "      <td>1000</td>\n",
       "    </tr>\n",
       "    <tr>\n",
       "      <th>option_compute_btable</th>\n",
       "      <td>-</td>\n",
       "      <td>0</td>\n",
       "    </tr>\n",
       "    <tr>\n",
       "      <th>option_compute_ktable</th>\n",
       "      <td>-</td>\n",
       "      <td>1</td>\n",
       "    </tr>\n",
       "    <tr>\n",
       "      <th>option_wgt_flux</th>\n",
       "      <td>-</td>\n",
       "      <td>1</td>\n",
       "    </tr>\n",
       "    <tr>\n",
       "      <th>option_wgt_k</th>\n",
       "      <td>-</td>\n",
       "      <td>1</td>\n",
       "    </tr>\n",
       "    <tr>\n",
       "      <th>ref_pts</th>\n",
       "      <td>-</td>\n",
       "      <td>[[1, 250], [500, 250]]</td>\n",
       "    </tr>\n",
       "    <tr>\n",
       "      <th>tsfc</th>\n",
       "      <td>294</td>\n",
       "      <td>294</td>\n",
       "    </tr>\n",
       "    <tr>\n",
       "      <th>vmax</th>\n",
       "      <td>-</td>\n",
       "      <td>1380</td>\n",
       "    </tr>\n",
       "    <tr>\n",
       "      <th>vmin</th>\n",
       "      <td>-</td>\n",
       "      <td>1215</td>\n",
       "    </tr>\n",
       "    <tr>\n",
       "      <th>w_diffuse</th>\n",
       "      <td>-</td>\n",
       "      <td>[[1.66, 1.66], [1.66, 1.66, 1.66]]</td>\n",
       "    </tr>\n",
       "    <tr>\n",
       "      <th>wgt</th>\n",
       "      <td>-</td>\n",
       "      <td>[[0.7, 0.7], [0.4, 0.6, 0.75]]</td>\n",
       "    </tr>\n",
       "  </tbody>\n",
       "</table>\n",
       "</div>"
      ],
      "text/plain": [
       "                              clirad-lw                   lblnew-bestfit lw\n",
       "                                     :D                           band7 ch4\n",
       "atmpro                              mls                                 mls\n",
       "band                                [9]                                   7\n",
       "commitnumber                    1013f91                             a06b618\n",
       "conc                                  -                             1.8e-06\n",
       "dv                                    -                               0.001\n",
       "klin                                  -                               2e-21\n",
       "molecule               {'ch4': 1.8e-06}                                 ch4\n",
       "ng_adju                               -                              [0, 0]\n",
       "ng_refs                               -                              [2, 3]\n",
       "nv                                    -                                1000\n",
       "option_compute_btable                 -                                   0\n",
       "option_compute_ktable                 -                                   1\n",
       "option_wgt_flux                       -                                   1\n",
       "option_wgt_k                          -                                   1\n",
       "ref_pts                               -              [[1, 250], [500, 250]]\n",
       "tsfc                                294                                 294\n",
       "vmax                                  -                                1380\n",
       "vmin                                  -                                1215\n",
       "w_diffuse                             -  [[1.66, 1.66], [1.66, 1.66, 1.66]]\n",
       "wgt                                   -      [[0.7, 0.7], [0.4, 0.6, 0.75]]"
      ]
     },
     "metadata": {},
     "output_type": "display_data"
    },
    {
     "data": {
      "text/html": [
       "<a id=\"Cooling_rates._mls.\"></a>"
      ],
      "text/plain": [
       "<IPython.core.display.HTML object>"
      ]
     },
     "metadata": {},
     "output_type": "display_data"
    },
    {
     "data": {
      "text/markdown": [
       "# Cooling rates. mls."
      ],
      "text/plain": [
       "<IPython.core.display.Markdown object>"
      ]
     },
     "metadata": {},
     "output_type": "display_data"
    },
    {
     "data": {
      "text/html": [
       "\n",
       "<div class=\"bk-root\">\n",
       "    <div class=\"bk-plotdiv\" id=\"09f99d35-ec3f-41ab-8952-f0e55811754d\"></div>\n",
       "</div>"
      ]
     },
     "metadata": {},
     "output_type": "display_data"
    },
    {
     "data": {
      "application/javascript": [
       "(function(root) {\n",
       "  function embed_document(root) {\n",
       "    \n",
       "  var docs_json = {\"ebc2d0e0-7ed2-46b5-8283-6fc0b41c5f33\":{\"roots\":{\"references\":[{\"attributes\":{\"items\":[{\"id\":\"c40f7a2a-e652-4b3e-bcd7-72ab3faf75ca\",\"type\":\"LegendItem\"},{\"id\":\"e49cf3ed-0635-43ce-9971-a920d469c712\",\"type\":\"LegendItem\"}],\"label_text_font_size\":{\"value\":\"8pt\"},\"location\":\"top_center\",\"orientation\":\"horizontal\",\"plot\":{\"id\":\"d24b8a98-1946-4782-afde-ae4174b3033d\",\"subtype\":\"Figure\",\"type\":\"Plot\"}},\"id\":\"f2107ee4-a951-46e8-ab6b-21f9d684e912\",\"type\":\"Legend\"},{\"attributes\":{\"source\":{\"id\":\"1af9461b-889d-4619-b190-566706d742b6\",\"type\":\"ColumnDataSource\"}},\"id\":\"78584b56-5913-4244-9b2c-99c0afb3d079\",\"type\":\"CDSView\"},{\"attributes\":{\"source\":{\"id\":\"ca24781c-d24e-440e-bf6c-634bb4f08d98\",\"type\":\"ColumnDataSource\"}},\"id\":\"e3b3ae12-bfa4-4f80-a8d2-884f881ae93f\",\"type\":\"CDSView\"},{\"attributes\":{},\"id\":\"d5a4b0a1-538d-4274-bfd0-f4221d0672a0\",\"type\":\"SaveTool\"},{\"attributes\":{},\"id\":\"08a73345-4852-42f0-b9a8-3ebd3f8a131d\",\"type\":\"LinearScale\"},{\"attributes\":{\"bottom_units\":\"screen\",\"fill_alpha\":{\"value\":0.5},\"fill_color\":{\"value\":\"lightgrey\"},\"left_units\":\"screen\",\"level\":\"overlay\",\"line_alpha\":{\"value\":1.0},\"line_color\":{\"value\":\"black\"},\"line_dash\":[4,4],\"line_width\":{\"value\":2},\"plot\":null,\"render_mode\":\"css\",\"right_units\":\"screen\",\"top_units\":\"screen\"},\"id\":\"4cdd75de-a78b-4aaf-a547-ac950d208f48\",\"type\":\"BoxAnnotation\"},{\"attributes\":{\"overlay\":{\"id\":\"d72c3ebd-9f8f-4e32-8cf8-7f2b363de503\",\"type\":\"BoxAnnotation\"}},\"id\":\"b7c084db-8f31-471c-9a72-b2a109252a73\",\"type\":\"BoxZoomTool\"},{\"attributes\":{},\"id\":\"4dc2a2d4-87e8-4f7f-b11e-99be2a9fc221\",\"type\":\"WheelZoomTool\"},{\"attributes\":{},\"id\":\"a1a3ce14-78fb-49bf-bbf5-6e885ac7b6d5\",\"type\":\"BasicTicker\"},{\"attributes\":{\"callback\":null,\"end\":0.04096057974292,\"start\":-0.019921148730920008},\"id\":\"50f2141e-ef04-4406-8b75-0bb14401b27a\",\"type\":\"Range1d\"},{\"attributes\":{\"num_minor_ticks\":10},\"id\":\"ebb2c413-7ec9-4ecf-888d-ea3658d3838d\",\"type\":\"LogTicker\"},{\"attributes\":{},\"id\":\"f8a72bb8-86d6-4bee-acff-f5d5d2f4d167\",\"type\":\"LogScale\"},{\"attributes\":{},\"id\":\"630ef876-fbcd-4c19-954e-c9105069be72\",\"type\":\"UnionRenderers\"},{\"attributes\":{\"axis_label\":\"cooling rate [K/day]\",\"formatter\":{\"id\":\"6b2984cd-dc36-46a5-a06e-e89f04fa0323\",\"type\":\"BasicTickFormatter\"},\"plot\":{\"id\":\"d24b8a98-1946-4782-afde-ae4174b3033d\",\"subtype\":\"Figure\",\"type\":\"Plot\"},\"ticker\":{\"id\":\"edad38b2-55b2-4c72-9778-4c9af12c793f\",\"type\":\"BasicTicker\"}},\"id\":\"c48e9e59-7363-4ce6-a0eb-ea74376266e6\",\"type\":\"LinearAxis\"},{\"attributes\":{\"source\":{\"id\":\"d9692df0-0732-4034-a31b-24ec5ec045d1\",\"type\":\"ColumnDataSource\"}},\"id\":\"1b1860b9-e1b6-4c92-8c52-88e932c97933\",\"type\":\"CDSView\"},{\"attributes\":{\"callback\":null,\"end\":0.0838764394485,\"start\":-0.0332674595985},\"id\":\"4b99fe77-1a9f-487b-8361-01cfc3512c82\",\"type\":\"Range1d\"},{\"attributes\":{},\"id\":\"55214de5-eec1-4923-9815-29c8d55a06c7\",\"type\":\"BasicTicker\"},{\"attributes\":{\"callback\":null,\"data\":{\"x\":{\"__ndarray__\":\"MMuxyPpuur9qCV/SckK6v+hTEw3y27m/qQAWqrVuub+AP4ApmwG5v6PyjdvQlri/qY5YDqIuuL8QIKbi98q3v3y684Ddbbe/k3ICrdMat797E18Vx9a2vzdLgnSWp7a/pkc3uzaWtr9gCQjJ+qe2vyzKbsE1zLW/m+H9327Psb8mYgHlJEWlv9d2WW7h83u/qf8Ys6LioT/PIx0B+Lm1P6iWGYatfsI/b2cP4nylyz96BKQEcuDRP1nSemF9OtE/c185CFsYyT+S9TSyOzfAP1OWKUFlobM/jKn/6Tz0pj+RslxYV+ibP3K0E2FJd5I/N0pSQFKSiD+OL9Ao88x8P/CSLRhYPm8/DtI8rr8QWT+p8s/AaUthvzdrJGC72X2/zbaxLkFkiL8MPoE7RjWQv1rjZMm5oJW/WEkj35eFm79rXN3E4Aeev1j9xgZUnpy/IhNzf6PMmr8pcjPHGBeZv6m5A6wcS5e/mWHt8NpTlb+upZMUFSmTvyJ+I9VOyJC/yfcSmzxljL+z/wpWi9+Gvzi9YjYLJIG/QAY0ZaC6dr+Qv/ivv5Rmv7CYFalOa/c+DRlB3PZHZz/GmONl1pJ3P+kRgH/4AoI/RZbPuAyKiD9dXTf42GaPPxKSIElYUJM/L5Mf4aUglz9ff9DRKiubP6wgFlkKeJ8/EjsW/a4Hoj/6Cn7W1nqkP6QYU+7DEKc/UBjkiw6xqT9+V/NAxSisP7wdcR58RK4/+y1Upvb/rz+khvOSCcewPwcyc3fklrE/7FSTBWeHsj+DbBnspq2zP5pg+ASpLbU/\",\"dtype\":\"float64\",\"shape\":[75]},\"y\":{\"__ndarray__\":\"GhExyth1ND/Sv8nbtpRIP2vylNV0PVE/aTum7souWD/At0SJ8fVgPw3Iuahxymc/MSNhhJWvcD/bTfBN02d3P2zb5nxnaoA/CD5h5MAGhz8NmeH1TyaQP+zrCsc9p5Y/LbKd76fGnz/bLW5ISEmmPww9YvTcQq8/JV2OstnstT8Er5Y7M8G+P0c+r3jqkcU/5h99k6ZBzj88bCIzFzjVP4enV8oyxN0//yH99nXg5D8qOpLLf0jtP5kqGJXUifQ/c9cS8kHP/D+/DpwzojQEQIEmwoanVwxA4lgXt9HgE0BSSZ2AJuIbQAMJih9jjiNA5q4l5INuK0AwTKYKRj0zQNv5fmq8/DpAaCJseHrtQkB/+zpwzoxKQM3MzMzMeFJAZmZmZmZqWEAAAAAAAFxeQM3MzMzMJmJAmpmZmZkfZUBmZmZmZhhoQDMzMzMzEWtAAAAAAAAKbkBmZmZmZoFwQM3MzMzM/XFAMzMzMzN6c0CamZmZmfZ0QAAAAAAAc3ZAZmZmZmbvd0DNzMzMzGt5QDMzMzMz6HpAmpmZmZlkfEAAAAAAAOF9QGZmZmZmXX9AZmZmZuZsgECamZmZGSuBQM3MzMxM6YFAAAAAAICngkAzMzMzs2WDQGZmZmbmI4RAmpmZmRnihEDNzMzMTKCFQAAAAACAXoZAMzMzM7Mch0BmZmZm5tqHQJqZmZkZmYhAzczMzExXiUAAAAAAgBWKQDMzMzOz04pAZmZmZuaRi0CamZmZGVCMQM3MzMxMDo1AAAAAAIDMjUAzMzMzs4qOQGZmZmbmSI9A\",\"dtype\":\"float64\",\"shape\":[75]}},\"selected\":{\"id\":\"9838ef17-c1a4-43de-9710-583dc5b6293b\",\"type\":\"Selection\"},\"selection_policy\":{\"id\":\"fd10e9e2-d6e9-4171-885c-2b46a2bdc901\",\"type\":\"UnionRenderers\"}},\"id\":\"704f1ab7-2467-4f15-8e3b-e92c26a12ff3\",\"type\":\"ColumnDataSource\"},{\"attributes\":{\"bottom_units\":\"screen\",\"fill_alpha\":{\"value\":0.5},\"fill_color\":{\"value\":\"lightgrey\"},\"left_units\":\"screen\",\"level\":\"overlay\",\"line_alpha\":{\"value\":1.0},\"line_color\":{\"value\":\"black\"},\"line_dash\":[4,4],\"line_width\":{\"value\":2},\"plot\":null,\"render_mode\":\"css\",\"right_units\":\"screen\",\"top_units\":\"screen\"},\"id\":\"f07579ea-d3f1-4df4-80d5-48964e9f026d\",\"type\":\"BoxAnnotation\"},{\"attributes\":{\"data_source\":{\"id\":\"75c60ad7-0c19-4669-8a66-2124dd213d21\",\"type\":\"ColumnDataSource\"},\"glyph\":{\"id\":\"ab6fcbdc-38ca-4c46-822a-2cdb8c9534ba\",\"type\":\"Line\"},\"hover_glyph\":null,\"muted_glyph\":null,\"nonselection_glyph\":{\"id\":\"a50b3fd5-92d3-4649-9004-ba47216dc323\",\"type\":\"Line\"},\"selection_glyph\":null,\"view\":{\"id\":\"1ee06c3f-bff5-44ae-9b7c-c2833cbec22d\",\"type\":\"CDSView\"}},\"id\":\"fd35e723-f60e-43f3-8c91-ab1d6c1fc836\",\"type\":\"GlyphRenderer\"},{\"attributes\":{},\"id\":\"146a2981-10bf-4a1f-8ffa-cd9f6e557359\",\"type\":\"WheelZoomTool\"},{\"attributes\":{\"callback\":null,\"end\":0.01,\"start\":1020},\"id\":\"9dae7d76-a083-4c3e-890b-fb842bcb2c45\",\"type\":\"Range1d\"},{\"attributes\":{\"data_source\":{\"id\":\"704f1ab7-2467-4f15-8e3b-e92c26a12ff3\",\"type\":\"ColumnDataSource\"},\"glyph\":{\"id\":\"990e4935-164b-461e-9178-71515045431b\",\"type\":\"Line\"},\"hover_glyph\":null,\"muted_glyph\":null,\"nonselection_glyph\":{\"id\":\"8ce02dfd-9037-4246-a159-a86d1dbc95ea\",\"type\":\"Line\"},\"selection_glyph\":null,\"view\":{\"id\":\"260da390-2dd4-4d4c-954a-80acf837dbc9\",\"type\":\"CDSView\"}},\"id\":\"6df28c40-c6cd-41ff-8e2c-2224fc4dbb26\",\"type\":\"GlyphRenderer\"},{\"attributes\":{\"above\":[{\"id\":\"9b91319f-54e6-40ae-a29a-392e17eb5331\",\"type\":\"Legend\"}],\"below\":[{\"id\":\"683048dd-a08e-4a66-8385-24bab6e81bf4\",\"type\":\"LinearAxis\"}],\"left\":[{\"id\":\"a3318270-87d9-41e9-920b-25e2c0ceb051\",\"type\":\"LogAxis\"}],\"plot_width\":300,\"renderers\":[{\"id\":\"683048dd-a08e-4a66-8385-24bab6e81bf4\",\"type\":\"LinearAxis\"},{\"id\":\"95610b9b-c752-41c5-9f23-bf067f8656f2\",\"type\":\"Grid\"},{\"id\":\"a3318270-87d9-41e9-920b-25e2c0ceb051\",\"type\":\"LogAxis\"},{\"id\":\"4de48ff0-054e-41f3-abe8-0b43abfdda22\",\"type\":\"Grid\"},{\"id\":\"4cdd75de-a78b-4aaf-a547-ac950d208f48\",\"type\":\"BoxAnnotation\"},{\"id\":\"fd35e723-f60e-43f3-8c91-ab1d6c1fc836\",\"type\":\"GlyphRenderer\"},{\"id\":\"b19968e8-0f85-40f5-a6e5-1e1574bdb16d\",\"type\":\"GlyphRenderer\"},{\"id\":\"6df28c40-c6cd-41ff-8e2c-2224fc4dbb26\",\"type\":\"GlyphRenderer\"},{\"id\":\"9b91319f-54e6-40ae-a29a-392e17eb5331\",\"type\":\"Legend\"}],\"title\":{\"id\":\"25618105-0a41-4a21-81a5-435f0c46e2bd\",\"type\":\"Title\"},\"toolbar\":{\"id\":\"294180c5-78f2-402f-9a5c-a6768ccec167\",\"type\":\"Toolbar\"},\"toolbar_location\":null,\"x_range\":{\"id\":\"3106c84b-a3d5-43f4-b464-d7ddd01baa4c\",\"type\":\"Range1d\"},\"x_scale\":{\"id\":\"533a2b63-cbdf-467d-8e0f-4712be1f9fdf\",\"type\":\"LinearScale\"},\"y_range\":{\"id\":\"9dae7d76-a083-4c3e-890b-fb842bcb2c45\",\"type\":\"Range1d\"},\"y_scale\":{\"id\":\"f8a72bb8-86d6-4bee-acff-f5d5d2f4d167\",\"type\":\"LogScale\"}},\"id\":\"b356e9d9-775c-4e57-bb53-2f4181e77f89\",\"subtype\":\"Figure\",\"type\":\"Plot\"},{\"attributes\":{},\"id\":\"ba645f10-8fca-4e10-8dd8-a6bd42d4acea\",\"type\":\"PanTool\"},{\"attributes\":{\"dimension\":1,\"plot\":{\"id\":\"b356e9d9-775c-4e57-bb53-2f4181e77f89\",\"subtype\":\"Figure\",\"type\":\"Plot\"},\"ticker\":{\"id\":\"ebb2c413-7ec9-4ecf-888d-ea3658d3838d\",\"type\":\"LogTicker\"}},\"id\":\"4de48ff0-054e-41f3-abe8-0b43abfdda22\",\"type\":\"Grid\"},{\"attributes\":{},\"id\":\"3702f11b-550b-47e2-ad81-0af3de571a92\",\"type\":\"SaveTool\"},{\"attributes\":{\"callback\":null,\"data\":{\"x\":{\"__ndarray__\":\"CPKnHk0bsL+cG8bpk/ivv68qd3Zkcq+/1CGnF8vgrr+Mmuc87lGuv2J2TGaHu62/kD7ydqAorb/hb+FkDo6sv9ADlJCM+Ku/Y62pRadbq7/rVatJzMCqv6ErxRm5Kqq/qUgbzeWUqb9fp/bBsP6ovyMbh3ve7aa/7Qt2MFN0oL+hRIPIrT+Fvyd/nNWnwZE/L/eUX7Biqj+Ua8OO6ue3P8jmT8Abd8I/+lzx/aI+yj9dFMEo1qPQP5mwBdbUptA/Oipx/NShyj9ykOdl2h/DP8WfzDLQJLk/7tFnfGnOrT/t4mObRwqgP66TAiT9apA/SnnmU3JPgT8PY2+1kHh0PzB3R3Uj9G8/IjGnpgkEZj9dixMx/lxRv3kCxfY45ny/Uw/Evgziib9R7NO37feRv8h3O1iFIZi/IK3HA+VEnr+W10J35nGgv8FQo2qds5+/QnEgVESunb87SVU7DKubv2uLquBpkpm/Th7XBQpcl79+B4OO/fyUv2MEqDcQg5K/ELJ4Jj67j7+7ioCbqTaKv61+b0qun4S/ExxsqNc4fr+KYSZReBdzv4tr4+RKcWC/dNVa5l0GRj+Q9fdC315sPwuE7BZrOno/1qYYfGZ9gz+BLC3rSkCKP3iUfWnnupA/2RiFbkCVlD9OQNm1OaWYPwRhwPXVE50/p3jq/qLloD9RktsaBGKjP6vH/CpgBaY/VaGQg2OtqD9ct+V84TCrP5PWJOfgc60/AFTUDdJbrz8H7ctV0I2wPxMwSmh8c7E/76SS9Sxssj/BIRz/eo+zP1qxPmyJ37Q/\",\"dtype\":\"float64\",\"shape\":[75]},\"y\":{\"__ndarray__\":\"GhExyth1ND/Sv8nbtpRIP2vylNV0PVE/aTum7souWD/At0SJ8fVgPw3Iuahxymc/MSNhhJWvcD/bTfBN02d3P2zb5nxnaoA/CD5h5MAGhz8NmeH1TyaQP+zrCsc9p5Y/LbKd76fGnz/bLW5ISEmmPww9YvTcQq8/JV2OstnstT8Er5Y7M8G+P0c+r3jqkcU/5h99k6ZBzj88bCIzFzjVP4enV8oyxN0//yH99nXg5D8qOpLLf0jtP5kqGJXUifQ/c9cS8kHP/D+/DpwzojQEQIEmwoanVwxA4lgXt9HgE0BSSZ2AJuIbQAMJih9jjiNA5q4l5INuK0AwTKYKRj0zQNv5fmq8/DpAaCJseHrtQkB/+zpwzoxKQM3MzMzMeFJAZmZmZmZqWEAAAAAAAFxeQM3MzMzMJmJAmpmZmZkfZUBmZmZmZhhoQDMzMzMzEWtAAAAAAAAKbkBmZmZmZoFwQM3MzMzM/XFAMzMzMzN6c0CamZmZmfZ0QAAAAAAAc3ZAZmZmZmbvd0DNzMzMzGt5QDMzMzMz6HpAmpmZmZlkfEAAAAAAAOF9QGZmZmZmXX9AZmZmZuZsgECamZmZGSuBQM3MzMxM6YFAAAAAAICngkAzMzMzs2WDQGZmZmbmI4RAmpmZmRnihEDNzMzMTKCFQAAAAACAXoZAMzMzM7Mch0BmZmZm5tqHQJqZmZkZmYhAzczMzExXiUAAAAAAgBWKQDMzMzOz04pAZmZmZuaRi0CamZmZGVCMQM3MzMxMDo1AAAAAAIDMjUAzMzMzs4qOQGZmZmbmSI9A\",\"dtype\":\"float64\",\"shape\":[75]}},\"selected\":{\"id\":\"c5f8ad99-211c-46b0-a898-07f091dcf266\",\"type\":\"Selection\"},\"selection_policy\":{\"id\":\"824dec96-8041-4853-865f-6277104e9fe0\",\"type\":\"UnionRenderers\"}},\"id\":\"1af9461b-889d-4619-b190-566706d742b6\",\"type\":\"ColumnDataSource\"},{\"attributes\":{\"source\":{\"id\":\"e6f448a0-5b72-4b03-98d6-0c7a462cc943\",\"type\":\"ColumnDataSource\"}},\"id\":\"ca78c047-26ae-4274-9be2-01ffe806a1d6\",\"type\":\"CDSView\"},{\"attributes\":{\"plot\":{\"id\":\"b356e9d9-775c-4e57-bb53-2f4181e77f89\",\"subtype\":\"Figure\",\"type\":\"Plot\"},\"ticker\":{\"id\":\"55214de5-eec1-4923-9815-29c8d55a06c7\",\"type\":\"BasicTicker\"}},\"id\":\"95610b9b-c752-41c5-9f23-bf067f8656f2\",\"type\":\"Grid\"},{\"attributes\":{\"toolbar\":{\"id\":\"0bc53e64-46d0-48d7-87ac-f60feda56dce\",\"type\":\"ProxyToolbar\"},\"toolbar_location\":\"above\"},\"id\":\"6fd5664c-24d5-42ac-82e0-133826110caf\",\"type\":\"ToolbarBox\"},{\"attributes\":{\"plot\":{\"id\":\"d24b8a98-1946-4782-afde-ae4174b3033d\",\"subtype\":\"Figure\",\"type\":\"Plot\"},\"ticker\":{\"id\":\"edad38b2-55b2-4c72-9778-4c9af12c793f\",\"type\":\"BasicTicker\"}},\"id\":\"ec125bd5-6b19-4f6b-9eec-40187959b260\",\"type\":\"Grid\"},{\"attributes\":{\"line_alpha\":0.1,\"line_color\":\"#1f77b4\",\"line_dash\":[6],\"line_width\":5,\"x\":{\"field\":\"x\"},\"y\":{\"field\":\"y\"}},\"id\":\"a50b3fd5-92d3-4649-9004-ba47216dc323\",\"type\":\"Line\"},{\"attributes\":{\"label\":{\"value\":\"CLIRAD\"},\"renderers\":[{\"id\":\"fd35e723-f60e-43f3-8c91-ab1d6c1fc836\",\"type\":\"GlyphRenderer\"}]},\"id\":\"a93903ef-4fd2-4b01-9c8d-c2fff5155fba\",\"type\":\"LegendItem\"},{\"attributes\":{},\"id\":\"a77902e1-f6bb-4a11-9235-9509c7d2663f\",\"type\":\"ResetTool\"},{\"attributes\":{\"line_alpha\":0.1,\"line_color\":\"#1f77b4\",\"line_dash\":[6],\"line_width\":5,\"x\":{\"field\":\"x\"},\"y\":{\"field\":\"y\"}},\"id\":\"7ef2327a-c7b9-443e-af2e-696d3790b1e3\",\"type\":\"Line\"},{\"attributes\":{\"callback\":null,\"data\":{\"x\":{\"__ndarray__\":\"MMuxyPpuur9qCV/SckK6v+hTEw3y27m/qQAWqrVuub+AP4ApmwG5v6PyjdvQlri/qY5YDqIuuL8QIKbi98q3v3y684Ddbbe/k3ICrdMat797E18Vx9a2vzdLgnSWp7a/pkc3uzaWtr9gCQjJ+qe2vyzKbsE1zLW/m+H9327Psb8mYgHlJEWlv9d2WW7h83u/qf8Ys6LioT/PIx0B+Lm1P6iWGYatfsI/b2cP4nylyz96BKQEcuDRP1nSemF9OtE/c185CFsYyT+S9TSyOzfAP1OWKUFlobM/jKn/6Tz0pj+RslxYV+ibP3K0E2FJd5I/N0pSQFKSiD+OL9Ao88x8P/CSLRhYPm8/DtI8rr8QWT+p8s/AaUthvzdrJGC72X2/zbaxLkFkiL8MPoE7RjWQv1rjZMm5oJW/WEkj35eFm79rXN3E4Aeev1j9xgZUnpy/IhNzf6PMmr8pcjPHGBeZv6m5A6wcS5e/mWHt8NpTlb+upZMUFSmTvyJ+I9VOyJC/yfcSmzxljL+z/wpWi9+Gvzi9YjYLJIG/QAY0ZaC6dr+Qv/ivv5Rmv7CYFalOa/c+DRlB3PZHZz/GmONl1pJ3P+kRgH/4AoI/RZbPuAyKiD9dXTf42GaPPxKSIElYUJM/L5Mf4aUglz9ff9DRKiubP6wgFlkKeJ8/EjsW/a4Hoj/6Cn7W1nqkP6QYU+7DEKc/UBjkiw6xqT9+V/NAxSisP7wdcR58RK4/+y1Upvb/rz+khvOSCcewPwcyc3fklrE/7FSTBWeHsj+DbBnspq2zP5pg+ASpLbU/\",\"dtype\":\"float64\",\"shape\":[75]},\"y\":{\"__ndarray__\":\"GhExyth1ND/Sv8nbtpRIP2vylNV0PVE/aTum7souWD/At0SJ8fVgPw3Iuahxymc/MSNhhJWvcD/bTfBN02d3P2zb5nxnaoA/CD5h5MAGhz8NmeH1TyaQP+zrCsc9p5Y/LbKd76fGnz/bLW5ISEmmPww9YvTcQq8/JV2OstnstT8Er5Y7M8G+P0c+r3jqkcU/5h99k6ZBzj88bCIzFzjVP4enV8oyxN0//yH99nXg5D8qOpLLf0jtP5kqGJXUifQ/c9cS8kHP/D+/DpwzojQEQIEmwoanVwxA4lgXt9HgE0BSSZ2AJuIbQAMJih9jjiNA5q4l5INuK0AwTKYKRj0zQNv5fmq8/DpAaCJseHrtQkB/+zpwzoxKQM3MzMzMeFJAZmZmZmZqWEAAAAAAAFxeQM3MzMzMJmJAmpmZmZkfZUBmZmZmZhhoQDMzMzMzEWtAAAAAAAAKbkBmZmZmZoFwQM3MzMzM/XFAMzMzMzN6c0CamZmZmfZ0QAAAAAAAc3ZAZmZmZmbvd0DNzMzMzGt5QDMzMzMz6HpAmpmZmZlkfEAAAAAAAOF9QGZmZmZmXX9AZmZmZuZsgECamZmZGSuBQM3MzMxM6YFAAAAAAICngkAzMzMzs2WDQGZmZmbmI4RAmpmZmRnihEDNzMzMTKCFQAAAAACAXoZAMzMzM7Mch0BmZmZm5tqHQJqZmZkZmYhAzczMzExXiUAAAAAAgBWKQDMzMzOz04pAZmZmZuaRi0CamZmZGVCMQM3MzMxMDo1AAAAAAIDMjUAzMzMzs4qOQGZmZmbmSI9A\",\"dtype\":\"float64\",\"shape\":[75]}},\"selected\":{\"id\":\"46bdad31-d28a-48a6-8acc-c4e8f8cd95f5\",\"type\":\"Selection\"},\"selection_policy\":{\"id\":\"eefa9b4e-0fad-4734-9f21-4730913fc61d\",\"type\":\"UnionRenderers\"}},\"id\":\"d9692df0-0732-4034-a31b-24ec5ec045d1\",\"type\":\"ColumnDataSource\"},{\"attributes\":{\"axis_label\":\"pressure [mb]\",\"formatter\":{\"id\":\"839b8836-6525-4b57-b9fc-bf0b2417ffcc\",\"type\":\"LogTickFormatter\"},\"plot\":{\"id\":\"b356e9d9-775c-4e57-bb53-2f4181e77f89\",\"subtype\":\"Figure\",\"type\":\"Plot\"},\"ticker\":{\"id\":\"ebb2c413-7ec9-4ecf-888d-ea3658d3838d\",\"type\":\"LogTicker\"}},\"id\":\"a3318270-87d9-41e9-920b-25e2c0ceb051\",\"type\":\"LogAxis\"},{\"attributes\":{\"dimension\":1,\"plot\":{\"id\":\"dcdf9f41-d227-4c7e-87e6-41fbaac44737\",\"subtype\":\"Figure\",\"type\":\"Plot\"},\"ticker\":{\"id\":\"4cbca3a9-aa7b-44cb-b08f-84bcf37604e6\",\"type\":\"LogTicker\"}},\"id\":\"1534a14a-08db-4d3b-b59e-53a446bbff9e\",\"type\":\"Grid\"},{\"attributes\":{},\"id\":\"edad38b2-55b2-4c72-9778-4c9af12c793f\",\"type\":\"BasicTicker\"},{\"attributes\":{\"dimension\":1,\"plot\":{\"id\":\"d24b8a98-1946-4782-afde-ae4174b3033d\",\"subtype\":\"Figure\",\"type\":\"Plot\"},\"ticker\":{\"id\":\"a1a3ce14-78fb-49bf-bbf5-6e885ac7b6d5\",\"type\":\"BasicTicker\"}},\"id\":\"22ee641e-bf4a-43d5-8d62-72b80946163b\",\"type\":\"Grid\"},{\"attributes\":{\"source\":{\"id\":\"75c60ad7-0c19-4669-8a66-2124dd213d21\",\"type\":\"ColumnDataSource\"}},\"id\":\"1ee06c3f-bff5-44ae-9b7c-c2833cbec22d\",\"type\":\"CDSView\"},{\"attributes\":{},\"id\":\"9a994bfd-c49a-4c7e-9334-c5100eb7af92\",\"type\":\"PanTool\"},{\"attributes\":{},\"id\":\"14200044-656d-4b17-b339-aa25a9225837\",\"type\":\"Selection\"},{\"attributes\":{\"fill_alpha\":{\"value\":0.7},\"fill_color\":{\"value\":\"#4daf4a\"},\"line_alpha\":{\"value\":0.7},\"line_color\":{\"value\":\"#4daf4a\"},\"x\":{\"field\":\"x\"},\"y\":{\"field\":\"y\"}},\"id\":\"25d05dcd-735c-4c70-937f-9c549f5b9e8e\",\"type\":\"Circle\"},{\"attributes\":{},\"id\":\"60edebdc-6cbe-4c13-a7ac-79bfc51ba5bb\",\"type\":\"BasicTicker\"},{\"attributes\":{},\"id\":\"130e9733-337f-4974-943b-9ad6362856ce\",\"type\":\"LinearScale\"},{\"attributes\":{\"axis_label\":\"pressure [mb]\",\"formatter\":{\"id\":\"ca94eebd-4308-466f-942f-bd47c42bdcd9\",\"type\":\"LogTickFormatter\"},\"plot\":{\"id\":\"dcdf9f41-d227-4c7e-87e6-41fbaac44737\",\"subtype\":\"Figure\",\"type\":\"Plot\"},\"ticker\":{\"id\":\"4cbca3a9-aa7b-44cb-b08f-84bcf37604e6\",\"type\":\"LogTicker\"}},\"id\":\"cc9e9a41-afc3-4ee1-b06b-81d21c5b9dcd\",\"type\":\"LogAxis\"},{\"attributes\":{\"line_alpha\":0.1,\"line_color\":\"#1f77b4\",\"line_width\":1.5,\"x\":{\"field\":\"x\"},\"y\":{\"field\":\"y\"}},\"id\":\"8ce02dfd-9037-4246-a159-a86d1dbc95ea\",\"type\":\"Line\"},{\"attributes\":{\"line_alpha\":0.1,\"line_color\":\"#1f77b4\",\"line_width\":1.5,\"x\":{\"field\":\"x\"},\"y\":{\"field\":\"y\"}},\"id\":\"5d6779d7-be49-45cc-a76e-8216a345c522\",\"type\":\"Line\"},{\"attributes\":{\"axis_label\":\"cooling rate [K/day]\",\"formatter\":{\"id\":\"0eb938db-062c-4f4c-94fa-154faba7cbc7\",\"type\":\"BasicTickFormatter\"},\"plot\":{\"id\":\"b356e9d9-775c-4e57-bb53-2f4181e77f89\",\"subtype\":\"Figure\",\"type\":\"Plot\"},\"ticker\":{\"id\":\"55214de5-eec1-4923-9815-29c8d55a06c7\",\"type\":\"BasicTicker\"}},\"id\":\"683048dd-a08e-4a66-8385-24bab6e81bf4\",\"type\":\"LinearAxis\"},{\"attributes\":{\"line_color\":\"#4daf4a\",\"line_width\":1.5,\"x\":{\"field\":\"x\"},\"y\":{\"field\":\"y\"}},\"id\":\"a9a8ae90-9250-493d-8d71-e66f7ef50c2d\",\"type\":\"Line\"},{\"attributes\":{\"items\":[{\"id\":\"7286e578-56d5-4f88-b22d-9d12059c3586\",\"type\":\"LegendItem\"}],\"label_text_font_size\":{\"value\":\"8pt\"},\"location\":\"top_center\",\"orientation\":\"horizontal\",\"plot\":{\"id\":\"dcdf9f41-d227-4c7e-87e6-41fbaac44737\",\"subtype\":\"Figure\",\"type\":\"Plot\"}},\"id\":\"8e154020-baf7-4973-806d-f16f60190f91\",\"type\":\"Legend\"},{\"attributes\":{\"line_alpha\":0.6,\"line_color\":\"#e41a1c\",\"line_dash\":[6],\"line_width\":5,\"x\":{\"field\":\"x\"},\"y\":{\"field\":\"y\"}},\"id\":\"ab6fcbdc-38ca-4c46-822a-2cdb8c9534ba\",\"type\":\"Line\"},{\"attributes\":{},\"id\":\"8b4298c0-defa-4950-86c5-202076902ced\",\"type\":\"LinearScale\"},{\"attributes\":{\"data_source\":{\"id\":\"ca24781c-d24e-440e-bf6c-634bb4f08d98\",\"type\":\"ColumnDataSource\"},\"glyph\":{\"id\":\"a9a8ae90-9250-493d-8d71-e66f7ef50c2d\",\"type\":\"Line\"},\"hover_glyph\":null,\"muted_glyph\":null,\"nonselection_glyph\":{\"id\":\"5d6779d7-be49-45cc-a76e-8216a345c522\",\"type\":\"Line\"},\"selection_glyph\":null,\"view\":{\"id\":\"e3b3ae12-bfa4-4f80-a8d2-884f881ae93f\",\"type\":\"CDSView\"}},\"id\":\"061cde6e-d897-47a1-83fb-dd3b167d38a6\",\"type\":\"GlyphRenderer\"},{\"attributes\":{\"axis_label\":\"cooling rate [K/day]\",\"formatter\":{\"id\":\"2d9d17c3-10bd-43ed-82d7-98aa981f0ffd\",\"type\":\"BasicTickFormatter\"},\"plot\":{\"id\":\"dcdf9f41-d227-4c7e-87e6-41fbaac44737\",\"subtype\":\"Figure\",\"type\":\"Plot\"},\"ticker\":{\"id\":\"60edebdc-6cbe-4c13-a7ac-79bfc51ba5bb\",\"type\":\"BasicTicker\"}},\"id\":\"ca0fa37f-dfd2-4677-82eb-ad54c453b209\",\"type\":\"LinearAxis\"},{\"attributes\":{\"callback\":null,\"data\":{\"x\":{\"__ndarray__\":\"MMuxyPpuur9qCV/SckK6v+hTEw3y27m/qQAWqrVuub+AP4ApmwG5v6PyjdvQlri/qY5YDqIuuL8QIKbi98q3v3y684Ddbbe/k3ICrdMat797E18Vx9a2vzdLgnSWp7a/pkc3uzaWtr9gCQjJ+qe2vyzKbsE1zLW/m+H9327Psb8mYgHlJEWlv9d2WW7h83u/qf8Ys6LioT/PIx0B+Lm1P6iWGYatfsI/b2cP4nylyz96BKQEcuDRP1nSemF9OtE/c185CFsYyT+S9TSyOzfAP1OWKUFlobM/jKn/6Tz0pj+RslxYV+ibP3K0E2FJd5I/N0pSQFKSiD+OL9Ao88x8P/CSLRhYPm8/DtI8rr8QWT+p8s/AaUthvzdrJGC72X2/zbaxLkFkiL8MPoE7RjWQv1rjZMm5oJW/WEkj35eFm79rXN3E4Aeev1j9xgZUnpy/IhNzf6PMmr8pcjPHGBeZv6m5A6wcS5e/mWHt8NpTlb+upZMUFSmTvyJ+I9VOyJC/yfcSmzxljL+z/wpWi9+Gvzi9YjYLJIG/QAY0ZaC6dr+Qv/ivv5Rmv7CYFalOa/c+DRlB3PZHZz/GmONl1pJ3P+kRgH/4AoI/RZbPuAyKiD9dXTf42GaPPxKSIElYUJM/L5Mf4aUglz9ff9DRKiubP6wgFlkKeJ8/EjsW/a4Hoj/6Cn7W1nqkP6QYU+7DEKc/UBjkiw6xqT9+V/NAxSisP7wdcR58RK4/+y1Upvb/rz+khvOSCcewPwcyc3fklrE/7FSTBWeHsj+DbBnspq2zP5pg+ASpLbU/\",\"dtype\":\"float64\",\"shape\":[75]},\"y\":{\"__ndarray__\":\"GhExyth1ND/Sv8nbtpRIP2vylNV0PVE/aTum7souWD/At0SJ8fVgPw3Iuahxymc/MSNhhJWvcD/bTfBN02d3P2zb5nxnaoA/CD5h5MAGhz8NmeH1TyaQP+zrCsc9p5Y/LbKd76fGnz/bLW5ISEmmPww9YvTcQq8/JV2OstnstT8Er5Y7M8G+P0c+r3jqkcU/5h99k6ZBzj88bCIzFzjVP4enV8oyxN0//yH99nXg5D8qOpLLf0jtP5kqGJXUifQ/c9cS8kHP/D+/DpwzojQEQIEmwoanVwxA4lgXt9HgE0BSSZ2AJuIbQAMJih9jjiNA5q4l5INuK0AwTKYKRj0zQNv5fmq8/DpAaCJseHrtQkB/+zpwzoxKQM3MzMzMeFJAZmZmZmZqWEAAAAAAAFxeQM3MzMzMJmJAmpmZmZkfZUBmZmZmZhhoQDMzMzMzEWtAAAAAAAAKbkBmZmZmZoFwQM3MzMzM/XFAMzMzMzN6c0CamZmZmfZ0QAAAAAAAc3ZAZmZmZmbvd0DNzMzMzGt5QDMzMzMz6HpAmpmZmZlkfEAAAAAAAOF9QGZmZmZmXX9AZmZmZuZsgECamZmZGSuBQM3MzMxM6YFAAAAAAICngkAzMzMzs2WDQGZmZmbmI4RAmpmZmRnihEDNzMzMTKCFQAAAAACAXoZAMzMzM7Mch0BmZmZm5tqHQJqZmZkZmYhAzczMzExXiUAAAAAAgBWKQDMzMzOz04pAZmZmZuaRi0CamZmZGVCMQM3MzMxMDo1AAAAAAIDMjUAzMzMzs4qOQGZmZmbmSI9A\",\"dtype\":\"float64\",\"shape\":[75]}},\"selected\":{\"id\":\"198d3e59-a6b9-489b-b151-cc2a451af2d2\",\"type\":\"Selection\"},\"selection_policy\":{\"id\":\"5a3ed4c8-1058-4c1e-a79a-d6d6e6fda0bf\",\"type\":\"UnionRenderers\"}},\"id\":\"ca24781c-d24e-440e-bf6c-634bb4f08d98\",\"type\":\"ColumnDataSource\"},{\"attributes\":{\"fill_alpha\":{\"value\":0.1},\"fill_color\":{\"value\":\"#1f77b4\"},\"line_alpha\":{\"value\":0.1},\"line_color\":{\"value\":\"#1f77b4\"},\"x\":{\"field\":\"x\"},\"y\":{\"field\":\"y\"}},\"id\":\"b4783788-78f1-4091-a9fd-4da5b17a31f8\",\"type\":\"Circle\"},{\"attributes\":{},\"id\":\"507156e9-9bc6-4a92-8b60-5e3f7f80bc3b\",\"type\":\"HelpTool\"},{\"attributes\":{\"axis_label\":\"pressure [mb]\",\"formatter\":{\"id\":\"6d87a635-23b8-428d-b31d-14579a4fc083\",\"type\":\"BasicTickFormatter\"},\"plot\":{\"id\":\"d24b8a98-1946-4782-afde-ae4174b3033d\",\"subtype\":\"Figure\",\"type\":\"Plot\"},\"ticker\":{\"id\":\"a1a3ce14-78fb-49bf-bbf5-6e885ac7b6d5\",\"type\":\"BasicTicker\"}},\"id\":\"e04b319b-b713-404d-b3b9-e4821c118601\",\"type\":\"LinearAxis\"},{\"attributes\":{\"line_alpha\":0.6,\"line_color\":\"#e41a1c\",\"line_dash\":[6],\"line_width\":5,\"x\":{\"field\":\"x\"},\"y\":{\"field\":\"y\"}},\"id\":\"2e30bfe1-ed5d-4ecd-9558-a568987bbf25\",\"type\":\"Line\"},{\"attributes\":{\"callback\":null,\"data\":{\"x\":{\"__ndarray__\":\"MMuxyPpuur9qCV/SckK6v+hTEw3y27m/qQAWqrVuub+AP4ApmwG5v6PyjdvQlri/qY5YDqIuuL8QIKbi98q3v3y684Ddbbe/k3ICrdMat797E18Vx9a2vzdLgnSWp7a/pkc3uzaWtr9gCQjJ+qe2vyzKbsE1zLW/m+H9327Psb8mYgHlJEWlv9d2WW7h83u/qf8Ys6LioT/PIx0B+Lm1P6iWGYatfsI/b2cP4nylyz96BKQEcuDRP1nSemF9OtE/c185CFsYyT+S9TSyOzfAP1OWKUFlobM/jKn/6Tz0pj+RslxYV+ibP3K0E2FJd5I/N0pSQFKSiD+OL9Ao88x8P/CSLRhYPm8/DtI8rr8QWT+p8s/AaUthvzdrJGC72X2/zbaxLkFkiL8MPoE7RjWQv1rjZMm5oJW/WEkj35eFm79rXN3E4Aeev1j9xgZUnpy/IhNzf6PMmr8pcjPHGBeZv6m5A6wcS5e/mWHt8NpTlb+upZMUFSmTvyJ+I9VOyJC/yfcSmzxljL+z/wpWi9+Gvzi9YjYLJIG/QAY0ZaC6dr+Qv/ivv5Rmv7CYFalOa/c+DRlB3PZHZz/GmONl1pJ3P+kRgH/4AoI/RZbPuAyKiD9dXTf42GaPPxKSIElYUJM/L5Mf4aUglz9ff9DRKiubP6wgFlkKeJ8/EjsW/a4Hoj/6Cn7W1nqkP6QYU+7DEKc/UBjkiw6xqT9+V/NAxSisP7wdcR58RK4/+y1Upvb/rz+khvOSCcewPwcyc3fklrE/7FSTBWeHsj+DbBnspq2zP5pg+ASpLbU/\",\"dtype\":\"float64\",\"shape\":[75]},\"y\":{\"__ndarray__\":\"GhExyth1ND/Sv8nbtpRIP2vylNV0PVE/aTum7souWD/At0SJ8fVgPw3Iuahxymc/MSNhhJWvcD/bTfBN02d3P2zb5nxnaoA/CD5h5MAGhz8NmeH1TyaQP+zrCsc9p5Y/LbKd76fGnz/bLW5ISEmmPww9YvTcQq8/JV2OstnstT8Er5Y7M8G+P0c+r3jqkcU/5h99k6ZBzj88bCIzFzjVP4enV8oyxN0//yH99nXg5D8qOpLLf0jtP5kqGJXUifQ/c9cS8kHP/D+/DpwzojQEQIEmwoanVwxA4lgXt9HgE0BSSZ2AJuIbQAMJih9jjiNA5q4l5INuK0AwTKYKRj0zQNv5fmq8/DpAaCJseHrtQkB/+zpwzoxKQM3MzMzMeFJAZmZmZmZqWEAAAAAAAFxeQM3MzMzMJmJAmpmZmZkfZUBmZmZmZhhoQDMzMzMzEWtAAAAAAAAKbkBmZmZmZoFwQM3MzMzM/XFAMzMzMzN6c0CamZmZmfZ0QAAAAAAAc3ZAZmZmZmbvd0DNzMzMzGt5QDMzMzMz6HpAmpmZmZlkfEAAAAAAAOF9QGZmZmZmXX9AZmZmZuZsgECamZmZGSuBQM3MzMxM6YFAAAAAAICngkAzMzMzs2WDQGZmZmbmI4RAmpmZmRnihEDNzMzMTKCFQAAAAACAXoZAMzMzM7Mch0BmZmZm5tqHQJqZmZkZmYhAzczMzExXiUAAAAAAgBWKQDMzMzOz04pAZmZmZuaRi0CamZmZGVCMQM3MzMxMDo1AAAAAAIDMjUAzMzMzs4qOQGZmZmbmSI9A\",\"dtype\":\"float64\",\"shape\":[75]}},\"selected\":{\"id\":\"0bd7eb1b-75ad-4482-ac1f-f22856eafe8d\",\"type\":\"Selection\"},\"selection_policy\":{\"id\":\"fce040a7-ea1f-40a0-9704-69464ee861ae\",\"type\":\"UnionRenderers\"}},\"id\":\"e6f448a0-5b72-4b03-98d6-0c7a462cc943\",\"type\":\"ColumnDataSource\"},{\"attributes\":{\"fill_alpha\":{\"value\":0.1},\"fill_color\":{\"value\":\"#1f77b4\"},\"line_alpha\":{\"value\":0.1},\"line_color\":{\"value\":\"#1f77b4\"},\"x\":{\"field\":\"x\"},\"y\":{\"field\":\"y\"}},\"id\":\"c6f52048-d919-4cc7-b504-44f24881399f\",\"type\":\"Circle\"},{\"attributes\":{\"active_drag\":\"auto\",\"active_inspect\":\"auto\",\"active_scroll\":\"auto\",\"active_tap\":\"auto\",\"tools\":[{\"id\":\"9a994bfd-c49a-4c7e-9334-c5100eb7af92\",\"type\":\"PanTool\"},{\"id\":\"4dc2a2d4-87e8-4f7f-b11e-99be2a9fc221\",\"type\":\"WheelZoomTool\"},{\"id\":\"365c297c-1a34-47dd-b790-24c0c445a855\",\"type\":\"BoxZoomTool\"},{\"id\":\"3702f11b-550b-47e2-ad81-0af3de571a92\",\"type\":\"SaveTool\"},{\"id\":\"a77902e1-f6bb-4a11-9235-9509c7d2663f\",\"type\":\"ResetTool\"},{\"id\":\"507156e9-9bc6-4a92-8b60-5e3f7f80bc3b\",\"type\":\"HelpTool\"}]},\"id\":\"294180c5-78f2-402f-9a5c-a6768ccec167\",\"type\":\"Toolbar\"},{\"attributes\":{\"data_source\":{\"id\":\"d9692df0-0732-4034-a31b-24ec5ec045d1\",\"type\":\"ColumnDataSource\"},\"glyph\":{\"id\":\"a28d4d21-b743-4748-acb4-a80d08185d71\",\"type\":\"Circle\"},\"hover_glyph\":null,\"muted_glyph\":null,\"nonselection_glyph\":{\"id\":\"c6f52048-d919-4cc7-b504-44f24881399f\",\"type\":\"Circle\"},\"selection_glyph\":null,\"view\":{\"id\":\"1b1860b9-e1b6-4c92-8c52-88e932c97933\",\"type\":\"CDSView\"}},\"id\":\"b19968e8-0f85-40f5-a6e5-1e1574bdb16d\",\"type\":\"GlyphRenderer\"},{\"attributes\":{},\"id\":\"7f56cb89-8dc5-4b7d-89b6-162fbd156dc9\",\"type\":\"PanTool\"},{\"attributes\":{\"data_source\":{\"id\":\"e6f448a0-5b72-4b03-98d6-0c7a462cc943\",\"type\":\"ColumnDataSource\"},\"glyph\":{\"id\":\"25d05dcd-735c-4c70-937f-9c549f5b9e8e\",\"type\":\"Circle\"},\"hover_glyph\":null,\"muted_glyph\":null,\"nonselection_glyph\":{\"id\":\"b4783788-78f1-4091-a9fd-4da5b17a31f8\",\"type\":\"Circle\"},\"selection_glyph\":null,\"view\":{\"id\":\"ca78c047-26ae-4274-9be2-01ffe806a1d6\",\"type\":\"CDSView\"}},\"id\":\"43044943-950d-4f0a-8e4b-b3546015d868\",\"type\":\"GlyphRenderer\"},{\"attributes\":{\"callback\":null,\"end\":0.01,\"start\":1020},\"id\":\"7868d405-5bb1-405b-86cd-60dcd90d888d\",\"type\":\"Range1d\"},{\"attributes\":{\"fill_alpha\":{\"value\":0.7},\"fill_color\":{\"value\":\"#4daf4a\"},\"line_alpha\":{\"value\":0.7},\"line_color\":{\"value\":\"#4daf4a\"},\"x\":{\"field\":\"x\"},\"y\":{\"field\":\"y\"}},\"id\":\"a28d4d21-b743-4748-acb4-a80d08185d71\",\"type\":\"Circle\"},{\"attributes\":{\"source\":{\"id\":\"704f1ab7-2467-4f15-8e3b-e92c26a12ff3\",\"type\":\"ColumnDataSource\"}},\"id\":\"260da390-2dd4-4d4c-954a-80acf837dbc9\",\"type\":\"CDSView\"},{\"attributes\":{\"active_drag\":\"auto\",\"active_inspect\":\"auto\",\"active_scroll\":\"auto\",\"active_tap\":\"auto\",\"tools\":[{\"id\":\"7f56cb89-8dc5-4b7d-89b6-162fbd156dc9\",\"type\":\"PanTool\"},{\"id\":\"5e463b93-1ca1-4248-95cf-60c17f7d032d\",\"type\":\"WheelZoomTool\"},{\"id\":\"b7c084db-8f31-471c-9a72-b2a109252a73\",\"type\":\"BoxZoomTool\"},{\"id\":\"4841261d-93a1-4019-9232-ed35255f3fa8\",\"type\":\"SaveTool\"},{\"id\":\"e0cf0b77-fb25-41b5-8c4b-436cbf14aacd\",\"type\":\"ResetTool\"},{\"id\":\"ce95a5cb-28df-4d62-97c2-8c6d89898189\",\"type\":\"HelpTool\"}]},\"id\":\"80ee4ea0-dff5-4427-81d1-b1d754a02b49\",\"type\":\"Toolbar\"},{\"attributes\":{},\"id\":\"0eb938db-062c-4f4c-94fa-154faba7cbc7\",\"type\":\"BasicTickFormatter\"},{\"attributes\":{\"above\":[{\"id\":\"8e154020-baf7-4973-806d-f16f60190f91\",\"type\":\"Legend\"}],\"below\":[{\"id\":\"ca0fa37f-dfd2-4677-82eb-ad54c453b209\",\"type\":\"LinearAxis\"}],\"left\":[{\"id\":\"cc9e9a41-afc3-4ee1-b06b-81d21c5b9dcd\",\"type\":\"LogAxis\"}],\"plot_width\":300,\"renderers\":[{\"id\":\"ca0fa37f-dfd2-4677-82eb-ad54c453b209\",\"type\":\"LinearAxis\"},{\"id\":\"4dc24980-4448-4e74-9819-aec59a88d67b\",\"type\":\"Grid\"},{\"id\":\"cc9e9a41-afc3-4ee1-b06b-81d21c5b9dcd\",\"type\":\"LogAxis\"},{\"id\":\"1534a14a-08db-4d3b-b59e-53a446bbff9e\",\"type\":\"Grid\"},{\"id\":\"d72c3ebd-9f8f-4e32-8cf8-7f2b363de503\",\"type\":\"BoxAnnotation\"},{\"id\":\"63125a47-c86f-414a-99ec-5420da83a7cd\",\"type\":\"GlyphRenderer\"},{\"id\":\"a5ec3297-e165-4224-82d0-6b517ecbf9a5\",\"type\":\"GlyphRenderer\"},{\"id\":\"8e154020-baf7-4973-806d-f16f60190f91\",\"type\":\"Legend\"}],\"title\":{\"id\":\"03e0650b-b47e-4b9a-acf5-63eccb0da739\",\"type\":\"Title\"},\"toolbar\":{\"id\":\"80ee4ea0-dff5-4427-81d1-b1d754a02b49\",\"type\":\"Toolbar\"},\"toolbar_location\":null,\"x_range\":{\"id\":\"50f2141e-ef04-4406-8b75-0bb14401b27a\",\"type\":\"Range1d\"},\"x_scale\":{\"id\":\"8b4298c0-defa-4950-86c5-202076902ced\",\"type\":\"LinearScale\"},\"y_range\":{\"id\":\"7868d405-5bb1-405b-86cd-60dcd90d888d\",\"type\":\"Range1d\"},\"y_scale\":{\"id\":\"348235d7-01bc-4e25-95bb-407bd6ef3477\",\"type\":\"LogScale\"}},\"id\":\"dcdf9f41-d227-4c7e-87e6-41fbaac44737\",\"subtype\":\"Figure\",\"type\":\"Plot\"},{\"attributes\":{},\"id\":\"1e2ad5ea-0985-4a6d-ab4c-e3bd11b5d4e0\",\"type\":\"Selection\"},{\"attributes\":{\"tools\":[{\"id\":\"ba645f10-8fca-4e10-8dd8-a6bd42d4acea\",\"type\":\"PanTool\"},{\"id\":\"146a2981-10bf-4a1f-8ffa-cd9f6e557359\",\"type\":\"WheelZoomTool\"},{\"id\":\"e58a46ba-aad6-47ed-925c-80c0bafb0ecc\",\"type\":\"BoxZoomTool\"},{\"id\":\"d5a4b0a1-538d-4274-bfd0-f4221d0672a0\",\"type\":\"SaveTool\"},{\"id\":\"7cbc1188-9222-413d-a711-b8b69d97da6e\",\"type\":\"ResetTool\"},{\"id\":\"041d6072-c940-46ad-81d6-389a667c56de\",\"type\":\"HelpTool\"},{\"id\":\"9a994bfd-c49a-4c7e-9334-c5100eb7af92\",\"type\":\"PanTool\"},{\"id\":\"4dc2a2d4-87e8-4f7f-b11e-99be2a9fc221\",\"type\":\"WheelZoomTool\"},{\"id\":\"365c297c-1a34-47dd-b790-24c0c445a855\",\"type\":\"BoxZoomTool\"},{\"id\":\"3702f11b-550b-47e2-ad81-0af3de571a92\",\"type\":\"SaveTool\"},{\"id\":\"a77902e1-f6bb-4a11-9235-9509c7d2663f\",\"type\":\"ResetTool\"},{\"id\":\"507156e9-9bc6-4a92-8b60-5e3f7f80bc3b\",\"type\":\"HelpTool\"},{\"id\":\"7f56cb89-8dc5-4b7d-89b6-162fbd156dc9\",\"type\":\"PanTool\"},{\"id\":\"5e463b93-1ca1-4248-95cf-60c17f7d032d\",\"type\":\"WheelZoomTool\"},{\"id\":\"b7c084db-8f31-471c-9a72-b2a109252a73\",\"type\":\"BoxZoomTool\"},{\"id\":\"4841261d-93a1-4019-9232-ed35255f3fa8\",\"type\":\"SaveTool\"},{\"id\":\"e0cf0b77-fb25-41b5-8c4b-436cbf14aacd\",\"type\":\"ResetTool\"},{\"id\":\"ce95a5cb-28df-4d62-97c2-8c6d89898189\",\"type\":\"HelpTool\"}]},\"id\":\"0bc53e64-46d0-48d7-87ac-f60feda56dce\",\"type\":\"ProxyToolbar\"},{\"attributes\":{\"active_drag\":\"auto\",\"active_inspect\":\"auto\",\"active_scroll\":\"auto\",\"active_tap\":\"auto\",\"tools\":[{\"id\":\"ba645f10-8fca-4e10-8dd8-a6bd42d4acea\",\"type\":\"PanTool\"},{\"id\":\"146a2981-10bf-4a1f-8ffa-cd9f6e557359\",\"type\":\"WheelZoomTool\"},{\"id\":\"e58a46ba-aad6-47ed-925c-80c0bafb0ecc\",\"type\":\"BoxZoomTool\"},{\"id\":\"d5a4b0a1-538d-4274-bfd0-f4221d0672a0\",\"type\":\"SaveTool\"},{\"id\":\"7cbc1188-9222-413d-a711-b8b69d97da6e\",\"type\":\"ResetTool\"},{\"id\":\"041d6072-c940-46ad-81d6-389a667c56de\",\"type\":\"HelpTool\"}]},\"id\":\"f769d586-ddd5-481c-a077-b54cf4e092e2\",\"type\":\"Toolbar\"},{\"attributes\":{},\"id\":\"348235d7-01bc-4e25-95bb-407bd6ef3477\",\"type\":\"LogScale\"},{\"attributes\":{},\"id\":\"5e463b93-1ca1-4248-95cf-60c17f7d032d\",\"type\":\"WheelZoomTool\"},{\"attributes\":{},\"id\":\"533a2b63-cbdf-467d-8e0f-4712be1f9fdf\",\"type\":\"LinearScale\"},{\"attributes\":{},\"id\":\"438d6eca-1f68-4629-b69c-5bbde02c4ecd\",\"type\":\"UnionRenderers\"},{\"attributes\":{\"ticker\":null},\"id\":\"839b8836-6525-4b57-b9fc-bf0b2417ffcc\",\"type\":\"LogTickFormatter\"},{\"attributes\":{},\"id\":\"7cbc1188-9222-413d-a711-b8b69d97da6e\",\"type\":\"ResetTool\"},{\"attributes\":{\"overlay\":{\"id\":\"4cdd75de-a78b-4aaf-a547-ac950d208f48\",\"type\":\"BoxAnnotation\"}},\"id\":\"365c297c-1a34-47dd-b790-24c0c445a855\",\"type\":\"BoxZoomTool\"},{\"attributes\":{\"above\":[{\"id\":\"f2107ee4-a951-46e8-ab6b-21f9d684e912\",\"type\":\"Legend\"}],\"below\":[{\"id\":\"c48e9e59-7363-4ce6-a0eb-ea74376266e6\",\"type\":\"LinearAxis\"}],\"left\":[{\"id\":\"e04b319b-b713-404d-b3b9-e4821c118601\",\"type\":\"LinearAxis\"}],\"plot_width\":300,\"renderers\":[{\"id\":\"c48e9e59-7363-4ce6-a0eb-ea74376266e6\",\"type\":\"LinearAxis\"},{\"id\":\"ec125bd5-6b19-4f6b-9eec-40187959b260\",\"type\":\"Grid\"},{\"id\":\"e04b319b-b713-404d-b3b9-e4821c118601\",\"type\":\"LinearAxis\"},{\"id\":\"22ee641e-bf4a-43d5-8d62-72b80946163b\",\"type\":\"Grid\"},{\"id\":\"f07579ea-d3f1-4df4-80d5-48964e9f026d\",\"type\":\"BoxAnnotation\"},{\"id\":\"4b7b94c7-672e-4266-98cc-2cec41579ca3\",\"type\":\"GlyphRenderer\"},{\"id\":\"43044943-950d-4f0a-8e4b-b3546015d868\",\"type\":\"GlyphRenderer\"},{\"id\":\"061cde6e-d897-47a1-83fb-dd3b167d38a6\",\"type\":\"GlyphRenderer\"},{\"id\":\"f2107ee4-a951-46e8-ab6b-21f9d684e912\",\"type\":\"Legend\"}],\"title\":{\"id\":\"eadd5efd-3e14-4134-a716-ce8f603d9e9e\",\"type\":\"Title\"},\"toolbar\":{\"id\":\"f769d586-ddd5-481c-a077-b54cf4e092e2\",\"type\":\"Toolbar\"},\"toolbar_location\":null,\"x_range\":{\"id\":\"4b99fe77-1a9f-487b-8361-01cfc3512c82\",\"type\":\"Range1d\"},\"x_scale\":{\"id\":\"08a73345-4852-42f0-b9a8-3ebd3f8a131d\",\"type\":\"LinearScale\"},\"y_range\":{\"id\":\"053e42ba-cba1-4fd0-9ee0-78866c440bb2\",\"type\":\"Range1d\"},\"y_scale\":{\"id\":\"130e9733-337f-4974-943b-9ad6362856ce\",\"type\":\"LinearScale\"}},\"id\":\"d24b8a98-1946-4782-afde-ae4174b3033d\",\"subtype\":\"Figure\",\"type\":\"Plot\"},{\"attributes\":{\"callback\":null,\"data\":{\"x\":{\"__ndarray__\":\"CPKnHk0bsL+cG8bpk/ivv68qd3Zkcq+/1CGnF8vgrr+Mmuc87lGuv2J2TGaHu62/kD7ydqAorb/hb+FkDo6sv9ADlJCM+Ku/Y62pRadbq7/rVatJzMCqv6ErxRm5Kqq/qUgbzeWUqb9fp/bBsP6ovyMbh3ve7aa/7Qt2MFN0oL+hRIPIrT+Fvyd/nNWnwZE/L/eUX7Biqj+Ua8OO6ue3P8jmT8Abd8I/+lzx/aI+yj9dFMEo1qPQP5mwBdbUptA/Oipx/NShyj9ykOdl2h/DP8WfzDLQJLk/7tFnfGnOrT/t4mObRwqgP66TAiT9apA/SnnmU3JPgT8PY2+1kHh0PzB3R3Uj9G8/IjGnpgkEZj9dixMx/lxRv3kCxfY45ny/Uw/Evgziib9R7NO37feRv8h3O1iFIZi/IK3HA+VEnr+W10J35nGgv8FQo2qds5+/QnEgVESunb87SVU7DKubv2uLquBpkpm/Th7XBQpcl79+B4OO/fyUv2MEqDcQg5K/ELJ4Jj67j7+7ioCbqTaKv61+b0qun4S/ExxsqNc4fr+KYSZReBdzv4tr4+RKcWC/dNVa5l0GRj+Q9fdC315sPwuE7BZrOno/1qYYfGZ9gz+BLC3rSkCKP3iUfWnnupA/2RiFbkCVlD9OQNm1OaWYPwRhwPXVE50/p3jq/qLloD9RktsaBGKjP6vH/CpgBaY/VaGQg2OtqD9ct+V84TCrP5PWJOfgc60/AFTUDdJbrz8H7ctV0I2wPxMwSmh8c7E/76SS9Sxssj/BIRz/eo+zP1qxPmyJ37Q/\",\"dtype\":\"float64\",\"shape\":[75]},\"y\":{\"__ndarray__\":\"GhExyth1ND/Sv8nbtpRIP2vylNV0PVE/aTum7souWD/At0SJ8fVgPw3Iuahxymc/MSNhhJWvcD/bTfBN02d3P2zb5nxnaoA/CD5h5MAGhz8NmeH1TyaQP+zrCsc9p5Y/LbKd76fGnz/bLW5ISEmmPww9YvTcQq8/JV2OstnstT8Er5Y7M8G+P0c+r3jqkcU/5h99k6ZBzj88bCIzFzjVP4enV8oyxN0//yH99nXg5D8qOpLLf0jtP5kqGJXUifQ/c9cS8kHP/D+/DpwzojQEQIEmwoanVwxA4lgXt9HgE0BSSZ2AJuIbQAMJih9jjiNA5q4l5INuK0AwTKYKRj0zQNv5fmq8/DpAaCJseHrtQkB/+zpwzoxKQM3MzMzMeFJAZmZmZmZqWEAAAAAAAFxeQM3MzMzMJmJAmpmZmZkfZUBmZmZmZhhoQDMzMzMzEWtAAAAAAAAKbkBmZmZmZoFwQM3MzMzM/XFAMzMzMzN6c0CamZmZmfZ0QAAAAAAAc3ZAZmZmZmbvd0DNzMzMzGt5QDMzMzMz6HpAmpmZmZlkfEAAAAAAAOF9QGZmZmZmXX9AZmZmZuZsgECamZmZGSuBQM3MzMxM6YFAAAAAAICngkAzMzMzs2WDQGZmZmbmI4RAmpmZmRnihEDNzMzMTKCFQAAAAACAXoZAMzMzM7Mch0BmZmZm5tqHQJqZmZkZmYhAzczMzExXiUAAAAAAgBWKQDMzMzOz04pAZmZmZuaRi0CamZmZGVCMQM3MzMxMDo1AAAAAAIDMjUAzMzMzs4qOQGZmZmbmSI9A\",\"dtype\":\"float64\",\"shape\":[75]}},\"selected\":{\"id\":\"2c156be6-a475-44de-8b28-4d3ef4c8de7e\",\"type\":\"Selection\"},\"selection_policy\":{\"id\":\"185e042d-a93a-4032-b700-5500c3b08a18\",\"type\":\"UnionRenderers\"}},\"id\":\"75c60ad7-0c19-4669-8a66-2124dd213d21\",\"type\":\"ColumnDataSource\"},{\"attributes\":{\"children\":[{\"id\":\"6fd5664c-24d5-42ac-82e0-133826110caf\",\"type\":\"ToolbarBox\"},{\"id\":\"42b7d84c-c449-42ca-bf63-5b944e275400\",\"type\":\"Column\"}]},\"id\":\"2c55422d-e963-49d8-bc32-85edb24a9ae0\",\"type\":\"Column\"},{\"attributes\":{\"label\":{\"value\":\"CLIRAD\"},\"renderers\":[{\"id\":\"4b7b94c7-672e-4266-98cc-2cec41579ca3\",\"type\":\"GlyphRenderer\"}]},\"id\":\"c40f7a2a-e652-4b3e-bcd7-72ab3faf75ca\",\"type\":\"LegendItem\"},{\"attributes\":{\"label\":{\"value\":\"CRD\"},\"renderers\":[{\"id\":\"43044943-950d-4f0a-8e4b-b3546015d868\",\"type\":\"GlyphRenderer\"},{\"id\":\"061cde6e-d897-47a1-83fb-dd3b167d38a6\",\"type\":\"GlyphRenderer\"}]},\"id\":\"e49cf3ed-0635-43ce-9971-a920d469c712\",\"type\":\"LegendItem\"},{\"attributes\":{\"overlay\":{\"id\":\"f07579ea-d3f1-4df4-80d5-48964e9f026d\",\"type\":\"BoxAnnotation\"}},\"id\":\"e58a46ba-aad6-47ed-925c-80c0bafb0ecc\",\"type\":\"BoxZoomTool\"},{\"attributes\":{\"callback\":null,\"end\":0.01,\"start\":1020},\"id\":\"053e42ba-cba1-4fd0-9ee0-78866c440bb2\",\"type\":\"Range1d\"},{\"attributes\":{\"fill_alpha\":{\"value\":0.7},\"fill_color\":{\"value\":\"#984ea3\"},\"line_alpha\":{\"value\":0.7},\"line_color\":{\"value\":\"#984ea3\"},\"x\":{\"field\":\"x\"},\"y\":{\"field\":\"y\"}},\"id\":\"116b0a1d-e699-4b80-8732-6db66645d79a\",\"type\":\"Circle\"},{\"attributes\":{\"plot\":{\"id\":\"dcdf9f41-d227-4c7e-87e6-41fbaac44737\",\"subtype\":\"Figure\",\"type\":\"Plot\"},\"ticker\":{\"id\":\"60edebdc-6cbe-4c13-a7ac-79bfc51ba5bb\",\"type\":\"BasicTicker\"}},\"id\":\"4dc24980-4448-4e74-9819-aec59a88d67b\",\"type\":\"Grid\"},{\"attributes\":{\"callback\":null,\"end\":0.283019830584176,\"start\":-0.093948866921776},\"id\":\"3106c84b-a3d5-43f4-b464-d7ddd01baa4c\",\"type\":\"Range1d\"},{\"attributes\":{\"label\":{\"value\":\"CRD\"},\"renderers\":[{\"id\":\"b19968e8-0f85-40f5-a6e5-1e1574bdb16d\",\"type\":\"GlyphRenderer\"},{\"id\":\"6df28c40-c6cd-41ff-8e2c-2224fc4dbb26\",\"type\":\"GlyphRenderer\"}]},\"id\":\"f744251c-33c6-402e-a555-a244514a5e46\",\"type\":\"LegendItem\"},{\"attributes\":{\"data_source\":{\"id\":\"1af9461b-889d-4619-b190-566706d742b6\",\"type\":\"ColumnDataSource\"},\"glyph\":{\"id\":\"2e30bfe1-ed5d-4ecd-9558-a568987bbf25\",\"type\":\"Line\"},\"hover_glyph\":null,\"muted_glyph\":null,\"nonselection_glyph\":{\"id\":\"7ef2327a-c7b9-443e-af2e-696d3790b1e3\",\"type\":\"Line\"},\"selection_glyph\":null,\"view\":{\"id\":\"78584b56-5913-4244-9b2c-99c0afb3d079\",\"type\":\"CDSView\"}},\"id\":\"4b7b94c7-672e-4266-98cc-2cec41579ca3\",\"type\":\"GlyphRenderer\"},{\"attributes\":{},\"id\":\"041d6072-c940-46ad-81d6-389a667c56de\",\"type\":\"HelpTool\"},{\"attributes\":{\"line_color\":\"#4daf4a\",\"line_width\":1.5,\"x\":{\"field\":\"x\"},\"y\":{\"field\":\"y\"}},\"id\":\"990e4935-164b-461e-9178-71515045431b\",\"type\":\"Line\"},{\"attributes\":{\"num_minor_ticks\":10},\"id\":\"4cbca3a9-aa7b-44cb-b08f-84bcf37604e6\",\"type\":\"LogTicker\"},{\"attributes\":{},\"id\":\"46bdad31-d28a-48a6-8acc-c4e8f8cd95f5\",\"type\":\"Selection\"},{\"attributes\":{\"source\":{\"id\":\"a00daab9-5d73-4322-a351-03c2771e5ff2\",\"type\":\"ColumnDataSource\"}},\"id\":\"04d26812-9d1a-4fcc-ba17-28e5bce330e0\",\"type\":\"CDSView\"},{\"attributes\":{},\"id\":\"c5f8ad99-211c-46b0-a898-07f091dcf266\",\"type\":\"Selection\"},{\"attributes\":{\"line_alpha\":0.1,\"line_color\":\"#1f77b4\",\"line_width\":1.5,\"x\":{\"field\":\"x\"},\"y\":{\"field\":\"y\"}},\"id\":\"ab8ff82d-93a6-40ad-b476-2b195112168c\",\"type\":\"Line\"},{\"attributes\":{\"items\":[{\"id\":\"a93903ef-4fd2-4b01-9c8d-c2fff5155fba\",\"type\":\"LegendItem\"},{\"id\":\"f744251c-33c6-402e-a555-a244514a5e46\",\"type\":\"LegendItem\"}],\"label_text_font_size\":{\"value\":\"8pt\"},\"location\":\"top_center\",\"orientation\":\"horizontal\",\"plot\":{\"id\":\"b356e9d9-775c-4e57-bb53-2f4181e77f89\",\"subtype\":\"Figure\",\"type\":\"Plot\"}},\"id\":\"9b91319f-54e6-40ae-a29a-392e17eb5331\",\"type\":\"Legend\"},{\"attributes\":{\"fill_alpha\":{\"value\":0.1},\"fill_color\":{\"value\":\"#1f77b4\"},\"line_alpha\":{\"value\":0.1},\"line_color\":{\"value\":\"#1f77b4\"},\"x\":{\"field\":\"x\"},\"y\":{\"field\":\"y\"}},\"id\":\"177f2b47-fde8-48ae-8f75-65538930c0cc\",\"type\":\"Circle\"},{\"attributes\":{\"data_source\":{\"id\":\"a00daab9-5d73-4322-a351-03c2771e5ff2\",\"type\":\"ColumnDataSource\"},\"glyph\":{\"id\":\"116b0a1d-e699-4b80-8732-6db66645d79a\",\"type\":\"Circle\"},\"hover_glyph\":null,\"muted_glyph\":null,\"nonselection_glyph\":{\"id\":\"177f2b47-fde8-48ae-8f75-65538930c0cc\",\"type\":\"Circle\"},\"selection_glyph\":null,\"view\":{\"id\":\"04d26812-9d1a-4fcc-ba17-28e5bce330e0\",\"type\":\"CDSView\"}},\"id\":\"63125a47-c86f-414a-99ec-5420da83a7cd\",\"type\":\"GlyphRenderer\"},{\"attributes\":{\"label\":{\"value\":\"CLIRAD - CRD\"},\"renderers\":[{\"id\":\"63125a47-c86f-414a-99ec-5420da83a7cd\",\"type\":\"GlyphRenderer\"},{\"id\":\"a5ec3297-e165-4224-82d0-6b517ecbf9a5\",\"type\":\"GlyphRenderer\"}]},\"id\":\"7286e578-56d5-4f88-b22d-9d12059c3586\",\"type\":\"LegendItem\"},{\"attributes\":{},\"id\":\"ce95a5cb-28df-4d62-97c2-8c6d89898189\",\"type\":\"HelpTool\"},{\"attributes\":{},\"id\":\"824dec96-8041-4853-865f-6277104e9fe0\",\"type\":\"UnionRenderers\"},{\"attributes\":{},\"id\":\"e0cf0b77-fb25-41b5-8c4b-436cbf14aacd\",\"type\":\"ResetTool\"},{\"attributes\":{\"children\":[{\"id\":\"d24b8a98-1946-4782-afde-ae4174b3033d\",\"subtype\":\"Figure\",\"type\":\"Plot\"},{\"id\":\"b356e9d9-775c-4e57-bb53-2f4181e77f89\",\"subtype\":\"Figure\",\"type\":\"Plot\"},{\"id\":\"dcdf9f41-d227-4c7e-87e6-41fbaac44737\",\"subtype\":\"Figure\",\"type\":\"Plot\"}]},\"id\":\"0d2d4e8e-29ae-4ded-b6d3-1650fd229794\",\"type\":\"Row\"},{\"attributes\":{\"source\":{\"id\":\"7d1d83f4-11d6-40e9-8561-490cc91866fa\",\"type\":\"ColumnDataSource\"}},\"id\":\"d2a53d41-2290-49a7-88fe-118164e9c4ba\",\"type\":\"CDSView\"},{\"attributes\":{\"children\":[{\"id\":\"0d2d4e8e-29ae-4ded-b6d3-1650fd229794\",\"type\":\"Row\"}]},\"id\":\"42b7d84c-c449-42ca-bf63-5b944e275400\",\"type\":\"Column\"},{\"attributes\":{},\"id\":\"4841261d-93a1-4019-9232-ed35255f3fa8\",\"type\":\"SaveTool\"},{\"attributes\":{\"bottom_units\":\"screen\",\"fill_alpha\":{\"value\":0.5},\"fill_color\":{\"value\":\"lightgrey\"},\"left_units\":\"screen\",\"level\":\"overlay\",\"line_alpha\":{\"value\":1.0},\"line_color\":{\"value\":\"black\"},\"line_dash\":[4,4],\"line_width\":{\"value\":2},\"plot\":null,\"render_mode\":\"css\",\"right_units\":\"screen\",\"top_units\":\"screen\"},\"id\":\"d72c3ebd-9f8f-4e32-8cf8-7f2b363de503\",\"type\":\"BoxAnnotation\"},{\"attributes\":{\"callback\":null,\"data\":{\"x\":{\"__ndarray__\":\"ULITVFunpD849/e6UYykPyF9r6N/RaQ/ft+EPKD8oz905BgWSLGjP+Ruz1AacqM/wt6+paM0oz8/0Gpg4QejPyhxU3Eu46I/wzdbFADaoj8L0RLhweyiP81qP89zJKM/o0ZTqYeXoz9haxnQRFGkPzV5VgeNqqQ/SbeFj4oqoz/8IcHlcuqfP93cMjGgvpg/DO/3WBsAkT8oPjJtlG+BPwCAvyYXRy6/UKfgQZ5thr/QAS++vcmTvwA4pG4RdYK/cKx8Q5+XiD8A15Sd9USXP8gljMarDZY/iKGgSbJoiz8kTax537BwPyAGiehhYmC/tEOvsX8Lbb/+mMHmxKhgvwCIPKNruRY/NpARn1P3Uj/1WYxQ1TlRP8AX7StNcC4/YIglAbncR79Q5CrFdypcv3CjtHZcBmS/QB4jJWn6Zb8IlkJNYd9mv0ib4h5Lqmi/APFqpQYNZ7+QuA6hm59kvxCONqVpOmK/qOVNp3hBYL8AHfaehz5dvxBkSCgWrFu/ONItWwywWr9AWKwr8rhav6gLZqAY3Vu/TFfgDN34Xb8IB6jkYTRfv7yWNYIhoGC/sGOqYl/GYb/8O8+IzcZiv44/J9ALl2O/vL3b8pgyZL9wwyg0OJpkv9DsF/2Gq2S/sNLTlCtbZL+I+LnfiC9kv0D9rRqjIWO/sCa84r8gYr+Qiie6K41hv5APZTU8tmC/sG83hbA6YL9ABLSBePxevyDliOlmE1q/YD/7D5OEVL+AzsyTnpxMvwD6gJQHtEG/AP2vABA6O78Awkr97Cs+vwDQay7mh1O/\",\"dtype\":\"float64\",\"shape\":[75]},\"y\":{\"__ndarray__\":\"GhExyth1ND/Sv8nbtpRIP2vylNV0PVE/aTum7souWD/At0SJ8fVgPw3Iuahxymc/MSNhhJWvcD/bTfBN02d3P2zb5nxnaoA/CD5h5MAGhz8NmeH1TyaQP+zrCsc9p5Y/LbKd76fGnz/bLW5ISEmmPww9YvTcQq8/JV2OstnstT8Er5Y7M8G+P0c+r3jqkcU/5h99k6ZBzj88bCIzFzjVP4enV8oyxN0//yH99nXg5D8qOpLLf0jtP5kqGJXUifQ/c9cS8kHP/D+/DpwzojQEQIEmwoanVwxA4lgXt9HgE0BSSZ2AJuIbQAMJih9jjiNA5q4l5INuK0AwTKYKRj0zQNv5fmq8/DpAaCJseHrtQkB/+zpwzoxKQM3MzMzMeFJAZmZmZmZqWEAAAAAAAFxeQM3MzMzMJmJAmpmZmZkfZUBmZmZmZhhoQDMzMzMzEWtAAAAAAAAKbkBmZmZmZoFwQM3MzMzM/XFAMzMzMzN6c0CamZmZmfZ0QAAAAAAAc3ZAZmZmZmbvd0DNzMzMzGt5QDMzMzMz6HpAmpmZmZlkfEAAAAAAAOF9QGZmZmZmXX9AZmZmZuZsgECamZmZGSuBQM3MzMxM6YFAAAAAAICngkAzMzMzs2WDQGZmZmbmI4RAmpmZmRnihEDNzMzMTKCFQAAAAACAXoZAMzMzM7Mch0BmZmZm5tqHQJqZmZkZmYhAzczMzExXiUAAAAAAgBWKQDMzMzOz04pAZmZmZuaRi0CamZmZGVCMQM3MzMxMDo1AAAAAAIDMjUAzMzMzs4qOQGZmZmbmSI9A\",\"dtype\":\"float64\",\"shape\":[75]}},\"selected\":{\"id\":\"14200044-656d-4b17-b339-aa25a9225837\",\"type\":\"Selection\"},\"selection_policy\":{\"id\":\"630ef876-fbcd-4c19-954e-c9105069be72\",\"type\":\"UnionRenderers\"}},\"id\":\"a00daab9-5d73-4322-a351-03c2771e5ff2\",\"type\":\"ColumnDataSource\"},{\"attributes\":{},\"id\":\"6d87a635-23b8-428d-b31d-14579a4fc083\",\"type\":\"BasicTickFormatter\"},{\"attributes\":{\"data_source\":{\"id\":\"7d1d83f4-11d6-40e9-8561-490cc91866fa\",\"type\":\"ColumnDataSource\"},\"glyph\":{\"id\":\"ef02b776-7932-4f99-91d6-ea0199c8cb70\",\"type\":\"Line\"},\"hover_glyph\":null,\"muted_glyph\":null,\"nonselection_glyph\":{\"id\":\"ab8ff82d-93a6-40ad-b476-2b195112168c\",\"type\":\"Line\"},\"selection_glyph\":null,\"view\":{\"id\":\"d2a53d41-2290-49a7-88fe-118164e9c4ba\",\"type\":\"CDSView\"}},\"id\":\"a5ec3297-e165-4224-82d0-6b517ecbf9a5\",\"type\":\"GlyphRenderer\"},{\"attributes\":{},\"id\":\"185e042d-a93a-4032-b700-5500c3b08a18\",\"type\":\"UnionRenderers\"},{\"attributes\":{\"callback\":null,\"data\":{\"x\":{\"__ndarray__\":\"ULITVFunpD849/e6UYykPyF9r6N/RaQ/ft+EPKD8oz905BgWSLGjP+Ruz1AacqM/wt6+paM0oz8/0Gpg4QejPyhxU3Eu46I/wzdbFADaoj8L0RLhweyiP81qP89zJKM/o0ZTqYeXoz9haxnQRFGkPzV5VgeNqqQ/SbeFj4oqoz/8IcHlcuqfP93cMjGgvpg/DO/3WBsAkT8oPjJtlG+BPwCAvyYXRy6/UKfgQZ5thr/QAS++vcmTvwA4pG4RdYK/cKx8Q5+XiD8A15Sd9USXP8gljMarDZY/iKGgSbJoiz8kTax537BwPyAGiehhYmC/tEOvsX8Lbb/+mMHmxKhgvwCIPKNruRY/NpARn1P3Uj/1WYxQ1TlRP8AX7StNcC4/YIglAbncR79Q5CrFdypcv3CjtHZcBmS/QB4jJWn6Zb8IlkJNYd9mv0ib4h5Lqmi/APFqpQYNZ7+QuA6hm59kvxCONqVpOmK/qOVNp3hBYL8AHfaehz5dvxBkSCgWrFu/ONItWwywWr9AWKwr8rhav6gLZqAY3Vu/TFfgDN34Xb8IB6jkYTRfv7yWNYIhoGC/sGOqYl/GYb/8O8+IzcZiv44/J9ALl2O/vL3b8pgyZL9wwyg0OJpkv9DsF/2Gq2S/sNLTlCtbZL+I+LnfiC9kv0D9rRqjIWO/sCa84r8gYr+Qiie6K41hv5APZTU8tmC/sG83hbA6YL9ABLSBePxevyDliOlmE1q/YD/7D5OEVL+AzsyTnpxMvwD6gJQHtEG/AP2vABA6O78Awkr97Cs+vwDQay7mh1O/\",\"dtype\":\"float64\",\"shape\":[75]},\"y\":{\"__ndarray__\":\"GhExyth1ND/Sv8nbtpRIP2vylNV0PVE/aTum7souWD/At0SJ8fVgPw3Iuahxymc/MSNhhJWvcD/bTfBN02d3P2zb5nxnaoA/CD5h5MAGhz8NmeH1TyaQP+zrCsc9p5Y/LbKd76fGnz/bLW5ISEmmPww9YvTcQq8/JV2OstnstT8Er5Y7M8G+P0c+r3jqkcU/5h99k6ZBzj88bCIzFzjVP4enV8oyxN0//yH99nXg5D8qOpLLf0jtP5kqGJXUifQ/c9cS8kHP/D+/DpwzojQEQIEmwoanVwxA4lgXt9HgE0BSSZ2AJuIbQAMJih9jjiNA5q4l5INuK0AwTKYKRj0zQNv5fmq8/DpAaCJseHrtQkB/+zpwzoxKQM3MzMzMeFJAZmZmZmZqWEAAAAAAAFxeQM3MzMzMJmJAmpmZmZkfZUBmZmZmZhhoQDMzMzMzEWtAAAAAAAAKbkBmZmZmZoFwQM3MzMzM/XFAMzMzMzN6c0CamZmZmfZ0QAAAAAAAc3ZAZmZmZmbvd0DNzMzMzGt5QDMzMzMz6HpAmpmZmZlkfEAAAAAAAOF9QGZmZmZmXX9AZmZmZuZsgECamZmZGSuBQM3MzMxM6YFAAAAAAICngkAzMzMzs2WDQGZmZmbmI4RAmpmZmRnihEDNzMzMTKCFQAAAAACAXoZAMzMzM7Mch0BmZmZm5tqHQJqZmZkZmYhAzczMzExXiUAAAAAAgBWKQDMzMzOz04pAZmZmZuaRi0CamZmZGVCMQM3MzMxMDo1AAAAAAIDMjUAzMzMzs4qOQGZmZmbmSI9A\",\"dtype\":\"float64\",\"shape\":[75]}},\"selected\":{\"id\":\"1e2ad5ea-0985-4a6d-ab4c-e3bd11b5d4e0\",\"type\":\"Selection\"},\"selection_policy\":{\"id\":\"438d6eca-1f68-4629-b69c-5bbde02c4ecd\",\"type\":\"UnionRenderers\"}},\"id\":\"7d1d83f4-11d6-40e9-8561-490cc91866fa\",\"type\":\"ColumnDataSource\"},{\"attributes\":{},\"id\":\"2d9d17c3-10bd-43ed-82d7-98aa981f0ffd\",\"type\":\"BasicTickFormatter\"},{\"attributes\":{\"plot\":null,\"text\":\"\"},\"id\":\"eadd5efd-3e14-4134-a716-ce8f603d9e9e\",\"type\":\"Title\"},{\"attributes\":{},\"id\":\"5a3ed4c8-1058-4c1e-a79a-d6d6e6fda0bf\",\"type\":\"UnionRenderers\"},{\"attributes\":{\"line_alpha\":0.8,\"line_color\":\"#984ea3\",\"line_width\":1.5,\"x\":{\"field\":\"x\"},\"y\":{\"field\":\"y\"}},\"id\":\"ef02b776-7932-4f99-91d6-ea0199c8cb70\",\"type\":\"Line\"},{\"attributes\":{},\"id\":\"fce040a7-ea1f-40a0-9704-69464ee861ae\",\"type\":\"UnionRenderers\"},{\"attributes\":{},\"id\":\"0bd7eb1b-75ad-4482-ac1f-f22856eafe8d\",\"type\":\"Selection\"},{\"attributes\":{},\"id\":\"6b2984cd-dc36-46a5-a06e-e89f04fa0323\",\"type\":\"BasicTickFormatter\"},{\"attributes\":{},\"id\":\"198d3e59-a6b9-489b-b151-cc2a451af2d2\",\"type\":\"Selection\"},{\"attributes\":{\"plot\":null,\"text\":\"\"},\"id\":\"25618105-0a41-4a21-81a5-435f0c46e2bd\",\"type\":\"Title\"},{\"attributes\":{},\"id\":\"fd10e9e2-d6e9-4171-885c-2b46a2bdc901\",\"type\":\"UnionRenderers\"},{\"attributes\":{\"ticker\":null},\"id\":\"ca94eebd-4308-466f-942f-bd47c42bdcd9\",\"type\":\"LogTickFormatter\"},{\"attributes\":{},\"id\":\"2c156be6-a475-44de-8b28-4d3ef4c8de7e\",\"type\":\"Selection\"},{\"attributes\":{},\"id\":\"9838ef17-c1a4-43de-9710-583dc5b6293b\",\"type\":\"Selection\"},{\"attributes\":{},\"id\":\"eefa9b4e-0fad-4734-9f21-4730913fc61d\",\"type\":\"UnionRenderers\"},{\"attributes\":{\"plot\":null,\"text\":\"\"},\"id\":\"03e0650b-b47e-4b9a-acf5-63eccb0da739\",\"type\":\"Title\"}],\"root_ids\":[\"2c55422d-e963-49d8-bc32-85edb24a9ae0\"]},\"title\":\"Bokeh Application\",\"version\":\"0.12.16\"}};\n",
       "  var render_items = [{\"docid\":\"ebc2d0e0-7ed2-46b5-8283-6fc0b41c5f33\",\"elementid\":\"09f99d35-ec3f-41ab-8952-f0e55811754d\",\"modelid\":\"2c55422d-e963-49d8-bc32-85edb24a9ae0\"}];\n",
       "  root.Bokeh.embed.embed_items_notebook(docs_json, render_items);\n",
       "\n",
       "  }\n",
       "  if (root.Bokeh !== undefined) {\n",
       "    embed_document(root);\n",
       "  } else {\n",
       "    var attempts = 0;\n",
       "    var timer = setInterval(function(root) {\n",
       "      if (root.Bokeh !== undefined) {\n",
       "        embed_document(root);\n",
       "        clearInterval(timer);\n",
       "      }\n",
       "      attempts++;\n",
       "      if (attempts > 100) {\n",
       "        console.log(\"Bokeh: ERROR: Unable to run BokehJS code because BokehJS library is missing\")\n",
       "        clearInterval(timer);\n",
       "      }\n",
       "    }, 10, root)\n",
       "  }\n",
       "})(window);"
      ],
      "application/vnd.bokehjs_exec.v0+json": ""
     },
     "metadata": {
      "application/vnd.bokehjs_exec.v0+json": {
       "id": "2c55422d-e963-49d8-bc32-85edb24a9ae0"
      }
     },
     "output_type": "display_data"
    },
    {
     "data": {
      "text/markdown": [
       "*FIGURE.* Cooling rates & difference."
      ],
      "text/plain": [
       "<IPython.core.display.Markdown object>"
      ]
     },
     "metadata": {},
     "output_type": "display_data"
    },
    {
     "data": {
      "text/html": [
       "<a id=\"Fluxes._mls.\"></a>"
      ],
      "text/plain": [
       "<IPython.core.display.HTML object>"
      ]
     },
     "metadata": {},
     "output_type": "display_data"
    },
    {
     "data": {
      "text/markdown": [
       "# Fluxes. mls."
      ],
      "text/plain": [
       "<IPython.core.display.Markdown object>"
      ]
     },
     "metadata": {},
     "output_type": "display_data"
    },
    {
     "data": {
      "text/html": [
       "\n",
       "<div class=\"bk-root\">\n",
       "    <div class=\"bk-plotdiv\" id=\"ece459af-0f75-4b03-82f9-879dd76f7a7e\"></div>\n",
       "</div>"
      ]
     },
     "metadata": {},
     "output_type": "display_data"
    },
    {
     "data": {
      "application/javascript": [
       "(function(root) {\n",
       "  function embed_document(root) {\n",
       "    \n",
       "  var docs_json = {\"4ca8625d-6c89-43b5-8f74-9d0d789a6724\":{\"roots\":{\"references\":[{\"attributes\":{\"bottom_units\":\"screen\",\"fill_alpha\":{\"value\":0.5},\"fill_color\":{\"value\":\"lightgrey\"},\"left_units\":\"screen\",\"level\":\"overlay\",\"line_alpha\":{\"value\":1.0},\"line_color\":{\"value\":\"black\"},\"line_dash\":[4,4],\"line_width\":{\"value\":2},\"plot\":null,\"render_mode\":\"css\",\"right_units\":\"screen\",\"top_units\":\"screen\"},\"id\":\"301663eb-4fc4-4481-9125-b4038c95ed70\",\"type\":\"BoxAnnotation\"},{\"attributes\":{},\"id\":\"5ee805a7-eba6-4871-98d4-eeebc9428beb\",\"type\":\"CategoricalScale\"},{\"attributes\":{},\"id\":\"4242f45f-3ca0-472a-bd44-841c353af775\",\"type\":\"LinearScale\"},{\"attributes\":{},\"id\":\"46c9b4b2-27ca-456d-8b33-d15626a77bf9\",\"type\":\"CategoricalTicker\"},{\"attributes\":{},\"id\":\"d6aae99f-473d-43c1-99e4-401b4ed4d371\",\"type\":\"SaveTool\"},{\"attributes\":{\"dimension\":1,\"plot\":{\"id\":\"ae2e773b-b96a-4e1d-8ff9-35803e256714\",\"subtype\":\"Figure\",\"type\":\"Plot\"},\"ticker\":{\"id\":\"5f1b355d-99b7-465b-a5ee-bcf7dedf4672\",\"type\":\"BasicTicker\"}},\"id\":\"b4a7b9f0-ad4a-4627-bac0-303cd3fbfbfe\",\"type\":\"Grid\"},{\"attributes\":{},\"id\":\"5e7e8bdc-573e-4d5a-a6d8-87ba0aef8383\",\"type\":\"CategoricalTickFormatter\"},{\"attributes\":{\"callback\":null},\"id\":\"fd502798-82f0-4374-b7a7-694466f0f439\",\"type\":\"DataRange1d\"},{\"attributes\":{\"axis_label\":\"flux (W m-2)\",\"formatter\":{\"id\":\"355895f4-da98-4642-8683-07031dca06a6\",\"type\":\"BasicTickFormatter\"},\"plot\":{\"id\":\"ae2e773b-b96a-4e1d-8ff9-35803e256714\",\"subtype\":\"Figure\",\"type\":\"Plot\"},\"ticker\":{\"id\":\"5f1b355d-99b7-465b-a5ee-bcf7dedf4672\",\"type\":\"BasicTicker\"}},\"id\":\"3f5a91da-208f-43b2-a88e-6d44a061f362\",\"type\":\"LinearAxis\"},{\"attributes\":{\"plot\":null,\"text\":\"TOA flux. CLIRAD - CRD.\"},\"id\":\"6af1ee42-88af-4ea7-8da5-c12392dc83ba\",\"type\":\"Title\"},{\"attributes\":{\"axis_label\":\"flux (W m-2)\",\"formatter\":{\"id\":\"cb26a14e-cc28-44c7-a802-b16edb7ae364\",\"type\":\"BasicTickFormatter\"},\"plot\":{\"id\":\"e9dee157-870e-4131-a26c-122daf630d88\",\"subtype\":\"Figure\",\"type\":\"Plot\"},\"ticker\":{\"id\":\"25acce74-c1ab-4e6e-8bd8-a42e64e43cb4\",\"type\":\"BasicTicker\"}},\"id\":\"978bf543-0125-4536-910a-6adbd19f16ca\",\"type\":\"LinearAxis\"},{\"attributes\":{},\"id\":\"5f1b355d-99b7-465b-a5ee-bcf7dedf4672\",\"type\":\"BasicTicker\"},{\"attributes\":{\"axis_label\":\"spectral band\",\"formatter\":{\"id\":\"b5eceeef-b8d2-4b72-806c-27d6b2006005\",\"type\":\"CategoricalTickFormatter\"},\"plot\":{\"id\":\"31f6a25f-5de2-4f9f-a229-6f73f2d46018\",\"subtype\":\"Figure\",\"type\":\"Plot\"},\"ticker\":{\"id\":\"46c9b4b2-27ca-456d-8b33-d15626a77bf9\",\"type\":\"CategoricalTicker\"}},\"id\":\"0d5ec6c5-7ca5-49a9-85b9-56d4ecdf04ab\",\"type\":\"CategoricalAxis\"},{\"attributes\":{},\"id\":\"ecb3fa58-3646-4f90-9696-dcbe893204c4\",\"type\":\"CategoricalScale\"},{\"attributes\":{},\"id\":\"e34cd801-3ef0-4123-b54e-14a94597ed35\",\"type\":\"Selection\"},{\"attributes\":{\"callback\":null},\"id\":\"bb2beb00-2611-40d4-b9aa-fa19cdfecae2\",\"type\":\"DataRange1d\"},{\"attributes\":{},\"id\":\"39634b22-747e-4b1f-8af9-2771f20e10d6\",\"type\":\"Selection\"},{\"attributes\":{\"active_drag\":\"auto\",\"active_inspect\":\"auto\",\"active_scroll\":\"auto\",\"active_tap\":\"auto\",\"tools\":[{\"id\":\"d4cff9de-4465-465e-b300-28e4f01e0eef\",\"type\":\"PanTool\"},{\"id\":\"ba6837b7-2135-4bf3-9570-83638f1ba6a8\",\"type\":\"WheelZoomTool\"},{\"id\":\"0bd1ff86-47db-487b-ace5-6b035ab0c6dd\",\"type\":\"BoxZoomTool\"},{\"id\":\"96b90a4c-d1fd-42d2-a549-d5930dbf8050\",\"type\":\"SaveTool\"},{\"id\":\"8a356533-663b-4a85-883a-cc59220c97e8\",\"type\":\"ResetTool\"},{\"id\":\"ebda91bf-d395-41de-a92c-344a4eaaff7d\",\"type\":\"HelpTool\"}]},\"id\":\"87205c43-2295-476a-816b-11760b225066\",\"type\":\"Toolbar\"},{\"attributes\":{\"plot\":{\"id\":\"e9dee157-870e-4131-a26c-122daf630d88\",\"subtype\":\"Figure\",\"type\":\"Plot\"},\"ticker\":{\"id\":\"c588f5e4-6d9c-4954-bb86-d6bee0ac7935\",\"type\":\"CategoricalTicker\"}},\"id\":\"85940006-6592-48f0-8f60-81e3cd60688d\",\"type\":\"Grid\"},{\"attributes\":{\"axis_label\":\"spectral band\",\"formatter\":{\"id\":\"5e7e8bdc-573e-4d5a-a6d8-87ba0aef8383\",\"type\":\"CategoricalTickFormatter\"},\"plot\":{\"id\":\"e9dee157-870e-4131-a26c-122daf630d88\",\"subtype\":\"Figure\",\"type\":\"Plot\"},\"ticker\":{\"id\":\"c588f5e4-6d9c-4954-bb86-d6bee0ac7935\",\"type\":\"CategoricalTicker\"}},\"id\":\"84f7b7c4-13e5-4761-8989-928c2fd1826a\",\"type\":\"CategoricalAxis\"},{\"attributes\":{\"callback\":null,\"data\":{\"band\":[\"9\"],\"flux\":{\"__ndarray__\":\"gMmLjtyBzb8=\",\"dtype\":\"float64\",\"shape\":[1]}},\"selected\":{\"id\":\"e34cd801-3ef0-4123-b54e-14a94597ed35\",\"type\":\"Selection\"},\"selection_policy\":{\"id\":\"8fe269c3-f66e-4203-8960-e43e4f45d28b\",\"type\":\"UnionRenderers\"}},\"id\":\"caede302-1f19-44cb-b695-badea24ad5e8\",\"type\":\"ColumnDataSource\"},{\"attributes\":{\"plot\":null,\"text\":\"Atmosphere heating. CLIRAD - CRD.\"},\"id\":\"6c4ec14f-8e6d-443d-a5a5-d445cba66929\",\"type\":\"Title\"},{\"attributes\":{\"plot\":{\"id\":\"31f6a25f-5de2-4f9f-a229-6f73f2d46018\",\"subtype\":\"Figure\",\"type\":\"Plot\"},\"ticker\":{\"id\":\"46c9b4b2-27ca-456d-8b33-d15626a77bf9\",\"type\":\"CategoricalTicker\"}},\"id\":\"f1f399bf-085f-44e0-8137-113fe265f975\",\"type\":\"Grid\"},{\"attributes\":{\"axis_label\":\"flux (W m-2)\",\"formatter\":{\"id\":\"5a1ed457-2264-48cb-abab-b89daf1b476d\",\"type\":\"BasicTickFormatter\"},\"plot\":{\"id\":\"31f6a25f-5de2-4f9f-a229-6f73f2d46018\",\"subtype\":\"Figure\",\"type\":\"Plot\"},\"ticker\":{\"id\":\"9b594302-1071-4313-b78a-1cd0faae98a4\",\"type\":\"BasicTicker\"}},\"id\":\"7ba05573-2ad2-4e7f-b3d6-93b348ceac19\",\"type\":\"LinearAxis\"},{\"attributes\":{\"overlay\":{\"id\":\"301663eb-4fc4-4481-9125-b4038c95ed70\",\"type\":\"BoxAnnotation\"}},\"id\":\"1bef98a2-3121-4ade-8f7d-fcdec00ce35e\",\"type\":\"BoxZoomTool\"},{\"attributes\":{},\"id\":\"96b90a4c-d1fd-42d2-a549-d5930dbf8050\",\"type\":\"SaveTool\"},{\"attributes\":{\"fill_alpha\":{\"value\":0.1},\"fill_color\":{\"value\":\"#1f77b4\"},\"line_alpha\":{\"value\":0.1},\"line_color\":{\"value\":\"#1f77b4\"},\"top\":{\"field\":\"flux\"},\"width\":{\"value\":0.9},\"x\":{\"field\":\"band\"}},\"id\":\"285bafa9-9140-4dd9-8fb3-cef91e69525b\",\"type\":\"VBar\"},{\"attributes\":{},\"id\":\"a17f8a52-d283-46c2-bb62-52eb50c2f8fb\",\"type\":\"CategoricalTicker\"},{\"attributes\":{\"axis_label\":\"spectral band\",\"formatter\":{\"id\":\"e71774c9-e980-4823-9593-d3763717bd77\",\"type\":\"CategoricalTickFormatter\"},\"plot\":{\"id\":\"ae2e773b-b96a-4e1d-8ff9-35803e256714\",\"subtype\":\"Figure\",\"type\":\"Plot\"},\"ticker\":{\"id\":\"a17f8a52-d283-46c2-bb62-52eb50c2f8fb\",\"type\":\"CategoricalTicker\"}},\"id\":\"c5029299-e7ba-4332-8986-0c8506f9e482\",\"type\":\"CategoricalAxis\"},{\"attributes\":{\"callback\":null},\"id\":\"4a2b6661-5871-49da-8bb2-7cc66ab6d866\",\"type\":\"DataRange1d\"},{\"attributes\":{},\"id\":\"9dcd2b29-84c4-4d58-ad51-50bce9f19abe\",\"type\":\"CategoricalScale\"},{\"attributes\":{\"below\":[{\"id\":\"c5029299-e7ba-4332-8986-0c8506f9e482\",\"type\":\"CategoricalAxis\"}],\"left\":[{\"id\":\"3f5a91da-208f-43b2-a88e-6d44a061f362\",\"type\":\"LinearAxis\"}],\"plot_height\":300,\"plot_width\":300,\"renderers\":[{\"id\":\"c5029299-e7ba-4332-8986-0c8506f9e482\",\"type\":\"CategoricalAxis\"},{\"id\":\"4e6ed365-4b6c-4bff-bff5-27b3e11d95b6\",\"type\":\"Grid\"},{\"id\":\"3f5a91da-208f-43b2-a88e-6d44a061f362\",\"type\":\"LinearAxis\"},{\"id\":\"b4a7b9f0-ad4a-4627-bac0-303cd3fbfbfe\",\"type\":\"Grid\"},{\"id\":\"e619bd4c-6d63-4832-8293-f6a80f2c6cb9\",\"type\":\"BoxAnnotation\"},{\"id\":\"352b0a2d-0071-452b-8cf5-741d9a3302fe\",\"type\":\"GlyphRenderer\"}],\"title\":{\"id\":\"c826ae0b-cc5c-4fc5-b2f7-5084341ff3e8\",\"type\":\"Title\"},\"toolbar\":{\"id\":\"0bc8399c-7d02-40ad-a944-32006c5803f5\",\"type\":\"Toolbar\"},\"toolbar_location\":null,\"x_range\":{\"id\":\"155dff06-64f5-46a6-baee-027c399cdf6c\",\"type\":\"FactorRange\"},\"x_scale\":{\"id\":\"9dcd2b29-84c4-4d58-ad51-50bce9f19abe\",\"type\":\"CategoricalScale\"},\"y_range\":{\"id\":\"4a2b6661-5871-49da-8bb2-7cc66ab6d866\",\"type\":\"DataRange1d\"},\"y_scale\":{\"id\":\"34f479bf-01d5-4979-adb0-d3cbebc8f516\",\"type\":\"LinearScale\"}},\"id\":\"ae2e773b-b96a-4e1d-8ff9-35803e256714\",\"subtype\":\"Figure\",\"type\":\"Plot\"},{\"attributes\":{},\"id\":\"34f479bf-01d5-4979-adb0-d3cbebc8f516\",\"type\":\"LinearScale\"},{\"attributes\":{\"overlay\":{\"id\":\"ee6185f1-db46-470e-a769-052f6a22adee\",\"type\":\"BoxAnnotation\"}},\"id\":\"0bd1ff86-47db-487b-ace5-6b035ab0c6dd\",\"type\":\"BoxZoomTool\"},{\"attributes\":{},\"id\":\"8a356533-663b-4a85-883a-cc59220c97e8\",\"type\":\"ResetTool\"},{\"attributes\":{\"below\":[{\"id\":\"84f7b7c4-13e5-4761-8989-928c2fd1826a\",\"type\":\"CategoricalAxis\"}],\"left\":[{\"id\":\"978bf543-0125-4536-910a-6adbd19f16ca\",\"type\":\"LinearAxis\"}],\"plot_height\":300,\"plot_width\":300,\"renderers\":[{\"id\":\"84f7b7c4-13e5-4761-8989-928c2fd1826a\",\"type\":\"CategoricalAxis\"},{\"id\":\"85940006-6592-48f0-8f60-81e3cd60688d\",\"type\":\"Grid\"},{\"id\":\"978bf543-0125-4536-910a-6adbd19f16ca\",\"type\":\"LinearAxis\"},{\"id\":\"ecda2062-1811-462d-baf3-c6f9b4afaf07\",\"type\":\"Grid\"},{\"id\":\"ee6185f1-db46-470e-a769-052f6a22adee\",\"type\":\"BoxAnnotation\"},{\"id\":\"7307ff37-161d-46b9-b2a7-6cf074c73fc0\",\"type\":\"GlyphRenderer\"}],\"title\":{\"id\":\"6c4ec14f-8e6d-443d-a5a5-d445cba66929\",\"type\":\"Title\"},\"toolbar\":{\"id\":\"87205c43-2295-476a-816b-11760b225066\",\"type\":\"Toolbar\"},\"toolbar_location\":null,\"x_range\":{\"id\":\"f312d60c-d39e-4554-9248-5327b02a82e0\",\"type\":\"FactorRange\"},\"x_scale\":{\"id\":\"ecb3fa58-3646-4f90-9696-dcbe893204c4\",\"type\":\"CategoricalScale\"},\"y_range\":{\"id\":\"bb2beb00-2611-40d4-b9aa-fa19cdfecae2\",\"type\":\"DataRange1d\"},\"y_scale\":{\"id\":\"4242f45f-3ca0-472a-bd44-841c353af775\",\"type\":\"LinearScale\"}},\"id\":\"e9dee157-870e-4131-a26c-122daf630d88\",\"subtype\":\"Figure\",\"type\":\"Plot\"},{\"attributes\":{},\"id\":\"37b95e91-7f5a-4755-9f50-dd823b581193\",\"type\":\"ResetTool\"},{\"attributes\":{\"data_source\":{\"id\":\"049ea811-ceb5-4d7e-beb6-dd44c940dea0\",\"type\":\"ColumnDataSource\"},\"glyph\":{\"id\":\"bed2142b-0df9-4a22-a54f-9b85d9d8094e\",\"type\":\"VBar\"},\"hover_glyph\":null,\"muted_glyph\":null,\"nonselection_glyph\":{\"id\":\"56b1c12c-3686-49db-9efa-59231b0f5766\",\"type\":\"VBar\"},\"selection_glyph\":null,\"view\":{\"id\":\"ca2ff335-9bcc-4248-88ac-05946cf17a86\",\"type\":\"CDSView\"}},\"id\":\"5c678cc9-dd21-4796-9b63-fe87625b48f1\",\"type\":\"GlyphRenderer\"},{\"attributes\":{\"source\":{\"id\":\"d90749c0-d890-4554-a74a-af4b1fbe9e71\",\"type\":\"ColumnDataSource\"}},\"id\":\"a67a5a3b-2873-4acc-b595-9e581de5d300\",\"type\":\"CDSView\"},{\"attributes\":{},\"id\":\"ba6837b7-2135-4bf3-9570-83638f1ba6a8\",\"type\":\"WheelZoomTool\"},{\"attributes\":{\"plot\":{\"id\":\"ae2e773b-b96a-4e1d-8ff9-35803e256714\",\"subtype\":\"Figure\",\"type\":\"Plot\"},\"ticker\":{\"id\":\"a17f8a52-d283-46c2-bb62-52eb50c2f8fb\",\"type\":\"CategoricalTicker\"}},\"id\":\"4e6ed365-4b6c-4bff-bff5-27b3e11d95b6\",\"type\":\"Grid\"},{\"attributes\":{\"data_source\":{\"id\":\"d90749c0-d890-4554-a74a-af4b1fbe9e71\",\"type\":\"ColumnDataSource\"},\"glyph\":{\"id\":\"65b54c2f-e161-4723-88f7-724fadcbbcd5\",\"type\":\"VBar\"},\"hover_glyph\":null,\"muted_glyph\":null,\"nonselection_glyph\":{\"id\":\"3eb08047-dc28-4367-bc42-1df4d4bc0eca\",\"type\":\"VBar\"},\"selection_glyph\":null,\"view\":{\"id\":\"a67a5a3b-2873-4acc-b595-9e581de5d300\",\"type\":\"CDSView\"}},\"id\":\"7307ff37-161d-46b9-b2a7-6cf074c73fc0\",\"type\":\"GlyphRenderer\"},{\"attributes\":{\"source\":{\"id\":\"049ea811-ceb5-4d7e-beb6-dd44c940dea0\",\"type\":\"ColumnDataSource\"}},\"id\":\"ca2ff335-9bcc-4248-88ac-05946cf17a86\",\"type\":\"CDSView\"},{\"attributes\":{},\"id\":\"d4cff9de-4465-465e-b300-28e4f01e0eef\",\"type\":\"PanTool\"},{\"attributes\":{\"callback\":null,\"factors\":[\"9\"]},\"id\":\"155dff06-64f5-46a6-baee-027c399cdf6c\",\"type\":\"FactorRange\"},{\"attributes\":{\"bottom_units\":\"screen\",\"fill_alpha\":{\"value\":0.5},\"fill_color\":{\"value\":\"lightgrey\"},\"left_units\":\"screen\",\"level\":\"overlay\",\"line_alpha\":{\"value\":1.0},\"line_color\":{\"value\":\"black\"},\"line_dash\":[4,4],\"line_width\":{\"value\":2},\"plot\":null,\"render_mode\":\"css\",\"right_units\":\"screen\",\"top_units\":\"screen\"},\"id\":\"ee6185f1-db46-470e-a769-052f6a22adee\",\"type\":\"BoxAnnotation\"},{\"attributes\":{\"active_drag\":\"auto\",\"active_inspect\":\"auto\",\"active_scroll\":\"auto\",\"active_tap\":\"auto\",\"tools\":[{\"id\":\"5103a1d5-f51f-47f9-9892-e74279b53591\",\"type\":\"PanTool\"},{\"id\":\"9c80ea89-d21e-4582-89f0-f8ce2faa9e95\",\"type\":\"WheelZoomTool\"},{\"id\":\"0c796d56-8dc2-4d3e-9857-c7f3712d5a52\",\"type\":\"BoxZoomTool\"},{\"id\":\"ccbfde59-4424-4303-b689-8ab2caff7ba8\",\"type\":\"SaveTool\"},{\"id\":\"0a441d24-5e7c-41ce-a3fc-cb6ed7ed4117\",\"type\":\"ResetTool\"},{\"id\":\"12e9e826-5740-4e25-ab4b-448cf226e6ee\",\"type\":\"HelpTool\"}]},\"id\":\"0bc8399c-7d02-40ad-a944-32006c5803f5\",\"type\":\"Toolbar\"},{\"attributes\":{},\"id\":\"cb26a14e-cc28-44c7-a802-b16edb7ae364\",\"type\":\"BasicTickFormatter\"},{\"attributes\":{},\"id\":\"55b5fffa-e2cd-4059-bd4f-9aa8ee979c93\",\"type\":\"HelpTool\"},{\"attributes\":{\"children\":[{\"id\":\"31f6a25f-5de2-4f9f-a229-6f73f2d46018\",\"subtype\":\"Figure\",\"type\":\"Plot\"},{\"id\":\"ae2e773b-b96a-4e1d-8ff9-35803e256714\",\"subtype\":\"Figure\",\"type\":\"Plot\"},{\"id\":\"e9dee157-870e-4131-a26c-122daf630d88\",\"subtype\":\"Figure\",\"type\":\"Plot\"}]},\"id\":\"021709eb-e3cb-4220-a256-ea47ce53369c\",\"type\":\"Row\"},{\"attributes\":{\"fill_color\":{\"value\":\"#1f77b4\"},\"line_color\":{\"value\":\"#1f77b4\"},\"top\":{\"field\":\"flux\"},\"width\":{\"value\":0.9},\"x\":{\"field\":\"band\"}},\"id\":\"bb951093-502e-4507-8d9e-4326625f39fe\",\"type\":\"VBar\"},{\"attributes\":{\"below\":[{\"id\":\"0d5ec6c5-7ca5-49a9-85b9-56d4ecdf04ab\",\"type\":\"CategoricalAxis\"}],\"left\":[{\"id\":\"7ba05573-2ad2-4e7f-b3d6-93b348ceac19\",\"type\":\"LinearAxis\"}],\"plot_height\":300,\"plot_width\":300,\"renderers\":[{\"id\":\"0d5ec6c5-7ca5-49a9-85b9-56d4ecdf04ab\",\"type\":\"CategoricalAxis\"},{\"id\":\"f1f399bf-085f-44e0-8137-113fe265f975\",\"type\":\"Grid\"},{\"id\":\"7ba05573-2ad2-4e7f-b3d6-93b348ceac19\",\"type\":\"LinearAxis\"},{\"id\":\"e57f7458-0cfa-468a-8497-10bfe6d059ac\",\"type\":\"Grid\"},{\"id\":\"301663eb-4fc4-4481-9125-b4038c95ed70\",\"type\":\"BoxAnnotation\"},{\"id\":\"5c678cc9-dd21-4796-9b63-fe87625b48f1\",\"type\":\"GlyphRenderer\"}],\"title\":{\"id\":\"6af1ee42-88af-4ea7-8da5-c12392dc83ba\",\"type\":\"Title\"},\"toolbar\":{\"id\":\"841ac136-511f-495f-8089-682e9cc935c5\",\"type\":\"Toolbar\"},\"toolbar_location\":null,\"x_range\":{\"id\":\"072e5232-bb39-406b-af13-859ab545595b\",\"type\":\"FactorRange\"},\"x_scale\":{\"id\":\"5ee805a7-eba6-4871-98d4-eeebc9428beb\",\"type\":\"CategoricalScale\"},\"y_range\":{\"id\":\"fd502798-82f0-4374-b7a7-694466f0f439\",\"type\":\"DataRange1d\"},\"y_scale\":{\"id\":\"2e14db28-44e1-40c5-934c-b2621f76cdc4\",\"type\":\"LinearScale\"}},\"id\":\"31f6a25f-5de2-4f9f-a229-6f73f2d46018\",\"subtype\":\"Figure\",\"type\":\"Plot\"},{\"attributes\":{\"fill_color\":{\"value\":\"#1f77b4\"},\"line_color\":{\"value\":\"#1f77b4\"},\"top\":{\"field\":\"flux\"},\"width\":{\"value\":0.9},\"x\":{\"field\":\"band\"}},\"id\":\"65b54c2f-e161-4723-88f7-724fadcbbcd5\",\"type\":\"VBar\"},{\"attributes\":{},\"id\":\"1c854348-b8c3-4bf1-b2dd-b6690eee01bf\",\"type\":\"PanTool\"},{\"attributes\":{\"bottom_units\":\"screen\",\"fill_alpha\":{\"value\":0.5},\"fill_color\":{\"value\":\"lightgrey\"},\"left_units\":\"screen\",\"level\":\"overlay\",\"line_alpha\":{\"value\":1.0},\"line_color\":{\"value\":\"black\"},\"line_dash\":[4,4],\"line_width\":{\"value\":2},\"plot\":null,\"render_mode\":\"css\",\"right_units\":\"screen\",\"top_units\":\"screen\"},\"id\":\"e619bd4c-6d63-4832-8293-f6a80f2c6cb9\",\"type\":\"BoxAnnotation\"},{\"attributes\":{},\"id\":\"b5eceeef-b8d2-4b72-806c-27d6b2006005\",\"type\":\"CategoricalTickFormatter\"},{\"attributes\":{},\"id\":\"5103a1d5-f51f-47f9-9892-e74279b53591\",\"type\":\"PanTool\"},{\"attributes\":{\"dimension\":1,\"plot\":{\"id\":\"e9dee157-870e-4131-a26c-122daf630d88\",\"subtype\":\"Figure\",\"type\":\"Plot\"},\"ticker\":{\"id\":\"25acce74-c1ab-4e6e-8bd8-a42e64e43cb4\",\"type\":\"BasicTicker\"}},\"id\":\"ecda2062-1811-462d-baf3-c6f9b4afaf07\",\"type\":\"Grid\"},{\"attributes\":{\"callback\":null,\"data\":{\"band\":[\"9\"],\"flux\":{\"__ndarray__\":\"APlqfGPeyT8=\",\"dtype\":\"float64\",\"shape\":[1]}},\"selected\":{\"id\":\"39634b22-747e-4b1f-8af9-2771f20e10d6\",\"type\":\"Selection\"},\"selection_policy\":{\"id\":\"063b9e37-6399-49e4-b844-c123865c4c86\",\"type\":\"UnionRenderers\"}},\"id\":\"d90749c0-d890-4554-a74a-af4b1fbe9e71\",\"type\":\"ColumnDataSource\"},{\"attributes\":{},\"id\":\"25acce74-c1ab-4e6e-8bd8-a42e64e43cb4\",\"type\":\"BasicTicker\"},{\"attributes\":{},\"id\":\"9c80ea89-d21e-4582-89f0-f8ce2faa9e95\",\"type\":\"WheelZoomTool\"},{\"attributes\":{\"fill_alpha\":{\"value\":0.1},\"fill_color\":{\"value\":\"#1f77b4\"},\"line_alpha\":{\"value\":0.1},\"line_color\":{\"value\":\"#1f77b4\"},\"top\":{\"field\":\"flux\"},\"width\":{\"value\":0.9},\"x\":{\"field\":\"band\"}},\"id\":\"56b1c12c-3686-49db-9efa-59231b0f5766\",\"type\":\"VBar\"},{\"attributes\":{},\"id\":\"c588f5e4-6d9c-4954-bb86-d6bee0ac7935\",\"type\":\"CategoricalTicker\"},{\"attributes\":{\"overlay\":{\"id\":\"e619bd4c-6d63-4832-8293-f6a80f2c6cb9\",\"type\":\"BoxAnnotation\"}},\"id\":\"0c796d56-8dc2-4d3e-9857-c7f3712d5a52\",\"type\":\"BoxZoomTool\"},{\"attributes\":{},\"id\":\"ccbfde59-4424-4303-b689-8ab2caff7ba8\",\"type\":\"SaveTool\"},{\"attributes\":{\"fill_color\":{\"value\":\"#1f77b4\"},\"line_color\":{\"value\":\"#1f77b4\"},\"top\":{\"field\":\"flux\"},\"width\":{\"value\":0.9},\"x\":{\"field\":\"band\"}},\"id\":\"bed2142b-0df9-4a22-a54f-9b85d9d8094e\",\"type\":\"VBar\"},{\"attributes\":{},\"id\":\"0a441d24-5e7c-41ce-a3fc-cb6ed7ed4117\",\"type\":\"ResetTool\"},{\"attributes\":{\"fill_alpha\":{\"value\":0.1},\"fill_color\":{\"value\":\"#1f77b4\"},\"line_alpha\":{\"value\":0.1},\"line_color\":{\"value\":\"#1f77b4\"},\"top\":{\"field\":\"flux\"},\"width\":{\"value\":0.9},\"x\":{\"field\":\"band\"}},\"id\":\"3eb08047-dc28-4367-bc42-1df4d4bc0eca\",\"type\":\"VBar\"},{\"attributes\":{\"data_source\":{\"id\":\"caede302-1f19-44cb-b695-badea24ad5e8\",\"type\":\"ColumnDataSource\"},\"glyph\":{\"id\":\"bb951093-502e-4507-8d9e-4326625f39fe\",\"type\":\"VBar\"},\"hover_glyph\":null,\"muted_glyph\":null,\"nonselection_glyph\":{\"id\":\"285bafa9-9140-4dd9-8fb3-cef91e69525b\",\"type\":\"VBar\"},\"selection_glyph\":null,\"view\":{\"id\":\"bdd412a1-d29a-4699-ada2-dbac20dc8b5c\",\"type\":\"CDSView\"}},\"id\":\"352b0a2d-0071-452b-8cf5-741d9a3302fe\",\"type\":\"GlyphRenderer\"},{\"attributes\":{},\"id\":\"12e9e826-5740-4e25-ab4b-448cf226e6ee\",\"type\":\"HelpTool\"},{\"attributes\":{\"callback\":null,\"factors\":[\"9\"]},\"id\":\"f312d60c-d39e-4554-9248-5327b02a82e0\",\"type\":\"FactorRange\"},{\"attributes\":{},\"id\":\"ebda91bf-d395-41de-a92c-344a4eaaff7d\",\"type\":\"HelpTool\"},{\"attributes\":{\"tools\":[{\"id\":\"1c854348-b8c3-4bf1-b2dd-b6690eee01bf\",\"type\":\"PanTool\"},{\"id\":\"3c79607d-7f10-4c34-bd44-648afaa5fffe\",\"type\":\"WheelZoomTool\"},{\"id\":\"1bef98a2-3121-4ade-8f7d-fcdec00ce35e\",\"type\":\"BoxZoomTool\"},{\"id\":\"d6aae99f-473d-43c1-99e4-401b4ed4d371\",\"type\":\"SaveTool\"},{\"id\":\"37b95e91-7f5a-4755-9f50-dd823b581193\",\"type\":\"ResetTool\"},{\"id\":\"55b5fffa-e2cd-4059-bd4f-9aa8ee979c93\",\"type\":\"HelpTool\"},{\"id\":\"5103a1d5-f51f-47f9-9892-e74279b53591\",\"type\":\"PanTool\"},{\"id\":\"9c80ea89-d21e-4582-89f0-f8ce2faa9e95\",\"type\":\"WheelZoomTool\"},{\"id\":\"0c796d56-8dc2-4d3e-9857-c7f3712d5a52\",\"type\":\"BoxZoomTool\"},{\"id\":\"ccbfde59-4424-4303-b689-8ab2caff7ba8\",\"type\":\"SaveTool\"},{\"id\":\"0a441d24-5e7c-41ce-a3fc-cb6ed7ed4117\",\"type\":\"ResetTool\"},{\"id\":\"12e9e826-5740-4e25-ab4b-448cf226e6ee\",\"type\":\"HelpTool\"},{\"id\":\"d4cff9de-4465-465e-b300-28e4f01e0eef\",\"type\":\"PanTool\"},{\"id\":\"ba6837b7-2135-4bf3-9570-83638f1ba6a8\",\"type\":\"WheelZoomTool\"},{\"id\":\"0bd1ff86-47db-487b-ace5-6b035ab0c6dd\",\"type\":\"BoxZoomTool\"},{\"id\":\"96b90a4c-d1fd-42d2-a549-d5930dbf8050\",\"type\":\"SaveTool\"},{\"id\":\"8a356533-663b-4a85-883a-cc59220c97e8\",\"type\":\"ResetTool\"},{\"id\":\"ebda91bf-d395-41de-a92c-344a4eaaff7d\",\"type\":\"HelpTool\"}]},\"id\":\"3519c950-0b59-40fc-b06f-b62903cea430\",\"type\":\"ProxyToolbar\"},{\"attributes\":{},\"id\":\"5a1ed457-2264-48cb-abab-b89daf1b476d\",\"type\":\"BasicTickFormatter\"},{\"attributes\":{},\"id\":\"4dea7e2f-7c7d-4ef4-beb8-de38b35f3f93\",\"type\":\"UnionRenderers\"},{\"attributes\":{\"active_drag\":\"auto\",\"active_inspect\":\"auto\",\"active_scroll\":\"auto\",\"active_tap\":\"auto\",\"tools\":[{\"id\":\"1c854348-b8c3-4bf1-b2dd-b6690eee01bf\",\"type\":\"PanTool\"},{\"id\":\"3c79607d-7f10-4c34-bd44-648afaa5fffe\",\"type\":\"WheelZoomTool\"},{\"id\":\"1bef98a2-3121-4ade-8f7d-fcdec00ce35e\",\"type\":\"BoxZoomTool\"},{\"id\":\"d6aae99f-473d-43c1-99e4-401b4ed4d371\",\"type\":\"SaveTool\"},{\"id\":\"37b95e91-7f5a-4755-9f50-dd823b581193\",\"type\":\"ResetTool\"},{\"id\":\"55b5fffa-e2cd-4059-bd4f-9aa8ee979c93\",\"type\":\"HelpTool\"}]},\"id\":\"841ac136-511f-495f-8089-682e9cc935c5\",\"type\":\"Toolbar\"},{\"attributes\":{},\"id\":\"063b9e37-6399-49e4-b844-c123865c4c86\",\"type\":\"UnionRenderers\"},{\"attributes\":{\"children\":[{\"id\":\"021709eb-e3cb-4220-a256-ea47ce53369c\",\"type\":\"Row\"}]},\"id\":\"55eae663-764c-46bb-bd70-051fcafadb03\",\"type\":\"Column\"},{\"attributes\":{},\"id\":\"3c79607d-7f10-4c34-bd44-648afaa5fffe\",\"type\":\"WheelZoomTool\"},{\"attributes\":{},\"id\":\"355895f4-da98-4642-8683-07031dca06a6\",\"type\":\"BasicTickFormatter\"},{\"attributes\":{},\"id\":\"a4547832-efef-4b46-9252-dac81db745ae\",\"type\":\"Selection\"},{\"attributes\":{\"callback\":null,\"factors\":[\"9\"]},\"id\":\"072e5232-bb39-406b-af13-859ab545595b\",\"type\":\"FactorRange\"},{\"attributes\":{},\"id\":\"2e14db28-44e1-40c5-934c-b2621f76cdc4\",\"type\":\"LinearScale\"},{\"attributes\":{\"plot\":null,\"text\":\"SFC flux. CLIRAD - CRD.\"},\"id\":\"c826ae0b-cc5c-4fc5-b2f7-5084341ff3e8\",\"type\":\"Title\"},{\"attributes\":{},\"id\":\"9b594302-1071-4313-b78a-1cd0faae98a4\",\"type\":\"BasicTicker\"},{\"attributes\":{},\"id\":\"8fe269c3-f66e-4203-8960-e43e4f45d28b\",\"type\":\"UnionRenderers\"},{\"attributes\":{\"dimension\":1,\"plot\":{\"id\":\"31f6a25f-5de2-4f9f-a229-6f73f2d46018\",\"subtype\":\"Figure\",\"type\":\"Plot\"},\"ticker\":{\"id\":\"9b594302-1071-4313-b78a-1cd0faae98a4\",\"type\":\"BasicTicker\"}},\"id\":\"e57f7458-0cfa-468a-8497-10bfe6d059ac\",\"type\":\"Grid\"},{\"attributes\":{\"children\":[{\"id\":\"b76f348e-03d4-429a-9d16-4dea8a3fd1c1\",\"type\":\"ToolbarBox\"},{\"id\":\"55eae663-764c-46bb-bd70-051fcafadb03\",\"type\":\"Column\"}]},\"id\":\"f112393d-914d-46cf-bb27-76a89dfc7852\",\"type\":\"Column\"},{\"attributes\":{\"callback\":null,\"data\":{\"band\":[\"9\"],\"flux\":{\"__ndarray__\":\"AARR9QAdnb8=\",\"dtype\":\"float64\",\"shape\":[1]}},\"selected\":{\"id\":\"a4547832-efef-4b46-9252-dac81db745ae\",\"type\":\"Selection\"},\"selection_policy\":{\"id\":\"4dea7e2f-7c7d-4ef4-beb8-de38b35f3f93\",\"type\":\"UnionRenderers\"}},\"id\":\"049ea811-ceb5-4d7e-beb6-dd44c940dea0\",\"type\":\"ColumnDataSource\"},{\"attributes\":{},\"id\":\"e71774c9-e980-4823-9593-d3763717bd77\",\"type\":\"CategoricalTickFormatter\"},{\"attributes\":{\"toolbar\":{\"id\":\"3519c950-0b59-40fc-b06f-b62903cea430\",\"type\":\"ProxyToolbar\"},\"toolbar_location\":\"above\"},\"id\":\"b76f348e-03d4-429a-9d16-4dea8a3fd1c1\",\"type\":\"ToolbarBox\"},{\"attributes\":{\"source\":{\"id\":\"caede302-1f19-44cb-b695-badea24ad5e8\",\"type\":\"ColumnDataSource\"}},\"id\":\"bdd412a1-d29a-4699-ada2-dbac20dc8b5c\",\"type\":\"CDSView\"}],\"root_ids\":[\"f112393d-914d-46cf-bb27-76a89dfc7852\"]},\"title\":\"Bokeh Application\",\"version\":\"0.12.16\"}};\n",
       "  var render_items = [{\"docid\":\"4ca8625d-6c89-43b5-8f74-9d0d789a6724\",\"elementid\":\"ece459af-0f75-4b03-82f9-879dd76f7a7e\",\"modelid\":\"f112393d-914d-46cf-bb27-76a89dfc7852\"}];\n",
       "  root.Bokeh.embed.embed_items_notebook(docs_json, render_items);\n",
       "\n",
       "  }\n",
       "  if (root.Bokeh !== undefined) {\n",
       "    embed_document(root);\n",
       "  } else {\n",
       "    var attempts = 0;\n",
       "    var timer = setInterval(function(root) {\n",
       "      if (root.Bokeh !== undefined) {\n",
       "        embed_document(root);\n",
       "        clearInterval(timer);\n",
       "      }\n",
       "      attempts++;\n",
       "      if (attempts > 100) {\n",
       "        console.log(\"Bokeh: ERROR: Unable to run BokehJS code because BokehJS library is missing\")\n",
       "        clearInterval(timer);\n",
       "      }\n",
       "    }, 10, root)\n",
       "  }\n",
       "})(window);"
      ],
      "application/vnd.bokehjs_exec.v0+json": ""
     },
     "metadata": {
      "application/vnd.bokehjs_exec.v0+json": {
       "id": "f112393d-914d-46cf-bb27-76a89dfc7852"
      }
     },
     "output_type": "display_data"
    },
    {
     "data": {
      "text/markdown": [
       "*FIGURE.* Difference between CLIRAD and CRD in TOA, SFC and net atmosphere flux, in each spectral band."
      ],
      "text/plain": [
       "<IPython.core.display.Markdown object>"
      ]
     },
     "metadata": {},
     "output_type": "display_data"
    },
    {
     "data": {
      "text/html": [
       "<div>\n",
       "<style scoped>\n",
       "    .dataframe tbody tr th:only-of-type {\n",
       "        vertical-align: middle;\n",
       "    }\n",
       "\n",
       "    .dataframe tbody tr th {\n",
       "        vertical-align: top;\n",
       "    }\n",
       "\n",
       "    .dataframe thead th {\n",
       "        text-align: right;\n",
       "    }\n",
       "</style>\n",
       "<table border=\"1\" class=\"dataframe\">\n",
       "  <thead>\n",
       "    <tr style=\"text-align: right;\">\n",
       "      <th></th>\n",
       "      <th></th>\n",
       "      <th>TOA up</th>\n",
       "      <th>SFC down</th>\n",
       "      <th>ATM heating</th>\n",
       "      <th>tropo up</th>\n",
       "      <th>tropo down</th>\n",
       "      <th>tropo net</th>\n",
       "    </tr>\n",
       "  </thead>\n",
       "  <tbody>\n",
       "    <tr>\n",
       "      <th rowspan=\"2\" valign=\"top\">Sum over band</th>\n",
       "      <th>CLIRAD - CRD</th>\n",
       "      <td>-0.03</td>\n",
       "      <td>-0.23</td>\n",
       "      <td>0.20</td>\n",
       "      <td>-0.06</td>\n",
       "      <td>0.02</td>\n",
       "      <td>-0.04</td>\n",
       "    </tr>\n",
       "    <tr>\n",
       "      <th>CRD</th>\n",
       "      <td>-19.27</td>\n",
       "      <td>6.12</td>\n",
       "      <td>-1.64</td>\n",
       "      <td>-19.61</td>\n",
       "      <td>0.21</td>\n",
       "      <td>-19.40</td>\n",
       "    </tr>\n",
       "    <tr>\n",
       "      <th rowspan=\"2\" valign=\"top\">Band 9</th>\n",
       "      <th>CLIRAD - CRD</th>\n",
       "      <td>-0.03</td>\n",
       "      <td>-0.23</td>\n",
       "      <td>0.20</td>\n",
       "      <td>-0.06</td>\n",
       "      <td>0.02</td>\n",
       "      <td>-0.04</td>\n",
       "    </tr>\n",
       "    <tr>\n",
       "      <th>CRD</th>\n",
       "      <td>-19.27</td>\n",
       "      <td>6.12</td>\n",
       "      <td>-1.64</td>\n",
       "      <td>-19.61</td>\n",
       "      <td>0.21</td>\n",
       "      <td>-19.40</td>\n",
       "    </tr>\n",
       "  </tbody>\n",
       "</table>\n",
       "</div>"
      ],
      "text/plain": [
       "                            TOA up  SFC down  ATM heating  tropo up  \\\n",
       "Sum over band CLIRAD - CRD   -0.03     -0.23         0.20     -0.06   \n",
       "              CRD           -19.27      6.12        -1.64    -19.61   \n",
       "Band 9        CLIRAD - CRD   -0.03     -0.23         0.20     -0.06   \n",
       "              CRD           -19.27      6.12        -1.64    -19.61   \n",
       "\n",
       "                            tropo down  tropo net  \n",
       "Sum over band CLIRAD - CRD        0.02      -0.04  \n",
       "              CRD                 0.21     -19.40  \n",
       "Band 9        CLIRAD - CRD        0.02      -0.04  \n",
       "              CRD                 0.21     -19.40  "
      ]
     },
     "metadata": {},
     "output_type": "display_data"
    },
    {
     "data": {
      "text/markdown": [
       "*TABLE.* Difference between CLIRAD and CRD fluxes at various atmosphere levels."
      ],
      "text/plain": [
       "<IPython.core.display.Markdown object>"
      ]
     },
     "metadata": {},
     "output_type": "display_data"
    },
    {
     "data": {
      "text/html": [
       "<a id=\"Parameters_of_runs._saw\"></a>"
      ],
      "text/plain": [
       "<IPython.core.display.HTML object>"
      ]
     },
     "metadata": {},
     "output_type": "display_data"
    },
    {
     "data": {
      "text/markdown": [
       "# Parameters of runs. saw"
      ],
      "text/plain": [
       "<IPython.core.display.Markdown object>"
      ]
     },
     "metadata": {},
     "output_type": "display_data"
    },
    {
     "data": {
      "text/html": [
       "<div>\n",
       "<style scoped>\n",
       "    .dataframe tbody tr th:only-of-type {\n",
       "        vertical-align: middle;\n",
       "    }\n",
       "\n",
       "    .dataframe tbody tr th {\n",
       "        vertical-align: top;\n",
       "    }\n",
       "\n",
       "    .dataframe thead tr th {\n",
       "        text-align: left;\n",
       "    }\n",
       "</style>\n",
       "<table border=\"1\" class=\"dataframe\">\n",
       "  <thead>\n",
       "    <tr>\n",
       "      <th></th>\n",
       "      <th>clirad-lw</th>\n",
       "      <th>lblnew-bestfit lw</th>\n",
       "    </tr>\n",
       "    <tr>\n",
       "      <th></th>\n",
       "      <th>:D</th>\n",
       "      <th>band7 ch4</th>\n",
       "    </tr>\n",
       "  </thead>\n",
       "  <tbody>\n",
       "    <tr>\n",
       "      <th>atmpro</th>\n",
       "      <td>saw</td>\n",
       "      <td>saw</td>\n",
       "    </tr>\n",
       "    <tr>\n",
       "      <th>band</th>\n",
       "      <td>[9]</td>\n",
       "      <td>7</td>\n",
       "    </tr>\n",
       "    <tr>\n",
       "      <th>commitnumber</th>\n",
       "      <td>1013f91</td>\n",
       "      <td>5014a19</td>\n",
       "    </tr>\n",
       "    <tr>\n",
       "      <th>conc</th>\n",
       "      <td>-</td>\n",
       "      <td>1.8e-06</td>\n",
       "    </tr>\n",
       "    <tr>\n",
       "      <th>dv</th>\n",
       "      <td>-</td>\n",
       "      <td>0.001</td>\n",
       "    </tr>\n",
       "    <tr>\n",
       "      <th>klin</th>\n",
       "      <td>-</td>\n",
       "      <td>2e-21</td>\n",
       "    </tr>\n",
       "    <tr>\n",
       "      <th>molecule</th>\n",
       "      <td>{'ch4': 1.8e-06}</td>\n",
       "      <td>ch4</td>\n",
       "    </tr>\n",
       "    <tr>\n",
       "      <th>ng_adju</th>\n",
       "      <td>-</td>\n",
       "      <td>[0, 0]</td>\n",
       "    </tr>\n",
       "    <tr>\n",
       "      <th>ng_refs</th>\n",
       "      <td>-</td>\n",
       "      <td>[2, 3]</td>\n",
       "    </tr>\n",
       "    <tr>\n",
       "      <th>nv</th>\n",
       "      <td>-</td>\n",
       "      <td>1000</td>\n",
       "    </tr>\n",
       "    <tr>\n",
       "      <th>option_compute_btable</th>\n",
       "      <td>-</td>\n",
       "      <td>0</td>\n",
       "    </tr>\n",
       "    <tr>\n",
       "      <th>option_compute_ktable</th>\n",
       "      <td>-</td>\n",
       "      <td>0</td>\n",
       "    </tr>\n",
       "    <tr>\n",
       "      <th>option_wgt_flux</th>\n",
       "      <td>-</td>\n",
       "      <td>1</td>\n",
       "    </tr>\n",
       "    <tr>\n",
       "      <th>option_wgt_k</th>\n",
       "      <td>-</td>\n",
       "      <td>1</td>\n",
       "    </tr>\n",
       "    <tr>\n",
       "      <th>ref_pts</th>\n",
       "      <td>-</td>\n",
       "      <td>[[1, 250], [500, 250]]</td>\n",
       "    </tr>\n",
       "    <tr>\n",
       "      <th>tsfc</th>\n",
       "      <td>257</td>\n",
       "      <td>257</td>\n",
       "    </tr>\n",
       "    <tr>\n",
       "      <th>vmax</th>\n",
       "      <td>-</td>\n",
       "      <td>1380</td>\n",
       "    </tr>\n",
       "    <tr>\n",
       "      <th>vmin</th>\n",
       "      <td>-</td>\n",
       "      <td>1215</td>\n",
       "    </tr>\n",
       "    <tr>\n",
       "      <th>w_diffuse</th>\n",
       "      <td>-</td>\n",
       "      <td>[[1.66, 1.66], [1.66, 1.66, 1.66]]</td>\n",
       "    </tr>\n",
       "    <tr>\n",
       "      <th>wgt</th>\n",
       "      <td>-</td>\n",
       "      <td>[[0.7, 0.7], [0.4, 0.6, 0.75]]</td>\n",
       "    </tr>\n",
       "  </tbody>\n",
       "</table>\n",
       "</div>"
      ],
      "text/plain": [
       "                              clirad-lw                   lblnew-bestfit lw\n",
       "                                     :D                           band7 ch4\n",
       "atmpro                              saw                                 saw\n",
       "band                                [9]                                   7\n",
       "commitnumber                    1013f91                             5014a19\n",
       "conc                                  -                             1.8e-06\n",
       "dv                                    -                               0.001\n",
       "klin                                  -                               2e-21\n",
       "molecule               {'ch4': 1.8e-06}                                 ch4\n",
       "ng_adju                               -                              [0, 0]\n",
       "ng_refs                               -                              [2, 3]\n",
       "nv                                    -                                1000\n",
       "option_compute_btable                 -                                   0\n",
       "option_compute_ktable                 -                                   0\n",
       "option_wgt_flux                       -                                   1\n",
       "option_wgt_k                          -                                   1\n",
       "ref_pts                               -              [[1, 250], [500, 250]]\n",
       "tsfc                                257                                 257\n",
       "vmax                                  -                                1380\n",
       "vmin                                  -                                1215\n",
       "w_diffuse                             -  [[1.66, 1.66], [1.66, 1.66, 1.66]]\n",
       "wgt                                   -      [[0.7, 0.7], [0.4, 0.6, 0.75]]"
      ]
     },
     "metadata": {},
     "output_type": "display_data"
    },
    {
     "data": {
      "text/html": [
       "<a id=\"Cooling_rates._saw.\"></a>"
      ],
      "text/plain": [
       "<IPython.core.display.HTML object>"
      ]
     },
     "metadata": {},
     "output_type": "display_data"
    },
    {
     "data": {
      "text/markdown": [
       "# Cooling rates. saw."
      ],
      "text/plain": [
       "<IPython.core.display.Markdown object>"
      ]
     },
     "metadata": {},
     "output_type": "display_data"
    },
    {
     "data": {
      "text/html": [
       "\n",
       "<div class=\"bk-root\">\n",
       "    <div class=\"bk-plotdiv\" id=\"4270c2b8-732a-44be-ba31-27a4fcc348b9\"></div>\n",
       "</div>"
      ]
     },
     "metadata": {},
     "output_type": "display_data"
    },
    {
     "data": {
      "application/javascript": [
       "(function(root) {\n",
       "  function embed_document(root) {\n",
       "    \n",
       "  var docs_json = {\"62ed0874-6583-4a6d-9e33-009193808dfb\":{\"roots\":{\"references\":[{\"attributes\":{\"data_source\":{\"id\":\"09d1966c-ccfc-4818-a50d-297716eaef6f\",\"type\":\"ColumnDataSource\"},\"glyph\":{\"id\":\"71967338-5853-4b64-8cc4-09904bed7aa2\",\"type\":\"Circle\"},\"hover_glyph\":null,\"muted_glyph\":null,\"nonselection_glyph\":{\"id\":\"03cfb2de-a9a4-4f2c-900a-a3ccc15cf2ae\",\"type\":\"Circle\"},\"selection_glyph\":null,\"view\":{\"id\":\"163bf7c5-ea4f-43d1-a9ed-527ad4175fe1\",\"type\":\"CDSView\"}},\"id\":\"e05843cd-86fe-420e-9714-8c796dc1f61e\",\"type\":\"GlyphRenderer\"},{\"attributes\":{},\"id\":\"0cf6a7cf-6c26-4a04-ad32-a119831f4874\",\"type\":\"BasicTickFormatter\"},{\"attributes\":{},\"id\":\"42845433-0bc6-485a-9a97-cc93a539d2ac\",\"type\":\"Selection\"},{\"attributes\":{\"callback\":null,\"data\":{\"x\":{\"__ndarray__\":\"z6RPc48Hqb801DSdltqmvyDnjvjPGaK/hWWMCl+smb9hEoGIF12Mv6zhVa/lrlq//FnMwtrXhz9qff2TkKiaP+b8NQaISqU/UNU/BXfhrT/3LRzqsY6zP7IMkvOogLg/0EmOO+7CvT+kAIIZZU7BP3eSYcx7KMM/ADfDYr2zxD8gXn0QxDXGP6ie1vqMrsc/r8bUeaMeyT/GLfAXU4/KPxy3u2yI3ss/ww5VV554yT8s4iEtfsnCP6HH/OAbqrg/USGabfhWrj/YquOhBCqhP7cI68oKAJE/vBd+JtSBgD+UnU5ASpp3P+uFDeIrxHQ/cJqBCm+kcD/gKV4RbsVlP8SJQE70g2M/mbgEVMpLaz9Zta1uF61vPwoiWWtCOHA/dLOzOMDkbT/sSlAX1vtjP3eGSoo0MUc/PhNXD7nBT79pKl7MbUpmv9XzJjVIAnO/EkEOJhsRfL/T5ZhHv52DvxG6JdliZIq/5vJK3ZLCjb+NgoxnmcCKv0J8VmuZjYW/4V2lZRfOgL8sIasoIGh4v/vwePulEm6/nFnxM+cjVb8j+4uSoMRTPz8OU1F+T28/5jPbLb7Mej+YX1FAhR6DP1d4Rwpy44g/pmjkBqmVjj/hIjhACAqSP2JK+7BGopQ/sj9Ij9EMlz+t5n56jkuZPwc8T6M7aJs/LtWRdM5znT8jNlxXpIKfP1VzIdHf06A/bwV/+ib1oT8wFnRaZxSjP9rfeU3k86M/+cvuhxwqpD+/YMfrg3CjP174WYuZ8aE/X1aeGicUoD/Uef5wYDqcP0tPXX0XLpg/\",\"dtype\":\"float64\",\"shape\":[75]},\"y\":{\"__ndarray__\":\"GhExyth1ND/Sv8nbtpRIP2vylNV0PVE/aTum7souWD/At0SJ8fVgPw3Iuahxymc/MSNhhJWvcD/bTfBN02d3P2zb5nxnaoA/CD5h5MAGhz8NmeH1TyaQP+zrCsc9p5Y/LbKd76fGnz/bLW5ISEmmPww9YvTcQq8/JV2OstnstT8Er5Y7M8G+P0c+r3jqkcU/5h99k6ZBzj88bCIzFzjVP4enV8oyxN0//yH99nXg5D8qOpLLf0jtP5kqGJXUifQ/c9cS8kHP/D+/DpwzojQEQIEmwoanVwxA4lgXt9HgE0BSSZ2AJuIbQAMJih9jjiNA5q4l5INuK0AwTKYKRj0zQNv5fmq8/DpAaCJseHrtQkB/+zpwzoxKQM3MzMzMeFJAZmZmZmZqWEAAAAAAAFxeQM3MzMzMJmJAmpmZmZkfZUBmZmZmZhhoQDMzMzMzEWtAAAAAAAAKbkBmZmZmZoFwQM3MzMzM/XFAMzMzMzN6c0CamZmZmfZ0QAAAAAAAc3ZAZmZmZmbvd0DNzMzMzGt5QDMzMzMz6HpAmpmZmZlkfEAAAAAAAOF9QGZmZmZmXX9AZmZmZuZsgECamZmZGSuBQM3MzMxM6YFAAAAAAICngkAzMzMzs2WDQGZmZmbmI4RAmpmZmRnihEDNzMzMTKCFQAAAAACAXoZAMzMzM7Mch0BmZmZm5tqHQJqZmZkZmYhAzczMzExXiUAAAAAAgBWKQDMzMzOz04pAZmZmZuaRi0CamZmZGVCMQM3MzMxMDo1AAAAAAIDMjUAzMzMzs4qOQGZmZmbmSI9A\",\"dtype\":\"float64\",\"shape\":[75]}},\"selected\":{\"id\":\"4dc274b2-572e-417f-8b5a-dbec768388d0\",\"type\":\"Selection\"},\"selection_policy\":{\"id\":\"4bf25dfe-1171-4beb-8689-c1a75638f478\",\"type\":\"UnionRenderers\"}},\"id\":\"bbd5ebd5-b8c0-4fc2-8042-6d7ea2e8e5f9\",\"type\":\"ColumnDataSource\"},{\"attributes\":{\"line_color\":\"#4daf4a\",\"line_width\":1.5,\"x\":{\"field\":\"x\"},\"y\":{\"field\":\"y\"}},\"id\":\"5e1bb562-b02d-449c-96a5-a58b9cd4d754\",\"type\":\"Line\"},{\"attributes\":{\"line_alpha\":0.8,\"line_color\":\"#984ea3\",\"line_width\":1.5,\"x\":{\"field\":\"x\"},\"y\":{\"field\":\"y\"}},\"id\":\"3700f082-a394-4e00-b7fa-3d78438bfbba\",\"type\":\"Line\"},{\"attributes\":{\"data_source\":{\"id\":\"e621b4e9-436d-4ff1-97ac-6e1dcc02ecbf\",\"type\":\"ColumnDataSource\"},\"glyph\":{\"id\":\"66c35a0b-67a4-4025-bc54-ea8e6c781b40\",\"type\":\"Line\"},\"hover_glyph\":null,\"muted_glyph\":null,\"nonselection_glyph\":{\"id\":\"9896c0f2-cdae-4cbd-b7fa-f1069f74848d\",\"type\":\"Line\"},\"selection_glyph\":null,\"view\":{\"id\":\"edbd6052-4102-4e89-badb-a6156a67ccab\",\"type\":\"CDSView\"}},\"id\":\"d2ecb284-3d67-4acf-96be-90e3c933e9eb\",\"type\":\"GlyphRenderer\"},{\"attributes\":{\"children\":[{\"id\":\"42bda09b-b5ed-42b9-ac5d-64e0f7881ac1\",\"type\":\"Row\"}]},\"id\":\"346b0bc2-b523-4fc5-ba6e-fd38b45b1c6a\",\"type\":\"Column\"},{\"attributes\":{\"children\":[{\"id\":\"86f60dd8-bc20-462d-aa9c-9dc4b449014f\",\"subtype\":\"Figure\",\"type\":\"Plot\"},{\"id\":\"6a68ec1a-9599-44ec-9733-74d95b1b5ffa\",\"subtype\":\"Figure\",\"type\":\"Plot\"},{\"id\":\"7b967881-f7e3-4db5-aabe-c776fb7e7519\",\"subtype\":\"Figure\",\"type\":\"Plot\"}]},\"id\":\"42bda09b-b5ed-42b9-ac5d-64e0f7881ac1\",\"type\":\"Row\"},{\"attributes\":{\"line_color\":\"#4daf4a\",\"line_width\":1.5,\"x\":{\"field\":\"x\"},\"y\":{\"field\":\"y\"}},\"id\":\"8b3f92c6-1ffa-4fd6-9465-2cb77c446e4a\",\"type\":\"Line\"},{\"attributes\":{\"source\":{\"id\":\"16badf94-cbd9-4f6c-b052-32e441dc6bd7\",\"type\":\"ColumnDataSource\"}},\"id\":\"10921917-82e6-4658-8c43-0164135f7fd4\",\"type\":\"CDSView\"},{\"attributes\":{\"data_source\":{\"id\":\"63768a5c-f058-4b9a-8d8d-ba5dd5181dd5\",\"type\":\"ColumnDataSource\"},\"glyph\":{\"id\":\"8b3f92c6-1ffa-4fd6-9465-2cb77c446e4a\",\"type\":\"Line\"},\"hover_glyph\":null,\"muted_glyph\":null,\"nonselection_glyph\":{\"id\":\"47728e30-db9d-4175-9526-fec06d10afc8\",\"type\":\"Line\"},\"selection_glyph\":null,\"view\":{\"id\":\"74fd9b8e-647b-4cc7-9912-d65fafc0c262\",\"type\":\"CDSView\"}},\"id\":\"d4db10b3-befc-460e-8b5b-fb3e1e29b155\",\"type\":\"GlyphRenderer\"},{\"attributes\":{\"line_alpha\":0.1,\"line_color\":\"#1f77b4\",\"line_dash\":[6],\"line_width\":5,\"x\":{\"field\":\"x\"},\"y\":{\"field\":\"y\"}},\"id\":\"9896c0f2-cdae-4cbd-b7fa-f1069f74848d\",\"type\":\"Line\"},{\"attributes\":{\"label\":{\"value\":\"CLIRAD - CRD\"},\"renderers\":[{\"id\":\"e05843cd-86fe-420e-9714-8c796dc1f61e\",\"type\":\"GlyphRenderer\"},{\"id\":\"e8e7f267-a535-4f39-9e7e-220838e58c0b\",\"type\":\"GlyphRenderer\"}]},\"id\":\"3ec67d1a-a9a4-4fa8-8c69-bac5432f95b4\",\"type\":\"LegendItem\"},{\"attributes\":{\"source\":{\"id\":\"63768a5c-f058-4b9a-8d8d-ba5dd5181dd5\",\"type\":\"ColumnDataSource\"}},\"id\":\"74fd9b8e-647b-4cc7-9912-d65fafc0c262\",\"type\":\"CDSView\"},{\"attributes\":{\"fill_alpha\":{\"value\":0.7},\"fill_color\":{\"value\":\"#4daf4a\"},\"line_alpha\":{\"value\":0.7},\"line_color\":{\"value\":\"#4daf4a\"},\"x\":{\"field\":\"x\"},\"y\":{\"field\":\"y\"}},\"id\":\"2aaf7193-cafa-47d8-88fb-340924764c70\",\"type\":\"Circle\"},{\"attributes\":{\"label\":{\"value\":\"CRD\"},\"renderers\":[{\"id\":\"67b64f69-59ce-472b-bdc5-426678faeeb1\",\"type\":\"GlyphRenderer\"},{\"id\":\"5eaea04d-e201-4afa-a696-d58f1e956ace\",\"type\":\"GlyphRenderer\"}]},\"id\":\"98e85d7a-af30-4221-a224-a675e32918fa\",\"type\":\"LegendItem\"},{\"attributes\":{\"ticker\":null},\"id\":\"a284519f-efb8-4be7-a8e6-28c49db41ff9\",\"type\":\"LogTickFormatter\"},{\"attributes\":{\"callback\":null,\"data\":{\"x\":{\"__ndarray__\":\"z6RPc48Hqb801DSdltqmvyDnjvjPGaK/hWWMCl+smb9hEoGIF12Mv6zhVa/lrlq//FnMwtrXhz9qff2TkKiaP+b8NQaISqU/UNU/BXfhrT/3LRzqsY6zP7IMkvOogLg/0EmOO+7CvT+kAIIZZU7BP3eSYcx7KMM/ADfDYr2zxD8gXn0QxDXGP6ie1vqMrsc/r8bUeaMeyT/GLfAXU4/KPxy3u2yI3ss/ww5VV554yT8s4iEtfsnCP6HH/OAbqrg/USGabfhWrj/YquOhBCqhP7cI68oKAJE/vBd+JtSBgD+UnU5ASpp3P+uFDeIrxHQ/cJqBCm+kcD/gKV4RbsVlP8SJQE70g2M/mbgEVMpLaz9Zta1uF61vPwoiWWtCOHA/dLOzOMDkbT/sSlAX1vtjP3eGSoo0MUc/PhNXD7nBT79pKl7MbUpmv9XzJjVIAnO/EkEOJhsRfL/T5ZhHv52DvxG6JdliZIq/5vJK3ZLCjb+NgoxnmcCKv0J8VmuZjYW/4V2lZRfOgL8sIasoIGh4v/vwePulEm6/nFnxM+cjVb8j+4uSoMRTPz8OU1F+T28/5jPbLb7Mej+YX1FAhR6DP1d4Rwpy44g/pmjkBqmVjj/hIjhACAqSP2JK+7BGopQ/sj9Ij9EMlz+t5n56jkuZPwc8T6M7aJs/LtWRdM5znT8jNlxXpIKfP1VzIdHf06A/bwV/+ib1oT8wFnRaZxSjP9rfeU3k86M/+cvuhxwqpD+/YMfrg3CjP174WYuZ8aE/X1aeGicUoD/Uef5wYDqcP0tPXX0XLpg/\",\"dtype\":\"float64\",\"shape\":[75]},\"y\":{\"__ndarray__\":\"GhExyth1ND/Sv8nbtpRIP2vylNV0PVE/aTum7souWD/At0SJ8fVgPw3Iuahxymc/MSNhhJWvcD/bTfBN02d3P2zb5nxnaoA/CD5h5MAGhz8NmeH1TyaQP+zrCsc9p5Y/LbKd76fGnz/bLW5ISEmmPww9YvTcQq8/JV2OstnstT8Er5Y7M8G+P0c+r3jqkcU/5h99k6ZBzj88bCIzFzjVP4enV8oyxN0//yH99nXg5D8qOpLLf0jtP5kqGJXUifQ/c9cS8kHP/D+/DpwzojQEQIEmwoanVwxA4lgXt9HgE0BSSZ2AJuIbQAMJih9jjiNA5q4l5INuK0AwTKYKRj0zQNv5fmq8/DpAaCJseHrtQkB/+zpwzoxKQM3MzMzMeFJAZmZmZmZqWEAAAAAAAFxeQM3MzMzMJmJAmpmZmZkfZUBmZmZmZhhoQDMzMzMzEWtAAAAAAAAKbkBmZmZmZoFwQM3MzMzM/XFAMzMzMzN6c0CamZmZmfZ0QAAAAAAAc3ZAZmZmZmbvd0DNzMzMzGt5QDMzMzMz6HpAmpmZmZlkfEAAAAAAAOF9QGZmZmZmXX9AZmZmZuZsgECamZmZGSuBQM3MzMxM6YFAAAAAAICngkAzMzMzs2WDQGZmZmbmI4RAmpmZmRnihEDNzMzMTKCFQAAAAACAXoZAMzMzM7Mch0BmZmZm5tqHQJqZmZkZmYhAzczMzExXiUAAAAAAgBWKQDMzMzOz04pAZmZmZuaRi0CamZmZGVCMQM3MzMxMDo1AAAAAAIDMjUAzMzMzs4qOQGZmZmbmSI9A\",\"dtype\":\"float64\",\"shape\":[75]}},\"selected\":{\"id\":\"1f4d4e60-9e93-4579-a456-a3e7281e0897\",\"type\":\"Selection\"},\"selection_policy\":{\"id\":\"563653a5-b9c7-4818-8241-efc0798b6183\",\"type\":\"UnionRenderers\"}},\"id\":\"63768a5c-f058-4b9a-8d8d-ba5dd5181dd5\",\"type\":\"ColumnDataSource\"},{\"attributes\":{\"callback\":null,\"data\":{\"x\":{\"__ndarray__\":\"z6RPc48Hqb801DSdltqmvyDnjvjPGaK/hWWMCl+smb9hEoGIF12Mv6zhVa/lrlq//FnMwtrXhz9qff2TkKiaP+b8NQaISqU/UNU/BXfhrT/3LRzqsY6zP7IMkvOogLg/0EmOO+7CvT+kAIIZZU7BP3eSYcx7KMM/ADfDYr2zxD8gXn0QxDXGP6ie1vqMrsc/r8bUeaMeyT/GLfAXU4/KPxy3u2yI3ss/ww5VV554yT8s4iEtfsnCP6HH/OAbqrg/USGabfhWrj/YquOhBCqhP7cI68oKAJE/vBd+JtSBgD+UnU5ASpp3P+uFDeIrxHQ/cJqBCm+kcD/gKV4RbsVlP8SJQE70g2M/mbgEVMpLaz9Zta1uF61vPwoiWWtCOHA/dLOzOMDkbT/sSlAX1vtjP3eGSoo0MUc/PhNXD7nBT79pKl7MbUpmv9XzJjVIAnO/EkEOJhsRfL/T5ZhHv52DvxG6JdliZIq/5vJK3ZLCjb+NgoxnmcCKv0J8VmuZjYW/4V2lZRfOgL8sIasoIGh4v/vwePulEm6/nFnxM+cjVb8j+4uSoMRTPz8OU1F+T28/5jPbLb7Mej+YX1FAhR6DP1d4Rwpy44g/pmjkBqmVjj/hIjhACAqSP2JK+7BGopQ/sj9Ij9EMlz+t5n56jkuZPwc8T6M7aJs/LtWRdM5znT8jNlxXpIKfP1VzIdHf06A/bwV/+ib1oT8wFnRaZxSjP9rfeU3k86M/+cvuhxwqpD+/YMfrg3CjP174WYuZ8aE/X1aeGicUoD/Uef5wYDqcP0tPXX0XLpg/\",\"dtype\":\"float64\",\"shape\":[75]},\"y\":{\"__ndarray__\":\"GhExyth1ND/Sv8nbtpRIP2vylNV0PVE/aTum7souWD/At0SJ8fVgPw3Iuahxymc/MSNhhJWvcD/bTfBN02d3P2zb5nxnaoA/CD5h5MAGhz8NmeH1TyaQP+zrCsc9p5Y/LbKd76fGnz/bLW5ISEmmPww9YvTcQq8/JV2OstnstT8Er5Y7M8G+P0c+r3jqkcU/5h99k6ZBzj88bCIzFzjVP4enV8oyxN0//yH99nXg5D8qOpLLf0jtP5kqGJXUifQ/c9cS8kHP/D+/DpwzojQEQIEmwoanVwxA4lgXt9HgE0BSSZ2AJuIbQAMJih9jjiNA5q4l5INuK0AwTKYKRj0zQNv5fmq8/DpAaCJseHrtQkB/+zpwzoxKQM3MzMzMeFJAZmZmZmZqWEAAAAAAAFxeQM3MzMzMJmJAmpmZmZkfZUBmZmZmZhhoQDMzMzMzEWtAAAAAAAAKbkBmZmZmZoFwQM3MzMzM/XFAMzMzMzN6c0CamZmZmfZ0QAAAAAAAc3ZAZmZmZmbvd0DNzMzMzGt5QDMzMzMz6HpAmpmZmZlkfEAAAAAAAOF9QGZmZmZmXX9AZmZmZuZsgECamZmZGSuBQM3MzMxM6YFAAAAAAICngkAzMzMzs2WDQGZmZmbmI4RAmpmZmRnihEDNzMzMTKCFQAAAAACAXoZAMzMzM7Mch0BmZmZm5tqHQJqZmZkZmYhAzczMzExXiUAAAAAAgBWKQDMzMzOz04pAZmZmZuaRi0CamZmZGVCMQM3MzMxMDo1AAAAAAIDMjUAzMzMzs4qOQGZmZmbmSI9A\",\"dtype\":\"float64\",\"shape\":[75]}},\"selected\":{\"id\":\"42845433-0bc6-485a-9a97-cc93a539d2ac\",\"type\":\"Selection\"},\"selection_policy\":{\"id\":\"19ee07a1-06df-4966-baf2-527474950461\",\"type\":\"UnionRenderers\"}},\"id\":\"af13438e-57d2-499d-8935-2145d2458ced\",\"type\":\"ColumnDataSource\"},{\"attributes\":{\"fill_alpha\":{\"value\":0.1},\"fill_color\":{\"value\":\"#1f77b4\"},\"line_alpha\":{\"value\":0.1},\"line_color\":{\"value\":\"#1f77b4\"},\"x\":{\"field\":\"x\"},\"y\":{\"field\":\"y\"}},\"id\":\"03cfb2de-a9a4-4f2c-900a-a3ccc15cf2ae\",\"type\":\"Circle\"},{\"attributes\":{\"data_source\":{\"id\":\"846332ee-9675-4abe-ab88-78750cce600a\",\"type\":\"ColumnDataSource\"},\"glyph\":{\"id\":\"5e1bb562-b02d-449c-96a5-a58b9cd4d754\",\"type\":\"Line\"},\"hover_glyph\":null,\"muted_glyph\":null,\"nonselection_glyph\":{\"id\":\"a66ea053-462d-49e8-bafb-ea1012c88a68\",\"type\":\"Line\"},\"selection_glyph\":null,\"view\":{\"id\":\"8d9da16f-1a19-4b6c-88e1-ef27884ec5cf\",\"type\":\"CDSView\"}},\"id\":\"5eaea04d-e201-4afa-a696-d58f1e956ace\",\"type\":\"GlyphRenderer\"},{\"attributes\":{\"line_alpha\":0.1,\"line_color\":\"#1f77b4\",\"line_width\":1.5,\"x\":{\"field\":\"x\"},\"y\":{\"field\":\"y\"}},\"id\":\"b5c4811b-be60-42b6-a432-ce717705d170\",\"type\":\"Line\"},{\"attributes\":{\"source\":{\"id\":\"09d1966c-ccfc-4818-a50d-297716eaef6f\",\"type\":\"ColumnDataSource\"}},\"id\":\"163bf7c5-ea4f-43d1-a9ed-527ad4175fe1\",\"type\":\"CDSView\"},{\"attributes\":{\"line_alpha\":0.1,\"line_color\":\"#1f77b4\",\"line_width\":1.5,\"x\":{\"field\":\"x\"},\"y\":{\"field\":\"y\"}},\"id\":\"47728e30-db9d-4175-9526-fec06d10afc8\",\"type\":\"Line\"},{\"attributes\":{},\"id\":\"3b3cf635-86d5-4bd4-85af-c535c9fc0228\",\"type\":\"Selection\"},{\"attributes\":{},\"id\":\"7254a873-3b8a-4ca0-b553-1fa417fb0115\",\"type\":\"BasicTickFormatter\"},{\"attributes\":{\"source\":{\"id\":\"846332ee-9675-4abe-ab88-78750cce600a\",\"type\":\"ColumnDataSource\"}},\"id\":\"8d9da16f-1a19-4b6c-88e1-ef27884ec5cf\",\"type\":\"CDSView\"},{\"attributes\":{\"label\":{\"value\":\"CLIRAD\"},\"renderers\":[{\"id\":\"d2ecb284-3d67-4acf-96be-90e3c933e9eb\",\"type\":\"GlyphRenderer\"}]},\"id\":\"a99fa182-d5c0-4895-b786-bf33a8f0fdd7\",\"type\":\"LegendItem\"},{\"attributes\":{},\"id\":\"e93ce47a-b665-47e7-943a-d158966b958e\",\"type\":\"LinearScale\"},{\"attributes\":{\"data_source\":{\"id\":\"16badf94-cbd9-4f6c-b052-32e441dc6bd7\",\"type\":\"ColumnDataSource\"},\"glyph\":{\"id\":\"3700f082-a394-4e00-b7fa-3d78438bfbba\",\"type\":\"Line\"},\"hover_glyph\":null,\"muted_glyph\":null,\"nonselection_glyph\":{\"id\":\"b5c4811b-be60-42b6-a432-ce717705d170\",\"type\":\"Line\"},\"selection_glyph\":null,\"view\":{\"id\":\"10921917-82e6-4658-8c43-0164135f7fd4\",\"type\":\"CDSView\"}},\"id\":\"e8e7f267-a535-4f39-9e7e-220838e58c0b\",\"type\":\"GlyphRenderer\"},{\"attributes\":{\"label\":{\"value\":\"CRD\"},\"renderers\":[{\"id\":\"a9bc04b4-480d-4c9c-b8f0-36100db8a9d3\",\"type\":\"GlyphRenderer\"},{\"id\":\"d4db10b3-befc-460e-8b5b-fb3e1e29b155\",\"type\":\"GlyphRenderer\"}]},\"id\":\"f98a4098-2943-44ae-bbbb-2d10e15dc882\",\"type\":\"LegendItem\"},{\"attributes\":{},\"id\":\"2c8816ec-0089-48bf-9d77-8f3af8b40a10\",\"type\":\"UnionRenderers\"},{\"attributes\":{\"plot\":null,\"text\":\"\"},\"id\":\"ea2cac87-da38-4afd-be21-95a5fccd3097\",\"type\":\"Title\"},{\"attributes\":{\"above\":[{\"id\":\"fff3b4ae-10db-41f8-839a-7921963ed6ad\",\"type\":\"Legend\"}],\"below\":[{\"id\":\"7ada14e7-6022-47c2-a3c6-3a5b5d244220\",\"type\":\"LinearAxis\"}],\"left\":[{\"id\":\"a7749397-77ab-4ec5-b621-2fd1ec2ce7b7\",\"type\":\"LogAxis\"}],\"plot_width\":300,\"renderers\":[{\"id\":\"7ada14e7-6022-47c2-a3c6-3a5b5d244220\",\"type\":\"LinearAxis\"},{\"id\":\"f7902f35-e3b4-4d58-aa38-eb3db9654a95\",\"type\":\"Grid\"},{\"id\":\"a7749397-77ab-4ec5-b621-2fd1ec2ce7b7\",\"type\":\"LogAxis\"},{\"id\":\"c85199b2-3a1a-4e46-a6fe-d4f97b41fc23\",\"type\":\"Grid\"},{\"id\":\"051f63dc-a506-43e1-a9a0-996f2d4dd294\",\"type\":\"BoxAnnotation\"},{\"id\":\"d2ecb284-3d67-4acf-96be-90e3c933e9eb\",\"type\":\"GlyphRenderer\"},{\"id\":\"a9bc04b4-480d-4c9c-b8f0-36100db8a9d3\",\"type\":\"GlyphRenderer\"},{\"id\":\"d4db10b3-befc-460e-8b5b-fb3e1e29b155\",\"type\":\"GlyphRenderer\"},{\"id\":\"fff3b4ae-10db-41f8-839a-7921963ed6ad\",\"type\":\"Legend\"}],\"title\":{\"id\":\"310a117e-1020-48b0-9384-c91b043579de\",\"type\":\"Title\"},\"toolbar\":{\"id\":\"74aed3dd-1022-460a-a7d5-f7ad259f4c01\",\"type\":\"Toolbar\"},\"toolbar_location\":null,\"x_range\":{\"id\":\"2e3f7ccc-7ede-4fc8-b52a-e2c6d099b51d\",\"type\":\"Range1d\"},\"x_scale\":{\"id\":\"18793627-50fd-4219-ab79-819905bd607d\",\"type\":\"LinearScale\"},\"y_range\":{\"id\":\"4c002ca2-35f1-48e0-9e4a-15574f6500bd\",\"type\":\"Range1d\"},\"y_scale\":{\"id\":\"284fed3a-8f52-468b-a76b-cf5acc0fe3fa\",\"type\":\"LogScale\"}},\"id\":\"6a68ec1a-9599-44ec-9733-74d95b1b5ffa\",\"subtype\":\"Figure\",\"type\":\"Plot\"},{\"attributes\":{\"callback\":null,\"data\":{\"x\":{\"__ndarray__\":\"/Bteq23rpD8GOkau6w6kP247GQO0aKI/zMwRGTh/oD8lUysYo+mcPwiskc/6hpg/pxSjhfHNkz8oIVNNtKaNP7zP6wrtHYM/GM9xIp4GcD8AKIO+F7Fcv9AwF89wLH+/6AEsYK3bi7/wjgPznSuTv7Dm512GZ5a/QKzWtS5MmL8I5zk/b4eZv2gRD57NDpq/6DPEJy74mb8AmnKCZ3aZv0B94rvN6Ji/8KSZK8NdkL8AgMfeKcsXP2ApLmAkoYg/4pyEd//ikD9sUOEFDAOPPxa6PvHeWoU/eJ9AlMYKcz/gDYSIQmYkP1bbc56SlF+/Ls3Do9UjYb8i3awatPJTvyDDugW9Ih6/pLaxBjB3RT8S5rJNFFdSP5hcqaZmlVY/jBwr4D4sWD9YcxctNi5YPyrNYb/rblU/ArYsJVGmTj9QRfvPcGU7P2B3Bv+RvSy/MBXucbMzTb8Ipt2SpSxYv8i7rNHp4Vu/gEPAcx96Xb/4opOKGythv6hAUr4Z9GG/pApHCPOxYL+w/1WpHtFdv9bgkHOcYlq/MJDkBUTiV7/6+rUUiDNVv4KW/6RJhFO/4PewCVkzUr8IM7XgVDZRv6Bl/nkZgFC/OL+WsjsQUL/ADgPFsl1Qv6B8B0XEGE+/AAPm6hYkTr9AoLz21sJMv4BPvj0Zokq/IBDeZAjNR7/gW9yGNKxEv0B0jErGEkK/AEDSfc6iQL9ABIiukrpBv8BBweZlcUa/QEiMyoswRr8AOAEgeL9BvwBuBREjRjW/AAALwHcc576AP3uFGcUtPyCRUDdFfEY/\",\"dtype\":\"float64\",\"shape\":[75]},\"y\":{\"__ndarray__\":\"GhExyth1ND/Sv8nbtpRIP2vylNV0PVE/aTum7souWD/At0SJ8fVgPw3Iuahxymc/MSNhhJWvcD/bTfBN02d3P2zb5nxnaoA/CD5h5MAGhz8NmeH1TyaQP+zrCsc9p5Y/LbKd76fGnz/bLW5ISEmmPww9YvTcQq8/JV2OstnstT8Er5Y7M8G+P0c+r3jqkcU/5h99k6ZBzj88bCIzFzjVP4enV8oyxN0//yH99nXg5D8qOpLLf0jtP5kqGJXUifQ/c9cS8kHP/D+/DpwzojQEQIEmwoanVwxA4lgXt9HgE0BSSZ2AJuIbQAMJih9jjiNA5q4l5INuK0AwTKYKRj0zQNv5fmq8/DpAaCJseHrtQkB/+zpwzoxKQM3MzMzMeFJAZmZmZmZqWEAAAAAAAFxeQM3MzMzMJmJAmpmZmZkfZUBmZmZmZhhoQDMzMzMzEWtAAAAAAAAKbkBmZmZmZoFwQM3MzMzM/XFAMzMzMzN6c0CamZmZmfZ0QAAAAAAAc3ZAZmZmZmbvd0DNzMzMzGt5QDMzMzMz6HpAmpmZmZlkfEAAAAAAAOF9QGZmZmZmXX9AZmZmZuZsgECamZmZGSuBQM3MzMxM6YFAAAAAAICngkAzMzMzs2WDQGZmZmbmI4RAmpmZmRnihEDNzMzMTKCFQAAAAACAXoZAMzMzM7Mch0BmZmZm5tqHQJqZmZkZmYhAzczMzExXiUAAAAAAgBWKQDMzMzOz04pAZmZmZuaRi0CamZmZGVCMQM3MzMxMDo1AAAAAAIDMjUAzMzMzs4qOQGZmZmbmSI9A\",\"dtype\":\"float64\",\"shape\":[75]}},\"selected\":{\"id\":\"a4af2d45-75b2-4387-ac6f-c1ddbdb22fc2\",\"type\":\"Selection\"},\"selection_policy\":{\"id\":\"d27f004e-ac07-48c3-bcbd-be57c70ebb3f\",\"type\":\"UnionRenderers\"}},\"id\":\"16badf94-cbd9-4f6c-b052-32e441dc6bd7\",\"type\":\"ColumnDataSource\"},{\"attributes\":{\"plot\":null,\"text\":\"\"},\"id\":\"310a117e-1020-48b0-9384-c91b043579de\",\"type\":\"Title\"},{\"attributes\":{\"ticker\":null},\"id\":\"9e1d9e1b-a38a-480c-b14c-4c6139ba7977\",\"type\":\"LogTickFormatter\"},{\"attributes\":{\"source\":{\"id\":\"af13438e-57d2-499d-8935-2145d2458ced\",\"type\":\"ColumnDataSource\"}},\"id\":\"8454d1d1-d04d-498d-bba1-d4adad286dad\",\"type\":\"CDSView\"},{\"attributes\":{},\"id\":\"3f5996a8-0644-44df-86b7-39830ca5a40c\",\"type\":\"BasicTickFormatter\"},{\"attributes\":{\"line_alpha\":0.1,\"line_color\":\"#1f77b4\",\"line_width\":1.5,\"x\":{\"field\":\"x\"},\"y\":{\"field\":\"y\"}},\"id\":\"a66ea053-462d-49e8-bafb-ea1012c88a68\",\"type\":\"Line\"},{\"attributes\":{\"callback\":null,\"data\":{\"x\":{\"__ndarray__\":\"/Bteq23rpD8GOkau6w6kP247GQO0aKI/zMwRGTh/oD8lUysYo+mcPwiskc/6hpg/pxSjhfHNkz8oIVNNtKaNP7zP6wrtHYM/GM9xIp4GcD8AKIO+F7Fcv9AwF89wLH+/6AEsYK3bi7/wjgPznSuTv7Dm512GZ5a/QKzWtS5MmL8I5zk/b4eZv2gRD57NDpq/6DPEJy74mb8AmnKCZ3aZv0B94rvN6Ji/8KSZK8NdkL8AgMfeKcsXP2ApLmAkoYg/4pyEd//ikD9sUOEFDAOPPxa6PvHeWoU/eJ9AlMYKcz/gDYSIQmYkP1bbc56SlF+/Ls3Do9UjYb8i3awatPJTvyDDugW9Ih6/pLaxBjB3RT8S5rJNFFdSP5hcqaZmlVY/jBwr4D4sWD9YcxctNi5YPyrNYb/rblU/ArYsJVGmTj9QRfvPcGU7P2B3Bv+RvSy/MBXucbMzTb8Ipt2SpSxYv8i7rNHp4Vu/gEPAcx96Xb/4opOKGythv6hAUr4Z9GG/pApHCPOxYL+w/1WpHtFdv9bgkHOcYlq/MJDkBUTiV7/6+rUUiDNVv4KW/6RJhFO/4PewCVkzUr8IM7XgVDZRv6Bl/nkZgFC/OL+WsjsQUL/ADgPFsl1Qv6B8B0XEGE+/AAPm6hYkTr9AoLz21sJMv4BPvj0Zokq/IBDeZAjNR7/gW9yGNKxEv0B0jErGEkK/AEDSfc6iQL9ABIiukrpBv8BBweZlcUa/QEiMyoswRr8AOAEgeL9BvwBuBREjRjW/AAALwHcc576AP3uFGcUtPyCRUDdFfEY/\",\"dtype\":\"float64\",\"shape\":[75]},\"y\":{\"__ndarray__\":\"GhExyth1ND/Sv8nbtpRIP2vylNV0PVE/aTum7souWD/At0SJ8fVgPw3Iuahxymc/MSNhhJWvcD/bTfBN02d3P2zb5nxnaoA/CD5h5MAGhz8NmeH1TyaQP+zrCsc9p5Y/LbKd76fGnz/bLW5ISEmmPww9YvTcQq8/JV2OstnstT8Er5Y7M8G+P0c+r3jqkcU/5h99k6ZBzj88bCIzFzjVP4enV8oyxN0//yH99nXg5D8qOpLLf0jtP5kqGJXUifQ/c9cS8kHP/D+/DpwzojQEQIEmwoanVwxA4lgXt9HgE0BSSZ2AJuIbQAMJih9jjiNA5q4l5INuK0AwTKYKRj0zQNv5fmq8/DpAaCJseHrtQkB/+zpwzoxKQM3MzMzMeFJAZmZmZmZqWEAAAAAAAFxeQM3MzMzMJmJAmpmZmZkfZUBmZmZmZhhoQDMzMzMzEWtAAAAAAAAKbkBmZmZmZoFwQM3MzMzM/XFAMzMzMzN6c0CamZmZmfZ0QAAAAAAAc3ZAZmZmZmbvd0DNzMzMzGt5QDMzMzMz6HpAmpmZmZlkfEAAAAAAAOF9QGZmZmZmXX9AZmZmZuZsgECamZmZGSuBQM3MzMxM6YFAAAAAAICngkAzMzMzs2WDQGZmZmbmI4RAmpmZmRnihEDNzMzMTKCFQAAAAACAXoZAMzMzM7Mch0BmZmZm5tqHQJqZmZkZmYhAzczMzExXiUAAAAAAgBWKQDMzMzOz04pAZmZmZuaRi0CamZmZGVCMQM3MzMxMDo1AAAAAAIDMjUAzMzMzs4qOQGZmZmbmSI9A\",\"dtype\":\"float64\",\"shape\":[75]}},\"selected\":{\"id\":\"c5e3be46-8bbe-4df1-bb76-24b5d00dca14\",\"type\":\"Selection\"},\"selection_policy\":{\"id\":\"3cb2ac6a-2638-42ff-ab2b-240d7f0466ef\",\"type\":\"UnionRenderers\"}},\"id\":\"09d1966c-ccfc-4818-a50d-297716eaef6f\",\"type\":\"ColumnDataSource\"},{\"attributes\":{},\"id\":\"e7899e0a-494b-4054-8cb0-e6e234fa6271\",\"type\":\"UnionRenderers\"},{\"attributes\":{\"callback\":null,\"end\":0.01,\"start\":1020},\"id\":\"eae80cd6-4895-4ba2-8822-a380c25e22f9\",\"type\":\"Range1d\"},{\"attributes\":{\"callback\":null,\"data\":{\"x\":{\"__ndarray__\":\"z6RPc48Hqb801DSdltqmvyDnjvjPGaK/hWWMCl+smb9hEoGIF12Mv6zhVa/lrlq//FnMwtrXhz9qff2TkKiaP+b8NQaISqU/UNU/BXfhrT/3LRzqsY6zP7IMkvOogLg/0EmOO+7CvT+kAIIZZU7BP3eSYcx7KMM/ADfDYr2zxD8gXn0QxDXGP6ie1vqMrsc/r8bUeaMeyT/GLfAXU4/KPxy3u2yI3ss/ww5VV554yT8s4iEtfsnCP6HH/OAbqrg/USGabfhWrj/YquOhBCqhP7cI68oKAJE/vBd+JtSBgD+UnU5ASpp3P+uFDeIrxHQ/cJqBCm+kcD/gKV4RbsVlP8SJQE70g2M/mbgEVMpLaz9Zta1uF61vPwoiWWtCOHA/dLOzOMDkbT/sSlAX1vtjP3eGSoo0MUc/PhNXD7nBT79pKl7MbUpmv9XzJjVIAnO/EkEOJhsRfL/T5ZhHv52DvxG6JdliZIq/5vJK3ZLCjb+NgoxnmcCKv0J8VmuZjYW/4V2lZRfOgL8sIasoIGh4v/vwePulEm6/nFnxM+cjVb8j+4uSoMRTPz8OU1F+T28/5jPbLb7Mej+YX1FAhR6DP1d4Rwpy44g/pmjkBqmVjj/hIjhACAqSP2JK+7BGopQ/sj9Ij9EMlz+t5n56jkuZPwc8T6M7aJs/LtWRdM5znT8jNlxXpIKfP1VzIdHf06A/bwV/+ib1oT8wFnRaZxSjP9rfeU3k86M/+cvuhxwqpD+/YMfrg3CjP174WYuZ8aE/X1aeGicUoD/Uef5wYDqcP0tPXX0XLpg/\",\"dtype\":\"float64\",\"shape\":[75]},\"y\":{\"__ndarray__\":\"GhExyth1ND/Sv8nbtpRIP2vylNV0PVE/aTum7souWD/At0SJ8fVgPw3Iuahxymc/MSNhhJWvcD/bTfBN02d3P2zb5nxnaoA/CD5h5MAGhz8NmeH1TyaQP+zrCsc9p5Y/LbKd76fGnz/bLW5ISEmmPww9YvTcQq8/JV2OstnstT8Er5Y7M8G+P0c+r3jqkcU/5h99k6ZBzj88bCIzFzjVP4enV8oyxN0//yH99nXg5D8qOpLLf0jtP5kqGJXUifQ/c9cS8kHP/D+/DpwzojQEQIEmwoanVwxA4lgXt9HgE0BSSZ2AJuIbQAMJih9jjiNA5q4l5INuK0AwTKYKRj0zQNv5fmq8/DpAaCJseHrtQkB/+zpwzoxKQM3MzMzMeFJAZmZmZmZqWEAAAAAAAFxeQM3MzMzMJmJAmpmZmZkfZUBmZmZmZhhoQDMzMzMzEWtAAAAAAAAKbkBmZmZmZoFwQM3MzMzM/XFAMzMzMzN6c0CamZmZmfZ0QAAAAAAAc3ZAZmZmZmbvd0DNzMzMzGt5QDMzMzMz6HpAmpmZmZlkfEAAAAAAAOF9QGZmZmZmXX9AZmZmZuZsgECamZmZGSuBQM3MzMxM6YFAAAAAAICngkAzMzMzs2WDQGZmZmbmI4RAmpmZmRnihEDNzMzMTKCFQAAAAACAXoZAMzMzM7Mch0BmZmZm5tqHQJqZmZkZmYhAzczMzExXiUAAAAAAgBWKQDMzMzOz04pAZmZmZuaRi0CamZmZGVCMQM3MzMxMDo1AAAAAAIDMjUAzMzMzs4qOQGZmZmbmSI9A\",\"dtype\":\"float64\",\"shape\":[75]}},\"selected\":{\"id\":\"e751e5c7-ef15-4ab6-82eb-8705f0cf4e00\",\"type\":\"Selection\"},\"selection_policy\":{\"id\":\"e15c42ca-78e7-4a8c-aa0b-310686cd53ed\",\"type\":\"UnionRenderers\"}},\"id\":\"846332ee-9675-4abe-ab88-78750cce600a\",\"type\":\"ColumnDataSource\"},{\"attributes\":{},\"id\":\"f092dcd6-81ef-4d32-8f40-5447027091ec\",\"type\":\"Selection\"},{\"attributes\":{},\"id\":\"4dc274b2-572e-417f-8b5a-dbec768388d0\",\"type\":\"Selection\"},{\"attributes\":{},\"id\":\"4bf25dfe-1171-4beb-8689-c1a75638f478\",\"type\":\"UnionRenderers\"},{\"attributes\":{\"fill_alpha\":{\"value\":0.1},\"fill_color\":{\"value\":\"#1f77b4\"},\"line_alpha\":{\"value\":0.1},\"line_color\":{\"value\":\"#1f77b4\"},\"x\":{\"field\":\"x\"},\"y\":{\"field\":\"y\"}},\"id\":\"92d43e6e-62cf-498d-be9f-6db449a348ba\",\"type\":\"Circle\"},{\"attributes\":{},\"id\":\"1f4d4e60-9e93-4579-a456-a3e7281e0897\",\"type\":\"Selection\"},{\"attributes\":{\"fill_alpha\":{\"value\":0.7},\"fill_color\":{\"value\":\"#4daf4a\"},\"line_alpha\":{\"value\":0.7},\"line_color\":{\"value\":\"#4daf4a\"},\"x\":{\"field\":\"x\"},\"y\":{\"field\":\"y\"}},\"id\":\"262d0990-3f51-4ce5-9ce7-903bc903446d\",\"type\":\"Circle\"},{\"attributes\":{},\"id\":\"563653a5-b9c7-4818-8241-efc0798b6183\",\"type\":\"UnionRenderers\"},{\"attributes\":{\"plot\":null,\"text\":\"\"},\"id\":\"ac0d0376-4929-4d93-bf5d-583b96da87b0\",\"type\":\"Title\"},{\"attributes\":{\"label\":{\"value\":\"CLIRAD\"},\"renderers\":[{\"id\":\"17ce7328-39cc-4e32-989f-86344ec61857\",\"type\":\"GlyphRenderer\"}]},\"id\":\"61bf4ccd-da99-4d99-8888-a7a876349959\",\"type\":\"LegendItem\"},{\"attributes\":{\"active_drag\":\"auto\",\"active_inspect\":\"auto\",\"active_scroll\":\"auto\",\"active_tap\":\"auto\",\"tools\":[{\"id\":\"4941122b-ff2f-445f-a7f6-5e07888c270b\",\"type\":\"PanTool\"},{\"id\":\"8fd659ac-81fb-4508-a078-33a50e4b546b\",\"type\":\"WheelZoomTool\"},{\"id\":\"1fc6f761-c4eb-4f63-a611-907ee4cf8b66\",\"type\":\"BoxZoomTool\"},{\"id\":\"5808e575-95f5-4cb1-aa19-d465b749f536\",\"type\":\"SaveTool\"},{\"id\":\"b9e6ca2c-dc03-48ca-aab2-49518df82a48\",\"type\":\"ResetTool\"},{\"id\":\"d4e7bd8b-b251-46ee-8402-75933ece6b30\",\"type\":\"HelpTool\"}]},\"id\":\"74aed3dd-1022-460a-a7d5-f7ad259f4c01\",\"type\":\"Toolbar\"},{\"attributes\":{},\"id\":\"0382080f-1464-48d5-8352-a2ffedc3bf30\",\"type\":\"BasicTickFormatter\"},{\"attributes\":{\"data_source\":{\"id\":\"af13438e-57d2-499d-8935-2145d2458ced\",\"type\":\"ColumnDataSource\"},\"glyph\":{\"id\":\"262d0990-3f51-4ce5-9ce7-903bc903446d\",\"type\":\"Circle\"},\"hover_glyph\":null,\"muted_glyph\":null,\"nonselection_glyph\":{\"id\":\"92d43e6e-62cf-498d-be9f-6db449a348ba\",\"type\":\"Circle\"},\"selection_glyph\":null,\"view\":{\"id\":\"8454d1d1-d04d-498d-bba1-d4adad286dad\",\"type\":\"CDSView\"}},\"id\":\"67b64f69-59ce-472b-bdc5-426678faeeb1\",\"type\":\"GlyphRenderer\"},{\"attributes\":{\"callback\":null,\"end\":0.016910308565349995,\"start\":-0.025866474930349978},\"id\":\"b09be802-a5e4-40e9-98be-c418c3e807b9\",\"type\":\"Range1d\"},{\"attributes\":{\"source\":{\"id\":\"e621b4e9-436d-4ff1-97ac-6e1dcc02ecbf\",\"type\":\"ColumnDataSource\"}},\"id\":\"edbd6052-4102-4e89-badb-a6156a67ccab\",\"type\":\"CDSView\"},{\"attributes\":{},\"id\":\"3cb2ac6a-2638-42ff-ab2b-240d7f0466ef\",\"type\":\"UnionRenderers\"},{\"attributes\":{\"toolbar\":{\"id\":\"e77d0f6a-2219-44ce-91ab-5d6cf25433e4\",\"type\":\"ProxyToolbar\"},\"toolbar_location\":\"above\"},\"id\":\"90b45981-2bab-47b7-b2d6-48b7275278da\",\"type\":\"ToolbarBox\"},{\"attributes\":{\"tools\":[{\"id\":\"c2c88cd3-1f4e-4d9d-866c-f69460e55097\",\"type\":\"PanTool\"},{\"id\":\"6f5fd2c0-6022-4cde-aa45-e38521523b62\",\"type\":\"WheelZoomTool\"},{\"id\":\"d48e4c80-e2b7-4337-b9b3-0e4864c32eb8\",\"type\":\"BoxZoomTool\"},{\"id\":\"7eb900de-001a-4b38-aea4-8dfe1718fe2d\",\"type\":\"SaveTool\"},{\"id\":\"c2d80289-d1a7-4376-90ce-d6eb08badb7b\",\"type\":\"ResetTool\"},{\"id\":\"a5f14202-6cf0-4c5d-a795-27aac9cfd8d1\",\"type\":\"HelpTool\"},{\"id\":\"4941122b-ff2f-445f-a7f6-5e07888c270b\",\"type\":\"PanTool\"},{\"id\":\"8fd659ac-81fb-4508-a078-33a50e4b546b\",\"type\":\"WheelZoomTool\"},{\"id\":\"1fc6f761-c4eb-4f63-a611-907ee4cf8b66\",\"type\":\"BoxZoomTool\"},{\"id\":\"5808e575-95f5-4cb1-aa19-d465b749f536\",\"type\":\"SaveTool\"},{\"id\":\"b9e6ca2c-dc03-48ca-aab2-49518df82a48\",\"type\":\"ResetTool\"},{\"id\":\"d4e7bd8b-b251-46ee-8402-75933ece6b30\",\"type\":\"HelpTool\"},{\"id\":\"a38c2521-c3b8-4d2b-8223-988fa6760e74\",\"type\":\"PanTool\"},{\"id\":\"94575827-1ae6-422c-af11-54538ef2c853\",\"type\":\"WheelZoomTool\"},{\"id\":\"3583eada-b2f6-4002-888a-f9b7c7ccbb14\",\"type\":\"BoxZoomTool\"},{\"id\":\"cacf71b8-6dc4-4a97-8c83-73a1f26d6ed9\",\"type\":\"SaveTool\"},{\"id\":\"7ea18053-36c1-497a-bafb-b36057f16bdf\",\"type\":\"ResetTool\"},{\"id\":\"e5d465e5-ebab-4cae-969a-e5ae95dba61c\",\"type\":\"HelpTool\"}]},\"id\":\"e77d0f6a-2219-44ce-91ab-5d6cf25433e4\",\"type\":\"ProxyToolbar\"},{\"attributes\":{\"callback\":null,\"end\":0.21993316246780004,\"start\":-0.0049255343678},\"id\":\"2e3f7ccc-7ede-4fc8-b52a-e2c6d099b51d\",\"type\":\"Range1d\"},{\"attributes\":{\"fill_alpha\":{\"value\":0.7},\"fill_color\":{\"value\":\"#984ea3\"},\"line_alpha\":{\"value\":0.7},\"line_color\":{\"value\":\"#984ea3\"},\"x\":{\"field\":\"x\"},\"y\":{\"field\":\"y\"}},\"id\":\"71967338-5853-4b64-8cc4-09904bed7aa2\",\"type\":\"Circle\"},{\"attributes\":{},\"id\":\"c5e3be46-8bbe-4df1-bb76-24b5d00dca14\",\"type\":\"Selection\"},{\"attributes\":{\"active_drag\":\"auto\",\"active_inspect\":\"auto\",\"active_scroll\":\"auto\",\"active_tap\":\"auto\",\"tools\":[{\"id\":\"a38c2521-c3b8-4d2b-8223-988fa6760e74\",\"type\":\"PanTool\"},{\"id\":\"94575827-1ae6-422c-af11-54538ef2c853\",\"type\":\"WheelZoomTool\"},{\"id\":\"3583eada-b2f6-4002-888a-f9b7c7ccbb14\",\"type\":\"BoxZoomTool\"},{\"id\":\"cacf71b8-6dc4-4a97-8c83-73a1f26d6ed9\",\"type\":\"SaveTool\"},{\"id\":\"7ea18053-36c1-497a-bafb-b36057f16bdf\",\"type\":\"ResetTool\"},{\"id\":\"e5d465e5-ebab-4cae-969a-e5ae95dba61c\",\"type\":\"HelpTool\"}]},\"id\":\"cd657fb3-b3e4-495b-9a06-a3db9cb02915\",\"type\":\"Toolbar\"},{\"attributes\":{\"children\":[{\"id\":\"90b45981-2bab-47b7-b2d6-48b7275278da\",\"type\":\"ToolbarBox\"},{\"id\":\"346b0bc2-b523-4fc5-ba6e-fd38b45b1c6a\",\"type\":\"Column\"}]},\"id\":\"3b8712cd-09a1-4c6c-a82d-1e229a16d174\",\"type\":\"Column\"},{\"attributes\":{\"items\":[{\"id\":\"3ec67d1a-a9a4-4fa8-8c69-bac5432f95b4\",\"type\":\"LegendItem\"}],\"label_text_font_size\":{\"value\":\"8pt\"},\"location\":\"top_center\",\"orientation\":\"horizontal\",\"plot\":{\"id\":\"7b967881-f7e3-4db5-aabe-c776fb7e7519\",\"subtype\":\"Figure\",\"type\":\"Plot\"}},\"id\":\"96306f2a-0876-44ff-b6b5-d61179e3546e\",\"type\":\"Legend\"},{\"attributes\":{\"callback\":null,\"data\":{\"x\":{\"__ndarray__\":\"TSPGH4dwgL9v0XR3V112v2kTlaICuUM/T9BcnkRIfT/pk9WnLnaNP+1NnHQM3JY/pUEJ5965nz//hlNd9b2kP9Xw8EgDEqo/Mw+OyUrirz9XISKL7RuzP6WZoObhjbY/k8mIj3hHuj+MHUO24tG9P6GVpACLW8A/eGEIjDeqwT8/IZYo1gTDP3u8FEezbMQ/MkDctJ3fxT+G2qEnhmDHP3RnP7Vuwcg/Jdrh8eVsxz8cu12Sd8zCP82MAm1Avrs/4TeuFDxksz/z/lujx+qoP8JlikN6rZs/eGeecDcHij8DvpJUfD14Pyse4XQOvmk/smc/cQglYD+edg8IKJhXP6uzEmbekmI/IZPYKstUcD8xlMPKUGx0PzB5AxWc3XU/3aBk1G/9dD9MAu6WeAlwPzOIQwLDg2A/yNOlon62Ab+/wV6yv91iv5AnH8U06HO/uANMlJG3f7+UmvT5U6OGv4pRWxOg4I2/q33hZeu4kL9LazFKYAuPv2wM69qfCoq/iiC3J5T6hL8YoQDTZ9x/v7OwoBr6oXW/5vTqnBWDZr9x/Z8ieO4Wv/5C035ZjWU/7vVu6+c/dj83uTqkuveAP6OrB9tu04Y/v5CRkKGTjD/18ecTLQSRP30O046AqZM/mg/x17Ablj+rAcnCd2WYP4tJYdkqk5o/reRqMWa1nD9EUyWzQt2eP4RB97eUi6A/b7yHwJuyoT8f9rkPfc2iP9Pa3rUemqM/2JrEWFrRoz/fW0cLhimjP4LtN0UNx6E/r1UiU7USoD9TcAmk6nWcP9TTF6f54Zg/\",\"dtype\":\"float64\",\"shape\":[75]},\"y\":{\"__ndarray__\":\"GhExyth1ND/Sv8nbtpRIP2vylNV0PVE/aTum7souWD/At0SJ8fVgPw3Iuahxymc/MSNhhJWvcD/bTfBN02d3P2zb5nxnaoA/CD5h5MAGhz8NmeH1TyaQP+zrCsc9p5Y/LbKd76fGnz/bLW5ISEmmPww9YvTcQq8/JV2OstnstT8Er5Y7M8G+P0c+r3jqkcU/5h99k6ZBzj88bCIzFzjVP4enV8oyxN0//yH99nXg5D8qOpLLf0jtP5kqGJXUifQ/c9cS8kHP/D+/DpwzojQEQIEmwoanVwxA4lgXt9HgE0BSSZ2AJuIbQAMJih9jjiNA5q4l5INuK0AwTKYKRj0zQNv5fmq8/DpAaCJseHrtQkB/+zpwzoxKQM3MzMzMeFJAZmZmZmZqWEAAAAAAAFxeQM3MzMzMJmJAmpmZmZkfZUBmZmZmZhhoQDMzMzMzEWtAAAAAAAAKbkBmZmZmZoFwQM3MzMzM/XFAMzMzMzN6c0CamZmZmfZ0QAAAAAAAc3ZAZmZmZmbvd0DNzMzMzGt5QDMzMzMz6HpAmpmZmZlkfEAAAAAAAOF9QGZmZmZmXX9AZmZmZuZsgECamZmZGSuBQM3MzMxM6YFAAAAAAICngkAzMzMzs2WDQGZmZmbmI4RAmpmZmRnihEDNzMzMTKCFQAAAAACAXoZAMzMzM7Mch0BmZmZm5tqHQJqZmZkZmYhAzczMzExXiUAAAAAAgBWKQDMzMzOz04pAZmZmZuaRi0CamZmZGVCMQM3MzMxMDo1AAAAAAIDMjUAzMzMzs4qOQGZmZmbmSI9A\",\"dtype\":\"float64\",\"shape\":[75]}},\"selected\":{\"id\":\"3b3cf635-86d5-4bd4-85af-c535c9fc0228\",\"type\":\"Selection\"},\"selection_policy\":{\"id\":\"2c8816ec-0089-48bf-9d77-8f3af8b40a10\",\"type\":\"UnionRenderers\"}},\"id\":\"6eeb5df9-347b-47cd-99fd-812eea752b6a\",\"type\":\"ColumnDataSource\"},{\"attributes\":{},\"id\":\"9eabb12d-933d-46ec-a8a0-9c48355a4311\",\"type\":\"LogScale\"},{\"attributes\":{\"line_alpha\":0.6,\"line_color\":\"#e41a1c\",\"line_dash\":[6],\"line_width\":5,\"x\":{\"field\":\"x\"},\"y\":{\"field\":\"y\"}},\"id\":\"448d69fd-1978-4a06-93d0-a72bb6f9d7d5\",\"type\":\"Line\"},{\"attributes\":{},\"id\":\"d27f004e-ac07-48c3-bcbd-be57c70ebb3f\",\"type\":\"UnionRenderers\"},{\"attributes\":{},\"id\":\"a4af2d45-75b2-4387-ac6f-c1ddbdb22fc2\",\"type\":\"Selection\"},{\"attributes\":{},\"id\":\"18793627-50fd-4219-ab79-819905bd607d\",\"type\":\"LinearScale\"},{\"attributes\":{},\"id\":\"e751e5c7-ef15-4ab6-82eb-8705f0cf4e00\",\"type\":\"Selection\"},{\"attributes\":{\"items\":[{\"id\":\"a99fa182-d5c0-4895-b786-bf33a8f0fdd7\",\"type\":\"LegendItem\"},{\"id\":\"f98a4098-2943-44ae-bbbb-2d10e15dc882\",\"type\":\"LegendItem\"}],\"label_text_font_size\":{\"value\":\"8pt\"},\"location\":\"top_center\",\"orientation\":\"horizontal\",\"plot\":{\"id\":\"6a68ec1a-9599-44ec-9733-74d95b1b5ffa\",\"subtype\":\"Figure\",\"type\":\"Plot\"}},\"id\":\"fff3b4ae-10db-41f8-839a-7921963ed6ad\",\"type\":\"Legend\"},{\"attributes\":{\"dimension\":1,\"plot\":{\"id\":\"7b967881-f7e3-4db5-aabe-c776fb7e7519\",\"subtype\":\"Figure\",\"type\":\"Plot\"},\"ticker\":{\"id\":\"9ccd5e58-1821-4276-b01d-ed346ef3a345\",\"type\":\"LogTicker\"}},\"id\":\"4e55c825-ea53-48af-96ab-d42d38ade25c\",\"type\":\"Grid\"},{\"attributes\":{\"plot\":{\"id\":\"6a68ec1a-9599-44ec-9733-74d95b1b5ffa\",\"subtype\":\"Figure\",\"type\":\"Plot\"},\"ticker\":{\"id\":\"9ee1e1cb-2fe7-408e-9395-32f2e0156c64\",\"type\":\"BasicTicker\"}},\"id\":\"f7902f35-e3b4-4d58-aa38-eb3db9654a95\",\"type\":\"Grid\"},{\"attributes\":{\"num_minor_ticks\":10},\"id\":\"9ccd5e58-1821-4276-b01d-ed346ef3a345\",\"type\":\"LogTicker\"},{\"attributes\":{\"axis_label\":\"pressure [mb]\",\"formatter\":{\"id\":\"a284519f-efb8-4be7-a8e6-28c49db41ff9\",\"type\":\"LogTickFormatter\"},\"plot\":{\"id\":\"7b967881-f7e3-4db5-aabe-c776fb7e7519\",\"subtype\":\"Figure\",\"type\":\"Plot\"},\"ticker\":{\"id\":\"9ccd5e58-1821-4276-b01d-ed346ef3a345\",\"type\":\"LogTicker\"}},\"id\":\"882744ec-923c-4fd5-8fd1-30c212a4a9d3\",\"type\":\"LogAxis\"},{\"attributes\":{},\"id\":\"284fed3a-8f52-468b-a76b-cf5acc0fe3fa\",\"type\":\"LogScale\"},{\"attributes\":{},\"id\":\"e6ca9b3a-5576-483e-b0cc-a5477b4a2bd3\",\"type\":\"BasicTicker\"},{\"attributes\":{\"callback\":null,\"end\":0.01,\"start\":1020},\"id\":\"7a5e0392-6941-497d-ab0c-5ae46824824d\",\"type\":\"Range1d\"},{\"attributes\":{\"axis_label\":\"cooling rate [K/day]\",\"formatter\":{\"id\":\"0cf6a7cf-6c26-4a04-ad32-a119831f4874\",\"type\":\"BasicTickFormatter\"},\"plot\":{\"id\":\"6a68ec1a-9599-44ec-9733-74d95b1b5ffa\",\"subtype\":\"Figure\",\"type\":\"Plot\"},\"ticker\":{\"id\":\"9ee1e1cb-2fe7-408e-9395-32f2e0156c64\",\"type\":\"BasicTicker\"}},\"id\":\"7ada14e7-6022-47c2-a3c6-3a5b5d244220\",\"type\":\"LinearAxis\"},{\"attributes\":{\"axis_label\":\"cooling rate [K/day]\",\"formatter\":{\"id\":\"0382080f-1464-48d5-8352-a2ffedc3bf30\",\"type\":\"BasicTickFormatter\"},\"plot\":{\"id\":\"7b967881-f7e3-4db5-aabe-c776fb7e7519\",\"subtype\":\"Figure\",\"type\":\"Plot\"},\"ticker\":{\"id\":\"e6ca9b3a-5576-483e-b0cc-a5477b4a2bd3\",\"type\":\"BasicTicker\"}},\"id\":\"f644bcec-c7bd-4276-aebd-72cbcc142e75\",\"type\":\"LinearAxis\"},{\"attributes\":{\"plot\":{\"id\":\"7b967881-f7e3-4db5-aabe-c776fb7e7519\",\"subtype\":\"Figure\",\"type\":\"Plot\"},\"ticker\":{\"id\":\"e6ca9b3a-5576-483e-b0cc-a5477b4a2bd3\",\"type\":\"BasicTicker\"}},\"id\":\"3ac41825-b6ad-4dcd-a51b-67353a04f020\",\"type\":\"Grid\"},{\"attributes\":{},\"id\":\"9ee1e1cb-2fe7-408e-9395-32f2e0156c64\",\"type\":\"BasicTicker\"},{\"attributes\":{},\"id\":\"94575827-1ae6-422c-af11-54538ef2c853\",\"type\":\"WheelZoomTool\"},{\"attributes\":{\"axis_label\":\"pressure [mb]\",\"formatter\":{\"id\":\"9e1d9e1b-a38a-480c-b14c-4c6139ba7977\",\"type\":\"LogTickFormatter\"},\"plot\":{\"id\":\"6a68ec1a-9599-44ec-9733-74d95b1b5ffa\",\"subtype\":\"Figure\",\"type\":\"Plot\"},\"ticker\":{\"id\":\"941243d7-fa67-4675-b748-e28180795919\",\"type\":\"LogTicker\"}},\"id\":\"a7749397-77ab-4ec5-b621-2fd1ec2ce7b7\",\"type\":\"LogAxis\"},{\"attributes\":{\"num_minor_ticks\":10},\"id\":\"941243d7-fa67-4675-b748-e28180795919\",\"type\":\"LogTicker\"},{\"attributes\":{\"callback\":null,\"data\":{\"x\":{\"__ndarray__\":\"TSPGH4dwgL9v0XR3V112v2kTlaICuUM/T9BcnkRIfT/pk9WnLnaNP+1NnHQM3JY/pUEJ5965nz//hlNd9b2kP9Xw8EgDEqo/Mw+OyUrirz9XISKL7RuzP6WZoObhjbY/k8mIj3hHuj+MHUO24tG9P6GVpACLW8A/eGEIjDeqwT8/IZYo1gTDP3u8FEezbMQ/MkDctJ3fxT+G2qEnhmDHP3RnP7Vuwcg/Jdrh8eVsxz8cu12Sd8zCP82MAm1Avrs/4TeuFDxksz/z/lujx+qoP8JlikN6rZs/eGeecDcHij8DvpJUfD14Pyse4XQOvmk/smc/cQglYD+edg8IKJhXP6uzEmbekmI/IZPYKstUcD8xlMPKUGx0PzB5AxWc3XU/3aBk1G/9dD9MAu6WeAlwPzOIQwLDg2A/yNOlon62Ab+/wV6yv91iv5AnH8U06HO/uANMlJG3f7+UmvT5U6OGv4pRWxOg4I2/q33hZeu4kL9LazFKYAuPv2wM69qfCoq/iiC3J5T6hL8YoQDTZ9x/v7OwoBr6oXW/5vTqnBWDZr9x/Z8ieO4Wv/5C035ZjWU/7vVu6+c/dj83uTqkuveAP6OrB9tu04Y/v5CRkKGTjD/18ecTLQSRP30O046AqZM/mg/x17Ablj+rAcnCd2WYP4tJYdkqk5o/reRqMWa1nD9EUyWzQt2eP4RB97eUi6A/b7yHwJuyoT8f9rkPfc2iP9Pa3rUemqM/2JrEWFrRoz/fW0cLhimjP4LtN0UNx6E/r1UiU7USoD9TcAmk6nWcP9TTF6f54Zg/\",\"dtype\":\"float64\",\"shape\":[75]},\"y\":{\"__ndarray__\":\"GhExyth1ND/Sv8nbtpRIP2vylNV0PVE/aTum7souWD/At0SJ8fVgPw3Iuahxymc/MSNhhJWvcD/bTfBN02d3P2zb5nxnaoA/CD5h5MAGhz8NmeH1TyaQP+zrCsc9p5Y/LbKd76fGnz/bLW5ISEmmPww9YvTcQq8/JV2OstnstT8Er5Y7M8G+P0c+r3jqkcU/5h99k6ZBzj88bCIzFzjVP4enV8oyxN0//yH99nXg5D8qOpLLf0jtP5kqGJXUifQ/c9cS8kHP/D+/DpwzojQEQIEmwoanVwxA4lgXt9HgE0BSSZ2AJuIbQAMJih9jjiNA5q4l5INuK0AwTKYKRj0zQNv5fmq8/DpAaCJseHrtQkB/+zpwzoxKQM3MzMzMeFJAZmZmZmZqWEAAAAAAAFxeQM3MzMzMJmJAmpmZmZkfZUBmZmZmZhhoQDMzMzMzEWtAAAAAAAAKbkBmZmZmZoFwQM3MzMzM/XFAMzMzMzN6c0CamZmZmfZ0QAAAAAAAc3ZAZmZmZmbvd0DNzMzMzGt5QDMzMzMz6HpAmpmZmZlkfEAAAAAAAOF9QGZmZmZmXX9AZmZmZuZsgECamZmZGSuBQM3MzMxM6YFAAAAAAICngkAzMzMzs2WDQGZmZmbmI4RAmpmZmRnihEDNzMzMTKCFQAAAAACAXoZAMzMzM7Mch0BmZmZm5tqHQJqZmZkZmYhAzczMzExXiUAAAAAAgBWKQDMzMzOz04pAZmZmZuaRi0CamZmZGVCMQM3MzMxMDo1AAAAAAIDMjUAzMzMzs4qOQGZmZmbmSI9A\",\"dtype\":\"float64\",\"shape\":[75]}},\"selected\":{\"id\":\"f092dcd6-81ef-4d32-8f40-5447027091ec\",\"type\":\"Selection\"},\"selection_policy\":{\"id\":\"e7899e0a-494b-4054-8cb0-e6e234fa6271\",\"type\":\"UnionRenderers\"}},\"id\":\"e621b4e9-436d-4ff1-97ac-6e1dcc02ecbf\",\"type\":\"ColumnDataSource\"},{\"attributes\":{\"dimension\":1,\"plot\":{\"id\":\"6a68ec1a-9599-44ec-9733-74d95b1b5ffa\",\"subtype\":\"Figure\",\"type\":\"Plot\"},\"ticker\":{\"id\":\"941243d7-fa67-4675-b748-e28180795919\",\"type\":\"LogTicker\"}},\"id\":\"c85199b2-3a1a-4e46-a6fe-d4f97b41fc23\",\"type\":\"Grid\"},{\"attributes\":{\"bottom_units\":\"screen\",\"fill_alpha\":{\"value\":0.5},\"fill_color\":{\"value\":\"lightgrey\"},\"left_units\":\"screen\",\"level\":\"overlay\",\"line_alpha\":{\"value\":1.0},\"line_color\":{\"value\":\"black\"},\"line_dash\":[4,4],\"line_width\":{\"value\":2},\"plot\":null,\"render_mode\":\"css\",\"right_units\":\"screen\",\"top_units\":\"screen\"},\"id\":\"18335428-8bee-432d-9d6a-aac18ec1f757\",\"type\":\"BoxAnnotation\"},{\"attributes\":{},\"id\":\"a38c2521-c3b8-4d2b-8223-988fa6760e74\",\"type\":\"PanTool\"},{\"attributes\":{},\"id\":\"19ee07a1-06df-4966-baf2-527474950461\",\"type\":\"UnionRenderers\"},{\"attributes\":{},\"id\":\"4941122b-ff2f-445f-a7f6-5e07888c270b\",\"type\":\"PanTool\"},{\"attributes\":{\"overlay\":{\"id\":\"18335428-8bee-432d-9d6a-aac18ec1f757\",\"type\":\"BoxAnnotation\"}},\"id\":\"3583eada-b2f6-4002-888a-f9b7c7ccbb14\",\"type\":\"BoxZoomTool\"},{\"attributes\":{\"bottom_units\":\"screen\",\"fill_alpha\":{\"value\":0.5},\"fill_color\":{\"value\":\"lightgrey\"},\"left_units\":\"screen\",\"level\":\"overlay\",\"line_alpha\":{\"value\":1.0},\"line_color\":{\"value\":\"black\"},\"line_dash\":[4,4],\"line_width\":{\"value\":2},\"plot\":null,\"render_mode\":\"css\",\"right_units\":\"screen\",\"top_units\":\"screen\"},\"id\":\"051f63dc-a506-43e1-a9a0-996f2d4dd294\",\"type\":\"BoxAnnotation\"},{\"attributes\":{},\"id\":\"8fd659ac-81fb-4508-a078-33a50e4b546b\",\"type\":\"WheelZoomTool\"},{\"attributes\":{},\"id\":\"cacf71b8-6dc4-4a97-8c83-73a1f26d6ed9\",\"type\":\"SaveTool\"},{\"attributes\":{\"overlay\":{\"id\":\"051f63dc-a506-43e1-a9a0-996f2d4dd294\",\"type\":\"BoxAnnotation\"}},\"id\":\"1fc6f761-c4eb-4f63-a611-907ee4cf8b66\",\"type\":\"BoxZoomTool\"},{\"attributes\":{},\"id\":\"7ea18053-36c1-497a-bafb-b36057f16bdf\",\"type\":\"ResetTool\"},{\"attributes\":{},\"id\":\"5808e575-95f5-4cb1-aa19-d465b749f536\",\"type\":\"SaveTool\"},{\"attributes\":{},\"id\":\"e5d465e5-ebab-4cae-969a-e5ae95dba61c\",\"type\":\"HelpTool\"},{\"attributes\":{\"callback\":null,\"end\":0.01,\"start\":1020},\"id\":\"4c002ca2-35f1-48e0-9e4a-15574f6500bd\",\"type\":\"Range1d\"},{\"attributes\":{},\"id\":\"b9e6ca2c-dc03-48ca-aab2-49518df82a48\",\"type\":\"ResetTool\"},{\"attributes\":{},\"id\":\"d4e7bd8b-b251-46ee-8402-75933ece6b30\",\"type\":\"HelpTool\"},{\"attributes\":{\"data_source\":{\"id\":\"bbd5ebd5-b8c0-4fc2-8042-6d7ea2e8e5f9\",\"type\":\"ColumnDataSource\"},\"glyph\":{\"id\":\"2aaf7193-cafa-47d8-88fb-340924764c70\",\"type\":\"Circle\"},\"hover_glyph\":null,\"muted_glyph\":null,\"nonselection_glyph\":{\"id\":\"8a149cdf-7d61-4342-bebb-d2ee901f1b93\",\"type\":\"Circle\"},\"selection_glyph\":null,\"view\":{\"id\":\"6d9bee78-9b48-40d4-be45-0f6b1c91a821\",\"type\":\"CDSView\"}},\"id\":\"a9bc04b4-480d-4c9c-b8f0-36100db8a9d3\",\"type\":\"GlyphRenderer\"},{\"attributes\":{\"fill_alpha\":{\"value\":0.1},\"fill_color\":{\"value\":\"#1f77b4\"},\"line_alpha\":{\"value\":0.1},\"line_color\":{\"value\":\"#1f77b4\"},\"x\":{\"field\":\"x\"},\"y\":{\"field\":\"y\"}},\"id\":\"8a149cdf-7d61-4342-bebb-d2ee901f1b93\",\"type\":\"Circle\"},{\"attributes\":{},\"id\":\"5b646c92-68a8-4332-ba84-9f97526d499e\",\"type\":\"LinearScale\"},{\"attributes\":{\"source\":{\"id\":\"bbd5ebd5-b8c0-4fc2-8042-6d7ea2e8e5f9\",\"type\":\"ColumnDataSource\"}},\"id\":\"6d9bee78-9b48-40d4-be45-0f6b1c91a821\",\"type\":\"CDSView\"},{\"attributes\":{\"callback\":null,\"end\":0.0399409268286,\"start\":-0.0168875539686},\"id\":\"06fefb3e-f105-42ae-bdc3-afe5fcad4677\",\"type\":\"Range1d\"},{\"attributes\":{},\"id\":\"944a02a4-3f3a-45a0-b493-7713f3aa8736\",\"type\":\"BasicTicker\"},{\"attributes\":{\"line_alpha\":0.1,\"line_color\":\"#1f77b4\",\"line_dash\":[6],\"line_width\":5,\"x\":{\"field\":\"x\"},\"y\":{\"field\":\"y\"}},\"id\":\"b1c483d5-a1e6-48e3-b8a0-053dc3c6a72a\",\"type\":\"Line\"},{\"attributes\":{},\"id\":\"c2d80289-d1a7-4376-90ce-d6eb08badb7b\",\"type\":\"ResetTool\"},{\"attributes\":{\"above\":[{\"id\":\"6309ce67-d629-494c-a7f6-885e5dc43049\",\"type\":\"Legend\"}],\"below\":[{\"id\":\"7a968b11-a9ca-463a-9bad-6e9040164ad9\",\"type\":\"LinearAxis\"}],\"left\":[{\"id\":\"690e4161-73f5-4d54-8a6d-00ade95ee8cc\",\"type\":\"LinearAxis\"}],\"plot_width\":300,\"renderers\":[{\"id\":\"7a968b11-a9ca-463a-9bad-6e9040164ad9\",\"type\":\"LinearAxis\"},{\"id\":\"4e0ef7e2-bfff-4796-b539-2be7c68adc26\",\"type\":\"Grid\"},{\"id\":\"690e4161-73f5-4d54-8a6d-00ade95ee8cc\",\"type\":\"LinearAxis\"},{\"id\":\"f57610c5-539f-4c6b-9279-fdb82b49c62c\",\"type\":\"Grid\"},{\"id\":\"62435003-3cd7-4fa8-bc3f-3dea33a8a100\",\"type\":\"BoxAnnotation\"},{\"id\":\"17ce7328-39cc-4e32-989f-86344ec61857\",\"type\":\"GlyphRenderer\"},{\"id\":\"67b64f69-59ce-472b-bdc5-426678faeeb1\",\"type\":\"GlyphRenderer\"},{\"id\":\"5eaea04d-e201-4afa-a696-d58f1e956ace\",\"type\":\"GlyphRenderer\"},{\"id\":\"6309ce67-d629-494c-a7f6-885e5dc43049\",\"type\":\"Legend\"}],\"title\":{\"id\":\"ea2cac87-da38-4afd-be21-95a5fccd3097\",\"type\":\"Title\"},\"toolbar\":{\"id\":\"b17ce94c-3f49-4f39-aec3-eacbec4bc803\",\"type\":\"Toolbar\"},\"toolbar_location\":null,\"x_range\":{\"id\":\"06fefb3e-f105-42ae-bdc3-afe5fcad4677\",\"type\":\"Range1d\"},\"x_scale\":{\"id\":\"5b646c92-68a8-4332-ba84-9f97526d499e\",\"type\":\"LinearScale\"},\"y_range\":{\"id\":\"7a5e0392-6941-497d-ab0c-5ae46824824d\",\"type\":\"Range1d\"},\"y_scale\":{\"id\":\"e7d1d7d4-8c7d-4ca4-9f22-cfea2f34a1d9\",\"type\":\"LinearScale\"}},\"id\":\"86f60dd8-bc20-462d-aa9c-9dc4b449014f\",\"subtype\":\"Figure\",\"type\":\"Plot\"},{\"attributes\":{\"dimension\":1,\"plot\":{\"id\":\"86f60dd8-bc20-462d-aa9c-9dc4b449014f\",\"subtype\":\"Figure\",\"type\":\"Plot\"},\"ticker\":{\"id\":\"944a02a4-3f3a-45a0-b493-7713f3aa8736\",\"type\":\"BasicTicker\"}},\"id\":\"f57610c5-539f-4c6b-9279-fdb82b49c62c\",\"type\":\"Grid\"},{\"attributes\":{},\"id\":\"6f5fd2c0-6022-4cde-aa45-e38521523b62\",\"type\":\"WheelZoomTool\"},{\"attributes\":{\"axis_label\":\"pressure [mb]\",\"formatter\":{\"id\":\"7254a873-3b8a-4ca0-b553-1fa417fb0115\",\"type\":\"BasicTickFormatter\"},\"plot\":{\"id\":\"86f60dd8-bc20-462d-aa9c-9dc4b449014f\",\"subtype\":\"Figure\",\"type\":\"Plot\"},\"ticker\":{\"id\":\"944a02a4-3f3a-45a0-b493-7713f3aa8736\",\"type\":\"BasicTicker\"}},\"id\":\"690e4161-73f5-4d54-8a6d-00ade95ee8cc\",\"type\":\"LinearAxis\"},{\"attributes\":{\"plot\":{\"id\":\"86f60dd8-bc20-462d-aa9c-9dc4b449014f\",\"subtype\":\"Figure\",\"type\":\"Plot\"},\"ticker\":{\"id\":\"91a1baed-e4a4-49b4-8846-4cf50e6bd5f9\",\"type\":\"BasicTicker\"}},\"id\":\"4e0ef7e2-bfff-4796-b539-2be7c68adc26\",\"type\":\"Grid\"},{\"attributes\":{},\"id\":\"7eb900de-001a-4b38-aea4-8dfe1718fe2d\",\"type\":\"SaveTool\"},{\"attributes\":{},\"id\":\"e7d1d7d4-8c7d-4ca4-9f22-cfea2f34a1d9\",\"type\":\"LinearScale\"},{\"attributes\":{\"axis_label\":\"cooling rate [K/day]\",\"formatter\":{\"id\":\"3f5996a8-0644-44df-86b7-39830ca5a40c\",\"type\":\"BasicTickFormatter\"},\"plot\":{\"id\":\"86f60dd8-bc20-462d-aa9c-9dc4b449014f\",\"subtype\":\"Figure\",\"type\":\"Plot\"},\"ticker\":{\"id\":\"91a1baed-e4a4-49b4-8846-4cf50e6bd5f9\",\"type\":\"BasicTicker\"}},\"id\":\"7a968b11-a9ca-463a-9bad-6e9040164ad9\",\"type\":\"LinearAxis\"},{\"attributes\":{},\"id\":\"c2c88cd3-1f4e-4d9d-866c-f69460e55097\",\"type\":\"PanTool\"},{\"attributes\":{\"overlay\":{\"id\":\"62435003-3cd7-4fa8-bc3f-3dea33a8a100\",\"type\":\"BoxAnnotation\"}},\"id\":\"d48e4c80-e2b7-4337-b9b3-0e4864c32eb8\",\"type\":\"BoxZoomTool\"},{\"attributes\":{},\"id\":\"e15c42ca-78e7-4a8c-aa0b-310686cd53ed\",\"type\":\"UnionRenderers\"},{\"attributes\":{},\"id\":\"91a1baed-e4a4-49b4-8846-4cf50e6bd5f9\",\"type\":\"BasicTicker\"},{\"attributes\":{\"active_drag\":\"auto\",\"active_inspect\":\"auto\",\"active_scroll\":\"auto\",\"active_tap\":\"auto\",\"tools\":[{\"id\":\"c2c88cd3-1f4e-4d9d-866c-f69460e55097\",\"type\":\"PanTool\"},{\"id\":\"6f5fd2c0-6022-4cde-aa45-e38521523b62\",\"type\":\"WheelZoomTool\"},{\"id\":\"d48e4c80-e2b7-4337-b9b3-0e4864c32eb8\",\"type\":\"BoxZoomTool\"},{\"id\":\"7eb900de-001a-4b38-aea4-8dfe1718fe2d\",\"type\":\"SaveTool\"},{\"id\":\"c2d80289-d1a7-4376-90ce-d6eb08badb7b\",\"type\":\"ResetTool\"},{\"id\":\"a5f14202-6cf0-4c5d-a795-27aac9cfd8d1\",\"type\":\"HelpTool\"}]},\"id\":\"b17ce94c-3f49-4f39-aec3-eacbec4bc803\",\"type\":\"Toolbar\"},{\"attributes\":{},\"id\":\"a5f14202-6cf0-4c5d-a795-27aac9cfd8d1\",\"type\":\"HelpTool\"},{\"attributes\":{\"line_alpha\":0.6,\"line_color\":\"#e41a1c\",\"line_dash\":[6],\"line_width\":5,\"x\":{\"field\":\"x\"},\"y\":{\"field\":\"y\"}},\"id\":\"66c35a0b-67a4-4025-bc54-ea8e6c781b40\",\"type\":\"Line\"},{\"attributes\":{\"items\":[{\"id\":\"61bf4ccd-da99-4d99-8888-a7a876349959\",\"type\":\"LegendItem\"},{\"id\":\"98e85d7a-af30-4221-a224-a675e32918fa\",\"type\":\"LegendItem\"}],\"label_text_font_size\":{\"value\":\"8pt\"},\"location\":\"top_center\",\"orientation\":\"horizontal\",\"plot\":{\"id\":\"86f60dd8-bc20-462d-aa9c-9dc4b449014f\",\"subtype\":\"Figure\",\"type\":\"Plot\"}},\"id\":\"6309ce67-d629-494c-a7f6-885e5dc43049\",\"type\":\"Legend\"},{\"attributes\":{\"data_source\":{\"id\":\"6eeb5df9-347b-47cd-99fd-812eea752b6a\",\"type\":\"ColumnDataSource\"},\"glyph\":{\"id\":\"448d69fd-1978-4a06-93d0-a72bb6f9d7d5\",\"type\":\"Line\"},\"hover_glyph\":null,\"muted_glyph\":null,\"nonselection_glyph\":{\"id\":\"b1c483d5-a1e6-48e3-b8a0-053dc3c6a72a\",\"type\":\"Line\"},\"selection_glyph\":null,\"view\":{\"id\":\"5e74d191-25cd-49f1-bc65-e1599dde3ad4\",\"type\":\"CDSView\"}},\"id\":\"17ce7328-39cc-4e32-989f-86344ec61857\",\"type\":\"GlyphRenderer\"},{\"attributes\":{\"source\":{\"id\":\"6eeb5df9-347b-47cd-99fd-812eea752b6a\",\"type\":\"ColumnDataSource\"}},\"id\":\"5e74d191-25cd-49f1-bc65-e1599dde3ad4\",\"type\":\"CDSView\"},{\"attributes\":{\"bottom_units\":\"screen\",\"fill_alpha\":{\"value\":0.5},\"fill_color\":{\"value\":\"lightgrey\"},\"left_units\":\"screen\",\"level\":\"overlay\",\"line_alpha\":{\"value\":1.0},\"line_color\":{\"value\":\"black\"},\"line_dash\":[4,4],\"line_width\":{\"value\":2},\"plot\":null,\"render_mode\":\"css\",\"right_units\":\"screen\",\"top_units\":\"screen\"},\"id\":\"62435003-3cd7-4fa8-bc3f-3dea33a8a100\",\"type\":\"BoxAnnotation\"},{\"attributes\":{\"above\":[{\"id\":\"96306f2a-0876-44ff-b6b5-d61179e3546e\",\"type\":\"Legend\"}],\"below\":[{\"id\":\"f644bcec-c7bd-4276-aebd-72cbcc142e75\",\"type\":\"LinearAxis\"}],\"left\":[{\"id\":\"882744ec-923c-4fd5-8fd1-30c212a4a9d3\",\"type\":\"LogAxis\"}],\"plot_width\":300,\"renderers\":[{\"id\":\"f644bcec-c7bd-4276-aebd-72cbcc142e75\",\"type\":\"LinearAxis\"},{\"id\":\"3ac41825-b6ad-4dcd-a51b-67353a04f020\",\"type\":\"Grid\"},{\"id\":\"882744ec-923c-4fd5-8fd1-30c212a4a9d3\",\"type\":\"LogAxis\"},{\"id\":\"4e55c825-ea53-48af-96ab-d42d38ade25c\",\"type\":\"Grid\"},{\"id\":\"18335428-8bee-432d-9d6a-aac18ec1f757\",\"type\":\"BoxAnnotation\"},{\"id\":\"e05843cd-86fe-420e-9714-8c796dc1f61e\",\"type\":\"GlyphRenderer\"},{\"id\":\"e8e7f267-a535-4f39-9e7e-220838e58c0b\",\"type\":\"GlyphRenderer\"},{\"id\":\"96306f2a-0876-44ff-b6b5-d61179e3546e\",\"type\":\"Legend\"}],\"title\":{\"id\":\"ac0d0376-4929-4d93-bf5d-583b96da87b0\",\"type\":\"Title\"},\"toolbar\":{\"id\":\"cd657fb3-b3e4-495b-9a06-a3db9cb02915\",\"type\":\"Toolbar\"},\"toolbar_location\":null,\"x_range\":{\"id\":\"b09be802-a5e4-40e9-98be-c418c3e807b9\",\"type\":\"Range1d\"},\"x_scale\":{\"id\":\"e93ce47a-b665-47e7-943a-d158966b958e\",\"type\":\"LinearScale\"},\"y_range\":{\"id\":\"eae80cd6-4895-4ba2-8822-a380c25e22f9\",\"type\":\"Range1d\"},\"y_scale\":{\"id\":\"9eabb12d-933d-46ec-a8a0-9c48355a4311\",\"type\":\"LogScale\"}},\"id\":\"7b967881-f7e3-4db5-aabe-c776fb7e7519\",\"subtype\":\"Figure\",\"type\":\"Plot\"}],\"root_ids\":[\"3b8712cd-09a1-4c6c-a82d-1e229a16d174\"]},\"title\":\"Bokeh Application\",\"version\":\"0.12.16\"}};\n",
       "  var render_items = [{\"docid\":\"62ed0874-6583-4a6d-9e33-009193808dfb\",\"elementid\":\"4270c2b8-732a-44be-ba31-27a4fcc348b9\",\"modelid\":\"3b8712cd-09a1-4c6c-a82d-1e229a16d174\"}];\n",
       "  root.Bokeh.embed.embed_items_notebook(docs_json, render_items);\n",
       "\n",
       "  }\n",
       "  if (root.Bokeh !== undefined) {\n",
       "    embed_document(root);\n",
       "  } else {\n",
       "    var attempts = 0;\n",
       "    var timer = setInterval(function(root) {\n",
       "      if (root.Bokeh !== undefined) {\n",
       "        embed_document(root);\n",
       "        clearInterval(timer);\n",
       "      }\n",
       "      attempts++;\n",
       "      if (attempts > 100) {\n",
       "        console.log(\"Bokeh: ERROR: Unable to run BokehJS code because BokehJS library is missing\")\n",
       "        clearInterval(timer);\n",
       "      }\n",
       "    }, 10, root)\n",
       "  }\n",
       "})(window);"
      ],
      "application/vnd.bokehjs_exec.v0+json": ""
     },
     "metadata": {
      "application/vnd.bokehjs_exec.v0+json": {
       "id": "3b8712cd-09a1-4c6c-a82d-1e229a16d174"
      }
     },
     "output_type": "display_data"
    },
    {
     "data": {
      "text/markdown": [
       "*FIGURE.* Cooling rates & difference."
      ],
      "text/plain": [
       "<IPython.core.display.Markdown object>"
      ]
     },
     "metadata": {},
     "output_type": "display_data"
    },
    {
     "data": {
      "text/html": [
       "<a id=\"Fluxes._saw.\"></a>"
      ],
      "text/plain": [
       "<IPython.core.display.HTML object>"
      ]
     },
     "metadata": {},
     "output_type": "display_data"
    },
    {
     "data": {
      "text/markdown": [
       "# Fluxes. saw."
      ],
      "text/plain": [
       "<IPython.core.display.Markdown object>"
      ]
     },
     "metadata": {},
     "output_type": "display_data"
    },
    {
     "data": {
      "text/html": [
       "\n",
       "<div class=\"bk-root\">\n",
       "    <div class=\"bk-plotdiv\" id=\"358f9248-d742-4c95-90cd-60f845b942f9\"></div>\n",
       "</div>"
      ]
     },
     "metadata": {},
     "output_type": "display_data"
    },
    {
     "data": {
      "application/javascript": [
       "(function(root) {\n",
       "  function embed_document(root) {\n",
       "    \n",
       "  var docs_json = {\"9d6db462-f5d5-494d-a976-963f681feb58\":{\"roots\":{\"references\":[{\"attributes\":{},\"id\":\"770b3e8e-49b4-4cfa-ae73-af380ff142c3\",\"type\":\"SaveTool\"},{\"attributes\":{},\"id\":\"768e7132-18d9-43db-b0e1-fa29c8116c98\",\"type\":\"LinearScale\"},{\"attributes\":{},\"id\":\"53dafba6-ea50-450e-b900-b4d6cfcfd1a8\",\"type\":\"CategoricalScale\"},{\"attributes\":{\"plot\":null,\"text\":\"SFC flux. CLIRAD - CRD.\"},\"id\":\"d34abe98-9cc7-41e6-b6ab-d5ed73cfb622\",\"type\":\"Title\"},{\"attributes\":{\"plot\":{\"id\":\"7a9d5bba-9d9a-4197-a15d-d51aa73ebf0b\",\"subtype\":\"Figure\",\"type\":\"Plot\"},\"ticker\":{\"id\":\"7957406c-b427-4510-9dda-b24717f4f51a\",\"type\":\"CategoricalTicker\"}},\"id\":\"9116b3b9-38f4-4556-94b7-04af65a405dd\",\"type\":\"Grid\"},{\"attributes\":{\"plot\":null,\"text\":\"Atmosphere heating. CLIRAD - CRD.\"},\"id\":\"d573c704-8880-4e63-96a1-2a651ef4d1ca\",\"type\":\"Title\"},{\"attributes\":{\"dimension\":1,\"plot\":{\"id\":\"c002ad11-9804-475e-9863-ec56ddfde389\",\"subtype\":\"Figure\",\"type\":\"Plot\"},\"ticker\":{\"id\":\"098ef9c1-fe86-4c82-8fb6-19e56a48ad32\",\"type\":\"BasicTicker\"}},\"id\":\"4d3857de-34cb-4eb2-9ba4-7ea62e41b772\",\"type\":\"Grid\"},{\"attributes\":{},\"id\":\"3ba4c27f-0a7b-4d26-b707-fea85ed47a29\",\"type\":\"LinearScale\"},{\"attributes\":{\"overlay\":{\"id\":\"22824f49-7046-41be-b6e5-dec2b01dd89e\",\"type\":\"BoxAnnotation\"}},\"id\":\"37598533-9af4-4a9b-82b1-9a3ae122f910\",\"type\":\"BoxZoomTool\"},{\"attributes\":{},\"id\":\"098ef9c1-fe86-4c82-8fb6-19e56a48ad32\",\"type\":\"BasicTicker\"},{\"attributes\":{\"callback\":null,\"data\":{\"band\":[\"9\"],\"flux\":{\"__ndarray__\":\"ADhi1z1Mr78=\",\"dtype\":\"float64\",\"shape\":[1]}},\"selected\":{\"id\":\"2805b95b-8986-4596-bd83-2d4588653ce4\",\"type\":\"Selection\"},\"selection_policy\":{\"id\":\"86d16eaf-9e0b-4f87-9471-849133d6ae94\",\"type\":\"UnionRenderers\"}},\"id\":\"f8358a47-e431-4c74-8132-e4cd818e8eee\",\"type\":\"ColumnDataSource\"},{\"attributes\":{},\"id\":\"af5ce367-d3a0-4882-814c-9e7e6a0bf627\",\"type\":\"ResetTool\"},{\"attributes\":{\"fill_alpha\":{\"value\":0.1},\"fill_color\":{\"value\":\"#1f77b4\"},\"line_alpha\":{\"value\":0.1},\"line_color\":{\"value\":\"#1f77b4\"},\"top\":{\"field\":\"flux\"},\"width\":{\"value\":0.9},\"x\":{\"field\":\"band\"}},\"id\":\"27564a8e-d536-4b10-85ac-f118d14a06e0\",\"type\":\"VBar\"},{\"attributes\":{\"source\":{\"id\":\"8cd3f587-c3ef-405a-832d-d0b63039563e\",\"type\":\"ColumnDataSource\"}},\"id\":\"783ade34-5bd6-4863-89ce-69e3093e8564\",\"type\":\"CDSView\"},{\"attributes\":{},\"id\":\"c3884b59-a220-4d0a-ae52-4c62d00f0f20\",\"type\":\"WheelZoomTool\"},{\"attributes\":{},\"id\":\"fffb9d6b-4fa4-4e4d-8270-9cf9a7ea00d5\",\"type\":\"CategoricalScale\"},{\"attributes\":{},\"id\":\"5f99eeba-5eed-4218-a056-fc541e504edd\",\"type\":\"LinearScale\"},{\"attributes\":{\"callback\":null},\"id\":\"4d8d4fb9-aa6d-4199-831c-1cbc2110a720\",\"type\":\"DataRange1d\"},{\"attributes\":{\"plot\":{\"id\":\"c002ad11-9804-475e-9863-ec56ddfde389\",\"subtype\":\"Figure\",\"type\":\"Plot\"},\"ticker\":{\"id\":\"f3832017-1924-49b0-8590-9f0c0ef48d59\",\"type\":\"CategoricalTicker\"}},\"id\":\"ebb34198-1d7a-430a-9730-43086453ac82\",\"type\":\"Grid\"},{\"attributes\":{\"data_source\":{\"id\":\"8cd3f587-c3ef-405a-832d-d0b63039563e\",\"type\":\"ColumnDataSource\"},\"glyph\":{\"id\":\"8f371bf0-f076-4de9-8ab7-1f9ff2387e26\",\"type\":\"VBar\"},\"hover_glyph\":null,\"muted_glyph\":null,\"nonselection_glyph\":{\"id\":\"1672ba5a-d84d-45e3-b3ea-227ce7128818\",\"type\":\"VBar\"},\"selection_glyph\":null,\"view\":{\"id\":\"783ade34-5bd6-4863-89ce-69e3093e8564\",\"type\":\"CDSView\"}},\"id\":\"01cac160-5f25-4757-b55b-5cd072754382\",\"type\":\"GlyphRenderer\"},{\"attributes\":{},\"id\":\"e6006a02-2c7b-4866-8d7c-e0812a6052b2\",\"type\":\"PanTool\"},{\"attributes\":{\"axis_label\":\"spectral band\",\"formatter\":{\"id\":\"0450e9a4-0c72-47c2-b29c-70e5bed34750\",\"type\":\"CategoricalTickFormatter\"},\"plot\":{\"id\":\"c002ad11-9804-475e-9863-ec56ddfde389\",\"subtype\":\"Figure\",\"type\":\"Plot\"},\"ticker\":{\"id\":\"f3832017-1924-49b0-8590-9f0c0ef48d59\",\"type\":\"CategoricalTicker\"}},\"id\":\"aed36799-cd3d-44e7-9ab3-70c2920e5d19\",\"type\":\"CategoricalAxis\"},{\"attributes\":{\"bottom_units\":\"screen\",\"fill_alpha\":{\"value\":0.5},\"fill_color\":{\"value\":\"lightgrey\"},\"left_units\":\"screen\",\"level\":\"overlay\",\"line_alpha\":{\"value\":1.0},\"line_color\":{\"value\":\"black\"},\"line_dash\":[4,4],\"line_width\":{\"value\":2},\"plot\":null,\"render_mode\":\"css\",\"right_units\":\"screen\",\"top_units\":\"screen\"},\"id\":\"22824f49-7046-41be-b6e5-dec2b01dd89e\",\"type\":\"BoxAnnotation\"},{\"attributes\":{\"children\":[{\"id\":\"33282b95-3929-4e6e-8253-015748aae6bc\",\"subtype\":\"Figure\",\"type\":\"Plot\"},{\"id\":\"c002ad11-9804-475e-9863-ec56ddfde389\",\"subtype\":\"Figure\",\"type\":\"Plot\"},{\"id\":\"7a9d5bba-9d9a-4197-a15d-d51aa73ebf0b\",\"subtype\":\"Figure\",\"type\":\"Plot\"}]},\"id\":\"349d7152-7a74-47c8-a339-be8e5594d492\",\"type\":\"Row\"},{\"attributes\":{},\"id\":\"f3832017-1924-49b0-8590-9f0c0ef48d59\",\"type\":\"CategoricalTicker\"},{\"attributes\":{\"fill_color\":{\"value\":\"#1f77b4\"},\"line_color\":{\"value\":\"#1f77b4\"},\"top\":{\"field\":\"flux\"},\"width\":{\"value\":0.9},\"x\":{\"field\":\"band\"}},\"id\":\"8f371bf0-f076-4de9-8ab7-1f9ff2387e26\",\"type\":\"VBar\"},{\"attributes\":{\"axis_label\":\"flux (W m-2)\",\"formatter\":{\"id\":\"62fece7e-81ee-44b4-8fa8-40f35e365715\",\"type\":\"BasicTickFormatter\"},\"plot\":{\"id\":\"c002ad11-9804-475e-9863-ec56ddfde389\",\"subtype\":\"Figure\",\"type\":\"Plot\"},\"ticker\":{\"id\":\"098ef9c1-fe86-4c82-8fb6-19e56a48ad32\",\"type\":\"BasicTicker\"}},\"id\":\"0e7e58ba-9b91-41f2-87a8-b27502135757\",\"type\":\"LinearAxis\"},{\"attributes\":{},\"id\":\"20c5c020-fe1b-4618-9b51-01fcacb372db\",\"type\":\"CategoricalTickFormatter\"},{\"attributes\":{\"callback\":null},\"id\":\"134d7324-6703-4151-8df0-16bb5e631dca\",\"type\":\"DataRange1d\"},{\"attributes\":{\"dimension\":1,\"plot\":{\"id\":\"7a9d5bba-9d9a-4197-a15d-d51aa73ebf0b\",\"subtype\":\"Figure\",\"type\":\"Plot\"},\"ticker\":{\"id\":\"864f8f7e-51e5-4aab-add9-7d0dc06eecf7\",\"type\":\"BasicTicker\"}},\"id\":\"63921b06-a891-413f-9189-c20a0229c04e\",\"type\":\"Grid\"},{\"attributes\":{\"below\":[{\"id\":\"7baa7ca1-50f1-49a2-af07-08ddea7f8a52\",\"type\":\"CategoricalAxis\"}],\"left\":[{\"id\":\"9656d848-22b8-4d84-95c8-d6dc61d76862\",\"type\":\"LinearAxis\"}],\"plot_height\":300,\"plot_width\":300,\"renderers\":[{\"id\":\"7baa7ca1-50f1-49a2-af07-08ddea7f8a52\",\"type\":\"CategoricalAxis\"},{\"id\":\"c3529379-a466-4921-9a1b-91dc9a1b7f19\",\"type\":\"Grid\"},{\"id\":\"9656d848-22b8-4d84-95c8-d6dc61d76862\",\"type\":\"LinearAxis\"},{\"id\":\"a83918de-e9c2-4b74-9d8d-36465df79c2e\",\"type\":\"Grid\"},{\"id\":\"2731a5ea-d654-45ae-885e-bbb1b2c635da\",\"type\":\"BoxAnnotation\"},{\"id\":\"0db86f36-b8d5-48e8-a1c9-dc33fd5e128e\",\"type\":\"GlyphRenderer\"}],\"title\":{\"id\":\"3a5c1301-cb50-48da-b725-5eb63f396ff1\",\"type\":\"Title\"},\"toolbar\":{\"id\":\"7fc0dcdc-e8ae-4c55-9ff6-cec75dccc34e\",\"type\":\"Toolbar\"},\"toolbar_location\":null,\"x_range\":{\"id\":\"64a6e87f-f30b-42d5-b2a0-6580edc1ceb3\",\"type\":\"FactorRange\"},\"x_scale\":{\"id\":\"fffb9d6b-4fa4-4e4d-8270-9cf9a7ea00d5\",\"type\":\"CategoricalScale\"},\"y_range\":{\"id\":\"4d8d4fb9-aa6d-4199-831c-1cbc2110a720\",\"type\":\"DataRange1d\"},\"y_scale\":{\"id\":\"768e7132-18d9-43db-b0e1-fa29c8116c98\",\"type\":\"LinearScale\"}},\"id\":\"33282b95-3929-4e6e-8253-015748aae6bc\",\"subtype\":\"Figure\",\"type\":\"Plot\"},{\"attributes\":{\"fill_color\":{\"value\":\"#1f77b4\"},\"line_color\":{\"value\":\"#1f77b4\"},\"top\":{\"field\":\"flux\"},\"width\":{\"value\":0.9},\"x\":{\"field\":\"band\"}},\"id\":\"62e0d512-9d58-453c-81e9-8d1d0a05f7fd\",\"type\":\"VBar\"},{\"attributes\":{},\"id\":\"864f8f7e-51e5-4aab-add9-7d0dc06eecf7\",\"type\":\"BasicTicker\"},{\"attributes\":{},\"id\":\"7957406c-b427-4510-9dda-b24717f4f51a\",\"type\":\"CategoricalTicker\"},{\"attributes\":{\"bottom_units\":\"screen\",\"fill_alpha\":{\"value\":0.5},\"fill_color\":{\"value\":\"lightgrey\"},\"left_units\":\"screen\",\"level\":\"overlay\",\"line_alpha\":{\"value\":1.0},\"line_color\":{\"value\":\"black\"},\"line_dash\":[4,4],\"line_width\":{\"value\":2},\"plot\":null,\"render_mode\":\"css\",\"right_units\":\"screen\",\"top_units\":\"screen\"},\"id\":\"c96eb09b-7fe7-465b-a2ec-79e07316fc8e\",\"type\":\"BoxAnnotation\"},{\"attributes\":{\"callback\":null,\"factors\":[\"9\"]},\"id\":\"9caa74a7-7b86-4448-a432-9ff2cabd76f1\",\"type\":\"FactorRange\"},{\"attributes\":{},\"id\":\"e20acf9f-3169-483b-9275-65440dcda3bd\",\"type\":\"PanTool\"},{\"attributes\":{\"data_source\":{\"id\":\"f8358a47-e431-4c74-8132-e4cd818e8eee\",\"type\":\"ColumnDataSource\"},\"glyph\":{\"id\":\"62e0d512-9d58-453c-81e9-8d1d0a05f7fd\",\"type\":\"VBar\"},\"hover_glyph\":null,\"muted_glyph\":null,\"nonselection_glyph\":{\"id\":\"27564a8e-d536-4b10-85ac-f118d14a06e0\",\"type\":\"VBar\"},\"selection_glyph\":null,\"view\":{\"id\":\"71ef1ce9-68a0-4752-9445-3bf5ae4d5d37\",\"type\":\"CDSView\"}},\"id\":\"3fb81c22-7375-414b-989d-f8baad50028b\",\"type\":\"GlyphRenderer\"},{\"attributes\":{\"fill_alpha\":{\"value\":0.1},\"fill_color\":{\"value\":\"#1f77b4\"},\"line_alpha\":{\"value\":0.1},\"line_color\":{\"value\":\"#1f77b4\"},\"top\":{\"field\":\"flux\"},\"width\":{\"value\":0.9},\"x\":{\"field\":\"band\"}},\"id\":\"1672ba5a-d84d-45e3-b3ea-227ce7128818\",\"type\":\"VBar\"},{\"attributes\":{},\"id\":\"0f68f2d1-625c-46b9-b0ec-9d013d693dc1\",\"type\":\"WheelZoomTool\"},{\"attributes\":{\"plot\":{\"id\":\"33282b95-3929-4e6e-8253-015748aae6bc\",\"subtype\":\"Figure\",\"type\":\"Plot\"},\"ticker\":{\"id\":\"4928adff-12e5-46dd-926d-e7c8e0e9b909\",\"type\":\"CategoricalTicker\"}},\"id\":\"c3529379-a466-4921-9a1b-91dc9a1b7f19\",\"type\":\"Grid\"},{\"attributes\":{\"overlay\":{\"id\":\"c96eb09b-7fe7-465b-a2ec-79e07316fc8e\",\"type\":\"BoxAnnotation\"}},\"id\":\"d5aec712-60dd-41dc-9c6f-7f1b5c955bd4\",\"type\":\"BoxZoomTool\"},{\"attributes\":{\"axis_label\":\"flux (W m-2)\",\"formatter\":{\"id\":\"52aa40ba-93ca-442c-960f-05a42762399c\",\"type\":\"BasicTickFormatter\"},\"plot\":{\"id\":\"7a9d5bba-9d9a-4197-a15d-d51aa73ebf0b\",\"subtype\":\"Figure\",\"type\":\"Plot\"},\"ticker\":{\"id\":\"864f8f7e-51e5-4aab-add9-7d0dc06eecf7\",\"type\":\"BasicTicker\"}},\"id\":\"cf533ef2-fd12-4605-91a6-fe4d199eba8b\",\"type\":\"LinearAxis\"},{\"attributes\":{},\"id\":\"8b6660d9-af8a-4e47-84ff-495a9225ce40\",\"type\":\"SaveTool\"},{\"attributes\":{},\"id\":\"84cd31f1-88e4-4c69-9ffb-7c9d7e53f90a\",\"type\":\"ResetTool\"},{\"attributes\":{},\"id\":\"f9b2c359-1701-41bb-8c73-2c81ec7b310f\",\"type\":\"HelpTool\"},{\"attributes\":{},\"id\":\"ac14fdd2-e558-4a57-9a92-fb0457b787a7\",\"type\":\"HelpTool\"},{\"attributes\":{\"axis_label\":\"spectral band\",\"formatter\":{\"id\":\"5139feea-5e72-41d4-9d52-aa782eecbbbc\",\"type\":\"CategoricalTickFormatter\"},\"plot\":{\"id\":\"7a9d5bba-9d9a-4197-a15d-d51aa73ebf0b\",\"subtype\":\"Figure\",\"type\":\"Plot\"},\"ticker\":{\"id\":\"7957406c-b427-4510-9dda-b24717f4f51a\",\"type\":\"CategoricalTicker\"}},\"id\":\"ae1f15f8-d1ea-453d-bd2a-eeacf91f0492\",\"type\":\"CategoricalAxis\"},{\"attributes\":{\"active_drag\":\"auto\",\"active_inspect\":\"auto\",\"active_scroll\":\"auto\",\"active_tap\":\"auto\",\"tools\":[{\"id\":\"144239d8-7e8a-4340-bf2b-db36cd161730\",\"type\":\"PanTool\"},{\"id\":\"2829ebd1-ccba-405d-9d49-47e1ef31a943\",\"type\":\"WheelZoomTool\"},{\"id\":\"45f65055-6a3e-4e6f-bd49-e9bb828217e4\",\"type\":\"BoxZoomTool\"},{\"id\":\"b72cd92f-0602-4e09-93d8-87692fd2ce3c\",\"type\":\"SaveTool\"},{\"id\":\"cb701e33-75c6-43d8-b520-8c4645c3eeff\",\"type\":\"ResetTool\"},{\"id\":\"1e8c4970-c3e1-42c9-923f-e27147fe7cf5\",\"type\":\"HelpTool\"}]},\"id\":\"7fc0dcdc-e8ae-4c55-9ff6-cec75dccc34e\",\"type\":\"Toolbar\"},{\"attributes\":{},\"id\":\"5595746f-c30b-43a2-8611-11e8f158227e\",\"type\":\"BasicTickFormatter\"},{\"attributes\":{\"axis_label\":\"flux (W m-2)\",\"formatter\":{\"id\":\"5595746f-c30b-43a2-8611-11e8f158227e\",\"type\":\"BasicTickFormatter\"},\"plot\":{\"id\":\"33282b95-3929-4e6e-8253-015748aae6bc\",\"subtype\":\"Figure\",\"type\":\"Plot\"},\"ticker\":{\"id\":\"73966baa-71c4-4de9-a699-e8db0d43f075\",\"type\":\"BasicTicker\"}},\"id\":\"9656d848-22b8-4d84-95c8-d6dc61d76862\",\"type\":\"LinearAxis\"},{\"attributes\":{},\"id\":\"de5d1777-e3ae-4d21-82f9-1478f5262f72\",\"type\":\"UnionRenderers\"},{\"attributes\":{\"source\":{\"id\":\"f8358a47-e431-4c74-8132-e4cd818e8eee\",\"type\":\"ColumnDataSource\"}},\"id\":\"71ef1ce9-68a0-4752-9445-3bf5ae4d5d37\",\"type\":\"CDSView\"},{\"attributes\":{\"plot\":null,\"text\":\"TOA flux. CLIRAD - CRD.\"},\"id\":\"3a5c1301-cb50-48da-b725-5eb63f396ff1\",\"type\":\"Title\"},{\"attributes\":{\"children\":[{\"id\":\"349d7152-7a74-47c8-a339-be8e5594d492\",\"type\":\"Row\"}]},\"id\":\"f9f20efb-7d82-4a7b-960f-5cb4ac14c180\",\"type\":\"Column\"},{\"attributes\":{},\"id\":\"62fece7e-81ee-44b4-8fa8-40f35e365715\",\"type\":\"BasicTickFormatter\"},{\"attributes\":{\"axis_label\":\"spectral band\",\"formatter\":{\"id\":\"20c5c020-fe1b-4618-9b51-01fcacb372db\",\"type\":\"CategoricalTickFormatter\"},\"plot\":{\"id\":\"33282b95-3929-4e6e-8253-015748aae6bc\",\"subtype\":\"Figure\",\"type\":\"Plot\"},\"ticker\":{\"id\":\"4928adff-12e5-46dd-926d-e7c8e0e9b909\",\"type\":\"CategoricalTicker\"}},\"id\":\"7baa7ca1-50f1-49a2-af07-08ddea7f8a52\",\"type\":\"CategoricalAxis\"},{\"attributes\":{},\"id\":\"4928adff-12e5-46dd-926d-e7c8e0e9b909\",\"type\":\"CategoricalTicker\"},{\"attributes\":{},\"id\":\"a35d4126-8d2e-4286-8c45-e4197628e9bb\",\"type\":\"Selection\"},{\"attributes\":{\"fill_color\":{\"value\":\"#1f77b4\"},\"line_color\":{\"value\":\"#1f77b4\"},\"top\":{\"field\":\"flux\"},\"width\":{\"value\":0.9},\"x\":{\"field\":\"band\"}},\"id\":\"3454ff52-6eb9-4478-b447-f21f8ba6f15b\",\"type\":\"VBar\"},{\"attributes\":{},\"id\":\"79966bd0-1949-47ea-81b9-72c5d8182fb9\",\"type\":\"UnionRenderers\"},{\"attributes\":{\"toolbar\":{\"id\":\"91ce36d5-bf1f-4136-9ec1-4b056164d337\",\"type\":\"ProxyToolbar\"},\"toolbar_location\":\"above\"},\"id\":\"24dbe8c1-5b6a-4413-ab30-567cd8e66ac1\",\"type\":\"ToolbarBox\"},{\"attributes\":{},\"id\":\"73966baa-71c4-4de9-a699-e8db0d43f075\",\"type\":\"BasicTicker\"},{\"attributes\":{\"dimension\":1,\"plot\":{\"id\":\"33282b95-3929-4e6e-8253-015748aae6bc\",\"subtype\":\"Figure\",\"type\":\"Plot\"},\"ticker\":{\"id\":\"73966baa-71c4-4de9-a699-e8db0d43f075\",\"type\":\"BasicTicker\"}},\"id\":\"a83918de-e9c2-4b74-9d8d-36465df79c2e\",\"type\":\"Grid\"},{\"attributes\":{},\"id\":\"52aa40ba-93ca-442c-960f-05a42762399c\",\"type\":\"BasicTickFormatter\"},{\"attributes\":{\"fill_alpha\":{\"value\":0.1},\"fill_color\":{\"value\":\"#1f77b4\"},\"line_alpha\":{\"value\":0.1},\"line_color\":{\"value\":\"#1f77b4\"},\"top\":{\"field\":\"flux\"},\"width\":{\"value\":0.9},\"x\":{\"field\":\"band\"}},\"id\":\"4ab1f478-e488-4de6-82c3-28aaf5361bb5\",\"type\":\"VBar\"},{\"attributes\":{},\"id\":\"86d16eaf-9e0b-4f87-9471-849133d6ae94\",\"type\":\"UnionRenderers\"},{\"attributes\":{\"callback\":null,\"data\":{\"band\":[\"9\"],\"flux\":{\"__ndarray__\":\"AHC9K/cMfT8=\",\"dtype\":\"float64\",\"shape\":[1]}},\"selected\":{\"id\":\"a35d4126-8d2e-4286-8c45-e4197628e9bb\",\"type\":\"Selection\"},\"selection_policy\":{\"id\":\"de5d1777-e3ae-4d21-82f9-1478f5262f72\",\"type\":\"UnionRenderers\"}},\"id\":\"32ac7f5a-042f-4961-8106-8a194b4bda49\",\"type\":\"ColumnDataSource\"},{\"attributes\":{},\"id\":\"5139feea-5e72-41d4-9d52-aa782eecbbbc\",\"type\":\"CategoricalTickFormatter\"},{\"attributes\":{\"bottom_units\":\"screen\",\"fill_alpha\":{\"value\":0.5},\"fill_color\":{\"value\":\"lightgrey\"},\"left_units\":\"screen\",\"level\":\"overlay\",\"line_alpha\":{\"value\":1.0},\"line_color\":{\"value\":\"black\"},\"line_dash\":[4,4],\"line_width\":{\"value\":2},\"plot\":null,\"render_mode\":\"css\",\"right_units\":\"screen\",\"top_units\":\"screen\"},\"id\":\"2731a5ea-d654-45ae-885e-bbb1b2c635da\",\"type\":\"BoxAnnotation\"},{\"attributes\":{},\"id\":\"0450e9a4-0c72-47c2-b29c-70e5bed34750\",\"type\":\"CategoricalTickFormatter\"},{\"attributes\":{},\"id\":\"144239d8-7e8a-4340-bf2b-db36cd161730\",\"type\":\"PanTool\"},{\"attributes\":{},\"id\":\"2805b95b-8986-4596-bd83-2d4588653ce4\",\"type\":\"Selection\"},{\"attributes\":{\"data_source\":{\"id\":\"32ac7f5a-042f-4961-8106-8a194b4bda49\",\"type\":\"ColumnDataSource\"},\"glyph\":{\"id\":\"3454ff52-6eb9-4478-b447-f21f8ba6f15b\",\"type\":\"VBar\"},\"hover_glyph\":null,\"muted_glyph\":null,\"nonselection_glyph\":{\"id\":\"4ab1f478-e488-4de6-82c3-28aaf5361bb5\",\"type\":\"VBar\"},\"selection_glyph\":null,\"view\":{\"id\":\"3bb64dc2-201f-441b-a1ef-e4e73bcfbbe9\",\"type\":\"CDSView\"}},\"id\":\"0db86f36-b8d5-48e8-a1c9-dc33fd5e128e\",\"type\":\"GlyphRenderer\"},{\"attributes\":{\"tools\":[{\"id\":\"144239d8-7e8a-4340-bf2b-db36cd161730\",\"type\":\"PanTool\"},{\"id\":\"2829ebd1-ccba-405d-9d49-47e1ef31a943\",\"type\":\"WheelZoomTool\"},{\"id\":\"45f65055-6a3e-4e6f-bd49-e9bb828217e4\",\"type\":\"BoxZoomTool\"},{\"id\":\"b72cd92f-0602-4e09-93d8-87692fd2ce3c\",\"type\":\"SaveTool\"},{\"id\":\"cb701e33-75c6-43d8-b520-8c4645c3eeff\",\"type\":\"ResetTool\"},{\"id\":\"1e8c4970-c3e1-42c9-923f-e27147fe7cf5\",\"type\":\"HelpTool\"},{\"id\":\"e20acf9f-3169-483b-9275-65440dcda3bd\",\"type\":\"PanTool\"},{\"id\":\"0f68f2d1-625c-46b9-b0ec-9d013d693dc1\",\"type\":\"WheelZoomTool\"},{\"id\":\"d5aec712-60dd-41dc-9c6f-7f1b5c955bd4\",\"type\":\"BoxZoomTool\"},{\"id\":\"8b6660d9-af8a-4e47-84ff-495a9225ce40\",\"type\":\"SaveTool\"},{\"id\":\"84cd31f1-88e4-4c69-9ffb-7c9d7e53f90a\",\"type\":\"ResetTool\"},{\"id\":\"ac14fdd2-e558-4a57-9a92-fb0457b787a7\",\"type\":\"HelpTool\"},{\"id\":\"e6006a02-2c7b-4866-8d7c-e0812a6052b2\",\"type\":\"PanTool\"},{\"id\":\"c3884b59-a220-4d0a-ae52-4c62d00f0f20\",\"type\":\"WheelZoomTool\"},{\"id\":\"37598533-9af4-4a9b-82b1-9a3ae122f910\",\"type\":\"BoxZoomTool\"},{\"id\":\"770b3e8e-49b4-4cfa-ae73-af380ff142c3\",\"type\":\"SaveTool\"},{\"id\":\"af5ce367-d3a0-4882-814c-9e7e6a0bf627\",\"type\":\"ResetTool\"},{\"id\":\"f9b2c359-1701-41bb-8c73-2c81ec7b310f\",\"type\":\"HelpTool\"}]},\"id\":\"91ce36d5-bf1f-4136-9ec1-4b056164d337\",\"type\":\"ProxyToolbar\"},{\"attributes\":{},\"id\":\"2829ebd1-ccba-405d-9d49-47e1ef31a943\",\"type\":\"WheelZoomTool\"},{\"attributes\":{},\"id\":\"547085ed-37c3-4db0-b188-f22b09f7de0e\",\"type\":\"CategoricalScale\"},{\"attributes\":{\"children\":[{\"id\":\"24dbe8c1-5b6a-4413-ab30-567cd8e66ac1\",\"type\":\"ToolbarBox\"},{\"id\":\"f9f20efb-7d82-4a7b-960f-5cb4ac14c180\",\"type\":\"Column\"}]},\"id\":\"cc3084a7-bffe-40d3-baa0-0bee467a488e\",\"type\":\"Column\"},{\"attributes\":{\"overlay\":{\"id\":\"2731a5ea-d654-45ae-885e-bbb1b2c635da\",\"type\":\"BoxAnnotation\"}},\"id\":\"45f65055-6a3e-4e6f-bd49-e9bb828217e4\",\"type\":\"BoxZoomTool\"},{\"attributes\":{},\"id\":\"b72cd92f-0602-4e09-93d8-87692fd2ce3c\",\"type\":\"SaveTool\"},{\"attributes\":{},\"id\":\"cb701e33-75c6-43d8-b520-8c4645c3eeff\",\"type\":\"ResetTool\"},{\"attributes\":{},\"id\":\"1e8c4970-c3e1-42c9-923f-e27147fe7cf5\",\"type\":\"HelpTool\"},{\"attributes\":{\"callback\":null,\"factors\":[\"9\"]},\"id\":\"a920443d-23b5-4d22-881f-e72829475534\",\"type\":\"FactorRange\"},{\"attributes\":{\"source\":{\"id\":\"32ac7f5a-042f-4961-8106-8a194b4bda49\",\"type\":\"ColumnDataSource\"}},\"id\":\"3bb64dc2-201f-441b-a1ef-e4e73bcfbbe9\",\"type\":\"CDSView\"},{\"attributes\":{\"below\":[{\"id\":\"ae1f15f8-d1ea-453d-bd2a-eeacf91f0492\",\"type\":\"CategoricalAxis\"}],\"left\":[{\"id\":\"cf533ef2-fd12-4605-91a6-fe4d199eba8b\",\"type\":\"LinearAxis\"}],\"plot_height\":300,\"plot_width\":300,\"renderers\":[{\"id\":\"ae1f15f8-d1ea-453d-bd2a-eeacf91f0492\",\"type\":\"CategoricalAxis\"},{\"id\":\"9116b3b9-38f4-4556-94b7-04af65a405dd\",\"type\":\"Grid\"},{\"id\":\"cf533ef2-fd12-4605-91a6-fe4d199eba8b\",\"type\":\"LinearAxis\"},{\"id\":\"63921b06-a891-413f-9189-c20a0229c04e\",\"type\":\"Grid\"},{\"id\":\"22824f49-7046-41be-b6e5-dec2b01dd89e\",\"type\":\"BoxAnnotation\"},{\"id\":\"01cac160-5f25-4757-b55b-5cd072754382\",\"type\":\"GlyphRenderer\"}],\"title\":{\"id\":\"d573c704-8880-4e63-96a1-2a651ef4d1ca\",\"type\":\"Title\"},\"toolbar\":{\"id\":\"e5790d64-2ec3-494f-b536-bc704c88aba9\",\"type\":\"Toolbar\"},\"toolbar_location\":null,\"x_range\":{\"id\":\"a920443d-23b5-4d22-881f-e72829475534\",\"type\":\"FactorRange\"},\"x_scale\":{\"id\":\"547085ed-37c3-4db0-b188-f22b09f7de0e\",\"type\":\"CategoricalScale\"},\"y_range\":{\"id\":\"86663bd2-242e-4ad8-ba42-3e503d5537d5\",\"type\":\"DataRange1d\"},\"y_scale\":{\"id\":\"3ba4c27f-0a7b-4d26-b707-fea85ed47a29\",\"type\":\"LinearScale\"}},\"id\":\"7a9d5bba-9d9a-4197-a15d-d51aa73ebf0b\",\"subtype\":\"Figure\",\"type\":\"Plot\"},{\"attributes\":{\"active_drag\":\"auto\",\"active_inspect\":\"auto\",\"active_scroll\":\"auto\",\"active_tap\":\"auto\",\"tools\":[{\"id\":\"e6006a02-2c7b-4866-8d7c-e0812a6052b2\",\"type\":\"PanTool\"},{\"id\":\"c3884b59-a220-4d0a-ae52-4c62d00f0f20\",\"type\":\"WheelZoomTool\"},{\"id\":\"37598533-9af4-4a9b-82b1-9a3ae122f910\",\"type\":\"BoxZoomTool\"},{\"id\":\"770b3e8e-49b4-4cfa-ae73-af380ff142c3\",\"type\":\"SaveTool\"},{\"id\":\"af5ce367-d3a0-4882-814c-9e7e6a0bf627\",\"type\":\"ResetTool\"},{\"id\":\"f9b2c359-1701-41bb-8c73-2c81ec7b310f\",\"type\":\"HelpTool\"}]},\"id\":\"e5790d64-2ec3-494f-b536-bc704c88aba9\",\"type\":\"Toolbar\"},{\"attributes\":{\"callback\":null,\"data\":{\"band\":[\"9\"],\"flux\":{\"__ndarray__\":\"AFRN0Ot2sT8=\",\"dtype\":\"float64\",\"shape\":[1]}},\"selected\":{\"id\":\"b9f577b7-08bc-4925-ae20-b3284fedcd2c\",\"type\":\"Selection\"},\"selection_policy\":{\"id\":\"79966bd0-1949-47ea-81b9-72c5d8182fb9\",\"type\":\"UnionRenderers\"}},\"id\":\"8cd3f587-c3ef-405a-832d-d0b63039563e\",\"type\":\"ColumnDataSource\"},{\"attributes\":{\"callback\":null,\"factors\":[\"9\"]},\"id\":\"64a6e87f-f30b-42d5-b2a0-6580edc1ceb3\",\"type\":\"FactorRange\"},{\"attributes\":{\"below\":[{\"id\":\"aed36799-cd3d-44e7-9ab3-70c2920e5d19\",\"type\":\"CategoricalAxis\"}],\"left\":[{\"id\":\"0e7e58ba-9b91-41f2-87a8-b27502135757\",\"type\":\"LinearAxis\"}],\"plot_height\":300,\"plot_width\":300,\"renderers\":[{\"id\":\"aed36799-cd3d-44e7-9ab3-70c2920e5d19\",\"type\":\"CategoricalAxis\"},{\"id\":\"ebb34198-1d7a-430a-9730-43086453ac82\",\"type\":\"Grid\"},{\"id\":\"0e7e58ba-9b91-41f2-87a8-b27502135757\",\"type\":\"LinearAxis\"},{\"id\":\"4d3857de-34cb-4eb2-9ba4-7ea62e41b772\",\"type\":\"Grid\"},{\"id\":\"c96eb09b-7fe7-465b-a2ec-79e07316fc8e\",\"type\":\"BoxAnnotation\"},{\"id\":\"3fb81c22-7375-414b-989d-f8baad50028b\",\"type\":\"GlyphRenderer\"}],\"title\":{\"id\":\"d34abe98-9cc7-41e6-b6ab-d5ed73cfb622\",\"type\":\"Title\"},\"toolbar\":{\"id\":\"68abaf11-50ad-4ea5-8e0b-f75f0ff95675\",\"type\":\"Toolbar\"},\"toolbar_location\":null,\"x_range\":{\"id\":\"9caa74a7-7b86-4448-a432-9ff2cabd76f1\",\"type\":\"FactorRange\"},\"x_scale\":{\"id\":\"53dafba6-ea50-450e-b900-b4d6cfcfd1a8\",\"type\":\"CategoricalScale\"},\"y_range\":{\"id\":\"134d7324-6703-4151-8df0-16bb5e631dca\",\"type\":\"DataRange1d\"},\"y_scale\":{\"id\":\"5f99eeba-5eed-4218-a056-fc541e504edd\",\"type\":\"LinearScale\"}},\"id\":\"c002ad11-9804-475e-9863-ec56ddfde389\",\"subtype\":\"Figure\",\"type\":\"Plot\"},{\"attributes\":{\"callback\":null},\"id\":\"86663bd2-242e-4ad8-ba42-3e503d5537d5\",\"type\":\"DataRange1d\"},{\"attributes\":{},\"id\":\"b9f577b7-08bc-4925-ae20-b3284fedcd2c\",\"type\":\"Selection\"},{\"attributes\":{\"active_drag\":\"auto\",\"active_inspect\":\"auto\",\"active_scroll\":\"auto\",\"active_tap\":\"auto\",\"tools\":[{\"id\":\"e20acf9f-3169-483b-9275-65440dcda3bd\",\"type\":\"PanTool\"},{\"id\":\"0f68f2d1-625c-46b9-b0ec-9d013d693dc1\",\"type\":\"WheelZoomTool\"},{\"id\":\"d5aec712-60dd-41dc-9c6f-7f1b5c955bd4\",\"type\":\"BoxZoomTool\"},{\"id\":\"8b6660d9-af8a-4e47-84ff-495a9225ce40\",\"type\":\"SaveTool\"},{\"id\":\"84cd31f1-88e4-4c69-9ffb-7c9d7e53f90a\",\"type\":\"ResetTool\"},{\"id\":\"ac14fdd2-e558-4a57-9a92-fb0457b787a7\",\"type\":\"HelpTool\"}]},\"id\":\"68abaf11-50ad-4ea5-8e0b-f75f0ff95675\",\"type\":\"Toolbar\"}],\"root_ids\":[\"cc3084a7-bffe-40d3-baa0-0bee467a488e\"]},\"title\":\"Bokeh Application\",\"version\":\"0.12.16\"}};\n",
       "  var render_items = [{\"docid\":\"9d6db462-f5d5-494d-a976-963f681feb58\",\"elementid\":\"358f9248-d742-4c95-90cd-60f845b942f9\",\"modelid\":\"cc3084a7-bffe-40d3-baa0-0bee467a488e\"}];\n",
       "  root.Bokeh.embed.embed_items_notebook(docs_json, render_items);\n",
       "\n",
       "  }\n",
       "  if (root.Bokeh !== undefined) {\n",
       "    embed_document(root);\n",
       "  } else {\n",
       "    var attempts = 0;\n",
       "    var timer = setInterval(function(root) {\n",
       "      if (root.Bokeh !== undefined) {\n",
       "        embed_document(root);\n",
       "        clearInterval(timer);\n",
       "      }\n",
       "      attempts++;\n",
       "      if (attempts > 100) {\n",
       "        console.log(\"Bokeh: ERROR: Unable to run BokehJS code because BokehJS library is missing\")\n",
       "        clearInterval(timer);\n",
       "      }\n",
       "    }, 10, root)\n",
       "  }\n",
       "})(window);"
      ],
      "application/vnd.bokehjs_exec.v0+json": ""
     },
     "metadata": {
      "application/vnd.bokehjs_exec.v0+json": {
       "id": "cc3084a7-bffe-40d3-baa0-0bee467a488e"
      }
     },
     "output_type": "display_data"
    },
    {
     "data": {
      "text/markdown": [
       "*FIGURE.* Difference between CLIRAD and CRD in TOA, SFC and net atmosphere flux, in each spectral band."
      ],
      "text/plain": [
       "<IPython.core.display.Markdown object>"
      ]
     },
     "metadata": {},
     "output_type": "display_data"
    },
    {
     "data": {
      "text/html": [
       "<div>\n",
       "<style scoped>\n",
       "    .dataframe tbody tr th:only-of-type {\n",
       "        vertical-align: middle;\n",
       "    }\n",
       "\n",
       "    .dataframe tbody tr th {\n",
       "        vertical-align: top;\n",
       "    }\n",
       "\n",
       "    .dataframe thead th {\n",
       "        text-align: right;\n",
       "    }\n",
       "</style>\n",
       "<table border=\"1\" class=\"dataframe\">\n",
       "  <thead>\n",
       "    <tr style=\"text-align: right;\">\n",
       "      <th></th>\n",
       "      <th></th>\n",
       "      <th>TOA up</th>\n",
       "      <th>SFC down</th>\n",
       "      <th>ATM heating</th>\n",
       "      <th>tropo up</th>\n",
       "      <th>tropo down</th>\n",
       "      <th>tropo net</th>\n",
       "    </tr>\n",
       "  </thead>\n",
       "  <tbody>\n",
       "    <tr>\n",
       "      <th rowspan=\"2\" valign=\"top\">Sum over band</th>\n",
       "      <th>CLIRAD - CRD</th>\n",
       "      <td>0.01</td>\n",
       "      <td>-0.06</td>\n",
       "      <td>0.07</td>\n",
       "      <td>-0.01</td>\n",
       "      <td>0.03</td>\n",
       "      <td>0.02</td>\n",
       "    </tr>\n",
       "    <tr>\n",
       "      <th>CRD</th>\n",
       "      <td>-8.19</td>\n",
       "      <td>2.77</td>\n",
       "      <td>-1.40</td>\n",
       "      <td>-8.51</td>\n",
       "      <td>0.31</td>\n",
       "      <td>-8.20</td>\n",
       "    </tr>\n",
       "    <tr>\n",
       "      <th rowspan=\"2\" valign=\"top\">Band 9</th>\n",
       "      <th>CLIRAD - CRD</th>\n",
       "      <td>0.01</td>\n",
       "      <td>-0.06</td>\n",
       "      <td>0.07</td>\n",
       "      <td>-0.01</td>\n",
       "      <td>0.03</td>\n",
       "      <td>0.02</td>\n",
       "    </tr>\n",
       "    <tr>\n",
       "      <th>CRD</th>\n",
       "      <td>-8.19</td>\n",
       "      <td>2.77</td>\n",
       "      <td>-1.40</td>\n",
       "      <td>-8.51</td>\n",
       "      <td>0.31</td>\n",
       "      <td>-8.20</td>\n",
       "    </tr>\n",
       "  </tbody>\n",
       "</table>\n",
       "</div>"
      ],
      "text/plain": [
       "                            TOA up  SFC down  ATM heating  tropo up  \\\n",
       "Sum over band CLIRAD - CRD    0.01     -0.06         0.07     -0.01   \n",
       "              CRD            -8.19      2.77        -1.40     -8.51   \n",
       "Band 9        CLIRAD - CRD    0.01     -0.06         0.07     -0.01   \n",
       "              CRD            -8.19      2.77        -1.40     -8.51   \n",
       "\n",
       "                            tropo down  tropo net  \n",
       "Sum over band CLIRAD - CRD        0.03       0.02  \n",
       "              CRD                 0.31      -8.20  \n",
       "Band 9        CLIRAD - CRD        0.03       0.02  \n",
       "              CRD                 0.31      -8.20  "
      ]
     },
     "metadata": {},
     "output_type": "display_data"
    },
    {
     "data": {
      "text/markdown": [
       "*TABLE.* Difference between CLIRAD and CRD fluxes at various atmosphere levels."
      ],
      "text/plain": [
       "<IPython.core.display.Markdown object>"
      ]
     },
     "metadata": {},
     "output_type": "display_data"
    },
    {
     "data": {
      "text/html": [
       "<a id=\"Parameters_of_runs._trp\"></a>"
      ],
      "text/plain": [
       "<IPython.core.display.HTML object>"
      ]
     },
     "metadata": {},
     "output_type": "display_data"
    },
    {
     "data": {
      "text/markdown": [
       "# Parameters of runs. trp"
      ],
      "text/plain": [
       "<IPython.core.display.Markdown object>"
      ]
     },
     "metadata": {},
     "output_type": "display_data"
    },
    {
     "data": {
      "text/html": [
       "<div>\n",
       "<style scoped>\n",
       "    .dataframe tbody tr th:only-of-type {\n",
       "        vertical-align: middle;\n",
       "    }\n",
       "\n",
       "    .dataframe tbody tr th {\n",
       "        vertical-align: top;\n",
       "    }\n",
       "\n",
       "    .dataframe thead tr th {\n",
       "        text-align: left;\n",
       "    }\n",
       "</style>\n",
       "<table border=\"1\" class=\"dataframe\">\n",
       "  <thead>\n",
       "    <tr>\n",
       "      <th></th>\n",
       "      <th>clirad-lw</th>\n",
       "      <th>lblnew-bestfit lw</th>\n",
       "    </tr>\n",
       "    <tr>\n",
       "      <th></th>\n",
       "      <th>:D</th>\n",
       "      <th>band7 ch4</th>\n",
       "    </tr>\n",
       "  </thead>\n",
       "  <tbody>\n",
       "    <tr>\n",
       "      <th>atmpro</th>\n",
       "      <td>trp</td>\n",
       "      <td>trp</td>\n",
       "    </tr>\n",
       "    <tr>\n",
       "      <th>band</th>\n",
       "      <td>[9]</td>\n",
       "      <td>7</td>\n",
       "    </tr>\n",
       "    <tr>\n",
       "      <th>commitnumber</th>\n",
       "      <td>1013f91</td>\n",
       "      <td>5014a19</td>\n",
       "    </tr>\n",
       "    <tr>\n",
       "      <th>conc</th>\n",
       "      <td>-</td>\n",
       "      <td>1.8e-06</td>\n",
       "    </tr>\n",
       "    <tr>\n",
       "      <th>dv</th>\n",
       "      <td>-</td>\n",
       "      <td>0.001</td>\n",
       "    </tr>\n",
       "    <tr>\n",
       "      <th>klin</th>\n",
       "      <td>-</td>\n",
       "      <td>2e-21</td>\n",
       "    </tr>\n",
       "    <tr>\n",
       "      <th>molecule</th>\n",
       "      <td>{'ch4': 1.8e-06}</td>\n",
       "      <td>ch4</td>\n",
       "    </tr>\n",
       "    <tr>\n",
       "      <th>ng_adju</th>\n",
       "      <td>-</td>\n",
       "      <td>[0, 0]</td>\n",
       "    </tr>\n",
       "    <tr>\n",
       "      <th>ng_refs</th>\n",
       "      <td>-</td>\n",
       "      <td>[2, 3]</td>\n",
       "    </tr>\n",
       "    <tr>\n",
       "      <th>nv</th>\n",
       "      <td>-</td>\n",
       "      <td>1000</td>\n",
       "    </tr>\n",
       "    <tr>\n",
       "      <th>option_compute_btable</th>\n",
       "      <td>-</td>\n",
       "      <td>0</td>\n",
       "    </tr>\n",
       "    <tr>\n",
       "      <th>option_compute_ktable</th>\n",
       "      <td>-</td>\n",
       "      <td>0</td>\n",
       "    </tr>\n",
       "    <tr>\n",
       "      <th>option_wgt_flux</th>\n",
       "      <td>-</td>\n",
       "      <td>1</td>\n",
       "    </tr>\n",
       "    <tr>\n",
       "      <th>option_wgt_k</th>\n",
       "      <td>-</td>\n",
       "      <td>1</td>\n",
       "    </tr>\n",
       "    <tr>\n",
       "      <th>ref_pts</th>\n",
       "      <td>-</td>\n",
       "      <td>[[1, 250], [500, 250]]</td>\n",
       "    </tr>\n",
       "    <tr>\n",
       "      <th>tsfc</th>\n",
       "      <td>300</td>\n",
       "      <td>300</td>\n",
       "    </tr>\n",
       "    <tr>\n",
       "      <th>vmax</th>\n",
       "      <td>-</td>\n",
       "      <td>1380</td>\n",
       "    </tr>\n",
       "    <tr>\n",
       "      <th>vmin</th>\n",
       "      <td>-</td>\n",
       "      <td>1215</td>\n",
       "    </tr>\n",
       "    <tr>\n",
       "      <th>w_diffuse</th>\n",
       "      <td>-</td>\n",
       "      <td>[[1.66, 1.66], [1.66, 1.66, 1.66]]</td>\n",
       "    </tr>\n",
       "    <tr>\n",
       "      <th>wgt</th>\n",
       "      <td>-</td>\n",
       "      <td>[[0.7, 0.7], [0.4, 0.6, 0.75]]</td>\n",
       "    </tr>\n",
       "  </tbody>\n",
       "</table>\n",
       "</div>"
      ],
      "text/plain": [
       "                              clirad-lw                   lblnew-bestfit lw\n",
       "                                     :D                           band7 ch4\n",
       "atmpro                              trp                                 trp\n",
       "band                                [9]                                   7\n",
       "commitnumber                    1013f91                             5014a19\n",
       "conc                                  -                             1.8e-06\n",
       "dv                                    -                               0.001\n",
       "klin                                  -                               2e-21\n",
       "molecule               {'ch4': 1.8e-06}                                 ch4\n",
       "ng_adju                               -                              [0, 0]\n",
       "ng_refs                               -                              [2, 3]\n",
       "nv                                    -                                1000\n",
       "option_compute_btable                 -                                   0\n",
       "option_compute_ktable                 -                                   0\n",
       "option_wgt_flux                       -                                   1\n",
       "option_wgt_k                          -                                   1\n",
       "ref_pts                               -              [[1, 250], [500, 250]]\n",
       "tsfc                                300                                 300\n",
       "vmax                                  -                                1380\n",
       "vmin                                  -                                1215\n",
       "w_diffuse                             -  [[1.66, 1.66], [1.66, 1.66, 1.66]]\n",
       "wgt                                   -      [[0.7, 0.7], [0.4, 0.6, 0.75]]"
      ]
     },
     "metadata": {},
     "output_type": "display_data"
    },
    {
     "data": {
      "text/html": [
       "<a id=\"Cooling_rates._trp.\"></a>"
      ],
      "text/plain": [
       "<IPython.core.display.HTML object>"
      ]
     },
     "metadata": {},
     "output_type": "display_data"
    },
    {
     "data": {
      "text/markdown": [
       "# Cooling rates. trp."
      ],
      "text/plain": [
       "<IPython.core.display.Markdown object>"
      ]
     },
     "metadata": {},
     "output_type": "display_data"
    },
    {
     "data": {
      "text/html": [
       "\n",
       "<div class=\"bk-root\">\n",
       "    <div class=\"bk-plotdiv\" id=\"64b3be38-8121-4a75-b423-9dadec22a834\"></div>\n",
       "</div>"
      ]
     },
     "metadata": {},
     "output_type": "display_data"
    },
    {
     "data": {
      "application/javascript": [
       "(function(root) {\n",
       "  function embed_document(root) {\n",
       "    \n",
       "  var docs_json = {\"11764ea2-d800-42cb-ab24-26184fcc318f\":{\"roots\":{\"references\":[{\"attributes\":{\"callback\":null,\"end\":0.01,\"start\":1020},\"id\":\"a3f32eea-66c3-4843-a6e5-242057e20eb2\",\"type\":\"Range1d\"},{\"attributes\":{},\"id\":\"46700639-8dc0-4135-883d-7f166303b4bd\",\"type\":\"HelpTool\"},{\"attributes\":{\"line_alpha\":0.1,\"line_color\":\"#1f77b4\",\"line_width\":1.5,\"x\":{\"field\":\"x\"},\"y\":{\"field\":\"y\"}},\"id\":\"3a2cf614-2fca-4024-a036-e4cedbe6ac11\",\"type\":\"Line\"},{\"attributes\":{},\"id\":\"7a983b4b-7c55-45c1-9a46-1d499bb51412\",\"type\":\"ResetTool\"},{\"attributes\":{\"line_alpha\":0.6,\"line_color\":\"#e41a1c\",\"line_dash\":[6],\"line_width\":5,\"x\":{\"field\":\"x\"},\"y\":{\"field\":\"y\"}},\"id\":\"cdabbada-47a0-45ae-a677-bbe97430eb51\",\"type\":\"Line\"},{\"attributes\":{},\"id\":\"7701fc92-3332-446e-9b77-27cf3266213f\",\"type\":\"Selection\"},{\"attributes\":{\"callback\":null,\"data\":{\"x\":{\"__ndarray__\":\"Yt786bPBqb+oik47oXypv+1MZJAC3qi/f6KRU2RCqL9HuuNwjZ+nvye5R1/W/qa/PkX3dMFVpr+Scg7Ws6ulv+J1FB9TAqW/rodIsOVTpL+1Do11Eamjvy8VxfKB+aK/owUSWxRSor8sVBgKwXKhv041bsKh3Zu/7AGDPGw2h7+uYztjiDGHPysZnX/9CKQ/e7wjcuCmsj/iftmgoxO9P9I/+3AUycQ/aoCYpRliyz/YCRYkCYTNP3QrQrmGfMo/3wJkQ5K0xT+RYImLzPG/P52Lh0OrnbU/F3GNEYHRqj8O+fL4eTCeP4RH6w2WaI8/CKTCrcIzgT++/p67iGZ2Pye6Gz0fImw/ZzslbrVRJD8Pd2o4qYt/v48nF50Lp5O/JgObzqm/nb+9HIBRpQ2hvwvkSToZCKG/I4DTb+r5oL90bt1EYr+gv8piSVbRYaC/Iwxz6hmun7+7zsNfTGCev1MC6wOM2Jy/di97AvYLm7/jc02fIimZv0sEFxw/A5e/EcQMnFKvlL9hv5Ry2CySv5UxIncv/I6/iHHbFwBFib8o2CAHde6Cv9HQklIPm3i/wcvrDHzaY7+b8cYivjVWP3JPcF3sl3Y/PLc9e1ZkhD+veMTKYyuOPxQ/WUCHSpQ/ZpgVtfSbmT+hPjly83meP0IHdF4XCaE/UovuRDweoj91u3juJsCiP62ZYxYtgqM/BEl3jgPapD+/6yn1CfmmPyBPopAqq6k/FaW3UfrIrD/PafVZjiWwP63QPXQMC7I/QDgbArIdtD+kl6R04W62P+2VUePg/bg/\",\"dtype\":\"float64\",\"shape\":[75]},\"y\":{\"__ndarray__\":\"GhExyth1ND/Sv8nbtpRIP2vylNV0PVE/aTum7souWD/At0SJ8fVgPw3Iuahxymc/MSNhhJWvcD/bTfBN02d3P2zb5nxnaoA/CD5h5MAGhz8NmeH1TyaQP+zrCsc9p5Y/LbKd76fGnz/bLW5ISEmmPww9YvTcQq8/JV2OstnstT8Er5Y7M8G+P0c+r3jqkcU/5h99k6ZBzj88bCIzFzjVP4enV8oyxN0//yH99nXg5D8qOpLLf0jtP5kqGJXUifQ/c9cS8kHP/D+/DpwzojQEQIEmwoanVwxA4lgXt9HgE0BSSZ2AJuIbQAMJih9jjiNA5q4l5INuK0AwTKYKRj0zQNv5fmq8/DpAaCJseHrtQkB/+zpwzoxKQM3MzMzMeFJAZmZmZmZqWEAAAAAAAFxeQM3MzMzMJmJAmpmZmZkfZUBmZmZmZhhoQDMzMzMzEWtAAAAAAAAKbkBmZmZmZoFwQM3MzMzM/XFAMzMzMzN6c0CamZmZmfZ0QAAAAAAAc3ZAZmZmZmbvd0DNzMzMzGt5QDMzMzMz6HpAmpmZmZlkfEAAAAAAAOF9QGZmZmZmXX9AZmZmZuZsgECamZmZGSuBQM3MzMxM6YFAAAAAAICngkAzMzMzs2WDQGZmZmbmI4RAmpmZmRnihEDNzMzMTKCFQAAAAACAXoZAMzMzM7Mch0BmZmZm5tqHQJqZmZkZmYhAzczMzExXiUAAAAAAgBWKQDMzMzOz04pAZmZmZuaRi0CamZmZGVCMQM3MzMxMDo1AAAAAAIDMjUAzMzMzs4qOQGZmZmbmSI9A\",\"dtype\":\"float64\",\"shape\":[75]}},\"selected\":{\"id\":\"452c4e64-9226-43d8-99c4-4185284ce87a\",\"type\":\"Selection\"},\"selection_policy\":{\"id\":\"91ffabe9-478b-4209-af18-830a22ebad25\",\"type\":\"UnionRenderers\"}},\"id\":\"1e88c3db-bb1d-46fb-a24f-68e6650b50f4\",\"type\":\"ColumnDataSource\"},{\"attributes\":{},\"id\":\"810a8067-d1b2-463e-ad8c-cd86ef8f767b\",\"type\":\"SaveTool\"},{\"attributes\":{\"bottom_units\":\"screen\",\"fill_alpha\":{\"value\":0.5},\"fill_color\":{\"value\":\"lightgrey\"},\"left_units\":\"screen\",\"level\":\"overlay\",\"line_alpha\":{\"value\":1.0},\"line_color\":{\"value\":\"black\"},\"line_dash\":[4,4],\"line_width\":{\"value\":2},\"plot\":null,\"render_mode\":\"css\",\"right_units\":\"screen\",\"top_units\":\"screen\"},\"id\":\"5b6201b3-af4b-46dd-9075-109e737e887d\",\"type\":\"BoxAnnotation\"},{\"attributes\":{\"data_source\":{\"id\":\"8e57a7ea-e1a6-4011-8b57-bc9844dbb56f\",\"type\":\"ColumnDataSource\"},\"glyph\":{\"id\":\"66dc6bbc-17db-4b49-b654-bd08cdd91a45\",\"type\":\"Line\"},\"hover_glyph\":null,\"muted_glyph\":null,\"nonselection_glyph\":{\"id\":\"3a2cf614-2fca-4024-a036-e4cedbe6ac11\",\"type\":\"Line\"},\"selection_glyph\":null,\"view\":{\"id\":\"8484d469-1965-4840-af7e-2bc460b2ade3\",\"type\":\"CDSView\"}},\"id\":\"f599215c-e757-4c03-9f14-975ddca30499\",\"type\":\"GlyphRenderer\"},{\"attributes\":{\"callback\":null,\"data\":{\"x\":{\"__ndarray__\":\"Yt786bPBqb+oik47oXypv+1MZJAC3qi/f6KRU2RCqL9HuuNwjZ+nvye5R1/W/qa/PkX3dMFVpr+Scg7Ws6ulv+J1FB9TAqW/rodIsOVTpL+1Do11Eamjvy8VxfKB+aK/owUSWxRSor8sVBgKwXKhv041bsKh3Zu/7AGDPGw2h7+uYztjiDGHPysZnX/9CKQ/e7wjcuCmsj/iftmgoxO9P9I/+3AUycQ/aoCYpRliyz/YCRYkCYTNP3QrQrmGfMo/3wJkQ5K0xT+RYImLzPG/P52Lh0OrnbU/F3GNEYHRqj8O+fL4eTCeP4RH6w2WaI8/CKTCrcIzgT++/p67iGZ2Pye6Gz0fImw/ZzslbrVRJD8Pd2o4qYt/v48nF50Lp5O/JgObzqm/nb+9HIBRpQ2hvwvkSToZCKG/I4DTb+r5oL90bt1EYr+gv8piSVbRYaC/Iwxz6hmun7+7zsNfTGCev1MC6wOM2Jy/di97AvYLm7/jc02fIimZv0sEFxw/A5e/EcQMnFKvlL9hv5Ry2CySv5UxIncv/I6/iHHbFwBFib8o2CAHde6Cv9HQklIPm3i/wcvrDHzaY7+b8cYivjVWP3JPcF3sl3Y/PLc9e1ZkhD+veMTKYyuOPxQ/WUCHSpQ/ZpgVtfSbmT+hPjly83meP0IHdF4XCaE/UovuRDweoj91u3juJsCiP62ZYxYtgqM/BEl3jgPapD+/6yn1CfmmPyBPopAqq6k/FaW3UfrIrD/PafVZjiWwP63QPXQMC7I/QDgbArIdtD+kl6R04W62P+2VUePg/bg/\",\"dtype\":\"float64\",\"shape\":[75]},\"y\":{\"__ndarray__\":\"GhExyth1ND/Sv8nbtpRIP2vylNV0PVE/aTum7souWD/At0SJ8fVgPw3Iuahxymc/MSNhhJWvcD/bTfBN02d3P2zb5nxnaoA/CD5h5MAGhz8NmeH1TyaQP+zrCsc9p5Y/LbKd76fGnz/bLW5ISEmmPww9YvTcQq8/JV2OstnstT8Er5Y7M8G+P0c+r3jqkcU/5h99k6ZBzj88bCIzFzjVP4enV8oyxN0//yH99nXg5D8qOpLLf0jtP5kqGJXUifQ/c9cS8kHP/D+/DpwzojQEQIEmwoanVwxA4lgXt9HgE0BSSZ2AJuIbQAMJih9jjiNA5q4l5INuK0AwTKYKRj0zQNv5fmq8/DpAaCJseHrtQkB/+zpwzoxKQM3MzMzMeFJAZmZmZmZqWEAAAAAAAFxeQM3MzMzMJmJAmpmZmZkfZUBmZmZmZhhoQDMzMzMzEWtAAAAAAAAKbkBmZmZmZoFwQM3MzMzM/XFAMzMzMzN6c0CamZmZmfZ0QAAAAAAAc3ZAZmZmZmbvd0DNzMzMzGt5QDMzMzMz6HpAmpmZmZlkfEAAAAAAAOF9QGZmZmZmXX9AZmZmZuZsgECamZmZGSuBQM3MzMxM6YFAAAAAAICngkAzMzMzs2WDQGZmZmbmI4RAmpmZmRnihEDNzMzMTKCFQAAAAACAXoZAMzMzM7Mch0BmZmZm5tqHQJqZmZkZmYhAzczMzExXiUAAAAAAgBWKQDMzMzOz04pAZmZmZuaRi0CamZmZGVCMQM3MzMxMDo1AAAAAAIDMjUAzMzMzs4qOQGZmZmbmSI9A\",\"dtype\":\"float64\",\"shape\":[75]}},\"selected\":{\"id\":\"d527dee4-bfe5-44e3-b9bd-47f18459b61b\",\"type\":\"Selection\"},\"selection_policy\":{\"id\":\"dc5b8bc2-05ad-41e6-9b44-0443522fc3b9\",\"type\":\"UnionRenderers\"}},\"id\":\"753ff64e-4df7-4493-a248-0d819cb47f6e\",\"type\":\"ColumnDataSource\"},{\"attributes\":{\"label\":{\"value\":\"CRD\"},\"renderers\":[{\"id\":\"fba49ab0-ff99-4079-94a7-e15af014b12b\",\"type\":\"GlyphRenderer\"},{\"id\":\"f599215c-e757-4c03-9f14-975ddca30499\",\"type\":\"GlyphRenderer\"}]},\"id\":\"413bdc28-11de-456d-aeea-dd1faf2bade2\",\"type\":\"LegendItem\"},{\"attributes\":{\"callback\":null,\"end\":0.01,\"start\":1020},\"id\":\"09ea0802-f3e0-479e-83c9-edf8e357a73d\",\"type\":\"Range1d\"},{\"attributes\":{\"fill_alpha\":{\"value\":0.7},\"fill_color\":{\"value\":\"#984ea3\"},\"line_alpha\":{\"value\":0.7},\"line_color\":{\"value\":\"#984ea3\"},\"x\":{\"field\":\"x\"},\"y\":{\"field\":\"y\"}},\"id\":\"2823f007-8bd0-4e6c-90f9-bf4ca83a497d\",\"type\":\"Circle\"},{\"attributes\":{\"source\":{\"id\":\"8e57a7ea-e1a6-4011-8b57-bc9844dbb56f\",\"type\":\"ColumnDataSource\"}},\"id\":\"8484d469-1965-4840-af7e-2bc460b2ade3\",\"type\":\"CDSView\"},{\"attributes\":{\"overlay\":{\"id\":\"5b6201b3-af4b-46dd-9075-109e737e887d\",\"type\":\"BoxAnnotation\"}},\"id\":\"0935b9bd-e7c4-4da1-8e66-49cf5bb81caf\",\"type\":\"BoxZoomTool\"},{\"attributes\":{\"callback\":null,\"data\":{\"x\":{\"__ndarray__\":\"mLquSXjOoz+etuj5pKajP6+XGcTIWaM/e8Gfks0Eoz99Mw1fsrWiP09xT+VOZ6I/FPV8dtomoj/uPF+7uO2hP/ope6TqwKE/uPZbZuSqoT9z2a4Giq2hP/F+LVM03KE/ieaGNbQ6oj8uh/P7ds+iP1emE5HHVqI/tAZLwz7Nnz/ge1ANiPWYPyoF1nFbfZE/sP/CW9rogj+A24wiTeBLPyDlr2dtk4G/eEsF56TJkr/A+j+mSFiMv8C4ZI0R9WM/kMNgWOvWjz+Aaf45tbmWPwCmDp9OtZQ/DHpw/pMPij+0PvfFLNJyP0BBz8zjS02/uF8l/jfpY7/wpQOTLclVv6DFPeAjwzQ/nO3LJ4KVTD8AKfI+q2ANP0CJf+psQFy/oFiX6GZear9IFReGkolvv7wkaoTnrnC/kABCCmTDbr8IryUE+Chrv2DVMaE2Ami/APNCHdi8ZL/QQI0c/khiv3im6eObcGC/ULi2hHFlXb/QUYJbML9cv3BR1evJ41u/8G6eJcD2W79gd+zOWddcv7C3BhYciV6/gGbiajuAYL+s1RAjzQdhv1KtMoZ3PmK/DforH66RYr+k1ha7r2Fjv6hctjUGZGO/cHvXRgC+Y7+8dV3mVkhkv4hjPrcANGW/0I/K5kGdZr9YN4bv9Sdov4DXmSZm7Gi/wNrJPAcRZ79wi/xfSktkv7DHJQrdl2G/QNaVc6UNX7/gBZAeTtBav8AZfW4+zle/wBg4KHJkVL+A2EDtVCBNv4AN0Wid5ES/AIIauvHgQr+AIdfGKWdLvwC06hQf72K/\",\"dtype\":\"float64\",\"shape\":[75]},\"y\":{\"__ndarray__\":\"GhExyth1ND/Sv8nbtpRIP2vylNV0PVE/aTum7souWD/At0SJ8fVgPw3Iuahxymc/MSNhhJWvcD/bTfBN02d3P2zb5nxnaoA/CD5h5MAGhz8NmeH1TyaQP+zrCsc9p5Y/LbKd76fGnz/bLW5ISEmmPww9YvTcQq8/JV2OstnstT8Er5Y7M8G+P0c+r3jqkcU/5h99k6ZBzj88bCIzFzjVP4enV8oyxN0//yH99nXg5D8qOpLLf0jtP5kqGJXUifQ/c9cS8kHP/D+/DpwzojQEQIEmwoanVwxA4lgXt9HgE0BSSZ2AJuIbQAMJih9jjiNA5q4l5INuK0AwTKYKRj0zQNv5fmq8/DpAaCJseHrtQkB/+zpwzoxKQM3MzMzMeFJAZmZmZmZqWEAAAAAAAFxeQM3MzMzMJmJAmpmZmZkfZUBmZmZmZhhoQDMzMzMzEWtAAAAAAAAKbkBmZmZmZoFwQM3MzMzM/XFAMzMzMzN6c0CamZmZmfZ0QAAAAAAAc3ZAZmZmZmbvd0DNzMzMzGt5QDMzMzMz6HpAmpmZmZlkfEAAAAAAAOF9QGZmZmZmXX9AZmZmZuZsgECamZmZGSuBQM3MzMxM6YFAAAAAAICngkAzMzMzs2WDQGZmZmbmI4RAmpmZmRnihEDNzMzMTKCFQAAAAACAXoZAMzMzM7Mch0BmZmZm5tqHQJqZmZkZmYhAzczMzExXiUAAAAAAgBWKQDMzMzOz04pAZmZmZuaRi0CamZmZGVCMQM3MzMxMDo1AAAAAAIDMjUAzMzMzs4qOQGZmZmbmSI9A\",\"dtype\":\"float64\",\"shape\":[75]}},\"selected\":{\"id\":\"86b028bb-4400-4b21-9639-d4cceaf6e371\",\"type\":\"Selection\"},\"selection_policy\":{\"id\":\"20db5862-51f5-4f14-bd8f-ef5a0464eeb1\",\"type\":\"UnionRenderers\"}},\"id\":\"63e829a5-7b47-408a-8900-eaa42fb5b3d1\",\"type\":\"ColumnDataSource\"},{\"attributes\":{\"above\":[{\"id\":\"77d09ad4-c45a-42de-8b10-c93614338a87\",\"type\":\"Legend\"}],\"below\":[{\"id\":\"4cfa4248-333c-49a5-b555-a75d133c9f67\",\"type\":\"LinearAxis\"}],\"left\":[{\"id\":\"d642aaaf-0cf8-42f2-8828-3641e714f022\",\"type\":\"LogAxis\"}],\"plot_width\":300,\"renderers\":[{\"id\":\"4cfa4248-333c-49a5-b555-a75d133c9f67\",\"type\":\"LinearAxis\"},{\"id\":\"fe6b55ec-918d-488a-8689-781caaae1db8\",\"type\":\"Grid\"},{\"id\":\"d642aaaf-0cf8-42f2-8828-3641e714f022\",\"type\":\"LogAxis\"},{\"id\":\"c4d727cc-7fc8-43fd-bbc8-4dd6fb4ba8f3\",\"type\":\"Grid\"},{\"id\":\"ff49f105-80b3-47c7-bafe-89a2b0bb4539\",\"type\":\"BoxAnnotation\"},{\"id\":\"8c58f627-dbcc-430c-acad-91883c9d2abe\",\"type\":\"GlyphRenderer\"},{\"id\":\"8253b254-e19c-409d-bdb5-bf86d8389033\",\"type\":\"GlyphRenderer\"},{\"id\":\"77d09ad4-c45a-42de-8b10-c93614338a87\",\"type\":\"Legend\"}],\"title\":{\"id\":\"21a5a5e3-89b0-47ce-b730-b23dfe90b9e4\",\"type\":\"Title\"},\"toolbar\":{\"id\":\"50e5e550-d352-4620-bc9b-47f73690e3de\",\"type\":\"Toolbar\"},\"toolbar_location\":null,\"x_range\":{\"id\":\"eba850b1-16da-4a0a-a172-e8b3a0f05dbe\",\"type\":\"Range1d\"},\"x_scale\":{\"id\":\"9c149cc2-4348-42ef-881b-e0c111cb2c87\",\"type\":\"LinearScale\"},\"y_range\":{\"id\":\"48464bd8-e2e2-47ed-9571-63cbe05252d8\",\"type\":\"Range1d\"},\"y_scale\":{\"id\":\"e41a77a9-6df7-4beb-8500-4190b846a69b\",\"type\":\"LogScale\"}},\"id\":\"01d0b59b-dd2d-4694-9b15-73bb2d9ca28e\",\"subtype\":\"Figure\",\"type\":\"Plot\"},{\"attributes\":{\"label\":{\"value\":\"CLIRAD\"},\"renderers\":[{\"id\":\"d3e4801e-853a-4bab-9991-c1e97fa0df9a\",\"type\":\"GlyphRenderer\"}]},\"id\":\"ad15f06d-195f-4d68-9ede-32af1c619a99\",\"type\":\"LegendItem\"},{\"attributes\":{},\"id\":\"43e7c7ae-e326-41e2-b358-1610e7b173c0\",\"type\":\"UnionRenderers\"},{\"attributes\":{\"data_source\":{\"id\":\"f41afa4e-cea1-421a-8efe-1ad86ae91d4a\",\"type\":\"ColumnDataSource\"},\"glyph\":{\"id\":\"550a1e59-f511-4197-ad6a-e15341752b86\",\"type\":\"Line\"},\"hover_glyph\":null,\"muted_glyph\":null,\"nonselection_glyph\":{\"id\":\"e2eb4655-7e9f-4444-acac-ef36976b8888\",\"type\":\"Line\"},\"selection_glyph\":null,\"view\":{\"id\":\"e0401287-d6f1-47f9-af10-2a18c96b0454\",\"type\":\"CDSView\"}},\"id\":\"0e89057c-102c-4084-b4e7-5c1b0b254c33\",\"type\":\"GlyphRenderer\"},{\"attributes\":{\"line_alpha\":0.8,\"line_color\":\"#984ea3\",\"line_width\":1.5,\"x\":{\"field\":\"x\"},\"y\":{\"field\":\"y\"}},\"id\":\"adc59bef-aa3b-49be-8032-d64aa9e8a43a\",\"type\":\"Line\"},{\"attributes\":{},\"id\":\"d527dee4-bfe5-44e3-b9bd-47f18459b61b\",\"type\":\"Selection\"},{\"attributes\":{\"fill_alpha\":{\"value\":0.1},\"fill_color\":{\"value\":\"#1f77b4\"},\"line_alpha\":{\"value\":0.1},\"line_color\":{\"value\":\"#1f77b4\"},\"x\":{\"field\":\"x\"},\"y\":{\"field\":\"y\"}},\"id\":\"ec0bd718-1751-48c8-bfd5-058a4c413ab7\",\"type\":\"Circle\"},{\"attributes\":{\"callback\":null,\"end\":0.101267589596,\"start\":-0.034639657995999995},\"id\":\"bf44e97b-01ed-4845-8d45-6ec9bd584489\",\"type\":\"Range1d\"},{\"attributes\":{\"callback\":null,\"data\":{\"x\":{\"__ndarray__\":\"fczVGRbItr+joJsao5G2v07yPqrlG7a//bEY85ijtb/idvjnnyq1vzuVS6ISs7S/KR269U0+tL/A17ZItsyzv+7Px+GeYbO/Mz9SC2X/sr8U9B2+TauyvxBK+SLbarK/FnZMSGRGsr+t7QUDHCGyv39gJTnMIrC/1UPGcDq0pb8SlGW3h7mKvywtZI2flJY/hVyrJsVJsD8rZZQG49u8PyQ+dkdL4sU/2Sl5Qk67zT+ECXqujUnPP5GYDHOyLMo/pvbdjSO3wz8xxgk9X0O6Px3iw5tXcLA/lFLxEZxNpD9hKXXH7nuZP8wdXCWqnpA/9vtLrRAuhj866F8g1Nh7P3MBFMG6iWk/wp5CzBSBR79hW+iOasZ/v/sub84E45G/EhiI8dxzmr/RVj1SGCqev+c+eZN45J2/NMBeXmgbnr8HJzaJpRmev+iKbNhbw52/w63K5n4Wnb+hJjKcLBecv4TNbYd4ypq/8cMv6p41mb/GTpWZL12XvzSvWX0CRZW/It2ymebvkr/r96XVYl+Qv59aYfQLK4u/6NciPfEkhb96Rbl8A1l9v1D08h6n926/Pxv9296MJL9xT3rMjnxuP+O+Jbz3JIA/GJbzjNZTiT8P6y3CvJ6RP4ULQVcH8ZY/YOru8ZxvnD/GAhUYeb+gP7qk3cDdl6I//ii7uEyPoz8shHiU2wSkPyj2Beeqm6Q/tvcTunDSpT/uax5mjM+nP+43FoScaao/22X54h1srT+A688Dz1+wP8hyD6/VNLI/RG2P5XNDtD/nRTLIr6W2P43r+NtZlbk/\",\"dtype\":\"float64\",\"shape\":[75]},\"y\":{\"__ndarray__\":\"GhExyth1ND/Sv8nbtpRIP2vylNV0PVE/aTum7souWD/At0SJ8fVgPw3Iuahxymc/MSNhhJWvcD/bTfBN02d3P2zb5nxnaoA/CD5h5MAGhz8NmeH1TyaQP+zrCsc9p5Y/LbKd76fGnz/bLW5ISEmmPww9YvTcQq8/JV2OstnstT8Er5Y7M8G+P0c+r3jqkcU/5h99k6ZBzj88bCIzFzjVP4enV8oyxN0//yH99nXg5D8qOpLLf0jtP5kqGJXUifQ/c9cS8kHP/D+/DpwzojQEQIEmwoanVwxA4lgXt9HgE0BSSZ2AJuIbQAMJih9jjiNA5q4l5INuK0AwTKYKRj0zQNv5fmq8/DpAaCJseHrtQkB/+zpwzoxKQM3MzMzMeFJAZmZmZmZqWEAAAAAAAFxeQM3MzMzMJmJAmpmZmZkfZUBmZmZmZhhoQDMzMzMzEWtAAAAAAAAKbkBmZmZmZoFwQM3MzMzM/XFAMzMzMzN6c0CamZmZmfZ0QAAAAAAAc3ZAZmZmZmbvd0DNzMzMzGt5QDMzMzMz6HpAmpmZmZlkfEAAAAAAAOF9QGZmZmZmXX9AZmZmZuZsgECamZmZGSuBQM3MzMxM6YFAAAAAAICngkAzMzMzs2WDQGZmZmbmI4RAmpmZmRnihEDNzMzMTKCFQAAAAACAXoZAMzMzM7Mch0BmZmZm5tqHQJqZmZkZmYhAzczMzExXiUAAAAAAgBWKQDMzMzOz04pAZmZmZuaRi0CamZmZGVCMQM3MzMxMDo1AAAAAAIDMjUAzMzMzs4qOQGZmZmbmSI9A\",\"dtype\":\"float64\",\"shape\":[75]}},\"selected\":{\"id\":\"7701fc92-3332-446e-9b77-27cf3266213f\",\"type\":\"Selection\"},\"selection_policy\":{\"id\":\"43e7c7ae-e326-41e2-b358-1610e7b173c0\",\"type\":\"UnionRenderers\"}},\"id\":\"f41afa4e-cea1-421a-8efe-1ad86ae91d4a\",\"type\":\"ColumnDataSource\"},{\"attributes\":{\"axis_label\":\"cooling rate [K/day]\",\"formatter\":{\"id\":\"b5375821-3d7c-4048-ac60-736ae3ecfe85\",\"type\":\"BasicTickFormatter\"},\"plot\":{\"id\":\"6a698e73-ff55-4c69-a10b-eb36df70c900\",\"subtype\":\"Figure\",\"type\":\"Plot\"},\"ticker\":{\"id\":\"f1d039b2-99f7-4434-a964-c3629174533b\",\"type\":\"BasicTicker\"}},\"id\":\"a8c9d5af-a48a-42dc-a7d1-b54811e4c042\",\"type\":\"LinearAxis\"},{\"attributes\":{\"source\":{\"id\":\"14d5b1e8-1952-408d-a811-df7276abb5e3\",\"type\":\"ColumnDataSource\"}},\"id\":\"2949c47b-77d2-4299-864c-de1094ac0eb5\",\"type\":\"CDSView\"},{\"attributes\":{\"plot\":{\"id\":\"01d0b59b-dd2d-4694-9b15-73bb2d9ca28e\",\"subtype\":\"Figure\",\"type\":\"Plot\"},\"ticker\":{\"id\":\"ddb2895a-1f62-4654-9457-77226768dbc2\",\"type\":\"BasicTicker\"}},\"id\":\"fe6b55ec-918d-488a-8689-781caaae1db8\",\"type\":\"Grid\"},{\"attributes\":{\"bottom_units\":\"screen\",\"fill_alpha\":{\"value\":0.5},\"fill_color\":{\"value\":\"lightgrey\"},\"left_units\":\"screen\",\"level\":\"overlay\",\"line_alpha\":{\"value\":1.0},\"line_color\":{\"value\":\"black\"},\"line_dash\":[4,4],\"line_width\":{\"value\":2},\"plot\":null,\"render_mode\":\"css\",\"right_units\":\"screen\",\"top_units\":\"screen\"},\"id\":\"ff49f105-80b3-47c7-bafe-89a2b0bb4539\",\"type\":\"BoxAnnotation\"},{\"attributes\":{\"line_alpha\":0.1,\"line_color\":\"#1f77b4\",\"line_width\":1.5,\"x\":{\"field\":\"x\"},\"y\":{\"field\":\"y\"}},\"id\":\"e2eb4655-7e9f-4444-acac-ef36976b8888\",\"type\":\"Line\"},{\"attributes\":{\"callback\":null,\"end\":0.24761858982875998,\"start\":-0.07739593078476},\"id\":\"4aa14d2c-059f-4bd4-bb84-e48993a76c8d\",\"type\":\"Range1d\"},{\"attributes\":{},\"id\":\"e41a77a9-6df7-4beb-8500-4190b846a69b\",\"type\":\"LogScale\"},{\"attributes\":{\"line_alpha\":0.1,\"line_color\":\"#1f77b4\",\"line_dash\":[6],\"line_width\":5,\"x\":{\"field\":\"x\"},\"y\":{\"field\":\"y\"}},\"id\":\"2443ab8c-4cc8-4ae5-bd24-2a5a9dac3e1b\",\"type\":\"Line\"},{\"attributes\":{\"callback\":null,\"data\":{\"x\":{\"__ndarray__\":\"fczVGRbItr+joJsao5G2v07yPqrlG7a//bEY85ijtb/idvjnnyq1vzuVS6ISs7S/KR269U0+tL/A17ZItsyzv+7Px+GeYbO/Mz9SC2X/sr8U9B2+TauyvxBK+SLbarK/FnZMSGRGsr+t7QUDHCGyv39gJTnMIrC/1UPGcDq0pb8SlGW3h7mKvywtZI2flJY/hVyrJsVJsD8rZZQG49u8PyQ+dkdL4sU/2Sl5Qk67zT+ECXqujUnPP5GYDHOyLMo/pvbdjSO3wz8xxgk9X0O6Px3iw5tXcLA/lFLxEZxNpD9hKXXH7nuZP8wdXCWqnpA/9vtLrRAuhj866F8g1Nh7P3MBFMG6iWk/wp5CzBSBR79hW+iOasZ/v/sub84E45G/EhiI8dxzmr/RVj1SGCqev+c+eZN45J2/NMBeXmgbnr8HJzaJpRmev+iKbNhbw52/w63K5n4Wnb+hJjKcLBecv4TNbYd4ypq/8cMv6p41mb/GTpWZL12XvzSvWX0CRZW/It2ymebvkr/r96XVYl+Qv59aYfQLK4u/6NciPfEkhb96Rbl8A1l9v1D08h6n926/Pxv9296MJL9xT3rMjnxuP+O+Jbz3JIA/GJbzjNZTiT8P6y3CvJ6RP4ULQVcH8ZY/YOru8ZxvnD/GAhUYeb+gP7qk3cDdl6I//ii7uEyPoz8shHiU2wSkPyj2Beeqm6Q/tvcTunDSpT/uax5mjM+nP+43FoScaao/22X54h1srT+A688Dz1+wP8hyD6/VNLI/RG2P5XNDtD/nRTLIr6W2P43r+NtZlbk/\",\"dtype\":\"float64\",\"shape\":[75]},\"y\":{\"__ndarray__\":\"GhExyth1ND/Sv8nbtpRIP2vylNV0PVE/aTum7souWD/At0SJ8fVgPw3Iuahxymc/MSNhhJWvcD/bTfBN02d3P2zb5nxnaoA/CD5h5MAGhz8NmeH1TyaQP+zrCsc9p5Y/LbKd76fGnz/bLW5ISEmmPww9YvTcQq8/JV2OstnstT8Er5Y7M8G+P0c+r3jqkcU/5h99k6ZBzj88bCIzFzjVP4enV8oyxN0//yH99nXg5D8qOpLLf0jtP5kqGJXUifQ/c9cS8kHP/D+/DpwzojQEQIEmwoanVwxA4lgXt9HgE0BSSZ2AJuIbQAMJih9jjiNA5q4l5INuK0AwTKYKRj0zQNv5fmq8/DpAaCJseHrtQkB/+zpwzoxKQM3MzMzMeFJAZmZmZmZqWEAAAAAAAFxeQM3MzMzMJmJAmpmZmZkfZUBmZmZmZhhoQDMzMzMzEWtAAAAAAAAKbkBmZmZmZoFwQM3MzMzM/XFAMzMzMzN6c0CamZmZmfZ0QAAAAAAAc3ZAZmZmZmbvd0DNzMzMzGt5QDMzMzMz6HpAmpmZmZlkfEAAAAAAAOF9QGZmZmZmXX9AZmZmZuZsgECamZmZGSuBQM3MzMxM6YFAAAAAAICngkAzMzMzs2WDQGZmZmbmI4RAmpmZmRnihEDNzMzMTKCFQAAAAACAXoZAMzMzM7Mch0BmZmZm5tqHQJqZmZkZmYhAzczMzExXiUAAAAAAgBWKQDMzMzOz04pAZmZmZuaRi0CamZmZGVCMQM3MzMxMDo1AAAAAAIDMjUAzMzMzs4qOQGZmZmbmSI9A\",\"dtype\":\"float64\",\"shape\":[75]}},\"selected\":{\"id\":\"04a6cec9-43a5-49a6-9e2d-51445ce774e0\",\"type\":\"Selection\"},\"selection_policy\":{\"id\":\"146db83e-9df2-4213-8c7e-b3e3089a3162\",\"type\":\"UnionRenderers\"}},\"id\":\"14d5b1e8-1952-408d-a811-df7276abb5e3\",\"type\":\"ColumnDataSource\"},{\"attributes\":{},\"id\":\"9f9ab7b0-4957-4d26-acdb-ab874c16543d\",\"type\":\"BasicTickFormatter\"},{\"attributes\":{\"callback\":null,\"data\":{\"x\":{\"__ndarray__\":\"fczVGRbItr+joJsao5G2v07yPqrlG7a//bEY85ijtb/idvjnnyq1vzuVS6ISs7S/KR269U0+tL/A17ZItsyzv+7Px+GeYbO/Mz9SC2X/sr8U9B2+TauyvxBK+SLbarK/FnZMSGRGsr+t7QUDHCGyv39gJTnMIrC/1UPGcDq0pb8SlGW3h7mKvywtZI2flJY/hVyrJsVJsD8rZZQG49u8PyQ+dkdL4sU/2Sl5Qk67zT+ECXqujUnPP5GYDHOyLMo/pvbdjSO3wz8xxgk9X0O6Px3iw5tXcLA/lFLxEZxNpD9hKXXH7nuZP8wdXCWqnpA/9vtLrRAuhj866F8g1Nh7P3MBFMG6iWk/wp5CzBSBR79hW+iOasZ/v/sub84E45G/EhiI8dxzmr/RVj1SGCqev+c+eZN45J2/NMBeXmgbnr8HJzaJpRmev+iKbNhbw52/w63K5n4Wnb+hJjKcLBecv4TNbYd4ypq/8cMv6p41mb/GTpWZL12XvzSvWX0CRZW/It2ymebvkr/r96XVYl+Qv59aYfQLK4u/6NciPfEkhb96Rbl8A1l9v1D08h6n926/Pxv9296MJL9xT3rMjnxuP+O+Jbz3JIA/GJbzjNZTiT8P6y3CvJ6RP4ULQVcH8ZY/YOru8ZxvnD/GAhUYeb+gP7qk3cDdl6I//ii7uEyPoz8shHiU2wSkPyj2Beeqm6Q/tvcTunDSpT/uax5mjM+nP+43FoScaao/22X54h1srT+A688Dz1+wP8hyD6/VNLI/RG2P5XNDtD/nRTLIr6W2P43r+NtZlbk/\",\"dtype\":\"float64\",\"shape\":[75]},\"y\":{\"__ndarray__\":\"GhExyth1ND/Sv8nbtpRIP2vylNV0PVE/aTum7souWD/At0SJ8fVgPw3Iuahxymc/MSNhhJWvcD/bTfBN02d3P2zb5nxnaoA/CD5h5MAGhz8NmeH1TyaQP+zrCsc9p5Y/LbKd76fGnz/bLW5ISEmmPww9YvTcQq8/JV2OstnstT8Er5Y7M8G+P0c+r3jqkcU/5h99k6ZBzj88bCIzFzjVP4enV8oyxN0//yH99nXg5D8qOpLLf0jtP5kqGJXUifQ/c9cS8kHP/D+/DpwzojQEQIEmwoanVwxA4lgXt9HgE0BSSZ2AJuIbQAMJih9jjiNA5q4l5INuK0AwTKYKRj0zQNv5fmq8/DpAaCJseHrtQkB/+zpwzoxKQM3MzMzMeFJAZmZmZmZqWEAAAAAAAFxeQM3MzMzMJmJAmpmZmZkfZUBmZmZmZhhoQDMzMzMzEWtAAAAAAAAKbkBmZmZmZoFwQM3MzMzM/XFAMzMzMzN6c0CamZmZmfZ0QAAAAAAAc3ZAZmZmZmbvd0DNzMzMzGt5QDMzMzMz6HpAmpmZmZlkfEAAAAAAAOF9QGZmZmZmXX9AZmZmZuZsgECamZmZGSuBQM3MzMxM6YFAAAAAAICngkAzMzMzs2WDQGZmZmbmI4RAmpmZmRnihEDNzMzMTKCFQAAAAACAXoZAMzMzM7Mch0BmZmZm5tqHQJqZmZkZmYhAzczMzExXiUAAAAAAgBWKQDMzMzOz04pAZmZmZuaRi0CamZmZGVCMQM3MzMxMDo1AAAAAAIDMjUAzMzMzs4qOQGZmZmbmSI9A\",\"dtype\":\"float64\",\"shape\":[75]}},\"selected\":{\"id\":\"74a69b59-0d6e-4df6-9ad1-3b9599eaefd4\",\"type\":\"Selection\"},\"selection_policy\":{\"id\":\"abf75710-082f-4a83-a06d-2579672ed04d\",\"type\":\"UnionRenderers\"}},\"id\":\"c832102a-e1ac-4a18-b92d-3be587df69b3\",\"type\":\"ColumnDataSource\"},{\"attributes\":{\"children\":[{\"id\":\"05f84d08-72e9-41a0-b970-0eccef996bb0\",\"type\":\"Row\"}]},\"id\":\"f0ec62ca-06a4-4f8d-af67-948cffe5ba96\",\"type\":\"Column\"},{\"attributes\":{\"above\":[{\"id\":\"6ef009a7-c063-4d97-b566-49f72f4511be\",\"type\":\"Legend\"}],\"below\":[{\"id\":\"8e51d61c-3470-497b-a0d5-dd1c8a60e2fb\",\"type\":\"LinearAxis\"}],\"left\":[{\"id\":\"94cc715b-f410-425f-b3ec-0efba017056b\",\"type\":\"LogAxis\"}],\"plot_width\":300,\"renderers\":[{\"id\":\"8e51d61c-3470-497b-a0d5-dd1c8a60e2fb\",\"type\":\"LinearAxis\"},{\"id\":\"a8253fea-8c88-4568-b741-b7c6b2524235\",\"type\":\"Grid\"},{\"id\":\"94cc715b-f410-425f-b3ec-0efba017056b\",\"type\":\"LogAxis\"},{\"id\":\"2172e121-ab8d-43d8-ac56-8bc13b160f16\",\"type\":\"Grid\"},{\"id\":\"31175aa1-966b-449e-93ab-4be57d3cbfeb\",\"type\":\"BoxAnnotation\"},{\"id\":\"d3e4801e-853a-4bab-9991-c1e97fa0df9a\",\"type\":\"GlyphRenderer\"},{\"id\":\"fba49ab0-ff99-4079-94a7-e15af014b12b\",\"type\":\"GlyphRenderer\"},{\"id\":\"f599215c-e757-4c03-9f14-975ddca30499\",\"type\":\"GlyphRenderer\"},{\"id\":\"6ef009a7-c063-4d97-b566-49f72f4511be\",\"type\":\"Legend\"}],\"title\":{\"id\":\"2c7994c3-220f-43b7-b80e-9ab6d9314298\",\"type\":\"Title\"},\"toolbar\":{\"id\":\"0a8f71e0-e9b3-4d92-8ab7-c295560a1612\",\"type\":\"Toolbar\"},\"toolbar_location\":null,\"x_range\":{\"id\":\"4aa14d2c-059f-4bd4-bb84-e48993a76c8d\",\"type\":\"Range1d\"},\"x_scale\":{\"id\":\"9e81c980-a1b2-4ac6-9f40-a82600a2fd21\",\"type\":\"LinearScale\"},\"y_range\":{\"id\":\"09ea0802-f3e0-479e-83c9-edf8e357a73d\",\"type\":\"Range1d\"},\"y_scale\":{\"id\":\"cadc7772-41cf-45da-9ca8-fdba533f4944\",\"type\":\"LogScale\"}},\"id\":\"83581d59-54a0-4907-a1d0-4b37608a0be4\",\"subtype\":\"Figure\",\"type\":\"Plot\"},{\"attributes\":{\"items\":[{\"id\":\"81892900-f297-485d-9904-6829b21521d0\",\"type\":\"LegendItem\"}],\"label_text_font_size\":{\"value\":\"8pt\"},\"location\":\"top_center\",\"orientation\":\"horizontal\",\"plot\":{\"id\":\"01d0b59b-dd2d-4694-9b15-73bb2d9ca28e\",\"subtype\":\"Figure\",\"type\":\"Plot\"}},\"id\":\"77d09ad4-c45a-42de-8b10-c93614338a87\",\"type\":\"Legend\"},{\"attributes\":{\"dimension\":1,\"plot\":{\"id\":\"01d0b59b-dd2d-4694-9b15-73bb2d9ca28e\",\"subtype\":\"Figure\",\"type\":\"Plot\"},\"ticker\":{\"id\":\"98873ec8-df0e-4413-ac85-8428a906b03e\",\"type\":\"LogTicker\"}},\"id\":\"c4d727cc-7fc8-43fd-bbc8-4dd6fb4ba8f3\",\"type\":\"Grid\"},{\"attributes\":{\"source\":{\"id\":\"f41afa4e-cea1-421a-8efe-1ad86ae91d4a\",\"type\":\"ColumnDataSource\"}},\"id\":\"e0401287-d6f1-47f9-af10-2a18c96b0454\",\"type\":\"CDSView\"},{\"attributes\":{\"fill_alpha\":{\"value\":0.7},\"fill_color\":{\"value\":\"#4daf4a\"},\"line_alpha\":{\"value\":0.7},\"line_color\":{\"value\":\"#4daf4a\"},\"x\":{\"field\":\"x\"},\"y\":{\"field\":\"y\"}},\"id\":\"e9f99e5e-73c9-484a-8145-9d0704ec10a2\",\"type\":\"Circle\"},{\"attributes\":{\"num_minor_ticks\":10},\"id\":\"98873ec8-df0e-4413-ac85-8428a906b03e\",\"type\":\"LogTicker\"},{\"attributes\":{\"data_source\":{\"id\":\"c832102a-e1ac-4a18-b92d-3be587df69b3\",\"type\":\"ColumnDataSource\"},\"glyph\":{\"id\":\"e9f99e5e-73c9-484a-8145-9d0704ec10a2\",\"type\":\"Circle\"},\"hover_glyph\":null,\"muted_glyph\":null,\"nonselection_glyph\":{\"id\":\"ff0a580b-01ba-43ec-baca-33bf22005456\",\"type\":\"Circle\"},\"selection_glyph\":null,\"view\":{\"id\":\"5db148eb-f41b-4624-9fb7-3396abfa163d\",\"type\":\"CDSView\"}},\"id\":\"fba49ab0-ff99-4079-94a7-e15af014b12b\",\"type\":\"GlyphRenderer\"},{\"attributes\":{\"axis_label\":\"pressure [mb]\",\"formatter\":{\"id\":\"ec8e7b56-c02b-4521-bb63-f280287359d5\",\"type\":\"LogTickFormatter\"},\"plot\":{\"id\":\"01d0b59b-dd2d-4694-9b15-73bb2d9ca28e\",\"subtype\":\"Figure\",\"type\":\"Plot\"},\"ticker\":{\"id\":\"98873ec8-df0e-4413-ac85-8428a906b03e\",\"type\":\"LogTicker\"}},\"id\":\"d642aaaf-0cf8-42f2-8828-3641e714f022\",\"type\":\"LogAxis\"},{\"attributes\":{\"fill_alpha\":{\"value\":0.1},\"fill_color\":{\"value\":\"#1f77b4\"},\"line_alpha\":{\"value\":0.1},\"line_color\":{\"value\":\"#1f77b4\"},\"x\":{\"field\":\"x\"},\"y\":{\"field\":\"y\"}},\"id\":\"3abe2a92-478f-4007-9947-8d88df37b9e4\",\"type\":\"Circle\"},{\"attributes\":{},\"id\":\"ddb2895a-1f62-4654-9457-77226768dbc2\",\"type\":\"BasicTicker\"},{\"attributes\":{\"axis_label\":\"cooling rate [K/day]\",\"formatter\":{\"id\":\"51d6f6e5-0a63-478c-9d5f-7bf02dcb0b83\",\"type\":\"BasicTickFormatter\"},\"plot\":{\"id\":\"01d0b59b-dd2d-4694-9b15-73bb2d9ca28e\",\"subtype\":\"Figure\",\"type\":\"Plot\"},\"ticker\":{\"id\":\"ddb2895a-1f62-4654-9457-77226768dbc2\",\"type\":\"BasicTicker\"}},\"id\":\"4cfa4248-333c-49a5-b555-a75d133c9f67\",\"type\":\"LinearAxis\"},{\"attributes\":{\"overlay\":{\"id\":\"ff49f105-80b3-47c7-bafe-89a2b0bb4539\",\"type\":\"BoxAnnotation\"}},\"id\":\"0b0d7657-6eba-48bb-b130-ed31d7b2e760\",\"type\":\"BoxZoomTool\"},{\"attributes\":{\"label\":{\"value\":\"CLIRAD\"},\"renderers\":[{\"id\":\"748cd91e-89e6-4809-909e-65e7135d0f49\",\"type\":\"GlyphRenderer\"}]},\"id\":\"7bd11ef5-2831-40cd-b0fe-ec19bed98ac9\",\"type\":\"LegendItem\"},{\"attributes\":{\"active_drag\":\"auto\",\"active_inspect\":\"auto\",\"active_scroll\":\"auto\",\"active_tap\":\"auto\",\"tools\":[{\"id\":\"93a3a202-64c8-4abb-bd24-8d31b411e652\",\"type\":\"PanTool\"},{\"id\":\"00f52e3f-2e63-493d-a548-cbaeca152de4\",\"type\":\"WheelZoomTool\"},{\"id\":\"a857b20d-269c-4d97-8c80-3d346024b9fd\",\"type\":\"BoxZoomTool\"},{\"id\":\"4c674c5a-66fa-489c-9316-f1f00fcc54df\",\"type\":\"SaveTool\"},{\"id\":\"05e35166-bf56-4a7c-bb2a-4e8cd583cb49\",\"type\":\"ResetTool\"},{\"id\":\"f4beb258-69af-4a43-a790-c000c4f81983\",\"type\":\"HelpTool\"}]},\"id\":\"0a8f71e0-e9b3-4d92-8ab7-c295560a1612\",\"type\":\"Toolbar\"},{\"attributes\":{\"source\":{\"id\":\"753ff64e-4df7-4493-a248-0d819cb47f6e\",\"type\":\"ColumnDataSource\"}},\"id\":\"e844c02d-435d-40b8-a6f5-7ab77c163caa\",\"type\":\"CDSView\"},{\"attributes\":{},\"id\":\"50072d72-ee21-40ea-9cfa-8093a3171be4\",\"type\":\"PanTool\"},{\"attributes\":{\"label\":{\"value\":\"CRD\"},\"renderers\":[{\"id\":\"a4caf52e-6f72-440f-bc24-cc46722435c3\",\"type\":\"GlyphRenderer\"},{\"id\":\"0e89057c-102c-4084-b4e7-5c1b0b254c33\",\"type\":\"GlyphRenderer\"}]},\"id\":\"0815327d-de29-4381-accc-9ec4e345cbde\",\"type\":\"LegendItem\"},{\"attributes\":{\"callback\":null,\"data\":{\"x\":{\"__ndarray__\":\"fczVGRbItr+joJsao5G2v07yPqrlG7a//bEY85ijtb/idvjnnyq1vzuVS6ISs7S/KR269U0+tL/A17ZItsyzv+7Px+GeYbO/Mz9SC2X/sr8U9B2+TauyvxBK+SLbarK/FnZMSGRGsr+t7QUDHCGyv39gJTnMIrC/1UPGcDq0pb8SlGW3h7mKvywtZI2flJY/hVyrJsVJsD8rZZQG49u8PyQ+dkdL4sU/2Sl5Qk67zT+ECXqujUnPP5GYDHOyLMo/pvbdjSO3wz8xxgk9X0O6Px3iw5tXcLA/lFLxEZxNpD9hKXXH7nuZP8wdXCWqnpA/9vtLrRAuhj866F8g1Nh7P3MBFMG6iWk/wp5CzBSBR79hW+iOasZ/v/sub84E45G/EhiI8dxzmr/RVj1SGCqev+c+eZN45J2/NMBeXmgbnr8HJzaJpRmev+iKbNhbw52/w63K5n4Wnb+hJjKcLBecv4TNbYd4ypq/8cMv6p41mb/GTpWZL12XvzSvWX0CRZW/It2ymebvkr/r96XVYl+Qv59aYfQLK4u/6NciPfEkhb96Rbl8A1l9v1D08h6n926/Pxv9296MJL9xT3rMjnxuP+O+Jbz3JIA/GJbzjNZTiT8P6y3CvJ6RP4ULQVcH8ZY/YOru8ZxvnD/GAhUYeb+gP7qk3cDdl6I//ii7uEyPoz8shHiU2wSkPyj2Beeqm6Q/tvcTunDSpT/uax5mjM+nP+43FoScaao/22X54h1srT+A688Dz1+wP8hyD6/VNLI/RG2P5XNDtD/nRTLIr6W2P43r+NtZlbk/\",\"dtype\":\"float64\",\"shape\":[75]},\"y\":{\"__ndarray__\":\"GhExyth1ND/Sv8nbtpRIP2vylNV0PVE/aTum7souWD/At0SJ8fVgPw3Iuahxymc/MSNhhJWvcD/bTfBN02d3P2zb5nxnaoA/CD5h5MAGhz8NmeH1TyaQP+zrCsc9p5Y/LbKd76fGnz/bLW5ISEmmPww9YvTcQq8/JV2OstnstT8Er5Y7M8G+P0c+r3jqkcU/5h99k6ZBzj88bCIzFzjVP4enV8oyxN0//yH99nXg5D8qOpLLf0jtP5kqGJXUifQ/c9cS8kHP/D+/DpwzojQEQIEmwoanVwxA4lgXt9HgE0BSSZ2AJuIbQAMJih9jjiNA5q4l5INuK0AwTKYKRj0zQNv5fmq8/DpAaCJseHrtQkB/+zpwzoxKQM3MzMzMeFJAZmZmZmZqWEAAAAAAAFxeQM3MzMzMJmJAmpmZmZkfZUBmZmZmZhhoQDMzMzMzEWtAAAAAAAAKbkBmZmZmZoFwQM3MzMzM/XFAMzMzMzN6c0CamZmZmfZ0QAAAAAAAc3ZAZmZmZmbvd0DNzMzMzGt5QDMzMzMz6HpAmpmZmZlkfEAAAAAAAOF9QGZmZmZmXX9AZmZmZuZsgECamZmZGSuBQM3MzMxM6YFAAAAAAICngkAzMzMzs2WDQGZmZmbmI4RAmpmZmRnihEDNzMzMTKCFQAAAAACAXoZAMzMzM7Mch0BmZmZm5tqHQJqZmZkZmYhAzczMzExXiUAAAAAAgBWKQDMzMzOz04pAZmZmZuaRi0CamZmZGVCMQM3MzMxMDo1AAAAAAIDMjUAzMzMzs4qOQGZmZmbmSI9A\",\"dtype\":\"float64\",\"shape\":[75]}},\"selected\":{\"id\":\"470374b9-d178-44bb-be66-2776e5713c7e\",\"type\":\"Selection\"},\"selection_policy\":{\"id\":\"df648ab1-1567-4ef8-9d6a-3f8a55218999\",\"type\":\"UnionRenderers\"}},\"id\":\"8e57a7ea-e1a6-4011-8b57-bc9844dbb56f\",\"type\":\"ColumnDataSource\"},{\"attributes\":{},\"id\":\"0b7ab485-ef96-4d30-a663-4304e5e81dd3\",\"type\":\"WheelZoomTool\"},{\"attributes\":{\"data_source\":{\"id\":\"14d5b1e8-1952-408d-a811-df7276abb5e3\",\"type\":\"ColumnDataSource\"},\"glyph\":{\"id\":\"fc933a53-fa5a-465f-a97b-f087368529ed\",\"type\":\"Circle\"},\"hover_glyph\":null,\"muted_glyph\":null,\"nonselection_glyph\":{\"id\":\"3abe2a92-478f-4007-9947-8d88df37b9e4\",\"type\":\"Circle\"},\"selection_glyph\":null,\"view\":{\"id\":\"2949c47b-77d2-4299-864c-de1094ac0eb5\",\"type\":\"CDSView\"}},\"id\":\"a4caf52e-6f72-440f-bc24-cc46722435c3\",\"type\":\"GlyphRenderer\"},{\"attributes\":{\"fill_alpha\":{\"value\":0.7},\"fill_color\":{\"value\":\"#4daf4a\"},\"line_alpha\":{\"value\":0.7},\"line_color\":{\"value\":\"#4daf4a\"},\"x\":{\"field\":\"x\"},\"y\":{\"field\":\"y\"}},\"id\":\"fc933a53-fa5a-465f-a97b-f087368529ed\",\"type\":\"Circle\"},{\"attributes\":{\"ticker\":null},\"id\":\"ec8e7b56-c02b-4521-bb63-f280287359d5\",\"type\":\"LogTickFormatter\"},{\"attributes\":{\"line_color\":\"#4daf4a\",\"line_width\":1.5,\"x\":{\"field\":\"x\"},\"y\":{\"field\":\"y\"}},\"id\":\"550a1e59-f511-4197-ad6a-e15341752b86\",\"type\":\"Line\"},{\"attributes\":{},\"id\":\"dc5b8bc2-05ad-41e6-9b44-0443522fc3b9\",\"type\":\"UnionRenderers\"},{\"attributes\":{},\"id\":\"9e81c980-a1b2-4ac6-9f40-a82600a2fd21\",\"type\":\"LinearScale\"},{\"attributes\":{},\"id\":\"ddd14704-c379-4c02-9f64-6527370a6173\",\"type\":\"SaveTool\"},{\"attributes\":{\"items\":[{\"id\":\"ad15f06d-195f-4d68-9ede-32af1c619a99\",\"type\":\"LegendItem\"},{\"id\":\"413bdc28-11de-456d-aeea-dd1faf2bade2\",\"type\":\"LegendItem\"}],\"label_text_font_size\":{\"value\":\"8pt\"},\"location\":\"top_center\",\"orientation\":\"horizontal\",\"plot\":{\"id\":\"83581d59-54a0-4907-a1d0-4b37608a0be4\",\"subtype\":\"Figure\",\"type\":\"Plot\"}},\"id\":\"6ef009a7-c063-4d97-b566-49f72f4511be\",\"type\":\"Legend\"},{\"attributes\":{},\"id\":\"7e80cc48-0a3d-4d92-af4f-c48b1294fd94\",\"type\":\"ResetTool\"},{\"attributes\":{\"plot\":{\"id\":\"83581d59-54a0-4907-a1d0-4b37608a0be4\",\"subtype\":\"Figure\",\"type\":\"Plot\"},\"ticker\":{\"id\":\"b869b017-9dcd-46c6-a41b-15ee76c34cd8\",\"type\":\"BasicTicker\"}},\"id\":\"a8253fea-8c88-4568-b741-b7c6b2524235\",\"type\":\"Grid\"},{\"attributes\":{\"active_drag\":\"auto\",\"active_inspect\":\"auto\",\"active_scroll\":\"auto\",\"active_tap\":\"auto\",\"tools\":[{\"id\":\"50072d72-ee21-40ea-9cfa-8093a3171be4\",\"type\":\"PanTool\"},{\"id\":\"0b7ab485-ef96-4d30-a663-4304e5e81dd3\",\"type\":\"WheelZoomTool\"},{\"id\":\"0b0d7657-6eba-48bb-b130-ed31d7b2e760\",\"type\":\"BoxZoomTool\"},{\"id\":\"ddd14704-c379-4c02-9f64-6527370a6173\",\"type\":\"SaveTool\"},{\"id\":\"7e80cc48-0a3d-4d92-af4f-c48b1294fd94\",\"type\":\"ResetTool\"},{\"id\":\"691625f1-7d24-4928-9d97-a57473636140\",\"type\":\"HelpTool\"}]},\"id\":\"50e5e550-d352-4620-bc9b-47f73690e3de\",\"type\":\"Toolbar\"},{\"attributes\":{},\"id\":\"691625f1-7d24-4928-9d97-a57473636140\",\"type\":\"HelpTool\"},{\"attributes\":{},\"id\":\"cadc7772-41cf-45da-9ca8-fdba533f4944\",\"type\":\"LogScale\"},{\"attributes\":{\"ticker\":null},\"id\":\"0a5281f4-3d68-4188-a121-5f0d6b3534e1\",\"type\":\"LogTickFormatter\"},{\"attributes\":{\"axis_label\":\"cooling rate [K/day]\",\"formatter\":{\"id\":\"9f9ab7b0-4957-4d26-acdb-ab874c16543d\",\"type\":\"BasicTickFormatter\"},\"plot\":{\"id\":\"83581d59-54a0-4907-a1d0-4b37608a0be4\",\"subtype\":\"Figure\",\"type\":\"Plot\"},\"ticker\":{\"id\":\"b869b017-9dcd-46c6-a41b-15ee76c34cd8\",\"type\":\"BasicTicker\"}},\"id\":\"8e51d61c-3470-497b-a0d5-dd1c8a60e2fb\",\"type\":\"LinearAxis\"},{\"attributes\":{\"data_source\":{\"id\":\"16393832-73f9-4842-a356-08187fbc1a6b\",\"type\":\"ColumnDataSource\"},\"glyph\":{\"id\":\"adc59bef-aa3b-49be-8032-d64aa9e8a43a\",\"type\":\"Line\"},\"hover_glyph\":null,\"muted_glyph\":null,\"nonselection_glyph\":{\"id\":\"6eaa579c-d864-4553-8788-2cf87ad3efe1\",\"type\":\"Line\"},\"selection_glyph\":null,\"view\":{\"id\":\"310cca4e-385d-4d8c-bd11-df5cf329c3aa\",\"type\":\"CDSView\"}},\"id\":\"8253b254-e19c-409d-bdb5-bf86d8389033\",\"type\":\"GlyphRenderer\"},{\"attributes\":{},\"id\":\"b869b017-9dcd-46c6-a41b-15ee76c34cd8\",\"type\":\"BasicTicker\"},{\"attributes\":{},\"id\":\"abf75710-082f-4a83-a06d-2579672ed04d\",\"type\":\"UnionRenderers\"},{\"attributes\":{\"axis_label\":\"pressure [mb]\",\"formatter\":{\"id\":\"0a5281f4-3d68-4188-a121-5f0d6b3534e1\",\"type\":\"LogTickFormatter\"},\"plot\":{\"id\":\"83581d59-54a0-4907-a1d0-4b37608a0be4\",\"subtype\":\"Figure\",\"type\":\"Plot\"},\"ticker\":{\"id\":\"853fc1b4-0b6f-4f4c-9cd3-841302af4644\",\"type\":\"LogTicker\"}},\"id\":\"94cc715b-f410-425f-b3ec-0efba017056b\",\"type\":\"LogAxis\"},{\"attributes\":{\"plot\":null,\"text\":\"\"},\"id\":\"21a5a5e3-89b0-47ce-b730-b23dfe90b9e4\",\"type\":\"Title\"},{\"attributes\":{\"data_source\":{\"id\":\"1e88c3db-bb1d-46fb-a24f-68e6650b50f4\",\"type\":\"ColumnDataSource\"},\"glyph\":{\"id\":\"cdabbada-47a0-45ae-a677-bbe97430eb51\",\"type\":\"Line\"},\"hover_glyph\":null,\"muted_glyph\":null,\"nonselection_glyph\":{\"id\":\"d4734373-8399-4a3a-b97a-aaaa0ae6f81f\",\"type\":\"Line\"},\"selection_glyph\":null,\"view\":{\"id\":\"0af56be8-9ff5-45d2-902b-68ed3f59bca5\",\"type\":\"CDSView\"}},\"id\":\"748cd91e-89e6-4809-909e-65e7135d0f49\",\"type\":\"GlyphRenderer\"},{\"attributes\":{\"num_minor_ticks\":10},\"id\":\"853fc1b4-0b6f-4f4c-9cd3-841302af4644\",\"type\":\"LogTicker\"},{\"attributes\":{},\"id\":\"74a69b59-0d6e-4df6-9ad1-3b9599eaefd4\",\"type\":\"Selection\"},{\"attributes\":{\"dimension\":1,\"plot\":{\"id\":\"83581d59-54a0-4907-a1d0-4b37608a0be4\",\"subtype\":\"Figure\",\"type\":\"Plot\"},\"ticker\":{\"id\":\"853fc1b4-0b6f-4f4c-9cd3-841302af4644\",\"type\":\"LogTicker\"}},\"id\":\"2172e121-ab8d-43d8-ac56-8bc13b160f16\",\"type\":\"Grid\"},{\"attributes\":{\"line_alpha\":0.1,\"line_color\":\"#1f77b4\",\"line_width\":1.5,\"x\":{\"field\":\"x\"},\"y\":{\"field\":\"y\"}},\"id\":\"6eaa579c-d864-4553-8788-2cf87ad3efe1\",\"type\":\"Line\"},{\"attributes\":{\"data_source\":{\"id\":\"753ff64e-4df7-4493-a248-0d819cb47f6e\",\"type\":\"ColumnDataSource\"},\"glyph\":{\"id\":\"e35deee8-38a3-4da3-bdf1-8040bf73ca38\",\"type\":\"Line\"},\"hover_glyph\":null,\"muted_glyph\":null,\"nonselection_glyph\":{\"id\":\"2443ab8c-4cc8-4ae5-bd24-2a5a9dac3e1b\",\"type\":\"Line\"},\"selection_glyph\":null,\"view\":{\"id\":\"e844c02d-435d-40b8-a6f5-7ab77c163caa\",\"type\":\"CDSView\"}},\"id\":\"d3e4801e-853a-4bab-9991-c1e97fa0df9a\",\"type\":\"GlyphRenderer\"},{\"attributes\":{},\"id\":\"ca851d81-1df6-431b-bbf3-f17a03e26c9a\",\"type\":\"BasicTickFormatter\"},{\"attributes\":{\"data_source\":{\"id\":\"63e829a5-7b47-408a-8900-eaa42fb5b3d1\",\"type\":\"ColumnDataSource\"},\"glyph\":{\"id\":\"2823f007-8bd0-4e6c-90f9-bf4ca83a497d\",\"type\":\"Circle\"},\"hover_glyph\":null,\"muted_glyph\":null,\"nonselection_glyph\":{\"id\":\"ec0bd718-1751-48c8-bfd5-058a4c413ab7\",\"type\":\"Circle\"},\"selection_glyph\":null,\"view\":{\"id\":\"30ff578f-24ad-417b-8bc6-6307824217cb\",\"type\":\"CDSView\"}},\"id\":\"8c58f627-dbcc-430c-acad-91883c9d2abe\",\"type\":\"GlyphRenderer\"},{\"attributes\":{\"bottom_units\":\"screen\",\"fill_alpha\":{\"value\":0.5},\"fill_color\":{\"value\":\"lightgrey\"},\"left_units\":\"screen\",\"level\":\"overlay\",\"line_alpha\":{\"value\":1.0},\"line_color\":{\"value\":\"black\"},\"line_dash\":[4,4],\"line_width\":{\"value\":2},\"plot\":null,\"render_mode\":\"css\",\"right_units\":\"screen\",\"top_units\":\"screen\"},\"id\":\"31175aa1-966b-449e-93ab-4be57d3cbfeb\",\"type\":\"BoxAnnotation\"},{\"attributes\":{\"plot\":null,\"text\":\"\"},\"id\":\"79ada69d-81e9-40e1-abad-851509e07e55\",\"type\":\"Title\"},{\"attributes\":{},\"id\":\"93a3a202-64c8-4abb-bd24-8d31b411e652\",\"type\":\"PanTool\"},{\"attributes\":{\"source\":{\"id\":\"63e829a5-7b47-408a-8900-eaa42fb5b3d1\",\"type\":\"ColumnDataSource\"}},\"id\":\"30ff578f-24ad-417b-8bc6-6307824217cb\",\"type\":\"CDSView\"},{\"attributes\":{},\"id\":\"91ffabe9-478b-4209-af18-830a22ebad25\",\"type\":\"UnionRenderers\"},{\"attributes\":{},\"id\":\"00f52e3f-2e63-493d-a548-cbaeca152de4\",\"type\":\"WheelZoomTool\"},{\"attributes\":{\"label\":{\"value\":\"CLIRAD - CRD\"},\"renderers\":[{\"id\":\"8c58f627-dbcc-430c-acad-91883c9d2abe\",\"type\":\"GlyphRenderer\"},{\"id\":\"8253b254-e19c-409d-bdb5-bf86d8389033\",\"type\":\"GlyphRenderer\"}]},\"id\":\"81892900-f297-485d-9904-6829b21521d0\",\"type\":\"LegendItem\"},{\"attributes\":{\"overlay\":{\"id\":\"31175aa1-966b-449e-93ab-4be57d3cbfeb\",\"type\":\"BoxAnnotation\"}},\"id\":\"a857b20d-269c-4d97-8c80-3d346024b9fd\",\"type\":\"BoxZoomTool\"},{\"attributes\":{},\"id\":\"b5375821-3d7c-4048-ac60-736ae3ecfe85\",\"type\":\"BasicTickFormatter\"},{\"attributes\":{},\"id\":\"4c674c5a-66fa-489c-9316-f1f00fcc54df\",\"type\":\"SaveTool\"},{\"attributes\":{},\"id\":\"df648ab1-1567-4ef8-9d6a-3f8a55218999\",\"type\":\"UnionRenderers\"},{\"attributes\":{},\"id\":\"05e35166-bf56-4a7c-bb2a-4e8cd583cb49\",\"type\":\"ResetTool\"},{\"attributes\":{\"children\":[{\"id\":\"6a698e73-ff55-4c69-a10b-eb36df70c900\",\"subtype\":\"Figure\",\"type\":\"Plot\"},{\"id\":\"83581d59-54a0-4907-a1d0-4b37608a0be4\",\"subtype\":\"Figure\",\"type\":\"Plot\"},{\"id\":\"01d0b59b-dd2d-4694-9b15-73bb2d9ca28e\",\"subtype\":\"Figure\",\"type\":\"Plot\"}]},\"id\":\"05f84d08-72e9-41a0-b970-0eccef996bb0\",\"type\":\"Row\"},{\"attributes\":{},\"id\":\"0ce23d26-bd4f-4de1-8ee3-f9c01ca39898\",\"type\":\"BasicTicker\"},{\"attributes\":{},\"id\":\"f4beb258-69af-4a43-a790-c000c4f81983\",\"type\":\"HelpTool\"},{\"attributes\":{\"line_alpha\":0.1,\"line_color\":\"#1f77b4\",\"line_dash\":[6],\"line_width\":5,\"x\":{\"field\":\"x\"},\"y\":{\"field\":\"y\"}},\"id\":\"d4734373-8399-4a3a-b97a-aaaa0ae6f81f\",\"type\":\"Line\"},{\"attributes\":{\"source\":{\"id\":\"16393832-73f9-4842-a356-08187fbc1a6b\",\"type\":\"ColumnDataSource\"}},\"id\":\"310cca4e-385d-4d8c-bd11-df5cf329c3aa\",\"type\":\"CDSView\"},{\"attributes\":{\"callback\":null,\"end\":0.01,\"start\":1020},\"id\":\"48464bd8-e2e2-47ed-9571-63cbe05252d8\",\"type\":\"Range1d\"},{\"attributes\":{\"callback\":null,\"data\":{\"x\":{\"__ndarray__\":\"mLquSXjOoz+etuj5pKajP6+XGcTIWaM/e8Gfks0Eoz99Mw1fsrWiP09xT+VOZ6I/FPV8dtomoj/uPF+7uO2hP/ope6TqwKE/uPZbZuSqoT9z2a4Giq2hP/F+LVM03KE/ieaGNbQ6oj8uh/P7ds+iP1emE5HHVqI/tAZLwz7Nnz/ge1ANiPWYPyoF1nFbfZE/sP/CW9rogj+A24wiTeBLPyDlr2dtk4G/eEsF56TJkr/A+j+mSFiMv8C4ZI0R9WM/kMNgWOvWjz+Aaf45tbmWPwCmDp9OtZQ/DHpw/pMPij+0PvfFLNJyP0BBz8zjS02/uF8l/jfpY7/wpQOTLclVv6DFPeAjwzQ/nO3LJ4KVTD8AKfI+q2ANP0CJf+psQFy/oFiX6GZear9IFReGkolvv7wkaoTnrnC/kABCCmTDbr8IryUE+Chrv2DVMaE2Ami/APNCHdi8ZL/QQI0c/khiv3im6eObcGC/ULi2hHFlXb/QUYJbML9cv3BR1evJ41u/8G6eJcD2W79gd+zOWddcv7C3BhYciV6/gGbiajuAYL+s1RAjzQdhv1KtMoZ3PmK/DforH66RYr+k1ha7r2Fjv6hctjUGZGO/cHvXRgC+Y7+8dV3mVkhkv4hjPrcANGW/0I/K5kGdZr9YN4bv9Sdov4DXmSZm7Gi/wNrJPAcRZ79wi/xfSktkv7DHJQrdl2G/QNaVc6UNX7/gBZAeTtBav8AZfW4+zle/wBg4KHJkVL+A2EDtVCBNv4AN0Wid5ES/AIIauvHgQr+AIdfGKWdLvwC06hQf72K/\",\"dtype\":\"float64\",\"shape\":[75]},\"y\":{\"__ndarray__\":\"GhExyth1ND/Sv8nbtpRIP2vylNV0PVE/aTum7souWD/At0SJ8fVgPw3Iuahxymc/MSNhhJWvcD/bTfBN02d3P2zb5nxnaoA/CD5h5MAGhz8NmeH1TyaQP+zrCsc9p5Y/LbKd76fGnz/bLW5ISEmmPww9YvTcQq8/JV2OstnstT8Er5Y7M8G+P0c+r3jqkcU/5h99k6ZBzj88bCIzFzjVP4enV8oyxN0//yH99nXg5D8qOpLLf0jtP5kqGJXUifQ/c9cS8kHP/D+/DpwzojQEQIEmwoanVwxA4lgXt9HgE0BSSZ2AJuIbQAMJih9jjiNA5q4l5INuK0AwTKYKRj0zQNv5fmq8/DpAaCJseHrtQkB/+zpwzoxKQM3MzMzMeFJAZmZmZmZqWEAAAAAAAFxeQM3MzMzMJmJAmpmZmZkfZUBmZmZmZhhoQDMzMzMzEWtAAAAAAAAKbkBmZmZmZoFwQM3MzMzM/XFAMzMzMzN6c0CamZmZmfZ0QAAAAAAAc3ZAZmZmZmbvd0DNzMzMzGt5QDMzMzMz6HpAmpmZmZlkfEAAAAAAAOF9QGZmZmZmXX9AZmZmZuZsgECamZmZGSuBQM3MzMxM6YFAAAAAAICngkAzMzMzs2WDQGZmZmbmI4RAmpmZmRnihEDNzMzMTKCFQAAAAACAXoZAMzMzM7Mch0BmZmZm5tqHQJqZmZkZmYhAzczMzExXiUAAAAAAgBWKQDMzMzOz04pAZmZmZuaRi0CamZmZGVCMQM3MzMxMDo1AAAAAAIDMjUAzMzMzs4qOQGZmZmbmSI9A\",\"dtype\":\"float64\",\"shape\":[75]}},\"selected\":{\"id\":\"48c14799-8102-4090-ba90-02fe994446b0\",\"type\":\"Selection\"},\"selection_policy\":{\"id\":\"9baa3ea8-4f65-4068-b734-d5c2b3abd44d\",\"type\":\"UnionRenderers\"}},\"id\":\"16393832-73f9-4842-a356-08187fbc1a6b\",\"type\":\"ColumnDataSource\"},{\"attributes\":{},\"id\":\"04a6cec9-43a5-49a6-9e2d-51445ce774e0\",\"type\":\"Selection\"},{\"attributes\":{\"items\":[{\"id\":\"7bd11ef5-2831-40cd-b0fe-ec19bed98ac9\",\"type\":\"LegendItem\"},{\"id\":\"0815327d-de29-4381-accc-9ec4e345cbde\",\"type\":\"LegendItem\"}],\"label_text_font_size\":{\"value\":\"8pt\"},\"location\":\"top_center\",\"orientation\":\"horizontal\",\"plot\":{\"id\":\"6a698e73-ff55-4c69-a10b-eb36df70c900\",\"subtype\":\"Figure\",\"type\":\"Plot\"}},\"id\":\"9fcfe180-e233-4876-aec2-2240b3da9318\",\"type\":\"Legend\"},{\"attributes\":{},\"id\":\"452c4e64-9226-43d8-99c4-4185284ce87a\",\"type\":\"Selection\"},{\"attributes\":{\"active_drag\":\"auto\",\"active_inspect\":\"auto\",\"active_scroll\":\"auto\",\"active_tap\":\"auto\",\"tools\":[{\"id\":\"fe78a1b1-ce40-4e1a-b730-bc50ff667cc7\",\"type\":\"PanTool\"},{\"id\":\"2c68a0d9-bfd0-4247-a089-9307d2bddbd3\",\"type\":\"WheelZoomTool\"},{\"id\":\"0935b9bd-e7c4-4da1-8e66-49cf5bb81caf\",\"type\":\"BoxZoomTool\"},{\"id\":\"810a8067-d1b2-463e-ad8c-cd86ef8f767b\",\"type\":\"SaveTool\"},{\"id\":\"7a983b4b-7c55-45c1-9a46-1d499bb51412\",\"type\":\"ResetTool\"},{\"id\":\"46700639-8dc0-4135-883d-7f166303b4bd\",\"type\":\"HelpTool\"}]},\"id\":\"6209d23a-b4d1-42a6-a975-e7dc1aae503b\",\"type\":\"Toolbar\"},{\"attributes\":{},\"id\":\"146db83e-9df2-4213-8c7e-b3e3089a3162\",\"type\":\"UnionRenderers\"},{\"attributes\":{},\"id\":\"470374b9-d178-44bb-be66-2776e5713c7e\",\"type\":\"Selection\"},{\"attributes\":{},\"id\":\"51d6f6e5-0a63-478c-9d5f-7bf02dcb0b83\",\"type\":\"BasicTickFormatter\"},{\"attributes\":{\"source\":{\"id\":\"c832102a-e1ac-4a18-b92d-3be587df69b3\",\"type\":\"ColumnDataSource\"}},\"id\":\"5db148eb-f41b-4624-9fb7-3396abfa163d\",\"type\":\"CDSView\"},{\"attributes\":{},\"id\":\"20db5862-51f5-4f14-bd8f-ef5a0464eeb1\",\"type\":\"UnionRenderers\"},{\"attributes\":{\"toolbar\":{\"id\":\"c8387416-6dea-4ff8-827f-325c44a7c4f8\",\"type\":\"ProxyToolbar\"},\"toolbar_location\":\"above\"},\"id\":\"fe90729c-ee9e-400a-94a9-24b75c82bc60\",\"type\":\"ToolbarBox\"},{\"attributes\":{\"tools\":[{\"id\":\"fe78a1b1-ce40-4e1a-b730-bc50ff667cc7\",\"type\":\"PanTool\"},{\"id\":\"2c68a0d9-bfd0-4247-a089-9307d2bddbd3\",\"type\":\"WheelZoomTool\"},{\"id\":\"0935b9bd-e7c4-4da1-8e66-49cf5bb81caf\",\"type\":\"BoxZoomTool\"},{\"id\":\"810a8067-d1b2-463e-ad8c-cd86ef8f767b\",\"type\":\"SaveTool\"},{\"id\":\"7a983b4b-7c55-45c1-9a46-1d499bb51412\",\"type\":\"ResetTool\"},{\"id\":\"46700639-8dc0-4135-883d-7f166303b4bd\",\"type\":\"HelpTool\"},{\"id\":\"93a3a202-64c8-4abb-bd24-8d31b411e652\",\"type\":\"PanTool\"},{\"id\":\"00f52e3f-2e63-493d-a548-cbaeca152de4\",\"type\":\"WheelZoomTool\"},{\"id\":\"a857b20d-269c-4d97-8c80-3d346024b9fd\",\"type\":\"BoxZoomTool\"},{\"id\":\"4c674c5a-66fa-489c-9316-f1f00fcc54df\",\"type\":\"SaveTool\"},{\"id\":\"05e35166-bf56-4a7c-bb2a-4e8cd583cb49\",\"type\":\"ResetTool\"},{\"id\":\"f4beb258-69af-4a43-a790-c000c4f81983\",\"type\":\"HelpTool\"},{\"id\":\"50072d72-ee21-40ea-9cfa-8093a3171be4\",\"type\":\"PanTool\"},{\"id\":\"0b7ab485-ef96-4d30-a663-4304e5e81dd3\",\"type\":\"WheelZoomTool\"},{\"id\":\"0b0d7657-6eba-48bb-b130-ed31d7b2e760\",\"type\":\"BoxZoomTool\"},{\"id\":\"ddd14704-c379-4c02-9f64-6527370a6173\",\"type\":\"SaveTool\"},{\"id\":\"7e80cc48-0a3d-4d92-af4f-c48b1294fd94\",\"type\":\"ResetTool\"},{\"id\":\"691625f1-7d24-4928-9d97-a57473636140\",\"type\":\"HelpTool\"}]},\"id\":\"c8387416-6dea-4ff8-827f-325c44a7c4f8\",\"type\":\"ProxyToolbar\"},{\"attributes\":{},\"id\":\"86b028bb-4400-4b21-9639-d4cceaf6e371\",\"type\":\"Selection\"},{\"attributes\":{},\"id\":\"9c149cc2-4348-42ef-881b-e0c111cb2c87\",\"type\":\"LinearScale\"},{\"attributes\":{\"children\":[{\"id\":\"fe90729c-ee9e-400a-94a9-24b75c82bc60\",\"type\":\"ToolbarBox\"},{\"id\":\"f0ec62ca-06a4-4f8d-af67-948cffe5ba96\",\"type\":\"Column\"}]},\"id\":\"23541d0e-0e7e-4b0e-b3d0-15503704e915\",\"type\":\"Column\"},{\"attributes\":{\"plot\":null,\"text\":\"\"},\"id\":\"2c7994c3-220f-43b7-b80e-9ab6d9314298\",\"type\":\"Title\"},{\"attributes\":{\"line_color\":\"#4daf4a\",\"line_width\":1.5,\"x\":{\"field\":\"x\"},\"y\":{\"field\":\"y\"}},\"id\":\"66dc6bbc-17db-4b49-b654-bd08cdd91a45\",\"type\":\"Line\"},{\"attributes\":{},\"id\":\"9baa3ea8-4f65-4068-b734-d5c2b3abd44d\",\"type\":\"UnionRenderers\"},{\"attributes\":{},\"id\":\"48c14799-8102-4090-ba90-02fe994446b0\",\"type\":\"Selection\"},{\"attributes\":{},\"id\":\"be86a6c9-b9e7-4376-ab83-9aa4bd16d266\",\"type\":\"LinearScale\"},{\"attributes\":{\"callback\":null,\"end\":0.03728994484361001,\"start\":-0.018898200558609985},\"id\":\"eba850b1-16da-4a0a-a172-e8b3a0f05dbe\",\"type\":\"Range1d\"},{\"attributes\":{\"plot\":{\"id\":\"6a698e73-ff55-4c69-a10b-eb36df70c900\",\"subtype\":\"Figure\",\"type\":\"Plot\"},\"ticker\":{\"id\":\"f1d039b2-99f7-4434-a964-c3629174533b\",\"type\":\"BasicTicker\"}},\"id\":\"5d0e723a-d50e-4a9f-8cb5-2ba2a2b9ac3c\",\"type\":\"Grid\"},{\"attributes\":{\"fill_alpha\":{\"value\":0.1},\"fill_color\":{\"value\":\"#1f77b4\"},\"line_alpha\":{\"value\":0.1},\"line_color\":{\"value\":\"#1f77b4\"},\"x\":{\"field\":\"x\"},\"y\":{\"field\":\"y\"}},\"id\":\"ff0a580b-01ba-43ec-baca-33bf22005456\",\"type\":\"Circle\"},{\"attributes\":{},\"id\":\"3fe41503-faac-4cae-8b1e-72c63ed8194b\",\"type\":\"LinearScale\"},{\"attributes\":{\"source\":{\"id\":\"1e88c3db-bb1d-46fb-a24f-68e6650b50f4\",\"type\":\"ColumnDataSource\"}},\"id\":\"0af56be8-9ff5-45d2-902b-68ed3f59bca5\",\"type\":\"CDSView\"},{\"attributes\":{},\"id\":\"2c68a0d9-bfd0-4247-a089-9307d2bddbd3\",\"type\":\"WheelZoomTool\"},{\"attributes\":{},\"id\":\"fe78a1b1-ce40-4e1a-b730-bc50ff667cc7\",\"type\":\"PanTool\"},{\"attributes\":{\"above\":[{\"id\":\"9fcfe180-e233-4876-aec2-2240b3da9318\",\"type\":\"Legend\"}],\"below\":[{\"id\":\"a8c9d5af-a48a-42dc-a7d1-b54811e4c042\",\"type\":\"LinearAxis\"}],\"left\":[{\"id\":\"b1ecd3c9-9cb9-460f-9494-86b88a423491\",\"type\":\"LinearAxis\"}],\"plot_width\":300,\"renderers\":[{\"id\":\"a8c9d5af-a48a-42dc-a7d1-b54811e4c042\",\"type\":\"LinearAxis\"},{\"id\":\"5d0e723a-d50e-4a9f-8cb5-2ba2a2b9ac3c\",\"type\":\"Grid\"},{\"id\":\"b1ecd3c9-9cb9-460f-9494-86b88a423491\",\"type\":\"LinearAxis\"},{\"id\":\"3d003322-0360-414d-9a24-a59247ead3b0\",\"type\":\"Grid\"},{\"id\":\"5b6201b3-af4b-46dd-9075-109e737e887d\",\"type\":\"BoxAnnotation\"},{\"id\":\"748cd91e-89e6-4809-909e-65e7135d0f49\",\"type\":\"GlyphRenderer\"},{\"id\":\"a4caf52e-6f72-440f-bc24-cc46722435c3\",\"type\":\"GlyphRenderer\"},{\"id\":\"0e89057c-102c-4084-b4e7-5c1b0b254c33\",\"type\":\"GlyphRenderer\"},{\"id\":\"9fcfe180-e233-4876-aec2-2240b3da9318\",\"type\":\"Legend\"}],\"title\":{\"id\":\"79ada69d-81e9-40e1-abad-851509e07e55\",\"type\":\"Title\"},\"toolbar\":{\"id\":\"6209d23a-b4d1-42a6-a975-e7dc1aae503b\",\"type\":\"Toolbar\"},\"toolbar_location\":null,\"x_range\":{\"id\":\"bf44e97b-01ed-4845-8d45-6ec9bd584489\",\"type\":\"Range1d\"},\"x_scale\":{\"id\":\"be86a6c9-b9e7-4376-ab83-9aa4bd16d266\",\"type\":\"LinearScale\"},\"y_range\":{\"id\":\"a3f32eea-66c3-4843-a6e5-242057e20eb2\",\"type\":\"Range1d\"},\"y_scale\":{\"id\":\"3fe41503-faac-4cae-8b1e-72c63ed8194b\",\"type\":\"LinearScale\"}},\"id\":\"6a698e73-ff55-4c69-a10b-eb36df70c900\",\"subtype\":\"Figure\",\"type\":\"Plot\"},{\"attributes\":{\"line_alpha\":0.6,\"line_color\":\"#e41a1c\",\"line_dash\":[6],\"line_width\":5,\"x\":{\"field\":\"x\"},\"y\":{\"field\":\"y\"}},\"id\":\"e35deee8-38a3-4da3-bdf1-8040bf73ca38\",\"type\":\"Line\"},{\"attributes\":{\"axis_label\":\"pressure [mb]\",\"formatter\":{\"id\":\"ca851d81-1df6-431b-bbf3-f17a03e26c9a\",\"type\":\"BasicTickFormatter\"},\"plot\":{\"id\":\"6a698e73-ff55-4c69-a10b-eb36df70c900\",\"subtype\":\"Figure\",\"type\":\"Plot\"},\"ticker\":{\"id\":\"0ce23d26-bd4f-4de1-8ee3-f9c01ca39898\",\"type\":\"BasicTicker\"}},\"id\":\"b1ecd3c9-9cb9-460f-9494-86b88a423491\",\"type\":\"LinearAxis\"},{\"attributes\":{},\"id\":\"f1d039b2-99f7-4434-a964-c3629174533b\",\"type\":\"BasicTicker\"},{\"attributes\":{\"dimension\":1,\"plot\":{\"id\":\"6a698e73-ff55-4c69-a10b-eb36df70c900\",\"subtype\":\"Figure\",\"type\":\"Plot\"},\"ticker\":{\"id\":\"0ce23d26-bd4f-4de1-8ee3-f9c01ca39898\",\"type\":\"BasicTicker\"}},\"id\":\"3d003322-0360-414d-9a24-a59247ead3b0\",\"type\":\"Grid\"}],\"root_ids\":[\"23541d0e-0e7e-4b0e-b3d0-15503704e915\"]},\"title\":\"Bokeh Application\",\"version\":\"0.12.16\"}};\n",
       "  var render_items = [{\"docid\":\"11764ea2-d800-42cb-ab24-26184fcc318f\",\"elementid\":\"64b3be38-8121-4a75-b423-9dadec22a834\",\"modelid\":\"23541d0e-0e7e-4b0e-b3d0-15503704e915\"}];\n",
       "  root.Bokeh.embed.embed_items_notebook(docs_json, render_items);\n",
       "\n",
       "  }\n",
       "  if (root.Bokeh !== undefined) {\n",
       "    embed_document(root);\n",
       "  } else {\n",
       "    var attempts = 0;\n",
       "    var timer = setInterval(function(root) {\n",
       "      if (root.Bokeh !== undefined) {\n",
       "        embed_document(root);\n",
       "        clearInterval(timer);\n",
       "      }\n",
       "      attempts++;\n",
       "      if (attempts > 100) {\n",
       "        console.log(\"Bokeh: ERROR: Unable to run BokehJS code because BokehJS library is missing\")\n",
       "        clearInterval(timer);\n",
       "      }\n",
       "    }, 10, root)\n",
       "  }\n",
       "})(window);"
      ],
      "application/vnd.bokehjs_exec.v0+json": ""
     },
     "metadata": {
      "application/vnd.bokehjs_exec.v0+json": {
       "id": "23541d0e-0e7e-4b0e-b3d0-15503704e915"
      }
     },
     "output_type": "display_data"
    },
    {
     "data": {
      "text/markdown": [
       "*FIGURE.* Cooling rates & difference."
      ],
      "text/plain": [
       "<IPython.core.display.Markdown object>"
      ]
     },
     "metadata": {},
     "output_type": "display_data"
    },
    {
     "data": {
      "text/html": [
       "<a id=\"Fluxes._trp.\"></a>"
      ],
      "text/plain": [
       "<IPython.core.display.HTML object>"
      ]
     },
     "metadata": {},
     "output_type": "display_data"
    },
    {
     "data": {
      "text/markdown": [
       "# Fluxes. trp."
      ],
      "text/plain": [
       "<IPython.core.display.Markdown object>"
      ]
     },
     "metadata": {},
     "output_type": "display_data"
    },
    {
     "data": {
      "text/html": [
       "\n",
       "<div class=\"bk-root\">\n",
       "    <div class=\"bk-plotdiv\" id=\"8a2492b3-e64c-42c0-af0d-650bf5653531\"></div>\n",
       "</div>"
      ]
     },
     "metadata": {},
     "output_type": "display_data"
    },
    {
     "data": {
      "application/javascript": [
       "(function(root) {\n",
       "  function embed_document(root) {\n",
       "    \n",
       "  var docs_json = {\"016ec997-9981-4d08-8938-1e04e0b92f47\":{\"roots\":{\"references\":[{\"attributes\":{\"fill_alpha\":{\"value\":0.1},\"fill_color\":{\"value\":\"#1f77b4\"},\"line_alpha\":{\"value\":0.1},\"line_color\":{\"value\":\"#1f77b4\"},\"top\":{\"field\":\"flux\"},\"width\":{\"value\":0.9},\"x\":{\"field\":\"band\"}},\"id\":\"dbfa096a-9c42-4bae-b580-417802cf86ae\",\"type\":\"VBar\"},{\"attributes\":{},\"id\":\"1464dd50-610e-476a-a4ce-4bdb7d20878e\",\"type\":\"BasicTickFormatter\"},{\"attributes\":{\"overlay\":{\"id\":\"8e38e6f0-8a0f-4696-842d-8e6d33fd6ff9\",\"type\":\"BoxAnnotation\"}},\"id\":\"072b0ea8-3c51-4fd1-a5ef-97bee65b7015\",\"type\":\"BoxZoomTool\"},{\"attributes\":{\"bottom_units\":\"screen\",\"fill_alpha\":{\"value\":0.5},\"fill_color\":{\"value\":\"lightgrey\"},\"left_units\":\"screen\",\"level\":\"overlay\",\"line_alpha\":{\"value\":1.0},\"line_color\":{\"value\":\"black\"},\"line_dash\":[4,4],\"line_width\":{\"value\":2},\"plot\":null,\"render_mode\":\"css\",\"right_units\":\"screen\",\"top_units\":\"screen\"},\"id\":\"015fb27b-a538-42d6-8a07-dc56176c2072\",\"type\":\"BoxAnnotation\"},{\"attributes\":{\"active_drag\":\"auto\",\"active_inspect\":\"auto\",\"active_scroll\":\"auto\",\"active_tap\":\"auto\",\"tools\":[{\"id\":\"55a9919b-fd4f-43b9-a624-07e7828ff4ec\",\"type\":\"PanTool\"},{\"id\":\"bd28385e-d32f-4559-9cfb-833a608e692a\",\"type\":\"WheelZoomTool\"},{\"id\":\"355eb77d-dbce-4c8b-8b75-88545dcd5dfe\",\"type\":\"BoxZoomTool\"},{\"id\":\"ad3a521f-2047-460a-b87d-db37890a492a\",\"type\":\"SaveTool\"},{\"id\":\"83392b64-dc73-47c6-85e4-dce2541e7871\",\"type\":\"ResetTool\"},{\"id\":\"0bdf1506-fc05-4896-8178-d267cbdde3d3\",\"type\":\"HelpTool\"}]},\"id\":\"c690de9b-f905-4ca8-a5c1-7cab8a916ab2\",\"type\":\"Toolbar\"},{\"attributes\":{},\"id\":\"e3258cbd-1f98-4441-8384-f1910f824f89\",\"type\":\"Selection\"},{\"attributes\":{},\"id\":\"3083154f-7586-47ac-b89c-4506e9f9d288\",\"type\":\"CategoricalTicker\"},{\"attributes\":{\"axis_label\":\"flux (W m-2)\",\"formatter\":{\"id\":\"1464dd50-610e-476a-a4ce-4bdb7d20878e\",\"type\":\"BasicTickFormatter\"},\"plot\":{\"id\":\"2c2ada49-2246-41b5-9a37-975e50524810\",\"subtype\":\"Figure\",\"type\":\"Plot\"},\"ticker\":{\"id\":\"06f164ae-ed14-4d3b-b429-4ff441e6915a\",\"type\":\"BasicTicker\"}},\"id\":\"7730fa02-8edf-4ea0-a234-519ee96da865\",\"type\":\"LinearAxis\"},{\"attributes\":{\"plot\":{\"id\":\"2c2ada49-2246-41b5-9a37-975e50524810\",\"subtype\":\"Figure\",\"type\":\"Plot\"},\"ticker\":{\"id\":\"3083154f-7586-47ac-b89c-4506e9f9d288\",\"type\":\"CategoricalTicker\"}},\"id\":\"11da8a1a-98aa-4df6-8f1e-60d83df3ffa1\",\"type\":\"Grid\"},{\"attributes\":{},\"id\":\"1b8cf94c-d2ca-441f-917d-2a8c668df666\",\"type\":\"UnionRenderers\"},{\"attributes\":{},\"id\":\"06f164ae-ed14-4d3b-b429-4ff441e6915a\",\"type\":\"BasicTicker\"},{\"attributes\":{\"dimension\":1,\"plot\":{\"id\":\"de4ce018-d13d-45ea-a91f-f5afcfd8d89b\",\"subtype\":\"Figure\",\"type\":\"Plot\"},\"ticker\":{\"id\":\"bbf7ba9e-c5d9-4cd6-8d5e-38589c35231f\",\"type\":\"BasicTicker\"}},\"id\":\"0f56e1f4-2c6a-40c8-843d-614f3b79a82d\",\"type\":\"Grid\"},{\"attributes\":{\"fill_color\":{\"value\":\"#1f77b4\"},\"line_color\":{\"value\":\"#1f77b4\"},\"top\":{\"field\":\"flux\"},\"width\":{\"value\":0.9},\"x\":{\"field\":\"band\"}},\"id\":\"bb0abec1-c07a-4379-a383-239472394e0d\",\"type\":\"VBar\"},{\"attributes\":{},\"id\":\"cb6809c8-37b7-45e4-90c6-dc5da391d446\",\"type\":\"BasicTickFormatter\"},{\"attributes\":{\"source\":{\"id\":\"a7b0108e-d671-407c-9393-7624f47afbbd\",\"type\":\"ColumnDataSource\"}},\"id\":\"5007f18e-ace9-42dc-b173-695c4291261e\",\"type\":\"CDSView\"},{\"attributes\":{},\"id\":\"a5a355a6-3f83-48d5-9cbe-b28526549e06\",\"type\":\"Selection\"},{\"attributes\":{},\"id\":\"dc416a37-2a2b-4de7-a8e3-d7cdd107d764\",\"type\":\"UnionRenderers\"},{\"attributes\":{\"bottom_units\":\"screen\",\"fill_alpha\":{\"value\":0.5},\"fill_color\":{\"value\":\"lightgrey\"},\"left_units\":\"screen\",\"level\":\"overlay\",\"line_alpha\":{\"value\":1.0},\"line_color\":{\"value\":\"black\"},\"line_dash\":[4,4],\"line_width\":{\"value\":2},\"plot\":null,\"render_mode\":\"css\",\"right_units\":\"screen\",\"top_units\":\"screen\"},\"id\":\"8e38e6f0-8a0f-4696-842d-8e6d33fd6ff9\",\"type\":\"BoxAnnotation\"},{\"attributes\":{},\"id\":\"76ef91ad-eab0-43c0-a637-acbdf04b0ad6\",\"type\":\"Selection\"},{\"attributes\":{},\"id\":\"aadee2f8-da71-47ae-8bae-83c1a2337abc\",\"type\":\"PanTool\"},{\"attributes\":{\"axis_label\":\"spectral band\",\"formatter\":{\"id\":\"4807d636-9a0e-448f-82ac-030b4c51be4b\",\"type\":\"CategoricalTickFormatter\"},\"plot\":{\"id\":\"2c2ada49-2246-41b5-9a37-975e50524810\",\"subtype\":\"Figure\",\"type\":\"Plot\"},\"ticker\":{\"id\":\"3083154f-7586-47ac-b89c-4506e9f9d288\",\"type\":\"CategoricalTicker\"}},\"id\":\"a1479af3-d96d-4d9c-afd4-c6073121b47c\",\"type\":\"CategoricalAxis\"},{\"attributes\":{\"axis_label\":\"flux (W m-2)\",\"formatter\":{\"id\":\"cb6809c8-37b7-45e4-90c6-dc5da391d446\",\"type\":\"BasicTickFormatter\"},\"plot\":{\"id\":\"904a0d72-5e70-4e16-a2d1-87ab5e839b40\",\"subtype\":\"Figure\",\"type\":\"Plot\"},\"ticker\":{\"id\":\"f7d70b24-5be4-4177-960c-5effa8266c71\",\"type\":\"BasicTicker\"}},\"id\":\"fd28ef56-4d37-4627-abd3-a66daa99c550\",\"type\":\"LinearAxis\"},{\"attributes\":{\"callback\":null,\"factors\":[\"9\"]},\"id\":\"b9cbaab7-0c6e-4c2f-956f-abe5cd2d05ea\",\"type\":\"FactorRange\"},{\"attributes\":{},\"id\":\"4807d636-9a0e-448f-82ac-030b4c51be4b\",\"type\":\"CategoricalTickFormatter\"},{\"attributes\":{\"plot\":null,\"text\":\"SFC flux. CLIRAD - CRD.\"},\"id\":\"5b88d665-7894-4a18-af1c-9fcfe30cb20e\",\"type\":\"Title\"},{\"attributes\":{},\"id\":\"bb0d62bd-bcdb-4415-adfe-98621611a619\",\"type\":\"WheelZoomTool\"},{\"attributes\":{\"data_source\":{\"id\":\"741fa6a3-6c57-423a-a6db-d4bfaaba9a6d\",\"type\":\"ColumnDataSource\"},\"glyph\":{\"id\":\"37342709-3a3c-4342-b5fa-84a5a7ad153a\",\"type\":\"VBar\"},\"hover_glyph\":null,\"muted_glyph\":null,\"nonselection_glyph\":{\"id\":\"dbfa096a-9c42-4bae-b580-417802cf86ae\",\"type\":\"VBar\"},\"selection_glyph\":null,\"view\":{\"id\":\"b4e4961d-1cb4-40bc-86c9-8b98ec30c27b\",\"type\":\"CDSView\"}},\"id\":\"d5257780-e402-48b9-b04c-4e0b1a9513bd\",\"type\":\"GlyphRenderer\"},{\"attributes\":{},\"id\":\"134cae19-78ae-400a-b36a-6bae33b0e627\",\"type\":\"PanTool\"},{\"attributes\":{},\"id\":\"45b2ff41-dd4c-4b5b-bd16-2bb27ace211a\",\"type\":\"CategoricalTickFormatter\"},{\"attributes\":{\"fill_color\":{\"value\":\"#1f77b4\"},\"line_color\":{\"value\":\"#1f77b4\"},\"top\":{\"field\":\"flux\"},\"width\":{\"value\":0.9},\"x\":{\"field\":\"band\"}},\"id\":\"37342709-3a3c-4342-b5fa-84a5a7ad153a\",\"type\":\"VBar\"},{\"attributes\":{\"dimension\":1,\"plot\":{\"id\":\"2c2ada49-2246-41b5-9a37-975e50524810\",\"subtype\":\"Figure\",\"type\":\"Plot\"},\"ticker\":{\"id\":\"06f164ae-ed14-4d3b-b429-4ff441e6915a\",\"type\":\"BasicTicker\"}},\"id\":\"e5538f98-0682-4672-a42b-1497bca0d739\",\"type\":\"Grid\"},{\"attributes\":{\"data_source\":{\"id\":\"a7b0108e-d671-407c-9393-7624f47afbbd\",\"type\":\"ColumnDataSource\"},\"glyph\":{\"id\":\"bb0abec1-c07a-4379-a383-239472394e0d\",\"type\":\"VBar\"},\"hover_glyph\":null,\"muted_glyph\":null,\"nonselection_glyph\":{\"id\":\"adafbd77-002f-4658-8f72-0fa494d8f2d6\",\"type\":\"VBar\"},\"selection_glyph\":null,\"view\":{\"id\":\"5007f18e-ace9-42dc-b173-695c4291261e\",\"type\":\"CDSView\"}},\"id\":\"05e9b19a-7eaf-44cf-8cc1-65b35ed8ab3c\",\"type\":\"GlyphRenderer\"},{\"attributes\":{},\"id\":\"8ecefec5-ba1b-4e69-bd78-e539c3155c61\",\"type\":\"WheelZoomTool\"},{\"attributes\":{},\"id\":\"1a055253-0ce4-46ab-8960-636e0fe03990\",\"type\":\"BasicTickFormatter\"},{\"attributes\":{},\"id\":\"ad3a521f-2047-460a-b87d-db37890a492a\",\"type\":\"SaveTool\"},{\"attributes\":{\"overlay\":{\"id\":\"015fb27b-a538-42d6-8a07-dc56176c2072\",\"type\":\"BoxAnnotation\"}},\"id\":\"a30cd2ea-85e6-454f-9566-9962028d38cf\",\"type\":\"BoxZoomTool\"},{\"attributes\":{},\"id\":\"6620d6f1-a8e8-4954-bac7-48b13cfa78b1\",\"type\":\"LinearScale\"},{\"attributes\":{},\"id\":\"de91e89b-6984-43bf-8082-01a4f568f39b\",\"type\":\"SaveTool\"},{\"attributes\":{},\"id\":\"f124da73-4ccd-4889-b1c3-f84d9d51c6fe\",\"type\":\"SaveTool\"},{\"attributes\":{},\"id\":\"bfbf21d5-9017-4b72-937a-f314627b8685\",\"type\":\"ResetTool\"},{\"attributes\":{},\"id\":\"18372781-1b22-46b5-972b-144298304736\",\"type\":\"ResetTool\"},{\"attributes\":{},\"id\":\"d3f1f06a-3f0f-49f1-95b1-6a9127bace5b\",\"type\":\"HelpTool\"},{\"attributes\":{},\"id\":\"74f14e5d-152f-4220-b322-4022240454fb\",\"type\":\"HelpTool\"},{\"attributes\":{\"axis_label\":\"spectral band\",\"formatter\":{\"id\":\"705610a7-328d-433a-a3b1-6b3b548ea183\",\"type\":\"CategoricalTickFormatter\"},\"plot\":{\"id\":\"de4ce018-d13d-45ea-a91f-f5afcfd8d89b\",\"subtype\":\"Figure\",\"type\":\"Plot\"},\"ticker\":{\"id\":\"6e4c96ef-b39d-47ed-b97d-242943088647\",\"type\":\"CategoricalTicker\"}},\"id\":\"a31823cb-c836-4dbd-971a-d6fb2313a0fa\",\"type\":\"CategoricalAxis\"},{\"attributes\":{},\"id\":\"b41c17e8-b337-4650-949e-800d6ac9f612\",\"type\":\"UnionRenderers\"},{\"attributes\":{\"below\":[{\"id\":\"a1479af3-d96d-4d9c-afd4-c6073121b47c\",\"type\":\"CategoricalAxis\"}],\"left\":[{\"id\":\"7730fa02-8edf-4ea0-a234-519ee96da865\",\"type\":\"LinearAxis\"}],\"plot_height\":300,\"plot_width\":300,\"renderers\":[{\"id\":\"a1479af3-d96d-4d9c-afd4-c6073121b47c\",\"type\":\"CategoricalAxis\"},{\"id\":\"11da8a1a-98aa-4df6-8f1e-60d83df3ffa1\",\"type\":\"Grid\"},{\"id\":\"7730fa02-8edf-4ea0-a234-519ee96da865\",\"type\":\"LinearAxis\"},{\"id\":\"e5538f98-0682-4672-a42b-1497bca0d739\",\"type\":\"Grid\"},{\"id\":\"8e38e6f0-8a0f-4696-842d-8e6d33fd6ff9\",\"type\":\"BoxAnnotation\"},{\"id\":\"d5257780-e402-48b9-b04c-4e0b1a9513bd\",\"type\":\"GlyphRenderer\"}],\"title\":{\"id\":\"47b23280-b005-4bd7-a17d-02d88b976b6c\",\"type\":\"Title\"},\"toolbar\":{\"id\":\"9f4ec5b8-c41a-4f63-b63c-a29e7f400a72\",\"type\":\"Toolbar\"},\"toolbar_location\":null,\"x_range\":{\"id\":\"2262954f-7e9d-4f14-a38d-b0c2dda87c22\",\"type\":\"FactorRange\"},\"x_scale\":{\"id\":\"abd16b9e-37be-472e-a246-8fa20d18c6c5\",\"type\":\"CategoricalScale\"},\"y_range\":{\"id\":\"9378a7e4-5c79-49e1-8e99-1f7743f8aa26\",\"type\":\"DataRange1d\"},\"y_scale\":{\"id\":\"6620d6f1-a8e8-4954-bac7-48b13cfa78b1\",\"type\":\"LinearScale\"}},\"id\":\"2c2ada49-2246-41b5-9a37-975e50524810\",\"subtype\":\"Figure\",\"type\":\"Plot\"},{\"attributes\":{},\"id\":\"705610a7-328d-433a-a3b1-6b3b548ea183\",\"type\":\"CategoricalTickFormatter\"},{\"attributes\":{\"source\":{\"id\":\"741fa6a3-6c57-423a-a6db-d4bfaaba9a6d\",\"type\":\"ColumnDataSource\"}},\"id\":\"b4e4961d-1cb4-40bc-86c9-8b98ec30c27b\",\"type\":\"CDSView\"},{\"attributes\":{\"dimension\":1,\"plot\":{\"id\":\"904a0d72-5e70-4e16-a2d1-87ab5e839b40\",\"subtype\":\"Figure\",\"type\":\"Plot\"},\"ticker\":{\"id\":\"f7d70b24-5be4-4177-960c-5effa8266c71\",\"type\":\"BasicTicker\"}},\"id\":\"74a16220-68fc-49ff-b429-a45d7b670421\",\"type\":\"Grid\"},{\"attributes\":{\"toolbar\":{\"id\":\"bc8b6694-9174-478c-bcf8-6ed506aba270\",\"type\":\"ProxyToolbar\"},\"toolbar_location\":\"above\"},\"id\":\"c4dc5e0b-982c-4334-bf1f-32c8662531da\",\"type\":\"ToolbarBox\"},{\"attributes\":{},\"id\":\"83392b64-dc73-47c6-85e4-dce2541e7871\",\"type\":\"ResetTool\"},{\"attributes\":{\"plot\":{\"id\":\"904a0d72-5e70-4e16-a2d1-87ab5e839b40\",\"subtype\":\"Figure\",\"type\":\"Plot\"},\"ticker\":{\"id\":\"251759aa-f10f-4484-a24e-8de5f63a7a72\",\"type\":\"CategoricalTicker\"}},\"id\":\"82ec06ac-5ab1-4b7f-90f8-787d9436ea44\",\"type\":\"Grid\"},{\"attributes\":{},\"id\":\"df3f7c96-676e-4afc-af0e-fd70fc68e55a\",\"type\":\"CategoricalScale\"},{\"attributes\":{},\"id\":\"0bdf1506-fc05-4896-8178-d267cbdde3d3\",\"type\":\"HelpTool\"},{\"attributes\":{},\"id\":\"bbf7ba9e-c5d9-4cd6-8d5e-38589c35231f\",\"type\":\"BasicTicker\"},{\"attributes\":{\"children\":[{\"id\":\"2c2ada49-2246-41b5-9a37-975e50524810\",\"subtype\":\"Figure\",\"type\":\"Plot\"},{\"id\":\"904a0d72-5e70-4e16-a2d1-87ab5e839b40\",\"subtype\":\"Figure\",\"type\":\"Plot\"},{\"id\":\"de4ce018-d13d-45ea-a91f-f5afcfd8d89b\",\"subtype\":\"Figure\",\"type\":\"Plot\"}]},\"id\":\"5072f1d3-9ebb-4096-9ba8-3657e3d36e3d\",\"type\":\"Row\"},{\"attributes\":{\"overlay\":{\"id\":\"8d6d4d4c-9743-44c8-ace9-bb09972f7cc3\",\"type\":\"BoxAnnotation\"}},\"id\":\"355eb77d-dbce-4c8b-8b75-88545dcd5dfe\",\"type\":\"BoxZoomTool\"},{\"attributes\":{\"callback\":null,\"data\":{\"band\":[\"9\"],\"flux\":{\"__ndarray__\":\"AEZc6X0voL8=\",\"dtype\":\"float64\",\"shape\":[1]}},\"selected\":{\"id\":\"76ef91ad-eab0-43c0-a637-acbdf04b0ad6\",\"type\":\"Selection\"},\"selection_policy\":{\"id\":\"b41c17e8-b337-4650-949e-800d6ac9f612\",\"type\":\"UnionRenderers\"}},\"id\":\"741fa6a3-6c57-423a-a6db-d4bfaaba9a6d\",\"type\":\"ColumnDataSource\"},{\"attributes\":{},\"id\":\"6d2e4370-e56c-46b2-88b5-3da4b3829282\",\"type\":\"LinearScale\"},{\"attributes\":{\"fill_alpha\":{\"value\":0.1},\"fill_color\":{\"value\":\"#1f77b4\"},\"line_alpha\":{\"value\":0.1},\"line_color\":{\"value\":\"#1f77b4\"},\"top\":{\"field\":\"flux\"},\"width\":{\"value\":0.9},\"x\":{\"field\":\"band\"}},\"id\":\"adafbd77-002f-4658-8f72-0fa494d8f2d6\",\"type\":\"VBar\"},{\"attributes\":{\"axis_label\":\"spectral band\",\"formatter\":{\"id\":\"45b2ff41-dd4c-4b5b-bd16-2bb27ace211a\",\"type\":\"CategoricalTickFormatter\"},\"plot\":{\"id\":\"904a0d72-5e70-4e16-a2d1-87ab5e839b40\",\"subtype\":\"Figure\",\"type\":\"Plot\"},\"ticker\":{\"id\":\"251759aa-f10f-4484-a24e-8de5f63a7a72\",\"type\":\"CategoricalTicker\"}},\"id\":\"9c41cd75-67cb-4f25-8e1f-0550f0b240f7\",\"type\":\"CategoricalAxis\"},{\"attributes\":{\"callback\":null},\"id\":\"0cc57f35-ae6e-4e20-a3fa-0e8dee75778b\",\"type\":\"DataRange1d\"},{\"attributes\":{\"plot\":null,\"text\":\"Atmosphere heating. CLIRAD - CRD.\"},\"id\":\"dd8647ad-dcd9-4982-9aba-55f8b5c9a453\",\"type\":\"Title\"},{\"attributes\":{},\"id\":\"251759aa-f10f-4484-a24e-8de5f63a7a72\",\"type\":\"CategoricalTicker\"},{\"attributes\":{\"active_drag\":\"auto\",\"active_inspect\":\"auto\",\"active_scroll\":\"auto\",\"active_tap\":\"auto\",\"tools\":[{\"id\":\"aadee2f8-da71-47ae-8bae-83c1a2337abc\",\"type\":\"PanTool\"},{\"id\":\"8ecefec5-ba1b-4e69-bd78-e539c3155c61\",\"type\":\"WheelZoomTool\"},{\"id\":\"a30cd2ea-85e6-454f-9566-9962028d38cf\",\"type\":\"BoxZoomTool\"},{\"id\":\"f124da73-4ccd-4889-b1c3-f84d9d51c6fe\",\"type\":\"SaveTool\"},{\"id\":\"18372781-1b22-46b5-972b-144298304736\",\"type\":\"ResetTool\"},{\"id\":\"74f14e5d-152f-4220-b322-4022240454fb\",\"type\":\"HelpTool\"}]},\"id\":\"d779b4b8-2c4e-4041-9154-68b8ab4630d1\",\"type\":\"Toolbar\"},{\"attributes\":{\"tools\":[{\"id\":\"134cae19-78ae-400a-b36a-6bae33b0e627\",\"type\":\"PanTool\"},{\"id\":\"bb0d62bd-bcdb-4415-adfe-98621611a619\",\"type\":\"WheelZoomTool\"},{\"id\":\"072b0ea8-3c51-4fd1-a5ef-97bee65b7015\",\"type\":\"BoxZoomTool\"},{\"id\":\"de91e89b-6984-43bf-8082-01a4f568f39b\",\"type\":\"SaveTool\"},{\"id\":\"bfbf21d5-9017-4b72-937a-f314627b8685\",\"type\":\"ResetTool\"},{\"id\":\"d3f1f06a-3f0f-49f1-95b1-6a9127bace5b\",\"type\":\"HelpTool\"},{\"id\":\"55a9919b-fd4f-43b9-a624-07e7828ff4ec\",\"type\":\"PanTool\"},{\"id\":\"bd28385e-d32f-4559-9cfb-833a608e692a\",\"type\":\"WheelZoomTool\"},{\"id\":\"355eb77d-dbce-4c8b-8b75-88545dcd5dfe\",\"type\":\"BoxZoomTool\"},{\"id\":\"ad3a521f-2047-460a-b87d-db37890a492a\",\"type\":\"SaveTool\"},{\"id\":\"83392b64-dc73-47c6-85e4-dce2541e7871\",\"type\":\"ResetTool\"},{\"id\":\"0bdf1506-fc05-4896-8178-d267cbdde3d3\",\"type\":\"HelpTool\"},{\"id\":\"aadee2f8-da71-47ae-8bae-83c1a2337abc\",\"type\":\"PanTool\"},{\"id\":\"8ecefec5-ba1b-4e69-bd78-e539c3155c61\",\"type\":\"WheelZoomTool\"},{\"id\":\"a30cd2ea-85e6-454f-9566-9962028d38cf\",\"type\":\"BoxZoomTool\"},{\"id\":\"f124da73-4ccd-4889-b1c3-f84d9d51c6fe\",\"type\":\"SaveTool\"},{\"id\":\"18372781-1b22-46b5-972b-144298304736\",\"type\":\"ResetTool\"},{\"id\":\"74f14e5d-152f-4220-b322-4022240454fb\",\"type\":\"HelpTool\"}]},\"id\":\"bc8b6694-9174-478c-bcf8-6ed506aba270\",\"type\":\"ProxyToolbar\"},{\"attributes\":{\"callback\":null,\"factors\":[\"9\"]},\"id\":\"9e0ea7ca-6b64-4a0e-baa7-69f819be0423\",\"type\":\"FactorRange\"},{\"attributes\":{\"bottom_units\":\"screen\",\"fill_alpha\":{\"value\":0.5},\"fill_color\":{\"value\":\"lightgrey\"},\"left_units\":\"screen\",\"level\":\"overlay\",\"line_alpha\":{\"value\":1.0},\"line_color\":{\"value\":\"black\"},\"line_dash\":[4,4],\"line_width\":{\"value\":2},\"plot\":null,\"render_mode\":\"css\",\"right_units\":\"screen\",\"top_units\":\"screen\"},\"id\":\"8d6d4d4c-9743-44c8-ace9-bb09972f7cc3\",\"type\":\"BoxAnnotation\"},{\"attributes\":{\"active_drag\":\"auto\",\"active_inspect\":\"auto\",\"active_scroll\":\"auto\",\"active_tap\":\"auto\",\"tools\":[{\"id\":\"134cae19-78ae-400a-b36a-6bae33b0e627\",\"type\":\"PanTool\"},{\"id\":\"bb0d62bd-bcdb-4415-adfe-98621611a619\",\"type\":\"WheelZoomTool\"},{\"id\":\"072b0ea8-3c51-4fd1-a5ef-97bee65b7015\",\"type\":\"BoxZoomTool\"},{\"id\":\"de91e89b-6984-43bf-8082-01a4f568f39b\",\"type\":\"SaveTool\"},{\"id\":\"bfbf21d5-9017-4b72-937a-f314627b8685\",\"type\":\"ResetTool\"},{\"id\":\"d3f1f06a-3f0f-49f1-95b1-6a9127bace5b\",\"type\":\"HelpTool\"}]},\"id\":\"9f4ec5b8-c41a-4f63-b63c-a29e7f400a72\",\"type\":\"Toolbar\"},{\"attributes\":{\"callback\":null},\"id\":\"4ba5e08a-9218-4c4b-8ac8-c236818c6fc8\",\"type\":\"DataRange1d\"},{\"attributes\":{\"callback\":null,\"data\":{\"band\":[\"9\"],\"flux\":{\"__ndarray__\":\"gOwAphHVzj8=\",\"dtype\":\"float64\",\"shape\":[1]}},\"selected\":{\"id\":\"a5a355a6-3f83-48d5-9cbe-b28526549e06\",\"type\":\"Selection\"},\"selection_policy\":{\"id\":\"1b8cf94c-d2ca-441f-917d-2a8c668df666\",\"type\":\"UnionRenderers\"}},\"id\":\"a7b0108e-d671-407c-9393-7624f47afbbd\",\"type\":\"ColumnDataSource\"},{\"attributes\":{\"axis_label\":\"flux (W m-2)\",\"formatter\":{\"id\":\"1a055253-0ce4-46ab-8960-636e0fe03990\",\"type\":\"BasicTickFormatter\"},\"plot\":{\"id\":\"de4ce018-d13d-45ea-a91f-f5afcfd8d89b\",\"subtype\":\"Figure\",\"type\":\"Plot\"},\"ticker\":{\"id\":\"bbf7ba9e-c5d9-4cd6-8d5e-38589c35231f\",\"type\":\"BasicTicker\"}},\"id\":\"8da38a15-72d8-4436-b957-17fb552ef740\",\"type\":\"LinearAxis\"},{\"attributes\":{},\"id\":\"a452e060-7ffc-4704-9881-c0126954a5f1\",\"type\":\"LinearScale\"},{\"attributes\":{\"fill_alpha\":{\"value\":0.1},\"fill_color\":{\"value\":\"#1f77b4\"},\"line_alpha\":{\"value\":0.1},\"line_color\":{\"value\":\"#1f77b4\"},\"top\":{\"field\":\"flux\"},\"width\":{\"value\":0.9},\"x\":{\"field\":\"band\"}},\"id\":\"ac276a0f-b2c1-46ef-bf4a-6324f6362054\",\"type\":\"VBar\"},{\"attributes\":{},\"id\":\"bd28385e-d32f-4559-9cfb-833a608e692a\",\"type\":\"WheelZoomTool\"},{\"attributes\":{\"data_source\":{\"id\":\"b4d6dd1b-7e29-4cc9-96f9-36300b6c22c9\",\"type\":\"ColumnDataSource\"},\"glyph\":{\"id\":\"da85cae2-7ffe-41ed-8c52-3d2825613d88\",\"type\":\"VBar\"},\"hover_glyph\":null,\"muted_glyph\":null,\"nonselection_glyph\":{\"id\":\"ac276a0f-b2c1-46ef-bf4a-6324f6362054\",\"type\":\"VBar\"},\"selection_glyph\":null,\"view\":{\"id\":\"5a4a8895-008b-4a24-ab36-ce216b988b30\",\"type\":\"CDSView\"}},\"id\":\"7a2867bf-f5fe-4b87-814e-549fd4b66635\",\"type\":\"GlyphRenderer\"},{\"attributes\":{},\"id\":\"55a9919b-fd4f-43b9-a624-07e7828ff4ec\",\"type\":\"PanTool\"},{\"attributes\":{\"children\":[{\"id\":\"c4dc5e0b-982c-4334-bf1f-32c8662531da\",\"type\":\"ToolbarBox\"},{\"id\":\"95210a82-bda5-45e3-a24a-4ed0a63323e5\",\"type\":\"Column\"}]},\"id\":\"b2159c16-11c5-409b-aa2b-89a3a600df29\",\"type\":\"Column\"},{\"attributes\":{},\"id\":\"f7d70b24-5be4-4177-960c-5effa8266c71\",\"type\":\"BasicTicker\"},{\"attributes\":{},\"id\":\"c4bbd36e-c5c5-4eb8-b332-43f169f0cff6\",\"type\":\"CategoricalScale\"},{\"attributes\":{\"fill_color\":{\"value\":\"#1f77b4\"},\"line_color\":{\"value\":\"#1f77b4\"},\"top\":{\"field\":\"flux\"},\"width\":{\"value\":0.9},\"x\":{\"field\":\"band\"}},\"id\":\"da85cae2-7ffe-41ed-8c52-3d2825613d88\",\"type\":\"VBar\"},{\"attributes\":{\"plot\":{\"id\":\"de4ce018-d13d-45ea-a91f-f5afcfd8d89b\",\"subtype\":\"Figure\",\"type\":\"Plot\"},\"ticker\":{\"id\":\"6e4c96ef-b39d-47ed-b97d-242943088647\",\"type\":\"CategoricalTicker\"}},\"id\":\"adaab505-9dd5-4912-99a3-f4b401c98b5e\",\"type\":\"Grid\"},{\"attributes\":{\"below\":[{\"id\":\"9c41cd75-67cb-4f25-8e1f-0550f0b240f7\",\"type\":\"CategoricalAxis\"}],\"left\":[{\"id\":\"fd28ef56-4d37-4627-abd3-a66daa99c550\",\"type\":\"LinearAxis\"}],\"plot_height\":300,\"plot_width\":300,\"renderers\":[{\"id\":\"9c41cd75-67cb-4f25-8e1f-0550f0b240f7\",\"type\":\"CategoricalAxis\"},{\"id\":\"82ec06ac-5ab1-4b7f-90f8-787d9436ea44\",\"type\":\"Grid\"},{\"id\":\"fd28ef56-4d37-4627-abd3-a66daa99c550\",\"type\":\"LinearAxis\"},{\"id\":\"74a16220-68fc-49ff-b429-a45d7b670421\",\"type\":\"Grid\"},{\"id\":\"8d6d4d4c-9743-44c8-ace9-bb09972f7cc3\",\"type\":\"BoxAnnotation\"},{\"id\":\"7a2867bf-f5fe-4b87-814e-549fd4b66635\",\"type\":\"GlyphRenderer\"}],\"title\":{\"id\":\"5b88d665-7894-4a18-af1c-9fcfe30cb20e\",\"type\":\"Title\"},\"toolbar\":{\"id\":\"c690de9b-f905-4ca8-a5c1-7cab8a916ab2\",\"type\":\"Toolbar\"},\"toolbar_location\":null,\"x_range\":{\"id\":\"b9cbaab7-0c6e-4c2f-956f-abe5cd2d05ea\",\"type\":\"FactorRange\"},\"x_scale\":{\"id\":\"df3f7c96-676e-4afc-af0e-fd70fc68e55a\",\"type\":\"CategoricalScale\"},\"y_range\":{\"id\":\"4ba5e08a-9218-4c4b-8ac8-c236818c6fc8\",\"type\":\"DataRange1d\"},\"y_scale\":{\"id\":\"a452e060-7ffc-4704-9881-c0126954a5f1\",\"type\":\"LinearScale\"}},\"id\":\"904a0d72-5e70-4e16-a2d1-87ab5e839b40\",\"subtype\":\"Figure\",\"type\":\"Plot\"},{\"attributes\":{\"callback\":null,\"factors\":[\"9\"]},\"id\":\"2262954f-7e9d-4f14-a38d-b0c2dda87c22\",\"type\":\"FactorRange\"},{\"attributes\":{\"below\":[{\"id\":\"a31823cb-c836-4dbd-971a-d6fb2313a0fa\",\"type\":\"CategoricalAxis\"}],\"left\":[{\"id\":\"8da38a15-72d8-4436-b957-17fb552ef740\",\"type\":\"LinearAxis\"}],\"plot_height\":300,\"plot_width\":300,\"renderers\":[{\"id\":\"a31823cb-c836-4dbd-971a-d6fb2313a0fa\",\"type\":\"CategoricalAxis\"},{\"id\":\"adaab505-9dd5-4912-99a3-f4b401c98b5e\",\"type\":\"Grid\"},{\"id\":\"8da38a15-72d8-4436-b957-17fb552ef740\",\"type\":\"LinearAxis\"},{\"id\":\"0f56e1f4-2c6a-40c8-843d-614f3b79a82d\",\"type\":\"Grid\"},{\"id\":\"015fb27b-a538-42d6-8a07-dc56176c2072\",\"type\":\"BoxAnnotation\"},{\"id\":\"05e9b19a-7eaf-44cf-8cc1-65b35ed8ab3c\",\"type\":\"GlyphRenderer\"}],\"title\":{\"id\":\"dd8647ad-dcd9-4982-9aba-55f8b5c9a453\",\"type\":\"Title\"},\"toolbar\":{\"id\":\"d779b4b8-2c4e-4041-9154-68b8ab4630d1\",\"type\":\"Toolbar\"},\"toolbar_location\":null,\"x_range\":{\"id\":\"9e0ea7ca-6b64-4a0e-baa7-69f819be0423\",\"type\":\"FactorRange\"},\"x_scale\":{\"id\":\"c4bbd36e-c5c5-4eb8-b332-43f169f0cff6\",\"type\":\"CategoricalScale\"},\"y_range\":{\"id\":\"0cc57f35-ae6e-4e20-a3fa-0e8dee75778b\",\"type\":\"DataRange1d\"},\"y_scale\":{\"id\":\"6d2e4370-e56c-46b2-88b5-3da4b3829282\",\"type\":\"LinearScale\"}},\"id\":\"de4ce018-d13d-45ea-a91f-f5afcfd8d89b\",\"subtype\":\"Figure\",\"type\":\"Plot\"},{\"attributes\":{\"children\":[{\"id\":\"5072f1d3-9ebb-4096-9ba8-3657e3d36e3d\",\"type\":\"Row\"}]},\"id\":\"95210a82-bda5-45e3-a24a-4ed0a63323e5\",\"type\":\"Column\"},{\"attributes\":{\"plot\":null,\"text\":\"TOA flux. CLIRAD - CRD.\"},\"id\":\"47b23280-b005-4bd7-a17d-02d88b976b6c\",\"type\":\"Title\"},{\"attributes\":{},\"id\":\"abd16b9e-37be-472e-a246-8fa20d18c6c5\",\"type\":\"CategoricalScale\"},{\"attributes\":{\"callback\":null},\"id\":\"9378a7e4-5c79-49e1-8e99-1f7743f8aa26\",\"type\":\"DataRange1d\"},{\"attributes\":{\"source\":{\"id\":\"b4d6dd1b-7e29-4cc9-96f9-36300b6c22c9\",\"type\":\"ColumnDataSource\"}},\"id\":\"5a4a8895-008b-4a24-ab36-ce216b988b30\",\"type\":\"CDSView\"},{\"attributes\":{\"callback\":null,\"data\":{\"band\":[\"9\"],\"flux\":{\"__ndarray__\":\"0JlrZmdw0b8=\",\"dtype\":\"float64\",\"shape\":[1]}},\"selected\":{\"id\":\"e3258cbd-1f98-4441-8384-f1910f824f89\",\"type\":\"Selection\"},\"selection_policy\":{\"id\":\"dc416a37-2a2b-4de7-a8e3-d7cdd107d764\",\"type\":\"UnionRenderers\"}},\"id\":\"b4d6dd1b-7e29-4cc9-96f9-36300b6c22c9\",\"type\":\"ColumnDataSource\"},{\"attributes\":{},\"id\":\"6e4c96ef-b39d-47ed-b97d-242943088647\",\"type\":\"CategoricalTicker\"}],\"root_ids\":[\"b2159c16-11c5-409b-aa2b-89a3a600df29\"]},\"title\":\"Bokeh Application\",\"version\":\"0.12.16\"}};\n",
       "  var render_items = [{\"docid\":\"016ec997-9981-4d08-8938-1e04e0b92f47\",\"elementid\":\"8a2492b3-e64c-42c0-af0d-650bf5653531\",\"modelid\":\"b2159c16-11c5-409b-aa2b-89a3a600df29\"}];\n",
       "  root.Bokeh.embed.embed_items_notebook(docs_json, render_items);\n",
       "\n",
       "  }\n",
       "  if (root.Bokeh !== undefined) {\n",
       "    embed_document(root);\n",
       "  } else {\n",
       "    var attempts = 0;\n",
       "    var timer = setInterval(function(root) {\n",
       "      if (root.Bokeh !== undefined) {\n",
       "        embed_document(root);\n",
       "        clearInterval(timer);\n",
       "      }\n",
       "      attempts++;\n",
       "      if (attempts > 100) {\n",
       "        console.log(\"Bokeh: ERROR: Unable to run BokehJS code because BokehJS library is missing\")\n",
       "        clearInterval(timer);\n",
       "      }\n",
       "    }, 10, root)\n",
       "  }\n",
       "})(window);"
      ],
      "application/vnd.bokehjs_exec.v0+json": ""
     },
     "metadata": {
      "application/vnd.bokehjs_exec.v0+json": {
       "id": "b2159c16-11c5-409b-aa2b-89a3a600df29"
      }
     },
     "output_type": "display_data"
    },
    {
     "data": {
      "text/markdown": [
       "*FIGURE.* Difference between CLIRAD and CRD in TOA, SFC and net atmosphere flux, in each spectral band."
      ],
      "text/plain": [
       "<IPython.core.display.Markdown object>"
      ]
     },
     "metadata": {},
     "output_type": "display_data"
    },
    {
     "data": {
      "text/html": [
       "<div>\n",
       "<style scoped>\n",
       "    .dataframe tbody tr th:only-of-type {\n",
       "        vertical-align: middle;\n",
       "    }\n",
       "\n",
       "    .dataframe tbody tr th {\n",
       "        vertical-align: top;\n",
       "    }\n",
       "\n",
       "    .dataframe thead th {\n",
       "        text-align: right;\n",
       "    }\n",
       "</style>\n",
       "<table border=\"1\" class=\"dataframe\">\n",
       "  <thead>\n",
       "    <tr style=\"text-align: right;\">\n",
       "      <th></th>\n",
       "      <th></th>\n",
       "      <th>TOA up</th>\n",
       "      <th>SFC down</th>\n",
       "      <th>ATM heating</th>\n",
       "      <th>tropo up</th>\n",
       "      <th>tropo down</th>\n",
       "      <th>tropo net</th>\n",
       "    </tr>\n",
       "  </thead>\n",
       "  <tbody>\n",
       "    <tr>\n",
       "      <th rowspan=\"2\" valign=\"top\">Sum over band</th>\n",
       "      <th>CLIRAD - CRD</th>\n",
       "      <td>-0.03</td>\n",
       "      <td>-0.27</td>\n",
       "      <td>0.24</td>\n",
       "      <td>-0.04</td>\n",
       "      <td>0.01</td>\n",
       "      <td>-0.04</td>\n",
       "    </tr>\n",
       "    <tr>\n",
       "      <th>CRD</th>\n",
       "      <td>-21.61</td>\n",
       "      <td>6.75</td>\n",
       "      <td>-1.40</td>\n",
       "      <td>-21.73</td>\n",
       "      <td>0.08</td>\n",
       "      <td>-21.65</td>\n",
       "    </tr>\n",
       "    <tr>\n",
       "      <th rowspan=\"2\" valign=\"top\">Band 9</th>\n",
       "      <th>CLIRAD - CRD</th>\n",
       "      <td>-0.03</td>\n",
       "      <td>-0.27</td>\n",
       "      <td>0.24</td>\n",
       "      <td>-0.04</td>\n",
       "      <td>0.01</td>\n",
       "      <td>-0.04</td>\n",
       "    </tr>\n",
       "    <tr>\n",
       "      <th>CRD</th>\n",
       "      <td>-21.61</td>\n",
       "      <td>6.75</td>\n",
       "      <td>-1.40</td>\n",
       "      <td>-21.73</td>\n",
       "      <td>0.08</td>\n",
       "      <td>-21.65</td>\n",
       "    </tr>\n",
       "  </tbody>\n",
       "</table>\n",
       "</div>"
      ],
      "text/plain": [
       "                            TOA up  SFC down  ATM heating  tropo up  \\\n",
       "Sum over band CLIRAD - CRD   -0.03     -0.27         0.24     -0.04   \n",
       "              CRD           -21.61      6.75        -1.40    -21.73   \n",
       "Band 9        CLIRAD - CRD   -0.03     -0.27         0.24     -0.04   \n",
       "              CRD           -21.61      6.75        -1.40    -21.73   \n",
       "\n",
       "                            tropo down  tropo net  \n",
       "Sum over band CLIRAD - CRD        0.01      -0.04  \n",
       "              CRD                 0.08     -21.65  \n",
       "Band 9        CLIRAD - CRD        0.01      -0.04  \n",
       "              CRD                 0.08     -21.65  "
      ]
     },
     "metadata": {},
     "output_type": "display_data"
    },
    {
     "data": {
      "text/markdown": [
       "*TABLE.* Difference between CLIRAD and CRD fluxes at various atmosphere levels."
      ],
      "text/plain": [
       "<IPython.core.display.Markdown object>"
      ]
     },
     "metadata": {},
     "output_type": "display_data"
    }
   ],
   "source": [
    "script()"
   ]
  },
  {
   "cell_type": "markdown",
   "metadata": {},
   "source": [
    "## --"
   ]
  },
  {
   "cell_type": "code",
   "execution_count": 56,
   "metadata": {},
   "outputs": [
    {
     "data": {
      "text/html": [
       "<script>\n",
       "code_show=true; \n",
       "function code_toggle() {\n",
       " if (code_show){\n",
       " $('div.input').hide();\n",
       " } else {\n",
       " $('div.input').show();\n",
       " }\n",
       " code_show = !code_show\n",
       "} \n",
       "$( document ).ready(code_toggle);\n",
       "</script>\n",
       "<form action=\"javascript:code_toggle()\"><input type=\"submit\" value=\"Click here to toggle on/off the raw code.\"></form>"
      ],
      "text/plain": [
       "<IPython.core.display.HTML object>"
      ]
     },
     "execution_count": 56,
     "metadata": {},
     "output_type": "execute_result"
    }
   ],
   "source": [
    "display.HTML('''<script>\n",
    "code_show=true; \n",
    "function code_toggle() {\n",
    " if (code_show){\n",
    " $('div.input').hide();\n",
    " } else {\n",
    " $('div.input').show();\n",
    " }\n",
    " code_show = !code_show\n",
    "} \n",
    "$( document ).ready(code_toggle);\n",
    "</script>\n",
    "<form action=\"javascript:code_toggle()\"><input type=\"submit\" value=\"Click here to toggle on/off the raw code.\"></form>''')"
   ]
  },
  {
   "cell_type": "code",
   "execution_count": null,
   "metadata": {
    "collapsed": true
   },
   "outputs": [],
   "source": []
  }
 ],
 "metadata": {
  "kernelspec": {
   "display_name": "Python 3",
   "language": "python",
   "name": "python3"
  },
  "language_info": {
   "codemirror_mode": {
    "name": "ipython",
    "version": 3
   },
   "file_extension": ".py",
   "mimetype": "text/x-python",
   "name": "python",
   "nbconvert_exporter": "python",
   "pygments_lexer": "ipython3",
   "version": "3.6.7"
  }
 },
 "nbformat": 4,
 "nbformat_minor": 2
}
