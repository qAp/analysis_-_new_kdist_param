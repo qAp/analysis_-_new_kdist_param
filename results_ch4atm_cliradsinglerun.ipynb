{
 "cells": [
  {
   "cell_type": "code",
   "execution_count": 1,
   "metadata": {
    "collapsed": true
   },
   "outputs": [],
   "source": [
    "%reload_ext autoreload\n",
    "%autoreload 2\n",
    "\n",
    "import os\n",
    "import io\n",
    "import ast\n",
    "import json\n",
    "import importlib \n",
    "import itertools\n",
    "import collections\n",
    "import pprint\n",
    "\n",
    "import pymongo\n",
    "\n",
    "from bokeh.io import output_notebook, show\n",
    "from bokeh.layouts import gridplot\n",
    "from bokeh.plotting import figure\n",
    "from bokeh.models import Range1d, Legend, ColumnDataSource, FactorRange\n",
    "from bokeh.palettes import all_palettes\n",
    "from bokeh.transform import factor_cmap\n",
    "\n",
    "import matplotlib\n",
    "import matplotlib.pyplot as plt\n",
    "import numpy as np\n",
    "import pandas as pd\n",
    "import xarray as xr\n",
    "\n",
    "from climatools.atm.absorbers import *\n",
    "\n",
    "import climatools.lblnew.bestfit_params as bestfits\n",
    "from climatools.lblnew import setup_bestfit, setup_overlap\n",
    "import climatools.lblnew.pipeline as pipe_lblnew\n",
    "\n",
    "from climatools.cliradlw.utils import *\n",
    "import climatools.cliradlw.setup as setup_cliradlw\n",
    "import climatools.cliradlw.pipeline as pipe_cliradlw\n",
    "from climatools.cliradlw.dataset import *\n",
    "\n",
    "import climatools.html.html as climahtml\n",
    "from climatools.lblnew.dataio import *\n",
    "from climatools.plot.plot import *\n",
    "\n",
    "from IPython import display"
   ]
  },
  {
   "cell_type": "code",
   "execution_count": 2,
   "metadata": {
    "scrolled": true
   },
   "outputs": [
    {
     "data": {
      "text/html": [
       "\n",
       "    <div class=\"bk-root\">\n",
       "        <a href=\"https://bokeh.pydata.org\" target=\"_blank\" class=\"bk-logo bk-logo-small bk-logo-notebook\"></a>\n",
       "        <span id=\"11f15e94-98aa-4613-a751-2a02d310cdbf\">Loading BokehJS ...</span>\n",
       "    </div>"
      ]
     },
     "metadata": {},
     "output_type": "display_data"
    },
    {
     "data": {
      "application/javascript": [
       "\n",
       "(function(root) {\n",
       "  function now() {\n",
       "    return new Date();\n",
       "  }\n",
       "\n",
       "  var force = true;\n",
       "\n",
       "  if (typeof (root._bokeh_onload_callbacks) === \"undefined\" || force === true) {\n",
       "    root._bokeh_onload_callbacks = [];\n",
       "    root._bokeh_is_loading = undefined;\n",
       "  }\n",
       "\n",
       "  var JS_MIME_TYPE = 'application/javascript';\n",
       "  var HTML_MIME_TYPE = 'text/html';\n",
       "  var EXEC_MIME_TYPE = 'application/vnd.bokehjs_exec.v0+json';\n",
       "  var CLASS_NAME = 'output_bokeh rendered_html';\n",
       "\n",
       "  /**\n",
       "   * Render data to the DOM node\n",
       "   */\n",
       "  function render(props, node) {\n",
       "    var script = document.createElement(\"script\");\n",
       "    node.appendChild(script);\n",
       "  }\n",
       "\n",
       "  /**\n",
       "   * Handle when an output is cleared or removed\n",
       "   */\n",
       "  function handleClearOutput(event, handle) {\n",
       "    var cell = handle.cell;\n",
       "\n",
       "    var id = cell.output_area._bokeh_element_id;\n",
       "    var server_id = cell.output_area._bokeh_server_id;\n",
       "    // Clean up Bokeh references\n",
       "    if (id !== undefined) {\n",
       "      Bokeh.index[id].model.document.clear();\n",
       "      delete Bokeh.index[id];\n",
       "    }\n",
       "\n",
       "    if (server_id !== undefined) {\n",
       "      // Clean up Bokeh references\n",
       "      var cmd = \"from bokeh.io.state import curstate; print(curstate().uuid_to_server['\" + server_id + \"'].get_sessions()[0].document.roots[0]._id)\";\n",
       "      cell.notebook.kernel.execute(cmd, {\n",
       "        iopub: {\n",
       "          output: function(msg) {\n",
       "            var element_id = msg.content.text.trim();\n",
       "            Bokeh.index[element_id].model.document.clear();\n",
       "            delete Bokeh.index[element_id];\n",
       "          }\n",
       "        }\n",
       "      });\n",
       "      // Destroy server and session\n",
       "      var cmd = \"import bokeh.io.notebook as ion; ion.destroy_server('\" + server_id + \"')\";\n",
       "      cell.notebook.kernel.execute(cmd);\n",
       "    }\n",
       "  }\n",
       "\n",
       "  /**\n",
       "   * Handle when a new output is added\n",
       "   */\n",
       "  function handleAddOutput(event, handle) {\n",
       "    var output_area = handle.output_area;\n",
       "    var output = handle.output;\n",
       "\n",
       "    // limit handleAddOutput to display_data with EXEC_MIME_TYPE content only\n",
       "    if ((output.output_type != \"display_data\") || (!output.data.hasOwnProperty(EXEC_MIME_TYPE))) {\n",
       "      return\n",
       "    }\n",
       "\n",
       "    var toinsert = output_area.element.find(\".\" + CLASS_NAME.split(' ')[0]);\n",
       "\n",
       "    if (output.metadata[EXEC_MIME_TYPE][\"id\"] !== undefined) {\n",
       "      toinsert[toinsert.length - 1].firstChild.textContent = output.data[JS_MIME_TYPE];\n",
       "      // store reference to embed id on output_area\n",
       "      output_area._bokeh_element_id = output.metadata[EXEC_MIME_TYPE][\"id\"];\n",
       "    }\n",
       "    if (output.metadata[EXEC_MIME_TYPE][\"server_id\"] !== undefined) {\n",
       "      var bk_div = document.createElement(\"div\");\n",
       "      bk_div.innerHTML = output.data[HTML_MIME_TYPE];\n",
       "      var script_attrs = bk_div.children[0].attributes;\n",
       "      for (var i = 0; i < script_attrs.length; i++) {\n",
       "        toinsert[toinsert.length - 1].firstChild.setAttribute(script_attrs[i].name, script_attrs[i].value);\n",
       "      }\n",
       "      // store reference to server id on output_area\n",
       "      output_area._bokeh_server_id = output.metadata[EXEC_MIME_TYPE][\"server_id\"];\n",
       "    }\n",
       "  }\n",
       "\n",
       "  function register_renderer(events, OutputArea) {\n",
       "\n",
       "    function append_mime(data, metadata, element) {\n",
       "      // create a DOM node to render to\n",
       "      var toinsert = this.create_output_subarea(\n",
       "        metadata,\n",
       "        CLASS_NAME,\n",
       "        EXEC_MIME_TYPE\n",
       "      );\n",
       "      this.keyboard_manager.register_events(toinsert);\n",
       "      // Render to node\n",
       "      var props = {data: data, metadata: metadata[EXEC_MIME_TYPE]};\n",
       "      render(props, toinsert[toinsert.length - 1]);\n",
       "      element.append(toinsert);\n",
       "      return toinsert\n",
       "    }\n",
       "\n",
       "    /* Handle when an output is cleared or removed */\n",
       "    events.on('clear_output.CodeCell', handleClearOutput);\n",
       "    events.on('delete.Cell', handleClearOutput);\n",
       "\n",
       "    /* Handle when a new output is added */\n",
       "    events.on('output_added.OutputArea', handleAddOutput);\n",
       "\n",
       "    /**\n",
       "     * Register the mime type and append_mime function with output_area\n",
       "     */\n",
       "    OutputArea.prototype.register_mime_type(EXEC_MIME_TYPE, append_mime, {\n",
       "      /* Is output safe? */\n",
       "      safe: true,\n",
       "      /* Index of renderer in `output_area.display_order` */\n",
       "      index: 0\n",
       "    });\n",
       "  }\n",
       "\n",
       "  // register the mime type if in Jupyter Notebook environment and previously unregistered\n",
       "  if (root.Jupyter !== undefined) {\n",
       "    var events = require('base/js/events');\n",
       "    var OutputArea = require('notebook/js/outputarea').OutputArea;\n",
       "\n",
       "    if (OutputArea.prototype.mime_types().indexOf(EXEC_MIME_TYPE) == -1) {\n",
       "      register_renderer(events, OutputArea);\n",
       "    }\n",
       "  }\n",
       "\n",
       "  \n",
       "  if (typeof (root._bokeh_timeout) === \"undefined\" || force === true) {\n",
       "    root._bokeh_timeout = Date.now() + 5000;\n",
       "    root._bokeh_failed_load = false;\n",
       "  }\n",
       "\n",
       "  var NB_LOAD_WARNING = {'data': {'text/html':\n",
       "     \"<div style='background-color: #fdd'>\\n\"+\n",
       "     \"<p>\\n\"+\n",
       "     \"BokehJS does not appear to have successfully loaded. If loading BokehJS from CDN, this \\n\"+\n",
       "     \"may be due to a slow or bad network connection. Possible fixes:\\n\"+\n",
       "     \"</p>\\n\"+\n",
       "     \"<ul>\\n\"+\n",
       "     \"<li>re-rerun `output_notebook()` to attempt to load from CDN again, or</li>\\n\"+\n",
       "     \"<li>use INLINE resources instead, as so:</li>\\n\"+\n",
       "     \"</ul>\\n\"+\n",
       "     \"<code>\\n\"+\n",
       "     \"from bokeh.resources import INLINE\\n\"+\n",
       "     \"output_notebook(resources=INLINE)\\n\"+\n",
       "     \"</code>\\n\"+\n",
       "     \"</div>\"}};\n",
       "\n",
       "  function display_loaded() {\n",
       "    var el = document.getElementById(\"11f15e94-98aa-4613-a751-2a02d310cdbf\");\n",
       "    if (el != null) {\n",
       "      el.textContent = \"BokehJS is loading...\";\n",
       "    }\n",
       "    if (root.Bokeh !== undefined) {\n",
       "      if (el != null) {\n",
       "        el.textContent = \"BokehJS \" + root.Bokeh.version + \" successfully loaded.\";\n",
       "      }\n",
       "    } else if (Date.now() < root._bokeh_timeout) {\n",
       "      setTimeout(display_loaded, 100)\n",
       "    }\n",
       "  }\n",
       "\n",
       "\n",
       "  function run_callbacks() {\n",
       "    try {\n",
       "      root._bokeh_onload_callbacks.forEach(function(callback) { callback() });\n",
       "    }\n",
       "    finally {\n",
       "      delete root._bokeh_onload_callbacks\n",
       "    }\n",
       "    console.info(\"Bokeh: all callbacks have finished\");\n",
       "  }\n",
       "\n",
       "  function load_libs(js_urls, callback) {\n",
       "    root._bokeh_onload_callbacks.push(callback);\n",
       "    if (root._bokeh_is_loading > 0) {\n",
       "      console.log(\"Bokeh: BokehJS is being loaded, scheduling callback at\", now());\n",
       "      return null;\n",
       "    }\n",
       "    if (js_urls == null || js_urls.length === 0) {\n",
       "      run_callbacks();\n",
       "      return null;\n",
       "    }\n",
       "    console.log(\"Bokeh: BokehJS not loaded, scheduling load and callback at\", now());\n",
       "    root._bokeh_is_loading = js_urls.length;\n",
       "    for (var i = 0; i < js_urls.length; i++) {\n",
       "      var url = js_urls[i];\n",
       "      var s = document.createElement('script');\n",
       "      s.src = url;\n",
       "      s.async = false;\n",
       "      s.onreadystatechange = s.onload = function() {\n",
       "        root._bokeh_is_loading--;\n",
       "        if (root._bokeh_is_loading === 0) {\n",
       "          console.log(\"Bokeh: all BokehJS libraries loaded\");\n",
       "          run_callbacks()\n",
       "        }\n",
       "      };\n",
       "      s.onerror = function() {\n",
       "        console.warn(\"failed to load library \" + url);\n",
       "      };\n",
       "      console.log(\"Bokeh: injecting script tag for BokehJS library: \", url);\n",
       "      document.getElementsByTagName(\"head\")[0].appendChild(s);\n",
       "    }\n",
       "  };var element = document.getElementById(\"11f15e94-98aa-4613-a751-2a02d310cdbf\");\n",
       "  if (element == null) {\n",
       "    console.log(\"Bokeh: ERROR: autoload.js configured with elementid '11f15e94-98aa-4613-a751-2a02d310cdbf' but no matching script tag was found. \")\n",
       "    return false;\n",
       "  }\n",
       "\n",
       "  var js_urls = [\"https://cdn.pydata.org/bokeh/release/bokeh-0.12.16.min.js\", \"https://cdn.pydata.org/bokeh/release/bokeh-widgets-0.12.16.min.js\", \"https://cdn.pydata.org/bokeh/release/bokeh-tables-0.12.16.min.js\", \"https://cdn.pydata.org/bokeh/release/bokeh-gl-0.12.16.min.js\"];\n",
       "\n",
       "  var inline_js = [\n",
       "    function(Bokeh) {\n",
       "      Bokeh.set_log_level(\"info\");\n",
       "    },\n",
       "    \n",
       "    function(Bokeh) {\n",
       "      \n",
       "    },\n",
       "    function(Bokeh) {\n",
       "      console.log(\"Bokeh: injecting CSS: https://cdn.pydata.org/bokeh/release/bokeh-0.12.16.min.css\");\n",
       "      Bokeh.embed.inject_css(\"https://cdn.pydata.org/bokeh/release/bokeh-0.12.16.min.css\");\n",
       "      console.log(\"Bokeh: injecting CSS: https://cdn.pydata.org/bokeh/release/bokeh-widgets-0.12.16.min.css\");\n",
       "      Bokeh.embed.inject_css(\"https://cdn.pydata.org/bokeh/release/bokeh-widgets-0.12.16.min.css\");\n",
       "      console.log(\"Bokeh: injecting CSS: https://cdn.pydata.org/bokeh/release/bokeh-tables-0.12.16.min.css\");\n",
       "      Bokeh.embed.inject_css(\"https://cdn.pydata.org/bokeh/release/bokeh-tables-0.12.16.min.css\");\n",
       "    }\n",
       "  ];\n",
       "\n",
       "  function run_inline_js() {\n",
       "    \n",
       "    if ((root.Bokeh !== undefined) || (force === true)) {\n",
       "      for (var i = 0; i < inline_js.length; i++) {\n",
       "        inline_js[i].call(root, root.Bokeh);\n",
       "      }if (force === true) {\n",
       "        display_loaded();\n",
       "      }} else if (Date.now() < root._bokeh_timeout) {\n",
       "      setTimeout(run_inline_js, 100);\n",
       "    } else if (!root._bokeh_failed_load) {\n",
       "      console.log(\"Bokeh: BokehJS failed to load within specified timeout.\");\n",
       "      root._bokeh_failed_load = true;\n",
       "    } else if (force !== true) {\n",
       "      var cell = $(document.getElementById(\"11f15e94-98aa-4613-a751-2a02d310cdbf\")).parents('.cell').data().cell;\n",
       "      cell.output_area.append_execute_result(NB_LOAD_WARNING)\n",
       "    }\n",
       "\n",
       "  }\n",
       "\n",
       "  if (root._bokeh_is_loading === 0) {\n",
       "    console.log(\"Bokeh: BokehJS loaded, going straight to plotting\");\n",
       "    run_inline_js();\n",
       "  } else {\n",
       "    load_libs(js_urls, function() {\n",
       "      console.log(\"Bokeh: BokehJS plotting callback run at\", now());\n",
       "      run_inline_js();\n",
       "    });\n",
       "  }\n",
       "}(window));"
      ],
      "application/vnd.bokehjs_load.v0+json": "\n(function(root) {\n  function now() {\n    return new Date();\n  }\n\n  var force = true;\n\n  if (typeof (root._bokeh_onload_callbacks) === \"undefined\" || force === true) {\n    root._bokeh_onload_callbacks = [];\n    root._bokeh_is_loading = undefined;\n  }\n\n  \n\n  \n  if (typeof (root._bokeh_timeout) === \"undefined\" || force === true) {\n    root._bokeh_timeout = Date.now() + 5000;\n    root._bokeh_failed_load = false;\n  }\n\n  var NB_LOAD_WARNING = {'data': {'text/html':\n     \"<div style='background-color: #fdd'>\\n\"+\n     \"<p>\\n\"+\n     \"BokehJS does not appear to have successfully loaded. If loading BokehJS from CDN, this \\n\"+\n     \"may be due to a slow or bad network connection. Possible fixes:\\n\"+\n     \"</p>\\n\"+\n     \"<ul>\\n\"+\n     \"<li>re-rerun `output_notebook()` to attempt to load from CDN again, or</li>\\n\"+\n     \"<li>use INLINE resources instead, as so:</li>\\n\"+\n     \"</ul>\\n\"+\n     \"<code>\\n\"+\n     \"from bokeh.resources import INLINE\\n\"+\n     \"output_notebook(resources=INLINE)\\n\"+\n     \"</code>\\n\"+\n     \"</div>\"}};\n\n  function display_loaded() {\n    var el = document.getElementById(\"11f15e94-98aa-4613-a751-2a02d310cdbf\");\n    if (el != null) {\n      el.textContent = \"BokehJS is loading...\";\n    }\n    if (root.Bokeh !== undefined) {\n      if (el != null) {\n        el.textContent = \"BokehJS \" + root.Bokeh.version + \" successfully loaded.\";\n      }\n    } else if (Date.now() < root._bokeh_timeout) {\n      setTimeout(display_loaded, 100)\n    }\n  }\n\n\n  function run_callbacks() {\n    try {\n      root._bokeh_onload_callbacks.forEach(function(callback) { callback() });\n    }\n    finally {\n      delete root._bokeh_onload_callbacks\n    }\n    console.info(\"Bokeh: all callbacks have finished\");\n  }\n\n  function load_libs(js_urls, callback) {\n    root._bokeh_onload_callbacks.push(callback);\n    if (root._bokeh_is_loading > 0) {\n      console.log(\"Bokeh: BokehJS is being loaded, scheduling callback at\", now());\n      return null;\n    }\n    if (js_urls == null || js_urls.length === 0) {\n      run_callbacks();\n      return null;\n    }\n    console.log(\"Bokeh: BokehJS not loaded, scheduling load and callback at\", now());\n    root._bokeh_is_loading = js_urls.length;\n    for (var i = 0; i < js_urls.length; i++) {\n      var url = js_urls[i];\n      var s = document.createElement('script');\n      s.src = url;\n      s.async = false;\n      s.onreadystatechange = s.onload = function() {\n        root._bokeh_is_loading--;\n        if (root._bokeh_is_loading === 0) {\n          console.log(\"Bokeh: all BokehJS libraries loaded\");\n          run_callbacks()\n        }\n      };\n      s.onerror = function() {\n        console.warn(\"failed to load library \" + url);\n      };\n      console.log(\"Bokeh: injecting script tag for BokehJS library: \", url);\n      document.getElementsByTagName(\"head\")[0].appendChild(s);\n    }\n  };var element = document.getElementById(\"11f15e94-98aa-4613-a751-2a02d310cdbf\");\n  if (element == null) {\n    console.log(\"Bokeh: ERROR: autoload.js configured with elementid '11f15e94-98aa-4613-a751-2a02d310cdbf' but no matching script tag was found. \")\n    return false;\n  }\n\n  var js_urls = [\"https://cdn.pydata.org/bokeh/release/bokeh-0.12.16.min.js\", \"https://cdn.pydata.org/bokeh/release/bokeh-widgets-0.12.16.min.js\", \"https://cdn.pydata.org/bokeh/release/bokeh-tables-0.12.16.min.js\", \"https://cdn.pydata.org/bokeh/release/bokeh-gl-0.12.16.min.js\"];\n\n  var inline_js = [\n    function(Bokeh) {\n      Bokeh.set_log_level(\"info\");\n    },\n    \n    function(Bokeh) {\n      \n    },\n    function(Bokeh) {\n      console.log(\"Bokeh: injecting CSS: https://cdn.pydata.org/bokeh/release/bokeh-0.12.16.min.css\");\n      Bokeh.embed.inject_css(\"https://cdn.pydata.org/bokeh/release/bokeh-0.12.16.min.css\");\n      console.log(\"Bokeh: injecting CSS: https://cdn.pydata.org/bokeh/release/bokeh-widgets-0.12.16.min.css\");\n      Bokeh.embed.inject_css(\"https://cdn.pydata.org/bokeh/release/bokeh-widgets-0.12.16.min.css\");\n      console.log(\"Bokeh: injecting CSS: https://cdn.pydata.org/bokeh/release/bokeh-tables-0.12.16.min.css\");\n      Bokeh.embed.inject_css(\"https://cdn.pydata.org/bokeh/release/bokeh-tables-0.12.16.min.css\");\n    }\n  ];\n\n  function run_inline_js() {\n    \n    if ((root.Bokeh !== undefined) || (force === true)) {\n      for (var i = 0; i < inline_js.length; i++) {\n        inline_js[i].call(root, root.Bokeh);\n      }if (force === true) {\n        display_loaded();\n      }} else if (Date.now() < root._bokeh_timeout) {\n      setTimeout(run_inline_js, 100);\n    } else if (!root._bokeh_failed_load) {\n      console.log(\"Bokeh: BokehJS failed to load within specified timeout.\");\n      root._bokeh_failed_load = true;\n    } else if (force !== true) {\n      var cell = $(document.getElementById(\"11f15e94-98aa-4613-a751-2a02d310cdbf\")).parents('.cell').data().cell;\n      cell.output_area.append_execute_result(NB_LOAD_WARNING)\n    }\n\n  }\n\n  if (root._bokeh_is_loading === 0) {\n    console.log(\"Bokeh: BokehJS loaded, going straight to plotting\");\n    run_inline_js();\n  } else {\n    load_libs(js_urls, function() {\n      console.log(\"Bokeh: BokehJS plotting callback run at\", now());\n      run_inline_js();\n    });\n  }\n}(window));"
     },
     "metadata": {},
     "output_type": "display_data"
    }
   ],
   "source": [
    "output_notebook()"
   ]
  },
  {
   "cell_type": "code",
   "execution_count": 3,
   "metadata": {
    "collapsed": true
   },
   "outputs": [],
   "source": [
    "MOL = 'ch4'"
   ]
  },
  {
   "cell_type": "code",
   "execution_count": 4,
   "metadata": {
    "collapsed": true
   },
   "outputs": [],
   "source": [
    "ATMPRO = dict(mls=294, saw=257, trp=300)"
   ]
  },
  {
   "cell_type": "code",
   "execution_count": 5,
   "metadata": {
    "collapsed": true
   },
   "outputs": [],
   "source": [
    "COMMITNUMBER = '1013f91'"
   ]
  },
  {
   "cell_type": "code",
   "execution_count": 6,
   "metadata": {
    "collapsed": true
   },
   "outputs": [],
   "source": [
    "client = pymongo.MongoClient('localhost', 27017)"
   ]
  },
  {
   "cell_type": "code",
   "execution_count": 7,
   "metadata": {
    "collapsed": true
   },
   "outputs": [],
   "source": [
    "def show_html(s):\n",
    "    display.display(display.HTML(s))\n",
    "\n",
    "def show_markdown(s):\n",
    "    display.display(display.Markdown(s))"
   ]
  },
  {
   "cell_type": "code",
   "execution_count": 8,
   "metadata": {
    "collapsed": true
   },
   "outputs": [],
   "source": [
    "def to_lblnewparam(param=None):\n",
    "    '''\n",
    "    Convert clirad's input parameter dictionary \n",
    "    into something like lblnew's.\n",
    "    '''\n",
    "    band = param['band'][0]\n",
    "    band = mapband_new2old()[band]\n",
    "    atmpro = param['atmpro']\n",
    "    tsfc = param['tsfc']\n",
    "    \n",
    "    p = {'band': band, \n",
    "         'atmpro': atmpro, 'tsfc': tsfc,\n",
    "         'dv': .001, 'nv': 1000}\n",
    "    \n",
    "    if len(param['molecule']) > 1: p['molecule'] = param['molecule']\n",
    "    else: \n",
    "        molecule, conc = list(param['molecule'].items())[0]\n",
    "        p['molecule'] = molecule\n",
    "        if conc == 'atmpro': p['conc'] = None\n",
    "        else: p['conc'] = conc\n",
    "    return p\n",
    "\n",
    "def make_query(param=None):\n",
    "    molecules = {'h2o', 'co2', 'o3', 'n2o', 'ch4'}\n",
    "    q = {}\n",
    "    for n, v in param.items():\n",
    "        if n == 'molecule' and type(v) == dict:\n",
    "            for mol, conc in v.items():\n",
    "                q[f'param.molecule.{mol}'] = conc\n",
    "            for mol in molecules - set(v.keys()):\n",
    "                q[f'param.molecule.{mol}'] = {'$exists': 0}\n",
    "        else:\n",
    "            q[f'param.{n}'] = v\n",
    "    return q"
   ]
  },
  {
   "cell_type": "code",
   "execution_count": 9,
   "metadata": {
    "collapsed": true
   },
   "outputs": [],
   "source": [
    "def subparam_atm_clirad(atmpro='mls'):\n",
    "    commitnumber = COMMITNUMBER\n",
    "    atm = nongreys_byband()\n",
    "    band = [band for band, molconcs in atm.items() if MOL in molconcs]\n",
    "    molecule = {mol: conc for _, molconcs in atm.items() \n",
    "                for mol, conc in molconcs.items() if mol == MOL}\n",
    "    return dict(commitnumber=commitnumber,\n",
    "                band=band, molecule=molecule, \n",
    "                atmpro=atmpro, tsfc=ATMPRO[atmpro])\n",
    "\n",
    "def clirad_data_atm(params_atm=None):\n",
    "    for p in params_atm:\n",
    "        q = make_query(p)\n",
    "        r = client.cliradnew.lw.find_one(q)\n",
    "        fluxs, cools = [], []\n",
    "        if not r: print('No data found for', p['molecule'], p['band'])\n",
    "        else: \n",
    "            fluxs.append(load_output_file(io.StringIO(r['output_flux'])))\n",
    "            cools.append(load_output_file(io.StringIO(r['output_coolr'])))\n",
    "    return dict(flux=sum(fluxs), cool=sum(cools))"
   ]
  },
  {
   "cell_type": "code",
   "execution_count": 10,
   "metadata": {
    "collapsed": true,
    "scrolled": false
   },
   "outputs": [],
   "source": [
    "def load_lblnew_data(r):\n",
    "    '''\n",
    "    Loads a lblnew-bestfit mongodb document's fluxes and cooling rates.\n",
    "    '''\n",
    "    if 'ng_refs' in r['param']:\n",
    "        ns = {'ds_flux_crd': 'output_flux',\n",
    "              'ds_cool_crd': 'output_coolr',\n",
    "              'ds_flux_wgt': 'output_wfluxg',\n",
    "              'ds_cool_wgt': 'output_wcoolrg'}\n",
    "    else:\n",
    "        ns = {'ds_flux_crd': 'output_flux',\n",
    "              'ds_cool_crd': 'output_coolr',\n",
    "              'ds_flux_wgt': 'output_wflux',\n",
    "              'ds_cool_wgt': 'output_wcoolr'}\n",
    "    return {n: load_output_file(io.StringIO(r[s])) for n, s in ns.items()}\n",
    "\n",
    "def subparams_atm_lblnew(atmpro='mls'):\n",
    "    '''\n",
    "    Returns the list of {band, conc, molecule} dictionaries that\n",
    "    represent the model atmosphere.\n",
    "    '''  \n",
    "    atm = nongreys_byband()\n",
    "    subparams_clirad = [dict(band=[band], \n",
    "                             molecule={mol: conc for mol, conc in molconc.items() if mol == MOL},\n",
    "                             atmpro=atmpro, tsfc=ATMPRO[atmpro]) \n",
    "                        for band, molconc in atm.items() if MOL in molconc]\n",
    "    return [to_lblnewparam(p) for p in subparams_clirad]\n",
    "\n",
    "def crd_data_atm(params_atm=None):\n",
    "    '''\n",
    "    Returns Dataset containing CRD fluxes and cooling rates at\n",
    "    different pressures and spectral bands.\n",
    "    '''\n",
    "    results_atm = {}\n",
    "    for p in params_atm:\n",
    "        if isinstance(p['molecule'], dict): \n",
    "            collection = client.lblnew.overlap_lw\n",
    "        else: \n",
    "            collection = client.lblnew.bestfit_lw\n",
    "        \n",
    "        q = make_query(p)\n",
    "        r = collection.find_one(q)\n",
    "        if not r: print('No data found for', p['molecule'], p['band'])\n",
    "        else: results_atm[r['param']['band']] = load_lblnew_data(r)\n",
    "\n",
    "    bands = [mapband_old2new()[b] for b, _ in results_atm.items()]\n",
    "    fluxs = [d['ds_flux_crd'] for _, d in results_atm.items()]\n",
    "    cools = [d['ds_cool_crd'] for _, d in results_atm.items()]\n",
    "    \n",
    "    d = {}\n",
    "    d['flux'] = xr.concat(fluxs, dim=bands).rename({'concat_dim': 'band'})\n",
    "    d['cool'] = xr.concat(cools, dim=bands).rename({'concat_dim': 'band'})\n",
    "    return d"
   ]
  },
  {
   "cell_type": "code",
   "execution_count": 11,
   "metadata": {
    "collapsed": true
   },
   "outputs": [],
   "source": [
    "import rtmtools.clirad.sw.wrangle as cliradwrangle\n",
    "\n",
    "def oldclirad_data_atm():\n",
    "    '''\n",
    "    Load the OLD clirad's results. mls only.\n",
    "    '''\n",
    "    fpath = os.path.join('/chia_cluster/home/jackyu/radiation',\n",
    "                         'clirad-lw',\n",
    "                         'LW',\n",
    "                         'examples',\n",
    "                         'mls75_h2o_atmpro_co2_.0004_o3_atmpro_n2o_3.2e-7_ch4_1.8e-6_H2012',\n",
    "                         'OUTPUT_CLIRAD.dat')\n",
    "    \n",
    "    ds = cliradwrangle.load_OUTPUT_CLIRAD(readfrom=fpath)\n",
    "    \n",
    "    ds_cool = xr.Dataset()\n",
    "    ds_cool.coords['pressure'] = ('pressure', ds['layer_pressure'])\n",
    "    ds_cool.coords['band'] = ('band', ds['spectral_band'])\n",
    "    ds_cool['coolrg'] = (('band', 'pressure'), - ds['heating_rate'])\n",
    "    \n",
    "    ds_flux = xr.Dataset()\n",
    "    ds_flux.coords['pressure'] = ('pressure', ds['level_pressure'])\n",
    "    ds_flux.coords['band'] = ('band', ds['spectral_band'])\n",
    "    ds_flux['flug'] = (('band', 'pressure'), ds['flux_up'])\n",
    "    ds_flux['fldg'] = (('band', 'pressure'), ds['flux_down'])\n",
    "    ds_flux['fnetg'] = (('band', 'pressure'), ds['net_flux'])\n",
    "    \n",
    "    \n",
    "    d = {}\n",
    "    d['cool'] = ds_cool\n",
    "    d['flux'] = ds_flux\n",
    "    return d"
   ]
  },
  {
   "cell_type": "code",
   "execution_count": 12,
   "metadata": {
    "collapsed": true
   },
   "outputs": [],
   "source": [
    "def show_makeup():\n",
    "    df = pd.DataFrame()\n",
    "\n",
    "    for band, molecule in nongreys_byband().items():\n",
    "        for name, conc in molecule.items():\n",
    "            if name == MOL:\n",
    "                df.loc[name, band] = str(conc)\n",
    "\n",
    "    df = df.fillna(0)\n",
    "    df.columns.name = 'clirad band'\n",
    "    df.index.name = 'molecule'\n",
    "    \n",
    "    display.display(df)\n",
    "    \n",
    "    display.display(\n",
    "        display.Markdown('*TABLE.* Non-grey absorbers in the atmosphere.'))\n",
    "\n",
    "\n",
    "def show_grey_makeup():\n",
    "    df = pd.DataFrame()\n",
    "    \n",
    "    for band, molecule in greyabsorbers_by_band_atm().items():\n",
    "        if molecule == None:\n",
    "            pass\n",
    "        else:\n",
    "            for name, conc in molecule.items():\n",
    "                df.loc[name, band] = str(conc)\n",
    "                \n",
    "    df = df.fillna(0)\n",
    "    df.columns.name = 'clirad band'\n",
    "    df.index.name = 'absorber'\n",
    "    \n",
    "    display.display(df)\n",
    "    display.display(\n",
    "        display.Markdown('*TABLE.* Grey absorbers in the atmosphere.')\n",
    "    )"
   ]
  },
  {
   "cell_type": "code",
   "execution_count": 13,
   "metadata": {
    "collapsed": true
   },
   "outputs": [],
   "source": [
    "def fmt_cool(ds_in):\n",
    "    ds = ds_in.copy(deep=True)\n",
    "    dims = ['igg', 'g', 'i']\n",
    "    for dim in dims:\n",
    "        if dim in ds:\n",
    "            if ds[dim].shape == (1,): ds = ds.squeeze(dim).drop(dim)\n",
    "            elif ds[dim].shape == (): ds = ds.drop(dim)\n",
    "    if 'band' in ds.dims:\n",
    "        try:\n",
    "            ds = ds.squeeze('band')\n",
    "        except ValueError:\n",
    "            ds = ds.sum('band')     \n",
    "    return ds['coolrg']\n",
    "\n",
    "def nice_xlims(pltdata=None, prange=None):\n",
    "    \n",
    "    def get_slice(srs):\n",
    "        return srs.sel(pressure=slice(*prange))\n",
    "    \n",
    "    srss = [d['srs'] for d in pltdata]\n",
    "    vmin = min([get_slice(srs).min() for srs in srss])\n",
    "    vmax = max([get_slice(srs).max() for srs in srss])\n",
    "    dv = (vmax - vmin) * .01\n",
    "    return float(vmin - dv), float(vmax + dv)\n",
    " \n",
    "def plt_cool_bokeh(pltdata=None, \n",
    "                   y_axis_type='linear', prange=(50, 1050)):\n",
    "    \n",
    "    ymin = 1e-2 \n",
    "    ymax = 1020\n",
    "    \n",
    "    p2 = figure(y_axis_type=y_axis_type, plot_width=300)\n",
    "    xmin, xmax = nice_xlims(pltdata, prange=prange)\n",
    "    \n",
    "    rs = []\n",
    "    for d in pltdata:\n",
    "        rd = []\n",
    "        if 'marker' in d:\n",
    "            r_mark = getattr(p2, d['marker'])(d['srs'].values, \n",
    "                        d['srs'].coords['pressure'].values,\n",
    "                        color=d['color'], alpha=.7)\n",
    "            rd.append(r_mark)\n",
    "        r_line = p2.line(d['srs'].values, \n",
    "                         d['srs'].coords['pressure'].values,\n",
    "                         color=d['color'], alpha=d['alpha'], \n",
    "                         line_width=d['line_width'], \n",
    "                         line_dash=d['line_dash'])\n",
    "        rd.append(r_line)\n",
    "      \n",
    "        rs.append(rd)\n",
    "        \n",
    "    p2.y_range = Range1d(ymax, ymin)  \n",
    "    p2.yaxis.axis_label = 'pressure [mb]'\n",
    "    \n",
    "    p2.x_range = Range1d(xmin, xmax)\n",
    "    p2.xaxis.axis_label = 'cooling rate [K/day]'\n",
    "    \n",
    "    items = [(d['label'], r) for r, d in zip(rs, pltdata)]\n",
    "    legend = Legend(items=items, location=(10, 0))\n",
    "    legend.label_text_font_size = '8pt'\n",
    "    p2.add_layout(legend, 'above')\n",
    "    p2.legend.orientation = 'horizontal'\n",
    "    p2.legend.location = 'top_center'\n",
    "    \n",
    "    return p2"
   ]
  },
  {
   "cell_type": "code",
   "execution_count": 14,
   "metadata": {
    "collapsed": true,
    "scrolled": false
   },
   "outputs": [],
   "source": [
    "def pltdata_cool(atmpro='mls'):\n",
    "    ds_clirad = clirad_data_atm(params_atm=[subparam_atm_clirad(atmpro=atmpro)])['cool']\n",
    "    ds_crd = crd_data_atm(params_atm=subparams_atm_lblnew(atmpro=atmpro))['cool']\n",
    "\n",
    "    colors = all_palettes['Set1'][4]\n",
    "    \n",
    "    data = [\n",
    "        {'label': 'CLIRAD',\n",
    "         'srs': fmt_cool(ds_clirad),\n",
    "         'line_dash': 'dashed', 'line_width': 5,\n",
    "         'color': colors[0], 'alpha': .6},\n",
    "        {'label': 'CRD',\n",
    "         'srs': fmt_cool(ds_crd),\n",
    "         'line_dash': 'solid', 'line_width': 1.5,\n",
    "         'marker': 'circle', 'marker_size': 5,\n",
    "         'color': colors[2], 'alpha': 1}\n",
    "    ]\n",
    "    \n",
    "    # include old CLIRAD's results for mls profile\n",
    "#    if atmpro == 'mls':\n",
    "#        d_oldclirad = oldclirad_data_atm()\n",
    "#        ds_oldclirad = d_oldclirad['cool']        \n",
    "#        data.append(\n",
    "#            {'label': 'old CLIRAD (H2012)',\n",
    "#             'srs': fmt_cool(ds_oldclirad),\n",
    "#             'line_dash': 'solid', 'line_width': 1.5,\n",
    "#             'marker': 'square', 'marker_size': 3,\n",
    "#             'color': colors[3], 'alpha': .5})\n",
    "    return data\n",
    "\n",
    "\n",
    "def pltdata_cooldiff(atmpro='mls'):\n",
    "    ds_clirad = clirad_data_atm(params_atm=[subparam_atm_clirad(atmpro=atmpro)])['cool']\n",
    "    ds_crd = crd_data_atm(params_atm=subparams_atm_lblnew(atmpro=atmpro))['cool']    \n",
    "    \n",
    "    ds_diff = ds_clirad - ds_crd\n",
    "    \n",
    "    colors = all_palettes['Set1'][4]\n",
    "    \n",
    "    data = [\n",
    "        {'label': 'CLIRAD - CRD',\n",
    "         'srs': fmt_cool(ds_diff),\n",
    "         'line_dash': 'solid', 'line_width': 1.5, \n",
    "         'marker': 'circle', 'marker_size': 7,\n",
    "         'color': colors[3], 'alpha': .8}\n",
    "    ]\n",
    "    \n",
    "    # include old CLIRAD's results for mls profile\n",
    "#    if atmpro == 'mls':\n",
    "#        d_oldclirad = oldclirad_data_atm()\n",
    "#        ds_oldclirad = d_oldclirad['cool']\n",
    "#        ds_oldclirad.coords['pressure'] = ds_crd.coords['pressure']\n",
    "#        ds_diff_old = ds_oldclirad.sum('band') - ds_crd.sum('band')\n",
    "#        data.append(\n",
    "#            {'label': 'old CLIRAD (H2012) - CRD',\n",
    "#             'srs': fmt_cool(ds_diff_old),\n",
    "#             'line_dash': 'dashed', 'line_width': 4,\n",
    "#             'color': colors[1], 'alpha': .5}\n",
    "#        )\n",
    "    return data\n",
    "\n",
    "\n",
    "def show_cool(atmpro='mls'):\n",
    "    data_cool = pltdata_cool(atmpro=atmpro)\n",
    "    p_cool_liny = plt_cool_bokeh(pltdata=data_cool)\n",
    "    p_cool_logy = plt_cool_bokeh(pltdata=data_cool, \n",
    "                                 y_axis_type='log',\n",
    "                                 prange=(.01, 200))\n",
    "    \n",
    "    data_cooldiff = pltdata_cooldiff(atmpro=atmpro)\n",
    "    p_cooldiff_logy = plt_cool_bokeh(pltdata=data_cooldiff,\n",
    "                                     y_axis_type='log',\n",
    "                                     prange=(.01, 200))\n",
    "    \n",
    "    everything = gridplot(p_cool_liny, p_cool_logy, \n",
    "                          p_cooldiff_logy,\n",
    "                          ncols=3)\n",
    "    show(everything)\n",
    "    display.display(\n",
    "        display.Markdown('*FIGURE.* Cooling rates & difference.'))\n",
    "    "
   ]
  },
  {
   "cell_type": "code",
   "execution_count": 15,
   "metadata": {
    "collapsed": true,
    "scrolled": false
   },
   "outputs": [],
   "source": [
    "def fmt_flux(ds_in):\n",
    "    ds = ds_in.copy(deep=True)\n",
    "    for dim in ['band', 'g']:\n",
    "        if dim in ds: ds = ds.sum(dim)\n",
    "        \n",
    "    for dim in ['i', 'igg', 'g']:\n",
    "        if dim in ds:\n",
    "            if ds[dim].shape == (1,): ds = ds.squeeze(dim).drop(dim)\n",
    "            elif ds[dim].shape == (): ds = ds.drop(dim)\n",
    "    return ds\n",
    "\n",
    "def hist_band_vs_flux(da, title='Title'):\n",
    "    da = da.sel(i=1)\n",
    "    bands = [str(b.values) for b in da['band']]\n",
    "    source = ColumnDataSource(data={'band': bands, 'flux': da.values})\n",
    "    p = figure(x_range=bands, title=title)\n",
    "    p.vbar(source=source, x='band', top='flux', width=.9)\n",
    "    p.yaxis.axis_label = 'flux (W m-2)'\n",
    "    p.xaxis.axis_label = 'spectral band'\n",
    "    return p\n",
    "\n",
    "def show_hist_flux(atmpro='mls'):\n",
    "    ds_crd = crd_data_atm(params_atm=subparams_atm_lblnew(atmpro=atmpro))['flux']\n",
    "    ds_clirad = clirad_data_atm(params_atm=[subparam_atm_clirad(atmpro=atmpro)])['flux']\n",
    "    \n",
    "    ip, varname = 0, 'flug'\n",
    "    da = (ds_clirad - ds_crd).isel(pressure=ip)[varname]\n",
    "    p_toa = hist_band_vs_flux(da, title='TOA flux. CLIRAD - CRD.')\n",
    "\n",
    "    ip, varname = -1, 'fldg'\n",
    "    da = (ds_clirad - ds_crd).isel(pressure=ip)[varname]\n",
    "    p_sfc = hist_band_vs_flux(da, title='SFC flux. CLIRAD - CRD.')    \n",
    "    \n",
    "    atm_crd = (ds_crd.isel(pressure=0) - ds_crd.isel(pressure=-1))['fnetg']\n",
    "    atm_clirad = (ds_clirad.isel(pressure=0) - ds_clirad.isel(pressure=-1))['fnetg']\n",
    "    da = atm_clirad - atm_crd\n",
    "    p_atm = hist_band_vs_flux(da, title='Atmosphere heating. CLIRAD - CRD.')\n",
    "\n",
    "    everything = gridplot(p_toa, p_sfc, p_atm, ncols=3, plot_width=300, plot_height=300)\n",
    "    \n",
    "    show(everything)\n",
    "    display.display(\n",
    "        display.Markdown('*FIGURE.* Difference between CLIRAD and CRD'\n",
    "          ' in TOA, SFC and net atmosphere flux,'\n",
    "          ' in each spectral band.'))\n",
    "\n",
    "def show_tb_flux(atmpro='mls'):\n",
    "    \n",
    "    def fmt(da_in):\n",
    "        da = da_in.copy(deep=True)\n",
    "        if 'igg' in da.dims:\n",
    "            da = da.sel(igg=1)\n",
    "            \n",
    "        if 'g' in da.dims:\n",
    "            da = da.sum('g')\n",
    "        \n",
    "        if 'band' in da.dims:\n",
    "            try:\n",
    "                da = da.squeeze('band')\n",
    "            except ValueError:\n",
    "                da = da.sum('band')\n",
    "                \n",
    "        return da\n",
    "    \n",
    "    ds_crd = crd_data_atm(params_atm=subparams_atm_lblnew(atmpro=atmpro))['flux']\n",
    "    olr_crd = ds_crd['flug'].isel(pressure=0)\n",
    "    sfc_crd = ds_crd['fldg'].isel(pressure=-1)\n",
    "    atm_crd = (ds_crd.isel(pressure=0) - ds_crd.isel(pressure=-1))['fnetg']\n",
    "    \n",
    "    ds_clirad = clirad_data_atm(params_atm=[subparam_atm_clirad(atmpro=atmpro)])['flux']\n",
    "    olr_clirad = ds_clirad['flug'].isel(pressure=0)\n",
    "    sfc_clirad = ds_clirad['fldg'].isel(pressure=-1)\n",
    "    atm_clirad = (ds_clirad.isel(pressure=0) - ds_clirad.isel(pressure=-1))['fnetg']\n",
    "    \n",
    "#    if atmpro == 'mls':\n",
    "#        ds_oldclirad = oldclirad_data_atm()['flux']\n",
    "#        ds_oldclirad['pressure'] = ds_crd['pressure']\n",
    "#        olr_oldclirad = ds_oldclirad['flug'].isel(pressure=0)\n",
    "#        sfc_oldclirad = ds_oldclirad['fldg'].isel(pressure=-1)\n",
    "#        atm_oldclirad = (ds_oldclirad.isel(pressure=0)\n",
    "#                         - ds_oldclirad.isel(pressure=-1))['fnetg']\n",
    "        \n",
    "    df = pd.DataFrame()\n",
    "    df.index.name = 'Sum over bands'\n",
    "    \n",
    "#    if atmpro == 'mls':\n",
    "#        df.loc['old CLIRAD - CRD', 'OLR flux'] = (fmt(olr_oldclirad) - fmt(olr_crd)).values\n",
    "#        df.loc['old CLIRAD - CRD', 'SFC flux'] = (fmt(sfc_oldclirad) - fmt(sfc_crd)).values\n",
    "#        df.loc['old CLIRAD - CRD', 'ATM heating'] = (fmt(atm_oldclirad) - fmt(atm_crd)).values\n",
    "    \n",
    "    df.loc['CLIRAD - CRD', 'OLR flux'] = (fmt(olr_clirad) - fmt(olr_crd)).values\n",
    "    df.loc['CLIRAD - CRD', 'SFC flux'] = (fmt(sfc_clirad) - fmt(sfc_crd)).values\n",
    "    df.loc['CLIRAD - CRD', 'ATM heating'] = (fmt(atm_clirad) - fmt(atm_crd)).values\n",
    "\n",
    "    df.loc['CRD', 'OLR flux'] = fmt(olr_crd).values\n",
    "    df.loc['CRD', 'SFC flux'] = fmt(sfc_crd).values\n",
    "    df.loc['CRD', 'ATM heating'] = fmt(atm_crd).values\n",
    "        \n",
    "    df = df.astype('float').round(2)\n",
    "    \n",
    "    display.display(df)\n",
    "    display.display(\n",
    "        display.Markdown('*TABLE.* Difference between CLIRAD and CRD'\n",
    "          ' in TOA, SFC and net atmosphere flux,'\n",
    "          ' over all spectral bands. CRD\\'s'\n",
    "          ' TOA, SFC and net atmosphere flux,'\n",
    "          ' over all spectral bands.'))"
   ]
  },
  {
   "cell_type": "code",
   "execution_count": 16,
   "metadata": {
    "collapsed": true,
    "scrolled": true
   },
   "outputs": [],
   "source": [
    "def cool_tofile(atmpro=None):\n",
    "    dcli = clirad_data_atm(params_atm=[subparam_atm_clirad(atmpro=atmpro)])\n",
    "    dcrd = crd_data_atm(params_atm=subparams_atm_lblnew(atmpro=atmpro))\n",
    "    \n",
    "    dcli = dcli['cool'].sel(i=1).drop('i').sum('band')\n",
    "    dcrd = dcrd['cool'].sum('band')\n",
    "    \n",
    "    dcli = dcli['coolrg'].to_dataframe()\n",
    "    dcrd = dcrd['coolrg'].to_dataframe()\n",
    "    \n",
    "    dcli = dcli.set_index('layer', append=True)\n",
    "    dcrd = dcrd.set_index('layer', append=True)\n",
    "    \n",
    "    ddif = dcli - dcrd\n",
    "    \n",
    "    df = pd.concat([dcrd, dcli, ddif], axis=1, keys=['CRD', 'CLIRAD', 'CLIRAD - CRD'])\n",
    "    return df\n",
    "\n",
    "\n",
    "def flux_tofile(atmpro=None):\n",
    "    tropopauses = {'mls': 40, 'saw': 45, 'trp': 37}\n",
    "    ilevels = [0, tropopauses[atmpro], -1]\n",
    "    \n",
    "    dcli = clirad_data_atm(params_atm=[subparam_atm_clirad(atmpro=atmpro)])\n",
    "    dcrd = crd_data_atm(params_atm=subparams_atm_lblnew(atmpro=atmpro))\n",
    "    \n",
    "    dcli = dcli['flux'].sel(i=1).drop('i').sum('band').isel(pressure=ilevels)\n",
    "    dcrd = dcrd['flux'].sum('band').isel(pressure=ilevels)\n",
    "    \n",
    "    dcli = dcli.to_dataframe()\n",
    "    dcrd = dcrd.to_dataframe()\n",
    "    \n",
    "    dcli = dcli.set_index('level', append=True)\n",
    "    dcrd = dcrd.set_index('level', append=True)\n",
    "    \n",
    "    ddif = dcli - dcrd\n",
    "    \n",
    "    df = pd.concat([dcrd, dcli, ddif], axis=1, keys=['CRD', 'CLIRAD', 'CLIRAD - CRD'])\n",
    "    return df\n",
    "\n",
    "\n",
    "def script_tofile():\n",
    "    fname = f'results_{MOL}atm_cliradsinglerun.xlsx'\n",
    "    writer = pd.ExcelWriter(fname)\n",
    "    for atmpro in ('mls', 'saw', 'trp'):\n",
    "        dflux = flux_tofile(atmpro=atmpro)\n",
    "        dflux.to_excel(writer, f'flux {atmpro}')\n",
    "        \n",
    "        dcool = cool_tofile(atmpro=atmpro)\n",
    "        dcool.to_excel(writer, f'cool {atmpro}')\n",
    "        \n",
    "    html = f'Download: <a href=\"./{fname}\">{fname}</a>'\n",
    "    show_html(html)\n",
    "\n",
    "        "
   ]
  },
  {
   "cell_type": "code",
   "execution_count": 17,
   "metadata": {
    "scrolled": false
   },
   "outputs": [
    {
     "data": {
      "text/markdown": [
       "## Results over entire range of molecules and spectral bands"
      ],
      "text/plain": [
       "<IPython.core.display.Markdown object>"
      ]
     },
     "metadata": {},
     "output_type": "display_data"
    },
    {
     "data": {
      "text/markdown": [
       "### Table of Contents"
      ],
      "text/plain": [
       "<IPython.core.display.Markdown object>"
      ]
     },
     "metadata": {},
     "output_type": "display_data"
    },
    {
     "data": {
      "text/html": [
       "<a href=\"#Makeup_of_atmosphere.\">Makeup of atmosphere.</a>"
      ],
      "text/plain": [
       "<IPython.core.display.HTML object>"
      ]
     },
     "metadata": {},
     "output_type": "display_data"
    },
    {
     "data": {
      "text/markdown": [
       "**mid-latitude summer**"
      ],
      "text/plain": [
       "<IPython.core.display.Markdown object>"
      ]
     },
     "metadata": {},
     "output_type": "display_data"
    },
    {
     "data": {
      "text/html": [
       "<a href=\"#Cooling_rates._mls.\">Cooling rates. mls.</a>"
      ],
      "text/plain": [
       "<IPython.core.display.HTML object>"
      ]
     },
     "metadata": {},
     "output_type": "display_data"
    },
    {
     "data": {
      "text/html": [
       "<a href=\"#Fluxes._mls.\">Fluxes. mls.</a>"
      ],
      "text/plain": [
       "<IPython.core.display.HTML object>"
      ]
     },
     "metadata": {},
     "output_type": "display_data"
    },
    {
     "data": {
      "text/markdown": [
       "**sub-arctic winter**"
      ],
      "text/plain": [
       "<IPython.core.display.Markdown object>"
      ]
     },
     "metadata": {},
     "output_type": "display_data"
    },
    {
     "data": {
      "text/html": [
       "<a href=\"#Cooling_rates._saw.\">Cooling rates. saw.</a>"
      ],
      "text/plain": [
       "<IPython.core.display.HTML object>"
      ]
     },
     "metadata": {},
     "output_type": "display_data"
    },
    {
     "data": {
      "text/html": [
       "<a href=\"#Fluxes._saw.\">Fluxes. saw.</a>"
      ],
      "text/plain": [
       "<IPython.core.display.HTML object>"
      ]
     },
     "metadata": {},
     "output_type": "display_data"
    },
    {
     "data": {
      "text/markdown": [
       "**tropical**"
      ],
      "text/plain": [
       "<IPython.core.display.Markdown object>"
      ]
     },
     "metadata": {},
     "output_type": "display_data"
    },
    {
     "data": {
      "text/html": [
       "<a href=\"#Cooling_rates._trp.\">Cooling rates. trp.</a>"
      ],
      "text/plain": [
       "<IPython.core.display.HTML object>"
      ]
     },
     "metadata": {},
     "output_type": "display_data"
    },
    {
     "data": {
      "text/html": [
       "<a href=\"#Fluxes._trp.\">Fluxes. trp.</a>"
      ],
      "text/plain": [
       "<IPython.core.display.HTML object>"
      ]
     },
     "metadata": {},
     "output_type": "display_data"
    },
    {
     "data": {
      "text/html": [
       "<a id=\"Makeup_of_atmosphere.\"></a>"
      ],
      "text/plain": [
       "<IPython.core.display.HTML object>"
      ]
     },
     "metadata": {},
     "output_type": "display_data"
    },
    {
     "data": {
      "text/markdown": [
       "# Makeup of atmosphere."
      ],
      "text/plain": [
       "<IPython.core.display.Markdown object>"
      ]
     },
     "metadata": {},
     "output_type": "display_data"
    },
    {
     "data": {
      "text/html": [
       "<div>\n",
       "<style scoped>\n",
       "    .dataframe tbody tr th:only-of-type {\n",
       "        vertical-align: middle;\n",
       "    }\n",
       "\n",
       "    .dataframe tbody tr th {\n",
       "        vertical-align: top;\n",
       "    }\n",
       "\n",
       "    .dataframe thead th {\n",
       "        text-align: right;\n",
       "    }\n",
       "</style>\n",
       "<table border=\"1\" class=\"dataframe\">\n",
       "  <thead>\n",
       "    <tr style=\"text-align: right;\">\n",
       "      <th>clirad band</th>\n",
       "      <th>9</th>\n",
       "    </tr>\n",
       "    <tr>\n",
       "      <th>molecule</th>\n",
       "      <th></th>\n",
       "    </tr>\n",
       "  </thead>\n",
       "  <tbody>\n",
       "    <tr>\n",
       "      <th>ch4</th>\n",
       "      <td>1.8e-06</td>\n",
       "    </tr>\n",
       "  </tbody>\n",
       "</table>\n",
       "</div>"
      ],
      "text/plain": [
       "clirad band        9\n",
       "molecule            \n",
       "ch4          1.8e-06"
      ]
     },
     "metadata": {},
     "output_type": "display_data"
    },
    {
     "data": {
      "text/markdown": [
       "*TABLE.* Non-grey absorbers in the atmosphere."
      ],
      "text/plain": [
       "<IPython.core.display.Markdown object>"
      ]
     },
     "metadata": {},
     "output_type": "display_data"
    },
    {
     "data": {
      "text/html": [
       "<a id=\"Cooling_rates._mls.\"></a>"
      ],
      "text/plain": [
       "<IPython.core.display.HTML object>"
      ]
     },
     "metadata": {},
     "output_type": "display_data"
    },
    {
     "data": {
      "text/markdown": [
       "# Cooling rates. mls."
      ],
      "text/plain": [
       "<IPython.core.display.Markdown object>"
      ]
     },
     "metadata": {},
     "output_type": "display_data"
    },
    {
     "data": {
      "text/html": [
       "\n",
       "<div class=\"bk-root\">\n",
       "    <div class=\"bk-plotdiv\" id=\"d5f982bb-f74e-4c91-9ea7-78dbbafc697d\"></div>\n",
       "</div>"
      ]
     },
     "metadata": {},
     "output_type": "display_data"
    },
    {
     "data": {
      "application/javascript": [
       "(function(root) {\n",
       "  function embed_document(root) {\n",
       "    \n",
       "  var docs_json = {\"4e57f9cb-1bc9-4815-9a2c-cff6c571f6dd\":{\"roots\":{\"references\":[{\"attributes\":{\"callback\":null,\"end\":0.01,\"start\":1020},\"id\":\"20fdc11b-e8fa-44e9-86e5-1972fa94b631\",\"type\":\"Range1d\"},{\"attributes\":{},\"id\":\"c97b97d8-1dd3-4c50-93c0-1a454c89ed11\",\"type\":\"ResetTool\"},{\"attributes\":{},\"id\":\"43c359c9-bdd7-434e-89cc-84d386720bb2\",\"type\":\"SaveTool\"},{\"attributes\":{\"bottom_units\":\"screen\",\"fill_alpha\":{\"value\":0.5},\"fill_color\":{\"value\":\"lightgrey\"},\"left_units\":\"screen\",\"level\":\"overlay\",\"line_alpha\":{\"value\":1.0},\"line_color\":{\"value\":\"black\"},\"line_dash\":[4,4],\"line_width\":{\"value\":2},\"plot\":null,\"render_mode\":\"css\",\"right_units\":\"screen\",\"top_units\":\"screen\"},\"id\":\"08b22d61-f94d-45e3-97f0-ba5d69df0e1f\",\"type\":\"BoxAnnotation\"},{\"attributes\":{\"plot\":{\"id\":\"74e5bc49-f906-4e59-b3e0-bd86f2ea362e\",\"subtype\":\"Figure\",\"type\":\"Plot\"},\"ticker\":{\"id\":\"d41d9710-864a-4657-874c-b28caa30c42b\",\"type\":\"BasicTicker\"}},\"id\":\"dc818325-7983-467b-b9b6-8b9fe9407551\",\"type\":\"Grid\"},{\"attributes\":{\"ticker\":null},\"id\":\"5630b4e2-bffe-4c00-82c3-c9be250dcbca\",\"type\":\"LogTickFormatter\"},{\"attributes\":{},\"id\":\"07cb4c2a-86ea-42dc-9f39-23b878df4c5e\",\"type\":\"HelpTool\"},{\"attributes\":{\"above\":[{\"id\":\"fca3f317-cea6-4a09-8968-21738d919a29\",\"type\":\"Legend\"}],\"below\":[{\"id\":\"70219856-3d04-49c0-b46b-0c2e7fc9acf2\",\"type\":\"LinearAxis\"}],\"left\":[{\"id\":\"7a8d386d-310c-4541-a1c7-9d487e83613f\",\"type\":\"LogAxis\"}],\"plot_width\":300,\"renderers\":[{\"id\":\"70219856-3d04-49c0-b46b-0c2e7fc9acf2\",\"type\":\"LinearAxis\"},{\"id\":\"c12c6933-2fa8-4d82-9db4-c25003d28c04\",\"type\":\"Grid\"},{\"id\":\"7a8d386d-310c-4541-a1c7-9d487e83613f\",\"type\":\"LogAxis\"},{\"id\":\"9b58fec7-f569-46a7-8a8f-28834d9c66cd\",\"type\":\"Grid\"},{\"id\":\"08b22d61-f94d-45e3-97f0-ba5d69df0e1f\",\"type\":\"BoxAnnotation\"},{\"id\":\"92f8a0d3-f051-471d-b4e8-0588a791f432\",\"type\":\"GlyphRenderer\"},{\"id\":\"3d84d4aa-2de9-4237-b0ba-aa983ec73e5f\",\"type\":\"GlyphRenderer\"},{\"id\":\"fca3f317-cea6-4a09-8968-21738d919a29\",\"type\":\"Legend\"}],\"title\":{\"id\":\"e8c32deb-3e6f-47f8-b366-d952fe2e1648\",\"type\":\"Title\"},\"toolbar\":{\"id\":\"cae23a46-acdd-4a93-97f1-db67f35b02a4\",\"type\":\"Toolbar\"},\"toolbar_location\":null,\"x_range\":{\"id\":\"b87e5476-8f2c-463d-bcbc-5eceeff8f5df\",\"type\":\"Range1d\"},\"x_scale\":{\"id\":\"2a19d74c-2390-4bbf-ad19-6c968971f3f0\",\"type\":\"LinearScale\"},\"y_range\":{\"id\":\"20fdc11b-e8fa-44e9-86e5-1972fa94b631\",\"type\":\"Range1d\"},\"y_scale\":{\"id\":\"e0e26cdc-4b6d-479e-a17b-6c6909c34964\",\"type\":\"LogScale\"}},\"id\":\"4fe6c8ce-537f-443a-9ad1-cf59fd72b853\",\"subtype\":\"Figure\",\"type\":\"Plot\"},{\"attributes\":{\"line_alpha\":0.1,\"line_color\":\"#1f77b4\",\"line_dash\":[6],\"line_width\":5,\"x\":{\"field\":\"x\"},\"y\":{\"field\":\"y\"}},\"id\":\"dc79fcca-b994-4cfb-b1b9-499851b0e8a7\",\"type\":\"Line\"},{\"attributes\":{},\"id\":\"a9398784-0c95-4d9e-b65d-d370c79fd0f6\",\"type\":\"HelpTool\"},{\"attributes\":{},\"id\":\"5001e6ee-625e-44c9-9c23-92a5348022d0\",\"type\":\"SaveTool\"},{\"attributes\":{\"callback\":null,\"data\":{\"x\":{\"__ndarray__\":\"CPKnHk0bsL+cG8bpk/ivv68qd3Zkcq+/1CGnF8vgrr+Mmuc87lGuv2J2TGaHu62/kD7ydqAorb/hb+FkDo6sv9ADlJCM+Ku/Y62pRadbq7/rVatJzMCqv6ErxRm5Kqq/qUgbzeWUqb9fp/bBsP6ovyMbh3ve7aa/7Qt2MFN0oL+hRIPIrT+Fvyd/nNWnwZE/L/eUX7Biqj+Ua8OO6ue3P8jmT8Abd8I/+lzx/aI+yj9dFMEo1qPQP5mwBdbUptA/Oipx/NShyj9ykOdl2h/DP8WfzDLQJLk/7tFnfGnOrT/t4mObRwqgP66TAiT9apA/SnnmU3JPgT8PY2+1kHh0PzB3R3Uj9G8/IjGnpgkEZj9dixMx/lxRv3kCxfY45ny/Uw/Evgziib9R7NO37feRv8h3O1iFIZi/IK3HA+VEnr+W10J35nGgv8FQo2qds5+/QnEgVESunb87SVU7DKubv2uLquBpkpm/Th7XBQpcl79+B4OO/fyUv2MEqDcQg5K/ELJ4Jj67j7+7ioCbqTaKv61+b0qun4S/ExxsqNc4fr+KYSZReBdzv4tr4+RKcWC/dNVa5l0GRj+Q9fdC315sPwuE7BZrOno/1qYYfGZ9gz+BLC3rSkCKP3iUfWnnupA/2RiFbkCVlD9OQNm1OaWYPwRhwPXVE50/p3jq/qLloD9RktsaBGKjP6vH/CpgBaY/VaGQg2OtqD9ct+V84TCrP5PWJOfgc60/AFTUDdJbrz8H7ctV0I2wPxMwSmh8c7E/76SS9Sxssj/BIRz/eo+zP1qxPmyJ37Q/\",\"dtype\":\"float64\",\"shape\":[75]},\"y\":{\"__ndarray__\":\"GhExyth1ND/Sv8nbtpRIP2vylNV0PVE/aTum7souWD/At0SJ8fVgPw3Iuahxymc/MSNhhJWvcD/bTfBN02d3P2zb5nxnaoA/CD5h5MAGhz8NmeH1TyaQP+zrCsc9p5Y/LbKd76fGnz/bLW5ISEmmPww9YvTcQq8/JV2OstnstT8Er5Y7M8G+P0c+r3jqkcU/5h99k6ZBzj88bCIzFzjVP4enV8oyxN0//yH99nXg5D8qOpLLf0jtP5kqGJXUifQ/c9cS8kHP/D+/DpwzojQEQIEmwoanVwxA4lgXt9HgE0BSSZ2AJuIbQAMJih9jjiNA5q4l5INuK0AwTKYKRj0zQNv5fmq8/DpAaCJseHrtQkB/+zpwzoxKQM3MzMzMeFJAZmZmZmZqWEAAAAAAAFxeQM3MzMzMJmJAmpmZmZkfZUBmZmZmZhhoQDMzMzMzEWtAAAAAAAAKbkBmZmZmZoFwQM3MzMzM/XFAMzMzMzN6c0CamZmZmfZ0QAAAAAAAc3ZAZmZmZmbvd0DNzMzMzGt5QDMzMzMz6HpAmpmZmZlkfEAAAAAAAOF9QGZmZmZmXX9AZmZmZuZsgECamZmZGSuBQM3MzMxM6YFAAAAAAICngkAzMzMzs2WDQGZmZmbmI4RAmpmZmRnihEDNzMzMTKCFQAAAAACAXoZAMzMzM7Mch0BmZmZm5tqHQJqZmZkZmYhAzczMzExXiUAAAAAAgBWKQDMzMzOz04pAZmZmZuaRi0CamZmZGVCMQM3MzMxMDo1AAAAAAIDMjUAzMzMzs4qOQGZmZmbmSI9A\",\"dtype\":\"float64\",\"shape\":[75]}},\"selected\":{\"id\":\"7eeb1eef-40b7-44f5-b197-b12031b97408\",\"type\":\"Selection\"},\"selection_policy\":{\"id\":\"0f4b2396-fee8-490d-93ee-6c1e731da509\",\"type\":\"UnionRenderers\"}},\"id\":\"80730864-ae51-4071-b43f-85c384bf8668\",\"type\":\"ColumnDataSource\"},{\"attributes\":{\"callback\":null,\"end\":0.01,\"start\":1020},\"id\":\"9af71cc4-786e-483a-becc-5ee0ec7d8724\",\"type\":\"Range1d\"},{\"attributes\":{},\"id\":\"6fbbad43-7d62-4d2c-a95e-306015ed6d5c\",\"type\":\"BasicTickFormatter\"},{\"attributes\":{\"callback\":null,\"data\":{\"x\":{\"__ndarray__\":\"qIa5gVunpD9UKbWYUYykP5XKBJF/RaQ/BlvnPaD8oz/yUZ8USLGjP57FtU4acqM/uJFFqaM0oz+LMaNk4QejPyrZQnQu46I/3d0cEQDaoj832rPfweyiPwGatdJzJKM/N1PDrIeXoz+3L1PSRFGkP88f5AaNqqQ/PeqHj4oqoz+QRsbpcuqfP97rrjCgvpg/CvTLWBsAkT8oJqZzlG+BPwBUCOQSRy6/4FD/k55thr+wIa3OvcmTv0CyFCQRdYK/0AVWxJ+XiD/IU1bT9USXP8CZW8urDZY/NOjSX7Joiz84yZ1s37BwP2huL7BhYmC/gOMq2H8Lbb/qCID0xKhgvyCIRktruRY/MvCQpFP3Uj/tuQtW1TlRP4AX6FdNcC4/4CnE87fcR78Qhbo7dypcv9hz/DFcBmS/CG5eTmn6Zb/gdb9oYd9mvxiLnkJLqmi/WPmRZwYNZ7/AeBKAm59kvwjutappOmK/wD2wknhBYL+wjK/Yhz5dv+Czg1EWrFu/mFI1GQywWr+4dyCU8rhav5jLZKsY3Vu/HGStCt34Xb/+ZifqYTRfvxtpS4choGC/16IMa1/GYb/+iw+GzcZivzKpAckLl2O/QLsDAZkyZL9Qk2ZHOJpkv7BsFROHq2S/0Bi0yitbZL8orPWUiC9kv7j09ueiIWO/wK08+r8gYr9gaqTVK41hv0BnvXg8tmC/8OccVbA6YL8AhcATePxev4DGI/1lE1q/YJ5mxZOEVL+AUPcdnZxMv4DZAoQHtEG/AH28kg86O78ACLVW6Ss+v8Afp1fmh1O/\",\"dtype\":\"float64\",\"shape\":[75]},\"y\":{\"__ndarray__\":\"GhExyth1ND/Sv8nbtpRIP2vylNV0PVE/aTum7souWD/At0SJ8fVgPw3Iuahxymc/MSNhhJWvcD/bTfBN02d3P2zb5nxnaoA/CD5h5MAGhz8NmeH1TyaQP+zrCsc9p5Y/LbKd76fGnz/bLW5ISEmmPww9YvTcQq8/JV2OstnstT8Er5Y7M8G+P0c+r3jqkcU/5h99k6ZBzj88bCIzFzjVP4enV8oyxN0//yH99nXg5D8qOpLLf0jtP5kqGJXUifQ/c9cS8kHP/D+/DpwzojQEQIEmwoanVwxA4lgXt9HgE0BSSZ2AJuIbQAMJih9jjiNA5q4l5INuK0AwTKYKRj0zQNv5fmq8/DpAaCJseHrtQkB/+zpwzoxKQM3MzMzMeFJAZmZmZmZqWEAAAAAAAFxeQM3MzMzMJmJAmpmZmZkfZUBmZmZmZhhoQDMzMzMzEWtAAAAAAAAKbkBmZmZmZoFwQM3MzMzM/XFAMzMzMzN6c0CamZmZmfZ0QAAAAAAAc3ZAZmZmZmbvd0DNzMzMzGt5QDMzMzMz6HpAmpmZmZlkfEAAAAAAAOF9QGZmZmZmXX9AZmZmZuZsgECamZmZGSuBQM3MzMxM6YFAAAAAAICngkAzMzMzs2WDQGZmZmbmI4RAmpmZmRnihEDNzMzMTKCFQAAAAACAXoZAMzMzM7Mch0BmZmZm5tqHQJqZmZkZmYhAzczMzExXiUAAAAAAgBWKQDMzMzOz04pAZmZmZuaRi0CamZmZGVCMQM3MzMxMDo1AAAAAAIDMjUAzMzMzs4qOQGZmZmbmSI9A\",\"dtype\":\"float64\",\"shape\":[75]}},\"selected\":{\"id\":\"03173fe3-93c0-4e43-92f5-232e6eff93bb\",\"type\":\"Selection\"},\"selection_policy\":{\"id\":\"24468761-50fd-48ea-8a1b-cd8f066b6c87\",\"type\":\"UnionRenderers\"}},\"id\":\"d7510de4-14c2-45c3-a4af-28c0a7df5b4c\",\"type\":\"ColumnDataSource\"},{\"attributes\":{},\"id\":\"801f0114-c00c-4d38-86da-50bc5439258f\",\"type\":\"PanTool\"},{\"attributes\":{\"label\":{\"value\":\"CRD\"},\"renderers\":[{\"id\":\"eadb55ba-77a6-4a7b-9ce1-aad7d3655ff8\",\"type\":\"GlyphRenderer\"},{\"id\":\"9ee3ed52-7544-4cb4-9b4e-c3ad2cf8613b\",\"type\":\"GlyphRenderer\"}]},\"id\":\"cb695241-6663-473a-a522-7525da729198\",\"type\":\"LegendItem\"},{\"attributes\":{\"fill_alpha\":{\"value\":0.7},\"fill_color\":{\"value\":\"#984ea3\"},\"line_alpha\":{\"value\":0.7},\"line_color\":{\"value\":\"#984ea3\"},\"x\":{\"field\":\"x\"},\"y\":{\"field\":\"y\"}},\"id\":\"d2b6ebcd-f539-4b47-be87-f9f669e8992b\",\"type\":\"Circle\"},{\"attributes\":{\"overlay\":{\"id\":\"3f68a38e-dccf-4edd-82ea-fe3cae3f4580\",\"type\":\"BoxAnnotation\"}},\"id\":\"8026843d-8bf2-4ea6-aea4-0e6fc555f12d\",\"type\":\"BoxZoomTool\"},{\"attributes\":{},\"id\":\"79e0fa75-625a-4731-b3b9-53f7805b2ba3\",\"type\":\"WheelZoomTool\"},{\"attributes\":{\"above\":[{\"id\":\"990a8c20-b626-4691-a592-748c62cc5bc8\",\"type\":\"Legend\"}],\"below\":[{\"id\":\"3bee57aa-81aa-4b2c-bce8-60643043b756\",\"type\":\"LinearAxis\"}],\"left\":[{\"id\":\"d313e066-3024-4ab8-bffe-8f78fcc8b69f\",\"type\":\"LogAxis\"}],\"plot_width\":300,\"renderers\":[{\"id\":\"3bee57aa-81aa-4b2c-bce8-60643043b756\",\"type\":\"LinearAxis\"},{\"id\":\"4b5560dd-8717-4a75-9fbd-344fddf8534d\",\"type\":\"Grid\"},{\"id\":\"d313e066-3024-4ab8-bffe-8f78fcc8b69f\",\"type\":\"LogAxis\"},{\"id\":\"535ff0fa-dbb7-4963-89e2-1f0f38a97224\",\"type\":\"Grid\"},{\"id\":\"779d74ed-6389-4eb1-bc1d-f623ec9943d1\",\"type\":\"BoxAnnotation\"},{\"id\":\"0bf72e32-cf5e-483f-85cf-bb564adbb28b\",\"type\":\"GlyphRenderer\"},{\"id\":\"0af9cf13-5cb3-4780-9ba0-b9e234dd91a9\",\"type\":\"GlyphRenderer\"},{\"id\":\"ea5d678b-2702-4089-a4a2-c464c9db79b7\",\"type\":\"GlyphRenderer\"},{\"id\":\"990a8c20-b626-4691-a592-748c62cc5bc8\",\"type\":\"Legend\"}],\"title\":{\"id\":\"bfb3d468-2c57-4f2e-a0ba-225d63f7b788\",\"type\":\"Title\"},\"toolbar\":{\"id\":\"637d1170-45e1-49ec-aeb7-a0a189c54949\",\"type\":\"Toolbar\"},\"toolbar_location\":null,\"x_range\":{\"id\":\"14a2fd66-9e74-46ad-90d5-86e481281b4e\",\"type\":\"Range1d\"},\"x_scale\":{\"id\":\"22aa2502-338a-4727-ab0e-e2a0cd2f9fe5\",\"type\":\"LinearScale\"},\"y_range\":{\"id\":\"2d4d0f95-9439-497e-8f17-78b92dc0a7e3\",\"type\":\"Range1d\"},\"y_scale\":{\"id\":\"a66810fd-8756-4691-9b01-86abb70647a5\",\"type\":\"LogScale\"}},\"id\":\"2abb0905-2d31-45d3-8a01-540b908e3f16\",\"subtype\":\"Figure\",\"type\":\"Plot\"},{\"attributes\":{\"bottom_units\":\"screen\",\"fill_alpha\":{\"value\":0.5},\"fill_color\":{\"value\":\"lightgrey\"},\"left_units\":\"screen\",\"level\":\"overlay\",\"line_alpha\":{\"value\":1.0},\"line_color\":{\"value\":\"black\"},\"line_dash\":[4,4],\"line_width\":{\"value\":2},\"plot\":null,\"render_mode\":\"css\",\"right_units\":\"screen\",\"top_units\":\"screen\"},\"id\":\"3f68a38e-dccf-4edd-82ea-fe3cae3f4580\",\"type\":\"BoxAnnotation\"},{\"attributes\":{\"items\":[{\"id\":\"e93951f6-3cc0-4891-be79-cfced994301d\",\"type\":\"LegendItem\"},{\"id\":\"cb695241-6663-473a-a522-7525da729198\",\"type\":\"LegendItem\"}],\"label_text_font_size\":{\"value\":\"8pt\"},\"location\":\"top_center\",\"orientation\":\"horizontal\",\"plot\":{\"id\":\"74e5bc49-f906-4e59-b3e0-bd86f2ea362e\",\"subtype\":\"Figure\",\"type\":\"Plot\"}},\"id\":\"98924b72-4a7c-421f-b89e-bf27c2d6b005\",\"type\":\"Legend\"},{\"attributes\":{\"axis_label\":\"cooling rate [K/day]\",\"formatter\":{\"id\":\"6ee6a5da-d9c6-455c-b6b4-cc9b6443c91e\",\"type\":\"BasicTickFormatter\"},\"plot\":{\"id\":\"74e5bc49-f906-4e59-b3e0-bd86f2ea362e\",\"subtype\":\"Figure\",\"type\":\"Plot\"},\"ticker\":{\"id\":\"d41d9710-864a-4657-874c-b28caa30c42b\",\"type\":\"BasicTicker\"}},\"id\":\"3eebbe61-d687-47b6-9c73-fd7f1a948474\",\"type\":\"LinearAxis\"},{\"attributes\":{},\"id\":\"36513d61-076e-42af-a003-f4f5cdc17920\",\"type\":\"LinearScale\"},{\"attributes\":{},\"id\":\"1ca753d8-a8a9-4c37-81c3-a4f599a8d845\",\"type\":\"LinearScale\"},{\"attributes\":{\"callback\":null,\"end\":0.01,\"start\":1020},\"id\":\"2d4d0f95-9439-497e-8f17-78b92dc0a7e3\",\"type\":\"Range1d\"},{\"attributes\":{\"fill_alpha\":{\"value\":0.1},\"fill_color\":{\"value\":\"#1f77b4\"},\"line_alpha\":{\"value\":0.1},\"line_color\":{\"value\":\"#1f77b4\"},\"x\":{\"field\":\"x\"},\"y\":{\"field\":\"y\"}},\"id\":\"e3d6ea55-7e44-45a1-8e88-f989622fc53c\",\"type\":\"Circle\"},{\"attributes\":{},\"id\":\"d41d9710-864a-4657-874c-b28caa30c42b\",\"type\":\"BasicTicker\"},{\"attributes\":{\"active_drag\":\"auto\",\"active_inspect\":\"auto\",\"active_scroll\":\"auto\",\"active_tap\":\"auto\",\"tools\":[{\"id\":\"801f0114-c00c-4d38-86da-50bc5439258f\",\"type\":\"PanTool\"},{\"id\":\"79e0fa75-625a-4731-b3b9-53f7805b2ba3\",\"type\":\"WheelZoomTool\"},{\"id\":\"8026843d-8bf2-4ea6-aea4-0e6fc555f12d\",\"type\":\"BoxZoomTool\"},{\"id\":\"5001e6ee-625e-44c9-9c23-92a5348022d0\",\"type\":\"SaveTool\"},{\"id\":\"c97b97d8-1dd3-4c50-93c0-1a454c89ed11\",\"type\":\"ResetTool\"},{\"id\":\"a9398784-0c95-4d9e-b65d-d370c79fd0f6\",\"type\":\"HelpTool\"}]},\"id\":\"0dfd41f7-866d-4276-a38c-e096937e3c7d\",\"type\":\"Toolbar\"},{\"attributes\":{\"axis_label\":\"pressure [mb]\",\"formatter\":{\"id\":\"932cbd8f-e237-4b20-82fb-8272d2f43217\",\"type\":\"BasicTickFormatter\"},\"plot\":{\"id\":\"74e5bc49-f906-4e59-b3e0-bd86f2ea362e\",\"subtype\":\"Figure\",\"type\":\"Plot\"},\"ticker\":{\"id\":\"231721ce-0fac-43c1-8478-cb3bc385c99f\",\"type\":\"BasicTicker\"}},\"id\":\"79f0e283-c6dc-4ad7-b714-a283f03b101f\",\"type\":\"LinearAxis\"},{\"attributes\":{},\"id\":\"4eeaf039-5ff2-4606-b3b4-bdd931ca93f2\",\"type\":\"UnionRenderers\"},{\"attributes\":{},\"id\":\"71c918f8-111f-42c5-bf06-97f27e045639\",\"type\":\"ResetTool\"},{\"attributes\":{},\"id\":\"231721ce-0fac-43c1-8478-cb3bc385c99f\",\"type\":\"BasicTicker\"},{\"attributes\":{\"dimension\":1,\"plot\":{\"id\":\"74e5bc49-f906-4e59-b3e0-bd86f2ea362e\",\"subtype\":\"Figure\",\"type\":\"Plot\"},\"ticker\":{\"id\":\"231721ce-0fac-43c1-8478-cb3bc385c99f\",\"type\":\"BasicTicker\"}},\"id\":\"a75d4178-9c55-4841-8333-5d804c7a1674\",\"type\":\"Grid\"},{\"attributes\":{\"children\":[{\"id\":\"74e5bc49-f906-4e59-b3e0-bd86f2ea362e\",\"subtype\":\"Figure\",\"type\":\"Plot\"},{\"id\":\"2abb0905-2d31-45d3-8a01-540b908e3f16\",\"subtype\":\"Figure\",\"type\":\"Plot\"},{\"id\":\"4fe6c8ce-537f-443a-9ad1-cf59fd72b853\",\"subtype\":\"Figure\",\"type\":\"Plot\"}]},\"id\":\"ae48ca70-9a50-481f-9bc6-66aff436ec80\",\"type\":\"Row\"},{\"attributes\":{\"items\":[{\"id\":\"c8c285c2-8441-4485-86dd-e3cc6ee17210\",\"type\":\"LegendItem\"},{\"id\":\"9a5c63df-102a-494b-be5b-a5d08efdca39\",\"type\":\"LegendItem\"}],\"label_text_font_size\":{\"value\":\"8pt\"},\"location\":\"top_center\",\"orientation\":\"horizontal\",\"plot\":{\"id\":\"2abb0905-2d31-45d3-8a01-540b908e3f16\",\"subtype\":\"Figure\",\"type\":\"Plot\"}},\"id\":\"990a8c20-b626-4691-a592-748c62cc5bc8\",\"type\":\"Legend\"},{\"attributes\":{\"data_source\":{\"id\":\"d7510de4-14c2-45c3-a4af-28c0a7df5b4c\",\"type\":\"ColumnDataSource\"},\"glyph\":{\"id\":\"d2b6ebcd-f539-4b47-be87-f9f669e8992b\",\"type\":\"Circle\"},\"hover_glyph\":null,\"muted_glyph\":null,\"nonselection_glyph\":{\"id\":\"e3d6ea55-7e44-45a1-8e88-f989622fc53c\",\"type\":\"Circle\"},\"selection_glyph\":null,\"view\":{\"id\":\"3107706e-e92a-4029-9f22-ceb5313178f3\",\"type\":\"CDSView\"}},\"id\":\"92f8a0d3-f051-471d-b4e8-0588a791f432\",\"type\":\"GlyphRenderer\"},{\"attributes\":{},\"id\":\"6ee6a5da-d9c6-455c-b6b4-cc9b6443c91e\",\"type\":\"BasicTickFormatter\"},{\"attributes\":{\"callback\":null,\"end\":0.28301983155,\"start\":-0.09394886655000001},\"id\":\"14a2fd66-9e74-46ad-90d5-86e481281b4e\",\"type\":\"Range1d\"},{\"attributes\":{\"source\":{\"id\":\"27a3aa3c-0577-4458-911f-b2eb5455d7cc\",\"type\":\"ColumnDataSource\"}},\"id\":\"d9f1013d-2c35-4b33-b85e-97d4eea665e6\",\"type\":\"CDSView\"},{\"attributes\":{},\"id\":\"22aa2502-338a-4727-ab0e-e2a0cd2f9fe5\",\"type\":\"LinearScale\"},{\"attributes\":{\"label\":{\"value\":\"CLIRAD\"},\"renderers\":[{\"id\":\"0bf72e32-cf5e-483f-85cf-bb564adbb28b\",\"type\":\"GlyphRenderer\"}]},\"id\":\"c8c285c2-8441-4485-86dd-e3cc6ee17210\",\"type\":\"LegendItem\"},{\"attributes\":{},\"id\":\"57d2fc2c-009d-4efd-98fa-7490db30b796\",\"type\":\"UnionRenderers\"},{\"attributes\":{\"plot\":null,\"text\":\"\"},\"id\":\"67619589-b931-48cb-839a-ac164ea9048c\",\"type\":\"Title\"},{\"attributes\":{},\"id\":\"a66810fd-8756-4691-9b01-86abb70647a5\",\"type\":\"LogScale\"},{\"attributes\":{\"items\":[{\"id\":\"9ccc4a36-3965-47ae-aedb-b59b9ccc78b2\",\"type\":\"LegendItem\"}],\"label_text_font_size\":{\"value\":\"8pt\"},\"location\":\"top_center\",\"orientation\":\"horizontal\",\"plot\":{\"id\":\"4fe6c8ce-537f-443a-9ad1-cf59fd72b853\",\"subtype\":\"Figure\",\"type\":\"Plot\"}},\"id\":\"fca3f317-cea6-4a09-8968-21738d919a29\",\"type\":\"Legend\"},{\"attributes\":{\"plot\":{\"id\":\"2abb0905-2d31-45d3-8a01-540b908e3f16\",\"subtype\":\"Figure\",\"type\":\"Plot\"},\"ticker\":{\"id\":\"8dabb63c-65e4-4e9a-a9ce-0128a0468933\",\"type\":\"BasicTicker\"}},\"id\":\"4b5560dd-8717-4a75-9fbd-344fddf8534d\",\"type\":\"Grid\"},{\"attributes\":{\"label\":{\"value\":\"CRD\"},\"renderers\":[{\"id\":\"0af9cf13-5cb3-4780-9ba0-b9e234dd91a9\",\"type\":\"GlyphRenderer\"},{\"id\":\"ea5d678b-2702-4089-a4a2-c464c9db79b7\",\"type\":\"GlyphRenderer\"}]},\"id\":\"9a5c63df-102a-494b-be5b-a5d08efdca39\",\"type\":\"LegendItem\"},{\"attributes\":{\"axis_label\":\"cooling rate [K/day]\",\"formatter\":{\"id\":\"6fbbad43-7d62-4d2c-a95e-306015ed6d5c\",\"type\":\"BasicTickFormatter\"},\"plot\":{\"id\":\"2abb0905-2d31-45d3-8a01-540b908e3f16\",\"subtype\":\"Figure\",\"type\":\"Plot\"},\"ticker\":{\"id\":\"8dabb63c-65e4-4e9a-a9ce-0128a0468933\",\"type\":\"BasicTicker\"}},\"id\":\"3bee57aa-81aa-4b2c-bce8-60643043b756\",\"type\":\"LinearAxis\"},{\"attributes\":{},\"id\":\"932cbd8f-e237-4b20-82fb-8272d2f43217\",\"type\":\"BasicTickFormatter\"},{\"attributes\":{},\"id\":\"8dabb63c-65e4-4e9a-a9ce-0128a0468933\",\"type\":\"BasicTicker\"},{\"attributes\":{\"axis_label\":\"pressure [mb]\",\"formatter\":{\"id\":\"5630b4e2-bffe-4c00-82c3-c9be250dcbca\",\"type\":\"LogTickFormatter\"},\"plot\":{\"id\":\"2abb0905-2d31-45d3-8a01-540b908e3f16\",\"subtype\":\"Figure\",\"type\":\"Plot\"},\"ticker\":{\"id\":\"8fec346d-ac58-4922-86dd-8d24aa521ca7\",\"type\":\"LogTicker\"}},\"id\":\"d313e066-3024-4ab8-bffe-8f78fcc8b69f\",\"type\":\"LogAxis\"},{\"attributes\":{},\"id\":\"7eeb1eef-40b7-44f5-b197-b12031b97408\",\"type\":\"Selection\"},{\"attributes\":{},\"id\":\"47f24f9b-3248-4d58-941b-6876968263db\",\"type\":\"UnionRenderers\"},{\"attributes\":{\"num_minor_ticks\":10},\"id\":\"8fec346d-ac58-4922-86dd-8d24aa521ca7\",\"type\":\"LogTicker\"},{\"attributes\":{\"dimension\":1,\"plot\":{\"id\":\"2abb0905-2d31-45d3-8a01-540b908e3f16\",\"subtype\":\"Figure\",\"type\":\"Plot\"},\"ticker\":{\"id\":\"8fec346d-ac58-4922-86dd-8d24aa521ca7\",\"type\":\"LogTicker\"}},\"id\":\"535ff0fa-dbb7-4963-89e2-1f0f38a97224\",\"type\":\"Grid\"},{\"attributes\":{\"plot\":{\"id\":\"4fe6c8ce-537f-443a-9ad1-cf59fd72b853\",\"subtype\":\"Figure\",\"type\":\"Plot\"},\"ticker\":{\"id\":\"b4726590-64a7-42f1-9c4c-2801ff3e8119\",\"type\":\"BasicTicker\"}},\"id\":\"c12c6933-2fa8-4d82-9db4-c25003d28c04\",\"type\":\"Grid\"},{\"attributes\":{},\"id\":\"0f4b2396-fee8-490d-93ee-6c1e731da509\",\"type\":\"UnionRenderers\"},{\"attributes\":{\"children\":[{\"id\":\"ae48ca70-9a50-481f-9bc6-66aff436ec80\",\"type\":\"Row\"}]},\"id\":\"7c5ccffa-55f7-46ba-ac6d-f3a649675b8c\",\"type\":\"Column\"},{\"attributes\":{},\"id\":\"1e65b133-92b3-47e7-bf2a-19d354a30d46\",\"type\":\"PanTool\"},{\"attributes\":{\"axis_label\":\"cooling rate [K/day]\",\"formatter\":{\"id\":\"1e62b231-fa32-4589-ab46-ecf4d7c60cb8\",\"type\":\"BasicTickFormatter\"},\"plot\":{\"id\":\"4fe6c8ce-537f-443a-9ad1-cf59fd72b853\",\"subtype\":\"Figure\",\"type\":\"Plot\"},\"ticker\":{\"id\":\"b4726590-64a7-42f1-9c4c-2801ff3e8119\",\"type\":\"BasicTicker\"}},\"id\":\"70219856-3d04-49c0-b46b-0c2e7fc9acf2\",\"type\":\"LinearAxis\"},{\"attributes\":{\"label\":{\"value\":\"CLIRAD - CRD\"},\"renderers\":[{\"id\":\"92f8a0d3-f051-471d-b4e8-0588a791f432\",\"type\":\"GlyphRenderer\"},{\"id\":\"3d84d4aa-2de9-4237-b0ba-aa983ec73e5f\",\"type\":\"GlyphRenderer\"}]},\"id\":\"9ccc4a36-3965-47ae-aedb-b59b9ccc78b2\",\"type\":\"LegendItem\"},{\"attributes\":{\"data_source\":{\"id\":\"27a3aa3c-0577-4458-911f-b2eb5455d7cc\",\"type\":\"ColumnDataSource\"},\"glyph\":{\"id\":\"ff190351-4143-441d-a007-bb1250b29b7e\",\"type\":\"Line\"},\"hover_glyph\":null,\"muted_glyph\":null,\"nonselection_glyph\":{\"id\":\"4063c069-8460-480d-bf56-303e84bc846d\",\"type\":\"Line\"},\"selection_glyph\":null,\"view\":{\"id\":\"d9f1013d-2c35-4b33-b85e-97d4eea665e6\",\"type\":\"CDSView\"}},\"id\":\"3d84d4aa-2de9-4237-b0ba-aa983ec73e5f\",\"type\":\"GlyphRenderer\"},{\"attributes\":{\"bottom_units\":\"screen\",\"fill_alpha\":{\"value\":0.5},\"fill_color\":{\"value\":\"lightgrey\"},\"left_units\":\"screen\",\"level\":\"overlay\",\"line_alpha\":{\"value\":1.0},\"line_color\":{\"value\":\"black\"},\"line_dash\":[4,4],\"line_width\":{\"value\":2},\"plot\":null,\"render_mode\":\"css\",\"right_units\":\"screen\",\"top_units\":\"screen\"},\"id\":\"779d74ed-6389-4eb1-bc1d-f623ec9943d1\",\"type\":\"BoxAnnotation\"},{\"attributes\":{},\"id\":\"2de7b788-8f63-4eff-9f0a-e46b2968f6f9\",\"type\":\"Selection\"},{\"attributes\":{},\"id\":\"b044eabb-8b55-4780-bffa-aea2f8d8fc9d\",\"type\":\"PanTool\"},{\"attributes\":{\"axis_label\":\"pressure [mb]\",\"formatter\":{\"id\":\"54fb28f7-776f-4063-b973-24b143cf0412\",\"type\":\"LogTickFormatter\"},\"plot\":{\"id\":\"4fe6c8ce-537f-443a-9ad1-cf59fd72b853\",\"subtype\":\"Figure\",\"type\":\"Plot\"},\"ticker\":{\"id\":\"9cbed40b-6661-4ebf-953e-17549643e9c4\",\"type\":\"LogTicker\"}},\"id\":\"7a8d386d-310c-4541-a1c7-9d487e83613f\",\"type\":\"LogAxis\"},{\"attributes\":{},\"id\":\"943b7507-4a39-46da-84d9-515de6afd2f2\",\"type\":\"Selection\"},{\"attributes\":{},\"id\":\"130fca57-2630-41c8-a1ad-abc14d4df9be\",\"type\":\"UnionRenderers\"},{\"attributes\":{},\"id\":\"55b1a658-7285-4c8a-9d6f-c5ae93d32048\",\"type\":\"WheelZoomTool\"},{\"attributes\":{\"plot\":null,\"text\":\"\"},\"id\":\"e8c32deb-3e6f-47f8-b366-d952fe2e1648\",\"type\":\"Title\"},{\"attributes\":{\"callback\":null,\"data\":{\"x\":{\"__ndarray__\":\"XLWE3/puur94oj3BckK6v6L6vQPy27m/bT7HqrVuub8/dsMomwG5vwAegdrQlri/JOgbEKIuuL+2UMLk98q3v31ua4Ldbbe/oEVjq9Mat78RmK8Ux9a2v9FiPXaWp7a/8E3vvDaWtr+L6yTK+qe2v3mdNcE1zLW/Ffv+327Psb9w9APnJEWlv9qySWzh83u/Kv0us6LioT/Ppk4A+Lm1P93oCIWtfsI/CFIx53ylyz945qsFcuDRPytWJl99OtE/3ckrAFsYyT/5xXyrOzfAP1W59T9lobM/4Rdz5Dz0pj+MU6BbV+ibP3uBCFpJd5I/KjLxSVKSiD+EZ68v88x8P+9C7RpYPm8/EnK9qL8QWT+loo/DaUthvzVDhGG72X2/tcyHP0FkiL8ARBhERjWQv03p+9G5oJW/X9/72ZeFm79wwG3B4Aeev15/TwJUnpy/FzIuh6PMmr8j+lLLGBeZv6rNU6scS5e/lhaB89pTlb+zDvgQFSmTvyXJj9JOyJC/vQdSozxljL/Ee/xIi9+GvzrlAjULJIG/DMPAZaC6dr+VDzmtv5RmvzHI/jNRa/c+NFij5PZHZz/HwINk1pJ3P1Kstn34AoI/ppVZvAyKiD9V0Qb92GaPPw5C4EtYUJM/85vb56Uglz/T9XfIKiubP5s/v1IKeJ8/g0OO/q4Hoj/32DXY1nqkPx+eiPLDEKc/1G/iiA6xqT+Eu4M9xSisP8f0DRd8RK4/84j/q/b/rz+o2weQCcewP8Y1UnfklrE/bGElBWeHsj/J1nLopq2zP9lNnQWpLbU/\",\"dtype\":\"float64\",\"shape\":[75]},\"y\":{\"__ndarray__\":\"GhExyth1ND/Sv8nbtpRIP2vylNV0PVE/aTum7souWD/At0SJ8fVgPw3Iuahxymc/MSNhhJWvcD/bTfBN02d3P2zb5nxnaoA/CD5h5MAGhz8NmeH1TyaQP+zrCsc9p5Y/LbKd76fGnz/bLW5ISEmmPww9YvTcQq8/JV2OstnstT8Er5Y7M8G+P0c+r3jqkcU/5h99k6ZBzj88bCIzFzjVP4enV8oyxN0//yH99nXg5D8qOpLLf0jtP5kqGJXUifQ/c9cS8kHP/D+/DpwzojQEQIEmwoanVwxA4lgXt9HgE0BSSZ2AJuIbQAMJih9jjiNA5q4l5INuK0AwTKYKRj0zQNv5fmq8/DpAaCJseHrtQkB/+zpwzoxKQM3MzMzMeFJAZmZmZmZqWEAAAAAAAFxeQM3MzMzMJmJAmpmZmZkfZUBmZmZmZhhoQDMzMzMzEWtAAAAAAAAKbkBmZmZmZoFwQM3MzMzM/XFAMzMzMzN6c0CamZmZmfZ0QAAAAAAAc3ZAZmZmZmbvd0DNzMzMzGt5QDMzMzMz6HpAmpmZmZlkfEAAAAAAAOF9QGZmZmZmXX9AZmZmZuZsgECamZmZGSuBQM3MzMxM6YFAAAAAAICngkAzMzMzs2WDQGZmZmbmI4RAmpmZmRnihEDNzMzMTKCFQAAAAACAXoZAMzMzM7Mch0BmZmZm5tqHQJqZmZkZmYhAzczMzExXiUAAAAAAgBWKQDMzMzOz04pAZmZmZuaRi0CamZmZGVCMQM3MzMxMDo1AAAAAAIDMjUAzMzMzs4qOQGZmZmbmSI9A\",\"dtype\":\"float64\",\"shape\":[75]}},\"selected\":{\"id\":\"2de7b788-8f63-4eff-9f0a-e46b2968f6f9\",\"type\":\"Selection\"},\"selection_policy\":{\"id\":\"57d2fc2c-009d-4efd-98fa-7490db30b796\",\"type\":\"UnionRenderers\"}},\"id\":\"608fc87d-3cb7-4441-b905-d532f365d5cc\",\"type\":\"ColumnDataSource\"},{\"attributes\":{\"overlay\":{\"id\":\"779d74ed-6389-4eb1-bc1d-f623ec9943d1\",\"type\":\"BoxAnnotation\"}},\"id\":\"c6eacb18-52df-47e4-a93b-ff18a6eb0a8b\",\"type\":\"BoxZoomTool\"},{\"attributes\":{\"active_drag\":\"auto\",\"active_inspect\":\"auto\",\"active_scroll\":\"auto\",\"active_tap\":\"auto\",\"tools\":[{\"id\":\"1e65b133-92b3-47e7-bf2a-19d354a30d46\",\"type\":\"PanTool\"},{\"id\":\"3d08a8c5-a409-4bf9-8391-bb0021b24192\",\"type\":\"WheelZoomTool\"},{\"id\":\"062e3f0f-e2cc-4272-8e27-4ed388b16ba7\",\"type\":\"BoxZoomTool\"},{\"id\":\"43c359c9-bdd7-434e-89cc-84d386720bb2\",\"type\":\"SaveTool\"},{\"id\":\"71c918f8-111f-42c5-bf06-97f27e045639\",\"type\":\"ResetTool\"},{\"id\":\"07cb4c2a-86ea-42dc-9f39-23b878df4c5e\",\"type\":\"HelpTool\"}]},\"id\":\"cae23a46-acdd-4a93-97f1-db67f35b02a4\",\"type\":\"Toolbar\"},{\"attributes\":{},\"id\":\"226538d4-557f-4259-ac85-cea03331541e\",\"type\":\"Selection\"},{\"attributes\":{},\"id\":\"688080c8-da64-4ddd-bc75-860594ba75f8\",\"type\":\"SaveTool\"},{\"attributes\":{},\"id\":\"bb4c6bd4-f12d-4028-89fb-cb316b69d2aa\",\"type\":\"Selection\"},{\"attributes\":{},\"id\":\"94d5f05f-fdb7-4d99-9b3b-426f2f709a8c\",\"type\":\"UnionRenderers\"},{\"attributes\":{},\"id\":\"25f03760-7678-45c3-bffa-8b94dd17b2a4\",\"type\":\"ResetTool\"},{\"attributes\":{\"ticker\":null},\"id\":\"54fb28f7-776f-4063-b973-24b143cf0412\",\"type\":\"LogTickFormatter\"},{\"attributes\":{},\"id\":\"675528f9-8297-448f-9630-0eea25e86922\",\"type\":\"HelpTool\"},{\"attributes\":{\"plot\":null,\"text\":\"\"},\"id\":\"bfb3d468-2c57-4f2e-a0ba-225d63f7b788\",\"type\":\"Title\"},{\"attributes\":{\"fill_alpha\":{\"value\":0.1},\"fill_color\":{\"value\":\"#1f77b4\"},\"line_alpha\":{\"value\":0.1},\"line_color\":{\"value\":\"#1f77b4\"},\"x\":{\"field\":\"x\"},\"y\":{\"field\":\"y\"}},\"id\":\"13a66ec8-e0cc-4b2a-8f2d-7205aed8e5ce\",\"type\":\"Circle\"},{\"attributes\":{},\"id\":\"1e62b231-fa32-4589-ab46-ecf4d7c60cb8\",\"type\":\"BasicTickFormatter\"},{\"attributes\":{\"data_source\":{\"id\":\"afc7467d-9a02-456e-ba07-cf725c8fe1b5\",\"type\":\"ColumnDataSource\"},\"glyph\":{\"id\":\"d7aa7800-f5a2-4a13-8b52-d7237ad3f83e\",\"type\":\"Line\"},\"hover_glyph\":null,\"muted_glyph\":null,\"nonselection_glyph\":{\"id\":\"cd472251-ef8a-4c5a-8cc2-07c43b05e0e4\",\"type\":\"Line\"},\"selection_glyph\":null,\"view\":{\"id\":\"a69308d9-e710-449c-af9c-cf0133dc5848\",\"type\":\"CDSView\"}},\"id\":\"9ee3ed52-7544-4cb4-9b4e-c3ad2cf8613b\",\"type\":\"GlyphRenderer\"},{\"attributes\":{\"line_alpha\":0.6,\"line_color\":\"#e41a1c\",\"line_dash\":[6],\"line_width\":5,\"x\":{\"field\":\"x\"},\"y\":{\"field\":\"y\"}},\"id\":\"832e15ef-af13-4ead-a3e6-e59feee652d2\",\"type\":\"Line\"},{\"attributes\":{\"line_alpha\":0.1,\"line_color\":\"#1f77b4\",\"line_width\":1.5,\"x\":{\"field\":\"x\"},\"y\":{\"field\":\"y\"}},\"id\":\"4063c069-8460-480d-bf56-303e84bc846d\",\"type\":\"Line\"},{\"attributes\":{\"toolbar\":{\"id\":\"defaaf29-fb71-437b-bb6a-f38f518602f5\",\"type\":\"ProxyToolbar\"},\"toolbar_location\":\"above\"},\"id\":\"91666737-7c6b-4a1e-b39e-f267adb0c7d8\",\"type\":\"ToolbarBox\"},{\"attributes\":{\"dimension\":1,\"plot\":{\"id\":\"4fe6c8ce-537f-443a-9ad1-cf59fd72b853\",\"subtype\":\"Figure\",\"type\":\"Plot\"},\"ticker\":{\"id\":\"9cbed40b-6661-4ebf-953e-17549643e9c4\",\"type\":\"LogTicker\"}},\"id\":\"9b58fec7-f569-46a7-8a8f-28834d9c66cd\",\"type\":\"Grid\"},{\"attributes\":{\"num_minor_ticks\":10},\"id\":\"9cbed40b-6661-4ebf-953e-17549643e9c4\",\"type\":\"LogTicker\"},{\"attributes\":{},\"id\":\"03173fe3-93c0-4e43-92f5-232e6eff93bb\",\"type\":\"Selection\"},{\"attributes\":{},\"id\":\"24468761-50fd-48ea-8a1b-cd8f066b6c87\",\"type\":\"UnionRenderers\"},{\"attributes\":{\"data_source\":{\"id\":\"608fc87d-3cb7-4441-b905-d532f365d5cc\",\"type\":\"ColumnDataSource\"},\"glyph\":{\"id\":\"464cd6b7-e6dd-418e-9916-3f4323ace70f\",\"type\":\"Circle\"},\"hover_glyph\":null,\"muted_glyph\":null,\"nonselection_glyph\":{\"id\":\"13a66ec8-e0cc-4b2a-8f2d-7205aed8e5ce\",\"type\":\"Circle\"},\"selection_glyph\":null,\"view\":{\"id\":\"827bf9f9-a901-4011-8b20-a33aa9d5eab8\",\"type\":\"CDSView\"}},\"id\":\"eadb55ba-77a6-4a7b-9ce1-aad7d3655ff8\",\"type\":\"GlyphRenderer\"},{\"attributes\":{},\"id\":\"f51f7a5c-0b8e-45bb-9e6e-01a14d3d5d8b\",\"type\":\"Selection\"},{\"attributes\":{\"tools\":[{\"id\":\"801f0114-c00c-4d38-86da-50bc5439258f\",\"type\":\"PanTool\"},{\"id\":\"79e0fa75-625a-4731-b3b9-53f7805b2ba3\",\"type\":\"WheelZoomTool\"},{\"id\":\"8026843d-8bf2-4ea6-aea4-0e6fc555f12d\",\"type\":\"BoxZoomTool\"},{\"id\":\"5001e6ee-625e-44c9-9c23-92a5348022d0\",\"type\":\"SaveTool\"},{\"id\":\"c97b97d8-1dd3-4c50-93c0-1a454c89ed11\",\"type\":\"ResetTool\"},{\"id\":\"a9398784-0c95-4d9e-b65d-d370c79fd0f6\",\"type\":\"HelpTool\"},{\"id\":\"b044eabb-8b55-4780-bffa-aea2f8d8fc9d\",\"type\":\"PanTool\"},{\"id\":\"55b1a658-7285-4c8a-9d6f-c5ae93d32048\",\"type\":\"WheelZoomTool\"},{\"id\":\"c6eacb18-52df-47e4-a93b-ff18a6eb0a8b\",\"type\":\"BoxZoomTool\"},{\"id\":\"688080c8-da64-4ddd-bc75-860594ba75f8\",\"type\":\"SaveTool\"},{\"id\":\"25f03760-7678-45c3-bffa-8b94dd17b2a4\",\"type\":\"ResetTool\"},{\"id\":\"675528f9-8297-448f-9630-0eea25e86922\",\"type\":\"HelpTool\"},{\"id\":\"1e65b133-92b3-47e7-bf2a-19d354a30d46\",\"type\":\"PanTool\"},{\"id\":\"3d08a8c5-a409-4bf9-8391-bb0021b24192\",\"type\":\"WheelZoomTool\"},{\"id\":\"062e3f0f-e2cc-4272-8e27-4ed388b16ba7\",\"type\":\"BoxZoomTool\"},{\"id\":\"43c359c9-bdd7-434e-89cc-84d386720bb2\",\"type\":\"SaveTool\"},{\"id\":\"71c918f8-111f-42c5-bf06-97f27e045639\",\"type\":\"ResetTool\"},{\"id\":\"07cb4c2a-86ea-42dc-9f39-23b878df4c5e\",\"type\":\"HelpTool\"}]},\"id\":\"defaaf29-fb71-437b-bb6a-f38f518602f5\",\"type\":\"ProxyToolbar\"},{\"attributes\":{\"data_source\":{\"id\":\"80730864-ae51-4071-b43f-85c384bf8668\",\"type\":\"ColumnDataSource\"},\"glyph\":{\"id\":\"832e15ef-af13-4ead-a3e6-e59feee652d2\",\"type\":\"Line\"},\"hover_glyph\":null,\"muted_glyph\":null,\"nonselection_glyph\":{\"id\":\"b39e9d18-e9a0-4ef1-8440-403f4eadd3db\",\"type\":\"Line\"},\"selection_glyph\":null,\"view\":{\"id\":\"9f1e208f-22fe-413a-a723-3501b4a0f4e7\",\"type\":\"CDSView\"}},\"id\":\"8b0400a2-f2c3-454a-bdd6-f2c76fd55b05\",\"type\":\"GlyphRenderer\"},{\"attributes\":{},\"id\":\"b4726590-64a7-42f1-9c4c-2801ff3e8119\",\"type\":\"BasicTicker\"},{\"attributes\":{\"children\":[{\"id\":\"91666737-7c6b-4a1e-b39e-f267adb0c7d8\",\"type\":\"ToolbarBox\"},{\"id\":\"7c5ccffa-55f7-46ba-ac6d-f3a649675b8c\",\"type\":\"Column\"}]},\"id\":\"e077a771-8760-4d95-8a9d-6747657b74fa\",\"type\":\"Column\"},{\"attributes\":{},\"id\":\"10de1473-4a8a-4f88-b0c7-51a1cec8c8f3\",\"type\":\"Selection\"},{\"attributes\":{},\"id\":\"4b147169-5331-45dc-a19c-40f905551a1b\",\"type\":\"UnionRenderers\"},{\"attributes\":{\"source\":{\"id\":\"73ebda3d-b3aa-495c-a736-4cd8cae7cdca\",\"type\":\"ColumnDataSource\"}},\"id\":\"1c6fd68f-89ae-4920-8f1d-9549621f64ab\",\"type\":\"CDSView\"},{\"attributes\":{\"fill_alpha\":{\"value\":0.7},\"fill_color\":{\"value\":\"#4daf4a\"},\"line_alpha\":{\"value\":0.7},\"line_color\":{\"value\":\"#4daf4a\"},\"x\":{\"field\":\"x\"},\"y\":{\"field\":\"y\"}},\"id\":\"464cd6b7-e6dd-418e-9916-3f4323ace70f\",\"type\":\"Circle\"},{\"attributes\":{\"source\":{\"id\":\"80730864-ae51-4071-b43f-85c384bf8668\",\"type\":\"ColumnDataSource\"}},\"id\":\"9f1e208f-22fe-413a-a723-3501b4a0f4e7\",\"type\":\"CDSView\"},{\"attributes\":{\"callback\":null,\"data\":{\"x\":{\"__ndarray__\":\"qIa5gVunpD9UKbWYUYykP5XKBJF/RaQ/BlvnPaD8oz/yUZ8USLGjP57FtU4acqM/uJFFqaM0oz+LMaNk4QejPyrZQnQu46I/3d0cEQDaoj832rPfweyiPwGatdJzJKM/N1PDrIeXoz+3L1PSRFGkP88f5AaNqqQ/PeqHj4oqoz+QRsbpcuqfP97rrjCgvpg/CvTLWBsAkT8oJqZzlG+BPwBUCOQSRy6/4FD/k55thr+wIa3OvcmTv0CyFCQRdYK/0AVWxJ+XiD/IU1bT9USXP8CZW8urDZY/NOjSX7Joiz84yZ1s37BwP2huL7BhYmC/gOMq2H8Lbb/qCID0xKhgvyCIRktruRY/MvCQpFP3Uj/tuQtW1TlRP4AX6FdNcC4/4CnE87fcR78Qhbo7dypcv9hz/DFcBmS/CG5eTmn6Zb/gdb9oYd9mvxiLnkJLqmi/WPmRZwYNZ7/AeBKAm59kvwjutappOmK/wD2wknhBYL+wjK/Yhz5dv+Czg1EWrFu/mFI1GQywWr+4dyCU8rhav5jLZKsY3Vu/HGStCt34Xb/+ZifqYTRfvxtpS4choGC/16IMa1/GYb/+iw+GzcZivzKpAckLl2O/QLsDAZkyZL9Qk2ZHOJpkv7BsFROHq2S/0Bi0yitbZL8orPWUiC9kv7j09ueiIWO/wK08+r8gYr9gaqTVK41hv0BnvXg8tmC/8OccVbA6YL8AhcATePxev4DGI/1lE1q/YJ5mxZOEVL+AUPcdnZxMv4DZAoQHtEG/AH28kg86O78ACLVW6Ss+v8Afp1fmh1O/\",\"dtype\":\"float64\",\"shape\":[75]},\"y\":{\"__ndarray__\":\"GhExyth1ND/Sv8nbtpRIP2vylNV0PVE/aTum7souWD/At0SJ8fVgPw3Iuahxymc/MSNhhJWvcD/bTfBN02d3P2zb5nxnaoA/CD5h5MAGhz8NmeH1TyaQP+zrCsc9p5Y/LbKd76fGnz/bLW5ISEmmPww9YvTcQq8/JV2OstnstT8Er5Y7M8G+P0c+r3jqkcU/5h99k6ZBzj88bCIzFzjVP4enV8oyxN0//yH99nXg5D8qOpLLf0jtP5kqGJXUifQ/c9cS8kHP/D+/DpwzojQEQIEmwoanVwxA4lgXt9HgE0BSSZ2AJuIbQAMJih9jjiNA5q4l5INuK0AwTKYKRj0zQNv5fmq8/DpAaCJseHrtQkB/+zpwzoxKQM3MzMzMeFJAZmZmZmZqWEAAAAAAAFxeQM3MzMzMJmJAmpmZmZkfZUBmZmZmZhhoQDMzMzMzEWtAAAAAAAAKbkBmZmZmZoFwQM3MzMzM/XFAMzMzMzN6c0CamZmZmfZ0QAAAAAAAc3ZAZmZmZmbvd0DNzMzMzGt5QDMzMzMz6HpAmpmZmZlkfEAAAAAAAOF9QGZmZmZmXX9AZmZmZuZsgECamZmZGSuBQM3MzMxM6YFAAAAAAICngkAzMzMzs2WDQGZmZmbmI4RAmpmZmRnihEDNzMzMTKCFQAAAAACAXoZAMzMzM7Mch0BmZmZm5tqHQJqZmZkZmYhAzczMzExXiUAAAAAAgBWKQDMzMzOz04pAZmZmZuaRi0CamZmZGVCMQM3MzMxMDo1AAAAAAIDMjUAzMzMzs4qOQGZmZmbmSI9A\",\"dtype\":\"float64\",\"shape\":[75]}},\"selected\":{\"id\":\"f51f7a5c-0b8e-45bb-9e6e-01a14d3d5d8b\",\"type\":\"Selection\"},\"selection_policy\":{\"id\":\"4b147169-5331-45dc-a19c-40f905551a1b\",\"type\":\"UnionRenderers\"}},\"id\":\"27a3aa3c-0577-4458-911f-b2eb5455d7cc\",\"type\":\"ColumnDataSource\"},{\"attributes\":{\"overlay\":{\"id\":\"08b22d61-f94d-45e3-97f0-ba5d69df0e1f\",\"type\":\"BoxAnnotation\"}},\"id\":\"062e3f0f-e2cc-4272-8e27-4ed388b16ba7\",\"type\":\"BoxZoomTool\"},{\"attributes\":{\"line_color\":\"#4daf4a\",\"line_width\":1.5,\"x\":{\"field\":\"x\"},\"y\":{\"field\":\"y\"}},\"id\":\"d7aa7800-f5a2-4a13-8b52-d7237ad3f83e\",\"type\":\"Line\"},{\"attributes\":{\"callback\":null,\"end\":0.08387643959999999,\"start\":-0.0332674596},\"id\":\"7e9f3a6e-60ec-4ca7-b67f-77df4109d1f5\",\"type\":\"Range1d\"},{\"attributes\":{\"source\":{\"id\":\"608fc87d-3cb7-4441-b905-d532f365d5cc\",\"type\":\"ColumnDataSource\"}},\"id\":\"827bf9f9-a901-4011-8b20-a33aa9d5eab8\",\"type\":\"CDSView\"},{\"attributes\":{\"callback\":null,\"data\":{\"x\":{\"__ndarray__\":\"XLWE3/puur94oj3BckK6v6L6vQPy27m/bT7HqrVuub8/dsMomwG5vwAegdrQlri/JOgbEKIuuL+2UMLk98q3v31ua4Ldbbe/oEVjq9Mat78RmK8Ux9a2v9FiPXaWp7a/8E3vvDaWtr+L6yTK+qe2v3mdNcE1zLW/Ffv+327Psb9w9APnJEWlv9qySWzh83u/Kv0us6LioT/Ppk4A+Lm1P93oCIWtfsI/CFIx53ylyz945qsFcuDRPytWJl99OtE/3ckrAFsYyT/5xXyrOzfAP1W59T9lobM/4Rdz5Dz0pj+MU6BbV+ibP3uBCFpJd5I/KjLxSVKSiD+EZ68v88x8P+9C7RpYPm8/EnK9qL8QWT+loo/DaUthvzVDhGG72X2/tcyHP0FkiL8ARBhERjWQv03p+9G5oJW/X9/72ZeFm79wwG3B4Aeev15/TwJUnpy/FzIuh6PMmr8j+lLLGBeZv6rNU6scS5e/lhaB89pTlb+zDvgQFSmTvyXJj9JOyJC/vQdSozxljL/Ee/xIi9+GvzrlAjULJIG/DMPAZaC6dr+VDzmtv5RmvzHI/jNRa/c+NFij5PZHZz/HwINk1pJ3P1Kstn34AoI/ppVZvAyKiD9V0Qb92GaPPw5C4EtYUJM/85vb56Uglz/T9XfIKiubP5s/v1IKeJ8/g0OO/q4Hoj/32DXY1nqkPx+eiPLDEKc/1G/iiA6xqT+Eu4M9xSisP8f0DRd8RK4/84j/q/b/rz+o2weQCcewP8Y1UnfklrE/bGElBWeHsj/J1nLopq2zP9lNnQWpLbU/\",\"dtype\":\"float64\",\"shape\":[75]},\"y\":{\"__ndarray__\":\"GhExyth1ND/Sv8nbtpRIP2vylNV0PVE/aTum7souWD/At0SJ8fVgPw3Iuahxymc/MSNhhJWvcD/bTfBN02d3P2zb5nxnaoA/CD5h5MAGhz8NmeH1TyaQP+zrCsc9p5Y/LbKd76fGnz/bLW5ISEmmPww9YvTcQq8/JV2OstnstT8Er5Y7M8G+P0c+r3jqkcU/5h99k6ZBzj88bCIzFzjVP4enV8oyxN0//yH99nXg5D8qOpLLf0jtP5kqGJXUifQ/c9cS8kHP/D+/DpwzojQEQIEmwoanVwxA4lgXt9HgE0BSSZ2AJuIbQAMJih9jjiNA5q4l5INuK0AwTKYKRj0zQNv5fmq8/DpAaCJseHrtQkB/+zpwzoxKQM3MzMzMeFJAZmZmZmZqWEAAAAAAAFxeQM3MzMzMJmJAmpmZmZkfZUBmZmZmZhhoQDMzMzMzEWtAAAAAAAAKbkBmZmZmZoFwQM3MzMzM/XFAMzMzMzN6c0CamZmZmfZ0QAAAAAAAc3ZAZmZmZmbvd0DNzMzMzGt5QDMzMzMz6HpAmpmZmZlkfEAAAAAAAOF9QGZmZmZmXX9AZmZmZuZsgECamZmZGSuBQM3MzMxM6YFAAAAAAICngkAzMzMzs2WDQGZmZmbmI4RAmpmZmRnihEDNzMzMTKCFQAAAAACAXoZAMzMzM7Mch0BmZmZm5tqHQJqZmZkZmYhAzczMzExXiUAAAAAAgBWKQDMzMzOz04pAZmZmZuaRi0CamZmZGVCMQM3MzMxMDo1AAAAAAIDMjUAzMzMzs4qOQGZmZmbmSI9A\",\"dtype\":\"float64\",\"shape\":[75]}},\"selected\":{\"id\":\"943b7507-4a39-46da-84d9-515de6afd2f2\",\"type\":\"Selection\"},\"selection_policy\":{\"id\":\"130fca57-2630-41c8-a1ad-abc14d4df9be\",\"type\":\"UnionRenderers\"}},\"id\":\"afc7467d-9a02-456e-ba07-cf725c8fe1b5\",\"type\":\"ColumnDataSource\"},{\"attributes\":{},\"id\":\"2a19d74c-2390-4bbf-ad19-6c968971f3f0\",\"type\":\"LinearScale\"},{\"attributes\":{\"active_drag\":\"auto\",\"active_inspect\":\"auto\",\"active_scroll\":\"auto\",\"active_tap\":\"auto\",\"tools\":[{\"id\":\"b044eabb-8b55-4780-bffa-aea2f8d8fc9d\",\"type\":\"PanTool\"},{\"id\":\"55b1a658-7285-4c8a-9d6f-c5ae93d32048\",\"type\":\"WheelZoomTool\"},{\"id\":\"c6eacb18-52df-47e4-a93b-ff18a6eb0a8b\",\"type\":\"BoxZoomTool\"},{\"id\":\"688080c8-da64-4ddd-bc75-860594ba75f8\",\"type\":\"SaveTool\"},{\"id\":\"25f03760-7678-45c3-bffa-8b94dd17b2a4\",\"type\":\"ResetTool\"},{\"id\":\"675528f9-8297-448f-9630-0eea25e86922\",\"type\":\"HelpTool\"}]},\"id\":\"637d1170-45e1-49ec-aeb7-a0a189c54949\",\"type\":\"Toolbar\"},{\"attributes\":{\"source\":{\"id\":\"d7510de4-14c2-45c3-a4af-28c0a7df5b4c\",\"type\":\"ColumnDataSource\"}},\"id\":\"3107706e-e92a-4029-9f22-ceb5313178f3\",\"type\":\"CDSView\"},{\"attributes\":{\"source\":{\"id\":\"93ca3fbe-174b-4882-ab35-6ab77c8bf760\",\"type\":\"ColumnDataSource\"}},\"id\":\"3516302d-c717-4894-8118-e55aba6466d4\",\"type\":\"CDSView\"},{\"attributes\":{\"data_source\":{\"id\":\"93ca3fbe-174b-4882-ab35-6ab77c8bf760\",\"type\":\"ColumnDataSource\"},\"glyph\":{\"id\":\"d76861cd-9065-4745-99a5-73f5212f1763\",\"type\":\"Line\"},\"hover_glyph\":null,\"muted_glyph\":null,\"nonselection_glyph\":{\"id\":\"dc79fcca-b994-4cfb-b1b9-499851b0e8a7\",\"type\":\"Line\"},\"selection_glyph\":null,\"view\":{\"id\":\"3516302d-c717-4894-8118-e55aba6466d4\",\"type\":\"CDSView\"}},\"id\":\"0bf72e32-cf5e-483f-85cf-bb564adbb28b\",\"type\":\"GlyphRenderer\"},{\"attributes\":{\"fill_alpha\":{\"value\":0.7},\"fill_color\":{\"value\":\"#4daf4a\"},\"line_alpha\":{\"value\":0.7},\"line_color\":{\"value\":\"#4daf4a\"},\"x\":{\"field\":\"x\"},\"y\":{\"field\":\"y\"}},\"id\":\"4bc7f63f-1ce2-4c91-92ec-f6cb84233e7c\",\"type\":\"Circle\"},{\"attributes\":{\"label\":{\"value\":\"CLIRAD\"},\"renderers\":[{\"id\":\"8b0400a2-f2c3-454a-bdd6-f2c76fd55b05\",\"type\":\"GlyphRenderer\"}]},\"id\":\"e93951f6-3cc0-4891-be79-cfced994301d\",\"type\":\"LegendItem\"},{\"attributes\":{\"above\":[{\"id\":\"98924b72-4a7c-421f-b89e-bf27c2d6b005\",\"type\":\"Legend\"}],\"below\":[{\"id\":\"3eebbe61-d687-47b6-9c73-fd7f1a948474\",\"type\":\"LinearAxis\"}],\"left\":[{\"id\":\"79f0e283-c6dc-4ad7-b714-a283f03b101f\",\"type\":\"LinearAxis\"}],\"plot_width\":300,\"renderers\":[{\"id\":\"3eebbe61-d687-47b6-9c73-fd7f1a948474\",\"type\":\"LinearAxis\"},{\"id\":\"dc818325-7983-467b-b9b6-8b9fe9407551\",\"type\":\"Grid\"},{\"id\":\"79f0e283-c6dc-4ad7-b714-a283f03b101f\",\"type\":\"LinearAxis\"},{\"id\":\"a75d4178-9c55-4841-8333-5d804c7a1674\",\"type\":\"Grid\"},{\"id\":\"3f68a38e-dccf-4edd-82ea-fe3cae3f4580\",\"type\":\"BoxAnnotation\"},{\"id\":\"8b0400a2-f2c3-454a-bdd6-f2c76fd55b05\",\"type\":\"GlyphRenderer\"},{\"id\":\"eadb55ba-77a6-4a7b-9ce1-aad7d3655ff8\",\"type\":\"GlyphRenderer\"},{\"id\":\"9ee3ed52-7544-4cb4-9b4e-c3ad2cf8613b\",\"type\":\"GlyphRenderer\"},{\"id\":\"98924b72-4a7c-421f-b89e-bf27c2d6b005\",\"type\":\"Legend\"}],\"title\":{\"id\":\"67619589-b931-48cb-839a-ac164ea9048c\",\"type\":\"Title\"},\"toolbar\":{\"id\":\"0dfd41f7-866d-4276-a38c-e096937e3c7d\",\"type\":\"Toolbar\"},\"toolbar_location\":null,\"x_range\":{\"id\":\"7e9f3a6e-60ec-4ca7-b67f-77df4109d1f5\",\"type\":\"Range1d\"},\"x_scale\":{\"id\":\"36513d61-076e-42af-a003-f4f5cdc17920\",\"type\":\"LinearScale\"},\"y_range\":{\"id\":\"9af71cc4-786e-483a-becc-5ee0ec7d8724\",\"type\":\"Range1d\"},\"y_scale\":{\"id\":\"1ca753d8-a8a9-4c37-81c3-a4f599a8d845\",\"type\":\"LinearScale\"}},\"id\":\"74e5bc49-f906-4e59-b3e0-bd86f2ea362e\",\"subtype\":\"Figure\",\"type\":\"Plot\"},{\"attributes\":{},\"id\":\"3d08a8c5-a409-4bf9-8391-bb0021b24192\",\"type\":\"WheelZoomTool\"},{\"attributes\":{\"callback\":null,\"end\":0.04096057969999999,\"start\":-0.019921149699999977},\"id\":\"b87e5476-8f2c-463d-bcbc-5eceeff8f5df\",\"type\":\"Range1d\"},{\"attributes\":{\"line_alpha\":0.1,\"line_color\":\"#1f77b4\",\"line_width\":1.5,\"x\":{\"field\":\"x\"},\"y\":{\"field\":\"y\"}},\"id\":\"3bca09e7-edb4-4109-866e-5bec62bf1c8c\",\"type\":\"Line\"},{\"attributes\":{\"source\":{\"id\":\"71084fe0-9706-41d6-bb78-6b39e362ded4\",\"type\":\"ColumnDataSource\"}},\"id\":\"47c8ee32-ca2b-4bf7-bf93-a0943ea838ba\",\"type\":\"CDSView\"},{\"attributes\":{},\"id\":\"e0e26cdc-4b6d-479e-a17b-6c6909c34964\",\"type\":\"LogScale\"},{\"attributes\":{\"callback\":null,\"data\":{\"x\":{\"__ndarray__\":\"XLWE3/puur94oj3BckK6v6L6vQPy27m/bT7HqrVuub8/dsMomwG5vwAegdrQlri/JOgbEKIuuL+2UMLk98q3v31ua4Ldbbe/oEVjq9Mat78RmK8Ux9a2v9FiPXaWp7a/8E3vvDaWtr+L6yTK+qe2v3mdNcE1zLW/Ffv+327Psb9w9APnJEWlv9qySWzh83u/Kv0us6LioT/Ppk4A+Lm1P93oCIWtfsI/CFIx53ylyz945qsFcuDRPytWJl99OtE/3ckrAFsYyT/5xXyrOzfAP1W59T9lobM/4Rdz5Dz0pj+MU6BbV+ibP3uBCFpJd5I/KjLxSVKSiD+EZ68v88x8P+9C7RpYPm8/EnK9qL8QWT+loo/DaUthvzVDhGG72X2/tcyHP0FkiL8ARBhERjWQv03p+9G5oJW/X9/72ZeFm79wwG3B4Aeev15/TwJUnpy/FzIuh6PMmr8j+lLLGBeZv6rNU6scS5e/lhaB89pTlb+zDvgQFSmTvyXJj9JOyJC/vQdSozxljL/Ee/xIi9+GvzrlAjULJIG/DMPAZaC6dr+VDzmtv5RmvzHI/jNRa/c+NFij5PZHZz/HwINk1pJ3P1Kstn34AoI/ppVZvAyKiD9V0Qb92GaPPw5C4EtYUJM/85vb56Uglz/T9XfIKiubP5s/v1IKeJ8/g0OO/q4Hoj/32DXY1nqkPx+eiPLDEKc/1G/iiA6xqT+Eu4M9xSisP8f0DRd8RK4/84j/q/b/rz+o2weQCcewP8Y1UnfklrE/bGElBWeHsj/J1nLopq2zP9lNnQWpLbU/\",\"dtype\":\"float64\",\"shape\":[75]},\"y\":{\"__ndarray__\":\"GhExyth1ND/Sv8nbtpRIP2vylNV0PVE/aTum7souWD/At0SJ8fVgPw3Iuahxymc/MSNhhJWvcD/bTfBN02d3P2zb5nxnaoA/CD5h5MAGhz8NmeH1TyaQP+zrCsc9p5Y/LbKd76fGnz/bLW5ISEmmPww9YvTcQq8/JV2OstnstT8Er5Y7M8G+P0c+r3jqkcU/5h99k6ZBzj88bCIzFzjVP4enV8oyxN0//yH99nXg5D8qOpLLf0jtP5kqGJXUifQ/c9cS8kHP/D+/DpwzojQEQIEmwoanVwxA4lgXt9HgE0BSSZ2AJuIbQAMJih9jjiNA5q4l5INuK0AwTKYKRj0zQNv5fmq8/DpAaCJseHrtQkB/+zpwzoxKQM3MzMzMeFJAZmZmZmZqWEAAAAAAAFxeQM3MzMzMJmJAmpmZmZkfZUBmZmZmZhhoQDMzMzMzEWtAAAAAAAAKbkBmZmZmZoFwQM3MzMzM/XFAMzMzMzN6c0CamZmZmfZ0QAAAAAAAc3ZAZmZmZmbvd0DNzMzMzGt5QDMzMzMz6HpAmpmZmZlkfEAAAAAAAOF9QGZmZmZmXX9AZmZmZuZsgECamZmZGSuBQM3MzMxM6YFAAAAAAICngkAzMzMzs2WDQGZmZmbmI4RAmpmZmRnihEDNzMzMTKCFQAAAAACAXoZAMzMzM7Mch0BmZmZm5tqHQJqZmZkZmYhAzczMzExXiUAAAAAAgBWKQDMzMzOz04pAZmZmZuaRi0CamZmZGVCMQM3MzMxMDo1AAAAAAIDMjUAzMzMzs4qOQGZmZmbmSI9A\",\"dtype\":\"float64\",\"shape\":[75]}},\"selected\":{\"id\":\"226538d4-557f-4259-ac85-cea03331541e\",\"type\":\"Selection\"},\"selection_policy\":{\"id\":\"94d5f05f-fdb7-4d99-9b3b-426f2f709a8c\",\"type\":\"UnionRenderers\"}},\"id\":\"71084fe0-9706-41d6-bb78-6b39e362ded4\",\"type\":\"ColumnDataSource\"},{\"attributes\":{\"callback\":null,\"data\":{\"x\":{\"__ndarray__\":\"XLWE3/puur94oj3BckK6v6L6vQPy27m/bT7HqrVuub8/dsMomwG5vwAegdrQlri/JOgbEKIuuL+2UMLk98q3v31ua4Ldbbe/oEVjq9Mat78RmK8Ux9a2v9FiPXaWp7a/8E3vvDaWtr+L6yTK+qe2v3mdNcE1zLW/Ffv+327Psb9w9APnJEWlv9qySWzh83u/Kv0us6LioT/Ppk4A+Lm1P93oCIWtfsI/CFIx53ylyz945qsFcuDRPytWJl99OtE/3ckrAFsYyT/5xXyrOzfAP1W59T9lobM/4Rdz5Dz0pj+MU6BbV+ibP3uBCFpJd5I/KjLxSVKSiD+EZ68v88x8P+9C7RpYPm8/EnK9qL8QWT+loo/DaUthvzVDhGG72X2/tcyHP0FkiL8ARBhERjWQv03p+9G5oJW/X9/72ZeFm79wwG3B4Aeev15/TwJUnpy/FzIuh6PMmr8j+lLLGBeZv6rNU6scS5e/lhaB89pTlb+zDvgQFSmTvyXJj9JOyJC/vQdSozxljL/Ee/xIi9+GvzrlAjULJIG/DMPAZaC6dr+VDzmtv5RmvzHI/jNRa/c+NFij5PZHZz/HwINk1pJ3P1Kstn34AoI/ppVZvAyKiD9V0Qb92GaPPw5C4EtYUJM/85vb56Uglz/T9XfIKiubP5s/v1IKeJ8/g0OO/q4Hoj/32DXY1nqkPx+eiPLDEKc/1G/iiA6xqT+Eu4M9xSisP8f0DRd8RK4/84j/q/b/rz+o2weQCcewP8Y1UnfklrE/bGElBWeHsj/J1nLopq2zP9lNnQWpLbU/\",\"dtype\":\"float64\",\"shape\":[75]},\"y\":{\"__ndarray__\":\"GhExyth1ND/Sv8nbtpRIP2vylNV0PVE/aTum7souWD/At0SJ8fVgPw3Iuahxymc/MSNhhJWvcD/bTfBN02d3P2zb5nxnaoA/CD5h5MAGhz8NmeH1TyaQP+zrCsc9p5Y/LbKd76fGnz/bLW5ISEmmPww9YvTcQq8/JV2OstnstT8Er5Y7M8G+P0c+r3jqkcU/5h99k6ZBzj88bCIzFzjVP4enV8oyxN0//yH99nXg5D8qOpLLf0jtP5kqGJXUifQ/c9cS8kHP/D+/DpwzojQEQIEmwoanVwxA4lgXt9HgE0BSSZ2AJuIbQAMJih9jjiNA5q4l5INuK0AwTKYKRj0zQNv5fmq8/DpAaCJseHrtQkB/+zpwzoxKQM3MzMzMeFJAZmZmZmZqWEAAAAAAAFxeQM3MzMzMJmJAmpmZmZkfZUBmZmZmZhhoQDMzMzMzEWtAAAAAAAAKbkBmZmZmZoFwQM3MzMzM/XFAMzMzMzN6c0CamZmZmfZ0QAAAAAAAc3ZAZmZmZmbvd0DNzMzMzGt5QDMzMzMz6HpAmpmZmZlkfEAAAAAAAOF9QGZmZmZmXX9AZmZmZuZsgECamZmZGSuBQM3MzMxM6YFAAAAAAICngkAzMzMzs2WDQGZmZmbmI4RAmpmZmRnihEDNzMzMTKCFQAAAAACAXoZAMzMzM7Mch0BmZmZm5tqHQJqZmZkZmYhAzczMzExXiUAAAAAAgBWKQDMzMzOz04pAZmZmZuaRi0CamZmZGVCMQM3MzMxMDo1AAAAAAIDMjUAzMzMzs4qOQGZmZmbmSI9A\",\"dtype\":\"float64\",\"shape\":[75]}},\"selected\":{\"id\":\"bb4c6bd4-f12d-4028-89fb-cb316b69d2aa\",\"type\":\"Selection\"},\"selection_policy\":{\"id\":\"4eeaf039-5ff2-4606-b3b4-bdd931ca93f2\",\"type\":\"UnionRenderers\"}},\"id\":\"73ebda3d-b3aa-495c-a736-4cd8cae7cdca\",\"type\":\"ColumnDataSource\"},{\"attributes\":{\"data_source\":{\"id\":\"71084fe0-9706-41d6-bb78-6b39e362ded4\",\"type\":\"ColumnDataSource\"},\"glyph\":{\"id\":\"3937d5e5-51a1-4fe4-be77-f3aba76ede94\",\"type\":\"Line\"},\"hover_glyph\":null,\"muted_glyph\":null,\"nonselection_glyph\":{\"id\":\"3bca09e7-edb4-4109-866e-5bec62bf1c8c\",\"type\":\"Line\"},\"selection_glyph\":null,\"view\":{\"id\":\"47c8ee32-ca2b-4bf7-bf93-a0943ea838ba\",\"type\":\"CDSView\"}},\"id\":\"ea5d678b-2702-4089-a4a2-c464c9db79b7\",\"type\":\"GlyphRenderer\"},{\"attributes\":{\"line_alpha\":0.8,\"line_color\":\"#984ea3\",\"line_width\":1.5,\"x\":{\"field\":\"x\"},\"y\":{\"field\":\"y\"}},\"id\":\"ff190351-4143-441d-a007-bb1250b29b7e\",\"type\":\"Line\"},{\"attributes\":{\"source\":{\"id\":\"afc7467d-9a02-456e-ba07-cf725c8fe1b5\",\"type\":\"ColumnDataSource\"}},\"id\":\"a69308d9-e710-449c-af9c-cf0133dc5848\",\"type\":\"CDSView\"},{\"attributes\":{\"fill_alpha\":{\"value\":0.1},\"fill_color\":{\"value\":\"#1f77b4\"},\"line_alpha\":{\"value\":0.1},\"line_color\":{\"value\":\"#1f77b4\"},\"x\":{\"field\":\"x\"},\"y\":{\"field\":\"y\"}},\"id\":\"3d9826de-93f9-403f-9335-3028bb5bc0d3\",\"type\":\"Circle\"},{\"attributes\":{\"line_alpha\":0.6,\"line_color\":\"#e41a1c\",\"line_dash\":[6],\"line_width\":5,\"x\":{\"field\":\"x\"},\"y\":{\"field\":\"y\"}},\"id\":\"d76861cd-9065-4745-99a5-73f5212f1763\",\"type\":\"Line\"},{\"attributes\":{\"line_alpha\":0.1,\"line_color\":\"#1f77b4\",\"line_dash\":[6],\"line_width\":5,\"x\":{\"field\":\"x\"},\"y\":{\"field\":\"y\"}},\"id\":\"b39e9d18-e9a0-4ef1-8440-403f4eadd3db\",\"type\":\"Line\"},{\"attributes\":{\"callback\":null,\"data\":{\"x\":{\"__ndarray__\":\"CPKnHk0bsL+cG8bpk/ivv68qd3Zkcq+/1CGnF8vgrr+Mmuc87lGuv2J2TGaHu62/kD7ydqAorb/hb+FkDo6sv9ADlJCM+Ku/Y62pRadbq7/rVatJzMCqv6ErxRm5Kqq/qUgbzeWUqb9fp/bBsP6ovyMbh3ve7aa/7Qt2MFN0oL+hRIPIrT+Fvyd/nNWnwZE/L/eUX7Biqj+Ua8OO6ue3P8jmT8Abd8I/+lzx/aI+yj9dFMEo1qPQP5mwBdbUptA/Oipx/NShyj9ykOdl2h/DP8WfzDLQJLk/7tFnfGnOrT/t4mObRwqgP66TAiT9apA/SnnmU3JPgT8PY2+1kHh0PzB3R3Uj9G8/IjGnpgkEZj9dixMx/lxRv3kCxfY45ny/Uw/Evgziib9R7NO37feRv8h3O1iFIZi/IK3HA+VEnr+W10J35nGgv8FQo2qds5+/QnEgVESunb87SVU7DKubv2uLquBpkpm/Th7XBQpcl79+B4OO/fyUv2MEqDcQg5K/ELJ4Jj67j7+7ioCbqTaKv61+b0qun4S/ExxsqNc4fr+KYSZReBdzv4tr4+RKcWC/dNVa5l0GRj+Q9fdC315sPwuE7BZrOno/1qYYfGZ9gz+BLC3rSkCKP3iUfWnnupA/2RiFbkCVlD9OQNm1OaWYPwRhwPXVE50/p3jq/qLloD9RktsaBGKjP6vH/CpgBaY/VaGQg2OtqD9ct+V84TCrP5PWJOfgc60/AFTUDdJbrz8H7ctV0I2wPxMwSmh8c7E/76SS9Sxssj/BIRz/eo+zP1qxPmyJ37Q/\",\"dtype\":\"float64\",\"shape\":[75]},\"y\":{\"__ndarray__\":\"GhExyth1ND/Sv8nbtpRIP2vylNV0PVE/aTum7souWD/At0SJ8fVgPw3Iuahxymc/MSNhhJWvcD/bTfBN02d3P2zb5nxnaoA/CD5h5MAGhz8NmeH1TyaQP+zrCsc9p5Y/LbKd76fGnz/bLW5ISEmmPww9YvTcQq8/JV2OstnstT8Er5Y7M8G+P0c+r3jqkcU/5h99k6ZBzj88bCIzFzjVP4enV8oyxN0//yH99nXg5D8qOpLLf0jtP5kqGJXUifQ/c9cS8kHP/D+/DpwzojQEQIEmwoanVwxA4lgXt9HgE0BSSZ2AJuIbQAMJih9jjiNA5q4l5INuK0AwTKYKRj0zQNv5fmq8/DpAaCJseHrtQkB/+zpwzoxKQM3MzMzMeFJAZmZmZmZqWEAAAAAAAFxeQM3MzMzMJmJAmpmZmZkfZUBmZmZmZhhoQDMzMzMzEWtAAAAAAAAKbkBmZmZmZoFwQM3MzMzM/XFAMzMzMzN6c0CamZmZmfZ0QAAAAAAAc3ZAZmZmZmbvd0DNzMzMzGt5QDMzMzMz6HpAmpmZmZlkfEAAAAAAAOF9QGZmZmZmXX9AZmZmZuZsgECamZmZGSuBQM3MzMxM6YFAAAAAAICngkAzMzMzs2WDQGZmZmbmI4RAmpmZmRnihEDNzMzMTKCFQAAAAACAXoZAMzMzM7Mch0BmZmZm5tqHQJqZmZkZmYhAzczMzExXiUAAAAAAgBWKQDMzMzOz04pAZmZmZuaRi0CamZmZGVCMQM3MzMxMDo1AAAAAAIDMjUAzMzMzs4qOQGZmZmbmSI9A\",\"dtype\":\"float64\",\"shape\":[75]}},\"selected\":{\"id\":\"10de1473-4a8a-4f88-b0c7-51a1cec8c8f3\",\"type\":\"Selection\"},\"selection_policy\":{\"id\":\"47f24f9b-3248-4d58-941b-6876968263db\",\"type\":\"UnionRenderers\"}},\"id\":\"93ca3fbe-174b-4882-ab35-6ab77c8bf760\",\"type\":\"ColumnDataSource\"},{\"attributes\":{\"data_source\":{\"id\":\"73ebda3d-b3aa-495c-a736-4cd8cae7cdca\",\"type\":\"ColumnDataSource\"},\"glyph\":{\"id\":\"4bc7f63f-1ce2-4c91-92ec-f6cb84233e7c\",\"type\":\"Circle\"},\"hover_glyph\":null,\"muted_glyph\":null,\"nonselection_glyph\":{\"id\":\"3d9826de-93f9-403f-9335-3028bb5bc0d3\",\"type\":\"Circle\"},\"selection_glyph\":null,\"view\":{\"id\":\"1c6fd68f-89ae-4920-8f1d-9549621f64ab\",\"type\":\"CDSView\"}},\"id\":\"0af9cf13-5cb3-4780-9ba0-b9e234dd91a9\",\"type\":\"GlyphRenderer\"},{\"attributes\":{\"line_alpha\":0.1,\"line_color\":\"#1f77b4\",\"line_width\":1.5,\"x\":{\"field\":\"x\"},\"y\":{\"field\":\"y\"}},\"id\":\"cd472251-ef8a-4c5a-8cc2-07c43b05e0e4\",\"type\":\"Line\"},{\"attributes\":{\"line_color\":\"#4daf4a\",\"line_width\":1.5,\"x\":{\"field\":\"x\"},\"y\":{\"field\":\"y\"}},\"id\":\"3937d5e5-51a1-4fe4-be77-f3aba76ede94\",\"type\":\"Line\"}],\"root_ids\":[\"e077a771-8760-4d95-8a9d-6747657b74fa\"]},\"title\":\"Bokeh Application\",\"version\":\"0.12.16\"}};\n",
       "  var render_items = [{\"docid\":\"4e57f9cb-1bc9-4815-9a2c-cff6c571f6dd\",\"elementid\":\"d5f982bb-f74e-4c91-9ea7-78dbbafc697d\",\"modelid\":\"e077a771-8760-4d95-8a9d-6747657b74fa\"}];\n",
       "  root.Bokeh.embed.embed_items_notebook(docs_json, render_items);\n",
       "\n",
       "  }\n",
       "  if (root.Bokeh !== undefined) {\n",
       "    embed_document(root);\n",
       "  } else {\n",
       "    var attempts = 0;\n",
       "    var timer = setInterval(function(root) {\n",
       "      if (root.Bokeh !== undefined) {\n",
       "        embed_document(root);\n",
       "        clearInterval(timer);\n",
       "      }\n",
       "      attempts++;\n",
       "      if (attempts > 100) {\n",
       "        console.log(\"Bokeh: ERROR: Unable to run BokehJS code because BokehJS library is missing\")\n",
       "        clearInterval(timer);\n",
       "      }\n",
       "    }, 10, root)\n",
       "  }\n",
       "})(window);"
      ],
      "application/vnd.bokehjs_exec.v0+json": ""
     },
     "metadata": {
      "application/vnd.bokehjs_exec.v0+json": {
       "id": "e077a771-8760-4d95-8a9d-6747657b74fa"
      }
     },
     "output_type": "display_data"
    },
    {
     "data": {
      "text/markdown": [
       "*FIGURE.* Cooling rates & difference."
      ],
      "text/plain": [
       "<IPython.core.display.Markdown object>"
      ]
     },
     "metadata": {},
     "output_type": "display_data"
    },
    {
     "data": {
      "text/html": [
       "<a id=\"Fluxes._mls.\"></a>"
      ],
      "text/plain": [
       "<IPython.core.display.HTML object>"
      ]
     },
     "metadata": {},
     "output_type": "display_data"
    },
    {
     "data": {
      "text/markdown": [
       "# Fluxes. mls."
      ],
      "text/plain": [
       "<IPython.core.display.Markdown object>"
      ]
     },
     "metadata": {},
     "output_type": "display_data"
    },
    {
     "data": {
      "text/html": [
       "\n",
       "<div class=\"bk-root\">\n",
       "    <div class=\"bk-plotdiv\" id=\"050a8aed-8c23-43a7-8442-476d37f979c5\"></div>\n",
       "</div>"
      ]
     },
     "metadata": {},
     "output_type": "display_data"
    },
    {
     "data": {
      "application/javascript": [
       "(function(root) {\n",
       "  function embed_document(root) {\n",
       "    \n",
       "  var docs_json = {\"c73f0655-6b44-424a-948b-ac4cd38244a2\":{\"roots\":{\"references\":[{\"attributes\":{},\"id\":\"e90ed5a9-8c5d-40ba-9689-9349f5cfdf27\",\"type\":\"UnionRenderers\"},{\"attributes\":{},\"id\":\"c1868d21-9974-4163-96b7-48c5d8352742\",\"type\":\"WheelZoomTool\"},{\"attributes\":{\"axis_label\":\"flux (W m-2)\",\"formatter\":{\"id\":\"2a0ddc49-8c04-4c91-80e3-ec797a650c84\",\"type\":\"BasicTickFormatter\"},\"plot\":{\"id\":\"1d4ddc58-890c-4fb4-b538-5ee64622c888\",\"subtype\":\"Figure\",\"type\":\"Plot\"},\"ticker\":{\"id\":\"9a825791-941d-455a-a9fa-68b737c83b2b\",\"type\":\"BasicTicker\"}},\"id\":\"140d3600-b00d-4e73-a505-f0039d4d754b\",\"type\":\"LinearAxis\"},{\"attributes\":{},\"id\":\"04169626-0ed7-4783-8d33-798dab6c71e5\",\"type\":\"HelpTool\"},{\"attributes\":{\"fill_alpha\":{\"value\":0.1},\"fill_color\":{\"value\":\"#1f77b4\"},\"line_alpha\":{\"value\":0.1},\"line_color\":{\"value\":\"#1f77b4\"},\"top\":{\"field\":\"flux\"},\"width\":{\"value\":0.9},\"x\":{\"field\":\"band\"}},\"id\":\"be64b067-d975-4ae2-a9e6-cdd66db86bcb\",\"type\":\"VBar\"},{\"attributes\":{},\"id\":\"c5195b12-17e0-404f-9162-8fc788ef9888\",\"type\":\"Selection\"},{\"attributes\":{},\"id\":\"b71af709-a3de-43a5-8d08-7c2c1d50f383\",\"type\":\"LinearScale\"},{\"attributes\":{},\"id\":\"9a825791-941d-455a-a9fa-68b737c83b2b\",\"type\":\"BasicTicker\"},{\"attributes\":{\"plot\":null,\"text\":\"Atmosphere heating. CLIRAD - CRD.\"},\"id\":\"9b59c655-ede8-4218-b649-70873504d4ef\",\"type\":\"Title\"},{\"attributes\":{},\"id\":\"754519a3-e501-4a61-862e-699b6c049226\",\"type\":\"HelpTool\"},{\"attributes\":{\"fill_alpha\":{\"value\":0.1},\"fill_color\":{\"value\":\"#1f77b4\"},\"line_alpha\":{\"value\":0.1},\"line_color\":{\"value\":\"#1f77b4\"},\"top\":{\"field\":\"flux\"},\"width\":{\"value\":0.9},\"x\":{\"field\":\"band\"}},\"id\":\"06ea252e-e1e7-4f29-b43a-885dcbfa706e\",\"type\":\"VBar\"},{\"attributes\":{\"plot\":{\"id\":\"39c01e7e-818f-4d30-b386-93fc5e7bf92a\",\"subtype\":\"Figure\",\"type\":\"Plot\"},\"ticker\":{\"id\":\"3696bb1c-ea88-4311-8247-85e84c1d40d4\",\"type\":\"CategoricalTicker\"}},\"id\":\"cf5de05b-1c75-4a07-9a83-437cbed32703\",\"type\":\"Grid\"},{\"attributes\":{\"active_drag\":\"auto\",\"active_inspect\":\"auto\",\"active_scroll\":\"auto\",\"active_tap\":\"auto\",\"tools\":[{\"id\":\"0acacc92-4a6f-4ae1-ae05-cfa53e4f87c0\",\"type\":\"PanTool\"},{\"id\":\"c1868d21-9974-4163-96b7-48c5d8352742\",\"type\":\"WheelZoomTool\"},{\"id\":\"01eae342-0674-4eaa-91e9-9ff563061fca\",\"type\":\"BoxZoomTool\"},{\"id\":\"b9a9a9db-209a-4b7d-a257-425919e045da\",\"type\":\"SaveTool\"},{\"id\":\"c9847610-707a-4b30-959e-9d441b51976b\",\"type\":\"ResetTool\"},{\"id\":\"04169626-0ed7-4783-8d33-798dab6c71e5\",\"type\":\"HelpTool\"}]},\"id\":\"82c86785-7f55-4245-9bf1-b3359cd20ebf\",\"type\":\"Toolbar\"},{\"attributes\":{\"children\":[{\"id\":\"9918e831-eaae-462c-b48c-81c678cf3111\",\"type\":\"ToolbarBox\"},{\"id\":\"d9261708-6ffe-4708-97a5-1ab1575cd15a\",\"type\":\"Column\"}]},\"id\":\"423c2acd-ed0a-4b0c-abdb-fa4cf1d2bfef\",\"type\":\"Column\"},{\"attributes\":{\"callback\":null,\"factors\":[\"9\"]},\"id\":\"c2ff955a-1132-4ec7-a96f-0a5d86340483\",\"type\":\"FactorRange\"},{\"attributes\":{},\"id\":\"f75cb42e-8f4c-40e4-95c2-23326e184901\",\"type\":\"ResetTool\"},{\"attributes\":{\"source\":{\"id\":\"105e103c-1be1-4917-aab9-913a15483809\",\"type\":\"ColumnDataSource\"}},\"id\":\"0fb33b31-ad01-4ae8-aa6e-42aad932c693\",\"type\":\"CDSView\"},{\"attributes\":{\"fill_color\":{\"value\":\"#1f77b4\"},\"line_color\":{\"value\":\"#1f77b4\"},\"top\":{\"field\":\"flux\"},\"width\":{\"value\":0.9},\"x\":{\"field\":\"band\"}},\"id\":\"95c3e69d-d39a-41e8-b5ec-7eb8b7940eb1\",\"type\":\"VBar\"},{\"attributes\":{\"axis_label\":\"flux (W m-2)\",\"formatter\":{\"id\":\"70b6b8bd-da07-426f-9d03-aaffbffac17f\",\"type\":\"BasicTickFormatter\"},\"plot\":{\"id\":\"39c01e7e-818f-4d30-b386-93fc5e7bf92a\",\"subtype\":\"Figure\",\"type\":\"Plot\"},\"ticker\":{\"id\":\"943197d0-75b8-4240-8c4e-fd3f53964d26\",\"type\":\"BasicTicker\"}},\"id\":\"445dc444-d854-41a1-8a92-fccb3d69396f\",\"type\":\"LinearAxis\"},{\"attributes\":{},\"id\":\"b644969d-d5d7-49a4-aa32-0f381ec01425\",\"type\":\"CategoricalTicker\"},{\"attributes\":{},\"id\":\"16c5a971-8cd2-46b4-98e6-a76cac40b9b3\",\"type\":\"Selection\"},{\"attributes\":{},\"id\":\"bffa5e5a-1cfe-4c57-8946-56aa83cec5dc\",\"type\":\"CategoricalScale\"},{\"attributes\":{},\"id\":\"5f47d76b-fc57-4d8b-9849-344750fccc00\",\"type\":\"PanTool\"},{\"attributes\":{\"children\":[{\"id\":\"10f2c17e-8853-4004-8e8b-f2cbef1d2ff8\",\"type\":\"Row\"}]},\"id\":\"d9261708-6ffe-4708-97a5-1ab1575cd15a\",\"type\":\"Column\"},{\"attributes\":{\"bottom_units\":\"screen\",\"fill_alpha\":{\"value\":0.5},\"fill_color\":{\"value\":\"lightgrey\"},\"left_units\":\"screen\",\"level\":\"overlay\",\"line_alpha\":{\"value\":1.0},\"line_color\":{\"value\":\"black\"},\"line_dash\":[4,4],\"line_width\":{\"value\":2},\"plot\":null,\"render_mode\":\"css\",\"right_units\":\"screen\",\"top_units\":\"screen\"},\"id\":\"44882dd9-c398-4375-9775-815a076ad198\",\"type\":\"BoxAnnotation\"},{\"attributes\":{},\"id\":\"23d95f1f-6553-4951-8bfd-fa6be631b6fa\",\"type\":\"LinearScale\"},{\"attributes\":{\"dimension\":1,\"plot\":{\"id\":\"39c01e7e-818f-4d30-b386-93fc5e7bf92a\",\"subtype\":\"Figure\",\"type\":\"Plot\"},\"ticker\":{\"id\":\"943197d0-75b8-4240-8c4e-fd3f53964d26\",\"type\":\"BasicTicker\"}},\"id\":\"95a9d369-f794-4346-8c81-9e61d299943e\",\"type\":\"Grid\"},{\"attributes\":{\"callback\":null},\"id\":\"42155b85-1ead-425a-89d8-0b5ec1730ae4\",\"type\":\"DataRange1d\"},{\"attributes\":{\"callback\":null,\"data\":{\"band\":[\"9\"],\"flux\":{\"__ndarray__\":\"APPGSWHeyT8=\",\"dtype\":\"float64\",\"shape\":[1]}},\"selected\":{\"id\":\"c5195b12-17e0-404f-9162-8fc788ef9888\",\"type\":\"Selection\"},\"selection_policy\":{\"id\":\"e90ed5a9-8c5d-40ba-9689-9349f5cfdf27\",\"type\":\"UnionRenderers\"}},\"id\":\"90a21e2d-2f68-42c6-8691-7e187430c011\",\"type\":\"ColumnDataSource\"},{\"attributes\":{},\"id\":\"2a0ddc49-8c04-4c91-80e3-ec797a650c84\",\"type\":\"BasicTickFormatter\"},{\"attributes\":{\"callback\":null},\"id\":\"882165ad-878d-4d85-86d6-7a11f95cbe65\",\"type\":\"DataRange1d\"},{\"attributes\":{},\"id\":\"0acacc92-4a6f-4ae1-ae05-cfa53e4f87c0\",\"type\":\"PanTool\"},{\"attributes\":{\"bottom_units\":\"screen\",\"fill_alpha\":{\"value\":0.5},\"fill_color\":{\"value\":\"lightgrey\"},\"left_units\":\"screen\",\"level\":\"overlay\",\"line_alpha\":{\"value\":1.0},\"line_color\":{\"value\":\"black\"},\"line_dash\":[4,4],\"line_width\":{\"value\":2},\"plot\":null,\"render_mode\":\"css\",\"right_units\":\"screen\",\"top_units\":\"screen\"},\"id\":\"4c09c8fa-7c36-40b0-81e5-a8158f709e15\",\"type\":\"BoxAnnotation\"},{\"attributes\":{\"source\":{\"id\":\"6bbb375e-13af-4af3-bf4c-e7061c87c3a7\",\"type\":\"ColumnDataSource\"}},\"id\":\"ba79c8b6-f2e4-4345-ab80-4100a278e6de\",\"type\":\"CDSView\"},{\"attributes\":{\"plot\":{\"id\":\"7fba774e-1659-46dd-907d-e0fc747e23f9\",\"subtype\":\"Figure\",\"type\":\"Plot\"},\"ticker\":{\"id\":\"b644969d-d5d7-49a4-aa32-0f381ec01425\",\"type\":\"CategoricalTicker\"}},\"id\":\"4a2e8f28-260e-4a50-81e2-25b43e72c5c7\",\"type\":\"Grid\"},{\"attributes\":{},\"id\":\"158b6e5b-bd19-4d29-9407-b6c53b8e4f3a\",\"type\":\"HelpTool\"},{\"attributes\":{\"dimension\":1,\"plot\":{\"id\":\"7fba774e-1659-46dd-907d-e0fc747e23f9\",\"subtype\":\"Figure\",\"type\":\"Plot\"},\"ticker\":{\"id\":\"456c74e6-e854-4f04-943b-85bb35602f46\",\"type\":\"BasicTicker\"}},\"id\":\"30f3e3dd-1dca-4aa5-8261-3ff142ba3751\",\"type\":\"Grid\"},{\"attributes\":{},\"id\":\"4b1f6e14-5e32-4424-83d9-c05e66479839\",\"type\":\"CategoricalTickFormatter\"},{\"attributes\":{},\"id\":\"0dfcedf6-89c9-404d-8c8f-9757a304b82c\",\"type\":\"SaveTool\"},{\"attributes\":{\"data_source\":{\"id\":\"105e103c-1be1-4917-aab9-913a15483809\",\"type\":\"ColumnDataSource\"},\"glyph\":{\"id\":\"2f2108e9-6c56-433f-b0ab-21a14a33a8e6\",\"type\":\"VBar\"},\"hover_glyph\":null,\"muted_glyph\":null,\"nonselection_glyph\":{\"id\":\"8685f686-68bf-4f2d-acc3-8c6354609521\",\"type\":\"VBar\"},\"selection_glyph\":null,\"view\":{\"id\":\"0fb33b31-ad01-4ae8-aa6e-42aad932c693\",\"type\":\"CDSView\"}},\"id\":\"ec7d26d0-b229-4b2a-9c28-3b089c1549e1\",\"type\":\"GlyphRenderer\"},{\"attributes\":{},\"id\":\"4383d46e-7d62-46ca-8065-7b69ed9b53fc\",\"type\":\"CategoricalTickFormatter\"},{\"attributes\":{\"overlay\":{\"id\":\"44882dd9-c398-4375-9775-815a076ad198\",\"type\":\"BoxAnnotation\"}},\"id\":\"f0648493-b64a-46d1-8457-b76a056ac9da\",\"type\":\"BoxZoomTool\"},{\"attributes\":{\"axis_label\":\"spectral band\",\"formatter\":{\"id\":\"4b1f6e14-5e32-4424-83d9-c05e66479839\",\"type\":\"CategoricalTickFormatter\"},\"plot\":{\"id\":\"7fba774e-1659-46dd-907d-e0fc747e23f9\",\"subtype\":\"Figure\",\"type\":\"Plot\"},\"ticker\":{\"id\":\"b644969d-d5d7-49a4-aa32-0f381ec01425\",\"type\":\"CategoricalTicker\"}},\"id\":\"f5adeea6-0af8-4163-92f7-f51f63bb9c85\",\"type\":\"CategoricalAxis\"},{\"attributes\":{\"callback\":null,\"factors\":[\"9\"]},\"id\":\"af961eb8-9bc4-4d94-8b53-12ead04a2492\",\"type\":\"FactorRange\"},{\"attributes\":{},\"id\":\"69a30883-7755-42ef-9631-7a5902e136eb\",\"type\":\"WheelZoomTool\"},{\"attributes\":{},\"id\":\"1692edcc-1f40-490b-a69b-7636a0a0f301\",\"type\":\"Selection\"},{\"attributes\":{\"dimension\":1,\"plot\":{\"id\":\"1d4ddc58-890c-4fb4-b538-5ee64622c888\",\"subtype\":\"Figure\",\"type\":\"Plot\"},\"ticker\":{\"id\":\"9a825791-941d-455a-a9fa-68b737c83b2b\",\"type\":\"BasicTicker\"}},\"id\":\"de7ad068-7fca-45f0-a224-fc648150c2ba\",\"type\":\"Grid\"},{\"attributes\":{\"active_drag\":\"auto\",\"active_inspect\":\"auto\",\"active_scroll\":\"auto\",\"active_tap\":\"auto\",\"tools\":[{\"id\":\"5f47d76b-fc57-4d8b-9849-344750fccc00\",\"type\":\"PanTool\"},{\"id\":\"69a30883-7755-42ef-9631-7a5902e136eb\",\"type\":\"WheelZoomTool\"},{\"id\":\"50a22221-b19c-4ee1-bacd-6470140bf697\",\"type\":\"BoxZoomTool\"},{\"id\":\"0dfcedf6-89c9-404d-8c8f-9757a304b82c\",\"type\":\"SaveTool\"},{\"id\":\"f8ee9c7b-6654-4215-ad47-88d1e649399c\",\"type\":\"ResetTool\"},{\"id\":\"158b6e5b-bd19-4d29-9407-b6c53b8e4f3a\",\"type\":\"HelpTool\"}]},\"id\":\"555a6704-02f8-4a78-b0bf-0f66a9d7446d\",\"type\":\"Toolbar\"},{\"attributes\":{\"toolbar\":{\"id\":\"b731a831-5c54-42cf-90e0-e10083708b75\",\"type\":\"ProxyToolbar\"},\"toolbar_location\":\"above\"},\"id\":\"9918e831-eaae-462c-b48c-81c678cf3111\",\"type\":\"ToolbarBox\"},{\"attributes\":{\"data_source\":{\"id\":\"6bbb375e-13af-4af3-bf4c-e7061c87c3a7\",\"type\":\"ColumnDataSource\"},\"glyph\":{\"id\":\"98f99b9f-148d-4272-a04b-d42952ef6b25\",\"type\":\"VBar\"},\"hover_glyph\":null,\"muted_glyph\":null,\"nonselection_glyph\":{\"id\":\"be64b067-d975-4ae2-a9e6-cdd66db86bcb\",\"type\":\"VBar\"},\"selection_glyph\":null,\"view\":{\"id\":\"ba79c8b6-f2e4-4345-ab80-4100a278e6de\",\"type\":\"CDSView\"}},\"id\":\"d4284631-c8bc-46df-b4b2-af8f7de056df\",\"type\":\"GlyphRenderer\"},{\"attributes\":{\"source\":{\"id\":\"90a21e2d-2f68-42c6-8691-7e187430c011\",\"type\":\"ColumnDataSource\"}},\"id\":\"d99e1ffe-4dbc-49dc-8b19-b7285adc14aa\",\"type\":\"CDSView\"},{\"attributes\":{\"fill_alpha\":{\"value\":0.1},\"fill_color\":{\"value\":\"#1f77b4\"},\"line_alpha\":{\"value\":0.1},\"line_color\":{\"value\":\"#1f77b4\"},\"top\":{\"field\":\"flux\"},\"width\":{\"value\":0.9},\"x\":{\"field\":\"band\"}},\"id\":\"8685f686-68bf-4f2d-acc3-8c6354609521\",\"type\":\"VBar\"},{\"attributes\":{\"axis_label\":\"spectral band\",\"formatter\":{\"id\":\"e627d432-43c2-4393-aac6-92b4d7ac75f9\",\"type\":\"CategoricalTickFormatter\"},\"plot\":{\"id\":\"39c01e7e-818f-4d30-b386-93fc5e7bf92a\",\"subtype\":\"Figure\",\"type\":\"Plot\"},\"ticker\":{\"id\":\"3696bb1c-ea88-4311-8247-85e84c1d40d4\",\"type\":\"CategoricalTicker\"}},\"id\":\"58abde65-bec9-4463-a63e-3bdabef8f450\",\"type\":\"CategoricalAxis\"},{\"attributes\":{\"data_source\":{\"id\":\"90a21e2d-2f68-42c6-8691-7e187430c011\",\"type\":\"ColumnDataSource\"},\"glyph\":{\"id\":\"95c3e69d-d39a-41e8-b5ec-7eb8b7940eb1\",\"type\":\"VBar\"},\"hover_glyph\":null,\"muted_glyph\":null,\"nonselection_glyph\":{\"id\":\"06ea252e-e1e7-4f29-b43a-885dcbfa706e\",\"type\":\"VBar\"},\"selection_glyph\":null,\"view\":{\"id\":\"d99e1ffe-4dbc-49dc-8b19-b7285adc14aa\",\"type\":\"CDSView\"}},\"id\":\"3ea423dd-e1ba-4295-b8cb-2676bc868bbc\",\"type\":\"GlyphRenderer\"},{\"attributes\":{},\"id\":\"28f8f639-1bfe-4961-b7e8-c0c90190624e\",\"type\":\"SaveTool\"},{\"attributes\":{\"below\":[{\"id\":\"f5adeea6-0af8-4163-92f7-f51f63bb9c85\",\"type\":\"CategoricalAxis\"}],\"left\":[{\"id\":\"d02de3bd-1444-43e5-ad58-834b695a6570\",\"type\":\"LinearAxis\"}],\"plot_height\":300,\"plot_width\":300,\"renderers\":[{\"id\":\"f5adeea6-0af8-4163-92f7-f51f63bb9c85\",\"type\":\"CategoricalAxis\"},{\"id\":\"4a2e8f28-260e-4a50-81e2-25b43e72c5c7\",\"type\":\"Grid\"},{\"id\":\"d02de3bd-1444-43e5-ad58-834b695a6570\",\"type\":\"LinearAxis\"},{\"id\":\"30f3e3dd-1dca-4aa5-8261-3ff142ba3751\",\"type\":\"Grid\"},{\"id\":\"6c4a9fdc-c88d-4661-8da3-b6372a63e62e\",\"type\":\"BoxAnnotation\"},{\"id\":\"d4284631-c8bc-46df-b4b2-af8f7de056df\",\"type\":\"GlyphRenderer\"}],\"title\":{\"id\":\"10e0cc8b-815a-47ce-bedb-eb787a57bb92\",\"type\":\"Title\"},\"toolbar\":{\"id\":\"555a6704-02f8-4a78-b0bf-0f66a9d7446d\",\"type\":\"Toolbar\"},\"toolbar_location\":null,\"x_range\":{\"id\":\"192d42e1-db5a-4ac2-aac1-1c2e97ea406d\",\"type\":\"FactorRange\"},\"x_scale\":{\"id\":\"7fcf7465-d51a-4e26-9075-1dbf91ac7289\",\"type\":\"CategoricalScale\"},\"y_range\":{\"id\":\"882165ad-878d-4d85-86d6-7a11f95cbe65\",\"type\":\"DataRange1d\"},\"y_scale\":{\"id\":\"b71af709-a3de-43a5-8d08-7c2c1d50f383\",\"type\":\"LinearScale\"}},\"id\":\"7fba774e-1659-46dd-907d-e0fc747e23f9\",\"subtype\":\"Figure\",\"type\":\"Plot\"},{\"attributes\":{\"below\":[{\"id\":\"58abde65-bec9-4463-a63e-3bdabef8f450\",\"type\":\"CategoricalAxis\"}],\"left\":[{\"id\":\"445dc444-d854-41a1-8a92-fccb3d69396f\",\"type\":\"LinearAxis\"}],\"plot_height\":300,\"plot_width\":300,\"renderers\":[{\"id\":\"58abde65-bec9-4463-a63e-3bdabef8f450\",\"type\":\"CategoricalAxis\"},{\"id\":\"cf5de05b-1c75-4a07-9a83-437cbed32703\",\"type\":\"Grid\"},{\"id\":\"445dc444-d854-41a1-8a92-fccb3d69396f\",\"type\":\"LinearAxis\"},{\"id\":\"95a9d369-f794-4346-8c81-9e61d299943e\",\"type\":\"Grid\"},{\"id\":\"44882dd9-c398-4375-9775-815a076ad198\",\"type\":\"BoxAnnotation\"},{\"id\":\"ec7d26d0-b229-4b2a-9c28-3b089c1549e1\",\"type\":\"GlyphRenderer\"}],\"title\":{\"id\":\"502418a9-d8a7-4ccf-8c80-d6aacd8dd252\",\"type\":\"Title\"},\"toolbar\":{\"id\":\"e9d4f4ac-3658-4eb4-bf98-6df2199e2692\",\"type\":\"Toolbar\"},\"toolbar_location\":null,\"x_range\":{\"id\":\"af961eb8-9bc4-4d94-8b53-12ead04a2492\",\"type\":\"FactorRange\"},\"x_scale\":{\"id\":\"431d6357-8cf7-4049-ac00-1c6c65f22c7c\",\"type\":\"CategoricalScale\"},\"y_range\":{\"id\":\"c2b95cba-2821-4e3d-b18d-016d3a050bcb\",\"type\":\"DataRange1d\"},\"y_scale\":{\"id\":\"ade152cb-db7f-4414-a8a3-0dced86ac7e3\",\"type\":\"LinearScale\"}},\"id\":\"39c01e7e-818f-4d30-b386-93fc5e7bf92a\",\"subtype\":\"Figure\",\"type\":\"Plot\"},{\"attributes\":{},\"id\":\"943197d0-75b8-4240-8c4e-fd3f53964d26\",\"type\":\"BasicTicker\"},{\"attributes\":{\"plot\":{\"id\":\"1d4ddc58-890c-4fb4-b538-5ee64622c888\",\"subtype\":\"Figure\",\"type\":\"Plot\"},\"ticker\":{\"id\":\"520124d5-37e4-47a1-8596-9e19da86aa24\",\"type\":\"CategoricalTicker\"}},\"id\":\"05cdc995-b30d-4f2d-ba39-9b020aae82ee\",\"type\":\"Grid\"},{\"attributes\":{\"axis_label\":\"spectral band\",\"formatter\":{\"id\":\"4383d46e-7d62-46ca-8065-7b69ed9b53fc\",\"type\":\"CategoricalTickFormatter\"},\"plot\":{\"id\":\"1d4ddc58-890c-4fb4-b538-5ee64622c888\",\"subtype\":\"Figure\",\"type\":\"Plot\"},\"ticker\":{\"id\":\"520124d5-37e4-47a1-8596-9e19da86aa24\",\"type\":\"CategoricalTicker\"}},\"id\":\"707ead24-d980-4002-bc36-d8ceaaccad91\",\"type\":\"CategoricalAxis\"},{\"attributes\":{\"callback\":null,\"data\":{\"band\":[\"9\"],\"flux\":{\"__ndarray__\":\"IHCyDdyBzb8=\",\"dtype\":\"float64\",\"shape\":[1]}},\"selected\":{\"id\":\"1692edcc-1f40-490b-a69b-7636a0a0f301\",\"type\":\"Selection\"},\"selection_policy\":{\"id\":\"0b41c983-c628-4e31-8620-7fdd8e3f406c\",\"type\":\"UnionRenderers\"}},\"id\":\"105e103c-1be1-4917-aab9-913a15483809\",\"type\":\"ColumnDataSource\"},{\"attributes\":{\"bottom_units\":\"screen\",\"fill_alpha\":{\"value\":0.5},\"fill_color\":{\"value\":\"lightgrey\"},\"left_units\":\"screen\",\"level\":\"overlay\",\"line_alpha\":{\"value\":1.0},\"line_color\":{\"value\":\"black\"},\"line_dash\":[4,4],\"line_width\":{\"value\":2},\"plot\":null,\"render_mode\":\"css\",\"right_units\":\"screen\",\"top_units\":\"screen\"},\"id\":\"6c4a9fdc-c88d-4661-8da3-b6372a63e62e\",\"type\":\"BoxAnnotation\"},{\"attributes\":{},\"id\":\"520124d5-37e4-47a1-8596-9e19da86aa24\",\"type\":\"CategoricalTicker\"},{\"attributes\":{},\"id\":\"be97e1bb-8ee3-4d68-b1f2-785e9adbdaa1\",\"type\":\"BasicTickFormatter\"},{\"attributes\":{\"fill_color\":{\"value\":\"#1f77b4\"},\"line_color\":{\"value\":\"#1f77b4\"},\"top\":{\"field\":\"flux\"},\"width\":{\"value\":0.9},\"x\":{\"field\":\"band\"}},\"id\":\"98f99b9f-148d-4272-a04b-d42952ef6b25\",\"type\":\"VBar\"},{\"attributes\":{},\"id\":\"f8ee9c7b-6654-4215-ad47-88d1e649399c\",\"type\":\"ResetTool\"},{\"attributes\":{},\"id\":\"431d6357-8cf7-4049-ac00-1c6c65f22c7c\",\"type\":\"CategoricalScale\"},{\"attributes\":{},\"id\":\"456c74e6-e854-4f04-943b-85bb35602f46\",\"type\":\"BasicTicker\"},{\"attributes\":{\"below\":[{\"id\":\"707ead24-d980-4002-bc36-d8ceaaccad91\",\"type\":\"CategoricalAxis\"}],\"left\":[{\"id\":\"140d3600-b00d-4e73-a505-f0039d4d754b\",\"type\":\"LinearAxis\"}],\"plot_height\":300,\"plot_width\":300,\"renderers\":[{\"id\":\"707ead24-d980-4002-bc36-d8ceaaccad91\",\"type\":\"CategoricalAxis\"},{\"id\":\"05cdc995-b30d-4f2d-ba39-9b020aae82ee\",\"type\":\"Grid\"},{\"id\":\"140d3600-b00d-4e73-a505-f0039d4d754b\",\"type\":\"LinearAxis\"},{\"id\":\"de7ad068-7fca-45f0-a224-fc648150c2ba\",\"type\":\"Grid\"},{\"id\":\"4c09c8fa-7c36-40b0-81e5-a8158f709e15\",\"type\":\"BoxAnnotation\"},{\"id\":\"3ea423dd-e1ba-4295-b8cb-2676bc868bbc\",\"type\":\"GlyphRenderer\"}],\"title\":{\"id\":\"9b59c655-ede8-4218-b649-70873504d4ef\",\"type\":\"Title\"},\"toolbar\":{\"id\":\"82c86785-7f55-4245-9bf1-b3359cd20ebf\",\"type\":\"Toolbar\"},\"toolbar_location\":null,\"x_range\":{\"id\":\"c2ff955a-1132-4ec7-a96f-0a5d86340483\",\"type\":\"FactorRange\"},\"x_scale\":{\"id\":\"bffa5e5a-1cfe-4c57-8946-56aa83cec5dc\",\"type\":\"CategoricalScale\"},\"y_range\":{\"id\":\"42155b85-1ead-425a-89d8-0b5ec1730ae4\",\"type\":\"DataRange1d\"},\"y_scale\":{\"id\":\"23d95f1f-6553-4951-8bfd-fa6be631b6fa\",\"type\":\"LinearScale\"}},\"id\":\"1d4ddc58-890c-4fb4-b538-5ee64622c888\",\"subtype\":\"Figure\",\"type\":\"Plot\"},{\"attributes\":{\"axis_label\":\"flux (W m-2)\",\"formatter\":{\"id\":\"be97e1bb-8ee3-4d68-b1f2-785e9adbdaa1\",\"type\":\"BasicTickFormatter\"},\"plot\":{\"id\":\"7fba774e-1659-46dd-907d-e0fc747e23f9\",\"subtype\":\"Figure\",\"type\":\"Plot\"},\"ticker\":{\"id\":\"456c74e6-e854-4f04-943b-85bb35602f46\",\"type\":\"BasicTicker\"}},\"id\":\"d02de3bd-1444-43e5-ad58-834b695a6570\",\"type\":\"LinearAxis\"},{\"attributes\":{},\"id\":\"ade152cb-db7f-4414-a8a3-0dced86ac7e3\",\"type\":\"LinearScale\"},{\"attributes\":{\"callback\":null,\"factors\":[\"9\"]},\"id\":\"192d42e1-db5a-4ac2-aac1-1c2e97ea406d\",\"type\":\"FactorRange\"},{\"attributes\":{},\"id\":\"e627d432-43c2-4393-aac6-92b4d7ac75f9\",\"type\":\"CategoricalTickFormatter\"},{\"attributes\":{\"callback\":null},\"id\":\"c2b95cba-2821-4e3d-b18d-016d3a050bcb\",\"type\":\"DataRange1d\"},{\"attributes\":{},\"id\":\"0b41c983-c628-4e31-8620-7fdd8e3f406c\",\"type\":\"UnionRenderers\"},{\"attributes\":{\"overlay\":{\"id\":\"6c4a9fdc-c88d-4661-8da3-b6372a63e62e\",\"type\":\"BoxAnnotation\"}},\"id\":\"50a22221-b19c-4ee1-bacd-6470140bf697\",\"type\":\"BoxZoomTool\"},{\"attributes\":{},\"id\":\"3d3dbcb6-f99c-40c0-9796-48ccd28b6319\",\"type\":\"UnionRenderers\"},{\"attributes\":{\"callback\":null,\"data\":{\"band\":[\"9\"],\"flux\":{\"__ndarray__\":\"ADTFHAQdnb8=\",\"dtype\":\"float64\",\"shape\":[1]}},\"selected\":{\"id\":\"16c5a971-8cd2-46b4-98e6-a76cac40b9b3\",\"type\":\"Selection\"},\"selection_policy\":{\"id\":\"3d3dbcb6-f99c-40c0-9796-48ccd28b6319\",\"type\":\"UnionRenderers\"}},\"id\":\"6bbb375e-13af-4af3-bf4c-e7061c87c3a7\",\"type\":\"ColumnDataSource\"},{\"attributes\":{\"children\":[{\"id\":\"7fba774e-1659-46dd-907d-e0fc747e23f9\",\"subtype\":\"Figure\",\"type\":\"Plot\"},{\"id\":\"39c01e7e-818f-4d30-b386-93fc5e7bf92a\",\"subtype\":\"Figure\",\"type\":\"Plot\"},{\"id\":\"1d4ddc58-890c-4fb4-b538-5ee64622c888\",\"subtype\":\"Figure\",\"type\":\"Plot\"}]},\"id\":\"10f2c17e-8853-4004-8e8b-f2cbef1d2ff8\",\"type\":\"Row\"},{\"attributes\":{},\"id\":\"b7ea1798-8f14-4af5-a5b9-e05b115e03a1\",\"type\":\"WheelZoomTool\"},{\"attributes\":{},\"id\":\"7fcf7465-d51a-4e26-9075-1dbf91ac7289\",\"type\":\"CategoricalScale\"},{\"attributes\":{\"plot\":null,\"text\":\"SFC flux. CLIRAD - CRD.\"},\"id\":\"502418a9-d8a7-4ccf-8c80-d6aacd8dd252\",\"type\":\"Title\"},{\"attributes\":{\"tools\":[{\"id\":\"5f47d76b-fc57-4d8b-9849-344750fccc00\",\"type\":\"PanTool\"},{\"id\":\"69a30883-7755-42ef-9631-7a5902e136eb\",\"type\":\"WheelZoomTool\"},{\"id\":\"50a22221-b19c-4ee1-bacd-6470140bf697\",\"type\":\"BoxZoomTool\"},{\"id\":\"0dfcedf6-89c9-404d-8c8f-9757a304b82c\",\"type\":\"SaveTool\"},{\"id\":\"f8ee9c7b-6654-4215-ad47-88d1e649399c\",\"type\":\"ResetTool\"},{\"id\":\"158b6e5b-bd19-4d29-9407-b6c53b8e4f3a\",\"type\":\"HelpTool\"},{\"id\":\"c6faf30e-3fdf-4fd0-ba4d-9c3a9eaf7f14\",\"type\":\"PanTool\"},{\"id\":\"b7ea1798-8f14-4af5-a5b9-e05b115e03a1\",\"type\":\"WheelZoomTool\"},{\"id\":\"f0648493-b64a-46d1-8457-b76a056ac9da\",\"type\":\"BoxZoomTool\"},{\"id\":\"28f8f639-1bfe-4961-b7e8-c0c90190624e\",\"type\":\"SaveTool\"},{\"id\":\"f75cb42e-8f4c-40e4-95c2-23326e184901\",\"type\":\"ResetTool\"},{\"id\":\"754519a3-e501-4a61-862e-699b6c049226\",\"type\":\"HelpTool\"},{\"id\":\"0acacc92-4a6f-4ae1-ae05-cfa53e4f87c0\",\"type\":\"PanTool\"},{\"id\":\"c1868d21-9974-4163-96b7-48c5d8352742\",\"type\":\"WheelZoomTool\"},{\"id\":\"01eae342-0674-4eaa-91e9-9ff563061fca\",\"type\":\"BoxZoomTool\"},{\"id\":\"b9a9a9db-209a-4b7d-a257-425919e045da\",\"type\":\"SaveTool\"},{\"id\":\"c9847610-707a-4b30-959e-9d441b51976b\",\"type\":\"ResetTool\"},{\"id\":\"04169626-0ed7-4783-8d33-798dab6c71e5\",\"type\":\"HelpTool\"}]},\"id\":\"b731a831-5c54-42cf-90e0-e10083708b75\",\"type\":\"ProxyToolbar\"},{\"attributes\":{},\"id\":\"c6faf30e-3fdf-4fd0-ba4d-9c3a9eaf7f14\",\"type\":\"PanTool\"},{\"attributes\":{},\"id\":\"b9a9a9db-209a-4b7d-a257-425919e045da\",\"type\":\"SaveTool\"},{\"attributes\":{\"active_drag\":\"auto\",\"active_inspect\":\"auto\",\"active_scroll\":\"auto\",\"active_tap\":\"auto\",\"tools\":[{\"id\":\"c6faf30e-3fdf-4fd0-ba4d-9c3a9eaf7f14\",\"type\":\"PanTool\"},{\"id\":\"b7ea1798-8f14-4af5-a5b9-e05b115e03a1\",\"type\":\"WheelZoomTool\"},{\"id\":\"f0648493-b64a-46d1-8457-b76a056ac9da\",\"type\":\"BoxZoomTool\"},{\"id\":\"28f8f639-1bfe-4961-b7e8-c0c90190624e\",\"type\":\"SaveTool\"},{\"id\":\"f75cb42e-8f4c-40e4-95c2-23326e184901\",\"type\":\"ResetTool\"},{\"id\":\"754519a3-e501-4a61-862e-699b6c049226\",\"type\":\"HelpTool\"}]},\"id\":\"e9d4f4ac-3658-4eb4-bf98-6df2199e2692\",\"type\":\"Toolbar\"},{\"attributes\":{\"overlay\":{\"id\":\"4c09c8fa-7c36-40b0-81e5-a8158f709e15\",\"type\":\"BoxAnnotation\"}},\"id\":\"01eae342-0674-4eaa-91e9-9ff563061fca\",\"type\":\"BoxZoomTool\"},{\"attributes\":{\"plot\":null,\"text\":\"TOA flux. CLIRAD - CRD.\"},\"id\":\"10e0cc8b-815a-47ce-bedb-eb787a57bb92\",\"type\":\"Title\"},{\"attributes\":{\"fill_color\":{\"value\":\"#1f77b4\"},\"line_color\":{\"value\":\"#1f77b4\"},\"top\":{\"field\":\"flux\"},\"width\":{\"value\":0.9},\"x\":{\"field\":\"band\"}},\"id\":\"2f2108e9-6c56-433f-b0ab-21a14a33a8e6\",\"type\":\"VBar\"},{\"attributes\":{},\"id\":\"70b6b8bd-da07-426f-9d03-aaffbffac17f\",\"type\":\"BasicTickFormatter\"},{\"attributes\":{},\"id\":\"c9847610-707a-4b30-959e-9d441b51976b\",\"type\":\"ResetTool\"},{\"attributes\":{},\"id\":\"3696bb1c-ea88-4311-8247-85e84c1d40d4\",\"type\":\"CategoricalTicker\"}],\"root_ids\":[\"423c2acd-ed0a-4b0c-abdb-fa4cf1d2bfef\"]},\"title\":\"Bokeh Application\",\"version\":\"0.12.16\"}};\n",
       "  var render_items = [{\"docid\":\"c73f0655-6b44-424a-948b-ac4cd38244a2\",\"elementid\":\"050a8aed-8c23-43a7-8442-476d37f979c5\",\"modelid\":\"423c2acd-ed0a-4b0c-abdb-fa4cf1d2bfef\"}];\n",
       "  root.Bokeh.embed.embed_items_notebook(docs_json, render_items);\n",
       "\n",
       "  }\n",
       "  if (root.Bokeh !== undefined) {\n",
       "    embed_document(root);\n",
       "  } else {\n",
       "    var attempts = 0;\n",
       "    var timer = setInterval(function(root) {\n",
       "      if (root.Bokeh !== undefined) {\n",
       "        embed_document(root);\n",
       "        clearInterval(timer);\n",
       "      }\n",
       "      attempts++;\n",
       "      if (attempts > 100) {\n",
       "        console.log(\"Bokeh: ERROR: Unable to run BokehJS code because BokehJS library is missing\")\n",
       "        clearInterval(timer);\n",
       "      }\n",
       "    }, 10, root)\n",
       "  }\n",
       "})(window);"
      ],
      "application/vnd.bokehjs_exec.v0+json": ""
     },
     "metadata": {
      "application/vnd.bokehjs_exec.v0+json": {
       "id": "423c2acd-ed0a-4b0c-abdb-fa4cf1d2bfef"
      }
     },
     "output_type": "display_data"
    },
    {
     "data": {
      "text/markdown": [
       "*FIGURE.* Difference between CLIRAD and CRD in TOA, SFC and net atmosphere flux, in each spectral band."
      ],
      "text/plain": [
       "<IPython.core.display.Markdown object>"
      ]
     },
     "metadata": {},
     "output_type": "display_data"
    },
    {
     "data": {
      "text/html": [
       "<div>\n",
       "<style scoped>\n",
       "    .dataframe tbody tr th:only-of-type {\n",
       "        vertical-align: middle;\n",
       "    }\n",
       "\n",
       "    .dataframe tbody tr th {\n",
       "        vertical-align: top;\n",
       "    }\n",
       "\n",
       "    .dataframe thead th {\n",
       "        text-align: right;\n",
       "    }\n",
       "</style>\n",
       "<table border=\"1\" class=\"dataframe\">\n",
       "  <thead>\n",
       "    <tr style=\"text-align: right;\">\n",
       "      <th></th>\n",
       "      <th>OLR flux</th>\n",
       "      <th>SFC flux</th>\n",
       "      <th>ATM heating</th>\n",
       "    </tr>\n",
       "    <tr>\n",
       "      <th>Sum over bands</th>\n",
       "      <th></th>\n",
       "      <th></th>\n",
       "      <th></th>\n",
       "    </tr>\n",
       "  </thead>\n",
       "  <tbody>\n",
       "    <tr>\n",
       "      <th>CLIRAD - CRD</th>\n",
       "      <td>-0.03</td>\n",
       "      <td>-0.23</td>\n",
       "      <td>0.20</td>\n",
       "    </tr>\n",
       "    <tr>\n",
       "      <th>CRD</th>\n",
       "      <td>-19.27</td>\n",
       "      <td>6.12</td>\n",
       "      <td>-1.64</td>\n",
       "    </tr>\n",
       "  </tbody>\n",
       "</table>\n",
       "</div>"
      ],
      "text/plain": [
       "                OLR flux  SFC flux  ATM heating\n",
       "Sum over bands                                 \n",
       "CLIRAD - CRD       -0.03     -0.23         0.20\n",
       "CRD               -19.27      6.12        -1.64"
      ]
     },
     "metadata": {},
     "output_type": "display_data"
    },
    {
     "data": {
      "text/markdown": [
       "*TABLE.* Difference between CLIRAD and CRD in TOA, SFC and net atmosphere flux, over all spectral bands. CRD's TOA, SFC and net atmosphere flux, over all spectral bands."
      ],
      "text/plain": [
       "<IPython.core.display.Markdown object>"
      ]
     },
     "metadata": {},
     "output_type": "display_data"
    },
    {
     "data": {
      "text/html": [
       "<a id=\"Cooling_rates._saw.\"></a>"
      ],
      "text/plain": [
       "<IPython.core.display.HTML object>"
      ]
     },
     "metadata": {},
     "output_type": "display_data"
    },
    {
     "data": {
      "text/markdown": [
       "# Cooling rates. saw."
      ],
      "text/plain": [
       "<IPython.core.display.Markdown object>"
      ]
     },
     "metadata": {},
     "output_type": "display_data"
    },
    {
     "data": {
      "text/html": [
       "\n",
       "<div class=\"bk-root\">\n",
       "    <div class=\"bk-plotdiv\" id=\"0b711a0d-ad5f-4753-b92e-e1c613a62b1b\"></div>\n",
       "</div>"
      ]
     },
     "metadata": {},
     "output_type": "display_data"
    },
    {
     "data": {
      "application/javascript": [
       "(function(root) {\n",
       "  function embed_document(root) {\n",
       "    \n",
       "  var docs_json = {\"d32466a5-404c-4ee2-bca5-e3309d804bae\":{\"roots\":{\"references\":[{\"attributes\":{},\"id\":\"aea41c28-70e0-408a-bb82-689ebee14c98\",\"type\":\"PanTool\"},{\"attributes\":{},\"id\":\"3297bc7c-230e-4c9f-978e-6c322b217f76\",\"type\":\"HelpTool\"},{\"attributes\":{},\"id\":\"034b4d95-6361-41f7-98c4-5526c54b8fdb\",\"type\":\"SaveTool\"},{\"attributes\":{\"above\":[{\"id\":\"5addfd39-9d54-4ab4-b834-ae7bec9a0ec8\",\"type\":\"Legend\"}],\"below\":[{\"id\":\"ef533323-6dca-48c2-b35e-4ad30533ab2b\",\"type\":\"LinearAxis\"}],\"left\":[{\"id\":\"b5996661-e662-4da5-85a4-c1a7f62df4a4\",\"type\":\"LinearAxis\"}],\"plot_width\":300,\"renderers\":[{\"id\":\"ef533323-6dca-48c2-b35e-4ad30533ab2b\",\"type\":\"LinearAxis\"},{\"id\":\"1a5d7ec3-e066-4686-b96d-ed1fc90dee68\",\"type\":\"Grid\"},{\"id\":\"b5996661-e662-4da5-85a4-c1a7f62df4a4\",\"type\":\"LinearAxis\"},{\"id\":\"c408b59e-7a3e-4922-8c5d-72ce4a651861\",\"type\":\"Grid\"},{\"id\":\"9c2189e6-9b28-448f-a9ab-03cbb54193ac\",\"type\":\"BoxAnnotation\"},{\"id\":\"6b141b65-6575-4c69-92de-c28efae9c99a\",\"type\":\"GlyphRenderer\"},{\"id\":\"44d71240-4c68-4dbf-884b-876ac6709d02\",\"type\":\"GlyphRenderer\"},{\"id\":\"a77c2fc8-e491-40d7-b26c-540414f3094f\",\"type\":\"GlyphRenderer\"},{\"id\":\"5addfd39-9d54-4ab4-b834-ae7bec9a0ec8\",\"type\":\"Legend\"}],\"title\":{\"id\":\"372f51fa-db68-44ed-98ed-f8e447c158e5\",\"type\":\"Title\"},\"toolbar\":{\"id\":\"266db977-1b9a-41d1-88da-499e73f74dcc\",\"type\":\"Toolbar\"},\"toolbar_location\":null,\"x_range\":{\"id\":\"cea20715-62cd-4b75-a439-4aaff2536d29\",\"type\":\"Range1d\"},\"x_scale\":{\"id\":\"1ba368d0-f3c5-4dfe-bfde-07a0c3a4db04\",\"type\":\"LinearScale\"},\"y_range\":{\"id\":\"94345c12-ba28-4cd5-9015-393aec42507c\",\"type\":\"Range1d\"},\"y_scale\":{\"id\":\"9e3326ed-6dea-43fe-ae6b-351dbb0d57fe\",\"type\":\"LinearScale\"}},\"id\":\"c1095b84-c007-41e0-a969-7ca8990a5596\",\"subtype\":\"Figure\",\"type\":\"Plot\"},{\"attributes\":{},\"id\":\"54cf7513-933e-46df-8ae7-91ff03b4200d\",\"type\":\"SaveTool\"},{\"attributes\":{},\"id\":\"62138b65-f3e8-407b-b192-621fabc7a0b2\",\"type\":\"ResetTool\"},{\"attributes\":{\"active_drag\":\"auto\",\"active_inspect\":\"auto\",\"active_scroll\":\"auto\",\"active_tap\":\"auto\",\"tools\":[{\"id\":\"aea41c28-70e0-408a-bb82-689ebee14c98\",\"type\":\"PanTool\"},{\"id\":\"a73d477d-d987-4b17-9e9c-5178b2e4bd9b\",\"type\":\"WheelZoomTool\"},{\"id\":\"c6049fae-e6a5-42e8-b117-322272143a62\",\"type\":\"BoxZoomTool\"},{\"id\":\"54cf7513-933e-46df-8ae7-91ff03b4200d\",\"type\":\"SaveTool\"},{\"id\":\"f69e65f4-9356-4f24-bbd0-f8e0d11fb92f\",\"type\":\"ResetTool\"},{\"id\":\"4f5186eb-0a39-4e42-afc0-e517304d232b\",\"type\":\"HelpTool\"}]},\"id\":\"266db977-1b9a-41d1-88da-499e73f74dcc\",\"type\":\"Toolbar\"},{\"attributes\":{\"data_source\":{\"id\":\"41a37861-a9a9-4221-9647-7ce193bd1deb\",\"type\":\"ColumnDataSource\"},\"glyph\":{\"id\":\"57cee088-c382-447d-aa3f-147e90103115\",\"type\":\"Line\"},\"hover_glyph\":null,\"muted_glyph\":null,\"nonselection_glyph\":{\"id\":\"7272b7f7-c1ac-4e4f-b618-8a6848ba288e\",\"type\":\"Line\"},\"selection_glyph\":null,\"view\":{\"id\":\"65467594-6c0f-496a-a41d-a85b08f05424\",\"type\":\"CDSView\"}},\"id\":\"45b8e2e1-0159-45d5-b20d-b19d347d60dc\",\"type\":\"GlyphRenderer\"},{\"attributes\":{},\"id\":\"f69e65f4-9356-4f24-bbd0-f8e0d11fb92f\",\"type\":\"ResetTool\"},{\"attributes\":{},\"id\":\"c7c97a14-f0dc-42d4-8e11-7eb28992229e\",\"type\":\"PanTool\"},{\"attributes\":{\"overlay\":{\"id\":\"9c2189e6-9b28-448f-a9ab-03cbb54193ac\",\"type\":\"BoxAnnotation\"}},\"id\":\"c6049fae-e6a5-42e8-b117-322272143a62\",\"type\":\"BoxZoomTool\"},{\"attributes\":{\"overlay\":{\"id\":\"1b66d553-e9ea-462f-9699-2d3d3d9dd75e\",\"type\":\"BoxAnnotation\"}},\"id\":\"3cc66e0f-1717-4b56-adc9-96e3a6ab567c\",\"type\":\"BoxZoomTool\"},{\"attributes\":{},\"id\":\"b0da1969-c6e2-431f-967b-56ddf592505a\",\"type\":\"WheelZoomTool\"},{\"attributes\":{},\"id\":\"4f5186eb-0a39-4e42-afc0-e517304d232b\",\"type\":\"HelpTool\"},{\"attributes\":{\"bottom_units\":\"screen\",\"fill_alpha\":{\"value\":0.5},\"fill_color\":{\"value\":\"lightgrey\"},\"left_units\":\"screen\",\"level\":\"overlay\",\"line_alpha\":{\"value\":1.0},\"line_color\":{\"value\":\"black\"},\"line_dash\":[4,4],\"line_width\":{\"value\":2},\"plot\":null,\"render_mode\":\"css\",\"right_units\":\"screen\",\"top_units\":\"screen\"},\"id\":\"1b66d553-e9ea-462f-9699-2d3d3d9dd75e\",\"type\":\"BoxAnnotation\"},{\"attributes\":{},\"id\":\"a73d477d-d987-4b17-9e9c-5178b2e4bd9b\",\"type\":\"WheelZoomTool\"},{\"attributes\":{\"bottom_units\":\"screen\",\"fill_alpha\":{\"value\":0.5},\"fill_color\":{\"value\":\"lightgrey\"},\"left_units\":\"screen\",\"level\":\"overlay\",\"line_alpha\":{\"value\":1.0},\"line_color\":{\"value\":\"black\"},\"line_dash\":[4,4],\"line_width\":{\"value\":2},\"plot\":null,\"render_mode\":\"css\",\"right_units\":\"screen\",\"top_units\":\"screen\"},\"id\":\"9c2189e6-9b28-448f-a9ab-03cbb54193ac\",\"type\":\"BoxAnnotation\"},{\"attributes\":{\"callback\":null,\"end\":0.21993315697299998,\"start\":-0.004925534273},\"id\":\"6964ac29-3308-429f-8f95-e5e78cb287bd\",\"type\":\"Range1d\"},{\"attributes\":{\"callback\":null,\"end\":0.01,\"start\":1020},\"id\":\"e77edae6-c15e-407a-80f4-a32998d84ad1\",\"type\":\"Range1d\"},{\"attributes\":{\"children\":[{\"id\":\"0fc3f24a-3de8-466d-9e2b-cdb8e010ca7c\",\"type\":\"Row\"}]},\"id\":\"62a9aad0-ec14-4f50-9a48-dc2df8010e9a\",\"type\":\"Column\"},{\"attributes\":{\"active_drag\":\"auto\",\"active_inspect\":\"auto\",\"active_scroll\":\"auto\",\"active_tap\":\"auto\",\"tools\":[{\"id\":\"2d2bb244-8338-40de-8f6b-44400e132096\",\"type\":\"PanTool\"},{\"id\":\"9a0a1e4f-e91a-44e8-a786-12e2341c7d69\",\"type\":\"WheelZoomTool\"},{\"id\":\"30728c96-4cc1-4b33-beaa-f45676a93e5e\",\"type\":\"BoxZoomTool\"},{\"id\":\"ba36e984-08a0-4258-88af-6068c9f901ba\",\"type\":\"SaveTool\"},{\"id\":\"358983f1-caab-4ae6-a382-ade999671979\",\"type\":\"ResetTool\"},{\"id\":\"a5b83dee-0c4f-4fec-9168-1a8a976c7654\",\"type\":\"HelpTool\"}]},\"id\":\"6d2b0eea-6c0f-4231-b6b1-d01260b064c8\",\"type\":\"Toolbar\"},{\"attributes\":{},\"id\":\"9a0a1e4f-e91a-44e8-a786-12e2341c7d69\",\"type\":\"WheelZoomTool\"},{\"attributes\":{\"dimension\":1,\"plot\":{\"id\":\"306e235a-b902-49e3-a322-f07acf327675\",\"subtype\":\"Figure\",\"type\":\"Plot\"},\"ticker\":{\"id\":\"c35c502f-7539-42e9-b7a8-9b7614575b39\",\"type\":\"LogTicker\"}},\"id\":\"3c88b6fd-a721-4335-870c-f0d8480aaae1\",\"type\":\"Grid\"},{\"attributes\":{},\"id\":\"dce3ce0a-f116-4cc5-873e-bc302f114687\",\"type\":\"Selection\"},{\"attributes\":{},\"id\":\"9e3326ed-6dea-43fe-ae6b-351dbb0d57fe\",\"type\":\"LinearScale\"},{\"attributes\":{\"line_alpha\":0.8,\"line_color\":\"#984ea3\",\"line_width\":1.5,\"x\":{\"field\":\"x\"},\"y\":{\"field\":\"y\"}},\"id\":\"4e52fdd8-a1d7-4dcc-ad95-4d0fe46add9c\",\"type\":\"Line\"},{\"attributes\":{\"data_source\":{\"id\":\"d7b084de-58b2-4b1e-9947-9e6f58b3d1bd\",\"type\":\"ColumnDataSource\"},\"glyph\":{\"id\":\"1a695d89-414e-4ed6-b9d6-29624108224c\",\"type\":\"Circle\"},\"hover_glyph\":null,\"muted_glyph\":null,\"nonselection_glyph\":{\"id\":\"cff9eccf-6ca8-4ef9-a92e-5d5c32ae7da7\",\"type\":\"Circle\"},\"selection_glyph\":null,\"view\":{\"id\":\"d498fd0f-24ff-436c-a59e-d055c094f8b9\",\"type\":\"CDSView\"}},\"id\":\"44d71240-4c68-4dbf-884b-876ac6709d02\",\"type\":\"GlyphRenderer\"},{\"attributes\":{},\"id\":\"ba36e984-08a0-4258-88af-6068c9f901ba\",\"type\":\"SaveTool\"},{\"attributes\":{\"data_source\":{\"id\":\"9682d6fa-32ed-4181-9687-629002ecb8d1\",\"type\":\"ColumnDataSource\"},\"glyph\":{\"id\":\"516149c5-b266-4fd7-babd-4873f2a5ae17\",\"type\":\"Circle\"},\"hover_glyph\":null,\"muted_glyph\":null,\"nonselection_glyph\":{\"id\":\"9e22ed8c-89e0-4472-8c98-cca9b3479456\",\"type\":\"Circle\"},\"selection_glyph\":null,\"view\":{\"id\":\"a3d69300-c2d9-4c98-a0aa-91bc8fa821db\",\"type\":\"CDSView\"}},\"id\":\"39210bb8-af8a-433c-861e-0b203ffd7286\",\"type\":\"GlyphRenderer\"},{\"attributes\":{\"label\":{\"value\":\"CRD\"},\"renderers\":[{\"id\":\"4c92aa76-e819-4772-be9b-4c1fa05784ed\",\"type\":\"GlyphRenderer\"},{\"id\":\"45b8e2e1-0159-45d5-b20d-b19d347d60dc\",\"type\":\"GlyphRenderer\"}]},\"id\":\"9331bd2e-ea33-475a-abcf-5d4a0b94681c\",\"type\":\"LegendItem\"},{\"attributes\":{\"fill_alpha\":{\"value\":0.7},\"fill_color\":{\"value\":\"#4daf4a\"},\"line_alpha\":{\"value\":0.7},\"line_color\":{\"value\":\"#4daf4a\"},\"x\":{\"field\":\"x\"},\"y\":{\"field\":\"y\"}},\"id\":\"261bb9f9-4677-4041-b271-708a20431903\",\"type\":\"Circle\"},{\"attributes\":{\"source\":{\"id\":\"d7b084de-58b2-4b1e-9947-9e6f58b3d1bd\",\"type\":\"ColumnDataSource\"}},\"id\":\"d498fd0f-24ff-436c-a59e-d055c094f8b9\",\"type\":\"CDSView\"},{\"attributes\":{\"source\":{\"id\":\"159067cb-562e-4927-a29e-972a286b181e\",\"type\":\"ColumnDataSource\"}},\"id\":\"2363dac7-730b-4c51-bd95-9bde5c5831a8\",\"type\":\"CDSView\"},{\"attributes\":{\"callback\":null,\"data\":{\"x\":{\"__ndarray__\":\"V2Fta48Hqb/dNiagltqmvx7JlvnPGaK/+RJQ/16smb8j7siQF12Mv0irr63lrlq/TjJ50NrXhz+qtQWLkKiaPwLI6gWISqU/KEt6BnfhrT/gRe3rsY6zP3SanfaogLg/Lai5Ju7CvT8OQ9QSZU7BP3nTJcp7KMM/anRBXL2zxD9O/KQcxDXGP3bEvvCMrsc/ABophKMeyT8je60ZU4/KPysLDWGI3ss/Ms5bTJ54yT8ZgUYjfsnCP+C0oeEbqrg/jc16cPhWrj8hGhqlBCqhPwx3XsUKAJE/I4/oJdSBgD9loHM+Spp3PyEPGd8rxHQ/qC01B2+kcD/MmRwfbsVlP7zpv1P0g2M/l5BkVcpLaz/+RihmF61vPzxH1GtCOHA/gt9kLsDkbT+a35If1vtjP9T/Xrc0MUc/PhNXD7nBT79wyt7GbUpmvwpL6jNIAnO/EkEOJhsRfL/VA5FGv52Dvwgapd5iZIq/62CD2ZLCjb+gCCZamcCKv1hSMFuZjYW/5IVFZBfOgL8uXZsmIGh4v/0YGfqlEm6/I5MJQOcjVb8Qk+qeoMRTP5QE+F1+T28/IQ0nKL7Mej8DIApAhR6DP0+1+hBy44g/nZvvDamVjj/e+pdBCAqSP1MAUrxGopQ/p14Dl9EMlz+rr2J8jkuZP/+goqg7aJs/MQyucs5znT8kQARXpIKfP9vyv8zf06A/8lLV9yb1oT89H1lRZxSjP9myBU/k86M/96giiRwqpD+8HwPug3CjP14H1oqZ8aE/Y5w2GCcUoD/gguNnYDqcP4PcrXsXLpg/\",\"dtype\":\"float64\",\"shape\":[75]},\"y\":{\"__ndarray__\":\"GhExyth1ND/Sv8nbtpRIP2vylNV0PVE/aTum7souWD/At0SJ8fVgPw3Iuahxymc/MSNhhJWvcD/bTfBN02d3P2zb5nxnaoA/CD5h5MAGhz8NmeH1TyaQP+zrCsc9p5Y/LbKd76fGnz/bLW5ISEmmPww9YvTcQq8/JV2OstnstT8Er5Y7M8G+P0c+r3jqkcU/5h99k6ZBzj88bCIzFzjVP4enV8oyxN0//yH99nXg5D8qOpLLf0jtP5kqGJXUifQ/c9cS8kHP/D+/DpwzojQEQIEmwoanVwxA4lgXt9HgE0BSSZ2AJuIbQAMJih9jjiNA5q4l5INuK0AwTKYKRj0zQNv5fmq8/DpAaCJseHrtQkB/+zpwzoxKQM3MzMzMeFJAZmZmZmZqWEAAAAAAAFxeQM3MzMzMJmJAmpmZmZkfZUBmZmZmZhhoQDMzMzMzEWtAAAAAAAAKbkBmZmZmZoFwQM3MzMzM/XFAMzMzMzN6c0CamZmZmfZ0QAAAAAAAc3ZAZmZmZmbvd0DNzMzMzGt5QDMzMzMz6HpAmpmZmZlkfEAAAAAAAOF9QGZmZmZmXX9AZmZmZuZsgECamZmZGSuBQM3MzMxM6YFAAAAAAICngkAzMzMzs2WDQGZmZmbmI4RAmpmZmRnihEDNzMzMTKCFQAAAAACAXoZAMzMzM7Mch0BmZmZm5tqHQJqZmZkZmYhAzczMzExXiUAAAAAAgBWKQDMzMzOz04pAZmZmZuaRi0CamZmZGVCMQM3MzMxMDo1AAAAAAIDMjUAzMzMzs4qOQGZmZmbmSI9A\",\"dtype\":\"float64\",\"shape\":[75]}},\"selected\":{\"id\":\"298f4309-bfdd-43b9-8bfa-3085294cd13f\",\"type\":\"Selection\"},\"selection_policy\":{\"id\":\"8c72b89c-473f-4a3c-8703-b72c228c53a2\",\"type\":\"UnionRenderers\"}},\"id\":\"41a37861-a9a9-4221-9647-7ce193bd1deb\",\"type\":\"ColumnDataSource\"},{\"attributes\":{},\"id\":\"817a3744-a085-480e-9f6e-375e34b9e8aa\",\"type\":\"BasicTicker\"},{\"attributes\":{\"callback\":null,\"data\":{\"x\":{\"__ndarray__\":\"V2Fta48Hqb/dNiagltqmvx7JlvnPGaK/+RJQ/16smb8j7siQF12Mv0irr63lrlq/TjJ50NrXhz+qtQWLkKiaPwLI6gWISqU/KEt6BnfhrT/gRe3rsY6zP3SanfaogLg/Lai5Ju7CvT8OQ9QSZU7BP3nTJcp7KMM/anRBXL2zxD9O/KQcxDXGP3bEvvCMrsc/ABophKMeyT8je60ZU4/KPysLDWGI3ss/Ms5bTJ54yT8ZgUYjfsnCP+C0oeEbqrg/jc16cPhWrj8hGhqlBCqhPwx3XsUKAJE/I4/oJdSBgD9loHM+Spp3PyEPGd8rxHQ/qC01B2+kcD/MmRwfbsVlP7zpv1P0g2M/l5BkVcpLaz/+RihmF61vPzxH1GtCOHA/gt9kLsDkbT+a35If1vtjP9T/Xrc0MUc/PhNXD7nBT79wyt7GbUpmvwpL6jNIAnO/EkEOJhsRfL/VA5FGv52Dvwgapd5iZIq/62CD2ZLCjb+gCCZamcCKv1hSMFuZjYW/5IVFZBfOgL8uXZsmIGh4v/0YGfqlEm6/I5MJQOcjVb8Qk+qeoMRTP5QE+F1+T28/IQ0nKL7Mej8DIApAhR6DP0+1+hBy44g/nZvvDamVjj/e+pdBCAqSP1MAUrxGopQ/p14Dl9EMlz+rr2J8jkuZP/+goqg7aJs/MQyucs5znT8kQARXpIKfP9vyv8zf06A/8lLV9yb1oT89H1lRZxSjP9myBU/k86M/96giiRwqpD+8HwPug3CjP14H1oqZ8aE/Y5w2GCcUoD/gguNnYDqcP4PcrXsXLpg/\",\"dtype\":\"float64\",\"shape\":[75]},\"y\":{\"__ndarray__\":\"GhExyth1ND/Sv8nbtpRIP2vylNV0PVE/aTum7souWD/At0SJ8fVgPw3Iuahxymc/MSNhhJWvcD/bTfBN02d3P2zb5nxnaoA/CD5h5MAGhz8NmeH1TyaQP+zrCsc9p5Y/LbKd76fGnz/bLW5ISEmmPww9YvTcQq8/JV2OstnstT8Er5Y7M8G+P0c+r3jqkcU/5h99k6ZBzj88bCIzFzjVP4enV8oyxN0//yH99nXg5D8qOpLLf0jtP5kqGJXUifQ/c9cS8kHP/D+/DpwzojQEQIEmwoanVwxA4lgXt9HgE0BSSZ2AJuIbQAMJih9jjiNA5q4l5INuK0AwTKYKRj0zQNv5fmq8/DpAaCJseHrtQkB/+zpwzoxKQM3MzMzMeFJAZmZmZmZqWEAAAAAAAFxeQM3MzMzMJmJAmpmZmZkfZUBmZmZmZhhoQDMzMzMzEWtAAAAAAAAKbkBmZmZmZoFwQM3MzMzM/XFAMzMzMzN6c0CamZmZmfZ0QAAAAAAAc3ZAZmZmZmbvd0DNzMzMzGt5QDMzMzMz6HpAmpmZmZlkfEAAAAAAAOF9QGZmZmZmXX9AZmZmZuZsgECamZmZGSuBQM3MzMxM6YFAAAAAAICngkAzMzMzs2WDQGZmZmbmI4RAmpmZmRnihEDNzMzMTKCFQAAAAACAXoZAMzMzM7Mch0BmZmZm5tqHQJqZmZkZmYhAzczMzExXiUAAAAAAgBWKQDMzMzOz04pAZmZmZuaRi0CamZmZGVCMQM3MzMxMDo1AAAAAAIDMjUAzMzMzs4qOQGZmZmbmSI9A\",\"dtype\":\"float64\",\"shape\":[75]}},\"selected\":{\"id\":\"d1484d1f-aa8f-4e07-a3e5-a38259ecba93\",\"type\":\"Selection\"},\"selection_policy\":{\"id\":\"aaaf13e1-e12a-45d8-9333-3574c0a0cb7f\",\"type\":\"UnionRenderers\"}},\"id\":\"d7b084de-58b2-4b1e-9947-9e6f58b3d1bd\",\"type\":\"ColumnDataSource\"},{\"attributes\":{\"callback\":null,\"end\":0.016910308179999993,\"start\":-0.025866470179999976},\"id\":\"09f2e5a5-17bb-4109-933c-efd5f287287a\",\"type\":\"Range1d\"},{\"attributes\":{\"axis_label\":\"cooling rate [K/day]\",\"formatter\":{\"id\":\"ab04be81-7747-4774-9954-a6f759fde31d\",\"type\":\"BasicTickFormatter\"},\"plot\":{\"id\":\"c1095b84-c007-41e0-a969-7ca8990a5596\",\"subtype\":\"Figure\",\"type\":\"Plot\"},\"ticker\":{\"id\":\"4ecf9280-e209-4c1d-8f42-b3d53f078873\",\"type\":\"BasicTicker\"}},\"id\":\"ef533323-6dca-48c2-b35e-4ad30533ab2b\",\"type\":\"LinearAxis\"},{\"attributes\":{},\"id\":\"4a03ccaf-2d2d-436d-90d4-5faf69b1f864\",\"type\":\"Selection\"},{\"attributes\":{\"label\":{\"value\":\"CRD\"},\"renderers\":[{\"id\":\"44d71240-4c68-4dbf-884b-876ac6709d02\",\"type\":\"GlyphRenderer\"},{\"id\":\"a77c2fc8-e491-40d7-b26c-540414f3094f\",\"type\":\"GlyphRenderer\"}]},\"id\":\"60e696c0-cd34-40df-bcc5-fc13624111fa\",\"type\":\"LegendItem\"},{\"attributes\":{\"source\":{\"id\":\"4fc1e1f8-ca46-44b6-8b23-dd71153d6bff\",\"type\":\"ColumnDataSource\"}},\"id\":\"237a9bc3-65d4-4350-a78d-145d69398db2\",\"type\":\"CDSView\"},{\"attributes\":{\"overlay\":{\"id\":\"854799a8-af4a-4cd3-b9ef-2c6f3d4889d6\",\"type\":\"BoxAnnotation\"}},\"id\":\"30728c96-4cc1-4b33-beaa-f45676a93e5e\",\"type\":\"BoxZoomTool\"},{\"attributes\":{\"line_alpha\":0.1,\"line_color\":\"#1f77b4\",\"line_dash\":[6],\"line_width\":5,\"x\":{\"field\":\"x\"},\"y\":{\"field\":\"y\"}},\"id\":\"a617f6e0-dbdd-4ea7-b42c-59eba74c782c\",\"type\":\"Line\"},{\"attributes\":{\"line_color\":\"#4daf4a\",\"line_width\":1.5,\"x\":{\"field\":\"x\"},\"y\":{\"field\":\"y\"}},\"id\":\"38985269-325d-4cf8-a9b4-a39cfd9cccef\",\"type\":\"Line\"},{\"attributes\":{},\"id\":\"f6950f50-fd02-4eb8-ab14-283fd21801bb\",\"type\":\"UnionRenderers\"},{\"attributes\":{},\"id\":\"2d2bb244-8338-40de-8f6b-44400e132096\",\"type\":\"PanTool\"},{\"attributes\":{\"above\":[{\"id\":\"f577fbb0-9e61-43f8-8ab8-fd1a3ea85410\",\"type\":\"Legend\"}],\"below\":[{\"id\":\"5b7c94b0-36b4-49ae-838c-24f7fd612322\",\"type\":\"LinearAxis\"}],\"left\":[{\"id\":\"c4c4a40c-7889-47cd-bc54-1187c097fa69\",\"type\":\"LogAxis\"}],\"plot_width\":300,\"renderers\":[{\"id\":\"5b7c94b0-36b4-49ae-838c-24f7fd612322\",\"type\":\"LinearAxis\"},{\"id\":\"9838c7ce-36d8-4769-8fb3-1314ba8c6011\",\"type\":\"Grid\"},{\"id\":\"c4c4a40c-7889-47cd-bc54-1187c097fa69\",\"type\":\"LogAxis\"},{\"id\":\"f6d9bb22-83df-4cfa-9330-7869fe998477\",\"type\":\"Grid\"},{\"id\":\"854799a8-af4a-4cd3-b9ef-2c6f3d4889d6\",\"type\":\"BoxAnnotation\"},{\"id\":\"39210bb8-af8a-433c-861e-0b203ffd7286\",\"type\":\"GlyphRenderer\"},{\"id\":\"e073eaed-560b-423d-97af-e933938a1129\",\"type\":\"GlyphRenderer\"},{\"id\":\"f577fbb0-9e61-43f8-8ab8-fd1a3ea85410\",\"type\":\"Legend\"}],\"title\":{\"id\":\"c1650393-3a37-4627-9d9d-379b6e1d6d46\",\"type\":\"Title\"},\"toolbar\":{\"id\":\"6d2b0eea-6c0f-4231-b6b1-d01260b064c8\",\"type\":\"Toolbar\"},\"toolbar_location\":null,\"x_range\":{\"id\":\"09f2e5a5-17bb-4109-933c-efd5f287287a\",\"type\":\"Range1d\"},\"x_scale\":{\"id\":\"d0baca7e-cb4a-4a65-ac3c-645cad16076b\",\"type\":\"LinearScale\"},\"y_range\":{\"id\":\"e77edae6-c15e-407a-80f4-a32998d84ad1\",\"type\":\"Range1d\"},\"y_scale\":{\"id\":\"5afbc460-d7d8-48c5-9d95-996d4efec804\",\"type\":\"LogScale\"}},\"id\":\"f140b76b-4f87-4d17-856f-7802a1a6cd3f\",\"subtype\":\"Figure\",\"type\":\"Plot\"},{\"attributes\":{},\"id\":\"4875430c-125c-4da1-b13f-a5f76759551e\",\"type\":\"Selection\"},{\"attributes\":{\"callback\":null,\"end\":0.01,\"start\":1020},\"id\":\"94345c12-ba28-4cd5-9015-393aec42507c\",\"type\":\"Range1d\"},{\"attributes\":{\"line_alpha\":0.1,\"line_color\":\"#1f77b4\",\"line_width\":1.5,\"x\":{\"field\":\"x\"},\"y\":{\"field\":\"y\"}},\"id\":\"7272b7f7-c1ac-4e4f-b618-8a6848ba288e\",\"type\":\"Line\"},{\"attributes\":{\"data_source\":{\"id\":\"32f81f47-cc79-416a-abaf-98e7e8f4e13d\",\"type\":\"ColumnDataSource\"},\"glyph\":{\"id\":\"261bb9f9-4677-4041-b271-708a20431903\",\"type\":\"Circle\"},\"hover_glyph\":null,\"muted_glyph\":null,\"nonselection_glyph\":{\"id\":\"0390ea9d-02fa-4b9f-8d8e-6512f55901c6\",\"type\":\"Circle\"},\"selection_glyph\":null,\"view\":{\"id\":\"90832f87-7486-4a6f-be3b-d2f9aee0113d\",\"type\":\"CDSView\"}},\"id\":\"4c92aa76-e819-4772-be9b-4c1fa05784ed\",\"type\":\"GlyphRenderer\"},{\"attributes\":{\"source\":{\"id\":\"4a35012c-8e14-4bb8-b37b-4d3609de89eb\",\"type\":\"ColumnDataSource\"}},\"id\":\"a9dec22c-9e52-4087-82b9-7f49b0ae8644\",\"type\":\"CDSView\"},{\"attributes\":{},\"id\":\"cf2cc82f-3fee-4ab0-b249-9f09ad2cdcb0\",\"type\":\"LogScale\"},{\"attributes\":{\"fill_alpha\":{\"value\":0.1},\"fill_color\":{\"value\":\"#1f77b4\"},\"line_alpha\":{\"value\":0.1},\"line_color\":{\"value\":\"#1f77b4\"},\"x\":{\"field\":\"x\"},\"y\":{\"field\":\"y\"}},\"id\":\"9e22ed8c-89e0-4472-8c98-cca9b3479456\",\"type\":\"Circle\"},{\"attributes\":{\"plot\":null,\"text\":\"\"},\"id\":\"372f51fa-db68-44ed-98ed-f8e447c158e5\",\"type\":\"Title\"},{\"attributes\":{\"fill_alpha\":{\"value\":0.7},\"fill_color\":{\"value\":\"#984ea3\"},\"line_alpha\":{\"value\":0.7},\"line_color\":{\"value\":\"#984ea3\"},\"x\":{\"field\":\"x\"},\"y\":{\"field\":\"y\"}},\"id\":\"516149c5-b266-4fd7-babd-4873f2a5ae17\",\"type\":\"Circle\"},{\"attributes\":{\"callback\":null,\"data\":{\"x\":{\"__ndarray__\":\"hNh7o23rpD+vnDex6w6kP2wdIQS0aKI/hqNzEzh/oD8GQU8co+mcP6JId8/6hpg/fqjMfvHNkz+osEJftKaNP0yjGAztHYM/WCCeGJ4GcD9AIskyGLFcv/AM0P9wLH+/0PSGuazbi79AopW9nSuTv8DuCUyGZ5a/kJfIgS5MmL942Hagb4eZv9g/UE3NDpq/cM5mei74mb/oBF2QZ3aZv7gdbV7N6Ji/aKDP08JdkL8AGNC5eMsXP2i/BlskoYg/akTDcf/ikD9Ikwf5CwOPP2zdV/zeWoU/qrBrlcYKcz/As+PDQmYkPy4AopKSlF+/nvMqndUjYb/6vCk2tPJTvyDCprW9Ih6/rFYyATB3RT/Iwr1eFFdSP9DHvKRmlVY/cMTI9D4sWD/8SZIcNi5YP3yQ16jrblU/ArYsJVGmTj+IRQCkcGU7P8CQmyaSvSy/MBXucbMzTb/4tRybpSxYvxC8saXp4Vu/WNP8kR96Xb+sii3AGythv1Do6v4Z9GG/mGrGDfOxYL+oD5WxHtFdv9KQUHacYlq/qVbM+UPiV7/nkhQhiDNVvyyDSb5JhFO/zFzg8lgzUr9gNnveVDZRv2BNmK8ZgFC/8Fbw6jsQUL+QjgDbsl1Qv8A63q/FGE+/oOFJ4hckTr8AwDUz18JMv4DuKugZokq/gPBkKAjNR78AnN17NKxEv8BVLDLFEkK/wKBl082iQL+AR8pnkLpBv4ABtklmcUa/wIeDF4wwRr9A9/CueL9BvwDuDM8iRjW/AEBrRFEc576AufYSHsUtPyDqPm1FfEY/\",\"dtype\":\"float64\",\"shape\":[75]},\"y\":{\"__ndarray__\":\"GhExyth1ND/Sv8nbtpRIP2vylNV0PVE/aTum7souWD/At0SJ8fVgPw3Iuahxymc/MSNhhJWvcD/bTfBN02d3P2zb5nxnaoA/CD5h5MAGhz8NmeH1TyaQP+zrCsc9p5Y/LbKd76fGnz/bLW5ISEmmPww9YvTcQq8/JV2OstnstT8Er5Y7M8G+P0c+r3jqkcU/5h99k6ZBzj88bCIzFzjVP4enV8oyxN0//yH99nXg5D8qOpLLf0jtP5kqGJXUifQ/c9cS8kHP/D+/DpwzojQEQIEmwoanVwxA4lgXt9HgE0BSSZ2AJuIbQAMJih9jjiNA5q4l5INuK0AwTKYKRj0zQNv5fmq8/DpAaCJseHrtQkB/+zpwzoxKQM3MzMzMeFJAZmZmZmZqWEAAAAAAAFxeQM3MzMzMJmJAmpmZmZkfZUBmZmZmZhhoQDMzMzMzEWtAAAAAAAAKbkBmZmZmZoFwQM3MzMzM/XFAMzMzMzN6c0CamZmZmfZ0QAAAAAAAc3ZAZmZmZmbvd0DNzMzMzGt5QDMzMzMz6HpAmpmZmZlkfEAAAAAAAOF9QGZmZmZmXX9AZmZmZuZsgECamZmZGSuBQM3MzMxM6YFAAAAAAICngkAzMzMzs2WDQGZmZmbmI4RAmpmZmRnihEDNzMzMTKCFQAAAAACAXoZAMzMzM7Mch0BmZmZm5tqHQJqZmZkZmYhAzczMzExXiUAAAAAAgBWKQDMzMzOz04pAZmZmZuaRi0CamZmZGVCMQM3MzMxMDo1AAAAAAIDMjUAzMzMzs4qOQGZmZmbmSI9A\",\"dtype\":\"float64\",\"shape\":[75]}},\"selected\":{\"id\":\"941a18c4-e26f-49ee-ad80-e25c06b41400\",\"type\":\"Selection\"},\"selection_policy\":{\"id\":\"7c2994bc-42fa-43fd-8ffd-9dd26735b984\",\"type\":\"UnionRenderers\"}},\"id\":\"9682d6fa-32ed-4181-9687-629002ecb8d1\",\"type\":\"ColumnDataSource\"},{\"attributes\":{\"active_drag\":\"auto\",\"active_inspect\":\"auto\",\"active_scroll\":\"auto\",\"active_tap\":\"auto\",\"tools\":[{\"id\":\"c7c97a14-f0dc-42d4-8e11-7eb28992229e\",\"type\":\"PanTool\"},{\"id\":\"b0da1969-c6e2-431f-967b-56ddf592505a\",\"type\":\"WheelZoomTool\"},{\"id\":\"3cc66e0f-1717-4b56-adc9-96e3a6ab567c\",\"type\":\"BoxZoomTool\"},{\"id\":\"034b4d95-6361-41f7-98c4-5526c54b8fdb\",\"type\":\"SaveTool\"},{\"id\":\"62138b65-f3e8-407b-b192-621fabc7a0b2\",\"type\":\"ResetTool\"},{\"id\":\"3297bc7c-230e-4c9f-978e-6c322b217f76\",\"type\":\"HelpTool\"}]},\"id\":\"9dd8cecc-62e0-4269-a950-c49abbea6581\",\"type\":\"Toolbar\"},{\"attributes\":{\"axis_label\":\"pressure [mb]\",\"formatter\":{\"id\":\"afd8138e-682e-4f25-8112-ff697a15dc6c\",\"type\":\"BasicTickFormatter\"},\"plot\":{\"id\":\"c1095b84-c007-41e0-a969-7ca8990a5596\",\"subtype\":\"Figure\",\"type\":\"Plot\"},\"ticker\":{\"id\":\"817a3744-a085-480e-9f6e-375e34b9e8aa\",\"type\":\"BasicTicker\"}},\"id\":\"b5996661-e662-4da5-85a4-c1a7f62df4a4\",\"type\":\"LinearAxis\"},{\"attributes\":{\"axis_label\":\"pressure [mb]\",\"formatter\":{\"id\":\"6ddcef67-b7c4-4c1c-9ee9-d29ed6b67dd8\",\"type\":\"LogTickFormatter\"},\"plot\":{\"id\":\"306e235a-b902-49e3-a322-f07acf327675\",\"subtype\":\"Figure\",\"type\":\"Plot\"},\"ticker\":{\"id\":\"c35c502f-7539-42e9-b7a8-9b7614575b39\",\"type\":\"LogTicker\"}},\"id\":\"a438c889-1832-4fe0-b3f8-0ef58cdea531\",\"type\":\"LogAxis\"},{\"attributes\":{\"children\":[{\"id\":\"c1095b84-c007-41e0-a969-7ca8990a5596\",\"subtype\":\"Figure\",\"type\":\"Plot\"},{\"id\":\"306e235a-b902-49e3-a322-f07acf327675\",\"subtype\":\"Figure\",\"type\":\"Plot\"},{\"id\":\"f140b76b-4f87-4d17-856f-7802a1a6cd3f\",\"subtype\":\"Figure\",\"type\":\"Plot\"}]},\"id\":\"0fc3f24a-3de8-466d-9e2b-cdb8e010ca7c\",\"type\":\"Row\"},{\"attributes\":{\"line_color\":\"#4daf4a\",\"line_width\":1.5,\"x\":{\"field\":\"x\"},\"y\":{\"field\":\"y\"}},\"id\":\"57cee088-c382-447d-aa3f-147e90103115\",\"type\":\"Line\"},{\"attributes\":{\"callback\":null,\"end\":0.03994092697,\"start\":-0.01688755397},\"id\":\"cea20715-62cd-4b75-a439-4aaff2536d29\",\"type\":\"Range1d\"},{\"attributes\":{\"plot\":{\"id\":\"306e235a-b902-49e3-a322-f07acf327675\",\"subtype\":\"Figure\",\"type\":\"Plot\"},\"ticker\":{\"id\":\"bdc72c7a-1a10-4f4d-9f79-bff37544cc9e\",\"type\":\"BasicTicker\"}},\"id\":\"2286a8d8-0c05-48dd-8675-02a66d0e2bb1\",\"type\":\"Grid\"},{\"attributes\":{\"line_alpha\":0.1,\"line_color\":\"#1f77b4\",\"line_dash\":[6],\"line_width\":5,\"x\":{\"field\":\"x\"},\"y\":{\"field\":\"y\"}},\"id\":\"240023aa-3972-462e-bf8a-46ae82652fef\",\"type\":\"Line\"},{\"attributes\":{\"axis_label\":\"cooling rate [K/day]\",\"formatter\":{\"id\":\"d25f6cd1-30d3-4430-ad99-8a734d6c3b16\",\"type\":\"BasicTickFormatter\"},\"plot\":{\"id\":\"306e235a-b902-49e3-a322-f07acf327675\",\"subtype\":\"Figure\",\"type\":\"Plot\"},\"ticker\":{\"id\":\"bdc72c7a-1a10-4f4d-9f79-bff37544cc9e\",\"type\":\"BasicTicker\"}},\"id\":\"2bbec4bd-6b3e-478b-a748-06bdaa726f83\",\"type\":\"LinearAxis\"},{\"attributes\":{},\"id\":\"afd8138e-682e-4f25-8112-ff697a15dc6c\",\"type\":\"BasicTickFormatter\"},{\"attributes\":{\"label\":{\"value\":\"CLIRAD - CRD\"},\"renderers\":[{\"id\":\"39210bb8-af8a-433c-861e-0b203ffd7286\",\"type\":\"GlyphRenderer\"},{\"id\":\"e073eaed-560b-423d-97af-e933938a1129\",\"type\":\"GlyphRenderer\"}]},\"id\":\"aed5dc72-c01c-43b6-b325-05063fd5a19a\",\"type\":\"LegendItem\"},{\"attributes\":{},\"id\":\"4ecf9280-e209-4c1d-8f42-b3d53f078873\",\"type\":\"BasicTicker\"},{\"attributes\":{\"line_alpha\":0.6,\"line_color\":\"#e41a1c\",\"line_dash\":[6],\"line_width\":5,\"x\":{\"field\":\"x\"},\"y\":{\"field\":\"y\"}},\"id\":\"6de936f1-a44d-4969-8517-6b7d36bac241\",\"type\":\"Line\"},{\"attributes\":{\"data_source\":{\"id\":\"159067cb-562e-4927-a29e-972a286b181e\",\"type\":\"ColumnDataSource\"},\"glyph\":{\"id\":\"6de936f1-a44d-4969-8517-6b7d36bac241\",\"type\":\"Line\"},\"hover_glyph\":null,\"muted_glyph\":null,\"nonselection_glyph\":{\"id\":\"240023aa-3972-462e-bf8a-46ae82652fef\",\"type\":\"Line\"},\"selection_glyph\":null,\"view\":{\"id\":\"2363dac7-730b-4c51-bd95-9bde5c5831a8\",\"type\":\"CDSView\"}},\"id\":\"5504d533-0982-4bd3-9c09-33d85b37890f\",\"type\":\"GlyphRenderer\"},{\"attributes\":{\"fill_alpha\":{\"value\":0.1},\"fill_color\":{\"value\":\"#1f77b4\"},\"line_alpha\":{\"value\":0.1},\"line_color\":{\"value\":\"#1f77b4\"},\"x\":{\"field\":\"x\"},\"y\":{\"field\":\"y\"}},\"id\":\"cff9eccf-6ca8-4ef9-a92e-5d5c32ae7da7\",\"type\":\"Circle\"},{\"attributes\":{},\"id\":\"aaaf13e1-e12a-45d8-9333-3574c0a0cb7f\",\"type\":\"UnionRenderers\"},{\"attributes\":{\"plot\":{\"id\":\"c1095b84-c007-41e0-a969-7ca8990a5596\",\"subtype\":\"Figure\",\"type\":\"Plot\"},\"ticker\":{\"id\":\"4ecf9280-e209-4c1d-8f42-b3d53f078873\",\"type\":\"BasicTicker\"}},\"id\":\"1a5d7ec3-e066-4686-b96d-ed1fc90dee68\",\"type\":\"Grid\"},{\"attributes\":{\"fill_alpha\":{\"value\":0.1},\"fill_color\":{\"value\":\"#1f77b4\"},\"line_alpha\":{\"value\":0.1},\"line_color\":{\"value\":\"#1f77b4\"},\"x\":{\"field\":\"x\"},\"y\":{\"field\":\"y\"}},\"id\":\"0390ea9d-02fa-4b9f-8d8e-6512f55901c6\",\"type\":\"Circle\"},{\"attributes\":{},\"id\":\"1ba368d0-f3c5-4dfe-bfde-07a0c3a4db04\",\"type\":\"LinearScale\"},{\"attributes\":{\"callback\":null,\"data\":{\"x\":{\"__ndarray__\":\"V2Fta48Hqb/dNiagltqmvx7JlvnPGaK/+RJQ/16smb8j7siQF12Mv0irr63lrlq/TjJ50NrXhz+qtQWLkKiaPwLI6gWISqU/KEt6BnfhrT/gRe3rsY6zP3SanfaogLg/Lai5Ju7CvT8OQ9QSZU7BP3nTJcp7KMM/anRBXL2zxD9O/KQcxDXGP3bEvvCMrsc/ABophKMeyT8je60ZU4/KPysLDWGI3ss/Ms5bTJ54yT8ZgUYjfsnCP+C0oeEbqrg/jc16cPhWrj8hGhqlBCqhPwx3XsUKAJE/I4/oJdSBgD9loHM+Spp3PyEPGd8rxHQ/qC01B2+kcD/MmRwfbsVlP7zpv1P0g2M/l5BkVcpLaz/+RihmF61vPzxH1GtCOHA/gt9kLsDkbT+a35If1vtjP9T/Xrc0MUc/PhNXD7nBT79wyt7GbUpmvwpL6jNIAnO/EkEOJhsRfL/VA5FGv52Dvwgapd5iZIq/62CD2ZLCjb+gCCZamcCKv1hSMFuZjYW/5IVFZBfOgL8uXZsmIGh4v/0YGfqlEm6/I5MJQOcjVb8Qk+qeoMRTP5QE+F1+T28/IQ0nKL7Mej8DIApAhR6DP0+1+hBy44g/nZvvDamVjj/e+pdBCAqSP1MAUrxGopQ/p14Dl9EMlz+rr2J8jkuZP/+goqg7aJs/MQyucs5znT8kQARXpIKfP9vyv8zf06A/8lLV9yb1oT89H1lRZxSjP9myBU/k86M/96giiRwqpD+8HwPug3CjP14H1oqZ8aE/Y5w2GCcUoD/gguNnYDqcP4PcrXsXLpg/\",\"dtype\":\"float64\",\"shape\":[75]},\"y\":{\"__ndarray__\":\"GhExyth1ND/Sv8nbtpRIP2vylNV0PVE/aTum7souWD/At0SJ8fVgPw3Iuahxymc/MSNhhJWvcD/bTfBN02d3P2zb5nxnaoA/CD5h5MAGhz8NmeH1TyaQP+zrCsc9p5Y/LbKd76fGnz/bLW5ISEmmPww9YvTcQq8/JV2OstnstT8Er5Y7M8G+P0c+r3jqkcU/5h99k6ZBzj88bCIzFzjVP4enV8oyxN0//yH99nXg5D8qOpLLf0jtP5kqGJXUifQ/c9cS8kHP/D+/DpwzojQEQIEmwoanVwxA4lgXt9HgE0BSSZ2AJuIbQAMJih9jjiNA5q4l5INuK0AwTKYKRj0zQNv5fmq8/DpAaCJseHrtQkB/+zpwzoxKQM3MzMzMeFJAZmZmZmZqWEAAAAAAAFxeQM3MzMzMJmJAmpmZmZkfZUBmZmZmZhhoQDMzMzMzEWtAAAAAAAAKbkBmZmZmZoFwQM3MzMzM/XFAMzMzMzN6c0CamZmZmfZ0QAAAAAAAc3ZAZmZmZmbvd0DNzMzMzGt5QDMzMzMz6HpAmpmZmZlkfEAAAAAAAOF9QGZmZmZmXX9AZmZmZuZsgECamZmZGSuBQM3MzMxM6YFAAAAAAICngkAzMzMzs2WDQGZmZmbmI4RAmpmZmRnihEDNzMzMTKCFQAAAAACAXoZAMzMzM7Mch0BmZmZm5tqHQJqZmZkZmYhAzczMzExXiUAAAAAAgBWKQDMzMzOz04pAZmZmZuaRi0CamZmZGVCMQM3MzMxMDo1AAAAAAIDMjUAzMzMzs4qOQGZmZmbmSI9A\",\"dtype\":\"float64\",\"shape\":[75]}},\"selected\":{\"id\":\"41a1ba55-6bef-499b-b702-a2d00a954201\",\"type\":\"Selection\"},\"selection_policy\":{\"id\":\"f6950f50-fd02-4eb8-ab14-283fd21801bb\",\"type\":\"UnionRenderers\"}},\"id\":\"32f81f47-cc79-416a-abaf-98e7e8f4e13d\",\"type\":\"ColumnDataSource\"},{\"attributes\":{\"dimension\":1,\"plot\":{\"id\":\"c1095b84-c007-41e0-a969-7ca8990a5596\",\"subtype\":\"Figure\",\"type\":\"Plot\"},\"ticker\":{\"id\":\"817a3744-a085-480e-9f6e-375e34b9e8aa\",\"type\":\"BasicTicker\"}},\"id\":\"c408b59e-7a3e-4922-8c5d-72ce4a651861\",\"type\":\"Grid\"},{\"attributes\":{},\"id\":\"5afbc460-d7d8-48c5-9d95-996d4efec804\",\"type\":\"LogScale\"},{\"attributes\":{\"source\":{\"id\":\"32f81f47-cc79-416a-abaf-98e7e8f4e13d\",\"type\":\"ColumnDataSource\"}},\"id\":\"90832f87-7486-4a6f-be3b-d2f9aee0113d\",\"type\":\"CDSView\"},{\"attributes\":{\"source\":{\"id\":\"41a37861-a9a9-4221-9647-7ce193bd1deb\",\"type\":\"ColumnDataSource\"}},\"id\":\"65467594-6c0f-496a-a41d-a85b08f05424\",\"type\":\"CDSView\"},{\"attributes\":{\"dimension\":1,\"plot\":{\"id\":\"f140b76b-4f87-4d17-856f-7802a1a6cd3f\",\"subtype\":\"Figure\",\"type\":\"Plot\"},\"ticker\":{\"id\":\"9fa7c1ee-686f-430b-9dae-b3b91f10d066\",\"type\":\"LogTicker\"}},\"id\":\"f6d9bb22-83df-4cfa-9330-7869fe998477\",\"type\":\"Grid\"},{\"attributes\":{\"data_source\":{\"id\":\"4fc1e1f8-ca46-44b6-8b23-dd71153d6bff\",\"type\":\"ColumnDataSource\"},\"glyph\":{\"id\":\"4e52fdd8-a1d7-4dcc-ad95-4d0fe46add9c\",\"type\":\"Line\"},\"hover_glyph\":null,\"muted_glyph\":null,\"nonselection_glyph\":{\"id\":\"4a335abd-7ada-48af-93f4-eab9b64ba006\",\"type\":\"Line\"},\"selection_glyph\":null,\"view\":{\"id\":\"237a9bc3-65d4-4350-a78d-145d69398db2\",\"type\":\"CDSView\"}},\"id\":\"e073eaed-560b-423d-97af-e933938a1129\",\"type\":\"GlyphRenderer\"},{\"attributes\":{\"axis_label\":\"pressure [mb]\",\"formatter\":{\"id\":\"dc5db00e-de57-4fb7-94d4-aa17eb4952a6\",\"type\":\"LogTickFormatter\"},\"plot\":{\"id\":\"f140b76b-4f87-4d17-856f-7802a1a6cd3f\",\"subtype\":\"Figure\",\"type\":\"Plot\"},\"ticker\":{\"id\":\"9fa7c1ee-686f-430b-9dae-b3b91f10d066\",\"type\":\"LogTicker\"}},\"id\":\"c4c4a40c-7889-47cd-bc54-1187c097fa69\",\"type\":\"LogAxis\"},{\"attributes\":{},\"id\":\"d4598a21-bc20-453c-8bc1-919767db9b4f\",\"type\":\"UnionRenderers\"},{\"attributes\":{\"data_source\":{\"id\":\"4a35012c-8e14-4bb8-b37b-4d3609de89eb\",\"type\":\"ColumnDataSource\"},\"glyph\":{\"id\":\"38985269-325d-4cf8-a9b4-a39cfd9cccef\",\"type\":\"Line\"},\"hover_glyph\":null,\"muted_glyph\":null,\"nonselection_glyph\":{\"id\":\"50a902a1-7af7-4b47-b1dd-2b1c8cdabdac\",\"type\":\"Line\"},\"selection_glyph\":null,\"view\":{\"id\":\"a9dec22c-9e52-4087-82b9-7f49b0ae8644\",\"type\":\"CDSView\"}},\"id\":\"a77c2fc8-e491-40d7-b26c-540414f3094f\",\"type\":\"GlyphRenderer\"},{\"attributes\":{\"source\":{\"id\":\"9682d6fa-32ed-4181-9687-629002ecb8d1\",\"type\":\"ColumnDataSource\"}},\"id\":\"a3d69300-c2d9-4c98-a0aa-91bc8fa821db\",\"type\":\"CDSView\"},{\"attributes\":{},\"id\":\"c875e88b-5b4a-469e-91b8-4628c47ce9e7\",\"type\":\"UnionRenderers\"},{\"attributes\":{\"line_alpha\":0.1,\"line_color\":\"#1f77b4\",\"line_width\":1.5,\"x\":{\"field\":\"x\"},\"y\":{\"field\":\"y\"}},\"id\":\"4a335abd-7ada-48af-93f4-eab9b64ba006\",\"type\":\"Line\"},{\"attributes\":{},\"id\":\"41a1ba55-6bef-499b-b702-a2d00a954201\",\"type\":\"Selection\"},{\"attributes\":{\"bottom_units\":\"screen\",\"fill_alpha\":{\"value\":0.5},\"fill_color\":{\"value\":\"lightgrey\"},\"left_units\":\"screen\",\"level\":\"overlay\",\"line_alpha\":{\"value\":1.0},\"line_color\":{\"value\":\"black\"},\"line_dash\":[4,4],\"line_width\":{\"value\":2},\"plot\":null,\"render_mode\":\"css\",\"right_units\":\"screen\",\"top_units\":\"screen\"},\"id\":\"854799a8-af4a-4cd3-b9ef-2c6f3d4889d6\",\"type\":\"BoxAnnotation\"},{\"attributes\":{\"callback\":null,\"data\":{\"x\":{\"__ndarray__\":\"hNh7o23rpD+vnDex6w6kP2wdIQS0aKI/hqNzEzh/oD8GQU8co+mcP6JId8/6hpg/fqjMfvHNkz+osEJftKaNP0yjGAztHYM/WCCeGJ4GcD9AIskyGLFcv/AM0P9wLH+/0PSGuazbi79AopW9nSuTv8DuCUyGZ5a/kJfIgS5MmL942Hagb4eZv9g/UE3NDpq/cM5mei74mb/oBF2QZ3aZv7gdbV7N6Ji/aKDP08JdkL8AGNC5eMsXP2i/BlskoYg/akTDcf/ikD9Ikwf5CwOPP2zdV/zeWoU/qrBrlcYKcz/As+PDQmYkPy4AopKSlF+/nvMqndUjYb/6vCk2tPJTvyDCprW9Ih6/rFYyATB3RT/Iwr1eFFdSP9DHvKRmlVY/cMTI9D4sWD/8SZIcNi5YP3yQ16jrblU/ArYsJVGmTj+IRQCkcGU7P8CQmyaSvSy/MBXucbMzTb/4tRybpSxYvxC8saXp4Vu/WNP8kR96Xb+sii3AGythv1Do6v4Z9GG/mGrGDfOxYL+oD5WxHtFdv9KQUHacYlq/qVbM+UPiV7/nkhQhiDNVvyyDSb5JhFO/zFzg8lgzUr9gNnveVDZRv2BNmK8ZgFC/8Fbw6jsQUL+QjgDbsl1Qv8A63q/FGE+/oOFJ4hckTr8AwDUz18JMv4DuKugZokq/gPBkKAjNR78AnN17NKxEv8BVLDLFEkK/wKBl082iQL+AR8pnkLpBv4ABtklmcUa/wIeDF4wwRr9A9/CueL9BvwDuDM8iRjW/AEBrRFEc576AufYSHsUtPyDqPm1FfEY/\",\"dtype\":\"float64\",\"shape\":[75]},\"y\":{\"__ndarray__\":\"GhExyth1ND/Sv8nbtpRIP2vylNV0PVE/aTum7souWD/At0SJ8fVgPw3Iuahxymc/MSNhhJWvcD/bTfBN02d3P2zb5nxnaoA/CD5h5MAGhz8NmeH1TyaQP+zrCsc9p5Y/LbKd76fGnz/bLW5ISEmmPww9YvTcQq8/JV2OstnstT8Er5Y7M8G+P0c+r3jqkcU/5h99k6ZBzj88bCIzFzjVP4enV8oyxN0//yH99nXg5D8qOpLLf0jtP5kqGJXUifQ/c9cS8kHP/D+/DpwzojQEQIEmwoanVwxA4lgXt9HgE0BSSZ2AJuIbQAMJih9jjiNA5q4l5INuK0AwTKYKRj0zQNv5fmq8/DpAaCJseHrtQkB/+zpwzoxKQM3MzMzMeFJAZmZmZmZqWEAAAAAAAFxeQM3MzMzMJmJAmpmZmZkfZUBmZmZmZhhoQDMzMzMzEWtAAAAAAAAKbkBmZmZmZoFwQM3MzMzM/XFAMzMzMzN6c0CamZmZmfZ0QAAAAAAAc3ZAZmZmZmbvd0DNzMzMzGt5QDMzMzMz6HpAmpmZmZlkfEAAAAAAAOF9QGZmZmZmXX9AZmZmZuZsgECamZmZGSuBQM3MzMxM6YFAAAAAAICngkAzMzMzs2WDQGZmZmbmI4RAmpmZmRnihEDNzMzMTKCFQAAAAACAXoZAMzMzM7Mch0BmZmZm5tqHQJqZmZkZmYhAzczMzExXiUAAAAAAgBWKQDMzMzOz04pAZmZmZuaRi0CamZmZGVCMQM3MzMxMDo1AAAAAAIDMjUAzMzMzs4qOQGZmZmbmSI9A\",\"dtype\":\"float64\",\"shape\":[75]}},\"selected\":{\"id\":\"d0cf901f-8a1e-4b3e-96ff-20e32c4c9d7d\",\"type\":\"Selection\"},\"selection_policy\":{\"id\":\"b22305c2-071a-48bd-b202-9348c68ed046\",\"type\":\"UnionRenderers\"}},\"id\":\"4fc1e1f8-ca46-44b6-8b23-dd71153d6bff\",\"type\":\"ColumnDataSource\"},{\"attributes\":{},\"id\":\"358983f1-caab-4ae6-a382-ade999671979\",\"type\":\"ResetTool\"},{\"attributes\":{\"data_source\":{\"id\":\"fd35efb6-48ad-4dfa-9af2-0822379faf2b\",\"type\":\"ColumnDataSource\"},\"glyph\":{\"id\":\"2c74ac03-ce13-4904-906a-87033786de36\",\"type\":\"Line\"},\"hover_glyph\":null,\"muted_glyph\":null,\"nonselection_glyph\":{\"id\":\"a617f6e0-dbdd-4ea7-b42c-59eba74c782c\",\"type\":\"Line\"},\"selection_glyph\":null,\"view\":{\"id\":\"5e41465d-dfe0-405d-b8e1-4090b53b931d\",\"type\":\"CDSView\"}},\"id\":\"6b141b65-6575-4c69-92de-c28efae9c99a\",\"type\":\"GlyphRenderer\"},{\"attributes\":{},\"id\":\"d1484d1f-aa8f-4e07-a3e5-a38259ecba93\",\"type\":\"Selection\"},{\"attributes\":{},\"id\":\"ab04be81-7747-4774-9954-a6f759fde31d\",\"type\":\"BasicTickFormatter\"},{\"attributes\":{\"source\":{\"id\":\"fd35efb6-48ad-4dfa-9af2-0822379faf2b\",\"type\":\"ColumnDataSource\"}},\"id\":\"5e41465d-dfe0-405d-b8e1-4090b53b931d\",\"type\":\"CDSView\"},{\"attributes\":{\"axis_label\":\"cooling rate [K/day]\",\"formatter\":{\"id\":\"0cfc37be-c67e-4f24-9a3d-fef158011b9e\",\"type\":\"BasicTickFormatter\"},\"plot\":{\"id\":\"f140b76b-4f87-4d17-856f-7802a1a6cd3f\",\"subtype\":\"Figure\",\"type\":\"Plot\"},\"ticker\":{\"id\":\"37e6623f-04d7-4087-8383-0aa095e92cec\",\"type\":\"BasicTicker\"}},\"id\":\"5b7c94b0-36b4-49ae-838c-24f7fd612322\",\"type\":\"LinearAxis\"},{\"attributes\":{},\"id\":\"97eeea2a-7f2a-47f2-b47d-53e30d02d233\",\"type\":\"UnionRenderers\"},{\"attributes\":{\"plot\":null,\"text\":\"\"},\"id\":\"c1650393-3a37-4627-9d9d-379b6e1d6d46\",\"type\":\"Title\"},{\"attributes\":{},\"id\":\"bdc72c7a-1a10-4f4d-9f79-bff37544cc9e\",\"type\":\"BasicTicker\"},{\"attributes\":{},\"id\":\"8c72b89c-473f-4a3c-8703-b72c228c53a2\",\"type\":\"UnionRenderers\"},{\"attributes\":{},\"id\":\"a5b83dee-0c4f-4fec-9168-1a8a976c7654\",\"type\":\"HelpTool\"},{\"attributes\":{\"items\":[{\"id\":\"05f2dad0-ea6c-4fb3-8d80-97cf56d1fdab\",\"type\":\"LegendItem\"},{\"id\":\"60e696c0-cd34-40df-bcc5-fc13624111fa\",\"type\":\"LegendItem\"}],\"label_text_font_size\":{\"value\":\"8pt\"},\"location\":\"top_center\",\"orientation\":\"horizontal\",\"plot\":{\"id\":\"c1095b84-c007-41e0-a969-7ca8990a5596\",\"subtype\":\"Figure\",\"type\":\"Plot\"}},\"id\":\"5addfd39-9d54-4ab4-b834-ae7bec9a0ec8\",\"type\":\"Legend\"},{\"attributes\":{\"ticker\":null},\"id\":\"6ddcef67-b7c4-4c1c-9ee9-d29ed6b67dd8\",\"type\":\"LogTickFormatter\"},{\"attributes\":{\"callback\":null,\"data\":{\"x\":{\"__ndarray__\":\"TSPGH4dwgL9v0XR3V112v2kTlaICuUM/T9BcnkRIfT/pk9WnLnaNP+1NnHQM3JY/pUEJ5965nz//hlNd9b2kP9Xw8EgDEqo/Mw+OyUrirz9XISKL7RuzP6WZoObhjbY/k8mIj3hHuj+MHUO24tG9P6GVpACLW8A/eGEIjDeqwT8/IZYo1gTDP3u8FEezbMQ/MkDctJ3fxT+G2qEnhmDHP3RnP7Vuwcg/Jdrh8eVsxz8cu12Sd8zCP82MAm1Avrs/4TeuFDxksz/z/lujx+qoP8JlikN6rZs/eGeecDcHij8DvpJUfD14Pyse4XQOvmk/smc/cQglYD+edg8IKJhXP6uzEmbekmI/IZPYKstUcD8xlMPKUGx0PzB5AxWc3XU/3aBk1G/9dD9MAu6WeAlwPzOIQwLDg2A/yNOlon62Ab+/wV6yv91iv5AnH8U06HO/uANMlJG3f7+UmvT5U6OGv4pRWxOg4I2/q33hZeu4kL9LazFKYAuPv2wM69qfCoq/iiC3J5T6hL8YoQDTZ9x/v7OwoBr6oXW/5vTqnBWDZr9x/Z8ieO4Wv/5C035ZjWU/7vVu6+c/dj83uTqkuveAP6OrB9tu04Y/v5CRkKGTjD/18ecTLQSRP30O046AqZM/mg/x17Ablj+rAcnCd2WYP4tJYdkqk5o/reRqMWa1nD9EUyWzQt2eP4RB97eUi6A/b7yHwJuyoT8f9rkPfc2iP9Pa3rUemqM/2JrEWFrRoz/fW0cLhimjP4LtN0UNx6E/r1UiU7USoD9TcAmk6nWcP9TTF6f54Zg/\",\"dtype\":\"float64\",\"shape\":[75]},\"y\":{\"__ndarray__\":\"GhExyth1ND/Sv8nbtpRIP2vylNV0PVE/aTum7souWD/At0SJ8fVgPw3Iuahxymc/MSNhhJWvcD/bTfBN02d3P2zb5nxnaoA/CD5h5MAGhz8NmeH1TyaQP+zrCsc9p5Y/LbKd76fGnz/bLW5ISEmmPww9YvTcQq8/JV2OstnstT8Er5Y7M8G+P0c+r3jqkcU/5h99k6ZBzj88bCIzFzjVP4enV8oyxN0//yH99nXg5D8qOpLLf0jtP5kqGJXUifQ/c9cS8kHP/D+/DpwzojQEQIEmwoanVwxA4lgXt9HgE0BSSZ2AJuIbQAMJih9jjiNA5q4l5INuK0AwTKYKRj0zQNv5fmq8/DpAaCJseHrtQkB/+zpwzoxKQM3MzMzMeFJAZmZmZmZqWEAAAAAAAFxeQM3MzMzMJmJAmpmZmZkfZUBmZmZmZhhoQDMzMzMzEWtAAAAAAAAKbkBmZmZmZoFwQM3MzMzM/XFAMzMzMzN6c0CamZmZmfZ0QAAAAAAAc3ZAZmZmZmbvd0DNzMzMzGt5QDMzMzMz6HpAmpmZmZlkfEAAAAAAAOF9QGZmZmZmXX9AZmZmZuZsgECamZmZGSuBQM3MzMxM6YFAAAAAAICngkAzMzMzs2WDQGZmZmbmI4RAmpmZmRnihEDNzMzMTKCFQAAAAACAXoZAMzMzM7Mch0BmZmZm5tqHQJqZmZkZmYhAzczMzExXiUAAAAAAgBWKQDMzMzOz04pAZmZmZuaRi0CamZmZGVCMQM3MzMxMDo1AAAAAAIDMjUAzMzMzs4qOQGZmZmbmSI9A\",\"dtype\":\"float64\",\"shape\":[75]}},\"selected\":{\"id\":\"4875430c-125c-4da1-b13f-a5f76759551e\",\"type\":\"Selection\"},\"selection_policy\":{\"id\":\"c875e88b-5b4a-469e-91b8-4628c47ce9e7\",\"type\":\"UnionRenderers\"}},\"id\":\"159067cb-562e-4927-a29e-972a286b181e\",\"type\":\"ColumnDataSource\"},{\"attributes\":{\"callback\":null,\"end\":0.01,\"start\":1020},\"id\":\"b309ae01-e529-4a6f-ab9e-f2c964adb55f\",\"type\":\"Range1d\"},{\"attributes\":{},\"id\":\"d0baca7e-cb4a-4a65-ac3c-645cad16076b\",\"type\":\"LinearScale\"},{\"attributes\":{},\"id\":\"d25f6cd1-30d3-4430-ad99-8a734d6c3b16\",\"type\":\"BasicTickFormatter\"},{\"attributes\":{},\"id\":\"d0b42dcc-9b10-4e67-8960-3942fc27d825\",\"type\":\"LinearScale\"},{\"attributes\":{\"callback\":null,\"data\":{\"x\":{\"__ndarray__\":\"TSPGH4dwgL9v0XR3V112v2kTlaICuUM/T9BcnkRIfT/pk9WnLnaNP+1NnHQM3JY/pUEJ5965nz//hlNd9b2kP9Xw8EgDEqo/Mw+OyUrirz9XISKL7RuzP6WZoObhjbY/k8mIj3hHuj+MHUO24tG9P6GVpACLW8A/eGEIjDeqwT8/IZYo1gTDP3u8FEezbMQ/MkDctJ3fxT+G2qEnhmDHP3RnP7Vuwcg/Jdrh8eVsxz8cu12Sd8zCP82MAm1Avrs/4TeuFDxksz/z/lujx+qoP8JlikN6rZs/eGeecDcHij8DvpJUfD14Pyse4XQOvmk/smc/cQglYD+edg8IKJhXP6uzEmbekmI/IZPYKstUcD8xlMPKUGx0PzB5AxWc3XU/3aBk1G/9dD9MAu6WeAlwPzOIQwLDg2A/yNOlon62Ab+/wV6yv91iv5AnH8U06HO/uANMlJG3f7+UmvT5U6OGv4pRWxOg4I2/q33hZeu4kL9LazFKYAuPv2wM69qfCoq/iiC3J5T6hL8YoQDTZ9x/v7OwoBr6oXW/5vTqnBWDZr9x/Z8ieO4Wv/5C035ZjWU/7vVu6+c/dj83uTqkuveAP6OrB9tu04Y/v5CRkKGTjD/18ecTLQSRP30O046AqZM/mg/x17Ablj+rAcnCd2WYP4tJYdkqk5o/reRqMWa1nD9EUyWzQt2eP4RB97eUi6A/b7yHwJuyoT8f9rkPfc2iP9Pa3rUemqM/2JrEWFrRoz/fW0cLhimjP4LtN0UNx6E/r1UiU7USoD9TcAmk6nWcP9TTF6f54Zg/\",\"dtype\":\"float64\",\"shape\":[75]},\"y\":{\"__ndarray__\":\"GhExyth1ND/Sv8nbtpRIP2vylNV0PVE/aTum7souWD/At0SJ8fVgPw3Iuahxymc/MSNhhJWvcD/bTfBN02d3P2zb5nxnaoA/CD5h5MAGhz8NmeH1TyaQP+zrCsc9p5Y/LbKd76fGnz/bLW5ISEmmPww9YvTcQq8/JV2OstnstT8Er5Y7M8G+P0c+r3jqkcU/5h99k6ZBzj88bCIzFzjVP4enV8oyxN0//yH99nXg5D8qOpLLf0jtP5kqGJXUifQ/c9cS8kHP/D+/DpwzojQEQIEmwoanVwxA4lgXt9HgE0BSSZ2AJuIbQAMJih9jjiNA5q4l5INuK0AwTKYKRj0zQNv5fmq8/DpAaCJseHrtQkB/+zpwzoxKQM3MzMzMeFJAZmZmZmZqWEAAAAAAAFxeQM3MzMzMJmJAmpmZmZkfZUBmZmZmZhhoQDMzMzMzEWtAAAAAAAAKbkBmZmZmZoFwQM3MzMzM/XFAMzMzMzN6c0CamZmZmfZ0QAAAAAAAc3ZAZmZmZmbvd0DNzMzMzGt5QDMzMzMz6HpAmpmZmZlkfEAAAAAAAOF9QGZmZmZmXX9AZmZmZuZsgECamZmZGSuBQM3MzMxM6YFAAAAAAICngkAzMzMzs2WDQGZmZmbmI4RAmpmZmRnihEDNzMzMTKCFQAAAAACAXoZAMzMzM7Mch0BmZmZm5tqHQJqZmZkZmYhAzczMzExXiUAAAAAAgBWKQDMzMzOz04pAZmZmZuaRi0CamZmZGVCMQM3MzMxMDo1AAAAAAIDMjUAzMzMzs4qOQGZmZmbmSI9A\",\"dtype\":\"float64\",\"shape\":[75]}},\"selected\":{\"id\":\"4a03ccaf-2d2d-436d-90d4-5faf69b1f864\",\"type\":\"Selection\"},\"selection_policy\":{\"id\":\"d4598a21-bc20-453c-8bc1-919767db9b4f\",\"type\":\"UnionRenderers\"}},\"id\":\"fd35efb6-48ad-4dfa-9af2-0822379faf2b\",\"type\":\"ColumnDataSource\"},{\"attributes\":{\"line_alpha\":0.1,\"line_color\":\"#1f77b4\",\"line_width\":1.5,\"x\":{\"field\":\"x\"},\"y\":{\"field\":\"y\"}},\"id\":\"50a902a1-7af7-4b47-b1dd-2b1c8cdabdac\",\"type\":\"Line\"},{\"attributes\":{},\"id\":\"941a18c4-e26f-49ee-ad80-e25c06b41400\",\"type\":\"Selection\"},{\"attributes\":{\"plot\":null,\"text\":\"\"},\"id\":\"7a4c4e4c-9788-44b2-8d15-db1ef61bead6\",\"type\":\"Title\"},{\"attributes\":{\"fill_alpha\":{\"value\":0.7},\"fill_color\":{\"value\":\"#4daf4a\"},\"line_alpha\":{\"value\":0.7},\"line_color\":{\"value\":\"#4daf4a\"},\"x\":{\"field\":\"x\"},\"y\":{\"field\":\"y\"}},\"id\":\"1a695d89-414e-4ed6-b9d6-29624108224c\",\"type\":\"Circle\"},{\"attributes\":{\"label\":{\"value\":\"CLIRAD\"},\"renderers\":[{\"id\":\"5504d533-0982-4bd3-9c09-33d85b37890f\",\"type\":\"GlyphRenderer\"}]},\"id\":\"9cc786f2-7485-4e9f-b5b8-cc7b3da5ee7f\",\"type\":\"LegendItem\"},{\"attributes\":{\"line_alpha\":0.6,\"line_color\":\"#e41a1c\",\"line_dash\":[6],\"line_width\":5,\"x\":{\"field\":\"x\"},\"y\":{\"field\":\"y\"}},\"id\":\"2c74ac03-ce13-4904-906a-87033786de36\",\"type\":\"Line\"},{\"attributes\":{\"num_minor_ticks\":10},\"id\":\"9fa7c1ee-686f-430b-9dae-b3b91f10d066\",\"type\":\"LogTicker\"},{\"attributes\":{},\"id\":\"0cfc37be-c67e-4f24-9a3d-fef158011b9e\",\"type\":\"BasicTickFormatter\"},{\"attributes\":{},\"id\":\"298f4309-bfdd-43b9-8bfa-3085294cd13f\",\"type\":\"Selection\"},{\"attributes\":{\"ticker\":null},\"id\":\"dc5db00e-de57-4fb7-94d4-aa17eb4952a6\",\"type\":\"LogTickFormatter\"},{\"attributes\":{\"items\":[{\"id\":\"aed5dc72-c01c-43b6-b325-05063fd5a19a\",\"type\":\"LegendItem\"}],\"label_text_font_size\":{\"value\":\"8pt\"},\"location\":\"top_center\",\"orientation\":\"horizontal\",\"plot\":{\"id\":\"f140b76b-4f87-4d17-856f-7802a1a6cd3f\",\"subtype\":\"Figure\",\"type\":\"Plot\"}},\"id\":\"f577fbb0-9e61-43f8-8ab8-fd1a3ea85410\",\"type\":\"Legend\"},{\"attributes\":{},\"id\":\"7c2994bc-42fa-43fd-8ffd-9dd26735b984\",\"type\":\"UnionRenderers\"},{\"attributes\":{\"toolbar\":{\"id\":\"4c6d20c2-a3d6-4e9a-b1a4-dd436024717d\",\"type\":\"ProxyToolbar\"},\"toolbar_location\":\"above\"},\"id\":\"f186fa7f-98bc-4a7c-854b-4880078bf0d1\",\"type\":\"ToolbarBox\"},{\"attributes\":{\"callback\":null,\"data\":{\"x\":{\"__ndarray__\":\"V2Fta48Hqb/dNiagltqmvx7JlvnPGaK/+RJQ/16smb8j7siQF12Mv0irr63lrlq/TjJ50NrXhz+qtQWLkKiaPwLI6gWISqU/KEt6BnfhrT/gRe3rsY6zP3SanfaogLg/Lai5Ju7CvT8OQ9QSZU7BP3nTJcp7KMM/anRBXL2zxD9O/KQcxDXGP3bEvvCMrsc/ABophKMeyT8je60ZU4/KPysLDWGI3ss/Ms5bTJ54yT8ZgUYjfsnCP+C0oeEbqrg/jc16cPhWrj8hGhqlBCqhPwx3XsUKAJE/I4/oJdSBgD9loHM+Spp3PyEPGd8rxHQ/qC01B2+kcD/MmRwfbsVlP7zpv1P0g2M/l5BkVcpLaz/+RihmF61vPzxH1GtCOHA/gt9kLsDkbT+a35If1vtjP9T/Xrc0MUc/PhNXD7nBT79wyt7GbUpmvwpL6jNIAnO/EkEOJhsRfL/VA5FGv52Dvwgapd5iZIq/62CD2ZLCjb+gCCZamcCKv1hSMFuZjYW/5IVFZBfOgL8uXZsmIGh4v/0YGfqlEm6/I5MJQOcjVb8Qk+qeoMRTP5QE+F1+T28/IQ0nKL7Mej8DIApAhR6DP0+1+hBy44g/nZvvDamVjj/e+pdBCAqSP1MAUrxGopQ/p14Dl9EMlz+rr2J8jkuZP/+goqg7aJs/MQyucs5znT8kQARXpIKfP9vyv8zf06A/8lLV9yb1oT89H1lRZxSjP9myBU/k86M/96giiRwqpD+8HwPug3CjP14H1oqZ8aE/Y5w2GCcUoD/gguNnYDqcP4PcrXsXLpg/\",\"dtype\":\"float64\",\"shape\":[75]},\"y\":{\"__ndarray__\":\"GhExyth1ND/Sv8nbtpRIP2vylNV0PVE/aTum7souWD/At0SJ8fVgPw3Iuahxymc/MSNhhJWvcD/bTfBN02d3P2zb5nxnaoA/CD5h5MAGhz8NmeH1TyaQP+zrCsc9p5Y/LbKd76fGnz/bLW5ISEmmPww9YvTcQq8/JV2OstnstT8Er5Y7M8G+P0c+r3jqkcU/5h99k6ZBzj88bCIzFzjVP4enV8oyxN0//yH99nXg5D8qOpLLf0jtP5kqGJXUifQ/c9cS8kHP/D+/DpwzojQEQIEmwoanVwxA4lgXt9HgE0BSSZ2AJuIbQAMJih9jjiNA5q4l5INuK0AwTKYKRj0zQNv5fmq8/DpAaCJseHrtQkB/+zpwzoxKQM3MzMzMeFJAZmZmZmZqWEAAAAAAAFxeQM3MzMzMJmJAmpmZmZkfZUBmZmZmZhhoQDMzMzMzEWtAAAAAAAAKbkBmZmZmZoFwQM3MzMzM/XFAMzMzMzN6c0CamZmZmfZ0QAAAAAAAc3ZAZmZmZmbvd0DNzMzMzGt5QDMzMzMz6HpAmpmZmZlkfEAAAAAAAOF9QGZmZmZmXX9AZmZmZuZsgECamZmZGSuBQM3MzMxM6YFAAAAAAICngkAzMzMzs2WDQGZmZmbmI4RAmpmZmRnihEDNzMzMTKCFQAAAAACAXoZAMzMzM7Mch0BmZmZm5tqHQJqZmZkZmYhAzczMzExXiUAAAAAAgBWKQDMzMzOz04pAZmZmZuaRi0CamZmZGVCMQM3MzMxMDo1AAAAAAIDMjUAzMzMzs4qOQGZmZmbmSI9A\",\"dtype\":\"float64\",\"shape\":[75]}},\"selected\":{\"id\":\"dce3ce0a-f116-4cc5-873e-bc302f114687\",\"type\":\"Selection\"},\"selection_policy\":{\"id\":\"97eeea2a-7f2a-47f2-b47d-53e30d02d233\",\"type\":\"UnionRenderers\"}},\"id\":\"4a35012c-8e14-4bb8-b37b-4d3609de89eb\",\"type\":\"ColumnDataSource\"},{\"attributes\":{},\"id\":\"37e6623f-04d7-4087-8383-0aa095e92cec\",\"type\":\"BasicTicker\"},{\"attributes\":{},\"id\":\"d0cf901f-8a1e-4b3e-96ff-20e32c4c9d7d\",\"type\":\"Selection\"},{\"attributes\":{\"tools\":[{\"id\":\"aea41c28-70e0-408a-bb82-689ebee14c98\",\"type\":\"PanTool\"},{\"id\":\"a73d477d-d987-4b17-9e9c-5178b2e4bd9b\",\"type\":\"WheelZoomTool\"},{\"id\":\"c6049fae-e6a5-42e8-b117-322272143a62\",\"type\":\"BoxZoomTool\"},{\"id\":\"54cf7513-933e-46df-8ae7-91ff03b4200d\",\"type\":\"SaveTool\"},{\"id\":\"f69e65f4-9356-4f24-bbd0-f8e0d11fb92f\",\"type\":\"ResetTool\"},{\"id\":\"4f5186eb-0a39-4e42-afc0-e517304d232b\",\"type\":\"HelpTool\"},{\"id\":\"c7c97a14-f0dc-42d4-8e11-7eb28992229e\",\"type\":\"PanTool\"},{\"id\":\"b0da1969-c6e2-431f-967b-56ddf592505a\",\"type\":\"WheelZoomTool\"},{\"id\":\"3cc66e0f-1717-4b56-adc9-96e3a6ab567c\",\"type\":\"BoxZoomTool\"},{\"id\":\"034b4d95-6361-41f7-98c4-5526c54b8fdb\",\"type\":\"SaveTool\"},{\"id\":\"62138b65-f3e8-407b-b192-621fabc7a0b2\",\"type\":\"ResetTool\"},{\"id\":\"3297bc7c-230e-4c9f-978e-6c322b217f76\",\"type\":\"HelpTool\"},{\"id\":\"2d2bb244-8338-40de-8f6b-44400e132096\",\"type\":\"PanTool\"},{\"id\":\"9a0a1e4f-e91a-44e8-a786-12e2341c7d69\",\"type\":\"WheelZoomTool\"},{\"id\":\"30728c96-4cc1-4b33-beaa-f45676a93e5e\",\"type\":\"BoxZoomTool\"},{\"id\":\"ba36e984-08a0-4258-88af-6068c9f901ba\",\"type\":\"SaveTool\"},{\"id\":\"358983f1-caab-4ae6-a382-ade999671979\",\"type\":\"ResetTool\"},{\"id\":\"a5b83dee-0c4f-4fec-9168-1a8a976c7654\",\"type\":\"HelpTool\"}]},\"id\":\"4c6d20c2-a3d6-4e9a-b1a4-dd436024717d\",\"type\":\"ProxyToolbar\"},{\"attributes\":{\"above\":[{\"id\":\"212c384a-1468-483e-adb0-c71f1e72dac6\",\"type\":\"Legend\"}],\"below\":[{\"id\":\"2bbec4bd-6b3e-478b-a748-06bdaa726f83\",\"type\":\"LinearAxis\"}],\"left\":[{\"id\":\"a438c889-1832-4fe0-b3f8-0ef58cdea531\",\"type\":\"LogAxis\"}],\"plot_width\":300,\"renderers\":[{\"id\":\"2bbec4bd-6b3e-478b-a748-06bdaa726f83\",\"type\":\"LinearAxis\"},{\"id\":\"2286a8d8-0c05-48dd-8675-02a66d0e2bb1\",\"type\":\"Grid\"},{\"id\":\"a438c889-1832-4fe0-b3f8-0ef58cdea531\",\"type\":\"LogAxis\"},{\"id\":\"3c88b6fd-a721-4335-870c-f0d8480aaae1\",\"type\":\"Grid\"},{\"id\":\"1b66d553-e9ea-462f-9699-2d3d3d9dd75e\",\"type\":\"BoxAnnotation\"},{\"id\":\"5504d533-0982-4bd3-9c09-33d85b37890f\",\"type\":\"GlyphRenderer\"},{\"id\":\"4c92aa76-e819-4772-be9b-4c1fa05784ed\",\"type\":\"GlyphRenderer\"},{\"id\":\"45b8e2e1-0159-45d5-b20d-b19d347d60dc\",\"type\":\"GlyphRenderer\"},{\"id\":\"212c384a-1468-483e-adb0-c71f1e72dac6\",\"type\":\"Legend\"}],\"title\":{\"id\":\"7a4c4e4c-9788-44b2-8d15-db1ef61bead6\",\"type\":\"Title\"},\"toolbar\":{\"id\":\"9dd8cecc-62e0-4269-a950-c49abbea6581\",\"type\":\"Toolbar\"},\"toolbar_location\":null,\"x_range\":{\"id\":\"6964ac29-3308-429f-8f95-e5e78cb287bd\",\"type\":\"Range1d\"},\"x_scale\":{\"id\":\"d0b42dcc-9b10-4e67-8960-3942fc27d825\",\"type\":\"LinearScale\"},\"y_range\":{\"id\":\"b309ae01-e529-4a6f-ab9e-f2c964adb55f\",\"type\":\"Range1d\"},\"y_scale\":{\"id\":\"cf2cc82f-3fee-4ab0-b249-9f09ad2cdcb0\",\"type\":\"LogScale\"}},\"id\":\"306e235a-b902-49e3-a322-f07acf327675\",\"subtype\":\"Figure\",\"type\":\"Plot\"},{\"attributes\":{\"plot\":{\"id\":\"f140b76b-4f87-4d17-856f-7802a1a6cd3f\",\"subtype\":\"Figure\",\"type\":\"Plot\"},\"ticker\":{\"id\":\"37e6623f-04d7-4087-8383-0aa095e92cec\",\"type\":\"BasicTicker\"}},\"id\":\"9838c7ce-36d8-4769-8fb3-1314ba8c6011\",\"type\":\"Grid\"},{\"attributes\":{\"children\":[{\"id\":\"f186fa7f-98bc-4a7c-854b-4880078bf0d1\",\"type\":\"ToolbarBox\"},{\"id\":\"62a9aad0-ec14-4f50-9a48-dc2df8010e9a\",\"type\":\"Column\"}]},\"id\":\"dda52f01-b11d-4b8d-8a23-23c220e15b39\",\"type\":\"Column\"},{\"attributes\":{\"num_minor_ticks\":10},\"id\":\"c35c502f-7539-42e9-b7a8-9b7614575b39\",\"type\":\"LogTicker\"},{\"attributes\":{\"label\":{\"value\":\"CLIRAD\"},\"renderers\":[{\"id\":\"6b141b65-6575-4c69-92de-c28efae9c99a\",\"type\":\"GlyphRenderer\"}]},\"id\":\"05f2dad0-ea6c-4fb3-8d80-97cf56d1fdab\",\"type\":\"LegendItem\"},{\"attributes\":{},\"id\":\"b22305c2-071a-48bd-b202-9348c68ed046\",\"type\":\"UnionRenderers\"},{\"attributes\":{\"items\":[{\"id\":\"9cc786f2-7485-4e9f-b5b8-cc7b3da5ee7f\",\"type\":\"LegendItem\"},{\"id\":\"9331bd2e-ea33-475a-abcf-5d4a0b94681c\",\"type\":\"LegendItem\"}],\"label_text_font_size\":{\"value\":\"8pt\"},\"location\":\"top_center\",\"orientation\":\"horizontal\",\"plot\":{\"id\":\"306e235a-b902-49e3-a322-f07acf327675\",\"subtype\":\"Figure\",\"type\":\"Plot\"}},\"id\":\"212c384a-1468-483e-adb0-c71f1e72dac6\",\"type\":\"Legend\"}],\"root_ids\":[\"dda52f01-b11d-4b8d-8a23-23c220e15b39\"]},\"title\":\"Bokeh Application\",\"version\":\"0.12.16\"}};\n",
       "  var render_items = [{\"docid\":\"d32466a5-404c-4ee2-bca5-e3309d804bae\",\"elementid\":\"0b711a0d-ad5f-4753-b92e-e1c613a62b1b\",\"modelid\":\"dda52f01-b11d-4b8d-8a23-23c220e15b39\"}];\n",
       "  root.Bokeh.embed.embed_items_notebook(docs_json, render_items);\n",
       "\n",
       "  }\n",
       "  if (root.Bokeh !== undefined) {\n",
       "    embed_document(root);\n",
       "  } else {\n",
       "    var attempts = 0;\n",
       "    var timer = setInterval(function(root) {\n",
       "      if (root.Bokeh !== undefined) {\n",
       "        embed_document(root);\n",
       "        clearInterval(timer);\n",
       "      }\n",
       "      attempts++;\n",
       "      if (attempts > 100) {\n",
       "        console.log(\"Bokeh: ERROR: Unable to run BokehJS code because BokehJS library is missing\")\n",
       "        clearInterval(timer);\n",
       "      }\n",
       "    }, 10, root)\n",
       "  }\n",
       "})(window);"
      ],
      "application/vnd.bokehjs_exec.v0+json": ""
     },
     "metadata": {
      "application/vnd.bokehjs_exec.v0+json": {
       "id": "dda52f01-b11d-4b8d-8a23-23c220e15b39"
      }
     },
     "output_type": "display_data"
    },
    {
     "data": {
      "text/markdown": [
       "*FIGURE.* Cooling rates & difference."
      ],
      "text/plain": [
       "<IPython.core.display.Markdown object>"
      ]
     },
     "metadata": {},
     "output_type": "display_data"
    },
    {
     "data": {
      "text/html": [
       "<a id=\"Fluxes._saw.\"></a>"
      ],
      "text/plain": [
       "<IPython.core.display.HTML object>"
      ]
     },
     "metadata": {},
     "output_type": "display_data"
    },
    {
     "data": {
      "text/markdown": [
       "# Fluxes. saw."
      ],
      "text/plain": [
       "<IPython.core.display.Markdown object>"
      ]
     },
     "metadata": {},
     "output_type": "display_data"
    },
    {
     "data": {
      "text/html": [
       "\n",
       "<div class=\"bk-root\">\n",
       "    <div class=\"bk-plotdiv\" id=\"e1979654-0720-4380-a2a3-d76ba4851c1e\"></div>\n",
       "</div>"
      ]
     },
     "metadata": {},
     "output_type": "display_data"
    },
    {
     "data": {
      "application/javascript": [
       "(function(root) {\n",
       "  function embed_document(root) {\n",
       "    \n",
       "  var docs_json = {\"d104c07b-c064-47a5-b83b-01581576358b\":{\"roots\":{\"references\":[{\"attributes\":{\"children\":[{\"id\":\"095133a4-4c68-432f-96b7-826d88b936bd\",\"type\":\"ToolbarBox\"},{\"id\":\"af364c44-0085-432f-a941-07643e6fed6d\",\"type\":\"Column\"}]},\"id\":\"2556d6e6-5fd4-43d4-8ffd-f4ffa2b28e4b\",\"type\":\"Column\"},{\"attributes\":{\"axis_label\":\"flux (W m-2)\",\"formatter\":{\"id\":\"dbe7bec3-aa9c-4992-9e30-9b55015ac64d\",\"type\":\"BasicTickFormatter\"},\"plot\":{\"id\":\"3dea400c-2783-4b57-b382-39b20332a8ee\",\"subtype\":\"Figure\",\"type\":\"Plot\"},\"ticker\":{\"id\":\"b215026e-fc5f-42a7-828f-e0ab8fc866c3\",\"type\":\"BasicTicker\"}},\"id\":\"40bb4c5d-54f6-4018-bc75-7549ec1a5b4f\",\"type\":\"LinearAxis\"},{\"attributes\":{\"plot\":{\"id\":\"3dea400c-2783-4b57-b382-39b20332a8ee\",\"subtype\":\"Figure\",\"type\":\"Plot\"},\"ticker\":{\"id\":\"572e3b98-27d1-479e-88a7-91282215506a\",\"type\":\"CategoricalTicker\"}},\"id\":\"12f375b6-32c3-4587-b4d4-e4d16a2619e6\",\"type\":\"Grid\"},{\"attributes\":{\"bottom_units\":\"screen\",\"fill_alpha\":{\"value\":0.5},\"fill_color\":{\"value\":\"lightgrey\"},\"left_units\":\"screen\",\"level\":\"overlay\",\"line_alpha\":{\"value\":1.0},\"line_color\":{\"value\":\"black\"},\"line_dash\":[4,4],\"line_width\":{\"value\":2},\"plot\":null,\"render_mode\":\"css\",\"right_units\":\"screen\",\"top_units\":\"screen\"},\"id\":\"720ab3b4-1124-43ee-b2e9-d5faacdeff84\",\"type\":\"BoxAnnotation\"},{\"attributes\":{\"callback\":null,\"data\":{\"band\":[\"9\"],\"flux\":{\"__ndarray__\":\"QC7oGOt2sT8=\",\"dtype\":\"float64\",\"shape\":[1]}},\"selected\":{\"id\":\"2d6f7c39-38af-4891-824a-73b8c2c06291\",\"type\":\"Selection\"},\"selection_policy\":{\"id\":\"61d5f20c-5ea3-4dd6-97d9-50ad1d23791a\",\"type\":\"UnionRenderers\"}},\"id\":\"30e6196c-e8bc-401d-8c3a-f34962d68c7b\",\"type\":\"ColumnDataSource\"},{\"attributes\":{\"toolbar\":{\"id\":\"fa246d51-53b1-41a5-a28b-32318a3d5118\",\"type\":\"ProxyToolbar\"},\"toolbar_location\":\"above\"},\"id\":\"095133a4-4c68-432f-96b7-826d88b936bd\",\"type\":\"ToolbarBox\"},{\"attributes\":{\"dimension\":1,\"plot\":{\"id\":\"3dea400c-2783-4b57-b382-39b20332a8ee\",\"subtype\":\"Figure\",\"type\":\"Plot\"},\"ticker\":{\"id\":\"b215026e-fc5f-42a7-828f-e0ab8fc866c3\",\"type\":\"BasicTicker\"}},\"id\":\"cf1b8bc3-9b8a-4889-ab4a-522c7389442f\",\"type\":\"Grid\"},{\"attributes\":{\"callback\":null},\"id\":\"31d181e6-ccbb-46b1-89a1-c9c41e2758e1\",\"type\":\"DataRange1d\"},{\"attributes\":{},\"id\":\"d0ee603d-c39e-4862-99ea-45f0baaded30\",\"type\":\"UnionRenderers\"},{\"attributes\":{\"callback\":null},\"id\":\"bb782b2d-c1c0-492b-a5f6-3c6fc11317cf\",\"type\":\"DataRange1d\"},{\"attributes\":{},\"id\":\"27f7d44a-69a8-49bf-b200-75b4c49a4d11\",\"type\":\"CategoricalTickFormatter\"},{\"attributes\":{\"active_drag\":\"auto\",\"active_inspect\":\"auto\",\"active_scroll\":\"auto\",\"active_tap\":\"auto\",\"tools\":[{\"id\":\"d933da2c-76d4-4b31-b986-d6ae2535487f\",\"type\":\"PanTool\"},{\"id\":\"0e0b2f24-7ae2-440a-b3f9-0f19e1b0891a\",\"type\":\"WheelZoomTool\"},{\"id\":\"7a492876-9c8c-4542-9e7a-29a201e74bd6\",\"type\":\"BoxZoomTool\"},{\"id\":\"61eef4e2-e02e-4d16-8b20-4d5b7548204a\",\"type\":\"SaveTool\"},{\"id\":\"a3bf93bf-e5d4-4e4b-97f7-157c39c565ae\",\"type\":\"ResetTool\"},{\"id\":\"871129c0-e6b8-4680-a118-cac97d8ad5d8\",\"type\":\"HelpTool\"}]},\"id\":\"caaa26df-1e15-4d69-b0a3-6ac0f0146fe3\",\"type\":\"Toolbar\"},{\"attributes\":{\"callback\":null,\"factors\":[\"9\"]},\"id\":\"f75f9699-ab29-46cd-8704-da4073f05e55\",\"type\":\"FactorRange\"},{\"attributes\":{\"plot\":null,\"text\":\"TOA flux. CLIRAD - CRD.\"},\"id\":\"1287e92f-1c8b-4dbf-968c-7f170d41e3ac\",\"type\":\"Title\"},{\"attributes\":{\"children\":[{\"id\":\"c40eaff5-dacb-40b4-a897-0fcfd80100ae\",\"type\":\"Row\"}]},\"id\":\"af364c44-0085-432f-a941-07643e6fed6d\",\"type\":\"Column\"},{\"attributes\":{\"below\":[{\"id\":\"bca53b09-61ae-4140-b789-f3f3b6216bcf\",\"type\":\"CategoricalAxis\"}],\"left\":[{\"id\":\"12f1f823-3c8a-4e2a-a91f-4d72840f9dd5\",\"type\":\"LinearAxis\"}],\"plot_height\":300,\"plot_width\":300,\"renderers\":[{\"id\":\"bca53b09-61ae-4140-b789-f3f3b6216bcf\",\"type\":\"CategoricalAxis\"},{\"id\":\"9843dca7-b548-49aa-a3d2-b0aa6f599a74\",\"type\":\"Grid\"},{\"id\":\"12f1f823-3c8a-4e2a-a91f-4d72840f9dd5\",\"type\":\"LinearAxis\"},{\"id\":\"acd47549-b46a-4190-a683-c8c507727502\",\"type\":\"Grid\"},{\"id\":\"588852bd-a279-403c-8166-83654032fd6a\",\"type\":\"BoxAnnotation\"},{\"id\":\"5941dfc5-634c-4d21-a1bf-2e34de61c877\",\"type\":\"GlyphRenderer\"}],\"title\":{\"id\":\"1287e92f-1c8b-4dbf-968c-7f170d41e3ac\",\"type\":\"Title\"},\"toolbar\":{\"id\":\"caaa26df-1e15-4d69-b0a3-6ac0f0146fe3\",\"type\":\"Toolbar\"},\"toolbar_location\":null,\"x_range\":{\"id\":\"f75f9699-ab29-46cd-8704-da4073f05e55\",\"type\":\"FactorRange\"},\"x_scale\":{\"id\":\"0befc615-4261-4016-9cb4-e3c6a4ef66ac\",\"type\":\"CategoricalScale\"},\"y_range\":{\"id\":\"31d181e6-ccbb-46b1-89a1-c9c41e2758e1\",\"type\":\"DataRange1d\"},\"y_scale\":{\"id\":\"acec4916-af54-4d3e-8940-9124962933fb\",\"type\":\"LinearScale\"}},\"id\":\"b46fb8d1-b3a8-4029-b89e-e12ea2ebed16\",\"subtype\":\"Figure\",\"type\":\"Plot\"},{\"attributes\":{},\"id\":\"0befc615-4261-4016-9cb4-e3c6a4ef66ac\",\"type\":\"CategoricalScale\"},{\"attributes\":{\"axis_label\":\"flux (W m-2)\",\"formatter\":{\"id\":\"92e939ae-2e44-4477-b280-ab61c3e02a1f\",\"type\":\"BasicTickFormatter\"},\"plot\":{\"id\":\"b46fb8d1-b3a8-4029-b89e-e12ea2ebed16\",\"subtype\":\"Figure\",\"type\":\"Plot\"},\"ticker\":{\"id\":\"a1d5100f-fb5a-4011-83b3-9da1f574ddc3\",\"type\":\"BasicTicker\"}},\"id\":\"12f1f823-3c8a-4e2a-a91f-4d72840f9dd5\",\"type\":\"LinearAxis\"},{\"attributes\":{\"active_drag\":\"auto\",\"active_inspect\":\"auto\",\"active_scroll\":\"auto\",\"active_tap\":\"auto\",\"tools\":[{\"id\":\"8ba715e0-f121-427a-9db4-f9a2feeea06e\",\"type\":\"PanTool\"},{\"id\":\"0bcef979-514d-4251-9519-6dce44f75a12\",\"type\":\"WheelZoomTool\"},{\"id\":\"f04548c7-ae02-418f-b23d-b03fe93bc49a\",\"type\":\"BoxZoomTool\"},{\"id\":\"dd3f4351-a042-452d-bfd5-81b4de8bebeb\",\"type\":\"SaveTool\"},{\"id\":\"4a26adef-2cef-4305-9ee6-c9e9482d842e\",\"type\":\"ResetTool\"},{\"id\":\"44f72c40-42cf-4fdc-a935-ca443daf7e0b\",\"type\":\"HelpTool\"}]},\"id\":\"1cffb6be-e027-4577-aaa5-8c7acdeca348\",\"type\":\"Toolbar\"},{\"attributes\":{},\"id\":\"4bbbc56f-20d4-4d4d-9f65-366af52528f0\",\"type\":\"LinearScale\"},{\"attributes\":{},\"id\":\"a95dfc7f-c4f1-49af-ac25-28484044283a\",\"type\":\"UnionRenderers\"},{\"attributes\":{\"tools\":[{\"id\":\"d933da2c-76d4-4b31-b986-d6ae2535487f\",\"type\":\"PanTool\"},{\"id\":\"0e0b2f24-7ae2-440a-b3f9-0f19e1b0891a\",\"type\":\"WheelZoomTool\"},{\"id\":\"7a492876-9c8c-4542-9e7a-29a201e74bd6\",\"type\":\"BoxZoomTool\"},{\"id\":\"61eef4e2-e02e-4d16-8b20-4d5b7548204a\",\"type\":\"SaveTool\"},{\"id\":\"a3bf93bf-e5d4-4e4b-97f7-157c39c565ae\",\"type\":\"ResetTool\"},{\"id\":\"871129c0-e6b8-4680-a118-cac97d8ad5d8\",\"type\":\"HelpTool\"},{\"id\":\"8ba715e0-f121-427a-9db4-f9a2feeea06e\",\"type\":\"PanTool\"},{\"id\":\"0bcef979-514d-4251-9519-6dce44f75a12\",\"type\":\"WheelZoomTool\"},{\"id\":\"f04548c7-ae02-418f-b23d-b03fe93bc49a\",\"type\":\"BoxZoomTool\"},{\"id\":\"dd3f4351-a042-452d-bfd5-81b4de8bebeb\",\"type\":\"SaveTool\"},{\"id\":\"4a26adef-2cef-4305-9ee6-c9e9482d842e\",\"type\":\"ResetTool\"},{\"id\":\"44f72c40-42cf-4fdc-a935-ca443daf7e0b\",\"type\":\"HelpTool\"},{\"id\":\"d30ce0c3-4feb-43c1-bbd8-06c98cc529d1\",\"type\":\"PanTool\"},{\"id\":\"accf8f90-03a4-41a0-acc9-830f428585d6\",\"type\":\"WheelZoomTool\"},{\"id\":\"f51e19aa-f152-4a8b-8a6f-404da4c42ae9\",\"type\":\"BoxZoomTool\"},{\"id\":\"d3878d0f-063c-4cee-a033-ba6c1beb91fd\",\"type\":\"SaveTool\"},{\"id\":\"e42bfb5f-0ab1-441d-ba86-7b7af8652b2f\",\"type\":\"ResetTool\"},{\"id\":\"4d823f3e-f41e-4915-bf78-d48ae5131261\",\"type\":\"HelpTool\"}]},\"id\":\"fa246d51-53b1-41a5-a28b-32318a3d5118\",\"type\":\"ProxyToolbar\"},{\"attributes\":{},\"id\":\"acec4916-af54-4d3e-8940-9124962933fb\",\"type\":\"LinearScale\"},{\"attributes\":{},\"id\":\"92e939ae-2e44-4477-b280-ab61c3e02a1f\",\"type\":\"BasicTickFormatter\"},{\"attributes\":{\"plot\":{\"id\":\"b46fb8d1-b3a8-4029-b89e-e12ea2ebed16\",\"subtype\":\"Figure\",\"type\":\"Plot\"},\"ticker\":{\"id\":\"7d881360-ae42-4d2b-a43c-d92fd2196474\",\"type\":\"CategoricalTicker\"}},\"id\":\"9843dca7-b548-49aa-a3d2-b0aa6f599a74\",\"type\":\"Grid\"},{\"attributes\":{},\"id\":\"d816bac9-0925-4d51-bed7-c88166b0d7ea\",\"type\":\"BasicTickFormatter\"},{\"attributes\":{\"axis_label\":\"spectral band\",\"formatter\":{\"id\":\"27f7d44a-69a8-49bf-b200-75b4c49a4d11\",\"type\":\"CategoricalTickFormatter\"},\"plot\":{\"id\":\"b46fb8d1-b3a8-4029-b89e-e12ea2ebed16\",\"subtype\":\"Figure\",\"type\":\"Plot\"},\"ticker\":{\"id\":\"7d881360-ae42-4d2b-a43c-d92fd2196474\",\"type\":\"CategoricalTicker\"}},\"id\":\"bca53b09-61ae-4140-b789-f3f3b6216bcf\",\"type\":\"CategoricalAxis\"},{\"attributes\":{\"plot\":null,\"text\":\"SFC flux. CLIRAD - CRD.\"},\"id\":\"d718e817-a0ea-4460-82f1-b9a065075af9\",\"type\":\"Title\"},{\"attributes\":{},\"id\":\"7d881360-ae42-4d2b-a43c-d92fd2196474\",\"type\":\"CategoricalTicker\"},{\"attributes\":{\"fill_color\":{\"value\":\"#1f77b4\"},\"line_color\":{\"value\":\"#1f77b4\"},\"top\":{\"field\":\"flux\"},\"width\":{\"value\":0.9},\"x\":{\"field\":\"band\"}},\"id\":\"7671e47f-37ca-4bc6-b2f3-b92cf341df37\",\"type\":\"VBar\"},{\"attributes\":{},\"id\":\"95ececc6-e813-4520-9939-ef5bd49566ea\",\"type\":\"CategoricalTickFormatter\"},{\"attributes\":{\"children\":[{\"id\":\"b46fb8d1-b3a8-4029-b89e-e12ea2ebed16\",\"subtype\":\"Figure\",\"type\":\"Plot\"},{\"id\":\"3dea400c-2783-4b57-b382-39b20332a8ee\",\"subtype\":\"Figure\",\"type\":\"Plot\"},{\"id\":\"181cb871-c9b9-4455-a7ec-41a7b4cb4b95\",\"subtype\":\"Figure\",\"type\":\"Plot\"}]},\"id\":\"c40eaff5-dacb-40b4-a897-0fcfd80100ae\",\"type\":\"Row\"},{\"attributes\":{\"below\":[{\"id\":\"61121436-9341-455e-8a27-52520ba3b6c0\",\"type\":\"CategoricalAxis\"}],\"left\":[{\"id\":\"63c08459-0dd8-44cc-9918-697fb9403035\",\"type\":\"LinearAxis\"}],\"plot_height\":300,\"plot_width\":300,\"renderers\":[{\"id\":\"61121436-9341-455e-8a27-52520ba3b6c0\",\"type\":\"CategoricalAxis\"},{\"id\":\"ced33f96-08c8-46b8-91d6-d3a5086cac55\",\"type\":\"Grid\"},{\"id\":\"63c08459-0dd8-44cc-9918-697fb9403035\",\"type\":\"LinearAxis\"},{\"id\":\"722d770c-3482-44a7-a966-e464ce87b353\",\"type\":\"Grid\"},{\"id\":\"720ab3b4-1124-43ee-b2e9-d5faacdeff84\",\"type\":\"BoxAnnotation\"},{\"id\":\"de115099-472c-45cf-b6a8-ef9bd4e528fd\",\"type\":\"GlyphRenderer\"}],\"title\":{\"id\":\"bea13cd2-18e7-4146-aa9d-7bf9c07bdbca\",\"type\":\"Title\"},\"toolbar\":{\"id\":\"ed1942e8-0fa4-4acd-9cb6-5bffca6bb63a\",\"type\":\"Toolbar\"},\"toolbar_location\":null,\"x_range\":{\"id\":\"e495a799-c650-4dde-8387-c93b16d445e6\",\"type\":\"FactorRange\"},\"x_scale\":{\"id\":\"82a067d1-14ac-4e2d-9a2c-e5a70b4bfb7a\",\"type\":\"CategoricalScale\"},\"y_range\":{\"id\":\"49a7130c-50ae-49cc-8704-0c1b86fbe9f8\",\"type\":\"DataRange1d\"},\"y_scale\":{\"id\":\"4ab10339-4dc2-4e2e-9689-17a7b804eeae\",\"type\":\"LinearScale\"}},\"id\":\"181cb871-c9b9-4455-a7ec-41a7b4cb4b95\",\"subtype\":\"Figure\",\"type\":\"Plot\"},{\"attributes\":{},\"id\":\"a1d5100f-fb5a-4011-83b3-9da1f574ddc3\",\"type\":\"BasicTicker\"},{\"attributes\":{\"callback\":null,\"factors\":[\"9\"]},\"id\":\"27a8dd84-35b6-4c36-a705-395ad2b25eed\",\"type\":\"FactorRange\"},{\"attributes\":{\"dimension\":1,\"plot\":{\"id\":\"b46fb8d1-b3a8-4029-b89e-e12ea2ebed16\",\"subtype\":\"Figure\",\"type\":\"Plot\"},\"ticker\":{\"id\":\"a1d5100f-fb5a-4011-83b3-9da1f574ddc3\",\"type\":\"BasicTicker\"}},\"id\":\"acd47549-b46a-4190-a683-c8c507727502\",\"type\":\"Grid\"},{\"attributes\":{\"fill_alpha\":{\"value\":0.1},\"fill_color\":{\"value\":\"#1f77b4\"},\"line_alpha\":{\"value\":0.1},\"line_color\":{\"value\":\"#1f77b4\"},\"top\":{\"field\":\"flux\"},\"width\":{\"value\":0.9},\"x\":{\"field\":\"band\"}},\"id\":\"b1f65d87-fbe5-47b7-af61-7de57dbf21a3\",\"type\":\"VBar\"},{\"attributes\":{\"below\":[{\"id\":\"3b1caa4b-2b74-49ce-9b93-ee8ce15858f9\",\"type\":\"CategoricalAxis\"}],\"left\":[{\"id\":\"40bb4c5d-54f6-4018-bc75-7549ec1a5b4f\",\"type\":\"LinearAxis\"}],\"plot_height\":300,\"plot_width\":300,\"renderers\":[{\"id\":\"3b1caa4b-2b74-49ce-9b93-ee8ce15858f9\",\"type\":\"CategoricalAxis\"},{\"id\":\"12f375b6-32c3-4587-b4d4-e4d16a2619e6\",\"type\":\"Grid\"},{\"id\":\"40bb4c5d-54f6-4018-bc75-7549ec1a5b4f\",\"type\":\"LinearAxis\"},{\"id\":\"cf1b8bc3-9b8a-4889-ab4a-522c7389442f\",\"type\":\"Grid\"},{\"id\":\"07317319-4307-462c-b924-012bde2d1ad5\",\"type\":\"BoxAnnotation\"},{\"id\":\"3bb33979-6cfc-4d0b-bc0c-d8f8d68b1fb7\",\"type\":\"GlyphRenderer\"}],\"title\":{\"id\":\"d718e817-a0ea-4460-82f1-b9a065075af9\",\"type\":\"Title\"},\"toolbar\":{\"id\":\"1cffb6be-e027-4577-aaa5-8c7acdeca348\",\"type\":\"Toolbar\"},\"toolbar_location\":null,\"x_range\":{\"id\":\"27a8dd84-35b6-4c36-a705-395ad2b25eed\",\"type\":\"FactorRange\"},\"x_scale\":{\"id\":\"39c718fd-ca8a-476d-8ba0-8bea8aefc2fb\",\"type\":\"CategoricalScale\"},\"y_range\":{\"id\":\"bb782b2d-c1c0-492b-a5f6-3c6fc11317cf\",\"type\":\"DataRange1d\"},\"y_scale\":{\"id\":\"4bbbc56f-20d4-4d4d-9f65-366af52528f0\",\"type\":\"LinearScale\"}},\"id\":\"3dea400c-2783-4b57-b382-39b20332a8ee\",\"subtype\":\"Figure\",\"type\":\"Plot\"},{\"attributes\":{},\"id\":\"dbe7bec3-aa9c-4992-9e30-9b55015ac64d\",\"type\":\"BasicTickFormatter\"},{\"attributes\":{\"bottom_units\":\"screen\",\"fill_alpha\":{\"value\":0.5},\"fill_color\":{\"value\":\"lightgrey\"},\"left_units\":\"screen\",\"level\":\"overlay\",\"line_alpha\":{\"value\":1.0},\"line_color\":{\"value\":\"black\"},\"line_dash\":[4,4],\"line_width\":{\"value\":2},\"plot\":null,\"render_mode\":\"css\",\"right_units\":\"screen\",\"top_units\":\"screen\"},\"id\":\"588852bd-a279-403c-8166-83654032fd6a\",\"type\":\"BoxAnnotation\"},{\"attributes\":{},\"id\":\"d933da2c-76d4-4b31-b986-d6ae2535487f\",\"type\":\"PanTool\"},{\"attributes\":{\"data_source\":{\"id\":\"df4b82cd-6c2d-4eae-a83f-036c0026e132\",\"type\":\"ColumnDataSource\"},\"glyph\":{\"id\":\"7671e47f-37ca-4bc6-b2f3-b92cf341df37\",\"type\":\"VBar\"},\"hover_glyph\":null,\"muted_glyph\":null,\"nonselection_glyph\":{\"id\":\"b1f65d87-fbe5-47b7-af61-7de57dbf21a3\",\"type\":\"VBar\"},\"selection_glyph\":null,\"view\":{\"id\":\"1961c64e-e06d-4365-b41f-4e8f050d1f3d\",\"type\":\"CDSView\"}},\"id\":\"5941dfc5-634c-4d21-a1bf-2e34de61c877\",\"type\":\"GlyphRenderer\"},{\"attributes\":{},\"id\":\"0e0b2f24-7ae2-440a-b3f9-0f19e1b0891a\",\"type\":\"WheelZoomTool\"},{\"attributes\":{\"overlay\":{\"id\":\"588852bd-a279-403c-8166-83654032fd6a\",\"type\":\"BoxAnnotation\"}},\"id\":\"7a492876-9c8c-4542-9e7a-29a201e74bd6\",\"type\":\"BoxZoomTool\"},{\"attributes\":{\"axis_label\":\"flux (W m-2)\",\"formatter\":{\"id\":\"d816bac9-0925-4d51-bed7-c88166b0d7ea\",\"type\":\"BasicTickFormatter\"},\"plot\":{\"id\":\"181cb871-c9b9-4455-a7ec-41a7b4cb4b95\",\"subtype\":\"Figure\",\"type\":\"Plot\"},\"ticker\":{\"id\":\"701029f4-4837-4618-a594-d9235632fea9\",\"type\":\"BasicTicker\"}},\"id\":\"63c08459-0dd8-44cc-9918-697fb9403035\",\"type\":\"LinearAxis\"},{\"attributes\":{},\"id\":\"61eef4e2-e02e-4d16-8b20-4d5b7548204a\",\"type\":\"SaveTool\"},{\"attributes\":{},\"id\":\"a3bf93bf-e5d4-4e4b-97f7-157c39c565ae\",\"type\":\"ResetTool\"},{\"attributes\":{},\"id\":\"39c718fd-ca8a-476d-8ba0-8bea8aefc2fb\",\"type\":\"CategoricalScale\"},{\"attributes\":{},\"id\":\"871129c0-e6b8-4680-a118-cac97d8ad5d8\",\"type\":\"HelpTool\"},{\"attributes\":{},\"id\":\"2d6f7c39-38af-4891-824a-73b8c2c06291\",\"type\":\"Selection\"},{\"attributes\":{},\"id\":\"572e3b98-27d1-479e-88a7-91282215506a\",\"type\":\"CategoricalTicker\"},{\"attributes\":{},\"id\":\"522a08c4-8dfa-470e-902e-8d2e7fa24dfd\",\"type\":\"CategoricalTickFormatter\"},{\"attributes\":{},\"id\":\"61d5f20c-5ea3-4dd6-97d9-50ad1d23791a\",\"type\":\"UnionRenderers\"},{\"attributes\":{\"source\":{\"id\":\"df4b82cd-6c2d-4eae-a83f-036c0026e132\",\"type\":\"ColumnDataSource\"}},\"id\":\"1961c64e-e06d-4365-b41f-4e8f050d1f3d\",\"type\":\"CDSView\"},{\"attributes\":{\"fill_color\":{\"value\":\"#1f77b4\"},\"line_color\":{\"value\":\"#1f77b4\"},\"top\":{\"field\":\"flux\"},\"width\":{\"value\":0.9},\"x\":{\"field\":\"band\"}},\"id\":\"9d838add-3659-4fe4-8fa9-43212161abe1\",\"type\":\"VBar\"},{\"attributes\":{\"fill_alpha\":{\"value\":0.1},\"fill_color\":{\"value\":\"#1f77b4\"},\"line_alpha\":{\"value\":0.1},\"line_color\":{\"value\":\"#1f77b4\"},\"top\":{\"field\":\"flux\"},\"width\":{\"value\":0.9},\"x\":{\"field\":\"band\"}},\"id\":\"fec52975-000a-49fe-acbc-2ac9e91918bc\",\"type\":\"VBar\"},{\"attributes\":{},\"id\":\"7e7a591d-3d81-4921-badd-dc92f200b429\",\"type\":\"Selection\"},{\"attributes\":{\"source\":{\"id\":\"85588155-24f5-4b29-8c3c-5c9e67e17c06\",\"type\":\"ColumnDataSource\"}},\"id\":\"4aa56727-4e8c-43e4-b0e8-1422bce0710b\",\"type\":\"CDSView\"},{\"attributes\":{},\"id\":\"4d823f3e-f41e-4915-bf78-d48ae5131261\",\"type\":\"HelpTool\"},{\"attributes\":{\"dimension\":1,\"plot\":{\"id\":\"181cb871-c9b9-4455-a7ec-41a7b4cb4b95\",\"subtype\":\"Figure\",\"type\":\"Plot\"},\"ticker\":{\"id\":\"701029f4-4837-4618-a594-d9235632fea9\",\"type\":\"BasicTicker\"}},\"id\":\"722d770c-3482-44a7-a966-e464ce87b353\",\"type\":\"Grid\"},{\"attributes\":{},\"id\":\"44f72c40-42cf-4fdc-a935-ca443daf7e0b\",\"type\":\"HelpTool\"},{\"attributes\":{},\"id\":\"701029f4-4837-4618-a594-d9235632fea9\",\"type\":\"BasicTicker\"},{\"attributes\":{},\"id\":\"4a26adef-2cef-4305-9ee6-c9e9482d842e\",\"type\":\"ResetTool\"},{\"attributes\":{\"fill_color\":{\"value\":\"#1f77b4\"},\"line_color\":{\"value\":\"#1f77b4\"},\"top\":{\"field\":\"flux\"},\"width\":{\"value\":0.9},\"x\":{\"field\":\"band\"}},\"id\":\"50b14dae-c08b-497b-98a7-066c42f513b1\",\"type\":\"VBar\"},{\"attributes\":{},\"id\":\"b215026e-fc5f-42a7-828f-e0ab8fc866c3\",\"type\":\"BasicTicker\"},{\"attributes\":{},\"id\":\"3e5aa187-67eb-43f7-961a-282575f6d29c\",\"type\":\"CategoricalTicker\"},{\"attributes\":{\"overlay\":{\"id\":\"07317319-4307-462c-b924-012bde2d1ad5\",\"type\":\"BoxAnnotation\"}},\"id\":\"f04548c7-ae02-418f-b23d-b03fe93bc49a\",\"type\":\"BoxZoomTool\"},{\"attributes\":{\"axis_label\":\"spectral band\",\"formatter\":{\"id\":\"95ececc6-e813-4520-9939-ef5bd49566ea\",\"type\":\"CategoricalTickFormatter\"},\"plot\":{\"id\":\"181cb871-c9b9-4455-a7ec-41a7b4cb4b95\",\"subtype\":\"Figure\",\"type\":\"Plot\"},\"ticker\":{\"id\":\"3e5aa187-67eb-43f7-961a-282575f6d29c\",\"type\":\"CategoricalTicker\"}},\"id\":\"61121436-9341-455e-8a27-52520ba3b6c0\",\"type\":\"CategoricalAxis\"},{\"attributes\":{},\"id\":\"dd3f4351-a042-452d-bfd5-81b4de8bebeb\",\"type\":\"SaveTool\"},{\"attributes\":{\"axis_label\":\"spectral band\",\"formatter\":{\"id\":\"522a08c4-8dfa-470e-902e-8d2e7fa24dfd\",\"type\":\"CategoricalTickFormatter\"},\"plot\":{\"id\":\"3dea400c-2783-4b57-b382-39b20332a8ee\",\"subtype\":\"Figure\",\"type\":\"Plot\"},\"ticker\":{\"id\":\"572e3b98-27d1-479e-88a7-91282215506a\",\"type\":\"CategoricalTicker\"}},\"id\":\"3b1caa4b-2b74-49ce-9b93-ee8ce15858f9\",\"type\":\"CategoricalAxis\"},{\"attributes\":{\"plot\":{\"id\":\"181cb871-c9b9-4455-a7ec-41a7b4cb4b95\",\"subtype\":\"Figure\",\"type\":\"Plot\"},\"ticker\":{\"id\":\"3e5aa187-67eb-43f7-961a-282575f6d29c\",\"type\":\"CategoricalTicker\"}},\"id\":\"ced33f96-08c8-46b8-91d6-d3a5086cac55\",\"type\":\"Grid\"},{\"attributes\":{},\"id\":\"4ab10339-4dc2-4e2e-9689-17a7b804eeae\",\"type\":\"LinearScale\"},{\"attributes\":{},\"id\":\"0bcef979-514d-4251-9519-6dce44f75a12\",\"type\":\"WheelZoomTool\"},{\"attributes\":{\"callback\":null},\"id\":\"49a7130c-50ae-49cc-8704-0c1b86fbe9f8\",\"type\":\"DataRange1d\"},{\"attributes\":{\"callback\":null,\"data\":{\"band\":[\"9\"],\"flux\":{\"__ndarray__\":\"gAK1GDxMr78=\",\"dtype\":\"float64\",\"shape\":[1]}},\"selected\":{\"id\":\"7e7a591d-3d81-4921-badd-dc92f200b429\",\"type\":\"Selection\"},\"selection_policy\":{\"id\":\"d0ee603d-c39e-4862-99ea-45f0baaded30\",\"type\":\"UnionRenderers\"}},\"id\":\"85588155-24f5-4b29-8c3c-5c9e67e17c06\",\"type\":\"ColumnDataSource\"},{\"attributes\":{},\"id\":\"82a067d1-14ac-4e2d-9a2c-e5a70b4bfb7a\",\"type\":\"CategoricalScale\"},{\"attributes\":{\"data_source\":{\"id\":\"85588155-24f5-4b29-8c3c-5c9e67e17c06\",\"type\":\"ColumnDataSource\"},\"glyph\":{\"id\":\"9d838add-3659-4fe4-8fa9-43212161abe1\",\"type\":\"VBar\"},\"hover_glyph\":null,\"muted_glyph\":null,\"nonselection_glyph\":{\"id\":\"f81d1ebf-89f6-486e-969c-9dd0e5ff0f3c\",\"type\":\"VBar\"},\"selection_glyph\":null,\"view\":{\"id\":\"4aa56727-4e8c-43e4-b0e8-1422bce0710b\",\"type\":\"CDSView\"}},\"id\":\"3bb33979-6cfc-4d0b-bc0c-d8f8d68b1fb7\",\"type\":\"GlyphRenderer\"},{\"attributes\":{},\"id\":\"e3c08778-048f-4b71-9a45-114669436172\",\"type\":\"Selection\"},{\"attributes\":{},\"id\":\"8ba715e0-f121-427a-9db4-f9a2feeea06e\",\"type\":\"PanTool\"},{\"attributes\":{\"callback\":null,\"factors\":[\"9\"]},\"id\":\"e495a799-c650-4dde-8387-c93b16d445e6\",\"type\":\"FactorRange\"},{\"attributes\":{\"bottom_units\":\"screen\",\"fill_alpha\":{\"value\":0.5},\"fill_color\":{\"value\":\"lightgrey\"},\"left_units\":\"screen\",\"level\":\"overlay\",\"line_alpha\":{\"value\":1.0},\"line_color\":{\"value\":\"black\"},\"line_dash\":[4,4],\"line_width\":{\"value\":2},\"plot\":null,\"render_mode\":\"css\",\"right_units\":\"screen\",\"top_units\":\"screen\"},\"id\":\"07317319-4307-462c-b924-012bde2d1ad5\",\"type\":\"BoxAnnotation\"},{\"attributes\":{\"active_drag\":\"auto\",\"active_inspect\":\"auto\",\"active_scroll\":\"auto\",\"active_tap\":\"auto\",\"tools\":[{\"id\":\"d30ce0c3-4feb-43c1-bbd8-06c98cc529d1\",\"type\":\"PanTool\"},{\"id\":\"accf8f90-03a4-41a0-acc9-830f428585d6\",\"type\":\"WheelZoomTool\"},{\"id\":\"f51e19aa-f152-4a8b-8a6f-404da4c42ae9\",\"type\":\"BoxZoomTool\"},{\"id\":\"d3878d0f-063c-4cee-a033-ba6c1beb91fd\",\"type\":\"SaveTool\"},{\"id\":\"e42bfb5f-0ab1-441d-ba86-7b7af8652b2f\",\"type\":\"ResetTool\"},{\"id\":\"4d823f3e-f41e-4915-bf78-d48ae5131261\",\"type\":\"HelpTool\"}]},\"id\":\"ed1942e8-0fa4-4acd-9cb6-5bffca6bb63a\",\"type\":\"Toolbar\"},{\"attributes\":{\"plot\":null,\"text\":\"Atmosphere heating. CLIRAD - CRD.\"},\"id\":\"bea13cd2-18e7-4146-aa9d-7bf9c07bdbca\",\"type\":\"Title\"},{\"attributes\":{\"fill_alpha\":{\"value\":0.1},\"fill_color\":{\"value\":\"#1f77b4\"},\"line_alpha\":{\"value\":0.1},\"line_color\":{\"value\":\"#1f77b4\"},\"top\":{\"field\":\"flux\"},\"width\":{\"value\":0.9},\"x\":{\"field\":\"band\"}},\"id\":\"f81d1ebf-89f6-486e-969c-9dd0e5ff0f3c\",\"type\":\"VBar\"},{\"attributes\":{\"data_source\":{\"id\":\"30e6196c-e8bc-401d-8c3a-f34962d68c7b\",\"type\":\"ColumnDataSource\"},\"glyph\":{\"id\":\"50b14dae-c08b-497b-98a7-066c42f513b1\",\"type\":\"VBar\"},\"hover_glyph\":null,\"muted_glyph\":null,\"nonselection_glyph\":{\"id\":\"fec52975-000a-49fe-acbc-2ac9e91918bc\",\"type\":\"VBar\"},\"selection_glyph\":null,\"view\":{\"id\":\"7a617e1e-97b8-4d17-891a-ded190d3037c\",\"type\":\"CDSView\"}},\"id\":\"de115099-472c-45cf-b6a8-ef9bd4e528fd\",\"type\":\"GlyphRenderer\"},{\"attributes\":{\"callback\":null,\"data\":{\"band\":[\"9\"],\"flux\":{\"__ndarray__\":\"AAjAeAYNfT8=\",\"dtype\":\"float64\",\"shape\":[1]}},\"selected\":{\"id\":\"e3c08778-048f-4b71-9a45-114669436172\",\"type\":\"Selection\"},\"selection_policy\":{\"id\":\"a95dfc7f-c4f1-49af-ac25-28484044283a\",\"type\":\"UnionRenderers\"}},\"id\":\"df4b82cd-6c2d-4eae-a83f-036c0026e132\",\"type\":\"ColumnDataSource\"},{\"attributes\":{},\"id\":\"d30ce0c3-4feb-43c1-bbd8-06c98cc529d1\",\"type\":\"PanTool\"},{\"attributes\":{\"source\":{\"id\":\"30e6196c-e8bc-401d-8c3a-f34962d68c7b\",\"type\":\"ColumnDataSource\"}},\"id\":\"7a617e1e-97b8-4d17-891a-ded190d3037c\",\"type\":\"CDSView\"},{\"attributes\":{},\"id\":\"accf8f90-03a4-41a0-acc9-830f428585d6\",\"type\":\"WheelZoomTool\"},{\"attributes\":{\"overlay\":{\"id\":\"720ab3b4-1124-43ee-b2e9-d5faacdeff84\",\"type\":\"BoxAnnotation\"}},\"id\":\"f51e19aa-f152-4a8b-8a6f-404da4c42ae9\",\"type\":\"BoxZoomTool\"},{\"attributes\":{},\"id\":\"d3878d0f-063c-4cee-a033-ba6c1beb91fd\",\"type\":\"SaveTool\"},{\"attributes\":{},\"id\":\"e42bfb5f-0ab1-441d-ba86-7b7af8652b2f\",\"type\":\"ResetTool\"}],\"root_ids\":[\"2556d6e6-5fd4-43d4-8ffd-f4ffa2b28e4b\"]},\"title\":\"Bokeh Application\",\"version\":\"0.12.16\"}};\n",
       "  var render_items = [{\"docid\":\"d104c07b-c064-47a5-b83b-01581576358b\",\"elementid\":\"e1979654-0720-4380-a2a3-d76ba4851c1e\",\"modelid\":\"2556d6e6-5fd4-43d4-8ffd-f4ffa2b28e4b\"}];\n",
       "  root.Bokeh.embed.embed_items_notebook(docs_json, render_items);\n",
       "\n",
       "  }\n",
       "  if (root.Bokeh !== undefined) {\n",
       "    embed_document(root);\n",
       "  } else {\n",
       "    var attempts = 0;\n",
       "    var timer = setInterval(function(root) {\n",
       "      if (root.Bokeh !== undefined) {\n",
       "        embed_document(root);\n",
       "        clearInterval(timer);\n",
       "      }\n",
       "      attempts++;\n",
       "      if (attempts > 100) {\n",
       "        console.log(\"Bokeh: ERROR: Unable to run BokehJS code because BokehJS library is missing\")\n",
       "        clearInterval(timer);\n",
       "      }\n",
       "    }, 10, root)\n",
       "  }\n",
       "})(window);"
      ],
      "application/vnd.bokehjs_exec.v0+json": ""
     },
     "metadata": {
      "application/vnd.bokehjs_exec.v0+json": {
       "id": "2556d6e6-5fd4-43d4-8ffd-f4ffa2b28e4b"
      }
     },
     "output_type": "display_data"
    },
    {
     "data": {
      "text/markdown": [
       "*FIGURE.* Difference between CLIRAD and CRD in TOA, SFC and net atmosphere flux, in each spectral band."
      ],
      "text/plain": [
       "<IPython.core.display.Markdown object>"
      ]
     },
     "metadata": {},
     "output_type": "display_data"
    },
    {
     "data": {
      "text/html": [
       "<div>\n",
       "<style scoped>\n",
       "    .dataframe tbody tr th:only-of-type {\n",
       "        vertical-align: middle;\n",
       "    }\n",
       "\n",
       "    .dataframe tbody tr th {\n",
       "        vertical-align: top;\n",
       "    }\n",
       "\n",
       "    .dataframe thead th {\n",
       "        text-align: right;\n",
       "    }\n",
       "</style>\n",
       "<table border=\"1\" class=\"dataframe\">\n",
       "  <thead>\n",
       "    <tr style=\"text-align: right;\">\n",
       "      <th></th>\n",
       "      <th>OLR flux</th>\n",
       "      <th>SFC flux</th>\n",
       "      <th>ATM heating</th>\n",
       "    </tr>\n",
       "    <tr>\n",
       "      <th>Sum over bands</th>\n",
       "      <th></th>\n",
       "      <th></th>\n",
       "      <th></th>\n",
       "    </tr>\n",
       "  </thead>\n",
       "  <tbody>\n",
       "    <tr>\n",
       "      <th>CLIRAD - CRD</th>\n",
       "      <td>0.01</td>\n",
       "      <td>-0.06</td>\n",
       "      <td>0.07</td>\n",
       "    </tr>\n",
       "    <tr>\n",
       "      <th>CRD</th>\n",
       "      <td>-8.19</td>\n",
       "      <td>2.77</td>\n",
       "      <td>-1.40</td>\n",
       "    </tr>\n",
       "  </tbody>\n",
       "</table>\n",
       "</div>"
      ],
      "text/plain": [
       "                OLR flux  SFC flux  ATM heating\n",
       "Sum over bands                                 \n",
       "CLIRAD - CRD        0.01     -0.06         0.07\n",
       "CRD                -8.19      2.77        -1.40"
      ]
     },
     "metadata": {},
     "output_type": "display_data"
    },
    {
     "data": {
      "text/markdown": [
       "*TABLE.* Difference between CLIRAD and CRD in TOA, SFC and net atmosphere flux, over all spectral bands. CRD's TOA, SFC and net atmosphere flux, over all spectral bands."
      ],
      "text/plain": [
       "<IPython.core.display.Markdown object>"
      ]
     },
     "metadata": {},
     "output_type": "display_data"
    },
    {
     "data": {
      "text/html": [
       "<a id=\"Cooling_rates._trp.\"></a>"
      ],
      "text/plain": [
       "<IPython.core.display.HTML object>"
      ]
     },
     "metadata": {},
     "output_type": "display_data"
    },
    {
     "data": {
      "text/markdown": [
       "# Cooling rates. trp."
      ],
      "text/plain": [
       "<IPython.core.display.Markdown object>"
      ]
     },
     "metadata": {},
     "output_type": "display_data"
    },
    {
     "data": {
      "text/html": [
       "\n",
       "<div class=\"bk-root\">\n",
       "    <div class=\"bk-plotdiv\" id=\"f5de21cd-4ece-41ae-b0eb-ea6feb9a0b60\"></div>\n",
       "</div>"
      ]
     },
     "metadata": {},
     "output_type": "display_data"
    },
    {
     "data": {
      "application/javascript": [
       "(function(root) {\n",
       "  function embed_document(root) {\n",
       "    \n",
       "  var docs_json = {\"ae56aa01-c8ae-4f32-ba7f-48133d65cf1e\":{\"roots\":{\"references\":[{\"attributes\":{\"source\":{\"id\":\"b3f0c81b-241b-4a9d-9ee7-858e2259f4be\",\"type\":\"ColumnDataSource\"}},\"id\":\"ca0ae8d5-944e-4139-96b2-15bc6747aeed\",\"type\":\"CDSView\"},{\"attributes\":{\"data_source\":{\"id\":\"3ac402df-d4fa-4e92-87ff-e6eb5b0452ff\",\"type\":\"ColumnDataSource\"},\"glyph\":{\"id\":\"2fd021ca-2cac-4949-9da1-163c7a8a43f9\",\"type\":\"Circle\"},\"hover_glyph\":null,\"muted_glyph\":null,\"nonselection_glyph\":{\"id\":\"d07d1b37-8aee-454b-b243-4229f7a9f66c\",\"type\":\"Circle\"},\"selection_glyph\":null,\"view\":{\"id\":\"328c900f-6483-484a-af0e-0e9955ab12fe\",\"type\":\"CDSView\"}},\"id\":\"86b3d04f-70aa-4b16-a908-ad8407cfe36e\",\"type\":\"GlyphRenderer\"},{\"attributes\":{\"line_alpha\":0.1,\"line_color\":\"#1f77b4\",\"line_width\":1.5,\"x\":{\"field\":\"x\"},\"y\":{\"field\":\"y\"}},\"id\":\"e4eea7fd-7772-4af8-9ae9-dd071300e2a0\",\"type\":\"Line\"},{\"attributes\":{\"items\":[{\"id\":\"ac3eeafc-189e-4a88-a693-374f1da3b357\",\"type\":\"LegendItem\"},{\"id\":\"4ccb48b1-35f7-4862-942f-21fc27f493bc\",\"type\":\"LegendItem\"}],\"label_text_font_size\":{\"value\":\"8pt\"},\"location\":\"top_center\",\"orientation\":\"horizontal\",\"plot\":{\"id\":\"04553a35-f1f3-4f07-a22f-98224d63150e\",\"subtype\":\"Figure\",\"type\":\"Plot\"}},\"id\":\"6439876c-b2bd-42aa-9fec-7ff1acf26066\",\"type\":\"Legend\"},{\"attributes\":{\"fill_alpha\":{\"value\":0.7},\"fill_color\":{\"value\":\"#4daf4a\"},\"line_alpha\":{\"value\":0.7},\"line_color\":{\"value\":\"#4daf4a\"},\"x\":{\"field\":\"x\"},\"y\":{\"field\":\"y\"}},\"id\":\"bb7d3098-6c02-4444-8f16-37684db52927\",\"type\":\"Circle\"},{\"attributes\":{\"children\":[{\"id\":\"d41d570a-352b-4679-9c72-7530e3c154ea\",\"type\":\"Row\"}]},\"id\":\"c2a73651-71e5-4bab-b75a-0384cb9bd337\",\"type\":\"Column\"},{\"attributes\":{\"source\":{\"id\":\"8d19bf25-2094-48a4-afb9-1f788f6a1025\",\"type\":\"ColumnDataSource\"}},\"id\":\"3287e13b-4126-41f8-b1c3-c0756768a03d\",\"type\":\"CDSView\"},{\"attributes\":{},\"id\":\"06c621f7-4b65-49cc-bf8d-277ee426a9e5\",\"type\":\"Selection\"},{\"attributes\":{},\"id\":\"ee59257a-c22c-4515-a65d-fb4f031cb4fe\",\"type\":\"LinearScale\"},{\"attributes\":{\"callback\":null,\"data\":{\"x\":{\"__ndarray__\":\"3XuSHRbItr9Zx+QZo5G2v0mqf6jlG7a/1ueQ8pijtb+WNwbrnyq1v2ghq6ISs7S/Am8M900+tL8OMvRItsyzv9LrUeOeYbO/GpuuC2X/sr9PruK6Tauyv94EaCbbarK/FNBOSmRGsr8E9SEAHCGyvwiDFDfMIrC/xCaIczq0pb+10Muxh7mKvyWcX5KflJY/gznfJ8VJsD+Yg0Xq4tu8P3rrsk5L4sU/qOE6Sk67zT9wUZi9jUnPPzRgmGWyLMo/ZZY1mCO3wz9SeFQlX0O6Pz7qAJ9XcLA/D/YeFZxNpD9Q5J/S7nuZP8E3Qy2qnpA/7CmDtBAuhj8+YEAc1Nh7P3/x1Li6iWk/fv68/RSBR79mv3iLasZ/vwT3j8cE45G/HhLx6Nxzmr/KwGRXGCqevwSX23545J2/NtSuXWgbnr/zaYCYpRmev+mtONdbw52/wFPi6X4Wnb+buPmfLBecv4GMqYl4ypq//K4c4p41mb++msSfL12Xvy4eVYICRZW/H5canObvkr/r8tHVYl+Qv5Sc6PoLK4u/8IFLN/Ekhb9+gal6A1l9v1iUcxmn926/PBv9296MJL84lCbRjnxuP+Bu5b73JIA/pBDQltZTiT//E3+7vJ6RP0S6FGEH8ZY/Ygjn8JxvnD+8RJweeb+gP7758b3dl6I//A+XuUyPoz+/35CP2wSkP95uOuOqm6Q/bYjdtnDSpT8YciNnjM+nPywvY4Scaao/37Bl4B1srT/A7MQDz1+wP0Y+3bDVNLI/idfo4XNDtD9qk4jFr6W2P4q5sN1Zlbk/\",\"dtype\":\"float64\",\"shape\":[75]},\"y\":{\"__ndarray__\":\"GhExyth1ND/Sv8nbtpRIP2vylNV0PVE/aTum7souWD/At0SJ8fVgPw3Iuahxymc/MSNhhJWvcD/bTfBN02d3P2zb5nxnaoA/CD5h5MAGhz8NmeH1TyaQP+zrCsc9p5Y/LbKd76fGnz/bLW5ISEmmPww9YvTcQq8/JV2OstnstT8Er5Y7M8G+P0c+r3jqkcU/5h99k6ZBzj88bCIzFzjVP4enV8oyxN0//yH99nXg5D8qOpLLf0jtP5kqGJXUifQ/c9cS8kHP/D+/DpwzojQEQIEmwoanVwxA4lgXt9HgE0BSSZ2AJuIbQAMJih9jjiNA5q4l5INuK0AwTKYKRj0zQNv5fmq8/DpAaCJseHrtQkB/+zpwzoxKQM3MzMzMeFJAZmZmZmZqWEAAAAAAAFxeQM3MzMzMJmJAmpmZmZkfZUBmZmZmZhhoQDMzMzMzEWtAAAAAAAAKbkBmZmZmZoFwQM3MzMzM/XFAMzMzMzN6c0CamZmZmfZ0QAAAAAAAc3ZAZmZmZmbvd0DNzMzMzGt5QDMzMzMz6HpAmpmZmZlkfEAAAAAAAOF9QGZmZmZmXX9AZmZmZuZsgECamZmZGSuBQM3MzMxM6YFAAAAAAICngkAzMzMzs2WDQGZmZmbmI4RAmpmZmRnihEDNzMzMTKCFQAAAAACAXoZAMzMzM7Mch0BmZmZm5tqHQJqZmZkZmYhAzczMzExXiUAAAAAAgBWKQDMzMzOz04pAZmZmZuaRi0CamZmZGVCMQM3MzMxMDo1AAAAAAIDMjUAzMzMzs4qOQGZmZmbmSI9A\",\"dtype\":\"float64\",\"shape\":[75]}},\"selected\":{\"id\":\"109ba379-2d90-4033-8773-0ab1a2728c2c\",\"type\":\"Selection\"},\"selection_policy\":{\"id\":\"ccae4e42-41ca-4510-ac37-323b2c8d105c\",\"type\":\"UnionRenderers\"}},\"id\":\"6bbf282d-3451-46d6-85e3-39d72664cfb3\",\"type\":\"ColumnDataSource\"},{\"attributes\":{\"callback\":null,\"end\":0.03728994420000001,\"start\":-0.01889820419999999},\"id\":\"0dbe494d-21e7-4025-a641-9948fbe29373\",\"type\":\"Range1d\"},{\"attributes\":{\"source\":{\"id\":\"e56a3a35-5163-4506-86d0-8616ea51acd4\",\"type\":\"ColumnDataSource\"}},\"id\":\"b545edcb-5df3-49d0-9cb8-7d7a25b0f666\",\"type\":\"CDSView\"},{\"attributes\":{\"label\":{\"value\":\"CLIRAD - CRD\"},\"renderers\":[{\"id\":\"86b3d04f-70aa-4b16-a908-ad8407cfe36e\",\"type\":\"GlyphRenderer\"},{\"id\":\"6d0c3019-cab2-41aa-bf0f-3fb10918fe02\",\"type\":\"GlyphRenderer\"}]},\"id\":\"fb890477-d8e8-41c1-9c94-37ec437ea486\",\"type\":\"LegendItem\"},{\"attributes\":{\"axis_label\":\"pressure [mb]\",\"formatter\":{\"id\":\"930e30b0-e533-4acf-beb0-ac6b4fd15e2f\",\"type\":\"BasicTickFormatter\"},\"plot\":{\"id\":\"dd17bc5d-e40d-46d0-badb-75972d10ba7e\",\"subtype\":\"Figure\",\"type\":\"Plot\"},\"ticker\":{\"id\":\"bd50b18d-75e5-43a9-b53f-f5f77e32b62a\",\"type\":\"BasicTicker\"}},\"id\":\"5f442e70-1cb3-4379-ba86-1279e88b1241\",\"type\":\"LinearAxis\"},{\"attributes\":{\"callback\":null,\"data\":{\"x\":{\"__ndarray__\":\"3XuSHRbItr9Zx+QZo5G2v0mqf6jlG7a/1ueQ8pijtb+WNwbrnyq1v2ghq6ISs7S/Am8M900+tL8OMvRItsyzv9LrUeOeYbO/GpuuC2X/sr9PruK6Tauyv94EaCbbarK/FNBOSmRGsr8E9SEAHCGyvwiDFDfMIrC/xCaIczq0pb+10Muxh7mKvyWcX5KflJY/gznfJ8VJsD+Yg0Xq4tu8P3rrsk5L4sU/qOE6Sk67zT9wUZi9jUnPPzRgmGWyLMo/ZZY1mCO3wz9SeFQlX0O6Pz7qAJ9XcLA/D/YeFZxNpD9Q5J/S7nuZP8E3Qy2qnpA/7CmDtBAuhj8+YEAc1Nh7P3/x1Li6iWk/fv68/RSBR79mv3iLasZ/vwT3j8cE45G/HhLx6Nxzmr/KwGRXGCqevwSX23545J2/NtSuXWgbnr/zaYCYpRmev+mtONdbw52/wFPi6X4Wnb+buPmfLBecv4GMqYl4ypq//K4c4p41mb++msSfL12Xvy4eVYICRZW/H5canObvkr/r8tHVYl+Qv5Sc6PoLK4u/8IFLN/Ekhb9+gal6A1l9v1iUcxmn926/PBv9296MJL84lCbRjnxuP+Bu5b73JIA/pBDQltZTiT//E3+7vJ6RP0S6FGEH8ZY/Ygjn8JxvnD+8RJweeb+gP7758b3dl6I//A+XuUyPoz+/35CP2wSkP95uOuOqm6Q/bYjdtnDSpT8YciNnjM+nPywvY4Scaao/37Bl4B1srT/A7MQDz1+wP0Y+3bDVNLI/idfo4XNDtD9qk4jFr6W2P4q5sN1Zlbk/\",\"dtype\":\"float64\",\"shape\":[75]},\"y\":{\"__ndarray__\":\"GhExyth1ND/Sv8nbtpRIP2vylNV0PVE/aTum7souWD/At0SJ8fVgPw3Iuahxymc/MSNhhJWvcD/bTfBN02d3P2zb5nxnaoA/CD5h5MAGhz8NmeH1TyaQP+zrCsc9p5Y/LbKd76fGnz/bLW5ISEmmPww9YvTcQq8/JV2OstnstT8Er5Y7M8G+P0c+r3jqkcU/5h99k6ZBzj88bCIzFzjVP4enV8oyxN0//yH99nXg5D8qOpLLf0jtP5kqGJXUifQ/c9cS8kHP/D+/DpwzojQEQIEmwoanVwxA4lgXt9HgE0BSSZ2AJuIbQAMJih9jjiNA5q4l5INuK0AwTKYKRj0zQNv5fmq8/DpAaCJseHrtQkB/+zpwzoxKQM3MzMzMeFJAZmZmZmZqWEAAAAAAAFxeQM3MzMzMJmJAmpmZmZkfZUBmZmZmZhhoQDMzMzMzEWtAAAAAAAAKbkBmZmZmZoFwQM3MzMzM/XFAMzMzMzN6c0CamZmZmfZ0QAAAAAAAc3ZAZmZmZmbvd0DNzMzMzGt5QDMzMzMz6HpAmpmZmZlkfEAAAAAAAOF9QGZmZmZmXX9AZmZmZuZsgECamZmZGSuBQM3MzMxM6YFAAAAAAICngkAzMzMzs2WDQGZmZmbmI4RAmpmZmRnihEDNzMzMTKCFQAAAAACAXoZAMzMzM7Mch0BmZmZm5tqHQJqZmZkZmYhAzczMzExXiUAAAAAAgBWKQDMzMzOz04pAZmZmZuaRi0CamZmZGVCMQM3MzMxMDo1AAAAAAIDMjUAzMzMzs4qOQGZmZmbmSI9A\",\"dtype\":\"float64\",\"shape\":[75]}},\"selected\":{\"id\":\"dcecff56-b514-41e5-a464-771d7c81f06d\",\"type\":\"Selection\"},\"selection_policy\":{\"id\":\"e1032d6f-3628-4d32-9de1-9f8e1b4fcbb1\",\"type\":\"UnionRenderers\"}},\"id\":\"b3f0c81b-241b-4a9d-9ee7-858e2259f4be\",\"type\":\"ColumnDataSource\"},{\"attributes\":{\"source\":{\"id\":\"98ed4ac0-d50d-4275-9943-9b28d99b6834\",\"type\":\"ColumnDataSource\"}},\"id\":\"1cec450d-9ffd-4e4a-9ae4-468bfe456065\",\"type\":\"CDSView\"},{\"attributes\":{\"data_source\":{\"id\":\"6bbf282d-3451-46d6-85e3-39d72664cfb3\",\"type\":\"ColumnDataSource\"},\"glyph\":{\"id\":\"a8965c85-5130-4551-93d8-522d35c2e795\",\"type\":\"Line\"},\"hover_glyph\":null,\"muted_glyph\":null,\"nonselection_glyph\":{\"id\":\"c721ad04-dcc7-4348-9e47-547094e7227c\",\"type\":\"Line\"},\"selection_glyph\":null,\"view\":{\"id\":\"3f258745-b2fc-4371-a004-38469c0844bf\",\"type\":\"CDSView\"}},\"id\":\"74f972bd-354f-458c-ac70-a6d2c5b120be\",\"type\":\"GlyphRenderer\"},{\"attributes\":{},\"id\":\"e2d6b5ef-d1ff-46cf-b708-99fbc37801b4\",\"type\":\"Selection\"},{\"attributes\":{\"above\":[{\"id\":\"6439876c-b2bd-42aa-9fec-7ff1acf26066\",\"type\":\"Legend\"}],\"below\":[{\"id\":\"7d481f75-eaf8-42db-ae9a-9588495ddd0a\",\"type\":\"LinearAxis\"}],\"left\":[{\"id\":\"063f9f47-5293-4554-a877-a7d95244e63d\",\"type\":\"LogAxis\"}],\"plot_width\":300,\"renderers\":[{\"id\":\"7d481f75-eaf8-42db-ae9a-9588495ddd0a\",\"type\":\"LinearAxis\"},{\"id\":\"5438fe96-2b19-4898-8308-b813d89024dd\",\"type\":\"Grid\"},{\"id\":\"063f9f47-5293-4554-a877-a7d95244e63d\",\"type\":\"LogAxis\"},{\"id\":\"f9a2a670-1e9c-4950-ac12-1c1745cdb403\",\"type\":\"Grid\"},{\"id\":\"9a7e24b2-2f6e-4b33-856b-27110fb85fbf\",\"type\":\"BoxAnnotation\"},{\"id\":\"d00ad641-f103-4bf2-b63d-7e57a3bc389d\",\"type\":\"GlyphRenderer\"},{\"id\":\"4d01fc60-08a5-4a76-8cd1-9918777bf7ca\",\"type\":\"GlyphRenderer\"},{\"id\":\"74f972bd-354f-458c-ac70-a6d2c5b120be\",\"type\":\"GlyphRenderer\"},{\"id\":\"6439876c-b2bd-42aa-9fec-7ff1acf26066\",\"type\":\"Legend\"}],\"title\":{\"id\":\"96bad01f-9a63-487b-b292-cb0a5739359e\",\"type\":\"Title\"},\"toolbar\":{\"id\":\"bdada647-095a-4e0a-8c68-c9692e47c4d7\",\"type\":\"Toolbar\"},\"toolbar_location\":null,\"x_range\":{\"id\":\"018c5483-f66c-4715-a30a-09c7ee48a806\",\"type\":\"Range1d\"},\"x_scale\":{\"id\":\"a7b658c5-f0c4-4e56-8210-a85db2dacaa2\",\"type\":\"LinearScale\"},\"y_range\":{\"id\":\"51430189-195d-465e-9d3b-002c90db6ab6\",\"type\":\"Range1d\"},\"y_scale\":{\"id\":\"b4ce8478-a0a3-4827-bb8c-b7114a3cc49b\",\"type\":\"LogScale\"}},\"id\":\"04553a35-f1f3-4f07-a22f-98224d63150e\",\"subtype\":\"Figure\",\"type\":\"Plot\"},{\"attributes\":{\"callback\":null,\"data\":{\"x\":{\"__ndarray__\":\"WBkoUXjOoz8KBHv4pKajP6UHm8DIWaM/LS2Qkc0Eoz/ltChlsrWiP6mJDuZOZ6I/xpghedomoj+K8dm7uO2hP8Jhj6fqwKE/hq4UZ+SqoT/pTTgAiq2hP430Clo03KE/hZqLObQ6oj/clSv2ds+iP2nr8YzHVqI/kszOyD7Nnz8ymoMKiPWYPzGW2mxbfZE/wBckUtrogj8Apf1JW+BLP4C6etttk4G/8AkTJaXJkr+AeSSYSViMvwDQcuoU9WM/oMfmsurWjz/8oNOYtbmWP3yFGpJOtZQ/IOy58ZMPij/4UkyZLNJyP+B/ssnkS02/kBcCGzjpY78AhoWCLclVv0BFNiIkwzQ/WE1GWYKVTD+AKySHqWANP7AIc1htQFy/QIhPLWdear+Axdtckolvv0jE4NbnrnC/gGDBD2TDbr+ol9OJ9yhrv1i90Ko2Ami/GMOFBNi8ZL8AsVD+/Uhiv5CuC9KbcGC/oAfoBXJlXb9Qko34L79cv9BhHpzJ41u/IM8i/7/2W79gxyzMWddcvwiozOEbiV6/YL4/gjuAYL+kXTAnzQdhv0oNsot3PmK/DforH66RYr9qG8O/r2Fjv5wctUAGZGO/oGVJbgC+Y788veawVkhkv4DZ2wUBNGW/4H+L3kGdZr+4VvpX9idov8An3/dl7Gi/oEqISgcRZ7+gRIIRSktkvxBTbc3cl2G/IO3HDKUNX78gyzA/TtBav4ABHHg+zle/QHnB1XFkVL+AeMHnVCBNv4DMtk+e5ES/gKTP5u/gQr8A4/1xKGdLv6Bz5Esf72K/\",\"dtype\":\"float64\",\"shape\":[75]},\"y\":{\"__ndarray__\":\"GhExyth1ND/Sv8nbtpRIP2vylNV0PVE/aTum7souWD/At0SJ8fVgPw3Iuahxymc/MSNhhJWvcD/bTfBN02d3P2zb5nxnaoA/CD5h5MAGhz8NmeH1TyaQP+zrCsc9p5Y/LbKd76fGnz/bLW5ISEmmPww9YvTcQq8/JV2OstnstT8Er5Y7M8G+P0c+r3jqkcU/5h99k6ZBzj88bCIzFzjVP4enV8oyxN0//yH99nXg5D8qOpLLf0jtP5kqGJXUifQ/c9cS8kHP/D+/DpwzojQEQIEmwoanVwxA4lgXt9HgE0BSSZ2AJuIbQAMJih9jjiNA5q4l5INuK0AwTKYKRj0zQNv5fmq8/DpAaCJseHrtQkB/+zpwzoxKQM3MzMzMeFJAZmZmZmZqWEAAAAAAAFxeQM3MzMzMJmJAmpmZmZkfZUBmZmZmZhhoQDMzMzMzEWtAAAAAAAAKbkBmZmZmZoFwQM3MzMzM/XFAMzMzMzN6c0CamZmZmfZ0QAAAAAAAc3ZAZmZmZmbvd0DNzMzMzGt5QDMzMzMz6HpAmpmZmZlkfEAAAAAAAOF9QGZmZmZmXX9AZmZmZuZsgECamZmZGSuBQM3MzMxM6YFAAAAAAICngkAzMzMzs2WDQGZmZmbmI4RAmpmZmRnihEDNzMzMTKCFQAAAAACAXoZAMzMzM7Mch0BmZmZm5tqHQJqZmZkZmYhAzczMzExXiUAAAAAAgBWKQDMzMzOz04pAZmZmZuaRi0CamZmZGVCMQM3MzMxMDo1AAAAAAIDMjUAzMzMzs4qOQGZmZmbmSI9A\",\"dtype\":\"float64\",\"shape\":[75]}},\"selected\":{\"id\":\"d2df038d-ce45-41b5-930b-3b5efb5eb532\",\"type\":\"Selection\"},\"selection_policy\":{\"id\":\"ee367a16-fe15-4b3f-96fc-37265946c3c8\",\"type\":\"UnionRenderers\"}},\"id\":\"3ac402df-d4fa-4e92-87ff-e6eb5b0452ff\",\"type\":\"ColumnDataSource\"},{\"attributes\":{},\"id\":\"bd50b18d-75e5-43a9-b53f-f5f77e32b62a\",\"type\":\"BasicTicker\"},{\"attributes\":{\"line_alpha\":0.1,\"line_color\":\"#1f77b4\",\"line_width\":1.5,\"x\":{\"field\":\"x\"},\"y\":{\"field\":\"y\"}},\"id\":\"c721ad04-dcc7-4348-9e47-547094e7227c\",\"type\":\"Line\"},{\"attributes\":{\"data_source\":{\"id\":\"721f57e4-9ab1-46b4-a303-3dece4dda01c\",\"type\":\"ColumnDataSource\"},\"glyph\":{\"id\":\"bb7d3098-6c02-4444-8f16-37684db52927\",\"type\":\"Circle\"},\"hover_glyph\":null,\"muted_glyph\":null,\"nonselection_glyph\":{\"id\":\"91ba9b74-9e2e-423c-8e8f-4523adb9d4a3\",\"type\":\"Circle\"},\"selection_glyph\":null,\"view\":{\"id\":\"f6070dad-1f91-4fbe-89a1-91e8f4fc8b65\",\"type\":\"CDSView\"}},\"id\":\"4d01fc60-08a5-4a76-8cd1-9918777bf7ca\",\"type\":\"GlyphRenderer\"},{\"attributes\":{\"source\":{\"id\":\"ef03769c-c7dc-43f6-b45e-06b6f0da30a6\",\"type\":\"ColumnDataSource\"}},\"id\":\"c01fbe32-3faa-4751-868a-6a954751ea84\",\"type\":\"CDSView\"},{\"attributes\":{\"children\":[{\"id\":\"dd17bc5d-e40d-46d0-badb-75972d10ba7e\",\"subtype\":\"Figure\",\"type\":\"Plot\"},{\"id\":\"04553a35-f1f3-4f07-a22f-98224d63150e\",\"subtype\":\"Figure\",\"type\":\"Plot\"},{\"id\":\"79074ec4-562d-46a7-a650-ceb5a1d6492c\",\"subtype\":\"Figure\",\"type\":\"Plot\"}]},\"id\":\"d41d570a-352b-4679-9c72-7530e3c154ea\",\"type\":\"Row\"},{\"attributes\":{\"data_source\":{\"id\":\"ef03769c-c7dc-43f6-b45e-06b6f0da30a6\",\"type\":\"ColumnDataSource\"},\"glyph\":{\"id\":\"836a1af0-d3ca-444d-8987-b5fc937877a3\",\"type\":\"Line\"},\"hover_glyph\":null,\"muted_glyph\":null,\"nonselection_glyph\":{\"id\":\"6fe98a47-7461-42e4-b366-e370dd4f662a\",\"type\":\"Line\"},\"selection_glyph\":null,\"view\":{\"id\":\"c01fbe32-3faa-4751-868a-6a954751ea84\",\"type\":\"CDSView\"}},\"id\":\"e2b77a17-d834-4324-bf78-d57e46f2faf2\",\"type\":\"GlyphRenderer\"},{\"attributes\":{},\"id\":\"4f9bd1c9-d1d9-439d-b1b0-8f3ddfb281b3\",\"type\":\"SaveTool\"},{\"attributes\":{\"data_source\":{\"id\":\"98ed4ac0-d50d-4275-9943-9b28d99b6834\",\"type\":\"ColumnDataSource\"},\"glyph\":{\"id\":\"d324c074-9159-4b57-aad7-b582de6282d5\",\"type\":\"Line\"},\"hover_glyph\":null,\"muted_glyph\":null,\"nonselection_glyph\":{\"id\":\"e4eea7fd-7772-4af8-9ae9-dd071300e2a0\",\"type\":\"Line\"},\"selection_glyph\":null,\"view\":{\"id\":\"1cec450d-9ffd-4e4a-9ae4-468bfe456065\",\"type\":\"CDSView\"}},\"id\":\"42391b0f-de43-43a5-84ce-e85c08a463f1\",\"type\":\"GlyphRenderer\"},{\"attributes\":{\"fill_alpha\":{\"value\":0.7},\"fill_color\":{\"value\":\"#4daf4a\"},\"line_alpha\":{\"value\":0.7},\"line_color\":{\"value\":\"#4daf4a\"},\"x\":{\"field\":\"x\"},\"y\":{\"field\":\"y\"}},\"id\":\"c02ccdad-2003-45bb-9406-e2243bd0b19a\",\"type\":\"Circle\"},{\"attributes\":{\"line_color\":\"#4daf4a\",\"line_width\":1.5,\"x\":{\"field\":\"x\"},\"y\":{\"field\":\"y\"}},\"id\":\"a8965c85-5130-4551-93d8-522d35c2e795\",\"type\":\"Line\"},{\"attributes\":{\"callback\":null,\"data\":{\"x\":{\"__ndarray__\":\"3XuSHRbItr9Zx+QZo5G2v0mqf6jlG7a/1ueQ8pijtb+WNwbrnyq1v2ghq6ISs7S/Am8M900+tL8OMvRItsyzv9LrUeOeYbO/GpuuC2X/sr9PruK6Tauyv94EaCbbarK/FNBOSmRGsr8E9SEAHCGyvwiDFDfMIrC/xCaIczq0pb+10Muxh7mKvyWcX5KflJY/gznfJ8VJsD+Yg0Xq4tu8P3rrsk5L4sU/qOE6Sk67zT9wUZi9jUnPPzRgmGWyLMo/ZZY1mCO3wz9SeFQlX0O6Pz7qAJ9XcLA/D/YeFZxNpD9Q5J/S7nuZP8E3Qy2qnpA/7CmDtBAuhj8+YEAc1Nh7P3/x1Li6iWk/fv68/RSBR79mv3iLasZ/vwT3j8cE45G/HhLx6Nxzmr/KwGRXGCqevwSX23545J2/NtSuXWgbnr/zaYCYpRmev+mtONdbw52/wFPi6X4Wnb+buPmfLBecv4GMqYl4ypq//K4c4p41mb++msSfL12Xvy4eVYICRZW/H5canObvkr/r8tHVYl+Qv5Sc6PoLK4u/8IFLN/Ekhb9+gal6A1l9v1iUcxmn926/PBv9296MJL84lCbRjnxuP+Bu5b73JIA/pBDQltZTiT//E3+7vJ6RP0S6FGEH8ZY/Ygjn8JxvnD+8RJweeb+gP7758b3dl6I//A+XuUyPoz+/35CP2wSkP95uOuOqm6Q/bYjdtnDSpT8YciNnjM+nPywvY4Scaao/37Bl4B1srT/A7MQDz1+wP0Y+3bDVNLI/idfo4XNDtD9qk4jFr6W2P4q5sN1Zlbk/\",\"dtype\":\"float64\",\"shape\":[75]},\"y\":{\"__ndarray__\":\"GhExyth1ND/Sv8nbtpRIP2vylNV0PVE/aTum7souWD/At0SJ8fVgPw3Iuahxymc/MSNhhJWvcD/bTfBN02d3P2zb5nxnaoA/CD5h5MAGhz8NmeH1TyaQP+zrCsc9p5Y/LbKd76fGnz/bLW5ISEmmPww9YvTcQq8/JV2OstnstT8Er5Y7M8G+P0c+r3jqkcU/5h99k6ZBzj88bCIzFzjVP4enV8oyxN0//yH99nXg5D8qOpLLf0jtP5kqGJXUifQ/c9cS8kHP/D+/DpwzojQEQIEmwoanVwxA4lgXt9HgE0BSSZ2AJuIbQAMJih9jjiNA5q4l5INuK0AwTKYKRj0zQNv5fmq8/DpAaCJseHrtQkB/+zpwzoxKQM3MzMzMeFJAZmZmZmZqWEAAAAAAAFxeQM3MzMzMJmJAmpmZmZkfZUBmZmZmZhhoQDMzMzMzEWtAAAAAAAAKbkBmZmZmZoFwQM3MzMzM/XFAMzMzMzN6c0CamZmZmfZ0QAAAAAAAc3ZAZmZmZmbvd0DNzMzMzGt5QDMzMzMz6HpAmpmZmZlkfEAAAAAAAOF9QGZmZmZmXX9AZmZmZuZsgECamZmZGSuBQM3MzMxM6YFAAAAAAICngkAzMzMzs2WDQGZmZmbmI4RAmpmZmRnihEDNzMzMTKCFQAAAAACAXoZAMzMzM7Mch0BmZmZm5tqHQJqZmZkZmYhAzczMzExXiUAAAAAAgBWKQDMzMzOz04pAZmZmZuaRi0CamZmZGVCMQM3MzMxMDo1AAAAAAIDMjUAzMzMzs4qOQGZmZmbmSI9A\",\"dtype\":\"float64\",\"shape\":[75]}},\"selected\":{\"id\":\"564800fc-e128-431b-921d-88e44b1ac479\",\"type\":\"Selection\"},\"selection_policy\":{\"id\":\"31fc3cd0-49a6-476d-8675-8c490f09aed4\",\"type\":\"UnionRenderers\"}},\"id\":\"98ed4ac0-d50d-4275-9943-9b28d99b6834\",\"type\":\"ColumnDataSource\"},{\"attributes\":{\"line_alpha\":0.1,\"line_color\":\"#1f77b4\",\"line_dash\":[6],\"line_width\":5,\"x\":{\"field\":\"x\"},\"y\":{\"field\":\"y\"}},\"id\":\"0eb51837-1f84-4824-b457-ca75c426f500\",\"type\":\"Line\"},{\"attributes\":{},\"id\":\"9dca79d6-7768-4135-bbc6-9d7221096b31\",\"type\":\"HelpTool\"},{\"attributes\":{\"line_color\":\"#4daf4a\",\"line_width\":1.5,\"x\":{\"field\":\"x\"},\"y\":{\"field\":\"y\"}},\"id\":\"d324c074-9159-4b57-aad7-b582de6282d5\",\"type\":\"Line\"},{\"attributes\":{},\"id\":\"e1032d6f-3628-4d32-9de1-9f8e1b4fcbb1\",\"type\":\"UnionRenderers\"},{\"attributes\":{\"active_drag\":\"auto\",\"active_inspect\":\"auto\",\"active_scroll\":\"auto\",\"active_tap\":\"auto\",\"tools\":[{\"id\":\"7bb7039a-2cb8-4d71-95a2-a9d7ff7adb1f\",\"type\":\"PanTool\"},{\"id\":\"09a5a635-e2a2-4b0e-81ca-96a4a1096030\",\"type\":\"WheelZoomTool\"},{\"id\":\"289bce9d-7dad-4c0b-937a-23f9e021e423\",\"type\":\"BoxZoomTool\"},{\"id\":\"c66e6d98-6351-48bb-89c9-b648fe84f99a\",\"type\":\"SaveTool\"},{\"id\":\"156d84f0-d42d-44d7-81f0-a362596e434e\",\"type\":\"ResetTool\"},{\"id\":\"89610fab-8d14-4d5c-9718-082429368f91\",\"type\":\"HelpTool\"}]},\"id\":\"bdada647-095a-4e0a-8c68-c9692e47c4d7\",\"type\":\"Toolbar\"},{\"attributes\":{},\"id\":\"930e30b0-e533-4acf-beb0-ac6b4fd15e2f\",\"type\":\"BasicTickFormatter\"},{\"attributes\":{\"data_source\":{\"id\":\"b3f0c81b-241b-4a9d-9ee7-858e2259f4be\",\"type\":\"ColumnDataSource\"},\"glyph\":{\"id\":\"c02ccdad-2003-45bb-9406-e2243bd0b19a\",\"type\":\"Circle\"},\"hover_glyph\":null,\"muted_glyph\":null,\"nonselection_glyph\":{\"id\":\"4b690130-cce0-4562-9362-5a119312fa4d\",\"type\":\"Circle\"},\"selection_glyph\":null,\"view\":{\"id\":\"ca0ae8d5-944e-4139-96b2-15bc6747aeed\",\"type\":\"CDSView\"}},\"id\":\"964a533f-aa12-46a2-ae98-e791bde3186e\",\"type\":\"GlyphRenderer\"},{\"attributes\":{\"line_alpha\":0.6,\"line_color\":\"#e41a1c\",\"line_dash\":[6],\"line_width\":5,\"x\":{\"field\":\"x\"},\"y\":{\"field\":\"y\"}},\"id\":\"95f13ea5-65ac-40ba-aeda-11e57e006ae8\",\"type\":\"Line\"},{\"attributes\":{\"data_source\":{\"id\":\"8d19bf25-2094-48a4-afb9-1f788f6a1025\",\"type\":\"ColumnDataSource\"},\"glyph\":{\"id\":\"95f13ea5-65ac-40ba-aeda-11e57e006ae8\",\"type\":\"Line\"},\"hover_glyph\":null,\"muted_glyph\":null,\"nonselection_glyph\":{\"id\":\"0eb51837-1f84-4824-b457-ca75c426f500\",\"type\":\"Line\"},\"selection_glyph\":null,\"view\":{\"id\":\"3287e13b-4126-41f8-b1c3-c0756768a03d\",\"type\":\"CDSView\"}},\"id\":\"d00ad641-f103-4bf2-b63d-7e57a3bc389d\",\"type\":\"GlyphRenderer\"},{\"attributes\":{\"label\":{\"value\":\"CLIRAD\"},\"renderers\":[{\"id\":\"e2b77a17-d834-4324-bf78-d57e46f2faf2\",\"type\":\"GlyphRenderer\"}]},\"id\":\"46412882-f189-4aff-b8d8-891c920fc5ab\",\"type\":\"LegendItem\"},{\"attributes\":{\"fill_alpha\":{\"value\":0.1},\"fill_color\":{\"value\":\"#1f77b4\"},\"line_alpha\":{\"value\":0.1},\"line_color\":{\"value\":\"#1f77b4\"},\"x\":{\"field\":\"x\"},\"y\":{\"field\":\"y\"}},\"id\":\"d07d1b37-8aee-454b-b243-4229f7a9f66c\",\"type\":\"Circle\"},{\"attributes\":{\"fill_alpha\":{\"value\":0.1},\"fill_color\":{\"value\":\"#1f77b4\"},\"line_alpha\":{\"value\":0.1},\"line_color\":{\"value\":\"#1f77b4\"},\"x\":{\"field\":\"x\"},\"y\":{\"field\":\"y\"}},\"id\":\"4b690130-cce0-4562-9362-5a119312fa4d\",\"type\":\"Circle\"},{\"attributes\":{\"fill_alpha\":{\"value\":0.1},\"fill_color\":{\"value\":\"#1f77b4\"},\"line_alpha\":{\"value\":0.1},\"line_color\":{\"value\":\"#1f77b4\"},\"x\":{\"field\":\"x\"},\"y\":{\"field\":\"y\"}},\"id\":\"91ba9b74-9e2e-423c-8e8f-4523adb9d4a3\",\"type\":\"Circle\"},{\"attributes\":{\"label\":{\"value\":\"CRD\"},\"renderers\":[{\"id\":\"964a533f-aa12-46a2-ae98-e791bde3186e\",\"type\":\"GlyphRenderer\"},{\"id\":\"42391b0f-de43-43a5-84ce-e85c08a463f1\",\"type\":\"GlyphRenderer\"}]},\"id\":\"129f08de-7aec-405a-b894-cc0a4e9507a9\",\"type\":\"LegendItem\"},{\"attributes\":{},\"id\":\"a7b658c5-f0c4-4e56-8210-a85db2dacaa2\",\"type\":\"LinearScale\"},{\"attributes\":{\"callback\":null,\"data\":{\"x\":{\"__ndarray__\":\"3XuSHRbItr9Zx+QZo5G2v0mqf6jlG7a/1ueQ8pijtb+WNwbrnyq1v2ghq6ISs7S/Am8M900+tL8OMvRItsyzv9LrUeOeYbO/GpuuC2X/sr9PruK6Tauyv94EaCbbarK/FNBOSmRGsr8E9SEAHCGyvwiDFDfMIrC/xCaIczq0pb+10Muxh7mKvyWcX5KflJY/gznfJ8VJsD+Yg0Xq4tu8P3rrsk5L4sU/qOE6Sk67zT9wUZi9jUnPPzRgmGWyLMo/ZZY1mCO3wz9SeFQlX0O6Pz7qAJ9XcLA/D/YeFZxNpD9Q5J/S7nuZP8E3Qy2qnpA/7CmDtBAuhj8+YEAc1Nh7P3/x1Li6iWk/fv68/RSBR79mv3iLasZ/vwT3j8cE45G/HhLx6Nxzmr/KwGRXGCqevwSX23545J2/NtSuXWgbnr/zaYCYpRmev+mtONdbw52/wFPi6X4Wnb+buPmfLBecv4GMqYl4ypq//K4c4p41mb++msSfL12Xvy4eVYICRZW/H5canObvkr/r8tHVYl+Qv5Sc6PoLK4u/8IFLN/Ekhb9+gal6A1l9v1iUcxmn926/PBv9296MJL84lCbRjnxuP+Bu5b73JIA/pBDQltZTiT//E3+7vJ6RP0S6FGEH8ZY/Ygjn8JxvnD+8RJweeb+gP7758b3dl6I//A+XuUyPoz+/35CP2wSkP95uOuOqm6Q/bYjdtnDSpT8YciNnjM+nPywvY4Scaao/37Bl4B1srT/A7MQDz1+wP0Y+3bDVNLI/idfo4XNDtD9qk4jFr6W2P4q5sN1Zlbk/\",\"dtype\":\"float64\",\"shape\":[75]},\"y\":{\"__ndarray__\":\"GhExyth1ND/Sv8nbtpRIP2vylNV0PVE/aTum7souWD/At0SJ8fVgPw3Iuahxymc/MSNhhJWvcD/bTfBN02d3P2zb5nxnaoA/CD5h5MAGhz8NmeH1TyaQP+zrCsc9p5Y/LbKd76fGnz/bLW5ISEmmPww9YvTcQq8/JV2OstnstT8Er5Y7M8G+P0c+r3jqkcU/5h99k6ZBzj88bCIzFzjVP4enV8oyxN0//yH99nXg5D8qOpLLf0jtP5kqGJXUifQ/c9cS8kHP/D+/DpwzojQEQIEmwoanVwxA4lgXt9HgE0BSSZ2AJuIbQAMJih9jjiNA5q4l5INuK0AwTKYKRj0zQNv5fmq8/DpAaCJseHrtQkB/+zpwzoxKQM3MzMzMeFJAZmZmZmZqWEAAAAAAAFxeQM3MzMzMJmJAmpmZmZkfZUBmZmZmZhhoQDMzMzMzEWtAAAAAAAAKbkBmZmZmZoFwQM3MzMzM/XFAMzMzMzN6c0CamZmZmfZ0QAAAAAAAc3ZAZmZmZmbvd0DNzMzMzGt5QDMzMzMz6HpAmpmZmZlkfEAAAAAAAOF9QGZmZmZmXX9AZmZmZuZsgECamZmZGSuBQM3MzMxM6YFAAAAAAICngkAzMzMzs2WDQGZmZmbmI4RAmpmZmRnihEDNzMzMTKCFQAAAAACAXoZAMzMzM7Mch0BmZmZm5tqHQJqZmZkZmYhAzczMzExXiUAAAAAAgBWKQDMzMzOz04pAZmZmZuaRi0CamZmZGVCMQM3MzMxMDo1AAAAAAIDMjUAzMzMzs4qOQGZmZmbmSI9A\",\"dtype\":\"float64\",\"shape\":[75]}},\"selected\":{\"id\":\"66e18bac-43fa-44e8-b282-bbe3abe2784c\",\"type\":\"Selection\"},\"selection_policy\":{\"id\":\"dbf6a0c9-867f-4558-867a-f8e9522a095b\",\"type\":\"UnionRenderers\"}},\"id\":\"721f57e4-9ab1-46b4-a303-3dece4dda01c\",\"type\":\"ColumnDataSource\"},{\"attributes\":{},\"id\":\"11b13a55-bdca-4b60-b76c-d150e92a190d\",\"type\":\"LogScale\"},{\"attributes\":{\"above\":[{\"id\":\"6da7a10d-bda5-442f-aa42-6841c5f63ac8\",\"type\":\"Legend\"}],\"below\":[{\"id\":\"637451d3-a2fb-4d4e-b541-1bd92e0868f6\",\"type\":\"LinearAxis\"}],\"left\":[{\"id\":\"ee609f2e-8a5c-4c02-b9bc-c9e98ece75a9\",\"type\":\"LogAxis\"}],\"plot_width\":300,\"renderers\":[{\"id\":\"637451d3-a2fb-4d4e-b541-1bd92e0868f6\",\"type\":\"LinearAxis\"},{\"id\":\"519fdd76-9ea0-4607-bc87-d081a4a449cb\",\"type\":\"Grid\"},{\"id\":\"ee609f2e-8a5c-4c02-b9bc-c9e98ece75a9\",\"type\":\"LogAxis\"},{\"id\":\"b231e682-5792-4d51-8615-aa570d10d739\",\"type\":\"Grid\"},{\"id\":\"4f3dd1cc-cd50-4442-821c-1de9b39eb4f4\",\"type\":\"BoxAnnotation\"},{\"id\":\"86b3d04f-70aa-4b16-a908-ad8407cfe36e\",\"type\":\"GlyphRenderer\"},{\"id\":\"6d0c3019-cab2-41aa-bf0f-3fb10918fe02\",\"type\":\"GlyphRenderer\"},{\"id\":\"6da7a10d-bda5-442f-aa42-6841c5f63ac8\",\"type\":\"Legend\"}],\"title\":{\"id\":\"d3cf8e57-42fd-447f-9976-709e635c3b6f\",\"type\":\"Title\"},\"toolbar\":{\"id\":\"f23bf901-c677-4991-bc29-271472016811\",\"type\":\"Toolbar\"},\"toolbar_location\":null,\"x_range\":{\"id\":\"0dbe494d-21e7-4025-a641-9948fbe29373\",\"type\":\"Range1d\"},\"x_scale\":{\"id\":\"a172c423-6adc-49a8-af01-a3140826d122\",\"type\":\"LinearScale\"},\"y_range\":{\"id\":\"96e89740-7ffc-4c08-b36f-d5869bde0543\",\"type\":\"Range1d\"},\"y_scale\":{\"id\":\"11b13a55-bdca-4b60-b76c-d150e92a190d\",\"type\":\"LogScale\"}},\"id\":\"79074ec4-562d-46a7-a650-ceb5a1d6492c\",\"subtype\":\"Figure\",\"type\":\"Plot\"},{\"attributes\":{\"source\":{\"id\":\"721f57e4-9ab1-46b4-a303-3dece4dda01c\",\"type\":\"ColumnDataSource\"}},\"id\":\"f6070dad-1f91-4fbe-89a1-91e8f4fc8b65\",\"type\":\"CDSView\"},{\"attributes\":{\"plot\":{\"id\":\"04553a35-f1f3-4f07-a22f-98224d63150e\",\"subtype\":\"Figure\",\"type\":\"Plot\"},\"ticker\":{\"id\":\"8da0943c-b312-40e6-a555-017bea2aa3c7\",\"type\":\"BasicTicker\"}},\"id\":\"5438fe96-2b19-4898-8308-b813d89024dd\",\"type\":\"Grid\"},{\"attributes\":{},\"id\":\"903f04fc-9be4-4206-a18f-574952c9c4b2\",\"type\":\"UnionRenderers\"},{\"attributes\":{\"plot\":null,\"text\":\"\"},\"id\":\"d1627e82-8b54-4d0a-bc55-97108452dc50\",\"type\":\"Title\"},{\"attributes\":{},\"id\":\"b4ce8478-a0a3-4827-bb8c-b7114a3cc49b\",\"type\":\"LogScale\"},{\"attributes\":{\"axis_label\":\"cooling rate [K/day]\",\"formatter\":{\"id\":\"da2e3777-00fe-4491-b608-2d8350e874de\",\"type\":\"BasicTickFormatter\"},\"plot\":{\"id\":\"04553a35-f1f3-4f07-a22f-98224d63150e\",\"subtype\":\"Figure\",\"type\":\"Plot\"},\"ticker\":{\"id\":\"8da0943c-b312-40e6-a555-017bea2aa3c7\",\"type\":\"BasicTicker\"}},\"id\":\"7d481f75-eaf8-42db-ae9a-9588495ddd0a\",\"type\":\"LinearAxis\"},{\"attributes\":{\"num_minor_ticks\":10},\"id\":\"bbbc1bc6-b9d1-46f9-8f7a-8b65bd945eb6\",\"type\":\"LogTicker\"},{\"attributes\":{},\"id\":\"8da0943c-b312-40e6-a555-017bea2aa3c7\",\"type\":\"BasicTicker\"},{\"attributes\":{\"fill_alpha\":{\"value\":0.7},\"fill_color\":{\"value\":\"#984ea3\"},\"line_alpha\":{\"value\":0.7},\"line_color\":{\"value\":\"#984ea3\"},\"x\":{\"field\":\"x\"},\"y\":{\"field\":\"y\"}},\"id\":\"2fd021ca-2cac-4949-9da1-163c7a8a43f9\",\"type\":\"Circle\"},{\"attributes\":{\"line_alpha\":0.8,\"line_color\":\"#984ea3\",\"line_width\":1.5,\"x\":{\"field\":\"x\"},\"y\":{\"field\":\"y\"}},\"id\":\"731fd514-30de-4f1c-81ab-dce330cff3e2\",\"type\":\"Line\"},{\"attributes\":{\"axis_label\":\"pressure [mb]\",\"formatter\":{\"id\":\"d0c75b8a-2d4e-40f0-8c44-5b521daab355\",\"type\":\"LogTickFormatter\"},\"plot\":{\"id\":\"04553a35-f1f3-4f07-a22f-98224d63150e\",\"subtype\":\"Figure\",\"type\":\"Plot\"},\"ticker\":{\"id\":\"554b467f-d916-4d92-a617-65fc571d21f5\",\"type\":\"LogTicker\"}},\"id\":\"063f9f47-5293-4554-a877-a7d95244e63d\",\"type\":\"LogAxis\"},{\"attributes\":{},\"id\":\"564800fc-e128-431b-921d-88e44b1ac479\",\"type\":\"Selection\"},{\"attributes\":{\"line_alpha\":0.1,\"line_color\":\"#1f77b4\",\"line_dash\":[6],\"line_width\":5,\"x\":{\"field\":\"x\"},\"y\":{\"field\":\"y\"}},\"id\":\"6fe98a47-7461-42e4-b366-e370dd4f662a\",\"type\":\"Line\"},{\"attributes\":{\"num_minor_ticks\":10},\"id\":\"554b467f-d916-4d92-a617-65fc571d21f5\",\"type\":\"LogTicker\"},{\"attributes\":{},\"id\":\"6285c033-1ae8-4751-a968-4da41489c8bb\",\"type\":\"PanTool\"},{\"attributes\":{\"dimension\":1,\"plot\":{\"id\":\"04553a35-f1f3-4f07-a22f-98224d63150e\",\"subtype\":\"Figure\",\"type\":\"Plot\"},\"ticker\":{\"id\":\"554b467f-d916-4d92-a617-65fc571d21f5\",\"type\":\"LogTicker\"}},\"id\":\"f9a2a670-1e9c-4950-ac12-1c1745cdb403\",\"type\":\"Grid\"},{\"attributes\":{},\"id\":\"464720dc-d91c-4b4a-a4d2-c486fd648630\",\"type\":\"ResetTool\"},{\"attributes\":{},\"id\":\"dbf6a0c9-867f-4558-867a-f8e9522a095b\",\"type\":\"UnionRenderers\"},{\"attributes\":{\"axis_label\":\"cooling rate [K/day]\",\"formatter\":{\"id\":\"332d6bf4-f583-476d-9fa9-cac1b74720d6\",\"type\":\"BasicTickFormatter\"},\"plot\":{\"id\":\"79074ec4-562d-46a7-a650-ceb5a1d6492c\",\"subtype\":\"Figure\",\"type\":\"Plot\"},\"ticker\":{\"id\":\"0bb96ce1-cc2e-4781-be76-7779f885be58\",\"type\":\"BasicTicker\"}},\"id\":\"637451d3-a2fb-4d4e-b541-1bd92e0868f6\",\"type\":\"LinearAxis\"},{\"attributes\":{\"source\":{\"id\":\"6bbf282d-3451-46d6-85e3-39d72664cfb3\",\"type\":\"ColumnDataSource\"}},\"id\":\"3f258745-b2fc-4371-a004-38469c0844bf\",\"type\":\"CDSView\"},{\"attributes\":{\"overlay\":{\"id\":\"4f3dd1cc-cd50-4442-821c-1de9b39eb4f4\",\"type\":\"BoxAnnotation\"}},\"id\":\"4e7dacde-ac85-47c9-bb75-50a8bc45e7de\",\"type\":\"BoxZoomTool\"},{\"attributes\":{\"data_source\":{\"id\":\"e56a3a35-5163-4506-86d0-8616ea51acd4\",\"type\":\"ColumnDataSource\"},\"glyph\":{\"id\":\"731fd514-30de-4f1c-81ab-dce330cff3e2\",\"type\":\"Line\"},\"hover_glyph\":null,\"muted_glyph\":null,\"nonselection_glyph\":{\"id\":\"8f3a19da-2506-403f-b0f9-bd4e8fefd1e6\",\"type\":\"Line\"},\"selection_glyph\":null,\"view\":{\"id\":\"b545edcb-5df3-49d0-9cb8-7d7a25b0f666\",\"type\":\"CDSView\"}},\"id\":\"6d0c3019-cab2-41aa-bf0f-3fb10918fe02\",\"type\":\"GlyphRenderer\"},{\"attributes\":{},\"id\":\"ccae4e42-41ca-4510-ac37-323b2c8d105c\",\"type\":\"UnionRenderers\"},{\"attributes\":{\"bottom_units\":\"screen\",\"fill_alpha\":{\"value\":0.5},\"fill_color\":{\"value\":\"lightgrey\"},\"left_units\":\"screen\",\"level\":\"overlay\",\"line_alpha\":{\"value\":1.0},\"line_color\":{\"value\":\"black\"},\"line_dash\":[4,4],\"line_width\":{\"value\":2},\"plot\":null,\"render_mode\":\"css\",\"right_units\":\"screen\",\"top_units\":\"screen\"},\"id\":\"9a7e24b2-2f6e-4b33-856b-27110fb85fbf\",\"type\":\"BoxAnnotation\"},{\"attributes\":{\"dimension\":1,\"plot\":{\"id\":\"dd17bc5d-e40d-46d0-badb-75972d10ba7e\",\"subtype\":\"Figure\",\"type\":\"Plot\"},\"ticker\":{\"id\":\"bd50b18d-75e5-43a9-b53f-f5f77e32b62a\",\"type\":\"BasicTicker\"}},\"id\":\"7a56dfe7-51e1-49fe-8d65-26c76436000e\",\"type\":\"Grid\"},{\"attributes\":{},\"id\":\"7bb7039a-2cb8-4d71-95a2-a9d7ff7adb1f\",\"type\":\"PanTool\"},{\"attributes\":{},\"id\":\"a172c423-6adc-49a8-af01-a3140826d122\",\"type\":\"LinearScale\"},{\"attributes\":{},\"id\":\"29a188a9-5b4f-42eb-bcb5-d4e9096d16d8\",\"type\":\"UnionRenderers\"},{\"attributes\":{\"line_alpha\":0.6,\"line_color\":\"#e41a1c\",\"line_dash\":[6],\"line_width\":5,\"x\":{\"field\":\"x\"},\"y\":{\"field\":\"y\"}},\"id\":\"836a1af0-d3ca-444d-8987-b5fc937877a3\",\"type\":\"Line\"},{\"attributes\":{\"source\":{\"id\":\"3ac402df-d4fa-4e92-87ff-e6eb5b0452ff\",\"type\":\"ColumnDataSource\"}},\"id\":\"328c900f-6483-484a-af0e-0e9955ab12fe\",\"type\":\"CDSView\"},{\"attributes\":{},\"id\":\"09a5a635-e2a2-4b0e-81ca-96a4a1096030\",\"type\":\"WheelZoomTool\"},{\"attributes\":{\"line_alpha\":0.1,\"line_color\":\"#1f77b4\",\"line_width\":1.5,\"x\":{\"field\":\"x\"},\"y\":{\"field\":\"y\"}},\"id\":\"8f3a19da-2506-403f-b0f9-bd4e8fefd1e6\",\"type\":\"Line\"},{\"attributes\":{\"overlay\":{\"id\":\"9a7e24b2-2f6e-4b33-856b-27110fb85fbf\",\"type\":\"BoxAnnotation\"}},\"id\":\"289bce9d-7dad-4c0b-937a-23f9e021e423\",\"type\":\"BoxZoomTool\"},{\"attributes\":{\"dimension\":1,\"plot\":{\"id\":\"79074ec4-562d-46a7-a650-ceb5a1d6492c\",\"subtype\":\"Figure\",\"type\":\"Plot\"},\"ticker\":{\"id\":\"bbbc1bc6-b9d1-46f9-8f7a-8b65bd945eb6\",\"type\":\"LogTicker\"}},\"id\":\"b231e682-5792-4d51-8615-aa570d10d739\",\"type\":\"Grid\"},{\"attributes\":{\"callback\":null,\"data\":{\"x\":{\"__ndarray__\":\"WBkoUXjOoz8KBHv4pKajP6UHm8DIWaM/LS2Qkc0Eoz/ltChlsrWiP6mJDuZOZ6I/xpghedomoj+K8dm7uO2hP8Jhj6fqwKE/hq4UZ+SqoT/pTTgAiq2hP430Clo03KE/hZqLObQ6oj/clSv2ds+iP2nr8YzHVqI/kszOyD7Nnz8ymoMKiPWYPzGW2mxbfZE/wBckUtrogj8Apf1JW+BLP4C6etttk4G/8AkTJaXJkr+AeSSYSViMvwDQcuoU9WM/oMfmsurWjz/8oNOYtbmWP3yFGpJOtZQ/IOy58ZMPij/4UkyZLNJyP+B/ssnkS02/kBcCGzjpY78AhoWCLclVv0BFNiIkwzQ/WE1GWYKVTD+AKySHqWANP7AIc1htQFy/QIhPLWdear+Axdtckolvv0jE4NbnrnC/gGDBD2TDbr+ol9OJ9yhrv1i90Ko2Ami/GMOFBNi8ZL8AsVD+/Uhiv5CuC9KbcGC/oAfoBXJlXb9Qko34L79cv9BhHpzJ41u/IM8i/7/2W79gxyzMWddcvwiozOEbiV6/YL4/gjuAYL+kXTAnzQdhv0oNsot3PmK/DforH66RYr9qG8O/r2Fjv5wctUAGZGO/oGVJbgC+Y788veawVkhkv4DZ2wUBNGW/4H+L3kGdZr+4VvpX9idov8An3/dl7Gi/oEqISgcRZ7+gRIIRSktkvxBTbc3cl2G/IO3HDKUNX78gyzA/TtBav4ABHHg+zle/QHnB1XFkVL+AeMHnVCBNv4DMtk+e5ES/gKTP5u/gQr8A4/1xKGdLv6Bz5Esf72K/\",\"dtype\":\"float64\",\"shape\":[75]},\"y\":{\"__ndarray__\":\"GhExyth1ND/Sv8nbtpRIP2vylNV0PVE/aTum7souWD/At0SJ8fVgPw3Iuahxymc/MSNhhJWvcD/bTfBN02d3P2zb5nxnaoA/CD5h5MAGhz8NmeH1TyaQP+zrCsc9p5Y/LbKd76fGnz/bLW5ISEmmPww9YvTcQq8/JV2OstnstT8Er5Y7M8G+P0c+r3jqkcU/5h99k6ZBzj88bCIzFzjVP4enV8oyxN0//yH99nXg5D8qOpLLf0jtP5kqGJXUifQ/c9cS8kHP/D+/DpwzojQEQIEmwoanVwxA4lgXt9HgE0BSSZ2AJuIbQAMJih9jjiNA5q4l5INuK0AwTKYKRj0zQNv5fmq8/DpAaCJseHrtQkB/+zpwzoxKQM3MzMzMeFJAZmZmZmZqWEAAAAAAAFxeQM3MzMzMJmJAmpmZmZkfZUBmZmZmZhhoQDMzMzMzEWtAAAAAAAAKbkBmZmZmZoFwQM3MzMzM/XFAMzMzMzN6c0CamZmZmfZ0QAAAAAAAc3ZAZmZmZmbvd0DNzMzMzGt5QDMzMzMz6HpAmpmZmZlkfEAAAAAAAOF9QGZmZmZmXX9AZmZmZuZsgECamZmZGSuBQM3MzMxM6YFAAAAAAICngkAzMzMzs2WDQGZmZmbmI4RAmpmZmRnihEDNzMzMTKCFQAAAAACAXoZAMzMzM7Mch0BmZmZm5tqHQJqZmZkZmYhAzczMzExXiUAAAAAAgBWKQDMzMzOz04pAZmZmZuaRi0CamZmZGVCMQM3MzMxMDo1AAAAAAIDMjUAzMzMzs4qOQGZmZmbmSI9A\",\"dtype\":\"float64\",\"shape\":[75]}},\"selected\":{\"id\":\"0879eb37-69d0-4d2d-9c2d-3debdaf8c554\",\"type\":\"Selection\"},\"selection_policy\":{\"id\":\"d2c65a7c-5b0f-4b70-9d20-d81c954555c3\",\"type\":\"UnionRenderers\"}},\"id\":\"e56a3a35-5163-4506-86d0-8616ea51acd4\",\"type\":\"ColumnDataSource\"},{\"attributes\":{},\"id\":\"c66e6d98-6351-48bb-89c9-b648fe84f99a\",\"type\":\"SaveTool\"},{\"attributes\":{\"active_drag\":\"auto\",\"active_inspect\":\"auto\",\"active_scroll\":\"auto\",\"active_tap\":\"auto\",\"tools\":[{\"id\":\"6285c033-1ae8-4751-a968-4da41489c8bb\",\"type\":\"PanTool\"},{\"id\":\"3f6a4ec8-1aea-41db-813d-b5259ff4a2c8\",\"type\":\"WheelZoomTool\"},{\"id\":\"4e7dacde-ac85-47c9-bb75-50a8bc45e7de\",\"type\":\"BoxZoomTool\"},{\"id\":\"4f9bd1c9-d1d9-439d-b1b0-8f3ddfb281b3\",\"type\":\"SaveTool\"},{\"id\":\"464720dc-d91c-4b4a-a4d2-c486fd648630\",\"type\":\"ResetTool\"},{\"id\":\"9dca79d6-7768-4135-bbc6-9d7221096b31\",\"type\":\"HelpTool\"}]},\"id\":\"f23bf901-c677-4991-bc29-271472016811\",\"type\":\"Toolbar\"},{\"attributes\":{},\"id\":\"dcecff56-b514-41e5-a464-771d7c81f06d\",\"type\":\"Selection\"},{\"attributes\":{},\"id\":\"156d84f0-d42d-44d7-81f0-a362596e434e\",\"type\":\"ResetTool\"},{\"attributes\":{},\"id\":\"8980d960-180b-4af8-b18e-4a91271d5a16\",\"type\":\"BasicTickFormatter\"},{\"attributes\":{},\"id\":\"89610fab-8d14-4d5c-9718-082429368f91\",\"type\":\"HelpTool\"},{\"attributes\":{\"items\":[{\"id\":\"fb890477-d8e8-41c1-9c94-37ec437ea486\",\"type\":\"LegendItem\"}],\"label_text_font_size\":{\"value\":\"8pt\"},\"location\":\"top_center\",\"orientation\":\"horizontal\",\"plot\":{\"id\":\"79074ec4-562d-46a7-a650-ceb5a1d6492c\",\"subtype\":\"Figure\",\"type\":\"Plot\"}},\"id\":\"6da7a10d-bda5-442f-aa42-6841c5f63ac8\",\"type\":\"Legend\"},{\"attributes\":{},\"id\":\"31fc3cd0-49a6-476d-8675-8c490f09aed4\",\"type\":\"UnionRenderers\"},{\"attributes\":{\"plot\":null,\"text\":\"\"},\"id\":\"d3cf8e57-42fd-447f-9976-709e635c3b6f\",\"type\":\"Title\"},{\"attributes\":{\"ticker\":null},\"id\":\"d0c75b8a-2d4e-40f0-8c44-5b521daab355\",\"type\":\"LogTickFormatter\"},{\"attributes\":{},\"id\":\"0bb96ce1-cc2e-4781-be76-7779f885be58\",\"type\":\"BasicTicker\"},{\"attributes\":{},\"id\":\"3f6a4ec8-1aea-41db-813d-b5259ff4a2c8\",\"type\":\"WheelZoomTool\"},{\"attributes\":{},\"id\":\"da2e3777-00fe-4491-b608-2d8350e874de\",\"type\":\"BasicTickFormatter\"},{\"attributes\":{\"bottom_units\":\"screen\",\"fill_alpha\":{\"value\":0.5},\"fill_color\":{\"value\":\"lightgrey\"},\"left_units\":\"screen\",\"level\":\"overlay\",\"line_alpha\":{\"value\":1.0},\"line_color\":{\"value\":\"black\"},\"line_dash\":[4,4],\"line_width\":{\"value\":2},\"plot\":null,\"render_mode\":\"css\",\"right_units\":\"screen\",\"top_units\":\"screen\"},\"id\":\"4f3dd1cc-cd50-4442-821c-1de9b39eb4f4\",\"type\":\"BoxAnnotation\"},{\"attributes\":{},\"id\":\"d2df038d-ce45-41b5-930b-3b5efb5eb532\",\"type\":\"Selection\"},{\"attributes\":{\"plot\":null,\"text\":\"\"},\"id\":\"96bad01f-9a63-487b-b292-cb0a5739359e\",\"type\":\"Title\"},{\"attributes\":{\"callback\":null,\"end\":0.24761859694,\"start\":-0.07739593094000001},\"id\":\"018c5483-f66c-4715-a30a-09c7ee48a806\",\"type\":\"Range1d\"},{\"attributes\":{},\"id\":\"332d6bf4-f583-476d-9fa9-cac1b74720d6\",\"type\":\"BasicTickFormatter\"},{\"attributes\":{},\"id\":\"109ba379-2d90-4033-8773-0ab1a2728c2c\",\"type\":\"Selection\"},{\"attributes\":{\"label\":{\"value\":\"CLIRAD\"},\"renderers\":[{\"id\":\"d00ad641-f103-4bf2-b63d-7e57a3bc389d\",\"type\":\"GlyphRenderer\"}]},\"id\":\"ac3eeafc-189e-4a88-a693-374f1da3b357\",\"type\":\"LegendItem\"},{\"attributes\":{\"ticker\":null},\"id\":\"6ebaa4ea-b5d5-49a9-9381-535d7b842c23\",\"type\":\"LogTickFormatter\"},{\"attributes\":{},\"id\":\"c489ed0b-9f13-4f78-89f4-daa15524a11c\",\"type\":\"LinearScale\"},{\"attributes\":{\"axis_label\":\"pressure [mb]\",\"formatter\":{\"id\":\"6ebaa4ea-b5d5-49a9-9381-535d7b842c23\",\"type\":\"LogTickFormatter\"},\"plot\":{\"id\":\"79074ec4-562d-46a7-a650-ceb5a1d6492c\",\"subtype\":\"Figure\",\"type\":\"Plot\"},\"ticker\":{\"id\":\"bbbc1bc6-b9d1-46f9-8f7a-8b65bd945eb6\",\"type\":\"LogTicker\"}},\"id\":\"ee609f2e-8a5c-4c02-b9bc-c9e98ece75a9\",\"type\":\"LogAxis\"},{\"attributes\":{},\"id\":\"ee367a16-fe15-4b3f-96fc-37265946c3c8\",\"type\":\"UnionRenderers\"},{\"attributes\":{\"toolbar\":{\"id\":\"6db3072a-d0db-483f-890b-0bccf3c32faa\",\"type\":\"ProxyToolbar\"},\"toolbar_location\":\"above\"},\"id\":\"2ca83ec9-70ba-407d-ab41-e54f098031ec\",\"type\":\"ToolbarBox\"},{\"attributes\":{\"callback\":null,\"end\":0.01,\"start\":1020},\"id\":\"96e89740-7ffc-4c08-b36f-d5869bde0543\",\"type\":\"Range1d\"},{\"attributes\":{\"callback\":null,\"data\":{\"x\":{\"__ndarray__\":\"Yt786bPBqb+oik47oXypv+1MZJAC3qi/f6KRU2RCqL9HuuNwjZ+nvye5R1/W/qa/PkX3dMFVpr+Scg7Ws6ulv+J1FB9TAqW/rodIsOVTpL+1Do11Eamjvy8VxfKB+aK/owUSWxRSor8sVBgKwXKhv041bsKh3Zu/7AGDPGw2h7+uYztjiDGHPysZnX/9CKQ/e7wjcuCmsj/iftmgoxO9P9I/+3AUycQ/aoCYpRliyz/YCRYkCYTNP3QrQrmGfMo/3wJkQ5K0xT+RYImLzPG/P52Lh0OrnbU/F3GNEYHRqj8O+fL4eTCeP4RH6w2WaI8/CKTCrcIzgT++/p67iGZ2Pye6Gz0fImw/ZzslbrVRJD8Pd2o4qYt/v48nF50Lp5O/JgObzqm/nb+9HIBRpQ2hvwvkSToZCKG/I4DTb+r5oL90bt1EYr+gv8piSVbRYaC/Iwxz6hmun7+7zsNfTGCev1MC6wOM2Jy/di97AvYLm7/jc02fIimZv0sEFxw/A5e/EcQMnFKvlL9hv5Ry2CySv5UxIncv/I6/iHHbFwBFib8o2CAHde6Cv9HQklIPm3i/wcvrDHzaY7+b8cYivjVWP3JPcF3sl3Y/PLc9e1ZkhD+veMTKYyuOPxQ/WUCHSpQ/ZpgVtfSbmT+hPjly83meP0IHdF4XCaE/UovuRDweoj91u3juJsCiP62ZYxYtgqM/BEl3jgPapD+/6yn1CfmmPyBPopAqq6k/FaW3UfrIrD/PafVZjiWwP63QPXQMC7I/QDgbArIdtD+kl6R04W62P+2VUePg/bg/\",\"dtype\":\"float64\",\"shape\":[75]},\"y\":{\"__ndarray__\":\"GhExyth1ND/Sv8nbtpRIP2vylNV0PVE/aTum7souWD/At0SJ8fVgPw3Iuahxymc/MSNhhJWvcD/bTfBN02d3P2zb5nxnaoA/CD5h5MAGhz8NmeH1TyaQP+zrCsc9p5Y/LbKd76fGnz/bLW5ISEmmPww9YvTcQq8/JV2OstnstT8Er5Y7M8G+P0c+r3jqkcU/5h99k6ZBzj88bCIzFzjVP4enV8oyxN0//yH99nXg5D8qOpLLf0jtP5kqGJXUifQ/c9cS8kHP/D+/DpwzojQEQIEmwoanVwxA4lgXt9HgE0BSSZ2AJuIbQAMJih9jjiNA5q4l5INuK0AwTKYKRj0zQNv5fmq8/DpAaCJseHrtQkB/+zpwzoxKQM3MzMzMeFJAZmZmZmZqWEAAAAAAAFxeQM3MzMzMJmJAmpmZmZkfZUBmZmZmZhhoQDMzMzMzEWtAAAAAAAAKbkBmZmZmZoFwQM3MzMzM/XFAMzMzMzN6c0CamZmZmfZ0QAAAAAAAc3ZAZmZmZmbvd0DNzMzMzGt5QDMzMzMz6HpAmpmZmZlkfEAAAAAAAOF9QGZmZmZmXX9AZmZmZuZsgECamZmZGSuBQM3MzMxM6YFAAAAAAICngkAzMzMzs2WDQGZmZmbmI4RAmpmZmRnihEDNzMzMTKCFQAAAAACAXoZAMzMzM7Mch0BmZmZm5tqHQJqZmZkZmYhAzczMzExXiUAAAAAAgBWKQDMzMzOz04pAZmZmZuaRi0CamZmZGVCMQM3MzMxMDo1AAAAAAIDMjUAzMzMzs4qOQGZmZmbmSI9A\",\"dtype\":\"float64\",\"shape\":[75]}},\"selected\":{\"id\":\"e2d6b5ef-d1ff-46cf-b708-99fbc37801b4\",\"type\":\"Selection\"},\"selection_policy\":{\"id\":\"903f04fc-9be4-4206-a18f-574952c9c4b2\",\"type\":\"UnionRenderers\"}},\"id\":\"8d19bf25-2094-48a4-afb9-1f788f6a1025\",\"type\":\"ColumnDataSource\"},{\"attributes\":{},\"id\":\"0879eb37-69d0-4d2d-9c2d-3debdaf8c554\",\"type\":\"Selection\"},{\"attributes\":{\"tools\":[{\"id\":\"a8b63f53-5b61-4648-802f-1da90ce5ee71\",\"type\":\"PanTool\"},{\"id\":\"1bda9f3e-8181-439a-a804-6cb23e561622\",\"type\":\"WheelZoomTool\"},{\"id\":\"f86577c3-48b9-481c-bec0-eaa42300645f\",\"type\":\"BoxZoomTool\"},{\"id\":\"d656bc4f-fe32-4b83-bc89-c25584ae3781\",\"type\":\"SaveTool\"},{\"id\":\"23e02a29-aa27-43a8-a028-29372b46724a\",\"type\":\"ResetTool\"},{\"id\":\"ecbc84d0-ad55-4cc7-8fba-fb1c5b1cdb83\",\"type\":\"HelpTool\"},{\"id\":\"7bb7039a-2cb8-4d71-95a2-a9d7ff7adb1f\",\"type\":\"PanTool\"},{\"id\":\"09a5a635-e2a2-4b0e-81ca-96a4a1096030\",\"type\":\"WheelZoomTool\"},{\"id\":\"289bce9d-7dad-4c0b-937a-23f9e021e423\",\"type\":\"BoxZoomTool\"},{\"id\":\"c66e6d98-6351-48bb-89c9-b648fe84f99a\",\"type\":\"SaveTool\"},{\"id\":\"156d84f0-d42d-44d7-81f0-a362596e434e\",\"type\":\"ResetTool\"},{\"id\":\"89610fab-8d14-4d5c-9718-082429368f91\",\"type\":\"HelpTool\"},{\"id\":\"6285c033-1ae8-4751-a968-4da41489c8bb\",\"type\":\"PanTool\"},{\"id\":\"3f6a4ec8-1aea-41db-813d-b5259ff4a2c8\",\"type\":\"WheelZoomTool\"},{\"id\":\"4e7dacde-ac85-47c9-bb75-50a8bc45e7de\",\"type\":\"BoxZoomTool\"},{\"id\":\"4f9bd1c9-d1d9-439d-b1b0-8f3ddfb281b3\",\"type\":\"SaveTool\"},{\"id\":\"464720dc-d91c-4b4a-a4d2-c486fd648630\",\"type\":\"ResetTool\"},{\"id\":\"9dca79d6-7768-4135-bbc6-9d7221096b31\",\"type\":\"HelpTool\"}]},\"id\":\"6db3072a-d0db-483f-890b-0bccf3c32faa\",\"type\":\"ProxyToolbar\"},{\"attributes\":{\"plot\":{\"id\":\"79074ec4-562d-46a7-a650-ceb5a1d6492c\",\"subtype\":\"Figure\",\"type\":\"Plot\"},\"ticker\":{\"id\":\"0bb96ce1-cc2e-4781-be76-7779f885be58\",\"type\":\"BasicTicker\"}},\"id\":\"519fdd76-9ea0-4607-bc87-d081a4a449cb\",\"type\":\"Grid\"},{\"attributes\":{\"callback\":null,\"end\":0.01,\"start\":1020},\"id\":\"51430189-195d-465e-9d3b-002c90db6ab6\",\"type\":\"Range1d\"},{\"attributes\":{},\"id\":\"66e18bac-43fa-44e8-b282-bbe3abe2784c\",\"type\":\"Selection\"},{\"attributes\":{\"children\":[{\"id\":\"2ca83ec9-70ba-407d-ab41-e54f098031ec\",\"type\":\"ToolbarBox\"},{\"id\":\"c2a73651-71e5-4bab-b75a-0384cb9bd337\",\"type\":\"Column\"}]},\"id\":\"bd52b0fd-17d2-413e-878c-d3aab7a049c7\",\"type\":\"Column\"},{\"attributes\":{},\"id\":\"d2c65a7c-5b0f-4b70-9d20-d81c954555c3\",\"type\":\"UnionRenderers\"},{\"attributes\":{\"plot\":{\"id\":\"dd17bc5d-e40d-46d0-badb-75972d10ba7e\",\"subtype\":\"Figure\",\"type\":\"Plot\"},\"ticker\":{\"id\":\"28930281-e7ee-455a-9c8f-b732367d780e\",\"type\":\"BasicTicker\"}},\"id\":\"ffc84839-2c9b-447d-88ee-b7fb304a64d6\",\"type\":\"Grid\"},{\"attributes\":{},\"id\":\"28930281-e7ee-455a-9c8f-b732367d780e\",\"type\":\"BasicTicker\"},{\"attributes\":{},\"id\":\"d656bc4f-fe32-4b83-bc89-c25584ae3781\",\"type\":\"SaveTool\"},{\"attributes\":{\"label\":{\"value\":\"CRD\"},\"renderers\":[{\"id\":\"4d01fc60-08a5-4a76-8cd1-9918777bf7ca\",\"type\":\"GlyphRenderer\"},{\"id\":\"74f972bd-354f-458c-ac70-a6d2c5b120be\",\"type\":\"GlyphRenderer\"}]},\"id\":\"4ccb48b1-35f7-4862-942f-21fc27f493bc\",\"type\":\"LegendItem\"},{\"attributes\":{\"axis_label\":\"cooling rate [K/day]\",\"formatter\":{\"id\":\"8980d960-180b-4af8-b18e-4a91271d5a16\",\"type\":\"BasicTickFormatter\"},\"plot\":{\"id\":\"dd17bc5d-e40d-46d0-badb-75972d10ba7e\",\"subtype\":\"Figure\",\"type\":\"Plot\"},\"ticker\":{\"id\":\"28930281-e7ee-455a-9c8f-b732367d780e\",\"type\":\"BasicTicker\"}},\"id\":\"baf64525-2768-4219-b474-a599bd63fbaf\",\"type\":\"LinearAxis\"},{\"attributes\":{},\"id\":\"1bda9f3e-8181-439a-a804-6cb23e561622\",\"type\":\"WheelZoomTool\"},{\"attributes\":{\"overlay\":{\"id\":\"63924533-9f3d-4c2f-a726-05ea55a53c2c\",\"type\":\"BoxAnnotation\"}},\"id\":\"f86577c3-48b9-481c-bec0-eaa42300645f\",\"type\":\"BoxZoomTool\"},{\"attributes\":{\"callback\":null,\"end\":0.10126758999999999,\"start\":-0.034639658},\"id\":\"92210c22-b2d3-46a1-b4fa-81191a94fdc0\",\"type\":\"Range1d\"},{\"attributes\":{\"items\":[{\"id\":\"46412882-f189-4aff-b8d8-891c920fc5ab\",\"type\":\"LegendItem\"},{\"id\":\"129f08de-7aec-405a-b894-cc0a4e9507a9\",\"type\":\"LegendItem\"}],\"label_text_font_size\":{\"value\":\"8pt\"},\"location\":\"top_center\",\"orientation\":\"horizontal\",\"plot\":{\"id\":\"dd17bc5d-e40d-46d0-badb-75972d10ba7e\",\"subtype\":\"Figure\",\"type\":\"Plot\"}},\"id\":\"9efb90d8-095b-49f7-b293-40d09f5ec133\",\"type\":\"Legend\"},{\"attributes\":{\"callback\":null,\"end\":0.01,\"start\":1020},\"id\":\"10c880a7-0899-496a-8d9b-34d9197a509e\",\"type\":\"Range1d\"},{\"attributes\":{},\"id\":\"23e02a29-aa27-43a8-a028-29372b46724a\",\"type\":\"ResetTool\"},{\"attributes\":{\"bottom_units\":\"screen\",\"fill_alpha\":{\"value\":0.5},\"fill_color\":{\"value\":\"lightgrey\"},\"left_units\":\"screen\",\"level\":\"overlay\",\"line_alpha\":{\"value\":1.0},\"line_color\":{\"value\":\"black\"},\"line_dash\":[4,4],\"line_width\":{\"value\":2},\"plot\":null,\"render_mode\":\"css\",\"right_units\":\"screen\",\"top_units\":\"screen\"},\"id\":\"63924533-9f3d-4c2f-a726-05ea55a53c2c\",\"type\":\"BoxAnnotation\"},{\"attributes\":{\"active_drag\":\"auto\",\"active_inspect\":\"auto\",\"active_scroll\":\"auto\",\"active_tap\":\"auto\",\"tools\":[{\"id\":\"a8b63f53-5b61-4648-802f-1da90ce5ee71\",\"type\":\"PanTool\"},{\"id\":\"1bda9f3e-8181-439a-a804-6cb23e561622\",\"type\":\"WheelZoomTool\"},{\"id\":\"f86577c3-48b9-481c-bec0-eaa42300645f\",\"type\":\"BoxZoomTool\"},{\"id\":\"d656bc4f-fe32-4b83-bc89-c25584ae3781\",\"type\":\"SaveTool\"},{\"id\":\"23e02a29-aa27-43a8-a028-29372b46724a\",\"type\":\"ResetTool\"},{\"id\":\"ecbc84d0-ad55-4cc7-8fba-fb1c5b1cdb83\",\"type\":\"HelpTool\"}]},\"id\":\"d9df23f6-30ab-4d54-88a8-604307947de6\",\"type\":\"Toolbar\"},{\"attributes\":{},\"id\":\"ecbc84d0-ad55-4cc7-8fba-fb1c5b1cdb83\",\"type\":\"HelpTool\"},{\"attributes\":{\"above\":[{\"id\":\"9efb90d8-095b-49f7-b293-40d09f5ec133\",\"type\":\"Legend\"}],\"below\":[{\"id\":\"baf64525-2768-4219-b474-a599bd63fbaf\",\"type\":\"LinearAxis\"}],\"left\":[{\"id\":\"5f442e70-1cb3-4379-ba86-1279e88b1241\",\"type\":\"LinearAxis\"}],\"plot_width\":300,\"renderers\":[{\"id\":\"baf64525-2768-4219-b474-a599bd63fbaf\",\"type\":\"LinearAxis\"},{\"id\":\"ffc84839-2c9b-447d-88ee-b7fb304a64d6\",\"type\":\"Grid\"},{\"id\":\"5f442e70-1cb3-4379-ba86-1279e88b1241\",\"type\":\"LinearAxis\"},{\"id\":\"7a56dfe7-51e1-49fe-8d65-26c76436000e\",\"type\":\"Grid\"},{\"id\":\"63924533-9f3d-4c2f-a726-05ea55a53c2c\",\"type\":\"BoxAnnotation\"},{\"id\":\"e2b77a17-d834-4324-bf78-d57e46f2faf2\",\"type\":\"GlyphRenderer\"},{\"id\":\"964a533f-aa12-46a2-ae98-e791bde3186e\",\"type\":\"GlyphRenderer\"},{\"id\":\"42391b0f-de43-43a5-84ce-e85c08a463f1\",\"type\":\"GlyphRenderer\"},{\"id\":\"9efb90d8-095b-49f7-b293-40d09f5ec133\",\"type\":\"Legend\"}],\"title\":{\"id\":\"d1627e82-8b54-4d0a-bc55-97108452dc50\",\"type\":\"Title\"},\"toolbar\":{\"id\":\"d9df23f6-30ab-4d54-88a8-604307947de6\",\"type\":\"Toolbar\"},\"toolbar_location\":null,\"x_range\":{\"id\":\"92210c22-b2d3-46a1-b4fa-81191a94fdc0\",\"type\":\"Range1d\"},\"x_scale\":{\"id\":\"ee59257a-c22c-4515-a65d-fb4f031cb4fe\",\"type\":\"LinearScale\"},\"y_range\":{\"id\":\"10c880a7-0899-496a-8d9b-34d9197a509e\",\"type\":\"Range1d\"},\"y_scale\":{\"id\":\"c489ed0b-9f13-4f78-89f4-daa15524a11c\",\"type\":\"LinearScale\"}},\"id\":\"dd17bc5d-e40d-46d0-badb-75972d10ba7e\",\"subtype\":\"Figure\",\"type\":\"Plot\"},{\"attributes\":{\"callback\":null,\"data\":{\"x\":{\"__ndarray__\":\"Yt786bPBqb+oik47oXypv+1MZJAC3qi/f6KRU2RCqL9HuuNwjZ+nvye5R1/W/qa/PkX3dMFVpr+Scg7Ws6ulv+J1FB9TAqW/rodIsOVTpL+1Do11Eamjvy8VxfKB+aK/owUSWxRSor8sVBgKwXKhv041bsKh3Zu/7AGDPGw2h7+uYztjiDGHPysZnX/9CKQ/e7wjcuCmsj/iftmgoxO9P9I/+3AUycQ/aoCYpRliyz/YCRYkCYTNP3QrQrmGfMo/3wJkQ5K0xT+RYImLzPG/P52Lh0OrnbU/F3GNEYHRqj8O+fL4eTCeP4RH6w2WaI8/CKTCrcIzgT++/p67iGZ2Pye6Gz0fImw/ZzslbrVRJD8Pd2o4qYt/v48nF50Lp5O/JgObzqm/nb+9HIBRpQ2hvwvkSToZCKG/I4DTb+r5oL90bt1EYr+gv8piSVbRYaC/Iwxz6hmun7+7zsNfTGCev1MC6wOM2Jy/di97AvYLm7/jc02fIimZv0sEFxw/A5e/EcQMnFKvlL9hv5Ry2CySv5UxIncv/I6/iHHbFwBFib8o2CAHde6Cv9HQklIPm3i/wcvrDHzaY7+b8cYivjVWP3JPcF3sl3Y/PLc9e1ZkhD+veMTKYyuOPxQ/WUCHSpQ/ZpgVtfSbmT+hPjly83meP0IHdF4XCaE/UovuRDweoj91u3juJsCiP62ZYxYtgqM/BEl3jgPapD+/6yn1CfmmPyBPopAqq6k/FaW3UfrIrD/PafVZjiWwP63QPXQMC7I/QDgbArIdtD+kl6R04W62P+2VUePg/bg/\",\"dtype\":\"float64\",\"shape\":[75]},\"y\":{\"__ndarray__\":\"GhExyth1ND/Sv8nbtpRIP2vylNV0PVE/aTum7souWD/At0SJ8fVgPw3Iuahxymc/MSNhhJWvcD/bTfBN02d3P2zb5nxnaoA/CD5h5MAGhz8NmeH1TyaQP+zrCsc9p5Y/LbKd76fGnz/bLW5ISEmmPww9YvTcQq8/JV2OstnstT8Er5Y7M8G+P0c+r3jqkcU/5h99k6ZBzj88bCIzFzjVP4enV8oyxN0//yH99nXg5D8qOpLLf0jtP5kqGJXUifQ/c9cS8kHP/D+/DpwzojQEQIEmwoanVwxA4lgXt9HgE0BSSZ2AJuIbQAMJih9jjiNA5q4l5INuK0AwTKYKRj0zQNv5fmq8/DpAaCJseHrtQkB/+zpwzoxKQM3MzMzMeFJAZmZmZmZqWEAAAAAAAFxeQM3MzMzMJmJAmpmZmZkfZUBmZmZmZhhoQDMzMzMzEWtAAAAAAAAKbkBmZmZmZoFwQM3MzMzM/XFAMzMzMzN6c0CamZmZmfZ0QAAAAAAAc3ZAZmZmZmbvd0DNzMzMzGt5QDMzMzMz6HpAmpmZmZlkfEAAAAAAAOF9QGZmZmZmXX9AZmZmZuZsgECamZmZGSuBQM3MzMxM6YFAAAAAAICngkAzMzMzs2WDQGZmZmbmI4RAmpmZmRnihEDNzMzMTKCFQAAAAACAXoZAMzMzM7Mch0BmZmZm5tqHQJqZmZkZmYhAzczMzExXiUAAAAAAgBWKQDMzMzOz04pAZmZmZuaRi0CamZmZGVCMQM3MzMxMDo1AAAAAAIDMjUAzMzMzs4qOQGZmZmbmSI9A\",\"dtype\":\"float64\",\"shape\":[75]}},\"selected\":{\"id\":\"06c621f7-4b65-49cc-bf8d-277ee426a9e5\",\"type\":\"Selection\"},\"selection_policy\":{\"id\":\"29a188a9-5b4f-42eb-bcb5-d4e9096d16d8\",\"type\":\"UnionRenderers\"}},\"id\":\"ef03769c-c7dc-43f6-b45e-06b6f0da30a6\",\"type\":\"ColumnDataSource\"},{\"attributes\":{},\"id\":\"a8b63f53-5b61-4648-802f-1da90ce5ee71\",\"type\":\"PanTool\"}],\"root_ids\":[\"bd52b0fd-17d2-413e-878c-d3aab7a049c7\"]},\"title\":\"Bokeh Application\",\"version\":\"0.12.16\"}};\n",
       "  var render_items = [{\"docid\":\"ae56aa01-c8ae-4f32-ba7f-48133d65cf1e\",\"elementid\":\"f5de21cd-4ece-41ae-b0eb-ea6feb9a0b60\",\"modelid\":\"bd52b0fd-17d2-413e-878c-d3aab7a049c7\"}];\n",
       "  root.Bokeh.embed.embed_items_notebook(docs_json, render_items);\n",
       "\n",
       "  }\n",
       "  if (root.Bokeh !== undefined) {\n",
       "    embed_document(root);\n",
       "  } else {\n",
       "    var attempts = 0;\n",
       "    var timer = setInterval(function(root) {\n",
       "      if (root.Bokeh !== undefined) {\n",
       "        embed_document(root);\n",
       "        clearInterval(timer);\n",
       "      }\n",
       "      attempts++;\n",
       "      if (attempts > 100) {\n",
       "        console.log(\"Bokeh: ERROR: Unable to run BokehJS code because BokehJS library is missing\")\n",
       "        clearInterval(timer);\n",
       "      }\n",
       "    }, 10, root)\n",
       "  }\n",
       "})(window);"
      ],
      "application/vnd.bokehjs_exec.v0+json": ""
     },
     "metadata": {
      "application/vnd.bokehjs_exec.v0+json": {
       "id": "bd52b0fd-17d2-413e-878c-d3aab7a049c7"
      }
     },
     "output_type": "display_data"
    },
    {
     "data": {
      "text/markdown": [
       "*FIGURE.* Cooling rates & difference."
      ],
      "text/plain": [
       "<IPython.core.display.Markdown object>"
      ]
     },
     "metadata": {},
     "output_type": "display_data"
    },
    {
     "data": {
      "text/html": [
       "<a id=\"Fluxes._trp.\"></a>"
      ],
      "text/plain": [
       "<IPython.core.display.HTML object>"
      ]
     },
     "metadata": {},
     "output_type": "display_data"
    },
    {
     "data": {
      "text/markdown": [
       "# Fluxes. trp."
      ],
      "text/plain": [
       "<IPython.core.display.Markdown object>"
      ]
     },
     "metadata": {},
     "output_type": "display_data"
    },
    {
     "data": {
      "text/html": [
       "\n",
       "<div class=\"bk-root\">\n",
       "    <div class=\"bk-plotdiv\" id=\"3d6d4ad3-affb-466a-9c8e-6515d4eae32f\"></div>\n",
       "</div>"
      ]
     },
     "metadata": {},
     "output_type": "display_data"
    },
    {
     "data": {
      "application/javascript": [
       "(function(root) {\n",
       "  function embed_document(root) {\n",
       "    \n",
       "  var docs_json = {\"e18c79aa-328d-4284-95fb-720fa7fc5990\":{\"roots\":{\"references\":[{\"attributes\":{\"plot\":null,\"text\":\"TOA flux. CLIRAD - CRD.\"},\"id\":\"719cfeae-038e-4818-af1e-eeac4f5d1b44\",\"type\":\"Title\"},{\"attributes\":{\"plot\":null,\"text\":\"Atmosphere heating. CLIRAD - CRD.\"},\"id\":\"4bd41d6a-b8fa-43ed-bea9-fba6ec8a9342\",\"type\":\"Title\"},{\"attributes\":{},\"id\":\"c08744d9-b0dd-4af9-882c-533ec480a60d\",\"type\":\"HelpTool\"},{\"attributes\":{},\"id\":\"659efbac-5c81-45f5-958a-152ccb284aa5\",\"type\":\"Selection\"},{\"attributes\":{\"data_source\":{\"id\":\"32a2bf95-3e1f-42b5-92aa-8f898ae9f822\",\"type\":\"ColumnDataSource\"},\"glyph\":{\"id\":\"ec7e9387-6a33-4d9b-b576-495a2b3edaa9\",\"type\":\"VBar\"},\"hover_glyph\":null,\"muted_glyph\":null,\"nonselection_glyph\":{\"id\":\"dac1c8aa-8e92-4d66-a2ec-4900a50d1b6e\",\"type\":\"VBar\"},\"selection_glyph\":null,\"view\":{\"id\":\"c570a738-b4ea-42ee-9ec6-e6e04ab3465b\",\"type\":\"CDSView\"}},\"id\":\"8e9d5e2c-ece3-4ac4-afe1-c4d3ddfdeae4\",\"type\":\"GlyphRenderer\"},{\"attributes\":{\"plot\":{\"id\":\"5604dbec-a588-4f97-8ac8-f42a24a45e97\",\"subtype\":\"Figure\",\"type\":\"Plot\"},\"ticker\":{\"id\":\"89c5efe6-b2bc-4ecb-9163-0909c621e0b4\",\"type\":\"CategoricalTicker\"}},\"id\":\"e31d105a-0623-4e59-b7a8-d8ea488d076b\",\"type\":\"Grid\"},{\"attributes\":{\"dimension\":1,\"plot\":{\"id\":\"cce8fd85-b06a-429a-afa3-184c4ebeb9ed\",\"subtype\":\"Figure\",\"type\":\"Plot\"},\"ticker\":{\"id\":\"4e1b9615-1945-42e0-9f63-dffc9522d5f5\",\"type\":\"BasicTicker\"}},\"id\":\"28fa19bf-9629-44ec-8d49-7ca3647bb59c\",\"type\":\"Grid\"},{\"attributes\":{\"callback\":null,\"data\":{\"band\":[\"9\"],\"flux\":{\"__ndarray__\":\"AIJStHIvoL8=\",\"dtype\":\"float64\",\"shape\":[1]}},\"selected\":{\"id\":\"659efbac-5c81-45f5-958a-152ccb284aa5\",\"type\":\"Selection\"},\"selection_policy\":{\"id\":\"4c8464d4-ce92-4c76-b426-d0fb803a504b\",\"type\":\"UnionRenderers\"}},\"id\":\"46bd395a-3763-4ce3-99f7-655ddfa31880\",\"type\":\"ColumnDataSource\"},{\"attributes\":{},\"id\":\"674fe482-717a-4539-92a8-486b8d594378\",\"type\":\"WheelZoomTool\"},{\"attributes\":{\"bottom_units\":\"screen\",\"fill_alpha\":{\"value\":0.5},\"fill_color\":{\"value\":\"lightgrey\"},\"left_units\":\"screen\",\"level\":\"overlay\",\"line_alpha\":{\"value\":1.0},\"line_color\":{\"value\":\"black\"},\"line_dash\":[4,4],\"line_width\":{\"value\":2},\"plot\":null,\"render_mode\":\"css\",\"right_units\":\"screen\",\"top_units\":\"screen\"},\"id\":\"9bd613b1-3703-4742-bedc-3211a69f4c05\",\"type\":\"BoxAnnotation\"},{\"attributes\":{},\"id\":\"43fbe52f-6206-461f-9cf8-44a03d4fdc06\",\"type\":\"BasicTickFormatter\"},{\"attributes\":{\"callback\":null,\"data\":{\"band\":[\"9\"],\"flux\":{\"__ndarray__\":\"gLcpHhfVzj8=\",\"dtype\":\"float64\",\"shape\":[1]}},\"selected\":{\"id\":\"6aad2653-9296-447b-87e5-82c1426a28e6\",\"type\":\"Selection\"},\"selection_policy\":{\"id\":\"83308014-6947-4c9d-a608-952a88a7cac7\",\"type\":\"UnionRenderers\"}},\"id\":\"9ec92c6e-7b9b-41e3-a218-736977ab454c\",\"type\":\"ColumnDataSource\"},{\"attributes\":{},\"id\":\"17e3ad80-2cdc-476b-b420-da19dc8c5bf8\",\"type\":\"ResetTool\"},{\"attributes\":{\"below\":[{\"id\":\"8fe91051-c296-4676-b1b7-6f3c86918a41\",\"type\":\"CategoricalAxis\"}],\"left\":[{\"id\":\"7f8e81aa-b104-4439-90c0-582b9076f353\",\"type\":\"LinearAxis\"}],\"plot_height\":300,\"plot_width\":300,\"renderers\":[{\"id\":\"8fe91051-c296-4676-b1b7-6f3c86918a41\",\"type\":\"CategoricalAxis\"},{\"id\":\"cfe96e6a-2718-4b81-b1f7-335068d4afb8\",\"type\":\"Grid\"},{\"id\":\"7f8e81aa-b104-4439-90c0-582b9076f353\",\"type\":\"LinearAxis\"},{\"id\":\"28fa19bf-9629-44ec-8d49-7ca3647bb59c\",\"type\":\"Grid\"},{\"id\":\"9bd613b1-3703-4742-bedc-3211a69f4c05\",\"type\":\"BoxAnnotation\"},{\"id\":\"282b6659-a552-43c4-b728-1d9ca3dbff19\",\"type\":\"GlyphRenderer\"}],\"title\":{\"id\":\"719cfeae-038e-4818-af1e-eeac4f5d1b44\",\"type\":\"Title\"},\"toolbar\":{\"id\":\"130b619b-35ea-4e08-8357-4b73aec186c2\",\"type\":\"Toolbar\"},\"toolbar_location\":null,\"x_range\":{\"id\":\"57b9848f-c7c1-496d-827f-2b2169ee4753\",\"type\":\"FactorRange\"},\"x_scale\":{\"id\":\"ff7ea44c-210e-464a-9388-b7430e4ed784\",\"type\":\"CategoricalScale\"},\"y_range\":{\"id\":\"4c78b78e-0081-4a8b-b8e8-7ab207d98373\",\"type\":\"DataRange1d\"},\"y_scale\":{\"id\":\"d69e6489-54ac-498c-a235-7b45860af132\",\"type\":\"LinearScale\"}},\"id\":\"cce8fd85-b06a-429a-afa3-184c4ebeb9ed\",\"subtype\":\"Figure\",\"type\":\"Plot\"},{\"attributes\":{},\"id\":\"db73009b-e8e4-47f7-a9ad-5816560737b7\",\"type\":\"BasicTickFormatter\"},{\"attributes\":{\"below\":[{\"id\":\"f043976a-c29d-492b-a7bb-ca57fab5af93\",\"type\":\"CategoricalAxis\"}],\"left\":[{\"id\":\"ffcd248a-ba53-4e47-952c-5db321557565\",\"type\":\"LinearAxis\"}],\"plot_height\":300,\"plot_width\":300,\"renderers\":[{\"id\":\"f043976a-c29d-492b-a7bb-ca57fab5af93\",\"type\":\"CategoricalAxis\"},{\"id\":\"ef87eb37-bdde-4c99-91ad-0972e6f1a47d\",\"type\":\"Grid\"},{\"id\":\"ffcd248a-ba53-4e47-952c-5db321557565\",\"type\":\"LinearAxis\"},{\"id\":\"cf625fa5-d068-448d-a1d2-bfc2e743a7e7\",\"type\":\"Grid\"},{\"id\":\"ce7d668c-3c6e-485b-b950-25a089ecad5f\",\"type\":\"BoxAnnotation\"},{\"id\":\"14ebdebb-7b56-47ec-a722-544687f3f23e\",\"type\":\"GlyphRenderer\"}],\"title\":{\"id\":\"4bd41d6a-b8fa-43ed-bea9-fba6ec8a9342\",\"type\":\"Title\"},\"toolbar\":{\"id\":\"053afc3a-0026-479c-84e5-36e446bcc594\",\"type\":\"Toolbar\"},\"toolbar_location\":null,\"x_range\":{\"id\":\"099a0f7e-f838-490a-8f61-055de0070910\",\"type\":\"FactorRange\"},\"x_scale\":{\"id\":\"43f2cf49-0c38-411f-a6c4-dba86d2ef7e5\",\"type\":\"CategoricalScale\"},\"y_range\":{\"id\":\"bca5eea4-9a64-4865-802b-92e9dcae0e84\",\"type\":\"DataRange1d\"},\"y_scale\":{\"id\":\"fec3ca91-a389-4cb7-bc35-c59ba8dcb63d\",\"type\":\"LinearScale\"}},\"id\":\"951d90c8-4c28-4bca-ab01-ca2cc92d4154\",\"subtype\":\"Figure\",\"type\":\"Plot\"},{\"attributes\":{},\"id\":\"27d1fee1-a1c9-41a9-9a64-e31c946e12b3\",\"type\":\"CategoricalScale\"},{\"attributes\":{},\"id\":\"4e1b9615-1945-42e0-9f63-dffc9522d5f5\",\"type\":\"BasicTicker\"},{\"attributes\":{\"plot\":{\"id\":\"cce8fd85-b06a-429a-afa3-184c4ebeb9ed\",\"subtype\":\"Figure\",\"type\":\"Plot\"},\"ticker\":{\"id\":\"415fe0d5-d33c-4978-a791-429dad735972\",\"type\":\"CategoricalTicker\"}},\"id\":\"cfe96e6a-2718-4b81-b1f7-335068d4afb8\",\"type\":\"Grid\"},{\"attributes\":{\"active_drag\":\"auto\",\"active_inspect\":\"auto\",\"active_scroll\":\"auto\",\"active_tap\":\"auto\",\"tools\":[{\"id\":\"53eb1efd-31cf-48d8-b707-afbe142765ec\",\"type\":\"PanTool\"},{\"id\":\"674fe482-717a-4539-92a8-486b8d594378\",\"type\":\"WheelZoomTool\"},{\"id\":\"e8a27835-b468-4dc4-b47f-4e3fbcbacabf\",\"type\":\"BoxZoomTool\"},{\"id\":\"049a47b1-a4f0-4e81-ac67-50528102d9e9\",\"type\":\"SaveTool\"},{\"id\":\"17e3ad80-2cdc-476b-b420-da19dc8c5bf8\",\"type\":\"ResetTool\"},{\"id\":\"9b8fd9ba-e904-417c-bd9a-2a22d87fcf63\",\"type\":\"HelpTool\"}]},\"id\":\"7d12edab-c579-4ae2-b209-e718c17151da\",\"type\":\"Toolbar\"},{\"attributes\":{\"callback\":null,\"factors\":[\"9\"]},\"id\":\"57b9848f-c7c1-496d-827f-2b2169ee4753\",\"type\":\"FactorRange\"},{\"attributes\":{},\"id\":\"6816351b-db85-4ef1-921b-7ca341f30e07\",\"type\":\"PanTool\"},{\"attributes\":{\"toolbar\":{\"id\":\"12470186-e051-45d8-af22-14a2c143075f\",\"type\":\"ProxyToolbar\"},\"toolbar_location\":\"above\"},\"id\":\"0393bd50-a55a-4e9d-ad10-d838c669c21b\",\"type\":\"ToolbarBox\"},{\"attributes\":{},\"id\":\"415fe0d5-d33c-4978-a791-429dad735972\",\"type\":\"CategoricalTicker\"},{\"attributes\":{\"fill_alpha\":{\"value\":0.1},\"fill_color\":{\"value\":\"#1f77b4\"},\"line_alpha\":{\"value\":0.1},\"line_color\":{\"value\":\"#1f77b4\"},\"top\":{\"field\":\"flux\"},\"width\":{\"value\":0.9},\"x\":{\"field\":\"band\"}},\"id\":\"324fb3ef-c5cb-42b4-9373-8bc78db10e7a\",\"type\":\"VBar\"},{\"attributes\":{\"plot\":null,\"text\":\"SFC flux. CLIRAD - CRD.\"},\"id\":\"fa04acd2-1625-42a0-b6a8-806f20aea8b0\",\"type\":\"Title\"},{\"attributes\":{\"active_drag\":\"auto\",\"active_inspect\":\"auto\",\"active_scroll\":\"auto\",\"active_tap\":\"auto\",\"tools\":[{\"id\":\"6816351b-db85-4ef1-921b-7ca341f30e07\",\"type\":\"PanTool\"},{\"id\":\"8085426d-1843-48db-a67f-acfa6c346ce1\",\"type\":\"WheelZoomTool\"},{\"id\":\"8f1785e4-0148-4d1b-b819-f8874e7a9bc8\",\"type\":\"BoxZoomTool\"},{\"id\":\"7a52f8a9-85e5-40dd-b0cb-e0a12f3ad940\",\"type\":\"SaveTool\"},{\"id\":\"1091a6d0-b732-4b6a-8ee6-90964bd959dd\",\"type\":\"ResetTool\"},{\"id\":\"c08744d9-b0dd-4af9-882c-533ec480a60d\",\"type\":\"HelpTool\"}]},\"id\":\"130b619b-35ea-4e08-8357-4b73aec186c2\",\"type\":\"Toolbar\"},{\"attributes\":{},\"id\":\"319bfd91-514a-44cd-bc64-76ed7701d0c7\",\"type\":\"Selection\"},{\"attributes\":{\"tools\":[{\"id\":\"6816351b-db85-4ef1-921b-7ca341f30e07\",\"type\":\"PanTool\"},{\"id\":\"8085426d-1843-48db-a67f-acfa6c346ce1\",\"type\":\"WheelZoomTool\"},{\"id\":\"8f1785e4-0148-4d1b-b819-f8874e7a9bc8\",\"type\":\"BoxZoomTool\"},{\"id\":\"7a52f8a9-85e5-40dd-b0cb-e0a12f3ad940\",\"type\":\"SaveTool\"},{\"id\":\"1091a6d0-b732-4b6a-8ee6-90964bd959dd\",\"type\":\"ResetTool\"},{\"id\":\"c08744d9-b0dd-4af9-882c-533ec480a60d\",\"type\":\"HelpTool\"},{\"id\":\"53eb1efd-31cf-48d8-b707-afbe142765ec\",\"type\":\"PanTool\"},{\"id\":\"674fe482-717a-4539-92a8-486b8d594378\",\"type\":\"WheelZoomTool\"},{\"id\":\"e8a27835-b468-4dc4-b47f-4e3fbcbacabf\",\"type\":\"BoxZoomTool\"},{\"id\":\"049a47b1-a4f0-4e81-ac67-50528102d9e9\",\"type\":\"SaveTool\"},{\"id\":\"17e3ad80-2cdc-476b-b420-da19dc8c5bf8\",\"type\":\"ResetTool\"},{\"id\":\"9b8fd9ba-e904-417c-bd9a-2a22d87fcf63\",\"type\":\"HelpTool\"},{\"id\":\"9710469a-c2fb-424f-8985-e2d2034e6007\",\"type\":\"PanTool\"},{\"id\":\"9b23e089-95e8-4f8e-845b-623dde64c002\",\"type\":\"WheelZoomTool\"},{\"id\":\"0c8cfec5-cb46-4c6e-b8cb-8a8edc31a9d1\",\"type\":\"BoxZoomTool\"},{\"id\":\"1b5847b5-c22d-4de8-9315-c0ae01913b10\",\"type\":\"SaveTool\"},{\"id\":\"5fc7e4c0-cbcd-45ec-9194-604672a5ccb5\",\"type\":\"ResetTool\"},{\"id\":\"3986a6f9-7f89-4f44-84e3-1cf23d5a9941\",\"type\":\"HelpTool\"}]},\"id\":\"12470186-e051-45d8-af22-14a2c143075f\",\"type\":\"ProxyToolbar\"},{\"attributes\":{},\"id\":\"ff7ea44c-210e-464a-9388-b7430e4ed784\",\"type\":\"CategoricalScale\"},{\"attributes\":{\"callback\":null},\"id\":\"4c78b78e-0081-4a8b-b8e8-7ab207d98373\",\"type\":\"DataRange1d\"},{\"attributes\":{\"data_source\":{\"id\":\"9ec92c6e-7b9b-41e3-a218-736977ab454c\",\"type\":\"ColumnDataSource\"},\"glyph\":{\"id\":\"c24e3539-179c-40be-910e-ba1732d3ee6b\",\"type\":\"VBar\"},\"hover_glyph\":null,\"muted_glyph\":null,\"nonselection_glyph\":{\"id\":\"c4ce4eab-42ca-45b6-b300-c8f8a220672d\",\"type\":\"VBar\"},\"selection_glyph\":null,\"view\":{\"id\":\"9801623c-4c70-4e9b-bb9a-9870b83a9875\",\"type\":\"CDSView\"}},\"id\":\"14ebdebb-7b56-47ec-a722-544687f3f23e\",\"type\":\"GlyphRenderer\"},{\"attributes\":{\"fill_alpha\":{\"value\":0.1},\"fill_color\":{\"value\":\"#1f77b4\"},\"line_alpha\":{\"value\":0.1},\"line_color\":{\"value\":\"#1f77b4\"},\"top\":{\"field\":\"flux\"},\"width\":{\"value\":0.9},\"x\":{\"field\":\"band\"}},\"id\":\"dac1c8aa-8e92-4d66-a2ec-4900a50d1b6e\",\"type\":\"VBar\"},{\"attributes\":{},\"id\":\"83308014-6947-4c9d-a608-952a88a7cac7\",\"type\":\"UnionRenderers\"},{\"attributes\":{},\"id\":\"5fc7e4c0-cbcd-45ec-9194-604672a5ccb5\",\"type\":\"ResetTool\"},{\"attributes\":{},\"id\":\"d69e6489-54ac-498c-a235-7b45860af132\",\"type\":\"LinearScale\"},{\"attributes\":{\"axis_label\":\"flux (W m-2)\",\"formatter\":{\"id\":\"43fbe52f-6206-461f-9cf8-44a03d4fdc06\",\"type\":\"BasicTickFormatter\"},\"plot\":{\"id\":\"5604dbec-a588-4f97-8ac8-f42a24a45e97\",\"subtype\":\"Figure\",\"type\":\"Plot\"},\"ticker\":{\"id\":\"a2ef7d91-3343-4404-abf8-33a0de44f271\",\"type\":\"BasicTicker\"}},\"id\":\"d79ff065-5ce5-4c0c-8870-42ede7188419\",\"type\":\"LinearAxis\"},{\"attributes\":{},\"id\":\"89840844-797b-4fda-a1b9-61696de6e420\",\"type\":\"BasicTickFormatter\"},{\"attributes\":{},\"id\":\"b43fc9af-0507-4113-a287-f812aef9ec30\",\"type\":\"LinearScale\"},{\"attributes\":{},\"id\":\"cae89a28-88ca-479b-a767-56b522b68a52\",\"type\":\"CategoricalTicker\"},{\"attributes\":{},\"id\":\"7a52f8a9-85e5-40dd-b0cb-e0a12f3ad940\",\"type\":\"SaveTool\"},{\"attributes\":{},\"id\":\"43f2cf49-0c38-411f-a6c4-dba86d2ef7e5\",\"type\":\"CategoricalScale\"},{\"attributes\":{},\"id\":\"8085426d-1843-48db-a67f-acfa6c346ce1\",\"type\":\"WheelZoomTool\"},{\"attributes\":{},\"id\":\"1b5847b5-c22d-4de8-9315-c0ae01913b10\",\"type\":\"SaveTool\"},{\"attributes\":{\"fill_color\":{\"value\":\"#1f77b4\"},\"line_color\":{\"value\":\"#1f77b4\"},\"top\":{\"field\":\"flux\"},\"width\":{\"value\":0.9},\"x\":{\"field\":\"band\"}},\"id\":\"ec7e9387-6a33-4d9b-b576-495a2b3edaa9\",\"type\":\"VBar\"},{\"attributes\":{\"overlay\":{\"id\":\"9bd613b1-3703-4742-bedc-3211a69f4c05\",\"type\":\"BoxAnnotation\"}},\"id\":\"8f1785e4-0148-4d1b-b819-f8874e7a9bc8\",\"type\":\"BoxZoomTool\"},{\"attributes\":{},\"id\":\"4c8464d4-ce92-4c76-b426-d0fb803a504b\",\"type\":\"UnionRenderers\"},{\"attributes\":{\"overlay\":{\"id\":\"c2e9b748-0bcd-4d6d-829c-4ed9377c9125\",\"type\":\"BoxAnnotation\"}},\"id\":\"e8a27835-b468-4dc4-b47f-4e3fbcbacabf\",\"type\":\"BoxZoomTool\"},{\"attributes\":{\"children\":[{\"id\":\"cce8fd85-b06a-429a-afa3-184c4ebeb9ed\",\"subtype\":\"Figure\",\"type\":\"Plot\"},{\"id\":\"5604dbec-a588-4f97-8ac8-f42a24a45e97\",\"subtype\":\"Figure\",\"type\":\"Plot\"},{\"id\":\"951d90c8-4c28-4bca-ab01-ca2cc92d4154\",\"subtype\":\"Figure\",\"type\":\"Plot\"}]},\"id\":\"556a0726-d439-46e2-9ca2-72a422b7f85c\",\"type\":\"Row\"},{\"attributes\":{\"axis_label\":\"flux (W m-2)\",\"formatter\":{\"id\":\"db73009b-e8e4-47f7-a9ad-5816560737b7\",\"type\":\"BasicTickFormatter\"},\"plot\":{\"id\":\"951d90c8-4c28-4bca-ab01-ca2cc92d4154\",\"subtype\":\"Figure\",\"type\":\"Plot\"},\"ticker\":{\"id\":\"cb24e6ae-8f1a-44b5-b7d1-1231b0799cd7\",\"type\":\"BasicTicker\"}},\"id\":\"ffcd248a-ba53-4e47-952c-5db321557565\",\"type\":\"LinearAxis\"},{\"attributes\":{},\"id\":\"9b8fd9ba-e904-417c-bd9a-2a22d87fcf63\",\"type\":\"HelpTool\"},{\"attributes\":{\"children\":[{\"id\":\"556a0726-d439-46e2-9ca2-72a422b7f85c\",\"type\":\"Row\"}]},\"id\":\"c5c580f5-0926-4772-96a3-9e08ac83a4f5\",\"type\":\"Column\"},{\"attributes\":{\"overlay\":{\"id\":\"ce7d668c-3c6e-485b-b950-25a089ecad5f\",\"type\":\"BoxAnnotation\"}},\"id\":\"0c8cfec5-cb46-4c6e-b8cb-8a8edc31a9d1\",\"type\":\"BoxZoomTool\"},{\"attributes\":{},\"id\":\"a2ef7d91-3343-4404-abf8-33a0de44f271\",\"type\":\"BasicTicker\"},{\"attributes\":{},\"id\":\"fec3ca91-a389-4cb7-bc35-c59ba8dcb63d\",\"type\":\"LinearScale\"},{\"attributes\":{\"callback\":null},\"id\":\"96414f58-6463-40cf-9d07-ac071c0f4897\",\"type\":\"DataRange1d\"},{\"attributes\":{},\"id\":\"fa58fcb8-ced8-4249-9350-d2e7d464dfd8\",\"type\":\"CategoricalTickFormatter\"},{\"attributes\":{},\"id\":\"cb24e6ae-8f1a-44b5-b7d1-1231b0799cd7\",\"type\":\"BasicTicker\"},{\"attributes\":{\"data_source\":{\"id\":\"46bd395a-3763-4ce3-99f7-655ddfa31880\",\"type\":\"ColumnDataSource\"},\"glyph\":{\"id\":\"e596c20c-48b2-439f-b35a-a5537e900ff9\",\"type\":\"VBar\"},\"hover_glyph\":null,\"muted_glyph\":null,\"nonselection_glyph\":{\"id\":\"324fb3ef-c5cb-42b4-9373-8bc78db10e7a\",\"type\":\"VBar\"},\"selection_glyph\":null,\"view\":{\"id\":\"419e2ba5-1f84-4532-9770-f460591ce4f4\",\"type\":\"CDSView\"}},\"id\":\"282b6659-a552-43c4-b728-1d9ca3dbff19\",\"type\":\"GlyphRenderer\"},{\"attributes\":{\"active_drag\":\"auto\",\"active_inspect\":\"auto\",\"active_scroll\":\"auto\",\"active_tap\":\"auto\",\"tools\":[{\"id\":\"9710469a-c2fb-424f-8985-e2d2034e6007\",\"type\":\"PanTool\"},{\"id\":\"9b23e089-95e8-4f8e-845b-623dde64c002\",\"type\":\"WheelZoomTool\"},{\"id\":\"0c8cfec5-cb46-4c6e-b8cb-8a8edc31a9d1\",\"type\":\"BoxZoomTool\"},{\"id\":\"1b5847b5-c22d-4de8-9315-c0ae01913b10\",\"type\":\"SaveTool\"},{\"id\":\"5fc7e4c0-cbcd-45ec-9194-604672a5ccb5\",\"type\":\"ResetTool\"},{\"id\":\"3986a6f9-7f89-4f44-84e3-1cf23d5a9941\",\"type\":\"HelpTool\"}]},\"id\":\"053afc3a-0026-479c-84e5-36e446bcc594\",\"type\":\"Toolbar\"},{\"attributes\":{\"axis_label\":\"flux (W m-2)\",\"formatter\":{\"id\":\"89840844-797b-4fda-a1b9-61696de6e420\",\"type\":\"BasicTickFormatter\"},\"plot\":{\"id\":\"cce8fd85-b06a-429a-afa3-184c4ebeb9ed\",\"subtype\":\"Figure\",\"type\":\"Plot\"},\"ticker\":{\"id\":\"4e1b9615-1945-42e0-9f63-dffc9522d5f5\",\"type\":\"BasicTicker\"}},\"id\":\"7f8e81aa-b104-4439-90c0-582b9076f353\",\"type\":\"LinearAxis\"},{\"attributes\":{},\"id\":\"9710469a-c2fb-424f-8985-e2d2034e6007\",\"type\":\"PanTool\"},{\"attributes\":{\"children\":[{\"id\":\"0393bd50-a55a-4e9d-ad10-d838c669c21b\",\"type\":\"ToolbarBox\"},{\"id\":\"c5c580f5-0926-4772-96a3-9e08ac83a4f5\",\"type\":\"Column\"}]},\"id\":\"e442d477-2c1f-4185-847e-154d58e794b6\",\"type\":\"Column\"},{\"attributes\":{},\"id\":\"1091a6d0-b732-4b6a-8ee6-90964bd959dd\",\"type\":\"ResetTool\"},{\"attributes\":{},\"id\":\"32da4d9a-9118-4fa7-80df-77140a342b0e\",\"type\":\"CategoricalTickFormatter\"},{\"attributes\":{\"dimension\":1,\"plot\":{\"id\":\"951d90c8-4c28-4bca-ab01-ca2cc92d4154\",\"subtype\":\"Figure\",\"type\":\"Plot\"},\"ticker\":{\"id\":\"cb24e6ae-8f1a-44b5-b7d1-1231b0799cd7\",\"type\":\"BasicTicker\"}},\"id\":\"cf625fa5-d068-448d-a1d2-bfc2e743a7e7\",\"type\":\"Grid\"},{\"attributes\":{},\"id\":\"951370da-d37f-413c-9a1d-ae3eb87589a7\",\"type\":\"UnionRenderers\"},{\"attributes\":{\"source\":{\"id\":\"32a2bf95-3e1f-42b5-92aa-8f898ae9f822\",\"type\":\"ColumnDataSource\"}},\"id\":\"c570a738-b4ea-42ee-9ec6-e6e04ab3465b\",\"type\":\"CDSView\"},{\"attributes\":{},\"id\":\"9b23e089-95e8-4f8e-845b-623dde64c002\",\"type\":\"WheelZoomTool\"},{\"attributes\":{},\"id\":\"049a47b1-a4f0-4e81-ac67-50528102d9e9\",\"type\":\"SaveTool\"},{\"attributes\":{},\"id\":\"714b9eb3-ebb6-442c-a9fe-9cb2871c359b\",\"type\":\"CategoricalTickFormatter\"},{\"attributes\":{},\"id\":\"3986a6f9-7f89-4f44-84e3-1cf23d5a9941\",\"type\":\"HelpTool\"},{\"attributes\":{\"callback\":null,\"factors\":[\"9\"]},\"id\":\"849de7df-e694-4661-a469-d3f8f2281fc5\",\"type\":\"FactorRange\"},{\"attributes\":{\"fill_color\":{\"value\":\"#1f77b4\"},\"line_color\":{\"value\":\"#1f77b4\"},\"top\":{\"field\":\"flux\"},\"width\":{\"value\":0.9},\"x\":{\"field\":\"band\"}},\"id\":\"c24e3539-179c-40be-910e-ba1732d3ee6b\",\"type\":\"VBar\"},{\"attributes\":{\"axis_label\":\"spectral band\",\"formatter\":{\"id\":\"fa58fcb8-ced8-4249-9350-d2e7d464dfd8\",\"type\":\"CategoricalTickFormatter\"},\"plot\":{\"id\":\"951d90c8-4c28-4bca-ab01-ca2cc92d4154\",\"subtype\":\"Figure\",\"type\":\"Plot\"},\"ticker\":{\"id\":\"cae89a28-88ca-479b-a767-56b522b68a52\",\"type\":\"CategoricalTicker\"}},\"id\":\"f043976a-c29d-492b-a7bb-ca57fab5af93\",\"type\":\"CategoricalAxis\"},{\"attributes\":{\"below\":[{\"id\":\"3de1c18b-5a4b-48b4-a535-74a3ccf9e137\",\"type\":\"CategoricalAxis\"}],\"left\":[{\"id\":\"d79ff065-5ce5-4c0c-8870-42ede7188419\",\"type\":\"LinearAxis\"}],\"plot_height\":300,\"plot_width\":300,\"renderers\":[{\"id\":\"3de1c18b-5a4b-48b4-a535-74a3ccf9e137\",\"type\":\"CategoricalAxis\"},{\"id\":\"e31d105a-0623-4e59-b7a8-d8ea488d076b\",\"type\":\"Grid\"},{\"id\":\"d79ff065-5ce5-4c0c-8870-42ede7188419\",\"type\":\"LinearAxis\"},{\"id\":\"58860f97-fb76-4a34-986d-64032216c2c8\",\"type\":\"Grid\"},{\"id\":\"c2e9b748-0bcd-4d6d-829c-4ed9377c9125\",\"type\":\"BoxAnnotation\"},{\"id\":\"8e9d5e2c-ece3-4ac4-afe1-c4d3ddfdeae4\",\"type\":\"GlyphRenderer\"}],\"title\":{\"id\":\"fa04acd2-1625-42a0-b6a8-806f20aea8b0\",\"type\":\"Title\"},\"toolbar\":{\"id\":\"7d12edab-c579-4ae2-b209-e718c17151da\",\"type\":\"Toolbar\"},\"toolbar_location\":null,\"x_range\":{\"id\":\"849de7df-e694-4661-a469-d3f8f2281fc5\",\"type\":\"FactorRange\"},\"x_scale\":{\"id\":\"27d1fee1-a1c9-41a9-9a64-e31c946e12b3\",\"type\":\"CategoricalScale\"},\"y_range\":{\"id\":\"96414f58-6463-40cf-9d07-ac071c0f4897\",\"type\":\"DataRange1d\"},\"y_scale\":{\"id\":\"b43fc9af-0507-4113-a287-f812aef9ec30\",\"type\":\"LinearScale\"}},\"id\":\"5604dbec-a588-4f97-8ac8-f42a24a45e97\",\"subtype\":\"Figure\",\"type\":\"Plot\"},{\"attributes\":{\"fill_color\":{\"value\":\"#1f77b4\"},\"line_color\":{\"value\":\"#1f77b4\"},\"top\":{\"field\":\"flux\"},\"width\":{\"value\":0.9},\"x\":{\"field\":\"band\"}},\"id\":\"e596c20c-48b2-439f-b35a-a5537e900ff9\",\"type\":\"VBar\"},{\"attributes\":{},\"id\":\"89c5efe6-b2bc-4ecb-9163-0909c621e0b4\",\"type\":\"CategoricalTicker\"},{\"attributes\":{\"axis_label\":\"spectral band\",\"formatter\":{\"id\":\"714b9eb3-ebb6-442c-a9fe-9cb2871c359b\",\"type\":\"CategoricalTickFormatter\"},\"plot\":{\"id\":\"cce8fd85-b06a-429a-afa3-184c4ebeb9ed\",\"subtype\":\"Figure\",\"type\":\"Plot\"},\"ticker\":{\"id\":\"415fe0d5-d33c-4978-a791-429dad735972\",\"type\":\"CategoricalTicker\"}},\"id\":\"8fe91051-c296-4676-b1b7-6f3c86918a41\",\"type\":\"CategoricalAxis\"},{\"attributes\":{\"bottom_units\":\"screen\",\"fill_alpha\":{\"value\":0.5},\"fill_color\":{\"value\":\"lightgrey\"},\"left_units\":\"screen\",\"level\":\"overlay\",\"line_alpha\":{\"value\":1.0},\"line_color\":{\"value\":\"black\"},\"line_dash\":[4,4],\"line_width\":{\"value\":2},\"plot\":null,\"render_mode\":\"css\",\"right_units\":\"screen\",\"top_units\":\"screen\"},\"id\":\"c2e9b748-0bcd-4d6d-829c-4ed9377c9125\",\"type\":\"BoxAnnotation\"},{\"attributes\":{\"callback\":null,\"factors\":[\"9\"]},\"id\":\"099a0f7e-f838-490a-8f61-055de0070910\",\"type\":\"FactorRange\"},{\"attributes\":{\"dimension\":1,\"plot\":{\"id\":\"5604dbec-a588-4f97-8ac8-f42a24a45e97\",\"subtype\":\"Figure\",\"type\":\"Plot\"},\"ticker\":{\"id\":\"a2ef7d91-3343-4404-abf8-33a0de44f271\",\"type\":\"BasicTicker\"}},\"id\":\"58860f97-fb76-4a34-986d-64032216c2c8\",\"type\":\"Grid\"},{\"attributes\":{\"source\":{\"id\":\"46bd395a-3763-4ce3-99f7-655ddfa31880\",\"type\":\"ColumnDataSource\"}},\"id\":\"419e2ba5-1f84-4532-9770-f460591ce4f4\",\"type\":\"CDSView\"},{\"attributes\":{},\"id\":\"6aad2653-9296-447b-87e5-82c1426a28e6\",\"type\":\"Selection\"},{\"attributes\":{\"plot\":{\"id\":\"951d90c8-4c28-4bca-ab01-ca2cc92d4154\",\"subtype\":\"Figure\",\"type\":\"Plot\"},\"ticker\":{\"id\":\"cae89a28-88ca-479b-a767-56b522b68a52\",\"type\":\"CategoricalTicker\"}},\"id\":\"ef87eb37-bdde-4c99-91ad-0972e6f1a47d\",\"type\":\"Grid\"},{\"attributes\":{\"axis_label\":\"spectral band\",\"formatter\":{\"id\":\"32da4d9a-9118-4fa7-80df-77140a342b0e\",\"type\":\"CategoricalTickFormatter\"},\"plot\":{\"id\":\"5604dbec-a588-4f97-8ac8-f42a24a45e97\",\"subtype\":\"Figure\",\"type\":\"Plot\"},\"ticker\":{\"id\":\"89c5efe6-b2bc-4ecb-9163-0909c621e0b4\",\"type\":\"CategoricalTicker\"}},\"id\":\"3de1c18b-5a4b-48b4-a535-74a3ccf9e137\",\"type\":\"CategoricalAxis\"},{\"attributes\":{\"bottom_units\":\"screen\",\"fill_alpha\":{\"value\":0.5},\"fill_color\":{\"value\":\"lightgrey\"},\"left_units\":\"screen\",\"level\":\"overlay\",\"line_alpha\":{\"value\":1.0},\"line_color\":{\"value\":\"black\"},\"line_dash\":[4,4],\"line_width\":{\"value\":2},\"plot\":null,\"render_mode\":\"css\",\"right_units\":\"screen\",\"top_units\":\"screen\"},\"id\":\"ce7d668c-3c6e-485b-b950-25a089ecad5f\",\"type\":\"BoxAnnotation\"},{\"attributes\":{\"fill_alpha\":{\"value\":0.1},\"fill_color\":{\"value\":\"#1f77b4\"},\"line_alpha\":{\"value\":0.1},\"line_color\":{\"value\":\"#1f77b4\"},\"top\":{\"field\":\"flux\"},\"width\":{\"value\":0.9},\"x\":{\"field\":\"band\"}},\"id\":\"c4ce4eab-42ca-45b6-b300-c8f8a220672d\",\"type\":\"VBar\"},{\"attributes\":{},\"id\":\"53eb1efd-31cf-48d8-b707-afbe142765ec\",\"type\":\"PanTool\"},{\"attributes\":{\"callback\":null,\"data\":{\"band\":[\"9\"],\"flux\":{\"__ndarray__\":\"QGEocWdw0b8=\",\"dtype\":\"float64\",\"shape\":[1]}},\"selected\":{\"id\":\"319bfd91-514a-44cd-bc64-76ed7701d0c7\",\"type\":\"Selection\"},\"selection_policy\":{\"id\":\"951370da-d37f-413c-9a1d-ae3eb87589a7\",\"type\":\"UnionRenderers\"}},\"id\":\"32a2bf95-3e1f-42b5-92aa-8f898ae9f822\",\"type\":\"ColumnDataSource\"},{\"attributes\":{\"source\":{\"id\":\"9ec92c6e-7b9b-41e3-a218-736977ab454c\",\"type\":\"ColumnDataSource\"}},\"id\":\"9801623c-4c70-4e9b-bb9a-9870b83a9875\",\"type\":\"CDSView\"},{\"attributes\":{\"callback\":null},\"id\":\"bca5eea4-9a64-4865-802b-92e9dcae0e84\",\"type\":\"DataRange1d\"}],\"root_ids\":[\"e442d477-2c1f-4185-847e-154d58e794b6\"]},\"title\":\"Bokeh Application\",\"version\":\"0.12.16\"}};\n",
       "  var render_items = [{\"docid\":\"e18c79aa-328d-4284-95fb-720fa7fc5990\",\"elementid\":\"3d6d4ad3-affb-466a-9c8e-6515d4eae32f\",\"modelid\":\"e442d477-2c1f-4185-847e-154d58e794b6\"}];\n",
       "  root.Bokeh.embed.embed_items_notebook(docs_json, render_items);\n",
       "\n",
       "  }\n",
       "  if (root.Bokeh !== undefined) {\n",
       "    embed_document(root);\n",
       "  } else {\n",
       "    var attempts = 0;\n",
       "    var timer = setInterval(function(root) {\n",
       "      if (root.Bokeh !== undefined) {\n",
       "        embed_document(root);\n",
       "        clearInterval(timer);\n",
       "      }\n",
       "      attempts++;\n",
       "      if (attempts > 100) {\n",
       "        console.log(\"Bokeh: ERROR: Unable to run BokehJS code because BokehJS library is missing\")\n",
       "        clearInterval(timer);\n",
       "      }\n",
       "    }, 10, root)\n",
       "  }\n",
       "})(window);"
      ],
      "application/vnd.bokehjs_exec.v0+json": ""
     },
     "metadata": {
      "application/vnd.bokehjs_exec.v0+json": {
       "id": "e442d477-2c1f-4185-847e-154d58e794b6"
      }
     },
     "output_type": "display_data"
    },
    {
     "data": {
      "text/markdown": [
       "*FIGURE.* Difference between CLIRAD and CRD in TOA, SFC and net atmosphere flux, in each spectral band."
      ],
      "text/plain": [
       "<IPython.core.display.Markdown object>"
      ]
     },
     "metadata": {},
     "output_type": "display_data"
    },
    {
     "data": {
      "text/html": [
       "<div>\n",
       "<style scoped>\n",
       "    .dataframe tbody tr th:only-of-type {\n",
       "        vertical-align: middle;\n",
       "    }\n",
       "\n",
       "    .dataframe tbody tr th {\n",
       "        vertical-align: top;\n",
       "    }\n",
       "\n",
       "    .dataframe thead th {\n",
       "        text-align: right;\n",
       "    }\n",
       "</style>\n",
       "<table border=\"1\" class=\"dataframe\">\n",
       "  <thead>\n",
       "    <tr style=\"text-align: right;\">\n",
       "      <th></th>\n",
       "      <th>OLR flux</th>\n",
       "      <th>SFC flux</th>\n",
       "      <th>ATM heating</th>\n",
       "    </tr>\n",
       "    <tr>\n",
       "      <th>Sum over bands</th>\n",
       "      <th></th>\n",
       "      <th></th>\n",
       "      <th></th>\n",
       "    </tr>\n",
       "  </thead>\n",
       "  <tbody>\n",
       "    <tr>\n",
       "      <th>CLIRAD - CRD</th>\n",
       "      <td>-0.03</td>\n",
       "      <td>-0.27</td>\n",
       "      <td>0.24</td>\n",
       "    </tr>\n",
       "    <tr>\n",
       "      <th>CRD</th>\n",
       "      <td>-21.61</td>\n",
       "      <td>6.75</td>\n",
       "      <td>-1.40</td>\n",
       "    </tr>\n",
       "  </tbody>\n",
       "</table>\n",
       "</div>"
      ],
      "text/plain": [
       "                OLR flux  SFC flux  ATM heating\n",
       "Sum over bands                                 \n",
       "CLIRAD - CRD       -0.03     -0.27         0.24\n",
       "CRD               -21.61      6.75        -1.40"
      ]
     },
     "metadata": {},
     "output_type": "display_data"
    },
    {
     "data": {
      "text/markdown": [
       "*TABLE.* Difference between CLIRAD and CRD in TOA, SFC and net atmosphere flux, over all spectral bands. CRD's TOA, SFC and net atmosphere flux, over all spectral bands."
      ],
      "text/plain": [
       "<IPython.core.display.Markdown object>"
      ]
     },
     "metadata": {},
     "output_type": "display_data"
    },
    {
     "data": {
      "text/html": [
       "Download: <a href=\"./results_ch4atm_cliradsinglerun.xlsx\">results_ch4atm_cliradsinglerun.xlsx</a>"
      ],
      "text/plain": [
       "<IPython.core.display.HTML object>"
      ]
     },
     "metadata": {},
     "output_type": "display_data"
    }
   ],
   "source": [
    "def script():\n",
    "    \n",
    "    d_atm = {'mls': 'mid-latitude summer',\n",
    "             'saw': 'sub-arctic winter',\n",
    "             'trp': 'tropical'}\n",
    "    \n",
    "    title = ('## Results over entire range of molecules'\n",
    "             ' and spectral bands')\n",
    "    \n",
    "    s_makeup = 'Makeup of atmosphere.'\n",
    "    s_atmpro = '# {}'\n",
    "    s_cool = 'Cooling rates. {}.'\n",
    "    s_flux = 'Fluxes. {}.'\n",
    "    \n",
    "    atmpros = ['mls', 'saw', 'trp']\n",
    "    \n",
    "    # TOC\n",
    "    show_markdown(title)\n",
    "    show_markdown('### Table of Contents')\n",
    "    show_html(climahtml.getHTML_hrefanchor(s_makeup))\n",
    "    for atmpro in atmpros:\n",
    "        show_markdown('**' + d_atm[atmpro] + '**')\n",
    "        show_html(climahtml.getHTML_hrefanchor(s_cool.format(atmpro)))\n",
    "        show_html(climahtml.getHTML_hrefanchor(s_flux.format(atmpro)))\n",
    "\n",
    "        \n",
    "    # Atmosphere makeup\n",
    "    show_html(climahtml.getHTML_idanchor(s_makeup))\n",
    "    show_markdown(climahtml.getMarkdown_sectitle(s_makeup))\n",
    "    show_makeup()\n",
    "#    show_grey_makeup()\n",
    "        \n",
    "    for atmpro in atmpros:\n",
    "        show_html(climahtml.getHTML_idanchor(s_cool.format(atmpro)))\n",
    "        show_markdown(\n",
    "            climahtml.getMarkdown_sectitle(s_cool.format(atmpro)))\n",
    "        show_cool(atmpro=atmpro)\n",
    "        show_html(climahtml.getHTML_idanchor(s_flux.format(atmpro)))\n",
    "        show_markdown(\n",
    "            climahtml.getMarkdown_sectitle(s_flux.format(atmpro)))\n",
    "        show_hist_flux(atmpro=atmpro)\n",
    "        show_tb_flux(atmpro=atmpro)\n",
    "    \n",
    "    script_tofile()\n",
    "    \n",
    "script()  "
   ]
  },
  {
   "cell_type": "code",
   "execution_count": null,
   "metadata": {
    "collapsed": true
   },
   "outputs": [],
   "source": []
  },
  {
   "cell_type": "code",
   "execution_count": 18,
   "metadata": {},
   "outputs": [
    {
     "data": {
      "text/html": [
       "<script>\n",
       "code_show=true; \n",
       "function code_toggle() {\n",
       " if (code_show){\n",
       " $('div.input').hide();\n",
       " } else {\n",
       " $('div.input').show();\n",
       " }\n",
       " code_show = !code_show\n",
       "} \n",
       "$( document ).ready(code_toggle);\n",
       "</script>\n",
       "<form action=\"javascript:code_toggle()\"><input type=\"submit\" value=\"Click here to toggle on/off the raw code.\"></form>"
      ],
      "text/plain": [
       "<IPython.core.display.HTML object>"
      ]
     },
     "execution_count": 18,
     "metadata": {},
     "output_type": "execute_result"
    }
   ],
   "source": [
    "display.HTML('''<script>\n",
    "code_show=true; \n",
    "function code_toggle() {\n",
    " if (code_show){\n",
    " $('div.input').hide();\n",
    " } else {\n",
    " $('div.input').show();\n",
    " }\n",
    " code_show = !code_show\n",
    "} \n",
    "$( document ).ready(code_toggle);\n",
    "</script>\n",
    "<form action=\"javascript:code_toggle()\"><input type=\"submit\" value=\"Click here to toggle on/off the raw code.\"></form>''')"
   ]
  },
  {
   "cell_type": "code",
   "execution_count": null,
   "metadata": {
    "collapsed": true
   },
   "outputs": [],
   "source": []
  }
 ],
 "metadata": {
  "kernelspec": {
   "display_name": "Python 3",
   "language": "python",
   "name": "python3"
  },
  "language_info": {
   "codemirror_mode": {
    "name": "ipython",
    "version": 3
   },
   "file_extension": ".py",
   "mimetype": "text/x-python",
   "name": "python",
   "nbconvert_exporter": "python",
   "pygments_lexer": "ipython3",
   "version": "3.6.7"
  }
 },
 "nbformat": 4,
 "nbformat_minor": 2
}
