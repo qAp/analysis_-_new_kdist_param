{
 "cells": [
  {
   "cell_type": "code",
   "execution_count": 1,
   "metadata": {
    "collapsed": true
   },
   "outputs": [],
   "source": [
    "%reload_ext autoreload\n",
    "%autoreload 2\n",
    "\n",
    "import os\n",
    "import pprint\n",
    "\n",
    "import pymongo\n",
    "\n",
    "from bokeh.io import output_notebook, show\n",
    "from bokeh.layouts import gridplot\n",
    "from bokeh.plotting import figure\n",
    "from bokeh.models import ColumnDataSource\n",
    "from bokeh.palettes import all_palettes\n",
    "\n",
    "from climatools.atm import *\n",
    "from climatools.dataset import *\n",
    "from climatools.spectrum import *\n",
    "from climatools.html.html import *\n",
    "from climatools.plot.plot import *\n",
    "from climatools.lblnew.bestfit_params import *\n",
    "\n",
    "from IPython import display"
   ]
  },
  {
   "cell_type": "code",
   "execution_count": 2,
   "metadata": {
    "scrolled": true
   },
   "outputs": [
    {
     "data": {
      "text/html": [
       "\n",
       "    <div class=\"bk-root\">\n",
       "        <a href=\"https://bokeh.pydata.org\" target=\"_blank\" class=\"bk-logo bk-logo-small bk-logo-notebook\"></a>\n",
       "        <span id=\"37dd6e80-5e35-4ce0-93a9-b290084a845e\">Loading BokehJS ...</span>\n",
       "    </div>"
      ]
     },
     "metadata": {},
     "output_type": "display_data"
    },
    {
     "data": {
      "application/javascript": [
       "\n",
       "(function(root) {\n",
       "  function now() {\n",
       "    return new Date();\n",
       "  }\n",
       "\n",
       "  var force = true;\n",
       "\n",
       "  if (typeof (root._bokeh_onload_callbacks) === \"undefined\" || force === true) {\n",
       "    root._bokeh_onload_callbacks = [];\n",
       "    root._bokeh_is_loading = undefined;\n",
       "  }\n",
       "\n",
       "  var JS_MIME_TYPE = 'application/javascript';\n",
       "  var HTML_MIME_TYPE = 'text/html';\n",
       "  var EXEC_MIME_TYPE = 'application/vnd.bokehjs_exec.v0+json';\n",
       "  var CLASS_NAME = 'output_bokeh rendered_html';\n",
       "\n",
       "  /**\n",
       "   * Render data to the DOM node\n",
       "   */\n",
       "  function render(props, node) {\n",
       "    var script = document.createElement(\"script\");\n",
       "    node.appendChild(script);\n",
       "  }\n",
       "\n",
       "  /**\n",
       "   * Handle when an output is cleared or removed\n",
       "   */\n",
       "  function handleClearOutput(event, handle) {\n",
       "    var cell = handle.cell;\n",
       "\n",
       "    var id = cell.output_area._bokeh_element_id;\n",
       "    var server_id = cell.output_area._bokeh_server_id;\n",
       "    // Clean up Bokeh references\n",
       "    if (id !== undefined) {\n",
       "      Bokeh.index[id].model.document.clear();\n",
       "      delete Bokeh.index[id];\n",
       "    }\n",
       "\n",
       "    if (server_id !== undefined) {\n",
       "      // Clean up Bokeh references\n",
       "      var cmd = \"from bokeh.io.state import curstate; print(curstate().uuid_to_server['\" + server_id + \"'].get_sessions()[0].document.roots[0]._id)\";\n",
       "      cell.notebook.kernel.execute(cmd, {\n",
       "        iopub: {\n",
       "          output: function(msg) {\n",
       "            var element_id = msg.content.text.trim();\n",
       "            Bokeh.index[element_id].model.document.clear();\n",
       "            delete Bokeh.index[element_id];\n",
       "          }\n",
       "        }\n",
       "      });\n",
       "      // Destroy server and session\n",
       "      var cmd = \"import bokeh.io.notebook as ion; ion.destroy_server('\" + server_id + \"')\";\n",
       "      cell.notebook.kernel.execute(cmd);\n",
       "    }\n",
       "  }\n",
       "\n",
       "  /**\n",
       "   * Handle when a new output is added\n",
       "   */\n",
       "  function handleAddOutput(event, handle) {\n",
       "    var output_area = handle.output_area;\n",
       "    var output = handle.output;\n",
       "\n",
       "    // limit handleAddOutput to display_data with EXEC_MIME_TYPE content only\n",
       "    if ((output.output_type != \"display_data\") || (!output.data.hasOwnProperty(EXEC_MIME_TYPE))) {\n",
       "      return\n",
       "    }\n",
       "\n",
       "    var toinsert = output_area.element.find(\".\" + CLASS_NAME.split(' ')[0]);\n",
       "\n",
       "    if (output.metadata[EXEC_MIME_TYPE][\"id\"] !== undefined) {\n",
       "      toinsert[toinsert.length - 1].firstChild.textContent = output.data[JS_MIME_TYPE];\n",
       "      // store reference to embed id on output_area\n",
       "      output_area._bokeh_element_id = output.metadata[EXEC_MIME_TYPE][\"id\"];\n",
       "    }\n",
       "    if (output.metadata[EXEC_MIME_TYPE][\"server_id\"] !== undefined) {\n",
       "      var bk_div = document.createElement(\"div\");\n",
       "      bk_div.innerHTML = output.data[HTML_MIME_TYPE];\n",
       "      var script_attrs = bk_div.children[0].attributes;\n",
       "      for (var i = 0; i < script_attrs.length; i++) {\n",
       "        toinsert[toinsert.length - 1].firstChild.setAttribute(script_attrs[i].name, script_attrs[i].value);\n",
       "      }\n",
       "      // store reference to server id on output_area\n",
       "      output_area._bokeh_server_id = output.metadata[EXEC_MIME_TYPE][\"server_id\"];\n",
       "    }\n",
       "  }\n",
       "\n",
       "  function register_renderer(events, OutputArea) {\n",
       "\n",
       "    function append_mime(data, metadata, element) {\n",
       "      // create a DOM node to render to\n",
       "      var toinsert = this.create_output_subarea(\n",
       "        metadata,\n",
       "        CLASS_NAME,\n",
       "        EXEC_MIME_TYPE\n",
       "      );\n",
       "      this.keyboard_manager.register_events(toinsert);\n",
       "      // Render to node\n",
       "      var props = {data: data, metadata: metadata[EXEC_MIME_TYPE]};\n",
       "      render(props, toinsert[toinsert.length - 1]);\n",
       "      element.append(toinsert);\n",
       "      return toinsert\n",
       "    }\n",
       "\n",
       "    /* Handle when an output is cleared or removed */\n",
       "    events.on('clear_output.CodeCell', handleClearOutput);\n",
       "    events.on('delete.Cell', handleClearOutput);\n",
       "\n",
       "    /* Handle when a new output is added */\n",
       "    events.on('output_added.OutputArea', handleAddOutput);\n",
       "\n",
       "    /**\n",
       "     * Register the mime type and append_mime function with output_area\n",
       "     */\n",
       "    OutputArea.prototype.register_mime_type(EXEC_MIME_TYPE, append_mime, {\n",
       "      /* Is output safe? */\n",
       "      safe: true,\n",
       "      /* Index of renderer in `output_area.display_order` */\n",
       "      index: 0\n",
       "    });\n",
       "  }\n",
       "\n",
       "  // register the mime type if in Jupyter Notebook environment and previously unregistered\n",
       "  if (root.Jupyter !== undefined) {\n",
       "    var events = require('base/js/events');\n",
       "    var OutputArea = require('notebook/js/outputarea').OutputArea;\n",
       "\n",
       "    if (OutputArea.prototype.mime_types().indexOf(EXEC_MIME_TYPE) == -1) {\n",
       "      register_renderer(events, OutputArea);\n",
       "    }\n",
       "  }\n",
       "\n",
       "  \n",
       "  if (typeof (root._bokeh_timeout) === \"undefined\" || force === true) {\n",
       "    root._bokeh_timeout = Date.now() + 5000;\n",
       "    root._bokeh_failed_load = false;\n",
       "  }\n",
       "\n",
       "  var NB_LOAD_WARNING = {'data': {'text/html':\n",
       "     \"<div style='background-color: #fdd'>\\n\"+\n",
       "     \"<p>\\n\"+\n",
       "     \"BokehJS does not appear to have successfully loaded. If loading BokehJS from CDN, this \\n\"+\n",
       "     \"may be due to a slow or bad network connection. Possible fixes:\\n\"+\n",
       "     \"</p>\\n\"+\n",
       "     \"<ul>\\n\"+\n",
       "     \"<li>re-rerun `output_notebook()` to attempt to load from CDN again, or</li>\\n\"+\n",
       "     \"<li>use INLINE resources instead, as so:</li>\\n\"+\n",
       "     \"</ul>\\n\"+\n",
       "     \"<code>\\n\"+\n",
       "     \"from bokeh.resources import INLINE\\n\"+\n",
       "     \"output_notebook(resources=INLINE)\\n\"+\n",
       "     \"</code>\\n\"+\n",
       "     \"</div>\"}};\n",
       "\n",
       "  function display_loaded() {\n",
       "    var el = document.getElementById(\"37dd6e80-5e35-4ce0-93a9-b290084a845e\");\n",
       "    if (el != null) {\n",
       "      el.textContent = \"BokehJS is loading...\";\n",
       "    }\n",
       "    if (root.Bokeh !== undefined) {\n",
       "      if (el != null) {\n",
       "        el.textContent = \"BokehJS \" + root.Bokeh.version + \" successfully loaded.\";\n",
       "      }\n",
       "    } else if (Date.now() < root._bokeh_timeout) {\n",
       "      setTimeout(display_loaded, 100)\n",
       "    }\n",
       "  }\n",
       "\n",
       "\n",
       "  function run_callbacks() {\n",
       "    try {\n",
       "      root._bokeh_onload_callbacks.forEach(function(callback) { callback() });\n",
       "    }\n",
       "    finally {\n",
       "      delete root._bokeh_onload_callbacks\n",
       "    }\n",
       "    console.info(\"Bokeh: all callbacks have finished\");\n",
       "  }\n",
       "\n",
       "  function load_libs(js_urls, callback) {\n",
       "    root._bokeh_onload_callbacks.push(callback);\n",
       "    if (root._bokeh_is_loading > 0) {\n",
       "      console.log(\"Bokeh: BokehJS is being loaded, scheduling callback at\", now());\n",
       "      return null;\n",
       "    }\n",
       "    if (js_urls == null || js_urls.length === 0) {\n",
       "      run_callbacks();\n",
       "      return null;\n",
       "    }\n",
       "    console.log(\"Bokeh: BokehJS not loaded, scheduling load and callback at\", now());\n",
       "    root._bokeh_is_loading = js_urls.length;\n",
       "    for (var i = 0; i < js_urls.length; i++) {\n",
       "      var url = js_urls[i];\n",
       "      var s = document.createElement('script');\n",
       "      s.src = url;\n",
       "      s.async = false;\n",
       "      s.onreadystatechange = s.onload = function() {\n",
       "        root._bokeh_is_loading--;\n",
       "        if (root._bokeh_is_loading === 0) {\n",
       "          console.log(\"Bokeh: all BokehJS libraries loaded\");\n",
       "          run_callbacks()\n",
       "        }\n",
       "      };\n",
       "      s.onerror = function() {\n",
       "        console.warn(\"failed to load library \" + url);\n",
       "      };\n",
       "      console.log(\"Bokeh: injecting script tag for BokehJS library: \", url);\n",
       "      document.getElementsByTagName(\"head\")[0].appendChild(s);\n",
       "    }\n",
       "  };var element = document.getElementById(\"37dd6e80-5e35-4ce0-93a9-b290084a845e\");\n",
       "  if (element == null) {\n",
       "    console.log(\"Bokeh: ERROR: autoload.js configured with elementid '37dd6e80-5e35-4ce0-93a9-b290084a845e' but no matching script tag was found. \")\n",
       "    return false;\n",
       "  }\n",
       "\n",
       "  var js_urls = [\"https://cdn.pydata.org/bokeh/release/bokeh-0.12.16.min.js\", \"https://cdn.pydata.org/bokeh/release/bokeh-widgets-0.12.16.min.js\", \"https://cdn.pydata.org/bokeh/release/bokeh-tables-0.12.16.min.js\", \"https://cdn.pydata.org/bokeh/release/bokeh-gl-0.12.16.min.js\"];\n",
       "\n",
       "  var inline_js = [\n",
       "    function(Bokeh) {\n",
       "      Bokeh.set_log_level(\"info\");\n",
       "    },\n",
       "    \n",
       "    function(Bokeh) {\n",
       "      \n",
       "    },\n",
       "    function(Bokeh) {\n",
       "      console.log(\"Bokeh: injecting CSS: https://cdn.pydata.org/bokeh/release/bokeh-0.12.16.min.css\");\n",
       "      Bokeh.embed.inject_css(\"https://cdn.pydata.org/bokeh/release/bokeh-0.12.16.min.css\");\n",
       "      console.log(\"Bokeh: injecting CSS: https://cdn.pydata.org/bokeh/release/bokeh-widgets-0.12.16.min.css\");\n",
       "      Bokeh.embed.inject_css(\"https://cdn.pydata.org/bokeh/release/bokeh-widgets-0.12.16.min.css\");\n",
       "      console.log(\"Bokeh: injecting CSS: https://cdn.pydata.org/bokeh/release/bokeh-tables-0.12.16.min.css\");\n",
       "      Bokeh.embed.inject_css(\"https://cdn.pydata.org/bokeh/release/bokeh-tables-0.12.16.min.css\");\n",
       "    }\n",
       "  ];\n",
       "\n",
       "  function run_inline_js() {\n",
       "    \n",
       "    if ((root.Bokeh !== undefined) || (force === true)) {\n",
       "      for (var i = 0; i < inline_js.length; i++) {\n",
       "        inline_js[i].call(root, root.Bokeh);\n",
       "      }if (force === true) {\n",
       "        display_loaded();\n",
       "      }} else if (Date.now() < root._bokeh_timeout) {\n",
       "      setTimeout(run_inline_js, 100);\n",
       "    } else if (!root._bokeh_failed_load) {\n",
       "      console.log(\"Bokeh: BokehJS failed to load within specified timeout.\");\n",
       "      root._bokeh_failed_load = true;\n",
       "    } else if (force !== true) {\n",
       "      var cell = $(document.getElementById(\"37dd6e80-5e35-4ce0-93a9-b290084a845e\")).parents('.cell').data().cell;\n",
       "      cell.output_area.append_execute_result(NB_LOAD_WARNING)\n",
       "    }\n",
       "\n",
       "  }\n",
       "\n",
       "  if (root._bokeh_is_loading === 0) {\n",
       "    console.log(\"Bokeh: BokehJS loaded, going straight to plotting\");\n",
       "    run_inline_js();\n",
       "  } else {\n",
       "    load_libs(js_urls, function() {\n",
       "      console.log(\"Bokeh: BokehJS plotting callback run at\", now());\n",
       "      run_inline_js();\n",
       "    });\n",
       "  }\n",
       "}(window));"
      ],
      "application/vnd.bokehjs_load.v0+json": "\n(function(root) {\n  function now() {\n    return new Date();\n  }\n\n  var force = true;\n\n  if (typeof (root._bokeh_onload_callbacks) === \"undefined\" || force === true) {\n    root._bokeh_onload_callbacks = [];\n    root._bokeh_is_loading = undefined;\n  }\n\n  \n\n  \n  if (typeof (root._bokeh_timeout) === \"undefined\" || force === true) {\n    root._bokeh_timeout = Date.now() + 5000;\n    root._bokeh_failed_load = false;\n  }\n\n  var NB_LOAD_WARNING = {'data': {'text/html':\n     \"<div style='background-color: #fdd'>\\n\"+\n     \"<p>\\n\"+\n     \"BokehJS does not appear to have successfully loaded. If loading BokehJS from CDN, this \\n\"+\n     \"may be due to a slow or bad network connection. Possible fixes:\\n\"+\n     \"</p>\\n\"+\n     \"<ul>\\n\"+\n     \"<li>re-rerun `output_notebook()` to attempt to load from CDN again, or</li>\\n\"+\n     \"<li>use INLINE resources instead, as so:</li>\\n\"+\n     \"</ul>\\n\"+\n     \"<code>\\n\"+\n     \"from bokeh.resources import INLINE\\n\"+\n     \"output_notebook(resources=INLINE)\\n\"+\n     \"</code>\\n\"+\n     \"</div>\"}};\n\n  function display_loaded() {\n    var el = document.getElementById(\"37dd6e80-5e35-4ce0-93a9-b290084a845e\");\n    if (el != null) {\n      el.textContent = \"BokehJS is loading...\";\n    }\n    if (root.Bokeh !== undefined) {\n      if (el != null) {\n        el.textContent = \"BokehJS \" + root.Bokeh.version + \" successfully loaded.\";\n      }\n    } else if (Date.now() < root._bokeh_timeout) {\n      setTimeout(display_loaded, 100)\n    }\n  }\n\n\n  function run_callbacks() {\n    try {\n      root._bokeh_onload_callbacks.forEach(function(callback) { callback() });\n    }\n    finally {\n      delete root._bokeh_onload_callbacks\n    }\n    console.info(\"Bokeh: all callbacks have finished\");\n  }\n\n  function load_libs(js_urls, callback) {\n    root._bokeh_onload_callbacks.push(callback);\n    if (root._bokeh_is_loading > 0) {\n      console.log(\"Bokeh: BokehJS is being loaded, scheduling callback at\", now());\n      return null;\n    }\n    if (js_urls == null || js_urls.length === 0) {\n      run_callbacks();\n      return null;\n    }\n    console.log(\"Bokeh: BokehJS not loaded, scheduling load and callback at\", now());\n    root._bokeh_is_loading = js_urls.length;\n    for (var i = 0; i < js_urls.length; i++) {\n      var url = js_urls[i];\n      var s = document.createElement('script');\n      s.src = url;\n      s.async = false;\n      s.onreadystatechange = s.onload = function() {\n        root._bokeh_is_loading--;\n        if (root._bokeh_is_loading === 0) {\n          console.log(\"Bokeh: all BokehJS libraries loaded\");\n          run_callbacks()\n        }\n      };\n      s.onerror = function() {\n        console.warn(\"failed to load library \" + url);\n      };\n      console.log(\"Bokeh: injecting script tag for BokehJS library: \", url);\n      document.getElementsByTagName(\"head\")[0].appendChild(s);\n    }\n  };var element = document.getElementById(\"37dd6e80-5e35-4ce0-93a9-b290084a845e\");\n  if (element == null) {\n    console.log(\"Bokeh: ERROR: autoload.js configured with elementid '37dd6e80-5e35-4ce0-93a9-b290084a845e' but no matching script tag was found. \")\n    return false;\n  }\n\n  var js_urls = [\"https://cdn.pydata.org/bokeh/release/bokeh-0.12.16.min.js\", \"https://cdn.pydata.org/bokeh/release/bokeh-widgets-0.12.16.min.js\", \"https://cdn.pydata.org/bokeh/release/bokeh-tables-0.12.16.min.js\", \"https://cdn.pydata.org/bokeh/release/bokeh-gl-0.12.16.min.js\"];\n\n  var inline_js = [\n    function(Bokeh) {\n      Bokeh.set_log_level(\"info\");\n    },\n    \n    function(Bokeh) {\n      \n    },\n    function(Bokeh) {\n      console.log(\"Bokeh: injecting CSS: https://cdn.pydata.org/bokeh/release/bokeh-0.12.16.min.css\");\n      Bokeh.embed.inject_css(\"https://cdn.pydata.org/bokeh/release/bokeh-0.12.16.min.css\");\n      console.log(\"Bokeh: injecting CSS: https://cdn.pydata.org/bokeh/release/bokeh-widgets-0.12.16.min.css\");\n      Bokeh.embed.inject_css(\"https://cdn.pydata.org/bokeh/release/bokeh-widgets-0.12.16.min.css\");\n      console.log(\"Bokeh: injecting CSS: https://cdn.pydata.org/bokeh/release/bokeh-tables-0.12.16.min.css\");\n      Bokeh.embed.inject_css(\"https://cdn.pydata.org/bokeh/release/bokeh-tables-0.12.16.min.css\");\n    }\n  ];\n\n  function run_inline_js() {\n    \n    if ((root.Bokeh !== undefined) || (force === true)) {\n      for (var i = 0; i < inline_js.length; i++) {\n        inline_js[i].call(root, root.Bokeh);\n      }if (force === true) {\n        display_loaded();\n      }} else if (Date.now() < root._bokeh_timeout) {\n      setTimeout(run_inline_js, 100);\n    } else if (!root._bokeh_failed_load) {\n      console.log(\"Bokeh: BokehJS failed to load within specified timeout.\");\n      root._bokeh_failed_load = true;\n    } else if (force !== true) {\n      var cell = $(document.getElementById(\"37dd6e80-5e35-4ce0-93a9-b290084a845e\")).parents('.cell').data().cell;\n      cell.output_area.append_execute_result(NB_LOAD_WARNING)\n    }\n\n  }\n\n  if (root._bokeh_is_loading === 0) {\n    console.log(\"Bokeh: BokehJS loaded, going straight to plotting\");\n    run_inline_js();\n  } else {\n    load_libs(js_urls, function() {\n      console.log(\"Bokeh: BokehJS plotting callback run at\", now());\n      run_inline_js();\n    });\n  }\n}(window));"
     },
     "metadata": {},
     "output_type": "display_data"
    }
   ],
   "source": [
    "output_notebook()\n",
    "client = pymongo.MongoClient('localhost', 27017)"
   ]
  },
  {
   "cell_type": "markdown",
   "metadata": {
    "heading_collapsed": true
   },
   "source": [
    "## Data"
   ]
  },
  {
   "cell_type": "code",
   "execution_count": 3,
   "metadata": {
    "collapsed": true,
    "hidden": true
   },
   "outputs": [],
   "source": [
    "MOL = 'ch4'\n",
    "COMMITNUMBER = '1013f91'\n",
    "ATMPRO = dict(mls=294, saw=257, trp=300)"
   ]
  },
  {
   "cell_type": "code",
   "execution_count": 4,
   "metadata": {
    "collapsed": true,
    "hidden": true
   },
   "outputs": [],
   "source": [
    "atmcomp = AtmComposition.cliradlw_nongreys(onlygas=MOL)"
   ]
  },
  {
   "cell_type": "code",
   "execution_count": 5,
   "metadata": {
    "collapsed": true,
    "hidden": true
   },
   "outputs": [],
   "source": [
    "DCLI = {}\n",
    "for atmpro, _ in ATMPRO.items():\n",
    "    pcli = atmcomp.to_cliradparam(commitnumber=COMMITNUMBER, atmpro=atmpro, tsfc=ATMPRO[atmpro])\n",
    "    dcli = pcli.modeldata_pymongo(collection=client.cliradnew.lw)\n",
    "    DCLI[atmpro] = dcli"
   ]
  },
  {
   "cell_type": "code",
   "execution_count": 6,
   "metadata": {
    "collapsed": true,
    "hidden": true
   },
   "outputs": [],
   "source": [
    "DCRD = {}"
   ]
  },
  {
   "cell_type": "code",
   "execution_count": 15,
   "metadata": {
    "collapsed": true,
    "hidden": true
   },
   "outputs": [],
   "source": [
    "atmpro = 'trp'\n",
    "pcrds = atmcomp.to_lblnewparam(bestfit_values=True, atmpro=atmpro, tsfc=ATMPRO[atmpro])"
   ]
  },
  {
   "cell_type": "code",
   "execution_count": 16,
   "metadata": {
    "hidden": true,
    "scrolled": true
   },
   "outputs": [
    {
     "data": {
      "text/plain": [
       "[['5014a19']]"
      ]
     },
     "execution_count": 16,
     "metadata": {},
     "output_type": "execute_result"
    }
   ],
   "source": [
    "cmts = [p.avail_commits(client.lblnew.bestfit_lw) for p in pcrds]\n",
    "cmts"
   ]
  },
  {
   "cell_type": "code",
   "execution_count": 17,
   "metadata": {
    "collapsed": true,
    "hidden": true,
    "scrolled": false
   },
   "outputs": [],
   "source": [
    "commits = ['a06b618', '5014a19']\n",
    "dcrds = [p.modeldata_pymongo(collection=client.lblnew.bestfit_lw, commits=commits) for p in pcrds]\n",
    "\n",
    "dcrd = concat(*dcrds)\n",
    "DCRD[atmpro] = dcrd"
   ]
  },
  {
   "cell_type": "code",
   "execution_count": 18,
   "metadata": {
    "hidden": true
   },
   "outputs": [
    {
     "data": {
      "text/plain": [
       "({'mls': <climatools.dataset.CliradnewLWModelData at 0x2afdd3c0c748>,\n",
       "  'saw': <climatools.dataset.CliradnewLWModelData at 0x2afdd8450f98>,\n",
       "  'trp': <climatools.dataset.CliradnewLWModelData at 0x2afdd866da90>},\n",
       " {'mls': <climatools.dataset.LBLnewModelData at 0x2afdd89150f0>,\n",
       "  'saw': <climatools.dataset.LBLnewModelData at 0x2afdd8915780>,\n",
       "  'trp': <climatools.dataset.LBLnewModelData at 0x2afdd9054828>})"
      ]
     },
     "execution_count": 18,
     "metadata": {},
     "output_type": "execute_result"
    }
   ],
   "source": [
    "DCLI, DCRD"
   ]
  },
  {
   "cell_type": "markdown",
   "metadata": {},
   "source": [
    "## Analysis code"
   ]
  },
  {
   "cell_type": "code",
   "execution_count": 19,
   "metadata": {
    "collapsed": true
   },
   "outputs": [],
   "source": [
    "def show_html(s):\n",
    "    display.display(display.HTML(s))\n",
    "\n",
    "def show_markdown(s):\n",
    "    display.display(display.Markdown(s))"
   ]
  },
  {
   "cell_type": "code",
   "execution_count": 20,
   "metadata": {
    "collapsed": true
   },
   "outputs": [],
   "source": [
    "def show_parameters(dcrd, dcli):\n",
    "    srss = [pd.Series(dcli.param, name=':D')]\n",
    "    srss_crd = [pd.Series(p) for p in dcrd.param]\n",
    "    df = pd.concat(srss_crd, axis=1, sort=True, keys=[f\"band{s['band']} {s['molecule']}\" for s in srss_crd])\n",
    "    srss.append(df)\n",
    "    df = pd.concat(srss, axis=1, sort=True, keys=['clirad-lw', 'lblnew-bestfit lw'])\n",
    "    df.fillna('-', inplace=True)\n",
    "    with pd.option_context('display.max_colwidth', 100):\n",
    "        display.display(df)"
   ]
  },
  {
   "cell_type": "code",
   "execution_count": 21,
   "metadata": {
    "collapsed": true
   },
   "outputs": [],
   "source": [
    "import rtmtools.clirad.sw.wrangle as cliradwrangle\n",
    "\n",
    "def oldclirad_data_atm():\n",
    "    '''\n",
    "    Load the OLD clirad's results. mls only.\n",
    "    '''\n",
    "    fpath = os.path.join('/chia_cluster/home/jackyu/radiation',\n",
    "                         'clirad-lw',\n",
    "                         'LW',\n",
    "                         'examples',\n",
    "                         'mls75_h2o_atmpro_co2_.0004_o3_atmpro_n2o_3.2e-7_ch4_1.8e-6_H2012',\n",
    "                         'OUTPUT_CLIRAD.dat')\n",
    "    \n",
    "    ds = cliradwrangle.load_OUTPUT_CLIRAD(readfrom=fpath)\n",
    "    \n",
    "    ds_cool = xr.Dataset()\n",
    "    ds_cool.coords['pressure'] = ('pressure', ds['layer_pressure'])\n",
    "    ds_cool.coords['band'] = ('band', ds['spectral_band'])\n",
    "    ds_cool['coolrg'] = (('band', 'pressure'), - ds['heating_rate'])\n",
    "    \n",
    "    ds_flux = xr.Dataset()\n",
    "    ds_flux.coords['pressure'] = ('pressure', ds['level_pressure'])\n",
    "    ds_flux.coords['band'] = ('band', ds['spectral_band'])\n",
    "    ds_flux['flug'] = (('band', 'pressure'), ds['flux_up'])\n",
    "    ds_flux['fldg'] = (('band', 'pressure'), ds['flux_down'])\n",
    "    ds_flux['fnetg'] = (('band', 'pressure'), ds['net_flux'])\n",
    "    \n",
    "    \n",
    "    d = {}\n",
    "    d['cool'] = ds_cool\n",
    "    d['flux'] = ds_flux\n",
    "    return d"
   ]
  },
  {
   "cell_type": "code",
   "execution_count": 22,
   "metadata": {
    "collapsed": true
   },
   "outputs": [],
   "source": [
    "def show_makeup():\n",
    "    df = pd.DataFrame()\n",
    "    for band, gs in atmcomp.gasinbands.items():\n",
    "        for g in gs:\n",
    "            df.loc[g, band] = str(atmcomp.gasconcs[g])\n",
    "\n",
    "    df = df.fillna(0)\n",
    "    df.columns.name = 'clirad band'\n",
    "    df.index.name = 'molecule'\n",
    "    \n",
    "    display.display(df)\n",
    "    display.display(display.Markdown('*TABLE.* Non-grey absorbers in the atmosphere.'))"
   ]
  },
  {
   "cell_type": "code",
   "execution_count": 23,
   "metadata": {
    "collapsed": true,
    "scrolled": false
   },
   "outputs": [],
   "source": [
    "def pltdata_cool(dcrd=None, dcli=None, atmpro='mls'):\n",
    "    colors = all_palettes['Set1'][4]\n",
    "    cool_cli = dcli.wgt_cool.sel(i=1).sum('band')['coolrg']\n",
    "    cool_crd = dcrd.crd_cool['coolrg'].sum('band').sum('g')\n",
    "    \n",
    "    data = [\n",
    "        {'label': 'CLIRAD',\n",
    "         'srs': cool_cli,\n",
    "         'line_dash': 'dashed', 'line_width': 5,\n",
    "         'color': colors[0], 'alpha': .6},\n",
    "        {'label': 'CRD',\n",
    "         'srs': cool_crd,\n",
    "         'line_dash': 'solid', 'line_width': 1.5,\n",
    "         'marker': 'circle', 'marker_size': 5,\n",
    "         'color': colors[2], 'alpha': 1}\n",
    "    ]\n",
    "    \n",
    "    # include old CLIRAD's results for mls profile\n",
    "#    if atmpro == 'mls':\n",
    "#        d_oldclirad = oldclirad_data_atm()\n",
    "#        ds_oldclirad = d_oldclirad['cool']        \n",
    "#        data.append(\n",
    "#            {'label': 'old CLIRAD (H2012)',\n",
    "#             'srs': fmt_cool(ds_oldclirad),\n",
    "#             'line_dash': 'solid', 'line_width': 1.5,\n",
    "#             'marker': 'square', 'marker_size': 3,\n",
    "#             'color': colors[3], 'alpha': .5})\n",
    "    return data\n",
    "\n",
    "\n",
    "def pltdata_cooldiff(dcrd=None, dcli=None, atmpro='mls'): \n",
    "    colors = all_palettes['Set1'][4]\n",
    "    cool_cli = dcli.wgt_cool.sel(i=1).sum('band')['coolrg']\n",
    "    cool_crd = dcrd.crd_cool['coolrg'].sum('band').sum('g')\n",
    "    cool_dif = cool_cli - cool_crd\n",
    "    \n",
    "    data = [\n",
    "        {'label': 'CLIRAD - CRD',\n",
    "         'srs': cool_dif,\n",
    "         'line_dash': 'solid', 'line_width': 1.5, \n",
    "         'marker': 'circle', 'marker_size': 7,\n",
    "         'color': colors[3], 'alpha': .8}\n",
    "    ]\n",
    "    \n",
    "    # include old CLIRAD's results for mls profile\n",
    "#    if atmpro == 'mls':\n",
    "#        d_oldclirad = oldclirad_data_atm()\n",
    "#        ds_oldclirad = d_oldclirad['cool']\n",
    "#        ds_oldclirad.coords['pressure'] = ds_crd.coords['pressure']\n",
    "#        ds_diff_old = ds_oldclirad.sum('band') - ds_crd.sum('band')\n",
    "#        data.append(\n",
    "#            {'label': 'old CLIRAD (H2012) - CRD',\n",
    "#             'srs': fmt_cool(ds_diff_old),\n",
    "#             'line_dash': 'dashed', 'line_width': 4,\n",
    "#             'color': colors[1], 'alpha': .5}\n",
    "#        )\n",
    "    return data\n",
    "\n",
    "\n",
    "def show_cool(dcrd=None, dcli=None, atmpro='mls'):\n",
    "    data_cool = pltdata_cool(dcrd, dcli, atmpro=atmpro)\n",
    "    p_cool_liny = plt_vert_profile_bokeh(pltdata=data_cool)\n",
    "    p_cool_logy = plt_vert_profile_bokeh(pltdata=data_cool, y_axis_type='log', prange=(.01, 200))\n",
    "    \n",
    "    data_cooldiff = pltdata_cooldiff(dcrd, dcli, atmpro=atmpro)\n",
    "    p_cooldiff_logy = plt_vert_profile_bokeh(pltdata=data_cooldiff, y_axis_type='log', prange=(.01, 200))\n",
    "    \n",
    "    everything = gridplot(p_cool_liny, p_cool_logy, p_cooldiff_logy, ncols=3)\n",
    "    show(everything)\n",
    "    display.display(display.Markdown('*FIGURE.* Cooling rates & difference.'))"
   ]
  },
  {
   "cell_type": "code",
   "execution_count": 24,
   "metadata": {
    "collapsed": true,
    "scrolled": false
   },
   "outputs": [],
   "source": [
    "def hist_band_vs_flux(da, title='Title'):\n",
    "    bands = [str(b.values) for b in da['band']]\n",
    "    source = ColumnDataSource(data={'band': bands, 'flux': da.values})\n",
    "    p = figure(x_range=bands, title=title)\n",
    "    p.vbar(source=source, x='band', top='flux', width=.9)\n",
    "    p.yaxis.axis_label = 'flux (W m-2)'\n",
    "    p.xaxis.axis_label = 'spectral band'\n",
    "    return p\n",
    "\n",
    "def show_hist_flux(dcrd=None, dcli=None, atmpro='mls'):\n",
    "    ds_crd = dcrd.crd_flux.sum('g')\n",
    "    ds_clirad = dcli.wgt_flux.sel(i=1)\n",
    "    \n",
    "    ip, varname = 0, 'flug'\n",
    "    da = (ds_clirad - ds_crd).isel(pressure=ip)[varname]\n",
    "    p_toa = hist_band_vs_flux(da, title='TOA flux. CLIRAD - CRD.')\n",
    "\n",
    "    ip, varname = -1, 'fldg'\n",
    "    da = (ds_clirad - ds_crd).isel(pressure=ip)[varname]\n",
    "    p_sfc = hist_band_vs_flux(da, title='SFC flux. CLIRAD - CRD.')    \n",
    "    \n",
    "    atm_crd = (ds_crd.isel(pressure=0) - ds_crd.isel(pressure=-1))['fnetg']\n",
    "    atm_clirad = (ds_clirad.isel(pressure=0) - ds_clirad.isel(pressure=-1))['fnetg']\n",
    "    da = atm_clirad - atm_crd\n",
    "    p_atm = hist_band_vs_flux(da, title='Atmosphere heating. CLIRAD - CRD.')\n",
    "\n",
    "    everything = gridplot(p_toa, p_sfc, p_atm, ncols=3, plot_width=300, plot_height=300)\n",
    "    \n",
    "    show(everything)\n",
    "    display.display(\n",
    "        display.Markdown('*FIGURE.* Difference between CLIRAD and CRD'\n",
    "          ' in TOA, SFC and net atmosphere flux,'\n",
    "          ' in each spectral band.'))\n",
    "\n",
    "def show_tb_flux(dcrd=None, dcli=None, atmpro='mls'):\n",
    "    fluxcrd = dcrd.crd_flux.sum(['band', 'g'])\n",
    "    olr_crd = fluxcrd['flug'].isel(pressure=0)\n",
    "    sfc_crd = fluxcrd['fldg'].isel(pressure=-1)\n",
    "    atm_crd = (fluxcrd.isel(pressure=0) - fluxcrd.isel(pressure=-1))['fnetg']\n",
    "    \n",
    "    fluxcli = dcli.wgt_flux.sel(i=1).sum('band')\n",
    "    olr_cli = fluxcli['flug'].isel(pressure=0)\n",
    "    sfc_cli = fluxcli['fldg'].isel(pressure=-1)\n",
    "    atm_cli = (fluxcli.isel(pressure=0) - fluxcli.isel(pressure=-1))['fnetg']\n",
    "    \n",
    "#    if atmpro == 'mls':\n",
    "#        ds_oldclirad = oldclirad_data_atm()['flux']\n",
    "#        ds_oldclirad['pressure'] = ds_crd['pressure']\n",
    "#        olr_oldclirad = ds_oldclirad['flug'].isel(pressure=0)\n",
    "#        sfc_oldclirad = ds_oldclirad['fldg'].isel(pressure=-1)\n",
    "#        atm_oldclirad = (ds_oldclirad.isel(pressure=0)\n",
    "#                         - ds_oldclirad.isel(pressure=-1))['fnetg']\n",
    "        \n",
    "    df = pd.DataFrame()\n",
    "    df.index.name = 'Sum over bands'\n",
    "    \n",
    "#    if atmpro == 'mls':\n",
    "#        df.loc['old CLIRAD - CRD', 'OLR flux'] = (fmt(olr_oldclirad) - fmt(olr_crd)).values\n",
    "#        df.loc['old CLIRAD - CRD', 'SFC flux'] = (fmt(sfc_oldclirad) - fmt(sfc_crd)).values\n",
    "#        df.loc['old CLIRAD - CRD', 'ATM heating'] = (fmt(atm_oldclirad) - fmt(atm_crd)).values\n",
    "\n",
    "    df.loc['CLIRAD - CRD', 'OLR flux'] = (olr_cli - olr_crd).values\n",
    "    df.loc['CLIRAD - CRD', 'SFC flux'] = (sfc_cli - sfc_crd).values\n",
    "    df.loc['CLIRAD - CRD', 'ATM heating'] = (atm_cli - atm_crd).values\n",
    "\n",
    "    df.loc['CRD', 'OLR flux'] = olr_crd.values\n",
    "    df.loc['CRD', 'SFC flux'] = sfc_crd.values\n",
    "    df.loc['CRD', 'ATM heating'] = atm_crd.values\n",
    "        \n",
    "    df = df.astype('float').round(2)\n",
    "    \n",
    "    display.display(df)\n",
    "    display.display(\n",
    "        display.Markdown('*TABLE.* Difference between CLIRAD and CRD'\n",
    "          ' in TOA, SFC and net atmosphere flux,'\n",
    "          ' over all spectral bands. CRD\\'s'\n",
    "          ' TOA, SFC and net atmosphere flux,'\n",
    "          ' over all spectral bands.'))\n",
    "    \n",
    "\n",
    "#show_hist_flux(dcrd, dcli, atmpro='mls')\n",
    "#show_tb_flux(DCRD['mls'], DCLI['mls'], atmpro='mls')"
   ]
  },
  {
   "cell_type": "code",
   "execution_count": 25,
   "metadata": {
    "collapsed": true,
    "scrolled": true
   },
   "outputs": [],
   "source": [
    "def cool_tofile(atmpro=None):\n",
    "    dcli = clirad_data_atm(params_atm=[subparam_atm_clirad(atmpro=atmpro)])\n",
    "    dcrd = crd_data_atm(params_atm=subparams_atm_lblnew(atmpro=atmpro))\n",
    "    \n",
    "    dcli = dcli['cool'].sel(i=1).drop('i').sum('band')\n",
    "    dcrd = dcrd['cool'].sum('band')\n",
    "    \n",
    "    dcli = dcli['coolrg'].to_dataframe()\n",
    "    dcrd = dcrd['coolrg'].to_dataframe()\n",
    "    \n",
    "    dcli = dcli.set_index('layer', append=True)\n",
    "    dcrd = dcrd.set_index('layer', append=True)\n",
    "    \n",
    "    ddif = dcli - dcrd\n",
    "    \n",
    "    df = pd.concat([dcrd, dcli, ddif], axis=1, keys=['CRD', 'CLIRAD', 'CLIRAD - CRD'])\n",
    "    return df\n",
    "\n",
    "\n",
    "def flux_tofile(atmpro=None):\n",
    "    tropopauses = {'mls': 40, 'saw': 45, 'trp': 37}\n",
    "    ilevels = [0, tropopauses[atmpro], -1]\n",
    "    \n",
    "    dcli = clirad_data_atm(params_atm=[subparam_atm_clirad(atmpro=atmpro)])\n",
    "    dcrd = crd_data_atm(params_atm=subparams_atm_lblnew(atmpro=atmpro))\n",
    "    \n",
    "    dcli = dcli['flux'].sel(i=1).drop('i').sum('band').isel(pressure=ilevels)\n",
    "    dcrd = dcrd['flux'].sum('band').isel(pressure=ilevels)\n",
    "    \n",
    "    dcli = dcli.to_dataframe()\n",
    "    dcrd = dcrd.to_dataframe()\n",
    "    \n",
    "    dcli = dcli.set_index('level', append=True)\n",
    "    dcrd = dcrd.set_index('level', append=True)\n",
    "    \n",
    "    ddif = dcli - dcrd\n",
    "    \n",
    "    df = pd.concat([dcrd, dcli, ddif], axis=1, keys=['CRD', 'CLIRAD', 'CLIRAD - CRD'])\n",
    "    return df\n",
    "\n",
    "\n",
    "def script_tofile():\n",
    "    fname = f'results_{MOL}atm_cliradsinglerun.xlsx'\n",
    "    writer = pd.ExcelWriter(fname)\n",
    "    for atmpro in ('mls', 'saw', 'trp'):\n",
    "        dflux = flux_tofile(atmpro=atmpro)\n",
    "        dflux.to_excel(writer, f'flux {atmpro}')\n",
    "        \n",
    "        dcool = cool_tofile(atmpro=atmpro)\n",
    "        dcool.to_excel(writer, f'cool {atmpro}')\n",
    "        \n",
    "    html = f'Download: <a href=\"./{fname}\">{fname}</a>'\n",
    "    show_html(html) "
   ]
  },
  {
   "cell_type": "code",
   "execution_count": 26,
   "metadata": {
    "collapsed": true,
    "scrolled": false
   },
   "outputs": [],
   "source": [
    "def script():\n",
    "    \n",
    "    d_atm = {'mls': 'mid-latitude summer', 'saw': 'sub-arctic winter', 'trp': 'tropical'}\n",
    "    \n",
    "    s_makeup = 'Makeup of atmosphere.'\n",
    "    s_parameters = 'Parameters of runs.'\n",
    "    s_atmpro = '# {}'\n",
    "    s_cool = 'Cooling rates. {}.'\n",
    "    s_flux = 'Fluxes. {}.'\n",
    "    \n",
    "    atmpros = ['mls', 'saw', 'trp']\n",
    "    \n",
    "    # TOC\n",
    "    show_markdown('### Table of Contents')\n",
    "    show_html(getHTML_hrefanchor(s_makeup))\n",
    "    \n",
    "    for atmpro in atmpros:\n",
    "        show_markdown('**' + d_atm[atmpro] + '**')\n",
    "        show_html(getHTML_hrefanchor(s_parameters + f' {atmpro}'))\n",
    "        show_html(getHTML_hrefanchor(s_cool.format(atmpro)))\n",
    "        show_html(getHTML_hrefanchor(s_flux.format(atmpro)))\n",
    "\n",
    "    # Atmosphere makeup\n",
    "    show_html(getHTML_idanchor(s_makeup))\n",
    "    show_markdown(getMarkdown_sectitle(s_makeup))\n",
    "    show_makeup()\n",
    "        \n",
    "    for atmpro in atmpros:\n",
    "        dcrd, dcli = DCRD[atmpro], DCLI[atmpro]\n",
    "        \n",
    "        show_html(getHTML_idanchor(s_parameters + f' {atmpro}'))\n",
    "        show_markdown(getMarkdown_sectitle(s_parameters + f' {atmpro}'))\n",
    "        show_parameters(dcrd, dcli)\n",
    "        \n",
    "        show_html(getHTML_idanchor(s_cool.format(atmpro)))\n",
    "        show_markdown(getMarkdown_sectitle(s_cool.format(atmpro)))\n",
    "        show_cool(dcrd, dcli, atmpro=atmpro)\n",
    "        \n",
    "        show_html(getHTML_idanchor(s_flux.format(atmpro)))\n",
    "        show_markdown(getMarkdown_sectitle(s_flux.format(atmpro)))\n",
    "        show_hist_flux(dcrd, dcli, atmpro=atmpro)\n",
    "        show_tb_flux(dcrd, dcli, atmpro=atmpro)\n",
    "    \n",
    "    #script_tofile()"
   ]
  },
  {
   "cell_type": "markdown",
   "metadata": {},
   "source": [
    "## Analysis Result"
   ]
  },
  {
   "cell_type": "code",
   "execution_count": 27,
   "metadata": {
    "scrolled": false
   },
   "outputs": [
    {
     "data": {
      "text/markdown": [
       "### Table of Contents"
      ],
      "text/plain": [
       "<IPython.core.display.Markdown object>"
      ]
     },
     "metadata": {},
     "output_type": "display_data"
    },
    {
     "data": {
      "text/html": [
       "<a href=\"#Makeup_of_atmosphere.\">Makeup of atmosphere.</a>"
      ],
      "text/plain": [
       "<IPython.core.display.HTML object>"
      ]
     },
     "metadata": {},
     "output_type": "display_data"
    },
    {
     "data": {
      "text/markdown": [
       "**mid-latitude summer**"
      ],
      "text/plain": [
       "<IPython.core.display.Markdown object>"
      ]
     },
     "metadata": {},
     "output_type": "display_data"
    },
    {
     "data": {
      "text/html": [
       "<a href=\"#Parameters_of_runs._mls\">Parameters of runs. mls</a>"
      ],
      "text/plain": [
       "<IPython.core.display.HTML object>"
      ]
     },
     "metadata": {},
     "output_type": "display_data"
    },
    {
     "data": {
      "text/html": [
       "<a href=\"#Cooling_rates._mls.\">Cooling rates. mls.</a>"
      ],
      "text/plain": [
       "<IPython.core.display.HTML object>"
      ]
     },
     "metadata": {},
     "output_type": "display_data"
    },
    {
     "data": {
      "text/html": [
       "<a href=\"#Fluxes._mls.\">Fluxes. mls.</a>"
      ],
      "text/plain": [
       "<IPython.core.display.HTML object>"
      ]
     },
     "metadata": {},
     "output_type": "display_data"
    },
    {
     "data": {
      "text/markdown": [
       "**sub-arctic winter**"
      ],
      "text/plain": [
       "<IPython.core.display.Markdown object>"
      ]
     },
     "metadata": {},
     "output_type": "display_data"
    },
    {
     "data": {
      "text/html": [
       "<a href=\"#Parameters_of_runs._saw\">Parameters of runs. saw</a>"
      ],
      "text/plain": [
       "<IPython.core.display.HTML object>"
      ]
     },
     "metadata": {},
     "output_type": "display_data"
    },
    {
     "data": {
      "text/html": [
       "<a href=\"#Cooling_rates._saw.\">Cooling rates. saw.</a>"
      ],
      "text/plain": [
       "<IPython.core.display.HTML object>"
      ]
     },
     "metadata": {},
     "output_type": "display_data"
    },
    {
     "data": {
      "text/html": [
       "<a href=\"#Fluxes._saw.\">Fluxes. saw.</a>"
      ],
      "text/plain": [
       "<IPython.core.display.HTML object>"
      ]
     },
     "metadata": {},
     "output_type": "display_data"
    },
    {
     "data": {
      "text/markdown": [
       "**tropical**"
      ],
      "text/plain": [
       "<IPython.core.display.Markdown object>"
      ]
     },
     "metadata": {},
     "output_type": "display_data"
    },
    {
     "data": {
      "text/html": [
       "<a href=\"#Parameters_of_runs._trp\">Parameters of runs. trp</a>"
      ],
      "text/plain": [
       "<IPython.core.display.HTML object>"
      ]
     },
     "metadata": {},
     "output_type": "display_data"
    },
    {
     "data": {
      "text/html": [
       "<a href=\"#Cooling_rates._trp.\">Cooling rates. trp.</a>"
      ],
      "text/plain": [
       "<IPython.core.display.HTML object>"
      ]
     },
     "metadata": {},
     "output_type": "display_data"
    },
    {
     "data": {
      "text/html": [
       "<a href=\"#Fluxes._trp.\">Fluxes. trp.</a>"
      ],
      "text/plain": [
       "<IPython.core.display.HTML object>"
      ]
     },
     "metadata": {},
     "output_type": "display_data"
    },
    {
     "data": {
      "text/html": [
       "<a id=\"Makeup_of_atmosphere.\"></a>"
      ],
      "text/plain": [
       "<IPython.core.display.HTML object>"
      ]
     },
     "metadata": {},
     "output_type": "display_data"
    },
    {
     "data": {
      "text/markdown": [
       "# Makeup of atmosphere."
      ],
      "text/plain": [
       "<IPython.core.display.Markdown object>"
      ]
     },
     "metadata": {},
     "output_type": "display_data"
    },
    {
     "data": {
      "text/html": [
       "<div>\n",
       "<style scoped>\n",
       "    .dataframe tbody tr th:only-of-type {\n",
       "        vertical-align: middle;\n",
       "    }\n",
       "\n",
       "    .dataframe tbody tr th {\n",
       "        vertical-align: top;\n",
       "    }\n",
       "\n",
       "    .dataframe thead th {\n",
       "        text-align: right;\n",
       "    }\n",
       "</style>\n",
       "<table border=\"1\" class=\"dataframe\">\n",
       "  <thead>\n",
       "    <tr style=\"text-align: right;\">\n",
       "      <th>clirad band</th>\n",
       "      <th>9</th>\n",
       "    </tr>\n",
       "    <tr>\n",
       "      <th>molecule</th>\n",
       "      <th></th>\n",
       "    </tr>\n",
       "  </thead>\n",
       "  <tbody>\n",
       "    <tr>\n",
       "      <th>ch4</th>\n",
       "      <td>1.8e-06</td>\n",
       "    </tr>\n",
       "  </tbody>\n",
       "</table>\n",
       "</div>"
      ],
      "text/plain": [
       "clirad band        9\n",
       "molecule            \n",
       "ch4          1.8e-06"
      ]
     },
     "metadata": {},
     "output_type": "display_data"
    },
    {
     "data": {
      "text/markdown": [
       "*TABLE.* Non-grey absorbers in the atmosphere."
      ],
      "text/plain": [
       "<IPython.core.display.Markdown object>"
      ]
     },
     "metadata": {},
     "output_type": "display_data"
    },
    {
     "data": {
      "text/html": [
       "<a id=\"Parameters_of_runs._mls\"></a>"
      ],
      "text/plain": [
       "<IPython.core.display.HTML object>"
      ]
     },
     "metadata": {},
     "output_type": "display_data"
    },
    {
     "data": {
      "text/markdown": [
       "# Parameters of runs. mls"
      ],
      "text/plain": [
       "<IPython.core.display.Markdown object>"
      ]
     },
     "metadata": {},
     "output_type": "display_data"
    },
    {
     "data": {
      "text/html": [
       "<div>\n",
       "<style scoped>\n",
       "    .dataframe tbody tr th:only-of-type {\n",
       "        vertical-align: middle;\n",
       "    }\n",
       "\n",
       "    .dataframe tbody tr th {\n",
       "        vertical-align: top;\n",
       "    }\n",
       "\n",
       "    .dataframe thead tr th {\n",
       "        text-align: left;\n",
       "    }\n",
       "</style>\n",
       "<table border=\"1\" class=\"dataframe\">\n",
       "  <thead>\n",
       "    <tr>\n",
       "      <th></th>\n",
       "      <th>clirad-lw</th>\n",
       "      <th>lblnew-bestfit lw</th>\n",
       "    </tr>\n",
       "    <tr>\n",
       "      <th></th>\n",
       "      <th>:D</th>\n",
       "      <th>band7 ch4</th>\n",
       "    </tr>\n",
       "  </thead>\n",
       "  <tbody>\n",
       "    <tr>\n",
       "      <th>atmpro</th>\n",
       "      <td>mls</td>\n",
       "      <td>mls</td>\n",
       "    </tr>\n",
       "    <tr>\n",
       "      <th>band</th>\n",
       "      <td>[9]</td>\n",
       "      <td>7</td>\n",
       "    </tr>\n",
       "    <tr>\n",
       "      <th>commitnumber</th>\n",
       "      <td>1013f91</td>\n",
       "      <td>a06b618</td>\n",
       "    </tr>\n",
       "    <tr>\n",
       "      <th>conc</th>\n",
       "      <td>-</td>\n",
       "      <td>1.8e-06</td>\n",
       "    </tr>\n",
       "    <tr>\n",
       "      <th>dv</th>\n",
       "      <td>-</td>\n",
       "      <td>0.001</td>\n",
       "    </tr>\n",
       "    <tr>\n",
       "      <th>klin</th>\n",
       "      <td>-</td>\n",
       "      <td>2e-21</td>\n",
       "    </tr>\n",
       "    <tr>\n",
       "      <th>molecule</th>\n",
       "      <td>{'ch4': 1.8e-06}</td>\n",
       "      <td>ch4</td>\n",
       "    </tr>\n",
       "    <tr>\n",
       "      <th>ng_adju</th>\n",
       "      <td>-</td>\n",
       "      <td>[0, 0]</td>\n",
       "    </tr>\n",
       "    <tr>\n",
       "      <th>ng_refs</th>\n",
       "      <td>-</td>\n",
       "      <td>[2, 3]</td>\n",
       "    </tr>\n",
       "    <tr>\n",
       "      <th>nv</th>\n",
       "      <td>-</td>\n",
       "      <td>1000</td>\n",
       "    </tr>\n",
       "    <tr>\n",
       "      <th>option_compute_btable</th>\n",
       "      <td>-</td>\n",
       "      <td>0</td>\n",
       "    </tr>\n",
       "    <tr>\n",
       "      <th>option_compute_ktable</th>\n",
       "      <td>-</td>\n",
       "      <td>1</td>\n",
       "    </tr>\n",
       "    <tr>\n",
       "      <th>option_wgt_flux</th>\n",
       "      <td>-</td>\n",
       "      <td>1</td>\n",
       "    </tr>\n",
       "    <tr>\n",
       "      <th>option_wgt_k</th>\n",
       "      <td>-</td>\n",
       "      <td>1</td>\n",
       "    </tr>\n",
       "    <tr>\n",
       "      <th>ref_pts</th>\n",
       "      <td>-</td>\n",
       "      <td>[[1, 250], [500, 250]]</td>\n",
       "    </tr>\n",
       "    <tr>\n",
       "      <th>tsfc</th>\n",
       "      <td>294</td>\n",
       "      <td>294</td>\n",
       "    </tr>\n",
       "    <tr>\n",
       "      <th>vmax</th>\n",
       "      <td>-</td>\n",
       "      <td>1380</td>\n",
       "    </tr>\n",
       "    <tr>\n",
       "      <th>vmin</th>\n",
       "      <td>-</td>\n",
       "      <td>1215</td>\n",
       "    </tr>\n",
       "    <tr>\n",
       "      <th>w_diffuse</th>\n",
       "      <td>-</td>\n",
       "      <td>[[1.66, 1.66], [1.66, 1.66, 1.66]]</td>\n",
       "    </tr>\n",
       "    <tr>\n",
       "      <th>wgt</th>\n",
       "      <td>-</td>\n",
       "      <td>[[0.7, 0.7], [0.4, 0.6, 0.75]]</td>\n",
       "    </tr>\n",
       "  </tbody>\n",
       "</table>\n",
       "</div>"
      ],
      "text/plain": [
       "                              clirad-lw                   lblnew-bestfit lw\n",
       "                                     :D                           band7 ch4\n",
       "atmpro                              mls                                 mls\n",
       "band                                [9]                                   7\n",
       "commitnumber                    1013f91                             a06b618\n",
       "conc                                  -                             1.8e-06\n",
       "dv                                    -                               0.001\n",
       "klin                                  -                               2e-21\n",
       "molecule               {'ch4': 1.8e-06}                                 ch4\n",
       "ng_adju                               -                              [0, 0]\n",
       "ng_refs                               -                              [2, 3]\n",
       "nv                                    -                                1000\n",
       "option_compute_btable                 -                                   0\n",
       "option_compute_ktable                 -                                   1\n",
       "option_wgt_flux                       -                                   1\n",
       "option_wgt_k                          -                                   1\n",
       "ref_pts                               -              [[1, 250], [500, 250]]\n",
       "tsfc                                294                                 294\n",
       "vmax                                  -                                1380\n",
       "vmin                                  -                                1215\n",
       "w_diffuse                             -  [[1.66, 1.66], [1.66, 1.66, 1.66]]\n",
       "wgt                                   -      [[0.7, 0.7], [0.4, 0.6, 0.75]]"
      ]
     },
     "metadata": {},
     "output_type": "display_data"
    },
    {
     "data": {
      "text/html": [
       "<a id=\"Cooling_rates._mls.\"></a>"
      ],
      "text/plain": [
       "<IPython.core.display.HTML object>"
      ]
     },
     "metadata": {},
     "output_type": "display_data"
    },
    {
     "data": {
      "text/markdown": [
       "# Cooling rates. mls."
      ],
      "text/plain": [
       "<IPython.core.display.Markdown object>"
      ]
     },
     "metadata": {},
     "output_type": "display_data"
    },
    {
     "data": {
      "text/html": [
       "\n",
       "<div class=\"bk-root\">\n",
       "    <div class=\"bk-plotdiv\" id=\"2e3a0b2c-ac7c-4a2a-ad0f-b36a576e61c4\"></div>\n",
       "</div>"
      ]
     },
     "metadata": {},
     "output_type": "display_data"
    },
    {
     "data": {
      "application/javascript": [
       "(function(root) {\n",
       "  function embed_document(root) {\n",
       "    \n",
       "  var docs_json = {\"3a8cb1fa-86f2-449e-b56b-e755abd177a8\":{\"roots\":{\"references\":[{\"attributes\":{\"source\":{\"id\":\"fcd7760b-c3c8-4233-a7bb-4fe91283bcfd\",\"type\":\"ColumnDataSource\"}},\"id\":\"44e48cc6-4787-4e41-81ea-d4993789c929\",\"type\":\"CDSView\"},{\"attributes\":{\"axis_label\":\"pressure [mb]\",\"formatter\":{\"id\":\"3a668f5a-6c65-4c2a-9d63-cf39b8a68027\",\"type\":\"BasicTickFormatter\"},\"plot\":{\"id\":\"290e0570-233d-4f88-b6f9-26e0ac5dc0e6\",\"subtype\":\"Figure\",\"type\":\"Plot\"},\"ticker\":{\"id\":\"bdd42964-99cc-4e9a-9ea4-973b82cbd965\",\"type\":\"BasicTicker\"}},\"id\":\"ff19f980-d9b3-47e0-a05f-d004b58484e1\",\"type\":\"LinearAxis\"},{\"attributes\":{\"line_color\":\"#4daf4a\",\"line_width\":1.5,\"x\":{\"field\":\"x\"},\"y\":{\"field\":\"y\"}},\"id\":\"f3fdc2a5-15ba-4aad-8f11-1e9e4672979b\",\"type\":\"Line\"},{\"attributes\":{\"callback\":null,\"data\":{\"x\":{\"__ndarray__\":\"ULITVFunpD849/e6UYykPyF9r6N/RaQ/ft+EPKD8oz905BgWSLGjP+Ruz1AacqM/wt6+paM0oz8/0Gpg4QejPyhxU3Eu46I/wzdbFADaoj8L0RLhweyiP81qP89zJKM/o0ZTqYeXoz9haxnQRFGkPzV5VgeNqqQ/SbeFj4oqoz/8IcHlcuqfP93cMjGgvpg/DO/3WBsAkT8oPjJtlG+BPwCAvyYXRy6/UKfgQZ5thr/QAS++vcmTvwA4pG4RdYK/cKx8Q5+XiD8A15Sd9USXP8gljMarDZY/iKGgSbJoiz8kTax537BwPyAGiehhYmC/tEOvsX8Lbb/+mMHmxKhgvwCIPKNruRY/NpARn1P3Uj/1WYxQ1TlRP8AX7StNcC4/YIglAbncR79Q5CrFdypcv3CjtHZcBmS/QB4jJWn6Zb8IlkJNYd9mv0ib4h5Lqmi/APFqpQYNZ7+QuA6hm59kvxCONqVpOmK/qOVNp3hBYL8AHfaehz5dvxBkSCgWrFu/ONItWwywWr9AWKwr8rhav6gLZqAY3Vu/TFfgDN34Xb8IB6jkYTRfv7yWNYIhoGC/sGOqYl/GYb/8O8+IzcZiv44/J9ALl2O/vL3b8pgyZL9wwyg0OJpkv9DsF/2Gq2S/sNLTlCtbZL+I+LnfiC9kv0D9rRqjIWO/sCa84r8gYr+Qiie6K41hv5APZTU8tmC/sG83hbA6YL9ABLSBePxevyDliOlmE1q/YD/7D5OEVL+AzsyTnpxMvwD6gJQHtEG/AP2vABA6O78Awkr97Cs+vwDQay7mh1O/\",\"dtype\":\"float64\",\"shape\":[75]},\"y\":{\"__ndarray__\":\"GhExyth1ND/Sv8nbtpRIP2vylNV0PVE/aTum7souWD/At0SJ8fVgPw3Iuahxymc/MSNhhJWvcD/bTfBN02d3P2zb5nxnaoA/CD5h5MAGhz8NmeH1TyaQP+zrCsc9p5Y/LbKd76fGnz/bLW5ISEmmPww9YvTcQq8/JV2OstnstT8Er5Y7M8G+P0c+r3jqkcU/5h99k6ZBzj88bCIzFzjVP4enV8oyxN0//yH99nXg5D8qOpLLf0jtP5kqGJXUifQ/c9cS8kHP/D+/DpwzojQEQIEmwoanVwxA4lgXt9HgE0BSSZ2AJuIbQAMJih9jjiNA5q4l5INuK0AwTKYKRj0zQNv5fmq8/DpAaCJseHrtQkB/+zpwzoxKQM3MzMzMeFJAZmZmZmZqWEAAAAAAAFxeQM3MzMzMJmJAmpmZmZkfZUBmZmZmZhhoQDMzMzMzEWtAAAAAAAAKbkBmZmZmZoFwQM3MzMzM/XFAMzMzMzN6c0CamZmZmfZ0QAAAAAAAc3ZAZmZmZmbvd0DNzMzMzGt5QDMzMzMz6HpAmpmZmZlkfEAAAAAAAOF9QGZmZmZmXX9AZmZmZuZsgECamZmZGSuBQM3MzMxM6YFAAAAAAICngkAzMzMzs2WDQGZmZmbmI4RAmpmZmRnihEDNzMzMTKCFQAAAAACAXoZAMzMzM7Mch0BmZmZm5tqHQJqZmZkZmYhAzczMzExXiUAAAAAAgBWKQDMzMzOz04pAZmZmZuaRi0CamZmZGVCMQM3MzMxMDo1AAAAAAIDMjUAzMzMzs4qOQGZmZmbmSI9A\",\"dtype\":\"float64\",\"shape\":[75]}},\"selected\":{\"id\":\"8b4e7e0b-8c67-4acd-9c02-be1741c2d071\",\"type\":\"Selection\"},\"selection_policy\":{\"id\":\"b204be53-1c64-4494-a59b-340cfc93fedc\",\"type\":\"UnionRenderers\"}},\"id\":\"35057c09-10e9-48a8-8430-3a14a1728670\",\"type\":\"ColumnDataSource\"},{\"attributes\":{\"source\":{\"id\":\"c55f67ed-6896-4e94-8c7a-010fa565b09e\",\"type\":\"ColumnDataSource\"}},\"id\":\"d0ced3bd-8ddf-4792-bb6c-cca642792e44\",\"type\":\"CDSView\"},{\"attributes\":{\"callback\":null,\"data\":{\"x\":{\"__ndarray__\":\"MMuxyPpuur9qCV/SckK6v+hTEw3y27m/qQAWqrVuub+AP4ApmwG5v6PyjdvQlri/qY5YDqIuuL8QIKbi98q3v3y684Ddbbe/k3ICrdMat797E18Vx9a2vzdLgnSWp7a/pkc3uzaWtr9gCQjJ+qe2vyzKbsE1zLW/m+H9327Psb8mYgHlJEWlv9d2WW7h83u/qf8Ys6LioT/PIx0B+Lm1P6iWGYatfsI/b2cP4nylyz96BKQEcuDRP1nSemF9OtE/c185CFsYyT+S9TSyOzfAP1OWKUFlobM/jKn/6Tz0pj+RslxYV+ibP3K0E2FJd5I/N0pSQFKSiD+OL9Ao88x8P/CSLRhYPm8/DtI8rr8QWT+p8s/AaUthvzdrJGC72X2/zbaxLkFkiL8MPoE7RjWQv1rjZMm5oJW/WEkj35eFm79rXN3E4Aeev1j9xgZUnpy/IhNzf6PMmr8pcjPHGBeZv6m5A6wcS5e/mWHt8NpTlb+upZMUFSmTvyJ+I9VOyJC/yfcSmzxljL+z/wpWi9+Gvzi9YjYLJIG/QAY0ZaC6dr+Qv/ivv5Rmv7CYFalOa/c+DRlB3PZHZz/GmONl1pJ3P+kRgH/4AoI/RZbPuAyKiD9dXTf42GaPPxKSIElYUJM/L5Mf4aUglz9ff9DRKiubP6wgFlkKeJ8/EjsW/a4Hoj/6Cn7W1nqkP6QYU+7DEKc/UBjkiw6xqT9+V/NAxSisP7wdcR58RK4/+y1Upvb/rz+khvOSCcewPwcyc3fklrE/7FSTBWeHsj+DbBnspq2zP5pg+ASpLbU/\",\"dtype\":\"float64\",\"shape\":[75]},\"y\":{\"__ndarray__\":\"GhExyth1ND/Sv8nbtpRIP2vylNV0PVE/aTum7souWD/At0SJ8fVgPw3Iuahxymc/MSNhhJWvcD/bTfBN02d3P2zb5nxnaoA/CD5h5MAGhz8NmeH1TyaQP+zrCsc9p5Y/LbKd76fGnz/bLW5ISEmmPww9YvTcQq8/JV2OstnstT8Er5Y7M8G+P0c+r3jqkcU/5h99k6ZBzj88bCIzFzjVP4enV8oyxN0//yH99nXg5D8qOpLLf0jtP5kqGJXUifQ/c9cS8kHP/D+/DpwzojQEQIEmwoanVwxA4lgXt9HgE0BSSZ2AJuIbQAMJih9jjiNA5q4l5INuK0AwTKYKRj0zQNv5fmq8/DpAaCJseHrtQkB/+zpwzoxKQM3MzMzMeFJAZmZmZmZqWEAAAAAAAFxeQM3MzMzMJmJAmpmZmZkfZUBmZmZmZhhoQDMzMzMzEWtAAAAAAAAKbkBmZmZmZoFwQM3MzMzM/XFAMzMzMzN6c0CamZmZmfZ0QAAAAAAAc3ZAZmZmZmbvd0DNzMzMzGt5QDMzMzMz6HpAmpmZmZlkfEAAAAAAAOF9QGZmZmZmXX9AZmZmZuZsgECamZmZGSuBQM3MzMxM6YFAAAAAAICngkAzMzMzs2WDQGZmZmbmI4RAmpmZmRnihEDNzMzMTKCFQAAAAACAXoZAMzMzM7Mch0BmZmZm5tqHQJqZmZkZmYhAzczMzExXiUAAAAAAgBWKQDMzMzOz04pAZmZmZuaRi0CamZmZGVCMQM3MzMxMDo1AAAAAAIDMjUAzMzMzs4qOQGZmZmbmSI9A\",\"dtype\":\"float64\",\"shape\":[75]}},\"selected\":{\"id\":\"b153489d-e176-4c4b-bc13-64e23c3d721c\",\"type\":\"Selection\"},\"selection_policy\":{\"id\":\"38549b61-1406-44a5-8cc1-5c62664a73a7\",\"type\":\"UnionRenderers\"}},\"id\":\"fcd7760b-c3c8-4233-a7bb-4fe91283bcfd\",\"type\":\"ColumnDataSource\"},{\"attributes\":{},\"id\":\"3a668f5a-6c65-4c2a-9d63-cf39b8a68027\",\"type\":\"BasicTickFormatter\"},{\"attributes\":{\"callback\":null,\"data\":{\"x\":{\"__ndarray__\":\"MMuxyPpuur9qCV/SckK6v+hTEw3y27m/qQAWqrVuub+AP4ApmwG5v6PyjdvQlri/qY5YDqIuuL8QIKbi98q3v3y684Ddbbe/k3ICrdMat797E18Vx9a2vzdLgnSWp7a/pkc3uzaWtr9gCQjJ+qe2vyzKbsE1zLW/m+H9327Psb8mYgHlJEWlv9d2WW7h83u/qf8Ys6LioT/PIx0B+Lm1P6iWGYatfsI/b2cP4nylyz96BKQEcuDRP1nSemF9OtE/c185CFsYyT+S9TSyOzfAP1OWKUFlobM/jKn/6Tz0pj+RslxYV+ibP3K0E2FJd5I/N0pSQFKSiD+OL9Ao88x8P/CSLRhYPm8/DtI8rr8QWT+p8s/AaUthvzdrJGC72X2/zbaxLkFkiL8MPoE7RjWQv1rjZMm5oJW/WEkj35eFm79rXN3E4Aeev1j9xgZUnpy/IhNzf6PMmr8pcjPHGBeZv6m5A6wcS5e/mWHt8NpTlb+upZMUFSmTvyJ+I9VOyJC/yfcSmzxljL+z/wpWi9+Gvzi9YjYLJIG/QAY0ZaC6dr+Qv/ivv5Rmv7CYFalOa/c+DRlB3PZHZz/GmONl1pJ3P+kRgH/4AoI/RZbPuAyKiD9dXTf42GaPPxKSIElYUJM/L5Mf4aUglz9ff9DRKiubP6wgFlkKeJ8/EjsW/a4Hoj/6Cn7W1nqkP6QYU+7DEKc/UBjkiw6xqT9+V/NAxSisP7wdcR58RK4/+y1Upvb/rz+khvOSCcewPwcyc3fklrE/7FSTBWeHsj+DbBnspq2zP5pg+ASpLbU/\",\"dtype\":\"float64\",\"shape\":[75]},\"y\":{\"__ndarray__\":\"GhExyth1ND/Sv8nbtpRIP2vylNV0PVE/aTum7souWD/At0SJ8fVgPw3Iuahxymc/MSNhhJWvcD/bTfBN02d3P2zb5nxnaoA/CD5h5MAGhz8NmeH1TyaQP+zrCsc9p5Y/LbKd76fGnz/bLW5ISEmmPww9YvTcQq8/JV2OstnstT8Er5Y7M8G+P0c+r3jqkcU/5h99k6ZBzj88bCIzFzjVP4enV8oyxN0//yH99nXg5D8qOpLLf0jtP5kqGJXUifQ/c9cS8kHP/D+/DpwzojQEQIEmwoanVwxA4lgXt9HgE0BSSZ2AJuIbQAMJih9jjiNA5q4l5INuK0AwTKYKRj0zQNv5fmq8/DpAaCJseHrtQkB/+zpwzoxKQM3MzMzMeFJAZmZmZmZqWEAAAAAAAFxeQM3MzMzMJmJAmpmZmZkfZUBmZmZmZhhoQDMzMzMzEWtAAAAAAAAKbkBmZmZmZoFwQM3MzMzM/XFAMzMzMzN6c0CamZmZmfZ0QAAAAAAAc3ZAZmZmZmbvd0DNzMzMzGt5QDMzMzMz6HpAmpmZmZlkfEAAAAAAAOF9QGZmZmZmXX9AZmZmZuZsgECamZmZGSuBQM3MzMxM6YFAAAAAAICngkAzMzMzs2WDQGZmZmbmI4RAmpmZmRnihEDNzMzMTKCFQAAAAACAXoZAMzMzM7Mch0BmZmZm5tqHQJqZmZkZmYhAzczMzExXiUAAAAAAgBWKQDMzMzOz04pAZmZmZuaRi0CamZmZGVCMQM3MzMxMDo1AAAAAAIDMjUAzMzMzs4qOQGZmZmbmSI9A\",\"dtype\":\"float64\",\"shape\":[75]}},\"selected\":{\"id\":\"642b4472-82cf-4a7e-a68b-627b413c299d\",\"type\":\"Selection\"},\"selection_policy\":{\"id\":\"f3b11286-bae6-4c93-9e82-e3659eb78106\",\"type\":\"UnionRenderers\"}},\"id\":\"05c50c6e-ef12-4ffc-bd42-c113691c4782\",\"type\":\"ColumnDataSource\"},{\"attributes\":{\"fill_alpha\":{\"value\":0.7},\"fill_color\":{\"value\":\"#4daf4a\"},\"line_alpha\":{\"value\":0.7},\"line_color\":{\"value\":\"#4daf4a\"},\"x\":{\"field\":\"x\"},\"y\":{\"field\":\"y\"}},\"id\":\"97bc98de-a414-4389-b116-4637d1266d3b\",\"type\":\"Circle\"},{\"attributes\":{\"label\":{\"value\":\"CLIRAD\"},\"renderers\":[{\"id\":\"246df1fc-4571-41a3-87ef-f458e8c047d6\",\"type\":\"GlyphRenderer\"}]},\"id\":\"9d74fd1f-1485-4a41-b770-c09a2117fbfe\",\"type\":\"LegendItem\"},{\"attributes\":{\"label\":{\"value\":\"CRD\"},\"renderers\":[{\"id\":\"0379f917-7b44-4ce5-9182-81ac69efea3b\",\"type\":\"GlyphRenderer\"},{\"id\":\"1b05247d-3e08-44b3-9749-c67ff0e1d465\",\"type\":\"GlyphRenderer\"}]},\"id\":\"f3d6c6e5-60d4-4afe-b5d4-52c37bb1d26a\",\"type\":\"LegendItem\"},{\"attributes\":{\"active_drag\":\"auto\",\"active_inspect\":\"auto\",\"active_scroll\":\"auto\",\"active_tap\":\"auto\",\"tools\":[{\"id\":\"127dca52-1502-4638-bea0-2ef3184a03a4\",\"type\":\"PanTool\"},{\"id\":\"ba600ffb-f612-49aa-aa10-0ac2a2448f90\",\"type\":\"WheelZoomTool\"},{\"id\":\"923f855b-3845-4866-ae47-22e351a97786\",\"type\":\"BoxZoomTool\"},{\"id\":\"ac8773bd-ccbe-42eb-b8fb-cf92aaac2fa6\",\"type\":\"SaveTool\"},{\"id\":\"00959a39-ddb3-4b88-a6e4-8afe03683d76\",\"type\":\"ResetTool\"},{\"id\":\"1a81a822-966a-47bb-8276-8a907322bccc\",\"type\":\"HelpTool\"}]},\"id\":\"a7ef49f4-9eca-49dd-b798-d5ddbb999e6e\",\"type\":\"Toolbar\"},{\"attributes\":{},\"id\":\"b3fc74b1-eb04-497b-9576-222cd879e132\",\"type\":\"PanTool\"},{\"attributes\":{},\"id\":\"815c532c-90a5-4828-92ca-11d5270a9385\",\"type\":\"LogScale\"},{\"attributes\":{\"dimension\":1,\"plot\":{\"id\":\"290e0570-233d-4f88-b6f9-26e0ac5dc0e6\",\"subtype\":\"Figure\",\"type\":\"Plot\"},\"ticker\":{\"id\":\"bdd42964-99cc-4e9a-9ea4-973b82cbd965\",\"type\":\"BasicTicker\"}},\"id\":\"ab07dbb7-541b-4f66-bfec-26c2d791445b\",\"type\":\"Grid\"},{\"attributes\":{\"line_alpha\":0.1,\"line_color\":\"#1f77b4\",\"line_dash\":[6],\"line_width\":5,\"x\":{\"field\":\"x\"},\"y\":{\"field\":\"y\"}},\"id\":\"f92b822c-46eb-4290-9b62-c94aa7917a4e\",\"type\":\"Line\"},{\"attributes\":{\"line_alpha\":0.6,\"line_color\":\"#e41a1c\",\"line_dash\":[6],\"line_width\":5,\"x\":{\"field\":\"x\"},\"y\":{\"field\":\"y\"}},\"id\":\"6029deb8-0ea9-463d-8895-5f61d4e04218\",\"type\":\"Line\"},{\"attributes\":{\"data_source\":{\"id\":\"05c50c6e-ef12-4ffc-bd42-c113691c4782\",\"type\":\"ColumnDataSource\"},\"glyph\":{\"id\":\"f3fdc2a5-15ba-4aad-8f11-1e9e4672979b\",\"type\":\"Line\"},\"hover_glyph\":null,\"muted_glyph\":null,\"nonselection_glyph\":{\"id\":\"95d4c705-9006-4712-8bae-1cd2c4c5433d\",\"type\":\"Line\"},\"selection_glyph\":null,\"view\":{\"id\":\"271ade94-73cd-4eec-8f69-3e43824ea9f7\",\"type\":\"CDSView\"}},\"id\":\"1b05247d-3e08-44b3-9749-c67ff0e1d465\",\"type\":\"GlyphRenderer\"},{\"attributes\":{},\"id\":\"ad7080e0-efaf-4952-b620-c8e772b06d22\",\"type\":\"SaveTool\"},{\"attributes\":{\"line_alpha\":0.1,\"line_color\":\"#1f77b4\",\"line_width\":1.5,\"x\":{\"field\":\"x\"},\"y\":{\"field\":\"y\"}},\"id\":\"95d4c705-9006-4712-8bae-1cd2c4c5433d\",\"type\":\"Line\"},{\"attributes\":{},\"id\":\"6b6080b6-fb18-4e5c-9eaa-e505dc341303\",\"type\":\"UnionRenderers\"},{\"attributes\":{\"source\":{\"id\":\"05c50c6e-ef12-4ffc-bd42-c113691c4782\",\"type\":\"ColumnDataSource\"}},\"id\":\"271ade94-73cd-4eec-8f69-3e43824ea9f7\",\"type\":\"CDSView\"},{\"attributes\":{\"data_source\":{\"id\":\"fcd7760b-c3c8-4233-a7bb-4fe91283bcfd\",\"type\":\"ColumnDataSource\"},\"glyph\":{\"id\":\"97bc98de-a414-4389-b116-4637d1266d3b\",\"type\":\"Circle\"},\"hover_glyph\":null,\"muted_glyph\":null,\"nonselection_glyph\":{\"id\":\"26b1efaf-7218-4b2b-9931-c589137ed22c\",\"type\":\"Circle\"},\"selection_glyph\":null,\"view\":{\"id\":\"44e48cc6-4787-4e41-81ea-d4993789c929\",\"type\":\"CDSView\"}},\"id\":\"0379f917-7b44-4ce5-9182-81ac69efea3b\",\"type\":\"GlyphRenderer\"},{\"attributes\":{\"callback\":null,\"data\":{\"x\":{\"__ndarray__\":\"CPKnHk0bsL+cG8bpk/ivv68qd3Zkcq+/1CGnF8vgrr+Mmuc87lGuv2J2TGaHu62/kD7ydqAorb/hb+FkDo6sv9ADlJCM+Ku/Y62pRadbq7/rVatJzMCqv6ErxRm5Kqq/qUgbzeWUqb9fp/bBsP6ovyMbh3ve7aa/7Qt2MFN0oL+hRIPIrT+Fvyd/nNWnwZE/L/eUX7Biqj+Ua8OO6ue3P8jmT8Abd8I/+lzx/aI+yj9dFMEo1qPQP5mwBdbUptA/Oipx/NShyj9ykOdl2h/DP8WfzDLQJLk/7tFnfGnOrT/t4mObRwqgP66TAiT9apA/SnnmU3JPgT8PY2+1kHh0PzB3R3Uj9G8/IjGnpgkEZj9dixMx/lxRv3kCxfY45ny/Uw/Evgziib9R7NO37feRv8h3O1iFIZi/IK3HA+VEnr+W10J35nGgv8FQo2qds5+/QnEgVESunb87SVU7DKubv2uLquBpkpm/Th7XBQpcl79+B4OO/fyUv2MEqDcQg5K/ELJ4Jj67j7+7ioCbqTaKv61+b0qun4S/ExxsqNc4fr+KYSZReBdzv4tr4+RKcWC/dNVa5l0GRj+Q9fdC315sPwuE7BZrOno/1qYYfGZ9gz+BLC3rSkCKP3iUfWnnupA/2RiFbkCVlD9OQNm1OaWYPwRhwPXVE50/p3jq/qLloD9RktsaBGKjP6vH/CpgBaY/VaGQg2OtqD9ct+V84TCrP5PWJOfgc60/AFTUDdJbrz8H7ctV0I2wPxMwSmh8c7E/76SS9Sxssj/BIRz/eo+zP1qxPmyJ37Q/\",\"dtype\":\"float64\",\"shape\":[75]},\"y\":{\"__ndarray__\":\"GhExyth1ND/Sv8nbtpRIP2vylNV0PVE/aTum7souWD/At0SJ8fVgPw3Iuahxymc/MSNhhJWvcD/bTfBN02d3P2zb5nxnaoA/CD5h5MAGhz8NmeH1TyaQP+zrCsc9p5Y/LbKd76fGnz/bLW5ISEmmPww9YvTcQq8/JV2OstnstT8Er5Y7M8G+P0c+r3jqkcU/5h99k6ZBzj88bCIzFzjVP4enV8oyxN0//yH99nXg5D8qOpLLf0jtP5kqGJXUifQ/c9cS8kHP/D+/DpwzojQEQIEmwoanVwxA4lgXt9HgE0BSSZ2AJuIbQAMJih9jjiNA5q4l5INuK0AwTKYKRj0zQNv5fmq8/DpAaCJseHrtQkB/+zpwzoxKQM3MzMzMeFJAZmZmZmZqWEAAAAAAAFxeQM3MzMzMJmJAmpmZmZkfZUBmZmZmZhhoQDMzMzMzEWtAAAAAAAAKbkBmZmZmZoFwQM3MzMzM/XFAMzMzMzN6c0CamZmZmfZ0QAAAAAAAc3ZAZmZmZmbvd0DNzMzMzGt5QDMzMzMz6HpAmpmZmZlkfEAAAAAAAOF9QGZmZmZmXX9AZmZmZuZsgECamZmZGSuBQM3MzMxM6YFAAAAAAICngkAzMzMzs2WDQGZmZmbmI4RAmpmZmRnihEDNzMzMTKCFQAAAAACAXoZAMzMzM7Mch0BmZmZm5tqHQJqZmZkZmYhAzczMzExXiUAAAAAAgBWKQDMzMzOz04pAZmZmZuaRi0CamZmZGVCMQM3MzMxMDo1AAAAAAIDMjUAzMzMzs4qOQGZmZmbmSI9A\",\"dtype\":\"float64\",\"shape\":[75]}},\"selected\":{\"id\":\"15705c7e-136f-481b-96b7-b45fd90fa58a\",\"type\":\"Selection\"},\"selection_policy\":{\"id\":\"95ac870f-dbba-41ac-a957-2586b97e75cd\",\"type\":\"UnionRenderers\"}},\"id\":\"c55f67ed-6896-4e94-8c7a-010fa565b09e\",\"type\":\"ColumnDataSource\"},{\"attributes\":{},\"id\":\"61c27a97-d1ad-423e-8e2e-501cacb7423c\",\"type\":\"PanTool\"},{\"attributes\":{\"above\":[{\"id\":\"f319e6be-858c-4200-a2a3-70d982905f3b\",\"type\":\"Legend\"}],\"below\":[{\"id\":\"ea1d3ac3-4b99-4cb2-91ac-19a2c2825c4f\",\"type\":\"LinearAxis\"}],\"left\":[{\"id\":\"a43d4bc5-21f5-4347-b149-fe6ad0dc9a41\",\"type\":\"LogAxis\"}],\"plot_width\":300,\"renderers\":[{\"id\":\"ea1d3ac3-4b99-4cb2-91ac-19a2c2825c4f\",\"type\":\"LinearAxis\"},{\"id\":\"b63915e3-a4f4-4655-9aa9-4fdb57061895\",\"type\":\"Grid\"},{\"id\":\"a43d4bc5-21f5-4347-b149-fe6ad0dc9a41\",\"type\":\"LogAxis\"},{\"id\":\"664293c3-ed93-4cc9-8682-71b24a34052b\",\"type\":\"Grid\"},{\"id\":\"177319e9-5ef6-48bd-9997-f2b3ff2a6161\",\"type\":\"BoxAnnotation\"},{\"id\":\"246df1fc-4571-41a3-87ef-f458e8c047d6\",\"type\":\"GlyphRenderer\"},{\"id\":\"0379f917-7b44-4ce5-9182-81ac69efea3b\",\"type\":\"GlyphRenderer\"},{\"id\":\"1b05247d-3e08-44b3-9749-c67ff0e1d465\",\"type\":\"GlyphRenderer\"},{\"id\":\"f319e6be-858c-4200-a2a3-70d982905f3b\",\"type\":\"Legend\"}],\"title\":{\"id\":\"325bf505-2830-430f-b540-4ff80aafa31e\",\"type\":\"Title\"},\"toolbar\":{\"id\":\"6e170fac-9c99-4fe0-8ff8-40d94c1afc6a\",\"type\":\"Toolbar\"},\"toolbar_location\":null,\"x_range\":{\"id\":\"743867a6-4d9d-4167-9ec8-9a3e58d50380\",\"type\":\"Range1d\"},\"x_scale\":{\"id\":\"2f2db1f0-5a54-4d8d-be5c-355aed76778b\",\"type\":\"LinearScale\"},\"y_range\":{\"id\":\"1077f9a7-e558-4931-9d2d-59c5916626cb\",\"type\":\"Range1d\"},\"y_scale\":{\"id\":\"b7866d67-a127-428c-84ee-cbefb60b5ba3\",\"type\":\"LogScale\"}},\"id\":\"eebadc8b-fdbc-4f23-926d-5537c3519e6c\",\"subtype\":\"Figure\",\"type\":\"Plot\"},{\"attributes\":{\"fill_alpha\":{\"value\":0.1},\"fill_color\":{\"value\":\"#1f77b4\"},\"line_alpha\":{\"value\":0.1},\"line_color\":{\"value\":\"#1f77b4\"},\"x\":{\"field\":\"x\"},\"y\":{\"field\":\"y\"}},\"id\":\"26b1efaf-7218-4b2b-9931-c589137ed22c\",\"type\":\"Circle\"},{\"attributes\":{\"callback\":null,\"data\":{\"x\":{\"__ndarray__\":\"CPKnHk0bsL+cG8bpk/ivv68qd3Zkcq+/1CGnF8vgrr+Mmuc87lGuv2J2TGaHu62/kD7ydqAorb/hb+FkDo6sv9ADlJCM+Ku/Y62pRadbq7/rVatJzMCqv6ErxRm5Kqq/qUgbzeWUqb9fp/bBsP6ovyMbh3ve7aa/7Qt2MFN0oL+hRIPIrT+Fvyd/nNWnwZE/L/eUX7Biqj+Ua8OO6ue3P8jmT8Abd8I/+lzx/aI+yj9dFMEo1qPQP5mwBdbUptA/Oipx/NShyj9ykOdl2h/DP8WfzDLQJLk/7tFnfGnOrT/t4mObRwqgP66TAiT9apA/SnnmU3JPgT8PY2+1kHh0PzB3R3Uj9G8/IjGnpgkEZj9dixMx/lxRv3kCxfY45ny/Uw/Evgziib9R7NO37feRv8h3O1iFIZi/IK3HA+VEnr+W10J35nGgv8FQo2qds5+/QnEgVESunb87SVU7DKubv2uLquBpkpm/Th7XBQpcl79+B4OO/fyUv2MEqDcQg5K/ELJ4Jj67j7+7ioCbqTaKv61+b0qun4S/ExxsqNc4fr+KYSZReBdzv4tr4+RKcWC/dNVa5l0GRj+Q9fdC315sPwuE7BZrOno/1qYYfGZ9gz+BLC3rSkCKP3iUfWnnupA/2RiFbkCVlD9OQNm1OaWYPwRhwPXVE50/p3jq/qLloD9RktsaBGKjP6vH/CpgBaY/VaGQg2OtqD9ct+V84TCrP5PWJOfgc60/AFTUDdJbrz8H7ctV0I2wPxMwSmh8c7E/76SS9Sxssj/BIRz/eo+zP1qxPmyJ37Q/\",\"dtype\":\"float64\",\"shape\":[75]},\"y\":{\"__ndarray__\":\"GhExyth1ND/Sv8nbtpRIP2vylNV0PVE/aTum7souWD/At0SJ8fVgPw3Iuahxymc/MSNhhJWvcD/bTfBN02d3P2zb5nxnaoA/CD5h5MAGhz8NmeH1TyaQP+zrCsc9p5Y/LbKd76fGnz/bLW5ISEmmPww9YvTcQq8/JV2OstnstT8Er5Y7M8G+P0c+r3jqkcU/5h99k6ZBzj88bCIzFzjVP4enV8oyxN0//yH99nXg5D8qOpLLf0jtP5kqGJXUifQ/c9cS8kHP/D+/DpwzojQEQIEmwoanVwxA4lgXt9HgE0BSSZ2AJuIbQAMJih9jjiNA5q4l5INuK0AwTKYKRj0zQNv5fmq8/DpAaCJseHrtQkB/+zpwzoxKQM3MzMzMeFJAZmZmZmZqWEAAAAAAAFxeQM3MzMzMJmJAmpmZmZkfZUBmZmZmZhhoQDMzMzMzEWtAAAAAAAAKbkBmZmZmZoFwQM3MzMzM/XFAMzMzMzN6c0CamZmZmfZ0QAAAAAAAc3ZAZmZmZmbvd0DNzMzMzGt5QDMzMzMz6HpAmpmZmZlkfEAAAAAAAOF9QGZmZmZmXX9AZmZmZuZsgECamZmZGSuBQM3MzMxM6YFAAAAAAICngkAzMzMzs2WDQGZmZmbmI4RAmpmZmRnihEDNzMzMTKCFQAAAAACAXoZAMzMzM7Mch0BmZmZm5tqHQJqZmZkZmYhAzczMzExXiUAAAAAAgBWKQDMzMzOz04pAZmZmZuaRi0CamZmZGVCMQM3MzMxMDo1AAAAAAIDMjUAzMzMzs4qOQGZmZmbmSI9A\",\"dtype\":\"float64\",\"shape\":[75]}},\"selected\":{\"id\":\"c79e297f-66d6-421e-a6fb-3770a565d76a\",\"type\":\"Selection\"},\"selection_policy\":{\"id\":\"78f3d5e8-2f84-4350-86f5-1ec800db6952\",\"type\":\"UnionRenderers\"}},\"id\":\"4d89ed65-3d0d-49e4-9c9d-f3ffda8ad975\",\"type\":\"ColumnDataSource\"},{\"attributes\":{\"bottom_units\":\"screen\",\"fill_alpha\":{\"value\":0.5},\"fill_color\":{\"value\":\"lightgrey\"},\"left_units\":\"screen\",\"level\":\"overlay\",\"line_alpha\":{\"value\":1.0},\"line_color\":{\"value\":\"black\"},\"line_dash\":[4,4],\"line_width\":{\"value\":2},\"plot\":null,\"render_mode\":\"css\",\"right_units\":\"screen\",\"top_units\":\"screen\"},\"id\":\"177319e9-5ef6-48bd-9997-f2b3ff2a6161\",\"type\":\"BoxAnnotation\"},{\"attributes\":{\"axis_label\":\"cooling rate [K/day]\",\"formatter\":{\"id\":\"69361f58-b3e2-45d3-9249-1154e1fe6dd0\",\"type\":\"BasicTickFormatter\"},\"plot\":{\"id\":\"e26544b9-e98c-425b-9f0c-b5e414140a68\",\"subtype\":\"Figure\",\"type\":\"Plot\"},\"ticker\":{\"id\":\"c0d3be6e-832c-4d93-ae10-14327a8f36aa\",\"type\":\"BasicTicker\"}},\"id\":\"4489598d-6d86-4ee7-acb9-b4cc61a43402\",\"type\":\"LinearAxis\"},{\"attributes\":{\"callback\":null,\"end\":0.01,\"start\":1020},\"id\":\"cba64e92-c6f0-4d0f-9204-aa016828b70e\",\"type\":\"Range1d\"},{\"attributes\":{},\"id\":\"a1787c34-9948-4a1e-a65f-941b5c8513de\",\"type\":\"UnionRenderers\"},{\"attributes\":{\"active_drag\":\"auto\",\"active_inspect\":\"auto\",\"active_scroll\":\"auto\",\"active_tap\":\"auto\",\"tools\":[{\"id\":\"b3fc74b1-eb04-497b-9576-222cd879e132\",\"type\":\"PanTool\"},{\"id\":\"fa66a09c-4bc4-4bef-b2bf-c8e81ec67fb0\",\"type\":\"WheelZoomTool\"},{\"id\":\"84b54a14-dc6a-4f53-b803-2a5155d70cbd\",\"type\":\"BoxZoomTool\"},{\"id\":\"7810d62e-b027-4dc4-b333-087454be7f9d\",\"type\":\"SaveTool\"},{\"id\":\"76eb2e54-c7ef-4ccd-a408-0181456a8f31\",\"type\":\"ResetTool\"},{\"id\":\"a58ba74d-e7ea-4993-ad10-ee946470185a\",\"type\":\"HelpTool\"}]},\"id\":\"208d85ae-9088-4061-bde6-b9bac88eedd9\",\"type\":\"Toolbar\"},{\"attributes\":{\"callback\":null,\"end\":0.0838764394485,\"start\":-0.0332674595985},\"id\":\"df526271-7f24-4839-8c97-00d5ab26cbed\",\"type\":\"Range1d\"},{\"attributes\":{},\"id\":\"63761310-229e-4e0e-94f5-b12c103adb95\",\"type\":\"Selection\"},{\"attributes\":{},\"id\":\"c79e297f-66d6-421e-a6fb-3770a565d76a\",\"type\":\"Selection\"},{\"attributes\":{},\"id\":\"2d80f837-d989-4971-9afd-f75dcef75bc8\",\"type\":\"WheelZoomTool\"},{\"attributes\":{\"plot\":{\"id\":\"290e0570-233d-4f88-b6f9-26e0ac5dc0e6\",\"subtype\":\"Figure\",\"type\":\"Plot\"},\"ticker\":{\"id\":\"c916e393-833e-474d-8efb-8d10d7a55788\",\"type\":\"BasicTicker\"}},\"id\":\"2b30406c-eca3-4a1b-905d-a0382b7e26dc\",\"type\":\"Grid\"},{\"attributes\":{\"num_minor_ticks\":10},\"id\":\"7a998253-f553-4d04-94c5-8e0995bd5fbf\",\"type\":\"LogTicker\"},{\"attributes\":{},\"id\":\"87ed388c-b047-40f6-a49c-5b24dad94391\",\"type\":\"ResetTool\"},{\"attributes\":{},\"id\":\"374d61f3-1fda-4bcf-ba91-7bd65c277512\",\"type\":\"LinearScale\"},{\"attributes\":{},\"id\":\"9fe15c8d-03b3-49c0-a4ea-73f0a454db38\",\"type\":\"LinearScale\"},{\"attributes\":{},\"id\":\"294df079-57c6-4843-b2f5-1e3db82def70\",\"type\":\"HelpTool\"},{\"attributes\":{\"above\":[{\"id\":\"9e8409a4-a5f6-4359-86fb-8f46f3972186\",\"type\":\"Legend\"}],\"below\":[{\"id\":\"4489598d-6d86-4ee7-acb9-b4cc61a43402\",\"type\":\"LinearAxis\"}],\"left\":[{\"id\":\"692b742f-5722-45b0-b186-1016776f34b0\",\"type\":\"LogAxis\"}],\"plot_width\":300,\"renderers\":[{\"id\":\"4489598d-6d86-4ee7-acb9-b4cc61a43402\",\"type\":\"LinearAxis\"},{\"id\":\"910a549c-106b-44e4-8b6b-738d32382929\",\"type\":\"Grid\"},{\"id\":\"692b742f-5722-45b0-b186-1016776f34b0\",\"type\":\"LogAxis\"},{\"id\":\"3d59557c-1cd4-4d87-b1b3-883609b0a32a\",\"type\":\"Grid\"},{\"id\":\"0fb5c674-fe70-41d2-8a6f-b9eb4712ec71\",\"type\":\"BoxAnnotation\"},{\"id\":\"5fdb2b1a-1efa-4f54-ae71-c633b23907fa\",\"type\":\"GlyphRenderer\"},{\"id\":\"6384fcdb-a41c-4711-ba60-fef232942e3c\",\"type\":\"GlyphRenderer\"},{\"id\":\"9e8409a4-a5f6-4359-86fb-8f46f3972186\",\"type\":\"Legend\"}],\"title\":{\"id\":\"28008b1c-6d91-4c0f-9aac-667fe18eb1b2\",\"type\":\"Title\"},\"toolbar\":{\"id\":\"208d85ae-9088-4061-bde6-b9bac88eedd9\",\"type\":\"Toolbar\"},\"toolbar_location\":null,\"x_range\":{\"id\":\"44c271fd-31f3-4c0f-a45f-860325508379\",\"type\":\"Range1d\"},\"x_scale\":{\"id\":\"9fe15c8d-03b3-49c0-a4ea-73f0a454db38\",\"type\":\"LinearScale\"},\"y_range\":{\"id\":\"7ac0a196-35e4-4e8f-bc7d-66a6bce8434c\",\"type\":\"Range1d\"},\"y_scale\":{\"id\":\"815c532c-90a5-4828-92ca-11d5270a9385\",\"type\":\"LogScale\"}},\"id\":\"e26544b9-e98c-425b-9f0c-b5e414140a68\",\"subtype\":\"Figure\",\"type\":\"Plot\"},{\"attributes\":{},\"id\":\"c0d3be6e-832c-4d93-ae10-14327a8f36aa\",\"type\":\"BasicTicker\"},{\"attributes\":{\"overlay\":{\"id\":\"177319e9-5ef6-48bd-9997-f2b3ff2a6161\",\"type\":\"BoxAnnotation\"}},\"id\":\"7542b170-188f-4c0f-91ef-6525c7a3c3a6\",\"type\":\"BoxZoomTool\"},{\"attributes\":{\"dimension\":1,\"plot\":{\"id\":\"e26544b9-e98c-425b-9f0c-b5e414140a68\",\"subtype\":\"Figure\",\"type\":\"Plot\"},\"ticker\":{\"id\":\"90692e0b-d40a-4a59-90d0-3adc13de4410\",\"type\":\"LogTicker\"}},\"id\":\"3d59557c-1cd4-4d87-b1b3-883609b0a32a\",\"type\":\"Grid\"},{\"attributes\":{\"num_minor_ticks\":10},\"id\":\"90692e0b-d40a-4a59-90d0-3adc13de4410\",\"type\":\"LogTicker\"},{\"attributes\":{\"axis_label\":\"pressure [mb]\",\"formatter\":{\"id\":\"b41e2a84-796a-4a26-9e4e-3b85bf2f8bd9\",\"type\":\"LogTickFormatter\"},\"plot\":{\"id\":\"e26544b9-e98c-425b-9f0c-b5e414140a68\",\"subtype\":\"Figure\",\"type\":\"Plot\"},\"ticker\":{\"id\":\"90692e0b-d40a-4a59-90d0-3adc13de4410\",\"type\":\"LogTicker\"}},\"id\":\"692b742f-5722-45b0-b186-1016776f34b0\",\"type\":\"LogAxis\"},{\"attributes\":{\"fill_alpha\":{\"value\":0.7},\"fill_color\":{\"value\":\"#984ea3\"},\"line_alpha\":{\"value\":0.7},\"line_color\":{\"value\":\"#984ea3\"},\"x\":{\"field\":\"x\"},\"y\":{\"field\":\"y\"}},\"id\":\"89937126-cd95-4b87-80d5-5b71c0493cc8\",\"type\":\"Circle\"},{\"attributes\":{\"data_source\":{\"id\":\"c55f67ed-6896-4e94-8c7a-010fa565b09e\",\"type\":\"ColumnDataSource\"},\"glyph\":{\"id\":\"6029deb8-0ea9-463d-8895-5f61d4e04218\",\"type\":\"Line\"},\"hover_glyph\":null,\"muted_glyph\":null,\"nonselection_glyph\":{\"id\":\"f92b822c-46eb-4290-9b62-c94aa7917a4e\",\"type\":\"Line\"},\"selection_glyph\":null,\"view\":{\"id\":\"d0ced3bd-8ddf-4792-bb6c-cca642792e44\",\"type\":\"CDSView\"}},\"id\":\"246df1fc-4571-41a3-87ef-f458e8c047d6\",\"type\":\"GlyphRenderer\"},{\"attributes\":{\"plot\":{\"id\":\"e26544b9-e98c-425b-9f0c-b5e414140a68\",\"subtype\":\"Figure\",\"type\":\"Plot\"},\"ticker\":{\"id\":\"c0d3be6e-832c-4d93-ae10-14327a8f36aa\",\"type\":\"BasicTicker\"}},\"id\":\"910a549c-106b-44e4-8b6b-738d32382929\",\"type\":\"Grid\"},{\"attributes\":{\"callback\":null,\"end\":0.04096057974292,\"start\":-0.019921148730920008},\"id\":\"44c271fd-31f3-4c0f-a45f-860325508379\",\"type\":\"Range1d\"},{\"attributes\":{},\"id\":\"bdd42964-99cc-4e9a-9ea4-973b82cbd965\",\"type\":\"BasicTicker\"},{\"attributes\":{\"callback\":null,\"end\":0.01,\"start\":1020},\"id\":\"7ac0a196-35e4-4e8f-bc7d-66a6bce8434c\",\"type\":\"Range1d\"},{\"attributes\":{},\"id\":\"4a2e8631-f428-4e8a-92f1-f0d4b7b30653\",\"type\":\"LinearScale\"},{\"attributes\":{\"items\":[{\"id\":\"64508859-06d9-403d-aaa8-8548ee8965a7\",\"type\":\"LegendItem\"}],\"label_text_font_size\":{\"value\":\"8pt\"},\"location\":\"top_center\",\"orientation\":\"horizontal\",\"plot\":{\"id\":\"e26544b9-e98c-425b-9f0c-b5e414140a68\",\"subtype\":\"Figure\",\"type\":\"Plot\"}},\"id\":\"9e8409a4-a5f6-4359-86fb-8f46f3972186\",\"type\":\"Legend\"},{\"attributes\":{\"items\":[{\"id\":\"9d74fd1f-1485-4a41-b770-c09a2117fbfe\",\"type\":\"LegendItem\"},{\"id\":\"f3d6c6e5-60d4-4afe-b5d4-52c37bb1d26a\",\"type\":\"LegendItem\"}],\"label_text_font_size\":{\"value\":\"8pt\"},\"location\":\"top_center\",\"orientation\":\"horizontal\",\"plot\":{\"id\":\"eebadc8b-fdbc-4f23-926d-5537c3519e6c\",\"subtype\":\"Figure\",\"type\":\"Plot\"}},\"id\":\"f319e6be-858c-4200-a2a3-70d982905f3b\",\"type\":\"Legend\"},{\"attributes\":{},\"id\":\"3635a545-56dd-46ea-823f-f53adcb674ef\",\"type\":\"Selection\"},{\"attributes\":{},\"id\":\"ac8773bd-ccbe-42eb-b8fb-cf92aaac2fa6\",\"type\":\"SaveTool\"},{\"attributes\":{\"source\":{\"id\":\"4d89ed65-3d0d-49e4-9c9d-f3ffda8ad975\",\"type\":\"ColumnDataSource\"}},\"id\":\"54da19d1-20a3-4020-9673-ce8679cfe3dc\",\"type\":\"CDSView\"},{\"attributes\":{\"children\":[{\"id\":\"290e0570-233d-4f88-b6f9-26e0ac5dc0e6\",\"subtype\":\"Figure\",\"type\":\"Plot\"},{\"id\":\"eebadc8b-fdbc-4f23-926d-5537c3519e6c\",\"subtype\":\"Figure\",\"type\":\"Plot\"},{\"id\":\"e26544b9-e98c-425b-9f0c-b5e414140a68\",\"subtype\":\"Figure\",\"type\":\"Plot\"}]},\"id\":\"64a78c41-39de-45da-bb6a-56592165063c\",\"type\":\"Row\"},{\"attributes\":{\"bottom_units\":\"screen\",\"fill_alpha\":{\"value\":0.5},\"fill_color\":{\"value\":\"lightgrey\"},\"left_units\":\"screen\",\"level\":\"overlay\",\"line_alpha\":{\"value\":1.0},\"line_color\":{\"value\":\"black\"},\"line_dash\":[4,4],\"line_width\":{\"value\":2},\"plot\":null,\"render_mode\":\"css\",\"right_units\":\"screen\",\"top_units\":\"screen\"},\"id\":\"43960d4b-3f82-421a-9010-bc02f0ab9bf7\",\"type\":\"BoxAnnotation\"},{\"attributes\":{},\"id\":\"ba600ffb-f612-49aa-aa10-0ac2a2448f90\",\"type\":\"WheelZoomTool\"},{\"attributes\":{\"line_alpha\":0.8,\"line_color\":\"#984ea3\",\"line_width\":1.5,\"x\":{\"field\":\"x\"},\"y\":{\"field\":\"y\"}},\"id\":\"bc14a5f0-c601-453d-8677-2905bb545796\",\"type\":\"Line\"},{\"attributes\":{\"overlay\":{\"id\":\"43960d4b-3f82-421a-9010-bc02f0ab9bf7\",\"type\":\"BoxAnnotation\"}},\"id\":\"923f855b-3845-4866-ae47-22e351a97786\",\"type\":\"BoxZoomTool\"},{\"attributes\":{\"children\":[{\"id\":\"64a78c41-39de-45da-bb6a-56592165063c\",\"type\":\"Row\"}]},\"id\":\"15cde2ce-03e4-4894-b0bc-655b7d60b7dc\",\"type\":\"Column\"},{\"attributes\":{},\"id\":\"127dca52-1502-4638-bea0-2ef3184a03a4\",\"type\":\"PanTool\"},{\"attributes\":{},\"id\":\"00959a39-ddb3-4b88-a6e4-8afe03683d76\",\"type\":\"ResetTool\"},{\"attributes\":{\"source\":{\"id\":\"b9f21a91-e73b-46f2-9ef0-02abe79d4554\",\"type\":\"ColumnDataSource\"}},\"id\":\"056f7464-22cc-4512-a933-8d180d3e1b80\",\"type\":\"CDSView\"},{\"attributes\":{\"axis_label\":\"cooling rate [K/day]\",\"formatter\":{\"id\":\"9b0611c8-ceee-46f3-8f71-8de3ad661d5f\",\"type\":\"BasicTickFormatter\"},\"plot\":{\"id\":\"eebadc8b-fdbc-4f23-926d-5537c3519e6c\",\"subtype\":\"Figure\",\"type\":\"Plot\"},\"ticker\":{\"id\":\"2b49693e-ad39-4554-b5ee-1bb341a275c5\",\"type\":\"BasicTicker\"}},\"id\":\"ea1d3ac3-4b99-4cb2-91ac-19a2c2825c4f\",\"type\":\"LinearAxis\"},{\"attributes\":{\"ticker\":null},\"id\":\"f3ce8c6c-5405-4a0c-a084-38d42d7989cc\",\"type\":\"LogTickFormatter\"},{\"attributes\":{\"label\":{\"value\":\"CLIRAD - CRD\"},\"renderers\":[{\"id\":\"5fdb2b1a-1efa-4f54-ae71-c633b23907fa\",\"type\":\"GlyphRenderer\"},{\"id\":\"6384fcdb-a41c-4711-ba60-fef232942e3c\",\"type\":\"GlyphRenderer\"}]},\"id\":\"64508859-06d9-403d-aaa8-8548ee8965a7\",\"type\":\"LegendItem\"},{\"attributes\":{},\"id\":\"2f2db1f0-5a54-4d8d-be5c-355aed76778b\",\"type\":\"LinearScale\"},{\"attributes\":{\"data_source\":{\"id\":\"b9f21a91-e73b-46f2-9ef0-02abe79d4554\",\"type\":\"ColumnDataSource\"},\"glyph\":{\"id\":\"bc14a5f0-c601-453d-8677-2905bb545796\",\"type\":\"Line\"},\"hover_glyph\":null,\"muted_glyph\":null,\"nonselection_glyph\":{\"id\":\"24bead4f-a7c2-417b-b4cf-994e68cdbb5f\",\"type\":\"Line\"},\"selection_glyph\":null,\"view\":{\"id\":\"056f7464-22cc-4512-a933-8d180d3e1b80\",\"type\":\"CDSView\"}},\"id\":\"6384fcdb-a41c-4711-ba60-fef232942e3c\",\"type\":\"GlyphRenderer\"},{\"attributes\":{},\"id\":\"1a81a822-966a-47bb-8276-8a907322bccc\",\"type\":\"HelpTool\"},{\"attributes\":{},\"id\":\"9b0611c8-ceee-46f3-8f71-8de3ad661d5f\",\"type\":\"BasicTickFormatter\"},{\"attributes\":{\"fill_alpha\":{\"value\":0.1},\"fill_color\":{\"value\":\"#1f77b4\"},\"line_alpha\":{\"value\":0.1},\"line_color\":{\"value\":\"#1f77b4\"},\"x\":{\"field\":\"x\"},\"y\":{\"field\":\"y\"}},\"id\":\"a1a2d3be-d2d5-4fdc-a7fd-73e9cccaa0ca\",\"type\":\"Circle\"},{\"attributes\":{\"data_source\":{\"id\":\"4d89ed65-3d0d-49e4-9c9d-f3ffda8ad975\",\"type\":\"ColumnDataSource\"},\"glyph\":{\"id\":\"23d92c4a-0e7c-46e5-b610-20c8fc1eff44\",\"type\":\"Line\"},\"hover_glyph\":null,\"muted_glyph\":null,\"nonselection_glyph\":{\"id\":\"6a80d8df-f72c-4e2e-9818-5bb71fc3fe98\",\"type\":\"Line\"},\"selection_glyph\":null,\"view\":{\"id\":\"54da19d1-20a3-4020-9673-ce8679cfe3dc\",\"type\":\"CDSView\"}},\"id\":\"d50a3f10-dadc-4418-a727-7f19252ce3f4\",\"type\":\"GlyphRenderer\"},{\"attributes\":{\"line_alpha\":0.1,\"line_color\":\"#1f77b4\",\"line_width\":1.5,\"x\":{\"field\":\"x\"},\"y\":{\"field\":\"y\"}},\"id\":\"24bead4f-a7c2-417b-b4cf-994e68cdbb5f\",\"type\":\"Line\"},{\"attributes\":{},\"id\":\"b7866d67-a127-428c-84ee-cbefb60b5ba3\",\"type\":\"LogScale\"},{\"attributes\":{\"source\":{\"id\":\"35057c09-10e9-48a8-8430-3a14a1728670\",\"type\":\"ColumnDataSource\"}},\"id\":\"e7e56882-ff77-4ceb-b509-d509482f20ec\",\"type\":\"CDSView\"},{\"attributes\":{},\"id\":\"95ac870f-dbba-41ac-a957-2586b97e75cd\",\"type\":\"UnionRenderers\"},{\"attributes\":{\"plot\":null,\"text\":\"\"},\"id\":\"325bf505-2830-430f-b540-4ff80aafa31e\",\"type\":\"Title\"},{\"attributes\":{\"dimension\":1,\"plot\":{\"id\":\"eebadc8b-fdbc-4f23-926d-5537c3519e6c\",\"subtype\":\"Figure\",\"type\":\"Plot\"},\"ticker\":{\"id\":\"7a998253-f553-4d04-94c5-8e0995bd5fbf\",\"type\":\"LogTicker\"}},\"id\":\"664293c3-ed93-4cc9-8682-71b24a34052b\",\"type\":\"Grid\"},{\"attributes\":{\"plot\":null,\"text\":\"\"},\"id\":\"c9b08c01-5d4e-4ff5-8939-6e74755da653\",\"type\":\"Title\"},{\"attributes\":{\"plot\":null,\"text\":\"\"},\"id\":\"28008b1c-6d91-4c0f-9aac-667fe18eb1b2\",\"type\":\"Title\"},{\"attributes\":{\"callback\":null,\"data\":{\"x\":{\"__ndarray__\":\"ULITVFunpD849/e6UYykPyF9r6N/RaQ/ft+EPKD8oz905BgWSLGjP+Ruz1AacqM/wt6+paM0oz8/0Gpg4QejPyhxU3Eu46I/wzdbFADaoj8L0RLhweyiP81qP89zJKM/o0ZTqYeXoz9haxnQRFGkPzV5VgeNqqQ/SbeFj4oqoz/8IcHlcuqfP93cMjGgvpg/DO/3WBsAkT8oPjJtlG+BPwCAvyYXRy6/UKfgQZ5thr/QAS++vcmTvwA4pG4RdYK/cKx8Q5+XiD8A15Sd9USXP8gljMarDZY/iKGgSbJoiz8kTax537BwPyAGiehhYmC/tEOvsX8Lbb/+mMHmxKhgvwCIPKNruRY/NpARn1P3Uj/1WYxQ1TlRP8AX7StNcC4/YIglAbncR79Q5CrFdypcv3CjtHZcBmS/QB4jJWn6Zb8IlkJNYd9mv0ib4h5Lqmi/APFqpQYNZ7+QuA6hm59kvxCONqVpOmK/qOVNp3hBYL8AHfaehz5dvxBkSCgWrFu/ONItWwywWr9AWKwr8rhav6gLZqAY3Vu/TFfgDN34Xb8IB6jkYTRfv7yWNYIhoGC/sGOqYl/GYb/8O8+IzcZiv44/J9ALl2O/vL3b8pgyZL9wwyg0OJpkv9DsF/2Gq2S/sNLTlCtbZL+I+LnfiC9kv0D9rRqjIWO/sCa84r8gYr+Qiie6K41hv5APZTU8tmC/sG83hbA6YL9ABLSBePxevyDliOlmE1q/YD/7D5OEVL+AzsyTnpxMvwD6gJQHtEG/AP2vABA6O78Awkr97Cs+vwDQay7mh1O/\",\"dtype\":\"float64\",\"shape\":[75]},\"y\":{\"__ndarray__\":\"GhExyth1ND/Sv8nbtpRIP2vylNV0PVE/aTum7souWD/At0SJ8fVgPw3Iuahxymc/MSNhhJWvcD/bTfBN02d3P2zb5nxnaoA/CD5h5MAGhz8NmeH1TyaQP+zrCsc9p5Y/LbKd76fGnz/bLW5ISEmmPww9YvTcQq8/JV2OstnstT8Er5Y7M8G+P0c+r3jqkcU/5h99k6ZBzj88bCIzFzjVP4enV8oyxN0//yH99nXg5D8qOpLLf0jtP5kqGJXUifQ/c9cS8kHP/D+/DpwzojQEQIEmwoanVwxA4lgXt9HgE0BSSZ2AJuIbQAMJih9jjiNA5q4l5INuK0AwTKYKRj0zQNv5fmq8/DpAaCJseHrtQkB/+zpwzoxKQM3MzMzMeFJAZmZmZmZqWEAAAAAAAFxeQM3MzMzMJmJAmpmZmZkfZUBmZmZmZhhoQDMzMzMzEWtAAAAAAAAKbkBmZmZmZoFwQM3MzMzM/XFAMzMzMzN6c0CamZmZmfZ0QAAAAAAAc3ZAZmZmZmbvd0DNzMzMzGt5QDMzMzMz6HpAmpmZmZlkfEAAAAAAAOF9QGZmZmZmXX9AZmZmZuZsgECamZmZGSuBQM3MzMxM6YFAAAAAAICngkAzMzMzs2WDQGZmZmbmI4RAmpmZmRnihEDNzMzMTKCFQAAAAACAXoZAMzMzM7Mch0BmZmZm5tqHQJqZmZkZmYhAzczMzExXiUAAAAAAgBWKQDMzMzOz04pAZmZmZuaRi0CamZmZGVCMQM3MzMxMDo1AAAAAAIDMjUAzMzMzs4qOQGZmZmbmSI9A\",\"dtype\":\"float64\",\"shape\":[75]}},\"selected\":{\"id\":\"ad405cfb-efa0-4556-a1cb-cbfb700d0a6d\",\"type\":\"Selection\"},\"selection_policy\":{\"id\":\"6c23c30b-e25b-4141-b394-611fb31ddf09\",\"type\":\"UnionRenderers\"}},\"id\":\"b9f21a91-e73b-46f2-9ef0-02abe79d4554\",\"type\":\"ColumnDataSource\"},{\"attributes\":{},\"id\":\"b153489d-e176-4c4b-bc13-64e23c3d721c\",\"type\":\"Selection\"},{\"attributes\":{\"ticker\":null},\"id\":\"b41e2a84-796a-4a26-9e4e-3b85bf2f8bd9\",\"type\":\"LogTickFormatter\"},{\"attributes\":{},\"id\":\"d5446cad-80ed-4180-8d09-bed787f35683\",\"type\":\"BasicTickFormatter\"},{\"attributes\":{},\"id\":\"38549b61-1406-44a5-8cc1-5c62664a73a7\",\"type\":\"UnionRenderers\"},{\"attributes\":{},\"id\":\"15705c7e-136f-481b-96b7-b45fd90fa58a\",\"type\":\"Selection\"},{\"attributes\":{},\"id\":\"2b49693e-ad39-4554-b5ee-1bb341a275c5\",\"type\":\"BasicTicker\"},{\"attributes\":{},\"id\":\"642b4472-82cf-4a7e-a68b-627b413c299d\",\"type\":\"Selection\"},{\"attributes\":{\"fill_alpha\":{\"value\":0.7},\"fill_color\":{\"value\":\"#4daf4a\"},\"line_alpha\":{\"value\":0.7},\"line_color\":{\"value\":\"#4daf4a\"},\"x\":{\"field\":\"x\"},\"y\":{\"field\":\"y\"}},\"id\":\"24cb3e1f-b9f6-483e-998f-04fd25938a3e\",\"type\":\"Circle\"},{\"attributes\":{\"overlay\":{\"id\":\"0fb5c674-fe70-41d2-8a6f-b9eb4712ec71\",\"type\":\"BoxAnnotation\"}},\"id\":\"84b54a14-dc6a-4f53-b803-2a5155d70cbd\",\"type\":\"BoxZoomTool\"},{\"attributes\":{},\"id\":\"f3b11286-bae6-4c93-9e82-e3659eb78106\",\"type\":\"UnionRenderers\"},{\"attributes\":{\"plot\":{\"id\":\"eebadc8b-fdbc-4f23-926d-5537c3519e6c\",\"subtype\":\"Figure\",\"type\":\"Plot\"},\"ticker\":{\"id\":\"2b49693e-ad39-4554-b5ee-1bb341a275c5\",\"type\":\"BasicTicker\"}},\"id\":\"b63915e3-a4f4-4655-9aa9-4fdb57061895\",\"type\":\"Grid\"},{\"attributes\":{\"above\":[{\"id\":\"cd1abd19-8dd6-4bab-8c24-427576b3f8b3\",\"type\":\"Legend\"}],\"below\":[{\"id\":\"896737b5-6517-4e84-b6d9-44e8bad2668c\",\"type\":\"LinearAxis\"}],\"left\":[{\"id\":\"ff19f980-d9b3-47e0-a05f-d004b58484e1\",\"type\":\"LinearAxis\"}],\"plot_width\":300,\"renderers\":[{\"id\":\"896737b5-6517-4e84-b6d9-44e8bad2668c\",\"type\":\"LinearAxis\"},{\"id\":\"2b30406c-eca3-4a1b-905d-a0382b7e26dc\",\"type\":\"Grid\"},{\"id\":\"ff19f980-d9b3-47e0-a05f-d004b58484e1\",\"type\":\"LinearAxis\"},{\"id\":\"ab07dbb7-541b-4f66-bfec-26c2d791445b\",\"type\":\"Grid\"},{\"id\":\"43960d4b-3f82-421a-9010-bc02f0ab9bf7\",\"type\":\"BoxAnnotation\"},{\"id\":\"d50a3f10-dadc-4418-a727-7f19252ce3f4\",\"type\":\"GlyphRenderer\"},{\"id\":\"36f84d18-57b6-4ed8-b3e0-3840bf9866e4\",\"type\":\"GlyphRenderer\"},{\"id\":\"35d0b2fd-ab6c-4923-aa83-b08aca2713f3\",\"type\":\"GlyphRenderer\"},{\"id\":\"cd1abd19-8dd6-4bab-8c24-427576b3f8b3\",\"type\":\"Legend\"}],\"title\":{\"id\":\"c9b08c01-5d4e-4ff5-8939-6e74755da653\",\"type\":\"Title\"},\"toolbar\":{\"id\":\"a7ef49f4-9eca-49dd-b798-d5ddbb999e6e\",\"type\":\"Toolbar\"},\"toolbar_location\":null,\"x_range\":{\"id\":\"df526271-7f24-4839-8c97-00d5ab26cbed\",\"type\":\"Range1d\"},\"x_scale\":{\"id\":\"4a2e8631-f428-4e8a-92f1-f0d4b7b30653\",\"type\":\"LinearScale\"},\"y_range\":{\"id\":\"cba64e92-c6f0-4d0f-9204-aa016828b70e\",\"type\":\"Range1d\"},\"y_scale\":{\"id\":\"374d61f3-1fda-4bcf-ba91-7bd65c277512\",\"type\":\"LinearScale\"}},\"id\":\"290e0570-233d-4f88-b6f9-26e0ac5dc0e6\",\"subtype\":\"Figure\",\"type\":\"Plot\"},{\"attributes\":{},\"id\":\"69361f58-b3e2-45d3-9249-1154e1fe6dd0\",\"type\":\"BasicTickFormatter\"},{\"attributes\":{\"toolbar\":{\"id\":\"0613a6ba-94a6-4f32-999b-6eb0133155fd\",\"type\":\"ProxyToolbar\"},\"toolbar_location\":\"above\"},\"id\":\"4e8cc463-791a-4547-ac53-df52c8f6b8f0\",\"type\":\"ToolbarBox\"},{\"attributes\":{\"axis_label\":\"pressure [mb]\",\"formatter\":{\"id\":\"f3ce8c6c-5405-4a0c-a084-38d42d7989cc\",\"type\":\"LogTickFormatter\"},\"plot\":{\"id\":\"eebadc8b-fdbc-4f23-926d-5537c3519e6c\",\"subtype\":\"Figure\",\"type\":\"Plot\"},\"ticker\":{\"id\":\"7a998253-f553-4d04-94c5-8e0995bd5fbf\",\"type\":\"LogTicker\"}},\"id\":\"a43d4bc5-21f5-4347-b149-fe6ad0dc9a41\",\"type\":\"LogAxis\"},{\"attributes\":{\"line_alpha\":0.6,\"line_color\":\"#e41a1c\",\"line_dash\":[6],\"line_width\":5,\"x\":{\"field\":\"x\"},\"y\":{\"field\":\"y\"}},\"id\":\"23d92c4a-0e7c-46e5-b610-20c8fc1eff44\",\"type\":\"Line\"},{\"attributes\":{},\"id\":\"b204be53-1c64-4494-a59b-340cfc93fedc\",\"type\":\"UnionRenderers\"},{\"attributes\":{\"label\":{\"value\":\"CRD\"},\"renderers\":[{\"id\":\"36f84d18-57b6-4ed8-b3e0-3840bf9866e4\",\"type\":\"GlyphRenderer\"},{\"id\":\"35d0b2fd-ab6c-4923-aa83-b08aca2713f3\",\"type\":\"GlyphRenderer\"}]},\"id\":\"42746419-cad6-46ef-b675-115827228195\",\"type\":\"LegendItem\"},{\"attributes\":{},\"id\":\"a58ba74d-e7ea-4993-ad10-ee946470185a\",\"type\":\"HelpTool\"},{\"attributes\":{\"callback\":null,\"data\":{\"x\":{\"__ndarray__\":\"MMuxyPpuur9qCV/SckK6v+hTEw3y27m/qQAWqrVuub+AP4ApmwG5v6PyjdvQlri/qY5YDqIuuL8QIKbi98q3v3y684Ddbbe/k3ICrdMat797E18Vx9a2vzdLgnSWp7a/pkc3uzaWtr9gCQjJ+qe2vyzKbsE1zLW/m+H9327Psb8mYgHlJEWlv9d2WW7h83u/qf8Ys6LioT/PIx0B+Lm1P6iWGYatfsI/b2cP4nylyz96BKQEcuDRP1nSemF9OtE/c185CFsYyT+S9TSyOzfAP1OWKUFlobM/jKn/6Tz0pj+RslxYV+ibP3K0E2FJd5I/N0pSQFKSiD+OL9Ao88x8P/CSLRhYPm8/DtI8rr8QWT+p8s/AaUthvzdrJGC72X2/zbaxLkFkiL8MPoE7RjWQv1rjZMm5oJW/WEkj35eFm79rXN3E4Aeev1j9xgZUnpy/IhNzf6PMmr8pcjPHGBeZv6m5A6wcS5e/mWHt8NpTlb+upZMUFSmTvyJ+I9VOyJC/yfcSmzxljL+z/wpWi9+Gvzi9YjYLJIG/QAY0ZaC6dr+Qv/ivv5Rmv7CYFalOa/c+DRlB3PZHZz/GmONl1pJ3P+kRgH/4AoI/RZbPuAyKiD9dXTf42GaPPxKSIElYUJM/L5Mf4aUglz9ff9DRKiubP6wgFlkKeJ8/EjsW/a4Hoj/6Cn7W1nqkP6QYU+7DEKc/UBjkiw6xqT9+V/NAxSisP7wdcR58RK4/+y1Upvb/rz+khvOSCcewPwcyc3fklrE/7FSTBWeHsj+DbBnspq2zP5pg+ASpLbU/\",\"dtype\":\"float64\",\"shape\":[75]},\"y\":{\"__ndarray__\":\"GhExyth1ND/Sv8nbtpRIP2vylNV0PVE/aTum7souWD/At0SJ8fVgPw3Iuahxymc/MSNhhJWvcD/bTfBN02d3P2zb5nxnaoA/CD5h5MAGhz8NmeH1TyaQP+zrCsc9p5Y/LbKd76fGnz/bLW5ISEmmPww9YvTcQq8/JV2OstnstT8Er5Y7M8G+P0c+r3jqkcU/5h99k6ZBzj88bCIzFzjVP4enV8oyxN0//yH99nXg5D8qOpLLf0jtP5kqGJXUifQ/c9cS8kHP/D+/DpwzojQEQIEmwoanVwxA4lgXt9HgE0BSSZ2AJuIbQAMJih9jjiNA5q4l5INuK0AwTKYKRj0zQNv5fmq8/DpAaCJseHrtQkB/+zpwzoxKQM3MzMzMeFJAZmZmZmZqWEAAAAAAAFxeQM3MzMzMJmJAmpmZmZkfZUBmZmZmZhhoQDMzMzMzEWtAAAAAAAAKbkBmZmZmZoFwQM3MzMzM/XFAMzMzMzN6c0CamZmZmfZ0QAAAAAAAc3ZAZmZmZmbvd0DNzMzMzGt5QDMzMzMz6HpAmpmZmZlkfEAAAAAAAOF9QGZmZmZmXX9AZmZmZuZsgECamZmZGSuBQM3MzMxM6YFAAAAAAICngkAzMzMzs2WDQGZmZmbmI4RAmpmZmRnihEDNzMzMTKCFQAAAAACAXoZAMzMzM7Mch0BmZmZm5tqHQJqZmZkZmYhAzczMzExXiUAAAAAAgBWKQDMzMzOz04pAZmZmZuaRi0CamZmZGVCMQM3MzMxMDo1AAAAAAIDMjUAzMzMzs4qOQGZmZmbmSI9A\",\"dtype\":\"float64\",\"shape\":[75]}},\"selected\":{\"id\":\"3635a545-56dd-46ea-823f-f53adcb674ef\",\"type\":\"Selection\"},\"selection_policy\":{\"id\":\"6b6080b6-fb18-4e5c-9eaa-e505dc341303\",\"type\":\"UnionRenderers\"}},\"id\":\"eacfaaf6-ec6a-42b5-9697-42d8dc6dc84d\",\"type\":\"ColumnDataSource\"},{\"attributes\":{\"bottom_units\":\"screen\",\"fill_alpha\":{\"value\":0.5},\"fill_color\":{\"value\":\"lightgrey\"},\"left_units\":\"screen\",\"level\":\"overlay\",\"line_alpha\":{\"value\":1.0},\"line_color\":{\"value\":\"black\"},\"line_dash\":[4,4],\"line_width\":{\"value\":2},\"plot\":null,\"render_mode\":\"css\",\"right_units\":\"screen\",\"top_units\":\"screen\"},\"id\":\"0fb5c674-fe70-41d2-8a6f-b9eb4712ec71\",\"type\":\"BoxAnnotation\"},{\"attributes\":{\"axis_label\":\"cooling rate [K/day]\",\"formatter\":{\"id\":\"d5446cad-80ed-4180-8d09-bed787f35683\",\"type\":\"BasicTickFormatter\"},\"plot\":{\"id\":\"290e0570-233d-4f88-b6f9-26e0ac5dc0e6\",\"subtype\":\"Figure\",\"type\":\"Plot\"},\"ticker\":{\"id\":\"c916e393-833e-474d-8efb-8d10d7a55788\",\"type\":\"BasicTicker\"}},\"id\":\"896737b5-6517-4e84-b6d9-44e8bad2668c\",\"type\":\"LinearAxis\"},{\"attributes\":{\"line_alpha\":0.1,\"line_color\":\"#1f77b4\",\"line_dash\":[6],\"line_width\":5,\"x\":{\"field\":\"x\"},\"y\":{\"field\":\"y\"}},\"id\":\"6a80d8df-f72c-4e2e-9818-5bb71fc3fe98\",\"type\":\"Line\"},{\"attributes\":{},\"id\":\"76eb2e54-c7ef-4ccd-a408-0181456a8f31\",\"type\":\"ResetTool\"},{\"attributes\":{\"line_alpha\":0.1,\"line_color\":\"#1f77b4\",\"line_width\":1.5,\"x\":{\"field\":\"x\"},\"y\":{\"field\":\"y\"}},\"id\":\"78102a1c-4a55-4412-b4fe-e16ae3375507\",\"type\":\"Line\"},{\"attributes\":{\"data_source\":{\"id\":\"35057c09-10e9-48a8-8430-3a14a1728670\",\"type\":\"ColumnDataSource\"},\"glyph\":{\"id\":\"89937126-cd95-4b87-80d5-5b71c0493cc8\",\"type\":\"Circle\"},\"hover_glyph\":null,\"muted_glyph\":null,\"nonselection_glyph\":{\"id\":\"a1a2d3be-d2d5-4fdc-a7fd-73e9cccaa0ca\",\"type\":\"Circle\"},\"selection_glyph\":null,\"view\":{\"id\":\"e7e56882-ff77-4ceb-b509-d509482f20ec\",\"type\":\"CDSView\"}},\"id\":\"5fdb2b1a-1efa-4f54-ae71-c633b23907fa\",\"type\":\"GlyphRenderer\"},{\"attributes\":{},\"id\":\"7810d62e-b027-4dc4-b333-087454be7f9d\",\"type\":\"SaveTool\"},{\"attributes\":{\"callback\":null,\"end\":0.01,\"start\":1020},\"id\":\"1077f9a7-e558-4931-9d2d-59c5916626cb\",\"type\":\"Range1d\"},{\"attributes\":{\"tools\":[{\"id\":\"127dca52-1502-4638-bea0-2ef3184a03a4\",\"type\":\"PanTool\"},{\"id\":\"ba600ffb-f612-49aa-aa10-0ac2a2448f90\",\"type\":\"WheelZoomTool\"},{\"id\":\"923f855b-3845-4866-ae47-22e351a97786\",\"type\":\"BoxZoomTool\"},{\"id\":\"ac8773bd-ccbe-42eb-b8fb-cf92aaac2fa6\",\"type\":\"SaveTool\"},{\"id\":\"00959a39-ddb3-4b88-a6e4-8afe03683d76\",\"type\":\"ResetTool\"},{\"id\":\"1a81a822-966a-47bb-8276-8a907322bccc\",\"type\":\"HelpTool\"},{\"id\":\"61c27a97-d1ad-423e-8e2e-501cacb7423c\",\"type\":\"PanTool\"},{\"id\":\"2d80f837-d989-4971-9afd-f75dcef75bc8\",\"type\":\"WheelZoomTool\"},{\"id\":\"7542b170-188f-4c0f-91ef-6525c7a3c3a6\",\"type\":\"BoxZoomTool\"},{\"id\":\"ad7080e0-efaf-4952-b620-c8e772b06d22\",\"type\":\"SaveTool\"},{\"id\":\"87ed388c-b047-40f6-a49c-5b24dad94391\",\"type\":\"ResetTool\"},{\"id\":\"294df079-57c6-4843-b2f5-1e3db82def70\",\"type\":\"HelpTool\"},{\"id\":\"b3fc74b1-eb04-497b-9576-222cd879e132\",\"type\":\"PanTool\"},{\"id\":\"fa66a09c-4bc4-4bef-b2bf-c8e81ec67fb0\",\"type\":\"WheelZoomTool\"},{\"id\":\"84b54a14-dc6a-4f53-b803-2a5155d70cbd\",\"type\":\"BoxZoomTool\"},{\"id\":\"7810d62e-b027-4dc4-b333-087454be7f9d\",\"type\":\"SaveTool\"},{\"id\":\"76eb2e54-c7ef-4ccd-a408-0181456a8f31\",\"type\":\"ResetTool\"},{\"id\":\"a58ba74d-e7ea-4993-ad10-ee946470185a\",\"type\":\"HelpTool\"}]},\"id\":\"0613a6ba-94a6-4f32-999b-6eb0133155fd\",\"type\":\"ProxyToolbar\"},{\"attributes\":{\"active_drag\":\"auto\",\"active_inspect\":\"auto\",\"active_scroll\":\"auto\",\"active_tap\":\"auto\",\"tools\":[{\"id\":\"61c27a97-d1ad-423e-8e2e-501cacb7423c\",\"type\":\"PanTool\"},{\"id\":\"2d80f837-d989-4971-9afd-f75dcef75bc8\",\"type\":\"WheelZoomTool\"},{\"id\":\"7542b170-188f-4c0f-91ef-6525c7a3c3a6\",\"type\":\"BoxZoomTool\"},{\"id\":\"ad7080e0-efaf-4952-b620-c8e772b06d22\",\"type\":\"SaveTool\"},{\"id\":\"87ed388c-b047-40f6-a49c-5b24dad94391\",\"type\":\"ResetTool\"},{\"id\":\"294df079-57c6-4843-b2f5-1e3db82def70\",\"type\":\"HelpTool\"}]},\"id\":\"6e170fac-9c99-4fe0-8ff8-40d94c1afc6a\",\"type\":\"Toolbar\"},{\"attributes\":{\"items\":[{\"id\":\"2a3a3911-c3a0-4392-94b0-65fc5a461960\",\"type\":\"LegendItem\"},{\"id\":\"42746419-cad6-46ef-b675-115827228195\",\"type\":\"LegendItem\"}],\"label_text_font_size\":{\"value\":\"8pt\"},\"location\":\"top_center\",\"orientation\":\"horizontal\",\"plot\":{\"id\":\"290e0570-233d-4f88-b6f9-26e0ac5dc0e6\",\"subtype\":\"Figure\",\"type\":\"Plot\"}},\"id\":\"cd1abd19-8dd6-4bab-8c24-427576b3f8b3\",\"type\":\"Legend\"},{\"attributes\":{\"fill_alpha\":{\"value\":0.1},\"fill_color\":{\"value\":\"#1f77b4\"},\"line_alpha\":{\"value\":0.1},\"line_color\":{\"value\":\"#1f77b4\"},\"x\":{\"field\":\"x\"},\"y\":{\"field\":\"y\"}},\"id\":\"df5f1f4d-183d-4049-b23e-847aac0188f8\",\"type\":\"Circle\"},{\"attributes\":{},\"id\":\"fa66a09c-4bc4-4bef-b2bf-c8e81ec67fb0\",\"type\":\"WheelZoomTool\"},{\"attributes\":{},\"id\":\"8b4e7e0b-8c67-4acd-9c02-be1741c2d071\",\"type\":\"Selection\"},{\"attributes\":{\"children\":[{\"id\":\"4e8cc463-791a-4547-ac53-df52c8f6b8f0\",\"type\":\"ToolbarBox\"},{\"id\":\"15cde2ce-03e4-4894-b0bc-655b7d60b7dc\",\"type\":\"Column\"}]},\"id\":\"2cd9cc24-7e1b-4305-a461-f59fc3e26df7\",\"type\":\"Column\"},{\"attributes\":{\"callback\":null,\"end\":0.283019830584176,\"start\":-0.093948866921776},\"id\":\"743867a6-4d9d-4167-9ec8-9a3e58d50380\",\"type\":\"Range1d\"},{\"attributes\":{},\"id\":\"6c23c30b-e25b-4141-b394-611fb31ddf09\",\"type\":\"UnionRenderers\"},{\"attributes\":{},\"id\":\"ad405cfb-efa0-4556-a1cb-cbfb700d0a6d\",\"type\":\"Selection\"},{\"attributes\":{\"callback\":null,\"data\":{\"x\":{\"__ndarray__\":\"MMuxyPpuur9qCV/SckK6v+hTEw3y27m/qQAWqrVuub+AP4ApmwG5v6PyjdvQlri/qY5YDqIuuL8QIKbi98q3v3y684Ddbbe/k3ICrdMat797E18Vx9a2vzdLgnSWp7a/pkc3uzaWtr9gCQjJ+qe2vyzKbsE1zLW/m+H9327Psb8mYgHlJEWlv9d2WW7h83u/qf8Ys6LioT/PIx0B+Lm1P6iWGYatfsI/b2cP4nylyz96BKQEcuDRP1nSemF9OtE/c185CFsYyT+S9TSyOzfAP1OWKUFlobM/jKn/6Tz0pj+RslxYV+ibP3K0E2FJd5I/N0pSQFKSiD+OL9Ao88x8P/CSLRhYPm8/DtI8rr8QWT+p8s/AaUthvzdrJGC72X2/zbaxLkFkiL8MPoE7RjWQv1rjZMm5oJW/WEkj35eFm79rXN3E4Aeev1j9xgZUnpy/IhNzf6PMmr8pcjPHGBeZv6m5A6wcS5e/mWHt8NpTlb+upZMUFSmTvyJ+I9VOyJC/yfcSmzxljL+z/wpWi9+Gvzi9YjYLJIG/QAY0ZaC6dr+Qv/ivv5Rmv7CYFalOa/c+DRlB3PZHZz/GmONl1pJ3P+kRgH/4AoI/RZbPuAyKiD9dXTf42GaPPxKSIElYUJM/L5Mf4aUglz9ff9DRKiubP6wgFlkKeJ8/EjsW/a4Hoj/6Cn7W1nqkP6QYU+7DEKc/UBjkiw6xqT9+V/NAxSisP7wdcR58RK4/+y1Upvb/rz+khvOSCcewPwcyc3fklrE/7FSTBWeHsj+DbBnspq2zP5pg+ASpLbU/\",\"dtype\":\"float64\",\"shape\":[75]},\"y\":{\"__ndarray__\":\"GhExyth1ND/Sv8nbtpRIP2vylNV0PVE/aTum7souWD/At0SJ8fVgPw3Iuahxymc/MSNhhJWvcD/bTfBN02d3P2zb5nxnaoA/CD5h5MAGhz8NmeH1TyaQP+zrCsc9p5Y/LbKd76fGnz/bLW5ISEmmPww9YvTcQq8/JV2OstnstT8Er5Y7M8G+P0c+r3jqkcU/5h99k6ZBzj88bCIzFzjVP4enV8oyxN0//yH99nXg5D8qOpLLf0jtP5kqGJXUifQ/c9cS8kHP/D+/DpwzojQEQIEmwoanVwxA4lgXt9HgE0BSSZ2AJuIbQAMJih9jjiNA5q4l5INuK0AwTKYKRj0zQNv5fmq8/DpAaCJseHrtQkB/+zpwzoxKQM3MzMzMeFJAZmZmZmZqWEAAAAAAAFxeQM3MzMzMJmJAmpmZmZkfZUBmZmZmZhhoQDMzMzMzEWtAAAAAAAAKbkBmZmZmZoFwQM3MzMzM/XFAMzMzMzN6c0CamZmZmfZ0QAAAAAAAc3ZAZmZmZmbvd0DNzMzMzGt5QDMzMzMz6HpAmpmZmZlkfEAAAAAAAOF9QGZmZmZmXX9AZmZmZuZsgECamZmZGSuBQM3MzMxM6YFAAAAAAICngkAzMzMzs2WDQGZmZmbmI4RAmpmZmRnihEDNzMzMTKCFQAAAAACAXoZAMzMzM7Mch0BmZmZm5tqHQJqZmZkZmYhAzczMzExXiUAAAAAAgBWKQDMzMzOz04pAZmZmZuaRi0CamZmZGVCMQM3MzMxMDo1AAAAAAIDMjUAzMzMzs4qOQGZmZmbmSI9A\",\"dtype\":\"float64\",\"shape\":[75]}},\"selected\":{\"id\":\"63761310-229e-4e0e-94f5-b12c103adb95\",\"type\":\"Selection\"},\"selection_policy\":{\"id\":\"a1787c34-9948-4a1e-a65f-941b5c8513de\",\"type\":\"UnionRenderers\"}},\"id\":\"23784487-774c-4cae-acec-9c1c9c0754c6\",\"type\":\"ColumnDataSource\"},{\"attributes\":{},\"id\":\"c916e393-833e-474d-8efb-8d10d7a55788\",\"type\":\"BasicTicker\"},{\"attributes\":{\"line_color\":\"#4daf4a\",\"line_width\":1.5,\"x\":{\"field\":\"x\"},\"y\":{\"field\":\"y\"}},\"id\":\"8a7658ee-4065-4e47-becb-ada503819508\",\"type\":\"Line\"},{\"attributes\":{},\"id\":\"78f3d5e8-2f84-4350-86f5-1ec800db6952\",\"type\":\"UnionRenderers\"},{\"attributes\":{\"source\":{\"id\":\"23784487-774c-4cae-acec-9c1c9c0754c6\",\"type\":\"ColumnDataSource\"}},\"id\":\"82a88e95-41e1-4507-8907-01266986acad\",\"type\":\"CDSView\"},{\"attributes\":{\"data_source\":{\"id\":\"eacfaaf6-ec6a-42b5-9697-42d8dc6dc84d\",\"type\":\"ColumnDataSource\"},\"glyph\":{\"id\":\"8a7658ee-4065-4e47-becb-ada503819508\",\"type\":\"Line\"},\"hover_glyph\":null,\"muted_glyph\":null,\"nonselection_glyph\":{\"id\":\"78102a1c-4a55-4412-b4fe-e16ae3375507\",\"type\":\"Line\"},\"selection_glyph\":null,\"view\":{\"id\":\"a77f0fdf-169e-4d82-b927-92307e09c681\",\"type\":\"CDSView\"}},\"id\":\"35d0b2fd-ab6c-4923-aa83-b08aca2713f3\",\"type\":\"GlyphRenderer\"},{\"attributes\":{\"source\":{\"id\":\"eacfaaf6-ec6a-42b5-9697-42d8dc6dc84d\",\"type\":\"ColumnDataSource\"}},\"id\":\"a77f0fdf-169e-4d82-b927-92307e09c681\",\"type\":\"CDSView\"},{\"attributes\":{\"label\":{\"value\":\"CLIRAD\"},\"renderers\":[{\"id\":\"d50a3f10-dadc-4418-a727-7f19252ce3f4\",\"type\":\"GlyphRenderer\"}]},\"id\":\"2a3a3911-c3a0-4392-94b0-65fc5a461960\",\"type\":\"LegendItem\"},{\"attributes\":{\"data_source\":{\"id\":\"23784487-774c-4cae-acec-9c1c9c0754c6\",\"type\":\"ColumnDataSource\"},\"glyph\":{\"id\":\"24cb3e1f-b9f6-483e-998f-04fd25938a3e\",\"type\":\"Circle\"},\"hover_glyph\":null,\"muted_glyph\":null,\"nonselection_glyph\":{\"id\":\"df5f1f4d-183d-4049-b23e-847aac0188f8\",\"type\":\"Circle\"},\"selection_glyph\":null,\"view\":{\"id\":\"82a88e95-41e1-4507-8907-01266986acad\",\"type\":\"CDSView\"}},\"id\":\"36f84d18-57b6-4ed8-b3e0-3840bf9866e4\",\"type\":\"GlyphRenderer\"}],\"root_ids\":[\"2cd9cc24-7e1b-4305-a461-f59fc3e26df7\"]},\"title\":\"Bokeh Application\",\"version\":\"0.12.16\"}};\n",
       "  var render_items = [{\"docid\":\"3a8cb1fa-86f2-449e-b56b-e755abd177a8\",\"elementid\":\"2e3a0b2c-ac7c-4a2a-ad0f-b36a576e61c4\",\"modelid\":\"2cd9cc24-7e1b-4305-a461-f59fc3e26df7\"}];\n",
       "  root.Bokeh.embed.embed_items_notebook(docs_json, render_items);\n",
       "\n",
       "  }\n",
       "  if (root.Bokeh !== undefined) {\n",
       "    embed_document(root);\n",
       "  } else {\n",
       "    var attempts = 0;\n",
       "    var timer = setInterval(function(root) {\n",
       "      if (root.Bokeh !== undefined) {\n",
       "        embed_document(root);\n",
       "        clearInterval(timer);\n",
       "      }\n",
       "      attempts++;\n",
       "      if (attempts > 100) {\n",
       "        console.log(\"Bokeh: ERROR: Unable to run BokehJS code because BokehJS library is missing\")\n",
       "        clearInterval(timer);\n",
       "      }\n",
       "    }, 10, root)\n",
       "  }\n",
       "})(window);"
      ],
      "application/vnd.bokehjs_exec.v0+json": ""
     },
     "metadata": {
      "application/vnd.bokehjs_exec.v0+json": {
       "id": "2cd9cc24-7e1b-4305-a461-f59fc3e26df7"
      }
     },
     "output_type": "display_data"
    },
    {
     "data": {
      "text/markdown": [
       "*FIGURE.* Cooling rates & difference."
      ],
      "text/plain": [
       "<IPython.core.display.Markdown object>"
      ]
     },
     "metadata": {},
     "output_type": "display_data"
    },
    {
     "data": {
      "text/html": [
       "<a id=\"Fluxes._mls.\"></a>"
      ],
      "text/plain": [
       "<IPython.core.display.HTML object>"
      ]
     },
     "metadata": {},
     "output_type": "display_data"
    },
    {
     "data": {
      "text/markdown": [
       "# Fluxes. mls."
      ],
      "text/plain": [
       "<IPython.core.display.Markdown object>"
      ]
     },
     "metadata": {},
     "output_type": "display_data"
    },
    {
     "data": {
      "text/html": [
       "\n",
       "<div class=\"bk-root\">\n",
       "    <div class=\"bk-plotdiv\" id=\"334b0fa8-86f4-4932-941e-94cd42930a93\"></div>\n",
       "</div>"
      ]
     },
     "metadata": {},
     "output_type": "display_data"
    },
    {
     "data": {
      "application/javascript": [
       "(function(root) {\n",
       "  function embed_document(root) {\n",
       "    \n",
       "  var docs_json = {\"62561f6e-c84b-4987-8e6b-d11a5a22acff\":{\"roots\":{\"references\":[{\"attributes\":{\"dimension\":1,\"plot\":{\"id\":\"d5711743-7293-49b7-a6bf-57393a3c0520\",\"subtype\":\"Figure\",\"type\":\"Plot\"},\"ticker\":{\"id\":\"cea358de-b2a7-4098-90e1-ca51177aca03\",\"type\":\"BasicTicker\"}},\"id\":\"774c7533-2361-484f-a701-a3477137b17b\",\"type\":\"Grid\"},{\"attributes\":{\"axis_label\":\"flux (W m-2)\",\"formatter\":{\"id\":\"eacd74d2-a1e3-459b-891c-4b28a9097d34\",\"type\":\"BasicTickFormatter\"},\"plot\":{\"id\":\"d5711743-7293-49b7-a6bf-57393a3c0520\",\"subtype\":\"Figure\",\"type\":\"Plot\"},\"ticker\":{\"id\":\"cea358de-b2a7-4098-90e1-ca51177aca03\",\"type\":\"BasicTicker\"}},\"id\":\"2039bc35-fb92-4273-8c31-1adefca43f53\",\"type\":\"LinearAxis\"},{\"attributes\":{},\"id\":\"7e905de5-e073-47cc-a398-88198d812bde\",\"type\":\"CategoricalTickFormatter\"},{\"attributes\":{\"axis_label\":\"flux (W m-2)\",\"formatter\":{\"id\":\"44249306-6980-4250-ab7e-fd198921090a\",\"type\":\"BasicTickFormatter\"},\"plot\":{\"id\":\"783e36fe-6ded-4c2f-975c-ecb1e8cf640d\",\"subtype\":\"Figure\",\"type\":\"Plot\"},\"ticker\":{\"id\":\"a53c4640-6aa3-4603-bf8d-779b7c7100b4\",\"type\":\"BasicTicker\"}},\"id\":\"7ec6a5af-17c9-4e4b-b2ae-1ce86421617b\",\"type\":\"LinearAxis\"},{\"attributes\":{},\"id\":\"7a5ffff8-9a7d-408f-83a5-5282a328eb93\",\"type\":\"CategoricalScale\"},{\"attributes\":{\"callback\":null,\"data\":{\"band\":[\"9\"],\"flux\":{\"__ndarray__\":\"gMmLjtyBzb8=\",\"dtype\":\"float64\",\"shape\":[1]}},\"selected\":{\"id\":\"6de0824f-e58f-4cf0-b062-85de64b73434\",\"type\":\"Selection\"},\"selection_policy\":{\"id\":\"85acf69f-07bb-4027-bcec-0c0dbf46eb13\",\"type\":\"UnionRenderers\"}},\"id\":\"caaef394-5f45-4dc4-922a-ce72b419374d\",\"type\":\"ColumnDataSource\"},{\"attributes\":{\"active_drag\":\"auto\",\"active_inspect\":\"auto\",\"active_scroll\":\"auto\",\"active_tap\":\"auto\",\"tools\":[{\"id\":\"f102cfe2-698b-4a6b-9880-5dcb84f5492f\",\"type\":\"PanTool\"},{\"id\":\"966eec39-5c6a-4527-af88-7b2d4379fa75\",\"type\":\"WheelZoomTool\"},{\"id\":\"3365c413-02c5-4a7c-9cae-bffa7d8c4421\",\"type\":\"BoxZoomTool\"},{\"id\":\"4d2b5e1a-dda9-41ef-a50c-33245d74e602\",\"type\":\"SaveTool\"},{\"id\":\"c9610179-d720-489f-97ff-749baf2fa76d\",\"type\":\"ResetTool\"},{\"id\":\"9ecf8509-35b7-41bb-b74d-636b562ec533\",\"type\":\"HelpTool\"}]},\"id\":\"90ac0f86-346c-4bf3-8cb3-cfaa507702e8\",\"type\":\"Toolbar\"},{\"attributes\":{},\"id\":\"af34508e-b0a4-483e-af2f-f577f091d7ae\",\"type\":\"LinearScale\"},{\"attributes\":{\"callback\":null},\"id\":\"611c3e59-2a53-46b1-ae8c-d801ec6fdb23\",\"type\":\"DataRange1d\"},{\"attributes\":{\"plot\":null,\"text\":\"SFC flux. CLIRAD - CRD.\"},\"id\":\"7a998612-4408-4163-a3c8-56520171a41c\",\"type\":\"Title\"},{\"attributes\":{\"axis_label\":\"spectral band\",\"formatter\":{\"id\":\"7e905de5-e073-47cc-a398-88198d812bde\",\"type\":\"CategoricalTickFormatter\"},\"plot\":{\"id\":\"783e36fe-6ded-4c2f-975c-ecb1e8cf640d\",\"subtype\":\"Figure\",\"type\":\"Plot\"},\"ticker\":{\"id\":\"cb619b01-09ac-47f8-b26f-40a7a30b136e\",\"type\":\"CategoricalTicker\"}},\"id\":\"0f4a7235-b616-4339-9d46-73d86f8d261a\",\"type\":\"CategoricalAxis\"},{\"attributes\":{\"axis_label\":\"flux (W m-2)\",\"formatter\":{\"id\":\"3d768554-f346-45d8-acff-7c37d47fb2cb\",\"type\":\"BasicTickFormatter\"},\"plot\":{\"id\":\"71a33ff8-ffb4-43a9-9b8d-032312aba0e8\",\"subtype\":\"Figure\",\"type\":\"Plot\"},\"ticker\":{\"id\":\"e99e42ae-ee0a-425f-94a4-d7dc3171fc36\",\"type\":\"BasicTicker\"}},\"id\":\"d4957f80-ff79-4b76-906a-d39b95110b9e\",\"type\":\"LinearAxis\"},{\"attributes\":{\"plot\":null,\"text\":\"Atmosphere heating. CLIRAD - CRD.\"},\"id\":\"b196dc09-fcae-48d1-aa27-9c6ead48ce9d\",\"type\":\"Title\"},{\"attributes\":{},\"id\":\"a693f076-49f0-4dea-a19b-7ec1de49f13a\",\"type\":\"LinearScale\"},{\"attributes\":{\"active_drag\":\"auto\",\"active_inspect\":\"auto\",\"active_scroll\":\"auto\",\"active_tap\":\"auto\",\"tools\":[{\"id\":\"0a9e987a-8532-4f94-a5a0-97d7e5475414\",\"type\":\"PanTool\"},{\"id\":\"5fca34e7-1baf-4878-b927-d7a61ff7e1b7\",\"type\":\"WheelZoomTool\"},{\"id\":\"c3915f73-c447-417e-bcf2-2e41d1891cbd\",\"type\":\"BoxZoomTool\"},{\"id\":\"9a43cb32-ebd8-4f0d-bffc-596078d8c4e2\",\"type\":\"SaveTool\"},{\"id\":\"c9e62191-8468-496b-93aa-c0679f2d5651\",\"type\":\"ResetTool\"},{\"id\":\"0a0f66f4-981c-4dc5-ba8f-468f0afa4f39\",\"type\":\"HelpTool\"}]},\"id\":\"49dbee52-ccba-4307-a70a-0d4b18f25fbd\",\"type\":\"Toolbar\"},{\"attributes\":{},\"id\":\"a3c57068-1ae6-4ad9-b503-890dd6eb9e7d\",\"type\":\"CategoricalScale\"},{\"attributes\":{},\"id\":\"cea358de-b2a7-4098-90e1-ca51177aca03\",\"type\":\"BasicTicker\"},{\"attributes\":{\"fill_alpha\":{\"value\":0.1},\"fill_color\":{\"value\":\"#1f77b4\"},\"line_alpha\":{\"value\":0.1},\"line_color\":{\"value\":\"#1f77b4\"},\"top\":{\"field\":\"flux\"},\"width\":{\"value\":0.9},\"x\":{\"field\":\"band\"}},\"id\":\"3c86d0e9-b48d-40c1-a3c6-1d358b80a04b\",\"type\":\"VBar\"},{\"attributes\":{},\"id\":\"4d2b5e1a-dda9-41ef-a50c-33245d74e602\",\"type\":\"SaveTool\"},{\"attributes\":{},\"id\":\"ef436f47-56f7-4281-932e-a8fb30cdc1e6\",\"type\":\"CategoricalTicker\"},{\"attributes\":{\"below\":[{\"id\":\"0f4a7235-b616-4339-9d46-73d86f8d261a\",\"type\":\"CategoricalAxis\"}],\"left\":[{\"id\":\"7ec6a5af-17c9-4e4b-b2ae-1ce86421617b\",\"type\":\"LinearAxis\"}],\"plot_height\":300,\"plot_width\":300,\"renderers\":[{\"id\":\"0f4a7235-b616-4339-9d46-73d86f8d261a\",\"type\":\"CategoricalAxis\"},{\"id\":\"1fab4d2c-7454-479b-8b14-2c32446ee53a\",\"type\":\"Grid\"},{\"id\":\"7ec6a5af-17c9-4e4b-b2ae-1ce86421617b\",\"type\":\"LinearAxis\"},{\"id\":\"a64a392c-a8e9-4040-a5fc-e5c687071139\",\"type\":\"Grid\"},{\"id\":\"0e3b43ce-2321-463b-8511-3c2e7c282f6a\",\"type\":\"BoxAnnotation\"},{\"id\":\"a7a61f17-acad-4aaf-8005-b17a84bc5eec\",\"type\":\"GlyphRenderer\"}],\"title\":{\"id\":\"b196dc09-fcae-48d1-aa27-9c6ead48ce9d\",\"type\":\"Title\"},\"toolbar\":{\"id\":\"90ac0f86-346c-4bf3-8cb3-cfaa507702e8\",\"type\":\"Toolbar\"},\"toolbar_location\":null,\"x_range\":{\"id\":\"66943406-cfde-4a65-ab82-ad478bbd44a2\",\"type\":\"FactorRange\"},\"x_scale\":{\"id\":\"7a5ffff8-9a7d-408f-83a5-5282a328eb93\",\"type\":\"CategoricalScale\"},\"y_range\":{\"id\":\"611c3e59-2a53-46b1-ae8c-d801ec6fdb23\",\"type\":\"DataRange1d\"},\"y_scale\":{\"id\":\"a693f076-49f0-4dea-a19b-7ec1de49f13a\",\"type\":\"LinearScale\"}},\"id\":\"783e36fe-6ded-4c2f-975c-ecb1e8cf640d\",\"subtype\":\"Figure\",\"type\":\"Plot\"},{\"attributes\":{\"active_drag\":\"auto\",\"active_inspect\":\"auto\",\"active_scroll\":\"auto\",\"active_tap\":\"auto\",\"tools\":[{\"id\":\"f0280688-93e5-4b61-8b1c-4b24b185e4f9\",\"type\":\"PanTool\"},{\"id\":\"dc387ac0-39e2-4287-a217-b1f15af7d6a6\",\"type\":\"WheelZoomTool\"},{\"id\":\"69ea08ae-0a2d-4446-a7d5-c4701423f2d2\",\"type\":\"BoxZoomTool\"},{\"id\":\"f65cd4b5-b406-4bf4-b003-869979ab4601\",\"type\":\"SaveTool\"},{\"id\":\"caa3e380-103a-4720-b4d5-12afadaf3aee\",\"type\":\"ResetTool\"},{\"id\":\"d9daeb3a-1aef-41b4-9e70-b5750834ea89\",\"type\":\"HelpTool\"}]},\"id\":\"ef7ea525-2ecb-40c7-8632-afc08dc238cd\",\"type\":\"Toolbar\"},{\"attributes\":{},\"id\":\"fef21e4d-3072-4398-bb70-89fc795267a8\",\"type\":\"CategoricalScale\"},{\"attributes\":{},\"id\":\"fe0951c5-eea1-4f09-8a0a-30dcc1fd5f1d\",\"type\":\"LinearScale\"},{\"attributes\":{\"callback\":null,\"factors\":[\"9\"]},\"id\":\"04117bc2-972d-432d-9966-b6c9d6bcf6a3\",\"type\":\"FactorRange\"},{\"attributes\":{\"plot\":{\"id\":\"d5711743-7293-49b7-a6bf-57393a3c0520\",\"subtype\":\"Figure\",\"type\":\"Plot\"},\"ticker\":{\"id\":\"ef436f47-56f7-4281-932e-a8fb30cdc1e6\",\"type\":\"CategoricalTicker\"}},\"id\":\"ce2f7283-ea43-4c6d-aac0-008e0729426c\",\"type\":\"Grid\"},{\"attributes\":{\"overlay\":{\"id\":\"0e3b43ce-2321-463b-8511-3c2e7c282f6a\",\"type\":\"BoxAnnotation\"}},\"id\":\"3365c413-02c5-4a7c-9cae-bffa7d8c4421\",\"type\":\"BoxZoomTool\"},{\"attributes\":{\"axis_label\":\"spectral band\",\"formatter\":{\"id\":\"0ed8fba0-5f71-487c-8331-30fc741f1ff1\",\"type\":\"CategoricalTickFormatter\"},\"plot\":{\"id\":\"d5711743-7293-49b7-a6bf-57393a3c0520\",\"subtype\":\"Figure\",\"type\":\"Plot\"},\"ticker\":{\"id\":\"ef436f47-56f7-4281-932e-a8fb30cdc1e6\",\"type\":\"CategoricalTicker\"}},\"id\":\"f945c284-6231-4104-80b9-2fd1af2fbcc5\",\"type\":\"CategoricalAxis\"},{\"attributes\":{},\"id\":\"c9610179-d720-489f-97ff-749baf2fa76d\",\"type\":\"ResetTool\"},{\"attributes\":{\"source\":{\"id\":\"ce146d28-6adf-44c9-a0bf-147ab66a2abd\",\"type\":\"ColumnDataSource\"}},\"id\":\"5e8e4aa1-c518-4875-8647-1366c15ce08f\",\"type\":\"CDSView\"},{\"attributes\":{\"plot\":{\"id\":\"71a33ff8-ffb4-43a9-9b8d-032312aba0e8\",\"subtype\":\"Figure\",\"type\":\"Plot\"},\"ticker\":{\"id\":\"1ac55480-d7c4-4c5c-8a83-4060f592852c\",\"type\":\"CategoricalTicker\"}},\"id\":\"1aa47354-d21d-4e2e-a3e3-0705d93fe33e\",\"type\":\"Grid\"},{\"attributes\":{\"callback\":null},\"id\":\"46207a4c-4624-48b4-8ce6-badb3b754515\",\"type\":\"DataRange1d\"},{\"attributes\":{},\"id\":\"966eec39-5c6a-4527-af88-7b2d4379fa75\",\"type\":\"WheelZoomTool\"},{\"attributes\":{\"data_source\":{\"id\":\"ce146d28-6adf-44c9-a0bf-147ab66a2abd\",\"type\":\"ColumnDataSource\"},\"glyph\":{\"id\":\"2448cbbb-d7cb-4221-8ef3-b329cd5be5c7\",\"type\":\"VBar\"},\"hover_glyph\":null,\"muted_glyph\":null,\"nonselection_glyph\":{\"id\":\"6c52d3be-b95a-472e-bce9-f76b8270b33e\",\"type\":\"VBar\"},\"selection_glyph\":null,\"view\":{\"id\":\"5e8e4aa1-c518-4875-8647-1366c15ce08f\",\"type\":\"CDSView\"}},\"id\":\"a7a61f17-acad-4aaf-8005-b17a84bc5eec\",\"type\":\"GlyphRenderer\"},{\"attributes\":{\"below\":[{\"id\":\"c51c0f90-eddc-4302-996c-c88cfeaa84b9\",\"type\":\"CategoricalAxis\"}],\"left\":[{\"id\":\"d4957f80-ff79-4b76-906a-d39b95110b9e\",\"type\":\"LinearAxis\"}],\"plot_height\":300,\"plot_width\":300,\"renderers\":[{\"id\":\"c51c0f90-eddc-4302-996c-c88cfeaa84b9\",\"type\":\"CategoricalAxis\"},{\"id\":\"1aa47354-d21d-4e2e-a3e3-0705d93fe33e\",\"type\":\"Grid\"},{\"id\":\"d4957f80-ff79-4b76-906a-d39b95110b9e\",\"type\":\"LinearAxis\"},{\"id\":\"3e5ce9cc-a686-404e-94bd-24c4824749a1\",\"type\":\"Grid\"},{\"id\":\"47423d51-10a1-4a99-9340-768e476c9ba7\",\"type\":\"BoxAnnotation\"},{\"id\":\"3bc932df-0913-46bb-90a1-4c187313cd6a\",\"type\":\"GlyphRenderer\"}],\"title\":{\"id\":\"b968ca75-23ab-45cd-af89-305847196021\",\"type\":\"Title\"},\"toolbar\":{\"id\":\"49dbee52-ccba-4307-a70a-0d4b18f25fbd\",\"type\":\"Toolbar\"},\"toolbar_location\":null,\"x_range\":{\"id\":\"79258b89-96c1-4198-ada2-a27ba5103dbb\",\"type\":\"FactorRange\"},\"x_scale\":{\"id\":\"a3c57068-1ae6-4ad9-b503-890dd6eb9e7d\",\"type\":\"CategoricalScale\"},\"y_range\":{\"id\":\"954ab02a-7abe-4c07-83ff-66c9549cc0f9\",\"type\":\"DataRange1d\"},\"y_scale\":{\"id\":\"af34508e-b0a4-483e-af2f-f577f091d7ae\",\"type\":\"LinearScale\"}},\"id\":\"71a33ff8-ffb4-43a9-9b8d-032312aba0e8\",\"subtype\":\"Figure\",\"type\":\"Plot\"},{\"attributes\":{\"fill_color\":{\"value\":\"#1f77b4\"},\"line_color\":{\"value\":\"#1f77b4\"},\"top\":{\"field\":\"flux\"},\"width\":{\"value\":0.9},\"x\":{\"field\":\"band\"}},\"id\":\"70b585ca-bb6f-4ec5-aed9-b8979ad2d345\",\"type\":\"VBar\"},{\"attributes\":{},\"id\":\"f102cfe2-698b-4a6b-9880-5dcb84f5492f\",\"type\":\"PanTool\"},{\"attributes\":{\"bottom_units\":\"screen\",\"fill_alpha\":{\"value\":0.5},\"fill_color\":{\"value\":\"lightgrey\"},\"left_units\":\"screen\",\"level\":\"overlay\",\"line_alpha\":{\"value\":1.0},\"line_color\":{\"value\":\"black\"},\"line_dash\":[4,4],\"line_width\":{\"value\":2},\"plot\":null,\"render_mode\":\"css\",\"right_units\":\"screen\",\"top_units\":\"screen\"},\"id\":\"0e3b43ce-2321-463b-8511-3c2e7c282f6a\",\"type\":\"BoxAnnotation\"},{\"attributes\":{\"bottom_units\":\"screen\",\"fill_alpha\":{\"value\":0.5},\"fill_color\":{\"value\":\"lightgrey\"},\"left_units\":\"screen\",\"level\":\"overlay\",\"line_alpha\":{\"value\":1.0},\"line_color\":{\"value\":\"black\"},\"line_dash\":[4,4],\"line_width\":{\"value\":2},\"plot\":null,\"render_mode\":\"css\",\"right_units\":\"screen\",\"top_units\":\"screen\"},\"id\":\"43d9af84-53fb-4ae1-bae3-8ef986f47cee\",\"type\":\"BoxAnnotation\"},{\"attributes\":{\"children\":[{\"id\":\"71a33ff8-ffb4-43a9-9b8d-032312aba0e8\",\"subtype\":\"Figure\",\"type\":\"Plot\"},{\"id\":\"d5711743-7293-49b7-a6bf-57393a3c0520\",\"subtype\":\"Figure\",\"type\":\"Plot\"},{\"id\":\"783e36fe-6ded-4c2f-975c-ecb1e8cf640d\",\"subtype\":\"Figure\",\"type\":\"Plot\"}]},\"id\":\"90a0be34-7065-4818-80f1-9dc6cecca9ef\",\"type\":\"Row\"},{\"attributes\":{\"callback\":null,\"factors\":[\"9\"]},\"id\":\"79258b89-96c1-4198-ada2-a27ba5103dbb\",\"type\":\"FactorRange\"},{\"attributes\":{},\"id\":\"f0280688-93e5-4b61-8b1c-4b24b185e4f9\",\"type\":\"PanTool\"},{\"attributes\":{\"fill_color\":{\"value\":\"#1f77b4\"},\"line_color\":{\"value\":\"#1f77b4\"},\"top\":{\"field\":\"flux\"},\"width\":{\"value\":0.9},\"x\":{\"field\":\"band\"}},\"id\":\"2448cbbb-d7cb-4221-8ef3-b329cd5be5c7\",\"type\":\"VBar\"},{\"attributes\":{\"callback\":null},\"id\":\"954ab02a-7abe-4c07-83ff-66c9549cc0f9\",\"type\":\"DataRange1d\"},{\"attributes\":{},\"id\":\"d72f496f-9281-4ae2-9357-b4e4bb9d9461\",\"type\":\"CategoricalTickFormatter\"},{\"attributes\":{},\"id\":\"dc387ac0-39e2-4287-a217-b1f15af7d6a6\",\"type\":\"WheelZoomTool\"},{\"attributes\":{\"dimension\":1,\"plot\":{\"id\":\"783e36fe-6ded-4c2f-975c-ecb1e8cf640d\",\"subtype\":\"Figure\",\"type\":\"Plot\"},\"ticker\":{\"id\":\"a53c4640-6aa3-4603-bf8d-779b7c7100b4\",\"type\":\"BasicTicker\"}},\"id\":\"a64a392c-a8e9-4040-a5fc-e5c687071139\",\"type\":\"Grid\"},{\"attributes\":{\"overlay\":{\"id\":\"43d9af84-53fb-4ae1-bae3-8ef986f47cee\",\"type\":\"BoxAnnotation\"}},\"id\":\"69ea08ae-0a2d-4446-a7d5-c4701423f2d2\",\"type\":\"BoxZoomTool\"},{\"attributes\":{},\"id\":\"a53c4640-6aa3-4603-bf8d-779b7c7100b4\",\"type\":\"BasicTicker\"},{\"attributes\":{},\"id\":\"f65cd4b5-b406-4bf4-b003-869979ab4601\",\"type\":\"SaveTool\"},{\"attributes\":{\"data_source\":{\"id\":\"caaef394-5f45-4dc4-922a-ce72b419374d\",\"type\":\"ColumnDataSource\"},\"glyph\":{\"id\":\"70b585ca-bb6f-4ec5-aed9-b8979ad2d345\",\"type\":\"VBar\"},\"hover_glyph\":null,\"muted_glyph\":null,\"nonselection_glyph\":{\"id\":\"3c86d0e9-b48d-40c1-a3c6-1d358b80a04b\",\"type\":\"VBar\"},\"selection_glyph\":null,\"view\":{\"id\":\"26239f8b-791e-4467-b34c-b65b1ecb314b\",\"type\":\"CDSView\"}},\"id\":\"00bd0c0f-768d-4c6f-ba29-9806036e234d\",\"type\":\"GlyphRenderer\"},{\"attributes\":{},\"id\":\"cb619b01-09ac-47f8-b26f-40a7a30b136e\",\"type\":\"CategoricalTicker\"},{\"attributes\":{},\"id\":\"caa3e380-103a-4720-b4d5-12afadaf3aee\",\"type\":\"ResetTool\"},{\"attributes\":{},\"id\":\"d9daeb3a-1aef-41b4-9e70-b5750834ea89\",\"type\":\"HelpTool\"},{\"attributes\":{\"fill_color\":{\"value\":\"#1f77b4\"},\"line_color\":{\"value\":\"#1f77b4\"},\"top\":{\"field\":\"flux\"},\"width\":{\"value\":0.9},\"x\":{\"field\":\"band\"}},\"id\":\"f22a84ca-db36-4493-a46c-a03d4ed64515\",\"type\":\"VBar\"},{\"attributes\":{},\"id\":\"85acf69f-07bb-4027-bcec-0c0dbf46eb13\",\"type\":\"UnionRenderers\"},{\"attributes\":{\"fill_alpha\":{\"value\":0.1},\"fill_color\":{\"value\":\"#1f77b4\"},\"line_alpha\":{\"value\":0.1},\"line_color\":{\"value\":\"#1f77b4\"},\"top\":{\"field\":\"flux\"},\"width\":{\"value\":0.9},\"x\":{\"field\":\"band\"}},\"id\":\"6c52d3be-b95a-472e-bce9-f76b8270b33e\",\"type\":\"VBar\"},{\"attributes\":{\"bottom_units\":\"screen\",\"fill_alpha\":{\"value\":0.5},\"fill_color\":{\"value\":\"lightgrey\"},\"left_units\":\"screen\",\"level\":\"overlay\",\"line_alpha\":{\"value\":1.0},\"line_color\":{\"value\":\"black\"},\"line_dash\":[4,4],\"line_width\":{\"value\":2},\"plot\":null,\"render_mode\":\"css\",\"right_units\":\"screen\",\"top_units\":\"screen\"},\"id\":\"47423d51-10a1-4a99-9340-768e476c9ba7\",\"type\":\"BoxAnnotation\"},{\"attributes\":{},\"id\":\"1ac55480-d7c4-4c5c-8a83-4060f592852c\",\"type\":\"CategoricalTicker\"},{\"attributes\":{},\"id\":\"9ecf8509-35b7-41bb-b74d-636b562ec533\",\"type\":\"HelpTool\"},{\"attributes\":{\"children\":[{\"id\":\"da2c3a61-00e4-476a-9cba-5b613bfa5199\",\"type\":\"ToolbarBox\"},{\"id\":\"b28c89a6-6bbb-4267-9ee1-e9aef7a69a20\",\"type\":\"Column\"}]},\"id\":\"263f3eec-ac7f-4ead-8f9a-18c2cfd28353\",\"type\":\"Column\"},{\"attributes\":{\"plot\":null,\"text\":\"TOA flux. CLIRAD - CRD.\"},\"id\":\"b968ca75-23ab-45cd-af89-305847196021\",\"type\":\"Title\"},{\"attributes\":{},\"id\":\"3d768554-f346-45d8-acff-7c37d47fb2cb\",\"type\":\"BasicTickFormatter\"},{\"attributes\":{\"data_source\":{\"id\":\"181f49b1-d72a-46ad-8e5c-af56ef76614d\",\"type\":\"ColumnDataSource\"},\"glyph\":{\"id\":\"f22a84ca-db36-4493-a46c-a03d4ed64515\",\"type\":\"VBar\"},\"hover_glyph\":null,\"muted_glyph\":null,\"nonselection_glyph\":{\"id\":\"b79bff91-6a0e-4ca2-8480-ea95e88d7ac9\",\"type\":\"VBar\"},\"selection_glyph\":null,\"view\":{\"id\":\"43a2af0b-452d-4811-b8c3-c6fb80cba0c1\",\"type\":\"CDSView\"}},\"id\":\"3bc932df-0913-46bb-90a1-4c187313cd6a\",\"type\":\"GlyphRenderer\"},{\"attributes\":{},\"id\":\"1198c867-4bac-41a1-8554-35a62f3143c5\",\"type\":\"UnionRenderers\"},{\"attributes\":{},\"id\":\"e99e42ae-ee0a-425f-94a4-d7dc3171fc36\",\"type\":\"BasicTicker\"},{\"attributes\":{},\"id\":\"0a9e987a-8532-4f94-a5a0-97d7e5475414\",\"type\":\"PanTool\"},{\"attributes\":{\"plot\":{\"id\":\"783e36fe-6ded-4c2f-975c-ecb1e8cf640d\",\"subtype\":\"Figure\",\"type\":\"Plot\"},\"ticker\":{\"id\":\"cb619b01-09ac-47f8-b26f-40a7a30b136e\",\"type\":\"CategoricalTicker\"}},\"id\":\"1fab4d2c-7454-479b-8b14-2c32446ee53a\",\"type\":\"Grid\"},{\"attributes\":{\"children\":[{\"id\":\"90a0be34-7065-4818-80f1-9dc6cecca9ef\",\"type\":\"Row\"}]},\"id\":\"b28c89a6-6bbb-4267-9ee1-e9aef7a69a20\",\"type\":\"Column\"},{\"attributes\":{},\"id\":\"eacd74d2-a1e3-459b-891c-4b28a9097d34\",\"type\":\"BasicTickFormatter\"},{\"attributes\":{},\"id\":\"19a8003a-c3ea-4c3f-8342-e1d7cbf96633\",\"type\":\"Selection\"},{\"attributes\":{\"below\":[{\"id\":\"f945c284-6231-4104-80b9-2fd1af2fbcc5\",\"type\":\"CategoricalAxis\"}],\"left\":[{\"id\":\"2039bc35-fb92-4273-8c31-1adefca43f53\",\"type\":\"LinearAxis\"}],\"plot_height\":300,\"plot_width\":300,\"renderers\":[{\"id\":\"f945c284-6231-4104-80b9-2fd1af2fbcc5\",\"type\":\"CategoricalAxis\"},{\"id\":\"ce2f7283-ea43-4c6d-aac0-008e0729426c\",\"type\":\"Grid\"},{\"id\":\"2039bc35-fb92-4273-8c31-1adefca43f53\",\"type\":\"LinearAxis\"},{\"id\":\"774c7533-2361-484f-a701-a3477137b17b\",\"type\":\"Grid\"},{\"id\":\"43d9af84-53fb-4ae1-bae3-8ef986f47cee\",\"type\":\"BoxAnnotation\"},{\"id\":\"00bd0c0f-768d-4c6f-ba29-9806036e234d\",\"type\":\"GlyphRenderer\"}],\"title\":{\"id\":\"7a998612-4408-4163-a3c8-56520171a41c\",\"type\":\"Title\"},\"toolbar\":{\"id\":\"ef7ea525-2ecb-40c7-8632-afc08dc238cd\",\"type\":\"Toolbar\"},\"toolbar_location\":null,\"x_range\":{\"id\":\"04117bc2-972d-432d-9966-b6c9d6bcf6a3\",\"type\":\"FactorRange\"},\"x_scale\":{\"id\":\"fef21e4d-3072-4398-bb70-89fc795267a8\",\"type\":\"CategoricalScale\"},\"y_range\":{\"id\":\"46207a4c-4624-48b4-8ce6-badb3b754515\",\"type\":\"DataRange1d\"},\"y_scale\":{\"id\":\"fe0951c5-eea1-4f09-8a0a-30dcc1fd5f1d\",\"type\":\"LinearScale\"}},\"id\":\"d5711743-7293-49b7-a6bf-57393a3c0520\",\"subtype\":\"Figure\",\"type\":\"Plot\"},{\"attributes\":{\"tools\":[{\"id\":\"0a9e987a-8532-4f94-a5a0-97d7e5475414\",\"type\":\"PanTool\"},{\"id\":\"5fca34e7-1baf-4878-b927-d7a61ff7e1b7\",\"type\":\"WheelZoomTool\"},{\"id\":\"c3915f73-c447-417e-bcf2-2e41d1891cbd\",\"type\":\"BoxZoomTool\"},{\"id\":\"9a43cb32-ebd8-4f0d-bffc-596078d8c4e2\",\"type\":\"SaveTool\"},{\"id\":\"c9e62191-8468-496b-93aa-c0679f2d5651\",\"type\":\"ResetTool\"},{\"id\":\"0a0f66f4-981c-4dc5-ba8f-468f0afa4f39\",\"type\":\"HelpTool\"},{\"id\":\"f0280688-93e5-4b61-8b1c-4b24b185e4f9\",\"type\":\"PanTool\"},{\"id\":\"dc387ac0-39e2-4287-a217-b1f15af7d6a6\",\"type\":\"WheelZoomTool\"},{\"id\":\"69ea08ae-0a2d-4446-a7d5-c4701423f2d2\",\"type\":\"BoxZoomTool\"},{\"id\":\"f65cd4b5-b406-4bf4-b003-869979ab4601\",\"type\":\"SaveTool\"},{\"id\":\"caa3e380-103a-4720-b4d5-12afadaf3aee\",\"type\":\"ResetTool\"},{\"id\":\"d9daeb3a-1aef-41b4-9e70-b5750834ea89\",\"type\":\"HelpTool\"},{\"id\":\"f102cfe2-698b-4a6b-9880-5dcb84f5492f\",\"type\":\"PanTool\"},{\"id\":\"966eec39-5c6a-4527-af88-7b2d4379fa75\",\"type\":\"WheelZoomTool\"},{\"id\":\"3365c413-02c5-4a7c-9cae-bffa7d8c4421\",\"type\":\"BoxZoomTool\"},{\"id\":\"4d2b5e1a-dda9-41ef-a50c-33245d74e602\",\"type\":\"SaveTool\"},{\"id\":\"c9610179-d720-489f-97ff-749baf2fa76d\",\"type\":\"ResetTool\"},{\"id\":\"9ecf8509-35b7-41bb-b74d-636b562ec533\",\"type\":\"HelpTool\"}]},\"id\":\"913b2cf4-1ef6-417e-9717-91621ece5bf3\",\"type\":\"ProxyToolbar\"},{\"attributes\":{},\"id\":\"9a43cb32-ebd8-4f0d-bffc-596078d8c4e2\",\"type\":\"SaveTool\"},{\"attributes\":{\"callback\":null,\"factors\":[\"9\"]},\"id\":\"66943406-cfde-4a65-ab82-ad478bbd44a2\",\"type\":\"FactorRange\"},{\"attributes\":{\"axis_label\":\"spectral band\",\"formatter\":{\"id\":\"d72f496f-9281-4ae2-9357-b4e4bb9d9461\",\"type\":\"CategoricalTickFormatter\"},\"plot\":{\"id\":\"71a33ff8-ffb4-43a9-9b8d-032312aba0e8\",\"subtype\":\"Figure\",\"type\":\"Plot\"},\"ticker\":{\"id\":\"1ac55480-d7c4-4c5c-8a83-4060f592852c\",\"type\":\"CategoricalTicker\"}},\"id\":\"c51c0f90-eddc-4302-996c-c88cfeaa84b9\",\"type\":\"CategoricalAxis\"},{\"attributes\":{},\"id\":\"eb862e8d-a874-4334-83d0-d8f07b1182c1\",\"type\":\"UnionRenderers\"},{\"attributes\":{},\"id\":\"5150d64d-69ad-472e-b10c-0399b9047a3b\",\"type\":\"Selection\"},{\"attributes\":{\"fill_alpha\":{\"value\":0.1},\"fill_color\":{\"value\":\"#1f77b4\"},\"line_alpha\":{\"value\":0.1},\"line_color\":{\"value\":\"#1f77b4\"},\"top\":{\"field\":\"flux\"},\"width\":{\"value\":0.9},\"x\":{\"field\":\"band\"}},\"id\":\"b79bff91-6a0e-4ca2-8480-ea95e88d7ac9\",\"type\":\"VBar\"},{\"attributes\":{\"dimension\":1,\"plot\":{\"id\":\"71a33ff8-ffb4-43a9-9b8d-032312aba0e8\",\"subtype\":\"Figure\",\"type\":\"Plot\"},\"ticker\":{\"id\":\"e99e42ae-ee0a-425f-94a4-d7dc3171fc36\",\"type\":\"BasicTicker\"}},\"id\":\"3e5ce9cc-a686-404e-94bd-24c4824749a1\",\"type\":\"Grid\"},{\"attributes\":{},\"id\":\"0ed8fba0-5f71-487c-8331-30fc741f1ff1\",\"type\":\"CategoricalTickFormatter\"},{\"attributes\":{\"callback\":null,\"data\":{\"band\":[\"9\"],\"flux\":{\"__ndarray__\":\"AARR9QAdnb8=\",\"dtype\":\"float64\",\"shape\":[1]}},\"selected\":{\"id\":\"19a8003a-c3ea-4c3f-8342-e1d7cbf96633\",\"type\":\"Selection\"},\"selection_policy\":{\"id\":\"1198c867-4bac-41a1-8554-35a62f3143c5\",\"type\":\"UnionRenderers\"}},\"id\":\"181f49b1-d72a-46ad-8e5c-af56ef76614d\",\"type\":\"ColumnDataSource\"},{\"attributes\":{},\"id\":\"c9e62191-8468-496b-93aa-c0679f2d5651\",\"type\":\"ResetTool\"},{\"attributes\":{},\"id\":\"44249306-6980-4250-ab7e-fd198921090a\",\"type\":\"BasicTickFormatter\"},{\"attributes\":{\"overlay\":{\"id\":\"47423d51-10a1-4a99-9340-768e476c9ba7\",\"type\":\"BoxAnnotation\"}},\"id\":\"c3915f73-c447-417e-bcf2-2e41d1891cbd\",\"type\":\"BoxZoomTool\"},{\"attributes\":{},\"id\":\"5fca34e7-1baf-4878-b927-d7a61ff7e1b7\",\"type\":\"WheelZoomTool\"},{\"attributes\":{\"toolbar\":{\"id\":\"913b2cf4-1ef6-417e-9717-91621ece5bf3\",\"type\":\"ProxyToolbar\"},\"toolbar_location\":\"above\"},\"id\":\"da2c3a61-00e4-476a-9cba-5b613bfa5199\",\"type\":\"ToolbarBox\"},{\"attributes\":{},\"id\":\"0a0f66f4-981c-4dc5-ba8f-468f0afa4f39\",\"type\":\"HelpTool\"},{\"attributes\":{},\"id\":\"6de0824f-e58f-4cf0-b062-85de64b73434\",\"type\":\"Selection\"},{\"attributes\":{\"source\":{\"id\":\"181f49b1-d72a-46ad-8e5c-af56ef76614d\",\"type\":\"ColumnDataSource\"}},\"id\":\"43a2af0b-452d-4811-b8c3-c6fb80cba0c1\",\"type\":\"CDSView\"},{\"attributes\":{\"callback\":null,\"data\":{\"band\":[\"9\"],\"flux\":{\"__ndarray__\":\"APlqfGPeyT8=\",\"dtype\":\"float64\",\"shape\":[1]}},\"selected\":{\"id\":\"5150d64d-69ad-472e-b10c-0399b9047a3b\",\"type\":\"Selection\"},\"selection_policy\":{\"id\":\"eb862e8d-a874-4334-83d0-d8f07b1182c1\",\"type\":\"UnionRenderers\"}},\"id\":\"ce146d28-6adf-44c9-a0bf-147ab66a2abd\",\"type\":\"ColumnDataSource\"},{\"attributes\":{\"source\":{\"id\":\"caaef394-5f45-4dc4-922a-ce72b419374d\",\"type\":\"ColumnDataSource\"}},\"id\":\"26239f8b-791e-4467-b34c-b65b1ecb314b\",\"type\":\"CDSView\"}],\"root_ids\":[\"263f3eec-ac7f-4ead-8f9a-18c2cfd28353\"]},\"title\":\"Bokeh Application\",\"version\":\"0.12.16\"}};\n",
       "  var render_items = [{\"docid\":\"62561f6e-c84b-4987-8e6b-d11a5a22acff\",\"elementid\":\"334b0fa8-86f4-4932-941e-94cd42930a93\",\"modelid\":\"263f3eec-ac7f-4ead-8f9a-18c2cfd28353\"}];\n",
       "  root.Bokeh.embed.embed_items_notebook(docs_json, render_items);\n",
       "\n",
       "  }\n",
       "  if (root.Bokeh !== undefined) {\n",
       "    embed_document(root);\n",
       "  } else {\n",
       "    var attempts = 0;\n",
       "    var timer = setInterval(function(root) {\n",
       "      if (root.Bokeh !== undefined) {\n",
       "        embed_document(root);\n",
       "        clearInterval(timer);\n",
       "      }\n",
       "      attempts++;\n",
       "      if (attempts > 100) {\n",
       "        console.log(\"Bokeh: ERROR: Unable to run BokehJS code because BokehJS library is missing\")\n",
       "        clearInterval(timer);\n",
       "      }\n",
       "    }, 10, root)\n",
       "  }\n",
       "})(window);"
      ],
      "application/vnd.bokehjs_exec.v0+json": ""
     },
     "metadata": {
      "application/vnd.bokehjs_exec.v0+json": {
       "id": "263f3eec-ac7f-4ead-8f9a-18c2cfd28353"
      }
     },
     "output_type": "display_data"
    },
    {
     "data": {
      "text/markdown": [
       "*FIGURE.* Difference between CLIRAD and CRD in TOA, SFC and net atmosphere flux, in each spectral band."
      ],
      "text/plain": [
       "<IPython.core.display.Markdown object>"
      ]
     },
     "metadata": {},
     "output_type": "display_data"
    },
    {
     "data": {
      "text/html": [
       "<div>\n",
       "<style scoped>\n",
       "    .dataframe tbody tr th:only-of-type {\n",
       "        vertical-align: middle;\n",
       "    }\n",
       "\n",
       "    .dataframe tbody tr th {\n",
       "        vertical-align: top;\n",
       "    }\n",
       "\n",
       "    .dataframe thead th {\n",
       "        text-align: right;\n",
       "    }\n",
       "</style>\n",
       "<table border=\"1\" class=\"dataframe\">\n",
       "  <thead>\n",
       "    <tr style=\"text-align: right;\">\n",
       "      <th></th>\n",
       "      <th>OLR flux</th>\n",
       "      <th>SFC flux</th>\n",
       "      <th>ATM heating</th>\n",
       "    </tr>\n",
       "    <tr>\n",
       "      <th>Sum over bands</th>\n",
       "      <th></th>\n",
       "      <th></th>\n",
       "      <th></th>\n",
       "    </tr>\n",
       "  </thead>\n",
       "  <tbody>\n",
       "    <tr>\n",
       "      <th>CLIRAD - CRD</th>\n",
       "      <td>-0.03</td>\n",
       "      <td>-0.23</td>\n",
       "      <td>0.20</td>\n",
       "    </tr>\n",
       "    <tr>\n",
       "      <th>CRD</th>\n",
       "      <td>-19.27</td>\n",
       "      <td>6.12</td>\n",
       "      <td>-1.64</td>\n",
       "    </tr>\n",
       "  </tbody>\n",
       "</table>\n",
       "</div>"
      ],
      "text/plain": [
       "                OLR flux  SFC flux  ATM heating\n",
       "Sum over bands                                 \n",
       "CLIRAD - CRD       -0.03     -0.23         0.20\n",
       "CRD               -19.27      6.12        -1.64"
      ]
     },
     "metadata": {},
     "output_type": "display_data"
    },
    {
     "data": {
      "text/markdown": [
       "*TABLE.* Difference between CLIRAD and CRD in TOA, SFC and net atmosphere flux, over all spectral bands. CRD's TOA, SFC and net atmosphere flux, over all spectral bands."
      ],
      "text/plain": [
       "<IPython.core.display.Markdown object>"
      ]
     },
     "metadata": {},
     "output_type": "display_data"
    },
    {
     "data": {
      "text/html": [
       "<a id=\"Parameters_of_runs._saw\"></a>"
      ],
      "text/plain": [
       "<IPython.core.display.HTML object>"
      ]
     },
     "metadata": {},
     "output_type": "display_data"
    },
    {
     "data": {
      "text/markdown": [
       "# Parameters of runs. saw"
      ],
      "text/plain": [
       "<IPython.core.display.Markdown object>"
      ]
     },
     "metadata": {},
     "output_type": "display_data"
    },
    {
     "data": {
      "text/html": [
       "<div>\n",
       "<style scoped>\n",
       "    .dataframe tbody tr th:only-of-type {\n",
       "        vertical-align: middle;\n",
       "    }\n",
       "\n",
       "    .dataframe tbody tr th {\n",
       "        vertical-align: top;\n",
       "    }\n",
       "\n",
       "    .dataframe thead tr th {\n",
       "        text-align: left;\n",
       "    }\n",
       "</style>\n",
       "<table border=\"1\" class=\"dataframe\">\n",
       "  <thead>\n",
       "    <tr>\n",
       "      <th></th>\n",
       "      <th>clirad-lw</th>\n",
       "      <th>lblnew-bestfit lw</th>\n",
       "    </tr>\n",
       "    <tr>\n",
       "      <th></th>\n",
       "      <th>:D</th>\n",
       "      <th>band7 ch4</th>\n",
       "    </tr>\n",
       "  </thead>\n",
       "  <tbody>\n",
       "    <tr>\n",
       "      <th>atmpro</th>\n",
       "      <td>saw</td>\n",
       "      <td>saw</td>\n",
       "    </tr>\n",
       "    <tr>\n",
       "      <th>band</th>\n",
       "      <td>[9]</td>\n",
       "      <td>7</td>\n",
       "    </tr>\n",
       "    <tr>\n",
       "      <th>commitnumber</th>\n",
       "      <td>1013f91</td>\n",
       "      <td>5014a19</td>\n",
       "    </tr>\n",
       "    <tr>\n",
       "      <th>conc</th>\n",
       "      <td>-</td>\n",
       "      <td>1.8e-06</td>\n",
       "    </tr>\n",
       "    <tr>\n",
       "      <th>dv</th>\n",
       "      <td>-</td>\n",
       "      <td>0.001</td>\n",
       "    </tr>\n",
       "    <tr>\n",
       "      <th>klin</th>\n",
       "      <td>-</td>\n",
       "      <td>2e-21</td>\n",
       "    </tr>\n",
       "    <tr>\n",
       "      <th>molecule</th>\n",
       "      <td>{'ch4': 1.8e-06}</td>\n",
       "      <td>ch4</td>\n",
       "    </tr>\n",
       "    <tr>\n",
       "      <th>ng_adju</th>\n",
       "      <td>-</td>\n",
       "      <td>[0, 0]</td>\n",
       "    </tr>\n",
       "    <tr>\n",
       "      <th>ng_refs</th>\n",
       "      <td>-</td>\n",
       "      <td>[2, 3]</td>\n",
       "    </tr>\n",
       "    <tr>\n",
       "      <th>nv</th>\n",
       "      <td>-</td>\n",
       "      <td>1000</td>\n",
       "    </tr>\n",
       "    <tr>\n",
       "      <th>option_compute_btable</th>\n",
       "      <td>-</td>\n",
       "      <td>0</td>\n",
       "    </tr>\n",
       "    <tr>\n",
       "      <th>option_compute_ktable</th>\n",
       "      <td>-</td>\n",
       "      <td>0</td>\n",
       "    </tr>\n",
       "    <tr>\n",
       "      <th>option_wgt_flux</th>\n",
       "      <td>-</td>\n",
       "      <td>1</td>\n",
       "    </tr>\n",
       "    <tr>\n",
       "      <th>option_wgt_k</th>\n",
       "      <td>-</td>\n",
       "      <td>1</td>\n",
       "    </tr>\n",
       "    <tr>\n",
       "      <th>ref_pts</th>\n",
       "      <td>-</td>\n",
       "      <td>[[1, 250], [500, 250]]</td>\n",
       "    </tr>\n",
       "    <tr>\n",
       "      <th>tsfc</th>\n",
       "      <td>257</td>\n",
       "      <td>257</td>\n",
       "    </tr>\n",
       "    <tr>\n",
       "      <th>vmax</th>\n",
       "      <td>-</td>\n",
       "      <td>1380</td>\n",
       "    </tr>\n",
       "    <tr>\n",
       "      <th>vmin</th>\n",
       "      <td>-</td>\n",
       "      <td>1215</td>\n",
       "    </tr>\n",
       "    <tr>\n",
       "      <th>w_diffuse</th>\n",
       "      <td>-</td>\n",
       "      <td>[[1.66, 1.66], [1.66, 1.66, 1.66]]</td>\n",
       "    </tr>\n",
       "    <tr>\n",
       "      <th>wgt</th>\n",
       "      <td>-</td>\n",
       "      <td>[[0.7, 0.7], [0.4, 0.6, 0.75]]</td>\n",
       "    </tr>\n",
       "  </tbody>\n",
       "</table>\n",
       "</div>"
      ],
      "text/plain": [
       "                              clirad-lw                   lblnew-bestfit lw\n",
       "                                     :D                           band7 ch4\n",
       "atmpro                              saw                                 saw\n",
       "band                                [9]                                   7\n",
       "commitnumber                    1013f91                             5014a19\n",
       "conc                                  -                             1.8e-06\n",
       "dv                                    -                               0.001\n",
       "klin                                  -                               2e-21\n",
       "molecule               {'ch4': 1.8e-06}                                 ch4\n",
       "ng_adju                               -                              [0, 0]\n",
       "ng_refs                               -                              [2, 3]\n",
       "nv                                    -                                1000\n",
       "option_compute_btable                 -                                   0\n",
       "option_compute_ktable                 -                                   0\n",
       "option_wgt_flux                       -                                   1\n",
       "option_wgt_k                          -                                   1\n",
       "ref_pts                               -              [[1, 250], [500, 250]]\n",
       "tsfc                                257                                 257\n",
       "vmax                                  -                                1380\n",
       "vmin                                  -                                1215\n",
       "w_diffuse                             -  [[1.66, 1.66], [1.66, 1.66, 1.66]]\n",
       "wgt                                   -      [[0.7, 0.7], [0.4, 0.6, 0.75]]"
      ]
     },
     "metadata": {},
     "output_type": "display_data"
    },
    {
     "data": {
      "text/html": [
       "<a id=\"Cooling_rates._saw.\"></a>"
      ],
      "text/plain": [
       "<IPython.core.display.HTML object>"
      ]
     },
     "metadata": {},
     "output_type": "display_data"
    },
    {
     "data": {
      "text/markdown": [
       "# Cooling rates. saw."
      ],
      "text/plain": [
       "<IPython.core.display.Markdown object>"
      ]
     },
     "metadata": {},
     "output_type": "display_data"
    },
    {
     "data": {
      "text/html": [
       "\n",
       "<div class=\"bk-root\">\n",
       "    <div class=\"bk-plotdiv\" id=\"055fa39a-61f2-4ca9-a8ed-bc9bc6b974ff\"></div>\n",
       "</div>"
      ]
     },
     "metadata": {},
     "output_type": "display_data"
    },
    {
     "data": {
      "application/javascript": [
       "(function(root) {\n",
       "  function embed_document(root) {\n",
       "    \n",
       "  var docs_json = {\"384a2312-61c5-4151-942b-d39b978f4821\":{\"roots\":{\"references\":[{\"attributes\":{\"bottom_units\":\"screen\",\"fill_alpha\":{\"value\":0.5},\"fill_color\":{\"value\":\"lightgrey\"},\"left_units\":\"screen\",\"level\":\"overlay\",\"line_alpha\":{\"value\":1.0},\"line_color\":{\"value\":\"black\"},\"line_dash\":[4,4],\"line_width\":{\"value\":2},\"plot\":null,\"render_mode\":\"css\",\"right_units\":\"screen\",\"top_units\":\"screen\"},\"id\":\"94652e2d-d1de-4d5a-be76-9df519262589\",\"type\":\"BoxAnnotation\"},{\"attributes\":{\"line_color\":\"#4daf4a\",\"line_width\":1.5,\"x\":{\"field\":\"x\"},\"y\":{\"field\":\"y\"}},\"id\":\"74544f04-ee33-442d-b871-0f3fc8519352\",\"type\":\"Line\"},{\"attributes\":{\"line_alpha\":0.1,\"line_color\":\"#1f77b4\",\"line_width\":1.5,\"x\":{\"field\":\"x\"},\"y\":{\"field\":\"y\"}},\"id\":\"70ee46d1-db2b-4f17-a5ec-eb2302add04a\",\"type\":\"Line\"},{\"attributes\":{\"data_source\":{\"id\":\"def12c43-216e-444b-85a6-47c1acac2086\",\"type\":\"ColumnDataSource\"},\"glyph\":{\"id\":\"74544f04-ee33-442d-b871-0f3fc8519352\",\"type\":\"Line\"},\"hover_glyph\":null,\"muted_glyph\":null,\"nonselection_glyph\":{\"id\":\"70ee46d1-db2b-4f17-a5ec-eb2302add04a\",\"type\":\"Line\"},\"selection_glyph\":null,\"view\":{\"id\":\"5f8603f6-2b21-4591-b5c9-e06c856d9e41\",\"type\":\"CDSView\"}},\"id\":\"1c385eb6-88ca-49b9-a29b-7b14dff8f084\",\"type\":\"GlyphRenderer\"},{\"attributes\":{\"source\":{\"id\":\"def12c43-216e-444b-85a6-47c1acac2086\",\"type\":\"ColumnDataSource\"}},\"id\":\"5f8603f6-2b21-4591-b5c9-e06c856d9e41\",\"type\":\"CDSView\"},{\"attributes\":{},\"id\":\"32165e41-84c0-4021-8687-def808c05bb3\",\"type\":\"PanTool\"},{\"attributes\":{\"callback\":null,\"end\":0.016910308565349995,\"start\":-0.025866474930349978},\"id\":\"2116a19c-c2c3-44ad-a5dc-d578da2c2de4\",\"type\":\"Range1d\"},{\"attributes\":{},\"id\":\"33434b47-9462-419a-a13e-f8c9be0eda20\",\"type\":\"WheelZoomTool\"},{\"attributes\":{\"overlay\":{\"id\":\"94652e2d-d1de-4d5a-be76-9df519262589\",\"type\":\"BoxAnnotation\"}},\"id\":\"a7b365b1-1e3d-408e-93a3-50fd117ffae8\",\"type\":\"BoxZoomTool\"},{\"attributes\":{},\"id\":\"2ba9011f-b811-4e08-8dd4-a4cf7725bcb2\",\"type\":\"SaveTool\"},{\"attributes\":{},\"id\":\"65ac138b-6cce-41b8-9e21-eb64628bb433\",\"type\":\"ResetTool\"},{\"attributes\":{},\"id\":\"4146d157-4b33-4b2f-bddd-9ceeff490f38\",\"type\":\"HelpTool\"},{\"attributes\":{\"axis_label\":\"cooling rate [K/day]\",\"formatter\":{\"id\":\"b1d5c25d-f155-40e9-8ed4-2c625592eef0\",\"type\":\"BasicTickFormatter\"},\"plot\":{\"id\":\"5f71ec2f-451a-4f85-8efb-f590501bf65b\",\"subtype\":\"Figure\",\"type\":\"Plot\"},\"ticker\":{\"id\":\"6ad7d5dd-ace1-4a7d-8e99-0ea439629214\",\"type\":\"BasicTicker\"}},\"id\":\"16b6bb32-7bbe-497c-8a72-d7ecaf0717ae\",\"type\":\"LinearAxis\"},{\"attributes\":{\"callback\":null,\"end\":0.0399409268286,\"start\":-0.0168875539686},\"id\":\"96099c01-0c75-47fc-91f6-f3b30984da3d\",\"type\":\"Range1d\"},{\"attributes\":{\"items\":[{\"id\":\"491d68bb-3648-40ce-a0dd-3d8e88effbb9\",\"type\":\"LegendItem\"}],\"label_text_font_size\":{\"value\":\"8pt\"},\"location\":\"top_center\",\"orientation\":\"horizontal\",\"plot\":{\"id\":\"f0a9bac9-7b60-4353-b077-02afcce1b4ef\",\"subtype\":\"Figure\",\"type\":\"Plot\"}},\"id\":\"0e183ab6-3815-42cd-8497-2d9ea04b932a\",\"type\":\"Legend\"},{\"attributes\":{},\"id\":\"0c00190a-8f76-44f3-9958-6ecb0a53e3f4\",\"type\":\"LinearScale\"},{\"attributes\":{\"active_drag\":\"auto\",\"active_inspect\":\"auto\",\"active_scroll\":\"auto\",\"active_tap\":\"auto\",\"tools\":[{\"id\":\"19a3ad3b-66ee-4599-870c-5e33a1ee7714\",\"type\":\"PanTool\"},{\"id\":\"04db6048-b9aa-4952-bb61-89f4b47812ed\",\"type\":\"WheelZoomTool\"},{\"id\":\"76e29a2f-48b7-401b-9f39-8653c4eea4c0\",\"type\":\"BoxZoomTool\"},{\"id\":\"9548d0a2-4356-4d5a-8ab1-4424d023b730\",\"type\":\"SaveTool\"},{\"id\":\"fcfca7d6-8c85-4116-ae3e-b0c8aad95177\",\"type\":\"ResetTool\"},{\"id\":\"d000af9c-3cfd-440f-aec8-2397ad911f6a\",\"type\":\"HelpTool\"}]},\"id\":\"c42225dc-d4ba-4669-b678-4834c393c683\",\"type\":\"Toolbar\"},{\"attributes\":{\"fill_alpha\":{\"value\":0.1},\"fill_color\":{\"value\":\"#1f77b4\"},\"line_alpha\":{\"value\":0.1},\"line_color\":{\"value\":\"#1f77b4\"},\"x\":{\"field\":\"x\"},\"y\":{\"field\":\"y\"}},\"id\":\"7c35db33-bce3-40d1-847f-14e7a2cfe341\",\"type\":\"Circle\"},{\"attributes\":{\"children\":[{\"id\":\"18b2577b-8aa8-41a6-bbda-0284e2fa72bb\",\"type\":\"Row\"}]},\"id\":\"6cc20eae-3f77-4eb8-97b0-ffac56c24781\",\"type\":\"Column\"},{\"attributes\":{\"above\":[{\"id\":\"eb69154e-453d-47ca-bf6f-2b407d5bc617\",\"type\":\"Legend\"}],\"below\":[{\"id\":\"16b6bb32-7bbe-497c-8a72-d7ecaf0717ae\",\"type\":\"LinearAxis\"}],\"left\":[{\"id\":\"f0e06ab4-e548-4a91-9fba-6bc7e5107a50\",\"type\":\"LinearAxis\"}],\"plot_width\":300,\"renderers\":[{\"id\":\"16b6bb32-7bbe-497c-8a72-d7ecaf0717ae\",\"type\":\"LinearAxis\"},{\"id\":\"d23050bc-dd0d-4a0a-8839-41d8991e95dd\",\"type\":\"Grid\"},{\"id\":\"f0e06ab4-e548-4a91-9fba-6bc7e5107a50\",\"type\":\"LinearAxis\"},{\"id\":\"001609ec-76c1-4ab0-916a-1fac9654ec62\",\"type\":\"Grid\"},{\"id\":\"575ce975-c885-4553-a94b-0693f946a308\",\"type\":\"BoxAnnotation\"},{\"id\":\"376d363a-6706-477c-989d-bbb775161d39\",\"type\":\"GlyphRenderer\"},{\"id\":\"fff393cc-6004-46ee-9f40-f94db71ee865\",\"type\":\"GlyphRenderer\"},{\"id\":\"1c385eb6-88ca-49b9-a29b-7b14dff8f084\",\"type\":\"GlyphRenderer\"},{\"id\":\"eb69154e-453d-47ca-bf6f-2b407d5bc617\",\"type\":\"Legend\"}],\"title\":{\"id\":\"c43f279f-dec0-43c7-a48b-961fb26f64ce\",\"type\":\"Title\"},\"toolbar\":{\"id\":\"c42225dc-d4ba-4669-b678-4834c393c683\",\"type\":\"Toolbar\"},\"toolbar_location\":null,\"x_range\":{\"id\":\"96099c01-0c75-47fc-91f6-f3b30984da3d\",\"type\":\"Range1d\"},\"x_scale\":{\"id\":\"b6e752a2-8826-44b2-b6bd-4a891dc534bb\",\"type\":\"LinearScale\"},\"y_range\":{\"id\":\"062262cd-a453-41c2-9dba-16df4d52045e\",\"type\":\"Range1d\"},\"y_scale\":{\"id\":\"0c00190a-8f76-44f3-9958-6ecb0a53e3f4\",\"type\":\"LinearScale\"}},\"id\":\"5f71ec2f-451a-4f85-8efb-f590501bf65b\",\"subtype\":\"Figure\",\"type\":\"Plot\"},{\"attributes\":{},\"id\":\"b6e752a2-8826-44b2-b6bd-4a891dc534bb\",\"type\":\"LinearScale\"},{\"attributes\":{\"callback\":null,\"end\":0.01,\"start\":1020},\"id\":\"062262cd-a453-41c2-9dba-16df4d52045e\",\"type\":\"Range1d\"},{\"attributes\":{\"callback\":null,\"end\":0.21993316246780004,\"start\":-0.0049255343678},\"id\":\"7dfb95f7-3929-436c-bc94-ca29f7fe65b1\",\"type\":\"Range1d\"},{\"attributes\":{\"line_alpha\":0.1,\"line_color\":\"#1f77b4\",\"line_dash\":[6],\"line_width\":5,\"x\":{\"field\":\"x\"},\"y\":{\"field\":\"y\"}},\"id\":\"d6bab3c7-d68e-4eba-8445-c361b98d228b\",\"type\":\"Line\"},{\"attributes\":{},\"id\":\"6ad7d5dd-ace1-4a7d-8e99-0ea439629214\",\"type\":\"BasicTicker\"},{\"attributes\":{\"data_source\":{\"id\":\"cac88324-be10-42b1-b0f1-2606608b69f2\",\"type\":\"ColumnDataSource\"},\"glyph\":{\"id\":\"cfb6e9f4-6bed-401f-8554-2d92d79e66d4\",\"type\":\"Line\"},\"hover_glyph\":null,\"muted_glyph\":null,\"nonselection_glyph\":{\"id\":\"d6bab3c7-d68e-4eba-8445-c361b98d228b\",\"type\":\"Line\"},\"selection_glyph\":null,\"view\":{\"id\":\"6afb22c5-3ec4-495d-9deb-250e8b113256\",\"type\":\"CDSView\"}},\"id\":\"94b0c9ec-e704-4f0a-a3d1-241a22ae892a\",\"type\":\"GlyphRenderer\"},{\"attributes\":{\"plot\":{\"id\":\"5f71ec2f-451a-4f85-8efb-f590501bf65b\",\"subtype\":\"Figure\",\"type\":\"Plot\"},\"ticker\":{\"id\":\"6ad7d5dd-ace1-4a7d-8e99-0ea439629214\",\"type\":\"BasicTicker\"}},\"id\":\"d23050bc-dd0d-4a0a-8839-41d8991e95dd\",\"type\":\"Grid\"},{\"attributes\":{\"data_source\":{\"id\":\"5c8533b6-10b5-4ea2-9184-412378692c77\",\"type\":\"ColumnDataSource\"},\"glyph\":{\"id\":\"0f50edae-49b3-49db-b43f-075430c6e441\",\"type\":\"Circle\"},\"hover_glyph\":null,\"muted_glyph\":null,\"nonselection_glyph\":{\"id\":\"7c35db33-bce3-40d1-847f-14e7a2cfe341\",\"type\":\"Circle\"},\"selection_glyph\":null,\"view\":{\"id\":\"cebc4f30-2223-4f86-bc03-94fd2633892e\",\"type\":\"CDSView\"}},\"id\":\"3a286e07-dad3-42ad-99af-eb2de7a0ae8e\",\"type\":\"GlyphRenderer\"},{\"attributes\":{\"plot\":{\"id\":\"3e5b4cdf-6bd8-4245-874c-b17ef54a3a49\",\"subtype\":\"Figure\",\"type\":\"Plot\"},\"ticker\":{\"id\":\"5a9accc1-0be6-4b90-adce-a2cebafdf733\",\"type\":\"BasicTicker\"}},\"id\":\"9ad5e60c-b753-4231-b08b-5624615cebb7\",\"type\":\"Grid\"},{\"attributes\":{\"fill_alpha\":{\"value\":0.7},\"fill_color\":{\"value\":\"#4daf4a\"},\"line_alpha\":{\"value\":0.7},\"line_color\":{\"value\":\"#4daf4a\"},\"x\":{\"field\":\"x\"},\"y\":{\"field\":\"y\"}},\"id\":\"0f50edae-49b3-49db-b43f-075430c6e441\",\"type\":\"Circle\"},{\"attributes\":{\"line_alpha\":0.1,\"line_color\":\"#1f77b4\",\"line_width\":1.5,\"x\":{\"field\":\"x\"},\"y\":{\"field\":\"y\"}},\"id\":\"6edb6dc1-fa90-4543-b93f-9220fd9b61d6\",\"type\":\"Line\"},{\"attributes\":{\"active_drag\":\"auto\",\"active_inspect\":\"auto\",\"active_scroll\":\"auto\",\"active_tap\":\"auto\",\"tools\":[{\"id\":\"f468daae-ba9f-49fd-9f5c-1a628129346f\",\"type\":\"PanTool\"},{\"id\":\"439f3340-bee3-4d4a-b2d2-d30fbb3af138\",\"type\":\"WheelZoomTool\"},{\"id\":\"15bdf9f2-6d2a-47ad-9a0c-66bd4cb71326\",\"type\":\"BoxZoomTool\"},{\"id\":\"bbbff105-0619-401e-ba68-d0abac071f7a\",\"type\":\"SaveTool\"},{\"id\":\"4ab00743-0578-47dd-b23e-b825a7e46bea\",\"type\":\"ResetTool\"},{\"id\":\"57547bc5-da4e-471f-82f4-fe3b6a0cad68\",\"type\":\"HelpTool\"}]},\"id\":\"de1bd667-2eaa-45be-b8fa-256c4180f925\",\"type\":\"Toolbar\"},{\"attributes\":{\"data_source\":{\"id\":\"3ff0aba1-2b74-459c-ae1d-7b8fc669acec\",\"type\":\"ColumnDataSource\"},\"glyph\":{\"id\":\"fd21aa10-b1c2-4c31-b933-b75b5735eb9a\",\"type\":\"Line\"},\"hover_glyph\":null,\"muted_glyph\":null,\"nonselection_glyph\":{\"id\":\"6edb6dc1-fa90-4543-b93f-9220fd9b61d6\",\"type\":\"Line\"},\"selection_glyph\":null,\"view\":{\"id\":\"ec95fc8e-4fcf-4d82-86bb-235b72f50cf5\",\"type\":\"CDSView\"}},\"id\":\"58cbab79-51fc-4a6c-8e79-b4bb035d9c6b\",\"type\":\"GlyphRenderer\"},{\"attributes\":{},\"id\":\"a3260809-54b4-4ebe-be49-45951aa624ab\",\"type\":\"LogScale\"},{\"attributes\":{\"source\":{\"id\":\"3ff0aba1-2b74-459c-ae1d-7b8fc669acec\",\"type\":\"ColumnDataSource\"}},\"id\":\"ec95fc8e-4fcf-4d82-86bb-235b72f50cf5\",\"type\":\"CDSView\"},{\"attributes\":{\"axis_label\":\"cooling rate [K/day]\",\"formatter\":{\"id\":\"a90a6a91-8ea1-405b-bdf0-e4853ef6a744\",\"type\":\"BasicTickFormatter\"},\"plot\":{\"id\":\"3e5b4cdf-6bd8-4245-874c-b17ef54a3a49\",\"subtype\":\"Figure\",\"type\":\"Plot\"},\"ticker\":{\"id\":\"5a9accc1-0be6-4b90-adce-a2cebafdf733\",\"type\":\"BasicTicker\"}},\"id\":\"1eb55db5-0afe-44dc-a38c-0b03b5e5b126\",\"type\":\"LinearAxis\"},{\"attributes\":{\"callback\":null,\"data\":{\"x\":{\"__ndarray__\":\"z6RPc48Hqb801DSdltqmvyDnjvjPGaK/hWWMCl+smb9hEoGIF12Mv6zhVa/lrlq//FnMwtrXhz9qff2TkKiaP+b8NQaISqU/UNU/BXfhrT/3LRzqsY6zP7IMkvOogLg/0EmOO+7CvT+kAIIZZU7BP3eSYcx7KMM/ADfDYr2zxD8gXn0QxDXGP6ie1vqMrsc/r8bUeaMeyT/GLfAXU4/KPxy3u2yI3ss/ww5VV554yT8s4iEtfsnCP6HH/OAbqrg/USGabfhWrj/YquOhBCqhP7cI68oKAJE/vBd+JtSBgD+UnU5ASpp3P+uFDeIrxHQ/cJqBCm+kcD/gKV4RbsVlP8SJQE70g2M/mbgEVMpLaz9Zta1uF61vPwoiWWtCOHA/dLOzOMDkbT/sSlAX1vtjP3eGSoo0MUc/PhNXD7nBT79pKl7MbUpmv9XzJjVIAnO/EkEOJhsRfL/T5ZhHv52DvxG6JdliZIq/5vJK3ZLCjb+NgoxnmcCKv0J8VmuZjYW/4V2lZRfOgL8sIasoIGh4v/vwePulEm6/nFnxM+cjVb8j+4uSoMRTPz8OU1F+T28/5jPbLb7Mej+YX1FAhR6DP1d4Rwpy44g/pmjkBqmVjj/hIjhACAqSP2JK+7BGopQ/sj9Ij9EMlz+t5n56jkuZPwc8T6M7aJs/LtWRdM5znT8jNlxXpIKfP1VzIdHf06A/bwV/+ib1oT8wFnRaZxSjP9rfeU3k86M/+cvuhxwqpD+/YMfrg3CjP174WYuZ8aE/X1aeGicUoD/Uef5wYDqcP0tPXX0XLpg/\",\"dtype\":\"float64\",\"shape\":[75]},\"y\":{\"__ndarray__\":\"GhExyth1ND/Sv8nbtpRIP2vylNV0PVE/aTum7souWD/At0SJ8fVgPw3Iuahxymc/MSNhhJWvcD/bTfBN02d3P2zb5nxnaoA/CD5h5MAGhz8NmeH1TyaQP+zrCsc9p5Y/LbKd76fGnz/bLW5ISEmmPww9YvTcQq8/JV2OstnstT8Er5Y7M8G+P0c+r3jqkcU/5h99k6ZBzj88bCIzFzjVP4enV8oyxN0//yH99nXg5D8qOpLLf0jtP5kqGJXUifQ/c9cS8kHP/D+/DpwzojQEQIEmwoanVwxA4lgXt9HgE0BSSZ2AJuIbQAMJih9jjiNA5q4l5INuK0AwTKYKRj0zQNv5fmq8/DpAaCJseHrtQkB/+zpwzoxKQM3MzMzMeFJAZmZmZmZqWEAAAAAAAFxeQM3MzMzMJmJAmpmZmZkfZUBmZmZmZhhoQDMzMzMzEWtAAAAAAAAKbkBmZmZmZoFwQM3MzMzM/XFAMzMzMzN6c0CamZmZmfZ0QAAAAAAAc3ZAZmZmZmbvd0DNzMzMzGt5QDMzMzMz6HpAmpmZmZlkfEAAAAAAAOF9QGZmZmZmXX9AZmZmZuZsgECamZmZGSuBQM3MzMxM6YFAAAAAAICngkAzMzMzs2WDQGZmZmbmI4RAmpmZmRnihEDNzMzMTKCFQAAAAACAXoZAMzMzM7Mch0BmZmZm5tqHQJqZmZkZmYhAzczMzExXiUAAAAAAgBWKQDMzMzOz04pAZmZmZuaRi0CamZmZGVCMQM3MzMxMDo1AAAAAAIDMjUAzMzMzs4qOQGZmZmbmSI9A\",\"dtype\":\"float64\",\"shape\":[75]}},\"selected\":{\"id\":\"bbd7c6bd-f7dc-4f0a-bb70-f5a649bd9f08\",\"type\":\"Selection\"},\"selection_policy\":{\"id\":\"1cedafa1-a2b3-46ce-9ca8-6b2116fae773\",\"type\":\"UnionRenderers\"}},\"id\":\"5c8533b6-10b5-4ea2-9184-412378692c77\",\"type\":\"ColumnDataSource\"},{\"attributes\":{},\"id\":\"3a3b49bc-1521-49be-afc5-3f241feb22a5\",\"type\":\"LinearScale\"},{\"attributes\":{\"callback\":null,\"data\":{\"x\":{\"__ndarray__\":\"z6RPc48Hqb801DSdltqmvyDnjvjPGaK/hWWMCl+smb9hEoGIF12Mv6zhVa/lrlq//FnMwtrXhz9qff2TkKiaP+b8NQaISqU/UNU/BXfhrT/3LRzqsY6zP7IMkvOogLg/0EmOO+7CvT+kAIIZZU7BP3eSYcx7KMM/ADfDYr2zxD8gXn0QxDXGP6ie1vqMrsc/r8bUeaMeyT/GLfAXU4/KPxy3u2yI3ss/ww5VV554yT8s4iEtfsnCP6HH/OAbqrg/USGabfhWrj/YquOhBCqhP7cI68oKAJE/vBd+JtSBgD+UnU5ASpp3P+uFDeIrxHQ/cJqBCm+kcD/gKV4RbsVlP8SJQE70g2M/mbgEVMpLaz9Zta1uF61vPwoiWWtCOHA/dLOzOMDkbT/sSlAX1vtjP3eGSoo0MUc/PhNXD7nBT79pKl7MbUpmv9XzJjVIAnO/EkEOJhsRfL/T5ZhHv52DvxG6JdliZIq/5vJK3ZLCjb+NgoxnmcCKv0J8VmuZjYW/4V2lZRfOgL8sIasoIGh4v/vwePulEm6/nFnxM+cjVb8j+4uSoMRTPz8OU1F+T28/5jPbLb7Mej+YX1FAhR6DP1d4Rwpy44g/pmjkBqmVjj/hIjhACAqSP2JK+7BGopQ/sj9Ij9EMlz+t5n56jkuZPwc8T6M7aJs/LtWRdM5znT8jNlxXpIKfP1VzIdHf06A/bwV/+ib1oT8wFnRaZxSjP9rfeU3k86M/+cvuhxwqpD+/YMfrg3CjP174WYuZ8aE/X1aeGicUoD/Uef5wYDqcP0tPXX0XLpg/\",\"dtype\":\"float64\",\"shape\":[75]},\"y\":{\"__ndarray__\":\"GhExyth1ND/Sv8nbtpRIP2vylNV0PVE/aTum7souWD/At0SJ8fVgPw3Iuahxymc/MSNhhJWvcD/bTfBN02d3P2zb5nxnaoA/CD5h5MAGhz8NmeH1TyaQP+zrCsc9p5Y/LbKd76fGnz/bLW5ISEmmPww9YvTcQq8/JV2OstnstT8Er5Y7M8G+P0c+r3jqkcU/5h99k6ZBzj88bCIzFzjVP4enV8oyxN0//yH99nXg5D8qOpLLf0jtP5kqGJXUifQ/c9cS8kHP/D+/DpwzojQEQIEmwoanVwxA4lgXt9HgE0BSSZ2AJuIbQAMJih9jjiNA5q4l5INuK0AwTKYKRj0zQNv5fmq8/DpAaCJseHrtQkB/+zpwzoxKQM3MzMzMeFJAZmZmZmZqWEAAAAAAAFxeQM3MzMzMJmJAmpmZmZkfZUBmZmZmZhhoQDMzMzMzEWtAAAAAAAAKbkBmZmZmZoFwQM3MzMzM/XFAMzMzMzN6c0CamZmZmfZ0QAAAAAAAc3ZAZmZmZmbvd0DNzMzMzGt5QDMzMzMz6HpAmpmZmZlkfEAAAAAAAOF9QGZmZmZmXX9AZmZmZuZsgECamZmZGSuBQM3MzMxM6YFAAAAAAICngkAzMzMzs2WDQGZmZmbmI4RAmpmZmRnihEDNzMzMTKCFQAAAAACAXoZAMzMzM7Mch0BmZmZm5tqHQJqZmZkZmYhAzczMzExXiUAAAAAAgBWKQDMzMzOz04pAZmZmZuaRi0CamZmZGVCMQM3MzMxMDo1AAAAAAIDMjUAzMzMzs4qOQGZmZmbmSI9A\",\"dtype\":\"float64\",\"shape\":[75]}},\"selected\":{\"id\":\"b064be12-f931-4deb-bde1-a43b33e79049\",\"type\":\"Selection\"},\"selection_policy\":{\"id\":\"b1c5e73f-b52b-45d9-8cea-051f685c07b1\",\"type\":\"UnionRenderers\"}},\"id\":\"3ff0aba1-2b74-459c-ae1d-7b8fc669acec\",\"type\":\"ColumnDataSource\"},{\"attributes\":{\"line_alpha\":0.6,\"line_color\":\"#e41a1c\",\"line_dash\":[6],\"line_width\":5,\"x\":{\"field\":\"x\"},\"y\":{\"field\":\"y\"}},\"id\":\"cfb6e9f4-6bed-401f-8554-2d92d79e66d4\",\"type\":\"Line\"},{\"attributes\":{\"line_color\":\"#4daf4a\",\"line_width\":1.5,\"x\":{\"field\":\"x\"},\"y\":{\"field\":\"y\"}},\"id\":\"fd21aa10-b1c2-4c31-b933-b75b5735eb9a\",\"type\":\"Line\"},{\"attributes\":{\"num_minor_ticks\":10},\"id\":\"0ed7b89f-3579-4b1f-87ce-3016116071c1\",\"type\":\"LogTicker\"},{\"attributes\":{\"source\":{\"id\":\"cac88324-be10-42b1-b0f1-2606608b69f2\",\"type\":\"ColumnDataSource\"}},\"id\":\"6afb22c5-3ec4-495d-9deb-250e8b113256\",\"type\":\"CDSView\"},{\"attributes\":{\"source\":{\"id\":\"5c8533b6-10b5-4ea2-9184-412378692c77\",\"type\":\"ColumnDataSource\"}},\"id\":\"cebc4f30-2223-4f86-bc03-94fd2633892e\",\"type\":\"CDSView\"},{\"attributes\":{\"items\":[{\"id\":\"ac334de6-01c7-4f20-b40f-cdd4e6f78587\",\"type\":\"LegendItem\"},{\"id\":\"b158c810-b706-4edf-b4db-25ad0f631491\",\"type\":\"LegendItem\"}],\"label_text_font_size\":{\"value\":\"8pt\"},\"location\":\"top_center\",\"orientation\":\"horizontal\",\"plot\":{\"id\":\"5f71ec2f-451a-4f85-8efb-f590501bf65b\",\"subtype\":\"Figure\",\"type\":\"Plot\"}},\"id\":\"eb69154e-453d-47ca-bf6f-2b407d5bc617\",\"type\":\"Legend\"},{\"attributes\":{\"dimension\":1,\"plot\":{\"id\":\"3e5b4cdf-6bd8-4245-874c-b17ef54a3a49\",\"subtype\":\"Figure\",\"type\":\"Plot\"},\"ticker\":{\"id\":\"0ed7b89f-3579-4b1f-87ce-3016116071c1\",\"type\":\"LogTicker\"}},\"id\":\"b608e08a-568e-4ee6-93fe-601ba19e0557\",\"type\":\"Grid\"},{\"attributes\":{\"data_source\":{\"id\":\"4f16c594-26ae-46a9-b678-ee52122d8263\",\"type\":\"ColumnDataSource\"},\"glyph\":{\"id\":\"ff6b08c1-1877-4280-8bf2-db4f634425e3\",\"type\":\"Line\"},\"hover_glyph\":null,\"muted_glyph\":null,\"nonselection_glyph\":{\"id\":\"67ea7b52-0066-4749-aa56-cd6b94fcdea0\",\"type\":\"Line\"},\"selection_glyph\":null,\"view\":{\"id\":\"765ccf4e-045b-49e2-acd4-732c08e6884e\",\"type\":\"CDSView\"}},\"id\":\"b681a7c4-bea0-456b-991a-d5cbd02fb57d\",\"type\":\"GlyphRenderer\"},{\"attributes\":{\"label\":{\"value\":\"CLIRAD\"},\"renderers\":[{\"id\":\"94b0c9ec-e704-4f0a-a3d1-241a22ae892a\",\"type\":\"GlyphRenderer\"}]},\"id\":\"0b06a860-e50f-456e-b913-631f90efdd9f\",\"type\":\"LegendItem\"},{\"attributes\":{\"axis_label\":\"pressure [mb]\",\"formatter\":{\"id\":\"dc9474c2-640c-4985-afe8-6d7cbc42f90a\",\"type\":\"LogTickFormatter\"},\"plot\":{\"id\":\"3e5b4cdf-6bd8-4245-874c-b17ef54a3a49\",\"subtype\":\"Figure\",\"type\":\"Plot\"},\"ticker\":{\"id\":\"0ed7b89f-3579-4b1f-87ce-3016116071c1\",\"type\":\"LogTicker\"}},\"id\":\"5aa0fa37-397b-43d0-aacb-ec489cc03516\",\"type\":\"LogAxis\"},{\"attributes\":{\"callback\":null,\"end\":0.01,\"start\":1020},\"id\":\"e35678cb-d3f3-4ce9-b345-212ee9e7284e\",\"type\":\"Range1d\"},{\"attributes\":{\"above\":[{\"id\":\"0e183ab6-3815-42cd-8497-2d9ea04b932a\",\"type\":\"Legend\"}],\"below\":[{\"id\":\"4c9154f6-a5fd-4803-beb4-fa422af6efe7\",\"type\":\"LinearAxis\"}],\"left\":[{\"id\":\"64abedbf-5418-4c3b-9471-73affe0cd568\",\"type\":\"LogAxis\"}],\"plot_width\":300,\"renderers\":[{\"id\":\"4c9154f6-a5fd-4803-beb4-fa422af6efe7\",\"type\":\"LinearAxis\"},{\"id\":\"85a1e48f-720e-46ae-b0b8-447fb215f112\",\"type\":\"Grid\"},{\"id\":\"64abedbf-5418-4c3b-9471-73affe0cd568\",\"type\":\"LogAxis\"},{\"id\":\"0bb37d0e-1064-4c79-b397-5e4caaa5fc9d\",\"type\":\"Grid\"},{\"id\":\"8082a6ab-df6a-4b74-a726-69cfcf05d109\",\"type\":\"BoxAnnotation\"},{\"id\":\"98c33824-aa46-4e3b-9717-2016c2912815\",\"type\":\"GlyphRenderer\"},{\"id\":\"b681a7c4-bea0-456b-991a-d5cbd02fb57d\",\"type\":\"GlyphRenderer\"},{\"id\":\"0e183ab6-3815-42cd-8497-2d9ea04b932a\",\"type\":\"Legend\"}],\"title\":{\"id\":\"1d0c5ddb-60d8-4287-9593-b66a9a71d81d\",\"type\":\"Title\"},\"toolbar\":{\"id\":\"de1bd667-2eaa-45be-b8fa-256c4180f925\",\"type\":\"Toolbar\"},\"toolbar_location\":null,\"x_range\":{\"id\":\"2116a19c-c2c3-44ad-a5dc-d578da2c2de4\",\"type\":\"Range1d\"},\"x_scale\":{\"id\":\"4361ffc3-d9a2-4a83-b01a-eba6ef45c477\",\"type\":\"LinearScale\"},\"y_range\":{\"id\":\"e35678cb-d3f3-4ce9-b345-212ee9e7284e\",\"type\":\"Range1d\"},\"y_scale\":{\"id\":\"9eb87262-586b-43e7-9b6a-57fbf0e413ca\",\"type\":\"LogScale\"}},\"id\":\"f0a9bac9-7b60-4353-b077-02afcce1b4ef\",\"subtype\":\"Figure\",\"type\":\"Plot\"},{\"attributes\":{\"items\":[{\"id\":\"0b06a860-e50f-456e-b913-631f90efdd9f\",\"type\":\"LegendItem\"},{\"id\":\"2de7ca09-f59f-4096-afc9-f6e80d896368\",\"type\":\"LegendItem\"}],\"label_text_font_size\":{\"value\":\"8pt\"},\"location\":\"top_center\",\"orientation\":\"horizontal\",\"plot\":{\"id\":\"3e5b4cdf-6bd8-4245-874c-b17ef54a3a49\",\"subtype\":\"Figure\",\"type\":\"Plot\"}},\"id\":\"4a089ab3-0f9a-46a5-a3da-56e83f7bbd30\",\"type\":\"Legend\"},{\"attributes\":{\"label\":{\"value\":\"CRD\"},\"renderers\":[{\"id\":\"3a286e07-dad3-42ad-99af-eb2de7a0ae8e\",\"type\":\"GlyphRenderer\"},{\"id\":\"58cbab79-51fc-4a6c-8e79-b4bb035d9c6b\",\"type\":\"GlyphRenderer\"}]},\"id\":\"2de7ca09-f59f-4096-afc9-f6e80d896368\",\"type\":\"LegendItem\"},{\"attributes\":{},\"id\":\"5a9accc1-0be6-4b90-adce-a2cebafdf733\",\"type\":\"BasicTicker\"},{\"attributes\":{},\"id\":\"82fb758b-da14-42b1-a613-dd3da7108e88\",\"type\":\"Selection\"},{\"attributes\":{},\"id\":\"9548d0a2-4356-4d5a-8ab1-4424d023b730\",\"type\":\"SaveTool\"},{\"attributes\":{\"ticker\":null},\"id\":\"12503df4-e430-46b9-9b93-9838da9e5af1\",\"type\":\"LogTickFormatter\"},{\"attributes\":{\"children\":[{\"id\":\"5f71ec2f-451a-4f85-8efb-f590501bf65b\",\"subtype\":\"Figure\",\"type\":\"Plot\"},{\"id\":\"3e5b4cdf-6bd8-4245-874c-b17ef54a3a49\",\"subtype\":\"Figure\",\"type\":\"Plot\"},{\"id\":\"f0a9bac9-7b60-4353-b077-02afcce1b4ef\",\"subtype\":\"Figure\",\"type\":\"Plot\"}]},\"id\":\"18b2577b-8aa8-41a6-bbda-0284e2fa72bb\",\"type\":\"Row\"},{\"attributes\":{},\"id\":\"1cedafa1-a2b3-46ce-9ca8-6b2116fae773\",\"type\":\"UnionRenderers\"},{\"attributes\":{},\"id\":\"bbd7c6bd-f7dc-4f0a-bb70-f5a649bd9f08\",\"type\":\"Selection\"},{\"attributes\":{},\"id\":\"fcfca7d6-8c85-4116-ae3e-b0c8aad95177\",\"type\":\"ResetTool\"},{\"attributes\":{\"plot\":null,\"text\":\"\"},\"id\":\"1d0c5ddb-60d8-4287-9593-b66a9a71d81d\",\"type\":\"Title\"},{\"attributes\":{},\"id\":\"c321af4c-0561-4554-96fa-c11f73a4cbb5\",\"type\":\"Selection\"},{\"attributes\":{},\"id\":\"28ba8063-0c69-4572-b167-ad09575fe7ff\",\"type\":\"BasicTickFormatter\"},{\"attributes\":{},\"id\":\"b1c5e73f-b52b-45d9-8cea-051f685c07b1\",\"type\":\"UnionRenderers\"},{\"attributes\":{},\"id\":\"d000af9c-3cfd-440f-aec8-2397ad911f6a\",\"type\":\"HelpTool\"},{\"attributes\":{},\"id\":\"b064be12-f931-4deb-bde1-a43b33e79049\",\"type\":\"Selection\"},{\"attributes\":{},\"id\":\"4d39b02c-f6d8-4ad7-a65d-91c9ebcab21a\",\"type\":\"UnionRenderers\"},{\"attributes\":{\"toolbar\":{\"id\":\"9efe159f-59ff-424a-9086-4a20691d2775\",\"type\":\"ProxyToolbar\"},\"toolbar_location\":\"above\"},\"id\":\"bbb218b4-f717-49eb-b212-41f8326d89b6\",\"type\":\"ToolbarBox\"},{\"attributes\":{},\"id\":\"9eb87262-586b-43e7-9b6a-57fbf0e413ca\",\"type\":\"LogScale\"},{\"attributes\":{\"tools\":[{\"id\":\"19a3ad3b-66ee-4599-870c-5e33a1ee7714\",\"type\":\"PanTool\"},{\"id\":\"04db6048-b9aa-4952-bb61-89f4b47812ed\",\"type\":\"WheelZoomTool\"},{\"id\":\"76e29a2f-48b7-401b-9f39-8653c4eea4c0\",\"type\":\"BoxZoomTool\"},{\"id\":\"9548d0a2-4356-4d5a-8ab1-4424d023b730\",\"type\":\"SaveTool\"},{\"id\":\"fcfca7d6-8c85-4116-ae3e-b0c8aad95177\",\"type\":\"ResetTool\"},{\"id\":\"d000af9c-3cfd-440f-aec8-2397ad911f6a\",\"type\":\"HelpTool\"},{\"id\":\"32165e41-84c0-4021-8687-def808c05bb3\",\"type\":\"PanTool\"},{\"id\":\"33434b47-9462-419a-a13e-f8c9be0eda20\",\"type\":\"WheelZoomTool\"},{\"id\":\"a7b365b1-1e3d-408e-93a3-50fd117ffae8\",\"type\":\"BoxZoomTool\"},{\"id\":\"2ba9011f-b811-4e08-8dd4-a4cf7725bcb2\",\"type\":\"SaveTool\"},{\"id\":\"65ac138b-6cce-41b8-9e21-eb64628bb433\",\"type\":\"ResetTool\"},{\"id\":\"4146d157-4b33-4b2f-bddd-9ceeff490f38\",\"type\":\"HelpTool\"},{\"id\":\"f468daae-ba9f-49fd-9f5c-1a628129346f\",\"type\":\"PanTool\"},{\"id\":\"439f3340-bee3-4d4a-b2d2-d30fbb3af138\",\"type\":\"WheelZoomTool\"},{\"id\":\"15bdf9f2-6d2a-47ad-9a0c-66bd4cb71326\",\"type\":\"BoxZoomTool\"},{\"id\":\"bbbff105-0619-401e-ba68-d0abac071f7a\",\"type\":\"SaveTool\"},{\"id\":\"4ab00743-0578-47dd-b23e-b825a7e46bea\",\"type\":\"ResetTool\"},{\"id\":\"57547bc5-da4e-471f-82f4-fe3b6a0cad68\",\"type\":\"HelpTool\"}]},\"id\":\"9efe159f-59ff-424a-9086-4a20691d2775\",\"type\":\"ProxyToolbar\"},{\"attributes\":{},\"id\":\"23a09311-9945-4d28-b64d-820d7b79053e\",\"type\":\"Selection\"},{\"attributes\":{},\"id\":\"19a3ad3b-66ee-4599-870c-5e33a1ee7714\",\"type\":\"PanTool\"},{\"attributes\":{\"children\":[{\"id\":\"bbb218b4-f717-49eb-b212-41f8326d89b6\",\"type\":\"ToolbarBox\"},{\"id\":\"6cc20eae-3f77-4eb8-97b0-ffac56c24781\",\"type\":\"Column\"}]},\"id\":\"47d69104-ce87-43f1-b0a7-10008678557c\",\"type\":\"Column\"},{\"attributes\":{\"axis_label\":\"pressure [mb]\",\"formatter\":{\"id\":\"bf6110a2-dfe1-4373-a82d-95db4972d951\",\"type\":\"BasicTickFormatter\"},\"plot\":{\"id\":\"5f71ec2f-451a-4f85-8efb-f590501bf65b\",\"subtype\":\"Figure\",\"type\":\"Plot\"},\"ticker\":{\"id\":\"251b1f2f-b0d3-448e-af1b-240fb9983f06\",\"type\":\"BasicTicker\"}},\"id\":\"f0e06ab4-e548-4a91-9fba-6bc7e5107a50\",\"type\":\"LinearAxis\"},{\"attributes\":{},\"id\":\"4361ffc3-d9a2-4a83-b01a-eba6ef45c477\",\"type\":\"LinearScale\"},{\"attributes\":{\"callback\":null,\"end\":0.01,\"start\":1020},\"id\":\"8ec51234-13e9-49df-b0a8-089717baea74\",\"type\":\"Range1d\"},{\"attributes\":{},\"id\":\"bf6110a2-dfe1-4373-a82d-95db4972d951\",\"type\":\"BasicTickFormatter\"},{\"attributes\":{},\"id\":\"62202d15-6de4-4862-8efe-7696f358d632\",\"type\":\"UnionRenderers\"},{\"attributes\":{\"plot\":null,\"text\":\"\"},\"id\":\"c43f279f-dec0-43c7-a48b-961fb26f64ce\",\"type\":\"Title\"},{\"attributes\":{\"active_drag\":\"auto\",\"active_inspect\":\"auto\",\"active_scroll\":\"auto\",\"active_tap\":\"auto\",\"tools\":[{\"id\":\"32165e41-84c0-4021-8687-def808c05bb3\",\"type\":\"PanTool\"},{\"id\":\"33434b47-9462-419a-a13e-f8c9be0eda20\",\"type\":\"WheelZoomTool\"},{\"id\":\"a7b365b1-1e3d-408e-93a3-50fd117ffae8\",\"type\":\"BoxZoomTool\"},{\"id\":\"2ba9011f-b811-4e08-8dd4-a4cf7725bcb2\",\"type\":\"SaveTool\"},{\"id\":\"65ac138b-6cce-41b8-9e21-eb64628bb433\",\"type\":\"ResetTool\"},{\"id\":\"4146d157-4b33-4b2f-bddd-9ceeff490f38\",\"type\":\"HelpTool\"}]},\"id\":\"635eb548-1dc5-41cf-9508-b4a43cbc59cb\",\"type\":\"Toolbar\"},{\"attributes\":{},\"id\":\"b83fdcef-9f0e-4690-90a8-b721a4e5712d\",\"type\":\"Selection\"},{\"attributes\":{\"line_alpha\":0.8,\"line_color\":\"#984ea3\",\"line_width\":1.5,\"x\":{\"field\":\"x\"},\"y\":{\"field\":\"y\"}},\"id\":\"ff6b08c1-1877-4280-8bf2-db4f634425e3\",\"type\":\"Line\"},{\"attributes\":{\"dimension\":1,\"plot\":{\"id\":\"f0a9bac9-7b60-4353-b077-02afcce1b4ef\",\"subtype\":\"Figure\",\"type\":\"Plot\"},\"ticker\":{\"id\":\"4f0036b8-ee55-405d-94af-2e3bd6fd665d\",\"type\":\"LogTicker\"}},\"id\":\"0bb37d0e-1064-4c79-b397-5e4caaa5fc9d\",\"type\":\"Grid\"},{\"attributes\":{},\"id\":\"251b1f2f-b0d3-448e-af1b-240fb9983f06\",\"type\":\"BasicTicker\"},{\"attributes\":{\"dimension\":1,\"plot\":{\"id\":\"5f71ec2f-451a-4f85-8efb-f590501bf65b\",\"subtype\":\"Figure\",\"type\":\"Plot\"},\"ticker\":{\"id\":\"251b1f2f-b0d3-448e-af1b-240fb9983f06\",\"type\":\"BasicTicker\"}},\"id\":\"001609ec-76c1-4ab0-916a-1fac9654ec62\",\"type\":\"Grid\"},{\"attributes\":{\"num_minor_ticks\":10},\"id\":\"4f0036b8-ee55-405d-94af-2e3bd6fd665d\",\"type\":\"LogTicker\"},{\"attributes\":{},\"id\":\"04db6048-b9aa-4952-bb61-89f4b47812ed\",\"type\":\"WheelZoomTool\"},{\"attributes\":{\"axis_label\":\"pressure [mb]\",\"formatter\":{\"id\":\"12503df4-e430-46b9-9b93-9838da9e5af1\",\"type\":\"LogTickFormatter\"},\"plot\":{\"id\":\"f0a9bac9-7b60-4353-b077-02afcce1b4ef\",\"subtype\":\"Figure\",\"type\":\"Plot\"},\"ticker\":{\"id\":\"4f0036b8-ee55-405d-94af-2e3bd6fd665d\",\"type\":\"LogTicker\"}},\"id\":\"64abedbf-5418-4c3b-9471-73affe0cd568\",\"type\":\"LogAxis\"},{\"attributes\":{\"overlay\":{\"id\":\"575ce975-c885-4553-a94b-0693f946a308\",\"type\":\"BoxAnnotation\"}},\"id\":\"76e29a2f-48b7-401b-9f39-8653c4eea4c0\",\"type\":\"BoxZoomTool\"},{\"attributes\":{},\"id\":\"40f33161-d634-427b-95ce-add76f1ad3eb\",\"type\":\"BasicTicker\"},{\"attributes\":{\"axis_label\":\"cooling rate [K/day]\",\"formatter\":{\"id\":\"28ba8063-0c69-4572-b167-ad09575fe7ff\",\"type\":\"BasicTickFormatter\"},\"plot\":{\"id\":\"f0a9bac9-7b60-4353-b077-02afcce1b4ef\",\"subtype\":\"Figure\",\"type\":\"Plot\"},\"ticker\":{\"id\":\"40f33161-d634-427b-95ce-add76f1ad3eb\",\"type\":\"BasicTicker\"}},\"id\":\"4c9154f6-a5fd-4803-beb4-fa422af6efe7\",\"type\":\"LinearAxis\"},{\"attributes\":{\"line_alpha\":0.6,\"line_color\":\"#e41a1c\",\"line_dash\":[6],\"line_width\":5,\"x\":{\"field\":\"x\"},\"y\":{\"field\":\"y\"}},\"id\":\"deaf7f81-1d7e-4bbf-9d98-db953c317a50\",\"type\":\"Line\"},{\"attributes\":{\"plot\":{\"id\":\"f0a9bac9-7b60-4353-b077-02afcce1b4ef\",\"subtype\":\"Figure\",\"type\":\"Plot\"},\"ticker\":{\"id\":\"40f33161-d634-427b-95ce-add76f1ad3eb\",\"type\":\"BasicTicker\"}},\"id\":\"85a1e48f-720e-46ae-b0b8-447fb215f112\",\"type\":\"Grid\"},{\"attributes\":{},\"id\":\"439f3340-bee3-4d4a-b2d2-d30fbb3af138\",\"type\":\"WheelZoomTool\"},{\"attributes\":{\"bottom_units\":\"screen\",\"fill_alpha\":{\"value\":0.5},\"fill_color\":{\"value\":\"lightgrey\"},\"left_units\":\"screen\",\"level\":\"overlay\",\"line_alpha\":{\"value\":1.0},\"line_color\":{\"value\":\"black\"},\"line_dash\":[4,4],\"line_width\":{\"value\":2},\"plot\":null,\"render_mode\":\"css\",\"right_units\":\"screen\",\"top_units\":\"screen\"},\"id\":\"8082a6ab-df6a-4b74-a726-69cfcf05d109\",\"type\":\"BoxAnnotation\"},{\"attributes\":{\"label\":{\"value\":\"CRD\"},\"renderers\":[{\"id\":\"fff393cc-6004-46ee-9f40-f94db71ee865\",\"type\":\"GlyphRenderer\"},{\"id\":\"1c385eb6-88ca-49b9-a29b-7b14dff8f084\",\"type\":\"GlyphRenderer\"}]},\"id\":\"b158c810-b706-4edf-b4db-25ad0f631491\",\"type\":\"LegendItem\"},{\"attributes\":{},\"id\":\"f468daae-ba9f-49fd-9f5c-1a628129346f\",\"type\":\"PanTool\"},{\"attributes\":{\"callback\":null,\"data\":{\"x\":{\"__ndarray__\":\"TSPGH4dwgL9v0XR3V112v2kTlaICuUM/T9BcnkRIfT/pk9WnLnaNP+1NnHQM3JY/pUEJ5965nz//hlNd9b2kP9Xw8EgDEqo/Mw+OyUrirz9XISKL7RuzP6WZoObhjbY/k8mIj3hHuj+MHUO24tG9P6GVpACLW8A/eGEIjDeqwT8/IZYo1gTDP3u8FEezbMQ/MkDctJ3fxT+G2qEnhmDHP3RnP7Vuwcg/Jdrh8eVsxz8cu12Sd8zCP82MAm1Avrs/4TeuFDxksz/z/lujx+qoP8JlikN6rZs/eGeecDcHij8DvpJUfD14Pyse4XQOvmk/smc/cQglYD+edg8IKJhXP6uzEmbekmI/IZPYKstUcD8xlMPKUGx0PzB5AxWc3XU/3aBk1G/9dD9MAu6WeAlwPzOIQwLDg2A/yNOlon62Ab+/wV6yv91iv5AnH8U06HO/uANMlJG3f7+UmvT5U6OGv4pRWxOg4I2/q33hZeu4kL9LazFKYAuPv2wM69qfCoq/iiC3J5T6hL8YoQDTZ9x/v7OwoBr6oXW/5vTqnBWDZr9x/Z8ieO4Wv/5C035ZjWU/7vVu6+c/dj83uTqkuveAP6OrB9tu04Y/v5CRkKGTjD/18ecTLQSRP30O046AqZM/mg/x17Ablj+rAcnCd2WYP4tJYdkqk5o/reRqMWa1nD9EUyWzQt2eP4RB97eUi6A/b7yHwJuyoT8f9rkPfc2iP9Pa3rUemqM/2JrEWFrRoz/fW0cLhimjP4LtN0UNx6E/r1UiU7USoD9TcAmk6nWcP9TTF6f54Zg/\",\"dtype\":\"float64\",\"shape\":[75]},\"y\":{\"__ndarray__\":\"GhExyth1ND/Sv8nbtpRIP2vylNV0PVE/aTum7souWD/At0SJ8fVgPw3Iuahxymc/MSNhhJWvcD/bTfBN02d3P2zb5nxnaoA/CD5h5MAGhz8NmeH1TyaQP+zrCsc9p5Y/LbKd76fGnz/bLW5ISEmmPww9YvTcQq8/JV2OstnstT8Er5Y7M8G+P0c+r3jqkcU/5h99k6ZBzj88bCIzFzjVP4enV8oyxN0//yH99nXg5D8qOpLLf0jtP5kqGJXUifQ/c9cS8kHP/D+/DpwzojQEQIEmwoanVwxA4lgXt9HgE0BSSZ2AJuIbQAMJih9jjiNA5q4l5INuK0AwTKYKRj0zQNv5fmq8/DpAaCJseHrtQkB/+zpwzoxKQM3MzMzMeFJAZmZmZmZqWEAAAAAAAFxeQM3MzMzMJmJAmpmZmZkfZUBmZmZmZhhoQDMzMzMzEWtAAAAAAAAKbkBmZmZmZoFwQM3MzMzM/XFAMzMzMzN6c0CamZmZmfZ0QAAAAAAAc3ZAZmZmZmbvd0DNzMzMzGt5QDMzMzMz6HpAmpmZmZlkfEAAAAAAAOF9QGZmZmZmXX9AZmZmZuZsgECamZmZGSuBQM3MzMxM6YFAAAAAAICngkAzMzMzs2WDQGZmZmbmI4RAmpmZmRnihEDNzMzMTKCFQAAAAACAXoZAMzMzM7Mch0BmZmZm5tqHQJqZmZkZmYhAzczMzExXiUAAAAAAgBWKQDMzMzOz04pAZmZmZuaRi0CamZmZGVCMQM3MzMxMDo1AAAAAAIDMjUAzMzMzs4qOQGZmZmbmSI9A\",\"dtype\":\"float64\",\"shape\":[75]}},\"selected\":{\"id\":\"2da4b878-62aa-4cae-9a75-0447844b896c\",\"type\":\"Selection\"},\"selection_policy\":{\"id\":\"68deabdb-06d7-4a2a-9633-0c9bc526d8d3\",\"type\":\"UnionRenderers\"}},\"id\":\"457cae09-fb04-406e-a6d1-87c2a358ecc0\",\"type\":\"ColumnDataSource\"},{\"attributes\":{\"bottom_units\":\"screen\",\"fill_alpha\":{\"value\":0.5},\"fill_color\":{\"value\":\"lightgrey\"},\"left_units\":\"screen\",\"level\":\"overlay\",\"line_alpha\":{\"value\":1.0},\"line_color\":{\"value\":\"black\"},\"line_dash\":[4,4],\"line_width\":{\"value\":2},\"plot\":null,\"render_mode\":\"css\",\"right_units\":\"screen\",\"top_units\":\"screen\"},\"id\":\"575ce975-c885-4553-a94b-0693f946a308\",\"type\":\"BoxAnnotation\"},{\"attributes\":{\"overlay\":{\"id\":\"8082a6ab-df6a-4b74-a726-69cfcf05d109\",\"type\":\"BoxAnnotation\"}},\"id\":\"15bdf9f2-6d2a-47ad-9a0c-66bd4cb71326\",\"type\":\"BoxZoomTool\"},{\"attributes\":{},\"id\":\"bbbff105-0619-401e-ba68-d0abac071f7a\",\"type\":\"SaveTool\"},{\"attributes\":{},\"id\":\"4ab00743-0578-47dd-b23e-b825a7e46bea\",\"type\":\"ResetTool\"},{\"attributes\":{\"label\":{\"value\":\"CLIRAD\"},\"renderers\":[{\"id\":\"376d363a-6706-477c-989d-bbb775161d39\",\"type\":\"GlyphRenderer\"}]},\"id\":\"ac334de6-01c7-4f20-b40f-cdd4e6f78587\",\"type\":\"LegendItem\"},{\"attributes\":{},\"id\":\"57547bc5-da4e-471f-82f4-fe3b6a0cad68\",\"type\":\"HelpTool\"},{\"attributes\":{\"line_alpha\":0.1,\"line_color\":\"#1f77b4\",\"line_dash\":[6],\"line_width\":5,\"x\":{\"field\":\"x\"},\"y\":{\"field\":\"y\"}},\"id\":\"7b956403-204e-49da-8bd8-40d367da270e\",\"type\":\"Line\"},{\"attributes\":{\"fill_alpha\":{\"value\":0.1},\"fill_color\":{\"value\":\"#1f77b4\"},\"line_alpha\":{\"value\":0.1},\"line_color\":{\"value\":\"#1f77b4\"},\"x\":{\"field\":\"x\"},\"y\":{\"field\":\"y\"}},\"id\":\"7deb3e5a-52a6-4a85-81d4-89e40f8312c4\",\"type\":\"Circle\"},{\"attributes\":{\"source\":{\"id\":\"4f16c594-26ae-46a9-b678-ee52122d8263\",\"type\":\"ColumnDataSource\"}},\"id\":\"765ccf4e-045b-49e2-acd4-732c08e6884e\",\"type\":\"CDSView\"},{\"attributes\":{\"ticker\":null},\"id\":\"dc9474c2-640c-4985-afe8-6d7cbc42f90a\",\"type\":\"LogTickFormatter\"},{\"attributes\":{\"fill_alpha\":{\"value\":0.7},\"fill_color\":{\"value\":\"#4daf4a\"},\"line_alpha\":{\"value\":0.7},\"line_color\":{\"value\":\"#4daf4a\"},\"x\":{\"field\":\"x\"},\"y\":{\"field\":\"y\"}},\"id\":\"629266dc-482b-4cf6-83fd-f58f234afe0a\",\"type\":\"Circle\"},{\"attributes\":{\"source\":{\"id\":\"174418d3-478e-4111-adc6-1b3cd88a1110\",\"type\":\"ColumnDataSource\"}},\"id\":\"58bfa197-54dd-454d-a080-cc7ee01c154d\",\"type\":\"CDSView\"},{\"attributes\":{},\"id\":\"68deabdb-06d7-4a2a-9633-0c9bc526d8d3\",\"type\":\"UnionRenderers\"},{\"attributes\":{\"above\":[{\"id\":\"4a089ab3-0f9a-46a5-a3da-56e83f7bbd30\",\"type\":\"Legend\"}],\"below\":[{\"id\":\"1eb55db5-0afe-44dc-a38c-0b03b5e5b126\",\"type\":\"LinearAxis\"}],\"left\":[{\"id\":\"5aa0fa37-397b-43d0-aacb-ec489cc03516\",\"type\":\"LogAxis\"}],\"plot_width\":300,\"renderers\":[{\"id\":\"1eb55db5-0afe-44dc-a38c-0b03b5e5b126\",\"type\":\"LinearAxis\"},{\"id\":\"9ad5e60c-b753-4231-b08b-5624615cebb7\",\"type\":\"Grid\"},{\"id\":\"5aa0fa37-397b-43d0-aacb-ec489cc03516\",\"type\":\"LogAxis\"},{\"id\":\"b608e08a-568e-4ee6-93fe-601ba19e0557\",\"type\":\"Grid\"},{\"id\":\"94652e2d-d1de-4d5a-be76-9df519262589\",\"type\":\"BoxAnnotation\"},{\"id\":\"94b0c9ec-e704-4f0a-a3d1-241a22ae892a\",\"type\":\"GlyphRenderer\"},{\"id\":\"3a286e07-dad3-42ad-99af-eb2de7a0ae8e\",\"type\":\"GlyphRenderer\"},{\"id\":\"58cbab79-51fc-4a6c-8e79-b4bb035d9c6b\",\"type\":\"GlyphRenderer\"},{\"id\":\"4a089ab3-0f9a-46a5-a3da-56e83f7bbd30\",\"type\":\"Legend\"}],\"title\":{\"id\":\"f70ce537-c3dd-4a76-9ca5-ce8949054172\",\"type\":\"Title\"},\"toolbar\":{\"id\":\"635eb548-1dc5-41cf-9508-b4a43cbc59cb\",\"type\":\"Toolbar\"},\"toolbar_location\":null,\"x_range\":{\"id\":\"7dfb95f7-3929-436c-bc94-ca29f7fe65b1\",\"type\":\"Range1d\"},\"x_scale\":{\"id\":\"3a3b49bc-1521-49be-afc5-3f241feb22a5\",\"type\":\"LinearScale\"},\"y_range\":{\"id\":\"8ec51234-13e9-49df-b0a8-089717baea74\",\"type\":\"Range1d\"},\"y_scale\":{\"id\":\"a3260809-54b4-4ebe-be49-45951aa624ab\",\"type\":\"LogScale\"}},\"id\":\"3e5b4cdf-6bd8-4245-874c-b17ef54a3a49\",\"subtype\":\"Figure\",\"type\":\"Plot\"},{\"attributes\":{},\"id\":\"65944a4f-7115-483d-bd88-e99f42a18a07\",\"type\":\"UnionRenderers\"},{\"attributes\":{\"label\":{\"value\":\"CLIRAD - CRD\"},\"renderers\":[{\"id\":\"98c33824-aa46-4e3b-9717-2016c2912815\",\"type\":\"GlyphRenderer\"},{\"id\":\"b681a7c4-bea0-456b-991a-d5cbd02fb57d\",\"type\":\"GlyphRenderer\"}]},\"id\":\"491d68bb-3648-40ce-a0dd-3d8e88effbb9\",\"type\":\"LegendItem\"},{\"attributes\":{\"fill_alpha\":{\"value\":0.1},\"fill_color\":{\"value\":\"#1f77b4\"},\"line_alpha\":{\"value\":0.1},\"line_color\":{\"value\":\"#1f77b4\"},\"x\":{\"field\":\"x\"},\"y\":{\"field\":\"y\"}},\"id\":\"843bfbf9-da48-41cb-a6bf-add8dabf894b\",\"type\":\"Circle\"},{\"attributes\":{},\"id\":\"bc7e536f-08e0-402d-baec-8edd0778379f\",\"type\":\"Selection\"},{\"attributes\":{},\"id\":\"2da4b878-62aa-4cae-9a75-0447844b896c\",\"type\":\"Selection\"},{\"attributes\":{\"data_source\":{\"id\":\"41891949-19dd-4037-ab82-630a6a15d317\",\"type\":\"ColumnDataSource\"},\"glyph\":{\"id\":\"629266dc-482b-4cf6-83fd-f58f234afe0a\",\"type\":\"Circle\"},\"hover_glyph\":null,\"muted_glyph\":null,\"nonselection_glyph\":{\"id\":\"843bfbf9-da48-41cb-a6bf-add8dabf894b\",\"type\":\"Circle\"},\"selection_glyph\":null,\"view\":{\"id\":\"5c024a63-67f5-42b0-a6e0-b4878736dcee\",\"type\":\"CDSView\"}},\"id\":\"fff393cc-6004-46ee-9f40-f94db71ee865\",\"type\":\"GlyphRenderer\"},{\"attributes\":{\"callback\":null,\"data\":{\"x\":{\"__ndarray__\":\"z6RPc48Hqb801DSdltqmvyDnjvjPGaK/hWWMCl+smb9hEoGIF12Mv6zhVa/lrlq//FnMwtrXhz9qff2TkKiaP+b8NQaISqU/UNU/BXfhrT/3LRzqsY6zP7IMkvOogLg/0EmOO+7CvT+kAIIZZU7BP3eSYcx7KMM/ADfDYr2zxD8gXn0QxDXGP6ie1vqMrsc/r8bUeaMeyT/GLfAXU4/KPxy3u2yI3ss/ww5VV554yT8s4iEtfsnCP6HH/OAbqrg/USGabfhWrj/YquOhBCqhP7cI68oKAJE/vBd+JtSBgD+UnU5ASpp3P+uFDeIrxHQ/cJqBCm+kcD/gKV4RbsVlP8SJQE70g2M/mbgEVMpLaz9Zta1uF61vPwoiWWtCOHA/dLOzOMDkbT/sSlAX1vtjP3eGSoo0MUc/PhNXD7nBT79pKl7MbUpmv9XzJjVIAnO/EkEOJhsRfL/T5ZhHv52DvxG6JdliZIq/5vJK3ZLCjb+NgoxnmcCKv0J8VmuZjYW/4V2lZRfOgL8sIasoIGh4v/vwePulEm6/nFnxM+cjVb8j+4uSoMRTPz8OU1F+T28/5jPbLb7Mej+YX1FAhR6DP1d4Rwpy44g/pmjkBqmVjj/hIjhACAqSP2JK+7BGopQ/sj9Ij9EMlz+t5n56jkuZPwc8T6M7aJs/LtWRdM5znT8jNlxXpIKfP1VzIdHf06A/bwV/+ib1oT8wFnRaZxSjP9rfeU3k86M/+cvuhxwqpD+/YMfrg3CjP174WYuZ8aE/X1aeGicUoD/Uef5wYDqcP0tPXX0XLpg/\",\"dtype\":\"float64\",\"shape\":[75]},\"y\":{\"__ndarray__\":\"GhExyth1ND/Sv8nbtpRIP2vylNV0PVE/aTum7souWD/At0SJ8fVgPw3Iuahxymc/MSNhhJWvcD/bTfBN02d3P2zb5nxnaoA/CD5h5MAGhz8NmeH1TyaQP+zrCsc9p5Y/LbKd76fGnz/bLW5ISEmmPww9YvTcQq8/JV2OstnstT8Er5Y7M8G+P0c+r3jqkcU/5h99k6ZBzj88bCIzFzjVP4enV8oyxN0//yH99nXg5D8qOpLLf0jtP5kqGJXUifQ/c9cS8kHP/D+/DpwzojQEQIEmwoanVwxA4lgXt9HgE0BSSZ2AJuIbQAMJih9jjiNA5q4l5INuK0AwTKYKRj0zQNv5fmq8/DpAaCJseHrtQkB/+zpwzoxKQM3MzMzMeFJAZmZmZmZqWEAAAAAAAFxeQM3MzMzMJmJAmpmZmZkfZUBmZmZmZhhoQDMzMzMzEWtAAAAAAAAKbkBmZmZmZoFwQM3MzMzM/XFAMzMzMzN6c0CamZmZmfZ0QAAAAAAAc3ZAZmZmZmbvd0DNzMzMzGt5QDMzMzMz6HpAmpmZmZlkfEAAAAAAAOF9QGZmZmZmXX9AZmZmZuZsgECamZmZGSuBQM3MzMxM6YFAAAAAAICngkAzMzMzs2WDQGZmZmbmI4RAmpmZmRnihEDNzMzMTKCFQAAAAACAXoZAMzMzM7Mch0BmZmZm5tqHQJqZmZkZmYhAzczMzExXiUAAAAAAgBWKQDMzMzOz04pAZmZmZuaRi0CamZmZGVCMQM3MzMxMDo1AAAAAAIDMjUAzMzMzs4qOQGZmZmbmSI9A\",\"dtype\":\"float64\",\"shape\":[75]}},\"selected\":{\"id\":\"c321af4c-0561-4554-96fa-c11f73a4cbb5\",\"type\":\"Selection\"},\"selection_policy\":{\"id\":\"5deaaa48-0122-4290-89c1-c222a401de59\",\"type\":\"UnionRenderers\"}},\"id\":\"def12c43-216e-444b-85a6-47c1acac2086\",\"type\":\"ColumnDataSource\"},{\"attributes\":{\"fill_alpha\":{\"value\":0.7},\"fill_color\":{\"value\":\"#984ea3\"},\"line_alpha\":{\"value\":0.7},\"line_color\":{\"value\":\"#984ea3\"},\"x\":{\"field\":\"x\"},\"y\":{\"field\":\"y\"}},\"id\":\"e4c81080-1171-4b71-8bb4-eefe9ec250f4\",\"type\":\"Circle\"},{\"attributes\":{\"data_source\":{\"id\":\"457cae09-fb04-406e-a6d1-87c2a358ecc0\",\"type\":\"ColumnDataSource\"},\"glyph\":{\"id\":\"deaf7f81-1d7e-4bbf-9d98-db953c317a50\",\"type\":\"Line\"},\"hover_glyph\":null,\"muted_glyph\":null,\"nonselection_glyph\":{\"id\":\"7b956403-204e-49da-8bd8-40d367da270e\",\"type\":\"Line\"},\"selection_glyph\":null,\"view\":{\"id\":\"8a9719f9-6e50-4614-bdb9-940436fbfe23\",\"type\":\"CDSView\"}},\"id\":\"376d363a-6706-477c-989d-bbb775161d39\",\"type\":\"GlyphRenderer\"},{\"attributes\":{\"callback\":null,\"data\":{\"x\":{\"__ndarray__\":\"/Bteq23rpD8GOkau6w6kP247GQO0aKI/zMwRGTh/oD8lUysYo+mcPwiskc/6hpg/pxSjhfHNkz8oIVNNtKaNP7zP6wrtHYM/GM9xIp4GcD8AKIO+F7Fcv9AwF89wLH+/6AEsYK3bi7/wjgPznSuTv7Dm512GZ5a/QKzWtS5MmL8I5zk/b4eZv2gRD57NDpq/6DPEJy74mb8AmnKCZ3aZv0B94rvN6Ji/8KSZK8NdkL8AgMfeKcsXP2ApLmAkoYg/4pyEd//ikD9sUOEFDAOPPxa6PvHeWoU/eJ9AlMYKcz/gDYSIQmYkP1bbc56SlF+/Ls3Do9UjYb8i3awatPJTvyDDugW9Ih6/pLaxBjB3RT8S5rJNFFdSP5hcqaZmlVY/jBwr4D4sWD9YcxctNi5YPyrNYb/rblU/ArYsJVGmTj9QRfvPcGU7P2B3Bv+RvSy/MBXucbMzTb8Ipt2SpSxYv8i7rNHp4Vu/gEPAcx96Xb/4opOKGythv6hAUr4Z9GG/pApHCPOxYL+w/1WpHtFdv9bgkHOcYlq/MJDkBUTiV7/6+rUUiDNVv4KW/6RJhFO/4PewCVkzUr8IM7XgVDZRv6Bl/nkZgFC/OL+WsjsQUL/ADgPFsl1Qv6B8B0XEGE+/AAPm6hYkTr9AoLz21sJMv4BPvj0Zokq/IBDeZAjNR7/gW9yGNKxEv0B0jErGEkK/AEDSfc6iQL9ABIiukrpBv8BBweZlcUa/QEiMyoswRr8AOAEgeL9BvwBuBREjRjW/AAALwHcc576AP3uFGcUtPyCRUDdFfEY/\",\"dtype\":\"float64\",\"shape\":[75]},\"y\":{\"__ndarray__\":\"GhExyth1ND/Sv8nbtpRIP2vylNV0PVE/aTum7souWD/At0SJ8fVgPw3Iuahxymc/MSNhhJWvcD/bTfBN02d3P2zb5nxnaoA/CD5h5MAGhz8NmeH1TyaQP+zrCsc9p5Y/LbKd76fGnz/bLW5ISEmmPww9YvTcQq8/JV2OstnstT8Er5Y7M8G+P0c+r3jqkcU/5h99k6ZBzj88bCIzFzjVP4enV8oyxN0//yH99nXg5D8qOpLLf0jtP5kqGJXUifQ/c9cS8kHP/D+/DpwzojQEQIEmwoanVwxA4lgXt9HgE0BSSZ2AJuIbQAMJih9jjiNA5q4l5INuK0AwTKYKRj0zQNv5fmq8/DpAaCJseHrtQkB/+zpwzoxKQM3MzMzMeFJAZmZmZmZqWEAAAAAAAFxeQM3MzMzMJmJAmpmZmZkfZUBmZmZmZhhoQDMzMzMzEWtAAAAAAAAKbkBmZmZmZoFwQM3MzMzM/XFAMzMzMzN6c0CamZmZmfZ0QAAAAAAAc3ZAZmZmZmbvd0DNzMzMzGt5QDMzMzMz6HpAmpmZmZlkfEAAAAAAAOF9QGZmZmZmXX9AZmZmZuZsgECamZmZGSuBQM3MzMxM6YFAAAAAAICngkAzMzMzs2WDQGZmZmbmI4RAmpmZmRnihEDNzMzMTKCFQAAAAACAXoZAMzMzM7Mch0BmZmZm5tqHQJqZmZkZmYhAzczMzExXiUAAAAAAgBWKQDMzMzOz04pAZmZmZuaRi0CamZmZGVCMQM3MzMxMDo1AAAAAAIDMjUAzMzMzs4qOQGZmZmbmSI9A\",\"dtype\":\"float64\",\"shape\":[75]}},\"selected\":{\"id\":\"b83fdcef-9f0e-4690-90a8-b721a4e5712d\",\"type\":\"Selection\"},\"selection_policy\":{\"id\":\"62202d15-6de4-4862-8efe-7696f358d632\",\"type\":\"UnionRenderers\"}},\"id\":\"4f16c594-26ae-46a9-b678-ee52122d8263\",\"type\":\"ColumnDataSource\"},{\"attributes\":{\"data_source\":{\"id\":\"174418d3-478e-4111-adc6-1b3cd88a1110\",\"type\":\"ColumnDataSource\"},\"glyph\":{\"id\":\"e4c81080-1171-4b71-8bb4-eefe9ec250f4\",\"type\":\"Circle\"},\"hover_glyph\":null,\"muted_glyph\":null,\"nonselection_glyph\":{\"id\":\"7deb3e5a-52a6-4a85-81d4-89e40f8312c4\",\"type\":\"Circle\"},\"selection_glyph\":null,\"view\":{\"id\":\"58bfa197-54dd-454d-a080-cc7ee01c154d\",\"type\":\"CDSView\"}},\"id\":\"98c33824-aa46-4e3b-9717-2016c2912815\",\"type\":\"GlyphRenderer\"},{\"attributes\":{\"callback\":null,\"data\":{\"x\":{\"__ndarray__\":\"z6RPc48Hqb801DSdltqmvyDnjvjPGaK/hWWMCl+smb9hEoGIF12Mv6zhVa/lrlq//FnMwtrXhz9qff2TkKiaP+b8NQaISqU/UNU/BXfhrT/3LRzqsY6zP7IMkvOogLg/0EmOO+7CvT+kAIIZZU7BP3eSYcx7KMM/ADfDYr2zxD8gXn0QxDXGP6ie1vqMrsc/r8bUeaMeyT/GLfAXU4/KPxy3u2yI3ss/ww5VV554yT8s4iEtfsnCP6HH/OAbqrg/USGabfhWrj/YquOhBCqhP7cI68oKAJE/vBd+JtSBgD+UnU5ASpp3P+uFDeIrxHQ/cJqBCm+kcD/gKV4RbsVlP8SJQE70g2M/mbgEVMpLaz9Zta1uF61vPwoiWWtCOHA/dLOzOMDkbT/sSlAX1vtjP3eGSoo0MUc/PhNXD7nBT79pKl7MbUpmv9XzJjVIAnO/EkEOJhsRfL/T5ZhHv52DvxG6JdliZIq/5vJK3ZLCjb+NgoxnmcCKv0J8VmuZjYW/4V2lZRfOgL8sIasoIGh4v/vwePulEm6/nFnxM+cjVb8j+4uSoMRTPz8OU1F+T28/5jPbLb7Mej+YX1FAhR6DP1d4Rwpy44g/pmjkBqmVjj/hIjhACAqSP2JK+7BGopQ/sj9Ij9EMlz+t5n56jkuZPwc8T6M7aJs/LtWRdM5znT8jNlxXpIKfP1VzIdHf06A/bwV/+ib1oT8wFnRaZxSjP9rfeU3k86M/+cvuhxwqpD+/YMfrg3CjP174WYuZ8aE/X1aeGicUoD/Uef5wYDqcP0tPXX0XLpg/\",\"dtype\":\"float64\",\"shape\":[75]},\"y\":{\"__ndarray__\":\"GhExyth1ND/Sv8nbtpRIP2vylNV0PVE/aTum7souWD/At0SJ8fVgPw3Iuahxymc/MSNhhJWvcD/bTfBN02d3P2zb5nxnaoA/CD5h5MAGhz8NmeH1TyaQP+zrCsc9p5Y/LbKd76fGnz/bLW5ISEmmPww9YvTcQq8/JV2OstnstT8Er5Y7M8G+P0c+r3jqkcU/5h99k6ZBzj88bCIzFzjVP4enV8oyxN0//yH99nXg5D8qOpLLf0jtP5kqGJXUifQ/c9cS8kHP/D+/DpwzojQEQIEmwoanVwxA4lgXt9HgE0BSSZ2AJuIbQAMJih9jjiNA5q4l5INuK0AwTKYKRj0zQNv5fmq8/DpAaCJseHrtQkB/+zpwzoxKQM3MzMzMeFJAZmZmZmZqWEAAAAAAAFxeQM3MzMzMJmJAmpmZmZkfZUBmZmZmZhhoQDMzMzMzEWtAAAAAAAAKbkBmZmZmZoFwQM3MzMzM/XFAMzMzMzN6c0CamZmZmfZ0QAAAAAAAc3ZAZmZmZmbvd0DNzMzMzGt5QDMzMzMz6HpAmpmZmZlkfEAAAAAAAOF9QGZmZmZmXX9AZmZmZuZsgECamZmZGSuBQM3MzMxM6YFAAAAAAICngkAzMzMzs2WDQGZmZmbmI4RAmpmZmRnihEDNzMzMTKCFQAAAAACAXoZAMzMzM7Mch0BmZmZm5tqHQJqZmZkZmYhAzczMzExXiUAAAAAAgBWKQDMzMzOz04pAZmZmZuaRi0CamZmZGVCMQM3MzMxMDo1AAAAAAIDMjUAzMzMzs4qOQGZmZmbmSI9A\",\"dtype\":\"float64\",\"shape\":[75]}},\"selected\":{\"id\":\"bc7e536f-08e0-402d-baec-8edd0778379f\",\"type\":\"Selection\"},\"selection_policy\":{\"id\":\"65944a4f-7115-483d-bd88-e99f42a18a07\",\"type\":\"UnionRenderers\"}},\"id\":\"41891949-19dd-4037-ab82-630a6a15d317\",\"type\":\"ColumnDataSource\"},{\"attributes\":{\"source\":{\"id\":\"457cae09-fb04-406e-a6d1-87c2a358ecc0\",\"type\":\"ColumnDataSource\"}},\"id\":\"8a9719f9-6e50-4614-bdb9-940436fbfe23\",\"type\":\"CDSView\"},{\"attributes\":{\"line_alpha\":0.1,\"line_color\":\"#1f77b4\",\"line_width\":1.5,\"x\":{\"field\":\"x\"},\"y\":{\"field\":\"y\"}},\"id\":\"67ea7b52-0066-4749-aa56-cd6b94fcdea0\",\"type\":\"Line\"},{\"attributes\":{},\"id\":\"5deaaa48-0122-4290-89c1-c222a401de59\",\"type\":\"UnionRenderers\"},{\"attributes\":{},\"id\":\"a90a6a91-8ea1-405b-bdf0-e4853ef6a744\",\"type\":\"BasicTickFormatter\"},{\"attributes\":{\"plot\":null,\"text\":\"\"},\"id\":\"f70ce537-c3dd-4a76-9ca5-ce8949054172\",\"type\":\"Title\"},{\"attributes\":{\"callback\":null,\"data\":{\"x\":{\"__ndarray__\":\"TSPGH4dwgL9v0XR3V112v2kTlaICuUM/T9BcnkRIfT/pk9WnLnaNP+1NnHQM3JY/pUEJ5965nz//hlNd9b2kP9Xw8EgDEqo/Mw+OyUrirz9XISKL7RuzP6WZoObhjbY/k8mIj3hHuj+MHUO24tG9P6GVpACLW8A/eGEIjDeqwT8/IZYo1gTDP3u8FEezbMQ/MkDctJ3fxT+G2qEnhmDHP3RnP7Vuwcg/Jdrh8eVsxz8cu12Sd8zCP82MAm1Avrs/4TeuFDxksz/z/lujx+qoP8JlikN6rZs/eGeecDcHij8DvpJUfD14Pyse4XQOvmk/smc/cQglYD+edg8IKJhXP6uzEmbekmI/IZPYKstUcD8xlMPKUGx0PzB5AxWc3XU/3aBk1G/9dD9MAu6WeAlwPzOIQwLDg2A/yNOlon62Ab+/wV6yv91iv5AnH8U06HO/uANMlJG3f7+UmvT5U6OGv4pRWxOg4I2/q33hZeu4kL9LazFKYAuPv2wM69qfCoq/iiC3J5T6hL8YoQDTZ9x/v7OwoBr6oXW/5vTqnBWDZr9x/Z8ieO4Wv/5C035ZjWU/7vVu6+c/dj83uTqkuveAP6OrB9tu04Y/v5CRkKGTjD/18ecTLQSRP30O046AqZM/mg/x17Ablj+rAcnCd2WYP4tJYdkqk5o/reRqMWa1nD9EUyWzQt2eP4RB97eUi6A/b7yHwJuyoT8f9rkPfc2iP9Pa3rUemqM/2JrEWFrRoz/fW0cLhimjP4LtN0UNx6E/r1UiU7USoD9TcAmk6nWcP9TTF6f54Zg/\",\"dtype\":\"float64\",\"shape\":[75]},\"y\":{\"__ndarray__\":\"GhExyth1ND/Sv8nbtpRIP2vylNV0PVE/aTum7souWD/At0SJ8fVgPw3Iuahxymc/MSNhhJWvcD/bTfBN02d3P2zb5nxnaoA/CD5h5MAGhz8NmeH1TyaQP+zrCsc9p5Y/LbKd76fGnz/bLW5ISEmmPww9YvTcQq8/JV2OstnstT8Er5Y7M8G+P0c+r3jqkcU/5h99k6ZBzj88bCIzFzjVP4enV8oyxN0//yH99nXg5D8qOpLLf0jtP5kqGJXUifQ/c9cS8kHP/D+/DpwzojQEQIEmwoanVwxA4lgXt9HgE0BSSZ2AJuIbQAMJih9jjiNA5q4l5INuK0AwTKYKRj0zQNv5fmq8/DpAaCJseHrtQkB/+zpwzoxKQM3MzMzMeFJAZmZmZmZqWEAAAAAAAFxeQM3MzMzMJmJAmpmZmZkfZUBmZmZmZhhoQDMzMzMzEWtAAAAAAAAKbkBmZmZmZoFwQM3MzMzM/XFAMzMzMzN6c0CamZmZmfZ0QAAAAAAAc3ZAZmZmZmbvd0DNzMzMzGt5QDMzMzMz6HpAmpmZmZlkfEAAAAAAAOF9QGZmZmZmXX9AZmZmZuZsgECamZmZGSuBQM3MzMxM6YFAAAAAAICngkAzMzMzs2WDQGZmZmbmI4RAmpmZmRnihEDNzMzMTKCFQAAAAACAXoZAMzMzM7Mch0BmZmZm5tqHQJqZmZkZmYhAzczMzExXiUAAAAAAgBWKQDMzMzOz04pAZmZmZuaRi0CamZmZGVCMQM3MzMxMDo1AAAAAAIDMjUAzMzMzs4qOQGZmZmbmSI9A\",\"dtype\":\"float64\",\"shape\":[75]}},\"selected\":{\"id\":\"82fb758b-da14-42b1-a613-dd3da7108e88\",\"type\":\"Selection\"},\"selection_policy\":{\"id\":\"ac7dd864-5011-4854-8c06-914c4f5c73e4\",\"type\":\"UnionRenderers\"}},\"id\":\"cac88324-be10-42b1-b0f1-2606608b69f2\",\"type\":\"ColumnDataSource\"},{\"attributes\":{},\"id\":\"b1d5c25d-f155-40e9-8ed4-2c625592eef0\",\"type\":\"BasicTickFormatter\"},{\"attributes\":{\"source\":{\"id\":\"41891949-19dd-4037-ab82-630a6a15d317\",\"type\":\"ColumnDataSource\"}},\"id\":\"5c024a63-67f5-42b0-a6e0-b4878736dcee\",\"type\":\"CDSView\"},{\"attributes\":{\"callback\":null,\"data\":{\"x\":{\"__ndarray__\":\"/Bteq23rpD8GOkau6w6kP247GQO0aKI/zMwRGTh/oD8lUysYo+mcPwiskc/6hpg/pxSjhfHNkz8oIVNNtKaNP7zP6wrtHYM/GM9xIp4GcD8AKIO+F7Fcv9AwF89wLH+/6AEsYK3bi7/wjgPznSuTv7Dm512GZ5a/QKzWtS5MmL8I5zk/b4eZv2gRD57NDpq/6DPEJy74mb8AmnKCZ3aZv0B94rvN6Ji/8KSZK8NdkL8AgMfeKcsXP2ApLmAkoYg/4pyEd//ikD9sUOEFDAOPPxa6PvHeWoU/eJ9AlMYKcz/gDYSIQmYkP1bbc56SlF+/Ls3Do9UjYb8i3awatPJTvyDDugW9Ih6/pLaxBjB3RT8S5rJNFFdSP5hcqaZmlVY/jBwr4D4sWD9YcxctNi5YPyrNYb/rblU/ArYsJVGmTj9QRfvPcGU7P2B3Bv+RvSy/MBXucbMzTb8Ipt2SpSxYv8i7rNHp4Vu/gEPAcx96Xb/4opOKGythv6hAUr4Z9GG/pApHCPOxYL+w/1WpHtFdv9bgkHOcYlq/MJDkBUTiV7/6+rUUiDNVv4KW/6RJhFO/4PewCVkzUr8IM7XgVDZRv6Bl/nkZgFC/OL+WsjsQUL/ADgPFsl1Qv6B8B0XEGE+/AAPm6hYkTr9AoLz21sJMv4BPvj0Zokq/IBDeZAjNR7/gW9yGNKxEv0B0jErGEkK/AEDSfc6iQL9ABIiukrpBv8BBweZlcUa/QEiMyoswRr8AOAEgeL9BvwBuBREjRjW/AAALwHcc576AP3uFGcUtPyCRUDdFfEY/\",\"dtype\":\"float64\",\"shape\":[75]},\"y\":{\"__ndarray__\":\"GhExyth1ND/Sv8nbtpRIP2vylNV0PVE/aTum7souWD/At0SJ8fVgPw3Iuahxymc/MSNhhJWvcD/bTfBN02d3P2zb5nxnaoA/CD5h5MAGhz8NmeH1TyaQP+zrCsc9p5Y/LbKd76fGnz/bLW5ISEmmPww9YvTcQq8/JV2OstnstT8Er5Y7M8G+P0c+r3jqkcU/5h99k6ZBzj88bCIzFzjVP4enV8oyxN0//yH99nXg5D8qOpLLf0jtP5kqGJXUifQ/c9cS8kHP/D+/DpwzojQEQIEmwoanVwxA4lgXt9HgE0BSSZ2AJuIbQAMJih9jjiNA5q4l5INuK0AwTKYKRj0zQNv5fmq8/DpAaCJseHrtQkB/+zpwzoxKQM3MzMzMeFJAZmZmZmZqWEAAAAAAAFxeQM3MzMzMJmJAmpmZmZkfZUBmZmZmZhhoQDMzMzMzEWtAAAAAAAAKbkBmZmZmZoFwQM3MzMzM/XFAMzMzMzN6c0CamZmZmfZ0QAAAAAAAc3ZAZmZmZmbvd0DNzMzMzGt5QDMzMzMz6HpAmpmZmZlkfEAAAAAAAOF9QGZmZmZmXX9AZmZmZuZsgECamZmZGSuBQM3MzMxM6YFAAAAAAICngkAzMzMzs2WDQGZmZmbmI4RAmpmZmRnihEDNzMzMTKCFQAAAAACAXoZAMzMzM7Mch0BmZmZm5tqHQJqZmZkZmYhAzczMzExXiUAAAAAAgBWKQDMzMzOz04pAZmZmZuaRi0CamZmZGVCMQM3MzMxMDo1AAAAAAIDMjUAzMzMzs4qOQGZmZmbmSI9A\",\"dtype\":\"float64\",\"shape\":[75]}},\"selected\":{\"id\":\"23a09311-9945-4d28-b64d-820d7b79053e\",\"type\":\"Selection\"},\"selection_policy\":{\"id\":\"4d39b02c-f6d8-4ad7-a65d-91c9ebcab21a\",\"type\":\"UnionRenderers\"}},\"id\":\"174418d3-478e-4111-adc6-1b3cd88a1110\",\"type\":\"ColumnDataSource\"},{\"attributes\":{},\"id\":\"ac7dd864-5011-4854-8c06-914c4f5c73e4\",\"type\":\"UnionRenderers\"}],\"root_ids\":[\"47d69104-ce87-43f1-b0a7-10008678557c\"]},\"title\":\"Bokeh Application\",\"version\":\"0.12.16\"}};\n",
       "  var render_items = [{\"docid\":\"384a2312-61c5-4151-942b-d39b978f4821\",\"elementid\":\"055fa39a-61f2-4ca9-a8ed-bc9bc6b974ff\",\"modelid\":\"47d69104-ce87-43f1-b0a7-10008678557c\"}];\n",
       "  root.Bokeh.embed.embed_items_notebook(docs_json, render_items);\n",
       "\n",
       "  }\n",
       "  if (root.Bokeh !== undefined) {\n",
       "    embed_document(root);\n",
       "  } else {\n",
       "    var attempts = 0;\n",
       "    var timer = setInterval(function(root) {\n",
       "      if (root.Bokeh !== undefined) {\n",
       "        embed_document(root);\n",
       "        clearInterval(timer);\n",
       "      }\n",
       "      attempts++;\n",
       "      if (attempts > 100) {\n",
       "        console.log(\"Bokeh: ERROR: Unable to run BokehJS code because BokehJS library is missing\")\n",
       "        clearInterval(timer);\n",
       "      }\n",
       "    }, 10, root)\n",
       "  }\n",
       "})(window);"
      ],
      "application/vnd.bokehjs_exec.v0+json": ""
     },
     "metadata": {
      "application/vnd.bokehjs_exec.v0+json": {
       "id": "47d69104-ce87-43f1-b0a7-10008678557c"
      }
     },
     "output_type": "display_data"
    },
    {
     "data": {
      "text/markdown": [
       "*FIGURE.* Cooling rates & difference."
      ],
      "text/plain": [
       "<IPython.core.display.Markdown object>"
      ]
     },
     "metadata": {},
     "output_type": "display_data"
    },
    {
     "data": {
      "text/html": [
       "<a id=\"Fluxes._saw.\"></a>"
      ],
      "text/plain": [
       "<IPython.core.display.HTML object>"
      ]
     },
     "metadata": {},
     "output_type": "display_data"
    },
    {
     "data": {
      "text/markdown": [
       "# Fluxes. saw."
      ],
      "text/plain": [
       "<IPython.core.display.Markdown object>"
      ]
     },
     "metadata": {},
     "output_type": "display_data"
    },
    {
     "data": {
      "text/html": [
       "\n",
       "<div class=\"bk-root\">\n",
       "    <div class=\"bk-plotdiv\" id=\"58ea57fd-8d4d-403a-b2d9-4b09e47495a9\"></div>\n",
       "</div>"
      ]
     },
     "metadata": {},
     "output_type": "display_data"
    },
    {
     "data": {
      "application/javascript": [
       "(function(root) {\n",
       "  function embed_document(root) {\n",
       "    \n",
       "  var docs_json = {\"87e2b0d8-e3c5-40d5-9072-c7c1246ae550\":{\"roots\":{\"references\":[{\"attributes\":{},\"id\":\"00b06b1d-51a0-4da6-b29e-8f8b192641d3\",\"type\":\"CategoricalTickFormatter\"},{\"attributes\":{\"axis_label\":\"flux (W m-2)\",\"formatter\":{\"id\":\"87818add-2b7a-4bb8-bb98-337549ae0c04\",\"type\":\"BasicTickFormatter\"},\"plot\":{\"id\":\"3ba74fbe-383e-4e85-ba0d-df57aa533571\",\"subtype\":\"Figure\",\"type\":\"Plot\"},\"ticker\":{\"id\":\"beb7d960-85e2-42c1-b57d-9d811e0c3e91\",\"type\":\"BasicTicker\"}},\"id\":\"bdf16b43-ebae-4487-ac98-19007a19b91e\",\"type\":\"LinearAxis\"},{\"attributes\":{},\"id\":\"87818add-2b7a-4bb8-bb98-337549ae0c04\",\"type\":\"BasicTickFormatter\"},{\"attributes\":{\"plot\":{\"id\":\"3ba74fbe-383e-4e85-ba0d-df57aa533571\",\"subtype\":\"Figure\",\"type\":\"Plot\"},\"ticker\":{\"id\":\"e30ee24e-f59f-4de8-9567-32a8f86725ba\",\"type\":\"CategoricalTicker\"}},\"id\":\"f8af6d6f-6d9b-4a28-a67f-e26005dd492c\",\"type\":\"Grid\"},{\"attributes\":{},\"id\":\"b8a95899-232a-4aad-8356-203ada720c5f\",\"type\":\"UnionRenderers\"},{\"attributes\":{},\"id\":\"46b37a40-6af1-4e92-8452-b574c3a933a2\",\"type\":\"LinearScale\"},{\"attributes\":{\"fill_alpha\":{\"value\":0.1},\"fill_color\":{\"value\":\"#1f77b4\"},\"line_alpha\":{\"value\":0.1},\"line_color\":{\"value\":\"#1f77b4\"},\"top\":{\"field\":\"flux\"},\"width\":{\"value\":0.9},\"x\":{\"field\":\"band\"}},\"id\":\"370f4145-8856-43e2-8716-a67d25242792\",\"type\":\"VBar\"},{\"attributes\":{},\"id\":\"beb7d960-85e2-42c1-b57d-9d811e0c3e91\",\"type\":\"BasicTicker\"},{\"attributes\":{\"dimension\":1,\"plot\":{\"id\":\"3ba74fbe-383e-4e85-ba0d-df57aa533571\",\"subtype\":\"Figure\",\"type\":\"Plot\"},\"ticker\":{\"id\":\"beb7d960-85e2-42c1-b57d-9d811e0c3e91\",\"type\":\"BasicTicker\"}},\"id\":\"3d979d03-2767-40ae-9805-3bc1edf7a082\",\"type\":\"Grid\"},{\"attributes\":{},\"id\":\"c8800383-e367-4b6d-840e-f28a8b1a7257\",\"type\":\"BasicTickFormatter\"},{\"attributes\":{\"fill_color\":{\"value\":\"#1f77b4\"},\"line_color\":{\"value\":\"#1f77b4\"},\"top\":{\"field\":\"flux\"},\"width\":{\"value\":0.9},\"x\":{\"field\":\"band\"}},\"id\":\"b32a8b0f-50bf-4ca8-9414-da9407eef7ff\",\"type\":\"VBar\"},{\"attributes\":{},\"id\":\"27a9863c-804b-449a-8bb6-b4cf4a366cad\",\"type\":\"Selection\"},{\"attributes\":{},\"id\":\"118c4f22-e25f-45fd-b7f0-d908234e50de\",\"type\":\"BasicTicker\"},{\"attributes\":{\"toolbar\":{\"id\":\"7df90d6c-bd24-4aff-87bd-0f911ee0c49b\",\"type\":\"ProxyToolbar\"},\"toolbar_location\":\"above\"},\"id\":\"3125e644-d6de-4fd0-9e09-a98b0f7e6ec6\",\"type\":\"ToolbarBox\"},{\"attributes\":{\"bottom_units\":\"screen\",\"fill_alpha\":{\"value\":0.5},\"fill_color\":{\"value\":\"lightgrey\"},\"left_units\":\"screen\",\"level\":\"overlay\",\"line_alpha\":{\"value\":1.0},\"line_color\":{\"value\":\"black\"},\"line_dash\":[4,4],\"line_width\":{\"value\":2},\"plot\":null,\"render_mode\":\"css\",\"right_units\":\"screen\",\"top_units\":\"screen\"},\"id\":\"ab93f79c-a92f-489e-87c0-d554ad5f31b1\",\"type\":\"BoxAnnotation\"},{\"attributes\":{},\"id\":\"ae5039a2-bb09-4ee9-8ed5-c1e9c7eaf438\",\"type\":\"PanTool\"},{\"attributes\":{\"callback\":null,\"data\":{\"band\":[\"9\"],\"flux\":{\"__ndarray__\":\"AHC9K/cMfT8=\",\"dtype\":\"float64\",\"shape\":[1]}},\"selected\":{\"id\":\"27a9863c-804b-449a-8bb6-b4cf4a366cad\",\"type\":\"Selection\"},\"selection_policy\":{\"id\":\"b8a95899-232a-4aad-8356-203ada720c5f\",\"type\":\"UnionRenderers\"}},\"id\":\"02a4bab1-8100-47cd-b0c5-87b6a1ccac40\",\"type\":\"ColumnDataSource\"},{\"attributes\":{},\"id\":\"b73d02a1-c849-4fb6-997a-d6341ca1dea7\",\"type\":\"Selection\"},{\"attributes\":{\"data_source\":{\"id\":\"02a4bab1-8100-47cd-b0c5-87b6a1ccac40\",\"type\":\"ColumnDataSource\"},\"glyph\":{\"id\":\"b32a8b0f-50bf-4ca8-9414-da9407eef7ff\",\"type\":\"VBar\"},\"hover_glyph\":null,\"muted_glyph\":null,\"nonselection_glyph\":{\"id\":\"370f4145-8856-43e2-8716-a67d25242792\",\"type\":\"VBar\"},\"selection_glyph\":null,\"view\":{\"id\":\"abe034ab-c7c7-47c6-85fe-72068842bed2\",\"type\":\"CDSView\"}},\"id\":\"eb2bddf4-447e-4bf0-9750-449c9d6a0647\",\"type\":\"GlyphRenderer\"},{\"attributes\":{},\"id\":\"b935ad5e-143d-4962-8eb1-46e48b14a37d\",\"type\":\"UnionRenderers\"},{\"attributes\":{},\"id\":\"4b0bc026-2753-48a5-8be1-abcd6383dfb2\",\"type\":\"WheelZoomTool\"},{\"attributes\":{\"overlay\":{\"id\":\"ab93f79c-a92f-489e-87c0-d554ad5f31b1\",\"type\":\"BoxAnnotation\"}},\"id\":\"27228555-0e26-4230-af97-bcb401d11d4d\",\"type\":\"BoxZoomTool\"},{\"attributes\":{},\"id\":\"40b0de88-fc7e-4ec8-afab-c5a2e7002099\",\"type\":\"SaveTool\"},{\"attributes\":{\"callback\":null,\"factors\":[\"9\"]},\"id\":\"86eff2e0-3024-451a-89e7-32e1579efc57\",\"type\":\"FactorRange\"},{\"attributes\":{},\"id\":\"87d4e175-3942-4016-b936-f7213afd905a\",\"type\":\"CategoricalTickFormatter\"},{\"attributes\":{},\"id\":\"85471c2d-cdc2-406e-86bd-62a533fc500a\",\"type\":\"ResetTool\"},{\"attributes\":{},\"id\":\"64d355f9-b99d-408b-b014-dc90994b2821\",\"type\":\"Selection\"},{\"attributes\":{},\"id\":\"746d6ba1-6019-4ec1-a6c6-b7ec6979bce7\",\"type\":\"HelpTool\"},{\"attributes\":{\"plot\":null,\"text\":\"TOA flux. CLIRAD - CRD.\"},\"id\":\"8a3d2817-b5ad-47fa-9f87-2fd3d215ab78\",\"type\":\"Title\"},{\"attributes\":{\"tools\":[{\"id\":\"ae5039a2-bb09-4ee9-8ed5-c1e9c7eaf438\",\"type\":\"PanTool\"},{\"id\":\"4b0bc026-2753-48a5-8be1-abcd6383dfb2\",\"type\":\"WheelZoomTool\"},{\"id\":\"27228555-0e26-4230-af97-bcb401d11d4d\",\"type\":\"BoxZoomTool\"},{\"id\":\"40b0de88-fc7e-4ec8-afab-c5a2e7002099\",\"type\":\"SaveTool\"},{\"id\":\"85471c2d-cdc2-406e-86bd-62a533fc500a\",\"type\":\"ResetTool\"},{\"id\":\"746d6ba1-6019-4ec1-a6c6-b7ec6979bce7\",\"type\":\"HelpTool\"},{\"id\":\"a3add229-42aa-418b-9a29-39f6faa09c2f\",\"type\":\"PanTool\"},{\"id\":\"6c8d0416-1375-4960-a02e-0ddd3901370d\",\"type\":\"WheelZoomTool\"},{\"id\":\"0e3b6403-554c-423f-9eac-73c267138367\",\"type\":\"BoxZoomTool\"},{\"id\":\"97d4a029-a87f-46f6-9e34-af39eab4cfd2\",\"type\":\"SaveTool\"},{\"id\":\"bae16a72-01b9-4f32-8429-a985d3cd0dc5\",\"type\":\"ResetTool\"},{\"id\":\"db0a5228-4c96-4fd3-b3b1-7effb93eb8ed\",\"type\":\"HelpTool\"},{\"id\":\"7c9586e0-5128-47ed-b8e9-a4e1f593f9eb\",\"type\":\"PanTool\"},{\"id\":\"00fb85b8-0d1d-408f-910a-3827ba6b54a8\",\"type\":\"WheelZoomTool\"},{\"id\":\"6f2c2abf-324a-49c8-9bc7-5bed208da208\",\"type\":\"BoxZoomTool\"},{\"id\":\"46904f22-934c-4289-bd5e-29a3a64ef075\",\"type\":\"SaveTool\"},{\"id\":\"27e2a10f-3a30-4427-a7bc-4ff41c2a3203\",\"type\":\"ResetTool\"},{\"id\":\"b9c47610-6be9-41f3-b125-a4e8bd7d0d7d\",\"type\":\"HelpTool\"}]},\"id\":\"7df90d6c-bd24-4aff-87bd-0f911ee0c49b\",\"type\":\"ProxyToolbar\"},{\"attributes\":{\"below\":[{\"id\":\"87d83fd5-931a-475e-a751-04999917da75\",\"type\":\"CategoricalAxis\"}],\"left\":[{\"id\":\"bdf16b43-ebae-4487-ac98-19007a19b91e\",\"type\":\"LinearAxis\"}],\"plot_height\":300,\"plot_width\":300,\"renderers\":[{\"id\":\"87d83fd5-931a-475e-a751-04999917da75\",\"type\":\"CategoricalAxis\"},{\"id\":\"f8af6d6f-6d9b-4a28-a67f-e26005dd492c\",\"type\":\"Grid\"},{\"id\":\"bdf16b43-ebae-4487-ac98-19007a19b91e\",\"type\":\"LinearAxis\"},{\"id\":\"3d979d03-2767-40ae-9805-3bc1edf7a082\",\"type\":\"Grid\"},{\"id\":\"ab93f79c-a92f-489e-87c0-d554ad5f31b1\",\"type\":\"BoxAnnotation\"},{\"id\":\"eb2bddf4-447e-4bf0-9750-449c9d6a0647\",\"type\":\"GlyphRenderer\"}],\"title\":{\"id\":\"8a3d2817-b5ad-47fa-9f87-2fd3d215ab78\",\"type\":\"Title\"},\"toolbar\":{\"id\":\"4a144f03-69ff-48f3-929d-1d2e9cf89c17\",\"type\":\"Toolbar\"},\"toolbar_location\":null,\"x_range\":{\"id\":\"86eff2e0-3024-451a-89e7-32e1579efc57\",\"type\":\"FactorRange\"},\"x_scale\":{\"id\":\"c79ca644-f4bd-4b09-8c80-586267154bf9\",\"type\":\"CategoricalScale\"},\"y_range\":{\"id\":\"3ac61e0a-cabb-4b8d-b369-4d58c5d94e68\",\"type\":\"DataRange1d\"},\"y_scale\":{\"id\":\"9efa598a-92b1-4f5a-aa85-099ec61ba609\",\"type\":\"LinearScale\"}},\"id\":\"3ba74fbe-383e-4e85-ba0d-df57aa533571\",\"subtype\":\"Figure\",\"type\":\"Plot\"},{\"attributes\":{\"source\":{\"id\":\"02a4bab1-8100-47cd-b0c5-87b6a1ccac40\",\"type\":\"ColumnDataSource\"}},\"id\":\"abe034ab-c7c7-47c6-85fe-72068842bed2\",\"type\":\"CDSView\"},{\"attributes\":{\"callback\":null},\"id\":\"5ec7b46d-62f1-4452-9909-77234ac52cdf\",\"type\":\"DataRange1d\"},{\"attributes\":{\"plot\":{\"id\":\"9d79d30d-08ee-4d9d-a601-2543f22226e5\",\"subtype\":\"Figure\",\"type\":\"Plot\"},\"ticker\":{\"id\":\"fbeabc7c-929d-455f-aeb4-b418e924c5fe\",\"type\":\"CategoricalTicker\"}},\"id\":\"553dacfc-0bae-461f-8998-f483e0fb5308\",\"type\":\"Grid\"},{\"attributes\":{},\"id\":\"43c689ba-5716-4c1f-b4b2-f10bb93d45d7\",\"type\":\"BasicTickFormatter\"},{\"attributes\":{\"fill_alpha\":{\"value\":0.1},\"fill_color\":{\"value\":\"#1f77b4\"},\"line_alpha\":{\"value\":0.1},\"line_color\":{\"value\":\"#1f77b4\"},\"top\":{\"field\":\"flux\"},\"width\":{\"value\":0.9},\"x\":{\"field\":\"band\"}},\"id\":\"85f8583f-4836-4b8b-aa88-80042db69f1f\",\"type\":\"VBar\"},{\"attributes\":{\"callback\":null,\"data\":{\"band\":[\"9\"],\"flux\":{\"__ndarray__\":\"AFRN0Ot2sT8=\",\"dtype\":\"float64\",\"shape\":[1]}},\"selected\":{\"id\":\"b73d02a1-c849-4fb6-997a-d6341ca1dea7\",\"type\":\"Selection\"},\"selection_policy\":{\"id\":\"18f5c686-53b7-489f-a6ad-54cfdebbb0eb\",\"type\":\"UnionRenderers\"}},\"id\":\"804dba44-a3da-4179-a27c-f864320614f4\",\"type\":\"ColumnDataSource\"},{\"attributes\":{\"active_drag\":\"auto\",\"active_inspect\":\"auto\",\"active_scroll\":\"auto\",\"active_tap\":\"auto\",\"tools\":[{\"id\":\"ae5039a2-bb09-4ee9-8ed5-c1e9c7eaf438\",\"type\":\"PanTool\"},{\"id\":\"4b0bc026-2753-48a5-8be1-abcd6383dfb2\",\"type\":\"WheelZoomTool\"},{\"id\":\"27228555-0e26-4230-af97-bcb401d11d4d\",\"type\":\"BoxZoomTool\"},{\"id\":\"40b0de88-fc7e-4ec8-afab-c5a2e7002099\",\"type\":\"SaveTool\"},{\"id\":\"85471c2d-cdc2-406e-86bd-62a533fc500a\",\"type\":\"ResetTool\"},{\"id\":\"746d6ba1-6019-4ec1-a6c6-b7ec6979bce7\",\"type\":\"HelpTool\"}]},\"id\":\"4a144f03-69ff-48f3-929d-1d2e9cf89c17\",\"type\":\"Toolbar\"},{\"attributes\":{\"callback\":null,\"factors\":[\"9\"]},\"id\":\"58ad7903-fdb9-4c5f-9d4d-bde2f44b519d\",\"type\":\"FactorRange\"},{\"attributes\":{\"active_drag\":\"auto\",\"active_inspect\":\"auto\",\"active_scroll\":\"auto\",\"active_tap\":\"auto\",\"tools\":[{\"id\":\"7c9586e0-5128-47ed-b8e9-a4e1f593f9eb\",\"type\":\"PanTool\"},{\"id\":\"00fb85b8-0d1d-408f-910a-3827ba6b54a8\",\"type\":\"WheelZoomTool\"},{\"id\":\"6f2c2abf-324a-49c8-9bc7-5bed208da208\",\"type\":\"BoxZoomTool\"},{\"id\":\"46904f22-934c-4289-bd5e-29a3a64ef075\",\"type\":\"SaveTool\"},{\"id\":\"27e2a10f-3a30-4427-a7bc-4ff41c2a3203\",\"type\":\"ResetTool\"},{\"id\":\"b9c47610-6be9-41f3-b125-a4e8bd7d0d7d\",\"type\":\"HelpTool\"}]},\"id\":\"dabd7be3-c4ad-4125-bb62-6da293b0cd99\",\"type\":\"Toolbar\"},{\"attributes\":{\"below\":[{\"id\":\"7f74d3dd-d4bd-445d-b36b-446bd20c8553\",\"type\":\"CategoricalAxis\"}],\"left\":[{\"id\":\"30bbd7a5-2214-4993-a877-7aa562441337\",\"type\":\"LinearAxis\"}],\"plot_height\":300,\"plot_width\":300,\"renderers\":[{\"id\":\"7f74d3dd-d4bd-445d-b36b-446bd20c8553\",\"type\":\"CategoricalAxis\"},{\"id\":\"553dacfc-0bae-461f-8998-f483e0fb5308\",\"type\":\"Grid\"},{\"id\":\"30bbd7a5-2214-4993-a877-7aa562441337\",\"type\":\"LinearAxis\"},{\"id\":\"33659c53-8f15-41da-ac17-6b2b641fec21\",\"type\":\"Grid\"},{\"id\":\"26e758e9-9424-4288-9240-6994acf1f629\",\"type\":\"BoxAnnotation\"},{\"id\":\"0f0cf35f-0b26-4639-8989-0754c208ccff\",\"type\":\"GlyphRenderer\"}],\"title\":{\"id\":\"2fb366f4-4018-4f31-a807-9c69b1fc7170\",\"type\":\"Title\"},\"toolbar\":{\"id\":\"dabd7be3-c4ad-4125-bb62-6da293b0cd99\",\"type\":\"Toolbar\"},\"toolbar_location\":null,\"x_range\":{\"id\":\"58ad7903-fdb9-4c5f-9d4d-bde2f44b519d\",\"type\":\"FactorRange\"},\"x_scale\":{\"id\":\"8ebe8963-4393-4539-b773-47a526ce7b16\",\"type\":\"CategoricalScale\"},\"y_range\":{\"id\":\"53e8d947-67cc-4a34-b1db-9bf39d08320a\",\"type\":\"DataRange1d\"},\"y_scale\":{\"id\":\"46b37a40-6af1-4e92-8452-b574c3a933a2\",\"type\":\"LinearScale\"}},\"id\":\"9d79d30d-08ee-4d9d-a601-2543f22226e5\",\"subtype\":\"Figure\",\"type\":\"Plot\"},{\"attributes\":{},\"id\":\"8ebe8963-4393-4539-b773-47a526ce7b16\",\"type\":\"CategoricalScale\"},{\"attributes\":{},\"id\":\"c79ca644-f4bd-4b09-8c80-586267154bf9\",\"type\":\"CategoricalScale\"},{\"attributes\":{},\"id\":\"18f5c686-53b7-489f-a6ad-54cfdebbb0eb\",\"type\":\"UnionRenderers\"},{\"attributes\":{\"axis_label\":\"flux (W m-2)\",\"formatter\":{\"id\":\"43c689ba-5716-4c1f-b4b2-f10bb93d45d7\",\"type\":\"BasicTickFormatter\"},\"plot\":{\"id\":\"9d79d30d-08ee-4d9d-a601-2543f22226e5\",\"subtype\":\"Figure\",\"type\":\"Plot\"},\"ticker\":{\"id\":\"db2014c4-ed34-40ea-a426-d5216457a758\",\"type\":\"BasicTicker\"}},\"id\":\"30bbd7a5-2214-4993-a877-7aa562441337\",\"type\":\"LinearAxis\"},{\"attributes\":{\"plot\":null,\"text\":\"SFC flux. CLIRAD - CRD.\"},\"id\":\"ae7607b2-b7f7-4e36-9f05-224e26d0cecb\",\"type\":\"Title\"},{\"attributes\":{\"callback\":null},\"id\":\"3ac61e0a-cabb-4b8d-b369-4d58c5d94e68\",\"type\":\"DataRange1d\"},{\"attributes\":{\"axis_label\":\"spectral band\",\"formatter\":{\"id\":\"a6576373-6854-4fdb-9592-d93d6447b72b\",\"type\":\"CategoricalTickFormatter\"},\"plot\":{\"id\":\"9d79d30d-08ee-4d9d-a601-2543f22226e5\",\"subtype\":\"Figure\",\"type\":\"Plot\"},\"ticker\":{\"id\":\"fbeabc7c-929d-455f-aeb4-b418e924c5fe\",\"type\":\"CategoricalTicker\"}},\"id\":\"7f74d3dd-d4bd-445d-b36b-446bd20c8553\",\"type\":\"CategoricalAxis\"},{\"attributes\":{},\"id\":\"e30ee24e-f59f-4de8-9567-32a8f86725ba\",\"type\":\"CategoricalTicker\"},{\"attributes\":{},\"id\":\"1aaa1c34-af71-4716-9fcc-4c080a63da4a\",\"type\":\"CategoricalTicker\"},{\"attributes\":{},\"id\":\"46904f22-934c-4289-bd5e-29a3a64ef075\",\"type\":\"SaveTool\"},{\"attributes\":{\"axis_label\":\"spectral band\",\"formatter\":{\"id\":\"87d4e175-3942-4016-b936-f7213afd905a\",\"type\":\"CategoricalTickFormatter\"},\"plot\":{\"id\":\"32c329cb-e1f9-4ca5-8016-5ed3eccc5e34\",\"subtype\":\"Figure\",\"type\":\"Plot\"},\"ticker\":{\"id\":\"1aaa1c34-af71-4716-9fcc-4c080a63da4a\",\"type\":\"CategoricalTicker\"}},\"id\":\"79d2db53-b2b4-4cdc-960b-57d2241a7454\",\"type\":\"CategoricalAxis\"},{\"attributes\":{\"plot\":{\"id\":\"32c329cb-e1f9-4ca5-8016-5ed3eccc5e34\",\"subtype\":\"Figure\",\"type\":\"Plot\"},\"ticker\":{\"id\":\"1aaa1c34-af71-4716-9fcc-4c080a63da4a\",\"type\":\"CategoricalTicker\"}},\"id\":\"c4671bc1-2c22-4ce4-a1d0-72f114e0b8fd\",\"type\":\"Grid\"},{\"attributes\":{\"plot\":null,\"text\":\"Atmosphere heating. CLIRAD - CRD.\"},\"id\":\"2fb366f4-4018-4f31-a807-9c69b1fc7170\",\"type\":\"Title\"},{\"attributes\":{\"axis_label\":\"flux (W m-2)\",\"formatter\":{\"id\":\"c8800383-e367-4b6d-840e-f28a8b1a7257\",\"type\":\"BasicTickFormatter\"},\"plot\":{\"id\":\"32c329cb-e1f9-4ca5-8016-5ed3eccc5e34\",\"subtype\":\"Figure\",\"type\":\"Plot\"},\"ticker\":{\"id\":\"118c4f22-e25f-45fd-b7f0-d908234e50de\",\"type\":\"BasicTicker\"}},\"id\":\"2765cc7a-c09e-4a78-a877-3b8585f6a6ce\",\"type\":\"LinearAxis\"},{\"attributes\":{},\"id\":\"fcc626ff-24af-43f9-85f9-c7e5e04dff2f\",\"type\":\"CategoricalScale\"},{\"attributes\":{},\"id\":\"a6576373-6854-4fdb-9592-d93d6447b72b\",\"type\":\"CategoricalTickFormatter\"},{\"attributes\":{\"overlay\":{\"id\":\"26e758e9-9424-4288-9240-6994acf1f629\",\"type\":\"BoxAnnotation\"}},\"id\":\"6f2c2abf-324a-49c8-9bc7-5bed208da208\",\"type\":\"BoxZoomTool\"},{\"attributes\":{},\"id\":\"9efa598a-92b1-4f5a-aa85-099ec61ba609\",\"type\":\"LinearScale\"},{\"attributes\":{},\"id\":\"27e2a10f-3a30-4427-a7bc-4ff41c2a3203\",\"type\":\"ResetTool\"},{\"attributes\":{},\"id\":\"822200e6-46e7-4861-baae-a23e87a20ca0\",\"type\":\"LinearScale\"},{\"attributes\":{\"dimension\":1,\"plot\":{\"id\":\"32c329cb-e1f9-4ca5-8016-5ed3eccc5e34\",\"subtype\":\"Figure\",\"type\":\"Plot\"},\"ticker\":{\"id\":\"118c4f22-e25f-45fd-b7f0-d908234e50de\",\"type\":\"BasicTicker\"}},\"id\":\"1c8bb63e-2523-42be-abe0-2a95b41e27b9\",\"type\":\"Grid\"},{\"attributes\":{\"callback\":null},\"id\":\"53e8d947-67cc-4a34-b1db-9bf39d08320a\",\"type\":\"DataRange1d\"},{\"attributes\":{},\"id\":\"00fb85b8-0d1d-408f-910a-3827ba6b54a8\",\"type\":\"WheelZoomTool\"},{\"attributes\":{\"callback\":null,\"factors\":[\"9\"]},\"id\":\"6abfd6ce-5a9e-4c0e-a95f-b2d65711ea53\",\"type\":\"FactorRange\"},{\"attributes\":{\"bottom_units\":\"screen\",\"fill_alpha\":{\"value\":0.5},\"fill_color\":{\"value\":\"lightgrey\"},\"left_units\":\"screen\",\"level\":\"overlay\",\"line_alpha\":{\"value\":1.0},\"line_color\":{\"value\":\"black\"},\"line_dash\":[4,4],\"line_width\":{\"value\":2},\"plot\":null,\"render_mode\":\"css\",\"right_units\":\"screen\",\"top_units\":\"screen\"},\"id\":\"26e758e9-9424-4288-9240-6994acf1f629\",\"type\":\"BoxAnnotation\"},{\"attributes\":{\"active_drag\":\"auto\",\"active_inspect\":\"auto\",\"active_scroll\":\"auto\",\"active_tap\":\"auto\",\"tools\":[{\"id\":\"a3add229-42aa-418b-9a29-39f6faa09c2f\",\"type\":\"PanTool\"},{\"id\":\"6c8d0416-1375-4960-a02e-0ddd3901370d\",\"type\":\"WheelZoomTool\"},{\"id\":\"0e3b6403-554c-423f-9eac-73c267138367\",\"type\":\"BoxZoomTool\"},{\"id\":\"97d4a029-a87f-46f6-9e34-af39eab4cfd2\",\"type\":\"SaveTool\"},{\"id\":\"bae16a72-01b9-4f32-8429-a985d3cd0dc5\",\"type\":\"ResetTool\"},{\"id\":\"db0a5228-4c96-4fd3-b3b1-7effb93eb8ed\",\"type\":\"HelpTool\"}]},\"id\":\"ccc6a443-10e8-43e2-b0a7-14b0079bf0d6\",\"type\":\"Toolbar\"},{\"attributes\":{},\"id\":\"7c9586e0-5128-47ed-b8e9-a4e1f593f9eb\",\"type\":\"PanTool\"},{\"attributes\":{\"fill_color\":{\"value\":\"#1f77b4\"},\"line_color\":{\"value\":\"#1f77b4\"},\"top\":{\"field\":\"flux\"},\"width\":{\"value\":0.9},\"x\":{\"field\":\"band\"}},\"id\":\"a08d0c08-ee7e-4587-b4f4-7e21b320b9ea\",\"type\":\"VBar\"},{\"attributes\":{\"data_source\":{\"id\":\"804dba44-a3da-4179-a27c-f864320614f4\",\"type\":\"ColumnDataSource\"},\"glyph\":{\"id\":\"58838e9b-94fa-4d03-bc0a-b2546cf62d2b\",\"type\":\"VBar\"},\"hover_glyph\":null,\"muted_glyph\":null,\"nonselection_glyph\":{\"id\":\"56e70a39-5772-4aab-b3f5-bffbef5c4f5a\",\"type\":\"VBar\"},\"selection_glyph\":null,\"view\":{\"id\":\"74f30671-a99c-42a9-a601-97953e1702d9\",\"type\":\"CDSView\"}},\"id\":\"0f0cf35f-0b26-4639-8989-0754c208ccff\",\"type\":\"GlyphRenderer\"},{\"attributes\":{\"children\":[{\"id\":\"55d39b5d-74a5-4288-8c7c-1e15d91fbaf8\",\"type\":\"Row\"}]},\"id\":\"6792bb19-2710-40e5-9691-39c55f715b65\",\"type\":\"Column\"},{\"attributes\":{\"bottom_units\":\"screen\",\"fill_alpha\":{\"value\":0.5},\"fill_color\":{\"value\":\"lightgrey\"},\"left_units\":\"screen\",\"level\":\"overlay\",\"line_alpha\":{\"value\":1.0},\"line_color\":{\"value\":\"black\"},\"line_dash\":[4,4],\"line_width\":{\"value\":2},\"plot\":null,\"render_mode\":\"css\",\"right_units\":\"screen\",\"top_units\":\"screen\"},\"id\":\"a95ee2be-85f0-4a1d-b6ff-f8e824b9a668\",\"type\":\"BoxAnnotation\"},{\"attributes\":{},\"id\":\"a3add229-42aa-418b-9a29-39f6faa09c2f\",\"type\":\"PanTool\"},{\"attributes\":{\"fill_color\":{\"value\":\"#1f77b4\"},\"line_color\":{\"value\":\"#1f77b4\"},\"top\":{\"field\":\"flux\"},\"width\":{\"value\":0.9},\"x\":{\"field\":\"band\"}},\"id\":\"58838e9b-94fa-4d03-bc0a-b2546cf62d2b\",\"type\":\"VBar\"},{\"attributes\":{\"data_source\":{\"id\":\"1e9134ff-bc7a-45f2-af9a-2e9247f6459f\",\"type\":\"ColumnDataSource\"},\"glyph\":{\"id\":\"a08d0c08-ee7e-4587-b4f4-7e21b320b9ea\",\"type\":\"VBar\"},\"hover_glyph\":null,\"muted_glyph\":null,\"nonselection_glyph\":{\"id\":\"85f8583f-4836-4b8b-aa88-80042db69f1f\",\"type\":\"VBar\"},\"selection_glyph\":null,\"view\":{\"id\":\"d8da1a66-23ab-475b-8188-dfbbdda78fbf\",\"type\":\"CDSView\"}},\"id\":\"8e955154-178f-4741-a0b1-948eb7749d18\",\"type\":\"GlyphRenderer\"},{\"attributes\":{\"source\":{\"id\":\"804dba44-a3da-4179-a27c-f864320614f4\",\"type\":\"ColumnDataSource\"}},\"id\":\"74f30671-a99c-42a9-a601-97953e1702d9\",\"type\":\"CDSView\"},{\"attributes\":{},\"id\":\"6c8d0416-1375-4960-a02e-0ddd3901370d\",\"type\":\"WheelZoomTool\"},{\"attributes\":{\"axis_label\":\"spectral band\",\"formatter\":{\"id\":\"00b06b1d-51a0-4da6-b29e-8f8b192641d3\",\"type\":\"CategoricalTickFormatter\"},\"plot\":{\"id\":\"3ba74fbe-383e-4e85-ba0d-df57aa533571\",\"subtype\":\"Figure\",\"type\":\"Plot\"},\"ticker\":{\"id\":\"e30ee24e-f59f-4de8-9567-32a8f86725ba\",\"type\":\"CategoricalTicker\"}},\"id\":\"87d83fd5-931a-475e-a751-04999917da75\",\"type\":\"CategoricalAxis\"},{\"attributes\":{\"dimension\":1,\"plot\":{\"id\":\"9d79d30d-08ee-4d9d-a601-2543f22226e5\",\"subtype\":\"Figure\",\"type\":\"Plot\"},\"ticker\":{\"id\":\"db2014c4-ed34-40ea-a426-d5216457a758\",\"type\":\"BasicTicker\"}},\"id\":\"33659c53-8f15-41da-ac17-6b2b641fec21\",\"type\":\"Grid\"},{\"attributes\":{\"overlay\":{\"id\":\"a95ee2be-85f0-4a1d-b6ff-f8e824b9a668\",\"type\":\"BoxAnnotation\"}},\"id\":\"0e3b6403-554c-423f-9eac-73c267138367\",\"type\":\"BoxZoomTool\"},{\"attributes\":{\"callback\":null,\"data\":{\"band\":[\"9\"],\"flux\":{\"__ndarray__\":\"ADhi1z1Mr78=\",\"dtype\":\"float64\",\"shape\":[1]}},\"selected\":{\"id\":\"64d355f9-b99d-408b-b014-dc90994b2821\",\"type\":\"Selection\"},\"selection_policy\":{\"id\":\"b935ad5e-143d-4962-8eb1-46e48b14a37d\",\"type\":\"UnionRenderers\"}},\"id\":\"1e9134ff-bc7a-45f2-af9a-2e9247f6459f\",\"type\":\"ColumnDataSource\"},{\"attributes\":{},\"id\":\"db2014c4-ed34-40ea-a426-d5216457a758\",\"type\":\"BasicTicker\"},{\"attributes\":{},\"id\":\"97d4a029-a87f-46f6-9e34-af39eab4cfd2\",\"type\":\"SaveTool\"},{\"attributes\":{},\"id\":\"fbeabc7c-929d-455f-aeb4-b418e924c5fe\",\"type\":\"CategoricalTicker\"},{\"attributes\":{},\"id\":\"bae16a72-01b9-4f32-8429-a985d3cd0dc5\",\"type\":\"ResetTool\"},{\"attributes\":{\"children\":[{\"id\":\"3125e644-d6de-4fd0-9e09-a98b0f7e6ec6\",\"type\":\"ToolbarBox\"},{\"id\":\"6792bb19-2710-40e5-9691-39c55f715b65\",\"type\":\"Column\"}]},\"id\":\"993a7fe5-a121-420f-b33a-1a540b32376e\",\"type\":\"Column\"},{\"attributes\":{},\"id\":\"db0a5228-4c96-4fd3-b3b1-7effb93eb8ed\",\"type\":\"HelpTool\"},{\"attributes\":{\"fill_alpha\":{\"value\":0.1},\"fill_color\":{\"value\":\"#1f77b4\"},\"line_alpha\":{\"value\":0.1},\"line_color\":{\"value\":\"#1f77b4\"},\"top\":{\"field\":\"flux\"},\"width\":{\"value\":0.9},\"x\":{\"field\":\"band\"}},\"id\":\"56e70a39-5772-4aab-b3f5-bffbef5c4f5a\",\"type\":\"VBar\"},{\"attributes\":{\"children\":[{\"id\":\"3ba74fbe-383e-4e85-ba0d-df57aa533571\",\"subtype\":\"Figure\",\"type\":\"Plot\"},{\"id\":\"32c329cb-e1f9-4ca5-8016-5ed3eccc5e34\",\"subtype\":\"Figure\",\"type\":\"Plot\"},{\"id\":\"9d79d30d-08ee-4d9d-a601-2543f22226e5\",\"subtype\":\"Figure\",\"type\":\"Plot\"}]},\"id\":\"55d39b5d-74a5-4288-8c7c-1e15d91fbaf8\",\"type\":\"Row\"},{\"attributes\":{\"below\":[{\"id\":\"79d2db53-b2b4-4cdc-960b-57d2241a7454\",\"type\":\"CategoricalAxis\"}],\"left\":[{\"id\":\"2765cc7a-c09e-4a78-a877-3b8585f6a6ce\",\"type\":\"LinearAxis\"}],\"plot_height\":300,\"plot_width\":300,\"renderers\":[{\"id\":\"79d2db53-b2b4-4cdc-960b-57d2241a7454\",\"type\":\"CategoricalAxis\"},{\"id\":\"c4671bc1-2c22-4ce4-a1d0-72f114e0b8fd\",\"type\":\"Grid\"},{\"id\":\"2765cc7a-c09e-4a78-a877-3b8585f6a6ce\",\"type\":\"LinearAxis\"},{\"id\":\"1c8bb63e-2523-42be-abe0-2a95b41e27b9\",\"type\":\"Grid\"},{\"id\":\"a95ee2be-85f0-4a1d-b6ff-f8e824b9a668\",\"type\":\"BoxAnnotation\"},{\"id\":\"8e955154-178f-4741-a0b1-948eb7749d18\",\"type\":\"GlyphRenderer\"}],\"title\":{\"id\":\"ae7607b2-b7f7-4e36-9f05-224e26d0cecb\",\"type\":\"Title\"},\"toolbar\":{\"id\":\"ccc6a443-10e8-43e2-b0a7-14b0079bf0d6\",\"type\":\"Toolbar\"},\"toolbar_location\":null,\"x_range\":{\"id\":\"6abfd6ce-5a9e-4c0e-a95f-b2d65711ea53\",\"type\":\"FactorRange\"},\"x_scale\":{\"id\":\"fcc626ff-24af-43f9-85f9-c7e5e04dff2f\",\"type\":\"CategoricalScale\"},\"y_range\":{\"id\":\"5ec7b46d-62f1-4452-9909-77234ac52cdf\",\"type\":\"DataRange1d\"},\"y_scale\":{\"id\":\"822200e6-46e7-4861-baae-a23e87a20ca0\",\"type\":\"LinearScale\"}},\"id\":\"32c329cb-e1f9-4ca5-8016-5ed3eccc5e34\",\"subtype\":\"Figure\",\"type\":\"Plot\"},{\"attributes\":{\"source\":{\"id\":\"1e9134ff-bc7a-45f2-af9a-2e9247f6459f\",\"type\":\"ColumnDataSource\"}},\"id\":\"d8da1a66-23ab-475b-8188-dfbbdda78fbf\",\"type\":\"CDSView\"},{\"attributes\":{},\"id\":\"b9c47610-6be9-41f3-b125-a4e8bd7d0d7d\",\"type\":\"HelpTool\"}],\"root_ids\":[\"993a7fe5-a121-420f-b33a-1a540b32376e\"]},\"title\":\"Bokeh Application\",\"version\":\"0.12.16\"}};\n",
       "  var render_items = [{\"docid\":\"87e2b0d8-e3c5-40d5-9072-c7c1246ae550\",\"elementid\":\"58ea57fd-8d4d-403a-b2d9-4b09e47495a9\",\"modelid\":\"993a7fe5-a121-420f-b33a-1a540b32376e\"}];\n",
       "  root.Bokeh.embed.embed_items_notebook(docs_json, render_items);\n",
       "\n",
       "  }\n",
       "  if (root.Bokeh !== undefined) {\n",
       "    embed_document(root);\n",
       "  } else {\n",
       "    var attempts = 0;\n",
       "    var timer = setInterval(function(root) {\n",
       "      if (root.Bokeh !== undefined) {\n",
       "        embed_document(root);\n",
       "        clearInterval(timer);\n",
       "      }\n",
       "      attempts++;\n",
       "      if (attempts > 100) {\n",
       "        console.log(\"Bokeh: ERROR: Unable to run BokehJS code because BokehJS library is missing\")\n",
       "        clearInterval(timer);\n",
       "      }\n",
       "    }, 10, root)\n",
       "  }\n",
       "})(window);"
      ],
      "application/vnd.bokehjs_exec.v0+json": ""
     },
     "metadata": {
      "application/vnd.bokehjs_exec.v0+json": {
       "id": "993a7fe5-a121-420f-b33a-1a540b32376e"
      }
     },
     "output_type": "display_data"
    },
    {
     "data": {
      "text/markdown": [
       "*FIGURE.* Difference between CLIRAD and CRD in TOA, SFC and net atmosphere flux, in each spectral band."
      ],
      "text/plain": [
       "<IPython.core.display.Markdown object>"
      ]
     },
     "metadata": {},
     "output_type": "display_data"
    },
    {
     "data": {
      "text/html": [
       "<div>\n",
       "<style scoped>\n",
       "    .dataframe tbody tr th:only-of-type {\n",
       "        vertical-align: middle;\n",
       "    }\n",
       "\n",
       "    .dataframe tbody tr th {\n",
       "        vertical-align: top;\n",
       "    }\n",
       "\n",
       "    .dataframe thead th {\n",
       "        text-align: right;\n",
       "    }\n",
       "</style>\n",
       "<table border=\"1\" class=\"dataframe\">\n",
       "  <thead>\n",
       "    <tr style=\"text-align: right;\">\n",
       "      <th></th>\n",
       "      <th>OLR flux</th>\n",
       "      <th>SFC flux</th>\n",
       "      <th>ATM heating</th>\n",
       "    </tr>\n",
       "    <tr>\n",
       "      <th>Sum over bands</th>\n",
       "      <th></th>\n",
       "      <th></th>\n",
       "      <th></th>\n",
       "    </tr>\n",
       "  </thead>\n",
       "  <tbody>\n",
       "    <tr>\n",
       "      <th>CLIRAD - CRD</th>\n",
       "      <td>0.01</td>\n",
       "      <td>-0.06</td>\n",
       "      <td>0.07</td>\n",
       "    </tr>\n",
       "    <tr>\n",
       "      <th>CRD</th>\n",
       "      <td>-8.19</td>\n",
       "      <td>2.77</td>\n",
       "      <td>-1.40</td>\n",
       "    </tr>\n",
       "  </tbody>\n",
       "</table>\n",
       "</div>"
      ],
      "text/plain": [
       "                OLR flux  SFC flux  ATM heating\n",
       "Sum over bands                                 \n",
       "CLIRAD - CRD        0.01     -0.06         0.07\n",
       "CRD                -8.19      2.77        -1.40"
      ]
     },
     "metadata": {},
     "output_type": "display_data"
    },
    {
     "data": {
      "text/markdown": [
       "*TABLE.* Difference between CLIRAD and CRD in TOA, SFC and net atmosphere flux, over all spectral bands. CRD's TOA, SFC and net atmosphere flux, over all spectral bands."
      ],
      "text/plain": [
       "<IPython.core.display.Markdown object>"
      ]
     },
     "metadata": {},
     "output_type": "display_data"
    },
    {
     "data": {
      "text/html": [
       "<a id=\"Parameters_of_runs._trp\"></a>"
      ],
      "text/plain": [
       "<IPython.core.display.HTML object>"
      ]
     },
     "metadata": {},
     "output_type": "display_data"
    },
    {
     "data": {
      "text/markdown": [
       "# Parameters of runs. trp"
      ],
      "text/plain": [
       "<IPython.core.display.Markdown object>"
      ]
     },
     "metadata": {},
     "output_type": "display_data"
    },
    {
     "data": {
      "text/html": [
       "<div>\n",
       "<style scoped>\n",
       "    .dataframe tbody tr th:only-of-type {\n",
       "        vertical-align: middle;\n",
       "    }\n",
       "\n",
       "    .dataframe tbody tr th {\n",
       "        vertical-align: top;\n",
       "    }\n",
       "\n",
       "    .dataframe thead tr th {\n",
       "        text-align: left;\n",
       "    }\n",
       "</style>\n",
       "<table border=\"1\" class=\"dataframe\">\n",
       "  <thead>\n",
       "    <tr>\n",
       "      <th></th>\n",
       "      <th>clirad-lw</th>\n",
       "      <th>lblnew-bestfit lw</th>\n",
       "    </tr>\n",
       "    <tr>\n",
       "      <th></th>\n",
       "      <th>:D</th>\n",
       "      <th>band7 ch4</th>\n",
       "    </tr>\n",
       "  </thead>\n",
       "  <tbody>\n",
       "    <tr>\n",
       "      <th>atmpro</th>\n",
       "      <td>trp</td>\n",
       "      <td>trp</td>\n",
       "    </tr>\n",
       "    <tr>\n",
       "      <th>band</th>\n",
       "      <td>[9]</td>\n",
       "      <td>7</td>\n",
       "    </tr>\n",
       "    <tr>\n",
       "      <th>commitnumber</th>\n",
       "      <td>1013f91</td>\n",
       "      <td>5014a19</td>\n",
       "    </tr>\n",
       "    <tr>\n",
       "      <th>conc</th>\n",
       "      <td>-</td>\n",
       "      <td>1.8e-06</td>\n",
       "    </tr>\n",
       "    <tr>\n",
       "      <th>dv</th>\n",
       "      <td>-</td>\n",
       "      <td>0.001</td>\n",
       "    </tr>\n",
       "    <tr>\n",
       "      <th>klin</th>\n",
       "      <td>-</td>\n",
       "      <td>2e-21</td>\n",
       "    </tr>\n",
       "    <tr>\n",
       "      <th>molecule</th>\n",
       "      <td>{'ch4': 1.8e-06}</td>\n",
       "      <td>ch4</td>\n",
       "    </tr>\n",
       "    <tr>\n",
       "      <th>ng_adju</th>\n",
       "      <td>-</td>\n",
       "      <td>[0, 0]</td>\n",
       "    </tr>\n",
       "    <tr>\n",
       "      <th>ng_refs</th>\n",
       "      <td>-</td>\n",
       "      <td>[2, 3]</td>\n",
       "    </tr>\n",
       "    <tr>\n",
       "      <th>nv</th>\n",
       "      <td>-</td>\n",
       "      <td>1000</td>\n",
       "    </tr>\n",
       "    <tr>\n",
       "      <th>option_compute_btable</th>\n",
       "      <td>-</td>\n",
       "      <td>0</td>\n",
       "    </tr>\n",
       "    <tr>\n",
       "      <th>option_compute_ktable</th>\n",
       "      <td>-</td>\n",
       "      <td>0</td>\n",
       "    </tr>\n",
       "    <tr>\n",
       "      <th>option_wgt_flux</th>\n",
       "      <td>-</td>\n",
       "      <td>1</td>\n",
       "    </tr>\n",
       "    <tr>\n",
       "      <th>option_wgt_k</th>\n",
       "      <td>-</td>\n",
       "      <td>1</td>\n",
       "    </tr>\n",
       "    <tr>\n",
       "      <th>ref_pts</th>\n",
       "      <td>-</td>\n",
       "      <td>[[1, 250], [500, 250]]</td>\n",
       "    </tr>\n",
       "    <tr>\n",
       "      <th>tsfc</th>\n",
       "      <td>300</td>\n",
       "      <td>300</td>\n",
       "    </tr>\n",
       "    <tr>\n",
       "      <th>vmax</th>\n",
       "      <td>-</td>\n",
       "      <td>1380</td>\n",
       "    </tr>\n",
       "    <tr>\n",
       "      <th>vmin</th>\n",
       "      <td>-</td>\n",
       "      <td>1215</td>\n",
       "    </tr>\n",
       "    <tr>\n",
       "      <th>w_diffuse</th>\n",
       "      <td>-</td>\n",
       "      <td>[[1.66, 1.66], [1.66, 1.66, 1.66]]</td>\n",
       "    </tr>\n",
       "    <tr>\n",
       "      <th>wgt</th>\n",
       "      <td>-</td>\n",
       "      <td>[[0.7, 0.7], [0.4, 0.6, 0.75]]</td>\n",
       "    </tr>\n",
       "  </tbody>\n",
       "</table>\n",
       "</div>"
      ],
      "text/plain": [
       "                              clirad-lw                   lblnew-bestfit lw\n",
       "                                     :D                           band7 ch4\n",
       "atmpro                              trp                                 trp\n",
       "band                                [9]                                   7\n",
       "commitnumber                    1013f91                             5014a19\n",
       "conc                                  -                             1.8e-06\n",
       "dv                                    -                               0.001\n",
       "klin                                  -                               2e-21\n",
       "molecule               {'ch4': 1.8e-06}                                 ch4\n",
       "ng_adju                               -                              [0, 0]\n",
       "ng_refs                               -                              [2, 3]\n",
       "nv                                    -                                1000\n",
       "option_compute_btable                 -                                   0\n",
       "option_compute_ktable                 -                                   0\n",
       "option_wgt_flux                       -                                   1\n",
       "option_wgt_k                          -                                   1\n",
       "ref_pts                               -              [[1, 250], [500, 250]]\n",
       "tsfc                                300                                 300\n",
       "vmax                                  -                                1380\n",
       "vmin                                  -                                1215\n",
       "w_diffuse                             -  [[1.66, 1.66], [1.66, 1.66, 1.66]]\n",
       "wgt                                   -      [[0.7, 0.7], [0.4, 0.6, 0.75]]"
      ]
     },
     "metadata": {},
     "output_type": "display_data"
    },
    {
     "data": {
      "text/html": [
       "<a id=\"Cooling_rates._trp.\"></a>"
      ],
      "text/plain": [
       "<IPython.core.display.HTML object>"
      ]
     },
     "metadata": {},
     "output_type": "display_data"
    },
    {
     "data": {
      "text/markdown": [
       "# Cooling rates. trp."
      ],
      "text/plain": [
       "<IPython.core.display.Markdown object>"
      ]
     },
     "metadata": {},
     "output_type": "display_data"
    },
    {
     "data": {
      "text/html": [
       "\n",
       "<div class=\"bk-root\">\n",
       "    <div class=\"bk-plotdiv\" id=\"313d4c20-2928-4db5-81fc-55571e015ecc\"></div>\n",
       "</div>"
      ]
     },
     "metadata": {},
     "output_type": "display_data"
    },
    {
     "data": {
      "application/javascript": [
       "(function(root) {\n",
       "  function embed_document(root) {\n",
       "    \n",
       "  var docs_json = {\"b415b8e9-c32b-4f77-8a73-d556224a1b83\":{\"roots\":{\"references\":[{\"attributes\":{},\"id\":\"e2138e0c-227e-41c8-a903-9dcba92b269f\",\"type\":\"Selection\"},{\"attributes\":{\"label\":{\"value\":\"CLIRAD - CRD\"},\"renderers\":[{\"id\":\"5d5d1a24-d5a4-443c-b07a-9ebd693b3b85\",\"type\":\"GlyphRenderer\"},{\"id\":\"b15f80fa-240d-4619-9d5c-947e9474fc18\",\"type\":\"GlyphRenderer\"}]},\"id\":\"232904d9-fde3-48e8-a56a-a6edd99c78e3\",\"type\":\"LegendItem\"},{\"attributes\":{\"plot\":{\"id\":\"153b561b-9f1a-4069-81a6-f3060f244f83\",\"subtype\":\"Figure\",\"type\":\"Plot\"},\"ticker\":{\"id\":\"7b2f287b-2b8c-4d28-85de-42517ce8c8ee\",\"type\":\"BasicTicker\"}},\"id\":\"bedaa39d-fa5b-4a9f-9faa-ce0ea0828b86\",\"type\":\"Grid\"},{\"attributes\":{},\"id\":\"b61dfe92-ae0c-44ce-ab0d-9a8db79210b0\",\"type\":\"UnionRenderers\"},{\"attributes\":{\"line_color\":\"#4daf4a\",\"line_width\":1.5,\"x\":{\"field\":\"x\"},\"y\":{\"field\":\"y\"}},\"id\":\"622da768-2826-429d-838e-8c9690eb6fe4\",\"type\":\"Line\"},{\"attributes\":{\"axis_label\":\"cooling rate [K/day]\",\"formatter\":{\"id\":\"19162f7b-a052-4f92-ba87-45cf5c4e2997\",\"type\":\"BasicTickFormatter\"},\"plot\":{\"id\":\"153b561b-9f1a-4069-81a6-f3060f244f83\",\"subtype\":\"Figure\",\"type\":\"Plot\"},\"ticker\":{\"id\":\"7b2f287b-2b8c-4d28-85de-42517ce8c8ee\",\"type\":\"BasicTicker\"}},\"id\":\"f0986c0c-c950-4e7f-8b9e-032b0aab369a\",\"type\":\"LinearAxis\"},{\"attributes\":{\"source\":{\"id\":\"5efd807b-f145-437c-94bd-c9233d8c91fe\",\"type\":\"ColumnDataSource\"}},\"id\":\"d9877460-5d56-4bb3-8600-498784395ddf\",\"type\":\"CDSView\"},{\"attributes\":{},\"id\":\"00e219dc-6a41-4375-a2b0-967d9df6af4b\",\"type\":\"UnionRenderers\"},{\"attributes\":{\"line_alpha\":0.1,\"line_color\":\"#1f77b4\",\"line_width\":1.5,\"x\":{\"field\":\"x\"},\"y\":{\"field\":\"y\"}},\"id\":\"37dc00f5-5deb-4f67-b352-7619480f3e4a\",\"type\":\"Line\"},{\"attributes\":{\"ticker\":null},\"id\":\"1e5d5491-17d5-499a-9382-a0c2e12e0507\",\"type\":\"LogTickFormatter\"},{\"attributes\":{\"callback\":null,\"data\":{\"x\":{\"__ndarray__\":\"fczVGRbItr+joJsao5G2v07yPqrlG7a//bEY85ijtb/idvjnnyq1vzuVS6ISs7S/KR269U0+tL/A17ZItsyzv+7Px+GeYbO/Mz9SC2X/sr8U9B2+TauyvxBK+SLbarK/FnZMSGRGsr+t7QUDHCGyv39gJTnMIrC/1UPGcDq0pb8SlGW3h7mKvywtZI2flJY/hVyrJsVJsD8rZZQG49u8PyQ+dkdL4sU/2Sl5Qk67zT+ECXqujUnPP5GYDHOyLMo/pvbdjSO3wz8xxgk9X0O6Px3iw5tXcLA/lFLxEZxNpD9hKXXH7nuZP8wdXCWqnpA/9vtLrRAuhj866F8g1Nh7P3MBFMG6iWk/wp5CzBSBR79hW+iOasZ/v/sub84E45G/EhiI8dxzmr/RVj1SGCqev+c+eZN45J2/NMBeXmgbnr8HJzaJpRmev+iKbNhbw52/w63K5n4Wnb+hJjKcLBecv4TNbYd4ypq/8cMv6p41mb/GTpWZL12XvzSvWX0CRZW/It2ymebvkr/r96XVYl+Qv59aYfQLK4u/6NciPfEkhb96Rbl8A1l9v1D08h6n926/Pxv9296MJL9xT3rMjnxuP+O+Jbz3JIA/GJbzjNZTiT8P6y3CvJ6RP4ULQVcH8ZY/YOru8ZxvnD/GAhUYeb+gP7qk3cDdl6I//ii7uEyPoz8shHiU2wSkPyj2Beeqm6Q/tvcTunDSpT/uax5mjM+nP+43FoScaao/22X54h1srT+A688Dz1+wP8hyD6/VNLI/RG2P5XNDtD/nRTLIr6W2P43r+NtZlbk/\",\"dtype\":\"float64\",\"shape\":[75]},\"y\":{\"__ndarray__\":\"GhExyth1ND/Sv8nbtpRIP2vylNV0PVE/aTum7souWD/At0SJ8fVgPw3Iuahxymc/MSNhhJWvcD/bTfBN02d3P2zb5nxnaoA/CD5h5MAGhz8NmeH1TyaQP+zrCsc9p5Y/LbKd76fGnz/bLW5ISEmmPww9YvTcQq8/JV2OstnstT8Er5Y7M8G+P0c+r3jqkcU/5h99k6ZBzj88bCIzFzjVP4enV8oyxN0//yH99nXg5D8qOpLLf0jtP5kqGJXUifQ/c9cS8kHP/D+/DpwzojQEQIEmwoanVwxA4lgXt9HgE0BSSZ2AJuIbQAMJih9jjiNA5q4l5INuK0AwTKYKRj0zQNv5fmq8/DpAaCJseHrtQkB/+zpwzoxKQM3MzMzMeFJAZmZmZmZqWEAAAAAAAFxeQM3MzMzMJmJAmpmZmZkfZUBmZmZmZhhoQDMzMzMzEWtAAAAAAAAKbkBmZmZmZoFwQM3MzMzM/XFAMzMzMzN6c0CamZmZmfZ0QAAAAAAAc3ZAZmZmZmbvd0DNzMzMzGt5QDMzMzMz6HpAmpmZmZlkfEAAAAAAAOF9QGZmZmZmXX9AZmZmZuZsgECamZmZGSuBQM3MzMxM6YFAAAAAAICngkAzMzMzs2WDQGZmZmbmI4RAmpmZmRnihEDNzMzMTKCFQAAAAACAXoZAMzMzM7Mch0BmZmZm5tqHQJqZmZkZmYhAzczMzExXiUAAAAAAgBWKQDMzMzOz04pAZmZmZuaRi0CamZmZGVCMQM3MzMxMDo1AAAAAAIDMjUAzMzMzs4qOQGZmZmbmSI9A\",\"dtype\":\"float64\",\"shape\":[75]}},\"selected\":{\"id\":\"e2138e0c-227e-41c8-a903-9dcba92b269f\",\"type\":\"Selection\"},\"selection_policy\":{\"id\":\"00e219dc-6a41-4375-a2b0-967d9df6af4b\",\"type\":\"UnionRenderers\"}},\"id\":\"5efd807b-f145-437c-94bd-c9233d8c91fe\",\"type\":\"ColumnDataSource\"},{\"attributes\":{\"line_alpha\":0.1,\"line_color\":\"#1f77b4\",\"line_width\":1.5,\"x\":{\"field\":\"x\"},\"y\":{\"field\":\"y\"}},\"id\":\"58ccbaad-f36d-4c5c-9af8-f3ec519e10a2\",\"type\":\"Line\"},{\"attributes\":{\"data_source\":{\"id\":\"4fff977c-a00e-4493-ad69-690672b376ac\",\"type\":\"ColumnDataSource\"},\"glyph\":{\"id\":\"4d26ab87-e433-4af0-858d-9c779e5e5a9c\",\"type\":\"Line\"},\"hover_glyph\":null,\"muted_glyph\":null,\"nonselection_glyph\":{\"id\":\"58ccbaad-f36d-4c5c-9af8-f3ec519e10a2\",\"type\":\"Line\"},\"selection_glyph\":null,\"view\":{\"id\":\"425cc78d-29c4-4e17-b3b4-bfa86e20f035\",\"type\":\"CDSView\"}},\"id\":\"b15f80fa-240d-4619-9d5c-947e9474fc18\",\"type\":\"GlyphRenderer\"},{\"attributes\":{\"source\":{\"id\":\"e75d4b45-fbb8-423c-85ac-d89902b22041\",\"type\":\"ColumnDataSource\"}},\"id\":\"c7724bde-75f4-4be4-aac4-9e91577cbff5\",\"type\":\"CDSView\"},{\"attributes\":{},\"id\":\"fc3dc419-af5b-4698-8162-e7ebbc99e5b8\",\"type\":\"Selection\"},{\"attributes\":{\"source\":{\"id\":\"4fff977c-a00e-4493-ad69-690672b376ac\",\"type\":\"ColumnDataSource\"}},\"id\":\"425cc78d-29c4-4e17-b3b4-bfa86e20f035\",\"type\":\"CDSView\"},{\"attributes\":{\"overlay\":{\"id\":\"2894bdc7-b466-4614-8c6b-4ff5f27a65e0\",\"type\":\"BoxAnnotation\"}},\"id\":\"039fd556-802e-4a2a-83b1-aefb903a8eb8\",\"type\":\"BoxZoomTool\"},{\"attributes\":{},\"id\":\"6451d8a8-eb09-4da9-9eb2-e759ed36b594\",\"type\":\"Selection\"},{\"attributes\":{},\"id\":\"bffed81a-ed65-49e7-bd72-20de8e99ab1a\",\"type\":\"SaveTool\"},{\"attributes\":{},\"id\":\"19162f7b-a052-4f92-ba87-45cf5c4e2997\",\"type\":\"BasicTickFormatter\"},{\"attributes\":{},\"id\":\"95718080-7a1a-4079-93de-35afb1913419\",\"type\":\"HelpTool\"},{\"attributes\":{\"line_alpha\":0.8,\"line_color\":\"#984ea3\",\"line_width\":1.5,\"x\":{\"field\":\"x\"},\"y\":{\"field\":\"y\"}},\"id\":\"4d26ab87-e433-4af0-858d-9c779e5e5a9c\",\"type\":\"Line\"},{\"attributes\":{\"ticker\":null},\"id\":\"93527d0a-dd50-4479-ae55-3877a9aff795\",\"type\":\"LogTickFormatter\"},{\"attributes\":{\"fill_alpha\":{\"value\":0.7},\"fill_color\":{\"value\":\"#4daf4a\"},\"line_alpha\":{\"value\":0.7},\"line_color\":{\"value\":\"#4daf4a\"},\"x\":{\"field\":\"x\"},\"y\":{\"field\":\"y\"}},\"id\":\"438cbf23-e96c-4345-a08b-f17a52a74931\",\"type\":\"Circle\"},{\"attributes\":{},\"id\":\"ae62b933-e5e0-4e32-8c6b-8c094c666dca\",\"type\":\"UnionRenderers\"},{\"attributes\":{},\"id\":\"f36c6deb-2130-4573-8b60-b5e8785ef502\",\"type\":\"ResetTool\"},{\"attributes\":{},\"id\":\"f2436c72-45e4-4c0f-99ae-6039b2001c32\",\"type\":\"PanTool\"},{\"attributes\":{\"plot\":null,\"text\":\"\"},\"id\":\"e6607989-0153-4846-aeb8-be71cac58ba6\",\"type\":\"Title\"},{\"attributes\":{\"callback\":null,\"data\":{\"x\":{\"__ndarray__\":\"fczVGRbItr+joJsao5G2v07yPqrlG7a//bEY85ijtb/idvjnnyq1vzuVS6ISs7S/KR269U0+tL/A17ZItsyzv+7Px+GeYbO/Mz9SC2X/sr8U9B2+TauyvxBK+SLbarK/FnZMSGRGsr+t7QUDHCGyv39gJTnMIrC/1UPGcDq0pb8SlGW3h7mKvywtZI2flJY/hVyrJsVJsD8rZZQG49u8PyQ+dkdL4sU/2Sl5Qk67zT+ECXqujUnPP5GYDHOyLMo/pvbdjSO3wz8xxgk9X0O6Px3iw5tXcLA/lFLxEZxNpD9hKXXH7nuZP8wdXCWqnpA/9vtLrRAuhj866F8g1Nh7P3MBFMG6iWk/wp5CzBSBR79hW+iOasZ/v/sub84E45G/EhiI8dxzmr/RVj1SGCqev+c+eZN45J2/NMBeXmgbnr8HJzaJpRmev+iKbNhbw52/w63K5n4Wnb+hJjKcLBecv4TNbYd4ypq/8cMv6p41mb/GTpWZL12XvzSvWX0CRZW/It2ymebvkr/r96XVYl+Qv59aYfQLK4u/6NciPfEkhb96Rbl8A1l9v1D08h6n926/Pxv9296MJL9xT3rMjnxuP+O+Jbz3JIA/GJbzjNZTiT8P6y3CvJ6RP4ULQVcH8ZY/YOru8ZxvnD/GAhUYeb+gP7qk3cDdl6I//ii7uEyPoz8shHiU2wSkPyj2Beeqm6Q/tvcTunDSpT/uax5mjM+nP+43FoScaao/22X54h1srT+A688Dz1+wP8hyD6/VNLI/RG2P5XNDtD/nRTLIr6W2P43r+NtZlbk/\",\"dtype\":\"float64\",\"shape\":[75]},\"y\":{\"__ndarray__\":\"GhExyth1ND/Sv8nbtpRIP2vylNV0PVE/aTum7souWD/At0SJ8fVgPw3Iuahxymc/MSNhhJWvcD/bTfBN02d3P2zb5nxnaoA/CD5h5MAGhz8NmeH1TyaQP+zrCsc9p5Y/LbKd76fGnz/bLW5ISEmmPww9YvTcQq8/JV2OstnstT8Er5Y7M8G+P0c+r3jqkcU/5h99k6ZBzj88bCIzFzjVP4enV8oyxN0//yH99nXg5D8qOpLLf0jtP5kqGJXUifQ/c9cS8kHP/D+/DpwzojQEQIEmwoanVwxA4lgXt9HgE0BSSZ2AJuIbQAMJih9jjiNA5q4l5INuK0AwTKYKRj0zQNv5fmq8/DpAaCJseHrtQkB/+zpwzoxKQM3MzMzMeFJAZmZmZmZqWEAAAAAAAFxeQM3MzMzMJmJAmpmZmZkfZUBmZmZmZhhoQDMzMzMzEWtAAAAAAAAKbkBmZmZmZoFwQM3MzMzM/XFAMzMzMzN6c0CamZmZmfZ0QAAAAAAAc3ZAZmZmZmbvd0DNzMzMzGt5QDMzMzMz6HpAmpmZmZlkfEAAAAAAAOF9QGZmZmZmXX9AZmZmZuZsgECamZmZGSuBQM3MzMxM6YFAAAAAAICngkAzMzMzs2WDQGZmZmbmI4RAmpmZmRnihEDNzMzMTKCFQAAAAACAXoZAMzMzM7Mch0BmZmZm5tqHQJqZmZkZmYhAzczMzExXiUAAAAAAgBWKQDMzMzOz04pAZmZmZuaRi0CamZmZGVCMQM3MzMxMDo1AAAAAAIDMjUAzMzMzs4qOQGZmZmbmSI9A\",\"dtype\":\"float64\",\"shape\":[75]}},\"selected\":{\"id\":\"6451d8a8-eb09-4da9-9eb2-e759ed36b594\",\"type\":\"Selection\"},\"selection_policy\":{\"id\":\"b61dfe92-ae0c-44ce-ab0d-9a8db79210b0\",\"type\":\"UnionRenderers\"}},\"id\":\"e75d4b45-fbb8-423c-85ac-d89902b22041\",\"type\":\"ColumnDataSource\"},{\"attributes\":{},\"id\":\"df5b0362-115d-4078-aae0-8756fc697609\",\"type\":\"UnionRenderers\"},{\"attributes\":{\"data_source\":{\"id\":\"5efd807b-f145-437c-94bd-c9233d8c91fe\",\"type\":\"ColumnDataSource\"},\"glyph\":{\"id\":\"438cbf23-e96c-4345-a08b-f17a52a74931\",\"type\":\"Circle\"},\"hover_glyph\":null,\"muted_glyph\":null,\"nonselection_glyph\":{\"id\":\"26831c9c-c8e3-419e-a517-5941d4a1918e\",\"type\":\"Circle\"},\"selection_glyph\":null,\"view\":{\"id\":\"d9877460-5d56-4bb3-8600-498784395ddf\",\"type\":\"CDSView\"}},\"id\":\"7ba14e96-9d6c-420a-82b5-644c80ca0351\",\"type\":\"GlyphRenderer\"},{\"attributes\":{\"items\":[{\"id\":\"af1aa0b6-ff51-47d5-8623-87c1653cffa3\",\"type\":\"LegendItem\"},{\"id\":\"f41d4d46-ae96-40cf-9823-f6d0d0ea91f6\",\"type\":\"LegendItem\"}],\"label_text_font_size\":{\"value\":\"8pt\"},\"location\":\"top_center\",\"orientation\":\"horizontal\",\"plot\":{\"id\":\"5404cd91-382d-4ce7-ae7b-58d091004865\",\"subtype\":\"Figure\",\"type\":\"Plot\"}},\"id\":\"80a3cc65-0343-489d-8ca4-e19f3b91342a\",\"type\":\"Legend\"},{\"attributes\":{},\"id\":\"fded84b4-ea75-4b8f-9ccc-7ba9c0755a90\",\"type\":\"Selection\"},{\"attributes\":{\"callback\":null,\"end\":0.101267589596,\"start\":-0.034639657995999995},\"id\":\"6ba3bc7b-bc6d-4491-a0ca-17c5048f5b35\",\"type\":\"Range1d\"},{\"attributes\":{\"line_alpha\":0.6,\"line_color\":\"#e41a1c\",\"line_dash\":[6],\"line_width\":5,\"x\":{\"field\":\"x\"},\"y\":{\"field\":\"y\"}},\"id\":\"a65f45df-085e-435c-bcb7-7dfe9847fba6\",\"type\":\"Line\"},{\"attributes\":{\"fill_alpha\":{\"value\":0.1},\"fill_color\":{\"value\":\"#1f77b4\"},\"line_alpha\":{\"value\":0.1},\"line_color\":{\"value\":\"#1f77b4\"},\"x\":{\"field\":\"x\"},\"y\":{\"field\":\"y\"}},\"id\":\"26831c9c-c8e3-419e-a517-5941d4a1918e\",\"type\":\"Circle\"},{\"attributes\":{},\"id\":\"2b7b73af-fec1-41c0-a1e7-1304e0fb5f1c\",\"type\":\"Selection\"},{\"attributes\":{\"bottom_units\":\"screen\",\"fill_alpha\":{\"value\":0.5},\"fill_color\":{\"value\":\"lightgrey\"},\"left_units\":\"screen\",\"level\":\"overlay\",\"line_alpha\":{\"value\":1.0},\"line_color\":{\"value\":\"black\"},\"line_dash\":[4,4],\"line_width\":{\"value\":2},\"plot\":null,\"render_mode\":\"css\",\"right_units\":\"screen\",\"top_units\":\"screen\"},\"id\":\"3861dcb8-bac4-45f9-bd8a-5dc570db6d2b\",\"type\":\"BoxAnnotation\"},{\"attributes\":{},\"id\":\"0c1a0f2d-44c3-45ba-aa30-ba59874aa469\",\"type\":\"UnionRenderers\"},{\"attributes\":{},\"id\":\"7eefd325-92e6-4438-b9fe-7d35be12adeb\",\"type\":\"WheelZoomTool\"},{\"attributes\":{\"plot\":null,\"text\":\"\"},\"id\":\"b5c10096-ceb4-4fb6-b9ba-fd3bb30ae9ee\",\"type\":\"Title\"},{\"attributes\":{},\"id\":\"d69b9ff3-caed-43d7-abaa-c6875e5e46e9\",\"type\":\"WheelZoomTool\"},{\"attributes\":{\"label\":{\"value\":\"CLIRAD\"},\"renderers\":[{\"id\":\"9d7ad441-6b1e-4935-a749-a2f2909c925b\",\"type\":\"GlyphRenderer\"}]},\"id\":\"af1aa0b6-ff51-47d5-8623-87c1653cffa3\",\"type\":\"LegendItem\"},{\"attributes\":{},\"id\":\"d5c9d5c1-0c13-490d-860a-5601a0b1ddad\",\"type\":\"BasicTickFormatter\"},{\"attributes\":{\"data_source\":{\"id\":\"e75d4b45-fbb8-423c-85ac-d89902b22041\",\"type\":\"ColumnDataSource\"},\"glyph\":{\"id\":\"622da768-2826-429d-838e-8c9690eb6fe4\",\"type\":\"Line\"},\"hover_glyph\":null,\"muted_glyph\":null,\"nonselection_glyph\":{\"id\":\"37dc00f5-5deb-4f67-b352-7619480f3e4a\",\"type\":\"Line\"},\"selection_glyph\":null,\"view\":{\"id\":\"c7724bde-75f4-4be4-aac4-9e91577cbff5\",\"type\":\"CDSView\"}},\"id\":\"e64c4e55-c400-4f7f-b688-d77e37d76748\",\"type\":\"GlyphRenderer\"},{\"attributes\":{\"label\":{\"value\":\"CRD\"},\"renderers\":[{\"id\":\"7ba14e96-9d6c-420a-82b5-644c80ca0351\",\"type\":\"GlyphRenderer\"},{\"id\":\"e64c4e55-c400-4f7f-b688-d77e37d76748\",\"type\":\"GlyphRenderer\"}]},\"id\":\"f41d4d46-ae96-40cf-9823-f6d0d0ea91f6\",\"type\":\"LegendItem\"},{\"attributes\":{},\"id\":\"83b88755-a776-4a47-86da-10259e6b1324\",\"type\":\"UnionRenderers\"},{\"attributes\":{\"toolbar\":{\"id\":\"6414a2d8-86cc-4460-8702-1a49c0160c91\",\"type\":\"ProxyToolbar\"},\"toolbar_location\":\"above\"},\"id\":\"f0497010-6a1c-4a34-b068-1d762ba6c9a0\",\"type\":\"ToolbarBox\"},{\"attributes\":{},\"id\":\"6c6e8cf3-49e5-4f74-b0da-e15954505553\",\"type\":\"SaveTool\"},{\"attributes\":{},\"id\":\"58978749-7256-4566-ab90-84accfc1aad2\",\"type\":\"HelpTool\"},{\"attributes\":{},\"id\":\"e4035523-235b-4c4d-80dd-d631400b8bc2\",\"type\":\"BasicTickFormatter\"},{\"attributes\":{\"tools\":[{\"id\":\"0d4d2915-d2da-4d02-b213-3fa2503e66d3\",\"type\":\"PanTool\"},{\"id\":\"d69b9ff3-caed-43d7-abaa-c6875e5e46e9\",\"type\":\"WheelZoomTool\"},{\"id\":\"039fd556-802e-4a2a-83b1-aefb903a8eb8\",\"type\":\"BoxZoomTool\"},{\"id\":\"6c6e8cf3-49e5-4f74-b0da-e15954505553\",\"type\":\"SaveTool\"},{\"id\":\"f36c6deb-2130-4573-8b60-b5e8785ef502\",\"type\":\"ResetTool\"},{\"id\":\"95718080-7a1a-4079-93de-35afb1913419\",\"type\":\"HelpTool\"},{\"id\":\"f2436c72-45e4-4c0f-99ae-6039b2001c32\",\"type\":\"PanTool\"},{\"id\":\"7eefd325-92e6-4438-b9fe-7d35be12adeb\",\"type\":\"WheelZoomTool\"},{\"id\":\"b7c18172-d9ff-44a9-b295-7d13c3589e81\",\"type\":\"BoxZoomTool\"},{\"id\":\"bffed81a-ed65-49e7-bd72-20de8e99ab1a\",\"type\":\"SaveTool\"},{\"id\":\"550322fe-965e-4f32-a709-c7b9f5cc4efb\",\"type\":\"ResetTool\"},{\"id\":\"58978749-7256-4566-ab90-84accfc1aad2\",\"type\":\"HelpTool\"},{\"id\":\"9c299e5b-bff9-45e1-a338-85137c76a729\",\"type\":\"PanTool\"},{\"id\":\"3d7499cf-a4ce-424c-acda-6ca4c1562c36\",\"type\":\"WheelZoomTool\"},{\"id\":\"d0984f58-5e47-4e1d-b627-08a921abad46\",\"type\":\"BoxZoomTool\"},{\"id\":\"e5d08646-6dc9-4cc3-84a0-ab0f199acf43\",\"type\":\"SaveTool\"},{\"id\":\"48af32fd-9ba5-4088-9bf9-2d81a95bf259\",\"type\":\"ResetTool\"},{\"id\":\"2d77f7a3-8cce-4703-a515-f58a656ed7a7\",\"type\":\"HelpTool\"}]},\"id\":\"6414a2d8-86cc-4460-8702-1a49c0160c91\",\"type\":\"ProxyToolbar\"},{\"attributes\":{\"overlay\":{\"id\":\"3861dcb8-bac4-45f9-bd8a-5dc570db6d2b\",\"type\":\"BoxAnnotation\"}},\"id\":\"b7c18172-d9ff-44a9-b295-7d13c3589e81\",\"type\":\"BoxZoomTool\"},{\"attributes\":{},\"id\":\"fb58630f-71bf-4537-aa3f-36c6e3fd5fee\",\"type\":\"Selection\"},{\"attributes\":{},\"id\":\"550322fe-965e-4f32-a709-c7b9f5cc4efb\",\"type\":\"ResetTool\"},{\"attributes\":{},\"id\":\"7b2f287b-2b8c-4d28-85de-42517ce8c8ee\",\"type\":\"BasicTicker\"},{\"attributes\":{\"children\":[{\"id\":\"f0497010-6a1c-4a34-b068-1d762ba6c9a0\",\"type\":\"ToolbarBox\"},{\"id\":\"ac859a53-071b-4519-8604-fee54b2f404f\",\"type\":\"Column\"}]},\"id\":\"e192e56a-b255-4258-9697-8e4c16109094\",\"type\":\"Column\"},{\"attributes\":{},\"id\":\"0d4d2915-d2da-4d02-b213-3fa2503e66d3\",\"type\":\"PanTool\"},{\"attributes\":{},\"id\":\"9c4a61c9-0b71-4d4f-9d2a-368c8afea453\",\"type\":\"UnionRenderers\"},{\"attributes\":{},\"id\":\"457e65c8-112e-4a9f-8967-9fd2627f8ab2\",\"type\":\"LogScale\"},{\"attributes\":{},\"id\":\"25a81303-8bdf-4e51-87da-d3449dfcb711\",\"type\":\"Selection\"},{\"attributes\":{},\"id\":\"7d449d01-9a69-48f1-bb01-aa66a5a45e48\",\"type\":\"Selection\"},{\"attributes\":{\"axis_label\":\"pressure [mb]\",\"formatter\":{\"id\":\"1e5d5491-17d5-499a-9382-a0c2e12e0507\",\"type\":\"LogTickFormatter\"},\"plot\":{\"id\":\"153b561b-9f1a-4069-81a6-f3060f244f83\",\"subtype\":\"Figure\",\"type\":\"Plot\"},\"ticker\":{\"id\":\"a2aea769-1303-46e2-913d-6b34aa205ede\",\"type\":\"LogTicker\"}},\"id\":\"f057e29b-be04-40e8-b010-967eaacb10bf\",\"type\":\"LogAxis\"},{\"attributes\":{\"dimension\":1,\"plot\":{\"id\":\"5404cd91-382d-4ce7-ae7b-58d091004865\",\"subtype\":\"Figure\",\"type\":\"Plot\"},\"ticker\":{\"id\":\"6162bfef-1f20-46ea-90bf-4a8db33b5dd8\",\"type\":\"BasicTicker\"}},\"id\":\"5d9ce9ba-6715-40f8-8805-37b0218173b5\",\"type\":\"Grid\"},{\"attributes\":{\"dimension\":1,\"plot\":{\"id\":\"153b561b-9f1a-4069-81a6-f3060f244f83\",\"subtype\":\"Figure\",\"type\":\"Plot\"},\"ticker\":{\"id\":\"a2aea769-1303-46e2-913d-6b34aa205ede\",\"type\":\"LogTicker\"}},\"id\":\"19583c00-c40f-4679-9706-6f3839e1312f\",\"type\":\"Grid\"},{\"attributes\":{\"num_minor_ticks\":10},\"id\":\"a2aea769-1303-46e2-913d-6b34aa205ede\",\"type\":\"LogTicker\"},{\"attributes\":{},\"id\":\"d6a713fb-519c-49a5-aadf-3df85208cd0b\",\"type\":\"BasicTickFormatter\"},{\"attributes\":{\"bottom_units\":\"screen\",\"fill_alpha\":{\"value\":0.5},\"fill_color\":{\"value\":\"lightgrey\"},\"left_units\":\"screen\",\"level\":\"overlay\",\"line_alpha\":{\"value\":1.0},\"line_color\":{\"value\":\"black\"},\"line_dash\":[4,4],\"line_width\":{\"value\":2},\"plot\":null,\"render_mode\":\"css\",\"right_units\":\"screen\",\"top_units\":\"screen\"},\"id\":\"2894bdc7-b466-4614-8c6b-4ff5f27a65e0\",\"type\":\"BoxAnnotation\"},{\"attributes\":{\"fill_alpha\":{\"value\":0.7},\"fill_color\":{\"value\":\"#4daf4a\"},\"line_alpha\":{\"value\":0.7},\"line_color\":{\"value\":\"#4daf4a\"},\"x\":{\"field\":\"x\"},\"y\":{\"field\":\"y\"}},\"id\":\"8debadee-9f2a-42d3-97cf-e62e33813cd2\",\"type\":\"Circle\"},{\"attributes\":{},\"id\":\"f48d25c3-39bc-4680-b54c-d37b926b1464\",\"type\":\"LinearScale\"},{\"attributes\":{},\"id\":\"6162bfef-1f20-46ea-90bf-4a8db33b5dd8\",\"type\":\"BasicTicker\"},{\"attributes\":{},\"id\":\"a116a69b-a91c-4eba-88aa-b06beb7d3908\",\"type\":\"UnionRenderers\"},{\"attributes\":{\"axis_label\":\"cooling rate [K/day]\",\"formatter\":{\"id\":\"d6a713fb-519c-49a5-aadf-3df85208cd0b\",\"type\":\"BasicTickFormatter\"},\"plot\":{\"id\":\"5404cd91-382d-4ce7-ae7b-58d091004865\",\"subtype\":\"Figure\",\"type\":\"Plot\"},\"ticker\":{\"id\":\"23555732-8a25-4ce5-8f96-48b24f798836\",\"type\":\"BasicTicker\"}},\"id\":\"69c9f29e-b7a3-449a-ac71-e166a45e1fcb\",\"type\":\"LinearAxis\"},{\"attributes\":{\"callback\":null,\"end\":0.01,\"start\":1020},\"id\":\"b456e6dc-0414-42bf-bf5f-ac4646840db1\",\"type\":\"Range1d\"},{\"attributes\":{\"callback\":null,\"data\":{\"x\":{\"__ndarray__\":\"Yt786bPBqb+oik47oXypv+1MZJAC3qi/f6KRU2RCqL9HuuNwjZ+nvye5R1/W/qa/PkX3dMFVpr+Scg7Ws6ulv+J1FB9TAqW/rodIsOVTpL+1Do11Eamjvy8VxfKB+aK/owUSWxRSor8sVBgKwXKhv041bsKh3Zu/7AGDPGw2h7+uYztjiDGHPysZnX/9CKQ/e7wjcuCmsj/iftmgoxO9P9I/+3AUycQ/aoCYpRliyz/YCRYkCYTNP3QrQrmGfMo/3wJkQ5K0xT+RYImLzPG/P52Lh0OrnbU/F3GNEYHRqj8O+fL4eTCeP4RH6w2WaI8/CKTCrcIzgT++/p67iGZ2Pye6Gz0fImw/ZzslbrVRJD8Pd2o4qYt/v48nF50Lp5O/JgObzqm/nb+9HIBRpQ2hvwvkSToZCKG/I4DTb+r5oL90bt1EYr+gv8piSVbRYaC/Iwxz6hmun7+7zsNfTGCev1MC6wOM2Jy/di97AvYLm7/jc02fIimZv0sEFxw/A5e/EcQMnFKvlL9hv5Ry2CySv5UxIncv/I6/iHHbFwBFib8o2CAHde6Cv9HQklIPm3i/wcvrDHzaY7+b8cYivjVWP3JPcF3sl3Y/PLc9e1ZkhD+veMTKYyuOPxQ/WUCHSpQ/ZpgVtfSbmT+hPjly83meP0IHdF4XCaE/UovuRDweoj91u3juJsCiP62ZYxYtgqM/BEl3jgPapD+/6yn1CfmmPyBPopAqq6k/FaW3UfrIrD/PafVZjiWwP63QPXQMC7I/QDgbArIdtD+kl6R04W62P+2VUePg/bg/\",\"dtype\":\"float64\",\"shape\":[75]},\"y\":{\"__ndarray__\":\"GhExyth1ND/Sv8nbtpRIP2vylNV0PVE/aTum7souWD/At0SJ8fVgPw3Iuahxymc/MSNhhJWvcD/bTfBN02d3P2zb5nxnaoA/CD5h5MAGhz8NmeH1TyaQP+zrCsc9p5Y/LbKd76fGnz/bLW5ISEmmPww9YvTcQq8/JV2OstnstT8Er5Y7M8G+P0c+r3jqkcU/5h99k6ZBzj88bCIzFzjVP4enV8oyxN0//yH99nXg5D8qOpLLf0jtP5kqGJXUifQ/c9cS8kHP/D+/DpwzojQEQIEmwoanVwxA4lgXt9HgE0BSSZ2AJuIbQAMJih9jjiNA5q4l5INuK0AwTKYKRj0zQNv5fmq8/DpAaCJseHrtQkB/+zpwzoxKQM3MzMzMeFJAZmZmZmZqWEAAAAAAAFxeQM3MzMzMJmJAmpmZmZkfZUBmZmZmZhhoQDMzMzMzEWtAAAAAAAAKbkBmZmZmZoFwQM3MzMzM/XFAMzMzMzN6c0CamZmZmfZ0QAAAAAAAc3ZAZmZmZmbvd0DNzMzMzGt5QDMzMzMz6HpAmpmZmZlkfEAAAAAAAOF9QGZmZmZmXX9AZmZmZuZsgECamZmZGSuBQM3MzMxM6YFAAAAAAICngkAzMzMzs2WDQGZmZmbmI4RAmpmZmRnihEDNzMzMTKCFQAAAAACAXoZAMzMzM7Mch0BmZmZm5tqHQJqZmZkZmYhAzczMzExXiUAAAAAAgBWKQDMzMzOz04pAZmZmZuaRi0CamZmZGVCMQM3MzMxMDo1AAAAAAIDMjUAzMzMzs4qOQGZmZmbmSI9A\",\"dtype\":\"float64\",\"shape\":[75]}},\"selected\":{\"id\":\"7d449d01-9a69-48f1-bb01-aa66a5a45e48\",\"type\":\"Selection\"},\"selection_policy\":{\"id\":\"a116a69b-a91c-4eba-88aa-b06beb7d3908\",\"type\":\"UnionRenderers\"}},\"id\":\"e9244906-d361-43e4-8689-9319c509ac00\",\"type\":\"ColumnDataSource\"},{\"attributes\":{\"plot\":{\"id\":\"5404cd91-382d-4ce7-ae7b-58d091004865\",\"subtype\":\"Figure\",\"type\":\"Plot\"},\"ticker\":{\"id\":\"23555732-8a25-4ce5-8f96-48b24f798836\",\"type\":\"BasicTicker\"}},\"id\":\"46e5bf93-6e96-441e-84f7-316676d4b21b\",\"type\":\"Grid\"},{\"attributes\":{\"axis_label\":\"pressure [mb]\",\"formatter\":{\"id\":\"e4035523-235b-4c4d-80dd-d631400b8bc2\",\"type\":\"BasicTickFormatter\"},\"plot\":{\"id\":\"5404cd91-382d-4ce7-ae7b-58d091004865\",\"subtype\":\"Figure\",\"type\":\"Plot\"},\"ticker\":{\"id\":\"6162bfef-1f20-46ea-90bf-4a8db33b5dd8\",\"type\":\"BasicTicker\"}},\"id\":\"c3967b29-c937-4a5f-9bfc-e0276bc5df41\",\"type\":\"LinearAxis\"},{\"attributes\":{\"callback\":null,\"data\":{\"x\":{\"__ndarray__\":\"fczVGRbItr+joJsao5G2v07yPqrlG7a//bEY85ijtb/idvjnnyq1vzuVS6ISs7S/KR269U0+tL/A17ZItsyzv+7Px+GeYbO/Mz9SC2X/sr8U9B2+TauyvxBK+SLbarK/FnZMSGRGsr+t7QUDHCGyv39gJTnMIrC/1UPGcDq0pb8SlGW3h7mKvywtZI2flJY/hVyrJsVJsD8rZZQG49u8PyQ+dkdL4sU/2Sl5Qk67zT+ECXqujUnPP5GYDHOyLMo/pvbdjSO3wz8xxgk9X0O6Px3iw5tXcLA/lFLxEZxNpD9hKXXH7nuZP8wdXCWqnpA/9vtLrRAuhj866F8g1Nh7P3MBFMG6iWk/wp5CzBSBR79hW+iOasZ/v/sub84E45G/EhiI8dxzmr/RVj1SGCqev+c+eZN45J2/NMBeXmgbnr8HJzaJpRmev+iKbNhbw52/w63K5n4Wnb+hJjKcLBecv4TNbYd4ypq/8cMv6p41mb/GTpWZL12XvzSvWX0CRZW/It2ymebvkr/r96XVYl+Qv59aYfQLK4u/6NciPfEkhb96Rbl8A1l9v1D08h6n926/Pxv9296MJL9xT3rMjnxuP+O+Jbz3JIA/GJbzjNZTiT8P6y3CvJ6RP4ULQVcH8ZY/YOru8ZxvnD/GAhUYeb+gP7qk3cDdl6I//ii7uEyPoz8shHiU2wSkPyj2Beeqm6Q/tvcTunDSpT/uax5mjM+nP+43FoScaao/22X54h1srT+A688Dz1+wP8hyD6/VNLI/RG2P5XNDtD/nRTLIr6W2P43r+NtZlbk/\",\"dtype\":\"float64\",\"shape\":[75]},\"y\":{\"__ndarray__\":\"GhExyth1ND/Sv8nbtpRIP2vylNV0PVE/aTum7souWD/At0SJ8fVgPw3Iuahxymc/MSNhhJWvcD/bTfBN02d3P2zb5nxnaoA/CD5h5MAGhz8NmeH1TyaQP+zrCsc9p5Y/LbKd76fGnz/bLW5ISEmmPww9YvTcQq8/JV2OstnstT8Er5Y7M8G+P0c+r3jqkcU/5h99k6ZBzj88bCIzFzjVP4enV8oyxN0//yH99nXg5D8qOpLLf0jtP5kqGJXUifQ/c9cS8kHP/D+/DpwzojQEQIEmwoanVwxA4lgXt9HgE0BSSZ2AJuIbQAMJih9jjiNA5q4l5INuK0AwTKYKRj0zQNv5fmq8/DpAaCJseHrtQkB/+zpwzoxKQM3MzMzMeFJAZmZmZmZqWEAAAAAAAFxeQM3MzMzMJmJAmpmZmZkfZUBmZmZmZhhoQDMzMzMzEWtAAAAAAAAKbkBmZmZmZoFwQM3MzMzM/XFAMzMzMzN6c0CamZmZmfZ0QAAAAAAAc3ZAZmZmZmbvd0DNzMzMzGt5QDMzMzMz6HpAmpmZmZlkfEAAAAAAAOF9QGZmZmZmXX9AZmZmZuZsgECamZmZGSuBQM3MzMxM6YFAAAAAAICngkAzMzMzs2WDQGZmZmbmI4RAmpmZmRnihEDNzMzMTKCFQAAAAACAXoZAMzMzM7Mch0BmZmZm5tqHQJqZmZkZmYhAzczMzExXiUAAAAAAgBWKQDMzMzOz04pAZmZmZuaRi0CamZmZGVCMQM3MzMxMDo1AAAAAAIDMjUAzMzMzs4qOQGZmZmbmSI9A\",\"dtype\":\"float64\",\"shape\":[75]}},\"selected\":{\"id\":\"fc3dc419-af5b-4698-8162-e7ebbc99e5b8\",\"type\":\"Selection\"},\"selection_policy\":{\"id\":\"df5b0362-115d-4078-aae0-8756fc697609\",\"type\":\"UnionRenderers\"}},\"id\":\"518ac8ce-efd2-4a6f-8f46-bfc6905c9783\",\"type\":\"ColumnDataSource\"},{\"attributes\":{\"line_alpha\":0.1,\"line_color\":\"#1f77b4\",\"line_dash\":[6],\"line_width\":5,\"x\":{\"field\":\"x\"},\"y\":{\"field\":\"y\"}},\"id\":\"c8d5ee29-cb99-4b8d-abf1-d8eaa828ed10\",\"type\":\"Line\"},{\"attributes\":{\"line_alpha\":0.6,\"line_color\":\"#e41a1c\",\"line_dash\":[6],\"line_width\":5,\"x\":{\"field\":\"x\"},\"y\":{\"field\":\"y\"}},\"id\":\"1e2d565b-363e-4c19-8825-b97fdb12e878\",\"type\":\"Line\"},{\"attributes\":{},\"id\":\"23555732-8a25-4ce5-8f96-48b24f798836\",\"type\":\"BasicTicker\"},{\"attributes\":{\"callback\":null,\"end\":0.01,\"start\":1020},\"id\":\"f25e07bd-707e-4376-b99a-935eda46ec37\",\"type\":\"Range1d\"},{\"attributes\":{\"active_drag\":\"auto\",\"active_inspect\":\"auto\",\"active_scroll\":\"auto\",\"active_tap\":\"auto\",\"tools\":[{\"id\":\"0d4d2915-d2da-4d02-b213-3fa2503e66d3\",\"type\":\"PanTool\"},{\"id\":\"d69b9ff3-caed-43d7-abaa-c6875e5e46e9\",\"type\":\"WheelZoomTool\"},{\"id\":\"039fd556-802e-4a2a-83b1-aefb903a8eb8\",\"type\":\"BoxZoomTool\"},{\"id\":\"6c6e8cf3-49e5-4f74-b0da-e15954505553\",\"type\":\"SaveTool\"},{\"id\":\"f36c6deb-2130-4573-8b60-b5e8785ef502\",\"type\":\"ResetTool\"},{\"id\":\"95718080-7a1a-4079-93de-35afb1913419\",\"type\":\"HelpTool\"}]},\"id\":\"698947ef-3056-4ae7-9e09-f3b630a456c1\",\"type\":\"Toolbar\"},{\"attributes\":{\"data_source\":{\"id\":\"518ac8ce-efd2-4a6f-8f46-bfc6905c9783\",\"type\":\"ColumnDataSource\"},\"glyph\":{\"id\":\"8debadee-9f2a-42d3-97cf-e62e33813cd2\",\"type\":\"Circle\"},\"hover_glyph\":null,\"muted_glyph\":null,\"nonselection_glyph\":{\"id\":\"cc28953c-ac90-43d6-811c-1eee69233439\",\"type\":\"Circle\"},\"selection_glyph\":null,\"view\":{\"id\":\"4f0e5382-f782-4952-8b30-3db1a5598fdb\",\"type\":\"CDSView\"}},\"id\":\"1f440305-55a7-43b2-8e80-3b7cf337656b\",\"type\":\"GlyphRenderer\"},{\"attributes\":{\"source\":{\"id\":\"3d8af224-7261-433c-b85e-1c41712dbe76\",\"type\":\"ColumnDataSource\"}},\"id\":\"448e7655-b42b-48cb-a507-1f0427564314\",\"type\":\"CDSView\"},{\"attributes\":{\"callback\":null,\"data\":{\"x\":{\"__ndarray__\":\"Yt786bPBqb+oik47oXypv+1MZJAC3qi/f6KRU2RCqL9HuuNwjZ+nvye5R1/W/qa/PkX3dMFVpr+Scg7Ws6ulv+J1FB9TAqW/rodIsOVTpL+1Do11Eamjvy8VxfKB+aK/owUSWxRSor8sVBgKwXKhv041bsKh3Zu/7AGDPGw2h7+uYztjiDGHPysZnX/9CKQ/e7wjcuCmsj/iftmgoxO9P9I/+3AUycQ/aoCYpRliyz/YCRYkCYTNP3QrQrmGfMo/3wJkQ5K0xT+RYImLzPG/P52Lh0OrnbU/F3GNEYHRqj8O+fL4eTCeP4RH6w2WaI8/CKTCrcIzgT++/p67iGZ2Pye6Gz0fImw/ZzslbrVRJD8Pd2o4qYt/v48nF50Lp5O/JgObzqm/nb+9HIBRpQ2hvwvkSToZCKG/I4DTb+r5oL90bt1EYr+gv8piSVbRYaC/Iwxz6hmun7+7zsNfTGCev1MC6wOM2Jy/di97AvYLm7/jc02fIimZv0sEFxw/A5e/EcQMnFKvlL9hv5Ry2CySv5UxIncv/I6/iHHbFwBFib8o2CAHde6Cv9HQklIPm3i/wcvrDHzaY7+b8cYivjVWP3JPcF3sl3Y/PLc9e1ZkhD+veMTKYyuOPxQ/WUCHSpQ/ZpgVtfSbmT+hPjly83meP0IHdF4XCaE/UovuRDweoj91u3juJsCiP62ZYxYtgqM/BEl3jgPapD+/6yn1CfmmPyBPopAqq6k/FaW3UfrIrD/PafVZjiWwP63QPXQMC7I/QDgbArIdtD+kl6R04W62P+2VUePg/bg/\",\"dtype\":\"float64\",\"shape\":[75]},\"y\":{\"__ndarray__\":\"GhExyth1ND/Sv8nbtpRIP2vylNV0PVE/aTum7souWD/At0SJ8fVgPw3Iuahxymc/MSNhhJWvcD/bTfBN02d3P2zb5nxnaoA/CD5h5MAGhz8NmeH1TyaQP+zrCsc9p5Y/LbKd76fGnz/bLW5ISEmmPww9YvTcQq8/JV2OstnstT8Er5Y7M8G+P0c+r3jqkcU/5h99k6ZBzj88bCIzFzjVP4enV8oyxN0//yH99nXg5D8qOpLLf0jtP5kqGJXUifQ/c9cS8kHP/D+/DpwzojQEQIEmwoanVwxA4lgXt9HgE0BSSZ2AJuIbQAMJih9jjiNA5q4l5INuK0AwTKYKRj0zQNv5fmq8/DpAaCJseHrtQkB/+zpwzoxKQM3MzMzMeFJAZmZmZmZqWEAAAAAAAFxeQM3MzMzMJmJAmpmZmZkfZUBmZmZmZhhoQDMzMzMzEWtAAAAAAAAKbkBmZmZmZoFwQM3MzMzM/XFAMzMzMzN6c0CamZmZmfZ0QAAAAAAAc3ZAZmZmZmbvd0DNzMzMzGt5QDMzMzMz6HpAmpmZmZlkfEAAAAAAAOF9QGZmZmZmXX9AZmZmZuZsgECamZmZGSuBQM3MzMxM6YFAAAAAAICngkAzMzMzs2WDQGZmZmbmI4RAmpmZmRnihEDNzMzMTKCFQAAAAACAXoZAMzMzM7Mch0BmZmZm5tqHQJqZmZkZmYhAzczMzExXiUAAAAAAgBWKQDMzMzOz04pAZmZmZuaRi0CamZmZGVCMQM3MzMxMDo1AAAAAAIDMjUAzMzMzs4qOQGZmZmbmSI9A\",\"dtype\":\"float64\",\"shape\":[75]}},\"selected\":{\"id\":\"fded84b4-ea75-4b8f-9ccc-7ba9c0755a90\",\"type\":\"Selection\"},\"selection_policy\":{\"id\":\"ae62b933-e5e0-4e32-8c6b-8c094c666dca\",\"type\":\"UnionRenderers\"}},\"id\":\"3d8af224-7261-433c-b85e-1c41712dbe76\",\"type\":\"ColumnDataSource\"},{\"attributes\":{\"source\":{\"id\":\"e9244906-d361-43e4-8689-9319c509ac00\",\"type\":\"ColumnDataSource\"}},\"id\":\"86c5cad9-346e-4d6a-a594-efbe0db04e9e\",\"type\":\"CDSView\"},{\"attributes\":{\"fill_alpha\":{\"value\":0.1},\"fill_color\":{\"value\":\"#1f77b4\"},\"line_alpha\":{\"value\":0.1},\"line_color\":{\"value\":\"#1f77b4\"},\"x\":{\"field\":\"x\"},\"y\":{\"field\":\"y\"}},\"id\":\"cc28953c-ac90-43d6-811c-1eee69233439\",\"type\":\"Circle\"},{\"attributes\":{},\"id\":\"9cb54fe1-6d25-4cfe-acd4-c00c31394d73\",\"type\":\"LinearScale\"},{\"attributes\":{\"line_alpha\":0.1,\"line_color\":\"#1f77b4\",\"line_dash\":[6],\"line_width\":5,\"x\":{\"field\":\"x\"},\"y\":{\"field\":\"y\"}},\"id\":\"9d0e3757-9334-47ae-bc28-1be8dae73f88\",\"type\":\"Line\"},{\"attributes\":{\"data_source\":{\"id\":\"3d8af224-7261-433c-b85e-1c41712dbe76\",\"type\":\"ColumnDataSource\"},\"glyph\":{\"id\":\"1e2d565b-363e-4c19-8825-b97fdb12e878\",\"type\":\"Line\"},\"hover_glyph\":null,\"muted_glyph\":null,\"nonselection_glyph\":{\"id\":\"9d0e3757-9334-47ae-bc28-1be8dae73f88\",\"type\":\"Line\"},\"selection_glyph\":null,\"view\":{\"id\":\"448e7655-b42b-48cb-a507-1f0427564314\",\"type\":\"CDSView\"}},\"id\":\"4d8037b7-7a74-4df2-a5b2-c4ae9a1836fc\",\"type\":\"GlyphRenderer\"},{\"attributes\":{\"data_source\":{\"id\":\"e9244906-d361-43e4-8689-9319c509ac00\",\"type\":\"ColumnDataSource\"},\"glyph\":{\"id\":\"a65f45df-085e-435c-bcb7-7dfe9847fba6\",\"type\":\"Line\"},\"hover_glyph\":null,\"muted_glyph\":null,\"nonselection_glyph\":{\"id\":\"c8d5ee29-cb99-4b8d-abf1-d8eaa828ed10\",\"type\":\"Line\"},\"selection_glyph\":null,\"view\":{\"id\":\"86c5cad9-346e-4d6a-a594-efbe0db04e9e\",\"type\":\"CDSView\"}},\"id\":\"9d7ad441-6b1e-4935-a749-a2f2909c925b\",\"type\":\"GlyphRenderer\"},{\"attributes\":{},\"id\":\"87924573-7d22-466d-9a75-9bc9cf3308af\",\"type\":\"LinearScale\"},{\"attributes\":{\"source\":{\"id\":\"6e625c6a-523b-4514-9335-a1290b1c88a0\",\"type\":\"ColumnDataSource\"}},\"id\":\"9bc1c326-d0a8-4522-85b9-5e60d4e7b587\",\"type\":\"CDSView\"},{\"attributes\":{\"callback\":null,\"data\":{\"x\":{\"__ndarray__\":\"fczVGRbItr+joJsao5G2v07yPqrlG7a//bEY85ijtb/idvjnnyq1vzuVS6ISs7S/KR269U0+tL/A17ZItsyzv+7Px+GeYbO/Mz9SC2X/sr8U9B2+TauyvxBK+SLbarK/FnZMSGRGsr+t7QUDHCGyv39gJTnMIrC/1UPGcDq0pb8SlGW3h7mKvywtZI2flJY/hVyrJsVJsD8rZZQG49u8PyQ+dkdL4sU/2Sl5Qk67zT+ECXqujUnPP5GYDHOyLMo/pvbdjSO3wz8xxgk9X0O6Px3iw5tXcLA/lFLxEZxNpD9hKXXH7nuZP8wdXCWqnpA/9vtLrRAuhj866F8g1Nh7P3MBFMG6iWk/wp5CzBSBR79hW+iOasZ/v/sub84E45G/EhiI8dxzmr/RVj1SGCqev+c+eZN45J2/NMBeXmgbnr8HJzaJpRmev+iKbNhbw52/w63K5n4Wnb+hJjKcLBecv4TNbYd4ypq/8cMv6p41mb/GTpWZL12XvzSvWX0CRZW/It2ymebvkr/r96XVYl+Qv59aYfQLK4u/6NciPfEkhb96Rbl8A1l9v1D08h6n926/Pxv9296MJL9xT3rMjnxuP+O+Jbz3JIA/GJbzjNZTiT8P6y3CvJ6RP4ULQVcH8ZY/YOru8ZxvnD/GAhUYeb+gP7qk3cDdl6I//ii7uEyPoz8shHiU2wSkPyj2Beeqm6Q/tvcTunDSpT/uax5mjM+nP+43FoScaao/22X54h1srT+A688Dz1+wP8hyD6/VNLI/RG2P5XNDtD/nRTLIr6W2P43r+NtZlbk/\",\"dtype\":\"float64\",\"shape\":[75]},\"y\":{\"__ndarray__\":\"GhExyth1ND/Sv8nbtpRIP2vylNV0PVE/aTum7souWD/At0SJ8fVgPw3Iuahxymc/MSNhhJWvcD/bTfBN02d3P2zb5nxnaoA/CD5h5MAGhz8NmeH1TyaQP+zrCsc9p5Y/LbKd76fGnz/bLW5ISEmmPww9YvTcQq8/JV2OstnstT8Er5Y7M8G+P0c+r3jqkcU/5h99k6ZBzj88bCIzFzjVP4enV8oyxN0//yH99nXg5D8qOpLLf0jtP5kqGJXUifQ/c9cS8kHP/D+/DpwzojQEQIEmwoanVwxA4lgXt9HgE0BSSZ2AJuIbQAMJih9jjiNA5q4l5INuK0AwTKYKRj0zQNv5fmq8/DpAaCJseHrtQkB/+zpwzoxKQM3MzMzMeFJAZmZmZmZqWEAAAAAAAFxeQM3MzMzMJmJAmpmZmZkfZUBmZmZmZhhoQDMzMzMzEWtAAAAAAAAKbkBmZmZmZoFwQM3MzMzM/XFAMzMzMzN6c0CamZmZmfZ0QAAAAAAAc3ZAZmZmZmbvd0DNzMzMzGt5QDMzMzMz6HpAmpmZmZlkfEAAAAAAAOF9QGZmZmZmXX9AZmZmZuZsgECamZmZGSuBQM3MzMxM6YFAAAAAAICngkAzMzMzs2WDQGZmZmbmI4RAmpmZmRnihEDNzMzMTKCFQAAAAACAXoZAMzMzM7Mch0BmZmZm5tqHQJqZmZkZmYhAzczMzExXiUAAAAAAgBWKQDMzMzOz04pAZmZmZuaRi0CamZmZGVCMQM3MzMxMDo1AAAAAAIDMjUAzMzMzs4qOQGZmZmbmSI9A\",\"dtype\":\"float64\",\"shape\":[75]}},\"selected\":{\"id\":\"2b7b73af-fec1-41c0-a1e7-1304e0fb5f1c\",\"type\":\"Selection\"},\"selection_policy\":{\"id\":\"0c1a0f2d-44c3-45ba-aa30-ba59874aa469\",\"type\":\"UnionRenderers\"}},\"id\":\"6e625c6a-523b-4514-9335-a1290b1c88a0\",\"type\":\"ColumnDataSource\"},{\"attributes\":{\"data_source\":{\"id\":\"6e625c6a-523b-4514-9335-a1290b1c88a0\",\"type\":\"ColumnDataSource\"},\"glyph\":{\"id\":\"d494097b-28c5-4dcb-9d9b-d05dc59bccc1\",\"type\":\"Line\"},\"hover_glyph\":null,\"muted_glyph\":null,\"nonselection_glyph\":{\"id\":\"fa796f11-b0ee-4f00-a702-6115aa0e7cca\",\"type\":\"Line\"},\"selection_glyph\":null,\"view\":{\"id\":\"9bc1c326-d0a8-4522-85b9-5e60d4e7b587\",\"type\":\"CDSView\"}},\"id\":\"ee0c03d2-3cb2-48fd-b7f7-b4a591ded12f\",\"type\":\"GlyphRenderer\"},{\"attributes\":{\"source\":{\"id\":\"518ac8ce-efd2-4a6f-8f46-bfc6905c9783\",\"type\":\"ColumnDataSource\"}},\"id\":\"4f0e5382-f782-4952-8b30-3db1a5598fdb\",\"type\":\"CDSView\"},{\"attributes\":{\"line_alpha\":0.1,\"line_color\":\"#1f77b4\",\"line_width\":1.5,\"x\":{\"field\":\"x\"},\"y\":{\"field\":\"y\"}},\"id\":\"fa796f11-b0ee-4f00-a702-6115aa0e7cca\",\"type\":\"Line\"},{\"attributes\":{\"line_color\":\"#4daf4a\",\"line_width\":1.5,\"x\":{\"field\":\"x\"},\"y\":{\"field\":\"y\"}},\"id\":\"d494097b-28c5-4dcb-9d9b-d05dc59bccc1\",\"type\":\"Line\"},{\"attributes\":{\"plot\":null,\"text\":\"\"},\"id\":\"b3bf8a17-329e-4031-aec3-6c0574e3875e\",\"type\":\"Title\"},{\"attributes\":{\"label\":{\"value\":\"CLIRAD\"},\"renderers\":[{\"id\":\"4d8037b7-7a74-4df2-a5b2-c4ae9a1836fc\",\"type\":\"GlyphRenderer\"}]},\"id\":\"e7bd997b-9ed3-4faf-8a07-bc8e0ee12bc1\",\"type\":\"LegendItem\"},{\"attributes\":{},\"id\":\"0890e68f-08e5-4ceb-baa8-0e9f516ca33a\",\"type\":\"LinearScale\"},{\"attributes\":{\"label\":{\"value\":\"CRD\"},\"renderers\":[{\"id\":\"1f440305-55a7-43b2-8e80-3b7cf337656b\",\"type\":\"GlyphRenderer\"},{\"id\":\"ee0c03d2-3cb2-48fd-b7f7-b4a591ded12f\",\"type\":\"GlyphRenderer\"}]},\"id\":\"07a34ced-b175-4ed1-8439-54e0ddb27811\",\"type\":\"LegendItem\"},{\"attributes\":{\"above\":[{\"id\":\"9dbc7fc5-f303-4d22-ae6d-b7b137a83514\",\"type\":\"Legend\"}],\"below\":[{\"id\":\"720170f6-6f1c-4721-9063-accfb506dcca\",\"type\":\"LinearAxis\"}],\"left\":[{\"id\":\"71707dc2-8ad9-4483-ba96-8aae3c5c02a2\",\"type\":\"LogAxis\"}],\"plot_width\":300,\"renderers\":[{\"id\":\"720170f6-6f1c-4721-9063-accfb506dcca\",\"type\":\"LinearAxis\"},{\"id\":\"5e402ad2-16a7-439a-bdeb-ae2ba0c34e52\",\"type\":\"Grid\"},{\"id\":\"71707dc2-8ad9-4483-ba96-8aae3c5c02a2\",\"type\":\"LogAxis\"},{\"id\":\"630d0f67-99b2-46f2-8904-18550991ad51\",\"type\":\"Grid\"},{\"id\":\"ce3541c3-66a6-4189-b692-8d68e3e2bdae\",\"type\":\"BoxAnnotation\"},{\"id\":\"5d5d1a24-d5a4-443c-b07a-9ebd693b3b85\",\"type\":\"GlyphRenderer\"},{\"id\":\"b15f80fa-240d-4619-9d5c-947e9474fc18\",\"type\":\"GlyphRenderer\"},{\"id\":\"9dbc7fc5-f303-4d22-ae6d-b7b137a83514\",\"type\":\"Legend\"}],\"title\":{\"id\":\"b5c10096-ceb4-4fb6-b9ba-fd3bb30ae9ee\",\"type\":\"Title\"},\"toolbar\":{\"id\":\"b896a65f-bc49-4f87-9dbb-eac895a8f25f\",\"type\":\"Toolbar\"},\"toolbar_location\":null,\"x_range\":{\"id\":\"d34ea4e8-93dc-4d28-b684-d61788a93a23\",\"type\":\"Range1d\"},\"x_scale\":{\"id\":\"0890e68f-08e5-4ceb-baa8-0e9f516ca33a\",\"type\":\"LinearScale\"},\"y_range\":{\"id\":\"50664d5e-a1bc-4931-a7e2-57a4b9bc337b\",\"type\":\"Range1d\"},\"y_scale\":{\"id\":\"bc52077a-e12b-4218-8522-344adf2b4c5f\",\"type\":\"LogScale\"}},\"id\":\"15c3cde2-aa2e-4783-a846-039531f4b10b\",\"subtype\":\"Figure\",\"type\":\"Plot\"},{\"attributes\":{\"fill_alpha\":{\"value\":0.1},\"fill_color\":{\"value\":\"#1f77b4\"},\"line_alpha\":{\"value\":0.1},\"line_color\":{\"value\":\"#1f77b4\"},\"x\":{\"field\":\"x\"},\"y\":{\"field\":\"y\"}},\"id\":\"27aac168-ea30-4a32-be82-8b10d3edfc8f\",\"type\":\"Circle\"},{\"attributes\":{\"source\":{\"id\":\"f57e92f4-9e85-4ba5-bb6c-5d31fe8861b1\",\"type\":\"ColumnDataSource\"}},\"id\":\"099825bb-ffd4-407a-bed9-7e5946278585\",\"type\":\"CDSView\"},{\"attributes\":{\"callback\":null,\"end\":0.24761858982875998,\"start\":-0.07739593078476},\"id\":\"ad36347d-eeaf-4444-9d9c-9e4a582735bb\",\"type\":\"Range1d\"},{\"attributes\":{\"items\":[{\"id\":\"e7bd997b-9ed3-4faf-8a07-bc8e0ee12bc1\",\"type\":\"LegendItem\"},{\"id\":\"07a34ced-b175-4ed1-8439-54e0ddb27811\",\"type\":\"LegendItem\"}],\"label_text_font_size\":{\"value\":\"8pt\"},\"location\":\"top_center\",\"orientation\":\"horizontal\",\"plot\":{\"id\":\"153b561b-9f1a-4069-81a6-f3060f244f83\",\"subtype\":\"Figure\",\"type\":\"Plot\"}},\"id\":\"bf4e0473-4838-4c70-9a58-2efb5fbb25e7\",\"type\":\"Legend\"},{\"attributes\":{\"callback\":null,\"end\":0.03728994484361001,\"start\":-0.018898200558609985},\"id\":\"d34ea4e8-93dc-4d28-b684-d61788a93a23\",\"type\":\"Range1d\"},{\"attributes\":{\"callback\":null,\"data\":{\"x\":{\"__ndarray__\":\"mLquSXjOoz+etuj5pKajP6+XGcTIWaM/e8Gfks0Eoz99Mw1fsrWiP09xT+VOZ6I/FPV8dtomoj/uPF+7uO2hP/ope6TqwKE/uPZbZuSqoT9z2a4Giq2hP/F+LVM03KE/ieaGNbQ6oj8uh/P7ds+iP1emE5HHVqI/tAZLwz7Nnz/ge1ANiPWYPyoF1nFbfZE/sP/CW9rogj+A24wiTeBLPyDlr2dtk4G/eEsF56TJkr/A+j+mSFiMv8C4ZI0R9WM/kMNgWOvWjz+Aaf45tbmWPwCmDp9OtZQ/DHpw/pMPij+0PvfFLNJyP0BBz8zjS02/uF8l/jfpY7/wpQOTLclVv6DFPeAjwzQ/nO3LJ4KVTD8AKfI+q2ANP0CJf+psQFy/oFiX6GZear9IFReGkolvv7wkaoTnrnC/kABCCmTDbr8IryUE+Chrv2DVMaE2Ami/APNCHdi8ZL/QQI0c/khiv3im6eObcGC/ULi2hHFlXb/QUYJbML9cv3BR1evJ41u/8G6eJcD2W79gd+zOWddcv7C3BhYciV6/gGbiajuAYL+s1RAjzQdhv1KtMoZ3PmK/DforH66RYr+k1ha7r2Fjv6hctjUGZGO/cHvXRgC+Y7+8dV3mVkhkv4hjPrcANGW/0I/K5kGdZr9YN4bv9Sdov4DXmSZm7Gi/wNrJPAcRZ79wi/xfSktkv7DHJQrdl2G/QNaVc6UNX7/gBZAeTtBav8AZfW4+zle/wBg4KHJkVL+A2EDtVCBNv4AN0Wid5ES/AIIauvHgQr+AIdfGKWdLvwC06hQf72K/\",\"dtype\":\"float64\",\"shape\":[75]},\"y\":{\"__ndarray__\":\"GhExyth1ND/Sv8nbtpRIP2vylNV0PVE/aTum7souWD/At0SJ8fVgPw3Iuahxymc/MSNhhJWvcD/bTfBN02d3P2zb5nxnaoA/CD5h5MAGhz8NmeH1TyaQP+zrCsc9p5Y/LbKd76fGnz/bLW5ISEmmPww9YvTcQq8/JV2OstnstT8Er5Y7M8G+P0c+r3jqkcU/5h99k6ZBzj88bCIzFzjVP4enV8oyxN0//yH99nXg5D8qOpLLf0jtP5kqGJXUifQ/c9cS8kHP/D+/DpwzojQEQIEmwoanVwxA4lgXt9HgE0BSSZ2AJuIbQAMJih9jjiNA5q4l5INuK0AwTKYKRj0zQNv5fmq8/DpAaCJseHrtQkB/+zpwzoxKQM3MzMzMeFJAZmZmZmZqWEAAAAAAAFxeQM3MzMzMJmJAmpmZmZkfZUBmZmZmZhhoQDMzMzMzEWtAAAAAAAAKbkBmZmZmZoFwQM3MzMzM/XFAMzMzMzN6c0CamZmZmfZ0QAAAAAAAc3ZAZmZmZmbvd0DNzMzMzGt5QDMzMzMz6HpAmpmZmZlkfEAAAAAAAOF9QGZmZmZmXX9AZmZmZuZsgECamZmZGSuBQM3MzMxM6YFAAAAAAICngkAzMzMzs2WDQGZmZmbmI4RAmpmZmRnihEDNzMzMTKCFQAAAAACAXoZAMzMzM7Mch0BmZmZm5tqHQJqZmZkZmYhAzczMzExXiUAAAAAAgBWKQDMzMzOz04pAZmZmZuaRi0CamZmZGVCMQM3MzMxMDo1AAAAAAIDMjUAzMzMzs4qOQGZmZmbmSI9A\",\"dtype\":\"float64\",\"shape\":[75]}},\"selected\":{\"id\":\"25a81303-8bdf-4e51-87da-d3449dfcb711\",\"type\":\"Selection\"},\"selection_policy\":{\"id\":\"9c4a61c9-0b71-4d4f-9d2a-368c8afea453\",\"type\":\"UnionRenderers\"}},\"id\":\"4fff977c-a00e-4493-ad69-690672b376ac\",\"type\":\"ColumnDataSource\"},{\"attributes\":{\"active_drag\":\"auto\",\"active_inspect\":\"auto\",\"active_scroll\":\"auto\",\"active_tap\":\"auto\",\"tools\":[{\"id\":\"f2436c72-45e4-4c0f-99ae-6039b2001c32\",\"type\":\"PanTool\"},{\"id\":\"7eefd325-92e6-4438-b9fe-7d35be12adeb\",\"type\":\"WheelZoomTool\"},{\"id\":\"b7c18172-d9ff-44a9-b295-7d13c3589e81\",\"type\":\"BoxZoomTool\"},{\"id\":\"bffed81a-ed65-49e7-bd72-20de8e99ab1a\",\"type\":\"SaveTool\"},{\"id\":\"550322fe-965e-4f32-a709-c7b9f5cc4efb\",\"type\":\"ResetTool\"},{\"id\":\"58978749-7256-4566-ab90-84accfc1aad2\",\"type\":\"HelpTool\"}]},\"id\":\"6b3b3dee-de27-40fa-8f85-b005491340b9\",\"type\":\"Toolbar\"},{\"attributes\":{\"active_drag\":\"auto\",\"active_inspect\":\"auto\",\"active_scroll\":\"auto\",\"active_tap\":\"auto\",\"tools\":[{\"id\":\"9c299e5b-bff9-45e1-a338-85137c76a729\",\"type\":\"PanTool\"},{\"id\":\"3d7499cf-a4ce-424c-acda-6ca4c1562c36\",\"type\":\"WheelZoomTool\"},{\"id\":\"d0984f58-5e47-4e1d-b627-08a921abad46\",\"type\":\"BoxZoomTool\"},{\"id\":\"e5d08646-6dc9-4cc3-84a0-ab0f199acf43\",\"type\":\"SaveTool\"},{\"id\":\"48af32fd-9ba5-4088-9bf9-2d81a95bf259\",\"type\":\"ResetTool\"},{\"id\":\"2d77f7a3-8cce-4703-a515-f58a656ed7a7\",\"type\":\"HelpTool\"}]},\"id\":\"b896a65f-bc49-4f87-9dbb-eac895a8f25f\",\"type\":\"Toolbar\"},{\"attributes\":{\"items\":[{\"id\":\"232904d9-fde3-48e8-a56a-a6edd99c78e3\",\"type\":\"LegendItem\"}],\"label_text_font_size\":{\"value\":\"8pt\"},\"location\":\"top_center\",\"orientation\":\"horizontal\",\"plot\":{\"id\":\"15c3cde2-aa2e-4783-a846-039531f4b10b\",\"subtype\":\"Figure\",\"type\":\"Plot\"}},\"id\":\"9dbc7fc5-f303-4d22-ae6d-b7b137a83514\",\"type\":\"Legend\"},{\"attributes\":{},\"id\":\"bc52077a-e12b-4218-8522-344adf2b4c5f\",\"type\":\"LogScale\"},{\"attributes\":{\"children\":[{\"id\":\"5404cd91-382d-4ce7-ae7b-58d091004865\",\"subtype\":\"Figure\",\"type\":\"Plot\"},{\"id\":\"153b561b-9f1a-4069-81a6-f3060f244f83\",\"subtype\":\"Figure\",\"type\":\"Plot\"},{\"id\":\"15c3cde2-aa2e-4783-a846-039531f4b10b\",\"subtype\":\"Figure\",\"type\":\"Plot\"}]},\"id\":\"f0d9d57f-8de7-435d-aec7-d728bc0c4068\",\"type\":\"Row\"},{\"attributes\":{\"dimension\":1,\"plot\":{\"id\":\"15c3cde2-aa2e-4783-a846-039531f4b10b\",\"subtype\":\"Figure\",\"type\":\"Plot\"},\"ticker\":{\"id\":\"51b6793e-f716-4f31-a1dc-1bbef0671ece\",\"type\":\"LogTicker\"}},\"id\":\"630d0f67-99b2-46f2-8904-18550991ad51\",\"type\":\"Grid\"},{\"attributes\":{\"num_minor_ticks\":10},\"id\":\"51b6793e-f716-4f31-a1dc-1bbef0671ece\",\"type\":\"LogTicker\"},{\"attributes\":{\"axis_label\":\"pressure [mb]\",\"formatter\":{\"id\":\"93527d0a-dd50-4479-ae55-3877a9aff795\",\"type\":\"LogTickFormatter\"},\"plot\":{\"id\":\"15c3cde2-aa2e-4783-a846-039531f4b10b\",\"subtype\":\"Figure\",\"type\":\"Plot\"},\"ticker\":{\"id\":\"51b6793e-f716-4f31-a1dc-1bbef0671ece\",\"type\":\"LogTicker\"}},\"id\":\"71707dc2-8ad9-4483-ba96-8aae3c5c02a2\",\"type\":\"LogAxis\"},{\"attributes\":{},\"id\":\"f05668d5-67ad-4a38-8ee3-125803de22f0\",\"type\":\"BasicTicker\"},{\"attributes\":{\"axis_label\":\"cooling rate [K/day]\",\"formatter\":{\"id\":\"d5c9d5c1-0c13-490d-860a-5601a0b1ddad\",\"type\":\"BasicTickFormatter\"},\"plot\":{\"id\":\"15c3cde2-aa2e-4783-a846-039531f4b10b\",\"subtype\":\"Figure\",\"type\":\"Plot\"},\"ticker\":{\"id\":\"f05668d5-67ad-4a38-8ee3-125803de22f0\",\"type\":\"BasicTicker\"}},\"id\":\"720170f6-6f1c-4721-9063-accfb506dcca\",\"type\":\"LinearAxis\"},{\"attributes\":{\"plot\":{\"id\":\"15c3cde2-aa2e-4783-a846-039531f4b10b\",\"subtype\":\"Figure\",\"type\":\"Plot\"},\"ticker\":{\"id\":\"f05668d5-67ad-4a38-8ee3-125803de22f0\",\"type\":\"BasicTicker\"}},\"id\":\"5e402ad2-16a7-439a-bdeb-ae2ba0c34e52\",\"type\":\"Grid\"},{\"attributes\":{},\"id\":\"3d7499cf-a4ce-424c-acda-6ca4c1562c36\",\"type\":\"WheelZoomTool\"},{\"attributes\":{\"bottom_units\":\"screen\",\"fill_alpha\":{\"value\":0.5},\"fill_color\":{\"value\":\"lightgrey\"},\"left_units\":\"screen\",\"level\":\"overlay\",\"line_alpha\":{\"value\":1.0},\"line_color\":{\"value\":\"black\"},\"line_dash\":[4,4],\"line_width\":{\"value\":2},\"plot\":null,\"render_mode\":\"css\",\"right_units\":\"screen\",\"top_units\":\"screen\"},\"id\":\"ce3541c3-66a6-4189-b692-8d68e3e2bdae\",\"type\":\"BoxAnnotation\"},{\"attributes\":{},\"id\":\"9c299e5b-bff9-45e1-a338-85137c76a729\",\"type\":\"PanTool\"},{\"attributes\":{\"overlay\":{\"id\":\"ce3541c3-66a6-4189-b692-8d68e3e2bdae\",\"type\":\"BoxAnnotation\"}},\"id\":\"d0984f58-5e47-4e1d-b627-08a921abad46\",\"type\":\"BoxZoomTool\"},{\"attributes\":{},\"id\":\"e5d08646-6dc9-4cc3-84a0-ab0f199acf43\",\"type\":\"SaveTool\"},{\"attributes\":{},\"id\":\"48af32fd-9ba5-4088-9bf9-2d81a95bf259\",\"type\":\"ResetTool\"},{\"attributes\":{},\"id\":\"2d77f7a3-8cce-4703-a515-f58a656ed7a7\",\"type\":\"HelpTool\"},{\"attributes\":{\"callback\":null,\"data\":{\"x\":{\"__ndarray__\":\"mLquSXjOoz+etuj5pKajP6+XGcTIWaM/e8Gfks0Eoz99Mw1fsrWiP09xT+VOZ6I/FPV8dtomoj/uPF+7uO2hP/ope6TqwKE/uPZbZuSqoT9z2a4Giq2hP/F+LVM03KE/ieaGNbQ6oj8uh/P7ds+iP1emE5HHVqI/tAZLwz7Nnz/ge1ANiPWYPyoF1nFbfZE/sP/CW9rogj+A24wiTeBLPyDlr2dtk4G/eEsF56TJkr/A+j+mSFiMv8C4ZI0R9WM/kMNgWOvWjz+Aaf45tbmWPwCmDp9OtZQ/DHpw/pMPij+0PvfFLNJyP0BBz8zjS02/uF8l/jfpY7/wpQOTLclVv6DFPeAjwzQ/nO3LJ4KVTD8AKfI+q2ANP0CJf+psQFy/oFiX6GZear9IFReGkolvv7wkaoTnrnC/kABCCmTDbr8IryUE+Chrv2DVMaE2Ami/APNCHdi8ZL/QQI0c/khiv3im6eObcGC/ULi2hHFlXb/QUYJbML9cv3BR1evJ41u/8G6eJcD2W79gd+zOWddcv7C3BhYciV6/gGbiajuAYL+s1RAjzQdhv1KtMoZ3PmK/DforH66RYr+k1ha7r2Fjv6hctjUGZGO/cHvXRgC+Y7+8dV3mVkhkv4hjPrcANGW/0I/K5kGdZr9YN4bv9Sdov4DXmSZm7Gi/wNrJPAcRZ79wi/xfSktkv7DHJQrdl2G/QNaVc6UNX7/gBZAeTtBav8AZfW4+zle/wBg4KHJkVL+A2EDtVCBNv4AN0Wid5ES/AIIauvHgQr+AIdfGKWdLvwC06hQf72K/\",\"dtype\":\"float64\",\"shape\":[75]},\"y\":{\"__ndarray__\":\"GhExyth1ND/Sv8nbtpRIP2vylNV0PVE/aTum7souWD/At0SJ8fVgPw3Iuahxymc/MSNhhJWvcD/bTfBN02d3P2zb5nxnaoA/CD5h5MAGhz8NmeH1TyaQP+zrCsc9p5Y/LbKd76fGnz/bLW5ISEmmPww9YvTcQq8/JV2OstnstT8Er5Y7M8G+P0c+r3jqkcU/5h99k6ZBzj88bCIzFzjVP4enV8oyxN0//yH99nXg5D8qOpLLf0jtP5kqGJXUifQ/c9cS8kHP/D+/DpwzojQEQIEmwoanVwxA4lgXt9HgE0BSSZ2AJuIbQAMJih9jjiNA5q4l5INuK0AwTKYKRj0zQNv5fmq8/DpAaCJseHrtQkB/+zpwzoxKQM3MzMzMeFJAZmZmZmZqWEAAAAAAAFxeQM3MzMzMJmJAmpmZmZkfZUBmZmZmZhhoQDMzMzMzEWtAAAAAAAAKbkBmZmZmZoFwQM3MzMzM/XFAMzMzMzN6c0CamZmZmfZ0QAAAAAAAc3ZAZmZmZmbvd0DNzMzMzGt5QDMzMzMz6HpAmpmZmZlkfEAAAAAAAOF9QGZmZmZmXX9AZmZmZuZsgECamZmZGSuBQM3MzMxM6YFAAAAAAICngkAzMzMzs2WDQGZmZmbmI4RAmpmZmRnihEDNzMzMTKCFQAAAAACAXoZAMzMzM7Mch0BmZmZm5tqHQJqZmZkZmYhAzczMzExXiUAAAAAAgBWKQDMzMzOz04pAZmZmZuaRi0CamZmZGVCMQM3MzMxMDo1AAAAAAIDMjUAzMzMzs4qOQGZmZmbmSI9A\",\"dtype\":\"float64\",\"shape\":[75]}},\"selected\":{\"id\":\"fb58630f-71bf-4537-aa3f-36c6e3fd5fee\",\"type\":\"Selection\"},\"selection_policy\":{\"id\":\"83b88755-a776-4a47-86da-10259e6b1324\",\"type\":\"UnionRenderers\"}},\"id\":\"f57e92f4-9e85-4ba5-bb6c-5d31fe8861b1\",\"type\":\"ColumnDataSource\"},{\"attributes\":{\"children\":[{\"id\":\"f0d9d57f-8de7-435d-aec7-d728bc0c4068\",\"type\":\"Row\"}]},\"id\":\"ac859a53-071b-4519-8604-fee54b2f404f\",\"type\":\"Column\"},{\"attributes\":{\"above\":[{\"id\":\"80a3cc65-0343-489d-8ca4-e19f3b91342a\",\"type\":\"Legend\"}],\"below\":[{\"id\":\"69c9f29e-b7a3-449a-ac71-e166a45e1fcb\",\"type\":\"LinearAxis\"}],\"left\":[{\"id\":\"c3967b29-c937-4a5f-9bfc-e0276bc5df41\",\"type\":\"LinearAxis\"}],\"plot_width\":300,\"renderers\":[{\"id\":\"69c9f29e-b7a3-449a-ac71-e166a45e1fcb\",\"type\":\"LinearAxis\"},{\"id\":\"46e5bf93-6e96-441e-84f7-316676d4b21b\",\"type\":\"Grid\"},{\"id\":\"c3967b29-c937-4a5f-9bfc-e0276bc5df41\",\"type\":\"LinearAxis\"},{\"id\":\"5d9ce9ba-6715-40f8-8805-37b0218173b5\",\"type\":\"Grid\"},{\"id\":\"2894bdc7-b466-4614-8c6b-4ff5f27a65e0\",\"type\":\"BoxAnnotation\"},{\"id\":\"9d7ad441-6b1e-4935-a749-a2f2909c925b\",\"type\":\"GlyphRenderer\"},{\"id\":\"7ba14e96-9d6c-420a-82b5-644c80ca0351\",\"type\":\"GlyphRenderer\"},{\"id\":\"e64c4e55-c400-4f7f-b688-d77e37d76748\",\"type\":\"GlyphRenderer\"},{\"id\":\"80a3cc65-0343-489d-8ca4-e19f3b91342a\",\"type\":\"Legend\"}],\"title\":{\"id\":\"b3bf8a17-329e-4031-aec3-6c0574e3875e\",\"type\":\"Title\"},\"toolbar\":{\"id\":\"698947ef-3056-4ae7-9e09-f3b630a456c1\",\"type\":\"Toolbar\"},\"toolbar_location\":null,\"x_range\":{\"id\":\"6ba3bc7b-bc6d-4491-a0ca-17c5048f5b35\",\"type\":\"Range1d\"},\"x_scale\":{\"id\":\"f48d25c3-39bc-4680-b54c-d37b926b1464\",\"type\":\"LinearScale\"},\"y_range\":{\"id\":\"f25e07bd-707e-4376-b99a-935eda46ec37\",\"type\":\"Range1d\"},\"y_scale\":{\"id\":\"9cb54fe1-6d25-4cfe-acd4-c00c31394d73\",\"type\":\"LinearScale\"}},\"id\":\"5404cd91-382d-4ce7-ae7b-58d091004865\",\"subtype\":\"Figure\",\"type\":\"Plot\"},{\"attributes\":{\"fill_alpha\":{\"value\":0.7},\"fill_color\":{\"value\":\"#984ea3\"},\"line_alpha\":{\"value\":0.7},\"line_color\":{\"value\":\"#984ea3\"},\"x\":{\"field\":\"x\"},\"y\":{\"field\":\"y\"}},\"id\":\"b00da88d-8859-4ba6-b037-33a2f36e5372\",\"type\":\"Circle\"},{\"attributes\":{\"above\":[{\"id\":\"bf4e0473-4838-4c70-9a58-2efb5fbb25e7\",\"type\":\"Legend\"}],\"below\":[{\"id\":\"f0986c0c-c950-4e7f-8b9e-032b0aab369a\",\"type\":\"LinearAxis\"}],\"left\":[{\"id\":\"f057e29b-be04-40e8-b010-967eaacb10bf\",\"type\":\"LogAxis\"}],\"plot_width\":300,\"renderers\":[{\"id\":\"f0986c0c-c950-4e7f-8b9e-032b0aab369a\",\"type\":\"LinearAxis\"},{\"id\":\"bedaa39d-fa5b-4a9f-9faa-ce0ea0828b86\",\"type\":\"Grid\"},{\"id\":\"f057e29b-be04-40e8-b010-967eaacb10bf\",\"type\":\"LogAxis\"},{\"id\":\"19583c00-c40f-4679-9706-6f3839e1312f\",\"type\":\"Grid\"},{\"id\":\"3861dcb8-bac4-45f9-bd8a-5dc570db6d2b\",\"type\":\"BoxAnnotation\"},{\"id\":\"4d8037b7-7a74-4df2-a5b2-c4ae9a1836fc\",\"type\":\"GlyphRenderer\"},{\"id\":\"1f440305-55a7-43b2-8e80-3b7cf337656b\",\"type\":\"GlyphRenderer\"},{\"id\":\"ee0c03d2-3cb2-48fd-b7f7-b4a591ded12f\",\"type\":\"GlyphRenderer\"},{\"id\":\"bf4e0473-4838-4c70-9a58-2efb5fbb25e7\",\"type\":\"Legend\"}],\"title\":{\"id\":\"e6607989-0153-4846-aeb8-be71cac58ba6\",\"type\":\"Title\"},\"toolbar\":{\"id\":\"6b3b3dee-de27-40fa-8f85-b005491340b9\",\"type\":\"Toolbar\"},\"toolbar_location\":null,\"x_range\":{\"id\":\"ad36347d-eeaf-4444-9d9c-9e4a582735bb\",\"type\":\"Range1d\"},\"x_scale\":{\"id\":\"87924573-7d22-466d-9a75-9bc9cf3308af\",\"type\":\"LinearScale\"},\"y_range\":{\"id\":\"b456e6dc-0414-42bf-bf5f-ac4646840db1\",\"type\":\"Range1d\"},\"y_scale\":{\"id\":\"457e65c8-112e-4a9f-8967-9fd2627f8ab2\",\"type\":\"LogScale\"}},\"id\":\"153b561b-9f1a-4069-81a6-f3060f244f83\",\"subtype\":\"Figure\",\"type\":\"Plot\"},{\"attributes\":{\"data_source\":{\"id\":\"f57e92f4-9e85-4ba5-bb6c-5d31fe8861b1\",\"type\":\"ColumnDataSource\"},\"glyph\":{\"id\":\"b00da88d-8859-4ba6-b037-33a2f36e5372\",\"type\":\"Circle\"},\"hover_glyph\":null,\"muted_glyph\":null,\"nonselection_glyph\":{\"id\":\"27aac168-ea30-4a32-be82-8b10d3edfc8f\",\"type\":\"Circle\"},\"selection_glyph\":null,\"view\":{\"id\":\"099825bb-ffd4-407a-bed9-7e5946278585\",\"type\":\"CDSView\"}},\"id\":\"5d5d1a24-d5a4-443c-b07a-9ebd693b3b85\",\"type\":\"GlyphRenderer\"},{\"attributes\":{\"callback\":null,\"end\":0.01,\"start\":1020},\"id\":\"50664d5e-a1bc-4931-a7e2-57a4b9bc337b\",\"type\":\"Range1d\"}],\"root_ids\":[\"e192e56a-b255-4258-9697-8e4c16109094\"]},\"title\":\"Bokeh Application\",\"version\":\"0.12.16\"}};\n",
       "  var render_items = [{\"docid\":\"b415b8e9-c32b-4f77-8a73-d556224a1b83\",\"elementid\":\"313d4c20-2928-4db5-81fc-55571e015ecc\",\"modelid\":\"e192e56a-b255-4258-9697-8e4c16109094\"}];\n",
       "  root.Bokeh.embed.embed_items_notebook(docs_json, render_items);\n",
       "\n",
       "  }\n",
       "  if (root.Bokeh !== undefined) {\n",
       "    embed_document(root);\n",
       "  } else {\n",
       "    var attempts = 0;\n",
       "    var timer = setInterval(function(root) {\n",
       "      if (root.Bokeh !== undefined) {\n",
       "        embed_document(root);\n",
       "        clearInterval(timer);\n",
       "      }\n",
       "      attempts++;\n",
       "      if (attempts > 100) {\n",
       "        console.log(\"Bokeh: ERROR: Unable to run BokehJS code because BokehJS library is missing\")\n",
       "        clearInterval(timer);\n",
       "      }\n",
       "    }, 10, root)\n",
       "  }\n",
       "})(window);"
      ],
      "application/vnd.bokehjs_exec.v0+json": ""
     },
     "metadata": {
      "application/vnd.bokehjs_exec.v0+json": {
       "id": "e192e56a-b255-4258-9697-8e4c16109094"
      }
     },
     "output_type": "display_data"
    },
    {
     "data": {
      "text/markdown": [
       "*FIGURE.* Cooling rates & difference."
      ],
      "text/plain": [
       "<IPython.core.display.Markdown object>"
      ]
     },
     "metadata": {},
     "output_type": "display_data"
    },
    {
     "data": {
      "text/html": [
       "<a id=\"Fluxes._trp.\"></a>"
      ],
      "text/plain": [
       "<IPython.core.display.HTML object>"
      ]
     },
     "metadata": {},
     "output_type": "display_data"
    },
    {
     "data": {
      "text/markdown": [
       "# Fluxes. trp."
      ],
      "text/plain": [
       "<IPython.core.display.Markdown object>"
      ]
     },
     "metadata": {},
     "output_type": "display_data"
    },
    {
     "data": {
      "text/html": [
       "\n",
       "<div class=\"bk-root\">\n",
       "    <div class=\"bk-plotdiv\" id=\"3574d383-f1d3-4331-8771-4c55d0e9255a\"></div>\n",
       "</div>"
      ]
     },
     "metadata": {},
     "output_type": "display_data"
    },
    {
     "data": {
      "application/javascript": [
       "(function(root) {\n",
       "  function embed_document(root) {\n",
       "    \n",
       "  var docs_json = {\"593569a2-e7bf-44ec-b30f-046fd88f6b89\":{\"roots\":{\"references\":[{\"attributes\":{},\"id\":\"aaf372ef-f144-4734-ab7a-e7774f37efe4\",\"type\":\"ResetTool\"},{\"attributes\":{\"fill_alpha\":{\"value\":0.1},\"fill_color\":{\"value\":\"#1f77b4\"},\"line_alpha\":{\"value\":0.1},\"line_color\":{\"value\":\"#1f77b4\"},\"top\":{\"field\":\"flux\"},\"width\":{\"value\":0.9},\"x\":{\"field\":\"band\"}},\"id\":\"ee9fb00b-f621-48e0-873c-b63df874c76b\",\"type\":\"VBar\"},{\"attributes\":{},\"id\":\"96631037-b0b4-412b-a735-6c4ec5ae88c1\",\"type\":\"SaveTool\"},{\"attributes\":{\"callback\":null,\"factors\":[\"9\"]},\"id\":\"83f788f5-cbb6-47be-9bea-1afbdbbd6129\",\"type\":\"FactorRange\"},{\"attributes\":{\"fill_color\":{\"value\":\"#1f77b4\"},\"line_color\":{\"value\":\"#1f77b4\"},\"top\":{\"field\":\"flux\"},\"width\":{\"value\":0.9},\"x\":{\"field\":\"band\"}},\"id\":\"f3ae221d-7246-4b49-93ba-a1427da56501\",\"type\":\"VBar\"},{\"attributes\":{\"overlay\":{\"id\":\"5037ad5c-3248-45dd-8920-75d2b06d1902\",\"type\":\"BoxAnnotation\"}},\"id\":\"09a071b6-0bd1-4dee-8e3a-1390a2640255\",\"type\":\"BoxZoomTool\"},{\"attributes\":{},\"id\":\"b50d431f-2c4d-40dc-90f7-705568a535d7\",\"type\":\"WheelZoomTool\"},{\"attributes\":{\"active_drag\":\"auto\",\"active_inspect\":\"auto\",\"active_scroll\":\"auto\",\"active_tap\":\"auto\",\"tools\":[{\"id\":\"6527ad7c-a05a-4054-9a2c-dcf93032287b\",\"type\":\"PanTool\"},{\"id\":\"11dc567e-7668-4c40-a1c1-9c5c5e180b63\",\"type\":\"WheelZoomTool\"},{\"id\":\"9d50b296-f0a5-4bc0-a862-0dcb2b4cb9f2\",\"type\":\"BoxZoomTool\"},{\"id\":\"00c976eb-2467-438c-8579-45a2a5141c0a\",\"type\":\"SaveTool\"},{\"id\":\"cbe149a4-365d-40d6-987d-230efb76fd16\",\"type\":\"ResetTool\"},{\"id\":\"2f0e4aef-f2c2-4757-ab8a-4316d99be3ad\",\"type\":\"HelpTool\"}]},\"id\":\"e0446673-fc3b-4c50-aab7-0fa307ae87ab\",\"type\":\"Toolbar\"},{\"attributes\":{\"dimension\":1,\"plot\":{\"id\":\"3d83e82c-84e0-43e4-9718-de812ff9df4c\",\"subtype\":\"Figure\",\"type\":\"Plot\"},\"ticker\":{\"id\":\"6dbb791e-f564-4080-bc30-1afa9aed96fe\",\"type\":\"BasicTicker\"}},\"id\":\"bc39d929-d4d3-4f31-9a90-e593f8539812\",\"type\":\"Grid\"},{\"attributes\":{\"bottom_units\":\"screen\",\"fill_alpha\":{\"value\":0.5},\"fill_color\":{\"value\":\"lightgrey\"},\"left_units\":\"screen\",\"level\":\"overlay\",\"line_alpha\":{\"value\":1.0},\"line_color\":{\"value\":\"black\"},\"line_dash\":[4,4],\"line_width\":{\"value\":2},\"plot\":null,\"render_mode\":\"css\",\"right_units\":\"screen\",\"top_units\":\"screen\"},\"id\":\"be140a25-ae16-4a5f-a860-eddd82f178c8\",\"type\":\"BoxAnnotation\"},{\"attributes\":{\"axis_label\":\"flux (W m-2)\",\"formatter\":{\"id\":\"f324bd80-c4b5-406c-9917-11ca24311469\",\"type\":\"BasicTickFormatter\"},\"plot\":{\"id\":\"755846a5-b745-4f74-bebe-304f476c92f3\",\"subtype\":\"Figure\",\"type\":\"Plot\"},\"ticker\":{\"id\":\"9be6507e-dab9-49d0-a582-fbb0b1820479\",\"type\":\"BasicTicker\"}},\"id\":\"bbbc6c51-d018-4245-bf72-3af8614f5ed6\",\"type\":\"LinearAxis\"},{\"attributes\":{\"data_source\":{\"id\":\"11c2ae3b-6d8c-44c5-a049-2a15488cc716\",\"type\":\"ColumnDataSource\"},\"glyph\":{\"id\":\"98795fca-78fa-43f6-b2d1-f1d2c0ee0743\",\"type\":\"VBar\"},\"hover_glyph\":null,\"muted_glyph\":null,\"nonselection_glyph\":{\"id\":\"5079f6fb-90c1-469e-b784-2f6a193badf5\",\"type\":\"VBar\"},\"selection_glyph\":null,\"view\":{\"id\":\"d580866e-507c-4285-b542-64a6d0fedc44\",\"type\":\"CDSView\"}},\"id\":\"186016db-03bb-4456-bc79-e5316be7aa72\",\"type\":\"GlyphRenderer\"},{\"attributes\":{},\"id\":\"6527ad7c-a05a-4054-9a2c-dcf93032287b\",\"type\":\"PanTool\"},{\"attributes\":{},\"id\":\"8ee6f913-e81a-4a40-bf04-381b13977102\",\"type\":\"PanTool\"},{\"attributes\":{\"callback\":null},\"id\":\"fde40a8b-a929-4185-8f73-1ee097303c3a\",\"type\":\"DataRange1d\"},{\"attributes\":{\"data_source\":{\"id\":\"9ab5492d-c77b-4725-8b68-2b44d403a89f\",\"type\":\"ColumnDataSource\"},\"glyph\":{\"id\":\"f3ae221d-7246-4b49-93ba-a1427da56501\",\"type\":\"VBar\"},\"hover_glyph\":null,\"muted_glyph\":null,\"nonselection_glyph\":{\"id\":\"ee9fb00b-f621-48e0-873c-b63df874c76b\",\"type\":\"VBar\"},\"selection_glyph\":null,\"view\":{\"id\":\"b10d201b-aefb-4873-9628-5a209c439e39\",\"type\":\"CDSView\"}},\"id\":\"4d932657-3047-4cb5-a102-2edf8c82f40a\",\"type\":\"GlyphRenderer\"},{\"attributes\":{\"bottom_units\":\"screen\",\"fill_alpha\":{\"value\":0.5},\"fill_color\":{\"value\":\"lightgrey\"},\"left_units\":\"screen\",\"level\":\"overlay\",\"line_alpha\":{\"value\":1.0},\"line_color\":{\"value\":\"black\"},\"line_dash\":[4,4],\"line_width\":{\"value\":2},\"plot\":null,\"render_mode\":\"css\",\"right_units\":\"screen\",\"top_units\":\"screen\"},\"id\":\"5037ad5c-3248-45dd-8920-75d2b06d1902\",\"type\":\"BoxAnnotation\"},{\"attributes\":{},\"id\":\"11dc567e-7668-4c40-a1c1-9c5c5e180b63\",\"type\":\"WheelZoomTool\"},{\"attributes\":{\"tools\":[{\"id\":\"cb018b03-744a-4aa0-98c4-b185897967f7\",\"type\":\"PanTool\"},{\"id\":\"2ca15a5c-2155-40c2-acfe-f983f0fce7f2\",\"type\":\"WheelZoomTool\"},{\"id\":\"30d76307-18f3-4254-b95b-250cb9bf2695\",\"type\":\"BoxZoomTool\"},{\"id\":\"63c465f9-bf88-4bc4-a135-f353fd5d654c\",\"type\":\"SaveTool\"},{\"id\":\"ca7af66d-a224-4cea-b5a8-0b44b94b4a1f\",\"type\":\"ResetTool\"},{\"id\":\"2ad7ff37-2750-4e6b-8770-f946d99807cc\",\"type\":\"HelpTool\"},{\"id\":\"6527ad7c-a05a-4054-9a2c-dcf93032287b\",\"type\":\"PanTool\"},{\"id\":\"11dc567e-7668-4c40-a1c1-9c5c5e180b63\",\"type\":\"WheelZoomTool\"},{\"id\":\"9d50b296-f0a5-4bc0-a862-0dcb2b4cb9f2\",\"type\":\"BoxZoomTool\"},{\"id\":\"00c976eb-2467-438c-8579-45a2a5141c0a\",\"type\":\"SaveTool\"},{\"id\":\"cbe149a4-365d-40d6-987d-230efb76fd16\",\"type\":\"ResetTool\"},{\"id\":\"2f0e4aef-f2c2-4757-ab8a-4316d99be3ad\",\"type\":\"HelpTool\"},{\"id\":\"8ee6f913-e81a-4a40-bf04-381b13977102\",\"type\":\"PanTool\"},{\"id\":\"b50d431f-2c4d-40dc-90f7-705568a535d7\",\"type\":\"WheelZoomTool\"},{\"id\":\"09a071b6-0bd1-4dee-8e3a-1390a2640255\",\"type\":\"BoxZoomTool\"},{\"id\":\"96631037-b0b4-412b-a735-6c4ec5ae88c1\",\"type\":\"SaveTool\"},{\"id\":\"aaf372ef-f144-4734-ab7a-e7774f37efe4\",\"type\":\"ResetTool\"},{\"id\":\"e238172f-93e0-463f-a36b-c462298e2f84\",\"type\":\"HelpTool\"}]},\"id\":\"33002eb4-bf78-4db0-bed2-9e2e5db54b78\",\"type\":\"ProxyToolbar\"},{\"attributes\":{\"overlay\":{\"id\":\"be140a25-ae16-4a5f-a860-eddd82f178c8\",\"type\":\"BoxAnnotation\"}},\"id\":\"9d50b296-f0a5-4bc0-a862-0dcb2b4cb9f2\",\"type\":\"BoxZoomTool\"},{\"attributes\":{\"active_drag\":\"auto\",\"active_inspect\":\"auto\",\"active_scroll\":\"auto\",\"active_tap\":\"auto\",\"tools\":[{\"id\":\"cb018b03-744a-4aa0-98c4-b185897967f7\",\"type\":\"PanTool\"},{\"id\":\"2ca15a5c-2155-40c2-acfe-f983f0fce7f2\",\"type\":\"WheelZoomTool\"},{\"id\":\"30d76307-18f3-4254-b95b-250cb9bf2695\",\"type\":\"BoxZoomTool\"},{\"id\":\"63c465f9-bf88-4bc4-a135-f353fd5d654c\",\"type\":\"SaveTool\"},{\"id\":\"ca7af66d-a224-4cea-b5a8-0b44b94b4a1f\",\"type\":\"ResetTool\"},{\"id\":\"2ad7ff37-2750-4e6b-8770-f946d99807cc\",\"type\":\"HelpTool\"}]},\"id\":\"56b21874-e373-42d1-b5f1-0ff1e8edba1a\",\"type\":\"Toolbar\"},{\"attributes\":{\"fill_color\":{\"value\":\"#1f77b4\"},\"line_color\":{\"value\":\"#1f77b4\"},\"top\":{\"field\":\"flux\"},\"width\":{\"value\":0.9},\"x\":{\"field\":\"band\"}},\"id\":\"98795fca-78fa-43f6-b2d1-f1d2c0ee0743\",\"type\":\"VBar\"},{\"attributes\":{},\"id\":\"00c976eb-2467-438c-8579-45a2a5141c0a\",\"type\":\"SaveTool\"},{\"attributes\":{\"callback\":null,\"factors\":[\"9\"]},\"id\":\"ef8643d6-a139-46d9-8a55-c442e0e423d5\",\"type\":\"FactorRange\"},{\"attributes\":{},\"id\":\"a0aa6956-9b32-433f-9fa0-fd85a5920e3a\",\"type\":\"CategoricalTickFormatter\"},{\"attributes\":{},\"id\":\"cbe149a4-365d-40d6-987d-230efb76fd16\",\"type\":\"ResetTool\"},{\"attributes\":{\"plot\":null,\"text\":\"TOA flux. CLIRAD - CRD.\"},\"id\":\"ff5ffa1d-c733-41d3-a575-71b7b99d2b38\",\"type\":\"Title\"},{\"attributes\":{\"dimension\":1,\"plot\":{\"id\":\"074d3c27-d608-4d3f-8946-88579f253bc3\",\"subtype\":\"Figure\",\"type\":\"Plot\"},\"ticker\":{\"id\":\"6e63842a-589c-41cc-a0b7-b59d604e9c90\",\"type\":\"BasicTicker\"}},\"id\":\"67880759-ba5e-46ba-8783-cdda68b96f33\",\"type\":\"Grid\"},{\"attributes\":{},\"id\":\"2f0e4aef-f2c2-4757-ab8a-4316d99be3ad\",\"type\":\"HelpTool\"},{\"attributes\":{},\"id\":\"6e63842a-589c-41cc-a0b7-b59d604e9c90\",\"type\":\"BasicTicker\"},{\"attributes\":{\"axis_label\":\"flux (W m-2)\",\"formatter\":{\"id\":\"24e17dd3-9d85-4aec-801f-9f667aaa8f1d\",\"type\":\"BasicTickFormatter\"},\"plot\":{\"id\":\"074d3c27-d608-4d3f-8946-88579f253bc3\",\"subtype\":\"Figure\",\"type\":\"Plot\"},\"ticker\":{\"id\":\"6e63842a-589c-41cc-a0b7-b59d604e9c90\",\"type\":\"BasicTicker\"}},\"id\":\"fe669c91-0d2f-49f0-b410-13f5bedfdff0\",\"type\":\"LinearAxis\"},{\"attributes\":{},\"id\":\"2ea7f3aa-ab28-4919-a125-e083e5b04793\",\"type\":\"CategoricalScale\"},{\"attributes\":{\"source\":{\"id\":\"9ab5492d-c77b-4725-8b68-2b44d403a89f\",\"type\":\"ColumnDataSource\"}},\"id\":\"b10d201b-aefb-4873-9628-5a209c439e39\",\"type\":\"CDSView\"},{\"attributes\":{\"fill_alpha\":{\"value\":0.1},\"fill_color\":{\"value\":\"#1f77b4\"},\"line_alpha\":{\"value\":0.1},\"line_color\":{\"value\":\"#1f77b4\"},\"top\":{\"field\":\"flux\"},\"width\":{\"value\":0.9},\"x\":{\"field\":\"band\"}},\"id\":\"5079f6fb-90c1-469e-b784-2f6a193badf5\",\"type\":\"VBar\"},{\"attributes\":{\"children\":[{\"id\":\"755846a5-b745-4f74-bebe-304f476c92f3\",\"subtype\":\"Figure\",\"type\":\"Plot\"},{\"id\":\"3d83e82c-84e0-43e4-9718-de812ff9df4c\",\"subtype\":\"Figure\",\"type\":\"Plot\"},{\"id\":\"074d3c27-d608-4d3f-8946-88579f253bc3\",\"subtype\":\"Figure\",\"type\":\"Plot\"}]},\"id\":\"365a8cf2-ea89-4258-8b5a-22bf16632f7b\",\"type\":\"Row\"},{\"attributes\":{},\"id\":\"031eeeb3-1102-4460-b756-2b092c093117\",\"type\":\"LinearScale\"},{\"attributes\":{},\"id\":\"e238172f-93e0-463f-a36b-c462298e2f84\",\"type\":\"HelpTool\"},{\"attributes\":{\"plot\":{\"id\":\"755846a5-b745-4f74-bebe-304f476c92f3\",\"subtype\":\"Figure\",\"type\":\"Plot\"},\"ticker\":{\"id\":\"3e3dd824-a3be-475d-94b6-0483425767a4\",\"type\":\"CategoricalTicker\"}},\"id\":\"46243370-bb8c-4657-80d3-fb226a656981\",\"type\":\"Grid\"},{\"attributes\":{\"axis_label\":\"spectral band\",\"formatter\":{\"id\":\"a0aa6956-9b32-433f-9fa0-fd85a5920e3a\",\"type\":\"CategoricalTickFormatter\"},\"plot\":{\"id\":\"755846a5-b745-4f74-bebe-304f476c92f3\",\"subtype\":\"Figure\",\"type\":\"Plot\"},\"ticker\":{\"id\":\"3e3dd824-a3be-475d-94b6-0483425767a4\",\"type\":\"CategoricalTicker\"}},\"id\":\"288ee4a9-8ceb-459d-a298-e227da9aacdf\",\"type\":\"CategoricalAxis\"},{\"attributes\":{\"source\":{\"id\":\"11c2ae3b-6d8c-44c5-a049-2a15488cc716\",\"type\":\"ColumnDataSource\"}},\"id\":\"d580866e-507c-4285-b542-64a6d0fedc44\",\"type\":\"CDSView\"},{\"attributes\":{},\"id\":\"3e3dd824-a3be-475d-94b6-0483425767a4\",\"type\":\"CategoricalTicker\"},{\"attributes\":{},\"id\":\"f324bd80-c4b5-406c-9917-11ca24311469\",\"type\":\"BasicTickFormatter\"},{\"attributes\":{},\"id\":\"b878706f-d6d4-4b25-8f96-78b60405a638\",\"type\":\"Selection\"},{\"attributes\":{\"fill_color\":{\"value\":\"#1f77b4\"},\"line_color\":{\"value\":\"#1f77b4\"},\"top\":{\"field\":\"flux\"},\"width\":{\"value\":0.9},\"x\":{\"field\":\"band\"}},\"id\":\"4f2da3a0-09fe-4022-9a36-ef53ddcadc67\",\"type\":\"VBar\"},{\"attributes\":{},\"id\":\"73db6a98-2b99-4502-8f97-80b1fcd16547\",\"type\":\"UnionRenderers\"},{\"attributes\":{},\"id\":\"9be6507e-dab9-49d0-a582-fbb0b1820479\",\"type\":\"BasicTicker\"},{\"attributes\":{\"dimension\":1,\"plot\":{\"id\":\"755846a5-b745-4f74-bebe-304f476c92f3\",\"subtype\":\"Figure\",\"type\":\"Plot\"},\"ticker\":{\"id\":\"9be6507e-dab9-49d0-a582-fbb0b1820479\",\"type\":\"BasicTicker\"}},\"id\":\"25892d01-ba3b-42d1-8bd0-b93db03b7e17\",\"type\":\"Grid\"},{\"attributes\":{\"children\":[{\"id\":\"365a8cf2-ea89-4258-8b5a-22bf16632f7b\",\"type\":\"Row\"}]},\"id\":\"6f321c3a-7563-4840-af37-c92ae69bb796\",\"type\":\"Column\"},{\"attributes\":{\"fill_alpha\":{\"value\":0.1},\"fill_color\":{\"value\":\"#1f77b4\"},\"line_alpha\":{\"value\":0.1},\"line_color\":{\"value\":\"#1f77b4\"},\"top\":{\"field\":\"flux\"},\"width\":{\"value\":0.9},\"x\":{\"field\":\"band\"}},\"id\":\"9b838f6b-72a1-4795-8df8-125a308170ca\",\"type\":\"VBar\"},{\"attributes\":{},\"id\":\"fdd92595-e575-46c0-bbbe-7770961209ef\",\"type\":\"CategoricalTicker\"},{\"attributes\":{},\"id\":\"f57a7114-726f-4023-9006-945eff7d977d\",\"type\":\"CategoricalTicker\"},{\"attributes\":{},\"id\":\"5fadc545-8792-4f9d-b68a-4e3e95daaece\",\"type\":\"BasicTickFormatter\"},{\"attributes\":{},\"id\":\"ed6ed31c-777d-48fd-8b37-fb3eb9bc0207\",\"type\":\"Selection\"},{\"attributes\":{\"below\":[{\"id\":\"f5dbec23-934c-4eb5-9b21-6cd105b9f86e\",\"type\":\"CategoricalAxis\"}],\"left\":[{\"id\":\"16cc4aef-5f60-4c2f-9a8c-6256e724a54a\",\"type\":\"LinearAxis\"}],\"plot_height\":300,\"plot_width\":300,\"renderers\":[{\"id\":\"f5dbec23-934c-4eb5-9b21-6cd105b9f86e\",\"type\":\"CategoricalAxis\"},{\"id\":\"62f0cd46-1f58-4f94-9d86-c847d96fbf70\",\"type\":\"Grid\"},{\"id\":\"16cc4aef-5f60-4c2f-9a8c-6256e724a54a\",\"type\":\"LinearAxis\"},{\"id\":\"bc39d929-d4d3-4f31-9a90-e593f8539812\",\"type\":\"Grid\"},{\"id\":\"be140a25-ae16-4a5f-a860-eddd82f178c8\",\"type\":\"BoxAnnotation\"},{\"id\":\"4d932657-3047-4cb5-a102-2edf8c82f40a\",\"type\":\"GlyphRenderer\"}],\"title\":{\"id\":\"4aa5b6ac-e26f-457f-a3c7-ed297fda94e1\",\"type\":\"Title\"},\"toolbar\":{\"id\":\"e0446673-fc3b-4c50-aab7-0fa307ae87ab\",\"type\":\"Toolbar\"},\"toolbar_location\":null,\"x_range\":{\"id\":\"83f788f5-cbb6-47be-9bea-1afbdbbd6129\",\"type\":\"FactorRange\"},\"x_scale\":{\"id\":\"20be2a27-83a3-4927-8084-8093e1631e50\",\"type\":\"CategoricalScale\"},\"y_range\":{\"id\":\"a15b81b1-60b7-4532-a86f-59419fb3f1b5\",\"type\":\"DataRange1d\"},\"y_scale\":{\"id\":\"cdfa1e1b-3bcb-47ed-a5c6-07acea1ea86c\",\"type\":\"LinearScale\"}},\"id\":\"3d83e82c-84e0-43e4-9718-de812ff9df4c\",\"subtype\":\"Figure\",\"type\":\"Plot\"},{\"attributes\":{\"bottom_units\":\"screen\",\"fill_alpha\":{\"value\":0.5},\"fill_color\":{\"value\":\"lightgrey\"},\"left_units\":\"screen\",\"level\":\"overlay\",\"line_alpha\":{\"value\":1.0},\"line_color\":{\"value\":\"black\"},\"line_dash\":[4,4],\"line_width\":{\"value\":2},\"plot\":null,\"render_mode\":\"css\",\"right_units\":\"screen\",\"top_units\":\"screen\"},\"id\":\"7821dc66-ec5c-403e-aab7-b0632bed9638\",\"type\":\"BoxAnnotation\"},{\"attributes\":{},\"id\":\"cb018b03-744a-4aa0-98c4-b185897967f7\",\"type\":\"PanTool\"},{\"attributes\":{\"data_source\":{\"id\":\"9f5298b5-b1a9-4030-9163-29552756b07e\",\"type\":\"ColumnDataSource\"},\"glyph\":{\"id\":\"4f2da3a0-09fe-4022-9a36-ef53ddcadc67\",\"type\":\"VBar\"},\"hover_glyph\":null,\"muted_glyph\":null,\"nonselection_glyph\":{\"id\":\"9b838f6b-72a1-4795-8df8-125a308170ca\",\"type\":\"VBar\"},\"selection_glyph\":null,\"view\":{\"id\":\"ce2bbdc6-9c33-4adc-8679-48fccecf20fd\",\"type\":\"CDSView\"}},\"id\":\"31fdc5d0-66ff-4527-b80b-4300a816c259\",\"type\":\"GlyphRenderer\"},{\"attributes\":{},\"id\":\"2ca15a5c-2155-40c2-acfe-f983f0fce7f2\",\"type\":\"WheelZoomTool\"},{\"attributes\":{},\"id\":\"a071d2e9-64b8-4819-8e22-d10b55cf08e9\",\"type\":\"UnionRenderers\"},{\"attributes\":{\"overlay\":{\"id\":\"7821dc66-ec5c-403e-aab7-b0632bed9638\",\"type\":\"BoxAnnotation\"}},\"id\":\"30d76307-18f3-4254-b95b-250cb9bf2695\",\"type\":\"BoxZoomTool\"},{\"attributes\":{\"toolbar\":{\"id\":\"33002eb4-bf78-4db0-bed2-9e2e5db54b78\",\"type\":\"ProxyToolbar\"},\"toolbar_location\":\"above\"},\"id\":\"3458b87f-45d8-4eea-bff0-90898c9db5f5\",\"type\":\"ToolbarBox\"},{\"attributes\":{},\"id\":\"63c465f9-bf88-4bc4-a135-f353fd5d654c\",\"type\":\"SaveTool\"},{\"attributes\":{},\"id\":\"ca7af66d-a224-4cea-b5a8-0b44b94b4a1f\",\"type\":\"ResetTool\"},{\"attributes\":{},\"id\":\"f9da5951-3506-4adb-a520-c1fb08e87823\",\"type\":\"CategoricalTickFormatter\"},{\"attributes\":{},\"id\":\"2ad7ff37-2750-4e6b-8770-f946d99807cc\",\"type\":\"HelpTool\"},{\"attributes\":{},\"id\":\"a67232c4-db98-469e-baeb-9bd52b6a1d02\",\"type\":\"Selection\"},{\"attributes\":{\"source\":{\"id\":\"9f5298b5-b1a9-4030-9163-29552756b07e\",\"type\":\"ColumnDataSource\"}},\"id\":\"ce2bbdc6-9c33-4adc-8679-48fccecf20fd\",\"type\":\"CDSView\"},{\"attributes\":{},\"id\":\"2d5cd2b7-ddd8-4b41-b9a7-21468f613eae\",\"type\":\"UnionRenderers\"},{\"attributes\":{\"children\":[{\"id\":\"3458b87f-45d8-4eea-bff0-90898c9db5f5\",\"type\":\"ToolbarBox\"},{\"id\":\"6f321c3a-7563-4840-af37-c92ae69bb796\",\"type\":\"Column\"}]},\"id\":\"9dd19262-9cee-42f0-abde-daac7e933e22\",\"type\":\"Column\"},{\"attributes\":{\"plot\":{\"id\":\"074d3c27-d608-4d3f-8946-88579f253bc3\",\"subtype\":\"Figure\",\"type\":\"Plot\"},\"ticker\":{\"id\":\"fdd92595-e575-46c0-bbbe-7770961209ef\",\"type\":\"CategoricalTicker\"}},\"id\":\"53545361-fe3a-49ae-a7c8-5e67e69f3ff4\",\"type\":\"Grid\"},{\"attributes\":{\"plot\":null,\"text\":\"SFC flux. CLIRAD - CRD.\"},\"id\":\"4aa5b6ac-e26f-457f-a3c7-ed297fda94e1\",\"type\":\"Title\"},{\"attributes\":{},\"id\":\"6dbb791e-f564-4080-bc30-1afa9aed96fe\",\"type\":\"BasicTicker\"},{\"attributes\":{\"axis_label\":\"spectral band\",\"formatter\":{\"id\":\"f9da5951-3506-4adb-a520-c1fb08e87823\",\"type\":\"CategoricalTickFormatter\"},\"plot\":{\"id\":\"3d83e82c-84e0-43e4-9718-de812ff9df4c\",\"subtype\":\"Figure\",\"type\":\"Plot\"},\"ticker\":{\"id\":\"f57a7114-726f-4023-9006-945eff7d977d\",\"type\":\"CategoricalTicker\"}},\"id\":\"f5dbec23-934c-4eb5-9b21-6cd105b9f86e\",\"type\":\"CategoricalAxis\"},{\"attributes\":{\"callback\":null,\"data\":{\"band\":[\"9\"],\"flux\":{\"__ndarray__\":\"gOwAphHVzj8=\",\"dtype\":\"float64\",\"shape\":[1]}},\"selected\":{\"id\":\"b878706f-d6d4-4b25-8f96-78b60405a638\",\"type\":\"Selection\"},\"selection_policy\":{\"id\":\"2d5cd2b7-ddd8-4b41-b9a7-21468f613eae\",\"type\":\"UnionRenderers\"}},\"id\":\"11c2ae3b-6d8c-44c5-a049-2a15488cc716\",\"type\":\"ColumnDataSource\"},{\"attributes\":{},\"id\":\"24e17dd3-9d85-4aec-801f-9f667aaa8f1d\",\"type\":\"BasicTickFormatter\"},{\"attributes\":{\"axis_label\":\"spectral band\",\"formatter\":{\"id\":\"4d7086f4-5942-40fd-acfa-c71e6ab84a4b\",\"type\":\"CategoricalTickFormatter\"},\"plot\":{\"id\":\"074d3c27-d608-4d3f-8946-88579f253bc3\",\"subtype\":\"Figure\",\"type\":\"Plot\"},\"ticker\":{\"id\":\"fdd92595-e575-46c0-bbbe-7770961209ef\",\"type\":\"CategoricalTicker\"}},\"id\":\"615f2800-8409-4601-994d-74ac85fe05a5\",\"type\":\"CategoricalAxis\"},{\"attributes\":{\"callback\":null,\"data\":{\"band\":[\"9\"],\"flux\":{\"__ndarray__\":\"AEZc6X0voL8=\",\"dtype\":\"float64\",\"shape\":[1]}},\"selected\":{\"id\":\"ed6ed31c-777d-48fd-8b37-fb3eb9bc0207\",\"type\":\"Selection\"},\"selection_policy\":{\"id\":\"73db6a98-2b99-4502-8f97-80b1fcd16547\",\"type\":\"UnionRenderers\"}},\"id\":\"9f5298b5-b1a9-4030-9163-29552756b07e\",\"type\":\"ColumnDataSource\"},{\"attributes\":{\"below\":[{\"id\":\"615f2800-8409-4601-994d-74ac85fe05a5\",\"type\":\"CategoricalAxis\"}],\"left\":[{\"id\":\"fe669c91-0d2f-49f0-b410-13f5bedfdff0\",\"type\":\"LinearAxis\"}],\"plot_height\":300,\"plot_width\":300,\"renderers\":[{\"id\":\"615f2800-8409-4601-994d-74ac85fe05a5\",\"type\":\"CategoricalAxis\"},{\"id\":\"53545361-fe3a-49ae-a7c8-5e67e69f3ff4\",\"type\":\"Grid\"},{\"id\":\"fe669c91-0d2f-49f0-b410-13f5bedfdff0\",\"type\":\"LinearAxis\"},{\"id\":\"67880759-ba5e-46ba-8783-cdda68b96f33\",\"type\":\"Grid\"},{\"id\":\"5037ad5c-3248-45dd-8920-75d2b06d1902\",\"type\":\"BoxAnnotation\"},{\"id\":\"186016db-03bb-4456-bc79-e5316be7aa72\",\"type\":\"GlyphRenderer\"}],\"title\":{\"id\":\"ed6efdee-7fa1-4e72-bb1e-941371bac263\",\"type\":\"Title\"},\"toolbar\":{\"id\":\"8f5b9f48-7a76-4825-a581-b595045f626c\",\"type\":\"Toolbar\"},\"toolbar_location\":null,\"x_range\":{\"id\":\"000dcd75-2c4f-465a-8ba5-d1bfd72abea4\",\"type\":\"FactorRange\"},\"x_scale\":{\"id\":\"76252985-da66-4bba-82bc-668c781ded9c\",\"type\":\"CategoricalScale\"},\"y_range\":{\"id\":\"3527575c-353a-4fed-9941-0768d5abbbef\",\"type\":\"DataRange1d\"},\"y_scale\":{\"id\":\"5a2d6f78-08cd-470b-ac3f-170ead7b630a\",\"type\":\"LinearScale\"}},\"id\":\"074d3c27-d608-4d3f-8946-88579f253bc3\",\"subtype\":\"Figure\",\"type\":\"Plot\"},{\"attributes\":{\"callback\":null,\"factors\":[\"9\"]},\"id\":\"000dcd75-2c4f-465a-8ba5-d1bfd72abea4\",\"type\":\"FactorRange\"},{\"attributes\":{\"callback\":null,\"data\":{\"band\":[\"9\"],\"flux\":{\"__ndarray__\":\"0JlrZmdw0b8=\",\"dtype\":\"float64\",\"shape\":[1]}},\"selected\":{\"id\":\"a67232c4-db98-469e-baeb-9bd52b6a1d02\",\"type\":\"Selection\"},\"selection_policy\":{\"id\":\"a071d2e9-64b8-4819-8e22-d10b55cf08e9\",\"type\":\"UnionRenderers\"}},\"id\":\"9ab5492d-c77b-4725-8b68-2b44d403a89f\",\"type\":\"ColumnDataSource\"},{\"attributes\":{\"callback\":null},\"id\":\"3527575c-353a-4fed-9941-0768d5abbbef\",\"type\":\"DataRange1d\"},{\"attributes\":{\"below\":[{\"id\":\"288ee4a9-8ceb-459d-a298-e227da9aacdf\",\"type\":\"CategoricalAxis\"}],\"left\":[{\"id\":\"bbbc6c51-d018-4245-bf72-3af8614f5ed6\",\"type\":\"LinearAxis\"}],\"plot_height\":300,\"plot_width\":300,\"renderers\":[{\"id\":\"288ee4a9-8ceb-459d-a298-e227da9aacdf\",\"type\":\"CategoricalAxis\"},{\"id\":\"46243370-bb8c-4657-80d3-fb226a656981\",\"type\":\"Grid\"},{\"id\":\"bbbc6c51-d018-4245-bf72-3af8614f5ed6\",\"type\":\"LinearAxis\"},{\"id\":\"25892d01-ba3b-42d1-8bd0-b93db03b7e17\",\"type\":\"Grid\"},{\"id\":\"7821dc66-ec5c-403e-aab7-b0632bed9638\",\"type\":\"BoxAnnotation\"},{\"id\":\"31fdc5d0-66ff-4527-b80b-4300a816c259\",\"type\":\"GlyphRenderer\"}],\"title\":{\"id\":\"ff5ffa1d-c733-41d3-a575-71b7b99d2b38\",\"type\":\"Title\"},\"toolbar\":{\"id\":\"56b21874-e373-42d1-b5f1-0ff1e8edba1a\",\"type\":\"Toolbar\"},\"toolbar_location\":null,\"x_range\":{\"id\":\"ef8643d6-a139-46d9-8a55-c442e0e423d5\",\"type\":\"FactorRange\"},\"x_scale\":{\"id\":\"2ea7f3aa-ab28-4919-a125-e083e5b04793\",\"type\":\"CategoricalScale\"},\"y_range\":{\"id\":\"fde40a8b-a929-4185-8f73-1ee097303c3a\",\"type\":\"DataRange1d\"},\"y_scale\":{\"id\":\"031eeeb3-1102-4460-b756-2b092c093117\",\"type\":\"LinearScale\"}},\"id\":\"755846a5-b745-4f74-bebe-304f476c92f3\",\"subtype\":\"Figure\",\"type\":\"Plot\"},{\"attributes\":{\"plot\":{\"id\":\"3d83e82c-84e0-43e4-9718-de812ff9df4c\",\"subtype\":\"Figure\",\"type\":\"Plot\"},\"ticker\":{\"id\":\"f57a7114-726f-4023-9006-945eff7d977d\",\"type\":\"CategoricalTicker\"}},\"id\":\"62f0cd46-1f58-4f94-9d86-c847d96fbf70\",\"type\":\"Grid\"},{\"attributes\":{},\"id\":\"cdfa1e1b-3bcb-47ed-a5c6-07acea1ea86c\",\"type\":\"LinearScale\"},{\"attributes\":{},\"id\":\"20be2a27-83a3-4927-8084-8093e1631e50\",\"type\":\"CategoricalScale\"},{\"attributes\":{\"plot\":null,\"text\":\"Atmosphere heating. CLIRAD - CRD.\"},\"id\":\"ed6efdee-7fa1-4e72-bb1e-941371bac263\",\"type\":\"Title\"},{\"attributes\":{},\"id\":\"5a2d6f78-08cd-470b-ac3f-170ead7b630a\",\"type\":\"LinearScale\"},{\"attributes\":{\"callback\":null},\"id\":\"a15b81b1-60b7-4532-a86f-59419fb3f1b5\",\"type\":\"DataRange1d\"},{\"attributes\":{},\"id\":\"4d7086f4-5942-40fd-acfa-c71e6ab84a4b\",\"type\":\"CategoricalTickFormatter\"},{\"attributes\":{\"active_drag\":\"auto\",\"active_inspect\":\"auto\",\"active_scroll\":\"auto\",\"active_tap\":\"auto\",\"tools\":[{\"id\":\"8ee6f913-e81a-4a40-bf04-381b13977102\",\"type\":\"PanTool\"},{\"id\":\"b50d431f-2c4d-40dc-90f7-705568a535d7\",\"type\":\"WheelZoomTool\"},{\"id\":\"09a071b6-0bd1-4dee-8e3a-1390a2640255\",\"type\":\"BoxZoomTool\"},{\"id\":\"96631037-b0b4-412b-a735-6c4ec5ae88c1\",\"type\":\"SaveTool\"},{\"id\":\"aaf372ef-f144-4734-ab7a-e7774f37efe4\",\"type\":\"ResetTool\"},{\"id\":\"e238172f-93e0-463f-a36b-c462298e2f84\",\"type\":\"HelpTool\"}]},\"id\":\"8f5b9f48-7a76-4825-a581-b595045f626c\",\"type\":\"Toolbar\"},{\"attributes\":{},\"id\":\"76252985-da66-4bba-82bc-668c781ded9c\",\"type\":\"CategoricalScale\"},{\"attributes\":{\"axis_label\":\"flux (W m-2)\",\"formatter\":{\"id\":\"5fadc545-8792-4f9d-b68a-4e3e95daaece\",\"type\":\"BasicTickFormatter\"},\"plot\":{\"id\":\"3d83e82c-84e0-43e4-9718-de812ff9df4c\",\"subtype\":\"Figure\",\"type\":\"Plot\"},\"ticker\":{\"id\":\"6dbb791e-f564-4080-bc30-1afa9aed96fe\",\"type\":\"BasicTicker\"}},\"id\":\"16cc4aef-5f60-4c2f-9a8c-6256e724a54a\",\"type\":\"LinearAxis\"}],\"root_ids\":[\"9dd19262-9cee-42f0-abde-daac7e933e22\"]},\"title\":\"Bokeh Application\",\"version\":\"0.12.16\"}};\n",
       "  var render_items = [{\"docid\":\"593569a2-e7bf-44ec-b30f-046fd88f6b89\",\"elementid\":\"3574d383-f1d3-4331-8771-4c55d0e9255a\",\"modelid\":\"9dd19262-9cee-42f0-abde-daac7e933e22\"}];\n",
       "  root.Bokeh.embed.embed_items_notebook(docs_json, render_items);\n",
       "\n",
       "  }\n",
       "  if (root.Bokeh !== undefined) {\n",
       "    embed_document(root);\n",
       "  } else {\n",
       "    var attempts = 0;\n",
       "    var timer = setInterval(function(root) {\n",
       "      if (root.Bokeh !== undefined) {\n",
       "        embed_document(root);\n",
       "        clearInterval(timer);\n",
       "      }\n",
       "      attempts++;\n",
       "      if (attempts > 100) {\n",
       "        console.log(\"Bokeh: ERROR: Unable to run BokehJS code because BokehJS library is missing\")\n",
       "        clearInterval(timer);\n",
       "      }\n",
       "    }, 10, root)\n",
       "  }\n",
       "})(window);"
      ],
      "application/vnd.bokehjs_exec.v0+json": ""
     },
     "metadata": {
      "application/vnd.bokehjs_exec.v0+json": {
       "id": "9dd19262-9cee-42f0-abde-daac7e933e22"
      }
     },
     "output_type": "display_data"
    },
    {
     "data": {
      "text/markdown": [
       "*FIGURE.* Difference between CLIRAD and CRD in TOA, SFC and net atmosphere flux, in each spectral band."
      ],
      "text/plain": [
       "<IPython.core.display.Markdown object>"
      ]
     },
     "metadata": {},
     "output_type": "display_data"
    },
    {
     "data": {
      "text/html": [
       "<div>\n",
       "<style scoped>\n",
       "    .dataframe tbody tr th:only-of-type {\n",
       "        vertical-align: middle;\n",
       "    }\n",
       "\n",
       "    .dataframe tbody tr th {\n",
       "        vertical-align: top;\n",
       "    }\n",
       "\n",
       "    .dataframe thead th {\n",
       "        text-align: right;\n",
       "    }\n",
       "</style>\n",
       "<table border=\"1\" class=\"dataframe\">\n",
       "  <thead>\n",
       "    <tr style=\"text-align: right;\">\n",
       "      <th></th>\n",
       "      <th>OLR flux</th>\n",
       "      <th>SFC flux</th>\n",
       "      <th>ATM heating</th>\n",
       "    </tr>\n",
       "    <tr>\n",
       "      <th>Sum over bands</th>\n",
       "      <th></th>\n",
       "      <th></th>\n",
       "      <th></th>\n",
       "    </tr>\n",
       "  </thead>\n",
       "  <tbody>\n",
       "    <tr>\n",
       "      <th>CLIRAD - CRD</th>\n",
       "      <td>-0.03</td>\n",
       "      <td>-0.27</td>\n",
       "      <td>0.24</td>\n",
       "    </tr>\n",
       "    <tr>\n",
       "      <th>CRD</th>\n",
       "      <td>-21.61</td>\n",
       "      <td>6.75</td>\n",
       "      <td>-1.40</td>\n",
       "    </tr>\n",
       "  </tbody>\n",
       "</table>\n",
       "</div>"
      ],
      "text/plain": [
       "                OLR flux  SFC flux  ATM heating\n",
       "Sum over bands                                 \n",
       "CLIRAD - CRD       -0.03     -0.27         0.24\n",
       "CRD               -21.61      6.75        -1.40"
      ]
     },
     "metadata": {},
     "output_type": "display_data"
    },
    {
     "data": {
      "text/markdown": [
       "*TABLE.* Difference between CLIRAD and CRD in TOA, SFC and net atmosphere flux, over all spectral bands. CRD's TOA, SFC and net atmosphere flux, over all spectral bands."
      ],
      "text/plain": [
       "<IPython.core.display.Markdown object>"
      ]
     },
     "metadata": {},
     "output_type": "display_data"
    }
   ],
   "source": [
    "script()"
   ]
  },
  {
   "cell_type": "markdown",
   "metadata": {},
   "source": [
    "## --"
   ]
  },
  {
   "cell_type": "code",
   "execution_count": 28,
   "metadata": {},
   "outputs": [
    {
     "data": {
      "text/html": [
       "<script>\n",
       "code_show=true; \n",
       "function code_toggle() {\n",
       " if (code_show){\n",
       " $('div.input').hide();\n",
       " } else {\n",
       " $('div.input').show();\n",
       " }\n",
       " code_show = !code_show\n",
       "} \n",
       "$( document ).ready(code_toggle);\n",
       "</script>\n",
       "<form action=\"javascript:code_toggle()\"><input type=\"submit\" value=\"Click here to toggle on/off the raw code.\"></form>"
      ],
      "text/plain": [
       "<IPython.core.display.HTML object>"
      ]
     },
     "execution_count": 28,
     "metadata": {},
     "output_type": "execute_result"
    }
   ],
   "source": [
    "display.HTML('''<script>\n",
    "code_show=true; \n",
    "function code_toggle() {\n",
    " if (code_show){\n",
    " $('div.input').hide();\n",
    " } else {\n",
    " $('div.input').show();\n",
    " }\n",
    " code_show = !code_show\n",
    "} \n",
    "$( document ).ready(code_toggle);\n",
    "</script>\n",
    "<form action=\"javascript:code_toggle()\"><input type=\"submit\" value=\"Click here to toggle on/off the raw code.\"></form>''')"
   ]
  },
  {
   "cell_type": "code",
   "execution_count": null,
   "metadata": {
    "collapsed": true
   },
   "outputs": [],
   "source": []
  }
 ],
 "metadata": {
  "kernelspec": {
   "display_name": "Python 3",
   "language": "python",
   "name": "python3"
  },
  "language_info": {
   "codemirror_mode": {
    "name": "ipython",
    "version": 3
   },
   "file_extension": ".py",
   "mimetype": "text/x-python",
   "name": "python",
   "nbconvert_exporter": "python",
   "pygments_lexer": "ipython3",
   "version": "3.6.7"
  }
 },
 "nbformat": 4,
 "nbformat_minor": 2
}
