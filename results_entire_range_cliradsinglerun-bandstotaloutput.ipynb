{
 "cells": [
  {
   "cell_type": "code",
   "execution_count": 792,
   "metadata": {
    "collapsed": true
   },
   "outputs": [],
   "source": [
    "import os\n",
    "import ast\n",
    "import json\n",
    "import importlib \n",
    "import itertools\n",
    "import collections\n",
    "import pprint\n",
    "\n",
    "from bokeh.io import output_notebook, show\n",
    "from bokeh.layouts import gridplot\n",
    "from bokeh.plotting import figure\n",
    "from bokeh.models import Range1d, Legend, ColumnDataSource, FactorRange\n",
    "from bokeh.palettes import all_palettes\n",
    "from bokeh.transform import factor_cmap\n",
    "\n",
    "import matplotlib\n",
    "import matplotlib.pyplot as plt\n",
    "import numpy as np\n",
    "import pandas as pd\n",
    "import xarray as xr\n",
    "\n",
    "\n",
    "import climatools.lblnew.bestfit_params as bestfits\n",
    "from climatools.lblnew import setup_bestfit, setup_overlap\n",
    "import climatools.lblnew.pipeline as pipe_lblnew\n",
    "import climatools.cliradlw.setup as setup_cliradlw\n",
    "import climatools.cliradlw.pipeline as pipe_cliradlw\n",
    "\n",
    "import climatools.html.html as climahtml\n",
    "from climatools.lblnew.dataio import *\n",
    "from climatools.plot.plot import *\n",
    "\n",
    "\n",
    "from IPython import display\n",
    "\n",
    "#importlib.reload(bestfits)\n",
    "#importlib.reload(setup_bestfit)\n",
    "#importlib.reload(setup_overlap)\n",
    "#importlib.reload(pipe_lblnew)\n",
    "#importlib.reload(setup_cliradlw)\n",
    "#importlib.reload(pipe_cliradlw)"
   ]
  },
  {
   "cell_type": "code",
   "execution_count": 793,
   "metadata": {
    "scrolled": true
   },
   "outputs": [
    {
     "data": {
      "text/html": [
       "\n",
       "    <div class=\"bk-root\">\n",
       "        <a href=\"https://bokeh.pydata.org\" target=\"_blank\" class=\"bk-logo bk-logo-small bk-logo-notebook\"></a>\n",
       "        <span id=\"940958a0-9bd7-4bf2-9df7-0f7e8756d7cb\">Loading BokehJS ...</span>\n",
       "    </div>"
      ]
     },
     "metadata": {},
     "output_type": "display_data"
    },
    {
     "data": {
      "application/javascript": [
       "\n",
       "(function(root) {\n",
       "  function now() {\n",
       "    return new Date();\n",
       "  }\n",
       "\n",
       "  var force = true;\n",
       "\n",
       "  if (typeof (root._bokeh_onload_callbacks) === \"undefined\" || force === true) {\n",
       "    root._bokeh_onload_callbacks = [];\n",
       "    root._bokeh_is_loading = undefined;\n",
       "  }\n",
       "\n",
       "  var JS_MIME_TYPE = 'application/javascript';\n",
       "  var HTML_MIME_TYPE = 'text/html';\n",
       "  var EXEC_MIME_TYPE = 'application/vnd.bokehjs_exec.v0+json';\n",
       "  var CLASS_NAME = 'output_bokeh rendered_html';\n",
       "\n",
       "  /**\n",
       "   * Render data to the DOM node\n",
       "   */\n",
       "  function render(props, node) {\n",
       "    var script = document.createElement(\"script\");\n",
       "    node.appendChild(script);\n",
       "  }\n",
       "\n",
       "  /**\n",
       "   * Handle when an output is cleared or removed\n",
       "   */\n",
       "  function handleClearOutput(event, handle) {\n",
       "    var cell = handle.cell;\n",
       "\n",
       "    var id = cell.output_area._bokeh_element_id;\n",
       "    var server_id = cell.output_area._bokeh_server_id;\n",
       "    // Clean up Bokeh references\n",
       "    if (id !== undefined) {\n",
       "      Bokeh.index[id].model.document.clear();\n",
       "      delete Bokeh.index[id];\n",
       "    }\n",
       "\n",
       "    if (server_id !== undefined) {\n",
       "      // Clean up Bokeh references\n",
       "      var cmd = \"from bokeh.io.state import curstate; print(curstate().uuid_to_server['\" + server_id + \"'].get_sessions()[0].document.roots[0]._id)\";\n",
       "      cell.notebook.kernel.execute(cmd, {\n",
       "        iopub: {\n",
       "          output: function(msg) {\n",
       "            var element_id = msg.content.text.trim();\n",
       "            Bokeh.index[element_id].model.document.clear();\n",
       "            delete Bokeh.index[element_id];\n",
       "          }\n",
       "        }\n",
       "      });\n",
       "      // Destroy server and session\n",
       "      var cmd = \"import bokeh.io.notebook as ion; ion.destroy_server('\" + server_id + \"')\";\n",
       "      cell.notebook.kernel.execute(cmd);\n",
       "    }\n",
       "  }\n",
       "\n",
       "  /**\n",
       "   * Handle when a new output is added\n",
       "   */\n",
       "  function handleAddOutput(event, handle) {\n",
       "    var output_area = handle.output_area;\n",
       "    var output = handle.output;\n",
       "\n",
       "    // limit handleAddOutput to display_data with EXEC_MIME_TYPE content only\n",
       "    if ((output.output_type != \"display_data\") || (!output.data.hasOwnProperty(EXEC_MIME_TYPE))) {\n",
       "      return\n",
       "    }\n",
       "\n",
       "    var toinsert = output_area.element.find(\".\" + CLASS_NAME.split(' ')[0]);\n",
       "\n",
       "    if (output.metadata[EXEC_MIME_TYPE][\"id\"] !== undefined) {\n",
       "      toinsert[toinsert.length - 1].firstChild.textContent = output.data[JS_MIME_TYPE];\n",
       "      // store reference to embed id on output_area\n",
       "      output_area._bokeh_element_id = output.metadata[EXEC_MIME_TYPE][\"id\"];\n",
       "    }\n",
       "    if (output.metadata[EXEC_MIME_TYPE][\"server_id\"] !== undefined) {\n",
       "      var bk_div = document.createElement(\"div\");\n",
       "      bk_div.innerHTML = output.data[HTML_MIME_TYPE];\n",
       "      var script_attrs = bk_div.children[0].attributes;\n",
       "      for (var i = 0; i < script_attrs.length; i++) {\n",
       "        toinsert[toinsert.length - 1].firstChild.setAttribute(script_attrs[i].name, script_attrs[i].value);\n",
       "      }\n",
       "      // store reference to server id on output_area\n",
       "      output_area._bokeh_server_id = output.metadata[EXEC_MIME_TYPE][\"server_id\"];\n",
       "    }\n",
       "  }\n",
       "\n",
       "  function register_renderer(events, OutputArea) {\n",
       "\n",
       "    function append_mime(data, metadata, element) {\n",
       "      // create a DOM node to render to\n",
       "      var toinsert = this.create_output_subarea(\n",
       "        metadata,\n",
       "        CLASS_NAME,\n",
       "        EXEC_MIME_TYPE\n",
       "      );\n",
       "      this.keyboard_manager.register_events(toinsert);\n",
       "      // Render to node\n",
       "      var props = {data: data, metadata: metadata[EXEC_MIME_TYPE]};\n",
       "      render(props, toinsert[toinsert.length - 1]);\n",
       "      element.append(toinsert);\n",
       "      return toinsert\n",
       "    }\n",
       "\n",
       "    /* Handle when an output is cleared or removed */\n",
       "    events.on('clear_output.CodeCell', handleClearOutput);\n",
       "    events.on('delete.Cell', handleClearOutput);\n",
       "\n",
       "    /* Handle when a new output is added */\n",
       "    events.on('output_added.OutputArea', handleAddOutput);\n",
       "\n",
       "    /**\n",
       "     * Register the mime type and append_mime function with output_area\n",
       "     */\n",
       "    OutputArea.prototype.register_mime_type(EXEC_MIME_TYPE, append_mime, {\n",
       "      /* Is output safe? */\n",
       "      safe: true,\n",
       "      /* Index of renderer in `output_area.display_order` */\n",
       "      index: 0\n",
       "    });\n",
       "  }\n",
       "\n",
       "  // register the mime type if in Jupyter Notebook environment and previously unregistered\n",
       "  if (root.Jupyter !== undefined) {\n",
       "    var events = require('base/js/events');\n",
       "    var OutputArea = require('notebook/js/outputarea').OutputArea;\n",
       "\n",
       "    if (OutputArea.prototype.mime_types().indexOf(EXEC_MIME_TYPE) == -1) {\n",
       "      register_renderer(events, OutputArea);\n",
       "    }\n",
       "  }\n",
       "\n",
       "  \n",
       "  if (typeof (root._bokeh_timeout) === \"undefined\" || force === true) {\n",
       "    root._bokeh_timeout = Date.now() + 5000;\n",
       "    root._bokeh_failed_load = false;\n",
       "  }\n",
       "\n",
       "  var NB_LOAD_WARNING = {'data': {'text/html':\n",
       "     \"<div style='background-color: #fdd'>\\n\"+\n",
       "     \"<p>\\n\"+\n",
       "     \"BokehJS does not appear to have successfully loaded. If loading BokehJS from CDN, this \\n\"+\n",
       "     \"may be due to a slow or bad network connection. Possible fixes:\\n\"+\n",
       "     \"</p>\\n\"+\n",
       "     \"<ul>\\n\"+\n",
       "     \"<li>re-rerun `output_notebook()` to attempt to load from CDN again, or</li>\\n\"+\n",
       "     \"<li>use INLINE resources instead, as so:</li>\\n\"+\n",
       "     \"</ul>\\n\"+\n",
       "     \"<code>\\n\"+\n",
       "     \"from bokeh.resources import INLINE\\n\"+\n",
       "     \"output_notebook(resources=INLINE)\\n\"+\n",
       "     \"</code>\\n\"+\n",
       "     \"</div>\"}};\n",
       "\n",
       "  function display_loaded() {\n",
       "    var el = document.getElementById(\"940958a0-9bd7-4bf2-9df7-0f7e8756d7cb\");\n",
       "    if (el != null) {\n",
       "      el.textContent = \"BokehJS is loading...\";\n",
       "    }\n",
       "    if (root.Bokeh !== undefined) {\n",
       "      if (el != null) {\n",
       "        el.textContent = \"BokehJS \" + root.Bokeh.version + \" successfully loaded.\";\n",
       "      }\n",
       "    } else if (Date.now() < root._bokeh_timeout) {\n",
       "      setTimeout(display_loaded, 100)\n",
       "    }\n",
       "  }\n",
       "\n",
       "\n",
       "  function run_callbacks() {\n",
       "    try {\n",
       "      root._bokeh_onload_callbacks.forEach(function(callback) { callback() });\n",
       "    }\n",
       "    finally {\n",
       "      delete root._bokeh_onload_callbacks\n",
       "    }\n",
       "    console.info(\"Bokeh: all callbacks have finished\");\n",
       "  }\n",
       "\n",
       "  function load_libs(js_urls, callback) {\n",
       "    root._bokeh_onload_callbacks.push(callback);\n",
       "    if (root._bokeh_is_loading > 0) {\n",
       "      console.log(\"Bokeh: BokehJS is being loaded, scheduling callback at\", now());\n",
       "      return null;\n",
       "    }\n",
       "    if (js_urls == null || js_urls.length === 0) {\n",
       "      run_callbacks();\n",
       "      return null;\n",
       "    }\n",
       "    console.log(\"Bokeh: BokehJS not loaded, scheduling load and callback at\", now());\n",
       "    root._bokeh_is_loading = js_urls.length;\n",
       "    for (var i = 0; i < js_urls.length; i++) {\n",
       "      var url = js_urls[i];\n",
       "      var s = document.createElement('script');\n",
       "      s.src = url;\n",
       "      s.async = false;\n",
       "      s.onreadystatechange = s.onload = function() {\n",
       "        root._bokeh_is_loading--;\n",
       "        if (root._bokeh_is_loading === 0) {\n",
       "          console.log(\"Bokeh: all BokehJS libraries loaded\");\n",
       "          run_callbacks()\n",
       "        }\n",
       "      };\n",
       "      s.onerror = function() {\n",
       "        console.warn(\"failed to load library \" + url);\n",
       "      };\n",
       "      console.log(\"Bokeh: injecting script tag for BokehJS library: \", url);\n",
       "      document.getElementsByTagName(\"head\")[0].appendChild(s);\n",
       "    }\n",
       "  };var element = document.getElementById(\"940958a0-9bd7-4bf2-9df7-0f7e8756d7cb\");\n",
       "  if (element == null) {\n",
       "    console.log(\"Bokeh: ERROR: autoload.js configured with elementid '940958a0-9bd7-4bf2-9df7-0f7e8756d7cb' but no matching script tag was found. \")\n",
       "    return false;\n",
       "  }\n",
       "\n",
       "  var js_urls = [\"https://cdn.pydata.org/bokeh/release/bokeh-0.12.16.min.js\", \"https://cdn.pydata.org/bokeh/release/bokeh-widgets-0.12.16.min.js\", \"https://cdn.pydata.org/bokeh/release/bokeh-tables-0.12.16.min.js\", \"https://cdn.pydata.org/bokeh/release/bokeh-gl-0.12.16.min.js\"];\n",
       "\n",
       "  var inline_js = [\n",
       "    function(Bokeh) {\n",
       "      Bokeh.set_log_level(\"info\");\n",
       "    },\n",
       "    \n",
       "    function(Bokeh) {\n",
       "      \n",
       "    },\n",
       "    function(Bokeh) {\n",
       "      console.log(\"Bokeh: injecting CSS: https://cdn.pydata.org/bokeh/release/bokeh-0.12.16.min.css\");\n",
       "      Bokeh.embed.inject_css(\"https://cdn.pydata.org/bokeh/release/bokeh-0.12.16.min.css\");\n",
       "      console.log(\"Bokeh: injecting CSS: https://cdn.pydata.org/bokeh/release/bokeh-widgets-0.12.16.min.css\");\n",
       "      Bokeh.embed.inject_css(\"https://cdn.pydata.org/bokeh/release/bokeh-widgets-0.12.16.min.css\");\n",
       "      console.log(\"Bokeh: injecting CSS: https://cdn.pydata.org/bokeh/release/bokeh-tables-0.12.16.min.css\");\n",
       "      Bokeh.embed.inject_css(\"https://cdn.pydata.org/bokeh/release/bokeh-tables-0.12.16.min.css\");\n",
       "    }\n",
       "  ];\n",
       "\n",
       "  function run_inline_js() {\n",
       "    \n",
       "    if ((root.Bokeh !== undefined) || (force === true)) {\n",
       "      for (var i = 0; i < inline_js.length; i++) {\n",
       "        inline_js[i].call(root, root.Bokeh);\n",
       "      }if (force === true) {\n",
       "        display_loaded();\n",
       "      }} else if (Date.now() < root._bokeh_timeout) {\n",
       "      setTimeout(run_inline_js, 100);\n",
       "    } else if (!root._bokeh_failed_load) {\n",
       "      console.log(\"Bokeh: BokehJS failed to load within specified timeout.\");\n",
       "      root._bokeh_failed_load = true;\n",
       "    } else if (force !== true) {\n",
       "      var cell = $(document.getElementById(\"940958a0-9bd7-4bf2-9df7-0f7e8756d7cb\")).parents('.cell').data().cell;\n",
       "      cell.output_area.append_execute_result(NB_LOAD_WARNING)\n",
       "    }\n",
       "\n",
       "  }\n",
       "\n",
       "  if (root._bokeh_is_loading === 0) {\n",
       "    console.log(\"Bokeh: BokehJS loaded, going straight to plotting\");\n",
       "    run_inline_js();\n",
       "  } else {\n",
       "    load_libs(js_urls, function() {\n",
       "      console.log(\"Bokeh: BokehJS plotting callback run at\", now());\n",
       "      run_inline_js();\n",
       "    });\n",
       "  }\n",
       "}(window));"
      ],
      "application/vnd.bokehjs_load.v0+json": "\n(function(root) {\n  function now() {\n    return new Date();\n  }\n\n  var force = true;\n\n  if (typeof (root._bokeh_onload_callbacks) === \"undefined\" || force === true) {\n    root._bokeh_onload_callbacks = [];\n    root._bokeh_is_loading = undefined;\n  }\n\n  \n\n  \n  if (typeof (root._bokeh_timeout) === \"undefined\" || force === true) {\n    root._bokeh_timeout = Date.now() + 5000;\n    root._bokeh_failed_load = false;\n  }\n\n  var NB_LOAD_WARNING = {'data': {'text/html':\n     \"<div style='background-color: #fdd'>\\n\"+\n     \"<p>\\n\"+\n     \"BokehJS does not appear to have successfully loaded. If loading BokehJS from CDN, this \\n\"+\n     \"may be due to a slow or bad network connection. Possible fixes:\\n\"+\n     \"</p>\\n\"+\n     \"<ul>\\n\"+\n     \"<li>re-rerun `output_notebook()` to attempt to load from CDN again, or</li>\\n\"+\n     \"<li>use INLINE resources instead, as so:</li>\\n\"+\n     \"</ul>\\n\"+\n     \"<code>\\n\"+\n     \"from bokeh.resources import INLINE\\n\"+\n     \"output_notebook(resources=INLINE)\\n\"+\n     \"</code>\\n\"+\n     \"</div>\"}};\n\n  function display_loaded() {\n    var el = document.getElementById(\"940958a0-9bd7-4bf2-9df7-0f7e8756d7cb\");\n    if (el != null) {\n      el.textContent = \"BokehJS is loading...\";\n    }\n    if (root.Bokeh !== undefined) {\n      if (el != null) {\n        el.textContent = \"BokehJS \" + root.Bokeh.version + \" successfully loaded.\";\n      }\n    } else if (Date.now() < root._bokeh_timeout) {\n      setTimeout(display_loaded, 100)\n    }\n  }\n\n\n  function run_callbacks() {\n    try {\n      root._bokeh_onload_callbacks.forEach(function(callback) { callback() });\n    }\n    finally {\n      delete root._bokeh_onload_callbacks\n    }\n    console.info(\"Bokeh: all callbacks have finished\");\n  }\n\n  function load_libs(js_urls, callback) {\n    root._bokeh_onload_callbacks.push(callback);\n    if (root._bokeh_is_loading > 0) {\n      console.log(\"Bokeh: BokehJS is being loaded, scheduling callback at\", now());\n      return null;\n    }\n    if (js_urls == null || js_urls.length === 0) {\n      run_callbacks();\n      return null;\n    }\n    console.log(\"Bokeh: BokehJS not loaded, scheduling load and callback at\", now());\n    root._bokeh_is_loading = js_urls.length;\n    for (var i = 0; i < js_urls.length; i++) {\n      var url = js_urls[i];\n      var s = document.createElement('script');\n      s.src = url;\n      s.async = false;\n      s.onreadystatechange = s.onload = function() {\n        root._bokeh_is_loading--;\n        if (root._bokeh_is_loading === 0) {\n          console.log(\"Bokeh: all BokehJS libraries loaded\");\n          run_callbacks()\n        }\n      };\n      s.onerror = function() {\n        console.warn(\"failed to load library \" + url);\n      };\n      console.log(\"Bokeh: injecting script tag for BokehJS library: \", url);\n      document.getElementsByTagName(\"head\")[0].appendChild(s);\n    }\n  };var element = document.getElementById(\"940958a0-9bd7-4bf2-9df7-0f7e8756d7cb\");\n  if (element == null) {\n    console.log(\"Bokeh: ERROR: autoload.js configured with elementid '940958a0-9bd7-4bf2-9df7-0f7e8756d7cb' but no matching script tag was found. \")\n    return false;\n  }\n\n  var js_urls = [\"https://cdn.pydata.org/bokeh/release/bokeh-0.12.16.min.js\", \"https://cdn.pydata.org/bokeh/release/bokeh-widgets-0.12.16.min.js\", \"https://cdn.pydata.org/bokeh/release/bokeh-tables-0.12.16.min.js\", \"https://cdn.pydata.org/bokeh/release/bokeh-gl-0.12.16.min.js\"];\n\n  var inline_js = [\n    function(Bokeh) {\n      Bokeh.set_log_level(\"info\");\n    },\n    \n    function(Bokeh) {\n      \n    },\n    function(Bokeh) {\n      console.log(\"Bokeh: injecting CSS: https://cdn.pydata.org/bokeh/release/bokeh-0.12.16.min.css\");\n      Bokeh.embed.inject_css(\"https://cdn.pydata.org/bokeh/release/bokeh-0.12.16.min.css\");\n      console.log(\"Bokeh: injecting CSS: https://cdn.pydata.org/bokeh/release/bokeh-widgets-0.12.16.min.css\");\n      Bokeh.embed.inject_css(\"https://cdn.pydata.org/bokeh/release/bokeh-widgets-0.12.16.min.css\");\n      console.log(\"Bokeh: injecting CSS: https://cdn.pydata.org/bokeh/release/bokeh-tables-0.12.16.min.css\");\n      Bokeh.embed.inject_css(\"https://cdn.pydata.org/bokeh/release/bokeh-tables-0.12.16.min.css\");\n    }\n  ];\n\n  function run_inline_js() {\n    \n    if ((root.Bokeh !== undefined) || (force === true)) {\n      for (var i = 0; i < inline_js.length; i++) {\n        inline_js[i].call(root, root.Bokeh);\n      }if (force === true) {\n        display_loaded();\n      }} else if (Date.now() < root._bokeh_timeout) {\n      setTimeout(run_inline_js, 100);\n    } else if (!root._bokeh_failed_load) {\n      console.log(\"Bokeh: BokehJS failed to load within specified timeout.\");\n      root._bokeh_failed_load = true;\n    } else if (force !== true) {\n      var cell = $(document.getElementById(\"940958a0-9bd7-4bf2-9df7-0f7e8756d7cb\")).parents('.cell').data().cell;\n      cell.output_area.append_execute_result(NB_LOAD_WARNING)\n    }\n\n  }\n\n  if (root._bokeh_is_loading === 0) {\n    console.log(\"Bokeh: BokehJS loaded, going straight to plotting\");\n    run_inline_js();\n  } else {\n    load_libs(js_urls, function() {\n      console.log(\"Bokeh: BokehJS plotting callback run at\", now());\n      run_inline_js();\n    });\n  }\n}(window));"
     },
     "metadata": {},
     "output_type": "display_data"
    }
   ],
   "source": [
    "output_notebook()"
   ]
  },
  {
   "cell_type": "code",
   "execution_count": 794,
   "metadata": {
    "collapsed": true
   },
   "outputs": [],
   "source": [
    "'''\n",
    "Get the clirad-lw and lblnew `param`s for all spectral bands.  \n",
    "These are returned by functions `clirad_params_atm` and\n",
    "`lblnew_params_atm`, respectively.\n",
    "'''\n",
    "\n",
    "def molecules_byband_atm():\n",
    "    return {1: {'h2o': 'atmpro'},\n",
    "            2: {'h2o': 'atmpro'}, \n",
    "            3: {'co2': 0.0004, 'h2o': 'atmpro', 'n2o': 3.2e-07},\n",
    "            4: {'co2': 0.0004, 'h2o': 'atmpro'},\n",
    "            5: {'co2': 0.0004, 'h2o': 'atmpro'},\n",
    "            6: {'co2': 0.0004, 'h2o': 'atmpro'},\n",
    "            7: {'co2': 0.0004, 'h2o': 'atmpro', 'o3': 'atmpro'},\n",
    "            8: {'h2o': 'atmpro'},\n",
    "            9: {'ch4': 1.8e-06, 'h2o': 'atmpro', 'n2o': 3.2e-07},\n",
    "            10: {'h2o': 'atmpro'},\n",
    "            11: {'co2': 0.0004, 'h2o': 'atmpro'}}\n",
    "\n",
    "\n",
    "def greyabsorbers_by_band_atm():\n",
    "    return {1: {'con': 'atmpro'},\n",
    "            2: {'con': 'atmpro'},\n",
    "            3: {'con': 'atmpro'},\n",
    "            4: {'con': 'atmpro'},\n",
    "            5: {'con': 'atmpro'},\n",
    "            6: {'con': 'atmpro'}, \n",
    "            7: {'con': 'atmpro'},\n",
    "            8: {'con': 'atmpro', 'n2o': 3.2e-7}, \n",
    "            9: {'con': 'atmpro'}, \n",
    "            10: None,\n",
    "            11: None}\n",
    "\n",
    "\n",
    "def clirad_params_atm(atmpro='mls'):\n",
    "    d = {}\n",
    "    for band, molecule in molecules_byband_atm().items():\n",
    "        for param in setup_cliradlw.test_cases():\n",
    "            if [band] == param['band'] and molecule == param['molecule']:\n",
    "                param['atmpro'] = atmpro\n",
    "                d[band] = param\n",
    "                break                \n",
    "    return d\n",
    "\n",
    "\n",
    "def clirad_params_atm_singlerun(atmpro='mls'):\n",
    "    '''\n",
    "    Returns param of clirad-lw run that is equivalent to the total\n",
    "    of all the runs listed in molecules_byband_atm().  In order\n",
    "    for the output to be compatible with clirad_data_atm(), it will\n",
    "    be a list.\n",
    "    '''\n",
    "    param0 = {'band': [1, 2, 3, 4, 5, 6, 7, 8, 9, 10, 11],\n",
    "              'commitnumber': 'd215f10',\n",
    "              'molecule': {'ch4': 1.8e-06,\n",
    "                           'co2': 0.0004,\n",
    "                           'h2o': 'atmpro',\n",
    "                           'n2o': 3.2e-07,\n",
    "                           'o3': 'atmpro'}}\n",
    "    \n",
    "    d_atmpros = {'mls': 294, 'saw': 257, 'trp': 300}\n",
    "    \n",
    "    param = param0.copy()\n",
    "    param['atmpro'] = atmpro\n",
    "    param['tsfc'] = d_atmpros[atmpro]\n",
    "    \n",
    "    d = {}\n",
    "    d['all'] = param\n",
    "    return d\n",
    "\n",
    "\n",
    "def analysis_dirs_atm(atmpro='mls'):\n",
    "    params = clirad_params_atm(atmpro=atmpro)\n",
    "    return {band: pipe_cliradlw.get_analysis_dir(param=param,\n",
    "                                                 setup=setup_cliradlw) \n",
    "            for band, param in params.items()}\n",
    "\n",
    "\n",
    "def lblnew_params_atm(atmpro='mls'):\n",
    "    dirs = analysis_dirs_atm(atmpro=atmpro)\n",
    "    \n",
    "    d = {}\n",
    "    for band, dirname in dirs.items():\n",
    "        with open(os.path.join(dirname, 'param.py'), \n",
    "                  mode='r', encoding='utf-8') as f:\n",
    "            _, l = f.readlines()\n",
    "        \n",
    "        s = l.split('=')[1].strip()\n",
    "        d[band] = ast.literal_eval(s)\n",
    "        \n",
    "    return d\n"
   ]
  },
  {
   "cell_type": "code",
   "execution_count": 795,
   "metadata": {
    "collapsed": true
   },
   "outputs": [],
   "source": [
    "def db_getdir():\n",
    "    atmpro = 'mls'\n",
    "    params = clirad_params_atm_singlerun(atmpro=atmpro)\n",
    "    param = params['all']\n",
    "    \n",
    "    fdir = pipe_cliradlw.get_fortran_dir(param=param, \n",
    "                                         setup=setup_cliradlw)\n",
    "    return fdir\n",
    "\n",
    "\n",
    "def db_ktable():\n",
    "    fdir = db_getdir()    \n",
    "    fpath = os.path.join(fdir, 'ktable.dat')\n",
    "    \n",
    "    df = pd.read_csv(fpath, sep=r'\\s+')\n",
    "    df = df.set_index(['band', 'mid', 'il', 'it', 'g'])\n",
    "    ds = xr.Dataset.from_dataframe(df)\n",
    "    return ds\n",
    "\n",
    "\n",
    "def db_ng_dgs():\n",
    "    fdir = db_getdir()\n",
    "    fpath = os.path.join(fdir, 'ng_dgs.dat')\n",
    "    \n",
    "    df = pd.read_csv(fpath, sep=r'\\s+')\n",
    "    df = df.set_index(['band', 'mid', 'g'])\n",
    "    ds = xr.Dataset.from_dataframe(df)\n",
    "    return ds\n"
   ]
  },
  {
   "cell_type": "code",
   "execution_count": 796,
   "metadata": {
    "collapsed": true
   },
   "outputs": [],
   "source": [
    "def show_makeup():\n",
    "    df = pd.DataFrame()\n",
    "\n",
    "    for band, molecule in molecules_byband_atm().items():\n",
    "        for name, conc in molecule.items():\n",
    "            df.loc[name, band] = str(conc)\n",
    "\n",
    "    df = df.fillna(0)\n",
    "    df.columns.name = 'clirad band'\n",
    "    df.index.name = 'molecule'\n",
    "    \n",
    "    display.display(df)\n",
    "    \n",
    "    display.display(\n",
    "        display.Markdown('*TABLE.* Non-grey absorbers in the atmosphere.'))\n",
    "\n",
    "\n",
    "def show_grey_makeup():\n",
    "    df = pd.DataFrame()\n",
    "    \n",
    "    for band, molecule in greyabsorbers_by_band_atm().items():\n",
    "        if molecule == None:\n",
    "            pass\n",
    "        else:\n",
    "            for name, conc in molecule.items():\n",
    "                df.loc[name, band] = str(conc)\n",
    "                \n",
    "    df = df.fillna(0)\n",
    "    df.columns.name = 'clirad band'\n",
    "    df.index.name = 'absorber'\n",
    "    \n",
    "    display.display(df)\n",
    "    display.display(\n",
    "        display.Markdown('*TABLE.* Grey absorbers in the atmosphere.')\n",
    "    )"
   ]
  },
  {
   "cell_type": "code",
   "execution_count": 797,
   "metadata": {
    "collapsed": true
   },
   "outputs": [],
   "source": [
    "def load_output_file(path_csv):\n",
    "    '''\n",
    "    Load lblnew output .csv file to xarray.Dataset\n",
    "    \n",
    "    Parameters\n",
    "    ----------\n",
    "    path_csv: str\n",
    "              Path to the .csv file to be loaded.\n",
    "    ds: xarray.Dataset\n",
    "        Data in the input file in the form of an xarray.Dataset.\n",
    "    '''\n",
    "    toindex = ['band', 'pressure', 'igg', 'g']    \n",
    "    df = pd.read_csv(path_csv, sep=r'\\s+')\n",
    "    df = df.set_index([i for i in toindex if i in df.columns])\n",
    "    df = df.rename(columns={'sfu': 'flug',\n",
    "                            'sfd': 'fldg',\n",
    "                            'fnet': 'fnetg',\n",
    "                            'coolr': 'coolrg'})\n",
    "    ds = xr.Dataset.from_dataframe(df)\n",
    "\n",
    "    for l in ('level', 'layer'):\n",
    "        if l in ds.data_vars:\n",
    "            if len(ds[l].dims) > 1:\n",
    "                surface = {d: 0 for d in ds.dims if d != 'pressure'}\n",
    "                coord_level = ds[l][surface]\n",
    "                ds.coords[l] = ('pressure', coord_level)\n",
    "            else:\n",
    "                ds.coords[l] = ('pressure', ds[l])\n",
    "    \n",
    "    return ds"
   ]
  },
  {
   "cell_type": "code",
   "execution_count": 798,
   "metadata": {
    "collapsed": true
   },
   "outputs": [],
   "source": [
    "def lblnew_setup(param=None):\n",
    "    if 'ng_refs' in param:\n",
    "        return {'setup': setup_bestfit,\n",
    "                'fname_flux_crd': 'output_flux.dat',\n",
    "                'fname_cool_crd': 'output_coolr.dat',\n",
    "                'fname_flux_wgt': 'output_wfluxg.dat',\n",
    "                'fname_cool_wgt': 'output_wcoolrg.dat'}\n",
    "    else:\n",
    "        return {'setup': setup_overlap,\n",
    "                'fname_flux_crd': 'output_flux.dat',\n",
    "                'fname_cool_crd': 'output_coolr.dat',\n",
    "                'fname_flux_wgt': 'output_wflux.dat',\n",
    "                'fname_cool_wgt': 'output_wcoolr.dat'}\n",
    "\n",
    "    \n",
    "def load_lblnew_data(param):\n",
    "    \n",
    "    fname_dsname = [('fname_flux_crd', 'ds_flux_crd'),\n",
    "                    ('fname_cool_crd', 'ds_cool_crd'),\n",
    "                    ('fname_flux_wgt', 'ds_flux_wgt'),\n",
    "                    ('fname_cool_wgt', 'ds_cool_wgt')]\n",
    "    \n",
    "    d = lblnew_setup(param)\n",
    "    dir_fortran = pipe_lblnew.get_dir_case(param, setup=d['setup'])\n",
    "    \n",
    "    data_dict = {}\n",
    "    for fname, dsname in fname_dsname:\n",
    "        fpath = os.path.join(dir_fortran, d[fname])\n",
    "        data_dict[dsname] = load_output_file(fpath)\n",
    "    return data_dict"
   ]
  },
  {
   "cell_type": "code",
   "execution_count": 799,
   "metadata": {
    "collapsed": true
   },
   "outputs": [],
   "source": [
    "def crd_data_atm(params_atm):\n",
    "    '''\n",
    "    Parameters\n",
    "    ----------\n",
    "    \n",
    "    params_atm: dict\n",
    "                Parameter dictionary for each band.\n",
    "                \n",
    "    d: dict\n",
    "       'flux': xr.Dataset. [pressure, band]\n",
    "               Fluxes.\n",
    "       'cool': xr.Dataset. [pressure, band]\n",
    "               Cooling rate.\n",
    "    \n",
    "    '''\n",
    "    \n",
    "    results_atm = {band: load_lblnew_data(param) \n",
    "                   for band, param in params_atm.items()}\n",
    "    \n",
    "    bands = [band for band, _ in params_atm.items()]\n",
    "    fluxs = [d['ds_flux_crd'] for _, d in results_atm.items()]\n",
    "    cools = [d['ds_cool_crd'] for _, d in results_atm.items()]\n",
    "    \n",
    "    d = {}\n",
    "    d['flux'] = xr.concat(fluxs, dim=bands).rename({'concat_dim': 'band'})\n",
    "    d['cool'] = xr.concat(cools, dim=bands).rename({'concat_dim': 'band'})\n",
    "    return d        \n",
    "        \n",
    "        \n",
    "\n",
    "def clirad_data_atm(params_atm):\n",
    "    \n",
    "    dirnames = [pipe_cliradlw.get_fortran_dir(param,\n",
    "                                              setup=setup_cliradlw)\n",
    "                for _, param in params_atm.items()]\n",
    "    \n",
    "    fpaths_flux = [os.path.join(n, 'output_flux.dat') for n in dirnames]\n",
    "    fpaths_cool = [os.path.join(n, 'output_coolr.dat') for n in dirnames]\n",
    "    \n",
    "    fluxs = [load_output_file(p) for p in fpaths_flux]    \n",
    "    cools = [load_output_file(p) for p in fpaths_cool]\n",
    "    \n",
    "    d = {}\n",
    "    d['flux'] = sum(fluxs)\n",
    "    d['cool'] = sum(cools)\n",
    "    return d\n",
    "\n"
   ]
  },
  {
   "cell_type": "code",
   "execution_count": 800,
   "metadata": {
    "collapsed": true
   },
   "outputs": [],
   "source": [
    "\n",
    "\n",
    "import rtmtools.clirad.sw.wrangle as cliradwrangle\n",
    "\n",
    "import importlib\n",
    "importlib.reload(cliradwrangle)\n",
    "\n",
    "def oldclirad_data_atm():\n",
    "    '''\n",
    "    Load the OLD clirad's results. mls only.\n",
    "    '''\n",
    "    fpath = os.path.join('/chia_cluster/home/jackyu/radiation',\n",
    "                         'clirad-lw',\n",
    "                         'LW',\n",
    "                         'examples',\n",
    "                         'mls75_h2o_atmpro_co2_.0004_o3_atmpro_n2o_3.2e-7_ch4_1.8e-6_H2012',\n",
    "                         'OUTPUT_CLIRAD.dat')\n",
    "    \n",
    "    ds = cliradwrangle.load_OUTPUT_CLIRAD(readfrom=fpath)\n",
    "    \n",
    "    ds_cool = xr.Dataset()\n",
    "    ds_cool.coords['pressure'] = ('pressure', ds['layer_pressure'])\n",
    "    ds_cool.coords['band'] = ('band', ds['spectral_band'])\n",
    "    ds_cool['coolrg'] = (('band', 'pressure'), - ds['heating_rate'])\n",
    "    \n",
    "    ds_flux = xr.Dataset()\n",
    "    ds_flux.coords['pressure'] = ('pressure', ds['level_pressure'])\n",
    "    ds_flux.coords['band'] = ('band', ds['spectral_band'])\n",
    "    ds_flux['flug'] = (('band', 'pressure'), ds['flux_up'])\n",
    "    ds_flux['fldg'] = (('band', 'pressure'), ds['flux_down'])\n",
    "    ds_flux['fnetg'] = (('band', 'pressure'), ds['net_flux'])\n",
    "    \n",
    "    \n",
    "    d = {}\n",
    "    d['cool'] = ds_cool\n",
    "    d['flux'] = ds_flux\n",
    "    return d\n"
   ]
  },
  {
   "cell_type": "code",
   "execution_count": 801,
   "metadata": {
    "collapsed": true
   },
   "outputs": [],
   "source": [
    "def fmt_cool(ds_in):\n",
    "    ds = ds_in.copy(deep=True)\n",
    "    if 'igg' in ds.dims:\n",
    "        ds = ds.sel(igg=1)\n",
    "\n",
    "    if 'g' in ds.dims:\n",
    "        ds = ds.sum('g')\n",
    "            \n",
    "    if 'band' in ds.dims:\n",
    "        try:\n",
    "            ds = ds.squeeze('band')\n",
    "        except ValueError:\n",
    "            ds = ds.sum('band')\n",
    "                \n",
    "    return ds['coolrg']\n",
    "\n",
    "\n",
    "\n",
    "def nice_xlims(pltdata=None, prange=None):\n",
    "    \n",
    "    def get_slice(srs):\n",
    "        return srs.sel(pressure=slice(*prange))\n",
    "    \n",
    "    srss = [d['srs'] for d in pltdata]\n",
    "    vmin = min([get_slice(srs).min() for srs in srss])\n",
    "    vmax = max([get_slice(srs).max() for srs in srss])\n",
    "    dv = (vmax - vmin) * .01\n",
    "    return float(vmin - dv), float(vmax + dv)\n",
    "\n",
    "\n",
    "    \n",
    "def plt_cool_bokeh(pltdata=None, \n",
    "                   y_axis_type='linear', prange=(50, 1050)):\n",
    "    \n",
    "    ymin = 1e-2 \n",
    "    ymax = 1020\n",
    "    \n",
    "    p2 = figure(y_axis_type=y_axis_type, plot_width=300)\n",
    "    xmin, xmax = nice_xlims(pltdata, prange=prange)\n",
    "    \n",
    "    rs = []\n",
    "    for d in pltdata:\n",
    "        rd = []\n",
    "        if 'marker' in d:\n",
    "            r_mark = getattr(p2, d['marker'])(d['srs'].values, \n",
    "                        d['srs'].coords['pressure'].values,\n",
    "                        color=d['color'], alpha=.7)\n",
    "            rd.append(r_mark)\n",
    "        r_line = p2.line(d['srs'].values, \n",
    "                         d['srs'].coords['pressure'].values,\n",
    "                         color=d['color'], alpha=d['alpha'], \n",
    "                         line_width=d['line_width'], \n",
    "                         line_dash=d['line_dash'])\n",
    "        rd.append(r_line)\n",
    "      \n",
    "        rs.append(rd)\n",
    "        \n",
    "    p2.y_range = Range1d(ymax, ymin)  \n",
    "    p2.yaxis.axis_label = 'pressure [mb]'\n",
    "    \n",
    "    p2.x_range = Range1d(xmin, xmax)\n",
    "    p2.xaxis.axis_label = 'cooling rate [K/day]'\n",
    "    \n",
    "    items = [(d['label'], r) for r, d in zip(rs, pltdata)]\n",
    "    legend = Legend(items=items, location=(10, 0))\n",
    "    legend.label_text_font_size = '8pt'\n",
    "    p2.add_layout(legend, 'above')\n",
    "    p2.legend.orientation = 'horizontal'\n",
    "    p2.legend.location = 'top_center'\n",
    "    \n",
    "    return p2"
   ]
  },
  {
   "cell_type": "code",
   "execution_count": 802,
   "metadata": {
    "collapsed": true
   },
   "outputs": [],
   "source": [
    "def pltdata_cool(atmpro='mls'):\n",
    "    \n",
    "    d_clirad_singlerun = clirad_data_atm(\n",
    "        clirad_params_atm_singlerun(atmpro=atmpro))\n",
    "    d_clirad = clirad_data_atm(clirad_params_atm(atmpro=atmpro))\n",
    "    d_crd = crd_data_atm(lblnew_params_atm(atmpro=atmpro))\n",
    "\n",
    "    ds_clirad_singlerun = d_clirad_singlerun['cool']\n",
    "    ds_clirad = d_clirad['cool']\n",
    "    ds_crd = d_crd['cool']\n",
    "\n",
    "    colors = all_palettes['Set1'][4]\n",
    "    \n",
    "    data = [\n",
    "        {'label': 'CLIRAD (single-run)',\n",
    "        'srs': fmt_cool(ds_clirad_singlerun),\n",
    "        'line_dash': 'dashed', 'line_width': 5,\n",
    "        'color': colors[1], 'alpha': .6},\n",
    "        {'label': 'CRD',\n",
    "         'srs': fmt_cool(ds_crd),\n",
    "         'line_dash': 'solid', 'line_width': 1.5,\n",
    "         'marker': 'circle', 'marker_size': 5,\n",
    "         'color': colors[2], 'alpha': 1}\n",
    "    ]\n",
    "#        {'label': 'CLIRAD',\n",
    "#         'srs': fmt_cool(ds_clirad),\n",
    "#         'line_dash': 'dashed', 'line_width': 5,\n",
    "#         'color': colors[0], 'alpha': .6}\n",
    "        \n",
    "\n",
    "    \n",
    "    # include old CLIRAD's results for mls profile\n",
    "    if atmpro == 'mls':\n",
    "        d_oldclirad = oldclirad_data_atm()\n",
    "        ds_oldclirad = d_oldclirad['cool']        \n",
    "        data.append(\n",
    "            {'label': 'old CLIRAD (H2012)',\n",
    "             'srs': fmt_cool(ds_oldclirad),\n",
    "             'line_dash': 'solid', 'line_width': 1.5,\n",
    "             'marker': 'square', 'marker_size': 3,\n",
    "             'color': colors[3], 'alpha': .5})\n",
    "    return data\n",
    "\n",
    "\n",
    "def pltdata_cooldiff(atmpro='mls'):\n",
    "    \n",
    "    d_clirad_singlerun = clirad_data_atm(\n",
    "        clirad_params_atm_singlerun(atmpro=atmpro))\n",
    "    d_clirad = clirad_data_atm(clirad_params_atm(atmpro=atmpro))\n",
    "    d_crd = crd_data_atm(lblnew_params_atm(atmpro=atmpro))\n",
    "    \n",
    "    ds_clirad_singlerun = d_clirad_singlerun['cool']\n",
    "    ds_clirad = d_clirad['cool']\n",
    "    ds_crd = d_crd['cool']\n",
    "    \n",
    "    ds_diff = ds_clirad_singlerun - ds_crd\n",
    "    \n",
    "    colors = all_palettes['Set1'][4]\n",
    "    \n",
    "    data = [\n",
    "        {'label': 'CLIRAD (single-run) - CRD',\n",
    "         'srs': fmt_cool(ds_diff),\n",
    "         'line_dash': 'solid', 'line_width': 1.5, \n",
    "         'marker': 'circle', 'marker_size': 7,\n",
    "         'color': colors[3], 'alpha': .8}\n",
    "    ]\n",
    "    \n",
    "    # include old CLIRAD's results for mls profile\n",
    "    if atmpro == 'mls':\n",
    "        d_oldclirad = oldclirad_data_atm()\n",
    "        ds_oldclirad = d_oldclirad['cool']\n",
    "        ds_oldclirad.coords['pressure'] = ds_crd.coords['pressure']\n",
    "        ds_diff_old = ds_oldclirad.sum('band') - ds_crd.sum('band')\n",
    "        data.append(\n",
    "            {'label': 'old CLIRAD (H2012) - CRD',\n",
    "             'srs': fmt_cool(ds_diff_old),\n",
    "             'line_dash': 'dashed', 'line_width': 4,\n",
    "             'color': colors[1], 'alpha': .5}\n",
    "        )\n",
    "    return data\n",
    "\n",
    "\n",
    "def show_cool(atmpro='mls'):\n",
    "    \n",
    "    data_cool = pltdata_cool(atmpro=atmpro)\n",
    "    p_cool_liny = plt_cool_bokeh(pltdata=data_cool)\n",
    "    p_cool_logy = plt_cool_bokeh(pltdata=data_cool, \n",
    "                                 y_axis_type='log',\n",
    "                                 prange=(.01, 200))\n",
    "    \n",
    "    data_cooldiff = pltdata_cooldiff(atmpro=atmpro)\n",
    "    p_cooldiff_logy = plt_cool_bokeh(pltdata=data_cooldiff,\n",
    "                                     y_axis_type='log',\n",
    "                                     prange=(.01, 200))\n",
    "    \n",
    "    everything = gridplot(p_cool_liny, p_cool_logy, \n",
    "                          p_cooldiff_logy,\n",
    "                          ncols=3)\n",
    "    show(everything)\n",
    "    display.display(\n",
    "        display.Markdown('*FIGURE.* Cooling rates & difference.'))\n",
    "\n",
    "\n",
    "    "
   ]
  },
  {
   "cell_type": "code",
   "execution_count": null,
   "metadata": {
    "collapsed": true
   },
   "outputs": [],
   "source": []
  },
  {
   "cell_type": "code",
   "execution_count": 803,
   "metadata": {
    "collapsed": true,
    "scrolled": false
   },
   "outputs": [],
   "source": [
    "\n",
    "\n",
    "def hist_band_vs_flux(da, title='Title'):\n",
    "       \n",
    "    bands = [str(b.values) for b in da['band']]\n",
    "\n",
    "    source = ColumnDataSource(\n",
    "        data={'band': bands, 'flux': da.values})\n",
    "\n",
    "    p = figure(x_range=bands, title=title)\n",
    "    p.vbar(source=source, x='band', top='flux', width=.9)\n",
    "\n",
    "    p.yaxis.axis_label = 'flux (W m-2)'\n",
    "    p.xaxis.axis_label = 'spectral band'\n",
    "    \n",
    "    return p\n",
    "\n",
    "\n",
    "def show_hist_flux(atmpro='mls'):\n",
    "    ds_crd = crd_data_atm(lblnew_params_atm(atmpro=atmpro))['flux']\n",
    "    ds_clirad = clirad_data_atm(\n",
    "        clirad_params_atm(atmpro=atmpro))['flux']\n",
    "    ds_clirad_singlerun = clirad_data_atm(\n",
    "        clirad_params_atm_singlerun(atmpro=atmpro))['flux']\n",
    "    \n",
    "    ip, varname = 0, 'flug'\n",
    "    da = (ds_clirad_singlerun - ds_crd).isel(pressure=ip)[varname]\n",
    "    p_toa = hist_band_vs_flux(da, \n",
    "        title='TOA flux. CLIRAD (single-run) - CRD.')\n",
    "\n",
    "    ip, varname = -1, 'fldg'\n",
    "    da = (ds_clirad_singlerun - ds_crd).isel(pressure=ip)[varname]\n",
    "    p_sfc = hist_band_vs_flux(da, \n",
    "        title='SFC flux. CLIRAD (single-run) - CRD.')    \n",
    "    \n",
    "    atm_crd = (ds_crd.isel(pressure=0) \n",
    "               - ds_crd.isel(pressure=-1))['fnetg']\n",
    "    atm_clirad_singlerun = (ds_clirad_singlerun.isel(pressure=0) \n",
    "                  - ds_clirad_singlerun.isel(pressure=-1))['fnetg']\n",
    "    da = atm_clirad_singlerun - atm_crd\n",
    "    p_atm = hist_band_vs_flux(da, \n",
    "        title='Atmosphere heating. CLIRAD (single-run) - CRD.')\n",
    "\n",
    "    everything = gridplot(p_toa, p_sfc, p_atm, ncols=3, \n",
    "                          plot_width=300, plot_height=300)\n",
    "    \n",
    "    show(everything)\n",
    "    display.display(\n",
    "        display.Markdown('*FIGURE.* Difference between CLIRAD and CRD'\n",
    "          ' in TOA, SFC and net atmosphere flux,'\n",
    "          ' in each spectral band.'))\n",
    "\n",
    "\n",
    "    \n",
    "def show_tb_flux(atmpro='mls'):\n",
    "    \n",
    "    def fmt(da_in):\n",
    "        da = da_in.copy(deep=True)\n",
    "        if 'igg' in da.dims:\n",
    "            da = da.sel(igg=1)\n",
    "            \n",
    "        if 'g' in da.dims:\n",
    "            da = da.sum('g')\n",
    "        \n",
    "        if 'band' in da.dims:\n",
    "            try:\n",
    "                da = da.squeeze('band')\n",
    "            except ValueError:\n",
    "                da = da.sum('band')\n",
    "                \n",
    "        return da\n",
    "    \n",
    "    ds_crd = crd_data_atm(lblnew_params_atm(atmpro=atmpro))['flux']\n",
    "    olr_crd = ds_crd['flug'].isel(pressure=0)\n",
    "    sfc_crd = ds_crd['fldg'].isel(pressure=-1)\n",
    "    atm_crd = (ds_crd.isel(pressure=0)\n",
    "               - ds_crd.isel(pressure=-1))['fnetg']\n",
    "    \n",
    "    ds_clirad = clirad_data_atm(\n",
    "        clirad_params_atm(atmpro=atmpro))['flux']\n",
    "    olr_clirad = ds_clirad['flug'].isel(pressure=0)\n",
    "    sfc_clirad = ds_clirad['fldg'].isel(pressure=-1)\n",
    "    atm_clirad = (ds_clirad.isel(pressure=0)\n",
    "                  - ds_clirad.isel(pressure=-1))['fnetg']\n",
    "\n",
    "    ds_clirad_singlerun = clirad_data_atm(\n",
    "        clirad_params_atm_singlerun(atmpro=atmpro))['flux']\n",
    "    olr_clirad_singlerun = ds_clirad_singlerun['flug'].isel(pressure=0)\n",
    "    sfc_clirad_singlerun = ds_clirad_singlerun['fldg'].isel(pressure=-1)\n",
    "    atm_clirad_singlerun = (ds_clirad_singlerun.isel(pressure=0)\n",
    "                  - ds_clirad_singlerun.isel(pressure=-1))['fnetg']\n",
    "    \n",
    "    if atmpro == 'mls':\n",
    "        ds_oldclirad = oldclirad_data_atm()['flux']\n",
    "        ds_oldclirad['pressure'] = ds_crd['pressure']\n",
    "        olr_oldclirad = ds_oldclirad['flug'].isel(pressure=0)\n",
    "        sfc_oldclirad = ds_oldclirad['fldg'].isel(pressure=-1)\n",
    "        atm_oldclirad = (ds_oldclirad.isel(pressure=0)\n",
    "                         - ds_oldclirad.isel(pressure=-1))['fnetg']\n",
    "        \n",
    "    \n",
    "    \n",
    "    df = pd.DataFrame()\n",
    "    df.index.name = 'Sum over bands'\n",
    "    \n",
    "    if atmpro == 'mls':\n",
    "        df.loc['old CLIRAD - CRD', \n",
    "               'OLR flux'] = (fmt(olr_oldclirad)\n",
    "                              - fmt(olr_crd)).values\n",
    "        df.loc['old CLIRAD - CRD', \n",
    "               'SFC flux'] = (fmt(sfc_oldclirad)\n",
    "                              - fmt(sfc_crd)).values\n",
    "        df.loc['old CLIRAD - CRD', \n",
    "               'ATM heating'] = (fmt(atm_oldclirad)\n",
    "                                 - fmt(atm_crd)).values\n",
    "    \n",
    "    df.loc['CLIRAD (single-run) - CRD', \n",
    "           'OLR flux'] = (fmt(olr_clirad_singlerun) \n",
    "                          - fmt(olr_crd)).values\n",
    "    df.loc['CLIRAD (single-run) - CRD', \n",
    "           'SFC flux'] = (fmt(sfc_clirad_singlerun) \n",
    "                          - fmt(sfc_crd)).values\n",
    "    df.loc['CLIRAD (single-run) - CRD', \n",
    "           'ATM heating'] = (fmt(atm_clirad_singlerun) \n",
    "                             - fmt(atm_crd)).values\n",
    "\n",
    "    df.loc['CRD', 'OLR flux'] = fmt(olr_crd).values\n",
    "    df.loc['CRD', 'SFC flux'] = fmt(sfc_crd).values\n",
    "    df.loc['CRD', 'ATM heating'] = fmt(atm_crd).values\n",
    "        \n",
    "    df = df.astype('float').round(2)\n",
    "    \n",
    "    display.display(df)\n",
    "    display.display(\n",
    "        display.Markdown('*TABLE.* Difference between CLIRAD and CRD'\n",
    "          ' in TOA, SFC and net atmosphere flux,'\n",
    "          ' over all spectral bands. CRD\\'s'\n",
    "          ' TOA, SFC and net atmosphere flux,'\n",
    "          ' over all spectral bands.'))\n"
   ]
  },
  {
   "cell_type": "code",
   "execution_count": 804,
   "metadata": {
    "scrolled": false
   },
   "outputs": [
    {
     "data": {
      "text/markdown": [
       "## Results over entire range of molecules and spectral bands"
      ],
      "text/plain": [
       "<IPython.core.display.Markdown object>"
      ]
     },
     "metadata": {},
     "output_type": "display_data"
    },
    {
     "data": {
      "text/markdown": [
       "### Table of Contents"
      ],
      "text/plain": [
       "<IPython.core.display.Markdown object>"
      ]
     },
     "metadata": {},
     "output_type": "display_data"
    },
    {
     "data": {
      "text/html": [
       "<a href=\"#Makeup_of_atmosphere.\">Makeup of atmosphere.</a>"
      ],
      "text/plain": [
       "<IPython.core.display.HTML object>"
      ]
     },
     "metadata": {},
     "output_type": "display_data"
    },
    {
     "data": {
      "text/markdown": [
       "**mid-latitude summer**"
      ],
      "text/plain": [
       "<IPython.core.display.Markdown object>"
      ]
     },
     "metadata": {},
     "output_type": "display_data"
    },
    {
     "data": {
      "text/html": [
       "<a href=\"#Cooling_rates._mls.\">Cooling rates. mls.</a>"
      ],
      "text/plain": [
       "<IPython.core.display.HTML object>"
      ]
     },
     "metadata": {},
     "output_type": "display_data"
    },
    {
     "data": {
      "text/html": [
       "<a href=\"#Fluxes._mls.\">Fluxes. mls.</a>"
      ],
      "text/plain": [
       "<IPython.core.display.HTML object>"
      ]
     },
     "metadata": {},
     "output_type": "display_data"
    },
    {
     "data": {
      "text/markdown": [
       "**sub-arctic winter**"
      ],
      "text/plain": [
       "<IPython.core.display.Markdown object>"
      ]
     },
     "metadata": {},
     "output_type": "display_data"
    },
    {
     "data": {
      "text/html": [
       "<a href=\"#Cooling_rates._saw.\">Cooling rates. saw.</a>"
      ],
      "text/plain": [
       "<IPython.core.display.HTML object>"
      ]
     },
     "metadata": {},
     "output_type": "display_data"
    },
    {
     "data": {
      "text/html": [
       "<a href=\"#Fluxes._saw.\">Fluxes. saw.</a>"
      ],
      "text/plain": [
       "<IPython.core.display.HTML object>"
      ]
     },
     "metadata": {},
     "output_type": "display_data"
    },
    {
     "data": {
      "text/markdown": [
       "**tropical**"
      ],
      "text/plain": [
       "<IPython.core.display.Markdown object>"
      ]
     },
     "metadata": {},
     "output_type": "display_data"
    },
    {
     "data": {
      "text/html": [
       "<a href=\"#Cooling_rates._trp.\">Cooling rates. trp.</a>"
      ],
      "text/plain": [
       "<IPython.core.display.HTML object>"
      ]
     },
     "metadata": {},
     "output_type": "display_data"
    },
    {
     "data": {
      "text/html": [
       "<a href=\"#Fluxes._trp.\">Fluxes. trp.</a>"
      ],
      "text/plain": [
       "<IPython.core.display.HTML object>"
      ]
     },
     "metadata": {},
     "output_type": "display_data"
    },
    {
     "data": {
      "text/html": [
       "<a id=\"Makeup_of_atmosphere.\"></a>"
      ],
      "text/plain": [
       "<IPython.core.display.HTML object>"
      ]
     },
     "metadata": {},
     "output_type": "display_data"
    },
    {
     "data": {
      "text/markdown": [
       "# Makeup of atmosphere."
      ],
      "text/plain": [
       "<IPython.core.display.Markdown object>"
      ]
     },
     "metadata": {},
     "output_type": "display_data"
    },
    {
     "data": {
      "text/html": [
       "<div>\n",
       "<style scoped>\n",
       "    .dataframe tbody tr th:only-of-type {\n",
       "        vertical-align: middle;\n",
       "    }\n",
       "\n",
       "    .dataframe tbody tr th {\n",
       "        vertical-align: top;\n",
       "    }\n",
       "\n",
       "    .dataframe thead th {\n",
       "        text-align: right;\n",
       "    }\n",
       "</style>\n",
       "<table border=\"1\" class=\"dataframe\">\n",
       "  <thead>\n",
       "    <tr style=\"text-align: right;\">\n",
       "      <th>clirad band</th>\n",
       "      <th>1</th>\n",
       "      <th>2</th>\n",
       "      <th>3</th>\n",
       "      <th>4</th>\n",
       "      <th>5</th>\n",
       "      <th>6</th>\n",
       "      <th>7</th>\n",
       "      <th>8</th>\n",
       "      <th>9</th>\n",
       "      <th>10</th>\n",
       "      <th>11</th>\n",
       "    </tr>\n",
       "    <tr>\n",
       "      <th>molecule</th>\n",
       "      <th></th>\n",
       "      <th></th>\n",
       "      <th></th>\n",
       "      <th></th>\n",
       "      <th></th>\n",
       "      <th></th>\n",
       "      <th></th>\n",
       "      <th></th>\n",
       "      <th></th>\n",
       "      <th></th>\n",
       "      <th></th>\n",
       "    </tr>\n",
       "  </thead>\n",
       "  <tbody>\n",
       "    <tr>\n",
       "      <th>h2o</th>\n",
       "      <td>atmpro</td>\n",
       "      <td>atmpro</td>\n",
       "      <td>atmpro</td>\n",
       "      <td>atmpro</td>\n",
       "      <td>atmpro</td>\n",
       "      <td>atmpro</td>\n",
       "      <td>atmpro</td>\n",
       "      <td>atmpro</td>\n",
       "      <td>atmpro</td>\n",
       "      <td>atmpro</td>\n",
       "      <td>atmpro</td>\n",
       "    </tr>\n",
       "    <tr>\n",
       "      <th>co2</th>\n",
       "      <td>0</td>\n",
       "      <td>0</td>\n",
       "      <td>0.0004</td>\n",
       "      <td>0.0004</td>\n",
       "      <td>0.0004</td>\n",
       "      <td>0.0004</td>\n",
       "      <td>0.0004</td>\n",
       "      <td>0</td>\n",
       "      <td>0</td>\n",
       "      <td>0</td>\n",
       "      <td>0.0004</td>\n",
       "    </tr>\n",
       "    <tr>\n",
       "      <th>n2o</th>\n",
       "      <td>0</td>\n",
       "      <td>0</td>\n",
       "      <td>3.2e-07</td>\n",
       "      <td>0</td>\n",
       "      <td>0</td>\n",
       "      <td>0</td>\n",
       "      <td>0</td>\n",
       "      <td>0</td>\n",
       "      <td>3.2e-07</td>\n",
       "      <td>0</td>\n",
       "      <td>0</td>\n",
       "    </tr>\n",
       "    <tr>\n",
       "      <th>o3</th>\n",
       "      <td>0</td>\n",
       "      <td>0</td>\n",
       "      <td>0</td>\n",
       "      <td>0</td>\n",
       "      <td>0</td>\n",
       "      <td>0</td>\n",
       "      <td>atmpro</td>\n",
       "      <td>0</td>\n",
       "      <td>0</td>\n",
       "      <td>0</td>\n",
       "      <td>0</td>\n",
       "    </tr>\n",
       "    <tr>\n",
       "      <th>ch4</th>\n",
       "      <td>0</td>\n",
       "      <td>0</td>\n",
       "      <td>0</td>\n",
       "      <td>0</td>\n",
       "      <td>0</td>\n",
       "      <td>0</td>\n",
       "      <td>0</td>\n",
       "      <td>0</td>\n",
       "      <td>1.8e-06</td>\n",
       "      <td>0</td>\n",
       "      <td>0</td>\n",
       "    </tr>\n",
       "  </tbody>\n",
       "</table>\n",
       "</div>"
      ],
      "text/plain": [
       "clirad band      1       2        3       4       5       6       7       8   \\\n",
       "molecule                                                                       \n",
       "h2o          atmpro  atmpro   atmpro  atmpro  atmpro  atmpro  atmpro  atmpro   \n",
       "co2               0       0   0.0004  0.0004  0.0004  0.0004  0.0004       0   \n",
       "n2o               0       0  3.2e-07       0       0       0       0       0   \n",
       "o3                0       0        0       0       0       0  atmpro       0   \n",
       "ch4               0       0        0       0       0       0       0       0   \n",
       "\n",
       "clirad band       9       10      11  \n",
       "molecule                              \n",
       "h2o           atmpro  atmpro  atmpro  \n",
       "co2                0       0  0.0004  \n",
       "n2o          3.2e-07       0       0  \n",
       "o3                 0       0       0  \n",
       "ch4          1.8e-06       0       0  "
      ]
     },
     "metadata": {},
     "output_type": "display_data"
    },
    {
     "data": {
      "text/markdown": [
       "*TABLE.* Non-grey absorbers in the atmosphere."
      ],
      "text/plain": [
       "<IPython.core.display.Markdown object>"
      ]
     },
     "metadata": {},
     "output_type": "display_data"
    },
    {
     "data": {
      "text/html": [
       "<div>\n",
       "<style scoped>\n",
       "    .dataframe tbody tr th:only-of-type {\n",
       "        vertical-align: middle;\n",
       "    }\n",
       "\n",
       "    .dataframe tbody tr th {\n",
       "        vertical-align: top;\n",
       "    }\n",
       "\n",
       "    .dataframe thead th {\n",
       "        text-align: right;\n",
       "    }\n",
       "</style>\n",
       "<table border=\"1\" class=\"dataframe\">\n",
       "  <thead>\n",
       "    <tr style=\"text-align: right;\">\n",
       "      <th>clirad band</th>\n",
       "      <th>1</th>\n",
       "      <th>2</th>\n",
       "      <th>3</th>\n",
       "      <th>4</th>\n",
       "      <th>5</th>\n",
       "      <th>6</th>\n",
       "      <th>7</th>\n",
       "      <th>8</th>\n",
       "      <th>9</th>\n",
       "    </tr>\n",
       "    <tr>\n",
       "      <th>absorber</th>\n",
       "      <th></th>\n",
       "      <th></th>\n",
       "      <th></th>\n",
       "      <th></th>\n",
       "      <th></th>\n",
       "      <th></th>\n",
       "      <th></th>\n",
       "      <th></th>\n",
       "      <th></th>\n",
       "    </tr>\n",
       "  </thead>\n",
       "  <tbody>\n",
       "    <tr>\n",
       "      <th>con</th>\n",
       "      <td>atmpro</td>\n",
       "      <td>atmpro</td>\n",
       "      <td>atmpro</td>\n",
       "      <td>atmpro</td>\n",
       "      <td>atmpro</td>\n",
       "      <td>atmpro</td>\n",
       "      <td>atmpro</td>\n",
       "      <td>atmpro</td>\n",
       "      <td>atmpro</td>\n",
       "    </tr>\n",
       "    <tr>\n",
       "      <th>n2o</th>\n",
       "      <td>0</td>\n",
       "      <td>0</td>\n",
       "      <td>0</td>\n",
       "      <td>0</td>\n",
       "      <td>0</td>\n",
       "      <td>0</td>\n",
       "      <td>0</td>\n",
       "      <td>3.2e-07</td>\n",
       "      <td>0</td>\n",
       "    </tr>\n",
       "  </tbody>\n",
       "</table>\n",
       "</div>"
      ],
      "text/plain": [
       "clirad band       1       2       3       4       5       6       7        8  \\\n",
       "absorber                                                                       \n",
       "con          atmpro  atmpro  atmpro  atmpro  atmpro  atmpro  atmpro   atmpro   \n",
       "n2o               0       0       0       0       0       0       0  3.2e-07   \n",
       "\n",
       "clirad band       9  \n",
       "absorber             \n",
       "con          atmpro  \n",
       "n2o               0  "
      ]
     },
     "metadata": {},
     "output_type": "display_data"
    },
    {
     "data": {
      "text/markdown": [
       "*TABLE.* Grey absorbers in the atmosphere."
      ],
      "text/plain": [
       "<IPython.core.display.Markdown object>"
      ]
     },
     "metadata": {},
     "output_type": "display_data"
    },
    {
     "data": {
      "text/html": [
       "<a id=\"Cooling_rates._mls.\"></a>"
      ],
      "text/plain": [
       "<IPython.core.display.HTML object>"
      ]
     },
     "metadata": {},
     "output_type": "display_data"
    },
    {
     "data": {
      "text/markdown": [
       "# Cooling rates. mls."
      ],
      "text/plain": [
       "<IPython.core.display.Markdown object>"
      ]
     },
     "metadata": {},
     "output_type": "display_data"
    },
    {
     "data": {
      "text/html": [
       "\n",
       "<div class=\"bk-root\">\n",
       "    <div class=\"bk-plotdiv\" id=\"532d8c2b-71db-43d0-95da-0521a55fcbd1\"></div>\n",
       "</div>"
      ]
     },
     "metadata": {},
     "output_type": "display_data"
    },
    {
     "data": {
      "application/javascript": [
       "(function(root) {\n",
       "  function embed_document(root) {\n",
       "    \n",
       "  var docs_json = {\"d71440cf-b1f2-479e-bb3e-3635556c1f20\":{\"roots\":{\"references\":[{\"attributes\":{},\"id\":\"f87245f4-fa03-4395-9e7f-c2ed2920e78d\",\"type\":\"UnionRenderers\"},{\"attributes\":{},\"id\":\"12a3ee20-3d8f-4ffd-ab71-ab73c8e86eea\",\"type\":\"UnionRenderers\"},{\"attributes\":{\"line_alpha\":0.1,\"line_color\":\"#1f77b4\",\"line_dash\":[6],\"line_width\":5,\"x\":{\"field\":\"x\"},\"y\":{\"field\":\"y\"}},\"id\":\"7483b288-0955-4535-8338-557c3f821328\",\"type\":\"Line\"},{\"attributes\":{},\"id\":\"b1959dda-d742-4ee2-914f-debbf5c03493\",\"type\":\"UnionRenderers\"},{\"attributes\":{\"bottom_units\":\"screen\",\"fill_alpha\":{\"value\":0.5},\"fill_color\":{\"value\":\"lightgrey\"},\"left_units\":\"screen\",\"level\":\"overlay\",\"line_alpha\":{\"value\":1.0},\"line_color\":{\"value\":\"black\"},\"line_dash\":[4,4],\"line_width\":{\"value\":2},\"plot\":null,\"render_mode\":\"css\",\"right_units\":\"screen\",\"top_units\":\"screen\"},\"id\":\"57aefdbe-c4ab-4ad7-8aa6-79ce0d6cb07c\",\"type\":\"BoxAnnotation\"},{\"attributes\":{\"plot\":null,\"text\":\"\"},\"id\":\"99eb9cbd-9a9b-4ff6-851a-f3643cdefaef\",\"type\":\"Title\"},{\"attributes\":{},\"id\":\"c5a9a9ec-6084-442b-abc6-5cb343426f98\",\"type\":\"WheelZoomTool\"},{\"attributes\":{\"callback\":null,\"data\":{\"x\":{\"__ndarray__\":\"cm1sTMT3VEDEyvjosEJHQOKI6DjzCUNArgQWV9awPkB9Lm8XG3M4QEz+Qv6iYzNA7eV8HaPLLkCX1QHyTpMoQFBmYSYetiNAUB04GtGpH0AmFyVE5j8ZQJca9QPGqBNALJP+OOHHDEBNxaf7QF8AQKtislomWuw/cW2dcO6A9T/uJJvfPu0EQIaQLTI/JQ1AxGiII+PmEkCJvfVeuCsYQD6ZBhGbHB9AXQw69DTYJEAsubcwKucqQNuT9D5OmipAJyi3szEJJUBlNebh5WkgQDDcPHBr2xlArtlANXuQFEBdJadFHckQQI2Avh0ZsQtAjYiwt1rsBUCL0SDoVBgAQK6C0nEEjvc/CggLSme58T9sXU2orFPnP0v0JYz9Gdg/vT38vxYczD9nBQTe6kHHP1IhkEXJwKo/8OZnhCVAub+xtVgCpmqzP6DUpY6g0+k/PKK3T1h4+D8RTDjQc1EAQG/dAQs7TwJAQt2eHpPLAEBWEh074x//PyCap9ZSGf4/rEzaTySm/T+7aXhHRmr9P688KeqeNP0/ruZ4EemD/D8olrZcn9T7P0+vNc9hW/s/i9VVL+4P+z+0NzC24uz6P8731Kza8vo/xFf4SHzq+z+gYyHpvHb8P68ROkiFevw/BAjYdCga/D8AUp8VbW77P3JrF/nKmvo/qCQeGfq++T/dplwHJfn4P2G4p+Uva/g/OzZ0RqMZ+D8dmn/iar73P/OuA7Ka8PY/gaaeQHGn9T9hkyjAH1L0P3aZGhdAU/M/n8VP/g7P8j+90HxHNvfyPwhNBtgrqvk/\",\"dtype\":\"float64\",\"shape\":[75]},\"y\":{\"__ndarray__\":\"GhExyth1ND/Sv8nbtpRIP2vylNV0PVE/aTum7souWD/At0SJ8fVgPw3Iuahxymc/MSNhhJWvcD/bTfBN02d3P2zb5nxnaoA/CD5h5MAGhz8NmeH1TyaQP+zrCsc9p5Y/LbKd76fGnz/bLW5ISEmmPww9YvTcQq8/JV2OstnstT8Er5Y7M8G+P0c+r3jqkcU/5h99k6ZBzj88bCIzFzjVP4enV8oyxN0//yH99nXg5D8qOpLLf0jtP5kqGJXUifQ/c9cS8kHP/D+/DpwzojQEQIEmwoanVwxA4lgXt9HgE0BSSZ2AJuIbQAMJih9jjiNA5q4l5INuK0AwTKYKRj0zQNv5fmq8/DpAaCJseHrtQkB/+zpwzoxKQM3MzMzMeFJAZmZmZmZqWEAAAAAAAFxeQM3MzMzMJmJAmpmZmZkfZUBmZmZmZhhoQDMzMzMzEWtAAAAAAAAKbkBmZmZmZoFwQM3MzMzM/XFAMzMzMzN6c0CamZmZmfZ0QAAAAAAAc3ZAZmZmZmbvd0DNzMzMzGt5QDMzMzMz6HpAmpmZmZlkfEAAAAAAAOF9QGZmZmZmXX9AZmZmZuZsgECamZmZGSuBQM3MzMxM6YFAAAAAAICngkAzMzMzs2WDQGZmZmbmI4RAmpmZmRnihEDNzMzMTKCFQAAAAACAXoZAMzMzM7Mch0BmZmZm5tqHQJqZmZkZmYhAzczMzExXiUAAAAAAgBWKQDMzMzOz04pAZmZmZuaRi0CamZmZGVCMQM3MzMxMDo1AAAAAAIDMjUAzMzMzs4qOQGZmZmbmSI9A\",\"dtype\":\"float64\",\"shape\":[75]}},\"selected\":{\"id\":\"1657cac5-5e5c-4f9e-ba1c-12a5bf65f349\",\"type\":\"Selection\"},\"selection_policy\":{\"id\":\"0b1c4f25-7e05-41a2-a9fc-d47fd3d10039\",\"type\":\"UnionRenderers\"}},\"id\":\"e9d54a2b-f321-4704-97b4-3eecd2971559\",\"type\":\"ColumnDataSource\"},{\"attributes\":{\"data_source\":{\"id\":\"b0355818-eebe-4e40-bdb8-f1f933525cf9\",\"type\":\"ColumnDataSource\"},\"glyph\":{\"id\":\"9f43c1d5-d465-4403-af17-ccfc286a5202\",\"type\":\"Line\"},\"hover_glyph\":null,\"muted_glyph\":null,\"nonselection_glyph\":{\"id\":\"7483b288-0955-4535-8338-557c3f821328\",\"type\":\"Line\"},\"selection_glyph\":null,\"view\":{\"id\":\"2197e529-628c-48f8-902b-414087760da3\",\"type\":\"CDSView\"}},\"id\":\"9f40becd-bfd4-476c-a242-809c601e8193\",\"type\":\"GlyphRenderer\"},{\"attributes\":{},\"id\":\"45dd2e92-0cfb-48c3-add7-76e004ae0fe3\",\"type\":\"PanTool\"},{\"attributes\":{\"overlay\":{\"id\":\"57aefdbe-c4ab-4ad7-8aa6-79ce0d6cb07c\",\"type\":\"BoxAnnotation\"}},\"id\":\"cea4960f-5d84-402a-9806-93d8a3b6fff4\",\"type\":\"BoxZoomTool\"},{\"attributes\":{\"items\":[{\"id\":\"5d5c84f8-16f3-43aa-8700-2987b5ca14d0\",\"type\":\"LegendItem\"},{\"id\":\"c7d7e998-7a75-46ce-8791-2985a8580171\",\"type\":\"LegendItem\"}],\"label_text_font_size\":{\"value\":\"8pt\"},\"location\":\"top_center\",\"orientation\":\"horizontal\",\"plot\":{\"id\":\"3c87c503-96e3-4a2b-8c3b-f42d0c7b59b2\",\"subtype\":\"Figure\",\"type\":\"Plot\"}},\"id\":\"d250236b-4453-4ff3-86e3-e3462c133fe0\",\"type\":\"Legend\"},{\"attributes\":{},\"id\":\"2b881e34-57bd-49b8-b268-c82a9c8179cb\",\"type\":\"UnionRenderers\"},{\"attributes\":{},\"id\":\"deb742af-231d-4d1d-a25b-a0c4912bdd1a\",\"type\":\"ResetTool\"},{\"attributes\":{\"axis_label\":\"cooling rate [K/day]\",\"formatter\":{\"id\":\"9b604d81-e08e-4be3-88b3-8bdafd0e3824\",\"type\":\"BasicTickFormatter\"},\"plot\":{\"id\":\"99b7f039-a403-4fb0-ad7d-f7720d94bc93\",\"subtype\":\"Figure\",\"type\":\"Plot\"},\"ticker\":{\"id\":\"48f30ef3-ade9-492a-84be-06cd4c7fcc12\",\"type\":\"BasicTicker\"}},\"id\":\"8e7fb56e-ab9c-4e1b-9647-62664e6b53e5\",\"type\":\"LinearAxis\"},{\"attributes\":{\"children\":[{\"id\":\"99b7f039-a403-4fb0-ad7d-f7720d94bc93\",\"subtype\":\"Figure\",\"type\":\"Plot\"},{\"id\":\"14c29490-9f36-4122-9eaf-1cd8698fe297\",\"subtype\":\"Figure\",\"type\":\"Plot\"},{\"id\":\"3c87c503-96e3-4a2b-8c3b-f42d0c7b59b2\",\"subtype\":\"Figure\",\"type\":\"Plot\"}]},\"id\":\"719a680d-1336-4d4d-924a-4435b7f85442\",\"type\":\"Row\"},{\"attributes\":{},\"id\":\"32b24687-e454-455a-93ec-f1d183e97b65\",\"type\":\"Selection\"},{\"attributes\":{},\"id\":\"00193e7c-bdaa-4d46-954c-ef869b201d55\",\"type\":\"UnionRenderers\"},{\"attributes\":{\"children\":[{\"id\":\"7288e731-4fa3-4b84-8bdf-039f4a2c8a34\",\"type\":\"ToolbarBox\"},{\"id\":\"23e51215-6038-4ee8-bdee-881f46fd21a9\",\"type\":\"Column\"}]},\"id\":\"f20c0eb6-422d-42d3-b7d8-57f9477d89b0\",\"type\":\"Column\"},{\"attributes\":{\"callback\":null,\"data\":{\"x\":{\"__ndarray__\":\"r+yCwTXZRUC63ct9chhDQBKI1/UL5EFA/p/DfHk/QEDrk9xhE0E8QPcEie3uPTdAnrKarifqMUCL3qmAe+YpQHxLlBhfGyJA28TJ/Q41GkDXXY94aN4UQIMnmUEhtxFAAE0pVNxNDUDyuAPQg5YDQE8DBkmf9vU/59sn7EeP+j92eGOcGjMFQJ+c/HFWDwtAvgS4aujgEEBOTw5V5xcWQEwP+R15/h1AEJaxoZvVJED1TgXc88wqQPj8MEJ4/ClAf1GC/kJPJECYh0z5EEggQC/NCMrIZBtAiM22iUkGFkBElyZbEykRQAO0rWad4QtA0WdR6XEJCEAwlSMJZ8wCQGrj425rBvo/f+mjQitG8T/g1ZN1D3vnPyzHlqtA6ds/ypGlQZcRzT8+xFCYQUbAP6zbkcsuAaO/DRS6Q3Fkyb9Rqiyq/9yDv6pgdWAQw+c/9rUuNUJ/9z8totxsYhcAQFmxrsBGmAFAnZX+bzYHAEDRevgyUUT+P8hgxanWIv0/JrfcT3xr/D/QuMvZljz8P0ug0tImWPw/psus7w3v+z87A37o3XP7P3BW6ZOBCPs/MewwJv29+j/zL+6rF4j6P3VyKykchvo/NqH/1C6c+z89IqZEEn38PzTVk/lH//w/LR0Y5T7+/D8/BRsyeV78PwnX7f1XR/s/vb577NMW+j8LKNTTRwD5P5pZ8Ef2bfg/2cXZGUs9+D/tAD4uYDj4P2j1aXC2tPc/uD6sN2ql9j91O/vKg3T1P5oIG55eifQ/4Ln3cMkR9D8zVYvjG0X0P+T1YFJ81CTA\",\"dtype\":\"float64\",\"shape\":[75]},\"y\":{\"__ndarray__\":\"GhExyth1ND/Sv8nbtpRIP2vylNV0PVE/aTum7souWD/At0SJ8fVgPw3Iuahxymc/MSNhhJWvcD/bTfBN02d3P2zb5nxnaoA/CD5h5MAGhz8NmeH1TyaQP+zrCsc9p5Y/LbKd76fGnz/bLW5ISEmmPww9YvTcQq8/JV2OstnstT8Er5Y7M8G+P0c+r3jqkcU/5h99k6ZBzj88bCIzFzjVP4enV8oyxN0//yH99nXg5D8qOpLLf0jtP5kqGJXUifQ/c9cS8kHP/D+/DpwzojQEQIEmwoanVwxA4lgXt9HgE0BSSZ2AJuIbQAMJih9jjiNA5q4l5INuK0AwTKYKRj0zQNv5fmq8/DpAaCJseHrtQkB/+zpwzoxKQM3MzMzMeFJAZmZmZmZqWEAAAAAAAFxeQM3MzMzMJmJAmpmZmZkfZUBmZmZmZhhoQDMzMzMzEWtAAAAAAAAKbkBmZmZmZoFwQM3MzMzM/XFAMzMzMzN6c0CamZmZmfZ0QAAAAAAAc3ZAZmZmZmbvd0DNzMzMzGt5QDMzMzMz6HpAmpmZmZlkfEAAAAAAAOF9QGZmZmZmXX9AZmZmZuZsgECamZmZGSuBQM3MzMxM6YFAAAAAAICngkAzMzMzs2WDQGZmZmbmI4RAmpmZmRnihEDNzMzMTKCFQAAAAACAXoZAMzMzM7Mch0BmZmZm5tqHQJqZmZkZmYhAzczMzExXiUAAAAAAgBWKQDMzMzOz04pAZmZmZuaRi0CamZmZGVCMQM3MzMxMDo1AAAAAAIDMjUAzMzMzs4qOQGZmZmbmSI9A\",\"dtype\":\"float64\",\"shape\":[75]}},\"selected\":{\"id\":\"3d310d22-1ac7-43c2-9aa0-202bee06e136\",\"type\":\"Selection\"},\"selection_policy\":{\"id\":\"ffe6ea00-2197-4a6d-8016-c2ffb4e657d5\",\"type\":\"UnionRenderers\"}},\"id\":\"337aca99-3b03-4288-bfa8-496f83e5ed53\",\"type\":\"ColumnDataSource\"},{\"attributes\":{},\"id\":\"871d7dd4-7ab2-4cb3-9dc1-9bc7950e9a8e\",\"type\":\"Selection\"},{\"attributes\":{},\"id\":\"b0e9be9f-7b20-41c7-b943-7d0a8739550a\",\"type\":\"SaveTool\"},{\"attributes\":{},\"id\":\"991bed7b-d2dc-4e49-aaae-6e5796c6a041\",\"type\":\"ResetTool\"},{\"attributes\":{\"bottom_units\":\"screen\",\"fill_alpha\":{\"value\":0.5},\"fill_color\":{\"value\":\"lightgrey\"},\"left_units\":\"screen\",\"level\":\"overlay\",\"line_alpha\":{\"value\":1.0},\"line_color\":{\"value\":\"black\"},\"line_dash\":[4,4],\"line_width\":{\"value\":2},\"plot\":null,\"render_mode\":\"css\",\"right_units\":\"screen\",\"top_units\":\"screen\"},\"id\":\"0601e35d-a15a-4d05-8bf5-6db6080632fb\",\"type\":\"BoxAnnotation\"},{\"attributes\":{},\"id\":\"208eedcc-8184-41b4-bce3-640e99dc11a0\",\"type\":\"Selection\"},{\"attributes\":{},\"id\":\"a1f992ea-788d-420c-9136-6c52d17b9aaf\",\"type\":\"HelpTool\"},{\"attributes\":{\"axis_label\":\"pressure [mb]\",\"formatter\":{\"id\":\"2632bc44-29a2-4efd-8af5-a3a844f42ea9\",\"type\":\"LogTickFormatter\"},\"plot\":{\"id\":\"14c29490-9f36-4122-9eaf-1cd8698fe297\",\"subtype\":\"Figure\",\"type\":\"Plot\"},\"ticker\":{\"id\":\"d57ede67-bcf7-40b2-bb03-4b38a0812d89\",\"type\":\"LogTicker\"}},\"id\":\"41f8c1f7-5da3-4727-94d1-de0ba04b41cb\",\"type\":\"LogAxis\"},{\"attributes\":{\"num_minor_ticks\":10},\"id\":\"d57ede67-bcf7-40b2-bb03-4b38a0812d89\",\"type\":\"LogTicker\"},{\"attributes\":{},\"id\":\"7610a91a-0185-407a-b3df-0935373e4701\",\"type\":\"Selection\"},{\"attributes\":{},\"id\":\"2b5888ae-b4b3-416d-bfbd-4cea7917e58b\",\"type\":\"WheelZoomTool\"},{\"attributes\":{},\"id\":\"548f51a4-6420-4fff-9325-6dc9b299ace0\",\"type\":\"SaveTool\"},{\"attributes\":{},\"id\":\"01a1caa9-0d68-476c-8223-6f8822874f8b\",\"type\":\"LinearScale\"},{\"attributes\":{},\"id\":\"644cf2a7-8385-454f-99bd-d70114105091\",\"type\":\"BasicTickFormatter\"},{\"attributes\":{\"line_alpha\":0.6,\"line_color\":\"#377eb8\",\"line_dash\":[6],\"line_width\":5,\"x\":{\"field\":\"x\"},\"y\":{\"field\":\"y\"}},\"id\":\"9f43c1d5-d465-4403-af17-ccfc286a5202\",\"type\":\"Line\"},{\"attributes\":{},\"id\":\"7e95b9b1-56b1-4c4c-8957-ad4d03fa6843\",\"type\":\"BasicTicker\"},{\"attributes\":{\"data_source\":{\"id\":\"e9d54a2b-f321-4704-97b4-3eecd2971559\",\"type\":\"ColumnDataSource\"},\"glyph\":{\"id\":\"ed1f2aaf-ead0-4f2b-a73b-12cf82c7a1f7\",\"type\":\"Circle\"},\"hover_glyph\":null,\"muted_glyph\":null,\"nonselection_glyph\":{\"id\":\"daa4a17b-e41a-4460-914d-c28135352562\",\"type\":\"Circle\"},\"selection_glyph\":null,\"view\":{\"id\":\"e25f6b83-1c59-470b-a755-803921bb5cf9\",\"type\":\"CDSView\"}},\"id\":\"3ce60aff-23d2-441f-a5b7-92534ab1b575\",\"type\":\"GlyphRenderer\"},{\"attributes\":{\"plot\":null,\"text\":\"\"},\"id\":\"36faccc6-a750-4734-b21c-20428803d756\",\"type\":\"Title\"},{\"attributes\":{\"callback\":null,\"data\":{\"x\":{\"__ndarray__\":\"FOr41rjMeECIN9lPR1l3QP1J6wpSOHZAs5sbpjlsdEDJstChi+VxQAoH1Ca0iG1AO+c8Xjy1ZkClq1T5P0VgQAC7//zeblZAgTXXPN0JUEAkfkDd0olJQAHzs/m05kVAvntMZglZQkCjJZAeDeM4QGMevZ54bSxAV5BRi3LqMEAEYRW7nIg6QKXSOns3yEBAbflLLmPYREBa9RQJZ1tLQPDQipMprVJAy+zMX68KWkC1KjgEdb5gQK1kksntM2BACkt859VLWUDEc4ya2lVUQE0/4lOTN1FAZT+ztpW2S0BTK6D0Vn9FQLqDu6QKcEFArd3ZSXFPPkDx0owPA9Y3QC6EH5WJazBADQBgkk6JJUBmmqGsv14dQKpJNZ28rhFAXxAikVY6AkApja7VXHjzPziSmoC5ed2/ka5ssgyrAMDwDyvGQl3Hv1aqzHLCcR1A60Up/+8/LUB8Vajb+BU0QC34j+d55zVAEDIqdnjwM0BKA1mf+dwyQOg4TWdeJjJAHxnqMYOvMUBziERRA5MxQGk6TsJQqTFAlz2vAxtsMUDWOAuaXiIxQHgQvfgi4DBACUVMJ5+xMEB8vdAawo4wQDSPgLEFjTBAWTngbbg8MUBQIaDAkM4xQHgBEifZJzJAjxMztigtMkB7nhiBDMoxQB8NAs9fFzFA2DADEcJTMEAzIlgiPkEvQCiENabMiS5AROm82hJRLkACTkXjtlUuQI87UYRnui1AbgF55INuLEBVXxQ/8fUqQKXYgRZ60ilA36aKG5M+KUAO+++PH4ApQE5rpaDTCl3A\",\"dtype\":\"float64\",\"shape\":[75]},\"y\":{\"__ndarray__\":\"GhExyth1ND/Sv8nbtpRIP2vylNV0PVE/aTum7souWD/At0SJ8fVgPw3Iuahxymc/MSNhhJWvcD/bTfBN02d3P2zb5nxnaoA/CD5h5MAGhz8NmeH1TyaQP+zrCsc9p5Y/LbKd76fGnz/bLW5ISEmmPww9YvTcQq8/JV2OstnstT8Er5Y7M8G+P0c+r3jqkcU/5h99k6ZBzj88bCIzFzjVP4enV8oyxN0//yH99nXg5D8qOpLLf0jtP5kqGJXUifQ/c9cS8kHP/D+/DpwzojQEQIEmwoanVwxA4lgXt9HgE0BSSZ2AJuIbQAMJih9jjiNA5q4l5INuK0AwTKYKRj0zQNv5fmq8/DpAaCJseHrtQkB/+zpwzoxKQM3MzMzMeFJAZmZmZmZqWEAAAAAAAFxeQM3MzMzMJmJAmpmZmZkfZUBmZmZmZhhoQDMzMzMzEWtAAAAAAAAKbkBmZmZmZoFwQM3MzMzM/XFAMzMzMzN6c0CamZmZmfZ0QAAAAAAAc3ZAZmZmZmbvd0DNzMzMzGt5QDMzMzMz6HpAmpmZmZlkfEAAAAAAAOF9QGZmZmZmXX9AZmZmZuZsgECamZmZGSuBQM3MzMxM6YFAAAAAAICngkAzMzMzs2WDQGZmZmbmI4RAmpmZmRnihEDNzMzMTKCFQAAAAACAXoZAMzMzM7Mch0BmZmZm5tqHQJqZmZkZmYhAzczMzExXiUAAAAAAgBWKQDMzMzOz04pAZmZmZuaRi0CamZmZGVCMQM3MzMxMDo1AAAAAAIDMjUAzMzMzs4qOQGZmZmbmSI9A\",\"dtype\":\"float64\",\"shape\":[75]}},\"selected\":{\"id\":\"7610a91a-0185-407a-b3df-0935373e4701\",\"type\":\"Selection\"},\"selection_policy\":{\"id\":\"f87245f4-fa03-4395-9e7f-c2ed2920e78d\",\"type\":\"UnionRenderers\"}},\"id\":\"05205632-55f4-4846-93e3-1635d99e7df9\",\"type\":\"ColumnDataSource\"},{\"attributes\":{\"callback\":null,\"data\":{\"x\":{\"__ndarray__\":\"MXhf+wfXU0AZbvNjswdFQLQWsEQVdUFA5TlpnhT9QUB/x1dOYK05QImjxHmcEjZA9jYDSBB3L0AISPl4H6wqQBPuuwfAzyJAOcHprUZAIUB7WWpkesAXQJoT1Uq+ChVArO/8u0EXCkBgVNlshzgCQMeNQ+Nzu/I/POwv1Qzh+D9QxMRmcj8DQOrE7tC4mAxAQsLBRIlHEkAi4cPYoDEXQEeDpjRjzB1ASZ0GEfCuI0DVFj11sssnQOMiVKSMHyhAWRHvUxNoJEDo8cjD4g8gQLGGvR2NDRpAdpI3nV5oFECtyWH9Lp4QQIZQd9bvmwtAkshlnu1BBkBMysnQf1UAQHZJU/DYZ/c/HoEhV+G48T/rSm4vc/TmP3EgV4cD49g/xmy6+4w7zz+bEsjh3uDDPw5SRMRogKs/4GPKdPc1a78lazVXN1vCP/B84ODeUug/LOyxgXDV9z+/DBHyZAwAQAOIY+fy/QFAahF3XKCUAECV0GHvGsz+P+X4k4Nhvf0/RO/IqI98/T8rkW+v/zT9P59vGMDsAv0/zEX7plCY/D/E3siS8kj7P2yUMv+hDvs/RmrXDaYs+z+c9f5GCO36P58nVCbr7vo/Qus8hbcy/D+rD5hFMCf9P4t6dxofnPw/bRp4QYZ2/D/q8NNiN2b8P5YTVw9ESPw/l1Dy0X/K+j+WKih3ZdD5P2k8OYxHjvk/hceGh5N4+T8lpPahWSn5P6vJnePt4vY/UuhmxnXI9T8miFqdE+D0Pz7qfx5CR/Q/0khvq2US9D9LfVdHQGv0P9syeEmwYfg/\",\"dtype\":\"float64\",\"shape\":[75]},\"y\":{\"__ndarray__\":\"hLndy31yND/6fmq8dJNIP8n9DkWBPlE/aDum7souWD/b4a/JGvVgP9f34SAhymc/ZvM4DOavcD+z0M5pFmh3PxuC4zJuaoA/xjcUPlsHhz8uHAjJAiaQP9ieWRKgppY/oI7HDFTGnz+a5h2n6EimPzS6g9iZQq8/IuAQqtTstT9SSZ2AJsK+P4nS3uALk8U/ih9j7lpCzj+ASL99HTjVP4enV8oyxN0/ACL99nXg5D9fmEwVjErtPyUGgZVDi/Q/AiuHFtnO/D9OYhBYOTQEQPHSTWIQWAxA4XoUrkfhE0D8qfHSTeIbQMh2vp8ajyNArkfhehRuK0Bcj8L1KDwzQFyPwvUo/DpAPgrXo3DtQkDNzMzMzIxKQClcj8L1eFJAKVyPwvVoWECamZmZmVleQGZmZmZmJmJAAAAAAAAgZUCamZmZmRloQJqZmZmZEWtAmpmZmZkJbkCamZmZmYFwQGZmZmZm/nFAZmZmZmZ6c0BmZmZmZvZ0QDQzMzMzc3ZAAAAAAADwd0AAAAAAAGx5QAAAAAAA6HpAzMzMzMxkfEDMzMzMzOB9QM3MzMzMXH9AzczMzMxsgEAzMzMzMyuBQDMzMzMz6YFAMzMzMzOngkCamZmZmWWDQAAAAAAAJIRAAAAAAADihEAAAAAAAKCFQGZmZmZmXoZAzczMzMwch0DNzMzMzNqHQM3MzMzMmIhAMzMzMzNXiUCamZmZmRWKQAAAAAAA1IpAAAAAAACSi0AAAAAAAFCMQGZmZmZmDo1AzczMzMzMjUDNzMzMzIqOQM3MzMzMSI9A\",\"dtype\":\"float64\",\"shape\":[75]}},\"selected\":{\"id\":\"208eedcc-8184-41b4-bce3-640e99dc11a0\",\"type\":\"Selection\"},\"selection_policy\":{\"id\":\"dcf30bcc-7520-454f-8bd8-45273301da5b\",\"type\":\"UnionRenderers\"}},\"id\":\"5e2097ff-71ac-4f88-816f-b560f7c76758\",\"type\":\"ColumnDataSource\"},{\"attributes\":{\"data_source\":{\"id\":\"5e2097ff-71ac-4f88-816f-b560f7c76758\",\"type\":\"ColumnDataSource\"},\"glyph\":{\"id\":\"da476234-e833-4896-a8c7-d56fcb9e36df\",\"type\":\"Square\"},\"hover_glyph\":null,\"muted_glyph\":null,\"nonselection_glyph\":{\"id\":\"16701b1c-e76b-4969-a21f-323f147230aa\",\"type\":\"Square\"},\"selection_glyph\":null,\"view\":{\"id\":\"67773d36-f75c-4327-983d-1d06b79ccbca\",\"type\":\"CDSView\"}},\"id\":\"b21bce0a-de56-4dbc-b5b9-d2b10ea7ce3a\",\"type\":\"GlyphRenderer\"},{\"attributes\":{\"items\":[{\"id\":\"553a6f17-1672-4714-8729-e7a219e4d7b4\",\"type\":\"LegendItem\"},{\"id\":\"f1f99e17-1a01-44a3-aff8-4bd3e984cc17\",\"type\":\"LegendItem\"},{\"id\":\"27829518-196d-45be-947e-18e8b2430616\",\"type\":\"LegendItem\"}],\"label_text_font_size\":{\"value\":\"8pt\"},\"location\":\"top_center\",\"orientation\":\"horizontal\",\"plot\":{\"id\":\"99b7f039-a403-4fb0-ad7d-f7720d94bc93\",\"subtype\":\"Figure\",\"type\":\"Plot\"}},\"id\":\"ab65966a-fc91-4641-afb6-5363ea67be06\",\"type\":\"Legend\"},{\"attributes\":{\"source\":{\"id\":\"337aca99-3b03-4288-bfa8-496f83e5ed53\",\"type\":\"ColumnDataSource\"}},\"id\":\"ddd6a08f-ecf7-4a8b-9a21-90eef60bf69f\",\"type\":\"CDSView\"},{\"attributes\":{\"axis_label\":\"cooling rate [K/day]\",\"formatter\":{\"id\":\"2e3e3df8-abbc-4f5e-8892-7326d78528d9\",\"type\":\"BasicTickFormatter\"},\"plot\":{\"id\":\"3c87c503-96e3-4a2b-8c3b-f42d0c7b59b2\",\"subtype\":\"Figure\",\"type\":\"Plot\"},\"ticker\":{\"id\":\"7e95b9b1-56b1-4c4c-8957-ad4d03fa6843\",\"type\":\"BasicTicker\"}},\"id\":\"b7972d20-2a17-49f0-ac84-1caf62927f01\",\"type\":\"LinearAxis\"},{\"attributes\":{\"label\":{\"value\":\"CRD\"},\"renderers\":[{\"id\":\"3ce60aff-23d2-441f-a5b7-92534ab1b575\",\"type\":\"GlyphRenderer\"},{\"id\":\"f7fd4921-276a-4cd3-9199-842bfcbf75b8\",\"type\":\"GlyphRenderer\"}]},\"id\":\"f1f99e17-1a01-44a3-aff8-4bd3e984cc17\",\"type\":\"LegendItem\"},{\"attributes\":{\"callback\":null,\"data\":{\"x\":{\"__ndarray__\":\"EFTPEMULEsBY5Soo7NcRwOAih0PfTQnAcLzxlkslFUAgkIluU6TzP+gpDdzLdwVAICHKUKVt1T+Ik7s3hMbwP6AHr9TDy9y/ECnbDOK15j+w2qv7vfbXvzCQ/22EH9Y/ABwN6PuE1b8w8RgTZ5TNP8ZxqdeCOdI/WPaTJPMAyz/gCWaNx9zKv4Bz2SfMkLG/QNDU2Dvrw7/gjDvG8ELPv3BfAcZ9A9W/QPE2M06U4r+4EtXbvdv4v8CHA9UM1vO/wNkC+csj1L9A31CHx4DGv4BAVcDWEKk/AJyjBEwOpL8A2K0iJHelvwAHMEdHKYW/QAFQrblkpT+AYHxUdJWePwCcnL/AFYO/AIDdMF2+IL9AoMQ3Xs6Hv8CEJWa/IIk/SHjx3bH7mD9glt/hXwibv4AXhtbv81c/0ZPByHVmuD+ZIBKsyEuxPwB7VdwaDKi/AMK2wPlcpL+A1M+Jt0OhvwBblecIUqS/AOzlE2F5m79AcNDuEvKUv8BO6MRU/Ja/ALSuiFPKhL8ASGwETKOKvwCIZggV2Yi/AB5fgpVndD+A7LY9mXWhv8C4xgD0L5O/ALuUgd63fD8AAPReZ8gCPwB4gQY0fE+/gN8kEc8Okj9ggdWOaw6mPwButB7pzIA/QJoEKHMXlz9A3ZOmSfmuP0CC+mOR17o/8L5CjVu4sD8gd3D5DeiqP4BAGGl6MbI/oBQpEQTvtT+AoHD36662PwCQysucWWu/gOgg5EKCgD+gmD6me76hPwAZquxAgK4/MDP40Wo1tD/gyKr9n0C3P9Ci4ei4h7S/\",\"dtype\":\"float64\",\"shape\":[75]},\"y\":{\"__ndarray__\":\"GhExyth1ND/Sv8nbtpRIP2vylNV0PVE/aTum7souWD/At0SJ8fVgPw3Iuahxymc/MSNhhJWvcD/bTfBN02d3P2zb5nxnaoA/CD5h5MAGhz8NmeH1TyaQP+zrCsc9p5Y/LbKd76fGnz/bLW5ISEmmPww9YvTcQq8/JV2OstnstT8Er5Y7M8G+P0c+r3jqkcU/5h99k6ZBzj88bCIzFzjVP4enV8oyxN0//yH99nXg5D8qOpLLf0jtP5kqGJXUifQ/c9cS8kHP/D+/DpwzojQEQIEmwoanVwxA4lgXt9HgE0BSSZ2AJuIbQAMJih9jjiNA5q4l5INuK0AwTKYKRj0zQNv5fmq8/DpAaCJseHrtQkB/+zpwzoxKQM3MzMzMeFJAZmZmZmZqWEAAAAAAAFxeQM3MzMzMJmJAmpmZmZkfZUBmZmZmZhhoQDMzMzMzEWtAAAAAAAAKbkBmZmZmZoFwQM3MzMzM/XFAMzMzMzN6c0CamZmZmfZ0QAAAAAAAc3ZAZmZmZmbvd0DNzMzMzGt5QDMzMzMz6HpAmpmZmZlkfEAAAAAAAOF9QGZmZmZmXX9AZmZmZuZsgECamZmZGSuBQM3MzMxM6YFAAAAAAICngkAzMzMzs2WDQGZmZmbmI4RAmpmZmRnihEDNzMzMTKCFQAAAAACAXoZAMzMzM7Mch0BmZmZm5tqHQJqZmZkZmYhAzczMzExXiUAAAAAAgBWKQDMzMzOz04pAZmZmZuaRi0CamZmZGVCMQM3MzMxMDo1AAAAAAIDMjUAzMzMzs4qOQGZmZmbmSI9A\",\"dtype\":\"float64\",\"shape\":[75]}},\"selected\":{\"id\":\"871d7dd4-7ab2-4cb3-9dc1-9bc7950e9a8e\",\"type\":\"Selection\"},\"selection_policy\":{\"id\":\"b1959dda-d742-4ee2-914f-debbf5c03493\",\"type\":\"UnionRenderers\"}},\"id\":\"3014d271-0b79-4e58-86db-0a3357040804\",\"type\":\"ColumnDataSource\"},{\"attributes\":{\"line_alpha\":0.1,\"line_color\":\"#1f77b4\",\"line_width\":1.5,\"x\":{\"field\":\"x\"},\"y\":{\"field\":\"y\"}},\"id\":\"78ff4b49-feac-4b8a-b505-87d789353e8c\",\"type\":\"Line\"},{\"attributes\":{\"data_source\":{\"id\":\"5431c584-807c-4257-b595-d74d291250a2\",\"type\":\"ColumnDataSource\"},\"glyph\":{\"id\":\"3a0ff496-6681-4d9a-ae63-c4cc5392ed19\",\"type\":\"Line\"},\"hover_glyph\":null,\"muted_glyph\":null,\"nonselection_glyph\":{\"id\":\"5461218f-f218-46da-9a28-11eb54171ea4\",\"type\":\"Line\"},\"selection_glyph\":null,\"view\":{\"id\":\"45218ed7-ae0e-4db1-b813-9bb6e46b292f\",\"type\":\"CDSView\"}},\"id\":\"f7fd4921-276a-4cd3-9199-842bfcbf75b8\",\"type\":\"GlyphRenderer\"},{\"attributes\":{\"data_source\":{\"id\":\"3014d271-0b79-4e58-86db-0a3357040804\",\"type\":\"ColumnDataSource\"},\"glyph\":{\"id\":\"d9403370-ae16-4959-8ac5-3ba60edb57bb\",\"type\":\"Line\"},\"hover_glyph\":null,\"muted_glyph\":null,\"nonselection_glyph\":{\"id\":\"027f4cd4-9e40-4b35-9ecb-0d0fcbec761e\",\"type\":\"Line\"},\"selection_glyph\":null,\"view\":{\"id\":\"899a1a53-560e-4c9c-937d-aba144f3c596\",\"type\":\"CDSView\"}},\"id\":\"00a80f76-9a1d-4843-9721-26813874e232\",\"type\":\"GlyphRenderer\"},{\"attributes\":{\"callback\":null,\"end\":0.01,\"start\":1020},\"id\":\"df1838ec-0b31-4c1d-9c26-d16ee85829ef\",\"type\":\"Range1d\"},{\"attributes\":{\"line_alpha\":0.5,\"line_color\":\"#377eb8\",\"line_dash\":[6],\"line_width\":4,\"x\":{\"field\":\"x\"},\"y\":{\"field\":\"y\"}},\"id\":\"d9403370-ae16-4959-8ac5-3ba60edb57bb\",\"type\":\"Line\"},{\"attributes\":{\"above\":[{\"id\":\"701d10cf-4518-47b4-9e75-942bda3c7d7a\",\"type\":\"Legend\"}],\"below\":[{\"id\":\"4fb22ef7-c234-4d56-9c0f-56179b50eff5\",\"type\":\"LinearAxis\"}],\"left\":[{\"id\":\"41f8c1f7-5da3-4727-94d1-de0ba04b41cb\",\"type\":\"LogAxis\"}],\"plot_width\":300,\"renderers\":[{\"id\":\"4fb22ef7-c234-4d56-9c0f-56179b50eff5\",\"type\":\"LinearAxis\"},{\"id\":\"bac0bd58-b878-4186-a90c-f31d33e3fb35\",\"type\":\"Grid\"},{\"id\":\"41f8c1f7-5da3-4727-94d1-de0ba04b41cb\",\"type\":\"LogAxis\"},{\"id\":\"68e4ad20-cff5-472e-b912-d355ea085705\",\"type\":\"Grid\"},{\"id\":\"0601e35d-a15a-4d05-8bf5-6db6080632fb\",\"type\":\"BoxAnnotation\"},{\"id\":\"d7db0b11-b5b6-4cbd-bca3-6809bf0b09c6\",\"type\":\"GlyphRenderer\"},{\"id\":\"8ab608fd-23e1-4371-93e0-11f596c232eb\",\"type\":\"GlyphRenderer\"},{\"id\":\"34d910b4-fc2c-4d99-a306-b6b3bec7d08e\",\"type\":\"GlyphRenderer\"},{\"id\":\"ef96a4b1-db3f-47a7-9107-4cd5884daa2b\",\"type\":\"GlyphRenderer\"},{\"id\":\"a39979ab-0bc8-41a8-b875-6bb19389e123\",\"type\":\"GlyphRenderer\"},{\"id\":\"701d10cf-4518-47b4-9e75-942bda3c7d7a\",\"type\":\"Legend\"}],\"title\":{\"id\":\"36faccc6-a750-4734-b21c-20428803d756\",\"type\":\"Title\"},\"toolbar\":{\"id\":\"8122e870-e4ca-4304-b952-93b80ed4cbb6\",\"type\":\"Toolbar\"},\"toolbar_location\":null,\"x_range\":{\"id\":\"9c8c1d6f-294d-49ce-a183-d16b89d04a5d\",\"type\":\"Range1d\"},\"x_scale\":{\"id\":\"bddb441d-d0dd-4610-8451-2baaca3fb492\",\"type\":\"LinearScale\"},\"y_range\":{\"id\":\"df1838ec-0b31-4c1d-9c26-d16ee85829ef\",\"type\":\"Range1d\"},\"y_scale\":{\"id\":\"edbcf637-df35-41dc-8250-f40621b10fcc\",\"type\":\"LogScale\"}},\"id\":\"14c29490-9f36-4122-9eaf-1cd8698fe297\",\"subtype\":\"Figure\",\"type\":\"Plot\"},{\"attributes\":{\"source\":{\"id\":\"05205632-55f4-4846-93e3-1635d99e7df9\",\"type\":\"ColumnDataSource\"}},\"id\":\"28d83abb-fc5a-4f10-b9c1-f7ced805adaa\",\"type\":\"CDSView\"},{\"attributes\":{\"fill_alpha\":{\"value\":0.7},\"fill_color\":{\"value\":\"#4daf4a\"},\"line_alpha\":{\"value\":0.7},\"line_color\":{\"value\":\"#4daf4a\"},\"x\":{\"field\":\"x\"},\"y\":{\"field\":\"y\"}},\"id\":\"ed1f2aaf-ead0-4f2b-a73b-12cf82c7a1f7\",\"type\":\"Circle\"},{\"attributes\":{\"line_alpha\":0.1,\"line_color\":\"#1f77b4\",\"line_width\":1.5,\"x\":{\"field\":\"x\"},\"y\":{\"field\":\"y\"}},\"id\":\"5461218f-f218-46da-9a28-11eb54171ea4\",\"type\":\"Line\"},{\"attributes\":{\"line_alpha\":0.6,\"line_color\":\"#377eb8\",\"line_dash\":[6],\"line_width\":5,\"x\":{\"field\":\"x\"},\"y\":{\"field\":\"y\"}},\"id\":\"9e3e3050-9b85-4750-949f-03a2449e3037\",\"type\":\"Line\"},{\"attributes\":{\"fill_alpha\":{\"value\":0.1},\"fill_color\":{\"value\":\"#1f77b4\"},\"line_alpha\":{\"value\":0.1},\"line_color\":{\"value\":\"#1f77b4\"},\"x\":{\"field\":\"x\"},\"y\":{\"field\":\"y\"}},\"id\":\"85d71f28-95a5-48d0-ac0b-5514f9057d6a\",\"type\":\"Circle\"},{\"attributes\":{\"fill_alpha\":{\"value\":0.1},\"fill_color\":{\"value\":\"#1f77b4\"},\"line_alpha\":{\"value\":0.1},\"line_color\":{\"value\":\"#1f77b4\"},\"x\":{\"field\":\"x\"},\"y\":{\"field\":\"y\"}},\"id\":\"bb35e1f2-af0d-40c9-8cc8-cf99eef3fd24\",\"type\":\"Circle\"},{\"attributes\":{\"source\":{\"id\":\"6af79e28-700e-4f06-a9d4-8a7092322508\",\"type\":\"ColumnDataSource\"}},\"id\":\"bd4971cb-44d7-41b3-8aa2-899763be3f6d\",\"type\":\"CDSView\"},{\"attributes\":{\"data_source\":{\"id\":\"337aca99-3b03-4288-bfa8-496f83e5ed53\",\"type\":\"ColumnDataSource\"},\"glyph\":{\"id\":\"9e3e3050-9b85-4750-949f-03a2449e3037\",\"type\":\"Line\"},\"hover_glyph\":null,\"muted_glyph\":null,\"nonselection_glyph\":{\"id\":\"d3dfe265-b61e-4c40-85be-3fbfe78b7357\",\"type\":\"Line\"},\"selection_glyph\":null,\"view\":{\"id\":\"ddd6a08f-ecf7-4a8b-9a21-90eef60bf69f\",\"type\":\"CDSView\"}},\"id\":\"d7db0b11-b5b6-4cbd-bca3-6809bf0b09c6\",\"type\":\"GlyphRenderer\"},{\"attributes\":{\"fill_alpha\":{\"value\":0.7},\"fill_color\":{\"value\":\"#984ea3\"},\"line_alpha\":{\"value\":0.7},\"line_color\":{\"value\":\"#984ea3\"},\"x\":{\"field\":\"x\"},\"y\":{\"field\":\"y\"}},\"id\":\"da476234-e833-4896-a8c7-d56fcb9e36df\",\"type\":\"Square\"},{\"attributes\":{\"callback\":null,\"end\":2.4157238126733005,\"start\":-10.5420479783433},\"id\":\"8dada5a0-2690-4518-8f6e-9a01287d59f6\",\"type\":\"Range1d\"},{\"attributes\":{\"source\":{\"id\":\"5e2097ff-71ac-4f88-816f-b560f7c76758\",\"type\":\"ColumnDataSource\"}},\"id\":\"67773d36-f75c-4327-983d-1d06b79ccbca\",\"type\":\"CDSView\"},{\"attributes\":{\"callback\":null,\"data\":{\"x\":{\"__ndarray__\":\"cm1sTMT3VEDEyvjosEJHQOKI6DjzCUNArgQWV9awPkB9Lm8XG3M4QEz+Qv6iYzNA7eV8HaPLLkCX1QHyTpMoQFBmYSYetiNAUB04GtGpH0AmFyVE5j8ZQJca9QPGqBNALJP+OOHHDEBNxaf7QF8AQKtislomWuw/cW2dcO6A9T/uJJvfPu0EQIaQLTI/JQ1AxGiII+PmEkCJvfVeuCsYQD6ZBhGbHB9AXQw69DTYJEAsubcwKucqQNuT9D5OmipAJyi3szEJJUBlNebh5WkgQDDcPHBr2xlArtlANXuQFEBdJadFHckQQI2Avh0ZsQtAjYiwt1rsBUCL0SDoVBgAQK6C0nEEjvc/CggLSme58T9sXU2orFPnP0v0JYz9Gdg/vT38vxYczD9nBQTe6kHHP1IhkEXJwKo/8OZnhCVAub+xtVgCpmqzP6DUpY6g0+k/PKK3T1h4+D8RTDjQc1EAQG/dAQs7TwJAQt2eHpPLAEBWEh074x//PyCap9ZSGf4/rEzaTySm/T+7aXhHRmr9P688KeqeNP0/ruZ4EemD/D8olrZcn9T7P0+vNc9hW/s/i9VVL+4P+z+0NzC24uz6P8731Kza8vo/xFf4SHzq+z+gYyHpvHb8P68ROkiFevw/BAjYdCga/D8AUp8VbW77P3JrF/nKmvo/qCQeGfq++T/dplwHJfn4P2G4p+Uva/g/OzZ0RqMZ+D8dmn/iar73P/OuA7Ka8PY/gaaeQHGn9T9hkyjAH1L0P3aZGhdAU/M/n8VP/g7P8j+90HxHNvfyPwhNBtgrqvk/\",\"dtype\":\"float64\",\"shape\":[75]},\"y\":{\"__ndarray__\":\"GhExyth1ND/Sv8nbtpRIP2vylNV0PVE/aTum7souWD/At0SJ8fVgPw3Iuahxymc/MSNhhJWvcD/bTfBN02d3P2zb5nxnaoA/CD5h5MAGhz8NmeH1TyaQP+zrCsc9p5Y/LbKd76fGnz/bLW5ISEmmPww9YvTcQq8/JV2OstnstT8Er5Y7M8G+P0c+r3jqkcU/5h99k6ZBzj88bCIzFzjVP4enV8oyxN0//yH99nXg5D8qOpLLf0jtP5kqGJXUifQ/c9cS8kHP/D+/DpwzojQEQIEmwoanVwxA4lgXt9HgE0BSSZ2AJuIbQAMJih9jjiNA5q4l5INuK0AwTKYKRj0zQNv5fmq8/DpAaCJseHrtQkB/+zpwzoxKQM3MzMzMeFJAZmZmZmZqWEAAAAAAAFxeQM3MzMzMJmJAmpmZmZkfZUBmZmZmZhhoQDMzMzMzEWtAAAAAAAAKbkBmZmZmZoFwQM3MzMzM/XFAMzMzMzN6c0CamZmZmfZ0QAAAAAAAc3ZAZmZmZmbvd0DNzMzMzGt5QDMzMzMz6HpAmpmZmZlkfEAAAAAAAOF9QGZmZmZmXX9AZmZmZuZsgECamZmZGSuBQM3MzMxM6YFAAAAAAICngkAzMzMzs2WDQGZmZmbmI4RAmpmZmRnihEDNzMzMTKCFQAAAAACAXoZAMzMzM7Mch0BmZmZm5tqHQJqZmZkZmYhAzczMzExXiUAAAAAAgBWKQDMzMzOz04pAZmZmZuaRi0CamZmZGVCMQM3MzMxMDo1AAAAAAIDMjUAzMzMzs4qOQGZmZmbmSI9A\",\"dtype\":\"float64\",\"shape\":[75]}},\"selected\":{\"id\":\"193fa85f-aab8-4431-80bd-38ae7946d7e5\",\"type\":\"Selection\"},\"selection_policy\":{\"id\":\"6b26d5f4-6042-421e-b111-4441ed335114\",\"type\":\"UnionRenderers\"}},\"id\":\"c0e20a9b-a801-4608-a8b6-5c406d3720dc\",\"type\":\"ColumnDataSource\"},{\"attributes\":{\"source\":{\"id\":\"b0355818-eebe-4e40-bdb8-f1f933525cf9\",\"type\":\"ColumnDataSource\"}},\"id\":\"2197e529-628c-48f8-902b-414087760da3\",\"type\":\"CDSView\"},{\"attributes\":{},\"id\":\"ff367b21-8a52-4c72-8400-c4f217f455e7\",\"type\":\"Selection\"},{\"attributes\":{\"above\":[{\"id\":\"ab65966a-fc91-4641-afb6-5363ea67be06\",\"type\":\"Legend\"}],\"below\":[{\"id\":\"8e7fb56e-ab9c-4e1b-9647-62664e6b53e5\",\"type\":\"LinearAxis\"}],\"left\":[{\"id\":\"3e3b86ea-66e0-40a9-9956-61700201871c\",\"type\":\"LinearAxis\"}],\"plot_width\":300,\"renderers\":[{\"id\":\"8e7fb56e-ab9c-4e1b-9647-62664e6b53e5\",\"type\":\"LinearAxis\"},{\"id\":\"abd8217b-ac55-4dc7-a5a3-c175d81294c6\",\"type\":\"Grid\"},{\"id\":\"3e3b86ea-66e0-40a9-9956-61700201871c\",\"type\":\"LinearAxis\"},{\"id\":\"2b0ded0f-d499-44b8-af82-59eb36e887ed\",\"type\":\"Grid\"},{\"id\":\"57aefdbe-c4ab-4ad7-8aa6-79ce0d6cb07c\",\"type\":\"BoxAnnotation\"},{\"id\":\"9f40becd-bfd4-476c-a242-809c601e8193\",\"type\":\"GlyphRenderer\"},{\"id\":\"3ce60aff-23d2-441f-a5b7-92534ab1b575\",\"type\":\"GlyphRenderer\"},{\"id\":\"f7fd4921-276a-4cd3-9199-842bfcbf75b8\",\"type\":\"GlyphRenderer\"},{\"id\":\"b21bce0a-de56-4dbc-b5b9-d2b10ea7ce3a\",\"type\":\"GlyphRenderer\"},{\"id\":\"06ea16d1-6d3a-44f3-a56e-9223bf783177\",\"type\":\"GlyphRenderer\"},{\"id\":\"ab65966a-fc91-4641-afb6-5363ea67be06\",\"type\":\"Legend\"}],\"title\":{\"id\":\"b19e3d71-dbf4-4b19-840e-088ec526fbee\",\"type\":\"Title\"},\"toolbar\":{\"id\":\"f06b7a08-f2b4-4576-9e57-d26723039825\",\"type\":\"Toolbar\"},\"toolbar_location\":null,\"x_range\":{\"id\":\"8dada5a0-2690-4518-8f6e-9a01287d59f6\",\"type\":\"Range1d\"},\"x_scale\":{\"id\":\"f6b258fe-edfd-4b23-b2f8-af7f89674b8b\",\"type\":\"LinearScale\"},\"y_range\":{\"id\":\"c61700ff-0d4d-428b-97b7-1d9b1f69056e\",\"type\":\"Range1d\"},\"y_scale\":{\"id\":\"01a1caa9-0d68-476c-8223-6f8822874f8b\",\"type\":\"LinearScale\"}},\"id\":\"99b7f039-a403-4fb0-ad7d-f7720d94bc93\",\"subtype\":\"Figure\",\"type\":\"Plot\"},{\"attributes\":{\"source\":{\"id\":\"3014d271-0b79-4e58-86db-0a3357040804\",\"type\":\"ColumnDataSource\"}},\"id\":\"899a1a53-560e-4c9c-937d-aba144f3c596\",\"type\":\"CDSView\"},{\"attributes\":{\"line_color\":\"#4daf4a\",\"line_width\":1.5,\"x\":{\"field\":\"x\"},\"y\":{\"field\":\"y\"}},\"id\":\"3a0ff496-6681-4d9a-ae63-c4cc5392ed19\",\"type\":\"Line\"},{\"attributes\":{\"line_alpha\":0.1,\"line_color\":\"#1f77b4\",\"line_dash\":[6],\"line_width\":4,\"x\":{\"field\":\"x\"},\"y\":{\"field\":\"y\"}},\"id\":\"027f4cd4-9e40-4b35-9ecb-0d0fcbec761e\",\"type\":\"Line\"},{\"attributes\":{\"data_source\":{\"id\":\"e8e4b7d9-7de8-4e1f-b665-10864c42883b\",\"type\":\"ColumnDataSource\"},\"glyph\":{\"id\":\"409d5bc6-fb1a-4b06-b5f4-f5bd772a656f\",\"type\":\"Line\"},\"hover_glyph\":null,\"muted_glyph\":null,\"nonselection_glyph\":{\"id\":\"78ff4b49-feac-4b8a-b505-87d789353e8c\",\"type\":\"Line\"},\"selection_glyph\":null,\"view\":{\"id\":\"b4a33359-5bc0-443e-bf2b-92f776aa9018\",\"type\":\"CDSView\"}},\"id\":\"06ea16d1-6d3a-44f3-a56e-9223bf783177\",\"type\":\"GlyphRenderer\"},{\"attributes\":{\"callback\":null,\"data\":{\"x\":{\"__ndarray__\":\"cm1sTMT3VEDEyvjosEJHQOKI6DjzCUNArgQWV9awPkB9Lm8XG3M4QEz+Qv6iYzNA7eV8HaPLLkCX1QHyTpMoQFBmYSYetiNAUB04GtGpH0AmFyVE5j8ZQJca9QPGqBNALJP+OOHHDEBNxaf7QF8AQKtislomWuw/cW2dcO6A9T/uJJvfPu0EQIaQLTI/JQ1AxGiII+PmEkCJvfVeuCsYQD6ZBhGbHB9AXQw69DTYJEAsubcwKucqQNuT9D5OmipAJyi3szEJJUBlNebh5WkgQDDcPHBr2xlArtlANXuQFEBdJadFHckQQI2Avh0ZsQtAjYiwt1rsBUCL0SDoVBgAQK6C0nEEjvc/CggLSme58T9sXU2orFPnP0v0JYz9Gdg/vT38vxYczD9nBQTe6kHHP1IhkEXJwKo/8OZnhCVAub+xtVgCpmqzP6DUpY6g0+k/PKK3T1h4+D8RTDjQc1EAQG/dAQs7TwJAQt2eHpPLAEBWEh074x//PyCap9ZSGf4/rEzaTySm/T+7aXhHRmr9P688KeqeNP0/ruZ4EemD/D8olrZcn9T7P0+vNc9hW/s/i9VVL+4P+z+0NzC24uz6P8731Kza8vo/xFf4SHzq+z+gYyHpvHb8P68ROkiFevw/BAjYdCga/D8AUp8VbW77P3JrF/nKmvo/qCQeGfq++T/dplwHJfn4P2G4p+Uva/g/OzZ0RqMZ+D8dmn/iar73P/OuA7Ka8PY/gaaeQHGn9T9hkyjAH1L0P3aZGhdAU/M/n8VP/g7P8j+90HxHNvfyPwhNBtgrqvk/\",\"dtype\":\"float64\",\"shape\":[75]},\"y\":{\"__ndarray__\":\"GhExyth1ND/Sv8nbtpRIP2vylNV0PVE/aTum7souWD/At0SJ8fVgPw3Iuahxymc/MSNhhJWvcD/bTfBN02d3P2zb5nxnaoA/CD5h5MAGhz8NmeH1TyaQP+zrCsc9p5Y/LbKd76fGnz/bLW5ISEmmPww9YvTcQq8/JV2OstnstT8Er5Y7M8G+P0c+r3jqkcU/5h99k6ZBzj88bCIzFzjVP4enV8oyxN0//yH99nXg5D8qOpLLf0jtP5kqGJXUifQ/c9cS8kHP/D+/DpwzojQEQIEmwoanVwxA4lgXt9HgE0BSSZ2AJuIbQAMJih9jjiNA5q4l5INuK0AwTKYKRj0zQNv5fmq8/DpAaCJseHrtQkB/+zpwzoxKQM3MzMzMeFJAZmZmZmZqWEAAAAAAAFxeQM3MzMzMJmJAmpmZmZkfZUBmZmZmZhhoQDMzMzMzEWtAAAAAAAAKbkBmZmZmZoFwQM3MzMzM/XFAMzMzMzN6c0CamZmZmfZ0QAAAAAAAc3ZAZmZmZmbvd0DNzMzMzGt5QDMzMzMz6HpAmpmZmZlkfEAAAAAAAOF9QGZmZmZmXX9AZmZmZuZsgECamZmZGSuBQM3MzMxM6YFAAAAAAICngkAzMzMzs2WDQGZmZmbmI4RAmpmZmRnihEDNzMzMTKCFQAAAAACAXoZAMzMzM7Mch0BmZmZm5tqHQJqZmZkZmYhAzczMzExXiUAAAAAAgBWKQDMzMzOz04pAZmZmZuaRi0CamZmZGVCMQM3MzMxMDo1AAAAAAIDMjUAzMzMzs4qOQGZmZmbmSI9A\",\"dtype\":\"float64\",\"shape\":[75]}},\"selected\":{\"id\":\"f32761fe-0e31-4a84-ad38-f0d6de024289\",\"type\":\"Selection\"},\"selection_policy\":{\"id\":\"5f7d223f-b0d9-4df7-af6f-53d6b16c8f8f\",\"type\":\"UnionRenderers\"}},\"id\":\"5431c584-807c-4257-b595-d74d291250a2\",\"type\":\"ColumnDataSource\"},{\"attributes\":{\"source\":{\"id\":\"5431c584-807c-4257-b595-d74d291250a2\",\"type\":\"ColumnDataSource\"}},\"id\":\"45218ed7-ae0e-4db1-b813-9bb6e46b292f\",\"type\":\"CDSView\"},{\"attributes\":{\"fill_alpha\":{\"value\":0.7},\"fill_color\":{\"value\":\"#4daf4a\"},\"line_alpha\":{\"value\":0.7},\"line_color\":{\"value\":\"#4daf4a\"},\"x\":{\"field\":\"x\"},\"y\":{\"field\":\"y\"}},\"id\":\"255c5ad1-b4ab-4d2f-8741-528635d0e6e1\",\"type\":\"Circle\"},{\"attributes\":{\"callback\":null,\"data\":{\"x\":{\"__ndarray__\":\"MXhf+wfXU0AZbvNjswdFQLQWsEQVdUFA5TlpnhT9QUB/x1dOYK05QImjxHmcEjZA9jYDSBB3L0AISPl4H6wqQBPuuwfAzyJAOcHprUZAIUB7WWpkesAXQJoT1Uq+ChVArO/8u0EXCkBgVNlshzgCQMeNQ+Nzu/I/POwv1Qzh+D9QxMRmcj8DQOrE7tC4mAxAQsLBRIlHEkAi4cPYoDEXQEeDpjRjzB1ASZ0GEfCuI0DVFj11sssnQOMiVKSMHyhAWRHvUxNoJEDo8cjD4g8gQLGGvR2NDRpAdpI3nV5oFECtyWH9Lp4QQIZQd9bvmwtAkshlnu1BBkBMysnQf1UAQHZJU/DYZ/c/HoEhV+G48T/rSm4vc/TmP3EgV4cD49g/xmy6+4w7zz+bEsjh3uDDPw5SRMRogKs/4GPKdPc1a78lazVXN1vCP/B84ODeUug/LOyxgXDV9z+/DBHyZAwAQAOIY+fy/QFAahF3XKCUAECV0GHvGsz+P+X4k4Nhvf0/RO/IqI98/T8rkW+v/zT9P59vGMDsAv0/zEX7plCY/D/E3siS8kj7P2yUMv+hDvs/RmrXDaYs+z+c9f5GCO36P58nVCbr7vo/Qus8hbcy/D+rD5hFMCf9P4t6dxofnPw/bRp4QYZ2/D/q8NNiN2b8P5YTVw9ESPw/l1Dy0X/K+j+WKih3ZdD5P2k8OYxHjvk/hceGh5N4+T8lpPahWSn5P6vJnePt4vY/UuhmxnXI9T8miFqdE+D0Pz7qfx5CR/Q/0khvq2US9D9LfVdHQGv0P9syeEmwYfg/\",\"dtype\":\"float64\",\"shape\":[75]},\"y\":{\"__ndarray__\":\"hLndy31yND/6fmq8dJNIP8n9DkWBPlE/aDum7souWD/b4a/JGvVgP9f34SAhymc/ZvM4DOavcD+z0M5pFmh3PxuC4zJuaoA/xjcUPlsHhz8uHAjJAiaQP9ieWRKgppY/oI7HDFTGnz+a5h2n6EimPzS6g9iZQq8/IuAQqtTstT9SSZ2AJsK+P4nS3uALk8U/ih9j7lpCzj+ASL99HTjVP4enV8oyxN0/ACL99nXg5D9fmEwVjErtPyUGgZVDi/Q/AiuHFtnO/D9OYhBYOTQEQPHSTWIQWAxA4XoUrkfhE0D8qfHSTeIbQMh2vp8ajyNArkfhehRuK0Bcj8L1KDwzQFyPwvUo/DpAPgrXo3DtQkDNzMzMzIxKQClcj8L1eFJAKVyPwvVoWECamZmZmVleQGZmZmZmJmJAAAAAAAAgZUCamZmZmRloQJqZmZmZEWtAmpmZmZkJbkCamZmZmYFwQGZmZmZm/nFAZmZmZmZ6c0BmZmZmZvZ0QDQzMzMzc3ZAAAAAAADwd0AAAAAAAGx5QAAAAAAA6HpAzMzMzMxkfEDMzMzMzOB9QM3MzMzMXH9AzczMzMxsgEAzMzMzMyuBQDMzMzMz6YFAMzMzMzOngkCamZmZmWWDQAAAAAAAJIRAAAAAAADihEAAAAAAAKCFQGZmZmZmXoZAzczMzMwch0DNzMzMzNqHQM3MzMzMmIhAMzMzMzNXiUCamZmZmRWKQAAAAAAA1IpAAAAAAACSi0AAAAAAAFCMQGZmZmZmDo1AzczMzMzMjUDNzMzMzIqOQM3MzMzMSI9A\",\"dtype\":\"float64\",\"shape\":[75]}},\"selected\":{\"id\":\"efd841cf-99dc-4254-a614-3539b7d95fb7\",\"type\":\"Selection\"},\"selection_policy\":{\"id\":\"c78cece7-d4bd-4a48-a9af-61931fa842ec\",\"type\":\"UnionRenderers\"}},\"id\":\"e8e4b7d9-7de8-4e1f-b665-10864c42883b\",\"type\":\"ColumnDataSource\"},{\"attributes\":{\"source\":{\"id\":\"c0e20a9b-a801-4608-a8b6-5c406d3720dc\",\"type\":\"ColumnDataSource\"}},\"id\":\"d8c34795-b2f1-4f3c-a8b6-af14a892a6df\",\"type\":\"CDSView\"},{\"attributes\":{\"fill_alpha\":{\"value\":0.1},\"fill_color\":{\"value\":\"#1f77b4\"},\"line_alpha\":{\"value\":0.1},\"line_color\":{\"value\":\"#1f77b4\"},\"x\":{\"field\":\"x\"},\"y\":{\"field\":\"y\"}},\"id\":\"16701b1c-e76b-4969-a21f-323f147230aa\",\"type\":\"Square\"},{\"attributes\":{\"data_source\":{\"id\":\"6af79e28-700e-4f06-a9d4-8a7092322508\",\"type\":\"ColumnDataSource\"},\"glyph\":{\"id\":\"c3bee193-d90a-4f17-96c2-fa17a32aa5f0\",\"type\":\"Circle\"},\"hover_glyph\":null,\"muted_glyph\":null,\"nonselection_glyph\":{\"id\":\"bb35e1f2-af0d-40c9-8cc8-cf99eef3fd24\",\"type\":\"Circle\"},\"selection_glyph\":null,\"view\":{\"id\":\"bd4971cb-44d7-41b3-8aa2-899763be3f6d\",\"type\":\"CDSView\"}},\"id\":\"f54bee8e-9c1c-45fd-9df9-4bc79f1dc267\",\"type\":\"GlyphRenderer\"},{\"attributes\":{\"source\":{\"id\":\"e9d54a2b-f321-4704-97b4-3eecd2971559\",\"type\":\"ColumnDataSource\"}},\"id\":\"e25f6b83-1c59-470b-a755-803921bb5cf9\",\"type\":\"CDSView\"},{\"attributes\":{\"line_alpha\":0.1,\"line_color\":\"#1f77b4\",\"line_width\":1.5,\"x\":{\"field\":\"x\"},\"y\":{\"field\":\"y\"}},\"id\":\"7374f3c2-3102-4fb9-a54e-219b064694b4\",\"type\":\"Line\"},{\"attributes\":{\"active_drag\":\"auto\",\"active_inspect\":\"auto\",\"active_scroll\":\"auto\",\"active_tap\":\"auto\",\"tools\":[{\"id\":\"71e565ed-1a6e-429a-8ffd-807a0f3dc1d6\",\"type\":\"PanTool\"},{\"id\":\"1c0b671e-24e5-4da5-8632-c81d937d9520\",\"type\":\"WheelZoomTool\"},{\"id\":\"86bdeef0-2dc5-47b5-93a6-351a7fbffb74\",\"type\":\"BoxZoomTool\"},{\"id\":\"fbbe69cd-05d3-4ec7-9793-eec995dc9728\",\"type\":\"SaveTool\"},{\"id\":\"4845ebcd-4da0-481e-b13c-77129b646f54\",\"type\":\"ResetTool\"},{\"id\":\"b6a87f7a-bddf-4338-a3e2-c0ca827cfa38\",\"type\":\"HelpTool\"}]},\"id\":\"5198d6e2-4f7a-40c0-b101-8113dfc015eb\",\"type\":\"Toolbar\"},{\"attributes\":{\"line_alpha\":0.5,\"line_color\":\"#984ea3\",\"line_width\":1.5,\"x\":{\"field\":\"x\"},\"y\":{\"field\":\"y\"}},\"id\":\"409d5bc6-fb1a-4b06-b5f4-f5bd772a656f\",\"type\":\"Line\"},{\"attributes\":{\"source\":{\"id\":\"e8e4b7d9-7de8-4e1f-b665-10864c42883b\",\"type\":\"ColumnDataSource\"}},\"id\":\"b4a33359-5bc0-443e-bf2b-92f776aa9018\",\"type\":\"CDSView\"},{\"attributes\":{\"line_alpha\":0.8,\"line_color\":\"#984ea3\",\"line_width\":1.5,\"x\":{\"field\":\"x\"},\"y\":{\"field\":\"y\"}},\"id\":\"ba0d143f-093b-44d9-8b09-ca3108e0eeb4\",\"type\":\"Line\"},{\"attributes\":{},\"id\":\"2e3e3df8-abbc-4f5e-8892-7326d78528d9\",\"type\":\"BasicTickFormatter\"},{\"attributes\":{\"data_source\":{\"id\":\"05205632-55f4-4846-93e3-1635d99e7df9\",\"type\":\"ColumnDataSource\"},\"glyph\":{\"id\":\"ba0d143f-093b-44d9-8b09-ca3108e0eeb4\",\"type\":\"Line\"},\"hover_glyph\":null,\"muted_glyph\":null,\"nonselection_glyph\":{\"id\":\"7374f3c2-3102-4fb9-a54e-219b064694b4\",\"type\":\"Line\"},\"selection_glyph\":null,\"view\":{\"id\":\"28d83abb-fc5a-4f10-b9c1-f7ced805adaa\",\"type\":\"CDSView\"}},\"id\":\"73dd3af0-6225-4d44-9b70-d610d8d09687\",\"type\":\"GlyphRenderer\"},{\"attributes\":{\"fill_alpha\":{\"value\":0.1},\"fill_color\":{\"value\":\"#1f77b4\"},\"line_alpha\":{\"value\":0.1},\"line_color\":{\"value\":\"#1f77b4\"},\"x\":{\"field\":\"x\"},\"y\":{\"field\":\"y\"}},\"id\":\"daa4a17b-e41a-4460-914d-c28135352562\",\"type\":\"Circle\"},{\"attributes\":{\"tools\":[{\"id\":\"45dd2e92-0cfb-48c3-add7-76e004ae0fe3\",\"type\":\"PanTool\"},{\"id\":\"c5a9a9ec-6084-442b-abc6-5cb343426f98\",\"type\":\"WheelZoomTool\"},{\"id\":\"cea4960f-5d84-402a-9806-93d8a3b6fff4\",\"type\":\"BoxZoomTool\"},{\"id\":\"b0e9be9f-7b20-41c7-b943-7d0a8739550a\",\"type\":\"SaveTool\"},{\"id\":\"deb742af-231d-4d1d-a25b-a0c4912bdd1a\",\"type\":\"ResetTool\"},{\"id\":\"a1f992ea-788d-420c-9136-6c52d17b9aaf\",\"type\":\"HelpTool\"},{\"id\":\"f671d2a7-06e2-42e1-920c-11bb388834ed\",\"type\":\"PanTool\"},{\"id\":\"2b5888ae-b4b3-416d-bfbd-4cea7917e58b\",\"type\":\"WheelZoomTool\"},{\"id\":\"8a04746b-295e-4f01-a8c6-822b662492d6\",\"type\":\"BoxZoomTool\"},{\"id\":\"548f51a4-6420-4fff-9325-6dc9b299ace0\",\"type\":\"SaveTool\"},{\"id\":\"991bed7b-d2dc-4e49-aaae-6e5796c6a041\",\"type\":\"ResetTool\"},{\"id\":\"6b2315c6-fed3-4f1a-8d5c-7aeaae060aa8\",\"type\":\"HelpTool\"},{\"id\":\"71e565ed-1a6e-429a-8ffd-807a0f3dc1d6\",\"type\":\"PanTool\"},{\"id\":\"1c0b671e-24e5-4da5-8632-c81d937d9520\",\"type\":\"WheelZoomTool\"},{\"id\":\"86bdeef0-2dc5-47b5-93a6-351a7fbffb74\",\"type\":\"BoxZoomTool\"},{\"id\":\"fbbe69cd-05d3-4ec7-9793-eec995dc9728\",\"type\":\"SaveTool\"},{\"id\":\"4845ebcd-4da0-481e-b13c-77129b646f54\",\"type\":\"ResetTool\"},{\"id\":\"b6a87f7a-bddf-4338-a3e2-c0ca827cfa38\",\"type\":\"HelpTool\"}]},\"id\":\"21c9ea56-a18e-4871-a31f-66c0fd072aaa\",\"type\":\"ProxyToolbar\"},{\"attributes\":{\"line_alpha\":0.1,\"line_color\":\"#1f77b4\",\"line_width\":1.5,\"x\":{\"field\":\"x\"},\"y\":{\"field\":\"y\"}},\"id\":\"466f9405-dc02-4b44-be71-854e88c161b0\",\"type\":\"Line\"},{\"attributes\":{\"plot\":null,\"text\":\"\"},\"id\":\"b19e3d71-dbf4-4b19-840e-088ec526fbee\",\"type\":\"Title\"},{\"attributes\":{},\"id\":\"efd841cf-99dc-4254-a614-3539b7d95fb7\",\"type\":\"Selection\"},{\"attributes\":{\"label\":{\"value\":\"old CLIRAD (H2012)\"},\"renderers\":[{\"id\":\"ef96a4b1-db3f-47a7-9107-4cd5884daa2b\",\"type\":\"GlyphRenderer\"},{\"id\":\"a39979ab-0bc8-41a8-b875-6bb19389e123\",\"type\":\"GlyphRenderer\"}]},\"id\":\"9a717023-fd4a-4b84-abd9-3e9f625ff8a0\",\"type\":\"LegendItem\"},{\"attributes\":{\"label\":{\"value\":\"CLIRAD (single-run) - CRD\"},\"renderers\":[{\"id\":\"f54bee8e-9c1c-45fd-9df9-4bc79f1dc267\",\"type\":\"GlyphRenderer\"},{\"id\":\"73dd3af0-6225-4d44-9b70-d610d8d09687\",\"type\":\"GlyphRenderer\"}]},\"id\":\"5d5c84f8-16f3-43aa-8700-2987b5ca14d0\",\"type\":\"LegendItem\"},{\"attributes\":{\"line_alpha\":0.1,\"line_color\":\"#1f77b4\",\"line_dash\":[6],\"line_width\":5,\"x\":{\"field\":\"x\"},\"y\":{\"field\":\"y\"}},\"id\":\"d3dfe265-b61e-4c40-85be-3fbfe78b7357\",\"type\":\"Line\"},{\"attributes\":{},\"id\":\"9b604d81-e08e-4be3-88b3-8bdafd0e3824\",\"type\":\"BasicTickFormatter\"},{\"attributes\":{\"label\":{\"value\":\"CLIRAD (single-run)\"},\"renderers\":[{\"id\":\"d7db0b11-b5b6-4cbd-bca3-6809bf0b09c6\",\"type\":\"GlyphRenderer\"}]},\"id\":\"2db9c206-5941-4cb8-b03c-1c2b15d3ebce\",\"type\":\"LegendItem\"},{\"attributes\":{\"axis_label\":\"pressure [mb]\",\"formatter\":{\"id\":\"2ecdaa08-1222-4d1b-8133-621b99c58fc8\",\"type\":\"LogTickFormatter\"},\"plot\":{\"id\":\"3c87c503-96e3-4a2b-8c3b-f42d0c7b59b2\",\"subtype\":\"Figure\",\"type\":\"Plot\"},\"ticker\":{\"id\":\"991b115c-eeff-44f3-b19d-32501897e038\",\"type\":\"LogTicker\"}},\"id\":\"4a6e77fe-7cc5-45a0-9048-01fa420963e4\",\"type\":\"LogAxis\"},{\"attributes\":{\"callback\":null,\"data\":{\"x\":{\"__ndarray__\":\"r+yCwTXZRUC63ct9chhDQBKI1/UL5EFA/p/DfHk/QEDrk9xhE0E8QPcEie3uPTdAnrKarifqMUCL3qmAe+YpQHxLlBhfGyJA28TJ/Q41GkDXXY94aN4UQIMnmUEhtxFAAE0pVNxNDUDyuAPQg5YDQE8DBkmf9vU/59sn7EeP+j92eGOcGjMFQJ+c/HFWDwtAvgS4aujgEEBOTw5V5xcWQEwP+R15/h1AEJaxoZvVJED1TgXc88wqQPj8MEJ4/ClAf1GC/kJPJECYh0z5EEggQC/NCMrIZBtAiM22iUkGFkBElyZbEykRQAO0rWad4QtA0WdR6XEJCEAwlSMJZ8wCQGrj425rBvo/f+mjQitG8T/g1ZN1D3vnPyzHlqtA6ds/ypGlQZcRzT8+xFCYQUbAP6zbkcsuAaO/DRS6Q3Fkyb9Rqiyq/9yDv6pgdWAQw+c/9rUuNUJ/9z8totxsYhcAQFmxrsBGmAFAnZX+bzYHAEDRevgyUUT+P8hgxanWIv0/JrfcT3xr/D/QuMvZljz8P0ug0tImWPw/psus7w3v+z87A37o3XP7P3BW6ZOBCPs/MewwJv29+j/zL+6rF4j6P3VyKykchvo/NqH/1C6c+z89IqZEEn38PzTVk/lH//w/LR0Y5T7+/D8/BRsyeV78PwnX7f1XR/s/vb577NMW+j8LKNTTRwD5P5pZ8Ef2bfg/2cXZGUs9+D/tAD4uYDj4P2j1aXC2tPc/uD6sN2ql9j91O/vKg3T1P5oIG55eifQ/4Ln3cMkR9D8zVYvjG0X0P+T1YFJ81CTA\",\"dtype\":\"float64\",\"shape\":[75]},\"y\":{\"__ndarray__\":\"GhExyth1ND/Sv8nbtpRIP2vylNV0PVE/aTum7souWD/At0SJ8fVgPw3Iuahxymc/MSNhhJWvcD/bTfBN02d3P2zb5nxnaoA/CD5h5MAGhz8NmeH1TyaQP+zrCsc9p5Y/LbKd76fGnz/bLW5ISEmmPww9YvTcQq8/JV2OstnstT8Er5Y7M8G+P0c+r3jqkcU/5h99k6ZBzj88bCIzFzjVP4enV8oyxN0//yH99nXg5D8qOpLLf0jtP5kqGJXUifQ/c9cS8kHP/D+/DpwzojQEQIEmwoanVwxA4lgXt9HgE0BSSZ2AJuIbQAMJih9jjiNA5q4l5INuK0AwTKYKRj0zQNv5fmq8/DpAaCJseHrtQkB/+zpwzoxKQM3MzMzMeFJAZmZmZmZqWEAAAAAAAFxeQM3MzMzMJmJAmpmZmZkfZUBmZmZmZhhoQDMzMzMzEWtAAAAAAAAKbkBmZmZmZoFwQM3MzMzM/XFAMzMzMzN6c0CamZmZmfZ0QAAAAAAAc3ZAZmZmZmbvd0DNzMzMzGt5QDMzMzMz6HpAmpmZmZlkfEAAAAAAAOF9QGZmZmZmXX9AZmZmZuZsgECamZmZGSuBQM3MzMxM6YFAAAAAAICngkAzMzMzs2WDQGZmZmbmI4RAmpmZmRnihEDNzMzMTKCFQAAAAACAXoZAMzMzM7Mch0BmZmZm5tqHQJqZmZkZmYhAzczMzExXiUAAAAAAgBWKQDMzMzOz04pAZmZmZuaRi0CamZmZGVCMQM3MzMxMDo1AAAAAAIDMjUAzMzMzs4qOQGZmZmbmSI9A\",\"dtype\":\"float64\",\"shape\":[75]}},\"selected\":{\"id\":\"a25139f5-59c9-4b01-b15f-5b1d8ad238d1\",\"type\":\"Selection\"},\"selection_policy\":{\"id\":\"de546fca-1303-4a84-b4de-50925af56819\",\"type\":\"UnionRenderers\"}},\"id\":\"b0355818-eebe-4e40-bdb8-f1f933525cf9\",\"type\":\"ColumnDataSource\"},{\"attributes\":{\"plot\":{\"id\":\"14c29490-9f36-4122-9eaf-1cd8698fe297\",\"subtype\":\"Figure\",\"type\":\"Plot\"},\"ticker\":{\"id\":\"d1f245c1-d72c-452e-a601-9c1b52209976\",\"type\":\"BasicTicker\"}},\"id\":\"bac0bd58-b878-4186-a90c-f31d33e3fb35\",\"type\":\"Grid\"},{\"attributes\":{\"source\":{\"id\":\"416e89af-e49a-49da-b60b-0fc261d06d8f\",\"type\":\"ColumnDataSource\"}},\"id\":\"9770f472-a4e8-40c4-812a-d3706708243b\",\"type\":\"CDSView\"},{\"attributes\":{},\"id\":\"1c0b671e-24e5-4da5-8632-c81d937d9520\",\"type\":\"WheelZoomTool\"},{\"attributes\":{\"plot\":{\"id\":\"3c87c503-96e3-4a2b-8c3b-f42d0c7b59b2\",\"subtype\":\"Figure\",\"type\":\"Plot\"},\"ticker\":{\"id\":\"7e95b9b1-56b1-4c4c-8957-ad4d03fa6843\",\"type\":\"BasicTicker\"}},\"id\":\"4155bc34-21fe-4360-9382-8be0071d564b\",\"type\":\"Grid\"},{\"attributes\":{\"fill_alpha\":{\"value\":0.1},\"fill_color\":{\"value\":\"#1f77b4\"},\"line_alpha\":{\"value\":0.1},\"line_color\":{\"value\":\"#1f77b4\"},\"x\":{\"field\":\"x\"},\"y\":{\"field\":\"y\"}},\"id\":\"fe7ed87a-2f14-41e4-8ccf-ebe4886512ca\",\"type\":\"Square\"},{\"attributes\":{},\"id\":\"ffe6ea00-2197-4a6d-8016-c2ffb4e657d5\",\"type\":\"UnionRenderers\"},{\"attributes\":{\"label\":{\"value\":\"CRD\"},\"renderers\":[{\"id\":\"8ab608fd-23e1-4371-93e0-11f596c232eb\",\"type\":\"GlyphRenderer\"},{\"id\":\"34d910b4-fc2c-4d99-a306-b6b3bec7d08e\",\"type\":\"GlyphRenderer\"}]},\"id\":\"58caf985-081f-43fc-987f-15bd4b0eb737\",\"type\":\"LegendItem\"},{\"attributes\":{\"label\":{\"value\":\"old CLIRAD (H2012) - CRD\"},\"renderers\":[{\"id\":\"00a80f76-9a1d-4843-9721-26813874e232\",\"type\":\"GlyphRenderer\"}]},\"id\":\"c7d7e998-7a75-46ce-8791-2985a8580171\",\"type\":\"LegendItem\"},{\"attributes\":{},\"id\":\"8c1e9945-c388-4fc2-909a-914ea3694db6\",\"type\":\"Selection\"},{\"attributes\":{\"callback\":null,\"data\":{\"x\":{\"__ndarray__\":\"cm1sTMT3VEDEyvjosEJHQOKI6DjzCUNArgQWV9awPkB9Lm8XG3M4QEz+Qv6iYzNA7eV8HaPLLkCX1QHyTpMoQFBmYSYetiNAUB04GtGpH0AmFyVE5j8ZQJca9QPGqBNALJP+OOHHDEBNxaf7QF8AQKtislomWuw/cW2dcO6A9T/uJJvfPu0EQIaQLTI/JQ1AxGiII+PmEkCJvfVeuCsYQD6ZBhGbHB9AXQw69DTYJEAsubcwKucqQNuT9D5OmipAJyi3szEJJUBlNebh5WkgQDDcPHBr2xlArtlANXuQFEBdJadFHckQQI2Avh0ZsQtAjYiwt1rsBUCL0SDoVBgAQK6C0nEEjvc/CggLSme58T9sXU2orFPnP0v0JYz9Gdg/vT38vxYczD9nBQTe6kHHP1IhkEXJwKo/8OZnhCVAub+xtVgCpmqzP6DUpY6g0+k/PKK3T1h4+D8RTDjQc1EAQG/dAQs7TwJAQt2eHpPLAEBWEh074x//PyCap9ZSGf4/rEzaTySm/T+7aXhHRmr9P688KeqeNP0/ruZ4EemD/D8olrZcn9T7P0+vNc9hW/s/i9VVL+4P+z+0NzC24uz6P8731Kza8vo/xFf4SHzq+z+gYyHpvHb8P68ROkiFevw/BAjYdCga/D8AUp8VbW77P3JrF/nKmvo/qCQeGfq++T/dplwHJfn4P2G4p+Uva/g/OzZ0RqMZ+D8dmn/iar73P/OuA7Ka8PY/gaaeQHGn9T9hkyjAH1L0P3aZGhdAU/M/n8VP/g7P8j+90HxHNvfyPwhNBtgrqvk/\",\"dtype\":\"float64\",\"shape\":[75]},\"y\":{\"__ndarray__\":\"GhExyth1ND/Sv8nbtpRIP2vylNV0PVE/aTum7souWD/At0SJ8fVgPw3Iuahxymc/MSNhhJWvcD/bTfBN02d3P2zb5nxnaoA/CD5h5MAGhz8NmeH1TyaQP+zrCsc9p5Y/LbKd76fGnz/bLW5ISEmmPww9YvTcQq8/JV2OstnstT8Er5Y7M8G+P0c+r3jqkcU/5h99k6ZBzj88bCIzFzjVP4enV8oyxN0//yH99nXg5D8qOpLLf0jtP5kqGJXUifQ/c9cS8kHP/D+/DpwzojQEQIEmwoanVwxA4lgXt9HgE0BSSZ2AJuIbQAMJih9jjiNA5q4l5INuK0AwTKYKRj0zQNv5fmq8/DpAaCJseHrtQkB/+zpwzoxKQM3MzMzMeFJAZmZmZmZqWEAAAAAAAFxeQM3MzMzMJmJAmpmZmZkfZUBmZmZmZhhoQDMzMzMzEWtAAAAAAAAKbkBmZmZmZoFwQM3MzMzM/XFAMzMzMzN6c0CamZmZmfZ0QAAAAAAAc3ZAZmZmZmbvd0DNzMzMzGt5QDMzMzMz6HpAmpmZmZlkfEAAAAAAAOF9QGZmZmZmXX9AZmZmZuZsgECamZmZGSuBQM3MzMxM6YFAAAAAAICngkAzMzMzs2WDQGZmZmbmI4RAmpmZmRnihEDNzMzMTKCFQAAAAACAXoZAMzMzM7Mch0BmZmZm5tqHQJqZmZkZmYhAzczMzExXiUAAAAAAgBWKQDMzMzOz04pAZmZmZuaRi0CamZmZGVCMQM3MzMxMDo1AAAAAAIDMjUAzMzMzs4qOQGZmZmbmSI9A\",\"dtype\":\"float64\",\"shape\":[75]}},\"selected\":{\"id\":\"8c1e9945-c388-4fc2-909a-914ea3694db6\",\"type\":\"Selection\"},\"selection_policy\":{\"id\":\"63c05671-151d-44a6-9a23-f66d05495eea\",\"type\":\"UnionRenderers\"}},\"id\":\"1d8770c9-f0ad-49dc-a399-b3568cfd218d\",\"type\":\"ColumnDataSource\"},{\"attributes\":{\"overlay\":{\"id\":\"c2b3a9ce-e403-4c83-b7dc-7ea9f2214fe4\",\"type\":\"BoxAnnotation\"}},\"id\":\"86bdeef0-2dc5-47b5-93a6-351a7fbffb74\",\"type\":\"BoxZoomTool\"},{\"attributes\":{\"source\":{\"id\":\"1d8770c9-f0ad-49dc-a399-b3568cfd218d\",\"type\":\"ColumnDataSource\"}},\"id\":\"d7aeffe9-7559-4a3e-875f-6d88d22897cc\",\"type\":\"CDSView\"},{\"attributes\":{\"fill_alpha\":{\"value\":0.7},\"fill_color\":{\"value\":\"#984ea3\"},\"line_alpha\":{\"value\":0.7},\"line_color\":{\"value\":\"#984ea3\"},\"x\":{\"field\":\"x\"},\"y\":{\"field\":\"y\"}},\"id\":\"5a6ab6ff-d74d-4485-9e90-a123fc4ee242\",\"type\":\"Square\"},{\"attributes\":{\"callback\":null,\"end\":0.01,\"start\":1020},\"id\":\"c61700ff-0d4d-428b-97b7-1d9b1f69056e\",\"type\":\"Range1d\"},{\"attributes\":{},\"id\":\"fbbe69cd-05d3-4ec7-9793-eec995dc9728\",\"type\":\"SaveTool\"},{\"attributes\":{\"callback\":null,\"end\":0.01,\"start\":1020},\"id\":\"7a5af986-21e5-443d-8fba-96d66bb7e99f\",\"type\":\"Range1d\"},{\"attributes\":{\"data_source\":{\"id\":\"416e89af-e49a-49da-b60b-0fc261d06d8f\",\"type\":\"ColumnDataSource\"},\"glyph\":{\"id\":\"5a6ab6ff-d74d-4485-9e90-a123fc4ee242\",\"type\":\"Square\"},\"hover_glyph\":null,\"muted_glyph\":null,\"nonselection_glyph\":{\"id\":\"fe7ed87a-2f14-41e4-8ccf-ebe4886512ca\",\"type\":\"Square\"},\"selection_glyph\":null,\"view\":{\"id\":\"9770f472-a4e8-40c4-812a-d3706708243b\",\"type\":\"CDSView\"}},\"id\":\"ef96a4b1-db3f-47a7-9107-4cd5884daa2b\",\"type\":\"GlyphRenderer\"},{\"attributes\":{\"line_color\":\"#4daf4a\",\"line_width\":1.5,\"x\":{\"field\":\"x\"},\"y\":{\"field\":\"y\"}},\"id\":\"1cc78bc6-2e2a-4c9c-83ef-370db3e15778\",\"type\":\"Line\"},{\"attributes\":{\"num_minor_ticks\":10},\"id\":\"991b115c-eeff-44f3-b19d-32501897e038\",\"type\":\"LogTicker\"},{\"attributes\":{\"toolbar\":{\"id\":\"21c9ea56-a18e-4871-a31f-66c0fd072aaa\",\"type\":\"ProxyToolbar\"},\"toolbar_location\":\"above\"},\"id\":\"7288e731-4fa3-4b84-8bdf-039f4a2c8a34\",\"type\":\"ToolbarBox\"},{\"attributes\":{\"data_source\":{\"id\":\"952679a6-e7de-4c9d-9604-60e0de9482f7\",\"type\":\"ColumnDataSource\"},\"glyph\":{\"id\":\"6b9d3344-75ba-408f-9d64-17c6014b66b4\",\"type\":\"Line\"},\"hover_glyph\":null,\"muted_glyph\":null,\"nonselection_glyph\":{\"id\":\"884bc3d3-35cd-4bbb-a154-2018060c1388\",\"type\":\"Line\"},\"selection_glyph\":null,\"view\":{\"id\":\"e6c7de3f-59d7-4bf3-b365-b5ad67dfebd0\",\"type\":\"CDSView\"}},\"id\":\"a39979ab-0bc8-41a8-b875-6bb19389e123\",\"type\":\"GlyphRenderer\"},{\"attributes\":{\"line_alpha\":0.1,\"line_color\":\"#1f77b4\",\"line_width\":1.5,\"x\":{\"field\":\"x\"},\"y\":{\"field\":\"y\"}},\"id\":\"884bc3d3-35cd-4bbb-a154-2018060c1388\",\"type\":\"Line\"},{\"attributes\":{},\"id\":\"71e565ed-1a6e-429a-8ffd-807a0f3dc1d6\",\"type\":\"PanTool\"},{\"attributes\":{\"callback\":null,\"data\":{\"x\":{\"__ndarray__\":\"MXhf+wfXU0AZbvNjswdFQLQWsEQVdUFA5TlpnhT9QUB/x1dOYK05QImjxHmcEjZA9jYDSBB3L0AISPl4H6wqQBPuuwfAzyJAOcHprUZAIUB7WWpkesAXQJoT1Uq+ChVArO/8u0EXCkBgVNlshzgCQMeNQ+Nzu/I/POwv1Qzh+D9QxMRmcj8DQOrE7tC4mAxAQsLBRIlHEkAi4cPYoDEXQEeDpjRjzB1ASZ0GEfCuI0DVFj11sssnQOMiVKSMHyhAWRHvUxNoJEDo8cjD4g8gQLGGvR2NDRpAdpI3nV5oFECtyWH9Lp4QQIZQd9bvmwtAkshlnu1BBkBMysnQf1UAQHZJU/DYZ/c/HoEhV+G48T/rSm4vc/TmP3EgV4cD49g/xmy6+4w7zz+bEsjh3uDDPw5SRMRogKs/4GPKdPc1a78lazVXN1vCP/B84ODeUug/LOyxgXDV9z+/DBHyZAwAQAOIY+fy/QFAahF3XKCUAECV0GHvGsz+P+X4k4Nhvf0/RO/IqI98/T8rkW+v/zT9P59vGMDsAv0/zEX7plCY/D/E3siS8kj7P2yUMv+hDvs/RmrXDaYs+z+c9f5GCO36P58nVCbr7vo/Qus8hbcy/D+rD5hFMCf9P4t6dxofnPw/bRp4QYZ2/D/q8NNiN2b8P5YTVw9ESPw/l1Dy0X/K+j+WKih3ZdD5P2k8OYxHjvk/hceGh5N4+T8lpPahWSn5P6vJnePt4vY/UuhmxnXI9T8miFqdE+D0Pz7qfx5CR/Q/0khvq2US9D9LfVdHQGv0P9syeEmwYfg/\",\"dtype\":\"float64\",\"shape\":[75]},\"y\":{\"__ndarray__\":\"hLndy31yND/6fmq8dJNIP8n9DkWBPlE/aDum7souWD/b4a/JGvVgP9f34SAhymc/ZvM4DOavcD+z0M5pFmh3PxuC4zJuaoA/xjcUPlsHhz8uHAjJAiaQP9ieWRKgppY/oI7HDFTGnz+a5h2n6EimPzS6g9iZQq8/IuAQqtTstT9SSZ2AJsK+P4nS3uALk8U/ih9j7lpCzj+ASL99HTjVP4enV8oyxN0/ACL99nXg5D9fmEwVjErtPyUGgZVDi/Q/AiuHFtnO/D9OYhBYOTQEQPHSTWIQWAxA4XoUrkfhE0D8qfHSTeIbQMh2vp8ajyNArkfhehRuK0Bcj8L1KDwzQFyPwvUo/DpAPgrXo3DtQkDNzMzMzIxKQClcj8L1eFJAKVyPwvVoWECamZmZmVleQGZmZmZmJmJAAAAAAAAgZUCamZmZmRloQJqZmZmZEWtAmpmZmZkJbkCamZmZmYFwQGZmZmZm/nFAZmZmZmZ6c0BmZmZmZvZ0QDQzMzMzc3ZAAAAAAADwd0AAAAAAAGx5QAAAAAAA6HpAzMzMzMxkfEDMzMzMzOB9QM3MzMzMXH9AzczMzMxsgEAzMzMzMyuBQDMzMzMz6YFAMzMzMzOngkCamZmZmWWDQAAAAAAAJIRAAAAAAADihEAAAAAAAKCFQGZmZmZmXoZAzczMzMwch0DNzMzMzNqHQM3MzMzMmIhAMzMzMzNXiUCamZmZmRWKQAAAAAAA1IpAAAAAAACSi0AAAAAAAFCMQGZmZmZmDo1AzczMzMzMjUDNzMzMzIqOQM3MzMzMSI9A\",\"dtype\":\"float64\",\"shape\":[75]}},\"selected\":{\"id\":\"32b24687-e454-455a-93ec-f1d183e97b65\",\"type\":\"Selection\"},\"selection_policy\":{\"id\":\"2b881e34-57bd-49b8-b268-c82a9c8179cb\",\"type\":\"UnionRenderers\"}},\"id\":\"416e89af-e49a-49da-b60b-0fc261d06d8f\",\"type\":\"ColumnDataSource\"},{\"attributes\":{\"line_alpha\":0.5,\"line_color\":\"#984ea3\",\"line_width\":1.5,\"x\":{\"field\":\"x\"},\"y\":{\"field\":\"y\"}},\"id\":\"6b9d3344-75ba-408f-9d64-17c6014b66b4\",\"type\":\"Line\"},{\"attributes\":{\"callback\":null,\"data\":{\"x\":{\"__ndarray__\":\"MXhf+wfXU0AZbvNjswdFQLQWsEQVdUFA5TlpnhT9QUB/x1dOYK05QImjxHmcEjZA9jYDSBB3L0AISPl4H6wqQBPuuwfAzyJAOcHprUZAIUB7WWpkesAXQJoT1Uq+ChVArO/8u0EXCkBgVNlshzgCQMeNQ+Nzu/I/POwv1Qzh+D9QxMRmcj8DQOrE7tC4mAxAQsLBRIlHEkAi4cPYoDEXQEeDpjRjzB1ASZ0GEfCuI0DVFj11sssnQOMiVKSMHyhAWRHvUxNoJEDo8cjD4g8gQLGGvR2NDRpAdpI3nV5oFECtyWH9Lp4QQIZQd9bvmwtAkshlnu1BBkBMysnQf1UAQHZJU/DYZ/c/HoEhV+G48T/rSm4vc/TmP3EgV4cD49g/xmy6+4w7zz+bEsjh3uDDPw5SRMRogKs/4GPKdPc1a78lazVXN1vCP/B84ODeUug/LOyxgXDV9z+/DBHyZAwAQAOIY+fy/QFAahF3XKCUAECV0GHvGsz+P+X4k4Nhvf0/RO/IqI98/T8rkW+v/zT9P59vGMDsAv0/zEX7plCY/D/E3siS8kj7P2yUMv+hDvs/RmrXDaYs+z+c9f5GCO36P58nVCbr7vo/Qus8hbcy/D+rD5hFMCf9P4t6dxofnPw/bRp4QYZ2/D/q8NNiN2b8P5YTVw9ESPw/l1Dy0X/K+j+WKih3ZdD5P2k8OYxHjvk/hceGh5N4+T8lpPahWSn5P6vJnePt4vY/UuhmxnXI9T8miFqdE+D0Pz7qfx5CR/Q/0khvq2US9D9LfVdHQGv0P9syeEmwYfg/\",\"dtype\":\"float64\",\"shape\":[75]},\"y\":{\"__ndarray__\":\"hLndy31yND/6fmq8dJNIP8n9DkWBPlE/aDum7souWD/b4a/JGvVgP9f34SAhymc/ZvM4DOavcD+z0M5pFmh3PxuC4zJuaoA/xjcUPlsHhz8uHAjJAiaQP9ieWRKgppY/oI7HDFTGnz+a5h2n6EimPzS6g9iZQq8/IuAQqtTstT9SSZ2AJsK+P4nS3uALk8U/ih9j7lpCzj+ASL99HTjVP4enV8oyxN0/ACL99nXg5D9fmEwVjErtPyUGgZVDi/Q/AiuHFtnO/D9OYhBYOTQEQPHSTWIQWAxA4XoUrkfhE0D8qfHSTeIbQMh2vp8ajyNArkfhehRuK0Bcj8L1KDwzQFyPwvUo/DpAPgrXo3DtQkDNzMzMzIxKQClcj8L1eFJAKVyPwvVoWECamZmZmVleQGZmZmZmJmJAAAAAAAAgZUCamZmZmRloQJqZmZmZEWtAmpmZmZkJbkCamZmZmYFwQGZmZmZm/nFAZmZmZmZ6c0BmZmZmZvZ0QDQzMzMzc3ZAAAAAAADwd0AAAAAAAGx5QAAAAAAA6HpAzMzMzMxkfEDMzMzMzOB9QM3MzMzMXH9AzczMzMxsgEAzMzMzMyuBQDMzMzMz6YFAMzMzMzOngkCamZmZmWWDQAAAAAAAJIRAAAAAAADihEAAAAAAAKCFQGZmZmZmXoZAzczMzMwch0DNzMzMzNqHQM3MzMzMmIhAMzMzMzNXiUCamZmZmRWKQAAAAAAA1IpAAAAAAACSi0AAAAAAAFCMQGZmZmZmDo1AzczMzMzMjUDNzMzMzIqOQM3MzMzMSI9A\",\"dtype\":\"float64\",\"shape\":[75]}},\"selected\":{\"id\":\"ff367b21-8a52-4c72-8400-c4f217f455e7\",\"type\":\"Selection\"},\"selection_policy\":{\"id\":\"12a3ee20-3d8f-4ffd-ab71-ab73c8e86eea\",\"type\":\"UnionRenderers\"}},\"id\":\"952679a6-e7de-4c9d-9604-60e0de9482f7\",\"type\":\"ColumnDataSource\"},{\"attributes\":{\"data_source\":{\"id\":\"1d8770c9-f0ad-49dc-a399-b3568cfd218d\",\"type\":\"ColumnDataSource\"},\"glyph\":{\"id\":\"1cc78bc6-2e2a-4c9c-83ef-370db3e15778\",\"type\":\"Line\"},\"hover_glyph\":null,\"muted_glyph\":null,\"nonselection_glyph\":{\"id\":\"466f9405-dc02-4b44-be71-854e88c161b0\",\"type\":\"Line\"},\"selection_glyph\":null,\"view\":{\"id\":\"d7aeffe9-7559-4a3e-875f-6d88d22897cc\",\"type\":\"CDSView\"}},\"id\":\"34d910b4-fc2c-4d99-a306-b6b3bec7d08e\",\"type\":\"GlyphRenderer\"},{\"attributes\":{\"dimension\":1,\"plot\":{\"id\":\"3c87c503-96e3-4a2b-8c3b-f42d0c7b59b2\",\"subtype\":\"Figure\",\"type\":\"Plot\"},\"ticker\":{\"id\":\"991b115c-eeff-44f3-b19d-32501897e038\",\"type\":\"LogTicker\"}},\"id\":\"a949d9ea-d774-4ac6-9f47-9a7fd692e6db\",\"type\":\"Grid\"},{\"attributes\":{},\"id\":\"6b2315c6-fed3-4f1a-8d5c-7aeaae060aa8\",\"type\":\"HelpTool\"},{\"attributes\":{},\"id\":\"d1f245c1-d72c-452e-a601-9c1b52209976\",\"type\":\"BasicTicker\"},{\"attributes\":{\"above\":[{\"id\":\"d250236b-4453-4ff3-86e3-e3462c133fe0\",\"type\":\"Legend\"}],\"below\":[{\"id\":\"b7972d20-2a17-49f0-ac84-1caf62927f01\",\"type\":\"LinearAxis\"}],\"left\":[{\"id\":\"4a6e77fe-7cc5-45a0-9048-01fa420963e4\",\"type\":\"LogAxis\"}],\"plot_width\":300,\"renderers\":[{\"id\":\"b7972d20-2a17-49f0-ac84-1caf62927f01\",\"type\":\"LinearAxis\"},{\"id\":\"4155bc34-21fe-4360-9382-8be0071d564b\",\"type\":\"Grid\"},{\"id\":\"4a6e77fe-7cc5-45a0-9048-01fa420963e4\",\"type\":\"LogAxis\"},{\"id\":\"a949d9ea-d774-4ac6-9f47-9a7fd692e6db\",\"type\":\"Grid\"},{\"id\":\"c2b3a9ce-e403-4c83-b7dc-7ea9f2214fe4\",\"type\":\"BoxAnnotation\"},{\"id\":\"f54bee8e-9c1c-45fd-9df9-4bc79f1dc267\",\"type\":\"GlyphRenderer\"},{\"id\":\"73dd3af0-6225-4d44-9b70-d610d8d09687\",\"type\":\"GlyphRenderer\"},{\"id\":\"00a80f76-9a1d-4843-9721-26813874e232\",\"type\":\"GlyphRenderer\"},{\"id\":\"d250236b-4453-4ff3-86e3-e3462c133fe0\",\"type\":\"Legend\"}],\"title\":{\"id\":\"99eb9cbd-9a9b-4ff6-851a-f3643cdefaef\",\"type\":\"Title\"},\"toolbar\":{\"id\":\"5198d6e2-4f7a-40c0-b101-8113dfc015eb\",\"type\":\"Toolbar\"},\"toolbar_location\":null,\"x_range\":{\"id\":\"c9ecb7f7-9ddf-448c-8033-353ce7273646\",\"type\":\"Range1d\"},\"x_scale\":{\"id\":\"02b5949f-ae34-4f7f-992c-22fe6e330a7b\",\"type\":\"LinearScale\"},\"y_range\":{\"id\":\"7a5af986-21e5-443d-8fba-96d66bb7e99f\",\"type\":\"Range1d\"},\"y_scale\":{\"id\":\"e56a3646-cf8c-4b5d-bcb3-6da38a68407e\",\"type\":\"LogScale\"}},\"id\":\"3c87c503-96e3-4a2b-8c3b-f42d0c7b59b2\",\"subtype\":\"Figure\",\"type\":\"Plot\"},{\"attributes\":{\"children\":[{\"id\":\"719a680d-1336-4d4d-924a-4435b7f85442\",\"type\":\"Row\"}]},\"id\":\"23e51215-6038-4ee8-bdee-881f46fd21a9\",\"type\":\"Column\"},{\"attributes\":{\"source\":{\"id\":\"952679a6-e7de-4c9d-9604-60e0de9482f7\",\"type\":\"ColumnDataSource\"}},\"id\":\"e6c7de3f-59d7-4bf3-b365-b5ad67dfebd0\",\"type\":\"CDSView\"},{\"attributes\":{},\"id\":\"193fa85f-aab8-4431-80bd-38ae7946d7e5\",\"type\":\"Selection\"},{\"attributes\":{\"ticker\":null},\"id\":\"2632bc44-29a2-4efd-8af5-a3a844f42ea9\",\"type\":\"LogTickFormatter\"},{\"attributes\":{\"dimension\":1,\"plot\":{\"id\":\"14c29490-9f36-4122-9eaf-1cd8698fe297\",\"subtype\":\"Figure\",\"type\":\"Plot\"},\"ticker\":{\"id\":\"d57ede67-bcf7-40b2-bb03-4b38a0812d89\",\"type\":\"LogTicker\"}},\"id\":\"68e4ad20-cff5-472e-b912-d355ea085705\",\"type\":\"Grid\"},{\"attributes\":{},\"id\":\"c78cece7-d4bd-4a48-a9af-61931fa842ec\",\"type\":\"UnionRenderers\"},{\"attributes\":{\"bottom_units\":\"screen\",\"fill_alpha\":{\"value\":0.5},\"fill_color\":{\"value\":\"lightgrey\"},\"left_units\":\"screen\",\"level\":\"overlay\",\"line_alpha\":{\"value\":1.0},\"line_color\":{\"value\":\"black\"},\"line_dash\":[4,4],\"line_width\":{\"value\":2},\"plot\":null,\"render_mode\":\"css\",\"right_units\":\"screen\",\"top_units\":\"screen\"},\"id\":\"c2b3a9ce-e403-4c83-b7dc-7ea9f2214fe4\",\"type\":\"BoxAnnotation\"},{\"attributes\":{\"callback\":null,\"end\":13.587992476684697,\"start\":-0.3348764752147},\"id\":\"9c8c1d6f-294d-49ce-a183-d16b89d04a5d\",\"type\":\"Range1d\"},{\"attributes\":{},\"id\":\"f32761fe-0e31-4a84-ad38-f0d6de024289\",\"type\":\"Selection\"},{\"attributes\":{\"callback\":null,\"end\":135.3121372840283,\"start\":-3.4438733567982993},\"id\":\"c9ecb7f7-9ddf-448c-8033-353ce7273646\",\"type\":\"Range1d\"},{\"attributes\":{\"label\":{\"value\":\"old CLIRAD (H2012)\"},\"renderers\":[{\"id\":\"b21bce0a-de56-4dbc-b5b9-d2b10ea7ce3a\",\"type\":\"GlyphRenderer\"},{\"id\":\"06ea16d1-6d3a-44f3-a56e-9223bf783177\",\"type\":\"GlyphRenderer\"}]},\"id\":\"27829518-196d-45be-947e-18e8b2430616\",\"type\":\"LegendItem\"},{\"attributes\":{\"axis_label\":\"pressure [mb]\",\"formatter\":{\"id\":\"2b28d9de-4c44-4af6-86f1-2c599ae28ea9\",\"type\":\"BasicTickFormatter\"},\"plot\":{\"id\":\"99b7f039-a403-4fb0-ad7d-f7720d94bc93\",\"subtype\":\"Figure\",\"type\":\"Plot\"},\"ticker\":{\"id\":\"fe069154-ee48-4697-8068-cbcbe2a2a61c\",\"type\":\"BasicTicker\"}},\"id\":\"3e3b86ea-66e0-40a9-9956-61700201871c\",\"type\":\"LinearAxis\"},{\"attributes\":{\"fill_alpha\":{\"value\":0.7},\"fill_color\":{\"value\":\"#984ea3\"},\"line_alpha\":{\"value\":0.7},\"line_color\":{\"value\":\"#984ea3\"},\"x\":{\"field\":\"x\"},\"y\":{\"field\":\"y\"}},\"id\":\"c3bee193-d90a-4f17-96c2-fa17a32aa5f0\",\"type\":\"Circle\"},{\"attributes\":{},\"id\":\"3d310d22-1ac7-43c2-9aa0-202bee06e136\",\"type\":\"Selection\"},{\"attributes\":{},\"id\":\"0b1c4f25-7e05-41a2-a9fc-d47fd3d10039\",\"type\":\"UnionRenderers\"},{\"attributes\":{},\"id\":\"6b26d5f4-6042-421e-b111-4441ed335114\",\"type\":\"UnionRenderers\"},{\"attributes\":{},\"id\":\"edbcf637-df35-41dc-8250-f40621b10fcc\",\"type\":\"LogScale\"},{\"attributes\":{\"data_source\":{\"id\":\"c0e20a9b-a801-4608-a8b6-5c406d3720dc\",\"type\":\"ColumnDataSource\"},\"glyph\":{\"id\":\"255c5ad1-b4ab-4d2f-8741-528635d0e6e1\",\"type\":\"Circle\"},\"hover_glyph\":null,\"muted_glyph\":null,\"nonselection_glyph\":{\"id\":\"85d71f28-95a5-48d0-ac0b-5514f9057d6a\",\"type\":\"Circle\"},\"selection_glyph\":null,\"view\":{\"id\":\"d8c34795-b2f1-4f3c-a8b6-af14a892a6df\",\"type\":\"CDSView\"}},\"id\":\"8ab608fd-23e1-4371-93e0-11f596c232eb\",\"type\":\"GlyphRenderer\"},{\"attributes\":{},\"id\":\"4845ebcd-4da0-481e-b13c-77129b646f54\",\"type\":\"ResetTool\"},{\"attributes\":{},\"id\":\"e56a3646-cf8c-4b5d-bcb3-6da38a68407e\",\"type\":\"LogScale\"},{\"attributes\":{},\"id\":\"a25139f5-59c9-4b01-b15f-5b1d8ad238d1\",\"type\":\"Selection\"},{\"attributes\":{\"dimension\":1,\"plot\":{\"id\":\"99b7f039-a403-4fb0-ad7d-f7720d94bc93\",\"subtype\":\"Figure\",\"type\":\"Plot\"},\"ticker\":{\"id\":\"fe069154-ee48-4697-8068-cbcbe2a2a61c\",\"type\":\"BasicTicker\"}},\"id\":\"2b0ded0f-d499-44b8-af82-59eb36e887ed\",\"type\":\"Grid\"},{\"attributes\":{},\"id\":\"1657cac5-5e5c-4f9e-ba1c-12a5bf65f349\",\"type\":\"Selection\"},{\"attributes\":{},\"id\":\"63c05671-151d-44a6-9a23-f66d05495eea\",\"type\":\"UnionRenderers\"},{\"attributes\":{},\"id\":\"02b5949f-ae34-4f7f-992c-22fe6e330a7b\",\"type\":\"LinearScale\"},{\"attributes\":{},\"id\":\"2b28d9de-4c44-4af6-86f1-2c599ae28ea9\",\"type\":\"BasicTickFormatter\"},{\"attributes\":{},\"id\":\"fe069154-ee48-4697-8068-cbcbe2a2a61c\",\"type\":\"BasicTicker\"},{\"attributes\":{\"overlay\":{\"id\":\"0601e35d-a15a-4d05-8bf5-6db6080632fb\",\"type\":\"BoxAnnotation\"}},\"id\":\"8a04746b-295e-4f01-a8c6-822b662492d6\",\"type\":\"BoxZoomTool\"},{\"attributes\":{},\"id\":\"bddb441d-d0dd-4610-8451-2baaca3fb492\",\"type\":\"LinearScale\"},{\"attributes\":{},\"id\":\"b6a87f7a-bddf-4338-a3e2-c0ca827cfa38\",\"type\":\"HelpTool\"},{\"attributes\":{},\"id\":\"0fe96c41-ea00-4e10-ad49-2999cc165f9f\",\"type\":\"Selection\"},{\"attributes\":{},\"id\":\"f671d2a7-06e2-42e1-920c-11bb388834ed\",\"type\":\"PanTool\"},{\"attributes\":{},\"id\":\"48f30ef3-ade9-492a-84be-06cd4c7fcc12\",\"type\":\"BasicTicker\"},{\"attributes\":{\"ticker\":null},\"id\":\"2ecdaa08-1222-4d1b-8133-621b99c58fc8\",\"type\":\"LogTickFormatter\"},{\"attributes\":{\"active_drag\":\"auto\",\"active_inspect\":\"auto\",\"active_scroll\":\"auto\",\"active_tap\":\"auto\",\"tools\":[{\"id\":\"f671d2a7-06e2-42e1-920c-11bb388834ed\",\"type\":\"PanTool\"},{\"id\":\"2b5888ae-b4b3-416d-bfbd-4cea7917e58b\",\"type\":\"WheelZoomTool\"},{\"id\":\"8a04746b-295e-4f01-a8c6-822b662492d6\",\"type\":\"BoxZoomTool\"},{\"id\":\"548f51a4-6420-4fff-9325-6dc9b299ace0\",\"type\":\"SaveTool\"},{\"id\":\"991bed7b-d2dc-4e49-aaae-6e5796c6a041\",\"type\":\"ResetTool\"},{\"id\":\"6b2315c6-fed3-4f1a-8d5c-7aeaae060aa8\",\"type\":\"HelpTool\"}]},\"id\":\"8122e870-e4ca-4304-b952-93b80ed4cbb6\",\"type\":\"Toolbar\"},{\"attributes\":{\"callback\":null,\"data\":{\"x\":{\"__ndarray__\":\"FOr41rjMeECIN9lPR1l3QP1J6wpSOHZAs5sbpjlsdEDJstChi+VxQAoH1Ca0iG1AO+c8Xjy1ZkClq1T5P0VgQAC7//zeblZAgTXXPN0JUEAkfkDd0olJQAHzs/m05kVAvntMZglZQkCjJZAeDeM4QGMevZ54bSxAV5BRi3LqMEAEYRW7nIg6QKXSOns3yEBAbflLLmPYREBa9RQJZ1tLQPDQipMprVJAy+zMX68KWkC1KjgEdb5gQK1kksntM2BACkt859VLWUDEc4ya2lVUQE0/4lOTN1FAZT+ztpW2S0BTK6D0Vn9FQLqDu6QKcEFArd3ZSXFPPkDx0owPA9Y3QC6EH5WJazBADQBgkk6JJUBmmqGsv14dQKpJNZ28rhFAXxAikVY6AkApja7VXHjzPziSmoC5ed2/ka5ssgyrAMDwDyvGQl3Hv1aqzHLCcR1A60Up/+8/LUB8Vajb+BU0QC34j+d55zVAEDIqdnjwM0BKA1mf+dwyQOg4TWdeJjJAHxnqMYOvMUBziERRA5MxQGk6TsJQqTFAlz2vAxtsMUDWOAuaXiIxQHgQvfgi4DBACUVMJ5+xMEB8vdAawo4wQDSPgLEFjTBAWTngbbg8MUBQIaDAkM4xQHgBEifZJzJAjxMztigtMkB7nhiBDMoxQB8NAs9fFzFA2DADEcJTMEAzIlgiPkEvQCiENabMiS5AROm82hJRLkACTkXjtlUuQI87UYRnui1AbgF55INuLEBVXxQ/8fUqQKXYgRZ60ilA36aKG5M+KUAO+++PH4ApQE5rpaDTCl3A\",\"dtype\":\"float64\",\"shape\":[75]},\"y\":{\"__ndarray__\":\"GhExyth1ND/Sv8nbtpRIP2vylNV0PVE/aTum7souWD/At0SJ8fVgPw3Iuahxymc/MSNhhJWvcD/bTfBN02d3P2zb5nxnaoA/CD5h5MAGhz8NmeH1TyaQP+zrCsc9p5Y/LbKd76fGnz/bLW5ISEmmPww9YvTcQq8/JV2OstnstT8Er5Y7M8G+P0c+r3jqkcU/5h99k6ZBzj88bCIzFzjVP4enV8oyxN0//yH99nXg5D8qOpLLf0jtP5kqGJXUifQ/c9cS8kHP/D+/DpwzojQEQIEmwoanVwxA4lgXt9HgE0BSSZ2AJuIbQAMJih9jjiNA5q4l5INuK0AwTKYKRj0zQNv5fmq8/DpAaCJseHrtQkB/+zpwzoxKQM3MzMzMeFJAZmZmZmZqWEAAAAAAAFxeQM3MzMzMJmJAmpmZmZkfZUBmZmZmZhhoQDMzMzMzEWtAAAAAAAAKbkBmZmZmZoFwQM3MzMzM/XFAMzMzMzN6c0CamZmZmfZ0QAAAAAAAc3ZAZmZmZmbvd0DNzMzMzGt5QDMzMzMz6HpAmpmZmZlkfEAAAAAAAOF9QGZmZmZmXX9AZmZmZuZsgECamZmZGSuBQM3MzMxM6YFAAAAAAICngkAzMzMzs2WDQGZmZmbmI4RAmpmZmRnihEDNzMzMTKCFQAAAAACAXoZAMzMzM7Mch0BmZmZm5tqHQJqZmZkZmYhAzczMzExXiUAAAAAAgBWKQDMzMzOz04pAZmZmZuaRi0CamZmZGVCMQM3MzMxMDo1AAAAAAIDMjUAzMzMzs4qOQGZmZmbmSI9A\",\"dtype\":\"float64\",\"shape\":[75]}},\"selected\":{\"id\":\"0fe96c41-ea00-4e10-ad49-2999cc165f9f\",\"type\":\"Selection\"},\"selection_policy\":{\"id\":\"00193e7c-bdaa-4d46-954c-ef869b201d55\",\"type\":\"UnionRenderers\"}},\"id\":\"6af79e28-700e-4f06-a9d4-8a7092322508\",\"type\":\"ColumnDataSource\"},{\"attributes\":{},\"id\":\"dcf30bcc-7520-454f-8bd8-45273301da5b\",\"type\":\"UnionRenderers\"},{\"attributes\":{\"items\":[{\"id\":\"2db9c206-5941-4cb8-b03c-1c2b15d3ebce\",\"type\":\"LegendItem\"},{\"id\":\"58caf985-081f-43fc-987f-15bd4b0eb737\",\"type\":\"LegendItem\"},{\"id\":\"9a717023-fd4a-4b84-abd9-3e9f625ff8a0\",\"type\":\"LegendItem\"}],\"label_text_font_size\":{\"value\":\"8pt\"},\"location\":\"top_center\",\"orientation\":\"horizontal\",\"plot\":{\"id\":\"14c29490-9f36-4122-9eaf-1cd8698fe297\",\"subtype\":\"Figure\",\"type\":\"Plot\"}},\"id\":\"701d10cf-4518-47b4-9e75-942bda3c7d7a\",\"type\":\"Legend\"},{\"attributes\":{\"plot\":{\"id\":\"99b7f039-a403-4fb0-ad7d-f7720d94bc93\",\"subtype\":\"Figure\",\"type\":\"Plot\"},\"ticker\":{\"id\":\"48f30ef3-ade9-492a-84be-06cd4c7fcc12\",\"type\":\"BasicTicker\"}},\"id\":\"abd8217b-ac55-4dc7-a5a3-c175d81294c6\",\"type\":\"Grid\"},{\"attributes\":{\"active_drag\":\"auto\",\"active_inspect\":\"auto\",\"active_scroll\":\"auto\",\"active_tap\":\"auto\",\"tools\":[{\"id\":\"45dd2e92-0cfb-48c3-add7-76e004ae0fe3\",\"type\":\"PanTool\"},{\"id\":\"c5a9a9ec-6084-442b-abc6-5cb343426f98\",\"type\":\"WheelZoomTool\"},{\"id\":\"cea4960f-5d84-402a-9806-93d8a3b6fff4\",\"type\":\"BoxZoomTool\"},{\"id\":\"b0e9be9f-7b20-41c7-b943-7d0a8739550a\",\"type\":\"SaveTool\"},{\"id\":\"deb742af-231d-4d1d-a25b-a0c4912bdd1a\",\"type\":\"ResetTool\"},{\"id\":\"a1f992ea-788d-420c-9136-6c52d17b9aaf\",\"type\":\"HelpTool\"}]},\"id\":\"f06b7a08-f2b4-4576-9e57-d26723039825\",\"type\":\"Toolbar\"},{\"attributes\":{},\"id\":\"5f7d223f-b0d9-4df7-af6f-53d6b16c8f8f\",\"type\":\"UnionRenderers\"},{\"attributes\":{},\"id\":\"f6b258fe-edfd-4b23-b2f8-af7f89674b8b\",\"type\":\"LinearScale\"},{\"attributes\":{\"axis_label\":\"cooling rate [K/day]\",\"formatter\":{\"id\":\"644cf2a7-8385-454f-99bd-d70114105091\",\"type\":\"BasicTickFormatter\"},\"plot\":{\"id\":\"14c29490-9f36-4122-9eaf-1cd8698fe297\",\"subtype\":\"Figure\",\"type\":\"Plot\"},\"ticker\":{\"id\":\"d1f245c1-d72c-452e-a601-9c1b52209976\",\"type\":\"BasicTicker\"}},\"id\":\"4fb22ef7-c234-4d56-9c0f-56179b50eff5\",\"type\":\"LinearAxis\"},{\"attributes\":{},\"id\":\"de546fca-1303-4a84-b4de-50925af56819\",\"type\":\"UnionRenderers\"},{\"attributes\":{\"label\":{\"value\":\"CLIRAD (single-run)\"},\"renderers\":[{\"id\":\"9f40becd-bfd4-476c-a242-809c601e8193\",\"type\":\"GlyphRenderer\"}]},\"id\":\"553a6f17-1672-4714-8729-e7a219e4d7b4\",\"type\":\"LegendItem\"}],\"root_ids\":[\"f20c0eb6-422d-42d3-b7d8-57f9477d89b0\"]},\"title\":\"Bokeh Application\",\"version\":\"0.12.16\"}};\n",
       "  var render_items = [{\"docid\":\"d71440cf-b1f2-479e-bb3e-3635556c1f20\",\"elementid\":\"532d8c2b-71db-43d0-95da-0521a55fcbd1\",\"modelid\":\"f20c0eb6-422d-42d3-b7d8-57f9477d89b0\"}];\n",
       "  root.Bokeh.embed.embed_items_notebook(docs_json, render_items);\n",
       "\n",
       "  }\n",
       "  if (root.Bokeh !== undefined) {\n",
       "    embed_document(root);\n",
       "  } else {\n",
       "    var attempts = 0;\n",
       "    var timer = setInterval(function(root) {\n",
       "      if (root.Bokeh !== undefined) {\n",
       "        embed_document(root);\n",
       "        clearInterval(timer);\n",
       "      }\n",
       "      attempts++;\n",
       "      if (attempts > 100) {\n",
       "        console.log(\"Bokeh: ERROR: Unable to run BokehJS code because BokehJS library is missing\")\n",
       "        clearInterval(timer);\n",
       "      }\n",
       "    }, 10, root)\n",
       "  }\n",
       "})(window);"
      ],
      "application/vnd.bokehjs_exec.v0+json": ""
     },
     "metadata": {
      "application/vnd.bokehjs_exec.v0+json": {
       "id": "f20c0eb6-422d-42d3-b7d8-57f9477d89b0"
      }
     },
     "output_type": "display_data"
    },
    {
     "data": {
      "text/markdown": [
       "*FIGURE.* Cooling rates & difference."
      ],
      "text/plain": [
       "<IPython.core.display.Markdown object>"
      ]
     },
     "metadata": {},
     "output_type": "display_data"
    },
    {
     "data": {
      "text/html": [
       "<a id=\"Fluxes._mls.\"></a>"
      ],
      "text/plain": [
       "<IPython.core.display.HTML object>"
      ]
     },
     "metadata": {},
     "output_type": "display_data"
    },
    {
     "data": {
      "text/markdown": [
       "# Fluxes. mls."
      ],
      "text/plain": [
       "<IPython.core.display.Markdown object>"
      ]
     },
     "metadata": {},
     "output_type": "display_data"
    },
    {
     "data": {
      "text/html": [
       "\n",
       "<div class=\"bk-root\">\n",
       "    <div class=\"bk-plotdiv\" id=\"c665bdf8-c8ad-4bfe-964b-7ef0a8e7537a\"></div>\n",
       "</div>"
      ]
     },
     "metadata": {},
     "output_type": "display_data"
    },
    {
     "data": {
      "application/javascript": [
       "(function(root) {\n",
       "  function embed_document(root) {\n",
       "    \n",
       "  var docs_json = {\"0e0465ff-79b2-4f09-8d1e-3992f2ff7014\":{\"roots\":{\"references\":[{\"attributes\":{},\"id\":\"c2481008-f728-4786-8318-18eee6d4587d\",\"type\":\"PanTool\"},{\"attributes\":{},\"id\":\"1b68ee47-1ad3-4e99-85f5-89e197f00476\",\"type\":\"SaveTool\"},{\"attributes\":{},\"id\":\"b50e20f6-3dea-4ff7-81f3-59f33a4898c5\",\"type\":\"CategoricalTicker\"},{\"attributes\":{\"callback\":null,\"data\":{\"band\":[\"1\",\"2\",\"3\",\"4\",\"5\",\"6\",\"7\",\"8\",\"9\",\"10\",\"11\"],\"flux\":{\"__ndarray__\":\"Cydp/hj9a0AjEK/rFzVoQOxRuB6FBW5AxmmIKvzmbECL/PohNsBvQOKkenzsoXBAUJQ6t5+3cECEQNO3EclwQC9OfLUj3W9ASZ9W0Z+PbkBQVDasyexwQA==\",\"dtype\":\"float64\",\"shape\":[11]}},\"selected\":{\"id\":\"d7634e49-434e-45fe-8bd2-9c172eabae9b\",\"type\":\"Selection\"},\"selection_policy\":{\"id\":\"bd5cb41f-a788-4d21-bcbe-db9774d15fa3\",\"type\":\"UnionRenderers\"}},\"id\":\"8b3d344e-0f46-4efb-a78e-6300a2983524\",\"type\":\"ColumnDataSource\"},{\"attributes\":{},\"id\":\"d24b4e61-fb0e-4421-abc3-d19ab2c0625e\",\"type\":\"HelpTool\"},{\"attributes\":{},\"id\":\"8f4f0e04-ad05-415c-ac15-8a8dada26bac\",\"type\":\"CategoricalScale\"},{\"attributes\":{\"bottom_units\":\"screen\",\"fill_alpha\":{\"value\":0.5},\"fill_color\":{\"value\":\"lightgrey\"},\"left_units\":\"screen\",\"level\":\"overlay\",\"line_alpha\":{\"value\":1.0},\"line_color\":{\"value\":\"black\"},\"line_dash\":[4,4],\"line_width\":{\"value\":2},\"plot\":null,\"render_mode\":\"css\",\"right_units\":\"screen\",\"top_units\":\"screen\"},\"id\":\"632c7abf-d2dd-422a-b88a-62a702214a31\",\"type\":\"BoxAnnotation\"},{\"attributes\":{\"dimension\":1,\"plot\":{\"id\":\"533e8035-a171-404a-8d38-83948768842f\",\"subtype\":\"Figure\",\"type\":\"Plot\"},\"ticker\":{\"id\":\"e081fbae-5cdf-496e-b5a6-2cbf1611f71d\",\"type\":\"BasicTicker\"}},\"id\":\"732531a0-4ce3-4b68-8e9c-f99a207bbad6\",\"type\":\"Grid\"},{\"attributes\":{\"below\":[{\"id\":\"00cce8ca-8e0d-496a-a9eb-c18517c3782d\",\"type\":\"CategoricalAxis\"}],\"left\":[{\"id\":\"545cd6fa-cd64-4b33-8c1d-7fc66a87b92a\",\"type\":\"LinearAxis\"}],\"plot_height\":300,\"plot_width\":300,\"renderers\":[{\"id\":\"00cce8ca-8e0d-496a-a9eb-c18517c3782d\",\"type\":\"CategoricalAxis\"},{\"id\":\"c3f9c277-7a65-4647-ab55-942bdeb45851\",\"type\":\"Grid\"},{\"id\":\"545cd6fa-cd64-4b33-8c1d-7fc66a87b92a\",\"type\":\"LinearAxis\"},{\"id\":\"11918984-294e-4883-9851-68742cb9467d\",\"type\":\"Grid\"},{\"id\":\"97c5c5ac-ed3e-443a-b2da-bfb2b4771b31\",\"type\":\"BoxAnnotation\"},{\"id\":\"b7187684-07ce-4403-852e-59a7374b8904\",\"type\":\"GlyphRenderer\"}],\"title\":{\"id\":\"256bb9a2-6f2e-4725-82f1-f5069fc92ed9\",\"type\":\"Title\"},\"toolbar\":{\"id\":\"d97ac635-3527-4998-becf-2a0b05da3dcb\",\"type\":\"Toolbar\"},\"toolbar_location\":null,\"x_range\":{\"id\":\"d1129c3e-6c75-409f-860e-7a748580ec7c\",\"type\":\"FactorRange\"},\"x_scale\":{\"id\":\"8f4f0e04-ad05-415c-ac15-8a8dada26bac\",\"type\":\"CategoricalScale\"},\"y_range\":{\"id\":\"a6dd7b49-6624-4aff-9d99-7e48e441b147\",\"type\":\"DataRange1d\"},\"y_scale\":{\"id\":\"f517deea-6716-4b27-98c4-88911d8f46a0\",\"type\":\"LinearScale\"}},\"id\":\"f597b60b-909a-470f-8c27-38c5e1348b33\",\"subtype\":\"Figure\",\"type\":\"Plot\"},{\"attributes\":{\"fill_alpha\":{\"value\":0.1},\"fill_color\":{\"value\":\"#1f77b4\"},\"line_alpha\":{\"value\":0.1},\"line_color\":{\"value\":\"#1f77b4\"},\"top\":{\"field\":\"flux\"},\"width\":{\"value\":0.9},\"x\":{\"field\":\"band\"}},\"id\":\"905c3c8b-c1a9-45f5-9c3a-122d038dbaf8\",\"type\":\"VBar\"},{\"attributes\":{},\"id\":\"1b5ee542-d23b-4a6a-9f36-98074bbd32c8\",\"type\":\"PanTool\"},{\"attributes\":{\"children\":[{\"id\":\"b2e3547a-9baf-439f-8b4f-1d09cda9ef46\",\"type\":\"Row\"}]},\"id\":\"24f05065-97e1-4f65-badb-d01dd8ed6569\",\"type\":\"Column\"},{\"attributes\":{\"callback\":null,\"factors\":[\"1\",\"2\",\"3\",\"4\",\"5\",\"6\",\"7\",\"8\",\"9\",\"10\",\"11\"]},\"id\":\"d1129c3e-6c75-409f-860e-7a748580ec7c\",\"type\":\"FactorRange\"},{\"attributes\":{\"fill_alpha\":{\"value\":0.1},\"fill_color\":{\"value\":\"#1f77b4\"},\"line_alpha\":{\"value\":0.1},\"line_color\":{\"value\":\"#1f77b4\"},\"top\":{\"field\":\"flux\"},\"width\":{\"value\":0.9},\"x\":{\"field\":\"band\"}},\"id\":\"57590498-3ccb-4fe7-93f6-ab4253c906e6\",\"type\":\"VBar\"},{\"attributes\":{\"plot\":{\"id\":\"925e87f8-3ee9-43a0-9558-892b46e96fc8\",\"subtype\":\"Figure\",\"type\":\"Plot\"},\"ticker\":{\"id\":\"ca04cbaa-ffce-496c-8906-940003f9f69a\",\"type\":\"CategoricalTicker\"}},\"id\":\"1035e2b8-59f5-4d1f-bade-f66cd69155fa\",\"type\":\"Grid\"},{\"attributes\":{},\"id\":\"58d33502-deff-47bf-8b80-cb5bf0b32898\",\"type\":\"LinearScale\"},{\"attributes\":{},\"id\":\"f517deea-6716-4b27-98c4-88911d8f46a0\",\"type\":\"LinearScale\"},{\"attributes\":{\"source\":{\"id\":\"ea71ccac-4d0a-4b57-b9a7-2b982afe66bd\",\"type\":\"ColumnDataSource\"}},\"id\":\"c049e111-ad07-438d-ba90-6dd114b5c87c\",\"type\":\"CDSView\"},{\"attributes\":{\"plot\":null,\"text\":\"SFC flux. CLIRAD (single-run) - CRD.\"},\"id\":\"256bb9a2-6f2e-4725-82f1-f5069fc92ed9\",\"type\":\"Title\"},{\"attributes\":{},\"id\":\"e93c97b8-10e4-4e12-be11-0cdff7f54e60\",\"type\":\"BasicTicker\"},{\"attributes\":{\"bottom_units\":\"screen\",\"fill_alpha\":{\"value\":0.5},\"fill_color\":{\"value\":\"lightgrey\"},\"left_units\":\"screen\",\"level\":\"overlay\",\"line_alpha\":{\"value\":1.0},\"line_color\":{\"value\":\"black\"},\"line_dash\":[4,4],\"line_width\":{\"value\":2},\"plot\":null,\"render_mode\":\"css\",\"right_units\":\"screen\",\"top_units\":\"screen\"},\"id\":\"97c5c5ac-ed3e-443a-b2da-bfb2b4771b31\",\"type\":\"BoxAnnotation\"},{\"attributes\":{\"callback\":null},\"id\":\"a6dd7b49-6624-4aff-9d99-7e48e441b147\",\"type\":\"DataRange1d\"},{\"attributes\":{\"axis_label\":\"flux (W m-2)\",\"formatter\":{\"id\":\"a324b516-2fe2-4e0c-ba1e-3779bad40587\",\"type\":\"BasicTickFormatter\"},\"plot\":{\"id\":\"533e8035-a171-404a-8d38-83948768842f\",\"subtype\":\"Figure\",\"type\":\"Plot\"},\"ticker\":{\"id\":\"e081fbae-5cdf-496e-b5a6-2cbf1611f71d\",\"type\":\"BasicTicker\"}},\"id\":\"b37868ee-6e9d-4b11-b276-f5e27379b66f\",\"type\":\"LinearAxis\"},{\"attributes\":{},\"id\":\"e081fbae-5cdf-496e-b5a6-2cbf1611f71d\",\"type\":\"BasicTicker\"},{\"attributes\":{},\"id\":\"dde799af-bc2d-4d6f-8273-a38057ab0895\",\"type\":\"ResetTool\"},{\"attributes\":{},\"id\":\"65e08f79-ba38-43d8-a3d6-269025cf3640\",\"type\":\"WheelZoomTool\"},{\"attributes\":{},\"id\":\"ca04cbaa-ffce-496c-8906-940003f9f69a\",\"type\":\"CategoricalTicker\"},{\"attributes\":{\"data_source\":{\"id\":\"ea71ccac-4d0a-4b57-b9a7-2b982afe66bd\",\"type\":\"ColumnDataSource\"},\"glyph\":{\"id\":\"d357b4f7-f9fa-481e-9479-f7acf22bdd25\",\"type\":\"VBar\"},\"hover_glyph\":null,\"muted_glyph\":null,\"nonselection_glyph\":{\"id\":\"57590498-3ccb-4fe7-93f6-ab4253c906e6\",\"type\":\"VBar\"},\"selection_glyph\":null,\"view\":{\"id\":\"c049e111-ad07-438d-ba90-6dd114b5c87c\",\"type\":\"CDSView\"}},\"id\":\"19f5722c-fa08-4fe7-973f-d56130686cdb\",\"type\":\"GlyphRenderer\"},{\"attributes\":{\"overlay\":{\"id\":\"632c7abf-d2dd-422a-b88a-62a702214a31\",\"type\":\"BoxAnnotation\"}},\"id\":\"cfb2aacc-b73c-46d8-8ffa-c20669f684b4\",\"type\":\"BoxZoomTool\"},{\"attributes\":{\"data_source\":{\"id\":\"8b3d344e-0f46-4efb-a78e-6300a2983524\",\"type\":\"ColumnDataSource\"},\"glyph\":{\"id\":\"b6c5dac3-55a3-4e5c-bf4e-a13733e014df\",\"type\":\"VBar\"},\"hover_glyph\":null,\"muted_glyph\":null,\"nonselection_glyph\":{\"id\":\"905c3c8b-c1a9-45f5-9c3a-122d038dbaf8\",\"type\":\"VBar\"},\"selection_glyph\":null,\"view\":{\"id\":\"13fb510c-0462-49cd-95c6-b5dd9864aa68\",\"type\":\"CDSView\"}},\"id\":\"b7187684-07ce-4403-852e-59a7374b8904\",\"type\":\"GlyphRenderer\"},{\"attributes\":{\"axis_label\":\"spectral band\",\"formatter\":{\"id\":\"52cdb636-ead8-4b6e-bba6-0182d452f4da\",\"type\":\"CategoricalTickFormatter\"},\"plot\":{\"id\":\"533e8035-a171-404a-8d38-83948768842f\",\"subtype\":\"Figure\",\"type\":\"Plot\"},\"ticker\":{\"id\":\"b50e20f6-3dea-4ff7-81f3-59f33a4898c5\",\"type\":\"CategoricalTicker\"}},\"id\":\"3e2aa7f8-e833-4ab8-9831-c70e9e3acd86\",\"type\":\"CategoricalAxis\"},{\"attributes\":{},\"id\":\"5e804cf5-9178-4cea-9ac7-c1f61cd20b1d\",\"type\":\"HelpTool\"},{\"attributes\":{\"axis_label\":\"spectral band\",\"formatter\":{\"id\":\"ddabfb19-5e38-4dbc-a9e1-ff0729b3c76a\",\"type\":\"CategoricalTickFormatter\"},\"plot\":{\"id\":\"f597b60b-909a-470f-8c27-38c5e1348b33\",\"subtype\":\"Figure\",\"type\":\"Plot\"},\"ticker\":{\"id\":\"3181c502-be99-453c-a35c-06ec478d36a7\",\"type\":\"CategoricalTicker\"}},\"id\":\"00cce8ca-8e0d-496a-a9eb-c18517c3782d\",\"type\":\"CategoricalAxis\"},{\"attributes\":{},\"id\":\"0ae82209-1616-4793-8e4f-98d7dcc60337\",\"type\":\"PanTool\"},{\"attributes\":{\"plot\":{\"id\":\"f597b60b-909a-470f-8c27-38c5e1348b33\",\"subtype\":\"Figure\",\"type\":\"Plot\"},\"ticker\":{\"id\":\"3181c502-be99-453c-a35c-06ec478d36a7\",\"type\":\"CategoricalTicker\"}},\"id\":\"c3f9c277-7a65-4647-ab55-942bdeb45851\",\"type\":\"Grid\"},{\"attributes\":{\"active_drag\":\"auto\",\"active_inspect\":\"auto\",\"active_scroll\":\"auto\",\"active_tap\":\"auto\",\"tools\":[{\"id\":\"0ae82209-1616-4793-8e4f-98d7dcc60337\",\"type\":\"PanTool\"},{\"id\":\"b0dc181f-8f25-455c-83cd-bd53e03ad5a4\",\"type\":\"WheelZoomTool\"},{\"id\":\"38f99eb1-1e26-4c03-a73b-b0efbf1538f9\",\"type\":\"BoxZoomTool\"},{\"id\":\"1b68ee47-1ad3-4e99-85f5-89e197f00476\",\"type\":\"SaveTool\"},{\"id\":\"dde799af-bc2d-4d6f-8273-a38057ab0895\",\"type\":\"ResetTool\"},{\"id\":\"5e804cf5-9178-4cea-9ac7-c1f61cd20b1d\",\"type\":\"HelpTool\"}]},\"id\":\"d97ac635-3527-4998-becf-2a0b05da3dcb\",\"type\":\"Toolbar\"},{\"attributes\":{\"fill_color\":{\"value\":\"#1f77b4\"},\"line_color\":{\"value\":\"#1f77b4\"},\"top\":{\"field\":\"flux\"},\"width\":{\"value\":0.9},\"x\":{\"field\":\"band\"}},\"id\":\"d357b4f7-f9fa-481e-9479-f7acf22bdd25\",\"type\":\"VBar\"},{\"attributes\":{\"axis_label\":\"flux (W m-2)\",\"formatter\":{\"id\":\"00960f9a-e081-4167-86b5-30a53396ab62\",\"type\":\"BasicTickFormatter\"},\"plot\":{\"id\":\"f597b60b-909a-470f-8c27-38c5e1348b33\",\"subtype\":\"Figure\",\"type\":\"Plot\"},\"ticker\":{\"id\":\"e93c97b8-10e4-4e12-be11-0cdff7f54e60\",\"type\":\"BasicTicker\"}},\"id\":\"545cd6fa-cd64-4b33-8c1d-7fc66a87b92a\",\"type\":\"LinearAxis\"},{\"attributes\":{\"dimension\":1,\"plot\":{\"id\":\"f597b60b-909a-470f-8c27-38c5e1348b33\",\"subtype\":\"Figure\",\"type\":\"Plot\"},\"ticker\":{\"id\":\"e93c97b8-10e4-4e12-be11-0cdff7f54e60\",\"type\":\"BasicTicker\"}},\"id\":\"11918984-294e-4883-9851-68742cb9467d\",\"type\":\"Grid\"},{\"attributes\":{\"overlay\":{\"id\":\"97c5c5ac-ed3e-443a-b2da-bfb2b4771b31\",\"type\":\"BoxAnnotation\"}},\"id\":\"38f99eb1-1e26-4c03-a73b-b0efbf1538f9\",\"type\":\"BoxZoomTool\"},{\"attributes\":{},\"id\":\"fa4373cd-000a-4c1f-9600-3e2fc89146fc\",\"type\":\"SaveTool\"},{\"attributes\":{\"plot\":{\"id\":\"533e8035-a171-404a-8d38-83948768842f\",\"subtype\":\"Figure\",\"type\":\"Plot\"},\"ticker\":{\"id\":\"b50e20f6-3dea-4ff7-81f3-59f33a4898c5\",\"type\":\"CategoricalTicker\"}},\"id\":\"f0bfe795-8dc0-4205-8bd4-8cb4505c469b\",\"type\":\"Grid\"},{\"attributes\":{},\"id\":\"3181c502-be99-453c-a35c-06ec478d36a7\",\"type\":\"CategoricalTicker\"},{\"attributes\":{\"source\":{\"id\":\"8b3d344e-0f46-4efb-a78e-6300a2983524\",\"type\":\"ColumnDataSource\"}},\"id\":\"13fb510c-0462-49cd-95c6-b5dd9864aa68\",\"type\":\"CDSView\"},{\"attributes\":{},\"id\":\"56203b83-a86a-4f28-8b87-ba99a05ee0bc\",\"type\":\"ResetTool\"},{\"attributes\":{},\"id\":\"b0dc181f-8f25-455c-83cd-bd53e03ad5a4\",\"type\":\"WheelZoomTool\"},{\"attributes\":{},\"id\":\"47d5ecae-415d-4f19-937b-16ea4f774cc2\",\"type\":\"UnionRenderers\"},{\"attributes\":{},\"id\":\"82ba883a-89bb-48cc-a008-c42b5e143c51\",\"type\":\"UnionRenderers\"},{\"attributes\":{\"bottom_units\":\"screen\",\"fill_alpha\":{\"value\":0.5},\"fill_color\":{\"value\":\"lightgrey\"},\"left_units\":\"screen\",\"level\":\"overlay\",\"line_alpha\":{\"value\":1.0},\"line_color\":{\"value\":\"black\"},\"line_dash\":[4,4],\"line_width\":{\"value\":2},\"plot\":null,\"render_mode\":\"css\",\"right_units\":\"screen\",\"top_units\":\"screen\"},\"id\":\"68401996-d6da-4f3a-99a0-40aa009d935a\",\"type\":\"BoxAnnotation\"},{\"attributes\":{\"callback\":null,\"factors\":[\"1\",\"2\",\"3\",\"4\",\"5\",\"6\",\"7\",\"8\",\"9\",\"10\",\"11\"]},\"id\":\"d50b1465-c94d-425e-bc9a-b2230a554bd7\",\"type\":\"FactorRange\"},{\"attributes\":{\"callback\":null},\"id\":\"ec5a08fd-4ba0-44a7-9729-8efab79bc5f8\",\"type\":\"DataRange1d\"},{\"attributes\":{\"tools\":[{\"id\":\"c2481008-f728-4786-8318-18eee6d4587d\",\"type\":\"PanTool\"},{\"id\":\"65e08f79-ba38-43d8-a3d6-269025cf3640\",\"type\":\"WheelZoomTool\"},{\"id\":\"cfb2aacc-b73c-46d8-8ffa-c20669f684b4\",\"type\":\"BoxZoomTool\"},{\"id\":\"fa4373cd-000a-4c1f-9600-3e2fc89146fc\",\"type\":\"SaveTool\"},{\"id\":\"56203b83-a86a-4f28-8b87-ba99a05ee0bc\",\"type\":\"ResetTool\"},{\"id\":\"d24b4e61-fb0e-4421-abc3-d19ab2c0625e\",\"type\":\"HelpTool\"},{\"id\":\"0ae82209-1616-4793-8e4f-98d7dcc60337\",\"type\":\"PanTool\"},{\"id\":\"b0dc181f-8f25-455c-83cd-bd53e03ad5a4\",\"type\":\"WheelZoomTool\"},{\"id\":\"38f99eb1-1e26-4c03-a73b-b0efbf1538f9\",\"type\":\"BoxZoomTool\"},{\"id\":\"1b68ee47-1ad3-4e99-85f5-89e197f00476\",\"type\":\"SaveTool\"},{\"id\":\"dde799af-bc2d-4d6f-8273-a38057ab0895\",\"type\":\"ResetTool\"},{\"id\":\"5e804cf5-9178-4cea-9ac7-c1f61cd20b1d\",\"type\":\"HelpTool\"},{\"id\":\"1b5ee542-d23b-4a6a-9f36-98074bbd32c8\",\"type\":\"PanTool\"},{\"id\":\"e390b53a-8076-4f6b-a05b-1acbd9d1d1e7\",\"type\":\"WheelZoomTool\"},{\"id\":\"2f2094d0-c928-4d7b-b796-1f6b33c4f19a\",\"type\":\"BoxZoomTool\"},{\"id\":\"987827cc-ff0f-4bc1-ac4c-3a5bc86ee237\",\"type\":\"SaveTool\"},{\"id\":\"9a25206d-3105-4fd0-9adc-1505db01e1ba\",\"type\":\"ResetTool\"},{\"id\":\"d57bedb3-3a60-4cfe-bc54-204e5684c3fc\",\"type\":\"HelpTool\"}]},\"id\":\"ab82e6c4-f77c-4a1b-a4be-cbac4b334fbe\",\"type\":\"ProxyToolbar\"},{\"attributes\":{},\"id\":\"55b6bb4f-c1c2-47ef-ac33-88ffbe5e9329\",\"type\":\"LinearScale\"},{\"attributes\":{},\"id\":\"bd5cb41f-a788-4d21-bcbe-db9774d15fa3\",\"type\":\"UnionRenderers\"},{\"attributes\":{\"below\":[{\"id\":\"3e2aa7f8-e833-4ab8-9831-c70e9e3acd86\",\"type\":\"CategoricalAxis\"}],\"left\":[{\"id\":\"b37868ee-6e9d-4b11-b276-f5e27379b66f\",\"type\":\"LinearAxis\"}],\"plot_height\":300,\"plot_width\":300,\"renderers\":[{\"id\":\"3e2aa7f8-e833-4ab8-9831-c70e9e3acd86\",\"type\":\"CategoricalAxis\"},{\"id\":\"f0bfe795-8dc0-4205-8bd4-8cb4505c469b\",\"type\":\"Grid\"},{\"id\":\"b37868ee-6e9d-4b11-b276-f5e27379b66f\",\"type\":\"LinearAxis\"},{\"id\":\"732531a0-4ce3-4b68-8e9c-f99a207bbad6\",\"type\":\"Grid\"},{\"id\":\"68401996-d6da-4f3a-99a0-40aa009d935a\",\"type\":\"BoxAnnotation\"},{\"id\":\"19f5722c-fa08-4fe7-973f-d56130686cdb\",\"type\":\"GlyphRenderer\"}],\"title\":{\"id\":\"ffdcc931-194f-4c0c-a2ae-40fd0121404a\",\"type\":\"Title\"},\"toolbar\":{\"id\":\"21f58b67-35ce-49ff-8ea5-509beea112ff\",\"type\":\"Toolbar\"},\"toolbar_location\":null,\"x_range\":{\"id\":\"3861b5dd-c2f5-490a-a101-7805fff436a7\",\"type\":\"FactorRange\"},\"x_scale\":{\"id\":\"d760904b-82c1-49f9-b6f6-d936b66588f3\",\"type\":\"CategoricalScale\"},\"y_range\":{\"id\":\"6d7c9657-a4c9-4900-805d-f92457758a91\",\"type\":\"DataRange1d\"},\"y_scale\":{\"id\":\"55b6bb4f-c1c2-47ef-ac33-88ffbe5e9329\",\"type\":\"LinearScale\"}},\"id\":\"533e8035-a171-404a-8d38-83948768842f\",\"subtype\":\"Figure\",\"type\":\"Plot\"},{\"attributes\":{\"children\":[{\"id\":\"925e87f8-3ee9-43a0-9558-892b46e96fc8\",\"subtype\":\"Figure\",\"type\":\"Plot\"},{\"id\":\"f597b60b-909a-470f-8c27-38c5e1348b33\",\"subtype\":\"Figure\",\"type\":\"Plot\"},{\"id\":\"533e8035-a171-404a-8d38-83948768842f\",\"subtype\":\"Figure\",\"type\":\"Plot\"}]},\"id\":\"b2e3547a-9baf-439f-8b4f-1d09cda9ef46\",\"type\":\"Row\"},{\"attributes\":{\"callback\":null,\"factors\":[\"1\",\"2\",\"3\",\"4\",\"5\",\"6\",\"7\",\"8\",\"9\",\"10\",\"11\"]},\"id\":\"3861b5dd-c2f5-490a-a101-7805fff436a7\",\"type\":\"FactorRange\"},{\"attributes\":{\"active_drag\":\"auto\",\"active_inspect\":\"auto\",\"active_scroll\":\"auto\",\"active_tap\":\"auto\",\"tools\":[{\"id\":\"1b5ee542-d23b-4a6a-9f36-98074bbd32c8\",\"type\":\"PanTool\"},{\"id\":\"e390b53a-8076-4f6b-a05b-1acbd9d1d1e7\",\"type\":\"WheelZoomTool\"},{\"id\":\"2f2094d0-c928-4d7b-b796-1f6b33c4f19a\",\"type\":\"BoxZoomTool\"},{\"id\":\"987827cc-ff0f-4bc1-ac4c-3a5bc86ee237\",\"type\":\"SaveTool\"},{\"id\":\"9a25206d-3105-4fd0-9adc-1505db01e1ba\",\"type\":\"ResetTool\"},{\"id\":\"d57bedb3-3a60-4cfe-bc54-204e5684c3fc\",\"type\":\"HelpTool\"}]},\"id\":\"21f58b67-35ce-49ff-8ea5-509beea112ff\",\"type\":\"Toolbar\"},{\"attributes\":{\"children\":[{\"id\":\"67220517-2826-4bed-8f63-3bc939aa4e4e\",\"type\":\"ToolbarBox\"},{\"id\":\"24f05065-97e1-4f65-badb-d01dd8ed6569\",\"type\":\"Column\"}]},\"id\":\"4591f5af-af07-450b-b5aa-583dc2e2127b\",\"type\":\"Column\"},{\"attributes\":{},\"id\":\"a7282f93-5f25-45a8-9b63-c7625e2d10a9\",\"type\":\"BasicTicker\"},{\"attributes\":{\"active_drag\":\"auto\",\"active_inspect\":\"auto\",\"active_scroll\":\"auto\",\"active_tap\":\"auto\",\"tools\":[{\"id\":\"c2481008-f728-4786-8318-18eee6d4587d\",\"type\":\"PanTool\"},{\"id\":\"65e08f79-ba38-43d8-a3d6-269025cf3640\",\"type\":\"WheelZoomTool\"},{\"id\":\"cfb2aacc-b73c-46d8-8ffa-c20669f684b4\",\"type\":\"BoxZoomTool\"},{\"id\":\"fa4373cd-000a-4c1f-9600-3e2fc89146fc\",\"type\":\"SaveTool\"},{\"id\":\"56203b83-a86a-4f28-8b87-ba99a05ee0bc\",\"type\":\"ResetTool\"},{\"id\":\"d24b4e61-fb0e-4421-abc3-d19ab2c0625e\",\"type\":\"HelpTool\"}]},\"id\":\"57a1f07d-5744-4b67-8e0e-f739a0af159a\",\"type\":\"Toolbar\"},{\"attributes\":{\"fill_color\":{\"value\":\"#1f77b4\"},\"line_color\":{\"value\":\"#1f77b4\"},\"top\":{\"field\":\"flux\"},\"width\":{\"value\":0.9},\"x\":{\"field\":\"band\"}},\"id\":\"bbe54e5c-fd61-423e-b7ff-329dfd963513\",\"type\":\"VBar\"},{\"attributes\":{},\"id\":\"e390b53a-8076-4f6b-a05b-1acbd9d1d1e7\",\"type\":\"WheelZoomTool\"},{\"attributes\":{},\"id\":\"d760904b-82c1-49f9-b6f6-d936b66588f3\",\"type\":\"CategoricalScale\"},{\"attributes\":{},\"id\":\"d57bedb3-3a60-4cfe-bc54-204e5684c3fc\",\"type\":\"HelpTool\"},{\"attributes\":{\"callback\":null},\"id\":\"6d7c9657-a4c9-4900-805d-f92457758a91\",\"type\":\"DataRange1d\"},{\"attributes\":{\"source\":{\"id\":\"c1eecd4d-bf39-4e4d-9315-b8ee47b5e5a5\",\"type\":\"ColumnDataSource\"}},\"id\":\"cc614751-4d87-4529-9196-fda3b00181f2\",\"type\":\"CDSView\"},{\"attributes\":{\"data_source\":{\"id\":\"c1eecd4d-bf39-4e4d-9315-b8ee47b5e5a5\",\"type\":\"ColumnDataSource\"},\"glyph\":{\"id\":\"bbe54e5c-fd61-423e-b7ff-329dfd963513\",\"type\":\"VBar\"},\"hover_glyph\":null,\"muted_glyph\":null,\"nonselection_glyph\":{\"id\":\"1b41b51f-5a22-45be-bde6-aa047d51dd9b\",\"type\":\"VBar\"},\"selection_glyph\":null,\"view\":{\"id\":\"cc614751-4d87-4529-9196-fda3b00181f2\",\"type\":\"CDSView\"}},\"id\":\"f5616d73-bf26-4057-9680-70b81b8495e5\",\"type\":\"GlyphRenderer\"},{\"attributes\":{},\"id\":\"52cdb636-ead8-4b6e-bba6-0182d452f4da\",\"type\":\"CategoricalTickFormatter\"},{\"attributes\":{},\"id\":\"ff37caad-9e14-4bdf-ae51-f5592decc53d\",\"type\":\"BasicTickFormatter\"},{\"attributes\":{\"fill_alpha\":{\"value\":0.1},\"fill_color\":{\"value\":\"#1f77b4\"},\"line_alpha\":{\"value\":0.1},\"line_color\":{\"value\":\"#1f77b4\"},\"top\":{\"field\":\"flux\"},\"width\":{\"value\":0.9},\"x\":{\"field\":\"band\"}},\"id\":\"1b41b51f-5a22-45be-bde6-aa047d51dd9b\",\"type\":\"VBar\"},{\"attributes\":{\"dimension\":1,\"plot\":{\"id\":\"925e87f8-3ee9-43a0-9558-892b46e96fc8\",\"subtype\":\"Figure\",\"type\":\"Plot\"},\"ticker\":{\"id\":\"a7282f93-5f25-45a8-9b63-c7625e2d10a9\",\"type\":\"BasicTicker\"}},\"id\":\"1017a0b0-0aa9-4862-a397-e551c02b1f6e\",\"type\":\"Grid\"},{\"attributes\":{},\"id\":\"81f9994c-6bff-4ceb-9869-03868a60e532\",\"type\":\"CategoricalTickFormatter\"},{\"attributes\":{\"plot\":null,\"text\":\"TOA flux. CLIRAD (single-run) - CRD.\"},\"id\":\"1c8f0e2c-fb25-4cd1-b903-06bb23b99cf9\",\"type\":\"Title\"},{\"attributes\":{},\"id\":\"2101d198-c658-496e-bc60-22bfe7919e66\",\"type\":\"CategoricalScale\"},{\"attributes\":{\"callback\":null,\"data\":{\"band\":[\"1\",\"2\",\"3\",\"4\",\"5\",\"6\",\"7\",\"8\",\"9\",\"10\",\"11\"],\"flux\":{\"__ndarray__\":\"z+y6tyLgb8AY4IJs2ZxswA66hENvhnDA2AjE63r4cMBA2ZQr/IVwwNA5P8VxpWzAXS7iOzGscMD89+C1y7dwwFrQe2NITHHAd2dIcJ6fccDDsS5u49JxwA==\",\"dtype\":\"float64\",\"shape\":[11]}},\"selected\":{\"id\":\"c2f4ab90-a2a8-49ae-bd89-bb11cfcb5d14\",\"type\":\"Selection\"},\"selection_policy\":{\"id\":\"47d5ecae-415d-4f19-937b-16ea4f774cc2\",\"type\":\"UnionRenderers\"}},\"id\":\"c1eecd4d-bf39-4e4d-9315-b8ee47b5e5a5\",\"type\":\"ColumnDataSource\"},{\"attributes\":{},\"id\":\"ddabfb19-5e38-4dbc-a9e1-ff0729b3c76a\",\"type\":\"CategoricalTickFormatter\"},{\"attributes\":{\"axis_label\":\"spectral band\",\"formatter\":{\"id\":\"81f9994c-6bff-4ceb-9869-03868a60e532\",\"type\":\"CategoricalTickFormatter\"},\"plot\":{\"id\":\"925e87f8-3ee9-43a0-9558-892b46e96fc8\",\"subtype\":\"Figure\",\"type\":\"Plot\"},\"ticker\":{\"id\":\"ca04cbaa-ffce-496c-8906-940003f9f69a\",\"type\":\"CategoricalTicker\"}},\"id\":\"4dd8fa2b-4f2c-46cf-a678-d700b695c7f9\",\"type\":\"CategoricalAxis\"},{\"attributes\":{},\"id\":\"d7634e49-434e-45fe-8bd2-9c172eabae9b\",\"type\":\"Selection\"},{\"attributes\":{},\"id\":\"a324b516-2fe2-4e0c-ba1e-3779bad40587\",\"type\":\"BasicTickFormatter\"},{\"attributes\":{},\"id\":\"9a25206d-3105-4fd0-9adc-1505db01e1ba\",\"type\":\"ResetTool\"},{\"attributes\":{\"fill_color\":{\"value\":\"#1f77b4\"},\"line_color\":{\"value\":\"#1f77b4\"},\"top\":{\"field\":\"flux\"},\"width\":{\"value\":0.9},\"x\":{\"field\":\"band\"}},\"id\":\"b6c5dac3-55a3-4e5c-bf4e-a13733e014df\",\"type\":\"VBar\"},{\"attributes\":{},\"id\":\"ce9b8476-6d66-4940-bafe-59ab60833a71\",\"type\":\"Selection\"},{\"attributes\":{\"toolbar\":{\"id\":\"ab82e6c4-f77c-4a1b-a4be-cbac4b334fbe\",\"type\":\"ProxyToolbar\"},\"toolbar_location\":\"above\"},\"id\":\"67220517-2826-4bed-8f63-3bc939aa4e4e\",\"type\":\"ToolbarBox\"},{\"attributes\":{},\"id\":\"987827cc-ff0f-4bc1-ac4c-3a5bc86ee237\",\"type\":\"SaveTool\"},{\"attributes\":{\"below\":[{\"id\":\"4dd8fa2b-4f2c-46cf-a678-d700b695c7f9\",\"type\":\"CategoricalAxis\"}],\"left\":[{\"id\":\"f393acba-9ac6-4ff0-b5e3-ca633c871208\",\"type\":\"LinearAxis\"}],\"plot_height\":300,\"plot_width\":300,\"renderers\":[{\"id\":\"4dd8fa2b-4f2c-46cf-a678-d700b695c7f9\",\"type\":\"CategoricalAxis\"},{\"id\":\"1035e2b8-59f5-4d1f-bade-f66cd69155fa\",\"type\":\"Grid\"},{\"id\":\"f393acba-9ac6-4ff0-b5e3-ca633c871208\",\"type\":\"LinearAxis\"},{\"id\":\"1017a0b0-0aa9-4862-a397-e551c02b1f6e\",\"type\":\"Grid\"},{\"id\":\"632c7abf-d2dd-422a-b88a-62a702214a31\",\"type\":\"BoxAnnotation\"},{\"id\":\"f5616d73-bf26-4057-9680-70b81b8495e5\",\"type\":\"GlyphRenderer\"}],\"title\":{\"id\":\"1c8f0e2c-fb25-4cd1-b903-06bb23b99cf9\",\"type\":\"Title\"},\"toolbar\":{\"id\":\"57a1f07d-5744-4b67-8e0e-f739a0af159a\",\"type\":\"Toolbar\"},\"toolbar_location\":null,\"x_range\":{\"id\":\"d50b1465-c94d-425e-bc9a-b2230a554bd7\",\"type\":\"FactorRange\"},\"x_scale\":{\"id\":\"2101d198-c658-496e-bc60-22bfe7919e66\",\"type\":\"CategoricalScale\"},\"y_range\":{\"id\":\"ec5a08fd-4ba0-44a7-9729-8efab79bc5f8\",\"type\":\"DataRange1d\"},\"y_scale\":{\"id\":\"58d33502-deff-47bf-8b80-cb5bf0b32898\",\"type\":\"LinearScale\"}},\"id\":\"925e87f8-3ee9-43a0-9558-892b46e96fc8\",\"subtype\":\"Figure\",\"type\":\"Plot\"},{\"attributes\":{},\"id\":\"00960f9a-e081-4167-86b5-30a53396ab62\",\"type\":\"BasicTickFormatter\"},{\"attributes\":{\"plot\":null,\"text\":\"Atmosphere heating. CLIRAD (single-run) - CRD.\"},\"id\":\"ffdcc931-194f-4c0c-a2ae-40fd0121404a\",\"type\":\"Title\"},{\"attributes\":{\"overlay\":{\"id\":\"68401996-d6da-4f3a-99a0-40aa009d935a\",\"type\":\"BoxAnnotation\"}},\"id\":\"2f2094d0-c928-4d7b-b796-1f6b33c4f19a\",\"type\":\"BoxZoomTool\"},{\"attributes\":{\"callback\":null,\"data\":{\"band\":[\"1\",\"2\",\"3\",\"4\",\"5\",\"6\",\"7\",\"8\",\"9\",\"10\",\"11\"],\"flux\":{\"__ndarray__\":\"9EBMPg2WWsChCW9q+05UwOAyuPe6Sl3AG0m0qobEXsD96Js0DdhfwIPwaOOIqmDAlIJuL2m+YcANL4hIzfVgwDiCr0NQeWDAWLlAF6exYMDcLupJz15hwA==\",\"dtype\":\"float64\",\"shape\":[11]}},\"selected\":{\"id\":\"ce9b8476-6d66-4940-bafe-59ab60833a71\",\"type\":\"Selection\"},\"selection_policy\":{\"id\":\"82ba883a-89bb-48cc-a008-c42b5e143c51\",\"type\":\"UnionRenderers\"}},\"id\":\"ea71ccac-4d0a-4b57-b9a7-2b982afe66bd\",\"type\":\"ColumnDataSource\"},{\"attributes\":{\"axis_label\":\"flux (W m-2)\",\"formatter\":{\"id\":\"ff37caad-9e14-4bdf-ae51-f5592decc53d\",\"type\":\"BasicTickFormatter\"},\"plot\":{\"id\":\"925e87f8-3ee9-43a0-9558-892b46e96fc8\",\"subtype\":\"Figure\",\"type\":\"Plot\"},\"ticker\":{\"id\":\"a7282f93-5f25-45a8-9b63-c7625e2d10a9\",\"type\":\"BasicTicker\"}},\"id\":\"f393acba-9ac6-4ff0-b5e3-ca633c871208\",\"type\":\"LinearAxis\"},{\"attributes\":{},\"id\":\"c2f4ab90-a2a8-49ae-bd89-bb11cfcb5d14\",\"type\":\"Selection\"}],\"root_ids\":[\"4591f5af-af07-450b-b5aa-583dc2e2127b\"]},\"title\":\"Bokeh Application\",\"version\":\"0.12.16\"}};\n",
       "  var render_items = [{\"docid\":\"0e0465ff-79b2-4f09-8d1e-3992f2ff7014\",\"elementid\":\"c665bdf8-c8ad-4bfe-964b-7ef0a8e7537a\",\"modelid\":\"4591f5af-af07-450b-b5aa-583dc2e2127b\"}];\n",
       "  root.Bokeh.embed.embed_items_notebook(docs_json, render_items);\n",
       "\n",
       "  }\n",
       "  if (root.Bokeh !== undefined) {\n",
       "    embed_document(root);\n",
       "  } else {\n",
       "    var attempts = 0;\n",
       "    var timer = setInterval(function(root) {\n",
       "      if (root.Bokeh !== undefined) {\n",
       "        embed_document(root);\n",
       "        clearInterval(timer);\n",
       "      }\n",
       "      attempts++;\n",
       "      if (attempts > 100) {\n",
       "        console.log(\"Bokeh: ERROR: Unable to run BokehJS code because BokehJS library is missing\")\n",
       "        clearInterval(timer);\n",
       "      }\n",
       "    }, 10, root)\n",
       "  }\n",
       "})(window);"
      ],
      "application/vnd.bokehjs_exec.v0+json": ""
     },
     "metadata": {
      "application/vnd.bokehjs_exec.v0+json": {
       "id": "4591f5af-af07-450b-b5aa-583dc2e2127b"
      }
     },
     "output_type": "display_data"
    },
    {
     "data": {
      "text/markdown": [
       "*FIGURE.* Difference between CLIRAD and CRD in TOA, SFC and net atmosphere flux, in each spectral band."
      ],
      "text/plain": [
       "<IPython.core.display.Markdown object>"
      ]
     },
     "metadata": {},
     "output_type": "display_data"
    },
    {
     "data": {
      "text/html": [
       "<div>\n",
       "<style scoped>\n",
       "    .dataframe tbody tr th:only-of-type {\n",
       "        vertical-align: middle;\n",
       "    }\n",
       "\n",
       "    .dataframe tbody tr th {\n",
       "        vertical-align: top;\n",
       "    }\n",
       "\n",
       "    .dataframe thead th {\n",
       "        text-align: right;\n",
       "    }\n",
       "</style>\n",
       "<table border=\"1\" class=\"dataframe\">\n",
       "  <thead>\n",
       "    <tr style=\"text-align: right;\">\n",
       "      <th></th>\n",
       "      <th>OLR flux</th>\n",
       "      <th>SFC flux</th>\n",
       "      <th>ATM heating</th>\n",
       "    </tr>\n",
       "    <tr>\n",
       "      <th>Sum over bands</th>\n",
       "      <th></th>\n",
       "      <th></th>\n",
       "      <th></th>\n",
       "    </tr>\n",
       "  </thead>\n",
       "  <tbody>\n",
       "    <tr>\n",
       "      <th>old CLIRAD - CRD</th>\n",
       "      <td>0.14</td>\n",
       "      <td>2.01</td>\n",
       "      <td>-1.73</td>\n",
       "    </tr>\n",
       "    <tr>\n",
       "      <th>CLIRAD (single-run) - CRD</th>\n",
       "      <td>1.13</td>\n",
       "      <td>-33.28</td>\n",
       "      <td>34.41</td>\n",
       "    </tr>\n",
       "    <tr>\n",
       "      <th>CRD</th>\n",
       "      <td>-290.39</td>\n",
       "      <td>308.14</td>\n",
       "      <td>-174.89</td>\n",
       "    </tr>\n",
       "  </tbody>\n",
       "</table>\n",
       "</div>"
      ],
      "text/plain": [
       "                           OLR flux  SFC flux  ATM heating\n",
       "Sum over bands                                            \n",
       "old CLIRAD - CRD               0.14      2.01        -1.73\n",
       "CLIRAD (single-run) - CRD      1.13    -33.28        34.41\n",
       "CRD                         -290.39    308.14      -174.89"
      ]
     },
     "metadata": {},
     "output_type": "display_data"
    },
    {
     "data": {
      "text/markdown": [
       "*TABLE.* Difference between CLIRAD and CRD in TOA, SFC and net atmosphere flux, over all spectral bands. CRD's TOA, SFC and net atmosphere flux, over all spectral bands."
      ],
      "text/plain": [
       "<IPython.core.display.Markdown object>"
      ]
     },
     "metadata": {},
     "output_type": "display_data"
    },
    {
     "data": {
      "text/html": [
       "<a id=\"Cooling_rates._saw.\"></a>"
      ],
      "text/plain": [
       "<IPython.core.display.HTML object>"
      ]
     },
     "metadata": {},
     "output_type": "display_data"
    },
    {
     "data": {
      "text/markdown": [
       "# Cooling rates. saw."
      ],
      "text/plain": [
       "<IPython.core.display.Markdown object>"
      ]
     },
     "metadata": {},
     "output_type": "display_data"
    },
    {
     "data": {
      "text/html": [
       "\n",
       "<div class=\"bk-root\">\n",
       "    <div class=\"bk-plotdiv\" id=\"df19a5dc-f06c-457e-be4e-8b3c8a3f73fc\"></div>\n",
       "</div>"
      ]
     },
     "metadata": {},
     "output_type": "display_data"
    },
    {
     "data": {
      "application/javascript": [
       "(function(root) {\n",
       "  function embed_document(root) {\n",
       "    \n",
       "  var docs_json = {\"4d9e5d77-d506-4001-89fb-bfe85dfcbfa4\":{\"roots\":{\"references\":[{\"attributes\":{\"data_source\":{\"id\":\"a293c7b3-e545-44e4-94c6-92eb4740ea37\",\"type\":\"ColumnDataSource\"},\"glyph\":{\"id\":\"1bda0b98-afce-4162-bcae-04ea23262821\",\"type\":\"Circle\"},\"hover_glyph\":null,\"muted_glyph\":null,\"nonselection_glyph\":{\"id\":\"92e1c8f3-0918-4640-8b12-b75591e333ee\",\"type\":\"Circle\"},\"selection_glyph\":null,\"view\":{\"id\":\"ed1c1add-50a4-4a02-99c5-b9b83f7cba8e\",\"type\":\"CDSView\"}},\"id\":\"d4efb013-9ccf-409d-b67c-abc551beb584\",\"type\":\"GlyphRenderer\"},{\"attributes\":{\"callback\":null,\"data\":{\"x\":{\"__ndarray__\":\"0CYBcvU5UkCik9zf2GVBQF1VoNfLZ0BAVLxhiVXTPUDD1Wu1wJM6QFJyB025jjdAU6Aw5+b/NECYe1uuDfgyQB6bYtVTbTFAPxYSAF1HMEA00pYVm9QuQLolHbMzgC1AntlwirGsLECv+G9SjE4rQJH6ZLBp0ShAsLZQyPd/JkDyjgyf2PwkQLgyNGsrJyRAA13QbJD6I0C8hy0ilI4kQOVTXCEgcSZAovOGvZSGJUBVc/ZmUOIgQOf/6GHAyRlAcE8fAOBSFEDRur1U//gPQGFD9ZbokghAQsqHuSqSA0C91ci3W0UBQCtRQfvz7/4/kh8pntyB+j9t1/n+4TX1P773MAUjFfI/RgzR+CI28T8hBW8WHK7uPzVKjJfU8uk/0FPt4/z65T/wVYqzMPDhPz7K9C5CXuE/8+hSn9hY4T/9PPCkR6rhP1XsIC599OA/66X1nBCX3z/YbRM56QjcPz4dkSQc/dM/S7Wb8Fq00T+/yQdmX0vcP7TrGf476eM/WqNPJoWO7D9qOH1bcwDzP2bw+R5DQ/Y/RLSuQOQp+D8+aif8yAz5P0Wv6eBKRfk/0i2+IN4R+T/ik8QNFZr4PyS5UD5j/Pc/yJ68zXRG9z/2CHPL54H2P59SOhwKtPU/npkP8dfg9D8NlmVcdQz0P80ugRvuOvM/byxiAHN18j9USVZie8nxP5l9lNXYSPE/OB+F0UYP8T8Y7dsUCTHxP3EBgTHPcPE/bfx15p8S8T8FT+xkGtTuP6mdG7rkxuk/pboqTkHX5D/CrN8qGYngP7R4ZaL+htU/\",\"dtype\":\"float64\",\"shape\":[75]},\"y\":{\"__ndarray__\":\"GhExyth1ND/Sv8nbtpRIP2vylNV0PVE/aTum7souWD/At0SJ8fVgPw3Iuahxymc/MSNhhJWvcD/bTfBN02d3P2zb5nxnaoA/CD5h5MAGhz8NmeH1TyaQP+zrCsc9p5Y/LbKd76fGnz/bLW5ISEmmPww9YvTcQq8/JV2OstnstT8Er5Y7M8G+P0c+r3jqkcU/5h99k6ZBzj88bCIzFzjVP4enV8oyxN0//yH99nXg5D8qOpLLf0jtP5kqGJXUifQ/c9cS8kHP/D+/DpwzojQEQIEmwoanVwxA4lgXt9HgE0BSSZ2AJuIbQAMJih9jjiNA5q4l5INuK0AwTKYKRj0zQNv5fmq8/DpAaCJseHrtQkB/+zpwzoxKQM3MzMzMeFJAZmZmZmZqWEAAAAAAAFxeQM3MzMzMJmJAmpmZmZkfZUBmZmZmZhhoQDMzMzMzEWtAAAAAAAAKbkBmZmZmZoFwQM3MzMzM/XFAMzMzMzN6c0CamZmZmfZ0QAAAAAAAc3ZAZmZmZmbvd0DNzMzMzGt5QDMzMzMz6HpAmpmZmZlkfEAAAAAAAOF9QGZmZmZmXX9AZmZmZuZsgECamZmZGSuBQM3MzMxM6YFAAAAAAICngkAzMzMzs2WDQGZmZmbmI4RAmpmZmRnihEDNzMzMTKCFQAAAAACAXoZAMzMzM7Mch0BmZmZm5tqHQJqZmZkZmYhAzczMzExXiUAAAAAAgBWKQDMzMzOz04pAZmZmZuaRi0CamZmZGVCMQM3MzMxMDo1AAAAAAIDMjUAzMzMzs4qOQGZmZmbmSI9A\",\"dtype\":\"float64\",\"shape\":[75]}},\"selected\":{\"id\":\"72ea6155-b1ac-4759-b49c-e79a38d8f6a0\",\"type\":\"Selection\"},\"selection_policy\":{\"id\":\"0e772fd8-c9f2-42aa-b644-df9a3c080984\",\"type\":\"UnionRenderers\"}},\"id\":\"7891ed25-9c4a-4eed-97be-b93afddf6213\",\"type\":\"ColumnDataSource\"},{\"attributes\":{\"fill_alpha\":{\"value\":0.1},\"fill_color\":{\"value\":\"#1f77b4\"},\"line_alpha\":{\"value\":0.1},\"line_color\":{\"value\":\"#1f77b4\"},\"x\":{\"field\":\"x\"},\"y\":{\"field\":\"y\"}},\"id\":\"92e1c8f3-0918-4640-8b12-b75591e333ee\",\"type\":\"Circle\"},{\"attributes\":{},\"id\":\"74f1eba2-5767-4dc1-9261-8cab27e47126\",\"type\":\"WheelZoomTool\"},{\"attributes\":{\"axis_label\":\"cooling rate [K/day]\",\"formatter\":{\"id\":\"075ca632-1908-4309-a23a-80615f4524e6\",\"type\":\"BasicTickFormatter\"},\"plot\":{\"id\":\"a87206aa-171f-4630-a475-e2f48fffb6f5\",\"subtype\":\"Figure\",\"type\":\"Plot\"},\"ticker\":{\"id\":\"e732acf2-d395-468c-8a4e-26ab58234fb4\",\"type\":\"BasicTicker\"}},\"id\":\"1b5ff794-74d1-4c2d-b0e0-ad26e8f6fe26\",\"type\":\"LinearAxis\"},{\"attributes\":{\"above\":[{\"id\":\"725da126-f970-4343-9720-bb3f0756e643\",\"type\":\"Legend\"}],\"below\":[{\"id\":\"98db60d7-6343-45e2-a8f6-4584140e40cb\",\"type\":\"LinearAxis\"}],\"left\":[{\"id\":\"e8f2aabb-2169-46a6-a0c3-cba3c7427083\",\"type\":\"LogAxis\"}],\"plot_width\":300,\"renderers\":[{\"id\":\"98db60d7-6343-45e2-a8f6-4584140e40cb\",\"type\":\"LinearAxis\"},{\"id\":\"a68251bb-439c-4f12-a17a-a575eb259e0c\",\"type\":\"Grid\"},{\"id\":\"e8f2aabb-2169-46a6-a0c3-cba3c7427083\",\"type\":\"LogAxis\"},{\"id\":\"5df8dd66-67a2-4647-979c-941e4983b8d9\",\"type\":\"Grid\"},{\"id\":\"50eabd8d-9382-4334-a153-06f7b20d863b\",\"type\":\"BoxAnnotation\"},{\"id\":\"748c6358-e3fe-4698-afa2-a9732b16e479\",\"type\":\"GlyphRenderer\"},{\"id\":\"d4efb013-9ccf-409d-b67c-abc551beb584\",\"type\":\"GlyphRenderer\"},{\"id\":\"b9551927-6be3-4c03-9a1a-69cb4bb7f766\",\"type\":\"GlyphRenderer\"},{\"id\":\"725da126-f970-4343-9720-bb3f0756e643\",\"type\":\"Legend\"}],\"title\":{\"id\":\"257a7e7f-b4f0-41d0-9daf-c7a0048f146c\",\"type\":\"Title\"},\"toolbar\":{\"id\":\"f6e1271a-1880-4ad3-a0c8-bf41ee9c0175\",\"type\":\"Toolbar\"},\"toolbar_location\":null,\"x_range\":{\"id\":\"72105846-15d8-448f-92b1-ea3b5a25f6a2\",\"type\":\"Range1d\"},\"x_scale\":{\"id\":\"974a408b-4dc9-48c0-aece-608a7ed2c67d\",\"type\":\"LinearScale\"},\"y_range\":{\"id\":\"c55e782e-b74f-4173-8f35-7490c4755a49\",\"type\":\"Range1d\"},\"y_scale\":{\"id\":\"049eb183-911d-4fa2-84ab-ba319b3cce23\",\"type\":\"LogScale\"}},\"id\":\"b4f51a73-c0be-4c16-845d-498766d7c2d0\",\"subtype\":\"Figure\",\"type\":\"Plot\"},{\"attributes\":{},\"id\":\"974a408b-4dc9-48c0-aece-608a7ed2c67d\",\"type\":\"LinearScale\"},{\"attributes\":{\"data_source\":{\"id\":\"7891ed25-9c4a-4eed-97be-b93afddf6213\",\"type\":\"ColumnDataSource\"},\"glyph\":{\"id\":\"ab2451e0-5dca-4738-84d2-f59bb4cdedfb\",\"type\":\"Line\"},\"hover_glyph\":null,\"muted_glyph\":null,\"nonselection_glyph\":{\"id\":\"b3f868e0-2f26-4260-9162-4bd092d7a6cd\",\"type\":\"Line\"},\"selection_glyph\":null,\"view\":{\"id\":\"92b133d7-343d-4d81-bdc0-ce682141b785\",\"type\":\"CDSView\"}},\"id\":\"73c00995-cbbd-4c81-9dce-09eda6f1ba0e\",\"type\":\"GlyphRenderer\"},{\"attributes\":{\"line_color\":\"#4daf4a\",\"line_width\":1.5,\"x\":{\"field\":\"x\"},\"y\":{\"field\":\"y\"}},\"id\":\"4ece5201-73cd-4330-b997-57f4e6e194ba\",\"type\":\"Line\"},{\"attributes\":{\"line_alpha\":0.1,\"line_color\":\"#1f77b4\",\"line_width\":1.5,\"x\":{\"field\":\"x\"},\"y\":{\"field\":\"y\"}},\"id\":\"b3f868e0-2f26-4260-9162-4bd092d7a6cd\",\"type\":\"Line\"},{\"attributes\":{\"line_color\":\"#4daf4a\",\"line_width\":1.5,\"x\":{\"field\":\"x\"},\"y\":{\"field\":\"y\"}},\"id\":\"ab2451e0-5dca-4738-84d2-f59bb4cdedfb\",\"type\":\"Line\"},{\"attributes\":{\"bottom_units\":\"screen\",\"fill_alpha\":{\"value\":0.5},\"fill_color\":{\"value\":\"lightgrey\"},\"left_units\":\"screen\",\"level\":\"overlay\",\"line_alpha\":{\"value\":1.0},\"line_color\":{\"value\":\"black\"},\"line_dash\":[4,4],\"line_width\":{\"value\":2},\"plot\":null,\"render_mode\":\"css\",\"right_units\":\"screen\",\"top_units\":\"screen\"},\"id\":\"1bb8951a-a147-443c-8e25-51935529abcf\",\"type\":\"BoxAnnotation\"},{\"attributes\":{\"label\":{\"value\":\"CLIRAD (single-run)\"},\"renderers\":[{\"id\":\"a8502644-ac66-424d-9ff5-ff4d1c590071\",\"type\":\"GlyphRenderer\"}]},\"id\":\"f07ae0c7-3536-43f5-a192-f45dbc7407b2\",\"type\":\"LegendItem\"},{\"attributes\":{},\"id\":\"86d5d0ab-856d-4b7e-949e-785025280888\",\"type\":\"HelpTool\"},{\"attributes\":{\"fill_alpha\":{\"value\":0.7},\"fill_color\":{\"value\":\"#4daf4a\"},\"line_alpha\":{\"value\":0.7},\"line_color\":{\"value\":\"#4daf4a\"},\"x\":{\"field\":\"x\"},\"y\":{\"field\":\"y\"}},\"id\":\"385b2989-7c60-4fdc-a8e7-7391c1639c1b\",\"type\":\"Circle\"},{\"attributes\":{\"source\":{\"id\":\"a293c7b3-e545-44e4-94c6-92eb4740ea37\",\"type\":\"ColumnDataSource\"}},\"id\":\"ed1c1add-50a4-4a02-99c5-b9b83f7cba8e\",\"type\":\"CDSView\"},{\"attributes\":{\"data_source\":{\"id\":\"a2094bbf-54c9-4985-a213-a7773f054587\",\"type\":\"ColumnDataSource\"},\"glyph\":{\"id\":\"4ece5201-73cd-4330-b997-57f4e6e194ba\",\"type\":\"Line\"},\"hover_glyph\":null,\"muted_glyph\":null,\"nonselection_glyph\":{\"id\":\"f801be36-aed1-4e16-9e92-6c177d5deb0c\",\"type\":\"Line\"},\"selection_glyph\":null,\"view\":{\"id\":\"a011d8bb-9e6a-4ee3-8eb3-33a1ad199580\",\"type\":\"CDSView\"}},\"id\":\"b9551927-6be3-4c03-9a1a-69cb4bb7f766\",\"type\":\"GlyphRenderer\"},{\"attributes\":{\"callback\":null,\"end\":0.01,\"start\":1020},\"id\":\"beb1928d-4a0b-47ec-a905-22408c1bfefb\",\"type\":\"Range1d\"},{\"attributes\":{\"label\":{\"value\":\"CRD\"},\"renderers\":[{\"id\":\"e1eb5f3d-699f-41a9-a7ab-fee2d0681f8e\",\"type\":\"GlyphRenderer\"},{\"id\":\"73c00995-cbbd-4c81-9dce-09eda6f1ba0e\",\"type\":\"GlyphRenderer\"}]},\"id\":\"eb75100f-4c8d-4cef-a0c8-f2fe25759684\",\"type\":\"LegendItem\"},{\"attributes\":{\"callback\":null,\"end\":0.01,\"start\":1020},\"id\":\"a75f9d3b-9074-48b6-ac35-2a8637d9e952\",\"type\":\"Range1d\"},{\"attributes\":{\"callback\":null,\"data\":{\"x\":{\"__ndarray__\":\"0CYBcvU5UkCik9zf2GVBQF1VoNfLZ0BAVLxhiVXTPUDD1Wu1wJM6QFJyB025jjdAU6Aw5+b/NECYe1uuDfgyQB6bYtVTbTFAPxYSAF1HMEA00pYVm9QuQLolHbMzgC1AntlwirGsLECv+G9SjE4rQJH6ZLBp0ShAsLZQyPd/JkDyjgyf2PwkQLgyNGsrJyRAA13QbJD6I0C8hy0ilI4kQOVTXCEgcSZAovOGvZSGJUBVc/ZmUOIgQOf/6GHAyRlAcE8fAOBSFEDRur1U//gPQGFD9ZbokghAQsqHuSqSA0C91ci3W0UBQCtRQfvz7/4/kh8pntyB+j9t1/n+4TX1P773MAUjFfI/RgzR+CI28T8hBW8WHK7uPzVKjJfU8uk/0FPt4/z65T/wVYqzMPDhPz7K9C5CXuE/8+hSn9hY4T/9PPCkR6rhP1XsIC599OA/66X1nBCX3z/YbRM56QjcPz4dkSQc/dM/S7Wb8Fq00T+/yQdmX0vcP7TrGf476eM/WqNPJoWO7D9qOH1bcwDzP2bw+R5DQ/Y/RLSuQOQp+D8+aif8yAz5P0Wv6eBKRfk/0i2+IN4R+T/ik8QNFZr4PyS5UD5j/Pc/yJ68zXRG9z/2CHPL54H2P59SOhwKtPU/npkP8dfg9D8NlmVcdQz0P80ugRvuOvM/byxiAHN18j9USVZie8nxP5l9lNXYSPE/OB+F0UYP8T8Y7dsUCTHxP3EBgTHPcPE/bfx15p8S8T8FT+xkGtTuP6mdG7rkxuk/pboqTkHX5D/CrN8qGYngP7R4ZaL+htU/\",\"dtype\":\"float64\",\"shape\":[75]},\"y\":{\"__ndarray__\":\"GhExyth1ND/Sv8nbtpRIP2vylNV0PVE/aTum7souWD/At0SJ8fVgPw3Iuahxymc/MSNhhJWvcD/bTfBN02d3P2zb5nxnaoA/CD5h5MAGhz8NmeH1TyaQP+zrCsc9p5Y/LbKd76fGnz/bLW5ISEmmPww9YvTcQq8/JV2OstnstT8Er5Y7M8G+P0c+r3jqkcU/5h99k6ZBzj88bCIzFzjVP4enV8oyxN0//yH99nXg5D8qOpLLf0jtP5kqGJXUifQ/c9cS8kHP/D+/DpwzojQEQIEmwoanVwxA4lgXt9HgE0BSSZ2AJuIbQAMJih9jjiNA5q4l5INuK0AwTKYKRj0zQNv5fmq8/DpAaCJseHrtQkB/+zpwzoxKQM3MzMzMeFJAZmZmZmZqWEAAAAAAAFxeQM3MzMzMJmJAmpmZmZkfZUBmZmZmZhhoQDMzMzMzEWtAAAAAAAAKbkBmZmZmZoFwQM3MzMzM/XFAMzMzMzN6c0CamZmZmfZ0QAAAAAAAc3ZAZmZmZmbvd0DNzMzMzGt5QDMzMzMz6HpAmpmZmZlkfEAAAAAAAOF9QGZmZmZmXX9AZmZmZuZsgECamZmZGSuBQM3MzMxM6YFAAAAAAICngkAzMzMzs2WDQGZmZmbmI4RAmpmZmRnihEDNzMzMTKCFQAAAAACAXoZAMzMzM7Mch0BmZmZm5tqHQJqZmZkZmYhAzczMzExXiUAAAAAAgBWKQDMzMzOz04pAZmZmZuaRi0CamZmZGVCMQM3MzMxMDo1AAAAAAIDMjUAzMzMzs4qOQGZmZmbmSI9A\",\"dtype\":\"float64\",\"shape\":[75]}},\"selected\":{\"id\":\"24bf65df-bf36-40b5-b323-2e796c5a5258\",\"type\":\"Selection\"},\"selection_policy\":{\"id\":\"ce5c4c87-b1df-49d4-9dfd-ac775b3bb60b\",\"type\":\"UnionRenderers\"}},\"id\":\"a2094bbf-54c9-4985-a213-a7773f054587\",\"type\":\"ColumnDataSource\"},{\"attributes\":{\"callback\":null,\"data\":{\"x\":{\"__ndarray__\":\"0CYBcvU5UkCik9zf2GVBQF1VoNfLZ0BAVLxhiVXTPUDD1Wu1wJM6QFJyB025jjdAU6Aw5+b/NECYe1uuDfgyQB6bYtVTbTFAPxYSAF1HMEA00pYVm9QuQLolHbMzgC1AntlwirGsLECv+G9SjE4rQJH6ZLBp0ShAsLZQyPd/JkDyjgyf2PwkQLgyNGsrJyRAA13QbJD6I0C8hy0ilI4kQOVTXCEgcSZAovOGvZSGJUBVc/ZmUOIgQOf/6GHAyRlAcE8fAOBSFEDRur1U//gPQGFD9ZbokghAQsqHuSqSA0C91ci3W0UBQCtRQfvz7/4/kh8pntyB+j9t1/n+4TX1P773MAUjFfI/RgzR+CI28T8hBW8WHK7uPzVKjJfU8uk/0FPt4/z65T/wVYqzMPDhPz7K9C5CXuE/8+hSn9hY4T/9PPCkR6rhP1XsIC599OA/66X1nBCX3z/YbRM56QjcPz4dkSQc/dM/S7Wb8Fq00T+/yQdmX0vcP7TrGf476eM/WqNPJoWO7D9qOH1bcwDzP2bw+R5DQ/Y/RLSuQOQp+D8+aif8yAz5P0Wv6eBKRfk/0i2+IN4R+T/ik8QNFZr4PyS5UD5j/Pc/yJ68zXRG9z/2CHPL54H2P59SOhwKtPU/npkP8dfg9D8NlmVcdQz0P80ugRvuOvM/byxiAHN18j9USVZie8nxP5l9lNXYSPE/OB+F0UYP8T8Y7dsUCTHxP3EBgTHPcPE/bfx15p8S8T8FT+xkGtTuP6mdG7rkxuk/pboqTkHX5D/CrN8qGYngP7R4ZaL+htU/\",\"dtype\":\"float64\",\"shape\":[75]},\"y\":{\"__ndarray__\":\"GhExyth1ND/Sv8nbtpRIP2vylNV0PVE/aTum7souWD/At0SJ8fVgPw3Iuahxymc/MSNhhJWvcD/bTfBN02d3P2zb5nxnaoA/CD5h5MAGhz8NmeH1TyaQP+zrCsc9p5Y/LbKd76fGnz/bLW5ISEmmPww9YvTcQq8/JV2OstnstT8Er5Y7M8G+P0c+r3jqkcU/5h99k6ZBzj88bCIzFzjVP4enV8oyxN0//yH99nXg5D8qOpLLf0jtP5kqGJXUifQ/c9cS8kHP/D+/DpwzojQEQIEmwoanVwxA4lgXt9HgE0BSSZ2AJuIbQAMJih9jjiNA5q4l5INuK0AwTKYKRj0zQNv5fmq8/DpAaCJseHrtQkB/+zpwzoxKQM3MzMzMeFJAZmZmZmZqWEAAAAAAAFxeQM3MzMzMJmJAmpmZmZkfZUBmZmZmZhhoQDMzMzMzEWtAAAAAAAAKbkBmZmZmZoFwQM3MzMzM/XFAMzMzMzN6c0CamZmZmfZ0QAAAAAAAc3ZAZmZmZmbvd0DNzMzMzGt5QDMzMzMz6HpAmpmZmZlkfEAAAAAAAOF9QGZmZmZmXX9AZmZmZuZsgECamZmZGSuBQM3MzMxM6YFAAAAAAICngkAzMzMzs2WDQGZmZmbmI4RAmpmZmRnihEDNzMzMTKCFQAAAAACAXoZAMzMzM7Mch0BmZmZm5tqHQJqZmZkZmYhAzczMzExXiUAAAAAAgBWKQDMzMzOz04pAZmZmZuaRi0CamZmZGVCMQM3MzMxMDo1AAAAAAIDMjUAzMzMzs4qOQGZmZmbmSI9A\",\"dtype\":\"float64\",\"shape\":[75]}},\"selected\":{\"id\":\"d8115f99-27ba-4bf1-9516-422afe82c4f3\",\"type\":\"Selection\"},\"selection_policy\":{\"id\":\"d1bf39a5-b4e4-466d-8fc5-045c8c6198a2\",\"type\":\"UnionRenderers\"}},\"id\":\"2f69c89a-da77-4086-af21-a09c3ffe8e0b\",\"type\":\"ColumnDataSource\"},{\"attributes\":{},\"id\":\"0ce3229e-55fd-4e6c-8868-e88ceb15944d\",\"type\":\"SaveTool\"},{\"attributes\":{\"plot\":{\"id\":\"b4f51a73-c0be-4c16-845d-498766d7c2d0\",\"subtype\":\"Figure\",\"type\":\"Plot\"},\"ticker\":{\"id\":\"5092f4c1-1d49-46df-a6e8-f7053f85deb6\",\"type\":\"BasicTicker\"}},\"id\":\"a68251bb-439c-4f12-a17a-a575eb259e0c\",\"type\":\"Grid\"},{\"attributes\":{\"overlay\":{\"id\":\"1bb8951a-a147-443c-8e25-51935529abcf\",\"type\":\"BoxAnnotation\"}},\"id\":\"4c2a72c3-a072-45f9-9f37-807265c803ed\",\"type\":\"BoxZoomTool\"},{\"attributes\":{\"fill_alpha\":{\"value\":0.1},\"fill_color\":{\"value\":\"#1f77b4\"},\"line_alpha\":{\"value\":0.1},\"line_color\":{\"value\":\"#1f77b4\"},\"x\":{\"field\":\"x\"},\"y\":{\"field\":\"y\"}},\"id\":\"171a58e2-bcb0-408b-b5a0-af05d97c65a2\",\"type\":\"Circle\"},{\"attributes\":{\"dimension\":1,\"plot\":{\"id\":\"b4f51a73-c0be-4c16-845d-498766d7c2d0\",\"subtype\":\"Figure\",\"type\":\"Plot\"},\"ticker\":{\"id\":\"6d8f25c1-7f6c-452b-8e60-c1f4d5b6897b\",\"type\":\"LogTicker\"}},\"id\":\"5df8dd66-67a2-4647-979c-941e4983b8d9\",\"type\":\"Grid\"},{\"attributes\":{\"active_drag\":\"auto\",\"active_inspect\":\"auto\",\"active_scroll\":\"auto\",\"active_tap\":\"auto\",\"tools\":[{\"id\":\"976436eb-3c18-4492-8548-419d09e9ec4d\",\"type\":\"PanTool\"},{\"id\":\"3659d76f-592f-4066-a7d7-5e137d6dfe70\",\"type\":\"WheelZoomTool\"},{\"id\":\"b99fe097-2d4d-44f0-a4af-d795fcf7b894\",\"type\":\"BoxZoomTool\"},{\"id\":\"d6f1272c-48e3-4ede-868f-fe2b3767308c\",\"type\":\"SaveTool\"},{\"id\":\"ce285234-7cf2-40ae-ba6c-5b0e9a61b2a3\",\"type\":\"ResetTool\"},{\"id\":\"e8008547-07a8-43b8-b63a-7207819790e3\",\"type\":\"HelpTool\"}]},\"id\":\"f6e1271a-1880-4ad3-a0c8-bf41ee9c0175\",\"type\":\"Toolbar\"},{\"attributes\":{\"fill_alpha\":{\"value\":0.1},\"fill_color\":{\"value\":\"#1f77b4\"},\"line_alpha\":{\"value\":0.1},\"line_color\":{\"value\":\"#1f77b4\"},\"x\":{\"field\":\"x\"},\"y\":{\"field\":\"y\"}},\"id\":\"aafe766c-9494-4a77-96c6-f4a1eb9ed0cb\",\"type\":\"Circle\"},{\"attributes\":{\"callback\":null,\"data\":{\"x\":{\"__ndarray__\":\"e1uuvAlAckCUwm7ahXVxQBJliHIg0nJAofg01fdrc0BnMeV6S/xyQPCNKbBydnFA1ABwTasrbkDGbHy4S+JoQAU26Vaeg2RA3elAfP8UYkB3ftsgCYthQOMUPZxI/mFAi1D3tcqjYkCR9enHhWViQCmMmfBvwmBAPq6hs240XUCqmBoGQ4NZQB4t2eKIW1dA8MJwSBQiV0AmnirSlo9YQE43Qf7nq1tA/zHDHNgaW0DqtidVD3pVQHGldxkprk9AUpnu43gkSEAHyxymQc1DQHobXc4/2kBAAZt7Iv+MO0AdFjlAhs02QGjxDjD6sTNAl52+uKVPMkDkeYrROYQvQChvGZ6RfylAJuleSrlkJUBRoSZO6j0jQCxIq9bf4CFAJkXYK4mPHUCDXIap41wVQB0cNNetVRJAQ5CRAmHmEUAltinfiOASQJDjaYUxuhJAT/37chrmEUAe/2xWHWQQQPjaY372jQdA3ddgpLMwBUARHWZKMqoRQBcli4qqqxhASYuIUUJDIUCPhUVzYZwmQJ3xEB5asSpAeA0UyPNmLUBy+oXgBXwuQBo9xnC8cC5AzHfmWPQyLkDa5pNMf9YtQG4OXzdITi1AbioA9UeTLECBikPqOLcrQEDOfBKN2ipAUDtkGc7iKUDz1fYzU+AoQNJQOD6A0idASPc6hA3WJkAtIKTO6wQmQAENiCridyVAJgrkgolRJUBdS34MYaklQOhWQlY7GiZA/Xdjkqi/JUBMjaoIMsAjQCy3rjwzoSBA9oTQ+ZwPG0CYhHWmw6wVQPZ+LhAQIF7A\",\"dtype\":\"float64\",\"shape\":[75]},\"y\":{\"__ndarray__\":\"GhExyth1ND/Sv8nbtpRIP2vylNV0PVE/aTum7souWD/At0SJ8fVgPw3Iuahxymc/MSNhhJWvcD/bTfBN02d3P2zb5nxnaoA/CD5h5MAGhz8NmeH1TyaQP+zrCsc9p5Y/LbKd76fGnz/bLW5ISEmmPww9YvTcQq8/JV2OstnstT8Er5Y7M8G+P0c+r3jqkcU/5h99k6ZBzj88bCIzFzjVP4enV8oyxN0//yH99nXg5D8qOpLLf0jtP5kqGJXUifQ/c9cS8kHP/D+/DpwzojQEQIEmwoanVwxA4lgXt9HgE0BSSZ2AJuIbQAMJih9jjiNA5q4l5INuK0AwTKYKRj0zQNv5fmq8/DpAaCJseHrtQkB/+zpwzoxKQM3MzMzMeFJAZmZmZmZqWEAAAAAAAFxeQM3MzMzMJmJAmpmZmZkfZUBmZmZmZhhoQDMzMzMzEWtAAAAAAAAKbkBmZmZmZoFwQM3MzMzM/XFAMzMzMzN6c0CamZmZmfZ0QAAAAAAAc3ZAZmZmZmbvd0DNzMzMzGt5QDMzMzMz6HpAmpmZmZlkfEAAAAAAAOF9QGZmZmZmXX9AZmZmZuZsgECamZmZGSuBQM3MzMxM6YFAAAAAAICngkAzMzMzs2WDQGZmZmbmI4RAmpmZmRnihEDNzMzMTKCFQAAAAACAXoZAMzMzM7Mch0BmZmZm5tqHQJqZmZkZmYhAzczMzExXiUAAAAAAgBWKQDMzMzOz04pAZmZmZuaRi0CamZmZGVCMQM3MzMxMDo1AAAAAAIDMjUAzMzMzs4qOQGZmZmbmSI9A\",\"dtype\":\"float64\",\"shape\":[75]}},\"selected\":{\"id\":\"c0dfd072-dd04-4a5b-ab71-7de6b23e53e3\",\"type\":\"Selection\"},\"selection_policy\":{\"id\":\"e6f3068d-2a2e-43f6-b4a0-9b24b83f61f7\",\"type\":\"UnionRenderers\"}},\"id\":\"22275459-95f1-4c6a-9dba-10a1c2dc9921\",\"type\":\"ColumnDataSource\"},{\"attributes\":{},\"id\":\"c0dfd072-dd04-4a5b-ab71-7de6b23e53e3\",\"type\":\"Selection\"},{\"attributes\":{},\"id\":\"de760fc3-7caa-4cf1-a2e4-43be18bd6193\",\"type\":\"ResetTool\"},{\"attributes\":{},\"id\":\"5092f4c1-1d49-46df-a6e8-f7053f85deb6\",\"type\":\"BasicTicker\"},{\"attributes\":{\"callback\":null,\"end\":0.01,\"start\":1020},\"id\":\"c55e782e-b74f-4173-8f35-7490c4755a49\",\"type\":\"Range1d\"},{\"attributes\":{},\"id\":\"e732acf2-d395-468c-8a4e-26ab58234fb4\",\"type\":\"BasicTicker\"},{\"attributes\":{\"fill_alpha\":{\"value\":0.7},\"fill_color\":{\"value\":\"#984ea3\"},\"line_alpha\":{\"value\":0.7},\"line_color\":{\"value\":\"#984ea3\"},\"x\":{\"field\":\"x\"},\"y\":{\"field\":\"y\"}},\"id\":\"6da7f505-8ad7-487b-bb68-8de6a9218615\",\"type\":\"Circle\"},{\"attributes\":{\"items\":[{\"id\":\"93afe450-31b2-4024-aa80-3fc57eb364a0\",\"type\":\"LegendItem\"},{\"id\":\"9087cae6-493f-489f-9890-0b53cdd9f3ff\",\"type\":\"LegendItem\"}],\"label_text_font_size\":{\"value\":\"8pt\"},\"location\":\"top_center\",\"orientation\":\"horizontal\",\"plot\":{\"id\":\"b4f51a73-c0be-4c16-845d-498766d7c2d0\",\"subtype\":\"Figure\",\"type\":\"Plot\"}},\"id\":\"725da126-f970-4343-9720-bb3f0756e643\",\"type\":\"Legend\"},{\"attributes\":{},\"id\":\"5c19bd94-b718-4109-b321-0bc7bd9ce02f\",\"type\":\"Selection\"},{\"attributes\":{},\"id\":\"524f2907-13bf-4c1c-954a-95abb5e3adf8\",\"type\":\"PanTool\"},{\"attributes\":{\"dimension\":1,\"plot\":{\"id\":\"a87206aa-171f-4630-a475-e2f48fffb6f5\",\"subtype\":\"Figure\",\"type\":\"Plot\"},\"ticker\":{\"id\":\"59749bdd-006a-492f-b8d3-a6d4f43e4bcc\",\"type\":\"BasicTicker\"}},\"id\":\"841c35d5-9e99-4088-b255-1b0e27291f99\",\"type\":\"Grid\"},{\"attributes\":{\"axis_label\":\"cooling rate [K/day]\",\"formatter\":{\"id\":\"af1acdc8-c1e7-462e-8acb-34491a3dae0e\",\"type\":\"BasicTickFormatter\"},\"plot\":{\"id\":\"b4f51a73-c0be-4c16-845d-498766d7c2d0\",\"subtype\":\"Figure\",\"type\":\"Plot\"},\"ticker\":{\"id\":\"5092f4c1-1d49-46df-a6e8-f7053f85deb6\",\"type\":\"BasicTicker\"}},\"id\":\"98db60d7-6343-45e2-a8f6-4584140e40cb\",\"type\":\"LinearAxis\"},{\"attributes\":{\"data_source\":{\"id\":\"2f69c89a-da77-4086-af21-a09c3ffe8e0b\",\"type\":\"ColumnDataSource\"},\"glyph\":{\"id\":\"385b2989-7c60-4fdc-a8e7-7391c1639c1b\",\"type\":\"Circle\"},\"hover_glyph\":null,\"muted_glyph\":null,\"nonselection_glyph\":{\"id\":\"aafe766c-9494-4a77-96c6-f4a1eb9ed0cb\",\"type\":\"Circle\"},\"selection_glyph\":null,\"view\":{\"id\":\"e93dc93f-71e4-453c-a350-5dd6be63d4d9\",\"type\":\"CDSView\"}},\"id\":\"e1eb5f3d-699f-41a9-a7ab-fee2d0681f8e\",\"type\":\"GlyphRenderer\"},{\"attributes\":{},\"id\":\"e6f3068d-2a2e-43f6-b4a0-9b24b83f61f7\",\"type\":\"UnionRenderers\"},{\"attributes\":{\"source\":{\"id\":\"2f69c89a-da77-4086-af21-a09c3ffe8e0b\",\"type\":\"ColumnDataSource\"}},\"id\":\"e93dc93f-71e4-453c-a350-5dd6be63d4d9\",\"type\":\"CDSView\"},{\"attributes\":{\"line_alpha\":0.1,\"line_color\":\"#1f77b4\",\"line_width\":1.5,\"x\":{\"field\":\"x\"},\"y\":{\"field\":\"y\"}},\"id\":\"f801be36-aed1-4e16-9e92-6c177d5deb0c\",\"type\":\"Line\"},{\"attributes\":{},\"id\":\"7014f491-df37-4a65-8f61-8d48bfc84933\",\"type\":\"Selection\"},{\"attributes\":{\"source\":{\"id\":\"5b549476-922a-49a9-b6f2-55b225e61ffa\",\"type\":\"ColumnDataSource\"}},\"id\":\"bfd332c1-4556-4d7e-8e17-c8504e89aa76\",\"type\":\"CDSView\"},{\"attributes\":{\"data_source\":{\"id\":\"5b549476-922a-49a9-b6f2-55b225e61ffa\",\"type\":\"ColumnDataSource\"},\"glyph\":{\"id\":\"b9bbb875-ff05-45ef-8937-c92cfb329a4a\",\"type\":\"Line\"},\"hover_glyph\":null,\"muted_glyph\":null,\"nonselection_glyph\":{\"id\":\"cf17977d-63c4-48d6-88b8-be81866a6a62\",\"type\":\"Line\"},\"selection_glyph\":null,\"view\":{\"id\":\"bfd332c1-4556-4d7e-8e17-c8504e89aa76\",\"type\":\"CDSView\"}},\"id\":\"a8502644-ac66-424d-9ff5-ff4d1c590071\",\"type\":\"GlyphRenderer\"},{\"attributes\":{\"bottom_units\":\"screen\",\"fill_alpha\":{\"value\":0.5},\"fill_color\":{\"value\":\"lightgrey\"},\"left_units\":\"screen\",\"level\":\"overlay\",\"line_alpha\":{\"value\":1.0},\"line_color\":{\"value\":\"black\"},\"line_dash\":[4,4],\"line_width\":{\"value\":2},\"plot\":null,\"render_mode\":\"css\",\"right_units\":\"screen\",\"top_units\":\"screen\"},\"id\":\"6f4d7e55-217f-4289-b699-26e0fa418bc4\",\"type\":\"BoxAnnotation\"},{\"attributes\":{\"toolbar\":{\"id\":\"d67d2c41-fdf6-4672-be19-97c2c400ffef\",\"type\":\"ProxyToolbar\"},\"toolbar_location\":\"above\"},\"id\":\"d890b54d-7ef4-4903-9ee8-4982b7b6e619\",\"type\":\"ToolbarBox\"},{\"attributes\":{\"items\":[{\"id\":\"f07ae0c7-3536-43f5-a192-f45dbc7407b2\",\"type\":\"LegendItem\"},{\"id\":\"eb75100f-4c8d-4cef-a0c8-f2fe25759684\",\"type\":\"LegendItem\"}],\"label_text_font_size\":{\"value\":\"8pt\"},\"location\":\"top_center\",\"orientation\":\"horizontal\",\"plot\":{\"id\":\"a87206aa-171f-4630-a475-e2f48fffb6f5\",\"subtype\":\"Figure\",\"type\":\"Plot\"}},\"id\":\"515ea1f9-daab-4584-8f05-a3b37005e008\",\"type\":\"Legend\"},{\"attributes\":{\"children\":[{\"id\":\"d890b54d-7ef4-4903-9ee8-4982b7b6e619\",\"type\":\"ToolbarBox\"},{\"id\":\"82d4d9bc-7cf3-4608-a3a1-fdfe32660486\",\"type\":\"Column\"}]},\"id\":\"679a0a0f-11a7-47ad-9b08-00cc12e32727\",\"type\":\"Column\"},{\"attributes\":{\"source\":{\"id\":\"7891ed25-9c4a-4eed-97be-b93afddf6213\",\"type\":\"ColumnDataSource\"}},\"id\":\"92b133d7-343d-4d81-bdc0-ce682141b785\",\"type\":\"CDSView\"},{\"attributes\":{\"active_drag\":\"auto\",\"active_inspect\":\"auto\",\"active_scroll\":\"auto\",\"active_tap\":\"auto\",\"tools\":[{\"id\":\"c820b244-43f9-497b-86e6-e0345add0d7f\",\"type\":\"PanTool\"},{\"id\":\"04a3e193-9d27-435d-9a3c-3a8f8c2b2537\",\"type\":\"WheelZoomTool\"},{\"id\":\"36a16ac5-bcfe-43ef-91e1-4e5953aeed9d\",\"type\":\"BoxZoomTool\"},{\"id\":\"f8b59213-81d3-48c8-89a5-b1999b761ac9\",\"type\":\"SaveTool\"},{\"id\":\"a1284a9a-c692-47db-86cb-8113445b2e2d\",\"type\":\"ResetTool\"},{\"id\":\"3af4ec63-1ed0-44c1-b2b1-71f58a8c4731\",\"type\":\"HelpTool\"}]},\"id\":\"f7b1e435-a2c6-430d-bfc0-8f7cc51ae6bd\",\"type\":\"Toolbar\"},{\"attributes\":{\"above\":[{\"id\":\"515ea1f9-daab-4584-8f05-a3b37005e008\",\"type\":\"Legend\"}],\"below\":[{\"id\":\"1b5ff794-74d1-4c2d-b0e0-ad26e8f6fe26\",\"type\":\"LinearAxis\"}],\"left\":[{\"id\":\"dd528f87-a9da-4a84-a170-4b2dc958a058\",\"type\":\"LinearAxis\"}],\"plot_width\":300,\"renderers\":[{\"id\":\"1b5ff794-74d1-4c2d-b0e0-ad26e8f6fe26\",\"type\":\"LinearAxis\"},{\"id\":\"b91f6b6a-d9c3-471d-ae5b-68ef981f0636\",\"type\":\"Grid\"},{\"id\":\"dd528f87-a9da-4a84-a170-4b2dc958a058\",\"type\":\"LinearAxis\"},{\"id\":\"841c35d5-9e99-4088-b255-1b0e27291f99\",\"type\":\"Grid\"},{\"id\":\"6f4d7e55-217f-4289-b699-26e0fa418bc4\",\"type\":\"BoxAnnotation\"},{\"id\":\"a8502644-ac66-424d-9ff5-ff4d1c590071\",\"type\":\"GlyphRenderer\"},{\"id\":\"e1eb5f3d-699f-41a9-a7ab-fee2d0681f8e\",\"type\":\"GlyphRenderer\"},{\"id\":\"73c00995-cbbd-4c81-9dce-09eda6f1ba0e\",\"type\":\"GlyphRenderer\"},{\"id\":\"515ea1f9-daab-4584-8f05-a3b37005e008\",\"type\":\"Legend\"}],\"title\":{\"id\":\"714e520c-6e3e-4b67-8337-721587a7c6b1\",\"type\":\"Title\"},\"toolbar\":{\"id\":\"f7b1e435-a2c6-430d-bfc0-8f7cc51ae6bd\",\"type\":\"Toolbar\"},\"toolbar_location\":null,\"x_range\":{\"id\":\"4abdf302-27c9-44be-8b49-306084972e9d\",\"type\":\"Range1d\"},\"x_scale\":{\"id\":\"1cd4ca36-be80-4a4b-81a0-b76d667ecb21\",\"type\":\"LinearScale\"},\"y_range\":{\"id\":\"beb1928d-4a0b-47ec-a905-22408c1bfefb\",\"type\":\"Range1d\"},\"y_scale\":{\"id\":\"71a1ce02-bea0-44fa-8baa-45c73dcf0d8c\",\"type\":\"LinearScale\"}},\"id\":\"a87206aa-171f-4630-a475-e2f48fffb6f5\",\"subtype\":\"Figure\",\"type\":\"Plot\"},{\"attributes\":{\"above\":[{\"id\":\"d07e0e69-f5f6-452f-833a-592521b59824\",\"type\":\"Legend\"}],\"below\":[{\"id\":\"b4e562aa-b2d1-48a9-81c6-59349443200f\",\"type\":\"LinearAxis\"}],\"left\":[{\"id\":\"afcc51b9-d95d-4f32-90bf-45e1ce46c0db\",\"type\":\"LogAxis\"}],\"plot_width\":300,\"renderers\":[{\"id\":\"b4e562aa-b2d1-48a9-81c6-59349443200f\",\"type\":\"LinearAxis\"},{\"id\":\"b307af9f-2a63-4479-8f4b-be262129f109\",\"type\":\"Grid\"},{\"id\":\"afcc51b9-d95d-4f32-90bf-45e1ce46c0db\",\"type\":\"LogAxis\"},{\"id\":\"634c9ece-ad5f-4656-802c-7f10f8577e17\",\"type\":\"Grid\"},{\"id\":\"1bb8951a-a147-443c-8e25-51935529abcf\",\"type\":\"BoxAnnotation\"},{\"id\":\"2f44da26-d019-4349-9dc3-4a4b9d4d14f1\",\"type\":\"GlyphRenderer\"},{\"id\":\"751ec7cd-6fe0-4336-a933-e3a87d2f31ac\",\"type\":\"GlyphRenderer\"},{\"id\":\"d07e0e69-f5f6-452f-833a-592521b59824\",\"type\":\"Legend\"}],\"title\":{\"id\":\"8ae1ca6d-4981-4dac-bba6-1b7f94ccf1be\",\"type\":\"Title\"},\"toolbar\":{\"id\":\"5c5b3e7e-7059-45d2-b739-bd56f5f8e0a0\",\"type\":\"Toolbar\"},\"toolbar_location\":null,\"x_range\":{\"id\":\"cae18652-07ab-4f65-8cc7-6f9ffcdc01a5\",\"type\":\"Range1d\"},\"x_scale\":{\"id\":\"265d6573-fc47-4cae-8724-f5c92a8f7695\",\"type\":\"LinearScale\"},\"y_range\":{\"id\":\"a75f9d3b-9074-48b6-ac35-2a8637d9e952\",\"type\":\"Range1d\"},\"y_scale\":{\"id\":\"ae960532-619d-4050-8864-acfcee7eb39e\",\"type\":\"LogScale\"}},\"id\":\"3b57de9e-09cd-45db-8dec-021c0d5dc096\",\"subtype\":\"Figure\",\"type\":\"Plot\"},{\"attributes\":{\"line_alpha\":0.1,\"line_color\":\"#1f77b4\",\"line_dash\":[6],\"line_width\":5,\"x\":{\"field\":\"x\"},\"y\":{\"field\":\"y\"}},\"id\":\"cf17977d-63c4-48d6-88b8-be81866a6a62\",\"type\":\"Line\"},{\"attributes\":{\"num_minor_ticks\":10},\"id\":\"6d8f25c1-7f6c-452b-8e60-c1f4d5b6897b\",\"type\":\"LogTicker\"},{\"attributes\":{\"line_alpha\":0.6,\"line_color\":\"#377eb8\",\"line_dash\":[6],\"line_width\":5,\"x\":{\"field\":\"x\"},\"y\":{\"field\":\"y\"}},\"id\":\"b9bbb875-ff05-45ef-8937-c92cfb329a4a\",\"type\":\"Line\"},{\"attributes\":{\"axis_label\":\"pressure [mb]\",\"formatter\":{\"id\":\"d2fe0625-f362-45f1-ba07-c9886f69d886\",\"type\":\"LogTickFormatter\"},\"plot\":{\"id\":\"b4f51a73-c0be-4c16-845d-498766d7c2d0\",\"subtype\":\"Figure\",\"type\":\"Plot\"},\"ticker\":{\"id\":\"6d8f25c1-7f6c-452b-8e60-c1f4d5b6897b\",\"type\":\"LogTicker\"}},\"id\":\"e8f2aabb-2169-46a6-a0c3-cba3c7427083\",\"type\":\"LogAxis\"},{\"attributes\":{\"label\":{\"value\":\"CRD\"},\"renderers\":[{\"id\":\"d4efb013-9ccf-409d-b67c-abc551beb584\",\"type\":\"GlyphRenderer\"},{\"id\":\"b9551927-6be3-4c03-9a1a-69cb4bb7f766\",\"type\":\"GlyphRenderer\"}]},\"id\":\"9087cae6-493f-489f-9890-0b53cdd9f3ff\",\"type\":\"LegendItem\"},{\"attributes\":{\"label\":{\"value\":\"CLIRAD (single-run)\"},\"renderers\":[{\"id\":\"748c6358-e3fe-4698-afa2-a9732b16e479\",\"type\":\"GlyphRenderer\"}]},\"id\":\"93afe450-31b2-4024-aa80-3fc57eb364a0\",\"type\":\"LegendItem\"},{\"attributes\":{},\"id\":\"c820b244-43f9-497b-86e6-e0345add0d7f\",\"type\":\"PanTool\"},{\"attributes\":{\"fill_alpha\":{\"value\":0.7},\"fill_color\":{\"value\":\"#4daf4a\"},\"line_alpha\":{\"value\":0.7},\"line_color\":{\"value\":\"#4daf4a\"},\"x\":{\"field\":\"x\"},\"y\":{\"field\":\"y\"}},\"id\":\"1bda0b98-afce-4162-bcae-04ea23262821\",\"type\":\"Circle\"},{\"attributes\":{\"plot\":{\"id\":\"a87206aa-171f-4630-a475-e2f48fffb6f5\",\"subtype\":\"Figure\",\"type\":\"Plot\"},\"ticker\":{\"id\":\"e732acf2-d395-468c-8a4e-26ab58234fb4\",\"type\":\"BasicTicker\"}},\"id\":\"b91f6b6a-d9c3-471d-ae5b-68ef981f0636\",\"type\":\"Grid\"},{\"attributes\":{\"axis_label\":\"pressure [mb]\",\"formatter\":{\"id\":\"4332a8e4-cc3b-4fc2-964b-645f420cd9ff\",\"type\":\"BasicTickFormatter\"},\"plot\":{\"id\":\"a87206aa-171f-4630-a475-e2f48fffb6f5\",\"subtype\":\"Figure\",\"type\":\"Plot\"},\"ticker\":{\"id\":\"59749bdd-006a-492f-b8d3-a6d4f43e4bcc\",\"type\":\"BasicTicker\"}},\"id\":\"dd528f87-a9da-4a84-a170-4b2dc958a058\",\"type\":\"LinearAxis\"},{\"attributes\":{},\"id\":\"d6f1272c-48e3-4ede-868f-fe2b3767308c\",\"type\":\"SaveTool\"},{\"attributes\":{\"tools\":[{\"id\":\"c820b244-43f9-497b-86e6-e0345add0d7f\",\"type\":\"PanTool\"},{\"id\":\"04a3e193-9d27-435d-9a3c-3a8f8c2b2537\",\"type\":\"WheelZoomTool\"},{\"id\":\"36a16ac5-bcfe-43ef-91e1-4e5953aeed9d\",\"type\":\"BoxZoomTool\"},{\"id\":\"f8b59213-81d3-48c8-89a5-b1999b761ac9\",\"type\":\"SaveTool\"},{\"id\":\"a1284a9a-c692-47db-86cb-8113445b2e2d\",\"type\":\"ResetTool\"},{\"id\":\"3af4ec63-1ed0-44c1-b2b1-71f58a8c4731\",\"type\":\"HelpTool\"},{\"id\":\"976436eb-3c18-4492-8548-419d09e9ec4d\",\"type\":\"PanTool\"},{\"id\":\"3659d76f-592f-4066-a7d7-5e137d6dfe70\",\"type\":\"WheelZoomTool\"},{\"id\":\"b99fe097-2d4d-44f0-a4af-d795fcf7b894\",\"type\":\"BoxZoomTool\"},{\"id\":\"d6f1272c-48e3-4ede-868f-fe2b3767308c\",\"type\":\"SaveTool\"},{\"id\":\"ce285234-7cf2-40ae-ba6c-5b0e9a61b2a3\",\"type\":\"ResetTool\"},{\"id\":\"e8008547-07a8-43b8-b63a-7207819790e3\",\"type\":\"HelpTool\"},{\"id\":\"524f2907-13bf-4c1c-954a-95abb5e3adf8\",\"type\":\"PanTool\"},{\"id\":\"74f1eba2-5767-4dc1-9261-8cab27e47126\",\"type\":\"WheelZoomTool\"},{\"id\":\"4c2a72c3-a072-45f9-9f37-807265c803ed\",\"type\":\"BoxZoomTool\"},{\"id\":\"0ce3229e-55fd-4e6c-8868-e88ceb15944d\",\"type\":\"SaveTool\"},{\"id\":\"de760fc3-7caa-4cf1-a2e4-43be18bd6193\",\"type\":\"ResetTool\"},{\"id\":\"86d5d0ab-856d-4b7e-949e-785025280888\",\"type\":\"HelpTool\"}]},\"id\":\"d67d2c41-fdf6-4672-be19-97c2c400ffef\",\"type\":\"ProxyToolbar\"},{\"attributes\":{\"line_alpha\":0.1,\"line_color\":\"#1f77b4\",\"line_dash\":[6],\"line_width\":5,\"x\":{\"field\":\"x\"},\"y\":{\"field\":\"y\"}},\"id\":\"8e71a26c-b60e-4abb-a812-ba564d0b59aa\",\"type\":\"Line\"},{\"attributes\":{\"callback\":null,\"data\":{\"x\":{\"__ndarray__\":\"UTI5tTOWQEA6qpog6o48QIeiQJ/IWz5AIO9VKxP2PkDWicvxCgg+QNjYJaq3ijtAdCZtqu7ZN0DMK9fbZtIzQMGpDyTvgDBAwoanV8pCLUDgEKrU7FEsQBU5RNyc2ixA2SssuB+4LUCFZAETuD0tQJCF6BA4oipAg0nx8QlJJ0DvHqD7cnYkQGwldJfE0SJAaVDZVe2jIkBEIiNWNbsjQAfqlEc3KiZADmlU4GSrJUA+eO3ShichQPQDsjJ1YhlARqXHpeBnE0DWZlL5jbUPQLq5nSIsvwpATD1m++vQBUCy3Zj5aScCQMl9YejHdf8/dFyN7EoL/T9Sye8jbdn4P11n6EQnMPQ/lk1vNaEf8T9iAitF+sbuP4u1S10qXew/oyLK7jR/5z+71pyL2CrhP9gHYYeU090/04fLfbQw3T9MK66/X6veP7JeFFaNUt4/ntyEtRDo3D9WlLfI4mPaP4styo2e8tI/v8QOGUUF0T9ByMOMOkTcP/NercGYwOM/FmX8HJu06z+h2uBE9CvyPzVROkfTb/U/6QJNOoCU9z9CkZMuonL4P43209qPb/g/BkQtcvQ9+D/Khtrb0u/3P7GPqRZsfvc/Y4oo3OHl9j9dq5il+DP2P1TjpZvEgPU/634EtGO59D/hNI6iGOrzP2WzNAHQEvM/beaQ1EJJ8j+cTNwqiKHxP1TmQdVDL/E/wzjJoCQO8T8A2G/cGFHxPxAo9iv4qPE/HxFTIole8T9uvccV7ofvP9t1RsYwiOo/q3E+jkmT5T+A5MbCSkThP1xYN94d2SXA\",\"dtype\":\"float64\",\"shape\":[75]},\"y\":{\"__ndarray__\":\"GhExyth1ND/Sv8nbtpRIP2vylNV0PVE/aTum7souWD/At0SJ8fVgPw3Iuahxymc/MSNhhJWvcD/bTfBN02d3P2zb5nxnaoA/CD5h5MAGhz8NmeH1TyaQP+zrCsc9p5Y/LbKd76fGnz/bLW5ISEmmPww9YvTcQq8/JV2OstnstT8Er5Y7M8G+P0c+r3jqkcU/5h99k6ZBzj88bCIzFzjVP4enV8oyxN0//yH99nXg5D8qOpLLf0jtP5kqGJXUifQ/c9cS8kHP/D+/DpwzojQEQIEmwoanVwxA4lgXt9HgE0BSSZ2AJuIbQAMJih9jjiNA5q4l5INuK0AwTKYKRj0zQNv5fmq8/DpAaCJseHrtQkB/+zpwzoxKQM3MzMzMeFJAZmZmZmZqWEAAAAAAAFxeQM3MzMzMJmJAmpmZmZkfZUBmZmZmZhhoQDMzMzMzEWtAAAAAAAAKbkBmZmZmZoFwQM3MzMzM/XFAMzMzMzN6c0CamZmZmfZ0QAAAAAAAc3ZAZmZmZmbvd0DNzMzMzGt5QDMzMzMz6HpAmpmZmZlkfEAAAAAAAOF9QGZmZmZmXX9AZmZmZuZsgECamZmZGSuBQM3MzMxM6YFAAAAAAICngkAzMzMzs2WDQGZmZmbmI4RAmpmZmRnihEDNzMzMTKCFQAAAAACAXoZAMzMzM7Mch0BmZmZm5tqHQJqZmZkZmYhAzczMzExXiUAAAAAAgBWKQDMzMzOz04pAZmZmZuaRi0CamZmZGVCMQM3MzMxMDo1AAAAAAIDMjUAzMzMzs4qOQGZmZmbmSI9A\",\"dtype\":\"float64\",\"shape\":[75]}},\"selected\":{\"id\":\"5c19bd94-b718-4109-b321-0bc7bd9ce02f\",\"type\":\"Selection\"},\"selection_policy\":{\"id\":\"ca67da6e-3553-4c4c-8873-533543b042b3\",\"type\":\"UnionRenderers\"}},\"id\":\"8c1d76aa-88a7-45d8-bb05-8b5920292b08\",\"type\":\"ColumnDataSource\"},{\"attributes\":{},\"id\":\"1cd4ca36-be80-4a4b-81a0-b76d667ecb21\",\"type\":\"LinearScale\"},{\"attributes\":{},\"id\":\"c33e6ab2-af10-44db-9939-d08b7987983a\",\"type\":\"UnionRenderers\"},{\"attributes\":{\"source\":{\"id\":\"8c1d76aa-88a7-45d8-bb05-8b5920292b08\",\"type\":\"ColumnDataSource\"}},\"id\":\"85aac24a-14d9-4312-8e44-bc45aaf002d3\",\"type\":\"CDSView\"},{\"attributes\":{},\"id\":\"a1284a9a-c692-47db-86cb-8113445b2e2d\",\"type\":\"ResetTool\"},{\"attributes\":{\"line_alpha\":0.6,\"line_color\":\"#377eb8\",\"line_dash\":[6],\"line_width\":5,\"x\":{\"field\":\"x\"},\"y\":{\"field\":\"y\"}},\"id\":\"f5b1186e-c8d3-47ac-8f28-8e01f14ce018\",\"type\":\"Line\"},{\"attributes\":{},\"id\":\"59749bdd-006a-492f-b8d3-a6d4f43e4bcc\",\"type\":\"BasicTicker\"},{\"attributes\":{},\"id\":\"3af4ec63-1ed0-44c1-b2b1-71f58a8c4731\",\"type\":\"HelpTool\"},{\"attributes\":{\"data_source\":{\"id\":\"8c1d76aa-88a7-45d8-bb05-8b5920292b08\",\"type\":\"ColumnDataSource\"},\"glyph\":{\"id\":\"f5b1186e-c8d3-47ac-8f28-8e01f14ce018\",\"type\":\"Line\"},\"hover_glyph\":null,\"muted_glyph\":null,\"nonselection_glyph\":{\"id\":\"8e71a26c-b60e-4abb-a812-ba564d0b59aa\",\"type\":\"Line\"},\"selection_glyph\":null,\"view\":{\"id\":\"85aac24a-14d9-4312-8e44-bc45aaf002d3\",\"type\":\"CDSView\"}},\"id\":\"748c6358-e3fe-4698-afa2-a9732b16e479\",\"type\":\"GlyphRenderer\"},{\"attributes\":{\"callback\":null,\"data\":{\"x\":{\"__ndarray__\":\"0CYBcvU5UkCik9zf2GVBQF1VoNfLZ0BAVLxhiVXTPUDD1Wu1wJM6QFJyB025jjdAU6Aw5+b/NECYe1uuDfgyQB6bYtVTbTFAPxYSAF1HMEA00pYVm9QuQLolHbMzgC1AntlwirGsLECv+G9SjE4rQJH6ZLBp0ShAsLZQyPd/JkDyjgyf2PwkQLgyNGsrJyRAA13QbJD6I0C8hy0ilI4kQOVTXCEgcSZAovOGvZSGJUBVc/ZmUOIgQOf/6GHAyRlAcE8fAOBSFEDRur1U//gPQGFD9ZbokghAQsqHuSqSA0C91ci3W0UBQCtRQfvz7/4/kh8pntyB+j9t1/n+4TX1P773MAUjFfI/RgzR+CI28T8hBW8WHK7uPzVKjJfU8uk/0FPt4/z65T/wVYqzMPDhPz7K9C5CXuE/8+hSn9hY4T/9PPCkR6rhP1XsIC599OA/66X1nBCX3z/YbRM56QjcPz4dkSQc/dM/S7Wb8Fq00T+/yQdmX0vcP7TrGf476eM/WqNPJoWO7D9qOH1bcwDzP2bw+R5DQ/Y/RLSuQOQp+D8+aif8yAz5P0Wv6eBKRfk/0i2+IN4R+T/ik8QNFZr4PyS5UD5j/Pc/yJ68zXRG9z/2CHPL54H2P59SOhwKtPU/npkP8dfg9D8NlmVcdQz0P80ugRvuOvM/byxiAHN18j9USVZie8nxP5l9lNXYSPE/OB+F0UYP8T8Y7dsUCTHxP3EBgTHPcPE/bfx15p8S8T8FT+xkGtTuP6mdG7rkxuk/pboqTkHX5D/CrN8qGYngP7R4ZaL+htU/\",\"dtype\":\"float64\",\"shape\":[75]},\"y\":{\"__ndarray__\":\"GhExyth1ND/Sv8nbtpRIP2vylNV0PVE/aTum7souWD/At0SJ8fVgPw3Iuahxymc/MSNhhJWvcD/bTfBN02d3P2zb5nxnaoA/CD5h5MAGhz8NmeH1TyaQP+zrCsc9p5Y/LbKd76fGnz/bLW5ISEmmPww9YvTcQq8/JV2OstnstT8Er5Y7M8G+P0c+r3jqkcU/5h99k6ZBzj88bCIzFzjVP4enV8oyxN0//yH99nXg5D8qOpLLf0jtP5kqGJXUifQ/c9cS8kHP/D+/DpwzojQEQIEmwoanVwxA4lgXt9HgE0BSSZ2AJuIbQAMJih9jjiNA5q4l5INuK0AwTKYKRj0zQNv5fmq8/DpAaCJseHrtQkB/+zpwzoxKQM3MzMzMeFJAZmZmZmZqWEAAAAAAAFxeQM3MzMzMJmJAmpmZmZkfZUBmZmZmZhhoQDMzMzMzEWtAAAAAAAAKbkBmZmZmZoFwQM3MzMzM/XFAMzMzMzN6c0CamZmZmfZ0QAAAAAAAc3ZAZmZmZmbvd0DNzMzMzGt5QDMzMzMz6HpAmpmZmZlkfEAAAAAAAOF9QGZmZmZmXX9AZmZmZuZsgECamZmZGSuBQM3MzMxM6YFAAAAAAICngkAzMzMzs2WDQGZmZmbmI4RAmpmZmRnihEDNzMzMTKCFQAAAAACAXoZAMzMzM7Mch0BmZmZm5tqHQJqZmZkZmYhAzczMzExXiUAAAAAAgBWKQDMzMzOz04pAZmZmZuaRi0CamZmZGVCMQM3MzMxMDo1AAAAAAIDMjUAzMzMzs4qOQGZmZmbmSI9A\",\"dtype\":\"float64\",\"shape\":[75]}},\"selected\":{\"id\":\"7014f491-df37-4a65-8f61-8d48bfc84933\",\"type\":\"Selection\"},\"selection_policy\":{\"id\":\"d063453c-d9e2-4c91-af7b-d514306b3c4b\",\"type\":\"UnionRenderers\"}},\"id\":\"a293c7b3-e545-44e4-94c6-92eb4740ea37\",\"type\":\"ColumnDataSource\"},{\"attributes\":{},\"id\":\"1eaaa091-a41c-4b8c-9d11-acd65cb87bf4\",\"type\":\"Selection\"},{\"attributes\":{\"callback\":null,\"end\":16.436989472609937,\"start\":0.29787106898406},\"id\":\"72105846-15d8-448f-92b1-ea3b5a25f6a2\",\"type\":\"Range1d\"},{\"attributes\":{\"source\":{\"id\":\"a2094bbf-54c9-4985-a213-a7773f054587\",\"type\":\"ColumnDataSource\"}},\"id\":\"a011d8bb-9e6a-4ee3-8eb3-33a1ad199580\",\"type\":\"CDSView\"},{\"attributes\":{\"label\":{\"value\":\"CLIRAD (single-run) - CRD\"},\"renderers\":[{\"id\":\"2f44da26-d019-4349-9dc3-4a4b9d4d14f1\",\"type\":\"GlyphRenderer\"},{\"id\":\"751ec7cd-6fe0-4336-a933-e3a87d2f31ac\",\"type\":\"GlyphRenderer\"}]},\"id\":\"77cd3382-04b4-4c07-b15a-9353b8da6f7a\",\"type\":\"LegendItem\"},{\"attributes\":{\"overlay\":{\"id\":\"6f4d7e55-217f-4289-b699-26e0fa418bc4\",\"type\":\"BoxAnnotation\"}},\"id\":\"36a16ac5-bcfe-43ef-91e1-4e5953aeed9d\",\"type\":\"BoxZoomTool\"},{\"attributes\":{},\"id\":\"3659d76f-592f-4066-a7d7-5e137d6dfe70\",\"type\":\"WheelZoomTool\"},{\"attributes\":{},\"id\":\"72ea6155-b1ac-4759-b49c-e79a38d8f6a0\",\"type\":\"Selection\"},{\"attributes\":{\"children\":[{\"id\":\"a87206aa-171f-4630-a475-e2f48fffb6f5\",\"subtype\":\"Figure\",\"type\":\"Plot\"},{\"id\":\"b4f51a73-c0be-4c16-845d-498766d7c2d0\",\"subtype\":\"Figure\",\"type\":\"Plot\"},{\"id\":\"3b57de9e-09cd-45db-8dec-021c0d5dc096\",\"subtype\":\"Figure\",\"type\":\"Plot\"}]},\"id\":\"1e510d00-df00-4469-9e00-225b723a87d1\",\"type\":\"Row\"},{\"attributes\":{\"axis_label\":\"cooling rate [K/day]\",\"formatter\":{\"id\":\"ba35319e-368e-4a27-96b1-e3f10fdd1141\",\"type\":\"BasicTickFormatter\"},\"plot\":{\"id\":\"3b57de9e-09cd-45db-8dec-021c0d5dc096\",\"subtype\":\"Figure\",\"type\":\"Plot\"},\"ticker\":{\"id\":\"bb640468-0e1c-43cf-ae1c-0f284e570728\",\"type\":\"BasicTicker\"}},\"id\":\"b4e562aa-b2d1-48a9-81c6-59349443200f\",\"type\":\"LinearAxis\"},{\"attributes\":{\"callback\":null,\"data\":{\"x\":{\"__ndarray__\":\"UTI5tTOWQEA6qpog6o48QIeiQJ/IWz5AIO9VKxP2PkDWicvxCgg+QNjYJaq3ijtAdCZtqu7ZN0DMK9fbZtIzQMGpDyTvgDBAwoanV8pCLUDgEKrU7FEsQBU5RNyc2ixA2SssuB+4LUCFZAETuD0tQJCF6BA4oipAg0nx8QlJJ0DvHqD7cnYkQGwldJfE0SJAaVDZVe2jIkBEIiNWNbsjQAfqlEc3KiZADmlU4GSrJUA+eO3ShichQPQDsjJ1YhlARqXHpeBnE0DWZlL5jbUPQLq5nSIsvwpATD1m++vQBUCy3Zj5aScCQMl9YejHdf8/dFyN7EoL/T9Sye8jbdn4P11n6EQnMPQ/lk1vNaEf8T9iAitF+sbuP4u1S10qXew/oyLK7jR/5z+71pyL2CrhP9gHYYeU090/04fLfbQw3T9MK66/X6veP7JeFFaNUt4/ntyEtRDo3D9WlLfI4mPaP4styo2e8tI/v8QOGUUF0T9ByMOMOkTcP/NercGYwOM/FmX8HJu06z+h2uBE9CvyPzVROkfTb/U/6QJNOoCU9z9CkZMuonL4P43209qPb/g/BkQtcvQ9+D/Khtrb0u/3P7GPqRZsfvc/Y4oo3OHl9j9dq5il+DP2P1TjpZvEgPU/634EtGO59D/hNI6iGOrzP2WzNAHQEvM/beaQ1EJJ8j+cTNwqiKHxP1TmQdVDL/E/wzjJoCQO8T8A2G/cGFHxPxAo9iv4qPE/HxFTIole8T9uvccV7ofvP9t1RsYwiOo/q3E+jkmT5T+A5MbCSkThP1xYN94d2SXA\",\"dtype\":\"float64\",\"shape\":[75]},\"y\":{\"__ndarray__\":\"GhExyth1ND/Sv8nbtpRIP2vylNV0PVE/aTum7souWD/At0SJ8fVgPw3Iuahxymc/MSNhhJWvcD/bTfBN02d3P2zb5nxnaoA/CD5h5MAGhz8NmeH1TyaQP+zrCsc9p5Y/LbKd76fGnz/bLW5ISEmmPww9YvTcQq8/JV2OstnstT8Er5Y7M8G+P0c+r3jqkcU/5h99k6ZBzj88bCIzFzjVP4enV8oyxN0//yH99nXg5D8qOpLLf0jtP5kqGJXUifQ/c9cS8kHP/D+/DpwzojQEQIEmwoanVwxA4lgXt9HgE0BSSZ2AJuIbQAMJih9jjiNA5q4l5INuK0AwTKYKRj0zQNv5fmq8/DpAaCJseHrtQkB/+zpwzoxKQM3MzMzMeFJAZmZmZmZqWEAAAAAAAFxeQM3MzMzMJmJAmpmZmZkfZUBmZmZmZhhoQDMzMzMzEWtAAAAAAAAKbkBmZmZmZoFwQM3MzMzM/XFAMzMzMzN6c0CamZmZmfZ0QAAAAAAAc3ZAZmZmZmbvd0DNzMzMzGt5QDMzMzMz6HpAmpmZmZlkfEAAAAAAAOF9QGZmZmZmXX9AZmZmZuZsgECamZmZGSuBQM3MzMxM6YFAAAAAAICngkAzMzMzs2WDQGZmZmbmI4RAmpmZmRnihEDNzMzMTKCFQAAAAACAXoZAMzMzM7Mch0BmZmZm5tqHQJqZmZkZmYhAzczMzExXiUAAAAAAgBWKQDMzMzOz04pAZmZmZuaRi0CamZmZGVCMQM3MzMxMDo1AAAAAAIDMjUAzMzMzs4qOQGZmZmbmSI9A\",\"dtype\":\"float64\",\"shape\":[75]}},\"selected\":{\"id\":\"6278cfa6-68d3-4f60-a071-e3b1e758ebee\",\"type\":\"Selection\"},\"selection_policy\":{\"id\":\"9cfe26d5-ea1d-4a93-9462-721791e83815\",\"type\":\"UnionRenderers\"}},\"id\":\"5b549476-922a-49a9-b6f2-55b225e61ffa\",\"type\":\"ColumnDataSource\"},{\"attributes\":{\"source\":{\"id\":\"1fa32141-2029-49c0-8368-331089f82b59\",\"type\":\"ColumnDataSource\"}},\"id\":\"5167b29a-0750-4c68-a912-59914e1cabe0\",\"type\":\"CDSView\"},{\"attributes\":{\"callback\":null,\"end\":150.564930126634,\"start\":3.028544283586},\"id\":\"cae18652-07ab-4f65-8cc7-6f9ffcdc01a5\",\"type\":\"Range1d\"},{\"attributes\":{\"plot\":{\"id\":\"3b57de9e-09cd-45db-8dec-021c0d5dc096\",\"subtype\":\"Figure\",\"type\":\"Plot\"},\"ticker\":{\"id\":\"bb640468-0e1c-43cf-ae1c-0f284e570728\",\"type\":\"BasicTicker\"}},\"id\":\"b307af9f-2a63-4479-8f4b-be262129f109\",\"type\":\"Grid\"},{\"attributes\":{\"overlay\":{\"id\":\"50eabd8d-9382-4334-a153-06f7b20d863b\",\"type\":\"BoxAnnotation\"}},\"id\":\"b99fe097-2d4d-44f0-a4af-d795fcf7b894\",\"type\":\"BoxZoomTool\"},{\"attributes\":{},\"id\":\"6278cfa6-68d3-4f60-a071-e3b1e758ebee\",\"type\":\"Selection\"},{\"attributes\":{},\"id\":\"ca67da6e-3553-4c4c-8873-533543b042b3\",\"type\":\"UnionRenderers\"},{\"attributes\":{},\"id\":\"d1bf39a5-b4e4-466d-8fc5-045c8c6198a2\",\"type\":\"UnionRenderers\"},{\"attributes\":{\"line_alpha\":0.1,\"line_color\":\"#1f77b4\",\"line_width\":1.5,\"x\":{\"field\":\"x\"},\"y\":{\"field\":\"y\"}},\"id\":\"fa65c9fc-3622-4dda-b549-9bc2418ffee1\",\"type\":\"Line\"},{\"attributes\":{},\"id\":\"f8b59213-81d3-48c8-89a5-b1999b761ac9\",\"type\":\"SaveTool\"},{\"attributes\":{\"data_source\":{\"id\":\"1fa32141-2029-49c0-8368-331089f82b59\",\"type\":\"ColumnDataSource\"},\"glyph\":{\"id\":\"4db43a3d-c09a-4d4f-a785-6854ecf47480\",\"type\":\"Line\"},\"hover_glyph\":null,\"muted_glyph\":null,\"nonselection_glyph\":{\"id\":\"fa65c9fc-3622-4dda-b549-9bc2418ffee1\",\"type\":\"Line\"},\"selection_glyph\":null,\"view\":{\"id\":\"5167b29a-0750-4c68-a912-59914e1cabe0\",\"type\":\"CDSView\"}},\"id\":\"751ec7cd-6fe0-4336-a933-e3a87d2f31ac\",\"type\":\"GlyphRenderer\"},{\"attributes\":{},\"id\":\"e8008547-07a8-43b8-b63a-7207819790e3\",\"type\":\"HelpTool\"},{\"attributes\":{\"plot\":null,\"text\":\"\"},\"id\":\"714e520c-6e3e-4b67-8337-721587a7c6b1\",\"type\":\"Title\"},{\"attributes\":{},\"id\":\"4332a8e4-cc3b-4fc2-964b-645f420cd9ff\",\"type\":\"BasicTickFormatter\"},{\"attributes\":{\"active_drag\":\"auto\",\"active_inspect\":\"auto\",\"active_scroll\":\"auto\",\"active_tap\":\"auto\",\"tools\":[{\"id\":\"524f2907-13bf-4c1c-954a-95abb5e3adf8\",\"type\":\"PanTool\"},{\"id\":\"74f1eba2-5767-4dc1-9261-8cab27e47126\",\"type\":\"WheelZoomTool\"},{\"id\":\"4c2a72c3-a072-45f9-9f37-807265c803ed\",\"type\":\"BoxZoomTool\"},{\"id\":\"0ce3229e-55fd-4e6c-8868-e88ceb15944d\",\"type\":\"SaveTool\"},{\"id\":\"de760fc3-7caa-4cf1-a2e4-43be18bd6193\",\"type\":\"ResetTool\"},{\"id\":\"86d5d0ab-856d-4b7e-949e-785025280888\",\"type\":\"HelpTool\"}]},\"id\":\"5c5b3e7e-7059-45d2-b739-bd56f5f8e0a0\",\"type\":\"Toolbar\"},{\"attributes\":{},\"id\":\"bb640468-0e1c-43cf-ae1c-0f284e570728\",\"type\":\"BasicTicker\"},{\"attributes\":{},\"id\":\"075ca632-1908-4309-a23a-80615f4524e6\",\"type\":\"BasicTickFormatter\"},{\"attributes\":{\"callback\":null,\"data\":{\"x\":{\"__ndarray__\":\"e1uuvAlAckCUwm7ahXVxQBJliHIg0nJAofg01fdrc0BnMeV6S/xyQPCNKbBydnFA1ABwTasrbkDGbHy4S+JoQAU26Vaeg2RA3elAfP8UYkB3ftsgCYthQOMUPZxI/mFAi1D3tcqjYkCR9enHhWViQCmMmfBvwmBAPq6hs240XUCqmBoGQ4NZQB4t2eKIW1dA8MJwSBQiV0AmnirSlo9YQE43Qf7nq1tA/zHDHNgaW0DqtidVD3pVQHGldxkprk9AUpnu43gkSEAHyxymQc1DQHobXc4/2kBAAZt7Iv+MO0AdFjlAhs02QGjxDjD6sTNAl52+uKVPMkDkeYrROYQvQChvGZ6RfylAJuleSrlkJUBRoSZO6j0jQCxIq9bf4CFAJkXYK4mPHUCDXIap41wVQB0cNNetVRJAQ5CRAmHmEUAltinfiOASQJDjaYUxuhJAT/37chrmEUAe/2xWHWQQQPjaY372jQdA3ddgpLMwBUARHWZKMqoRQBcli4qqqxhASYuIUUJDIUCPhUVzYZwmQJ3xEB5asSpAeA0UyPNmLUBy+oXgBXwuQBo9xnC8cC5AzHfmWPQyLkDa5pNMf9YtQG4OXzdITi1AbioA9UeTLECBikPqOLcrQEDOfBKN2ipAUDtkGc7iKUDz1fYzU+AoQNJQOD6A0idASPc6hA3WJkAtIKTO6wQmQAENiCridyVAJgrkgolRJUBdS34MYaklQOhWQlY7GiZA/Xdjkqi/JUBMjaoIMsAjQCy3rjwzoSBA9oTQ+ZwPG0CYhHWmw6wVQPZ+LhAQIF7A\",\"dtype\":\"float64\",\"shape\":[75]},\"y\":{\"__ndarray__\":\"GhExyth1ND/Sv8nbtpRIP2vylNV0PVE/aTum7souWD/At0SJ8fVgPw3Iuahxymc/MSNhhJWvcD/bTfBN02d3P2zb5nxnaoA/CD5h5MAGhz8NmeH1TyaQP+zrCsc9p5Y/LbKd76fGnz/bLW5ISEmmPww9YvTcQq8/JV2OstnstT8Er5Y7M8G+P0c+r3jqkcU/5h99k6ZBzj88bCIzFzjVP4enV8oyxN0//yH99nXg5D8qOpLLf0jtP5kqGJXUifQ/c9cS8kHP/D+/DpwzojQEQIEmwoanVwxA4lgXt9HgE0BSSZ2AJuIbQAMJih9jjiNA5q4l5INuK0AwTKYKRj0zQNv5fmq8/DpAaCJseHrtQkB/+zpwzoxKQM3MzMzMeFJAZmZmZmZqWEAAAAAAAFxeQM3MzMzMJmJAmpmZmZkfZUBmZmZmZhhoQDMzMzMzEWtAAAAAAAAKbkBmZmZmZoFwQM3MzMzM/XFAMzMzMzN6c0CamZmZmfZ0QAAAAAAAc3ZAZmZmZmbvd0DNzMzMzGt5QDMzMzMz6HpAmpmZmZlkfEAAAAAAAOF9QGZmZmZmXX9AZmZmZuZsgECamZmZGSuBQM3MzMxM6YFAAAAAAICngkAzMzMzs2WDQGZmZmbmI4RAmpmZmRnihEDNzMzMTKCFQAAAAACAXoZAMzMzM7Mch0BmZmZm5tqHQJqZmZkZmYhAzczMzExXiUAAAAAAgBWKQDMzMzOz04pAZmZmZuaRi0CamZmZGVCMQM3MzMxMDo1AAAAAAIDMjUAzMzMzs4qOQGZmZmbmSI9A\",\"dtype\":\"float64\",\"shape\":[75]}},\"selected\":{\"id\":\"1eaaa091-a41c-4b8c-9d11-acd65cb87bf4\",\"type\":\"Selection\"},\"selection_policy\":{\"id\":\"c33e6ab2-af10-44db-9939-d08b7987983a\",\"type\":\"UnionRenderers\"}},\"id\":\"1fa32141-2029-49c0-8368-331089f82b59\",\"type\":\"ColumnDataSource\"},{\"attributes\":{},\"id\":\"ce285234-7cf2-40ae-ba6c-5b0e9a61b2a3\",\"type\":\"ResetTool\"},{\"attributes\":{},\"id\":\"ae960532-619d-4050-8864-acfcee7eb39e\",\"type\":\"LogScale\"},{\"attributes\":{\"ticker\":null},\"id\":\"d2fe0625-f362-45f1-ba07-c9886f69d886\",\"type\":\"LogTickFormatter\"},{\"attributes\":{},\"id\":\"976436eb-3c18-4492-8548-419d09e9ec4d\",\"type\":\"PanTool\"},{\"attributes\":{},\"id\":\"d8115f99-27ba-4bf1-9516-422afe82c4f3\",\"type\":\"Selection\"},{\"attributes\":{},\"id\":\"24bf65df-bf36-40b5-b323-2e796c5a5258\",\"type\":\"Selection\"},{\"attributes\":{},\"id\":\"9cfe26d5-ea1d-4a93-9462-721791e83815\",\"type\":\"UnionRenderers\"},{\"attributes\":{},\"id\":\"049eb183-911d-4fa2-84ab-ba319b3cce23\",\"type\":\"LogScale\"},{\"attributes\":{\"axis_label\":\"pressure [mb]\",\"formatter\":{\"id\":\"92d6b497-37db-4627-b541-847bd8717baf\",\"type\":\"LogTickFormatter\"},\"plot\":{\"id\":\"3b57de9e-09cd-45db-8dec-021c0d5dc096\",\"subtype\":\"Figure\",\"type\":\"Plot\"},\"ticker\":{\"id\":\"f0379c35-0769-4bd0-a33e-295141196bf1\",\"type\":\"LogTicker\"}},\"id\":\"afcc51b9-d95d-4f32-90bf-45e1ce46c0db\",\"type\":\"LogAxis\"},{\"attributes\":{\"plot\":null,\"text\":\"\"},\"id\":\"8ae1ca6d-4981-4dac-bba6-1b7f94ccf1be\",\"type\":\"Title\"},{\"attributes\":{},\"id\":\"04a3e193-9d27-435d-9a3c-3a8f8c2b2537\",\"type\":\"WheelZoomTool\"},{\"attributes\":{},\"id\":\"ba35319e-368e-4a27-96b1-e3f10fdd1141\",\"type\":\"BasicTickFormatter\"},{\"attributes\":{},\"id\":\"71a1ce02-bea0-44fa-8baa-45c73dcf0d8c\",\"type\":\"LinearScale\"},{\"attributes\":{},\"id\":\"d063453c-d9e2-4c91-af7b-d514306b3c4b\",\"type\":\"UnionRenderers\"},{\"attributes\":{\"callback\":null,\"end\":1.7044518440189,\"start\":-11.049090731128901},\"id\":\"4abdf302-27c9-44be-8b49-306084972e9d\",\"type\":\"Range1d\"},{\"attributes\":{},\"id\":\"265d6573-fc47-4cae-8724-f5c92a8f7695\",\"type\":\"LinearScale\"},{\"attributes\":{\"children\":[{\"id\":\"1e510d00-df00-4469-9e00-225b723a87d1\",\"type\":\"Row\"}]},\"id\":\"82d4d9bc-7cf3-4608-a3a1-fdfe32660486\",\"type\":\"Column\"},{\"attributes\":{\"items\":[{\"id\":\"77cd3382-04b4-4c07-b15a-9353b8da6f7a\",\"type\":\"LegendItem\"}],\"label_text_font_size\":{\"value\":\"8pt\"},\"location\":\"top_center\",\"orientation\":\"horizontal\",\"plot\":{\"id\":\"3b57de9e-09cd-45db-8dec-021c0d5dc096\",\"subtype\":\"Figure\",\"type\":\"Plot\"}},\"id\":\"d07e0e69-f5f6-452f-833a-592521b59824\",\"type\":\"Legend\"},{\"attributes\":{\"bottom_units\":\"screen\",\"fill_alpha\":{\"value\":0.5},\"fill_color\":{\"value\":\"lightgrey\"},\"left_units\":\"screen\",\"level\":\"overlay\",\"line_alpha\":{\"value\":1.0},\"line_color\":{\"value\":\"black\"},\"line_dash\":[4,4],\"line_width\":{\"value\":2},\"plot\":null,\"render_mode\":\"css\",\"right_units\":\"screen\",\"top_units\":\"screen\"},\"id\":\"50eabd8d-9382-4334-a153-06f7b20d863b\",\"type\":\"BoxAnnotation\"},{\"attributes\":{},\"id\":\"ce5c4c87-b1df-49d4-9dfd-ac775b3bb60b\",\"type\":\"UnionRenderers\"},{\"attributes\":{\"plot\":null,\"text\":\"\"},\"id\":\"257a7e7f-b4f0-41d0-9daf-c7a0048f146c\",\"type\":\"Title\"},{\"attributes\":{\"dimension\":1,\"plot\":{\"id\":\"3b57de9e-09cd-45db-8dec-021c0d5dc096\",\"subtype\":\"Figure\",\"type\":\"Plot\"},\"ticker\":{\"id\":\"f0379c35-0769-4bd0-a33e-295141196bf1\",\"type\":\"LogTicker\"}},\"id\":\"634c9ece-ad5f-4656-802c-7f10f8577e17\",\"type\":\"Grid\"},{\"attributes\":{},\"id\":\"0e772fd8-c9f2-42aa-b644-df9a3c080984\",\"type\":\"UnionRenderers\"},{\"attributes\":{\"num_minor_ticks\":10},\"id\":\"f0379c35-0769-4bd0-a33e-295141196bf1\",\"type\":\"LogTicker\"},{\"attributes\":{\"ticker\":null},\"id\":\"92d6b497-37db-4627-b541-847bd8717baf\",\"type\":\"LogTickFormatter\"},{\"attributes\":{\"source\":{\"id\":\"22275459-95f1-4c6a-9dba-10a1c2dc9921\",\"type\":\"ColumnDataSource\"}},\"id\":\"e834dbc5-0e94-4b51-87d2-6411b3650b77\",\"type\":\"CDSView\"},{\"attributes\":{\"line_alpha\":0.8,\"line_color\":\"#984ea3\",\"line_width\":1.5,\"x\":{\"field\":\"x\"},\"y\":{\"field\":\"y\"}},\"id\":\"4db43a3d-c09a-4d4f-a785-6854ecf47480\",\"type\":\"Line\"},{\"attributes\":{\"data_source\":{\"id\":\"22275459-95f1-4c6a-9dba-10a1c2dc9921\",\"type\":\"ColumnDataSource\"},\"glyph\":{\"id\":\"6da7f505-8ad7-487b-bb68-8de6a9218615\",\"type\":\"Circle\"},\"hover_glyph\":null,\"muted_glyph\":null,\"nonselection_glyph\":{\"id\":\"171a58e2-bcb0-408b-b5a0-af05d97c65a2\",\"type\":\"Circle\"},\"selection_glyph\":null,\"view\":{\"id\":\"e834dbc5-0e94-4b51-87d2-6411b3650b77\",\"type\":\"CDSView\"}},\"id\":\"2f44da26-d019-4349-9dc3-4a4b9d4d14f1\",\"type\":\"GlyphRenderer\"},{\"attributes\":{},\"id\":\"af1acdc8-c1e7-462e-8acb-34491a3dae0e\",\"type\":\"BasicTickFormatter\"}],\"root_ids\":[\"679a0a0f-11a7-47ad-9b08-00cc12e32727\"]},\"title\":\"Bokeh Application\",\"version\":\"0.12.16\"}};\n",
       "  var render_items = [{\"docid\":\"4d9e5d77-d506-4001-89fb-bfe85dfcbfa4\",\"elementid\":\"df19a5dc-f06c-457e-be4e-8b3c8a3f73fc\",\"modelid\":\"679a0a0f-11a7-47ad-9b08-00cc12e32727\"}];\n",
       "  root.Bokeh.embed.embed_items_notebook(docs_json, render_items);\n",
       "\n",
       "  }\n",
       "  if (root.Bokeh !== undefined) {\n",
       "    embed_document(root);\n",
       "  } else {\n",
       "    var attempts = 0;\n",
       "    var timer = setInterval(function(root) {\n",
       "      if (root.Bokeh !== undefined) {\n",
       "        embed_document(root);\n",
       "        clearInterval(timer);\n",
       "      }\n",
       "      attempts++;\n",
       "      if (attempts > 100) {\n",
       "        console.log(\"Bokeh: ERROR: Unable to run BokehJS code because BokehJS library is missing\")\n",
       "        clearInterval(timer);\n",
       "      }\n",
       "    }, 10, root)\n",
       "  }\n",
       "})(window);"
      ],
      "application/vnd.bokehjs_exec.v0+json": ""
     },
     "metadata": {
      "application/vnd.bokehjs_exec.v0+json": {
       "id": "679a0a0f-11a7-47ad-9b08-00cc12e32727"
      }
     },
     "output_type": "display_data"
    },
    {
     "data": {
      "text/markdown": [
       "*FIGURE.* Cooling rates & difference."
      ],
      "text/plain": [
       "<IPython.core.display.Markdown object>"
      ]
     },
     "metadata": {},
     "output_type": "display_data"
    },
    {
     "data": {
      "text/html": [
       "<a id=\"Fluxes._saw.\"></a>"
      ],
      "text/plain": [
       "<IPython.core.display.HTML object>"
      ]
     },
     "metadata": {},
     "output_type": "display_data"
    },
    {
     "data": {
      "text/markdown": [
       "# Fluxes. saw."
      ],
      "text/plain": [
       "<IPython.core.display.Markdown object>"
      ]
     },
     "metadata": {},
     "output_type": "display_data"
    },
    {
     "data": {
      "text/html": [
       "\n",
       "<div class=\"bk-root\">\n",
       "    <div class=\"bk-plotdiv\" id=\"bdf710e7-2607-4ab0-8033-72dfa97d7e2d\"></div>\n",
       "</div>"
      ]
     },
     "metadata": {},
     "output_type": "display_data"
    },
    {
     "data": {
      "application/javascript": [
       "(function(root) {\n",
       "  function embed_document(root) {\n",
       "    \n",
       "  var docs_json = {\"47a2bb87-fa93-4c3c-a229-e87e935b6aeb\":{\"roots\":{\"references\":[{\"attributes\":{\"source\":{\"id\":\"c4a11df6-17c3-4f34-a91f-fe8a78edbd26\",\"type\":\"ColumnDataSource\"}},\"id\":\"7635eb9c-02fe-453e-b45b-e1603f1be0cf\",\"type\":\"CDSView\"},{\"attributes\":{\"callback\":null,\"factors\":[\"1\",\"2\",\"3\",\"4\",\"5\",\"6\",\"7\",\"8\",\"9\",\"10\",\"11\"]},\"id\":\"653a4b4f-3023-418b-9a30-9ad92d4b0970\",\"type\":\"FactorRange\"},{\"attributes\":{},\"id\":\"fe82111e-08b5-4417-bf2d-ddd5f8fa7fd6\",\"type\":\"CategoricalTicker\"},{\"attributes\":{\"callback\":null,\"data\":{\"band\":[\"1\",\"2\",\"3\",\"4\",\"5\",\"6\",\"7\",\"8\",\"9\",\"10\",\"11\"],\"flux\":{\"__ndarray__\":\"1j7bcsdGS8BgAyLElfxFwD8tUJxtMlLAlbt2OaoPUsCx9+KL9gBUwFCNl24SZVXAjQxyF2HgVcBlthrIaXdVwG9NFecDrFTAs/e+xX5tVMDZ08xie5BVwA==\",\"dtype\":\"float64\",\"shape\":[11]}},\"selected\":{\"id\":\"c61e5438-cc5f-4ea9-a846-eed8f21515d5\",\"type\":\"Selection\"},\"selection_policy\":{\"id\":\"41ba25b5-0443-41d6-8ba6-82b2badb7236\",\"type\":\"UnionRenderers\"}},\"id\":\"2a29c5a5-60e7-47ec-b8f2-949649207da2\",\"type\":\"ColumnDataSource\"},{\"attributes\":{\"plot\":null,\"text\":\"Atmosphere heating. CLIRAD (single-run) - CRD.\"},\"id\":\"f500d837-805b-4d9b-a9f3-37a06c12de2d\",\"type\":\"Title\"},{\"attributes\":{},\"id\":\"8d7a6b55-7df0-475c-b0c5-063f835828c6\",\"type\":\"SaveTool\"},{\"attributes\":{\"axis_label\":\"spectral band\",\"formatter\":{\"id\":\"766c7da6-da8f-4bce-ab2e-4630b9dc0e62\",\"type\":\"CategoricalTickFormatter\"},\"plot\":{\"id\":\"f5975de1-92d9-4b15-b31a-cd2dc7e889ed\",\"subtype\":\"Figure\",\"type\":\"Plot\"},\"ticker\":{\"id\":\"fe82111e-08b5-4417-bf2d-ddd5f8fa7fd6\",\"type\":\"CategoricalTicker\"}},\"id\":\"547b907d-be77-402c-b89f-c8891f0a7d50\",\"type\":\"CategoricalAxis\"},{\"attributes\":{\"plot\":null,\"text\":\"SFC flux. CLIRAD (single-run) - CRD.\"},\"id\":\"ed4c6d61-d027-4838-8962-9354a90e71dd\",\"type\":\"Title\"},{\"attributes\":{\"below\":[{\"id\":\"547b907d-be77-402c-b89f-c8891f0a7d50\",\"type\":\"CategoricalAxis\"}],\"left\":[{\"id\":\"88549a23-2f35-4395-88c4-4fc559bc24fe\",\"type\":\"LinearAxis\"}],\"plot_height\":300,\"plot_width\":300,\"renderers\":[{\"id\":\"547b907d-be77-402c-b89f-c8891f0a7d50\",\"type\":\"CategoricalAxis\"},{\"id\":\"2e74ac50-dfb4-45aa-8d41-b7ec049a75fd\",\"type\":\"Grid\"},{\"id\":\"88549a23-2f35-4395-88c4-4fc559bc24fe\",\"type\":\"LinearAxis\"},{\"id\":\"1f9585d0-5a5a-4c04-aa1a-17f345118d0d\",\"type\":\"Grid\"},{\"id\":\"97907b33-b629-4642-b4e1-a22df9a9c4c5\",\"type\":\"BoxAnnotation\"},{\"id\":\"564d8311-f52e-4491-bb71-5b05a735669e\",\"type\":\"GlyphRenderer\"}],\"title\":{\"id\":\"f500d837-805b-4d9b-a9f3-37a06c12de2d\",\"type\":\"Title\"},\"toolbar\":{\"id\":\"03ba95c7-d77d-4729-93be-0c13db19d866\",\"type\":\"Toolbar\"},\"toolbar_location\":null,\"x_range\":{\"id\":\"f88c0933-3455-4c7f-88ee-93009c8f6d73\",\"type\":\"FactorRange\"},\"x_scale\":{\"id\":\"e6b0beff-2d05-4ef0-b2a6-2886c4001112\",\"type\":\"CategoricalScale\"},\"y_range\":{\"id\":\"5ba882cb-d0b3-4ab5-ae30-b5303d04a9dc\",\"type\":\"DataRange1d\"},\"y_scale\":{\"id\":\"e2b608da-4fc1-4bf4-b136-99d0af9000ed\",\"type\":\"LinearScale\"}},\"id\":\"f5975de1-92d9-4b15-b31a-cd2dc7e889ed\",\"subtype\":\"Figure\",\"type\":\"Plot\"},{\"attributes\":{\"fill_alpha\":{\"value\":0.1},\"fill_color\":{\"value\":\"#1f77b4\"},\"line_alpha\":{\"value\":0.1},\"line_color\":{\"value\":\"#1f77b4\"},\"top\":{\"field\":\"flux\"},\"width\":{\"value\":0.9},\"x\":{\"field\":\"band\"}},\"id\":\"414b7376-3741-4651-a13f-4a51da938822\",\"type\":\"VBar\"},{\"attributes\":{\"plot\":null,\"text\":\"TOA flux. CLIRAD (single-run) - CRD.\"},\"id\":\"5ae5f939-87cf-46eb-aa04-0feccb701ee0\",\"type\":\"Title\"},{\"attributes\":{},\"id\":\"c2a7502f-acd2-4887-a018-0ce7229296b6\",\"type\":\"CategoricalTicker\"},{\"attributes\":{},\"id\":\"df92d596-e605-4fed-ba52-67680230fcf2\",\"type\":\"PanTool\"},{\"attributes\":{\"data_source\":{\"id\":\"c4a11df6-17c3-4f34-a91f-fe8a78edbd26\",\"type\":\"ColumnDataSource\"},\"glyph\":{\"id\":\"b2604dda-9789-4580-9f65-cc74d8e1bd33\",\"type\":\"VBar\"},\"hover_glyph\":null,\"muted_glyph\":null,\"nonselection_glyph\":{\"id\":\"032478d3-bdc5-4c15-8284-aaaf7bce1b0c\",\"type\":\"VBar\"},\"selection_glyph\":null,\"view\":{\"id\":\"7635eb9c-02fe-453e-b45b-e1603f1be0cf\",\"type\":\"CDSView\"}},\"id\":\"20264072-907f-4ced-8d33-5bbe7b5920e2\",\"type\":\"GlyphRenderer\"},{\"attributes\":{\"callback\":null},\"id\":\"5a1eb99f-b53c-4485-8223-ed5d32e204ba\",\"type\":\"DataRange1d\"},{\"attributes\":{\"fill_alpha\":{\"value\":0.1},\"fill_color\":{\"value\":\"#1f77b4\"},\"line_alpha\":{\"value\":0.1},\"line_color\":{\"value\":\"#1f77b4\"},\"top\":{\"field\":\"flux\"},\"width\":{\"value\":0.9},\"x\":{\"field\":\"band\"}},\"id\":\"04fc75f8-e313-407b-a969-2bd02900f645\",\"type\":\"VBar\"},{\"attributes\":{\"fill_color\":{\"value\":\"#1f77b4\"},\"line_color\":{\"value\":\"#1f77b4\"},\"top\":{\"field\":\"flux\"},\"width\":{\"value\":0.9},\"x\":{\"field\":\"band\"}},\"id\":\"b7927373-bab8-4496-ab68-35a9109966ec\",\"type\":\"VBar\"},{\"attributes\":{\"callback\":null,\"factors\":[\"1\",\"2\",\"3\",\"4\",\"5\",\"6\",\"7\",\"8\",\"9\",\"10\",\"11\"]},\"id\":\"f88c0933-3455-4c7f-88ee-93009c8f6d73\",\"type\":\"FactorRange\"},{\"attributes\":{\"fill_color\":{\"value\":\"#1f77b4\"},\"line_color\":{\"value\":\"#1f77b4\"},\"top\":{\"field\":\"flux\"},\"width\":{\"value\":0.9},\"x\":{\"field\":\"band\"}},\"id\":\"923b38a0-3925-45ce-a192-a7724ec1e7d3\",\"type\":\"VBar\"},{\"attributes\":{\"fill_alpha\":{\"value\":0.1},\"fill_color\":{\"value\":\"#1f77b4\"},\"line_alpha\":{\"value\":0.1},\"line_color\":{\"value\":\"#1f77b4\"},\"top\":{\"field\":\"flux\"},\"width\":{\"value\":0.9},\"x\":{\"field\":\"band\"}},\"id\":\"032478d3-bdc5-4c15-8284-aaaf7bce1b0c\",\"type\":\"VBar\"},{\"attributes\":{},\"id\":\"c61e5438-cc5f-4ea9-a846-eed8f21515d5\",\"type\":\"Selection\"},{\"attributes\":{},\"id\":\"cfe7b553-3603-4c89-bea6-9ec5186a43fd\",\"type\":\"ResetTool\"},{\"attributes\":{\"plot\":{\"id\":\"62e608df-c27c-43b6-b008-85939d6ed85f\",\"subtype\":\"Figure\",\"type\":\"Plot\"},\"ticker\":{\"id\":\"d772a442-3d90-40b3-8cca-3298de50f306\",\"type\":\"CategoricalTicker\"}},\"id\":\"2c8ba202-011e-4fa4-a5e5-1a82077a416f\",\"type\":\"Grid\"},{\"attributes\":{},\"id\":\"2d4477e8-f761-467f-931b-3987aff25abf\",\"type\":\"PanTool\"},{\"attributes\":{\"callback\":null},\"id\":\"5ba882cb-d0b3-4ab5-ae30-b5303d04a9dc\",\"type\":\"DataRange1d\"},{\"attributes\":{},\"id\":\"7608a335-bdd0-4961-8d6f-5f93c572b903\",\"type\":\"CategoricalScale\"},{\"attributes\":{\"axis_label\":\"spectral band\",\"formatter\":{\"id\":\"fec58c04-3126-49a2-baea-a7e7fb734d4d\",\"type\":\"CategoricalTickFormatter\"},\"plot\":{\"id\":\"62e608df-c27c-43b6-b008-85939d6ed85f\",\"subtype\":\"Figure\",\"type\":\"Plot\"},\"ticker\":{\"id\":\"d772a442-3d90-40b3-8cca-3298de50f306\",\"type\":\"CategoricalTicker\"}},\"id\":\"901dbb6e-56ba-46fa-b79f-b646ee7c4c75\",\"type\":\"CategoricalAxis\"},{\"attributes\":{\"data_source\":{\"id\":\"7e640a14-18bf-4e80-b0f1-4b1344a569d2\",\"type\":\"ColumnDataSource\"},\"glyph\":{\"id\":\"923b38a0-3925-45ce-a192-a7724ec1e7d3\",\"type\":\"VBar\"},\"hover_glyph\":null,\"muted_glyph\":null,\"nonselection_glyph\":{\"id\":\"04fc75f8-e313-407b-a969-2bd02900f645\",\"type\":\"VBar\"},\"selection_glyph\":null,\"view\":{\"id\":\"303f765b-b99f-4f67-b378-dca489f9f9ce\",\"type\":\"CDSView\"}},\"id\":\"2fb4a8cc-b4be-4486-bc0f-325490f884df\",\"type\":\"GlyphRenderer\"},{\"attributes\":{\"axis_label\":\"flux (W m-2)\",\"formatter\":{\"id\":\"16b6cfea-e962-41d5-90e6-c353fbc3bc01\",\"type\":\"BasicTickFormatter\"},\"plot\":{\"id\":\"a9d304fd-02d7-4dd8-8655-069dd5572316\",\"subtype\":\"Figure\",\"type\":\"Plot\"},\"ticker\":{\"id\":\"162679a9-ce15-43a8-bdb9-6fced6038cd4\",\"type\":\"BasicTicker\"}},\"id\":\"ef9aec93-3fea-4b5b-8d66-73573a27b027\",\"type\":\"LinearAxis\"},{\"attributes\":{\"data_source\":{\"id\":\"2a29c5a5-60e7-47ec-b8f2-949649207da2\",\"type\":\"ColumnDataSource\"},\"glyph\":{\"id\":\"b7927373-bab8-4496-ab68-35a9109966ec\",\"type\":\"VBar\"},\"hover_glyph\":null,\"muted_glyph\":null,\"nonselection_glyph\":{\"id\":\"414b7376-3741-4651-a13f-4a51da938822\",\"type\":\"VBar\"},\"selection_glyph\":null,\"view\":{\"id\":\"1b59b246-671c-4f45-b91a-beccb120d624\",\"type\":\"CDSView\"}},\"id\":\"564d8311-f52e-4491-bb71-5b05a735669e\",\"type\":\"GlyphRenderer\"},{\"attributes\":{},\"id\":\"fe3812ef-9bf5-43fc-a753-88b919100428\",\"type\":\"BasicTicker\"},{\"attributes\":{\"dimension\":1,\"plot\":{\"id\":\"a9d304fd-02d7-4dd8-8655-069dd5572316\",\"subtype\":\"Figure\",\"type\":\"Plot\"},\"ticker\":{\"id\":\"162679a9-ce15-43a8-bdb9-6fced6038cd4\",\"type\":\"BasicTicker\"}},\"id\":\"55f38b21-068b-4b0d-a9b7-3a293ebfa330\",\"type\":\"Grid\"},{\"attributes\":{\"active_drag\":\"auto\",\"active_inspect\":\"auto\",\"active_scroll\":\"auto\",\"active_tap\":\"auto\",\"tools\":[{\"id\":\"2d4477e8-f761-467f-931b-3987aff25abf\",\"type\":\"PanTool\"},{\"id\":\"d775c301-63f9-4043-94aa-a3a487992093\",\"type\":\"WheelZoomTool\"},{\"id\":\"dd62ee60-906d-4f76-afee-91d5e9a96d30\",\"type\":\"BoxZoomTool\"},{\"id\":\"b3d48dd7-c418-4d62-9461-80447e25908e\",\"type\":\"SaveTool\"},{\"id\":\"09cd5148-149f-4a43-8987-27a0ea649671\",\"type\":\"ResetTool\"},{\"id\":\"5adc30b7-3f8a-4fbc-a651-1ae30d47e1ac\",\"type\":\"HelpTool\"}]},\"id\":\"9a1f9ced-d6e0-4e5c-a174-38395a4f49aa\",\"type\":\"Toolbar\"},{\"attributes\":{\"bottom_units\":\"screen\",\"fill_alpha\":{\"value\":0.5},\"fill_color\":{\"value\":\"lightgrey\"},\"left_units\":\"screen\",\"level\":\"overlay\",\"line_alpha\":{\"value\":1.0},\"line_color\":{\"value\":\"black\"},\"line_dash\":[4,4],\"line_width\":{\"value\":2},\"plot\":null,\"render_mode\":\"css\",\"right_units\":\"screen\",\"top_units\":\"screen\"},\"id\":\"0ab8d013-9ee4-4d14-961d-c7ff4ac70c66\",\"type\":\"BoxAnnotation\"},{\"attributes\":{\"dimension\":1,\"plot\":{\"id\":\"62e608df-c27c-43b6-b008-85939d6ed85f\",\"subtype\":\"Figure\",\"type\":\"Plot\"},\"ticker\":{\"id\":\"fe3812ef-9bf5-43fc-a753-88b919100428\",\"type\":\"BasicTicker\"}},\"id\":\"833ab9e1-6e79-49dd-b46c-befe786b7d55\",\"type\":\"Grid\"},{\"attributes\":{},\"id\":\"162679a9-ce15-43a8-bdb9-6fced6038cd4\",\"type\":\"BasicTicker\"},{\"attributes\":{},\"id\":\"e2b608da-4fc1-4bf4-b136-99d0af9000ed\",\"type\":\"LinearScale\"},{\"attributes\":{\"axis_label\":\"flux (W m-2)\",\"formatter\":{\"id\":\"3e5f921d-b8aa-491e-abf9-12ebdc880c4c\",\"type\":\"BasicTickFormatter\"},\"plot\":{\"id\":\"f5975de1-92d9-4b15-b31a-cd2dc7e889ed\",\"subtype\":\"Figure\",\"type\":\"Plot\"},\"ticker\":{\"id\":\"cede9af6-d18b-407c-b95f-b46118cc1d3d\",\"type\":\"BasicTicker\"}},\"id\":\"88549a23-2f35-4395-88c4-4fc559bc24fe\",\"type\":\"LinearAxis\"},{\"attributes\":{\"fill_color\":{\"value\":\"#1f77b4\"},\"line_color\":{\"value\":\"#1f77b4\"},\"top\":{\"field\":\"flux\"},\"width\":{\"value\":0.9},\"x\":{\"field\":\"band\"}},\"id\":\"b2604dda-9789-4580-9f65-cc74d8e1bd33\",\"type\":\"VBar\"},{\"attributes\":{\"source\":{\"id\":\"2a29c5a5-60e7-47ec-b8f2-949649207da2\",\"type\":\"ColumnDataSource\"}},\"id\":\"1b59b246-671c-4f45-b91a-beccb120d624\",\"type\":\"CDSView\"},{\"attributes\":{\"plot\":{\"id\":\"f5975de1-92d9-4b15-b31a-cd2dc7e889ed\",\"subtype\":\"Figure\",\"type\":\"Plot\"},\"ticker\":{\"id\":\"fe82111e-08b5-4417-bf2d-ddd5f8fa7fd6\",\"type\":\"CategoricalTicker\"}},\"id\":\"2e74ac50-dfb4-45aa-8d41-b7ec049a75fd\",\"type\":\"Grid\"},{\"attributes\":{\"dimension\":1,\"plot\":{\"id\":\"f5975de1-92d9-4b15-b31a-cd2dc7e889ed\",\"subtype\":\"Figure\",\"type\":\"Plot\"},\"ticker\":{\"id\":\"cede9af6-d18b-407c-b95f-b46118cc1d3d\",\"type\":\"BasicTicker\"}},\"id\":\"1f9585d0-5a5a-4c04-aa1a-17f345118d0d\",\"type\":\"Grid\"},{\"attributes\":{\"active_drag\":\"auto\",\"active_inspect\":\"auto\",\"active_scroll\":\"auto\",\"active_tap\":\"auto\",\"tools\":[{\"id\":\"5abe4fdd-4371-41bd-86a6-6bb2c2bb4d2b\",\"type\":\"PanTool\"},{\"id\":\"a66949ac-aa75-433d-b362-2dd5b67c94aa\",\"type\":\"WheelZoomTool\"},{\"id\":\"8fa29159-372e-46a8-84b7-18297993a08b\",\"type\":\"BoxZoomTool\"},{\"id\":\"46a8c0c5-51d6-4553-aeb7-0970aa6f3d34\",\"type\":\"SaveTool\"},{\"id\":\"f347d48a-338d-413d-9a97-2a92d88d11dd\",\"type\":\"ResetTool\"},{\"id\":\"4e7a4857-886e-4b73-844d-0d780b77b417\",\"type\":\"HelpTool\"}]},\"id\":\"03ba95c7-d77d-4729-93be-0c13db19d866\",\"type\":\"Toolbar\"},{\"attributes\":{\"axis_label\":\"flux (W m-2)\",\"formatter\":{\"id\":\"95f83140-4148-4b5e-a7d8-3e869b923ddb\",\"type\":\"BasicTickFormatter\"},\"plot\":{\"id\":\"62e608df-c27c-43b6-b008-85939d6ed85f\",\"subtype\":\"Figure\",\"type\":\"Plot\"},\"ticker\":{\"id\":\"fe3812ef-9bf5-43fc-a753-88b919100428\",\"type\":\"BasicTicker\"}},\"id\":\"a4ecb80a-c1cc-4176-b00e-39db7c4a046e\",\"type\":\"LinearAxis\"},{\"attributes\":{},\"id\":\"cede9af6-d18b-407c-b95f-b46118cc1d3d\",\"type\":\"BasicTicker\"},{\"attributes\":{\"overlay\":{\"id\":\"0ab8d013-9ee4-4d14-961d-c7ff4ac70c66\",\"type\":\"BoxAnnotation\"}},\"id\":\"a8987d9d-16bf-459d-9bc6-47e29f985b6d\",\"type\":\"BoxZoomTool\"},{\"attributes\":{},\"id\":\"d772a442-3d90-40b3-8cca-3298de50f306\",\"type\":\"CategoricalTicker\"},{\"attributes\":{\"below\":[{\"id\":\"9dc528a5-2853-4c2d-961a-ea4f5fde4ad8\",\"type\":\"CategoricalAxis\"}],\"left\":[{\"id\":\"ef9aec93-3fea-4b5b-8d66-73573a27b027\",\"type\":\"LinearAxis\"}],\"plot_height\":300,\"plot_width\":300,\"renderers\":[{\"id\":\"9dc528a5-2853-4c2d-961a-ea4f5fde4ad8\",\"type\":\"CategoricalAxis\"},{\"id\":\"d68e24cd-f7b7-4d2e-b11a-963b1334d787\",\"type\":\"Grid\"},{\"id\":\"ef9aec93-3fea-4b5b-8d66-73573a27b027\",\"type\":\"LinearAxis\"},{\"id\":\"55f38b21-068b-4b0d-a9b7-3a293ebfa330\",\"type\":\"Grid\"},{\"id\":\"0ab8d013-9ee4-4d14-961d-c7ff4ac70c66\",\"type\":\"BoxAnnotation\"},{\"id\":\"20264072-907f-4ced-8d33-5bbe7b5920e2\",\"type\":\"GlyphRenderer\"}],\"title\":{\"id\":\"5ae5f939-87cf-46eb-aa04-0feccb701ee0\",\"type\":\"Title\"},\"toolbar\":{\"id\":\"8f9a4aef-05cb-43d6-b209-2e70fa1070de\",\"type\":\"Toolbar\"},\"toolbar_location\":null,\"x_range\":{\"id\":\"7c8097bc-1459-41ec-b20e-6d3f44fcd794\",\"type\":\"FactorRange\"},\"x_scale\":{\"id\":\"08e2c267-793f-43f6-9697-717ea6a9599f\",\"type\":\"CategoricalScale\"},\"y_range\":{\"id\":\"0c2ba95f-dbf6-467e-a9c7-ec2c8bfc6474\",\"type\":\"DataRange1d\"},\"y_scale\":{\"id\":\"62f37d2c-0ec9-426e-8a7a-bf4a37a5d579\",\"type\":\"LinearScale\"}},\"id\":\"a9d304fd-02d7-4dd8-8655-069dd5572316\",\"subtype\":\"Figure\",\"type\":\"Plot\"},{\"attributes\":{},\"id\":\"d88416ff-8bb2-49f1-9c50-62cac90a0990\",\"type\":\"WheelZoomTool\"},{\"attributes\":{\"plot\":{\"id\":\"a9d304fd-02d7-4dd8-8655-069dd5572316\",\"subtype\":\"Figure\",\"type\":\"Plot\"},\"ticker\":{\"id\":\"c2a7502f-acd2-4887-a018-0ce7229296b6\",\"type\":\"CategoricalTicker\"}},\"id\":\"d68e24cd-f7b7-4d2e-b11a-963b1334d787\",\"type\":\"Grid\"},{\"attributes\":{},\"id\":\"a8074e51-9011-43cf-846f-4e6c21881c40\",\"type\":\"LinearScale\"},{\"attributes\":{},\"id\":\"e6b0beff-2d05-4ef0-b2a6-2886c4001112\",\"type\":\"CategoricalScale\"},{\"attributes\":{},\"id\":\"89b5d5bb-9175-4c75-b868-d030c6f7eb5b\",\"type\":\"HelpTool\"},{\"attributes\":{\"callback\":null,\"factors\":[\"1\",\"2\",\"3\",\"4\",\"5\",\"6\",\"7\",\"8\",\"9\",\"10\",\"11\"]},\"id\":\"7c8097bc-1459-41ec-b20e-6d3f44fcd794\",\"type\":\"FactorRange\"},{\"attributes\":{\"overlay\":{\"id\":\"cd518215-b253-4219-ae99-968715b64cab\",\"type\":\"BoxAnnotation\"}},\"id\":\"dd62ee60-906d-4f76-afee-91d5e9a96d30\",\"type\":\"BoxZoomTool\"},{\"attributes\":{\"toolbar\":{\"id\":\"05a9b6fa-c362-403c-99e2-a4628419fcf7\",\"type\":\"ProxyToolbar\"},\"toolbar_location\":\"above\"},\"id\":\"bb9c19b1-9938-4653-a7a6-6bd6d4c35f4b\",\"type\":\"ToolbarBox\"},{\"attributes\":{},\"id\":\"95f83140-4148-4b5e-a7d8-3e869b923ddb\",\"type\":\"BasicTickFormatter\"},{\"attributes\":{\"children\":[{\"id\":\"87c9d5fe-d1a8-4f44-b21a-170cffba4ef8\",\"type\":\"Row\"}]},\"id\":\"6d142059-009b-492a-8a94-ac5609c0a892\",\"type\":\"Column\"},{\"attributes\":{},\"id\":\"766c7da6-da8f-4bce-ab2e-4630b9dc0e62\",\"type\":\"CategoricalTickFormatter\"},{\"attributes\":{},\"id\":\"46a8c0c5-51d6-4553-aeb7-0970aa6f3d34\",\"type\":\"SaveTool\"},{\"attributes\":{},\"id\":\"0b791066-6e23-4c5b-b5f7-e641c84fa806\",\"type\":\"Selection\"},{\"attributes\":{\"overlay\":{\"id\":\"97907b33-b629-4642-b4e1-a22df9a9c4c5\",\"type\":\"BoxAnnotation\"}},\"id\":\"8fa29159-372e-46a8-84b7-18297993a08b\",\"type\":\"BoxZoomTool\"},{\"attributes\":{},\"id\":\"4e7a4857-886e-4b73-844d-0d780b77b417\",\"type\":\"HelpTool\"},{\"attributes\":{\"below\":[{\"id\":\"901dbb6e-56ba-46fa-b79f-b646ee7c4c75\",\"type\":\"CategoricalAxis\"}],\"left\":[{\"id\":\"a4ecb80a-c1cc-4176-b00e-39db7c4a046e\",\"type\":\"LinearAxis\"}],\"plot_height\":300,\"plot_width\":300,\"renderers\":[{\"id\":\"901dbb6e-56ba-46fa-b79f-b646ee7c4c75\",\"type\":\"CategoricalAxis\"},{\"id\":\"2c8ba202-011e-4fa4-a5e5-1a82077a416f\",\"type\":\"Grid\"},{\"id\":\"a4ecb80a-c1cc-4176-b00e-39db7c4a046e\",\"type\":\"LinearAxis\"},{\"id\":\"833ab9e1-6e79-49dd-b46c-befe786b7d55\",\"type\":\"Grid\"},{\"id\":\"cd518215-b253-4219-ae99-968715b64cab\",\"type\":\"BoxAnnotation\"},{\"id\":\"2fb4a8cc-b4be-4486-bc0f-325490f884df\",\"type\":\"GlyphRenderer\"}],\"title\":{\"id\":\"ed4c6d61-d027-4838-8962-9354a90e71dd\",\"type\":\"Title\"},\"toolbar\":{\"id\":\"9a1f9ced-d6e0-4e5c-a174-38395a4f49aa\",\"type\":\"Toolbar\"},\"toolbar_location\":null,\"x_range\":{\"id\":\"653a4b4f-3023-418b-9a30-9ad92d4b0970\",\"type\":\"FactorRange\"},\"x_scale\":{\"id\":\"7608a335-bdd0-4961-8d6f-5f93c572b903\",\"type\":\"CategoricalScale\"},\"y_range\":{\"id\":\"5a1eb99f-b53c-4485-8223-ed5d32e204ba\",\"type\":\"DataRange1d\"},\"y_scale\":{\"id\":\"a8074e51-9011-43cf-846f-4e6c21881c40\",\"type\":\"LinearScale\"}},\"id\":\"62e608df-c27c-43b6-b008-85939d6ed85f\",\"subtype\":\"Figure\",\"type\":\"Plot\"},{\"attributes\":{},\"id\":\"5abe4fdd-4371-41bd-86a6-6bb2c2bb4d2b\",\"type\":\"PanTool\"},{\"attributes\":{\"source\":{\"id\":\"7e640a14-18bf-4e80-b0f1-4b1344a569d2\",\"type\":\"ColumnDataSource\"}},\"id\":\"303f765b-b99f-4f67-b378-dca489f9f9ce\",\"type\":\"CDSView\"},{\"attributes\":{},\"id\":\"f347d48a-338d-413d-9a97-2a92d88d11dd\",\"type\":\"ResetTool\"},{\"attributes\":{\"callback\":null,\"data\":{\"band\":[\"1\",\"2\",\"3\",\"4\",\"5\",\"6\",\"7\",\"8\",\"9\",\"10\",\"11\"],\"flux\":{\"__ndarray__\":\"0sYRa3EIZcCzJhb4ColiwIP4wI5/kGbALbRzmgU+Z8AFGmzqPPxmwGggls0c72TAX3r7c9GoZ8BMw/ARMcBnwHlkYqmkKmjAL35khMFqaMA0xdJ2wuFowA==\",\"dtype\":\"float64\",\"shape\":[11]}},\"selected\":{\"id\":\"458249c2-6aff-46d3-ade1-5cd28479106f\",\"type\":\"Selection\"},\"selection_policy\":{\"id\":\"f0f8d4b6-617d-4d22-83b9-b716462493fa\",\"type\":\"UnionRenderers\"}},\"id\":\"c4a11df6-17c3-4f34-a91f-fe8a78edbd26\",\"type\":\"ColumnDataSource\"},{\"attributes\":{\"active_drag\":\"auto\",\"active_inspect\":\"auto\",\"active_scroll\":\"auto\",\"active_tap\":\"auto\",\"tools\":[{\"id\":\"df92d596-e605-4fed-ba52-67680230fcf2\",\"type\":\"PanTool\"},{\"id\":\"d88416ff-8bb2-49f1-9c50-62cac90a0990\",\"type\":\"WheelZoomTool\"},{\"id\":\"a8987d9d-16bf-459d-9bc6-47e29f985b6d\",\"type\":\"BoxZoomTool\"},{\"id\":\"8d7a6b55-7df0-475c-b0c5-063f835828c6\",\"type\":\"SaveTool\"},{\"id\":\"cfe7b553-3603-4c89-bea6-9ec5186a43fd\",\"type\":\"ResetTool\"},{\"id\":\"89b5d5bb-9175-4c75-b868-d030c6f7eb5b\",\"type\":\"HelpTool\"}]},\"id\":\"8f9a4aef-05cb-43d6-b209-2e70fa1070de\",\"type\":\"Toolbar\"},{\"attributes\":{},\"id\":\"a66949ac-aa75-433d-b362-2dd5b67c94aa\",\"type\":\"WheelZoomTool\"},{\"attributes\":{},\"id\":\"f0f8d4b6-617d-4d22-83b9-b716462493fa\",\"type\":\"UnionRenderers\"},{\"attributes\":{},\"id\":\"62f37d2c-0ec9-426e-8a7a-bf4a37a5d579\",\"type\":\"LinearScale\"},{\"attributes\":{},\"id\":\"16b6cfea-e962-41d5-90e6-c353fbc3bc01\",\"type\":\"BasicTickFormatter\"},{\"attributes\":{},\"id\":\"458249c2-6aff-46d3-ade1-5cd28479106f\",\"type\":\"Selection\"},{\"attributes\":{},\"id\":\"b3d48dd7-c418-4d62-9461-80447e25908e\",\"type\":\"SaveTool\"},{\"attributes\":{\"bottom_units\":\"screen\",\"fill_alpha\":{\"value\":0.5},\"fill_color\":{\"value\":\"lightgrey\"},\"left_units\":\"screen\",\"level\":\"overlay\",\"line_alpha\":{\"value\":1.0},\"line_color\":{\"value\":\"black\"},\"line_dash\":[4,4],\"line_width\":{\"value\":2},\"plot\":null,\"render_mode\":\"css\",\"right_units\":\"screen\",\"top_units\":\"screen\"},\"id\":\"97907b33-b629-4642-b4e1-a22df9a9c4c5\",\"type\":\"BoxAnnotation\"},{\"attributes\":{},\"id\":\"fec58c04-3126-49a2-baea-a7e7fb734d4d\",\"type\":\"CategoricalTickFormatter\"},{\"attributes\":{},\"id\":\"08e2c267-793f-43f6-9697-717ea6a9599f\",\"type\":\"CategoricalScale\"},{\"attributes\":{\"callback\":null,\"data\":{\"band\":[\"1\",\"2\",\"3\",\"4\",\"5\",\"6\",\"7\",\"8\",\"9\",\"10\",\"11\"],\"flux\":{\"__ndarray__\":\"yAG7mjxcV0CA7suZ7TpVQA/SU+QQBl1ACMVW0LSrWkD3Uh0X+idfQLyipTwElWBAfFrqxfVSYEDZo+STPZ9gQNipA2p7zV9ADycwndbmXkBdISAdxqRgQA==\",\"dtype\":\"float64\",\"shape\":[11]}},\"selected\":{\"id\":\"0b791066-6e23-4c5b-b5f7-e641c84fa806\",\"type\":\"Selection\"},\"selection_policy\":{\"id\":\"deb0270b-5e57-4e78-ada8-0fb7acfd9927\",\"type\":\"UnionRenderers\"}},\"id\":\"7e640a14-18bf-4e80-b0f1-4b1344a569d2\",\"type\":\"ColumnDataSource\"},{\"attributes\":{\"children\":[{\"id\":\"a9d304fd-02d7-4dd8-8655-069dd5572316\",\"subtype\":\"Figure\",\"type\":\"Plot\"},{\"id\":\"62e608df-c27c-43b6-b008-85939d6ed85f\",\"subtype\":\"Figure\",\"type\":\"Plot\"},{\"id\":\"f5975de1-92d9-4b15-b31a-cd2dc7e889ed\",\"subtype\":\"Figure\",\"type\":\"Plot\"}]},\"id\":\"87c9d5fe-d1a8-4f44-b21a-170cffba4ef8\",\"type\":\"Row\"},{\"attributes\":{},\"id\":\"09cd5148-149f-4a43-8987-27a0ea649671\",\"type\":\"ResetTool\"},{\"attributes\":{\"children\":[{\"id\":\"bb9c19b1-9938-4653-a7a6-6bd6d4c35f4b\",\"type\":\"ToolbarBox\"},{\"id\":\"6d142059-009b-492a-8a94-ac5609c0a892\",\"type\":\"Column\"}]},\"id\":\"761e3d68-3c98-49a7-8c7a-5951ef39797f\",\"type\":\"Column\"},{\"attributes\":{},\"id\":\"5adc30b7-3f8a-4fbc-a651-1ae30d47e1ac\",\"type\":\"HelpTool\"},{\"attributes\":{},\"id\":\"d775c301-63f9-4043-94aa-a3a487992093\",\"type\":\"WheelZoomTool\"},{\"attributes\":{},\"id\":\"1f1eb908-078f-45bc-8608-a30ed2aa29e7\",\"type\":\"CategoricalTickFormatter\"},{\"attributes\":{},\"id\":\"41ba25b5-0443-41d6-8ba6-82b2badb7236\",\"type\":\"UnionRenderers\"},{\"attributes\":{\"axis_label\":\"spectral band\",\"formatter\":{\"id\":\"1f1eb908-078f-45bc-8608-a30ed2aa29e7\",\"type\":\"CategoricalTickFormatter\"},\"plot\":{\"id\":\"a9d304fd-02d7-4dd8-8655-069dd5572316\",\"subtype\":\"Figure\",\"type\":\"Plot\"},\"ticker\":{\"id\":\"c2a7502f-acd2-4887-a018-0ce7229296b6\",\"type\":\"CategoricalTicker\"}},\"id\":\"9dc528a5-2853-4c2d-961a-ea4f5fde4ad8\",\"type\":\"CategoricalAxis\"},{\"attributes\":{},\"id\":\"3e5f921d-b8aa-491e-abf9-12ebdc880c4c\",\"type\":\"BasicTickFormatter\"},{\"attributes\":{\"tools\":[{\"id\":\"df92d596-e605-4fed-ba52-67680230fcf2\",\"type\":\"PanTool\"},{\"id\":\"d88416ff-8bb2-49f1-9c50-62cac90a0990\",\"type\":\"WheelZoomTool\"},{\"id\":\"a8987d9d-16bf-459d-9bc6-47e29f985b6d\",\"type\":\"BoxZoomTool\"},{\"id\":\"8d7a6b55-7df0-475c-b0c5-063f835828c6\",\"type\":\"SaveTool\"},{\"id\":\"cfe7b553-3603-4c89-bea6-9ec5186a43fd\",\"type\":\"ResetTool\"},{\"id\":\"89b5d5bb-9175-4c75-b868-d030c6f7eb5b\",\"type\":\"HelpTool\"},{\"id\":\"2d4477e8-f761-467f-931b-3987aff25abf\",\"type\":\"PanTool\"},{\"id\":\"d775c301-63f9-4043-94aa-a3a487992093\",\"type\":\"WheelZoomTool\"},{\"id\":\"dd62ee60-906d-4f76-afee-91d5e9a96d30\",\"type\":\"BoxZoomTool\"},{\"id\":\"b3d48dd7-c418-4d62-9461-80447e25908e\",\"type\":\"SaveTool\"},{\"id\":\"09cd5148-149f-4a43-8987-27a0ea649671\",\"type\":\"ResetTool\"},{\"id\":\"5adc30b7-3f8a-4fbc-a651-1ae30d47e1ac\",\"type\":\"HelpTool\"},{\"id\":\"5abe4fdd-4371-41bd-86a6-6bb2c2bb4d2b\",\"type\":\"PanTool\"},{\"id\":\"a66949ac-aa75-433d-b362-2dd5b67c94aa\",\"type\":\"WheelZoomTool\"},{\"id\":\"8fa29159-372e-46a8-84b7-18297993a08b\",\"type\":\"BoxZoomTool\"},{\"id\":\"46a8c0c5-51d6-4553-aeb7-0970aa6f3d34\",\"type\":\"SaveTool\"},{\"id\":\"f347d48a-338d-413d-9a97-2a92d88d11dd\",\"type\":\"ResetTool\"},{\"id\":\"4e7a4857-886e-4b73-844d-0d780b77b417\",\"type\":\"HelpTool\"}]},\"id\":\"05a9b6fa-c362-403c-99e2-a4628419fcf7\",\"type\":\"ProxyToolbar\"},{\"attributes\":{\"bottom_units\":\"screen\",\"fill_alpha\":{\"value\":0.5},\"fill_color\":{\"value\":\"lightgrey\"},\"left_units\":\"screen\",\"level\":\"overlay\",\"line_alpha\":{\"value\":1.0},\"line_color\":{\"value\":\"black\"},\"line_dash\":[4,4],\"line_width\":{\"value\":2},\"plot\":null,\"render_mode\":\"css\",\"right_units\":\"screen\",\"top_units\":\"screen\"},\"id\":\"cd518215-b253-4219-ae99-968715b64cab\",\"type\":\"BoxAnnotation\"},{\"attributes\":{},\"id\":\"deb0270b-5e57-4e78-ada8-0fb7acfd9927\",\"type\":\"UnionRenderers\"},{\"attributes\":{\"callback\":null},\"id\":\"0c2ba95f-dbf6-467e-a9c7-ec2c8bfc6474\",\"type\":\"DataRange1d\"}],\"root_ids\":[\"761e3d68-3c98-49a7-8c7a-5951ef39797f\"]},\"title\":\"Bokeh Application\",\"version\":\"0.12.16\"}};\n",
       "  var render_items = [{\"docid\":\"47a2bb87-fa93-4c3c-a229-e87e935b6aeb\",\"elementid\":\"bdf710e7-2607-4ab0-8033-72dfa97d7e2d\",\"modelid\":\"761e3d68-3c98-49a7-8c7a-5951ef39797f\"}];\n",
       "  root.Bokeh.embed.embed_items_notebook(docs_json, render_items);\n",
       "\n",
       "  }\n",
       "  if (root.Bokeh !== undefined) {\n",
       "    embed_document(root);\n",
       "  } else {\n",
       "    var attempts = 0;\n",
       "    var timer = setInterval(function(root) {\n",
       "      if (root.Bokeh !== undefined) {\n",
       "        embed_document(root);\n",
       "        clearInterval(timer);\n",
       "      }\n",
       "      attempts++;\n",
       "      if (attempts > 100) {\n",
       "        console.log(\"Bokeh: ERROR: Unable to run BokehJS code because BokehJS library is missing\")\n",
       "        clearInterval(timer);\n",
       "      }\n",
       "    }, 10, root)\n",
       "  }\n",
       "})(window);"
      ],
      "application/vnd.bokehjs_exec.v0+json": ""
     },
     "metadata": {
      "application/vnd.bokehjs_exec.v0+json": {
       "id": "761e3d68-3c98-49a7-8c7a-5951ef39797f"
      }
     },
     "output_type": "display_data"
    },
    {
     "data": {
      "text/markdown": [
       "*FIGURE.* Difference between CLIRAD and CRD in TOA, SFC and net atmosphere flux, in each spectral band."
      ],
      "text/plain": [
       "<IPython.core.display.Markdown object>"
      ]
     },
     "metadata": {},
     "output_type": "display_data"
    },
    {
     "data": {
      "text/html": [
       "<div>\n",
       "<style scoped>\n",
       "    .dataframe tbody tr th:only-of-type {\n",
       "        vertical-align: middle;\n",
       "    }\n",
       "\n",
       "    .dataframe tbody tr th {\n",
       "        vertical-align: top;\n",
       "    }\n",
       "\n",
       "    .dataframe thead th {\n",
       "        text-align: right;\n",
       "    }\n",
       "</style>\n",
       "<table border=\"1\" class=\"dataframe\">\n",
       "  <thead>\n",
       "    <tr style=\"text-align: right;\">\n",
       "      <th></th>\n",
       "      <th>OLR flux</th>\n",
       "      <th>SFC flux</th>\n",
       "      <th>ATM heating</th>\n",
       "    </tr>\n",
       "    <tr>\n",
       "      <th>Sum over bands</th>\n",
       "      <th></th>\n",
       "      <th></th>\n",
       "      <th></th>\n",
       "    </tr>\n",
       "  </thead>\n",
       "  <tbody>\n",
       "    <tr>\n",
       "      <th>CLIRAD (single-run) - CRD</th>\n",
       "      <td>0.84</td>\n",
       "      <td>-32.21</td>\n",
       "      <td>33.05</td>\n",
       "    </tr>\n",
       "    <tr>\n",
       "      <th>CRD</th>\n",
       "      <td>-201.06</td>\n",
       "      <td>166.03</td>\n",
       "      <td>-119.67</td>\n",
       "    </tr>\n",
       "  </tbody>\n",
       "</table>\n",
       "</div>"
      ],
      "text/plain": [
       "                           OLR flux  SFC flux  ATM heating\n",
       "Sum over bands                                            \n",
       "CLIRAD (single-run) - CRD      0.84    -32.21        33.05\n",
       "CRD                         -201.06    166.03      -119.67"
      ]
     },
     "metadata": {},
     "output_type": "display_data"
    },
    {
     "data": {
      "text/markdown": [
       "*TABLE.* Difference between CLIRAD and CRD in TOA, SFC and net atmosphere flux, over all spectral bands. CRD's TOA, SFC and net atmosphere flux, over all spectral bands."
      ],
      "text/plain": [
       "<IPython.core.display.Markdown object>"
      ]
     },
     "metadata": {},
     "output_type": "display_data"
    },
    {
     "data": {
      "text/html": [
       "<a id=\"Cooling_rates._trp.\"></a>"
      ],
      "text/plain": [
       "<IPython.core.display.HTML object>"
      ]
     },
     "metadata": {},
     "output_type": "display_data"
    },
    {
     "data": {
      "text/markdown": [
       "# Cooling rates. trp."
      ],
      "text/plain": [
       "<IPython.core.display.Markdown object>"
      ]
     },
     "metadata": {},
     "output_type": "display_data"
    },
    {
     "data": {
      "text/html": [
       "\n",
       "<div class=\"bk-root\">\n",
       "    <div class=\"bk-plotdiv\" id=\"a5e6caca-8c64-4b0c-83d3-3b7c055805fc\"></div>\n",
       "</div>"
      ]
     },
     "metadata": {},
     "output_type": "display_data"
    },
    {
     "data": {
      "application/javascript": [
       "(function(root) {\n",
       "  function embed_document(root) {\n",
       "    \n",
       "  var docs_json = {\"bef82905-1165-473e-8a9e-44a10d12ee31\":{\"roots\":{\"references\":[{\"attributes\":{},\"id\":\"e2996d33-d819-4bb6-96a3-cabeb73247a0\",\"type\":\"HelpTool\"},{\"attributes\":{},\"id\":\"e7d7a5c5-78f3-42ee-9932-2faacdaafd1e\",\"type\":\"ResetTool\"},{\"attributes\":{},\"id\":\"6b6707f4-5964-446d-b878-47167f207b1a\",\"type\":\"WheelZoomTool\"},{\"attributes\":{\"data_source\":{\"id\":\"8f2fd3ee-ec94-4f59-88be-0bc3ceb7f292\",\"type\":\"ColumnDataSource\"},\"glyph\":{\"id\":\"40b8906f-304e-43ec-8647-f8cd9fd9bf85\",\"type\":\"Circle\"},\"hover_glyph\":null,\"muted_glyph\":null,\"nonselection_glyph\":{\"id\":\"a20f3276-c03c-4c31-9864-f431d81402c2\",\"type\":\"Circle\"},\"selection_glyph\":null,\"view\":{\"id\":\"284cea61-405d-4bdf-8794-c1bda8205cff\",\"type\":\"CDSView\"}},\"id\":\"68f43ec3-701f-47ee-b000-9c92964c4cdd\",\"type\":\"GlyphRenderer\"},{\"attributes\":{\"label\":{\"value\":\"CLIRAD (single-run)\"},\"renderers\":[{\"id\":\"da2171fd-24d6-4624-bda1-daf8a2cb33b2\",\"type\":\"GlyphRenderer\"}]},\"id\":\"70bec42a-063b-4cb3-b24d-bce4593116c3\",\"type\":\"LegendItem\"},{\"attributes\":{\"source\":{\"id\":\"8f2fd3ee-ec94-4f59-88be-0bc3ceb7f292\",\"type\":\"ColumnDataSource\"}},\"id\":\"284cea61-405d-4bdf-8794-c1bda8205cff\",\"type\":\"CDSView\"},{\"attributes\":{\"fill_alpha\":{\"value\":0.1},\"fill_color\":{\"value\":\"#1f77b4\"},\"line_alpha\":{\"value\":0.1},\"line_color\":{\"value\":\"#1f77b4\"},\"x\":{\"field\":\"x\"},\"y\":{\"field\":\"y\"}},\"id\":\"a20f3276-c03c-4c31-9864-f431d81402c2\",\"type\":\"Circle\"},{\"attributes\":{\"callback\":null,\"data\":{\"x\":{\"__ndarray__\":\"R/KIaN7AVEClCeJMyPNGQOvRhpxr30JAptxzhxx4PkA7SssMElA4QK6Bp3CyUDNAsVXpjES9LkBFhUV0+5coQMHYwqbbySNA6f09nM3nH0CaSd/3eYoZQDmgiAOW8BNAPYqARh3eDEBkm4vCgvr+P9D+5tWhQfY/P8DwKRnSAkBq38kb17ILQDT7IWuSsxFAUr2Rjm0FFkAinq3s9XgbQGCHwtYcqSFAG64kT303J0C7dRDneyooQD9JYrbK8yRA9S3bneHhIUAIymSuUMMcQIkHLe6VEBdAAau3cITREkA6CiNvkQIPQJU39ki7IQlAaAvwok1UA0BXLQiS4+L7P0xzDpJ2hPI/NNuPGMbJ5z91mUVYxqfSPxqwUPSxZca/G11peifD3L8QzNj5t2jTvwzOozTL360/SPJ4VI1VzD9KJ0nXEIncP8yDdlvHt+4/Et49nYLW9z++2teD4Jn+P+568eH/bwFALf5D9lmAAkCiZAicVOkCQPPT4jNKxwJAOjp3wTzBAUBSQsKNGisBQG4OmjqJwQBAJ3sZoHFuAEA5Ar0Sdi0AQGy4rw5+9f8/7W4nSrC3/z8mPr8zj4T/P4UYRHCQS/8/embVKYcF/z+5YXG+LLP+P/qb8BVUgf4/KvafTtyO/j/avAK1Ppv+PwJV9VVm2P0/JFtYlU/n/D9sN+q2fiX6Pw44e41PNPc/Opt+Z/wN9T+x3vcSW1vzP9ofvWQJlvI/8sciQQBW8j80sfkQa17yPzg5qng2r/I/Oh14WJBh8z+VZjnpctj0P6CcrSuCqQBA\",\"dtype\":\"float64\",\"shape\":[75]},\"y\":{\"__ndarray__\":\"GhExyth1ND/Sv8nbtpRIP2vylNV0PVE/aTum7souWD/At0SJ8fVgPw3Iuahxymc/MSNhhJWvcD/bTfBN02d3P2zb5nxnaoA/CD5h5MAGhz8NmeH1TyaQP+zrCsc9p5Y/LbKd76fGnz/bLW5ISEmmPww9YvTcQq8/JV2OstnstT8Er5Y7M8G+P0c+r3jqkcU/5h99k6ZBzj88bCIzFzjVP4enV8oyxN0//yH99nXg5D8qOpLLf0jtP5kqGJXUifQ/c9cS8kHP/D+/DpwzojQEQIEmwoanVwxA4lgXt9HgE0BSSZ2AJuIbQAMJih9jjiNA5q4l5INuK0AwTKYKRj0zQNv5fmq8/DpAaCJseHrtQkB/+zpwzoxKQM3MzMzMeFJAZmZmZmZqWEAAAAAAAFxeQM3MzMzMJmJAmpmZmZkfZUBmZmZmZhhoQDMzMzMzEWtAAAAAAAAKbkBmZmZmZoFwQM3MzMzM/XFAMzMzMzN6c0CamZmZmfZ0QAAAAAAAc3ZAZmZmZmbvd0DNzMzMzGt5QDMzMzMz6HpAmpmZmZlkfEAAAAAAAOF9QGZmZmZmXX9AZmZmZuZsgECamZmZGSuBQM3MzMxM6YFAAAAAAICngkAzMzMzs2WDQGZmZmbmI4RAmpmZmRnihEDNzMzMTKCFQAAAAACAXoZAMzMzM7Mch0BmZmZm5tqHQJqZmZkZmYhAzczMzExXiUAAAAAAgBWKQDMzMzOz04pAZmZmZuaRi0CamZmZGVCMQM3MzMxMDo1AAAAAAIDMjUAzMzMzs4qOQGZmZmbmSI9A\",\"dtype\":\"float64\",\"shape\":[75]}},\"selected\":{\"id\":\"064b5ade-382f-4d57-ab47-fd10428ab2d9\",\"type\":\"Selection\"},\"selection_policy\":{\"id\":\"e735857f-de15-4145-b199-6765581479c2\",\"type\":\"UnionRenderers\"}},\"id\":\"8f2fd3ee-ec94-4f59-88be-0bc3ceb7f292\",\"type\":\"ColumnDataSource\"},{\"attributes\":{},\"id\":\"4a423940-da19-46a8-ab49-144762823b6b\",\"type\":\"HelpTool\"},{\"attributes\":{\"fill_alpha\":{\"value\":0.7},\"fill_color\":{\"value\":\"#4daf4a\"},\"line_alpha\":{\"value\":0.7},\"line_color\":{\"value\":\"#4daf4a\"},\"x\":{\"field\":\"x\"},\"y\":{\"field\":\"y\"}},\"id\":\"40b8906f-304e-43ec-8647-f8cd9fd9bf85\",\"type\":\"Circle\"},{\"attributes\":{\"overlay\":{\"id\":\"88be7ebf-2f16-40dd-bc63-4e4d700e0e1d\",\"type\":\"BoxAnnotation\"}},\"id\":\"4b78ad89-280d-4741-8083-3c3e4afc9d49\",\"type\":\"BoxZoomTool\"},{\"attributes\":{\"callback\":null,\"data\":{\"x\":{\"__ndarray__\":\"zApFup+FRUDUKY9uhNNCQLyVJTrLtEFAHhSUopUdQEDVJeMYyRY8QP4lqUwxKzdABoTWw5fpMUD+QSRDjgUqQJpLu+LzSCJAQw3w7hKeGkAE9/LxvzsVQN3LIrmhBhJAC6arhaOVDUAyvEhXnzEDQI8PaQpT6v4/Dg8GQ8KsBUABjpg0oUQMQNNCbitinRBAg5MjU/TeE0D3F+aps08ZQPzFbMmqDCFAAHFXryIDJ0B5dCMsKhooQJ4GDJI+hSRAiJtTyQAoIUDOVOMAVVccQAMSXszgWRhAb2b0o+EsFEBc13llKMgPQDZPZJx1PAlAsYUgByU8BUAe91IdF3oAQIypqoazsfQ/F0Oc+2kL5j/o1hDB3f7QP4u/klCficG/2xOo7l+T3r9bcdzvcSLYv0Ot+K2uL1+/D9+6SalXxT/w8OiQ5a7YP8arKDXmu+w//zebM0e79j+avBKSFtj9PxYh0PRt7ABAxYFGn0WFAUDbh7zl6kcCQOulzkgpTQJAlSR0PAsXAUDn5bD7joEAQOtDzUadTwBAmVZUDncvAEDbv7LSpAQAQDTQIRVrnf8/t926URpA/z/ucrYlFwj/P1QT6SOVDv8/GqjnOBJD/z/MH3ghwmT/Py0u6YPAZf8/57S4EPVM/z/ljHJ6KPv+P72WRoJf2f0/MnbCS3DK/D8SeYFIdTD6P0xDQ7V3nPc/FkYfmEju9T+Qvd798X70P8xuHGeJxPM/hCo1e6CV8z+uefqtQq/zP1JEhlW8EfQ/UPl8OVgE9T+DlVS3xLv2PxqOQu0S2CPA\",\"dtype\":\"float64\",\"shape\":[75]},\"y\":{\"__ndarray__\":\"GhExyth1ND/Sv8nbtpRIP2vylNV0PVE/aTum7souWD/At0SJ8fVgPw3Iuahxymc/MSNhhJWvcD/bTfBN02d3P2zb5nxnaoA/CD5h5MAGhz8NmeH1TyaQP+zrCsc9p5Y/LbKd76fGnz/bLW5ISEmmPww9YvTcQq8/JV2OstnstT8Er5Y7M8G+P0c+r3jqkcU/5h99k6ZBzj88bCIzFzjVP4enV8oyxN0//yH99nXg5D8qOpLLf0jtP5kqGJXUifQ/c9cS8kHP/D+/DpwzojQEQIEmwoanVwxA4lgXt9HgE0BSSZ2AJuIbQAMJih9jjiNA5q4l5INuK0AwTKYKRj0zQNv5fmq8/DpAaCJseHrtQkB/+zpwzoxKQM3MzMzMeFJAZmZmZmZqWEAAAAAAAFxeQM3MzMzMJmJAmpmZmZkfZUBmZmZmZhhoQDMzMzMzEWtAAAAAAAAKbkBmZmZmZoFwQM3MzMzM/XFAMzMzMzN6c0CamZmZmfZ0QAAAAAAAc3ZAZmZmZmbvd0DNzMzMzGt5QDMzMzMz6HpAmpmZmZlkfEAAAAAAAOF9QGZmZmZmXX9AZmZmZuZsgECamZmZGSuBQM3MzMxM6YFAAAAAAICngkAzMzMzs2WDQGZmZmbmI4RAmpmZmRnihEDNzMzMTKCFQAAAAACAXoZAMzMzM7Mch0BmZmZm5tqHQJqZmZkZmYhAzczMzExXiUAAAAAAgBWKQDMzMzOz04pAZmZmZuaRi0CamZmZGVCMQM3MzMxMDo1AAAAAAIDMjUAzMzMzs4qOQGZmZmbmSI9A\",\"dtype\":\"float64\",\"shape\":[75]}},\"selected\":{\"id\":\"42a3dfdc-876d-45e1-9dc4-b9d1687cdc2a\",\"type\":\"Selection\"},\"selection_policy\":{\"id\":\"d040d363-a75a-48be-91de-148366f41d14\",\"type\":\"UnionRenderers\"}},\"id\":\"be8c9e15-9f4b-4e06-82cf-b7585f3aa5e6\",\"type\":\"ColumnDataSource\"},{\"attributes\":{\"axis_label\":\"cooling rate [K/day]\",\"formatter\":{\"id\":\"e7b4e65b-5130-44dd-b792-27a1e1b28067\",\"type\":\"BasicTickFormatter\"},\"plot\":{\"id\":\"d76495db-1ac0-4f41-9f6b-75d5c81d5c8d\",\"subtype\":\"Figure\",\"type\":\"Plot\"},\"ticker\":{\"id\":\"a4751700-22aa-4cf0-86b2-e48966b37a88\",\"type\":\"BasicTicker\"}},\"id\":\"44c03a50-4f47-459f-aa46-d41e424cc0ea\",\"type\":\"LinearAxis\"},{\"attributes\":{},\"id\":\"a4751700-22aa-4cf0-86b2-e48966b37a88\",\"type\":\"BasicTicker\"},{\"attributes\":{\"bottom_units\":\"screen\",\"fill_alpha\":{\"value\":0.5},\"fill_color\":{\"value\":\"lightgrey\"},\"left_units\":\"screen\",\"level\":\"overlay\",\"line_alpha\":{\"value\":1.0},\"line_color\":{\"value\":\"black\"},\"line_dash\":[4,4],\"line_width\":{\"value\":2},\"plot\":null,\"render_mode\":\"css\",\"right_units\":\"screen\",\"top_units\":\"screen\"},\"id\":\"3f0d1902-9786-4167-a78e-0749fd81bbdd\",\"type\":\"BoxAnnotation\"},{\"attributes\":{\"num_minor_ticks\":10},\"id\":\"1c9eed20-8fb8-420f-85a5-6ac49237aa92\",\"type\":\"LogTicker\"},{\"attributes\":{\"callback\":null,\"data\":{\"x\":{\"__ndarray__\":\"RbL8BYRneEBOmGgOXQR3QKXTYvyp/HVA310U9ytBdEBfdU8gqcpxQAikU3tNcW1ALWB4ZFy1ZkAKleQWUlpgQNss6eITq1ZAQCmBKjBOUEBzKrKt2ABKQErEHp4LS0ZAhPl9l/6IQkAOSdvrknQ4QMXKyfn+3DNAqzzq9kdzO0CqQ2xiAbRBQHxcU670oURAK7N+QOKRSEAwrQZMeF5PQE8/HTpHPFVAnKUzB2C9XEBusc5/qh5eQPA/BLK8mFlAHJAX4cRaVUCu/bVl1a9RQNK3O1uCmU5AehdZs4VjSUBsk9GuculDQPgl603qjj9AZ7ZuNSnIOkD0kDGPsek0QLba6AbIIypA2ODk9nhWG0BQdG4eeAkFQF2xP9CEUPW/1PdsfB85E8BcApSqRcIOwMqkOKAXTLS/bNTRGtfN+T9gJleMWV8OQNuN1M6x1SFAPbFNk7FGLED+Yy988ZoyQCH+XzQXFzVAqXI4fDTHNUA5LmJouMU2QKbJn30v0TZABsvw2odHNUDT81pIwYw0QJT7BhpHVTRArcewf3UzNECGJ17fswA0QJxDnL3hvDNAfwGOE5eAM0Aie7H2Rl0zQMH7q4FNZTNAK+2BFMSNM0DBfxurEqozQABGURnfrTNA/PyUtvqbM0AQld7o92IzQFIyMUTrpzJAkCvAOrj8MUDFX2q2+F4wQIcVjaeakC1A9yw7ROSFK0DQSLNaIcMpQF10L8F72yhAdsFEofyiKEAoMRlNLsUoQMpWgyZ8QilAJ9P8Q8d5KkDBIO0eIKcsQErwmBdmzlvA\",\"dtype\":\"float64\",\"shape\":[75]},\"y\":{\"__ndarray__\":\"GhExyth1ND/Sv8nbtpRIP2vylNV0PVE/aTum7souWD/At0SJ8fVgPw3Iuahxymc/MSNhhJWvcD/bTfBN02d3P2zb5nxnaoA/CD5h5MAGhz8NmeH1TyaQP+zrCsc9p5Y/LbKd76fGnz/bLW5ISEmmPww9YvTcQq8/JV2OstnstT8Er5Y7M8G+P0c+r3jqkcU/5h99k6ZBzj88bCIzFzjVP4enV8oyxN0//yH99nXg5D8qOpLLf0jtP5kqGJXUifQ/c9cS8kHP/D+/DpwzojQEQIEmwoanVwxA4lgXt9HgE0BSSZ2AJuIbQAMJih9jjiNA5q4l5INuK0AwTKYKRj0zQNv5fmq8/DpAaCJseHrtQkB/+zpwzoxKQM3MzMzMeFJAZmZmZmZqWEAAAAAAAFxeQM3MzMzMJmJAmpmZmZkfZUBmZmZmZhhoQDMzMzMzEWtAAAAAAAAKbkBmZmZmZoFwQM3MzMzM/XFAMzMzMzN6c0CamZmZmfZ0QAAAAAAAc3ZAZmZmZmbvd0DNzMzMzGt5QDMzMzMz6HpAmpmZmZlkfEAAAAAAAOF9QGZmZmZmXX9AZmZmZuZsgECamZmZGSuBQM3MzMxM6YFAAAAAAICngkAzMzMzs2WDQGZmZmbmI4RAmpmZmRnihEDNzMzMTKCFQAAAAACAXoZAMzMzM7Mch0BmZmZm5tqHQJqZmZkZmYhAzczMzExXiUAAAAAAgBWKQDMzMzOz04pAZmZmZuaRi0CamZmZGVCMQM3MzMxMDo1AAAAAAIDMjUAzMzMzs4qOQGZmZmbmSI9A\",\"dtype\":\"float64\",\"shape\":[75]}},\"selected\":{\"id\":\"65aa62bc-cdca-4097-ac0a-fe2a131deee9\",\"type\":\"Selection\"},\"selection_policy\":{\"id\":\"8bf05ef8-2249-4479-8f0f-0f1d90e1140a\",\"type\":\"UnionRenderers\"}},\"id\":\"38d2df02-2d5c-4f49-b591-f349e82e420f\",\"type\":\"ColumnDataSource\"},{\"attributes\":{},\"id\":\"934c6658-91ec-46e2-ac43-f1d3a18f202b\",\"type\":\"LinearScale\"},{\"attributes\":{\"ticker\":null},\"id\":\"88767f6c-4509-4251-ac55-362d12727d40\",\"type\":\"LogTickFormatter\"},{\"attributes\":{\"bottom_units\":\"screen\",\"fill_alpha\":{\"value\":0.5},\"fill_color\":{\"value\":\"lightgrey\"},\"left_units\":\"screen\",\"level\":\"overlay\",\"line_alpha\":{\"value\":1.0},\"line_color\":{\"value\":\"black\"},\"line_dash\":[4,4],\"line_width\":{\"value\":2},\"plot\":null,\"render_mode\":\"css\",\"right_units\":\"screen\",\"top_units\":\"screen\"},\"id\":\"88be7ebf-2f16-40dd-bc63-4e4d700e0e1d\",\"type\":\"BoxAnnotation\"},{\"attributes\":{},\"id\":\"e06fe0e1-b7c7-4050-afa1-398916901646\",\"type\":\"LogScale\"},{\"attributes\":{},\"id\":\"be40ed72-ff47-4f24-a68b-54b43c0d46f0\",\"type\":\"SaveTool\"},{\"attributes\":{\"callback\":null,\"end\":0.01,\"start\":1020},\"id\":\"231463dc-4d45-4ce8-952e-875a661439bd\",\"type\":\"Range1d\"},{\"attributes\":{},\"id\":\"7237b484-d8b8-4949-97fe-d157558bd7f0\",\"type\":\"ResetTool\"},{\"attributes\":{\"line_alpha\":0.6,\"line_color\":\"#377eb8\",\"line_dash\":[6],\"line_width\":5,\"x\":{\"field\":\"x\"},\"y\":{\"field\":\"y\"}},\"id\":\"e9ca1f1c-b839-4d31-8a11-12ec93261874\",\"type\":\"Line\"},{\"attributes\":{\"ticker\":null},\"id\":\"219e0782-0a87-4c39-b9d4-5c6fb0bc0d93\",\"type\":\"LogTickFormatter\"},{\"attributes\":{\"dimension\":1,\"plot\":{\"id\":\"8015e1ee-e7b4-401a-81d6-e0cb40b45de8\",\"subtype\":\"Figure\",\"type\":\"Plot\"},\"ticker\":{\"id\":\"1c9eed20-8fb8-420f-85a5-6ac49237aa92\",\"type\":\"LogTicker\"}},\"id\":\"34f2fb81-532b-4357-b3d6-14abc45fe445\",\"type\":\"Grid\"},{\"attributes\":{},\"id\":\"2fd4e29d-e65b-4827-a270-12d927654e9d\",\"type\":\"UnionRenderers\"},{\"attributes\":{\"above\":[{\"id\":\"340ed7df-b6ce-46d4-a628-ad13ed50ed2a\",\"type\":\"Legend\"}],\"below\":[{\"id\":\"14d8f12c-1188-451a-ab6a-bb731ab2834e\",\"type\":\"LinearAxis\"}],\"left\":[{\"id\":\"50c946d8-9172-47e7-a00d-646ea49fc537\",\"type\":\"LogAxis\"}],\"plot_width\":300,\"renderers\":[{\"id\":\"14d8f12c-1188-451a-ab6a-bb731ab2834e\",\"type\":\"LinearAxis\"},{\"id\":\"e22bf9b5-bd71-4944-8594-a2d3120d33f6\",\"type\":\"Grid\"},{\"id\":\"50c946d8-9172-47e7-a00d-646ea49fc537\",\"type\":\"LogAxis\"},{\"id\":\"34f2fb81-532b-4357-b3d6-14abc45fe445\",\"type\":\"Grid\"},{\"id\":\"88be7ebf-2f16-40dd-bc63-4e4d700e0e1d\",\"type\":\"BoxAnnotation\"},{\"id\":\"da2171fd-24d6-4624-bda1-daf8a2cb33b2\",\"type\":\"GlyphRenderer\"},{\"id\":\"d5254ac4-43b5-4c20-a9aa-131021bc7393\",\"type\":\"GlyphRenderer\"},{\"id\":\"a4ad2f04-92f9-4bae-b3f2-49952a26bbf8\",\"type\":\"GlyphRenderer\"},{\"id\":\"340ed7df-b6ce-46d4-a628-ad13ed50ed2a\",\"type\":\"Legend\"}],\"title\":{\"id\":\"f63d7295-3536-4bb7-8d75-9e748a60cd1b\",\"type\":\"Title\"},\"toolbar\":{\"id\":\"dba1ca36-4870-4b05-832e-cfb824683cc7\",\"type\":\"Toolbar\"},\"toolbar_location\":null,\"x_range\":{\"id\":\"0b69eee7-21cf-4f37-aa05-5600a231936a\",\"type\":\"Range1d\"},\"x_scale\":{\"id\":\"4a1ea870-4259-4a1e-95d9-07b755d2dddc\",\"type\":\"LinearScale\"},\"y_range\":{\"id\":\"653e9da5-d04c-4421-89c4-0279d994140d\",\"type\":\"Range1d\"},\"y_scale\":{\"id\":\"6a1809c9-8ea4-419d-82a8-1832dcdc21f3\",\"type\":\"LogScale\"}},\"id\":\"8015e1ee-e7b4-401a-81d6-e0cb40b45de8\",\"subtype\":\"Figure\",\"type\":\"Plot\"},{\"attributes\":{\"source\":{\"id\":\"be8c9e15-9f4b-4e06-82cf-b7585f3aa5e6\",\"type\":\"ColumnDataSource\"}},\"id\":\"47ba0e83-a70b-4b25-b828-0940eabec654\",\"type\":\"CDSView\"},{\"attributes\":{\"children\":[{\"id\":\"05d20c6d-d9f0-4133-a060-6579896ba61e\",\"type\":\"ToolbarBox\"},{\"id\":\"ecf4078c-12b7-4e18-84d2-34817e87ca22\",\"type\":\"Column\"}]},\"id\":\"8b4eec7c-ac2b-426d-9ad6-541ba52c1c21\",\"type\":\"Column\"},{\"attributes\":{\"callback\":null,\"data\":{\"x\":{\"__ndarray__\":\"R/KIaN7AVEClCeJMyPNGQOvRhpxr30JAptxzhxx4PkA7SssMElA4QK6Bp3CyUDNAsVXpjES9LkBFhUV0+5coQMHYwqbbySNA6f09nM3nH0CaSd/3eYoZQDmgiAOW8BNAPYqARh3eDEBkm4vCgvr+P9D+5tWhQfY/P8DwKRnSAkBq38kb17ILQDT7IWuSsxFAUr2Rjm0FFkAinq3s9XgbQGCHwtYcqSFAG64kT303J0C7dRDneyooQD9JYrbK8yRA9S3bneHhIUAIymSuUMMcQIkHLe6VEBdAAau3cITREkA6CiNvkQIPQJU39ki7IQlAaAvwok1UA0BXLQiS4+L7P0xzDpJ2hPI/NNuPGMbJ5z91mUVYxqfSPxqwUPSxZca/G11peifD3L8QzNj5t2jTvwzOozTL360/SPJ4VI1VzD9KJ0nXEIncP8yDdlvHt+4/Et49nYLW9z++2teD4Jn+P+568eH/bwFALf5D9lmAAkCiZAicVOkCQPPT4jNKxwJAOjp3wTzBAUBSQsKNGisBQG4OmjqJwQBAJ3sZoHFuAEA5Ar0Sdi0AQGy4rw5+9f8/7W4nSrC3/z8mPr8zj4T/P4UYRHCQS/8/embVKYcF/z+5YXG+LLP+P/qb8BVUgf4/KvafTtyO/j/avAK1Ppv+PwJV9VVm2P0/JFtYlU/n/D9sN+q2fiX6Pw44e41PNPc/Opt+Z/wN9T+x3vcSW1vzP9ofvWQJlvI/8sciQQBW8j80sfkQa17yPzg5qng2r/I/Oh14WJBh8z+VZjnpctj0P6CcrSuCqQBA\",\"dtype\":\"float64\",\"shape\":[75]},\"y\":{\"__ndarray__\":\"GhExyth1ND/Sv8nbtpRIP2vylNV0PVE/aTum7souWD/At0SJ8fVgPw3Iuahxymc/MSNhhJWvcD/bTfBN02d3P2zb5nxnaoA/CD5h5MAGhz8NmeH1TyaQP+zrCsc9p5Y/LbKd76fGnz/bLW5ISEmmPww9YvTcQq8/JV2OstnstT8Er5Y7M8G+P0c+r3jqkcU/5h99k6ZBzj88bCIzFzjVP4enV8oyxN0//yH99nXg5D8qOpLLf0jtP5kqGJXUifQ/c9cS8kHP/D+/DpwzojQEQIEmwoanVwxA4lgXt9HgE0BSSZ2AJuIbQAMJih9jjiNA5q4l5INuK0AwTKYKRj0zQNv5fmq8/DpAaCJseHrtQkB/+zpwzoxKQM3MzMzMeFJAZmZmZmZqWEAAAAAAAFxeQM3MzMzMJmJAmpmZmZkfZUBmZmZmZhhoQDMzMzMzEWtAAAAAAAAKbkBmZmZmZoFwQM3MzMzM/XFAMzMzMzN6c0CamZmZmfZ0QAAAAAAAc3ZAZmZmZmbvd0DNzMzMzGt5QDMzMzMz6HpAmpmZmZlkfEAAAAAAAOF9QGZmZmZmXX9AZmZmZuZsgECamZmZGSuBQM3MzMxM6YFAAAAAAICngkAzMzMzs2WDQGZmZmbmI4RAmpmZmRnihEDNzMzMTKCFQAAAAACAXoZAMzMzM7Mch0BmZmZm5tqHQJqZmZkZmYhAzczMzExXiUAAAAAAgBWKQDMzMzOz04pAZmZmZuaRi0CamZmZGVCMQM3MzMxMDo1AAAAAAIDMjUAzMzMzs4qOQGZmZmbmSI9A\",\"dtype\":\"float64\",\"shape\":[75]}},\"selected\":{\"id\":\"0074907d-1e7c-4594-bcad-48ef025be396\",\"type\":\"Selection\"},\"selection_policy\":{\"id\":\"7436d531-38f1-495a-8e09-e3850173fb1e\",\"type\":\"UnionRenderers\"}},\"id\":\"66236ee2-94bc-4996-be29-3807b569e380\",\"type\":\"ColumnDataSource\"},{\"attributes\":{\"items\":[{\"id\":\"64678a75-b0e8-4c8c-9853-10d4eeba4940\",\"type\":\"LegendItem\"}],\"label_text_font_size\":{\"value\":\"8pt\"},\"location\":\"top_center\",\"orientation\":\"horizontal\",\"plot\":{\"id\":\"d76495db-1ac0-4f41-9f6b-75d5c81d5c8d\",\"subtype\":\"Figure\",\"type\":\"Plot\"}},\"id\":\"5b30f062-5076-4da3-8a9f-2413aa98aa59\",\"type\":\"Legend\"},{\"attributes\":{\"plot\":{\"id\":\"d76495db-1ac0-4f41-9f6b-75d5c81d5c8d\",\"subtype\":\"Figure\",\"type\":\"Plot\"},\"ticker\":{\"id\":\"a4751700-22aa-4cf0-86b2-e48966b37a88\",\"type\":\"BasicTicker\"}},\"id\":\"3e85d873-89d4-43cb-9c0e-c123deed1508\",\"type\":\"Grid\"},{\"attributes\":{},\"id\":\"441136a2-e3e5-4605-83d5-099a9bac7665\",\"type\":\"Selection\"},{\"attributes\":{},\"id\":\"8bf05ef8-2249-4479-8f0f-0f1d90e1140a\",\"type\":\"UnionRenderers\"},{\"attributes\":{},\"id\":\"7436d531-38f1-495a-8e09-e3850173fb1e\",\"type\":\"UnionRenderers\"},{\"attributes\":{\"line_alpha\":0.1,\"line_color\":\"#1f77b4\",\"line_dash\":[6],\"line_width\":5,\"x\":{\"field\":\"x\"},\"y\":{\"field\":\"y\"}},\"id\":\"59487aeb-c869-4de7-a0ff-fbb5d7b537bd\",\"type\":\"Line\"},{\"attributes\":{\"data_source\":{\"id\":\"be8c9e15-9f4b-4e06-82cf-b7585f3aa5e6\",\"type\":\"ColumnDataSource\"},\"glyph\":{\"id\":\"e9ca1f1c-b839-4d31-8a11-12ec93261874\",\"type\":\"Line\"},\"hover_glyph\":null,\"muted_glyph\":null,\"nonselection_glyph\":{\"id\":\"59487aeb-c869-4de7-a0ff-fbb5d7b537bd\",\"type\":\"Line\"},\"selection_glyph\":null,\"view\":{\"id\":\"47ba0e83-a70b-4b25-b828-0940eabec654\",\"type\":\"CDSView\"}},\"id\":\"da2171fd-24d6-4624-bda1-daf8a2cb33b2\",\"type\":\"GlyphRenderer\"},{\"attributes\":{\"data_source\":{\"id\":\"e0a75d6e-8ac1-47b6-b511-59254df3e74c\",\"type\":\"ColumnDataSource\"},\"glyph\":{\"id\":\"447e002b-393e-48a7-926a-42bf24fd6283\",\"type\":\"Line\"},\"hover_glyph\":null,\"muted_glyph\":null,\"nonselection_glyph\":{\"id\":\"1073a153-dbc2-4459-a0be-968db319152e\",\"type\":\"Line\"},\"selection_glyph\":null,\"view\":{\"id\":\"811dde9b-84b0-406a-a1c6-a7bf124e7b83\",\"type\":\"CDSView\"}},\"id\":\"5439a5a4-3256-46fa-b6e2-7e4d03739352\",\"type\":\"GlyphRenderer\"},{\"attributes\":{},\"id\":\"ad0d0423-46ca-408c-8d1b-bea779de9fd8\",\"type\":\"Selection\"},{\"attributes\":{\"source\":{\"id\":\"e0a75d6e-8ac1-47b6-b511-59254df3e74c\",\"type\":\"ColumnDataSource\"}},\"id\":\"811dde9b-84b0-406a-a1c6-a7bf124e7b83\",\"type\":\"CDSView\"},{\"attributes\":{},\"id\":\"79c52eb4-7d81-4263-9585-3ddb456210e2\",\"type\":\"BasicTickFormatter\"},{\"attributes\":{\"plot\":null,\"text\":\"\"},\"id\":\"0cedfd4a-d569-442a-944a-c7b254c05791\",\"type\":\"Title\"},{\"attributes\":{\"label\":{\"value\":\"CLIRAD (single-run)\"},\"renderers\":[{\"id\":\"0974c4a2-ffa5-4384-93fd-3f18435c8ec1\",\"type\":\"GlyphRenderer\"}]},\"id\":\"1cf1c47b-e2ea-49a4-9d1d-308ce044bfca\",\"type\":\"LegendItem\"},{\"attributes\":{\"toolbar\":{\"id\":\"b0bc4925-f0d7-4333-a1e4-d5773844888f\",\"type\":\"ProxyToolbar\"},\"toolbar_location\":\"above\"},\"id\":\"05d20c6d-d9f0-4133-a060-6579896ba61e\",\"type\":\"ToolbarBox\"},{\"attributes\":{\"active_drag\":\"auto\",\"active_inspect\":\"auto\",\"active_scroll\":\"auto\",\"active_tap\":\"auto\",\"tools\":[{\"id\":\"d4702c0f-f5d1-4120-9f5f-df12e12dcfda\",\"type\":\"PanTool\"},{\"id\":\"6b6707f4-5964-446d-b878-47167f207b1a\",\"type\":\"WheelZoomTool\"},{\"id\":\"4b78ad89-280d-4741-8083-3c3e4afc9d49\",\"type\":\"BoxZoomTool\"},{\"id\":\"be40ed72-ff47-4f24-a68b-54b43c0d46f0\",\"type\":\"SaveTool\"},{\"id\":\"e7d7a5c5-78f3-42ee-9932-2faacdaafd1e\",\"type\":\"ResetTool\"},{\"id\":\"4a423940-da19-46a8-ab49-144762823b6b\",\"type\":\"HelpTool\"}]},\"id\":\"dba1ca36-4870-4b05-832e-cfb824683cc7\",\"type\":\"Toolbar\"},{\"attributes\":{},\"id\":\"d4702c0f-f5d1-4120-9f5f-df12e12dcfda\",\"type\":\"PanTool\"},{\"attributes\":{\"tools\":[{\"id\":\"9e98e9d3-e036-47fc-8b31-af4abfe6bed8\",\"type\":\"PanTool\"},{\"id\":\"eae51ee7-0006-4632-8cfd-955ab2b20df5\",\"type\":\"WheelZoomTool\"},{\"id\":\"1e306d3b-73ee-4109-bd7b-1373ac86645c\",\"type\":\"BoxZoomTool\"},{\"id\":\"8a63103f-9ed4-46bd-b408-19ae924380e6\",\"type\":\"SaveTool\"},{\"id\":\"7237b484-d8b8-4949-97fe-d157558bd7f0\",\"type\":\"ResetTool\"},{\"id\":\"e2996d33-d819-4bb6-96a3-cabeb73247a0\",\"type\":\"HelpTool\"},{\"id\":\"d4702c0f-f5d1-4120-9f5f-df12e12dcfda\",\"type\":\"PanTool\"},{\"id\":\"6b6707f4-5964-446d-b878-47167f207b1a\",\"type\":\"WheelZoomTool\"},{\"id\":\"4b78ad89-280d-4741-8083-3c3e4afc9d49\",\"type\":\"BoxZoomTool\"},{\"id\":\"be40ed72-ff47-4f24-a68b-54b43c0d46f0\",\"type\":\"SaveTool\"},{\"id\":\"e7d7a5c5-78f3-42ee-9932-2faacdaafd1e\",\"type\":\"ResetTool\"},{\"id\":\"4a423940-da19-46a8-ab49-144762823b6b\",\"type\":\"HelpTool\"},{\"id\":\"25dd95e2-28b7-4326-8f8f-e37f4faf8dbb\",\"type\":\"PanTool\"},{\"id\":\"2fec810b-61aa-47a1-9e3a-3541e0d19467\",\"type\":\"WheelZoomTool\"},{\"id\":\"835ccda7-fc06-4217-812d-4151cff389d0\",\"type\":\"BoxZoomTool\"},{\"id\":\"47337400-94ca-4d17-92f9-b64a9e7830a9\",\"type\":\"SaveTool\"},{\"id\":\"a8aeb4d2-7bde-4dc0-88ba-6ed5ac94567f\",\"type\":\"ResetTool\"},{\"id\":\"d2f9983e-6195-4741-868e-79048a1498dd\",\"type\":\"HelpTool\"}]},\"id\":\"b0bc4925-f0d7-4333-a1e4-d5773844888f\",\"type\":\"ProxyToolbar\"},{\"attributes\":{},\"id\":\"c4077f58-1313-40e1-a371-7ab7a4dae355\",\"type\":\"UnionRenderers\"},{\"attributes\":{\"items\":[{\"id\":\"70bec42a-063b-4cb3-b24d-bce4593116c3\",\"type\":\"LegendItem\"},{\"id\":\"618fc499-b871-40ec-94a8-065d6a1bda0f\",\"type\":\"LegendItem\"}],\"label_text_font_size\":{\"value\":\"8pt\"},\"location\":\"top_center\",\"orientation\":\"horizontal\",\"plot\":{\"id\":\"8015e1ee-e7b4-401a-81d6-e0cb40b45de8\",\"subtype\":\"Figure\",\"type\":\"Plot\"}},\"id\":\"340ed7df-b6ce-46d4-a628-ad13ed50ed2a\",\"type\":\"Legend\"},{\"attributes\":{\"callback\":null,\"end\":121.7320058544242,\"start\":-6.058633578406219},\"id\":\"845ec260-1d65-493f-b0b7-8028d39c19e6\",\"type\":\"Range1d\"},{\"attributes\":{\"plot\":{\"id\":\"8015e1ee-e7b4-401a-81d6-e0cb40b45de8\",\"subtype\":\"Figure\",\"type\":\"Plot\"},\"ticker\":{\"id\":\"6265cee3-4a83-4cf8-941b-655e002c9195\",\"type\":\"BasicTicker\"}},\"id\":\"e22bf9b5-bd71-4944-8594-a2d3120d33f6\",\"type\":\"Grid\"},{\"attributes\":{\"source\":{\"id\":\"702b696f-0307-4976-946e-5c974d23893a\",\"type\":\"ColumnDataSource\"}},\"id\":\"c423b952-f9f6-4edf-a705-168691c83f9a\",\"type\":\"CDSView\"},{\"attributes\":{\"overlay\":{\"id\":\"3f0d1902-9786-4167-a78e-0749fd81bbdd\",\"type\":\"BoxAnnotation\"}},\"id\":\"1e306d3b-73ee-4109-bd7b-1373ac86645c\",\"type\":\"BoxZoomTool\"},{\"attributes\":{},\"id\":\"6a1809c9-8ea4-419d-82a8-1832dcdc21f3\",\"type\":\"LogScale\"},{\"attributes\":{\"axis_label\":\"pressure [mb]\",\"formatter\":{\"id\":\"219e0782-0a87-4c39-b9d4-5c6fb0bc0d93\",\"type\":\"LogTickFormatter\"},\"plot\":{\"id\":\"8015e1ee-e7b4-401a-81d6-e0cb40b45de8\",\"subtype\":\"Figure\",\"type\":\"Plot\"},\"ticker\":{\"id\":\"1c9eed20-8fb8-420f-85a5-6ac49237aa92\",\"type\":\"LogTicker\"}},\"id\":\"50c946d8-9172-47e7-a00d-646ea49fc537\",\"type\":\"LogAxis\"},{\"attributes\":{},\"id\":\"4a1ea870-4259-4a1e-95d9-07b755d2dddc\",\"type\":\"LinearScale\"},{\"attributes\":{},\"id\":\"9e98e9d3-e036-47fc-8b31-af4abfe6bed8\",\"type\":\"PanTool\"},{\"attributes\":{\"data_source\":{\"id\":\"c2145b4e-455b-429f-af23-ed98ebfbba6a\",\"type\":\"ColumnDataSource\"},\"glyph\":{\"id\":\"821d9b56-18b1-405c-a055-9883ef1971f6\",\"type\":\"Line\"},\"hover_glyph\":null,\"muted_glyph\":null,\"nonselection_glyph\":{\"id\":\"a39fe0a3-2ca8-4f64-be54-50381b22919c\",\"type\":\"Line\"},\"selection_glyph\":null,\"view\":{\"id\":\"f08327b7-b4d7-49ed-b72f-cb21d4ee4647\",\"type\":\"CDSView\"}},\"id\":\"0974c4a2-ffa5-4384-93fd-3f18435c8ec1\",\"type\":\"GlyphRenderer\"},{\"attributes\":{},\"id\":\"e7b4e65b-5130-44dd-b792-27a1e1b28067\",\"type\":\"BasicTickFormatter\"},{\"attributes\":{\"dimension\":1,\"plot\":{\"id\":\"d76495db-1ac0-4f41-9f6b-75d5c81d5c8d\",\"subtype\":\"Figure\",\"type\":\"Plot\"},\"ticker\":{\"id\":\"1aef23fa-43cd-416b-929b-8e8fc1820999\",\"type\":\"LogTicker\"}},\"id\":\"2d569300-efef-42df-b6ec-f94f3ce5eefa\",\"type\":\"Grid\"},{\"attributes\":{},\"id\":\"6265cee3-4a83-4cf8-941b-655e002c9195\",\"type\":\"BasicTicker\"},{\"attributes\":{\"data_source\":{\"id\":\"66236ee2-94bc-4996-be29-3807b569e380\",\"type\":\"ColumnDataSource\"},\"glyph\":{\"id\":\"a91a0f50-b52c-495b-888f-385b14c6e372\",\"type\":\"Circle\"},\"hover_glyph\":null,\"muted_glyph\":null,\"nonselection_glyph\":{\"id\":\"147415d5-110c-4d4f-b889-a2d5994658ac\",\"type\":\"Circle\"},\"selection_glyph\":null,\"view\":{\"id\":\"50633629-493c-44c6-a6be-69c44f1f64d1\",\"type\":\"CDSView\"}},\"id\":\"d5254ac4-43b5-4c20-a9aa-131021bc7393\",\"type\":\"GlyphRenderer\"},{\"attributes\":{\"fill_alpha\":{\"value\":0.7},\"fill_color\":{\"value\":\"#4daf4a\"},\"line_alpha\":{\"value\":0.7},\"line_color\":{\"value\":\"#4daf4a\"},\"x\":{\"field\":\"x\"},\"y\":{\"field\":\"y\"}},\"id\":\"a91a0f50-b52c-495b-888f-385b14c6e372\",\"type\":\"Circle\"},{\"attributes\":{\"label\":{\"value\":\"CRD\"},\"renderers\":[{\"id\":\"68f43ec3-701f-47ee-b000-9c92964c4cdd\",\"type\":\"GlyphRenderer\"},{\"id\":\"5439a5a4-3256-46fa-b6e2-7e4d03739352\",\"type\":\"GlyphRenderer\"}]},\"id\":\"f7a92628-dc00-46d5-a90c-e6075e2e94f6\",\"type\":\"LegendItem\"},{\"attributes\":{\"dimension\":1,\"plot\":{\"id\":\"adec0a2e-0f80-42a8-8229-81e41b371e87\",\"subtype\":\"Figure\",\"type\":\"Plot\"},\"ticker\":{\"id\":\"ce36b49d-64a3-4261-b750-c8a82f242c4d\",\"type\":\"BasicTicker\"}},\"id\":\"00862301-7217-4aa9-b1ae-c5e2754f8ead\",\"type\":\"Grid\"},{\"attributes\":{\"fill_alpha\":{\"value\":0.1},\"fill_color\":{\"value\":\"#1f77b4\"},\"line_alpha\":{\"value\":0.1},\"line_color\":{\"value\":\"#1f77b4\"},\"x\":{\"field\":\"x\"},\"y\":{\"field\":\"y\"}},\"id\":\"147415d5-110c-4d4f-b889-a2d5994658ac\",\"type\":\"Circle\"},{\"attributes\":{},\"id\":\"d040d363-a75a-48be-91de-148366f41d14\",\"type\":\"UnionRenderers\"},{\"attributes\":{\"callback\":null,\"data\":{\"x\":{\"__ndarray__\":\"R/KIaN7AVEClCeJMyPNGQOvRhpxr30JAptxzhxx4PkA7SssMElA4QK6Bp3CyUDNAsVXpjES9LkBFhUV0+5coQMHYwqbbySNA6f09nM3nH0CaSd/3eYoZQDmgiAOW8BNAPYqARh3eDEBkm4vCgvr+P9D+5tWhQfY/P8DwKRnSAkBq38kb17ILQDT7IWuSsxFAUr2Rjm0FFkAinq3s9XgbQGCHwtYcqSFAG64kT303J0C7dRDneyooQD9JYrbK8yRA9S3bneHhIUAIymSuUMMcQIkHLe6VEBdAAau3cITREkA6CiNvkQIPQJU39ki7IQlAaAvwok1UA0BXLQiS4+L7P0xzDpJ2hPI/NNuPGMbJ5z91mUVYxqfSPxqwUPSxZca/G11peifD3L8QzNj5t2jTvwzOozTL360/SPJ4VI1VzD9KJ0nXEIncP8yDdlvHt+4/Et49nYLW9z++2teD4Jn+P+568eH/bwFALf5D9lmAAkCiZAicVOkCQPPT4jNKxwJAOjp3wTzBAUBSQsKNGisBQG4OmjqJwQBAJ3sZoHFuAEA5Ar0Sdi0AQGy4rw5+9f8/7W4nSrC3/z8mPr8zj4T/P4UYRHCQS/8/embVKYcF/z+5YXG+LLP+P/qb8BVUgf4/KvafTtyO/j/avAK1Ppv+PwJV9VVm2P0/JFtYlU/n/D9sN+q2fiX6Pw44e41PNPc/Opt+Z/wN9T+x3vcSW1vzP9ofvWQJlvI/8sciQQBW8j80sfkQa17yPzg5qng2r/I/Oh14WJBh8z+VZjnpctj0P6CcrSuCqQBA\",\"dtype\":\"float64\",\"shape\":[75]},\"y\":{\"__ndarray__\":\"GhExyth1ND/Sv8nbtpRIP2vylNV0PVE/aTum7souWD/At0SJ8fVgPw3Iuahxymc/MSNhhJWvcD/bTfBN02d3P2zb5nxnaoA/CD5h5MAGhz8NmeH1TyaQP+zrCsc9p5Y/LbKd76fGnz/bLW5ISEmmPww9YvTcQq8/JV2OstnstT8Er5Y7M8G+P0c+r3jqkcU/5h99k6ZBzj88bCIzFzjVP4enV8oyxN0//yH99nXg5D8qOpLLf0jtP5kqGJXUifQ/c9cS8kHP/D+/DpwzojQEQIEmwoanVwxA4lgXt9HgE0BSSZ2AJuIbQAMJih9jjiNA5q4l5INuK0AwTKYKRj0zQNv5fmq8/DpAaCJseHrtQkB/+zpwzoxKQM3MzMzMeFJAZmZmZmZqWEAAAAAAAFxeQM3MzMzMJmJAmpmZmZkfZUBmZmZmZhhoQDMzMzMzEWtAAAAAAAAKbkBmZmZmZoFwQM3MzMzM/XFAMzMzMzN6c0CamZmZmfZ0QAAAAAAAc3ZAZmZmZmbvd0DNzMzMzGt5QDMzMzMz6HpAmpmZmZlkfEAAAAAAAOF9QGZmZmZmXX9AZmZmZuZsgECamZmZGSuBQM3MzMxM6YFAAAAAAICngkAzMzMzs2WDQGZmZmbmI4RAmpmZmRnihEDNzMzMTKCFQAAAAACAXoZAMzMzM7Mch0BmZmZm5tqHQJqZmZkZmYhAzczMzExXiUAAAAAAgBWKQDMzMzOz04pAZmZmZuaRi0CamZmZGVCMQM3MzMxMDo1AAAAAAIDMjUAzMzMzs4qOQGZmZmbmSI9A\",\"dtype\":\"float64\",\"shape\":[75]}},\"selected\":{\"id\":\"441136a2-e3e5-4605-83d5-099a9bac7665\",\"type\":\"Selection\"},\"selection_policy\":{\"id\":\"2fd4e29d-e65b-4827-a270-12d927654e9d\",\"type\":\"UnionRenderers\"}},\"id\":\"702b696f-0307-4976-946e-5c974d23893a\",\"type\":\"ColumnDataSource\"},{\"attributes\":{},\"id\":\"8a63103f-9ed4-46bd-b408-19ae924380e6\",\"type\":\"SaveTool\"},{\"attributes\":{\"callback\":null,\"end\":12.208583767697798,\"start\":-0.6033522559178},\"id\":\"0b69eee7-21cf-4f37-aa05-5600a231936a\",\"type\":\"Range1d\"},{\"attributes\":{\"line_color\":\"#4daf4a\",\"line_width\":1.5,\"x\":{\"field\":\"x\"},\"y\":{\"field\":\"y\"}},\"id\":\"af021a73-fbaa-4115-9c3b-a20809fe0b63\",\"type\":\"Line\"},{\"attributes\":{\"line_alpha\":0.1,\"line_color\":\"#1f77b4\",\"line_width\":1.5,\"x\":{\"field\":\"x\"},\"y\":{\"field\":\"y\"}},\"id\":\"f90d2d0c-a4c6-4889-8574-b08d56b84d85\",\"type\":\"Line\"},{\"attributes\":{\"above\":[{\"id\":\"5b30f062-5076-4da3-8a9f-2413aa98aa59\",\"type\":\"Legend\"}],\"below\":[{\"id\":\"44c03a50-4f47-459f-aa46-d41e424cc0ea\",\"type\":\"LinearAxis\"}],\"left\":[{\"id\":\"b3a6528f-50c5-4a08-913e-464a78da6db2\",\"type\":\"LogAxis\"}],\"plot_width\":300,\"renderers\":[{\"id\":\"44c03a50-4f47-459f-aa46-d41e424cc0ea\",\"type\":\"LinearAxis\"},{\"id\":\"3e85d873-89d4-43cb-9c0e-c123deed1508\",\"type\":\"Grid\"},{\"id\":\"b3a6528f-50c5-4a08-913e-464a78da6db2\",\"type\":\"LogAxis\"},{\"id\":\"2d569300-efef-42df-b6ec-f94f3ce5eefa\",\"type\":\"Grid\"},{\"id\":\"8e168786-7c55-44ac-bc73-e7ed59572911\",\"type\":\"BoxAnnotation\"},{\"id\":\"3fd41bca-2e8c-41b7-8cfc-7a7e2d05fe36\",\"type\":\"GlyphRenderer\"},{\"id\":\"2d381851-da21-4948-8287-57fc5d50f5c9\",\"type\":\"GlyphRenderer\"},{\"id\":\"5b30f062-5076-4da3-8a9f-2413aa98aa59\",\"type\":\"Legend\"}],\"title\":{\"id\":\"0cedfd4a-d569-442a-944a-c7b254c05791\",\"type\":\"Title\"},\"toolbar\":{\"id\":\"3cd18860-f763-4fae-84f9-62cfdfb5dd6b\",\"type\":\"Toolbar\"},\"toolbar_location\":null,\"x_range\":{\"id\":\"845ec260-1d65-493f-b0b7-8028d39c19e6\",\"type\":\"Range1d\"},\"x_scale\":{\"id\":\"934c6658-91ec-46e2-ac43-f1d3a18f202b\",\"type\":\"LinearScale\"},\"y_range\":{\"id\":\"231463dc-4d45-4ce8-952e-875a661439bd\",\"type\":\"Range1d\"},\"y_scale\":{\"id\":\"e06fe0e1-b7c7-4050-afa1-398916901646\",\"type\":\"LogScale\"}},\"id\":\"d76495db-1ac0-4f41-9f6b-75d5c81d5c8d\",\"subtype\":\"Figure\",\"type\":\"Plot\"},{\"attributes\":{},\"id\":\"eae51ee7-0006-4632-8cfd-955ab2b20df5\",\"type\":\"WheelZoomTool\"},{\"attributes\":{\"data_source\":{\"id\":\"702b696f-0307-4976-946e-5c974d23893a\",\"type\":\"ColumnDataSource\"},\"glyph\":{\"id\":\"af021a73-fbaa-4115-9c3b-a20809fe0b63\",\"type\":\"Line\"},\"hover_glyph\":null,\"muted_glyph\":null,\"nonselection_glyph\":{\"id\":\"f90d2d0c-a4c6-4889-8574-b08d56b84d85\",\"type\":\"Line\"},\"selection_glyph\":null,\"view\":{\"id\":\"c423b952-f9f6-4edf-a705-168691c83f9a\",\"type\":\"CDSView\"}},\"id\":\"a4ad2f04-92f9-4bae-b3f2-49952a26bbf8\",\"type\":\"GlyphRenderer\"},{\"attributes\":{\"source\":{\"id\":\"66236ee2-94bc-4996-be29-3807b569e380\",\"type\":\"ColumnDataSource\"}},\"id\":\"50633629-493c-44c6-a6be-69c44f1f64d1\",\"type\":\"CDSView\"},{\"attributes\":{\"active_drag\":\"auto\",\"active_inspect\":\"auto\",\"active_scroll\":\"auto\",\"active_tap\":\"auto\",\"tools\":[{\"id\":\"25dd95e2-28b7-4326-8f8f-e37f4faf8dbb\",\"type\":\"PanTool\"},{\"id\":\"2fec810b-61aa-47a1-9e3a-3541e0d19467\",\"type\":\"WheelZoomTool\"},{\"id\":\"835ccda7-fc06-4217-812d-4151cff389d0\",\"type\":\"BoxZoomTool\"},{\"id\":\"47337400-94ca-4d17-92f9-b64a9e7830a9\",\"type\":\"SaveTool\"},{\"id\":\"a8aeb4d2-7bde-4dc0-88ba-6ed5ac94567f\",\"type\":\"ResetTool\"},{\"id\":\"d2f9983e-6195-4741-868e-79048a1498dd\",\"type\":\"HelpTool\"}]},\"id\":\"3cd18860-f763-4fae-84f9-62cfdfb5dd6b\",\"type\":\"Toolbar\"},{\"attributes\":{\"callback\":null,\"end\":0.01,\"start\":1020},\"id\":\"0a894443-9112-497f-aa9d-14287a0ed9af\",\"type\":\"Range1d\"},{\"attributes\":{},\"id\":\"a8aeb4d2-7bde-4dc0-88ba-6ed5ac94567f\",\"type\":\"ResetTool\"},{\"attributes\":{\"callback\":null,\"data\":{\"x\":{\"__ndarray__\":\"R/KIaN7AVEClCeJMyPNGQOvRhpxr30JAptxzhxx4PkA7SssMElA4QK6Bp3CyUDNAsVXpjES9LkBFhUV0+5coQMHYwqbbySNA6f09nM3nH0CaSd/3eYoZQDmgiAOW8BNAPYqARh3eDEBkm4vCgvr+P9D+5tWhQfY/P8DwKRnSAkBq38kb17ILQDT7IWuSsxFAUr2Rjm0FFkAinq3s9XgbQGCHwtYcqSFAG64kT303J0C7dRDneyooQD9JYrbK8yRA9S3bneHhIUAIymSuUMMcQIkHLe6VEBdAAau3cITREkA6CiNvkQIPQJU39ki7IQlAaAvwok1UA0BXLQiS4+L7P0xzDpJ2hPI/NNuPGMbJ5z91mUVYxqfSPxqwUPSxZca/G11peifD3L8QzNj5t2jTvwzOozTL360/SPJ4VI1VzD9KJ0nXEIncP8yDdlvHt+4/Et49nYLW9z++2teD4Jn+P+568eH/bwFALf5D9lmAAkCiZAicVOkCQPPT4jNKxwJAOjp3wTzBAUBSQsKNGisBQG4OmjqJwQBAJ3sZoHFuAEA5Ar0Sdi0AQGy4rw5+9f8/7W4nSrC3/z8mPr8zj4T/P4UYRHCQS/8/embVKYcF/z+5YXG+LLP+P/qb8BVUgf4/KvafTtyO/j/avAK1Ppv+PwJV9VVm2P0/JFtYlU/n/D9sN+q2fiX6Pw44e41PNPc/Opt+Z/wN9T+x3vcSW1vzP9ofvWQJlvI/8sciQQBW8j80sfkQa17yPzg5qng2r/I/Oh14WJBh8z+VZjnpctj0P6CcrSuCqQBA\",\"dtype\":\"float64\",\"shape\":[75]},\"y\":{\"__ndarray__\":\"GhExyth1ND/Sv8nbtpRIP2vylNV0PVE/aTum7souWD/At0SJ8fVgPw3Iuahxymc/MSNhhJWvcD/bTfBN02d3P2zb5nxnaoA/CD5h5MAGhz8NmeH1TyaQP+zrCsc9p5Y/LbKd76fGnz/bLW5ISEmmPww9YvTcQq8/JV2OstnstT8Er5Y7M8G+P0c+r3jqkcU/5h99k6ZBzj88bCIzFzjVP4enV8oyxN0//yH99nXg5D8qOpLLf0jtP5kqGJXUifQ/c9cS8kHP/D+/DpwzojQEQIEmwoanVwxA4lgXt9HgE0BSSZ2AJuIbQAMJih9jjiNA5q4l5INuK0AwTKYKRj0zQNv5fmq8/DpAaCJseHrtQkB/+zpwzoxKQM3MzMzMeFJAZmZmZmZqWEAAAAAAAFxeQM3MzMzMJmJAmpmZmZkfZUBmZmZmZhhoQDMzMzMzEWtAAAAAAAAKbkBmZmZmZoFwQM3MzMzM/XFAMzMzMzN6c0CamZmZmfZ0QAAAAAAAc3ZAZmZmZmbvd0DNzMzMzGt5QDMzMzMz6HpAmpmZmZlkfEAAAAAAAOF9QGZmZmZmXX9AZmZmZuZsgECamZmZGSuBQM3MzMxM6YFAAAAAAICngkAzMzMzs2WDQGZmZmbmI4RAmpmZmRnihEDNzMzMTKCFQAAAAACAXoZAMzMzM7Mch0BmZmZm5tqHQJqZmZkZmYhAzczMzExXiUAAAAAAgBWKQDMzMzOz04pAZmZmZuaRi0CamZmZGVCMQM3MzMxMDo1AAAAAAIDMjUAzMzMzs4qOQGZmZmbmSI9A\",\"dtype\":\"float64\",\"shape\":[75]}},\"selected\":{\"id\":\"eef46c5a-4ec6-48a4-a0f5-c7f1ba7c68d6\",\"type\":\"Selection\"},\"selection_policy\":{\"id\":\"4e32bb59-e220-425c-aefa-7358b5ade8ab\",\"type\":\"UnionRenderers\"}},\"id\":\"e0a75d6e-8ac1-47b6-b511-59254df3e74c\",\"type\":\"ColumnDataSource\"},{\"attributes\":{},\"id\":\"2fec810b-61aa-47a1-9e3a-3541e0d19467\",\"type\":\"WheelZoomTool\"},{\"attributes\":{\"label\":{\"value\":\"CLIRAD (single-run) - CRD\"},\"renderers\":[{\"id\":\"3fd41bca-2e8c-41b7-8cfc-7a7e2d05fe36\",\"type\":\"GlyphRenderer\"},{\"id\":\"2d381851-da21-4948-8287-57fc5d50f5c9\",\"type\":\"GlyphRenderer\"}]},\"id\":\"64678a75-b0e8-4c8c-9853-10d4eeba4940\",\"type\":\"LegendItem\"},{\"attributes\":{\"children\":[{\"id\":\"adec0a2e-0f80-42a8-8229-81e41b371e87\",\"subtype\":\"Figure\",\"type\":\"Plot\"},{\"id\":\"8015e1ee-e7b4-401a-81d6-e0cb40b45de8\",\"subtype\":\"Figure\",\"type\":\"Plot\"},{\"id\":\"d76495db-1ac0-4f41-9f6b-75d5c81d5c8d\",\"subtype\":\"Figure\",\"type\":\"Plot\"}]},\"id\":\"f33d6e64-8098-4542-ae9a-036c91932b84\",\"type\":\"Row\"},{\"attributes\":{\"plot\":{\"id\":\"adec0a2e-0f80-42a8-8229-81e41b371e87\",\"subtype\":\"Figure\",\"type\":\"Plot\"},\"ticker\":{\"id\":\"27552622-3e34-4894-8fd7-0e9adb869f6e\",\"type\":\"BasicTicker\"}},\"id\":\"85b945cd-fe71-4597-807e-ad83c9ccb435\",\"type\":\"Grid\"},{\"attributes\":{\"children\":[{\"id\":\"f33d6e64-8098-4542-ae9a-036c91932b84\",\"type\":\"Row\"}]},\"id\":\"ecf4078c-12b7-4e18-84d2-34817e87ca22\",\"type\":\"Column\"},{\"attributes\":{},\"id\":\"4e32bb59-e220-425c-aefa-7358b5ade8ab\",\"type\":\"UnionRenderers\"},{\"attributes\":{\"callback\":null,\"data\":{\"x\":{\"__ndarray__\":\"RbL8BYRneEBOmGgOXQR3QKXTYvyp/HVA310U9ytBdEBfdU8gqcpxQAikU3tNcW1ALWB4ZFy1ZkAKleQWUlpgQNss6eITq1ZAQCmBKjBOUEBzKrKt2ABKQErEHp4LS0ZAhPl9l/6IQkAOSdvrknQ4QMXKyfn+3DNAqzzq9kdzO0CqQ2xiAbRBQHxcU670oURAK7N+QOKRSEAwrQZMeF5PQE8/HTpHPFVAnKUzB2C9XEBusc5/qh5eQPA/BLK8mFlAHJAX4cRaVUCu/bVl1a9RQNK3O1uCmU5AehdZs4VjSUBsk9GuculDQPgl603qjj9AZ7ZuNSnIOkD0kDGPsek0QLba6AbIIypA2ODk9nhWG0BQdG4eeAkFQF2xP9CEUPW/1PdsfB85E8BcApSqRcIOwMqkOKAXTLS/bNTRGtfN+T9gJleMWV8OQNuN1M6x1SFAPbFNk7FGLED+Yy988ZoyQCH+XzQXFzVAqXI4fDTHNUA5LmJouMU2QKbJn30v0TZABsvw2odHNUDT81pIwYw0QJT7BhpHVTRArcewf3UzNECGJ17fswA0QJxDnL3hvDNAfwGOE5eAM0Aie7H2Rl0zQMH7q4FNZTNAK+2BFMSNM0DBfxurEqozQABGURnfrTNA/PyUtvqbM0AQld7o92IzQFIyMUTrpzJAkCvAOrj8MUDFX2q2+F4wQIcVjaeakC1A9yw7ROSFK0DQSLNaIcMpQF10L8F72yhAdsFEofyiKEAoMRlNLsUoQMpWgyZ8QilAJ9P8Q8d5KkDBIO0eIKcsQErwmBdmzlvA\",\"dtype\":\"float64\",\"shape\":[75]},\"y\":{\"__ndarray__\":\"GhExyth1ND/Sv8nbtpRIP2vylNV0PVE/aTum7souWD/At0SJ8fVgPw3Iuahxymc/MSNhhJWvcD/bTfBN02d3P2zb5nxnaoA/CD5h5MAGhz8NmeH1TyaQP+zrCsc9p5Y/LbKd76fGnz/bLW5ISEmmPww9YvTcQq8/JV2OstnstT8Er5Y7M8G+P0c+r3jqkcU/5h99k6ZBzj88bCIzFzjVP4enV8oyxN0//yH99nXg5D8qOpLLf0jtP5kqGJXUifQ/c9cS8kHP/D+/DpwzojQEQIEmwoanVwxA4lgXt9HgE0BSSZ2AJuIbQAMJih9jjiNA5q4l5INuK0AwTKYKRj0zQNv5fmq8/DpAaCJseHrtQkB/+zpwzoxKQM3MzMzMeFJAZmZmZmZqWEAAAAAAAFxeQM3MzMzMJmJAmpmZmZkfZUBmZmZmZhhoQDMzMzMzEWtAAAAAAAAKbkBmZmZmZoFwQM3MzMzM/XFAMzMzMzN6c0CamZmZmfZ0QAAAAAAAc3ZAZmZmZmbvd0DNzMzMzGt5QDMzMzMz6HpAmpmZmZlkfEAAAAAAAOF9QGZmZmZmXX9AZmZmZuZsgECamZmZGSuBQM3MzMxM6YFAAAAAAICngkAzMzMzs2WDQGZmZmbmI4RAmpmZmRnihEDNzMzMTKCFQAAAAACAXoZAMzMzM7Mch0BmZmZm5tqHQJqZmZkZmYhAzczMzExXiUAAAAAAgBWKQDMzMzOz04pAZmZmZuaRi0CamZmZGVCMQM3MzMxMDo1AAAAAAIDMjUAzMzMzs4qOQGZmZmbmSI9A\",\"dtype\":\"float64\",\"shape\":[75]}},\"selected\":{\"id\":\"ad0d0423-46ca-408c-8d1b-bea779de9fd8\",\"type\":\"Selection\"},\"selection_policy\":{\"id\":\"c4077f58-1313-40e1-a371-7ab7a4dae355\",\"type\":\"UnionRenderers\"}},\"id\":\"e382edf7-bbb4-41a8-bcc3-075c73902238\",\"type\":\"ColumnDataSource\"},{\"attributes\":{\"plot\":null,\"text\":\"\"},\"id\":\"bade4c0e-ea75-46b6-858f-76b94b9b70b1\",\"type\":\"Title\"},{\"attributes\":{\"callback\":null,\"data\":{\"x\":{\"__ndarray__\":\"zApFup+FRUDUKY9uhNNCQLyVJTrLtEFAHhSUopUdQEDVJeMYyRY8QP4lqUwxKzdABoTWw5fpMUD+QSRDjgUqQJpLu+LzSCJAQw3w7hKeGkAE9/LxvzsVQN3LIrmhBhJAC6arhaOVDUAyvEhXnzEDQI8PaQpT6v4/Dg8GQ8KsBUABjpg0oUQMQNNCbitinRBAg5MjU/TeE0D3F+aps08ZQPzFbMmqDCFAAHFXryIDJ0B5dCMsKhooQJ4GDJI+hSRAiJtTyQAoIUDOVOMAVVccQAMSXszgWRhAb2b0o+EsFEBc13llKMgPQDZPZJx1PAlAsYUgByU8BUAe91IdF3oAQIypqoazsfQ/F0Oc+2kL5j/o1hDB3f7QP4u/klCficG/2xOo7l+T3r9bcdzvcSLYv0Ot+K2uL1+/D9+6SalXxT/w8OiQ5a7YP8arKDXmu+w//zebM0e79j+avBKSFtj9PxYh0PRt7ABAxYFGn0WFAUDbh7zl6kcCQOulzkgpTQJAlSR0PAsXAUDn5bD7joEAQOtDzUadTwBAmVZUDncvAEDbv7LSpAQAQDTQIRVrnf8/t926URpA/z/ucrYlFwj/P1QT6SOVDv8/GqjnOBJD/z/MH3ghwmT/Py0u6YPAZf8/57S4EPVM/z/ljHJ6KPv+P72WRoJf2f0/MnbCS3DK/D8SeYFIdTD6P0xDQ7V3nPc/FkYfmEju9T+Qvd798X70P8xuHGeJxPM/hCo1e6CV8z+uefqtQq/zP1JEhlW8EfQ/UPl8OVgE9T+DlVS3xLv2PxqOQu0S2CPA\",\"dtype\":\"float64\",\"shape\":[75]},\"y\":{\"__ndarray__\":\"GhExyth1ND/Sv8nbtpRIP2vylNV0PVE/aTum7souWD/At0SJ8fVgPw3Iuahxymc/MSNhhJWvcD/bTfBN02d3P2zb5nxnaoA/CD5h5MAGhz8NmeH1TyaQP+zrCsc9p5Y/LbKd76fGnz/bLW5ISEmmPww9YvTcQq8/JV2OstnstT8Er5Y7M8G+P0c+r3jqkcU/5h99k6ZBzj88bCIzFzjVP4enV8oyxN0//yH99nXg5D8qOpLLf0jtP5kqGJXUifQ/c9cS8kHP/D+/DpwzojQEQIEmwoanVwxA4lgXt9HgE0BSSZ2AJuIbQAMJih9jjiNA5q4l5INuK0AwTKYKRj0zQNv5fmq8/DpAaCJseHrtQkB/+zpwzoxKQM3MzMzMeFJAZmZmZmZqWEAAAAAAAFxeQM3MzMzMJmJAmpmZmZkfZUBmZmZmZhhoQDMzMzMzEWtAAAAAAAAKbkBmZmZmZoFwQM3MzMzM/XFAMzMzMzN6c0CamZmZmfZ0QAAAAAAAc3ZAZmZmZmbvd0DNzMzMzGt5QDMzMzMz6HpAmpmZmZlkfEAAAAAAAOF9QGZmZmZmXX9AZmZmZuZsgECamZmZGSuBQM3MzMxM6YFAAAAAAICngkAzMzMzs2WDQGZmZmbmI4RAmpmZmRnihEDNzMzMTKCFQAAAAACAXoZAMzMzM7Mch0BmZmZm5tqHQJqZmZkZmYhAzczMzExXiUAAAAAAgBWKQDMzMzOz04pAZmZmZuaRi0CamZmZGVCMQM3MzMxMDo1AAAAAAIDMjUAzMzMzs4qOQGZmZmbmSI9A\",\"dtype\":\"float64\",\"shape\":[75]}},\"selected\":{\"id\":\"969f0760-e311-4137-b343-cb674b25033b\",\"type\":\"Selection\"},\"selection_policy\":{\"id\":\"9c72b4c4-edc6-4019-bb4f-ce09fc3825e9\",\"type\":\"UnionRenderers\"}},\"id\":\"c2145b4e-455b-429f-af23-ed98ebfbba6a\",\"type\":\"ColumnDataSource\"},{\"attributes\":{},\"id\":\"25dd95e2-28b7-4326-8f8f-e37f4faf8dbb\",\"type\":\"PanTool\"},{\"attributes\":{\"source\":{\"id\":\"e382edf7-bbb4-41a8-bcc3-075c73902238\",\"type\":\"ColumnDataSource\"}},\"id\":\"474f5372-45de-4874-aeff-fdf768ffce1d\",\"type\":\"CDSView\"},{\"attributes\":{\"axis_label\":\"cooling rate [K/day]\",\"formatter\":{\"id\":\"213b3608-1e65-48e7-bfed-23a78255ac44\",\"type\":\"BasicTickFormatter\"},\"plot\":{\"id\":\"adec0a2e-0f80-42a8-8229-81e41b371e87\",\"subtype\":\"Figure\",\"type\":\"Plot\"},\"ticker\":{\"id\":\"27552622-3e34-4894-8fd7-0e9adb869f6e\",\"type\":\"BasicTicker\"}},\"id\":\"a5afe94d-2170-450d-b9ac-6027811aaf52\",\"type\":\"LinearAxis\"},{\"attributes\":{\"line_alpha\":0.1,\"line_color\":\"#1f77b4\",\"line_width\":1.5,\"x\":{\"field\":\"x\"},\"y\":{\"field\":\"y\"}},\"id\":\"01131bf7-388c-434f-91a3-1a311bbb1122\",\"type\":\"Line\"},{\"attributes\":{},\"id\":\"e226e776-e368-4f3d-acbf-5d1d005618ed\",\"type\":\"LinearScale\"},{\"attributes\":{\"plot\":null,\"text\":\"\"},\"id\":\"f63d7295-3536-4bb7-8d75-9e748a60cd1b\",\"type\":\"Title\"},{\"attributes\":{\"data_source\":{\"id\":\"e382edf7-bbb4-41a8-bcc3-075c73902238\",\"type\":\"ColumnDataSource\"},\"glyph\":{\"id\":\"e2ff662b-38ca-47f4-a4f6-a4e3e3934068\",\"type\":\"Line\"},\"hover_glyph\":null,\"muted_glyph\":null,\"nonselection_glyph\":{\"id\":\"01131bf7-388c-434f-91a3-1a311bbb1122\",\"type\":\"Line\"},\"selection_glyph\":null,\"view\":{\"id\":\"474f5372-45de-4874-aeff-fdf768ffce1d\",\"type\":\"CDSView\"}},\"id\":\"2d381851-da21-4948-8287-57fc5d50f5c9\",\"type\":\"GlyphRenderer\"},{\"attributes\":{\"line_alpha\":0.8,\"line_color\":\"#984ea3\",\"line_width\":1.5,\"x\":{\"field\":\"x\"},\"y\":{\"field\":\"y\"}},\"id\":\"e2ff662b-38ca-47f4-a4f6-a4e3e3934068\",\"type\":\"Line\"},{\"attributes\":{\"num_minor_ticks\":10},\"id\":\"1aef23fa-43cd-416b-929b-8e8fc1820999\",\"type\":\"LogTicker\"},{\"attributes\":{\"data_source\":{\"id\":\"38d2df02-2d5c-4f49-b591-f349e82e420f\",\"type\":\"ColumnDataSource\"},\"glyph\":{\"id\":\"46b25d7c-c165-4e73-a997-2f136d0dfb34\",\"type\":\"Circle\"},\"hover_glyph\":null,\"muted_glyph\":null,\"nonselection_glyph\":{\"id\":\"fe36d6aa-148c-41b7-934e-1928830d88d9\",\"type\":\"Circle\"},\"selection_glyph\":null,\"view\":{\"id\":\"d7902842-c7c9-42b6-8ea0-dc43cab4c82a\",\"type\":\"CDSView\"}},\"id\":\"3fd41bca-2e8c-41b7-8cfc-7a7e2d05fe36\",\"type\":\"GlyphRenderer\"},{\"attributes\":{\"line_alpha\":0.1,\"line_color\":\"#1f77b4\",\"line_dash\":[6],\"line_width\":5,\"x\":{\"field\":\"x\"},\"y\":{\"field\":\"y\"}},\"id\":\"a39fe0a3-2ca8-4f64-be54-50381b22919c\",\"type\":\"Line\"},{\"attributes\":{},\"id\":\"0074907d-1e7c-4594-bcad-48ef025be396\",\"type\":\"Selection\"},{\"attributes\":{},\"id\":\"160d7bfb-153b-4036-8f37-1ad3fe78053c\",\"type\":\"LinearScale\"},{\"attributes\":{\"bottom_units\":\"screen\",\"fill_alpha\":{\"value\":0.5},\"fill_color\":{\"value\":\"lightgrey\"},\"left_units\":\"screen\",\"level\":\"overlay\",\"line_alpha\":{\"value\":1.0},\"line_color\":{\"value\":\"black\"},\"line_dash\":[4,4],\"line_width\":{\"value\":2},\"plot\":null,\"render_mode\":\"css\",\"right_units\":\"screen\",\"top_units\":\"screen\"},\"id\":\"8e168786-7c55-44ac-bc73-e7ed59572911\",\"type\":\"BoxAnnotation\"},{\"attributes\":{},\"id\":\"27552622-3e34-4894-8fd7-0e9adb869f6e\",\"type\":\"BasicTicker\"},{\"attributes\":{\"fill_alpha\":{\"value\":0.1},\"fill_color\":{\"value\":\"#1f77b4\"},\"line_alpha\":{\"value\":0.1},\"line_color\":{\"value\":\"#1f77b4\"},\"x\":{\"field\":\"x\"},\"y\":{\"field\":\"y\"}},\"id\":\"fe36d6aa-148c-41b7-934e-1928830d88d9\",\"type\":\"Circle\"},{\"attributes\":{\"callback\":null,\"end\":2.4867904141807005,\"start\":-10.0448789031107},\"id\":\"bf4f8fd5-2314-4901-a7ed-2b84d5229419\",\"type\":\"Range1d\"},{\"attributes\":{},\"id\":\"42a3dfdc-876d-45e1-9dc4-b9d1687cdc2a\",\"type\":\"Selection\"},{\"attributes\":{\"above\":[{\"id\":\"612e4a16-afdd-40a3-a285-b4f671e827d2\",\"type\":\"Legend\"}],\"below\":[{\"id\":\"a5afe94d-2170-450d-b9ac-6027811aaf52\",\"type\":\"LinearAxis\"}],\"left\":[{\"id\":\"0c155405-06e0-40c6-8c44-6407a778b005\",\"type\":\"LinearAxis\"}],\"plot_width\":300,\"renderers\":[{\"id\":\"a5afe94d-2170-450d-b9ac-6027811aaf52\",\"type\":\"LinearAxis\"},{\"id\":\"85b945cd-fe71-4597-807e-ad83c9ccb435\",\"type\":\"Grid\"},{\"id\":\"0c155405-06e0-40c6-8c44-6407a778b005\",\"type\":\"LinearAxis\"},{\"id\":\"00862301-7217-4aa9-b1ae-c5e2754f8ead\",\"type\":\"Grid\"},{\"id\":\"3f0d1902-9786-4167-a78e-0749fd81bbdd\",\"type\":\"BoxAnnotation\"},{\"id\":\"0974c4a2-ffa5-4384-93fd-3f18435c8ec1\",\"type\":\"GlyphRenderer\"},{\"id\":\"68f43ec3-701f-47ee-b000-9c92964c4cdd\",\"type\":\"GlyphRenderer\"},{\"id\":\"5439a5a4-3256-46fa-b6e2-7e4d03739352\",\"type\":\"GlyphRenderer\"},{\"id\":\"612e4a16-afdd-40a3-a285-b4f671e827d2\",\"type\":\"Legend\"}],\"title\":{\"id\":\"bade4c0e-ea75-46b6-858f-76b94b9b70b1\",\"type\":\"Title\"},\"toolbar\":{\"id\":\"1b2903ef-43be-4e77-b23e-23758dfaf50a\",\"type\":\"Toolbar\"},\"toolbar_location\":null,\"x_range\":{\"id\":\"bf4f8fd5-2314-4901-a7ed-2b84d5229419\",\"type\":\"Range1d\"},\"x_scale\":{\"id\":\"160d7bfb-153b-4036-8f37-1ad3fe78053c\",\"type\":\"LinearScale\"},\"y_range\":{\"id\":\"0a894443-9112-497f-aa9d-14287a0ed9af\",\"type\":\"Range1d\"},\"y_scale\":{\"id\":\"e226e776-e368-4f3d-acbf-5d1d005618ed\",\"type\":\"LinearScale\"}},\"id\":\"adec0a2e-0f80-42a8-8229-81e41b371e87\",\"subtype\":\"Figure\",\"type\":\"Plot\"},{\"attributes\":{\"label\":{\"value\":\"CRD\"},\"renderers\":[{\"id\":\"d5254ac4-43b5-4c20-a9aa-131021bc7393\",\"type\":\"GlyphRenderer\"},{\"id\":\"a4ad2f04-92f9-4bae-b3f2-49952a26bbf8\",\"type\":\"GlyphRenderer\"}]},\"id\":\"618fc499-b871-40ec-94a8-065d6a1bda0f\",\"type\":\"LegendItem\"},{\"attributes\":{\"axis_label\":\"pressure [mb]\",\"formatter\":{\"id\":\"3b6fb0ac-b129-40b9-86bf-860dd8b61e7d\",\"type\":\"BasicTickFormatter\"},\"plot\":{\"id\":\"adec0a2e-0f80-42a8-8229-81e41b371e87\",\"subtype\":\"Figure\",\"type\":\"Plot\"},\"ticker\":{\"id\":\"ce36b49d-64a3-4261-b750-c8a82f242c4d\",\"type\":\"BasicTicker\"}},\"id\":\"0c155405-06e0-40c6-8c44-6407a778b005\",\"type\":\"LinearAxis\"},{\"attributes\":{\"items\":[{\"id\":\"1cf1c47b-e2ea-49a4-9d1d-308ce044bfca\",\"type\":\"LegendItem\"},{\"id\":\"f7a92628-dc00-46d5-a90c-e6075e2e94f6\",\"type\":\"LegendItem\"}],\"label_text_font_size\":{\"value\":\"8pt\"},\"location\":\"top_center\",\"orientation\":\"horizontal\",\"plot\":{\"id\":\"adec0a2e-0f80-42a8-8229-81e41b371e87\",\"subtype\":\"Figure\",\"type\":\"Plot\"}},\"id\":\"612e4a16-afdd-40a3-a285-b4f671e827d2\",\"type\":\"Legend\"},{\"attributes\":{},\"id\":\"213b3608-1e65-48e7-bfed-23a78255ac44\",\"type\":\"BasicTickFormatter\"},{\"attributes\":{},\"id\":\"eef46c5a-4ec6-48a4-a0f5-c7f1ba7c68d6\",\"type\":\"Selection\"},{\"attributes\":{\"fill_alpha\":{\"value\":0.7},\"fill_color\":{\"value\":\"#984ea3\"},\"line_alpha\":{\"value\":0.7},\"line_color\":{\"value\":\"#984ea3\"},\"x\":{\"field\":\"x\"},\"y\":{\"field\":\"y\"}},\"id\":\"46b25d7c-c165-4e73-a997-2f136d0dfb34\",\"type\":\"Circle\"},{\"attributes\":{},\"id\":\"e735857f-de15-4145-b199-6765581479c2\",\"type\":\"UnionRenderers\"},{\"attributes\":{\"overlay\":{\"id\":\"8e168786-7c55-44ac-bc73-e7ed59572911\",\"type\":\"BoxAnnotation\"}},\"id\":\"835ccda7-fc06-4217-812d-4151cff389d0\",\"type\":\"BoxZoomTool\"},{\"attributes\":{\"line_color\":\"#4daf4a\",\"line_width\":1.5,\"x\":{\"field\":\"x\"},\"y\":{\"field\":\"y\"}},\"id\":\"447e002b-393e-48a7-926a-42bf24fd6283\",\"type\":\"Line\"},{\"attributes\":{\"source\":{\"id\":\"38d2df02-2d5c-4f49-b591-f349e82e420f\",\"type\":\"ColumnDataSource\"}},\"id\":\"d7902842-c7c9-42b6-8ea0-dc43cab4c82a\",\"type\":\"CDSView\"},{\"attributes\":{\"callback\":null,\"end\":0.01,\"start\":1020},\"id\":\"653e9da5-d04c-4421-89c4-0279d994140d\",\"type\":\"Range1d\"},{\"attributes\":{\"line_alpha\":0.6,\"line_color\":\"#377eb8\",\"line_dash\":[6],\"line_width\":5,\"x\":{\"field\":\"x\"},\"y\":{\"field\":\"y\"}},\"id\":\"821d9b56-18b1-405c-a055-9883ef1971f6\",\"type\":\"Line\"},{\"attributes\":{\"line_alpha\":0.1,\"line_color\":\"#1f77b4\",\"line_width\":1.5,\"x\":{\"field\":\"x\"},\"y\":{\"field\":\"y\"}},\"id\":\"1073a153-dbc2-4459-a0be-968db319152e\",\"type\":\"Line\"},{\"attributes\":{},\"id\":\"064b5ade-382f-4d57-ab47-fd10428ab2d9\",\"type\":\"Selection\"},{\"attributes\":{\"active_drag\":\"auto\",\"active_inspect\":\"auto\",\"active_scroll\":\"auto\",\"active_tap\":\"auto\",\"tools\":[{\"id\":\"9e98e9d3-e036-47fc-8b31-af4abfe6bed8\",\"type\":\"PanTool\"},{\"id\":\"eae51ee7-0006-4632-8cfd-955ab2b20df5\",\"type\":\"WheelZoomTool\"},{\"id\":\"1e306d3b-73ee-4109-bd7b-1373ac86645c\",\"type\":\"BoxZoomTool\"},{\"id\":\"8a63103f-9ed4-46bd-b408-19ae924380e6\",\"type\":\"SaveTool\"},{\"id\":\"7237b484-d8b8-4949-97fe-d157558bd7f0\",\"type\":\"ResetTool\"},{\"id\":\"e2996d33-d819-4bb6-96a3-cabeb73247a0\",\"type\":\"HelpTool\"}]},\"id\":\"1b2903ef-43be-4e77-b23e-23758dfaf50a\",\"type\":\"Toolbar\"},{\"attributes\":{},\"id\":\"969f0760-e311-4137-b343-cb674b25033b\",\"type\":\"Selection\"},{\"attributes\":{\"source\":{\"id\":\"c2145b4e-455b-429f-af23-ed98ebfbba6a\",\"type\":\"ColumnDataSource\"}},\"id\":\"f08327b7-b4d7-49ed-b72f-cb21d4ee4647\",\"type\":\"CDSView\"},{\"attributes\":{},\"id\":\"3b6fb0ac-b129-40b9-86bf-860dd8b61e7d\",\"type\":\"BasicTickFormatter\"},{\"attributes\":{},\"id\":\"ce36b49d-64a3-4261-b750-c8a82f242c4d\",\"type\":\"BasicTicker\"},{\"attributes\":{},\"id\":\"9c72b4c4-edc6-4019-bb4f-ce09fc3825e9\",\"type\":\"UnionRenderers\"},{\"attributes\":{},\"id\":\"d2f9983e-6195-4741-868e-79048a1498dd\",\"type\":\"HelpTool\"},{\"attributes\":{},\"id\":\"47337400-94ca-4d17-92f9-b64a9e7830a9\",\"type\":\"SaveTool\"},{\"attributes\":{},\"id\":\"65aa62bc-cdca-4097-ac0a-fe2a131deee9\",\"type\":\"Selection\"},{\"attributes\":{\"axis_label\":\"pressure [mb]\",\"formatter\":{\"id\":\"88767f6c-4509-4251-ac55-362d12727d40\",\"type\":\"LogTickFormatter\"},\"plot\":{\"id\":\"d76495db-1ac0-4f41-9f6b-75d5c81d5c8d\",\"subtype\":\"Figure\",\"type\":\"Plot\"},\"ticker\":{\"id\":\"1aef23fa-43cd-416b-929b-8e8fc1820999\",\"type\":\"LogTicker\"}},\"id\":\"b3a6528f-50c5-4a08-913e-464a78da6db2\",\"type\":\"LogAxis\"},{\"attributes\":{\"axis_label\":\"cooling rate [K/day]\",\"formatter\":{\"id\":\"79c52eb4-7d81-4263-9585-3ddb456210e2\",\"type\":\"BasicTickFormatter\"},\"plot\":{\"id\":\"8015e1ee-e7b4-401a-81d6-e0cb40b45de8\",\"subtype\":\"Figure\",\"type\":\"Plot\"},\"ticker\":{\"id\":\"6265cee3-4a83-4cf8-941b-655e002c9195\",\"type\":\"BasicTicker\"}},\"id\":\"14d8f12c-1188-451a-ab6a-bb731ab2834e\",\"type\":\"LinearAxis\"}],\"root_ids\":[\"8b4eec7c-ac2b-426d-9ad6-541ba52c1c21\"]},\"title\":\"Bokeh Application\",\"version\":\"0.12.16\"}};\n",
       "  var render_items = [{\"docid\":\"bef82905-1165-473e-8a9e-44a10d12ee31\",\"elementid\":\"a5e6caca-8c64-4b0c-83d3-3b7c055805fc\",\"modelid\":\"8b4eec7c-ac2b-426d-9ad6-541ba52c1c21\"}];\n",
       "  root.Bokeh.embed.embed_items_notebook(docs_json, render_items);\n",
       "\n",
       "  }\n",
       "  if (root.Bokeh !== undefined) {\n",
       "    embed_document(root);\n",
       "  } else {\n",
       "    var attempts = 0;\n",
       "    var timer = setInterval(function(root) {\n",
       "      if (root.Bokeh !== undefined) {\n",
       "        embed_document(root);\n",
       "        clearInterval(timer);\n",
       "      }\n",
       "      attempts++;\n",
       "      if (attempts > 100) {\n",
       "        console.log(\"Bokeh: ERROR: Unable to run BokehJS code because BokehJS library is missing\")\n",
       "        clearInterval(timer);\n",
       "      }\n",
       "    }, 10, root)\n",
       "  }\n",
       "})(window);"
      ],
      "application/vnd.bokehjs_exec.v0+json": ""
     },
     "metadata": {
      "application/vnd.bokehjs_exec.v0+json": {
       "id": "8b4eec7c-ac2b-426d-9ad6-541ba52c1c21"
      }
     },
     "output_type": "display_data"
    },
    {
     "data": {
      "text/markdown": [
       "*FIGURE.* Cooling rates & difference."
      ],
      "text/plain": [
       "<IPython.core.display.Markdown object>"
      ]
     },
     "metadata": {},
     "output_type": "display_data"
    },
    {
     "data": {
      "text/html": [
       "<a id=\"Fluxes._trp.\"></a>"
      ],
      "text/plain": [
       "<IPython.core.display.HTML object>"
      ]
     },
     "metadata": {},
     "output_type": "display_data"
    },
    {
     "data": {
      "text/markdown": [
       "# Fluxes. trp."
      ],
      "text/plain": [
       "<IPython.core.display.Markdown object>"
      ]
     },
     "metadata": {},
     "output_type": "display_data"
    },
    {
     "data": {
      "text/html": [
       "\n",
       "<div class=\"bk-root\">\n",
       "    <div class=\"bk-plotdiv\" id=\"1cfc433f-3ded-4024-9ec2-ad25f7b631bd\"></div>\n",
       "</div>"
      ]
     },
     "metadata": {},
     "output_type": "display_data"
    },
    {
     "data": {
      "application/javascript": [
       "(function(root) {\n",
       "  function embed_document(root) {\n",
       "    \n",
       "  var docs_json = {\"dbc66e98-dc11-4390-b028-072901eb3e66\":{\"roots\":{\"references\":[{\"attributes\":{\"dimension\":1,\"plot\":{\"id\":\"4f62f18f-fbda-43c3-9da4-b845c58d16ca\",\"subtype\":\"Figure\",\"type\":\"Plot\"},\"ticker\":{\"id\":\"27099863-f22f-4024-a30a-908b425f7590\",\"type\":\"BasicTicker\"}},\"id\":\"b6bbb2c0-5497-435f-9151-871e0cd55ebe\",\"type\":\"Grid\"},{\"attributes\":{\"fill_alpha\":{\"value\":0.1},\"fill_color\":{\"value\":\"#1f77b4\"},\"line_alpha\":{\"value\":0.1},\"line_color\":{\"value\":\"#1f77b4\"},\"top\":{\"field\":\"flux\"},\"width\":{\"value\":0.9},\"x\":{\"field\":\"band\"}},\"id\":\"266f26a2-4114-4d5e-b8da-f9d12086f367\",\"type\":\"VBar\"},{\"attributes\":{},\"id\":\"ebf4ddd5-e3d5-49b8-a073-95d475c961d9\",\"type\":\"BasicTickFormatter\"},{\"attributes\":{},\"id\":\"ae71eb6b-5881-43a1-8bf3-2bd467c539c2\",\"type\":\"UnionRenderers\"},{\"attributes\":{\"tools\":[{\"id\":\"c97f7aca-7134-400f-8b24-1c3a3b3a62b7\",\"type\":\"PanTool\"},{\"id\":\"1c723122-b6d4-4262-8122-9a696d840562\",\"type\":\"WheelZoomTool\"},{\"id\":\"92d14928-dedc-4ff4-9c46-2472de0a751d\",\"type\":\"BoxZoomTool\"},{\"id\":\"61183e67-210a-47fd-aeae-77e4a03b4dad\",\"type\":\"SaveTool\"},{\"id\":\"55ad7c71-7d69-485d-994c-60d3b5754be8\",\"type\":\"ResetTool\"},{\"id\":\"2d2d0e6f-9245-46fc-906b-b5830340fd32\",\"type\":\"HelpTool\"},{\"id\":\"c0aa2dcf-f50f-4cd3-bbc5-7fa2f9c65e2b\",\"type\":\"PanTool\"},{\"id\":\"d6fed305-ddae-4eb0-b1db-8debcf038e1f\",\"type\":\"WheelZoomTool\"},{\"id\":\"2793782d-5c70-467c-9f2c-d29ed984e53d\",\"type\":\"BoxZoomTool\"},{\"id\":\"e92a9d47-e133-46e0-8bf8-ffb53bcd4b47\",\"type\":\"SaveTool\"},{\"id\":\"a00ccc78-8544-4028-8357-688781173b77\",\"type\":\"ResetTool\"},{\"id\":\"cbf5c857-8362-401d-970c-c4d7dbe81a46\",\"type\":\"HelpTool\"},{\"id\":\"05550fab-b4d0-46da-bc75-bc0f83422722\",\"type\":\"PanTool\"},{\"id\":\"17bed457-fe25-4668-b3c8-dc446ccd9d1c\",\"type\":\"WheelZoomTool\"},{\"id\":\"cc6ac58a-8b37-4001-8558-6fc3d19daad1\",\"type\":\"BoxZoomTool\"},{\"id\":\"3807ec2b-c821-40bb-b4f5-2bb68ad41c3f\",\"type\":\"SaveTool\"},{\"id\":\"8bd9bc11-e0ec-468f-b280-da85615fca19\",\"type\":\"ResetTool\"},{\"id\":\"9fa3af9d-3af3-4e96-a573-4e570ea5f5f0\",\"type\":\"HelpTool\"}]},\"id\":\"a6168a0e-6ad9-463f-9499-7e332959a3ba\",\"type\":\"ProxyToolbar\"},{\"attributes\":{},\"id\":\"27099863-f22f-4024-a30a-908b425f7590\",\"type\":\"BasicTicker\"},{\"attributes\":{\"callback\":null,\"factors\":[\"1\",\"2\",\"3\",\"4\",\"5\",\"6\",\"7\",\"8\",\"9\",\"10\",\"11\"]},\"id\":\"40c09417-0e55-4ba6-ae8e-26867f73addb\",\"type\":\"FactorRange\"},{\"attributes\":{\"source\":{\"id\":\"79c0bd22-a882-40c8-b001-034eabb8122a\",\"type\":\"ColumnDataSource\"}},\"id\":\"b95e75c2-65f2-4f27-a5ca-a4ee900aa364\",\"type\":\"CDSView\"},{\"attributes\":{\"data_source\":{\"id\":\"79c0bd22-a882-40c8-b001-034eabb8122a\",\"type\":\"ColumnDataSource\"},\"glyph\":{\"id\":\"69227499-064d-4397-9323-5524d20d2055\",\"type\":\"VBar\"},\"hover_glyph\":null,\"muted_glyph\":null,\"nonselection_glyph\":{\"id\":\"266f26a2-4114-4d5e-b8da-f9d12086f367\",\"type\":\"VBar\"},\"selection_glyph\":null,\"view\":{\"id\":\"b95e75c2-65f2-4f27-a5ca-a4ee900aa364\",\"type\":\"CDSView\"}},\"id\":\"564f47e5-eba8-4471-ae38-128c7a3976d1\",\"type\":\"GlyphRenderer\"},{\"attributes\":{},\"id\":\"b5ee6da2-158f-4dce-922c-fbceed4a9278\",\"type\":\"CategoricalScale\"},{\"attributes\":{},\"id\":\"9fa3af9d-3af3-4e96-a573-4e570ea5f5f0\",\"type\":\"HelpTool\"},{\"attributes\":{},\"id\":\"a6ae86c6-4529-4292-8b22-bce55f01ecc9\",\"type\":\"LinearScale\"},{\"attributes\":{},\"id\":\"1b83c7f7-d478-40e2-a5da-9abe1c36d1b2\",\"type\":\"Selection\"},{\"attributes\":{\"overlay\":{\"id\":\"a4f76d03-7366-4067-bfe1-2a7f635408b0\",\"type\":\"BoxAnnotation\"}},\"id\":\"cc6ac58a-8b37-4001-8558-6fc3d19daad1\",\"type\":\"BoxZoomTool\"},{\"attributes\":{\"plot\":null,\"text\":\"TOA flux. CLIRAD (single-run) - CRD.\"},\"id\":\"7e1bd93b-d724-41dc-bb36-3277b71c70c8\",\"type\":\"Title\"},{\"attributes\":{\"axis_label\":\"spectral band\",\"formatter\":{\"id\":\"cc01757f-9524-4fd2-b35f-bdbe4970a2fe\",\"type\":\"CategoricalTickFormatter\"},\"plot\":{\"id\":\"4f62f18f-fbda-43c3-9da4-b845c58d16ca\",\"subtype\":\"Figure\",\"type\":\"Plot\"},\"ticker\":{\"id\":\"f16c95cf-b629-4606-99be-a62257616b2e\",\"type\":\"CategoricalTicker\"}},\"id\":\"848b50f5-15e6-4089-b11c-29cb754668c5\",\"type\":\"CategoricalAxis\"},{\"attributes\":{\"callback\":null},\"id\":\"2a0f0c62-c003-41de-9055-e9483a93fb07\",\"type\":\"DataRange1d\"},{\"attributes\":{\"plot\":null,\"text\":\"SFC flux. CLIRAD (single-run) - CRD.\"},\"id\":\"adbac21f-3e08-4c2c-9573-b003c87aa283\",\"type\":\"Title\"},{\"attributes\":{},\"id\":\"d6fed305-ddae-4eb0-b1db-8debcf038e1f\",\"type\":\"WheelZoomTool\"},{\"attributes\":{\"children\":[{\"id\":\"b104eb94-f073-449e-8975-4b4f13b78032\",\"type\":\"Row\"}]},\"id\":\"a1813ad8-2180-47b3-bd46-287be828cc54\",\"type\":\"Column\"},{\"attributes\":{},\"id\":\"cc01757f-9524-4fd2-b35f-bdbe4970a2fe\",\"type\":\"CategoricalTickFormatter\"},{\"attributes\":{\"fill_color\":{\"value\":\"#1f77b4\"},\"line_color\":{\"value\":\"#1f77b4\"},\"top\":{\"field\":\"flux\"},\"width\":{\"value\":0.9},\"x\":{\"field\":\"band\"}},\"id\":\"79ee5fad-fb42-4ee7-ba52-f891dc2e44fd\",\"type\":\"VBar\"},{\"attributes\":{\"bottom_units\":\"screen\",\"fill_alpha\":{\"value\":0.5},\"fill_color\":{\"value\":\"lightgrey\"},\"left_units\":\"screen\",\"level\":\"overlay\",\"line_alpha\":{\"value\":1.0},\"line_color\":{\"value\":\"black\"},\"line_dash\":[4,4],\"line_width\":{\"value\":2},\"plot\":null,\"render_mode\":\"css\",\"right_units\":\"screen\",\"top_units\":\"screen\"},\"id\":\"6c85fcf9-1fae-4748-828f-9dc0802e0ea7\",\"type\":\"BoxAnnotation\"},{\"attributes\":{},\"id\":\"12a851e1-3928-4dff-85c3-bd30e172e55f\",\"type\":\"UnionRenderers\"},{\"attributes\":{\"children\":[{\"id\":\"9c707662-b166-4d89-bf64-c345170c97d6\",\"type\":\"ToolbarBox\"},{\"id\":\"a1813ad8-2180-47b3-bd46-287be828cc54\",\"type\":\"Column\"}]},\"id\":\"1da825da-50e9-47f9-8a3a-9f17b5f778ce\",\"type\":\"Column\"},{\"attributes\":{},\"id\":\"c0aa2dcf-f50f-4cd3-bbc5-7fa2f9c65e2b\",\"type\":\"PanTool\"},{\"attributes\":{},\"id\":\"05550fab-b4d0-46da-bc75-bc0f83422722\",\"type\":\"PanTool\"},{\"attributes\":{\"overlay\":{\"id\":\"6c85fcf9-1fae-4748-828f-9dc0802e0ea7\",\"type\":\"BoxAnnotation\"}},\"id\":\"2793782d-5c70-467c-9f2c-d29ed984e53d\",\"type\":\"BoxZoomTool\"},{\"attributes\":{},\"id\":\"f16c95cf-b629-4606-99be-a62257616b2e\",\"type\":\"CategoricalTicker\"},{\"attributes\":{},\"id\":\"a8537074-5d79-4ee7-b0d4-a8e969d758b7\",\"type\":\"CategoricalTickFormatter\"},{\"attributes\":{\"axis_label\":\"flux (W m-2)\",\"formatter\":{\"id\":\"84271ae9-c7d6-428f-ba98-2ec935644578\",\"type\":\"BasicTickFormatter\"},\"plot\":{\"id\":\"4f62f18f-fbda-43c3-9da4-b845c58d16ca\",\"subtype\":\"Figure\",\"type\":\"Plot\"},\"ticker\":{\"id\":\"27099863-f22f-4024-a30a-908b425f7590\",\"type\":\"BasicTicker\"}},\"id\":\"d4223760-aec7-4e5e-a4b0-25f23e25fe88\",\"type\":\"LinearAxis\"},{\"attributes\":{},\"id\":\"a00ccc78-8544-4028-8357-688781173b77\",\"type\":\"ResetTool\"},{\"attributes\":{\"toolbar\":{\"id\":\"a6168a0e-6ad9-463f-9499-7e332959a3ba\",\"type\":\"ProxyToolbar\"},\"toolbar_location\":\"above\"},\"id\":\"9c707662-b166-4d89-bf64-c345170c97d6\",\"type\":\"ToolbarBox\"},{\"attributes\":{},\"id\":\"3807ec2b-c821-40bb-b4f5-2bb68ad41c3f\",\"type\":\"SaveTool\"},{\"attributes\":{\"source\":{\"id\":\"eb389abf-fca8-4e3c-afca-d15813fd54c2\",\"type\":\"ColumnDataSource\"}},\"id\":\"c3043733-d067-41c6-8cb5-d05d8a58413f\",\"type\":\"CDSView\"},{\"attributes\":{},\"id\":\"8bd9bc11-e0ec-468f-b280-da85615fca19\",\"type\":\"ResetTool\"},{\"attributes\":{\"active_drag\":\"auto\",\"active_inspect\":\"auto\",\"active_scroll\":\"auto\",\"active_tap\":\"auto\",\"tools\":[{\"id\":\"c97f7aca-7134-400f-8b24-1c3a3b3a62b7\",\"type\":\"PanTool\"},{\"id\":\"1c723122-b6d4-4262-8122-9a696d840562\",\"type\":\"WheelZoomTool\"},{\"id\":\"92d14928-dedc-4ff4-9c46-2472de0a751d\",\"type\":\"BoxZoomTool\"},{\"id\":\"61183e67-210a-47fd-aeae-77e4a03b4dad\",\"type\":\"SaveTool\"},{\"id\":\"55ad7c71-7d69-485d-994c-60d3b5754be8\",\"type\":\"ResetTool\"},{\"id\":\"2d2d0e6f-9245-46fc-906b-b5830340fd32\",\"type\":\"HelpTool\"}]},\"id\":\"14f9118b-7d32-4841-8b1e-847861e06cd4\",\"type\":\"Toolbar\"},{\"attributes\":{},\"id\":\"83ecc8c7-ee9b-4f3d-b001-40793fd807a1\",\"type\":\"BasicTickFormatter\"},{\"attributes\":{\"children\":[{\"id\":\"6ff78778-7022-4cb4-8b2f-cb1ec3eec2e0\",\"subtype\":\"Figure\",\"type\":\"Plot\"},{\"id\":\"4f62f18f-fbda-43c3-9da4-b845c58d16ca\",\"subtype\":\"Figure\",\"type\":\"Plot\"},{\"id\":\"62cd2534-56e2-4489-8915-c65729252a87\",\"subtype\":\"Figure\",\"type\":\"Plot\"}]},\"id\":\"b104eb94-f073-449e-8975-4b4f13b78032\",\"type\":\"Row\"},{\"attributes\":{},\"id\":\"c8547185-7a5e-413c-898d-c74c9ec2dc7b\",\"type\":\"Selection\"},{\"attributes\":{},\"id\":\"9f0aaee2-a4c4-4f42-b59f-2a7fc6b043ce\",\"type\":\"CategoricalTickFormatter\"},{\"attributes\":{},\"id\":\"84271ae9-c7d6-428f-ba98-2ec935644578\",\"type\":\"BasicTickFormatter\"},{\"attributes\":{},\"id\":\"cbf5c857-8362-401d-970c-c4d7dbe81a46\",\"type\":\"HelpTool\"},{\"attributes\":{},\"id\":\"17bed457-fe25-4668-b3c8-dc446ccd9d1c\",\"type\":\"WheelZoomTool\"},{\"attributes\":{},\"id\":\"e92a9d47-e133-46e0-8bf8-ffb53bcd4b47\",\"type\":\"SaveTool\"},{\"attributes\":{\"plot\":{\"id\":\"4f62f18f-fbda-43c3-9da4-b845c58d16ca\",\"subtype\":\"Figure\",\"type\":\"Plot\"},\"ticker\":{\"id\":\"f16c95cf-b629-4606-99be-a62257616b2e\",\"type\":\"CategoricalTicker\"}},\"id\":\"217c23ed-6548-41d4-bfd2-2539ac994029\",\"type\":\"Grid\"},{\"attributes\":{\"fill_alpha\":{\"value\":0.1},\"fill_color\":{\"value\":\"#1f77b4\"},\"line_alpha\":{\"value\":0.1},\"line_color\":{\"value\":\"#1f77b4\"},\"top\":{\"field\":\"flux\"},\"width\":{\"value\":0.9},\"x\":{\"field\":\"band\"}},\"id\":\"7762abd1-dbb7-41d9-a32b-fe563b693750\",\"type\":\"VBar\"},{\"attributes\":{\"data_source\":{\"id\":\"eb389abf-fca8-4e3c-afca-d15813fd54c2\",\"type\":\"ColumnDataSource\"},\"glyph\":{\"id\":\"79ee5fad-fb42-4ee7-ba52-f891dc2e44fd\",\"type\":\"VBar\"},\"hover_glyph\":null,\"muted_glyph\":null,\"nonselection_glyph\":{\"id\":\"7762abd1-dbb7-41d9-a32b-fe563b693750\",\"type\":\"VBar\"},\"selection_glyph\":null,\"view\":{\"id\":\"c3043733-d067-41c6-8cb5-d05d8a58413f\",\"type\":\"CDSView\"}},\"id\":\"f6f28c14-584d-40f1-a1dd-fc067a7d9a09\",\"type\":\"GlyphRenderer\"},{\"attributes\":{\"bottom_units\":\"screen\",\"fill_alpha\":{\"value\":0.5},\"fill_color\":{\"value\":\"lightgrey\"},\"left_units\":\"screen\",\"level\":\"overlay\",\"line_alpha\":{\"value\":1.0},\"line_color\":{\"value\":\"black\"},\"line_dash\":[4,4],\"line_width\":{\"value\":2},\"plot\":null,\"render_mode\":\"css\",\"right_units\":\"screen\",\"top_units\":\"screen\"},\"id\":\"a4f76d03-7366-4067-bfe1-2a7f635408b0\",\"type\":\"BoxAnnotation\"},{\"attributes\":{},\"id\":\"c6c4bd18-904f-4236-b982-fff212499f04\",\"type\":\"UnionRenderers\"},{\"attributes\":{\"dimension\":1,\"plot\":{\"id\":\"6ff78778-7022-4cb4-8b2f-cb1ec3eec2e0\",\"subtype\":\"Figure\",\"type\":\"Plot\"},\"ticker\":{\"id\":\"287496cb-4b20-445e-bea9-9e8c9c76fea4\",\"type\":\"BasicTicker\"}},\"id\":\"a3efccb1-fb21-41e3-ae20-a41fa94b2a98\",\"type\":\"Grid\"},{\"attributes\":{\"fill_alpha\":{\"value\":0.1},\"fill_color\":{\"value\":\"#1f77b4\"},\"line_alpha\":{\"value\":0.1},\"line_color\":{\"value\":\"#1f77b4\"},\"top\":{\"field\":\"flux\"},\"width\":{\"value\":0.9},\"x\":{\"field\":\"band\"}},\"id\":\"59354767-a7f4-45f8-bd25-9bd3b93f35ea\",\"type\":\"VBar\"},{\"attributes\":{},\"id\":\"648ceddc-13c3-443d-9416-81e998b8b633\",\"type\":\"BasicTicker\"},{\"attributes\":{},\"id\":\"55ad7c71-7d69-485d-994c-60d3b5754be8\",\"type\":\"ResetTool\"},{\"attributes\":{\"axis_label\":\"spectral band\",\"formatter\":{\"id\":\"a8537074-5d79-4ee7-b0d4-a8e969d758b7\",\"type\":\"CategoricalTickFormatter\"},\"plot\":{\"id\":\"62cd2534-56e2-4489-8915-c65729252a87\",\"subtype\":\"Figure\",\"type\":\"Plot\"},\"ticker\":{\"id\":\"9330e04d-56a5-4974-8103-3550791b600e\",\"type\":\"CategoricalTicker\"}},\"id\":\"704757b5-bfee-4c6f-bcb4-720d724f216b\",\"type\":\"CategoricalAxis\"},{\"attributes\":{\"callback\":null,\"factors\":[\"1\",\"2\",\"3\",\"4\",\"5\",\"6\",\"7\",\"8\",\"9\",\"10\",\"11\"]},\"id\":\"cf3e7c5d-f7b0-4946-8f6e-d0a4309d93d8\",\"type\":\"FactorRange\"},{\"attributes\":{\"overlay\":{\"id\":\"7c614107-f273-495b-8f9a-a81b897b5ff0\",\"type\":\"BoxAnnotation\"}},\"id\":\"92d14928-dedc-4ff4-9c46-2472de0a751d\",\"type\":\"BoxZoomTool\"},{\"attributes\":{\"callback\":null,\"data\":{\"band\":[\"1\",\"2\",\"3\",\"4\",\"5\",\"6\",\"7\",\"8\",\"9\",\"10\",\"11\"],\"flux\":{\"__ndarray__\":\"KspbZHFKXMB8eeDnqMJVwFF2RM/31l7AGZn0tRZzYMAcQpWaPaBgwOS9amXCQmHAoNrgRPSCYsCsqSwKO6dhwKYes/11QGHAL72B8uyGYcAnj11YLTRiwA==\",\"dtype\":\"float64\",\"shape\":[11]}},\"selected\":{\"id\":\"5effac01-9627-4ab1-bef8-2cce952ecbd2\",\"type\":\"Selection\"},\"selection_policy\":{\"id\":\"ae71eb6b-5881-43a1-8bf3-2bd467c539c2\",\"type\":\"UnionRenderers\"}},\"id\":\"79c0bd22-a882-40c8-b001-034eabb8122a\",\"type\":\"ColumnDataSource\"},{\"attributes\":{\"source\":{\"id\":\"53f17f1a-6d1d-4f60-a502-f805c767a4a5\",\"type\":\"ColumnDataSource\"}},\"id\":\"34bd16d9-2be1-4644-a807-08dae5cc9870\",\"type\":\"CDSView\"},{\"attributes\":{},\"id\":\"287496cb-4b20-445e-bea9-9e8c9c76fea4\",\"type\":\"BasicTicker\"},{\"attributes\":{\"below\":[{\"id\":\"704757b5-bfee-4c6f-bcb4-720d724f216b\",\"type\":\"CategoricalAxis\"}],\"left\":[{\"id\":\"c9f7f99c-10ee-41c2-becb-38268b4d701c\",\"type\":\"LinearAxis\"}],\"plot_height\":300,\"plot_width\":300,\"renderers\":[{\"id\":\"704757b5-bfee-4c6f-bcb4-720d724f216b\",\"type\":\"CategoricalAxis\"},{\"id\":\"6caba474-3a64-4f75-9fe0-51cae3be6f4b\",\"type\":\"Grid\"},{\"id\":\"c9f7f99c-10ee-41c2-becb-38268b4d701c\",\"type\":\"LinearAxis\"},{\"id\":\"89ab31fb-7898-4517-b432-bcc4b7b16fd8\",\"type\":\"Grid\"},{\"id\":\"a4f76d03-7366-4067-bfe1-2a7f635408b0\",\"type\":\"BoxAnnotation\"},{\"id\":\"564f47e5-eba8-4471-ae38-128c7a3976d1\",\"type\":\"GlyphRenderer\"}],\"title\":{\"id\":\"7e968f99-e226-4ea3-9b2e-5b4b4976ac59\",\"type\":\"Title\"},\"toolbar\":{\"id\":\"f2068020-2ace-471d-bbef-37bb568e794d\",\"type\":\"Toolbar\"},\"toolbar_location\":null,\"x_range\":{\"id\":\"cf3e7c5d-f7b0-4946-8f6e-d0a4309d93d8\",\"type\":\"FactorRange\"},\"x_scale\":{\"id\":\"87fefc3b-16c6-45f2-8b31-e0287e847bf1\",\"type\":\"CategoricalScale\"},\"y_range\":{\"id\":\"58e7ebc7-e98d-4cda-b5f5-855c35099133\",\"type\":\"DataRange1d\"},\"y_scale\":{\"id\":\"fa256efb-0eba-4cff-9dd7-2f6586f07e41\",\"type\":\"LinearScale\"}},\"id\":\"62cd2534-56e2-4489-8915-c65729252a87\",\"subtype\":\"Figure\",\"type\":\"Plot\"},{\"attributes\":{},\"id\":\"387aff74-dd55-480a-811d-de5b4d8d3c02\",\"type\":\"LinearScale\"},{\"attributes\":{},\"id\":\"fa256efb-0eba-4cff-9dd7-2f6586f07e41\",\"type\":\"LinearScale\"},{\"attributes\":{\"below\":[{\"id\":\"3b6b4511-1c0b-456d-b42f-4546e179d3ea\",\"type\":\"CategoricalAxis\"}],\"left\":[{\"id\":\"1bc21fab-1593-449d-b52b-d3e891179fba\",\"type\":\"LinearAxis\"}],\"plot_height\":300,\"plot_width\":300,\"renderers\":[{\"id\":\"3b6b4511-1c0b-456d-b42f-4546e179d3ea\",\"type\":\"CategoricalAxis\"},{\"id\":\"d5570e0a-474d-4af3-9412-20c52ccae5ce\",\"type\":\"Grid\"},{\"id\":\"1bc21fab-1593-449d-b52b-d3e891179fba\",\"type\":\"LinearAxis\"},{\"id\":\"a3efccb1-fb21-41e3-ae20-a41fa94b2a98\",\"type\":\"Grid\"},{\"id\":\"7c614107-f273-495b-8f9a-a81b897b5ff0\",\"type\":\"BoxAnnotation\"},{\"id\":\"5bc417ba-01fc-41f6-a2a2-1b81eeffed5b\",\"type\":\"GlyphRenderer\"}],\"title\":{\"id\":\"7e1bd93b-d724-41dc-bb36-3277b71c70c8\",\"type\":\"Title\"},\"toolbar\":{\"id\":\"14f9118b-7d32-4841-8b1e-847861e06cd4\",\"type\":\"Toolbar\"},\"toolbar_location\":null,\"x_range\":{\"id\":\"40c09417-0e55-4ba6-ae8e-26867f73addb\",\"type\":\"FactorRange\"},\"x_scale\":{\"id\":\"be095c72-d7fe-4955-b9a9-44e9b1bd4649\",\"type\":\"CategoricalScale\"},\"y_range\":{\"id\":\"2a0f0c62-c003-41de-9055-e9483a93fb07\",\"type\":\"DataRange1d\"},\"y_scale\":{\"id\":\"387aff74-dd55-480a-811d-de5b4d8d3c02\",\"type\":\"LinearScale\"}},\"id\":\"6ff78778-7022-4cb4-8b2f-cb1ec3eec2e0\",\"subtype\":\"Figure\",\"type\":\"Plot\"},{\"attributes\":{\"plot\":null,\"text\":\"Atmosphere heating. CLIRAD (single-run) - CRD.\"},\"id\":\"7e968f99-e226-4ea3-9b2e-5b4b4976ac59\",\"type\":\"Title\"},{\"attributes\":{\"dimension\":1,\"plot\":{\"id\":\"62cd2534-56e2-4489-8915-c65729252a87\",\"subtype\":\"Figure\",\"type\":\"Plot\"},\"ticker\":{\"id\":\"648ceddc-13c3-443d-9416-81e998b8b633\",\"type\":\"BasicTicker\"}},\"id\":\"89ab31fb-7898-4517-b432-bcc4b7b16fd8\",\"type\":\"Grid\"},{\"attributes\":{\"callback\":null,\"data\":{\"band\":[\"1\",\"2\",\"3\",\"4\",\"5\",\"6\",\"7\",\"8\",\"9\",\"10\",\"11\"],\"flux\":{\"__ndarray__\":\"gCVXsXiAb0Do1JXPcmNrQHS0qiXdtXBAJvvnaUAhcEBkBb8NMZJxQO86G/IPUXJAqVA4Fq+NckCc3VomI4VyQA2mYfgImHFAwRvSqMDWcEDWqyOi87dyQA==\",\"dtype\":\"float64\",\"shape\":[11]}},\"selected\":{\"id\":\"1b83c7f7-d478-40e2-a5da-9abe1c36d1b2\",\"type\":\"Selection\"},\"selection_policy\":{\"id\":\"12a851e1-3928-4dff-85c3-bd30e172e55f\",\"type\":\"UnionRenderers\"}},\"id\":\"eb389abf-fca8-4e3c-afca-d15813fd54c2\",\"type\":\"ColumnDataSource\"},{\"attributes\":{},\"id\":\"a7f1dd77-27cf-4d3d-8c41-555e113a1880\",\"type\":\"CategoricalTicker\"},{\"attributes\":{\"data_source\":{\"id\":\"53f17f1a-6d1d-4f60-a502-f805c767a4a5\",\"type\":\"ColumnDataSource\"},\"glyph\":{\"id\":\"6cf84bbc-db25-4ed1-bf34-65cafac9de9f\",\"type\":\"VBar\"},\"hover_glyph\":null,\"muted_glyph\":null,\"nonselection_glyph\":{\"id\":\"59354767-a7f4-45f8-bd25-9bd3b93f35ea\",\"type\":\"VBar\"},\"selection_glyph\":null,\"view\":{\"id\":\"34bd16d9-2be1-4644-a807-08dae5cc9870\",\"type\":\"CDSView\"}},\"id\":\"5bc417ba-01fc-41f6-a2a2-1b81eeffed5b\",\"type\":\"GlyphRenderer\"},{\"attributes\":{\"active_drag\":\"auto\",\"active_inspect\":\"auto\",\"active_scroll\":\"auto\",\"active_tap\":\"auto\",\"tools\":[{\"id\":\"c0aa2dcf-f50f-4cd3-bbc5-7fa2f9c65e2b\",\"type\":\"PanTool\"},{\"id\":\"d6fed305-ddae-4eb0-b1db-8debcf038e1f\",\"type\":\"WheelZoomTool\"},{\"id\":\"2793782d-5c70-467c-9f2c-d29ed984e53d\",\"type\":\"BoxZoomTool\"},{\"id\":\"e92a9d47-e133-46e0-8bf8-ffb53bcd4b47\",\"type\":\"SaveTool\"},{\"id\":\"a00ccc78-8544-4028-8357-688781173b77\",\"type\":\"ResetTool\"},{\"id\":\"cbf5c857-8362-401d-970c-c4d7dbe81a46\",\"type\":\"HelpTool\"}]},\"id\":\"c399016e-0309-41f7-96c0-fdfafdd111b2\",\"type\":\"Toolbar\"},{\"attributes\":{\"axis_label\":\"spectral band\",\"formatter\":{\"id\":\"9f0aaee2-a4c4-4f42-b59f-2a7fc6b043ce\",\"type\":\"CategoricalTickFormatter\"},\"plot\":{\"id\":\"6ff78778-7022-4cb4-8b2f-cb1ec3eec2e0\",\"subtype\":\"Figure\",\"type\":\"Plot\"},\"ticker\":{\"id\":\"a7f1dd77-27cf-4d3d-8c41-555e113a1880\",\"type\":\"CategoricalTicker\"}},\"id\":\"3b6b4511-1c0b-456d-b42f-4546e179d3ea\",\"type\":\"CategoricalAxis\"},{\"attributes\":{\"fill_color\":{\"value\":\"#1f77b4\"},\"line_color\":{\"value\":\"#1f77b4\"},\"top\":{\"field\":\"flux\"},\"width\":{\"value\":0.9},\"x\":{\"field\":\"band\"}},\"id\":\"69227499-064d-4397-9323-5524d20d2055\",\"type\":\"VBar\"},{\"attributes\":{},\"id\":\"be095c72-d7fe-4955-b9a9-44e9b1bd4649\",\"type\":\"CategoricalScale\"},{\"attributes\":{\"active_drag\":\"auto\",\"active_inspect\":\"auto\",\"active_scroll\":\"auto\",\"active_tap\":\"auto\",\"tools\":[{\"id\":\"05550fab-b4d0-46da-bc75-bc0f83422722\",\"type\":\"PanTool\"},{\"id\":\"17bed457-fe25-4668-b3c8-dc446ccd9d1c\",\"type\":\"WheelZoomTool\"},{\"id\":\"cc6ac58a-8b37-4001-8558-6fc3d19daad1\",\"type\":\"BoxZoomTool\"},{\"id\":\"3807ec2b-c821-40bb-b4f5-2bb68ad41c3f\",\"type\":\"SaveTool\"},{\"id\":\"8bd9bc11-e0ec-468f-b280-da85615fca19\",\"type\":\"ResetTool\"},{\"id\":\"9fa3af9d-3af3-4e96-a573-4e570ea5f5f0\",\"type\":\"HelpTool\"}]},\"id\":\"f2068020-2ace-471d-bbef-37bb568e794d\",\"type\":\"Toolbar\"},{\"attributes\":{\"fill_color\":{\"value\":\"#1f77b4\"},\"line_color\":{\"value\":\"#1f77b4\"},\"top\":{\"field\":\"flux\"},\"width\":{\"value\":0.9},\"x\":{\"field\":\"band\"}},\"id\":\"6cf84bbc-db25-4ed1-bf34-65cafac9de9f\",\"type\":\"VBar\"},{\"attributes\":{},\"id\":\"1c723122-b6d4-4262-8122-9a696d840562\",\"type\":\"WheelZoomTool\"},{\"attributes\":{\"plot\":{\"id\":\"62cd2534-56e2-4489-8915-c65729252a87\",\"subtype\":\"Figure\",\"type\":\"Plot\"},\"ticker\":{\"id\":\"9330e04d-56a5-4974-8103-3550791b600e\",\"type\":\"CategoricalTicker\"}},\"id\":\"6caba474-3a64-4f75-9fe0-51cae3be6f4b\",\"type\":\"Grid\"},{\"attributes\":{\"axis_label\":\"flux (W m-2)\",\"formatter\":{\"id\":\"83ecc8c7-ee9b-4f3d-b001-40793fd807a1\",\"type\":\"BasicTickFormatter\"},\"plot\":{\"id\":\"6ff78778-7022-4cb4-8b2f-cb1ec3eec2e0\",\"subtype\":\"Figure\",\"type\":\"Plot\"},\"ticker\":{\"id\":\"287496cb-4b20-445e-bea9-9e8c9c76fea4\",\"type\":\"BasicTicker\"}},\"id\":\"1bc21fab-1593-449d-b52b-d3e891179fba\",\"type\":\"LinearAxis\"},{\"attributes\":{\"axis_label\":\"flux (W m-2)\",\"formatter\":{\"id\":\"ebf4ddd5-e3d5-49b8-a073-95d475c961d9\",\"type\":\"BasicTickFormatter\"},\"plot\":{\"id\":\"62cd2534-56e2-4489-8915-c65729252a87\",\"subtype\":\"Figure\",\"type\":\"Plot\"},\"ticker\":{\"id\":\"648ceddc-13c3-443d-9416-81e998b8b633\",\"type\":\"BasicTicker\"}},\"id\":\"c9f7f99c-10ee-41c2-becb-38268b4d701c\",\"type\":\"LinearAxis\"},{\"attributes\":{\"plot\":{\"id\":\"6ff78778-7022-4cb4-8b2f-cb1ec3eec2e0\",\"subtype\":\"Figure\",\"type\":\"Plot\"},\"ticker\":{\"id\":\"a7f1dd77-27cf-4d3d-8c41-555e113a1880\",\"type\":\"CategoricalTicker\"}},\"id\":\"d5570e0a-474d-4af3-9412-20c52ccae5ce\",\"type\":\"Grid\"},{\"attributes\":{},\"id\":\"5effac01-9627-4ab1-bef8-2cce952ecbd2\",\"type\":\"Selection\"},{\"attributes\":{},\"id\":\"61183e67-210a-47fd-aeae-77e4a03b4dad\",\"type\":\"SaveTool\"},{\"attributes\":{},\"id\":\"87fefc3b-16c6-45f2-8b31-e0287e847bf1\",\"type\":\"CategoricalScale\"},{\"attributes\":{\"callback\":null},\"id\":\"51a1329f-9a4f-4d9f-a010-d49b51fa8c7b\",\"type\":\"DataRange1d\"},{\"attributes\":{\"callback\":null,\"data\":{\"band\":[\"1\",\"2\",\"3\",\"4\",\"5\",\"6\",\"7\",\"8\",\"9\",\"10\",\"11\"],\"flux\":{\"__ndarray__\":\"mDWxwNe4cMCWRWEXRRduwLQ8D+5OTHHAJq34hoLbccC0dtuFpj5xwON2aFgMnm3AthX7y248ccC+h0uOu2FxwIfkZOIWDXLAEabN3VNjcsCBgXv5eJNywA==\",\"dtype\":\"float64\",\"shape\":[11]}},\"selected\":{\"id\":\"c8547185-7a5e-413c-898d-c74c9ec2dc7b\",\"type\":\"Selection\"},\"selection_policy\":{\"id\":\"c6c4bd18-904f-4236-b982-fff212499f04\",\"type\":\"UnionRenderers\"}},\"id\":\"53f17f1a-6d1d-4f60-a502-f805c767a4a5\",\"type\":\"ColumnDataSource\"},{\"attributes\":{\"bottom_units\":\"screen\",\"fill_alpha\":{\"value\":0.5},\"fill_color\":{\"value\":\"lightgrey\"},\"left_units\":\"screen\",\"level\":\"overlay\",\"line_alpha\":{\"value\":1.0},\"line_color\":{\"value\":\"black\"},\"line_dash\":[4,4],\"line_width\":{\"value\":2},\"plot\":null,\"render_mode\":\"css\",\"right_units\":\"screen\",\"top_units\":\"screen\"},\"id\":\"7c614107-f273-495b-8f9a-a81b897b5ff0\",\"type\":\"BoxAnnotation\"},{\"attributes\":{},\"id\":\"2d2d0e6f-9245-46fc-906b-b5830340fd32\",\"type\":\"HelpTool\"},{\"attributes\":{},\"id\":\"c97f7aca-7134-400f-8b24-1c3a3b3a62b7\",\"type\":\"PanTool\"},{\"attributes\":{\"below\":[{\"id\":\"848b50f5-15e6-4089-b11c-29cb754668c5\",\"type\":\"CategoricalAxis\"}],\"left\":[{\"id\":\"d4223760-aec7-4e5e-a4b0-25f23e25fe88\",\"type\":\"LinearAxis\"}],\"plot_height\":300,\"plot_width\":300,\"renderers\":[{\"id\":\"848b50f5-15e6-4089-b11c-29cb754668c5\",\"type\":\"CategoricalAxis\"},{\"id\":\"217c23ed-6548-41d4-bfd2-2539ac994029\",\"type\":\"Grid\"},{\"id\":\"d4223760-aec7-4e5e-a4b0-25f23e25fe88\",\"type\":\"LinearAxis\"},{\"id\":\"b6bbb2c0-5497-435f-9151-871e0cd55ebe\",\"type\":\"Grid\"},{\"id\":\"6c85fcf9-1fae-4748-828f-9dc0802e0ea7\",\"type\":\"BoxAnnotation\"},{\"id\":\"f6f28c14-584d-40f1-a1dd-fc067a7d9a09\",\"type\":\"GlyphRenderer\"}],\"title\":{\"id\":\"adbac21f-3e08-4c2c-9573-b003c87aa283\",\"type\":\"Title\"},\"toolbar\":{\"id\":\"c399016e-0309-41f7-96c0-fdfafdd111b2\",\"type\":\"Toolbar\"},\"toolbar_location\":null,\"x_range\":{\"id\":\"42013551-dd58-4055-ae62-c30afccda1b7\",\"type\":\"FactorRange\"},\"x_scale\":{\"id\":\"b5ee6da2-158f-4dce-922c-fbceed4a9278\",\"type\":\"CategoricalScale\"},\"y_range\":{\"id\":\"51a1329f-9a4f-4d9f-a010-d49b51fa8c7b\",\"type\":\"DataRange1d\"},\"y_scale\":{\"id\":\"a6ae86c6-4529-4292-8b22-bce55f01ecc9\",\"type\":\"LinearScale\"}},\"id\":\"4f62f18f-fbda-43c3-9da4-b845c58d16ca\",\"subtype\":\"Figure\",\"type\":\"Plot\"},{\"attributes\":{\"callback\":null},\"id\":\"58e7ebc7-e98d-4cda-b5f5-855c35099133\",\"type\":\"DataRange1d\"},{\"attributes\":{\"callback\":null,\"factors\":[\"1\",\"2\",\"3\",\"4\",\"5\",\"6\",\"7\",\"8\",\"9\",\"10\",\"11\"]},\"id\":\"42013551-dd58-4055-ae62-c30afccda1b7\",\"type\":\"FactorRange\"},{\"attributes\":{},\"id\":\"9330e04d-56a5-4974-8103-3550791b600e\",\"type\":\"CategoricalTicker\"}],\"root_ids\":[\"1da825da-50e9-47f9-8a3a-9f17b5f778ce\"]},\"title\":\"Bokeh Application\",\"version\":\"0.12.16\"}};\n",
       "  var render_items = [{\"docid\":\"dbc66e98-dc11-4390-b028-072901eb3e66\",\"elementid\":\"1cfc433f-3ded-4024-9ec2-ad25f7b631bd\",\"modelid\":\"1da825da-50e9-47f9-8a3a-9f17b5f778ce\"}];\n",
       "  root.Bokeh.embed.embed_items_notebook(docs_json, render_items);\n",
       "\n",
       "  }\n",
       "  if (root.Bokeh !== undefined) {\n",
       "    embed_document(root);\n",
       "  } else {\n",
       "    var attempts = 0;\n",
       "    var timer = setInterval(function(root) {\n",
       "      if (root.Bokeh !== undefined) {\n",
       "        embed_document(root);\n",
       "        clearInterval(timer);\n",
       "      }\n",
       "      attempts++;\n",
       "      if (attempts > 100) {\n",
       "        console.log(\"Bokeh: ERROR: Unable to run BokehJS code because BokehJS library is missing\")\n",
       "        clearInterval(timer);\n",
       "      }\n",
       "    }, 10, root)\n",
       "  }\n",
       "})(window);"
      ],
      "application/vnd.bokehjs_exec.v0+json": ""
     },
     "metadata": {
      "application/vnd.bokehjs_exec.v0+json": {
       "id": "1da825da-50e9-47f9-8a3a-9f17b5f778ce"
      }
     },
     "output_type": "display_data"
    },
    {
     "data": {
      "text/markdown": [
       "*FIGURE.* Difference between CLIRAD and CRD in TOA, SFC and net atmosphere flux, in each spectral band."
      ],
      "text/plain": [
       "<IPython.core.display.Markdown object>"
      ]
     },
     "metadata": {},
     "output_type": "display_data"
    },
    {
     "data": {
      "text/html": [
       "<div>\n",
       "<style scoped>\n",
       "    .dataframe tbody tr th:only-of-type {\n",
       "        vertical-align: middle;\n",
       "    }\n",
       "\n",
       "    .dataframe tbody tr th {\n",
       "        vertical-align: top;\n",
       "    }\n",
       "\n",
       "    .dataframe thead th {\n",
       "        text-align: right;\n",
       "    }\n",
       "</style>\n",
       "<table border=\"1\" class=\"dataframe\">\n",
       "  <thead>\n",
       "    <tr style=\"text-align: right;\">\n",
       "      <th></th>\n",
       "      <th>OLR flux</th>\n",
       "      <th>SFC flux</th>\n",
       "      <th>ATM heating</th>\n",
       "    </tr>\n",
       "    <tr>\n",
       "      <th>Sum over bands</th>\n",
       "      <th></th>\n",
       "      <th></th>\n",
       "      <th></th>\n",
       "    </tr>\n",
       "  </thead>\n",
       "  <tbody>\n",
       "    <tr>\n",
       "      <th>CLIRAD (single-run) - CRD</th>\n",
       "      <td>1.48</td>\n",
       "      <td>-32.55</td>\n",
       "      <td>34.03</td>\n",
       "    </tr>\n",
       "    <tr>\n",
       "      <th>CRD</th>\n",
       "      <td>-303.40</td>\n",
       "      <td>337.24</td>\n",
       "      <td>-181.37</td>\n",
       "    </tr>\n",
       "  </tbody>\n",
       "</table>\n",
       "</div>"
      ],
      "text/plain": [
       "                           OLR flux  SFC flux  ATM heating\n",
       "Sum over bands                                            \n",
       "CLIRAD (single-run) - CRD      1.48    -32.55        34.03\n",
       "CRD                         -303.40    337.24      -181.37"
      ]
     },
     "metadata": {},
     "output_type": "display_data"
    },
    {
     "data": {
      "text/markdown": [
       "*TABLE.* Difference between CLIRAD and CRD in TOA, SFC and net atmosphere flux, over all spectral bands. CRD's TOA, SFC and net atmosphere flux, over all spectral bands."
      ],
      "text/plain": [
       "<IPython.core.display.Markdown object>"
      ]
     },
     "metadata": {},
     "output_type": "display_data"
    }
   ],
   "source": [
    "def show_html(s):\n",
    "    display.display(display.HTML(s))\n",
    "\n",
    "    \n",
    "def show_markdown(s):\n",
    "    display.display(display.Markdown(s))\n",
    "\n",
    "\n",
    "def script():\n",
    "    \n",
    "    d_atm = {'mls': 'mid-latitude summer',\n",
    "             'saw': 'sub-arctic winter',\n",
    "             'trp': 'tropical'}\n",
    "    \n",
    "    title = ('## Results over entire range of molecules'\n",
    "             ' and spectral bands')\n",
    "    \n",
    "    s_makeup = 'Makeup of atmosphere.'\n",
    "    s_atmpro = '# {}'\n",
    "    s_cool = 'Cooling rates. {}.'\n",
    "    s_flux = 'Fluxes. {}.'\n",
    "    \n",
    "    atmpros = ['mls', 'saw', 'trp']\n",
    "    \n",
    "    # TOC\n",
    "    show_markdown(title)\n",
    "    show_markdown('### Table of Contents')\n",
    "    show_html(climahtml.getHTML_hrefanchor(s_makeup))\n",
    "    for atmpro in atmpros:\n",
    "        show_markdown('**' + d_atm[atmpro] + '**')\n",
    "        show_html(climahtml.getHTML_hrefanchor(s_cool.format(atmpro)))\n",
    "        show_html(climahtml.getHTML_hrefanchor(s_flux.format(atmpro)))\n",
    "\n",
    "        \n",
    "    # Atmosphere makeup\n",
    "    show_html(climahtml.getHTML_idanchor(s_makeup))\n",
    "    show_markdown(climahtml.getMarkdown_sectitle(s_makeup))\n",
    "    show_makeup()\n",
    "    show_grey_makeup()\n",
    "        \n",
    "    for atmpro in atmpros:\n",
    "        show_html(climahtml.getHTML_idanchor(s_cool.format(atmpro)))\n",
    "        show_markdown(\n",
    "            climahtml.getMarkdown_sectitle(s_cool.format(atmpro)))\n",
    "        show_cool(atmpro=atmpro)\n",
    "        show_html(climahtml.getHTML_idanchor(s_flux.format(atmpro)))\n",
    "        show_markdown(\n",
    "            climahtml.getMarkdown_sectitle(s_flux.format(atmpro)))\n",
    "        show_hist_flux(atmpro=atmpro)\n",
    "        show_tb_flux(atmpro=atmpro)\n",
    "    \n",
    "    \n",
    "script()  "
   ]
  },
  {
   "cell_type": "code",
   "execution_count": null,
   "metadata": {
    "collapsed": true
   },
   "outputs": [],
   "source": []
  },
  {
   "cell_type": "code",
   "execution_count": 805,
   "metadata": {},
   "outputs": [
    {
     "data": {
      "text/html": [
       "<script>\n",
       "code_show=true; \n",
       "function code_toggle() {\n",
       " if (code_show){\n",
       " $('div.input').hide();\n",
       " } else {\n",
       " $('div.input').show();\n",
       " }\n",
       " code_show = !code_show\n",
       "} \n",
       "$( document ).ready(code_toggle);\n",
       "</script>\n",
       "<form action=\"javascript:code_toggle()\"><input type=\"submit\" value=\"Click here to toggle on/off the raw code.\"></form>"
      ],
      "text/plain": [
       "<IPython.core.display.HTML object>"
      ]
     },
     "execution_count": 805,
     "metadata": {},
     "output_type": "execute_result"
    }
   ],
   "source": [
    "display.HTML('''<script>\n",
    "code_show=true; \n",
    "function code_toggle() {\n",
    " if (code_show){\n",
    " $('div.input').hide();\n",
    " } else {\n",
    " $('div.input').show();\n",
    " }\n",
    " code_show = !code_show\n",
    "} \n",
    "$( document ).ready(code_toggle);\n",
    "</script>\n",
    "<form action=\"javascript:code_toggle()\"><input type=\"submit\" value=\"Click here to toggle on/off the raw code.\"></form>''')"
   ]
  },
  {
   "cell_type": "code",
   "execution_count": null,
   "metadata": {
    "collapsed": true
   },
   "outputs": [],
   "source": []
  }
 ],
 "metadata": {
  "kernelspec": {
   "display_name": "Python 3",
   "language": "python",
   "name": "python3"
  },
  "language_info": {
   "codemirror_mode": {
    "name": "ipython",
    "version": 3
   },
   "file_extension": ".py",
   "mimetype": "text/x-python",
   "name": "python",
   "nbconvert_exporter": "python",
   "pygments_lexer": "ipython3",
   "version": "3.6.1"
  }
 },
 "nbformat": 4,
 "nbformat_minor": 2
}
